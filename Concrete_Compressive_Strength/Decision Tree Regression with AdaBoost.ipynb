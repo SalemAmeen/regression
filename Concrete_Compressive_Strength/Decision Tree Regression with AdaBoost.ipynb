{
 "cells": [
  {
   "cell_type": "markdown",
   "metadata": {},
   "source": [
    "Salem Ameen, PhD student at Salford University\n",
    "\n",
    "### Concrete Compressive Strength Data Set\n",
    "\n",
    "Decision trees Regression"
   ]
  },
  {
   "cell_type": "markdown",
   "metadata": {},
   "source": [
    "# Import the Libraries"
   ]
  },
  {
   "cell_type": "code",
   "execution_count": 1,
   "metadata": {
    "collapsed": false
   },
   "outputs": [
    {
     "data": {
      "text/html": [
       "\n",
       "    <div class=\"bk-root\">\n",
       "        <a href=\"http://bokeh.pydata.org\" target=\"_blank\" class=\"bk-logo bk-logo-small bk-logo-notebook\"></a>\n",
       "        <span id=\"cc779d25-a833-4cff-b940-556c40b12842\">Loading BokehJS ...</span>\n",
       "    </div>"
      ]
     },
     "metadata": {},
     "output_type": "display_data"
    },
    {
     "data": {
      "application/javascript": [
       "\n",
       "(function(global) {\n",
       "  function now() {\n",
       "    return new Date();\n",
       "  }\n",
       "\n",
       "  var force = \"1\";\n",
       "\n",
       "  if (typeof (window._bokeh_onload_callbacks) === \"undefined\" || force !== \"\") {\n",
       "    window._bokeh_onload_callbacks = [];\n",
       "    window._bokeh_is_loading = undefined;\n",
       "  }\n",
       "\n",
       "\n",
       "  \n",
       "  if (typeof (window._bokeh_timeout) === \"undefined\" || force !== \"\") {\n",
       "    window._bokeh_timeout = Date.now() + 5000;\n",
       "    window._bokeh_failed_load = false;\n",
       "  }\n",
       "\n",
       "  var NB_LOAD_WARNING = {'data': {'text/html':\n",
       "     \"<div style='background-color: #fdd'>\\n\"+\n",
       "     \"<p>\\n\"+\n",
       "     \"BokehJS does not appear to have successfully loaded. If loading BokehJS from CDN, this \\n\"+\n",
       "     \"may be due to a slow or bad network connection. Possible fixes:\\n\"+\n",
       "     \"</p>\\n\"+\n",
       "     \"<ul>\\n\"+\n",
       "     \"<li>re-rerun `output_notebook()` to attempt to load from CDN again, or</li>\\n\"+\n",
       "     \"<li>use INLINE resources instead, as so:</li>\\n\"+\n",
       "     \"</ul>\\n\"+\n",
       "     \"<code>\\n\"+\n",
       "     \"from bokeh.resources import INLINE\\n\"+\n",
       "     \"output_notebook(resources=INLINE)\\n\"+\n",
       "     \"</code>\\n\"+\n",
       "     \"</div>\"}};\n",
       "\n",
       "  function display_loaded() {\n",
       "    if (window.Bokeh !== undefined) {\n",
       "      Bokeh.$(\"#cc779d25-a833-4cff-b940-556c40b12842\").text(\"BokehJS successfully loaded.\");\n",
       "    } else if (Date.now() < window._bokeh_timeout) {\n",
       "      setTimeout(display_loaded, 100)\n",
       "    }\n",
       "  }\n",
       "\n",
       "  function run_callbacks() {\n",
       "    window._bokeh_onload_callbacks.forEach(function(callback) { callback() });\n",
       "    delete window._bokeh_onload_callbacks\n",
       "    console.info(\"Bokeh: all callbacks have finished\");\n",
       "  }\n",
       "\n",
       "  function load_libs(js_urls, callback) {\n",
       "    window._bokeh_onload_callbacks.push(callback);\n",
       "    if (window._bokeh_is_loading > 0) {\n",
       "      console.log(\"Bokeh: BokehJS is being loaded, scheduling callback at\", now());\n",
       "      return null;\n",
       "    }\n",
       "    if (js_urls == null || js_urls.length === 0) {\n",
       "      run_callbacks();\n",
       "      return null;\n",
       "    }\n",
       "    console.log(\"Bokeh: BokehJS not loaded, scheduling load and callback at\", now());\n",
       "    window._bokeh_is_loading = js_urls.length;\n",
       "    for (var i = 0; i < js_urls.length; i++) {\n",
       "      var url = js_urls[i];\n",
       "      var s = document.createElement('script');\n",
       "      s.src = url;\n",
       "      s.async = false;\n",
       "      s.onreadystatechange = s.onload = function() {\n",
       "        window._bokeh_is_loading--;\n",
       "        if (window._bokeh_is_loading === 0) {\n",
       "          console.log(\"Bokeh: all BokehJS libraries loaded\");\n",
       "          run_callbacks()\n",
       "        }\n",
       "      };\n",
       "      s.onerror = function() {\n",
       "        console.warn(\"failed to load library \" + url);\n",
       "      };\n",
       "      console.log(\"Bokeh: injecting script tag for BokehJS library: \", url);\n",
       "      document.getElementsByTagName(\"head\")[0].appendChild(s);\n",
       "    }\n",
       "  };var element = document.getElementById(\"cc779d25-a833-4cff-b940-556c40b12842\");\n",
       "  if (element == null) {\n",
       "    console.log(\"Bokeh: ERROR: autoload.js configured with elementid 'cc779d25-a833-4cff-b940-556c40b12842' but no matching script tag was found. \")\n",
       "    return false;\n",
       "  }\n",
       "\n",
       "  var js_urls = ['https://cdn.pydata.org/bokeh/release/bokeh-0.12.2.min.js', 'https://cdn.pydata.org/bokeh/release/bokeh-widgets-0.12.2.min.js', 'https://cdn.pydata.org/bokeh/release/bokeh-compiler-0.12.2.min.js'];\n",
       "\n",
       "  var inline_js = [\n",
       "    function(Bokeh) {\n",
       "      Bokeh.set_log_level(\"info\");\n",
       "    },\n",
       "    \n",
       "    function(Bokeh) {\n",
       "      \n",
       "      Bokeh.$(\"#cc779d25-a833-4cff-b940-556c40b12842\").text(\"BokehJS is loading...\");\n",
       "    },\n",
       "    function(Bokeh) {\n",
       "      console.log(\"Bokeh: injecting CSS: https://cdn.pydata.org/bokeh/release/bokeh-0.12.2.min.css\");\n",
       "      Bokeh.embed.inject_css(\"https://cdn.pydata.org/bokeh/release/bokeh-0.12.2.min.css\");\n",
       "      console.log(\"Bokeh: injecting CSS: https://cdn.pydata.org/bokeh/release/bokeh-widgets-0.12.2.min.css\");\n",
       "      Bokeh.embed.inject_css(\"https://cdn.pydata.org/bokeh/release/bokeh-widgets-0.12.2.min.css\");\n",
       "    }\n",
       "  ];\n",
       "\n",
       "  function run_inline_js() {\n",
       "    \n",
       "    if ((window.Bokeh !== undefined) || (force === \"1\")) {\n",
       "      for (var i = 0; i < inline_js.length; i++) {\n",
       "        inline_js[i](window.Bokeh);\n",
       "      }if (force === \"1\") {\n",
       "        display_loaded();\n",
       "      }} else if (Date.now() < window._bokeh_timeout) {\n",
       "      setTimeout(run_inline_js, 100);\n",
       "    } else if (!window._bokeh_failed_load) {\n",
       "      console.log(\"Bokeh: BokehJS failed to load within specified timeout.\");\n",
       "      window._bokeh_failed_load = true;\n",
       "    } else if (!force) {\n",
       "      var cell = $(\"#cc779d25-a833-4cff-b940-556c40b12842\").parents('.cell').data().cell;\n",
       "      cell.output_area.append_execute_result(NB_LOAD_WARNING)\n",
       "    }\n",
       "\n",
       "  }\n",
       "\n",
       "  if (window._bokeh_is_loading === 0) {\n",
       "    console.log(\"Bokeh: BokehJS loaded, going straight to plotting\");\n",
       "    run_inline_js();\n",
       "  } else {\n",
       "    load_libs(js_urls, function() {\n",
       "      console.log(\"Bokeh: BokehJS plotting callback run at\", now());\n",
       "      run_inline_js();\n",
       "    });\n",
       "  }\n",
       "}(this));"
      ]
     },
     "metadata": {},
     "output_type": "display_data"
    }
   ],
   "source": [
    "import numpy as np\n",
    "import pandas\n",
    "from numpy import *\n",
    "import time\n",
    "import sys\n",
    "import pandas as pd\n",
    "import matplotlib.pyplot as plt\n",
    "from sklearn import feature_selection\n",
    "from sklearn.tree import DecisionTreeRegressor\n",
    "from sklearn.learning_curve import learning_curve, validation_curve\n",
    "from sklearn.cross_validation import cross_val_predict\n",
    "from sklearn import metrics, grid_search, cross_validation\n",
    "from IPython.display import set_matplotlib_formats\n",
    "from bokeh.plotting import figure, show, output_notebook\n",
    "from sklearn.grid_search import GridSearchCV, RandomizedSearchCV\n",
    "from sklearn.metrics import r2_score\n",
    "from bokeh.layouts import gridplot\n",
    "output_notebook()\n",
    "set_matplotlib_formats('png', 'pdf')\n",
    "%matplotlib inline\n",
    "plt.rcParams['figure.figsize'] = (6, 6)"
   ]
  },
  {
   "cell_type": "markdown",
   "metadata": {},
   "source": [
    "# Load data"
   ]
  },
  {
   "cell_type": "markdown",
   "metadata": {},
   "source": [
    "In the previous file we have not change the data as there is no missing value or add any new parameters so it can be downloaded from the web directly. "
   ]
  },
  {
   "cell_type": "code",
   "execution_count": 2,
   "metadata": {
    "collapsed": false
   },
   "outputs": [
    {
     "name": "stdout",
     "output_type": "stream",
     "text": [
      "Number of examples 1030\n"
     ]
    }
   ],
   "source": [
    "names = ['Cement','BlastFurnace','Fly_Ash','Water','Superplasticizer','CoarseAggregate','Aggregate','day','Concrete']\n",
    "feature_names = names\n",
    "feature_cols = names\n",
    "\n",
    "data = pd.read_excel('Concrete_Data.xls', sep='%s')\n",
    "\n",
    "from sklearn import preprocessing\n",
    "\n",
    "def number_encode_features(df):\n",
    "    result = df.copy()\n",
    "    encoders = {}\n",
    "    for column in result.columns:\n",
    "        if result.dtypes[column] == np.object:\n",
    "            encoders[column] = preprocessing.LabelEncoder()\n",
    "            result[column] = encoders[column].fit_transform(result[column])\n",
    "    return result, encoders\n",
    "\n",
    "data, _ = number_encode_features(data)\n",
    "\n",
    "dataset = data.values\n",
    "X = dataset[:,0:8]\n",
    "Y = dataset[:,8]\n",
    "print 'Number of examples',len(X)"
   ]
  },
  {
   "cell_type": "code",
   "execution_count": 3,
   "metadata": {
    "collapsed": false
   },
   "outputs": [
    {
     "name": "stdout",
     "output_type": "stream",
     "text": [
      "Number of training examples 824\n",
      "Number of validation examples 206\n"
     ]
    }
   ],
   "source": [
    "# Make developement dataset for genrilization and final testing\n",
    "from sklearn.cross_validation import train_test_split\n",
    "# Extracting 20% testing data\n",
    "X_train, X_test, y_train, y_test = train_test_split(\n",
    "    X, Y, test_size=0.20, random_state=0)\n",
    "X = X_train\n",
    "Y = y_train\n",
    "new_data      = X_train\n",
    "new_test_data = X_test\n",
    "print 'Number of training examples',len(X_train)\n",
    "print 'Number of validation examples',len(X_test)"
   ]
  },
  {
   "cell_type": "markdown",
   "metadata": {},
   "source": [
    "Number of training data is very small so we need to use cross validation instead of spareate another validation data."
   ]
  },
  {
   "cell_type": "markdown",
   "metadata": {},
   "source": [
    "From the previous visulization the data has no missing value but has many outlier and some sparisty"
   ]
  },
  {
   "cell_type": "markdown",
   "metadata": {},
   "source": [
    "# Ranking of the feature's importance to the target"
   ]
  },
  {
   "cell_type": "code",
   "execution_count": 4,
   "metadata": {
    "collapsed": false
   },
   "outputs": [
    {
     "name": "stdout",
     "output_type": "stream",
     "text": [
      "Cement \t0.570609849298\n",
      "BlastFurnace \t0.387739159115\n",
      "Fly_Ash \t0.150107863699\n",
      "Water \t0.509586363383\n",
      "Superplasticizer \t0.373836078069\n",
      "CoarseAggregate \t0.526674026058\n",
      "Aggregate \t0.536970298325\n",
      "day \t0.408463964754\n",
      "Concrete \t1.0\n"
     ]
    }
   ],
   "source": [
    "# Using just correlation coefficient even in prevoius file we show them using data frame\n",
    "for col in feature_cols:\n",
    "    lm = DecisionTreeRegressor()\n",
    "    lm.fit(data[[col]], data['Concrete'])\n",
    "    print col,'\\t', lm.score(data[[col]], data['Concrete'])"
   ]
  },
  {
   "cell_type": "code",
   "execution_count": 5,
   "metadata": {
    "collapsed": false
   },
   "outputs": [
    {
     "name": "stdout",
     "output_type": "stream",
     "text": [
      "Feature Name      Score         Pvalue\n",
      "Cement \t\t338.725793692 \t1.32345794884e-65\n",
      "BlastFurnace \t\t19.0325717427 \t1.41457498978e-05\n",
      "Fly_Ash \t\t11.6269492436 \t0.000675283559617\n",
      "Water \t\t94.1187973071 \t2.3660726996e-21\n",
      "Superplasticizer \t\t159.109321731 \t5.07908923638e-34\n",
      "CoarseAggregate \t\t28.7447095672 \t1.01959722248e-07\n",
      "Aggregate \t\t29.5829376115 \t6.69468148289e-08\n",
      "day \t\t124.673209261 \t2.10314421454e-27\n",
      "Concrete \t\t-2.31485020847e+18 \t1.0\n"
     ]
    }
   ],
   "source": [
    "# Randing the important features to the target\n",
    "model = feature_selection.SelectKBest(score_func=feature_selection.f_regression,k=4)\n",
    "results = model.fit(data[feature_cols], data['Concrete'])\n",
    "k=0\n",
    "print 'Feature Name      Score         Pvalue'\n",
    "for feat in feature_cols:\n",
    "    print feat,'\\t\\t',results.scores_[k],'\\t',results.pvalues_[k]\n",
    "    k=k+1\n"
   ]
  },
  {
   "cell_type": "markdown",
   "metadata": {},
   "source": [
    "# Set the parameters for cross validation"
   ]
  },
  {
   "cell_type": "code",
   "execution_count": 6,
   "metadata": {
    "collapsed": true
   },
   "outputs": [],
   "source": [
    "num_folds = 10\n",
    "num_instances = len(X)\n",
    "seed = 7\n",
    "kfold = cross_validation.KFold(n=num_instances, n_folds=num_folds, random_state=seed)"
   ]
  },
  {
   "cell_type": "markdown",
   "metadata": {},
   "source": [
    " # Set the parameters for bias-variance dilemma"
   ]
  },
  {
   "cell_type": "code",
   "execution_count": 7,
   "metadata": {
    "collapsed": false
   },
   "outputs": [],
   "source": [
    "def plot_learning_curve(estimator, title, X, y, ylim=None, cv=None,\n",
    "                        n_jobs=1, train_sizes=np.linspace(.1, 1.0, 5)):\n",
    "    plt.figure()\n",
    "    plt.title(title)\n",
    "    if ylim is not None:\n",
    "        plt.ylim(*ylim)\n",
    "    plt.xlabel(\"Training examples\")\n",
    "    plt.ylabel(\"Score\")\n",
    "    train_sizes, train_scores, test_scores = learning_curve(\n",
    "        estimator, X, y, cv=cv, n_jobs=n_jobs, train_sizes=train_sizes)\n",
    "    train_scores_mean = np.mean(train_scores, axis=1)\n",
    "    train_scores_std = np.std(train_scores, axis=1)\n",
    "    test_scores_mean = np.mean(test_scores, axis=1)\n",
    "    test_scores_std = np.std(test_scores, axis=1)\n",
    "    plt.grid()\n",
    "\n",
    "    plt.fill_between(train_sizes, train_scores_mean - train_scores_std,\n",
    "                     train_scores_mean + train_scores_std, alpha=0.1,\n",
    "                     color=\"r\")\n",
    "    plt.fill_between(train_sizes, test_scores_mean - test_scores_std,\n",
    "                     test_scores_mean + test_scores_std, alpha=0.1, color=\"g\")\n",
    "    plt.plot(train_sizes, train_scores_mean, 'o-', color=\"r\",\n",
    "             label=\"Training score\")\n",
    "    plt.plot(train_sizes, test_scores_mean, 'o-', color=\"g\",\n",
    "             label=\"Cross-validation score\")\n",
    "\n",
    "    plt.legend(loc=\"best\")\n",
    "    return plt"
   ]
  },
  {
   "cell_type": "markdown",
   "metadata": {},
   "source": [
    "# Preprocessing the data and save both the model and preprocessed data"
   ]
  },
  {
   "cell_type": "code",
   "execution_count": 8,
   "metadata": {
    "collapsed": false
   },
   "outputs": [],
   "source": [
    "# According to the nature of the data spasity and there is outliter RobustScaler class is recomandit \n",
    "# but when I tried both of them the result seems is same\n",
    "from sklearn.preprocessing import StandardScaler\n",
    "scaler = preprocessing.StandardScaler().fit(X_train)"
   ]
  },
  {
   "cell_type": "code",
   "execution_count": 9,
   "metadata": {
    "collapsed": false
   },
   "outputs": [],
   "source": [
    "X_train = scaler.transform(X_train)\n",
    "X_test = scaler.transform(X_test) # use same transform for testing data\n",
    "X = X_train"
   ]
  },
  {
   "cell_type": "code",
   "execution_count": 10,
   "metadata": {
    "collapsed": true
   },
   "outputs": [],
   "source": [
    "# save transformed data\n",
    "np.save('./data/X_train', X_train)\n",
    "np.save('./data/y_train', y_train)\n",
    "np.save('./data/X_test', X_test)\n",
    "np.save('./data/y_test', y_test)"
   ]
  },
  {
   "cell_type": "code",
   "execution_count": 11,
   "metadata": {
    "collapsed": false
   },
   "outputs": [
    {
     "data": {
      "text/plain": [
       "['scaler.pkl', 'scaler.pkl_01.npy', 'scaler.pkl_02.npy', 'scaler.pkl_03.npy']"
      ]
     },
     "execution_count": 11,
     "metadata": {},
     "output_type": "execute_result"
    }
   ],
   "source": [
    "# save the model scaler to the desk\n",
    "from sklearn.externals import joblib\n",
    "joblib.dump(scaler, 'scaler.pkl') "
   ]
  },
  {
   "cell_type": "code",
   "execution_count": 12,
   "metadata": {
    "collapsed": false
   },
   "outputs": [
    {
     "name": "stdout",
     "output_type": "stream",
     "text": [
      " =================================================================>>>>> done\n",
      "[[ 2.10991518 -0.88106119 -0.84617062 ...,  1.97132825 -1.97556016\n",
      "  -0.69267849]\n",
      " [-1.49852146  1.2030767  -0.84617062 ..., -0.17456898  0.33209718\n",
      "  -0.62793264]\n",
      " [ 0.79619183  1.26087498 -0.84617062 ..., -0.34824772 -0.21429096\n",
      "   0.7317303 ]\n",
      " ..., \n",
      " [-1.01146856 -0.31384476  1.84556404 ...,  0.4429554   0.25069398\n",
      "  -0.51462739]\n",
      " [-0.16567549  0.37690132  0.48783031 ..., -0.98764276 -0.495502   -0.2880169 ]\n",
      " [-0.28041116 -0.88106119  0.63813809 ..., -0.19180821  1.08532344\n",
      "  -0.69267849]]\n"
     ]
    }
   ],
   "source": [
    "# Test the model if it is work\n",
    "scalerTest = joblib.load('scaler.pkl')\n",
    "new_data_scaled = scalerTest.transform(new_test_data)\n",
    "print \" =================================================================>>>>> done\"\n",
    "print new_data_scaled"
   ]
  },
  {
   "cell_type": "markdown",
   "metadata": {},
   "source": [
    "# 1. DecisionTreeRegressor  with AdaBoost Regression"
   ]
  },
  {
   "cell_type": "markdown",
   "metadata": {},
   "source": [
    "Decision trees or the Classification and Regression Trees (CART as they are know) use the training data to select the best points to split the data in order to minimize a cost metric. The default cost metric for regression decision trees is the mean squared error, specified in the criterion parameter."
   ]
  },
  {
   "cell_type": "markdown",
   "metadata": {},
   "source": [
    "## Validation curve"
   ]
  },
  {
   "cell_type": "markdown",
   "metadata": {},
   "source": [
    "choosing multiple hyperparameters of an estimator "
   ]
  },
  {
   "cell_type": "code",
   "execution_count": 13,
   "metadata": {
    "collapsed": false
   },
   "outputs": [
    {
     "data": {
      "text/plain": [
       "['presort',\n",
       " 'splitter',\n",
       " 'max_leaf_nodes',\n",
       " 'min_samples_leaf',\n",
       " 'min_samples_split',\n",
       " 'min_weight_fraction_leaf',\n",
       " 'criterion',\n",
       " 'random_state',\n",
       " 'max_features',\n",
       " 'max_depth']"
      ]
     },
     "execution_count": 13,
     "metadata": {},
     "output_type": "execute_result"
    }
   ],
   "source": [
    "from sklearn.tree import DecisionTreeRegressor\n",
    "estimator = DecisionTreeRegressor()\n",
    "estimator.get_params().keys()"
   ]
  },
  {
   "cell_type": "code",
   "execution_count": 14,
   "metadata": {
    "collapsed": false
   },
   "outputs": [
    {
     "data": {
      "text/plain": [
       "['loss',\n",
       " 'base_estimator__min_samples_split',\n",
       " 'base_estimator__max_depth',\n",
       " 'learning_rate',\n",
       " 'base_estimator',\n",
       " 'base_estimator__criterion',\n",
       " 'base_estimator__max_features',\n",
       " 'base_estimator__random_state',\n",
       " 'n_estimators',\n",
       " 'base_estimator__min_weight_fraction_leaf',\n",
       " 'random_state',\n",
       " 'base_estimator__splitter',\n",
       " 'base_estimator__max_leaf_nodes',\n",
       " 'base_estimator__min_samples_leaf',\n",
       " 'base_estimator__presort']"
      ]
     },
     "execution_count": 14,
     "metadata": {},
     "output_type": "execute_result"
    }
   ],
   "source": [
    "from sklearn.tree import DecisionTreeRegressor\n",
    "from sklearn.ensemble import AdaBoostRegressor\n",
    "estimator = AdaBoostRegressor(DecisionTreeRegressor())\n",
    "estimator.get_params().keys()"
   ]
  },
  {
   "cell_type": "code",
   "execution_count": 15,
   "metadata": {
    "collapsed": false
   },
   "outputs": [
    {
     "data": {
      "image/png": "[encoded data removed]",
      "text/plain": [
       "<matplotlib.figure.Figure at 0x7fd2b088e350>"
      ]
     },
     "metadata": {},
     "output_type": "display_data"
    }
   ],
   "source": [
    "# For parametr alpha\n",
    "#param_range = np.logspace(-10.0, 10.0)\n",
    "#param_range = np.linspace(1,50,100)\n",
    "param_range = np.arange(1,50) # generate integer numbers\n",
    "\n",
    "train_scores, test_scores = validation_curve(\n",
    "    DecisionTreeRegressor(), X, Y, param_name=\"max_depth\", param_range=param_range,\n",
    "    cv=num_folds,  n_jobs=-1)\n",
    "train_scores_mean = np.mean(train_scores, axis=1)\n",
    "train_scores_std = np.std(train_scores, axis=1)\n",
    "test_scores_mean = np.mean(test_scores, axis=1)\n",
    "test_scores_std = np.std(test_scores, axis=1)\n",
    "\n",
    "plt.title(\"Validation Curve with DecisionTreeRegressor\")\n",
    "plt.xlabel(\"max_depth\")\n",
    "plt.ylabel(\"Score\")\n",
    "plt.ylim(0.4, 1.0)\n",
    "plt.plot(param_range, train_scores_mean, label=\"Training score\", color=\"r\")\n",
    "plt.fill_between(param_range, train_scores_mean - train_scores_std,\n",
    "                 train_scores_mean + train_scores_std, alpha=0.2, color=\"r\")\n",
    "plt.plot(param_range, test_scores_mean, label=\"Cross-validation score\",\n",
    "             color=\"g\")\n",
    "plt.fill_between(param_range, test_scores_mean - test_scores_std,\n",
    "                 test_scores_mean + test_scores_std, alpha=0.2, color=\"g\")\n",
    "plt.legend(loc=\"best\")\n",
    "plt.show()"
   ]
  },
  {
   "cell_type": "markdown",
   "metadata": {},
   "source": [
    "more that 5 is the best of number of K"
   ]
  },
  {
   "cell_type": "code",
   "execution_count": 16,
   "metadata": {
    "collapsed": false
   },
   "outputs": [
    {
     "data": {
      "image/png": "[encoded data removed]",
      "text/plain": [
       "<matplotlib.figure.Figure at 0x7fd2a9e14810>"
      ]
     },
     "metadata": {},
     "output_type": "display_data"
    }
   ],
   "source": [
    "# For parametr alpha\n",
    "#param_range = np.logspace(-10.0, 10.0)\n",
    "#param_range = np.linspace(1,50,100)\n",
    "param_range = np.arange(1,10) # generate integer numbers\n",
    "\n",
    "train_scores, test_scores = validation_curve(\n",
    "    DecisionTreeRegressor(), X, Y, param_name=\"min_samples_split\", param_range=param_range,\n",
    "    cv=num_folds,  n_jobs=-1)\n",
    "train_scores_mean = np.mean(train_scores, axis=1)\n",
    "train_scores_std = np.std(train_scores, axis=1)\n",
    "test_scores_mean = np.mean(test_scores, axis=1)\n",
    "test_scores_std = np.std(test_scores, axis=1)\n",
    "\n",
    "plt.title(\"Validation Curve with DecisionTreeRegressor\")\n",
    "plt.xlabel(\"min_samples_split\")\n",
    "plt.ylabel(\"Score\")\n",
    "plt.ylim(0.4, 1.0)\n",
    "plt.plot(param_range, train_scores_mean, label=\"Training score\", color=\"r\")\n",
    "plt.fill_between(param_range, train_scores_mean - train_scores_std,\n",
    "                 train_scores_mean + train_scores_std, alpha=0.2, color=\"r\")\n",
    "plt.plot(param_range, test_scores_mean, label=\"Cross-validation score\",\n",
    "             color=\"g\")\n",
    "plt.fill_between(param_range, test_scores_mean - test_scores_std,\n",
    "                 test_scores_mean + test_scores_std, alpha=0.2, color=\"g\")\n",
    "plt.legend(loc=\"best\")\n",
    "plt.show()"
   ]
  },
  {
   "cell_type": "markdown",
   "metadata": {},
   "source": [
    "min_samples_split =2 (The defualt) is the best"
   ]
  },
  {
   "cell_type": "code",
   "execution_count": 17,
   "metadata": {
    "collapsed": false
   },
   "outputs": [
    {
     "data": {
      "image/png": "[encoded data removed]",
      "text/plain": [
       "<matplotlib.figure.Figure at 0x7fd2a9eeb6d0>"
      ]
     },
     "metadata": {},
     "output_type": "display_data"
    }
   ],
   "source": [
    "# For parametr alpha\n",
    "#param_range = np.logspace(-10.0, 10.0)\n",
    "#param_range = np.linspace(1,50,100)\n",
    "param_range = np.arange(1,10) # generate integer numbers\n",
    "\n",
    "train_scores, test_scores = validation_curve(\n",
    "    DecisionTreeRegressor(), X, Y, param_name=\"min_samples_leaf\", param_range=param_range,\n",
    "    cv=num_folds,  n_jobs=-1)\n",
    "train_scores_mean = np.mean(train_scores, axis=1)\n",
    "train_scores_std = np.std(train_scores, axis=1)\n",
    "test_scores_mean = np.mean(test_scores, axis=1)\n",
    "test_scores_std = np.std(test_scores, axis=1)\n",
    "\n",
    "plt.title(\"Validation Curve with DecisionTreeRegressor\")\n",
    "plt.xlabel(\"min_samples_leaf\")\n",
    "plt.ylabel(\"Score\")\n",
    "plt.ylim(0.4, 1.0)\n",
    "plt.plot(param_range, train_scores_mean, label=\"Training score\", color=\"r\")\n",
    "plt.fill_between(param_range, train_scores_mean - train_scores_std,\n",
    "                 train_scores_mean + train_scores_std, alpha=0.2, color=\"r\")\n",
    "plt.plot(param_range, test_scores_mean, label=\"Cross-validation score\",\n",
    "             color=\"g\")\n",
    "plt.fill_between(param_range, test_scores_mean - test_scores_std,\n",
    "                 test_scores_mean + test_scores_std, alpha=0.2, color=\"g\")\n",
    "plt.legend(loc=\"best\")\n",
    "plt.show()"
   ]
  },
  {
   "cell_type": "markdown",
   "metadata": {},
   "source": [
    "min_samples_leaf = 2 is the best"
   ]
  },
  {
   "cell_type": "markdown",
   "metadata": {},
   "source": [
    "## Grid search and/or Random search to determine best compination of parameters"
   ]
  },
  {
   "cell_type": "code",
   "execution_count": 18,
   "metadata": {
    "collapsed": false
   },
   "outputs": [
    {
     "name": "stdout",
     "output_type": "stream",
     "text": [
      "Hyperparameter optimization using GridSearchCV...\n",
      "Parameters with rank: 1\n",
      "Mean validation score: 0.7288 (std: 0.0417)\n",
      "Parameters: {'n_estimators': 9, 'loss': 'square'}\n",
      "\n",
      "Parameters with rank: 2\n",
      "Mean validation score: 0.7243 (std: 0.0438)\n",
      "Parameters: {'n_estimators': 9, 'loss': 'linear'}\n",
      "\n",
      "Parameters with rank: 3\n",
      "Mean validation score: 0.7242 (std: 0.0384)\n",
      "Parameters: {'n_estimators': 7, 'loss': 'square'}\n",
      "\n",
      "Parameters with rank: 4\n",
      "Mean validation score: 0.7158 (std: 0.0467)\n",
      "Parameters: {'n_estimators': 8, 'loss': 'square'}\n",
      "\n",
      "Parameters with rank: 5\n",
      "Mean validation score: 0.7137 (std: 0.0468)\n",
      "Parameters: {'n_estimators': 8, 'loss': 'exponential'}\n",
      "\n",
      "+++++++++++++++++++++++++++++++++++++++++++++++\n",
      "Hyperparameter optimization using RandomizedSearchCV\n",
      "Parameters with rank: 1\n",
      "Mean validation score: 0.7931 (std: 0.0358)\n",
      "Parameters: {'n_estimators': 400, 'loss': 'square'}\n",
      "\n",
      "Parameters with rank: 2\n",
      "Mean validation score: 0.7525 (std: 0.0402)\n",
      "Parameters: {'n_estimators': 20, 'loss': 'exponential'}\n",
      "\n",
      "Parameters with rank: 3\n",
      "Mean validation score: 0.7335 (std: 0.0528)\n",
      "Parameters: {'n_estimators': 10, 'loss': 'linear'}\n",
      "\n",
      "Parameters with rank: 4\n",
      "Mean validation score: 0.7333 (std: 0.0232)\n",
      "Parameters: {'n_estimators': 400, 'loss': 'exponential'}\n",
      "\n",
      "Parameters with rank: 5\n",
      "Mean validation score: 0.5721 (std: 0.0788)\n",
      "Parameters: {'n_estimators': 1, 'loss': 'linear'}\n",
      "\n"
     ]
    }
   ],
   "source": [
    "# Utility function to report optimal parameters\n",
    "from operator import itemgetter\n",
    "def report(grid_scores, n_top=5):\n",
    "    params = None\n",
    "    top_scores = sorted(grid_scores, key=itemgetter(1), reverse=True)[:n_top]\n",
    "    for i, score in enumerate(top_scores):\n",
    "        print(\"Parameters with rank: {0}\".format(i + 1))\n",
    "        print(\"Mean validation score: {0:.4f} (std: {1:.4f})\".format(\n",
    "              score.mean_validation_score, np.std(score.cv_validation_scores)))\n",
    "        print(\"Parameters: {0}\".format(score.parameters))\n",
    "        print(\"\")\n",
    "        \n",
    "        if params == None:\n",
    "            params = score.parameters\n",
    "    \n",
    "    return params\n",
    "\n",
    "# The most common value for the max number of features to look at in each split is sqrt(# of features)\n",
    "sqrtfeat = np.sqrt(X.shape[1]) \n",
    "grid_test1 = { \"n_estimators\"      : np.arange(1,10),\n",
    "             \"loss\"      : [ \"linear\", \"square\", \"exponential\"]}\n",
    "\n",
    "# Large randomized test using max_depth to control tree size (5000 possible combinations)\n",
    "random_test1 = { \"n_estimators\"      : [1,10,20,100,200, 300, 400, 500],\n",
    "                \"loss\"      : [ \"linear\", \"square\", \"exponential\"]}\n",
    "\n",
    "\n",
    "forest = AdaBoostRegressor()\n",
    "\n",
    "print \"Hyperparameter optimization using GridSearchCV...\"\n",
    "grid_search = GridSearchCV(forest, grid_test1, n_jobs=-1, cv=num_folds)\n",
    "grid_search.fit(X, Y)\n",
    "best_params_from_grid_search = report(grid_search.grid_scores_)\n",
    "print '+++++++++++++++++++++++++++++++++++++++++++++++'\n",
    "print \"Hyperparameter optimization using RandomizedSearchCV\"\n",
    "grid_search = RandomizedSearchCV(forest, random_test1, n_jobs=-1, cv=num_folds, n_iter=5)\n",
    "grid_search.fit(X, Y)\n",
    "best_params_from_rand_search1 = report(grid_search.grid_scores_)"
   ]
  },
  {
   "cell_type": "markdown",
   "metadata": {},
   "source": [
    "Best parameters Parameters: Parameters: {'max_features': None, 'max_depth': 19, 'min_samples_leaf': 1}\n"
   ]
  },
  {
   "cell_type": "markdown",
   "metadata": {},
   "source": [
    "## Learning Curve "
   ]
  },
  {
   "cell_type": "markdown",
   "metadata": {},
   "source": [
    "In essence, what we’re doing it training the exact same model with increasingly large fractions of our total training data, and plotting the error of the training and test sets at each step."
   ]
  },
  {
   "cell_type": "code",
   "execution_count": 19,
   "metadata": {
    "collapsed": false
   },
   "outputs": [
    {
     "data": {
      "image/png": "[encoded data removed]",
      "text/plain": [
       "<matplotlib.figure.Figure at 0x7fd2a9eb8510>"
      ]
     },
     "metadata": {},
     "output_type": "display_data"
    }
   ],
   "source": [
    "from sklearn.tree import DecisionTreeRegressor\n",
    "model = AdaBoostRegressor(n_estimators = 5, loss = \"exponential\")\n",
    "title = \"Learning Curves (Ada DecisionTreeRegressor Refression)\"\n",
    "cv = cross_validation.ShuffleSplit(X.shape[0], n_iter=100,\n",
    "                                   test_size=0.2, random_state=0)\n",
    "plot_learning_curve(model, title, X, Y, ylim=(0.2, 1.01), cv=cv, n_jobs=-1)\n",
    "plt.show()"
   ]
  },
  {
   "cell_type": "code",
   "execution_count": 20,
   "metadata": {
    "collapsed": false
   },
   "outputs": [
    {
     "name": "stdout",
     "output_type": "stream",
     "text": [
      "train_sizes =  [ 50  80 110]\n",
      " training scores\n",
      " 50 training sizees\n",
      "0.858973547436 ± 0.0432289862014\n",
      " 80 training sizees\n",
      "0.821131932019 ± 0.0446022503956\n",
      " 110 training sizees\n",
      "0.80256743119 ± 0.0348816662683\n",
      "\n",
      " validation scores\n",
      " 50 validation scores\n",
      "0.440542565277 ± 0.123893282992\n",
      " 80 validation scores\n",
      "0.540993992409 ± 0.0809796105387\n",
      " 110 validation scores\n",
      "0.590423272498 ± 0.066651587072\n"
     ]
    }
   ],
   "source": [
    "# More data from learning curve to show the process of building the model\n",
    "train_sizes, train_scores, valid_scores = learning_curve(\n",
    "     model, X, Y, train_sizes=[50, 80, 110], cv=cv, n_jobs=4)\n",
    "\n",
    "print 'train_sizes = ', train_sizes\n",
    "\n",
    "print ' training scores'\n",
    "print ' 50 training sizees'\n",
    "print train_scores[0].mean(),'±',train_scores[0].std()\n",
    "print ' 80 training sizees'\n",
    "print train_scores[1].mean(),'±',train_scores[1].std()\n",
    "print ' 110 training sizees'\n",
    "print train_scores[2].mean(),'±',train_scores[2].std()\n",
    "\n",
    "print '\\n validation scores'\n",
    "print ' 50 validation scores'\n",
    "print valid_scores[0].mean(),'±',valid_scores[0].std()\n",
    "print ' 80 validation scores'\n",
    "print valid_scores[1].mean(),'±',valid_scores[1].std()\n",
    "print ' 110 validation scores'\n",
    "print valid_scores[2].mean(),'±',valid_scores[2].std()"
   ]
  },
  {
   "cell_type": "markdown",
   "metadata": {},
   "source": [
    "## Cross validation"
   ]
  },
  {
   "cell_type": "code",
   "execution_count": 21,
   "metadata": {
    "collapsed": false
   },
   "outputs": [
    {
     "name": "stdout",
     "output_type": "stream",
     "text": [
      "Scoring according to mean_squared_error\n",
      "[-100.54679855  -85.34652848  -87.91020678  -84.05802287  -97.59568704\n",
      "  -62.46873892  -78.0047613   -89.50521749  -71.3551584  -106.93110934]\n",
      "\n",
      " Mean      Standard deviation\n",
      "-86.37      12.79\n"
     ]
    },
    {
     "data": {
      "text/plain": [
       "AdaBoostRegressor(base_estimator=None, learning_rate=1.0, loss='exponential',\n",
       "         n_estimators=5, random_state=None)"
      ]
     },
     "execution_count": 21,
     "metadata": {},
     "output_type": "execute_result"
    }
   ],
   "source": [
    "scoring = 'mean_squared_error'\n",
    "results = cross_validation.cross_val_score(model, X, Y, cv=kfold, scoring=scoring)\n",
    "print 'Scoring according to mean_squared_error'\n",
    "print results\n",
    "print '\\n Mean      Standard deviation'\n",
    "print(\"%.2f      %.2f\" % (results.mean(), results.std()))\n",
    "## Fit the model\n",
    "model.fit(X,Y)\n"
   ]
  },
  {
   "cell_type": "markdown",
   "metadata": {},
   "source": [
    "## Coefficients Of Determination {Calculating R^2}\n",
    "\n",
    "R^2, Close to one is better"
   ]
  },
  {
   "cell_type": "code",
   "execution_count": 22,
   "metadata": {
    "collapsed": false
   },
   "outputs": [
    {
     "name": "stdout",
     "output_type": "stream",
     "text": [
      "R-squared =  0.689816723898\n"
     ]
    }
   ],
   "source": [
    "predicted = cross_val_predict(model, X, Y, cv=kfold)\n",
    "r_squared = r2_score(Y, predicted, multioutput='variance_weighted')\n",
    "print 'R-squared = ',r_squared"
   ]
  },
  {
   "cell_type": "markdown",
   "metadata": {},
   "source": [
    "## Residual Plot"
   ]
  },
  {
   "cell_type": "code",
   "execution_count": 23,
   "metadata": {
    "collapsed": false
   },
   "outputs": [
    {
     "data": {
      "image/png": "[encoded data removed]",
      "text/plain": [
       "<matplotlib.figure.Figure at 0x7fd2a9ef6950>"
      ]
     },
     "metadata": {},
     "output_type": "display_data"
    }
   ],
   "source": [
    "predicted = cross_val_predict(model, X, Y, cv=kfold)\n",
    "fig, ax = plt.subplots()\n",
    "ax.scatter(Y, predicted)\n",
    "ax.plot([Y.min(), Y.max()], [Y.min(), Y.max()], 'k--', lw=4)\n",
    "ax.set_xlabel('Measured')\n",
    "ax.set_ylabel('Predicted')\n",
    "plt.show()"
   ]
  },
  {
   "cell_type": "code",
   "execution_count": 24,
   "metadata": {
    "collapsed": false
   },
   "outputs": [
    {
     "data": {
      "text/html": [
       "\n",
       "\n",
       "    <div class=\"bk-root\">\n",
       "        <div class=\"plotdiv\" id=\"d4b97bc2-1473-4a06-a5e7-7bd466edc1a1\"></div>\n",
       "    </div>\n",
       "<script type=\"text/javascript\">\n",
       "  \n",
       "  (function(global) {\n",
       "    function now() {\n",
       "      return new Date();\n",
       "    }\n",
       "  \n",
       "    var force = \"\";\n",
       "  \n",
       "    if (typeof (window._bokeh_onload_callbacks) === \"undefined\" || force !== \"\") {\n",
       "      window._bokeh_onload_callbacks = [];\n",
       "      window._bokeh_is_loading = undefined;\n",
       "    }\n",
       "  \n",
       "  \n",
       "    \n",
       "    if (typeof (window._bokeh_timeout) === \"undefined\" || force !== \"\") {\n",
       "      window._bokeh_timeout = Date.now() + 0;\n",
       "      window._bokeh_failed_load = false;\n",
       "    }\n",
       "  \n",
       "    var NB_LOAD_WARNING = {'data': {'text/html':\n",
       "       \"<div style='background-color: #fdd'>\\n\"+\n",
       "       \"<p>\\n\"+\n",
       "       \"BokehJS does not appear to have successfully loaded. If loading BokehJS from CDN, this \\n\"+\n",
       "       \"may be due to a slow or bad network connection. Possible fixes:\\n\"+\n",
       "       \"</p>\\n\"+\n",
       "       \"<ul>\\n\"+\n",
       "       \"<li>re-rerun `output_notebook()` to attempt to load from CDN again, or</li>\\n\"+\n",
       "       \"<li>use INLINE resources instead, as so:</li>\\n\"+\n",
       "       \"</ul>\\n\"+\n",
       "       \"<code>\\n\"+\n",
       "       \"from bokeh.resources import INLINE\\n\"+\n",
       "       \"output_notebook(resources=INLINE)\\n\"+\n",
       "       \"</code>\\n\"+\n",
       "       \"</div>\"}};\n",
       "  \n",
       "    function display_loaded() {\n",
       "      if (window.Bokeh !== undefined) {\n",
       "        Bokeh.$(\"#d4b97bc2-1473-4a06-a5e7-7bd466edc1a1\").text(\"BokehJS successfully loaded.\");\n",
       "      } else if (Date.now() < window._bokeh_timeout) {\n",
       "        setTimeout(display_loaded, 100)\n",
       "      }\n",
       "    }\n",
       "  \n",
       "    function run_callbacks() {\n",
       "      window._bokeh_onload_callbacks.forEach(function(callback) { callback() });\n",
       "      delete window._bokeh_onload_callbacks\n",
       "      console.info(\"Bokeh: all callbacks have finished\");\n",
       "    }\n",
       "  \n",
       "    function load_libs(js_urls, callback) {\n",
       "      window._bokeh_onload_callbacks.push(callback);\n",
       "      if (window._bokeh_is_loading > 0) {\n",
       "        console.log(\"Bokeh: BokehJS is being loaded, scheduling callback at\", now());\n",
       "        return null;\n",
       "      }\n",
       "      if (js_urls == null || js_urls.length === 0) {\n",
       "        run_callbacks();\n",
       "        return null;\n",
       "      }\n",
       "      console.log(\"Bokeh: BokehJS not loaded, scheduling load and callback at\", now());\n",
       "      window._bokeh_is_loading = js_urls.length;\n",
       "      for (var i = 0; i < js_urls.length; i++) {\n",
       "        var url = js_urls[i];\n",
       "        var s = document.createElement('script');\n",
       "        s.src = url;\n",
       "        s.async = false;\n",
       "        s.onreadystatechange = s.onload = function() {\n",
       "          window._bokeh_is_loading--;\n",
       "          if (window._bokeh_is_loading === 0) {\n",
       "            console.log(\"Bokeh: all BokehJS libraries loaded\");\n",
       "            run_callbacks()\n",
       "          }\n",
       "        };\n",
       "        s.onerror = function() {\n",
       "          console.warn(\"failed to load library \" + url);\n",
       "        };\n",
       "        console.log(\"Bokeh: injecting script tag for BokehJS library: \", url);\n",
       "        document.getElementsByTagName(\"head\")[0].appendChild(s);\n",
       "      }\n",
       "    };var element = document.getElementById(\"d4b97bc2-1473-4a06-a5e7-7bd466edc1a1\");\n",
       "    if (element == null) {\n",
       "      console.log(\"Bokeh: ERROR: autoload.js configured with elementid 'd4b97bc2-1473-4a06-a5e7-7bd466edc1a1' but no matching script tag was found. \")\n",
       "      return false;\n",
       "    }\n",
       "  \n",
       "    var js_urls = [];\n",
       "  \n",
       "    var inline_js = [\n",
       "      function(Bokeh) {\n",
       "        Bokeh.$(function() {\n",
       "            var docs_json = {\"3fc00405-4e14-4d1f-b957-8bd5ae8f7110\":{\"roots\":{\"references\":[{\"attributes\":{\"fill_alpha\":{\"value\":0.5},\"fill_color\":{\"value\":\"lightgrey\"},\"level\":\"overlay\",\"line_alpha\":{\"value\":1.0},\"line_color\":{\"value\":\"black\"},\"line_dash\":[4,4],\"line_width\":{\"value\":2},\"plot\":null,\"xs_units\":\"screen\",\"ys_units\":\"screen\"},\"id\":\"6a8f0ff7-40e8-43dc-8832-d7145bda5aac\",\"type\":\"PolyAnnotation\"},{\"attributes\":{\"callback\":null,\"overlay\":{\"id\":\"e3623cee-a13b-4235-b6aa-309a302266c4\",\"type\":\"PolyAnnotation\"},\"plot\":{\"id\":\"b86e05ff-78a5-4bed-b04a-467922136458\",\"subtype\":\"Figure\",\"type\":\"Plot\"}},\"id\":\"1e7d4e4a-0ca5-4e6b-8172-3736ff90f24d\",\"type\":\"LassoSelectTool\"},{\"attributes\":{\"axis_label\":\"Predicted\",\"axis_label_text_color\":{\"value\":\"#aa6666\"},\"formatter\":{\"id\":\"5c46678e-ba79-45b6-afcb-68116c603289\",\"type\":\"BasicTickFormatter\"},\"plot\":{\"id\":\"b86e05ff-78a5-4bed-b04a-467922136458\",\"subtype\":\"Figure\",\"type\":\"Plot\"},\"ticker\":{\"id\":\"605273e2-c9f3-4db0-9d8f-4121b844f927\",\"type\":\"BasicTicker\"}},\"id\":\"91df5c07-f6a3-44c5-96ee-5c9121eb099f\",\"type\":\"LinearAxis\"},{\"attributes\":{\"line_dash\":[4,4],\"line_width\":{\"value\":2},\"x\":{\"field\":\"x\"},\"y\":{\"field\":\"y\"}},\"id\":\"b28a924a-51ec-4a33-9acf-e8be025b5256\",\"type\":\"Line\"},{\"attributes\":{\"plot\":{\"id\":\"b86e05ff-78a5-4bed-b04a-467922136458\",\"subtype\":\"Figure\",\"type\":\"Plot\"}},\"id\":\"308bc4b7-e678-4a5b-8dda-feba07388d3d\",\"type\":\"SaveTool\"},{\"attributes\":{\"callback\":null,\"plot\":{\"id\":\"b86e05ff-78a5-4bed-b04a-467922136458\",\"subtype\":\"Figure\",\"type\":\"Plot\"}},\"id\":\"cb2c8994-fea4-42f7-9e82-25459ce7ccb0\",\"type\":\"TapTool\"},{\"attributes\":{\"fill_alpha\":{\"value\":0.1},\"fill_color\":{\"value\":\"#1f77b4\"},\"line_alpha\":{\"value\":0.1},\"line_color\":{\"value\":\"#1f77b4\"},\"line_width\":{\"value\":3},\"x\":{\"field\":\"x\"},\"y\":{\"field\":\"y\"}},\"id\":\"539562cb-daea-40cd-9cf3-74975d5ddf84\",\"type\":\"Circle\"},{\"attributes\":{\"line_alpha\":{\"value\":0.1},\"line_color\":{\"value\":\"#1f77b4\"},\"line_dash\":[4,4],\"line_width\":{\"value\":2},\"x\":{\"field\":\"x\"},\"y\":{\"field\":\"y\"}},\"id\":\"9cfcbbc4-1a45-4178-bfed-01a7fb27e13d\",\"type\":\"Line\"},{\"attributes\":{},\"id\":\"782fe868-f401-4bea-a914-8e38cf2d7a6f\",\"type\":\"ToolEvents\"},{\"attributes\":{\"bottom_units\":\"screen\",\"fill_alpha\":{\"value\":0.5},\"fill_color\":{\"value\":\"lightgrey\"},\"left_units\":\"screen\",\"level\":\"overlay\",\"line_alpha\":{\"value\":1.0},\"line_color\":{\"value\":\"black\"},\"line_dash\":[4,4],\"line_width\":{\"value\":2},\"plot\":null,\"render_mode\":\"css\",\"right_units\":\"screen\",\"top_units\":\"screen\"},\"id\":\"d64a614c-06b9-4d44-8945-c000d87e6458\",\"type\":\"BoxAnnotation\"},{\"attributes\":{\"plot\":{\"id\":\"b86e05ff-78a5-4bed-b04a-467922136458\",\"subtype\":\"Figure\",\"type\":\"Plot\"}},\"id\":\"48ac4fc0-5c29-4c6e-b907-1f46ee1e0163\",\"type\":\"PanTool\"},{\"attributes\":{\"align\":\"center\",\"plot\":null,\"text\":null},\"id\":\"fd7b01fa-bc1c-4ef3-b73e-5a79a361175a\",\"type\":\"Title\"},{\"attributes\":{\"callback\":null},\"id\":\"e1ea1145-3b65-48df-8e62-51661c4010d2\",\"type\":\"DataRange1d\"},{\"attributes\":{\"overlay\":{\"id\":\"6a8f0ff7-40e8-43dc-8832-d7145bda5aac\",\"type\":\"PolyAnnotation\"},\"plot\":{\"id\":\"b86e05ff-78a5-4bed-b04a-467922136458\",\"subtype\":\"Figure\",\"type\":\"Plot\"}},\"id\":\"a4de256b-9b13-44f5-af4c-8e268eeba27e\",\"type\":\"PolySelectTool\"},{\"attributes\":{},\"id\":\"da5ad97d-e413-456b-8a8c-3c65c8c86973\",\"type\":\"BasicTicker\"},{\"attributes\":{\"callback\":null,\"column_names\":[\"x\",\"y\"],\"data\":{\"x\":[43.892042159999995,38.21075992,33.419591196,13.12072828,47.22221124,22.31833812,12.47262084,28.937997196,47.029847436000004,26.322814728,30.439675923999996,12.63809508,20.77391188,43.798273423999994,66.10006412,15.361525279999999,40.865242519999995,45.939785879999995,33.75674496,43.58177796,23.524231644,42.69924868,14.143910664,48.401215199999996,34.569637164,35.85964676,59.09498796,24.49708228,37.721921436,15.520104759999999,32.401235144,33.05347944,49.249270679999995,71.69860924,54.896079119999996,50.45930106,51.863763672,28.6822016,26.77235308,17.236210524,36.83870268,40.2309246,47.714497103999996,11.36256448,9.99050724,40.925226931999994,40.563252031999994,31.715896,39.417342919999996,18.12632404,18.28490352,9.86640156,41.2996124,34.55653712,53.95839176,82.5992248,54.598914963999995,44.61185510399999,39.28978986,63.528318639999995,39.1622368,39.321505756,20.416073836,44.395359639999995,56.33708396,38.500339839999995,32.245413568000004,42.229026048,46.247292176,33.68779736,44.209201119999996,33.72916592,64.90037588,33.192064116000005,12.45193656,44.14025352,57.915983999999995,55.50971276,37.2661778,42.21661548,41.20308576,39.779317819999996,64.90037588,39.6621069,23.5111316,54.765078679999995,29.073134491999998,49.77327244,65.19685056,36.588422892,52.00717468,37.2661778,43.57833058,40.679083999999996,26.96540636,36.251958603999995,25.726417988,12.180972492,72.99482412,28.62704352,11.392211948,20.08443588,48.28400428,24.00065956,45.304778483999996,35.763120119999996,74.19451236,14.699628319999999,25.60910856945864,61.99078716,38.074243671999994,54.09628696,40.856968808,39.84481804,22.435549039999998,25.893960655999997,42.919881,30.647208199999998,26.200088,23.13881456,26.8550902,26.147687824,52.446370892,37.92118,41.836714203999996,48.9872698,8.536402356,35.75425543054136,48.587373719999995,21.601283079999998,28.79941252,32.823194456,79.29663476,11.654902304,66.78067543054136,61.09446836,48.67011084,40.1964508,26.258003984,13.45857152,47.739318239999996,23.696600644,27.827251359999998,31.35047372,60.32225524,48.695621452,39.0932892,33.116911232,37.32823064,50.69717028,13.565440299999999,33.68779736,53.46196904,16.503987012,61.85584685418796,60.2946762,43.01296026,77.29715436,56.847296199999995,55.495923239999996,15.049192651999999,17.83674412,19.765208492,24.53845084,21.946021079999998,33.56369168,43.0577762,27.681082448,31.026419999999998,2.331807832,42.29245784,15.340841,19.691434559999998,33.70158688,47.782065751999994,56.141962252,24.8900836,29.870858223999996,58.60546,24.90387312,13.395533715270679,23.786922,33.72916592,52.04164848,31.35047372,37.9556538,57.59882504,29.447519959999997,23.8903434,67.69964844,34.73580088,39.056057496,25.0969264,45.3675208,28.096147,23.221551679999997,40.14818748,42.14008364399999,37.34202016,44.13335876,60.280886679999995,49.77327244,59.590425715270676,17.959470848000002,24.104080959999997,26.94472208,31.966865263999996,28.23748958,16.10960674,54.27555072,18.746162964,24.91766264,40.85834776,11.46598588,38.407950056000004,25.2003478,79.40005615999999,23.51802636,66.42411784,39.45181672,29.7853632,22.347985588,55.89581932,30.12320644,67.568648,53.52402188,13.29309728,24.0971862,14.98920824,39.58281716,48.846616696,11.957582268,39.37597436,19.98790924,39.455953576,39.421479776,24.483292759999998,59.19840936,66.69990824,49.973220479999995,40.7135578,39.699338604,20.27748916,17.57474324,33.082437432,41.05140104,56.14403068,43.377003588,15.08573488,77.29715436,32.83974188,37.437857324,23.744174488,56.3991368,43.388724679999996,44.698039603999995,32.720462532,53.90323368,7.74971024,47.8151606,59.89478012,38.01770664,68.75060685418796,6.883728383999999,76.80073164,11.85209244,8.48744956,49.20100736,32.768036376000005,33.21205892,17.9953236,23.80071152,6.902344236,18.12632404,10.535882756,25.510612,13.461329424,25.48303296,55.647607959999995,32.96384756,19.41564416,22.94576128,19.691434559999998,18.033934256,52.908319811999995,23.24519085418796,25.68987576,17.95395504,43.698299404,15.575262839999999,25.422359072,29.15794004,22.435549039999998,22.53207568,21.179323768,33.398217439999996,48.97348028,22.489328168,67.30664712,39.6103962,45.08483564,38.461039708,46.931941843999994,40.59634688,30.44726016,24.290928956,49.99390476,8.06342182,16.27852836,40.38950408,23.639177145812038,21.066249704,43.25082948,20.91870184,33.798802996,44.02993736,9.84965714581204,25.62092816,24.44881896,76.23536132,15.748321315999998,58.522722879999996,7.8393421199999995,17.275510655999998,27.22051248,71.29871315999999,68.09954452,24.65566176,26.91369566,33.399596392,29.39236188,29.89223198,46.80163088,31.25394708,55.55108132,28.99936056,39.300132,10.335934715999999,79.98611076,47.27736932,25.021084039999998,24.39366088,43.733462679999995,49.80085148,9.011451319999999,11.414275179999999,33.5430074,55.82687172,46.89815752,31.74347504,35.36322404,35.34253976,65.99664272,30.2335226,35.314271244,36.93522932,12.73462172,11.169511199999999,38.60376124,44.6090972,41.15137506,12.788400847999998,12.17614616,33.0431373,21.859147104,41.052779992,71.29871315999999,47.7117392,46.2293658,26.74477404,41.540929,26.91714304,55.94408264,17.8229546,61.23581094,15.340841,31.419421319999998,21.91154728,16.87837248,52.42086028,37.171030112,39.64487,50.655112243999994,13.52062436,35.9561734,47.13257936,56.095767359999996,19.35014394,32.068218236,18.19871902,60.2946762,13.33446584,27.923778,33.60506024,71.29871315999999,36.447769788,33.488834284729315,38.45897128,38.70028788,33.79811352,19.41564416,39.48629052,59.30183076,80.19984832,32.051670812,21.859147104,56.7438748,10.53519328,25.965666159999998,4.9035533120000006,41.940825079999996,41.934619796,67.86512268,13.089012384,51.021224,52.95865156,28.98557104,17.96429718,29.54897143054136,41.244454319999996,58.78472376,12.459520796,34.67374804,41.684340008,16.889404096,25.216895223999998,66.59648684,51.331488199999995,33.019005639999996,30.12320644,13.293786756,34.77027468,38.11423328,35.852751999999995,16.26473884,38.20386516,21.819846971999997,14.49968028,9.735401119999999,10.76272036,17.165883972,14.54104884,36.63875464,50.07664188,36.964187312,44.296075096,36.34917472,56.061293559999996,19.10537996,24.281965768,36.349864196,15.069975430541358,25.460969728000002,38.70028788,43.377003588,67.11359384,27.234302,19.199148695999998,29.41304616,29.654362759999998,13.62404576,40.14818748,29.55094136,32.66047812,56.69561148,11.483912255999998,35.225328839999996,42.32693164,33.003837168,51.25564584,21.917063088,38.215586251999994,77.29715436,52.426376088,37.231704,26.22766704,38.99676256,24.986610239999997,22.83544512,12.24509376,39.604880392,15.520104759999999,65.19685056,55.89581932,39.358047983999995,17.576122192,40.934879596,12.052040479999999,24.404692496,23.52492112,39.300132,55.45455468,37.431652039999996,69.83702404,31.35047372,46.20178676,46.38794528,35.3011712,28.62704352,31.874475479999997,20.593958644,12.5484632,33.664355176,15.091250688,69.65776027999999,59.76377968,36.443632932,22.93197176,42.030456959999995,32.626693796000005,66.82401392,71.98818916,74.3649114581204,72.09850532,36.990387399999996,21.53923024,37.431652039999996,64.30053176,7.3153403599999995,38.60376124,22.89749796,32.01138571527068,27.67556664,40.062002979999995,56.49566344,70.69886903999999,46.6430514,31.971002119999998,32.72253096,23.786922,32.956952799999996,55.15808,10.38350856,74.4978818,53.72396992,30.881630039999997,13.54130864,43.5748832,21.504756439999998,52.826961643999994,33.0603742,50.77301264,19.539060364,42.131120456,35.3011712,41.542997428,47.401475,51.732763231999996,19.98790924,15.04436632,29.592309919999998,42.126983599999996,52.30364936,39.382869119999995,39.14844728,36.3009114,44.32641204,23.404952295999998,22.629981272,15.615941924,23.83518532,35.225328839999996,31.17810472,27.874825204,38.56239268,54.315540328,42.63719584,33.301690799999996,12.541568439999999,4.782205536,29.06830816,34.23937816,32.88455782,49.89737812,31.53663224,33.70158688,32.763899519999995,37.91428524,25.559564796,17.43684804,57.21823428799999,50.526869708,14.306626999999999,19.009542795999998,10.089791784,13.18278112,13.52062436,30.275580636,52.516697443999995,81.75116932,28.46846404,40.85834776,71.29871315999999,17.36790044,55.89581932,62.5009994,26.233182848000002,34.20490436,41.40992856,9.617500724000001,17.22311048,44.38846488,19.765208492,50.511011759999995,39.05192064,25.11662571527068,35.570066839999996,44.27814872,50.60064364,68.29949256,31.178794196000002,62.052839999999996,39.2311844,15.030576799999999,17.596806471999997,36.56291228,59.79825348,56.8128224,53.300631656,37.997022359999995,64.30053176,77.29715436,38.610656,10.787541496,34.48758952,53.65502232,13.22414968,63.3973182,36.93522932,25.3727168,12.17614616,37.16965116,51.0556978,21.91154728,44.298833,53.77223324,21.29101888,45.2985732,18.415903959999998,42.620648416,60.949678399999996,31.11605188,15.43736764,24.24197616,42.79577532,21.96670536,38.630650804,26.0621928,24.42813468,27.77209328,31.899986092,56.619079643999996,33.27411176,11.57630204,30.219733079999997,56.61287436,33.306517131999996,29.93015316,24.00065956,46.234192132,79.29663476,41.719503284,33.398217439999996,51.03501352,14.98920824,28.021683592,32.39847724,53.104130996,35.3011712,14.796154959999999,30.079769451999997,37.265488323999996,50.94882902,43.698299404,21.6495464,23.07676172,24.065470304,10.0318758,58.798513279999995,25.17966352,24.437787344,60.2946762,40.65839972,7.507014687999999,55.59934464,36.3009114,74.69782984,9.561653168,44.207822168,13.19657064,27.935499091999997,26.04840328,32.109882284729316,78.80021203999999,26.40003604,56.63355864,15.691094808,25.083136879999998,51.021224,37.25928304,42.42345828,43.49904084,23.523542168,25.55887532,31.640053639999998,12.83804312,33.963587759999996,49.20100736,15.569747031999999,28.991086848000002,65.19685056,12.37264682,41.885667,25.745033839999998,40.0585556,46.2293658,23.73865868,43.565230536,41.05140104,32.8535314,31.023662096000002,60.19814956,65.90701084,73.29819356,44.27814872,52.20022796,26.859916531999996,40.759063216,11.46598588,21.78054684,40.56876784,28.296095039999997,18.287661424,14.2032056,44.51946532,14.843728804,21.26343984,39.39665864,52.44154456,35.3011712,41.09966436,24.28334472,25.17966352,61.797733879999996,23.69039536,31.2677366,9.131420144,36.804918356,30.84715624,42.54756396,19.00885332,25.10382116,44.63667624,38.995383608,9.307926,55.55108132,38.76923548,45.83636448,74.16693332,22.752708,27.742445811999996,29.86810032,49.185149411999994,24.3385028,44.523602176000004,68.4994406,31.6469484,37.427515183999994,67.79617508,36.4388066,55.020184799999996,39.004642284729314,32.53292506,73.69808963999999,19.93275116,8.374375495999999,10.222171176,14.596896395999998,43.69898888,7.723510152,31.35047372,44.868340176000004,45.3675208,29.7508894,26.14492992,55.19944856,29.231713971999998,51.04190828,65.909079268,79.29663476,9.738159024,54.896079119999996,37.36270444,51.72448952,20.72564856,52.82075636,32.102692036,71.62276688,35.86585204399999,35.101223159999996,46.24315532,31.84000168,33.398217439999996,57.21271848,43.942373908,7.675936308,18.0297974,31.875164956000003,75.49762199999999,24.40055564,8.204074924,46.68441996,3.31982694,21.02212324,41.36856,27.04124872,44.42293868,34.39795764,20.96696516,36.96970312,6.26733684,15.41668336,39.435269296,50.732333556],\"y\":[46.3954864994798,44.58690977666012,34.26769482376539,15.539490208404217,46.3954864994798,20.939834256068927,15.539490208404217,26.358453655164535,41.701842260659504,37.10554517589978,26.358453655164535,28.331028490666668,21.5384957981739,34.26769482376539,61.44545398890957,24.890945445000007,44.58690977666012,30.66339241789287,26.358453655164535,37.10554517589978,26.358453655164535,41.701842260659504,20.939834256068927,30.802112076212918,30.802112076212918,52.052141442874955,40.143838763505904,34.26769482376539,44.58690977666012,15.539490208404217,34.26769482376539,26.358453655164535,26.358453655164535,46.81251139326045,60.30938270929046,44.58690977666012,37.10554517589978,27.8967432831579,24.648604991978136,15.897584030564095,39.51390949118888,26.358453655164535,37.10554517589978,15.897584030564095,15.539490208404217,46.3954864994798,44.58690977666012,41.701842260659504,34.26769482376539,15.897584030564095,26.358453655164535,15.897584030564095,39.51390949118888,37.10554517589978,43.47715052413748,61.44545398890957,41.701842260659504,30.66339241789287,46.3954864994798,43.47715052413748,26.358453655164535,26.358453655164535,15.897584030564095,43.47715052413748,60.30938270929046,30.66339241789287,34.26769482376539,46.3954864994798,34.26769482376539,46.3954864994798,41.701842260659504,30.66339241789287,61.44545398890957,37.10554517589978,15.539490208404217,50.54740077111109,46.3954864994798,30.66339241789287,30.66339241789287,27.8967432831579,30.66339241789287,44.58690977666012,61.44545398890957,34.440885729002865,28.259661497871935,59.88752979434169,28.259661497871935,45.9341944406689,59.88752979434169,34.440885729002865,39.50139952235338,49.48441828421053,39.04100560607507,42.36470193164924,28.259661497871935,35.48407754218866,29.336847730522965,28.259661497871935,59.88752979434169,35.48407754218866,13.235900749217388,28.259661497871935,45.9341944406689,24.46715487440187,45.9341944406689,42.36470193164924,54.65498012864706,24.46715487440187,29.590731684422472,49.48441828421053,35.48407754218866,39.50139952235338,29.336847730522965,29.336847730522965,39.04100560607507,20.934732157000006,44.03342559783706,29.336847730522965,31.797558244594853,26.41065821932966,28.259661497871935,28.259661497871935,45.9341944406689,29.590731684422472,44.945377172633684,44.03342559783706,29.336847730522965,29.590731684422472,35.48407754218866,27.09500732788092,27.154491635293443,24.46715487440187,62.97432891101542,14.653291689111434,59.88752979434169,62.97432891101542,44.03342559783706,40.28532753955937,13.235900749217388,28.259661497871935,44.03342559783706,28.259661497871935,39.04100560607507,42.36470193164924,49.48441828421053,42.36470193164924,44.945377172633684,35.48407754218866,42.36470193164924,59.88752979434169,13.235900749217388,31.797558244594853,44.03342559783706,28.259661497871935,44.945377172633684,59.88752979434169,44.945377172633684,62.97432891101542,45.9341944406689,62.6193052948336,24.197589287337312,28.259661497871935,20.934732157000006,29.336847730522965,35.48407754218866,44.03342559783706,44.41130767029148,29.497817234199996,26.62910573549494,15.55353019422772,27.99144215985668,26.62910573549494,31.043613378259145,26.62910573549494,43.667956358442474,44.41130767029148,31.043613378259145,26.62910573549494,49.77448916235293,31.043613378259145,15.977509527420043,26.62910573549494,26.62910573549494,44.41130767029148,43.667956358442474,42.736596971718114,63.24147865955107,40.890362042657785,29.497817234199996,46.89133936844442,44.41130767029148,44.41130767029148,46.25721406394548,49.77448916235293,40.82225287063629,16.077421281747238,43.15491570755555,40.890362042657785,42.736596971718114,44.41130767029148,51.580328235622936,44.41130767029148,44.41130767029148,29.497817234199996,40.890362042657785,40.890362042657785,43.59142772698414,26.62910573549494,15.977509527420043,44.41130767029148,31.043613378259145,16.077421281747238,43.667956358442474,15.55353019422772,43.667956358442474,40.82225287063629,63.734004106452126,26.62910573549494,46.89133936844442,29.497817234199996,40.890362042657785,26.62910573549494,40.82225287063629,40.890362042657785,61.82406529745583,40.890362042657785,26.62910573549494,40.82225287063629,15.977509527420043,43.59142772698414,44.41130767029148,15.55353019422772,44.41130767029148,26.62910573549494,29.497817234199996,40.890362042657785,31.043613378259145,63.24147865955107,63.24147865955107,43.667956358442474,40.890362042657785,31.043613378259145,16.077421281747238,23.5443126325,43.59142772698414,46.25721406394548,63.24147865955107,31.043613378259145,26.62910573549494,66.8753181137149,31.106619088267713,47.36930215186057,30.45565433806691,66.02648233704919,37.82737516578011,37.664808266520524,30.45565433806691,37.82737516578011,15.237964727661257,44.53696345003729,66.26242072939131,42.917674676800004,48.66012985409524,14.213425689932738,55.56784505019607,15.237964727661257,14.213425689932738,43.952919395823905,31.106619088267713,29.886644622603765,14.213425689932738,29.057115367911603,14.213425689932738,23.465280440912846,30.45565433806691,29.886644622603765,30.45565433806691,30.45565433806691,49.13716307269472,30.45565433806691,31.106619088267713,28.472359131867393,31.106619088267713,31.106619088267713,47.36930215186057,37.82737516578011,30.45565433806691,31.106619088267713,47.36930215186057,15.237964727661257,14.213425689932738,30.45565433806691,31.750651124655537,29.886644622603765,23.465280440912846,42.917674676800004,47.36930215186057,47.36930215186057,49.13716307269472,37.82737516578011,47.36930215186057,47.36930215186057,37.82737516578011,33.88652268397485,29.17460669671765,30.45565433806691,37.82737516578011,14.213425689932738,28.314194855636323,48.66012985409524,29.17460669671765,30.45565433806691,37.82737516578011,30.45565433806691,31.106619088267713,47.36930215186057,14.213425689932738,29.886644622603765,30.45565433806691,47.058782445466676,14.213425689932738,66.02648233704919,14.213425689932738,30.45565433806691,31.106619088267713,66.26242072939131,66.8753181137149,30.45565433806691,31.106619088267713,31.106619088267713,40.19597199722222,30.45565433806691,41.46974526162164,41.72587331005308,46.69990808126924,41.17232097157942,22.52290564919999,13.317007870092564,58.21417348188081,44.797806704823145,41.17232097157942,22.52290564919999,31.15167640823697,21.6528488227445,20.553408957475895,12.993974136717004,34.87353364695396,44.797806704823145,41.46974526162164,41.72587331005308,41.17232097157942,34.87353364695396,46.69990808126924,27.90919763857725,29.91985157741175,45.68491264594457,13.317007870092564,13.317007870092564,26.00167746760058,31.15167640823697,48.868060553416356,16.831167160593665,16.831167160593665,35.27270092491785,21.00414259041921,48.868060553416356,63.691987109873985,41.17232097157942,45.68491264594457,43.53073265903843,29.91985157741175,31.15167640823697,45.68491264594457,26.00167746760058,58.21417348188081,18.00911312,31.15167640823697,26.00167746760058,26.00167746760058,45.68491264594457,31.15167640823697,34.87353364695396,43.53073265903843,16.831167160593665,26.00167746760058,43.53073265903843,22.52290564919999,16.831167160593665,41.72587331005308,27.90919763857725,59.54378008628063,18.00911312,21.6528488227445,41.72587331005308,63.691987109873985,46.69990808126924,22.52290564919999,44.797806704823145,43.53073265903843,29.91985157741175,16.831167160593665,43.53073265903843,43.68976098242733,50.15020713273978,29.91985157741175,34.87353364695396,44.797806704823145,27.90919763857725,31.15167640823697,12.993974136717004,35.27270092491785,46.69990808126924,31.15167640823697,16.831167160593665,62.60677979288572,41.845830061663,27.54583023933334,27.54583023933334,36.33742126478452,41.67800179364383,53.26626817216001,27.54583023933334,30.476667927359376,36.33742126478452,12.73954337127856,30.476667927359376,60.34123322964939,43.88749086487431,39.73772472514778,39.73772472514778,27.54583023933334,29.3345089339633,41.67800179364383,41.67800179364383,15.914920490526322,40.81934554972838,15.862882088966515,15.862882088966515,27.54583023933334,12.73954337127856,12.73954337127856,26.753300559866666,41.67800179364383,41.845830061663,36.33742126478452,41.67800179364383,30.476667927359376,41.845830061663,26.753300559866666,29.011494070375353,30.476667927359376,12.73954337127856,29.011494070375353,39.73772472514778,29.011494070375353,53.26626817216001,27.54583023933334,26.753300559866666,27.54583023933334,30.476667927359376,15.862882088966515,41.845830061663,29.0091812476789,30.476667927359376,62.60677979288572,12.73954337127856,27.54583023933334,41.845830061663,36.33742126478452,41.845830061663,15.862882088966515,43.88749086487431,65.27089115368172,43.88749086487431,41.67800179364383,27.54583023933334,41.67800179364383,27.54583023933334,30.476667927359376,30.476667927359376,39.73772472514778,27.54583023933334,65.27089115368172,40.21622954702049,29.011494070375353,30.476667927359376,43.88749086487431,12.73954337127856,28.6694674003378,28.716057709903907,43.88749086487431,62.60677979288572,30.476667927359376,62.60677979288572,39.73772472514778,40.21622954702049,26.942949622185367,40.86585088117646,29.89460517314969,44.756763089928185,26.942949622185367,25.13473393013514,26.942949622185367,26.942949622185367,62.269850363297806,26.744863004645175,26.942949622185367,29.89460517314969,44.417834095136456,29.89460517314969,52.509403513684205,61.337878179633925,62.269850363297806,61.337878179633925,39.443950798684696,26.942949622185367,26.942949622185367,62.269850363297806,15.107962537736052,26.634111383220603,41.58945852705629,28.341928777882877,26.942949622185367,46.249605713272764,62.269850363297806,62.269850363297806,41.2378424219487,45.2518395317346,45.2518395317346,26.942949622185367,26.942949622185367,46.46049949612925,15.107962537736052,62.269850363297806,41.2378424219487,26.942949622185367,25.13473393013514,39.443950798684696,26.942949622185367,46.46049949612925,26.942949622185367,39.1927990407044,15.107962537736052,46.46049949612925,40.86585088117646,46.46049949612925,46.46049949612925,39.1927990407044,26.942949622185367,15.107962537736052,28.341928777882877,45.2518395317346,61.337878179633925,45.2518395317346,41.2378424219487,40.86585088117646,46.249605713272764,16.819775228084094,29.89460517314969,16.819775228084094,44.756763089928185,26.942949622185367,46.249605713272764,26.942949622185367,41.2378424219487,46.46049949612925,44.756763089928185,26.942949622185367,16.73965076534903,14.421277009178453,26.942949622185367,26.942949622185367,29.89460517314969,62.269850363297806,39.1927990407044,39.1927990407044,26.942949622185367,26.942949622185367,28.522498274120007,16.278802858706268,43.64031689161404,47.60700943724236,16.278802858706268,28.522498274120007,15.355151144734684,15.355151144734684,16.278802858706268,16.278802858706268,44.94059535451006,49.01161391259932,28.522498274120007,39.56121302213878,65.12977003684581,15.355151144734684,40.08781587468317,65.12977003684581,28.522498274120007,38.09666071405265,28.522498274120007,15.355151144734684,15.355151144734684,46.020577176116994,30.268473201810988,38.63333116820876,43.64031689161404,38.63333116820876,45.77819601183098,45.77819601183098,31.066992263774626,49.01161391259932,31.772819811219506,49.01161391259932,38.09666071405265,15.355151144734684,30.268473201810988,38.09666071405265,49.24922823832381,45.77819601183098,44.94059535451006,38.63333116820876,65.12977003684581,65.36760818524358,38.63333116820876,15.355151144734684,38.09666071405265,47.60700943724236,16.278802858706268,65.36760818524358,30.268473201810988,28.44106808119778,30.268473201810988,32.063303124565884,51.66186211666667,30.268473201810988,39.56121302213878,45.77819601183098,15.355151144734684,49.01161391259932,30.268473201810988,44.94059535451006,51.66186211666667,28.522498274120007,15.355151144734684,28.522498274120007,40.08781587468317,30.268473201810988,31.772819811219506,20.263322069809526,28.44106808119778,28.522498274120007,31.772819811219506,43.64031689161404,30.268473201810988,15.355151144734684,28.522498274120007,43.64031689161404,30.268473201810988,28.44106808119778,20.263322069809526,43.64031689161404,61.35937803296199,35.05882038600001,40.44466216,59.63617033620268,21.16738263046808,29.63890614877611,32.765199015658,46.182960753932065,36.85299124962356,16.393454955544396,29.63890614877611,46.28409952395452,46.182960753932065,46.182960753932065,32.765199015658,14.788836184367868,22.76200001501538,14.788836184367868,61.20291005469884,32.765199015658,22.76200001501538,61.20291005469884,43.07551835090692,14.788836184367868,36.85299124962356,43.07551835090692,46.28409952395452,14.788836184367868,35.05882038600001,29.63890614877611,29.63890614877611,29.91246491627308,40.44466216,61.20291005469884,29.91246491627308,48.55750001768749,14.788836184367868,35.05882038600001,59.63617033620268,46.28409952395452,22.76200001501538,41.72458816949998,21.16738263046808,29.63890614877611,29.91246491627308,25.65419755888608,39.06431653829787,43.603712388866974,29.91246491627308,29.63890614877611,61.20291005469884,14.788836184367868,40.44466216,29.63890614877611,46.182960753932065,48.55750001768749,29.63890614877611,35.59491920640401,43.07551835090692,41.72458816949998,35.05882038600001,61.20291005469884,46.182960753932065,46.182960753932065,32.765199015658,61.20291005469884,29.63890614877611,46.182960753932065,21.16738263046808,27.07354738754511,41.72458816949998,36.85299124962356,29.63890614877611,16.393454955544396,59.63617033620268,16.393454955544396,29.63890614877611,29.63890614877611,46.182960753932065,36.85299124962356,40.44466216,25.65419755888608,40.777781755914944,62.599067469494486,30.098912393760614,30.098912393760614,13.64928902423362,47.67206087831561,40.777781755914944,48.74762128709677,30.098912393760614,42.96759965739398,30.098912393760614,37.346432358554004,17.109288674471074,62.599067469494486,38.34794922792118,40.777781755914944,50.90086960870453,40.048009900576616,23.551140648047983,30.098912393760614,42.96759965739398,30.098912393760614,48.115489935552574,62.599067469494486,42.96759965739398,46.925790285348874,62.599067469494486,30.098912393760614,46.72679750926829,40.98236389775189,36.96932072144194,62.599067469494486,17.109288674471074,13.64928902423362,17.109288674471074,17.109288674471074,46.925790285348874,13.64928902423362,25.362772694211458,42.96759965739398,40.777781755914944,19.10624781565633,30.098912393760614,62.599067469494486,34.286116275515155,47.67206087831561,48.115489935552574,66.61776873951405,26.59325692742542,40.98236389775189,30.098912393760614,46.72679750926829,23.551140648047983,40.777781755914944,36.96932072144194,50.90086960870453,47.67206087831561,40.048009900576616,40.777781755914944,42.96759965739398,40.048009900576616,47.67206087831561,46.925790285348874,13.64928902423362,30.098912393760614,40.777781755914944,62.599067469494486,38.34794922792118,17.109288674471074,62.599067469494486,13.64928902423362,25.362772694211458,62.599067469494486,23.551140648047983,62.599067469494486,40.048009900576616,22.269730062000004,37.346432358554004,23.551140648047983,26.59325692742542,30.716722949612883,37.346432358554004]}},\"id\":\"380a351e-a38f-4a4f-8ddf-c07e88902528\",\"type\":\"ColumnDataSource\"},{\"attributes\":{\"data_source\":{\"id\":\"380a351e-a38f-4a4f-8ddf-c07e88902528\",\"type\":\"ColumnDataSource\"},\"glyph\":{\"id\":\"7059d977-ec2a-4a78-bd13-00834203f9fc\",\"type\":\"Circle\"},\"hover_glyph\":null,\"nonselection_glyph\":{\"id\":\"539562cb-daea-40cd-9cf3-74975d5ddf84\",\"type\":\"Circle\"},\"selection_glyph\":null},\"id\":\"9f02be63-7881-4e1f-a0e8-fd31c65ebcdd\",\"type\":\"GlyphRenderer\"},{\"attributes\":{\"plot\":{\"id\":\"b86e05ff-78a5-4bed-b04a-467922136458\",\"subtype\":\"Figure\",\"type\":\"Plot\"}},\"id\":\"24624080-8ea0-4dc9-a4de-154196beddf9\",\"type\":\"CrosshairTool\"},{\"attributes\":{\"plot\":{\"id\":\"b86e05ff-78a5-4bed-b04a-467922136458\",\"subtype\":\"Figure\",\"type\":\"Plot\"}},\"id\":\"d06b8339-04e3-48d3-90cf-aa1f42e1499b\",\"type\":\"ResetTool\"},{\"attributes\":{\"data_source\":{\"id\":\"2c666bec-1d8b-437c-a691-917275e6c620\",\"type\":\"ColumnDataSource\"},\"glyph\":{\"id\":\"b28a924a-51ec-4a33-9acf-e8be025b5256\",\"type\":\"Line\"},\"hover_glyph\":null,\"nonselection_glyph\":{\"id\":\"9cfcbbc4-1a45-4178-bfed-01a7fb27e13d\",\"type\":\"Line\"},\"selection_glyph\":null},\"id\":\"c33ad729-e254-40fb-97e3-64e52a23528f\",\"type\":\"GlyphRenderer\"},{\"attributes\":{\"axis_label\":\"Measured\",\"axis_label_text_color\":{\"value\":\"#aa6666\"},\"formatter\":{\"id\":\"837fe3fa-0d82-4c96-828e-b0c021737183\",\"type\":\"BasicTickFormatter\"},\"major_tick_line_color\":{\"value\":\"firebrick\"},\"major_tick_line_width\":{\"value\":3},\"minor_tick_line_color\":{\"value\":\"orange\"},\"plot\":{\"id\":\"b86e05ff-78a5-4bed-b04a-467922136458\",\"subtype\":\"Figure\",\"type\":\"Plot\"},\"ticker\":{\"id\":\"da5ad97d-e413-456b-8a8c-3c65c8c86973\",\"type\":\"BasicTicker\"}},\"id\":\"69881dde-e357-4c4e-8530-9d977f377c81\",\"type\":\"LinearAxis\"},{\"attributes\":{\"bottom_units\":\"screen\",\"fill_alpha\":{\"value\":0.5},\"fill_color\":{\"value\":\"lightgrey\"},\"left_units\":\"screen\",\"level\":\"overlay\",\"line_alpha\":{\"value\":1.0},\"line_color\":{\"value\":\"black\"},\"line_dash\":[4,4],\"line_width\":{\"value\":2},\"plot\":null,\"render_mode\":\"css\",\"right_units\":\"screen\",\"top_units\":\"screen\"},\"id\":\"39a13ad4-1689-4770-8377-e806818e3bde\",\"type\":\"BoxAnnotation\"},{\"attributes\":{\"overlay\":{\"id\":\"d64a614c-06b9-4d44-8945-c000d87e6458\",\"type\":\"BoxAnnotation\"},\"plot\":{\"id\":\"b86e05ff-78a5-4bed-b04a-467922136458\",\"subtype\":\"Figure\",\"type\":\"Plot\"}},\"id\":\"4a607a45-9bb1-4abf-9c25-fd251aec2e7d\",\"type\":\"BoxZoomTool\"},{\"attributes\":{\"callback\":null,\"overlay\":{\"id\":\"39a13ad4-1689-4770-8377-e806818e3bde\",\"type\":\"BoxAnnotation\"},\"plot\":{\"id\":\"b86e05ff-78a5-4bed-b04a-467922136458\",\"subtype\":\"Figure\",\"type\":\"Plot\"},\"renderers\":[{\"id\":\"9f02be63-7881-4e1f-a0e8-fd31c65ebcdd\",\"type\":\"GlyphRenderer\"},{\"id\":\"c33ad729-e254-40fb-97e3-64e52a23528f\",\"type\":\"GlyphRenderer\"}]},\"id\":\"9a1a7896-89de-4635-8184-6b4948ce751f\",\"type\":\"BoxSelectTool\"},{\"attributes\":{},\"id\":\"605273e2-c9f3-4db0-9d8f-4121b844f927\",\"type\":\"BasicTicker\"},{\"attributes\":{\"callback\":null,\"column_names\":[\"y\",\"x\"],\"data\":{\"x\":[2.331807832,82.5992248],\"y\":[2.331807832,82.5992248]}},\"id\":\"2c666bec-1d8b-437c-a691-917275e6c620\",\"type\":\"ColumnDataSource\"},{\"attributes\":{\"active_drag\":\"auto\",\"active_scroll\":\"auto\",\"active_tap\":\"auto\",\"tools\":[{\"id\":\"4a607a45-9bb1-4abf-9c25-fd251aec2e7d\",\"type\":\"BoxZoomTool\"},{\"id\":\"9a1a7896-89de-4635-8184-6b4948ce751f\",\"type\":\"BoxSelectTool\"},{\"id\":\"24624080-8ea0-4dc9-a4de-154196beddf9\",\"type\":\"CrosshairTool\"},{\"id\":\"0227ea14-9809-4346-8860-c4dae1972690\",\"type\":\"ResizeTool\"},{\"id\":\"d06b8339-04e3-48d3-90cf-aa1f42e1499b\",\"type\":\"ResetTool\"},{\"id\":\"1e7d4e4a-0ca5-4e6b-8172-3736ff90f24d\",\"type\":\"LassoSelectTool\"},{\"id\":\"48ac4fc0-5c29-4c6e-b907-1f46ee1e0163\",\"type\":\"PanTool\"},{\"id\":\"308bc4b7-e678-4a5b-8dda-feba07388d3d\",\"type\":\"SaveTool\"},{\"id\":\"a4de256b-9b13-44f5-af4c-8e268eeba27e\",\"type\":\"PolySelectTool\"},{\"id\":\"cb2c8994-fea4-42f7-9e82-25459ce7ccb0\",\"type\":\"TapTool\"},{\"id\":\"86f0fd68-c690-47fa-ae59-5ed6512ecebe\",\"type\":\"WheelZoomTool\"},{\"id\":\"df23b99d-115d-4c7b-90b7-9c58d2a0ec62\",\"type\":\"UndoTool\"}]},\"id\":\"d14814ed-3a71-4d52-8a21-259339e9c97f\",\"type\":\"Toolbar\"},{\"attributes\":{\"plot\":{\"id\":\"b86e05ff-78a5-4bed-b04a-467922136458\",\"subtype\":\"Figure\",\"type\":\"Plot\"},\"ticker\":{\"id\":\"da5ad97d-e413-456b-8a8c-3c65c8c86973\",\"type\":\"BasicTicker\"}},\"id\":\"420dc426-9a3f-4862-a8fb-93dca195d5de\",\"type\":\"Grid\"},{\"attributes\":{\"dimension\":1,\"plot\":{\"id\":\"b86e05ff-78a5-4bed-b04a-467922136458\",\"subtype\":\"Figure\",\"type\":\"Plot\"},\"ticker\":{\"id\":\"605273e2-c9f3-4db0-9d8f-4121b844f927\",\"type\":\"BasicTicker\"}},\"id\":\"e04dbfc4-af0a-4ca4-8963-1d4f3c95d810\",\"type\":\"Grid\"},{\"attributes\":{\"plot\":{\"id\":\"b86e05ff-78a5-4bed-b04a-467922136458\",\"subtype\":\"Figure\",\"type\":\"Plot\"}},\"id\":\"86f0fd68-c690-47fa-ae59-5ed6512ecebe\",\"type\":\"WheelZoomTool\"},{\"attributes\":{\"plot\":{\"id\":\"b86e05ff-78a5-4bed-b04a-467922136458\",\"subtype\":\"Figure\",\"type\":\"Plot\"}},\"id\":\"0227ea14-9809-4346-8860-c4dae1972690\",\"type\":\"ResizeTool\"},{\"attributes\":{\"plot\":{\"id\":\"b86e05ff-78a5-4bed-b04a-467922136458\",\"subtype\":\"Figure\",\"type\":\"Plot\"}},\"id\":\"df23b99d-115d-4c7b-90b7-9c58d2a0ec62\",\"type\":\"UndoTool\"},{\"attributes\":{},\"id\":\"837fe3fa-0d82-4c96-828e-b0c021737183\",\"type\":\"BasicTickFormatter\"},{\"attributes\":{\"callback\":null},\"id\":\"33157ebc-2789-4e59-9fde-75a3c7193edf\",\"type\":\"DataRange1d\"},{\"attributes\":{},\"id\":\"5c46678e-ba79-45b6-afcb-68116c603289\",\"type\":\"BasicTickFormatter\"},{\"attributes\":{\"fill_alpha\":{\"value\":0.5},\"fill_color\":{\"value\":\"lightgrey\"},\"level\":\"overlay\",\"line_alpha\":{\"value\":1.0},\"line_color\":{\"value\":\"black\"},\"line_dash\":[4,4],\"line_width\":{\"value\":2},\"plot\":null,\"xs_units\":\"screen\",\"ys_units\":\"screen\"},\"id\":\"e3623cee-a13b-4235-b6aa-309a302266c4\",\"type\":\"PolyAnnotation\"},{\"attributes\":{\"fill_color\":{\"value\":\"#80B1D3\"},\"line_color\":{\"value\":\"#80B1D3\"},\"line_width\":{\"value\":3},\"x\":{\"field\":\"x\"},\"y\":{\"field\":\"y\"}},\"id\":\"7059d977-ec2a-4a78-bd13-00834203f9fc\",\"type\":\"Circle\"},{\"attributes\":{\"background_fill_alpha\":{\"value\":0.5},\"background_fill_color\":{\"value\":\"beige\"},\"below\":[{\"id\":\"69881dde-e357-4c4e-8530-9d977f377c81\",\"type\":\"LinearAxis\"}],\"left\":[{\"id\":\"91df5c07-f6a3-44c5-96ee-5c9121eb099f\",\"type\":\"LinearAxis\"}],\"plot_height\":500,\"plot_width\":500,\"renderers\":[{\"id\":\"69881dde-e357-4c4e-8530-9d977f377c81\",\"type\":\"LinearAxis\"},{\"id\":\"420dc426-9a3f-4862-a8fb-93dca195d5de\",\"type\":\"Grid\"},{\"id\":\"91df5c07-f6a3-44c5-96ee-5c9121eb099f\",\"type\":\"LinearAxis\"},{\"id\":\"e04dbfc4-af0a-4ca4-8963-1d4f3c95d810\",\"type\":\"Grid\"},{\"id\":\"d64a614c-06b9-4d44-8945-c000d87e6458\",\"type\":\"BoxAnnotation\"},{\"id\":\"39a13ad4-1689-4770-8377-e806818e3bde\",\"type\":\"BoxAnnotation\"},{\"id\":\"e3623cee-a13b-4235-b6aa-309a302266c4\",\"type\":\"PolyAnnotation\"},{\"id\":\"6a8f0ff7-40e8-43dc-8832-d7145bda5aac\",\"type\":\"PolyAnnotation\"},{\"id\":\"9f02be63-7881-4e1f-a0e8-fd31c65ebcdd\",\"type\":\"GlyphRenderer\"},{\"id\":\"c33ad729-e254-40fb-97e3-64e52a23528f\",\"type\":\"GlyphRenderer\"}],\"title\":{\"id\":\"fd7b01fa-bc1c-4ef3-b73e-5a79a361175a\",\"type\":\"Title\"},\"tool_events\":{\"id\":\"782fe868-f401-4bea-a914-8e38cf2d7a6f\",\"type\":\"ToolEvents\"},\"toolbar\":{\"id\":\"d14814ed-3a71-4d52-8a21-259339e9c97f\",\"type\":\"Toolbar\"},\"x_range\":{\"id\":\"e1ea1145-3b65-48df-8e62-51661c4010d2\",\"type\":\"DataRange1d\"},\"y_range\":{\"id\":\"33157ebc-2789-4e59-9fde-75a3c7193edf\",\"type\":\"DataRange1d\"}},\"id\":\"b86e05ff-78a5-4bed-b04a-467922136458\",\"subtype\":\"Figure\",\"type\":\"Plot\"}],\"root_ids\":[\"b86e05ff-78a5-4bed-b04a-467922136458\"]},\"title\":\"Bokeh Application\",\"version\":\"0.12.2\"}};\n",
       "            var render_items = [{\"docid\":\"3fc00405-4e14-4d1f-b957-8bd5ae8f7110\",\"elementid\":\"d4b97bc2-1473-4a06-a5e7-7bd466edc1a1\",\"modelid\":\"b86e05ff-78a5-4bed-b04a-467922136458\"}];\n",
       "            \n",
       "            Bokeh.embed.embed_items(docs_json, render_items);\n",
       "        });\n",
       "      },\n",
       "      function(Bokeh) {\n",
       "      }\n",
       "    ];\n",
       "  \n",
       "    function run_inline_js() {\n",
       "      \n",
       "      if ((window.Bokeh !== undefined) || (force === \"1\")) {\n",
       "        for (var i = 0; i < inline_js.length; i++) {\n",
       "          inline_js[i](window.Bokeh);\n",
       "        }if (force === \"1\") {\n",
       "          display_loaded();\n",
       "        }} else if (Date.now() < window._bokeh_timeout) {\n",
       "        setTimeout(run_inline_js, 100);\n",
       "      } else if (!window._bokeh_failed_load) {\n",
       "        console.log(\"Bokeh: BokehJS failed to load within specified timeout.\");\n",
       "        window._bokeh_failed_load = true;\n",
       "      } else if (!force) {\n",
       "        var cell = $(\"#d4b97bc2-1473-4a06-a5e7-7bd466edc1a1\").parents('.cell').data().cell;\n",
       "        cell.output_area.append_execute_result(NB_LOAD_WARNING)\n",
       "      }\n",
       "  \n",
       "    }\n",
       "  \n",
       "    if (window._bokeh_is_loading === 0) {\n",
       "      console.log(\"Bokeh: BokehJS loaded, going straight to plotting\");\n",
       "      run_inline_js();\n",
       "    } else {\n",
       "      load_libs(js_urls, function() {\n",
       "        console.log(\"Bokeh: BokehJS plotting callback run at\", now());\n",
       "        run_inline_js();\n",
       "      });\n",
       "    }\n",
       "  }(this));\n",
       "</script>"
      ]
     },
     "metadata": {},
     "output_type": "display_data"
    }
   ],
   "source": [
    "# Plotining using bokeh\n",
    "#TOOLS = [BoxSelectTool(), HoverTool()]\n",
    "#TOOLS = 'hover,box_zoom,box_select,crosshair,resize,reset,DecisionTreeRegressor_select,pan,save,poly_select,tap,wheel_zoom,undo'\n",
    "TOOLS = 'box_zoom,box_select,crosshair,resize,reset,lasso_select,pan,save,poly_select,tap,wheel_zoom,undo'\n",
    "p = figure(plot_width=500, plot_height=500, tools=TOOLS)\n",
    "p.scatter(Y, predicted,x=\"jjj\", marker=\"o\", color=\"#80B1D3\", line_width=3)\n",
    "p.title.align = \"center\"\n",
    "p.xaxis.axis_label = \"Measured\"\n",
    "p.xaxis.axis_label_text_color = \"#aa6666\"\n",
    "#p.xaxis.axis_label_standoff = 30\n",
    "p.xaxis.major_tick_line_color = \"firebrick\"\n",
    "p.xaxis.major_tick_line_width = 3\n",
    "p.xaxis.minor_tick_line_color = \"orange\"\n",
    "p.yaxis.axis_label = \"Predicted\"\n",
    "p.yaxis.axis_label_text_font_style = \"italic\"\n",
    "p.yaxis.axis_label_text_color = \"#aa6666\"\n",
    "p.background_fill_color = \"beige\"\n",
    "p.background_fill_alpha = 0.5\n",
    "#p.line([Y.min(), Y.max()], [Y.min(), Y.max()], line_dash=\"4 4\", line_width=2, color='red')\n",
    "\n",
    "# create a new plot with the toolbar below\n",
    "# line_dash=\"4 4\", line_width=2, color='red'\n",
    "p.line([Y.min(), Y.max()], [Y.min(), Y.max()], line_dash=\"4 4\", line_width=2, line_color=\"black\")\n",
    "show(p)"
   ]
  },
  {
   "cell_type": "code",
   "execution_count": 25,
   "metadata": {
    "collapsed": false
   },
   "outputs": [
    {
     "data": {
      "text/plain": [
       "<matplotlib.text.Text at 0x7fd2a991d8d0>"
      ]
     },
     "execution_count": 25,
     "metadata": {},
     "output_type": "execute_result"
    },
    {
     "data": {
      "image/png": "[encoded data removed]",
      "text/plain": [
       "<matplotlib.figure.Figure at 0x7fd2a9921250>"
      ]
     },
     "metadata": {},
     "output_type": "display_data"
    }
   ],
   "source": [
    "plt.scatter(predicted, (predicted - Y), c='r', s=30)\n",
    "plt.title(\"Residual plot on the training data\")\n",
    "plt.xlabel(\"Predicted\")\n",
    "plt.ylabel(\"Residuals\")"
   ]
  },
  {
   "cell_type": "code",
   "execution_count": 26,
   "metadata": {
    "collapsed": false
   },
   "outputs": [
    {
     "data": {
      "text/html": [
       "\n",
       "\n",
       "    <div class=\"bk-root\">\n",
       "        <div class=\"plotdiv\" id=\"8f6bc91a-8c17-40f5-8022-47fa715c5fd0\"></div>\n",
       "    </div>\n",
       "<script type=\"text/javascript\">\n",
       "  \n",
       "  (function(global) {\n",
       "    function now() {\n",
       "      return new Date();\n",
       "    }\n",
       "  \n",
       "    var force = \"\";\n",
       "  \n",
       "    if (typeof (window._bokeh_onload_callbacks) === \"undefined\" || force !== \"\") {\n",
       "      window._bokeh_onload_callbacks = [];\n",
       "      window._bokeh_is_loading = undefined;\n",
       "    }\n",
       "  \n",
       "  \n",
       "    \n",
       "    if (typeof (window._bokeh_timeout) === \"undefined\" || force !== \"\") {\n",
       "      window._bokeh_timeout = Date.now() + 0;\n",
       "      window._bokeh_failed_load = false;\n",
       "    }\n",
       "  \n",
       "    var NB_LOAD_WARNING = {'data': {'text/html':\n",
       "       \"<div style='background-color: #fdd'>\\n\"+\n",
       "       \"<p>\\n\"+\n",
       "       \"BokehJS does not appear to have successfully loaded. If loading BokehJS from CDN, this \\n\"+\n",
       "       \"may be due to a slow or bad network connection. Possible fixes:\\n\"+\n",
       "       \"</p>\\n\"+\n",
       "       \"<ul>\\n\"+\n",
       "       \"<li>re-rerun `output_notebook()` to attempt to load from CDN again, or</li>\\n\"+\n",
       "       \"<li>use INLINE resources instead, as so:</li>\\n\"+\n",
       "       \"</ul>\\n\"+\n",
       "       \"<code>\\n\"+\n",
       "       \"from bokeh.resources import INLINE\\n\"+\n",
       "       \"output_notebook(resources=INLINE)\\n\"+\n",
       "       \"</code>\\n\"+\n",
       "       \"</div>\"}};\n",
       "  \n",
       "    function display_loaded() {\n",
       "      if (window.Bokeh !== undefined) {\n",
       "        Bokeh.$(\"#8f6bc91a-8c17-40f5-8022-47fa715c5fd0\").text(\"BokehJS successfully loaded.\");\n",
       "      } else if (Date.now() < window._bokeh_timeout) {\n",
       "        setTimeout(display_loaded, 100)\n",
       "      }\n",
       "    }\n",
       "  \n",
       "    function run_callbacks() {\n",
       "      window._bokeh_onload_callbacks.forEach(function(callback) { callback() });\n",
       "      delete window._bokeh_onload_callbacks\n",
       "      console.info(\"Bokeh: all callbacks have finished\");\n",
       "    }\n",
       "  \n",
       "    function load_libs(js_urls, callback) {\n",
       "      window._bokeh_onload_callbacks.push(callback);\n",
       "      if (window._bokeh_is_loading > 0) {\n",
       "        console.log(\"Bokeh: BokehJS is being loaded, scheduling callback at\", now());\n",
       "        return null;\n",
       "      }\n",
       "      if (js_urls == null || js_urls.length === 0) {\n",
       "        run_callbacks();\n",
       "        return null;\n",
       "      }\n",
       "      console.log(\"Bokeh: BokehJS not loaded, scheduling load and callback at\", now());\n",
       "      window._bokeh_is_loading = js_urls.length;\n",
       "      for (var i = 0; i < js_urls.length; i++) {\n",
       "        var url = js_urls[i];\n",
       "        var s = document.createElement('script');\n",
       "        s.src = url;\n",
       "        s.async = false;\n",
       "        s.onreadystatechange = s.onload = function() {\n",
       "          window._bokeh_is_loading--;\n",
       "          if (window._bokeh_is_loading === 0) {\n",
       "            console.log(\"Bokeh: all BokehJS libraries loaded\");\n",
       "            run_callbacks()\n",
       "          }\n",
       "        };\n",
       "        s.onerror = function() {\n",
       "          console.warn(\"failed to load library \" + url);\n",
       "        };\n",
       "        console.log(\"Bokeh: injecting script tag for BokehJS library: \", url);\n",
       "        document.getElementsByTagName(\"head\")[0].appendChild(s);\n",
       "      }\n",
       "    };var element = document.getElementById(\"8f6bc91a-8c17-40f5-8022-47fa715c5fd0\");\n",
       "    if (element == null) {\n",
       "      console.log(\"Bokeh: ERROR: autoload.js configured with elementid '8f6bc91a-8c17-40f5-8022-47fa715c5fd0' but no matching script tag was found. \")\n",
       "      return false;\n",
       "    }\n",
       "  \n",
       "    var js_urls = [];\n",
       "  \n",
       "    var inline_js = [\n",
       "      function(Bokeh) {\n",
       "        Bokeh.$(function() {\n",
       "            var docs_json = {\"f7a798b7-1e9c-433c-af23-88117b685141\":{\"roots\":{\"references\":[{\"attributes\":{\"axis_label\":\"Predicted\",\"axis_label_text_color\":{\"value\":\"#aa6666\"},\"formatter\":{\"id\":\"5c8a6e15-2010-4576-86d8-e759b767aff6\",\"type\":\"BasicTickFormatter\"},\"major_tick_line_color\":{\"value\":\"firebrick\"},\"major_tick_line_width\":{\"value\":3},\"minor_tick_line_color\":{\"value\":\"orange\"},\"plot\":{\"id\":\"4a7c8fae-5b0b-492c-9ce3-9e7bde22f9e9\",\"subtype\":\"Figure\",\"type\":\"Plot\"},\"ticker\":{\"id\":\"b28a8968-760b-400c-9a2d-1ed6fb691f70\",\"type\":\"BasicTicker\"}},\"id\":\"0316a486-863e-4029-8199-4bc0f1e3c4ee\",\"type\":\"LinearAxis\"},{\"attributes\":{\"callback\":null,\"column_names\":[\"x\",\"y\"],\"data\":{\"x\":[46.3954864994798,44.58690977666012,34.26769482376539,15.539490208404217,46.3954864994798,20.939834256068927,15.539490208404217,26.358453655164535,41.701842260659504,37.10554517589978,26.358453655164535,28.331028490666668,21.5384957981739,34.26769482376539,61.44545398890957,24.890945445000007,44.58690977666012,30.66339241789287,26.358453655164535,37.10554517589978,26.358453655164535,41.701842260659504,20.939834256068927,30.802112076212918,30.802112076212918,52.052141442874955,40.143838763505904,34.26769482376539,44.58690977666012,15.539490208404217,34.26769482376539,26.358453655164535,26.358453655164535,46.81251139326045,60.30938270929046,44.58690977666012,37.10554517589978,27.8967432831579,24.648604991978136,15.897584030564095,39.51390949118888,26.358453655164535,37.10554517589978,15.897584030564095,15.539490208404217,46.3954864994798,44.58690977666012,41.701842260659504,34.26769482376539,15.897584030564095,26.358453655164535,15.897584030564095,39.51390949118888,37.10554517589978,43.47715052413748,61.44545398890957,41.701842260659504,30.66339241789287,46.3954864994798,43.47715052413748,26.358453655164535,26.358453655164535,15.897584030564095,43.47715052413748,60.30938270929046,30.66339241789287,34.26769482376539,46.3954864994798,34.26769482376539,46.3954864994798,41.701842260659504,30.66339241789287,61.44545398890957,37.10554517589978,15.539490208404217,50.54740077111109,46.3954864994798,30.66339241789287,30.66339241789287,27.8967432831579,30.66339241789287,44.58690977666012,61.44545398890957,34.440885729002865,28.259661497871935,59.88752979434169,28.259661497871935,45.9341944406689,59.88752979434169,34.440885729002865,39.50139952235338,49.48441828421053,39.04100560607507,42.36470193164924,28.259661497871935,35.48407754218866,29.336847730522965,28.259661497871935,59.88752979434169,35.48407754218866,13.235900749217388,28.259661497871935,45.9341944406689,24.46715487440187,45.9341944406689,42.36470193164924,54.65498012864706,24.46715487440187,29.590731684422472,49.48441828421053,35.48407754218866,39.50139952235338,29.336847730522965,29.336847730522965,39.04100560607507,20.934732157000006,44.03342559783706,29.336847730522965,31.797558244594853,26.41065821932966,28.259661497871935,28.259661497871935,45.9341944406689,29.590731684422472,44.945377172633684,44.03342559783706,29.336847730522965,29.590731684422472,35.48407754218866,27.09500732788092,27.154491635293443,24.46715487440187,62.97432891101542,14.653291689111434,59.88752979434169,62.97432891101542,44.03342559783706,40.28532753955937,13.235900749217388,28.259661497871935,44.03342559783706,28.259661497871935,39.04100560607507,42.36470193164924,49.48441828421053,42.36470193164924,44.945377172633684,35.48407754218866,42.36470193164924,59.88752979434169,13.235900749217388,31.797558244594853,44.03342559783706,28.259661497871935,44.945377172633684,59.88752979434169,44.945377172633684,62.97432891101542,45.9341944406689,62.6193052948336,24.197589287337312,28.259661497871935,20.934732157000006,29.336847730522965,35.48407754218866,44.03342559783706,44.41130767029148,29.497817234199996,26.62910573549494,15.55353019422772,27.99144215985668,26.62910573549494,31.043613378259145,26.62910573549494,43.667956358442474,44.41130767029148,31.043613378259145,26.62910573549494,49.77448916235293,31.043613378259145,15.977509527420043,26.62910573549494,26.62910573549494,44.41130767029148,43.667956358442474,42.736596971718114,63.24147865955107,40.890362042657785,29.497817234199996,46.89133936844442,44.41130767029148,44.41130767029148,46.25721406394548,49.77448916235293,40.82225287063629,16.077421281747238,43.15491570755555,40.890362042657785,42.736596971718114,44.41130767029148,51.580328235622936,44.41130767029148,44.41130767029148,29.497817234199996,40.890362042657785,40.890362042657785,43.59142772698414,26.62910573549494,15.977509527420043,44.41130767029148,31.043613378259145,16.077421281747238,43.667956358442474,15.55353019422772,43.667956358442474,40.82225287063629,63.734004106452126,26.62910573549494,46.89133936844442,29.497817234199996,40.890362042657785,26.62910573549494,40.82225287063629,40.890362042657785,61.82406529745583,40.890362042657785,26.62910573549494,40.82225287063629,15.977509527420043,43.59142772698414,44.41130767029148,15.55353019422772,44.41130767029148,26.62910573549494,29.497817234199996,40.890362042657785,31.043613378259145,63.24147865955107,63.24147865955107,43.667956358442474,40.890362042657785,31.043613378259145,16.077421281747238,23.5443126325,43.59142772698414,46.25721406394548,63.24147865955107,31.043613378259145,26.62910573549494,66.8753181137149,31.106619088267713,47.36930215186057,30.45565433806691,66.02648233704919,37.82737516578011,37.664808266520524,30.45565433806691,37.82737516578011,15.237964727661257,44.53696345003729,66.26242072939131,42.917674676800004,48.66012985409524,14.213425689932738,55.56784505019607,15.237964727661257,14.213425689932738,43.952919395823905,31.106619088267713,29.886644622603765,14.213425689932738,29.057115367911603,14.213425689932738,23.465280440912846,30.45565433806691,29.886644622603765,30.45565433806691,30.45565433806691,49.13716307269472,30.45565433806691,31.106619088267713,28.472359131867393,31.106619088267713,31.106619088267713,47.36930215186057,37.82737516578011,30.45565433806691,31.106619088267713,47.36930215186057,15.237964727661257,14.213425689932738,30.45565433806691,31.750651124655537,29.886644622603765,23.465280440912846,42.917674676800004,47.36930215186057,47.36930215186057,49.13716307269472,37.82737516578011,47.36930215186057,47.36930215186057,37.82737516578011,33.88652268397485,29.17460669671765,30.45565433806691,37.82737516578011,14.213425689932738,28.314194855636323,48.66012985409524,29.17460669671765,30.45565433806691,37.82737516578011,30.45565433806691,31.106619088267713,47.36930215186057,14.213425689932738,29.886644622603765,30.45565433806691,47.058782445466676,14.213425689932738,66.02648233704919,14.213425689932738,30.45565433806691,31.106619088267713,66.26242072939131,66.8753181137149,30.45565433806691,31.106619088267713,31.106619088267713,40.19597199722222,30.45565433806691,41.46974526162164,41.72587331005308,46.69990808126924,41.17232097157942,22.52290564919999,13.317007870092564,58.21417348188081,44.797806704823145,41.17232097157942,22.52290564919999,31.15167640823697,21.6528488227445,20.553408957475895,12.993974136717004,34.87353364695396,44.797806704823145,41.46974526162164,41.72587331005308,41.17232097157942,34.87353364695396,46.69990808126924,27.90919763857725,29.91985157741175,45.68491264594457,13.317007870092564,13.317007870092564,26.00167746760058,31.15167640823697,48.868060553416356,16.831167160593665,16.831167160593665,35.27270092491785,21.00414259041921,48.868060553416356,63.691987109873985,41.17232097157942,45.68491264594457,43.53073265903843,29.91985157741175,31.15167640823697,45.68491264594457,26.00167746760058,58.21417348188081,18.00911312,31.15167640823697,26.00167746760058,26.00167746760058,45.68491264594457,31.15167640823697,34.87353364695396,43.53073265903843,16.831167160593665,26.00167746760058,43.53073265903843,22.52290564919999,16.831167160593665,41.72587331005308,27.90919763857725,59.54378008628063,18.00911312,21.6528488227445,41.72587331005308,63.691987109873985,46.69990808126924,22.52290564919999,44.797806704823145,43.53073265903843,29.91985157741175,16.831167160593665,43.53073265903843,43.68976098242733,50.15020713273978,29.91985157741175,34.87353364695396,44.797806704823145,27.90919763857725,31.15167640823697,12.993974136717004,35.27270092491785,46.69990808126924,31.15167640823697,16.831167160593665,62.60677979288572,41.845830061663,27.54583023933334,27.54583023933334,36.33742126478452,41.67800179364383,53.26626817216001,27.54583023933334,30.476667927359376,36.33742126478452,12.73954337127856,30.476667927359376,60.34123322964939,43.88749086487431,39.73772472514778,39.73772472514778,27.54583023933334,29.3345089339633,41.67800179364383,41.67800179364383,15.914920490526322,40.81934554972838,15.862882088966515,15.862882088966515,27.54583023933334,12.73954337127856,12.73954337127856,26.753300559866666,41.67800179364383,41.845830061663,36.33742126478452,41.67800179364383,30.476667927359376,41.845830061663,26.753300559866666,29.011494070375353,30.476667927359376,12.73954337127856,29.011494070375353,39.73772472514778,29.011494070375353,53.26626817216001,27.54583023933334,26.753300559866666,27.54583023933334,30.476667927359376,15.862882088966515,41.845830061663,29.0091812476789,30.476667927359376,62.60677979288572,12.73954337127856,27.54583023933334,41.845830061663,36.33742126478452,41.845830061663,15.862882088966515,43.88749086487431,65.27089115368172,43.88749086487431,41.67800179364383,27.54583023933334,41.67800179364383,27.54583023933334,30.476667927359376,30.476667927359376,39.73772472514778,27.54583023933334,65.27089115368172,40.21622954702049,29.011494070375353,30.476667927359376,43.88749086487431,12.73954337127856,28.6694674003378,28.716057709903907,43.88749086487431,62.60677979288572,30.476667927359376,62.60677979288572,39.73772472514778,40.21622954702049,26.942949622185367,40.86585088117646,29.89460517314969,44.756763089928185,26.942949622185367,25.13473393013514,26.942949622185367,26.942949622185367,62.269850363297806,26.744863004645175,26.942949622185367,29.89460517314969,44.417834095136456,29.89460517314969,52.509403513684205,61.337878179633925,62.269850363297806,61.337878179633925,39.443950798684696,26.942949622185367,26.942949622185367,62.269850363297806,15.107962537736052,26.634111383220603,41.58945852705629,28.341928777882877,26.942949622185367,46.249605713272764,62.269850363297806,62.269850363297806,41.2378424219487,45.2518395317346,45.2518395317346,26.942949622185367,26.942949622185367,46.46049949612925,15.107962537736052,62.269850363297806,41.2378424219487,26.942949622185367,25.13473393013514,39.443950798684696,26.942949622185367,46.46049949612925,26.942949622185367,39.1927990407044,15.107962537736052,46.46049949612925,40.86585088117646,46.46049949612925,46.46049949612925,39.1927990407044,26.942949622185367,15.107962537736052,28.341928777882877,45.2518395317346,61.337878179633925,45.2518395317346,41.2378424219487,40.86585088117646,46.249605713272764,16.819775228084094,29.89460517314969,16.819775228084094,44.756763089928185,26.942949622185367,46.249605713272764,26.942949622185367,41.2378424219487,46.46049949612925,44.756763089928185,26.942949622185367,16.73965076534903,14.421277009178453,26.942949622185367,26.942949622185367,29.89460517314969,62.269850363297806,39.1927990407044,39.1927990407044,26.942949622185367,26.942949622185367,28.522498274120007,16.278802858706268,43.64031689161404,47.60700943724236,16.278802858706268,28.522498274120007,15.355151144734684,15.355151144734684,16.278802858706268,16.278802858706268,44.94059535451006,49.01161391259932,28.522498274120007,39.56121302213878,65.12977003684581,15.355151144734684,40.08781587468317,65.12977003684581,28.522498274120007,38.09666071405265,28.522498274120007,15.355151144734684,15.355151144734684,46.020577176116994,30.268473201810988,38.63333116820876,43.64031689161404,38.63333116820876,45.77819601183098,45.77819601183098,31.066992263774626,49.01161391259932,31.772819811219506,49.01161391259932,38.09666071405265,15.355151144734684,30.268473201810988,38.09666071405265,49.24922823832381,45.77819601183098,44.94059535451006,38.63333116820876,65.12977003684581,65.36760818524358,38.63333116820876,15.355151144734684,38.09666071405265,47.60700943724236,16.278802858706268,65.36760818524358,30.268473201810988,28.44106808119778,30.268473201810988,32.063303124565884,51.66186211666667,30.268473201810988,39.56121302213878,45.77819601183098,15.355151144734684,49.01161391259932,30.268473201810988,44.94059535451006,51.66186211666667,28.522498274120007,15.355151144734684,28.522498274120007,40.08781587468317,30.268473201810988,31.772819811219506,20.263322069809526,28.44106808119778,28.522498274120007,31.772819811219506,43.64031689161404,30.268473201810988,15.355151144734684,28.522498274120007,43.64031689161404,30.268473201810988,28.44106808119778,20.263322069809526,43.64031689161404,61.35937803296199,35.05882038600001,40.44466216,59.63617033620268,21.16738263046808,29.63890614877611,32.765199015658,46.182960753932065,36.85299124962356,16.393454955544396,29.63890614877611,46.28409952395452,46.182960753932065,46.182960753932065,32.765199015658,14.788836184367868,22.76200001501538,14.788836184367868,61.20291005469884,32.765199015658,22.76200001501538,61.20291005469884,43.07551835090692,14.788836184367868,36.85299124962356,43.07551835090692,46.28409952395452,14.788836184367868,35.05882038600001,29.63890614877611,29.63890614877611,29.91246491627308,40.44466216,61.20291005469884,29.91246491627308,48.55750001768749,14.788836184367868,35.05882038600001,59.63617033620268,46.28409952395452,22.76200001501538,41.72458816949998,21.16738263046808,29.63890614877611,29.91246491627308,25.65419755888608,39.06431653829787,43.603712388866974,29.91246491627308,29.63890614877611,61.20291005469884,14.788836184367868,40.44466216,29.63890614877611,46.182960753932065,48.55750001768749,29.63890614877611,35.59491920640401,43.07551835090692,41.72458816949998,35.05882038600001,61.20291005469884,46.182960753932065,46.182960753932065,32.765199015658,61.20291005469884,29.63890614877611,46.182960753932065,21.16738263046808,27.07354738754511,41.72458816949998,36.85299124962356,29.63890614877611,16.393454955544396,59.63617033620268,16.393454955544396,29.63890614877611,29.63890614877611,46.182960753932065,36.85299124962356,40.44466216,25.65419755888608,40.777781755914944,62.599067469494486,30.098912393760614,30.098912393760614,13.64928902423362,47.67206087831561,40.777781755914944,48.74762128709677,30.098912393760614,42.96759965739398,30.098912393760614,37.346432358554004,17.109288674471074,62.599067469494486,38.34794922792118,40.777781755914944,50.90086960870453,40.048009900576616,23.551140648047983,30.098912393760614,42.96759965739398,30.098912393760614,48.115489935552574,62.599067469494486,42.96759965739398,46.925790285348874,62.599067469494486,30.098912393760614,46.72679750926829,40.98236389775189,36.96932072144194,62.599067469494486,17.109288674471074,13.64928902423362,17.109288674471074,17.109288674471074,46.925790285348874,13.64928902423362,25.362772694211458,42.96759965739398,40.777781755914944,19.10624781565633,30.098912393760614,62.599067469494486,34.286116275515155,47.67206087831561,48.115489935552574,66.61776873951405,26.59325692742542,40.98236389775189,30.098912393760614,46.72679750926829,23.551140648047983,40.777781755914944,36.96932072144194,50.90086960870453,47.67206087831561,40.048009900576616,40.777781755914944,42.96759965739398,40.048009900576616,47.67206087831561,46.925790285348874,13.64928902423362,30.098912393760614,40.777781755914944,62.599067469494486,38.34794922792118,17.109288674471074,62.599067469494486,13.64928902423362,25.362772694211458,62.599067469494486,23.551140648047983,62.599067469494486,40.048009900576616,22.269730062000004,37.346432358554004,23.551140648047983,26.59325692742542,30.716722949612883,37.346432358554004],\"y\":[2.503444339479806,6.3761498566601205,0.84810362776539,2.4187619284042174,-0.8267247405201985,-1.3785038639310727,3.066869368404218,-2.5795435408354663,-5.3280051753405,10.782730447899777,-4.081222268835461,15.692933410666669,0.7645839181739014,-9.530578600234605,-4.654610131090429,9.529420165000008,3.721667256660126,-15.276393462107126,-7.398291304835464,-6.476232784100219,2.8342220111645346,-0.9974064193404928,6.795923592068927,-17.599103123787078,-3.7675250877870816,16.19249468287496,-18.951149196494093,9.770612543765388,6.864988340660119,0.01938544840421841,1.8664596797653914,-6.695025784835462,-22.89081702483546,-24.886097846739546,5.413303589290464,-5.87239128333988,-14.75821849610022,-0.7854583168420994,-2.1237480880218627,-1.3386264934359051,2.675206811188886,-13.872470944835467,-10.608951928100218,4.535019550564096,5.548982968404218,5.470259567479808,4.023657744660127,9.985946260659503,-5.149648096234607,-2.2287400094359047,8.073550135164535,6.0311824705640955,-1.7857029088111176,2.549008055899776,-10.48124123586252,-21.153770811090432,-12.897072703340491,-13.948462686107124,7.1056966394798025,-20.051168115862517,-12.803783144835467,-12.963052100835466,-4.5184898054359035,-0.918209115862517,3.9722987492904593,-7.8369474221071265,2.0222812557653853,4.1664604514798,-11.979597352234613,12.707689139479804,-2.507358859340492,-3.065773502107131,-3.4549218910904287,3.913481059899773,3.087553648404217,6.407147251111091,-11.520497500520193,-24.84632034210713,-6.6027853821071325,-14.319872196842102,-10.539693342107132,4.807591956660126,-3.4549218910904287,-5.221221170997133,4.748529897871936,5.122451114341693,-0.8134729941280625,-3.839077999331103,-5.309320765658313,-2.147537162997132,-12.505775157646617,12.218240484210526,-4.537324973924932,1.6856179316492472,1.2942551378719358,-0.7678810618113374,3.610429742522964,16.078689005871937,-13.107294325658316,6.857034022188657,1.8436888012173878,8.175225617871934,-2.349809839331101,0.46649531440187175,0.6294159566689004,6.601581811649247,-19.539532231352943,9.767526554401872,3.9816231149638313,-12.50636887578947,-2.5901661298113368,-14.59488743764662,-11.520121077477032,-10.507970309477034,16.60545656607507,-4.959228498999991,1.1135445978370626,-1.3103604694770326,5.597470244594852,3.2718436593296616,1.4045712978719358,2.111973673871937,-6.512176451331101,-8.330448315577527,3.1086629686336877,-4.953844202162941,20.800445374522965,-6.163523746118891,-13.103296177811337,5.493724247880923,-1.6449208847065577,-8.356039581598132,-16.322305848984584,2.998389385111434,-6.893145636199677,1.879860551015419,-4.63668524216294,0.08887673955936748,-13.02210323478261,14.801089977871936,-3.7058926421629366,4.563060853871935,11.21375424607507,11.014228211649243,-10.83783695578947,-6.330919520350754,5.852087972633683,2.367166310188658,5.036471291649242,9.190359514341687,-0.3295395507826111,-1.8902391154051443,-9.42854344216294,11.755674485871936,-16.910469681554275,-0.4071464056583096,1.932416912633684,-14.322825448984574,-10.913101759331099,7.1233820548336055,9.148396635337313,10.422917377871936,1.169523665000007,4.798396890522966,13.53805646218866,10.469733917837061,1.353531470291479,1.8167347861999943,-4.397314264505059,13.22172236222772,-14.301015680143319,11.28826473549494,11.352178818259148,-7.072481144505062,-4.11410939355752,-11.73065458170852,6.153529778259145,-3.241752488505057,-8.830970837647072,6.139740258259145,2.5819758121493646,2.842183735494938,-7.100060184505061,-7.630340809708521,12.317482638442474,4.780943171718114,5.642653619551069,11.442842082657787,5.607473834199997,-20.808309071555584,9.675506790291479,5.355250174291477,21.160287663945482,4.406968362352927,12.726105870636292,-7.144130398252759,3.0067282275555556,-1.249721601342209,5.394576811718117,0.27794891029147806,-8.700558444377059,-5.361964769708521,-15.179118044979198,11.538346386199994,16.786281082657787,13.945639962657786,11.624562462984148,-1.6083838445050596,-0.1320972125799571,-9.86424304970852,12.297450414259146,-8.840241358252761,2.8096085984424732,4.087544314227721,5.26000630244247,15.621905070636291,-15.666052053547865,3.1110793754949384,-19.532778471555574,-9.9539994858,11.104998842657785,4.2811201474949385,-15.07356644936371,10.767155602657784,-5.7445827025441645,-12.633659837342215,13.33600845549494,16.72506667063629,0.9883012874200432,4.008610566984146,-4.43530902570852,3.595947926227721,5.0353333102914775,6.641196495494938,-9.958136341800003,1.4688822666577863,6.560320618259148,4.043069299551071,-3.4584295804489287,-6.305264121557521,0.17680424265778782,-8.655725225740852,-4.20006787825276,5.969569392499999,10.508990294984144,5.205813023945481,7.09744797955107,-12.333390209740855,11.543370855494938,-10.421836246285096,-1.733122791732285,9.931444827860574,6.711479850066912,9.627345537049187,-5.561349514219884,-7.033231337479471,-2.2648081939330886,-16.075858514219888,7.488254487661258,-3.2781971499627076,6.367640609391309,4.899968036800004,-20.090477000092726,7.329697305932738,-21.232886589803925,3.3858722876612575,5.725976129932738,-5.248087964176094,-1.6614172877322915,-3.3254142973962324,-3.7818979100672614,5.256403847911603,7.311081453932737,5.338956400912846,19.91977158206691,4.376032622603766,16.994324914066908,4.972621378066911,-6.510444887305276,-2.5081932219330874,11.690974928267714,5.526597851867393,11.415184528267716,13.072684832267715,-5.539017660139422,14.582184311592151,4.765778578066911,13.152664048267713,3.6710027478605767,-0.3372981123387415,-11.208933382067261,1.2977142980669107,9.315102084655539,7.354568942603766,2.285956672912846,9.519457236800008,-1.6041781281394236,24.879973983860573,-18.169484047305275,-1.7830210342198853,2.284466511860572,8.908262443860572,-9.104566678219882,-6.709824196025146,-1.2726534632823494,6.164725382066912,-12.166529594219888,6.150003869932737,12.035666495636324,8.270625774095237,5.5354295509056115,9.38940463406691,-5.423454314219889,9.53695249806691,-2.6921839077322858,3.339364791860575,4.363768544120697,4.265716462603766,6.00683537806691,-29.17657887453332,-1.5348956260672608,7.503759457049192,6.374083569932738,13.180143682066912,3.8861066082677134,-5.0362924306086825,-1.2242264062850978,5.7999925780669095,4.192923428267715,-2.292977303732286,10.803610117222224,0.5634223580669122,-5.331885618378358,10.471926230053082,-8.851173238730759,12.172960411579417,-16.777226350800007,2.981073154092565,-21.77193727811919,-2.479562615176853,16.15123693157942,-1.8707552308000075,-12.581786271763026,-28.1480026572555,11.541957637475896,1.5796989567170048,1.3305262469539585,-11.029065015176855,-5.4284122583783585,9.982398270053082,5.809096931579418,-0.4690061130460421,-19.296734638730754,-2.32432496142275,-5.394419666588245,8.749683325944574,0.5823861500925638,2.147496670092565,-12.602083772399418,-13.457420791763031,7.716685493416357,4.042766312593667,4.655021000593665,2.2295636249178514,-0.8550045135807913,7.815280561416358,-7.6067260501260066,-6.53941822842058,-0.5444531540554252,16.78595861903843,-11.621077422588247,4.234533368236971,-10.259169994055426,8.17872286760058,-3.021637458119187,2.6682721199999992,-0.26774491176302817,4.090130187600579,9.12330498760058,-6.735947634055428,-6.019353703763027,-4.771336353046038,-7.1243795849615665,3.310542800593666,-9.954495932399418,-3.6018467009615733,-33.572861710800005,-2.5189767794063336,9.657655074053082,9.710478618577252,-0.7508961137193708,4.6746472799999985,-6.2709291772555,8.120813070053082,-7.6067260501260066,10.25213829326924,-10.965928635529323,6.338835424823145,4.83044477903843,-3.8782619425882494,-2.584476999406334,4.044442139038431,-15.612069777572671,-30.04964118726022,-2.131819234588246,13.014386542953957,-11.946068095176855,17.374004358577253,5.186010248236972,8.090420824717004,-6.668124155082147,4.765288285269243,-36.71344627176303,3.742154776593665,11.585555792885721,-11.112821498336999,-1.4397408006666588,9.581533059333342,6.788449834243156,0.4335474736438343,-5.518455587839988,15.086309443333342,-4.197080112640624,-5.3469187432154826,-4.1498607247214405,5.259772703359378,-6.255253610350607,-7.443997335125687,6.718719085147782,9.614518285147778,14.252043483333342,-5.435765746036701,3.5637685136438293,5.8252497936438346,-0.3498183494736775,2.6154803897283827,-5.956964883033482,1.3632018089665152,17.810429119333342,1.9768230112785599,-4.42634060072144,12.212251719866666,5.039247153643828,-8.230811818336996,-0.626766047215483,-2.618073302356173,-5.872506792640625,-14.215463498336995,7.647920599866666,4.729528302375353,-5.873196268640623,-2.330432059262799,3.5505243423753505,1.0374368451477807,-14.365509517624648,-13.847325667839982,0.3115282393333416,7.554151863866668,-1.8672159206666592,0.822305167359378,2.2388363289665154,1.697642581663004,-0.5417601123211,-2.1838101926406246,5.911168312885721,1.255631115278561,-7.679498600666655,-0.48110157833699674,3.33358409678452,-9.409815778336998,-6.054180999033484,5.6719046128743145,-12.026263206318276,-8.538885223125689,4.446297793643829,1.3181631993333411,2.6812392336438293,2.5592199993333438,7.641222807359377,18.231574167359376,0.13284433314778,12.025725479333342,0.07404059368171545,-15.679589772979512,-10.346553913624643,12.900545735359376,2.952611268874307,0.6875028912785606,4.264774904337802,5.191136589903909,4.587358864874311,7.152225112885716,-6.95498411264062,-7.230244247114285,8.387251005147778,-5.985557212979508,-19.44499565781463,5.5646796811764645,1.2675616531496878,12.882287609928188,6.348990978185366,12.58627073013514,-6.721405553814634,11.851698934185366,-7.387909916702185,-33.018916675354824,-9.500683309814633,6.962633413149689,2.387377135136461,-2.7320886228503163,-14.314610406315794,-10.65031098036608,-12.095061094822597,-10.760627140366076,2.4535633986847003,5.403719382185368,-10.488702417814629,-2.0306813967021924,7.792622177736052,-11.969649856779395,18.691960567056288,-3.6694569373877997,-0.7326170178146327,6.187602733272769,5.774186923297805,-8.429018676702185,-5.405208978051299,13.280837411734606,12.529308571734603,3.1560276221853663,-6.0140031778146295,-8.697580503870746,4.724453977736053,-12.228031436702196,-12.486127498051303,-3.9386804178146306,11.59342529013514,-4.130932401315306,5.438193182185369,-6.366462147870742,-6.1174245778146314,-11.580213599295597,-4.431097826263949,4.329379040129254,5.5646796811764645,4.917502068129252,-0.9409755038707459,-12.539964191295596,6.955040382185366,0.06359621773605184,-1.2503811421171207,3.124855931734608,9.034228819633924,5.868970411734608,2.0893951419486996,4.5649394811764665,1.9231936732727632,-6.585177067915904,7.26462390114969,1.2038333040840943,20.921577769928184,-8.28237921781463,15.071500993272764,-0.9318755818146336,2.6754497419486967,-7.855040831870745,2.1195672499281883,-6.358741177814629,4.198082325349031,9.639071473178454,-2.125358537814634,-7.296428537814634,-2.989952646850309,12.372472243297807,7.656166800704401,5.4912121607044,-5.820949897814629,-10.971335617814631,2.962933478120007,-1.1580451812937334,-13.57791739638595,-2.9198602707576384,1.9721758587062688,9.51295547812001,5.265359360734683,2.1723700247346844,2.7581784987062683,-13.996777777293733,-7.576102089489936,-32.73955540740068,0.05403423412000663,-1.2971347378612208,-6.168943123154179,-2.0127492952653157,-15.808003445316828,2.6287706368458146,2.2893154261200053,3.891756354052653,-12.88743028587999,5.737650420734683,-1.867959335265315,1.6321122961169934,10.503264709810988,-11.877680591791233,4.588396251614043,13.516705452938083,10.208129171830983,1.500047291830981,-19.533651376225375,-19.28787864740068,0.594025615219504,-13.041226087400673,-1.134523685947343,0.3245743447346854,12.67166672981099,1.5337484340526544,-10.54902524167619,-11.034626388169023,-8.360036301489941,0.6363088082087671,0.829238276845814,-11.92954617475641,0.022675168208763807,4.567609648734685,3.609071194052653,-6.048012882757639,3.0546531787062676,1.970289985243582,-6.66675611818901,3.0683512811977813,18.09232704181099,-5.106348035434117,0.6061643166666713,8.356925921810987,-4.737619977861222,-7.99403722816902,-5.935867735265315,3.713040712599323,11.85256924181099,2.319946938510057,-9.287816283333328,-2.5935536058799933,-0.08221649526531571,4.280522114120007,-2.707959445316824,8.301767841810989,-6.857830992780492,-5.7988707301904725,4.012933401197781,0.7504049941200073,-0.12716628078049297,-12.978762752385954,-3.005638558189009,3.778849104734684,-1.6972348058799902,-12.972557468385958,-3.0380439301890085,-1.4890850788022192,-3.7373374901904732,-2.5938752403859553,-17.93725672703801,-6.66068289799999,7.046444720000004,8.601156816202682,6.1781743904680795,1.6172225567761096,0.3667217756580001,-6.921170242067937,1.551820049623558,1.5972999955443967,-0.4408633032238889,9.01861119995452,-4.765868266067933,2.484661349932068,11.115652615658,-8.287925535632132,-1.3034702889846201,4.7569603843678685,2.4043967746988457,7.585535495658,-1.6757873289846188,0.9082338546988424,2.41711863090692,7.281821496367869,-18.74635339037644,6.7746069509069216,-28.41373031604548,5.227183016367869,-9.149001781999992,16.44233550877611,1.7034070567761113,3.8640616362730817,8.334779875270684,-17.59730198530115,3.5124288762730806,-8.076058622312509,-0.9022586236321324,9.97568350600001,8.614946336202685,9.024816483954517,-19.661458264984617,-1.7744526705000183,-2.3561595375319193,4.08003082877611,-1.7275887237269174,12.816154438886079,5.100728778297871,-5.597294971133024,14.342717884273082,0.6478193007761064,-3.993940505301161,2.4161893643678685,-1.441004839999998,3.8938723087761105,6.1244051539320665,2.3281342176874915,5.900247468776108,-7.970311329595994,2.0241173109069166,8.87105676949998,4.035158290000005,1.0047604946988429,-19.724050086067933,-27.115232806067937,-11.512949704341999,9.00268209469884,2.778989616776112,5.4238975379320635,9.70139675046808,5.293000547545109,1.1558203294999814,8.55689620962356,11.351244724776109,2.1902493555443954,15.11670501620268,1.5497261515443963,8.375466308776108,-9.75775249122389,-6.258583806067932,1.551820049623558,-0.6550021999999984,1.37085283888608,15.598118235914946,0.8013335894944902,6.408517033760614,-1.1688242062393854,4.517868880233619,10.86714252231561,9.930625515914944,6.200057327096772,11.090059073760614,17.863778497393984,-14.537763846239386,-1.648951249445993,7.801362674471074,7.047986149494484,-0.4212862520788221,-5.058582724085056,-23.266063711295466,17.295301900576618,-4.191305163952013,0.23081207376061386,-6.2175497546060114,5.760409593760613,3.59188775955257,-5.900373130505514,11.320651257393983,9.49827510134888,-5.197107610505512,-6.339894206239386,-8.293387290731708,1.9777216130225739,4.436395661441942,-11.099022170505506,-2.8234624855289248,5.27491352823362,6.887117498471074,2.5123922784710757,3.2268014053488727,5.925778872233619,-5.987701025788542,-1.9007405186060211,-4.589739044085057,-10.644641584343667,3.9539824737606146,7.399618909494485,5.0544023035151575,-3.369847401684389,-17.793589332447425,-12.678866020485955,16.855097903425417,-13.913715222248108,-7.263792046239388,-4.997692010731711,2.8254920880479837,-12.042974604085053,4.866628685441938,-20.721897271295468,11.806208834315619,4.94678674057662,-5.465373564085056,11.127597977393982,6.64979246057662,-9.540657601684387,2.983416377348874,5.973352716233619,12.069114993760614,8.902616799914941,-12.898554530505507,13.947393587921177,8.905213750471074,15.914647509494486,10.329462084233619,4.340649454211459,21.230507469494484,-3.4901080719520152,18.176128789494484,5.650052260576615,1.3027649020000034,0.376729238554006,17.283803808047985,11.176573567425418,-8.718546346387118,-13.385901197445996]}},\"id\":\"33909626-ad60-4f7d-841a-a664bf11dd54\",\"type\":\"ColumnDataSource\"},{\"attributes\":{\"callback\":null,\"overlay\":{\"id\":\"543541eb-a819-432d-ad9d-07f6bf8a78f5\",\"type\":\"BoxAnnotation\"},\"plot\":{\"id\":\"4a7c8fae-5b0b-492c-9ce3-9e7bde22f9e9\",\"subtype\":\"Figure\",\"type\":\"Plot\"},\"renderers\":[{\"id\":\"21aaf48a-8a76-4bb3-aa6a-eeaa215a52d8\",\"type\":\"GlyphRenderer\"}]},\"id\":\"284639e4-a7d9-442a-a42c-63c56d61fa7b\",\"type\":\"BoxSelectTool\"},{\"attributes\":{\"bottom_units\":\"screen\",\"fill_alpha\":{\"value\":0.5},\"fill_color\":{\"value\":\"lightgrey\"},\"left_units\":\"screen\",\"level\":\"overlay\",\"line_alpha\":{\"value\":1.0},\"line_color\":{\"value\":\"black\"},\"line_dash\":[4,4],\"line_width\":{\"value\":2},\"plot\":null,\"render_mode\":\"css\",\"right_units\":\"screen\",\"top_units\":\"screen\"},\"id\":\"2015d420-d8d3-4902-a20e-a0ccdaac28c1\",\"type\":\"BoxAnnotation\"},{\"attributes\":{\"overlay\":{\"id\":\"41b324fa-8710-463e-b581-87663eacde95\",\"type\":\"PolyAnnotation\"},\"plot\":{\"id\":\"4a7c8fae-5b0b-492c-9ce3-9e7bde22f9e9\",\"subtype\":\"Figure\",\"type\":\"Plot\"}},\"id\":\"77715cbe-939c-4619-b913-3160cfd8557a\",\"type\":\"PolySelectTool\"},{\"attributes\":{\"plot\":{\"id\":\"4a7c8fae-5b0b-492c-9ce3-9e7bde22f9e9\",\"subtype\":\"Figure\",\"type\":\"Plot\"}},\"id\":\"8f80637e-2ab8-4417-915b-1c62b2e4e18e\",\"type\":\"UndoTool\"},{\"attributes\":{},\"id\":\"1152d029-ef6e-447c-a79e-71b05d4d1cf1\",\"type\":\"ToolEvents\"},{\"attributes\":{\"callback\":null,\"plot\":{\"id\":\"4a7c8fae-5b0b-492c-9ce3-9e7bde22f9e9\",\"subtype\":\"Figure\",\"type\":\"Plot\"}},\"id\":\"64bb23aa-1a9f-43cb-a5bd-20bc2421a751\",\"type\":\"TapTool\"},{\"attributes\":{\"overlay\":{\"id\":\"2015d420-d8d3-4902-a20e-a0ccdaac28c1\",\"type\":\"BoxAnnotation\"},\"plot\":{\"id\":\"4a7c8fae-5b0b-492c-9ce3-9e7bde22f9e9\",\"subtype\":\"Figure\",\"type\":\"Plot\"}},\"id\":\"71c055a6-f1df-49c3-a3c4-7da886763684\",\"type\":\"BoxZoomTool\"},{\"attributes\":{\"fill_color\":{\"value\":\"#80B1D3\"},\"line_color\":{\"value\":\"#80B1D3\"},\"line_width\":{\"value\":3},\"x\":{\"field\":\"x\"},\"y\":{\"field\":\"y\"}},\"id\":\"6baf2376-dd37-4ce9-baca-91add91852ce\",\"type\":\"Circle\"},{\"attributes\":{\"plot\":{\"id\":\"4a7c8fae-5b0b-492c-9ce3-9e7bde22f9e9\",\"subtype\":\"Figure\",\"type\":\"Plot\"},\"ticker\":{\"id\":\"b28a8968-760b-400c-9a2d-1ed6fb691f70\",\"type\":\"BasicTicker\"}},\"id\":\"9e6b2c07-2c88-43b2-8303-2c34f62ba61f\",\"type\":\"Grid\"},{\"attributes\":{\"plot\":{\"id\":\"4a7c8fae-5b0b-492c-9ce3-9e7bde22f9e9\",\"subtype\":\"Figure\",\"type\":\"Plot\"}},\"id\":\"2bdc1208-30d8-4989-9a19-002ba9a5458e\",\"type\":\"SaveTool\"},{\"attributes\":{},\"id\":\"b28a8968-760b-400c-9a2d-1ed6fb691f70\",\"type\":\"BasicTicker\"},{\"attributes\":{\"align\":\"center\",\"plot\":null,\"text\":\"Residual plot on the training data\"},\"id\":\"09385d73-6864-4647-82a9-8eddc27a40d2\",\"type\":\"Title\"},{\"attributes\":{},\"id\":\"8c775da0-3b10-47c0-be35-0249225ac12c\",\"type\":\"BasicTicker\"},{\"attributes\":{\"callback\":null},\"id\":\"4fd87ab5-dcce-47c6-9e5a-72461a61238b\",\"type\":\"DataRange1d\"},{\"attributes\":{\"background_fill_alpha\":{\"value\":0.5},\"background_fill_color\":{\"value\":\"beige\"},\"below\":[{\"id\":\"0316a486-863e-4029-8199-4bc0f1e3c4ee\",\"type\":\"LinearAxis\"}],\"left\":[{\"id\":\"f08c4ff8-cdb7-4b35-a8c4-fed5bfdc760c\",\"type\":\"LinearAxis\"}],\"plot_height\":500,\"plot_width\":500,\"renderers\":[{\"id\":\"0316a486-863e-4029-8199-4bc0f1e3c4ee\",\"type\":\"LinearAxis\"},{\"id\":\"9e6b2c07-2c88-43b2-8303-2c34f62ba61f\",\"type\":\"Grid\"},{\"id\":\"f08c4ff8-cdb7-4b35-a8c4-fed5bfdc760c\",\"type\":\"LinearAxis\"},{\"id\":\"589378f4-a8bc-4af0-8ab0-d166a9444e4b\",\"type\":\"Grid\"},{\"id\":\"2015d420-d8d3-4902-a20e-a0ccdaac28c1\",\"type\":\"BoxAnnotation\"},{\"id\":\"543541eb-a819-432d-ad9d-07f6bf8a78f5\",\"type\":\"BoxAnnotation\"},{\"id\":\"792f0569-fd5c-43ea-adf0-2ea8e0efe599\",\"type\":\"PolyAnnotation\"},{\"id\":\"41b324fa-8710-463e-b581-87663eacde95\",\"type\":\"PolyAnnotation\"},{\"id\":\"21aaf48a-8a76-4bb3-aa6a-eeaa215a52d8\",\"type\":\"GlyphRenderer\"}],\"title\":{\"id\":\"09385d73-6864-4647-82a9-8eddc27a40d2\",\"type\":\"Title\"},\"tool_events\":{\"id\":\"1152d029-ef6e-447c-a79e-71b05d4d1cf1\",\"type\":\"ToolEvents\"},\"toolbar\":{\"id\":\"83f62e2e-8b54-4938-b812-f9069509758b\",\"type\":\"Toolbar\"},\"x_range\":{\"id\":\"37778afa-2cf4-4d50-b2c6-9fa24c2be87d\",\"type\":\"DataRange1d\"},\"y_range\":{\"id\":\"4fd87ab5-dcce-47c6-9e5a-72461a61238b\",\"type\":\"DataRange1d\"}},\"id\":\"4a7c8fae-5b0b-492c-9ce3-9e7bde22f9e9\",\"subtype\":\"Figure\",\"type\":\"Plot\"},{\"attributes\":{\"callback\":null,\"overlay\":{\"id\":\"792f0569-fd5c-43ea-adf0-2ea8e0efe599\",\"type\":\"PolyAnnotation\"},\"plot\":{\"id\":\"4a7c8fae-5b0b-492c-9ce3-9e7bde22f9e9\",\"subtype\":\"Figure\",\"type\":\"Plot\"}},\"id\":\"358f2233-ff61-412c-bf54-bcd587af355a\",\"type\":\"LassoSelectTool\"},{\"attributes\":{\"plot\":{\"id\":\"4a7c8fae-5b0b-492c-9ce3-9e7bde22f9e9\",\"subtype\":\"Figure\",\"type\":\"Plot\"}},\"id\":\"8ea7631b-df56-4fb9-be1a-2a7c35706de7\",\"type\":\"WheelZoomTool\"},{\"attributes\":{\"data_source\":{\"id\":\"33909626-ad60-4f7d-841a-a664bf11dd54\",\"type\":\"ColumnDataSource\"},\"glyph\":{\"id\":\"6baf2376-dd37-4ce9-baca-91add91852ce\",\"type\":\"Circle\"},\"hover_glyph\":null,\"nonselection_glyph\":{\"id\":\"9378d68d-e100-4244-9fcd-6dd9cdbb32e9\",\"type\":\"Circle\"},\"selection_glyph\":null},\"id\":\"21aaf48a-8a76-4bb3-aa6a-eeaa215a52d8\",\"type\":\"GlyphRenderer\"},{\"attributes\":{\"plot\":{\"id\":\"4a7c8fae-5b0b-492c-9ce3-9e7bde22f9e9\",\"subtype\":\"Figure\",\"type\":\"Plot\"}},\"id\":\"6d01811e-a9a9-459b-b311-d0604a030be6\",\"type\":\"ResizeTool\"},{\"attributes\":{\"callback\":null},\"id\":\"37778afa-2cf4-4d50-b2c6-9fa24c2be87d\",\"type\":\"DataRange1d\"},{\"attributes\":{\"plot\":{\"id\":\"4a7c8fae-5b0b-492c-9ce3-9e7bde22f9e9\",\"subtype\":\"Figure\",\"type\":\"Plot\"}},\"id\":\"8feb0a21-ae6b-44d0-9083-ff98416827e0\",\"type\":\"ResetTool\"},{\"attributes\":{\"plot\":{\"id\":\"4a7c8fae-5b0b-492c-9ce3-9e7bde22f9e9\",\"subtype\":\"Figure\",\"type\":\"Plot\"}},\"id\":\"d8c1146e-4c1e-41b9-b02b-e4b4b1ad2a0d\",\"type\":\"CrosshairTool\"},{\"attributes\":{\"fill_alpha\":{\"value\":0.1},\"fill_color\":{\"value\":\"#1f77b4\"},\"line_alpha\":{\"value\":0.1},\"line_color\":{\"value\":\"#1f77b4\"},\"line_width\":{\"value\":3},\"x\":{\"field\":\"x\"},\"y\":{\"field\":\"y\"}},\"id\":\"9378d68d-e100-4244-9fcd-6dd9cdbb32e9\",\"type\":\"Circle\"},{\"attributes\":{\"axis_label\":\"Residuals\",\"axis_label_text_color\":{\"value\":\"#aa6666\"},\"formatter\":{\"id\":\"56704739-24c7-44dd-989a-b329ccb18a74\",\"type\":\"BasicTickFormatter\"},\"plot\":{\"id\":\"4a7c8fae-5b0b-492c-9ce3-9e7bde22f9e9\",\"subtype\":\"Figure\",\"type\":\"Plot\"},\"ticker\":{\"id\":\"8c775da0-3b10-47c0-be35-0249225ac12c\",\"type\":\"BasicTicker\"}},\"id\":\"f08c4ff8-cdb7-4b35-a8c4-fed5bfdc760c\",\"type\":\"LinearAxis\"},{\"attributes\":{},\"id\":\"5c8a6e15-2010-4576-86d8-e759b767aff6\",\"type\":\"BasicTickFormatter\"},{\"attributes\":{\"plot\":{\"id\":\"4a7c8fae-5b0b-492c-9ce3-9e7bde22f9e9\",\"subtype\":\"Figure\",\"type\":\"Plot\"}},\"id\":\"825eb97c-27ce-4043-8404-aa6dcdb382aa\",\"type\":\"PanTool\"},{\"attributes\":{\"fill_alpha\":{\"value\":0.5},\"fill_color\":{\"value\":\"lightgrey\"},\"level\":\"overlay\",\"line_alpha\":{\"value\":1.0},\"line_color\":{\"value\":\"black\"},\"line_dash\":[4,4],\"line_width\":{\"value\":2},\"plot\":null,\"xs_units\":\"screen\",\"ys_units\":\"screen\"},\"id\":\"792f0569-fd5c-43ea-adf0-2ea8e0efe599\",\"type\":\"PolyAnnotation\"},{\"attributes\":{\"active_drag\":\"auto\",\"active_scroll\":\"auto\",\"active_tap\":\"auto\",\"tools\":[{\"id\":\"71c055a6-f1df-49c3-a3c4-7da886763684\",\"type\":\"BoxZoomTool\"},{\"id\":\"284639e4-a7d9-442a-a42c-63c56d61fa7b\",\"type\":\"BoxSelectTool\"},{\"id\":\"d8c1146e-4c1e-41b9-b02b-e4b4b1ad2a0d\",\"type\":\"CrosshairTool\"},{\"id\":\"6d01811e-a9a9-459b-b311-d0604a030be6\",\"type\":\"ResizeTool\"},{\"id\":\"8feb0a21-ae6b-44d0-9083-ff98416827e0\",\"type\":\"ResetTool\"},{\"id\":\"358f2233-ff61-412c-bf54-bcd587af355a\",\"type\":\"LassoSelectTool\"},{\"id\":\"825eb97c-27ce-4043-8404-aa6dcdb382aa\",\"type\":\"PanTool\"},{\"id\":\"2bdc1208-30d8-4989-9a19-002ba9a5458e\",\"type\":\"SaveTool\"},{\"id\":\"77715cbe-939c-4619-b913-3160cfd8557a\",\"type\":\"PolySelectTool\"},{\"id\":\"64bb23aa-1a9f-43cb-a5bd-20bc2421a751\",\"type\":\"TapTool\"},{\"id\":\"8ea7631b-df56-4fb9-be1a-2a7c35706de7\",\"type\":\"WheelZoomTool\"},{\"id\":\"8f80637e-2ab8-4417-915b-1c62b2e4e18e\",\"type\":\"UndoTool\"}]},\"id\":\"83f62e2e-8b54-4938-b812-f9069509758b\",\"type\":\"Toolbar\"},{\"attributes\":{\"dimension\":1,\"plot\":{\"id\":\"4a7c8fae-5b0b-492c-9ce3-9e7bde22f9e9\",\"subtype\":\"Figure\",\"type\":\"Plot\"},\"ticker\":{\"id\":\"8c775da0-3b10-47c0-be35-0249225ac12c\",\"type\":\"BasicTicker\"}},\"id\":\"589378f4-a8bc-4af0-8ab0-d166a9444e4b\",\"type\":\"Grid\"},{\"attributes\":{\"fill_alpha\":{\"value\":0.5},\"fill_color\":{\"value\":\"lightgrey\"},\"level\":\"overlay\",\"line_alpha\":{\"value\":1.0},\"line_color\":{\"value\":\"black\"},\"line_dash\":[4,4],\"line_width\":{\"value\":2},\"plot\":null,\"xs_units\":\"screen\",\"ys_units\":\"screen\"},\"id\":\"41b324fa-8710-463e-b581-87663eacde95\",\"type\":\"PolyAnnotation\"},{\"attributes\":{\"bottom_units\":\"screen\",\"fill_alpha\":{\"value\":0.5},\"fill_color\":{\"value\":\"lightgrey\"},\"left_units\":\"screen\",\"level\":\"overlay\",\"line_alpha\":{\"value\":1.0},\"line_color\":{\"value\":\"black\"},\"line_dash\":[4,4],\"line_width\":{\"value\":2},\"plot\":null,\"render_mode\":\"css\",\"right_units\":\"screen\",\"top_units\":\"screen\"},\"id\":\"543541eb-a819-432d-ad9d-07f6bf8a78f5\",\"type\":\"BoxAnnotation\"},{\"attributes\":{},\"id\":\"56704739-24c7-44dd-989a-b329ccb18a74\",\"type\":\"BasicTickFormatter\"}],\"root_ids\":[\"4a7c8fae-5b0b-492c-9ce3-9e7bde22f9e9\"]},\"title\":\"Bokeh Application\",\"version\":\"0.12.2\"}};\n",
       "            var render_items = [{\"docid\":\"f7a798b7-1e9c-433c-af23-88117b685141\",\"elementid\":\"8f6bc91a-8c17-40f5-8022-47fa715c5fd0\",\"modelid\":\"4a7c8fae-5b0b-492c-9ce3-9e7bde22f9e9\"}];\n",
       "            \n",
       "            Bokeh.embed.embed_items(docs_json, render_items);\n",
       "        });\n",
       "      },\n",
       "      function(Bokeh) {\n",
       "      }\n",
       "    ];\n",
       "  \n",
       "    function run_inline_js() {\n",
       "      \n",
       "      if ((window.Bokeh !== undefined) || (force === \"1\")) {\n",
       "        for (var i = 0; i < inline_js.length; i++) {\n",
       "          inline_js[i](window.Bokeh);\n",
       "        }if (force === \"1\") {\n",
       "          display_loaded();\n",
       "        }} else if (Date.now() < window._bokeh_timeout) {\n",
       "        setTimeout(run_inline_js, 100);\n",
       "      } else if (!window._bokeh_failed_load) {\n",
       "        console.log(\"Bokeh: BokehJS failed to load within specified timeout.\");\n",
       "        window._bokeh_failed_load = true;\n",
       "      } else if (!force) {\n",
       "        var cell = $(\"#8f6bc91a-8c17-40f5-8022-47fa715c5fd0\").parents('.cell').data().cell;\n",
       "        cell.output_area.append_execute_result(NB_LOAD_WARNING)\n",
       "      }\n",
       "  \n",
       "    }\n",
       "  \n",
       "    if (window._bokeh_is_loading === 0) {\n",
       "      console.log(\"Bokeh: BokehJS loaded, going straight to plotting\");\n",
       "      run_inline_js();\n",
       "    } else {\n",
       "      load_libs(js_urls, function() {\n",
       "        console.log(\"Bokeh: BokehJS plotting callback run at\", now());\n",
       "        run_inline_js();\n",
       "      });\n",
       "    }\n",
       "  }(this));\n",
       "</script>"
      ]
     },
     "metadata": {},
     "output_type": "display_data"
    }
   ],
   "source": [
    "# Plotining using bokeh\n",
    "#TOOLS = 'hover,box_zoom,box_select,crosshair,resize,reset,DecisionTreeRegressor_select,pan,save,poly_select,tap,wheel_zoom,undo'\n",
    "TOOLS = 'box_zoom,box_select,crosshair,resize,reset,lasso_select,pan,save,poly_select,tap,wheel_zoom,undo'\n",
    "p = figure(plot_width=500, plot_height=500, title=\"Residual plot on the training data\", tools=TOOLS)\n",
    "p.scatter(predicted, (predicted - Y),x=\"jjj\", marker=\"o\", color=\"#80B1D3\", line_width=3)\n",
    "p.title.align = \"center\"\n",
    "p.xaxis.axis_label = \"Predicted\"\n",
    "p.xaxis.axis_label_text_color = \"#aa6666\"\n",
    "#p.xaxis.axis_label_standoff = 30\n",
    "p.xaxis.major_tick_line_color = \"firebrick\"\n",
    "p.xaxis.major_tick_line_width = 3\n",
    "p.xaxis.minor_tick_line_color = \"orange\"\n",
    "p.yaxis.axis_label = \"Residuals\"\n",
    "p.yaxis.axis_label_text_font_style = \"italic\"\n",
    "p.yaxis.axis_label_text_color = \"#aa6666\"\n",
    "p.background_fill_color = \"beige\"\n",
    "p.background_fill_alpha = 0.5\n",
    "#p.line([2,38], [0, 0], line_dash=\"4 4\", line_width=2, color='red')\n",
    "show(p)"
   ]
  },
  {
   "cell_type": "markdown",
   "metadata": {},
   "source": [
    "## Pipeline"
   ]
  },
  {
   "cell_type": "markdown",
   "metadata": {},
   "source": [
    "The best to deliver the model by pipeline the operation then at deployment can be done in one model."
   ]
  },
  {
   "cell_type": "markdown",
   "metadata": {
    "collapsed": true
   },
   "source": [
    "  I used two ways to check the pipeline so any one can be fine"
   ]
  },
  {
   "cell_type": "code",
   "execution_count": 27,
   "metadata": {
    "collapsed": false
   },
   "outputs": [
    {
     "name": "stdout",
     "output_type": "stream",
     "text": [
      "0.73557658825\n",
      "Scoring according to mean_squared_error\n",
      "[ -89.21732311  -90.30156219  -78.31269734  -78.38459399 -115.85789321\n",
      "  -63.49617547  -80.62558504  -92.58519556  -68.96099818  -96.78753489]\n",
      "\n",
      " Mean      Standard deviation\n",
      "-85.45      14.21\n",
      "[ True  True  True  True  True  True  True  True]\n",
      "R-squared =  0.73557658825\n"
     ]
    }
   ],
   "source": [
    "# Use Pipeline\n",
    "# ANOVA \n",
    "from sklearn.pipeline import Pipeline\n",
    "from sklearn.feature_selection import SelectKBest, f_regression\n",
    "anova_filter = SelectKBest(f_regression, k=8)\n",
    "LR = AdaBoostRegressor(n_estimators = 5, loss = \"exponential\")\n",
    "\n",
    "anova_LinReg = Pipeline([('scaler_Input',scaler), ('anova', anova_filter), ('LinReg', LR)])\n",
    "# You can set the parameters using the names issued\n",
    "# For instance, fit using a k of 10 in the SelectKBest\n",
    "anova_LinReg.set_params(anova__k=8).fit(new_data, Y)\n",
    "prediction = anova_LinReg.predict(new_data)\n",
    "print anova_LinReg.score(new_data, Y)                        \n",
    "# getting the selected features chosen by anova_filter\n",
    "results = cross_validation.cross_val_score(anova_LinReg, new_data, Y, cv=kfold, scoring=scoring)\n",
    "print 'Scoring according to mean_squared_error'\n",
    "print results\n",
    "print '\\n Mean      Standard deviation'\n",
    "print(\"%.2f      %.2f\" % (results.mean(), results.std()))\n",
    "print anova_LinReg.named_steps['anova'].get_support()\n",
    "r_squared = r2_score(Y, prediction, multioutput='variance_weighted')\n",
    "print 'R-squared = ',r_squared"
   ]
  },
  {
   "cell_type": "code",
   "execution_count": 28,
   "metadata": {
    "collapsed": false
   },
   "outputs": [
    {
     "name": "stdout",
     "output_type": "stream",
     "text": [
      "R-squared =  0.73356931629\n"
     ]
    }
   ],
   "source": [
    "# Using make_pipeline\n",
    "from sklearn.pipeline import make_pipeline\n",
    "\n",
    "# ANOVA SVM-C\n",
    "# 1) anova filter, take 3 best ranked features\n",
    "anova_filter = SelectKBest(f_regression, k=8)\n",
    "anova_AdaBoostDecisionTreeRegressor = make_pipeline(scaler, anova_filter, LR)\n",
    "anova_AdaBoostDecisionTreeRegressor.fit(new_data, Y)\n",
    "prediction = anova_AdaBoostDecisionTreeRegressor.predict(new_data)\n",
    "r_squared = r2_score(Y, prediction, multioutput='variance_weighted')\n",
    "print 'R-squared = ',r_squared"
   ]
  },
  {
   "cell_type": "markdown",
   "metadata": {},
   "source": [
    "### Save the Pipeline model for developement"
   ]
  },
  {
   "cell_type": "code",
   "execution_count": 29,
   "metadata": {
    "collapsed": false
   },
   "outputs": [
    {
     "data": {
      "text/plain": [
       "['anova_AdaBoostDecisionTreeRegressor.pkl',\n",
       " 'anova_AdaBoostDecisionTreeRegressor.pkl_01.npy',\n",
       " 'anova_AdaBoostDecisionTreeRegressor.pkl_02.npy',\n",
       " 'anova_AdaBoostDecisionTreeRegressor.pkl_03.npy',\n",
       " 'anova_AdaBoostDecisionTreeRegressor.pkl_04.npy',\n",
       " 'anova_AdaBoostDecisionTreeRegressor.pkl_05.npy',\n",
       " 'anova_AdaBoostDecisionTreeRegressor.pkl_06.npy',\n",
       " 'anova_AdaBoostDecisionTreeRegressor.pkl_07.npy',\n",
       " 'anova_AdaBoostDecisionTreeRegressor.pkl_08.npy',\n",
       " 'anova_AdaBoostDecisionTreeRegressor.pkl_09.npy',\n",
       " 'anova_AdaBoostDecisionTreeRegressor.pkl_10.npy',\n",
       " 'anova_AdaBoostDecisionTreeRegressor.pkl_11.npy',\n",
       " 'anova_AdaBoostDecisionTreeRegressor.pkl_12.npy',\n",
       " 'anova_AdaBoostDecisionTreeRegressor.pkl_13.npy',\n",
       " 'anova_AdaBoostDecisionTreeRegressor.pkl_14.npy',\n",
       " 'anova_AdaBoostDecisionTreeRegressor.pkl_15.npy',\n",
       " 'anova_AdaBoostDecisionTreeRegressor.pkl_16.npy',\n",
       " 'anova_AdaBoostDecisionTreeRegressor.pkl_17.npy',\n",
       " 'anova_AdaBoostDecisionTreeRegressor.pkl_18.npy',\n",
       " 'anova_AdaBoostDecisionTreeRegressor.pkl_19.npy',\n",
       " 'anova_AdaBoostDecisionTreeRegressor.pkl_20.npy',\n",
       " 'anova_AdaBoostDecisionTreeRegressor.pkl_21.npy',\n",
       " 'anova_AdaBoostDecisionTreeRegressor.pkl_22.npy']"
      ]
     },
     "execution_count": 29,
     "metadata": {},
     "output_type": "execute_result"
    }
   ],
   "source": [
    "# save the model scaler to the desk\n",
    "from sklearn.externals import joblib\n",
    "joblib.dump(anova_AdaBoostDecisionTreeRegressor, 'anova_AdaBoostDecisionTreeRegressor.pkl') "
   ]
  },
  {
   "cell_type": "code",
   "execution_count": 30,
   "metadata": {
    "collapsed": false
   },
   "outputs": [
    {
     "name": "stdout",
     "output_type": "stream",
     "text": [
      " =================================================================>>>>> done\n",
      "R-squared =  0.73356931629\n"
     ]
    }
   ],
   "source": [
    "# Test the model if it is work\n",
    "anova_DecisionTreeRegressorTest = joblib.load('anova_AdaBoostDecisionTreeRegressor.pkl')\n",
    "NewPred = anova_DecisionTreeRegressorTest.predict(new_data)\n",
    "print \" =================================================================>>>>> done\"\n",
    "r_squared = r2_score(Y, NewPred, multioutput='variance_weighted')\n",
    "print 'R-squared = ',r_squared"
   ]
  },
  {
   "cell_type": "code",
   "execution_count": 31,
   "metadata": {
    "collapsed": false
   },
   "outputs": [
    {
     "name": "stdout",
     "output_type": "stream",
     "text": [
      "Point of training data before normalization\n",
      "[ 389.9  189.     0.   145.9   22.   944.7  755.8   91. ]\n",
      "\n",
      "The read target of the data =  82.5992248\n",
      "\n",
      "The Predicted target of the data =  [ 65.05375519]\n"
     ]
    }
   ],
   "source": [
    "# test on single data point, randomly choose point number 55\n",
    "print 'Point of training data before normalization\\n',new_data[55]\n",
    "print '\\nThe read target of the data = ', Y[55]\n",
    "NewPred = anova_DecisionTreeRegressorTest.predict([new_data[55]])\n",
    "print '\\nThe Predicted target of the data = ', NewPred"
   ]
  },
  {
   "cell_type": "markdown",
   "metadata": {},
   "source": [
    "## Conclusion "
   ]
  }
 ],
 "metadata": {
  "kernelspec": {
   "display_name": "Python 2",
   "language": "python",
   "name": "python2"
  },
  "language_info": {
   "codemirror_mode": {
    "name": "ipython",
    "version": 2
   },
   "file_extension": ".py",
   "mimetype": "text/x-python",
   "name": "python",
   "nbconvert_exporter": "python",
   "pygments_lexer": "ipython2",
   "version": "2.7.12"
  }
 },
 "nbformat": 4,
 "nbformat_minor": 0
}
