{
 "cells": [
  {
   "cell_type": "markdown",
   "metadata": {},
   "source": [
    "Salem Ameen, PhD student at Salford University\n",
    "\n",
    "### Concrete Compressive Strength Data Set\n",
    "\n",
    "Decision trees Regression"
   ]
  },
  {
   "cell_type": "markdown",
   "metadata": {},
   "source": [
    "# Import the Libraries"
   ]
  },
  {
   "cell_type": "code",
   "execution_count": 1,
   "metadata": {
    "collapsed": false
   },
   "outputs": [
    {
     "data": {
      "text/html": [
       "\n",
       "    <div class=\"bk-root\">\n",
       "        <a href=\"http://bokeh.pydata.org\" target=\"_blank\" class=\"bk-logo bk-logo-small bk-logo-notebook\"></a>\n",
       "        <span id=\"45a1a6ed-df2c-43f7-b1c1-816bbddb7faa\">Loading BokehJS ...</span>\n",
       "    </div>"
      ]
     },
     "metadata": {},
     "output_type": "display_data"
    },
    {
     "data": {
      "application/javascript": [
       "\n",
       "(function(global) {\n",
       "  function now() {\n",
       "    return new Date();\n",
       "  }\n",
       "\n",
       "  var force = \"1\";\n",
       "\n",
       "  if (typeof (window._bokeh_onload_callbacks) === \"undefined\" || force !== \"\") {\n",
       "    window._bokeh_onload_callbacks = [];\n",
       "    window._bokeh_is_loading = undefined;\n",
       "  }\n",
       "\n",
       "\n",
       "  \n",
       "  if (typeof (window._bokeh_timeout) === \"undefined\" || force !== \"\") {\n",
       "    window._bokeh_timeout = Date.now() + 5000;\n",
       "    window._bokeh_failed_load = false;\n",
       "  }\n",
       "\n",
       "  var NB_LOAD_WARNING = {'data': {'text/html':\n",
       "     \"<div style='background-color: #fdd'>\\n\"+\n",
       "     \"<p>\\n\"+\n",
       "     \"BokehJS does not appear to have successfully loaded. If loading BokehJS from CDN, this \\n\"+\n",
       "     \"may be due to a slow or bad network connection. Possible fixes:\\n\"+\n",
       "     \"</p>\\n\"+\n",
       "     \"<ul>\\n\"+\n",
       "     \"<li>re-rerun `output_notebook()` to attempt to load from CDN again, or</li>\\n\"+\n",
       "     \"<li>use INLINE resources instead, as so:</li>\\n\"+\n",
       "     \"</ul>\\n\"+\n",
       "     \"<code>\\n\"+\n",
       "     \"from bokeh.resources import INLINE\\n\"+\n",
       "     \"output_notebook(resources=INLINE)\\n\"+\n",
       "     \"</code>\\n\"+\n",
       "     \"</div>\"}};\n",
       "\n",
       "  function display_loaded() {\n",
       "    if (window.Bokeh !== undefined) {\n",
       "      Bokeh.$(\"#45a1a6ed-df2c-43f7-b1c1-816bbddb7faa\").text(\"BokehJS successfully loaded.\");\n",
       "    } else if (Date.now() < window._bokeh_timeout) {\n",
       "      setTimeout(display_loaded, 100)\n",
       "    }\n",
       "  }\n",
       "\n",
       "  function run_callbacks() {\n",
       "    window._bokeh_onload_callbacks.forEach(function(callback) { callback() });\n",
       "    delete window._bokeh_onload_callbacks\n",
       "    console.info(\"Bokeh: all callbacks have finished\");\n",
       "  }\n",
       "\n",
       "  function load_libs(js_urls, callback) {\n",
       "    window._bokeh_onload_callbacks.push(callback);\n",
       "    if (window._bokeh_is_loading > 0) {\n",
       "      console.log(\"Bokeh: BokehJS is being loaded, scheduling callback at\", now());\n",
       "      return null;\n",
       "    }\n",
       "    if (js_urls == null || js_urls.length === 0) {\n",
       "      run_callbacks();\n",
       "      return null;\n",
       "    }\n",
       "    console.log(\"Bokeh: BokehJS not loaded, scheduling load and callback at\", now());\n",
       "    window._bokeh_is_loading = js_urls.length;\n",
       "    for (var i = 0; i < js_urls.length; i++) {\n",
       "      var url = js_urls[i];\n",
       "      var s = document.createElement('script');\n",
       "      s.src = url;\n",
       "      s.async = false;\n",
       "      s.onreadystatechange = s.onload = function() {\n",
       "        window._bokeh_is_loading--;\n",
       "        if (window._bokeh_is_loading === 0) {\n",
       "          console.log(\"Bokeh: all BokehJS libraries loaded\");\n",
       "          run_callbacks()\n",
       "        }\n",
       "      };\n",
       "      s.onerror = function() {\n",
       "        console.warn(\"failed to load library \" + url);\n",
       "      };\n",
       "      console.log(\"Bokeh: injecting script tag for BokehJS library: \", url);\n",
       "      document.getElementsByTagName(\"head\")[0].appendChild(s);\n",
       "    }\n",
       "  };var element = document.getElementById(\"45a1a6ed-df2c-43f7-b1c1-816bbddb7faa\");\n",
       "  if (element == null) {\n",
       "    console.log(\"Bokeh: ERROR: autoload.js configured with elementid '45a1a6ed-df2c-43f7-b1c1-816bbddb7faa' but no matching script tag was found. \")\n",
       "    return false;\n",
       "  }\n",
       "\n",
       "  var js_urls = ['https://cdn.pydata.org/bokeh/release/bokeh-0.12.2.min.js', 'https://cdn.pydata.org/bokeh/release/bokeh-widgets-0.12.2.min.js', 'https://cdn.pydata.org/bokeh/release/bokeh-compiler-0.12.2.min.js'];\n",
       "\n",
       "  var inline_js = [\n",
       "    function(Bokeh) {\n",
       "      Bokeh.set_log_level(\"info\");\n",
       "    },\n",
       "    \n",
       "    function(Bokeh) {\n",
       "      \n",
       "      Bokeh.$(\"#45a1a6ed-df2c-43f7-b1c1-816bbddb7faa\").text(\"BokehJS is loading...\");\n",
       "    },\n",
       "    function(Bokeh) {\n",
       "      console.log(\"Bokeh: injecting CSS: https://cdn.pydata.org/bokeh/release/bokeh-0.12.2.min.css\");\n",
       "      Bokeh.embed.inject_css(\"https://cdn.pydata.org/bokeh/release/bokeh-0.12.2.min.css\");\n",
       "      console.log(\"Bokeh: injecting CSS: https://cdn.pydata.org/bokeh/release/bokeh-widgets-0.12.2.min.css\");\n",
       "      Bokeh.embed.inject_css(\"https://cdn.pydata.org/bokeh/release/bokeh-widgets-0.12.2.min.css\");\n",
       "    }\n",
       "  ];\n",
       "\n",
       "  function run_inline_js() {\n",
       "    \n",
       "    if ((window.Bokeh !== undefined) || (force === \"1\")) {\n",
       "      for (var i = 0; i < inline_js.length; i++) {\n",
       "        inline_js[i](window.Bokeh);\n",
       "      }if (force === \"1\") {\n",
       "        display_loaded();\n",
       "      }} else if (Date.now() < window._bokeh_timeout) {\n",
       "      setTimeout(run_inline_js, 100);\n",
       "    } else if (!window._bokeh_failed_load) {\n",
       "      console.log(\"Bokeh: BokehJS failed to load within specified timeout.\");\n",
       "      window._bokeh_failed_load = true;\n",
       "    } else if (!force) {\n",
       "      var cell = $(\"#45a1a6ed-df2c-43f7-b1c1-816bbddb7faa\").parents('.cell').data().cell;\n",
       "      cell.output_area.append_execute_result(NB_LOAD_WARNING)\n",
       "    }\n",
       "\n",
       "  }\n",
       "\n",
       "  if (window._bokeh_is_loading === 0) {\n",
       "    console.log(\"Bokeh: BokehJS loaded, going straight to plotting\");\n",
       "    run_inline_js();\n",
       "  } else {\n",
       "    load_libs(js_urls, function() {\n",
       "      console.log(\"Bokeh: BokehJS plotting callback run at\", now());\n",
       "      run_inline_js();\n",
       "    });\n",
       "  }\n",
       "}(this));"
      ]
     },
     "metadata": {},
     "output_type": "display_data"
    }
   ],
   "source": [
    "import numpy as np\n",
    "import pandas\n",
    "from numpy import *\n",
    "import time\n",
    "import sys\n",
    "import pandas as pd\n",
    "import matplotlib.pyplot as plt\n",
    "from sklearn import feature_selection\n",
    "from sklearn.tree import DecisionTreeRegressor\n",
    "from sklearn.learning_curve import learning_curve, validation_curve\n",
    "from sklearn.cross_validation import cross_val_predict\n",
    "from sklearn import metrics, grid_search, cross_validation\n",
    "from IPython.display import set_matplotlib_formats\n",
    "from bokeh.plotting import figure, show, output_notebook\n",
    "from sklearn.grid_search import GridSearchCV, RandomizedSearchCV\n",
    "from sklearn.metrics import r2_score\n",
    "from bokeh.layouts import gridplot\n",
    "output_notebook()\n",
    "set_matplotlib_formats('png', 'pdf')\n",
    "%matplotlib inline\n",
    "plt.rcParams['figure.figsize'] = (6, 6)"
   ]
  },
  {
   "cell_type": "markdown",
   "metadata": {},
   "source": [
    "# Load data"
   ]
  },
  {
   "cell_type": "markdown",
   "metadata": {},
   "source": [
    "In the previous file we have not change the data as there is no missing value or add any new parameters so it can be downloaded from the web directly. "
   ]
  },
  {
   "cell_type": "code",
   "execution_count": 2,
   "metadata": {
    "collapsed": false
   },
   "outputs": [
    {
     "name": "stdout",
     "output_type": "stream",
     "text": [
      "Number of examples 1030\n"
     ]
    }
   ],
   "source": [
    "names = ['Cement','BlastFurnace','Fly_Ash','Water','Superplasticizer','CoarseAggregate','Aggregate','day','Concrete']\n",
    "feature_names = names\n",
    "feature_cols = names\n",
    "\n",
    "data = pd.read_excel('Concrete_Data.xls', sep='%s')\n",
    "\n",
    "from sklearn import preprocessing\n",
    "\n",
    "def number_encode_features(df):\n",
    "    result = df.copy()\n",
    "    encoders = {}\n",
    "    for column in result.columns:\n",
    "        if result.dtypes[column] == np.object:\n",
    "            encoders[column] = preprocessing.LabelEncoder()\n",
    "            result[column] = encoders[column].fit_transform(result[column])\n",
    "    return result, encoders\n",
    "\n",
    "data, _ = number_encode_features(data)\n",
    "\n",
    "dataset = data.values\n",
    "X = dataset[:,0:8]\n",
    "Y = dataset[:,8]\n",
    "print 'Number of examples',len(X)"
   ]
  },
  {
   "cell_type": "code",
   "execution_count": 3,
   "metadata": {
    "collapsed": false
   },
   "outputs": [
    {
     "name": "stdout",
     "output_type": "stream",
     "text": [
      "Number of training examples 824\n",
      "Number of validation examples 206\n"
     ]
    }
   ],
   "source": [
    "# Make developement dataset for genrilization and final testing\n",
    "from sklearn.cross_validation import train_test_split\n",
    "# Extracting 20% testing data\n",
    "X_train, X_test, y_train, y_test = train_test_split(\n",
    "    X, Y, test_size=0.20, random_state=0)\n",
    "X = X_train\n",
    "Y = y_train\n",
    "new_data      = X_train\n",
    "new_test_data = X_test\n",
    "print 'Number of training examples',len(X_train)\n",
    "print 'Number of validation examples',len(X_test)"
   ]
  },
  {
   "cell_type": "markdown",
   "metadata": {},
   "source": [
    "Number of training data is very small so we need to use cross validation instead of spareate another validation data."
   ]
  },
  {
   "cell_type": "markdown",
   "metadata": {},
   "source": [
    "From the previous visulization the data has no missing value but has many outlier and some sparisty"
   ]
  },
  {
   "cell_type": "markdown",
   "metadata": {},
   "source": [
    "# Ranking of the feature's importance to the target"
   ]
  },
  {
   "cell_type": "code",
   "execution_count": 4,
   "metadata": {
    "collapsed": false
   },
   "outputs": [
    {
     "name": "stdout",
     "output_type": "stream",
     "text": [
      "Cement \t0.570609849298\n",
      "BlastFurnace \t0.387739159115\n",
      "Fly_Ash \t0.150107863699\n",
      "Water \t0.509586363383\n",
      "Superplasticizer \t0.373836078069\n",
      "CoarseAggregate \t0.526674026058\n",
      "Aggregate \t0.536970298325\n",
      "day \t0.408463964754\n",
      "Concrete \t1.0\n"
     ]
    }
   ],
   "source": [
    "# Using just correlation coefficient even in prevoius file we show them using data frame\n",
    "for col in feature_cols:\n",
    "    lm = DecisionTreeRegressor()\n",
    "    lm.fit(data[[col]], data['Concrete'])\n",
    "    print col,'\\t', lm.score(data[[col]], data['Concrete'])"
   ]
  },
  {
   "cell_type": "code",
   "execution_count": 5,
   "metadata": {
    "collapsed": false
   },
   "outputs": [
    {
     "name": "stdout",
     "output_type": "stream",
     "text": [
      "Feature Name      Score         Pvalue\n",
      "Cement \t\t338.725793692 \t1.32345794884e-65\n",
      "BlastFurnace \t\t19.0325717427 \t1.41457498978e-05\n",
      "Fly_Ash \t\t11.6269492436 \t0.000675283559617\n",
      "Water \t\t94.1187973071 \t2.3660726996e-21\n",
      "Superplasticizer \t\t159.109321731 \t5.07908923638e-34\n",
      "CoarseAggregate \t\t28.7447095672 \t1.01959722248e-07\n",
      "Aggregate \t\t29.5829376115 \t6.69468148289e-08\n",
      "day \t\t124.673209261 \t2.10314421454e-27\n",
      "Concrete \t\t-2.31485020847e+18 \t1.0\n"
     ]
    }
   ],
   "source": [
    "# Randing the important features to the target\n",
    "model = feature_selection.SelectKBest(score_func=feature_selection.f_regression,k=4)\n",
    "results = model.fit(data[feature_cols], data['Concrete'])\n",
    "k=0\n",
    "print 'Feature Name      Score         Pvalue'\n",
    "for feat in feature_cols:\n",
    "    print feat,'\\t\\t',results.scores_[k],'\\t',results.pvalues_[k]\n",
    "    k=k+1\n"
   ]
  },
  {
   "cell_type": "markdown",
   "metadata": {},
   "source": [
    "# Set the parameters for cross validation"
   ]
  },
  {
   "cell_type": "code",
   "execution_count": 6,
   "metadata": {
    "collapsed": true
   },
   "outputs": [],
   "source": [
    "num_folds = 10\n",
    "num_instances = len(X)\n",
    "seed = 7\n",
    "kfold = cross_validation.KFold(n=num_instances, n_folds=num_folds, random_state=seed)"
   ]
  },
  {
   "cell_type": "markdown",
   "metadata": {},
   "source": [
    " # Set the parameters for bias-variance dilemma"
   ]
  },
  {
   "cell_type": "code",
   "execution_count": 7,
   "metadata": {
    "collapsed": false
   },
   "outputs": [],
   "source": [
    "def plot_learning_curve(estimator, title, X, y, ylim=None, cv=None,\n",
    "                        n_jobs=1, train_sizes=np.linspace(.1, 1.0, 5)):\n",
    "    plt.figure()\n",
    "    plt.title(title)\n",
    "    if ylim is not None:\n",
    "        plt.ylim(*ylim)\n",
    "    plt.xlabel(\"Training examples\")\n",
    "    plt.ylabel(\"Score\")\n",
    "    train_sizes, train_scores, test_scores = learning_curve(\n",
    "        estimator, X, y, cv=cv, n_jobs=n_jobs, train_sizes=train_sizes)\n",
    "    train_scores_mean = np.mean(train_scores, axis=1)\n",
    "    train_scores_std = np.std(train_scores, axis=1)\n",
    "    test_scores_mean = np.mean(test_scores, axis=1)\n",
    "    test_scores_std = np.std(test_scores, axis=1)\n",
    "    plt.grid()\n",
    "\n",
    "    plt.fill_between(train_sizes, train_scores_mean - train_scores_std,\n",
    "                     train_scores_mean + train_scores_std, alpha=0.1,\n",
    "                     color=\"r\")\n",
    "    plt.fill_between(train_sizes, test_scores_mean - test_scores_std,\n",
    "                     test_scores_mean + test_scores_std, alpha=0.1, color=\"g\")\n",
    "    plt.plot(train_sizes, train_scores_mean, 'o-', color=\"r\",\n",
    "             label=\"Training score\")\n",
    "    plt.plot(train_sizes, test_scores_mean, 'o-', color=\"g\",\n",
    "             label=\"Cross-validation score\")\n",
    "\n",
    "    plt.legend(loc=\"best\")\n",
    "    return plt"
   ]
  },
  {
   "cell_type": "markdown",
   "metadata": {},
   "source": [
    "# Preprocessing the data and save both the model and preprocessed data"
   ]
  },
  {
   "cell_type": "code",
   "execution_count": 8,
   "metadata": {
    "collapsed": false
   },
   "outputs": [],
   "source": [
    "# According to the nature of the data spasity and there is outliter RobustScaler class is recomandit \n",
    "# but when I tried both of them the result seems is same\n",
    "from sklearn.preprocessing import StandardScaler\n",
    "scaler = preprocessing.StandardScaler().fit(X_train)"
   ]
  },
  {
   "cell_type": "code",
   "execution_count": 9,
   "metadata": {
    "collapsed": false
   },
   "outputs": [],
   "source": [
    "X_train = scaler.transform(X_train)\n",
    "X_test = scaler.transform(X_test) # use same transform for testing data\n",
    "X = X_train"
   ]
  },
  {
   "cell_type": "code",
   "execution_count": 10,
   "metadata": {
    "collapsed": true
   },
   "outputs": [],
   "source": [
    "# save transformed data\n",
    "np.save('./data/X_train', X_train)\n",
    "np.save('./data/y_train', y_train)\n",
    "np.save('./data/X_test', X_test)\n",
    "np.save('./data/y_test', y_test)"
   ]
  },
  {
   "cell_type": "code",
   "execution_count": 11,
   "metadata": {
    "collapsed": false
   },
   "outputs": [
    {
     "data": {
      "text/plain": [
       "['scaler.pkl', 'scaler.pkl_01.npy', 'scaler.pkl_02.npy', 'scaler.pkl_03.npy']"
      ]
     },
     "execution_count": 11,
     "metadata": {},
     "output_type": "execute_result"
    }
   ],
   "source": [
    "# save the model scaler to the desk\n",
    "from sklearn.externals import joblib\n",
    "joblib.dump(scaler, 'scaler.pkl') "
   ]
  },
  {
   "cell_type": "code",
   "execution_count": 12,
   "metadata": {
    "collapsed": false
   },
   "outputs": [
    {
     "name": "stdout",
     "output_type": "stream",
     "text": [
      " =================================================================>>>>> done\n",
      "[[ 2.10991518 -0.88106119 -0.84617062 ...,  1.97132825 -1.97556016\n",
      "  -0.69267849]\n",
      " [-1.49852146  1.2030767  -0.84617062 ..., -0.17456898  0.33209718\n",
      "  -0.62793264]\n",
      " [ 0.79619183  1.26087498 -0.84617062 ..., -0.34824772 -0.21429096\n",
      "   0.7317303 ]\n",
      " ..., \n",
      " [-1.01146856 -0.31384476  1.84556404 ...,  0.4429554   0.25069398\n",
      "  -0.51462739]\n",
      " [-0.16567549  0.37690132  0.48783031 ..., -0.98764276 -0.495502   -0.2880169 ]\n",
      " [-0.28041116 -0.88106119  0.63813809 ..., -0.19180821  1.08532344\n",
      "  -0.69267849]]\n"
     ]
    }
   ],
   "source": [
    "# Test the model if it is work\n",
    "scalerTest = joblib.load('scaler.pkl')\n",
    "new_data_scaled = scalerTest.transform(new_test_data)\n",
    "print \" =================================================================>>>>> done\"\n",
    "print new_data_scaled"
   ]
  },
  {
   "cell_type": "markdown",
   "metadata": {},
   "source": [
    "# 1. DecisionTreeRegressor  with   Regression"
   ]
  },
  {
   "cell_type": "markdown",
   "metadata": {},
   "source": [
    "Decision trees or the Classification and Regression Trees (CART as they are know) use the training data to select the best points to split the data in order to minimize a cost metric. The default cost metric for regression decision trees is the mean squared error, specified in the criterion parameter."
   ]
  },
  {
   "cell_type": "markdown",
   "metadata": {},
   "source": [
    "## Validation curve"
   ]
  },
  {
   "cell_type": "markdown",
   "metadata": {},
   "source": [
    "choosing multiple hyperparameters of an estimator "
   ]
  },
  {
   "cell_type": "code",
   "execution_count": 13,
   "metadata": {
    "collapsed": false
   },
   "outputs": [
    {
     "data": {
      "text/plain": [
       "['presort',\n",
       " 'splitter',\n",
       " 'max_leaf_nodes',\n",
       " 'min_samples_leaf',\n",
       " 'min_samples_split',\n",
       " 'min_weight_fraction_leaf',\n",
       " 'criterion',\n",
       " 'random_state',\n",
       " 'max_features',\n",
       " 'max_depth']"
      ]
     },
     "execution_count": 13,
     "metadata": {},
     "output_type": "execute_result"
    }
   ],
   "source": [
    "from sklearn.tree import DecisionTreeRegressor\n",
    "estimator = DecisionTreeRegressor()\n",
    "estimator.get_params().keys()"
   ]
  },
  {
   "cell_type": "code",
   "execution_count": 14,
   "metadata": {
    "collapsed": false
   },
   "outputs": [
    {
     "data": {
      "image/png": "[encoded data removed]",
      "text/plain": [
       "<matplotlib.figure.Figure at 0x7f90a9f15f50>"
      ]
     },
     "metadata": {},
     "output_type": "display_data"
    }
   ],
   "source": [
    "# For parametr alpha\n",
    "#param_range = np.logspace(-10.0, 10.0)\n",
    "#param_range = np.linspace(1,50,100)\n",
    "param_range = np.arange(1,50) # generate integer numbers\n",
    "\n",
    "train_scores, test_scores = validation_curve(\n",
    "    DecisionTreeRegressor(), X, Y, param_name=\"max_depth\", param_range=param_range,\n",
    "    cv=num_folds,  n_jobs=-1)\n",
    "train_scores_mean = np.mean(train_scores, axis=1)\n",
    "train_scores_std = np.std(train_scores, axis=1)\n",
    "test_scores_mean = np.mean(test_scores, axis=1)\n",
    "test_scores_std = np.std(test_scores, axis=1)\n",
    "\n",
    "plt.title(\"Validation Curve with DecisionTreeRegressor\")\n",
    "plt.xlabel(\"max_depth\")\n",
    "plt.ylabel(\"Score\")\n",
    "plt.ylim(0.4, 1.0)\n",
    "plt.plot(param_range, train_scores_mean, label=\"Training score\", color=\"r\")\n",
    "plt.fill_between(param_range, train_scores_mean - train_scores_std,\n",
    "                 train_scores_mean + train_scores_std, alpha=0.2, color=\"r\")\n",
    "plt.plot(param_range, test_scores_mean, label=\"Cross-validation score\",\n",
    "             color=\"g\")\n",
    "plt.fill_between(param_range, test_scores_mean - test_scores_std,\n",
    "                 test_scores_mean + test_scores_std, alpha=0.2, color=\"g\")\n",
    "plt.legend(loc=\"best\")\n",
    "plt.show()"
   ]
  },
  {
   "cell_type": "markdown",
   "metadata": {},
   "source": [
    "more that 5 is the best of number of K"
   ]
  },
  {
   "cell_type": "code",
   "execution_count": 15,
   "metadata": {
    "collapsed": false
   },
   "outputs": [
    {
     "data": {
      "image/png": "[encoded data removed]",
      "text/plain": [
       "<matplotlib.figure.Figure at 0x7f9079252890>"
      ]
     },
     "metadata": {},
     "output_type": "display_data"
    }
   ],
   "source": [
    "# For parametr alpha\n",
    "#param_range = np.logspace(-10.0, 10.0)\n",
    "#param_range = np.linspace(1,50,100)\n",
    "param_range = np.arange(1,10) # generate integer numbers\n",
    "\n",
    "train_scores, test_scores = validation_curve(\n",
    "    DecisionTreeRegressor(), X, Y, param_name=\"min_samples_split\", param_range=param_range,\n",
    "    cv=num_folds,  n_jobs=-1)\n",
    "train_scores_mean = np.mean(train_scores, axis=1)\n",
    "train_scores_std = np.std(train_scores, axis=1)\n",
    "test_scores_mean = np.mean(test_scores, axis=1)\n",
    "test_scores_std = np.std(test_scores, axis=1)\n",
    "\n",
    "plt.title(\"Validation Curve with DecisionTreeRegressor\")\n",
    "plt.xlabel(\"min_samples_split\")\n",
    "plt.ylabel(\"Score\")\n",
    "plt.ylim(0.4, 1.0)\n",
    "plt.plot(param_range, train_scores_mean, label=\"Training score\", color=\"r\")\n",
    "plt.fill_between(param_range, train_scores_mean - train_scores_std,\n",
    "                 train_scores_mean + train_scores_std, alpha=0.2, color=\"r\")\n",
    "plt.plot(param_range, test_scores_mean, label=\"Cross-validation score\",\n",
    "             color=\"g\")\n",
    "plt.fill_between(param_range, test_scores_mean - test_scores_std,\n",
    "                 test_scores_mean + test_scores_std, alpha=0.2, color=\"g\")\n",
    "plt.legend(loc=\"best\")\n",
    "plt.show()"
   ]
  },
  {
   "cell_type": "markdown",
   "metadata": {},
   "source": [
    "min_samples_split =2 (The defualt) is the best"
   ]
  },
  {
   "cell_type": "code",
   "execution_count": 16,
   "metadata": {
    "collapsed": false
   },
   "outputs": [
    {
     "data": {
      "image/png": "[encoded data removed]",
      "text/plain": [
       "<matplotlib.figure.Figure at 0x7f90a9f28b10>"
      ]
     },
     "metadata": {},
     "output_type": "display_data"
    }
   ],
   "source": [
    "# For parametr alpha\n",
    "#param_range = np.logspace(-10.0, 10.0)\n",
    "#param_range = np.linspace(1,50,100)\n",
    "param_range = np.arange(1,10) # generate integer numbers\n",
    "\n",
    "train_scores, test_scores = validation_curve(\n",
    "    DecisionTreeRegressor(), X, Y, param_name=\"min_samples_leaf\", param_range=param_range,\n",
    "    cv=num_folds,  n_jobs=-1)\n",
    "train_scores_mean = np.mean(train_scores, axis=1)\n",
    "train_scores_std = np.std(train_scores, axis=1)\n",
    "test_scores_mean = np.mean(test_scores, axis=1)\n",
    "test_scores_std = np.std(test_scores, axis=1)\n",
    "\n",
    "plt.title(\"Validation Curve with DecisionTreeRegressor\")\n",
    "plt.xlabel(\"min_samples_leaf\")\n",
    "plt.ylabel(\"Score\")\n",
    "plt.ylim(0.4, 1.0)\n",
    "plt.plot(param_range, train_scores_mean, label=\"Training score\", color=\"r\")\n",
    "plt.fill_between(param_range, train_scores_mean - train_scores_std,\n",
    "                 train_scores_mean + train_scores_std, alpha=0.2, color=\"r\")\n",
    "plt.plot(param_range, test_scores_mean, label=\"Cross-validation score\",\n",
    "             color=\"g\")\n",
    "plt.fill_between(param_range, test_scores_mean - test_scores_std,\n",
    "                 test_scores_mean + test_scores_std, alpha=0.2, color=\"g\")\n",
    "plt.legend(loc=\"best\")\n",
    "plt.show()"
   ]
  },
  {
   "cell_type": "markdown",
   "metadata": {},
   "source": [
    "min_samples_leaf = 2 is the best"
   ]
  },
  {
   "cell_type": "markdown",
   "metadata": {},
   "source": [
    "## Grid search and/or Random search to determine best compination of parameters"
   ]
  },
  {
   "cell_type": "code",
   "execution_count": 17,
   "metadata": {
    "collapsed": false
   },
   "outputs": [
    {
     "name": "stdout",
     "output_type": "stream",
     "text": [
      "Hyperparameter optimization using GridSearchCV...\n",
      "Parameters with rank: 1\n",
      "Mean validation score: 0.8426 (std: 0.0709)\n",
      "Parameters: {'min_samples_split': 1, 'max_depth': 13, 'min_samples_leaf': 1}\n",
      "\n",
      "Parameters with rank: 2\n",
      "Mean validation score: 0.8406 (std: 0.0624)\n",
      "Parameters: {'min_samples_split': 1, 'max_depth': 9, 'min_samples_leaf': 1}\n",
      "\n",
      "Parameters with rank: 3\n",
      "Mean validation score: 0.8393 (std: 0.0635)\n",
      "Parameters: {'min_samples_split': 1, 'max_depth': 12, 'min_samples_leaf': 1}\n",
      "\n",
      "Parameters with rank: 4\n",
      "Mean validation score: 0.8393 (std: 0.0641)\n",
      "Parameters: {'min_samples_split': 1, 'max_depth': 14, 'min_samples_leaf': 1}\n",
      "\n",
      "Parameters with rank: 5\n",
      "Mean validation score: 0.8351 (std: 0.0695)\n",
      "Parameters: {'min_samples_split': 1, 'max_depth': 10, 'min_samples_leaf': 1}\n",
      "\n",
      "+++++++++++++++++++++++++++++++++++++++++++++++\n",
      "Hyperparameter optimization using RandomizedSearchCV\n",
      "Parameters with rank: 1\n",
      "Mean validation score: 0.8303 (std: 0.0653)\n",
      "Parameters: {'min_samples_split': 2, 'max_depth': 10, 'min_samples_leaf': 1}\n",
      "\n",
      "Parameters with rank: 2\n",
      "Mean validation score: 0.8165 (std: 0.0599)\n",
      "Parameters: {'min_samples_split': 2, 'max_depth': 10, 'min_samples_leaf': 2}\n",
      "\n",
      "Parameters with rank: 3\n",
      "Mean validation score: 0.2010 (std: 0.0930)\n",
      "Parameters: {'min_samples_split': 2, 'max_depth': 1, 'min_samples_leaf': 2}\n",
      "\n",
      "Parameters with rank: 4\n",
      "Mean validation score: 0.2010 (std: 0.0930)\n",
      "Parameters: {'min_samples_split': 1, 'max_depth': 1, 'min_samples_leaf': 2}\n",
      "\n",
      "Parameters with rank: 5\n",
      "Mean validation score: 0.2010 (std: 0.0930)\n",
      "Parameters: {'min_samples_split': 2, 'max_depth': 1, 'min_samples_leaf': 1}\n",
      "\n"
     ]
    }
   ],
   "source": [
    "# Utility function to report optimal parameters\n",
    "from operator import itemgetter\n",
    "def report(grid_scores, n_top=5):\n",
    "    params = None\n",
    "    top_scores = sorted(grid_scores, key=itemgetter(1), reverse=True)[:n_top]\n",
    "    for i, score in enumerate(top_scores):\n",
    "        print(\"Parameters with rank: {0}\".format(i + 1))\n",
    "        print(\"Mean validation score: {0:.4f} (std: {1:.4f})\".format(\n",
    "              score.mean_validation_score, np.std(score.cv_validation_scores)))\n",
    "        print(\"Parameters: {0}\".format(score.parameters))\n",
    "        print(\"\")\n",
    "        \n",
    "        if params == None:\n",
    "            params = score.parameters\n",
    "    \n",
    "    return params\n",
    "\n",
    "# The most common value for the max number of features to look at in each split is sqrt(# of features)\n",
    "sqrtfeat = np.sqrt(X.shape[1]) \n",
    "grid_test1 = { \"max_depth\"      : np.arange(1,15),\n",
    "             \"min_samples_split\"      : np.arange(1,4),\n",
    "             \"min_samples_leaf\"    : np.arange(1,3)}\n",
    "\n",
    "# Large randomized test using max_depth to control tree size (5000 possible combinations)\n",
    "random_test1 = { \"max_depth\"      : [1,10],\n",
    "                \"min_samples_split\"      : [ 1,2],\n",
    "               \"min_samples_leaf\"   : [1,2]}\n",
    "\n",
    "\n",
    "forest =  DecisionTreeRegressor()\n",
    "\n",
    "print \"Hyperparameter optimization using GridSearchCV...\"\n",
    "grid_search = GridSearchCV(forest, grid_test1, n_jobs=-1, cv=num_folds)\n",
    "grid_search.fit(X, Y)\n",
    "best_params_from_grid_search = report(grid_search.grid_scores_)\n",
    "print '+++++++++++++++++++++++++++++++++++++++++++++++'\n",
    "print \"Hyperparameter optimization using RandomizedSearchCV\"\n",
    "grid_search = RandomizedSearchCV(forest, random_test1, n_jobs=-1, cv=num_folds, n_iter=5)\n",
    "grid_search.fit(X, Y)\n",
    "best_params_from_rand_search1 = report(grid_search.grid_scores_)"
   ]
  },
  {
   "cell_type": "markdown",
   "metadata": {},
   "source": [
    "Best 'min_samples_split': 3, 'max_depth': 7, 'min_samples_leaf': 1"
   ]
  },
  {
   "cell_type": "markdown",
   "metadata": {},
   "source": [
    "## Learning Curve "
   ]
  },
  {
   "cell_type": "markdown",
   "metadata": {},
   "source": [
    "In essence, what we’re doing it training the exact same model with increasingly large fractions of our total training data, and plotting the error of the training and test sets at each step."
   ]
  },
  {
   "cell_type": "code",
   "execution_count": 18,
   "metadata": {
    "collapsed": false
   },
   "outputs": [
    {
     "data": {
      "image/png": "[encoded data removed]",
      "text/plain": [
       "<matplotlib.figure.Figure at 0x7f9074572a10>"
      ]
     },
     "metadata": {},
     "output_type": "display_data"
    }
   ],
   "source": [
    "from sklearn.tree import DecisionTreeRegressor\n",
    "\n",
    "model =  DecisionTreeRegressor(min_samples_split = 3, max_depth = 7, min_samples_leaf =1 )\n",
    "title = \"Learning Curves (  DecisionTreeRegressor Refression)\"\n",
    "cv = cross_validation.ShuffleSplit(X.shape[0], n_iter=100,\n",
    "                                   test_size=0.2, random_state=0)\n",
    "plot_learning_curve(model, title, X, Y, ylim=(0.2, 1.01), cv=cv, n_jobs=-1)\n",
    "plt.show()"
   ]
  },
  {
   "cell_type": "code",
   "execution_count": 19,
   "metadata": {
    "collapsed": false
   },
   "outputs": [
    {
     "name": "stdout",
     "output_type": "stream",
     "text": [
      "train_sizes =  [ 50  80 110]\n",
      " training scores\n",
      " 50 training sizees\n",
      "0.986003402326 ± 0.0110897875029\n",
      " 80 training sizees\n",
      "0.980015692314 ± 0.0145164801631\n",
      " 110 training sizees\n",
      "0.972872545961 ± 0.0146745221315\n",
      "\n",
      " validation scores\n",
      " 50 validation scores\n",
      "0.31749058556 ± 0.161923222346\n",
      " 80 validation scores\n",
      "0.446509039717 ± 0.136013240471\n",
      " 110 validation scores\n",
      "0.518231441585 ± 0.101201047353\n"
     ]
    }
   ],
   "source": [
    "# More data from learning curve to show the process of building the model\n",
    "train_sizes, train_scores, valid_scores = learning_curve(\n",
    "     model, X, Y, train_sizes=[50, 80, 110], cv=cv, n_jobs=4)\n",
    "\n",
    "print 'train_sizes = ', train_sizes\n",
    "\n",
    "print ' training scores'\n",
    "print ' 50 training sizees'\n",
    "print train_scores[0].mean(),'±',train_scores[0].std()\n",
    "print ' 80 training sizees'\n",
    "print train_scores[1].mean(),'±',train_scores[1].std()\n",
    "print ' 110 training sizees'\n",
    "print train_scores[2].mean(),'±',train_scores[2].std()\n",
    "\n",
    "print '\\n validation scores'\n",
    "print ' 50 validation scores'\n",
    "print valid_scores[0].mean(),'±',valid_scores[0].std()\n",
    "print ' 80 validation scores'\n",
    "print valid_scores[1].mean(),'±',valid_scores[1].std()\n",
    "print ' 110 validation scores'\n",
    "print valid_scores[2].mean(),'±',valid_scores[2].std()"
   ]
  },
  {
   "cell_type": "markdown",
   "metadata": {},
   "source": [
    "## Cross validation"
   ]
  },
  {
   "cell_type": "code",
   "execution_count": 20,
   "metadata": {
    "collapsed": false
   },
   "outputs": [
    {
     "name": "stdout",
     "output_type": "stream",
     "text": [
      "Scoring according to mean_squared_error\n",
      "[-73.60082363 -31.70802224 -45.96231986 -28.21311771 -66.57190785\n",
      " -56.52231312 -64.34189482 -37.12775853 -62.94120429 -43.16724156]\n",
      "\n",
      " Mean      Standard deviation\n",
      "-51.02      15.08\n"
     ]
    },
    {
     "data": {
      "text/plain": [
       "DecisionTreeRegressor(criterion='mse', max_depth=7, max_features=None,\n",
       "           max_leaf_nodes=None, min_samples_leaf=1, min_samples_split=3,\n",
       "           min_weight_fraction_leaf=0.0, presort=False, random_state=None,\n",
       "           splitter='best')"
      ]
     },
     "execution_count": 20,
     "metadata": {},
     "output_type": "execute_result"
    }
   ],
   "source": [
    "scoring = 'mean_squared_error'\n",
    "results = cross_validation.cross_val_score(model, X, Y, cv=kfold, scoring=scoring)\n",
    "print 'Scoring according to mean_squared_error'\n",
    "print results\n",
    "print '\\n Mean      Standard deviation'\n",
    "print(\"%.2f      %.2f\" % (results.mean(), results.std()))\n",
    "## Fit the model\n",
    "model.fit(X,Y)\n"
   ]
  },
  {
   "cell_type": "markdown",
   "metadata": {},
   "source": [
    "## Coefficients Of Determination {Calculating R^2}\n",
    "\n",
    "R^2, Close to one is better"
   ]
  },
  {
   "cell_type": "code",
   "execution_count": 21,
   "metadata": {
    "collapsed": false
   },
   "outputs": [
    {
     "name": "stdout",
     "output_type": "stream",
     "text": [
      "R-squared =  0.816735769743\n"
     ]
    }
   ],
   "source": [
    "predicted = cross_val_predict(model, X, Y, cv=kfold)\n",
    "r_squared = r2_score(Y, predicted, multioutput='variance_weighted')\n",
    "print 'R-squared = ',r_squared"
   ]
  },
  {
   "cell_type": "markdown",
   "metadata": {},
   "source": [
    "## Residual Plot"
   ]
  },
  {
   "cell_type": "code",
   "execution_count": 22,
   "metadata": {
    "collapsed": false
   },
   "outputs": [
    {
     "data": {
      "image/png": "[encoded data removed]",
      "text/plain": [
       "<matplotlib.figure.Figure at 0x7f9074597610>"
      ]
     },
     "metadata": {},
     "output_type": "display_data"
    }
   ],
   "source": [
    "predicted = cross_val_predict(model, X, Y, cv=kfold)\n",
    "fig, ax = plt.subplots()\n",
    "ax.scatter(Y, predicted)\n",
    "ax.plot([Y.min(), Y.max()], [Y.min(), Y.max()], 'k--', lw=4)\n",
    "ax.set_xlabel('Measured')\n",
    "ax.set_ylabel('Predicted')\n",
    "plt.show()"
   ]
  },
  {
   "cell_type": "code",
   "execution_count": 23,
   "metadata": {
    "collapsed": false
   },
   "outputs": [
    {
     "data": {
      "text/html": [
       "\n",
       "\n",
       "    <div class=\"bk-root\">\n",
       "        <div class=\"plotdiv\" id=\"3c4da638-25af-4ea3-b014-ef37d69f5f4f\"></div>\n",
       "    </div>\n",
       "<script type=\"text/javascript\">\n",
       "  \n",
       "  (function(global) {\n",
       "    function now() {\n",
       "      return new Date();\n",
       "    }\n",
       "  \n",
       "    var force = \"\";\n",
       "  \n",
       "    if (typeof (window._bokeh_onload_callbacks) === \"undefined\" || force !== \"\") {\n",
       "      window._bokeh_onload_callbacks = [];\n",
       "      window._bokeh_is_loading = undefined;\n",
       "    }\n",
       "  \n",
       "  \n",
       "    \n",
       "    if (typeof (window._bokeh_timeout) === \"undefined\" || force !== \"\") {\n",
       "      window._bokeh_timeout = Date.now() + 0;\n",
       "      window._bokeh_failed_load = false;\n",
       "    }\n",
       "  \n",
       "    var NB_LOAD_WARNING = {'data': {'text/html':\n",
       "       \"<div style='background-color: #fdd'>\\n\"+\n",
       "       \"<p>\\n\"+\n",
       "       \"BokehJS does not appear to have successfully loaded. If loading BokehJS from CDN, this \\n\"+\n",
       "       \"may be due to a slow or bad network connection. Possible fixes:\\n\"+\n",
       "       \"</p>\\n\"+\n",
       "       \"<ul>\\n\"+\n",
       "       \"<li>re-rerun `output_notebook()` to attempt to load from CDN again, or</li>\\n\"+\n",
       "       \"<li>use INLINE resources instead, as so:</li>\\n\"+\n",
       "       \"</ul>\\n\"+\n",
       "       \"<code>\\n\"+\n",
       "       \"from bokeh.resources import INLINE\\n\"+\n",
       "       \"output_notebook(resources=INLINE)\\n\"+\n",
       "       \"</code>\\n\"+\n",
       "       \"</div>\"}};\n",
       "  \n",
       "    function display_loaded() {\n",
       "      if (window.Bokeh !== undefined) {\n",
       "        Bokeh.$(\"#3c4da638-25af-4ea3-b014-ef37d69f5f4f\").text(\"BokehJS successfully loaded.\");\n",
       "      } else if (Date.now() < window._bokeh_timeout) {\n",
       "        setTimeout(display_loaded, 100)\n",
       "      }\n",
       "    }\n",
       "  \n",
       "    function run_callbacks() {\n",
       "      window._bokeh_onload_callbacks.forEach(function(callback) { callback() });\n",
       "      delete window._bokeh_onload_callbacks\n",
       "      console.info(\"Bokeh: all callbacks have finished\");\n",
       "    }\n",
       "  \n",
       "    function load_libs(js_urls, callback) {\n",
       "      window._bokeh_onload_callbacks.push(callback);\n",
       "      if (window._bokeh_is_loading > 0) {\n",
       "        console.log(\"Bokeh: BokehJS is being loaded, scheduling callback at\", now());\n",
       "        return null;\n",
       "      }\n",
       "      if (js_urls == null || js_urls.length === 0) {\n",
       "        run_callbacks();\n",
       "        return null;\n",
       "      }\n",
       "      console.log(\"Bokeh: BokehJS not loaded, scheduling load and callback at\", now());\n",
       "      window._bokeh_is_loading = js_urls.length;\n",
       "      for (var i = 0; i < js_urls.length; i++) {\n",
       "        var url = js_urls[i];\n",
       "        var s = document.createElement('script');\n",
       "        s.src = url;\n",
       "        s.async = false;\n",
       "        s.onreadystatechange = s.onload = function() {\n",
       "          window._bokeh_is_loading--;\n",
       "          if (window._bokeh_is_loading === 0) {\n",
       "            console.log(\"Bokeh: all BokehJS libraries loaded\");\n",
       "            run_callbacks()\n",
       "          }\n",
       "        };\n",
       "        s.onerror = function() {\n",
       "          console.warn(\"failed to load library \" + url);\n",
       "        };\n",
       "        console.log(\"Bokeh: injecting script tag for BokehJS library: \", url);\n",
       "        document.getElementsByTagName(\"head\")[0].appendChild(s);\n",
       "      }\n",
       "    };var element = document.getElementById(\"3c4da638-25af-4ea3-b014-ef37d69f5f4f\");\n",
       "    if (element == null) {\n",
       "      console.log(\"Bokeh: ERROR: autoload.js configured with elementid '3c4da638-25af-4ea3-b014-ef37d69f5f4f' but no matching script tag was found. \")\n",
       "      return false;\n",
       "    }\n",
       "  \n",
       "    var js_urls = [];\n",
       "  \n",
       "    var inline_js = [\n",
       "      function(Bokeh) {\n",
       "        Bokeh.$(function() {\n",
       "            var docs_json = {\"952726ac-c3c4-46b8-8f13-7efccb4ca0a0\":{\"roots\":{\"references\":[{\"attributes\":{\"active_drag\":\"auto\",\"active_scroll\":\"auto\",\"active_tap\":\"auto\",\"tools\":[{\"id\":\"796298f9-6073-4d0a-9600-4cf0d71f312f\",\"type\":\"BoxZoomTool\"},{\"id\":\"fd9cbd21-93e1-4dd2-867e-db6463a120a9\",\"type\":\"BoxSelectTool\"},{\"id\":\"c3f44aae-2341-47b4-bf46-999fbbfecf69\",\"type\":\"CrosshairTool\"},{\"id\":\"4a75f150-511c-4724-a3ee-898373c0bd55\",\"type\":\"ResizeTool\"},{\"id\":\"5461d7a1-4436-4ab4-9720-b07396c8b8ee\",\"type\":\"ResetTool\"},{\"id\":\"040b9362-15b1-47c6-8249-55ec0ed18aa5\",\"type\":\"LassoSelectTool\"},{\"id\":\"bcc7fd69-9e0d-4456-9bbf-ac422714dacf\",\"type\":\"PanTool\"},{\"id\":\"e9225d82-2780-480a-81f2-3dddf6dc4d06\",\"type\":\"SaveTool\"},{\"id\":\"ee976a36-db03-471d-9d25-243663a4eecd\",\"type\":\"PolySelectTool\"},{\"id\":\"9c0c09e7-ddf2-42af-b531-b718c028cc31\",\"type\":\"TapTool\"},{\"id\":\"ad018f1a-f90d-46a3-829d-a017a1379c51\",\"type\":\"WheelZoomTool\"},{\"id\":\"1b49b7b0-6bec-4c24-827f-28b9fc158103\",\"type\":\"UndoTool\"}]},\"id\":\"e08f0424-a578-45a6-91b4-3cfb8312dd3a\",\"type\":\"Toolbar\"},{\"attributes\":{\"line_dash\":[4,4],\"line_width\":{\"value\":2},\"x\":{\"field\":\"x\"},\"y\":{\"field\":\"y\"}},\"id\":\"9dae4929-300b-4d17-bdd6-fba1e88aa973\",\"type\":\"Line\"},{\"attributes\":{\"plot\":{\"id\":\"54dc8f8d-707c-4504-961d-f3ab22629f36\",\"subtype\":\"Figure\",\"type\":\"Plot\"}},\"id\":\"ad018f1a-f90d-46a3-829d-a017a1379c51\",\"type\":\"WheelZoomTool\"},{\"attributes\":{},\"id\":\"3ce16f85-4535-444c-8fd0-0722d403831e\",\"type\":\"BasicTickFormatter\"},{\"attributes\":{\"callback\":null,\"overlay\":{\"id\":\"aae6203f-0b67-4591-a386-3e9d53bbb8d0\",\"type\":\"PolyAnnotation\"},\"plot\":{\"id\":\"54dc8f8d-707c-4504-961d-f3ab22629f36\",\"subtype\":\"Figure\",\"type\":\"Plot\"}},\"id\":\"040b9362-15b1-47c6-8249-55ec0ed18aa5\",\"type\":\"LassoSelectTool\"},{\"attributes\":{\"fill_color\":{\"value\":\"#80B1D3\"},\"line_color\":{\"value\":\"#80B1D3\"},\"line_width\":{\"value\":3},\"x\":{\"field\":\"x\"},\"y\":{\"field\":\"y\"}},\"id\":\"564bb297-959e-4323-8089-f636a2c2d567\",\"type\":\"Circle\"},{\"attributes\":{\"align\":\"center\",\"plot\":null,\"text\":null},\"id\":\"abdbabcc-a550-4687-8894-b0f7d0ed1a22\",\"type\":\"Title\"},{\"attributes\":{\"callback\":null,\"overlay\":{\"id\":\"98be886c-4072-4dd9-901e-ec92f1ff7a38\",\"type\":\"BoxAnnotation\"},\"plot\":{\"id\":\"54dc8f8d-707c-4504-961d-f3ab22629f36\",\"subtype\":\"Figure\",\"type\":\"Plot\"},\"renderers\":[{\"id\":\"b33fe851-34bf-4125-9cfd-b73cf31838cd\",\"type\":\"GlyphRenderer\"},{\"id\":\"72d500df-3511-4d55-9972-f2530553c3fa\",\"type\":\"GlyphRenderer\"}]},\"id\":\"fd9cbd21-93e1-4dd2-867e-db6463a120a9\",\"type\":\"BoxSelectTool\"},{\"attributes\":{\"fill_alpha\":{\"value\":0.5},\"fill_color\":{\"value\":\"lightgrey\"},\"level\":\"overlay\",\"line_alpha\":{\"value\":1.0},\"line_color\":{\"value\":\"black\"},\"line_dash\":[4,4],\"line_width\":{\"value\":2},\"plot\":null,\"xs_units\":\"screen\",\"ys_units\":\"screen\"},\"id\":\"aae6203f-0b67-4591-a386-3e9d53bbb8d0\",\"type\":\"PolyAnnotation\"},{\"attributes\":{\"callback\":null,\"column_names\":[\"x\",\"y\"],\"data\":{\"x\":[43.892042159999995,38.21075992,33.419591196,13.12072828,47.22221124,22.31833812,12.47262084,28.937997196,47.029847436000004,26.322814728,30.439675923999996,12.63809508,20.77391188,43.798273423999994,66.10006412,15.361525279999999,40.865242519999995,45.939785879999995,33.75674496,43.58177796,23.524231644,42.69924868,14.143910664,48.401215199999996,34.569637164,35.85964676,59.09498796,24.49708228,37.721921436,15.520104759999999,32.401235144,33.05347944,49.249270679999995,71.69860924,54.896079119999996,50.45930106,51.863763672,28.6822016,26.77235308,17.236210524,36.83870268,40.2309246,47.714497103999996,11.36256448,9.99050724,40.925226931999994,40.563252031999994,31.715896,39.417342919999996,18.12632404,18.28490352,9.86640156,41.2996124,34.55653712,53.95839176,82.5992248,54.598914963999995,44.61185510399999,39.28978986,63.528318639999995,39.1622368,39.321505756,20.416073836,44.395359639999995,56.33708396,38.500339839999995,32.245413568000004,42.229026048,46.247292176,33.68779736,44.209201119999996,33.72916592,64.90037588,33.192064116000005,12.45193656,44.14025352,57.915983999999995,55.50971276,37.2661778,42.21661548,41.20308576,39.779317819999996,64.90037588,39.6621069,23.5111316,54.765078679999995,29.073134491999998,49.77327244,65.19685056,36.588422892,52.00717468,37.2661778,43.57833058,40.679083999999996,26.96540636,36.251958603999995,25.726417988,12.180972492,72.99482412,28.62704352,11.392211948,20.08443588,48.28400428,24.00065956,45.304778483999996,35.763120119999996,74.19451236,14.699628319999999,25.60910856945864,61.99078716,38.074243671999994,54.09628696,40.856968808,39.84481804,22.435549039999998,25.893960655999997,42.919881,30.647208199999998,26.200088,23.13881456,26.8550902,26.147687824,52.446370892,37.92118,41.836714203999996,48.9872698,8.536402356,35.75425543054136,48.587373719999995,21.601283079999998,28.79941252,32.823194456,79.29663476,11.654902304,66.78067543054136,61.09446836,48.67011084,40.1964508,26.258003984,13.45857152,47.739318239999996,23.696600644,27.827251359999998,31.35047372,60.32225524,48.695621452,39.0932892,33.116911232,37.32823064,50.69717028,13.565440299999999,33.68779736,53.46196904,16.503987012,61.85584685418796,60.2946762,43.01296026,77.29715436,56.847296199999995,55.495923239999996,15.049192651999999,17.83674412,19.765208492,24.53845084,21.946021079999998,33.56369168,43.0577762,27.681082448,31.026419999999998,2.331807832,42.29245784,15.340841,19.691434559999998,33.70158688,47.782065751999994,56.141962252,24.8900836,29.870858223999996,58.60546,24.90387312,13.395533715270679,23.786922,33.72916592,52.04164848,31.35047372,37.9556538,57.59882504,29.447519959999997,23.8903434,67.69964844,34.73580088,39.056057496,25.0969264,45.3675208,28.096147,23.221551679999997,40.14818748,42.14008364399999,37.34202016,44.13335876,60.280886679999995,49.77327244,59.590425715270676,17.959470848000002,24.104080959999997,26.94472208,31.966865263999996,28.23748958,16.10960674,54.27555072,18.746162964,24.91766264,40.85834776,11.46598588,38.407950056000004,25.2003478,79.40005615999999,23.51802636,66.42411784,39.45181672,29.7853632,22.347985588,55.89581932,30.12320644,67.568648,53.52402188,13.29309728,24.0971862,14.98920824,39.58281716,48.846616696,11.957582268,39.37597436,19.98790924,39.455953576,39.421479776,24.483292759999998,59.19840936,66.69990824,49.973220479999995,40.7135578,39.699338604,20.27748916,17.57474324,33.082437432,41.05140104,56.14403068,43.377003588,15.08573488,77.29715436,32.83974188,37.437857324,23.744174488,56.3991368,43.388724679999996,44.698039603999995,32.720462532,53.90323368,7.74971024,47.8151606,59.89478012,38.01770664,68.75060685418796,6.883728383999999,76.80073164,11.85209244,8.48744956,49.20100736,32.768036376000005,33.21205892,17.9953236,23.80071152,6.902344236,18.12632404,10.535882756,25.510612,13.461329424,25.48303296,55.647607959999995,32.96384756,19.41564416,22.94576128,19.691434559999998,18.033934256,52.908319811999995,23.24519085418796,25.68987576,17.95395504,43.698299404,15.575262839999999,25.422359072,29.15794004,22.435549039999998,22.53207568,21.179323768,33.398217439999996,48.97348028,22.489328168,67.30664712,39.6103962,45.08483564,38.461039708,46.931941843999994,40.59634688,30.44726016,24.290928956,49.99390476,8.06342182,16.27852836,40.38950408,23.639177145812038,21.066249704,43.25082948,20.91870184,33.798802996,44.02993736,9.84965714581204,25.62092816,24.44881896,76.23536132,15.748321315999998,58.522722879999996,7.8393421199999995,17.275510655999998,27.22051248,71.29871315999999,68.09954452,24.65566176,26.91369566,33.399596392,29.39236188,29.89223198,46.80163088,31.25394708,55.55108132,28.99936056,39.300132,10.335934715999999,79.98611076,47.27736932,25.021084039999998,24.39366088,43.733462679999995,49.80085148,9.011451319999999,11.414275179999999,33.5430074,55.82687172,46.89815752,31.74347504,35.36322404,35.34253976,65.99664272,30.2335226,35.314271244,36.93522932,12.73462172,11.169511199999999,38.60376124,44.6090972,41.15137506,12.788400847999998,12.17614616,33.0431373,21.859147104,41.052779992,71.29871315999999,47.7117392,46.2293658,26.74477404,41.540929,26.91714304,55.94408264,17.8229546,61.23581094,15.340841,31.419421319999998,21.91154728,16.87837248,52.42086028,37.171030112,39.64487,50.655112243999994,13.52062436,35.9561734,47.13257936,56.095767359999996,19.35014394,32.068218236,18.19871902,60.2946762,13.33446584,27.923778,33.60506024,71.29871315999999,36.447769788,33.488834284729315,38.45897128,38.70028788,33.79811352,19.41564416,39.48629052,59.30183076,80.19984832,32.051670812,21.859147104,56.7438748,10.53519328,25.965666159999998,4.9035533120000006,41.940825079999996,41.934619796,67.86512268,13.089012384,51.021224,52.95865156,28.98557104,17.96429718,29.54897143054136,41.244454319999996,58.78472376,12.459520796,34.67374804,41.684340008,16.889404096,25.216895223999998,66.59648684,51.331488199999995,33.019005639999996,30.12320644,13.293786756,34.77027468,38.11423328,35.852751999999995,16.26473884,38.20386516,21.819846971999997,14.49968028,9.735401119999999,10.76272036,17.165883972,14.54104884,36.63875464,50.07664188,36.964187312,44.296075096,36.34917472,56.061293559999996,19.10537996,24.281965768,36.349864196,15.069975430541358,25.460969728000002,38.70028788,43.377003588,67.11359384,27.234302,19.199148695999998,29.41304616,29.654362759999998,13.62404576,40.14818748,29.55094136,32.66047812,56.69561148,11.483912255999998,35.225328839999996,42.32693164,33.003837168,51.25564584,21.917063088,38.215586251999994,77.29715436,52.426376088,37.231704,26.22766704,38.99676256,24.986610239999997,22.83544512,12.24509376,39.604880392,15.520104759999999,65.19685056,55.89581932,39.358047983999995,17.576122192,40.934879596,12.052040479999999,24.404692496,23.52492112,39.300132,55.45455468,37.431652039999996,69.83702404,31.35047372,46.20178676,46.38794528,35.3011712,28.62704352,31.874475479999997,20.593958644,12.5484632,33.664355176,15.091250688,69.65776027999999,59.76377968,36.443632932,22.93197176,42.030456959999995,32.626693796000005,66.82401392,71.98818916,74.3649114581204,72.09850532,36.990387399999996,21.53923024,37.431652039999996,64.30053176,7.3153403599999995,38.60376124,22.89749796,32.01138571527068,27.67556664,40.062002979999995,56.49566344,70.69886903999999,46.6430514,31.971002119999998,32.72253096,23.786922,32.956952799999996,55.15808,10.38350856,74.4978818,53.72396992,30.881630039999997,13.54130864,43.5748832,21.504756439999998,52.826961643999994,33.0603742,50.77301264,19.539060364,42.131120456,35.3011712,41.542997428,47.401475,51.732763231999996,19.98790924,15.04436632,29.592309919999998,42.126983599999996,52.30364936,39.382869119999995,39.14844728,36.3009114,44.32641204,23.404952295999998,22.629981272,15.615941924,23.83518532,35.225328839999996,31.17810472,27.874825204,38.56239268,54.315540328,42.63719584,33.301690799999996,12.541568439999999,4.782205536,29.06830816,34.23937816,32.88455782,49.89737812,31.53663224,33.70158688,32.763899519999995,37.91428524,25.559564796,17.43684804,57.21823428799999,50.526869708,14.306626999999999,19.009542795999998,10.089791784,13.18278112,13.52062436,30.275580636,52.516697443999995,81.75116932,28.46846404,40.85834776,71.29871315999999,17.36790044,55.89581932,62.5009994,26.233182848000002,34.20490436,41.40992856,9.617500724000001,17.22311048,44.38846488,19.765208492,50.511011759999995,39.05192064,25.11662571527068,35.570066839999996,44.27814872,50.60064364,68.29949256,31.178794196000002,62.052839999999996,39.2311844,15.030576799999999,17.596806471999997,36.56291228,59.79825348,56.8128224,53.300631656,37.997022359999995,64.30053176,77.29715436,38.610656,10.787541496,34.48758952,53.65502232,13.22414968,63.3973182,36.93522932,25.3727168,12.17614616,37.16965116,51.0556978,21.91154728,44.298833,53.77223324,21.29101888,45.2985732,18.415903959999998,42.620648416,60.949678399999996,31.11605188,15.43736764,24.24197616,42.79577532,21.96670536,38.630650804,26.0621928,24.42813468,27.77209328,31.899986092,56.619079643999996,33.27411176,11.57630204,30.219733079999997,56.61287436,33.306517131999996,29.93015316,24.00065956,46.234192132,79.29663476,41.719503284,33.398217439999996,51.03501352,14.98920824,28.021683592,32.39847724,53.104130996,35.3011712,14.796154959999999,30.079769451999997,37.265488323999996,50.94882902,43.698299404,21.6495464,23.07676172,24.065470304,10.0318758,58.798513279999995,25.17966352,24.437787344,60.2946762,40.65839972,7.507014687999999,55.59934464,36.3009114,74.69782984,9.561653168,44.207822168,13.19657064,27.935499091999997,26.04840328,32.109882284729316,78.80021203999999,26.40003604,56.63355864,15.691094808,25.083136879999998,51.021224,37.25928304,42.42345828,43.49904084,23.523542168,25.55887532,31.640053639999998,12.83804312,33.963587759999996,49.20100736,15.569747031999999,28.991086848000002,65.19685056,12.37264682,41.885667,25.745033839999998,40.0585556,46.2293658,23.73865868,43.565230536,41.05140104,32.8535314,31.023662096000002,60.19814956,65.90701084,73.29819356,44.27814872,52.20022796,26.859916531999996,40.759063216,11.46598588,21.78054684,40.56876784,28.296095039999997,18.287661424,14.2032056,44.51946532,14.843728804,21.26343984,39.39665864,52.44154456,35.3011712,41.09966436,24.28334472,25.17966352,61.797733879999996,23.69039536,31.2677366,9.131420144,36.804918356,30.84715624,42.54756396,19.00885332,25.10382116,44.63667624,38.995383608,9.307926,55.55108132,38.76923548,45.83636448,74.16693332,22.752708,27.742445811999996,29.86810032,49.185149411999994,24.3385028,44.523602176000004,68.4994406,31.6469484,37.427515183999994,67.79617508,36.4388066,55.020184799999996,39.004642284729314,32.53292506,73.69808963999999,19.93275116,8.374375495999999,10.222171176,14.596896395999998,43.69898888,7.723510152,31.35047372,44.868340176000004,45.3675208,29.7508894,26.14492992,55.19944856,29.231713971999998,51.04190828,65.909079268,79.29663476,9.738159024,54.896079119999996,37.36270444,51.72448952,20.72564856,52.82075636,32.102692036,71.62276688,35.86585204399999,35.101223159999996,46.24315532,31.84000168,33.398217439999996,57.21271848,43.942373908,7.675936308,18.0297974,31.875164956000003,75.49762199999999,24.40055564,8.204074924,46.68441996,3.31982694,21.02212324,41.36856,27.04124872,44.42293868,34.39795764,20.96696516,36.96970312,6.26733684,15.41668336,39.435269296,50.732333556],\"y\":[47.87560466266667,33.434759668,40.03703409914285,20.918118437230767,56.039558649576435,21.418306756923077,12.646653803481366,31.87840804681482,48.656838427,23.660058416000002,25.636924003199994,24.399176687999997,24.975327905454545,40.03703409914285,62.85975674533334,21.571405786666663,33.434759668,39.49088702666666,31.87840804681482,36.874973296242416,25.636924003199994,50.867241026666676,27.51848102466667,42.42345828,35.389325631182324,42.82634208933333,45.87926520888888,24.609053182399997,45.897484499529405,12.646653803481366,47.15794222714286,31.87840804681482,31.87840804681482,65.99664272,54.3479457,45.897484499529405,33.116911232,42.536532344,21.418306756923077,20.918118437230767,50.858507663999994,25.636924003199994,48.656838427,12.646653803481366,12.646653803481366,62.85975674533334,45.897484499529405,42.02501372842105,40.03703409914285,16.324127795454544,25.636924003199994,12.646653803481366,23.04228792,26.841399176243108,50.867241026666676,73.89165364296295,33.116911232,40.55164585266667,38.505215420285715,66.42411784,25.636924003199994,31.87840804681482,13.420963738181815,42.02501372842105,55.45455468,24.031577115368417,31.103936801714287,45.897484499529405,47.15794222714286,40.03703409914285,36.874973296242416,24.031577115368417,57.30786616800001,34.324183708,12.646653803481366,42.02501372842105,47.87560466266667,32.5348555928,24.031577115368417,34.828880139999995,40.55164585266667,45.897484499529405,62.85975674533334,46.69462420479999,19.41564416,56.24055732,32.782121385714284,44.810682745499996,65.88908446399999,33.46261778145489,37.77565131559116,49.413021230000005,42.075814631142855,37.303190889658545,30.145131776799996,38.701666832,24.720263571878792,10.863383855999999,76.80073164,34.4720073624,12.60803431277694,25.081322469473687,38.36369431525,23.141802289333338,44.810682745499996,34.4720073624,68.29949256,16.548014979428572,24.399176687999997,64.97621824,34.4720073624,48.02545078,24.720263571878792,30.145131776799996,22.127766953600002,15.636936468200002,49.413021230000005,30.145131776799996,15.517593097428572,22.292138032,24.720263571878792,30.145131776799996,44.810682745499996,33.756843456243104,40.461536177894736,53.31877017846155,10.863383855999999,37.77565131559116,46.69462420479999,25.081322469473687,25.124997923513785,30.275580636,73.88769554,12.60803431277694,68.75060685418796,60.90572430499999,39.48284313999999,40.99854121333333,15.636936468200002,15.517593097428572,49.413021230000005,30.145131776799996,22.127766953600002,37.303190889658545,64.97621824,50.211503385600004,37.303190889658545,38.701666832,33.46261778145489,58.54110890666667,15.636936468200002,21.53923024,53.31877017846155,30.145131776799996,57.68583034509023,60.90572430499999,40.461536177894736,73.88769554,49.413021230000005,60.90572430499999,16.548014979428572,34.23937816,15.636936468200002,31.158428135692308,26.560289961714286,39.48284313999999,38.020354227839995,35.83512111371429,23.857334736500004,5.76229567,28.6822016,13.333874860571427,20.338852524,29.57162564,37.90139203879999,42.32407234247058,27.993677733523803,29.021396212960003,54.96980001538461,20.338852524,13.250956680769901,29.021396212960003,29.57162564,42.65698080347826,32.0532073582188,26.251995693142863,56.43878167,37.90139203879999,32.688970715699995,42.524412081684204,42.524412081684204,38.020354227839995,38.020354227839995,42.65698080347826,35.59936956999999,13.250956680769901,42.524412081684204,41.08257520485714,42.65698080347826,54.79085194903133,56.43878167,42.524412081684204,54.79085194903133,16.713760084999997,26.251995693142863,32.0532073582188,42.32407234247058,23.857334736500004,22.57018489890909,43.794395121499996,27.993677733523803,23.519525220869568,32.0532073582188,13.250956680769901,37.623671105999996,30.56447108,73.15646793777776,23.857334736500004,60.32225524,33.2150753775,32.0532073582188,29.021396212960003,46.40058567333333,27.993677733523803,73.15646793777776,41.08257520485714,13.333874860571427,35.3011712,13.250956680769901,42.32407234247058,42.32407234247058,13.250956680769901,29.469066084999998,29.021396212960003,33.2150753775,41.08257520485714,27.993677733523803,56.43878167,65.738778696,48.887065954666674,37.90139203879999,32.688970715699995,13.250956680769901,16.02342224,38.020354227839995,38.020354227839995,55.551081319999994,41.08257520485714,20.338852524,75.13535981833333,32.503216755882356,36.54448028826666,25.80713368972727,57.21892376400001,41.42807266526315,37.47539810344826,25.80713368972727,48.62506507466667,13.578749459843257,41.42807266526315,56.66573418666667,47.12185417777778,66.78067543054136,3.4779467693333337,72.99482412,13.578749459843257,13.578749459843257,47.12185417777778,35.781703139809515,37.76949528,13.578749459843257,21.963257979999998,14.49106183,13.578749459843257,10.765970746857144,23.88689602,14.83871443309091,17.35066354,50.06859799333333,35.781703139809515,24.4419242,21.963257979999998,19.400935338666667,21.804793412666665,49.9638436064,31.876740901142856,22.895875663529413,14.83871443309091,40.11435719093333,13.578749459843257,18.961193291500003,25.80713368972727,24.8152065064,22.895875663529413,23.612024921333333,37.997022359999995,54.96330303,36.54448028826666,75.13535981833333,37.47539810344826,54.96330303,38.45897128,49.455719493714284,40.86524252,24.703678838817666,25.80713368972727,49.455719493714284,3.4779467693333337,13.578749459843257,41.42807266526315,24.703678838817666,32.503216755882356,37.47539810344826,22.895875663529413,31.206373235999997,50.06859799333333,13.578749459843257,22.895875663529413,22.895875663529413,67.78238556,18.961193291500003,75.13535981833333,13.578749459843257,25.80713368972727,31.206373235999997,75.13535981833333,65.598815068,22.895875663529413,32.503216755882356,31.206373235999997,37.47539810344826,25.80713368972727,50.806859643636365,39.07859474275,50.107730979636365,40.79801861,34.62843961714286,13.247502601636047,50.107730979636365,40.853686554662985,28.80113621,18.521393787999997,40.853686554662985,49.31286961769697,18.260377873714283,13.247502601636047,36.37232141428571,60.949678399999996,50.806859643636365,33.16143168228571,28.80113621,36.37232141428571,50.107730979636365,25.530737245405412,31.35703753152,38.52246575163636,13.247502601636047,13.247502601636047,55.50971276,34.51091679133334,40.39786397649999,13.247502601636047,10.224009778666666,41.038645734,24.990004583384614,40.39786397649999,62.104790517739104,40.853686554662985,49.31286961769697,32.8001659576,33.58888053653333,41.80120619,45.41233674,33.134765031578944,49.31286961769697,18.645938225454547,33.58888053653333,24.943468742108273,25.530737245405412,49.31286961769697,33.58888053653333,46.11904963999999,49.37427650922221,13.217642750249999,55.50971276,46.25464658666667,50.806859643636365,13.247502601636047,31.563177066,31.35703753152,62.104790517739104,18.645938225454547,24.990004583384614,33.16143168228571,62.104790517739104,33.16143168228571,40.514923047454886,40.853686554662985,39.07859474275,29.572765927230776,13.247502601636047,39.07859474275,44.348245446666674,64.58091866666668,29.572765927230776,25.891892228000003,64.58091866666668,9.636461314,33.16143168228571,13.247502601636047,40.853686554662985,40.39786397649999,55.50971276,13.247502601636047,45.04576533333333,45.73056620221053,29.690146564400003,23.022951252181823,25.00138472472932,38.1214038304,49.99168311511111,8.536402356,42.08906242,39.288679037555546,6.675161894,22.208079416333334,62.34931468,45.73056620221053,40.826310108533335,39.288679037555546,14.966225706666668,35.36322404,33.42404159936981,35.65534413473683,13.394010535233617,45.13118041808696,12.452367482499998,13.394010535233617,10.26974502,13.394010535233617,9.931097391333333,13.394010535233617,33.42404159936981,45.73056620221053,39.288679037555546,33.42404159936981,44.610476152,54.23454504210526,25.00138472472932,33.42404159936981,44.610476152,13.394010535233617,27.557352845818176,65.93757760933333,38.125264896,49.99168311511111,29.690146564400003,25.00138472472932,29.690146564400003,33.42404159936981,13.394010535233617,33.42404159936981,19.41564416,33.42404159936981,57.18927629599999,13.394010535233617,29.690146564400003,49.55237493692307,33.42404159936981,45.73056620221053,12.452367482499998,45.13118041808696,74.25152672153845,50.012037978799995,38.1214038304,23.022951252181823,38.1214038304,24.28334472,33.42404159936981,35.65534413473683,38.1214038304,14.966225706666668,65.88908446399999,46.440345456,38.125264896,22.208079416333334,45.13118041808696,13.394010535233617,25.00138472472932,15.35118314,46.023901952,45.04576533333333,35.043651914,74.25152672153845,38.1214038304,46.440345456,44.44969691523809,35.18281115333333,37.72196322242425,28.946270907999995,24.566552210303033,14.67894404,24.566552210303033,14.49332177911111,69.84529775200001,45.41233674,24.566552210303033,23.886206543999997,52.890499509230764,37.72196322242425,52.890499509230764,69.84529775200001,65.86137409490978,65.86137409490978,37.27520665254511,35.21840854385185,37.38791956228572,65.45425493333333,13.41274599022976,33.756843456243104,56.196233862857135,35.06674936,32.0018906448,38.38923281047059,53.54815354,65.45425493333333,52.890499509230764,38.38923281047059,38.38923281047059,24.566552210303033,32.0018906448,45.0581529188,13.41274599022976,75.92753056470588,43.42461798941176,31.227103481066667,14.67894404,37.72196322242425,17.829849359999997,44.44969691523809,24.566552210303033,46.3279308907826,12.725122272888889,45.0581529188,35.18281115333333,39.967446271428564,35.21840854385185,46.3279308907826,20.94972826,13.41274599022976,27.36530244,38.38923281047059,69.84529775200001,38.38923281047059,43.42461798941176,35.18281115333333,39.967446271428564,13.41274599022976,37.72196322242425,13.41274599022976,28.946270907999995,31.227103481066667,38.38923281047059,24.566552210303033,43.42461798941176,45.0581529188,28.946270907999995,31.227103481066667,13.41274599022976,8.099044746666666,31.227103481066667,17.829849359999997,37.72196322242425,69.84529775200001,38.10504026666667,29.80127655213675,32.0018906448,23.886206543999997,26.477863255151515,16.77730981368421,57.21271848,46.77317673584615,16.77730981368421,26.477863255151515,7.820209160999999,12.370455271408831,16.77730981368421,27.006774919999998,50.0619043305,73.8930734528,37.64345906720001,38.137713768222234,73.8930734528,16.09236984,46.40058567333333,56.608737504,26.477863255151515,39.22352355555555,49.41934142666667,19.904766545882357,15.91011835066667,43.1194153544,22.338064794444442,59.76377968,38.137713768222234,23.087202357162408,37.64345906720001,37.64345906720001,43.48496926163637,57.3644032,38.137713768222234,38.137713768222234,37.64345906720001,19.904766545882357,32.84207720193549,37.64345906720001,60.23147423333333,49.41934142666667,50.0619043305,46.40058567333333,66.26553836,73.8930734528,37.005161885878444,12.370455271408831,30.860924347573388,49.41934142666667,16.77730981368421,66.26553836,33.756843456243104,28.107638266666665,12.320246644000001,43.1194153544,52.09585555862069,19.98790924,39.22352355555555,49.41934142666667,12.370455271408831,43.48496926163637,22.338064794444442,46.630468463,52.09585555862069,37.64345906720001,12.370455271408831,37.64345906720001,35.101223159999996,22.338064794444442,38.137713768222234,19.904766545882357,22.455084193333334,37.64345906720001,28.658759416,57.21271848,28.916177308470587,12.370455271408831,43.48496926163637,57.21271848,29.708658994999997,22.455084193333334,19.904766545882357,50.0619043305,73.82988562923076,47.09982925,34.939885776,46.27303261333333,14.1681802192,33.01928653762963,33.01928653762963,44.91834533010526,34.939885776,12.273023694158836,33.01928653762963,70.49867476571244,47.09982925,44.91834533010526,21.86335653642106,12.273023694158836,19.53862160654545,19.53862160654545,56.898514417142856,21.86335653642106,19.53862160654545,64.53322990999999,39.30396242222221,6.582733805777779,49.26995496,33.953666966444445,51.716905284,19.53862160654545,39.479280847333335,17.982453381333332,33.01928653762963,36.436398906141186,34.0482948117569,73.82988562923076,34.286580747692305,56.11698200615385,19.53862160654545,31.269813592790786,60.280886679999995,70.49867476571244,49.45611348,46.27303261333333,19.53862160654545,26.006739230285714,34.286580747692305,23.886551282,46.27303261333333,43.33011922,14.440155518666668,28.170955145999994,64.53322990999999,12.8944422568,36.436398906141186,33.01928653762963,38.45030358171429,46.27303261333333,28.170955145999994,47.09982925,39.30396242222221,46.27303261333333,39.479280847333335,56.898514417142856,65.95286099399999,71.69860924,42.36133649240001,55.69587128,28.170955145999994,44.91834533010526,19.010921748,22.25456159,46.27303261333333,24.490778500216543,28.170955145999994,12.273023694158836,43.26120034816666,12.273023694158836,23.886551282,26.006739230285714,42.36133649240001,34.939885776,34.0482948117569,23.886551282,24.478236602666666,75.87480592941176,26.06579006608696,36.35706538977777,12.652374987311147,38.460005494,33.81535042,47.48056195294117,26.06579006608696,24.478236602666666,33.81535042,37.32995433,12.652374987311147,68.80950781256995,37.59712628,48.777554183333336,60.267786636,25.510612,16.1140193864,26.06579006608696,49.242031182,26.06579006608696,44.51946532,75.87480592941176,34.8580966855,34.8580966855,65.436788208,26.06579006608696,48.777554183333336,37.59712628,27.727343003395987,75.87480592941176,12.652374987311147,3.557006684,12.652374987311147,12.652374987311147,34.8580966855,3.557006684,25.115312426666666,65.436788208,48.777554183333336,17.5126904,26.06579006608696,57.338892588,27.727343003395987,49.83279720133333,65.95182678,75.87480592941176,10.879931279999997,56.59563746,32.1886199867907,48.777554183333336,21.260854305000002,46.7226593596923,37.53239665082353,60.267786636,35.29772382,49.40785016,46.7226593596923,34.8580966855,34.50980596888889,56.81672943066666,49.83279720133333,3.557006684,33.81535042,33.0791279472,75.87480592941176,29.62333634,12.652374987311147,56.33708396,8.135989169,22.44416749,57.338892588,21.260854305000002,53.334415979999996,34.50980596888889,16.1140193864,37.53239665082353,16.1140193864,15.17372262492308,32.1886199867907,49.242031182]}},\"id\":\"ab80b53b-150b-4adb-8a42-64c975624f0b\",\"type\":\"ColumnDataSource\"},{\"attributes\":{\"plot\":{\"id\":\"54dc8f8d-707c-4504-961d-f3ab22629f36\",\"subtype\":\"Figure\",\"type\":\"Plot\"}},\"id\":\"e9225d82-2780-480a-81f2-3dddf6dc4d06\",\"type\":\"SaveTool\"},{\"attributes\":{\"data_source\":{\"id\":\"0b1ae4fb-6491-43af-9883-8993be27b423\",\"type\":\"ColumnDataSource\"},\"glyph\":{\"id\":\"9dae4929-300b-4d17-bdd6-fba1e88aa973\",\"type\":\"Line\"},\"hover_glyph\":null,\"nonselection_glyph\":{\"id\":\"8cf07953-86bf-4de6-a41f-23346f4667ba\",\"type\":\"Line\"},\"selection_glyph\":null},\"id\":\"72d500df-3511-4d55-9972-f2530553c3fa\",\"type\":\"GlyphRenderer\"},{\"attributes\":{\"axis_label\":\"Measured\",\"axis_label_text_color\":{\"value\":\"#aa6666\"},\"formatter\":{\"id\":\"f1c06cbc-f23d-48a3-98a3-fd0243f42600\",\"type\":\"BasicTickFormatter\"},\"major_tick_line_color\":{\"value\":\"firebrick\"},\"major_tick_line_width\":{\"value\":3},\"minor_tick_line_color\":{\"value\":\"orange\"},\"plot\":{\"id\":\"54dc8f8d-707c-4504-961d-f3ab22629f36\",\"subtype\":\"Figure\",\"type\":\"Plot\"},\"ticker\":{\"id\":\"64048abb-6b3e-4a65-9b3b-d5557e737fed\",\"type\":\"BasicTicker\"}},\"id\":\"c96fd860-d9b8-4075-bd38-9bf6956d3186\",\"type\":\"LinearAxis\"},{\"attributes\":{},\"id\":\"a9019cca-9638-49b4-bc6b-068cc925231c\",\"type\":\"BasicTicker\"},{\"attributes\":{\"callback\":null,\"column_names\":[\"y\",\"x\"],\"data\":{\"x\":[2.331807832,82.5992248],\"y\":[2.331807832,82.5992248]}},\"id\":\"0b1ae4fb-6491-43af-9883-8993be27b423\",\"type\":\"ColumnDataSource\"},{\"attributes\":{\"plot\":{\"id\":\"54dc8f8d-707c-4504-961d-f3ab22629f36\",\"subtype\":\"Figure\",\"type\":\"Plot\"}},\"id\":\"1b49b7b0-6bec-4c24-827f-28b9fc158103\",\"type\":\"UndoTool\"},{\"attributes\":{\"plot\":{\"id\":\"54dc8f8d-707c-4504-961d-f3ab22629f36\",\"subtype\":\"Figure\",\"type\":\"Plot\"}},\"id\":\"bcc7fd69-9e0d-4456-9bbf-ac422714dacf\",\"type\":\"PanTool\"},{\"attributes\":{\"dimension\":1,\"plot\":{\"id\":\"54dc8f8d-707c-4504-961d-f3ab22629f36\",\"subtype\":\"Figure\",\"type\":\"Plot\"},\"ticker\":{\"id\":\"a9019cca-9638-49b4-bc6b-068cc925231c\",\"type\":\"BasicTicker\"}},\"id\":\"fe3c50d4-1c36-4d21-bb48-7da2f6d7af79\",\"type\":\"Grid\"},{\"attributes\":{\"plot\":{\"id\":\"54dc8f8d-707c-4504-961d-f3ab22629f36\",\"subtype\":\"Figure\",\"type\":\"Plot\"}},\"id\":\"c3f44aae-2341-47b4-bf46-999fbbfecf69\",\"type\":\"CrosshairTool\"},{\"attributes\":{\"plot\":{\"id\":\"54dc8f8d-707c-4504-961d-f3ab22629f36\",\"subtype\":\"Figure\",\"type\":\"Plot\"}},\"id\":\"5461d7a1-4436-4ab4-9720-b07396c8b8ee\",\"type\":\"ResetTool\"},{\"attributes\":{\"bottom_units\":\"screen\",\"fill_alpha\":{\"value\":0.5},\"fill_color\":{\"value\":\"lightgrey\"},\"left_units\":\"screen\",\"level\":\"overlay\",\"line_alpha\":{\"value\":1.0},\"line_color\":{\"value\":\"black\"},\"line_dash\":[4,4],\"line_width\":{\"value\":2},\"plot\":null,\"render_mode\":\"css\",\"right_units\":\"screen\",\"top_units\":\"screen\"},\"id\":\"98be886c-4072-4dd9-901e-ec92f1ff7a38\",\"type\":\"BoxAnnotation\"},{\"attributes\":{\"axis_label\":\"Predicted\",\"axis_label_text_color\":{\"value\":\"#aa6666\"},\"formatter\":{\"id\":\"3ce16f85-4535-444c-8fd0-0722d403831e\",\"type\":\"BasicTickFormatter\"},\"plot\":{\"id\":\"54dc8f8d-707c-4504-961d-f3ab22629f36\",\"subtype\":\"Figure\",\"type\":\"Plot\"},\"ticker\":{\"id\":\"a9019cca-9638-49b4-bc6b-068cc925231c\",\"type\":\"BasicTicker\"}},\"id\":\"f2f9cc05-8ed9-44b1-ae67-749efdf770e9\",\"type\":\"LinearAxis\"},{\"attributes\":{\"callback\":null},\"id\":\"1d8604e3-6e7a-417f-b24e-906270bc29cd\",\"type\":\"DataRange1d\"},{\"attributes\":{\"overlay\":{\"id\":\"2430bbc5-0d46-4849-a006-3fbf16446f18\",\"type\":\"PolyAnnotation\"},\"plot\":{\"id\":\"54dc8f8d-707c-4504-961d-f3ab22629f36\",\"subtype\":\"Figure\",\"type\":\"Plot\"}},\"id\":\"ee976a36-db03-471d-9d25-243663a4eecd\",\"type\":\"PolySelectTool\"},{\"attributes\":{\"fill_alpha\":{\"value\":0.1},\"fill_color\":{\"value\":\"#1f77b4\"},\"line_alpha\":{\"value\":0.1},\"line_color\":{\"value\":\"#1f77b4\"},\"line_width\":{\"value\":3},\"x\":{\"field\":\"x\"},\"y\":{\"field\":\"y\"}},\"id\":\"e6b279de-2d46-4b17-8749-07c17565be4d\",\"type\":\"Circle\"},{\"attributes\":{\"background_fill_alpha\":{\"value\":0.5},\"background_fill_color\":{\"value\":\"beige\"},\"below\":[{\"id\":\"c96fd860-d9b8-4075-bd38-9bf6956d3186\",\"type\":\"LinearAxis\"}],\"left\":[{\"id\":\"f2f9cc05-8ed9-44b1-ae67-749efdf770e9\",\"type\":\"LinearAxis\"}],\"plot_height\":500,\"plot_width\":500,\"renderers\":[{\"id\":\"c96fd860-d9b8-4075-bd38-9bf6956d3186\",\"type\":\"LinearAxis\"},{\"id\":\"a447e37d-165e-4d51-8b41-204c1579dec4\",\"type\":\"Grid\"},{\"id\":\"f2f9cc05-8ed9-44b1-ae67-749efdf770e9\",\"type\":\"LinearAxis\"},{\"id\":\"fe3c50d4-1c36-4d21-bb48-7da2f6d7af79\",\"type\":\"Grid\"},{\"id\":\"99efbe42-363d-4c2e-9dfe-b36bb2537006\",\"type\":\"BoxAnnotation\"},{\"id\":\"98be886c-4072-4dd9-901e-ec92f1ff7a38\",\"type\":\"BoxAnnotation\"},{\"id\":\"aae6203f-0b67-4591-a386-3e9d53bbb8d0\",\"type\":\"PolyAnnotation\"},{\"id\":\"2430bbc5-0d46-4849-a006-3fbf16446f18\",\"type\":\"PolyAnnotation\"},{\"id\":\"b33fe851-34bf-4125-9cfd-b73cf31838cd\",\"type\":\"GlyphRenderer\"},{\"id\":\"72d500df-3511-4d55-9972-f2530553c3fa\",\"type\":\"GlyphRenderer\"}],\"title\":{\"id\":\"abdbabcc-a550-4687-8894-b0f7d0ed1a22\",\"type\":\"Title\"},\"tool_events\":{\"id\":\"2a65ba8f-25fe-47d6-82b8-8699ea41ed75\",\"type\":\"ToolEvents\"},\"toolbar\":{\"id\":\"e08f0424-a578-45a6-91b4-3cfb8312dd3a\",\"type\":\"Toolbar\"},\"x_range\":{\"id\":\"1d8604e3-6e7a-417f-b24e-906270bc29cd\",\"type\":\"DataRange1d\"},\"y_range\":{\"id\":\"11e78254-f4c2-4969-95dc-71dc8f7574b6\",\"type\":\"DataRange1d\"}},\"id\":\"54dc8f8d-707c-4504-961d-f3ab22629f36\",\"subtype\":\"Figure\",\"type\":\"Plot\"},{\"attributes\":{\"data_source\":{\"id\":\"ab80b53b-150b-4adb-8a42-64c975624f0b\",\"type\":\"ColumnDataSource\"},\"glyph\":{\"id\":\"564bb297-959e-4323-8089-f636a2c2d567\",\"type\":\"Circle\"},\"hover_glyph\":null,\"nonselection_glyph\":{\"id\":\"e6b279de-2d46-4b17-8749-07c17565be4d\",\"type\":\"Circle\"},\"selection_glyph\":null},\"id\":\"b33fe851-34bf-4125-9cfd-b73cf31838cd\",\"type\":\"GlyphRenderer\"},{\"attributes\":{},\"id\":\"2a65ba8f-25fe-47d6-82b8-8699ea41ed75\",\"type\":\"ToolEvents\"},{\"attributes\":{\"overlay\":{\"id\":\"99efbe42-363d-4c2e-9dfe-b36bb2537006\",\"type\":\"BoxAnnotation\"},\"plot\":{\"id\":\"54dc8f8d-707c-4504-961d-f3ab22629f36\",\"subtype\":\"Figure\",\"type\":\"Plot\"}},\"id\":\"796298f9-6073-4d0a-9600-4cf0d71f312f\",\"type\":\"BoxZoomTool\"},{\"attributes\":{\"callback\":null},\"id\":\"11e78254-f4c2-4969-95dc-71dc8f7574b6\",\"type\":\"DataRange1d\"},{\"attributes\":{\"fill_alpha\":{\"value\":0.5},\"fill_color\":{\"value\":\"lightgrey\"},\"level\":\"overlay\",\"line_alpha\":{\"value\":1.0},\"line_color\":{\"value\":\"black\"},\"line_dash\":[4,4],\"line_width\":{\"value\":2},\"plot\":null,\"xs_units\":\"screen\",\"ys_units\":\"screen\"},\"id\":\"2430bbc5-0d46-4849-a006-3fbf16446f18\",\"type\":\"PolyAnnotation\"},{\"attributes\":{\"callback\":null,\"plot\":{\"id\":\"54dc8f8d-707c-4504-961d-f3ab22629f36\",\"subtype\":\"Figure\",\"type\":\"Plot\"}},\"id\":\"9c0c09e7-ddf2-42af-b531-b718c028cc31\",\"type\":\"TapTool\"},{\"attributes\":{},\"id\":\"64048abb-6b3e-4a65-9b3b-d5557e737fed\",\"type\":\"BasicTicker\"},{\"attributes\":{\"line_alpha\":{\"value\":0.1},\"line_color\":{\"value\":\"#1f77b4\"},\"line_dash\":[4,4],\"line_width\":{\"value\":2},\"x\":{\"field\":\"x\"},\"y\":{\"field\":\"y\"}},\"id\":\"8cf07953-86bf-4de6-a41f-23346f4667ba\",\"type\":\"Line\"},{\"attributes\":{\"plot\":{\"id\":\"54dc8f8d-707c-4504-961d-f3ab22629f36\",\"subtype\":\"Figure\",\"type\":\"Plot\"}},\"id\":\"4a75f150-511c-4724-a3ee-898373c0bd55\",\"type\":\"ResizeTool\"},{\"attributes\":{\"plot\":{\"id\":\"54dc8f8d-707c-4504-961d-f3ab22629f36\",\"subtype\":\"Figure\",\"type\":\"Plot\"},\"ticker\":{\"id\":\"64048abb-6b3e-4a65-9b3b-d5557e737fed\",\"type\":\"BasicTicker\"}},\"id\":\"a447e37d-165e-4d51-8b41-204c1579dec4\",\"type\":\"Grid\"},{\"attributes\":{\"bottom_units\":\"screen\",\"fill_alpha\":{\"value\":0.5},\"fill_color\":{\"value\":\"lightgrey\"},\"left_units\":\"screen\",\"level\":\"overlay\",\"line_alpha\":{\"value\":1.0},\"line_color\":{\"value\":\"black\"},\"line_dash\":[4,4],\"line_width\":{\"value\":2},\"plot\":null,\"render_mode\":\"css\",\"right_units\":\"screen\",\"top_units\":\"screen\"},\"id\":\"99efbe42-363d-4c2e-9dfe-b36bb2537006\",\"type\":\"BoxAnnotation\"},{\"attributes\":{},\"id\":\"f1c06cbc-f23d-48a3-98a3-fd0243f42600\",\"type\":\"BasicTickFormatter\"}],\"root_ids\":[\"54dc8f8d-707c-4504-961d-f3ab22629f36\"]},\"title\":\"Bokeh Application\",\"version\":\"0.12.2\"}};\n",
       "            var render_items = [{\"docid\":\"952726ac-c3c4-46b8-8f13-7efccb4ca0a0\",\"elementid\":\"3c4da638-25af-4ea3-b014-ef37d69f5f4f\",\"modelid\":\"54dc8f8d-707c-4504-961d-f3ab22629f36\"}];\n",
       "            \n",
       "            Bokeh.embed.embed_items(docs_json, render_items);\n",
       "        });\n",
       "      },\n",
       "      function(Bokeh) {\n",
       "      }\n",
       "    ];\n",
       "  \n",
       "    function run_inline_js() {\n",
       "      \n",
       "      if ((window.Bokeh !== undefined) || (force === \"1\")) {\n",
       "        for (var i = 0; i < inline_js.length; i++) {\n",
       "          inline_js[i](window.Bokeh);\n",
       "        }if (force === \"1\") {\n",
       "          display_loaded();\n",
       "        }} else if (Date.now() < window._bokeh_timeout) {\n",
       "        setTimeout(run_inline_js, 100);\n",
       "      } else if (!window._bokeh_failed_load) {\n",
       "        console.log(\"Bokeh: BokehJS failed to load within specified timeout.\");\n",
       "        window._bokeh_failed_load = true;\n",
       "      } else if (!force) {\n",
       "        var cell = $(\"#3c4da638-25af-4ea3-b014-ef37d69f5f4f\").parents('.cell').data().cell;\n",
       "        cell.output_area.append_execute_result(NB_LOAD_WARNING)\n",
       "      }\n",
       "  \n",
       "    }\n",
       "  \n",
       "    if (window._bokeh_is_loading === 0) {\n",
       "      console.log(\"Bokeh: BokehJS loaded, going straight to plotting\");\n",
       "      run_inline_js();\n",
       "    } else {\n",
       "      load_libs(js_urls, function() {\n",
       "        console.log(\"Bokeh: BokehJS plotting callback run at\", now());\n",
       "        run_inline_js();\n",
       "      });\n",
       "    }\n",
       "  }(this));\n",
       "</script>"
      ]
     },
     "metadata": {},
     "output_type": "display_data"
    }
   ],
   "source": [
    "# Plotining using bokeh\n",
    "#TOOLS = [BoxSelectTool(), HoverTool()]\n",
    "#TOOLS = 'hover,box_zoom,box_select,crosshair,resize,reset,DecisionTreeRegressor_select,pan,save,poly_select,tap,wheel_zoom,undo'\n",
    "TOOLS = 'box_zoom,box_select,crosshair,resize,reset,lasso_select,pan,save,poly_select,tap,wheel_zoom,undo'\n",
    "p = figure(plot_width=500, plot_height=500, tools=TOOLS)\n",
    "p.scatter(Y, predicted,x=\"jjj\", marker=\"o\", color=\"#80B1D3\", line_width=3)\n",
    "p.title.align = \"center\"\n",
    "p.xaxis.axis_label = \"Measured\"\n",
    "p.xaxis.axis_label_text_color = \"#aa6666\"\n",
    "#p.xaxis.axis_label_standoff = 30\n",
    "p.xaxis.major_tick_line_color = \"firebrick\"\n",
    "p.xaxis.major_tick_line_width = 3\n",
    "p.xaxis.minor_tick_line_color = \"orange\"\n",
    "p.yaxis.axis_label = \"Predicted\"\n",
    "p.yaxis.axis_label_text_font_style = \"italic\"\n",
    "p.yaxis.axis_label_text_color = \"#aa6666\"\n",
    "p.background_fill_color = \"beige\"\n",
    "p.background_fill_alpha = 0.5\n",
    "#p.line([Y.min(), Y.max()], [Y.min(), Y.max()], line_dash=\"4 4\", line_width=2, color='red')\n",
    "\n",
    "# create a new plot with the toolbar below\n",
    "# line_dash=\"4 4\", line_width=2, color='red'\n",
    "p.line([Y.min(), Y.max()], [Y.min(), Y.max()], line_dash=\"4 4\", line_width=2, line_color=\"black\")\n",
    "show(p)"
   ]
  },
  {
   "cell_type": "code",
   "execution_count": 24,
   "metadata": {
    "collapsed": false
   },
   "outputs": [
    {
     "data": {
      "text/plain": [
       "<matplotlib.text.Text at 0x7f907408cd10>"
      ]
     },
     "execution_count": 24,
     "metadata": {},
     "output_type": "execute_result"
    },
    {
     "data": {
      "image/png": "[encoded data removed]",
      "text/plain": [
       "<matplotlib.figure.Figure at 0x7f9074097a90>"
      ]
     },
     "metadata": {},
     "output_type": "display_data"
    }
   ],
   "source": [
    "plt.scatter(predicted, (predicted - Y), c='r', s=30)\n",
    "plt.title(\"Residual plot on the training data\")\n",
    "plt.xlabel(\"Predicted\")\n",
    "plt.ylabel(\"Residuals\")"
   ]
  },
  {
   "cell_type": "code",
   "execution_count": 25,
   "metadata": {
    "collapsed": false
   },
   "outputs": [
    {
     "data": {
      "text/html": [
       "\n",
       "\n",
       "    <div class=\"bk-root\">\n",
       "        <div class=\"plotdiv\" id=\"6bb7a739-6d44-404e-a9a6-adea60e7a2e2\"></div>\n",
       "    </div>\n",
       "<script type=\"text/javascript\">\n",
       "  \n",
       "  (function(global) {\n",
       "    function now() {\n",
       "      return new Date();\n",
       "    }\n",
       "  \n",
       "    var force = \"\";\n",
       "  \n",
       "    if (typeof (window._bokeh_onload_callbacks) === \"undefined\" || force !== \"\") {\n",
       "      window._bokeh_onload_callbacks = [];\n",
       "      window._bokeh_is_loading = undefined;\n",
       "    }\n",
       "  \n",
       "  \n",
       "    \n",
       "    if (typeof (window._bokeh_timeout) === \"undefined\" || force !== \"\") {\n",
       "      window._bokeh_timeout = Date.now() + 0;\n",
       "      window._bokeh_failed_load = false;\n",
       "    }\n",
       "  \n",
       "    var NB_LOAD_WARNING = {'data': {'text/html':\n",
       "       \"<div style='background-color: #fdd'>\\n\"+\n",
       "       \"<p>\\n\"+\n",
       "       \"BokehJS does not appear to have successfully loaded. If loading BokehJS from CDN, this \\n\"+\n",
       "       \"may be due to a slow or bad network connection. Possible fixes:\\n\"+\n",
       "       \"</p>\\n\"+\n",
       "       \"<ul>\\n\"+\n",
       "       \"<li>re-rerun `output_notebook()` to attempt to load from CDN again, or</li>\\n\"+\n",
       "       \"<li>use INLINE resources instead, as so:</li>\\n\"+\n",
       "       \"</ul>\\n\"+\n",
       "       \"<code>\\n\"+\n",
       "       \"from bokeh.resources import INLINE\\n\"+\n",
       "       \"output_notebook(resources=INLINE)\\n\"+\n",
       "       \"</code>\\n\"+\n",
       "       \"</div>\"}};\n",
       "  \n",
       "    function display_loaded() {\n",
       "      if (window.Bokeh !== undefined) {\n",
       "        Bokeh.$(\"#6bb7a739-6d44-404e-a9a6-adea60e7a2e2\").text(\"BokehJS successfully loaded.\");\n",
       "      } else if (Date.now() < window._bokeh_timeout) {\n",
       "        setTimeout(display_loaded, 100)\n",
       "      }\n",
       "    }\n",
       "  \n",
       "    function run_callbacks() {\n",
       "      window._bokeh_onload_callbacks.forEach(function(callback) { callback() });\n",
       "      delete window._bokeh_onload_callbacks\n",
       "      console.info(\"Bokeh: all callbacks have finished\");\n",
       "    }\n",
       "  \n",
       "    function load_libs(js_urls, callback) {\n",
       "      window._bokeh_onload_callbacks.push(callback);\n",
       "      if (window._bokeh_is_loading > 0) {\n",
       "        console.log(\"Bokeh: BokehJS is being loaded, scheduling callback at\", now());\n",
       "        return null;\n",
       "      }\n",
       "      if (js_urls == null || js_urls.length === 0) {\n",
       "        run_callbacks();\n",
       "        return null;\n",
       "      }\n",
       "      console.log(\"Bokeh: BokehJS not loaded, scheduling load and callback at\", now());\n",
       "      window._bokeh_is_loading = js_urls.length;\n",
       "      for (var i = 0; i < js_urls.length; i++) {\n",
       "        var url = js_urls[i];\n",
       "        var s = document.createElement('script');\n",
       "        s.src = url;\n",
       "        s.async = false;\n",
       "        s.onreadystatechange = s.onload = function() {\n",
       "          window._bokeh_is_loading--;\n",
       "          if (window._bokeh_is_loading === 0) {\n",
       "            console.log(\"Bokeh: all BokehJS libraries loaded\");\n",
       "            run_callbacks()\n",
       "          }\n",
       "        };\n",
       "        s.onerror = function() {\n",
       "          console.warn(\"failed to load library \" + url);\n",
       "        };\n",
       "        console.log(\"Bokeh: injecting script tag for BokehJS library: \", url);\n",
       "        document.getElementsByTagName(\"head\")[0].appendChild(s);\n",
       "      }\n",
       "    };var element = document.getElementById(\"6bb7a739-6d44-404e-a9a6-adea60e7a2e2\");\n",
       "    if (element == null) {\n",
       "      console.log(\"Bokeh: ERROR: autoload.js configured with elementid '6bb7a739-6d44-404e-a9a6-adea60e7a2e2' but no matching script tag was found. \")\n",
       "      return false;\n",
       "    }\n",
       "  \n",
       "    var js_urls = [];\n",
       "  \n",
       "    var inline_js = [\n",
       "      function(Bokeh) {\n",
       "        Bokeh.$(function() {\n",
       "            var docs_json = {\"7f06766f-98f3-4bfb-a0f2-9c261003755c\":{\"roots\":{\"references\":[{\"attributes\":{\"axis_label\":\"Predicted\",\"axis_label_text_color\":{\"value\":\"#aa6666\"},\"formatter\":{\"id\":\"a56c5e9b-d3a0-4257-9a65-d0138c9e902a\",\"type\":\"BasicTickFormatter\"},\"major_tick_line_color\":{\"value\":\"firebrick\"},\"major_tick_line_width\":{\"value\":3},\"minor_tick_line_color\":{\"value\":\"orange\"},\"plot\":{\"id\":\"40a5d20c-dfe7-47d3-a27d-aa57633e50b6\",\"subtype\":\"Figure\",\"type\":\"Plot\"},\"ticker\":{\"id\":\"31ab6e6f-fb24-4c26-ae55-795ece22caac\",\"type\":\"BasicTicker\"}},\"id\":\"101899be-35dd-4e0c-9bd7-c063d7897136\",\"type\":\"LinearAxis\"},{\"attributes\":{\"fill_color\":{\"value\":\"#80B1D3\"},\"line_color\":{\"value\":\"#80B1D3\"},\"line_width\":{\"value\":3},\"x\":{\"field\":\"x\"},\"y\":{\"field\":\"y\"}},\"id\":\"49345496-e5b7-40ac-bda7-0380d80e907a\",\"type\":\"Circle\"},{\"attributes\":{\"callback\":null},\"id\":\"a23e2157-b7cd-4c3f-83e4-4f0402c18b59\",\"type\":\"DataRange1d\"},{\"attributes\":{\"background_fill_alpha\":{\"value\":0.5},\"background_fill_color\":{\"value\":\"beige\"},\"below\":[{\"id\":\"101899be-35dd-4e0c-9bd7-c063d7897136\",\"type\":\"LinearAxis\"}],\"left\":[{\"id\":\"a1a74b3e-3149-436a-844c-12f04a5cabd3\",\"type\":\"LinearAxis\"}],\"plot_height\":500,\"plot_width\":500,\"renderers\":[{\"id\":\"101899be-35dd-4e0c-9bd7-c063d7897136\",\"type\":\"LinearAxis\"},{\"id\":\"e6d10485-9ba0-4750-a661-750f64d2f50d\",\"type\":\"Grid\"},{\"id\":\"a1a74b3e-3149-436a-844c-12f04a5cabd3\",\"type\":\"LinearAxis\"},{\"id\":\"59a60cca-9655-4e76-b84a-0c71ac42201f\",\"type\":\"Grid\"},{\"id\":\"a7fb4109-b58c-4993-b28b-97ced8cba70b\",\"type\":\"BoxAnnotation\"},{\"id\":\"0785c2e1-52c2-459a-8fc1-5cd5f84be3c0\",\"type\":\"BoxAnnotation\"},{\"id\":\"813ec9ab-65cf-4ec2-81f6-1e556eddcf68\",\"type\":\"PolyAnnotation\"},{\"id\":\"ba43b41e-9b28-442b-b7ea-9fd813998e6e\",\"type\":\"PolyAnnotation\"},{\"id\":\"ece6f0a7-486a-40a6-bff8-7f0a924a31a7\",\"type\":\"GlyphRenderer\"}],\"title\":{\"id\":\"4bb65c5b-bd36-4a25-a530-62677d45526d\",\"type\":\"Title\"},\"tool_events\":{\"id\":\"5233b112-7f87-4144-9700-db298aa65e80\",\"type\":\"ToolEvents\"},\"toolbar\":{\"id\":\"af1d1f54-f684-4615-af59-08993d70b451\",\"type\":\"Toolbar\"},\"x_range\":{\"id\":\"39c7526b-7849-460e-a75d-fe4a2ccc5692\",\"type\":\"DataRange1d\"},\"y_range\":{\"id\":\"a23e2157-b7cd-4c3f-83e4-4f0402c18b59\",\"type\":\"DataRange1d\"}},\"id\":\"40a5d20c-dfe7-47d3-a27d-aa57633e50b6\",\"subtype\":\"Figure\",\"type\":\"Plot\"},{\"attributes\":{\"axis_label\":\"Residuals\",\"axis_label_text_color\":{\"value\":\"#aa6666\"},\"formatter\":{\"id\":\"aab5b903-a5d4-4f7c-8a8c-0c9cbeced659\",\"type\":\"BasicTickFormatter\"},\"plot\":{\"id\":\"40a5d20c-dfe7-47d3-a27d-aa57633e50b6\",\"subtype\":\"Figure\",\"type\":\"Plot\"},\"ticker\":{\"id\":\"bd484fcf-dbf7-4954-9750-d6f68a2f619e\",\"type\":\"BasicTicker\"}},\"id\":\"a1a74b3e-3149-436a-844c-12f04a5cabd3\",\"type\":\"LinearAxis\"},{\"attributes\":{},\"id\":\"a56c5e9b-d3a0-4257-9a65-d0138c9e902a\",\"type\":\"BasicTickFormatter\"},{\"attributes\":{\"plot\":{\"id\":\"40a5d20c-dfe7-47d3-a27d-aa57633e50b6\",\"subtype\":\"Figure\",\"type\":\"Plot\"}},\"id\":\"d706a725-cd4e-4049-8198-97e1d51b2457\",\"type\":\"ResetTool\"},{\"attributes\":{\"plot\":{\"id\":\"40a5d20c-dfe7-47d3-a27d-aa57633e50b6\",\"subtype\":\"Figure\",\"type\":\"Plot\"}},\"id\":\"0ff0b9ea-5a15-4f6a-ad44-6b9bcbc22413\",\"type\":\"PanTool\"},{\"attributes\":{\"align\":\"center\",\"plot\":null,\"text\":\"Residual plot on the training data\"},\"id\":\"4bb65c5b-bd36-4a25-a530-62677d45526d\",\"type\":\"Title\"},{\"attributes\":{\"data_source\":{\"id\":\"9758c5c1-924a-4cbf-95cb-6993579449ea\",\"type\":\"ColumnDataSource\"},\"glyph\":{\"id\":\"49345496-e5b7-40ac-bda7-0380d80e907a\",\"type\":\"Circle\"},\"hover_glyph\":null,\"nonselection_glyph\":{\"id\":\"8a775bae-3cc9-40e5-ab71-650b173d613c\",\"type\":\"Circle\"},\"selection_glyph\":null},\"id\":\"ece6f0a7-486a-40a6-bff8-7f0a924a31a7\",\"type\":\"GlyphRenderer\"},{\"attributes\":{\"callback\":null},\"id\":\"39c7526b-7849-460e-a75d-fe4a2ccc5692\",\"type\":\"DataRange1d\"},{\"attributes\":{\"fill_alpha\":{\"value\":0.5},\"fill_color\":{\"value\":\"lightgrey\"},\"level\":\"overlay\",\"line_alpha\":{\"value\":1.0},\"line_color\":{\"value\":\"black\"},\"line_dash\":[4,4],\"line_width\":{\"value\":2},\"plot\":null,\"xs_units\":\"screen\",\"ys_units\":\"screen\"},\"id\":\"ba43b41e-9b28-442b-b7ea-9fd813998e6e\",\"type\":\"PolyAnnotation\"},{\"attributes\":{\"active_drag\":\"auto\",\"active_scroll\":\"auto\",\"active_tap\":\"auto\",\"tools\":[{\"id\":\"82864e57-1e01-4a5f-806e-38b2b51ab206\",\"type\":\"BoxZoomTool\"},{\"id\":\"a8fa84db-2ba8-4ef9-922f-f0838741b933\",\"type\":\"BoxSelectTool\"},{\"id\":\"4708ba8f-0f3f-4de2-8306-de90faaecd4c\",\"type\":\"CrosshairTool\"},{\"id\":\"90e33933-1dc4-4ba2-ace3-370c36ab6e9b\",\"type\":\"ResizeTool\"},{\"id\":\"d706a725-cd4e-4049-8198-97e1d51b2457\",\"type\":\"ResetTool\"},{\"id\":\"2a560646-28b0-4ef2-8f87-1f913f477989\",\"type\":\"LassoSelectTool\"},{\"id\":\"0ff0b9ea-5a15-4f6a-ad44-6b9bcbc22413\",\"type\":\"PanTool\"},{\"id\":\"ea025763-4239-413a-adbe-af122c9c6d92\",\"type\":\"SaveTool\"},{\"id\":\"f59361f0-5aad-4d1a-9127-1764af641a60\",\"type\":\"PolySelectTool\"},{\"id\":\"941b57b9-7105-42c6-a2db-289426d72ebc\",\"type\":\"TapTool\"},{\"id\":\"bff4e040-390b-4d7d-bf51-bd886534bcdc\",\"type\":\"WheelZoomTool\"},{\"id\":\"f7f15d22-e062-4737-842b-126ea7800dcd\",\"type\":\"UndoTool\"}]},\"id\":\"af1d1f54-f684-4615-af59-08993d70b451\",\"type\":\"Toolbar\"},{\"attributes\":{\"dimension\":1,\"plot\":{\"id\":\"40a5d20c-dfe7-47d3-a27d-aa57633e50b6\",\"subtype\":\"Figure\",\"type\":\"Plot\"},\"ticker\":{\"id\":\"bd484fcf-dbf7-4954-9750-d6f68a2f619e\",\"type\":\"BasicTicker\"}},\"id\":\"59a60cca-9655-4e76-b84a-0c71ac42201f\",\"type\":\"Grid\"},{\"attributes\":{\"fill_alpha\":{\"value\":0.1},\"fill_color\":{\"value\":\"#1f77b4\"},\"line_alpha\":{\"value\":0.1},\"line_color\":{\"value\":\"#1f77b4\"},\"line_width\":{\"value\":3},\"x\":{\"field\":\"x\"},\"y\":{\"field\":\"y\"}},\"id\":\"8a775bae-3cc9-40e5-ab71-650b173d613c\",\"type\":\"Circle\"},{\"attributes\":{},\"id\":\"31ab6e6f-fb24-4c26-ae55-795ece22caac\",\"type\":\"BasicTicker\"},{\"attributes\":{},\"id\":\"bd484fcf-dbf7-4954-9750-d6f68a2f619e\",\"type\":\"BasicTicker\"},{\"attributes\":{\"bottom_units\":\"screen\",\"fill_alpha\":{\"value\":0.5},\"fill_color\":{\"value\":\"lightgrey\"},\"left_units\":\"screen\",\"level\":\"overlay\",\"line_alpha\":{\"value\":1.0},\"line_color\":{\"value\":\"black\"},\"line_dash\":[4,4],\"line_width\":{\"value\":2},\"plot\":null,\"render_mode\":\"css\",\"right_units\":\"screen\",\"top_units\":\"screen\"},\"id\":\"a7fb4109-b58c-4993-b28b-97ced8cba70b\",\"type\":\"BoxAnnotation\"},{\"attributes\":{\"plot\":{\"id\":\"40a5d20c-dfe7-47d3-a27d-aa57633e50b6\",\"subtype\":\"Figure\",\"type\":\"Plot\"}},\"id\":\"4708ba8f-0f3f-4de2-8306-de90faaecd4c\",\"type\":\"CrosshairTool\"},{\"attributes\":{},\"id\":\"aab5b903-a5d4-4f7c-8a8c-0c9cbeced659\",\"type\":\"BasicTickFormatter\"},{\"attributes\":{},\"id\":\"5233b112-7f87-4144-9700-db298aa65e80\",\"type\":\"ToolEvents\"},{\"attributes\":{\"plot\":{\"id\":\"40a5d20c-dfe7-47d3-a27d-aa57633e50b6\",\"subtype\":\"Figure\",\"type\":\"Plot\"}},\"id\":\"ea025763-4239-413a-adbe-af122c9c6d92\",\"type\":\"SaveTool\"},{\"attributes\":{\"overlay\":{\"id\":\"ba43b41e-9b28-442b-b7ea-9fd813998e6e\",\"type\":\"PolyAnnotation\"},\"plot\":{\"id\":\"40a5d20c-dfe7-47d3-a27d-aa57633e50b6\",\"subtype\":\"Figure\",\"type\":\"Plot\"}},\"id\":\"f59361f0-5aad-4d1a-9127-1764af641a60\",\"type\":\"PolySelectTool\"},{\"attributes\":{\"plot\":{\"id\":\"40a5d20c-dfe7-47d3-a27d-aa57633e50b6\",\"subtype\":\"Figure\",\"type\":\"Plot\"}},\"id\":\"90e33933-1dc4-4ba2-ace3-370c36ab6e9b\",\"type\":\"ResizeTool\"},{\"attributes\":{\"plot\":{\"id\":\"40a5d20c-dfe7-47d3-a27d-aa57633e50b6\",\"subtype\":\"Figure\",\"type\":\"Plot\"}},\"id\":\"bff4e040-390b-4d7d-bf51-bd886534bcdc\",\"type\":\"WheelZoomTool\"},{\"attributes\":{\"callback\":null,\"column_names\":[\"x\",\"y\"],\"data\":{\"x\":[47.87560466266667,33.434759668,40.03703409914285,20.918118437230767,56.039558649576435,21.418306756923077,12.646653803481366,31.87840804681482,48.656838427,23.660058416000002,25.636924003199994,24.399176687999997,24.975327905454545,40.03703409914285,62.85975674533334,21.571405786666663,33.434759668,39.49088702666666,31.87840804681482,36.874973296242416,25.636924003199994,50.867241026666676,27.51848102466667,42.42345828,35.389325631182324,42.82634208933333,45.87926520888888,24.609053182399997,45.897484499529405,12.646653803481366,47.15794222714286,31.87840804681482,31.87840804681482,65.99664272,54.3479457,45.897484499529405,33.116911232,42.536532344,21.418306756923077,20.918118437230767,50.858507663999994,25.636924003199994,48.656838427,12.646653803481366,12.646653803481366,62.85975674533334,45.897484499529405,42.02501372842105,40.03703409914285,16.324127795454544,25.636924003199994,12.646653803481366,23.04228792,26.841399176243108,50.867241026666676,73.89165364296295,33.116911232,40.55164585266667,38.505215420285715,66.42411784,25.636924003199994,31.87840804681482,13.420963738181815,42.02501372842105,55.45455468,24.031577115368417,31.103936801714287,45.897484499529405,47.15794222714286,40.03703409914285,36.874973296242416,24.031577115368417,57.30786616800001,34.324183708,12.646653803481366,42.02501372842105,47.87560466266667,32.5348555928,24.031577115368417,34.828880139999995,40.55164585266667,45.897484499529405,62.85975674533334,46.69462420479999,19.41564416,56.24055732,32.782121385714284,44.810682745499996,65.88908446399999,33.46261778145489,37.77565131559116,49.413021230000005,42.075814631142855,37.303190889658545,30.145131776799996,38.701666832,24.720263571878792,10.863383855999999,76.80073164,34.4720073624,12.60803431277694,25.081322469473687,38.36369431525,23.141802289333338,44.810682745499996,34.4720073624,68.29949256,16.548014979428572,24.399176687999997,64.97621824,34.4720073624,48.02545078,24.720263571878792,30.145131776799996,22.127766953600002,15.636936468200002,49.413021230000005,30.145131776799996,15.517593097428572,22.292138032,24.720263571878792,30.145131776799996,44.810682745499996,33.756843456243104,40.461536177894736,53.31877017846155,10.863383855999999,37.77565131559116,46.69462420479999,25.081322469473687,25.124997923513785,30.275580636,73.88769554,12.60803431277694,68.75060685418796,60.90572430499999,39.48284313999999,40.99854121333333,15.636936468200002,15.517593097428572,49.413021230000005,30.145131776799996,22.127766953600002,37.303190889658545,64.97621824,50.211503385600004,37.303190889658545,38.701666832,33.46261778145489,58.54110890666667,15.636936468200002,21.53923024,53.31877017846155,30.145131776799996,57.68583034509023,60.90572430499999,40.461536177894736,73.88769554,49.413021230000005,60.90572430499999,16.548014979428572,34.23937816,15.636936468200002,31.158428135692308,26.560289961714286,39.48284313999999,38.020354227839995,35.83512111371429,23.857334736500004,5.76229567,28.6822016,13.333874860571427,20.338852524,29.57162564,37.90139203879999,42.32407234247058,27.993677733523803,29.021396212960003,54.96980001538461,20.338852524,13.250956680769901,29.021396212960003,29.57162564,42.65698080347826,32.0532073582188,26.251995693142863,56.43878167,37.90139203879999,32.688970715699995,42.524412081684204,42.524412081684204,38.020354227839995,38.020354227839995,42.65698080347826,35.59936956999999,13.250956680769901,42.524412081684204,41.08257520485714,42.65698080347826,54.79085194903133,56.43878167,42.524412081684204,54.79085194903133,16.713760084999997,26.251995693142863,32.0532073582188,42.32407234247058,23.857334736500004,22.57018489890909,43.794395121499996,27.993677733523803,23.519525220869568,32.0532073582188,13.250956680769901,37.623671105999996,30.56447108,73.15646793777776,23.857334736500004,60.32225524,33.2150753775,32.0532073582188,29.021396212960003,46.40058567333333,27.993677733523803,73.15646793777776,41.08257520485714,13.333874860571427,35.3011712,13.250956680769901,42.32407234247058,42.32407234247058,13.250956680769901,29.469066084999998,29.021396212960003,33.2150753775,41.08257520485714,27.993677733523803,56.43878167,65.738778696,48.887065954666674,37.90139203879999,32.688970715699995,13.250956680769901,16.02342224,38.020354227839995,38.020354227839995,55.551081319999994,41.08257520485714,20.338852524,75.13535981833333,32.503216755882356,36.54448028826666,25.80713368972727,57.21892376400001,41.42807266526315,37.47539810344826,25.80713368972727,48.62506507466667,13.578749459843257,41.42807266526315,56.66573418666667,47.12185417777778,66.78067543054136,3.4779467693333337,72.99482412,13.578749459843257,13.578749459843257,47.12185417777778,35.781703139809515,37.76949528,13.578749459843257,21.963257979999998,14.49106183,13.578749459843257,10.765970746857144,23.88689602,14.83871443309091,17.35066354,50.06859799333333,35.781703139809515,24.4419242,21.963257979999998,19.400935338666667,21.804793412666665,49.9638436064,31.876740901142856,22.895875663529413,14.83871443309091,40.11435719093333,13.578749459843257,18.961193291500003,25.80713368972727,24.8152065064,22.895875663529413,23.612024921333333,37.997022359999995,54.96330303,36.54448028826666,75.13535981833333,37.47539810344826,54.96330303,38.45897128,49.455719493714284,40.86524252,24.703678838817666,25.80713368972727,49.455719493714284,3.4779467693333337,13.578749459843257,41.42807266526315,24.703678838817666,32.503216755882356,37.47539810344826,22.895875663529413,31.206373235999997,50.06859799333333,13.578749459843257,22.895875663529413,22.895875663529413,67.78238556,18.961193291500003,75.13535981833333,13.578749459843257,25.80713368972727,31.206373235999997,75.13535981833333,65.598815068,22.895875663529413,32.503216755882356,31.206373235999997,37.47539810344826,25.80713368972727,50.806859643636365,39.07859474275,50.107730979636365,40.79801861,34.62843961714286,13.247502601636047,50.107730979636365,40.853686554662985,28.80113621,18.521393787999997,40.853686554662985,49.31286961769697,18.260377873714283,13.247502601636047,36.37232141428571,60.949678399999996,50.806859643636365,33.16143168228571,28.80113621,36.37232141428571,50.107730979636365,25.530737245405412,31.35703753152,38.52246575163636,13.247502601636047,13.247502601636047,55.50971276,34.51091679133334,40.39786397649999,13.247502601636047,10.224009778666666,41.038645734,24.990004583384614,40.39786397649999,62.104790517739104,40.853686554662985,49.31286961769697,32.8001659576,33.58888053653333,41.80120619,45.41233674,33.134765031578944,49.31286961769697,18.645938225454547,33.58888053653333,24.943468742108273,25.530737245405412,49.31286961769697,33.58888053653333,46.11904963999999,49.37427650922221,13.217642750249999,55.50971276,46.25464658666667,50.806859643636365,13.247502601636047,31.563177066,31.35703753152,62.104790517739104,18.645938225454547,24.990004583384614,33.16143168228571,62.104790517739104,33.16143168228571,40.514923047454886,40.853686554662985,39.07859474275,29.572765927230776,13.247502601636047,39.07859474275,44.348245446666674,64.58091866666668,29.572765927230776,25.891892228000003,64.58091866666668,9.636461314,33.16143168228571,13.247502601636047,40.853686554662985,40.39786397649999,55.50971276,13.247502601636047,45.04576533333333,45.73056620221053,29.690146564400003,23.022951252181823,25.00138472472932,38.1214038304,49.99168311511111,8.536402356,42.08906242,39.288679037555546,6.675161894,22.208079416333334,62.34931468,45.73056620221053,40.826310108533335,39.288679037555546,14.966225706666668,35.36322404,33.42404159936981,35.65534413473683,13.394010535233617,45.13118041808696,12.452367482499998,13.394010535233617,10.26974502,13.394010535233617,9.931097391333333,13.394010535233617,33.42404159936981,45.73056620221053,39.288679037555546,33.42404159936981,44.610476152,54.23454504210526,25.00138472472932,33.42404159936981,44.610476152,13.394010535233617,27.557352845818176,65.93757760933333,38.125264896,49.99168311511111,29.690146564400003,25.00138472472932,29.690146564400003,33.42404159936981,13.394010535233617,33.42404159936981,19.41564416,33.42404159936981,57.18927629599999,13.394010535233617,29.690146564400003,49.55237493692307,33.42404159936981,45.73056620221053,12.452367482499998,45.13118041808696,74.25152672153845,50.012037978799995,38.1214038304,23.022951252181823,38.1214038304,24.28334472,33.42404159936981,35.65534413473683,38.1214038304,14.966225706666668,65.88908446399999,46.440345456,38.125264896,22.208079416333334,45.13118041808696,13.394010535233617,25.00138472472932,15.35118314,46.023901952,45.04576533333333,35.043651914,74.25152672153845,38.1214038304,46.440345456,44.44969691523809,35.18281115333333,37.72196322242425,28.946270907999995,24.566552210303033,14.67894404,24.566552210303033,14.49332177911111,69.84529775200001,45.41233674,24.566552210303033,23.886206543999997,52.890499509230764,37.72196322242425,52.890499509230764,69.84529775200001,65.86137409490978,65.86137409490978,37.27520665254511,35.21840854385185,37.38791956228572,65.45425493333333,13.41274599022976,33.756843456243104,56.196233862857135,35.06674936,32.0018906448,38.38923281047059,53.54815354,65.45425493333333,52.890499509230764,38.38923281047059,38.38923281047059,24.566552210303033,32.0018906448,45.0581529188,13.41274599022976,75.92753056470588,43.42461798941176,31.227103481066667,14.67894404,37.72196322242425,17.829849359999997,44.44969691523809,24.566552210303033,46.3279308907826,12.725122272888889,45.0581529188,35.18281115333333,39.967446271428564,35.21840854385185,46.3279308907826,20.94972826,13.41274599022976,27.36530244,38.38923281047059,69.84529775200001,38.38923281047059,43.42461798941176,35.18281115333333,39.967446271428564,13.41274599022976,37.72196322242425,13.41274599022976,28.946270907999995,31.227103481066667,38.38923281047059,24.566552210303033,43.42461798941176,45.0581529188,28.946270907999995,31.227103481066667,13.41274599022976,8.099044746666666,31.227103481066667,17.829849359999997,37.72196322242425,69.84529775200001,38.10504026666667,29.80127655213675,32.0018906448,23.886206543999997,26.477863255151515,16.77730981368421,57.21271848,46.77317673584615,16.77730981368421,26.477863255151515,7.820209160999999,12.370455271408831,16.77730981368421,27.006774919999998,50.0619043305,73.8930734528,37.64345906720001,38.137713768222234,73.8930734528,16.09236984,46.40058567333333,56.608737504,26.477863255151515,39.22352355555555,49.41934142666667,19.904766545882357,15.91011835066667,43.1194153544,22.338064794444442,59.76377968,38.137713768222234,23.087202357162408,37.64345906720001,37.64345906720001,43.48496926163637,57.3644032,38.137713768222234,38.137713768222234,37.64345906720001,19.904766545882357,32.84207720193549,37.64345906720001,60.23147423333333,49.41934142666667,50.0619043305,46.40058567333333,66.26553836,73.8930734528,37.005161885878444,12.370455271408831,30.860924347573388,49.41934142666667,16.77730981368421,66.26553836,33.756843456243104,28.107638266666665,12.320246644000001,43.1194153544,52.09585555862069,19.98790924,39.22352355555555,49.41934142666667,12.370455271408831,43.48496926163637,22.338064794444442,46.630468463,52.09585555862069,37.64345906720001,12.370455271408831,37.64345906720001,35.101223159999996,22.338064794444442,38.137713768222234,19.904766545882357,22.455084193333334,37.64345906720001,28.658759416,57.21271848,28.916177308470587,12.370455271408831,43.48496926163637,57.21271848,29.708658994999997,22.455084193333334,19.904766545882357,50.0619043305,73.82988562923076,47.09982925,34.939885776,46.27303261333333,14.1681802192,33.01928653762963,33.01928653762963,44.91834533010526,34.939885776,12.273023694158836,33.01928653762963,70.49867476571244,47.09982925,44.91834533010526,21.86335653642106,12.273023694158836,19.53862160654545,19.53862160654545,56.898514417142856,21.86335653642106,19.53862160654545,64.53322990999999,39.30396242222221,6.582733805777779,49.26995496,33.953666966444445,51.716905284,19.53862160654545,39.479280847333335,17.982453381333332,33.01928653762963,36.436398906141186,34.0482948117569,73.82988562923076,34.286580747692305,56.11698200615385,19.53862160654545,31.269813592790786,60.280886679999995,70.49867476571244,49.45611348,46.27303261333333,19.53862160654545,26.006739230285714,34.286580747692305,23.886551282,46.27303261333333,43.33011922,14.440155518666668,28.170955145999994,64.53322990999999,12.8944422568,36.436398906141186,33.01928653762963,38.45030358171429,46.27303261333333,28.170955145999994,47.09982925,39.30396242222221,46.27303261333333,39.479280847333335,56.898514417142856,65.95286099399999,71.69860924,42.36133649240001,55.69587128,28.170955145999994,44.91834533010526,19.010921748,22.25456159,46.27303261333333,24.490778500216543,28.170955145999994,12.273023694158836,43.26120034816666,12.273023694158836,23.886551282,26.006739230285714,42.36133649240001,34.939885776,34.0482948117569,23.886551282,24.478236602666666,75.87480592941176,26.06579006608696,36.35706538977777,12.652374987311147,38.460005494,33.81535042,47.48056195294117,26.06579006608696,24.478236602666666,33.81535042,37.32995433,12.652374987311147,68.80950781256995,37.59712628,48.777554183333336,60.267786636,25.510612,16.1140193864,26.06579006608696,49.242031182,26.06579006608696,44.51946532,75.87480592941176,34.8580966855,34.8580966855,65.436788208,26.06579006608696,48.777554183333336,37.59712628,27.727343003395987,75.87480592941176,12.652374987311147,3.557006684,12.652374987311147,12.652374987311147,34.8580966855,3.557006684,25.115312426666666,65.436788208,48.777554183333336,17.5126904,26.06579006608696,57.338892588,27.727343003395987,49.83279720133333,65.95182678,75.87480592941176,10.879931279999997,56.59563746,32.1886199867907,48.777554183333336,21.260854305000002,46.7226593596923,37.53239665082353,60.267786636,35.29772382,49.40785016,46.7226593596923,34.8580966855,34.50980596888889,56.81672943066666,49.83279720133333,3.557006684,33.81535042,33.0791279472,75.87480592941176,29.62333634,12.652374987311147,56.33708396,8.135989169,22.44416749,57.338892588,21.260854305000002,53.334415979999996,34.50980596888889,16.1140193864,37.53239665082353,16.1140193864,15.17372262492308,32.1886199867907,49.242031182],\"y\":[3.983562502666672,-4.776000252000003,6.617442903142852,7.797390157230767,8.817347409576435,-0.9000313630769234,0.1740329634813662,2.9404108508148177,1.6269909909999924,-2.662756311999999,-4.802751920800002,11.761081607999998,4.201416025454545,-3.7612393248571436,-3.2403073746666564,6.209880506666664,-7.430482851999997,-6.448898853333333,-1.87833691318518,-6.70680466375758,2.1126923591999933,8.16799234666668,13.37457036066667,-5.977756919999997,0.8196884671823241,6.966695329333334,-13.215722751111116,0.11197090239999596,8.175563063529403,-2.8734509565186332,14.756707083142864,-1.1750713931851777,-17.370862633185176,-5.701966519999999,-0.5481334199999992,-4.5618165604705965,-18.746852439999998,13.854330744000002,-5.354046323076922,3.6819079132307664,14.019804983999997,-14.594000596800008,0.9423413230000008,1.284089323481366,2.656146563481366,21.93452981333335,5.334232467529411,10.30911772842105,0.6196911791428548,-1.8021962445454562,7.352020483199993,2.7802522434813657,-18.25732448,-7.715137943756893,-3.091150733333322,-8.707571157037052,-21.482003731999995,-4.060209251333326,-0.7845744397142838,2.895799199999999,-13.525312796800009,-7.4430977091851815,-6.995110097818184,-2.3703459115789443,-0.88252928,-14.468762724631578,-1.1414767662857166,3.6684584515294034,0.9106500511428592,6.349236739142853,-7.33422782375758,-9.697588804631582,-7.592509711999988,1.1321195919999951,0.19471724348136554,-2.1152397915789507,-10.040379337333327,-22.9748571672,-13.234600684631584,-7.387735340000006,-0.6514399073333337,6.118166679529409,-2.040619134666656,7.032517304799995,-4.095487439999999,1.4754786400000057,3.708986893714286,-4.962589694500004,0.6922339039999912,-3.125805110545109,-14.231523364408837,12.146843430000004,-1.5025159488571447,-3.375893110341451,3.1797254167999967,2.4497082280000058,-1.006154416121209,-1.3175886360000018,3.805907519999991,5.8449638423999986,1.2158223647769404,4.996886589473686,-9.920309964749997,-0.8588572706666611,-0.49409573850000044,-1.291112757599997,-5.8950198,1.8483866594285736,-1.209931881458644,2.985431079999998,-3.602236309599995,-6.070836180000001,-16.136705236121205,-9.699686263200004,-0.30778208639999605,-10.257024187799995,6.493140230000009,-0.5020764232000019,-10.68249490257143,-0.8466765279999997,-2.134826628121207,3.9974439527999976,-7.6356881465000015,-4.164336543756896,-1.3751780261052602,4.3315003784615485,2.3269814999999987,2.021395885049799,-1.892749515200002,3.4800393894736885,-3.6744145964862156,-2.5476138200000022,-5.408939220000008,0.9531320087769402,1.9699314236465995,-0.1887440550000079,-9.187267700000007,0.8020904133333318,-10.621067515799997,2.059021577428572,1.6737029900000095,6.448531132799996,-5.699484406399996,5.952717169658545,4.653962999999997,1.5158819336000064,-1.790098310341456,5.584755600000001,-3.865612858545113,7.84393862666667,2.071496168200003,-12.14856712,-0.14319886153845118,13.641144764799996,-4.170016509097728,0.6110481049999947,-2.551424082105264,-3.4094588199999976,-7.43427496999999,5.409801064999996,1.4988223274285737,16.402634040000002,-4.1282720237999975,6.619977295692308,4.614268881714288,5.919151459999995,-5.037421972160004,8.154038665714285,-7.169085263499994,3.4304878380000003,-13.610256239999998,-2.006966139428572,0.6474179640000024,-4.12996124,-9.880673713200004,-13.81788990952942,3.103594133523803,-0.8494620110399929,-3.635659984615394,-4.565020596,-0.1445770345007773,5.234474212960002,-4.157540279999999,-9.384667676521737,0.702733638218799,-11.703658106857137,-1.160043370000004,8.453872078799993,8.798627315699996,-25.1752363583158,7.788611201684205,-1.035703268160006,12.923427827839994,-2.7105399965217387,7.503222569999995,-9.970594999230096,2.376224601684207,-1.0575084391428504,5.3149606434782655,10.657493189031328,-3.8421050099999974,-7.248860358315795,-4.799573766239348,-1.2457107630000053,2.1479147331428656,5.108485278218801,10.357207078470584,-4.380154843499994,6.46057815890909,-10.481155598500003,9.247514769523804,-1.3981374191304319,-8.805140401781202,1.7849708007699014,-0.784278950000008,5.364123280000001,-6.243588222222229,0.33930837650000356,-6.101862599999997,-6.236741342499997,2.2678441582188,6.6734106249600025,-9.49523364666667,-2.129528706476197,5.587819937777766,-12.441446675142856,0.04077758057142766,11.203985,-1.7382515592300987,2.7412551824705815,-6.522544353529419,1.2933744127699018,-9.906908275000003,9.033486972960002,-6.240878198499999,1.661095428857145,3.5103849735238057,-2.759627690000002,-0.9611295440000021,-1.0861545253333205,-2.8121657612000064,-7.010367888300003,-7.026532479230097,-1.5513210000000015,4.937916795839996,-3.0310468121600067,-0.5929493600000058,-2.294428383142858,5.253117644,-2.1617945416666657,-0.33652512411764235,-0.8933770357333373,2.0629592017272707,0.8197869640000093,-1.9606520147368443,-7.222641500551731,-6.91332884227273,-5.278168605333327,5.829039219843257,-6.387087934736847,-3.2290459333333317,9.104147537777777,-1.9699314236465995,-3.4057816146666657,-3.805907519999991,1.7266570198432571,5.091299899843257,-2.079153182222221,3.0136667638095105,4.557436360000004,-4.416574140156742,-1.837453540000002,7.588717593999999,-4.547574580156743,0.23008799085714493,-1.62371598,1.3773850090909097,-8.13236942,-5.579009966666668,2.8178555798095175,5.02628004,-0.9825033000000012,-0.29049922133333084,3.770859156666667,-2.9444762055999973,8.631550046954896,-2.7940000964705867,-3.11524060690909,-3.5839422130666634,-1.9965133801567418,-6.4611657804999965,-3.3508063502727303,2.379657466400001,0.36379998352941456,2.4327011533333334,4.598804919999999,5.989822750000002,14.055152120266662,7.828712698333334,-2.1349980965517332,9.878467389999997,-0.0020684280000011768,2.5237776497142903,0.26889564000000377,-5.743581321182333,1.516204733727271,-0.5381852662857156,-4.585475050666666,-2.6997789001567423,1.0385685852631497,1.064501693005628,11.436967051882355,-5.775431376551737,1.9771738235294123,-2.5924297600000017,6.038660633333329,3.7290923140312167,-2.7250524964705853,-1.5529432964705876,-8.452975760000001,3.212871975500004,16.61263693833333,5.7394073398432575,8.531623033727271,3.9858607559999975,3.8366466583333363,-2.5007294520000016,-1.759786096470588,5.589521095882358,-2.193223156000002,8.083036223448264,-4.085098290272729,4.005228763636367,7.8246476627499995,-5.4433503403636365,11.79865805,-4.671692382857138,2.911567885636048,-29.878379780363638,-6.423682765337013,3.780052170000001,-5.872267092000001,-2.8797761253370098,-0.4879818623030303,9.248926553714284,1.8332274216360478,2.829314014285707,5.1228066799999965,3.908702123636367,1.4179566422857093,-6.562087829999999,1.0297816542857063,-15.888911740363632,-4.702785354594589,-3.9572337124799972,1.587236431636363,0.5128808816360468,2.077991401636048,16.905951520000002,-10.098180408666664,-0.7535110835000083,0.4591017536360482,-1.9521363813333341,7.995508434000001,3.1308574793846127,-0.6549160155000067,-9.193922642260887,-6.858052645337011,3.083503817696972,6.0553919176000015,-7.952048463466667,14.884063150000003,-10.531745899999997,15.311810431578945,-11.922941322303032,3.3050972254545474,2.1694592165333333,3.031921462108272,8.652364765405412,-3.107990662303031,-3.5821495754666657,6.474179639999996,-1.2808357347777815,-0.30298160975000066,19.553539360000002,-0.8779327733333346,-5.2889077163636316,-6.102641338363952,-0.5050411699999984,13.158318511520001,1.8101143177391066,5.311472385454547,-2.9337734166153844,-0.4436285577142911,-9.193922642260887,-3.286338105714293,7.026088762725571,2.3947152746629854,0.37830686275000147,-4.225347592769225,-6.168141558363953,-0.40769577724999806,-14.953585313333328,-15.618929653333325,-2.4789048847692214,4.032745124000002,7.837043866666676,-0.8987319659999997,7.195765522285711,8.343949289636047,-1.0871385253370107,-1.5367558195000086,-12.35540992,0.15849021763604654,-5.975458666666668,-7.2280853577894675,0.7045755244000027,5.058654072181824,-4.547586705812041,-3.123050489599997,-8.79304064488889,-3.9231184399999997,7.415314379999998,-2.395660970444453,-10.214242202,-3.0088158076666645,-4.247172159999998,-5.600921997789463,7.807304468533339,9.165472597555546,1.6724389506666686,0.5929493599999986,-4.690191680630193,-0.19740786526316612,-2.8707283047663825,6.9273152580869635,-9.367479489499999,-1.1056697447663826,0.5343439000000014,2.6312901752336177,-7.2347865806666665,-1.147038304766383,-3.214713040630194,-4.3460756777894645,2.3244917255555464,-10.872033496630195,8.261301431999996,-1.8267485178947354,5.8960047647293194,9.142075831369809,8.260611955999998,-1.6759648953077413,2.096383117818174,27.237289729333334,-5.2517386920000035,-17.121910724888885,2.455844564400003,5.802236028729322,0.2771004044000023,3.76967883936981,-0.23003522476638238,-6.724145880630189,-10.1352972,0.7635634793698074,0.4936648159999919,1.910098279233619,-5.535182275599993,7.225443296923075,0.420204431369811,-5.525079637789467,-9.464695605500001,6.915594166086969,-3.0456276384615393,-2.4143381092000027,0.8896998303999979,-3.204715787818177,-0.875358729600002,-0.7032655199999986,10.588596479369809,23.41025037473683,-1.4834765615999999,-0.5538790533333309,0.6922339039999912,-9.455473863999998,-1.232783087999998,4.631957224333334,4.196300822086961,1.3419700552336185,0.5966922287293208,-8.173737979999999,6.723769952000005,-10.408789346666673,-2.3880001259999943,4.414502681538451,6.770930110399998,0.23855869600000545,-1.938248364761904,-0.11836004666666611,9.09491970242425,-2.928204572000002,3.9725935663030327,2.130480839999999,-9.097802965696967,-0.5979289088888908,0.1875374720000167,-14.351442939999998,-11.877080721696966,0.954234783999997,10.86004254923077,5.095269426424245,-13.933514410769234,-2.142891407999997,-8.503537363210626,-6.2371312250902236,0.28481925254511253,13.679178303851852,-0.04373247771427913,1.1537231733333329,6.097405630229761,-4.8469177837568935,33.29873590285713,3.0553636447293258,4.3263240048,-1.6727701695294073,-2.9475099,-5.24461410666666,6.247448109230767,6.41823069047059,5.666701850470588,0.7796302103030328,-0.9550621551999967,-10.0999270812,3.0292374302297613,1.429648764705874,-10.299351930588244,0.34547344106666955,1.1376353999999989,-5.852919977575752,-3.6749070800000005,-8.3772647287619,-8.493821989696965,-4.445081749217394,-6.813938091111112,2.9270324627999997,-0.11836004666666611,-1.5755511565714357,-12.183066456148147,-5.404832341217393,0.9618190200000001,-1.6316203297702394,-2.2270074799999975,-3.7377507895294073,17.541648392000006,-0.993636309529407,4.276170709411758,-1.118100246666664,-4.358965768571437,-9.992206305770237,15.091981950424252,-2.203195933770239,5.111085587999995,-3.998225358933329,7.211128090470588,-3.308272993696967,4.862225309411755,-9.2573874092,-13.690924932000001,-2.074587318933329,0.8711775502297616,3.3168392106666653,2.158795321066666,-16.409528800000004,4.8374054024242525,19.94791963200001,6.5684080266666705,-3.9003103278632523,-0.7620088751999958,-14.028078696000001,0.9182984591515151,-0.6595382263157923,-0.005515807999991296,-3.75369297215385,2.47068281368421,7.468320459151517,-2.2695826230000016,-0.8123258485911684,3.2566854536842094,-3.268805716000003,-2.4547931134999956,-7.8580958672000065,9.174995027200012,-2.720633991777767,2.5943602928000047,-1.2755305999999997,-9.49523364666667,-5.892261896000001,0.24468040715151318,5.0186191955555515,8.009412866666672,10.287265821882356,-1.3129921293333293,-1.2690495256000034,2.5728563024444426,9.252767920000004,-0.9142068717777647,-2.0294233581082715,2.073392227200017,-6.634689652799985,-7.115674378363629,-10.935089360000006,6.958919572222232,-23.915126231777762,-1.5877253327999838,4.874189745882358,15.245270729935491,1.0805467872000136,0.4332207533333303,-7.393480973333332,-3.238727325500001,8.403563313333336,1.9650065999999953,-3.4040809071999973,-1.605494114121555,1.5829137754088318,-3.6266651724266126,-4.235680893333331,3.5531601336842087,2.868220159999993,-3.178385863756894,2.734921466666666,0.14410048400000086,5.949764194399997,1.040157758620694,-1.9236380400000002,-5.07530944444445,-4.352891813333329,-8.920563608591168,-1.8136039383636273,3.922160834444444,4.009820046999998,-8.853822841379305,6.527407187200012,-3.0669123685911686,13.401482907200013,-7.694552160000001,0.3713594344444431,-0.49293703577776427,-6.157426254117642,-1.973050486666665,9.871365787200013,-3.241226676,0.5936388360000038,-4.35793445152941,0.7941532314088313,13.265236181636375,0.5998441200000002,-3.5978581369999993,-7.475068966666665,-4.095893014117642,3.827712198500002,-5.466749130769244,5.380325966000001,1.5416683360000007,-4.761980906666672,-0.8210280208,4.997602945629634,0.6208092976296342,-8.185785665894741,-0.36128542400000185,-2.5231312658411635,2.9395170856296353,33.23318644171244,-3.848999769999999,1.2200459261052643,0.21381013642105984,-10.803738025841165,-4.52684869745455,9.506745806545451,-1.8999988628571387,-3.31630698357894,-4.899165737454549,4.238553709999991,-1.3544372977777854,-0.9242808822222202,-6.3293896799999985,-2.3472444335555522,-22.980924555999998,9.976968438545452,-4.728541320666665,4.785882741333333,5.0837874456296355,10.387995626141187,1.9384125270275803,-4.970326410769232,7.886544707692305,-0.5165766338461495,3.8475267985454504,6.1866767127907885,9.259662679999998,33.23939172571244,7.032655200000001,2.7739917733333286,-3.9849205614545475,0.44786391028571515,2.6465271076923074,11.048508162,12.309444853333332,-5.870888139999998,-1.129591513333331,-0.8201317020000083,-0.6636206500000128,0.5217954367999997,-5.449268093858812,7.274252697629635,-1.608252018285711,0.043666813333331334,4.432296465999993,3.5345987139999977,-1.7474386177777887,13.419501213333326,8.455618751333333,-3.2996351428571415,0.045850153999992926,-1.5995843200000053,-1.9168122275999906,3.495643319999999,1.3110386139999974,4.15928211410526,7.544935868000001,0.47401475000000204,5.704264773333328,-3.8053165397834547,9.883293721999994,-1.930181905841165,-1.2582649718333414,-2.570705109841164,2.623111441999999,-13.389919409714285,-10.08020806759999,-0.36128542400000185,-7.051369548243102,-0.39679343799999955,-0.7014269173333325,14.077072049411768,2.3753947060869613,5.089328789777774,3.520954843311147,1.655087137999999,2.968194180000001,4.932997992941175,7.056936746086961,-0.6255845573333332,-10.821325819999998,-1.6654292779999977,3.3444489873111465,13.258426492569946,-1.1721092000000013,2.941189703333336,-13.899146684000002,2.757904,-11.628426425599997,-3.8023102539130385,0.05688177000000394,1.727287266086961,-0.0041368560000023535,7.375365329411764,3.211148285500002,-2.569418498499992,-2.3593868720000017,-10.373016533913038,-6.242630616666659,-1.4075160047293167,-4.80558205660401,2.1767162894117718,-7.280376172688852,-4.817368811999999,2.430203811311147,-1.9445214086888516,-8.8408921945,-4.166503468,-6.235161293333334,20.568448031999992,3.410033383333335,-12.238198999999998,-0.07913985391303768,2.1394440279999998,-1.504370968604011,-1.2091110786666732,0.04274751200000537,-3.4218288305882396,1.1417722559999977,1.699558340000003,-5.1740844532093035,-2.9469353366666624,0.5352057450000025,-6.098097000307696,5.429704614823528,-11.354980244000004,-0.5681282239999916,14.306627000000006,0.4795040396923014,3.018095005500001,1.1115885288888947,-0.39598904933333756,5.890423293333328,-4.118929624,15.785553020000002,1.2039629911999974,0.37718392941177115,5.222780700000001,4.448300063311146,9.652664000000001,4.816162229,1.4220442500000026,15.970332587999998,-5.780394414999996,8.911477299999994,0.11184832888888963,-4.852945773600002,0.5626935308235304,9.8466825464,-0.2429607350769203,-7.246649309209303,-1.4903023740000023]}},\"id\":\"9758c5c1-924a-4cbf-95cb-6993579449ea\",\"type\":\"ColumnDataSource\"},{\"attributes\":{\"plot\":{\"id\":\"40a5d20c-dfe7-47d3-a27d-aa57633e50b6\",\"subtype\":\"Figure\",\"type\":\"Plot\"}},\"id\":\"f7f15d22-e062-4737-842b-126ea7800dcd\",\"type\":\"UndoTool\"},{\"attributes\":{\"callback\":null,\"overlay\":{\"id\":\"813ec9ab-65cf-4ec2-81f6-1e556eddcf68\",\"type\":\"PolyAnnotation\"},\"plot\":{\"id\":\"40a5d20c-dfe7-47d3-a27d-aa57633e50b6\",\"subtype\":\"Figure\",\"type\":\"Plot\"}},\"id\":\"2a560646-28b0-4ef2-8f87-1f913f477989\",\"type\":\"LassoSelectTool\"},{\"attributes\":{\"overlay\":{\"id\":\"a7fb4109-b58c-4993-b28b-97ced8cba70b\",\"type\":\"BoxAnnotation\"},\"plot\":{\"id\":\"40a5d20c-dfe7-47d3-a27d-aa57633e50b6\",\"subtype\":\"Figure\",\"type\":\"Plot\"}},\"id\":\"82864e57-1e01-4a5f-806e-38b2b51ab206\",\"type\":\"BoxZoomTool\"},{\"attributes\":{\"bottom_units\":\"screen\",\"fill_alpha\":{\"value\":0.5},\"fill_color\":{\"value\":\"lightgrey\"},\"left_units\":\"screen\",\"level\":\"overlay\",\"line_alpha\":{\"value\":1.0},\"line_color\":{\"value\":\"black\"},\"line_dash\":[4,4],\"line_width\":{\"value\":2},\"plot\":null,\"render_mode\":\"css\",\"right_units\":\"screen\",\"top_units\":\"screen\"},\"id\":\"0785c2e1-52c2-459a-8fc1-5cd5f84be3c0\",\"type\":\"BoxAnnotation\"},{\"attributes\":{\"fill_alpha\":{\"value\":0.5},\"fill_color\":{\"value\":\"lightgrey\"},\"level\":\"overlay\",\"line_alpha\":{\"value\":1.0},\"line_color\":{\"value\":\"black\"},\"line_dash\":[4,4],\"line_width\":{\"value\":2},\"plot\":null,\"xs_units\":\"screen\",\"ys_units\":\"screen\"},\"id\":\"813ec9ab-65cf-4ec2-81f6-1e556eddcf68\",\"type\":\"PolyAnnotation\"},{\"attributes\":{\"callback\":null,\"overlay\":{\"id\":\"0785c2e1-52c2-459a-8fc1-5cd5f84be3c0\",\"type\":\"BoxAnnotation\"},\"plot\":{\"id\":\"40a5d20c-dfe7-47d3-a27d-aa57633e50b6\",\"subtype\":\"Figure\",\"type\":\"Plot\"},\"renderers\":[{\"id\":\"ece6f0a7-486a-40a6-bff8-7f0a924a31a7\",\"type\":\"GlyphRenderer\"}]},\"id\":\"a8fa84db-2ba8-4ef9-922f-f0838741b933\",\"type\":\"BoxSelectTool\"},{\"attributes\":{\"plot\":{\"id\":\"40a5d20c-dfe7-47d3-a27d-aa57633e50b6\",\"subtype\":\"Figure\",\"type\":\"Plot\"},\"ticker\":{\"id\":\"31ab6e6f-fb24-4c26-ae55-795ece22caac\",\"type\":\"BasicTicker\"}},\"id\":\"e6d10485-9ba0-4750-a661-750f64d2f50d\",\"type\":\"Grid\"},{\"attributes\":{\"callback\":null,\"plot\":{\"id\":\"40a5d20c-dfe7-47d3-a27d-aa57633e50b6\",\"subtype\":\"Figure\",\"type\":\"Plot\"}},\"id\":\"941b57b9-7105-42c6-a2db-289426d72ebc\",\"type\":\"TapTool\"}],\"root_ids\":[\"40a5d20c-dfe7-47d3-a27d-aa57633e50b6\"]},\"title\":\"Bokeh Application\",\"version\":\"0.12.2\"}};\n",
       "            var render_items = [{\"docid\":\"7f06766f-98f3-4bfb-a0f2-9c261003755c\",\"elementid\":\"6bb7a739-6d44-404e-a9a6-adea60e7a2e2\",\"modelid\":\"40a5d20c-dfe7-47d3-a27d-aa57633e50b6\"}];\n",
       "            \n",
       "            Bokeh.embed.embed_items(docs_json, render_items);\n",
       "        });\n",
       "      },\n",
       "      function(Bokeh) {\n",
       "      }\n",
       "    ];\n",
       "  \n",
       "    function run_inline_js() {\n",
       "      \n",
       "      if ((window.Bokeh !== undefined) || (force === \"1\")) {\n",
       "        for (var i = 0; i < inline_js.length; i++) {\n",
       "          inline_js[i](window.Bokeh);\n",
       "        }if (force === \"1\") {\n",
       "          display_loaded();\n",
       "        }} else if (Date.now() < window._bokeh_timeout) {\n",
       "        setTimeout(run_inline_js, 100);\n",
       "      } else if (!window._bokeh_failed_load) {\n",
       "        console.log(\"Bokeh: BokehJS failed to load within specified timeout.\");\n",
       "        window._bokeh_failed_load = true;\n",
       "      } else if (!force) {\n",
       "        var cell = $(\"#6bb7a739-6d44-404e-a9a6-adea60e7a2e2\").parents('.cell').data().cell;\n",
       "        cell.output_area.append_execute_result(NB_LOAD_WARNING)\n",
       "      }\n",
       "  \n",
       "    }\n",
       "  \n",
       "    if (window._bokeh_is_loading === 0) {\n",
       "      console.log(\"Bokeh: BokehJS loaded, going straight to plotting\");\n",
       "      run_inline_js();\n",
       "    } else {\n",
       "      load_libs(js_urls, function() {\n",
       "        console.log(\"Bokeh: BokehJS plotting callback run at\", now());\n",
       "        run_inline_js();\n",
       "      });\n",
       "    }\n",
       "  }(this));\n",
       "</script>"
      ]
     },
     "metadata": {},
     "output_type": "display_data"
    }
   ],
   "source": [
    "# Plotining using bokeh\n",
    "#TOOLS = 'hover,box_zoom,box_select,crosshair,resize,reset,DecisionTreeRegressor_select,pan,save,poly_select,tap,wheel_zoom,undo'\n",
    "TOOLS = 'box_zoom,box_select,crosshair,resize,reset,lasso_select,pan,save,poly_select,tap,wheel_zoom,undo'\n",
    "p = figure(plot_width=500, plot_height=500, title=\"Residual plot on the training data\", tools=TOOLS)\n",
    "p.scatter(predicted, (predicted - Y),x=\"jjj\", marker=\"o\", color=\"#80B1D3\", line_width=3)\n",
    "p.title.align = \"center\"\n",
    "p.xaxis.axis_label = \"Predicted\"\n",
    "p.xaxis.axis_label_text_color = \"#aa6666\"\n",
    "#p.xaxis.axis_label_standoff = 30\n",
    "p.xaxis.major_tick_line_color = \"firebrick\"\n",
    "p.xaxis.major_tick_line_width = 3\n",
    "p.xaxis.minor_tick_line_color = \"orange\"\n",
    "p.yaxis.axis_label = \"Residuals\"\n",
    "p.yaxis.axis_label_text_font_style = \"italic\"\n",
    "p.yaxis.axis_label_text_color = \"#aa6666\"\n",
    "p.background_fill_color = \"beige\"\n",
    "p.background_fill_alpha = 0.5\n",
    "#p.line([2,38], [0, 0], line_dash=\"4 4\", line_width=2, color='red')\n",
    "show(p)"
   ]
  },
  {
   "cell_type": "markdown",
   "metadata": {},
   "source": [
    "## Pipeline"
   ]
  },
  {
   "cell_type": "markdown",
   "metadata": {},
   "source": [
    "The best to deliver the model by pipeline the operation then at deployment can be done in one model."
   ]
  },
  {
   "cell_type": "markdown",
   "metadata": {
    "collapsed": true
   },
   "source": [
    "  I used two ways to check the pipeline so any one can be fine"
   ]
  },
  {
   "cell_type": "code",
   "execution_count": 26,
   "metadata": {
    "collapsed": false
   },
   "outputs": [
    {
     "name": "stdout",
     "output_type": "stream",
     "text": [
      "0.932314696667\n",
      "Scoring according to mean_squared_error\n",
      "[-74.69642323 -37.23966114 -45.75451475 -28.16480507 -69.06994662\n",
      " -56.99164585 -64.22816866 -38.49794913 -38.30141063 -43.16724156]\n",
      "\n",
      " Mean      Standard deviation\n",
      "-49.61      14.82\n",
      "[ True  True  True  True  True  True  True  True]\n",
      "R-squared =  0.932314696667\n"
     ]
    }
   ],
   "source": [
    "# Use Pipeline\n",
    "# ANOVA \n",
    "from sklearn.pipeline import Pipeline\n",
    "from sklearn.feature_selection import SelectKBest, f_regression\n",
    "anova_filter = SelectKBest(f_regression, k=8)\n",
    "LR =  DecisionTreeRegressor(min_samples_split = 3, max_depth = 7, min_samples_leaf =1 )\n",
    "\n",
    "anova_LinReg = Pipeline([('scaler_Input',scaler), ('anova', anova_filter), ('LinReg', LR)])\n",
    "# You can set the parameters using the names issued\n",
    "# For instance, fit using a k of 10 in the SelectKBest\n",
    "anova_LinReg.set_params(anova__k=8).fit(new_data, Y)\n",
    "prediction = anova_LinReg.predict(new_data)\n",
    "print anova_LinReg.score(new_data, Y)                        \n",
    "# getting the selected features chosen by anova_filter\n",
    "results = cross_validation.cross_val_score(anova_LinReg, new_data, Y, cv=kfold, scoring=scoring)\n",
    "print 'Scoring according to mean_squared_error'\n",
    "print results\n",
    "print '\\n Mean      Standard deviation'\n",
    "print(\"%.2f      %.2f\" % (results.mean(), results.std()))\n",
    "print anova_LinReg.named_steps['anova'].get_support()\n",
    "r_squared = r2_score(Y, prediction, multioutput='variance_weighted')\n",
    "print 'R-squared = ',r_squared"
   ]
  },
  {
   "cell_type": "code",
   "execution_count": 27,
   "metadata": {
    "collapsed": false
   },
   "outputs": [
    {
     "name": "stdout",
     "output_type": "stream",
     "text": [
      "R-squared =  0.932314696667\n"
     ]
    }
   ],
   "source": [
    "# Using make_pipeline\n",
    "from sklearn.pipeline import make_pipeline\n",
    "\n",
    "# ANOVA SVM-C\n",
    "# 1) anova filter, take 3 best ranked features\n",
    "anova_filter = SelectKBest(f_regression, k=8)\n",
    "anova_DTRegressor = make_pipeline(scaler, anova_filter, LR)\n",
    "anova_DTRegressor.fit(new_data, Y)\n",
    "prediction = anova_DTRegressor.predict(new_data)\n",
    "r_squared = r2_score(Y, prediction, multioutput='variance_weighted')\n",
    "print 'R-squared = ',r_squared"
   ]
  },
  {
   "cell_type": "markdown",
   "metadata": {},
   "source": [
    "### Save the Pipeline model for developement"
   ]
  },
  {
   "cell_type": "code",
   "execution_count": 28,
   "metadata": {
    "collapsed": false
   },
   "outputs": [
    {
     "data": {
      "text/plain": [
       "['anova_DTRegressor.pkl',\n",
       " 'anova_DTRegressor.pkl_01.npy',\n",
       " 'anova_DTRegressor.pkl_02.npy',\n",
       " 'anova_DTRegressor.pkl_03.npy',\n",
       " 'anova_DTRegressor.pkl_04.npy',\n",
       " 'anova_DTRegressor.pkl_05.npy',\n",
       " 'anova_DTRegressor.pkl_06.npy',\n",
       " 'anova_DTRegressor.pkl_07.npy',\n",
       " 'anova_DTRegressor.pkl_08.npy']"
      ]
     },
     "execution_count": 28,
     "metadata": {},
     "output_type": "execute_result"
    }
   ],
   "source": [
    "# save the model scaler to the desk\n",
    "from sklearn.externals import joblib\n",
    "joblib.dump(anova_DTRegressor, 'anova_DTRegressor.pkl') "
   ]
  },
  {
   "cell_type": "code",
   "execution_count": 29,
   "metadata": {
    "collapsed": false
   },
   "outputs": [
    {
     "name": "stdout",
     "output_type": "stream",
     "text": [
      " =================================================================>>>>> done\n",
      "R-squared =  0.932314696667\n"
     ]
    }
   ],
   "source": [
    "# Test the model if it is work\n",
    "anova_DecisionTreeRegressorTest = joblib.load('anova_DTRegressor.pkl')\n",
    "NewPred = anova_DecisionTreeRegressorTest.predict(new_data)\n",
    "print \" =================================================================>>>>> done\"\n",
    "r_squared = r2_score(Y, NewPred, multioutput='variance_weighted')\n",
    "print 'R-squared = ',r_squared"
   ]
  },
  {
   "cell_type": "code",
   "execution_count": 30,
   "metadata": {
    "collapsed": false
   },
   "outputs": [
    {
     "name": "stdout",
     "output_type": "stream",
     "text": [
      "Point of training data before normalization\n",
      "[ 389.9  189.     0.   145.9   22.   944.7  755.8   91. ]\n",
      "\n",
      "The read target of the data =  82.5992248\n",
      "\n",
      "The Predicted target of the data =  [ 74.20263833]\n"
     ]
    }
   ],
   "source": [
    "# test on single data point, randomly choose point number 55\n",
    "print 'Point of training data before normalization\\n',new_data[55]\n",
    "print '\\nThe read target of the data = ', Y[55]\n",
    "NewPred = anova_DecisionTreeRegressorTest.predict([new_data[55]])\n",
    "print '\\nThe Predicted target of the data = ', NewPred"
   ]
  },
  {
   "cell_type": "markdown",
   "metadata": {},
   "source": [
    "## Conclusion "
   ]
  }
 ],
 "metadata": {
  "kernelspec": {
   "display_name": "Python 2",
   "language": "python",
   "name": "python2"
  },
  "language_info": {
   "codemirror_mode": {
    "name": "ipython",
    "version": 2
   },
   "file_extension": ".py",
   "mimetype": "text/x-python",
   "name": "python",
   "nbconvert_exporter": "python",
   "pygments_lexer": "ipython2",
   "version": "2.7.12"
  }
 },
 "nbformat": 4,
 "nbformat_minor": 0
}
