{
 "cells": [
  {
   "cell_type": "markdown",
   "metadata": {},
   "source": [
    "Salem Ameen, PhD student at Salford University\n",
    "\n",
    "### Concrete Compressive Strength Data Set\n",
    "\n",
    "Support Vector Machines Regression"
   ]
  },
  {
   "cell_type": "markdown",
   "metadata": {},
   "source": [
    "# Import the Libraries"
   ]
  },
  {
   "cell_type": "code",
   "execution_count": 1,
   "metadata": {
    "collapsed": false
   },
   "outputs": [
    {
     "data": {
      "text/html": [
       "\n",
       "    <div class=\"bk-root\">\n",
       "        <a href=\"http://bokeh.pydata.org\" target=\"_blank\" class=\"bk-logo bk-logo-small bk-logo-notebook\"></a>\n",
       "        <span id=\"91d0deac-a249-445e-b5ae-4201cbcc3f71\">Loading BokehJS ...</span>\n",
       "    </div>"
      ]
     },
     "metadata": {},
     "output_type": "display_data"
    },
    {
     "data": {
      "application/javascript": [
       "\n",
       "(function(global) {\n",
       "  function now() {\n",
       "    return new Date();\n",
       "  }\n",
       "\n",
       "  var force = \"1\";\n",
       "\n",
       "  if (typeof (window._bokeh_onload_callbacks) === \"undefined\" || force !== \"\") {\n",
       "    window._bokeh_onload_callbacks = [];\n",
       "    window._bokeh_is_loading = undefined;\n",
       "  }\n",
       "\n",
       "\n",
       "  \n",
       "  if (typeof (window._bokeh_timeout) === \"undefined\" || force !== \"\") {\n",
       "    window._bokeh_timeout = Date.now() + 5000;\n",
       "    window._bokeh_failed_load = false;\n",
       "  }\n",
       "\n",
       "  var NB_LOAD_WARNING = {'data': {'text/html':\n",
       "     \"<div style='background-color: #fdd'>\\n\"+\n",
       "     \"<p>\\n\"+\n",
       "     \"BokehJS does not appear to have successfully loaded. If loading BokehJS from CDN, this \\n\"+\n",
       "     \"may be due to a slow or bad network connection. Possible fixes:\\n\"+\n",
       "     \"</p>\\n\"+\n",
       "     \"<ul>\\n\"+\n",
       "     \"<li>re-rerun `output_notebook()` to attempt to load from CDN again, or</li>\\n\"+\n",
       "     \"<li>use INLINE resources instead, as so:</li>\\n\"+\n",
       "     \"</ul>\\n\"+\n",
       "     \"<code>\\n\"+\n",
       "     \"from bokeh.resources import INLINE\\n\"+\n",
       "     \"output_notebook(resources=INLINE)\\n\"+\n",
       "     \"</code>\\n\"+\n",
       "     \"</div>\"}};\n",
       "\n",
       "  function display_loaded() {\n",
       "    if (window.Bokeh !== undefined) {\n",
       "      Bokeh.$(\"#91d0deac-a249-445e-b5ae-4201cbcc3f71\").text(\"BokehJS successfully loaded.\");\n",
       "    } else if (Date.now() < window._bokeh_timeout) {\n",
       "      setTimeout(display_loaded, 100)\n",
       "    }\n",
       "  }\n",
       "\n",
       "  function run_callbacks() {\n",
       "    window._bokeh_onload_callbacks.forEach(function(callback) { callback() });\n",
       "    delete window._bokeh_onload_callbacks\n",
       "    console.info(\"Bokeh: all callbacks have finished\");\n",
       "  }\n",
       "\n",
       "  function load_libs(js_urls, callback) {\n",
       "    window._bokeh_onload_callbacks.push(callback);\n",
       "    if (window._bokeh_is_loading > 0) {\n",
       "      console.log(\"Bokeh: BokehJS is being loaded, scheduling callback at\", now());\n",
       "      return null;\n",
       "    }\n",
       "    if (js_urls == null || js_urls.length === 0) {\n",
       "      run_callbacks();\n",
       "      return null;\n",
       "    }\n",
       "    console.log(\"Bokeh: BokehJS not loaded, scheduling load and callback at\", now());\n",
       "    window._bokeh_is_loading = js_urls.length;\n",
       "    for (var i = 0; i < js_urls.length; i++) {\n",
       "      var url = js_urls[i];\n",
       "      var s = document.createElement('script');\n",
       "      s.src = url;\n",
       "      s.async = false;\n",
       "      s.onreadystatechange = s.onload = function() {\n",
       "        window._bokeh_is_loading--;\n",
       "        if (window._bokeh_is_loading === 0) {\n",
       "          console.log(\"Bokeh: all BokehJS libraries loaded\");\n",
       "          run_callbacks()\n",
       "        }\n",
       "      };\n",
       "      s.onerror = function() {\n",
       "        console.warn(\"failed to load library \" + url);\n",
       "      };\n",
       "      console.log(\"Bokeh: injecting script tag for BokehJS library: \", url);\n",
       "      document.getElementsByTagName(\"head\")[0].appendChild(s);\n",
       "    }\n",
       "  };var element = document.getElementById(\"91d0deac-a249-445e-b5ae-4201cbcc3f71\");\n",
       "  if (element == null) {\n",
       "    console.log(\"Bokeh: ERROR: autoload.js configured with elementid '91d0deac-a249-445e-b5ae-4201cbcc3f71' but no matching script tag was found. \")\n",
       "    return false;\n",
       "  }\n",
       "\n",
       "  var js_urls = ['https://cdn.pydata.org/bokeh/release/bokeh-0.12.2.min.js', 'https://cdn.pydata.org/bokeh/release/bokeh-widgets-0.12.2.min.js', 'https://cdn.pydata.org/bokeh/release/bokeh-compiler-0.12.2.min.js'];\n",
       "\n",
       "  var inline_js = [\n",
       "    function(Bokeh) {\n",
       "      Bokeh.set_log_level(\"info\");\n",
       "    },\n",
       "    \n",
       "    function(Bokeh) {\n",
       "      \n",
       "      Bokeh.$(\"#91d0deac-a249-445e-b5ae-4201cbcc3f71\").text(\"BokehJS is loading...\");\n",
       "    },\n",
       "    function(Bokeh) {\n",
       "      console.log(\"Bokeh: injecting CSS: https://cdn.pydata.org/bokeh/release/bokeh-0.12.2.min.css\");\n",
       "      Bokeh.embed.inject_css(\"https://cdn.pydata.org/bokeh/release/bokeh-0.12.2.min.css\");\n",
       "      console.log(\"Bokeh: injecting CSS: https://cdn.pydata.org/bokeh/release/bokeh-widgets-0.12.2.min.css\");\n",
       "      Bokeh.embed.inject_css(\"https://cdn.pydata.org/bokeh/release/bokeh-widgets-0.12.2.min.css\");\n",
       "    }\n",
       "  ];\n",
       "\n",
       "  function run_inline_js() {\n",
       "    \n",
       "    if ((window.Bokeh !== undefined) || (force === \"1\")) {\n",
       "      for (var i = 0; i < inline_js.length; i++) {\n",
       "        inline_js[i](window.Bokeh);\n",
       "      }if (force === \"1\") {\n",
       "        display_loaded();\n",
       "      }} else if (Date.now() < window._bokeh_timeout) {\n",
       "      setTimeout(run_inline_js, 100);\n",
       "    } else if (!window._bokeh_failed_load) {\n",
       "      console.log(\"Bokeh: BokehJS failed to load within specified timeout.\");\n",
       "      window._bokeh_failed_load = true;\n",
       "    } else if (!force) {\n",
       "      var cell = $(\"#91d0deac-a249-445e-b5ae-4201cbcc3f71\").parents('.cell').data().cell;\n",
       "      cell.output_area.append_execute_result(NB_LOAD_WARNING)\n",
       "    }\n",
       "\n",
       "  }\n",
       "\n",
       "  if (window._bokeh_is_loading === 0) {\n",
       "    console.log(\"Bokeh: BokehJS loaded, going straight to plotting\");\n",
       "    run_inline_js();\n",
       "  } else {\n",
       "    load_libs(js_urls, function() {\n",
       "      console.log(\"Bokeh: BokehJS plotting callback run at\", now());\n",
       "      run_inline_js();\n",
       "    });\n",
       "  }\n",
       "}(this));"
      ]
     },
     "metadata": {},
     "output_type": "display_data"
    }
   ],
   "source": [
    "import numpy as np\n",
    "import pandas\n",
    "from numpy import *\n",
    "import time\n",
    "import sys\n",
    "import pandas as pd\n",
    "import matplotlib.pyplot as plt\n",
    "from sklearn import feature_selection\n",
    "from sklearn.svm import SVR\n",
    "from sklearn.learning_curve import learning_curve, validation_curve\n",
    "from sklearn.cross_validation import cross_val_predict\n",
    "from sklearn import metrics, grid_search, cross_validation\n",
    "from IPython.display import set_matplotlib_formats\n",
    "from bokeh.plotting import figure, show, output_notebook\n",
    "from sklearn.grid_search import GridSearchCV, RandomizedSearchCV\n",
    "from sklearn.metrics import r2_score\n",
    "from bokeh.layouts import gridplot\n",
    "output_notebook()\n",
    "set_matplotlib_formats('png', 'pdf')\n",
    "%matplotlib inline\n",
    "plt.rcParams['figure.figsize'] = (6, 6)"
   ]
  },
  {
   "cell_type": "markdown",
   "metadata": {},
   "source": [
    "# Load data"
   ]
  },
  {
   "cell_type": "markdown",
   "metadata": {},
   "source": [
    "In the previous file we have not change the data as there is no missing value or add any new parameters so it can be downloaded from the web directly. "
   ]
  },
  {
   "cell_type": "code",
   "execution_count": 2,
   "metadata": {
    "collapsed": false
   },
   "outputs": [
    {
     "name": "stdout",
     "output_type": "stream",
     "text": [
      "Number of examples 1030\n"
     ]
    }
   ],
   "source": [
    "names = ['Cement','BlastFurnace','Fly_Ash','Water','Superplasticizer','CoarseAggregate','Aggregate','day','Concrete']\n",
    "feature_names = names\n",
    "feature_cols = names\n",
    "\n",
    "data = pd.read_excel('Concrete_Data.xls', sep='%s')\n",
    "\n",
    "from sklearn import preprocessing\n",
    "\n",
    "def number_encode_features(df):\n",
    "    result = df.copy()\n",
    "    encoders = {}\n",
    "    for column in result.columns:\n",
    "        if result.dtypes[column] == np.object:\n",
    "            encoders[column] = preprocessing.LabelEncoder()\n",
    "            result[column] = encoders[column].fit_transform(result[column])\n",
    "    return result, encoders\n",
    "\n",
    "data, _ = number_encode_features(data)\n",
    "\n",
    "dataset = data.values\n",
    "X = dataset[:,0:8]\n",
    "Y = dataset[:,8]\n",
    "print 'Number of examples',len(X)"
   ]
  },
  {
   "cell_type": "code",
   "execution_count": 3,
   "metadata": {
    "collapsed": false
   },
   "outputs": [
    {
     "name": "stdout",
     "output_type": "stream",
     "text": [
      "Number of training examples 824\n",
      "Number of validation examples 206\n"
     ]
    }
   ],
   "source": [
    "# Make developement dataset for genrilization and final testing\n",
    "from sklearn.cross_validation import train_test_split\n",
    "# Extracting 20% testing data\n",
    "X_train, X_test, y_train, y_test = train_test_split(\n",
    "    X, Y, test_size=0.20, random_state=0)\n",
    "X = X_train\n",
    "Y = y_train\n",
    "new_data      = X_train\n",
    "new_test_data = X_test\n",
    "print 'Number of training examples',len(X_train)\n",
    "print 'Number of validation examples',len(X_test)"
   ]
  },
  {
   "cell_type": "markdown",
   "metadata": {},
   "source": [
    "Number of training data is very small so we need to use cross validation instead of spareate another validation data."
   ]
  },
  {
   "cell_type": "markdown",
   "metadata": {},
   "source": [
    "From the previous visulization the data has no missing value but has many outlier and some sparisty"
   ]
  },
  {
   "cell_type": "markdown",
   "metadata": {},
   "source": [
    "# Ranking of the feature's importance to the target"
   ]
  },
  {
   "cell_type": "code",
   "execution_count": 4,
   "metadata": {
    "collapsed": false
   },
   "outputs": [
    {
     "name": "stdout",
     "output_type": "stream",
     "text": [
      "Cement \t0.239722909942\n",
      "BlastFurnace \t0.189652141186\n",
      "Fly_Ash \t0.0371662944027\n",
      "Water \t0.246084690654\n",
      "Superplasticizer \t0.146270199254\n",
      "CoarseAggregate \t0.226789701659\n",
      "Aggregate \t0.219038423524\n",
      "day \t0.368017996233\n",
      "Concrete \t0.75298293137\n"
     ]
    }
   ],
   "source": [
    "# Using just correlation coefficient even in prevoius file we show them using data frame\n",
    "for col in feature_cols:\n",
    "    lm = SVR()\n",
    "    lm.fit(data[[col]], data['Concrete'])\n",
    "    print col,'\\t', lm.score(data[[col]], data['Concrete'])"
   ]
  },
  {
   "cell_type": "code",
   "execution_count": 5,
   "metadata": {
    "collapsed": false
   },
   "outputs": [
    {
     "name": "stdout",
     "output_type": "stream",
     "text": [
      "Feature Name      Score         Pvalue\n",
      "Cement \t\t338.725793692 \t1.32345794884e-65\n",
      "BlastFurnace \t\t19.0325717427 \t1.41457498978e-05\n",
      "Fly_Ash \t\t11.6269492436 \t0.000675283559617\n",
      "Water \t\t94.1187973071 \t2.3660726996e-21\n",
      "Superplasticizer \t\t159.109321731 \t5.07908923638e-34\n",
      "CoarseAggregate \t\t28.7447095672 \t1.01959722248e-07\n",
      "Aggregate \t\t29.5829376115 \t6.69468148289e-08\n",
      "day \t\t124.673209261 \t2.10314421454e-27\n",
      "Concrete \t\t-2.31485020847e+18 \t1.0\n"
     ]
    }
   ],
   "source": [
    "# Randing the important features to the target\n",
    "model = feature_selection.SelectKBest(score_func=feature_selection.f_regression,k=4)\n",
    "results = model.fit(data[feature_cols], data['Concrete'])\n",
    "k=0\n",
    "print 'Feature Name      Score         Pvalue'\n",
    "for feat in feature_cols:\n",
    "    print feat,'\\t\\t',results.scores_[k],'\\t',results.pvalues_[k]\n",
    "    k=k+1\n"
   ]
  },
  {
   "cell_type": "markdown",
   "metadata": {},
   "source": [
    "# Set the parameters for cross validation"
   ]
  },
  {
   "cell_type": "code",
   "execution_count": 6,
   "metadata": {
    "collapsed": true
   },
   "outputs": [],
   "source": [
    "num_folds = 10\n",
    "num_instances = len(X)\n",
    "seed = 7\n",
    "kfold = cross_validation.KFold(n=num_instances, n_folds=num_folds, random_state=seed)"
   ]
  },
  {
   "cell_type": "markdown",
   "metadata": {},
   "source": [
    " # Set the parameters for bias-variance dilemma"
   ]
  },
  {
   "cell_type": "code",
   "execution_count": 7,
   "metadata": {
    "collapsed": false
   },
   "outputs": [],
   "source": [
    "def plot_learning_curve(estimator, title, X, y, ylim=None, cv=None,\n",
    "                        n_jobs=1, train_sizes=np.linspace(.1, 1.0, 5)):\n",
    "    plt.figure()\n",
    "    plt.title(title)\n",
    "    if ylim is not None:\n",
    "        plt.ylim(*ylim)\n",
    "    plt.xlabel(\"Training examples\")\n",
    "    plt.ylabel(\"Score\")\n",
    "    train_sizes, train_scores, test_scores = learning_curve(\n",
    "        estimator, X, y, cv=cv, n_jobs=n_jobs, train_sizes=train_sizes)\n",
    "    train_scores_mean = np.mean(train_scores, axis=1)\n",
    "    train_scores_std = np.std(train_scores, axis=1)\n",
    "    test_scores_mean = np.mean(test_scores, axis=1)\n",
    "    test_scores_std = np.std(test_scores, axis=1)\n",
    "    plt.grid()\n",
    "\n",
    "    plt.fill_between(train_sizes, train_scores_mean - train_scores_std,\n",
    "                     train_scores_mean + train_scores_std, alpha=0.1,\n",
    "                     color=\"r\")\n",
    "    plt.fill_between(train_sizes, test_scores_mean - test_scores_std,\n",
    "                     test_scores_mean + test_scores_std, alpha=0.1, color=\"g\")\n",
    "    plt.plot(train_sizes, train_scores_mean, 'o-', color=\"r\",\n",
    "             label=\"Training score\")\n",
    "    plt.plot(train_sizes, test_scores_mean, 'o-', color=\"g\",\n",
    "             label=\"Cross-validation score\")\n",
    "\n",
    "    plt.legend(loc=\"best\")\n",
    "    return plt"
   ]
  },
  {
   "cell_type": "markdown",
   "metadata": {},
   "source": [
    "# Preprocessing the data and save both the model and preprocessed data"
   ]
  },
  {
   "cell_type": "code",
   "execution_count": 8,
   "metadata": {
    "collapsed": false
   },
   "outputs": [],
   "source": [
    "# According to the nature of the data spasity and there is outliter RobustScaler class is recomandit \n",
    "# but when I tried both of them the result seems is same\n",
    "from sklearn.preprocessing import StandardScaler\n",
    "scaler = preprocessing.StandardScaler().fit(X_train)"
   ]
  },
  {
   "cell_type": "code",
   "execution_count": 9,
   "metadata": {
    "collapsed": false
   },
   "outputs": [],
   "source": [
    "X_train = scaler.transform(X_train)\n",
    "X_test = scaler.transform(X_test) # use same transform for testing data\n",
    "X = X_train"
   ]
  },
  {
   "cell_type": "code",
   "execution_count": 10,
   "metadata": {
    "collapsed": true
   },
   "outputs": [],
   "source": [
    "# save transformed data\n",
    "np.save('./data/X_train', X_train)\n",
    "np.save('./data/y_train', y_train)\n",
    "np.save('./data/X_test', X_test)\n",
    "np.save('./data/y_test', y_test)"
   ]
  },
  {
   "cell_type": "code",
   "execution_count": 11,
   "metadata": {
    "collapsed": false
   },
   "outputs": [
    {
     "data": {
      "text/plain": [
       "['scaler.pkl', 'scaler.pkl_01.npy', 'scaler.pkl_02.npy', 'scaler.pkl_03.npy']"
      ]
     },
     "execution_count": 11,
     "metadata": {},
     "output_type": "execute_result"
    }
   ],
   "source": [
    "# save the model scaler to the desk\n",
    "from sklearn.externals import joblib\n",
    "joblib.dump(scaler, 'scaler.pkl') "
   ]
  },
  {
   "cell_type": "code",
   "execution_count": 12,
   "metadata": {
    "collapsed": false
   },
   "outputs": [
    {
     "name": "stdout",
     "output_type": "stream",
     "text": [
      " =================================================================>>>>> done\n",
      "[[ 2.10991518 -0.88106119 -0.84617062 ...,  1.97132825 -1.97556016\n",
      "  -0.69267849]\n",
      " [-1.49852146  1.2030767  -0.84617062 ..., -0.17456898  0.33209718\n",
      "  -0.62793264]\n",
      " [ 0.79619183  1.26087498 -0.84617062 ..., -0.34824772 -0.21429096\n",
      "   0.7317303 ]\n",
      " ..., \n",
      " [-1.01146856 -0.31384476  1.84556404 ...,  0.4429554   0.25069398\n",
      "  -0.51462739]\n",
      " [-0.16567549  0.37690132  0.48783031 ..., -0.98764276 -0.495502   -0.2880169 ]\n",
      " [-0.28041116 -0.88106119  0.63813809 ..., -0.19180821  1.08532344\n",
      "  -0.69267849]]\n"
     ]
    }
   ],
   "source": [
    "# Test the model if it is work\n",
    "scalerTest = joblib.load('scaler.pkl')\n",
    "new_data_scaled = scalerTest.transform(new_test_data)\n",
    "print \" =================================================================>>>>> done\"\n",
    "print new_data_scaled"
   ]
  },
  {
   "cell_type": "markdown",
   "metadata": {},
   "source": [
    "# 1. SVR Regression"
   ]
  },
  {
   "cell_type": "markdown",
   "metadata": {},
   "source": [
    "Support Vector Machines (SVM) were developed for binary classification. The technique has been extended for the prediction real-valued problems called Support Vector Regression (SVR). Like the classification example, SVR is built upon the LIBSVM library."
   ]
  },
  {
   "cell_type": "markdown",
   "metadata": {},
   "source": [
    "## Validation curve"
   ]
  },
  {
   "cell_type": "markdown",
   "metadata": {},
   "source": [
    "choosing multiple hyperparameters of an estimator "
   ]
  },
  {
   "cell_type": "code",
   "execution_count": 13,
   "metadata": {
    "collapsed": false
   },
   "outputs": [
    {
     "data": {
      "text/plain": [
       "['kernel',\n",
       " 'C',\n",
       " 'verbose',\n",
       " 'degree',\n",
       " 'epsilon',\n",
       " 'shrinking',\n",
       " 'max_iter',\n",
       " 'tol',\n",
       " 'cache_size',\n",
       " 'coef0',\n",
       " 'gamma']"
      ]
     },
     "execution_count": 13,
     "metadata": {},
     "output_type": "execute_result"
    }
   ],
   "source": [
    "from sklearn.svm import SVR\n",
    "estimator = SVR()\n",
    "estimator.get_params().keys()"
   ]
  },
  {
   "cell_type": "code",
   "execution_count": 14,
   "metadata": {
    "collapsed": false
   },
   "outputs": [
    {
     "data": {
      "image/png": "[encoded data removed]",
      "text/plain": [
       "<matplotlib.figure.Figure at 0x7fe91c60bcd0>"
      ]
     },
     "metadata": {},
     "output_type": "display_data"
    }
   ],
   "source": [
    "# For parametr alpha\n",
    "#param_range = np.logspace(-10.0, 10.0)\n",
    "#param_range = np.linspace(1,50,100)\n",
    "param_range = np.arange(1,50) # generate integer numbers\n",
    "\n",
    "train_scores, test_scores = validation_curve(\n",
    "    SVR(), X, Y, param_name=\"C\", param_range=param_range,\n",
    "    cv=num_folds,  n_jobs=-1)\n",
    "train_scores_mean = np.mean(train_scores, axis=1)\n",
    "train_scores_std = np.std(train_scores, axis=1)\n",
    "test_scores_mean = np.mean(test_scores, axis=1)\n",
    "test_scores_std = np.std(test_scores, axis=1)\n",
    "\n",
    "plt.title(\"Validation Curve with SVR\")\n",
    "plt.xlabel(\"C\")\n",
    "plt.ylabel(\"Score\")\n",
    "plt.ylim(0.4, 1.0)\n",
    "plt.plot(param_range, train_scores_mean, label=\"Training score\", color=\"r\")\n",
    "plt.fill_between(param_range, train_scores_mean - train_scores_std,\n",
    "                 train_scores_mean + train_scores_std, alpha=0.2, color=\"r\")\n",
    "plt.plot(param_range, test_scores_mean, label=\"Cross-validation score\",\n",
    "             color=\"g\")\n",
    "plt.fill_between(param_range, test_scores_mean - test_scores_std,\n",
    "                 test_scores_mean + test_scores_std, alpha=0.2, color=\"g\")\n",
    "plt.legend(loc=\"best\")\n",
    "plt.show()"
   ]
  },
  {
   "cell_type": "markdown",
   "metadata": {},
   "source": [
    "more that 5 is the best of C"
   ]
  },
  {
   "cell_type": "code",
   "execution_count": 15,
   "metadata": {
    "collapsed": false
   },
   "outputs": [
    {
     "data": {
      "image/png": "[encoded data removed]",
      "text/plain": [
       "<matplotlib.figure.Figure at 0x7fe8e49fd8d0>"
      ]
     },
     "metadata": {},
     "output_type": "display_data"
    }
   ],
   "source": [
    "# For parametr alpha\n",
    "#param_range = np.logspace(-10.0, 10.0)\n",
    "#param_range = np.linspace(1,50,100)\n",
    "param_range = np.arange(0,10) # generate integer numbers\n",
    "\n",
    "train_scores, test_scores = validation_curve(\n",
    "    SVR(), X, Y, param_name=\"epsilon\", param_range=param_range,\n",
    "    cv=num_folds,  n_jobs=-1)\n",
    "train_scores_mean = np.mean(train_scores, axis=1)\n",
    "train_scores_std = np.std(train_scores, axis=1)\n",
    "test_scores_mean = np.mean(test_scores, axis=1)\n",
    "test_scores_std = np.std(test_scores, axis=1)\n",
    "\n",
    "plt.title(\"Validation Curve with SVR\")\n",
    "plt.xlabel(\"epsilon\")\n",
    "plt.ylabel(\"Score\")\n",
    "plt.ylim(0.4, 1.0)\n",
    "plt.plot(param_range, train_scores_mean, label=\"Training score\", color=\"r\")\n",
    "plt.fill_between(param_range, train_scores_mean - train_scores_std,\n",
    "                 train_scores_mean + train_scores_std, alpha=0.2, color=\"r\")\n",
    "plt.plot(param_range, test_scores_mean, label=\"Cross-validation score\",\n",
    "             color=\"g\")\n",
    "plt.fill_between(param_range, test_scores_mean - test_scores_std,\n",
    "                 test_scores_mean + test_scores_std, alpha=0.2, color=\"g\")\n",
    "plt.legend(loc=\"best\")\n",
    "plt.show()"
   ]
  },
  {
   "cell_type": "markdown",
   "metadata": {},
   "source": [
    "epsilon less than  1 is the best (default=0.1)"
   ]
  },
  {
   "cell_type": "markdown",
   "metadata": {},
   "source": [
    "## Grid search and/or Random search to determine best compination of parameters"
   ]
  },
  {
   "cell_type": "code",
   "execution_count": 16,
   "metadata": {
    "collapsed": false
   },
   "outputs": [
    {
     "name": "stdout",
     "output_type": "stream",
     "text": [
      "Hyperparameter optimization using GridSearchCV...\n",
      "Parameters with rank: 1\n",
      "Mean validation score: 0.8652 (std: 0.0345)\n",
      "Parameters: {'kernel': 'rbf', 'C': 50.0}\n",
      "\n",
      "Parameters with rank: 2\n",
      "Mean validation score: 0.8651 (std: 0.0345)\n",
      "Parameters: {'kernel': 'rbf', 'C': 49.505050505050505}\n",
      "\n",
      "Parameters with rank: 3\n",
      "Mean validation score: 0.8650 (std: 0.0345)\n",
      "Parameters: {'kernel': 'rbf', 'C': 49.01010101010101}\n",
      "\n",
      "Parameters with rank: 4\n",
      "Mean validation score: 0.8649 (std: 0.0345)\n",
      "Parameters: {'kernel': 'rbf', 'C': 48.515151515151516}\n",
      "\n",
      "Parameters with rank: 5\n",
      "Mean validation score: 0.8648 (std: 0.0345)\n",
      "Parameters: {'kernel': 'rbf', 'C': 48.020202020202021}\n",
      "\n",
      "+++++++++++++++++++++++++++++++++++++++++++++++\n",
      "Hyperparameter optimization using RandomizedSearchCV\n",
      "Parameters with rank: 1\n",
      "Mean validation score: 0.7774 (std: 0.0548)\n",
      "Parameters: {'kernel': 'rbf', 'C': 5}\n",
      "\n",
      "Parameters with rank: 2\n",
      "Mean validation score: 0.6343 (std: 0.0619)\n",
      "Parameters: {'kernel': 'rbf', 'C': 1}\n",
      "\n",
      "Parameters with rank: 3\n",
      "Mean validation score: 0.6303 (std: 0.0563)\n",
      "Parameters: {'kernel': 'poly', 'C': 5}\n",
      "\n",
      "Parameters with rank: 4\n",
      "Mean validation score: 0.5342 (std: 0.1091)\n",
      "Parameters: {'kernel': 'linear', 'C': 10}\n",
      "\n",
      "Parameters with rank: 5\n",
      "Mean validation score: -0.0185 (std: 0.0198)\n",
      "Parameters: {'kernel': 'sigmoid', 'C': 10}\n",
      "\n"
     ]
    }
   ],
   "source": [
    "# Utility function to report optimal parameters\n",
    "from operator import itemgetter\n",
    "def report(grid_scores, n_top=5):\n",
    "    params = None\n",
    "    top_scores = sorted(grid_scores, key=itemgetter(1), reverse=True)[:n_top]\n",
    "    for i, score in enumerate(top_scores):\n",
    "        print(\"Parameters with rank: {0}\".format(i + 1))\n",
    "        print(\"Mean validation score: {0:.4f} (std: {1:.4f})\".format(\n",
    "              score.mean_validation_score, np.std(score.cv_validation_scores)))\n",
    "        print(\"Parameters: {0}\".format(score.parameters))\n",
    "        print(\"\")\n",
    "        \n",
    "        if params == None:\n",
    "            params = score.parameters\n",
    "    \n",
    "    return params\n",
    "\n",
    "# The most common value for the max number of features to look at in each split is sqrt(# of features)\n",
    "sqrtfeat = np.sqrt(X.shape[1]) \n",
    "grid_test1 = { \"C\"      : np.linspace(1,50,100) ,\n",
    "                \"kernel\"      : [ \"linear\", \"rbf\", \"poly\", \"sigmoid\"]}\n",
    "\n",
    "# Large randomized test using max_depth to control tree size (5000 possible combinations)\n",
    "random_test1 = { \"C\"      : [1,5,10],\n",
    "                \"kernel\"      : [ \"linear\", \"rbf\", \"poly\", \"sigmoid\"]}\n",
    "\n",
    "\n",
    "forest = SVR()\n",
    "\n",
    "print \"Hyperparameter optimization using GridSearchCV...\"\n",
    "grid_search = GridSearchCV(forest, grid_test1, n_jobs=-1, cv=num_folds)\n",
    "grid_search.fit(X, Y)\n",
    "best_params_from_grid_search = report(grid_search.grid_scores_)\n",
    "print '+++++++++++++++++++++++++++++++++++++++++++++++'\n",
    "print \"Hyperparameter optimization using RandomizedSearchCV\"\n",
    "grid_search = RandomizedSearchCV(forest, random_test1, n_jobs=-1, cv=num_folds, n_iter=5)\n",
    "grid_search.fit(X, Y)\n",
    "best_params_from_rand_search1 = report(grid_search.grid_scores_)"
   ]
  },
  {
   "cell_type": "markdown",
   "metadata": {},
   "source": [
    "Parameters: {'kernel': 'rbf', 'C': 50.0}"
   ]
  },
  {
   "cell_type": "code",
   "execution_count": 17,
   "metadata": {
    "collapsed": false
   },
   "outputs": [
    {
     "data": {
      "image/png": "[encoded data removed]",
      "text/plain": [
       "<matplotlib.figure.Figure at 0x7fe8e3c9eb10>"
      ]
     },
     "metadata": {},
     "output_type": "display_data"
    }
   ],
   "source": [
    "# Value of gamma on rbf\n",
    "#param_range = np.logspace(-10.0, 10.0)\n",
    "param_range = np.linspace(0,10,100)\n",
    "#param_range = np.arange(0,10) # generate integer numbers\n",
    "\n",
    "train_scores, test_scores = validation_curve(\n",
    "    SVR(kernel=\"rbf\", C=50), X, Y, param_name=\"gamma\", param_range=param_range,\n",
    "    cv=num_folds,  n_jobs=-1)\n",
    "train_scores_mean = np.mean(train_scores, axis=1)\n",
    "train_scores_std = np.std(train_scores, axis=1)\n",
    "test_scores_mean = np.mean(test_scores, axis=1)\n",
    "test_scores_std = np.std(test_scores, axis=1)\n",
    "\n",
    "plt.title(\"Validation Curve with SVR\")\n",
    "plt.xlabel(\"gamma\")\n",
    "plt.ylabel(\"Score\")\n",
    "plt.ylim(0.4, 1.0)\n",
    "plt.plot(param_range, train_scores_mean, label=\"Training score\", color=\"r\")\n",
    "plt.fill_between(param_range, train_scores_mean - train_scores_std,\n",
    "                 train_scores_mean + train_scores_std, alpha=0.2, color=\"r\")\n",
    "plt.plot(param_range, test_scores_mean, label=\"Cross-validation score\",\n",
    "             color=\"g\")\n",
    "plt.fill_between(param_range, test_scores_mean - test_scores_std,\n",
    "                 test_scores_mean + test_scores_std, alpha=0.2, color=\"g\")\n",
    "plt.legend(loc=\"best\")\n",
    "plt.show()"
   ]
  },
  {
   "cell_type": "code",
   "execution_count": 18,
   "metadata": {
    "collapsed": false
   },
   "outputs": [
    {
     "name": "stdout",
     "output_type": "stream",
     "text": [
      "Hyperparameter optimization using GridSearchCV...\n",
      "Parameters with rank: 1\n",
      "Mean validation score: 0.8418 (std: 0.0404)\n",
      "Parameters: {'C': 20.0, 'gamma': 0.0}\n",
      "\n",
      "Parameters with rank: 2\n",
      "Mean validation score: 0.8380 (std: 0.0420)\n",
      "Parameters: {'C': 17.888888888888889, 'gamma': 0.0}\n",
      "\n",
      "Parameters with rank: 3\n",
      "Mean validation score: 0.8336 (std: 0.0441)\n",
      "Parameters: {'C': 15.777777777777779, 'gamma': 0.0}\n",
      "\n",
      "Parameters with rank: 4\n",
      "Mean validation score: 0.8278 (std: 0.0462)\n",
      "Parameters: {'C': 13.666666666666668, 'gamma': 0.0}\n",
      "\n",
      "Parameters with rank: 5\n",
      "Mean validation score: 0.8203 (std: 0.0484)\n",
      "Parameters: {'C': 11.555555555555555, 'gamma': 0.0}\n",
      "\n",
      "+++++++++++++++++++++++++++++++++++++++++++++++\n",
      "Hyperparameter optimization using RandomizedSearchCV\n",
      "Parameters with rank: 1\n",
      "Mean validation score: 0.8652 (std: 0.0345)\n",
      "Parameters: {'C': 50, 'gamma': 0}\n",
      "\n",
      "Parameters with rank: 2\n",
      "Mean validation score: 0.8200 (std: 0.0573)\n",
      "Parameters: {'C': 50, 'gamma': 1}\n",
      "\n",
      "Parameters with rank: 3\n",
      "Mean validation score: 0.7560 (std: 0.0597)\n",
      "Parameters: {'C': 50, 'gamma': 2}\n",
      "\n",
      "Parameters with rank: 4\n",
      "Mean validation score: 0.6287 (std: 0.0725)\n",
      "Parameters: {'C': 5, 'gamma': 1}\n",
      "\n",
      "Parameters with rank: 5\n",
      "Mean validation score: 0.3190 (std: 0.0455)\n",
      "Parameters: {'C': 1, 'gamma': 1}\n",
      "\n"
     ]
    }
   ],
   "source": [
    "# Utility function to report optimal parameters\n",
    "from operator import itemgetter\n",
    "def report(grid_scores, n_top=5):\n",
    "    params = None\n",
    "    top_scores = sorted(grid_scores, key=itemgetter(1), reverse=True)[:n_top]\n",
    "    for i, score in enumerate(top_scores):\n",
    "        print(\"Parameters with rank: {0}\".format(i + 1))\n",
    "        print(\"Mean validation score: {0:.4f} (std: {1:.4f})\".format(\n",
    "              score.mean_validation_score, np.std(score.cv_validation_scores)))\n",
    "        print(\"Parameters: {0}\".format(score.parameters))\n",
    "        print(\"\")\n",
    "        \n",
    "        if params == None:\n",
    "            params = score.parameters\n",
    "    \n",
    "    return params\n",
    "\n",
    "# The most common value for the max number of features to look at in each split is sqrt(# of features)\n",
    "sqrtfeat = np.sqrt(X.shape[1]) \n",
    "grid_test1 = { \"C\"        : np.linspace(1,20,10),\n",
    "             \"gamma\"      : np.linspace(0,20,10)}\n",
    "\n",
    "# Large randomized test using max_depth to control tree size (5000 possible combinations)\n",
    "random_test1 = { \"C\"         : [1,5,10,50],\n",
    "                \"gamma\"      : [0,1,2]}\n",
    "\n",
    "\n",
    "forest = SVR()\n",
    "\n",
    "print \"Hyperparameter optimization using GridSearchCV...\"\n",
    "grid_search = GridSearchCV(forest, grid_test1, n_jobs=-1, cv=num_folds)\n",
    "grid_search.fit(X, Y)\n",
    "best_params_from_grid_search = report(grid_search.grid_scores_)\n",
    "print '+++++++++++++++++++++++++++++++++++++++++++++++'\n",
    "print \"Hyperparameter optimization using RandomizedSearchCV\"\n",
    "grid_search = RandomizedSearchCV(forest, random_test1, n_jobs=-1, cv=num_folds, n_iter=5)\n",
    "grid_search.fit(X, Y)\n",
    "best_params_from_rand_search1 = report(grid_search.grid_scores_)"
   ]
  },
  {
   "cell_type": "markdown",
   "metadata": {},
   "source": [
    "## Learning Curve "
   ]
  },
  {
   "cell_type": "markdown",
   "metadata": {},
   "source": [
    "In essence, what we’re doing it training the exact same model with increasingly large fractions of our total training data, and plotting the error of the training and test sets at each step."
   ]
  },
  {
   "cell_type": "code",
   "execution_count": 19,
   "metadata": {
    "collapsed": false
   },
   "outputs": [
    {
     "data": {
      "image/png": "[encoded data removed]",
      "text/plain": [
       "<matplotlib.figure.Figure at 0x7fe8e072abd0>"
      ]
     },
     "metadata": {},
     "output_type": "display_data"
    }
   ],
   "source": [
    "from sklearn.svm import SVR\n",
    "model = SVR(kernel = \"linear\", C = 5.0 )\n",
    "title = \"Learning Curves (SVR Refression)\"\n",
    "cv = cross_validation.ShuffleSplit(X.shape[0], n_iter=100,\n",
    "                                   test_size=0.2, random_state=0)\n",
    "plot_learning_curve(model, title, X, Y, ylim=(0.2, 1.01), cv=cv, n_jobs=-1)\n",
    "plt.show()"
   ]
  },
  {
   "cell_type": "code",
   "execution_count": 20,
   "metadata": {
    "collapsed": false
   },
   "outputs": [
    {
     "name": "stdout",
     "output_type": "stream",
     "text": [
      "train_sizes =  [ 50  80 110]\n",
      " training scores\n",
      " 50 training sizees\n",
      "0.619935307822 ± 0.117328799222\n",
      " 80 training sizees\n",
      "0.589529556141 ± 0.083547166961\n",
      " 110 training sizees\n",
      "0.594587475628 ± 0.0702919377037\n",
      "\n",
      " validation scores\n",
      " 50 validation scores\n",
      "0.388902626325 ± 0.187442614475\n",
      " 80 validation scores\n",
      "0.461078622213 ± 0.104627220007\n",
      " 110 validation scores\n",
      "0.497144900073 ± 0.115228686632\n"
     ]
    }
   ],
   "source": [
    "# More data from learning curve to show the process of building the model\n",
    "train_sizes, train_scores, valid_scores = learning_curve(\n",
    "     model, X, Y, train_sizes=[50, 80, 110], cv=cv, n_jobs=4)\n",
    "\n",
    "print 'train_sizes = ', train_sizes\n",
    "\n",
    "print ' training scores'\n",
    "print ' 50 training sizees'\n",
    "print train_scores[0].mean(),'±',train_scores[0].std()\n",
    "print ' 80 training sizees'\n",
    "print train_scores[1].mean(),'±',train_scores[1].std()\n",
    "print ' 110 training sizees'\n",
    "print train_scores[2].mean(),'±',train_scores[2].std()\n",
    "\n",
    "print '\\n validation scores'\n",
    "print ' 50 validation scores'\n",
    "print valid_scores[0].mean(),'±',valid_scores[0].std()\n",
    "print ' 80 validation scores'\n",
    "print valid_scores[1].mean(),'±',valid_scores[1].std()\n",
    "print ' 110 validation scores'\n",
    "print valid_scores[2].mean(),'±',valid_scores[2].std()"
   ]
  },
  {
   "cell_type": "markdown",
   "metadata": {},
   "source": [
    "## Cross validation"
   ]
  },
  {
   "cell_type": "code",
   "execution_count": 21,
   "metadata": {
    "collapsed": false
   },
   "outputs": [
    {
     "name": "stdout",
     "output_type": "stream",
     "text": [
      "Scoring according to mean_squared_error\n",
      "[ -93.07086365 -102.25521142 -112.7059515  -136.23770544 -174.8824955\n",
      " -132.83518017 -169.43015125  -91.13791431 -155.90766004 -117.58093462]\n",
      "\n",
      " Mean      Standard deviation\n",
      "-128.60      28.92\n"
     ]
    },
    {
     "data": {
      "text/plain": [
       "SVR(C=5.0, cache_size=200, coef0=0.0, degree=3, epsilon=0.1, gamma='auto',\n",
       "  kernel='linear', max_iter=-1, shrinking=True, tol=0.001, verbose=False)"
      ]
     },
     "execution_count": 21,
     "metadata": {},
     "output_type": "execute_result"
    }
   ],
   "source": [
    "scoring = 'mean_squared_error'\n",
    "results = cross_validation.cross_val_score(model, X, Y, cv=kfold, scoring=scoring)\n",
    "print 'Scoring according to mean_squared_error'\n",
    "print results\n",
    "print '\\n Mean      Standard deviation'\n",
    "print(\"%.2f      %.2f\" % (results.mean(), results.std()))\n",
    "## Fit the model\n",
    "model.fit(X,Y)\n"
   ]
  },
  {
   "cell_type": "markdown",
   "metadata": {},
   "source": [
    "## Coefficients Of Determination {Calculating R^2}\n",
    "\n",
    "R^2, Close to one is better"
   ]
  },
  {
   "cell_type": "code",
   "execution_count": 22,
   "metadata": {
    "collapsed": false
   },
   "outputs": [
    {
     "name": "stdout",
     "output_type": "stream",
     "text": [
      "R-squared =  0.544685500998\n"
     ]
    }
   ],
   "source": [
    "predicted = cross_val_predict(model, X, Y, cv=kfold)\n",
    "r_squared = r2_score(Y, predicted, multioutput='variance_weighted')\n",
    "print 'R-squared = ',r_squared"
   ]
  },
  {
   "cell_type": "markdown",
   "metadata": {},
   "source": [
    "## Residual Plot"
   ]
  },
  {
   "cell_type": "code",
   "execution_count": 23,
   "metadata": {
    "collapsed": false
   },
   "outputs": [
    {
     "data": {
      "image/png": "[encoded data removed]",
      "text/plain": [
       "<matplotlib.figure.Figure at 0x7fe8e0717450>"
      ]
     },
     "metadata": {},
     "output_type": "display_data"
    }
   ],
   "source": [
    "predicted = cross_val_predict(model, X, Y, cv=kfold)\n",
    "fig, ax = plt.subplots()\n",
    "ax.scatter(Y, predicted)\n",
    "ax.plot([Y.min(), Y.max()], [Y.min(), Y.max()], 'k--', lw=4)\n",
    "ax.set_xlabel('Measured')\n",
    "ax.set_ylabel('Predicted')\n",
    "plt.show()"
   ]
  },
  {
   "cell_type": "code",
   "execution_count": 24,
   "metadata": {
    "collapsed": false
   },
   "outputs": [
    {
     "data": {
      "text/html": [
       "\n",
       "\n",
       "    <div class=\"bk-root\">\n",
       "        <div class=\"plotdiv\" id=\"6e4475ea-de98-4a7e-ac27-653363c199a8\"></div>\n",
       "    </div>\n",
       "<script type=\"text/javascript\">\n",
       "  \n",
       "  (function(global) {\n",
       "    function now() {\n",
       "      return new Date();\n",
       "    }\n",
       "  \n",
       "    var force = \"\";\n",
       "  \n",
       "    if (typeof (window._bokeh_onload_callbacks) === \"undefined\" || force !== \"\") {\n",
       "      window._bokeh_onload_callbacks = [];\n",
       "      window._bokeh_is_loading = undefined;\n",
       "    }\n",
       "  \n",
       "  \n",
       "    \n",
       "    if (typeof (window._bokeh_timeout) === \"undefined\" || force !== \"\") {\n",
       "      window._bokeh_timeout = Date.now() + 0;\n",
       "      window._bokeh_failed_load = false;\n",
       "    }\n",
       "  \n",
       "    var NB_LOAD_WARNING = {'data': {'text/html':\n",
       "       \"<div style='background-color: #fdd'>\\n\"+\n",
       "       \"<p>\\n\"+\n",
       "       \"BokehJS does not appear to have successfully loaded. If loading BokehJS from CDN, this \\n\"+\n",
       "       \"may be due to a slow or bad network connection. Possible fixes:\\n\"+\n",
       "       \"</p>\\n\"+\n",
       "       \"<ul>\\n\"+\n",
       "       \"<li>re-rerun `output_notebook()` to attempt to load from CDN again, or</li>\\n\"+\n",
       "       \"<li>use INLINE resources instead, as so:</li>\\n\"+\n",
       "       \"</ul>\\n\"+\n",
       "       \"<code>\\n\"+\n",
       "       \"from bokeh.resources import INLINE\\n\"+\n",
       "       \"output_notebook(resources=INLINE)\\n\"+\n",
       "       \"</code>\\n\"+\n",
       "       \"</div>\"}};\n",
       "  \n",
       "    function display_loaded() {\n",
       "      if (window.Bokeh !== undefined) {\n",
       "        Bokeh.$(\"#6e4475ea-de98-4a7e-ac27-653363c199a8\").text(\"BokehJS successfully loaded.\");\n",
       "      } else if (Date.now() < window._bokeh_timeout) {\n",
       "        setTimeout(display_loaded, 100)\n",
       "      }\n",
       "    }\n",
       "  \n",
       "    function run_callbacks() {\n",
       "      window._bokeh_onload_callbacks.forEach(function(callback) { callback() });\n",
       "      delete window._bokeh_onload_callbacks\n",
       "      console.info(\"Bokeh: all callbacks have finished\");\n",
       "    }\n",
       "  \n",
       "    function load_libs(js_urls, callback) {\n",
       "      window._bokeh_onload_callbacks.push(callback);\n",
       "      if (window._bokeh_is_loading > 0) {\n",
       "        console.log(\"Bokeh: BokehJS is being loaded, scheduling callback at\", now());\n",
       "        return null;\n",
       "      }\n",
       "      if (js_urls == null || js_urls.length === 0) {\n",
       "        run_callbacks();\n",
       "        return null;\n",
       "      }\n",
       "      console.log(\"Bokeh: BokehJS not loaded, scheduling load and callback at\", now());\n",
       "      window._bokeh_is_loading = js_urls.length;\n",
       "      for (var i = 0; i < js_urls.length; i++) {\n",
       "        var url = js_urls[i];\n",
       "        var s = document.createElement('script');\n",
       "        s.src = url;\n",
       "        s.async = false;\n",
       "        s.onreadystatechange = s.onload = function() {\n",
       "          window._bokeh_is_loading--;\n",
       "          if (window._bokeh_is_loading === 0) {\n",
       "            console.log(\"Bokeh: all BokehJS libraries loaded\");\n",
       "            run_callbacks()\n",
       "          }\n",
       "        };\n",
       "        s.onerror = function() {\n",
       "          console.warn(\"failed to load library \" + url);\n",
       "        };\n",
       "        console.log(\"Bokeh: injecting script tag for BokehJS library: \", url);\n",
       "        document.getElementsByTagName(\"head\")[0].appendChild(s);\n",
       "      }\n",
       "    };var element = document.getElementById(\"6e4475ea-de98-4a7e-ac27-653363c199a8\");\n",
       "    if (element == null) {\n",
       "      console.log(\"Bokeh: ERROR: autoload.js configured with elementid '6e4475ea-de98-4a7e-ac27-653363c199a8' but no matching script tag was found. \")\n",
       "      return false;\n",
       "    }\n",
       "  \n",
       "    var js_urls = [];\n",
       "  \n",
       "    var inline_js = [\n",
       "      function(Bokeh) {\n",
       "        Bokeh.$(function() {\n",
       "            var docs_json = {\"87946a10-675b-4e3f-96a3-54619dd791a7\":{\"roots\":{\"references\":[{\"attributes\":{\"bottom_units\":\"screen\",\"fill_alpha\":{\"value\":0.5},\"fill_color\":{\"value\":\"lightgrey\"},\"left_units\":\"screen\",\"level\":\"overlay\",\"line_alpha\":{\"value\":1.0},\"line_color\":{\"value\":\"black\"},\"line_dash\":[4,4],\"line_width\":{\"value\":2},\"plot\":null,\"render_mode\":\"css\",\"right_units\":\"screen\",\"top_units\":\"screen\"},\"id\":\"e960906e-ece1-4661-ab2c-0693055905f7\",\"type\":\"BoxAnnotation\"},{\"attributes\":{\"plot\":{\"id\":\"8ea4d990-7958-495c-a3fe-447e9976630c\",\"subtype\":\"Figure\",\"type\":\"Plot\"}},\"id\":\"3177839a-38f2-411a-a9d2-d99545632823\",\"type\":\"PanTool\"},{\"attributes\":{\"data_source\":{\"id\":\"7474a3d6-4396-40ef-89ae-1fcc8e99993c\",\"type\":\"ColumnDataSource\"},\"glyph\":{\"id\":\"dd59e5ea-e678-4a6f-ba12-d178a21b9edc\",\"type\":\"Line\"},\"hover_glyph\":null,\"nonselection_glyph\":{\"id\":\"a7721570-adf7-415a-a3e6-d7da93c6ec1f\",\"type\":\"Line\"},\"selection_glyph\":null},\"id\":\"4f2fd52a-a7be-425d-9851-cc8b09e7cedf\",\"type\":\"GlyphRenderer\"},{\"attributes\":{\"callback\":null,\"overlay\":{\"id\":\"5933fdb0-2be9-450e-85d3-0c6f7e9cdca0\",\"type\":\"PolyAnnotation\"},\"plot\":{\"id\":\"8ea4d990-7958-495c-a3fe-447e9976630c\",\"subtype\":\"Figure\",\"type\":\"Plot\"}},\"id\":\"c733ac7c-b453-4c06-b015-36a5bf550a1d\",\"type\":\"LassoSelectTool\"},{\"attributes\":{},\"id\":\"8d8d4558-4c53-4bfc-a862-c5d0e933ce9b\",\"type\":\"ToolEvents\"},{\"attributes\":{\"fill_color\":{\"value\":\"#80B1D3\"},\"line_color\":{\"value\":\"#80B1D3\"},\"line_width\":{\"value\":3},\"x\":{\"field\":\"x\"},\"y\":{\"field\":\"y\"}},\"id\":\"8380426a-f732-46e8-905d-38b4ad5c61a0\",\"type\":\"Circle\"},{\"attributes\":{\"plot\":{\"id\":\"8ea4d990-7958-495c-a3fe-447e9976630c\",\"subtype\":\"Figure\",\"type\":\"Plot\"},\"ticker\":{\"id\":\"827d7638-bb03-4935-976b-d209844677c8\",\"type\":\"BasicTicker\"}},\"id\":\"2a2862bf-8ded-4a8c-bc11-bedd99d1ecc8\",\"type\":\"Grid\"},{\"attributes\":{\"plot\":{\"id\":\"8ea4d990-7958-495c-a3fe-447e9976630c\",\"subtype\":\"Figure\",\"type\":\"Plot\"}},\"id\":\"36193cd3-e237-40d3-a6f2-7b311dc807a3\",\"type\":\"SaveTool\"},{\"attributes\":{},\"id\":\"827d7638-bb03-4935-976b-d209844677c8\",\"type\":\"BasicTicker\"},{\"attributes\":{\"line_dash\":[4,4],\"line_width\":{\"value\":2},\"x\":{\"field\":\"x\"},\"y\":{\"field\":\"y\"}},\"id\":\"dd59e5ea-e678-4a6f-ba12-d178a21b9edc\",\"type\":\"Line\"},{\"attributes\":{\"fill_alpha\":{\"value\":0.5},\"fill_color\":{\"value\":\"lightgrey\"},\"level\":\"overlay\",\"line_alpha\":{\"value\":1.0},\"line_color\":{\"value\":\"black\"},\"line_dash\":[4,4],\"line_width\":{\"value\":2},\"plot\":null,\"xs_units\":\"screen\",\"ys_units\":\"screen\"},\"id\":\"5933fdb0-2be9-450e-85d3-0c6f7e9cdca0\",\"type\":\"PolyAnnotation\"},{\"attributes\":{\"fill_alpha\":{\"value\":0.5},\"fill_color\":{\"value\":\"lightgrey\"},\"level\":\"overlay\",\"line_alpha\":{\"value\":1.0},\"line_color\":{\"value\":\"black\"},\"line_dash\":[4,4],\"line_width\":{\"value\":2},\"plot\":null,\"xs_units\":\"screen\",\"ys_units\":\"screen\"},\"id\":\"3f69b79f-0f3f-4679-b876-47da429c6123\",\"type\":\"PolyAnnotation\"},{\"attributes\":{\"background_fill_alpha\":{\"value\":0.5},\"background_fill_color\":{\"value\":\"beige\"},\"below\":[{\"id\":\"39556fb6-8d9f-4540-8a8d-9827cd095d8a\",\"type\":\"LinearAxis\"}],\"left\":[{\"id\":\"100b4800-9858-4155-a6e6-c8f2a3916cbc\",\"type\":\"LinearAxis\"}],\"plot_height\":500,\"plot_width\":500,\"renderers\":[{\"id\":\"39556fb6-8d9f-4540-8a8d-9827cd095d8a\",\"type\":\"LinearAxis\"},{\"id\":\"2a2862bf-8ded-4a8c-bc11-bedd99d1ecc8\",\"type\":\"Grid\"},{\"id\":\"100b4800-9858-4155-a6e6-c8f2a3916cbc\",\"type\":\"LinearAxis\"},{\"id\":\"aeb0cda5-a23f-440c-aac6-59a3c88537b6\",\"type\":\"Grid\"},{\"id\":\"bbfd6fbe-4f03-40da-bf5d-c078e4c93aa2\",\"type\":\"BoxAnnotation\"},{\"id\":\"e960906e-ece1-4661-ab2c-0693055905f7\",\"type\":\"BoxAnnotation\"},{\"id\":\"5933fdb0-2be9-450e-85d3-0c6f7e9cdca0\",\"type\":\"PolyAnnotation\"},{\"id\":\"3f69b79f-0f3f-4679-b876-47da429c6123\",\"type\":\"PolyAnnotation\"},{\"id\":\"c1958a96-1289-4144-9f00-f3b18e1c23c2\",\"type\":\"GlyphRenderer\"},{\"id\":\"4f2fd52a-a7be-425d-9851-cc8b09e7cedf\",\"type\":\"GlyphRenderer\"}],\"title\":{\"id\":\"7f5e9421-7ccc-4635-83b0-d0f1ac811af4\",\"type\":\"Title\"},\"tool_events\":{\"id\":\"8d8d4558-4c53-4bfc-a862-c5d0e933ce9b\",\"type\":\"ToolEvents\"},\"toolbar\":{\"id\":\"508b38b4-6d60-4948-b12f-036d94e251b7\",\"type\":\"Toolbar\"},\"x_range\":{\"id\":\"a9c65964-9215-4fc5-87cd-9410f045a1d9\",\"type\":\"DataRange1d\"},\"y_range\":{\"id\":\"c0fc0751-e7ce-4e06-9379-2cea9f4b3b4b\",\"type\":\"DataRange1d\"}},\"id\":\"8ea4d990-7958-495c-a3fe-447e9976630c\",\"subtype\":\"Figure\",\"type\":\"Plot\"},{\"attributes\":{\"active_drag\":\"auto\",\"active_scroll\":\"auto\",\"active_tap\":\"auto\",\"tools\":[{\"id\":\"1e3083b5-3256-47ee-af5d-b0661a63127a\",\"type\":\"BoxZoomTool\"},{\"id\":\"dd42a4c7-7cb7-4ada-8358-5eb856f9cb1a\",\"type\":\"BoxSelectTool\"},{\"id\":\"1174b224-8665-47f0-8d8b-c09a5ca1ce45\",\"type\":\"CrosshairTool\"},{\"id\":\"da1414fb-b12d-4246-b5dc-e85cb36ce760\",\"type\":\"ResizeTool\"},{\"id\":\"dda1cc86-7b9c-42ea-8e3c-dead1c7973c1\",\"type\":\"ResetTool\"},{\"id\":\"c733ac7c-b453-4c06-b015-36a5bf550a1d\",\"type\":\"LassoSelectTool\"},{\"id\":\"3177839a-38f2-411a-a9d2-d99545632823\",\"type\":\"PanTool\"},{\"id\":\"36193cd3-e237-40d3-a6f2-7b311dc807a3\",\"type\":\"SaveTool\"},{\"id\":\"c3e05b9e-e5e0-49da-8eef-b7f91cfd38aa\",\"type\":\"PolySelectTool\"},{\"id\":\"e85524f8-c1a9-4f23-9703-365898d26efb\",\"type\":\"TapTool\"},{\"id\":\"0647de93-b50b-4193-9a43-ef1d8738f7cc\",\"type\":\"WheelZoomTool\"},{\"id\":\"6f313f27-caed-41e7-92ef-d8dc2bc987fb\",\"type\":\"UndoTool\"}]},\"id\":\"508b38b4-6d60-4948-b12f-036d94e251b7\",\"type\":\"Toolbar\"},{\"attributes\":{\"axis_label\":\"Predicted\",\"axis_label_text_color\":{\"value\":\"#aa6666\"},\"formatter\":{\"id\":\"662831e8-761c-4e6c-a4e9-2a42703e3269\",\"type\":\"BasicTickFormatter\"},\"plot\":{\"id\":\"8ea4d990-7958-495c-a3fe-447e9976630c\",\"subtype\":\"Figure\",\"type\":\"Plot\"},\"ticker\":{\"id\":\"b3a7b52b-8ac0-4b3d-9229-33fda7b340f4\",\"type\":\"BasicTicker\"}},\"id\":\"100b4800-9858-4155-a6e6-c8f2a3916cbc\",\"type\":\"LinearAxis\"},{\"attributes\":{\"plot\":{\"id\":\"8ea4d990-7958-495c-a3fe-447e9976630c\",\"subtype\":\"Figure\",\"type\":\"Plot\"}},\"id\":\"1174b224-8665-47f0-8d8b-c09a5ca1ce45\",\"type\":\"CrosshairTool\"},{\"attributes\":{},\"id\":\"62c15adf-3d24-4c6d-899a-bfbcbf422421\",\"type\":\"BasicTickFormatter\"},{\"attributes\":{\"dimension\":1,\"plot\":{\"id\":\"8ea4d990-7958-495c-a3fe-447e9976630c\",\"subtype\":\"Figure\",\"type\":\"Plot\"},\"ticker\":{\"id\":\"b3a7b52b-8ac0-4b3d-9229-33fda7b340f4\",\"type\":\"BasicTicker\"}},\"id\":\"aeb0cda5-a23f-440c-aac6-59a3c88537b6\",\"type\":\"Grid\"},{\"attributes\":{\"callback\":null,\"column_names\":[\"x\",\"y\"],\"data\":{\"x\":[43.892042159999995,38.21075992,33.419591196,13.12072828,47.22221124,22.31833812,12.47262084,28.937997196,47.029847436000004,26.322814728,30.439675923999996,12.63809508,20.77391188,43.798273423999994,66.10006412,15.361525279999999,40.865242519999995,45.939785879999995,33.75674496,43.58177796,23.524231644,42.69924868,14.143910664,48.401215199999996,34.569637164,35.85964676,59.09498796,24.49708228,37.721921436,15.520104759999999,32.401235144,33.05347944,49.249270679999995,71.69860924,54.896079119999996,50.45930106,51.863763672,28.6822016,26.77235308,17.236210524,36.83870268,40.2309246,47.714497103999996,11.36256448,9.99050724,40.925226931999994,40.563252031999994,31.715896,39.417342919999996,18.12632404,18.28490352,9.86640156,41.2996124,34.55653712,53.95839176,82.5992248,54.598914963999995,44.61185510399999,39.28978986,63.528318639999995,39.1622368,39.321505756,20.416073836,44.395359639999995,56.33708396,38.500339839999995,32.245413568000004,42.229026048,46.247292176,33.68779736,44.209201119999996,33.72916592,64.90037588,33.192064116000005,12.45193656,44.14025352,57.915983999999995,55.50971276,37.2661778,42.21661548,41.20308576,39.779317819999996,64.90037588,39.6621069,23.5111316,54.765078679999995,29.073134491999998,49.77327244,65.19685056,36.588422892,52.00717468,37.2661778,43.57833058,40.679083999999996,26.96540636,36.251958603999995,25.726417988,12.180972492,72.99482412,28.62704352,11.392211948,20.08443588,48.28400428,24.00065956,45.304778483999996,35.763120119999996,74.19451236,14.699628319999999,25.60910856945864,61.99078716,38.074243671999994,54.09628696,40.856968808,39.84481804,22.435549039999998,25.893960655999997,42.919881,30.647208199999998,26.200088,23.13881456,26.8550902,26.147687824,52.446370892,37.92118,41.836714203999996,48.9872698,8.536402356,35.75425543054136,48.587373719999995,21.601283079999998,28.79941252,32.823194456,79.29663476,11.654902304,66.78067543054136,61.09446836,48.67011084,40.1964508,26.258003984,13.45857152,47.739318239999996,23.696600644,27.827251359999998,31.35047372,60.32225524,48.695621452,39.0932892,33.116911232,37.32823064,50.69717028,13.565440299999999,33.68779736,53.46196904,16.503987012,61.85584685418796,60.2946762,43.01296026,77.29715436,56.847296199999995,55.495923239999996,15.049192651999999,17.83674412,19.765208492,24.53845084,21.946021079999998,33.56369168,43.0577762,27.681082448,31.026419999999998,2.331807832,42.29245784,15.340841,19.691434559999998,33.70158688,47.782065751999994,56.141962252,24.8900836,29.870858223999996,58.60546,24.90387312,13.395533715270679,23.786922,33.72916592,52.04164848,31.35047372,37.9556538,57.59882504,29.447519959999997,23.8903434,67.69964844,34.73580088,39.056057496,25.0969264,45.3675208,28.096147,23.221551679999997,40.14818748,42.14008364399999,37.34202016,44.13335876,60.280886679999995,49.77327244,59.590425715270676,17.959470848000002,24.104080959999997,26.94472208,31.966865263999996,28.23748958,16.10960674,54.27555072,18.746162964,24.91766264,40.85834776,11.46598588,38.407950056000004,25.2003478,79.40005615999999,23.51802636,66.42411784,39.45181672,29.7853632,22.347985588,55.89581932,30.12320644,67.568648,53.52402188,13.29309728,24.0971862,14.98920824,39.58281716,48.846616696,11.957582268,39.37597436,19.98790924,39.455953576,39.421479776,24.483292759999998,59.19840936,66.69990824,49.973220479999995,40.7135578,39.699338604,20.27748916,17.57474324,33.082437432,41.05140104,56.14403068,43.377003588,15.08573488,77.29715436,32.83974188,37.437857324,23.744174488,56.3991368,43.388724679999996,44.698039603999995,32.720462532,53.90323368,7.74971024,47.8151606,59.89478012,38.01770664,68.75060685418796,6.883728383999999,76.80073164,11.85209244,8.48744956,49.20100736,32.768036376000005,33.21205892,17.9953236,23.80071152,6.902344236,18.12632404,10.535882756,25.510612,13.461329424,25.48303296,55.647607959999995,32.96384756,19.41564416,22.94576128,19.691434559999998,18.033934256,52.908319811999995,23.24519085418796,25.68987576,17.95395504,43.698299404,15.575262839999999,25.422359072,29.15794004,22.435549039999998,22.53207568,21.179323768,33.398217439999996,48.97348028,22.489328168,67.30664712,39.6103962,45.08483564,38.461039708,46.931941843999994,40.59634688,30.44726016,24.290928956,49.99390476,8.06342182,16.27852836,40.38950408,23.639177145812038,21.066249704,43.25082948,20.91870184,33.798802996,44.02993736,9.84965714581204,25.62092816,24.44881896,76.23536132,15.748321315999998,58.522722879999996,7.8393421199999995,17.275510655999998,27.22051248,71.29871315999999,68.09954452,24.65566176,26.91369566,33.399596392,29.39236188,29.89223198,46.80163088,31.25394708,55.55108132,28.99936056,39.300132,10.335934715999999,79.98611076,47.27736932,25.021084039999998,24.39366088,43.733462679999995,49.80085148,9.011451319999999,11.414275179999999,33.5430074,55.82687172,46.89815752,31.74347504,35.36322404,35.34253976,65.99664272,30.2335226,35.314271244,36.93522932,12.73462172,11.169511199999999,38.60376124,44.6090972,41.15137506,12.788400847999998,12.17614616,33.0431373,21.859147104,41.052779992,71.29871315999999,47.7117392,46.2293658,26.74477404,41.540929,26.91714304,55.94408264,17.8229546,61.23581094,15.340841,31.419421319999998,21.91154728,16.87837248,52.42086028,37.171030112,39.64487,50.655112243999994,13.52062436,35.9561734,47.13257936,56.095767359999996,19.35014394,32.068218236,18.19871902,60.2946762,13.33446584,27.923778,33.60506024,71.29871315999999,36.447769788,33.488834284729315,38.45897128,38.70028788,33.79811352,19.41564416,39.48629052,59.30183076,80.19984832,32.051670812,21.859147104,56.7438748,10.53519328,25.965666159999998,4.9035533120000006,41.940825079999996,41.934619796,67.86512268,13.089012384,51.021224,52.95865156,28.98557104,17.96429718,29.54897143054136,41.244454319999996,58.78472376,12.459520796,34.67374804,41.684340008,16.889404096,25.216895223999998,66.59648684,51.331488199999995,33.019005639999996,30.12320644,13.293786756,34.77027468,38.11423328,35.852751999999995,16.26473884,38.20386516,21.819846971999997,14.49968028,9.735401119999999,10.76272036,17.165883972,14.54104884,36.63875464,50.07664188,36.964187312,44.296075096,36.34917472,56.061293559999996,19.10537996,24.281965768,36.349864196,15.069975430541358,25.460969728000002,38.70028788,43.377003588,67.11359384,27.234302,19.199148695999998,29.41304616,29.654362759999998,13.62404576,40.14818748,29.55094136,32.66047812,56.69561148,11.483912255999998,35.225328839999996,42.32693164,33.003837168,51.25564584,21.917063088,38.215586251999994,77.29715436,52.426376088,37.231704,26.22766704,38.99676256,24.986610239999997,22.83544512,12.24509376,39.604880392,15.520104759999999,65.19685056,55.89581932,39.358047983999995,17.576122192,40.934879596,12.052040479999999,24.404692496,23.52492112,39.300132,55.45455468,37.431652039999996,69.83702404,31.35047372,46.20178676,46.38794528,35.3011712,28.62704352,31.874475479999997,20.593958644,12.5484632,33.664355176,15.091250688,69.65776027999999,59.76377968,36.443632932,22.93197176,42.030456959999995,32.626693796000005,66.82401392,71.98818916,74.3649114581204,72.09850532,36.990387399999996,21.53923024,37.431652039999996,64.30053176,7.3153403599999995,38.60376124,22.89749796,32.01138571527068,27.67556664,40.062002979999995,56.49566344,70.69886903999999,46.6430514,31.971002119999998,32.72253096,23.786922,32.956952799999996,55.15808,10.38350856,74.4978818,53.72396992,30.881630039999997,13.54130864,43.5748832,21.504756439999998,52.826961643999994,33.0603742,50.77301264,19.539060364,42.131120456,35.3011712,41.542997428,47.401475,51.732763231999996,19.98790924,15.04436632,29.592309919999998,42.126983599999996,52.30364936,39.382869119999995,39.14844728,36.3009114,44.32641204,23.404952295999998,22.629981272,15.615941924,23.83518532,35.225328839999996,31.17810472,27.874825204,38.56239268,54.315540328,42.63719584,33.301690799999996,12.541568439999999,4.782205536,29.06830816,34.23937816,32.88455782,49.89737812,31.53663224,33.70158688,32.763899519999995,37.91428524,25.559564796,17.43684804,57.21823428799999,50.526869708,14.306626999999999,19.009542795999998,10.089791784,13.18278112,13.52062436,30.275580636,52.516697443999995,81.75116932,28.46846404,40.85834776,71.29871315999999,17.36790044,55.89581932,62.5009994,26.233182848000002,34.20490436,41.40992856,9.617500724000001,17.22311048,44.38846488,19.765208492,50.511011759999995,39.05192064,25.11662571527068,35.570066839999996,44.27814872,50.60064364,68.29949256,31.178794196000002,62.052839999999996,39.2311844,15.030576799999999,17.596806471999997,36.56291228,59.79825348,56.8128224,53.300631656,37.997022359999995,64.30053176,77.29715436,38.610656,10.787541496,34.48758952,53.65502232,13.22414968,63.3973182,36.93522932,25.3727168,12.17614616,37.16965116,51.0556978,21.91154728,44.298833,53.77223324,21.29101888,45.2985732,18.415903959999998,42.620648416,60.949678399999996,31.11605188,15.43736764,24.24197616,42.79577532,21.96670536,38.630650804,26.0621928,24.42813468,27.77209328,31.899986092,56.619079643999996,33.27411176,11.57630204,30.219733079999997,56.61287436,33.306517131999996,29.93015316,24.00065956,46.234192132,79.29663476,41.719503284,33.398217439999996,51.03501352,14.98920824,28.021683592,32.39847724,53.104130996,35.3011712,14.796154959999999,30.079769451999997,37.265488323999996,50.94882902,43.698299404,21.6495464,23.07676172,24.065470304,10.0318758,58.798513279999995,25.17966352,24.437787344,60.2946762,40.65839972,7.507014687999999,55.59934464,36.3009114,74.69782984,9.561653168,44.207822168,13.19657064,27.935499091999997,26.04840328,32.109882284729316,78.80021203999999,26.40003604,56.63355864,15.691094808,25.083136879999998,51.021224,37.25928304,42.42345828,43.49904084,23.523542168,25.55887532,31.640053639999998,12.83804312,33.963587759999996,49.20100736,15.569747031999999,28.991086848000002,65.19685056,12.37264682,41.885667,25.745033839999998,40.0585556,46.2293658,23.73865868,43.565230536,41.05140104,32.8535314,31.023662096000002,60.19814956,65.90701084,73.29819356,44.27814872,52.20022796,26.859916531999996,40.759063216,11.46598588,21.78054684,40.56876784,28.296095039999997,18.287661424,14.2032056,44.51946532,14.843728804,21.26343984,39.39665864,52.44154456,35.3011712,41.09966436,24.28334472,25.17966352,61.797733879999996,23.69039536,31.2677366,9.131420144,36.804918356,30.84715624,42.54756396,19.00885332,25.10382116,44.63667624,38.995383608,9.307926,55.55108132,38.76923548,45.83636448,74.16693332,22.752708,27.742445811999996,29.86810032,49.185149411999994,24.3385028,44.523602176000004,68.4994406,31.6469484,37.427515183999994,67.79617508,36.4388066,55.020184799999996,39.004642284729314,32.53292506,73.69808963999999,19.93275116,8.374375495999999,10.222171176,14.596896395999998,43.69898888,7.723510152,31.35047372,44.868340176000004,45.3675208,29.7508894,26.14492992,55.19944856,29.231713971999998,51.04190828,65.909079268,79.29663476,9.738159024,54.896079119999996,37.36270444,51.72448952,20.72564856,52.82075636,32.102692036,71.62276688,35.86585204399999,35.101223159999996,46.24315532,31.84000168,33.398217439999996,57.21271848,43.942373908,7.675936308,18.0297974,31.875164956000003,75.49762199999999,24.40055564,8.204074924,46.68441996,3.31982694,21.02212324,41.36856,27.04124872,44.42293868,34.39795764,20.96696516,36.96970312,6.26733684,15.41668336,39.435269296,50.732333556],\"y\":[39.84953898685305,30.64406756711949,31.639011657761884,24.75854434911684,52.582442517087195,22.665094346191434,21.871535753486935,21.232319566477006,27.35108926926857,23.234392802283104,21.32464295802729,39.89488550374301,19.634718893214,39.53679653159102,59.62602534116935,31.62184818375283,40.36709114406948,35.39504382797025,40.66293927195827,38.337361759970435,24.382775859539777,33.00490663942202,32.48132281003961,46.06443929676426,36.47280583881072,36.77917472073225,61.35071411943794,20.724368864672435,36.776179261806824,29.590556037693922,32.05068164736575,35.325724378196014,29.215056100304437,62.17859539506089,58.98137280053262,28.856809411215323,42.75433720953219,33.1899732078742,27.01752018368625,29.558524133542264,50.540653367773814,27.748370457412673,35.91588702980988,14.890143541692915,10.834955111296246,40.44719275352052,37.71725435052326,31.0974563179043,38.15841835108878,21.46597664246955,22.64895733140481,19.320150019314987,63.655465948532175,33.50419510800487,38.35693573784575,73.32548703090939,44.88376618263421,33.52939303239633,30.760881664728736,50.076190470377405,31.98616297457205,33.71498191407414,24.00732230246352,34.32340341405361,57.52593756613203,30.061351183493713,26.072955335204625,39.59940452795674,32.54356938822527,52.39959927021618,38.586555925458526,29.01331566893156,55.794088741834116,24.075131505712108,22.791965990317504,41.47246979559322,54.1067360765132,39.8120994034024,25.55609970295569,35.97035680001482,33.629117798332246,49.606293095525956,63.81387250829691,31.708951632489743,27.37589989654723,57.66623225727306,33.239579147426866,37.62981341751659,67.41945947057906,32.05704099519037,50.042342114604395,35.815764715729486,37.52423543781369,35.910844564716484,29.424402842452718,53.81105660769079,20.728924830794654,16.141352136042386,55.09465474841454,28.519659200611734,14.840351644702032,22.26058248688078,36.063858793841995,27.886454610224757,41.91279565981736,33.536506648287954,67.5073176543015,26.22940624667376,51.5728133125475,43.77734411563965,33.58091182370324,49.64093324217253,19.564967968806982,36.21198427525264,20.58940751365798,34.791759393787004,40.63574922676311,38.76556893715112,24.237725776568606,31.985205889707185,26.97462387104953,28.553463313112566,42.034936317515815,51.279777431534185,56.21728756830056,39.73024877719038,17.816722729073444,47.433442628725665,37.87705064288412,25.387584197109963,48.644284452590355,27.39145173153436,64.6995636005631,16.089299302340134,55.42760232083006,54.643405875977436,40.42966886786577,64.3471720072774,25.586778511077085,25.110155143699707,41.00683897448182,27.075607938641433,23.421447446033255,34.99612487968972,41.533236032057594,45.32567001019167,33.034108224847344,39.12790615280444,47.758954815118344,50.909114401058275,24.518176296041972,30.197813311236683,38.40351340249273,24.16954035120556,59.27393712363856,57.141254152158325,70.90043802318617,58.98944953477431,41.25594001607198,54.757571324430955,24.733993993901322,25.44864888486208,33.522704958073035,24.862294965984766,24.16827323637124,38.363009433848376,39.3366523021048,34.21331753408856,22.680172945946904,9.22019216921359,33.40078492666089,23.673256605451293,16.764728869188257,32.92662692187591,39.44501767722038,79.2697052468132,23.57460395319768,32.88234196401885,49.332026273076316,25.39051223818616,30.320622229431844,24.735733515979657,32.69748442975468,48.03297630308887,29.296778834900437,37.24528148631387,62.09132292635649,28.432749575445534,41.76594132950331,51.06024465106688,35.72006806005646,30.00853635603263,26.155392029552168,48.754991392068156,46.82286525643387,26.612766988079443,35.1265572408787,35.59347298089795,38.16864287804922,43.63042499815064,51.58999511841877,37.90743538777734,60.34816513376734,23.726563649341827,40.07195490010409,25.594380459141224,24.469569526197365,25.9212125511669,33.57812104645052,50.93792735436408,16.456314693881893,24.631654960279928,36.93100766986191,13.013420053127298,70.80582688278878,50.927779621189075,67.69663439543282,25.713425966268897,49.774080012088206,35.17617574496434,73.30831067764777,17.856978240061146,51.05380608469705,29.923716970597912,54.43656876647856,41.50859774453623,19.657858044098447,45.49503762273652,18.923139211295595,29.896080851388742,41.5739381990661,21.571546965388332,43.092665547381884,22.577529210477184,35.16735993524805,39.29462803592514,24.1761175631909,73.69878249684199,68.28655011164196,39.805264727138514,36.066978410406875,48.122815457586825,24.168579925882284,30.7889272210145,32.71305330886337,39.59969663931839,58.647538303273926,38.33271569553108,26.594928440545985,59.73120227123748,34.24380182056049,32.121024252999945,23.624561639824165,62.363588263333874,29.588205602101883,77.76909979192351,25.660314635918617,39.377833101971916,32.67620625217799,41.74404561088662,54.83272471597351,50.966032469090564,56.04671212799012,18.72427324960005,61.9255646859147,19.893863017164165,22.56383975309059,54.31986548746008,28.65914007840734,41.505673240507264,24.688203714624752,33.83298311335015,24.72370739397502,26.173244912629755,17.064278066409976,48.49716396798066,25.071295684155707,22.598020583984148,53.891381394977294,33.045615916629714,25.152662138739675,32.029079638018814,18.01098587273187,20.826556749740913,30.127485683947217,25.947250264475457,22.927481202211617,23.496162820494693,81.1468688193292,20.76676286217494,49.136995172438624,27.29948573749571,21.401112689107457,22.538398265078683,24.255938746348573,52.41545369180531,46.941367026427244,35.63366108823485,53.044308362025745,36.992511586871345,40.27802998474431,36.7465024871658,42.03602478009589,59.62418843237632,36.27696261851016,17.342814714042433,45.35429862794067,23.705206067357953,23.781103674610875,39.12674796287987,48.02041978232625,31.531979494321263,32.54213747515374,23.96871645994556,33.14379562249309,51.14664501444069,17.920957918811528,25.446937935032366,21.728181095937035,52.43450998832882,25.329465306855425,46.27679206287506,10.973368207922832,14.698822562992095,26.349826708592513,55.49089688107554,65.13636986229122,24.229674013511552,32.25118216340759,32.055471739402414,31.139328679325168,22.052734704445683,53.55917660665319,29.711946770152537,54.866873031852094,52.48935101096025,53.41777033218885,12.73141217847289,54.08678687470419,46.36095102312486,49.53306698530842,36.340096992401136,34.43556686836684,51.94591421578699,25.625290556624254,19.066810489941904,36.94259821892429,40.807109185384576,58.022328692478816,26.430839788318714,49.52832793545354,36.68234619095106,57.72451582120233,24.978899229877673,34.43468092406492,33.54246080698389,15.274225865077998,12.844191295997462,33.033975000768784,35.16476269001133,71.99120625398635,33.23151260175187,20.80802723494022,41.1551959354999,37.53752972472889,87.89685007529182,54.93412000347459,37.03203005185048,48.89373279370202,45.90936305378691,35.20697720070756,26.232379456012424,48.469453173547556,34.76083218635155,45.11483028200642,27.346339041981704,24.68629370295905,31.860524139032538,23.2405387548929,40.044087349253616,31.978685121263,30.936990068280103,60.916241753666036,18.433459533759386,38.03378571124237,32.71124776360009,54.10684961043108,25.82218786168326,31.004992086393315,25.705633988849815,57.0626781922751,25.213977807659877,28.53545865477561,29.242956767395015,54.93412000347459,30.30190992033976,51.249206821082325,36.98446191813591,39.44423646966842,33.124419170776996,30.786193757283566,39.59188235473711,48.0178012029228,60.38713537425235,35.08802086403365,27.481294695490273,48.57069663640375,17.476983740333463,19.031217957400195,13.830170784617927,40.42306172500469,89.27681718612604,48.82588070773781,25.415470695206952,54.40102315219837,47.526116488237314,35.27360361593624,15.245505615128991,51.15206225340816,82.61992841631556,59.01826702038123,16.493759650783897,33.54961160818918,37.60771191437213,24.715722034308342,21.988489343914154,64.48418817234072,37.38814389307586,29.822653998952905,29.730031498595487,19.571420421984794,47.47951041812013,80.3959459880339,36.589439771878745,21.335524049869356,33.925135932159826,40.73005392941446,16.763421934727262,17.922767658230526,20.22017889836912,19.267677145586706,30.650138386183347,33.17632118228121,48.2870360196265,29.127616969982192,81.21186881938974,39.97471545932976,46.4250711003867,25.950874973747457,18.337406314750588,40.03025292587339,18.2208715165293,25.398413382997198,45.51701074737171,39.12536951990327,90.26810494094886,31.725601794279964,26.840107827987886,32.55306260660343,28.208654622234206,23.973777091794297,40.39324795883813,33.50192405804432,28.3152352835264,57.265808094279805,13.475170419018433,21.36052851593796,29.700059577951862,22.505150748946146,39.88726721876514,45.29217173076662,52.360939768791305,59.98589466784023,40.21185312830527,35.745171535464586,32.28589643251509,51.37009049574807,23.51593991474716,22.804235509247427,13.0252009587064,31.180363094733295,23.58663507679703,68.4933022434182,51.47899434501881,36.97445028759448,15.514116895784994,36.59485219453211,11.812048961854046,36.113243550567496,33.62999089984468,50.755208728132075,50.88400591615964,31.78446328096593,50.445015182501876,30.755815778801285,51.69536483032815,34.828625205588004,50.30427440701057,19.259575460181335,27.66752426576869,13.47191717991786,22.145067383258127,27.892184125649003,26.209859027386187,62.59439527468231,48.79566276940551,23.802037747668223,27.554519818172587,39.075895278134624,39.1395407522857,44.26434862077915,53.1515633830539,57.75388297301928,52.6701394184433,33.62002189550952,24.061318644609752,31.827413742377182,62.64099955364472,24.301327137199007,27.242727097215667,51.03052348623578,48.536210260440285,34.215190393120935,30.424788677936263,65.90832457397458,80.26047395838934,40.27467606703096,26.890436541029054,28.31589534789736,24.722948695282362,33.33550388166985,87.04557037095147,18.300049746886273,63.14516422639282,39.91236876016374,37.309402868869704,24.59506817454894,37.561377761167144,26.29851210506827,44.67255768342846,25.660720230715093,32.67087052163255,33.1624702902692,74.99360405626774,50.30427440701057,41.80172455040312,36.16189367279755,63.648447248004246,22.255708706634554,22.622370492035756,32.05724108556181,88.59456892358294,35.71533872653559,42.54482703007652,35.06624098624687,53.09421949503985,42.08483543907701,20.577896578473673,25.364298614032563,19.851647499248493,28.30676070718985,21.58202720999879,33.87187829645976,22.0231839365473,32.6393354793749,50.995399933354506,31.378054732972622,38.08299665684993,16.16727873052684,10.627430470002892,33.63041518340941,31.08999490152999,28.610068273178314,49.93909733838489,29.2416472469291,78.69246126639024,28.29020285612491,35.87077017111461,31.381178029225815,22.966638731807002,40.882580867241224,49.074001567422954,22.30758209444525,22.858175149853324,14.997340142767023,23.540244826721768,21.382857541690466,26.71405941988405,76.97429852328824,48.324796716340344,27.885777261775534,44.28928836111683,54.89664962584369,31.789149388839178,51.43660227969433,66.99093027244815,32.21193170664335,30.499044372075247,35.13148950875813,27.76783350238692,24.155567461090694,41.025665518956046,17.91694831437369,53.75933231047084,30.388212493537967,47.81277611473651,33.04176176651613,36.9799137765365,36.10695473053812,57.251784942573494,33.69111212761882,52.050900174527584,49.91441623535931,19.556570977864524,22.926013828068598,30.60594804821313,53.548550322713275,46.99450898126884,61.32170338594773,48.34949614186115,61.63911845250376,59.5100460873754,48.47183275209842,14.726571441222578,46.67501253727086,47.11528285494518,20.26498537166497,59.71922404262007,41.48143120134584,27.214535049213765,16.327463394665216,32.20184677118737,45.69966058605309,28.023428283773388,36.971972538310105,38.61711760980136,27.85454587882474,42.53262907994688,14.242083303587954,56.79911382631705,47.96997420304909,30.310439937022466,25.320439070362767,38.05139676284914,50.08850297656461,21.90390044969431,35.32754180266287,28.095264606879155,26.042472605784916,28.42836530498433,27.49343549500204,42.03981062201011,27.877741328434986,19.55740491786789,31.739136842098876,42.11823669268648,39.131983160956295,25.967973213835215,28.8182399178751,49.56738074215562,66.92269282461453,49.508536215819106,53.31515448825589,40.6454628427876,25.229317082399227,24.424415444553365,31.44718980535641,45.29463288894573,52.40030711493414,18.871446709289682,29.680640800452558,35.86561672063331,44.89404418287979,86.2962487492774,21.926338407852207,30.0962653533446,29.25103628872403,20.093265214969122,65.85048686221344,23.06321341993432,44.14603980543711,57.44083224668779,39.996871434865064,23.788148279588192,54.39554948904279,31.657906756433977,57.66427131461248,35.57957525897424,53.365169480475394,16.965570666999895,39.288461233698825,29.852603219487243,48.51445446361892,46.03920128855688,28.14655253059457,47.94389360951519,30.02018280809533,68.9705417918262,50.00702216957221,35.83780288562218,47.13654871291095,34.332399990664676,36.23880634467285,31.897509998271826,29.279169882117312,10.907396390527381,30.44014443889406,53.97526292960494,24.677788994054257,34.91766011383413,67.837540197936,35.82289191661598,33.714324208622386,30.33456245411764,28.98191425662045,44.04493470849296,24.26194410522381,39.92933201008946,54.43911561209724,43.12928742639238,28.417276358953362,61.4578981321188,48.43741508152684,69.32375858918066,40.407494921555674,57.408413183904344,28.027326272044327,55.515865395590794,32.80229713898233,31.796941618566482,40.02850447487847,53.53859355618108,24.180074864139502,18.308921543375405,52.64409892748868,19.669659205649555,16.07640396525062,31.018467780121917,43.00421295713842,52.40030711493414,50.88141941476101,22.45237417541009,21.70127208624328,57.56828858373444,27.29605863671671,28.821458348065242,19.847928831228465,34.33515780273429,34.04831956240167,33.932256677745265,22.900438276830897,26.573331654340585,34.44684168396543,83.50184816065257,11.439147519025646,51.47625542454302,34.736405189492444,40.76480960745006,91.25920459516388,48.094758013129415,28.068311051545322,32.49552471702602,30.57987986388195,29.736078003174164,50.0906386079137,54.03728256321358,26.864727262309852,30.94216296878653,60.33750606853102,23.744377760799136,46.468822956517826,48.41243264098416,28.151397036930607,58.59060449314115,21.214006440495258,12.528523743618209,13.842786484747005,17.251963864390746,33.65242088807529,10.567988884389557,27.844947710948077,27.90927908181082,39.571514428738176,28.95248940342872,28.83223694014339,56.28616701042559,24.06533603381655,68.17025828953182,48.26605558875845,65.20411821128283,17.998354250716893,64.81718323758248,31.883218113215605,39.33123471498395,25.53708167368325,44.88340085922537,28.865277695526746,76.62352696325502,36.451996993494575,46.67754027874929,33.45642830780568,27.085504527199795,53.69641966053034,40.962940989107686,40.50020852303313,11.863722478993054,20.760496645236316,27.624141933756007,64.28225690555024,47.47398468499044,13.192311923329033,52.08427991311944,13.25892538366304,32.57734269620733,50.17429547080015,21.899477923686135,53.927125436934084,51.137260904283494,20.761147441204194,32.62638780543763,26.54126958721429,26.61356359601836,51.41681766609385,47.16159671627726]}},\"id\":\"4d649017-1697-441b-a57b-528fee233bc9\",\"type\":\"ColumnDataSource\"},{\"attributes\":{\"plot\":{\"id\":\"8ea4d990-7958-495c-a3fe-447e9976630c\",\"subtype\":\"Figure\",\"type\":\"Plot\"}},\"id\":\"0647de93-b50b-4193-9a43-ef1d8738f7cc\",\"type\":\"WheelZoomTool\"},{\"attributes\":{},\"id\":\"662831e8-761c-4e6c-a4e9-2a42703e3269\",\"type\":\"BasicTickFormatter\"},{\"attributes\":{},\"id\":\"b3a7b52b-8ac0-4b3d-9229-33fda7b340f4\",\"type\":\"BasicTicker\"},{\"attributes\":{\"callback\":null,\"column_names\":[\"y\",\"x\"],\"data\":{\"x\":[2.331807832,82.5992248],\"y\":[2.331807832,82.5992248]}},\"id\":\"7474a3d6-4396-40ef-89ae-1fcc8e99993c\",\"type\":\"ColumnDataSource\"},{\"attributes\":{\"callback\":null,\"overlay\":{\"id\":\"e960906e-ece1-4661-ab2c-0693055905f7\",\"type\":\"BoxAnnotation\"},\"plot\":{\"id\":\"8ea4d990-7958-495c-a3fe-447e9976630c\",\"subtype\":\"Figure\",\"type\":\"Plot\"},\"renderers\":[{\"id\":\"c1958a96-1289-4144-9f00-f3b18e1c23c2\",\"type\":\"GlyphRenderer\"},{\"id\":\"4f2fd52a-a7be-425d-9851-cc8b09e7cedf\",\"type\":\"GlyphRenderer\"}]},\"id\":\"dd42a4c7-7cb7-4ada-8358-5eb856f9cb1a\",\"type\":\"BoxSelectTool\"},{\"attributes\":{\"data_source\":{\"id\":\"4d649017-1697-441b-a57b-528fee233bc9\",\"type\":\"ColumnDataSource\"},\"glyph\":{\"id\":\"8380426a-f732-46e8-905d-38b4ad5c61a0\",\"type\":\"Circle\"},\"hover_glyph\":null,\"nonselection_glyph\":{\"id\":\"25fcbea6-c1ca-4608-9599-e62ce2681d0d\",\"type\":\"Circle\"},\"selection_glyph\":null},\"id\":\"c1958a96-1289-4144-9f00-f3b18e1c23c2\",\"type\":\"GlyphRenderer\"},{\"attributes\":{\"overlay\":{\"id\":\"3f69b79f-0f3f-4679-b876-47da429c6123\",\"type\":\"PolyAnnotation\"},\"plot\":{\"id\":\"8ea4d990-7958-495c-a3fe-447e9976630c\",\"subtype\":\"Figure\",\"type\":\"Plot\"}},\"id\":\"c3e05b9e-e5e0-49da-8eef-b7f91cfd38aa\",\"type\":\"PolySelectTool\"},{\"attributes\":{\"axis_label\":\"Measured\",\"axis_label_text_color\":{\"value\":\"#aa6666\"},\"formatter\":{\"id\":\"62c15adf-3d24-4c6d-899a-bfbcbf422421\",\"type\":\"BasicTickFormatter\"},\"major_tick_line_color\":{\"value\":\"firebrick\"},\"major_tick_line_width\":{\"value\":3},\"minor_tick_line_color\":{\"value\":\"orange\"},\"plot\":{\"id\":\"8ea4d990-7958-495c-a3fe-447e9976630c\",\"subtype\":\"Figure\",\"type\":\"Plot\"},\"ticker\":{\"id\":\"827d7638-bb03-4935-976b-d209844677c8\",\"type\":\"BasicTicker\"}},\"id\":\"39556fb6-8d9f-4540-8a8d-9827cd095d8a\",\"type\":\"LinearAxis\"},{\"attributes\":{\"callback\":null,\"plot\":{\"id\":\"8ea4d990-7958-495c-a3fe-447e9976630c\",\"subtype\":\"Figure\",\"type\":\"Plot\"}},\"id\":\"e85524f8-c1a9-4f23-9703-365898d26efb\",\"type\":\"TapTool\"},{\"attributes\":{\"plot\":{\"id\":\"8ea4d990-7958-495c-a3fe-447e9976630c\",\"subtype\":\"Figure\",\"type\":\"Plot\"}},\"id\":\"da1414fb-b12d-4246-b5dc-e85cb36ce760\",\"type\":\"ResizeTool\"},{\"attributes\":{\"fill_alpha\":{\"value\":0.1},\"fill_color\":{\"value\":\"#1f77b4\"},\"line_alpha\":{\"value\":0.1},\"line_color\":{\"value\":\"#1f77b4\"},\"line_width\":{\"value\":3},\"x\":{\"field\":\"x\"},\"y\":{\"field\":\"y\"}},\"id\":\"25fcbea6-c1ca-4608-9599-e62ce2681d0d\",\"type\":\"Circle\"},{\"attributes\":{\"plot\":{\"id\":\"8ea4d990-7958-495c-a3fe-447e9976630c\",\"subtype\":\"Figure\",\"type\":\"Plot\"}},\"id\":\"dda1cc86-7b9c-42ea-8e3c-dead1c7973c1\",\"type\":\"ResetTool\"},{\"attributes\":{\"align\":\"center\",\"plot\":null,\"text\":null},\"id\":\"7f5e9421-7ccc-4635-83b0-d0f1ac811af4\",\"type\":\"Title\"},{\"attributes\":{\"plot\":{\"id\":\"8ea4d990-7958-495c-a3fe-447e9976630c\",\"subtype\":\"Figure\",\"type\":\"Plot\"}},\"id\":\"6f313f27-caed-41e7-92ef-d8dc2bc987fb\",\"type\":\"UndoTool\"},{\"attributes\":{\"line_alpha\":{\"value\":0.1},\"line_color\":{\"value\":\"#1f77b4\"},\"line_dash\":[4,4],\"line_width\":{\"value\":2},\"x\":{\"field\":\"x\"},\"y\":{\"field\":\"y\"}},\"id\":\"a7721570-adf7-415a-a3e6-d7da93c6ec1f\",\"type\":\"Line\"},{\"attributes\":{\"callback\":null},\"id\":\"a9c65964-9215-4fc5-87cd-9410f045a1d9\",\"type\":\"DataRange1d\"},{\"attributes\":{\"bottom_units\":\"screen\",\"fill_alpha\":{\"value\":0.5},\"fill_color\":{\"value\":\"lightgrey\"},\"left_units\":\"screen\",\"level\":\"overlay\",\"line_alpha\":{\"value\":1.0},\"line_color\":{\"value\":\"black\"},\"line_dash\":[4,4],\"line_width\":{\"value\":2},\"plot\":null,\"render_mode\":\"css\",\"right_units\":\"screen\",\"top_units\":\"screen\"},\"id\":\"bbfd6fbe-4f03-40da-bf5d-c078e4c93aa2\",\"type\":\"BoxAnnotation\"},{\"attributes\":{\"callback\":null},\"id\":\"c0fc0751-e7ce-4e06-9379-2cea9f4b3b4b\",\"type\":\"DataRange1d\"},{\"attributes\":{\"overlay\":{\"id\":\"bbfd6fbe-4f03-40da-bf5d-c078e4c93aa2\",\"type\":\"BoxAnnotation\"},\"plot\":{\"id\":\"8ea4d990-7958-495c-a3fe-447e9976630c\",\"subtype\":\"Figure\",\"type\":\"Plot\"}},\"id\":\"1e3083b5-3256-47ee-af5d-b0661a63127a\",\"type\":\"BoxZoomTool\"}],\"root_ids\":[\"8ea4d990-7958-495c-a3fe-447e9976630c\"]},\"title\":\"Bokeh Application\",\"version\":\"0.12.2\"}};\n",
       "            var render_items = [{\"docid\":\"87946a10-675b-4e3f-96a3-54619dd791a7\",\"elementid\":\"6e4475ea-de98-4a7e-ac27-653363c199a8\",\"modelid\":\"8ea4d990-7958-495c-a3fe-447e9976630c\"}];\n",
       "            \n",
       "            Bokeh.embed.embed_items(docs_json, render_items);\n",
       "        });\n",
       "      },\n",
       "      function(Bokeh) {\n",
       "      }\n",
       "    ];\n",
       "  \n",
       "    function run_inline_js() {\n",
       "      \n",
       "      if ((window.Bokeh !== undefined) || (force === \"1\")) {\n",
       "        for (var i = 0; i < inline_js.length; i++) {\n",
       "          inline_js[i](window.Bokeh);\n",
       "        }if (force === \"1\") {\n",
       "          display_loaded();\n",
       "        }} else if (Date.now() < window._bokeh_timeout) {\n",
       "        setTimeout(run_inline_js, 100);\n",
       "      } else if (!window._bokeh_failed_load) {\n",
       "        console.log(\"Bokeh: BokehJS failed to load within specified timeout.\");\n",
       "        window._bokeh_failed_load = true;\n",
       "      } else if (!force) {\n",
       "        var cell = $(\"#6e4475ea-de98-4a7e-ac27-653363c199a8\").parents('.cell').data().cell;\n",
       "        cell.output_area.append_execute_result(NB_LOAD_WARNING)\n",
       "      }\n",
       "  \n",
       "    }\n",
       "  \n",
       "    if (window._bokeh_is_loading === 0) {\n",
       "      console.log(\"Bokeh: BokehJS loaded, going straight to plotting\");\n",
       "      run_inline_js();\n",
       "    } else {\n",
       "      load_libs(js_urls, function() {\n",
       "        console.log(\"Bokeh: BokehJS plotting callback run at\", now());\n",
       "        run_inline_js();\n",
       "      });\n",
       "    }\n",
       "  }(this));\n",
       "</script>"
      ]
     },
     "metadata": {},
     "output_type": "display_data"
    }
   ],
   "source": [
    "# Plotining using bokeh\n",
    "#TOOLS = [BoxSelectTool(), HoverTool()]\n",
    "#TOOLS = 'hover,box_zoom,box_select,crosshair,resize,reset,SVR_select,pan,save,poly_select,tap,wheel_zoom,undo'\n",
    "TOOLS = 'box_zoom,box_select,crosshair,resize,reset,lasso_select,pan,save,poly_select,tap,wheel_zoom,undo'\n",
    "p = figure(plot_width=500, plot_height=500, tools=TOOLS)\n",
    "p.scatter(Y, predicted,x=\"jjj\", marker=\"o\", color=\"#80B1D3\", line_width=3)\n",
    "p.title.align = \"center\"\n",
    "p.xaxis.axis_label = \"Measured\"\n",
    "p.xaxis.axis_label_text_color = \"#aa6666\"\n",
    "#p.xaxis.axis_label_standoff = 30\n",
    "p.xaxis.major_tick_line_color = \"firebrick\"\n",
    "p.xaxis.major_tick_line_width = 3\n",
    "p.xaxis.minor_tick_line_color = \"orange\"\n",
    "p.yaxis.axis_label = \"Predicted\"\n",
    "p.yaxis.axis_label_text_font_style = \"italic\"\n",
    "p.yaxis.axis_label_text_color = \"#aa6666\"\n",
    "p.background_fill_color = \"beige\"\n",
    "p.background_fill_alpha = 0.5\n",
    "#p.line([Y.min(), Y.max()], [Y.min(), Y.max()], line_dash=\"4 4\", line_width=2, color='red')\n",
    "\n",
    "# create a new plot with the toolbar below\n",
    "# line_dash=\"4 4\", line_width=2, color='red'\n",
    "p.line([Y.min(), Y.max()], [Y.min(), Y.max()], line_dash=\"4 4\", line_width=2, line_color=\"black\")\n",
    "show(p)"
   ]
  },
  {
   "cell_type": "code",
   "execution_count": 25,
   "metadata": {
    "collapsed": false
   },
   "outputs": [
    {
     "data": {
      "text/plain": [
       "<matplotlib.text.Text at 0x7fe8e3ca9c10>"
      ]
     },
     "execution_count": 25,
     "metadata": {},
     "output_type": "execute_result"
    },
    {
     "data": {
      "image/png": "[encoded data removed]",
      "text/plain": [
       "<matplotlib.figure.Figure at 0x7fe8e0717dd0>"
      ]
     },
     "metadata": {},
     "output_type": "display_data"
    }
   ],
   "source": [
    "plt.scatter(predicted, (predicted - Y), c='r', s=30)\n",
    "plt.title(\"Residual plot on the training data\")\n",
    "plt.xlabel(\"Predicted\")\n",
    "plt.ylabel(\"Residuals\")"
   ]
  },
  {
   "cell_type": "code",
   "execution_count": 26,
   "metadata": {
    "collapsed": false
   },
   "outputs": [
    {
     "data": {
      "text/html": [
       "\n",
       "\n",
       "    <div class=\"bk-root\">\n",
       "        <div class=\"plotdiv\" id=\"4af1ca9d-dbb7-465d-8af3-fc40be06e261\"></div>\n",
       "    </div>\n",
       "<script type=\"text/javascript\">\n",
       "  \n",
       "  (function(global) {\n",
       "    function now() {\n",
       "      return new Date();\n",
       "    }\n",
       "  \n",
       "    var force = \"\";\n",
       "  \n",
       "    if (typeof (window._bokeh_onload_callbacks) === \"undefined\" || force !== \"\") {\n",
       "      window._bokeh_onload_callbacks = [];\n",
       "      window._bokeh_is_loading = undefined;\n",
       "    }\n",
       "  \n",
       "  \n",
       "    \n",
       "    if (typeof (window._bokeh_timeout) === \"undefined\" || force !== \"\") {\n",
       "      window._bokeh_timeout = Date.now() + 0;\n",
       "      window._bokeh_failed_load = false;\n",
       "    }\n",
       "  \n",
       "    var NB_LOAD_WARNING = {'data': {'text/html':\n",
       "       \"<div style='background-color: #fdd'>\\n\"+\n",
       "       \"<p>\\n\"+\n",
       "       \"BokehJS does not appear to have successfully loaded. If loading BokehJS from CDN, this \\n\"+\n",
       "       \"may be due to a slow or bad network connection. Possible fixes:\\n\"+\n",
       "       \"</p>\\n\"+\n",
       "       \"<ul>\\n\"+\n",
       "       \"<li>re-rerun `output_notebook()` to attempt to load from CDN again, or</li>\\n\"+\n",
       "       \"<li>use INLINE resources instead, as so:</li>\\n\"+\n",
       "       \"</ul>\\n\"+\n",
       "       \"<code>\\n\"+\n",
       "       \"from bokeh.resources import INLINE\\n\"+\n",
       "       \"output_notebook(resources=INLINE)\\n\"+\n",
       "       \"</code>\\n\"+\n",
       "       \"</div>\"}};\n",
       "  \n",
       "    function display_loaded() {\n",
       "      if (window.Bokeh !== undefined) {\n",
       "        Bokeh.$(\"#4af1ca9d-dbb7-465d-8af3-fc40be06e261\").text(\"BokehJS successfully loaded.\");\n",
       "      } else if (Date.now() < window._bokeh_timeout) {\n",
       "        setTimeout(display_loaded, 100)\n",
       "      }\n",
       "    }\n",
       "  \n",
       "    function run_callbacks() {\n",
       "      window._bokeh_onload_callbacks.forEach(function(callback) { callback() });\n",
       "      delete window._bokeh_onload_callbacks\n",
       "      console.info(\"Bokeh: all callbacks have finished\");\n",
       "    }\n",
       "  \n",
       "    function load_libs(js_urls, callback) {\n",
       "      window._bokeh_onload_callbacks.push(callback);\n",
       "      if (window._bokeh_is_loading > 0) {\n",
       "        console.log(\"Bokeh: BokehJS is being loaded, scheduling callback at\", now());\n",
       "        return null;\n",
       "      }\n",
       "      if (js_urls == null || js_urls.length === 0) {\n",
       "        run_callbacks();\n",
       "        return null;\n",
       "      }\n",
       "      console.log(\"Bokeh: BokehJS not loaded, scheduling load and callback at\", now());\n",
       "      window._bokeh_is_loading = js_urls.length;\n",
       "      for (var i = 0; i < js_urls.length; i++) {\n",
       "        var url = js_urls[i];\n",
       "        var s = document.createElement('script');\n",
       "        s.src = url;\n",
       "        s.async = false;\n",
       "        s.onreadystatechange = s.onload = function() {\n",
       "          window._bokeh_is_loading--;\n",
       "          if (window._bokeh_is_loading === 0) {\n",
       "            console.log(\"Bokeh: all BokehJS libraries loaded\");\n",
       "            run_callbacks()\n",
       "          }\n",
       "        };\n",
       "        s.onerror = function() {\n",
       "          console.warn(\"failed to load library \" + url);\n",
       "        };\n",
       "        console.log(\"Bokeh: injecting script tag for BokehJS library: \", url);\n",
       "        document.getElementsByTagName(\"head\")[0].appendChild(s);\n",
       "      }\n",
       "    };var element = document.getElementById(\"4af1ca9d-dbb7-465d-8af3-fc40be06e261\");\n",
       "    if (element == null) {\n",
       "      console.log(\"Bokeh: ERROR: autoload.js configured with elementid '4af1ca9d-dbb7-465d-8af3-fc40be06e261' but no matching script tag was found. \")\n",
       "      return false;\n",
       "    }\n",
       "  \n",
       "    var js_urls = [];\n",
       "  \n",
       "    var inline_js = [\n",
       "      function(Bokeh) {\n",
       "        Bokeh.$(function() {\n",
       "            var docs_json = {\"7b370e02-d7b1-4b6e-b23a-c5e2d5d9af3d\":{\"roots\":{\"references\":[{\"attributes\":{\"axis_label\":\"Predicted\",\"axis_label_text_color\":{\"value\":\"#aa6666\"},\"formatter\":{\"id\":\"78ecca9a-2cf3-4124-8c44-eccef338de7d\",\"type\":\"BasicTickFormatter\"},\"major_tick_line_color\":{\"value\":\"firebrick\"},\"major_tick_line_width\":{\"value\":3},\"minor_tick_line_color\":{\"value\":\"orange\"},\"plot\":{\"id\":\"25006c8a-03dc-435e-b377-5394a7fbcb61\",\"subtype\":\"Figure\",\"type\":\"Plot\"},\"ticker\":{\"id\":\"11a26e7a-83e9-4b66-8317-4f70b1d081fc\",\"type\":\"BasicTicker\"}},\"id\":\"9645b289-68c7-4998-8354-6585432fab3f\",\"type\":\"LinearAxis\"},{\"attributes\":{\"plot\":{\"id\":\"25006c8a-03dc-435e-b377-5394a7fbcb61\",\"subtype\":\"Figure\",\"type\":\"Plot\"}},\"id\":\"e2b3fa54-24f8-4c5f-b8dc-d74a53ec805d\",\"type\":\"PanTool\"},{\"attributes\":{\"plot\":{\"id\":\"25006c8a-03dc-435e-b377-5394a7fbcb61\",\"subtype\":\"Figure\",\"type\":\"Plot\"}},\"id\":\"1b1e2970-7d2e-4dc5-a1c0-9c2280a9bd4a\",\"type\":\"UndoTool\"},{\"attributes\":{\"active_drag\":\"auto\",\"active_scroll\":\"auto\",\"active_tap\":\"auto\",\"tools\":[{\"id\":\"f0b510e6-876f-4aaf-8fc6-8d8d3d3c88c1\",\"type\":\"BoxZoomTool\"},{\"id\":\"f1bc9aa9-e07f-4ce5-b839-3cf631860f7c\",\"type\":\"BoxSelectTool\"},{\"id\":\"c07897e9-2150-42db-bd4d-14b7aa103772\",\"type\":\"CrosshairTool\"},{\"id\":\"016ff4b5-7a09-4f9d-a1ba-8e0c2ba938e1\",\"type\":\"ResizeTool\"},{\"id\":\"17f68cc6-7db1-4e0c-9ce1-94107a0ae021\",\"type\":\"ResetTool\"},{\"id\":\"7ff275ca-7d21-4098-a1ef-45d0e3b99a76\",\"type\":\"LassoSelectTool\"},{\"id\":\"e2b3fa54-24f8-4c5f-b8dc-d74a53ec805d\",\"type\":\"PanTool\"},{\"id\":\"deebb9bc-ddd7-4cca-8dd3-0db4422b5d76\",\"type\":\"SaveTool\"},{\"id\":\"1c631191-4f88-44cd-b494-bbb8d18ead2b\",\"type\":\"PolySelectTool\"},{\"id\":\"6e5f836a-804e-448b-a8da-84ef9aca346f\",\"type\":\"TapTool\"},{\"id\":\"71ad5a52-1390-4f6b-a1d2-75fb93b39fa1\",\"type\":\"WheelZoomTool\"},{\"id\":\"1b1e2970-7d2e-4dc5-a1c0-9c2280a9bd4a\",\"type\":\"UndoTool\"}]},\"id\":\"c4972eb2-1f2e-4d19-b9eb-cfdf3772acd5\",\"type\":\"Toolbar\"},{\"attributes\":{\"bottom_units\":\"screen\",\"fill_alpha\":{\"value\":0.5},\"fill_color\":{\"value\":\"lightgrey\"},\"left_units\":\"screen\",\"level\":\"overlay\",\"line_alpha\":{\"value\":1.0},\"line_color\":{\"value\":\"black\"},\"line_dash\":[4,4],\"line_width\":{\"value\":2},\"plot\":null,\"render_mode\":\"css\",\"right_units\":\"screen\",\"top_units\":\"screen\"},\"id\":\"fcc0bbaa-01bb-432d-ac47-8605e797a05f\",\"type\":\"BoxAnnotation\"},{\"attributes\":{\"plot\":{\"id\":\"25006c8a-03dc-435e-b377-5394a7fbcb61\",\"subtype\":\"Figure\",\"type\":\"Plot\"}},\"id\":\"016ff4b5-7a09-4f9d-a1ba-8e0c2ba938e1\",\"type\":\"ResizeTool\"},{\"attributes\":{},\"id\":\"2ae3698d-94af-4e11-8f41-2244b5d40d0d\",\"type\":\"BasicTicker\"},{\"attributes\":{\"callback\":null,\"column_names\":[\"x\",\"y\"],\"data\":{\"x\":[39.84953898685305,30.64406756711949,31.639011657761884,24.75854434911684,52.582442517087195,22.665094346191434,21.871535753486935,21.232319566477006,27.35108926926857,23.234392802283104,21.32464295802729,39.89488550374301,19.634718893214,39.53679653159102,59.62602534116935,31.62184818375283,40.36709114406948,35.39504382797025,40.66293927195827,38.337361759970435,24.382775859539777,33.00490663942202,32.48132281003961,46.06443929676426,36.47280583881072,36.77917472073225,61.35071411943794,20.724368864672435,36.776179261806824,29.590556037693922,32.05068164736575,35.325724378196014,29.215056100304437,62.17859539506089,58.98137280053262,28.856809411215323,42.75433720953219,33.1899732078742,27.01752018368625,29.558524133542264,50.540653367773814,27.748370457412673,35.91588702980988,14.890143541692915,10.834955111296246,40.44719275352052,37.71725435052326,31.0974563179043,38.15841835108878,21.46597664246955,22.64895733140481,19.320150019314987,63.655465948532175,33.50419510800487,38.35693573784575,73.32548703090939,44.88376618263421,33.52939303239633,30.760881664728736,50.076190470377405,31.98616297457205,33.71498191407414,24.00732230246352,34.32340341405361,57.52593756613203,30.061351183493713,26.072955335204625,39.59940452795674,32.54356938822527,52.39959927021618,38.586555925458526,29.01331566893156,55.794088741834116,24.075131505712108,22.791965990317504,41.47246979559322,54.1067360765132,39.8120994034024,25.55609970295569,35.97035680001482,33.629117798332246,49.606293095525956,63.81387250829691,31.708951632489743,27.37589989654723,57.66623225727306,33.239579147426866,37.62981341751659,67.41945947057906,32.05704099519037,50.042342114604395,35.815764715729486,37.52423543781369,35.910844564716484,29.424402842452718,53.81105660769079,20.728924830794654,16.141352136042386,55.09465474841454,28.519659200611734,14.840351644702032,22.26058248688078,36.063858793841995,27.886454610224757,41.91279565981736,33.536506648287954,67.5073176543015,26.22940624667376,51.5728133125475,43.77734411563965,33.58091182370324,49.64093324217253,19.564967968806982,36.21198427525264,20.58940751365798,34.791759393787004,40.63574922676311,38.76556893715112,24.237725776568606,31.985205889707185,26.97462387104953,28.553463313112566,42.034936317515815,51.279777431534185,56.21728756830056,39.73024877719038,17.816722729073444,47.433442628725665,37.87705064288412,25.387584197109963,48.644284452590355,27.39145173153436,64.6995636005631,16.089299302340134,55.42760232083006,54.643405875977436,40.42966886786577,64.3471720072774,25.586778511077085,25.110155143699707,41.00683897448182,27.075607938641433,23.421447446033255,34.99612487968972,41.533236032057594,45.32567001019167,33.034108224847344,39.12790615280444,47.758954815118344,50.909114401058275,24.518176296041972,30.197813311236683,38.40351340249273,24.16954035120556,59.27393712363856,57.141254152158325,70.90043802318617,58.98944953477431,41.25594001607198,54.757571324430955,24.733993993901322,25.44864888486208,33.522704958073035,24.862294965984766,24.16827323637124,38.363009433848376,39.3366523021048,34.21331753408856,22.680172945946904,9.22019216921359,33.40078492666089,23.673256605451293,16.764728869188257,32.92662692187591,39.44501767722038,79.2697052468132,23.57460395319768,32.88234196401885,49.332026273076316,25.39051223818616,30.320622229431844,24.735733515979657,32.69748442975468,48.03297630308887,29.296778834900437,37.24528148631387,62.09132292635649,28.432749575445534,41.76594132950331,51.06024465106688,35.72006806005646,30.00853635603263,26.155392029552168,48.754991392068156,46.82286525643387,26.612766988079443,35.1265572408787,35.59347298089795,38.16864287804922,43.63042499815064,51.58999511841877,37.90743538777734,60.34816513376734,23.726563649341827,40.07195490010409,25.594380459141224,24.469569526197365,25.9212125511669,33.57812104645052,50.93792735436408,16.456314693881893,24.631654960279928,36.93100766986191,13.013420053127298,70.80582688278878,50.927779621189075,67.69663439543282,25.713425966268897,49.774080012088206,35.17617574496434,73.30831067764777,17.856978240061146,51.05380608469705,29.923716970597912,54.43656876647856,41.50859774453623,19.657858044098447,45.49503762273652,18.923139211295595,29.896080851388742,41.5739381990661,21.571546965388332,43.092665547381884,22.577529210477184,35.16735993524805,39.29462803592514,24.1761175631909,73.69878249684199,68.28655011164196,39.805264727138514,36.066978410406875,48.122815457586825,24.168579925882284,30.7889272210145,32.71305330886337,39.59969663931839,58.647538303273926,38.33271569553108,26.594928440545985,59.73120227123748,34.24380182056049,32.121024252999945,23.624561639824165,62.363588263333874,29.588205602101883,77.76909979192351,25.660314635918617,39.377833101971916,32.67620625217799,41.74404561088662,54.83272471597351,50.966032469090564,56.04671212799012,18.72427324960005,61.9255646859147,19.893863017164165,22.56383975309059,54.31986548746008,28.65914007840734,41.505673240507264,24.688203714624752,33.83298311335015,24.72370739397502,26.173244912629755,17.064278066409976,48.49716396798066,25.071295684155707,22.598020583984148,53.891381394977294,33.045615916629714,25.152662138739675,32.029079638018814,18.01098587273187,20.826556749740913,30.127485683947217,25.947250264475457,22.927481202211617,23.496162820494693,81.1468688193292,20.76676286217494,49.136995172438624,27.29948573749571,21.401112689107457,22.538398265078683,24.255938746348573,52.41545369180531,46.941367026427244,35.63366108823485,53.044308362025745,36.992511586871345,40.27802998474431,36.7465024871658,42.03602478009589,59.62418843237632,36.27696261851016,17.342814714042433,45.35429862794067,23.705206067357953,23.781103674610875,39.12674796287987,48.02041978232625,31.531979494321263,32.54213747515374,23.96871645994556,33.14379562249309,51.14664501444069,17.920957918811528,25.446937935032366,21.728181095937035,52.43450998832882,25.329465306855425,46.27679206287506,10.973368207922832,14.698822562992095,26.349826708592513,55.49089688107554,65.13636986229122,24.229674013511552,32.25118216340759,32.055471739402414,31.139328679325168,22.052734704445683,53.55917660665319,29.711946770152537,54.866873031852094,52.48935101096025,53.41777033218885,12.73141217847289,54.08678687470419,46.36095102312486,49.53306698530842,36.340096992401136,34.43556686836684,51.94591421578699,25.625290556624254,19.066810489941904,36.94259821892429,40.807109185384576,58.022328692478816,26.430839788318714,49.52832793545354,36.68234619095106,57.72451582120233,24.978899229877673,34.43468092406492,33.54246080698389,15.274225865077998,12.844191295997462,33.033975000768784,35.16476269001133,71.99120625398635,33.23151260175187,20.80802723494022,41.1551959354999,37.53752972472889,87.89685007529182,54.93412000347459,37.03203005185048,48.89373279370202,45.90936305378691,35.20697720070756,26.232379456012424,48.469453173547556,34.76083218635155,45.11483028200642,27.346339041981704,24.68629370295905,31.860524139032538,23.2405387548929,40.044087349253616,31.978685121263,30.936990068280103,60.916241753666036,18.433459533759386,38.03378571124237,32.71124776360009,54.10684961043108,25.82218786168326,31.004992086393315,25.705633988849815,57.0626781922751,25.213977807659877,28.53545865477561,29.242956767395015,54.93412000347459,30.30190992033976,51.249206821082325,36.98446191813591,39.44423646966842,33.124419170776996,30.786193757283566,39.59188235473711,48.0178012029228,60.38713537425235,35.08802086403365,27.481294695490273,48.57069663640375,17.476983740333463,19.031217957400195,13.830170784617927,40.42306172500469,89.27681718612604,48.82588070773781,25.415470695206952,54.40102315219837,47.526116488237314,35.27360361593624,15.245505615128991,51.15206225340816,82.61992841631556,59.01826702038123,16.493759650783897,33.54961160818918,37.60771191437213,24.715722034308342,21.988489343914154,64.48418817234072,37.38814389307586,29.822653998952905,29.730031498595487,19.571420421984794,47.47951041812013,80.3959459880339,36.589439771878745,21.335524049869356,33.925135932159826,40.73005392941446,16.763421934727262,17.922767658230526,20.22017889836912,19.267677145586706,30.650138386183347,33.17632118228121,48.2870360196265,29.127616969982192,81.21186881938974,39.97471545932976,46.4250711003867,25.950874973747457,18.337406314750588,40.03025292587339,18.2208715165293,25.398413382997198,45.51701074737171,39.12536951990327,90.26810494094886,31.725601794279964,26.840107827987886,32.55306260660343,28.208654622234206,23.973777091794297,40.39324795883813,33.50192405804432,28.3152352835264,57.265808094279805,13.475170419018433,21.36052851593796,29.700059577951862,22.505150748946146,39.88726721876514,45.29217173076662,52.360939768791305,59.98589466784023,40.21185312830527,35.745171535464586,32.28589643251509,51.37009049574807,23.51593991474716,22.804235509247427,13.0252009587064,31.180363094733295,23.58663507679703,68.4933022434182,51.47899434501881,36.97445028759448,15.514116895784994,36.59485219453211,11.812048961854046,36.113243550567496,33.62999089984468,50.755208728132075,50.88400591615964,31.78446328096593,50.445015182501876,30.755815778801285,51.69536483032815,34.828625205588004,50.30427440701057,19.259575460181335,27.66752426576869,13.47191717991786,22.145067383258127,27.892184125649003,26.209859027386187,62.59439527468231,48.79566276940551,23.802037747668223,27.554519818172587,39.075895278134624,39.1395407522857,44.26434862077915,53.1515633830539,57.75388297301928,52.6701394184433,33.62002189550952,24.061318644609752,31.827413742377182,62.64099955364472,24.301327137199007,27.242727097215667,51.03052348623578,48.536210260440285,34.215190393120935,30.424788677936263,65.90832457397458,80.26047395838934,40.27467606703096,26.890436541029054,28.31589534789736,24.722948695282362,33.33550388166985,87.04557037095147,18.300049746886273,63.14516422639282,39.91236876016374,37.309402868869704,24.59506817454894,37.561377761167144,26.29851210506827,44.67255768342846,25.660720230715093,32.67087052163255,33.1624702902692,74.99360405626774,50.30427440701057,41.80172455040312,36.16189367279755,63.648447248004246,22.255708706634554,22.622370492035756,32.05724108556181,88.59456892358294,35.71533872653559,42.54482703007652,35.06624098624687,53.09421949503985,42.08483543907701,20.577896578473673,25.364298614032563,19.851647499248493,28.30676070718985,21.58202720999879,33.87187829645976,22.0231839365473,32.6393354793749,50.995399933354506,31.378054732972622,38.08299665684993,16.16727873052684,10.627430470002892,33.63041518340941,31.08999490152999,28.610068273178314,49.93909733838489,29.2416472469291,78.69246126639024,28.29020285612491,35.87077017111461,31.381178029225815,22.966638731807002,40.882580867241224,49.074001567422954,22.30758209444525,22.858175149853324,14.997340142767023,23.540244826721768,21.382857541690466,26.71405941988405,76.97429852328824,48.324796716340344,27.885777261775534,44.28928836111683,54.89664962584369,31.789149388839178,51.43660227969433,66.99093027244815,32.21193170664335,30.499044372075247,35.13148950875813,27.76783350238692,24.155567461090694,41.025665518956046,17.91694831437369,53.75933231047084,30.388212493537967,47.81277611473651,33.04176176651613,36.9799137765365,36.10695473053812,57.251784942573494,33.69111212761882,52.050900174527584,49.91441623535931,19.556570977864524,22.926013828068598,30.60594804821313,53.548550322713275,46.99450898126884,61.32170338594773,48.34949614186115,61.63911845250376,59.5100460873754,48.47183275209842,14.726571441222578,46.67501253727086,47.11528285494518,20.26498537166497,59.71922404262007,41.48143120134584,27.214535049213765,16.327463394665216,32.20184677118737,45.69966058605309,28.023428283773388,36.971972538310105,38.61711760980136,27.85454587882474,42.53262907994688,14.242083303587954,56.79911382631705,47.96997420304909,30.310439937022466,25.320439070362767,38.05139676284914,50.08850297656461,21.90390044969431,35.32754180266287,28.095264606879155,26.042472605784916,28.42836530498433,27.49343549500204,42.03981062201011,27.877741328434986,19.55740491786789,31.739136842098876,42.11823669268648,39.131983160956295,25.967973213835215,28.8182399178751,49.56738074215562,66.92269282461453,49.508536215819106,53.31515448825589,40.6454628427876,25.229317082399227,24.424415444553365,31.44718980535641,45.29463288894573,52.40030711493414,18.871446709289682,29.680640800452558,35.86561672063331,44.89404418287979,86.2962487492774,21.926338407852207,30.0962653533446,29.25103628872403,20.093265214969122,65.85048686221344,23.06321341993432,44.14603980543711,57.44083224668779,39.996871434865064,23.788148279588192,54.39554948904279,31.657906756433977,57.66427131461248,35.57957525897424,53.365169480475394,16.965570666999895,39.288461233698825,29.852603219487243,48.51445446361892,46.03920128855688,28.14655253059457,47.94389360951519,30.02018280809533,68.9705417918262,50.00702216957221,35.83780288562218,47.13654871291095,34.332399990664676,36.23880634467285,31.897509998271826,29.279169882117312,10.907396390527381,30.44014443889406,53.97526292960494,24.677788994054257,34.91766011383413,67.837540197936,35.82289191661598,33.714324208622386,30.33456245411764,28.98191425662045,44.04493470849296,24.26194410522381,39.92933201008946,54.43911561209724,43.12928742639238,28.417276358953362,61.4578981321188,48.43741508152684,69.32375858918066,40.407494921555674,57.408413183904344,28.027326272044327,55.515865395590794,32.80229713898233,31.796941618566482,40.02850447487847,53.53859355618108,24.180074864139502,18.308921543375405,52.64409892748868,19.669659205649555,16.07640396525062,31.018467780121917,43.00421295713842,52.40030711493414,50.88141941476101,22.45237417541009,21.70127208624328,57.56828858373444,27.29605863671671,28.821458348065242,19.847928831228465,34.33515780273429,34.04831956240167,33.932256677745265,22.900438276830897,26.573331654340585,34.44684168396543,83.50184816065257,11.439147519025646,51.47625542454302,34.736405189492444,40.76480960745006,91.25920459516388,48.094758013129415,28.068311051545322,32.49552471702602,30.57987986388195,29.736078003174164,50.0906386079137,54.03728256321358,26.864727262309852,30.94216296878653,60.33750606853102,23.744377760799136,46.468822956517826,48.41243264098416,28.151397036930607,58.59060449314115,21.214006440495258,12.528523743618209,13.842786484747005,17.251963864390746,33.65242088807529,10.567988884389557,27.844947710948077,27.90927908181082,39.571514428738176,28.95248940342872,28.83223694014339,56.28616701042559,24.06533603381655,68.17025828953182,48.26605558875845,65.20411821128283,17.998354250716893,64.81718323758248,31.883218113215605,39.33123471498395,25.53708167368325,44.88340085922537,28.865277695526746,76.62352696325502,36.451996993494575,46.67754027874929,33.45642830780568,27.085504527199795,53.69641966053034,40.962940989107686,40.50020852303313,11.863722478993054,20.760496645236316,27.624141933756007,64.28225690555024,47.47398468499044,13.192311923329033,52.08427991311944,13.25892538366304,32.57734269620733,50.17429547080015,21.899477923686135,53.927125436934084,51.137260904283494,20.761147441204194,32.62638780543763,26.54126958721429,26.61356359601836,51.41681766609385,47.16159671627726],\"y\":[-4.042503173146947,-7.566692352880512,-1.7805795382381149,11.63781606911684,5.360231277087195,0.34675622619143454,9.398914913486935,-7.705677629522995,-19.678758166731434,-3.088421925716897,-9.115032965972706,27.256790423743013,-1.139192986786,-4.261476892408972,-6.474038778830646,16.260322903752833,-0.4981513759305187,-10.544742052029747,6.906194311958274,-5.244416200029562,0.8585442155397764,-9.694342040577979,18.337412146039608,-2.3367759032357327,1.903168674810722,0.9195279607322533,2.255726159437941,-3.7727134153275657,-0.9457421741931782,14.070451277693923,-0.35055349663424806,2.2722449381960175,-20.034214579695558,-9.520013844939108,4.085293680532622,-21.602491648784678,-9.109426462467809,4.507771607874204,0.24516710368625283,12.322313609542263,13.701950687773817,-12.482554142587329,-11.798610074190115,3.527579061692915,0.8444478712962464,-0.4780341784794757,-2.8459976814767316,-0.6184396820957012,-1.258924568911219,3.339652602469549,4.364053811404808,9.453748459314987,22.355853548532174,-1.0523420119951297,-15.601456022154245,-9.273737769090616,-9.715148781365784,-11.082462071603665,-8.528908195271264,-13.45212816962259,-7.176073825427952,-5.606523841925863,3.5912484664635222,-10.071956225946387,1.188853606132028,-8.438988656506282,-6.172458232795378,-2.6296215200432584,-13.70372278777473,18.71180191021618,-5.6226451945414695,-4.715850251068439,-9.106287138165882,-9.116932610287897,10.340029430317504,-2.6677837244067817,-3.8092479234867938,-15.6976133565976,-11.71007809704431,-6.246258679985182,-7.573967961667755,9.82697527552596,-1.0865033717030883,-7.953155267510255,3.8647682965472328,2.901153577273064,4.166444655426869,-12.143459022483412,2.222608910579055,-4.531381896809627,-1.9648325653956036,-1.4504130842705152,-6.054095142186313,-4.768239435283512,2.4589964824527186,17.559098003690792,-4.997493157205348,3.9603796440423853,-17.900169371585463,-0.10738431938826665,3.4481396967020324,2.1761466068807778,-12.220145486158003,3.8857950502247576,-3.3919828241826337,-2.2266134717120423,-6.687194705698502,11.529777926673763,25.96370474308886,-18.213443044360346,-4.493331848296755,-4.455353717827471,-21.292000839193015,-3.6328337647473603,-1.8461415263420164,8.897798737787006,-2.2841317732368864,8.118360737151125,-1.9623622234313949,8.846391329707185,0.11953367104953116,2.4057754891125676,-10.411434574484183,13.358597431534186,14.380573364300567,-9.257021022809617,9.280320373073444,11.679187198184302,-10.710323077115874,3.7863011171099643,19.844871932590355,-5.431742724465643,-14.597071159436908,4.434396998340134,-11.353073109711303,-6.4510624840225645,-8.240441972134228,24.150721207277392,-0.671225472922913,11.651583623699707,-6.732479265518172,3.3790072946414327,-4.405803913966743,3.6456511596897165,-18.789019207942403,-3.3699514418083254,-6.059180975152657,6.010994920804443,10.430724175118343,0.21194412105827354,10.952735996041973,-3.489984048763315,-15.058455637507272,7.665553339205559,-2.5819097305493983,-3.153422047841673,27.88747776318617,-18.307704825225684,-15.591356183928013,-0.7383519155690408,9.684801341901323,7.611904764862082,13.757496466073036,0.32384412598476686,2.2222521563712405,4.799317753848378,-3.721123897895197,6.5322350860885585,-8.346247054053094,6.88838433721359,-8.891672913339107,8.332415605451294,-2.9267056908117404,-0.7749599581240929,-8.337048074779617,23.127742994813204,-1.31547964680232,3.0114837400188534,-9.273433726923685,0.48663911818616157,16.925088514161168,0.9488115159796564,-1.0316814902453189,-4.008672176911126,-2.0536948850995635,-0.7103723136861291,4.492497886356489,-1.0147703845544633,17.875597929503314,-16.639403788933123,0.9842671800564631,-9.047521139967373,1.0584656295521668,3.387470592068155,18.726718256433873,3.3912153080794454,-5.021630239121301,-6.546610663102044,0.8266227180492223,-0.5029337618493628,-8.690891561581225,-11.865837052222659,0.7577394184966622,5.767092801341825,15.967873940104091,-1.3503416208587744,-7.497295737802631,-2.316277028833099,17.46851430645052,-3.3376233656359204,-2.2898482701181067,-0.2860076797200719,-3.927340090138088,1.5474341731272983,32.397876826788774,25.727431821189075,-11.703421764567167,2.1953996062688965,-16.650037827911788,-4.275640975035657,43.52294747764777,-4.491007347938854,-4.84201323530295,-0.19948946940208856,-13.132079233521438,-12.015424135463768,6.364760764098447,21.39785142273652,3.933930971295595,-9.686736308611255,-7.272678496933899,9.613964697388333,3.7166911873818833,2.589619970477184,-4.288593640751948,-0.126851740074855,-0.3071751968090979,14.500373136841986,1.5866418716419588,-10.16795575286148,-4.646579389593121,8.423476853586827,3.8910907658822858,13.2141839810145,-0.3693841231366264,-1.4517044006816135,2.5035076232739257,-5.0442878924689225,11.509193560545985,-17.565952088762515,1.4040599405604937,-5.316833071000055,-0.11961284817583362,5.964451463333873,-13.800519077898112,33.071060187923514,-7.060147896081382,-14.525400578028083,24.926496012177992,-6.071114989113376,-5.062055404026488,12.948325829090564,-12.703894726197845,11.84054486560005,-14.875166954085294,8.041770577164165,14.07639019309059,5.118858127460079,-4.108896297592665,8.293614320507267,6.692880114624753,10.032271593350153,17.821363157975018,8.046920872629755,6.528395310409977,22.986551967980663,11.609966260155707,-2.885012376015851,-1.7562265650227005,0.08176835662971627,5.737017978739676,9.083318358018815,-1.6804486872681288,2.7926224937409145,-22.780834128052778,2.7020594102874966,-2.762394557788383,5.542207780494692,37.4485694153292,5.1915000221749406,23.714636100438625,-1.8584543025042883,-1.0344363508925412,0.006322585078684995,3.076614978348573,19.017236251805315,-2.032113253572753,13.144332920234852,-14.262338757974248,-2.617884613128652,-4.806805655255694,-1.7145372208342025,-4.8959170639041005,19.027841552376323,5.829702458510162,-6.948114241957565,-4.639606132059328,15.641784247357952,7.502575314610876,-1.2627561171201336,24.381242636514212,10.465729790321262,-10.708692004846263,3.0500146199455607,-0.655007373506912,7.116707654440695,8.071300772999487,-0.17399022496763195,-2.720637864062965,-23.800851331671176,9.581143990855427,-12.245930817124936,3.134026087922832,-2.5766880930079026,-0.8706857714074872,-15.807816278924449,-2.9631746577087767,-0.42598774648844895,5.337486503407593,-1.3441246525975856,1.7469667993251683,-7.839497275554315,6.757545726653191,-1.542000309847463,-0.6842082881479072,23.48999045096025,14.117638332188854,2.3954774624728916,-25.899323885295814,-0.9164182968751362,24.511982945308425,11.946436112401138,-9.297895811633154,2.1450627357869934,16.613839236624255,7.652535309941905,3.3995908189242883,-15.019762534615424,11.124171172478817,-5.312635251681286,14.16510389545354,1.3398064309510573,-8.272126898797666,-5.254623370122328,-0.8795903199350761,-3.392768513016108,2.5396041450779983,1.6746800959974628,-5.569786239231213,-9.444334509988671,30.83983119398635,20.443111753751868,8.63188107494022,8.1120586354999,15.67838262072889,46.844070083291825,-16.3645931565254,-10.67970914814952,2.664366993702025,19.164589013786912,-6.333951799292436,-0.684763583987575,-7.474629466452441,16.93787758635155,-16.120980657993577,12.005498041981705,-6.7331276170409495,9.948976859032538,6.3621662748929,-12.376772930746384,-5.1923449907369985,-8.707879931719894,10.261129509666041,4.912835173759387,2.077612311242376,-14.42133159639991,-1.9889177495689196,6.472043921683262,-1.0632261496066846,7.5069149688498165,-3.231998007724897,11.879511967659877,0.6116806547756113,-4.362103472604986,-16.3645931565254,-6.145859867660242,17.76037253635301,-1.4745093618640865,0.7439485896684204,-0.6736943492230054,11.370549597283567,0.10559183473711187,-11.284029557077204,-19.81271294574765,3.0363500520336544,5.622147591490272,-8.173178163596248,6.941790460333463,-6.934448202599803,8.926617472617927,-1.517763354995303,47.34219739012604,-19.03924197226219,12.326458311206952,3.3797991521983732,-5.432535071762686,6.2880325759362385,-2.718791564871008,21.6030908228668,41.375474096315564,0.2335432603812322,4.034238854783897,-1.1241364318108182,-4.076628093627868,7.8263179383083425,-3.2284058800858446,-2.1122986676592745,-13.943344306924132,-3.196351641047091,-0.3931749414045136,6.277633665984794,12.709235738120128,42.2817127080339,0.7366877718787492,5.070785209869356,-4.278729227840174,18.910206957414463,2.263741654727262,8.187366538230528,9.45745853836912,2.1017931735867066,16.10908954618335,-3.462433457718795,-1.7896058603734986,-7.836570342017808,36.91579372338973,3.6255407393297574,-9.636222459613293,6.845495013747456,-5.944559453249411,3.6803887298733926,3.1508960859879416,-0.06255634500280394,6.816722867371709,-4.2516340680967275,23.154511100948866,4.491299794279964,7.640959131987888,3.1400164466034326,-1.4457081377657914,10.349731331794297,0.2450604788381341,3.9509826980443172,-4.345242836473602,0.5701966142798085,1.9912581630184345,-13.864800324062035,-12.626872062048136,-10.49868641905385,-11.36837862123486,23.37510864276662,14.14535351679131,-17.311259692159766,-12.214522959694726,-1.486532464535415,6.058229392515088,12.373327935748073,-1.4706703252528364,-0.03120961075257256,0.7801071987063999,-8.424517297266704,8.066530316797031,3.296451683418198,-4.416824974981189,-2.3835976964055163,-2.0620052962150055,-4.340027401467893,-0.23999151814595265,11.708551054567497,10.10506977984468,11.455076728132077,-4.570548763840364,-5.647188759034066,-19.392008857498126,-0.5946579411987152,5.493578070328155,-11.559320074411993,15.003103207010568,-9.367468059818666,-4.206951214231307,-7.122041464082141,9.596604183258126,-5.772171050350998,11.118608339386187,-7.063365005317678,-10.968116910594489,-12.641595184331777,4.622548058172587,-2.9545616818653713,6.512846956285692,-22.559665299220846,-18.836625776946107,-16.611028485101123,-19.428365901556703,-3.3703655044904792,2.522088404609754,-5.604238297622814,-1.65953220635528,16.985986777199006,-11.36103414278433,28.13302552623578,16.524824545169608,6.539623753120935,-9.637214302063732,9.41266113397458,9.56160491838935,-6.368375332969038,-5.080565578970944,-4.40663561210264,0.9360266952823615,0.37855108166985474,31.88749037095147,7.916541186886274,-11.35271757360718,-13.811601159836265,6.427772828869706,11.053759534548938,-6.013505438832858,4.7937556650682716,-8.154403960571535,-7.3996539692849055,-18.102142118367446,13.623409926269197,32.862483600267744,15.003103207010568,0.2587271224031227,-11.239581327202451,11.91568401600425,2.2677994666345533,7.578004172035756,2.464931165561815,46.467585323582945,-16.58831063346441,3.1619579100765236,-4.082206293753131,16.793308095039855,-2.24157660092299,-2.8270557175263242,2.734317342032565,4.235705575248494,4.471575387189848,-13.643301630001204,2.693773576459762,-5.851641267452699,-5.923057200625102,-3.3201403946454917,-11.259141107027375,4.781305856849933,3.6257102905268397,5.845224934002892,4.5621070234094105,-3.14938325847001,-4.274489546821684,0.04171921838489112,-2.294984993070898,44.99087438639024,-4.473696663875085,-2.043515068885391,5.821613233225815,5.529790691807001,-16.335653420758767,-1.4528681405770456,8.000955094445253,3.8486323538533256,4.907548358767022,10.357463706721768,7.862233181690467,-3.561521216115949,24.457601079288246,-33.42637260365966,-0.5826867782244669,3.4309406011168306,-16.402063534156298,14.421248948839178,-4.459217040305674,4.489930872448156,5.978748858643346,-3.705859987924754,-6.278439051241868,18.150332778386918,6.932456981090695,-3.3627993610439546,-1.8482601776263081,3.2483205504708437,-8.663708146462032,22.69615039946583,-2.528305073483864,-7.298234943463498,-14.49368890946188,-11.04770761742651,2.5123179316188207,-10.001939825472412,10.683231835359315,4.525994177864526,5.329207356068601,-5.95696423178687,-6.249703157286724,-9.818313418731165,8.021071729947728,10.352473781861157,-2.6614133074962396,-17.787108272624593,9.861176752098423,3.939029945222579,12.18742301727086,-6.539739465054822,7.04083569166497,-3.678094157379931,4.546201881345844,1.841818249213766,4.151317234665216,-4.967804388812631,-5.356037213946905,6.111881003773387,-7.326860461689897,-15.155115630198637,6.5635269988247416,-2.7659441200531205,-4.173820656412044,14.178465410317045,-12.979704196950905,-0.805611942977535,9.883071430362767,13.809420602849137,7.292727656564615,-0.06280491030569024,-3.303109001337127,2.033071806879157,1.6143379257849162,0.6562720249843288,-4.40655059699796,-14.579269021989887,-5.3963704315650105,7.9811028778678885,1.5194037620988787,-14.494637667313519,5.825466028956299,-3.9621799461647846,4.8175803578751015,3.3331886101556236,-12.373941935385474,7.789032931819108,19.916937048255896,-10.389550677212398,10.240108842399227,-3.597268147446634,-0.9512874346435893,-7.809498107054274,17.099135914934138,4.075291749289683,-0.39912865154743926,-1.3998716033666838,-6.054784837120209,42.5979493452774,0.27679200785220814,7.019503633344598,5.185565984724029,10.061389414969122,7.051973582213449,-2.116450100065677,19.708252461437112,-2.8538439533122073,-0.6615282851349349,16.281133591588194,-1.2037951509572054,-4.6430046435660195,-17.03355852538752,26.01792209097424,9.157347312475395,3.769000026999896,11.352962141698828,3.804199939487244,16.4045721788896,-32.76101075144311,1.7465164905945691,-8.689665030484804,14.32908800009533,43.887404911826195,-1.0142018304277869,-1.421480154377818,4.713090432910953,-9.166640849335323,12.715264176672854,6.338634678271827,-2.360883757882686,-1.9306467294726186,-3.523443321105937,4.774255569604939,9.108041962054259,5.926573265834129,2.640689637935992,23.45024509661598,-8.171342791377612,4.5895286141176435,-11.07664134337955,-2.1844310915070366,0.5232854252238113,-3.635898525910541,13.387714572097238,10.27575602639238,-2.60638573704664,1.2597485721188022,-17.46959575847316,-3.9744349708193454,-3.870653798444323,5.208185223904344,1.1674097400443308,14.756802179590792,21.336311258982334,10.016394778566482,-0.5402633651215325,25.24249851618108,5.892413440139503,4.1057159433754045,8.124633607488676,4.825930401649556,-5.18703587474938,-8.378190859878082,-9.437331602861576,17.099135914934138,9.781755054761014,-1.8309705445899098,-3.4783914337567197,-4.229445296265553,3.6056632767167116,-2.446278251934757,10.716508687228465,-2.469760553265715,3.2011633224016727,-8.615307282254733,3.891584956830897,1.469510494340586,-10.189834556034569,44.506464552652574,2.1312215190256456,-4.074825895456982,-4.032830290507555,-5.071554872549939,17.09227127516388,25.342050013129416,0.3258652395453261,2.6274243970260223,-18.605269548118045,5.3975752031741635,5.567036431913692,-14.46215803678642,-4.782221137690147,-6.485352215213464,-7.458669011468977,-12.694428839200864,-8.55136184348217,9.407790356254843,-4.381528023069389,-15.107485146858842,1.2812552804952588,4.15414824761821,3.6206153087470057,2.6550674683907474,-10.04656799192471,2.8444787323895566,-3.5055260090519234,-16.959061094189185,-5.796006371261825,-0.7983999965712769,2.6873070201433897,1.086718450425586,-5.166377938183448,17.128350009531815,-17.64302367924155,-14.092516548717171,8.260195226716894,9.921104117582487,-5.4794863267843965,-12.39325480501605,4.81143311368325,-7.937355500774629,-3.2374143404732543,5.000760083255017,0.5861449494945816,11.576317118749294,-12.78672701219432,-4.754497152800205,20.298202220530342,-16.249777490892313,-3.44216538496687,4.187786170993054,2.730699245236316,-4.251023022243995,-11.215365094449751,23.07342904499044,4.9882369993290325,5.399859953119439,9.93909844366304,11.555219456207332,8.805735470800151,-5.141770796313864,9.504186756934082,16.739303264283492,-0.20581771879580657,-4.343315314562368,20.273932747214293,11.196880236018359,11.981548370093847,-3.5707368397227413]}},\"id\":\"3e8b42dd-7562-4a66-86ae-50fad682d374\",\"type\":\"ColumnDataSource\"},{\"attributes\":{\"fill_alpha\":{\"value\":0.5},\"fill_color\":{\"value\":\"lightgrey\"},\"level\":\"overlay\",\"line_alpha\":{\"value\":1.0},\"line_color\":{\"value\":\"black\"},\"line_dash\":[4,4],\"line_width\":{\"value\":2},\"plot\":null,\"xs_units\":\"screen\",\"ys_units\":\"screen\"},\"id\":\"ef3c6974-fa99-4cad-a3e0-42ceb94f739a\",\"type\":\"PolyAnnotation\"},{\"attributes\":{\"callback\":null},\"id\":\"01bac3dc-8029-4b02-a2f0-2538de66ddaf\",\"type\":\"DataRange1d\"},{\"attributes\":{\"callback\":null,\"plot\":{\"id\":\"25006c8a-03dc-435e-b377-5394a7fbcb61\",\"subtype\":\"Figure\",\"type\":\"Plot\"}},\"id\":\"6e5f836a-804e-448b-a8da-84ef9aca346f\",\"type\":\"TapTool\"},{\"attributes\":{\"plot\":{\"id\":\"25006c8a-03dc-435e-b377-5394a7fbcb61\",\"subtype\":\"Figure\",\"type\":\"Plot\"}},\"id\":\"c07897e9-2150-42db-bd4d-14b7aa103772\",\"type\":\"CrosshairTool\"},{\"attributes\":{\"plot\":{\"id\":\"25006c8a-03dc-435e-b377-5394a7fbcb61\",\"subtype\":\"Figure\",\"type\":\"Plot\"}},\"id\":\"deebb9bc-ddd7-4cca-8dd3-0db4422b5d76\",\"type\":\"SaveTool\"},{\"attributes\":{},\"id\":\"653d3351-3712-4291-850e-532100f563d8\",\"type\":\"ToolEvents\"},{\"attributes\":{\"overlay\":{\"id\":\"27a6d85e-77d3-4398-ae19-3a2c47a8d54a\",\"type\":\"PolyAnnotation\"},\"plot\":{\"id\":\"25006c8a-03dc-435e-b377-5394a7fbcb61\",\"subtype\":\"Figure\",\"type\":\"Plot\"}},\"id\":\"1c631191-4f88-44cd-b494-bbb8d18ead2b\",\"type\":\"PolySelectTool\"},{\"attributes\":{},\"id\":\"5de9dd73-dc17-4123-b3ae-345c1087e7a0\",\"type\":\"BasicTickFormatter\"},{\"attributes\":{\"plot\":{\"id\":\"25006c8a-03dc-435e-b377-5394a7fbcb61\",\"subtype\":\"Figure\",\"type\":\"Plot\"},\"ticker\":{\"id\":\"11a26e7a-83e9-4b66-8317-4f70b1d081fc\",\"type\":\"BasicTicker\"}},\"id\":\"390254fa-f6d5-4f16-9c44-63c1d2426ca1\",\"type\":\"Grid\"},{\"attributes\":{\"plot\":{\"id\":\"25006c8a-03dc-435e-b377-5394a7fbcb61\",\"subtype\":\"Figure\",\"type\":\"Plot\"}},\"id\":\"17f68cc6-7db1-4e0c-9ce1-94107a0ae021\",\"type\":\"ResetTool\"},{\"attributes\":{\"dimension\":1,\"plot\":{\"id\":\"25006c8a-03dc-435e-b377-5394a7fbcb61\",\"subtype\":\"Figure\",\"type\":\"Plot\"},\"ticker\":{\"id\":\"2ae3698d-94af-4e11-8f41-2244b5d40d0d\",\"type\":\"BasicTicker\"}},\"id\":\"31d850b6-145d-4d3f-ab42-43e66df5e991\",\"type\":\"Grid\"},{\"attributes\":{\"axis_label\":\"Residuals\",\"axis_label_text_color\":{\"value\":\"#aa6666\"},\"formatter\":{\"id\":\"5de9dd73-dc17-4123-b3ae-345c1087e7a0\",\"type\":\"BasicTickFormatter\"},\"plot\":{\"id\":\"25006c8a-03dc-435e-b377-5394a7fbcb61\",\"subtype\":\"Figure\",\"type\":\"Plot\"},\"ticker\":{\"id\":\"2ae3698d-94af-4e11-8f41-2244b5d40d0d\",\"type\":\"BasicTicker\"}},\"id\":\"b861a97e-4004-43cf-9c36-b17dda6f2e4f\",\"type\":\"LinearAxis\"},{\"attributes\":{\"fill_color\":{\"value\":\"#80B1D3\"},\"line_color\":{\"value\":\"#80B1D3\"},\"line_width\":{\"value\":3},\"x\":{\"field\":\"x\"},\"y\":{\"field\":\"y\"}},\"id\":\"f2d1badc-fb13-462e-8b4f-60dd24d29d6d\",\"type\":\"Circle\"},{\"attributes\":{},\"id\":\"78ecca9a-2cf3-4124-8c44-eccef338de7d\",\"type\":\"BasicTickFormatter\"},{\"attributes\":{\"callback\":null},\"id\":\"a18d334c-19bf-45a8-913b-67a8998d9df4\",\"type\":\"DataRange1d\"},{\"attributes\":{\"overlay\":{\"id\":\"fcc0bbaa-01bb-432d-ac47-8605e797a05f\",\"type\":\"BoxAnnotation\"},\"plot\":{\"id\":\"25006c8a-03dc-435e-b377-5394a7fbcb61\",\"subtype\":\"Figure\",\"type\":\"Plot\"}},\"id\":\"f0b510e6-876f-4aaf-8fc6-8d8d3d3c88c1\",\"type\":\"BoxZoomTool\"},{\"attributes\":{\"data_source\":{\"id\":\"3e8b42dd-7562-4a66-86ae-50fad682d374\",\"type\":\"ColumnDataSource\"},\"glyph\":{\"id\":\"f2d1badc-fb13-462e-8b4f-60dd24d29d6d\",\"type\":\"Circle\"},\"hover_glyph\":null,\"nonselection_glyph\":{\"id\":\"c04293fc-30f3-49f7-b60c-266fd54fea8a\",\"type\":\"Circle\"},\"selection_glyph\":null},\"id\":\"2b2bfbd1-1945-4c37-8f45-a82c2b0349a6\",\"type\":\"GlyphRenderer\"},{\"attributes\":{\"callback\":null,\"overlay\":{\"id\":\"ef3c6974-fa99-4cad-a3e0-42ceb94f739a\",\"type\":\"PolyAnnotation\"},\"plot\":{\"id\":\"25006c8a-03dc-435e-b377-5394a7fbcb61\",\"subtype\":\"Figure\",\"type\":\"Plot\"}},\"id\":\"7ff275ca-7d21-4098-a1ef-45d0e3b99a76\",\"type\":\"LassoSelectTool\"},{\"attributes\":{\"fill_alpha\":{\"value\":0.5},\"fill_color\":{\"value\":\"lightgrey\"},\"level\":\"overlay\",\"line_alpha\":{\"value\":1.0},\"line_color\":{\"value\":\"black\"},\"line_dash\":[4,4],\"line_width\":{\"value\":2},\"plot\":null,\"xs_units\":\"screen\",\"ys_units\":\"screen\"},\"id\":\"27a6d85e-77d3-4398-ae19-3a2c47a8d54a\",\"type\":\"PolyAnnotation\"},{\"attributes\":{\"bottom_units\":\"screen\",\"fill_alpha\":{\"value\":0.5},\"fill_color\":{\"value\":\"lightgrey\"},\"left_units\":\"screen\",\"level\":\"overlay\",\"line_alpha\":{\"value\":1.0},\"line_color\":{\"value\":\"black\"},\"line_dash\":[4,4],\"line_width\":{\"value\":2},\"plot\":null,\"render_mode\":\"css\",\"right_units\":\"screen\",\"top_units\":\"screen\"},\"id\":\"ec236921-8267-4f96-8ef9-c3cc76f2830e\",\"type\":\"BoxAnnotation\"},{\"attributes\":{\"callback\":null,\"overlay\":{\"id\":\"ec236921-8267-4f96-8ef9-c3cc76f2830e\",\"type\":\"BoxAnnotation\"},\"plot\":{\"id\":\"25006c8a-03dc-435e-b377-5394a7fbcb61\",\"subtype\":\"Figure\",\"type\":\"Plot\"},\"renderers\":[{\"id\":\"2b2bfbd1-1945-4c37-8f45-a82c2b0349a6\",\"type\":\"GlyphRenderer\"}]},\"id\":\"f1bc9aa9-e07f-4ce5-b839-3cf631860f7c\",\"type\":\"BoxSelectTool\"},{\"attributes\":{\"plot\":{\"id\":\"25006c8a-03dc-435e-b377-5394a7fbcb61\",\"subtype\":\"Figure\",\"type\":\"Plot\"}},\"id\":\"71ad5a52-1390-4f6b-a1d2-75fb93b39fa1\",\"type\":\"WheelZoomTool\"},{\"attributes\":{\"align\":\"center\",\"plot\":null,\"text\":\"Residual plot on the training data\"},\"id\":\"aa39ff96-4a52-4365-a658-61a9c6d18ff4\",\"type\":\"Title\"},{\"attributes\":{\"background_fill_alpha\":{\"value\":0.5},\"background_fill_color\":{\"value\":\"beige\"},\"below\":[{\"id\":\"9645b289-68c7-4998-8354-6585432fab3f\",\"type\":\"LinearAxis\"}],\"left\":[{\"id\":\"b861a97e-4004-43cf-9c36-b17dda6f2e4f\",\"type\":\"LinearAxis\"}],\"plot_height\":500,\"plot_width\":500,\"renderers\":[{\"id\":\"9645b289-68c7-4998-8354-6585432fab3f\",\"type\":\"LinearAxis\"},{\"id\":\"390254fa-f6d5-4f16-9c44-63c1d2426ca1\",\"type\":\"Grid\"},{\"id\":\"b861a97e-4004-43cf-9c36-b17dda6f2e4f\",\"type\":\"LinearAxis\"},{\"id\":\"31d850b6-145d-4d3f-ab42-43e66df5e991\",\"type\":\"Grid\"},{\"id\":\"fcc0bbaa-01bb-432d-ac47-8605e797a05f\",\"type\":\"BoxAnnotation\"},{\"id\":\"ec236921-8267-4f96-8ef9-c3cc76f2830e\",\"type\":\"BoxAnnotation\"},{\"id\":\"ef3c6974-fa99-4cad-a3e0-42ceb94f739a\",\"type\":\"PolyAnnotation\"},{\"id\":\"27a6d85e-77d3-4398-ae19-3a2c47a8d54a\",\"type\":\"PolyAnnotation\"},{\"id\":\"2b2bfbd1-1945-4c37-8f45-a82c2b0349a6\",\"type\":\"GlyphRenderer\"}],\"title\":{\"id\":\"aa39ff96-4a52-4365-a658-61a9c6d18ff4\",\"type\":\"Title\"},\"tool_events\":{\"id\":\"653d3351-3712-4291-850e-532100f563d8\",\"type\":\"ToolEvents\"},\"toolbar\":{\"id\":\"c4972eb2-1f2e-4d19-b9eb-cfdf3772acd5\",\"type\":\"Toolbar\"},\"x_range\":{\"id\":\"a18d334c-19bf-45a8-913b-67a8998d9df4\",\"type\":\"DataRange1d\"},\"y_range\":{\"id\":\"01bac3dc-8029-4b02-a2f0-2538de66ddaf\",\"type\":\"DataRange1d\"}},\"id\":\"25006c8a-03dc-435e-b377-5394a7fbcb61\",\"subtype\":\"Figure\",\"type\":\"Plot\"},{\"attributes\":{\"fill_alpha\":{\"value\":0.1},\"fill_color\":{\"value\":\"#1f77b4\"},\"line_alpha\":{\"value\":0.1},\"line_color\":{\"value\":\"#1f77b4\"},\"line_width\":{\"value\":3},\"x\":{\"field\":\"x\"},\"y\":{\"field\":\"y\"}},\"id\":\"c04293fc-30f3-49f7-b60c-266fd54fea8a\",\"type\":\"Circle\"},{\"attributes\":{},\"id\":\"11a26e7a-83e9-4b66-8317-4f70b1d081fc\",\"type\":\"BasicTicker\"}],\"root_ids\":[\"25006c8a-03dc-435e-b377-5394a7fbcb61\"]},\"title\":\"Bokeh Application\",\"version\":\"0.12.2\"}};\n",
       "            var render_items = [{\"docid\":\"7b370e02-d7b1-4b6e-b23a-c5e2d5d9af3d\",\"elementid\":\"4af1ca9d-dbb7-465d-8af3-fc40be06e261\",\"modelid\":\"25006c8a-03dc-435e-b377-5394a7fbcb61\"}];\n",
       "            \n",
       "            Bokeh.embed.embed_items(docs_json, render_items);\n",
       "        });\n",
       "      },\n",
       "      function(Bokeh) {\n",
       "      }\n",
       "    ];\n",
       "  \n",
       "    function run_inline_js() {\n",
       "      \n",
       "      if ((window.Bokeh !== undefined) || (force === \"1\")) {\n",
       "        for (var i = 0; i < inline_js.length; i++) {\n",
       "          inline_js[i](window.Bokeh);\n",
       "        }if (force === \"1\") {\n",
       "          display_loaded();\n",
       "        }} else if (Date.now() < window._bokeh_timeout) {\n",
       "        setTimeout(run_inline_js, 100);\n",
       "      } else if (!window._bokeh_failed_load) {\n",
       "        console.log(\"Bokeh: BokehJS failed to load within specified timeout.\");\n",
       "        window._bokeh_failed_load = true;\n",
       "      } else if (!force) {\n",
       "        var cell = $(\"#4af1ca9d-dbb7-465d-8af3-fc40be06e261\").parents('.cell').data().cell;\n",
       "        cell.output_area.append_execute_result(NB_LOAD_WARNING)\n",
       "      }\n",
       "  \n",
       "    }\n",
       "  \n",
       "    if (window._bokeh_is_loading === 0) {\n",
       "      console.log(\"Bokeh: BokehJS loaded, going straight to plotting\");\n",
       "      run_inline_js();\n",
       "    } else {\n",
       "      load_libs(js_urls, function() {\n",
       "        console.log(\"Bokeh: BokehJS plotting callback run at\", now());\n",
       "        run_inline_js();\n",
       "      });\n",
       "    }\n",
       "  }(this));\n",
       "</script>"
      ]
     },
     "metadata": {},
     "output_type": "display_data"
    }
   ],
   "source": [
    "# Plotining using bokeh\n",
    "#TOOLS = 'hover,box_zoom,box_select,crosshair,resize,reset,SVR_select,pan,save,poly_select,tap,wheel_zoom,undo'\n",
    "TOOLS = 'box_zoom,box_select,crosshair,resize,reset,lasso_select,pan,save,poly_select,tap,wheel_zoom,undo'\n",
    "p = figure(plot_width=500, plot_height=500, title=\"Residual plot on the training data\", tools=TOOLS)\n",
    "p.scatter(predicted, (predicted - Y),x=\"jjj\", marker=\"o\", color=\"#80B1D3\", line_width=3)\n",
    "p.title.align = \"center\"\n",
    "p.xaxis.axis_label = \"Predicted\"\n",
    "p.xaxis.axis_label_text_color = \"#aa6666\"\n",
    "#p.xaxis.axis_label_standoff = 30\n",
    "p.xaxis.major_tick_line_color = \"firebrick\"\n",
    "p.xaxis.major_tick_line_width = 3\n",
    "p.xaxis.minor_tick_line_color = \"orange\"\n",
    "p.yaxis.axis_label = \"Residuals\"\n",
    "p.yaxis.axis_label_text_font_style = \"italic\"\n",
    "p.yaxis.axis_label_text_color = \"#aa6666\"\n",
    "p.background_fill_color = \"beige\"\n",
    "p.background_fill_alpha = 0.5\n",
    "#p.line([2,38], [0, 0], line_dash=\"4 4\", line_width=2, color='red')\n",
    "show(p)"
   ]
  },
  {
   "cell_type": "markdown",
   "metadata": {},
   "source": [
    "## Pipeline"
   ]
  },
  {
   "cell_type": "markdown",
   "metadata": {},
   "source": [
    "The best to deliver the model by pipeline the operation then at deployment can be done in one model."
   ]
  },
  {
   "cell_type": "markdown",
   "metadata": {
    "collapsed": true
   },
   "source": [
    "  I used two ways to check the pipeline so any one can be fine"
   ]
  },
  {
   "cell_type": "code",
   "execution_count": 27,
   "metadata": {
    "collapsed": false
   },
   "outputs": [
    {
     "name": "stdout",
     "output_type": "stream",
     "text": [
      "0.560581595524\n",
      "Scoring according to mean_squared_error\n",
      "[ -93.28345777 -102.24958058 -112.70174234 -136.23602569 -174.97632186\n",
      " -132.97155224 -169.42970727  -91.13752974 -155.90741056 -117.54390121]\n",
      "\n",
      " Mean      Standard deviation\n",
      "-128.64      28.92\n",
      "[ True  True  True  True  True  True  True  True]\n",
      "R-squared =  0.560581595524\n"
     ]
    }
   ],
   "source": [
    "# Use Pipeline\n",
    "# ANOVA \n",
    "from sklearn.pipeline import Pipeline\n",
    "from sklearn.feature_selection import SelectKBest, f_regression\n",
    "anova_filter = SelectKBest(f_regression, k=8)\n",
    "LR = SVR(kernel = \"linear\", C = 5.0 )\n",
    "anova_LinReg = Pipeline([('scaler_Input',scaler), ('anova', anova_filter), ('LinReg', LR)])\n",
    "# You can set the parameters using the names issued\n",
    "# For instance, fit using a k of 10 in the SelectKBest\n",
    "anova_LinReg.set_params(anova__k=8).fit(new_data, Y)\n",
    "prediction = anova_LinReg.predict(new_data)\n",
    "print anova_LinReg.score(new_data, Y)                        \n",
    "# getting the selected features chosen by anova_filter\n",
    "results = cross_validation.cross_val_score(anova_LinReg, new_data, Y, cv=kfold, scoring=scoring)\n",
    "print 'Scoring according to mean_squared_error'\n",
    "print results\n",
    "print '\\n Mean      Standard deviation'\n",
    "print(\"%.2f      %.2f\" % (results.mean(), results.std()))\n",
    "print anova_LinReg.named_steps['anova'].get_support()\n",
    "r_squared = r2_score(Y, prediction, multioutput='variance_weighted')\n",
    "print 'R-squared = ',r_squared"
   ]
  },
  {
   "cell_type": "code",
   "execution_count": 28,
   "metadata": {
    "collapsed": false
   },
   "outputs": [
    {
     "name": "stdout",
     "output_type": "stream",
     "text": [
      "R-squared =  0.560581595524\n"
     ]
    }
   ],
   "source": [
    "# Using make_pipeline\n",
    "from sklearn.pipeline import make_pipeline\n",
    "\n",
    "# ANOVA SVM-C\n",
    "# 1) anova filter, take 3 best ranked features\n",
    "anova_filter = SelectKBest(f_regression, k=8)\n",
    "anova_SVR = make_pipeline(scaler, anova_filter, LR)\n",
    "anova_SVR.fit(new_data, Y)\n",
    "prediction = anova_SVR.predict(new_data)\n",
    "r_squared = r2_score(Y, prediction, multioutput='variance_weighted')\n",
    "print 'R-squared = ',r_squared"
   ]
  },
  {
   "cell_type": "markdown",
   "metadata": {},
   "source": [
    "### Save the Pipeline model for developement"
   ]
  },
  {
   "cell_type": "code",
   "execution_count": 29,
   "metadata": {
    "collapsed": false
   },
   "outputs": [
    {
     "data": {
      "text/plain": [
       "['anova_SVR.pkl',\n",
       " 'anova_SVR.pkl_01.npy',\n",
       " 'anova_SVR.pkl_02.npy',\n",
       " 'anova_SVR.pkl_03.npy',\n",
       " 'anova_SVR.pkl_04.npy',\n",
       " 'anova_SVR.pkl_05.npy',\n",
       " 'anova_SVR.pkl_06.npy',\n",
       " 'anova_SVR.pkl_07.npy',\n",
       " 'anova_SVR.pkl_08.npy',\n",
       " 'anova_SVR.pkl_09.npy',\n",
       " 'anova_SVR.pkl_10.npy',\n",
       " 'anova_SVR.pkl_11.npy',\n",
       " 'anova_SVR.pkl_12.npy',\n",
       " 'anova_SVR.pkl_13.npy',\n",
       " 'anova_SVR.pkl_14.npy',\n",
       " 'anova_SVR.pkl_15.npy']"
      ]
     },
     "execution_count": 29,
     "metadata": {},
     "output_type": "execute_result"
    }
   ],
   "source": [
    "# save the model scaler to the desk\n",
    "from sklearn.externals import joblib\n",
    "joblib.dump(anova_SVR, 'anova_SVR.pkl') "
   ]
  },
  {
   "cell_type": "code",
   "execution_count": 30,
   "metadata": {
    "collapsed": false
   },
   "outputs": [
    {
     "name": "stdout",
     "output_type": "stream",
     "text": [
      " =================================================================>>>>> done\n",
      "R-squared =  0.560581595524\n"
     ]
    }
   ],
   "source": [
    "# Test the model if it is work\n",
    "anova_SVRTest = joblib.load('anova_SVR.pkl')\n",
    "NewPred = anova_SVRTest.predict(new_data)\n",
    "print \" =================================================================>>>>> done\"\n",
    "r_squared = r2_score(Y, NewPred, multioutput='variance_weighted')\n",
    "print 'R-squared = ',r_squared"
   ]
  },
  {
   "cell_type": "code",
   "execution_count": 31,
   "metadata": {
    "collapsed": false
   },
   "outputs": [
    {
     "name": "stdout",
     "output_type": "stream",
     "text": [
      "Point of training data before normalization\n",
      "[ 389.9  189.     0.   145.9   22.   944.7  755.8   91. ]\n",
      "\n",
      "The read target of the data =  82.5992248\n",
      "\n",
      "The Predicted target of the data =  [ 73.31846372]\n"
     ]
    }
   ],
   "source": [
    "# test on single data point, randomly choose point number 55\n",
    "print 'Point of training data before normalization\\n',new_data[55]\n",
    "print '\\nThe read target of the data = ', Y[55]\n",
    "NewPred = anova_SVRTest.predict([new_data[55]])\n",
    "print '\\nThe Predicted target of the data = ', NewPred"
   ]
  },
  {
   "cell_type": "markdown",
   "metadata": {},
   "source": [
    "## Conclusion "
   ]
  }
 ],
 "metadata": {
  "kernelspec": {
   "display_name": "Python 2",
   "language": "python",
   "name": "python2"
  },
  "language_info": {
   "codemirror_mode": {
    "name": "ipython",
    "version": 2
   },
   "file_extension": ".py",
   "mimetype": "text/x-python",
   "name": "python",
   "nbconvert_exporter": "python",
   "pygments_lexer": "ipython2",
   "version": "2.7.12"
  }
 },
 "nbformat": 4,
 "nbformat_minor": 0
}
