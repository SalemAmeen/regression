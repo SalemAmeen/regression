{
 "cells": [
  {
   "cell_type": "markdown",
   "metadata": {},
   "source": [
    "Salem Ameen, PhD student at Salford University\n",
    "\n",
    "### Concrete Compressive Strength Data Set\n",
    "\n",
    "LINEAR REGRESSION"
   ]
  },
  {
   "cell_type": "markdown",
   "metadata": {},
   "source": [
    "# Import the Libraries"
   ]
  },
  {
   "cell_type": "code",
   "execution_count": 1,
   "metadata": {
    "collapsed": false
   },
   "outputs": [
    {
     "data": {
      "text/html": [
       "\n",
       "    <div class=\"bk-root\">\n",
       "        <a href=\"http://bokeh.pydata.org\" target=\"_blank\" class=\"bk-logo bk-logo-small bk-logo-notebook\"></a>\n",
       "        <span id=\"2ac87a43-fe96-41ab-aad0-e36625814c17\">Loading BokehJS ...</span>\n",
       "    </div>"
      ]
     },
     "metadata": {},
     "output_type": "display_data"
    },
    {
     "data": {
      "application/javascript": [
       "\n",
       "(function(global) {\n",
       "  function now() {\n",
       "    return new Date();\n",
       "  }\n",
       "\n",
       "  var force = \"1\";\n",
       "\n",
       "  if (typeof (window._bokeh_onload_callbacks) === \"undefined\" || force !== \"\") {\n",
       "    window._bokeh_onload_callbacks = [];\n",
       "    window._bokeh_is_loading = undefined;\n",
       "  }\n",
       "\n",
       "\n",
       "  \n",
       "  if (typeof (window._bokeh_timeout) === \"undefined\" || force !== \"\") {\n",
       "    window._bokeh_timeout = Date.now() + 5000;\n",
       "    window._bokeh_failed_load = false;\n",
       "  }\n",
       "\n",
       "  var NB_LOAD_WARNING = {'data': {'text/html':\n",
       "     \"<div style='background-color: #fdd'>\\n\"+\n",
       "     \"<p>\\n\"+\n",
       "     \"BokehJS does not appear to have successfully loaded. If loading BokehJS from CDN, this \\n\"+\n",
       "     \"may be due to a slow or bad network connection. Possible fixes:\\n\"+\n",
       "     \"</p>\\n\"+\n",
       "     \"<ul>\\n\"+\n",
       "     \"<li>re-rerun `output_notebook()` to attempt to load from CDN again, or</li>\\n\"+\n",
       "     \"<li>use INLINE resources instead, as so:</li>\\n\"+\n",
       "     \"</ul>\\n\"+\n",
       "     \"<code>\\n\"+\n",
       "     \"from bokeh.resources import INLINE\\n\"+\n",
       "     \"output_notebook(resources=INLINE)\\n\"+\n",
       "     \"</code>\\n\"+\n",
       "     \"</div>\"}};\n",
       "\n",
       "  function display_loaded() {\n",
       "    if (window.Bokeh !== undefined) {\n",
       "      Bokeh.$(\"#2ac87a43-fe96-41ab-aad0-e36625814c17\").text(\"BokehJS successfully loaded.\");\n",
       "    } else if (Date.now() < window._bokeh_timeout) {\n",
       "      setTimeout(display_loaded, 100)\n",
       "    }\n",
       "  }\n",
       "\n",
       "  function run_callbacks() {\n",
       "    window._bokeh_onload_callbacks.forEach(function(callback) { callback() });\n",
       "    delete window._bokeh_onload_callbacks\n",
       "    console.info(\"Bokeh: all callbacks have finished\");\n",
       "  }\n",
       "\n",
       "  function load_libs(js_urls, callback) {\n",
       "    window._bokeh_onload_callbacks.push(callback);\n",
       "    if (window._bokeh_is_loading > 0) {\n",
       "      console.log(\"Bokeh: BokehJS is being loaded, scheduling callback at\", now());\n",
       "      return null;\n",
       "    }\n",
       "    if (js_urls == null || js_urls.length === 0) {\n",
       "      run_callbacks();\n",
       "      return null;\n",
       "    }\n",
       "    console.log(\"Bokeh: BokehJS not loaded, scheduling load and callback at\", now());\n",
       "    window._bokeh_is_loading = js_urls.length;\n",
       "    for (var i = 0; i < js_urls.length; i++) {\n",
       "      var url = js_urls[i];\n",
       "      var s = document.createElement('script');\n",
       "      s.src = url;\n",
       "      s.async = false;\n",
       "      s.onreadystatechange = s.onload = function() {\n",
       "        window._bokeh_is_loading--;\n",
       "        if (window._bokeh_is_loading === 0) {\n",
       "          console.log(\"Bokeh: all BokehJS libraries loaded\");\n",
       "          run_callbacks()\n",
       "        }\n",
       "      };\n",
       "      s.onerror = function() {\n",
       "        console.warn(\"failed to load library \" + url);\n",
       "      };\n",
       "      console.log(\"Bokeh: injecting script tag for BokehJS library: \", url);\n",
       "      document.getElementsByTagName(\"head\")[0].appendChild(s);\n",
       "    }\n",
       "  };var element = document.getElementById(\"2ac87a43-fe96-41ab-aad0-e36625814c17\");\n",
       "  if (element == null) {\n",
       "    console.log(\"Bokeh: ERROR: autoload.js configured with elementid '2ac87a43-fe96-41ab-aad0-e36625814c17' but no matching script tag was found. \")\n",
       "    return false;\n",
       "  }\n",
       "\n",
       "  var js_urls = ['https://cdn.pydata.org/bokeh/release/bokeh-0.12.2.min.js', 'https://cdn.pydata.org/bokeh/release/bokeh-widgets-0.12.2.min.js', 'https://cdn.pydata.org/bokeh/release/bokeh-compiler-0.12.2.min.js'];\n",
       "\n",
       "  var inline_js = [\n",
       "    function(Bokeh) {\n",
       "      Bokeh.set_log_level(\"info\");\n",
       "    },\n",
       "    \n",
       "    function(Bokeh) {\n",
       "      \n",
       "      Bokeh.$(\"#2ac87a43-fe96-41ab-aad0-e36625814c17\").text(\"BokehJS is loading...\");\n",
       "    },\n",
       "    function(Bokeh) {\n",
       "      console.log(\"Bokeh: injecting CSS: https://cdn.pydata.org/bokeh/release/bokeh-0.12.2.min.css\");\n",
       "      Bokeh.embed.inject_css(\"https://cdn.pydata.org/bokeh/release/bokeh-0.12.2.min.css\");\n",
       "      console.log(\"Bokeh: injecting CSS: https://cdn.pydata.org/bokeh/release/bokeh-widgets-0.12.2.min.css\");\n",
       "      Bokeh.embed.inject_css(\"https://cdn.pydata.org/bokeh/release/bokeh-widgets-0.12.2.min.css\");\n",
       "    }\n",
       "  ];\n",
       "\n",
       "  function run_inline_js() {\n",
       "    \n",
       "    if ((window.Bokeh !== undefined) || (force === \"1\")) {\n",
       "      for (var i = 0; i < inline_js.length; i++) {\n",
       "        inline_js[i](window.Bokeh);\n",
       "      }if (force === \"1\") {\n",
       "        display_loaded();\n",
       "      }} else if (Date.now() < window._bokeh_timeout) {\n",
       "      setTimeout(run_inline_js, 100);\n",
       "    } else if (!window._bokeh_failed_load) {\n",
       "      console.log(\"Bokeh: BokehJS failed to load within specified timeout.\");\n",
       "      window._bokeh_failed_load = true;\n",
       "    } else if (!force) {\n",
       "      var cell = $(\"#2ac87a43-fe96-41ab-aad0-e36625814c17\").parents('.cell').data().cell;\n",
       "      cell.output_area.append_execute_result(NB_LOAD_WARNING)\n",
       "    }\n",
       "\n",
       "  }\n",
       "\n",
       "  if (window._bokeh_is_loading === 0) {\n",
       "    console.log(\"Bokeh: BokehJS loaded, going straight to plotting\");\n",
       "    run_inline_js();\n",
       "  } else {\n",
       "    load_libs(js_urls, function() {\n",
       "      console.log(\"Bokeh: BokehJS plotting callback run at\", now());\n",
       "      run_inline_js();\n",
       "    });\n",
       "  }\n",
       "}(this));"
      ]
     },
     "metadata": {},
     "output_type": "display_data"
    }
   ],
   "source": [
    "import numpy as np\n",
    "import pandas\n",
    "from numpy import *\n",
    "import time\n",
    "import sys\n",
    "import pandas as pd\n",
    "import matplotlib.pyplot as plt\n",
    "from sklearn import feature_selection\n",
    "from sklearn.linear_model import LinearRegression\n",
    "from sklearn.learning_curve import learning_curve\n",
    "from sklearn.cross_validation import cross_val_predict\n",
    "from sklearn import metrics, grid_search, cross_validation\n",
    "from IPython.display import set_matplotlib_formats\n",
    "from bokeh.plotting import figure, show, output_notebook\n",
    "from sklearn.metrics import r2_score\n",
    "from bokeh.layouts import gridplot\n",
    "output_notebook()\n",
    "set_matplotlib_formats('png', 'pdf')\n",
    "%matplotlib inline\n",
    "plt.rcParams['figure.figsize'] = (6, 6)"
   ]
  },
  {
   "cell_type": "markdown",
   "metadata": {},
   "source": [
    "# Load data"
   ]
  },
  {
   "cell_type": "markdown",
   "metadata": {},
   "source": [
    "In the previous file we have not change the data as there is no missing value or add any new parameters so it can be downloaded from the web directly. "
   ]
  },
  {
   "cell_type": "code",
   "execution_count": 2,
   "metadata": {
    "collapsed": false
   },
   "outputs": [
    {
     "name": "stdout",
     "output_type": "stream",
     "text": [
      "Number of examples 1030\n"
     ]
    }
   ],
   "source": [
    "names = ['Cement','BlastFurnace','Fly_Ash','Water','Superplasticizer','CoarseAggregate','Aggregate','day','Concrete']\n",
    "feature_names = names\n",
    "feature_cols = names\n",
    "\n",
    "data = pd.read_excel('Concrete_Data.xls', sep='%s')\n",
    "\n",
    "from sklearn import preprocessing\n",
    "\n",
    "def number_encode_features(df):\n",
    "    result = df.copy()\n",
    "    encoders = {}\n",
    "    for column in result.columns:\n",
    "        if result.dtypes[column] == np.object:\n",
    "            encoders[column] = preprocessing.LabelEncoder()\n",
    "            result[column] = encoders[column].fit_transform(result[column])\n",
    "    return result, encoders\n",
    "\n",
    "data, _ = number_encode_features(data)\n",
    "\n",
    "dataset = data.values\n",
    "X = dataset[:,0:8]\n",
    "Y = dataset[:,8]\n",
    "print 'Number of examples',len(X)"
   ]
  },
  {
   "cell_type": "code",
   "execution_count": 3,
   "metadata": {
    "collapsed": false
   },
   "outputs": [
    {
     "name": "stdout",
     "output_type": "stream",
     "text": [
      "Number of training examples 824\n",
      "Number of validation examples 206\n"
     ]
    }
   ],
   "source": [
    "# Make developement dataset for genrilization and final testing\n",
    "from sklearn.cross_validation import train_test_split\n",
    "# Extracting 20% testing data\n",
    "X_train, X_test, y_train, y_test = train_test_split(\n",
    "    X, Y, test_size=0.20, random_state=0)\n",
    "X = X_train\n",
    "Y = y_train\n",
    "new_data      = X_train\n",
    "new_test_data = X_test\n",
    "print 'Number of training examples',len(X_train)\n",
    "print 'Number of validation examples',len(X_test)"
   ]
  },
  {
   "cell_type": "markdown",
   "metadata": {},
   "source": [
    "Number of training data is very small so we need to use cross validation instead of spareate another validation data."
   ]
  },
  {
   "cell_type": "markdown",
   "metadata": {},
   "source": [
    "From the previous visulization the data has no missing value but has many outlier and some sparisty"
   ]
  },
  {
   "cell_type": "markdown",
   "metadata": {},
   "source": [
    "# Ranking of the feature's importance to the target"
   ]
  },
  {
   "cell_type": "code",
   "execution_count": 4,
   "metadata": {
    "collapsed": false
   },
   "outputs": [
    {
     "name": "stdout",
     "output_type": "stream",
     "text": [
      "Cement \t0.247837419368\n",
      "BlastFurnace \t0.0181776310082\n",
      "Fly_Ash \t0.0111837705362\n",
      "Water \t0.0838759653015\n",
      "Superplasticizer \t0.134030892369\n",
      "CoarseAggregate \t0.0272011861587\n",
      "Aggregate \t0.027972215284\n",
      "day \t0.108160065021\n",
      "Concrete \t1.0\n"
     ]
    }
   ],
   "source": [
    "# Using just correlation coefficient even in prevoius file we show them using data frame\n",
    "for col in feature_cols:\n",
    "    lm = LinearRegression(fit_intercept=True)\n",
    "    lm.fit(data[[col]], data['Concrete'])\n",
    "    print col,'\\t', lm.score(data[[col]], data['Concrete'])"
   ]
  },
  {
   "cell_type": "code",
   "execution_count": 5,
   "metadata": {
    "collapsed": false
   },
   "outputs": [
    {
     "name": "stdout",
     "output_type": "stream",
     "text": [
      "Feature Name      Score         Pvalue\n",
      "Cement \t\t338.725793692 \t1.32345794884e-65\n",
      "BlastFurnace \t\t19.0325717427 \t1.41457498978e-05\n",
      "Fly_Ash \t\t11.6269492436 \t0.000675283559617\n",
      "Water \t\t94.1187973071 \t2.3660726996e-21\n",
      "Superplasticizer \t\t159.109321731 \t5.07908923638e-34\n",
      "CoarseAggregate \t\t28.7447095672 \t1.01959722248e-07\n",
      "Aggregate \t\t29.5829376115 \t6.69468148289e-08\n",
      "day \t\t124.673209261 \t2.10314421454e-27\n",
      "Concrete \t\t-2.31485020847e+18 \t1.0\n"
     ]
    }
   ],
   "source": [
    "# Randing the important features to the target\n",
    "model = feature_selection.SelectKBest(score_func=feature_selection.f_regression,k=4)\n",
    "results = model.fit(data[feature_cols], data['Concrete'])\n",
    "k=0\n",
    "print 'Feature Name      Score         Pvalue'\n",
    "for feat in feature_cols:\n",
    "    print feat,'\\t\\t',results.scores_[k],'\\t',results.pvalues_[k]\n",
    "    k=k+1\n"
   ]
  },
  {
   "cell_type": "markdown",
   "metadata": {},
   "source": [
    "# Set the parameters for cross validation"
   ]
  },
  {
   "cell_type": "code",
   "execution_count": 6,
   "metadata": {
    "collapsed": true
   },
   "outputs": [],
   "source": [
    "num_folds = 10\n",
    "num_instances = len(X)\n",
    "seed = 7\n",
    "kfold = cross_validation.KFold(n=num_instances, n_folds=num_folds, random_state=seed)"
   ]
  },
  {
   "cell_type": "markdown",
   "metadata": {},
   "source": [
    " # Set the parameters for bias-variance dilemma"
   ]
  },
  {
   "cell_type": "code",
   "execution_count": 7,
   "metadata": {
    "collapsed": false
   },
   "outputs": [],
   "source": [
    "def plot_learning_curve(estimator, title, X, y, ylim=None, cv=None,\n",
    "                        n_jobs=1, train_sizes=np.linspace(.1, 1.0, 5)):\n",
    "    plt.figure()\n",
    "    plt.title(title)\n",
    "    if ylim is not None:\n",
    "        plt.ylim(*ylim)\n",
    "    plt.xlabel(\"Training examples\")\n",
    "    plt.ylabel(\"Score\")\n",
    "    train_sizes, train_scores, test_scores = learning_curve(\n",
    "        estimator, X, y, cv=cv, n_jobs=n_jobs, train_sizes=train_sizes)\n",
    "    train_scores_mean = np.mean(train_scores, axis=1)\n",
    "    train_scores_std = np.std(train_scores, axis=1)\n",
    "    test_scores_mean = np.mean(test_scores, axis=1)\n",
    "    test_scores_std = np.std(test_scores, axis=1)\n",
    "    plt.grid()\n",
    "\n",
    "    plt.fill_between(train_sizes, train_scores_mean - train_scores_std,\n",
    "                     train_scores_mean + train_scores_std, alpha=0.1,\n",
    "                     color=\"r\")\n",
    "    plt.fill_between(train_sizes, test_scores_mean - test_scores_std,\n",
    "                     test_scores_mean + test_scores_std, alpha=0.1, color=\"g\")\n",
    "    plt.plot(train_sizes, train_scores_mean, 'o-', color=\"r\",\n",
    "             label=\"Training score\")\n",
    "    plt.plot(train_sizes, test_scores_mean, 'o-', color=\"g\",\n",
    "             label=\"Cross-validation score\")\n",
    "\n",
    "    plt.legend(loc=\"best\")\n",
    "    return plt"
   ]
  },
  {
   "cell_type": "markdown",
   "metadata": {},
   "source": [
    "# Preprocessing the data and save the model and preprocessed data"
   ]
  },
  {
   "cell_type": "code",
   "execution_count": 8,
   "metadata": {
    "collapsed": false
   },
   "outputs": [],
   "source": [
    "# According to the nature of the data spasity and there is outliter RobustScaler class is recomandit \n",
    "# but when I tried both of them the result seems is same\n",
    "from sklearn.preprocessing import StandardScaler\n",
    "scaler = preprocessing.StandardScaler().fit(X_train)"
   ]
  },
  {
   "cell_type": "code",
   "execution_count": 9,
   "metadata": {
    "collapsed": false
   },
   "outputs": [],
   "source": [
    "X_train = scaler.transform(X_train)\n",
    "X_test = scaler.transform(X_test) # use same transform for testing data\n",
    "X = X_train"
   ]
  },
  {
   "cell_type": "code",
   "execution_count": 10,
   "metadata": {
    "collapsed": true
   },
   "outputs": [],
   "source": [
    "# save transformed data\n",
    "np.save('./data/X_train', X_train)\n",
    "np.save('./data/y_train', y_train)\n",
    "np.save('./data/X_test', X_test)\n",
    "np.save('./data/y_test', y_test)"
   ]
  },
  {
   "cell_type": "code",
   "execution_count": 11,
   "metadata": {
    "collapsed": false
   },
   "outputs": [
    {
     "data": {
      "text/plain": [
       "['scaler.pkl', 'scaler.pkl_01.npy', 'scaler.pkl_02.npy', 'scaler.pkl_03.npy']"
      ]
     },
     "execution_count": 11,
     "metadata": {},
     "output_type": "execute_result"
    }
   ],
   "source": [
    "# save the model scaler to the desk\n",
    "from sklearn.externals import joblib\n",
    "joblib.dump(scaler, 'scaler.pkl') "
   ]
  },
  {
   "cell_type": "code",
   "execution_count": 12,
   "metadata": {
    "collapsed": false
   },
   "outputs": [
    {
     "name": "stdout",
     "output_type": "stream",
     "text": [
      " =================================================================>>>>> done\n",
      "[[ 2.10991518 -0.88106119 -0.84617062 ...,  1.97132825 -1.97556016\n",
      "  -0.69267849]\n",
      " [-1.49852146  1.2030767  -0.84617062 ..., -0.17456898  0.33209718\n",
      "  -0.62793264]\n",
      " [ 0.79619183  1.26087498 -0.84617062 ..., -0.34824772 -0.21429096\n",
      "   0.7317303 ]\n",
      " ..., \n",
      " [-1.01146856 -0.31384476  1.84556404 ...,  0.4429554   0.25069398\n",
      "  -0.51462739]\n",
      " [-0.16567549  0.37690132  0.48783031 ..., -0.98764276 -0.495502   -0.2880169 ]\n",
      " [-0.28041116 -0.88106119  0.63813809 ..., -0.19180821  1.08532344\n",
      "  -0.69267849]]\n"
     ]
    }
   ],
   "source": [
    "# Test the model if it is work\n",
    "scalerTest = joblib.load('scaler.pkl')\n",
    "new_data_scaled = scalerTest.transform(new_test_data)\n",
    "print \" =================================================================>>>>> done\"\n",
    "print new_data_scaled"
   ]
  },
  {
   "cell_type": "markdown",
   "metadata": {},
   "source": [
    "# 1. Linear Regression"
   ]
  },
  {
   "cell_type": "markdown",
   "metadata": {},
   "source": [
    "Linear regression assumes that the input variables have a Gaussian distribution. It is also assumed that input variables are relevant to the output variable and that they are not highly correlated with each other (a problem called collinearity).\n",
    "\n"
   ]
  },
  {
   "cell_type": "markdown",
   "metadata": {},
   "source": [
    "## Learning Curve "
   ]
  },
  {
   "cell_type": "markdown",
   "metadata": {},
   "source": [
    "In essence, what we’re doing it training the exact same model with increasingly large fractions of our total training data, and plotting the error of the training and test sets at each step."
   ]
  },
  {
   "cell_type": "code",
   "execution_count": 13,
   "metadata": {
    "collapsed": false
   },
   "outputs": [
    {
     "data": {
      "image/png": "[encoded data removed]",
      "text/plain": [
       "<matplotlib.figure.Figure at 0x7f681bbf8610>"
      ]
     },
     "metadata": {},
     "output_type": "display_data"
    }
   ],
   "source": [
    "from sklearn.linear_model import LinearRegression\n",
    "model = LinearRegression()\n",
    "title = \"Learning Curves (Linear Refression)\"\n",
    "# Cross validation with 100 iterations to get smoother mean test and train\n",
    "# score curves, each time with 20% data randomly selected as a validation set.\n",
    "cv = cross_validation.ShuffleSplit(X.shape[0], n_iter=100,\n",
    "                                   test_size=0.2, random_state=0)\n",
    "plot_learning_curve(model, title, X, Y, ylim=(0.2, 1.01), cv=cv, n_jobs=-1)\n",
    "plt.show()"
   ]
  },
  {
   "cell_type": "code",
   "execution_count": 14,
   "metadata": {
    "collapsed": false
   },
   "outputs": [
    {
     "name": "stdout",
     "output_type": "stream",
     "text": [
      "train_sizes =  [ 50  80 110]\n",
      " training scores\n",
      " 50 training sizees\n",
      "0.679068240573 ± 0.0993530279238\n",
      " 80 training sizees\n",
      "0.646410860229 ± 0.0688444926544\n",
      " 110 training sizees\n",
      "0.638331417015 ± 0.0552840960283\n",
      "\n",
      " validation scores\n",
      " 50 validation scores\n",
      "0.418735120814 ± 0.25775008043\n",
      " 80 validation scores\n",
      "0.527282879673 ± 0.0804136068612\n",
      " 110 validation scores\n",
      "0.547986574516 ± 0.0845893437948\n"
     ]
    }
   ],
   "source": [
    "# More data from learning curve to show the process of building the model\n",
    "train_sizes, train_scores, valid_scores = learning_curve(\n",
    "     model, X, Y, train_sizes=[50, 80, 110], cv=cv, n_jobs=4)\n",
    "\n",
    "print 'train_sizes = ', train_sizes\n",
    "\n",
    "print ' training scores'\n",
    "print ' 50 training sizees'\n",
    "print train_scores[0].mean(),'±',train_scores[0].std()\n",
    "print ' 80 training sizees'\n",
    "print train_scores[1].mean(),'±',train_scores[1].std()\n",
    "print ' 110 training sizees'\n",
    "print train_scores[2].mean(),'±',train_scores[2].std()\n",
    "\n",
    "print '\\n validation scores'\n",
    "print ' 50 validation scores'\n",
    "print valid_scores[0].mean(),'±',valid_scores[0].std()\n",
    "print ' 80 validation scores'\n",
    "print valid_scores[1].mean(),'±',valid_scores[1].std()\n",
    "print ' 110 validation scores'\n",
    "print valid_scores[2].mean(),'±',valid_scores[2].std()"
   ]
  },
  {
   "cell_type": "markdown",
   "metadata": {},
   "source": [
    "## Cross validation"
   ]
  },
  {
   "cell_type": "code",
   "execution_count": 15,
   "metadata": {
    "collapsed": false
   },
   "outputs": [
    {
     "name": "stdout",
     "output_type": "stream",
     "text": [
      "Scoring according to mean_squared_error\n",
      "[ -98.50684876 -105.32071168  -92.61299741 -131.49623811 -141.93293905\n",
      "  -93.18980872 -127.6324255   -95.94473515 -129.89759729 -112.68130875]\n",
      "\n",
      " Mean      Standard deviation\n",
      "-112.92      17.46\n",
      "\n",
      " print intercept and coefficients\n",
      "36.100692614\n",
      "[ 12.46856628   9.59955452   5.87680709  -3.11872465   1.87233663\n",
      "   1.7249947    1.81960492   7.11755902]\n",
      "\n",
      "(feature, coefficients)\n",
      "[('Cement', 12.468566282160221), ('BlastFurnace', 9.5995545155150861), ('Fly_Ash', 5.8768070944604167), ('Water', -3.1187246484784863), ('Superplasticizer', 1.8723366288704488), ('CoarseAggregate', 1.7249947024313523), ('Aggregate', 1.8196049207167115), ('day', 7.1175590159457736)]\n"
     ]
    }
   ],
   "source": [
    "scoring = 'mean_squared_error'\n",
    "results = cross_validation.cross_val_score(model, X, Y, cv=kfold, scoring=scoring)\n",
    "print 'Scoring according to mean_squared_error'\n",
    "print results\n",
    "print '\\n Mean      Standard deviation'\n",
    "print(\"%.2f      %.2f\" % (results.mean(), results.std()))\n",
    "## Fit the model\n",
    "model.fit(X,Y)\n",
    "print '\\n print intercept and coefficients'\n",
    "print model.intercept_\n",
    "print model.coef_\n",
    "# pair the feature names with the coefficients\n",
    "print '\\n(feature, coefficients)'\n",
    "print zip(feature_cols, model.coef_)\n",
    "# Linear qu. of the model"
   ]
  },
  {
   "cell_type": "markdown",
   "metadata": {},
   "source": [
    "To be more precise these valrible is not the input feature as descripe on the dataset, those varibles in scaled virsion on the orginal onces. So, to be more correct I should assign to them another varibles but for easy to unserstand I kept them as they were."
   ]
  },
  {
   "cell_type": "markdown",
   "metadata": {},
   "source": [
    "## Coefficients Of Determination {Calculating R^2}\n",
    "\n",
    "R^2, Close to one is better"
   ]
  },
  {
   "cell_type": "code",
   "execution_count": 16,
   "metadata": {
    "collapsed": false
   },
   "outputs": [
    {
     "name": "stdout",
     "output_type": "stream",
     "text": [
      "R-squared =  0.600046759437\n"
     ]
    }
   ],
   "source": [
    "predicted = cross_val_predict(model, X, Y, cv=kfold)\n",
    "r_squared = r2_score(Y, predicted, multioutput='variance_weighted')\n",
    "print 'R-squared = ',r_squared"
   ]
  },
  {
   "cell_type": "markdown",
   "metadata": {},
   "source": [
    "## More results on linear regression by using Statsmodel\n",
    "\n",
    "http://statsmodels.sourceforge.net/stable/  "
   ]
  },
  {
   "cell_type": "code",
   "execution_count": 17,
   "metadata": {
    "collapsed": false
   },
   "outputs": [
    {
     "name": "stdout",
     "output_type": "stream",
     "text": [
      "                            OLS Regression Results                            \n",
      "==============================================================================\n",
      "Dep. Variable:                      y   R-squared:                       0.609\n",
      "Model:                            OLS   Adj. R-squared:                  0.605\n",
      "Method:                 Least Squares   F-statistic:                     158.7\n",
      "Date:                Wed, 05 Oct 2016   Prob (F-statistic):          1.57e-160\n",
      "Time:                        15:15:53   Log-Likelihood:                -3107.1\n",
      "No. Observations:                 824   AIC:                             6232.\n",
      "Df Residuals:                     815   BIC:                             6275.\n",
      "Df Model:                           8                                         \n",
      "Covariance Type:            nonrobust                                         \n",
      "==============================================================================\n",
      "                 coef    std err          t      P>|t|      [95.0% Conf. Int.]\n",
      "------------------------------------------------------------------------------\n",
      "const         36.1007      0.368     98.111      0.000        35.378    36.823\n",
      "x1            12.4686      0.996     12.514      0.000        10.513    14.424\n",
      "x2             9.5996      1.004      9.563      0.000         7.629    11.570\n",
      "x3             5.8768      0.917      6.409      0.000         4.077     7.677\n",
      "x4            -3.1187      0.973     -3.205      0.001        -5.029    -1.209\n",
      "x5             1.8723      0.635      2.950      0.003         0.627     3.118\n",
      "x6             1.7250      0.826      2.089      0.037         0.104     3.346\n",
      "x7             1.8196      0.980      1.856      0.064        -0.105     3.744\n",
      "x8             7.1176      0.387     18.407      0.000         6.359     7.877\n",
      "==============================================================================\n",
      "Omnibus:                        5.864   Durbin-Watson:                   2.031\n",
      "Prob(Omnibus):                  0.053   Jarque-Bera (JB):                5.828\n",
      "Skew:                          -0.206   Prob(JB):                       0.0543\n",
      "Kurtosis:                       3.023   Cond. No.                         8.70\n",
      "==============================================================================\n",
      "\n",
      "Warnings:\n",
      "[1] Standard Errors assume that the covariance matrix of the errors is correctly specified.\n"
     ]
    }
   ],
   "source": [
    "import statsmodels.api as sm\n",
    "results = sm.OLS(Y,sm.add_constant(X)).fit()\n",
    "print results.summary()"
   ]
  },
  {
   "cell_type": "markdown",
   "metadata": {},
   "source": [
    "## Residual Plot"
   ]
  },
  {
   "cell_type": "code",
   "execution_count": 18,
   "metadata": {
    "collapsed": false
   },
   "outputs": [
    {
     "data": {
      "image/png": "[encoded data removed]",
      "text/plain": [
       "<matplotlib.figure.Figure at 0x7f6811390490>"
      ]
     },
     "metadata": {},
     "output_type": "display_data"
    }
   ],
   "source": [
    "predicted = cross_val_predict(model, X, Y, cv=kfold)\n",
    "fig, ax = plt.subplots()\n",
    "ax.scatter(Y, predicted)\n",
    "ax.plot([Y.min(), Y.max()], [Y.min(), Y.max()], 'k--', lw=4)\n",
    "ax.set_xlabel('Measured')\n",
    "ax.set_ylabel('Predicted')\n",
    "plt.show()"
   ]
  },
  {
   "cell_type": "code",
   "execution_count": 19,
   "metadata": {
    "collapsed": false
   },
   "outputs": [
    {
     "data": {
      "text/html": [
       "\n",
       "\n",
       "    <div class=\"bk-root\">\n",
       "        <div class=\"plotdiv\" id=\"5d7a748f-de1d-4508-bfce-7c15cc362559\"></div>\n",
       "    </div>\n",
       "<script type=\"text/javascript\">\n",
       "  \n",
       "  (function(global) {\n",
       "    function now() {\n",
       "      return new Date();\n",
       "    }\n",
       "  \n",
       "    var force = \"\";\n",
       "  \n",
       "    if (typeof (window._bokeh_onload_callbacks) === \"undefined\" || force !== \"\") {\n",
       "      window._bokeh_onload_callbacks = [];\n",
       "      window._bokeh_is_loading = undefined;\n",
       "    }\n",
       "  \n",
       "  \n",
       "    \n",
       "    if (typeof (window._bokeh_timeout) === \"undefined\" || force !== \"\") {\n",
       "      window._bokeh_timeout = Date.now() + 0;\n",
       "      window._bokeh_failed_load = false;\n",
       "    }\n",
       "  \n",
       "    var NB_LOAD_WARNING = {'data': {'text/html':\n",
       "       \"<div style='background-color: #fdd'>\\n\"+\n",
       "       \"<p>\\n\"+\n",
       "       \"BokehJS does not appear to have successfully loaded. If loading BokehJS from CDN, this \\n\"+\n",
       "       \"may be due to a slow or bad network connection. Possible fixes:\\n\"+\n",
       "       \"</p>\\n\"+\n",
       "       \"<ul>\\n\"+\n",
       "       \"<li>re-rerun `output_notebook()` to attempt to load from CDN again, or</li>\\n\"+\n",
       "       \"<li>use INLINE resources instead, as so:</li>\\n\"+\n",
       "       \"</ul>\\n\"+\n",
       "       \"<code>\\n\"+\n",
       "       \"from bokeh.resources import INLINE\\n\"+\n",
       "       \"output_notebook(resources=INLINE)\\n\"+\n",
       "       \"</code>\\n\"+\n",
       "       \"</div>\"}};\n",
       "  \n",
       "    function display_loaded() {\n",
       "      if (window.Bokeh !== undefined) {\n",
       "        Bokeh.$(\"#5d7a748f-de1d-4508-bfce-7c15cc362559\").text(\"BokehJS successfully loaded.\");\n",
       "      } else if (Date.now() < window._bokeh_timeout) {\n",
       "        setTimeout(display_loaded, 100)\n",
       "      }\n",
       "    }\n",
       "  \n",
       "    function run_callbacks() {\n",
       "      window._bokeh_onload_callbacks.forEach(function(callback) { callback() });\n",
       "      delete window._bokeh_onload_callbacks\n",
       "      console.info(\"Bokeh: all callbacks have finished\");\n",
       "    }\n",
       "  \n",
       "    function load_libs(js_urls, callback) {\n",
       "      window._bokeh_onload_callbacks.push(callback);\n",
       "      if (window._bokeh_is_loading > 0) {\n",
       "        console.log(\"Bokeh: BokehJS is being loaded, scheduling callback at\", now());\n",
       "        return null;\n",
       "      }\n",
       "      if (js_urls == null || js_urls.length === 0) {\n",
       "        run_callbacks();\n",
       "        return null;\n",
       "      }\n",
       "      console.log(\"Bokeh: BokehJS not loaded, scheduling load and callback at\", now());\n",
       "      window._bokeh_is_loading = js_urls.length;\n",
       "      for (var i = 0; i < js_urls.length; i++) {\n",
       "        var url = js_urls[i];\n",
       "        var s = document.createElement('script');\n",
       "        s.src = url;\n",
       "        s.async = false;\n",
       "        s.onreadystatechange = s.onload = function() {\n",
       "          window._bokeh_is_loading--;\n",
       "          if (window._bokeh_is_loading === 0) {\n",
       "            console.log(\"Bokeh: all BokehJS libraries loaded\");\n",
       "            run_callbacks()\n",
       "          }\n",
       "        };\n",
       "        s.onerror = function() {\n",
       "          console.warn(\"failed to load library \" + url);\n",
       "        };\n",
       "        console.log(\"Bokeh: injecting script tag for BokehJS library: \", url);\n",
       "        document.getElementsByTagName(\"head\")[0].appendChild(s);\n",
       "      }\n",
       "    };var element = document.getElementById(\"5d7a748f-de1d-4508-bfce-7c15cc362559\");\n",
       "    if (element == null) {\n",
       "      console.log(\"Bokeh: ERROR: autoload.js configured with elementid '5d7a748f-de1d-4508-bfce-7c15cc362559' but no matching script tag was found. \")\n",
       "      return false;\n",
       "    }\n",
       "  \n",
       "    var js_urls = [];\n",
       "  \n",
       "    var inline_js = [\n",
       "      function(Bokeh) {\n",
       "        Bokeh.$(function() {\n",
       "            var docs_json = {\"9107d4e7-6284-4cde-9343-fb0c5deb443b\":{\"roots\":{\"references\":[{\"attributes\":{},\"id\":\"c837765f-bf84-4f2e-97ae-bdfafa8275b9\",\"type\":\"BasicTickFormatter\"},{\"attributes\":{\"fill_color\":{\"value\":\"#80B1D3\"},\"line_color\":{\"value\":\"#80B1D3\"},\"line_width\":{\"value\":3},\"x\":{\"field\":\"x\"},\"y\":{\"field\":\"y\"}},\"id\":\"1c9331e9-e454-4a18-918d-9f52aaf8171c\",\"type\":\"Circle\"},{\"attributes\":{\"plot\":{\"id\":\"080d4b61-3df5-494a-ba2f-231f32026c89\",\"subtype\":\"Figure\",\"type\":\"Plot\"}},\"id\":\"f3bb4db9-e803-47b8-932e-3b3f1d5530fd\",\"type\":\"ResetTool\"},{\"attributes\":{\"bottom_units\":\"screen\",\"fill_alpha\":{\"value\":0.5},\"fill_color\":{\"value\":\"lightgrey\"},\"left_units\":\"screen\",\"level\":\"overlay\",\"line_alpha\":{\"value\":1.0},\"line_color\":{\"value\":\"black\"},\"line_dash\":[4,4],\"line_width\":{\"value\":2},\"plot\":null,\"render_mode\":\"css\",\"right_units\":\"screen\",\"top_units\":\"screen\"},\"id\":\"49d33e51-127d-4890-ab7a-307e321e0872\",\"type\":\"BoxAnnotation\"},{\"attributes\":{},\"id\":\"09acf214-2f9d-4cbb-80e0-4b258f113cc3\",\"type\":\"BasicTicker\"},{\"attributes\":{\"callback\":null,\"overlay\":{\"id\":\"1a4822c7-218c-47ef-9dbb-0a2577e5d418\",\"type\":\"BoxAnnotation\"},\"plot\":{\"id\":\"080d4b61-3df5-494a-ba2f-231f32026c89\",\"subtype\":\"Figure\",\"type\":\"Plot\"},\"renderers\":[{\"id\":\"152984d2-cf19-469b-938c-20c553099382\",\"type\":\"GlyphRenderer\"},{\"id\":\"e996223f-1257-42fb-8ea9-8701eeb8e0e2\",\"type\":\"GlyphRenderer\"}]},\"id\":\"6eb476dd-9282-44fc-bec3-d07f5d35bd1c\",\"type\":\"BoxSelectTool\"},{\"attributes\":{\"fill_alpha\":{\"value\":0.5},\"fill_color\":{\"value\":\"lightgrey\"},\"level\":\"overlay\",\"line_alpha\":{\"value\":1.0},\"line_color\":{\"value\":\"black\"},\"line_dash\":[4,4],\"line_width\":{\"value\":2},\"plot\":null,\"xs_units\":\"screen\",\"ys_units\":\"screen\"},\"id\":\"4b93c39f-5d63-4274-8e40-05e410cfda71\",\"type\":\"PolyAnnotation\"},{\"attributes\":{\"dimension\":1,\"plot\":{\"id\":\"080d4b61-3df5-494a-ba2f-231f32026c89\",\"subtype\":\"Figure\",\"type\":\"Plot\"},\"ticker\":{\"id\":\"09acf214-2f9d-4cbb-80e0-4b258f113cc3\",\"type\":\"BasicTicker\"}},\"id\":\"38cdfc9e-f1ff-4edf-a144-4a95b9d35d1c\",\"type\":\"Grid\"},{\"attributes\":{\"overlay\":{\"id\":\"49d33e51-127d-4890-ab7a-307e321e0872\",\"type\":\"BoxAnnotation\"},\"plot\":{\"id\":\"080d4b61-3df5-494a-ba2f-231f32026c89\",\"subtype\":\"Figure\",\"type\":\"Plot\"}},\"id\":\"debb02ce-149d-48b8-bce8-c34ac45347f7\",\"type\":\"BoxZoomTool\"},{\"attributes\":{\"axis_label\":\"Measured\",\"axis_label_text_color\":{\"value\":\"#aa6666\"},\"formatter\":{\"id\":\"ce04d43b-5596-40b5-aaa7-3ced3655ec75\",\"type\":\"BasicTickFormatter\"},\"major_tick_line_color\":{\"value\":\"firebrick\"},\"major_tick_line_width\":{\"value\":3},\"minor_tick_line_color\":{\"value\":\"orange\"},\"plot\":{\"id\":\"080d4b61-3df5-494a-ba2f-231f32026c89\",\"subtype\":\"Figure\",\"type\":\"Plot\"},\"ticker\":{\"id\":\"e42b8753-13ac-4519-bff0-3a5db16ad4a7\",\"type\":\"BasicTicker\"}},\"id\":\"8886cda3-af39-486e-b432-5091d0933625\",\"type\":\"LinearAxis\"},{\"attributes\":{\"callback\":null,\"plot\":{\"id\":\"080d4b61-3df5-494a-ba2f-231f32026c89\",\"subtype\":\"Figure\",\"type\":\"Plot\"}},\"id\":\"10823c54-d2b7-4956-8d4f-e7198b651ec5\",\"type\":\"TapTool\"},{\"attributes\":{\"callback\":null},\"id\":\"726d507e-6932-48fc-9ae3-ceadab9f587a\",\"type\":\"DataRange1d\"},{\"attributes\":{\"callback\":null,\"overlay\":{\"id\":\"4b93c39f-5d63-4274-8e40-05e410cfda71\",\"type\":\"PolyAnnotation\"},\"plot\":{\"id\":\"080d4b61-3df5-494a-ba2f-231f32026c89\",\"subtype\":\"Figure\",\"type\":\"Plot\"}},\"id\":\"24a2b7f7-c6b6-4a92-8ed9-1834c1754276\",\"type\":\"LassoSelectTool\"},{\"attributes\":{\"overlay\":{\"id\":\"c97fe1be-fadf-4267-aebc-b6010b85526a\",\"type\":\"PolyAnnotation\"},\"plot\":{\"id\":\"080d4b61-3df5-494a-ba2f-231f32026c89\",\"subtype\":\"Figure\",\"type\":\"Plot\"}},\"id\":\"8770ad39-5fd5-449f-808c-62c098e754e0\",\"type\":\"PolySelectTool\"},{\"attributes\":{\"axis_label\":\"Predicted\",\"axis_label_text_color\":{\"value\":\"#aa6666\"},\"formatter\":{\"id\":\"c837765f-bf84-4f2e-97ae-bdfafa8275b9\",\"type\":\"BasicTickFormatter\"},\"plot\":{\"id\":\"080d4b61-3df5-494a-ba2f-231f32026c89\",\"subtype\":\"Figure\",\"type\":\"Plot\"},\"ticker\":{\"id\":\"09acf214-2f9d-4cbb-80e0-4b258f113cc3\",\"type\":\"BasicTicker\"}},\"id\":\"c9d6f060-d570-4304-ae94-d709665ac95a\",\"type\":\"LinearAxis\"},{\"attributes\":{\"plot\":{\"id\":\"080d4b61-3df5-494a-ba2f-231f32026c89\",\"subtype\":\"Figure\",\"type\":\"Plot\"}},\"id\":\"12b806b5-f5a6-4824-be8d-a501fe8468f9\",\"type\":\"WheelZoomTool\"},{\"attributes\":{\"callback\":null,\"column_names\":[\"x\",\"y\"],\"data\":{\"x\":[43.892042159999995,38.21075992,33.419591196,13.12072828,47.22221124,22.31833812,12.47262084,28.937997196,47.029847436000004,26.322814728,30.439675923999996,12.63809508,20.77391188,43.798273423999994,66.10006412,15.361525279999999,40.865242519999995,45.939785879999995,33.75674496,43.58177796,23.524231644,42.69924868,14.143910664,48.401215199999996,34.569637164,35.85964676,59.09498796,24.49708228,37.721921436,15.520104759999999,32.401235144,33.05347944,49.249270679999995,71.69860924,54.896079119999996,50.45930106,51.863763672,28.6822016,26.77235308,17.236210524,36.83870268,40.2309246,47.714497103999996,11.36256448,9.99050724,40.925226931999994,40.563252031999994,31.715896,39.417342919999996,18.12632404,18.28490352,9.86640156,41.2996124,34.55653712,53.95839176,82.5992248,54.598914963999995,44.61185510399999,39.28978986,63.528318639999995,39.1622368,39.321505756,20.416073836,44.395359639999995,56.33708396,38.500339839999995,32.245413568000004,42.229026048,46.247292176,33.68779736,44.209201119999996,33.72916592,64.90037588,33.192064116000005,12.45193656,44.14025352,57.915983999999995,55.50971276,37.2661778,42.21661548,41.20308576,39.779317819999996,64.90037588,39.6621069,23.5111316,54.765078679999995,29.073134491999998,49.77327244,65.19685056,36.588422892,52.00717468,37.2661778,43.57833058,40.679083999999996,26.96540636,36.251958603999995,25.726417988,12.180972492,72.99482412,28.62704352,11.392211948,20.08443588,48.28400428,24.00065956,45.304778483999996,35.763120119999996,74.19451236,14.699628319999999,25.60910856945864,61.99078716,38.074243671999994,54.09628696,40.856968808,39.84481804,22.435549039999998,25.893960655999997,42.919881,30.647208199999998,26.200088,23.13881456,26.8550902,26.147687824,52.446370892,37.92118,41.836714203999996,48.9872698,8.536402356,35.75425543054136,48.587373719999995,21.601283079999998,28.79941252,32.823194456,79.29663476,11.654902304,66.78067543054136,61.09446836,48.67011084,40.1964508,26.258003984,13.45857152,47.739318239999996,23.696600644,27.827251359999998,31.35047372,60.32225524,48.695621452,39.0932892,33.116911232,37.32823064,50.69717028,13.565440299999999,33.68779736,53.46196904,16.503987012,61.85584685418796,60.2946762,43.01296026,77.29715436,56.847296199999995,55.495923239999996,15.049192651999999,17.83674412,19.765208492,24.53845084,21.946021079999998,33.56369168,43.0577762,27.681082448,31.026419999999998,2.331807832,42.29245784,15.340841,19.691434559999998,33.70158688,47.782065751999994,56.141962252,24.8900836,29.870858223999996,58.60546,24.90387312,13.395533715270679,23.786922,33.72916592,52.04164848,31.35047372,37.9556538,57.59882504,29.447519959999997,23.8903434,67.69964844,34.73580088,39.056057496,25.0969264,45.3675208,28.096147,23.221551679999997,40.14818748,42.14008364399999,37.34202016,44.13335876,60.280886679999995,49.77327244,59.590425715270676,17.959470848000002,24.104080959999997,26.94472208,31.966865263999996,28.23748958,16.10960674,54.27555072,18.746162964,24.91766264,40.85834776,11.46598588,38.407950056000004,25.2003478,79.40005615999999,23.51802636,66.42411784,39.45181672,29.7853632,22.347985588,55.89581932,30.12320644,67.568648,53.52402188,13.29309728,24.0971862,14.98920824,39.58281716,48.846616696,11.957582268,39.37597436,19.98790924,39.455953576,39.421479776,24.483292759999998,59.19840936,66.69990824,49.973220479999995,40.7135578,39.699338604,20.27748916,17.57474324,33.082437432,41.05140104,56.14403068,43.377003588,15.08573488,77.29715436,32.83974188,37.437857324,23.744174488,56.3991368,43.388724679999996,44.698039603999995,32.720462532,53.90323368,7.74971024,47.8151606,59.89478012,38.01770664,68.75060685418796,6.883728383999999,76.80073164,11.85209244,8.48744956,49.20100736,32.768036376000005,33.21205892,17.9953236,23.80071152,6.902344236,18.12632404,10.535882756,25.510612,13.461329424,25.48303296,55.647607959999995,32.96384756,19.41564416,22.94576128,19.691434559999998,18.033934256,52.908319811999995,23.24519085418796,25.68987576,17.95395504,43.698299404,15.575262839999999,25.422359072,29.15794004,22.435549039999998,22.53207568,21.179323768,33.398217439999996,48.97348028,22.489328168,67.30664712,39.6103962,45.08483564,38.461039708,46.931941843999994,40.59634688,30.44726016,24.290928956,49.99390476,8.06342182,16.27852836,40.38950408,23.639177145812038,21.066249704,43.25082948,20.91870184,33.798802996,44.02993736,9.84965714581204,25.62092816,24.44881896,76.23536132,15.748321315999998,58.522722879999996,7.8393421199999995,17.275510655999998,27.22051248,71.29871315999999,68.09954452,24.65566176,26.91369566,33.399596392,29.39236188,29.89223198,46.80163088,31.25394708,55.55108132,28.99936056,39.300132,10.335934715999999,79.98611076,47.27736932,25.021084039999998,24.39366088,43.733462679999995,49.80085148,9.011451319999999,11.414275179999999,33.5430074,55.82687172,46.89815752,31.74347504,35.36322404,35.34253976,65.99664272,30.2335226,35.314271244,36.93522932,12.73462172,11.169511199999999,38.60376124,44.6090972,41.15137506,12.788400847999998,12.17614616,33.0431373,21.859147104,41.052779992,71.29871315999999,47.7117392,46.2293658,26.74477404,41.540929,26.91714304,55.94408264,17.8229546,61.23581094,15.340841,31.419421319999998,21.91154728,16.87837248,52.42086028,37.171030112,39.64487,50.655112243999994,13.52062436,35.9561734,47.13257936,56.095767359999996,19.35014394,32.068218236,18.19871902,60.2946762,13.33446584,27.923778,33.60506024,71.29871315999999,36.447769788,33.488834284729315,38.45897128,38.70028788,33.79811352,19.41564416,39.48629052,59.30183076,80.19984832,32.051670812,21.859147104,56.7438748,10.53519328,25.965666159999998,4.9035533120000006,41.940825079999996,41.934619796,67.86512268,13.089012384,51.021224,52.95865156,28.98557104,17.96429718,29.54897143054136,41.244454319999996,58.78472376,12.459520796,34.67374804,41.684340008,16.889404096,25.216895223999998,66.59648684,51.331488199999995,33.019005639999996,30.12320644,13.293786756,34.77027468,38.11423328,35.852751999999995,16.26473884,38.20386516,21.819846971999997,14.49968028,9.735401119999999,10.76272036,17.165883972,14.54104884,36.63875464,50.07664188,36.964187312,44.296075096,36.34917472,56.061293559999996,19.10537996,24.281965768,36.349864196,15.069975430541358,25.460969728000002,38.70028788,43.377003588,67.11359384,27.234302,19.199148695999998,29.41304616,29.654362759999998,13.62404576,40.14818748,29.55094136,32.66047812,56.69561148,11.483912255999998,35.225328839999996,42.32693164,33.003837168,51.25564584,21.917063088,38.215586251999994,77.29715436,52.426376088,37.231704,26.22766704,38.99676256,24.986610239999997,22.83544512,12.24509376,39.604880392,15.520104759999999,65.19685056,55.89581932,39.358047983999995,17.576122192,40.934879596,12.052040479999999,24.404692496,23.52492112,39.300132,55.45455468,37.431652039999996,69.83702404,31.35047372,46.20178676,46.38794528,35.3011712,28.62704352,31.874475479999997,20.593958644,12.5484632,33.664355176,15.091250688,69.65776027999999,59.76377968,36.443632932,22.93197176,42.030456959999995,32.626693796000005,66.82401392,71.98818916,74.3649114581204,72.09850532,36.990387399999996,21.53923024,37.431652039999996,64.30053176,7.3153403599999995,38.60376124,22.89749796,32.01138571527068,27.67556664,40.062002979999995,56.49566344,70.69886903999999,46.6430514,31.971002119999998,32.72253096,23.786922,32.956952799999996,55.15808,10.38350856,74.4978818,53.72396992,30.881630039999997,13.54130864,43.5748832,21.504756439999998,52.826961643999994,33.0603742,50.77301264,19.539060364,42.131120456,35.3011712,41.542997428,47.401475,51.732763231999996,19.98790924,15.04436632,29.592309919999998,42.126983599999996,52.30364936,39.382869119999995,39.14844728,36.3009114,44.32641204,23.404952295999998,22.629981272,15.615941924,23.83518532,35.225328839999996,31.17810472,27.874825204,38.56239268,54.315540328,42.63719584,33.301690799999996,12.541568439999999,4.782205536,29.06830816,34.23937816,32.88455782,49.89737812,31.53663224,33.70158688,32.763899519999995,37.91428524,25.559564796,17.43684804,57.21823428799999,50.526869708,14.306626999999999,19.009542795999998,10.089791784,13.18278112,13.52062436,30.275580636,52.516697443999995,81.75116932,28.46846404,40.85834776,71.29871315999999,17.36790044,55.89581932,62.5009994,26.233182848000002,34.20490436,41.40992856,9.617500724000001,17.22311048,44.38846488,19.765208492,50.511011759999995,39.05192064,25.11662571527068,35.570066839999996,44.27814872,50.60064364,68.29949256,31.178794196000002,62.052839999999996,39.2311844,15.030576799999999,17.596806471999997,36.56291228,59.79825348,56.8128224,53.300631656,37.997022359999995,64.30053176,77.29715436,38.610656,10.787541496,34.48758952,53.65502232,13.22414968,63.3973182,36.93522932,25.3727168,12.17614616,37.16965116,51.0556978,21.91154728,44.298833,53.77223324,21.29101888,45.2985732,18.415903959999998,42.620648416,60.949678399999996,31.11605188,15.43736764,24.24197616,42.79577532,21.96670536,38.630650804,26.0621928,24.42813468,27.77209328,31.899986092,56.619079643999996,33.27411176,11.57630204,30.219733079999997,56.61287436,33.306517131999996,29.93015316,24.00065956,46.234192132,79.29663476,41.719503284,33.398217439999996,51.03501352,14.98920824,28.021683592,32.39847724,53.104130996,35.3011712,14.796154959999999,30.079769451999997,37.265488323999996,50.94882902,43.698299404,21.6495464,23.07676172,24.065470304,10.0318758,58.798513279999995,25.17966352,24.437787344,60.2946762,40.65839972,7.507014687999999,55.59934464,36.3009114,74.69782984,9.561653168,44.207822168,13.19657064,27.935499091999997,26.04840328,32.109882284729316,78.80021203999999,26.40003604,56.63355864,15.691094808,25.083136879999998,51.021224,37.25928304,42.42345828,43.49904084,23.523542168,25.55887532,31.640053639999998,12.83804312,33.963587759999996,49.20100736,15.569747031999999,28.991086848000002,65.19685056,12.37264682,41.885667,25.745033839999998,40.0585556,46.2293658,23.73865868,43.565230536,41.05140104,32.8535314,31.023662096000002,60.19814956,65.90701084,73.29819356,44.27814872,52.20022796,26.859916531999996,40.759063216,11.46598588,21.78054684,40.56876784,28.296095039999997,18.287661424,14.2032056,44.51946532,14.843728804,21.26343984,39.39665864,52.44154456,35.3011712,41.09966436,24.28334472,25.17966352,61.797733879999996,23.69039536,31.2677366,9.131420144,36.804918356,30.84715624,42.54756396,19.00885332,25.10382116,44.63667624,38.995383608,9.307926,55.55108132,38.76923548,45.83636448,74.16693332,22.752708,27.742445811999996,29.86810032,49.185149411999994,24.3385028,44.523602176000004,68.4994406,31.6469484,37.427515183999994,67.79617508,36.4388066,55.020184799999996,39.004642284729314,32.53292506,73.69808963999999,19.93275116,8.374375495999999,10.222171176,14.596896395999998,43.69898888,7.723510152,31.35047372,44.868340176000004,45.3675208,29.7508894,26.14492992,55.19944856,29.231713971999998,51.04190828,65.909079268,79.29663476,9.738159024,54.896079119999996,37.36270444,51.72448952,20.72564856,52.82075636,32.102692036,71.62276688,35.86585204399999,35.101223159999996,46.24315532,31.84000168,33.398217439999996,57.21271848,43.942373908,7.675936308,18.0297974,31.875164956000003,75.49762199999999,24.40055564,8.204074924,46.68441996,3.31982694,21.02212324,41.36856,27.04124872,44.42293868,34.39795764,20.96696516,36.96970312,6.26733684,15.41668336,39.435269296,50.732333556],\"y\":[39.03988870156762,30.41474211990738,31.11452511787099,25.131108276811396,49.037088490432325,22.69985113436593,22.770417159421747,22.462227226431985,26.086702544449103,21.640097513608104,22.27344361443281,39.13063398105464,19.627934210567382,39.81088695394298,57.51138222640697,31.719612244554696,38.956717011715625,35.94296139920604,41.25542375284486,35.719311117528065,25.644701429475482,32.23635541558705,34.0525082790793,45.11934733627595,36.49462133757491,37.093907585949125,61.290389229797924,21.08922142356559,35.385980746829595,31.25099505351472,31.681954964800795,35.90755655899305,30.43513190733973,59.530804433888356,58.92931082839496,27.063794001835365,42.357025551467785,32.94400549852273,27.561399354981848,31.00082600174876,49.05278510810508,27.963533951096657,34.901461637984895,15.82173680622212,11.728222240035837,40.08189689663158,35.996662907696006,30.67886053422623,38.59717968628728,21.634846090330804,24.48569964040871,19.61805643442517,61.41522322621796,30.106011827545405,38.64764176997237,70.64030135100832,43.736345833190065,34.65957168425969,30.316901616154496,48.77815790854325,32.56200359887761,35.07512587683193,25.67939722625274,33.05959145990998,54.506900512144476,30.650263831894776,25.782217225434934,37.218027229428834,32.56607922768698,52.84967048609941,35.92803060725673,29.11971804185025,55.54740764195726,23.41374642259721,23.24863719416031,40.230911617677556,51.392362905065625,40.76394751893434,25.110741858580283,37.007236126670605,34.2539976043238,45.403743733840734,60.85414811861865,28.214033516372453,29.109383096716634,56.02627051044138,33.65222698781515,38.07633471610779,63.46145680525544,28.26545894994682,51.07816050134312,35.32046127743087,37.47884318154406,34.89899799267556,28.473932416067534,45.278363551995476,21.736374151054683,17.107646093661092,53.894759141712306,27.034072466753475,15.71029352593662,22.594269002391723,36.0557066095367,28.907799857512824,42.11508959442566,29.831881447189176,62.39661636239801,27.522187379424494,49.25277191577031,43.34677195329896,29.7646781714136,50.43657664502374,19.276365252507738,35.16759896434004,21.128504999396256,35.18472206226552,36.92399991274132,37.76634898288335,23.31093446687023,33.288507361928595,27.58028806741428,28.8473850011407,42.12490117322122,49.484643568727414,47.77890432386853,38.18926129919313,17.859292120455095,47.712527020005666,35.69967960494283,26.407822240241643,49.98032405579727,28.004750337452208,60.943189985172275,16.84482820207125,53.13623754531754,53.76919648334046,37.08378462045531,66.84329573535913,26.12934475854742,27.66166209871958,37.446019546684724,26.655501249904205,22.969227313121085,31.26858035890576,41.1921694512787,37.10115298671421,32.89406091761472,35.31644626060631,39.27501512858464,49.802083402926996,25.525067543495158,29.699718423849163,36.958120676200295,24.303940490899897,54.90835409403929,56.488114701283024,57.740821615257694,57.06911103852093,40.242996026276444,53.878900309698,25.171136618753618,26.515501204483773,33.97690982752796,24.621486369976456,20.882915643301793,35.421883374795165,33.743783895616176,35.465530263631265,23.177029724766847,11.076871256163798,35.24979906808044,24.401262386467216,17.793691254720077,34.32435979908263,35.78028034799435,59.48328395732164,22.902712186636492,32.14874164461152,45.517036698790506,25.49266727705115,30.8951478230762,25.350894789628637,33.929574722206695,43.3309312602342,27.410997356678003,32.51546097203591,57.533057176876525,26.157081829852284,40.86927308453252,51.52830492402361,35.30696606540077,30.49467866929087,27.225356694750946,45.28383631433348,47.30503829819833,27.572694052581404,35.55675954381459,35.6524565603957,34.35056688386942,42.14871697199075,49.606567565073,38.25943844990289,54.257084489056325,26.048555893797367,31.82238642866116,22.260871227607993,24.047828291082507,25.570994999172537,34.111191188338275,45.967406174407635,16.2958554514099,24.65068762108309,32.5250067960171,15.20358496907172,56.27797787141773,51.7556086114826,66.74996582214638,26.341249707057862,46.74208650682879,37.368694546298926,54.22343022347736,18.091915029877804,51.708154420880135,30.066928735042247,53.385466638585314,40.131892939144706,20.668631742021024,46.20253958072094,19.798693121527112,29.465800075056038,37.24655052215245,23.11447991042771,41.730711632372994,22.600339206151315,37.35939895960288,39.28729254598136,23.731004975436132,70.5611092839911,64.87620705488425,36.31937606148939,31.27109126919138,46.74026031622796,25.1951864093721,32.65107236237192,32.247842203615306,40.20932475666272,56.333612502528496,37.40024447833589,26.670909129332617,57.634505446964354,34.01520183456943,31.33003249537695,23.945497683998425,63.20373679566889,28.70367563333533,64.05126531621863,24.913520583224585,36.78991617836806,34.723648179678534,39.43773857654842,52.597181984095315,51.02923448042104,53.9204495816833,19.22681137829991,59.13966682855995,20.214806385172906,22.840614958572587,54.397790537452295,29.901727505394557,40.05938463207484,25.753855853185968,34.91977091864763,24.893877724744364,25.72633426130372,17.34741528477867,48.49218055594297,27.52632014209617,23.094495925977963,54.4216560482624,33.599792945395066,26.474112174154502,32.51134586312136,18.37813378018669,22.570057357007727,27.414982196537434,23.890167992612046,23.478593559577316,25.917361313317944,67.44406081026155,21.303157444815607,47.334411364692954,26.928862018933362,21.463506095588947,22.388466497354678,24.627568282745,52.28210451677497,43.90144590463845,33.88857396790436,51.00141781620266,34.28788860807807,38.89539792208162,37.0089078898174,35.966216092790454,60.813252946041565,37.50527368845241,17.21465825674118,41.700001798103834,23.434012366837095,23.179904342889287,37.246332809395355,47.89043723905803,30.657385234942115,29.86862868253504,24.503340278535184,32.884527278457035,50.44789633412464,17.860155649986773,24.431416338528493,21.718236715023735,51.473856368883474,25.348972995885894,46.71287403493774,12.304619156380262,14.600432153736001,25.684960403207146,54.44883854897364,61.8391052107471,24.092126954211793,31.362962764057137,31.693289558208914,28.649577373302535,21.678517985150897,55.14340556240238,26.340396741688025,51.057094584358666,54.80364230556684,53.2755875349719,14.45758574497107,53.0321828903592,47.40049808604139,50.512482148962896,36.48856901829713,33.78837181967108,51.67493500757966,25.593059189160858,19.888197556718342,32.70659832332861,40.295441251189075,60.877333723190205,25.603945200940892,50.50356261357149,32.34361187753959,56.22282274296894,24.93191780129594,33.89560593679709,32.90604103238461,16.64813338076303,14.377056813855397,34.2669517393668,35.08833698304845,58.12263183460163,32.82874898375558,22.155891482030988,39.40756894952796,36.931891374810455,68.75307685600299,54.06051091002993,38.27358610881535,47.658635799384484,37.364254427366475,34.10538977309803,26.12771576329927,46.72214897070812,36.21563261645484,44.58271195366443,29.541940519905822,24.830141300242598,33.16933466691128,22.642523071109007,39.98167980992258,31.89009599998733,28.626493061623332,47.31838905413284,19.961126882912012,39.324478413713216,31.32946366934584,53.74714516825142,26.082203314790426,27.281603923018995,24.928313885017793,56.63697186192268,26.941741094459864,28.99428176848457,28.06873676387837,54.06051091002993,29.59339502119031,48.58141700964116,37.28345347660411,33.92000550399832,32.70306738865841,31.55053002515814,35.150803825278395,44.55972670000364,57.45151601525385,33.839388355871044,23.80021239469506,44.604607273939784,17.369002016302858,19.031253425855375,14.876056099139134,39.99528361795034,70.46022316296512,47.75521894884521,25.8060079887044,53.44637550037052,43.75343982592874,34.12256959436967,15.344303960319664,49.19185285552256,64.39068701849605,54.155425773971615,17.290051528279662,34.07349034425569,36.06378086522648,25.11838194815804,22.38199339461557,60.04103853801231,37.451662656613244,28.445142621485832,29.583709287373573,20.114613778083587,47.83377188326818,62.29020489336709,34.553433657713754,22.20841342687943,33.32479410339744,40.13937095591564,18.4189892410185,18.06404087477772,21.414758874736467,20.2033916759481,31.147407799049322,31.339351534375062,44.41923356414901,28.305140513922048,62.9655946715168,40.183729328822544,41.92854395777816,26.69987296785517,18.407341675942178,40.28177792303516,18.276554800973486,22.142700469120822,43.801347583027564,35.03659358584693,75.66480040992343,31.000128697624845,27.45944385090707,30.557514316997096,27.83434879648347,25.341693675253325,36.047344166542295,33.754209591814046,27.993448813227005,57.97152209827023,15.397254886724042,20.036464395985394,25.66161954828103,22.135022781212847,38.49559269269607,44.30739271526803,52.23584687583656,57.57528496600756,39.792836142508605,32.12662506456832,31.67421800967787,42.88131238254423,24.67601890030382,22.356770415128626,14.196173322125098,30.446856994789268,23.895091717280614,64.5191383838586,51.71995520399845,33.15520561066447,16.42974979630848,36.70211396021184,13.861215100806099,36.11398882013759,35.625201146592026,50.93694845950947,50.32095928626396,32.85389163554253,50.546770008363474,30.297436476607835,51.599056661043804,34.562197251744344,51.28642687964979,17.621284528207894,26.81207413231529,13.701420679758805,24.650711209647863,27.460639602523425,25.725861596245434,57.55251388316631,48.32106133645178,23.533473021705337,25.964798664401187,38.03154378309612,38.32118965199338,43.647983076703994,52.05317809054264,53.779886166772556,50.37882470219352,34.20484251443716,23.95509814346925,34.00035651578829,60.44722626533197,26.326823131841856,26.629611109144626,51.77229280316108,47.38146323842867,35.042330609761265,28.438706390113428,63.60356082071877,77.68702919083674,38.88534002740284,25.538995630434968,27.68508124118548,25.220307389545756,34.07560148846501,70.92512670417722,18.953313569595046,63.908644051708926,37.96325871632339,35.38893142078066,26.631580229718544,36.677539714369,27.662954421497908,43.29323085424133,24.840377472685763,31.816669546330296,33.31217684800194,58.57529558001205,51.28642687964979,36.31915620598346,35.90537324672668,48.27110551575363,21.93225119217253,24.992181215327644,33.264271800714916,68.01195289262269,35.60390489065209,36.531326516809244,34.591940069759374,54.94376239306901,41.4199593315808,21.201994983316126,25.723912355017763,20.716129059804835,27.127781413282253,19.958425053743696,32.352633766532755,21.910002704676785,32.07329036294766,45.55171449921802,30.207758959591118,36.5175101262633,17.568241627782882,12.106254748796097,33.69574751103,31.10788518064213,28.20133449456978,49.23820182040771,27.0393839800158,58.79372840592784,29.93995907528177,36.3699270952332,31.692410369578774,23.158044242296764,39.033599771816874,43.783805016609435,22.709739894957636,24.08270456909335,15.32381909268289,25.269121570884913,21.87383230691119,26.646493722260903,58.80815156926308,47.81302148177612,28.846410271073733,38.27255555165707,53.548786292165495,33.44822897536186,51.19518846863509,63.851046102241284,31.277007953015598,29.011489404208284,34.51568056485878,27.874631243167833,25.045239671518456,39.85876246017572,18.674485965444653,51.10175243105904,31.020907334260954,47.282373411588345,31.620326825699816,33.12591972361459,36.839829195732406,54.39724621988652,32.622961721470666,49.314441680629734,46.41264959995762,20.082696751428585,22.969458097149897,27.565227508159943,52.5129834805062,42.58515881696304,48.16092331995885,48.81503359989706,58.88838581187108,56.686916723539376,47.73067775892747,15.499214234105793,38.418317975736116,42.62303397329306,21.076087665614004,56.393947926598244,40.46123954712078,28.229992531758008,17.59537427373088,31.7310386327438,42.22883813497445,27.553185785097487,32.897660953537866,36.19030833149805,27.94239133249293,42.0833550114182,14.308194791859957,47.669088215636734,44.90930744783667,31.24281271250075,26.5972894114328,38.34317134785336,50.15938565697579,20.350656999550765,33.99401351297952,28.38202219616123,26.44743957108402,28.482196394325936,27.248806863522987,40.22849347823181,27.353223537190598,20.017296119679514,32.653454260830785,40.277037235076534,37.087262130034354,26.27807662670105,29.20966251216703,47.46588278150201,61.936645973584206,41.22003324418977,53.734623725971545,39.445375050400656,25.08777611501496,23.654660355592053,31.459319513248342,37.899428601111424,51.76721956439606,19.9860146070386,28.227204796465838,36.25121009674138,37.31070219334274,68.64330149652852,21.66820958613588,30.47949831893981,29.19625570170403,20.907715811151107,65.70413146763724,22.845799117702494,42.105979866879906,56.62366531949091,35.40883623270311,23.52326545038326,52.9016448775868,28.8369310280394,55.00448885376673,34.30961222883187,43.938895315948045,19.05443653223814,36.786736210301285,31.007690334859333,48.41382983650941,45.740066659365425,28.33077712247799,44.5329672327381,29.425930881142666,53.147220552435044,48.4091198508545,36.17136272355313,44.75384225274385,32.866073775521365,35.217285295060975,31.93031373599614,29.56327481185467,12.421675815514355,29.361408525662696,54.19687038093464,26.257683185847743,34.419657991121255,63.9040501351597,34.359941271745015,34.59178517328813,29.02297702954251,28.68360557665359,40.94599341656594,24.301304090466516,35.43602976519229,45.54219059713204,41.9182354866716,25.328252890899485,60.86035775413906,46.687638963716196,63.769410059468804,39.83739276363764,56.50658127052031,27.883452203816596,46.89643969962982,31.457656620663023,34.03049970235895,36.651216911813755,52.115447260247365,25.093835905903703,19.176024471201856,51.76152845267589,20.48227374642185,17.191782669502373,30.554859236166934,42.51649343776942,51.76721956439606,50.79992087477608,23.48780596946575,21.8512429271632,57.97756965091534,26.70810600828037,29.3287179427559,20.237810489131665,34.58218384249465,34.54604960360026,32.77749029954733,24.122342070428253,27.353089488313163,35.112472245758724,66.22767424110249,12.166295763483525,51.90465704093682,35.778642825783194,37.40681063130558,78.23616727697402,48.463502351587515,27.707142701240333,31.364815458482546,26.757924411615214,28.32384823442639,50.56810875443766,53.49442525940506,26.563428602375545,29.519847533974982,56.452162690364915,23.63860467325518,42.85946331404497,47.25629420270554,24.69687916808209,56.70653455745202,22.03449874066073,12.68628915129404,13.818221310536373,17.235434117141267,32.5859357429062,11.17026237291784,29.14921735729975,27.68459993958667,36.4001651694455,28.920839931534168,28.963138969107195,53.7339261974396,20.69187207784273,59.19494467144102,46.39466337019661,61.56020506163645,17.99965925326862,67.53934937573831,33.48136568241967,37.785315887453045,25.648217391846817,43.627671765247754,25.40326471607854,67.91153024753737,37.18834533525533,46.81583479622406,32.920201309624524,26.7610046668891,54.2124294455029,39.562029454145744,38.70559473779562,12.114623138927815,22.44505357650481,27.326288314599715,60.72167118001071,48.888506883334635,13.359348553672525,51.20184752753421,14.066937883757113,34.35676359729833,49.2562968648555,21.819849107429835,53.36649301431851,51.206174559261505,21.016821782918097,30.8671398953166,26.96634657598036,28.632306109378405,49.156829698469004,42.80961580924456]}},\"id\":\"5282b397-e050-4468-a677-ced26fc9df4e\",\"type\":\"ColumnDataSource\"},{\"attributes\":{\"data_source\":{\"id\":\"5282b397-e050-4468-a677-ced26fc9df4e\",\"type\":\"ColumnDataSource\"},\"glyph\":{\"id\":\"1c9331e9-e454-4a18-918d-9f52aaf8171c\",\"type\":\"Circle\"},\"hover_glyph\":null,\"nonselection_glyph\":{\"id\":\"35c2e716-4255-4b36-a18b-05304ebe3c2b\",\"type\":\"Circle\"},\"selection_glyph\":null},\"id\":\"152984d2-cf19-469b-938c-20c553099382\",\"type\":\"GlyphRenderer\"},{\"attributes\":{\"data_source\":{\"id\":\"7b8e1ac8-b3f9-4e4d-bb18-c30e9e8e37eb\",\"type\":\"ColumnDataSource\"},\"glyph\":{\"id\":\"8ec70f79-d51c-4c7c-b745-8752f03d4adf\",\"type\":\"Line\"},\"hover_glyph\":null,\"nonselection_glyph\":{\"id\":\"c613c8f4-203b-4344-8b1c-6adeb1f1e1e4\",\"type\":\"Line\"},\"selection_glyph\":null},\"id\":\"e996223f-1257-42fb-8ea9-8701eeb8e0e2\",\"type\":\"GlyphRenderer\"},{\"attributes\":{\"plot\":{\"id\":\"080d4b61-3df5-494a-ba2f-231f32026c89\",\"subtype\":\"Figure\",\"type\":\"Plot\"},\"ticker\":{\"id\":\"e42b8753-13ac-4519-bff0-3a5db16ad4a7\",\"type\":\"BasicTicker\"}},\"id\":\"087cda06-87b5-4aed-b307-e593db2af7a6\",\"type\":\"Grid\"},{\"attributes\":{\"plot\":{\"id\":\"080d4b61-3df5-494a-ba2f-231f32026c89\",\"subtype\":\"Figure\",\"type\":\"Plot\"}},\"id\":\"41ac2a45-3731-4412-b868-86a78b07e7b1\",\"type\":\"PanTool\"},{\"attributes\":{\"callback\":null},\"id\":\"dfec32c8-6d51-401b-82ce-d843d2effc1d\",\"type\":\"DataRange1d\"},{\"attributes\":{\"line_dash\":[4,4],\"line_width\":{\"value\":2},\"x\":{\"field\":\"x\"},\"y\":{\"field\":\"y\"}},\"id\":\"8ec70f79-d51c-4c7c-b745-8752f03d4adf\",\"type\":\"Line\"},{\"attributes\":{\"plot\":{\"id\":\"080d4b61-3df5-494a-ba2f-231f32026c89\",\"subtype\":\"Figure\",\"type\":\"Plot\"}},\"id\":\"e190032a-28cc-4a60-a02f-0a4b5570183a\",\"type\":\"ResizeTool\"},{\"attributes\":{\"plot\":{\"id\":\"080d4b61-3df5-494a-ba2f-231f32026c89\",\"subtype\":\"Figure\",\"type\":\"Plot\"}},\"id\":\"5be0cb6a-a57e-4a93-874c-ce0617ecb1f5\",\"type\":\"UndoTool\"},{\"attributes\":{\"bottom_units\":\"screen\",\"fill_alpha\":{\"value\":0.5},\"fill_color\":{\"value\":\"lightgrey\"},\"left_units\":\"screen\",\"level\":\"overlay\",\"line_alpha\":{\"value\":1.0},\"line_color\":{\"value\":\"black\"},\"line_dash\":[4,4],\"line_width\":{\"value\":2},\"plot\":null,\"render_mode\":\"css\",\"right_units\":\"screen\",\"top_units\":\"screen\"},\"id\":\"1a4822c7-218c-47ef-9dbb-0a2577e5d418\",\"type\":\"BoxAnnotation\"},{\"attributes\":{\"fill_alpha\":{\"value\":0.1},\"fill_color\":{\"value\":\"#1f77b4\"},\"line_alpha\":{\"value\":0.1},\"line_color\":{\"value\":\"#1f77b4\"},\"line_width\":{\"value\":3},\"x\":{\"field\":\"x\"},\"y\":{\"field\":\"y\"}},\"id\":\"35c2e716-4255-4b36-a18b-05304ebe3c2b\",\"type\":\"Circle\"},{\"attributes\":{\"active_drag\":\"auto\",\"active_scroll\":\"auto\",\"active_tap\":\"auto\",\"tools\":[{\"id\":\"debb02ce-149d-48b8-bce8-c34ac45347f7\",\"type\":\"BoxZoomTool\"},{\"id\":\"6eb476dd-9282-44fc-bec3-d07f5d35bd1c\",\"type\":\"BoxSelectTool\"},{\"id\":\"af58fd89-066e-475b-a65f-24dc9d30114a\",\"type\":\"CrosshairTool\"},{\"id\":\"e190032a-28cc-4a60-a02f-0a4b5570183a\",\"type\":\"ResizeTool\"},{\"id\":\"f3bb4db9-e803-47b8-932e-3b3f1d5530fd\",\"type\":\"ResetTool\"},{\"id\":\"24a2b7f7-c6b6-4a92-8ed9-1834c1754276\",\"type\":\"LassoSelectTool\"},{\"id\":\"41ac2a45-3731-4412-b868-86a78b07e7b1\",\"type\":\"PanTool\"},{\"id\":\"905f9676-ed63-45b4-9738-e554e9df2e2c\",\"type\":\"SaveTool\"},{\"id\":\"8770ad39-5fd5-449f-808c-62c098e754e0\",\"type\":\"PolySelectTool\"},{\"id\":\"10823c54-d2b7-4956-8d4f-e7198b651ec5\",\"type\":\"TapTool\"},{\"id\":\"12b806b5-f5a6-4824-be8d-a501fe8468f9\",\"type\":\"WheelZoomTool\"},{\"id\":\"5be0cb6a-a57e-4a93-874c-ce0617ecb1f5\",\"type\":\"UndoTool\"}]},\"id\":\"aea01180-bb1c-4649-b0d6-18b6c952b871\",\"type\":\"Toolbar\"},{\"attributes\":{\"line_alpha\":{\"value\":0.1},\"line_color\":{\"value\":\"#1f77b4\"},\"line_dash\":[4,4],\"line_width\":{\"value\":2},\"x\":{\"field\":\"x\"},\"y\":{\"field\":\"y\"}},\"id\":\"c613c8f4-203b-4344-8b1c-6adeb1f1e1e4\",\"type\":\"Line\"},{\"attributes\":{\"callback\":null,\"column_names\":[\"y\",\"x\"],\"data\":{\"x\":[2.331807832,82.5992248],\"y\":[2.331807832,82.5992248]}},\"id\":\"7b8e1ac8-b3f9-4e4d-bb18-c30e9e8e37eb\",\"type\":\"ColumnDataSource\"},{\"attributes\":{},\"id\":\"ce04d43b-5596-40b5-aaa7-3ced3655ec75\",\"type\":\"BasicTickFormatter\"},{\"attributes\":{},\"id\":\"ceab4d0d-7919-481e-8451-1f7bdfb589cd\",\"type\":\"ToolEvents\"},{\"attributes\":{\"align\":\"center\",\"plot\":null,\"text\":null},\"id\":\"07d355c6-3f87-4ab9-9885-90ec225cff93\",\"type\":\"Title\"},{\"attributes\":{},\"id\":\"e42b8753-13ac-4519-bff0-3a5db16ad4a7\",\"type\":\"BasicTicker\"},{\"attributes\":{\"fill_alpha\":{\"value\":0.5},\"fill_color\":{\"value\":\"lightgrey\"},\"level\":\"overlay\",\"line_alpha\":{\"value\":1.0},\"line_color\":{\"value\":\"black\"},\"line_dash\":[4,4],\"line_width\":{\"value\":2},\"plot\":null,\"xs_units\":\"screen\",\"ys_units\":\"screen\"},\"id\":\"c97fe1be-fadf-4267-aebc-b6010b85526a\",\"type\":\"PolyAnnotation\"},{\"attributes\":{\"plot\":{\"id\":\"080d4b61-3df5-494a-ba2f-231f32026c89\",\"subtype\":\"Figure\",\"type\":\"Plot\"}},\"id\":\"af58fd89-066e-475b-a65f-24dc9d30114a\",\"type\":\"CrosshairTool\"},{\"attributes\":{\"background_fill_alpha\":{\"value\":0.5},\"background_fill_color\":{\"value\":\"beige\"},\"below\":[{\"id\":\"8886cda3-af39-486e-b432-5091d0933625\",\"type\":\"LinearAxis\"}],\"left\":[{\"id\":\"c9d6f060-d570-4304-ae94-d709665ac95a\",\"type\":\"LinearAxis\"}],\"plot_height\":500,\"plot_width\":500,\"renderers\":[{\"id\":\"8886cda3-af39-486e-b432-5091d0933625\",\"type\":\"LinearAxis\"},{\"id\":\"087cda06-87b5-4aed-b307-e593db2af7a6\",\"type\":\"Grid\"},{\"id\":\"c9d6f060-d570-4304-ae94-d709665ac95a\",\"type\":\"LinearAxis\"},{\"id\":\"38cdfc9e-f1ff-4edf-a144-4a95b9d35d1c\",\"type\":\"Grid\"},{\"id\":\"49d33e51-127d-4890-ab7a-307e321e0872\",\"type\":\"BoxAnnotation\"},{\"id\":\"1a4822c7-218c-47ef-9dbb-0a2577e5d418\",\"type\":\"BoxAnnotation\"},{\"id\":\"4b93c39f-5d63-4274-8e40-05e410cfda71\",\"type\":\"PolyAnnotation\"},{\"id\":\"c97fe1be-fadf-4267-aebc-b6010b85526a\",\"type\":\"PolyAnnotation\"},{\"id\":\"152984d2-cf19-469b-938c-20c553099382\",\"type\":\"GlyphRenderer\"},{\"id\":\"e996223f-1257-42fb-8ea9-8701eeb8e0e2\",\"type\":\"GlyphRenderer\"}],\"title\":{\"id\":\"07d355c6-3f87-4ab9-9885-90ec225cff93\",\"type\":\"Title\"},\"tool_events\":{\"id\":\"ceab4d0d-7919-481e-8451-1f7bdfb589cd\",\"type\":\"ToolEvents\"},\"toolbar\":{\"id\":\"aea01180-bb1c-4649-b0d6-18b6c952b871\",\"type\":\"Toolbar\"},\"x_range\":{\"id\":\"dfec32c8-6d51-401b-82ce-d843d2effc1d\",\"type\":\"DataRange1d\"},\"y_range\":{\"id\":\"726d507e-6932-48fc-9ae3-ceadab9f587a\",\"type\":\"DataRange1d\"}},\"id\":\"080d4b61-3df5-494a-ba2f-231f32026c89\",\"subtype\":\"Figure\",\"type\":\"Plot\"},{\"attributes\":{\"plot\":{\"id\":\"080d4b61-3df5-494a-ba2f-231f32026c89\",\"subtype\":\"Figure\",\"type\":\"Plot\"}},\"id\":\"905f9676-ed63-45b4-9738-e554e9df2e2c\",\"type\":\"SaveTool\"}],\"root_ids\":[\"080d4b61-3df5-494a-ba2f-231f32026c89\"]},\"title\":\"Bokeh Application\",\"version\":\"0.12.2\"}};\n",
       "            var render_items = [{\"docid\":\"9107d4e7-6284-4cde-9343-fb0c5deb443b\",\"elementid\":\"5d7a748f-de1d-4508-bfce-7c15cc362559\",\"modelid\":\"080d4b61-3df5-494a-ba2f-231f32026c89\"}];\n",
       "            \n",
       "            Bokeh.embed.embed_items(docs_json, render_items);\n",
       "        });\n",
       "      },\n",
       "      function(Bokeh) {\n",
       "      }\n",
       "    ];\n",
       "  \n",
       "    function run_inline_js() {\n",
       "      \n",
       "      if ((window.Bokeh !== undefined) || (force === \"1\")) {\n",
       "        for (var i = 0; i < inline_js.length; i++) {\n",
       "          inline_js[i](window.Bokeh);\n",
       "        }if (force === \"1\") {\n",
       "          display_loaded();\n",
       "        }} else if (Date.now() < window._bokeh_timeout) {\n",
       "        setTimeout(run_inline_js, 100);\n",
       "      } else if (!window._bokeh_failed_load) {\n",
       "        console.log(\"Bokeh: BokehJS failed to load within specified timeout.\");\n",
       "        window._bokeh_failed_load = true;\n",
       "      } else if (!force) {\n",
       "        var cell = $(\"#5d7a748f-de1d-4508-bfce-7c15cc362559\").parents('.cell').data().cell;\n",
       "        cell.output_area.append_execute_result(NB_LOAD_WARNING)\n",
       "      }\n",
       "  \n",
       "    }\n",
       "  \n",
       "    if (window._bokeh_is_loading === 0) {\n",
       "      console.log(\"Bokeh: BokehJS loaded, going straight to plotting\");\n",
       "      run_inline_js();\n",
       "    } else {\n",
       "      load_libs(js_urls, function() {\n",
       "        console.log(\"Bokeh: BokehJS plotting callback run at\", now());\n",
       "        run_inline_js();\n",
       "      });\n",
       "    }\n",
       "  }(this));\n",
       "</script>"
      ]
     },
     "metadata": {},
     "output_type": "display_data"
    }
   ],
   "source": [
    "# Plotining using bokeh\n",
    "#TOOLS = [BoxSelectTool(), HoverTool()]\n",
    "#TOOLS = 'hover,box_zoom,box_select,crosshair,resize,reset,lasso_select,pan,save,poly_select,tap,wheel_zoom,undo'\n",
    "TOOLS = 'box_zoom,box_select,crosshair,resize,reset,lasso_select,pan,save,poly_select,tap,wheel_zoom,undo'\n",
    "p = figure(plot_width=500, plot_height=500, tools=TOOLS)\n",
    "p.scatter(Y, predicted,x=\"jjj\", marker=\"o\", color=\"#80B1D3\", line_width=3)\n",
    "p.title.align = \"center\"\n",
    "p.xaxis.axis_label = \"Measured\"\n",
    "p.xaxis.axis_label_text_color = \"#aa6666\"\n",
    "#p.xaxis.axis_label_standoff = 30\n",
    "p.xaxis.major_tick_line_color = \"firebrick\"\n",
    "p.xaxis.major_tick_line_width = 3\n",
    "p.xaxis.minor_tick_line_color = \"orange\"\n",
    "p.yaxis.axis_label = \"Predicted\"\n",
    "p.yaxis.axis_label_text_font_style = \"italic\"\n",
    "p.yaxis.axis_label_text_color = \"#aa6666\"\n",
    "p.background_fill_color = \"beige\"\n",
    "p.background_fill_alpha = 0.5\n",
    "#p.line([Y.min(), Y.max()], [Y.min(), Y.max()], line_dash=\"4 4\", line_width=2, color='red')\n",
    "\n",
    "# create a new plot with the toolbar below\n",
    "# line_dash=\"4 4\", line_width=2, color='red'\n",
    "p.line([Y.min(), Y.max()], [Y.min(), Y.max()], line_dash=\"4 4\", line_width=2, line_color=\"black\")\n",
    "show(p)"
   ]
  },
  {
   "cell_type": "code",
   "execution_count": 20,
   "metadata": {
    "collapsed": false
   },
   "outputs": [
    {
     "data": {
      "text/plain": [
       "<matplotlib.text.Text at 0x7f68102154d0>"
      ]
     },
     "execution_count": 20,
     "metadata": {},
     "output_type": "execute_result"
    },
    {
     "data": {
      "image/png": "[encoded data removed]",
      "text/plain": [
       "<matplotlib.figure.Figure at 0x7f6811390350>"
      ]
     },
     "metadata": {},
     "output_type": "display_data"
    }
   ],
   "source": [
    "plt.scatter(predicted, (predicted - Y), c='r', s=30)\n",
    "plt.title(\"Residual plot on the training data\")\n",
    "plt.xlabel(\"Predicted\")\n",
    "plt.ylabel(\"Residuals\")"
   ]
  },
  {
   "cell_type": "code",
   "execution_count": 21,
   "metadata": {
    "collapsed": false
   },
   "outputs": [
    {
     "data": {
      "text/html": [
       "\n",
       "\n",
       "    <div class=\"bk-root\">\n",
       "        <div class=\"plotdiv\" id=\"5c7e1842-1bcc-4b9c-b585-2d4e2b7d47cb\"></div>\n",
       "    </div>\n",
       "<script type=\"text/javascript\">\n",
       "  \n",
       "  (function(global) {\n",
       "    function now() {\n",
       "      return new Date();\n",
       "    }\n",
       "  \n",
       "    var force = \"\";\n",
       "  \n",
       "    if (typeof (window._bokeh_onload_callbacks) === \"undefined\" || force !== \"\") {\n",
       "      window._bokeh_onload_callbacks = [];\n",
       "      window._bokeh_is_loading = undefined;\n",
       "    }\n",
       "  \n",
       "  \n",
       "    \n",
       "    if (typeof (window._bokeh_timeout) === \"undefined\" || force !== \"\") {\n",
       "      window._bokeh_timeout = Date.now() + 0;\n",
       "      window._bokeh_failed_load = false;\n",
       "    }\n",
       "  \n",
       "    var NB_LOAD_WARNING = {'data': {'text/html':\n",
       "       \"<div style='background-color: #fdd'>\\n\"+\n",
       "       \"<p>\\n\"+\n",
       "       \"BokehJS does not appear to have successfully loaded. If loading BokehJS from CDN, this \\n\"+\n",
       "       \"may be due to a slow or bad network connection. Possible fixes:\\n\"+\n",
       "       \"</p>\\n\"+\n",
       "       \"<ul>\\n\"+\n",
       "       \"<li>re-rerun `output_notebook()` to attempt to load from CDN again, or</li>\\n\"+\n",
       "       \"<li>use INLINE resources instead, as so:</li>\\n\"+\n",
       "       \"</ul>\\n\"+\n",
       "       \"<code>\\n\"+\n",
       "       \"from bokeh.resources import INLINE\\n\"+\n",
       "       \"output_notebook(resources=INLINE)\\n\"+\n",
       "       \"</code>\\n\"+\n",
       "       \"</div>\"}};\n",
       "  \n",
       "    function display_loaded() {\n",
       "      if (window.Bokeh !== undefined) {\n",
       "        Bokeh.$(\"#5c7e1842-1bcc-4b9c-b585-2d4e2b7d47cb\").text(\"BokehJS successfully loaded.\");\n",
       "      } else if (Date.now() < window._bokeh_timeout) {\n",
       "        setTimeout(display_loaded, 100)\n",
       "      }\n",
       "    }\n",
       "  \n",
       "    function run_callbacks() {\n",
       "      window._bokeh_onload_callbacks.forEach(function(callback) { callback() });\n",
       "      delete window._bokeh_onload_callbacks\n",
       "      console.info(\"Bokeh: all callbacks have finished\");\n",
       "    }\n",
       "  \n",
       "    function load_libs(js_urls, callback) {\n",
       "      window._bokeh_onload_callbacks.push(callback);\n",
       "      if (window._bokeh_is_loading > 0) {\n",
       "        console.log(\"Bokeh: BokehJS is being loaded, scheduling callback at\", now());\n",
       "        return null;\n",
       "      }\n",
       "      if (js_urls == null || js_urls.length === 0) {\n",
       "        run_callbacks();\n",
       "        return null;\n",
       "      }\n",
       "      console.log(\"Bokeh: BokehJS not loaded, scheduling load and callback at\", now());\n",
       "      window._bokeh_is_loading = js_urls.length;\n",
       "      for (var i = 0; i < js_urls.length; i++) {\n",
       "        var url = js_urls[i];\n",
       "        var s = document.createElement('script');\n",
       "        s.src = url;\n",
       "        s.async = false;\n",
       "        s.onreadystatechange = s.onload = function() {\n",
       "          window._bokeh_is_loading--;\n",
       "          if (window._bokeh_is_loading === 0) {\n",
       "            console.log(\"Bokeh: all BokehJS libraries loaded\");\n",
       "            run_callbacks()\n",
       "          }\n",
       "        };\n",
       "        s.onerror = function() {\n",
       "          console.warn(\"failed to load library \" + url);\n",
       "        };\n",
       "        console.log(\"Bokeh: injecting script tag for BokehJS library: \", url);\n",
       "        document.getElementsByTagName(\"head\")[0].appendChild(s);\n",
       "      }\n",
       "    };var element = document.getElementById(\"5c7e1842-1bcc-4b9c-b585-2d4e2b7d47cb\");\n",
       "    if (element == null) {\n",
       "      console.log(\"Bokeh: ERROR: autoload.js configured with elementid '5c7e1842-1bcc-4b9c-b585-2d4e2b7d47cb' but no matching script tag was found. \")\n",
       "      return false;\n",
       "    }\n",
       "  \n",
       "    var js_urls = [];\n",
       "  \n",
       "    var inline_js = [\n",
       "      function(Bokeh) {\n",
       "        Bokeh.$(function() {\n",
       "            var docs_json = {\"89b18bdc-f670-41c6-894c-18b826e89709\":{\"roots\":{\"references\":[{\"attributes\":{\"fill_alpha\":{\"value\":0.5},\"fill_color\":{\"value\":\"lightgrey\"},\"level\":\"overlay\",\"line_alpha\":{\"value\":1.0},\"line_color\":{\"value\":\"black\"},\"line_dash\":[4,4],\"line_width\":{\"value\":2},\"plot\":null,\"xs_units\":\"screen\",\"ys_units\":\"screen\"},\"id\":\"26ae6219-091a-4f1b-a584-ed912481ad0e\",\"type\":\"PolyAnnotation\"},{\"attributes\":{\"overlay\":{\"id\":\"822a7e0f-1f9a-4758-953d-bf851ec330e3\",\"type\":\"BoxAnnotation\"},\"plot\":{\"id\":\"c3318dde-ac55-4ed2-b844-dcfc2c2f1887\",\"subtype\":\"Figure\",\"type\":\"Plot\"}},\"id\":\"d3f01dae-e1df-4c60-8033-b798197f44bd\",\"type\":\"BoxZoomTool\"},{\"attributes\":{\"plot\":{\"id\":\"c3318dde-ac55-4ed2-b844-dcfc2c2f1887\",\"subtype\":\"Figure\",\"type\":\"Plot\"}},\"id\":\"a6eb665f-295a-4c24-9bfb-4f2b28ca310e\",\"type\":\"ResetTool\"},{\"attributes\":{},\"id\":\"1a904513-16b5-4bdf-9e99-d9d4ba3e55ad\",\"type\":\"BasicTicker\"},{\"attributes\":{\"axis_label\":\"Predicted\",\"axis_label_text_color\":{\"value\":\"#aa6666\"},\"formatter\":{\"id\":\"d930d17f-6543-4194-9de1-dff798c4b2d5\",\"type\":\"BasicTickFormatter\"},\"major_tick_line_color\":{\"value\":\"firebrick\"},\"major_tick_line_width\":{\"value\":3},\"minor_tick_line_color\":{\"value\":\"orange\"},\"plot\":{\"id\":\"c3318dde-ac55-4ed2-b844-dcfc2c2f1887\",\"subtype\":\"Figure\",\"type\":\"Plot\"},\"ticker\":{\"id\":\"5c6c16b4-abc7-412c-b4a4-4d0db9ec34d6\",\"type\":\"BasicTicker\"}},\"id\":\"089762f2-b098-4e20-961c-04d5cefe8d44\",\"type\":\"LinearAxis\"},{\"attributes\":{\"callback\":null,\"column_names\":[\"x\",\"y\"],\"data\":{\"x\":[39.03988870156762,30.41474211990738,31.11452511787099,25.131108276811396,49.037088490432325,22.69985113436593,22.770417159421747,22.462227226431985,26.086702544449103,21.640097513608104,22.27344361443281,39.13063398105464,19.627934210567382,39.81088695394298,57.51138222640697,31.719612244554696,38.956717011715625,35.94296139920604,41.25542375284486,35.719311117528065,25.644701429475482,32.23635541558705,34.0525082790793,45.11934733627595,36.49462133757491,37.093907585949125,61.290389229797924,21.08922142356559,35.385980746829595,31.25099505351472,31.681954964800795,35.90755655899305,30.43513190733973,59.530804433888356,58.92931082839496,27.063794001835365,42.357025551467785,32.94400549852273,27.561399354981848,31.00082600174876,49.05278510810508,27.963533951096657,34.901461637984895,15.82173680622212,11.728222240035837,40.08189689663158,35.996662907696006,30.67886053422623,38.59717968628728,21.634846090330804,24.48569964040871,19.61805643442517,61.41522322621796,30.106011827545405,38.64764176997237,70.64030135100832,43.736345833190065,34.65957168425969,30.316901616154496,48.77815790854325,32.56200359887761,35.07512587683193,25.67939722625274,33.05959145990998,54.506900512144476,30.650263831894776,25.782217225434934,37.218027229428834,32.56607922768698,52.84967048609941,35.92803060725673,29.11971804185025,55.54740764195726,23.41374642259721,23.24863719416031,40.230911617677556,51.392362905065625,40.76394751893434,25.110741858580283,37.007236126670605,34.2539976043238,45.403743733840734,60.85414811861865,28.214033516372453,29.109383096716634,56.02627051044138,33.65222698781515,38.07633471610779,63.46145680525544,28.26545894994682,51.07816050134312,35.32046127743087,37.47884318154406,34.89899799267556,28.473932416067534,45.278363551995476,21.736374151054683,17.107646093661092,53.894759141712306,27.034072466753475,15.71029352593662,22.594269002391723,36.0557066095367,28.907799857512824,42.11508959442566,29.831881447189176,62.39661636239801,27.522187379424494,49.25277191577031,43.34677195329896,29.7646781714136,50.43657664502374,19.276365252507738,35.16759896434004,21.128504999396256,35.18472206226552,36.92399991274132,37.76634898288335,23.31093446687023,33.288507361928595,27.58028806741428,28.8473850011407,42.12490117322122,49.484643568727414,47.77890432386853,38.18926129919313,17.859292120455095,47.712527020005666,35.69967960494283,26.407822240241643,49.98032405579727,28.004750337452208,60.943189985172275,16.84482820207125,53.13623754531754,53.76919648334046,37.08378462045531,66.84329573535913,26.12934475854742,27.66166209871958,37.446019546684724,26.655501249904205,22.969227313121085,31.26858035890576,41.1921694512787,37.10115298671421,32.89406091761472,35.31644626060631,39.27501512858464,49.802083402926996,25.525067543495158,29.699718423849163,36.958120676200295,24.303940490899897,54.90835409403929,56.488114701283024,57.740821615257694,57.06911103852093,40.242996026276444,53.878900309698,25.171136618753618,26.515501204483773,33.97690982752796,24.621486369976456,20.882915643301793,35.421883374795165,33.743783895616176,35.465530263631265,23.177029724766847,11.076871256163798,35.24979906808044,24.401262386467216,17.793691254720077,34.32435979908263,35.78028034799435,59.48328395732164,22.902712186636492,32.14874164461152,45.517036698790506,25.49266727705115,30.8951478230762,25.350894789628637,33.929574722206695,43.3309312602342,27.410997356678003,32.51546097203591,57.533057176876525,26.157081829852284,40.86927308453252,51.52830492402361,35.30696606540077,30.49467866929087,27.225356694750946,45.28383631433348,47.30503829819833,27.572694052581404,35.55675954381459,35.6524565603957,34.35056688386942,42.14871697199075,49.606567565073,38.25943844990289,54.257084489056325,26.048555893797367,31.82238642866116,22.260871227607993,24.047828291082507,25.570994999172537,34.111191188338275,45.967406174407635,16.2958554514099,24.65068762108309,32.5250067960171,15.20358496907172,56.27797787141773,51.7556086114826,66.74996582214638,26.341249707057862,46.74208650682879,37.368694546298926,54.22343022347736,18.091915029877804,51.708154420880135,30.066928735042247,53.385466638585314,40.131892939144706,20.668631742021024,46.20253958072094,19.798693121527112,29.465800075056038,37.24655052215245,23.11447991042771,41.730711632372994,22.600339206151315,37.35939895960288,39.28729254598136,23.731004975436132,70.5611092839911,64.87620705488425,36.31937606148939,31.27109126919138,46.74026031622796,25.1951864093721,32.65107236237192,32.247842203615306,40.20932475666272,56.333612502528496,37.40024447833589,26.670909129332617,57.634505446964354,34.01520183456943,31.33003249537695,23.945497683998425,63.20373679566889,28.70367563333533,64.05126531621863,24.913520583224585,36.78991617836806,34.723648179678534,39.43773857654842,52.597181984095315,51.02923448042104,53.9204495816833,19.22681137829991,59.13966682855995,20.214806385172906,22.840614958572587,54.397790537452295,29.901727505394557,40.05938463207484,25.753855853185968,34.91977091864763,24.893877724744364,25.72633426130372,17.34741528477867,48.49218055594297,27.52632014209617,23.094495925977963,54.4216560482624,33.599792945395066,26.474112174154502,32.51134586312136,18.37813378018669,22.570057357007727,27.414982196537434,23.890167992612046,23.478593559577316,25.917361313317944,67.44406081026155,21.303157444815607,47.334411364692954,26.928862018933362,21.463506095588947,22.388466497354678,24.627568282745,52.28210451677497,43.90144590463845,33.88857396790436,51.00141781620266,34.28788860807807,38.89539792208162,37.0089078898174,35.966216092790454,60.813252946041565,37.50527368845241,17.21465825674118,41.700001798103834,23.434012366837095,23.179904342889287,37.246332809395355,47.89043723905803,30.657385234942115,29.86862868253504,24.503340278535184,32.884527278457035,50.44789633412464,17.860155649986773,24.431416338528493,21.718236715023735,51.473856368883474,25.348972995885894,46.71287403493774,12.304619156380262,14.600432153736001,25.684960403207146,54.44883854897364,61.8391052107471,24.092126954211793,31.362962764057137,31.693289558208914,28.649577373302535,21.678517985150897,55.14340556240238,26.340396741688025,51.057094584358666,54.80364230556684,53.2755875349719,14.45758574497107,53.0321828903592,47.40049808604139,50.512482148962896,36.48856901829713,33.78837181967108,51.67493500757966,25.593059189160858,19.888197556718342,32.70659832332861,40.295441251189075,60.877333723190205,25.603945200940892,50.50356261357149,32.34361187753959,56.22282274296894,24.93191780129594,33.89560593679709,32.90604103238461,16.64813338076303,14.377056813855397,34.2669517393668,35.08833698304845,58.12263183460163,32.82874898375558,22.155891482030988,39.40756894952796,36.931891374810455,68.75307685600299,54.06051091002993,38.27358610881535,47.658635799384484,37.364254427366475,34.10538977309803,26.12771576329927,46.72214897070812,36.21563261645484,44.58271195366443,29.541940519905822,24.830141300242598,33.16933466691128,22.642523071109007,39.98167980992258,31.89009599998733,28.626493061623332,47.31838905413284,19.961126882912012,39.324478413713216,31.32946366934584,53.74714516825142,26.082203314790426,27.281603923018995,24.928313885017793,56.63697186192268,26.941741094459864,28.99428176848457,28.06873676387837,54.06051091002993,29.59339502119031,48.58141700964116,37.28345347660411,33.92000550399832,32.70306738865841,31.55053002515814,35.150803825278395,44.55972670000364,57.45151601525385,33.839388355871044,23.80021239469506,44.604607273939784,17.369002016302858,19.031253425855375,14.876056099139134,39.99528361795034,70.46022316296512,47.75521894884521,25.8060079887044,53.44637550037052,43.75343982592874,34.12256959436967,15.344303960319664,49.19185285552256,64.39068701849605,54.155425773971615,17.290051528279662,34.07349034425569,36.06378086522648,25.11838194815804,22.38199339461557,60.04103853801231,37.451662656613244,28.445142621485832,29.583709287373573,20.114613778083587,47.83377188326818,62.29020489336709,34.553433657713754,22.20841342687943,33.32479410339744,40.13937095591564,18.4189892410185,18.06404087477772,21.414758874736467,20.2033916759481,31.147407799049322,31.339351534375062,44.41923356414901,28.305140513922048,62.9655946715168,40.183729328822544,41.92854395777816,26.69987296785517,18.407341675942178,40.28177792303516,18.276554800973486,22.142700469120822,43.801347583027564,35.03659358584693,75.66480040992343,31.000128697624845,27.45944385090707,30.557514316997096,27.83434879648347,25.341693675253325,36.047344166542295,33.754209591814046,27.993448813227005,57.97152209827023,15.397254886724042,20.036464395985394,25.66161954828103,22.135022781212847,38.49559269269607,44.30739271526803,52.23584687583656,57.57528496600756,39.792836142508605,32.12662506456832,31.67421800967787,42.88131238254423,24.67601890030382,22.356770415128626,14.196173322125098,30.446856994789268,23.895091717280614,64.5191383838586,51.71995520399845,33.15520561066447,16.42974979630848,36.70211396021184,13.861215100806099,36.11398882013759,35.625201146592026,50.93694845950947,50.32095928626396,32.85389163554253,50.546770008363474,30.297436476607835,51.599056661043804,34.562197251744344,51.28642687964979,17.621284528207894,26.81207413231529,13.701420679758805,24.650711209647863,27.460639602523425,25.725861596245434,57.55251388316631,48.32106133645178,23.533473021705337,25.964798664401187,38.03154378309612,38.32118965199338,43.647983076703994,52.05317809054264,53.779886166772556,50.37882470219352,34.20484251443716,23.95509814346925,34.00035651578829,60.44722626533197,26.326823131841856,26.629611109144626,51.77229280316108,47.38146323842867,35.042330609761265,28.438706390113428,63.60356082071877,77.68702919083674,38.88534002740284,25.538995630434968,27.68508124118548,25.220307389545756,34.07560148846501,70.92512670417722,18.953313569595046,63.908644051708926,37.96325871632339,35.38893142078066,26.631580229718544,36.677539714369,27.662954421497908,43.29323085424133,24.840377472685763,31.816669546330296,33.31217684800194,58.57529558001205,51.28642687964979,36.31915620598346,35.90537324672668,48.27110551575363,21.93225119217253,24.992181215327644,33.264271800714916,68.01195289262269,35.60390489065209,36.531326516809244,34.591940069759374,54.94376239306901,41.4199593315808,21.201994983316126,25.723912355017763,20.716129059804835,27.127781413282253,19.958425053743696,32.352633766532755,21.910002704676785,32.07329036294766,45.55171449921802,30.207758959591118,36.5175101262633,17.568241627782882,12.106254748796097,33.69574751103,31.10788518064213,28.20133449456978,49.23820182040771,27.0393839800158,58.79372840592784,29.93995907528177,36.3699270952332,31.692410369578774,23.158044242296764,39.033599771816874,43.783805016609435,22.709739894957636,24.08270456909335,15.32381909268289,25.269121570884913,21.87383230691119,26.646493722260903,58.80815156926308,47.81302148177612,28.846410271073733,38.27255555165707,53.548786292165495,33.44822897536186,51.19518846863509,63.851046102241284,31.277007953015598,29.011489404208284,34.51568056485878,27.874631243167833,25.045239671518456,39.85876246017572,18.674485965444653,51.10175243105904,31.020907334260954,47.282373411588345,31.620326825699816,33.12591972361459,36.839829195732406,54.39724621988652,32.622961721470666,49.314441680629734,46.41264959995762,20.082696751428585,22.969458097149897,27.565227508159943,52.5129834805062,42.58515881696304,48.16092331995885,48.81503359989706,58.88838581187108,56.686916723539376,47.73067775892747,15.499214234105793,38.418317975736116,42.62303397329306,21.076087665614004,56.393947926598244,40.46123954712078,28.229992531758008,17.59537427373088,31.7310386327438,42.22883813497445,27.553185785097487,32.897660953537866,36.19030833149805,27.94239133249293,42.0833550114182,14.308194791859957,47.669088215636734,44.90930744783667,31.24281271250075,26.5972894114328,38.34317134785336,50.15938565697579,20.350656999550765,33.99401351297952,28.38202219616123,26.44743957108402,28.482196394325936,27.248806863522987,40.22849347823181,27.353223537190598,20.017296119679514,32.653454260830785,40.277037235076534,37.087262130034354,26.27807662670105,29.20966251216703,47.46588278150201,61.936645973584206,41.22003324418977,53.734623725971545,39.445375050400656,25.08777611501496,23.654660355592053,31.459319513248342,37.899428601111424,51.76721956439606,19.9860146070386,28.227204796465838,36.25121009674138,37.31070219334274,68.64330149652852,21.66820958613588,30.47949831893981,29.19625570170403,20.907715811151107,65.70413146763724,22.845799117702494,42.105979866879906,56.62366531949091,35.40883623270311,23.52326545038326,52.9016448775868,28.8369310280394,55.00448885376673,34.30961222883187,43.938895315948045,19.05443653223814,36.786736210301285,31.007690334859333,48.41382983650941,45.740066659365425,28.33077712247799,44.5329672327381,29.425930881142666,53.147220552435044,48.4091198508545,36.17136272355313,44.75384225274385,32.866073775521365,35.217285295060975,31.93031373599614,29.56327481185467,12.421675815514355,29.361408525662696,54.19687038093464,26.257683185847743,34.419657991121255,63.9040501351597,34.359941271745015,34.59178517328813,29.02297702954251,28.68360557665359,40.94599341656594,24.301304090466516,35.43602976519229,45.54219059713204,41.9182354866716,25.328252890899485,60.86035775413906,46.687638963716196,63.769410059468804,39.83739276363764,56.50658127052031,27.883452203816596,46.89643969962982,31.457656620663023,34.03049970235895,36.651216911813755,52.115447260247365,25.093835905903703,19.176024471201856,51.76152845267589,20.48227374642185,17.191782669502373,30.554859236166934,42.51649343776942,51.76721956439606,50.79992087477608,23.48780596946575,21.8512429271632,57.97756965091534,26.70810600828037,29.3287179427559,20.237810489131665,34.58218384249465,34.54604960360026,32.77749029954733,24.122342070428253,27.353089488313163,35.112472245758724,66.22767424110249,12.166295763483525,51.90465704093682,35.778642825783194,37.40681063130558,78.23616727697402,48.463502351587515,27.707142701240333,31.364815458482546,26.757924411615214,28.32384823442639,50.56810875443766,53.49442525940506,26.563428602375545,29.519847533974982,56.452162690364915,23.63860467325518,42.85946331404497,47.25629420270554,24.69687916808209,56.70653455745202,22.03449874066073,12.68628915129404,13.818221310536373,17.235434117141267,32.5859357429062,11.17026237291784,29.14921735729975,27.68459993958667,36.4001651694455,28.920839931534168,28.963138969107195,53.7339261974396,20.69187207784273,59.19494467144102,46.39466337019661,61.56020506163645,17.99965925326862,67.53934937573831,33.48136568241967,37.785315887453045,25.648217391846817,43.627671765247754,25.40326471607854,67.91153024753737,37.18834533525533,46.81583479622406,32.920201309624524,26.7610046668891,54.2124294455029,39.562029454145744,38.70559473779562,12.114623138927815,22.44505357650481,27.326288314599715,60.72167118001071,48.888506883334635,13.359348553672525,51.20184752753421,14.066937883757113,34.35676359729833,49.2562968648555,21.819849107429835,53.36649301431851,51.206174559261505,21.016821782918097,30.8671398953166,26.96634657598036,28.632306109378405,49.156829698469004,42.80961580924456],\"y\":[-4.852153458432376,-7.796017800092621,-2.305066078129009,12.010379996811396,1.8148772504323247,0.3815130143659289,10.297796319421748,-6.475769969568017,-20.9431448915509,-4.6827172143918965,-8.166232309567185,26.492538901054644,-1.145977669432618,-3.987386470057011,-8.588681893593026,16.358086964554698,-1.9085255082843702,-9.996824480793954,7.4986787928448635,-7.862466842471932,2.120469785475482,-10.462893264412948,19.908597615079298,-3.2818678637240453,1.924984173574913,1.2342608259491286,2.1954012697979266,-3.407860856434411,-2.335940689170407,15.730890293514722,-0.7192801791992025,2.854077118993054,-18.814138772660264,-12.16780480611164,4.033231708394965,-23.395507058164636,-9.506738120532212,4.261803898522729,0.7890462749818496,13.764615477748759,12.21408242810508,-12.267390648903344,-12.813035466015101,4.45917232622212,1.7377150000358377,-0.8433300353684174,-4.566589124303988,-1.0370354657737693,-0.8201632337127194,3.5085220503308037,6.200796120408711,9.75165487442517,20.11561082621796,-4.450525292454596,-15.310749990027631,-11.958923448991683,-10.86256913080993,-9.952283419740304,-8.972888243845503,-14.750160731456745,-6.600233201122393,-4.246379879168067,5.26332339025274,-11.335768180090014,-1.830183447855525,-7.850076008105219,-6.46319634256507,-5.010998818571167,-13.681212948313025,19.161873126099415,-8.281170512743266,-4.609447878149751,-9.352968238042742,-9.778317693402794,10.79670063416031,-3.9093419023224456,-6.52362109493437,-14.745765241065662,-12.155435941419718,-5.209379353329396,-6.9490881556762005,5.624425913840739,-4.0462277613813455,-11.448073383627545,5.598251496716635,1.2611918304413834,4.57909249581515,-11.696937723892212,-1.735393754744564,-8.322963942053178,-0.9290141786568782,-1.9457165225691284,-6.099487398455942,-5.780086007324435,1.5085260560675344,9.02640494799548,-3.9900438369453184,4.926673601661092,-19.100064978287698,-1.5929710532465258,4.318081577936621,2.509833122391722,-12.228297670463299,4.907140297512825,-3.1896888895743345,-5.931238672810821,-11.797895997601998,12.822559059424496,23.64366334631167,-18.644015206701035,-8.309565500586395,-3.659710314976259,-21.58060355549226,-4.677219075659963,-1.307044040603742,9.290761406265524,-5.995881087258674,7.119140782883353,-2.8891535331297717,10.149692801928595,0.7251978674142805,2.6996971771407026,-10.32146971877878,11.563463568727414,5.942190119868535,-10.798008500806873,9.322889764455095,11.958271589464303,-12.887694115057165,4.806539160241645,21.180911535797268,-4.818444118547795,-18.35344477482773,5.189925898071248,-13.644437885223823,-7.325271876659542,-11.586326219544688,26.646844935359134,-0.12865922545258002,14.203090578719582,-10.293298693315272,2.958900605904205,-4.8580240468789135,-0.08189336109424161,-19.130085788721296,-11.594468465285786,-6.199228282385278,2.199535028606313,1.9467844885846404,-0.8950868770730054,11.95962724349516,-3.988078936150835,-16.503848363799705,7.799953478899898,-6.94749276014867,-3.806561498716974,14.727861355257694,-20.228043321479063,-16.60430017372355,-1.6170229303019994,10.12194396675362,8.678757084483774,14.211701335527962,0.08303552997645625,-1.063105436698205,1.8581916947951669,-9.313992304383824,7.784447815631264,-7.8493902752331515,8.7450634241638,-7.042658771919555,9.060421386467217,-1.8977433052799206,0.6227729190826281,-12.001785404005645,3.34132170532164,-1.9873714133635083,2.2778834206115235,-13.088423301209495,0.5887941570511508,17.49961410780552,1.563972789628636,0.2004088022066952,-8.710717219765797,-3.9394763633219974,-5.44019282796409,-0.06576786312347593,-3.290438130147713,16.978929684532524,-16.171343515976396,0.5711651854007727,-8.56137882670913,2.1284302947509453,-0.08368448566652376,19.208891298198335,4.351142372581407,-4.591427936185404,-6.487627083604295,-2.991453276130578,-1.9846417880092488,-10.674319114926995,-11.513833990097112,-5.333341226214351,8.089085045797365,7.718305468661164,-4.6838508523920055,-7.919036972917489,-2.666494580827461,18.001584448338274,-8.308144545592363,-2.4503075125901006,-0.26697501891690933,-8.333340963982899,3.73759908907172,17.87002781541773,26.5552608114826,-12.650090337853612,2.823223347057862,-19.682031333171203,-2.083122173701071,24.43806702347736,-4.256070558122197,-4.187664899119866,-0.05627770495775408,-14.183181361414682,-13.392128940855294,7.375534462021024,22.10535338072094,4.809484881527112,-10.11701708494396,-11.600066173847551,11.156897642427712,2.3547372723729936,2.612429966151314,-2.096554616397121,-0.13418723001863953,-0.7522877845638654,11.362699923991102,-1.8237011851157519,-13.653844418510602,-9.442466530808616,7.040921712227963,4.9176972493721,15.07632912237192,-0.8345952283846927,-0.8420762833372848,0.18958182252849554,-5.976759109664108,11.585174249332617,-19.66264891303564,1.1754599545694333,-6.107824828623048,0.20132319599842674,6.804599995668887,-14.685049046664666,19.353225712218638,-7.806941948775414,-17.11331750163194,26.973937939678535,-8.37742202345158,-7.2975981359046855,13.011527840421039,-14.830157272504664,12.34308299429991,-17.661064811440042,8.362713945172906,14.353165398572587,5.196783177452296,-2.8663088706054474,6.847325712074841,7.758532253185969,11.119059398647629,17.991533488744363,7.6000102213037195,6.81153252877867,22.981568555942975,14.06499071809617,-2.388537034022036,-1.2259519117375959,0.6359453853950683,7.058468014154503,9.565584583121364,-1.3133007798133072,4.536123101007728,-25.49333761546256,0.6449771384240854,-2.2112822004226835,7.963406273317943,23.74576140626155,5.727894604815608,21.912052292692955,-2.2290780210666377,-0.9720429444110508,-0.14360918264532074,3.4482445147449994,18.883887076774975,-5.072034375361547,11.399245799904357,-16.305229303797333,-5.3225075919219265,-6.189437717918381,-1.4521318181826004,-10.96572575120954,20.216906066041567,7.058013528452413,-7.076270699258817,-8.293902961896165,15.370590546837095,6.901375982889288,-3.143171270604647,24.251260093245993,9.591135530942115,-13.38220079746496,3.5846384385351833,-0.9142757175429637,6.4179589741246446,8.010498504174732,-1.1895118214715055,-2.730582244976265,-24.76150495111652,9.600651679885896,-11.809848845062255,4.465277036380263,-2.6750785022639967,-1.5355520767928539,-16.84987461102635,-6.260439309252895,-0.5635348057882084,4.449267104057139,-1.7063068337910856,-0.7427845066974648,-8.213713994849101,8.34177468240238,-4.913550338311975,-4.493986735641336,25.80428174556684,13.9754555349719,4.121651028971071,-26.9539278696408,0.12312876604138978,25.491398108962898,12.094908138297129,-9.945090860328918,1.8740835275796641,16.58160786916086,8.473922376718344,-0.8364090766713872,-15.531430468810925,13.979176203190207,-6.139529839059108,15.14033857357149,-2.998927882460414,-9.77381997703106,-5.301604798704062,-1.4186653072029074,-4.029188287615391,3.9135116607630316,3.207545613855398,-4.336809500633194,-9.520760216951551,16.971256774601628,20.040348135755583,9.979745322030988,6.364431649527965,15.072744270810453,27.700296864002993,-17.23820224997006,-9.438153091184645,1.4292699993844877,10.619480387366476,-7.435539226901966,-0.789427276700728,-9.221933669291879,18.39267801645484,-16.65309898633557,14.201099519905823,-6.5892800197574,11.257787386911282,5.764150591109008,-12.439180470077417,-5.280934112012666,-11.018376938376665,-3.3367231898671577,6.440502522912013,3.3683050137132184,-15.80311569065416,-2.348622191748575,6.732059374790428,-4.786614312981005,6.729594865017795,-3.657704338077316,13.607275254459864,1.0705037684845706,-5.5363234761216304,-17.23820224997006,-6.854374766809691,15.092582724911843,-1.1755178033958913,-4.780282376001679,-1.09504613134159,12.13488586515814,-4.335486694721602,-14.742104059996365,-22.74833230474615,1.7877175438710466,1.9410652906950574,-12.139267526060216,6.833808736302858,-6.9344127341446224,9.972502787139135,-1.945541462049654,28.52560336696512,-20.109903731154787,12.716995604704401,2.425151500370525,-9.205211734071263,5.136998554369672,-2.6199932196803353,19.6428814249812,23.146232698496057,-4.629297986028384,4.830530732279662,-0.6002576957443111,-5.620559142773523,8.228977852158039,-2.834901829384428,-6.555448301987688,-13.879825543386751,-4.573863018514164,-0.5394971526264278,6.820827022083588,13.063497203268177,24.17597161336709,-1.2993183422862415,5.943674586879432,-4.879071056602562,18.31952398391564,3.9193089610185012,8.328639754777722,10.652038514736468,3.0375077039481013,16.606358959049324,-5.29940310562494,-5.6574083158509865,-8.659046798077952,18.669519575516794,3.8345546088225433,-14.132749602221836,7.594493007855171,-5.874624092057822,3.931913727035159,3.2065793704321273,-3.3182692588791802,5.101059703027566,-8.340410002153071,8.551206569923437,3.7658266976248456,8.260295154907073,1.144468156997096,-1.8200139635165264,11.717647915253325,-4.100843313457702,4.203268231814047,-4.667029306772996,1.2759106182702311,3.9133426307240438,-15.188864444014602,-16.665312091718967,-10.86881438678715,-12.760053147303928,22.39032962726803,14.020260623836563,-19.721869393992435,-12.633539945491393,-5.105078935431678,5.446550969677869,3.88454982254423,-0.31059133969617747,-0.47867470487137354,1.9510795621250985,-9.15802339721073,8.374986957280615,-0.677712176141398,-4.175864116001549,-6.202842373335528,-1.1463723956915182,-4.232765635788162,1.8091746208061004,11.709296324137593,12.100280026592028,11.636816459509475,-5.133595393736044,-4.5777604044574645,-19.29025403163653,-1.0530372433921649,5.397269901043806,-11.825748028255653,15.98525567964979,-11.005758991792106,-5.062401347684709,-6.892537964241196,12.102248009647862,-6.203715573476575,10.634610908245433,-12.105246396833678,-11.442718343548222,-12.910159910294663,3.032826904401187,-3.9989131769038764,5.694495855993374,-23.176030843296004,-19.935011069457367,-20.585025291347847,-21.719680617806482,-2.7855448855628353,2.415867903469252,-3.4312955242117056,-3.853305494668028,19.011482771841855,-11.97415013085537,28.87479484316108,15.370077523157995,7.366763969761266,-11.623296589886568,7.107897380718768,6.988160150836748,-7.757711372597157,-6.43200648956503,-5.037449718814521,1.4333853895457551,1.118648688465015,15.767046704177218,8.569805009595047,-10.589237748291076,-15.760711203676614,4.50730138078066,13.090271589718544,-6.897343485631005,6.15819798149791,-9.533730789758664,-8.219996727314236,-18.9563430936697,13.773116484001939,16.444175124012055,15.98525567964979,-5.223841222016539,-11.496101753273315,-3.461657716246364,1.944341952172529,9.947814895327644,3.6719618807149175,25.884969292622692,-16.699744469347912,-2.851542603190751,-4.556507210240625,18.64285099306901,-2.9064527084192022,-2.2029573126838713,3.0939310830177646,5.100187135804836,3.2925960932822527,-15.2669037862563,1.1745290465327543,-5.9648224993232155,-6.4891023170523425,-8.763825828781975,-12.429436880408879,3.2158193262633077,5.026673187782883,7.324049212796097,4.627439351029999,-3.1314929793578727,-4.683223325430216,-0.6591762995922892,-4.4972482599842,25.092141525927836,-2.8239404447182253,-1.5443581447667967,6.1328455735787735,5.721196202296763,-18.184634516183117,-6.743064691390565,8.403112894957637,5.073161773093354,5.234027308682888,12.086340450884913,8.35320794691119,-3.6290869137390978,6.291454125263087,-33.938147838223884,0.37794623107373226,-2.58579220834293,-17.749926867834496,16.080328535361858,-4.700630851364913,1.3500467022412863,5.043825105015596,-5.193414955791717,-6.894247995141214,18.25713051916783,7.8221291915184565,-4.529702419824282,-1.0907225265553464,0.590740671059045,-8.031013305739044,22.165747696317666,-3.949740014300179,-11.15222899638541,-13.760814444267595,-13.902246340113486,1.4441675254706645,-12.738398319370262,7.181465199957621,5.052119951428587,5.372651625149899,-8.997684771840056,-7.285269999493799,-14.227663583036964,-5.139708336041153,10.818011239897068,-5.4121459481289165,-20.610237636460617,9.120021758927471,4.7116727381057935,3.9307284557361157,-11.031988346706939,7.851937985614004,-7.003370273401757,3.5260102271207856,2.8572757317580084,5.419228113730879,-5.4386125272562005,-8.826859665025545,5.641638505097486,-11.401172046462136,-17.581924908501946,6.651372452492932,-3.215218188581801,-4.10770916814004,5.048439799636732,-16.04037095216333,0.1267608325007501,11.159921771432801,14.101195187853357,7.363610336975796,-1.6160483604492342,-4.636637291020477,2.319829396161232,2.019304891084019,0.7101031143259355,-4.651179228477012,-16.390586165768184,-5.920888222809399,8.440994079679514,2.433721180830787,-16.335837124923465,3.7807449980343577,-3.652076533298949,5.20900295216703,1.2316906495020135,-17.359988786415798,-0.49947003981022675,20.33640628597155,-11.589638469599343,10.098567875014961,-4.367023236407945,-0.939157726751656,-15.204702394888578,16.46604836439606,5.1898596470386025,-1.8525646555341595,-1.0142782272586146,-13.638126826657256,24.945002092528526,0.018663186135881915,7.402736598939811,5.130785397704027,10.875840011151107,6.905618187637245,-2.333864402297504,17.668192522879906,-3.671010880509087,-5.249563487296889,16.01625076238326,-2.697699762413201,-7.463980371960599,-19.693340986233267,24.747959060831867,-0.26892685205195477,5.85786589223814,8.851237118301288,4.959287054859335,16.30394755178009,-33.060145380634566,1.93074108247799,-12.100591407261895,13.734836073142665,28.064083672435046,-2.6121041491454946,-1.0879203164468692,2.330383972743853,-10.632967064478635,11.693743127060976,6.371438415996142,-2.076778828145329,-0.41636730448564485,-4.602179234337299,4.995863020934642,10.687936153847744,5.428571143121253,-1.2928004248403013,21.987294451745015,-7.293881826711868,3.277943189542512,-11.374950023346408,-5.283372383434056,0.5626454104665157,-8.129200770807714,4.4907895571320395,9.064704086671597,-5.695409205100518,0.6622081941390618,-19.2193718762838,-9.528783500531198,-4.440755956362359,4.306353310520308,1.0235356718165995,6.137376483629822,19.991670740663025,12.249952862358953,-3.9175509281862446,23.819352220247367,6.806174481903703,4.972818871201856,7.242063132675888,5.63854494242185,-4.071657170497627,-8.841799403833065,-9.925051122230578,16.46604836439606,9.700256514776079,-0.7955387505342486,-3.3284205928367996,-3.8201642290846536,3.017710648280371,-1.9390186572440982,11.106390345131665,-2.222734513505351,3.698893363600259,-9.770073660452667,5.113488750428253,2.249268328313164,-9.524203994241276,27.232290633102494,2.858369763483525,-3.646424279063183,-2.9905926542168046,-8.429553848694418,4.069233956974017,25.710794351587516,-0.035303110759663525,1.4967151384825463,-22.42722500038478,3.9853454344263888,6.044506578437655,-15.005015340594937,-5.083519797624454,-7.907667650025012,-11.344012389635083,-12.800201926744819,-12.160721485955023,8.251651917976226,-7.836045891917905,-16.991555082547976,2.1017475806607315,4.311913655294042,3.596050134536373,2.638537721141269,-11.1130531370938,3.4467522209178396,-2.2012563627002493,-17.183740236413335,-8.9673556305545,-0.8300494684658304,2.818209049107196,-1.4655223625603995,-8.539841894157266,8.15303639144102,-19.51441589780339,-17.73642969836355,8.261500229268622,12.643270255738315,-3.8813387575803304,-13.939173632546954,4.922568831846817,-9.193084594752243,-6.699427319921462,-3.7112366324626294,1.3224932912553342,11.714611636224063,-13.322954010375476,-5.0789970131109,20.814212005502903,-17.650689025854255,-5.236779170204379,4.438686830927815,4.415256176504812,-4.5488766414002875,-14.775950819989284,24.487951243334635,5.155273629672525,4.517427567534213,10.747110943757113,13.334640357298333,7.887736864855498,-5.221399612570163,8.943554334318506,16.808216919261504,0.049856622918095894,-6.102563224683397,20.69900973598036,13.215622749378404,9.721560402469002,-7.922717746755438]}},\"id\":\"6a5fdc76-a8f0-4def-ad01-3a9ec31663ca\",\"type\":\"ColumnDataSource\"},{\"attributes\":{\"plot\":{\"id\":\"c3318dde-ac55-4ed2-b844-dcfc2c2f1887\",\"subtype\":\"Figure\",\"type\":\"Plot\"}},\"id\":\"cbe49cf9-4f2b-4167-ad7d-5a0620b670d4\",\"type\":\"ResizeTool\"},{\"attributes\":{},\"id\":\"848a54ce-6c3b-40cb-af7e-67ef8b9c0ab6\",\"type\":\"ToolEvents\"},{\"attributes\":{\"callback\":null},\"id\":\"9eea9c62-87e0-41bf-a0db-c103f0bc8754\",\"type\":\"DataRange1d\"},{\"attributes\":{\"plot\":{\"id\":\"c3318dde-ac55-4ed2-b844-dcfc2c2f1887\",\"subtype\":\"Figure\",\"type\":\"Plot\"},\"ticker\":{\"id\":\"5c6c16b4-abc7-412c-b4a4-4d0db9ec34d6\",\"type\":\"BasicTicker\"}},\"id\":\"1e29b86c-226a-471c-b216-1a7a0820c49e\",\"type\":\"Grid\"},{\"attributes\":{\"active_drag\":\"auto\",\"active_scroll\":\"auto\",\"active_tap\":\"auto\",\"tools\":[{\"id\":\"d3f01dae-e1df-4c60-8033-b798197f44bd\",\"type\":\"BoxZoomTool\"},{\"id\":\"f17dabf8-676e-4741-a367-a73dfdfa9fd8\",\"type\":\"BoxSelectTool\"},{\"id\":\"a1a95efe-bad6-40a2-b654-785ddb0dbb5c\",\"type\":\"CrosshairTool\"},{\"id\":\"cbe49cf9-4f2b-4167-ad7d-5a0620b670d4\",\"type\":\"ResizeTool\"},{\"id\":\"a6eb665f-295a-4c24-9bfb-4f2b28ca310e\",\"type\":\"ResetTool\"},{\"id\":\"0613586d-cf4f-4e8b-a01c-c812c8364081\",\"type\":\"LassoSelectTool\"},{\"id\":\"3071500f-27b7-48ae-b225-03d80ac81f14\",\"type\":\"PanTool\"},{\"id\":\"f315e926-9f80-40c2-ad9c-9d98871b47ee\",\"type\":\"SaveTool\"},{\"id\":\"4812a61a-3d0f-4b19-9764-6a7b6e0e36b8\",\"type\":\"PolySelectTool\"},{\"id\":\"d154af34-af85-4881-a6a7-a0d938276b1d\",\"type\":\"TapTool\"},{\"id\":\"c6002786-8d59-49de-8639-ae3eb3d720c2\",\"type\":\"WheelZoomTool\"},{\"id\":\"ae4f2f9d-6275-46da-91d9-f8a2ac14c7eb\",\"type\":\"UndoTool\"}]},\"id\":\"f8eca7a2-6ed5-44b2-bbc6-080f2da1fb6a\",\"type\":\"Toolbar\"},{\"attributes\":{},\"id\":\"5af4353a-edf3-450d-b270-89ab263c010e\",\"type\":\"BasicTickFormatter\"},{\"attributes\":{\"fill_alpha\":{\"value\":0.5},\"fill_color\":{\"value\":\"lightgrey\"},\"level\":\"overlay\",\"line_alpha\":{\"value\":1.0},\"line_color\":{\"value\":\"black\"},\"line_dash\":[4,4],\"line_width\":{\"value\":2},\"plot\":null,\"xs_units\":\"screen\",\"ys_units\":\"screen\"},\"id\":\"7c04def8-1b3e-41d1-a712-51e2c6c73f26\",\"type\":\"PolyAnnotation\"},{\"attributes\":{\"fill_color\":{\"value\":\"#80B1D3\"},\"line_color\":{\"value\":\"#80B1D3\"},\"line_width\":{\"value\":3},\"x\":{\"field\":\"x\"},\"y\":{\"field\":\"y\"}},\"id\":\"91d4cd4e-b036-48a2-9777-789ad910997c\",\"type\":\"Circle\"},{\"attributes\":{},\"id\":\"5c6c16b4-abc7-412c-b4a4-4d0db9ec34d6\",\"type\":\"BasicTicker\"},{\"attributes\":{\"callback\":null,\"plot\":{\"id\":\"c3318dde-ac55-4ed2-b844-dcfc2c2f1887\",\"subtype\":\"Figure\",\"type\":\"Plot\"}},\"id\":\"d154af34-af85-4881-a6a7-a0d938276b1d\",\"type\":\"TapTool\"},{\"attributes\":{\"plot\":{\"id\":\"c3318dde-ac55-4ed2-b844-dcfc2c2f1887\",\"subtype\":\"Figure\",\"type\":\"Plot\"}},\"id\":\"a1a95efe-bad6-40a2-b654-785ddb0dbb5c\",\"type\":\"CrosshairTool\"},{\"attributes\":{\"bottom_units\":\"screen\",\"fill_alpha\":{\"value\":0.5},\"fill_color\":{\"value\":\"lightgrey\"},\"left_units\":\"screen\",\"level\":\"overlay\",\"line_alpha\":{\"value\":1.0},\"line_color\":{\"value\":\"black\"},\"line_dash\":[4,4],\"line_width\":{\"value\":2},\"plot\":null,\"render_mode\":\"css\",\"right_units\":\"screen\",\"top_units\":\"screen\"},\"id\":\"822a7e0f-1f9a-4758-953d-bf851ec330e3\",\"type\":\"BoxAnnotation\"},{\"attributes\":{\"fill_alpha\":{\"value\":0.1},\"fill_color\":{\"value\":\"#1f77b4\"},\"line_alpha\":{\"value\":0.1},\"line_color\":{\"value\":\"#1f77b4\"},\"line_width\":{\"value\":3},\"x\":{\"field\":\"x\"},\"y\":{\"field\":\"y\"}},\"id\":\"0af350f9-8d0a-4648-97ee-608b21d928de\",\"type\":\"Circle\"},{\"attributes\":{\"plot\":{\"id\":\"c3318dde-ac55-4ed2-b844-dcfc2c2f1887\",\"subtype\":\"Figure\",\"type\":\"Plot\"}},\"id\":\"3071500f-27b7-48ae-b225-03d80ac81f14\",\"type\":\"PanTool\"},{\"attributes\":{\"align\":\"center\",\"plot\":null,\"text\":\"Residual plot on the training data\"},\"id\":\"ddfe5d8b-97a8-4cb2-a15c-f9c697be551f\",\"type\":\"Title\"},{\"attributes\":{\"plot\":{\"id\":\"c3318dde-ac55-4ed2-b844-dcfc2c2f1887\",\"subtype\":\"Figure\",\"type\":\"Plot\"}},\"id\":\"f315e926-9f80-40c2-ad9c-9d98871b47ee\",\"type\":\"SaveTool\"},{\"attributes\":{\"data_source\":{\"id\":\"6a5fdc76-a8f0-4def-ad01-3a9ec31663ca\",\"type\":\"ColumnDataSource\"},\"glyph\":{\"id\":\"91d4cd4e-b036-48a2-9777-789ad910997c\",\"type\":\"Circle\"},\"hover_glyph\":null,\"nonselection_glyph\":{\"id\":\"0af350f9-8d0a-4648-97ee-608b21d928de\",\"type\":\"Circle\"},\"selection_glyph\":null},\"id\":\"5adc259b-5e87-46e9-a1a8-d285a8742dbf\",\"type\":\"GlyphRenderer\"},{\"attributes\":{\"overlay\":{\"id\":\"26ae6219-091a-4f1b-a584-ed912481ad0e\",\"type\":\"PolyAnnotation\"},\"plot\":{\"id\":\"c3318dde-ac55-4ed2-b844-dcfc2c2f1887\",\"subtype\":\"Figure\",\"type\":\"Plot\"}},\"id\":\"4812a61a-3d0f-4b19-9764-6a7b6e0e36b8\",\"type\":\"PolySelectTool\"},{\"attributes\":{\"callback\":null,\"overlay\":{\"id\":\"d6cd269a-3849-46f3-ae30-4686101b43d7\",\"type\":\"BoxAnnotation\"},\"plot\":{\"id\":\"c3318dde-ac55-4ed2-b844-dcfc2c2f1887\",\"subtype\":\"Figure\",\"type\":\"Plot\"},\"renderers\":[{\"id\":\"5adc259b-5e87-46e9-a1a8-d285a8742dbf\",\"type\":\"GlyphRenderer\"}]},\"id\":\"f17dabf8-676e-4741-a367-a73dfdfa9fd8\",\"type\":\"BoxSelectTool\"},{\"attributes\":{\"dimension\":1,\"plot\":{\"id\":\"c3318dde-ac55-4ed2-b844-dcfc2c2f1887\",\"subtype\":\"Figure\",\"type\":\"Plot\"},\"ticker\":{\"id\":\"1a904513-16b5-4bdf-9e99-d9d4ba3e55ad\",\"type\":\"BasicTicker\"}},\"id\":\"f466b15f-faae-4ac9-b1e4-5ced9054e567\",\"type\":\"Grid\"},{\"attributes\":{},\"id\":\"d930d17f-6543-4194-9de1-dff798c4b2d5\",\"type\":\"BasicTickFormatter\"},{\"attributes\":{\"axis_label\":\"Residuals\",\"axis_label_text_color\":{\"value\":\"#aa6666\"},\"formatter\":{\"id\":\"5af4353a-edf3-450d-b270-89ab263c010e\",\"type\":\"BasicTickFormatter\"},\"plot\":{\"id\":\"c3318dde-ac55-4ed2-b844-dcfc2c2f1887\",\"subtype\":\"Figure\",\"type\":\"Plot\"},\"ticker\":{\"id\":\"1a904513-16b5-4bdf-9e99-d9d4ba3e55ad\",\"type\":\"BasicTicker\"}},\"id\":\"37290c6e-6e1c-4987-919f-78d48341548a\",\"type\":\"LinearAxis\"},{\"attributes\":{\"callback\":null},\"id\":\"ff9c8322-ffd0-4eab-b844-6d37e93e2377\",\"type\":\"DataRange1d\"},{\"attributes\":{\"bottom_units\":\"screen\",\"fill_alpha\":{\"value\":0.5},\"fill_color\":{\"value\":\"lightgrey\"},\"left_units\":\"screen\",\"level\":\"overlay\",\"line_alpha\":{\"value\":1.0},\"line_color\":{\"value\":\"black\"},\"line_dash\":[4,4],\"line_width\":{\"value\":2},\"plot\":null,\"render_mode\":\"css\",\"right_units\":\"screen\",\"top_units\":\"screen\"},\"id\":\"d6cd269a-3849-46f3-ae30-4686101b43d7\",\"type\":\"BoxAnnotation\"},{\"attributes\":{\"plot\":{\"id\":\"c3318dde-ac55-4ed2-b844-dcfc2c2f1887\",\"subtype\":\"Figure\",\"type\":\"Plot\"}},\"id\":\"ae4f2f9d-6275-46da-91d9-f8a2ac14c7eb\",\"type\":\"UndoTool\"},{\"attributes\":{\"callback\":null,\"overlay\":{\"id\":\"7c04def8-1b3e-41d1-a712-51e2c6c73f26\",\"type\":\"PolyAnnotation\"},\"plot\":{\"id\":\"c3318dde-ac55-4ed2-b844-dcfc2c2f1887\",\"subtype\":\"Figure\",\"type\":\"Plot\"}},\"id\":\"0613586d-cf4f-4e8b-a01c-c812c8364081\",\"type\":\"LassoSelectTool\"},{\"attributes\":{\"plot\":{\"id\":\"c3318dde-ac55-4ed2-b844-dcfc2c2f1887\",\"subtype\":\"Figure\",\"type\":\"Plot\"}},\"id\":\"c6002786-8d59-49de-8639-ae3eb3d720c2\",\"type\":\"WheelZoomTool\"},{\"attributes\":{\"background_fill_alpha\":{\"value\":0.5},\"background_fill_color\":{\"value\":\"beige\"},\"below\":[{\"id\":\"089762f2-b098-4e20-961c-04d5cefe8d44\",\"type\":\"LinearAxis\"}],\"left\":[{\"id\":\"37290c6e-6e1c-4987-919f-78d48341548a\",\"type\":\"LinearAxis\"}],\"plot_height\":500,\"plot_width\":500,\"renderers\":[{\"id\":\"089762f2-b098-4e20-961c-04d5cefe8d44\",\"type\":\"LinearAxis\"},{\"id\":\"1e29b86c-226a-471c-b216-1a7a0820c49e\",\"type\":\"Grid\"},{\"id\":\"37290c6e-6e1c-4987-919f-78d48341548a\",\"type\":\"LinearAxis\"},{\"id\":\"f466b15f-faae-4ac9-b1e4-5ced9054e567\",\"type\":\"Grid\"},{\"id\":\"822a7e0f-1f9a-4758-953d-bf851ec330e3\",\"type\":\"BoxAnnotation\"},{\"id\":\"d6cd269a-3849-46f3-ae30-4686101b43d7\",\"type\":\"BoxAnnotation\"},{\"id\":\"7c04def8-1b3e-41d1-a712-51e2c6c73f26\",\"type\":\"PolyAnnotation\"},{\"id\":\"26ae6219-091a-4f1b-a584-ed912481ad0e\",\"type\":\"PolyAnnotation\"},{\"id\":\"5adc259b-5e87-46e9-a1a8-d285a8742dbf\",\"type\":\"GlyphRenderer\"}],\"title\":{\"id\":\"ddfe5d8b-97a8-4cb2-a15c-f9c697be551f\",\"type\":\"Title\"},\"tool_events\":{\"id\":\"848a54ce-6c3b-40cb-af7e-67ef8b9c0ab6\",\"type\":\"ToolEvents\"},\"toolbar\":{\"id\":\"f8eca7a2-6ed5-44b2-bbc6-080f2da1fb6a\",\"type\":\"Toolbar\"},\"x_range\":{\"id\":\"ff9c8322-ffd0-4eab-b844-6d37e93e2377\",\"type\":\"DataRange1d\"},\"y_range\":{\"id\":\"9eea9c62-87e0-41bf-a0db-c103f0bc8754\",\"type\":\"DataRange1d\"}},\"id\":\"c3318dde-ac55-4ed2-b844-dcfc2c2f1887\",\"subtype\":\"Figure\",\"type\":\"Plot\"}],\"root_ids\":[\"c3318dde-ac55-4ed2-b844-dcfc2c2f1887\"]},\"title\":\"Bokeh Application\",\"version\":\"0.12.2\"}};\n",
       "            var render_items = [{\"docid\":\"89b18bdc-f670-41c6-894c-18b826e89709\",\"elementid\":\"5c7e1842-1bcc-4b9c-b585-2d4e2b7d47cb\",\"modelid\":\"c3318dde-ac55-4ed2-b844-dcfc2c2f1887\"}];\n",
       "            \n",
       "            Bokeh.embed.embed_items(docs_json, render_items);\n",
       "        });\n",
       "      },\n",
       "      function(Bokeh) {\n",
       "      }\n",
       "    ];\n",
       "  \n",
       "    function run_inline_js() {\n",
       "      \n",
       "      if ((window.Bokeh !== undefined) || (force === \"1\")) {\n",
       "        for (var i = 0; i < inline_js.length; i++) {\n",
       "          inline_js[i](window.Bokeh);\n",
       "        }if (force === \"1\") {\n",
       "          display_loaded();\n",
       "        }} else if (Date.now() < window._bokeh_timeout) {\n",
       "        setTimeout(run_inline_js, 100);\n",
       "      } else if (!window._bokeh_failed_load) {\n",
       "        console.log(\"Bokeh: BokehJS failed to load within specified timeout.\");\n",
       "        window._bokeh_failed_load = true;\n",
       "      } else if (!force) {\n",
       "        var cell = $(\"#5c7e1842-1bcc-4b9c-b585-2d4e2b7d47cb\").parents('.cell').data().cell;\n",
       "        cell.output_area.append_execute_result(NB_LOAD_WARNING)\n",
       "      }\n",
       "  \n",
       "    }\n",
       "  \n",
       "    if (window._bokeh_is_loading === 0) {\n",
       "      console.log(\"Bokeh: BokehJS loaded, going straight to plotting\");\n",
       "      run_inline_js();\n",
       "    } else {\n",
       "      load_libs(js_urls, function() {\n",
       "        console.log(\"Bokeh: BokehJS plotting callback run at\", now());\n",
       "        run_inline_js();\n",
       "      });\n",
       "    }\n",
       "  }(this));\n",
       "</script>"
      ]
     },
     "metadata": {},
     "output_type": "display_data"
    }
   ],
   "source": [
    "# Plotining using bokeh\n",
    "#TOOLS = 'hover,box_zoom,box_select,crosshair,resize,reset,lasso_select,pan,save,poly_select,tap,wheel_zoom,undo'\n",
    "TOOLS = 'box_zoom,box_select,crosshair,resize,reset,lasso_select,pan,save,poly_select,tap,wheel_zoom,undo'\n",
    "p = figure(plot_width=500, plot_height=500, title=\"Residual plot on the training data\", tools=TOOLS)\n",
    "p.scatter(predicted, (predicted - Y),x=\"jjj\", marker=\"o\", color=\"#80B1D3\", line_width=3)\n",
    "p.title.align = \"center\"\n",
    "p.xaxis.axis_label = \"Predicted\"\n",
    "p.xaxis.axis_label_text_color = \"#aa6666\"\n",
    "#p.xaxis.axis_label_standoff = 30\n",
    "p.xaxis.major_tick_line_color = \"firebrick\"\n",
    "p.xaxis.major_tick_line_width = 3\n",
    "p.xaxis.minor_tick_line_color = \"orange\"\n",
    "p.yaxis.axis_label = \"Residuals\"\n",
    "p.yaxis.axis_label_text_font_style = \"italic\"\n",
    "p.yaxis.axis_label_text_color = \"#aa6666\"\n",
    "p.background_fill_color = \"beige\"\n",
    "p.background_fill_alpha = 0.5\n",
    "#p.line([2,38], [0, 0], line_dash=\"4 4\", line_width=2, color='red')\n",
    "show(p)"
   ]
  },
  {
   "cell_type": "markdown",
   "metadata": {},
   "source": [
    "## Pipeline"
   ]
  },
  {
   "cell_type": "markdown",
   "metadata": {},
   "source": [
    "The best to deliver the model by pipeline the operation then at deployment can be done in one model."
   ]
  },
  {
   "cell_type": "markdown",
   "metadata": {
    "collapsed": true
   },
   "source": [
    "  I used two ways to check the pipeline so any one can be fine"
   ]
  },
  {
   "cell_type": "code",
   "execution_count": 22,
   "metadata": {
    "collapsed": false
   },
   "outputs": [
    {
     "name": "stdout",
     "output_type": "stream",
     "text": [
      "0.609071041855\n",
      "Scoring according to mean_squared_error\n",
      "[ -98.50684876 -105.32071168  -92.61299741 -131.49623811 -141.93293905\n",
      "  -93.18980872 -127.6324255   -95.94473515 -129.89759729 -112.68130875]\n",
      "\n",
      " Mean      Standard deviation\n",
      "-112.92      17.46\n",
      "[ True  True  True  True  True  True  True  True]\n",
      "R-squared =  0.609071041855\n"
     ]
    }
   ],
   "source": [
    "# Use Pipeline\n",
    "# ANOVA \n",
    "from sklearn.pipeline import Pipeline\n",
    "from sklearn.feature_selection import SelectKBest, f_regression\n",
    "anova_filter = SelectKBest(f_regression, k=8)\n",
    "LR = LinearRegression()\n",
    "anova_LinReg = Pipeline([('scaler_Input',scaler), ('anova', anova_filter), ('LinReg', LR)])\n",
    "# You can set the parameters using the names issued\n",
    "# For instance, fit using a k of 10 in the SelectKBest\n",
    "anova_LinReg.set_params(anova__k=8).fit(new_data, Y)\n",
    "prediction = anova_LinReg.predict(new_data)\n",
    "print anova_LinReg.score(new_data, Y)                        \n",
    "# getting the selected features chosen by anova_filter\n",
    "results = cross_validation.cross_val_score(anova_LinReg, new_data, Y, cv=kfold, scoring=scoring)\n",
    "print 'Scoring according to mean_squared_error'\n",
    "print results\n",
    "print '\\n Mean      Standard deviation'\n",
    "print(\"%.2f      %.2f\" % (results.mean(), results.std()))\n",
    "print anova_LinReg.named_steps['anova'].get_support()\n",
    "r_squared = r2_score(Y, prediction, multioutput='variance_weighted')\n",
    "print 'R-squared = ',r_squared"
   ]
  },
  {
   "cell_type": "code",
   "execution_count": 23,
   "metadata": {
    "collapsed": false
   },
   "outputs": [
    {
     "name": "stdout",
     "output_type": "stream",
     "text": [
      "R-squared =  0.609071041855\n"
     ]
    }
   ],
   "source": [
    "# Using make_pipeline\n",
    "from sklearn.pipeline import make_pipeline\n",
    "\n",
    "# ANOVA SVM-C\n",
    "# 1) anova filter, take 3 best ranked features\n",
    "anova_filter = SelectKBest(f_regression, k=8)\n",
    "anova_lr = make_pipeline(scaler, anova_filter, LR)\n",
    "anova_lr.fit(new_data, Y)\n",
    "prediction = anova_lr.predict(new_data)\n",
    "r_squared = r2_score(Y, prediction, multioutput='variance_weighted')\n",
    "print 'R-squared = ',r_squared"
   ]
  },
  {
   "cell_type": "markdown",
   "metadata": {},
   "source": [
    "### Save the Pipeline model for developement"
   ]
  },
  {
   "cell_type": "code",
   "execution_count": 24,
   "metadata": {
    "collapsed": false
   },
   "outputs": [
    {
     "data": {
      "text/plain": [
       "['anova_lr.pkl',\n",
       " 'anova_lr.pkl_01.npy',\n",
       " 'anova_lr.pkl_02.npy',\n",
       " 'anova_lr.pkl_03.npy',\n",
       " 'anova_lr.pkl_04.npy',\n",
       " 'anova_lr.pkl_05.npy',\n",
       " 'anova_lr.pkl_06.npy',\n",
       " 'anova_lr.pkl_07.npy']"
      ]
     },
     "execution_count": 24,
     "metadata": {},
     "output_type": "execute_result"
    }
   ],
   "source": [
    "# save the model scaler to the desk\n",
    "from sklearn.externals import joblib\n",
    "joblib.dump(anova_lr, 'anova_lr.pkl') "
   ]
  },
  {
   "cell_type": "code",
   "execution_count": 25,
   "metadata": {
    "collapsed": false
   },
   "outputs": [
    {
     "name": "stdout",
     "output_type": "stream",
     "text": [
      " =================================================================>>>>> done\n",
      "R-squared =  0.609071041855\n"
     ]
    }
   ],
   "source": [
    "# Test the model if it is work\n",
    "anova_lrTest = joblib.load('anova_lr.pkl')\n",
    "NewPred = anova_lrTest.predict(new_data)\n",
    "print \" =================================================================>>>>> done\"\n",
    "r_squared = r2_score(Y, NewPred, multioutput='variance_weighted')\n",
    "print 'R-squared = ',r_squared"
   ]
  },
  {
   "cell_type": "code",
   "execution_count": 26,
   "metadata": {
    "collapsed": false
   },
   "outputs": [
    {
     "name": "stdout",
     "output_type": "stream",
     "text": [
      "Point of training data before normalization\n",
      "[ 389.9  189.     0.   145.9   22.   944.7  755.8   91. ]\n",
      "\n",
      "The read target of the data =  82.5992248\n",
      "\n",
      "The Predicted target of the data =  [ 70.72446776]\n"
     ]
    }
   ],
   "source": [
    "# test on single data point, randomly choose point number 55\n",
    "print 'Point of training data before normalization\\n',new_data[55]\n",
    "print '\\nThe read target of the data = ', Y[55]\n",
    "NewPred = anova_lrTest.predict([new_data[55]])\n",
    "print '\\nThe Predicted target of the data = ', NewPred\n",
    "\n"
   ]
  },
  {
   "cell_type": "markdown",
   "metadata": {},
   "source": [
    "## Conclusion "
   ]
  },
  {
   "cell_type": "markdown",
   "metadata": {},
   "source": [
    "From the learning cure the model shows some high bias even though the model started to learn about the structure of the data."
   ]
  }
 ],
 "metadata": {
  "kernelspec": {
   "display_name": "Python 2",
   "language": "python",
   "name": "python2"
  },
  "language_info": {
   "codemirror_mode": {
    "name": "ipython",
    "version": 2
   },
   "file_extension": ".py",
   "mimetype": "text/x-python",
   "name": "python",
   "nbconvert_exporter": "python",
   "pygments_lexer": "ipython2",
   "version": "2.7.12"
  }
 },
 "nbformat": 4,
 "nbformat_minor": 0
}
