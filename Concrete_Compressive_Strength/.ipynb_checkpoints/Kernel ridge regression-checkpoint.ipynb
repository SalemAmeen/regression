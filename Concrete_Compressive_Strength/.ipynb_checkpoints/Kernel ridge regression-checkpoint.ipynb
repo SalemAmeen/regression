{
 "cells": [
  {
   "cell_type": "markdown",
   "metadata": {},
   "source": [
    "Salem Ameen, PhD student at Salford University\n",
    "\n",
    "### Concrete Compressive Strength Data Set\n",
    "\n",
    "Kernel KernelRidge regression"
   ]
  },
  {
   "cell_type": "markdown",
   "metadata": {},
   "source": [
    "# Import the Libraries"
   ]
  },
  {
   "cell_type": "code",
   "execution_count": 1,
   "metadata": {
    "collapsed": false
   },
   "outputs": [
    {
     "data": {
      "text/html": [
       "\n",
       "    <div class=\"bk-root\">\n",
       "        <a href=\"http://bokeh.pydata.org\" target=\"_blank\" class=\"bk-logo bk-logo-small bk-logo-notebook\"></a>\n",
       "        <span id=\"f18742fd-0e0c-4745-a17c-465a801fb8da\">Loading BokehJS ...</span>\n",
       "    </div>"
      ]
     },
     "metadata": {},
     "output_type": "display_data"
    },
    {
     "data": {
      "application/javascript": [
       "\n",
       "(function(global) {\n",
       "  function now() {\n",
       "    return new Date();\n",
       "  }\n",
       "\n",
       "  var force = \"1\";\n",
       "\n",
       "  if (typeof (window._bokeh_onload_callbacks) === \"undefined\" || force !== \"\") {\n",
       "    window._bokeh_onload_callbacks = [];\n",
       "    window._bokeh_is_loading = undefined;\n",
       "  }\n",
       "\n",
       "\n",
       "  \n",
       "  if (typeof (window._bokeh_timeout) === \"undefined\" || force !== \"\") {\n",
       "    window._bokeh_timeout = Date.now() + 5000;\n",
       "    window._bokeh_failed_load = false;\n",
       "  }\n",
       "\n",
       "  var NB_LOAD_WARNING = {'data': {'text/html':\n",
       "     \"<div style='background-color: #fdd'>\\n\"+\n",
       "     \"<p>\\n\"+\n",
       "     \"BokehJS does not appear to have successfully loaded. If loading BokehJS from CDN, this \\n\"+\n",
       "     \"may be due to a slow or bad network connection. Possible fixes:\\n\"+\n",
       "     \"</p>\\n\"+\n",
       "     \"<ul>\\n\"+\n",
       "     \"<li>re-rerun `output_notebook()` to attempt to load from CDN again, or</li>\\n\"+\n",
       "     \"<li>use INLINE resources instead, as so:</li>\\n\"+\n",
       "     \"</ul>\\n\"+\n",
       "     \"<code>\\n\"+\n",
       "     \"from bokeh.resources import INLINE\\n\"+\n",
       "     \"output_notebook(resources=INLINE)\\n\"+\n",
       "     \"</code>\\n\"+\n",
       "     \"</div>\"}};\n",
       "\n",
       "  function display_loaded() {\n",
       "    if (window.Bokeh !== undefined) {\n",
       "      Bokeh.$(\"#f18742fd-0e0c-4745-a17c-465a801fb8da\").text(\"BokehJS successfully loaded.\");\n",
       "    } else if (Date.now() < window._bokeh_timeout) {\n",
       "      setTimeout(display_loaded, 100)\n",
       "    }\n",
       "  }\n",
       "\n",
       "  function run_callbacks() {\n",
       "    window._bokeh_onload_callbacks.forEach(function(callback) { callback() });\n",
       "    delete window._bokeh_onload_callbacks\n",
       "    console.info(\"Bokeh: all callbacks have finished\");\n",
       "  }\n",
       "\n",
       "  function load_libs(js_urls, callback) {\n",
       "    window._bokeh_onload_callbacks.push(callback);\n",
       "    if (window._bokeh_is_loading > 0) {\n",
       "      console.log(\"Bokeh: BokehJS is being loaded, scheduling callback at\", now());\n",
       "      return null;\n",
       "    }\n",
       "    if (js_urls == null || js_urls.length === 0) {\n",
       "      run_callbacks();\n",
       "      return null;\n",
       "    }\n",
       "    console.log(\"Bokeh: BokehJS not loaded, scheduling load and callback at\", now());\n",
       "    window._bokeh_is_loading = js_urls.length;\n",
       "    for (var i = 0; i < js_urls.length; i++) {\n",
       "      var url = js_urls[i];\n",
       "      var s = document.createElement('script');\n",
       "      s.src = url;\n",
       "      s.async = false;\n",
       "      s.onreadystatechange = s.onload = function() {\n",
       "        window._bokeh_is_loading--;\n",
       "        if (window._bokeh_is_loading === 0) {\n",
       "          console.log(\"Bokeh: all BokehJS libraries loaded\");\n",
       "          run_callbacks()\n",
       "        }\n",
       "      };\n",
       "      s.onerror = function() {\n",
       "        console.warn(\"failed to load library \" + url);\n",
       "      };\n",
       "      console.log(\"Bokeh: injecting script tag for BokehJS library: \", url);\n",
       "      document.getElementsByTagName(\"head\")[0].appendChild(s);\n",
       "    }\n",
       "  };var element = document.getElementById(\"f18742fd-0e0c-4745-a17c-465a801fb8da\");\n",
       "  if (element == null) {\n",
       "    console.log(\"Bokeh: ERROR: autoload.js configured with elementid 'f18742fd-0e0c-4745-a17c-465a801fb8da' but no matching script tag was found. \")\n",
       "    return false;\n",
       "  }\n",
       "\n",
       "  var js_urls = ['https://cdn.pydata.org/bokeh/release/bokeh-0.12.2.min.js', 'https://cdn.pydata.org/bokeh/release/bokeh-widgets-0.12.2.min.js', 'https://cdn.pydata.org/bokeh/release/bokeh-compiler-0.12.2.min.js'];\n",
       "\n",
       "  var inline_js = [\n",
       "    function(Bokeh) {\n",
       "      Bokeh.set_log_level(\"info\");\n",
       "    },\n",
       "    \n",
       "    function(Bokeh) {\n",
       "      \n",
       "      Bokeh.$(\"#f18742fd-0e0c-4745-a17c-465a801fb8da\").text(\"BokehJS is loading...\");\n",
       "    },\n",
       "    function(Bokeh) {\n",
       "      console.log(\"Bokeh: injecting CSS: https://cdn.pydata.org/bokeh/release/bokeh-0.12.2.min.css\");\n",
       "      Bokeh.embed.inject_css(\"https://cdn.pydata.org/bokeh/release/bokeh-0.12.2.min.css\");\n",
       "      console.log(\"Bokeh: injecting CSS: https://cdn.pydata.org/bokeh/release/bokeh-widgets-0.12.2.min.css\");\n",
       "      Bokeh.embed.inject_css(\"https://cdn.pydata.org/bokeh/release/bokeh-widgets-0.12.2.min.css\");\n",
       "    }\n",
       "  ];\n",
       "\n",
       "  function run_inline_js() {\n",
       "    \n",
       "    if ((window.Bokeh !== undefined) || (force === \"1\")) {\n",
       "      for (var i = 0; i < inline_js.length; i++) {\n",
       "        inline_js[i](window.Bokeh);\n",
       "      }if (force === \"1\") {\n",
       "        display_loaded();\n",
       "      }} else if (Date.now() < window._bokeh_timeout) {\n",
       "      setTimeout(run_inline_js, 100);\n",
       "    } else if (!window._bokeh_failed_load) {\n",
       "      console.log(\"Bokeh: BokehJS failed to load within specified timeout.\");\n",
       "      window._bokeh_failed_load = true;\n",
       "    } else if (!force) {\n",
       "      var cell = $(\"#f18742fd-0e0c-4745-a17c-465a801fb8da\").parents('.cell').data().cell;\n",
       "      cell.output_area.append_execute_result(NB_LOAD_WARNING)\n",
       "    }\n",
       "\n",
       "  }\n",
       "\n",
       "  if (window._bokeh_is_loading === 0) {\n",
       "    console.log(\"Bokeh: BokehJS loaded, going straight to plotting\");\n",
       "    run_inline_js();\n",
       "  } else {\n",
       "    load_libs(js_urls, function() {\n",
       "      console.log(\"Bokeh: BokehJS plotting callback run at\", now());\n",
       "      run_inline_js();\n",
       "    });\n",
       "  }\n",
       "}(this));"
      ]
     },
     "metadata": {},
     "output_type": "display_data"
    }
   ],
   "source": [
    "import numpy as np\n",
    "import pandas\n",
    "from numpy import *\n",
    "import time\n",
    "import sys\n",
    "import pandas as pd\n",
    "import matplotlib.pyplot as plt\n",
    "from sklearn import feature_selection\n",
    "from sklearn.kernel_ridge import KernelRidge\n",
    "from sklearn.learning_curve import learning_curve, validation_curve\n",
    "from sklearn.cross_validation import cross_val_predict\n",
    "from sklearn import metrics, grid_search, cross_validation\n",
    "from IPython.display import set_matplotlib_formats\n",
    "from bokeh.plotting import figure, show, output_notebook\n",
    "from sklearn.grid_search import GridSearchCV, RandomizedSearchCV\n",
    "from sklearn.metrics import r2_score\n",
    "from bokeh.layouts import gridplot\n",
    "output_notebook()\n",
    "set_matplotlib_formats('png', 'pdf')\n",
    "%matplotlib inline\n",
    "plt.rcParams['figure.figsize'] = (6, 6)"
   ]
  },
  {
   "cell_type": "markdown",
   "metadata": {},
   "source": [
    "# Load data"
   ]
  },
  {
   "cell_type": "markdown",
   "metadata": {},
   "source": [
    "In the previous file we have not change the data as there is no missing value or add any new parameters so it can be downloaded from the web directly. "
   ]
  },
  {
   "cell_type": "code",
   "execution_count": 2,
   "metadata": {
    "collapsed": false
   },
   "outputs": [
    {
     "name": "stdout",
     "output_type": "stream",
     "text": [
      "Number of examples 1030\n"
     ]
    }
   ],
   "source": [
    "names = ['Cement','BlastFurnace','Fly_Ash','Water','Superplasticizer','CoarseAggregate','Aggregate','day','Concrete']\n",
    "feature_names = names\n",
    "feature_cols = names\n",
    "\n",
    "data = pd.read_excel('Concrete_Data.xls', sep='%s')\n",
    "\n",
    "from sklearn import preprocessing\n",
    "\n",
    "def number_encode_features(df):\n",
    "    result = df.copy()\n",
    "    encoders = {}\n",
    "    for column in result.columns:\n",
    "        if result.dtypes[column] == np.object:\n",
    "            encoders[column] = preprocessing.LabelEncoder()\n",
    "            result[column] = encoders[column].fit_transform(result[column])\n",
    "    return result, encoders\n",
    "\n",
    "data, _ = number_encode_features(data)\n",
    "\n",
    "dataset = data.values\n",
    "X = dataset[:,0:8]\n",
    "Y = dataset[:,8]\n",
    "print 'Number of examples',len(X)"
   ]
  },
  {
   "cell_type": "code",
   "execution_count": 3,
   "metadata": {
    "collapsed": false
   },
   "outputs": [
    {
     "name": "stdout",
     "output_type": "stream",
     "text": [
      "Number of training examples 824\n",
      "Number of validation examples 206\n"
     ]
    }
   ],
   "source": [
    "# Make developement dataset for genrilization and final testing\n",
    "from sklearn.cross_validation import train_test_split\n",
    "# Extracting 20% testing data\n",
    "X_train, X_test, y_train, y_test = train_test_split(\n",
    "    X, Y, test_size=0.20, random_state=0)\n",
    "X = X_train\n",
    "Y = y_train\n",
    "new_data      = X_train\n",
    "new_test_data = X_test\n",
    "print 'Number of training examples',len(X_train)\n",
    "print 'Number of validation examples',len(X_test)"
   ]
  },
  {
   "cell_type": "markdown",
   "metadata": {},
   "source": [
    "Number of training data is very small so we need to use cross validation instead of spareate another validation data."
   ]
  },
  {
   "cell_type": "markdown",
   "metadata": {},
   "source": [
    "From the previous visulization the data has no missing value but has many outlier and some sparisty"
   ]
  },
  {
   "cell_type": "markdown",
   "metadata": {},
   "source": [
    "# Ranking of the feature's importance to the target"
   ]
  },
  {
   "cell_type": "code",
   "execution_count": 4,
   "metadata": {
    "collapsed": false
   },
   "outputs": [
    {
     "name": "stdout",
     "output_type": "stream",
     "text": [
      "Cement \t0.169229190538\n",
      "BlastFurnace \t-2.35698127822\n",
      "Fly_Ash \t-2.89618696208\n",
      "Water \t-0.205662762116\n",
      "Superplasticizer \t-1.36364880128\n",
      "CoarseAggregate \t-0.0851636423379\n",
      "Aggregate \t-0.122098915609\n",
      "day \t-2.28026277351\n",
      "Concrete \t0.999999999998\n"
     ]
    }
   ],
   "source": [
    "# Using just correlation coefficient even in prevoius file we show them using data frame\n",
    "for col in feature_cols:\n",
    "    lm = KernelRidge()\n",
    "    lm.fit(data[[col]], data['Concrete'])\n",
    "    print col,'\\t', lm.score(data[[col]], data['Concrete'])"
   ]
  },
  {
   "cell_type": "code",
   "execution_count": 5,
   "metadata": {
    "collapsed": false
   },
   "outputs": [
    {
     "name": "stdout",
     "output_type": "stream",
     "text": [
      "Feature Name      Score         Pvalue\n",
      "Cement \t\t338.725793692 \t1.32345794884e-65\n",
      "BlastFurnace \t\t19.0325717427 \t1.41457498978e-05\n",
      "Fly_Ash \t\t11.6269492436 \t0.000675283559617\n",
      "Water \t\t94.1187973071 \t2.3660726996e-21\n",
      "Superplasticizer \t\t159.109321731 \t5.07908923638e-34\n",
      "CoarseAggregate \t\t28.7447095672 \t1.01959722248e-07\n",
      "Aggregate \t\t29.5829376115 \t6.69468148289e-08\n",
      "day \t\t124.673209261 \t2.10314421454e-27\n",
      "Concrete \t\t-2.31485020847e+18 \t1.0\n"
     ]
    }
   ],
   "source": [
    "# Randing the important features to the target\n",
    "model = feature_selection.SelectKBest(score_func=feature_selection.f_regression,k=4)\n",
    "results = model.fit(data[feature_cols], data['Concrete'])\n",
    "k=0\n",
    "print 'Feature Name      Score         Pvalue'\n",
    "for feat in feature_cols:\n",
    "    print feat,'\\t\\t',results.scores_[k],'\\t',results.pvalues_[k]\n",
    "    k=k+1\n"
   ]
  },
  {
   "cell_type": "markdown",
   "metadata": {},
   "source": [
    "# Set the parameters for cross validation"
   ]
  },
  {
   "cell_type": "code",
   "execution_count": 6,
   "metadata": {
    "collapsed": true
   },
   "outputs": [],
   "source": [
    "num_folds = 10\n",
    "num_instances = len(X)\n",
    "seed = 7\n",
    "kfold = cross_validation.KFold(n=num_instances, n_folds=num_folds, random_state=seed)"
   ]
  },
  {
   "cell_type": "markdown",
   "metadata": {},
   "source": [
    " # Set the parameters for bias-variance dilemma"
   ]
  },
  {
   "cell_type": "code",
   "execution_count": 7,
   "metadata": {
    "collapsed": false
   },
   "outputs": [],
   "source": [
    "def plot_learning_curve(estimator, title, X, y, ylim=None, cv=None,\n",
    "                        n_jobs=1, train_sizes=np.linspace(.1, 1.0, 5)):\n",
    "    plt.figure()\n",
    "    plt.title(title)\n",
    "    if ylim is not None:\n",
    "        plt.ylim(*ylim)\n",
    "    plt.xlabel(\"Training examples\")\n",
    "    plt.ylabel(\"Score\")\n",
    "    train_sizes, train_scores, test_scores = learning_curve(\n",
    "        estimator, X, y, cv=cv, n_jobs=n_jobs, train_sizes=train_sizes)\n",
    "    train_scores_mean = np.mean(train_scores, axis=1)\n",
    "    train_scores_std = np.std(train_scores, axis=1)\n",
    "    test_scores_mean = np.mean(test_scores, axis=1)\n",
    "    test_scores_std = np.std(test_scores, axis=1)\n",
    "    plt.grid()\n",
    "\n",
    "    plt.fill_between(train_sizes, train_scores_mean - train_scores_std,\n",
    "                     train_scores_mean + train_scores_std, alpha=0.1,\n",
    "                     color=\"r\")\n",
    "    plt.fill_between(train_sizes, test_scores_mean - test_scores_std,\n",
    "                     test_scores_mean + test_scores_std, alpha=0.1, color=\"g\")\n",
    "    plt.plot(train_sizes, train_scores_mean, 'o-', color=\"r\",\n",
    "             label=\"Training score\")\n",
    "    plt.plot(train_sizes, test_scores_mean, 'o-', color=\"g\",\n",
    "             label=\"Cross-validation score\")\n",
    "\n",
    "    plt.legend(loc=\"best\")\n",
    "    return plt"
   ]
  },
  {
   "cell_type": "markdown",
   "metadata": {},
   "source": [
    "# Preprocessing the data and save both the model and preprocessed data"
   ]
  },
  {
   "cell_type": "code",
   "execution_count": 8,
   "metadata": {
    "collapsed": false
   },
   "outputs": [],
   "source": [
    "# According to the nature of the data spasity and there is outliter RobustScaler class is recomandit \n",
    "# but when I tried both of them the result seems is same\n",
    "from sklearn.preprocessing import StandardScaler\n",
    "scaler = preprocessing.StandardScaler().fit(X_train)"
   ]
  },
  {
   "cell_type": "code",
   "execution_count": 9,
   "metadata": {
    "collapsed": false
   },
   "outputs": [],
   "source": [
    "X_train = scaler.transform(X_train)\n",
    "X_test = scaler.transform(X_test) # use same transform for testing data\n",
    "X = X_train"
   ]
  },
  {
   "cell_type": "code",
   "execution_count": 10,
   "metadata": {
    "collapsed": true
   },
   "outputs": [],
   "source": [
    "# save transformed data\n",
    "np.save('./data/X_train', X_train)\n",
    "np.save('./data/y_train', y_train)\n",
    "np.save('./data/X_test', X_test)\n",
    "np.save('./data/y_test', y_test)"
   ]
  },
  {
   "cell_type": "code",
   "execution_count": 11,
   "metadata": {
    "collapsed": false
   },
   "outputs": [
    {
     "data": {
      "text/plain": [
       "['scaler.pkl', 'scaler.pkl_01.npy', 'scaler.pkl_02.npy', 'scaler.pkl_03.npy']"
      ]
     },
     "execution_count": 11,
     "metadata": {},
     "output_type": "execute_result"
    }
   ],
   "source": [
    "# save the model scaler to the desk\n",
    "from sklearn.externals import joblib\n",
    "joblib.dump(scaler, 'scaler.pkl') "
   ]
  },
  {
   "cell_type": "code",
   "execution_count": 12,
   "metadata": {
    "collapsed": false
   },
   "outputs": [
    {
     "name": "stdout",
     "output_type": "stream",
     "text": [
      " =================================================================>>>>> done\n",
      "[[ 2.10991518 -0.88106119 -0.84617062 ...,  1.97132825 -1.97556016\n",
      "  -0.69267849]\n",
      " [-1.49852146  1.2030767  -0.84617062 ..., -0.17456898  0.33209718\n",
      "  -0.62793264]\n",
      " [ 0.79619183  1.26087498 -0.84617062 ..., -0.34824772 -0.21429096\n",
      "   0.7317303 ]\n",
      " ..., \n",
      " [-1.01146856 -0.31384476  1.84556404 ...,  0.4429554   0.25069398\n",
      "  -0.51462739]\n",
      " [-0.16567549  0.37690132  0.48783031 ..., -0.98764276 -0.495502   -0.2880169 ]\n",
      " [-0.28041116 -0.88106119  0.63813809 ..., -0.19180821  1.08532344\n",
      "  -0.69267849]]\n"
     ]
    }
   ],
   "source": [
    "# Test the model if it is work\n",
    "scalerTest = joblib.load('scaler.pkl')\n",
    "new_data_scaled = scalerTest.transform(new_test_data)\n",
    "print \" =================================================================>>>>> done\"\n",
    "print new_data_scaled"
   ]
  },
  {
   "cell_type": "markdown",
   "metadata": {},
   "source": [
    "# 1. KernelRidge Regression"
   ]
  },
  {
   "cell_type": "markdown",
   "metadata": {},
   "source": [
    "Kernel KernelRidge regression (KRR) combines KernelRidge regression (linear least squares with l2-norm regularization) with the kernel trick. It thus learns a linear function in the space induced by the respective kernel and the data. For non-linear kernels, this corresponds to a non-linear function in the original space.\n"
   ]
  },
  {
   "cell_type": "markdown",
   "metadata": {},
   "source": [
    "## Validation curve"
   ]
  },
  {
   "cell_type": "markdown",
   "metadata": {},
   "source": [
    "choosing multiple hyperparameters of an estimator "
   ]
  },
  {
   "cell_type": "code",
   "execution_count": 13,
   "metadata": {
    "collapsed": false
   },
   "outputs": [
    {
     "data": {
      "text/plain": [
       "['kernel', 'degree', 'kernel_params', 'alpha', 'coef0', 'gamma']"
      ]
     },
     "execution_count": 13,
     "metadata": {},
     "output_type": "execute_result"
    }
   ],
   "source": [
    "from sklearn.kernel_ridge import KernelRidge\n",
    "estimator = KernelRidge()\n",
    "estimator.get_params().keys()"
   ]
  },
  {
   "cell_type": "code",
   "execution_count": 14,
   "metadata": {
    "collapsed": false
   },
   "outputs": [
    {
     "data": {
      "image/png": "[encoded data removed]",
      "text/plain": [
       "<matplotlib.figure.Figure at 0x7ff1761b6350>"
      ]
     },
     "metadata": {},
     "output_type": "display_data"
    }
   ],
   "source": [
    "# For parametr gamma\n",
    "#param_range = np.logspace(-10.0, 10.0)\n",
    "#param_range = np.logspace(-20, 2, 50)\n",
    "param_range = np.linspace(0.00000000001,0.5,10)\n",
    "\n",
    "train_scores, test_scores = validation_curve(\n",
    "    KernelRidge(kernel='rbf'), X, Y, param_name=\"gamma\", param_range=param_range,\n",
    "    cv=num_folds,  n_jobs=-1)\n",
    "train_scores_mean = np.mean(train_scores, axis=1)\n",
    "train_scores_std = np.std(train_scores, axis=1)\n",
    "test_scores_mean = np.mean(test_scores, axis=1)\n",
    "test_scores_std = np.std(test_scores, axis=1)\n",
    "\n",
    "plt.title(\"Validation Curve with KernelRidge\")\n",
    "plt.xlabel(\"gamma\")\n",
    "plt.ylabel(\"Score\")\n",
    "plt.ylim(0, 1.0)\n",
    "plt.plot(param_range, train_scores_mean, label=\"Training score\", color=\"r\")\n",
    "plt.fill_between(param_range, train_scores_mean - train_scores_std,\n",
    "                 train_scores_mean + train_scores_std, alpha=0.2, color=\"r\")\n",
    "plt.plot(param_range, test_scores_mean, label=\"Cross-validation score\",\n",
    "             color=\"g\")\n",
    "plt.fill_between(param_range, test_scores_mean - test_scores_std,\n",
    "                 test_scores_mean + test_scores_std, alpha=0.2, color=\"g\")\n",
    "plt.legend(loc=\"best\")\n",
    "plt.show()"
   ]
  },
  {
   "cell_type": "markdown",
   "metadata": {},
   "source": [
    "It looks gamma between 0 and 0.1 works well"
   ]
  },
  {
   "cell_type": "code",
   "execution_count": 15,
   "metadata": {
    "collapsed": false
   },
   "outputs": [
    {
     "name": "stderr",
     "output_type": "stream",
     "text": [
      "/home/salm/anaconda2/lib/python2.7/site-packages/sklearn/linear_model/ridge.py:154: UserWarning: Singular matrix in solving dual problem. Using least-squares solution instead.\n",
      "  warnings.warn(\"Singular matrix in solving dual problem. Using \"\n",
      "/home/salm/anaconda2/lib/python2.7/site-packages/sklearn/linear_model/ridge.py:154: UserWarning: Singular matrix in solving dual problem. Using least-squares solution instead.\n",
      "  warnings.warn(\"Singular matrix in solving dual problem. Using \"\n",
      "/home/salm/anaconda2/lib/python2.7/site-packages/sklearn/linear_model/ridge.py:154: UserWarning: Singular matrix in solving dual problem. Using least-squares solution instead.\n",
      "  warnings.warn(\"Singular matrix in solving dual problem. Using \"\n",
      "/home/salm/anaconda2/lib/python2.7/site-packages/sklearn/linear_model/ridge.py:154: UserWarning: Singular matrix in solving dual problem. Using least-squares solution instead.\n",
      "  warnings.warn(\"Singular matrix in solving dual problem. Using \"\n",
      "/home/salm/anaconda2/lib/python2.7/site-packages/sklearn/linear_model/ridge.py:154: UserWarning: Singular matrix in solving dual problem. Using least-squares solution instead.\n",
      "  warnings.warn(\"Singular matrix in solving dual problem. Using \"\n",
      "/home/salm/anaconda2/lib/python2.7/site-packages/sklearn/linear_model/ridge.py:154: UserWarning: Singular matrix in solving dual problem. Using least-squares solution instead.\n",
      "  warnings.warn(\"Singular matrix in solving dual problem. Using \"\n",
      "/home/salm/anaconda2/lib/python2.7/site-packages/sklearn/linear_model/ridge.py:154: UserWarning: Singular matrix in solving dual problem. Using least-squares solution instead.\n",
      "  warnings.warn(\"Singular matrix in solving dual problem. Using \"\n",
      "/home/salm/anaconda2/lib/python2.7/site-packages/sklearn/linear_model/ridge.py:154: UserWarning: Singular matrix in solving dual problem. Using least-squares solution instead.\n",
      "  warnings.warn(\"Singular matrix in solving dual problem. Using \"\n"
     ]
    },
    {
     "data": {
      "image/png": "[encoded data removed]",
      "text/plain": [
       "<matplotlib.figure.Figure at 0x7ff175415fd0>"
      ]
     },
     "metadata": {},
     "output_type": "display_data"
    }
   ],
   "source": [
    "# For parametr alpha\n",
    "#param_range = np.logspace(-10.0, 10.0)\n",
    "#param_range = np.logspace(-20, 2, 50)\n",
    "param_range = np.linspace(0,0.2,100)\n",
    "\n",
    "train_scores, test_scores = validation_curve(\n",
    "    KernelRidge(kernel='rbf'), X, Y, param_name=\"alpha\", param_range=param_range,\n",
    "    cv=num_folds,  n_jobs=-1)\n",
    "train_scores_mean = np.mean(train_scores, axis=1)\n",
    "train_scores_std = np.std(train_scores, axis=1)\n",
    "test_scores_mean = np.mean(test_scores, axis=1)\n",
    "test_scores_std = np.std(test_scores, axis=1)\n",
    "\n",
    "plt.title(\"Validation Curve with KernelRidge\")\n",
    "plt.xlabel(\"alpha\")\n",
    "plt.ylabel(\"Score\")\n",
    "plt.ylim(0.2, 1.0)\n",
    "plt.plot(param_range, train_scores_mean, label=\"Training score\", color=\"r\")\n",
    "plt.fill_between(param_range, train_scores_mean - train_scores_std,\n",
    "                 train_scores_mean + train_scores_std, alpha=0.2, color=\"r\")\n",
    "plt.plot(param_range, test_scores_mean, label=\"Cross-validation score\",\n",
    "             color=\"g\")\n",
    "plt.fill_between(param_range, test_scores_mean - test_scores_std,\n",
    "                 test_scores_mean + test_scores_std, alpha=0.2, color=\"g\")\n",
    "plt.legend(loc=\"best\")\n",
    "plt.show()"
   ]
  },
  {
   "cell_type": "markdown",
   "metadata": {},
   "source": [
    "It looks very small alpha works fine"
   ]
  },
  {
   "cell_type": "markdown",
   "metadata": {},
   "source": [
    "## Grid search and/or Random search to determine best compination of parameters"
   ]
  },
  {
   "cell_type": "code",
   "execution_count": 16,
   "metadata": {
    "collapsed": false
   },
   "outputs": [
    {
     "name": "stdout",
     "output_type": "stream",
     "text": [
      "Hyperparameter optimization using GridSearchCV...\n"
     ]
    },
    {
     "name": "stderr",
     "output_type": "stream",
     "text": [
      "/home/salm/anaconda2/lib/python2.7/site-packages/sklearn/linear_model/ridge.py:154: UserWarning: Singular matrix in solving dual problem. Using least-squares solution instead.\n",
      "  warnings.warn(\"Singular matrix in solving dual problem. Using \"\n",
      "/home/salm/anaconda2/lib/python2.7/site-packages/sklearn/linear_model/ridge.py:154: UserWarning: Singular matrix in solving dual problem. Using least-squares solution instead.\n",
      "  warnings.warn(\"Singular matrix in solving dual problem. Using \"\n",
      "/home/salm/anaconda2/lib/python2.7/site-packages/sklearn/linear_model/ridge.py:154: UserWarning: Singular matrix in solving dual problem. Using least-squares solution instead.\n",
      "  warnings.warn(\"Singular matrix in solving dual problem. Using \"\n",
      "/home/salm/anaconda2/lib/python2.7/site-packages/sklearn/linear_model/ridge.py:154: UserWarning: Singular matrix in solving dual problem. Using least-squares solution instead.\n",
      "  warnings.warn(\"Singular matrix in solving dual problem. Using \"\n",
      "/home/salm/anaconda2/lib/python2.7/site-packages/sklearn/linear_model/ridge.py:154: UserWarning: Singular matrix in solving dual problem. Using least-squares solution instead.\n",
      "  warnings.warn(\"Singular matrix in solving dual problem. Using \"\n",
      "/home/salm/anaconda2/lib/python2.7/site-packages/sklearn/linear_model/ridge.py:154: UserWarning: Singular matrix in solving dual problem. Using least-squares solution instead.\n",
      "  warnings.warn(\"Singular matrix in solving dual problem. Using \"\n",
      "/home/salm/anaconda2/lib/python2.7/site-packages/sklearn/linear_model/ridge.py:154: UserWarning: Singular matrix in solving dual problem. Using least-squares solution instead.\n",
      "  warnings.warn(\"Singular matrix in solving dual problem. Using \"\n",
      "/home/salm/anaconda2/lib/python2.7/site-packages/sklearn/linear_model/ridge.py:154: UserWarning: Singular matrix in solving dual problem. Using least-squares solution instead.\n",
      "  warnings.warn(\"Singular matrix in solving dual problem. Using \"\n",
      "/home/salm/anaconda2/lib/python2.7/site-packages/sklearn/linear_model/ridge.py:154: UserWarning: Singular matrix in solving dual problem. Using least-squares solution instead.\n",
      "  warnings.warn(\"Singular matrix in solving dual problem. Using \"\n",
      "/home/salm/anaconda2/lib/python2.7/site-packages/sklearn/linear_model/ridge.py:154: UserWarning: Singular matrix in solving dual problem. Using least-squares solution instead.\n",
      "  warnings.warn(\"Singular matrix in solving dual problem. Using \"\n"
     ]
    },
    {
     "name": "stdout",
     "output_type": "stream",
     "text": [
      "Parameters with rank: 1\n",
      "Mean validation score: 0.8926 (std: 0.0297)\n",
      "Parameters: {'alpha': 0.010526315789483159, 'gamma': 0.084210526321578952}\n",
      "\n",
      "Parameters with rank: 2\n",
      "Mean validation score: 0.8924 (std: 0.0281)\n",
      "Parameters: {'alpha': 0.010526315789483159, 'gamma': 0.073684210532631578}\n",
      "\n",
      "Parameters with rank: 3\n",
      "Mean validation score: 0.8921 (std: 0.0318)\n",
      "Parameters: {'alpha': 0.010526315789483159, 'gamma': 0.094736842110526326}\n",
      "\n",
      "Parameters with rank: 4\n",
      "Mean validation score: 0.8915 (std: 0.0270)\n",
      "Parameters: {'alpha': 0.010526315789483159, 'gamma': 0.063157894743684218}\n",
      "\n",
      "Parameters with rank: 5\n",
      "Mean validation score: 0.8911 (std: 0.0339)\n",
      "Parameters: {'alpha': 0.010526315789483159, 'gamma': 0.10526315789947369}\n",
      "\n",
      "+++++++++++++++++++++++++++++++++++++++++++++++\n",
      "Hyperparameter optimization using RandomizedSearchCV\n",
      "Parameters with rank: 1\n",
      "Mean validation score: 0.7754 (std: 0.0365)\n",
      "Parameters: {'alpha': 1e-06, 'gamma': 3e-05}\n",
      "\n",
      "Parameters with rank: 2\n",
      "Mean validation score: 0.5958 (std: 0.0535)\n",
      "Parameters: {'alpha': 1e-06, 'gamma': 2e-07}\n",
      "\n",
      "Parameters with rank: 3\n",
      "Mean validation score: 0.3059 (std: 0.0202)\n",
      "Parameters: {'alpha': 0.1, 'gamma': 3e-05}\n",
      "\n",
      "Parameters with rank: 4\n",
      "Mean validation score: -0.0055 (std: 0.0115)\n",
      "Parameters: {'alpha': 0.1, 'gamma': 2e-07}\n",
      "\n",
      "Parameters with rank: 5\n",
      "Mean validation score: -0.0093 (std: 0.0116)\n",
      "Parameters: {'alpha': 0.1, 'gamma': 1e-10}\n",
      "\n"
     ]
    }
   ],
   "source": [
    "# Utility function to report optimal parameters\n",
    "from operator import itemgetter\n",
    "def report(grid_scores, n_top=5):\n",
    "    params = None\n",
    "    top_scores = sorted(grid_scores, key=itemgetter(1), reverse=True)[:n_top]\n",
    "    for i, score in enumerate(top_scores):\n",
    "        print(\"Parameters with rank: {0}\".format(i + 1))\n",
    "        print(\"Mean validation score: {0:.4f} (std: {1:.4f})\".format(\n",
    "              score.mean_validation_score, np.std(score.cv_validation_scores)))\n",
    "        print(\"Parameters: {0}\".format(score.parameters))\n",
    "        print(\"\")\n",
    "        \n",
    "        if params == None:\n",
    "            params = score.parameters\n",
    "    \n",
    "    return params\n",
    "\n",
    "# The most common value for the max number of features to look at in each split is sqrt(# of features)\n",
    "sqrtfeat = np.sqrt(X.shape[1]) \n",
    "# Simple grid test (162 combinations)\n",
    "grid_test1 = { \"gamma\"      : np.linspace(0.00000000001,0.2,20),\n",
    "               \"alpha\"         :  np.linspace(0.00000000000001,0.2,20) }\n",
    "\n",
    "# Large randomized test using max_depth to control tree size (5000 possible combinations)\n",
    "random_test1 = { \"gamma\"          : [0.0000000001, 0.0000002, 0.00003],\n",
    "                 \"alpha\"         : [0.000001, 0.1] }\n",
    "\n",
    "\n",
    "forest = KernelRidge(kernel='rbf')\n",
    "\n",
    "print \"Hyperparameter optimization using GridSearchCV...\"\n",
    "grid_search = GridSearchCV(forest, grid_test1, n_jobs=-1, cv=num_folds)\n",
    "grid_search.fit(X, Y)\n",
    "best_params_from_grid_search = report(grid_search.grid_scores_)\n",
    "print '+++++++++++++++++++++++++++++++++++++++++++++++'\n",
    "print \"Hyperparameter optimization using RandomizedSearchCV\"\n",
    "grid_search = RandomizedSearchCV(forest, random_test1, n_jobs=-1, cv=num_folds, n_iter=5)\n",
    "grid_search.fit(X, Y)\n",
    "best_params_from_rand_search1 = report(grid_search.grid_scores_)"
   ]
  },
  {
   "cell_type": "markdown",
   "metadata": {},
   "source": [
    "## Learning Curve "
   ]
  },
  {
   "cell_type": "markdown",
   "metadata": {},
   "source": [
    "In essence, what we’re doing it training the exact same model with increasingly large fractions of our total training data, and plotting the error of the training and test sets at each step."
   ]
  },
  {
   "cell_type": "code",
   "execution_count": 17,
   "metadata": {
    "collapsed": false
   },
   "outputs": [
    {
     "data": {
      "image/png": "[encoded data removed]",
      "text/plain": [
       "<matplotlib.figure.Figure at 0x7ff1ac60ead0>"
      ]
     },
     "metadata": {},
     "output_type": "display_data"
    }
   ],
   "source": [
    "from sklearn.kernel_ridge import KernelRidge\n",
    "# 'alpha': 10.0, 'solver': 'lsqr'\n",
    "model = KernelRidge(kernel='rbf', gamma=0.052, alpha =  0.0216)\n",
    "title = \"Learning Curves (KernelRidge Refression)\"\n",
    "cv = cross_validation.ShuffleSplit(X.shape[0], n_iter=100,\n",
    "                                   test_size=0.2, random_state=0)\n",
    "plot_learning_curve(model, title, X, Y, ylim=(0.2, 1.01), cv=cv, n_jobs=-1)\n",
    "plt.show()"
   ]
  },
  {
   "cell_type": "code",
   "execution_count": 18,
   "metadata": {
    "collapsed": false
   },
   "outputs": [
    {
     "name": "stdout",
     "output_type": "stream",
     "text": [
      "train_sizes =  [ 50  80 110]\n",
      " training scores\n",
      " 50 training sizees\n",
      "0.961924694668 ± 0.0173619917783\n",
      " 80 training sizees\n",
      "0.951488697079 ± 0.012930547535\n",
      " 110 training sizees\n",
      "0.94477568401 ± 0.011870497433\n",
      "\n",
      " validation scores\n",
      " 50 validation scores\n",
      "0.614725164223 ± 0.0920835224861\n",
      " 80 validation scores\n",
      "0.686545308275 ± 0.0587642494664\n",
      " 110 validation scores\n",
      "0.725251733453 ± 0.0506097802739\n"
     ]
    }
   ],
   "source": [
    "# More data from learning curve to show the process of building the model\n",
    "train_sizes, train_scores, valid_scores = learning_curve(\n",
    "     model, X, Y, train_sizes=[50, 80, 110], cv=cv, n_jobs=4)\n",
    "\n",
    "print 'train_sizes = ', train_sizes\n",
    "\n",
    "print ' training scores'\n",
    "print ' 50 training sizees'\n",
    "print train_scores[0].mean(),'±',train_scores[0].std()\n",
    "print ' 80 training sizees'\n",
    "print train_scores[1].mean(),'±',train_scores[1].std()\n",
    "print ' 110 training sizees'\n",
    "print train_scores[2].mean(),'±',train_scores[2].std()\n",
    "\n",
    "print '\\n validation scores'\n",
    "print ' 50 validation scores'\n",
    "print valid_scores[0].mean(),'±',valid_scores[0].std()\n",
    "print ' 80 validation scores'\n",
    "print valid_scores[1].mean(),'±',valid_scores[1].std()\n",
    "print ' 110 validation scores'\n",
    "print valid_scores[2].mean(),'±',valid_scores[2].std()"
   ]
  },
  {
   "cell_type": "markdown",
   "metadata": {},
   "source": [
    "## Cross validation"
   ]
  },
  {
   "cell_type": "code",
   "execution_count": 19,
   "metadata": {
    "collapsed": false
   },
   "outputs": [
    {
     "name": "stdout",
     "output_type": "stream",
     "text": [
      "Scoring according to mean_squared_error\n",
      "[-39.35659269 -29.56351635 -31.27739963 -27.51762043 -34.38784715\n",
      " -20.63515154 -42.83206128 -28.64567642 -29.94623004 -38.93783884]\n",
      "\n",
      " Mean      Standard deviation\n",
      "-32.31      6.29\n"
     ]
    },
    {
     "data": {
      "text/plain": [
       "KernelRidge(alpha=0.0216, coef0=1, degree=3, gamma=0.052, kernel='rbf',\n",
       "      kernel_params=None)"
      ]
     },
     "execution_count": 19,
     "metadata": {},
     "output_type": "execute_result"
    }
   ],
   "source": [
    "scoring = 'mean_squared_error'\n",
    "results = cross_validation.cross_val_score(model, X, Y, cv=kfold, scoring=scoring)\n",
    "print 'Scoring according to mean_squared_error'\n",
    "print results\n",
    "print '\\n Mean      Standard deviation'\n",
    "print(\"%.2f      %.2f\" % (results.mean(), results.std()))\n",
    "## Fit the model\n",
    "model.fit(X,Y)\n"
   ]
  },
  {
   "cell_type": "markdown",
   "metadata": {},
   "source": [
    "To be more precise these valrible is not the input feature as descripe on the dataset, those varibles in scaled virsion on the orginal onces. So, to be more correct I should assign to them another varibles but for easy to unserstand I kept them as they were."
   ]
  },
  {
   "cell_type": "markdown",
   "metadata": {},
   "source": [
    "## Coefficients Of Determination {Calculating R^2}\n",
    "\n",
    "R^2, Close to one is better"
   ]
  },
  {
   "cell_type": "code",
   "execution_count": 20,
   "metadata": {
    "collapsed": false
   },
   "outputs": [
    {
     "name": "stdout",
     "output_type": "stream",
     "text": [
      "R-squared =  0.885539614198\n"
     ]
    }
   ],
   "source": [
    "predicted = cross_val_predict(model, X, Y, cv=kfold)\n",
    "r_squared = r2_score(Y, predicted, multioutput='variance_weighted')\n",
    "print 'R-squared = ',r_squared"
   ]
  },
  {
   "cell_type": "markdown",
   "metadata": {},
   "source": [
    "## Residual Plot"
   ]
  },
  {
   "cell_type": "code",
   "execution_count": 21,
   "metadata": {
    "collapsed": false
   },
   "outputs": [
    {
     "data": {
      "image/png": "[encoded data removed]",
      "text/plain": [
       "<matplotlib.figure.Figure at 0x7ff17560fc10>"
      ]
     },
     "metadata": {},
     "output_type": "display_data"
    }
   ],
   "source": [
    "predicted = cross_val_predict(model, X, Y, cv=kfold)\n",
    "fig, ax = plt.subplots()\n",
    "ax.scatter(Y, predicted)\n",
    "ax.plot([Y.min(), Y.max()], [Y.min(), Y.max()], 'k--', lw=4)\n",
    "ax.set_xlabel('Measured')\n",
    "ax.set_ylabel('Predicted')\n",
    "plt.show()"
   ]
  },
  {
   "cell_type": "code",
   "execution_count": 22,
   "metadata": {
    "collapsed": false
   },
   "outputs": [
    {
     "data": {
      "text/html": [
       "\n",
       "\n",
       "    <div class=\"bk-root\">\n",
       "        <div class=\"plotdiv\" id=\"4c9e067b-1bee-401f-a762-897cdb3b41de\"></div>\n",
       "    </div>\n",
       "<script type=\"text/javascript\">\n",
       "  \n",
       "  (function(global) {\n",
       "    function now() {\n",
       "      return new Date();\n",
       "    }\n",
       "  \n",
       "    var force = \"\";\n",
       "  \n",
       "    if (typeof (window._bokeh_onload_callbacks) === \"undefined\" || force !== \"\") {\n",
       "      window._bokeh_onload_callbacks = [];\n",
       "      window._bokeh_is_loading = undefined;\n",
       "    }\n",
       "  \n",
       "  \n",
       "    \n",
       "    if (typeof (window._bokeh_timeout) === \"undefined\" || force !== \"\") {\n",
       "      window._bokeh_timeout = Date.now() + 0;\n",
       "      window._bokeh_failed_load = false;\n",
       "    }\n",
       "  \n",
       "    var NB_LOAD_WARNING = {'data': {'text/html':\n",
       "       \"<div style='background-color: #fdd'>\\n\"+\n",
       "       \"<p>\\n\"+\n",
       "       \"BokehJS does not appear to have successfully loaded. If loading BokehJS from CDN, this \\n\"+\n",
       "       \"may be due to a slow or bad network connection. Possible fixes:\\n\"+\n",
       "       \"</p>\\n\"+\n",
       "       \"<ul>\\n\"+\n",
       "       \"<li>re-rerun `output_notebook()` to attempt to load from CDN again, or</li>\\n\"+\n",
       "       \"<li>use INLINE resources instead, as so:</li>\\n\"+\n",
       "       \"</ul>\\n\"+\n",
       "       \"<code>\\n\"+\n",
       "       \"from bokeh.resources import INLINE\\n\"+\n",
       "       \"output_notebook(resources=INLINE)\\n\"+\n",
       "       \"</code>\\n\"+\n",
       "       \"</div>\"}};\n",
       "  \n",
       "    function display_loaded() {\n",
       "      if (window.Bokeh !== undefined) {\n",
       "        Bokeh.$(\"#4c9e067b-1bee-401f-a762-897cdb3b41de\").text(\"BokehJS successfully loaded.\");\n",
       "      } else if (Date.now() < window._bokeh_timeout) {\n",
       "        setTimeout(display_loaded, 100)\n",
       "      }\n",
       "    }\n",
       "  \n",
       "    function run_callbacks() {\n",
       "      window._bokeh_onload_callbacks.forEach(function(callback) { callback() });\n",
       "      delete window._bokeh_onload_callbacks\n",
       "      console.info(\"Bokeh: all callbacks have finished\");\n",
       "    }\n",
       "  \n",
       "    function load_libs(js_urls, callback) {\n",
       "      window._bokeh_onload_callbacks.push(callback);\n",
       "      if (window._bokeh_is_loading > 0) {\n",
       "        console.log(\"Bokeh: BokehJS is being loaded, scheduling callback at\", now());\n",
       "        return null;\n",
       "      }\n",
       "      if (js_urls == null || js_urls.length === 0) {\n",
       "        run_callbacks();\n",
       "        return null;\n",
       "      }\n",
       "      console.log(\"Bokeh: BokehJS not loaded, scheduling load and callback at\", now());\n",
       "      window._bokeh_is_loading = js_urls.length;\n",
       "      for (var i = 0; i < js_urls.length; i++) {\n",
       "        var url = js_urls[i];\n",
       "        var s = document.createElement('script');\n",
       "        s.src = url;\n",
       "        s.async = false;\n",
       "        s.onreadystatechange = s.onload = function() {\n",
       "          window._bokeh_is_loading--;\n",
       "          if (window._bokeh_is_loading === 0) {\n",
       "            console.log(\"Bokeh: all BokehJS libraries loaded\");\n",
       "            run_callbacks()\n",
       "          }\n",
       "        };\n",
       "        s.onerror = function() {\n",
       "          console.warn(\"failed to load library \" + url);\n",
       "        };\n",
       "        console.log(\"Bokeh: injecting script tag for BokehJS library: \", url);\n",
       "        document.getElementsByTagName(\"head\")[0].appendChild(s);\n",
       "      }\n",
       "    };var element = document.getElementById(\"4c9e067b-1bee-401f-a762-897cdb3b41de\");\n",
       "    if (element == null) {\n",
       "      console.log(\"Bokeh: ERROR: autoload.js configured with elementid '4c9e067b-1bee-401f-a762-897cdb3b41de' but no matching script tag was found. \")\n",
       "      return false;\n",
       "    }\n",
       "  \n",
       "    var js_urls = [];\n",
       "  \n",
       "    var inline_js = [\n",
       "      function(Bokeh) {\n",
       "        Bokeh.$(function() {\n",
       "            var docs_json = {\"87349392-d71a-4ea7-8fb2-56daa7d4fa23\":{\"roots\":{\"references\":[{\"attributes\":{\"fill_alpha\":{\"value\":0.5},\"fill_color\":{\"value\":\"lightgrey\"},\"level\":\"overlay\",\"line_alpha\":{\"value\":1.0},\"line_color\":{\"value\":\"black\"},\"line_dash\":[4,4],\"line_width\":{\"value\":2},\"plot\":null,\"xs_units\":\"screen\",\"ys_units\":\"screen\"},\"id\":\"3f056611-d19a-4b5c-9dab-465901ab6f6d\",\"type\":\"PolyAnnotation\"},{\"attributes\":{\"plot\":{\"id\":\"0b8b0e79-c763-4855-ac4c-f9fff5ffb9cf\",\"subtype\":\"Figure\",\"type\":\"Plot\"}},\"id\":\"5ba7e682-2beb-4155-93fa-4d5544b77bd6\",\"type\":\"CrosshairTool\"},{\"attributes\":{\"plot\":{\"id\":\"0b8b0e79-c763-4855-ac4c-f9fff5ffb9cf\",\"subtype\":\"Figure\",\"type\":\"Plot\"}},\"id\":\"5b8c5a80-7deb-4486-ade0-9fbe1f7a533b\",\"type\":\"PanTool\"},{\"attributes\":{\"callback\":null,\"column_names\":[\"x\",\"y\"],\"data\":{\"x\":[43.892042159999995,38.21075992,33.419591196,13.12072828,47.22221124,22.31833812,12.47262084,28.937997196,47.029847436000004,26.322814728,30.439675923999996,12.63809508,20.77391188,43.798273423999994,66.10006412,15.361525279999999,40.865242519999995,45.939785879999995,33.75674496,43.58177796,23.524231644,42.69924868,14.143910664,48.401215199999996,34.569637164,35.85964676,59.09498796,24.49708228,37.721921436,15.520104759999999,32.401235144,33.05347944,49.249270679999995,71.69860924,54.896079119999996,50.45930106,51.863763672,28.6822016,26.77235308,17.236210524,36.83870268,40.2309246,47.714497103999996,11.36256448,9.99050724,40.925226931999994,40.563252031999994,31.715896,39.417342919999996,18.12632404,18.28490352,9.86640156,41.2996124,34.55653712,53.95839176,82.5992248,54.598914963999995,44.61185510399999,39.28978986,63.528318639999995,39.1622368,39.321505756,20.416073836,44.395359639999995,56.33708396,38.500339839999995,32.245413568000004,42.229026048,46.247292176,33.68779736,44.209201119999996,33.72916592,64.90037588,33.192064116000005,12.45193656,44.14025352,57.915983999999995,55.50971276,37.2661778,42.21661548,41.20308576,39.779317819999996,64.90037588,39.6621069,23.5111316,54.765078679999995,29.073134491999998,49.77327244,65.19685056,36.588422892,52.00717468,37.2661778,43.57833058,40.679083999999996,26.96540636,36.251958603999995,25.726417988,12.180972492,72.99482412,28.62704352,11.392211948,20.08443588,48.28400428,24.00065956,45.304778483999996,35.763120119999996,74.19451236,14.699628319999999,25.60910856945864,61.99078716,38.074243671999994,54.09628696,40.856968808,39.84481804,22.435549039999998,25.893960655999997,42.919881,30.647208199999998,26.200088,23.13881456,26.8550902,26.147687824,52.446370892,37.92118,41.836714203999996,48.9872698,8.536402356,35.75425543054136,48.587373719999995,21.601283079999998,28.79941252,32.823194456,79.29663476,11.654902304,66.78067543054136,61.09446836,48.67011084,40.1964508,26.258003984,13.45857152,47.739318239999996,23.696600644,27.827251359999998,31.35047372,60.32225524,48.695621452,39.0932892,33.116911232,37.32823064,50.69717028,13.565440299999999,33.68779736,53.46196904,16.503987012,61.85584685418796,60.2946762,43.01296026,77.29715436,56.847296199999995,55.495923239999996,15.049192651999999,17.83674412,19.765208492,24.53845084,21.946021079999998,33.56369168,43.0577762,27.681082448,31.026419999999998,2.331807832,42.29245784,15.340841,19.691434559999998,33.70158688,47.782065751999994,56.141962252,24.8900836,29.870858223999996,58.60546,24.90387312,13.395533715270679,23.786922,33.72916592,52.04164848,31.35047372,37.9556538,57.59882504,29.447519959999997,23.8903434,67.69964844,34.73580088,39.056057496,25.0969264,45.3675208,28.096147,23.221551679999997,40.14818748,42.14008364399999,37.34202016,44.13335876,60.280886679999995,49.77327244,59.590425715270676,17.959470848000002,24.104080959999997,26.94472208,31.966865263999996,28.23748958,16.10960674,54.27555072,18.746162964,24.91766264,40.85834776,11.46598588,38.407950056000004,25.2003478,79.40005615999999,23.51802636,66.42411784,39.45181672,29.7853632,22.347985588,55.89581932,30.12320644,67.568648,53.52402188,13.29309728,24.0971862,14.98920824,39.58281716,48.846616696,11.957582268,39.37597436,19.98790924,39.455953576,39.421479776,24.483292759999998,59.19840936,66.69990824,49.973220479999995,40.7135578,39.699338604,20.27748916,17.57474324,33.082437432,41.05140104,56.14403068,43.377003588,15.08573488,77.29715436,32.83974188,37.437857324,23.744174488,56.3991368,43.388724679999996,44.698039603999995,32.720462532,53.90323368,7.74971024,47.8151606,59.89478012,38.01770664,68.75060685418796,6.883728383999999,76.80073164,11.85209244,8.48744956,49.20100736,32.768036376000005,33.21205892,17.9953236,23.80071152,6.902344236,18.12632404,10.535882756,25.510612,13.461329424,25.48303296,55.647607959999995,32.96384756,19.41564416,22.94576128,19.691434559999998,18.033934256,52.908319811999995,23.24519085418796,25.68987576,17.95395504,43.698299404,15.575262839999999,25.422359072,29.15794004,22.435549039999998,22.53207568,21.179323768,33.398217439999996,48.97348028,22.489328168,67.30664712,39.6103962,45.08483564,38.461039708,46.931941843999994,40.59634688,30.44726016,24.290928956,49.99390476,8.06342182,16.27852836,40.38950408,23.639177145812038,21.066249704,43.25082948,20.91870184,33.798802996,44.02993736,9.84965714581204,25.62092816,24.44881896,76.23536132,15.748321315999998,58.522722879999996,7.8393421199999995,17.275510655999998,27.22051248,71.29871315999999,68.09954452,24.65566176,26.91369566,33.399596392,29.39236188,29.89223198,46.80163088,31.25394708,55.55108132,28.99936056,39.300132,10.335934715999999,79.98611076,47.27736932,25.021084039999998,24.39366088,43.733462679999995,49.80085148,9.011451319999999,11.414275179999999,33.5430074,55.82687172,46.89815752,31.74347504,35.36322404,35.34253976,65.99664272,30.2335226,35.314271244,36.93522932,12.73462172,11.169511199999999,38.60376124,44.6090972,41.15137506,12.788400847999998,12.17614616,33.0431373,21.859147104,41.052779992,71.29871315999999,47.7117392,46.2293658,26.74477404,41.540929,26.91714304,55.94408264,17.8229546,61.23581094,15.340841,31.419421319999998,21.91154728,16.87837248,52.42086028,37.171030112,39.64487,50.655112243999994,13.52062436,35.9561734,47.13257936,56.095767359999996,19.35014394,32.068218236,18.19871902,60.2946762,13.33446584,27.923778,33.60506024,71.29871315999999,36.447769788,33.488834284729315,38.45897128,38.70028788,33.79811352,19.41564416,39.48629052,59.30183076,80.19984832,32.051670812,21.859147104,56.7438748,10.53519328,25.965666159999998,4.9035533120000006,41.940825079999996,41.934619796,67.86512268,13.089012384,51.021224,52.95865156,28.98557104,17.96429718,29.54897143054136,41.244454319999996,58.78472376,12.459520796,34.67374804,41.684340008,16.889404096,25.216895223999998,66.59648684,51.331488199999995,33.019005639999996,30.12320644,13.293786756,34.77027468,38.11423328,35.852751999999995,16.26473884,38.20386516,21.819846971999997,14.49968028,9.735401119999999,10.76272036,17.165883972,14.54104884,36.63875464,50.07664188,36.964187312,44.296075096,36.34917472,56.061293559999996,19.10537996,24.281965768,36.349864196,15.069975430541358,25.460969728000002,38.70028788,43.377003588,67.11359384,27.234302,19.199148695999998,29.41304616,29.654362759999998,13.62404576,40.14818748,29.55094136,32.66047812,56.69561148,11.483912255999998,35.225328839999996,42.32693164,33.003837168,51.25564584,21.917063088,38.215586251999994,77.29715436,52.426376088,37.231704,26.22766704,38.99676256,24.986610239999997,22.83544512,12.24509376,39.604880392,15.520104759999999,65.19685056,55.89581932,39.358047983999995,17.576122192,40.934879596,12.052040479999999,24.404692496,23.52492112,39.300132,55.45455468,37.431652039999996,69.83702404,31.35047372,46.20178676,46.38794528,35.3011712,28.62704352,31.874475479999997,20.593958644,12.5484632,33.664355176,15.091250688,69.65776027999999,59.76377968,36.443632932,22.93197176,42.030456959999995,32.626693796000005,66.82401392,71.98818916,74.3649114581204,72.09850532,36.990387399999996,21.53923024,37.431652039999996,64.30053176,7.3153403599999995,38.60376124,22.89749796,32.01138571527068,27.67556664,40.062002979999995,56.49566344,70.69886903999999,46.6430514,31.971002119999998,32.72253096,23.786922,32.956952799999996,55.15808,10.38350856,74.4978818,53.72396992,30.881630039999997,13.54130864,43.5748832,21.504756439999998,52.826961643999994,33.0603742,50.77301264,19.539060364,42.131120456,35.3011712,41.542997428,47.401475,51.732763231999996,19.98790924,15.04436632,29.592309919999998,42.126983599999996,52.30364936,39.382869119999995,39.14844728,36.3009114,44.32641204,23.404952295999998,22.629981272,15.615941924,23.83518532,35.225328839999996,31.17810472,27.874825204,38.56239268,54.315540328,42.63719584,33.301690799999996,12.541568439999999,4.782205536,29.06830816,34.23937816,32.88455782,49.89737812,31.53663224,33.70158688,32.763899519999995,37.91428524,25.559564796,17.43684804,57.21823428799999,50.526869708,14.306626999999999,19.009542795999998,10.089791784,13.18278112,13.52062436,30.275580636,52.516697443999995,81.75116932,28.46846404,40.85834776,71.29871315999999,17.36790044,55.89581932,62.5009994,26.233182848000002,34.20490436,41.40992856,9.617500724000001,17.22311048,44.38846488,19.765208492,50.511011759999995,39.05192064,25.11662571527068,35.570066839999996,44.27814872,50.60064364,68.29949256,31.178794196000002,62.052839999999996,39.2311844,15.030576799999999,17.596806471999997,36.56291228,59.79825348,56.8128224,53.300631656,37.997022359999995,64.30053176,77.29715436,38.610656,10.787541496,34.48758952,53.65502232,13.22414968,63.3973182,36.93522932,25.3727168,12.17614616,37.16965116,51.0556978,21.91154728,44.298833,53.77223324,21.29101888,45.2985732,18.415903959999998,42.620648416,60.949678399999996,31.11605188,15.43736764,24.24197616,42.79577532,21.96670536,38.630650804,26.0621928,24.42813468,27.77209328,31.899986092,56.619079643999996,33.27411176,11.57630204,30.219733079999997,56.61287436,33.306517131999996,29.93015316,24.00065956,46.234192132,79.29663476,41.719503284,33.398217439999996,51.03501352,14.98920824,28.021683592,32.39847724,53.104130996,35.3011712,14.796154959999999,30.079769451999997,37.265488323999996,50.94882902,43.698299404,21.6495464,23.07676172,24.065470304,10.0318758,58.798513279999995,25.17966352,24.437787344,60.2946762,40.65839972,7.507014687999999,55.59934464,36.3009114,74.69782984,9.561653168,44.207822168,13.19657064,27.935499091999997,26.04840328,32.109882284729316,78.80021203999999,26.40003604,56.63355864,15.691094808,25.083136879999998,51.021224,37.25928304,42.42345828,43.49904084,23.523542168,25.55887532,31.640053639999998,12.83804312,33.963587759999996,49.20100736,15.569747031999999,28.991086848000002,65.19685056,12.37264682,41.885667,25.745033839999998,40.0585556,46.2293658,23.73865868,43.565230536,41.05140104,32.8535314,31.023662096000002,60.19814956,65.90701084,73.29819356,44.27814872,52.20022796,26.859916531999996,40.759063216,11.46598588,21.78054684,40.56876784,28.296095039999997,18.287661424,14.2032056,44.51946532,14.843728804,21.26343984,39.39665864,52.44154456,35.3011712,41.09966436,24.28334472,25.17966352,61.797733879999996,23.69039536,31.2677366,9.131420144,36.804918356,30.84715624,42.54756396,19.00885332,25.10382116,44.63667624,38.995383608,9.307926,55.55108132,38.76923548,45.83636448,74.16693332,22.752708,27.742445811999996,29.86810032,49.185149411999994,24.3385028,44.523602176000004,68.4994406,31.6469484,37.427515183999994,67.79617508,36.4388066,55.020184799999996,39.004642284729314,32.53292506,73.69808963999999,19.93275116,8.374375495999999,10.222171176,14.596896395999998,43.69898888,7.723510152,31.35047372,44.868340176000004,45.3675208,29.7508894,26.14492992,55.19944856,29.231713971999998,51.04190828,65.909079268,79.29663476,9.738159024,54.896079119999996,37.36270444,51.72448952,20.72564856,52.82075636,32.102692036,71.62276688,35.86585204399999,35.101223159999996,46.24315532,31.84000168,33.398217439999996,57.21271848,43.942373908,7.675936308,18.0297974,31.875164956000003,75.49762199999999,24.40055564,8.204074924,46.68441996,3.31982694,21.02212324,41.36856,27.04124872,44.42293868,34.39795764,20.96696516,36.96970312,6.26733684,15.41668336,39.435269296,50.732333556],\"y\":[40.70756338856836,33.89699299994663,46.19386140300958,17.04746335085656,49.022342401287005,19.039397443454163,14.485598917405241,25.883824160689528,47.80858736766322,24.537416454461436,24.586447775093802,32.86709835911347,19.956581001089035,43.76951489746443,64.07341710172977,20.989390861849643,45.29910823969749,37.298437846312936,36.40184571309419,43.92355109775417,26.254101905834887,42.01131015901501,22.97052126357221,46.67852732124584,30.58052924452386,38.88614411772005,50.22098769310014,22.883866564048276,43.516954319175966,22.033136896288397,37.66172185820142,35.65398294264787,21.37756647302035,73.69087543741534,59.59396649094924,49.17985825092546,45.93345346820274,28.303997359383175,25.120765970157663,18.30578087945105,34.87827832407038,31.499085898232806,48.13060949533883,11.431824902162589,9.715199145238785,47.46216772786056,44.677562073656645,36.0093848351853,42.75707002817717,19.46424509859844,23.265144931352552,14.259836127496328,45.305445517321914,36.70453050248216,54.22775665113295,81.49122715496787,49.7817009988953,35.637829836667606,39.151109189132285,65.3769792636167,36.14050018595526,33.12877922274902,17.077269624785913,41.78986757822713,62.20161241869255,33.17393772017704,24.821460617892626,45.891183852616905,41.226997328785274,44.30708653466945,43.9438883232192,32.191553102059515,63.2582333837604,36.77619310481168,16.010440901613947,51.058392893070504,49.981798317747234,46.16449180021209,27.50112982450355,35.141371471684124,37.63565885068556,39.975145781497076,80.10215209050602,41.51320515742907,24.280625141642076,63.96814023277375,34.88854680782697,41.060538730466305,67.25228838874864,40.08845890229884,36.96726084131387,45.70023172267747,38.31448024792144,36.742680223033176,34.099926303649454,42.2588260168437,19.374648368166163,13.879337758734437,70.91714649564983,31.025929968554806,11.043368565770379,19.191171550094168,38.02982518328713,24.683837908213263,47.22387440706689,38.24753575766954,75.5256835635355,21.318834098778098,35.248721681122106,59.251284359905185,41.827657039877295,44.67469701866867,29.77002297519732,29.176930285498656,22.781328435396063,23.9358338299528,45.682831136025925,32.95492656885017,26.78666352070661,21.825357724274,29.384131374724802,30.29026138449649,48.82478375074015,40.89375659713937,41.63552278761014,49.770699305822745,14.969711525439834,36.532602892739305,48.19327065618609,21.358432092950807,40.035923432550135,29.105301082402207,79.12207192585129,13.078376974345929,67.13147381215322,60.471192110368975,47.03503998589281,52.40566268759903,22.853006321363466,16.103450069103474,45.364407555525304,29.260945330942604,24.85518440734836,43.974354800517176,55.26234608890354,47.94333751959954,37.43609783128613,43.23680430142565,31.1473431829952,46.04933714232038,13.645205218857427,32.41120826093538,48.971436178153,26.86449867773149,65.1501262936697,54.332523633838264,41.440169889586855,73.96063399523064,55.50143751249584,51.06413854527955,14.652631153522407,24.75017793607867,20.520112426476317,25.735728411320906,27.552870308892466,40.47713937028402,41.74167798143941,29.70031062258363,24.922393655201347,7.486555255572426,30.094406798519458,21.283778776724716,19.647446535323525,30.100629374370783,49.14401471120617,54.874326466201296,25.914257032715454,31.73783986377225,60.23384329639157,27.169267446925915,25.455269339442793,25.057744768530142,30.455673143594936,54.56124222732842,33.84793589668118,36.313169631263236,59.93995706585247,34.18067138946412,31.117170595135462,54.25149438603398,38.637791019497854,40.6939077114846,36.974680755209874,56.83618340560395,35.82135974592893,23.607225419461884,38.09246130022507,41.01842583155917,41.841914186476174,39.851796005067285,50.96207491711516,41.77630617537852,57.484291390903195,17.15122281979518,19.98087865337959,28.633655054173914,27.7655949243059,19.33495324888335,22.80711071197527,57.15709852630846,16.922042786399288,22.627696746929928,36.98781489281987,10.425010926710684,37.22941524310056,38.13480001946732,77.79292523359436,26.289153290168997,59.17236935764481,40.88400428184832,32.901729757318975,19.363517284131035,44.95703804594723,32.820582625576435,65.60080753905208,42.014614773776884,13.563070135019188,36.68534551098992,16.184570650000524,34.281680915719335,49.25997740284481,14.16515982256442,38.72793384409351,19.190602672501313,40.76709164429508,42.20729340466664,25.33455931864387,62.481442819437234,77.46110175927606,51.06221947199941,36.90923644488532,35.89584881041458,20.77435991262007,23.492173429506522,37.16913625266636,46.41993612686474,64.66716894103433,33.90533622907623,18.953929093558827,73.99459084721957,31.671316952424334,35.59274192939324,22.830306926251865,51.84537915434021,35.962680163880975,44.79483192169948,31.957144008764715,50.191893415364575,12.41045679282638,47.5296791515882,69.0617210253732,38.49276060926309,67.27544821783516,10.93259679164612,80.13544576282332,12.880415955792841,14.819831064524521,42.196674690883356,29.30477680565201,30.381161384563654,16.045841015807582,29.45607512537822,14.104641601293451,17.12427267638941,8.372327856298398,33.14856642910365,16.061224019290876,15.812911282743585,42.301959649707555,30.740601574610437,19.346899507388912,22.48304905680621,20.1261368485267,14.699669047044381,48.28369973225085,32.64734869505867,19.343786952168188,18.11835757151016,43.33657985454363,16.047006812581913,26.335586801045906,28.37123217962653,24.00244605979435,22.544520770990744,20.398376424655794,38.360413758145285,54.822455526054455,32.288859178069174,64.22556925003221,39.524713203602005,50.38871547175009,40.07041391510408,44.53672153364232,52.391098119500384,35.30591524285748,19.95929525336794,56.675792721377206,7.213037490666352,16.904703913176718,40.97392372409263,34.896682766169846,25.764572380878917,42.01270092347204,19.830007470812234,38.05505543862455,53.09865215630805,12.623682362325894,21.875360765219853,19.340425099144852,60.45857071532791,16.477472676857133,67.4509796437597,5.864369831747354,15.58407148541096,28.01552542856888,60.445303557543184,71.3608873937884,21.158098881501928,30.65817405736891,36.29545276072167,37.077639854061886,23.33916432910621,48.22485653315039,34.1207177532815,44.2627317013509,43.64007918976546,46.96290797635592,8.880738343255985,65.53180839766526,48.55758962853304,36.93601484651043,29.81469985996378,38.01793329971616,43.687640605290994,16.05905081149899,10.728377319869153,34.266093879817504,50.104488043775405,45.73645780548179,25.367053036696802,36.93173185310559,37.59023242878095,61.31942674287069,26.487870953367292,30.987783295820122,36.05219470004539,10.738091507465697,8.240689428523979,31.09744081117367,34.830041256994036,41.535462522665796,19.51992760219389,15.892289280287628,35.65864368450167,22.26328886004069,43.74547571947309,59.42277838013564,42.44400470109258,54.21441879179787,34.87587929990789,43.07146014773372,21.03436616729431,47.78313486532767,16.989119533892676,51.774888975870624,21.13717023535571,24.102968809885738,25.456560432956167,22.829604056881408,44.88536254447206,36.622064292921664,36.84763998334256,46.54754309149479,17.65192535521757,39.481205289154445,43.51877535896119,49.6059121457574,20.59019600977831,34.485782919894916,22.465095384991372,54.406229308221214,18.746265685052776,27.594728974328433,25.377958312918167,59.42277838013564,36.19088195222071,33.11005630321756,39.198550531779574,37.8354602991173,37.8449115419798,21.307151311195184,40.46615205821956,53.862976115085644,69.31127842458346,32.25029527079022,27.0268612375217,56.34345509093794,7.419156269547642,21.911156286699736,11.326068613635414,44.12564070595039,42.707708200063706,55.270315680237495,15.803367692023073,51.04625846382805,53.91199880412478,31.578558447376736,15.689157683252006,39.070302585322224,36.961117757392515,59.715086244840165,10.905474079837404,29.34158923893665,29.48991949712729,15.750193850433334,24.841305468291694,73.9226937289875,43.97375340352187,34.83971763086299,32.69779876457983,13.419629192882667,30.918704722650546,32.79846990277488,43.29360660833595,17.98518135625841,36.699587324973436,19.69435344094404,13.48307504745162,12.916503780566927,11.595720229614699,12.428505225958588,22.354041405898897,39.96550942509066,54.90459521822663,30.303441179177753,38.536308111578506,30.1005879118145,53.975557986556396,22.297462702512803,20.30921594785582,29.90427137118968,13.159669655630523,25.16810951693867,38.19416275378512,47.00969581867389,62.31606592458459,26.849595608108757,22.442355472265945,26.521503539428636,30.19336842287953,15.114482969893515,41.550240476675526,28.64151266061458,30.256555173062225,46.25147404893232,10.34165958143717,29.175467922590087,44.255160364647054,25.884398552803077,48.47430882411959,23.360362654223877,40.432891322701835,73.97988321856383,44.996232560483804,41.11404206565999,35.55262091194231,35.18998807608841,22.103842712594997,24.544304293184723,14.18573978626182,34.937241991905466,10.810918882117676,67.44498905482669,44.21890937960097,42.41753340996297,17.09641854424717,42.36453158814311,8.515775709413901,30.874176343268346,30.757166410468926,37.94158286468064,49.98273601660003,34.405411020812835,68.49064309828759,34.725458279314125,44.68413037662731,36.68743155459947,43.974540480329324,43.85400912591058,31.246033654010944,17.20203822305575,13.919678580571599,26.211247064810777,18.74610842216157,77.22857127790974,61.97353022675327,21.39088782119029,26.301866096017193,47.23788415603599,29.792542714748265,64.1544665449444,75.44691679451353,62.937004764115045,49.9302632598658,31.54923620163231,23.377082916283825,34.2529349277271,64.51929729659105,17.569105050182316,31.132376749919786,47.288327521255724,30.98988123422737,29.55228789543162,38.38541996814524,61.385441874529874,67.0413890810861,49.26689352009794,27.16380036392252,26.268059555562445,24.54541515265805,30.44959413987749,59.188403158890395,12.733939425678045,65.15171294443144,49.22843950250501,31.942611993517062,19.25630340267685,38.180665229720944,24.483253548294897,53.93551014037962,31.65257159876853,43.003686672073854,20.759262685604483,43.19713748341724,43.974540480329324,44.58968350074133,39.60402378506933,50.77128599439505,18.49623011691142,16.274626773129057,29.636508859151945,49.26383789931077,48.569249935793664,40.10902660166448,42.75642018151757,47.06252587496829,40.63405933677541,18.506018903123504,26.70178672780014,16.41384682010016,34.48103222099576,31.120781428315922,34.89863910221743,21.968060359680976,37.81199533910035,56.69084298789517,33.120430352874564,32.168291890630826,13.491520908617986,8.087172238169273,34.41893302994481,26.381474616074456,28.967325498806645,56.116430614259116,33.91933287971153,32.45014344770283,29.267166419858995,41.19244189534356,29.20256862173835,16.489587574624693,50.51889392500402,58.96425279269715,14.367487925285786,24.94258902599836,11.07895415107248,16.856526055652466,15.752603983431754,28.10953126666925,54.122289689609005,58.98872545843324,28.69608308553825,41.13463752348821,60.072951671249484,24.466825569221555,44.0811468099796,63.149650028053316,34.96659761437991,35.996857883883536,36.82907746626233,12.221279030260803,16.53511478095561,47.25209869657783,19.44816947227855,46.71989892302031,39.364076938911694,34.22300778878389,37.23200730958331,38.39228885586658,38.2430807242838,62.18419382274601,34.78904474658839,54.43064795040732,42.123642535632484,16.425515185694053,24.08187500889676,33.22408147147371,49.121499145792995,55.13511900255753,52.341973509275135,39.13435851963277,64.7067824692158,74.08187436386697,37.54635980970875,13.248891074410267,34.26402804363801,57.60965363559217,16.5489182111869,73.70499771871118,32.924504908303106,24.439339572396193,13.898006239831375,36.59420262109097,48.635050132862716,16.681485451928438,39.60337067485466,46.853520262898996,18.743988647106335,48.38480169986906,17.369526583353718,42.84211248823692,52.553916305997745,32.183502816294094,18.586402052664425,24.362518494859614,35.62095730451756,21.76093385384047,37.904794088905874,23.248664130151383,22.998970558981682,27.948318284174434,30.16454236609593,53.53910574196675,28.419881502140584,14.125476155487831,35.45957829947315,53.72874539539657,33.060876230579424,22.950872450717952,24.992553217225122,54.27113944468829,79.29791137727935,35.351992033241686,40.16137666346765,49.50900167610746,15.32266169223783,23.831373063696446,36.76910065603042,48.81588630616767,42.44113272788735,16.005123024166096,31.99318939620116,38.690075960805416,47.71623239552093,43.53029256147272,22.38192231243238,20.848477397854822,25.152280866860906,13.788726428079144,58.682213107228165,25.17979491690312,25.031146929269426,54.75910493520786,39.837626611963856,10.765530671864212,51.11798734474968,36.063770560240414,60.652686416399035,21.023209921833086,39.24601014043185,12.238208196886752,29.052122173333032,27.270926526684946,40.401217942911785,54.34355802412085,28.99146908044446,61.6171613420492,17.68697829361588,28.623240142272692,51.922701094635386,39.06947247662026,42.18162824489548,42.78764974570379,24.984550707028006,29.835330702814076,32.654031588234545,12.197985389222964,38.32198496898337,42.83614467884763,21.209835640894674,32.03663931307857,67.34897494878157,16.067049466040544,29.517132173977814,28.60181143703619,36.436006744431154,49.47492771356582,23.035464207058567,46.743032140445166,36.61976313900476,35.18776035047972,32.1063295219559,57.98191976291997,63.456206113032806,74.50826249264097,46.48938496080626,51.11553419486876,30.669297373659106,40.15784646514385,22.11869973418959,23.687044193905763,41.86432677219585,44.78917234474267,24.84567762534698,13.950891300112175,53.03243058553599,15.979126477238196,16.45085423827939,30.534299723703782,49.37056683282512,42.44113272788735,43.76934850275262,20.98637607874251,25.581227482185568,59.6174029080787,27.342840056320142,31.538681701134692,10.781984521568234,39.26701546738718,36.896978489306434,42.26423873080341,24.414804977081303,34.98337052658076,36.709539001169105,40.559915022731644,9.512037258567261,44.73086453452174,35.944172043245544,46.00373122404221,65.28600283489334,31.75771105327226,23.556360497189644,31.764459221897937,47.99589253664851,31.587143754007116,52.09420610824054,57.9922343284004,30.638454129888146,37.63313446287566,75.20525010453116,22.531981375052965,57.14292689389197,41.031641504995605,38.71065816845669,68.04875989079414,12.704465390243172,9.523418731655624,11.21577852392312,14.641836669957115,35.6360338729022,10.506005579696307,26.109374528400622,34.152917729917135,40.76169719808229,24.97415015251579,29.35030451975433,56.247754948877514,32.01942473758311,53.18905967153273,63.162337954643476,79.7011542551686,12.512372072165817,44.58091896431574,34.43363598387646,50.66565809192275,22.849080232672463,55.03825845528206,35.43138431426439,70.39767379988439,38.959061860012525,39.73608826752354,39.683587031092316,30.572923324065073,41.79462115605975,49.76610882231239,41.288921681047384,9.486969050695734,13.703275793703142,29.031405262849717,70.1661653730082,40.54173249379676,9.753923335592617,48.84472096597756,9.352401256692133,25.686895931395384,65.43224202987244,21.942506202020923,52.16612356093901,42.138747813876876,18.403663446911082,40.11931808194049,20.283344259155683,22.053885180012458,38.779072442014694,54.58707997385477]}},\"id\":\"172a31fb-bace-4898-ba11-b2688ff53256\",\"type\":\"ColumnDataSource\"},{\"attributes\":{\"plot\":{\"id\":\"0b8b0e79-c763-4855-ac4c-f9fff5ffb9cf\",\"subtype\":\"Figure\",\"type\":\"Plot\"}},\"id\":\"cb7e4ed6-0163-4c4d-9e0b-562706c43ccb\",\"type\":\"UndoTool\"},{\"attributes\":{\"fill_alpha\":{\"value\":0.5},\"fill_color\":{\"value\":\"lightgrey\"},\"level\":\"overlay\",\"line_alpha\":{\"value\":1.0},\"line_color\":{\"value\":\"black\"},\"line_dash\":[4,4],\"line_width\":{\"value\":2},\"plot\":null,\"xs_units\":\"screen\",\"ys_units\":\"screen\"},\"id\":\"3a96d093-3216-4471-99d9-d7ab67ca160b\",\"type\":\"PolyAnnotation\"},{\"attributes\":{\"plot\":{\"id\":\"0b8b0e79-c763-4855-ac4c-f9fff5ffb9cf\",\"subtype\":\"Figure\",\"type\":\"Plot\"}},\"id\":\"dcd379c7-33bf-447e-b15e-018b2110b9b1\",\"type\":\"ResizeTool\"},{\"attributes\":{\"plot\":{\"id\":\"0b8b0e79-c763-4855-ac4c-f9fff5ffb9cf\",\"subtype\":\"Figure\",\"type\":\"Plot\"}},\"id\":\"258f084e-e6a5-41dd-b95f-5698512e9aea\",\"type\":\"ResetTool\"},{\"attributes\":{\"plot\":{\"id\":\"0b8b0e79-c763-4855-ac4c-f9fff5ffb9cf\",\"subtype\":\"Figure\",\"type\":\"Plot\"}},\"id\":\"2de2612c-caae-4016-b829-a08ffe9a7893\",\"type\":\"WheelZoomTool\"},{\"attributes\":{\"line_alpha\":{\"value\":0.1},\"line_color\":{\"value\":\"#1f77b4\"},\"line_dash\":[4,4],\"line_width\":{\"value\":2},\"x\":{\"field\":\"x\"},\"y\":{\"field\":\"y\"}},\"id\":\"8811fea1-922c-46b0-b44a-f65bd0430a75\",\"type\":\"Line\"},{\"attributes\":{},\"id\":\"d8cb4276-c892-46c5-8372-571e848e939c\",\"type\":\"BasicTickFormatter\"},{\"attributes\":{\"bottom_units\":\"screen\",\"fill_alpha\":{\"value\":0.5},\"fill_color\":{\"value\":\"lightgrey\"},\"left_units\":\"screen\",\"level\":\"overlay\",\"line_alpha\":{\"value\":1.0},\"line_color\":{\"value\":\"black\"},\"line_dash\":[4,4],\"line_width\":{\"value\":2},\"plot\":null,\"render_mode\":\"css\",\"right_units\":\"screen\",\"top_units\":\"screen\"},\"id\":\"002a070e-ea4e-4740-871b-bddfce1111c0\",\"type\":\"BoxAnnotation\"},{\"attributes\":{\"callback\":null},\"id\":\"aa55c81b-9316-47e8-831b-17e85100c703\",\"type\":\"DataRange1d\"},{\"attributes\":{\"overlay\":{\"id\":\"4f269c72-a1b9-49e0-891d-c646e7357016\",\"type\":\"BoxAnnotation\"},\"plot\":{\"id\":\"0b8b0e79-c763-4855-ac4c-f9fff5ffb9cf\",\"subtype\":\"Figure\",\"type\":\"Plot\"}},\"id\":\"0e76e72e-b5f3-4065-b5a5-7c77425b31fa\",\"type\":\"BoxZoomTool\"},{\"attributes\":{\"callback\":null,\"column_names\":[\"y\",\"x\"],\"data\":{\"x\":[2.331807832,82.5992248],\"y\":[2.331807832,82.5992248]}},\"id\":\"7080978a-3c2e-43b4-8a04-fa4369ee4275\",\"type\":\"ColumnDataSource\"},{\"attributes\":{},\"id\":\"61dd7ad5-1b6a-4fa9-a3b6-913458504750\",\"type\":\"ToolEvents\"},{\"attributes\":{\"axis_label\":\"Measured\",\"axis_label_text_color\":{\"value\":\"#aa6666\"},\"formatter\":{\"id\":\"d8cb4276-c892-46c5-8372-571e848e939c\",\"type\":\"BasicTickFormatter\"},\"major_tick_line_color\":{\"value\":\"firebrick\"},\"major_tick_line_width\":{\"value\":3},\"minor_tick_line_color\":{\"value\":\"orange\"},\"plot\":{\"id\":\"0b8b0e79-c763-4855-ac4c-f9fff5ffb9cf\",\"subtype\":\"Figure\",\"type\":\"Plot\"},\"ticker\":{\"id\":\"a473e0fc-102d-4201-85a1-3c5a8f93de6b\",\"type\":\"BasicTicker\"}},\"id\":\"219a3961-fde7-429f-b70d-56ff9ea279b5\",\"type\":\"LinearAxis\"},{\"attributes\":{\"callback\":null},\"id\":\"7424bb97-181b-4489-abf2-de61cc794104\",\"type\":\"DataRange1d\"},{\"attributes\":{\"plot\":{\"id\":\"0b8b0e79-c763-4855-ac4c-f9fff5ffb9cf\",\"subtype\":\"Figure\",\"type\":\"Plot\"},\"ticker\":{\"id\":\"a473e0fc-102d-4201-85a1-3c5a8f93de6b\",\"type\":\"BasicTicker\"}},\"id\":\"a40d8eba-4d9c-4be2-a769-b7259065746d\",\"type\":\"Grid\"},{\"attributes\":{\"data_source\":{\"id\":\"7080978a-3c2e-43b4-8a04-fa4369ee4275\",\"type\":\"ColumnDataSource\"},\"glyph\":{\"id\":\"90a0c3dd-bd9f-422a-97af-2e336e71a487\",\"type\":\"Line\"},\"hover_glyph\":null,\"nonselection_glyph\":{\"id\":\"8811fea1-922c-46b0-b44a-f65bd0430a75\",\"type\":\"Line\"},\"selection_glyph\":null},\"id\":\"83e75512-35f2-46cf-8cfe-b391c807c303\",\"type\":\"GlyphRenderer\"},{\"attributes\":{\"axis_label\":\"Predicted\",\"axis_label_text_color\":{\"value\":\"#aa6666\"},\"formatter\":{\"id\":\"d01b983d-a9a4-4142-b409-30fb63a20181\",\"type\":\"BasicTickFormatter\"},\"plot\":{\"id\":\"0b8b0e79-c763-4855-ac4c-f9fff5ffb9cf\",\"subtype\":\"Figure\",\"type\":\"Plot\"},\"ticker\":{\"id\":\"d6589a79-aafa-4bc2-89df-49d104dc2796\",\"type\":\"BasicTicker\"}},\"id\":\"9032b83a-57fd-4612-be78-64d2fc0e722e\",\"type\":\"LinearAxis\"},{\"attributes\":{\"callback\":null,\"overlay\":{\"id\":\"002a070e-ea4e-4740-871b-bddfce1111c0\",\"type\":\"BoxAnnotation\"},\"plot\":{\"id\":\"0b8b0e79-c763-4855-ac4c-f9fff5ffb9cf\",\"subtype\":\"Figure\",\"type\":\"Plot\"},\"renderers\":[{\"id\":\"d9c6de9f-7f82-4267-8e66-1286c2fe4130\",\"type\":\"GlyphRenderer\"},{\"id\":\"83e75512-35f2-46cf-8cfe-b391c807c303\",\"type\":\"GlyphRenderer\"}]},\"id\":\"644e5ac7-7baf-442d-bb6e-c4497308d6fa\",\"type\":\"BoxSelectTool\"},{\"attributes\":{\"overlay\":{\"id\":\"3f056611-d19a-4b5c-9dab-465901ab6f6d\",\"type\":\"PolyAnnotation\"},\"plot\":{\"id\":\"0b8b0e79-c763-4855-ac4c-f9fff5ffb9cf\",\"subtype\":\"Figure\",\"type\":\"Plot\"}},\"id\":\"adba0d82-1fc2-4a39-bf99-a49d5f35e138\",\"type\":\"PolySelectTool\"},{\"attributes\":{\"fill_color\":{\"value\":\"#80B1D3\"},\"line_color\":{\"value\":\"#80B1D3\"},\"line_width\":{\"value\":3},\"x\":{\"field\":\"x\"},\"y\":{\"field\":\"y\"}},\"id\":\"835481ad-5376-48bc-a1b0-72bdf2a7613a\",\"type\":\"Circle\"},{\"attributes\":{},\"id\":\"a473e0fc-102d-4201-85a1-3c5a8f93de6b\",\"type\":\"BasicTicker\"},{\"attributes\":{\"callback\":null,\"overlay\":{\"id\":\"3a96d093-3216-4471-99d9-d7ab67ca160b\",\"type\":\"PolyAnnotation\"},\"plot\":{\"id\":\"0b8b0e79-c763-4855-ac4c-f9fff5ffb9cf\",\"subtype\":\"Figure\",\"type\":\"Plot\"}},\"id\":\"5d37bed3-5ee3-4d26-914f-af264b2fc7a7\",\"type\":\"LassoSelectTool\"},{\"attributes\":{\"line_dash\":[4,4],\"line_width\":{\"value\":2},\"x\":{\"field\":\"x\"},\"y\":{\"field\":\"y\"}},\"id\":\"90a0c3dd-bd9f-422a-97af-2e336e71a487\",\"type\":\"Line\"},{\"attributes\":{},\"id\":\"d6589a79-aafa-4bc2-89df-49d104dc2796\",\"type\":\"BasicTicker\"},{\"attributes\":{\"fill_alpha\":{\"value\":0.1},\"fill_color\":{\"value\":\"#1f77b4\"},\"line_alpha\":{\"value\":0.1},\"line_color\":{\"value\":\"#1f77b4\"},\"line_width\":{\"value\":3},\"x\":{\"field\":\"x\"},\"y\":{\"field\":\"y\"}},\"id\":\"6b7b90c0-9161-43a8-89cb-81cdf8b608c5\",\"type\":\"Circle\"},{\"attributes\":{\"plot\":{\"id\":\"0b8b0e79-c763-4855-ac4c-f9fff5ffb9cf\",\"subtype\":\"Figure\",\"type\":\"Plot\"}},\"id\":\"14b3fbed-de45-4644-8e7f-25cad6960d86\",\"type\":\"SaveTool\"},{\"attributes\":{\"align\":\"center\",\"plot\":null,\"text\":null},\"id\":\"7ae59125-cfb0-4bc5-94bf-5a3c05b3d4be\",\"type\":\"Title\"},{\"attributes\":{\"dimension\":1,\"plot\":{\"id\":\"0b8b0e79-c763-4855-ac4c-f9fff5ffb9cf\",\"subtype\":\"Figure\",\"type\":\"Plot\"},\"ticker\":{\"id\":\"d6589a79-aafa-4bc2-89df-49d104dc2796\",\"type\":\"BasicTicker\"}},\"id\":\"7fcccb13-9d43-4989-8345-5eda0eb188dc\",\"type\":\"Grid\"},{\"attributes\":{\"bottom_units\":\"screen\",\"fill_alpha\":{\"value\":0.5},\"fill_color\":{\"value\":\"lightgrey\"},\"left_units\":\"screen\",\"level\":\"overlay\",\"line_alpha\":{\"value\":1.0},\"line_color\":{\"value\":\"black\"},\"line_dash\":[4,4],\"line_width\":{\"value\":2},\"plot\":null,\"render_mode\":\"css\",\"right_units\":\"screen\",\"top_units\":\"screen\"},\"id\":\"4f269c72-a1b9-49e0-891d-c646e7357016\",\"type\":\"BoxAnnotation\"},{\"attributes\":{\"callback\":null,\"plot\":{\"id\":\"0b8b0e79-c763-4855-ac4c-f9fff5ffb9cf\",\"subtype\":\"Figure\",\"type\":\"Plot\"}},\"id\":\"40e05c7a-66f8-44ac-90c6-9cbfe6b44ea5\",\"type\":\"TapTool\"},{\"attributes\":{\"active_drag\":\"auto\",\"active_scroll\":\"auto\",\"active_tap\":\"auto\",\"tools\":[{\"id\":\"0e76e72e-b5f3-4065-b5a5-7c77425b31fa\",\"type\":\"BoxZoomTool\"},{\"id\":\"644e5ac7-7baf-442d-bb6e-c4497308d6fa\",\"type\":\"BoxSelectTool\"},{\"id\":\"5ba7e682-2beb-4155-93fa-4d5544b77bd6\",\"type\":\"CrosshairTool\"},{\"id\":\"dcd379c7-33bf-447e-b15e-018b2110b9b1\",\"type\":\"ResizeTool\"},{\"id\":\"258f084e-e6a5-41dd-b95f-5698512e9aea\",\"type\":\"ResetTool\"},{\"id\":\"5d37bed3-5ee3-4d26-914f-af264b2fc7a7\",\"type\":\"LassoSelectTool\"},{\"id\":\"5b8c5a80-7deb-4486-ade0-9fbe1f7a533b\",\"type\":\"PanTool\"},{\"id\":\"14b3fbed-de45-4644-8e7f-25cad6960d86\",\"type\":\"SaveTool\"},{\"id\":\"adba0d82-1fc2-4a39-bf99-a49d5f35e138\",\"type\":\"PolySelectTool\"},{\"id\":\"40e05c7a-66f8-44ac-90c6-9cbfe6b44ea5\",\"type\":\"TapTool\"},{\"id\":\"2de2612c-caae-4016-b829-a08ffe9a7893\",\"type\":\"WheelZoomTool\"},{\"id\":\"cb7e4ed6-0163-4c4d-9e0b-562706c43ccb\",\"type\":\"UndoTool\"}]},\"id\":\"37025e90-7429-4155-a3f7-3efd132b4599\",\"type\":\"Toolbar\"},{\"attributes\":{\"background_fill_alpha\":{\"value\":0.5},\"background_fill_color\":{\"value\":\"beige\"},\"below\":[{\"id\":\"219a3961-fde7-429f-b70d-56ff9ea279b5\",\"type\":\"LinearAxis\"}],\"left\":[{\"id\":\"9032b83a-57fd-4612-be78-64d2fc0e722e\",\"type\":\"LinearAxis\"}],\"plot_height\":500,\"plot_width\":500,\"renderers\":[{\"id\":\"219a3961-fde7-429f-b70d-56ff9ea279b5\",\"type\":\"LinearAxis\"},{\"id\":\"a40d8eba-4d9c-4be2-a769-b7259065746d\",\"type\":\"Grid\"},{\"id\":\"9032b83a-57fd-4612-be78-64d2fc0e722e\",\"type\":\"LinearAxis\"},{\"id\":\"7fcccb13-9d43-4989-8345-5eda0eb188dc\",\"type\":\"Grid\"},{\"id\":\"4f269c72-a1b9-49e0-891d-c646e7357016\",\"type\":\"BoxAnnotation\"},{\"id\":\"002a070e-ea4e-4740-871b-bddfce1111c0\",\"type\":\"BoxAnnotation\"},{\"id\":\"3a96d093-3216-4471-99d9-d7ab67ca160b\",\"type\":\"PolyAnnotation\"},{\"id\":\"3f056611-d19a-4b5c-9dab-465901ab6f6d\",\"type\":\"PolyAnnotation\"},{\"id\":\"d9c6de9f-7f82-4267-8e66-1286c2fe4130\",\"type\":\"GlyphRenderer\"},{\"id\":\"83e75512-35f2-46cf-8cfe-b391c807c303\",\"type\":\"GlyphRenderer\"}],\"title\":{\"id\":\"7ae59125-cfb0-4bc5-94bf-5a3c05b3d4be\",\"type\":\"Title\"},\"tool_events\":{\"id\":\"61dd7ad5-1b6a-4fa9-a3b6-913458504750\",\"type\":\"ToolEvents\"},\"toolbar\":{\"id\":\"37025e90-7429-4155-a3f7-3efd132b4599\",\"type\":\"Toolbar\"},\"x_range\":{\"id\":\"7424bb97-181b-4489-abf2-de61cc794104\",\"type\":\"DataRange1d\"},\"y_range\":{\"id\":\"aa55c81b-9316-47e8-831b-17e85100c703\",\"type\":\"DataRange1d\"}},\"id\":\"0b8b0e79-c763-4855-ac4c-f9fff5ffb9cf\",\"subtype\":\"Figure\",\"type\":\"Plot\"},{\"attributes\":{\"data_source\":{\"id\":\"172a31fb-bace-4898-ba11-b2688ff53256\",\"type\":\"ColumnDataSource\"},\"glyph\":{\"id\":\"835481ad-5376-48bc-a1b0-72bdf2a7613a\",\"type\":\"Circle\"},\"hover_glyph\":null,\"nonselection_glyph\":{\"id\":\"6b7b90c0-9161-43a8-89cb-81cdf8b608c5\",\"type\":\"Circle\"},\"selection_glyph\":null},\"id\":\"d9c6de9f-7f82-4267-8e66-1286c2fe4130\",\"type\":\"GlyphRenderer\"},{\"attributes\":{},\"id\":\"d01b983d-a9a4-4142-b409-30fb63a20181\",\"type\":\"BasicTickFormatter\"}],\"root_ids\":[\"0b8b0e79-c763-4855-ac4c-f9fff5ffb9cf\"]},\"title\":\"Bokeh Application\",\"version\":\"0.12.2\"}};\n",
       "            var render_items = [{\"docid\":\"87349392-d71a-4ea7-8fb2-56daa7d4fa23\",\"elementid\":\"4c9e067b-1bee-401f-a762-897cdb3b41de\",\"modelid\":\"0b8b0e79-c763-4855-ac4c-f9fff5ffb9cf\"}];\n",
       "            \n",
       "            Bokeh.embed.embed_items(docs_json, render_items);\n",
       "        });\n",
       "      },\n",
       "      function(Bokeh) {\n",
       "      }\n",
       "    ];\n",
       "  \n",
       "    function run_inline_js() {\n",
       "      \n",
       "      if ((window.Bokeh !== undefined) || (force === \"1\")) {\n",
       "        for (var i = 0; i < inline_js.length; i++) {\n",
       "          inline_js[i](window.Bokeh);\n",
       "        }if (force === \"1\") {\n",
       "          display_loaded();\n",
       "        }} else if (Date.now() < window._bokeh_timeout) {\n",
       "        setTimeout(run_inline_js, 100);\n",
       "      } else if (!window._bokeh_failed_load) {\n",
       "        console.log(\"Bokeh: BokehJS failed to load within specified timeout.\");\n",
       "        window._bokeh_failed_load = true;\n",
       "      } else if (!force) {\n",
       "        var cell = $(\"#4c9e067b-1bee-401f-a762-897cdb3b41de\").parents('.cell').data().cell;\n",
       "        cell.output_area.append_execute_result(NB_LOAD_WARNING)\n",
       "      }\n",
       "  \n",
       "    }\n",
       "  \n",
       "    if (window._bokeh_is_loading === 0) {\n",
       "      console.log(\"Bokeh: BokehJS loaded, going straight to plotting\");\n",
       "      run_inline_js();\n",
       "    } else {\n",
       "      load_libs(js_urls, function() {\n",
       "        console.log(\"Bokeh: BokehJS plotting callback run at\", now());\n",
       "        run_inline_js();\n",
       "      });\n",
       "    }\n",
       "  }(this));\n",
       "</script>"
      ]
     },
     "metadata": {},
     "output_type": "display_data"
    }
   ],
   "source": [
    "# Plotining using bokeh\n",
    "#TOOLS = [BoxSelectTool(), HoverTool()]\n",
    "#TOOLS = 'hover,box_zoom,box_select,crosshair,resize,reset,lasso_select,pan,save,poly_select,tap,wheel_zoom,undo'\n",
    "TOOLS = 'box_zoom,box_select,crosshair,resize,reset,lasso_select,pan,save,poly_select,tap,wheel_zoom,undo'\n",
    "p = figure(plot_width=500, plot_height=500, tools=TOOLS)\n",
    "p.scatter(Y, predicted,x=\"jjj\", marker=\"o\", color=\"#80B1D3\", line_width=3)\n",
    "p.title.align = \"center\"\n",
    "p.xaxis.axis_label = \"Measured\"\n",
    "p.xaxis.axis_label_text_color = \"#aa6666\"\n",
    "#p.xaxis.axis_label_standoff = 30\n",
    "p.xaxis.major_tick_line_color = \"firebrick\"\n",
    "p.xaxis.major_tick_line_width = 3\n",
    "p.xaxis.minor_tick_line_color = \"orange\"\n",
    "p.yaxis.axis_label = \"Predicted\"\n",
    "p.yaxis.axis_label_text_font_style = \"italic\"\n",
    "p.yaxis.axis_label_text_color = \"#aa6666\"\n",
    "p.background_fill_color = \"beige\"\n",
    "p.background_fill_alpha = 0.5\n",
    "#p.line([Y.min(), Y.max()], [Y.min(), Y.max()], line_dash=\"4 4\", line_width=2, color='red')\n",
    "\n",
    "# create a new plot with the toolbar below\n",
    "# line_dash=\"4 4\", line_width=2, color='red'\n",
    "p.line([Y.min(), Y.max()], [Y.min(), Y.max()], line_dash=\"4 4\", line_width=2, line_color=\"black\")\n",
    "show(p)"
   ]
  },
  {
   "cell_type": "code",
   "execution_count": 23,
   "metadata": {
    "collapsed": false
   },
   "outputs": [
    {
     "data": {
      "text/plain": [
       "<matplotlib.text.Text at 0x7ff17552d490>"
      ]
     },
     "execution_count": 23,
     "metadata": {},
     "output_type": "execute_result"
    },
    {
     "data": {
      "image/png": "[encoded data removed]",
      "text/plain": [
       "<matplotlib.figure.Figure at 0x7ff17560f550>"
      ]
     },
     "metadata": {},
     "output_type": "display_data"
    }
   ],
   "source": [
    "plt.scatter(predicted, (predicted - Y), c='r', s=30)\n",
    "plt.title(\"Residual plot on the training data\")\n",
    "plt.xlabel(\"Predicted\")\n",
    "plt.ylabel(\"Residuals\")"
   ]
  },
  {
   "cell_type": "code",
   "execution_count": 24,
   "metadata": {
    "collapsed": false
   },
   "outputs": [
    {
     "data": {
      "text/html": [
       "\n",
       "\n",
       "    <div class=\"bk-root\">\n",
       "        <div class=\"plotdiv\" id=\"5f719777-63f0-44fd-a165-5aebb6588d31\"></div>\n",
       "    </div>\n",
       "<script type=\"text/javascript\">\n",
       "  \n",
       "  (function(global) {\n",
       "    function now() {\n",
       "      return new Date();\n",
       "    }\n",
       "  \n",
       "    var force = \"\";\n",
       "  \n",
       "    if (typeof (window._bokeh_onload_callbacks) === \"undefined\" || force !== \"\") {\n",
       "      window._bokeh_onload_callbacks = [];\n",
       "      window._bokeh_is_loading = undefined;\n",
       "    }\n",
       "  \n",
       "  \n",
       "    \n",
       "    if (typeof (window._bokeh_timeout) === \"undefined\" || force !== \"\") {\n",
       "      window._bokeh_timeout = Date.now() + 0;\n",
       "      window._bokeh_failed_load = false;\n",
       "    }\n",
       "  \n",
       "    var NB_LOAD_WARNING = {'data': {'text/html':\n",
       "       \"<div style='background-color: #fdd'>\\n\"+\n",
       "       \"<p>\\n\"+\n",
       "       \"BokehJS does not appear to have successfully loaded. If loading BokehJS from CDN, this \\n\"+\n",
       "       \"may be due to a slow or bad network connection. Possible fixes:\\n\"+\n",
       "       \"</p>\\n\"+\n",
       "       \"<ul>\\n\"+\n",
       "       \"<li>re-rerun `output_notebook()` to attempt to load from CDN again, or</li>\\n\"+\n",
       "       \"<li>use INLINE resources instead, as so:</li>\\n\"+\n",
       "       \"</ul>\\n\"+\n",
       "       \"<code>\\n\"+\n",
       "       \"from bokeh.resources import INLINE\\n\"+\n",
       "       \"output_notebook(resources=INLINE)\\n\"+\n",
       "       \"</code>\\n\"+\n",
       "       \"</div>\"}};\n",
       "  \n",
       "    function display_loaded() {\n",
       "      if (window.Bokeh !== undefined) {\n",
       "        Bokeh.$(\"#5f719777-63f0-44fd-a165-5aebb6588d31\").text(\"BokehJS successfully loaded.\");\n",
       "      } else if (Date.now() < window._bokeh_timeout) {\n",
       "        setTimeout(display_loaded, 100)\n",
       "      }\n",
       "    }\n",
       "  \n",
       "    function run_callbacks() {\n",
       "      window._bokeh_onload_callbacks.forEach(function(callback) { callback() });\n",
       "      delete window._bokeh_onload_callbacks\n",
       "      console.info(\"Bokeh: all callbacks have finished\");\n",
       "    }\n",
       "  \n",
       "    function load_libs(js_urls, callback) {\n",
       "      window._bokeh_onload_callbacks.push(callback);\n",
       "      if (window._bokeh_is_loading > 0) {\n",
       "        console.log(\"Bokeh: BokehJS is being loaded, scheduling callback at\", now());\n",
       "        return null;\n",
       "      }\n",
       "      if (js_urls == null || js_urls.length === 0) {\n",
       "        run_callbacks();\n",
       "        return null;\n",
       "      }\n",
       "      console.log(\"Bokeh: BokehJS not loaded, scheduling load and callback at\", now());\n",
       "      window._bokeh_is_loading = js_urls.length;\n",
       "      for (var i = 0; i < js_urls.length; i++) {\n",
       "        var url = js_urls[i];\n",
       "        var s = document.createElement('script');\n",
       "        s.src = url;\n",
       "        s.async = false;\n",
       "        s.onreadystatechange = s.onload = function() {\n",
       "          window._bokeh_is_loading--;\n",
       "          if (window._bokeh_is_loading === 0) {\n",
       "            console.log(\"Bokeh: all BokehJS libraries loaded\");\n",
       "            run_callbacks()\n",
       "          }\n",
       "        };\n",
       "        s.onerror = function() {\n",
       "          console.warn(\"failed to load library \" + url);\n",
       "        };\n",
       "        console.log(\"Bokeh: injecting script tag for BokehJS library: \", url);\n",
       "        document.getElementsByTagName(\"head\")[0].appendChild(s);\n",
       "      }\n",
       "    };var element = document.getElementById(\"5f719777-63f0-44fd-a165-5aebb6588d31\");\n",
       "    if (element == null) {\n",
       "      console.log(\"Bokeh: ERROR: autoload.js configured with elementid '5f719777-63f0-44fd-a165-5aebb6588d31' but no matching script tag was found. \")\n",
       "      return false;\n",
       "    }\n",
       "  \n",
       "    var js_urls = [];\n",
       "  \n",
       "    var inline_js = [\n",
       "      function(Bokeh) {\n",
       "        Bokeh.$(function() {\n",
       "            var docs_json = {\"e70a1227-5d44-4d2f-a421-aa484787e01f\":{\"roots\":{\"references\":[{\"attributes\":{},\"id\":\"2fc1aa4e-6faf-4e7f-bedb-5451ac05b6d0\",\"type\":\"BasicTicker\"},{\"attributes\":{\"callback\":null},\"id\":\"5b02be41-4354-43a2-a698-d90cbf3165ba\",\"type\":\"DataRange1d\"},{\"attributes\":{\"plot\":{\"id\":\"d9a19fa0-6e2c-4aba-ae1f-f50e01e80766\",\"subtype\":\"Figure\",\"type\":\"Plot\"}},\"id\":\"b46c55b9-ca27-49f6-a091-8cd2dade13f7\",\"type\":\"CrosshairTool\"},{\"attributes\":{},\"id\":\"19bddefe-24a9-4020-b60e-c5549f6f49c0\",\"type\":\"BasicTicker\"},{\"attributes\":{\"plot\":{\"id\":\"d9a19fa0-6e2c-4aba-ae1f-f50e01e80766\",\"subtype\":\"Figure\",\"type\":\"Plot\"}},\"id\":\"19b87f03-dd5e-45ae-b743-6ed020d8fdb1\",\"type\":\"ResizeTool\"},{\"attributes\":{\"plot\":{\"id\":\"d9a19fa0-6e2c-4aba-ae1f-f50e01e80766\",\"subtype\":\"Figure\",\"type\":\"Plot\"},\"ticker\":{\"id\":\"2fc1aa4e-6faf-4e7f-bedb-5451ac05b6d0\",\"type\":\"BasicTicker\"}},\"id\":\"efa8d5c1-6598-4ac9-ad2e-d9e8c7f88fc3\",\"type\":\"Grid\"},{\"attributes\":{\"fill_alpha\":{\"value\":0.5},\"fill_color\":{\"value\":\"lightgrey\"},\"level\":\"overlay\",\"line_alpha\":{\"value\":1.0},\"line_color\":{\"value\":\"black\"},\"line_dash\":[4,4],\"line_width\":{\"value\":2},\"plot\":null,\"xs_units\":\"screen\",\"ys_units\":\"screen\"},\"id\":\"99b61c3f-23e7-4a65-89ab-b319d0c6694a\",\"type\":\"PolyAnnotation\"},{\"attributes\":{\"plot\":{\"id\":\"d9a19fa0-6e2c-4aba-ae1f-f50e01e80766\",\"subtype\":\"Figure\",\"type\":\"Plot\"}},\"id\":\"90797024-f61b-42a3-93f2-5a653b35d549\",\"type\":\"SaveTool\"},{\"attributes\":{\"plot\":{\"id\":\"d9a19fa0-6e2c-4aba-ae1f-f50e01e80766\",\"subtype\":\"Figure\",\"type\":\"Plot\"}},\"id\":\"66a64823-93e8-44a2-b7a4-a018447bd4b9\",\"type\":\"UndoTool\"},{\"attributes\":{\"axis_label\":\"Residuals\",\"axis_label_text_color\":{\"value\":\"#aa6666\"},\"formatter\":{\"id\":\"aec5b807-1e32-4e6e-b4e6-9db380f29ac5\",\"type\":\"BasicTickFormatter\"},\"plot\":{\"id\":\"d9a19fa0-6e2c-4aba-ae1f-f50e01e80766\",\"subtype\":\"Figure\",\"type\":\"Plot\"},\"ticker\":{\"id\":\"19bddefe-24a9-4020-b60e-c5549f6f49c0\",\"type\":\"BasicTicker\"}},\"id\":\"e1076149-4445-457d-a471-25b9fbde0a3d\",\"type\":\"LinearAxis\"},{\"attributes\":{\"overlay\":{\"id\":\"319ae40f-aeab-4d73-96de-2636a9043f2c\",\"type\":\"PolyAnnotation\"},\"plot\":{\"id\":\"d9a19fa0-6e2c-4aba-ae1f-f50e01e80766\",\"subtype\":\"Figure\",\"type\":\"Plot\"}},\"id\":\"f425f659-fcc8-4a26-9b49-3067f5767c81\",\"type\":\"PolySelectTool\"},{\"attributes\":{},\"id\":\"981fad7f-dd28-4f63-bbb7-ab1a2726c718\",\"type\":\"BasicTickFormatter\"},{\"attributes\":{\"dimension\":1,\"plot\":{\"id\":\"d9a19fa0-6e2c-4aba-ae1f-f50e01e80766\",\"subtype\":\"Figure\",\"type\":\"Plot\"},\"ticker\":{\"id\":\"19bddefe-24a9-4020-b60e-c5549f6f49c0\",\"type\":\"BasicTicker\"}},\"id\":\"e41b27bc-b119-4bf2-ac4b-8b9ae6e4b328\",\"type\":\"Grid\"},{\"attributes\":{\"background_fill_alpha\":{\"value\":0.5},\"background_fill_color\":{\"value\":\"beige\"},\"below\":[{\"id\":\"5e61df44-4976-4cf8-9193-c1a9eabf92ee\",\"type\":\"LinearAxis\"}],\"left\":[{\"id\":\"e1076149-4445-457d-a471-25b9fbde0a3d\",\"type\":\"LinearAxis\"}],\"plot_height\":500,\"plot_width\":500,\"renderers\":[{\"id\":\"5e61df44-4976-4cf8-9193-c1a9eabf92ee\",\"type\":\"LinearAxis\"},{\"id\":\"efa8d5c1-6598-4ac9-ad2e-d9e8c7f88fc3\",\"type\":\"Grid\"},{\"id\":\"e1076149-4445-457d-a471-25b9fbde0a3d\",\"type\":\"LinearAxis\"},{\"id\":\"e41b27bc-b119-4bf2-ac4b-8b9ae6e4b328\",\"type\":\"Grid\"},{\"id\":\"17571ee8-05f2-4d0c-9992-462cec2d3806\",\"type\":\"BoxAnnotation\"},{\"id\":\"043619d8-0e6a-4764-83bd-6dc387b38ac4\",\"type\":\"BoxAnnotation\"},{\"id\":\"99b61c3f-23e7-4a65-89ab-b319d0c6694a\",\"type\":\"PolyAnnotation\"},{\"id\":\"319ae40f-aeab-4d73-96de-2636a9043f2c\",\"type\":\"PolyAnnotation\"},{\"id\":\"416d2853-26ba-4bbf-b53b-2e01f9bb138b\",\"type\":\"GlyphRenderer\"}],\"title\":{\"id\":\"a941b9b4-cd28-4301-bfab-c24169174b18\",\"type\":\"Title\"},\"tool_events\":{\"id\":\"8f06dcaa-c7a4-4a36-8950-daa1dbd2fc80\",\"type\":\"ToolEvents\"},\"toolbar\":{\"id\":\"c5a1e6f3-c315-4c9d-b24e-298e2600b2fd\",\"type\":\"Toolbar\"},\"x_range\":{\"id\":\"5b02be41-4354-43a2-a698-d90cbf3165ba\",\"type\":\"DataRange1d\"},\"y_range\":{\"id\":\"4eb9c084-a62d-4088-a47d-ff9a2f0c0375\",\"type\":\"DataRange1d\"}},\"id\":\"d9a19fa0-6e2c-4aba-ae1f-f50e01e80766\",\"subtype\":\"Figure\",\"type\":\"Plot\"},{\"attributes\":{},\"id\":\"8f06dcaa-c7a4-4a36-8950-daa1dbd2fc80\",\"type\":\"ToolEvents\"},{\"attributes\":{\"align\":\"center\",\"plot\":null,\"text\":\"Residual plot on the training data\"},\"id\":\"a941b9b4-cd28-4301-bfab-c24169174b18\",\"type\":\"Title\"},{\"attributes\":{\"data_source\":{\"id\":\"b94a6794-9968-4d27-8201-34965e7981db\",\"type\":\"ColumnDataSource\"},\"glyph\":{\"id\":\"2d5a725a-9b0e-4d91-910a-a160fdcae00d\",\"type\":\"Circle\"},\"hover_glyph\":null,\"nonselection_glyph\":{\"id\":\"c3d4ac84-d856-45c9-960b-12a372bc25f7\",\"type\":\"Circle\"},\"selection_glyph\":null},\"id\":\"416d2853-26ba-4bbf-b53b-2e01f9bb138b\",\"type\":\"GlyphRenderer\"},{\"attributes\":{\"bottom_units\":\"screen\",\"fill_alpha\":{\"value\":0.5},\"fill_color\":{\"value\":\"lightgrey\"},\"left_units\":\"screen\",\"level\":\"overlay\",\"line_alpha\":{\"value\":1.0},\"line_color\":{\"value\":\"black\"},\"line_dash\":[4,4],\"line_width\":{\"value\":2},\"plot\":null,\"render_mode\":\"css\",\"right_units\":\"screen\",\"top_units\":\"screen\"},\"id\":\"043619d8-0e6a-4764-83bd-6dc387b38ac4\",\"type\":\"BoxAnnotation\"},{\"attributes\":{\"callback\":null,\"plot\":{\"id\":\"d9a19fa0-6e2c-4aba-ae1f-f50e01e80766\",\"subtype\":\"Figure\",\"type\":\"Plot\"}},\"id\":\"92755dfb-9719-42c5-8afc-04f7b1380856\",\"type\":\"TapTool\"},{\"attributes\":{\"fill_color\":{\"value\":\"#80B1D3\"},\"line_color\":{\"value\":\"#80B1D3\"},\"line_width\":{\"value\":3},\"x\":{\"field\":\"x\"},\"y\":{\"field\":\"y\"}},\"id\":\"2d5a725a-9b0e-4d91-910a-a160fdcae00d\",\"type\":\"Circle\"},{\"attributes\":{\"axis_label\":\"Predicted\",\"axis_label_text_color\":{\"value\":\"#aa6666\"},\"formatter\":{\"id\":\"981fad7f-dd28-4f63-bbb7-ab1a2726c718\",\"type\":\"BasicTickFormatter\"},\"major_tick_line_color\":{\"value\":\"firebrick\"},\"major_tick_line_width\":{\"value\":3},\"minor_tick_line_color\":{\"value\":\"orange\"},\"plot\":{\"id\":\"d9a19fa0-6e2c-4aba-ae1f-f50e01e80766\",\"subtype\":\"Figure\",\"type\":\"Plot\"},\"ticker\":{\"id\":\"2fc1aa4e-6faf-4e7f-bedb-5451ac05b6d0\",\"type\":\"BasicTicker\"}},\"id\":\"5e61df44-4976-4cf8-9193-c1a9eabf92ee\",\"type\":\"LinearAxis\"},{\"attributes\":{\"fill_alpha\":{\"value\":0.5},\"fill_color\":{\"value\":\"lightgrey\"},\"level\":\"overlay\",\"line_alpha\":{\"value\":1.0},\"line_color\":{\"value\":\"black\"},\"line_dash\":[4,4],\"line_width\":{\"value\":2},\"plot\":null,\"xs_units\":\"screen\",\"ys_units\":\"screen\"},\"id\":\"319ae40f-aeab-4d73-96de-2636a9043f2c\",\"type\":\"PolyAnnotation\"},{\"attributes\":{\"callback\":null,\"column_names\":[\"x\",\"y\"],\"data\":{\"x\":[40.70756338856836,33.89699299994663,46.19386140300958,17.04746335085656,49.022342401287005,19.039397443454163,14.485598917405241,25.883824160689528,47.80858736766322,24.537416454461436,24.586447775093802,32.86709835911347,19.956581001089035,43.76951489746443,64.07341710172977,20.989390861849643,45.29910823969749,37.298437846312936,36.40184571309419,43.92355109775417,26.254101905834887,42.01131015901501,22.97052126357221,46.67852732124584,30.58052924452386,38.88614411772005,50.22098769310014,22.883866564048276,43.516954319175966,22.033136896288397,37.66172185820142,35.65398294264787,21.37756647302035,73.69087543741534,59.59396649094924,49.17985825092546,45.93345346820274,28.303997359383175,25.120765970157663,18.30578087945105,34.87827832407038,31.499085898232806,48.13060949533883,11.431824902162589,9.715199145238785,47.46216772786056,44.677562073656645,36.0093848351853,42.75707002817717,19.46424509859844,23.265144931352552,14.259836127496328,45.305445517321914,36.70453050248216,54.22775665113295,81.49122715496787,49.7817009988953,35.637829836667606,39.151109189132285,65.3769792636167,36.14050018595526,33.12877922274902,17.077269624785913,41.78986757822713,62.20161241869255,33.17393772017704,24.821460617892626,45.891183852616905,41.226997328785274,44.30708653466945,43.9438883232192,32.191553102059515,63.2582333837604,36.77619310481168,16.010440901613947,51.058392893070504,49.981798317747234,46.16449180021209,27.50112982450355,35.141371471684124,37.63565885068556,39.975145781497076,80.10215209050602,41.51320515742907,24.280625141642076,63.96814023277375,34.88854680782697,41.060538730466305,67.25228838874864,40.08845890229884,36.96726084131387,45.70023172267747,38.31448024792144,36.742680223033176,34.099926303649454,42.2588260168437,19.374648368166163,13.879337758734437,70.91714649564983,31.025929968554806,11.043368565770379,19.191171550094168,38.02982518328713,24.683837908213263,47.22387440706689,38.24753575766954,75.5256835635355,21.318834098778098,35.248721681122106,59.251284359905185,41.827657039877295,44.67469701866867,29.77002297519732,29.176930285498656,22.781328435396063,23.9358338299528,45.682831136025925,32.95492656885017,26.78666352070661,21.825357724274,29.384131374724802,30.29026138449649,48.82478375074015,40.89375659713937,41.63552278761014,49.770699305822745,14.969711525439834,36.532602892739305,48.19327065618609,21.358432092950807,40.035923432550135,29.105301082402207,79.12207192585129,13.078376974345929,67.13147381215322,60.471192110368975,47.03503998589281,52.40566268759903,22.853006321363466,16.103450069103474,45.364407555525304,29.260945330942604,24.85518440734836,43.974354800517176,55.26234608890354,47.94333751959954,37.43609783128613,43.23680430142565,31.1473431829952,46.04933714232038,13.645205218857427,32.41120826093538,48.971436178153,26.86449867773149,65.1501262936697,54.332523633838264,41.440169889586855,73.96063399523064,55.50143751249584,51.06413854527955,14.652631153522407,24.75017793607867,20.520112426476317,25.735728411320906,27.552870308892466,40.47713937028402,41.74167798143941,29.70031062258363,24.922393655201347,7.486555255572426,30.094406798519458,21.283778776724716,19.647446535323525,30.100629374370783,49.14401471120617,54.874326466201296,25.914257032715454,31.73783986377225,60.23384329639157,27.169267446925915,25.455269339442793,25.057744768530142,30.455673143594936,54.56124222732842,33.84793589668118,36.313169631263236,59.93995706585247,34.18067138946412,31.117170595135462,54.25149438603398,38.637791019497854,40.6939077114846,36.974680755209874,56.83618340560395,35.82135974592893,23.607225419461884,38.09246130022507,41.01842583155917,41.841914186476174,39.851796005067285,50.96207491711516,41.77630617537852,57.484291390903195,17.15122281979518,19.98087865337959,28.633655054173914,27.7655949243059,19.33495324888335,22.80711071197527,57.15709852630846,16.922042786399288,22.627696746929928,36.98781489281987,10.425010926710684,37.22941524310056,38.13480001946732,77.79292523359436,26.289153290168997,59.17236935764481,40.88400428184832,32.901729757318975,19.363517284131035,44.95703804594723,32.820582625576435,65.60080753905208,42.014614773776884,13.563070135019188,36.68534551098992,16.184570650000524,34.281680915719335,49.25997740284481,14.16515982256442,38.72793384409351,19.190602672501313,40.76709164429508,42.20729340466664,25.33455931864387,62.481442819437234,77.46110175927606,51.06221947199941,36.90923644488532,35.89584881041458,20.77435991262007,23.492173429506522,37.16913625266636,46.41993612686474,64.66716894103433,33.90533622907623,18.953929093558827,73.99459084721957,31.671316952424334,35.59274192939324,22.830306926251865,51.84537915434021,35.962680163880975,44.79483192169948,31.957144008764715,50.191893415364575,12.41045679282638,47.5296791515882,69.0617210253732,38.49276060926309,67.27544821783516,10.93259679164612,80.13544576282332,12.880415955792841,14.819831064524521,42.196674690883356,29.30477680565201,30.381161384563654,16.045841015807582,29.45607512537822,14.104641601293451,17.12427267638941,8.372327856298398,33.14856642910365,16.061224019290876,15.812911282743585,42.301959649707555,30.740601574610437,19.346899507388912,22.48304905680621,20.1261368485267,14.699669047044381,48.28369973225085,32.64734869505867,19.343786952168188,18.11835757151016,43.33657985454363,16.047006812581913,26.335586801045906,28.37123217962653,24.00244605979435,22.544520770990744,20.398376424655794,38.360413758145285,54.822455526054455,32.288859178069174,64.22556925003221,39.524713203602005,50.38871547175009,40.07041391510408,44.53672153364232,52.391098119500384,35.30591524285748,19.95929525336794,56.675792721377206,7.213037490666352,16.904703913176718,40.97392372409263,34.896682766169846,25.764572380878917,42.01270092347204,19.830007470812234,38.05505543862455,53.09865215630805,12.623682362325894,21.875360765219853,19.340425099144852,60.45857071532791,16.477472676857133,67.4509796437597,5.864369831747354,15.58407148541096,28.01552542856888,60.445303557543184,71.3608873937884,21.158098881501928,30.65817405736891,36.29545276072167,37.077639854061886,23.33916432910621,48.22485653315039,34.1207177532815,44.2627317013509,43.64007918976546,46.96290797635592,8.880738343255985,65.53180839766526,48.55758962853304,36.93601484651043,29.81469985996378,38.01793329971616,43.687640605290994,16.05905081149899,10.728377319869153,34.266093879817504,50.104488043775405,45.73645780548179,25.367053036696802,36.93173185310559,37.59023242878095,61.31942674287069,26.487870953367292,30.987783295820122,36.05219470004539,10.738091507465697,8.240689428523979,31.09744081117367,34.830041256994036,41.535462522665796,19.51992760219389,15.892289280287628,35.65864368450167,22.26328886004069,43.74547571947309,59.42277838013564,42.44400470109258,54.21441879179787,34.87587929990789,43.07146014773372,21.03436616729431,47.78313486532767,16.989119533892676,51.774888975870624,21.13717023535571,24.102968809885738,25.456560432956167,22.829604056881408,44.88536254447206,36.622064292921664,36.84763998334256,46.54754309149479,17.65192535521757,39.481205289154445,43.51877535896119,49.6059121457574,20.59019600977831,34.485782919894916,22.465095384991372,54.406229308221214,18.746265685052776,27.594728974328433,25.377958312918167,59.42277838013564,36.19088195222071,33.11005630321756,39.198550531779574,37.8354602991173,37.8449115419798,21.307151311195184,40.46615205821956,53.862976115085644,69.31127842458346,32.25029527079022,27.0268612375217,56.34345509093794,7.419156269547642,21.911156286699736,11.326068613635414,44.12564070595039,42.707708200063706,55.270315680237495,15.803367692023073,51.04625846382805,53.91199880412478,31.578558447376736,15.689157683252006,39.070302585322224,36.961117757392515,59.715086244840165,10.905474079837404,29.34158923893665,29.48991949712729,15.750193850433334,24.841305468291694,73.9226937289875,43.97375340352187,34.83971763086299,32.69779876457983,13.419629192882667,30.918704722650546,32.79846990277488,43.29360660833595,17.98518135625841,36.699587324973436,19.69435344094404,13.48307504745162,12.916503780566927,11.595720229614699,12.428505225958588,22.354041405898897,39.96550942509066,54.90459521822663,30.303441179177753,38.536308111578506,30.1005879118145,53.975557986556396,22.297462702512803,20.30921594785582,29.90427137118968,13.159669655630523,25.16810951693867,38.19416275378512,47.00969581867389,62.31606592458459,26.849595608108757,22.442355472265945,26.521503539428636,30.19336842287953,15.114482969893515,41.550240476675526,28.64151266061458,30.256555173062225,46.25147404893232,10.34165958143717,29.175467922590087,44.255160364647054,25.884398552803077,48.47430882411959,23.360362654223877,40.432891322701835,73.97988321856383,44.996232560483804,41.11404206565999,35.55262091194231,35.18998807608841,22.103842712594997,24.544304293184723,14.18573978626182,34.937241991905466,10.810918882117676,67.44498905482669,44.21890937960097,42.41753340996297,17.09641854424717,42.36453158814311,8.515775709413901,30.874176343268346,30.757166410468926,37.94158286468064,49.98273601660003,34.405411020812835,68.49064309828759,34.725458279314125,44.68413037662731,36.68743155459947,43.974540480329324,43.85400912591058,31.246033654010944,17.20203822305575,13.919678580571599,26.211247064810777,18.74610842216157,77.22857127790974,61.97353022675327,21.39088782119029,26.301866096017193,47.23788415603599,29.792542714748265,64.1544665449444,75.44691679451353,62.937004764115045,49.9302632598658,31.54923620163231,23.377082916283825,34.2529349277271,64.51929729659105,17.569105050182316,31.132376749919786,47.288327521255724,30.98988123422737,29.55228789543162,38.38541996814524,61.385441874529874,67.0413890810861,49.26689352009794,27.16380036392252,26.268059555562445,24.54541515265805,30.44959413987749,59.188403158890395,12.733939425678045,65.15171294443144,49.22843950250501,31.942611993517062,19.25630340267685,38.180665229720944,24.483253548294897,53.93551014037962,31.65257159876853,43.003686672073854,20.759262685604483,43.19713748341724,43.974540480329324,44.58968350074133,39.60402378506933,50.77128599439505,18.49623011691142,16.274626773129057,29.636508859151945,49.26383789931077,48.569249935793664,40.10902660166448,42.75642018151757,47.06252587496829,40.63405933677541,18.506018903123504,26.70178672780014,16.41384682010016,34.48103222099576,31.120781428315922,34.89863910221743,21.968060359680976,37.81199533910035,56.69084298789517,33.120430352874564,32.168291890630826,13.491520908617986,8.087172238169273,34.41893302994481,26.381474616074456,28.967325498806645,56.116430614259116,33.91933287971153,32.45014344770283,29.267166419858995,41.19244189534356,29.20256862173835,16.489587574624693,50.51889392500402,58.96425279269715,14.367487925285786,24.94258902599836,11.07895415107248,16.856526055652466,15.752603983431754,28.10953126666925,54.122289689609005,58.98872545843324,28.69608308553825,41.13463752348821,60.072951671249484,24.466825569221555,44.0811468099796,63.149650028053316,34.96659761437991,35.996857883883536,36.82907746626233,12.221279030260803,16.53511478095561,47.25209869657783,19.44816947227855,46.71989892302031,39.364076938911694,34.22300778878389,37.23200730958331,38.39228885586658,38.2430807242838,62.18419382274601,34.78904474658839,54.43064795040732,42.123642535632484,16.425515185694053,24.08187500889676,33.22408147147371,49.121499145792995,55.13511900255753,52.341973509275135,39.13435851963277,64.7067824692158,74.08187436386697,37.54635980970875,13.248891074410267,34.26402804363801,57.60965363559217,16.5489182111869,73.70499771871118,32.924504908303106,24.439339572396193,13.898006239831375,36.59420262109097,48.635050132862716,16.681485451928438,39.60337067485466,46.853520262898996,18.743988647106335,48.38480169986906,17.369526583353718,42.84211248823692,52.553916305997745,32.183502816294094,18.586402052664425,24.362518494859614,35.62095730451756,21.76093385384047,37.904794088905874,23.248664130151383,22.998970558981682,27.948318284174434,30.16454236609593,53.53910574196675,28.419881502140584,14.125476155487831,35.45957829947315,53.72874539539657,33.060876230579424,22.950872450717952,24.992553217225122,54.27113944468829,79.29791137727935,35.351992033241686,40.16137666346765,49.50900167610746,15.32266169223783,23.831373063696446,36.76910065603042,48.81588630616767,42.44113272788735,16.005123024166096,31.99318939620116,38.690075960805416,47.71623239552093,43.53029256147272,22.38192231243238,20.848477397854822,25.152280866860906,13.788726428079144,58.682213107228165,25.17979491690312,25.031146929269426,54.75910493520786,39.837626611963856,10.765530671864212,51.11798734474968,36.063770560240414,60.652686416399035,21.023209921833086,39.24601014043185,12.238208196886752,29.052122173333032,27.270926526684946,40.401217942911785,54.34355802412085,28.99146908044446,61.6171613420492,17.68697829361588,28.623240142272692,51.922701094635386,39.06947247662026,42.18162824489548,42.78764974570379,24.984550707028006,29.835330702814076,32.654031588234545,12.197985389222964,38.32198496898337,42.83614467884763,21.209835640894674,32.03663931307857,67.34897494878157,16.067049466040544,29.517132173977814,28.60181143703619,36.436006744431154,49.47492771356582,23.035464207058567,46.743032140445166,36.61976313900476,35.18776035047972,32.1063295219559,57.98191976291997,63.456206113032806,74.50826249264097,46.48938496080626,51.11553419486876,30.669297373659106,40.15784646514385,22.11869973418959,23.687044193905763,41.86432677219585,44.78917234474267,24.84567762534698,13.950891300112175,53.03243058553599,15.979126477238196,16.45085423827939,30.534299723703782,49.37056683282512,42.44113272788735,43.76934850275262,20.98637607874251,25.581227482185568,59.6174029080787,27.342840056320142,31.538681701134692,10.781984521568234,39.26701546738718,36.896978489306434,42.26423873080341,24.414804977081303,34.98337052658076,36.709539001169105,40.559915022731644,9.512037258567261,44.73086453452174,35.944172043245544,46.00373122404221,65.28600283489334,31.75771105327226,23.556360497189644,31.764459221897937,47.99589253664851,31.587143754007116,52.09420610824054,57.9922343284004,30.638454129888146,37.63313446287566,75.20525010453116,22.531981375052965,57.14292689389197,41.031641504995605,38.71065816845669,68.04875989079414,12.704465390243172,9.523418731655624,11.21577852392312,14.641836669957115,35.6360338729022,10.506005579696307,26.109374528400622,34.152917729917135,40.76169719808229,24.97415015251579,29.35030451975433,56.247754948877514,32.01942473758311,53.18905967153273,63.162337954643476,79.7011542551686,12.512372072165817,44.58091896431574,34.43363598387646,50.66565809192275,22.849080232672463,55.03825845528206,35.43138431426439,70.39767379988439,38.959061860012525,39.73608826752354,39.683587031092316,30.572923324065073,41.79462115605975,49.76610882231239,41.288921681047384,9.486969050695734,13.703275793703142,29.031405262849717,70.1661653730082,40.54173249379676,9.753923335592617,48.84472096597756,9.352401256692133,25.686895931395384,65.43224202987244,21.942506202020923,52.16612356093901,42.138747813876876,18.403663446911082,40.11931808194049,20.283344259155683,22.053885180012458,38.779072442014694,54.58707997385477],\"y\":[-3.1844787714316354,-4.313766920053368,12.774270207009579,3.9267350708565605,1.8001311612870055,-3.2789406765458367,2.0129780774052417,-3.0541730353104732,0.7787399316632175,-1.785398273538565,-5.853228148906194,20.22900327911347,-0.8173308789109655,-0.028758526535561657,-2.026647018270225,5.627865581849644,4.4338657196974935,-8.64134803368706,2.645100753094191,0.34177313775417417,2.7298702618348862,-0.6879385209849858,8.82661059957221,-1.722687878754158,-3.9891079194761403,3.0264973577200536,-8.874000266899856,-1.6132157159517249,5.795032883175963,6.513032136288398,5.26048671420142,2.600503502647875,-27.871704206979643,1.992266197415347,4.697887370949246,-1.2794428090745384,-5.930310203797255,-0.37820424061682445,-1.6515871098423354,1.0695703554510487,-1.960424355929618,-8.731838701767195,0.41611239133883515,0.06926042216258921,-0.27530809476121476,6.536940795860566,4.114310041656651,4.2934888351853004,3.339727108177172,1.3379210585984396,4.9802414113525515,4.393434567496328,4.005833117321913,2.1479933824821558,0.2693648911329518,-1.1079976450321283,-4.817213965104692,-8.974025267332387,-0.13868067086771418,1.8486606236167091,-3.021736614044741,-6.192726533250983,-3.338804211214086,-2.605492061772864,5.864528458692547,-5.3264021198229585,-7.4239529501073775,3.6621578046169034,-5.020294847214728,10.619289174669454,-0.26531279678079756,-1.5376128179404844,-1.6421424962396003,3.5841289888116776,3.558504341613947,6.9181393730705025,-7.93418568225276,-9.345220959787909,-9.76504797549645,-7.075244008315877,-3.5674269093144417,0.1958279614970806,15.201776210506026,1.8510982574290722,0.7694935416420776,9.203061552773754,5.815412315826972,-8.712733709533694,2.0554378287486372,3.5000360102988424,-15.039913838686125,8.434053922677471,-5.263850332078562,-3.93640377696682,7.134519943649455,6.006867412843704,-6.3517696198338385,1.6983652667344362,-2.077677624350173,2.398886448554805,-0.34884338222962086,-0.8932643299058327,-10.254179096712868,0.6831783482132643,1.919095923066891,2.4844156376695423,1.3311712035354901,6.619205778778099,9.639613111663465,-2.7395028000948116,3.7534133678773003,-9.421589941331334,-11.086945832802677,-10.667887754501344,0.3457793953960646,-1.9581268260471987,2.7629501360259283,2.3077183688501712,0.5865755207066101,-1.3134568357260008,2.529041174724803,4.142573560496491,-3.6215871412598446,2.9725765971393727,-0.20119141638985383,0.7834295058227454,6.433309169439834,0.7783474621979423,-0.39410306381390825,-0.2428509870491915,11.236510912550134,-3.7178933735977964,-0.1745628341487162,1.4234746703459287,0.3507983816118525,-0.6232762496310258,-1.635070854107191,12.209211887599032,-3.404997662636532,2.644878549103474,-2.374910684474692,5.564344686942604,-2.9720669526516375,12.623881080517176,-5.059909151096456,-0.7522839324004593,-1.6571913687138675,10.11989306942565,-6.1808874570048005,-4.647833137679619,0.07976491885742831,-1.2765890990646156,-4.490532861847001,10.36051166573149,3.294279439481741,-5.962152566161734,-1.572790370413145,-3.336520364769356,-1.3458586875041547,-4.431784694720449,-0.3965614984775918,6.913433816078673,0.7549039344763173,1.1972775713209067,5.606849228892468,6.913447690284023,-1.3160982185605903,2.0192281745836276,-6.104026344798651,5.154747423572426,-12.19805104148054,5.942937776724717,-0.043988024676473,-3.600957505629218,1.361948959206174,-1.2676357857987028,1.024173432715454,1.8669816397722556,1.6283832963915685,2.2653943269259145,12.059735624172115,1.2708227685301416,-3.273492776405064,2.519593747328422,2.4974621766811786,-1.6424841687367646,2.341132025852467,4.733151429464126,7.2268271951354635,-13.448154053966022,3.9019901394978547,1.6378502154845975,11.877754355209873,11.468662605603946,7.725212745928932,0.3856737394618861,-2.055726179774929,-1.121657812440823,4.499894026476177,-4.281562754932715,-9.318811762884835,-7.996966264621477,-2.1061343243674813,-0.8082480282048223,-4.123202306620406,1.688932974173916,-4.201270339694094,-8.902536331116647,6.697503971975269,2.881547806308461,-1.8241201776007117,-2.2899658930700717,-3.870532867180131,-1.0409749532893162,-1.1785348128994428,12.934452219467321,-1.607130926405631,2.7711269301689967,-7.2517484823551825,1.4321875618483233,3.116366557318976,-2.9844683038689652,-10.938781274052772,2.6973761855764344,-1.9678404609479117,-11.509407106223115,0.2699728550191889,12.58815931098992,1.1953624100005236,-5.301136244280663,0.41336070684481285,2.20757755456442,-0.6480405159064873,-0.797306567498687,1.3111380682950795,2.785813628666645,0.8512665586438715,3.2830334594372346,10.761193519276063,1.0889989919994179,-3.8043213551146735,-3.8034897935854204,0.4968707526200724,5.917430189506522,4.0866988206663635,5.368535086864739,8.523138261034333,-9.471667358923774,3.8681942135588265,-3.3025635127804236,-1.1684249275756642,-1.8451153946067578,-0.913867561748134,-4.553757645659793,-7.4260445161190205,0.0967923176994887,-0.7633185232352844,-3.7113402646354245,4.660746552826381,-0.2854814484118009,9.166940905373202,0.47505396926308663,-1.475158636352802,4.04886840764612,3.3347141228233284,1.0283235157928416,6.3323815045245215,-7.004332669116643,-3.4632595703479936,-2.8308975354363426,-1.9494825841924168,5.65536360537822,7.202297365293451,-1.0020513636105903,-2.1635548997016016,7.6379544291036545,2.599894595290875,-9.670121677256414,-13.34564831029244,-2.2232459853895605,-0.06874465261108753,-0.46271222319379035,0.4347022885267009,-3.3342652089556175,-4.624620079749143,9.402157840870707,-6.346088807831812,0.16440253151015938,-0.3617195494563674,0.4717439725819137,0.9132277290459072,-0.7867078603734683,1.5668970197943537,0.0124450909907452,-0.7809473433442058,4.962196318145288,5.848975246054458,9.799531010069174,-3.0810778699677854,-0.08568299639799193,5.303879831750088,1.6093742071040822,-2.395220310357672,11.794751239500386,4.8586550828574815,-4.3316337026320575,6.681887961377207,-0.8503843293336484,0.6261755531767186,0.5844196440926268,11.257505620357808,4.698322676878917,-1.2381285565279612,-1.0886943691877669,4.25625244262455,9.06871479630805,2.774025216513854,-3.7455673947801458,-5.1083938608551485,-15.776790604672087,0.7291513608571343,8.928256763759698,-1.974972288252646,-1.6914391705890388,0.7950129485688784,-10.853409602456807,3.261342873788408,-3.497562878498073,3.744478397368912,2.895856368721674,7.685277974061886,-6.553067650893787,1.4232256531503893,2.866770673281497,-11.2883496186491,14.640718629765459,7.662775976355924,-1.4551963727440143,-14.454302362334744,1.280220308533039,11.914930806510434,5.421038979963782,-5.715529380283833,-6.113210874709004,7.047599491498993,-0.6858978601308454,0.7230864798175034,-5.722383676224595,-1.1616997145182069,-6.3764220033031975,1.5685078131055903,2.2476926687809495,-4.677215977129308,-3.7456516466327088,-4.326487948179874,-0.8830346199546071,-1.996530212534303,-2.92882177147602,-7.506320428826328,-9.779055943005964,0.3840874626657964,6.73152675419389,3.7161431202876276,2.6155063845016713,0.40414175604068703,2.692695727473094,-11.875934779864352,-5.267734498907416,7.985052991797872,8.131105259907894,1.5305311477337185,-5.882776872705691,-8.16094777467233,-0.8338350661073228,-9.460921964129376,5.796329235355712,-7.31645251011426,3.545013152956166,5.951231576881408,-7.53549773552794,-0.5489658190783331,-2.797230016657437,-4.1075691525052065,4.131300995217572,3.525031889154448,-3.613804001038808,-6.489855214242596,1.2400520697783115,2.4175646838949163,4.266376364991373,-5.888446891778784,5.4117998450527764,-0.3290490256715657,-8.227101927081833,-11.875934779864352,-0.2568878357792954,-0.3787779815117531,0.7395792517795741,-0.8648275808826966,4.0467980219797965,1.891507151195185,0.9798615382195663,-5.4388546449143576,-10.888569895416538,0.19862445879022061,5.167714133521699,-0.4004197090620636,-3.1160370104523576,-4.054509873300262,6.422515301635413,2.1848156259503924,0.7730884040637065,-12.594806999762504,2.714355308023073,0.02503446382805663,0.9533472441247781,2.592987407376736,-2.275139496747993,9.521331154780864,-4.283336562607481,0.9303624848401668,-1.5540467161625955,-5.3321588010633505,-12.19442051087271,-1.139210245566666,-0.37558975570830455,7.3262068889875,-7.357734796478127,1.8207119908629963,2.574592324579829,0.12584243688266739,-3.8515699573494544,-5.315763377225117,7.440854608335954,1.7204425162584087,-1.5042778350265635,-2.1254935310559553,-1.016605232548379,3.1811026605669284,0.8329998696146994,-4.737378746041411,7.812992565898897,3.3267547850906567,4.827953338226635,-6.660746132822247,-5.759766984421496,-6.2485868081855,-2.0857355734436,3.1920827425128024,-3.9727498201441804,-6.445592824810319,-1.9103057749108352,-0.2928602110613312,-0.5061251262148758,3.6326922306738894,-4.797527915415401,-0.38470639189124256,3.2432067762659464,-2.8915426205713644,0.5390056628795321,1.490437209893516,1.402052996675529,-0.909428699385419,-2.403922946937776,-10.444137431067674,-1.1422526745628279,-6.049860917409909,1.928228724647056,-7.11943861519692,-2.7813370158804105,1.4432995662238781,2.2173050707018405,-3.3172711414361657,-7.430143527516194,3.8823380656599866,9.324953871942313,-3.806774483911589,-2.882767527405001,1.7088591731847238,1.9406460262618204,-4.667638400094532,-4.709185877882323,2.2481384948266907,-11.676909940399028,3.0594854259629756,-0.47970364775282803,1.429651992143107,-3.5362647705860972,6.4694838472683465,7.232245290468928,-1.3585491353193575,-5.471818663399972,-3.026241019187161,-1.346380941712411,3.374984559314125,-1.5176563833726888,-9.700513725400526,8.673369280329325,15.226965605910578,-0.6284418259890536,-3.391920420944249,1.3712153805715985,-7.4531081111892235,3.6548577341615687,7.570810997909746,2.20975054675327,-15.05274511080971,3.369894336017193,5.207427196035994,-2.83415108125174,-2.6695473750556005,3.4587276345135223,-11.427906694005358,-22.168242060134205,-5.441151198367685,1.837852676283827,-3.178717112272899,0.21876553659105014,10.253764690182315,-7.4713844900802115,24.390829561255725,-1.0215044810433085,1.8767212554316188,-1.6765830118547527,4.889778434529873,-3.657479958913896,2.6238421200979403,-4.807201756077479,-6.454471404437555,0.7584931526580512,-2.507358660122506,4.030323158890397,2.350430865678046,-9.346168855568564,-4.49553041749499,1.0609819535170644,5.714994762676849,-5.394217970279058,2.978497108294899,1.1085484963796262,-1.4078026012314666,-7.769325967926143,1.2202023216044822,1.0660170274172387,8.673369280329325,3.0466860727413305,-7.797451214930668,-0.9614772376049459,-1.4916791230885806,1.2302604531290573,0.04419893915194706,7.136854299310777,-3.7343994242063374,0.7261574816644867,3.60797290151757,10.76161447496829,-3.692352703224593,-4.8989333928764935,4.071805455800142,0.797904896100162,10.645846900995757,-4.104547411684074,3.72053438221743,-5.906764844319024,-0.7503973408996529,2.375302659895169,-9.516765487125433,-1.1333989093691699,0.9499524686179868,3.3049667021692732,5.350624869944809,-7.857903543925545,-3.917232321193353,6.219052494259117,2.3827006397115333,-1.2514434322971724,-3.4967331001410003,3.2781566553435653,3.643003825738351,-0.9472604653753081,-6.699340362995969,8.437383084697153,0.06086092528578746,5.933046229998361,0.9891623670724794,3.6737449356524667,2.231979623431755,-2.16604936933075,1.6055922456090101,-22.762443861566766,0.22761904553824763,0.276289763488208,-11.225761488750507,7.098925129221556,-11.8146725100204,0.6486506280533177,8.733414766379905,1.7919535238835351,-4.580851093737664,2.6037783062608018,-0.6879956990443894,2.8636338165778312,-0.31703901972144877,-3.7911128369796856,0.3121562989116953,9.10638207351321,1.661940469583314,-5.885859864133415,-12.357562915716201,-6.115298737253994,3.610250550588386,-7.622192049592677,2.892458135632488,1.3949383856940543,6.485068536896762,-3.338830808526289,-10.676754334207004,-1.677703397442471,-0.9586581467248649,1.137336159632774,0.4062507092157972,-3.2152799961330203,-1.0642961902912518,2.4613495784102675,-0.22356147636199353,3.9546313155921666,3.3247685311869013,10.307679518711183,-4.010724411696891,-0.9333772276038061,1.7218600798313748,-0.5754485389090291,-2.420647667137281,-5.2300618280715625,-4.695462325145343,-6.918712977101002,-2.5470302328936647,3.0862284998690583,-1.04637737664628,0.22146407223691966,-8.39576209400225,1.0674509362940938,3.1490344126644256,0.12054233485961419,-7.174818015482437,-0.20577150615952888,-0.7258567150941246,-2.8135286698486155,-1.4291641210183172,0.17622500417443376,-1.7354437259040694,-3.0799739020332453,-4.854230257859413,2.5491741154878316,5.239845219473153,-2.884128964603427,-0.24564090142057182,-6.9792807092820475,0.9918936572251233,8.03694731268829,0.001276617279344805,-6.367511250758312,6.763159223467653,-1.5260118438925403,0.33345345223782985,-4.190310528303552,4.370623416030419,-4.288244689832332,7.139961527887351,1.208968064166097,1.9134199442011628,1.4245876368054198,-3.232596624479065,-0.1680068425272765,0.7323759124323814,-2.2282843221451785,1.0868105628609044,3.7568506280791443,-0.11630017277182958,0.00013139690312158336,0.5933595852694253,-5.535571264792139,-0.8207731080361427,3.2585159838642133,-4.481357295250319,-0.2371408397595829,-14.045143423600962,11.461556753833086,-4.9618120275681505,-0.9583624431132467,1.1166230813330351,1.222523246684947,8.291335658182469,-24.45665401587914,2.5914330404444605,4.983602702049204,1.9958834856158791,3.5401032622726945,0.9014770946353892,1.8101894366202629,-0.2418300351045204,-0.7113910942962107,1.4610085390280076,4.276455382814078,1.0139779482345475,-0.6400577307770359,4.3583972089833765,-6.364862681152367,5.640088608894676,3.045552465078565,2.152124388781573,3.694402646040544,-12.368534826022184,2.856777597036192,-3.6225488555688443,3.2455619135658225,-0.7031944729414334,3.1778016044451647,-4.431637900995241,2.3342289504797193,1.082667425955897,-2.2162297970800253,-2.450804726967192,1.210068932640965,2.211236240806265,-1.0846937651312416,3.8093808416591095,-0.6012167508561532,10.65271385418959,1.9064973539057632,1.2955589321958527,16.49307730474267,6.55801620134698,-0.25231429988782494,8.512965265535989,1.135397673238197,-4.81258560172061,-8.862358916296216,-3.0709777271748777,7.139961527887351,2.6696841427526223,-3.2969686412574895,0.4015639621855698,-2.1803309719212933,3.652444696320142,0.27094510113469283,1.6505643775682337,2.4620971113871803,6.049822249306434,-0.28332522919658487,5.405951657081303,9.879549366580758,-7.927137238830895,1.564531414731647,0.2041112585672611,-10.820216785478259,-2.825063436754455,0.1673667440422122,-8.88093048510666,9.005003053272262,-4.186085314810352,1.896358901897937,-1.1892568753514823,7.248640954007115,7.570603932240537,-10.5072062715996,-1.0084942701118536,0.2056192788756661,7.4090750245311625,-13.906825224947035,2.122742093891972,2.0269992202662905,6.177733108456692,-5.649329749205847,-7.228285769756827,1.1490432356556255,0.9936073479231204,0.04494027395711697,-8.062955007097798,2.7824954276963068,-5.241099191599378,-10.715422446082869,-4.605823601917713,-4.776739247484208,3.2053745997543324,1.0483063888775135,2.7877107655831104,2.1471513915327307,-2.746741313356523,0.4045194951686,2.7742130481658176,-10.315160155684254,-2.929068456123545,-1.058831428077248,2.1234316726724636,2.2175020952820645,3.3286922782643913,-1.225093080115613,3.093209816012532,4.634865107523545,-6.559568288907684,-1.2670783559349275,8.396403716059751,-7.44660965768761,-2.6534522269526164,1.8110327426957342,-4.326521606296858,-2.843759693150286,-5.331456626991795,16.141176853796757,1.5498484115926168,2.1603010059775585,6.032574316692132,4.664772691395385,24.06368202987244,-5.098742517979076,7.743184880939012,7.740790173876874,-2.5633017130889186,3.149614961940493,14.016007419155684,6.637201820012457,-0.6561968539853069,3.85474641785477]}},\"id\":\"b94a6794-9968-4d27-8201-34965e7981db\",\"type\":\"ColumnDataSource\"},{\"attributes\":{\"plot\":{\"id\":\"d9a19fa0-6e2c-4aba-ae1f-f50e01e80766\",\"subtype\":\"Figure\",\"type\":\"Plot\"}},\"id\":\"e762616d-f2c6-424d-bf71-5fd46400bc5b\",\"type\":\"ResetTool\"},{\"attributes\":{\"callback\":null,\"overlay\":{\"id\":\"99b61c3f-23e7-4a65-89ab-b319d0c6694a\",\"type\":\"PolyAnnotation\"},\"plot\":{\"id\":\"d9a19fa0-6e2c-4aba-ae1f-f50e01e80766\",\"subtype\":\"Figure\",\"type\":\"Plot\"}},\"id\":\"6d61bba4-705a-4ff6-a9d7-282bd87cabdc\",\"type\":\"LassoSelectTool\"},{\"attributes\":{\"active_drag\":\"auto\",\"active_scroll\":\"auto\",\"active_tap\":\"auto\",\"tools\":[{\"id\":\"4e0d0b76-4f04-46f1-9848-0b8598ea33b1\",\"type\":\"BoxZoomTool\"},{\"id\":\"3d136db1-01ec-42b8-89e9-5fb757bebcba\",\"type\":\"BoxSelectTool\"},{\"id\":\"b46c55b9-ca27-49f6-a091-8cd2dade13f7\",\"type\":\"CrosshairTool\"},{\"id\":\"19b87f03-dd5e-45ae-b743-6ed020d8fdb1\",\"type\":\"ResizeTool\"},{\"id\":\"e762616d-f2c6-424d-bf71-5fd46400bc5b\",\"type\":\"ResetTool\"},{\"id\":\"6d61bba4-705a-4ff6-a9d7-282bd87cabdc\",\"type\":\"LassoSelectTool\"},{\"id\":\"420af7ad-56e4-41ef-8047-7af2c8f8d066\",\"type\":\"PanTool\"},{\"id\":\"90797024-f61b-42a3-93f2-5a653b35d549\",\"type\":\"SaveTool\"},{\"id\":\"f425f659-fcc8-4a26-9b49-3067f5767c81\",\"type\":\"PolySelectTool\"},{\"id\":\"92755dfb-9719-42c5-8afc-04f7b1380856\",\"type\":\"TapTool\"},{\"id\":\"d41219df-89c6-484a-876e-500ce9d69b63\",\"type\":\"WheelZoomTool\"},{\"id\":\"66a64823-93e8-44a2-b7a4-a018447bd4b9\",\"type\":\"UndoTool\"}]},\"id\":\"c5a1e6f3-c315-4c9d-b24e-298e2600b2fd\",\"type\":\"Toolbar\"},{\"attributes\":{\"plot\":{\"id\":\"d9a19fa0-6e2c-4aba-ae1f-f50e01e80766\",\"subtype\":\"Figure\",\"type\":\"Plot\"}},\"id\":\"d41219df-89c6-484a-876e-500ce9d69b63\",\"type\":\"WheelZoomTool\"},{\"attributes\":{\"bottom_units\":\"screen\",\"fill_alpha\":{\"value\":0.5},\"fill_color\":{\"value\":\"lightgrey\"},\"left_units\":\"screen\",\"level\":\"overlay\",\"line_alpha\":{\"value\":1.0},\"line_color\":{\"value\":\"black\"},\"line_dash\":[4,4],\"line_width\":{\"value\":2},\"plot\":null,\"render_mode\":\"css\",\"right_units\":\"screen\",\"top_units\":\"screen\"},\"id\":\"17571ee8-05f2-4d0c-9992-462cec2d3806\",\"type\":\"BoxAnnotation\"},{\"attributes\":{},\"id\":\"aec5b807-1e32-4e6e-b4e6-9db380f29ac5\",\"type\":\"BasicTickFormatter\"},{\"attributes\":{\"plot\":{\"id\":\"d9a19fa0-6e2c-4aba-ae1f-f50e01e80766\",\"subtype\":\"Figure\",\"type\":\"Plot\"}},\"id\":\"420af7ad-56e4-41ef-8047-7af2c8f8d066\",\"type\":\"PanTool\"},{\"attributes\":{\"callback\":null,\"overlay\":{\"id\":\"043619d8-0e6a-4764-83bd-6dc387b38ac4\",\"type\":\"BoxAnnotation\"},\"plot\":{\"id\":\"d9a19fa0-6e2c-4aba-ae1f-f50e01e80766\",\"subtype\":\"Figure\",\"type\":\"Plot\"},\"renderers\":[{\"id\":\"416d2853-26ba-4bbf-b53b-2e01f9bb138b\",\"type\":\"GlyphRenderer\"}]},\"id\":\"3d136db1-01ec-42b8-89e9-5fb757bebcba\",\"type\":\"BoxSelectTool\"},{\"attributes\":{\"fill_alpha\":{\"value\":0.1},\"fill_color\":{\"value\":\"#1f77b4\"},\"line_alpha\":{\"value\":0.1},\"line_color\":{\"value\":\"#1f77b4\"},\"line_width\":{\"value\":3},\"x\":{\"field\":\"x\"},\"y\":{\"field\":\"y\"}},\"id\":\"c3d4ac84-d856-45c9-960b-12a372bc25f7\",\"type\":\"Circle\"},{\"attributes\":{\"overlay\":{\"id\":\"17571ee8-05f2-4d0c-9992-462cec2d3806\",\"type\":\"BoxAnnotation\"},\"plot\":{\"id\":\"d9a19fa0-6e2c-4aba-ae1f-f50e01e80766\",\"subtype\":\"Figure\",\"type\":\"Plot\"}},\"id\":\"4e0d0b76-4f04-46f1-9848-0b8598ea33b1\",\"type\":\"BoxZoomTool\"},{\"attributes\":{\"callback\":null},\"id\":\"4eb9c084-a62d-4088-a47d-ff9a2f0c0375\",\"type\":\"DataRange1d\"}],\"root_ids\":[\"d9a19fa0-6e2c-4aba-ae1f-f50e01e80766\"]},\"title\":\"Bokeh Application\",\"version\":\"0.12.2\"}};\n",
       "            var render_items = [{\"docid\":\"e70a1227-5d44-4d2f-a421-aa484787e01f\",\"elementid\":\"5f719777-63f0-44fd-a165-5aebb6588d31\",\"modelid\":\"d9a19fa0-6e2c-4aba-ae1f-f50e01e80766\"}];\n",
       "            \n",
       "            Bokeh.embed.embed_items(docs_json, render_items);\n",
       "        });\n",
       "      },\n",
       "      function(Bokeh) {\n",
       "      }\n",
       "    ];\n",
       "  \n",
       "    function run_inline_js() {\n",
       "      \n",
       "      if ((window.Bokeh !== undefined) || (force === \"1\")) {\n",
       "        for (var i = 0; i < inline_js.length; i++) {\n",
       "          inline_js[i](window.Bokeh);\n",
       "        }if (force === \"1\") {\n",
       "          display_loaded();\n",
       "        }} else if (Date.now() < window._bokeh_timeout) {\n",
       "        setTimeout(run_inline_js, 100);\n",
       "      } else if (!window._bokeh_failed_load) {\n",
       "        console.log(\"Bokeh: BokehJS failed to load within specified timeout.\");\n",
       "        window._bokeh_failed_load = true;\n",
       "      } else if (!force) {\n",
       "        var cell = $(\"#5f719777-63f0-44fd-a165-5aebb6588d31\").parents('.cell').data().cell;\n",
       "        cell.output_area.append_execute_result(NB_LOAD_WARNING)\n",
       "      }\n",
       "  \n",
       "    }\n",
       "  \n",
       "    if (window._bokeh_is_loading === 0) {\n",
       "      console.log(\"Bokeh: BokehJS loaded, going straight to plotting\");\n",
       "      run_inline_js();\n",
       "    } else {\n",
       "      load_libs(js_urls, function() {\n",
       "        console.log(\"Bokeh: BokehJS plotting callback run at\", now());\n",
       "        run_inline_js();\n",
       "      });\n",
       "    }\n",
       "  }(this));\n",
       "</script>"
      ]
     },
     "metadata": {},
     "output_type": "display_data"
    }
   ],
   "source": [
    "# Plotining using bokeh\n",
    "#TOOLS = 'hover,box_zoom,box_select,crosshair,resize,reset,lasso_select,pan,save,poly_select,tap,wheel_zoom,undo'\n",
    "TOOLS = 'box_zoom,box_select,crosshair,resize,reset,lasso_select,pan,save,poly_select,tap,wheel_zoom,undo'\n",
    "p = figure(plot_width=500, plot_height=500, title=\"Residual plot on the training data\", tools=TOOLS)\n",
    "p.scatter(predicted, (predicted - Y),x=\"jjj\", marker=\"o\", color=\"#80B1D3\", line_width=3)\n",
    "p.title.align = \"center\"\n",
    "p.xaxis.axis_label = \"Predicted\"\n",
    "p.xaxis.axis_label_text_color = \"#aa6666\"\n",
    "#p.xaxis.axis_label_standoff = 30\n",
    "p.xaxis.major_tick_line_color = \"firebrick\"\n",
    "p.xaxis.major_tick_line_width = 3\n",
    "p.xaxis.minor_tick_line_color = \"orange\"\n",
    "p.yaxis.axis_label = \"Residuals\"\n",
    "p.yaxis.axis_label_text_font_style = \"italic\"\n",
    "p.yaxis.axis_label_text_color = \"#aa6666\"\n",
    "p.background_fill_color = \"beige\"\n",
    "p.background_fill_alpha = 0.5\n",
    "#p.line([2,38], [0, 0], line_dash=\"4 4\", line_width=2, color='red')\n",
    "show(p)"
   ]
  },
  {
   "cell_type": "markdown",
   "metadata": {},
   "source": [
    "## Pipeline"
   ]
  },
  {
   "cell_type": "markdown",
   "metadata": {},
   "source": [
    "The best to deliver the model by pipeline the operation then at deployment can be done in one model."
   ]
  },
  {
   "cell_type": "markdown",
   "metadata": {
    "collapsed": true
   },
   "source": [
    "  I used two ways to check the pipeline so any one can be fine"
   ]
  },
  {
   "cell_type": "code",
   "execution_count": 25,
   "metadata": {
    "collapsed": false
   },
   "outputs": [
    {
     "name": "stdout",
     "output_type": "stream",
     "text": [
      "0.927526483178\n",
      "Scoring according to mean_squared_error\n",
      "[-39.78769204 -29.74912017 -31.11123522 -27.55858967 -34.04538936\n",
      " -20.36771626 -42.46282667 -28.6922084  -29.86844389 -39.00109755]\n",
      "\n",
      " Mean      Standard deviation\n",
      "-32.26      6.32\n",
      "[ True  True  True  True  True  True  True  True]\n",
      "R-squared =  0.927526483178\n"
     ]
    }
   ],
   "source": [
    "# Use Pipeline\n",
    "# ANOVA \n",
    "from sklearn.pipeline import Pipeline\n",
    "from sklearn.feature_selection import SelectKBest, f_regression\n",
    "anova_filter = SelectKBest(f_regression, k=8)\n",
    "LRR = KernelRidge(kernel='rbf', gamma=0.052, alpha =  0.0216)\n",
    "anova_LinReg = Pipeline([('scaler_Input',scaler), ('anova', anova_filter), ('LinReg', LRR)])\n",
    "# You can set the parameters using the names issued\n",
    "# For instance, fit using a k of 10 in the SelectKBest\n",
    "anova_LinReg.set_params(anova__k=8).fit(new_data, Y)\n",
    "prediction = anova_LinReg.predict(new_data)\n",
    "print anova_LinReg.score(new_data, Y)                        \n",
    "# getting the selected features chosen by anova_filter\n",
    "results = cross_validation.cross_val_score(anova_LinReg, new_data, Y, cv=kfold, scoring=scoring)\n",
    "print 'Scoring according to mean_squared_error'\n",
    "print results\n",
    "print '\\n Mean      Standard deviation'\n",
    "print(\"%.2f      %.2f\" % (results.mean(), results.std()))\n",
    "print anova_LinReg.named_steps['anova'].get_support()\n",
    "r_squared = r2_score(Y, prediction, multioutput='variance_weighted')\n",
    "print 'R-squared = ',r_squared"
   ]
  },
  {
   "cell_type": "code",
   "execution_count": 26,
   "metadata": {
    "collapsed": false
   },
   "outputs": [
    {
     "name": "stdout",
     "output_type": "stream",
     "text": [
      "R-squared =  0.927526483178\n"
     ]
    }
   ],
   "source": [
    "# Using make_pipeline\n",
    "from sklearn.pipeline import make_pipeline\n",
    "\n",
    "# ANOVA SVM-C\n",
    "# 1) anova filter, take 3 best ranked features\n",
    "anova_filter = SelectKBest(f_regression, k=8)\n",
    "anova_KernelRidge = make_pipeline(scaler, anova_filter, LRR)\n",
    "anova_KernelRidge.fit(new_data, Y)\n",
    "prediction = anova_KernelRidge.predict(new_data)\n",
    "r_squared = r2_score(Y, prediction, multioutput='variance_weighted')\n",
    "print 'R-squared = ',r_squared"
   ]
  },
  {
   "cell_type": "markdown",
   "metadata": {},
   "source": [
    "### Save the Pipeline model for developement"
   ]
  },
  {
   "cell_type": "code",
   "execution_count": 27,
   "metadata": {
    "collapsed": false
   },
   "outputs": [
    {
     "data": {
      "text/plain": [
       "['anova_KernelRidge.pkl',\n",
       " 'anova_KernelRidge.pkl_01.npy',\n",
       " 'anova_KernelRidge.pkl_02.npy',\n",
       " 'anova_KernelRidge.pkl_03.npy',\n",
       " 'anova_KernelRidge.pkl_04.npy',\n",
       " 'anova_KernelRidge.pkl_05.npy',\n",
       " 'anova_KernelRidge.pkl_06.npy',\n",
       " 'anova_KernelRidge.pkl_07.npy']"
      ]
     },
     "execution_count": 27,
     "metadata": {},
     "output_type": "execute_result"
    }
   ],
   "source": [
    "# save the model scaler to the desk\n",
    "from sklearn.externals import joblib\n",
    "joblib.dump(anova_KernelRidge, 'anova_KernelRidge.pkl') "
   ]
  },
  {
   "cell_type": "code",
   "execution_count": 28,
   "metadata": {
    "collapsed": false
   },
   "outputs": [
    {
     "name": "stdout",
     "output_type": "stream",
     "text": [
      " =================================================================>>>>> done\n",
      "R-squared =  0.927526483178\n"
     ]
    }
   ],
   "source": [
    "# Test the model if it is work\n",
    "anova_KernelRidgeTest = joblib.load('anova_KernelRidge.pkl')\n",
    "NewPred = anova_KernelRidgeTest.predict(new_data)\n",
    "print \" =================================================================>>>>> done\"\n",
    "r_squared = r2_score(Y, NewPred, multioutput='variance_weighted')\n",
    "print 'R-squared = ',r_squared"
   ]
  },
  {
   "cell_type": "code",
   "execution_count": 29,
   "metadata": {
    "collapsed": false
   },
   "outputs": [
    {
     "name": "stdout",
     "output_type": "stream",
     "text": [
      "Point of training data before normalization\n",
      "[ 389.9  189.     0.   145.9   22.   944.7  755.8   91. ]\n",
      "\n",
      "The read target of the data =  82.5992248\n",
      "\n",
      "The Predicted target of the data =  [ 81.6845776]\n"
     ]
    }
   ],
   "source": [
    "# test on single data point, randomly choose point number 55\n",
    "print 'Point of training data before normalization\\n',new_data[55]\n",
    "print '\\nThe read target of the data = ', Y[55]\n",
    "NewPred = anova_KernelRidgeTest.predict([new_data[55]])\n",
    "print '\\nThe Predicted target of the data = ', NewPred"
   ]
  },
  {
   "cell_type": "markdown",
   "metadata": {},
   "source": [
    "## Conclusion "
   ]
  }
 ],
 "metadata": {
  "kernelspec": {
   "display_name": "Python 2",
   "language": "python",
   "name": "python2"
  },
  "language_info": {
   "codemirror_mode": {
    "name": "ipython",
    "version": 2
   },
   "file_extension": ".py",
   "mimetype": "text/x-python",
   "name": "python",
   "nbconvert_exporter": "python",
   "pygments_lexer": "ipython2",
   "version": "2.7.12"
  }
 },
 "nbformat": 4,
 "nbformat_minor": 0
}
