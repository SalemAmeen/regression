{
 "cells": [
  {
   "cell_type": "markdown",
   "metadata": {},
   "source": [
    "Salem Ameen, PhD student at Salford University\n",
    "\n",
    "### Concrete Compressive Strength Data Set\n",
    "\n",
    "LASSO Regression"
   ]
  },
  {
   "cell_type": "markdown",
   "metadata": {},
   "source": [
    "# Import the Libraries"
   ]
  },
  {
   "cell_type": "code",
   "execution_count": 1,
   "metadata": {
    "collapsed": false
   },
   "outputs": [
    {
     "data": {
      "text/html": [
       "\n",
       "    <div class=\"bk-root\">\n",
       "        <a href=\"http://bokeh.pydata.org\" target=\"_blank\" class=\"bk-logo bk-logo-small bk-logo-notebook\"></a>\n",
       "        <span id=\"e30b5d1a-f585-4f84-b085-a4e6b13585e0\">Loading BokehJS ...</span>\n",
       "    </div>"
      ]
     },
     "metadata": {},
     "output_type": "display_data"
    },
    {
     "data": {
      "application/javascript": [
       "\n",
       "(function(global) {\n",
       "  function now() {\n",
       "    return new Date();\n",
       "  }\n",
       "\n",
       "  var force = \"1\";\n",
       "\n",
       "  if (typeof (window._bokeh_onload_callbacks) === \"undefined\" || force !== \"\") {\n",
       "    window._bokeh_onload_callbacks = [];\n",
       "    window._bokeh_is_loading = undefined;\n",
       "  }\n",
       "\n",
       "\n",
       "  \n",
       "  if (typeof (window._bokeh_timeout) === \"undefined\" || force !== \"\") {\n",
       "    window._bokeh_timeout = Date.now() + 5000;\n",
       "    window._bokeh_failed_load = false;\n",
       "  }\n",
       "\n",
       "  var NB_LOAD_WARNING = {'data': {'text/html':\n",
       "     \"<div style='background-color: #fdd'>\\n\"+\n",
       "     \"<p>\\n\"+\n",
       "     \"BokehJS does not appear to have successfully loaded. If loading BokehJS from CDN, this \\n\"+\n",
       "     \"may be due to a slow or bad network connection. Possible fixes:\\n\"+\n",
       "     \"</p>\\n\"+\n",
       "     \"<ul>\\n\"+\n",
       "     \"<li>re-rerun `output_notebook()` to attempt to load from CDN again, or</li>\\n\"+\n",
       "     \"<li>use INLINE resources instead, as so:</li>\\n\"+\n",
       "     \"</ul>\\n\"+\n",
       "     \"<code>\\n\"+\n",
       "     \"from bokeh.resources import INLINE\\n\"+\n",
       "     \"output_notebook(resources=INLINE)\\n\"+\n",
       "     \"</code>\\n\"+\n",
       "     \"</div>\"}};\n",
       "\n",
       "  function display_loaded() {\n",
       "    if (window.Bokeh !== undefined) {\n",
       "      Bokeh.$(\"#e30b5d1a-f585-4f84-b085-a4e6b13585e0\").text(\"BokehJS successfully loaded.\");\n",
       "    } else if (Date.now() < window._bokeh_timeout) {\n",
       "      setTimeout(display_loaded, 100)\n",
       "    }\n",
       "  }\n",
       "\n",
       "  function run_callbacks() {\n",
       "    window._bokeh_onload_callbacks.forEach(function(callback) { callback() });\n",
       "    delete window._bokeh_onload_callbacks\n",
       "    console.info(\"Bokeh: all callbacks have finished\");\n",
       "  }\n",
       "\n",
       "  function load_libs(js_urls, callback) {\n",
       "    window._bokeh_onload_callbacks.push(callback);\n",
       "    if (window._bokeh_is_loading > 0) {\n",
       "      console.log(\"Bokeh: BokehJS is being loaded, scheduling callback at\", now());\n",
       "      return null;\n",
       "    }\n",
       "    if (js_urls == null || js_urls.length === 0) {\n",
       "      run_callbacks();\n",
       "      return null;\n",
       "    }\n",
       "    console.log(\"Bokeh: BokehJS not loaded, scheduling load and callback at\", now());\n",
       "    window._bokeh_is_loading = js_urls.length;\n",
       "    for (var i = 0; i < js_urls.length; i++) {\n",
       "      var url = js_urls[i];\n",
       "      var s = document.createElement('script');\n",
       "      s.src = url;\n",
       "      s.async = false;\n",
       "      s.onreadystatechange = s.onload = function() {\n",
       "        window._bokeh_is_loading--;\n",
       "        if (window._bokeh_is_loading === 0) {\n",
       "          console.log(\"Bokeh: all BokehJS libraries loaded\");\n",
       "          run_callbacks()\n",
       "        }\n",
       "      };\n",
       "      s.onerror = function() {\n",
       "        console.warn(\"failed to load library \" + url);\n",
       "      };\n",
       "      console.log(\"Bokeh: injecting script tag for BokehJS library: \", url);\n",
       "      document.getElementsByTagName(\"head\")[0].appendChild(s);\n",
       "    }\n",
       "  };var element = document.getElementById(\"e30b5d1a-f585-4f84-b085-a4e6b13585e0\");\n",
       "  if (element == null) {\n",
       "    console.log(\"Bokeh: ERROR: autoload.js configured with elementid 'e30b5d1a-f585-4f84-b085-a4e6b13585e0' but no matching script tag was found. \")\n",
       "    return false;\n",
       "  }\n",
       "\n",
       "  var js_urls = ['https://cdn.pydata.org/bokeh/release/bokeh-0.12.2.min.js', 'https://cdn.pydata.org/bokeh/release/bokeh-widgets-0.12.2.min.js', 'https://cdn.pydata.org/bokeh/release/bokeh-compiler-0.12.2.min.js'];\n",
       "\n",
       "  var inline_js = [\n",
       "    function(Bokeh) {\n",
       "      Bokeh.set_log_level(\"info\");\n",
       "    },\n",
       "    \n",
       "    function(Bokeh) {\n",
       "      \n",
       "      Bokeh.$(\"#e30b5d1a-f585-4f84-b085-a4e6b13585e0\").text(\"BokehJS is loading...\");\n",
       "    },\n",
       "    function(Bokeh) {\n",
       "      console.log(\"Bokeh: injecting CSS: https://cdn.pydata.org/bokeh/release/bokeh-0.12.2.min.css\");\n",
       "      Bokeh.embed.inject_css(\"https://cdn.pydata.org/bokeh/release/bokeh-0.12.2.min.css\");\n",
       "      console.log(\"Bokeh: injecting CSS: https://cdn.pydata.org/bokeh/release/bokeh-widgets-0.12.2.min.css\");\n",
       "      Bokeh.embed.inject_css(\"https://cdn.pydata.org/bokeh/release/bokeh-widgets-0.12.2.min.css\");\n",
       "    }\n",
       "  ];\n",
       "\n",
       "  function run_inline_js() {\n",
       "    \n",
       "    if ((window.Bokeh !== undefined) || (force === \"1\")) {\n",
       "      for (var i = 0; i < inline_js.length; i++) {\n",
       "        inline_js[i](window.Bokeh);\n",
       "      }if (force === \"1\") {\n",
       "        display_loaded();\n",
       "      }} else if (Date.now() < window._bokeh_timeout) {\n",
       "      setTimeout(run_inline_js, 100);\n",
       "    } else if (!window._bokeh_failed_load) {\n",
       "      console.log(\"Bokeh: BokehJS failed to load within specified timeout.\");\n",
       "      window._bokeh_failed_load = true;\n",
       "    } else if (!force) {\n",
       "      var cell = $(\"#e30b5d1a-f585-4f84-b085-a4e6b13585e0\").parents('.cell').data().cell;\n",
       "      cell.output_area.append_execute_result(NB_LOAD_WARNING)\n",
       "    }\n",
       "\n",
       "  }\n",
       "\n",
       "  if (window._bokeh_is_loading === 0) {\n",
       "    console.log(\"Bokeh: BokehJS loaded, going straight to plotting\");\n",
       "    run_inline_js();\n",
       "  } else {\n",
       "    load_libs(js_urls, function() {\n",
       "      console.log(\"Bokeh: BokehJS plotting callback run at\", now());\n",
       "      run_inline_js();\n",
       "    });\n",
       "  }\n",
       "}(this));"
      ]
     },
     "metadata": {},
     "output_type": "display_data"
    }
   ],
   "source": [
    "import numpy as np\n",
    "import pandas\n",
    "from numpy import *\n",
    "import time\n",
    "import sys\n",
    "import pandas as pd\n",
    "import matplotlib.pyplot as plt\n",
    "from sklearn import feature_selection\n",
    "from sklearn.linear_model import Lasso\n",
    "from sklearn.learning_curve import learning_curve, validation_curve\n",
    "from sklearn.cross_validation import cross_val_predict\n",
    "from sklearn import metrics, grid_search, cross_validation\n",
    "from IPython.display import set_matplotlib_formats\n",
    "from bokeh.plotting import figure, show, output_notebook\n",
    "from sklearn.grid_search import GridSearchCV, RandomizedSearchCV\n",
    "from sklearn.metrics import r2_score\n",
    "from bokeh.layouts import gridplot\n",
    "output_notebook()\n",
    "set_matplotlib_formats('png', 'pdf')\n",
    "%matplotlib inline\n",
    "plt.rcParams['figure.figsize'] = (6, 6)"
   ]
  },
  {
   "cell_type": "markdown",
   "metadata": {},
   "source": [
    "# Load data"
   ]
  },
  {
   "cell_type": "markdown",
   "metadata": {},
   "source": [
    "In the previous file we have not change the data as there is no missing value or add any new parameters so it can be downloaded from the web directly. "
   ]
  },
  {
   "cell_type": "code",
   "execution_count": 2,
   "metadata": {
    "collapsed": false
   },
   "outputs": [
    {
     "name": "stdout",
     "output_type": "stream",
     "text": [
      "Number of examples 1030\n"
     ]
    }
   ],
   "source": [
    "names = ['Cement','BlastFurnace','Fly_Ash','Water','Superplasticizer','CoarseAggregate','Aggregate','day','Concrete']\n",
    "feature_names = names\n",
    "feature_cols = names\n",
    "\n",
    "data = pd.read_excel('Concrete_Data.xls', sep='%s')\n",
    "\n",
    "from sklearn import preprocessing\n",
    "\n",
    "def number_encode_features(df):\n",
    "    result = df.copy()\n",
    "    encoders = {}\n",
    "    for column in result.columns:\n",
    "        if result.dtypes[column] == np.object:\n",
    "            encoders[column] = preprocessing.LabelEncoder()\n",
    "            result[column] = encoders[column].fit_transform(result[column])\n",
    "    return result, encoders\n",
    "\n",
    "data, _ = number_encode_features(data)\n",
    "\n",
    "dataset = data.values\n",
    "X = dataset[:,0:8]\n",
    "Y = dataset[:,8]\n",
    "print 'Number of examples',len(X)"
   ]
  },
  {
   "cell_type": "code",
   "execution_count": 3,
   "metadata": {
    "collapsed": false
   },
   "outputs": [
    {
     "name": "stdout",
     "output_type": "stream",
     "text": [
      "Number of training examples 824\n",
      "Number of validation examples 206\n"
     ]
    }
   ],
   "source": [
    "# Make developement dataset for genrilization and final testing\n",
    "from sklearn.cross_validation import train_test_split\n",
    "# Extracting 20% testing data\n",
    "X_train, X_test, y_train, y_test = train_test_split(\n",
    "    X, Y, test_size=0.20, random_state=0)\n",
    "X = X_train\n",
    "Y = y_train\n",
    "new_data      = X_train\n",
    "new_test_data = X_test\n",
    "print 'Number of training examples',len(X_train)\n",
    "print 'Number of validation examples',len(X_test)"
   ]
  },
  {
   "cell_type": "markdown",
   "metadata": {},
   "source": [
    "Number of training data is very small so we need to use cross validation instead of spareate another validation data."
   ]
  },
  {
   "cell_type": "markdown",
   "metadata": {},
   "source": [
    "From the previous visulization the data has no missing value but has many outlier and some sparisty"
   ]
  },
  {
   "cell_type": "markdown",
   "metadata": {},
   "source": [
    "# Ranking of the feature's importance to the target"
   ]
  },
  {
   "cell_type": "code",
   "execution_count": 4,
   "metadata": {
    "collapsed": false
   },
   "outputs": [
    {
     "name": "stdout",
     "output_type": "stream",
     "text": [
      "Cement \t0.24783709065\n",
      "BlastFurnace \t0.0181771487227\n",
      "Fly_Ash \t0.0111828939323\n",
      "Water \t0.0838680931542\n",
      "Superplasticizer \t0.133930278256\n",
      "CoarseAggregate \t0.0272005923153\n",
      "Aggregate \t0.0279716567715\n",
      "day \t0.108159165327\n",
      "Concrete \t0.999987135671\n"
     ]
    }
   ],
   "source": [
    "# Using just correlation coefficient even in prevoius file we show them using data frame\n",
    "for col in feature_cols:\n",
    "    lm = Lasso(fit_intercept=True)\n",
    "    lm.fit(data[[col]], data['Concrete'])\n",
    "    print col,'\\t', lm.score(data[[col]], data['Concrete'])"
   ]
  },
  {
   "cell_type": "code",
   "execution_count": 5,
   "metadata": {
    "collapsed": false
   },
   "outputs": [
    {
     "name": "stdout",
     "output_type": "stream",
     "text": [
      "Feature Name      Score         Pvalue\n",
      "Cement \t\t338.725793692 \t1.32345794884e-65\n",
      "BlastFurnace \t\t19.0325717427 \t1.41457498978e-05\n",
      "Fly_Ash \t\t11.6269492436 \t0.000675283559617\n",
      "Water \t\t94.1187973071 \t2.3660726996e-21\n",
      "Superplasticizer \t\t159.109321731 \t5.07908923638e-34\n",
      "CoarseAggregate \t\t28.7447095672 \t1.01959722248e-07\n",
      "Aggregate \t\t29.5829376115 \t6.69468148289e-08\n",
      "day \t\t124.673209261 \t2.10314421454e-27\n",
      "Concrete \t\t-2.31485020847e+18 \t1.0\n"
     ]
    }
   ],
   "source": [
    "# Randing the important features to the target\n",
    "model = feature_selection.SelectKBest(score_func=feature_selection.f_regression,k=4)\n",
    "results = model.fit(data[feature_cols], data['Concrete'])\n",
    "k=0\n",
    "print 'Feature Name      Score         Pvalue'\n",
    "for feat in feature_cols:\n",
    "    print feat,'\\t\\t',results.scores_[k],'\\t',results.pvalues_[k]\n",
    "    k=k+1\n"
   ]
  },
  {
   "cell_type": "markdown",
   "metadata": {},
   "source": [
    "# Set the parameters for cross validation"
   ]
  },
  {
   "cell_type": "code",
   "execution_count": 6,
   "metadata": {
    "collapsed": true
   },
   "outputs": [],
   "source": [
    "num_folds = 10\n",
    "num_instances = len(X)\n",
    "seed = 7\n",
    "kfold = cross_validation.KFold(n=num_instances, n_folds=num_folds, random_state=seed)"
   ]
  },
  {
   "cell_type": "markdown",
   "metadata": {},
   "source": [
    " # Set the parameters for bias-variance dilemma"
   ]
  },
  {
   "cell_type": "code",
   "execution_count": 7,
   "metadata": {
    "collapsed": false
   },
   "outputs": [],
   "source": [
    "def plot_learning_curve(estimator, title, X, y, ylim=None, cv=None,\n",
    "                        n_jobs=1, train_sizes=np.linspace(.1, 1.0, 5)):\n",
    "    plt.figure()\n",
    "    plt.title(title)\n",
    "    if ylim is not None:\n",
    "        plt.ylim(*ylim)\n",
    "    plt.xlabel(\"Training examples\")\n",
    "    plt.ylabel(\"Score\")\n",
    "    train_sizes, train_scores, test_scores = learning_curve(\n",
    "        estimator, X, y, cv=cv, n_jobs=n_jobs, train_sizes=train_sizes)\n",
    "    train_scores_mean = np.mean(train_scores, axis=1)\n",
    "    train_scores_std = np.std(train_scores, axis=1)\n",
    "    test_scores_mean = np.mean(test_scores, axis=1)\n",
    "    test_scores_std = np.std(test_scores, axis=1)\n",
    "    plt.grid()\n",
    "\n",
    "    plt.fill_between(train_sizes, train_scores_mean - train_scores_std,\n",
    "                     train_scores_mean + train_scores_std, alpha=0.1,\n",
    "                     color=\"r\")\n",
    "    plt.fill_between(train_sizes, test_scores_mean - test_scores_std,\n",
    "                     test_scores_mean + test_scores_std, alpha=0.1, color=\"g\")\n",
    "    plt.plot(train_sizes, train_scores_mean, 'o-', color=\"r\",\n",
    "             label=\"Training score\")\n",
    "    plt.plot(train_sizes, test_scores_mean, 'o-', color=\"g\",\n",
    "             label=\"Cross-validation score\")\n",
    "\n",
    "    plt.legend(loc=\"best\")\n",
    "    return plt"
   ]
  },
  {
   "cell_type": "markdown",
   "metadata": {},
   "source": [
    "# Preprocessing the data and save both the model and preprocessed data"
   ]
  },
  {
   "cell_type": "code",
   "execution_count": 8,
   "metadata": {
    "collapsed": false
   },
   "outputs": [],
   "source": [
    "# According to the nature of the data spasity and there is outliter RobustScaler class is recomandit \n",
    "# but when I tried both of them the result seems is same\n",
    "from sklearn.preprocessing import StandardScaler\n",
    "scaler = preprocessing.StandardScaler().fit(X_train)"
   ]
  },
  {
   "cell_type": "code",
   "execution_count": 9,
   "metadata": {
    "collapsed": false
   },
   "outputs": [],
   "source": [
    "X_train = scaler.transform(X_train)\n",
    "X_test = scaler.transform(X_test) # use same transform for testing data\n",
    "X = X_train"
   ]
  },
  {
   "cell_type": "code",
   "execution_count": 10,
   "metadata": {
    "collapsed": true
   },
   "outputs": [],
   "source": [
    "# save transformed data\n",
    "np.save('./data/X_train', X_train)\n",
    "np.save('./data/y_train', y_train)\n",
    "np.save('./data/X_test', X_test)\n",
    "np.save('./data/y_test', y_test)"
   ]
  },
  {
   "cell_type": "code",
   "execution_count": 11,
   "metadata": {
    "collapsed": false
   },
   "outputs": [
    {
     "data": {
      "text/plain": [
       "['scaler.pkl', 'scaler.pkl_01.npy', 'scaler.pkl_02.npy', 'scaler.pkl_03.npy']"
      ]
     },
     "execution_count": 11,
     "metadata": {},
     "output_type": "execute_result"
    }
   ],
   "source": [
    "# save the model scaler to the desk\n",
    "from sklearn.externals import joblib\n",
    "joblib.dump(scaler, 'scaler.pkl') "
   ]
  },
  {
   "cell_type": "code",
   "execution_count": 12,
   "metadata": {
    "collapsed": false
   },
   "outputs": [
    {
     "name": "stdout",
     "output_type": "stream",
     "text": [
      " =================================================================>>>>> done\n",
      "[[ 2.10991518 -0.88106119 -0.84617062 ...,  1.97132825 -1.97556016\n",
      "  -0.69267849]\n",
      " [-1.49852146  1.2030767  -0.84617062 ..., -0.17456898  0.33209718\n",
      "  -0.62793264]\n",
      " [ 0.79619183  1.26087498 -0.84617062 ..., -0.34824772 -0.21429096\n",
      "   0.7317303 ]\n",
      " ..., \n",
      " [-1.01146856 -0.31384476  1.84556404 ...,  0.4429554   0.25069398\n",
      "  -0.51462739]\n",
      " [-0.16567549  0.37690132  0.48783031 ..., -0.98764276 -0.495502   -0.2880169 ]\n",
      " [-0.28041116 -0.88106119  0.63813809 ..., -0.19180821  1.08532344\n",
      "  -0.69267849]]\n"
     ]
    }
   ],
   "source": [
    "# Test the model if it is work\n",
    "scalerTest = joblib.load('scaler.pkl')\n",
    "new_data_scaled = scalerTest.transform(new_test_data)\n",
    "print \" =================================================================>>>>> done\"\n",
    "print new_data_scaled"
   ]
  },
  {
   "cell_type": "markdown",
   "metadata": {},
   "source": [
    "# 1. LASSO Regression"
   ]
  },
  {
   "cell_type": "markdown",
   "metadata": {},
   "source": [
    "The Least Absolute Shrinkage and Selection Operator (or LASSO for short) is a modification of linear regression, like Lasso regression, where the loss function is modified to minimize the complexity of the model measured as the sum absolute value of the coefficient values (also called the l1-norm)."
   ]
  },
  {
   "cell_type": "markdown",
   "metadata": {},
   "source": [
    "## Validation curve"
   ]
  },
  {
   "cell_type": "markdown",
   "metadata": {},
   "source": [
    "choosing multiple hyperparameters of an estimator "
   ]
  },
  {
   "cell_type": "code",
   "execution_count": 13,
   "metadata": {
    "collapsed": false
   },
   "outputs": [
    {
     "data": {
      "text/plain": [
       "['normalize',\n",
       " 'warm_start',\n",
       " 'selection',\n",
       " 'fit_intercept',\n",
       " 'positive',\n",
       " 'max_iter',\n",
       " 'precompute',\n",
       " 'random_state',\n",
       " 'tol',\n",
       " 'copy_X',\n",
       " 'alpha']"
      ]
     },
     "execution_count": 13,
     "metadata": {},
     "output_type": "execute_result"
    }
   ],
   "source": [
    "from sklearn.linear_model import Lasso,LassoCV\n",
    "estimator = Lasso()\n",
    "estimator.get_params().keys()"
   ]
  },
  {
   "cell_type": "code",
   "execution_count": 14,
   "metadata": {
    "collapsed": false
   },
   "outputs": [
    {
     "data": {
      "image/png": "[encoded data removed]",
      "text/plain": [
       "<matplotlib.figure.Figure at 0x7f06f5489850>"
      ]
     },
     "metadata": {},
     "output_type": "display_data"
    }
   ],
   "source": [
    "# For parametr alpha\n",
    "#param_range = np.logspace(-10.0, 10.0)\n",
    "#param_range = np.logspace(-7, 7, 3)\n",
    "param_range = np.linspace(1,5.0,10)\n",
    "\n",
    "train_scores, test_scores = validation_curve(\n",
    "    Lasso(), X, Y, param_name=\"alpha\", param_range=param_range,\n",
    "    cv=num_folds,  n_jobs=-1)\n",
    "train_scores_mean = np.mean(train_scores, axis=1)\n",
    "train_scores_std = np.std(train_scores, axis=1)\n",
    "test_scores_mean = np.mean(test_scores, axis=1)\n",
    "test_scores_std = np.std(test_scores, axis=1)\n",
    "\n",
    "plt.title(\"Validation Curve with Lasso\")\n",
    "plt.xlabel(\"alpha\")\n",
    "plt.ylabel(\"Score\")\n",
    "plt.ylim(0.4, 1.0)\n",
    "plt.plot(param_range, train_scores_mean, label=\"Training score\", color=\"r\")\n",
    "plt.fill_between(param_range, train_scores_mean - train_scores_std,\n",
    "                 train_scores_mean + train_scores_std, alpha=0.2, color=\"r\")\n",
    "plt.plot(param_range, test_scores_mean, label=\"Cross-validation score\",\n",
    "             color=\"g\")\n",
    "plt.fill_between(param_range, test_scores_mean - test_scores_std,\n",
    "                 test_scores_mean + test_scores_std, alpha=0.2, color=\"g\")\n",
    "plt.legend(loc=\"best\")\n",
    "plt.show()"
   ]
  },
  {
   "cell_type": "markdown",
   "metadata": {},
   "source": [
    "It looks alpha between 1 and 2 works well"
   ]
  },
  {
   "cell_type": "markdown",
   "metadata": {},
   "source": [
    "## Grid search and/or Random search to determine best compination of parameters"
   ]
  },
  {
   "cell_type": "code",
   "execution_count": 15,
   "metadata": {
    "collapsed": false
   },
   "outputs": [
    {
     "name": "stdout",
     "output_type": "stream",
     "text": [
      "Hyperparameter optimization using GridSearchCV...\n",
      "Parameters with rank: 1\n",
      "Mean validation score: 0.5491 (std: 0.0452)\n",
      "Parameters: {'precompute': False, 'alpha': 1.0}\n",
      "\n",
      "Parameters with rank: 2\n",
      "Mean validation score: 0.5491 (std: 0.0452)\n",
      "Parameters: {'precompute': True, 'alpha': 1.0}\n",
      "\n",
      "Parameters with rank: 3\n",
      "Mean validation score: 0.5213 (std: 0.0412)\n",
      "Parameters: {'precompute': False, 'alpha': 1.5}\n",
      "\n",
      "Parameters with rank: 4\n",
      "Mean validation score: 0.5213 (std: 0.0412)\n",
      "Parameters: {'precompute': True, 'alpha': 1.5}\n",
      "\n",
      "Parameters with rank: 5\n",
      "Mean validation score: 0.4875 (std: 0.0386)\n",
      "Parameters: {'precompute': True, 'alpha': 2.0}\n",
      "\n",
      "+++++++++++++++++++++++++++++++++++++++++++++++\n",
      "Hyperparameter optimization using RandomizedSearchCV\n",
      "Parameters with rank: 1\n",
      "Mean validation score: 0.4993 (std: 0.0392)\n",
      "Parameters: {'precompute': False, 'alpha': 1.8421052631578947}\n",
      "\n",
      "Parameters with rank: 2\n",
      "Mean validation score: 0.4301 (std: 0.0375)\n",
      "Parameters: {'precompute': False, 'alpha': 2.6315789473684208}\n",
      "\n",
      "Parameters with rank: 3\n",
      "Mean validation score: 0.3086 (std: 0.0394)\n",
      "Parameters: {'precompute': True, 'alpha': 3.6842105263157894}\n",
      "\n",
      "Parameters with rank: 4\n",
      "Mean validation score: 0.2841 (std: 0.0364)\n",
      "Parameters: {'precompute': True, 'alpha': 3.9473684210526314}\n",
      "\n",
      "Parameters with rank: 5\n",
      "Mean validation score: 0.1805 (std: 0.0317)\n",
      "Parameters: {'precompute': False, 'alpha': 5.0}\n",
      "\n"
     ]
    }
   ],
   "source": [
    "# Utility function to report optimal parameters\n",
    "from operator import itemgetter\n",
    "def report(grid_scores, n_top=5):\n",
    "    params = None\n",
    "    top_scores = sorted(grid_scores, key=itemgetter(1), reverse=True)[:n_top]\n",
    "    for i, score in enumerate(top_scores):\n",
    "        print(\"Parameters with rank: {0}\".format(i + 1))\n",
    "        print(\"Mean validation score: {0:.4f} (std: {1:.4f})\".format(\n",
    "              score.mean_validation_score, np.std(score.cv_validation_scores)))\n",
    "        print(\"Parameters: {0}\".format(score.parameters))\n",
    "        print(\"\")\n",
    "        \n",
    "        if params == None:\n",
    "            params = score.parameters\n",
    "    \n",
    "    return params\n",
    "\n",
    "# The most common value for the max number of features to look at in each split is sqrt(# of features)\n",
    "sqrtfeat = np.sqrt(X.shape[1]) \n",
    "# Simple grid test (162 combinations)\n",
    "grid_test1 = { \"alpha\"      : [1.0, 1.5, 2.0, 2.5],\n",
    "               \"precompute\"         : [False, True] }\n",
    "\n",
    "# Large randomized test using max_depth to control tree size (5000 possible combinations)\n",
    "random_test1 = { \"alpha\"          : np.linspace(0,5.0,20),\n",
    "                 \"precompute\"         : [False, True] }\n",
    "\n",
    "\n",
    "forest = Lasso()\n",
    "\n",
    "print \"Hyperparameter optimization using GridSearchCV...\"\n",
    "grid_search = GridSearchCV(forest, grid_test1, n_jobs=-1, cv=num_folds)\n",
    "grid_search.fit(X, Y)\n",
    "best_params_from_grid_search = report(grid_search.grid_scores_)\n",
    "print '+++++++++++++++++++++++++++++++++++++++++++++++'\n",
    "print \"Hyperparameter optimization using RandomizedSearchCV\"\n",
    "grid_search = RandomizedSearchCV(forest, random_test1, n_jobs=-1, cv=num_folds, n_iter=5)\n",
    "grid_search.fit(X, Y)\n",
    "best_params_from_rand_search1 = report(grid_search.grid_scores_)"
   ]
  },
  {
   "cell_type": "markdown",
   "metadata": {},
   "source": [
    "Best parameters Parameters: {'precompute': False, 'alpha': 0.26315789473684209}\n"
   ]
  },
  {
   "cell_type": "markdown",
   "metadata": {},
   "source": [
    "## Learning Curve "
   ]
  },
  {
   "cell_type": "markdown",
   "metadata": {},
   "source": [
    "In essence, what we’re doing it training the exact same model with increasingly large fractions of our total training data, and plotting the error of the training and test sets at each step."
   ]
  },
  {
   "cell_type": "code",
   "execution_count": 16,
   "metadata": {
    "collapsed": false
   },
   "outputs": [
    {
     "data": {
      "image/png": "[encoded data removed]",
      "text/plain": [
       "<matplotlib.figure.Figure at 0x7f072c4f13d0>"
      ]
     },
     "metadata": {},
     "output_type": "display_data"
    }
   ],
   "source": [
    "from sklearn.linear_model import Lasso,LassoCV\n",
    "# 'alpha': 10.0, 'solver': 'lsqr'\n",
    "model = Lasso(alpha = 0.26315789473684209, precompute = False)\n",
    "title = \"Learning Curves (Lasso Refression)\"\n",
    "cv = cross_validation.ShuffleSplit(X.shape[0], n_iter=100,\n",
    "                                   test_size=0.2, random_state=0)\n",
    "plot_learning_curve(model, title, X, Y, ylim=(0.2, 1.01), cv=cv, n_jobs=-1)\n",
    "plt.show()"
   ]
  },
  {
   "cell_type": "code",
   "execution_count": 17,
   "metadata": {
    "collapsed": false
   },
   "outputs": [
    {
     "name": "stdout",
     "output_type": "stream",
     "text": [
      "train_sizes =  [ 50  80 110]\n",
      " training scores\n",
      " 50 training sizees\n",
      "0.667814491391 ± 0.0998294375901\n",
      " 80 training sizees\n",
      "0.636627278125 ± 0.0670358472913\n",
      " 110 training sizees\n",
      "0.629757431236 ± 0.0543822488852\n",
      "\n",
      " validation scores\n",
      " 50 validation scores\n",
      "0.437776858373 ± 0.218381569272\n",
      " 80 validation scores\n",
      "0.530306878941 ± 0.0717431159109\n",
      " 110 validation scores\n",
      "0.548478685264 ± 0.0741971146378\n"
     ]
    }
   ],
   "source": [
    "# More data from learning curve to show the process of building the model\n",
    "train_sizes, train_scores, valid_scores = learning_curve(\n",
    "     model, X, Y, train_sizes=[50, 80, 110], cv=cv, n_jobs=4)\n",
    "\n",
    "print 'train_sizes = ', train_sizes\n",
    "\n",
    "print ' training scores'\n",
    "print ' 50 training sizees'\n",
    "print train_scores[0].mean(),'±',train_scores[0].std()\n",
    "print ' 80 training sizees'\n",
    "print train_scores[1].mean(),'±',train_scores[1].std()\n",
    "print ' 110 training sizees'\n",
    "print train_scores[2].mean(),'±',train_scores[2].std()\n",
    "\n",
    "print '\\n validation scores'\n",
    "print ' 50 validation scores'\n",
    "print valid_scores[0].mean(),'±',valid_scores[0].std()\n",
    "print ' 80 validation scores'\n",
    "print valid_scores[1].mean(),'±',valid_scores[1].std()\n",
    "print ' 110 validation scores'\n",
    "print valid_scores[2].mean(),'±',valid_scores[2].std()"
   ]
  },
  {
   "cell_type": "markdown",
   "metadata": {},
   "source": [
    "## Cross validation"
   ]
  },
  {
   "cell_type": "code",
   "execution_count": 18,
   "metadata": {
    "collapsed": false
   },
   "outputs": [
    {
     "name": "stdout",
     "output_type": "stream",
     "text": [
      "Scoring according to mean_squared_error\n",
      "[-100.65582368 -109.66945607  -94.67935216 -130.25482966 -145.02927361\n",
      "  -90.26127183 -125.45927476 -102.23256031 -128.85820869 -114.64565875]\n",
      "\n",
      " Mean      Standard deviation\n",
      "-114.17      16.89\n",
      "\n",
      " print intercept and coefficients\n",
      "36.100692614\n",
      "[ 9.77022556  6.81803326  3.3156265  -4.40760539  1.93408394  0.         -0.0981691\n",
      "  6.67128559]\n",
      "\n",
      "(feature, coefficients)\n",
      "[('Cement', 9.7702255572941166), ('BlastFurnace', 6.8180332635890757), ('Fly_Ash', 3.3156264976703809), ('Water', -4.4076053870066314), ('Superplasticizer', 1.9340839400146992), ('CoarseAggregate', 0.0), ('Aggregate', -0.098169095338916407), ('day', 6.6712855876929202)]\n"
     ]
    }
   ],
   "source": [
    "scoring = 'mean_squared_error'\n",
    "results = cross_validation.cross_val_score(model, X, Y, cv=kfold, scoring=scoring)\n",
    "print 'Scoring according to mean_squared_error'\n",
    "print results\n",
    "print '\\n Mean      Standard deviation'\n",
    "print(\"%.2f      %.2f\" % (results.mean(), results.std()))\n",
    "## Fit the model\n",
    "model.fit(X,Y)\n",
    "print '\\n print intercept and coefficients'\n",
    "print model.intercept_\n",
    "print model.coef_\n",
    "# pair the feature names with the coefficients\n",
    "print '\\n(feature, coefficients)'\n",
    "print zip(feature_cols, model.coef_)\n",
    "# Linear qu. of the model\n",
    "\n"
   ]
  },
  {
   "cell_type": "markdown",
   "metadata": {},
   "source": [
    "To be more precise these valrible is not the input feature as descripe on the dataset, those varibles in scaled virsion on the orginal onces. So, to be more correct I should assign to them another varibles but for easy to unserstand I kept them as they were."
   ]
  },
  {
   "cell_type": "markdown",
   "metadata": {},
   "source": [
    "## Coefficients Of Determination {Calculating R^2}\n",
    "\n",
    "R^2, Close to one is better"
   ]
  },
  {
   "cell_type": "code",
   "execution_count": 19,
   "metadata": {
    "collapsed": false
   },
   "outputs": [
    {
     "name": "stdout",
     "output_type": "stream",
     "text": [
      "R-squared =  0.595597696446\n"
     ]
    }
   ],
   "source": [
    "predicted = cross_val_predict(model, X, Y, cv=kfold)\n",
    "r_squared = r2_score(Y, predicted, multioutput='variance_weighted')\n",
    "print 'R-squared = ',r_squared"
   ]
  },
  {
   "cell_type": "markdown",
   "metadata": {},
   "source": [
    "## Residual Plot"
   ]
  },
  {
   "cell_type": "code",
   "execution_count": 20,
   "metadata": {
    "collapsed": false
   },
   "outputs": [
    {
     "data": {
      "image/png": "[encoded data removed]",
      "text/plain": [
       "<matplotlib.figure.Figure at 0x7f06f11701d0>"
      ]
     },
     "metadata": {},
     "output_type": "display_data"
    }
   ],
   "source": [
    "predicted = cross_val_predict(model, X, Y, cv=kfold)\n",
    "fig, ax = plt.subplots()\n",
    "ax.scatter(Y, predicted)\n",
    "ax.plot([Y.min(), Y.max()], [Y.min(), Y.max()], 'k--', lw=4)\n",
    "ax.set_xlabel('Measured')\n",
    "ax.set_ylabel('Predicted')\n",
    "plt.show()"
   ]
  },
  {
   "cell_type": "code",
   "execution_count": 21,
   "metadata": {
    "collapsed": false
   },
   "outputs": [
    {
     "data": {
      "text/html": [
       "\n",
       "\n",
       "    <div class=\"bk-root\">\n",
       "        <div class=\"plotdiv\" id=\"80917803-c8dd-41f6-a267-23c8996d3d4b\"></div>\n",
       "    </div>\n",
       "<script type=\"text/javascript\">\n",
       "  \n",
       "  (function(global) {\n",
       "    function now() {\n",
       "      return new Date();\n",
       "    }\n",
       "  \n",
       "    var force = \"\";\n",
       "  \n",
       "    if (typeof (window._bokeh_onload_callbacks) === \"undefined\" || force !== \"\") {\n",
       "      window._bokeh_onload_callbacks = [];\n",
       "      window._bokeh_is_loading = undefined;\n",
       "    }\n",
       "  \n",
       "  \n",
       "    \n",
       "    if (typeof (window._bokeh_timeout) === \"undefined\" || force !== \"\") {\n",
       "      window._bokeh_timeout = Date.now() + 0;\n",
       "      window._bokeh_failed_load = false;\n",
       "    }\n",
       "  \n",
       "    var NB_LOAD_WARNING = {'data': {'text/html':\n",
       "       \"<div style='background-color: #fdd'>\\n\"+\n",
       "       \"<p>\\n\"+\n",
       "       \"BokehJS does not appear to have successfully loaded. If loading BokehJS from CDN, this \\n\"+\n",
       "       \"may be due to a slow or bad network connection. Possible fixes:\\n\"+\n",
       "       \"</p>\\n\"+\n",
       "       \"<ul>\\n\"+\n",
       "       \"<li>re-rerun `output_notebook()` to attempt to load from CDN again, or</li>\\n\"+\n",
       "       \"<li>use INLINE resources instead, as so:</li>\\n\"+\n",
       "       \"</ul>\\n\"+\n",
       "       \"<code>\\n\"+\n",
       "       \"from bokeh.resources import INLINE\\n\"+\n",
       "       \"output_notebook(resources=INLINE)\\n\"+\n",
       "       \"</code>\\n\"+\n",
       "       \"</div>\"}};\n",
       "  \n",
       "    function display_loaded() {\n",
       "      if (window.Bokeh !== undefined) {\n",
       "        Bokeh.$(\"#80917803-c8dd-41f6-a267-23c8996d3d4b\").text(\"BokehJS successfully loaded.\");\n",
       "      } else if (Date.now() < window._bokeh_timeout) {\n",
       "        setTimeout(display_loaded, 100)\n",
       "      }\n",
       "    }\n",
       "  \n",
       "    function run_callbacks() {\n",
       "      window._bokeh_onload_callbacks.forEach(function(callback) { callback() });\n",
       "      delete window._bokeh_onload_callbacks\n",
       "      console.info(\"Bokeh: all callbacks have finished\");\n",
       "    }\n",
       "  \n",
       "    function load_libs(js_urls, callback) {\n",
       "      window._bokeh_onload_callbacks.push(callback);\n",
       "      if (window._bokeh_is_loading > 0) {\n",
       "        console.log(\"Bokeh: BokehJS is being loaded, scheduling callback at\", now());\n",
       "        return null;\n",
       "      }\n",
       "      if (js_urls == null || js_urls.length === 0) {\n",
       "        run_callbacks();\n",
       "        return null;\n",
       "      }\n",
       "      console.log(\"Bokeh: BokehJS not loaded, scheduling load and callback at\", now());\n",
       "      window._bokeh_is_loading = js_urls.length;\n",
       "      for (var i = 0; i < js_urls.length; i++) {\n",
       "        var url = js_urls[i];\n",
       "        var s = document.createElement('script');\n",
       "        s.src = url;\n",
       "        s.async = false;\n",
       "        s.onreadystatechange = s.onload = function() {\n",
       "          window._bokeh_is_loading--;\n",
       "          if (window._bokeh_is_loading === 0) {\n",
       "            console.log(\"Bokeh: all BokehJS libraries loaded\");\n",
       "            run_callbacks()\n",
       "          }\n",
       "        };\n",
       "        s.onerror = function() {\n",
       "          console.warn(\"failed to load library \" + url);\n",
       "        };\n",
       "        console.log(\"Bokeh: injecting script tag for BokehJS library: \", url);\n",
       "        document.getElementsByTagName(\"head\")[0].appendChild(s);\n",
       "      }\n",
       "    };var element = document.getElementById(\"80917803-c8dd-41f6-a267-23c8996d3d4b\");\n",
       "    if (element == null) {\n",
       "      console.log(\"Bokeh: ERROR: autoload.js configured with elementid '80917803-c8dd-41f6-a267-23c8996d3d4b' but no matching script tag was found. \")\n",
       "      return false;\n",
       "    }\n",
       "  \n",
       "    var js_urls = [];\n",
       "  \n",
       "    var inline_js = [\n",
       "      function(Bokeh) {\n",
       "        Bokeh.$(function() {\n",
       "            var docs_json = {\"7f2b7b8c-9d5a-4338-9b58-f074ecba1194\":{\"roots\":{\"references\":[{\"attributes\":{\"callback\":null,\"overlay\":{\"id\":\"6faf12f8-4c77-4c37-8e57-3313e240507d\",\"type\":\"BoxAnnotation\"},\"plot\":{\"id\":\"dffcc769-0219-46cc-b2e4-a7c4bc39a5ad\",\"subtype\":\"Figure\",\"type\":\"Plot\"},\"renderers\":[{\"id\":\"a59fe792-c7e1-4625-af9e-188712a4b3d0\",\"type\":\"GlyphRenderer\"},{\"id\":\"5b51d24b-39a6-4142-9db6-852cfc62a3bd\",\"type\":\"GlyphRenderer\"}]},\"id\":\"dc1ab360-7ebb-4fae-a91b-f9a139b52137\",\"type\":\"BoxSelectTool\"},{\"attributes\":{\"fill_color\":{\"value\":\"#80B1D3\"},\"line_color\":{\"value\":\"#80B1D3\"},\"line_width\":{\"value\":3},\"x\":{\"field\":\"x\"},\"y\":{\"field\":\"y\"}},\"id\":\"40be2fc8-f635-4e31-adbc-fc8a5ac1402e\",\"type\":\"Circle\"},{\"attributes\":{\"line_dash\":[4,4],\"line_width\":{\"value\":2},\"x\":{\"field\":\"x\"},\"y\":{\"field\":\"y\"}},\"id\":\"86db5f92-c554-45f0-bb3a-41931e7ea6de\",\"type\":\"Line\"},{\"attributes\":{\"plot\":{\"id\":\"dffcc769-0219-46cc-b2e4-a7c4bc39a5ad\",\"subtype\":\"Figure\",\"type\":\"Plot\"}},\"id\":\"5c4eb7b4-01e0-49fc-80a8-01f4c1c2e10e\",\"type\":\"WheelZoomTool\"},{\"attributes\":{\"callback\":null},\"id\":\"4615246f-3c28-4187-9417-053fd6c33367\",\"type\":\"DataRange1d\"},{\"attributes\":{\"callback\":null,\"overlay\":{\"id\":\"afa04361-f0c6-4fae-9d98-91083f93ca86\",\"type\":\"PolyAnnotation\"},\"plot\":{\"id\":\"dffcc769-0219-46cc-b2e4-a7c4bc39a5ad\",\"subtype\":\"Figure\",\"type\":\"Plot\"}},\"id\":\"ddcdc5b1-6198-44f0-b382-ff8bf6b2ebf5\",\"type\":\"LassoSelectTool\"},{\"attributes\":{\"plot\":{\"id\":\"dffcc769-0219-46cc-b2e4-a7c4bc39a5ad\",\"subtype\":\"Figure\",\"type\":\"Plot\"}},\"id\":\"fa49d572-66e9-4e77-a95c-7f1c4f78e1b7\",\"type\":\"ResizeTool\"},{\"attributes\":{\"axis_label\":\"Predicted\",\"axis_label_text_color\":{\"value\":\"#aa6666\"},\"formatter\":{\"id\":\"7abcd5f8-640e-4f96-b1fe-6e503c539714\",\"type\":\"BasicTickFormatter\"},\"plot\":{\"id\":\"dffcc769-0219-46cc-b2e4-a7c4bc39a5ad\",\"subtype\":\"Figure\",\"type\":\"Plot\"},\"ticker\":{\"id\":\"33e63608-f795-4976-a70e-c1686e84a8ec\",\"type\":\"BasicTicker\"}},\"id\":\"b52af3ec-53cc-44f7-9c69-f402464d8753\",\"type\":\"LinearAxis\"},{\"attributes\":{},\"id\":\"965bf01f-ca0b-4f7e-b3f5-312f30197576\",\"type\":\"ToolEvents\"},{\"attributes\":{\"bottom_units\":\"screen\",\"fill_alpha\":{\"value\":0.5},\"fill_color\":{\"value\":\"lightgrey\"},\"left_units\":\"screen\",\"level\":\"overlay\",\"line_alpha\":{\"value\":1.0},\"line_color\":{\"value\":\"black\"},\"line_dash\":[4,4],\"line_width\":{\"value\":2},\"plot\":null,\"render_mode\":\"css\",\"right_units\":\"screen\",\"top_units\":\"screen\"},\"id\":\"6faf12f8-4c77-4c37-8e57-3313e240507d\",\"type\":\"BoxAnnotation\"},{\"attributes\":{\"plot\":{\"id\":\"dffcc769-0219-46cc-b2e4-a7c4bc39a5ad\",\"subtype\":\"Figure\",\"type\":\"Plot\"}},\"id\":\"8d3b0ee2-385c-47ef-a940-821f126e875c\",\"type\":\"SaveTool\"},{\"attributes\":{\"overlay\":{\"id\":\"ccfef100-01de-43d2-9e8c-da8848014739\",\"type\":\"PolyAnnotation\"},\"plot\":{\"id\":\"dffcc769-0219-46cc-b2e4-a7c4bc39a5ad\",\"subtype\":\"Figure\",\"type\":\"Plot\"}},\"id\":\"df63e26e-4733-4e71-ae79-b684c2ffc08a\",\"type\":\"PolySelectTool\"},{\"attributes\":{\"fill_alpha\":{\"value\":0.5},\"fill_color\":{\"value\":\"lightgrey\"},\"level\":\"overlay\",\"line_alpha\":{\"value\":1.0},\"line_color\":{\"value\":\"black\"},\"line_dash\":[4,4],\"line_width\":{\"value\":2},\"plot\":null,\"xs_units\":\"screen\",\"ys_units\":\"screen\"},\"id\":\"ccfef100-01de-43d2-9e8c-da8848014739\",\"type\":\"PolyAnnotation\"},{\"attributes\":{},\"id\":\"7abcd5f8-640e-4f96-b1fe-6e503c539714\",\"type\":\"BasicTickFormatter\"},{\"attributes\":{\"plot\":{\"id\":\"dffcc769-0219-46cc-b2e4-a7c4bc39a5ad\",\"subtype\":\"Figure\",\"type\":\"Plot\"}},\"id\":\"56e07e09-7e37-420c-832e-5d0fb834d314\",\"type\":\"CrosshairTool\"},{\"attributes\":{\"line_alpha\":{\"value\":0.1},\"line_color\":{\"value\":\"#1f77b4\"},\"line_dash\":[4,4],\"line_width\":{\"value\":2},\"x\":{\"field\":\"x\"},\"y\":{\"field\":\"y\"}},\"id\":\"572d71f5-b012-45d3-8f62-6367fdf45921\",\"type\":\"Line\"},{\"attributes\":{\"axis_label\":\"Measured\",\"axis_label_text_color\":{\"value\":\"#aa6666\"},\"formatter\":{\"id\":\"cb604113-8bb9-499e-83ca-3db7247d854f\",\"type\":\"BasicTickFormatter\"},\"major_tick_line_color\":{\"value\":\"firebrick\"},\"major_tick_line_width\":{\"value\":3},\"minor_tick_line_color\":{\"value\":\"orange\"},\"plot\":{\"id\":\"dffcc769-0219-46cc-b2e4-a7c4bc39a5ad\",\"subtype\":\"Figure\",\"type\":\"Plot\"},\"ticker\":{\"id\":\"5ae17337-9161-44e3-b23b-fda51336feaa\",\"type\":\"BasicTicker\"}},\"id\":\"b9212530-34d0-4fdc-b098-7e4dc4141ed9\",\"type\":\"LinearAxis\"},{\"attributes\":{\"callback\":null,\"column_names\":[\"y\",\"x\"],\"data\":{\"x\":[2.331807832,82.5992248],\"y\":[2.331807832,82.5992248]}},\"id\":\"cd93bbfe-4c1f-46a0-af86-476c5a003b8c\",\"type\":\"ColumnDataSource\"},{\"attributes\":{\"plot\":{\"id\":\"dffcc769-0219-46cc-b2e4-a7c4bc39a5ad\",\"subtype\":\"Figure\",\"type\":\"Plot\"}},\"id\":\"a084504e-c165-4cbc-8727-5d81715bc30b\",\"type\":\"ResetTool\"},{\"attributes\":{\"plot\":{\"id\":\"dffcc769-0219-46cc-b2e4-a7c4bc39a5ad\",\"subtype\":\"Figure\",\"type\":\"Plot\"},\"ticker\":{\"id\":\"5ae17337-9161-44e3-b23b-fda51336feaa\",\"type\":\"BasicTicker\"}},\"id\":\"564705af-ce98-47e5-8a04-2702903b1d04\",\"type\":\"Grid\"},{\"attributes\":{\"bottom_units\":\"screen\",\"fill_alpha\":{\"value\":0.5},\"fill_color\":{\"value\":\"lightgrey\"},\"left_units\":\"screen\",\"level\":\"overlay\",\"line_alpha\":{\"value\":1.0},\"line_color\":{\"value\":\"black\"},\"line_dash\":[4,4],\"line_width\":{\"value\":2},\"plot\":null,\"render_mode\":\"css\",\"right_units\":\"screen\",\"top_units\":\"screen\"},\"id\":\"4397484a-19bf-4b6a-afcb-1cd9c8c8026a\",\"type\":\"BoxAnnotation\"},{\"attributes\":{\"align\":\"center\",\"plot\":null,\"text\":null},\"id\":\"a041f5b2-f5f1-4d54-8816-51cfe2272028\",\"type\":\"Title\"},{\"attributes\":{},\"id\":\"5ae17337-9161-44e3-b23b-fda51336feaa\",\"type\":\"BasicTicker\"},{\"attributes\":{\"active_drag\":\"auto\",\"active_scroll\":\"auto\",\"active_tap\":\"auto\",\"tools\":[{\"id\":\"7bcfe4f5-6192-4e5d-b514-8e75eb964f3d\",\"type\":\"BoxZoomTool\"},{\"id\":\"dc1ab360-7ebb-4fae-a91b-f9a139b52137\",\"type\":\"BoxSelectTool\"},{\"id\":\"56e07e09-7e37-420c-832e-5d0fb834d314\",\"type\":\"CrosshairTool\"},{\"id\":\"fa49d572-66e9-4e77-a95c-7f1c4f78e1b7\",\"type\":\"ResizeTool\"},{\"id\":\"a084504e-c165-4cbc-8727-5d81715bc30b\",\"type\":\"ResetTool\"},{\"id\":\"ddcdc5b1-6198-44f0-b382-ff8bf6b2ebf5\",\"type\":\"LassoSelectTool\"},{\"id\":\"de1d1418-2f10-431b-a522-1b012121096f\",\"type\":\"PanTool\"},{\"id\":\"8d3b0ee2-385c-47ef-a940-821f126e875c\",\"type\":\"SaveTool\"},{\"id\":\"df63e26e-4733-4e71-ae79-b684c2ffc08a\",\"type\":\"PolySelectTool\"},{\"id\":\"d8cb1529-8888-480f-ae15-ff66526af476\",\"type\":\"TapTool\"},{\"id\":\"5c4eb7b4-01e0-49fc-80a8-01f4c1c2e10e\",\"type\":\"WheelZoomTool\"},{\"id\":\"411f9225-1124-433c-9855-c9e34e68139f\",\"type\":\"UndoTool\"}]},\"id\":\"89889454-465c-4069-8f18-84237700cd3f\",\"type\":\"Toolbar\"},{\"attributes\":{\"plot\":{\"id\":\"dffcc769-0219-46cc-b2e4-a7c4bc39a5ad\",\"subtype\":\"Figure\",\"type\":\"Plot\"}},\"id\":\"411f9225-1124-433c-9855-c9e34e68139f\",\"type\":\"UndoTool\"},{\"attributes\":{\"plot\":{\"id\":\"dffcc769-0219-46cc-b2e4-a7c4bc39a5ad\",\"subtype\":\"Figure\",\"type\":\"Plot\"}},\"id\":\"de1d1418-2f10-431b-a522-1b012121096f\",\"type\":\"PanTool\"},{\"attributes\":{\"background_fill_alpha\":{\"value\":0.5},\"background_fill_color\":{\"value\":\"beige\"},\"below\":[{\"id\":\"b9212530-34d0-4fdc-b098-7e4dc4141ed9\",\"type\":\"LinearAxis\"}],\"left\":[{\"id\":\"b52af3ec-53cc-44f7-9c69-f402464d8753\",\"type\":\"LinearAxis\"}],\"plot_height\":500,\"plot_width\":500,\"renderers\":[{\"id\":\"b9212530-34d0-4fdc-b098-7e4dc4141ed9\",\"type\":\"LinearAxis\"},{\"id\":\"564705af-ce98-47e5-8a04-2702903b1d04\",\"type\":\"Grid\"},{\"id\":\"b52af3ec-53cc-44f7-9c69-f402464d8753\",\"type\":\"LinearAxis\"},{\"id\":\"4d8fd315-692b-4693-b8be-1b3a3263d3af\",\"type\":\"Grid\"},{\"id\":\"4397484a-19bf-4b6a-afcb-1cd9c8c8026a\",\"type\":\"BoxAnnotation\"},{\"id\":\"6faf12f8-4c77-4c37-8e57-3313e240507d\",\"type\":\"BoxAnnotation\"},{\"id\":\"afa04361-f0c6-4fae-9d98-91083f93ca86\",\"type\":\"PolyAnnotation\"},{\"id\":\"ccfef100-01de-43d2-9e8c-da8848014739\",\"type\":\"PolyAnnotation\"},{\"id\":\"a59fe792-c7e1-4625-af9e-188712a4b3d0\",\"type\":\"GlyphRenderer\"},{\"id\":\"5b51d24b-39a6-4142-9db6-852cfc62a3bd\",\"type\":\"GlyphRenderer\"}],\"title\":{\"id\":\"a041f5b2-f5f1-4d54-8816-51cfe2272028\",\"type\":\"Title\"},\"tool_events\":{\"id\":\"965bf01f-ca0b-4f7e-b3f5-312f30197576\",\"type\":\"ToolEvents\"},\"toolbar\":{\"id\":\"89889454-465c-4069-8f18-84237700cd3f\",\"type\":\"Toolbar\"},\"x_range\":{\"id\":\"772a9c69-5cac-4dfd-8186-b036f1c6961c\",\"type\":\"DataRange1d\"},\"y_range\":{\"id\":\"4615246f-3c28-4187-9417-053fd6c33367\",\"type\":\"DataRange1d\"}},\"id\":\"dffcc769-0219-46cc-b2e4-a7c4bc39a5ad\",\"subtype\":\"Figure\",\"type\":\"Plot\"},{\"attributes\":{\"callback\":null,\"column_names\":[\"x\",\"y\"],\"data\":{\"x\":[43.892042159999995,38.21075992,33.419591196,13.12072828,47.22221124,22.31833812,12.47262084,28.937997196,47.029847436000004,26.322814728,30.439675923999996,12.63809508,20.77391188,43.798273423999994,66.10006412,15.361525279999999,40.865242519999995,45.939785879999995,33.75674496,43.58177796,23.524231644,42.69924868,14.143910664,48.401215199999996,34.569637164,35.85964676,59.09498796,24.49708228,37.721921436,15.520104759999999,32.401235144,33.05347944,49.249270679999995,71.69860924,54.896079119999996,50.45930106,51.863763672,28.6822016,26.77235308,17.236210524,36.83870268,40.2309246,47.714497103999996,11.36256448,9.99050724,40.925226931999994,40.563252031999994,31.715896,39.417342919999996,18.12632404,18.28490352,9.86640156,41.2996124,34.55653712,53.95839176,82.5992248,54.598914963999995,44.61185510399999,39.28978986,63.528318639999995,39.1622368,39.321505756,20.416073836,44.395359639999995,56.33708396,38.500339839999995,32.245413568000004,42.229026048,46.247292176,33.68779736,44.209201119999996,33.72916592,64.90037588,33.192064116000005,12.45193656,44.14025352,57.915983999999995,55.50971276,37.2661778,42.21661548,41.20308576,39.779317819999996,64.90037588,39.6621069,23.5111316,54.765078679999995,29.073134491999998,49.77327244,65.19685056,36.588422892,52.00717468,37.2661778,43.57833058,40.679083999999996,26.96540636,36.251958603999995,25.726417988,12.180972492,72.99482412,28.62704352,11.392211948,20.08443588,48.28400428,24.00065956,45.304778483999996,35.763120119999996,74.19451236,14.699628319999999,25.60910856945864,61.99078716,38.074243671999994,54.09628696,40.856968808,39.84481804,22.435549039999998,25.893960655999997,42.919881,30.647208199999998,26.200088,23.13881456,26.8550902,26.147687824,52.446370892,37.92118,41.836714203999996,48.9872698,8.536402356,35.75425543054136,48.587373719999995,21.601283079999998,28.79941252,32.823194456,79.29663476,11.654902304,66.78067543054136,61.09446836,48.67011084,40.1964508,26.258003984,13.45857152,47.739318239999996,23.696600644,27.827251359999998,31.35047372,60.32225524,48.695621452,39.0932892,33.116911232,37.32823064,50.69717028,13.565440299999999,33.68779736,53.46196904,16.503987012,61.85584685418796,60.2946762,43.01296026,77.29715436,56.847296199999995,55.495923239999996,15.049192651999999,17.83674412,19.765208492,24.53845084,21.946021079999998,33.56369168,43.0577762,27.681082448,31.026419999999998,2.331807832,42.29245784,15.340841,19.691434559999998,33.70158688,47.782065751999994,56.141962252,24.8900836,29.870858223999996,58.60546,24.90387312,13.395533715270679,23.786922,33.72916592,52.04164848,31.35047372,37.9556538,57.59882504,29.447519959999997,23.8903434,67.69964844,34.73580088,39.056057496,25.0969264,45.3675208,28.096147,23.221551679999997,40.14818748,42.14008364399999,37.34202016,44.13335876,60.280886679999995,49.77327244,59.590425715270676,17.959470848000002,24.104080959999997,26.94472208,31.966865263999996,28.23748958,16.10960674,54.27555072,18.746162964,24.91766264,40.85834776,11.46598588,38.407950056000004,25.2003478,79.40005615999999,23.51802636,66.42411784,39.45181672,29.7853632,22.347985588,55.89581932,30.12320644,67.568648,53.52402188,13.29309728,24.0971862,14.98920824,39.58281716,48.846616696,11.957582268,39.37597436,19.98790924,39.455953576,39.421479776,24.483292759999998,59.19840936,66.69990824,49.973220479999995,40.7135578,39.699338604,20.27748916,17.57474324,33.082437432,41.05140104,56.14403068,43.377003588,15.08573488,77.29715436,32.83974188,37.437857324,23.744174488,56.3991368,43.388724679999996,44.698039603999995,32.720462532,53.90323368,7.74971024,47.8151606,59.89478012,38.01770664,68.75060685418796,6.883728383999999,76.80073164,11.85209244,8.48744956,49.20100736,32.768036376000005,33.21205892,17.9953236,23.80071152,6.902344236,18.12632404,10.535882756,25.510612,13.461329424,25.48303296,55.647607959999995,32.96384756,19.41564416,22.94576128,19.691434559999998,18.033934256,52.908319811999995,23.24519085418796,25.68987576,17.95395504,43.698299404,15.575262839999999,25.422359072,29.15794004,22.435549039999998,22.53207568,21.179323768,33.398217439999996,48.97348028,22.489328168,67.30664712,39.6103962,45.08483564,38.461039708,46.931941843999994,40.59634688,30.44726016,24.290928956,49.99390476,8.06342182,16.27852836,40.38950408,23.639177145812038,21.066249704,43.25082948,20.91870184,33.798802996,44.02993736,9.84965714581204,25.62092816,24.44881896,76.23536132,15.748321315999998,58.522722879999996,7.8393421199999995,17.275510655999998,27.22051248,71.29871315999999,68.09954452,24.65566176,26.91369566,33.399596392,29.39236188,29.89223198,46.80163088,31.25394708,55.55108132,28.99936056,39.300132,10.335934715999999,79.98611076,47.27736932,25.021084039999998,24.39366088,43.733462679999995,49.80085148,9.011451319999999,11.414275179999999,33.5430074,55.82687172,46.89815752,31.74347504,35.36322404,35.34253976,65.99664272,30.2335226,35.314271244,36.93522932,12.73462172,11.169511199999999,38.60376124,44.6090972,41.15137506,12.788400847999998,12.17614616,33.0431373,21.859147104,41.052779992,71.29871315999999,47.7117392,46.2293658,26.74477404,41.540929,26.91714304,55.94408264,17.8229546,61.23581094,15.340841,31.419421319999998,21.91154728,16.87837248,52.42086028,37.171030112,39.64487,50.655112243999994,13.52062436,35.9561734,47.13257936,56.095767359999996,19.35014394,32.068218236,18.19871902,60.2946762,13.33446584,27.923778,33.60506024,71.29871315999999,36.447769788,33.488834284729315,38.45897128,38.70028788,33.79811352,19.41564416,39.48629052,59.30183076,80.19984832,32.051670812,21.859147104,56.7438748,10.53519328,25.965666159999998,4.9035533120000006,41.940825079999996,41.934619796,67.86512268,13.089012384,51.021224,52.95865156,28.98557104,17.96429718,29.54897143054136,41.244454319999996,58.78472376,12.459520796,34.67374804,41.684340008,16.889404096,25.216895223999998,66.59648684,51.331488199999995,33.019005639999996,30.12320644,13.293786756,34.77027468,38.11423328,35.852751999999995,16.26473884,38.20386516,21.819846971999997,14.49968028,9.735401119999999,10.76272036,17.165883972,14.54104884,36.63875464,50.07664188,36.964187312,44.296075096,36.34917472,56.061293559999996,19.10537996,24.281965768,36.349864196,15.069975430541358,25.460969728000002,38.70028788,43.377003588,67.11359384,27.234302,19.199148695999998,29.41304616,29.654362759999998,13.62404576,40.14818748,29.55094136,32.66047812,56.69561148,11.483912255999998,35.225328839999996,42.32693164,33.003837168,51.25564584,21.917063088,38.215586251999994,77.29715436,52.426376088,37.231704,26.22766704,38.99676256,24.986610239999997,22.83544512,12.24509376,39.604880392,15.520104759999999,65.19685056,55.89581932,39.358047983999995,17.576122192,40.934879596,12.052040479999999,24.404692496,23.52492112,39.300132,55.45455468,37.431652039999996,69.83702404,31.35047372,46.20178676,46.38794528,35.3011712,28.62704352,31.874475479999997,20.593958644,12.5484632,33.664355176,15.091250688,69.65776027999999,59.76377968,36.443632932,22.93197176,42.030456959999995,32.626693796000005,66.82401392,71.98818916,74.3649114581204,72.09850532,36.990387399999996,21.53923024,37.431652039999996,64.30053176,7.3153403599999995,38.60376124,22.89749796,32.01138571527068,27.67556664,40.062002979999995,56.49566344,70.69886903999999,46.6430514,31.971002119999998,32.72253096,23.786922,32.956952799999996,55.15808,10.38350856,74.4978818,53.72396992,30.881630039999997,13.54130864,43.5748832,21.504756439999998,52.826961643999994,33.0603742,50.77301264,19.539060364,42.131120456,35.3011712,41.542997428,47.401475,51.732763231999996,19.98790924,15.04436632,29.592309919999998,42.126983599999996,52.30364936,39.382869119999995,39.14844728,36.3009114,44.32641204,23.404952295999998,22.629981272,15.615941924,23.83518532,35.225328839999996,31.17810472,27.874825204,38.56239268,54.315540328,42.63719584,33.301690799999996,12.541568439999999,4.782205536,29.06830816,34.23937816,32.88455782,49.89737812,31.53663224,33.70158688,32.763899519999995,37.91428524,25.559564796,17.43684804,57.21823428799999,50.526869708,14.306626999999999,19.009542795999998,10.089791784,13.18278112,13.52062436,30.275580636,52.516697443999995,81.75116932,28.46846404,40.85834776,71.29871315999999,17.36790044,55.89581932,62.5009994,26.233182848000002,34.20490436,41.40992856,9.617500724000001,17.22311048,44.38846488,19.765208492,50.511011759999995,39.05192064,25.11662571527068,35.570066839999996,44.27814872,50.60064364,68.29949256,31.178794196000002,62.052839999999996,39.2311844,15.030576799999999,17.596806471999997,36.56291228,59.79825348,56.8128224,53.300631656,37.997022359999995,64.30053176,77.29715436,38.610656,10.787541496,34.48758952,53.65502232,13.22414968,63.3973182,36.93522932,25.3727168,12.17614616,37.16965116,51.0556978,21.91154728,44.298833,53.77223324,21.29101888,45.2985732,18.415903959999998,42.620648416,60.949678399999996,31.11605188,15.43736764,24.24197616,42.79577532,21.96670536,38.630650804,26.0621928,24.42813468,27.77209328,31.899986092,56.619079643999996,33.27411176,11.57630204,30.219733079999997,56.61287436,33.306517131999996,29.93015316,24.00065956,46.234192132,79.29663476,41.719503284,33.398217439999996,51.03501352,14.98920824,28.021683592,32.39847724,53.104130996,35.3011712,14.796154959999999,30.079769451999997,37.265488323999996,50.94882902,43.698299404,21.6495464,23.07676172,24.065470304,10.0318758,58.798513279999995,25.17966352,24.437787344,60.2946762,40.65839972,7.507014687999999,55.59934464,36.3009114,74.69782984,9.561653168,44.207822168,13.19657064,27.935499091999997,26.04840328,32.109882284729316,78.80021203999999,26.40003604,56.63355864,15.691094808,25.083136879999998,51.021224,37.25928304,42.42345828,43.49904084,23.523542168,25.55887532,31.640053639999998,12.83804312,33.963587759999996,49.20100736,15.569747031999999,28.991086848000002,65.19685056,12.37264682,41.885667,25.745033839999998,40.0585556,46.2293658,23.73865868,43.565230536,41.05140104,32.8535314,31.023662096000002,60.19814956,65.90701084,73.29819356,44.27814872,52.20022796,26.859916531999996,40.759063216,11.46598588,21.78054684,40.56876784,28.296095039999997,18.287661424,14.2032056,44.51946532,14.843728804,21.26343984,39.39665864,52.44154456,35.3011712,41.09966436,24.28334472,25.17966352,61.797733879999996,23.69039536,31.2677366,9.131420144,36.804918356,30.84715624,42.54756396,19.00885332,25.10382116,44.63667624,38.995383608,9.307926,55.55108132,38.76923548,45.83636448,74.16693332,22.752708,27.742445811999996,29.86810032,49.185149411999994,24.3385028,44.523602176000004,68.4994406,31.6469484,37.427515183999994,67.79617508,36.4388066,55.020184799999996,39.004642284729314,32.53292506,73.69808963999999,19.93275116,8.374375495999999,10.222171176,14.596896395999998,43.69898888,7.723510152,31.35047372,44.868340176000004,45.3675208,29.7508894,26.14492992,55.19944856,29.231713971999998,51.04190828,65.909079268,79.29663476,9.738159024,54.896079119999996,37.36270444,51.72448952,20.72564856,52.82075636,32.102692036,71.62276688,35.86585204399999,35.101223159999996,46.24315532,31.84000168,33.398217439999996,57.21271848,43.942373908,7.675936308,18.0297974,31.875164956000003,75.49762199999999,24.40055564,8.204074924,46.68441996,3.31982694,21.02212324,41.36856,27.04124872,44.42293868,34.39795764,20.96696516,36.96970312,6.26733684,15.41668336,39.435269296,50.732333556],\"y\":[40.021291678889654,31.24191375106018,31.806458034310516,24.712281681083436,46.79667398625624,22.359570977397787,22.54376536898809,23.424210843866266,27.64603727249858,23.16971114865066,23.54466306660036,37.51623079523469,21.343165362641088,39.84212991427909,56.10036659073589,31.822186638658913,39.20570930882969,35.23309156979846,41.18121164155784,34.61546884429814,26.560585814711338,31.572999258933006,34.030095449601646,43.4467357220789,37.83234009607261,38.40105760514031,60.64043563615304,22.336439163789215,36.14254253672335,30.37642698361913,32.19156139140782,35.01992803220627,29.062978400888753,57.644457482819575,58.14618300167581,29.07609409004685,41.186558598637845,32.96920770721214,27.1934642699116,30.737197930260432,47.382414640361134,27.846630759979945,35.065000339093785,18.315325348915792,14.43446686749575,40.74073666571806,37.036328047691015,30.403179653510936,39.01357553966842,23.27577597121102,26.06082030163911,21.25110303550902,62.24943114664751,29.416820826175467,38.76894514701023,69.39950561419585,43.10198935543169,34.789830198059136,32.35887122869,47.61958869914764,30.980927080147787,34.602583316330424,26.609053927606006,32.85662576265388,52.49187212755277,30.323631373622046,27.311112740044415,38.82389906962636,33.41634369731092,53.02617105436035,34.82692201287096,28.65330926625207,53.42108670388642,24.23506035203185,23.364511560586838,39.90147237207636,48.95264891731754,40.11181443225381,25.06186429743357,36.790372202802104,32.87168702304174,45.52726037034064,58.870783638348186,28.640068378610962,29.020009241237695,55.09177287573889,33.918849755156856,38.76384983232579,62.3194221461936,28.774254784397,50.500980445013546,35.04537457585354,37.54468454799228,35.17390432436458,28.274802552300052,44.8715391777103,24.091991333928295,19.08413506133484,52.75511730441077,26.174648200251948,17.55918343060623,22.1795290547322,35.764520742772035,29.947734817902568,42.9592353364982,30.391973019220483,60.31535241906985,29.724623703003473,44.8201448637168,42.573360369761204,29.898664936087066,49.915664337478034,20.84371234602765,34.01583597246653,22.573785762653937,35.12790718839095,36.319842601890464,36.59541950340129,22.42458631428908,33.170697305474185,28.46048354971534,29.426859741327412,42.76123736432194,46.907804496023886,48.41515233274477,36.56231148992485,18.758202543849954,45.93581809947486,33.92614034423853,25.867257994314894,48.35330322012177,29.579990857885072,59.18971806389429,19.166423585522594,51.01971203657863,52.197617090631354,36.13779122681758,67.10708893579118,26.922280991609217,29.388352595795126,36.9440224293988,26.952837320576855,23.959290894721832,32.281792747326506,40.75218127786497,38.03160410681233,33.73039678048219,35.53377480343806,39.65637781986037,49.08406254533314,26.478852179133078,28.56683136341726,35.7052700611177,24.829102038892813,51.99169843312767,55.782987084203036,57.75291670701701,55.558365251677316,39.497069298164085,52.589890411286646,25.08931536952546,26.618860697945617,33.48523394741696,24.210426344337495,22.913542284447068,34.93198369409329,33.18547389426327,36.11084990537075,24.155616822167705,12.823851470097178,35.954739599946436,25.008404852234833,19.65368382943195,33.83176528035105,36.038985412744395,59.33617573980132,22.72009820183377,31.790734269151407,44.568199051227474,25.28897377873402,31.645029506318544,26.719547609852135,33.32672259312143,42.380732123309635,27.000248966311105,31.241417020048985,56.493895390173286,25.777852446430604,39.39051811330273,50.66177596784032,34.91948838947496,32.306674827338256,29.47204214246763,44.75600962726723,46.88381062144038,29.523799334218257,34.85559971541984,36.58217144088811,33.94063086991294,40.781621358467184,49.32621327771608,38.79301304150483,49.93032881358948,28.128861029393143,33.18320550503545,24.03850838474423,25.79715549487741,24.476102854507474,34.154683132487925,46.23034451633437,18.547693566793907,24.447778977304033,31.805291350677553,17.16253732863997,55.11576572048456,50.76975924297829,65.89600459387643,27.160786273977074,46.06444248194812,38.49517172408436,54.070023287034545,19.387729456705024,50.655518385898816,31.164175282758823,52.98768766674263,39.40958958230015,22.031054706476123,45.21915118951605,21.36617796084106,31.373664670326264,38.144406211933536,23.50663233483765,40.11110518038147,23.509377531009676,38.466553323143096,39.54516212170655,23.411659678138278,70.78199527872935,64.14039212171069,36.004756381929454,30.582894830797056,44.49232337866645,26.27083564853976,32.12546199702982,32.99176609795896,41.00410906668712,55.41419266425233,37.1322721346736,27.368974839408654,56.02322938202013,33.594703085140154,32.24785275246367,25.33078372493108,63.89175439443852,28.320150862479387,59.68950551744733,25.310900047289675,36.001808379650456,36.80089070169404,38.59444679425549,50.94402336267024,50.64076274511111,51.888796121260256,20.344187095682628,57.65078828627565,21.3162713201804,22.38134033388942,53.87009209038884,31.55177578586178,38.161329344481295,25.695537322353108,34.553959581887284,25.252368591609972,25.413419836215162,18.32196531176315,46.690889250463606,29.494329373175574,22.479779929136633,53.91458620470854,34.59653034545902,26.491505344167575,32.046855097354396,20.192391268821673,24.44915743629514,29.758742924069303,22.753868120262403,24.011157791688213,28.352169321050667,66.49890752353744,22.599053630997062,44.72532044087816,27.215512350565934,22.904658994379098,23.98009941993556,25.966741016400782,51.0889074208795,42.77708485995969,32.0408819494713,49.850284430497446,33.270748830721715,38.10207530819595,38.177292219326674,36.392194316433496,60.2362230871486,37.400868178294516,18.43415022900794,39.48010621103172,21.758178017909664,22.78174453255912,36.6339113137869,46.25753461572665,29.93186012988108,30.697820704605398,24.133230161365304,33.50269744969671,48.70199509538187,17.122606614728802,23.950496920500058,21.27729035448252,50.68246961194665,25.677369459952132,49.03587001749743,14.061884281020898,16.25286808953369,25.037595761027912,53.04822330362502,60.013925656064835,23.550092721830357,31.155902291668184,32.29180933531343,29.413564214799347,22.460721758361156,54.9350841351356,28.126554173636556,46.81116801479886,55.250156395706,51.73993477404187,16.5226416478792,52.856804603190156,46.93500533946972,49.92438135862041,37.36933831930203,34.41599201443688,49.78415468235632,25.48006033948593,21.277463192347714,31.689864063972806,40.74454194436048,61.611591372087176,26.116732181805375,49.914976480352166,31.482951920266835,54.51512887334468,25.457117733009195,33.23281673726347,33.660165798237784,18.34805839409344,16.210127132361677,34.64602776411841,35.00329920694892,57.61664613087692,32.449173627773774,22.47227303372801,38.52344376324157,36.19228071982722,67.34946943303342,52.806091947824555,38.324779417846536,46.654074743219525,38.00164151491186,34.018692158007994,27.38269499892559,45.14579872817695,37.358242986310316,44.84324171151848,29.739890848175833,25.687442249339764,32.78564749126283,22.079400655525262,40.54137130217442,32.148321992956255,28.13097075779045,47.025275647725856,23.33446631608657,38.9242841975002,31.284861595285363,52.183965829930315,26.745816389815666,28.963545049256375,24.8223800266745,56.02146216679347,27.293174474913478,30.939269528214282,27.81122338290029,52.806091947824555,30.752767249625727,44.4800049713845,38.00042544410033,34.361379773982314,33.05468487208343,30.48224759368481,34.69900857398326,43.47041182372827,55.22353511698983,33.502758559543565,25.715046092493424,43.55340059655773,18.12921310011426,21.244072807365583,16.598943601719185,39.793173098506024,69.78821225861597,46.898226282786155,26.158494891189573,52.88124940661392,42.59733131775276,33.64087510335649,17.02546435477793,46.55633766929496,62.9965400159693,52.11284188791019,19.34736553353081,33.584470208446504,35.388377700534804,25.58549379188282,23.995703435233345,57.86704162597948,37.00958251474868,29.791957379731663,30.95260750451945,21.692535111730457,46.00867733514866,60.98919826217203,33.09441263526157,23.697806123899255,31.99460251260362,38.32904872277335,20.180039493366298,19.41186342868322,20.984383126954594,21.61290637867289,29.840125755446266,30.5839628121718,43.14724886431186,28.983625164186925,60.73073287381645,40.71001122653485,40.01020829228929,29.17893225052453,20.035859383946697,40.87340657609138,17.500836514284906,23.055010857200987,42.47068051513317,34.82570601013158,72.15185633712439,31.11441876487146,29.17893225052453,29.424837895788034,27.294863889301297,24.97493720427933,34.36635849331606,32.45726265269673,27.466782786738484,58.05892323125362,17.518870895233512,19.86775729419723,26.800568853269013,23.331078859377236,37.698905563500404,42.02304922182528,52.73543669991582,56.027171335871444,40.623675069573025,32.93801834214802,31.824097428617414,42.95752556675511,24.641523473175358,21.995097614469277,16.036939102493314,31.962128701804275,25.12092845058409,63.199569276581194,50.57210629136314,31.075062127483477,18.480292997418942,37.98286931849192,16.069768283209985,37.49506237339892,35.732270322206155,50.54336438753893,48.52549879128975,34.55597269000316,53.38985607076981,32.459045578865855,50.15430103020606,33.157398219822646,50.12234392220705,18.279894616722533,27.97883325337716,15.309810579474014,24.712517298737982,27.90354937764966,26.764837982046117,55.820087645751954,47.16095181388924,24.273953435519015,25.80827276413383,37.682676512399034,36.78614673498366,43.12794868445991,49.297608370836905,53.67266792830528,50.4824599902506,33.59686805691427,23.208455460992155,35.37566258161121,59.6022040095949,25.952395875185616,28.961984350701556,50.57808791335772,45.40005136201054,35.91132599388424,28.921665571400872,62.593919948885585,77.38910457547233,37.881932573121105,25.022277496416603,27.228150697411383,26.611053349247516,35.15997584529577,67.04119490419015,18.81623966493253,63.16540566726978,36.34760615787733,34.50416227617051,26.634741849936752,36.86819274057151,27.205691850849956,43.27025385160841,25.426457725950556,31.387726589481257,32.79316996304867,58.927151768858046,50.12234392220705,37.739322178484905,35.19197202594161,48.550892040813174,22.968581443933708,24.924279242987065,32.67155904268121,65.05490196291692,35.91260620267764,36.05315980337584,34.07324849223577,54.75415840724773,41.058792948695114,23.362514574536213,25.69296980673976,22.906770583385544,28.023807208048385,19.81038597470163,33.175089982436056,22.89474952347496,31.73925215701142,46.352207696670206,31.164262478677067,35.7112739086065,20.305588107476545,14.267177545534352,34.119581958246805,29.5694438836181,29.033415674467555,47.866309814236175,26.186142860416787,58.634080901654166,31.551700391677848,37.138109103475415,32.039399819161446,23.781363051760458,39.12756232018178,43.24726094767031,23.360261387793056,25.893237912104002,16.746221627647646,25.542423632242198,23.34114257024636,27.857529258177106,58.99437005352918,46.72562432524067,28.888335675578272,37.360483738939806,52.31174026835299,32.95344827128654,50.10095653252414,63.620403579590686,31.392705815644426,28.555873102764163,33.46926772305181,27.49321208704928,24.75933387314584,40.405115512002126,20.411925727180556,50.41285517534065,32.857117999721034,45.64283973399078,30.851583464754857,32.68852627780806,37.381788733657295,52.929046356333444,33.202931966221975,48.34985982536399,46.76989204974294,21.3285464936707,23.645128313138198,26.568242781119444,50.77580840287319,41.04909767446502,48.99320553430343,48.011986040782595,58.08628432387931,55.259451916124796,46.06394139795819,17.176694257347492,39.657763091142655,40.86415769115745,23.215250736203945,54.74343460507895,39.08151334891315,28.402229441014327,19.45582169972945,32.083370482023525,41.744948150632496,27.288084630609166,32.91615301005175,34.75813252629852,27.026159933281228,42.80670475150122,16.682984690653562,48.46145405113073,44.961618685070505,31.07344327310658,26.414753120663455,39.19006209832973,48.56502466704434,19.70943409121313,34.2694922636338,29.326724320136357,26.099339751768255,27.903871816983056,28.385493587714045,40.35012304230347,26.456895236621246,19.974143886688868,32.59967974986014,40.3746231927222,35.93501440716305,25.91736344905619,30.26147419979203,46.51082447791619,60.16734505025724,40.66654402034292,53.24775754988738,39.030707800396584,24.993781151572207,24.151839222242955,31.933551502848413,39.41279754960481,50.60620016714674,22.11305790499583,28.759794641772732,36.975425342071404,38.371794765226156,67.97714053008573,22.913008710910184,29.49634949631776,30.21021298145038,20.596769893994903,66.11928964314937,24.26092153445116,40.94305751723397,55.96399189168014,34.43591291924133,23.318919995116318,51.471215119103434,28.28968181687692,52.85909323855586,33.70046421358141,41.35337454986968,20.953334405918312,35.569300718217285,31.05616852108632,48.50696346881315,46.461274834719504,28.237932828892546,44.44628668686819,29.403476574576878,53.295424376536,48.85005048433216,36.926515359124366,43.17600557963751,32.24879607333176,35.310009389827144,32.46778521986483,29.516985321890168,14.932539026782273,29.1488036914973,53.68235504457422,27.645665173824842,34.01876707048057,62.80890243299789,33.28766387111137,34.467434106184754,29.10718028779995,29.044768037035716,40.40001465685341,25.55197100545663,35.13732484481317,44.224720291464926,43.21450329673482,26.18895871340197,60.87783777613309,46.36348622934107,61.58010049680573,39.965786624299625,56.02172147586881,28.61678509401672,47.22637966058267,29.941115685120796,34.852751599954345,36.06068773325568,50.1428588967631,26.62648327055278,20.568600177300198,52.64557901430375,22.02769847579674,19.534048343485672,30.25667930109634,43.07726545284821,50.60620016714674,50.3508775139306,23.56704765872945,23.95243886073493,57.63495245805396,27.03947864361041,28.92374014885708,21.090790038572106,35.50276393140499,34.5807938849724,32.558994906310225,26.08509946533667,29.787624360776025,34.46422112467093,64.13837194891214,14.806396745550668,51.713875671484786,35.38261966393958,36.46177459798192,75.12261494544846,46.88356860279692,29.463504526555337,31.087757814166302,28.54461198630067,27.30816025013804,51.31903693073896,52.880772629512194,28.070938381059175,31.288799734307656,54.665131535842704,24.351376025527813,40.942407789816855,46.56243988626317,25.892208403484638,55.865624700292216,22.8284390872424,14.89546629762134,16.546392394629287,19.728869296698026,33.37401436956105,13.049108188628026,29.03628895474358,29.646821490494304,35.23278256672296,27.970762812262123,29.583714646635713,52.9237506848252,21.897062541297394,56.294420333496106,46.08387866173412,59.73897074374669,19.55294640871702,67.8422073302215,34.58687263906271,36.22155127361161,24.764569179045843,43.380756373081056,26.699299852770118,65.52844757508409,38.49551064969876,45.71057532350262,33.812935982707344,28.070938381059175,53.81435745775732,39.80043447080423,39.845540358463296,14.070003249117367,24.17718157585537,28.516131221278528,59.59668978876726,48.10592733211671,16.11998495594643,49.413312315352236,15.625672398930568,34.507613957387605,52.180795004715655,24.138540448528744,52.67239935413279,49.862839759814776,23.39232743083374,30.15480343672926,29.29506122249684,30.443039313929013,46.44810810224517,41.793417266495794]}},\"id\":\"2acb4256-3ea4-47e7-ae2e-51a46ad16f64\",\"type\":\"ColumnDataSource\"},{\"attributes\":{},\"id\":\"33e63608-f795-4976-a70e-c1686e84a8ec\",\"type\":\"BasicTicker\"},{\"attributes\":{\"overlay\":{\"id\":\"4397484a-19bf-4b6a-afcb-1cd9c8c8026a\",\"type\":\"BoxAnnotation\"},\"plot\":{\"id\":\"dffcc769-0219-46cc-b2e4-a7c4bc39a5ad\",\"subtype\":\"Figure\",\"type\":\"Plot\"}},\"id\":\"7bcfe4f5-6192-4e5d-b514-8e75eb964f3d\",\"type\":\"BoxZoomTool\"},{\"attributes\":{\"fill_alpha\":{\"value\":0.1},\"fill_color\":{\"value\":\"#1f77b4\"},\"line_alpha\":{\"value\":0.1},\"line_color\":{\"value\":\"#1f77b4\"},\"line_width\":{\"value\":3},\"x\":{\"field\":\"x\"},\"y\":{\"field\":\"y\"}},\"id\":\"f892f1e2-3563-4dd6-86be-5d410d3f3638\",\"type\":\"Circle\"},{\"attributes\":{},\"id\":\"cb604113-8bb9-499e-83ca-3db7247d854f\",\"type\":\"BasicTickFormatter\"},{\"attributes\":{\"fill_alpha\":{\"value\":0.5},\"fill_color\":{\"value\":\"lightgrey\"},\"level\":\"overlay\",\"line_alpha\":{\"value\":1.0},\"line_color\":{\"value\":\"black\"},\"line_dash\":[4,4],\"line_width\":{\"value\":2},\"plot\":null,\"xs_units\":\"screen\",\"ys_units\":\"screen\"},\"id\":\"afa04361-f0c6-4fae-9d98-91083f93ca86\",\"type\":\"PolyAnnotation\"},{\"attributes\":{\"data_source\":{\"id\":\"cd93bbfe-4c1f-46a0-af86-476c5a003b8c\",\"type\":\"ColumnDataSource\"},\"glyph\":{\"id\":\"86db5f92-c554-45f0-bb3a-41931e7ea6de\",\"type\":\"Line\"},\"hover_glyph\":null,\"nonselection_glyph\":{\"id\":\"572d71f5-b012-45d3-8f62-6367fdf45921\",\"type\":\"Line\"},\"selection_glyph\":null},\"id\":\"5b51d24b-39a6-4142-9db6-852cfc62a3bd\",\"type\":\"GlyphRenderer\"},{\"attributes\":{\"callback\":null,\"plot\":{\"id\":\"dffcc769-0219-46cc-b2e4-a7c4bc39a5ad\",\"subtype\":\"Figure\",\"type\":\"Plot\"}},\"id\":\"d8cb1529-8888-480f-ae15-ff66526af476\",\"type\":\"TapTool\"},{\"attributes\":{\"data_source\":{\"id\":\"2acb4256-3ea4-47e7-ae2e-51a46ad16f64\",\"type\":\"ColumnDataSource\"},\"glyph\":{\"id\":\"40be2fc8-f635-4e31-adbc-fc8a5ac1402e\",\"type\":\"Circle\"},\"hover_glyph\":null,\"nonselection_glyph\":{\"id\":\"f892f1e2-3563-4dd6-86be-5d410d3f3638\",\"type\":\"Circle\"},\"selection_glyph\":null},\"id\":\"a59fe792-c7e1-4625-af9e-188712a4b3d0\",\"type\":\"GlyphRenderer\"},{\"attributes\":{\"dimension\":1,\"plot\":{\"id\":\"dffcc769-0219-46cc-b2e4-a7c4bc39a5ad\",\"subtype\":\"Figure\",\"type\":\"Plot\"},\"ticker\":{\"id\":\"33e63608-f795-4976-a70e-c1686e84a8ec\",\"type\":\"BasicTicker\"}},\"id\":\"4d8fd315-692b-4693-b8be-1b3a3263d3af\",\"type\":\"Grid\"},{\"attributes\":{\"callback\":null},\"id\":\"772a9c69-5cac-4dfd-8186-b036f1c6961c\",\"type\":\"DataRange1d\"}],\"root_ids\":[\"dffcc769-0219-46cc-b2e4-a7c4bc39a5ad\"]},\"title\":\"Bokeh Application\",\"version\":\"0.12.2\"}};\n",
       "            var render_items = [{\"docid\":\"7f2b7b8c-9d5a-4338-9b58-f074ecba1194\",\"elementid\":\"80917803-c8dd-41f6-a267-23c8996d3d4b\",\"modelid\":\"dffcc769-0219-46cc-b2e4-a7c4bc39a5ad\"}];\n",
       "            \n",
       "            Bokeh.embed.embed_items(docs_json, render_items);\n",
       "        });\n",
       "      },\n",
       "      function(Bokeh) {\n",
       "      }\n",
       "    ];\n",
       "  \n",
       "    function run_inline_js() {\n",
       "      \n",
       "      if ((window.Bokeh !== undefined) || (force === \"1\")) {\n",
       "        for (var i = 0; i < inline_js.length; i++) {\n",
       "          inline_js[i](window.Bokeh);\n",
       "        }if (force === \"1\") {\n",
       "          display_loaded();\n",
       "        }} else if (Date.now() < window._bokeh_timeout) {\n",
       "        setTimeout(run_inline_js, 100);\n",
       "      } else if (!window._bokeh_failed_load) {\n",
       "        console.log(\"Bokeh: BokehJS failed to load within specified timeout.\");\n",
       "        window._bokeh_failed_load = true;\n",
       "      } else if (!force) {\n",
       "        var cell = $(\"#80917803-c8dd-41f6-a267-23c8996d3d4b\").parents('.cell').data().cell;\n",
       "        cell.output_area.append_execute_result(NB_LOAD_WARNING)\n",
       "      }\n",
       "  \n",
       "    }\n",
       "  \n",
       "    if (window._bokeh_is_loading === 0) {\n",
       "      console.log(\"Bokeh: BokehJS loaded, going straight to plotting\");\n",
       "      run_inline_js();\n",
       "    } else {\n",
       "      load_libs(js_urls, function() {\n",
       "        console.log(\"Bokeh: BokehJS plotting callback run at\", now());\n",
       "        run_inline_js();\n",
       "      });\n",
       "    }\n",
       "  }(this));\n",
       "</script>"
      ]
     },
     "metadata": {},
     "output_type": "display_data"
    }
   ],
   "source": [
    "# Plotining using bokeh\n",
    "#TOOLS = [BoxSelectTool(), HoverTool()]\n",
    "#TOOLS = 'hover,box_zoom,box_select,crosshair,resize,reset,lasso_select,pan,save,poly_select,tap,wheel_zoom,undo'\n",
    "TOOLS = 'box_zoom,box_select,crosshair,resize,reset,lasso_select,pan,save,poly_select,tap,wheel_zoom,undo'\n",
    "p = figure(plot_width=500, plot_height=500, tools=TOOLS)\n",
    "p.scatter(Y, predicted,x=\"jjj\", marker=\"o\", color=\"#80B1D3\", line_width=3)\n",
    "p.title.align = \"center\"\n",
    "p.xaxis.axis_label = \"Measured\"\n",
    "p.xaxis.axis_label_text_color = \"#aa6666\"\n",
    "#p.xaxis.axis_label_standoff = 30\n",
    "p.xaxis.major_tick_line_color = \"firebrick\"\n",
    "p.xaxis.major_tick_line_width = 3\n",
    "p.xaxis.minor_tick_line_color = \"orange\"\n",
    "p.yaxis.axis_label = \"Predicted\"\n",
    "p.yaxis.axis_label_text_font_style = \"italic\"\n",
    "p.yaxis.axis_label_text_color = \"#aa6666\"\n",
    "p.background_fill_color = \"beige\"\n",
    "p.background_fill_alpha = 0.5\n",
    "#p.line([Y.min(), Y.max()], [Y.min(), Y.max()], line_dash=\"4 4\", line_width=2, color='red')\n",
    "\n",
    "# create a new plot with the toolbar below\n",
    "# line_dash=\"4 4\", line_width=2, color='red'\n",
    "p.line([Y.min(), Y.max()], [Y.min(), Y.max()], line_dash=\"4 4\", line_width=2, line_color=\"black\")\n",
    "show(p)"
   ]
  },
  {
   "cell_type": "code",
   "execution_count": 22,
   "metadata": {
    "collapsed": false
   },
   "outputs": [
    {
     "data": {
      "text/plain": [
       "<matplotlib.text.Text at 0x7f06f16896d0>"
      ]
     },
     "execution_count": 22,
     "metadata": {},
     "output_type": "execute_result"
    },
    {
     "data": {
      "image/png": "[encoded data removed]",
      "text/plain": [
       "<matplotlib.figure.Figure at 0x7f06f5455190>"
      ]
     },
     "metadata": {},
     "output_type": "display_data"
    }
   ],
   "source": [
    "plt.scatter(predicted, (predicted - Y), c='r', s=30)\n",
    "plt.title(\"Residual plot on the training data\")\n",
    "plt.xlabel(\"Predicted\")\n",
    "plt.ylabel(\"Residuals\")"
   ]
  },
  {
   "cell_type": "code",
   "execution_count": 23,
   "metadata": {
    "collapsed": false
   },
   "outputs": [
    {
     "data": {
      "text/html": [
       "\n",
       "\n",
       "    <div class=\"bk-root\">\n",
       "        <div class=\"plotdiv\" id=\"ddb51ee9-826b-435b-aca9-515aeac13271\"></div>\n",
       "    </div>\n",
       "<script type=\"text/javascript\">\n",
       "  \n",
       "  (function(global) {\n",
       "    function now() {\n",
       "      return new Date();\n",
       "    }\n",
       "  \n",
       "    var force = \"\";\n",
       "  \n",
       "    if (typeof (window._bokeh_onload_callbacks) === \"undefined\" || force !== \"\") {\n",
       "      window._bokeh_onload_callbacks = [];\n",
       "      window._bokeh_is_loading = undefined;\n",
       "    }\n",
       "  \n",
       "  \n",
       "    \n",
       "    if (typeof (window._bokeh_timeout) === \"undefined\" || force !== \"\") {\n",
       "      window._bokeh_timeout = Date.now() + 0;\n",
       "      window._bokeh_failed_load = false;\n",
       "    }\n",
       "  \n",
       "    var NB_LOAD_WARNING = {'data': {'text/html':\n",
       "       \"<div style='background-color: #fdd'>\\n\"+\n",
       "       \"<p>\\n\"+\n",
       "       \"BokehJS does not appear to have successfully loaded. If loading BokehJS from CDN, this \\n\"+\n",
       "       \"may be due to a slow or bad network connection. Possible fixes:\\n\"+\n",
       "       \"</p>\\n\"+\n",
       "       \"<ul>\\n\"+\n",
       "       \"<li>re-rerun `output_notebook()` to attempt to load from CDN again, or</li>\\n\"+\n",
       "       \"<li>use INLINE resources instead, as so:</li>\\n\"+\n",
       "       \"</ul>\\n\"+\n",
       "       \"<code>\\n\"+\n",
       "       \"from bokeh.resources import INLINE\\n\"+\n",
       "       \"output_notebook(resources=INLINE)\\n\"+\n",
       "       \"</code>\\n\"+\n",
       "       \"</div>\"}};\n",
       "  \n",
       "    function display_loaded() {\n",
       "      if (window.Bokeh !== undefined) {\n",
       "        Bokeh.$(\"#ddb51ee9-826b-435b-aca9-515aeac13271\").text(\"BokehJS successfully loaded.\");\n",
       "      } else if (Date.now() < window._bokeh_timeout) {\n",
       "        setTimeout(display_loaded, 100)\n",
       "      }\n",
       "    }\n",
       "  \n",
       "    function run_callbacks() {\n",
       "      window._bokeh_onload_callbacks.forEach(function(callback) { callback() });\n",
       "      delete window._bokeh_onload_callbacks\n",
       "      console.info(\"Bokeh: all callbacks have finished\");\n",
       "    }\n",
       "  \n",
       "    function load_libs(js_urls, callback) {\n",
       "      window._bokeh_onload_callbacks.push(callback);\n",
       "      if (window._bokeh_is_loading > 0) {\n",
       "        console.log(\"Bokeh: BokehJS is being loaded, scheduling callback at\", now());\n",
       "        return null;\n",
       "      }\n",
       "      if (js_urls == null || js_urls.length === 0) {\n",
       "        run_callbacks();\n",
       "        return null;\n",
       "      }\n",
       "      console.log(\"Bokeh: BokehJS not loaded, scheduling load and callback at\", now());\n",
       "      window._bokeh_is_loading = js_urls.length;\n",
       "      for (var i = 0; i < js_urls.length; i++) {\n",
       "        var url = js_urls[i];\n",
       "        var s = document.createElement('script');\n",
       "        s.src = url;\n",
       "        s.async = false;\n",
       "        s.onreadystatechange = s.onload = function() {\n",
       "          window._bokeh_is_loading--;\n",
       "          if (window._bokeh_is_loading === 0) {\n",
       "            console.log(\"Bokeh: all BokehJS libraries loaded\");\n",
       "            run_callbacks()\n",
       "          }\n",
       "        };\n",
       "        s.onerror = function() {\n",
       "          console.warn(\"failed to load library \" + url);\n",
       "        };\n",
       "        console.log(\"Bokeh: injecting script tag for BokehJS library: \", url);\n",
       "        document.getElementsByTagName(\"head\")[0].appendChild(s);\n",
       "      }\n",
       "    };var element = document.getElementById(\"ddb51ee9-826b-435b-aca9-515aeac13271\");\n",
       "    if (element == null) {\n",
       "      console.log(\"Bokeh: ERROR: autoload.js configured with elementid 'ddb51ee9-826b-435b-aca9-515aeac13271' but no matching script tag was found. \")\n",
       "      return false;\n",
       "    }\n",
       "  \n",
       "    var js_urls = [];\n",
       "  \n",
       "    var inline_js = [\n",
       "      function(Bokeh) {\n",
       "        Bokeh.$(function() {\n",
       "            var docs_json = {\"dfed772d-79a2-4dca-b65f-caf6baacc46f\":{\"roots\":{\"references\":[{\"attributes\":{\"fill_alpha\":{\"value\":0.1},\"fill_color\":{\"value\":\"#1f77b4\"},\"line_alpha\":{\"value\":0.1},\"line_color\":{\"value\":\"#1f77b4\"},\"line_width\":{\"value\":3},\"x\":{\"field\":\"x\"},\"y\":{\"field\":\"y\"}},\"id\":\"afa7a2a8-a385-4948-9238-a52682e74427\",\"type\":\"Circle\"},{\"attributes\":{\"plot\":{\"id\":\"c7716e5f-4bc4-4055-b6d2-9d7db09d7072\",\"subtype\":\"Figure\",\"type\":\"Plot\"}},\"id\":\"22b6157b-e143-4cbf-92b5-f6b849c3a43d\",\"type\":\"WheelZoomTool\"},{\"attributes\":{\"axis_label\":\"Predicted\",\"axis_label_text_color\":{\"value\":\"#aa6666\"},\"formatter\":{\"id\":\"cfff3928-fa84-42a8-8c1d-fbea6c0c697b\",\"type\":\"BasicTickFormatter\"},\"major_tick_line_color\":{\"value\":\"firebrick\"},\"major_tick_line_width\":{\"value\":3},\"minor_tick_line_color\":{\"value\":\"orange\"},\"plot\":{\"id\":\"c7716e5f-4bc4-4055-b6d2-9d7db09d7072\",\"subtype\":\"Figure\",\"type\":\"Plot\"},\"ticker\":{\"id\":\"078c2b45-a77f-426e-8f1e-af8f39d0e6d0\",\"type\":\"BasicTicker\"}},\"id\":\"91d9891c-2d22-45fe-832a-b8ebf0539a3b\",\"type\":\"LinearAxis\"},{\"attributes\":{},\"id\":\"a8d5d2c6-671d-4767-81ae-8449e7d89e8f\",\"type\":\"BasicTickFormatter\"},{\"attributes\":{\"callback\":null,\"overlay\":{\"id\":\"0a1418f5-8237-440e-b9e9-d1fc309ee71b\",\"type\":\"PolyAnnotation\"},\"plot\":{\"id\":\"c7716e5f-4bc4-4055-b6d2-9d7db09d7072\",\"subtype\":\"Figure\",\"type\":\"Plot\"}},\"id\":\"7c9b3965-0bbf-4e6d-a10c-95940235b407\",\"type\":\"LassoSelectTool\"},{\"attributes\":{\"callback\":null,\"overlay\":{\"id\":\"e07473a7-5afd-4bd1-81f9-bbb8652bee1f\",\"type\":\"BoxAnnotation\"},\"plot\":{\"id\":\"c7716e5f-4bc4-4055-b6d2-9d7db09d7072\",\"subtype\":\"Figure\",\"type\":\"Plot\"},\"renderers\":[{\"id\":\"5706da4a-01b4-4b7d-a074-ac62f70f820b\",\"type\":\"GlyphRenderer\"}]},\"id\":\"7996ff8e-9c50-403e-b5af-307c611dc4cf\",\"type\":\"BoxSelectTool\"},{\"attributes\":{\"callback\":null,\"column_names\":[\"x\",\"y\"],\"data\":{\"x\":[40.021291678889654,31.24191375106018,31.806458034310516,24.712281681083436,46.79667398625624,22.359570977397787,22.54376536898809,23.424210843866266,27.64603727249858,23.16971114865066,23.54466306660036,37.51623079523469,21.343165362641088,39.84212991427909,56.10036659073589,31.822186638658913,39.20570930882969,35.23309156979846,41.18121164155784,34.61546884429814,26.560585814711338,31.572999258933006,34.030095449601646,43.4467357220789,37.83234009607261,38.40105760514031,60.64043563615304,22.336439163789215,36.14254253672335,30.37642698361913,32.19156139140782,35.01992803220627,29.062978400888753,57.644457482819575,58.14618300167581,29.07609409004685,41.186558598637845,32.96920770721214,27.1934642699116,30.737197930260432,47.382414640361134,27.846630759979945,35.065000339093785,18.315325348915792,14.43446686749575,40.74073666571806,37.036328047691015,30.403179653510936,39.01357553966842,23.27577597121102,26.06082030163911,21.25110303550902,62.24943114664751,29.416820826175467,38.76894514701023,69.39950561419585,43.10198935543169,34.789830198059136,32.35887122869,47.61958869914764,30.980927080147787,34.602583316330424,26.609053927606006,32.85662576265388,52.49187212755277,30.323631373622046,27.311112740044415,38.82389906962636,33.41634369731092,53.02617105436035,34.82692201287096,28.65330926625207,53.42108670388642,24.23506035203185,23.364511560586838,39.90147237207636,48.95264891731754,40.11181443225381,25.06186429743357,36.790372202802104,32.87168702304174,45.52726037034064,58.870783638348186,28.640068378610962,29.020009241237695,55.09177287573889,33.918849755156856,38.76384983232579,62.3194221461936,28.774254784397,50.500980445013546,35.04537457585354,37.54468454799228,35.17390432436458,28.274802552300052,44.8715391777103,24.091991333928295,19.08413506133484,52.75511730441077,26.174648200251948,17.55918343060623,22.1795290547322,35.764520742772035,29.947734817902568,42.9592353364982,30.391973019220483,60.31535241906985,29.724623703003473,44.8201448637168,42.573360369761204,29.898664936087066,49.915664337478034,20.84371234602765,34.01583597246653,22.573785762653937,35.12790718839095,36.319842601890464,36.59541950340129,22.42458631428908,33.170697305474185,28.46048354971534,29.426859741327412,42.76123736432194,46.907804496023886,48.41515233274477,36.56231148992485,18.758202543849954,45.93581809947486,33.92614034423853,25.867257994314894,48.35330322012177,29.579990857885072,59.18971806389429,19.166423585522594,51.01971203657863,52.197617090631354,36.13779122681758,67.10708893579118,26.922280991609217,29.388352595795126,36.9440224293988,26.952837320576855,23.959290894721832,32.281792747326506,40.75218127786497,38.03160410681233,33.73039678048219,35.53377480343806,39.65637781986037,49.08406254533314,26.478852179133078,28.56683136341726,35.7052700611177,24.829102038892813,51.99169843312767,55.782987084203036,57.75291670701701,55.558365251677316,39.497069298164085,52.589890411286646,25.08931536952546,26.618860697945617,33.48523394741696,24.210426344337495,22.913542284447068,34.93198369409329,33.18547389426327,36.11084990537075,24.155616822167705,12.823851470097178,35.954739599946436,25.008404852234833,19.65368382943195,33.83176528035105,36.038985412744395,59.33617573980132,22.72009820183377,31.790734269151407,44.568199051227474,25.28897377873402,31.645029506318544,26.719547609852135,33.32672259312143,42.380732123309635,27.000248966311105,31.241417020048985,56.493895390173286,25.777852446430604,39.39051811330273,50.66177596784032,34.91948838947496,32.306674827338256,29.47204214246763,44.75600962726723,46.88381062144038,29.523799334218257,34.85559971541984,36.58217144088811,33.94063086991294,40.781621358467184,49.32621327771608,38.79301304150483,49.93032881358948,28.128861029393143,33.18320550503545,24.03850838474423,25.79715549487741,24.476102854507474,34.154683132487925,46.23034451633437,18.547693566793907,24.447778977304033,31.805291350677553,17.16253732863997,55.11576572048456,50.76975924297829,65.89600459387643,27.160786273977074,46.06444248194812,38.49517172408436,54.070023287034545,19.387729456705024,50.655518385898816,31.164175282758823,52.98768766674263,39.40958958230015,22.031054706476123,45.21915118951605,21.36617796084106,31.373664670326264,38.144406211933536,23.50663233483765,40.11110518038147,23.509377531009676,38.466553323143096,39.54516212170655,23.411659678138278,70.78199527872935,64.14039212171069,36.004756381929454,30.582894830797056,44.49232337866645,26.27083564853976,32.12546199702982,32.99176609795896,41.00410906668712,55.41419266425233,37.1322721346736,27.368974839408654,56.02322938202013,33.594703085140154,32.24785275246367,25.33078372493108,63.89175439443852,28.320150862479387,59.68950551744733,25.310900047289675,36.001808379650456,36.80089070169404,38.59444679425549,50.94402336267024,50.64076274511111,51.888796121260256,20.344187095682628,57.65078828627565,21.3162713201804,22.38134033388942,53.87009209038884,31.55177578586178,38.161329344481295,25.695537322353108,34.553959581887284,25.252368591609972,25.413419836215162,18.32196531176315,46.690889250463606,29.494329373175574,22.479779929136633,53.91458620470854,34.59653034545902,26.491505344167575,32.046855097354396,20.192391268821673,24.44915743629514,29.758742924069303,22.753868120262403,24.011157791688213,28.352169321050667,66.49890752353744,22.599053630997062,44.72532044087816,27.215512350565934,22.904658994379098,23.98009941993556,25.966741016400782,51.0889074208795,42.77708485995969,32.0408819494713,49.850284430497446,33.270748830721715,38.10207530819595,38.177292219326674,36.392194316433496,60.2362230871486,37.400868178294516,18.43415022900794,39.48010621103172,21.758178017909664,22.78174453255912,36.6339113137869,46.25753461572665,29.93186012988108,30.697820704605398,24.133230161365304,33.50269744969671,48.70199509538187,17.122606614728802,23.950496920500058,21.27729035448252,50.68246961194665,25.677369459952132,49.03587001749743,14.061884281020898,16.25286808953369,25.037595761027912,53.04822330362502,60.013925656064835,23.550092721830357,31.155902291668184,32.29180933531343,29.413564214799347,22.460721758361156,54.9350841351356,28.126554173636556,46.81116801479886,55.250156395706,51.73993477404187,16.5226416478792,52.856804603190156,46.93500533946972,49.92438135862041,37.36933831930203,34.41599201443688,49.78415468235632,25.48006033948593,21.277463192347714,31.689864063972806,40.74454194436048,61.611591372087176,26.116732181805375,49.914976480352166,31.482951920266835,54.51512887334468,25.457117733009195,33.23281673726347,33.660165798237784,18.34805839409344,16.210127132361677,34.64602776411841,35.00329920694892,57.61664613087692,32.449173627773774,22.47227303372801,38.52344376324157,36.19228071982722,67.34946943303342,52.806091947824555,38.324779417846536,46.654074743219525,38.00164151491186,34.018692158007994,27.38269499892559,45.14579872817695,37.358242986310316,44.84324171151848,29.739890848175833,25.687442249339764,32.78564749126283,22.079400655525262,40.54137130217442,32.148321992956255,28.13097075779045,47.025275647725856,23.33446631608657,38.9242841975002,31.284861595285363,52.183965829930315,26.745816389815666,28.963545049256375,24.8223800266745,56.02146216679347,27.293174474913478,30.939269528214282,27.81122338290029,52.806091947824555,30.752767249625727,44.4800049713845,38.00042544410033,34.361379773982314,33.05468487208343,30.48224759368481,34.69900857398326,43.47041182372827,55.22353511698983,33.502758559543565,25.715046092493424,43.55340059655773,18.12921310011426,21.244072807365583,16.598943601719185,39.793173098506024,69.78821225861597,46.898226282786155,26.158494891189573,52.88124940661392,42.59733131775276,33.64087510335649,17.02546435477793,46.55633766929496,62.9965400159693,52.11284188791019,19.34736553353081,33.584470208446504,35.388377700534804,25.58549379188282,23.995703435233345,57.86704162597948,37.00958251474868,29.791957379731663,30.95260750451945,21.692535111730457,46.00867733514866,60.98919826217203,33.09441263526157,23.697806123899255,31.99460251260362,38.32904872277335,20.180039493366298,19.41186342868322,20.984383126954594,21.61290637867289,29.840125755446266,30.5839628121718,43.14724886431186,28.983625164186925,60.73073287381645,40.71001122653485,40.01020829228929,29.17893225052453,20.035859383946697,40.87340657609138,17.500836514284906,23.055010857200987,42.47068051513317,34.82570601013158,72.15185633712439,31.11441876487146,29.17893225052453,29.424837895788034,27.294863889301297,24.97493720427933,34.36635849331606,32.45726265269673,27.466782786738484,58.05892323125362,17.518870895233512,19.86775729419723,26.800568853269013,23.331078859377236,37.698905563500404,42.02304922182528,52.73543669991582,56.027171335871444,40.623675069573025,32.93801834214802,31.824097428617414,42.95752556675511,24.641523473175358,21.995097614469277,16.036939102493314,31.962128701804275,25.12092845058409,63.199569276581194,50.57210629136314,31.075062127483477,18.480292997418942,37.98286931849192,16.069768283209985,37.49506237339892,35.732270322206155,50.54336438753893,48.52549879128975,34.55597269000316,53.38985607076981,32.459045578865855,50.15430103020606,33.157398219822646,50.12234392220705,18.279894616722533,27.97883325337716,15.309810579474014,24.712517298737982,27.90354937764966,26.764837982046117,55.820087645751954,47.16095181388924,24.273953435519015,25.80827276413383,37.682676512399034,36.78614673498366,43.12794868445991,49.297608370836905,53.67266792830528,50.4824599902506,33.59686805691427,23.208455460992155,35.37566258161121,59.6022040095949,25.952395875185616,28.961984350701556,50.57808791335772,45.40005136201054,35.91132599388424,28.921665571400872,62.593919948885585,77.38910457547233,37.881932573121105,25.022277496416603,27.228150697411383,26.611053349247516,35.15997584529577,67.04119490419015,18.81623966493253,63.16540566726978,36.34760615787733,34.50416227617051,26.634741849936752,36.86819274057151,27.205691850849956,43.27025385160841,25.426457725950556,31.387726589481257,32.79316996304867,58.927151768858046,50.12234392220705,37.739322178484905,35.19197202594161,48.550892040813174,22.968581443933708,24.924279242987065,32.67155904268121,65.05490196291692,35.91260620267764,36.05315980337584,34.07324849223577,54.75415840724773,41.058792948695114,23.362514574536213,25.69296980673976,22.906770583385544,28.023807208048385,19.81038597470163,33.175089982436056,22.89474952347496,31.73925215701142,46.352207696670206,31.164262478677067,35.7112739086065,20.305588107476545,14.267177545534352,34.119581958246805,29.5694438836181,29.033415674467555,47.866309814236175,26.186142860416787,58.634080901654166,31.551700391677848,37.138109103475415,32.039399819161446,23.781363051760458,39.12756232018178,43.24726094767031,23.360261387793056,25.893237912104002,16.746221627647646,25.542423632242198,23.34114257024636,27.857529258177106,58.99437005352918,46.72562432524067,28.888335675578272,37.360483738939806,52.31174026835299,32.95344827128654,50.10095653252414,63.620403579590686,31.392705815644426,28.555873102764163,33.46926772305181,27.49321208704928,24.75933387314584,40.405115512002126,20.411925727180556,50.41285517534065,32.857117999721034,45.64283973399078,30.851583464754857,32.68852627780806,37.381788733657295,52.929046356333444,33.202931966221975,48.34985982536399,46.76989204974294,21.3285464936707,23.645128313138198,26.568242781119444,50.77580840287319,41.04909767446502,48.99320553430343,48.011986040782595,58.08628432387931,55.259451916124796,46.06394139795819,17.176694257347492,39.657763091142655,40.86415769115745,23.215250736203945,54.74343460507895,39.08151334891315,28.402229441014327,19.45582169972945,32.083370482023525,41.744948150632496,27.288084630609166,32.91615301005175,34.75813252629852,27.026159933281228,42.80670475150122,16.682984690653562,48.46145405113073,44.961618685070505,31.07344327310658,26.414753120663455,39.19006209832973,48.56502466704434,19.70943409121313,34.2694922636338,29.326724320136357,26.099339751768255,27.903871816983056,28.385493587714045,40.35012304230347,26.456895236621246,19.974143886688868,32.59967974986014,40.3746231927222,35.93501440716305,25.91736344905619,30.26147419979203,46.51082447791619,60.16734505025724,40.66654402034292,53.24775754988738,39.030707800396584,24.993781151572207,24.151839222242955,31.933551502848413,39.41279754960481,50.60620016714674,22.11305790499583,28.759794641772732,36.975425342071404,38.371794765226156,67.97714053008573,22.913008710910184,29.49634949631776,30.21021298145038,20.596769893994903,66.11928964314937,24.26092153445116,40.94305751723397,55.96399189168014,34.43591291924133,23.318919995116318,51.471215119103434,28.28968181687692,52.85909323855586,33.70046421358141,41.35337454986968,20.953334405918312,35.569300718217285,31.05616852108632,48.50696346881315,46.461274834719504,28.237932828892546,44.44628668686819,29.403476574576878,53.295424376536,48.85005048433216,36.926515359124366,43.17600557963751,32.24879607333176,35.310009389827144,32.46778521986483,29.516985321890168,14.932539026782273,29.1488036914973,53.68235504457422,27.645665173824842,34.01876707048057,62.80890243299789,33.28766387111137,34.467434106184754,29.10718028779995,29.044768037035716,40.40001465685341,25.55197100545663,35.13732484481317,44.224720291464926,43.21450329673482,26.18895871340197,60.87783777613309,46.36348622934107,61.58010049680573,39.965786624299625,56.02172147586881,28.61678509401672,47.22637966058267,29.941115685120796,34.852751599954345,36.06068773325568,50.1428588967631,26.62648327055278,20.568600177300198,52.64557901430375,22.02769847579674,19.534048343485672,30.25667930109634,43.07726545284821,50.60620016714674,50.3508775139306,23.56704765872945,23.95243886073493,57.63495245805396,27.03947864361041,28.92374014885708,21.090790038572106,35.50276393140499,34.5807938849724,32.558994906310225,26.08509946533667,29.787624360776025,34.46422112467093,64.13837194891214,14.806396745550668,51.713875671484786,35.38261966393958,36.46177459798192,75.12261494544846,46.88356860279692,29.463504526555337,31.087757814166302,28.54461198630067,27.30816025013804,51.31903693073896,52.880772629512194,28.070938381059175,31.288799734307656,54.665131535842704,24.351376025527813,40.942407789816855,46.56243988626317,25.892208403484638,55.865624700292216,22.8284390872424,14.89546629762134,16.546392394629287,19.728869296698026,33.37401436956105,13.049108188628026,29.03628895474358,29.646821490494304,35.23278256672296,27.970762812262123,29.583714646635713,52.9237506848252,21.897062541297394,56.294420333496106,46.08387866173412,59.73897074374669,19.55294640871702,67.8422073302215,34.58687263906271,36.22155127361161,24.764569179045843,43.380756373081056,26.699299852770118,65.52844757508409,38.49551064969876,45.71057532350262,33.812935982707344,28.070938381059175,53.81435745775732,39.80043447080423,39.845540358463296,14.070003249117367,24.17718157585537,28.516131221278528,59.59668978876726,48.10592733211671,16.11998495594643,49.413312315352236,15.625672398930568,34.507613957387605,52.180795004715655,24.138540448528744,52.67239935413279,49.862839759814776,23.39232743083374,30.15480343672926,29.29506122249684,30.443039313929013,46.44810810224517,41.793417266495794],\"y\":[-3.870750481110342,-6.96884616893982,-1.6131331616894826,11.591553401083436,-0.4255372537437623,0.04123285739778737,10.071144528988091,-5.513786352133735,-19.383810163501423,-3.1531035793493416,-6.895012857399635,24.87813571523469,0.5692534826410878,-3.956143509720903,-9.999697529264111,16.460661358658914,-1.6595332111703058,-10.706694310201534,7.424466681557838,-8.966309115701854,3.0363541707113377,-11.12624942106699,19.886184785601646,-4.954479477921097,3.2627029320726137,2.5414108451403123,1.5454476761530458,-2.1606431162107853,-1.579378899276655,14.85632222361913,-0.20967375259218102,1.9664485922062767,-20.186292279111242,-14.05415175718042,3.2501038816758125,-21.38320696995315,-10.677205073362153,4.287006107212143,0.4211111899116027,13.500987406260432,10.543711960361136,-12.384293840020057,-12.64949676490621,6.952760868915792,4.443959627495751,-0.18449026628193366,-3.5269239843089792,-1.312716346489065,-0.40376738033157267,5.1494519312110185,7.775916781639111,11.384701475509019,20.94981874664751,-5.139716293824534,-15.18944661298977,-13.199719185804156,-11.496925608568304,-9.822024905940857,-6.93091863131,-15.908729940852353,-8.181309719852216,-4.718922439669576,6.192980091606007,-11.538733877346118,-3.8452118324472337,-8.17670846637795,-4.934300827955589,-3.4051269783736444,-12.83094847868908,19.33837369436035,-9.382279107129037,-5.07585665374793,-11.479289176113582,-8.957003763968153,10.912575000586838,-4.238781147923639,-8.963335082682455,-15.39789832774619,-12.204313502566432,-5.426243277197898,-8.331398736958263,5.747942550340646,-6.029592241651812,-11.022038521389035,5.508877641237696,0.32669419573889513,4.845715263156858,-11.00942260767421,-2.877428413806399,-7.814168107602995,-1.5061942349864523,-2.220803224146458,-6.0336460320077165,-5.505179675635418,1.3093961923000528,8.619580573710302,-1.6344266540717065,6.903162569334841,-20.239706815589237,-2.452395319748053,6.166971482606229,2.095093174732199,-12.519483537227963,5.9470752579025685,-2.345543147501793,-5.371147100779513,-13.879159940930151,15.024995383003475,19.211036294258157,-19.417426790238792,-8.175578735912929,-4.180622622521966,-20.013256461972347,-5.828982067533467,0.13823672265393938,9.233946532390952,-6.6000383981095325,5.9482113034012905,-3.775501685710921,10.031882745474185,1.6053933497153423,3.279171917327414,-9.685133527678055,8.986624496023886,6.5784381287447715,-12.424958310075148,10.221800187849954,10.181562668933495,-14.661233375761462,4.265974914314896,19.553890700121766,-3.243203598114931,-20.106916696105714,7.511521281522594,-15.760963393962733,-8.896851269368646,-12.532319613182416,26.91063813579118,0.6642770076092184,15.929781075795127,-10.795295810601196,3.2562366765768544,-3.8679604652781663,0.9313190273265057,-19.570073962135027,-10.664017345187666,-5.362892419517813,2.416863571438057,2.328147179860366,-1.6131077346668619,12.91341187913308,-5.120965996582736,-17.756698978882298,8.325115026892814,-9.864148421060293,-4.511689115796962,14.739956447017008,-21.738789108322678,-17.35022690183591,-2.90603282871335,10.04012271752546,8.782116577945619,13.720025455416959,-0.328024495662504,0.9675212044470705,1.3682920140932922,-9.872302305736731,8.429767457370748,-6.870803177832293,10.49204363809718,-6.337718240053562,9.667563852234833,-0.03775073056804601,0.1301784003510491,-11.743080339255599,3.1942134878013206,-2.1699853981662294,1.9198760451514119,-14.037260948772527,0.38510065873402155,18.249495791047863,2.932625609852135,-0.40244332687856854,-9.660916356690365,-4.350224753688895,-6.714236779951015,-1.1049296498267154,-3.6696675135693937,15.500174713302734,-17.037872472159684,0.18368750947495727,-6.749382668661745,4.375115742467628,-0.6115111727327687,18.787663621440384,6.3022476542182595,-5.292587764580155,-5.557912203111883,-3.40138929008706,-3.351737401532816,-10.954673402283916,-10.980259398495171,-9.660096901681193,10.16939018139314,9.079124545035455,-2.9062136952557687,-6.169709769122587,-3.7613867254925246,18.045076392487925,-8.045206203665629,-0.19846939720609313,-0.4698836626959668,-9.053056409322448,5.696551448639971,16.707815664484556,25.56941144297829,-13.504051566123564,3.6427599139770734,-20.359675358051874,-0.9566449959156387,24.284660087034545,-2.960256131294976,-5.240300934101185,1.0409688427588222,-14.580960333257366,-14.11443229769985,8.737957426476124,21.121964989516048,6.3769697208410605,-8.209152489673734,-10.702210484066462,11.549050066837651,0.735130820381471,3.5214682910096755,-0.9894002528569033,0.12368234570654835,-1.0716330818617195,11.583585918729355,-2.5595161182893094,-13.968464098070541,-10.130662969202941,4.792984774666451,5.9933464885397605,14.550718757029816,-0.09067133404104055,-0.047291973312880486,-0.7298380157476672,-6.244731453326402,12.283239959408654,-21.27392497797986,0.7549612051401553,-5.190004571536328,1.586609236931082,7.492617594438521,-15.068573817520608,14.991465913447335,-7.4095624847103245,-17.901425300349544,29.051180461694038,-9.22071380574451,-8.950756757329764,12.623056105111111,-16.861810732927708,13.460458711682628,-19.149943353724346,9.464178880180402,13.893890773889419,4.669084730388839,-1.2162605901382264,4.949270424481298,7.700213722353109,10.753248061887284,18.35002435560997,7.287095796215162,7.7860825557631514,21.180277250463607,16.032999949175576,-3.003253030863366,-1.7330217552914533,1.632682785459025,7.075861184167575,9.101093817354396,0.5009567088216755,6.41522318029514,-23.149576887930692,-0.49132273392555703,-1.678717968311787,10.398214281050667,22.800608119537443,7.023790790997063,19.302961368878158,-1.9424276894340657,0.46910995437909975,1.4480237399355609,4.787417248400782,17.690689980879505,-6.196395420040304,9.551553781471299,-17.456362689502548,-6.339647369278282,-6.982760331804052,-0.28374748867332755,-10.539747527566497,19.639876207148603,6.953608018294517,-5.856778726992058,-10.513798548968282,13.694756197909664,6.503216172559121,-3.7555927662130983,22.61835746991461,8.86561042588108,-12.553008775394602,3.2145283213653038,-0.2961055463032878,4.67205773538187,7.272949468916762,-1.6704312394999405,-3.17152860551748,-25.552891708053345,9.929048143952134,-9.486852862502566,6.222542161020899,-1.0226425664663097,-2.1829167189720877,-18.25048985637497,-8.08561886393516,-1.1055690381696444,4.242206631668186,-1.1077870566865684,0.021202334799347966,-7.431510221638842,8.1334532551356,-3.1273929063634434,-8.739913305201142,26.250795835706,12.439802774041873,6.186706931879202,-27.129306156809847,-0.34236398053027983,24.90329731862041,12.975677439302032,-9.317470665563114,-0.016696797643675154,16.468609019485932,9.863188012347715,-1.8531433360271947,-15.082329775639522,14.713433852087178,-5.626742858194625,14.551752440352168,-3.859587839733166,-11.481513846655318,-4.776404866990806,-2.0814545067365273,-3.2750635217622133,5.613436674093439,5.040615932361678,-3.9577334758815894,-9.605797993051084,16.465271070876923,19.660772779773776,10.296126873728008,5.480306463241575,14.333133615827215,26.296689441033422,-18.492621212175436,-9.386959782153461,0.4247089432195281,11.25686747491186,-7.5222368419920045,0.465551958925591,-10.798283911823049,19.535288386310317,-16.39256922848152,14.399049848175833,-5.731979070660234,10.874100211262828,5.201028175525263,-11.87948897782558,-5.022708119043742,-11.513899242209547,-3.6298365962741386,9.81384195608657,2.968110797500202,-15.847717764714638,-3.911801530069681,7.395672449815667,-3.104673186743625,6.623661006674503,-4.2732140332065285,13.958708634913478,3.015491528214284,-5.793836857099709,-18.492621212175436,-5.6950025383742755,10.991170686655188,-0.45854583589967035,-4.3389081060176835,-0.7434286479165735,11.066603433684811,-4.787281946016741,-15.831418936271731,-24.97631320301017,1.4510877475435677,3.855898988493422,-13.190474203442271,7.59401982011426,-4.7215933526344145,11.695390289719185,-2.147651981493972,27.85359246261597,-20.966896397213844,13.069482507189573,1.8600254066139215,-10.361320242247238,4.655304063356493,-0.9388328252220681,17.0073662387536,21.752085695969306,-6.671881872089806,6.887844737530809,-1.0892778315534954,-6.295962307465196,8.696089695882819,-1.221191788766653,-8.729445214020515,-14.321905685251316,-3.227048260268333,0.8294010645194483,8.398748355730458,11.238402655148661,22.87496498217203,-2.7583393647384256,7.4330672838992555,-6.209262647396379,16.509201750773354,5.680359213366298,9.67646230868322,10.221662766954594,4.44702240667289,15.299076915446266,-6.0547918278282005,-6.9293930156881345,-7.980562147813075,16.434657777816447,4.360836506534852,-16.051085267710704,10.073552290524528,-4.246106384053302,4.523542380091378,2.4308610837435474,-2.405958870799015,3.7703926351331702,-8.551297577868418,5.038262497124393,3.8801167648714596,9.97978355452453,0.01179173578803372,-2.359498870698701,11.350891444279329,-5.781828986683934,2.9063212926967275,-5.193695333261516,1.363311751253626,6.034958639233514,-15.357571545802767,-15.526362786730985,-9.672758308622761,-13.556740276499596,20.105986133825283,14.519850447915829,-21.26998302412855,-11.802701018426973,-4.293685657851981,5.596430388617414,3.9607630067551085,-0.34508676682463957,-0.8403475055307226,3.791845342493314,-7.642751690195723,9.60082369058409,-1.9972812834188076,-5.32371302863686,-8.282985856516518,0.9041708054189428,-2.95201027750808,4.017727803209986,13.090369877398924,12.207349202206156,11.243232387538932,-6.929055888710252,-2.8756793499968367,-16.447167969230193,1.1085718588658544,3.952514270206059,-13.23054706017735,14.821172722207052,-10.347148903277468,-3.8956422266228365,-5.284148064525986,12.164054098737981,-5.76080579835034,11.673587294046117,-13.837672634248037,-12.602827866110758,-12.169679496480985,2.876301004133829,-4.347780447600961,4.159452938983655,-23.69606523554009,-22.6905807891631,-20.692243529815123,-21.616045329749404,-3.3935193430857282,1.669225220992157,-2.0559894583887868,-4.698327750405099,18.637055515185615,-9.641776889298441,27.68058995335772,13.38866564673986,8.23575935388424,-11.140337408599123,6.098256508885584,6.69023553547234,-8.761118826878892,-6.948724623583395,-5.494380262588617,2.8241313492475157,2.2030230452957724,11.883114904190151,8.432731104932532,-11.332476132730221,-17.376363762122672,3.622532236170514,13.093433209936752,-6.7066904594284935,5.700935410849958,-9.556707792391585,-7.6339164740494425,-19.38528605051874,13.254109599048668,16.796031312858048,14.821172722207052,-3.803675249515095,-12.209502974058388,-3.181871191186822,2.9806722039337075,9.879912922987065,3.0792491226812118,22.92791836291692,-16.391043157322365,-3.329709316624154,-5.075198787764229,18.453247007247732,-3.267619091304887,-0.04243772146378433,3.0629885347397625,7.290828659385545,4.1886218880483845,-15.414942865298364,1.9969852624360556,-4.98007568052504,-6.823140522988581,-7.963332631329791,-11.47293336132293,2.4095831086065047,7.764019667476546,9.484972009534353,5.051273798246804,-4.669934276381902,-3.8511421455324424,-2.0310683057638244,-5.3504893795832125,24.932494021654165,-1.2121991283221476,-0.7761761365245832,6.479835023161446,6.344515011760457,-18.09067196781821,-7.279608760329687,9.053634387793057,6.883695116104004,6.656429843647645,12.359642512242198,9.820518210246362,-2.418051377822895,6.477672609529186,-35.02554499475933,0.41987163557827145,-3.4978640210601952,-18.986972891647,15.58554783128654,-5.794862787475864,1.1194041795906884,5.159522967644424,-5.649031257235837,-7.94066083694819,17.875711363049277,7.536223393145843,-3.9833493679978744,0.6467172351805566,-0.09815658465934263,-6.194802640278965,20.526214018720104,-4.718483375245139,-11.589622442191938,-13.218854906342706,-15.37044620366656,2.024137770221973,-13.702980174636004,7.538707649742946,6.2979696936707015,6.0483218411382005,-9.994669498880555,-9.022445077126811,-15.763724725534985,-4.307426121696572,10.0149636807826,-6.2142474361206865,-22.037702443875197,7.45328539795819,6.389152761347493,5.170173571142655,-12.790864628842549,9.991101056203945,-8.653883594921048,2.1462840289131506,3.0295126410143283,7.2796755397294515,-5.086280677976475,-9.310749649367501,5.376537350609166,-11.382679989948251,-19.01410071370148,5.735141053281229,-2.491868448498778,-1.7329192693464357,5.840805635130728,-15.988059714929491,-0.04260860689342039,10.977385480663456,14.948085938329733,5.769249347044344,-2.2572712687868695,-4.361158540366198,3.2645315201363587,1.6712050717682558,0.13177853698305597,-3.514492504285954,-16.268956601696523,-6.81721652337875,8.397841846688868,2.3799466698601393,-16.238251167277802,2.628497275163056,-4.01278971094381,6.260814639792031,0.276632345916191,-19.129289709742764,-1.0529592636570797,19.849540109887386,-12.004305719603416,10.004572911572208,-3.8698443697570433,-0.46492573715158514,-13.691333446395191,15.30502896714674,7.316902944995832,-1.319974810227265,-0.2900629819285925,-12.577034254773842,24.278841126085737,1.2634623109101852,6.4195877763177585,6.1447426774503775,10.564894093994903,7.320776363149378,-0.9187419855488379,16.505270173233967,-4.33068430831986,-6.2224868007586664,15.81190530711632,-4.1281295208965645,-8.011229583123075,-21.83873660144414,24.138811045581413,-2.8544476181303224,7.756763765918313,7.633801626217288,5.007765241086322,16.39708118408383,-32.33893720528049,1.8378967888925466,-12.187271953131805,13.712381766576877,28.212287496536,-2.1711735156678387,-0.3327676808756337,0.7525472996375129,-11.250244766668239,11.786467221827145,6.908909899864831,-2.12306831810983,2.0944959067822726,-4.814784068502696,4.481347684574224,12.075918141824843,5.027680222480569,-2.3879481270021117,20.91501705111137,-7.418232893815244,3.362146447799951,-11.013787562964282,-5.829351143146589,1.8133123254566286,-8.42790569118683,3.1733192514649247,10.360971896734817,-4.834703382598033,0.6796882161330942,-19.543524610658928,-11.718093063194274,-4.312362095700372,3.8214935158688093,1.7568685620167237,6.467316444582671,18.475129805120794,13.072204759954346,-4.508080106744316,21.846763856763104,8.33882184655278,6.365394577300197,8.126113694303747,7.18396967179674,-1.729391496514328,-9.139979338903657,-9.364279107151788,15.30502896714674,9.2512131539306,-0.7162970612705486,-1.2272246592650689,-4.162781421946036,3.3490832836104083,-2.343996451142921,11.959369894572106,-1.3021544245950096,3.7336376449724007,-9.988569053689773,7.076246145336668,4.683803200776026,-10.172455115329072,25.14298834091214,5.498470745550668,-3.8372056485152157,-3.38661581606042,-9.374589882018078,0.955681625448463,24.130860602796922,1.7210587145553404,1.2196574941663023,-20.640537425699325,2.9696574501380404,6.795434754738956,-15.618667970487806,-3.576010018940824,-6.138715449692338,-13.131043544157293,-12.087430574472187,-14.07777701018314,7.557797601533856,-6.640716656515359,-17.832464939707776,2.8956879272424025,6.521090801621341,6.324221218629287,5.1319729006980275,-10.324974510438949,5.325598036628025,-2.314184765256421,-15.2215186855057,-10.13473823327704,-1.7801265877378754,3.4387847266357134,-2.2756978751747994,-7.334651430702603,5.252512053496105,-19.82520060626588,-19.557664016253312,9.81478738471702,12.946128210221502,-2.77583180093729,-15.50293824638839,4.038920619045843,-9.439999986918941,-5.403392183229883,-6.0943193049159134,2.629658605698765,10.60935216350262,-12.430219337292655,-3.769063298940825,20.41614001775732,-17.412284009195773,-4.096833549536704,6.394066941117367,6.147384175855372,-3.359033734721475,-15.900932211232735,23.705371692116707,7.915910031946428,2.7288923553522366,12.305845458930568,13.485490717387606,10.812235004715653,-2.902708271471255,8.249460674132791,15.464882119814774,2.4253622708337375,-6.814899683270738,23.027724382496842,15.026355953929013,7.0128388062451705,-8.938916289504206]}},\"id\":\"1a608ec3-123b-4854-9e87-4eb99e4635a5\",\"type\":\"ColumnDataSource\"},{\"attributes\":{\"plot\":{\"id\":\"c7716e5f-4bc4-4055-b6d2-9d7db09d7072\",\"subtype\":\"Figure\",\"type\":\"Plot\"}},\"id\":\"1a8e7cfb-b693-4c3e-be19-a9636632a718\",\"type\":\"UndoTool\"},{\"attributes\":{\"callback\":null},\"id\":\"30e9600a-f776-400f-a0bd-7b245310c13c\",\"type\":\"DataRange1d\"},{\"attributes\":{},\"id\":\"f20a8d5f-2e0a-461b-b93f-49a177591255\",\"type\":\"ToolEvents\"},{\"attributes\":{\"dimension\":1,\"plot\":{\"id\":\"c7716e5f-4bc4-4055-b6d2-9d7db09d7072\",\"subtype\":\"Figure\",\"type\":\"Plot\"},\"ticker\":{\"id\":\"7e7ca50d-560d-4a56-ac6c-e6e2034471c1\",\"type\":\"BasicTicker\"}},\"id\":\"f1011993-21d5-47c2-97cd-d362a6ab0197\",\"type\":\"Grid\"},{\"attributes\":{\"plot\":{\"id\":\"c7716e5f-4bc4-4055-b6d2-9d7db09d7072\",\"subtype\":\"Figure\",\"type\":\"Plot\"}},\"id\":\"0675a303-5d48-4e29-a941-9a7603fab8f2\",\"type\":\"ResetTool\"},{\"attributes\":{\"plot\":{\"id\":\"c7716e5f-4bc4-4055-b6d2-9d7db09d7072\",\"subtype\":\"Figure\",\"type\":\"Plot\"}},\"id\":\"13f5bf39-31b0-494e-a6fb-95896ab0310b\",\"type\":\"SaveTool\"},{\"attributes\":{\"bottom_units\":\"screen\",\"fill_alpha\":{\"value\":0.5},\"fill_color\":{\"value\":\"lightgrey\"},\"left_units\":\"screen\",\"level\":\"overlay\",\"line_alpha\":{\"value\":1.0},\"line_color\":{\"value\":\"black\"},\"line_dash\":[4,4],\"line_width\":{\"value\":2},\"plot\":null,\"render_mode\":\"css\",\"right_units\":\"screen\",\"top_units\":\"screen\"},\"id\":\"6b90e3d3-2228-430d-b884-3951fd2115c3\",\"type\":\"BoxAnnotation\"},{\"attributes\":{\"plot\":{\"id\":\"c7716e5f-4bc4-4055-b6d2-9d7db09d7072\",\"subtype\":\"Figure\",\"type\":\"Plot\"},\"ticker\":{\"id\":\"078c2b45-a77f-426e-8f1e-af8f39d0e6d0\",\"type\":\"BasicTicker\"}},\"id\":\"507f15b5-49f4-4469-a9ff-ef5351b1292b\",\"type\":\"Grid\"},{\"attributes\":{\"plot\":{\"id\":\"c7716e5f-4bc4-4055-b6d2-9d7db09d7072\",\"subtype\":\"Figure\",\"type\":\"Plot\"}},\"id\":\"59d9aaed-b8da-44b7-85d5-8c35ac6dd36c\",\"type\":\"ResizeTool\"},{\"attributes\":{},\"id\":\"078c2b45-a77f-426e-8f1e-af8f39d0e6d0\",\"type\":\"BasicTicker\"},{\"attributes\":{},\"id\":\"cfff3928-fa84-42a8-8c1d-fbea6c0c697b\",\"type\":\"BasicTickFormatter\"},{\"attributes\":{\"align\":\"center\",\"plot\":null,\"text\":\"Residual plot on the training data\"},\"id\":\"8b7aabfa-4e80-4917-ae5e-39dc67dc87ce\",\"type\":\"Title\"},{\"attributes\":{\"fill_color\":{\"value\":\"#80B1D3\"},\"line_color\":{\"value\":\"#80B1D3\"},\"line_width\":{\"value\":3},\"x\":{\"field\":\"x\"},\"y\":{\"field\":\"y\"}},\"id\":\"3bfa8aa2-1e68-40c4-8c07-06d220f2152b\",\"type\":\"Circle\"},{\"attributes\":{\"active_drag\":\"auto\",\"active_scroll\":\"auto\",\"active_tap\":\"auto\",\"tools\":[{\"id\":\"7c6acf8e-6299-4667-866b-6f66a855bb7d\",\"type\":\"BoxZoomTool\"},{\"id\":\"7996ff8e-9c50-403e-b5af-307c611dc4cf\",\"type\":\"BoxSelectTool\"},{\"id\":\"16ef59ce-b300-4115-a1f8-a316f27c5ad5\",\"type\":\"CrosshairTool\"},{\"id\":\"59d9aaed-b8da-44b7-85d5-8c35ac6dd36c\",\"type\":\"ResizeTool\"},{\"id\":\"0675a303-5d48-4e29-a941-9a7603fab8f2\",\"type\":\"ResetTool\"},{\"id\":\"7c9b3965-0bbf-4e6d-a10c-95940235b407\",\"type\":\"LassoSelectTool\"},{\"id\":\"e2a3a35d-b89b-4bb5-94c2-19c0dd23f717\",\"type\":\"PanTool\"},{\"id\":\"13f5bf39-31b0-494e-a6fb-95896ab0310b\",\"type\":\"SaveTool\"},{\"id\":\"7c4da917-5d49-4a2a-9854-61300cf09827\",\"type\":\"PolySelectTool\"},{\"id\":\"4d268766-f12b-4be5-b29b-e1dd9d481a89\",\"type\":\"TapTool\"},{\"id\":\"22b6157b-e143-4cbf-92b5-f6b849c3a43d\",\"type\":\"WheelZoomTool\"},{\"id\":\"1a8e7cfb-b693-4c3e-be19-a9636632a718\",\"type\":\"UndoTool\"}]},\"id\":\"b74b9531-9f7c-430b-9901-51e08adfa382\",\"type\":\"Toolbar\"},{\"attributes\":{\"callback\":null},\"id\":\"5c8b35b1-f523-404c-b1a6-b942899e49dd\",\"type\":\"DataRange1d\"},{\"attributes\":{\"overlay\":{\"id\":\"23ec62a5-9f3d-432d-8b2b-79c9123bbc3a\",\"type\":\"PolyAnnotation\"},\"plot\":{\"id\":\"c7716e5f-4bc4-4055-b6d2-9d7db09d7072\",\"subtype\":\"Figure\",\"type\":\"Plot\"}},\"id\":\"7c4da917-5d49-4a2a-9854-61300cf09827\",\"type\":\"PolySelectTool\"},{\"attributes\":{\"fill_alpha\":{\"value\":0.5},\"fill_color\":{\"value\":\"lightgrey\"},\"level\":\"overlay\",\"line_alpha\":{\"value\":1.0},\"line_color\":{\"value\":\"black\"},\"line_dash\":[4,4],\"line_width\":{\"value\":2},\"plot\":null,\"xs_units\":\"screen\",\"ys_units\":\"screen\"},\"id\":\"0a1418f5-8237-440e-b9e9-d1fc309ee71b\",\"type\":\"PolyAnnotation\"},{\"attributes\":{\"bottom_units\":\"screen\",\"fill_alpha\":{\"value\":0.5},\"fill_color\":{\"value\":\"lightgrey\"},\"left_units\":\"screen\",\"level\":\"overlay\",\"line_alpha\":{\"value\":1.0},\"line_color\":{\"value\":\"black\"},\"line_dash\":[4,4],\"line_width\":{\"value\":2},\"plot\":null,\"render_mode\":\"css\",\"right_units\":\"screen\",\"top_units\":\"screen\"},\"id\":\"e07473a7-5afd-4bd1-81f9-bbb8652bee1f\",\"type\":\"BoxAnnotation\"},{\"attributes\":{\"fill_alpha\":{\"value\":0.5},\"fill_color\":{\"value\":\"lightgrey\"},\"level\":\"overlay\",\"line_alpha\":{\"value\":1.0},\"line_color\":{\"value\":\"black\"},\"line_dash\":[4,4],\"line_width\":{\"value\":2},\"plot\":null,\"xs_units\":\"screen\",\"ys_units\":\"screen\"},\"id\":\"23ec62a5-9f3d-432d-8b2b-79c9123bbc3a\",\"type\":\"PolyAnnotation\"},{\"attributes\":{\"plot\":{\"id\":\"c7716e5f-4bc4-4055-b6d2-9d7db09d7072\",\"subtype\":\"Figure\",\"type\":\"Plot\"}},\"id\":\"e2a3a35d-b89b-4bb5-94c2-19c0dd23f717\",\"type\":\"PanTool\"},{\"attributes\":{},\"id\":\"7e7ca50d-560d-4a56-ac6c-e6e2034471c1\",\"type\":\"BasicTicker\"},{\"attributes\":{\"background_fill_alpha\":{\"value\":0.5},\"background_fill_color\":{\"value\":\"beige\"},\"below\":[{\"id\":\"91d9891c-2d22-45fe-832a-b8ebf0539a3b\",\"type\":\"LinearAxis\"}],\"left\":[{\"id\":\"504baa3c-31f0-4f1c-a1ed-656cddb15b35\",\"type\":\"LinearAxis\"}],\"plot_height\":500,\"plot_width\":500,\"renderers\":[{\"id\":\"91d9891c-2d22-45fe-832a-b8ebf0539a3b\",\"type\":\"LinearAxis\"},{\"id\":\"507f15b5-49f4-4469-a9ff-ef5351b1292b\",\"type\":\"Grid\"},{\"id\":\"504baa3c-31f0-4f1c-a1ed-656cddb15b35\",\"type\":\"LinearAxis\"},{\"id\":\"f1011993-21d5-47c2-97cd-d362a6ab0197\",\"type\":\"Grid\"},{\"id\":\"6b90e3d3-2228-430d-b884-3951fd2115c3\",\"type\":\"BoxAnnotation\"},{\"id\":\"e07473a7-5afd-4bd1-81f9-bbb8652bee1f\",\"type\":\"BoxAnnotation\"},{\"id\":\"0a1418f5-8237-440e-b9e9-d1fc309ee71b\",\"type\":\"PolyAnnotation\"},{\"id\":\"23ec62a5-9f3d-432d-8b2b-79c9123bbc3a\",\"type\":\"PolyAnnotation\"},{\"id\":\"5706da4a-01b4-4b7d-a074-ac62f70f820b\",\"type\":\"GlyphRenderer\"}],\"title\":{\"id\":\"8b7aabfa-4e80-4917-ae5e-39dc67dc87ce\",\"type\":\"Title\"},\"tool_events\":{\"id\":\"f20a8d5f-2e0a-461b-b93f-49a177591255\",\"type\":\"ToolEvents\"},\"toolbar\":{\"id\":\"b74b9531-9f7c-430b-9901-51e08adfa382\",\"type\":\"Toolbar\"},\"x_range\":{\"id\":\"5c8b35b1-f523-404c-b1a6-b942899e49dd\",\"type\":\"DataRange1d\"},\"y_range\":{\"id\":\"30e9600a-f776-400f-a0bd-7b245310c13c\",\"type\":\"DataRange1d\"}},\"id\":\"c7716e5f-4bc4-4055-b6d2-9d7db09d7072\",\"subtype\":\"Figure\",\"type\":\"Plot\"},{\"attributes\":{\"data_source\":{\"id\":\"1a608ec3-123b-4854-9e87-4eb99e4635a5\",\"type\":\"ColumnDataSource\"},\"glyph\":{\"id\":\"3bfa8aa2-1e68-40c4-8c07-06d220f2152b\",\"type\":\"Circle\"},\"hover_glyph\":null,\"nonselection_glyph\":{\"id\":\"afa7a2a8-a385-4948-9238-a52682e74427\",\"type\":\"Circle\"},\"selection_glyph\":null},\"id\":\"5706da4a-01b4-4b7d-a074-ac62f70f820b\",\"type\":\"GlyphRenderer\"},{\"attributes\":{\"callback\":null,\"plot\":{\"id\":\"c7716e5f-4bc4-4055-b6d2-9d7db09d7072\",\"subtype\":\"Figure\",\"type\":\"Plot\"}},\"id\":\"4d268766-f12b-4be5-b29b-e1dd9d481a89\",\"type\":\"TapTool\"},{\"attributes\":{\"plot\":{\"id\":\"c7716e5f-4bc4-4055-b6d2-9d7db09d7072\",\"subtype\":\"Figure\",\"type\":\"Plot\"}},\"id\":\"16ef59ce-b300-4115-a1f8-a316f27c5ad5\",\"type\":\"CrosshairTool\"},{\"attributes\":{\"overlay\":{\"id\":\"6b90e3d3-2228-430d-b884-3951fd2115c3\",\"type\":\"BoxAnnotation\"},\"plot\":{\"id\":\"c7716e5f-4bc4-4055-b6d2-9d7db09d7072\",\"subtype\":\"Figure\",\"type\":\"Plot\"}},\"id\":\"7c6acf8e-6299-4667-866b-6f66a855bb7d\",\"type\":\"BoxZoomTool\"},{\"attributes\":{\"axis_label\":\"Residuals\",\"axis_label_text_color\":{\"value\":\"#aa6666\"},\"formatter\":{\"id\":\"a8d5d2c6-671d-4767-81ae-8449e7d89e8f\",\"type\":\"BasicTickFormatter\"},\"plot\":{\"id\":\"c7716e5f-4bc4-4055-b6d2-9d7db09d7072\",\"subtype\":\"Figure\",\"type\":\"Plot\"},\"ticker\":{\"id\":\"7e7ca50d-560d-4a56-ac6c-e6e2034471c1\",\"type\":\"BasicTicker\"}},\"id\":\"504baa3c-31f0-4f1c-a1ed-656cddb15b35\",\"type\":\"LinearAxis\"}],\"root_ids\":[\"c7716e5f-4bc4-4055-b6d2-9d7db09d7072\"]},\"title\":\"Bokeh Application\",\"version\":\"0.12.2\"}};\n",
       "            var render_items = [{\"docid\":\"dfed772d-79a2-4dca-b65f-caf6baacc46f\",\"elementid\":\"ddb51ee9-826b-435b-aca9-515aeac13271\",\"modelid\":\"c7716e5f-4bc4-4055-b6d2-9d7db09d7072\"}];\n",
       "            \n",
       "            Bokeh.embed.embed_items(docs_json, render_items);\n",
       "        });\n",
       "      },\n",
       "      function(Bokeh) {\n",
       "      }\n",
       "    ];\n",
       "  \n",
       "    function run_inline_js() {\n",
       "      \n",
       "      if ((window.Bokeh !== undefined) || (force === \"1\")) {\n",
       "        for (var i = 0; i < inline_js.length; i++) {\n",
       "          inline_js[i](window.Bokeh);\n",
       "        }if (force === \"1\") {\n",
       "          display_loaded();\n",
       "        }} else if (Date.now() < window._bokeh_timeout) {\n",
       "        setTimeout(run_inline_js, 100);\n",
       "      } else if (!window._bokeh_failed_load) {\n",
       "        console.log(\"Bokeh: BokehJS failed to load within specified timeout.\");\n",
       "        window._bokeh_failed_load = true;\n",
       "      } else if (!force) {\n",
       "        var cell = $(\"#ddb51ee9-826b-435b-aca9-515aeac13271\").parents('.cell').data().cell;\n",
       "        cell.output_area.append_execute_result(NB_LOAD_WARNING)\n",
       "      }\n",
       "  \n",
       "    }\n",
       "  \n",
       "    if (window._bokeh_is_loading === 0) {\n",
       "      console.log(\"Bokeh: BokehJS loaded, going straight to plotting\");\n",
       "      run_inline_js();\n",
       "    } else {\n",
       "      load_libs(js_urls, function() {\n",
       "        console.log(\"Bokeh: BokehJS plotting callback run at\", now());\n",
       "        run_inline_js();\n",
       "      });\n",
       "    }\n",
       "  }(this));\n",
       "</script>"
      ]
     },
     "metadata": {},
     "output_type": "display_data"
    }
   ],
   "source": [
    "# Plotining using bokeh\n",
    "#TOOLS = 'hover,box_zoom,box_select,crosshair,resize,reset,lasso_select,pan,save,poly_select,tap,wheel_zoom,undo'\n",
    "TOOLS = 'box_zoom,box_select,crosshair,resize,reset,lasso_select,pan,save,poly_select,tap,wheel_zoom,undo'\n",
    "p = figure(plot_width=500, plot_height=500, title=\"Residual plot on the training data\", tools=TOOLS)\n",
    "p.scatter(predicted, (predicted - Y),x=\"jjj\", marker=\"o\", color=\"#80B1D3\", line_width=3)\n",
    "p.title.align = \"center\"\n",
    "p.xaxis.axis_label = \"Predicted\"\n",
    "p.xaxis.axis_label_text_color = \"#aa6666\"\n",
    "#p.xaxis.axis_label_standoff = 30\n",
    "p.xaxis.major_tick_line_color = \"firebrick\"\n",
    "p.xaxis.major_tick_line_width = 3\n",
    "p.xaxis.minor_tick_line_color = \"orange\"\n",
    "p.yaxis.axis_label = \"Residuals\"\n",
    "p.yaxis.axis_label_text_font_style = \"italic\"\n",
    "p.yaxis.axis_label_text_color = \"#aa6666\"\n",
    "p.background_fill_color = \"beige\"\n",
    "p.background_fill_alpha = 0.5\n",
    "#p.line([2,38], [0, 0], line_dash=\"4 4\", line_width=2, color='red')\n",
    "show(p)"
   ]
  },
  {
   "cell_type": "markdown",
   "metadata": {},
   "source": [
    "## Pipeline"
   ]
  },
  {
   "cell_type": "markdown",
   "metadata": {},
   "source": [
    "The best to deliver the model by pipeline the operation then at deployment can be done in one model."
   ]
  },
  {
   "cell_type": "markdown",
   "metadata": {
    "collapsed": true
   },
   "source": [
    "  I used two ways to check the pipeline so any one can be fine"
   ]
  },
  {
   "cell_type": "code",
   "execution_count": 24,
   "metadata": {
    "collapsed": false
   },
   "outputs": [
    {
     "name": "stdout",
     "output_type": "stream",
     "text": [
      "0.603739980643\n",
      "Scoring according to mean_squared_error\n",
      "[-100.71054451 -109.67257318  -94.68795523 -130.24487142 -145.05829133\n",
      "  -90.27632533 -125.46928377 -102.26913966 -128.86900588 -114.6553359 ]\n",
      "\n",
      " Mean      Standard deviation\n",
      "-114.19      16.88\n",
      "[ True  True  True  True  True  True  True  True]\n",
      "R-squared =  0.603739980643\n"
     ]
    }
   ],
   "source": [
    "# Use Pipeline\n",
    "# ANOVA \n",
    "from sklearn.pipeline import Pipeline\n",
    "from sklearn.feature_selection import SelectKBest, f_regression\n",
    "anova_filter = SelectKBest(f_regression, k=8)\n",
    "LR = Lasso(alpha = 0.26315789473684209, precompute = False)\n",
    "anova_LinReg = Pipeline([('scaler_Input',scaler), ('anova', anova_filter), ('LinReg', LR)])\n",
    "# You can set the parameters using the names issued\n",
    "# For instance, fit using a k of 10 in the SelectKBest\n",
    "anova_LinReg.set_params(anova__k=8).fit(new_data, Y)\n",
    "prediction = anova_LinReg.predict(new_data)\n",
    "print anova_LinReg.score(new_data, Y)                        \n",
    "# getting the selected features chosen by anova_filter\n",
    "results = cross_validation.cross_val_score(anova_LinReg, new_data, Y, cv=kfold, scoring=scoring)\n",
    "print 'Scoring according to mean_squared_error'\n",
    "print results\n",
    "print '\\n Mean      Standard deviation'\n",
    "print(\"%.2f      %.2f\" % (results.mean(), results.std()))\n",
    "print anova_LinReg.named_steps['anova'].get_support()\n",
    "r_squared = r2_score(Y, prediction, multioutput='variance_weighted')\n",
    "print 'R-squared = ',r_squared"
   ]
  },
  {
   "cell_type": "code",
   "execution_count": 25,
   "metadata": {
    "collapsed": false
   },
   "outputs": [
    {
     "name": "stdout",
     "output_type": "stream",
     "text": [
      "R-squared =  0.603739980643\n"
     ]
    }
   ],
   "source": [
    "# Using make_pipeline\n",
    "from sklearn.pipeline import make_pipeline\n",
    "\n",
    "# ANOVA SVM-C\n",
    "# 1) anova filter, take 3 best ranked features\n",
    "anova_filter = SelectKBest(f_regression, k=8)\n",
    "anova_Lasso = make_pipeline(scaler, anova_filter, LR)\n",
    "anova_Lasso.fit(new_data, Y)\n",
    "prediction = anova_Lasso.predict(new_data)\n",
    "r_squared = r2_score(Y, prediction, multioutput='variance_weighted')\n",
    "print 'R-squared = ',r_squared"
   ]
  },
  {
   "cell_type": "markdown",
   "metadata": {},
   "source": [
    "### Save the Pipeline model for developement"
   ]
  },
  {
   "cell_type": "code",
   "execution_count": 26,
   "metadata": {
    "collapsed": false
   },
   "outputs": [
    {
     "data": {
      "text/plain": [
       "['anova_Lasso.pkl',\n",
       " 'anova_Lasso.pkl_01.npy',\n",
       " 'anova_Lasso.pkl_02.npy',\n",
       " 'anova_Lasso.pkl_03.npy',\n",
       " 'anova_Lasso.pkl_04.npy',\n",
       " 'anova_Lasso.pkl_05.npy',\n",
       " 'anova_Lasso.pkl_06.npy',\n",
       " 'anova_Lasso.pkl_07.npy']"
      ]
     },
     "execution_count": 26,
     "metadata": {},
     "output_type": "execute_result"
    }
   ],
   "source": [
    "# save the model scaler to the desk\n",
    "from sklearn.externals import joblib\n",
    "joblib.dump(anova_Lasso, 'anova_Lasso.pkl') "
   ]
  },
  {
   "cell_type": "code",
   "execution_count": 27,
   "metadata": {
    "collapsed": false
   },
   "outputs": [
    {
     "name": "stdout",
     "output_type": "stream",
     "text": [
      " =================================================================>>>>> done\n",
      "R-squared =  0.603739980643\n"
     ]
    }
   ],
   "source": [
    "# Test the model if it is work\n",
    "anova_LassoTest = joblib.load('anova_Lasso.pkl')\n",
    "NewPred = anova_LassoTest.predict(new_data)\n",
    "print \" =================================================================>>>>> done\"\n",
    "r_squared = r2_score(Y, NewPred, multioutput='variance_weighted')\n",
    "print 'R-squared = ',r_squared"
   ]
  },
  {
   "cell_type": "code",
   "execution_count": 28,
   "metadata": {
    "collapsed": false
   },
   "outputs": [
    {
     "name": "stdout",
     "output_type": "stream",
     "text": [
      "Point of training data before normalization\n",
      "[ 389.9  189.     0.   145.9   22.   944.7  755.8   91. ]\n",
      "\n",
      "The read target of the data =  82.5992248\n",
      "\n",
      "The Predicted target of the data =  [ 69.51649879]\n"
     ]
    }
   ],
   "source": [
    "# test on single data point, randomly choose point number 55\n",
    "print 'Point of training data before normalization\\n',new_data[55]\n",
    "print '\\nThe read target of the data = ', Y[55]\n",
    "NewPred = anova_LassoTest.predict([new_data[55]])\n",
    "print '\\nThe Predicted target of the data = ', NewPred"
   ]
  },
  {
   "cell_type": "markdown",
   "metadata": {},
   "source": [
    "## Conclusion "
   ]
  }
 ],
 "metadata": {
  "kernelspec": {
   "display_name": "Python 2",
   "language": "python",
   "name": "python2"
  },
  "language_info": {
   "codemirror_mode": {
    "name": "ipython",
    "version": 2
   },
   "file_extension": ".py",
   "mimetype": "text/x-python",
   "name": "python",
   "nbconvert_exporter": "python",
   "pygments_lexer": "ipython2",
   "version": "2.7.12"
  }
 },
 "nbformat": 4,
 "nbformat_minor": 0
}
