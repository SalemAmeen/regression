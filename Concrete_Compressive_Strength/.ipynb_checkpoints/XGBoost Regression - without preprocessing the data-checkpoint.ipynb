{
 "cells": [
  {
   "cell_type": "markdown",
   "metadata": {},
   "source": [
    "Salem Ameen, PhD student at Salford University\n",
    "\n",
    "### Concrete Compressive Strength Data Set\n",
    "\n",
    "Decision trees Regression"
   ]
  },
  {
   "cell_type": "markdown",
   "metadata": {},
   "source": [
    "# Import the Libraries"
   ]
  },
  {
   "cell_type": "code",
   "execution_count": 1,
   "metadata": {
    "collapsed": false
   },
   "outputs": [
    {
     "data": {
      "text/html": [
       "\n",
       "    <div class=\"bk-root\">\n",
       "        <a href=\"http://bokeh.pydata.org\" target=\"_blank\" class=\"bk-logo bk-logo-small bk-logo-notebook\"></a>\n",
       "        <span id=\"245bf66e-7c5a-4055-b27f-901daa7c5cf0\">Loading BokehJS ...</span>\n",
       "    </div>"
      ]
     },
     "metadata": {},
     "output_type": "display_data"
    },
    {
     "data": {
      "application/javascript": [
       "\n",
       "(function(global) {\n",
       "  function now() {\n",
       "    return new Date();\n",
       "  }\n",
       "\n",
       "  var force = \"1\";\n",
       "\n",
       "  if (typeof (window._bokeh_onload_callbacks) === \"undefined\" || force !== \"\") {\n",
       "    window._bokeh_onload_callbacks = [];\n",
       "    window._bokeh_is_loading = undefined;\n",
       "  }\n",
       "\n",
       "\n",
       "  \n",
       "  if (typeof (window._bokeh_timeout) === \"undefined\" || force !== \"\") {\n",
       "    window._bokeh_timeout = Date.now() + 5000;\n",
       "    window._bokeh_failed_load = false;\n",
       "  }\n",
       "\n",
       "  var NB_LOAD_WARNING = {'data': {'text/html':\n",
       "     \"<div style='background-color: #fdd'>\\n\"+\n",
       "     \"<p>\\n\"+\n",
       "     \"BokehJS does not appear to have successfully loaded. If loading BokehJS from CDN, this \\n\"+\n",
       "     \"may be due to a slow or bad network connection. Possible fixes:\\n\"+\n",
       "     \"</p>\\n\"+\n",
       "     \"<ul>\\n\"+\n",
       "     \"<li>re-rerun `output_notebook()` to attempt to load from CDN again, or</li>\\n\"+\n",
       "     \"<li>use INLINE resources instead, as so:</li>\\n\"+\n",
       "     \"</ul>\\n\"+\n",
       "     \"<code>\\n\"+\n",
       "     \"from bokeh.resources import INLINE\\n\"+\n",
       "     \"output_notebook(resources=INLINE)\\n\"+\n",
       "     \"</code>\\n\"+\n",
       "     \"</div>\"}};\n",
       "\n",
       "  function display_loaded() {\n",
       "    if (window.Bokeh !== undefined) {\n",
       "      Bokeh.$(\"#245bf66e-7c5a-4055-b27f-901daa7c5cf0\").text(\"BokehJS successfully loaded.\");\n",
       "    } else if (Date.now() < window._bokeh_timeout) {\n",
       "      setTimeout(display_loaded, 100)\n",
       "    }\n",
       "  }\n",
       "\n",
       "  function run_callbacks() {\n",
       "    window._bokeh_onload_callbacks.forEach(function(callback) { callback() });\n",
       "    delete window._bokeh_onload_callbacks\n",
       "    console.info(\"Bokeh: all callbacks have finished\");\n",
       "  }\n",
       "\n",
       "  function load_libs(js_urls, callback) {\n",
       "    window._bokeh_onload_callbacks.push(callback);\n",
       "    if (window._bokeh_is_loading > 0) {\n",
       "      console.log(\"Bokeh: BokehJS is being loaded, scheduling callback at\", now());\n",
       "      return null;\n",
       "    }\n",
       "    if (js_urls == null || js_urls.length === 0) {\n",
       "      run_callbacks();\n",
       "      return null;\n",
       "    }\n",
       "    console.log(\"Bokeh: BokehJS not loaded, scheduling load and callback at\", now());\n",
       "    window._bokeh_is_loading = js_urls.length;\n",
       "    for (var i = 0; i < js_urls.length; i++) {\n",
       "      var url = js_urls[i];\n",
       "      var s = document.createElement('script');\n",
       "      s.src = url;\n",
       "      s.async = false;\n",
       "      s.onreadystatechange = s.onload = function() {\n",
       "        window._bokeh_is_loading--;\n",
       "        if (window._bokeh_is_loading === 0) {\n",
       "          console.log(\"Bokeh: all BokehJS libraries loaded\");\n",
       "          run_callbacks()\n",
       "        }\n",
       "      };\n",
       "      s.onerror = function() {\n",
       "        console.warn(\"failed to load library \" + url);\n",
       "      };\n",
       "      console.log(\"Bokeh: injecting script tag for BokehJS library: \", url);\n",
       "      document.getElementsByTagName(\"head\")[0].appendChild(s);\n",
       "    }\n",
       "  };var element = document.getElementById(\"245bf66e-7c5a-4055-b27f-901daa7c5cf0\");\n",
       "  if (element == null) {\n",
       "    console.log(\"Bokeh: ERROR: autoload.js configured with elementid '245bf66e-7c5a-4055-b27f-901daa7c5cf0' but no matching script tag was found. \")\n",
       "    return false;\n",
       "  }\n",
       "\n",
       "  var js_urls = ['https://cdn.pydata.org/bokeh/release/bokeh-0.12.2.min.js', 'https://cdn.pydata.org/bokeh/release/bokeh-widgets-0.12.2.min.js', 'https://cdn.pydata.org/bokeh/release/bokeh-compiler-0.12.2.min.js'];\n",
       "\n",
       "  var inline_js = [\n",
       "    function(Bokeh) {\n",
       "      Bokeh.set_log_level(\"info\");\n",
       "    },\n",
       "    \n",
       "    function(Bokeh) {\n",
       "      \n",
       "      Bokeh.$(\"#245bf66e-7c5a-4055-b27f-901daa7c5cf0\").text(\"BokehJS is loading...\");\n",
       "    },\n",
       "    function(Bokeh) {\n",
       "      console.log(\"Bokeh: injecting CSS: https://cdn.pydata.org/bokeh/release/bokeh-0.12.2.min.css\");\n",
       "      Bokeh.embed.inject_css(\"https://cdn.pydata.org/bokeh/release/bokeh-0.12.2.min.css\");\n",
       "      console.log(\"Bokeh: injecting CSS: https://cdn.pydata.org/bokeh/release/bokeh-widgets-0.12.2.min.css\");\n",
       "      Bokeh.embed.inject_css(\"https://cdn.pydata.org/bokeh/release/bokeh-widgets-0.12.2.min.css\");\n",
       "    }\n",
       "  ];\n",
       "\n",
       "  function run_inline_js() {\n",
       "    \n",
       "    if ((window.Bokeh !== undefined) || (force === \"1\")) {\n",
       "      for (var i = 0; i < inline_js.length; i++) {\n",
       "        inline_js[i](window.Bokeh);\n",
       "      }if (force === \"1\") {\n",
       "        display_loaded();\n",
       "      }} else if (Date.now() < window._bokeh_timeout) {\n",
       "      setTimeout(run_inline_js, 100);\n",
       "    } else if (!window._bokeh_failed_load) {\n",
       "      console.log(\"Bokeh: BokehJS failed to load within specified timeout.\");\n",
       "      window._bokeh_failed_load = true;\n",
       "    } else if (!force) {\n",
       "      var cell = $(\"#245bf66e-7c5a-4055-b27f-901daa7c5cf0\").parents('.cell').data().cell;\n",
       "      cell.output_area.append_execute_result(NB_LOAD_WARNING)\n",
       "    }\n",
       "\n",
       "  }\n",
       "\n",
       "  if (window._bokeh_is_loading === 0) {\n",
       "    console.log(\"Bokeh: BokehJS loaded, going straight to plotting\");\n",
       "    run_inline_js();\n",
       "  } else {\n",
       "    load_libs(js_urls, function() {\n",
       "      console.log(\"Bokeh: BokehJS plotting callback run at\", now());\n",
       "      run_inline_js();\n",
       "    });\n",
       "  }\n",
       "}(this));"
      ]
     },
     "metadata": {},
     "output_type": "display_data"
    }
   ],
   "source": [
    "import numpy as np\n",
    "import pandas\n",
    "from numpy import *\n",
    "import time\n",
    "import sys\n",
    "import pandas as pd\n",
    "import matplotlib.pyplot as plt\n",
    "from sklearn import feature_selection\n",
    "import xgboost\n",
    "from sklearn.learning_curve import learning_curve, validation_curve\n",
    "from sklearn.cross_validation import cross_val_predict\n",
    "from sklearn import metrics, grid_search, cross_validation\n",
    "from IPython.display import set_matplotlib_formats\n",
    "from bokeh.plotting import figure, show, output_notebook\n",
    "from sklearn.grid_search import GridSearchCV, RandomizedSearchCV\n",
    "from sklearn.metrics import r2_score\n",
    "from bokeh.layouts import gridplot\n",
    "output_notebook()\n",
    "set_matplotlib_formats('png', 'pdf')\n",
    "%matplotlib inline\n",
    "plt.rcParams['figure.figsize'] = (6, 6)"
   ]
  },
  {
   "cell_type": "markdown",
   "metadata": {},
   "source": [
    "# Load data"
   ]
  },
  {
   "cell_type": "markdown",
   "metadata": {},
   "source": [
    "In the previous file we have not change the data as there is no missing value or add any new parameters so it can be downloaded from the web directly. "
   ]
  },
  {
   "cell_type": "code",
   "execution_count": 2,
   "metadata": {
    "collapsed": false
   },
   "outputs": [
    {
     "name": "stdout",
     "output_type": "stream",
     "text": [
      "Number of examples 1030\n"
     ]
    }
   ],
   "source": [
    "names = ['Cement','BlastFurnace','Fly_Ash','Water','Superplasticizer','CoarseAggregate','Aggregate','day','Concrete']\n",
    "feature_names = names\n",
    "feature_cols = names\n",
    "\n",
    "data = pd.read_excel('Concrete_Data.xls', sep='%s')\n",
    "\n",
    "from sklearn import preprocessing\n",
    "\n",
    "def number_encode_features(df):\n",
    "    result = df.copy()\n",
    "    encoders = {}\n",
    "    for column in result.columns:\n",
    "        if result.dtypes[column] == np.object:\n",
    "            encoders[column] = preprocessing.LabelEncoder()\n",
    "            result[column] = encoders[column].fit_transform(result[column])\n",
    "    return result, encoders\n",
    "\n",
    "data, _ = number_encode_features(data)\n",
    "\n",
    "dataset = data.values\n",
    "X = dataset[:,0:8]\n",
    "Y = dataset[:,8]\n",
    "print 'Number of examples',len(X)"
   ]
  },
  {
   "cell_type": "code",
   "execution_count": 3,
   "metadata": {
    "collapsed": false
   },
   "outputs": [
    {
     "name": "stdout",
     "output_type": "stream",
     "text": [
      "Number of training examples 824\n",
      "Number of validation examples 206\n"
     ]
    }
   ],
   "source": [
    "# Make developement dataset for genrilization and final testing\n",
    "from sklearn.cross_validation import train_test_split\n",
    "# Extracting 20% testing data\n",
    "X_train, X_test, y_train, y_test = train_test_split(\n",
    "    X, Y, test_size=0.20, random_state=0)\n",
    "X = X_train\n",
    "Y = y_train\n",
    "new_data      = X_train\n",
    "new_test_data = X_test\n",
    "print 'Number of training examples',len(X_train)\n",
    "print 'Number of validation examples',len(X_test)"
   ]
  },
  {
   "cell_type": "markdown",
   "metadata": {},
   "source": [
    "Number of training data is very small so we need to use cross validation instead of spareate another validation data."
   ]
  },
  {
   "cell_type": "markdown",
   "metadata": {},
   "source": [
    "From the previous visulization the data has no missing value but has many outlier and some sparisty"
   ]
  },
  {
   "cell_type": "markdown",
   "metadata": {},
   "source": [
    "# Ranking of the feature's importance to the target"
   ]
  },
  {
   "cell_type": "code",
   "execution_count": 4,
   "metadata": {
    "collapsed": false
   },
   "outputs": [
    {
     "name": "stdout",
     "output_type": "stream",
     "text": [
      "Feature Name      Score         Pvalue\n",
      "Cement \t\t338.725793692 \t1.32345794884e-65\n",
      "BlastFurnace \t\t19.0325717427 \t1.41457498978e-05\n",
      "Fly_Ash \t\t11.6269492436 \t0.000675283559617\n",
      "Water \t\t94.1187973071 \t2.3660726996e-21\n",
      "Superplasticizer \t\t159.109321731 \t5.07908923638e-34\n",
      "CoarseAggregate \t\t28.7447095672 \t1.01959722248e-07\n",
      "Aggregate \t\t29.5829376115 \t6.69468148289e-08\n",
      "day \t\t124.673209261 \t2.10314421454e-27\n",
      "Concrete \t\t-2.31485020847e+18 \t1.0\n"
     ]
    }
   ],
   "source": [
    "# Randing the important features to the target\n",
    "import xgboost\n",
    "model = xgboost.XGBRegressor()\n",
    "model = feature_selection.SelectKBest(score_func=feature_selection.f_regression,k=4)\n",
    "results = model.fit(data[feature_cols], data['Concrete'])\n",
    "k=0\n",
    "print 'Feature Name      Score         Pvalue'\n",
    "for feat in feature_cols:\n",
    "    print feat,'\\t\\t',results.scores_[k],'\\t',results.pvalues_[k]\n",
    "    k=k+1\n"
   ]
  },
  {
   "cell_type": "markdown",
   "metadata": {},
   "source": [
    "# Set the parameters for cross validation"
   ]
  },
  {
   "cell_type": "code",
   "execution_count": 5,
   "metadata": {
    "collapsed": true
   },
   "outputs": [],
   "source": [
    "num_folds = 10\n",
    "num_instances = len(X)\n",
    "seed = 7\n",
    "kfold = cross_validation.KFold(n=num_instances, n_folds=num_folds, random_state=seed)"
   ]
  },
  {
   "cell_type": "markdown",
   "metadata": {},
   "source": [
    " # Set the parameters for bias-variance dilemma"
   ]
  },
  {
   "cell_type": "code",
   "execution_count": 6,
   "metadata": {
    "collapsed": false
   },
   "outputs": [],
   "source": [
    "def plot_learning_curve(estimator, title, X, y, ylim=None, cv=None,\n",
    "                        n_jobs=1, train_sizes=np.linspace(.1, 1.0, 5)):\n",
    "    plt.figure()\n",
    "    plt.title(title)\n",
    "    if ylim is not None:\n",
    "        plt.ylim(*ylim)\n",
    "    plt.xlabel(\"Training examples\")\n",
    "    plt.ylabel(\"Score\")\n",
    "    train_sizes, train_scores, test_scores = learning_curve(\n",
    "        estimator, X, y, cv=cv, n_jobs=n_jobs, train_sizes=train_sizes)\n",
    "    train_scores_mean = np.mean(train_scores, axis=1)\n",
    "    train_scores_std = np.std(train_scores, axis=1)\n",
    "    test_scores_mean = np.mean(test_scores, axis=1)\n",
    "    test_scores_std = np.std(test_scores, axis=1)\n",
    "    plt.grid()\n",
    "\n",
    "    plt.fill_between(train_sizes, train_scores_mean - train_scores_std,\n",
    "                     train_scores_mean + train_scores_std, alpha=0.1,\n",
    "                     color=\"r\")\n",
    "    plt.fill_between(train_sizes, test_scores_mean - test_scores_std,\n",
    "                     test_scores_mean + test_scores_std, alpha=0.1, color=\"g\")\n",
    "    plt.plot(train_sizes, train_scores_mean, 'o-', color=\"r\",\n",
    "             label=\"Training score\")\n",
    "    plt.plot(train_sizes, test_scores_mean, 'o-', color=\"g\",\n",
    "             label=\"Cross-validation score\")\n",
    "\n",
    "    plt.legend(loc=\"best\")\n",
    "    return plt"
   ]
  },
  {
   "cell_type": "markdown",
   "metadata": {},
   "source": [
    "# 1. DecisionTreeRegressor  with Xgboost Regression"
   ]
  },
  {
   "cell_type": "markdown",
   "metadata": {},
   "source": [
    "Decision trees or the Classification and Regression Trees (CART as they are know) use the training data to select the best points to split the data in order to minimize a cost metric. The default cost metric for regression decision trees is the mean squared error, specified in the criterion parameter."
   ]
  },
  {
   "cell_type": "markdown",
   "metadata": {},
   "source": [
    "## Validation curve"
   ]
  },
  {
   "cell_type": "markdown",
   "metadata": {},
   "source": [
    "choosing multiple hyperparameters of an estimator "
   ]
  },
  {
   "cell_type": "code",
   "execution_count": 7,
   "metadata": {
    "collapsed": false
   },
   "outputs": [
    {
     "data": {
      "text/plain": [
       "['k', 'score_func']"
      ]
     },
     "execution_count": 7,
     "metadata": {},
     "output_type": "execute_result"
    }
   ],
   "source": [
    "\n",
    "estimator = model\n",
    "estimator.get_params().keys()"
   ]
  },
  {
   "cell_type": "code",
   "execution_count": 8,
   "metadata": {
    "collapsed": false
   },
   "outputs": [
    {
     "data": {
      "image/png": "[encoded data removed]",
      "text/plain": [
       "<matplotlib.figure.Figure at 0x7f42c7cc8c10>"
      ]
     },
     "metadata": {},
     "output_type": "display_data"
    }
   ],
   "source": [
    "#param_range = np.logspace(-10.0, 10.0)\n",
    "#param_range = np.linspace(1,50,100)\n",
    "param_range = np.arange(1,20) # generate integer numbers\n",
    "\n",
    "train_scores, test_scores = validation_curve(\n",
    "    xgboost.XGBRegressor(), X, Y, param_name=\"max_depth\", param_range=param_range,\n",
    "    cv=num_folds,  n_jobs=-1)\n",
    "train_scores_mean = np.mean(train_scores, axis=1)\n",
    "train_scores_std = np.std(train_scores, axis=1)\n",
    "test_scores_mean = np.mean(test_scores, axis=1)\n",
    "test_scores_std = np.std(test_scores, axis=1)\n",
    "\n",
    "plt.title(\"Validation Curve with DecisionTreeRegressor\")\n",
    "plt.xlabel(\"max_depth\")\n",
    "plt.ylabel(\"Score\")\n",
    "plt.ylim(0.4, 1.5)\n",
    "plt.plot(param_range, train_scores_mean, label=\"Training score\", color=\"r\")\n",
    "plt.fill_between(param_range, train_scores_mean - train_scores_std,\n",
    "                 train_scores_mean + train_scores_std, alpha=0.2, color=\"r\")\n",
    "plt.plot(param_range, test_scores_mean, label=\"Cross-validation score\",\n",
    "             color=\"g\")\n",
    "plt.fill_between(param_range, test_scores_mean - test_scores_std,\n",
    "                 test_scores_mean + test_scores_std, alpha=0.2, color=\"g\")\n",
    "plt.legend(loc=\"best\")\n",
    "plt.show()"
   ]
  },
  {
   "cell_type": "markdown",
   "metadata": {},
   "source": [
    "more that 5 is the best of number of max_depth"
   ]
  },
  {
   "cell_type": "code",
   "execution_count": 9,
   "metadata": {
    "collapsed": false
   },
   "outputs": [
    {
     "data": {
      "text/plain": [
       "array([  1.00000000e-05,   5.99484250e-05,   3.59381366e-04,\n",
       "         2.15443469e-03,   1.29154967e-02,   7.74263683e-02,\n",
       "         4.64158883e-01,   2.78255940e+00,   1.66810054e+01,\n",
       "         1.00000000e+02])"
      ]
     },
     "execution_count": 9,
     "metadata": {},
     "output_type": "execute_result"
    }
   ],
   "source": [
    "np.logspace(-5.0, 2.0,10)\n",
    "\n"
   ]
  },
  {
   "cell_type": "markdown",
   "metadata": {},
   "source": [
    "min_samples_split =2 (The defualt) is the best"
   ]
  },
  {
   "cell_type": "markdown",
   "metadata": {},
   "source": [
    "## Grid search and/or Random search to determine best compination of parameters"
   ]
  },
  {
   "cell_type": "code",
   "execution_count": 10,
   "metadata": {
    "collapsed": false
   },
   "outputs": [
    {
     "name": "stdout",
     "output_type": "stream",
     "text": [
      "Hyperparameter optimization using GridSearchCV...\n",
      "Parameters with rank: 1\n",
      "Mean validation score: 0.9277 (std: 0.0186)\n",
      "Parameters: {'max_depth': 5}\n",
      "\n",
      "Parameters with rank: 2\n",
      "Mean validation score: 0.9166 (std: 0.0204)\n",
      "Parameters: {'max_depth': 4}\n",
      "\n",
      "Parameters with rank: 3\n",
      "Mean validation score: 0.9014 (std: 0.0211)\n",
      "Parameters: {'max_depth': 3}\n",
      "\n",
      "Parameters with rank: 4\n",
      "Mean validation score: 0.8722 (std: 0.0296)\n",
      "Parameters: {'max_depth': 2}\n",
      "\n",
      "Parameters with rank: 5\n",
      "Mean validation score: 0.7990 (std: 0.0330)\n",
      "Parameters: {'max_depth': 1}\n",
      "\n",
      "+++++++++++++++++++++++++++++++++++++++++++++++\n",
      "Hyperparameter optimization using RandomizedSearchCV\n",
      "Parameters with rank: 1\n",
      "Mean validation score: 0.9277 (std: 0.0186)\n",
      "Parameters: {'max_depth': 5}\n",
      "\n",
      "Parameters with rank: 2\n",
      "Mean validation score: 0.9166 (std: 0.0204)\n",
      "Parameters: {'max_depth': 4}\n",
      "\n",
      "Parameters with rank: 3\n",
      "Mean validation score: 0.9014 (std: 0.0211)\n",
      "Parameters: {'max_depth': 3}\n",
      "\n",
      "Parameters with rank: 4\n",
      "Mean validation score: 0.8722 (std: 0.0296)\n",
      "Parameters: {'max_depth': 2}\n",
      "\n",
      "Parameters with rank: 5\n",
      "Mean validation score: 0.7990 (std: 0.0330)\n",
      "Parameters: {'max_depth': 1}\n",
      "\n"
     ]
    }
   ],
   "source": [
    "##### Utility function to report optimal parameters\n",
    "from operator import itemgetter\n",
    "def report(grid_scores, n_top=5):\n",
    "    params = None\n",
    "    top_scores = sorted(grid_scores, key=itemgetter(1), reverse=True)[:n_top]\n",
    "    for i, score in enumerate(top_scores):\n",
    "        print(\"Parameters with rank: {0}\".format(i + 1))\n",
    "        print(\"Mean validation score: {0:.4f} (std: {1:.4f})\".format(\n",
    "              score.mean_validation_score, np.std(score.cv_validation_scores)))\n",
    "        print(\"Parameters: {0}\".format(score.parameters))\n",
    "        print(\"\")\n",
    "        \n",
    "        if params == None:\n",
    "            params = score.parameters\n",
    "    \n",
    "    return params\n",
    "\n",
    "# The most common value for the max number of features to look at in each split is sqrt(# of features)\n",
    "sqrtfeat = np.sqrt(X.shape[1]) \n",
    "grid_test1 = { \"max_depth\"      : [1,2,3,4,5]}\n",
    "\n",
    "# Large randomized test using max_depth to control tree size (5000 possible combinations)\n",
    "random_test1 = { \"max_depth\"      : np.arange(1,6)}\n",
    "\n",
    "\n",
    "forest = xgboost.XGBRegressor()\n",
    "\n",
    "print \"Hyperparameter optimization using GridSearchCV...\"\n",
    "grid_search = GridSearchCV(forest, grid_test1, n_jobs=-1, cv=num_folds)\n",
    "grid_search.fit(X, Y)\n",
    "best_params_from_grid_search = report(grid_search.grid_scores_)\n",
    "print '+++++++++++++++++++++++++++++++++++++++++++++++'\n",
    "print \"Hyperparameter optimization using RandomizedSearchCV\"\n",
    "grid_search = RandomizedSearchCV(forest, random_test1, n_jobs=-1, cv=num_folds, n_iter=5)\n",
    "grid_search.fit(X, Y)\n",
    "best_params_from_rand_search1 = report(grid_search.grid_scores_)"
   ]
  },
  {
   "cell_type": "markdown",
   "metadata": {},
   "source": [
    "Best parameters Parameters: Parameters: {'max_features': None, 'max_depth': 19, 'min_samples_leaf': 1}\n"
   ]
  },
  {
   "cell_type": "markdown",
   "metadata": {},
   "source": [
    "## Learning Curve "
   ]
  },
  {
   "cell_type": "markdown",
   "metadata": {},
   "source": [
    "In essence, what we’re doing it training the exact same model with increasingly large fractions of our total training data, and plotting the error of the training and test sets at each step."
   ]
  },
  {
   "cell_type": "code",
   "execution_count": 11,
   "metadata": {
    "collapsed": false
   },
   "outputs": [
    {
     "data": {
      "image/png": "[encoded data removed]",
      "text/plain": [
       "<matplotlib.figure.Figure at 0x7f42fd61c450>"
      ]
     },
     "metadata": {},
     "output_type": "display_data"
    }
   ],
   "source": [
    "\n",
    "model = xgboost.XGBRegressor(max_depth=2, learning_rate = 0.1)\n",
    "title = \"Learning Curves (Ada DecisionTreeRegressor Refression)\"\n",
    "cv = cross_validation.ShuffleSplit(X.shape[0], n_iter=100,\n",
    "                                   test_size=0.2, random_state=0)\n",
    "plot_learning_curve(model, title, X, Y, cv=cv, n_jobs=-1)\n",
    "plt.show()"
   ]
  },
  {
   "cell_type": "code",
   "execution_count": 12,
   "metadata": {
    "collapsed": false
   },
   "outputs": [
    {
     "name": "stdout",
     "output_type": "stream",
     "text": [
      "train_sizes =  [ 50  80 110]\n",
      " training scores\n",
      " 50 training sizees\n",
      "0.98235945745 ± 0.00916965800996\n",
      " 80 training sizees\n",
      "0.968988756107 ± 0.00839872376254\n",
      " 110 training sizees\n",
      "0.957403537454 ± 0.00935874906704\n",
      "\n",
      " validation scores\n",
      " 50 validation scores\n",
      "0.680045727868 ± 0.0686856470182\n",
      " 80 validation scores\n",
      "0.751699786755 ± 0.0427834720618\n",
      " 110 validation scores\n",
      "0.788397745911 ± 0.0304569516194\n"
     ]
    }
   ],
   "source": [
    "# More data from learning curve to show the process of building the model\n",
    "train_sizes, train_scores, valid_scores = learning_curve(\n",
    "     model, X, Y, train_sizes=[50, 80, 110], cv=cv, n_jobs=4)\n",
    "\n",
    "print 'train_sizes = ', train_sizes\n",
    "\n",
    "print ' training scores'\n",
    "print ' 50 training sizees'\n",
    "print train_scores[0].mean(),'±',train_scores[0].std()\n",
    "print ' 80 training sizees'\n",
    "print train_scores[1].mean(),'±',train_scores[1].std()\n",
    "print ' 110 training sizees'\n",
    "print train_scores[2].mean(),'±',train_scores[2].std()\n",
    "\n",
    "print '\\n validation scores'\n",
    "print ' 50 validation scores'\n",
    "print valid_scores[0].mean(),'±',valid_scores[0].std()\n",
    "print ' 80 validation scores'\n",
    "print valid_scores[1].mean(),'±',valid_scores[1].std()\n",
    "print ' 110 validation scores'\n",
    "print valid_scores[2].mean(),'±',valid_scores[2].std()"
   ]
  },
  {
   "cell_type": "markdown",
   "metadata": {},
   "source": [
    "## Cross validation"
   ]
  },
  {
   "cell_type": "code",
   "execution_count": 13,
   "metadata": {
    "collapsed": false
   },
   "outputs": [
    {
     "name": "stdout",
     "output_type": "stream",
     "text": [
      "Scoring according to mean_squared_error\n",
      "[-39.73769553 -27.37093372 -35.4239018  -31.72477967 -43.53091412\n",
      " -20.27249856 -45.95505253 -37.34940814 -38.27183031 -34.93888071]\n",
      "\n",
      " Mean      Standard deviation\n",
      "-35.46      7.18\n"
     ]
    },
    {
     "data": {
      "text/plain": [
       "XGBRegressor(base_score=0.5, colsample_bylevel=1, colsample_bytree=1, gamma=0,\n",
       "       learning_rate=0.1, max_delta_step=0, max_depth=2,\n",
       "       min_child_weight=1, missing=None, n_estimators=100, nthread=-1,\n",
       "       objective='reg:linear', reg_alpha=0, reg_lambda=1,\n",
       "       scale_pos_weight=1, seed=0, silent=True, subsample=1)"
      ]
     },
     "execution_count": 13,
     "metadata": {},
     "output_type": "execute_result"
    }
   ],
   "source": [
    "scoring = 'mean_squared_error'\n",
    "results = cross_validation.cross_val_score(model, X, Y, cv=kfold, scoring=scoring)\n",
    "print 'Scoring according to mean_squared_error'\n",
    "print results\n",
    "print '\\n Mean      Standard deviation'\n",
    "print(\"%.2f      %.2f\" % (results.mean(), results.std()))\n",
    "## Fit the model\n",
    "model.fit(X,Y)\n"
   ]
  },
  {
   "cell_type": "markdown",
   "metadata": {},
   "source": [
    "## Coefficients Of Determination {Calculating R^2}\n",
    "\n",
    "R^2, Close to one is better"
   ]
  },
  {
   "cell_type": "code",
   "execution_count": 14,
   "metadata": {
    "collapsed": false
   },
   "outputs": [
    {
     "name": "stdout",
     "output_type": "stream",
     "text": [
      "R-squared =  0.874414402916\n"
     ]
    }
   ],
   "source": [
    "predicted = cross_val_predict(model, X, Y, cv=kfold)\n",
    "r_squared = r2_score(Y, predicted, multioutput='variance_weighted')\n",
    "print 'R-squared = ',r_squared"
   ]
  },
  {
   "cell_type": "markdown",
   "metadata": {},
   "source": [
    "## Residual Plot"
   ]
  },
  {
   "cell_type": "code",
   "execution_count": 15,
   "metadata": {
    "collapsed": false
   },
   "outputs": [
    {
     "data": {
      "image/png": "[encoded data removed]",
      "text/plain": [
       "<matplotlib.figure.Figure at 0x7f42fd61ca50>"
      ]
     },
     "metadata": {},
     "output_type": "display_data"
    }
   ],
   "source": [
    "predicted = cross_val_predict(model, X, Y, cv=kfold)\n",
    "fig, ax = plt.subplots()\n",
    "ax.scatter(Y, predicted)\n",
    "ax.plot([Y.min(), Y.max()], [Y.min(), Y.max()], 'k--', lw=4)\n",
    "ax.set_xlabel('Measured')\n",
    "ax.set_ylabel('Predicted')\n",
    "plt.show()"
   ]
  },
  {
   "cell_type": "code",
   "execution_count": 16,
   "metadata": {
    "collapsed": false
   },
   "outputs": [
    {
     "data": {
      "text/html": [
       "\n",
       "\n",
       "    <div class=\"bk-root\">\n",
       "        <div class=\"plotdiv\" id=\"c9b806dc-d82d-4367-b749-e20c51b6d387\"></div>\n",
       "    </div>\n",
       "<script type=\"text/javascript\">\n",
       "  \n",
       "  (function(global) {\n",
       "    function now() {\n",
       "      return new Date();\n",
       "    }\n",
       "  \n",
       "    var force = \"\";\n",
       "  \n",
       "    if (typeof (window._bokeh_onload_callbacks) === \"undefined\" || force !== \"\") {\n",
       "      window._bokeh_onload_callbacks = [];\n",
       "      window._bokeh_is_loading = undefined;\n",
       "    }\n",
       "  \n",
       "  \n",
       "    \n",
       "    if (typeof (window._bokeh_timeout) === \"undefined\" || force !== \"\") {\n",
       "      window._bokeh_timeout = Date.now() + 0;\n",
       "      window._bokeh_failed_load = false;\n",
       "    }\n",
       "  \n",
       "    var NB_LOAD_WARNING = {'data': {'text/html':\n",
       "       \"<div style='background-color: #fdd'>\\n\"+\n",
       "       \"<p>\\n\"+\n",
       "       \"BokehJS does not appear to have successfully loaded. If loading BokehJS from CDN, this \\n\"+\n",
       "       \"may be due to a slow or bad network connection. Possible fixes:\\n\"+\n",
       "       \"</p>\\n\"+\n",
       "       \"<ul>\\n\"+\n",
       "       \"<li>re-rerun `output_notebook()` to attempt to load from CDN again, or</li>\\n\"+\n",
       "       \"<li>use INLINE resources instead, as so:</li>\\n\"+\n",
       "       \"</ul>\\n\"+\n",
       "       \"<code>\\n\"+\n",
       "       \"from bokeh.resources import INLINE\\n\"+\n",
       "       \"output_notebook(resources=INLINE)\\n\"+\n",
       "       \"</code>\\n\"+\n",
       "       \"</div>\"}};\n",
       "  \n",
       "    function display_loaded() {\n",
       "      if (window.Bokeh !== undefined) {\n",
       "        Bokeh.$(\"#c9b806dc-d82d-4367-b749-e20c51b6d387\").text(\"BokehJS successfully loaded.\");\n",
       "      } else if (Date.now() < window._bokeh_timeout) {\n",
       "        setTimeout(display_loaded, 100)\n",
       "      }\n",
       "    }\n",
       "  \n",
       "    function run_callbacks() {\n",
       "      window._bokeh_onload_callbacks.forEach(function(callback) { callback() });\n",
       "      delete window._bokeh_onload_callbacks\n",
       "      console.info(\"Bokeh: all callbacks have finished\");\n",
       "    }\n",
       "  \n",
       "    function load_libs(js_urls, callback) {\n",
       "      window._bokeh_onload_callbacks.push(callback);\n",
       "      if (window._bokeh_is_loading > 0) {\n",
       "        console.log(\"Bokeh: BokehJS is being loaded, scheduling callback at\", now());\n",
       "        return null;\n",
       "      }\n",
       "      if (js_urls == null || js_urls.length === 0) {\n",
       "        run_callbacks();\n",
       "        return null;\n",
       "      }\n",
       "      console.log(\"Bokeh: BokehJS not loaded, scheduling load and callback at\", now());\n",
       "      window._bokeh_is_loading = js_urls.length;\n",
       "      for (var i = 0; i < js_urls.length; i++) {\n",
       "        var url = js_urls[i];\n",
       "        var s = document.createElement('script');\n",
       "        s.src = url;\n",
       "        s.async = false;\n",
       "        s.onreadystatechange = s.onload = function() {\n",
       "          window._bokeh_is_loading--;\n",
       "          if (window._bokeh_is_loading === 0) {\n",
       "            console.log(\"Bokeh: all BokehJS libraries loaded\");\n",
       "            run_callbacks()\n",
       "          }\n",
       "        };\n",
       "        s.onerror = function() {\n",
       "          console.warn(\"failed to load library \" + url);\n",
       "        };\n",
       "        console.log(\"Bokeh: injecting script tag for BokehJS library: \", url);\n",
       "        document.getElementsByTagName(\"head\")[0].appendChild(s);\n",
       "      }\n",
       "    };var element = document.getElementById(\"c9b806dc-d82d-4367-b749-e20c51b6d387\");\n",
       "    if (element == null) {\n",
       "      console.log(\"Bokeh: ERROR: autoload.js configured with elementid 'c9b806dc-d82d-4367-b749-e20c51b6d387' but no matching script tag was found. \")\n",
       "      return false;\n",
       "    }\n",
       "  \n",
       "    var js_urls = [];\n",
       "  \n",
       "    var inline_js = [\n",
       "      function(Bokeh) {\n",
       "        Bokeh.$(function() {\n",
       "            var docs_json = {\"0eae5d48-482e-4b61-af8a-657db4d9eaa7\":{\"roots\":{\"references\":[{\"attributes\":{\"fill_alpha\":{\"value\":0.5},\"fill_color\":{\"value\":\"lightgrey\"},\"level\":\"overlay\",\"line_alpha\":{\"value\":1.0},\"line_color\":{\"value\":\"black\"},\"line_dash\":[4,4],\"line_width\":{\"value\":2},\"plot\":null,\"xs_units\":\"screen\",\"ys_units\":\"screen\"},\"id\":\"ad22610f-7be1-4015-9a35-b4e38576cce0\",\"type\":\"PolyAnnotation\"},{\"attributes\":{\"align\":\"center\",\"plot\":null,\"text\":null},\"id\":\"bbec4bdb-5cb8-4ded-bb1d-ca583a41f542\",\"type\":\"Title\"},{\"attributes\":{\"callback\":null,\"column_names\":[\"y\",\"x\"],\"data\":{\"x\":[2.331807832,82.5992248],\"y\":[2.331807832,82.5992248]}},\"id\":\"b14cdd30-baa5-4571-8662-5ff58a398561\",\"type\":\"ColumnDataSource\"},{\"attributes\":{\"axis_label\":\"Measured\",\"axis_label_text_color\":{\"value\":\"#aa6666\"},\"formatter\":{\"id\":\"93d03483-20d3-4e72-af70-4afd963f22e9\",\"type\":\"BasicTickFormatter\"},\"major_tick_line_color\":{\"value\":\"firebrick\"},\"major_tick_line_width\":{\"value\":3},\"minor_tick_line_color\":{\"value\":\"orange\"},\"plot\":{\"id\":\"2c443d29-5ee9-4761-b885-4b04992a72ee\",\"subtype\":\"Figure\",\"type\":\"Plot\"},\"ticker\":{\"id\":\"7ebffdb4-e532-4734-96ab-4cdd1c8e5e5d\",\"type\":\"BasicTicker\"}},\"id\":\"3832e585-df8b-4405-9d19-c748518c02bd\",\"type\":\"LinearAxis\"},{\"attributes\":{},\"id\":\"e0c06ad3-2ed0-48e8-9b7e-c0a5d5b23940\",\"type\":\"BasicTicker\"},{\"attributes\":{\"plot\":{\"id\":\"2c443d29-5ee9-4761-b885-4b04992a72ee\",\"subtype\":\"Figure\",\"type\":\"Plot\"},\"ticker\":{\"id\":\"7ebffdb4-e532-4734-96ab-4cdd1c8e5e5d\",\"type\":\"BasicTicker\"}},\"id\":\"55c89c93-9103-4094-a5c1-c41915f3ce3b\",\"type\":\"Grid\"},{\"attributes\":{\"overlay\":{\"id\":\"feb3d50f-3b71-4536-bbc9-ffe5d3815430\",\"type\":\"BoxAnnotation\"},\"plot\":{\"id\":\"2c443d29-5ee9-4761-b885-4b04992a72ee\",\"subtype\":\"Figure\",\"type\":\"Plot\"}},\"id\":\"278d29c0-a511-499b-910b-cdac8d4b1aed\",\"type\":\"BoxZoomTool\"},{\"attributes\":{\"dimension\":1,\"plot\":{\"id\":\"2c443d29-5ee9-4761-b885-4b04992a72ee\",\"subtype\":\"Figure\",\"type\":\"Plot\"},\"ticker\":{\"id\":\"e0c06ad3-2ed0-48e8-9b7e-c0a5d5b23940\",\"type\":\"BasicTicker\"}},\"id\":\"6ebb88eb-02a9-47af-b705-233ec3c2b1dc\",\"type\":\"Grid\"},{\"attributes\":{\"bottom_units\":\"screen\",\"fill_alpha\":{\"value\":0.5},\"fill_color\":{\"value\":\"lightgrey\"},\"left_units\":\"screen\",\"level\":\"overlay\",\"line_alpha\":{\"value\":1.0},\"line_color\":{\"value\":\"black\"},\"line_dash\":[4,4],\"line_width\":{\"value\":2},\"plot\":null,\"render_mode\":\"css\",\"right_units\":\"screen\",\"top_units\":\"screen\"},\"id\":\"feb3d50f-3b71-4536-bbc9-ffe5d3815430\",\"type\":\"BoxAnnotation\"},{\"attributes\":{\"fill_color\":{\"value\":\"#80B1D3\"},\"line_color\":{\"value\":\"#80B1D3\"},\"line_width\":{\"value\":3},\"x\":{\"field\":\"x\"},\"y\":{\"field\":\"y\"}},\"id\":\"11767dcb-1bb1-4397-80d4-665127853797\",\"type\":\"Circle\"},{\"attributes\":{\"active_drag\":\"auto\",\"active_scroll\":\"auto\",\"active_tap\":\"auto\",\"tools\":[{\"id\":\"278d29c0-a511-499b-910b-cdac8d4b1aed\",\"type\":\"BoxZoomTool\"},{\"id\":\"1149a614-2f88-4ab3-a051-8700df6e8f40\",\"type\":\"BoxSelectTool\"},{\"id\":\"3a3fc699-3210-4e7f-a94f-98ee44c78551\",\"type\":\"CrosshairTool\"},{\"id\":\"f75987a9-8c34-4968-b8e7-3b69466a0202\",\"type\":\"ResizeTool\"},{\"id\":\"43a8b393-d572-45ff-9cba-d5ac67fffca5\",\"type\":\"ResetTool\"},{\"id\":\"7df58aeb-d5fe-48bf-8386-89959e299cfa\",\"type\":\"LassoSelectTool\"},{\"id\":\"3b837d29-fff0-4096-8f0c-170668a59fab\",\"type\":\"PanTool\"},{\"id\":\"cc9d7458-4817-49c9-82c4-58a2cab3dd1a\",\"type\":\"SaveTool\"},{\"id\":\"2606198b-61e0-440b-a818-b92a3446b366\",\"type\":\"PolySelectTool\"},{\"id\":\"a2152a22-7ab0-4756-b304-4626c7a5a32f\",\"type\":\"TapTool\"},{\"id\":\"172ddd47-124c-4469-ba74-ebdb2e8f753a\",\"type\":\"WheelZoomTool\"},{\"id\":\"d688e324-1857-4595-9c98-b6d9eeb18ccc\",\"type\":\"UndoTool\"}]},\"id\":\"8486ea1b-4727-4658-880c-9c097a7eac3b\",\"type\":\"Toolbar\"},{\"attributes\":{\"plot\":{\"id\":\"2c443d29-5ee9-4761-b885-4b04992a72ee\",\"subtype\":\"Figure\",\"type\":\"Plot\"}},\"id\":\"3b837d29-fff0-4096-8f0c-170668a59fab\",\"type\":\"PanTool\"},{\"attributes\":{},\"id\":\"aef038cc-78ad-4a0c-9519-c8d35bc34215\",\"type\":\"BasicTickFormatter\"},{\"attributes\":{\"plot\":{\"id\":\"2c443d29-5ee9-4761-b885-4b04992a72ee\",\"subtype\":\"Figure\",\"type\":\"Plot\"}},\"id\":\"43a8b393-d572-45ff-9cba-d5ac67fffca5\",\"type\":\"ResetTool\"},{\"attributes\":{\"fill_alpha\":{\"value\":0.1},\"fill_color\":{\"value\":\"#1f77b4\"},\"line_alpha\":{\"value\":0.1},\"line_color\":{\"value\":\"#1f77b4\"},\"line_width\":{\"value\":3},\"x\":{\"field\":\"x\"},\"y\":{\"field\":\"y\"}},\"id\":\"9b51096d-fccb-42cf-b90e-f8d8acb7a722\",\"type\":\"Circle\"},{\"attributes\":{\"background_fill_alpha\":{\"value\":0.5},\"background_fill_color\":{\"value\":\"beige\"},\"below\":[{\"id\":\"3832e585-df8b-4405-9d19-c748518c02bd\",\"type\":\"LinearAxis\"}],\"left\":[{\"id\":\"b1f01fa9-d60a-4132-b912-694d666120a1\",\"type\":\"LinearAxis\"}],\"plot_height\":500,\"plot_width\":500,\"renderers\":[{\"id\":\"3832e585-df8b-4405-9d19-c748518c02bd\",\"type\":\"LinearAxis\"},{\"id\":\"55c89c93-9103-4094-a5c1-c41915f3ce3b\",\"type\":\"Grid\"},{\"id\":\"b1f01fa9-d60a-4132-b912-694d666120a1\",\"type\":\"LinearAxis\"},{\"id\":\"6ebb88eb-02a9-47af-b705-233ec3c2b1dc\",\"type\":\"Grid\"},{\"id\":\"feb3d50f-3b71-4536-bbc9-ffe5d3815430\",\"type\":\"BoxAnnotation\"},{\"id\":\"905455b7-8e45-456b-a86e-115530fa25b4\",\"type\":\"BoxAnnotation\"},{\"id\":\"ad22610f-7be1-4015-9a35-b4e38576cce0\",\"type\":\"PolyAnnotation\"},{\"id\":\"98089c60-2844-42f0-b988-a2b1faa771c4\",\"type\":\"PolyAnnotation\"},{\"id\":\"8694264f-b547-4c78-9ca7-a8cd6a670812\",\"type\":\"GlyphRenderer\"},{\"id\":\"1a0c94dd-574f-4806-a4d0-53d3ae95ec0c\",\"type\":\"GlyphRenderer\"}],\"title\":{\"id\":\"bbec4bdb-5cb8-4ded-bb1d-ca583a41f542\",\"type\":\"Title\"},\"tool_events\":{\"id\":\"2bc3bc59-379b-43b5-8ea6-b952c0e79b79\",\"type\":\"ToolEvents\"},\"toolbar\":{\"id\":\"8486ea1b-4727-4658-880c-9c097a7eac3b\",\"type\":\"Toolbar\"},\"x_range\":{\"id\":\"e2f371f2-30ea-4c4c-ab04-02d172be4222\",\"type\":\"DataRange1d\"},\"y_range\":{\"id\":\"cc682d62-fe08-48c5-a488-5d38ffcb7485\",\"type\":\"DataRange1d\"}},\"id\":\"2c443d29-5ee9-4761-b885-4b04992a72ee\",\"subtype\":\"Figure\",\"type\":\"Plot\"},{\"attributes\":{\"data_source\":{\"id\":\"b14cdd30-baa5-4571-8662-5ff58a398561\",\"type\":\"ColumnDataSource\"},\"glyph\":{\"id\":\"0f8172d2-3381-472c-a756-9c43626cb014\",\"type\":\"Line\"},\"hover_glyph\":null,\"nonselection_glyph\":{\"id\":\"faa3d5e9-fabb-4832-9b0d-254d08524717\",\"type\":\"Line\"},\"selection_glyph\":null},\"id\":\"1a0c94dd-574f-4806-a4d0-53d3ae95ec0c\",\"type\":\"GlyphRenderer\"},{\"attributes\":{\"data_source\":{\"id\":\"cd43d204-295f-44ef-91cf-454bd3e2ad6b\",\"type\":\"ColumnDataSource\"},\"glyph\":{\"id\":\"11767dcb-1bb1-4397-80d4-665127853797\",\"type\":\"Circle\"},\"hover_glyph\":null,\"nonselection_glyph\":{\"id\":\"9b51096d-fccb-42cf-b90e-f8d8acb7a722\",\"type\":\"Circle\"},\"selection_glyph\":null},\"id\":\"8694264f-b547-4c78-9ca7-a8cd6a670812\",\"type\":\"GlyphRenderer\"},{\"attributes\":{},\"id\":\"2bc3bc59-379b-43b5-8ea6-b952c0e79b79\",\"type\":\"ToolEvents\"},{\"attributes\":{\"overlay\":{\"id\":\"98089c60-2844-42f0-b988-a2b1faa771c4\",\"type\":\"PolyAnnotation\"},\"plot\":{\"id\":\"2c443d29-5ee9-4761-b885-4b04992a72ee\",\"subtype\":\"Figure\",\"type\":\"Plot\"}},\"id\":\"2606198b-61e0-440b-a818-b92a3446b366\",\"type\":\"PolySelectTool\"},{\"attributes\":{\"plot\":{\"id\":\"2c443d29-5ee9-4761-b885-4b04992a72ee\",\"subtype\":\"Figure\",\"type\":\"Plot\"}},\"id\":\"172ddd47-124c-4469-ba74-ebdb2e8f753a\",\"type\":\"WheelZoomTool\"},{\"attributes\":{\"fill_alpha\":{\"value\":0.5},\"fill_color\":{\"value\":\"lightgrey\"},\"level\":\"overlay\",\"line_alpha\":{\"value\":1.0},\"line_color\":{\"value\":\"black\"},\"line_dash\":[4,4],\"line_width\":{\"value\":2},\"plot\":null,\"xs_units\":\"screen\",\"ys_units\":\"screen\"},\"id\":\"98089c60-2844-42f0-b988-a2b1faa771c4\",\"type\":\"PolyAnnotation\"},{\"attributes\":{\"callback\":null},\"id\":\"e2f371f2-30ea-4c4c-ab04-02d172be4222\",\"type\":\"DataRange1d\"},{\"attributes\":{\"plot\":{\"id\":\"2c443d29-5ee9-4761-b885-4b04992a72ee\",\"subtype\":\"Figure\",\"type\":\"Plot\"}},\"id\":\"d688e324-1857-4595-9c98-b6d9eeb18ccc\",\"type\":\"UndoTool\"},{\"attributes\":{},\"id\":\"7ebffdb4-e532-4734-96ab-4cdd1c8e5e5d\",\"type\":\"BasicTicker\"},{\"attributes\":{\"callback\":null},\"id\":\"cc682d62-fe08-48c5-a488-5d38ffcb7485\",\"type\":\"DataRange1d\"},{\"attributes\":{\"callback\":null,\"column_names\":[\"x\",\"y\"],\"data\":{\"x\":[43.892042159999995,38.21075992,33.419591196,13.12072828,47.22221124,22.31833812,12.47262084,28.937997196,47.029847436000004,26.322814728,30.439675923999996,12.63809508,20.77391188,43.798273423999994,66.10006412,15.361525279999999,40.865242519999995,45.939785879999995,33.75674496,43.58177796,23.524231644,42.69924868,14.143910664,48.401215199999996,34.569637164,35.85964676,59.09498796,24.49708228,37.721921436,15.520104759999999,32.401235144,33.05347944,49.249270679999995,71.69860924,54.896079119999996,50.45930106,51.863763672,28.6822016,26.77235308,17.236210524,36.83870268,40.2309246,47.714497103999996,11.36256448,9.99050724,40.925226931999994,40.563252031999994,31.715896,39.417342919999996,18.12632404,18.28490352,9.86640156,41.2996124,34.55653712,53.95839176,82.5992248,54.598914963999995,44.61185510399999,39.28978986,63.528318639999995,39.1622368,39.321505756,20.416073836,44.395359639999995,56.33708396,38.500339839999995,32.245413568000004,42.229026048,46.247292176,33.68779736,44.209201119999996,33.72916592,64.90037588,33.192064116000005,12.45193656,44.14025352,57.915983999999995,55.50971276,37.2661778,42.21661548,41.20308576,39.779317819999996,64.90037588,39.6621069,23.5111316,54.765078679999995,29.073134491999998,49.77327244,65.19685056,36.588422892,52.00717468,37.2661778,43.57833058,40.679083999999996,26.96540636,36.251958603999995,25.726417988,12.180972492,72.99482412,28.62704352,11.392211948,20.08443588,48.28400428,24.00065956,45.304778483999996,35.763120119999996,74.19451236,14.699628319999999,25.60910856945864,61.99078716,38.074243671999994,54.09628696,40.856968808,39.84481804,22.435549039999998,25.893960655999997,42.919881,30.647208199999998,26.200088,23.13881456,26.8550902,26.147687824,52.446370892,37.92118,41.836714203999996,48.9872698,8.536402356,35.75425543054136,48.587373719999995,21.601283079999998,28.79941252,32.823194456,79.29663476,11.654902304,66.78067543054136,61.09446836,48.67011084,40.1964508,26.258003984,13.45857152,47.739318239999996,23.696600644,27.827251359999998,31.35047372,60.32225524,48.695621452,39.0932892,33.116911232,37.32823064,50.69717028,13.565440299999999,33.68779736,53.46196904,16.503987012,61.85584685418796,60.2946762,43.01296026,77.29715436,56.847296199999995,55.495923239999996,15.049192651999999,17.83674412,19.765208492,24.53845084,21.946021079999998,33.56369168,43.0577762,27.681082448,31.026419999999998,2.331807832,42.29245784,15.340841,19.691434559999998,33.70158688,47.782065751999994,56.141962252,24.8900836,29.870858223999996,58.60546,24.90387312,13.395533715270679,23.786922,33.72916592,52.04164848,31.35047372,37.9556538,57.59882504,29.447519959999997,23.8903434,67.69964844,34.73580088,39.056057496,25.0969264,45.3675208,28.096147,23.221551679999997,40.14818748,42.14008364399999,37.34202016,44.13335876,60.280886679999995,49.77327244,59.590425715270676,17.959470848000002,24.104080959999997,26.94472208,31.966865263999996,28.23748958,16.10960674,54.27555072,18.746162964,24.91766264,40.85834776,11.46598588,38.407950056000004,25.2003478,79.40005615999999,23.51802636,66.42411784,39.45181672,29.7853632,22.347985588,55.89581932,30.12320644,67.568648,53.52402188,13.29309728,24.0971862,14.98920824,39.58281716,48.846616696,11.957582268,39.37597436,19.98790924,39.455953576,39.421479776,24.483292759999998,59.19840936,66.69990824,49.973220479999995,40.7135578,39.699338604,20.27748916,17.57474324,33.082437432,41.05140104,56.14403068,43.377003588,15.08573488,77.29715436,32.83974188,37.437857324,23.744174488,56.3991368,43.388724679999996,44.698039603999995,32.720462532,53.90323368,7.74971024,47.8151606,59.89478012,38.01770664,68.75060685418796,6.883728383999999,76.80073164,11.85209244,8.48744956,49.20100736,32.768036376000005,33.21205892,17.9953236,23.80071152,6.902344236,18.12632404,10.535882756,25.510612,13.461329424,25.48303296,55.647607959999995,32.96384756,19.41564416,22.94576128,19.691434559999998,18.033934256,52.908319811999995,23.24519085418796,25.68987576,17.95395504,43.698299404,15.575262839999999,25.422359072,29.15794004,22.435549039999998,22.53207568,21.179323768,33.398217439999996,48.97348028,22.489328168,67.30664712,39.6103962,45.08483564,38.461039708,46.931941843999994,40.59634688,30.44726016,24.290928956,49.99390476,8.06342182,16.27852836,40.38950408,23.639177145812038,21.066249704,43.25082948,20.91870184,33.798802996,44.02993736,9.84965714581204,25.62092816,24.44881896,76.23536132,15.748321315999998,58.522722879999996,7.8393421199999995,17.275510655999998,27.22051248,71.29871315999999,68.09954452,24.65566176,26.91369566,33.399596392,29.39236188,29.89223198,46.80163088,31.25394708,55.55108132,28.99936056,39.300132,10.335934715999999,79.98611076,47.27736932,25.021084039999998,24.39366088,43.733462679999995,49.80085148,9.011451319999999,11.414275179999999,33.5430074,55.82687172,46.89815752,31.74347504,35.36322404,35.34253976,65.99664272,30.2335226,35.314271244,36.93522932,12.73462172,11.169511199999999,38.60376124,44.6090972,41.15137506,12.788400847999998,12.17614616,33.0431373,21.859147104,41.052779992,71.29871315999999,47.7117392,46.2293658,26.74477404,41.540929,26.91714304,55.94408264,17.8229546,61.23581094,15.340841,31.419421319999998,21.91154728,16.87837248,52.42086028,37.171030112,39.64487,50.655112243999994,13.52062436,35.9561734,47.13257936,56.095767359999996,19.35014394,32.068218236,18.19871902,60.2946762,13.33446584,27.923778,33.60506024,71.29871315999999,36.447769788,33.488834284729315,38.45897128,38.70028788,33.79811352,19.41564416,39.48629052,59.30183076,80.19984832,32.051670812,21.859147104,56.7438748,10.53519328,25.965666159999998,4.9035533120000006,41.940825079999996,41.934619796,67.86512268,13.089012384,51.021224,52.95865156,28.98557104,17.96429718,29.54897143054136,41.244454319999996,58.78472376,12.459520796,34.67374804,41.684340008,16.889404096,25.216895223999998,66.59648684,51.331488199999995,33.019005639999996,30.12320644,13.293786756,34.77027468,38.11423328,35.852751999999995,16.26473884,38.20386516,21.819846971999997,14.49968028,9.735401119999999,10.76272036,17.165883972,14.54104884,36.63875464,50.07664188,36.964187312,44.296075096,36.34917472,56.061293559999996,19.10537996,24.281965768,36.349864196,15.069975430541358,25.460969728000002,38.70028788,43.377003588,67.11359384,27.234302,19.199148695999998,29.41304616,29.654362759999998,13.62404576,40.14818748,29.55094136,32.66047812,56.69561148,11.483912255999998,35.225328839999996,42.32693164,33.003837168,51.25564584,21.917063088,38.215586251999994,77.29715436,52.426376088,37.231704,26.22766704,38.99676256,24.986610239999997,22.83544512,12.24509376,39.604880392,15.520104759999999,65.19685056,55.89581932,39.358047983999995,17.576122192,40.934879596,12.052040479999999,24.404692496,23.52492112,39.300132,55.45455468,37.431652039999996,69.83702404,31.35047372,46.20178676,46.38794528,35.3011712,28.62704352,31.874475479999997,20.593958644,12.5484632,33.664355176,15.091250688,69.65776027999999,59.76377968,36.443632932,22.93197176,42.030456959999995,32.626693796000005,66.82401392,71.98818916,74.3649114581204,72.09850532,36.990387399999996,21.53923024,37.431652039999996,64.30053176,7.3153403599999995,38.60376124,22.89749796,32.01138571527068,27.67556664,40.062002979999995,56.49566344,70.69886903999999,46.6430514,31.971002119999998,32.72253096,23.786922,32.956952799999996,55.15808,10.38350856,74.4978818,53.72396992,30.881630039999997,13.54130864,43.5748832,21.504756439999998,52.826961643999994,33.0603742,50.77301264,19.539060364,42.131120456,35.3011712,41.542997428,47.401475,51.732763231999996,19.98790924,15.04436632,29.592309919999998,42.126983599999996,52.30364936,39.382869119999995,39.14844728,36.3009114,44.32641204,23.404952295999998,22.629981272,15.615941924,23.83518532,35.225328839999996,31.17810472,27.874825204,38.56239268,54.315540328,42.63719584,33.301690799999996,12.541568439999999,4.782205536,29.06830816,34.23937816,32.88455782,49.89737812,31.53663224,33.70158688,32.763899519999995,37.91428524,25.559564796,17.43684804,57.21823428799999,50.526869708,14.306626999999999,19.009542795999998,10.089791784,13.18278112,13.52062436,30.275580636,52.516697443999995,81.75116932,28.46846404,40.85834776,71.29871315999999,17.36790044,55.89581932,62.5009994,26.233182848000002,34.20490436,41.40992856,9.617500724000001,17.22311048,44.38846488,19.765208492,50.511011759999995,39.05192064,25.11662571527068,35.570066839999996,44.27814872,50.60064364,68.29949256,31.178794196000002,62.052839999999996,39.2311844,15.030576799999999,17.596806471999997,36.56291228,59.79825348,56.8128224,53.300631656,37.997022359999995,64.30053176,77.29715436,38.610656,10.787541496,34.48758952,53.65502232,13.22414968,63.3973182,36.93522932,25.3727168,12.17614616,37.16965116,51.0556978,21.91154728,44.298833,53.77223324,21.29101888,45.2985732,18.415903959999998,42.620648416,60.949678399999996,31.11605188,15.43736764,24.24197616,42.79577532,21.96670536,38.630650804,26.0621928,24.42813468,27.77209328,31.899986092,56.619079643999996,33.27411176,11.57630204,30.219733079999997,56.61287436,33.306517131999996,29.93015316,24.00065956,46.234192132,79.29663476,41.719503284,33.398217439999996,51.03501352,14.98920824,28.021683592,32.39847724,53.104130996,35.3011712,14.796154959999999,30.079769451999997,37.265488323999996,50.94882902,43.698299404,21.6495464,23.07676172,24.065470304,10.0318758,58.798513279999995,25.17966352,24.437787344,60.2946762,40.65839972,7.507014687999999,55.59934464,36.3009114,74.69782984,9.561653168,44.207822168,13.19657064,27.935499091999997,26.04840328,32.109882284729316,78.80021203999999,26.40003604,56.63355864,15.691094808,25.083136879999998,51.021224,37.25928304,42.42345828,43.49904084,23.523542168,25.55887532,31.640053639999998,12.83804312,33.963587759999996,49.20100736,15.569747031999999,28.991086848000002,65.19685056,12.37264682,41.885667,25.745033839999998,40.0585556,46.2293658,23.73865868,43.565230536,41.05140104,32.8535314,31.023662096000002,60.19814956,65.90701084,73.29819356,44.27814872,52.20022796,26.859916531999996,40.759063216,11.46598588,21.78054684,40.56876784,28.296095039999997,18.287661424,14.2032056,44.51946532,14.843728804,21.26343984,39.39665864,52.44154456,35.3011712,41.09966436,24.28334472,25.17966352,61.797733879999996,23.69039536,31.2677366,9.131420144,36.804918356,30.84715624,42.54756396,19.00885332,25.10382116,44.63667624,38.995383608,9.307926,55.55108132,38.76923548,45.83636448,74.16693332,22.752708,27.742445811999996,29.86810032,49.185149411999994,24.3385028,44.523602176000004,68.4994406,31.6469484,37.427515183999994,67.79617508,36.4388066,55.020184799999996,39.004642284729314,32.53292506,73.69808963999999,19.93275116,8.374375495999999,10.222171176,14.596896395999998,43.69898888,7.723510152,31.35047372,44.868340176000004,45.3675208,29.7508894,26.14492992,55.19944856,29.231713971999998,51.04190828,65.909079268,79.29663476,9.738159024,54.896079119999996,37.36270444,51.72448952,20.72564856,52.82075636,32.102692036,71.62276688,35.86585204399999,35.101223159999996,46.24315532,31.84000168,33.398217439999996,57.21271848,43.942373908,7.675936308,18.0297974,31.875164956000003,75.49762199999999,24.40055564,8.204074924,46.68441996,3.31982694,21.02212324,41.36856,27.04124872,44.42293868,34.39795764,20.96696516,36.96970312,6.26733684,15.41668336,39.435269296,50.732333556],\"y\":[46.7032585144043,37.43046951293945,42.2399787902832,14.155902862548828,52.85976791381836,21.475305557250977,11.186681747436523,28.474885940551758,44.69698715209961,29.287494659423828,26.51726531982422,31.923128128051758,24.26416778564453,42.39399719238281,64.8004150390625,18.38773536682129,39.83489990234375,34.65681838989258,35.32396697998047,39.31303405761719,26.137178421020508,43.49514389038086,20.48377799987793,42.315982818603516,33.709266662597656,42.25200271606445,52.587425231933594,30.13149070739746,44.73939895629883,15.528915405273438,37.738765716552734,32.84088897705078,30.682239532470703,65.60063934326172,63.785621643066406,43.029930114746094,47.08893966674805,31.115245819091797,27.061845779418945,24.865238189697266,36.99644088745117,32.11769104003906,45.430294036865234,11.560851097106934,8.977974891662598,46.807682037353516,47.22504806518555,43.28473663330078,43.43509292602539,17.282894134521484,28.96784782409668,11.560851097106934,39.0994987487793,36.14914321899414,54.60637664794922,77.92400360107422,46.72206115722656,34.935089111328125,44.74150085449219,56.91421890258789,31.691238403320312,34.05414962768555,17.108570098876953,44.732810974121094,59.136051177978516,31.369613647460938,31.859947204589844,46.56838607788086,40.676517486572266,48.85121154785156,39.31303405761719,33.65850067138672,65.18997955322266,36.62646484375,12.370152473449707,50.74532699584961,52.40839767456055,38.81734848022461,30.181419372558594,36.052635192871094,35.137413024902344,44.04634094238281,73.68164825439453,39.1404914855957,26.918834686279297,61.55421829223633,32.35504150390625,47.16975784301758,66.0642318725586,36.46467971801758,44.69575119018555,47.752723693847656,42.349117279052734,36.9956169128418,30.240236282348633,42.83329391479492,28.539390563964844,15.526483535766602,66.59025573730469,31.577198028564453,14.154829025268555,21.72087860107422,40.30670166015625,22.662212371826172,48.73843765258789,34.24005889892578,61.76996612548828,15.882105827331543,29.828107833862305,55.87160110473633,37.1219482421875,52.03764343261719,31.485910415649414,35.724342346191406,28.398597717285156,24.127304077148438,46.35248947143555,35.85999298095703,26.38457679748535,22.94300079345703,30.975341796875,27.063846588134766,43.898624420166016,38.68426513671875,43.922786712646484,47.613468170166016,17.983137130737305,36.94877243041992,40.921138763427734,22.924367904663086,32.94923400878906,28.871191024780273,74.40042877197266,9.865327835083008,58.31412887573242,60.823822021484375,45.95425796508789,41.214866638183594,22.341127395629883,19.091453552246094,46.35248947143555,26.93260383605957,28.596853256225586,38.564788818359375,51.875213623046875,45.43571853637695,41.86697769165039,43.53480529785156,36.606788635253906,54.631107330322266,12.618326187133789,31.49393081665039,49.14763259887695,27.81245994567871,53.81470489501953,58.5721549987793,43.922786712646484,72.93194580078125,49.47458267211914,56.64687728881836,11.99815559387207,30.114381790161133,23.756765365600586,29.207897186279297,31.0162410736084,44.27748107910156,44.073448181152344,32.3490104675293,28.79531478881836,4.947289943695068,34.01735305786133,17.287567138671875,24.879169464111328,32.165496826171875,39.63360595703125,44.664207458496094,27.2275390625,32.683372497558594,51.552467346191406,28.78809928894043,20.064855575561523,26.737756729125977,32.165496826171875,49.02461624145508,36.426849365234375,38.912109375,65.177734375,35.56992721557617,33.41581344604492,54.76666259765625,37.876766204833984,42.93452835083008,39.18116760253906,52.76567459106445,37.1942253112793,21.505712509155273,35.62313461303711,40.44523620605469,42.388099670410156,49.82073974609375,55.61354064941406,46.85850143432617,51.211326599121094,21.227378845214844,33.8214225769043,33.54060745239258,33.93975067138672,26.055076599121094,18.457372665405273,49.181068420410156,24.854900360107422,22.574832916259766,38.93219757080078,12.024178504943848,40.0499267578125,34.422752380371094,76.01033020019531,26.97880744934082,53.57204818725586,40.28835678100586,35.99571990966797,24.435333251953125,47.740013122558594,31.76691436767578,58.527164459228516,40.883270263671875,16.580028533935547,35.28127670288086,15.715084075927734,39.880516052246094,42.979156494140625,14.944344520568848,52.0102424621582,22.088096618652344,40.28835678100586,41.50669479370117,27.763816833496094,69.61778259277344,69.48657989501953,45.772281646728516,38.07527542114258,35.969322204589844,17.993080139160156,19.341711044311523,39.861087799072266,47.4243049621582,62.98984146118164,40.35224533081055,17.56734275817871,72.57801055908203,35.106666564941406,38.16619110107422,28.042142868041992,59.95753479003906,38.51651382446289,37.78978729248047,30.103515625,44.829345703125,12.0738525390625,48.55824279785156,68.0691909790039,44.78684997558594,59.2735481262207,9.723358154296875,65.04492950439453,11.136719703674316,11.631543159484863,48.03650665283203,37.54534912109375,31.612438201904297,16.570602416992188,24.128005981445312,13.171521186828613,17.54700469970703,12.70188045501709,28.18257713317871,18.49388313293457,17.930946350097656,51.8868293762207,28.680315017700195,24.133319854736328,22.657543182373047,24.278324127197266,24.955768585205078,45.51277542114258,33.50722885131836,21.445154190063477,22.840290069580078,45.07931900024414,15.749396324157715,23.64868927001953,23.103986740112305,28.53269386291504,26.419836044311523,18.075592041015625,41.44165802001953,50.22917938232422,36.353206634521484,62.65877914428711,37.68882369995117,48.39763259887695,45.81468963623047,44.45152282714844,45.177398681640625,30.629804611206055,25.262414932250977,43.45465087890625,9.9945707321167,13.603934288024902,45.19915008544922,28.903799057006836,28.44453239440918,38.558197021484375,20.918519973754883,36.32893753051758,52.48157501220703,5.666976451873779,29.153392791748047,20.616165161132812,51.73661804199219,17.924440383911133,59.01544952392578,10.156231880187988,21.708436965942383,28.478107452392578,62.906715393066406,65.14017486572266,23.00370216369629,31.111286163330078,33.44763946533203,34.44940185546875,27.4916934967041,48.83586883544922,35.16353988647461,48.74298858642578,32.90413284301758,35.03487014770508,11.207280158996582,61.99665451049805,46.8153076171875,33.861087799072266,26.413768768310547,33.81084060668945,34.39922332763672,16.767433166503906,11.422637939453125,35.27308654785156,50.58041000366211,50.95884704589844,33.27601623535156,33.861087799072266,37.64091873168945,54.320884704589844,26.047592163085938,35.651588439941406,40.37479019165039,11.540565490722656,11.540565490722656,35.699974060058594,33.85503387451172,44.66877746582031,14.502483367919922,14.053023338317871,41.75312042236328,24.265125274658203,42.236087799072266,60.47401428222656,45.19432830810547,46.38164520263672,36.6241455078125,42.393272399902344,33.155216217041016,50.53034973144531,25.34611701965332,56.1619873046875,18.72751808166504,34.18178939819336,23.401636123657227,20.969812393188477,45.222381591796875,39.79255676269531,34.77555847167969,46.62647247314453,12.144657135009766,39.81277084350586,43.50790786743164,43.34998321533203,19.880916595458984,34.59202575683594,25.483592987060547,55.82291030883789,18.91012191772461,29.94356918334961,33.27601623535156,60.47401428222656,41.41339111328125,37.1154670715332,43.83259201049805,37.681396484375,34.46128845214844,16.93167495727539,38.63214111328125,52.03853988647461,61.09876251220703,36.26676940917969,31.63306999206543,51.64286804199219,13.816807746887207,29.60799789428711,8.83611011505127,41.55436706542969,44.17675018310547,43.76556396484375,18.22364044189453,54.61026382446289,51.67754364013672,29.254972457885742,19.940649032592773,32.597198486328125,38.74579620361328,54.10163497924805,15.358515739440918,35.62406921386719,35.35007095336914,13.054500579833984,29.339618682861328,67.54750061035156,41.70808792114258,39.6441650390625,32.80284118652344,17.15009117126465,28.152624130249023,35.22236251831055,39.867244720458984,16.41636085510254,35.69700241088867,20.25952911376953,15.589646339416504,14.101367950439453,9.199136734008789,14.99569034576416,21.20791244506836,37.30960464477539,52.00870895385742,34.713172912597656,39.95211410522461,34.12169647216797,46.68199157714844,20.717939376831055,26.924560546875,34.12169647216797,10.976778030395508,31.304553985595703,45.93296432495117,37.37095260620117,55.27357864379883,30.73275375366211,19.854562759399414,27.153486251831055,29.379615783691406,12.229393005371094,39.06406021118164,29.98358726501465,29.379615783691406,53.65644073486328,10.626208305358887,30.432798385620117,43.20172882080078,29.144817352294922,49.45246124267578,21.863845825195312,47.87895584106445,72.9794692993164,46.89445877075195,37.1735954284668,26.620756149291992,38.74579620361328,25.033166885375977,26.372385025024414,23.829246520996094,40.06210708618164,13.34317398071289,66.86038970947266,48.12415313720703,37.313720703125,24.37618064880371,49.69938659667969,10.626208305358887,25.814300537109375,22.31244468688965,45.427284240722656,50.14439010620117,36.45553970336914,58.90739059448242,37.75334167480469,46.93316650390625,34.18235778808594,39.189083099365234,36.06619644165039,33.61564254760742,20.31450080871582,14.690767288208008,26.09217643737793,19.23502540588379,66.00812530517578,50.12117385864258,26.768831253051758,32.365684509277344,48.205413818359375,35.90891647338867,58.92061233520508,56.259883880615234,58.51307678222656,51.66412353515625,35.295066833496094,23.044137954711914,36.91932678222656,65.91514587402344,12.1638765335083,35.556068420410156,51.03582763671875,33.00861740112305,31.490018844604492,39.82521057128906,63.838802337646484,72.66144561767578,50.734901428222656,36.34621810913086,34.639862060546875,27.275819778442383,29.202272415161133,51.10054016113281,10.404936790466309,65.5266342163086,46.39520263671875,34.82783126831055,17.102954864501953,43.26116943359375,23.836502075195312,47.807926177978516,28.56207847595215,43.09846115112305,21.435823440551758,44.99520492553711,39.189083099365234,43.14984130859375,38.447235107421875,43.94944381713867,22.366973876953125,11.423638343811035,33.11318588256836,41.14247512817383,44.49184036254883,40.39741897583008,45.683570861816406,38.48353958129883,43.357887268066406,17.13319206237793,28.154436111450195,12.154512405395508,33.61564254760742,31.14530372619629,36.56233215332031,24.349523544311523,43.400428771972656,49.324249267578125,31.911884307861328,31.587305068969727,10.682511329650879,3.0249648094177246,30.41021728515625,26.110595703125,31.632247924804688,57.22919845581055,35.327693939208984,35.3479118347168,32.24110412597656,32.63911437988281,27.917491912841797,16.557666778564453,46.973480224609375,48.64173126220703,12.309699058532715,25.85797119140625,12.566242218017578,18.012657165527344,12.309699058532715,25.244890213012695,46.283817291259766,54.50401306152344,29.83111572265625,38.93117904663086,62.12367630004883,20.084794998168945,48.45981979370117,64.23898315429688,26.457468032836914,37.25178146362305,35.783477783203125,16.602737426757812,12.777203559875488,42.91414260864258,24.025434494018555,43.55921936035156,42.318119049072266,29.81070327758789,40.002689361572266,39.911895751953125,36.598506927490234,52.681556701660156,35.13416290283203,52.84844207763672,42.39928436279297,17.13921356201172,26.86485481262207,34.42060089111328,54.8864631652832,50.04737854003906,46.283817291259766,42.12148666381836,64.13938903808594,73.2582778930664,39.61903762817383,14.110128402709961,35.878173828125,49.49740219116211,12.44532299041748,70.07659149169922,36.40047836303711,30.325103759765625,15.588667869567871,39.368350982666016,47.48280334472656,23.060253143310547,38.076759338378906,46.762298583984375,9.19543743133545,47.856712341308594,22.69390106201172,44.190738677978516,50.46614074707031,28.89365005493164,14.63476848602295,31.26996421813965,39.19602584838867,24.272014617919922,35.72856140136719,21.74363136291504,23.324462890625,30.72599220275879,34.62268829345703,47.763877868652344,28.966224670410156,10.717680931091309,34.13459396362305,47.763877868652344,33.32310485839844,23.324462890625,23.349241256713867,46.7319450378418,73.53693389892578,40.61506271362305,35.97966766357422,48.5458984375,12.24638843536377,29.076950073242188,39.34269714355469,45.390647888183594,37.92854309082031,15.91469955444336,34.110416412353516,38.62430191040039,44.530067443847656,43.834712982177734,29.35728645324707,16.289154052734375,23.630661010742188,12.44747257232666,67.54120635986328,29.35728645324707,26.608144760131836,56.98377227783203,36.94091796875,12.515054702758789,43.48588943481445,40.36213302612305,54.77732849121094,14.61241340637207,38.72675323486328,15.777368545532227,32.19422149658203,31.71993637084961,36.301239013671875,52.68330383300781,30.892528533935547,56.812095642089844,18.388778686523438,33.34890365600586,59.832191467285156,38.62430191040039,39.42990493774414,44.8758659362793,25.728654861450195,26.81572914123535,31.779216766357422,17.23565673828125,39.792781829833984,47.009033203125,20.649015426635742,30.996780395507812,66.65201568603516,18.446311950683594,37.03314971923828,31.916366577148438,39.001468658447266,50.47943115234375,28.63224983215332,40.76600646972656,40.259071350097656,42.07956314086914,34.88066101074219,61.94988250732422,55.91468811035156,66.90850067138672,41.55872344970703,54.17899703979492,30.995437622070312,43.84185028076172,21.055850982666016,21.511686325073242,45.07803726196289,34.6976318359375,29.78603172302246,15.63863754272461,51.3929328918457,15.666207313537598,24.365020751953125,27.548913955688477,44.19779968261719,37.92854309082031,41.36353302001953,23.9834041595459,29.617855072021484,59.120513916015625,24.6220703125,30.82796859741211,9.663745880126953,40.77066421508789,35.67939376831055,44.0596923828125,25.199481964111328,36.20835494995117,36.06821823120117,39.43818283081055,6.36269474029541,47.94564437866211,37.99943542480469,44.66229248046875,66.730224609375,29.42706871032715,25.806833267211914,33.20791244506836,43.239376068115234,30.121767044067383,50.354122161865234,60.458763122558594,34.12898635864258,44.65485382080078,68.14704895019531,25.28005599975586,50.73210906982422,44.5455207824707,37.44908142089844,68.15324401855469,11.6426420211792,8.222660064697266,12.238750457763672,15.669182777404785,41.14458084106445,10.224699020385742,24.397417068481445,37.483131408691406,40.50078201293945,23.676570892333984,27.090669631958008,63.29307174682617,30.608379364013672,51.210723876953125,55.68124008178711,75.06268310546875,14.361159324645996,53.11162185668945,34.136474609375,49.64265060424805,23.601383209228516,52.330684661865234,36.03507614135742,66.730224609375,41.27352523803711,41.956363677978516,39.461570739746094,34.12898635864258,37.63310241699219,47.9119987487793,47.750640869140625,9.680314064025879,24.47317123413086,32.708187103271484,69.20108795166016,35.86898422241211,6.952695369720459,49.81924819946289,6.405970573425293,20.762765884399414,65.45258331298828,23.843435287475586,55.16689682006836,37.781044006347656,16.389904022216797,37.92989730834961,16.160781860351562,22.072101593017578,37.45733642578125,45.80663299560547]}},\"id\":\"cd43d204-295f-44ef-91cf-454bd3e2ad6b\",\"type\":\"ColumnDataSource\"},{\"attributes\":{\"line_alpha\":{\"value\":0.1},\"line_color\":{\"value\":\"#1f77b4\"},\"line_dash\":[4,4],\"line_width\":{\"value\":2},\"x\":{\"field\":\"x\"},\"y\":{\"field\":\"y\"}},\"id\":\"faa3d5e9-fabb-4832-9b0d-254d08524717\",\"type\":\"Line\"},{\"attributes\":{\"bottom_units\":\"screen\",\"fill_alpha\":{\"value\":0.5},\"fill_color\":{\"value\":\"lightgrey\"},\"left_units\":\"screen\",\"level\":\"overlay\",\"line_alpha\":{\"value\":1.0},\"line_color\":{\"value\":\"black\"},\"line_dash\":[4,4],\"line_width\":{\"value\":2},\"plot\":null,\"render_mode\":\"css\",\"right_units\":\"screen\",\"top_units\":\"screen\"},\"id\":\"905455b7-8e45-456b-a86e-115530fa25b4\",\"type\":\"BoxAnnotation\"},{\"attributes\":{\"callback\":null,\"overlay\":{\"id\":\"ad22610f-7be1-4015-9a35-b4e38576cce0\",\"type\":\"PolyAnnotation\"},\"plot\":{\"id\":\"2c443d29-5ee9-4761-b885-4b04992a72ee\",\"subtype\":\"Figure\",\"type\":\"Plot\"}},\"id\":\"7df58aeb-d5fe-48bf-8386-89959e299cfa\",\"type\":\"LassoSelectTool\"},{\"attributes\":{\"callback\":null,\"overlay\":{\"id\":\"905455b7-8e45-456b-a86e-115530fa25b4\",\"type\":\"BoxAnnotation\"},\"plot\":{\"id\":\"2c443d29-5ee9-4761-b885-4b04992a72ee\",\"subtype\":\"Figure\",\"type\":\"Plot\"},\"renderers\":[{\"id\":\"8694264f-b547-4c78-9ca7-a8cd6a670812\",\"type\":\"GlyphRenderer\"},{\"id\":\"1a0c94dd-574f-4806-a4d0-53d3ae95ec0c\",\"type\":\"GlyphRenderer\"}]},\"id\":\"1149a614-2f88-4ab3-a051-8700df6e8f40\",\"type\":\"BoxSelectTool\"},{\"attributes\":{\"axis_label\":\"Predicted\",\"axis_label_text_color\":{\"value\":\"#aa6666\"},\"formatter\":{\"id\":\"aef038cc-78ad-4a0c-9519-c8d35bc34215\",\"type\":\"BasicTickFormatter\"},\"plot\":{\"id\":\"2c443d29-5ee9-4761-b885-4b04992a72ee\",\"subtype\":\"Figure\",\"type\":\"Plot\"},\"ticker\":{\"id\":\"e0c06ad3-2ed0-48e8-9b7e-c0a5d5b23940\",\"type\":\"BasicTicker\"}},\"id\":\"b1f01fa9-d60a-4132-b912-694d666120a1\",\"type\":\"LinearAxis\"},{\"attributes\":{\"plot\":{\"id\":\"2c443d29-5ee9-4761-b885-4b04992a72ee\",\"subtype\":\"Figure\",\"type\":\"Plot\"}},\"id\":\"3a3fc699-3210-4e7f-a94f-98ee44c78551\",\"type\":\"CrosshairTool\"},{\"attributes\":{\"line_dash\":[4,4],\"line_width\":{\"value\":2},\"x\":{\"field\":\"x\"},\"y\":{\"field\":\"y\"}},\"id\":\"0f8172d2-3381-472c-a756-9c43626cb014\",\"type\":\"Line\"},{\"attributes\":{},\"id\":\"93d03483-20d3-4e72-af70-4afd963f22e9\",\"type\":\"BasicTickFormatter\"},{\"attributes\":{\"callback\":null,\"plot\":{\"id\":\"2c443d29-5ee9-4761-b885-4b04992a72ee\",\"subtype\":\"Figure\",\"type\":\"Plot\"}},\"id\":\"a2152a22-7ab0-4756-b304-4626c7a5a32f\",\"type\":\"TapTool\"},{\"attributes\":{\"plot\":{\"id\":\"2c443d29-5ee9-4761-b885-4b04992a72ee\",\"subtype\":\"Figure\",\"type\":\"Plot\"}},\"id\":\"cc9d7458-4817-49c9-82c4-58a2cab3dd1a\",\"type\":\"SaveTool\"},{\"attributes\":{\"plot\":{\"id\":\"2c443d29-5ee9-4761-b885-4b04992a72ee\",\"subtype\":\"Figure\",\"type\":\"Plot\"}},\"id\":\"f75987a9-8c34-4968-b8e7-3b69466a0202\",\"type\":\"ResizeTool\"}],\"root_ids\":[\"2c443d29-5ee9-4761-b885-4b04992a72ee\"]},\"title\":\"Bokeh Application\",\"version\":\"0.12.2\"}};\n",
       "            var render_items = [{\"docid\":\"0eae5d48-482e-4b61-af8a-657db4d9eaa7\",\"elementid\":\"c9b806dc-d82d-4367-b749-e20c51b6d387\",\"modelid\":\"2c443d29-5ee9-4761-b885-4b04992a72ee\"}];\n",
       "            \n",
       "            Bokeh.embed.embed_items(docs_json, render_items);\n",
       "        });\n",
       "      },\n",
       "      function(Bokeh) {\n",
       "      }\n",
       "    ];\n",
       "  \n",
       "    function run_inline_js() {\n",
       "      \n",
       "      if ((window.Bokeh !== undefined) || (force === \"1\")) {\n",
       "        for (var i = 0; i < inline_js.length; i++) {\n",
       "          inline_js[i](window.Bokeh);\n",
       "        }if (force === \"1\") {\n",
       "          display_loaded();\n",
       "        }} else if (Date.now() < window._bokeh_timeout) {\n",
       "        setTimeout(run_inline_js, 100);\n",
       "      } else if (!window._bokeh_failed_load) {\n",
       "        console.log(\"Bokeh: BokehJS failed to load within specified timeout.\");\n",
       "        window._bokeh_failed_load = true;\n",
       "      } else if (!force) {\n",
       "        var cell = $(\"#c9b806dc-d82d-4367-b749-e20c51b6d387\").parents('.cell').data().cell;\n",
       "        cell.output_area.append_execute_result(NB_LOAD_WARNING)\n",
       "      }\n",
       "  \n",
       "    }\n",
       "  \n",
       "    if (window._bokeh_is_loading === 0) {\n",
       "      console.log(\"Bokeh: BokehJS loaded, going straight to plotting\");\n",
       "      run_inline_js();\n",
       "    } else {\n",
       "      load_libs(js_urls, function() {\n",
       "        console.log(\"Bokeh: BokehJS plotting callback run at\", now());\n",
       "        run_inline_js();\n",
       "      });\n",
       "    }\n",
       "  }(this));\n",
       "</script>"
      ]
     },
     "metadata": {},
     "output_type": "display_data"
    }
   ],
   "source": [
    "# Plotining using bokeh\n",
    "#TOOLS = [BoxSelectTool(), HoverTool()]\n",
    "#TOOLS = 'hover,box_zoom,box_select,crosshair,resize,reset,DecisionTreeRegressor_select,pan,save,poly_select,tap,wheel_zoom,undo'\n",
    "TOOLS = 'box_zoom,box_select,crosshair,resize,reset,lasso_select,pan,save,poly_select,tap,wheel_zoom,undo'\n",
    "p = figure(plot_width=500, plot_height=500, tools=TOOLS)\n",
    "p.scatter(Y, predicted,x=\"jjj\", marker=\"o\", color=\"#80B1D3\", line_width=3)\n",
    "p.title.align = \"center\"\n",
    "p.xaxis.axis_label = \"Measured\"\n",
    "p.xaxis.axis_label_text_color = \"#aa6666\"\n",
    "#p.xaxis.axis_label_standoff = 30\n",
    "p.xaxis.major_tick_line_color = \"firebrick\"\n",
    "p.xaxis.major_tick_line_width = 3\n",
    "p.xaxis.minor_tick_line_color = \"orange\"\n",
    "p.yaxis.axis_label = \"Predicted\"\n",
    "p.yaxis.axis_label_text_font_style = \"italic\"\n",
    "p.yaxis.axis_label_text_color = \"#aa6666\"\n",
    "p.background_fill_color = \"beige\"\n",
    "p.background_fill_alpha = 0.5\n",
    "#p.line([Y.min(), Y.max()], [Y.min(), Y.max()], line_dash=\"4 4\", line_width=2, color='red')\n",
    "\n",
    "# create a new plot with the toolbar below\n",
    "# line_dash=\"4 4\", line_width=2, color='red'\n",
    "p.line([Y.min(), Y.max()], [Y.min(), Y.max()], line_dash=\"4 4\", line_width=2, line_color=\"black\")\n",
    "show(p)"
   ]
  },
  {
   "cell_type": "code",
   "execution_count": 17,
   "metadata": {
    "collapsed": false
   },
   "outputs": [
    {
     "data": {
      "text/plain": [
       "<matplotlib.text.Text at 0x7f42c421f850>"
      ]
     },
     "execution_count": 17,
     "metadata": {},
     "output_type": "execute_result"
    },
    {
     "data": {
      "image/png": "[encoded data removed]",
      "text/plain": [
       "<matplotlib.figure.Figure at 0x7f42c7c88dd0>"
      ]
     },
     "metadata": {},
     "output_type": "display_data"
    }
   ],
   "source": [
    "plt.scatter(predicted, (predicted - Y), c='r', s=30)\n",
    "plt.title(\"Residual plot on the training data\")\n",
    "plt.xlabel(\"Predicted\")\n",
    "plt.ylabel(\"Residuals\")"
   ]
  },
  {
   "cell_type": "code",
   "execution_count": 18,
   "metadata": {
    "collapsed": false
   },
   "outputs": [
    {
     "data": {
      "text/html": [
       "\n",
       "\n",
       "    <div class=\"bk-root\">\n",
       "        <div class=\"plotdiv\" id=\"e5140c16-4e2f-41a0-96f0-20d066be6377\"></div>\n",
       "    </div>\n",
       "<script type=\"text/javascript\">\n",
       "  \n",
       "  (function(global) {\n",
       "    function now() {\n",
       "      return new Date();\n",
       "    }\n",
       "  \n",
       "    var force = \"\";\n",
       "  \n",
       "    if (typeof (window._bokeh_onload_callbacks) === \"undefined\" || force !== \"\") {\n",
       "      window._bokeh_onload_callbacks = [];\n",
       "      window._bokeh_is_loading = undefined;\n",
       "    }\n",
       "  \n",
       "  \n",
       "    \n",
       "    if (typeof (window._bokeh_timeout) === \"undefined\" || force !== \"\") {\n",
       "      window._bokeh_timeout = Date.now() + 0;\n",
       "      window._bokeh_failed_load = false;\n",
       "    }\n",
       "  \n",
       "    var NB_LOAD_WARNING = {'data': {'text/html':\n",
       "       \"<div style='background-color: #fdd'>\\n\"+\n",
       "       \"<p>\\n\"+\n",
       "       \"BokehJS does not appear to have successfully loaded. If loading BokehJS from CDN, this \\n\"+\n",
       "       \"may be due to a slow or bad network connection. Possible fixes:\\n\"+\n",
       "       \"</p>\\n\"+\n",
       "       \"<ul>\\n\"+\n",
       "       \"<li>re-rerun `output_notebook()` to attempt to load from CDN again, or</li>\\n\"+\n",
       "       \"<li>use INLINE resources instead, as so:</li>\\n\"+\n",
       "       \"</ul>\\n\"+\n",
       "       \"<code>\\n\"+\n",
       "       \"from bokeh.resources import INLINE\\n\"+\n",
       "       \"output_notebook(resources=INLINE)\\n\"+\n",
       "       \"</code>\\n\"+\n",
       "       \"</div>\"}};\n",
       "  \n",
       "    function display_loaded() {\n",
       "      if (window.Bokeh !== undefined) {\n",
       "        Bokeh.$(\"#e5140c16-4e2f-41a0-96f0-20d066be6377\").text(\"BokehJS successfully loaded.\");\n",
       "      } else if (Date.now() < window._bokeh_timeout) {\n",
       "        setTimeout(display_loaded, 100)\n",
       "      }\n",
       "    }\n",
       "  \n",
       "    function run_callbacks() {\n",
       "      window._bokeh_onload_callbacks.forEach(function(callback) { callback() });\n",
       "      delete window._bokeh_onload_callbacks\n",
       "      console.info(\"Bokeh: all callbacks have finished\");\n",
       "    }\n",
       "  \n",
       "    function load_libs(js_urls, callback) {\n",
       "      window._bokeh_onload_callbacks.push(callback);\n",
       "      if (window._bokeh_is_loading > 0) {\n",
       "        console.log(\"Bokeh: BokehJS is being loaded, scheduling callback at\", now());\n",
       "        return null;\n",
       "      }\n",
       "      if (js_urls == null || js_urls.length === 0) {\n",
       "        run_callbacks();\n",
       "        return null;\n",
       "      }\n",
       "      console.log(\"Bokeh: BokehJS not loaded, scheduling load and callback at\", now());\n",
       "      window._bokeh_is_loading = js_urls.length;\n",
       "      for (var i = 0; i < js_urls.length; i++) {\n",
       "        var url = js_urls[i];\n",
       "        var s = document.createElement('script');\n",
       "        s.src = url;\n",
       "        s.async = false;\n",
       "        s.onreadystatechange = s.onload = function() {\n",
       "          window._bokeh_is_loading--;\n",
       "          if (window._bokeh_is_loading === 0) {\n",
       "            console.log(\"Bokeh: all BokehJS libraries loaded\");\n",
       "            run_callbacks()\n",
       "          }\n",
       "        };\n",
       "        s.onerror = function() {\n",
       "          console.warn(\"failed to load library \" + url);\n",
       "        };\n",
       "        console.log(\"Bokeh: injecting script tag for BokehJS library: \", url);\n",
       "        document.getElementsByTagName(\"head\")[0].appendChild(s);\n",
       "      }\n",
       "    };var element = document.getElementById(\"e5140c16-4e2f-41a0-96f0-20d066be6377\");\n",
       "    if (element == null) {\n",
       "      console.log(\"Bokeh: ERROR: autoload.js configured with elementid 'e5140c16-4e2f-41a0-96f0-20d066be6377' but no matching script tag was found. \")\n",
       "      return false;\n",
       "    }\n",
       "  \n",
       "    var js_urls = [];\n",
       "  \n",
       "    var inline_js = [\n",
       "      function(Bokeh) {\n",
       "        Bokeh.$(function() {\n",
       "            var docs_json = {\"667326e2-4b7d-4206-9e3d-6994348f8251\":{\"roots\":{\"references\":[{\"attributes\":{\"overlay\":{\"id\":\"cbaf2a93-181d-4a96-a920-1cfdf5ca9e19\",\"type\":\"BoxAnnotation\"},\"plot\":{\"id\":\"5588e183-3126-4cc2-894b-9ff49a0e7bfd\",\"subtype\":\"Figure\",\"type\":\"Plot\"}},\"id\":\"73966496-f825-40ae-a838-dc131d4b8a93\",\"type\":\"BoxZoomTool\"},{\"attributes\":{\"overlay\":{\"id\":\"8a62bc1e-65c6-4033-9e26-b86d611bc872\",\"type\":\"PolyAnnotation\"},\"plot\":{\"id\":\"5588e183-3126-4cc2-894b-9ff49a0e7bfd\",\"subtype\":\"Figure\",\"type\":\"Plot\"}},\"id\":\"cb24413c-3e3b-46ea-bbf4-7546f37a66cc\",\"type\":\"PolySelectTool\"},{\"attributes\":{\"callback\":null},\"id\":\"16cffffc-d1d2-4535-8ed2-2670263ef1e3\",\"type\":\"DataRange1d\"},{\"attributes\":{},\"id\":\"270e8a61-e682-4b23-9cb6-ecda39b589c7\",\"type\":\"BasicTickFormatter\"},{\"attributes\":{\"callback\":null},\"id\":\"552cac6c-9635-4471-bdfe-475647ee29ca\",\"type\":\"DataRange1d\"},{\"attributes\":{\"fill_color\":{\"value\":\"#80B1D3\"},\"line_color\":{\"value\":\"#80B1D3\"},\"line_width\":{\"value\":3},\"x\":{\"field\":\"x\"},\"y\":{\"field\":\"y\"}},\"id\":\"0343bd43-f3ac-4fe0-8634-f56dfeb17762\",\"type\":\"Circle\"},{\"attributes\":{},\"id\":\"00891f66-508d-4d49-a6d7-844a8999cadc\",\"type\":\"BasicTicker\"},{\"attributes\":{\"bottom_units\":\"screen\",\"fill_alpha\":{\"value\":0.5},\"fill_color\":{\"value\":\"lightgrey\"},\"left_units\":\"screen\",\"level\":\"overlay\",\"line_alpha\":{\"value\":1.0},\"line_color\":{\"value\":\"black\"},\"line_dash\":[4,4],\"line_width\":{\"value\":2},\"plot\":null,\"render_mode\":\"css\",\"right_units\":\"screen\",\"top_units\":\"screen\"},\"id\":\"cbaf2a93-181d-4a96-a920-1cfdf5ca9e19\",\"type\":\"BoxAnnotation\"},{\"attributes\":{},\"id\":\"25720c41-00e4-4f27-b8bd-48a64d1933ce\",\"type\":\"BasicTicker\"},{\"attributes\":{\"plot\":{\"id\":\"5588e183-3126-4cc2-894b-9ff49a0e7bfd\",\"subtype\":\"Figure\",\"type\":\"Plot\"}},\"id\":\"b579d323-0762-4110-9d4e-2feb54e04746\",\"type\":\"WheelZoomTool\"},{\"attributes\":{\"callback\":null,\"overlay\":{\"id\":\"01c36813-9ad6-4d83-8473-1b6feca30f01\",\"type\":\"BoxAnnotation\"},\"plot\":{\"id\":\"5588e183-3126-4cc2-894b-9ff49a0e7bfd\",\"subtype\":\"Figure\",\"type\":\"Plot\"},\"renderers\":[{\"id\":\"47734f55-b4d7-49bf-a3d1-1ee6499fa1c6\",\"type\":\"GlyphRenderer\"}]},\"id\":\"14369ae1-bd5f-494f-9e72-825f5c16a3a7\",\"type\":\"BoxSelectTool\"},{\"attributes\":{\"fill_alpha\":{\"value\":0.5},\"fill_color\":{\"value\":\"lightgrey\"},\"level\":\"overlay\",\"line_alpha\":{\"value\":1.0},\"line_color\":{\"value\":\"black\"},\"line_dash\":[4,4],\"line_width\":{\"value\":2},\"plot\":null,\"xs_units\":\"screen\",\"ys_units\":\"screen\"},\"id\":\"bfd22744-9e4d-46aa-9f81-19953d0bea91\",\"type\":\"PolyAnnotation\"},{\"attributes\":{},\"id\":\"a9f45419-2f96-4f55-9ccd-30a9845af037\",\"type\":\"BasicTickFormatter\"},{\"attributes\":{\"axis_label\":\"Predicted\",\"axis_label_text_color\":{\"value\":\"#aa6666\"},\"formatter\":{\"id\":\"270e8a61-e682-4b23-9cb6-ecda39b589c7\",\"type\":\"BasicTickFormatter\"},\"major_tick_line_color\":{\"value\":\"firebrick\"},\"major_tick_line_width\":{\"value\":3},\"minor_tick_line_color\":{\"value\":\"orange\"},\"plot\":{\"id\":\"5588e183-3126-4cc2-894b-9ff49a0e7bfd\",\"subtype\":\"Figure\",\"type\":\"Plot\"},\"ticker\":{\"id\":\"25720c41-00e4-4f27-b8bd-48a64d1933ce\",\"type\":\"BasicTicker\"}},\"id\":\"2080e96e-46b4-494e-97ff-0e9e27e18fa7\",\"type\":\"LinearAxis\"},{\"attributes\":{\"align\":\"center\",\"plot\":null,\"text\":\"Residual plot on the training data\"},\"id\":\"ce40aa29-ad4e-42e1-8cf4-dd4a693a9981\",\"type\":\"Title\"},{\"attributes\":{\"dimension\":1,\"plot\":{\"id\":\"5588e183-3126-4cc2-894b-9ff49a0e7bfd\",\"subtype\":\"Figure\",\"type\":\"Plot\"},\"ticker\":{\"id\":\"00891f66-508d-4d49-a6d7-844a8999cadc\",\"type\":\"BasicTicker\"}},\"id\":\"41f11359-4221-4dc1-a83f-729855589205\",\"type\":\"Grid\"},{\"attributes\":{\"callback\":null,\"plot\":{\"id\":\"5588e183-3126-4cc2-894b-9ff49a0e7bfd\",\"subtype\":\"Figure\",\"type\":\"Plot\"}},\"id\":\"a4a56954-1664-4806-acc1-413756f95b5a\",\"type\":\"TapTool\"},{\"attributes\":{\"data_source\":{\"id\":\"0eedf45f-ba4f-449a-8098-9e9c3dcdc969\",\"type\":\"ColumnDataSource\"},\"glyph\":{\"id\":\"0343bd43-f3ac-4fe0-8634-f56dfeb17762\",\"type\":\"Circle\"},\"hover_glyph\":null,\"nonselection_glyph\":{\"id\":\"5f961563-adfb-4854-8fb0-a5deac678543\",\"type\":\"Circle\"},\"selection_glyph\":null},\"id\":\"47734f55-b4d7-49bf-a3d1-1ee6499fa1c6\",\"type\":\"GlyphRenderer\"},{\"attributes\":{\"plot\":{\"id\":\"5588e183-3126-4cc2-894b-9ff49a0e7bfd\",\"subtype\":\"Figure\",\"type\":\"Plot\"}},\"id\":\"90b98c44-879d-4953-9823-c54a07c84d22\",\"type\":\"ResetTool\"},{\"attributes\":{\"active_drag\":\"auto\",\"active_scroll\":\"auto\",\"active_tap\":\"auto\",\"tools\":[{\"id\":\"73966496-f825-40ae-a838-dc131d4b8a93\",\"type\":\"BoxZoomTool\"},{\"id\":\"14369ae1-bd5f-494f-9e72-825f5c16a3a7\",\"type\":\"BoxSelectTool\"},{\"id\":\"b92cd953-fbd0-47ee-8f14-efd274727656\",\"type\":\"CrosshairTool\"},{\"id\":\"4942b00a-4d43-4eb5-b6f7-5aa333a72afb\",\"type\":\"ResizeTool\"},{\"id\":\"90b98c44-879d-4953-9823-c54a07c84d22\",\"type\":\"ResetTool\"},{\"id\":\"60eddd54-18d5-4b8f-82dc-9a14d51c6914\",\"type\":\"LassoSelectTool\"},{\"id\":\"f73df530-3086-43c9-bccc-a0418025dc22\",\"type\":\"PanTool\"},{\"id\":\"5bb329f4-6e84-4a5b-8cc2-7aa4866a5616\",\"type\":\"SaveTool\"},{\"id\":\"cb24413c-3e3b-46ea-bbf4-7546f37a66cc\",\"type\":\"PolySelectTool\"},{\"id\":\"a4a56954-1664-4806-acc1-413756f95b5a\",\"type\":\"TapTool\"},{\"id\":\"b579d323-0762-4110-9d4e-2feb54e04746\",\"type\":\"WheelZoomTool\"},{\"id\":\"4deb5028-be8a-413a-b5f4-e4c180e392b1\",\"type\":\"UndoTool\"}]},\"id\":\"e7ec1a5f-812e-45a0-9a8a-949aecbac26e\",\"type\":\"Toolbar\"},{\"attributes\":{\"background_fill_alpha\":{\"value\":0.5},\"background_fill_color\":{\"value\":\"beige\"},\"below\":[{\"id\":\"2080e96e-46b4-494e-97ff-0e9e27e18fa7\",\"type\":\"LinearAxis\"}],\"left\":[{\"id\":\"59d71ee9-2e2a-4a16-886e-6fdab4d30e54\",\"type\":\"LinearAxis\"}],\"plot_height\":500,\"plot_width\":500,\"renderers\":[{\"id\":\"2080e96e-46b4-494e-97ff-0e9e27e18fa7\",\"type\":\"LinearAxis\"},{\"id\":\"21e8604d-59d7-49b9-847b-45a7e9039eb3\",\"type\":\"Grid\"},{\"id\":\"59d71ee9-2e2a-4a16-886e-6fdab4d30e54\",\"type\":\"LinearAxis\"},{\"id\":\"41f11359-4221-4dc1-a83f-729855589205\",\"type\":\"Grid\"},{\"id\":\"cbaf2a93-181d-4a96-a920-1cfdf5ca9e19\",\"type\":\"BoxAnnotation\"},{\"id\":\"01c36813-9ad6-4d83-8473-1b6feca30f01\",\"type\":\"BoxAnnotation\"},{\"id\":\"bfd22744-9e4d-46aa-9f81-19953d0bea91\",\"type\":\"PolyAnnotation\"},{\"id\":\"8a62bc1e-65c6-4033-9e26-b86d611bc872\",\"type\":\"PolyAnnotation\"},{\"id\":\"47734f55-b4d7-49bf-a3d1-1ee6499fa1c6\",\"type\":\"GlyphRenderer\"}],\"title\":{\"id\":\"ce40aa29-ad4e-42e1-8cf4-dd4a693a9981\",\"type\":\"Title\"},\"tool_events\":{\"id\":\"e9a5ba1f-5480-48d6-9ea7-559532f099d8\",\"type\":\"ToolEvents\"},\"toolbar\":{\"id\":\"e7ec1a5f-812e-45a0-9a8a-949aecbac26e\",\"type\":\"Toolbar\"},\"x_range\":{\"id\":\"16cffffc-d1d2-4535-8ed2-2670263ef1e3\",\"type\":\"DataRange1d\"},\"y_range\":{\"id\":\"552cac6c-9635-4471-bdfe-475647ee29ca\",\"type\":\"DataRange1d\"}},\"id\":\"5588e183-3126-4cc2-894b-9ff49a0e7bfd\",\"subtype\":\"Figure\",\"type\":\"Plot\"},{\"attributes\":{\"callback\":null,\"overlay\":{\"id\":\"bfd22744-9e4d-46aa-9f81-19953d0bea91\",\"type\":\"PolyAnnotation\"},\"plot\":{\"id\":\"5588e183-3126-4cc2-894b-9ff49a0e7bfd\",\"subtype\":\"Figure\",\"type\":\"Plot\"}},\"id\":\"60eddd54-18d5-4b8f-82dc-9a14d51c6914\",\"type\":\"LassoSelectTool\"},{\"attributes\":{\"callback\":null,\"column_names\":[\"x\",\"y\"],\"data\":{\"x\":[46.7032585144043,37.43046951293945,42.2399787902832,14.155902862548828,52.85976791381836,21.475305557250977,11.186681747436523,28.474885940551758,44.69698715209961,29.287494659423828,26.51726531982422,31.923128128051758,24.26416778564453,42.39399719238281,64.8004150390625,18.38773536682129,39.83489990234375,34.65681838989258,35.32396697998047,39.31303405761719,26.137178421020508,43.49514389038086,20.48377799987793,42.315982818603516,33.709266662597656,42.25200271606445,52.587425231933594,30.13149070739746,44.73939895629883,15.528915405273438,37.738765716552734,32.84088897705078,30.682239532470703,65.60063934326172,63.785621643066406,43.029930114746094,47.08893966674805,31.115245819091797,27.061845779418945,24.865238189697266,36.99644088745117,32.11769104003906,45.430294036865234,11.560851097106934,8.977974891662598,46.807682037353516,47.22504806518555,43.28473663330078,43.43509292602539,17.282894134521484,28.96784782409668,11.560851097106934,39.0994987487793,36.14914321899414,54.60637664794922,77.92400360107422,46.72206115722656,34.935089111328125,44.74150085449219,56.91421890258789,31.691238403320312,34.05414962768555,17.108570098876953,44.732810974121094,59.136051177978516,31.369613647460938,31.859947204589844,46.56838607788086,40.676517486572266,48.85121154785156,39.31303405761719,33.65850067138672,65.18997955322266,36.62646484375,12.370152473449707,50.74532699584961,52.40839767456055,38.81734848022461,30.181419372558594,36.052635192871094,35.137413024902344,44.04634094238281,73.68164825439453,39.1404914855957,26.918834686279297,61.55421829223633,32.35504150390625,47.16975784301758,66.0642318725586,36.46467971801758,44.69575119018555,47.752723693847656,42.349117279052734,36.9956169128418,30.240236282348633,42.83329391479492,28.539390563964844,15.526483535766602,66.59025573730469,31.577198028564453,14.154829025268555,21.72087860107422,40.30670166015625,22.662212371826172,48.73843765258789,34.24005889892578,61.76996612548828,15.882105827331543,29.828107833862305,55.87160110473633,37.1219482421875,52.03764343261719,31.485910415649414,35.724342346191406,28.398597717285156,24.127304077148438,46.35248947143555,35.85999298095703,26.38457679748535,22.94300079345703,30.975341796875,27.063846588134766,43.898624420166016,38.68426513671875,43.922786712646484,47.613468170166016,17.983137130737305,36.94877243041992,40.921138763427734,22.924367904663086,32.94923400878906,28.871191024780273,74.40042877197266,9.865327835083008,58.31412887573242,60.823822021484375,45.95425796508789,41.214866638183594,22.341127395629883,19.091453552246094,46.35248947143555,26.93260383605957,28.596853256225586,38.564788818359375,51.875213623046875,45.43571853637695,41.86697769165039,43.53480529785156,36.606788635253906,54.631107330322266,12.618326187133789,31.49393081665039,49.14763259887695,27.81245994567871,53.81470489501953,58.5721549987793,43.922786712646484,72.93194580078125,49.47458267211914,56.64687728881836,11.99815559387207,30.114381790161133,23.756765365600586,29.207897186279297,31.0162410736084,44.27748107910156,44.073448181152344,32.3490104675293,28.79531478881836,4.947289943695068,34.01735305786133,17.287567138671875,24.879169464111328,32.165496826171875,39.63360595703125,44.664207458496094,27.2275390625,32.683372497558594,51.552467346191406,28.78809928894043,20.064855575561523,26.737756729125977,32.165496826171875,49.02461624145508,36.426849365234375,38.912109375,65.177734375,35.56992721557617,33.41581344604492,54.76666259765625,37.876766204833984,42.93452835083008,39.18116760253906,52.76567459106445,37.1942253112793,21.505712509155273,35.62313461303711,40.44523620605469,42.388099670410156,49.82073974609375,55.61354064941406,46.85850143432617,51.211326599121094,21.227378845214844,33.8214225769043,33.54060745239258,33.93975067138672,26.055076599121094,18.457372665405273,49.181068420410156,24.854900360107422,22.574832916259766,38.93219757080078,12.024178504943848,40.0499267578125,34.422752380371094,76.01033020019531,26.97880744934082,53.57204818725586,40.28835678100586,35.99571990966797,24.435333251953125,47.740013122558594,31.76691436767578,58.527164459228516,40.883270263671875,16.580028533935547,35.28127670288086,15.715084075927734,39.880516052246094,42.979156494140625,14.944344520568848,52.0102424621582,22.088096618652344,40.28835678100586,41.50669479370117,27.763816833496094,69.61778259277344,69.48657989501953,45.772281646728516,38.07527542114258,35.969322204589844,17.993080139160156,19.341711044311523,39.861087799072266,47.4243049621582,62.98984146118164,40.35224533081055,17.56734275817871,72.57801055908203,35.106666564941406,38.16619110107422,28.042142868041992,59.95753479003906,38.51651382446289,37.78978729248047,30.103515625,44.829345703125,12.0738525390625,48.55824279785156,68.0691909790039,44.78684997558594,59.2735481262207,9.723358154296875,65.04492950439453,11.136719703674316,11.631543159484863,48.03650665283203,37.54534912109375,31.612438201904297,16.570602416992188,24.128005981445312,13.171521186828613,17.54700469970703,12.70188045501709,28.18257713317871,18.49388313293457,17.930946350097656,51.8868293762207,28.680315017700195,24.133319854736328,22.657543182373047,24.278324127197266,24.955768585205078,45.51277542114258,33.50722885131836,21.445154190063477,22.840290069580078,45.07931900024414,15.749396324157715,23.64868927001953,23.103986740112305,28.53269386291504,26.419836044311523,18.075592041015625,41.44165802001953,50.22917938232422,36.353206634521484,62.65877914428711,37.68882369995117,48.39763259887695,45.81468963623047,44.45152282714844,45.177398681640625,30.629804611206055,25.262414932250977,43.45465087890625,9.9945707321167,13.603934288024902,45.19915008544922,28.903799057006836,28.44453239440918,38.558197021484375,20.918519973754883,36.32893753051758,52.48157501220703,5.666976451873779,29.153392791748047,20.616165161132812,51.73661804199219,17.924440383911133,59.01544952392578,10.156231880187988,21.708436965942383,28.478107452392578,62.906715393066406,65.14017486572266,23.00370216369629,31.111286163330078,33.44763946533203,34.44940185546875,27.4916934967041,48.83586883544922,35.16353988647461,48.74298858642578,32.90413284301758,35.03487014770508,11.207280158996582,61.99665451049805,46.8153076171875,33.861087799072266,26.413768768310547,33.81084060668945,34.39922332763672,16.767433166503906,11.422637939453125,35.27308654785156,50.58041000366211,50.95884704589844,33.27601623535156,33.861087799072266,37.64091873168945,54.320884704589844,26.047592163085938,35.651588439941406,40.37479019165039,11.540565490722656,11.540565490722656,35.699974060058594,33.85503387451172,44.66877746582031,14.502483367919922,14.053023338317871,41.75312042236328,24.265125274658203,42.236087799072266,60.47401428222656,45.19432830810547,46.38164520263672,36.6241455078125,42.393272399902344,33.155216217041016,50.53034973144531,25.34611701965332,56.1619873046875,18.72751808166504,34.18178939819336,23.401636123657227,20.969812393188477,45.222381591796875,39.79255676269531,34.77555847167969,46.62647247314453,12.144657135009766,39.81277084350586,43.50790786743164,43.34998321533203,19.880916595458984,34.59202575683594,25.483592987060547,55.82291030883789,18.91012191772461,29.94356918334961,33.27601623535156,60.47401428222656,41.41339111328125,37.1154670715332,43.83259201049805,37.681396484375,34.46128845214844,16.93167495727539,38.63214111328125,52.03853988647461,61.09876251220703,36.26676940917969,31.63306999206543,51.64286804199219,13.816807746887207,29.60799789428711,8.83611011505127,41.55436706542969,44.17675018310547,43.76556396484375,18.22364044189453,54.61026382446289,51.67754364013672,29.254972457885742,19.940649032592773,32.597198486328125,38.74579620361328,54.10163497924805,15.358515739440918,35.62406921386719,35.35007095336914,13.054500579833984,29.339618682861328,67.54750061035156,41.70808792114258,39.6441650390625,32.80284118652344,17.15009117126465,28.152624130249023,35.22236251831055,39.867244720458984,16.41636085510254,35.69700241088867,20.25952911376953,15.589646339416504,14.101367950439453,9.199136734008789,14.99569034576416,21.20791244506836,37.30960464477539,52.00870895385742,34.713172912597656,39.95211410522461,34.12169647216797,46.68199157714844,20.717939376831055,26.924560546875,34.12169647216797,10.976778030395508,31.304553985595703,45.93296432495117,37.37095260620117,55.27357864379883,30.73275375366211,19.854562759399414,27.153486251831055,29.379615783691406,12.229393005371094,39.06406021118164,29.98358726501465,29.379615783691406,53.65644073486328,10.626208305358887,30.432798385620117,43.20172882080078,29.144817352294922,49.45246124267578,21.863845825195312,47.87895584106445,72.9794692993164,46.89445877075195,37.1735954284668,26.620756149291992,38.74579620361328,25.033166885375977,26.372385025024414,23.829246520996094,40.06210708618164,13.34317398071289,66.86038970947266,48.12415313720703,37.313720703125,24.37618064880371,49.69938659667969,10.626208305358887,25.814300537109375,22.31244468688965,45.427284240722656,50.14439010620117,36.45553970336914,58.90739059448242,37.75334167480469,46.93316650390625,34.18235778808594,39.189083099365234,36.06619644165039,33.61564254760742,20.31450080871582,14.690767288208008,26.09217643737793,19.23502540588379,66.00812530517578,50.12117385864258,26.768831253051758,32.365684509277344,48.205413818359375,35.90891647338867,58.92061233520508,56.259883880615234,58.51307678222656,51.66412353515625,35.295066833496094,23.044137954711914,36.91932678222656,65.91514587402344,12.1638765335083,35.556068420410156,51.03582763671875,33.00861740112305,31.490018844604492,39.82521057128906,63.838802337646484,72.66144561767578,50.734901428222656,36.34621810913086,34.639862060546875,27.275819778442383,29.202272415161133,51.10054016113281,10.404936790466309,65.5266342163086,46.39520263671875,34.82783126831055,17.102954864501953,43.26116943359375,23.836502075195312,47.807926177978516,28.56207847595215,43.09846115112305,21.435823440551758,44.99520492553711,39.189083099365234,43.14984130859375,38.447235107421875,43.94944381713867,22.366973876953125,11.423638343811035,33.11318588256836,41.14247512817383,44.49184036254883,40.39741897583008,45.683570861816406,38.48353958129883,43.357887268066406,17.13319206237793,28.154436111450195,12.154512405395508,33.61564254760742,31.14530372619629,36.56233215332031,24.349523544311523,43.400428771972656,49.324249267578125,31.911884307861328,31.587305068969727,10.682511329650879,3.0249648094177246,30.41021728515625,26.110595703125,31.632247924804688,57.22919845581055,35.327693939208984,35.3479118347168,32.24110412597656,32.63911437988281,27.917491912841797,16.557666778564453,46.973480224609375,48.64173126220703,12.309699058532715,25.85797119140625,12.566242218017578,18.012657165527344,12.309699058532715,25.244890213012695,46.283817291259766,54.50401306152344,29.83111572265625,38.93117904663086,62.12367630004883,20.084794998168945,48.45981979370117,64.23898315429688,26.457468032836914,37.25178146362305,35.783477783203125,16.602737426757812,12.777203559875488,42.91414260864258,24.025434494018555,43.55921936035156,42.318119049072266,29.81070327758789,40.002689361572266,39.911895751953125,36.598506927490234,52.681556701660156,35.13416290283203,52.84844207763672,42.39928436279297,17.13921356201172,26.86485481262207,34.42060089111328,54.8864631652832,50.04737854003906,46.283817291259766,42.12148666381836,64.13938903808594,73.2582778930664,39.61903762817383,14.110128402709961,35.878173828125,49.49740219116211,12.44532299041748,70.07659149169922,36.40047836303711,30.325103759765625,15.588667869567871,39.368350982666016,47.48280334472656,23.060253143310547,38.076759338378906,46.762298583984375,9.19543743133545,47.856712341308594,22.69390106201172,44.190738677978516,50.46614074707031,28.89365005493164,14.63476848602295,31.26996421813965,39.19602584838867,24.272014617919922,35.72856140136719,21.74363136291504,23.324462890625,30.72599220275879,34.62268829345703,47.763877868652344,28.966224670410156,10.717680931091309,34.13459396362305,47.763877868652344,33.32310485839844,23.324462890625,23.349241256713867,46.7319450378418,73.53693389892578,40.61506271362305,35.97966766357422,48.5458984375,12.24638843536377,29.076950073242188,39.34269714355469,45.390647888183594,37.92854309082031,15.91469955444336,34.110416412353516,38.62430191040039,44.530067443847656,43.834712982177734,29.35728645324707,16.289154052734375,23.630661010742188,12.44747257232666,67.54120635986328,29.35728645324707,26.608144760131836,56.98377227783203,36.94091796875,12.515054702758789,43.48588943481445,40.36213302612305,54.77732849121094,14.61241340637207,38.72675323486328,15.777368545532227,32.19422149658203,31.71993637084961,36.301239013671875,52.68330383300781,30.892528533935547,56.812095642089844,18.388778686523438,33.34890365600586,59.832191467285156,38.62430191040039,39.42990493774414,44.8758659362793,25.728654861450195,26.81572914123535,31.779216766357422,17.23565673828125,39.792781829833984,47.009033203125,20.649015426635742,30.996780395507812,66.65201568603516,18.446311950683594,37.03314971923828,31.916366577148438,39.001468658447266,50.47943115234375,28.63224983215332,40.76600646972656,40.259071350097656,42.07956314086914,34.88066101074219,61.94988250732422,55.91468811035156,66.90850067138672,41.55872344970703,54.17899703979492,30.995437622070312,43.84185028076172,21.055850982666016,21.511686325073242,45.07803726196289,34.6976318359375,29.78603172302246,15.63863754272461,51.3929328918457,15.666207313537598,24.365020751953125,27.548913955688477,44.19779968261719,37.92854309082031,41.36353302001953,23.9834041595459,29.617855072021484,59.120513916015625,24.6220703125,30.82796859741211,9.663745880126953,40.77066421508789,35.67939376831055,44.0596923828125,25.199481964111328,36.20835494995117,36.06821823120117,39.43818283081055,6.36269474029541,47.94564437866211,37.99943542480469,44.66229248046875,66.730224609375,29.42706871032715,25.806833267211914,33.20791244506836,43.239376068115234,30.121767044067383,50.354122161865234,60.458763122558594,34.12898635864258,44.65485382080078,68.14704895019531,25.28005599975586,50.73210906982422,44.5455207824707,37.44908142089844,68.15324401855469,11.6426420211792,8.222660064697266,12.238750457763672,15.669182777404785,41.14458084106445,10.224699020385742,24.397417068481445,37.483131408691406,40.50078201293945,23.676570892333984,27.090669631958008,63.29307174682617,30.608379364013672,51.210723876953125,55.68124008178711,75.06268310546875,14.361159324645996,53.11162185668945,34.136474609375,49.64265060424805,23.601383209228516,52.330684661865234,36.03507614135742,66.730224609375,41.27352523803711,41.956363677978516,39.461570739746094,34.12898635864258,37.63310241699219,47.9119987487793,47.750640869140625,9.680314064025879,24.47317123413086,32.708187103271484,69.20108795166016,35.86898422241211,6.952695369720459,49.81924819946289,6.405970573425293,20.762765884399414,65.45258331298828,23.843435287475586,55.16689682006836,37.781044006347656,16.389904022216797,37.92989730834961,16.160781860351562,22.072101593017578,37.45733642578125,45.80663299560547],\"y\":[2.8112163544043014,-0.7802904070605479,8.820387594283204,1.0351745825488283,5.637556673818359,-0.8430325627490234,-1.285939092563476,-0.4631112554482435,-2.332860283900395,2.9646799314238272,-3.922410604175777,19.28503304805176,3.4902559056445313,-1.4042762316171817,-1.299649080937499,3.0262100868212904,-1.0303426176562454,-11.282967490107417,1.5672220199804698,-4.268743902382809,2.6129467770205075,0.7958952103808627,6.33986733587793,-6.08523238139648,-0.8603705014023433,6.392355956064456,-6.507562728066404,5.63440842739746,7.017477520298826,0.008810645273438666,5.337530572552737,-0.21259046294921546,-18.567031147529292,-6.097969896738277,8.88954252306641,-7.429370945253908,-4.774824005251951,2.433044219091798,0.28949269941894684,7.629027665697265,0.15773820745117462,-8.113233559960939,-2.2842030671347615,0.19828661710693396,-1.0125323483374018,5.882455105353522,6.661796033185553,11.56884063330078,4.017750006025395,-0.8434299054785157,10.68294430409668,1.6944495371069337,-2.200113651220704,1.592606098994139,0.6479848879492209,-4.675221198925783,-7.876853806773433,-9.676765992671868,5.451710994492188,-6.614099737412104,-7.47099839667969,-5.267356128314454,-3.307503737123046,0.3374513341210985,2.7989672179785146,-7.130726192539058,-0.38546636341015983,4.339360029880858,-5.570774689427736,15.163414187851565,-4.896167062382808,-0.07066524861328105,0.2896036732226577,3.4344007277499955,-0.08178408655029301,6.605073475849608,-5.507586325439448,-16.69236427977539,-7.0847584274414075,-6.163980287128908,-6.065672735097657,4.267023122382817,8.781272374394533,-0.5216154144042946,3.407703086279298,6.789139612236333,3.2819070119062523,-2.6035145969824214,0.8673813125585923,-0.12374317398241885,-7.311423489814452,10.486545893847655,-1.229213300947265,-3.683467087158199,3.2748299223486335,6.581335310794927,2.8129725759648423,3.345511043766601,-6.404568382695317,2.9501545085644523,2.7626170772685548,1.6364427210742178,-7.977302619843748,-1.3384471881738271,3.4336591685878943,-1.5230612210742152,-12.424546234511723,1.1824775073315443,4.218999264403664,-6.119186055263668,-0.9522954298124944,-2.058643527382813,-9.371058392350584,-4.120475693808594,5.963048677285158,-1.7666565788515598,3.4326084714355503,5.212784780957033,0.18448879748535063,-0.1958137665429689,4.120251596875001,0.9161587641347673,-8.547746471833982,0.7630851367187503,2.086072508646488,-1.3738016298339844,9.446734774737305,1.1945169998785587,-7.666234956572261,1.3230848246630877,4.149821488789062,-3.9520034312197296,-4.896205988027347,-1.7895744689169923,-8.466546554808943,-0.2706463385156255,-2.715852874912109,1.0184158381835928,-3.9168765883701155,5.632882032246094,-1.386828768564449,3.23600319205957,0.7696018962255877,7.214315098359375,-8.447041616953122,-3.2599029156230444,2.7736884916503897,10.417894065851563,-0.7214420047460948,3.933937050322264,-0.9471141128662097,-2.193866543349607,-4.3143364411230465,11.308472933678711,-8.041141959168428,-1.722521201220701,0.9098264526464845,-4.365208559218743,-7.372713527880855,1.1509540488183632,-3.0510370581279282,12.277637670161134,3.9915568736005866,4.669446346279297,9.0702199936084,10.713789399101564,1.0156719811523445,4.667928019529295,-2.2311052111816387,2.6154821116950684,-8.27510478213867,1.9467261386718757,5.1877349041113305,-1.5360900538281257,-8.148459794968744,-11.477754793503905,2.3374554624999995,2.812514273558598,-7.0529926538085945,3.8842261689404296,6.669321860290845,2.950834729125976,-1.5636690938281248,-3.017032238544921,5.076375645234375,0.9564555749999997,7.578909334999999,6.122407255576174,9.525470046044923,-12.932985842343754,3.140965324833985,3.878470854830077,14.084241202539062,7.398153791064452,9.098078311279298,-1.715839170844724,-4.525052866962888,-1.694847437945306,5.046079510410159,5.68738098609375,-4.667346030585932,-2.9147710056738276,-8.379099116149582,3.2679079972148415,9.7173416169043,6.59588537239258,1.9728854073867232,-2.1824129808789046,2.347765925405273,-5.094482299589842,6.108737396107422,-2.342829723740234,-1.9261501891992197,0.5581926249438478,1.6419767018124958,9.222404580371094,-3.3897259598046787,3.46078108934082,-12.852069652744134,0.8365400610058629,6.21035670966797,2.0873476639531248,-8.155806197441407,1.6437079276757807,-9.04148354077148,-12.640751616328124,3.2869312539355473,11.18409050288086,0.7258758359277344,0.29769889224609614,-5.867460201859373,2.986762252568848,12.634268102158202,2.1001873786523433,0.8324032050058605,2.0852150177011737,3.280524073496096,10.419373232773438,2.786671655019532,-4.200938833271479,-2.6382823788574186,-3.730016399410154,-2.284409020839842,1.7669678043115233,6.778650367072267,6.372903922158201,6.84581078118164,-3.024758257189454,2.4816078781787105,-4.719143800917962,2.266924684941408,0.7283337770742193,4.297968380041993,3.5583979900390617,-4.872210855537105,-6.908252311519526,-2.616946906999999,-9.073887976875,4.3241422990625,0.7430821978515638,8.174410859003906,6.769143335585937,-9.477058727967261,2.8396297702968756,-11.755802135605464,-0.7153727363256834,3.1440935994848633,-1.1645007071679672,4.777312745093745,-1.5996207180957,-1.4247211830078115,0.3272944614453124,6.269176950828613,-0.5793193402929688,2.1659976990170904,2.6719651331787126,5.03255370893457,-7.552086609902343,-3.7607785837792918,-4.2835325422998025,4.717675694736329,-0.2882180976269524,4.586889567197268,6.92183432920508,-7.395544390857417,10.262037997130399,-4.244721569936523,4.886335029580078,1.381019596244144,0.174133484157716,-1.7736698019804678,-6.053953299887695,6.097144822915041,3.887760364311525,-3.1037317269843747,8.043440580019535,1.2556991023242219,13.863878466521484,-4.6478679757128845,-1.9215725000488248,3.3127969588769517,7.3536499282304675,-2.480419016851556,4.581051801640626,0.18254445120605567,0.9714859762509782,-6.5392538810937495,1.931148912116699,-2.674594071975097,4.809646005449217,5.264621911194798,7.378282690409179,-4.692632458515625,-0.00018186624511784544,2.530134534517579,8.451637652207033,-4.182680693938261,3.5324646317480486,-3.832653798867188,-24.498743278007808,2.1761190679111344,0.4927266439257849,2.3168897601879888,4.432926309942385,1.2575949723925781,-8.391997766933585,-2.9593696542773387,-1.651959596303712,4.19759050333008,0.04804307333203184,5.057039975468751,-2.4005384832958967,2.034237955449221,3.9095928064746097,-6.80809273357422,3.9047722830175786,-4.26526185229492,0.8713454429965832,-17.989456249501956,-0.46206170281249825,8.840003759072268,2.020107888310548,-9.922622073310542,-15.40162815236328,7.755981846503907,0.008362759453126145,1.730079147851562,-5.24646171633789,4.0606895258984395,1.5325411953515626,-1.502136240927733,2.298378971689452,-11.675758015410153,-4.185930436914063,0.3373171959414094,3.439560871650393,-1.1940562292773436,0.3710542907226575,-2.9037871799414035,-10.754063325488282,3.517402405820313,1.7140825199199234,1.876877178317871,8.709983122363283,2.4059781706582015,1.1833078070722678,-10.824698877773429,-2.517410891894528,0.15227940263672224,9.8793714678125,0.8523433999023453,6.2380731770410165,-5.413732908554685,7.523162419653321,-5.0738236353125,3.38667708166504,2.7623680781933615,1.490088843657226,4.091439913188477,-7.198478688203124,2.6215266506953157,-4.86931152832031,-4.028639770855463,-1.3759672249902337,3.856597443505862,-3.6246714925683605,-12.745784144667965,0.5307726554589856,2.5238075208359376,7.284873967060548,-4.471765891162107,5.575656077724609,2.0197911833496107,-0.32904400464843775,-10.824698877773429,4.965621325281248,3.6266327868038886,5.373620730498047,-1.0188913956249976,0.6631749321484364,-2.4839692027246087,-0.8541494067187472,-7.263290873525392,-19.10108580779297,4.21509859717969,9.773922888065428,-5.101006758007813,3.2816144668872074,3.6423317342871115,3.932556803051269,-0.3864580145703087,2.242130387105469,-24.09955871515625,5.134628057894531,3.589039824462894,-1.281107919863281,0.26940141788574223,1.9763518525927743,3.0482270557867643,-2.4986581163867143,-4.683088780751952,2.8989949434409183,0.950321173867188,-6.334269054630859,-3.8349035161660154,4.12272345886133,0.9510137703515653,-9.623400278857417,6.625159399062504,2.679634746523437,3.856304415264649,-6.6176505497509766,-2.8918707616894537,4.014492720458989,0.15162201510253936,-2.5068627491113276,-1.5603178582304658,1.0899660594165042,4.365966830439454,-1.5635836259912104,-2.1701936262358394,6.666863605068359,0.6708500047753887,1.932067073857425,-2.2510143994023437,-4.343960990775393,-2.227478247832032,-9.379301982851558,1.6125594168310542,2.642594778875001,-2.22816772383203,-4.093197400145851,5.843584257595701,7.232676444951174,-6.006050981798829,-11.840015196201165,3.49845175366211,0.6554140633994159,-2.2595599081689457,-0.2747469763085917,-1.3946527546289058,-1.0841272688183565,0.43264590501464895,-3.2808623363085943,-3.0391707451367154,-0.8577039506411115,-4.792530454379879,0.8747971808007833,-3.859019815705075,-1.8031845973242184,-0.05321726280468653,9.663369589064459,-4.317685060683587,-5.531917317248045,-0.0581085715332037,0.39308910929199214,-0.25096635638671927,0.046556645375979144,3.536939905024415,11.584152760996094,0.4572266941816423,-2.176930779287108,1.6635391494726548,-7.77166618279297,-2.0443272808749953,6.800058456803711,8.764507000679686,-1.425832174641112,1.4096080411093759,-1.21247643311035,6.127152240722658,-5.310164573798829,-0.9761123366308553,-10.929633445517581,6.402867954804687,0.7313797439062526,-12.20558749191406,3.8879118993652355,7.43915292165039,1.7411670676074245,-0.27945783528418033,2.1423040882080073,-7.572178738622071,4.1437747178837885,-3.6496349748242096,-9.64260582135742,-9.674801678948242,9.433712749277344,6.17495685835938,3.282222677388667,-7.903401584794921,-15.72830527938477,-15.85183467589384,-20.43438178484375,-1.6953205665039022,1.5049077147119156,-0.5123252577734334,1.6146141140234391,4.848536173508301,-3.047692819589841,28.13832967671875,0.9972316858523698,3.8144522046044926,-0.236792408710933,7.343138897646483,1.9625765776757902,4.091850028222659,4.3752159891308615,1.9173311005468747,3.4888977784423822,-3.7546803848388635,-4.057539838867186,0.021428230466309373,-8.971247583691408,-7.328767283281252,3.9462012283105494,3.5616462245019527,-0.31371376640625215,2.3317456351953147,-5.019035466021478,-4.49829572404785,-7.674551488876951,1.896763076551757,2.8640844695371115,3.8879118993652355,1.6068438805937504,-8.954239892578123,-7.7833194148613245,2.3790646369531245,-3.620727976188965,3.520875962568361,-0.9845084718261674,-7.811808997451173,1.014549855830083,6.535123581816407,2.1826281812988313,-0.9685247719335948,-6.271760233622068,5.524454839450197,-3.4614295186044917,9.780457227607421,-4.080025113803707,5.384227433320312,-3.525301659688477,4.838036091972654,-4.991291060421872,-10.725311532138669,-1.7143857310302693,-1.85905711034912,-1.7572407265822756,1.3419091251562492,-8.128782456875001,-1.2523098951953102,7.331820335810548,3.791061699208985,1.6463249547167962,-0.5227953940234329,-5.275170860117186,2.357927116841797,-0.8791812614355479,-10.244754063390616,-1.8851384457929683,-1.996927941467284,6.848428395406252,2.4764504340175773,4.829876045527344,-1.2109253014672845,-5.0306904229873055,-6.232880152740229,-27.247156258476565,1.3626516826562494,-1.9271687133691415,-9.175036859951163,2.7168945581689457,-7.435999526298829,1.7379837542968772,0.22428518483691207,3.0468771036230464,-5.626450776796872,6.9852367027578115,-4.445906920124511,-1.4743222713574227,4.260226002018555,-6.951792399648433,3.266198409072267,4.6940775623172115,4.43262252157227,-4.366252968046872,-14.002136712509767,-15.617935858339848,3.9553687068320293,-9.204397922363277,3.1680999627929722,2.10863676201172,9.268048340622073,-2.142311388886718,-4.9117903147167965,-6.765443859960939,-7.016814364740235,4.124464303818364,-0.16114272191406087,-4.038876466933587,1.0083816281738294,3.3225869067099616,1.3905843081249998,-4.157620128837891,-0.7788266895825195,6.679273291699218,-0.5347509569628883,4.952386959765626,3.412521709567871,2.198699822666015,-3.5728944552734347,1.1487058633105462,-6.222073661621096,-7.0099346560156235,-12.09558144866455,2.558139141308594,4.277997102011721,1.570090261978514,-10.483537652929684,-2.22240182506836,-0.8025991539770505,7.027988058139648,-3.599749471611325,2.305309257919923,-2.902089402632811,-4.318561437084959,-1.1036717893749994,2.953898922758789,2.7227022014570323,-8.855201775347652,-4.3078870895898405,-0.8586211089086913,3.9148608836230494,-8.848996491347656,0.016587726398441305,-6.605690269375,-0.6514183032861318,0.4977529058418,-5.759700861074222,-1.1044405703769513,2.5814502235742225,-2.4891150824999997,-2.7428198046362304,1.0552664812421888,6.944219903554689,-7.713483107816408,2.6273718908203136,1.1185445944433603,4.030646960353518,1.3588135864003945,-6.418761576152342,0.1364135781777378,7.707740053247072,-6.787607667265625,-0.43480929325781403,2.4155967723266603,8.742693079863287,4.177622933247072,2.1703574161318357,-3.3109039221679666,-3.7174817512499985,5.00804001475879,-12.113455205185545,4.06122162612305,-19.92050134878906,5.050760238372071,-5.481068933136719,2.5807979055322274,4.258722404582034,5.671533090849611,4.191356728942559,-26.11690820699218,4.492492493935547,0.1785370020898469,2.6976838785234367,8.265766776005862,8.81096746728516,1.365018870400391,-2.993553342255858,1.3768250962792976,2.2051126934501966,1.256853821235353,0.139163126357424,4.39761361828125,5.829194069833989,-2.1919741568749984,5.0792683946357435,2.0056935475078106,1.4551651260351548,6.073665130683594,-4.852517280761717,6.17133273714844,-1.0570869415527326,4.2500653523437535,4.89359115215332,-2.799224066273439,-0.7923296899023455,9.22603174086914,3.856998914742185,1.7517329473242214,-9.992322729648436,-6.389692888613283,-2.719425270292966,1.9787690797949224,4.135521090070316,3.0827870647617175,9.589865102666016,-0.26886051492675733,4.509269421962891,6.401536795937503,11.498370299022461,1.435431942724609,6.873467571845701,0.8224785095375982,3.101580911953125,-11.847744684311522,-8.24374487738281,2.6273718908203136,0.2638686600195328,-0.29994056045410034,4.438191552021486,-2.6772199639843706,0.9316749524999999,-0.43976800258788984,0.5323257361269533,3.965745859087889,4.8322375283105465,1.512128422812502,6.190628644111328,11.104533789951173,-8.568458008798828,0.4427992228105495,-2.94523125970459,-7.605436941337892,-0.7698000551953115,-1.1740719995312503,-7.436708710624998,6.67436071032715,-1.935612544788082,3.3398121250683594,-5.94577334388476,5.783264244067382,5.83051998586523,-8.040677477441406,2.4820379586425787,7.227338636800788,0.3508738701953149,-11.15875060024414,-4.288075730175777,5.540878497741389,4.916156360898441,-5.544845621445305,-8.2901091388208,-0.15171543130273335,2.016579281763672,1.072286381404787,-2.5544080389355486,2.501188868385742,-6.953056651518555,-7.3852087673085975,-4.866738787060548,-6.074318507666014,0.9457397119580087,8.093623186826171,1.376665392013674,0.16881559695312376,-10.22783918621289,-4.233951654531253,4.623000300645996,-1.7844572633105429,-3.2262298306250017,-2.081838915751952,2.875734649228516,-0.4900716981347628,3.9323841053574213,-4.892542270625,5.407673194037116,6.855140517978519,-6.781584580253906,2.288984678642578,4.234884976992191,-9.300719731220703,3.8082669611406246,2.004377756025879,6.44337383413086,0.8330221472714818,-6.296534048339836,11.468428582412109,-1.2513795542795414,3.134828239462891,3.086143633425293,-0.25935735560058504,24.08402331298828,-3.1978134325244127,10.743958140068358,3.383086366347655,-4.577061137783204,0.960194188349611,9.893445020351564,6.655418233017578,-1.9779328702187513,-4.925700560394532]}},\"id\":\"0eedf45f-ba4f-449a-8098-9e9c3dcdc969\",\"type\":\"ColumnDataSource\"},{\"attributes\":{\"plot\":{\"id\":\"5588e183-3126-4cc2-894b-9ff49a0e7bfd\",\"subtype\":\"Figure\",\"type\":\"Plot\"}},\"id\":\"f73df530-3086-43c9-bccc-a0418025dc22\",\"type\":\"PanTool\"},{\"attributes\":{},\"id\":\"e9a5ba1f-5480-48d6-9ea7-559532f099d8\",\"type\":\"ToolEvents\"},{\"attributes\":{\"plot\":{\"id\":\"5588e183-3126-4cc2-894b-9ff49a0e7bfd\",\"subtype\":\"Figure\",\"type\":\"Plot\"}},\"id\":\"4deb5028-be8a-413a-b5f4-e4c180e392b1\",\"type\":\"UndoTool\"},{\"attributes\":{\"plot\":{\"id\":\"5588e183-3126-4cc2-894b-9ff49a0e7bfd\",\"subtype\":\"Figure\",\"type\":\"Plot\"}},\"id\":\"4942b00a-4d43-4eb5-b6f7-5aa333a72afb\",\"type\":\"ResizeTool\"},{\"attributes\":{\"fill_alpha\":{\"value\":0.1},\"fill_color\":{\"value\":\"#1f77b4\"},\"line_alpha\":{\"value\":0.1},\"line_color\":{\"value\":\"#1f77b4\"},\"line_width\":{\"value\":3},\"x\":{\"field\":\"x\"},\"y\":{\"field\":\"y\"}},\"id\":\"5f961563-adfb-4854-8fb0-a5deac678543\",\"type\":\"Circle\"},{\"attributes\":{\"plot\":{\"id\":\"5588e183-3126-4cc2-894b-9ff49a0e7bfd\",\"subtype\":\"Figure\",\"type\":\"Plot\"}},\"id\":\"b92cd953-fbd0-47ee-8f14-efd274727656\",\"type\":\"CrosshairTool\"},{\"attributes\":{\"plot\":{\"id\":\"5588e183-3126-4cc2-894b-9ff49a0e7bfd\",\"subtype\":\"Figure\",\"type\":\"Plot\"}},\"id\":\"5bb329f4-6e84-4a5b-8cc2-7aa4866a5616\",\"type\":\"SaveTool\"},{\"attributes\":{\"bottom_units\":\"screen\",\"fill_alpha\":{\"value\":0.5},\"fill_color\":{\"value\":\"lightgrey\"},\"left_units\":\"screen\",\"level\":\"overlay\",\"line_alpha\":{\"value\":1.0},\"line_color\":{\"value\":\"black\"},\"line_dash\":[4,4],\"line_width\":{\"value\":2},\"plot\":null,\"render_mode\":\"css\",\"right_units\":\"screen\",\"top_units\":\"screen\"},\"id\":\"01c36813-9ad6-4d83-8473-1b6feca30f01\",\"type\":\"BoxAnnotation\"},{\"attributes\":{\"plot\":{\"id\":\"5588e183-3126-4cc2-894b-9ff49a0e7bfd\",\"subtype\":\"Figure\",\"type\":\"Plot\"},\"ticker\":{\"id\":\"25720c41-00e4-4f27-b8bd-48a64d1933ce\",\"type\":\"BasicTicker\"}},\"id\":\"21e8604d-59d7-49b9-847b-45a7e9039eb3\",\"type\":\"Grid\"},{\"attributes\":{\"axis_label\":\"Residuals\",\"axis_label_text_color\":{\"value\":\"#aa6666\"},\"formatter\":{\"id\":\"a9f45419-2f96-4f55-9ccd-30a9845af037\",\"type\":\"BasicTickFormatter\"},\"plot\":{\"id\":\"5588e183-3126-4cc2-894b-9ff49a0e7bfd\",\"subtype\":\"Figure\",\"type\":\"Plot\"},\"ticker\":{\"id\":\"00891f66-508d-4d49-a6d7-844a8999cadc\",\"type\":\"BasicTicker\"}},\"id\":\"59d71ee9-2e2a-4a16-886e-6fdab4d30e54\",\"type\":\"LinearAxis\"},{\"attributes\":{\"fill_alpha\":{\"value\":0.5},\"fill_color\":{\"value\":\"lightgrey\"},\"level\":\"overlay\",\"line_alpha\":{\"value\":1.0},\"line_color\":{\"value\":\"black\"},\"line_dash\":[4,4],\"line_width\":{\"value\":2},\"plot\":null,\"xs_units\":\"screen\",\"ys_units\":\"screen\"},\"id\":\"8a62bc1e-65c6-4033-9e26-b86d611bc872\",\"type\":\"PolyAnnotation\"}],\"root_ids\":[\"5588e183-3126-4cc2-894b-9ff49a0e7bfd\"]},\"title\":\"Bokeh Application\",\"version\":\"0.12.2\"}};\n",
       "            var render_items = [{\"docid\":\"667326e2-4b7d-4206-9e3d-6994348f8251\",\"elementid\":\"e5140c16-4e2f-41a0-96f0-20d066be6377\",\"modelid\":\"5588e183-3126-4cc2-894b-9ff49a0e7bfd\"}];\n",
       "            \n",
       "            Bokeh.embed.embed_items(docs_json, render_items);\n",
       "        });\n",
       "      },\n",
       "      function(Bokeh) {\n",
       "      }\n",
       "    ];\n",
       "  \n",
       "    function run_inline_js() {\n",
       "      \n",
       "      if ((window.Bokeh !== undefined) || (force === \"1\")) {\n",
       "        for (var i = 0; i < inline_js.length; i++) {\n",
       "          inline_js[i](window.Bokeh);\n",
       "        }if (force === \"1\") {\n",
       "          display_loaded();\n",
       "        }} else if (Date.now() < window._bokeh_timeout) {\n",
       "        setTimeout(run_inline_js, 100);\n",
       "      } else if (!window._bokeh_failed_load) {\n",
       "        console.log(\"Bokeh: BokehJS failed to load within specified timeout.\");\n",
       "        window._bokeh_failed_load = true;\n",
       "      } else if (!force) {\n",
       "        var cell = $(\"#e5140c16-4e2f-41a0-96f0-20d066be6377\").parents('.cell').data().cell;\n",
       "        cell.output_area.append_execute_result(NB_LOAD_WARNING)\n",
       "      }\n",
       "  \n",
       "    }\n",
       "  \n",
       "    if (window._bokeh_is_loading === 0) {\n",
       "      console.log(\"Bokeh: BokehJS loaded, going straight to plotting\");\n",
       "      run_inline_js();\n",
       "    } else {\n",
       "      load_libs(js_urls, function() {\n",
       "        console.log(\"Bokeh: BokehJS plotting callback run at\", now());\n",
       "        run_inline_js();\n",
       "      });\n",
       "    }\n",
       "  }(this));\n",
       "</script>"
      ]
     },
     "metadata": {},
     "output_type": "display_data"
    }
   ],
   "source": [
    "# Plotining using bokeh\n",
    "#TOOLS = 'hover,box_zoom,box_select,crosshair,resize,reset,DecisionTreeRegressor_select,pan,save,poly_select,tap,wheel_zoom,undo'\n",
    "TOOLS = 'box_zoom,box_select,crosshair,resize,reset,lasso_select,pan,save,poly_select,tap,wheel_zoom,undo'\n",
    "p = figure(plot_width=500, plot_height=500, title=\"Residual plot on the training data\", tools=TOOLS)\n",
    "p.scatter(predicted, (predicted - Y),x=\"jjj\", marker=\"o\", color=\"#80B1D3\", line_width=3)\n",
    "p.title.align = \"center\"\n",
    "p.xaxis.axis_label = \"Predicted\"\n",
    "p.xaxis.axis_label_text_color = \"#aa6666\"\n",
    "#p.xaxis.axis_label_standoff = 30\n",
    "p.xaxis.major_tick_line_color = \"firebrick\"\n",
    "p.xaxis.major_tick_line_width = 3\n",
    "p.xaxis.minor_tick_line_color = \"orange\"\n",
    "p.yaxis.axis_label = \"Residuals\"\n",
    "p.yaxis.axis_label_text_font_style = \"italic\"\n",
    "p.yaxis.axis_label_text_color = \"#aa6666\"\n",
    "p.background_fill_color = \"beige\"\n",
    "p.background_fill_alpha = 0.5\n",
    "#p.line([2,38], [0, 0], line_dash=\"4 4\", line_width=2, color='red')\n",
    "show(p)"
   ]
  },
  {
   "cell_type": "markdown",
   "metadata": {},
   "source": [
    "## Pipeline"
   ]
  },
  {
   "cell_type": "markdown",
   "metadata": {},
   "source": [
    "The best to deliver the model by pipeline the operation then at deployment can be done in one model."
   ]
  },
  {
   "cell_type": "markdown",
   "metadata": {
    "collapsed": true
   },
   "source": [
    "  I used two ways to check the pipeline so any one can be fine"
   ]
  },
  {
   "cell_type": "code",
   "execution_count": 19,
   "metadata": {
    "collapsed": false
   },
   "outputs": [
    {
     "name": "stdout",
     "output_type": "stream",
     "text": [
      "0.909781843428\n",
      "Scoring according to mean_squared_error\n",
      "[-39.73769553 -27.37093372 -35.4239018  -31.72477967 -43.53091412\n",
      " -20.27249856 -45.95505253 -37.34940814 -38.27183031 -34.93888071]\n",
      "\n",
      " Mean      Standard deviation\n",
      "-35.46      7.18\n",
      "[ True  True  True  True  True  True  True  True]\n",
      "R-squared =  0.909781843428\n"
     ]
    }
   ],
   "source": [
    "# Use Pipeline\n",
    "# ANOVA \n",
    "from sklearn.pipeline import Pipeline\n",
    "from sklearn.feature_selection import SelectKBest, f_regression\n",
    "anova_filter = SelectKBest(f_regression, k=8)\n",
    "LR = model\n",
    "\n",
    "anova_LinReg = Pipeline([ ('anova', anova_filter), ('LinReg', LR)])\n",
    "# You can set the parameters using the names issued\n",
    "# For instance, fit using a k of 10 in the SelectKBest\n",
    "anova_LinReg.set_params(anova__k=8).fit(new_data, Y)\n",
    "prediction = anova_LinReg.predict(new_data)\n",
    "print anova_LinReg.score(new_data, Y)                        \n",
    "# getting the selected features chosen by anova_filter\n",
    "results = cross_validation.cross_val_score(anova_LinReg, new_data, Y, cv=kfold, scoring=scoring)\n",
    "print 'Scoring according to mean_squared_error'\n",
    "print results\n",
    "print '\\n Mean      Standard deviation'\n",
    "print(\"%.2f      %.2f\" % (results.mean(), results.std()))\n",
    "print anova_LinReg.named_steps['anova'].get_support()\n",
    "r_squared = r2_score(Y, prediction, multioutput='variance_weighted')\n",
    "print 'R-squared = ',r_squared"
   ]
  },
  {
   "cell_type": "code",
   "execution_count": 20,
   "metadata": {
    "collapsed": false
   },
   "outputs": [
    {
     "name": "stdout",
     "output_type": "stream",
     "text": [
      "R-squared =  0.909781843428\n"
     ]
    }
   ],
   "source": [
    "# Using make_pipeline\n",
    "from sklearn.pipeline import make_pipeline\n",
    "\n",
    "# ANOVA SVM-C\n",
    "# 1) anova filter, take 3 best ranked features\n",
    "anova_filter = SelectKBest(f_regression, k=8)\n",
    "anova_Xgboost_NotProcessing = make_pipeline( anova_filter, LR)\n",
    "anova_Xgboost_NotProcessing.fit(new_data, Y)\n",
    "prediction = anova_Xgboost_NotProcessing.predict(new_data)\n",
    "r_squared = r2_score(Y, prediction, multioutput='variance_weighted')\n",
    "print 'R-squared = ',r_squared"
   ]
  },
  {
   "cell_type": "markdown",
   "metadata": {},
   "source": [
    "### Save the Pipeline model for developement"
   ]
  },
  {
   "cell_type": "code",
   "execution_count": 21,
   "metadata": {
    "collapsed": false
   },
   "outputs": [
    {
     "data": {
      "text/plain": [
       "['anova_Xgboost_NotProcessing.pkl',\n",
       " 'anova_Xgboost_NotProcessing.pkl_01.npy',\n",
       " 'anova_Xgboost_NotProcessing.pkl_02.npy']"
      ]
     },
     "execution_count": 21,
     "metadata": {},
     "output_type": "execute_result"
    }
   ],
   "source": [
    "# save the model scaler to the desk\n",
    "from sklearn.externals import joblib\n",
    "joblib.dump(anova_Xgboost_NotProcessing, 'anova_Xgboost_NotProcessing.pkl') "
   ]
  },
  {
   "cell_type": "code",
   "execution_count": 22,
   "metadata": {
    "collapsed": false
   },
   "outputs": [
    {
     "name": "stdout",
     "output_type": "stream",
     "text": [
      " =================================================================>>>>> done\n",
      "R-squared =  0.909781843428\n"
     ]
    }
   ],
   "source": [
    "# Test the model if it is work\n",
    "anova_DecisionTreeRegressorTest = joblib.load('anova_Xgboost_NotProcessing.pkl')\n",
    "NewPred = anova_DecisionTreeRegressorTest.predict(new_data)\n",
    "print \" =================================================================>>>>> done\"\n",
    "r_squared = r2_score(Y, NewPred, multioutput='variance_weighted')\n",
    "print 'R-squared = ',r_squared"
   ]
  },
  {
   "cell_type": "code",
   "execution_count": 23,
   "metadata": {
    "collapsed": false
   },
   "outputs": [
    {
     "name": "stdout",
     "output_type": "stream",
     "text": [
      "Point of training data before normalization\n",
      "[ 389.9  189.     0.   145.9   22.   944.7  755.8   91. ]\n",
      "\n",
      "The read target of the data =  82.5992248\n",
      "\n",
      "The Predicted target of the data =  [ 78.95090485]\n"
     ]
    }
   ],
   "source": [
    "# test on single data point, randomly choose point number 55\n",
    "print 'Point of training data before normalization\\n',new_data[55]\n",
    "print '\\nThe read target of the data = ', Y[55]\n",
    "NewPred = anova_DecisionTreeRegressorTest.predict([new_data[55]])\n",
    "print '\\nThe Predicted target of the data = ', NewPred"
   ]
  },
  {
   "cell_type": "markdown",
   "metadata": {},
   "source": [
    "## Conclusion "
   ]
  }
 ],
 "metadata": {
  "kernelspec": {
   "display_name": "Python 2",
   "language": "python",
   "name": "python2"
  },
  "language_info": {
   "codemirror_mode": {
    "name": "ipython",
    "version": 2
   },
   "file_extension": ".py",
   "mimetype": "text/x-python",
   "name": "python",
   "nbconvert_exporter": "python",
   "pygments_lexer": "ipython2",
   "version": "2.7.12"
  }
 },
 "nbformat": 4,
 "nbformat_minor": 0
}
