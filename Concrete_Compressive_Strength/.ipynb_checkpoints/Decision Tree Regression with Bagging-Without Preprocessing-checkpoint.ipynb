{
 "cells": [
  {
   "cell_type": "markdown",
   "metadata": {},
   "source": [
    "Salem Ameen, PhD student at Salford University\n",
    "\n",
    "### Concrete Compressive Strength Data Set\n",
    "\n",
    "Decision trees Regression"
   ]
  },
  {
   "cell_type": "markdown",
   "metadata": {},
   "source": [
    "# Import the Libraries"
   ]
  },
  {
   "cell_type": "code",
   "execution_count": 1,
   "metadata": {
    "collapsed": false
   },
   "outputs": [
    {
     "data": {
      "text/html": [
       "\n",
       "    <div class=\"bk-root\">\n",
       "        <a href=\"http://bokeh.pydata.org\" target=\"_blank\" class=\"bk-logo bk-logo-small bk-logo-notebook\"></a>\n",
       "        <span id=\"8f56605d-67c1-48f8-9d29-85b78a354aa0\">Loading BokehJS ...</span>\n",
       "    </div>"
      ]
     },
     "metadata": {},
     "output_type": "display_data"
    },
    {
     "data": {
      "application/javascript": [
       "\n",
       "(function(global) {\n",
       "  function now() {\n",
       "    return new Date();\n",
       "  }\n",
       "\n",
       "  var force = \"1\";\n",
       "\n",
       "  if (typeof (window._bokeh_onload_callbacks) === \"undefined\" || force !== \"\") {\n",
       "    window._bokeh_onload_callbacks = [];\n",
       "    window._bokeh_is_loading = undefined;\n",
       "  }\n",
       "\n",
       "\n",
       "  \n",
       "  if (typeof (window._bokeh_timeout) === \"undefined\" || force !== \"\") {\n",
       "    window._bokeh_timeout = Date.now() + 5000;\n",
       "    window._bokeh_failed_load = false;\n",
       "  }\n",
       "\n",
       "  var NB_LOAD_WARNING = {'data': {'text/html':\n",
       "     \"<div style='background-color: #fdd'>\\n\"+\n",
       "     \"<p>\\n\"+\n",
       "     \"BokehJS does not appear to have successfully loaded. If loading BokehJS from CDN, this \\n\"+\n",
       "     \"may be due to a slow or bad network connection. Possible fixes:\\n\"+\n",
       "     \"</p>\\n\"+\n",
       "     \"<ul>\\n\"+\n",
       "     \"<li>re-rerun `output_notebook()` to attempt to load from CDN again, or</li>\\n\"+\n",
       "     \"<li>use INLINE resources instead, as so:</li>\\n\"+\n",
       "     \"</ul>\\n\"+\n",
       "     \"<code>\\n\"+\n",
       "     \"from bokeh.resources import INLINE\\n\"+\n",
       "     \"output_notebook(resources=INLINE)\\n\"+\n",
       "     \"</code>\\n\"+\n",
       "     \"</div>\"}};\n",
       "\n",
       "  function display_loaded() {\n",
       "    if (window.Bokeh !== undefined) {\n",
       "      Bokeh.$(\"#8f56605d-67c1-48f8-9d29-85b78a354aa0\").text(\"BokehJS successfully loaded.\");\n",
       "    } else if (Date.now() < window._bokeh_timeout) {\n",
       "      setTimeout(display_loaded, 100)\n",
       "    }\n",
       "  }\n",
       "\n",
       "  function run_callbacks() {\n",
       "    window._bokeh_onload_callbacks.forEach(function(callback) { callback() });\n",
       "    delete window._bokeh_onload_callbacks\n",
       "    console.info(\"Bokeh: all callbacks have finished\");\n",
       "  }\n",
       "\n",
       "  function load_libs(js_urls, callback) {\n",
       "    window._bokeh_onload_callbacks.push(callback);\n",
       "    if (window._bokeh_is_loading > 0) {\n",
       "      console.log(\"Bokeh: BokehJS is being loaded, scheduling callback at\", now());\n",
       "      return null;\n",
       "    }\n",
       "    if (js_urls == null || js_urls.length === 0) {\n",
       "      run_callbacks();\n",
       "      return null;\n",
       "    }\n",
       "    console.log(\"Bokeh: BokehJS not loaded, scheduling load and callback at\", now());\n",
       "    window._bokeh_is_loading = js_urls.length;\n",
       "    for (var i = 0; i < js_urls.length; i++) {\n",
       "      var url = js_urls[i];\n",
       "      var s = document.createElement('script');\n",
       "      s.src = url;\n",
       "      s.async = false;\n",
       "      s.onreadystatechange = s.onload = function() {\n",
       "        window._bokeh_is_loading--;\n",
       "        if (window._bokeh_is_loading === 0) {\n",
       "          console.log(\"Bokeh: all BokehJS libraries loaded\");\n",
       "          run_callbacks()\n",
       "        }\n",
       "      };\n",
       "      s.onerror = function() {\n",
       "        console.warn(\"failed to load library \" + url);\n",
       "      };\n",
       "      console.log(\"Bokeh: injecting script tag for BokehJS library: \", url);\n",
       "      document.getElementsByTagName(\"head\")[0].appendChild(s);\n",
       "    }\n",
       "  };var element = document.getElementById(\"8f56605d-67c1-48f8-9d29-85b78a354aa0\");\n",
       "  if (element == null) {\n",
       "    console.log(\"Bokeh: ERROR: autoload.js configured with elementid '8f56605d-67c1-48f8-9d29-85b78a354aa0' but no matching script tag was found. \")\n",
       "    return false;\n",
       "  }\n",
       "\n",
       "  var js_urls = ['https://cdn.pydata.org/bokeh/release/bokeh-0.12.2.min.js', 'https://cdn.pydata.org/bokeh/release/bokeh-widgets-0.12.2.min.js', 'https://cdn.pydata.org/bokeh/release/bokeh-compiler-0.12.2.min.js'];\n",
       "\n",
       "  var inline_js = [\n",
       "    function(Bokeh) {\n",
       "      Bokeh.set_log_level(\"info\");\n",
       "    },\n",
       "    \n",
       "    function(Bokeh) {\n",
       "      \n",
       "      Bokeh.$(\"#8f56605d-67c1-48f8-9d29-85b78a354aa0\").text(\"BokehJS is loading...\");\n",
       "    },\n",
       "    function(Bokeh) {\n",
       "      console.log(\"Bokeh: injecting CSS: https://cdn.pydata.org/bokeh/release/bokeh-0.12.2.min.css\");\n",
       "      Bokeh.embed.inject_css(\"https://cdn.pydata.org/bokeh/release/bokeh-0.12.2.min.css\");\n",
       "      console.log(\"Bokeh: injecting CSS: https://cdn.pydata.org/bokeh/release/bokeh-widgets-0.12.2.min.css\");\n",
       "      Bokeh.embed.inject_css(\"https://cdn.pydata.org/bokeh/release/bokeh-widgets-0.12.2.min.css\");\n",
       "    }\n",
       "  ];\n",
       "\n",
       "  function run_inline_js() {\n",
       "    \n",
       "    if ((window.Bokeh !== undefined) || (force === \"1\")) {\n",
       "      for (var i = 0; i < inline_js.length; i++) {\n",
       "        inline_js[i](window.Bokeh);\n",
       "      }if (force === \"1\") {\n",
       "        display_loaded();\n",
       "      }} else if (Date.now() < window._bokeh_timeout) {\n",
       "      setTimeout(run_inline_js, 100);\n",
       "    } else if (!window._bokeh_failed_load) {\n",
       "      console.log(\"Bokeh: BokehJS failed to load within specified timeout.\");\n",
       "      window._bokeh_failed_load = true;\n",
       "    } else if (!force) {\n",
       "      var cell = $(\"#8f56605d-67c1-48f8-9d29-85b78a354aa0\").parents('.cell').data().cell;\n",
       "      cell.output_area.append_execute_result(NB_LOAD_WARNING)\n",
       "    }\n",
       "\n",
       "  }\n",
       "\n",
       "  if (window._bokeh_is_loading === 0) {\n",
       "    console.log(\"Bokeh: BokehJS loaded, going straight to plotting\");\n",
       "    run_inline_js();\n",
       "  } else {\n",
       "    load_libs(js_urls, function() {\n",
       "      console.log(\"Bokeh: BokehJS plotting callback run at\", now());\n",
       "      run_inline_js();\n",
       "    });\n",
       "  }\n",
       "}(this));"
      ]
     },
     "metadata": {},
     "output_type": "display_data"
    }
   ],
   "source": [
    "import numpy as np\n",
    "import pandas\n",
    "from numpy import *\n",
    "import time\n",
    "import sys\n",
    "import pandas as pd\n",
    "import matplotlib.pyplot as plt\n",
    "from sklearn import feature_selection\n",
    "from sklearn.tree import DecisionTreeRegressor\n",
    "from sklearn.learning_curve import learning_curve, validation_curve\n",
    "from sklearn.cross_validation import cross_val_predict\n",
    "from sklearn import metrics, grid_search, cross_validation\n",
    "from IPython.display import set_matplotlib_formats\n",
    "from bokeh.plotting import figure, show, output_notebook\n",
    "from sklearn.grid_search import GridSearchCV, RandomizedSearchCV\n",
    "from sklearn.metrics import r2_score\n",
    "from bokeh.layouts import gridplot\n",
    "output_notebook()\n",
    "set_matplotlib_formats('png', 'pdf')\n",
    "%matplotlib inline\n",
    "plt.rcParams['figure.figsize'] = (6, 6)"
   ]
  },
  {
   "cell_type": "markdown",
   "metadata": {},
   "source": [
    "# Load data"
   ]
  },
  {
   "cell_type": "markdown",
   "metadata": {},
   "source": [
    "In the previous file we have not change the data as there is no missing value or add any new parameters so it can be downloaded from the web directly. "
   ]
  },
  {
   "cell_type": "code",
   "execution_count": 2,
   "metadata": {
    "collapsed": false
   },
   "outputs": [
    {
     "name": "stdout",
     "output_type": "stream",
     "text": [
      "Number of examples 209\n"
     ]
    }
   ],
   "source": [
    "names = ['Cement','BlastFurnace','Fly_Ash','Water','Superplasticizer','CoarseAggregate','Aggregate','day','Concrete']\n",
    "feature_names = names\n",
    "feature_cols = names\n",
    "\n",
    "data = pd.read_excel('Concrete_Data.xls', sep='%s')\n",
    "\n",
    "from sklearn import preprocessing\n",
    "\n",
    "def number_encode_features(df):\n",
    "    result = df.copy()\n",
    "    encoders = {}\n",
    "    for column in result.columns:\n",
    "        if result.dtypes[column] == np.object:\n",
    "            encoders[column] = preprocessing.LabelEncoder()\n",
    "            result[column] = encoders[column].fit_transform(result[column])\n",
    "    return result, encoders\n",
    "\n",
    "data, _ = number_encode_features(data)\n",
    "\n",
    "dataset = data.values\n",
    "X = dataset[:,0:8]\n",
    "Y = dataset[:,8]\n",
    "print 'Number of examples',len(X)"
   ]
  },
  {
   "cell_type": "code",
   "execution_count": 3,
   "metadata": {
    "collapsed": false
   },
   "outputs": [
    {
     "name": "stdout",
     "output_type": "stream",
     "text": [
      "Number of training examples 167\n",
      "Number of validation examples 42\n"
     ]
    }
   ],
   "source": [
    "# Make developement dataset for genrilization and final testing\n",
    "from sklearn.cross_validation import train_test_split\n",
    "# Extracting 20% testing data\n",
    "X_train, X_test, y_train, y_test = train_test_split(\n",
    "    X, Y, test_size=0.20, random_state=0)\n",
    "X = X_train\n",
    "Y = y_train\n",
    "new_data      = X_train\n",
    "new_test_data = X_test\n",
    "print 'Number of training examples',len(X_train)\n",
    "print 'Number of validation examples',len(X_test)"
   ]
  },
  {
   "cell_type": "markdown",
   "metadata": {},
   "source": [
    "Number of training data is very small so we need to use cross validation instead of spareate another validation data."
   ]
  },
  {
   "cell_type": "markdown",
   "metadata": {},
   "source": [
    "From the previous visulization the data has no missing value but has many outlier and some sparisty"
   ]
  },
  {
   "cell_type": "markdown",
   "metadata": {},
   "source": [
    "# Ranking of the feature's importance to the target"
   ]
  },
  {
   "cell_type": "code",
   "execution_count": 4,
   "metadata": {
    "collapsed": false
   },
   "outputs": [
    {
     "name": "stdout",
     "output_type": "stream",
     "text": [
      "MYCT \t0.790172717739\n",
      "MMIN \t0.696943738275\n",
      "MMAX \t0.915780146338\n",
      "CACH \t0.64822709538\n",
      "CHMIN \t0.61750680672\n",
      "CHMAX \t0.533228200731\n",
      "PRP \t0.992114126713\n",
      "ERP \t1.0\n"
     ]
    }
   ],
   "source": [
    "# Using just correlation coefficient even in prevoius file we show them using data frame\n",
    "for col in feature_cols:\n",
    "    lm = DecisionTreeRegressor()\n",
    "    lm.fit(data[[col]], data['Concrete'])\n",
    "    print col,'\\t', lm.score(data[[col]], data['Concrete'])"
   ]
  },
  {
   "cell_type": "code",
   "execution_count": 5,
   "metadata": {
    "collapsed": false
   },
   "outputs": [
    {
     "name": "stdout",
     "output_type": "stream",
     "text": [
      "Feature Name      Score         Pvalue\n",
      "MYCT \t\t18.7784506906 \t2.28953652773e-05\n",
      "MMIN \t\t422.636024187 \t6.7010130085e-52\n",
      "MMAX \t\t895.035239011 \t4.20559221576e-77\n",
      "CACH \t\t150.332889484 \t2.4462451136e-26\n",
      "CHMIN \t\t123.042583867 \t9.66488661491e-23\n",
      "CHMAX \t\t111.779441433 \t3.62169179267e-21\n",
      "PRP \t\t2932.57297327 \t3.42704839853e-124\n",
      "ERP \t\tinf \t0.0\n"
     ]
    }
   ],
   "source": [
    "# Randing the important features to the target\n",
    "model = feature_selection.SelectKBest(score_func=feature_selection.f_regression,k=4)\n",
    "results = model.fit(data[feature_cols], data['Concrete'])\n",
    "k=0\n",
    "print 'Feature Name      Score         Pvalue'\n",
    "for feat in feature_cols:\n",
    "    print feat,'\\t\\t',results.scores_[k],'\\t',results.pvalues_[k]\n",
    "    k=k+1\n"
   ]
  },
  {
   "cell_type": "markdown",
   "metadata": {},
   "source": [
    "# Set the parameters for cross validation"
   ]
  },
  {
   "cell_type": "code",
   "execution_count": 6,
   "metadata": {
    "collapsed": true
   },
   "outputs": [],
   "source": [
    "num_folds = 10\n",
    "num_instances = len(X)\n",
    "seed = 7\n",
    "kfold = cross_validation.KFold(n=num_instances, n_folds=num_folds, random_state=seed)"
   ]
  },
  {
   "cell_type": "markdown",
   "metadata": {},
   "source": [
    " # Set the parameters for bias-variance dilemma"
   ]
  },
  {
   "cell_type": "code",
   "execution_count": 7,
   "metadata": {
    "collapsed": false
   },
   "outputs": [],
   "source": [
    "def plot_learning_curve(estimator, title, X, y, ylim=None, cv=None,\n",
    "                        n_jobs=1, train_sizes=np.linspace(.1, 1.0, 5)):\n",
    "    plt.figure()\n",
    "    plt.title(title)\n",
    "    if ylim is not None:\n",
    "        plt.ylim(*ylim)\n",
    "    plt.xlabel(\"Training examples\")\n",
    "    plt.ylabel(\"Score\")\n",
    "    train_sizes, train_scores, test_scores = learning_curve(\n",
    "        estimator, X, y, cv=cv, n_jobs=n_jobs, train_sizes=train_sizes)\n",
    "    train_scores_mean = np.mean(train_scores, axis=1)\n",
    "    train_scores_std = np.std(train_scores, axis=1)\n",
    "    test_scores_mean = np.mean(test_scores, axis=1)\n",
    "    test_scores_std = np.std(test_scores, axis=1)\n",
    "    plt.grid()\n",
    "\n",
    "    plt.fill_between(train_sizes, train_scores_mean - train_scores_std,\n",
    "                     train_scores_mean + train_scores_std, alpha=0.1,\n",
    "                     color=\"r\")\n",
    "    plt.fill_between(train_sizes, test_scores_mean - test_scores_std,\n",
    "                     test_scores_mean + test_scores_std, alpha=0.1, color=\"g\")\n",
    "    plt.plot(train_sizes, train_scores_mean, 'o-', color=\"r\",\n",
    "             label=\"Training score\")\n",
    "    plt.plot(train_sizes, test_scores_mean, 'o-', color=\"g\",\n",
    "             label=\"Cross-validation score\")\n",
    "\n",
    "    plt.legend(loc=\"best\")\n",
    "    return plt"
   ]
  },
  {
   "cell_type": "markdown",
   "metadata": {},
   "source": [
    "# 1. DecisionTreeRegressor  with Bagging Regression"
   ]
  },
  {
   "cell_type": "markdown",
   "metadata": {},
   "source": [
    "Decision trees or the Classification and Regression Trees (CART as they are know) use the training data to select the best points to split the data in order to minimize a cost metric. The default cost metric for regression decision trees is the mean squared error, specified in the criterion parameter."
   ]
  },
  {
   "cell_type": "markdown",
   "metadata": {},
   "source": [
    "## Validation curve"
   ]
  },
  {
   "cell_type": "markdown",
   "metadata": {},
   "source": [
    "choosing multiple hyperparameters of an estimator "
   ]
  },
  {
   "cell_type": "code",
   "execution_count": 8,
   "metadata": {
    "collapsed": false
   },
   "outputs": [
    {
     "data": {
      "text/plain": [
       "['presort',\n",
       " 'splitter',\n",
       " 'max_leaf_nodes',\n",
       " 'min_samples_leaf',\n",
       " 'min_samples_split',\n",
       " 'min_weight_fraction_leaf',\n",
       " 'criterion',\n",
       " 'random_state',\n",
       " 'max_features',\n",
       " 'max_depth']"
      ]
     },
     "execution_count": 8,
     "metadata": {},
     "output_type": "execute_result"
    }
   ],
   "source": [
    "from sklearn.tree import DecisionTreeRegressor\n",
    "estimator = DecisionTreeRegressor()\n",
    "estimator.get_params().keys()"
   ]
  },
  {
   "cell_type": "code",
   "execution_count": 9,
   "metadata": {
    "collapsed": false
   },
   "outputs": [
    {
     "data": {
      "text/plain": [
       "['warm_start',\n",
       " 'max_samples',\n",
       " 'base_estimator__min_samples_split',\n",
       " 'base_estimator__max_depth',\n",
       " 'verbose',\n",
       " 'random_state',\n",
       " 'bootstrap',\n",
       " 'base_estimator',\n",
       " 'base_estimator__criterion',\n",
       " 'base_estimator__max_features',\n",
       " 'base_estimator__random_state',\n",
       " 'n_estimators',\n",
       " 'base_estimator__min_weight_fraction_leaf',\n",
       " 'n_jobs',\n",
       " 'bootstrap_features',\n",
       " 'oob_score',\n",
       " 'base_estimator__splitter',\n",
       " 'max_features',\n",
       " 'base_estimator__max_leaf_nodes',\n",
       " 'base_estimator__min_samples_leaf',\n",
       " 'base_estimator__presort']"
      ]
     },
     "execution_count": 9,
     "metadata": {},
     "output_type": "execute_result"
    }
   ],
   "source": [
    "from sklearn.tree import DecisionTreeRegressor\n",
    "from sklearn.ensemble import BaggingRegressor\n",
    "estimator = BaggingRegressor(DecisionTreeRegressor())\n",
    "estimator.get_params().keys()"
   ]
  },
  {
   "cell_type": "code",
   "execution_count": 10,
   "metadata": {
    "collapsed": false
   },
   "outputs": [
    {
     "data": {
      "image/png": "[encoded data removed]",
      "text/plain": [
       "<matplotlib.figure.Figure at 0x7ff5cfe58290>"
      ]
     },
     "metadata": {},
     "output_type": "display_data"
    }
   ],
   "source": [
    "# For parametr alpha\n",
    "#param_range = np.logspace(-10.0, 10.0)\n",
    "#param_range = np.linspace(1,50,100)\n",
    "param_range = np.arange(1,50) # generate integer numbers\n",
    "\n",
    "train_scores, test_scores = validation_curve(\n",
    "    DecisionTreeRegressor(), X, Y, param_name=\"max_depth\", param_range=param_range,\n",
    "    cv=num_folds,  n_jobs=-1)\n",
    "train_scores_mean = np.mean(train_scores, axis=1)\n",
    "train_scores_std = np.std(train_scores, axis=1)\n",
    "test_scores_mean = np.mean(test_scores, axis=1)\n",
    "test_scores_std = np.std(test_scores, axis=1)\n",
    "\n",
    "plt.title(\"Validation Curve with DecisionTreeRegressor\")\n",
    "plt.xlabel(\"max_depth\")\n",
    "plt.ylabel(\"Score\")\n",
    "plt.ylim(0.4, 1.0)\n",
    "plt.plot(param_range, train_scores_mean, label=\"Training score\", color=\"r\")\n",
    "plt.fill_between(param_range, train_scores_mean - train_scores_std,\n",
    "                 train_scores_mean + train_scores_std, alpha=0.2, color=\"r\")\n",
    "plt.plot(param_range, test_scores_mean, label=\"Cross-validation score\",\n",
    "             color=\"g\")\n",
    "plt.fill_between(param_range, test_scores_mean - test_scores_std,\n",
    "                 test_scores_mean + test_scores_std, alpha=0.2, color=\"g\")\n",
    "plt.legend(loc=\"best\")\n",
    "plt.show()"
   ]
  },
  {
   "cell_type": "markdown",
   "metadata": {},
   "source": [
    "more that 5 is the best of number of K"
   ]
  },
  {
   "cell_type": "code",
   "execution_count": 11,
   "metadata": {
    "collapsed": false
   },
   "outputs": [
    {
     "data": {
      "image/png": "[encoded data removed]",
      "text/plain": [
       "<matplotlib.figure.Figure at 0x7ff5ce513350>"
      ]
     },
     "metadata": {},
     "output_type": "display_data"
    }
   ],
   "source": [
    "# For parametr alpha\n",
    "#param_range = np.logspace(-10.0, 10.0)\n",
    "#param_range = np.linspace(1,50,100)\n",
    "param_range = np.arange(1,10) # generate integer numbers\n",
    "\n",
    "train_scores, test_scores = validation_curve(\n",
    "    DecisionTreeRegressor(), X, Y, param_name=\"min_samples_split\", param_range=param_range,\n",
    "    cv=num_folds,  n_jobs=-1)\n",
    "train_scores_mean = np.mean(train_scores, axis=1)\n",
    "train_scores_std = np.std(train_scores, axis=1)\n",
    "test_scores_mean = np.mean(test_scores, axis=1)\n",
    "test_scores_std = np.std(test_scores, axis=1)\n",
    "\n",
    "plt.title(\"Validation Curve with DecisionTreeRegressor\")\n",
    "plt.xlabel(\"min_samples_split\")\n",
    "plt.ylabel(\"Score\")\n",
    "plt.ylim(0.4, 1.0)\n",
    "plt.plot(param_range, train_scores_mean, label=\"Training score\", color=\"r\")\n",
    "plt.fill_between(param_range, train_scores_mean - train_scores_std,\n",
    "                 train_scores_mean + train_scores_std, alpha=0.2, color=\"r\")\n",
    "plt.plot(param_range, test_scores_mean, label=\"Cross-validation score\",\n",
    "             color=\"g\")\n",
    "plt.fill_between(param_range, test_scores_mean - test_scores_std,\n",
    "                 test_scores_mean + test_scores_std, alpha=0.2, color=\"g\")\n",
    "plt.legend(loc=\"best\")\n",
    "plt.show()"
   ]
  },
  {
   "cell_type": "markdown",
   "metadata": {},
   "source": [
    "min_samples_split =2 (The defualt) is the best"
   ]
  },
  {
   "cell_type": "code",
   "execution_count": 12,
   "metadata": {
    "collapsed": false
   },
   "outputs": [
    {
     "data": {
      "image/png": "[encoded data removed]",
      "text/plain": [
       "<matplotlib.figure.Figure at 0x7ff5ce562990>"
      ]
     },
     "metadata": {},
     "output_type": "display_data"
    }
   ],
   "source": [
    "# For parametr alpha\n",
    "#param_range = np.logspace(-10.0, 10.0)\n",
    "#param_range = np.linspace(1,50,100)\n",
    "param_range = np.arange(1,10) # generate integer numbers\n",
    "\n",
    "train_scores, test_scores = validation_curve(\n",
    "    DecisionTreeRegressor(), X, Y, param_name=\"min_samples_leaf\", param_range=param_range,\n",
    "    cv=num_folds,  n_jobs=-1)\n",
    "train_scores_mean = np.mean(train_scores, axis=1)\n",
    "train_scores_std = np.std(train_scores, axis=1)\n",
    "test_scores_mean = np.mean(test_scores, axis=1)\n",
    "test_scores_std = np.std(test_scores, axis=1)\n",
    "\n",
    "plt.title(\"Validation Curve with DecisionTreeRegressor\")\n",
    "plt.xlabel(\"min_samples_leaf\")\n",
    "plt.ylabel(\"Score\")\n",
    "plt.ylim(0.4, 1.0)\n",
    "plt.plot(param_range, train_scores_mean, label=\"Training score\", color=\"r\")\n",
    "plt.fill_between(param_range, train_scores_mean - train_scores_std,\n",
    "                 train_scores_mean + train_scores_std, alpha=0.2, color=\"r\")\n",
    "plt.plot(param_range, test_scores_mean, label=\"Cross-validation score\",\n",
    "             color=\"g\")\n",
    "plt.fill_between(param_range, test_scores_mean - test_scores_std,\n",
    "                 test_scores_mean + test_scores_std, alpha=0.2, color=\"g\")\n",
    "plt.legend(loc=\"best\")\n",
    "plt.show()"
   ]
  },
  {
   "cell_type": "markdown",
   "metadata": {},
   "source": [
    "min_samples_leaf = 2 is the best"
   ]
  },
  {
   "cell_type": "markdown",
   "metadata": {},
   "source": [
    "## Grid search and/or Random search to determine best compination of parameters"
   ]
  },
  {
   "cell_type": "code",
   "execution_count": 13,
   "metadata": {
    "collapsed": false
   },
   "outputs": [
    {
     "name": "stdout",
     "output_type": "stream",
     "text": [
      "Hyperparameter optimization using GridSearchCV...\n",
      "Parameters with rank: 1\n",
      "Mean validation score: 0.9597 (std: 0.0223)\n",
      "Parameters: {'n_estimators': 6, 'bootstrap': False}\n",
      "\n",
      "Parameters with rank: 2\n",
      "Mean validation score: 0.9557 (std: 0.0290)\n",
      "Parameters: {'n_estimators': 7, 'bootstrap': False}\n",
      "\n",
      "Parameters with rank: 3\n",
      "Mean validation score: 0.9542 (std: 0.0392)\n",
      "Parameters: {'n_estimators': 5, 'bootstrap': False}\n",
      "\n",
      "Parameters with rank: 4\n",
      "Mean validation score: 0.9519 (std: 0.0343)\n",
      "Parameters: {'n_estimators': 9, 'bootstrap': False}\n",
      "\n",
      "Parameters with rank: 5\n",
      "Mean validation score: 0.9477 (std: 0.0359)\n",
      "Parameters: {'n_estimators': 6, 'bootstrap': True}\n",
      "\n",
      "+++++++++++++++++++++++++++++++++++++++++++++++\n",
      "Hyperparameter optimization using RandomizedSearchCV\n",
      "Parameters with rank: 1\n",
      "Mean validation score: 0.9480 (std: 0.0426)\n",
      "Parameters: {'n_estimators': 10, 'bootstrap': True}\n",
      "\n",
      "Parameters with rank: 2\n",
      "Mean validation score: 0.9338 (std: 0.0668)\n",
      "Parameters: {'n_estimators': 5, 'bootstrap': False}\n",
      "\n"
     ]
    }
   ],
   "source": [
    "# Utility function to report optimal parameters\n",
    "from operator import itemgetter\n",
    "def report(grid_scores, n_top=5):\n",
    "    params = None\n",
    "    top_scores = sorted(grid_scores, key=itemgetter(1), reverse=True)[:n_top]\n",
    "    for i, score in enumerate(top_scores):\n",
    "        print(\"Parameters with rank: {0}\".format(i + 1))\n",
    "        print(\"Mean validation score: {0:.4f} (std: {1:.4f})\".format(\n",
    "              score.mean_validation_score, np.std(score.cv_validation_scores)))\n",
    "        print(\"Parameters: {0}\".format(score.parameters))\n",
    "        print(\"\")\n",
    "        \n",
    "        if params == None:\n",
    "            params = score.parameters\n",
    "    \n",
    "    return params\n",
    "\n",
    "# The most common value for the max number of features to look at in each split is sqrt(# of features)\n",
    "sqrtfeat = np.sqrt(X.shape[1]) \n",
    "grid_test1 = { \"n_estimators\"      : np.arange(1,10),\n",
    "             \"bootstrap\"      : [ True, False]}\n",
    "\n",
    "# Large randomized test using max_depth to control tree size (5000 possible combinations)\n",
    "random_test1 = { \"n_estimators\"      : [1,5,10,15,20,25],\n",
    "                \"bootstrap\"      : [ True, False]}\n",
    "\n",
    "\n",
    "forest = BaggingRegressor()\n",
    "\n",
    "print \"Hyperparameter optimization using GridSearchCV...\"\n",
    "grid_search = GridSearchCV(forest, grid_test1, n_jobs=-1, cv=num_folds)\n",
    "grid_search.fit(X, Y)\n",
    "best_params_from_grid_search = report(grid_search.grid_scores_)\n",
    "print '+++++++++++++++++++++++++++++++++++++++++++++++'\n",
    "print \"Hyperparameter optimization using RandomizedSearchCV\"\n",
    "grid_search = RandomizedSearchCV(forest, random_test1, n_jobs=-1, cv=num_folds, n_iter=2)\n",
    "grid_search.fit(X, Y)\n",
    "best_params_from_rand_search1 = report(grid_search.grid_scores_)"
   ]
  },
  {
   "cell_type": "markdown",
   "metadata": {},
   "source": [
    "Best Parameters: {'n_estimators': 5, 'bootstrap': True}\n"
   ]
  },
  {
   "cell_type": "markdown",
   "metadata": {},
   "source": [
    "## Learning Curve "
   ]
  },
  {
   "cell_type": "markdown",
   "metadata": {},
   "source": [
    "In essence, what we’re doing it training the exact same model with increasingly large fractions of our total training data, and plotting the error of the training and test sets at each step."
   ]
  },
  {
   "cell_type": "code",
   "execution_count": 14,
   "metadata": {
    "collapsed": false
   },
   "outputs": [
    {
     "data": {
      "image/png": "[encoded data removed]",
      "text/plain": [
       "<matplotlib.figure.Figure at 0x7ff5ce591f10>"
      ]
     },
     "metadata": {},
     "output_type": "display_data"
    }
   ],
   "source": [
    "from sklearn.tree import DecisionTreeRegressor\n",
    "\n",
    "model = BaggingRegressor(n_estimators = 5 )\n",
    "title = \"Learning Curves (Bagging DecisionTreeRegressor Refression)\"\n",
    "cv = cross_validation.ShuffleSplit(X.shape[0], n_iter=100,\n",
    "                                   test_size=0.2, random_state=0)\n",
    "plot_learning_curve(model, title, X, Y, ylim=(0.2, 1.01), cv=cv, n_jobs=-1)\n",
    "plt.show()"
   ]
  },
  {
   "cell_type": "code",
   "execution_count": 15,
   "metadata": {
    "collapsed": false
   },
   "outputs": [
    {
     "name": "stdout",
     "output_type": "stream",
     "text": [
      "train_sizes =  [ 50  80 110]\n",
      " training scores\n",
      " 50 training sizees\n",
      "0.939602011217 ± 0.0562819556664\n",
      " 80 training sizees\n",
      "0.954834483926 ± 0.0461300664646\n",
      " 110 training sizees\n",
      "0.966454016626 ± 0.0348991395367\n",
      "\n",
      " validation scores\n",
      " 50 validation scores\n",
      "0.719534532134 ± 0.282710502899\n",
      " 80 validation scores\n",
      "0.855578337558 ± 0.121917324431\n",
      " 110 validation scores\n",
      "0.900230530753 ± 0.0746487172718\n"
     ]
    }
   ],
   "source": [
    "# More data from learning curve to show the process of building the model\n",
    "train_sizes, train_scores, valid_scores = learning_curve(\n",
    "     model, X, Y, train_sizes=[50, 80, 110], cv=cv, n_jobs=4)\n",
    "\n",
    "print 'train_sizes = ', train_sizes\n",
    "\n",
    "print ' training scores'\n",
    "print ' 50 training sizees'\n",
    "print train_scores[0].mean(),'±',train_scores[0].std()\n",
    "print ' 80 training sizees'\n",
    "print train_scores[1].mean(),'±',train_scores[1].std()\n",
    "print ' 110 training sizees'\n",
    "print train_scores[2].mean(),'±',train_scores[2].std()\n",
    "\n",
    "print '\\n validation scores'\n",
    "print ' 50 validation scores'\n",
    "print valid_scores[0].mean(),'±',valid_scores[0].std()\n",
    "print ' 80 validation scores'\n",
    "print valid_scores[1].mean(),'±',valid_scores[1].std()\n",
    "print ' 110 validation scores'\n",
    "print valid_scores[2].mean(),'±',valid_scores[2].std()"
   ]
  },
  {
   "cell_type": "markdown",
   "metadata": {},
   "source": [
    "## Cross validation"
   ]
  },
  {
   "cell_type": "code",
   "execution_count": 16,
   "metadata": {
    "collapsed": false
   },
   "outputs": [
    {
     "name": "stdout",
     "output_type": "stream",
     "text": [
      "Scoring according to mean_squared_error\n",
      "[  -805.24941176   -697.48235294   -252.17882353   -355.72705882\n",
      "  -1130.28705882   -489.64470588    -67.04235294   -429.5275       -727.7\n",
      " -15890.6925    ]\n",
      "\n",
      " Mean      Standard deviation\n",
      "-2084.55      4611.09\n"
     ]
    },
    {
     "data": {
      "text/plain": [
       "BaggingRegressor(base_estimator=None, bootstrap=True,\n",
       "         bootstrap_features=False, max_features=1.0, max_samples=1.0,\n",
       "         n_estimators=5, n_jobs=1, oob_score=False, random_state=None,\n",
       "         verbose=0, warm_start=False)"
      ]
     },
     "execution_count": 16,
     "metadata": {},
     "output_type": "execute_result"
    }
   ],
   "source": [
    "scoring = 'mean_squared_error'\n",
    "results = cross_validation.cross_val_score(model, X, Y, cv=kfold, scoring=scoring)\n",
    "print 'Scoring according to mean_squared_error'\n",
    "print results\n",
    "print '\\n Mean      Standard deviation'\n",
    "print(\"%.2f      %.2f\" % (results.mean(), results.std()))\n",
    "## Fit the model\n",
    "model.fit(X,Y)\n"
   ]
  },
  {
   "cell_type": "markdown",
   "metadata": {},
   "source": [
    "## Coefficients Of Determination {Calculating R^2}\n",
    "\n",
    "R^2, Close to one is better"
   ]
  },
  {
   "cell_type": "code",
   "execution_count": 17,
   "metadata": {
    "collapsed": false
   },
   "outputs": [
    {
     "name": "stdout",
     "output_type": "stream",
     "text": [
      "R-squared =  0.932120713182\n"
     ]
    }
   ],
   "source": [
    "predicted = cross_val_predict(model, X, Y, cv=kfold)\n",
    "r_squared = r2_score(Y, predicted, multioutput='variance_weighted')\n",
    "print 'R-squared = ',r_squared"
   ]
  },
  {
   "cell_type": "markdown",
   "metadata": {},
   "source": [
    "## Residual Plot"
   ]
  },
  {
   "cell_type": "code",
   "execution_count": 18,
   "metadata": {
    "collapsed": false
   },
   "outputs": [
    {
     "data": {
      "image/png": "[encoded data removed]",
      "text/plain": [
       "<matplotlib.figure.Figure at 0x7ff5d4da0e50>"
      ]
     },
     "metadata": {},
     "output_type": "display_data"
    }
   ],
   "source": [
    "predicted = cross_val_predict(model, X, Y, cv=kfold)\n",
    "fig, ax = plt.subplots()\n",
    "ax.scatter(Y, predicted)\n",
    "ax.plot([Y.min(), Y.max()], [Y.min(), Y.max()], 'k--', lw=4)\n",
    "ax.set_xlabel('Measured')\n",
    "ax.set_ylabel('Predicted')\n",
    "plt.show()"
   ]
  },
  {
   "cell_type": "code",
   "execution_count": 19,
   "metadata": {
    "collapsed": false
   },
   "outputs": [
    {
     "data": {
      "text/html": [
       "\n",
       "\n",
       "    <div class=\"bk-root\">\n",
       "        <div class=\"plotdiv\" id=\"516143f8-6a1b-4303-a2ff-43ea1dbcaad5\"></div>\n",
       "    </div>\n",
       "<script type=\"text/javascript\">\n",
       "  \n",
       "  (function(global) {\n",
       "    function now() {\n",
       "      return new Date();\n",
       "    }\n",
       "  \n",
       "    var force = \"\";\n",
       "  \n",
       "    if (typeof (window._bokeh_onload_callbacks) === \"undefined\" || force !== \"\") {\n",
       "      window._bokeh_onload_callbacks = [];\n",
       "      window._bokeh_is_loading = undefined;\n",
       "    }\n",
       "  \n",
       "  \n",
       "    \n",
       "    if (typeof (window._bokeh_timeout) === \"undefined\" || force !== \"\") {\n",
       "      window._bokeh_timeout = Date.now() + 0;\n",
       "      window._bokeh_failed_load = false;\n",
       "    }\n",
       "  \n",
       "    var NB_LOAD_WARNING = {'data': {'text/html':\n",
       "       \"<div style='background-color: #fdd'>\\n\"+\n",
       "       \"<p>\\n\"+\n",
       "       \"BokehJS does not appear to have successfully loaded. If loading BokehJS from CDN, this \\n\"+\n",
       "       \"may be due to a slow or bad network connection. Possible fixes:\\n\"+\n",
       "       \"</p>\\n\"+\n",
       "       \"<ul>\\n\"+\n",
       "       \"<li>re-rerun `output_notebook()` to attempt to load from CDN again, or</li>\\n\"+\n",
       "       \"<li>use INLINE resources instead, as so:</li>\\n\"+\n",
       "       \"</ul>\\n\"+\n",
       "       \"<code>\\n\"+\n",
       "       \"from bokeh.resources import INLINE\\n\"+\n",
       "       \"output_notebook(resources=INLINE)\\n\"+\n",
       "       \"</code>\\n\"+\n",
       "       \"</div>\"}};\n",
       "  \n",
       "    function display_loaded() {\n",
       "      if (window.Bokeh !== undefined) {\n",
       "        Bokeh.$(\"#516143f8-6a1b-4303-a2ff-43ea1dbcaad5\").text(\"BokehJS successfully loaded.\");\n",
       "      } else if (Date.now() < window._bokeh_timeout) {\n",
       "        setTimeout(display_loaded, 100)\n",
       "      }\n",
       "    }\n",
       "  \n",
       "    function run_callbacks() {\n",
       "      window._bokeh_onload_callbacks.forEach(function(callback) { callback() });\n",
       "      delete window._bokeh_onload_callbacks\n",
       "      console.info(\"Bokeh: all callbacks have finished\");\n",
       "    }\n",
       "  \n",
       "    function load_libs(js_urls, callback) {\n",
       "      window._bokeh_onload_callbacks.push(callback);\n",
       "      if (window._bokeh_is_loading > 0) {\n",
       "        console.log(\"Bokeh: BokehJS is being loaded, scheduling callback at\", now());\n",
       "        return null;\n",
       "      }\n",
       "      if (js_urls == null || js_urls.length === 0) {\n",
       "        run_callbacks();\n",
       "        return null;\n",
       "      }\n",
       "      console.log(\"Bokeh: BokehJS not loaded, scheduling load and callback at\", now());\n",
       "      window._bokeh_is_loading = js_urls.length;\n",
       "      for (var i = 0; i < js_urls.length; i++) {\n",
       "        var url = js_urls[i];\n",
       "        var s = document.createElement('script');\n",
       "        s.src = url;\n",
       "        s.async = false;\n",
       "        s.onreadystatechange = s.onload = function() {\n",
       "          window._bokeh_is_loading--;\n",
       "          if (window._bokeh_is_loading === 0) {\n",
       "            console.log(\"Bokeh: all BokehJS libraries loaded\");\n",
       "            run_callbacks()\n",
       "          }\n",
       "        };\n",
       "        s.onerror = function() {\n",
       "          console.warn(\"failed to load library \" + url);\n",
       "        };\n",
       "        console.log(\"Bokeh: injecting script tag for BokehJS library: \", url);\n",
       "        document.getElementsByTagName(\"head\")[0].appendChild(s);\n",
       "      }\n",
       "    };var element = document.getElementById(\"516143f8-6a1b-4303-a2ff-43ea1dbcaad5\");\n",
       "    if (element == null) {\n",
       "      console.log(\"Bokeh: ERROR: autoload.js configured with elementid '516143f8-6a1b-4303-a2ff-43ea1dbcaad5' but no matching script tag was found. \")\n",
       "      return false;\n",
       "    }\n",
       "  \n",
       "    var js_urls = [];\n",
       "  \n",
       "    var inline_js = [\n",
       "      function(Bokeh) {\n",
       "        Bokeh.$(function() {\n",
       "            var docs_json = {\"55050de1-3558-439e-8c50-fc4d6cc27978\":{\"roots\":{\"references\":[{\"attributes\":{\"callback\":null,\"plot\":{\"id\":\"9925ed0b-e672-4888-8e03-d7c828acf6a8\",\"subtype\":\"Figure\",\"type\":\"Plot\"}},\"id\":\"2f71a1ea-0ddc-47eb-bdce-dad2385664d0\",\"type\":\"TapTool\"},{\"attributes\":{\"plot\":{\"id\":\"9925ed0b-e672-4888-8e03-d7c828acf6a8\",\"subtype\":\"Figure\",\"type\":\"Plot\"}},\"id\":\"b14b3b64-1ae7-4ed7-8fcc-80519e915d07\",\"type\":\"UndoTool\"},{\"attributes\":{\"bottom_units\":\"screen\",\"fill_alpha\":{\"value\":0.5},\"fill_color\":{\"value\":\"lightgrey\"},\"left_units\":\"screen\",\"level\":\"overlay\",\"line_alpha\":{\"value\":1.0},\"line_color\":{\"value\":\"black\"},\"line_dash\":[4,4],\"line_width\":{\"value\":2},\"plot\":null,\"render_mode\":\"css\",\"right_units\":\"screen\",\"top_units\":\"screen\"},\"id\":\"eda54de7-8b25-4040-900f-53bae392c973\",\"type\":\"BoxAnnotation\"},{\"attributes\":{\"line_alpha\":{\"value\":0.1},\"line_color\":{\"value\":\"#1f77b4\"},\"line_dash\":[4,4],\"line_width\":{\"value\":2},\"x\":{\"field\":\"x\"},\"y\":{\"field\":\"y\"}},\"id\":\"be1dd171-2d90-44a0-998b-45ca314226d2\",\"type\":\"Line\"},{\"attributes\":{},\"id\":\"fbe3de11-ea24-418c-b58f-ef4580a79bf5\",\"type\":\"BasicTicker\"},{\"attributes\":{\"bottom_units\":\"screen\",\"fill_alpha\":{\"value\":0.5},\"fill_color\":{\"value\":\"lightgrey\"},\"left_units\":\"screen\",\"level\":\"overlay\",\"line_alpha\":{\"value\":1.0},\"line_color\":{\"value\":\"black\"},\"line_dash\":[4,4],\"line_width\":{\"value\":2},\"plot\":null,\"render_mode\":\"css\",\"right_units\":\"screen\",\"top_units\":\"screen\"},\"id\":\"42b24cae-4dd8-4ecd-bed9-90820c7d8725\",\"type\":\"BoxAnnotation\"},{\"attributes\":{\"callback\":null,\"overlay\":{\"id\":\"eda54de7-8b25-4040-900f-53bae392c973\",\"type\":\"BoxAnnotation\"},\"plot\":{\"id\":\"9925ed0b-e672-4888-8e03-d7c828acf6a8\",\"subtype\":\"Figure\",\"type\":\"Plot\"},\"renderers\":[{\"id\":\"edd40891-96f2-4840-a0e4-d6126274a59e\",\"type\":\"GlyphRenderer\"},{\"id\":\"16b0e315-7790-4c2b-89c0-d73de31a251f\",\"type\":\"GlyphRenderer\"}]},\"id\":\"6d375599-6cb8-4b40-9d9f-0bcc4a331f29\",\"type\":\"BoxSelectTool\"},{\"attributes\":{},\"id\":\"26c7d9e6-a7de-4921-b1e0-d0ba7b5da1f7\",\"type\":\"ToolEvents\"},{\"attributes\":{\"callback\":null,\"overlay\":{\"id\":\"ea6fe00b-3a9e-4016-a1c3-08c2ad7d2708\",\"type\":\"PolyAnnotation\"},\"plot\":{\"id\":\"9925ed0b-e672-4888-8e03-d7c828acf6a8\",\"subtype\":\"Figure\",\"type\":\"Plot\"}},\"id\":\"a9ad752d-5d40-46be-a90d-b67225356ddc\",\"type\":\"LassoSelectTool\"},{\"attributes\":{\"plot\":{\"id\":\"9925ed0b-e672-4888-8e03-d7c828acf6a8\",\"subtype\":\"Figure\",\"type\":\"Plot\"}},\"id\":\"a4624c98-6617-474f-a324-4cf81de86f9c\",\"type\":\"PanTool\"},{\"attributes\":{\"plot\":{\"id\":\"9925ed0b-e672-4888-8e03-d7c828acf6a8\",\"subtype\":\"Figure\",\"type\":\"Plot\"}},\"id\":\"7a56edc6-91fd-4796-9abe-bca8e30a1284\",\"type\":\"ResetTool\"},{\"attributes\":{},\"id\":\"57cb9911-8f55-44ed-aa99-170f407264d7\",\"type\":\"BasicTickFormatter\"},{\"attributes\":{\"plot\":{\"id\":\"9925ed0b-e672-4888-8e03-d7c828acf6a8\",\"subtype\":\"Figure\",\"type\":\"Plot\"}},\"id\":\"be6632cb-ff81-406e-bdf9-698907723e65\",\"type\":\"CrosshairTool\"},{\"attributes\":{\"dimension\":1,\"plot\":{\"id\":\"9925ed0b-e672-4888-8e03-d7c828acf6a8\",\"subtype\":\"Figure\",\"type\":\"Plot\"},\"ticker\":{\"id\":\"404c6771-166a-45ca-bdda-d35a7725635e\",\"type\":\"BasicTicker\"}},\"id\":\"f6d1a96e-1b0e-4c77-b01b-21aa802f01d3\",\"type\":\"Grid\"},{\"attributes\":{\"fill_alpha\":{\"value\":0.5},\"fill_color\":{\"value\":\"lightgrey\"},\"level\":\"overlay\",\"line_alpha\":{\"value\":1.0},\"line_color\":{\"value\":\"black\"},\"line_dash\":[4,4],\"line_width\":{\"value\":2},\"plot\":null,\"xs_units\":\"screen\",\"ys_units\":\"screen\"},\"id\":\"b4447edd-9317-44b7-8996-7b097745a2df\",\"type\":\"PolyAnnotation\"},{\"attributes\":{\"callback\":null},\"id\":\"a135e21b-3650-4ab8-9702-81d007107743\",\"type\":\"DataRange1d\"},{\"attributes\":{\"callback\":null},\"id\":\"41ff6bda-caad-4077-84f9-96915b92062e\",\"type\":\"DataRange1d\"},{\"attributes\":{\"data_source\":{\"id\":\"b2f099c1-a31e-4b99-85d3-3a177d1913dd\",\"type\":\"ColumnDataSource\"},\"glyph\":{\"id\":\"e34705a5-0686-43bc-9e3e-fdc3c3c877fe\",\"type\":\"Circle\"},\"hover_glyph\":null,\"nonselection_glyph\":{\"id\":\"5c8e829b-f91b-499f-abf9-f2749f7d9707\",\"type\":\"Circle\"},\"selection_glyph\":null},\"id\":\"edd40891-96f2-4840-a0e4-d6126274a59e\",\"type\":\"GlyphRenderer\"},{\"attributes\":{\"overlay\":{\"id\":\"42b24cae-4dd8-4ecd-bed9-90820c7d8725\",\"type\":\"BoxAnnotation\"},\"plot\":{\"id\":\"9925ed0b-e672-4888-8e03-d7c828acf6a8\",\"subtype\":\"Figure\",\"type\":\"Plot\"}},\"id\":\"05dcc0df-bbcc-41b2-8178-dab743c6cb72\",\"type\":\"BoxZoomTool\"},{\"attributes\":{\"fill_color\":{\"value\":\"#80B1D3\"},\"line_color\":{\"value\":\"#80B1D3\"},\"line_width\":{\"value\":3},\"x\":{\"field\":\"x\"},\"y\":{\"field\":\"y\"}},\"id\":\"e34705a5-0686-43bc-9e3e-fdc3c3c877fe\",\"type\":\"Circle\"},{\"attributes\":{\"plot\":{\"id\":\"9925ed0b-e672-4888-8e03-d7c828acf6a8\",\"subtype\":\"Figure\",\"type\":\"Plot\"}},\"id\":\"9ef8bb78-209e-4bb1-a550-2f055266864a\",\"type\":\"SaveTool\"},{\"attributes\":{\"background_fill_alpha\":{\"value\":0.5},\"background_fill_color\":{\"value\":\"beige\"},\"below\":[{\"id\":\"a285d1e7-f046-41b6-aa54-f174639d6a38\",\"type\":\"LinearAxis\"}],\"left\":[{\"id\":\"c8dfd14c-3f77-4572-88fe-34b690772cd3\",\"type\":\"LinearAxis\"}],\"plot_height\":500,\"plot_width\":500,\"renderers\":[{\"id\":\"a285d1e7-f046-41b6-aa54-f174639d6a38\",\"type\":\"LinearAxis\"},{\"id\":\"78dd0213-3b22-4514-8937-4e14097b1473\",\"type\":\"Grid\"},{\"id\":\"c8dfd14c-3f77-4572-88fe-34b690772cd3\",\"type\":\"LinearAxis\"},{\"id\":\"f6d1a96e-1b0e-4c77-b01b-21aa802f01d3\",\"type\":\"Grid\"},{\"id\":\"42b24cae-4dd8-4ecd-bed9-90820c7d8725\",\"type\":\"BoxAnnotation\"},{\"id\":\"eda54de7-8b25-4040-900f-53bae392c973\",\"type\":\"BoxAnnotation\"},{\"id\":\"ea6fe00b-3a9e-4016-a1c3-08c2ad7d2708\",\"type\":\"PolyAnnotation\"},{\"id\":\"b4447edd-9317-44b7-8996-7b097745a2df\",\"type\":\"PolyAnnotation\"},{\"id\":\"edd40891-96f2-4840-a0e4-d6126274a59e\",\"type\":\"GlyphRenderer\"},{\"id\":\"16b0e315-7790-4c2b-89c0-d73de31a251f\",\"type\":\"GlyphRenderer\"}],\"title\":{\"id\":\"04bc6b78-90fb-4782-b4fa-eb3d695f97d3\",\"type\":\"Title\"},\"tool_events\":{\"id\":\"26c7d9e6-a7de-4921-b1e0-d0ba7b5da1f7\",\"type\":\"ToolEvents\"},\"toolbar\":{\"id\":\"b66ab3bf-2c41-4fcd-8788-1c2bd8f7c059\",\"type\":\"Toolbar\"},\"x_range\":{\"id\":\"a135e21b-3650-4ab8-9702-81d007107743\",\"type\":\"DataRange1d\"},\"y_range\":{\"id\":\"41ff6bda-caad-4077-84f9-96915b92062e\",\"type\":\"DataRange1d\"}},\"id\":\"9925ed0b-e672-4888-8e03-d7c828acf6a8\",\"subtype\":\"Figure\",\"type\":\"Plot\"},{\"attributes\":{\"callback\":null,\"column_names\":[\"y\",\"x\"],\"data\":{\"x\":[15,1238],\"y\":[15,1238]}},\"id\":\"8b18bfb8-32b5-46e8-aa70-2eaa376beff3\",\"type\":\"ColumnDataSource\"},{\"attributes\":{\"axis_label\":\"Measured\",\"axis_label_text_color\":{\"value\":\"#aa6666\"},\"formatter\":{\"id\":\"57cb9911-8f55-44ed-aa99-170f407264d7\",\"type\":\"BasicTickFormatter\"},\"major_tick_line_color\":{\"value\":\"firebrick\"},\"major_tick_line_width\":{\"value\":3},\"minor_tick_line_color\":{\"value\":\"orange\"},\"plot\":{\"id\":\"9925ed0b-e672-4888-8e03-d7c828acf6a8\",\"subtype\":\"Figure\",\"type\":\"Plot\"},\"ticker\":{\"id\":\"fbe3de11-ea24-418c-b58f-ef4580a79bf5\",\"type\":\"BasicTicker\"}},\"id\":\"a285d1e7-f046-41b6-aa54-f174639d6a38\",\"type\":\"LinearAxis\"},{\"attributes\":{\"overlay\":{\"id\":\"b4447edd-9317-44b7-8996-7b097745a2df\",\"type\":\"PolyAnnotation\"},\"plot\":{\"id\":\"9925ed0b-e672-4888-8e03-d7c828acf6a8\",\"subtype\":\"Figure\",\"type\":\"Plot\"}},\"id\":\"b97aaabc-2d16-4c4b-b504-6fa2549de34b\",\"type\":\"PolySelectTool\"},{\"attributes\":{\"callback\":null,\"column_names\":[\"x\",\"y\"],\"data\":{\"x\":[20,53,132,25,88,54,75,17,28,35,80,360,749,41,26,44,82,28,275,18,27,34,28,102,34,42,426,57,124,19,128,30,281,19,19,86,45,29,28,22,220,126,15,22,31,81,35,18,24,37,95,19,253,34,24,182,74,23,78,23,24,24,47,270,113,253,82,20,47,978,34,31,199,171,33,361,113,117,74,33,38,36,28,41,117,267,45,18,21,37,190,47,381,28,25,116,26,20,35,181,29,24,65,18,136,34,157,253,101,25,74,28,46,53,29,44,46,36,41,82,138,28,42,62,266,102,25,44,31,74,142,41,43,119,27,15,73,64,53,76,120,24,20,50,21,80,30,341,24,919,30,56,34,53,175,47,32,23,39,1238,20,227,20,382,26,28,67],\"y\":[20.6,58.4,124.4,22.4,77.8,66.0,108.6,18.0,27.4,31.2,136.2,343.4,719.8,42.2,26.8,42.8,82.8,27.8,236.0,17.6,26.0,34.0,30.2,111.4,34.0,45.0,549.0,54.2,91.6,18.4,123.2,27.2,179.4,20.0,17.2,73.2,41.8,28.4,27.4,20.0,260.8,128.0,17.2,22.6,29.0,101.2,38.8,20.6,26.0,39.0,69.4,18.4,246.4,34.0,25.4,204.0,86.8,22.8,70.0,21.8,24.0,25.4,45.6,423.6,132.8,246.4,110.2,20.0,43.4,1011.8,34.4,31.2,95.6,130.8,23.8,454.8,145.6,109.4,73.8,31.4,41.0,36.4,29.4,40.6,123.8,269.2,42.6,16.6,19.8,39.2,133.8,57.2,307.4,29.4,26.6,108.0,28.0,20.0,31.8,192.0,31.2,22.6,79.2,17.6,157.6,34.0,131.8,221.8,102.4,27.0,74.0,28.0,39.8,81.6,31.0,44.0,41.2,36.8,41.6,81.2,127.0,31.2,46.0,52.0,261.2,98.2,26.2,52.4,33.2,53.2,108.8,45.8,48.6,93.4,25.2,16.2,71.6,71.6,67.2,80.2,103.2,24.0,19.8,66.0,22.0,52.0,29.6,258.2,25.8,1036.2,30.6,53.0,34.0,49.2,180.0,48.4,30.2,20.8,45.2,639.4,20.4,285.6,20.6,295.4,25.0,27.0,49.2]}},\"id\":\"b2f099c1-a31e-4b99-85d3-3a177d1913dd\",\"type\":\"ColumnDataSource\"},{\"attributes\":{\"data_source\":{\"id\":\"8b18bfb8-32b5-46e8-aa70-2eaa376beff3\",\"type\":\"ColumnDataSource\"},\"glyph\":{\"id\":\"0a754ca3-d6c7-467d-bb9a-91e3841fbd6a\",\"type\":\"Line\"},\"hover_glyph\":null,\"nonselection_glyph\":{\"id\":\"be1dd171-2d90-44a0-998b-45ca314226d2\",\"type\":\"Line\"},\"selection_glyph\":null},\"id\":\"16b0e315-7790-4c2b-89c0-d73de31a251f\",\"type\":\"GlyphRenderer\"},{\"attributes\":{\"axis_label\":\"Predicted\",\"axis_label_text_color\":{\"value\":\"#aa6666\"},\"formatter\":{\"id\":\"e964b6fa-d056-4ad3-b81a-77ff34d52709\",\"type\":\"BasicTickFormatter\"},\"plot\":{\"id\":\"9925ed0b-e672-4888-8e03-d7c828acf6a8\",\"subtype\":\"Figure\",\"type\":\"Plot\"},\"ticker\":{\"id\":\"404c6771-166a-45ca-bdda-d35a7725635e\",\"type\":\"BasicTicker\"}},\"id\":\"c8dfd14c-3f77-4572-88fe-34b690772cd3\",\"type\":\"LinearAxis\"},{\"attributes\":{\"plot\":{\"id\":\"9925ed0b-e672-4888-8e03-d7c828acf6a8\",\"subtype\":\"Figure\",\"type\":\"Plot\"}},\"id\":\"11d990c5-09c5-4bb0-b00e-206f1180180e\",\"type\":\"ResizeTool\"},{\"attributes\":{\"plot\":{\"id\":\"9925ed0b-e672-4888-8e03-d7c828acf6a8\",\"subtype\":\"Figure\",\"type\":\"Plot\"}},\"id\":\"55d18c37-98c2-4670-a938-56ff80b0bc5c\",\"type\":\"WheelZoomTool\"},{\"attributes\":{\"fill_alpha\":{\"value\":0.5},\"fill_color\":{\"value\":\"lightgrey\"},\"level\":\"overlay\",\"line_alpha\":{\"value\":1.0},\"line_color\":{\"value\":\"black\"},\"line_dash\":[4,4],\"line_width\":{\"value\":2},\"plot\":null,\"xs_units\":\"screen\",\"ys_units\":\"screen\"},\"id\":\"ea6fe00b-3a9e-4016-a1c3-08c2ad7d2708\",\"type\":\"PolyAnnotation\"},{\"attributes\":{\"align\":\"center\",\"plot\":null,\"text\":null},\"id\":\"04bc6b78-90fb-4782-b4fa-eb3d695f97d3\",\"type\":\"Title\"},{\"attributes\":{\"fill_alpha\":{\"value\":0.1},\"fill_color\":{\"value\":\"#1f77b4\"},\"line_alpha\":{\"value\":0.1},\"line_color\":{\"value\":\"#1f77b4\"},\"line_width\":{\"value\":3},\"x\":{\"field\":\"x\"},\"y\":{\"field\":\"y\"}},\"id\":\"5c8e829b-f91b-499f-abf9-f2749f7d9707\",\"type\":\"Circle\"},{\"attributes\":{},\"id\":\"e964b6fa-d056-4ad3-b81a-77ff34d52709\",\"type\":\"BasicTickFormatter\"},{\"attributes\":{},\"id\":\"404c6771-166a-45ca-bdda-d35a7725635e\",\"type\":\"BasicTicker\"},{\"attributes\":{\"plot\":{\"id\":\"9925ed0b-e672-4888-8e03-d7c828acf6a8\",\"subtype\":\"Figure\",\"type\":\"Plot\"},\"ticker\":{\"id\":\"fbe3de11-ea24-418c-b58f-ef4580a79bf5\",\"type\":\"BasicTicker\"}},\"id\":\"78dd0213-3b22-4514-8937-4e14097b1473\",\"type\":\"Grid\"},{\"attributes\":{\"active_drag\":\"auto\",\"active_scroll\":\"auto\",\"active_tap\":\"auto\",\"tools\":[{\"id\":\"05dcc0df-bbcc-41b2-8178-dab743c6cb72\",\"type\":\"BoxZoomTool\"},{\"id\":\"6d375599-6cb8-4b40-9d9f-0bcc4a331f29\",\"type\":\"BoxSelectTool\"},{\"id\":\"be6632cb-ff81-406e-bdf9-698907723e65\",\"type\":\"CrosshairTool\"},{\"id\":\"11d990c5-09c5-4bb0-b00e-206f1180180e\",\"type\":\"ResizeTool\"},{\"id\":\"7a56edc6-91fd-4796-9abe-bca8e30a1284\",\"type\":\"ResetTool\"},{\"id\":\"a9ad752d-5d40-46be-a90d-b67225356ddc\",\"type\":\"LassoSelectTool\"},{\"id\":\"a4624c98-6617-474f-a324-4cf81de86f9c\",\"type\":\"PanTool\"},{\"id\":\"9ef8bb78-209e-4bb1-a550-2f055266864a\",\"type\":\"SaveTool\"},{\"id\":\"b97aaabc-2d16-4c4b-b504-6fa2549de34b\",\"type\":\"PolySelectTool\"},{\"id\":\"2f71a1ea-0ddc-47eb-bdce-dad2385664d0\",\"type\":\"TapTool\"},{\"id\":\"55d18c37-98c2-4670-a938-56ff80b0bc5c\",\"type\":\"WheelZoomTool\"},{\"id\":\"b14b3b64-1ae7-4ed7-8fcc-80519e915d07\",\"type\":\"UndoTool\"}]},\"id\":\"b66ab3bf-2c41-4fcd-8788-1c2bd8f7c059\",\"type\":\"Toolbar\"},{\"attributes\":{\"line_dash\":[4,4],\"line_width\":{\"value\":2},\"x\":{\"field\":\"x\"},\"y\":{\"field\":\"y\"}},\"id\":\"0a754ca3-d6c7-467d-bb9a-91e3841fbd6a\",\"type\":\"Line\"}],\"root_ids\":[\"9925ed0b-e672-4888-8e03-d7c828acf6a8\"]},\"title\":\"Bokeh Application\",\"version\":\"0.12.2\"}};\n",
       "            var render_items = [{\"docid\":\"55050de1-3558-439e-8c50-fc4d6cc27978\",\"elementid\":\"516143f8-6a1b-4303-a2ff-43ea1dbcaad5\",\"modelid\":\"9925ed0b-e672-4888-8e03-d7c828acf6a8\"}];\n",
       "            \n",
       "            Bokeh.embed.embed_items(docs_json, render_items);\n",
       "        });\n",
       "      },\n",
       "      function(Bokeh) {\n",
       "      }\n",
       "    ];\n",
       "  \n",
       "    function run_inline_js() {\n",
       "      \n",
       "      if ((window.Bokeh !== undefined) || (force === \"1\")) {\n",
       "        for (var i = 0; i < inline_js.length; i++) {\n",
       "          inline_js[i](window.Bokeh);\n",
       "        }if (force === \"1\") {\n",
       "          display_loaded();\n",
       "        }} else if (Date.now() < window._bokeh_timeout) {\n",
       "        setTimeout(run_inline_js, 100);\n",
       "      } else if (!window._bokeh_failed_load) {\n",
       "        console.log(\"Bokeh: BokehJS failed to load within specified timeout.\");\n",
       "        window._bokeh_failed_load = true;\n",
       "      } else if (!force) {\n",
       "        var cell = $(\"#516143f8-6a1b-4303-a2ff-43ea1dbcaad5\").parents('.cell').data().cell;\n",
       "        cell.output_area.append_execute_result(NB_LOAD_WARNING)\n",
       "      }\n",
       "  \n",
       "    }\n",
       "  \n",
       "    if (window._bokeh_is_loading === 0) {\n",
       "      console.log(\"Bokeh: BokehJS loaded, going straight to plotting\");\n",
       "      run_inline_js();\n",
       "    } else {\n",
       "      load_libs(js_urls, function() {\n",
       "        console.log(\"Bokeh: BokehJS plotting callback run at\", now());\n",
       "        run_inline_js();\n",
       "      });\n",
       "    }\n",
       "  }(this));\n",
       "</script>"
      ]
     },
     "metadata": {},
     "output_type": "display_data"
    }
   ],
   "source": [
    "# Plotining using bokeh\n",
    "#TOOLS = [BoxSelectTool(), HoverTool()]\n",
    "#TOOLS = 'hover,box_zoom,box_select,crosshair,resize,reset,DecisionTreeRegressor_select,pan,save,poly_select,tap,wheel_zoom,undo'\n",
    "TOOLS = 'box_zoom,box_select,crosshair,resize,reset,lasso_select,pan,save,poly_select,tap,wheel_zoom,undo'\n",
    "p = figure(plot_width=500, plot_height=500, tools=TOOLS)\n",
    "p.scatter(Y, predicted,x=\"jjj\", marker=\"o\", color=\"#80B1D3\", line_width=3)\n",
    "p.title.align = \"center\"\n",
    "p.xaxis.axis_label = \"Measured\"\n",
    "p.xaxis.axis_label_text_color = \"#aa6666\"\n",
    "#p.xaxis.axis_label_standoff = 30\n",
    "p.xaxis.major_tick_line_color = \"firebrick\"\n",
    "p.xaxis.major_tick_line_width = 3\n",
    "p.xaxis.minor_tick_line_color = \"orange\"\n",
    "p.yaxis.axis_label = \"Predicted\"\n",
    "p.yaxis.axis_label_text_font_style = \"italic\"\n",
    "p.yaxis.axis_label_text_color = \"#aa6666\"\n",
    "p.background_fill_color = \"beige\"\n",
    "p.background_fill_alpha = 0.5\n",
    "#p.line([Y.min(), Y.max()], [Y.min(), Y.max()], line_dash=\"4 4\", line_width=2, color='red')\n",
    "\n",
    "# create a new plot with the toolbar below\n",
    "# line_dash=\"4 4\", line_width=2, color='red'\n",
    "p.line([Y.min(), Y.max()], [Y.min(), Y.max()], line_dash=\"4 4\", line_width=2, line_color=\"black\")\n",
    "show(p)"
   ]
  },
  {
   "cell_type": "code",
   "execution_count": 20,
   "metadata": {
    "collapsed": false
   },
   "outputs": [
    {
     "data": {
      "text/plain": [
       "<matplotlib.text.Text at 0x7ff5ce55ccd0>"
      ]
     },
     "execution_count": 20,
     "metadata": {},
     "output_type": "execute_result"
    },
    {
     "data": {
      "image/png": "[encoded data removed]",
      "text/plain": [
       "<matplotlib.figure.Figure at 0x7ff5cfe62850>"
      ]
     },
     "metadata": {},
     "output_type": "display_data"
    }
   ],
   "source": [
    "plt.scatter(predicted, (predicted - Y), c='r', s=30)\n",
    "plt.title(\"Residual plot on the training data\")\n",
    "plt.xlabel(\"Predicted\")\n",
    "plt.ylabel(\"Residuals\")"
   ]
  },
  {
   "cell_type": "code",
   "execution_count": 21,
   "metadata": {
    "collapsed": false
   },
   "outputs": [
    {
     "data": {
      "text/html": [
       "\n",
       "\n",
       "    <div class=\"bk-root\">\n",
       "        <div class=\"plotdiv\" id=\"b3bfb8ec-12b9-4f78-a583-fd7a68d17939\"></div>\n",
       "    </div>\n",
       "<script type=\"text/javascript\">\n",
       "  \n",
       "  (function(global) {\n",
       "    function now() {\n",
       "      return new Date();\n",
       "    }\n",
       "  \n",
       "    var force = \"\";\n",
       "  \n",
       "    if (typeof (window._bokeh_onload_callbacks) === \"undefined\" || force !== \"\") {\n",
       "      window._bokeh_onload_callbacks = [];\n",
       "      window._bokeh_is_loading = undefined;\n",
       "    }\n",
       "  \n",
       "  \n",
       "    \n",
       "    if (typeof (window._bokeh_timeout) === \"undefined\" || force !== \"\") {\n",
       "      window._bokeh_timeout = Date.now() + 0;\n",
       "      window._bokeh_failed_load = false;\n",
       "    }\n",
       "  \n",
       "    var NB_LOAD_WARNING = {'data': {'text/html':\n",
       "       \"<div style='background-color: #fdd'>\\n\"+\n",
       "       \"<p>\\n\"+\n",
       "       \"BokehJS does not appear to have successfully loaded. If loading BokehJS from CDN, this \\n\"+\n",
       "       \"may be due to a slow or bad network connection. Possible fixes:\\n\"+\n",
       "       \"</p>\\n\"+\n",
       "       \"<ul>\\n\"+\n",
       "       \"<li>re-rerun `output_notebook()` to attempt to load from CDN again, or</li>\\n\"+\n",
       "       \"<li>use INLINE resources instead, as so:</li>\\n\"+\n",
       "       \"</ul>\\n\"+\n",
       "       \"<code>\\n\"+\n",
       "       \"from bokeh.resources import INLINE\\n\"+\n",
       "       \"output_notebook(resources=INLINE)\\n\"+\n",
       "       \"</code>\\n\"+\n",
       "       \"</div>\"}};\n",
       "  \n",
       "    function display_loaded() {\n",
       "      if (window.Bokeh !== undefined) {\n",
       "        Bokeh.$(\"#b3bfb8ec-12b9-4f78-a583-fd7a68d17939\").text(\"BokehJS successfully loaded.\");\n",
       "      } else if (Date.now() < window._bokeh_timeout) {\n",
       "        setTimeout(display_loaded, 100)\n",
       "      }\n",
       "    }\n",
       "  \n",
       "    function run_callbacks() {\n",
       "      window._bokeh_onload_callbacks.forEach(function(callback) { callback() });\n",
       "      delete window._bokeh_onload_callbacks\n",
       "      console.info(\"Bokeh: all callbacks have finished\");\n",
       "    }\n",
       "  \n",
       "    function load_libs(js_urls, callback) {\n",
       "      window._bokeh_onload_callbacks.push(callback);\n",
       "      if (window._bokeh_is_loading > 0) {\n",
       "        console.log(\"Bokeh: BokehJS is being loaded, scheduling callback at\", now());\n",
       "        return null;\n",
       "      }\n",
       "      if (js_urls == null || js_urls.length === 0) {\n",
       "        run_callbacks();\n",
       "        return null;\n",
       "      }\n",
       "      console.log(\"Bokeh: BokehJS not loaded, scheduling load and callback at\", now());\n",
       "      window._bokeh_is_loading = js_urls.length;\n",
       "      for (var i = 0; i < js_urls.length; i++) {\n",
       "        var url = js_urls[i];\n",
       "        var s = document.createElement('script');\n",
       "        s.src = url;\n",
       "        s.async = false;\n",
       "        s.onreadystatechange = s.onload = function() {\n",
       "          window._bokeh_is_loading--;\n",
       "          if (window._bokeh_is_loading === 0) {\n",
       "            console.log(\"Bokeh: all BokehJS libraries loaded\");\n",
       "            run_callbacks()\n",
       "          }\n",
       "        };\n",
       "        s.onerror = function() {\n",
       "          console.warn(\"failed to load library \" + url);\n",
       "        };\n",
       "        console.log(\"Bokeh: injecting script tag for BokehJS library: \", url);\n",
       "        document.getElementsByTagName(\"head\")[0].appendChild(s);\n",
       "      }\n",
       "    };var element = document.getElementById(\"b3bfb8ec-12b9-4f78-a583-fd7a68d17939\");\n",
       "    if (element == null) {\n",
       "      console.log(\"Bokeh: ERROR: autoload.js configured with elementid 'b3bfb8ec-12b9-4f78-a583-fd7a68d17939' but no matching script tag was found. \")\n",
       "      return false;\n",
       "    }\n",
       "  \n",
       "    var js_urls = [];\n",
       "  \n",
       "    var inline_js = [\n",
       "      function(Bokeh) {\n",
       "        Bokeh.$(function() {\n",
       "            var docs_json = {\"ad2ad927-8cc7-4b77-abd1-6217f9d5177b\":{\"roots\":{\"references\":[{\"attributes\":{\"background_fill_alpha\":{\"value\":0.5},\"background_fill_color\":{\"value\":\"beige\"},\"below\":[{\"id\":\"41fd179f-12d7-43ff-91a6-37e02cd0ac8b\",\"type\":\"LinearAxis\"}],\"left\":[{\"id\":\"f0da8bc6-6f0c-45c8-a11e-5de2d0d64900\",\"type\":\"LinearAxis\"}],\"plot_height\":500,\"plot_width\":500,\"renderers\":[{\"id\":\"41fd179f-12d7-43ff-91a6-37e02cd0ac8b\",\"type\":\"LinearAxis\"},{\"id\":\"68cf547e-d805-4331-8697-6eef8d64de2c\",\"type\":\"Grid\"},{\"id\":\"f0da8bc6-6f0c-45c8-a11e-5de2d0d64900\",\"type\":\"LinearAxis\"},{\"id\":\"f568205c-2677-466b-b2f3-fea7fb8704c6\",\"type\":\"Grid\"},{\"id\":\"b38b26c9-9dff-4c50-a138-2fed8ea3a2ae\",\"type\":\"BoxAnnotation\"},{\"id\":\"01d0f647-4c2b-41fa-bdcf-641e5c0a5c06\",\"type\":\"BoxAnnotation\"},{\"id\":\"7aad1020-21c9-4350-8e3b-c657ab983921\",\"type\":\"PolyAnnotation\"},{\"id\":\"740bb095-335c-49b4-bfd6-48eaafeef9a5\",\"type\":\"PolyAnnotation\"},{\"id\":\"b4b89e0c-8e55-451a-93d8-2568772c7d51\",\"type\":\"GlyphRenderer\"}],\"title\":{\"id\":\"fe99e8ac-81fb-4c6b-a4f0-4b92fa8c9493\",\"type\":\"Title\"},\"tool_events\":{\"id\":\"f4bd947b-2f3c-4bc5-b787-f0f8b2b1db4b\",\"type\":\"ToolEvents\"},\"toolbar\":{\"id\":\"7c718993-ecaa-4c8b-b82b-819a4b163673\",\"type\":\"Toolbar\"},\"x_range\":{\"id\":\"a343f908-053a-4bc0-acbf-8e506d375b2b\",\"type\":\"DataRange1d\"},\"y_range\":{\"id\":\"30a378b5-f00a-4513-9a76-306540e59c8a\",\"type\":\"DataRange1d\"}},\"id\":\"66f7a53f-6080-4d08-b172-b537905c573a\",\"subtype\":\"Figure\",\"type\":\"Plot\"},{\"attributes\":{\"callback\":null},\"id\":\"30a378b5-f00a-4513-9a76-306540e59c8a\",\"type\":\"DataRange1d\"},{\"attributes\":{},\"id\":\"8b878e39-5095-42a0-9db3-5645041aa5d6\",\"type\":\"BasicTicker\"},{\"attributes\":{\"plot\":{\"id\":\"66f7a53f-6080-4d08-b172-b537905c573a\",\"subtype\":\"Figure\",\"type\":\"Plot\"}},\"id\":\"46132ace-34b8-4bcc-956a-07685b2431b0\",\"type\":\"SaveTool\"},{\"attributes\":{\"data_source\":{\"id\":\"2437f526-dece-4630-8a43-87ca112a4905\",\"type\":\"ColumnDataSource\"},\"glyph\":{\"id\":\"5be88635-a8ec-403e-baa9-8e68d3667969\",\"type\":\"Circle\"},\"hover_glyph\":null,\"nonselection_glyph\":{\"id\":\"9d1353d4-c1cf-4bdb-a5cd-5f1561782e68\",\"type\":\"Circle\"},\"selection_glyph\":null},\"id\":\"b4b89e0c-8e55-451a-93d8-2568772c7d51\",\"type\":\"GlyphRenderer\"},{\"attributes\":{\"plot\":{\"id\":\"66f7a53f-6080-4d08-b172-b537905c573a\",\"subtype\":\"Figure\",\"type\":\"Plot\"}},\"id\":\"8a92070f-8daa-4a20-bed1-cdd53d04e917\",\"type\":\"UndoTool\"},{\"attributes\":{\"callback\":null,\"overlay\":{\"id\":\"01d0f647-4c2b-41fa-bdcf-641e5c0a5c06\",\"type\":\"BoxAnnotation\"},\"plot\":{\"id\":\"66f7a53f-6080-4d08-b172-b537905c573a\",\"subtype\":\"Figure\",\"type\":\"Plot\"},\"renderers\":[{\"id\":\"b4b89e0c-8e55-451a-93d8-2568772c7d51\",\"type\":\"GlyphRenderer\"}]},\"id\":\"7affdfc8-84c0-49e5-a305-463a6ebcc01f\",\"type\":\"BoxSelectTool\"},{\"attributes\":{\"overlay\":{\"id\":\"740bb095-335c-49b4-bfd6-48eaafeef9a5\",\"type\":\"PolyAnnotation\"},\"plot\":{\"id\":\"66f7a53f-6080-4d08-b172-b537905c573a\",\"subtype\":\"Figure\",\"type\":\"Plot\"}},\"id\":\"a86dd6a1-3c20-40f3-a6ab-2d97e3215c4a\",\"type\":\"PolySelectTool\"},{\"attributes\":{\"bottom_units\":\"screen\",\"fill_alpha\":{\"value\":0.5},\"fill_color\":{\"value\":\"lightgrey\"},\"left_units\":\"screen\",\"level\":\"overlay\",\"line_alpha\":{\"value\":1.0},\"line_color\":{\"value\":\"black\"},\"line_dash\":[4,4],\"line_width\":{\"value\":2},\"plot\":null,\"render_mode\":\"css\",\"right_units\":\"screen\",\"top_units\":\"screen\"},\"id\":\"01d0f647-4c2b-41fa-bdcf-641e5c0a5c06\",\"type\":\"BoxAnnotation\"},{\"attributes\":{\"callback\":null},\"id\":\"a343f908-053a-4bc0-acbf-8e506d375b2b\",\"type\":\"DataRange1d\"},{\"attributes\":{\"axis_label\":\"Residuals\",\"axis_label_text_color\":{\"value\":\"#aa6666\"},\"formatter\":{\"id\":\"4ebc8df0-4214-4754-8026-3e9becc53706\",\"type\":\"BasicTickFormatter\"},\"plot\":{\"id\":\"66f7a53f-6080-4d08-b172-b537905c573a\",\"subtype\":\"Figure\",\"type\":\"Plot\"},\"ticker\":{\"id\":\"8b878e39-5095-42a0-9db3-5645041aa5d6\",\"type\":\"BasicTicker\"}},\"id\":\"f0da8bc6-6f0c-45c8-a11e-5de2d0d64900\",\"type\":\"LinearAxis\"},{\"attributes\":{\"plot\":{\"id\":\"66f7a53f-6080-4d08-b172-b537905c573a\",\"subtype\":\"Figure\",\"type\":\"Plot\"}},\"id\":\"3cb32769-c3d2-4682-81fc-7020dd71a057\",\"type\":\"WheelZoomTool\"},{\"attributes\":{\"plot\":{\"id\":\"66f7a53f-6080-4d08-b172-b537905c573a\",\"subtype\":\"Figure\",\"type\":\"Plot\"}},\"id\":\"efa1568c-03d0-4313-9af8-fda759db6d0e\",\"type\":\"CrosshairTool\"},{\"attributes\":{\"align\":\"center\",\"plot\":null,\"text\":\"Residual plot on the training data\"},\"id\":\"fe99e8ac-81fb-4c6b-a4f0-4b92fa8c9493\",\"type\":\"Title\"},{\"attributes\":{\"fill_alpha\":{\"value\":0.5},\"fill_color\":{\"value\":\"lightgrey\"},\"level\":\"overlay\",\"line_alpha\":{\"value\":1.0},\"line_color\":{\"value\":\"black\"},\"line_dash\":[4,4],\"line_width\":{\"value\":2},\"plot\":null,\"xs_units\":\"screen\",\"ys_units\":\"screen\"},\"id\":\"7aad1020-21c9-4350-8e3b-c657ab983921\",\"type\":\"PolyAnnotation\"},{\"attributes\":{},\"id\":\"9701c5b5-25f3-40bc-a6be-ae3b5aaa9113\",\"type\":\"BasicTicker\"},{\"attributes\":{\"plot\":{\"id\":\"66f7a53f-6080-4d08-b172-b537905c573a\",\"subtype\":\"Figure\",\"type\":\"Plot\"}},\"id\":\"ca67ae45-e388-45d2-8fd6-ebf24ca9a45f\",\"type\":\"ResetTool\"},{\"attributes\":{},\"id\":\"4ebc8df0-4214-4754-8026-3e9becc53706\",\"type\":\"BasicTickFormatter\"},{\"attributes\":{\"plot\":{\"id\":\"66f7a53f-6080-4d08-b172-b537905c573a\",\"subtype\":\"Figure\",\"type\":\"Plot\"}},\"id\":\"24ded40d-ce6b-4410-8c62-3a8207a80416\",\"type\":\"ResizeTool\"},{\"attributes\":{\"fill_alpha\":{\"value\":0.1},\"fill_color\":{\"value\":\"#1f77b4\"},\"line_alpha\":{\"value\":0.1},\"line_color\":{\"value\":\"#1f77b4\"},\"line_width\":{\"value\":3},\"x\":{\"field\":\"x\"},\"y\":{\"field\":\"y\"}},\"id\":\"9d1353d4-c1cf-4bdb-a5cd-5f1561782e68\",\"type\":\"Circle\"},{\"attributes\":{\"plot\":{\"id\":\"66f7a53f-6080-4d08-b172-b537905c573a\",\"subtype\":\"Figure\",\"type\":\"Plot\"},\"ticker\":{\"id\":\"9701c5b5-25f3-40bc-a6be-ae3b5aaa9113\",\"type\":\"BasicTicker\"}},\"id\":\"68cf547e-d805-4331-8697-6eef8d64de2c\",\"type\":\"Grid\"},{\"attributes\":{\"bottom_units\":\"screen\",\"fill_alpha\":{\"value\":0.5},\"fill_color\":{\"value\":\"lightgrey\"},\"left_units\":\"screen\",\"level\":\"overlay\",\"line_alpha\":{\"value\":1.0},\"line_color\":{\"value\":\"black\"},\"line_dash\":[4,4],\"line_width\":{\"value\":2},\"plot\":null,\"render_mode\":\"css\",\"right_units\":\"screen\",\"top_units\":\"screen\"},\"id\":\"b38b26c9-9dff-4c50-a138-2fed8ea3a2ae\",\"type\":\"BoxAnnotation\"},{\"attributes\":{\"callback\":null,\"overlay\":{\"id\":\"7aad1020-21c9-4350-8e3b-c657ab983921\",\"type\":\"PolyAnnotation\"},\"plot\":{\"id\":\"66f7a53f-6080-4d08-b172-b537905c573a\",\"subtype\":\"Figure\",\"type\":\"Plot\"}},\"id\":\"d4f6ec6f-1683-44af-86e4-d201f53dd5f1\",\"type\":\"LassoSelectTool\"},{\"attributes\":{\"axis_label\":\"Predicted\",\"axis_label_text_color\":{\"value\":\"#aa6666\"},\"formatter\":{\"id\":\"a76112f6-93f4-4927-b50d-a676e619ccec\",\"type\":\"BasicTickFormatter\"},\"major_tick_line_color\":{\"value\":\"firebrick\"},\"major_tick_line_width\":{\"value\":3},\"minor_tick_line_color\":{\"value\":\"orange\"},\"plot\":{\"id\":\"66f7a53f-6080-4d08-b172-b537905c573a\",\"subtype\":\"Figure\",\"type\":\"Plot\"},\"ticker\":{\"id\":\"9701c5b5-25f3-40bc-a6be-ae3b5aaa9113\",\"type\":\"BasicTicker\"}},\"id\":\"41fd179f-12d7-43ff-91a6-37e02cd0ac8b\",\"type\":\"LinearAxis\"},{\"attributes\":{\"active_drag\":\"auto\",\"active_scroll\":\"auto\",\"active_tap\":\"auto\",\"tools\":[{\"id\":\"d5559752-1dd1-484c-96ae-217c48beb318\",\"type\":\"BoxZoomTool\"},{\"id\":\"7affdfc8-84c0-49e5-a305-463a6ebcc01f\",\"type\":\"BoxSelectTool\"},{\"id\":\"efa1568c-03d0-4313-9af8-fda759db6d0e\",\"type\":\"CrosshairTool\"},{\"id\":\"24ded40d-ce6b-4410-8c62-3a8207a80416\",\"type\":\"ResizeTool\"},{\"id\":\"ca67ae45-e388-45d2-8fd6-ebf24ca9a45f\",\"type\":\"ResetTool\"},{\"id\":\"d4f6ec6f-1683-44af-86e4-d201f53dd5f1\",\"type\":\"LassoSelectTool\"},{\"id\":\"1761c552-02bd-4d82-9a49-792895647339\",\"type\":\"PanTool\"},{\"id\":\"46132ace-34b8-4bcc-956a-07685b2431b0\",\"type\":\"SaveTool\"},{\"id\":\"a86dd6a1-3c20-40f3-a6ab-2d97e3215c4a\",\"type\":\"PolySelectTool\"},{\"id\":\"a2ecc579-2f48-4f1d-bb8c-d30a3cbda00a\",\"type\":\"TapTool\"},{\"id\":\"3cb32769-c3d2-4682-81fc-7020dd71a057\",\"type\":\"WheelZoomTool\"},{\"id\":\"8a92070f-8daa-4a20-bed1-cdd53d04e917\",\"type\":\"UndoTool\"}]},\"id\":\"7c718993-ecaa-4c8b-b82b-819a4b163673\",\"type\":\"Toolbar\"},{\"attributes\":{},\"id\":\"f4bd947b-2f3c-4bc5-b787-f0f8b2b1db4b\",\"type\":\"ToolEvents\"},{\"attributes\":{},\"id\":\"a76112f6-93f4-4927-b50d-a676e619ccec\",\"type\":\"BasicTickFormatter\"},{\"attributes\":{\"dimension\":1,\"plot\":{\"id\":\"66f7a53f-6080-4d08-b172-b537905c573a\",\"subtype\":\"Figure\",\"type\":\"Plot\"},\"ticker\":{\"id\":\"8b878e39-5095-42a0-9db3-5645041aa5d6\",\"type\":\"BasicTicker\"}},\"id\":\"f568205c-2677-466b-b2f3-fea7fb8704c6\",\"type\":\"Grid\"},{\"attributes\":{\"overlay\":{\"id\":\"b38b26c9-9dff-4c50-a138-2fed8ea3a2ae\",\"type\":\"BoxAnnotation\"},\"plot\":{\"id\":\"66f7a53f-6080-4d08-b172-b537905c573a\",\"subtype\":\"Figure\",\"type\":\"Plot\"}},\"id\":\"d5559752-1dd1-484c-96ae-217c48beb318\",\"type\":\"BoxZoomTool\"},{\"attributes\":{\"callback\":null,\"column_names\":[\"x\",\"y\"],\"data\":{\"x\":[20.6,58.4,124.4,22.4,77.8,66.0,108.6,18.0,27.4,31.2,136.2,343.4,719.8,42.2,26.8,42.8,82.8,27.8,236.0,17.6,26.0,34.0,30.2,111.4,34.0,45.0,549.0,54.2,91.6,18.4,123.2,27.2,179.4,20.0,17.2,73.2,41.8,28.4,27.4,20.0,260.8,128.0,17.2,22.6,29.0,101.2,38.8,20.6,26.0,39.0,69.4,18.4,246.4,34.0,25.4,204.0,86.8,22.8,70.0,21.8,24.0,25.4,45.6,423.6,132.8,246.4,110.2,20.0,43.4,1011.8,34.4,31.2,95.6,130.8,23.8,454.8,145.6,109.4,73.8,31.4,41.0,36.4,29.4,40.6,123.8,269.2,42.6,16.6,19.8,39.2,133.8,57.2,307.4,29.4,26.6,108.0,28.0,20.0,31.8,192.0,31.2,22.6,79.2,17.6,157.6,34.0,131.8,221.8,102.4,27.0,74.0,28.0,39.8,81.6,31.0,44.0,41.2,36.8,41.6,81.2,127.0,31.2,46.0,52.0,261.2,98.2,26.2,52.4,33.2,53.2,108.8,45.8,48.6,93.4,25.2,16.2,71.6,71.6,67.2,80.2,103.2,24.0,19.8,66.0,22.0,52.0,29.6,258.2,25.8,1036.2,30.6,53.0,34.0,49.2,180.0,48.4,30.2,20.8,45.2,639.4,20.4,285.6,20.6,295.4,25.0,27.0,49.2],\"y\":[0.6000000000000014,5.399999999999999,-7.599999999999994,-2.6000000000000014,-10.200000000000003,12.0,33.599999999999994,1.0,-0.6000000000000014,-3.8000000000000007,56.19999999999999,-16.600000000000023,-29.200000000000045,1.2000000000000028,0.8000000000000007,-1.2000000000000028,0.7999999999999972,-0.1999999999999993,-39.0,-0.3999999999999986,-1.0,0.0,2.1999999999999993,9.400000000000006,0.0,3.0,123.0,-2.799999999999997,-32.400000000000006,-0.6000000000000014,-4.799999999999997,-2.8000000000000007,-101.6,1.0,-1.8000000000000007,-12.799999999999997,-3.200000000000003,-0.6000000000000014,-0.6000000000000014,-2.0,40.80000000000001,2.0,2.1999999999999993,0.6000000000000014,-2.0,20.200000000000003,3.799999999999997,2.6000000000000014,2.0,2.0,-25.599999999999994,-0.6000000000000014,-6.599999999999994,0.0,1.3999999999999986,22.0,12.799999999999997,-0.1999999999999993,-8.0,-1.1999999999999993,0.0,1.3999999999999986,-1.3999999999999986,153.60000000000002,19.80000000000001,-6.599999999999994,28.200000000000003,0.0,-3.6000000000000014,33.799999999999955,0.3999999999999986,0.1999999999999993,-103.4,-40.19999999999999,-9.2,93.80000000000001,32.599999999999994,-7.599999999999994,-0.20000000000000284,-1.6000000000000014,3.0,0.3999999999999986,1.3999999999999986,-0.3999999999999986,6.799999999999997,2.1999999999999886,-2.3999999999999986,-1.3999999999999986,-1.1999999999999993,2.200000000000003,-56.19999999999999,10.200000000000003,-73.60000000000002,1.3999999999999986,1.6000000000000014,-8.0,2.0,0.0,-3.1999999999999993,11.0,2.1999999999999993,-1.3999999999999986,14.200000000000003,-0.3999999999999986,21.599999999999994,0.0,-25.19999999999999,-31.19999999999999,1.4000000000000057,2.0,0.0,0.0,-6.200000000000003,28.599999999999994,2.0,0.0,-4.799999999999997,0.7999999999999972,0.6000000000000014,-0.7999999999999972,-11.0,3.1999999999999993,4.0,-10.0,-4.800000000000011,-3.799999999999997,1.1999999999999993,8.399999999999999,2.200000000000003,-20.799999999999997,-33.2,4.799999999999997,5.600000000000001,-25.599999999999994,-1.8000000000000007,1.1999999999999993,-1.4000000000000057,7.599999999999994,14.200000000000003,4.200000000000003,-16.799999999999997,0.0,-0.1999999999999993,16.0,1.0,-28.0,-0.3999999999999986,-82.80000000000001,1.8000000000000007,117.20000000000005,0.6000000000000014,-3.0,0.0,-3.799999999999997,5.0,1.3999999999999986,-1.8000000000000007,-2.1999999999999993,6.200000000000003,-598.6,0.3999999999999986,58.60000000000002,0.6000000000000014,-86.60000000000002,-1.0,-1.0,-17.799999999999997]}},\"id\":\"2437f526-dece-4630-8a43-87ca112a4905\",\"type\":\"ColumnDataSource\"},{\"attributes\":{\"plot\":{\"id\":\"66f7a53f-6080-4d08-b172-b537905c573a\",\"subtype\":\"Figure\",\"type\":\"Plot\"}},\"id\":\"1761c552-02bd-4d82-9a49-792895647339\",\"type\":\"PanTool\"},{\"attributes\":{\"fill_alpha\":{\"value\":0.5},\"fill_color\":{\"value\":\"lightgrey\"},\"level\":\"overlay\",\"line_alpha\":{\"value\":1.0},\"line_color\":{\"value\":\"black\"},\"line_dash\":[4,4],\"line_width\":{\"value\":2},\"plot\":null,\"xs_units\":\"screen\",\"ys_units\":\"screen\"},\"id\":\"740bb095-335c-49b4-bfd6-48eaafeef9a5\",\"type\":\"PolyAnnotation\"},{\"attributes\":{\"fill_color\":{\"value\":\"#80B1D3\"},\"line_color\":{\"value\":\"#80B1D3\"},\"line_width\":{\"value\":3},\"x\":{\"field\":\"x\"},\"y\":{\"field\":\"y\"}},\"id\":\"5be88635-a8ec-403e-baa9-8e68d3667969\",\"type\":\"Circle\"},{\"attributes\":{\"callback\":null,\"plot\":{\"id\":\"66f7a53f-6080-4d08-b172-b537905c573a\",\"subtype\":\"Figure\",\"type\":\"Plot\"}},\"id\":\"a2ecc579-2f48-4f1d-bb8c-d30a3cbda00a\",\"type\":\"TapTool\"}],\"root_ids\":[\"66f7a53f-6080-4d08-b172-b537905c573a\"]},\"title\":\"Bokeh Application\",\"version\":\"0.12.2\"}};\n",
       "            var render_items = [{\"docid\":\"ad2ad927-8cc7-4b77-abd1-6217f9d5177b\",\"elementid\":\"b3bfb8ec-12b9-4f78-a583-fd7a68d17939\",\"modelid\":\"66f7a53f-6080-4d08-b172-b537905c573a\"}];\n",
       "            \n",
       "            Bokeh.embed.embed_items(docs_json, render_items);\n",
       "        });\n",
       "      },\n",
       "      function(Bokeh) {\n",
       "      }\n",
       "    ];\n",
       "  \n",
       "    function run_inline_js() {\n",
       "      \n",
       "      if ((window.Bokeh !== undefined) || (force === \"1\")) {\n",
       "        for (var i = 0; i < inline_js.length; i++) {\n",
       "          inline_js[i](window.Bokeh);\n",
       "        }if (force === \"1\") {\n",
       "          display_loaded();\n",
       "        }} else if (Date.now() < window._bokeh_timeout) {\n",
       "        setTimeout(run_inline_js, 100);\n",
       "      } else if (!window._bokeh_failed_load) {\n",
       "        console.log(\"Bokeh: BokehJS failed to load within specified timeout.\");\n",
       "        window._bokeh_failed_load = true;\n",
       "      } else if (!force) {\n",
       "        var cell = $(\"#b3bfb8ec-12b9-4f78-a583-fd7a68d17939\").parents('.cell').data().cell;\n",
       "        cell.output_area.append_execute_result(NB_LOAD_WARNING)\n",
       "      }\n",
       "  \n",
       "    }\n",
       "  \n",
       "    if (window._bokeh_is_loading === 0) {\n",
       "      console.log(\"Bokeh: BokehJS loaded, going straight to plotting\");\n",
       "      run_inline_js();\n",
       "    } else {\n",
       "      load_libs(js_urls, function() {\n",
       "        console.log(\"Bokeh: BokehJS plotting callback run at\", now());\n",
       "        run_inline_js();\n",
       "      });\n",
       "    }\n",
       "  }(this));\n",
       "</script>"
      ]
     },
     "metadata": {},
     "output_type": "display_data"
    }
   ],
   "source": [
    "# Plotining using bokeh\n",
    "#TOOLS = 'hover,box_zoom,box_select,crosshair,resize,reset,DecisionTreeRegressor_select,pan,save,poly_select,tap,wheel_zoom,undo'\n",
    "TOOLS = 'box_zoom,box_select,crosshair,resize,reset,lasso_select,pan,save,poly_select,tap,wheel_zoom,undo'\n",
    "p = figure(plot_width=500, plot_height=500, title=\"Residual plot on the training data\", tools=TOOLS)\n",
    "p.scatter(predicted, (predicted - Y),x=\"jjj\", marker=\"o\", color=\"#80B1D3\", line_width=3)\n",
    "p.title.align = \"center\"\n",
    "p.xaxis.axis_label = \"Predicted\"\n",
    "p.xaxis.axis_label_text_color = \"#aa6666\"\n",
    "#p.xaxis.axis_label_standoff = 30\n",
    "p.xaxis.major_tick_line_color = \"firebrick\"\n",
    "p.xaxis.major_tick_line_width = 3\n",
    "p.xaxis.minor_tick_line_color = \"orange\"\n",
    "p.yaxis.axis_label = \"Residuals\"\n",
    "p.yaxis.axis_label_text_font_style = \"italic\"\n",
    "p.yaxis.axis_label_text_color = \"#aa6666\"\n",
    "p.background_fill_color = \"beige\"\n",
    "p.background_fill_alpha = 0.5\n",
    "#p.line([2,38], [0, 0], line_dash=\"4 4\", line_width=2, color='red')\n",
    "show(p)"
   ]
  },
  {
   "cell_type": "markdown",
   "metadata": {},
   "source": [
    "## Pipeline"
   ]
  },
  {
   "cell_type": "markdown",
   "metadata": {},
   "source": [
    "The best to deliver the model by pipeline the operation then at deployment can be done in one model."
   ]
  },
  {
   "cell_type": "markdown",
   "metadata": {
    "collapsed": true
   },
   "source": [
    "  I used two ways to check the pipeline so any one can be fine"
   ]
  },
  {
   "cell_type": "code",
   "execution_count": 22,
   "metadata": {
    "collapsed": false
   },
   "outputs": [
    {
     "name": "stdout",
     "output_type": "stream",
     "text": [
      "0.983072933541\n",
      "Scoring according to mean_squared_error\n",
      "[ -9896.32705882   -550.31294118   -113.23294118   -659.37411765\n",
      "  -2424.83294118   -821.43294118   -135.82823529   -164.23        -3704.77\n",
      " -11622.0075    ]\n",
      "\n",
      " Mean      Standard deviation\n",
      "-3009.23      4043.87\n",
      "[ True  True  True  True  True  True  True]\n",
      "R-squared =  0.983072933541\n"
     ]
    }
   ],
   "source": [
    "# Use Pipeline\n",
    "# ANOVA \n",
    "from sklearn.pipeline import Pipeline\n",
    "from sklearn.feature_selection import SelectKBest, f_regression\n",
    "anova_filter = SelectKBest(f_regression, k=8)\n",
    "LR = BaggingRegressor(n_estimators = 5 )\n",
    "\n",
    "anova_LinReg = Pipeline([ ('anova', anova_filter), ('LinReg', LR)])\n",
    "# You can set the parameters using the names issued\n",
    "# For instance, fit using a k of 10 in the SelectKBest\n",
    "anova_LinReg.set_params(anova__k=8).fit(new_data, Y)\n",
    "prediction = anova_LinReg.predict(new_data)\n",
    "print anova_LinReg.score(new_data, Y)                        \n",
    "# getting the selected features chosen by anova_filter\n",
    "results = cross_validation.cross_val_score(anova_LinReg, new_data, Y, cv=kfold, scoring=scoring)\n",
    "print 'Scoring according to mean_squared_error'\n",
    "print results\n",
    "print '\\n Mean      Standard deviation'\n",
    "print(\"%.2f      %.2f\" % (results.mean(), results.std()))\n",
    "print anova_LinReg.named_steps['anova'].get_support()\n",
    "r_squared = r2_score(Y, prediction, multioutput='variance_weighted')\n",
    "print 'R-squared = ',r_squared"
   ]
  },
  {
   "cell_type": "code",
   "execution_count": 23,
   "metadata": {
    "collapsed": false
   },
   "outputs": [
    {
     "name": "stdout",
     "output_type": "stream",
     "text": [
      "R-squared =  0.988000074427\n"
     ]
    }
   ],
   "source": [
    "# Using make_pipeline\n",
    "from sklearn.pipeline import make_pipeline\n",
    "\n",
    "# ANOVA SVM-C\n",
    "# 1) anova filter, take 3 best ranked features\n",
    "anova_filter = SelectKBest(f_regression, k=8)\n",
    "anova_BaggingRegressorNoProcessing = make_pipeline( anova_filter, LR)\n",
    "anova_BaggingRegressorNoProcessing.fit(new_data, Y)\n",
    "prediction = anova_BaggingRegressorNoProcessing.predict(new_data)\n",
    "r_squared = r2_score(Y, prediction, multioutput='variance_weighted')\n",
    "print 'R-squared = ',r_squared"
   ]
  },
  {
   "cell_type": "markdown",
   "metadata": {},
   "source": [
    "### Save the Pipeline model for developement"
   ]
  },
  {
   "cell_type": "code",
   "execution_count": 24,
   "metadata": {
    "collapsed": false
   },
   "outputs": [
    {
     "data": {
      "text/plain": [
       "['anova_BaggingRegressorNoProcessing.pkl',\n",
       " 'anova_BaggingRegressorNoProcessing.pkl_01.npy',\n",
       " 'anova_BaggingRegressorNoProcessing.pkl_02.npy',\n",
       " 'anova_BaggingRegressorNoProcessing.pkl_03.npy',\n",
       " 'anova_BaggingRegressorNoProcessing.pkl_04.npy',\n",
       " 'anova_BaggingRegressorNoProcessing.pkl_05.npy',\n",
       " 'anova_BaggingRegressorNoProcessing.pkl_06.npy',\n",
       " 'anova_BaggingRegressorNoProcessing.pkl_07.npy',\n",
       " 'anova_BaggingRegressorNoProcessing.pkl_08.npy',\n",
       " 'anova_BaggingRegressorNoProcessing.pkl_09.npy',\n",
       " 'anova_BaggingRegressorNoProcessing.pkl_10.npy',\n",
       " 'anova_BaggingRegressorNoProcessing.pkl_11.npy',\n",
       " 'anova_BaggingRegressorNoProcessing.pkl_12.npy',\n",
       " 'anova_BaggingRegressorNoProcessing.pkl_13.npy',\n",
       " 'anova_BaggingRegressorNoProcessing.pkl_14.npy',\n",
       " 'anova_BaggingRegressorNoProcessing.pkl_15.npy',\n",
       " 'anova_BaggingRegressorNoProcessing.pkl_16.npy',\n",
       " 'anova_BaggingRegressorNoProcessing.pkl_17.npy',\n",
       " 'anova_BaggingRegressorNoProcessing.pkl_18.npy',\n",
       " 'anova_BaggingRegressorNoProcessing.pkl_19.npy',\n",
       " 'anova_BaggingRegressorNoProcessing.pkl_20.npy',\n",
       " 'anova_BaggingRegressorNoProcessing.pkl_21.npy',\n",
       " 'anova_BaggingRegressorNoProcessing.pkl_22.npy',\n",
       " 'anova_BaggingRegressorNoProcessing.pkl_23.npy',\n",
       " 'anova_BaggingRegressorNoProcessing.pkl_24.npy',\n",
       " 'anova_BaggingRegressorNoProcessing.pkl_25.npy',\n",
       " 'anova_BaggingRegressorNoProcessing.pkl_26.npy',\n",
       " 'anova_BaggingRegressorNoProcessing.pkl_27.npy']"
      ]
     },
     "execution_count": 24,
     "metadata": {},
     "output_type": "execute_result"
    }
   ],
   "source": [
    "# save the model scaler to the desk\n",
    "from sklearn.externals import joblib\n",
    "joblib.dump(anova_BaggingRegressorNoProcessing, 'anova_BaggingRegressorNoProcessing.pkl') "
   ]
  },
  {
   "cell_type": "code",
   "execution_count": 25,
   "metadata": {
    "collapsed": false
   },
   "outputs": [
    {
     "name": "stdout",
     "output_type": "stream",
     "text": [
      " =================================================================>>>>> done\n",
      "R-squared =  0.988000074427\n"
     ]
    }
   ],
   "source": [
    "# Test the model if it is work\n",
    "anova_DecisionTreeRegressorTest = joblib.load('anova_BaggingRegressorNoProcessing.pkl')\n",
    "NewPred = anova_DecisionTreeRegressorTest.predict(new_data)\n",
    "print \" =================================================================>>>>> done\"\n",
    "r_squared = r2_score(Y, NewPred, multioutput='variance_weighted')\n",
    "print 'R-squared = ',r_squared"
   ]
  },
  {
   "cell_type": "code",
   "execution_count": 26,
   "metadata": {
    "collapsed": false
   },
   "outputs": [
    {
     "name": "stdout",
     "output_type": "stream",
     "text": [
      "Point of training data before normalization\n",
      "[   50  2000 32000    24     6    26   114]\n",
      "\n",
      "The read target of the data =  182\n",
      "\n",
      "The Predicted target of the data =  [ 180.6]\n"
     ]
    }
   ],
   "source": [
    "# test on single data point, randomly choose point number 55\n",
    "print 'Point of training data before normalization\\n',new_data[55]\n",
    "print '\\nThe read target of the data = ', Y[55]\n",
    "NewPred = anova_DecisionTreeRegressorTest.predict([new_data[55]])\n",
    "print '\\nThe Predicted target of the data = ', NewPred"
   ]
  },
  {
   "cell_type": "markdown",
   "metadata": {},
   "source": [
    "## Conclusion "
   ]
  },
  {
   "cell_type": "code",
   "execution_count": null,
   "metadata": {
    "collapsed": true
   },
   "outputs": [],
   "source": []
  }
 ],
 "metadata": {
  "kernelspec": {
   "display_name": "Python 2",
   "language": "python",
   "name": "python2"
  },
  "language_info": {
   "codemirror_mode": {
    "name": "ipython",
    "version": 2
   },
   "file_extension": ".py",
   "mimetype": "text/x-python",
   "name": "python",
   "nbconvert_exporter": "python",
   "pygments_lexer": "ipython2",
   "version": "2.7.12"
  }
 },
 "nbformat": 4,
 "nbformat_minor": 0
}
