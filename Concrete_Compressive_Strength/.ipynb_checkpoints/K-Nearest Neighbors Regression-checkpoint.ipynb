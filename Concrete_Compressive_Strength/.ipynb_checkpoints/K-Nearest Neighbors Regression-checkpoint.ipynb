{
 "cells": [
  {
   "cell_type": "markdown",
   "metadata": {},
   "source": [
    "Salem Ameen, PhD student at Salford University\n",
    "\n",
    "### Concrete Compressive Strength Data Set\n",
    "\n",
    "\n",
    "K-Nearest Neighbors Regression"
   ]
  },
  {
   "cell_type": "markdown",
   "metadata": {},
   "source": [
    "# Import the Libraries"
   ]
  },
  {
   "cell_type": "code",
   "execution_count": 1,
   "metadata": {
    "collapsed": false
   },
   "outputs": [
    {
     "data": {
      "text/html": [
       "\n",
       "    <div class=\"bk-root\">\n",
       "        <a href=\"http://bokeh.pydata.org\" target=\"_blank\" class=\"bk-logo bk-logo-small bk-logo-notebook\"></a>\n",
       "        <span id=\"619693cb-64c7-42ce-a394-f5a46bab5192\">Loading BokehJS ...</span>\n",
       "    </div>"
      ]
     },
     "metadata": {},
     "output_type": "display_data"
    },
    {
     "data": {
      "application/javascript": [
       "\n",
       "(function(global) {\n",
       "  function now() {\n",
       "    return new Date();\n",
       "  }\n",
       "\n",
       "  var force = \"1\";\n",
       "\n",
       "  if (typeof (window._bokeh_onload_callbacks) === \"undefined\" || force !== \"\") {\n",
       "    window._bokeh_onload_callbacks = [];\n",
       "    window._bokeh_is_loading = undefined;\n",
       "  }\n",
       "\n",
       "\n",
       "  \n",
       "  if (typeof (window._bokeh_timeout) === \"undefined\" || force !== \"\") {\n",
       "    window._bokeh_timeout = Date.now() + 5000;\n",
       "    window._bokeh_failed_load = false;\n",
       "  }\n",
       "\n",
       "  var NB_LOAD_WARNING = {'data': {'text/html':\n",
       "     \"<div style='background-color: #fdd'>\\n\"+\n",
       "     \"<p>\\n\"+\n",
       "     \"BokehJS does not appear to have successfully loaded. If loading BokehJS from CDN, this \\n\"+\n",
       "     \"may be due to a slow or bad network connection. Possible fixes:\\n\"+\n",
       "     \"</p>\\n\"+\n",
       "     \"<ul>\\n\"+\n",
       "     \"<li>re-rerun `output_notebook()` to attempt to load from CDN again, or</li>\\n\"+\n",
       "     \"<li>use INLINE resources instead, as so:</li>\\n\"+\n",
       "     \"</ul>\\n\"+\n",
       "     \"<code>\\n\"+\n",
       "     \"from bokeh.resources import INLINE\\n\"+\n",
       "     \"output_notebook(resources=INLINE)\\n\"+\n",
       "     \"</code>\\n\"+\n",
       "     \"</div>\"}};\n",
       "\n",
       "  function display_loaded() {\n",
       "    if (window.Bokeh !== undefined) {\n",
       "      Bokeh.$(\"#619693cb-64c7-42ce-a394-f5a46bab5192\").text(\"BokehJS successfully loaded.\");\n",
       "    } else if (Date.now() < window._bokeh_timeout) {\n",
       "      setTimeout(display_loaded, 100)\n",
       "    }\n",
       "  }\n",
       "\n",
       "  function run_callbacks() {\n",
       "    window._bokeh_onload_callbacks.forEach(function(callback) { callback() });\n",
       "    delete window._bokeh_onload_callbacks\n",
       "    console.info(\"Bokeh: all callbacks have finished\");\n",
       "  }\n",
       "\n",
       "  function load_libs(js_urls, callback) {\n",
       "    window._bokeh_onload_callbacks.push(callback);\n",
       "    if (window._bokeh_is_loading > 0) {\n",
       "      console.log(\"Bokeh: BokehJS is being loaded, scheduling callback at\", now());\n",
       "      return null;\n",
       "    }\n",
       "    if (js_urls == null || js_urls.length === 0) {\n",
       "      run_callbacks();\n",
       "      return null;\n",
       "    }\n",
       "    console.log(\"Bokeh: BokehJS not loaded, scheduling load and callback at\", now());\n",
       "    window._bokeh_is_loading = js_urls.length;\n",
       "    for (var i = 0; i < js_urls.length; i++) {\n",
       "      var url = js_urls[i];\n",
       "      var s = document.createElement('script');\n",
       "      s.src = url;\n",
       "      s.async = false;\n",
       "      s.onreadystatechange = s.onload = function() {\n",
       "        window._bokeh_is_loading--;\n",
       "        if (window._bokeh_is_loading === 0) {\n",
       "          console.log(\"Bokeh: all BokehJS libraries loaded\");\n",
       "          run_callbacks()\n",
       "        }\n",
       "      };\n",
       "      s.onerror = function() {\n",
       "        console.warn(\"failed to load library \" + url);\n",
       "      };\n",
       "      console.log(\"Bokeh: injecting script tag for BokehJS library: \", url);\n",
       "      document.getElementsByTagName(\"head\")[0].appendChild(s);\n",
       "    }\n",
       "  };var element = document.getElementById(\"619693cb-64c7-42ce-a394-f5a46bab5192\");\n",
       "  if (element == null) {\n",
       "    console.log(\"Bokeh: ERROR: autoload.js configured with elementid '619693cb-64c7-42ce-a394-f5a46bab5192' but no matching script tag was found. \")\n",
       "    return false;\n",
       "  }\n",
       "\n",
       "  var js_urls = ['https://cdn.pydata.org/bokeh/release/bokeh-0.12.2.min.js', 'https://cdn.pydata.org/bokeh/release/bokeh-widgets-0.12.2.min.js', 'https://cdn.pydata.org/bokeh/release/bokeh-compiler-0.12.2.min.js'];\n",
       "\n",
       "  var inline_js = [\n",
       "    function(Bokeh) {\n",
       "      Bokeh.set_log_level(\"info\");\n",
       "    },\n",
       "    \n",
       "    function(Bokeh) {\n",
       "      \n",
       "      Bokeh.$(\"#619693cb-64c7-42ce-a394-f5a46bab5192\").text(\"BokehJS is loading...\");\n",
       "    },\n",
       "    function(Bokeh) {\n",
       "      console.log(\"Bokeh: injecting CSS: https://cdn.pydata.org/bokeh/release/bokeh-0.12.2.min.css\");\n",
       "      Bokeh.embed.inject_css(\"https://cdn.pydata.org/bokeh/release/bokeh-0.12.2.min.css\");\n",
       "      console.log(\"Bokeh: injecting CSS: https://cdn.pydata.org/bokeh/release/bokeh-widgets-0.12.2.min.css\");\n",
       "      Bokeh.embed.inject_css(\"https://cdn.pydata.org/bokeh/release/bokeh-widgets-0.12.2.min.css\");\n",
       "    }\n",
       "  ];\n",
       "\n",
       "  function run_inline_js() {\n",
       "    \n",
       "    if ((window.Bokeh !== undefined) || (force === \"1\")) {\n",
       "      for (var i = 0; i < inline_js.length; i++) {\n",
       "        inline_js[i](window.Bokeh);\n",
       "      }if (force === \"1\") {\n",
       "        display_loaded();\n",
       "      }} else if (Date.now() < window._bokeh_timeout) {\n",
       "      setTimeout(run_inline_js, 100);\n",
       "    } else if (!window._bokeh_failed_load) {\n",
       "      console.log(\"Bokeh: BokehJS failed to load within specified timeout.\");\n",
       "      window._bokeh_failed_load = true;\n",
       "    } else if (!force) {\n",
       "      var cell = $(\"#619693cb-64c7-42ce-a394-f5a46bab5192\").parents('.cell').data().cell;\n",
       "      cell.output_area.append_execute_result(NB_LOAD_WARNING)\n",
       "    }\n",
       "\n",
       "  }\n",
       "\n",
       "  if (window._bokeh_is_loading === 0) {\n",
       "    console.log(\"Bokeh: BokehJS loaded, going straight to plotting\");\n",
       "    run_inline_js();\n",
       "  } else {\n",
       "    load_libs(js_urls, function() {\n",
       "      console.log(\"Bokeh: BokehJS plotting callback run at\", now());\n",
       "      run_inline_js();\n",
       "    });\n",
       "  }\n",
       "}(this));"
      ]
     },
     "metadata": {},
     "output_type": "display_data"
    }
   ],
   "source": [
    "import numpy as np\n",
    "import pandas\n",
    "from numpy import *\n",
    "import time\n",
    "import sys\n",
    "import pandas as pd\n",
    "import matplotlib.pyplot as plt\n",
    "from sklearn import feature_selection\n",
    "from sklearn.neighbors import KNeighborsRegressor\n",
    "from sklearn.learning_curve import learning_curve, validation_curve\n",
    "from sklearn.cross_validation import cross_val_predict\n",
    "from sklearn import metrics, grid_search, cross_validation\n",
    "from IPython.display import set_matplotlib_formats\n",
    "from bokeh.plotting import figure, show, output_notebook\n",
    "from sklearn.grid_search import GridSearchCV, RandomizedSearchCV\n",
    "from sklearn.metrics import r2_score\n",
    "from bokeh.layouts import gridplot\n",
    "output_notebook()\n",
    "set_matplotlib_formats('png', 'pdf')\n",
    "%matplotlib inline\n",
    "plt.rcParams['figure.figsize'] = (6, 6)"
   ]
  },
  {
   "cell_type": "markdown",
   "metadata": {},
   "source": [
    "# Load data"
   ]
  },
  {
   "cell_type": "markdown",
   "metadata": {},
   "source": [
    "In the previous file we have not change the data as there is no missing value or add any new parameters so it can be downloaded from the web directly. "
   ]
  },
  {
   "cell_type": "code",
   "execution_count": 2,
   "metadata": {
    "collapsed": false
   },
   "outputs": [
    {
     "name": "stdout",
     "output_type": "stream",
     "text": [
      "Number of examples 1030\n"
     ]
    }
   ],
   "source": [
    "names = ['Cement','BlastFurnace','Fly_Ash','Water','Superplasticizer','CoarseAggregate','Aggregate','day','Concrete']\n",
    "feature_names = names\n",
    "feature_cols = names\n",
    "\n",
    "data = pd.read_excel('Concrete_Data.xls', sep='%s')\n",
    "\n",
    "from sklearn import preprocessing\n",
    "\n",
    "def number_encode_features(df):\n",
    "    result = df.copy()\n",
    "    encoders = {}\n",
    "    for column in result.columns:\n",
    "        if result.dtypes[column] == np.object:\n",
    "            encoders[column] = preprocessing.LabelEncoder()\n",
    "            result[column] = encoders[column].fit_transform(result[column])\n",
    "    return result, encoders\n",
    "\n",
    "data, _ = number_encode_features(data)\n",
    "\n",
    "dataset = data.values\n",
    "X = dataset[:,0:8]\n",
    "Y = dataset[:,8]\n",
    "print 'Number of examples',len(X)"
   ]
  },
  {
   "cell_type": "code",
   "execution_count": 3,
   "metadata": {
    "collapsed": false
   },
   "outputs": [
    {
     "name": "stdout",
     "output_type": "stream",
     "text": [
      "Number of training examples 824\n",
      "Number of validation examples 206\n"
     ]
    }
   ],
   "source": [
    "# Make developement dataset for genrilization and final testing\n",
    "from sklearn.cross_validation import train_test_split\n",
    "# Extracting 20% testing data\n",
    "X_train, X_test, y_train, y_test = train_test_split(\n",
    "    X, Y, test_size=0.20, random_state=0)\n",
    "X = X_train\n",
    "Y = y_train\n",
    "new_data      = X_train\n",
    "new_test_data = X_test\n",
    "print 'Number of training examples',len(X_train)\n",
    "print 'Number of validation examples',len(X_test)"
   ]
  },
  {
   "cell_type": "markdown",
   "metadata": {},
   "source": [
    "Number of training data is very small so we need to use cross validation instead of spareate another validation data."
   ]
  },
  {
   "cell_type": "markdown",
   "metadata": {},
   "source": [
    "From the previous visulization the data has no missing value but has many outlier and some sparisty"
   ]
  },
  {
   "cell_type": "markdown",
   "metadata": {},
   "source": [
    "# Ranking of the feature's importance to the target"
   ]
  },
  {
   "cell_type": "code",
   "execution_count": 4,
   "metadata": {
    "collapsed": false
   },
   "outputs": [
    {
     "name": "stdout",
     "output_type": "stream",
     "text": [
      "Cement \t0.471959552987\n",
      "BlastFurnace \t0.262467526509\n",
      "Fly_Ash \t0.0944017208537\n",
      "Water \t0.41417847366\n",
      "Superplasticizer \t0.173996522725\n",
      "CoarseAggregate \t0.42636289749\n",
      "Aggregate \t0.413201857319\n",
      "day \t0.342497918682\n",
      "Concrete \t0.999960439921\n"
     ]
    }
   ],
   "source": [
    "# Using just correlation coefficient even in prevoius file we show them using data frame\n",
    "for col in feature_cols:\n",
    "    lm = KNeighborsRegressor()\n",
    "    lm.fit(data[[col]], data['Concrete'])\n",
    "    print col,'\\t', lm.score(data[[col]], data['Concrete'])"
   ]
  },
  {
   "cell_type": "code",
   "execution_count": 5,
   "metadata": {
    "collapsed": false
   },
   "outputs": [
    {
     "name": "stdout",
     "output_type": "stream",
     "text": [
      "Feature Name      Score         Pvalue\n",
      "Cement \t\t338.725793692 \t1.32345794884e-65\n",
      "BlastFurnace \t\t19.0325717427 \t1.41457498978e-05\n",
      "Fly_Ash \t\t11.6269492436 \t0.000675283559617\n",
      "Water \t\t94.1187973071 \t2.3660726996e-21\n",
      "Superplasticizer \t\t159.109321731 \t5.07908923638e-34\n",
      "CoarseAggregate \t\t28.7447095672 \t1.01959722248e-07\n",
      "Aggregate \t\t29.5829376115 \t6.69468148289e-08\n",
      "day \t\t124.673209261 \t2.10314421454e-27\n",
      "Concrete \t\t-2.31485020847e+18 \t1.0\n"
     ]
    }
   ],
   "source": [
    "# Randing the important features to the target\n",
    "model = feature_selection.SelectKBest(score_func=feature_selection.f_regression,k=4)\n",
    "results = model.fit(data[feature_cols], data['Concrete'])\n",
    "k=0\n",
    "print 'Feature Name      Score         Pvalue'\n",
    "for feat in feature_cols:\n",
    "    print feat,'\\t\\t',results.scores_[k],'\\t',results.pvalues_[k]\n",
    "    k=k+1\n"
   ]
  },
  {
   "cell_type": "markdown",
   "metadata": {},
   "source": [
    "# Set the parameters for cross validation"
   ]
  },
  {
   "cell_type": "code",
   "execution_count": 6,
   "metadata": {
    "collapsed": true
   },
   "outputs": [],
   "source": [
    "num_folds = 10\n",
    "num_instances = len(X)\n",
    "seed = 7\n",
    "kfold = cross_validation.KFold(n=num_instances, n_folds=num_folds, random_state=seed)"
   ]
  },
  {
   "cell_type": "markdown",
   "metadata": {},
   "source": [
    " # Set the parameters for bias-variance dilemma"
   ]
  },
  {
   "cell_type": "code",
   "execution_count": 7,
   "metadata": {
    "collapsed": false
   },
   "outputs": [],
   "source": [
    "def plot_learning_curve(estimator, title, X, y, ylim=None, cv=None,\n",
    "                        n_jobs=1, train_sizes=np.linspace(.1, 1.0, 5)):\n",
    "    plt.figure()\n",
    "    plt.title(title)\n",
    "    if ylim is not None:\n",
    "        plt.ylim(*ylim)\n",
    "    plt.xlabel(\"Training examples\")\n",
    "    plt.ylabel(\"Score\")\n",
    "    train_sizes, train_scores, test_scores = learning_curve(\n",
    "        estimator, X, y, cv=cv, n_jobs=n_jobs, train_sizes=train_sizes)\n",
    "    train_scores_mean = np.mean(train_scores, axis=1)\n",
    "    train_scores_std = np.std(train_scores, axis=1)\n",
    "    test_scores_mean = np.mean(test_scores, axis=1)\n",
    "    test_scores_std = np.std(test_scores, axis=1)\n",
    "    plt.grid()\n",
    "\n",
    "    plt.fill_between(train_sizes, train_scores_mean - train_scores_std,\n",
    "                     train_scores_mean + train_scores_std, alpha=0.1,\n",
    "                     color=\"r\")\n",
    "    plt.fill_between(train_sizes, test_scores_mean - test_scores_std,\n",
    "                     test_scores_mean + test_scores_std, alpha=0.1, color=\"g\")\n",
    "    plt.plot(train_sizes, train_scores_mean, 'o-', color=\"r\",\n",
    "             label=\"Training score\")\n",
    "    plt.plot(train_sizes, test_scores_mean, 'o-', color=\"g\",\n",
    "             label=\"Cross-validation score\")\n",
    "\n",
    "    plt.legend(loc=\"best\")\n",
    "    return plt"
   ]
  },
  {
   "cell_type": "markdown",
   "metadata": {},
   "source": [
    "# Preprocessing the data and save both the model and preprocessed data"
   ]
  },
  {
   "cell_type": "code",
   "execution_count": 8,
   "metadata": {
    "collapsed": false
   },
   "outputs": [],
   "source": [
    "# According to the nature of the data spasity and there is outliter RobustScaler class is recomandit \n",
    "# but when I tried both of them the result seems is same\n",
    "from sklearn.preprocessing import StandardScaler\n",
    "scaler = preprocessing.StandardScaler().fit(X_train)"
   ]
  },
  {
   "cell_type": "code",
   "execution_count": 9,
   "metadata": {
    "collapsed": false
   },
   "outputs": [],
   "source": [
    "X_train = scaler.transform(X_train)\n",
    "X_test = scaler.transform(X_test) # use same transform for testing data\n",
    "X = X_train"
   ]
  },
  {
   "cell_type": "code",
   "execution_count": 10,
   "metadata": {
    "collapsed": true
   },
   "outputs": [],
   "source": [
    "# save transformed data\n",
    "np.save('./data/X_train', X_train)\n",
    "np.save('./data/y_train', y_train)\n",
    "np.save('./data/X_test', X_test)\n",
    "np.save('./data/y_test', y_test)"
   ]
  },
  {
   "cell_type": "code",
   "execution_count": 11,
   "metadata": {
    "collapsed": false
   },
   "outputs": [
    {
     "data": {
      "text/plain": [
       "['scaler.pkl', 'scaler.pkl_01.npy', 'scaler.pkl_02.npy', 'scaler.pkl_03.npy']"
      ]
     },
     "execution_count": 11,
     "metadata": {},
     "output_type": "execute_result"
    }
   ],
   "source": [
    "# save the model scaler to the desk\n",
    "from sklearn.externals import joblib\n",
    "joblib.dump(scaler, 'scaler.pkl') "
   ]
  },
  {
   "cell_type": "code",
   "execution_count": 12,
   "metadata": {
    "collapsed": false
   },
   "outputs": [
    {
     "name": "stdout",
     "output_type": "stream",
     "text": [
      " =================================================================>>>>> done\n",
      "[[ 2.10991518 -0.88106119 -0.84617062 ...,  1.97132825 -1.97556016\n",
      "  -0.69267849]\n",
      " [-1.49852146  1.2030767  -0.84617062 ..., -0.17456898  0.33209718\n",
      "  -0.62793264]\n",
      " [ 0.79619183  1.26087498 -0.84617062 ..., -0.34824772 -0.21429096\n",
      "   0.7317303 ]\n",
      " ..., \n",
      " [-1.01146856 -0.31384476  1.84556404 ...,  0.4429554   0.25069398\n",
      "  -0.51462739]\n",
      " [-0.16567549  0.37690132  0.48783031 ..., -0.98764276 -0.495502   -0.2880169 ]\n",
      " [-0.28041116 -0.88106119  0.63813809 ..., -0.19180821  1.08532344\n",
      "  -0.69267849]]\n"
     ]
    }
   ],
   "source": [
    "# Test the model if it is work\n",
    "scalerTest = joblib.load('scaler.pkl')\n",
    "new_data_scaled = scalerTest.transform(new_test_data)\n",
    "print \" =================================================================>>>>> done\"\n",
    "print new_data_scaled"
   ]
  },
  {
   "cell_type": "markdown",
   "metadata": {},
   "source": [
    "# 1. KNeighborsRegressor Regression"
   ]
  },
  {
   "cell_type": "markdown",
   "metadata": {},
   "source": [
    "K-Nearest Neighbors (or KNN) locates the K most similar instances in the training dataset for a new data instance. From the K neighbors, a mean or median output variable is taken as the prediction. Of note is the distance metric used (the metric argument). The Minkowski distance is used by default, which is a generalization of both the Euclidean distance (used when all inputs have the same scale) and Manhattan distance (for when the scales of the input variables differ)."
   ]
  },
  {
   "cell_type": "markdown",
   "metadata": {},
   "source": [
    "## Validation curve"
   ]
  },
  {
   "cell_type": "markdown",
   "metadata": {},
   "source": [
    "choosing multiple hyperparameters of an estimator "
   ]
  },
  {
   "cell_type": "code",
   "execution_count": 13,
   "metadata": {
    "collapsed": false
   },
   "outputs": [
    {
     "data": {
      "text/plain": [
       "['n_neighbors',\n",
       " 'n_jobs',\n",
       " 'algorithm',\n",
       " 'metric',\n",
       " 'metric_params',\n",
       " 'p',\n",
       " 'weights',\n",
       " 'leaf_size']"
      ]
     },
     "execution_count": 13,
     "metadata": {},
     "output_type": "execute_result"
    }
   ],
   "source": [
    "from sklearn.neighbors import KNeighborsRegressor\n",
    "estimator = KNeighborsRegressor()\n",
    "estimator.get_params().keys()"
   ]
  },
  {
   "cell_type": "code",
   "execution_count": 14,
   "metadata": {
    "collapsed": false
   },
   "outputs": [
    {
     "name": "stdout",
     "output_type": "stream",
     "text": [
      "[3 4 5 6]\n"
     ]
    }
   ],
   "source": [
    "print  np.arange(3,7)\n",
    "\n",
    " \n"
   ]
  },
  {
   "cell_type": "code",
   "execution_count": 15,
   "metadata": {
    "collapsed": false
   },
   "outputs": [
    {
     "data": {
      "image/png": "[encoded data removed]",
      "text/plain": [
       "<matplotlib.figure.Figure at 0x7f3ba4549910>"
      ]
     },
     "metadata": {},
     "output_type": "display_data"
    }
   ],
   "source": [
    "# For parametr alpha\n",
    "#param_range = np.logspace(-10.0, 10.0)\n",
    "#param_range = np.linspace(1,50,100)\n",
    "param_range = np.arange(1,50) # generate integer numbers\n",
    "\n",
    "train_scores, test_scores = validation_curve(\n",
    "    KNeighborsRegressor(), X, Y, param_name=\"n_neighbors\", param_range=param_range,\n",
    "    cv=num_folds,  n_jobs=-1)\n",
    "train_scores_mean = np.mean(train_scores, axis=1)\n",
    "train_scores_std = np.std(train_scores, axis=1)\n",
    "test_scores_mean = np.mean(test_scores, axis=1)\n",
    "test_scores_std = np.std(test_scores, axis=1)\n",
    "\n",
    "plt.title(\"Validation Curve with KNeighborsRegressor\")\n",
    "plt.xlabel(\"n_neighbors\")\n",
    "plt.ylabel(\"Score\")\n",
    "plt.ylim(0.4, 1.0)\n",
    "plt.plot(param_range, train_scores_mean, label=\"Training score\", color=\"r\")\n",
    "plt.fill_between(param_range, train_scores_mean - train_scores_std,\n",
    "                 train_scores_mean + train_scores_std, alpha=0.2, color=\"r\")\n",
    "plt.plot(param_range, test_scores_mean, label=\"Cross-validation score\",\n",
    "             color=\"g\")\n",
    "plt.fill_between(param_range, test_scores_mean - test_scores_std,\n",
    "                 test_scores_mean + test_scores_std, alpha=0.2, color=\"g\")\n",
    "plt.legend(loc=\"best\")\n",
    "plt.show()"
   ]
  },
  {
   "cell_type": "markdown",
   "metadata": {},
   "source": [
    "Less that 10 is the best of number of K"
   ]
  },
  {
   "cell_type": "code",
   "execution_count": 16,
   "metadata": {
    "collapsed": false
   },
   "outputs": [
    {
     "data": {
      "image/png": "[encoded data removed]",
      "text/plain": [
       "<matplotlib.figure.Figure at 0x7f3ba459b210>"
      ]
     },
     "metadata": {},
     "output_type": "display_data"
    }
   ],
   "source": [
    "# For parametr alpha\n",
    "#param_range = np.logspace(-10.0, 10.0)\n",
    "#param_range = np.linspace(1,50,100)\n",
    "param_range = np.arange(1,100) # generate integer numbers\n",
    "\n",
    "train_scores, test_scores = validation_curve(\n",
    "    KNeighborsRegressor(), X, Y, param_name=\"leaf_size\", param_range=param_range,\n",
    "    cv=num_folds,  n_jobs=-1)\n",
    "train_scores_mean = np.mean(train_scores, axis=1)\n",
    "train_scores_std = np.std(train_scores, axis=1)\n",
    "test_scores_mean = np.mean(test_scores, axis=1)\n",
    "test_scores_std = np.std(test_scores, axis=1)\n",
    "\n",
    "plt.title(\"Validation Curve with KNeighborsRegressor\")\n",
    "plt.xlabel(\"leaf_size\")\n",
    "plt.ylabel(\"Score\")\n",
    "plt.ylim(0.4, 1.0)\n",
    "plt.plot(param_range, train_scores_mean, label=\"Training score\", color=\"r\")\n",
    "plt.fill_between(param_range, train_scores_mean - train_scores_std,\n",
    "                 train_scores_mean + train_scores_std, alpha=0.2, color=\"r\")\n",
    "plt.plot(param_range, test_scores_mean, label=\"Cross-validation score\",\n",
    "             color=\"g\")\n",
    "plt.fill_between(param_range, test_scores_mean - test_scores_std,\n",
    "                 test_scores_mean + test_scores_std, alpha=0.2, color=\"g\")\n",
    "plt.legend(loc=\"best\")\n",
    "plt.show()"
   ]
  },
  {
   "cell_type": "markdown",
   "metadata": {},
   "source": [
    "leaf_size does not effect so will keep the defulte one which is 30"
   ]
  },
  {
   "cell_type": "markdown",
   "metadata": {},
   "source": [
    "## Grid search and/or Random search to determine best compination of parameters"
   ]
  },
  {
   "cell_type": "code",
   "execution_count": 17,
   "metadata": {
    "collapsed": false
   },
   "outputs": [
    {
     "name": "stdout",
     "output_type": "stream",
     "text": [
      "Hyperparameter optimization using GridSearchCV...\n",
      "Parameters with rank: 1\n",
      "Mean validation score: 0.6965 (std: 0.0694)\n",
      "Parameters: {'n_neighbors': 5, 'algorithm': 'brute'}\n",
      "\n",
      "Parameters with rank: 2\n",
      "Mean validation score: 0.6947 (std: 0.0693)\n",
      "Parameters: {'n_neighbors': 5, 'algorithm': 'auto'}\n",
      "\n",
      "Parameters with rank: 3\n",
      "Mean validation score: 0.6947 (std: 0.0693)\n",
      "Parameters: {'n_neighbors': 5, 'algorithm': 'kd_tree'}\n",
      "\n",
      "Parameters with rank: 4\n",
      "Mean validation score: 0.6947 (std: 0.0692)\n",
      "Parameters: {'n_neighbors': 5, 'algorithm': 'ball_tree'}\n",
      "\n",
      "Parameters with rank: 5\n",
      "Mean validation score: 0.6700 (std: 0.0696)\n",
      "Parameters: {'n_neighbors': 1, 'algorithm': 'brute'}\n",
      "\n",
      "+++++++++++++++++++++++++++++++++++++++++++++++\n",
      "Hyperparameter optimization using RandomizedSearchCV\n",
      "Parameters with rank: 1\n",
      "Mean validation score: 0.6644 (std: 0.0708)\n",
      "Parameters: {'n_neighbors': 1, 'algorithm': 'kd_tree'}\n",
      "\n"
     ]
    }
   ],
   "source": [
    "# Utility function to report optimal parameters\n",
    "from operator import itemgetter\n",
    "def report(grid_scores, n_top=5):\n",
    "    params = None\n",
    "    top_scores = sorted(grid_scores, key=itemgetter(1), reverse=True)[:n_top]\n",
    "    for i, score in enumerate(top_scores):\n",
    "        print(\"Parameters with rank: {0}\".format(i + 1))\n",
    "        print(\"Mean validation score: {0:.4f} (std: {1:.4f})\".format(\n",
    "              score.mean_validation_score, np.std(score.cv_validation_scores)))\n",
    "        print(\"Parameters: {0}\".format(score.parameters))\n",
    "        print(\"\")\n",
    "        \n",
    "        if params == None:\n",
    "            params = score.parameters\n",
    "    \n",
    "    return params\n",
    "\n",
    "# The most common value for the max number of features to look at in each split is sqrt(# of features)\n",
    "sqrtfeat = np.sqrt(X.shape[1]) \n",
    "# Simple grid test (162 combinations)\n",
    "grid_test1 = { \"n_neighbors\"      : [1,5,10],\n",
    "                \"algorithm\"      : [\"auto\", \"ball_tree\", \"kd_tree\", \"brute\"]}\n",
    "\n",
    "# Large randomized test using max_depth to control tree size (5000 possible combinations)\n",
    "random_test1 = { \"n_neighbors\"      : np.arange(1,2),\n",
    "                \"algorithm\"      : [\"auto\", \"ball_tree\", \"kd_tree\", \"brute\"]}\n",
    "\n",
    "\n",
    "forest = KNeighborsRegressor()\n",
    "\n",
    "print \"Hyperparameter optimization using GridSearchCV...\"\n",
    "grid_search = GridSearchCV(forest, grid_test1, n_jobs=-1, cv=num_folds)\n",
    "grid_search.fit(X, Y)\n",
    "best_params_from_grid_search = report(grid_search.grid_scores_)\n",
    "print '+++++++++++++++++++++++++++++++++++++++++++++++'\n",
    "print \"Hyperparameter optimization using RandomizedSearchCV\"\n",
    "grid_search = RandomizedSearchCV(forest, random_test1, n_jobs=-1, cv=num_folds, n_iter=1)\n",
    "grid_search.fit(X, Y)\n",
    "best_params_from_rand_search1 = report(grid_search.grid_scores_)"
   ]
  },
  {
   "cell_type": "markdown",
   "metadata": {},
   "source": [
    "Best parameters Parameters: Parameters: Parameters: {'n_neighbors': 4, 'algorithm': 'kd_tree'}\n",
    "\n"
   ]
  },
  {
   "cell_type": "markdown",
   "metadata": {},
   "source": [
    "## Learning Curve "
   ]
  },
  {
   "cell_type": "markdown",
   "metadata": {},
   "source": [
    "In essence, what we’re doing it training the exact same model with increasingly large fractions of our total training data, and plotting the error of the training and test sets at each step."
   ]
  },
  {
   "cell_type": "code",
   "execution_count": 18,
   "metadata": {
    "collapsed": false
   },
   "outputs": [
    {
     "data": {
      "image/png": "[encoded data removed]",
      "text/plain": [
       "<matplotlib.figure.Figure at 0x7f3ba074b850>"
      ]
     },
     "metadata": {},
     "output_type": "display_data"
    }
   ],
   "source": [
    "from sklearn.neighbors import KNeighborsRegressor\n",
    "model = KNeighborsRegressor(n_neighbors = 4, algorithm = 'kd_tree')\n",
    "title = \"Learning Curves (KNeighborsRegressor Refression)\"\n",
    "cv = cross_validation.ShuffleSplit(X.shape[0], n_iter=100,\n",
    "                                   test_size=0.2, random_state=0)\n",
    "plot_learning_curve(model, title, X, Y, ylim=(0.2, 1.01), cv=cv, n_jobs=-1)\n",
    "plt.show()"
   ]
  },
  {
   "cell_type": "code",
   "execution_count": 19,
   "metadata": {
    "collapsed": false
   },
   "outputs": [
    {
     "name": "stdout",
     "output_type": "stream",
     "text": [
      "train_sizes =  [ 50  80 110]\n",
      " training scores\n",
      " 50 training sizees\n",
      "0.614601342422 ± 0.093782047066\n",
      " 80 training sizees\n",
      "0.656176458282 ± 0.063824310986\n",
      " 110 training sizees\n",
      "0.692076667874 ± 0.0533572438975\n",
      "\n",
      " validation scores\n",
      " 50 validation scores\n",
      "0.360207313034 ± 0.0935493171845\n",
      " 80 validation scores\n",
      "0.426098052585 ± 0.0743569121655\n",
      " 110 validation scores\n",
      "0.471598087506 ± 0.0643366416119\n"
     ]
    }
   ],
   "source": [
    "# More data from learning curve to show the process of building the model\n",
    "train_sizes, train_scores, valid_scores = learning_curve(\n",
    "     model, X, Y, train_sizes=[50, 80, 110], cv=cv, n_jobs=4)\n",
    "\n",
    "print 'train_sizes = ', train_sizes\n",
    "\n",
    "print ' training scores'\n",
    "print ' 50 training sizees'\n",
    "print train_scores[0].mean(),'±',train_scores[0].std()\n",
    "print ' 80 training sizees'\n",
    "print train_scores[1].mean(),'±',train_scores[1].std()\n",
    "print ' 110 training sizees'\n",
    "print train_scores[2].mean(),'±',train_scores[2].std()\n",
    "\n",
    "print '\\n validation scores'\n",
    "print ' 50 validation scores'\n",
    "print valid_scores[0].mean(),'±',valid_scores[0].std()\n",
    "print ' 80 validation scores'\n",
    "print valid_scores[1].mean(),'±',valid_scores[1].std()\n",
    "print ' 110 validation scores'\n",
    "print valid_scores[2].mean(),'±',valid_scores[2].std()"
   ]
  },
  {
   "cell_type": "markdown",
   "metadata": {},
   "source": [
    "## Cross validation"
   ]
  },
  {
   "cell_type": "code",
   "execution_count": 20,
   "metadata": {
    "collapsed": false
   },
   "outputs": [
    {
     "name": "stdout",
     "output_type": "stream",
     "text": [
      "Scoring according to mean_squared_error\n",
      "[-101.19440104  -79.16067519  -82.97679202  -74.70685945  -92.31466662\n",
      "  -52.55853403 -118.67726817  -62.31545152  -74.692741    -88.90788957]\n",
      "\n",
      " Mean      Standard deviation\n",
      "-82.75      17.98\n"
     ]
    },
    {
     "data": {
      "text/plain": [
       "KNeighborsRegressor(algorithm='kd_tree', leaf_size=30, metric='minkowski',\n",
       "          metric_params=None, n_jobs=1, n_neighbors=4, p=2,\n",
       "          weights='uniform')"
      ]
     },
     "execution_count": 20,
     "metadata": {},
     "output_type": "execute_result"
    }
   ],
   "source": [
    "scoring = 'mean_squared_error'\n",
    "results = cross_validation.cross_val_score(model, X, Y, cv=kfold, scoring=scoring)\n",
    "print 'Scoring according to mean_squared_error'\n",
    "print results\n",
    "print '\\n Mean      Standard deviation'\n",
    "print(\"%.2f      %.2f\" % (results.mean(), results.std()))\n",
    "## Fit the model\n",
    "model.fit(X,Y)\n"
   ]
  },
  {
   "cell_type": "markdown",
   "metadata": {},
   "source": [
    "## Coefficients Of Determination {Calculating R^2}\n",
    "\n",
    "R^2, Close to one is better"
   ]
  },
  {
   "cell_type": "code",
   "execution_count": 21,
   "metadata": {
    "collapsed": false
   },
   "outputs": [
    {
     "name": "stdout",
     "output_type": "stream",
     "text": [
      "R-squared =  0.706803488571\n"
     ]
    }
   ],
   "source": [
    "predicted = cross_val_predict(model, X, Y, cv=kfold)\n",
    "r_squared = r2_score(Y, predicted, multioutput='variance_weighted')\n",
    "print 'R-squared = ',r_squared"
   ]
  },
  {
   "cell_type": "markdown",
   "metadata": {},
   "source": [
    "## Residual Plot"
   ]
  },
  {
   "cell_type": "code",
   "execution_count": 22,
   "metadata": {
    "collapsed": false
   },
   "outputs": [
    {
     "data": {
      "image/png": "[encoded data removed]",
      "text/plain": [
       "<matplotlib.figure.Figure at 0x7f3ba0787710>"
      ]
     },
     "metadata": {},
     "output_type": "display_data"
    }
   ],
   "source": [
    "predicted = cross_val_predict(model, X, Y, cv=kfold)\n",
    "fig, ax = plt.subplots()\n",
    "ax.scatter(Y, predicted)\n",
    "ax.plot([Y.min(), Y.max()], [Y.min(), Y.max()], 'k--', lw=4)\n",
    "ax.set_xlabel('Measured')\n",
    "ax.set_ylabel('Predicted')\n",
    "plt.show()"
   ]
  },
  {
   "cell_type": "code",
   "execution_count": 23,
   "metadata": {
    "collapsed": false
   },
   "outputs": [
    {
     "data": {
      "text/html": [
       "\n",
       "\n",
       "    <div class=\"bk-root\">\n",
       "        <div class=\"plotdiv\" id=\"7962a7dd-7b25-4200-830f-f3221b95ea04\"></div>\n",
       "    </div>\n",
       "<script type=\"text/javascript\">\n",
       "  \n",
       "  (function(global) {\n",
       "    function now() {\n",
       "      return new Date();\n",
       "    }\n",
       "  \n",
       "    var force = \"\";\n",
       "  \n",
       "    if (typeof (window._bokeh_onload_callbacks) === \"undefined\" || force !== \"\") {\n",
       "      window._bokeh_onload_callbacks = [];\n",
       "      window._bokeh_is_loading = undefined;\n",
       "    }\n",
       "  \n",
       "  \n",
       "    \n",
       "    if (typeof (window._bokeh_timeout) === \"undefined\" || force !== \"\") {\n",
       "      window._bokeh_timeout = Date.now() + 0;\n",
       "      window._bokeh_failed_load = false;\n",
       "    }\n",
       "  \n",
       "    var NB_LOAD_WARNING = {'data': {'text/html':\n",
       "       \"<div style='background-color: #fdd'>\\n\"+\n",
       "       \"<p>\\n\"+\n",
       "       \"BokehJS does not appear to have successfully loaded. If loading BokehJS from CDN, this \\n\"+\n",
       "       \"may be due to a slow or bad network connection. Possible fixes:\\n\"+\n",
       "       \"</p>\\n\"+\n",
       "       \"<ul>\\n\"+\n",
       "       \"<li>re-rerun `output_notebook()` to attempt to load from CDN again, or</li>\\n\"+\n",
       "       \"<li>use INLINE resources instead, as so:</li>\\n\"+\n",
       "       \"</ul>\\n\"+\n",
       "       \"<code>\\n\"+\n",
       "       \"from bokeh.resources import INLINE\\n\"+\n",
       "       \"output_notebook(resources=INLINE)\\n\"+\n",
       "       \"</code>\\n\"+\n",
       "       \"</div>\"}};\n",
       "  \n",
       "    function display_loaded() {\n",
       "      if (window.Bokeh !== undefined) {\n",
       "        Bokeh.$(\"#7962a7dd-7b25-4200-830f-f3221b95ea04\").text(\"BokehJS successfully loaded.\");\n",
       "      } else if (Date.now() < window._bokeh_timeout) {\n",
       "        setTimeout(display_loaded, 100)\n",
       "      }\n",
       "    }\n",
       "  \n",
       "    function run_callbacks() {\n",
       "      window._bokeh_onload_callbacks.forEach(function(callback) { callback() });\n",
       "      delete window._bokeh_onload_callbacks\n",
       "      console.info(\"Bokeh: all callbacks have finished\");\n",
       "    }\n",
       "  \n",
       "    function load_libs(js_urls, callback) {\n",
       "      window._bokeh_onload_callbacks.push(callback);\n",
       "      if (window._bokeh_is_loading > 0) {\n",
       "        console.log(\"Bokeh: BokehJS is being loaded, scheduling callback at\", now());\n",
       "        return null;\n",
       "      }\n",
       "      if (js_urls == null || js_urls.length === 0) {\n",
       "        run_callbacks();\n",
       "        return null;\n",
       "      }\n",
       "      console.log(\"Bokeh: BokehJS not loaded, scheduling load and callback at\", now());\n",
       "      window._bokeh_is_loading = js_urls.length;\n",
       "      for (var i = 0; i < js_urls.length; i++) {\n",
       "        var url = js_urls[i];\n",
       "        var s = document.createElement('script');\n",
       "        s.src = url;\n",
       "        s.async = false;\n",
       "        s.onreadystatechange = s.onload = function() {\n",
       "          window._bokeh_is_loading--;\n",
       "          if (window._bokeh_is_loading === 0) {\n",
       "            console.log(\"Bokeh: all BokehJS libraries loaded\");\n",
       "            run_callbacks()\n",
       "          }\n",
       "        };\n",
       "        s.onerror = function() {\n",
       "          console.warn(\"failed to load library \" + url);\n",
       "        };\n",
       "        console.log(\"Bokeh: injecting script tag for BokehJS library: \", url);\n",
       "        document.getElementsByTagName(\"head\")[0].appendChild(s);\n",
       "      }\n",
       "    };var element = document.getElementById(\"7962a7dd-7b25-4200-830f-f3221b95ea04\");\n",
       "    if (element == null) {\n",
       "      console.log(\"Bokeh: ERROR: autoload.js configured with elementid '7962a7dd-7b25-4200-830f-f3221b95ea04' but no matching script tag was found. \")\n",
       "      return false;\n",
       "    }\n",
       "  \n",
       "    var js_urls = [];\n",
       "  \n",
       "    var inline_js = [\n",
       "      function(Bokeh) {\n",
       "        Bokeh.$(function() {\n",
       "            var docs_json = {\"c9ce57db-dfb3-4953-8171-c0238fc9981a\":{\"roots\":{\"references\":[{\"attributes\":{\"callback\":null,\"plot\":{\"id\":\"42b00dd0-e77b-4df5-9400-f88a04e8eb08\",\"subtype\":\"Figure\",\"type\":\"Plot\"}},\"id\":\"ad87531f-c279-4a13-8477-2c59b4bcc97b\",\"type\":\"TapTool\"},{\"attributes\":{\"bottom_units\":\"screen\",\"fill_alpha\":{\"value\":0.5},\"fill_color\":{\"value\":\"lightgrey\"},\"left_units\":\"screen\",\"level\":\"overlay\",\"line_alpha\":{\"value\":1.0},\"line_color\":{\"value\":\"black\"},\"line_dash\":[4,4],\"line_width\":{\"value\":2},\"plot\":null,\"render_mode\":\"css\",\"right_units\":\"screen\",\"top_units\":\"screen\"},\"id\":\"5459d997-bbcb-41f2-b875-d5e89f23ef36\",\"type\":\"BoxAnnotation\"},{\"attributes\":{\"bottom_units\":\"screen\",\"fill_alpha\":{\"value\":0.5},\"fill_color\":{\"value\":\"lightgrey\"},\"left_units\":\"screen\",\"level\":\"overlay\",\"line_alpha\":{\"value\":1.0},\"line_color\":{\"value\":\"black\"},\"line_dash\":[4,4],\"line_width\":{\"value\":2},\"plot\":null,\"render_mode\":\"css\",\"right_units\":\"screen\",\"top_units\":\"screen\"},\"id\":\"f253976d-0f3c-4832-8345-cc4458cb6223\",\"type\":\"BoxAnnotation\"},{\"attributes\":{\"callback\":null,\"column_names\":[\"y\",\"x\"],\"data\":{\"x\":[2.331807832,82.5992248],\"y\":[2.331807832,82.5992248]}},\"id\":\"b23131d4-37bc-4196-a6aa-5e1f40c4bb7c\",\"type\":\"ColumnDataSource\"},{\"attributes\":{\"plot\":{\"id\":\"42b00dd0-e77b-4df5-9400-f88a04e8eb08\",\"subtype\":\"Figure\",\"type\":\"Plot\"}},\"id\":\"78720435-25af-478c-b2e6-c9eb07f0c809\",\"type\":\"WheelZoomTool\"},{\"attributes\":{\"plot\":{\"id\":\"42b00dd0-e77b-4df5-9400-f88a04e8eb08\",\"subtype\":\"Figure\",\"type\":\"Plot\"},\"ticker\":{\"id\":\"0ec055ea-d0a1-4519-99cb-e3e2e69761a6\",\"type\":\"BasicTicker\"}},\"id\":\"64bba6c6-fbac-45a2-8f7b-ce50d26aef30\",\"type\":\"Grid\"},{\"attributes\":{\"fill_alpha\":{\"value\":0.5},\"fill_color\":{\"value\":\"lightgrey\"},\"level\":\"overlay\",\"line_alpha\":{\"value\":1.0},\"line_color\":{\"value\":\"black\"},\"line_dash\":[4,4],\"line_width\":{\"value\":2},\"plot\":null,\"xs_units\":\"screen\",\"ys_units\":\"screen\"},\"id\":\"dddd3088-329e-4eb0-8a4b-0b145bcc28b3\",\"type\":\"PolyAnnotation\"},{\"attributes\":{\"background_fill_alpha\":{\"value\":0.5},\"background_fill_color\":{\"value\":\"beige\"},\"below\":[{\"id\":\"42b31900-069d-4293-b428-448ce1b11ed4\",\"type\":\"LinearAxis\"}],\"left\":[{\"id\":\"3c0eb030-688d-411c-802d-4e9215bf5a67\",\"type\":\"LinearAxis\"}],\"plot_height\":500,\"plot_width\":500,\"renderers\":[{\"id\":\"42b31900-069d-4293-b428-448ce1b11ed4\",\"type\":\"LinearAxis\"},{\"id\":\"64bba6c6-fbac-45a2-8f7b-ce50d26aef30\",\"type\":\"Grid\"},{\"id\":\"3c0eb030-688d-411c-802d-4e9215bf5a67\",\"type\":\"LinearAxis\"},{\"id\":\"b10bb781-70ca-4042-b060-63fbd590dfa8\",\"type\":\"Grid\"},{\"id\":\"f253976d-0f3c-4832-8345-cc4458cb6223\",\"type\":\"BoxAnnotation\"},{\"id\":\"5459d997-bbcb-41f2-b875-d5e89f23ef36\",\"type\":\"BoxAnnotation\"},{\"id\":\"dddd3088-329e-4eb0-8a4b-0b145bcc28b3\",\"type\":\"PolyAnnotation\"},{\"id\":\"44a8c05b-f883-4673-a7a1-24e1f3702244\",\"type\":\"PolyAnnotation\"},{\"id\":\"2dd847b9-097e-4373-80a4-40009d9a767a\",\"type\":\"GlyphRenderer\"},{\"id\":\"7374f3b2-af5b-41ce-957b-d309fd04cbdf\",\"type\":\"GlyphRenderer\"}],\"title\":{\"id\":\"8c9f528b-da08-4e13-a358-a95416d25051\",\"type\":\"Title\"},\"tool_events\":{\"id\":\"c321f211-8a4b-4ddd-8500-d429934ed800\",\"type\":\"ToolEvents\"},\"toolbar\":{\"id\":\"bc4571ef-48b1-47ac-ac06-c0e42c93a349\",\"type\":\"Toolbar\"},\"x_range\":{\"id\":\"279223c3-9874-4620-86dd-7c9a46f2ca02\",\"type\":\"DataRange1d\"},\"y_range\":{\"id\":\"677c2327-40a6-4614-a4c9-87df7d60e2b8\",\"type\":\"DataRange1d\"}},\"id\":\"42b00dd0-e77b-4df5-9400-f88a04e8eb08\",\"subtype\":\"Figure\",\"type\":\"Plot\"},{\"attributes\":{\"axis_label\":\"Measured\",\"axis_label_text_color\":{\"value\":\"#aa6666\"},\"formatter\":{\"id\":\"b98dc68e-8880-4a6c-ad43-a1ade04032d5\",\"type\":\"BasicTickFormatter\"},\"major_tick_line_color\":{\"value\":\"firebrick\"},\"major_tick_line_width\":{\"value\":3},\"minor_tick_line_color\":{\"value\":\"orange\"},\"plot\":{\"id\":\"42b00dd0-e77b-4df5-9400-f88a04e8eb08\",\"subtype\":\"Figure\",\"type\":\"Plot\"},\"ticker\":{\"id\":\"0ec055ea-d0a1-4519-99cb-e3e2e69761a6\",\"type\":\"BasicTicker\"}},\"id\":\"42b31900-069d-4293-b428-448ce1b11ed4\",\"type\":\"LinearAxis\"},{\"attributes\":{\"plot\":{\"id\":\"42b00dd0-e77b-4df5-9400-f88a04e8eb08\",\"subtype\":\"Figure\",\"type\":\"Plot\"}},\"id\":\"9160dcdb-ed85-48e4-a994-d88b8036f224\",\"type\":\"PanTool\"},{\"attributes\":{\"plot\":{\"id\":\"42b00dd0-e77b-4df5-9400-f88a04e8eb08\",\"subtype\":\"Figure\",\"type\":\"Plot\"}},\"id\":\"af9a55ba-a6cc-42b3-b2f5-4af49e30e5f9\",\"type\":\"UndoTool\"},{\"attributes\":{\"callback\":null,\"overlay\":{\"id\":\"dddd3088-329e-4eb0-8a4b-0b145bcc28b3\",\"type\":\"PolyAnnotation\"},\"plot\":{\"id\":\"42b00dd0-e77b-4df5-9400-f88a04e8eb08\",\"subtype\":\"Figure\",\"type\":\"Plot\"}},\"id\":\"deba0b39-9284-42d2-89b2-457ee1acb2e1\",\"type\":\"LassoSelectTool\"},{\"attributes\":{\"plot\":{\"id\":\"42b00dd0-e77b-4df5-9400-f88a04e8eb08\",\"subtype\":\"Figure\",\"type\":\"Plot\"}},\"id\":\"d30234e9-fec7-464c-9d87-d75fffa73e70\",\"type\":\"SaveTool\"},{\"attributes\":{\"plot\":{\"id\":\"42b00dd0-e77b-4df5-9400-f88a04e8eb08\",\"subtype\":\"Figure\",\"type\":\"Plot\"}},\"id\":\"1c84cf8a-54b7-47a5-b767-e4ea13ef5bf2\",\"type\":\"ResetTool\"},{\"attributes\":{\"data_source\":{\"id\":\"2067b733-1291-49b5-b2fc-f2439972e221\",\"type\":\"ColumnDataSource\"},\"glyph\":{\"id\":\"93057865-1bd1-4778-8c1a-332b72b5a9f0\",\"type\":\"Circle\"},\"hover_glyph\":null,\"nonselection_glyph\":{\"id\":\"d5985bf3-27ff-4bcf-a98f-f9efc82d7004\",\"type\":\"Circle\"},\"selection_glyph\":null},\"id\":\"2dd847b9-097e-4373-80a4-40009d9a767a\",\"type\":\"GlyphRenderer\"},{\"attributes\":{\"axis_label\":\"Predicted\",\"axis_label_text_color\":{\"value\":\"#aa6666\"},\"formatter\":{\"id\":\"d39dd198-63ec-486c-9124-d68d90630046\",\"type\":\"BasicTickFormatter\"},\"plot\":{\"id\":\"42b00dd0-e77b-4df5-9400-f88a04e8eb08\",\"subtype\":\"Figure\",\"type\":\"Plot\"},\"ticker\":{\"id\":\"67aaebea-6bf1-40f2-b133-c2f6ef504337\",\"type\":\"BasicTicker\"}},\"id\":\"3c0eb030-688d-411c-802d-4e9215bf5a67\",\"type\":\"LinearAxis\"},{\"attributes\":{\"plot\":{\"id\":\"42b00dd0-e77b-4df5-9400-f88a04e8eb08\",\"subtype\":\"Figure\",\"type\":\"Plot\"}},\"id\":\"9b75d804-b0f4-4ec3-8e42-773f633f868a\",\"type\":\"ResizeTool\"},{\"attributes\":{},\"id\":\"c321f211-8a4b-4ddd-8500-d429934ed800\",\"type\":\"ToolEvents\"},{\"attributes\":{\"active_drag\":\"auto\",\"active_scroll\":\"auto\",\"active_tap\":\"auto\",\"tools\":[{\"id\":\"a07833ee-452b-4aaf-91d1-e196185c0d04\",\"type\":\"BoxZoomTool\"},{\"id\":\"151da459-8273-4526-a00e-1777a7e10911\",\"type\":\"BoxSelectTool\"},{\"id\":\"5be9efef-134d-4923-9db5-12a32b96274a\",\"type\":\"CrosshairTool\"},{\"id\":\"9b75d804-b0f4-4ec3-8e42-773f633f868a\",\"type\":\"ResizeTool\"},{\"id\":\"1c84cf8a-54b7-47a5-b767-e4ea13ef5bf2\",\"type\":\"ResetTool\"},{\"id\":\"deba0b39-9284-42d2-89b2-457ee1acb2e1\",\"type\":\"LassoSelectTool\"},{\"id\":\"9160dcdb-ed85-48e4-a994-d88b8036f224\",\"type\":\"PanTool\"},{\"id\":\"d30234e9-fec7-464c-9d87-d75fffa73e70\",\"type\":\"SaveTool\"},{\"id\":\"d9bbb02b-5b51-49f8-959d-b922a5dc9549\",\"type\":\"PolySelectTool\"},{\"id\":\"ad87531f-c279-4a13-8477-2c59b4bcc97b\",\"type\":\"TapTool\"},{\"id\":\"78720435-25af-478c-b2e6-c9eb07f0c809\",\"type\":\"WheelZoomTool\"},{\"id\":\"af9a55ba-a6cc-42b3-b2f5-4af49e30e5f9\",\"type\":\"UndoTool\"}]},\"id\":\"bc4571ef-48b1-47ac-ac06-c0e42c93a349\",\"type\":\"Toolbar\"},{\"attributes\":{\"callback\":null,\"overlay\":{\"id\":\"5459d997-bbcb-41f2-b875-d5e89f23ef36\",\"type\":\"BoxAnnotation\"},\"plot\":{\"id\":\"42b00dd0-e77b-4df5-9400-f88a04e8eb08\",\"subtype\":\"Figure\",\"type\":\"Plot\"},\"renderers\":[{\"id\":\"2dd847b9-097e-4373-80a4-40009d9a767a\",\"type\":\"GlyphRenderer\"},{\"id\":\"7374f3b2-af5b-41ce-957b-d309fd04cbdf\",\"type\":\"GlyphRenderer\"}]},\"id\":\"151da459-8273-4526-a00e-1777a7e10911\",\"type\":\"BoxSelectTool\"},{\"attributes\":{\"dimension\":1,\"plot\":{\"id\":\"42b00dd0-e77b-4df5-9400-f88a04e8eb08\",\"subtype\":\"Figure\",\"type\":\"Plot\"},\"ticker\":{\"id\":\"67aaebea-6bf1-40f2-b133-c2f6ef504337\",\"type\":\"BasicTicker\"}},\"id\":\"b10bb781-70ca-4042-b060-63fbd590dfa8\",\"type\":\"Grid\"},{\"attributes\":{},\"id\":\"d39dd198-63ec-486c-9124-d68d90630046\",\"type\":\"BasicTickFormatter\"},{\"attributes\":{\"align\":\"center\",\"plot\":null,\"text\":null},\"id\":\"8c9f528b-da08-4e13-a358-a95416d25051\",\"type\":\"Title\"},{\"attributes\":{\"fill_alpha\":{\"value\":0.1},\"fill_color\":{\"value\":\"#1f77b4\"},\"line_alpha\":{\"value\":0.1},\"line_color\":{\"value\":\"#1f77b4\"},\"line_width\":{\"value\":3},\"x\":{\"field\":\"x\"},\"y\":{\"field\":\"y\"}},\"id\":\"d5985bf3-27ff-4bcf-a98f-f9efc82d7004\",\"type\":\"Circle\"},{\"attributes\":{\"line_alpha\":{\"value\":0.1},\"line_color\":{\"value\":\"#1f77b4\"},\"line_dash\":[4,4],\"line_width\":{\"value\":2},\"x\":{\"field\":\"x\"},\"y\":{\"field\":\"y\"}},\"id\":\"cd7fd055-9f94-4e9a-b23d-5c3014d01d44\",\"type\":\"Line\"},{\"attributes\":{\"callback\":null,\"column_names\":[\"x\",\"y\"],\"data\":{\"x\":[43.892042159999995,38.21075992,33.419591196,13.12072828,47.22221124,22.31833812,12.47262084,28.937997196,47.029847436000004,26.322814728,30.439675923999996,12.63809508,20.77391188,43.798273423999994,66.10006412,15.361525279999999,40.865242519999995,45.939785879999995,33.75674496,43.58177796,23.524231644,42.69924868,14.143910664,48.401215199999996,34.569637164,35.85964676,59.09498796,24.49708228,37.721921436,15.520104759999999,32.401235144,33.05347944,49.249270679999995,71.69860924,54.896079119999996,50.45930106,51.863763672,28.6822016,26.77235308,17.236210524,36.83870268,40.2309246,47.714497103999996,11.36256448,9.99050724,40.925226931999994,40.563252031999994,31.715896,39.417342919999996,18.12632404,18.28490352,9.86640156,41.2996124,34.55653712,53.95839176,82.5992248,54.598914963999995,44.61185510399999,39.28978986,63.528318639999995,39.1622368,39.321505756,20.416073836,44.395359639999995,56.33708396,38.500339839999995,32.245413568000004,42.229026048,46.247292176,33.68779736,44.209201119999996,33.72916592,64.90037588,33.192064116000005,12.45193656,44.14025352,57.915983999999995,55.50971276,37.2661778,42.21661548,41.20308576,39.779317819999996,64.90037588,39.6621069,23.5111316,54.765078679999995,29.073134491999998,49.77327244,65.19685056,36.588422892,52.00717468,37.2661778,43.57833058,40.679083999999996,26.96540636,36.251958603999995,25.726417988,12.180972492,72.99482412,28.62704352,11.392211948,20.08443588,48.28400428,24.00065956,45.304778483999996,35.763120119999996,74.19451236,14.699628319999999,25.60910856945864,61.99078716,38.074243671999994,54.09628696,40.856968808,39.84481804,22.435549039999998,25.893960655999997,42.919881,30.647208199999998,26.200088,23.13881456,26.8550902,26.147687824,52.446370892,37.92118,41.836714203999996,48.9872698,8.536402356,35.75425543054136,48.587373719999995,21.601283079999998,28.79941252,32.823194456,79.29663476,11.654902304,66.78067543054136,61.09446836,48.67011084,40.1964508,26.258003984,13.45857152,47.739318239999996,23.696600644,27.827251359999998,31.35047372,60.32225524,48.695621452,39.0932892,33.116911232,37.32823064,50.69717028,13.565440299999999,33.68779736,53.46196904,16.503987012,61.85584685418796,60.2946762,43.01296026,77.29715436,56.847296199999995,55.495923239999996,15.049192651999999,17.83674412,19.765208492,24.53845084,21.946021079999998,33.56369168,43.0577762,27.681082448,31.026419999999998,2.331807832,42.29245784,15.340841,19.691434559999998,33.70158688,47.782065751999994,56.141962252,24.8900836,29.870858223999996,58.60546,24.90387312,13.395533715270679,23.786922,33.72916592,52.04164848,31.35047372,37.9556538,57.59882504,29.447519959999997,23.8903434,67.69964844,34.73580088,39.056057496,25.0969264,45.3675208,28.096147,23.221551679999997,40.14818748,42.14008364399999,37.34202016,44.13335876,60.280886679999995,49.77327244,59.590425715270676,17.959470848000002,24.104080959999997,26.94472208,31.966865263999996,28.23748958,16.10960674,54.27555072,18.746162964,24.91766264,40.85834776,11.46598588,38.407950056000004,25.2003478,79.40005615999999,23.51802636,66.42411784,39.45181672,29.7853632,22.347985588,55.89581932,30.12320644,67.568648,53.52402188,13.29309728,24.0971862,14.98920824,39.58281716,48.846616696,11.957582268,39.37597436,19.98790924,39.455953576,39.421479776,24.483292759999998,59.19840936,66.69990824,49.973220479999995,40.7135578,39.699338604,20.27748916,17.57474324,33.082437432,41.05140104,56.14403068,43.377003588,15.08573488,77.29715436,32.83974188,37.437857324,23.744174488,56.3991368,43.388724679999996,44.698039603999995,32.720462532,53.90323368,7.74971024,47.8151606,59.89478012,38.01770664,68.75060685418796,6.883728383999999,76.80073164,11.85209244,8.48744956,49.20100736,32.768036376000005,33.21205892,17.9953236,23.80071152,6.902344236,18.12632404,10.535882756,25.510612,13.461329424,25.48303296,55.647607959999995,32.96384756,19.41564416,22.94576128,19.691434559999998,18.033934256,52.908319811999995,23.24519085418796,25.68987576,17.95395504,43.698299404,15.575262839999999,25.422359072,29.15794004,22.435549039999998,22.53207568,21.179323768,33.398217439999996,48.97348028,22.489328168,67.30664712,39.6103962,45.08483564,38.461039708,46.931941843999994,40.59634688,30.44726016,24.290928956,49.99390476,8.06342182,16.27852836,40.38950408,23.639177145812038,21.066249704,43.25082948,20.91870184,33.798802996,44.02993736,9.84965714581204,25.62092816,24.44881896,76.23536132,15.748321315999998,58.522722879999996,7.8393421199999995,17.275510655999998,27.22051248,71.29871315999999,68.09954452,24.65566176,26.91369566,33.399596392,29.39236188,29.89223198,46.80163088,31.25394708,55.55108132,28.99936056,39.300132,10.335934715999999,79.98611076,47.27736932,25.021084039999998,24.39366088,43.733462679999995,49.80085148,9.011451319999999,11.414275179999999,33.5430074,55.82687172,46.89815752,31.74347504,35.36322404,35.34253976,65.99664272,30.2335226,35.314271244,36.93522932,12.73462172,11.169511199999999,38.60376124,44.6090972,41.15137506,12.788400847999998,12.17614616,33.0431373,21.859147104,41.052779992,71.29871315999999,47.7117392,46.2293658,26.74477404,41.540929,26.91714304,55.94408264,17.8229546,61.23581094,15.340841,31.419421319999998,21.91154728,16.87837248,52.42086028,37.171030112,39.64487,50.655112243999994,13.52062436,35.9561734,47.13257936,56.095767359999996,19.35014394,32.068218236,18.19871902,60.2946762,13.33446584,27.923778,33.60506024,71.29871315999999,36.447769788,33.488834284729315,38.45897128,38.70028788,33.79811352,19.41564416,39.48629052,59.30183076,80.19984832,32.051670812,21.859147104,56.7438748,10.53519328,25.965666159999998,4.9035533120000006,41.940825079999996,41.934619796,67.86512268,13.089012384,51.021224,52.95865156,28.98557104,17.96429718,29.54897143054136,41.244454319999996,58.78472376,12.459520796,34.67374804,41.684340008,16.889404096,25.216895223999998,66.59648684,51.331488199999995,33.019005639999996,30.12320644,13.293786756,34.77027468,38.11423328,35.852751999999995,16.26473884,38.20386516,21.819846971999997,14.49968028,9.735401119999999,10.76272036,17.165883972,14.54104884,36.63875464,50.07664188,36.964187312,44.296075096,36.34917472,56.061293559999996,19.10537996,24.281965768,36.349864196,15.069975430541358,25.460969728000002,38.70028788,43.377003588,67.11359384,27.234302,19.199148695999998,29.41304616,29.654362759999998,13.62404576,40.14818748,29.55094136,32.66047812,56.69561148,11.483912255999998,35.225328839999996,42.32693164,33.003837168,51.25564584,21.917063088,38.215586251999994,77.29715436,52.426376088,37.231704,26.22766704,38.99676256,24.986610239999997,22.83544512,12.24509376,39.604880392,15.520104759999999,65.19685056,55.89581932,39.358047983999995,17.576122192,40.934879596,12.052040479999999,24.404692496,23.52492112,39.300132,55.45455468,37.431652039999996,69.83702404,31.35047372,46.20178676,46.38794528,35.3011712,28.62704352,31.874475479999997,20.593958644,12.5484632,33.664355176,15.091250688,69.65776027999999,59.76377968,36.443632932,22.93197176,42.030456959999995,32.626693796000005,66.82401392,71.98818916,74.3649114581204,72.09850532,36.990387399999996,21.53923024,37.431652039999996,64.30053176,7.3153403599999995,38.60376124,22.89749796,32.01138571527068,27.67556664,40.062002979999995,56.49566344,70.69886903999999,46.6430514,31.971002119999998,32.72253096,23.786922,32.956952799999996,55.15808,10.38350856,74.4978818,53.72396992,30.881630039999997,13.54130864,43.5748832,21.504756439999998,52.826961643999994,33.0603742,50.77301264,19.539060364,42.131120456,35.3011712,41.542997428,47.401475,51.732763231999996,19.98790924,15.04436632,29.592309919999998,42.126983599999996,52.30364936,39.382869119999995,39.14844728,36.3009114,44.32641204,23.404952295999998,22.629981272,15.615941924,23.83518532,35.225328839999996,31.17810472,27.874825204,38.56239268,54.315540328,42.63719584,33.301690799999996,12.541568439999999,4.782205536,29.06830816,34.23937816,32.88455782,49.89737812,31.53663224,33.70158688,32.763899519999995,37.91428524,25.559564796,17.43684804,57.21823428799999,50.526869708,14.306626999999999,19.009542795999998,10.089791784,13.18278112,13.52062436,30.275580636,52.516697443999995,81.75116932,28.46846404,40.85834776,71.29871315999999,17.36790044,55.89581932,62.5009994,26.233182848000002,34.20490436,41.40992856,9.617500724000001,17.22311048,44.38846488,19.765208492,50.511011759999995,39.05192064,25.11662571527068,35.570066839999996,44.27814872,50.60064364,68.29949256,31.178794196000002,62.052839999999996,39.2311844,15.030576799999999,17.596806471999997,36.56291228,59.79825348,56.8128224,53.300631656,37.997022359999995,64.30053176,77.29715436,38.610656,10.787541496,34.48758952,53.65502232,13.22414968,63.3973182,36.93522932,25.3727168,12.17614616,37.16965116,51.0556978,21.91154728,44.298833,53.77223324,21.29101888,45.2985732,18.415903959999998,42.620648416,60.949678399999996,31.11605188,15.43736764,24.24197616,42.79577532,21.96670536,38.630650804,26.0621928,24.42813468,27.77209328,31.899986092,56.619079643999996,33.27411176,11.57630204,30.219733079999997,56.61287436,33.306517131999996,29.93015316,24.00065956,46.234192132,79.29663476,41.719503284,33.398217439999996,51.03501352,14.98920824,28.021683592,32.39847724,53.104130996,35.3011712,14.796154959999999,30.079769451999997,37.265488323999996,50.94882902,43.698299404,21.6495464,23.07676172,24.065470304,10.0318758,58.798513279999995,25.17966352,24.437787344,60.2946762,40.65839972,7.507014687999999,55.59934464,36.3009114,74.69782984,9.561653168,44.207822168,13.19657064,27.935499091999997,26.04840328,32.109882284729316,78.80021203999999,26.40003604,56.63355864,15.691094808,25.083136879999998,51.021224,37.25928304,42.42345828,43.49904084,23.523542168,25.55887532,31.640053639999998,12.83804312,33.963587759999996,49.20100736,15.569747031999999,28.991086848000002,65.19685056,12.37264682,41.885667,25.745033839999998,40.0585556,46.2293658,23.73865868,43.565230536,41.05140104,32.8535314,31.023662096000002,60.19814956,65.90701084,73.29819356,44.27814872,52.20022796,26.859916531999996,40.759063216,11.46598588,21.78054684,40.56876784,28.296095039999997,18.287661424,14.2032056,44.51946532,14.843728804,21.26343984,39.39665864,52.44154456,35.3011712,41.09966436,24.28334472,25.17966352,61.797733879999996,23.69039536,31.2677366,9.131420144,36.804918356,30.84715624,42.54756396,19.00885332,25.10382116,44.63667624,38.995383608,9.307926,55.55108132,38.76923548,45.83636448,74.16693332,22.752708,27.742445811999996,29.86810032,49.185149411999994,24.3385028,44.523602176000004,68.4994406,31.6469484,37.427515183999994,67.79617508,36.4388066,55.020184799999996,39.004642284729314,32.53292506,73.69808963999999,19.93275116,8.374375495999999,10.222171176,14.596896395999998,43.69898888,7.723510152,31.35047372,44.868340176000004,45.3675208,29.7508894,26.14492992,55.19944856,29.231713971999998,51.04190828,65.909079268,79.29663476,9.738159024,54.896079119999996,37.36270444,51.72448952,20.72564856,52.82075636,32.102692036,71.62276688,35.86585204399999,35.101223159999996,46.24315532,31.84000168,33.398217439999996,57.21271848,43.942373908,7.675936308,18.0297974,31.875164956000003,75.49762199999999,24.40055564,8.204074924,46.68441996,3.31982694,21.02212324,41.36856,27.04124872,44.42293868,34.39795764,20.96696516,36.96970312,6.26733684,15.41668336,39.435269296,50.732333556],\"y\":[33.080886111,35.070369109,53.273742092,23.07676172,48.949348619999995,18.84510277,19.62076327,26.467777057,45.266167828,22.931109915,16.433315722,39.17602632,20.941109809999997,43.830851165,45.54850825,36.03891052,35.41665843,37.019690129999994,38.15560184,38.9898678,24.876811187,37.1110457,31.396323873999997,42.12870729,27.961526811,37.849129758,60.323978929999996,16.2371598,37.231876369,33.0603742,35.284451407,32.420712841,18.520187205,58.672683909999996,58.772657929999994,45.021059109999996,38.880241116,36.03891052,20.69117476,23.605417443,32.429503659999995,24.036857050000002,44.709588327,17.881560059999998,15.45632823,48.265733166,40.04873056699999,32.674267640000004,45.811543344,20.94110981,27.341343148999997,16.50950282,55.32355424,38.526195189999996,48.895914229999995,65.29854827,39.190505316,32.244551723,38.50551091,58.74163150999999,45.234796669999994,26.733570055,23.621103022,37.54541558,34.74441933,25.31583503,30.999013329,42.620648415999995,53.273742092,41.64055828199999,38.24695741,23.86621174,49.49748204,34.503792206,18.746852439999998,48.45637328,46.21926990118234,45.44853423,26.208706449999998,36.462938259999994,42.81301222,44.163868073,76.42151984,37.506632555,29.53715184,47.401475,36.108547596,43.222560963999996,64.74869116,34.206110943000006,34.42553668,32.24162145,45.709500895999994,35.463198059999996,29.967040126,41.861535339999996,20.359709173,12.989900208999998,51.72448952,29.03383436,19.650238369,19.38978881,38.11250959,27.891544996999997,50.279003085999996,38.70028788,67.22390999999999,22.19078506,44.54482818763534,48.535663019999994,33.977032541999996,64.69870415,32.180258086,29.42166461,23.149329068999997,28.458811376,42.14077311999999,33.022280650999996,26.12079826,29.19413753,19.795200698,25.563874021,49.668989194999995,44.12621775881767,44.065790112,44.10233234,27.629199379000003,39.02926642881767,43.78000231,19.41047309,58.52272288,34.292467812,75.19769993999999,12.159771104999999,39.02926642881767,55.79929267999999,42.57341931,53.44817952,26.879566597999997,23.54043433,44.26780658,30.679441203,18.834760629999998,41.359252074,46.918841799999996,44.604787974999994,37.788628239,41.181884372999995,31.08330177,50.97123699,25.333761405999994,31.27463136,47.54971234,33.71365271,50.65161561645301,54.74784178,45.070356644,73.82219531999999,44.731479189999995,48.199543469999995,14.108402649999999,29.63540217,26.047541435,28.184055189999995,27.170697838999995,43.75069958,34.777169439999994,32.361935012000004,25.945671356,9.63025603,30.52137883,24.09890989,19.867078571,34.38416812,43.594188528,45.241519061000005,21.97532381,27.323589142,51.90892435000001,23.47321042,40.223857470999995,31.905501899999997,34.38416812,47.34804061,32.42088521,28.873531189999998,62.69750006,28.53741164,27.692458802000004,53.04828343999999,37.74708731,39.69485700999999,34.212833333999995,50.971236989999994,43.17326343,20.06030422,41.702955859999996,43.979260874,42.225233929999995,34.68236649,52.80007208,41.816891769,44.12621775709398,15.534239018,34.38933919,30.257826629,16.288008655,18.281800878,25.056764422999997,44.17989839,11.169511199999999,21.51337489,40.82042658,12.092891932999999,44.408804421999996,55.77343732999999,64.19711036000001,24.878362508,58.01768171,32.62772801,34.53585284,15.729015987999999,42.497576949999996,32.762003461,53.55160091999999,40.019944943999995,13.559062647000001,41.39958642,14.68928618,29.450794971,34.884382958,19.765208492,34.68236649,25.193625409,32.62772801,44.316759376,25.053834149999997,50.848855,66.67405289,48.00993757,40.69459721,27.148634606999998,29.274806222,34.38416812,39.291341181,47.461459411999996,47.377343339999996,32.900243399,12.521228897999999,73.82219531999999,32.001511433,36.830428968,22.168549459,51.54867314,34.51516856,35.843099336,25.745550947,47.02743427,28.537411639999995,39.7310545,64.59700644,37.92290369,41.565553144088355,12.004983743,50.77301264,18.27283769,16.7025561,44.07302961,27.036250018999997,35.09949947,30.50586562,32.87249198999999,18.511051648,17.943095792999998,11.275001028,35.261526329999995,26.42933877,16.88181986,46.342612233000004,29.61127051,20.6153324,33.60850762,19.867078571,18.457789626999997,45.854118487,23.60716575763534,21.66505961,15.535617969999999,45.706915361,17.085042911000002,30.717879489999998,30.431402212,23.130885585999998,19.8396719,28.916106333,43.723120540000004,49.6077982,22.436755623,51.63313395,41.95806198,42.18214168,36.860938281,44.482405985,62.32345932999999,36.38881959,20.969550695,52.24676759,15.890181003,26.793037359999996,39.7310545,41.565553144088355,17.031091414,37.62298163,19.89655367,38.644440324,40.432596329999996,17.563908617635338,26.79303736,17.94188921,54.447747351,21.005403447,69.91114271,11.621290348999999,14.519502715,25.719178489999997,67.4479897,51.09879005,19.51734187,22.681002495999998,37.654697526,35.6631461,24.237149828,49.44749503,30.47139182,45.25917457118233,53.19824446999999,51.97442457,13.144515202,63.85754343,48.082504919,45.08655932999999,36.702186432,32.63937522981767,43.64727818,20.221813973,21.189665908,37.29375684,44.76595299,53.923917960000004,23.073314339999996,45.08655932999999,42.19937858,63.073264480000006,24.44020051,31.382879091999996,38.328143209,15.412546504,11.584920490000002,30.386931009999998,32.245241199,47.544368901,22.490190013000003,24.74701733,25.03487356,25.03487356,45.633486167,55.3476859,33.275835449999995,43.431989298999994,33.72916592,35.619364374,21.375307321,40.24299043,26.019100549999997,45.764658976,22.05806093,32.065977439,36.74045235,28.45122714,49.59142314499999,44.516707416,26.098390289999998,46.442069145999994,20.660665447,45.81050913,39.70347545999999,53.348205500000006,21.494069562,26.217152531000004,16.607063674,54.74784178,20.751503910000004,18.884747639999997,20.221813973,55.3476859,33.386323979,38.16742142881767,36.861455387999996,38.30901025,39.10897477899999,37.84533764,39.16568418,50.23349767,56.92313856,19.901552371,14.779607536,48.058200889999995,11.275173397,14.37040353,16.881130384,44.296419834,45.511104177,56.540307010999996,20.076851644,39.86722601,49.38544218999999,32.006682503,9.527006999,45.82552985591165,32.67426764,55.30631734,20.730130154,30.67651093,30.165953951999995,25.128125189,23.807606279999995,49.0734543,37.40924407,34.317116579,32.762003461,13.558890278,32.94661066,32.67426764,34.625484719999996,12.72945065,33.44475707,27.530259573000002,17.795203191,11.475121437,24.09890989,19.75176371,18.853031744,33.28273021,49.38544218999999,21.920338098999995,33.317031641,29.546632135,52.35363637,22.073057032999998,19.746247902,29.546632135,16.36126548,24.242493267,24.77632006,35.776737271,62.997422119999996,22.383493601999998,17.982740662999998,32.57256993,27.08951204,24.098909889999998,40.99796665,31.333236819999996,28.04271261,52.99829643,15.314640912,28.978159173,41.98391733,20.474162188999998,44.341925249999996,29.336341954999998,41.07208532,73.82219531999999,49.590044193,36.27505605,38.712698448,34.90299881,21.544401309999998,17.68678309,10.519852439,29.617648163,12.612584468,64.74869116,42.49757695,29.822594904,17.371003081999998,46.297451554999995,15.314640912,36.699428528,29.89050829,37.60229735,38.265918,38.425531694,65.43299609,18.028073709999997,43.57143582,35.4735402,45.59849526,31.517499281,33.899638861,9.41651847,22.31833812,26.686513317999996,12.519849945999999,57.31441619,53.518850809999996,26.835957241000003,25.72434956,45.526100279999994,25.36237466,41.38062583,32.120618412,42.606661902364664,42.606661902364664,33.95324562,23.161222530000003,38.425531694,61.29614009,23.22327537,37.942381387000005,50.747157290000004,42.60666190236465,32.363313964,35.49594817,59.64829245,53.272363139999996,45.49507385999999,25.183110899999996,23.12157766,27.95480442,36.41122756,65.98630058,20.79976723,65.42265395,49.23375747,30.419336381999997,20.69979321,45.710362741,30.23869367,60.29984727,22.236290476,39.77587044,18.474164682,45.021403848,45.59849526,43.282028268999994,37.204297329,47.862734444,25.193625409,28.91662344,35.411487359999995,33.55679692,33.025728031,38.702011569999996,30.902314320000002,52.072674899999996,40.79284754,18.271803476,17.097108741,17.585774856,33.899638861,26.370216203,37.83844288,16.995411031,30.96264347,47.73914587099999,32.913441939817666,33.973757531,13.66024325,12.82252991,36.110443655,37.09208511,20.503982026000003,45.04691446,32.36055606,33.55679692,23.632651745,30.559817117,33.14138763,19.192771043,58.819025191,47.198941424999994,15.004204343,27.071240926,13.545790233999998,30.79889292,13.415479269999999,35.002972830000004,46.368295214,53.17066543,30.71960318,39.55696181,67.4479897,28.64945149,42.497576949999996,52.77249303999999,38.711319496,30.56274739,32.56567517,17.220352576,24.04030443,47.401475,19.848635087999998,55.05982967,38.193178282,48.73117871527069,29.283769409999998,42.84748602,35.23049991,62.97156677,37.496979890999995,54.39448533689476,30.488628719999998,24.967477281,18.355402441,29.22171657,58.74852627,53.38267929999999,44.849896693,52.404657594,61.29614009,75.79754405999999,48.73117871527069,15.980847096999998,36.03029207,52.61563725,22.1666534,73.24648286,34.59618199,20.875609589999996,12.991106792,44.108537624,46.54307738,22.34936454,36.090621219999996,42.70097237,30.592050119999996,52.857126218999994,14.52553563,44.482233616,46.841275749999994,27.03090658,23.473210419999997,28.48397725,52.52428168,17.75006713763534,37.496979890999995,26.638594736,24.04030443,20.56189801,27.461484342,57.48850888,26.894735069999996,20.68600369,24.51776656,57.48850888,33.972550948,24.04030443,29.646606155,44.06165325599999,75.19769993999999,36.490172562,50.7971443,41.561613279999996,14.123398753,17.037813805,35.285140883000004,47.666578522,45.59849526,21.787786338,33.312722416,34.819227476,44.874200722,48.572894723999994,23.816914205999996,37.22653293,27.875342310999997,21.90292883,50.948829020000005,23.816914206,28.341945193999997,50.7971443,38.872656879999994,14.236472817000001,59.47247607,29.232058709999997,58.14868215,20.968516481,37.571615668,12.736000672000001,21.282572799,23.36117057,61.88022476571243,55.95097739999999,28.340910979999997,54.51169625,22.322647345,35.711409419999995,53.46024535,37.684000256000004,37.54886296,33.28962497,22.197852188999995,33.141559998999995,26.612049910000003,12.269225419999998,41.89945652,50.7971443,25.203967548999998,32.005303551,64.74869116,21.282572799,28.866636429999996,18.647567895999998,31.911707184,45.09345409,22.169928410999997,47.493175308,38.431392239999994,22.26145635,28.407273045,53.1241258,59.088437938000006,69.19753505,46.121635174999994,53.49644283999999,16.947664818,43.233075473,22.527421717000003,32.3191875,40.08268726,50.39897191,29.983587549999996,16.072719774,43.655207153999996,19.431846846,15.54596011,27.871722562,49.67019577799999,45.59849526,58.14868214999999,21.72021769,21.710565025999998,56.07508308,28.31333194,22.93369545,21.760379667,34.106654029999994,33.58954702999999,38.34693143,27.071413295,32.758038973999994,37.345467539999994,43.453535423999995,13.86363867,38.63651135,39.506974799999995,41.29616502,62.67853947,38.36416833,29.373056551999994,27.324278617999997,47.740180085000006,34.92713047,55.80274006,44.5746234,27.891889735,36.791128836,70.84710638,26.795622895,51.5900417,49.568153329999994,40.574800755,56.54909783000001,22.33212764,12.527951288999999,13.307403907,17.355489872,36.830428968,13.525105954,27.10330156,20.67738524,37.836719190000004,28.47708249,25.564563496999998,50.173168520000004,30.349526937,57.069652209999994,59.089299782999994,75.19769993999999,11.474431961,49.77327244,38.44276859399999,48.74250582,27.48768443,60.301398590999995,34.157675254,60.694572279999996,37.847578436999996,45.32270486,52.078190707999994,24.634115635,48.02372709,52.574441058999994,31.815008174999996,13.623873391,14.814943180999999,32.003407492,56.77317753,55.80274006,13.307403907,38.36416833,19.560778858,32.5087934,58.80023697,18.66411532,45.08655933,44.47464938,18.66411532,32.29505584,24.298857929999997,16.19406755,27.214651933999995,44.531875888]}},\"id\":\"2067b733-1291-49b5-b2fc-f2439972e221\",\"type\":\"ColumnDataSource\"},{\"attributes\":{\"data_source\":{\"id\":\"b23131d4-37bc-4196-a6aa-5e1f40c4bb7c\",\"type\":\"ColumnDataSource\"},\"glyph\":{\"id\":\"a129ecdf-6756-4034-ae3e-6667847e4429\",\"type\":\"Line\"},\"hover_glyph\":null,\"nonselection_glyph\":{\"id\":\"cd7fd055-9f94-4e9a-b23d-5c3014d01d44\",\"type\":\"Line\"},\"selection_glyph\":null},\"id\":\"7374f3b2-af5b-41ce-957b-d309fd04cbdf\",\"type\":\"GlyphRenderer\"},{\"attributes\":{\"fill_alpha\":{\"value\":0.5},\"fill_color\":{\"value\":\"lightgrey\"},\"level\":\"overlay\",\"line_alpha\":{\"value\":1.0},\"line_color\":{\"value\":\"black\"},\"line_dash\":[4,4],\"line_width\":{\"value\":2},\"plot\":null,\"xs_units\":\"screen\",\"ys_units\":\"screen\"},\"id\":\"44a8c05b-f883-4673-a7a1-24e1f3702244\",\"type\":\"PolyAnnotation\"},{\"attributes\":{},\"id\":\"0ec055ea-d0a1-4519-99cb-e3e2e69761a6\",\"type\":\"BasicTicker\"},{\"attributes\":{},\"id\":\"67aaebea-6bf1-40f2-b133-c2f6ef504337\",\"type\":\"BasicTicker\"},{\"attributes\":{\"overlay\":{\"id\":\"44a8c05b-f883-4673-a7a1-24e1f3702244\",\"type\":\"PolyAnnotation\"},\"plot\":{\"id\":\"42b00dd0-e77b-4df5-9400-f88a04e8eb08\",\"subtype\":\"Figure\",\"type\":\"Plot\"}},\"id\":\"d9bbb02b-5b51-49f8-959d-b922a5dc9549\",\"type\":\"PolySelectTool\"},{\"attributes\":{\"fill_color\":{\"value\":\"#80B1D3\"},\"line_color\":{\"value\":\"#80B1D3\"},\"line_width\":{\"value\":3},\"x\":{\"field\":\"x\"},\"y\":{\"field\":\"y\"}},\"id\":\"93057865-1bd1-4778-8c1a-332b72b5a9f0\",\"type\":\"Circle\"},{\"attributes\":{\"line_dash\":[4,4],\"line_width\":{\"value\":2},\"x\":{\"field\":\"x\"},\"y\":{\"field\":\"y\"}},\"id\":\"a129ecdf-6756-4034-ae3e-6667847e4429\",\"type\":\"Line\"},{\"attributes\":{\"callback\":null},\"id\":\"279223c3-9874-4620-86dd-7c9a46f2ca02\",\"type\":\"DataRange1d\"},{\"attributes\":{},\"id\":\"b98dc68e-8880-4a6c-ad43-a1ade04032d5\",\"type\":\"BasicTickFormatter\"},{\"attributes\":{\"plot\":{\"id\":\"42b00dd0-e77b-4df5-9400-f88a04e8eb08\",\"subtype\":\"Figure\",\"type\":\"Plot\"}},\"id\":\"5be9efef-134d-4923-9db5-12a32b96274a\",\"type\":\"CrosshairTool\"},{\"attributes\":{\"overlay\":{\"id\":\"f253976d-0f3c-4832-8345-cc4458cb6223\",\"type\":\"BoxAnnotation\"},\"plot\":{\"id\":\"42b00dd0-e77b-4df5-9400-f88a04e8eb08\",\"subtype\":\"Figure\",\"type\":\"Plot\"}},\"id\":\"a07833ee-452b-4aaf-91d1-e196185c0d04\",\"type\":\"BoxZoomTool\"},{\"attributes\":{\"callback\":null},\"id\":\"677c2327-40a6-4614-a4c9-87df7d60e2b8\",\"type\":\"DataRange1d\"}],\"root_ids\":[\"42b00dd0-e77b-4df5-9400-f88a04e8eb08\"]},\"title\":\"Bokeh Application\",\"version\":\"0.12.2\"}};\n",
       "            var render_items = [{\"docid\":\"c9ce57db-dfb3-4953-8171-c0238fc9981a\",\"elementid\":\"7962a7dd-7b25-4200-830f-f3221b95ea04\",\"modelid\":\"42b00dd0-e77b-4df5-9400-f88a04e8eb08\"}];\n",
       "            \n",
       "            Bokeh.embed.embed_items(docs_json, render_items);\n",
       "        });\n",
       "      },\n",
       "      function(Bokeh) {\n",
       "      }\n",
       "    ];\n",
       "  \n",
       "    function run_inline_js() {\n",
       "      \n",
       "      if ((window.Bokeh !== undefined) || (force === \"1\")) {\n",
       "        for (var i = 0; i < inline_js.length; i++) {\n",
       "          inline_js[i](window.Bokeh);\n",
       "        }if (force === \"1\") {\n",
       "          display_loaded();\n",
       "        }} else if (Date.now() < window._bokeh_timeout) {\n",
       "        setTimeout(run_inline_js, 100);\n",
       "      } else if (!window._bokeh_failed_load) {\n",
       "        console.log(\"Bokeh: BokehJS failed to load within specified timeout.\");\n",
       "        window._bokeh_failed_load = true;\n",
       "      } else if (!force) {\n",
       "        var cell = $(\"#7962a7dd-7b25-4200-830f-f3221b95ea04\").parents('.cell').data().cell;\n",
       "        cell.output_area.append_execute_result(NB_LOAD_WARNING)\n",
       "      }\n",
       "  \n",
       "    }\n",
       "  \n",
       "    if (window._bokeh_is_loading === 0) {\n",
       "      console.log(\"Bokeh: BokehJS loaded, going straight to plotting\");\n",
       "      run_inline_js();\n",
       "    } else {\n",
       "      load_libs(js_urls, function() {\n",
       "        console.log(\"Bokeh: BokehJS plotting callback run at\", now());\n",
       "        run_inline_js();\n",
       "      });\n",
       "    }\n",
       "  }(this));\n",
       "</script>"
      ]
     },
     "metadata": {},
     "output_type": "display_data"
    }
   ],
   "source": [
    "# Plotining using bokeh\n",
    "#TOOLS = [BoxSelectTool(), HoverTool()]\n",
    "#TOOLS = 'hover,box_zoom,box_select,crosshair,resize,reset,KNeighborsRegressor_select,pan,save,poly_select,tap,wheel_zoom,undo'\n",
    "TOOLS = 'box_zoom,box_select,crosshair,resize,reset,lasso_select,pan,save,poly_select,tap,wheel_zoom,undo'\n",
    "p = figure(plot_width=500, plot_height=500, tools=TOOLS)\n",
    "p.scatter(Y, predicted,x=\"jjj\", marker=\"o\", color=\"#80B1D3\", line_width=3)\n",
    "p.title.align = \"center\"\n",
    "p.xaxis.axis_label = \"Measured\"\n",
    "p.xaxis.axis_label_text_color = \"#aa6666\"\n",
    "#p.xaxis.axis_label_standoff = 30\n",
    "p.xaxis.major_tick_line_color = \"firebrick\"\n",
    "p.xaxis.major_tick_line_width = 3\n",
    "p.xaxis.minor_tick_line_color = \"orange\"\n",
    "p.yaxis.axis_label = \"Predicted\"\n",
    "p.yaxis.axis_label_text_font_style = \"italic\"\n",
    "p.yaxis.axis_label_text_color = \"#aa6666\"\n",
    "p.background_fill_color = \"beige\"\n",
    "p.background_fill_alpha = 0.5\n",
    "#p.line([Y.min(), Y.max()], [Y.min(), Y.max()], line_dash=\"4 4\", line_width=2, color='red')\n",
    "\n",
    "# create a new plot with the toolbar below\n",
    "# line_dash=\"4 4\", line_width=2, color='red'\n",
    "p.line([Y.min(), Y.max()], [Y.min(), Y.max()], line_dash=\"4 4\", line_width=2, line_color=\"black\")\n",
    "show(p)"
   ]
  },
  {
   "cell_type": "code",
   "execution_count": 24,
   "metadata": {
    "collapsed": false
   },
   "outputs": [
    {
     "data": {
      "text/plain": [
       "<matplotlib.text.Text at 0x7f3ba022a290>"
      ]
     },
     "execution_count": 24,
     "metadata": {},
     "output_type": "execute_result"
    },
    {
     "data": {
      "image/png": "[encoded data removed]",
      "text/plain": [
       "<matplotlib.figure.Figure at 0x7f3ba07872d0>"
      ]
     },
     "metadata": {},
     "output_type": "display_data"
    }
   ],
   "source": [
    "plt.scatter(predicted, (predicted - Y), c='r', s=30)\n",
    "plt.title(\"Residual plot on the training data\")\n",
    "plt.xlabel(\"Predicted\")\n",
    "plt.ylabel(\"Residuals\")"
   ]
  },
  {
   "cell_type": "code",
   "execution_count": 25,
   "metadata": {
    "collapsed": false
   },
   "outputs": [
    {
     "data": {
      "text/html": [
       "\n",
       "\n",
       "    <div class=\"bk-root\">\n",
       "        <div class=\"plotdiv\" id=\"e2275bc5-5756-40c9-be78-4fe4662c22fc\"></div>\n",
       "    </div>\n",
       "<script type=\"text/javascript\">\n",
       "  \n",
       "  (function(global) {\n",
       "    function now() {\n",
       "      return new Date();\n",
       "    }\n",
       "  \n",
       "    var force = \"\";\n",
       "  \n",
       "    if (typeof (window._bokeh_onload_callbacks) === \"undefined\" || force !== \"\") {\n",
       "      window._bokeh_onload_callbacks = [];\n",
       "      window._bokeh_is_loading = undefined;\n",
       "    }\n",
       "  \n",
       "  \n",
       "    \n",
       "    if (typeof (window._bokeh_timeout) === \"undefined\" || force !== \"\") {\n",
       "      window._bokeh_timeout = Date.now() + 0;\n",
       "      window._bokeh_failed_load = false;\n",
       "    }\n",
       "  \n",
       "    var NB_LOAD_WARNING = {'data': {'text/html':\n",
       "       \"<div style='background-color: #fdd'>\\n\"+\n",
       "       \"<p>\\n\"+\n",
       "       \"BokehJS does not appear to have successfully loaded. If loading BokehJS from CDN, this \\n\"+\n",
       "       \"may be due to a slow or bad network connection. Possible fixes:\\n\"+\n",
       "       \"</p>\\n\"+\n",
       "       \"<ul>\\n\"+\n",
       "       \"<li>re-rerun `output_notebook()` to attempt to load from CDN again, or</li>\\n\"+\n",
       "       \"<li>use INLINE resources instead, as so:</li>\\n\"+\n",
       "       \"</ul>\\n\"+\n",
       "       \"<code>\\n\"+\n",
       "       \"from bokeh.resources import INLINE\\n\"+\n",
       "       \"output_notebook(resources=INLINE)\\n\"+\n",
       "       \"</code>\\n\"+\n",
       "       \"</div>\"}};\n",
       "  \n",
       "    function display_loaded() {\n",
       "      if (window.Bokeh !== undefined) {\n",
       "        Bokeh.$(\"#e2275bc5-5756-40c9-be78-4fe4662c22fc\").text(\"BokehJS successfully loaded.\");\n",
       "      } else if (Date.now() < window._bokeh_timeout) {\n",
       "        setTimeout(display_loaded, 100)\n",
       "      }\n",
       "    }\n",
       "  \n",
       "    function run_callbacks() {\n",
       "      window._bokeh_onload_callbacks.forEach(function(callback) { callback() });\n",
       "      delete window._bokeh_onload_callbacks\n",
       "      console.info(\"Bokeh: all callbacks have finished\");\n",
       "    }\n",
       "  \n",
       "    function load_libs(js_urls, callback) {\n",
       "      window._bokeh_onload_callbacks.push(callback);\n",
       "      if (window._bokeh_is_loading > 0) {\n",
       "        console.log(\"Bokeh: BokehJS is being loaded, scheduling callback at\", now());\n",
       "        return null;\n",
       "      }\n",
       "      if (js_urls == null || js_urls.length === 0) {\n",
       "        run_callbacks();\n",
       "        return null;\n",
       "      }\n",
       "      console.log(\"Bokeh: BokehJS not loaded, scheduling load and callback at\", now());\n",
       "      window._bokeh_is_loading = js_urls.length;\n",
       "      for (var i = 0; i < js_urls.length; i++) {\n",
       "        var url = js_urls[i];\n",
       "        var s = document.createElement('script');\n",
       "        s.src = url;\n",
       "        s.async = false;\n",
       "        s.onreadystatechange = s.onload = function() {\n",
       "          window._bokeh_is_loading--;\n",
       "          if (window._bokeh_is_loading === 0) {\n",
       "            console.log(\"Bokeh: all BokehJS libraries loaded\");\n",
       "            run_callbacks()\n",
       "          }\n",
       "        };\n",
       "        s.onerror = function() {\n",
       "          console.warn(\"failed to load library \" + url);\n",
       "        };\n",
       "        console.log(\"Bokeh: injecting script tag for BokehJS library: \", url);\n",
       "        document.getElementsByTagName(\"head\")[0].appendChild(s);\n",
       "      }\n",
       "    };var element = document.getElementById(\"e2275bc5-5756-40c9-be78-4fe4662c22fc\");\n",
       "    if (element == null) {\n",
       "      console.log(\"Bokeh: ERROR: autoload.js configured with elementid 'e2275bc5-5756-40c9-be78-4fe4662c22fc' but no matching script tag was found. \")\n",
       "      return false;\n",
       "    }\n",
       "  \n",
       "    var js_urls = [];\n",
       "  \n",
       "    var inline_js = [\n",
       "      function(Bokeh) {\n",
       "        Bokeh.$(function() {\n",
       "            var docs_json = {\"714f4a32-448f-4559-bf4a-16abab963917\":{\"roots\":{\"references\":[{\"attributes\":{\"background_fill_alpha\":{\"value\":0.5},\"background_fill_color\":{\"value\":\"beige\"},\"below\":[{\"id\":\"d3297710-91fe-4975-b445-d1a6e67cb541\",\"type\":\"LinearAxis\"}],\"left\":[{\"id\":\"b1278f65-3b84-4041-92f5-469e36293dc6\",\"type\":\"LinearAxis\"}],\"plot_height\":500,\"plot_width\":500,\"renderers\":[{\"id\":\"d3297710-91fe-4975-b445-d1a6e67cb541\",\"type\":\"LinearAxis\"},{\"id\":\"c22c71cc-e609-4454-acfd-a481592aa131\",\"type\":\"Grid\"},{\"id\":\"b1278f65-3b84-4041-92f5-469e36293dc6\",\"type\":\"LinearAxis\"},{\"id\":\"4a4b29a1-306c-4314-b3bd-fb5437afde1e\",\"type\":\"Grid\"},{\"id\":\"eb6dade6-10ba-4303-8c49-31765b6d1ff3\",\"type\":\"BoxAnnotation\"},{\"id\":\"0ea02b09-5f9b-4849-9f97-cd427fef84cc\",\"type\":\"BoxAnnotation\"},{\"id\":\"23c8ac7c-43b5-462f-b1a2-d21df8c86890\",\"type\":\"PolyAnnotation\"},{\"id\":\"23921d09-db37-47f5-b8cb-3a8ed3fba7f1\",\"type\":\"PolyAnnotation\"},{\"id\":\"d334e014-6913-456c-b535-c49818000d01\",\"type\":\"GlyphRenderer\"}],\"title\":{\"id\":\"9eef46a3-b31a-4d76-ad6d-cfa1edccd66c\",\"type\":\"Title\"},\"tool_events\":{\"id\":\"9a5661b8-e5f8-488a-a5ba-e2adeb743713\",\"type\":\"ToolEvents\"},\"toolbar\":{\"id\":\"6ff8aac6-5107-40aa-b6ca-72fef8d98d28\",\"type\":\"Toolbar\"},\"x_range\":{\"id\":\"d6022268-106a-404b-89e4-a13ddab5d2af\",\"type\":\"DataRange1d\"},\"y_range\":{\"id\":\"dbd822bb-5a41-438a-b081-85494c1daa64\",\"type\":\"DataRange1d\"}},\"id\":\"f73ae351-c3bc-4fe3-b20d-b8b254519ef8\",\"subtype\":\"Figure\",\"type\":\"Plot\"},{\"attributes\":{\"align\":\"center\",\"plot\":null,\"text\":\"Residual plot on the training data\"},\"id\":\"9eef46a3-b31a-4d76-ad6d-cfa1edccd66c\",\"type\":\"Title\"},{\"attributes\":{\"callback\":null,\"overlay\":{\"id\":\"23c8ac7c-43b5-462f-b1a2-d21df8c86890\",\"type\":\"PolyAnnotation\"},\"plot\":{\"id\":\"f73ae351-c3bc-4fe3-b20d-b8b254519ef8\",\"subtype\":\"Figure\",\"type\":\"Plot\"}},\"id\":\"3007992d-c516-44af-8cf9-e0fc97e19fe6\",\"type\":\"LassoSelectTool\"},{\"attributes\":{\"overlay\":{\"id\":\"23921d09-db37-47f5-b8cb-3a8ed3fba7f1\",\"type\":\"PolyAnnotation\"},\"plot\":{\"id\":\"f73ae351-c3bc-4fe3-b20d-b8b254519ef8\",\"subtype\":\"Figure\",\"type\":\"Plot\"}},\"id\":\"3d36f4fe-06d0-4360-9989-48bd35793db1\",\"type\":\"PolySelectTool\"},{\"attributes\":{},\"id\":\"e7c0e371-9f22-4acc-831c-9e67778e4b01\",\"type\":\"BasicTickFormatter\"},{\"attributes\":{\"plot\":{\"id\":\"f73ae351-c3bc-4fe3-b20d-b8b254519ef8\",\"subtype\":\"Figure\",\"type\":\"Plot\"}},\"id\":\"269936e0-101d-4f15-a58e-7d057ec72e69\",\"type\":\"ResizeTool\"},{\"attributes\":{},\"id\":\"9a5661b8-e5f8-488a-a5ba-e2adeb743713\",\"type\":\"ToolEvents\"},{\"attributes\":{\"callback\":null,\"column_names\":[\"x\",\"y\"],\"data\":{\"x\":[33.080886111,35.070369109,53.273742092,23.07676172,48.949348619999995,18.84510277,19.62076327,26.467777057,45.266167828,22.931109915,16.433315722,39.17602632,20.941109809999997,43.830851165,45.54850825,36.03891052,35.41665843,37.019690129999994,38.15560184,38.9898678,24.876811187,37.1110457,31.396323873999997,42.12870729,27.961526811,37.849129758,60.323978929999996,16.2371598,37.231876369,33.0603742,35.284451407,32.420712841,18.520187205,58.672683909999996,58.772657929999994,45.021059109999996,38.880241116,36.03891052,20.69117476,23.605417443,32.429503659999995,24.036857050000002,44.709588327,17.881560059999998,15.45632823,48.265733166,40.04873056699999,32.674267640000004,45.811543344,20.94110981,27.341343148999997,16.50950282,55.32355424,38.526195189999996,48.895914229999995,65.29854827,39.190505316,32.244551723,38.50551091,58.74163150999999,45.234796669999994,26.733570055,23.621103022,37.54541558,34.74441933,25.31583503,30.999013329,42.620648415999995,53.273742092,41.64055828199999,38.24695741,23.86621174,49.49748204,34.503792206,18.746852439999998,48.45637328,46.21926990118234,45.44853423,26.208706449999998,36.462938259999994,42.81301222,44.163868073,76.42151984,37.506632555,29.53715184,47.401475,36.108547596,43.222560963999996,64.74869116,34.206110943000006,34.42553668,32.24162145,45.709500895999994,35.463198059999996,29.967040126,41.861535339999996,20.359709173,12.989900208999998,51.72448952,29.03383436,19.650238369,19.38978881,38.11250959,27.891544996999997,50.279003085999996,38.70028788,67.22390999999999,22.19078506,44.54482818763534,48.535663019999994,33.977032541999996,64.69870415,32.180258086,29.42166461,23.149329068999997,28.458811376,42.14077311999999,33.022280650999996,26.12079826,29.19413753,19.795200698,25.563874021,49.668989194999995,44.12621775881767,44.065790112,44.10233234,27.629199379000003,39.02926642881767,43.78000231,19.41047309,58.52272288,34.292467812,75.19769993999999,12.159771104999999,39.02926642881767,55.79929267999999,42.57341931,53.44817952,26.879566597999997,23.54043433,44.26780658,30.679441203,18.834760629999998,41.359252074,46.918841799999996,44.604787974999994,37.788628239,41.181884372999995,31.08330177,50.97123699,25.333761405999994,31.27463136,47.54971234,33.71365271,50.65161561645301,54.74784178,45.070356644,73.82219531999999,44.731479189999995,48.199543469999995,14.108402649999999,29.63540217,26.047541435,28.184055189999995,27.170697838999995,43.75069958,34.777169439999994,32.361935012000004,25.945671356,9.63025603,30.52137883,24.09890989,19.867078571,34.38416812,43.594188528,45.241519061000005,21.97532381,27.323589142,51.90892435000001,23.47321042,40.223857470999995,31.905501899999997,34.38416812,47.34804061,32.42088521,28.873531189999998,62.69750006,28.53741164,27.692458802000004,53.04828343999999,37.74708731,39.69485700999999,34.212833333999995,50.971236989999994,43.17326343,20.06030422,41.702955859999996,43.979260874,42.225233929999995,34.68236649,52.80007208,41.816891769,44.12621775709398,15.534239018,34.38933919,30.257826629,16.288008655,18.281800878,25.056764422999997,44.17989839,11.169511199999999,21.51337489,40.82042658,12.092891932999999,44.408804421999996,55.77343732999999,64.19711036000001,24.878362508,58.01768171,32.62772801,34.53585284,15.729015987999999,42.497576949999996,32.762003461,53.55160091999999,40.019944943999995,13.559062647000001,41.39958642,14.68928618,29.450794971,34.884382958,19.765208492,34.68236649,25.193625409,32.62772801,44.316759376,25.053834149999997,50.848855,66.67405289,48.00993757,40.69459721,27.148634606999998,29.274806222,34.38416812,39.291341181,47.461459411999996,47.377343339999996,32.900243399,12.521228897999999,73.82219531999999,32.001511433,36.830428968,22.168549459,51.54867314,34.51516856,35.843099336,25.745550947,47.02743427,28.537411639999995,39.7310545,64.59700644,37.92290369,41.565553144088355,12.004983743,50.77301264,18.27283769,16.7025561,44.07302961,27.036250018999997,35.09949947,30.50586562,32.87249198999999,18.511051648,17.943095792999998,11.275001028,35.261526329999995,26.42933877,16.88181986,46.342612233000004,29.61127051,20.6153324,33.60850762,19.867078571,18.457789626999997,45.854118487,23.60716575763534,21.66505961,15.535617969999999,45.706915361,17.085042911000002,30.717879489999998,30.431402212,23.130885585999998,19.8396719,28.916106333,43.723120540000004,49.6077982,22.436755623,51.63313395,41.95806198,42.18214168,36.860938281,44.482405985,62.32345932999999,36.38881959,20.969550695,52.24676759,15.890181003,26.793037359999996,39.7310545,41.565553144088355,17.031091414,37.62298163,19.89655367,38.644440324,40.432596329999996,17.563908617635338,26.79303736,17.94188921,54.447747351,21.005403447,69.91114271,11.621290348999999,14.519502715,25.719178489999997,67.4479897,51.09879005,19.51734187,22.681002495999998,37.654697526,35.6631461,24.237149828,49.44749503,30.47139182,45.25917457118233,53.19824446999999,51.97442457,13.144515202,63.85754343,48.082504919,45.08655932999999,36.702186432,32.63937522981767,43.64727818,20.221813973,21.189665908,37.29375684,44.76595299,53.923917960000004,23.073314339999996,45.08655932999999,42.19937858,63.073264480000006,24.44020051,31.382879091999996,38.328143209,15.412546504,11.584920490000002,30.386931009999998,32.245241199,47.544368901,22.490190013000003,24.74701733,25.03487356,25.03487356,45.633486167,55.3476859,33.275835449999995,43.431989298999994,33.72916592,35.619364374,21.375307321,40.24299043,26.019100549999997,45.764658976,22.05806093,32.065977439,36.74045235,28.45122714,49.59142314499999,44.516707416,26.098390289999998,46.442069145999994,20.660665447,45.81050913,39.70347545999999,53.348205500000006,21.494069562,26.217152531000004,16.607063674,54.74784178,20.751503910000004,18.884747639999997,20.221813973,55.3476859,33.386323979,38.16742142881767,36.861455387999996,38.30901025,39.10897477899999,37.84533764,39.16568418,50.23349767,56.92313856,19.901552371,14.779607536,48.058200889999995,11.275173397,14.37040353,16.881130384,44.296419834,45.511104177,56.540307010999996,20.076851644,39.86722601,49.38544218999999,32.006682503,9.527006999,45.82552985591165,32.67426764,55.30631734,20.730130154,30.67651093,30.165953951999995,25.128125189,23.807606279999995,49.0734543,37.40924407,34.317116579,32.762003461,13.558890278,32.94661066,32.67426764,34.625484719999996,12.72945065,33.44475707,27.530259573000002,17.795203191,11.475121437,24.09890989,19.75176371,18.853031744,33.28273021,49.38544218999999,21.920338098999995,33.317031641,29.546632135,52.35363637,22.073057032999998,19.746247902,29.546632135,16.36126548,24.242493267,24.77632006,35.776737271,62.997422119999996,22.383493601999998,17.982740662999998,32.57256993,27.08951204,24.098909889999998,40.99796665,31.333236819999996,28.04271261,52.99829643,15.314640912,28.978159173,41.98391733,20.474162188999998,44.341925249999996,29.336341954999998,41.07208532,73.82219531999999,49.590044193,36.27505605,38.712698448,34.90299881,21.544401309999998,17.68678309,10.519852439,29.617648163,12.612584468,64.74869116,42.49757695,29.822594904,17.371003081999998,46.297451554999995,15.314640912,36.699428528,29.89050829,37.60229735,38.265918,38.425531694,65.43299609,18.028073709999997,43.57143582,35.4735402,45.59849526,31.517499281,33.899638861,9.41651847,22.31833812,26.686513317999996,12.519849945999999,57.31441619,53.518850809999996,26.835957241000003,25.72434956,45.526100279999994,25.36237466,41.38062583,32.120618412,42.606661902364664,42.606661902364664,33.95324562,23.161222530000003,38.425531694,61.29614009,23.22327537,37.942381387000005,50.747157290000004,42.60666190236465,32.363313964,35.49594817,59.64829245,53.272363139999996,45.49507385999999,25.183110899999996,23.12157766,27.95480442,36.41122756,65.98630058,20.79976723,65.42265395,49.23375747,30.419336381999997,20.69979321,45.710362741,30.23869367,60.29984727,22.236290476,39.77587044,18.474164682,45.021403848,45.59849526,43.282028268999994,37.204297329,47.862734444,25.193625409,28.91662344,35.411487359999995,33.55679692,33.025728031,38.702011569999996,30.902314320000002,52.072674899999996,40.79284754,18.271803476,17.097108741,17.585774856,33.899638861,26.370216203,37.83844288,16.995411031,30.96264347,47.73914587099999,32.913441939817666,33.973757531,13.66024325,12.82252991,36.110443655,37.09208511,20.503982026000003,45.04691446,32.36055606,33.55679692,23.632651745,30.559817117,33.14138763,19.192771043,58.819025191,47.198941424999994,15.004204343,27.071240926,13.545790233999998,30.79889292,13.415479269999999,35.002972830000004,46.368295214,53.17066543,30.71960318,39.55696181,67.4479897,28.64945149,42.497576949999996,52.77249303999999,38.711319496,30.56274739,32.56567517,17.220352576,24.04030443,47.401475,19.848635087999998,55.05982967,38.193178282,48.73117871527069,29.283769409999998,42.84748602,35.23049991,62.97156677,37.496979890999995,54.39448533689476,30.488628719999998,24.967477281,18.355402441,29.22171657,58.74852627,53.38267929999999,44.849896693,52.404657594,61.29614009,75.79754405999999,48.73117871527069,15.980847096999998,36.03029207,52.61563725,22.1666534,73.24648286,34.59618199,20.875609589999996,12.991106792,44.108537624,46.54307738,22.34936454,36.090621219999996,42.70097237,30.592050119999996,52.857126218999994,14.52553563,44.482233616,46.841275749999994,27.03090658,23.473210419999997,28.48397725,52.52428168,17.75006713763534,37.496979890999995,26.638594736,24.04030443,20.56189801,27.461484342,57.48850888,26.894735069999996,20.68600369,24.51776656,57.48850888,33.972550948,24.04030443,29.646606155,44.06165325599999,75.19769993999999,36.490172562,50.7971443,41.561613279999996,14.123398753,17.037813805,35.285140883000004,47.666578522,45.59849526,21.787786338,33.312722416,34.819227476,44.874200722,48.572894723999994,23.816914205999996,37.22653293,27.875342310999997,21.90292883,50.948829020000005,23.816914206,28.341945193999997,50.7971443,38.872656879999994,14.236472817000001,59.47247607,29.232058709999997,58.14868215,20.968516481,37.571615668,12.736000672000001,21.282572799,23.36117057,61.88022476571243,55.95097739999999,28.340910979999997,54.51169625,22.322647345,35.711409419999995,53.46024535,37.684000256000004,37.54886296,33.28962497,22.197852188999995,33.141559998999995,26.612049910000003,12.269225419999998,41.89945652,50.7971443,25.203967548999998,32.005303551,64.74869116,21.282572799,28.866636429999996,18.647567895999998,31.911707184,45.09345409,22.169928410999997,47.493175308,38.431392239999994,22.26145635,28.407273045,53.1241258,59.088437938000006,69.19753505,46.121635174999994,53.49644283999999,16.947664818,43.233075473,22.527421717000003,32.3191875,40.08268726,50.39897191,29.983587549999996,16.072719774,43.655207153999996,19.431846846,15.54596011,27.871722562,49.67019577799999,45.59849526,58.14868214999999,21.72021769,21.710565025999998,56.07508308,28.31333194,22.93369545,21.760379667,34.106654029999994,33.58954702999999,38.34693143,27.071413295,32.758038973999994,37.345467539999994,43.453535423999995,13.86363867,38.63651135,39.506974799999995,41.29616502,62.67853947,38.36416833,29.373056551999994,27.324278617999997,47.740180085000006,34.92713047,55.80274006,44.5746234,27.891889735,36.791128836,70.84710638,26.795622895,51.5900417,49.568153329999994,40.574800755,56.54909783000001,22.33212764,12.527951288999999,13.307403907,17.355489872,36.830428968,13.525105954,27.10330156,20.67738524,37.836719190000004,28.47708249,25.564563496999998,50.173168520000004,30.349526937,57.069652209999994,59.089299782999994,75.19769993999999,11.474431961,49.77327244,38.44276859399999,48.74250582,27.48768443,60.301398590999995,34.157675254,60.694572279999996,37.847578436999996,45.32270486,52.078190707999994,24.634115635,48.02372709,52.574441058999994,31.815008174999996,13.623873391,14.814943180999999,32.003407492,56.77317753,55.80274006,13.307403907,38.36416833,19.560778858,32.5087934,58.80023697,18.66411532,45.08655933,44.47464938,18.66411532,32.29505584,24.298857929999997,16.19406755,27.214651933999995,44.531875888],\"y\":[-10.811156048999997,-3.140390811000003,19.854150896,9.95603344,1.727137379999995,-3.4732353499999995,7.148142430000002,-2.470220139000002,-1.763679608000004,-3.3917048130000005,-14.006360201999996,26.53793124,0.16719792999999683,0.03257774100000432,-20.55155587,20.677385240000003,-5.448584089999997,-8.920095750000002,4.398856880000004,-4.591910159999998,1.352579543000001,-5.588202979999998,17.252413209999997,-6.2725079099999945,-6.608110353000001,1.9894829979999997,1.2289909699999981,-8.25992248,-0.49004506700000405,17.54026944,2.8832162630000013,-0.632766599,-30.729083474999996,-13.02592533,3.876578809999998,-5.438241950000005,-12.983522555999997,7.356708920000003,-6.081178319999999,6.369206919,-4.409199020000003,-16.19406755,-3.004908776999997,6.518995579999999,5.465820990000001,7.340506234000003,-0.5145214650000014,0.9583716400000029,6.3942004240000045,2.8147857700000003,9.056439628999996,6.643101260000002,14.023941839999999,3.969658069999994,-5.0624775300000024,-17.300676530000004,-15.408409647999996,-12.367303380999992,-0.7842789500000009,-4.786687130000004,6.072559869999992,-12.587935701,3.205029186000001,-6.849944059999999,-21.59266463,-13.184504809999996,-1.2464002390000033,0.39162236799999306,7.026449915999997,7.952760921999996,-5.962243709999996,-9.86295418,-15.402893839999997,1.3117280899999955,6.294915879999998,4.316119759999999,-11.696714098817658,-10.06117853,-11.057471350000004,-5.753677220000007,1.609926459999997,4.384550253000008,11.521143960000003,-2.1554743449999947,6.026020240000001,-7.363603679999997,7.035413104000003,-6.550711476000004,-0.44815939999999443,-2.382311948999991,-17.581637999999998,-5.024556350000005,2.131170315999995,-5.21588594,3.001633766000001,5.609576736000001,-5.366708815000003,0.8089277169999978,-21.270334600000005,0.4067908399999993,8.258026421,-0.694647070000002,-10.171494689999996,3.890885436999998,4.974224602,2.9371677600000012,-6.970602360000015,7.491156740000001,18.935719618176698,-13.455124140000002,-4.097211129999998,10.602417189999997,-8.676710721999996,-10.42315343,0.7137800289999987,2.5648507200000026,-0.7791078800000051,2.3750724509999976,-0.07928974000000011,6.055322969999999,-7.059889502000001,-0.5838138029999982,-2.7773816970000027,6.205037758817667,2.2290759080000058,-4.884937460000003,19.092797023000003,3.275010998276308,-4.807371409999995,-2.190809989999998,29.723310360000003,1.469273355999995,-4.098934820000011,0.5048688009999989,-27.751409001723694,-5.295175680000007,-6.096691530000001,13.251728719999996,0.6215626139999983,10.08186281,-3.4715116599999973,6.982840559,-8.99249073,10.008778353999997,-13.403413440000001,-4.090833477000004,-1.3046609610000033,8.064973140999996,-6.2449288700000025,0.2740667099999996,11.768321105999995,-2.413165999999997,-5.9122567,17.209665698,-11.204231237734952,-5.546834419999996,2.0573963840000005,-3.4749590400000017,-12.11581701,-7.2963797700000015,-0.940790002,11.79865805,6.282332943,3.6456043499999957,5.224676758999998,10.187007900000005,-8.280606760000005,4.680852564000002,-5.080748644,7.298448198,-11.771079009999998,8.758068890000002,0.17564401100000282,0.6825812399999975,-4.1878772239999975,-10.900443190999994,-2.9147597900000015,-2.547269081999996,-6.696535649999994,-1.4306626999999992,26.828323755729315,8.118579899999997,0.6550021999999984,-4.693607870000001,1.0704114900000015,-9.082122610000003,5.098675020000002,-0.9101083199999991,3.8021154020000054,-14.651365000000013,3.0112864299999984,0.6387995139999916,9.115906933999995,5.603716189999993,15.07711643,-3.1612474599999985,1.5547683799999987,1.8391772300000042,4.883213769999998,-9.45099227,-7.480814599999995,-7.956380670999998,-15.464207958176694,-2.425231830000003,10.285258230000004,3.313104549000002,-15.678856608999997,-9.955688702,8.947157682999997,-10.09565233,-7.576651764000001,-3.404287749999998,-0.03792117999999789,0.626906052999999,6.000854365999992,30.573089529999994,-15.20294579999998,1.3603361479999982,-8.406436129999996,-6.824088709999998,4.750489639999998,-6.618969600000002,-13.398242370000006,2.6387970209999985,-14.017047080000005,-13.504076936000004,0.2659653670000015,17.30240022,-0.2999220600000001,-10.132022188999997,-13.962233737999995,7.807626224,-4.693607870000001,5.205716168999999,-6.828225566,4.895279600000002,0.5705413899999989,-8.349554359999999,-0.0258553500000005,-1.9632829099999967,-0.018960589999998945,-12.550703997,8.997317062,16.809424879999998,6.208903749000001,6.410058371999995,-8.766687340000004,-10.476760189000004,-2.564505982000002,-3.4749590400000017,-0.8382304470000008,-0.6074283559999998,-1.5756250289999976,-4.850463660000003,-8.873556119999996,-8.854940267999993,-6.974911584999997,-6.875799409999999,20.787701399999996,-8.0841061,4.702226320000001,-0.09480295000000183,-27.18505371009961,5.121255359000001,-26.027718999999998,6.4207452499999995,8.215106539999999,-5.1279777499999994,-5.731786357000008,1.8874405500000009,12.510542020000003,9.071780469999993,11.608707411999998,-0.1832282470000024,0.7391182720000007,9.750914329999997,12.968009346,-8.601213099999999,-9.30499572699999,-3.352577049999997,1.1996882400000004,10.662746339999998,0.17564401100000282,0.42385537099999837,-7.054201324999994,0.36197490344737915,-4.0248161499999995,-2.4183370700000015,2.0086159570000035,1.5097800710000033,5.295520417999999,1.2734621719999986,0.695336546,-2.6924037799999994,7.736782564999999,10.324903100000007,0.6343179200000009,-0.052572545000000304,-15.673513169999993,2.34766578,-2.9026939600000006,-1.6001014269999985,-2.449535858999994,21.727112449999993,5.941559429999998,-3.3213782609999996,2.252862829999998,7.826759183,10.514508999999997,-0.6584495800000028,17.926375998276317,-4.035158290000002,-5.627847850000002,-1.0221481700000012,4.845637328000002,-3.5973410300000026,7.714251471823298,1.1721092000000013,-6.506929750000001,-21.787613969,5.257082131000001,11.388419829999997,3.7819482289999993,-2.7560079409999982,-1.5013339900000027,-3.8507234599999975,-17.000754469999997,-5.138319890000002,-4.2326931640000005,4.255101134,6.2707842199999995,-5.6550821519999985,2.6458641500000013,-0.7825552599999988,-10.291906748817674,24.198883909999992,12.674292569999999,2.8085804860000003,-16.128567330000003,0.8051355990000033,20.065475289999995,12.308525551999999,-11.094087450182329,-6.153573299999998,11.210362653,9.775390728,3.75074944,-11.060918729999997,7.025760440000006,-8.670160700000004,9.723335289999994,6.85683882,-2.923378239999991,-5.79332209,-3.931392152000001,1.392913888999999,2.677924784,0.41540929000000304,-8.21683023,-12.363856001000002,6.392993840999999,9.701789165000005,12.570871169999998,-8.008263739999997,3.1757264559999996,4.580706175000003,-15.95102725999999,-14.435903750000001,-2.7973765010000022,6.98439188,-5.9215646259999986,-5.541835718999998,-15.701092209999999,8.196145949999998,-15.471151964,6.717219930000001,0.6465561190000031,14.828905069999998,11.57285466,-2.8294371350000063,7.345677304000006,-13.54647971,-4.213043098,7.140041087,9.854335730000003,-7.429103900000008,-2.7475618599999905,2.143925622000001,-5.851065704999996,-1.5916553459999996,-5.546834419999996,7.417038070000004,-9.039030360000002,-13.383246267,-15.95102725999999,-3.0614458090000056,4.678587144088354,-1.597515892000004,-0.3912776299999976,5.310861258999992,18.429693479999997,-0.32060633999999766,-9.068333090000003,-23.276709760000003,-12.150118440999996,-7.079539568000001,-8.685673910000006,0.739980117,-11.595262629999997,11.977577071999999,2.355594754000002,3.576484381,-11.324815669000003,6.987839260000001,-11.153997989999993,-3.573209370000008,3.0211114630000004,-8.437290181,16.276558425370286,-8.570186679999999,-3.478406419999999,8.270609358000002,-3.9972371100000004,-11.518386056000004,8.238721092999999,-1.4092889440000036,-17.523032539999996,-13.922244129999996,1.2981109390000043,2.6387970209999985,0.2651035220000004,-1.8236640200000025,-5.439965640000004,-1.2272672799999995,-3.5352881899999993,-4.759108089999998,5.710412601000005,3.295522910999999,1.7397203170000015,13.336189530000002,2.585879737999999,4.311982903999999,-3.356024430000005,-0.6911996900000048,-15.043849213000005,-10.979043455000003,-6.802542585000001,-3.707657189999999,2.9676770729999973,-4.535717865999999,-6.803232060999999,1.2912900494586417,-1.2184764610000016,-13.923967819999998,-7.600266316999999,-4.116171719999997,-4.850808398000002,-1.2164080330000004,3.15952377,-2.564850719999999,10.474864129999998,0.849779170000005,1.7822954599999967,-4.617765510000002,-3.697315049999993,3.8307286560000016,-6.247169666999994,-0.34301431000000093,-12.529674979,-6.913720590000004,7.419278866999999,2.856499068000005,-3.4749590400000017,-2.8363318950000007,-0.9566479499999971,12.485031407999998,-4.093763750000001,-3.4422089299999996,-5.1486620300000006,-1.7252413210000004,-9.987232229,-2.907520291999999,-0.44815939999999443,-13.398242369999998,-9.535453079999996,-0.20511911000000183,5.362571958999993,3.262600432000001,12.294736032,6.365587170000001,-1.6978346499999972,-17.188636680000002,0.9938796540000041,-4.40402795,-13.322400010000003,-2.6303509399999996,-10.914405079999995,10.297324060000001,2.8904557609999983,2.0251633810000023,-11.177440174000001,9.76987492,-6.977841858000005,-2.5714007420000016,-12.343344089999988,-6.2449288700000025,-9.607675690999997,2.7923778000000006,3.495643319999999,-7.264319136000005,-25.44338809,-39.867570748000006,-31.75824955575574,-29.491843417635337,-3.037141779999999,1.621992290000005,0.9938796540000041,-3.004391669999997,15.90793501,-0.6613798529999926,27.849659330000005,10.595276187093972,4.687747324,-4.566054809999997,3.1526290099999983,-17.426505899999995,-1.1479775400000065,-6.787891220000002,-9.6009533,4.167882419999998,3.454274760000004,10.828220580000007,10.416258670000001,-9.075227850000005,-4.490212450000001,-0.4622936580000001,7.158484569999999,2.135479540999995,8.733937230000002,7.472885626000007,-10.824083723999998,-10.997142199999999,-1.0648956819999995,2.8902833920000006,10.297324060000001,1.7390308409999946,-10.197177670999999,-3.870028787999999,5.205716168999999,13.872257119999999,5.819177439999997,-8.570186679999999,-19.277921329,-0.6808575499999989,-8.246132959999997,15.771763499999999,-3.533564500000004,-5.133148819999999,-5.532872530999999,1.969832932000001,10.064453540999999,-8.855112636999998,6.660338160000002,-10.879414173,-7.599749210000002,-6.576394457000006,-9.72375390018233,0.672066731000001,1.1186748100000017,8.040324374,7.042135494999997,2.852706949999998,-12.380575793999995,-4.8504636599999955,0.823923820000001,-0.14478996000000421,-9.131247774999995,-7.354468122999997,7.581822833999997,1.7559230029999995,1.6007909030000107,-3.3279282830000056,0.6975773430000007,8.061698130000003,3.4559984499999974,17.6161118,-0.10514509000000061,4.727392194000004,-6.148402229999995,-28.580503890000003,2.2511391399999994,-1.3013859500000038,-3.8507234599999975,11.281551050000001,-13.398242370000006,-9.728506360000004,12.478136648,-3.642156970000002,-8.844253389999999,7.602851851999999,6.81719395,3.013010119999997,0.08342659599999891,4.548817910000004,-0.8587423580000006,23.614553000000008,-6.286297429999998,-1.4306626999999992,-15.370143730000002,-5.327925790000002,6.318185694999993,-7.658354663105236,-8.742555679999999,9.936900481000002,0.7585959690000017,-7.341195709999997,-1.0497272100000004,-3.4301431000000093,-8.450734963000002,14.407635234000004,-3.004391669999997,-1.4996103000000005,10.120522715270688,5.193305600999999,1.5427025500000013,-1.0393850700000016,8.942503720000001,9.84916466,-2.3390473299999996,-4.497107210000003,0.814960632,6.938886463999999,-4.5126204199999975,0.4378172599999992,-8.208211780000006,-11.071260869999996,9.301031239999997,7.558553018999994,-3.8903683299999976,1.8615852000000004,-14.108402650000002,-4.085145300000001,8.035842779999998,4.242001089999999,9.728506360000004,-4.216638222364658,-1.133670913000003,0.5764019360000034,-0.3878302500000004,-7.21019527,-4.43850175,0.869429236000002,-6.379376690000001,9.10970165,-5.701966519999999,0.8756345199999984,0.6660338160000023,-5.889848730000001,5.645946595000002,-2.1725388760000044,-4.098934820000011,-5.229330722,17.398926860000003,-9.473400240000004,-0.8658094869999999,-10.983869787,2.8866636430000057,-5.437552474,10.297324060000001,6.991631378000001,3.2329529640000025,-2.4462608479999943,-6.074628298,4.874595319999997,2.167367805999998,14.149771209999997,3.8098720069999956,11.87105303,-7.849684259999989,-1.3627493139999984,3.904157849999997,-9.497531899999998,-1.7857428400000046,6.729458129000002,3.873131430000001,-7.06885269,-16.549147689999998,11.406863313000002,-6.6362065,-0.46056996799999794,-6.652926292999997,-2.68723271,29.77034248098311,-22.84923464,1.940874939999997,-2.121862389999997,6.631552536999999,10.628272539999998,2.4390213500000044,0.4247172160000048,-4.874595319999997,-10.20941587,-1.3256899790000034,7.582684678999996,-5.028003729999995,-0.5688177000000021,7.935868760000005,1.596136940000001,9.634220517,3.0142167029999953,-0.44815939999999443,8.909925979,-13.019030570000002,-7.097465944,-8.146848415999997,-1.135911709999995,-1.5687302690000031,3.9279447719999965,-2.620008800000008,-10.592075050000002,-2.6163890510000023,-7.074023759999996,-6.8185729019999926,-4.100658510000002,1.8434864549999972,1.2962148799999937,-9.912251713999996,2.4740122569999983,11.061435837000003,10.538640659999999,-0.48608057999999943,22.102876870000003,11.695926125999996,1.869514173999999,-0.8642581660000062,4.588118042,-5.717479730000001,-11.524936078,-2.771348782000004,10.297324060000001,17.049017789999994,-2.5631270300000004,-3.4690984940000007,-5.722650799999997,4.622936580000001,-8.334041150000001,12.628959522999999,-2.6982643260000074,2.742390789999991,-4.20063253,8.062559975,7.6542178139999955,-7.291208700000006,4.458151815999997,4.55571267,-16.914569970000002,0.7377393199999958,-4.540199460000004,-11.488393850000001,15.61146033,1.630610739999998,-2.5438217020000025,-1.4449693269999884,10.588627670000001,11.279137883999994,-23.9248172,-3.755058665,-0.6363863479999949,3.050931300000002,-9.643183704999998,-3.430143099999995,10.56351104527068,8.041875695000002,-17.148991809999984,2.399376480000001,4.153575793,3.0852327309999996,2.7585934760000015,-6.868559912000002,5.8015958020000005,-4.247172160000002,-24.190954936000004,-7.5308016099999975,-1.2738069099999976,-0.580366423000001,-5.026280039999996,1.1178129650000024,6.027743929999993,-6.819779485000005,-4.098934820000011,1.7362729370000007,-5.1228066799999965,1.0800641539999916,-2.9819837000000007,6.762035870000002,7.480642230999997,2.0549832179999967,-10.928194600000005,1.9817263930000024,10.221481700000005,5.835035387999994,-7.205886045,14.625509650000005,-4.638277421000005,-12.127365733000005,5.947937083,-3.214854219000001,0.12824253599999835,-18.724444469999995,31.402184419999998,5.103328982999999,-8.320251630000001,16.240951918,11.486670160000003,17.431676969999998,-8.377133399999998,0.6636206499999986,10.076691740000001,-2.3028498400000004,-4.674647279999995,18.03152109,0.7773841899999994,-12.220617362000006,-6.2004576679999985]}},\"id\":\"0c0c94cc-c205-47aa-b55e-11722e63b7e7\",\"type\":\"ColumnDataSource\"},{\"attributes\":{\"dimension\":1,\"plot\":{\"id\":\"f73ae351-c3bc-4fe3-b20d-b8b254519ef8\",\"subtype\":\"Figure\",\"type\":\"Plot\"},\"ticker\":{\"id\":\"d5bded99-28e6-4ba0-a6ed-86e46220898b\",\"type\":\"BasicTicker\"}},\"id\":\"4a4b29a1-306c-4314-b3bd-fb5437afde1e\",\"type\":\"Grid\"},{\"attributes\":{\"fill_color\":{\"value\":\"#80B1D3\"},\"line_color\":{\"value\":\"#80B1D3\"},\"line_width\":{\"value\":3},\"x\":{\"field\":\"x\"},\"y\":{\"field\":\"y\"}},\"id\":\"01008687-bffa-4854-b6cd-c790e245c699\",\"type\":\"Circle\"},{\"attributes\":{\"plot\":{\"id\":\"f73ae351-c3bc-4fe3-b20d-b8b254519ef8\",\"subtype\":\"Figure\",\"type\":\"Plot\"}},\"id\":\"6d5324b3-3594-43cd-b046-1b1952797b08\",\"type\":\"WheelZoomTool\"},{\"attributes\":{\"overlay\":{\"id\":\"eb6dade6-10ba-4303-8c49-31765b6d1ff3\",\"type\":\"BoxAnnotation\"},\"plot\":{\"id\":\"f73ae351-c3bc-4fe3-b20d-b8b254519ef8\",\"subtype\":\"Figure\",\"type\":\"Plot\"}},\"id\":\"c32c5f1f-5635-41c1-a788-00c3fe5dd495\",\"type\":\"BoxZoomTool\"},{\"attributes\":{\"bottom_units\":\"screen\",\"fill_alpha\":{\"value\":0.5},\"fill_color\":{\"value\":\"lightgrey\"},\"left_units\":\"screen\",\"level\":\"overlay\",\"line_alpha\":{\"value\":1.0},\"line_color\":{\"value\":\"black\"},\"line_dash\":[4,4],\"line_width\":{\"value\":2},\"plot\":null,\"render_mode\":\"css\",\"right_units\":\"screen\",\"top_units\":\"screen\"},\"id\":\"0ea02b09-5f9b-4849-9f97-cd427fef84cc\",\"type\":\"BoxAnnotation\"},{\"attributes\":{\"axis_label\":\"Predicted\",\"axis_label_text_color\":{\"value\":\"#aa6666\"},\"formatter\":{\"id\":\"e7c0e371-9f22-4acc-831c-9e67778e4b01\",\"type\":\"BasicTickFormatter\"},\"major_tick_line_color\":{\"value\":\"firebrick\"},\"major_tick_line_width\":{\"value\":3},\"minor_tick_line_color\":{\"value\":\"orange\"},\"plot\":{\"id\":\"f73ae351-c3bc-4fe3-b20d-b8b254519ef8\",\"subtype\":\"Figure\",\"type\":\"Plot\"},\"ticker\":{\"id\":\"0ebedb62-e143-4920-ac50-dc5af578fcec\",\"type\":\"BasicTicker\"}},\"id\":\"d3297710-91fe-4975-b445-d1a6e67cb541\",\"type\":\"LinearAxis\"},{\"attributes\":{\"plot\":{\"id\":\"f73ae351-c3bc-4fe3-b20d-b8b254519ef8\",\"subtype\":\"Figure\",\"type\":\"Plot\"},\"ticker\":{\"id\":\"0ebedb62-e143-4920-ac50-dc5af578fcec\",\"type\":\"BasicTicker\"}},\"id\":\"c22c71cc-e609-4454-acfd-a481592aa131\",\"type\":\"Grid\"},{\"attributes\":{\"bottom_units\":\"screen\",\"fill_alpha\":{\"value\":0.5},\"fill_color\":{\"value\":\"lightgrey\"},\"left_units\":\"screen\",\"level\":\"overlay\",\"line_alpha\":{\"value\":1.0},\"line_color\":{\"value\":\"black\"},\"line_dash\":[4,4],\"line_width\":{\"value\":2},\"plot\":null,\"render_mode\":\"css\",\"right_units\":\"screen\",\"top_units\":\"screen\"},\"id\":\"eb6dade6-10ba-4303-8c49-31765b6d1ff3\",\"type\":\"BoxAnnotation\"},{\"attributes\":{\"active_drag\":\"auto\",\"active_scroll\":\"auto\",\"active_tap\":\"auto\",\"tools\":[{\"id\":\"c32c5f1f-5635-41c1-a788-00c3fe5dd495\",\"type\":\"BoxZoomTool\"},{\"id\":\"e7e64858-387e-4d9c-89ee-08c2e7bfd902\",\"type\":\"BoxSelectTool\"},{\"id\":\"7bfe62fd-a559-46a1-b99e-2a44ebb257bb\",\"type\":\"CrosshairTool\"},{\"id\":\"269936e0-101d-4f15-a58e-7d057ec72e69\",\"type\":\"ResizeTool\"},{\"id\":\"c212f4dd-9659-4a2b-bf41-e9268e8a1627\",\"type\":\"ResetTool\"},{\"id\":\"3007992d-c516-44af-8cf9-e0fc97e19fe6\",\"type\":\"LassoSelectTool\"},{\"id\":\"3fd5198b-2530-4947-9ba8-a6985be97acc\",\"type\":\"PanTool\"},{\"id\":\"d1999412-07fa-4bb8-9b3c-426de4e89929\",\"type\":\"SaveTool\"},{\"id\":\"3d36f4fe-06d0-4360-9989-48bd35793db1\",\"type\":\"PolySelectTool\"},{\"id\":\"c37a6296-2566-4d05-85a1-863dc5b0fec6\",\"type\":\"TapTool\"},{\"id\":\"6d5324b3-3594-43cd-b046-1b1952797b08\",\"type\":\"WheelZoomTool\"},{\"id\":\"14f9b516-71d7-4837-8afe-d5d3fd075d37\",\"type\":\"UndoTool\"}]},\"id\":\"6ff8aac6-5107-40aa-b6ca-72fef8d98d28\",\"type\":\"Toolbar\"},{\"attributes\":{\"axis_label\":\"Residuals\",\"axis_label_text_color\":{\"value\":\"#aa6666\"},\"formatter\":{\"id\":\"90b659f4-53ff-413c-9ec6-0925b6734dfe\",\"type\":\"BasicTickFormatter\"},\"plot\":{\"id\":\"f73ae351-c3bc-4fe3-b20d-b8b254519ef8\",\"subtype\":\"Figure\",\"type\":\"Plot\"},\"ticker\":{\"id\":\"d5bded99-28e6-4ba0-a6ed-86e46220898b\",\"type\":\"BasicTicker\"}},\"id\":\"b1278f65-3b84-4041-92f5-469e36293dc6\",\"type\":\"LinearAxis\"},{\"attributes\":{\"callback\":null,\"plot\":{\"id\":\"f73ae351-c3bc-4fe3-b20d-b8b254519ef8\",\"subtype\":\"Figure\",\"type\":\"Plot\"}},\"id\":\"c37a6296-2566-4d05-85a1-863dc5b0fec6\",\"type\":\"TapTool\"},{\"attributes\":{\"callback\":null,\"overlay\":{\"id\":\"0ea02b09-5f9b-4849-9f97-cd427fef84cc\",\"type\":\"BoxAnnotation\"},\"plot\":{\"id\":\"f73ae351-c3bc-4fe3-b20d-b8b254519ef8\",\"subtype\":\"Figure\",\"type\":\"Plot\"},\"renderers\":[{\"id\":\"d334e014-6913-456c-b535-c49818000d01\",\"type\":\"GlyphRenderer\"}]},\"id\":\"e7e64858-387e-4d9c-89ee-08c2e7bfd902\",\"type\":\"BoxSelectTool\"},{\"attributes\":{},\"id\":\"d5bded99-28e6-4ba0-a6ed-86e46220898b\",\"type\":\"BasicTicker\"},{\"attributes\":{\"plot\":{\"id\":\"f73ae351-c3bc-4fe3-b20d-b8b254519ef8\",\"subtype\":\"Figure\",\"type\":\"Plot\"}},\"id\":\"d1999412-07fa-4bb8-9b3c-426de4e89929\",\"type\":\"SaveTool\"},{\"attributes\":{\"data_source\":{\"id\":\"0c0c94cc-c205-47aa-b55e-11722e63b7e7\",\"type\":\"ColumnDataSource\"},\"glyph\":{\"id\":\"01008687-bffa-4854-b6cd-c790e245c699\",\"type\":\"Circle\"},\"hover_glyph\":null,\"nonselection_glyph\":{\"id\":\"1807f942-813a-4f85-b2b8-6b7abe0d049e\",\"type\":\"Circle\"},\"selection_glyph\":null},\"id\":\"d334e014-6913-456c-b535-c49818000d01\",\"type\":\"GlyphRenderer\"},{\"attributes\":{\"plot\":{\"id\":\"f73ae351-c3bc-4fe3-b20d-b8b254519ef8\",\"subtype\":\"Figure\",\"type\":\"Plot\"}},\"id\":\"7bfe62fd-a559-46a1-b99e-2a44ebb257bb\",\"type\":\"CrosshairTool\"},{\"attributes\":{\"callback\":null},\"id\":\"d6022268-106a-404b-89e4-a13ddab5d2af\",\"type\":\"DataRange1d\"},{\"attributes\":{\"plot\":{\"id\":\"f73ae351-c3bc-4fe3-b20d-b8b254519ef8\",\"subtype\":\"Figure\",\"type\":\"Plot\"}},\"id\":\"14f9b516-71d7-4837-8afe-d5d3fd075d37\",\"type\":\"UndoTool\"},{\"attributes\":{\"callback\":null},\"id\":\"dbd822bb-5a41-438a-b081-85494c1daa64\",\"type\":\"DataRange1d\"},{\"attributes\":{},\"id\":\"0ebedb62-e143-4920-ac50-dc5af578fcec\",\"type\":\"BasicTicker\"},{\"attributes\":{\"plot\":{\"id\":\"f73ae351-c3bc-4fe3-b20d-b8b254519ef8\",\"subtype\":\"Figure\",\"type\":\"Plot\"}},\"id\":\"3fd5198b-2530-4947-9ba8-a6985be97acc\",\"type\":\"PanTool\"},{\"attributes\":{\"fill_alpha\":{\"value\":0.5},\"fill_color\":{\"value\":\"lightgrey\"},\"level\":\"overlay\",\"line_alpha\":{\"value\":1.0},\"line_color\":{\"value\":\"black\"},\"line_dash\":[4,4],\"line_width\":{\"value\":2},\"plot\":null,\"xs_units\":\"screen\",\"ys_units\":\"screen\"},\"id\":\"23921d09-db37-47f5-b8cb-3a8ed3fba7f1\",\"type\":\"PolyAnnotation\"},{\"attributes\":{\"plot\":{\"id\":\"f73ae351-c3bc-4fe3-b20d-b8b254519ef8\",\"subtype\":\"Figure\",\"type\":\"Plot\"}},\"id\":\"c212f4dd-9659-4a2b-bf41-e9268e8a1627\",\"type\":\"ResetTool\"},{\"attributes\":{\"fill_alpha\":{\"value\":0.1},\"fill_color\":{\"value\":\"#1f77b4\"},\"line_alpha\":{\"value\":0.1},\"line_color\":{\"value\":\"#1f77b4\"},\"line_width\":{\"value\":3},\"x\":{\"field\":\"x\"},\"y\":{\"field\":\"y\"}},\"id\":\"1807f942-813a-4f85-b2b8-6b7abe0d049e\",\"type\":\"Circle\"},{\"attributes\":{},\"id\":\"90b659f4-53ff-413c-9ec6-0925b6734dfe\",\"type\":\"BasicTickFormatter\"},{\"attributes\":{\"fill_alpha\":{\"value\":0.5},\"fill_color\":{\"value\":\"lightgrey\"},\"level\":\"overlay\",\"line_alpha\":{\"value\":1.0},\"line_color\":{\"value\":\"black\"},\"line_dash\":[4,4],\"line_width\":{\"value\":2},\"plot\":null,\"xs_units\":\"screen\",\"ys_units\":\"screen\"},\"id\":\"23c8ac7c-43b5-462f-b1a2-d21df8c86890\",\"type\":\"PolyAnnotation\"}],\"root_ids\":[\"f73ae351-c3bc-4fe3-b20d-b8b254519ef8\"]},\"title\":\"Bokeh Application\",\"version\":\"0.12.2\"}};\n",
       "            var render_items = [{\"docid\":\"714f4a32-448f-4559-bf4a-16abab963917\",\"elementid\":\"e2275bc5-5756-40c9-be78-4fe4662c22fc\",\"modelid\":\"f73ae351-c3bc-4fe3-b20d-b8b254519ef8\"}];\n",
       "            \n",
       "            Bokeh.embed.embed_items(docs_json, render_items);\n",
       "        });\n",
       "      },\n",
       "      function(Bokeh) {\n",
       "      }\n",
       "    ];\n",
       "  \n",
       "    function run_inline_js() {\n",
       "      \n",
       "      if ((window.Bokeh !== undefined) || (force === \"1\")) {\n",
       "        for (var i = 0; i < inline_js.length; i++) {\n",
       "          inline_js[i](window.Bokeh);\n",
       "        }if (force === \"1\") {\n",
       "          display_loaded();\n",
       "        }} else if (Date.now() < window._bokeh_timeout) {\n",
       "        setTimeout(run_inline_js, 100);\n",
       "      } else if (!window._bokeh_failed_load) {\n",
       "        console.log(\"Bokeh: BokehJS failed to load within specified timeout.\");\n",
       "        window._bokeh_failed_load = true;\n",
       "      } else if (!force) {\n",
       "        var cell = $(\"#e2275bc5-5756-40c9-be78-4fe4662c22fc\").parents('.cell').data().cell;\n",
       "        cell.output_area.append_execute_result(NB_LOAD_WARNING)\n",
       "      }\n",
       "  \n",
       "    }\n",
       "  \n",
       "    if (window._bokeh_is_loading === 0) {\n",
       "      console.log(\"Bokeh: BokehJS loaded, going straight to plotting\");\n",
       "      run_inline_js();\n",
       "    } else {\n",
       "      load_libs(js_urls, function() {\n",
       "        console.log(\"Bokeh: BokehJS plotting callback run at\", now());\n",
       "        run_inline_js();\n",
       "      });\n",
       "    }\n",
       "  }(this));\n",
       "</script>"
      ]
     },
     "metadata": {},
     "output_type": "display_data"
    }
   ],
   "source": [
    "# Plotining using bokeh\n",
    "#TOOLS = 'hover,box_zoom,box_select,crosshair,resize,reset,KNeighborsRegressor_select,pan,save,poly_select,tap,wheel_zoom,undo'\n",
    "TOOLS = 'box_zoom,box_select,crosshair,resize,reset,lasso_select,pan,save,poly_select,tap,wheel_zoom,undo'\n",
    "p = figure(plot_width=500, plot_height=500, title=\"Residual plot on the training data\", tools=TOOLS)\n",
    "p.scatter(predicted, (predicted - Y),x=\"jjj\", marker=\"o\", color=\"#80B1D3\", line_width=3)\n",
    "p.title.align = \"center\"\n",
    "p.xaxis.axis_label = \"Predicted\"\n",
    "p.xaxis.axis_label_text_color = \"#aa6666\"\n",
    "#p.xaxis.axis_label_standoff = 30\n",
    "p.xaxis.major_tick_line_color = \"firebrick\"\n",
    "p.xaxis.major_tick_line_width = 3\n",
    "p.xaxis.minor_tick_line_color = \"orange\"\n",
    "p.yaxis.axis_label = \"Residuals\"\n",
    "p.yaxis.axis_label_text_font_style = \"italic\"\n",
    "p.yaxis.axis_label_text_color = \"#aa6666\"\n",
    "p.background_fill_color = \"beige\"\n",
    "p.background_fill_alpha = 0.5\n",
    "#p.line([2,38], [0, 0], line_dash=\"4 4\", line_width=2, color='red')\n",
    "show(p)"
   ]
  },
  {
   "cell_type": "markdown",
   "metadata": {},
   "source": [
    "## Pipeline"
   ]
  },
  {
   "cell_type": "markdown",
   "metadata": {},
   "source": [
    "The best to deliver the model by pipeline the operation then at deployment can be done in one model."
   ]
  },
  {
   "cell_type": "markdown",
   "metadata": {
    "collapsed": true
   },
   "source": [
    "  I used two ways to check the pipeline so any one can be fine"
   ]
  },
  {
   "cell_type": "code",
   "execution_count": 26,
   "metadata": {
    "collapsed": false
   },
   "outputs": [
    {
     "name": "stdout",
     "output_type": "stream",
     "text": [
      "0.841720855045\n",
      "Scoring according to mean_squared_error\n",
      "[-100.44562429  -78.14746417  -82.97679202  -74.7134184   -92.40802859\n",
      "  -48.18508213 -117.23666172  -63.92019885  -74.55035811  -88.42708184]\n",
      "\n",
      " Mean      Standard deviation\n",
      "-82.10      18.24\n",
      "[ True  True  True  True  True  True  True  True]\n",
      "R-squared =  0.841720855045\n"
     ]
    }
   ],
   "source": [
    "# Use Pipeline\n",
    "# ANOVA \n",
    "from sklearn.pipeline import Pipeline\n",
    "from sklearn.feature_selection import SelectKBest, f_regression\n",
    "anova_filter = SelectKBest(f_regression, k=8)\n",
    "LR = KNeighborsRegressor(n_neighbors = 4, algorithm = 'kd_tree')\n",
    "anova_LinReg = Pipeline([('scaler_Input',scaler), ('anova', anova_filter), ('LinReg', LR)])\n",
    "# You can set the parameters using the names issued\n",
    "# For instance, fit using a k of 10 in the SelectKBest\n",
    "anova_LinReg.set_params(anova__k=8).fit(new_data, Y)\n",
    "prediction = anova_LinReg.predict(new_data)\n",
    "print anova_LinReg.score(new_data, Y)                        \n",
    "# getting the selected features chosen by anova_filter\n",
    "results = cross_validation.cross_val_score(anova_LinReg, new_data, Y, cv=kfold, scoring=scoring)\n",
    "print 'Scoring according to mean_squared_error'\n",
    "print results\n",
    "print '\\n Mean      Standard deviation'\n",
    "print(\"%.2f      %.2f\" % (results.mean(), results.std()))\n",
    "print anova_LinReg.named_steps['anova'].get_support()\n",
    "r_squared = r2_score(Y, prediction, multioutput='variance_weighted')\n",
    "print 'R-squared = ',r_squared"
   ]
  },
  {
   "cell_type": "code",
   "execution_count": 27,
   "metadata": {
    "collapsed": false
   },
   "outputs": [
    {
     "name": "stdout",
     "output_type": "stream",
     "text": [
      "R-squared =  0.841720855045\n"
     ]
    }
   ],
   "source": [
    "# Using make_pipeline\n",
    "from sklearn.pipeline import make_pipeline\n",
    "\n",
    "# ANOVA SVM-C\n",
    "# 1) anova filter, take 3 best ranked features\n",
    "anova_filter = SelectKBest(f_regression, k=8)\n",
    "anova_KNeighborsRegressor = make_pipeline(scaler, anova_filter, LR)\n",
    "anova_KNeighborsRegressor.fit(new_data, Y)\n",
    "prediction = anova_KNeighborsRegressor.predict(new_data)\n",
    "r_squared = r2_score(Y, prediction, multioutput='variance_weighted')\n",
    "print 'R-squared = ',r_squared"
   ]
  },
  {
   "cell_type": "markdown",
   "metadata": {},
   "source": [
    "### Save the Pipeline model for developement"
   ]
  },
  {
   "cell_type": "code",
   "execution_count": 28,
   "metadata": {
    "collapsed": false
   },
   "outputs": [
    {
     "data": {
      "text/plain": [
       "['anova_KNeighborsRegressor.pkl',\n",
       " 'anova_KNeighborsRegressor.pkl_01.npy',\n",
       " 'anova_KNeighborsRegressor.pkl_02.npy',\n",
       " 'anova_KNeighborsRegressor.pkl_03.npy',\n",
       " 'anova_KNeighborsRegressor.pkl_04.npy',\n",
       " 'anova_KNeighborsRegressor.pkl_05.npy',\n",
       " 'anova_KNeighborsRegressor.pkl_06.npy',\n",
       " 'anova_KNeighborsRegressor.pkl_07.npy',\n",
       " 'anova_KNeighborsRegressor.pkl_08.npy',\n",
       " 'anova_KNeighborsRegressor.pkl_09.npy',\n",
       " 'anova_KNeighborsRegressor.pkl_10.npy',\n",
       " 'anova_KNeighborsRegressor.pkl_11.npy',\n",
       " 'anova_KNeighborsRegressor.pkl_12.npy',\n",
       " 'anova_KNeighborsRegressor.pkl_13.npy']"
      ]
     },
     "execution_count": 28,
     "metadata": {},
     "output_type": "execute_result"
    }
   ],
   "source": [
    "# save the model scaler to the desk\n",
    "from sklearn.externals import joblib\n",
    "joblib.dump(anova_KNeighborsRegressor, 'anova_KNeighborsRegressor.pkl') "
   ]
  },
  {
   "cell_type": "code",
   "execution_count": 29,
   "metadata": {
    "collapsed": false
   },
   "outputs": [
    {
     "name": "stdout",
     "output_type": "stream",
     "text": [
      " =================================================================>>>>> done\n",
      "R-squared =  0.841720855045\n"
     ]
    }
   ],
   "source": [
    "# Test the model if it is work\n",
    "anova_KNeighborsRegressorTest = joblib.load('anova_KNeighborsRegressor.pkl')\n",
    "NewPred = anova_KNeighborsRegressorTest.predict(new_data)\n",
    "print \" =================================================================>>>>> done\"\n",
    "r_squared = r2_score(Y, NewPred, multioutput='variance_weighted')\n",
    "print 'R-squared = ',r_squared"
   ]
  },
  {
   "cell_type": "code",
   "execution_count": 30,
   "metadata": {
    "collapsed": false
   },
   "outputs": [
    {
     "name": "stdout",
     "output_type": "stream",
     "text": [
      "Point of training data before normalization\n",
      "[ 389.9  189.     0.   145.9   22.   944.7  755.8   91. ]\n",
      "\n",
      "The read target of the data =  82.5992248\n",
      "\n",
      "The Predicted target of the data =  [ 75.79926775]\n"
     ]
    }
   ],
   "source": [
    "# test on single data point, randomly choose point number 55\n",
    "print 'Point of training data before normalization\\n',new_data[55]\n",
    "print '\\nThe read target of the data = ', Y[55]\n",
    "NewPred = anova_KNeighborsRegressorTest.predict([new_data[55]])\n",
    "print '\\nThe Predicted target of the data = ', NewPred"
   ]
  },
  {
   "cell_type": "markdown",
   "metadata": {},
   "source": [
    "## Conclusion "
   ]
  }
 ],
 "metadata": {
  "kernelspec": {
   "display_name": "Python 2",
   "language": "python",
   "name": "python2"
  },
  "language_info": {
   "codemirror_mode": {
    "name": "ipython",
    "version": 2
   },
   "file_extension": ".py",
   "mimetype": "text/x-python",
   "name": "python",
   "nbconvert_exporter": "python",
   "pygments_lexer": "ipython2",
   "version": "2.7.12"
  }
 },
 "nbformat": 4,
 "nbformat_minor": 0
}
