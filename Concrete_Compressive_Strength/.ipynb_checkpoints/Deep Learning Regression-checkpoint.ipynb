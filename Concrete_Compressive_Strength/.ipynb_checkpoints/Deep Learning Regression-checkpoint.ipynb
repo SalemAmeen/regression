{
 "cells": [
  {
   "cell_type": "markdown",
   "metadata": {},
   "source": [
    "Salem Ameen, PhD student at Salford University\n",
    "\n",
    "### Concrete Compressive Strength Data Set\n",
    "\n",
    "Deep learning Regression"
   ]
  },
  {
   "cell_type": "markdown",
   "metadata": {},
   "source": [
    "# Import the Libraries"
   ]
  },
  {
   "cell_type": "markdown",
   "metadata": {},
   "source": [
    "General Library"
   ]
  },
  {
   "cell_type": "code",
   "execution_count": 1,
   "metadata": {
    "collapsed": false
   },
   "outputs": [
    {
     "data": {
      "text/html": [
       "\n",
       "    <div class=\"bk-root\">\n",
       "        <a href=\"http://bokeh.pydata.org\" target=\"_blank\" class=\"bk-logo bk-logo-small bk-logo-notebook\"></a>\n",
       "        <span id=\"c1e1d0c5-2c8a-4731-ade0-f441b033a37b\">Loading BokehJS ...</span>\n",
       "    </div>"
      ]
     },
     "metadata": {},
     "output_type": "display_data"
    },
    {
     "data": {
      "application/javascript": [
       "\n",
       "(function(global) {\n",
       "  function now() {\n",
       "    return new Date();\n",
       "  }\n",
       "\n",
       "  var force = \"1\";\n",
       "\n",
       "  if (typeof (window._bokeh_onload_callbacks) === \"undefined\" || force !== \"\") {\n",
       "    window._bokeh_onload_callbacks = [];\n",
       "    window._bokeh_is_loading = undefined;\n",
       "  }\n",
       "\n",
       "\n",
       "  \n",
       "  if (typeof (window._bokeh_timeout) === \"undefined\" || force !== \"\") {\n",
       "    window._bokeh_timeout = Date.now() + 5000;\n",
       "    window._bokeh_failed_load = false;\n",
       "  }\n",
       "\n",
       "  var NB_LOAD_WARNING = {'data': {'text/html':\n",
       "     \"<div style='background-color: #fdd'>\\n\"+\n",
       "     \"<p>\\n\"+\n",
       "     \"BokehJS does not appear to have successfully loaded. If loading BokehJS from CDN, this \\n\"+\n",
       "     \"may be due to a slow or bad network connection. Possible fixes:\\n\"+\n",
       "     \"</p>\\n\"+\n",
       "     \"<ul>\\n\"+\n",
       "     \"<li>re-rerun `output_notebook()` to attempt to load from CDN again, or</li>\\n\"+\n",
       "     \"<li>use INLINE resources instead, as so:</li>\\n\"+\n",
       "     \"</ul>\\n\"+\n",
       "     \"<code>\\n\"+\n",
       "     \"from bokeh.resources import INLINE\\n\"+\n",
       "     \"output_notebook(resources=INLINE)\\n\"+\n",
       "     \"</code>\\n\"+\n",
       "     \"</div>\"}};\n",
       "\n",
       "  function display_loaded() {\n",
       "    if (window.Bokeh !== undefined) {\n",
       "      Bokeh.$(\"#c1e1d0c5-2c8a-4731-ade0-f441b033a37b\").text(\"BokehJS successfully loaded.\");\n",
       "    } else if (Date.now() < window._bokeh_timeout) {\n",
       "      setTimeout(display_loaded, 100)\n",
       "    }\n",
       "  }\n",
       "\n",
       "  function run_callbacks() {\n",
       "    window._bokeh_onload_callbacks.forEach(function(callback) { callback() });\n",
       "    delete window._bokeh_onload_callbacks\n",
       "    console.info(\"Bokeh: all callbacks have finished\");\n",
       "  }\n",
       "\n",
       "  function load_libs(js_urls, callback) {\n",
       "    window._bokeh_onload_callbacks.push(callback);\n",
       "    if (window._bokeh_is_loading > 0) {\n",
       "      console.log(\"Bokeh: BokehJS is being loaded, scheduling callback at\", now());\n",
       "      return null;\n",
       "    }\n",
       "    if (js_urls == null || js_urls.length === 0) {\n",
       "      run_callbacks();\n",
       "      return null;\n",
       "    }\n",
       "    console.log(\"Bokeh: BokehJS not loaded, scheduling load and callback at\", now());\n",
       "    window._bokeh_is_loading = js_urls.length;\n",
       "    for (var i = 0; i < js_urls.length; i++) {\n",
       "      var url = js_urls[i];\n",
       "      var s = document.createElement('script');\n",
       "      s.src = url;\n",
       "      s.async = false;\n",
       "      s.onreadystatechange = s.onload = function() {\n",
       "        window._bokeh_is_loading--;\n",
       "        if (window._bokeh_is_loading === 0) {\n",
       "          console.log(\"Bokeh: all BokehJS libraries loaded\");\n",
       "          run_callbacks()\n",
       "        }\n",
       "      };\n",
       "      s.onerror = function() {\n",
       "        console.warn(\"failed to load library \" + url);\n",
       "      };\n",
       "      console.log(\"Bokeh: injecting script tag for BokehJS library: \", url);\n",
       "      document.getElementsByTagName(\"head\")[0].appendChild(s);\n",
       "    }\n",
       "  };var element = document.getElementById(\"c1e1d0c5-2c8a-4731-ade0-f441b033a37b\");\n",
       "  if (element == null) {\n",
       "    console.log(\"Bokeh: ERROR: autoload.js configured with elementid 'c1e1d0c5-2c8a-4731-ade0-f441b033a37b' but no matching script tag was found. \")\n",
       "    return false;\n",
       "  }\n",
       "\n",
       "  var js_urls = ['https://cdn.pydata.org/bokeh/release/bokeh-0.12.2.min.js', 'https://cdn.pydata.org/bokeh/release/bokeh-widgets-0.12.2.min.js', 'https://cdn.pydata.org/bokeh/release/bokeh-compiler-0.12.2.min.js'];\n",
       "\n",
       "  var inline_js = [\n",
       "    function(Bokeh) {\n",
       "      Bokeh.set_log_level(\"info\");\n",
       "    },\n",
       "    \n",
       "    function(Bokeh) {\n",
       "      \n",
       "      Bokeh.$(\"#c1e1d0c5-2c8a-4731-ade0-f441b033a37b\").text(\"BokehJS is loading...\");\n",
       "    },\n",
       "    function(Bokeh) {\n",
       "      console.log(\"Bokeh: injecting CSS: https://cdn.pydata.org/bokeh/release/bokeh-0.12.2.min.css\");\n",
       "      Bokeh.embed.inject_css(\"https://cdn.pydata.org/bokeh/release/bokeh-0.12.2.min.css\");\n",
       "      console.log(\"Bokeh: injecting CSS: https://cdn.pydata.org/bokeh/release/bokeh-widgets-0.12.2.min.css\");\n",
       "      Bokeh.embed.inject_css(\"https://cdn.pydata.org/bokeh/release/bokeh-widgets-0.12.2.min.css\");\n",
       "    }\n",
       "  ];\n",
       "\n",
       "  function run_inline_js() {\n",
       "    \n",
       "    if ((window.Bokeh !== undefined) || (force === \"1\")) {\n",
       "      for (var i = 0; i < inline_js.length; i++) {\n",
       "        inline_js[i](window.Bokeh);\n",
       "      }if (force === \"1\") {\n",
       "        display_loaded();\n",
       "      }} else if (Date.now() < window._bokeh_timeout) {\n",
       "      setTimeout(run_inline_js, 100);\n",
       "    } else if (!window._bokeh_failed_load) {\n",
       "      console.log(\"Bokeh: BokehJS failed to load within specified timeout.\");\n",
       "      window._bokeh_failed_load = true;\n",
       "    } else if (!force) {\n",
       "      var cell = $(\"#c1e1d0c5-2c8a-4731-ade0-f441b033a37b\").parents('.cell').data().cell;\n",
       "      cell.output_area.append_execute_result(NB_LOAD_WARNING)\n",
       "    }\n",
       "\n",
       "  }\n",
       "\n",
       "  if (window._bokeh_is_loading === 0) {\n",
       "    console.log(\"Bokeh: BokehJS loaded, going straight to plotting\");\n",
       "    run_inline_js();\n",
       "  } else {\n",
       "    load_libs(js_urls, function() {\n",
       "      console.log(\"Bokeh: BokehJS plotting callback run at\", now());\n",
       "      run_inline_js();\n",
       "    });\n",
       "  }\n",
       "}(this));"
      ]
     },
     "metadata": {},
     "output_type": "display_data"
    }
   ],
   "source": [
    "import numpy as np\n",
    "import pandas\n",
    "from numpy import *\n",
    "import time\n",
    "import sys\n",
    "import pandas as pd\n",
    "import matplotlib.pyplot as plt\n",
    "from sklearn import feature_selection\n",
    " \n",
    "from sklearn.learning_curve import learning_curve, validation_curve\n",
    "from sklearn.cross_validation import cross_val_predict\n",
    "from sklearn import metrics, grid_search, cross_validation\n",
    "from IPython.display import set_matplotlib_formats\n",
    "from bokeh.plotting import figure, show, output_notebook\n",
    "from sklearn.grid_search import GridSearchCV, RandomizedSearchCV\n",
    "from sklearn.metrics import r2_score\n",
    "from bokeh.layouts import gridplot\n",
    "output_notebook()\n",
    "set_matplotlib_formats('png', 'pdf')\n",
    "%matplotlib inline\n",
    "plt.rcParams['figure.figsize'] = (6, 6)"
   ]
  },
  {
   "cell_type": "markdown",
   "metadata": {},
   "source": [
    "Deep Learning Library"
   ]
  },
  {
   "cell_type": "code",
   "execution_count": 2,
   "metadata": {
    "collapsed": false
   },
   "outputs": [
    {
     "name": "stderr",
     "output_type": "stream",
     "text": [
      "Using Theano backend.\n",
      "Using gpu device 0: GeForce GTX TITAN X (CNMeM is disabled, cuDNN 5005)\n"
     ]
    }
   ],
   "source": [
    "import numpy\n",
    "from keras.models import Sequential\n",
    "from keras.layers import Dense\n",
    "from keras.wrappers.scikit_learn import KerasRegressor\n",
    "from sklearn.cross_validation import cross_val_score\n",
    "from sklearn.cross_validation import KFold\n",
    "from sklearn.preprocessing import StandardScaler\n",
    "from sklearn.pipeline import Pipeline"
   ]
  },
  {
   "cell_type": "markdown",
   "metadata": {},
   "source": [
    "# Create the model"
   ]
  },
  {
   "cell_type": "code",
   "execution_count": 3,
   "metadata": {
    "collapsed": true
   },
   "outputs": [],
   "source": [
    "# define base mode\n",
    "def baseline_model():\n",
    "\t# create model\n",
    "\tmodel = Sequential()\n",
    "\tmodel.add(Dense(30, input_dim=8, init='normal', activation='relu'))\n",
    "\tmodel.add(Dense(1, init='normal'))\n",
    "\t# Compile model\n",
    "\tmodel.compile(loss='mean_squared_error', optimizer='adam')\n",
    "\treturn model"
   ]
  },
  {
   "cell_type": "markdown",
   "metadata": {},
   "source": [
    "# Load data"
   ]
  },
  {
   "cell_type": "markdown",
   "metadata": {},
   "source": [
    "In the previous file we have not change the data as there is no missing value or add any new parameters so it can be downloaded from the web directly. "
   ]
  },
  {
   "cell_type": "code",
   "execution_count": 4,
   "metadata": {
    "collapsed": false
   },
   "outputs": [
    {
     "name": "stdout",
     "output_type": "stream",
     "text": [
      "Number of examples 1030\n"
     ]
    }
   ],
   "source": [
    "names = ['Cement','BlastFurnace','Fly_Ash','Water','Superplasticizer','CoarseAggregate','Aggregate','day','Concrete']\n",
    "feature_names = names\n",
    "feature_cols = names\n",
    "\n",
    "data = pd.read_excel('Concrete_Data.xls', sep='%s')\n",
    "\n",
    "from sklearn import preprocessing\n",
    "\n",
    "def number_encode_features(df):\n",
    "    result = df.copy()\n",
    "    encoders = {}\n",
    "    for column in result.columns:\n",
    "        if result.dtypes[column] == np.object:\n",
    "            encoders[column] = preprocessing.LabelEncoder()\n",
    "            result[column] = encoders[column].fit_transform(result[column])\n",
    "    return result, encoders\n",
    "\n",
    "data, _ = number_encode_features(data)\n",
    "\n",
    "dataset = data.values\n",
    "X = dataset[:,0:8]\n",
    "Y = dataset[:,8]\n",
    "print 'Number of examples',len(X)"
   ]
  },
  {
   "cell_type": "code",
   "execution_count": 5,
   "metadata": {
    "collapsed": false
   },
   "outputs": [
    {
     "name": "stdout",
     "output_type": "stream",
     "text": [
      "Number of training examples 824\n",
      "Number of validation examples 206\n"
     ]
    }
   ],
   "source": [
    "# Make developement dataset for genrilization and final testing\n",
    "from sklearn.cross_validation import train_test_split\n",
    "# Extracting 20% testing data\n",
    "X_train, X_test, y_train, y_test = train_test_split(\n",
    "    X, Y, test_size=0.20, random_state=0)\n",
    "X = X_train\n",
    "Y = y_train\n",
    "new_data      = X_train\n",
    "new_test_data = X_test\n",
    "print 'Number of training examples',len(X_train)\n",
    "print 'Number of validation examples',len(X_test)"
   ]
  },
  {
   "cell_type": "markdown",
   "metadata": {},
   "source": [
    "# deep learning model"
   ]
  },
  {
   "cell_type": "code",
   "execution_count": 6,
   "metadata": {
    "collapsed": true
   },
   "outputs": [],
   "source": [
    "# fix random seed for reproducibility\n",
    "seed = 7\n",
    "numpy.random.seed(seed)\n",
    "# evaluate model with standardized dataset\n",
    "model = KerasRegressor(build_fn=baseline_model, nb_epoch=100, batch_size=5, verbose=0)\n"
   ]
  },
  {
   "cell_type": "code",
   "execution_count": 7,
   "metadata": {
    "collapsed": false
   },
   "outputs": [
    {
     "name": "stdout",
     "output_type": "stream",
     "text": [
      "Results: 49.64 (9.95) MSE\n"
     ]
    }
   ],
   "source": [
    "kfold = KFold(n=len(X), n_folds=10, random_state=seed)\n",
    "results = cross_val_score(model, X, Y, cv=kfold)\n",
    "print(\"Results: %.2f (%.2f) MSE\" % (results.mean(), results.std()))"
   ]
  },
  {
   "cell_type": "code",
   "execution_count": 8,
   "metadata": {
    "collapsed": false
   },
   "outputs": [
    {
     "name": "stdout",
     "output_type": "stream",
     "text": [
      "R-squared =  0.834645542985\n"
     ]
    }
   ],
   "source": [
    "predicted = cross_val_predict(model, X, Y, cv=kfold)\n",
    "r_squared = r2_score(Y, predicted, multioutput='variance_weighted')\n",
    "print 'R-squared = ',r_squared"
   ]
  },
  {
   "cell_type": "markdown",
   "metadata": {},
   "source": [
    "# Ranking of the feature's importance to the target"
   ]
  },
  {
   "cell_type": "code",
   "execution_count": 9,
   "metadata": {
    "collapsed": false
   },
   "outputs": [
    {
     "name": "stdout",
     "output_type": "stream",
     "text": [
      "Feature Name      Score         Pvalue\n",
      "Cement \t\t338.725793692 \t1.32345794884e-65\n",
      "BlastFurnace \t\t19.0325717427 \t1.41457498978e-05\n",
      "Fly_Ash \t\t11.6269492436 \t0.000675283559617\n",
      "Water \t\t94.1187973071 \t2.3660726996e-21\n",
      "Superplasticizer \t\t159.109321731 \t5.07908923638e-34\n",
      "CoarseAggregate \t\t28.7447095672 \t1.01959722248e-07\n",
      "Aggregate \t\t29.5829376115 \t6.69468148289e-08\n",
      "day \t\t124.673209261 \t2.10314421454e-27\n",
      "Concrete \t\t-2.31485020847e+18 \t1.0\n"
     ]
    }
   ],
   "source": [
    "# Randing the important features to the target\n",
    "model = feature_selection.SelectKBest(score_func=feature_selection.f_regression,k=4)\n",
    "results = model.fit(data[feature_cols], data['Concrete'])\n",
    "k=0\n",
    "print 'Feature Name      Score         Pvalue'\n",
    "for feat in feature_cols:\n",
    "    print feat,'\\t\\t',results.scores_[k],'\\t',results.pvalues_[k]\n",
    "    k=k+1\n"
   ]
  },
  {
   "cell_type": "markdown",
   "metadata": {},
   "source": [
    "# Set the parameters for cross validation"
   ]
  },
  {
   "cell_type": "code",
   "execution_count": 10,
   "metadata": {
    "collapsed": true
   },
   "outputs": [],
   "source": [
    "num_folds = 10\n",
    "num_instances = len(X)\n",
    "seed = 7\n",
    "kfold = cross_validation.KFold(n=num_instances, n_folds=num_folds, random_state=seed)"
   ]
  },
  {
   "cell_type": "markdown",
   "metadata": {},
   "source": [
    " # Set the parameters for bias-variance dilemma"
   ]
  },
  {
   "cell_type": "code",
   "execution_count": 11,
   "metadata": {
    "collapsed": false
   },
   "outputs": [],
   "source": [
    "def plot_learning_curve(estimator, title, X, y, ylim=None, cv=None,\n",
    "                        n_jobs=1, train_sizes=np.linspace(.1, 1.0, 5)):\n",
    "    plt.figure()\n",
    "    plt.title(title)\n",
    "    if ylim is not None:\n",
    "        plt.ylim(*ylim)\n",
    "    plt.xlabel(\"Training examples\")\n",
    "    plt.ylabel(\"Score\")\n",
    "    train_sizes, train_scores, test_scores = learning_curve(\n",
    "        estimator, X, y, cv=cv, n_jobs=n_jobs, train_sizes=train_sizes)\n",
    "    train_scores_mean = np.mean(train_scores, axis=1)\n",
    "    train_scores_std = np.std(train_scores, axis=1)\n",
    "    test_scores_mean = np.mean(test_scores, axis=1)\n",
    "    test_scores_std = np.std(test_scores, axis=1)\n",
    "    plt.grid()\n",
    "\n",
    "    plt.fill_between(train_sizes, train_scores_mean - train_scores_std,\n",
    "                     train_scores_mean + train_scores_std, alpha=0.1,\n",
    "                     color=\"r\")\n",
    "    plt.fill_between(train_sizes, test_scores_mean - test_scores_std,\n",
    "                     test_scores_mean + test_scores_std, alpha=0.1, color=\"g\")\n",
    "    plt.plot(train_sizes, train_scores_mean, 'o-', color=\"r\",\n",
    "             label=\"Training score\")\n",
    "    plt.plot(train_sizes, test_scores_mean, 'o-', color=\"g\",\n",
    "             label=\"Cross-validation score\")\n",
    "\n",
    "    plt.legend(loc=\"best\")\n",
    "    return plt"
   ]
  },
  {
   "cell_type": "markdown",
   "metadata": {},
   "source": [
    "# Preprocessing the data and save both the model and preprocessed data"
   ]
  },
  {
   "cell_type": "code",
   "execution_count": 12,
   "metadata": {
    "collapsed": false
   },
   "outputs": [],
   "source": [
    "# According to the nature of the data spasity and there is outliter RobustScaler class is recomandit \n",
    "# but when I tried both of them the result seems is same\n",
    "from sklearn.preprocessing import StandardScaler\n",
    "scaler = preprocessing.StandardScaler().fit(X_train)"
   ]
  },
  {
   "cell_type": "code",
   "execution_count": 13,
   "metadata": {
    "collapsed": false
   },
   "outputs": [],
   "source": [
    "X_train = scaler.transform(X_train)\n",
    "X_test = scaler.transform(X_test) # use same transform for testing data\n",
    "X = X_train"
   ]
  },
  {
   "cell_type": "code",
   "execution_count": 14,
   "metadata": {
    "collapsed": true
   },
   "outputs": [],
   "source": [
    "# save transformed data\n",
    "np.save('./data/X_train', X_train)\n",
    "np.save('./data/y_train', y_train)\n",
    "np.save('./data/X_test', X_test)\n",
    "np.save('./data/y_test', y_test)"
   ]
  },
  {
   "cell_type": "code",
   "execution_count": 15,
   "metadata": {
    "collapsed": false
   },
   "outputs": [
    {
     "data": {
      "text/plain": [
       "['scaler.pkl', 'scaler.pkl_01.npy', 'scaler.pkl_02.npy', 'scaler.pkl_03.npy']"
      ]
     },
     "execution_count": 15,
     "metadata": {},
     "output_type": "execute_result"
    }
   ],
   "source": [
    "# save the model scaler to the desk\n",
    "from sklearn.externals import joblib\n",
    "joblib.dump(scaler, 'scaler.pkl') "
   ]
  },
  {
   "cell_type": "code",
   "execution_count": 16,
   "metadata": {
    "collapsed": false
   },
   "outputs": [
    {
     "name": "stdout",
     "output_type": "stream",
     "text": [
      " =================================================================>>>>> done\n",
      "[[ 2.10991518 -0.88106119 -0.84617062 ...,  1.97132825 -1.97556016\n",
      "  -0.69267849]\n",
      " [-1.49852146  1.2030767  -0.84617062 ..., -0.17456898  0.33209718\n",
      "  -0.62793264]\n",
      " [ 0.79619183  1.26087498 -0.84617062 ..., -0.34824772 -0.21429096\n",
      "   0.7317303 ]\n",
      " ..., \n",
      " [-1.01146856 -0.31384476  1.84556404 ...,  0.4429554   0.25069398\n",
      "  -0.51462739]\n",
      " [-0.16567549  0.37690132  0.48783031 ..., -0.98764276 -0.495502   -0.2880169 ]\n",
      " [-0.28041116 -0.88106119  0.63813809 ..., -0.19180821  1.08532344\n",
      "  -0.69267849]]\n"
     ]
    }
   ],
   "source": [
    "# Test the model if it is work\n",
    "scalerTest = joblib.load('scaler.pkl')\n",
    "new_data_scaled = scalerTest.transform(new_test_data)\n",
    "print \" =================================================================>>>>> done\"\n",
    "print new_data_scaled"
   ]
  },
  {
   "cell_type": "markdown",
   "metadata": {},
   "source": [
    "# 1. model  with   Regression"
   ]
  },
  {
   "cell_type": "markdown",
   "metadata": {},
   "source": [
    "Deep learning or the Classification and Regression Trees (CART as they are know) use the training data to select the best points to split the data in order to minimize a cost metric. The default cost metric for regression Deep learning is the mean squared error, specified in the criterion parameter."
   ]
  },
  {
   "cell_type": "code",
   "execution_count": 18,
   "metadata": {
    "collapsed": false
   },
   "outputs": [
    {
     "name": "stdout",
     "output_type": "stream",
     "text": [
      "Epoch 1/200\n",
      "824/824 [==============================] - 0s - loss: 1555.4686     \n",
      "Epoch 2/200\n",
      "824/824 [==============================] - 0s - loss: 1410.3215     \n",
      "Epoch 3/200\n",
      "824/824 [==============================] - 0s - loss: 1113.3584     \n",
      "Epoch 4/200\n",
      "824/824 [==============================] - 0s - loss: 767.0993     \n",
      "Epoch 5/200\n",
      "824/824 [==============================] - 0s - loss: 482.2540     \n",
      "Epoch 6/200\n",
      "824/824 [==============================] - 0s - loss: 305.5472     \n",
      "Epoch 7/200\n",
      "824/824 [==============================] - 0s - loss: 220.4136     \n",
      "Epoch 8/200\n",
      "824/824 [==============================] - 0s - loss: 184.0953     \n",
      "Epoch 9/200\n",
      "824/824 [==============================] - 0s - loss: 166.5082     \n",
      "Epoch 10/200\n",
      "824/824 [==============================] - 0s - loss: 155.8776     \n",
      "Epoch 11/200\n",
      "824/824 [==============================] - 0s - loss: 148.1178     \n",
      "Epoch 12/200\n",
      "824/824 [==============================] - 0s - loss: 141.6442     \n",
      "Epoch 13/200\n",
      "824/824 [==============================] - 0s - loss: 136.2120     \n",
      "Epoch 14/200\n",
      "824/824 [==============================] - 0s - loss: 131.3418     \n",
      "Epoch 15/200\n",
      "824/824 [==============================] - 0s - loss: 127.8238     \n",
      "Epoch 16/200\n",
      "824/824 [==============================] - 0s - loss: 124.3308     \n",
      "Epoch 17/200\n",
      "824/824 [==============================] - 0s - loss: 121.4656     \n",
      "Epoch 18/200\n",
      "824/824 [==============================] - 0s - loss: 118.4764     \n",
      "Epoch 19/200\n",
      "824/824 [==============================] - 0s - loss: 115.6758     \n",
      "Epoch 20/200\n",
      "824/824 [==============================] - 0s - loss: 113.1302     \n",
      "Epoch 21/200\n",
      "824/824 [==============================] - 0s - loss: 110.4697     \n",
      "Epoch 22/200\n",
      "824/824 [==============================] - 0s - loss: 107.7911     \n",
      "Epoch 23/200\n",
      "824/824 [==============================] - 0s - loss: 105.4441     \n",
      "Epoch 24/200\n",
      "824/824 [==============================] - 0s - loss: 103.1089     \n",
      "Epoch 25/200\n",
      "824/824 [==============================] - 0s - loss: 100.7509     \n",
      "Epoch 26/200\n",
      "824/824 [==============================] - 0s - loss: 98.6569     \n",
      "Epoch 27/200\n",
      "824/824 [==============================] - 0s - loss: 96.5693     \n",
      "Epoch 28/200\n",
      "824/824 [==============================] - 0s - loss: 95.1163     \n",
      "Epoch 29/200\n",
      "824/824 [==============================] - 0s - loss: 93.0464     \n",
      "Epoch 30/200\n",
      "824/824 [==============================] - 0s - loss: 91.1262     \n",
      "Epoch 31/200\n",
      "824/824 [==============================] - 0s - loss: 89.7255     \n",
      "Epoch 32/200\n",
      "824/824 [==============================] - 0s - loss: 88.4015     \n",
      "Epoch 33/200\n",
      "824/824 [==============================] - 0s - loss: 86.6471     \n",
      "Epoch 34/200\n",
      "824/824 [==============================] - 0s - loss: 85.4502     \n",
      "Epoch 35/200\n",
      "824/824 [==============================] - 0s - loss: 84.2600     \n",
      "Epoch 36/200\n",
      "824/824 [==============================] - 0s - loss: 83.0774     \n",
      "Epoch 37/200\n",
      "824/824 [==============================] - 0s - loss: 82.0443     \n",
      "Epoch 38/200\n",
      "824/824 [==============================] - 0s - loss: 80.5320     \n",
      "Epoch 39/200\n",
      "824/824 [==============================] - 0s - loss: 79.5246     \n",
      "Epoch 40/200\n",
      "824/824 [==============================] - 0s - loss: 78.4409     \n",
      "Epoch 41/200\n",
      "824/824 [==============================] - 0s - loss: 77.7854     \n",
      "Epoch 42/200\n",
      "824/824 [==============================] - 0s - loss: 76.9396     \n",
      "Epoch 43/200\n",
      "824/824 [==============================] - 0s - loss: 75.9408     \n",
      "Epoch 44/200\n",
      "824/824 [==============================] - 0s - loss: 75.3069     \n",
      "Epoch 45/200\n",
      "824/824 [==============================] - 0s - loss: 74.1067     \n",
      "Epoch 46/200\n",
      "824/824 [==============================] - 0s - loss: 73.4875     \n",
      "Epoch 47/200\n",
      "824/824 [==============================] - 0s - loss: 72.7563     \n",
      "Epoch 48/200\n",
      "824/824 [==============================] - 0s - loss: 71.5402     \n",
      "Epoch 49/200\n",
      "824/824 [==============================] - 0s - loss: 70.6273     \n",
      "Epoch 50/200\n",
      "824/824 [==============================] - 0s - loss: 69.6294     \n",
      "Epoch 51/200\n",
      "824/824 [==============================] - 0s - loss: 68.6886     \n",
      "Epoch 52/200\n",
      "824/824 [==============================] - 0s - loss: 67.6170     \n",
      "Epoch 53/200\n",
      "824/824 [==============================] - 0s - loss: 66.9548     \n",
      "Epoch 54/200\n",
      "824/824 [==============================] - 0s - loss: 66.1692     \n",
      "Epoch 55/200\n",
      "824/824 [==============================] - 0s - loss: 65.1219     \n",
      "Epoch 56/200\n",
      "824/824 [==============================] - 0s - loss: 64.5028     \n",
      "Epoch 57/200\n",
      "824/824 [==============================] - 0s - loss: 63.5736     \n",
      "Epoch 58/200\n",
      "824/824 [==============================] - 0s - loss: 62.5572     \n",
      "Epoch 59/200\n",
      "824/824 [==============================] - 0s - loss: 61.7438     \n",
      "Epoch 60/200\n",
      "824/824 [==============================] - 0s - loss: 61.0228     \n",
      "Epoch 61/200\n",
      "824/824 [==============================] - 0s - loss: 60.1368     \n",
      "Epoch 62/200\n",
      "824/824 [==============================] - 0s - loss: 59.3901     \n",
      "Epoch 63/200\n",
      "824/824 [==============================] - 0s - loss: 58.6920     \n",
      "Epoch 64/200\n",
      "824/824 [==============================] - 0s - loss: 58.0049     \n",
      "Epoch 65/200\n",
      "824/824 [==============================] - 0s - loss: 57.2100     \n",
      "Epoch 66/200\n",
      "824/824 [==============================] - 0s - loss: 56.8807     \n",
      "Epoch 67/200\n",
      "824/824 [==============================] - 0s - loss: 55.8572     \n",
      "Epoch 68/200\n",
      "824/824 [==============================] - 0s - loss: 55.6639     \n",
      "Epoch 69/200\n",
      "824/824 [==============================] - 0s - loss: 54.6557     \n",
      "Epoch 70/200\n",
      "824/824 [==============================] - 0s - loss: 54.0814     \n",
      "Epoch 71/200\n",
      "824/824 [==============================] - 0s - loss: 53.3133     \n",
      "Epoch 72/200\n",
      "824/824 [==============================] - 0s - loss: 53.1541     \n",
      "Epoch 73/200\n",
      "824/824 [==============================] - 0s - loss: 52.2678     \n",
      "Epoch 74/200\n",
      "824/824 [==============================] - 0s - loss: 51.9864     \n",
      "Epoch 75/200\n",
      "824/824 [==============================] - 0s - loss: 51.2994     \n",
      "Epoch 76/200\n",
      "824/824 [==============================] - 0s - loss: 50.5953     \n",
      "Epoch 77/200\n",
      "824/824 [==============================] - 0s - loss: 50.3702     \n",
      "Epoch 78/200\n",
      "824/824 [==============================] - 0s - loss: 49.9476     \n",
      "Epoch 79/200\n",
      "824/824 [==============================] - 0s - loss: 49.6276     \n",
      "Epoch 80/200\n",
      "824/824 [==============================] - 0s - loss: 48.9042     \n",
      "Epoch 81/200\n",
      "824/824 [==============================] - 0s - loss: 48.5385     \n",
      "Epoch 82/200\n",
      "824/824 [==============================] - 0s - loss: 48.3898     \n",
      "Epoch 83/200\n",
      "824/824 [==============================] - 0s - loss: 47.9675     \n",
      "Epoch 84/200\n",
      "824/824 [==============================] - 0s - loss: 47.5965     \n",
      "Epoch 85/200\n",
      "824/824 [==============================] - 0s - loss: 47.5177     \n",
      "Epoch 86/200\n",
      "824/824 [==============================] - 0s - loss: 46.9759     \n",
      "Epoch 87/200\n",
      "824/824 [==============================] - 0s - loss: 46.7005     \n",
      "Epoch 88/200\n",
      "824/824 [==============================] - 0s - loss: 46.6065     \n",
      "Epoch 89/200\n",
      "824/824 [==============================] - 0s - loss: 46.2930     \n",
      "Epoch 90/200\n",
      "824/824 [==============================] - 0s - loss: 46.1346     \n",
      "Epoch 91/200\n",
      "824/824 [==============================] - 0s - loss: 45.6987     \n",
      "Epoch 92/200\n",
      "824/824 [==============================] - 0s - loss: 45.4992     \n",
      "Epoch 93/200\n",
      "824/824 [==============================] - 0s - loss: 45.4038     \n",
      "Epoch 94/200\n",
      "824/824 [==============================] - 0s - loss: 45.0753     \n",
      "Epoch 95/200\n",
      "824/824 [==============================] - 0s - loss: 44.8867     \n",
      "Epoch 96/200\n",
      "824/824 [==============================] - 0s - loss: 45.1173     \n",
      "Epoch 97/200\n",
      "824/824 [==============================] - 0s - loss: 44.5292     \n",
      "Epoch 98/200\n",
      "824/824 [==============================] - 0s - loss: 44.3050     \n",
      "Epoch 99/200\n",
      "824/824 [==============================] - 0s - loss: 44.2594     \n",
      "Epoch 100/200\n",
      "824/824 [==============================] - 0s - loss: 44.0983     \n",
      "Epoch 101/200\n",
      "824/824 [==============================] - 0s - loss: 43.7141     \n",
      "Epoch 102/200\n",
      "824/824 [==============================] - 0s - loss: 43.5989     \n",
      "Epoch 103/200\n",
      "824/824 [==============================] - 0s - loss: 43.3748     \n",
      "Epoch 104/200\n",
      "824/824 [==============================] - 0s - loss: 43.4078     \n",
      "Epoch 105/200\n",
      "824/824 [==============================] - 0s - loss: 42.9625     \n",
      "Epoch 106/200\n",
      "824/824 [==============================] - 0s - loss: 43.1692     \n",
      "Epoch 107/200\n",
      "824/824 [==============================] - 0s - loss: 42.6907     \n",
      "Epoch 108/200\n",
      "824/824 [==============================] - 0s - loss: 42.8252     \n",
      "Epoch 109/200\n",
      "824/824 [==============================] - 0s - loss: 42.4141     \n",
      "Epoch 110/200\n",
      "824/824 [==============================] - 0s - loss: 42.7521     \n",
      "Epoch 111/200\n",
      "824/824 [==============================] - 0s - loss: 42.2790     \n",
      "Epoch 112/200\n",
      "824/824 [==============================] - 0s - loss: 42.1498     \n",
      "Epoch 113/200\n",
      "824/824 [==============================] - 0s - loss: 42.0331     \n",
      "Epoch 114/200\n",
      "824/824 [==============================] - 0s - loss: 41.9673     \n",
      "Epoch 115/200\n",
      "824/824 [==============================] - 0s - loss: 41.7718     \n",
      "Epoch 116/200\n",
      "824/824 [==============================] - 0s - loss: 41.8054     \n",
      "Epoch 117/200\n",
      "824/824 [==============================] - 0s - loss: 41.7233     \n",
      "Epoch 118/200\n",
      "824/824 [==============================] - 0s - loss: 41.5951     \n",
      "Epoch 119/200\n",
      "824/824 [==============================] - 0s - loss: 41.5872     \n",
      "Epoch 120/200\n",
      "824/824 [==============================] - 0s - loss: 41.3696     \n",
      "Epoch 121/200\n",
      "824/824 [==============================] - 0s - loss: 41.3317     \n",
      "Epoch 122/200\n",
      "824/824 [==============================] - 0s - loss: 41.0702     \n",
      "Epoch 123/200\n",
      "824/824 [==============================] - 0s - loss: 41.1176     \n",
      "Epoch 124/200\n",
      "824/824 [==============================] - 0s - loss: 40.8080     \n",
      "Epoch 125/200\n",
      "824/824 [==============================] - 0s - loss: 40.7614     \n",
      "Epoch 126/200\n",
      "824/824 [==============================] - 0s - loss: 40.6787     \n",
      "Epoch 127/200\n",
      "824/824 [==============================] - 0s - loss: 40.5342     \n",
      "Epoch 128/200\n",
      "824/824 [==============================] - 0s - loss: 40.3033     \n",
      "Epoch 129/200\n",
      "824/824 [==============================] - 0s - loss: 40.3671     \n",
      "Epoch 130/200\n",
      "824/824 [==============================] - 0s - loss: 40.3339     \n",
      "Epoch 131/200\n",
      "824/824 [==============================] - 0s - loss: 40.1313     \n",
      "Epoch 132/200\n",
      "824/824 [==============================] - 0s - loss: 39.9852     \n",
      "Epoch 133/200\n",
      "824/824 [==============================] - 0s - loss: 40.3509     \n",
      "Epoch 134/200\n",
      "824/824 [==============================] - 0s - loss: 40.0020     \n",
      "Epoch 135/200\n",
      "824/824 [==============================] - 0s - loss: 39.8953     \n",
      "Epoch 136/200\n",
      "824/824 [==============================] - 0s - loss: 39.8463     \n",
      "Epoch 137/200\n",
      "824/824 [==============================] - 0s - loss: 40.0382     \n",
      "Epoch 138/200\n",
      "824/824 [==============================] - 0s - loss: 39.7584     \n",
      "Epoch 139/200\n",
      "824/824 [==============================] - 0s - loss: 39.6127     \n",
      "Epoch 140/200\n",
      "824/824 [==============================] - 0s - loss: 39.5090     \n",
      "Epoch 141/200\n",
      "824/824 [==============================] - 0s - loss: 39.7051     \n",
      "Epoch 142/200\n",
      "824/824 [==============================] - 0s - loss: 39.4536     \n",
      "Epoch 143/200\n",
      "824/824 [==============================] - 0s - loss: 39.2986     \n",
      "Epoch 144/200\n",
      "824/824 [==============================] - 0s - loss: 39.3657     \n",
      "Epoch 145/200\n",
      "824/824 [==============================] - 0s - loss: 39.2811     \n",
      "Epoch 146/200\n",
      "824/824 [==============================] - 0s - loss: 39.1268     \n",
      "Epoch 147/200\n",
      "824/824 [==============================] - 0s - loss: 39.2838     \n",
      "Epoch 148/200\n",
      "824/824 [==============================] - 0s - loss: 38.9741     \n",
      "Epoch 149/200\n",
      "824/824 [==============================] - 0s - loss: 38.9259     \n",
      "Epoch 150/200\n",
      "824/824 [==============================] - 0s - loss: 38.8802     \n",
      "Epoch 151/200\n",
      "824/824 [==============================] - 0s - loss: 38.9884     \n",
      "Epoch 152/200\n",
      "824/824 [==============================] - 0s - loss: 38.8578     \n",
      "Epoch 153/200\n",
      "824/824 [==============================] - 0s - loss: 38.6536     \n",
      "Epoch 154/200\n",
      "824/824 [==============================] - 0s - loss: 38.8281     \n",
      "Epoch 155/200\n",
      "824/824 [==============================] - 0s - loss: 38.7173     \n",
      "Epoch 156/200\n",
      "824/824 [==============================] - 0s - loss: 38.7588     \n",
      "Epoch 157/200\n",
      "824/824 [==============================] - 0s - loss: 38.4933     \n",
      "Epoch 158/200\n",
      "824/824 [==============================] - 0s - loss: 38.6195     \n",
      "Epoch 159/200\n",
      "824/824 [==============================] - 0s - loss: 38.5085     \n",
      "Epoch 160/200\n",
      "824/824 [==============================] - 0s - loss: 38.4141     \n",
      "Epoch 161/200\n",
      "824/824 [==============================] - 0s - loss: 38.4664     \n",
      "Epoch 162/200\n",
      "824/824 [==============================] - 0s - loss: 38.5633     \n",
      "Epoch 163/200\n",
      "824/824 [==============================] - 0s - loss: 38.2607     \n",
      "Epoch 164/200\n",
      "824/824 [==============================] - 0s - loss: 38.1649     \n",
      "Epoch 165/200\n",
      "824/824 [==============================] - 0s - loss: 38.3583     \n",
      "Epoch 166/200\n",
      "824/824 [==============================] - 0s - loss: 38.4372     \n",
      "Epoch 167/200\n",
      "824/824 [==============================] - 0s - loss: 38.2977     \n",
      "Epoch 168/200\n",
      "824/824 [==============================] - 0s - loss: 38.1336     \n",
      "Epoch 169/200\n",
      "824/824 [==============================] - 0s - loss: 38.1421     \n",
      "Epoch 170/200\n",
      "824/824 [==============================] - 0s - loss: 38.0350     \n",
      "Epoch 171/200\n",
      "824/824 [==============================] - 0s - loss: 38.1236     \n",
      "Epoch 172/200\n",
      "824/824 [==============================] - 0s - loss: 38.0628     \n",
      "Epoch 173/200\n",
      "824/824 [==============================] - 0s - loss: 37.7747     \n",
      "Epoch 174/200\n",
      "824/824 [==============================] - 0s - loss: 37.8493     \n",
      "Epoch 175/200\n",
      "824/824 [==============================] - 0s - loss: 37.9283     \n",
      "Epoch 176/200\n",
      "824/824 [==============================] - 0s - loss: 37.8300     \n",
      "Epoch 177/200\n",
      "824/824 [==============================] - 0s - loss: 37.6972     \n",
      "Epoch 178/200\n",
      "824/824 [==============================] - 0s - loss: 37.9358     \n",
      "Epoch 179/200\n",
      "824/824 [==============================] - 0s - loss: 37.6967     \n",
      "Epoch 180/200\n",
      "824/824 [==============================] - 0s - loss: 37.8997     \n",
      "Epoch 181/200\n",
      "824/824 [==============================] - 0s - loss: 38.2245     \n",
      "Epoch 182/200\n",
      "824/824 [==============================] - 0s - loss: 37.8402     \n",
      "Epoch 183/200\n",
      "824/824 [==============================] - 0s - loss: 37.7606     \n",
      "Epoch 184/200\n",
      "824/824 [==============================] - 0s - loss: 37.6873     \n",
      "Epoch 185/200\n",
      "824/824 [==============================] - 0s - loss: 37.7662     \n",
      "Epoch 186/200\n",
      "824/824 [==============================] - 0s - loss: 37.9268     \n",
      "Epoch 187/200\n",
      "824/824 [==============================] - 0s - loss: 37.4728     \n",
      "Epoch 188/200\n",
      "824/824 [==============================] - 0s - loss: 37.6137     \n",
      "Epoch 189/200\n",
      "824/824 [==============================] - 0s - loss: 37.2711     \n",
      "Epoch 190/200\n",
      "824/824 [==============================] - 0s - loss: 37.6111     \n",
      "Epoch 191/200\n",
      "824/824 [==============================] - 0s - loss: 37.6421     \n",
      "Epoch 192/200\n",
      "824/824 [==============================] - 0s - loss: 37.4318     \n",
      "Epoch 193/200\n",
      "824/824 [==============================] - 0s - loss: 37.2421     \n",
      "Epoch 194/200\n",
      "824/824 [==============================] - 0s - loss: 37.2597     \n",
      "Epoch 195/200\n",
      "824/824 [==============================] - 0s - loss: 37.1837     \n",
      "Epoch 196/200\n",
      "824/824 [==============================] - 0s - loss: 37.4768     \n",
      "Epoch 197/200\n",
      "824/824 [==============================] - 0s - loss: 37.5874     \n",
      "Epoch 198/200\n",
      "824/824 [==============================] - 0s - loss: 37.5020     \n",
      "Epoch 199/200\n",
      "824/824 [==============================] - 0s - loss: 37.2361     \n",
      "Epoch 200/200\n",
      "824/824 [==============================] - 0s - loss: 37.1761     \n"
     ]
    },
    {
     "data": {
      "text/plain": [
       "<keras.callbacks.History at 0x7ffae2c8de50>"
      ]
     },
     "execution_count": 18,
     "metadata": {},
     "output_type": "execute_result"
    }
   ],
   "source": [
    "from keras.layers import Dropout\n",
    "model = Sequential()\n",
    "model.add(Dense(40, input_dim=8, init='normal', activation='relu'))\n",
    "#model.add(Dropout(0.5))\n",
    "model.add(Dense(1, init='normal'))\n",
    "\n",
    "model.compile(loss='mean_squared_error', optimizer='adam')\n",
    "# Actual modelling\n",
    "model.fit(X, Y, verbose=1, batch_size=8, nb_epoch=200)"
   ]
  },
  {
   "cell_type": "markdown",
   "metadata": {},
   "source": [
    "## Coefficients Of Determination {Calculating R^2}\n",
    "\n",
    "R^2, Close to one is better"
   ]
  },
  {
   "cell_type": "code",
   "execution_count": 19,
   "metadata": {
    "collapsed": false
   },
   "outputs": [
    {
     "name": "stdout",
     "output_type": "stream",
     "text": [
      "R-squared =  0.8703548585\n"
     ]
    }
   ],
   "source": [
    "predicted = model.predict(X)\n",
    "r_squared = r2_score(Y, predicted, multioutput='variance_weighted')\n",
    "print 'R-squared = ',r_squared"
   ]
  },
  {
   "cell_type": "code",
   "execution_count": 20,
   "metadata": {
    "collapsed": false
   },
   "outputs": [],
   "source": [
    "prediction = predicted.ravel()"
   ]
  },
  {
   "cell_type": "code",
   "execution_count": 21,
   "metadata": {
    "collapsed": false
   },
   "outputs": [
    {
     "data": {
      "text/plain": [
       "(824, 1)"
      ]
     },
     "execution_count": 21,
     "metadata": {},
     "output_type": "execute_result"
    }
   ],
   "source": [
    "shape(predicted)"
   ]
  },
  {
   "cell_type": "code",
   "execution_count": 22,
   "metadata": {
    "collapsed": false
   },
   "outputs": [
    {
     "data": {
      "text/plain": [
       "(824,)"
      ]
     },
     "execution_count": 22,
     "metadata": {},
     "output_type": "execute_result"
    }
   ],
   "source": [
    "shape(prediction)"
   ]
  },
  {
   "cell_type": "code",
   "execution_count": 23,
   "metadata": {
    "collapsed": false
   },
   "outputs": [
    {
     "data": {
      "text/plain": [
       "(824,)"
      ]
     },
     "execution_count": 23,
     "metadata": {},
     "output_type": "execute_result"
    }
   ],
   "source": [
    "shape(Y)"
   ]
  },
  {
   "cell_type": "markdown",
   "metadata": {},
   "source": [
    "## Residual Plot"
   ]
  },
  {
   "cell_type": "code",
   "execution_count": 24,
   "metadata": {
    "collapsed": false
   },
   "outputs": [
    {
     "data": {
      "image/png": "[encoded data removed]",
      "text/plain": [
       "<matplotlib.figure.Figure at 0x7ffae164b6d0>"
      ]
     },
     "metadata": {},
     "output_type": "display_data"
    }
   ],
   "source": [
    "fig, ax = plt.subplots()\n",
    "ax.scatter(Y, predicted)\n",
    "ax.plot([Y.min(), Y.max()], [Y.min(), Y.max()], 'k--', lw=4)\n",
    "ax.set_xlabel('Measured')\n",
    "ax.set_ylabel('Predicted')\n",
    "plt.show()"
   ]
  },
  {
   "cell_type": "code",
   "execution_count": 25,
   "metadata": {
    "collapsed": false
   },
   "outputs": [
    {
     "data": {
      "text/html": [
       "\n",
       "\n",
       "    <div class=\"bk-root\">\n",
       "        <div class=\"plotdiv\" id=\"20aac396-08cc-4127-ab33-f346559039fa\"></div>\n",
       "    </div>\n",
       "<script type=\"text/javascript\">\n",
       "  \n",
       "  (function(global) {\n",
       "    function now() {\n",
       "      return new Date();\n",
       "    }\n",
       "  \n",
       "    var force = \"\";\n",
       "  \n",
       "    if (typeof (window._bokeh_onload_callbacks) === \"undefined\" || force !== \"\") {\n",
       "      window._bokeh_onload_callbacks = [];\n",
       "      window._bokeh_is_loading = undefined;\n",
       "    }\n",
       "  \n",
       "  \n",
       "    \n",
       "    if (typeof (window._bokeh_timeout) === \"undefined\" || force !== \"\") {\n",
       "      window._bokeh_timeout = Date.now() + 0;\n",
       "      window._bokeh_failed_load = false;\n",
       "    }\n",
       "  \n",
       "    var NB_LOAD_WARNING = {'data': {'text/html':\n",
       "       \"<div style='background-color: #fdd'>\\n\"+\n",
       "       \"<p>\\n\"+\n",
       "       \"BokehJS does not appear to have successfully loaded. If loading BokehJS from CDN, this \\n\"+\n",
       "       \"may be due to a slow or bad network connection. Possible fixes:\\n\"+\n",
       "       \"</p>\\n\"+\n",
       "       \"<ul>\\n\"+\n",
       "       \"<li>re-rerun `output_notebook()` to attempt to load from CDN again, or</li>\\n\"+\n",
       "       \"<li>use INLINE resources instead, as so:</li>\\n\"+\n",
       "       \"</ul>\\n\"+\n",
       "       \"<code>\\n\"+\n",
       "       \"from bokeh.resources import INLINE\\n\"+\n",
       "       \"output_notebook(resources=INLINE)\\n\"+\n",
       "       \"</code>\\n\"+\n",
       "       \"</div>\"}};\n",
       "  \n",
       "    function display_loaded() {\n",
       "      if (window.Bokeh !== undefined) {\n",
       "        Bokeh.$(\"#20aac396-08cc-4127-ab33-f346559039fa\").text(\"BokehJS successfully loaded.\");\n",
       "      } else if (Date.now() < window._bokeh_timeout) {\n",
       "        setTimeout(display_loaded, 100)\n",
       "      }\n",
       "    }\n",
       "  \n",
       "    function run_callbacks() {\n",
       "      window._bokeh_onload_callbacks.forEach(function(callback) { callback() });\n",
       "      delete window._bokeh_onload_callbacks\n",
       "      console.info(\"Bokeh: all callbacks have finished\");\n",
       "    }\n",
       "  \n",
       "    function load_libs(js_urls, callback) {\n",
       "      window._bokeh_onload_callbacks.push(callback);\n",
       "      if (window._bokeh_is_loading > 0) {\n",
       "        console.log(\"Bokeh: BokehJS is being loaded, scheduling callback at\", now());\n",
       "        return null;\n",
       "      }\n",
       "      if (js_urls == null || js_urls.length === 0) {\n",
       "        run_callbacks();\n",
       "        return null;\n",
       "      }\n",
       "      console.log(\"Bokeh: BokehJS not loaded, scheduling load and callback at\", now());\n",
       "      window._bokeh_is_loading = js_urls.length;\n",
       "      for (var i = 0; i < js_urls.length; i++) {\n",
       "        var url = js_urls[i];\n",
       "        var s = document.createElement('script');\n",
       "        s.src = url;\n",
       "        s.async = false;\n",
       "        s.onreadystatechange = s.onload = function() {\n",
       "          window._bokeh_is_loading--;\n",
       "          if (window._bokeh_is_loading === 0) {\n",
       "            console.log(\"Bokeh: all BokehJS libraries loaded\");\n",
       "            run_callbacks()\n",
       "          }\n",
       "        };\n",
       "        s.onerror = function() {\n",
       "          console.warn(\"failed to load library \" + url);\n",
       "        };\n",
       "        console.log(\"Bokeh: injecting script tag for BokehJS library: \", url);\n",
       "        document.getElementsByTagName(\"head\")[0].appendChild(s);\n",
       "      }\n",
       "    };var element = document.getElementById(\"20aac396-08cc-4127-ab33-f346559039fa\");\n",
       "    if (element == null) {\n",
       "      console.log(\"Bokeh: ERROR: autoload.js configured with elementid '20aac396-08cc-4127-ab33-f346559039fa' but no matching script tag was found. \")\n",
       "      return false;\n",
       "    }\n",
       "  \n",
       "    var js_urls = [];\n",
       "  \n",
       "    var inline_js = [\n",
       "      function(Bokeh) {\n",
       "        Bokeh.$(function() {\n",
       "            var docs_json = {\"0309dc57-c91d-4fb2-8976-2611c9fa6110\":{\"roots\":{\"references\":[{\"attributes\":{},\"id\":\"e3a26691-7415-4ac9-a9b2-57d98fab4236\",\"type\":\"BasicTickFormatter\"},{\"attributes\":{\"callback\":null},\"id\":\"850d37de-9888-4a26-8b05-dc956102477b\",\"type\":\"DataRange1d\"},{\"attributes\":{\"plot\":{\"id\":\"99268e92-46ae-4b97-aa0e-5b65756219d7\",\"subtype\":\"Figure\",\"type\":\"Plot\"}},\"id\":\"3d476d62-2209-4875-836e-6eb581ce4561\",\"type\":\"ResizeTool\"},{\"attributes\":{\"axis_label\":\"Measured\",\"axis_label_text_color\":{\"value\":\"#aa6666\"},\"formatter\":{\"id\":\"4c1e4d16-1803-456f-b2e5-06e3dbc3b4f6\",\"type\":\"BasicTickFormatter\"},\"major_tick_line_color\":{\"value\":\"firebrick\"},\"major_tick_line_width\":{\"value\":3},\"minor_tick_line_color\":{\"value\":\"orange\"},\"plot\":{\"id\":\"99268e92-46ae-4b97-aa0e-5b65756219d7\",\"subtype\":\"Figure\",\"type\":\"Plot\"},\"ticker\":{\"id\":\"7742c2b3-c0b6-44b6-9efc-70078a3a5101\",\"type\":\"BasicTicker\"}},\"id\":\"8c70351b-4517-4feb-b6d9-eb2753e309c1\",\"type\":\"LinearAxis\"},{\"attributes\":{\"overlay\":{\"id\":\"110a4ce1-92de-4236-bc60-69f7e826b494\",\"type\":\"BoxAnnotation\"},\"plot\":{\"id\":\"99268e92-46ae-4b97-aa0e-5b65756219d7\",\"subtype\":\"Figure\",\"type\":\"Plot\"}},\"id\":\"4921259e-0a8a-42e3-91d2-8eb485711283\",\"type\":\"BoxZoomTool\"},{\"attributes\":{},\"id\":\"7742c2b3-c0b6-44b6-9efc-70078a3a5101\",\"type\":\"BasicTicker\"},{\"attributes\":{\"data_source\":{\"id\":\"e96f9bb4-ede5-4fe3-ac3f-9086c88c7f13\",\"type\":\"ColumnDataSource\"},\"glyph\":{\"id\":\"acd097ad-a4e8-4839-8971-2a5fa975fc48\",\"type\":\"Circle\"},\"hover_glyph\":null,\"nonselection_glyph\":{\"id\":\"491f8f22-a09c-47bc-8efc-6c1163daa363\",\"type\":\"Circle\"},\"selection_glyph\":null},\"id\":\"a2c9aa2f-213a-40a4-b5b8-ada945bae71f\",\"type\":\"GlyphRenderer\"},{\"attributes\":{\"line_alpha\":{\"value\":0.1},\"line_color\":{\"value\":\"#1f77b4\"},\"line_dash\":[4,4],\"line_width\":{\"value\":2},\"x\":{\"field\":\"x\"},\"y\":{\"field\":\"y\"}},\"id\":\"4be35f63-7fbe-4376-be9d-d6ef6ddd47a0\",\"type\":\"Line\"},{\"attributes\":{},\"id\":\"b36a9181-ac89-4a4e-aa82-075ca530ac9c\",\"type\":\"BasicTicker\"},{\"attributes\":{\"callback\":null,\"column_names\":[\"x\",\"y\"],\"data\":{\"x\":[43.892042159999995,38.21075992,33.419591196,13.12072828,47.22221124,22.31833812,12.47262084,28.937997196,47.029847436000004,26.322814728,30.439675923999996,12.63809508,20.77391188,43.798273423999994,66.10006412,15.361525279999999,40.865242519999995,45.939785879999995,33.75674496,43.58177796,23.524231644,42.69924868,14.143910664,48.401215199999996,34.569637164,35.85964676,59.09498796,24.49708228,37.721921436,15.520104759999999,32.401235144,33.05347944,49.249270679999995,71.69860924,54.896079119999996,50.45930106,51.863763672,28.6822016,26.77235308,17.236210524,36.83870268,40.2309246,47.714497103999996,11.36256448,9.99050724,40.925226931999994,40.563252031999994,31.715896,39.417342919999996,18.12632404,18.28490352,9.86640156,41.2996124,34.55653712,53.95839176,82.5992248,54.598914963999995,44.61185510399999,39.28978986,63.528318639999995,39.1622368,39.321505756,20.416073836,44.395359639999995,56.33708396,38.500339839999995,32.245413568000004,42.229026048,46.247292176,33.68779736,44.209201119999996,33.72916592,64.90037588,33.192064116000005,12.45193656,44.14025352,57.915983999999995,55.50971276,37.2661778,42.21661548,41.20308576,39.779317819999996,64.90037588,39.6621069,23.5111316,54.765078679999995,29.073134491999998,49.77327244,65.19685056,36.588422892,52.00717468,37.2661778,43.57833058,40.679083999999996,26.96540636,36.251958603999995,25.726417988,12.180972492,72.99482412,28.62704352,11.392211948,20.08443588,48.28400428,24.00065956,45.304778483999996,35.763120119999996,74.19451236,14.699628319999999,25.60910856945864,61.99078716,38.074243671999994,54.09628696,40.856968808,39.84481804,22.435549039999998,25.893960655999997,42.919881,30.647208199999998,26.200088,23.13881456,26.8550902,26.147687824,52.446370892,37.92118,41.836714203999996,48.9872698,8.536402356,35.75425543054136,48.587373719999995,21.601283079999998,28.79941252,32.823194456,79.29663476,11.654902304,66.78067543054136,61.09446836,48.67011084,40.1964508,26.258003984,13.45857152,47.739318239999996,23.696600644,27.827251359999998,31.35047372,60.32225524,48.695621452,39.0932892,33.116911232,37.32823064,50.69717028,13.565440299999999,33.68779736,53.46196904,16.503987012,61.85584685418796,60.2946762,43.01296026,77.29715436,56.847296199999995,55.495923239999996,15.049192651999999,17.83674412,19.765208492,24.53845084,21.946021079999998,33.56369168,43.0577762,27.681082448,31.026419999999998,2.331807832,42.29245784,15.340841,19.691434559999998,33.70158688,47.782065751999994,56.141962252,24.8900836,29.870858223999996,58.60546,24.90387312,13.395533715270679,23.786922,33.72916592,52.04164848,31.35047372,37.9556538,57.59882504,29.447519959999997,23.8903434,67.69964844,34.73580088,39.056057496,25.0969264,45.3675208,28.096147,23.221551679999997,40.14818748,42.14008364399999,37.34202016,44.13335876,60.280886679999995,49.77327244,59.590425715270676,17.959470848000002,24.104080959999997,26.94472208,31.966865263999996,28.23748958,16.10960674,54.27555072,18.746162964,24.91766264,40.85834776,11.46598588,38.407950056000004,25.2003478,79.40005615999999,23.51802636,66.42411784,39.45181672,29.7853632,22.347985588,55.89581932,30.12320644,67.568648,53.52402188,13.29309728,24.0971862,14.98920824,39.58281716,48.846616696,11.957582268,39.37597436,19.98790924,39.455953576,39.421479776,24.483292759999998,59.19840936,66.69990824,49.973220479999995,40.7135578,39.699338604,20.27748916,17.57474324,33.082437432,41.05140104,56.14403068,43.377003588,15.08573488,77.29715436,32.83974188,37.437857324,23.744174488,56.3991368,43.388724679999996,44.698039603999995,32.720462532,53.90323368,7.74971024,47.8151606,59.89478012,38.01770664,68.75060685418796,6.883728383999999,76.80073164,11.85209244,8.48744956,49.20100736,32.768036376000005,33.21205892,17.9953236,23.80071152,6.902344236,18.12632404,10.535882756,25.510612,13.461329424,25.48303296,55.647607959999995,32.96384756,19.41564416,22.94576128,19.691434559999998,18.033934256,52.908319811999995,23.24519085418796,25.68987576,17.95395504,43.698299404,15.575262839999999,25.422359072,29.15794004,22.435549039999998,22.53207568,21.179323768,33.398217439999996,48.97348028,22.489328168,67.30664712,39.6103962,45.08483564,38.461039708,46.931941843999994,40.59634688,30.44726016,24.290928956,49.99390476,8.06342182,16.27852836,40.38950408,23.639177145812038,21.066249704,43.25082948,20.91870184,33.798802996,44.02993736,9.84965714581204,25.62092816,24.44881896,76.23536132,15.748321315999998,58.522722879999996,7.8393421199999995,17.275510655999998,27.22051248,71.29871315999999,68.09954452,24.65566176,26.91369566,33.399596392,29.39236188,29.89223198,46.80163088,31.25394708,55.55108132,28.99936056,39.300132,10.335934715999999,79.98611076,47.27736932,25.021084039999998,24.39366088,43.733462679999995,49.80085148,9.011451319999999,11.414275179999999,33.5430074,55.82687172,46.89815752,31.74347504,35.36322404,35.34253976,65.99664272,30.2335226,35.314271244,36.93522932,12.73462172,11.169511199999999,38.60376124,44.6090972,41.15137506,12.788400847999998,12.17614616,33.0431373,21.859147104,41.052779992,71.29871315999999,47.7117392,46.2293658,26.74477404,41.540929,26.91714304,55.94408264,17.8229546,61.23581094,15.340841,31.419421319999998,21.91154728,16.87837248,52.42086028,37.171030112,39.64487,50.655112243999994,13.52062436,35.9561734,47.13257936,56.095767359999996,19.35014394,32.068218236,18.19871902,60.2946762,13.33446584,27.923778,33.60506024,71.29871315999999,36.447769788,33.488834284729315,38.45897128,38.70028788,33.79811352,19.41564416,39.48629052,59.30183076,80.19984832,32.051670812,21.859147104,56.7438748,10.53519328,25.965666159999998,4.9035533120000006,41.940825079999996,41.934619796,67.86512268,13.089012384,51.021224,52.95865156,28.98557104,17.96429718,29.54897143054136,41.244454319999996,58.78472376,12.459520796,34.67374804,41.684340008,16.889404096,25.216895223999998,66.59648684,51.331488199999995,33.019005639999996,30.12320644,13.293786756,34.77027468,38.11423328,35.852751999999995,16.26473884,38.20386516,21.819846971999997,14.49968028,9.735401119999999,10.76272036,17.165883972,14.54104884,36.63875464,50.07664188,36.964187312,44.296075096,36.34917472,56.061293559999996,19.10537996,24.281965768,36.349864196,15.069975430541358,25.460969728000002,38.70028788,43.377003588,67.11359384,27.234302,19.199148695999998,29.41304616,29.654362759999998,13.62404576,40.14818748,29.55094136,32.66047812,56.69561148,11.483912255999998,35.225328839999996,42.32693164,33.003837168,51.25564584,21.917063088,38.215586251999994,77.29715436,52.426376088,37.231704,26.22766704,38.99676256,24.986610239999997,22.83544512,12.24509376,39.604880392,15.520104759999999,65.19685056,55.89581932,39.358047983999995,17.576122192,40.934879596,12.052040479999999,24.404692496,23.52492112,39.300132,55.45455468,37.431652039999996,69.83702404,31.35047372,46.20178676,46.38794528,35.3011712,28.62704352,31.874475479999997,20.593958644,12.5484632,33.664355176,15.091250688,69.65776027999999,59.76377968,36.443632932,22.93197176,42.030456959999995,32.626693796000005,66.82401392,71.98818916,74.3649114581204,72.09850532,36.990387399999996,21.53923024,37.431652039999996,64.30053176,7.3153403599999995,38.60376124,22.89749796,32.01138571527068,27.67556664,40.062002979999995,56.49566344,70.69886903999999,46.6430514,31.971002119999998,32.72253096,23.786922,32.956952799999996,55.15808,10.38350856,74.4978818,53.72396992,30.881630039999997,13.54130864,43.5748832,21.504756439999998,52.826961643999994,33.0603742,50.77301264,19.539060364,42.131120456,35.3011712,41.542997428,47.401475,51.732763231999996,19.98790924,15.04436632,29.592309919999998,42.126983599999996,52.30364936,39.382869119999995,39.14844728,36.3009114,44.32641204,23.404952295999998,22.629981272,15.615941924,23.83518532,35.225328839999996,31.17810472,27.874825204,38.56239268,54.315540328,42.63719584,33.301690799999996,12.541568439999999,4.782205536,29.06830816,34.23937816,32.88455782,49.89737812,31.53663224,33.70158688,32.763899519999995,37.91428524,25.559564796,17.43684804,57.21823428799999,50.526869708,14.306626999999999,19.009542795999998,10.089791784,13.18278112,13.52062436,30.275580636,52.516697443999995,81.75116932,28.46846404,40.85834776,71.29871315999999,17.36790044,55.89581932,62.5009994,26.233182848000002,34.20490436,41.40992856,9.617500724000001,17.22311048,44.38846488,19.765208492,50.511011759999995,39.05192064,25.11662571527068,35.570066839999996,44.27814872,50.60064364,68.29949256,31.178794196000002,62.052839999999996,39.2311844,15.030576799999999,17.596806471999997,36.56291228,59.79825348,56.8128224,53.300631656,37.997022359999995,64.30053176,77.29715436,38.610656,10.787541496,34.48758952,53.65502232,13.22414968,63.3973182,36.93522932,25.3727168,12.17614616,37.16965116,51.0556978,21.91154728,44.298833,53.77223324,21.29101888,45.2985732,18.415903959999998,42.620648416,60.949678399999996,31.11605188,15.43736764,24.24197616,42.79577532,21.96670536,38.630650804,26.0621928,24.42813468,27.77209328,31.899986092,56.619079643999996,33.27411176,11.57630204,30.219733079999997,56.61287436,33.306517131999996,29.93015316,24.00065956,46.234192132,79.29663476,41.719503284,33.398217439999996,51.03501352,14.98920824,28.021683592,32.39847724,53.104130996,35.3011712,14.796154959999999,30.079769451999997,37.265488323999996,50.94882902,43.698299404,21.6495464,23.07676172,24.065470304,10.0318758,58.798513279999995,25.17966352,24.437787344,60.2946762,40.65839972,7.507014687999999,55.59934464,36.3009114,74.69782984,9.561653168,44.207822168,13.19657064,27.935499091999997,26.04840328,32.109882284729316,78.80021203999999,26.40003604,56.63355864,15.691094808,25.083136879999998,51.021224,37.25928304,42.42345828,43.49904084,23.523542168,25.55887532,31.640053639999998,12.83804312,33.963587759999996,49.20100736,15.569747031999999,28.991086848000002,65.19685056,12.37264682,41.885667,25.745033839999998,40.0585556,46.2293658,23.73865868,43.565230536,41.05140104,32.8535314,31.023662096000002,60.19814956,65.90701084,73.29819356,44.27814872,52.20022796,26.859916531999996,40.759063216,11.46598588,21.78054684,40.56876784,28.296095039999997,18.287661424,14.2032056,44.51946532,14.843728804,21.26343984,39.39665864,52.44154456,35.3011712,41.09966436,24.28334472,25.17966352,61.797733879999996,23.69039536,31.2677366,9.131420144,36.804918356,30.84715624,42.54756396,19.00885332,25.10382116,44.63667624,38.995383608,9.307926,55.55108132,38.76923548,45.83636448,74.16693332,22.752708,27.742445811999996,29.86810032,49.185149411999994,24.3385028,44.523602176000004,68.4994406,31.6469484,37.427515183999994,67.79617508,36.4388066,55.020184799999996,39.004642284729314,32.53292506,73.69808963999999,19.93275116,8.374375495999999,10.222171176,14.596896395999998,43.69898888,7.723510152,31.35047372,44.868340176000004,45.3675208,29.7508894,26.14492992,55.19944856,29.231713971999998,51.04190828,65.909079268,79.29663476,9.738159024,54.896079119999996,37.36270444,51.72448952,20.72564856,52.82075636,32.102692036,71.62276688,35.86585204399999,35.101223159999996,46.24315532,31.84000168,33.398217439999996,57.21271848,43.942373908,7.675936308,18.0297974,31.875164956000003,75.49762199999999,24.40055564,8.204074924,46.68441996,3.31982694,21.02212324,41.36856,27.04124872,44.42293868,34.39795764,20.96696516,36.96970312,6.26733684,15.41668336,39.435269296,50.732333556],\"y\":[47.28343963623047,35.53507614135742,38.21406936645508,13.933484077453613,51.85697937011719,17.806140899658203,11.961431503295898,24.995012283325195,43.626121520996094,31.996322631835938,25.824155807495117,27.820039749145508,20.165424346923828,41.97372817993164,67.5208969116211,18.006635665893555,39.00669479370117,37.637123107910156,34.650970458984375,41.09219741821289,27.254446029663086,43.48594665527344,20.189006805419922,44.72990036010742,32.27512741088867,37.47954177856445,48.000022888183594,26.025283813476562,48.63421630859375,15.59633731842041,35.38621520996094,35.68155288696289,31.209163665771484,73.85609436035156,74.47240447998047,43.24456024169922,50.99965286254883,26.719423294067383,24.056285858154297,18.47500228881836,38.15347671508789,31.660703659057617,42.63949203491211,9.387450218200684,8.926629066467285,46.564178466796875,48.39574432373047,43.06686019897461,39.9522819519043,17.429664611816406,23.946985244750977,12.707050323486328,42.86592483520508,35.89720153808594,49.313560485839844,78.21580505371094,49.68840789794922,32.21418380737305,42.79103088378906,59.963191986083984,34.52531051635742,34.82966995239258,15.450861930847168,42.8804931640625,59.207454681396484,36.830326080322266,27.435617446899414,47.91880798339844,38.75639724731445,47.687496185302734,41.538482666015625,35.18275451660156,68.29847717285156,36.060401916503906,12.002763748168945,48.68536376953125,59.440555572509766,44.24715805053711,30.516672134399414,32.61028289794922,37.080806732177734,47.67085266113281,74.08318328857422,39.25829315185547,23.085575103759766,64.97187042236328,31.38320541381836,39.66518020629883,68.98258209228516,38.15530776977539,42.238014221191406,46.773826599121094,40.099117279052734,34.90580368041992,31.192527770996094,48.147796630859375,21.690269470214844,18.396923065185547,69.87017822265625,37.206966400146484,9.24231243133545,16.779823303222656,40.07661819458008,21.03070831298828,47.44026565551758,34.27753448486328,74.5718994140625,19.125093460083008,40.99851608276367,54.8797492980957,36.644718170166016,44.21422576904297,28.908714294433594,34.25630187988281,25.744678497314453,22.89462661743164,48.25482177734375,36.1015739440918,31.821008682250977,20.272560119628906,26.602705001831055,29.331689834594727,47.84646224975586,42.76121139526367,47.19389724731445,49.887264251708984,15.269579887390137,36.709747314453125,46.47405242919922,20.37639617919922,37.46940612792969,24.95836067199707,75.0216064453125,11.522357940673828,59.15505599975586,61.49645233154297,45.75541687011719,45.362205505371094,19.335996627807617,23.53849983215332,47.84138870239258,27.712711334228516,29.166149139404297,36.43924331665039,52.49872970581055,42.662750244140625,38.197208404541016,49.11918258666992,36.06317138671875,54.00105285644531,12.745241165161133,34.74679946899414,48.669044494628906,24.678850173950195,64.26204681396484,58.550880432128906,46.544708251953125,71.2823486328125,51.26557159423828,58.08682632446289,16.081850051879883,21.873701095581055,21.57081413269043,27.593137741088867,29.208406448364258,44.927406311035156,38.924652099609375,31.301767349243164,24.93485450744629,3.7943811416625977,28.433177947998047,24.099538803100586,23.093467712402344,26.546855926513672,41.20198440551758,41.03379821777344,29.127742767333984,30.711658477783203,55.39645004272461,30.404682159423828,14.659477233886719,30.152795791625977,26.932823181152344,52.07253646850586,36.22587585449219,39.84593200683594,64.47957611083984,36.756446838378906,38.24909591674805,58.259979248046875,40.05084991455078,37.35770034790039,35.29184341430664,53.721317291259766,35.603240966796875,21.8928279876709,38.023094177246094,41.8787727355957,44.80335235595703,48.40549850463867,57.52185821533203,39.75972366333008,62.57423400878906,22.889751434326172,28.49129295349121,30.59344482421875,31.72756576538086,25.31519317626953,21.459089279174805,50.60240936279297,26.51296043395996,21.031509399414062,37.06706619262695,8.761643409729004,47.44162368774414,38.1307487487793,74.04055786132812,27.2999210357666,57.63776779174805,38.941226959228516,32.36965560913086,22.676513671875,44.05147171020508,32.39674758911133,66.92182922363281,43.996665954589844,17.869840621948242,36.740936279296875,15.363741874694824,36.07180404663086,42.02457809448242,11.61825942993164,44.86321258544922,23.511049270629883,38.977569580078125,39.97090148925781,26.547958374023438,65.84587097167969,71.6208267211914,43.042701721191406,37.59762191772461,44.443817138671875,17.93915557861328,18.219038009643555,37.99247360229492,45.04424285888672,64.67473602294922,37.140159606933594,19.92442512512207,71.2823486328125,32.561073303222656,36.01052474975586,24.786069869995117,56.43505859375,39.63543701171875,44.025390625,33.320316314697266,43.191497802734375,19.465394973754883,47.95413589477539,67.50902557373047,42.23239517211914,59.15505599975586,7.931667804718018,73.81819915771484,12.378212928771973,11.201805114746094,43.59373474121094,32.887474060058594,32.01750946044922,14.328916549682617,22.619108200073242,11.095641136169434,18.76264190673828,15.450325965881348,35.032501220703125,23.63996696472168,17.8327693939209,51.37646484375,35.590023040771484,20.94046974182129,19.980600357055664,23.093467712402344,21.162281036376953,43.05378723144531,31.835285186767578,17.760366439819336,22.939393997192383,46.1595573425293,13.764588356018066,32.998497009277344,27.1343994140625,25.799957275390625,22.130401611328125,16.43700408935547,41.323726654052734,52.1376953125,39.298240661621094,62.385982513427734,39.667537689208984,46.95393753051758,38.56535720825195,43.044307708740234,44.80303955078125,27.245140075683594,21.876953125,47.315242767333984,8.435033798217773,17.874595642089844,46.46906661987305,33.5186767578125,27.696502685546875,36.65732192993164,20.659944534301758,36.34523391723633,53.65876388549805,7.00828742980957,25.26041603088379,17.959016799926758,51.456546783447266,13.787632942199707,58.87226104736328,5.856779098510742,21.436935424804688,31.145963668823242,60.835655212402344,71.66105651855469,19.97723388671875,30.330541610717773,35.0682258605957,33.35432434082031,24.24823760986328,44.62529373168945,31.565858840942383,60.64118194580078,37.32617950439453,44.89834976196289,7.663882255554199,68.12997436523438,45.23979568481445,39.04133605957031,29.9035587310791,34.57854080200195,45.02245330810547,19.050935745239258,8.999200820922852,38.04814529418945,46.735328674316406,46.03420639038086,31.176937103271484,39.04695129394531,35.99440383911133,64.74979400634766,28.929094314575195,32.54726028442383,37.86378479003906,9.72542953491211,7.771385192871094,26.655563354492188,32.251548767089844,46.76765823364258,17.64796257019043,10.712615966796875,39.5133056640625,24.801715850830078,46.3713493347168,60.835655212402344,36.02057647705078,49.93022537231445,32.973411560058594,38.46752166748047,27.72669792175293,54.57907485961914,28.179180145263672,50.32813262939453,16.892492294311523,30.8216552734375,21.016586303710938,20.730737686157227,45.882503509521484,35.90354537963867,39.37412643432617,42.36650848388672,14.149511337280273,33.120689392089844,42.201507568359375,48.074581146240234,16.43820571899414,33.4272346496582,24.431350708007812,58.550880432128906,14.76611042022705,26.736377716064453,33.428077697753906,60.835655212402344,39.012596130371094,44.18556213378906,38.62449264526367,34.73783493041992,36.35698699951172,16.83890151977539,38.52606201171875,52.85895538330078,72.86183166503906,33.11307907104492,31.403549194335938,52.49805450439453,15.388425827026367,26.175382614135742,7.009879112243652,41.99151611328125,46.412479400634766,48.58207321166992,13.535672187805176,58.98548889160156,51.71704864501953,32.844661712646484,23.037540435791016,39.613529205322266,41.27933883666992,58.67534255981445,18.003042221069336,28.96057891845703,33.89470672607422,14.132884979248047,26.9417781829834,69.01943969726562,42.4878044128418,37.12337875366211,32.40476989746094,17.77593231201172,35.40098190307617,39.504398345947266,44.73501205444336,16.786672592163086,35.11540985107422,25.220596313476562,11.468132972717285,15.560351371765137,9.090543746948242,11.691191673278809,24.548015594482422,40.69729232788086,53.164031982421875,30.571165084838867,41.305599212646484,34.39382553100586,49.96772384643555,18.74982261657715,23.375276565551758,34.34145736694336,9.694424629211426,32.6851806640625,44.463871002197266,42.79054641723633,62.91611862182617,29.5117244720459,20.27875328063965,30.255578994750977,32.431705474853516,11.651138305664062,40.081966400146484,24.906476974487305,32.881168365478516,53.306026458740234,8.857121467590332,28.252731323242188,44.0076789855957,26.501827239990234,46.64456558227539,29.86866569519043,47.66410827636719,71.2823486328125,46.36997604370117,36.17581558227539,30.83831214904785,37.8381233215332,20.7165470123291,27.805973052978516,20.01972198486328,37.577125549316406,16.98419952392578,68.98258209228516,44.05147171020508,39.37657165527344,21.94413948059082,43.705055236816406,7.6422648429870605,29.48929214477539,23.897502899169922,42.23239517211914,53.832088470458984,34.68165969848633,63.891502380371094,36.4234619140625,44.712257385253906,36.78306198120117,40.85448455810547,35.69683837890625,29.562454223632812,20.51474380493164,12.22668743133545,28.408037185668945,20.02977180480957,65.7975845336914,52.536800384521484,24.812379837036133,24.39805793762207,45.267799377441406,35.27851867675781,58.16754150390625,69.86273193359375,58.67167663574219,53.33698654174805,29.792015075683594,27.893312454223633,34.63460922241211,64.84244537353516,13.577202796936035,28.736801147460938,44.05147171020508,35.40073776245117,31.377904891967773,33.80330276489258,75.26539611816406,73.4032974243164,48.09023666381836,34.660545349121094,33.11641311645508,30.157747268676758,35.46778869628906,56.09774398803711,8.040226936340332,64.7842025756836,50.504173278808594,35.792789459228516,15.204400062561035,40.047607421875,22.352632522583008,44.7654914855957,33.102195739746094,42.35030746459961,19.690195083618164,46.32175827026367,40.85448455810547,48.15727615356445,40.960750579833984,42.0097770690918,23.453235626220703,14.088043212890625,25.25982666015625,43.82561492919922,43.0770263671875,37.152191162109375,46.481536865234375,41.43423080444336,40.75627517700195,17.431028366088867,25.946022033691406,14.707879066467285,30.13892364501953,28.35594940185547,34.226539611816406,24.767776489257812,44.23914337158203,50.41357421875,33.48313903808594,36.426605224609375,11.076972007751465,6.317228317260742,31.43419075012207,24.738311767578125,29.673959732055664,56.72209930419922,35.15321731567383,35.89567184448242,32.94993591308594,38.9477424621582,31.82158660888672,17.0750732421875,48.37080764770508,50.56637191772461,14.389001846313477,27.56894874572754,8.572184562683105,14.183918952941895,14.100605010986328,23.069143295288086,40.85543441772461,57.04637908935547,33.36869812011719,39.32331085205078,60.835655212402344,17.83306884765625,44.05147171020508,64.32533264160156,30.8217716217041,38.826351165771484,35.54050064086914,13.230673789978027,14.045683860778809,46.515869140625,23.133668899536133,53.72213363647461,37.55907440185547,33.5186767578125,42.977684020996094,43.2982063293457,39.52216720581055,64.97650909423828,34.171546936035156,52.52049255371094,56.351444244384766,12.368865013122559,23.684173583984375,39.07588577270508,54.983211517333984,51.98130798339844,41.474693298339844,41.50688552856445,64.84244537353516,71.2823486328125,36.709747314453125,9.701488494873047,34.062889099121094,51.164852142333984,13.457832336425781,71.65907287597656,36.942100524902344,23.47889518737793,18.489025115966797,35.943565368652344,50.20097351074219,24.072172164916992,40.740936279296875,47.13774108886719,14.94273853302002,47.443016052246094,23.07142448425293,46.9554328918457,51.75055694580078,34.21204376220703,15.314057350158691,39.269447326660156,40.27161407470703,23.796632766723633,35.02481460571289,20.854576110839844,22.708913803100586,31.50286293029785,30.740131378173828,50.492679595947266,31.33901596069336,9.183587074279785,36.6951789855957,50.620567321777344,36.26373291015625,22.64470672607422,21.354074478149414,50.00251388549805,75.0216064453125,37.59786605834961,40.40076446533203,46.99324035644531,16.04802703857422,26.136674880981445,35.23590850830078,42.09041976928711,40.85448455810547,12.07878589630127,33.379390716552734,36.10448455810547,42.47197341918945,46.08302307128906,26.340831756591797,15.171252250671387,21.240129470825195,9.118579864501953,61.87532043457031,26.904438018798828,29.75228500366211,58.550880432128906,38.74977111816406,10.036160469055176,48.30130386352539,39.299320220947266,60.39346694946289,16.988853454589844,40.29343795776367,17.939416885375977,32.26927185058594,25.605274200439453,33.43083190917969,56.09541702270508,33.89210510253906,54.4973258972168,15.936622619628906,31.629518508911133,56.79673385620117,36.21131134033203,39.805301666259766,44.91423034667969,24.21802520751953,31.951326370239258,35.00617599487305,13.671292304992676,40.754844665527344,43.59373474121094,23.154586791992188,32.82724380493164,68.98258209228516,17.72220230102539,28.986347198486328,27.86775016784668,33.752662658691406,51.300071716308594,24.55668830871582,43.765647888183594,40.24666976928711,51.16716384887695,34.94227600097656,60.29556655883789,56.62174606323242,76.18585968017578,41.47976303100586,63.85228729248047,26.63571548461914,47.43238067626953,24.669809341430664,19.72039794921875,44.83830261230469,41.82546615600586,23.977867126464844,11.773553848266602,58.25584411621094,12.665228843688965,16.774141311645508,30.830219268798828,47.84040069580078,40.85448455810547,41.023162841796875,19.426403045654297,26.35252571105957,61.08628845214844,27.761314392089844,33.521358489990234,9.341841697692871,38.71427917480469,37.808414459228516,43.321651458740234,27.661100387573242,35.2265510559082,36.35009765625,46.84187316894531,7.718377590179443,47.958370208740234,31.361337661743164,44.32712936401367,70.0383529663086,34.97447967529297,23.046491622924805,30.827302932739258,43.43534469604492,29.723764419555664,58.12135696411133,60.58574676513672,30.557743072509766,40.901817321777344,68.22998046875,24.91617202758789,51.345367431640625,35.75738525390625,35.263397216796875,66.58552551269531,8.984938621520996,8.992477416992188,11.627448081970215,14.208495140075684,38.290313720703125,6.469640254974365,25.740055084228516,35.74360275268555,44.09202575683594,23.656526565551758,29.365070343017578,60.32750701904297,33.88222122192383,53.97736740112305,56.68941879272461,75.0216064453125,15.466020584106445,48.538429260253906,34.215087890625,50.323673248291016,21.552019119262695,44.88962173461914,33.70325469970703,67.91797637939453,37.62303924560547,39.937923431396484,39.16539001464844,30.773427963256836,40.40076446533203,48.69422149658203,46.90532684326172,7.391872406005859,21.083600997924805,29.554723739624023,70.70896911621094,38.315826416015625,8.561212539672852,53.69877243041992,5.052001476287842,21.965883255004883,53.820518493652344,20.844524383544922,58.98548889160156,41.51527404785156,16.14389991760254,40.251014709472656,17.741226196289062,21.982105255126953,47.53915023803711,50.78809356689453]}},\"id\":\"e96f9bb4-ede5-4fe3-ac3f-9086c88c7f13\",\"type\":\"ColumnDataSource\"},{\"attributes\":{\"plot\":{\"id\":\"99268e92-46ae-4b97-aa0e-5b65756219d7\",\"subtype\":\"Figure\",\"type\":\"Plot\"}},\"id\":\"67f8ce94-2f49-4aa2-a9a0-377a55754087\",\"type\":\"ResetTool\"},{\"attributes\":{\"plot\":{\"id\":\"99268e92-46ae-4b97-aa0e-5b65756219d7\",\"subtype\":\"Figure\",\"type\":\"Plot\"}},\"id\":\"c8a3f2b9-ab7d-48bf-a278-7f557952ca92\",\"type\":\"PanTool\"},{\"attributes\":{\"callback\":null,\"plot\":{\"id\":\"99268e92-46ae-4b97-aa0e-5b65756219d7\",\"subtype\":\"Figure\",\"type\":\"Plot\"}},\"id\":\"60d42c85-ef4a-4534-9c44-edf5b72a070a\",\"type\":\"TapTool\"},{\"attributes\":{\"plot\":{\"id\":\"99268e92-46ae-4b97-aa0e-5b65756219d7\",\"subtype\":\"Figure\",\"type\":\"Plot\"}},\"id\":\"7d14f0c0-e2e1-45b8-8ea7-8ff705fa392f\",\"type\":\"SaveTool\"},{\"attributes\":{\"plot\":{\"id\":\"99268e92-46ae-4b97-aa0e-5b65756219d7\",\"subtype\":\"Figure\",\"type\":\"Plot\"}},\"id\":\"fa96957b-6b71-487d-a88e-02476025ca59\",\"type\":\"WheelZoomTool\"},{\"attributes\":{\"overlay\":{\"id\":\"01735ef7-95af-4c8d-812c-1d0a70ddf0c7\",\"type\":\"PolyAnnotation\"},\"plot\":{\"id\":\"99268e92-46ae-4b97-aa0e-5b65756219d7\",\"subtype\":\"Figure\",\"type\":\"Plot\"}},\"id\":\"2d33cdb8-c499-4144-80fd-eb931ca8ece7\",\"type\":\"PolySelectTool\"},{\"attributes\":{\"dimension\":1,\"plot\":{\"id\":\"99268e92-46ae-4b97-aa0e-5b65756219d7\",\"subtype\":\"Figure\",\"type\":\"Plot\"},\"ticker\":{\"id\":\"b36a9181-ac89-4a4e-aa82-075ca530ac9c\",\"type\":\"BasicTicker\"}},\"id\":\"f3b5d084-735e-4175-9c7e-cf29efac2e86\",\"type\":\"Grid\"},{\"attributes\":{\"callback\":null,\"overlay\":{\"id\":\"5c6862fa-eeec-49d9-8f61-8dc062c00b90\",\"type\":\"PolyAnnotation\"},\"plot\":{\"id\":\"99268e92-46ae-4b97-aa0e-5b65756219d7\",\"subtype\":\"Figure\",\"type\":\"Plot\"}},\"id\":\"5ac0f9e2-eaca-4487-a5b2-194a3f811eda\",\"type\":\"LassoSelectTool\"},{\"attributes\":{\"fill_alpha\":{\"value\":0.5},\"fill_color\":{\"value\":\"lightgrey\"},\"level\":\"overlay\",\"line_alpha\":{\"value\":1.0},\"line_color\":{\"value\":\"black\"},\"line_dash\":[4,4],\"line_width\":{\"value\":2},\"plot\":null,\"xs_units\":\"screen\",\"ys_units\":\"screen\"},\"id\":\"01735ef7-95af-4c8d-812c-1d0a70ddf0c7\",\"type\":\"PolyAnnotation\"},{\"attributes\":{\"fill_alpha\":{\"value\":0.5},\"fill_color\":{\"value\":\"lightgrey\"},\"level\":\"overlay\",\"line_alpha\":{\"value\":1.0},\"line_color\":{\"value\":\"black\"},\"line_dash\":[4,4],\"line_width\":{\"value\":2},\"plot\":null,\"xs_units\":\"screen\",\"ys_units\":\"screen\"},\"id\":\"5c6862fa-eeec-49d9-8f61-8dc062c00b90\",\"type\":\"PolyAnnotation\"},{\"attributes\":{\"plot\":{\"id\":\"99268e92-46ae-4b97-aa0e-5b65756219d7\",\"subtype\":\"Figure\",\"type\":\"Plot\"}},\"id\":\"b09b1c4b-7719-4cf0-bf4f-5f34467f6a81\",\"type\":\"UndoTool\"},{\"attributes\":{\"plot\":{\"id\":\"99268e92-46ae-4b97-aa0e-5b65756219d7\",\"subtype\":\"Figure\",\"type\":\"Plot\"},\"ticker\":{\"id\":\"7742c2b3-c0b6-44b6-9efc-70078a3a5101\",\"type\":\"BasicTicker\"}},\"id\":\"2cc6fa59-9df5-42d4-aeca-e3bea9fdb8e7\",\"type\":\"Grid\"},{\"attributes\":{\"callback\":null,\"overlay\":{\"id\":\"93a30190-d846-4c8a-ace7-ea60ef3c4203\",\"type\":\"BoxAnnotation\"},\"plot\":{\"id\":\"99268e92-46ae-4b97-aa0e-5b65756219d7\",\"subtype\":\"Figure\",\"type\":\"Plot\"},\"renderers\":[{\"id\":\"a2c9aa2f-213a-40a4-b5b8-ada945bae71f\",\"type\":\"GlyphRenderer\"},{\"id\":\"01f6836a-5557-43fa-8234-c8da39983d0d\",\"type\":\"GlyphRenderer\"}]},\"id\":\"c5e9185a-ea12-4295-ad41-9157cb8c1d6b\",\"type\":\"BoxSelectTool\"},{\"attributes\":{\"axis_label\":\"Predicted\",\"axis_label_text_color\":{\"value\":\"#aa6666\"},\"formatter\":{\"id\":\"e3a26691-7415-4ac9-a9b2-57d98fab4236\",\"type\":\"BasicTickFormatter\"},\"plot\":{\"id\":\"99268e92-46ae-4b97-aa0e-5b65756219d7\",\"subtype\":\"Figure\",\"type\":\"Plot\"},\"ticker\":{\"id\":\"b36a9181-ac89-4a4e-aa82-075ca530ac9c\",\"type\":\"BasicTicker\"}},\"id\":\"e2bb6bd8-4e9f-4726-a519-e4ccccb88bbe\",\"type\":\"LinearAxis\"},{\"attributes\":{\"fill_alpha\":{\"value\":0.1},\"fill_color\":{\"value\":\"#1f77b4\"},\"line_alpha\":{\"value\":0.1},\"line_color\":{\"value\":\"#1f77b4\"},\"line_width\":{\"value\":3},\"x\":{\"field\":\"x\"},\"y\":{\"field\":\"y\"}},\"id\":\"491f8f22-a09c-47bc-8efc-6c1163daa363\",\"type\":\"Circle\"},{\"attributes\":{\"bottom_units\":\"screen\",\"fill_alpha\":{\"value\":0.5},\"fill_color\":{\"value\":\"lightgrey\"},\"left_units\":\"screen\",\"level\":\"overlay\",\"line_alpha\":{\"value\":1.0},\"line_color\":{\"value\":\"black\"},\"line_dash\":[4,4],\"line_width\":{\"value\":2},\"plot\":null,\"render_mode\":\"css\",\"right_units\":\"screen\",\"top_units\":\"screen\"},\"id\":\"93a30190-d846-4c8a-ace7-ea60ef3c4203\",\"type\":\"BoxAnnotation\"},{\"attributes\":{\"align\":\"center\",\"plot\":null,\"text\":null},\"id\":\"08293d09-bb66-47c8-b0a7-b36866bc46fc\",\"type\":\"Title\"},{\"attributes\":{\"callback\":null,\"column_names\":[\"y\",\"x\"],\"data\":{\"x\":[2.331807832,82.5992248],\"y\":[2.331807832,82.5992248]}},\"id\":\"cf1ce8c5-8451-48d3-9b55-25a87bee249d\",\"type\":\"ColumnDataSource\"},{\"attributes\":{\"background_fill_alpha\":{\"value\":0.5},\"background_fill_color\":{\"value\":\"beige\"},\"below\":[{\"id\":\"8c70351b-4517-4feb-b6d9-eb2753e309c1\",\"type\":\"LinearAxis\"}],\"left\":[{\"id\":\"e2bb6bd8-4e9f-4726-a519-e4ccccb88bbe\",\"type\":\"LinearAxis\"}],\"plot_height\":500,\"plot_width\":500,\"renderers\":[{\"id\":\"8c70351b-4517-4feb-b6d9-eb2753e309c1\",\"type\":\"LinearAxis\"},{\"id\":\"2cc6fa59-9df5-42d4-aeca-e3bea9fdb8e7\",\"type\":\"Grid\"},{\"id\":\"e2bb6bd8-4e9f-4726-a519-e4ccccb88bbe\",\"type\":\"LinearAxis\"},{\"id\":\"f3b5d084-735e-4175-9c7e-cf29efac2e86\",\"type\":\"Grid\"},{\"id\":\"110a4ce1-92de-4236-bc60-69f7e826b494\",\"type\":\"BoxAnnotation\"},{\"id\":\"93a30190-d846-4c8a-ace7-ea60ef3c4203\",\"type\":\"BoxAnnotation\"},{\"id\":\"5c6862fa-eeec-49d9-8f61-8dc062c00b90\",\"type\":\"PolyAnnotation\"},{\"id\":\"01735ef7-95af-4c8d-812c-1d0a70ddf0c7\",\"type\":\"PolyAnnotation\"},{\"id\":\"a2c9aa2f-213a-40a4-b5b8-ada945bae71f\",\"type\":\"GlyphRenderer\"},{\"id\":\"01f6836a-5557-43fa-8234-c8da39983d0d\",\"type\":\"GlyphRenderer\"}],\"title\":{\"id\":\"08293d09-bb66-47c8-b0a7-b36866bc46fc\",\"type\":\"Title\"},\"tool_events\":{\"id\":\"06e36abf-e60f-4e58-b47a-c4beb2dbb09f\",\"type\":\"ToolEvents\"},\"toolbar\":{\"id\":\"59a09504-ba84-406c-989b-646baffd5782\",\"type\":\"Toolbar\"},\"x_range\":{\"id\":\"592c6774-d48b-4ee0-bb89-e20ff76d6df7\",\"type\":\"DataRange1d\"},\"y_range\":{\"id\":\"850d37de-9888-4a26-8b05-dc956102477b\",\"type\":\"DataRange1d\"}},\"id\":\"99268e92-46ae-4b97-aa0e-5b65756219d7\",\"subtype\":\"Figure\",\"type\":\"Plot\"},{\"attributes\":{\"line_dash\":[4,4],\"line_width\":{\"value\":2},\"x\":{\"field\":\"x\"},\"y\":{\"field\":\"y\"}},\"id\":\"64a54942-ae75-452d-8a8e-681107daef91\",\"type\":\"Line\"},{\"attributes\":{\"data_source\":{\"id\":\"cf1ce8c5-8451-48d3-9b55-25a87bee249d\",\"type\":\"ColumnDataSource\"},\"glyph\":{\"id\":\"64a54942-ae75-452d-8a8e-681107daef91\",\"type\":\"Line\"},\"hover_glyph\":null,\"nonselection_glyph\":{\"id\":\"4be35f63-7fbe-4376-be9d-d6ef6ddd47a0\",\"type\":\"Line\"},\"selection_glyph\":null},\"id\":\"01f6836a-5557-43fa-8234-c8da39983d0d\",\"type\":\"GlyphRenderer\"},{\"attributes\":{\"fill_color\":{\"value\":\"#80B1D3\"},\"line_color\":{\"value\":\"#80B1D3\"},\"line_width\":{\"value\":3},\"x\":{\"field\":\"x\"},\"y\":{\"field\":\"y\"}},\"id\":\"acd097ad-a4e8-4839-8971-2a5fa975fc48\",\"type\":\"Circle\"},{\"attributes\":{\"bottom_units\":\"screen\",\"fill_alpha\":{\"value\":0.5},\"fill_color\":{\"value\":\"lightgrey\"},\"left_units\":\"screen\",\"level\":\"overlay\",\"line_alpha\":{\"value\":1.0},\"line_color\":{\"value\":\"black\"},\"line_dash\":[4,4],\"line_width\":{\"value\":2},\"plot\":null,\"render_mode\":\"css\",\"right_units\":\"screen\",\"top_units\":\"screen\"},\"id\":\"110a4ce1-92de-4236-bc60-69f7e826b494\",\"type\":\"BoxAnnotation\"},{\"attributes\":{},\"id\":\"4c1e4d16-1803-456f-b2e5-06e3dbc3b4f6\",\"type\":\"BasicTickFormatter\"},{\"attributes\":{\"callback\":null},\"id\":\"592c6774-d48b-4ee0-bb89-e20ff76d6df7\",\"type\":\"DataRange1d\"},{\"attributes\":{\"active_drag\":\"auto\",\"active_scroll\":\"auto\",\"active_tap\":\"auto\",\"tools\":[{\"id\":\"4921259e-0a8a-42e3-91d2-8eb485711283\",\"type\":\"BoxZoomTool\"},{\"id\":\"c5e9185a-ea12-4295-ad41-9157cb8c1d6b\",\"type\":\"BoxSelectTool\"},{\"id\":\"7c8cb7f4-00ab-4e72-ad29-25792f25a664\",\"type\":\"CrosshairTool\"},{\"id\":\"3d476d62-2209-4875-836e-6eb581ce4561\",\"type\":\"ResizeTool\"},{\"id\":\"67f8ce94-2f49-4aa2-a9a0-377a55754087\",\"type\":\"ResetTool\"},{\"id\":\"5ac0f9e2-eaca-4487-a5b2-194a3f811eda\",\"type\":\"LassoSelectTool\"},{\"id\":\"c8a3f2b9-ab7d-48bf-a278-7f557952ca92\",\"type\":\"PanTool\"},{\"id\":\"7d14f0c0-e2e1-45b8-8ea7-8ff705fa392f\",\"type\":\"SaveTool\"},{\"id\":\"2d33cdb8-c499-4144-80fd-eb931ca8ece7\",\"type\":\"PolySelectTool\"},{\"id\":\"60d42c85-ef4a-4534-9c44-edf5b72a070a\",\"type\":\"TapTool\"},{\"id\":\"fa96957b-6b71-487d-a88e-02476025ca59\",\"type\":\"WheelZoomTool\"},{\"id\":\"b09b1c4b-7719-4cf0-bf4f-5f34467f6a81\",\"type\":\"UndoTool\"}]},\"id\":\"59a09504-ba84-406c-989b-646baffd5782\",\"type\":\"Toolbar\"},{\"attributes\":{},\"id\":\"06e36abf-e60f-4e58-b47a-c4beb2dbb09f\",\"type\":\"ToolEvents\"},{\"attributes\":{\"plot\":{\"id\":\"99268e92-46ae-4b97-aa0e-5b65756219d7\",\"subtype\":\"Figure\",\"type\":\"Plot\"}},\"id\":\"7c8cb7f4-00ab-4e72-ad29-25792f25a664\",\"type\":\"CrosshairTool\"}],\"root_ids\":[\"99268e92-46ae-4b97-aa0e-5b65756219d7\"]},\"title\":\"Bokeh Application\",\"version\":\"0.12.2\"}};\n",
       "            var render_items = [{\"docid\":\"0309dc57-c91d-4fb2-8976-2611c9fa6110\",\"elementid\":\"20aac396-08cc-4127-ab33-f346559039fa\",\"modelid\":\"99268e92-46ae-4b97-aa0e-5b65756219d7\"}];\n",
       "            \n",
       "            Bokeh.embed.embed_items(docs_json, render_items);\n",
       "        });\n",
       "      },\n",
       "      function(Bokeh) {\n",
       "      }\n",
       "    ];\n",
       "  \n",
       "    function run_inline_js() {\n",
       "      \n",
       "      if ((window.Bokeh !== undefined) || (force === \"1\")) {\n",
       "        for (var i = 0; i < inline_js.length; i++) {\n",
       "          inline_js[i](window.Bokeh);\n",
       "        }if (force === \"1\") {\n",
       "          display_loaded();\n",
       "        }} else if (Date.now() < window._bokeh_timeout) {\n",
       "        setTimeout(run_inline_js, 100);\n",
       "      } else if (!window._bokeh_failed_load) {\n",
       "        console.log(\"Bokeh: BokehJS failed to load within specified timeout.\");\n",
       "        window._bokeh_failed_load = true;\n",
       "      } else if (!force) {\n",
       "        var cell = $(\"#20aac396-08cc-4127-ab33-f346559039fa\").parents('.cell').data().cell;\n",
       "        cell.output_area.append_execute_result(NB_LOAD_WARNING)\n",
       "      }\n",
       "  \n",
       "    }\n",
       "  \n",
       "    if (window._bokeh_is_loading === 0) {\n",
       "      console.log(\"Bokeh: BokehJS loaded, going straight to plotting\");\n",
       "      run_inline_js();\n",
       "    } else {\n",
       "      load_libs(js_urls, function() {\n",
       "        console.log(\"Bokeh: BokehJS plotting callback run at\", now());\n",
       "        run_inline_js();\n",
       "      });\n",
       "    }\n",
       "  }(this));\n",
       "</script>"
      ]
     },
     "metadata": {},
     "output_type": "display_data"
    }
   ],
   "source": [
    "# Plotining using bokeh\n",
    "#TOOLS = [BoxSelectTool(), HoverTool()]\n",
    "#TOOLS = 'hover,box_zoom,box_select,crosshair,resize,reset,model_select,pan,save,poly_select,tap,wheel_zoom,undo'\n",
    "TOOLS = 'box_zoom,box_select,crosshair,resize,reset,lasso_select,pan,save,poly_select,tap,wheel_zoom,undo'\n",
    "p = figure(plot_width=500, plot_height=500, tools=TOOLS)\n",
    "p.scatter(Y, prediction,x=\"jjj\", marker=\"o\", color=\"#80B1D3\", line_width=3)\n",
    "p.title.align = \"center\"\n",
    "p.xaxis.axis_label = \"Measured\"\n",
    "p.xaxis.axis_label_text_color = \"#aa6666\"\n",
    "#p.xaxis.axis_label_standoff = 30\n",
    "p.xaxis.major_tick_line_color = \"firebrick\"\n",
    "p.xaxis.major_tick_line_width = 3\n",
    "p.xaxis.minor_tick_line_color = \"orange\"\n",
    "p.yaxis.axis_label = \"Predicted\"\n",
    "p.yaxis.axis_label_text_font_style = \"italic\"\n",
    "p.yaxis.axis_label_text_color = \"#aa6666\"\n",
    "p.background_fill_color = \"beige\"\n",
    "p.background_fill_alpha = 0.5\n",
    "#p.line([Y.min(), Y.max()], [Y.min(), Y.max()], line_dash=\"4 4\", line_width=2, color='red')\n",
    "\n",
    "# create a new plot with the toolbar below\n",
    "# line_dash=\"4 4\", line_width=2, color='red'\n",
    "p.line([Y.min(), Y.max()], [Y.min(), Y.max()], line_dash=\"4 4\", line_width=2, line_color=\"black\")\n",
    "show(p)"
   ]
  },
  {
   "cell_type": "code",
   "execution_count": 26,
   "metadata": {
    "collapsed": false
   },
   "outputs": [
    {
     "data": {
      "text/plain": [
       "<matplotlib.text.Text at 0x7ffae146d790>"
      ]
     },
     "execution_count": 26,
     "metadata": {},
     "output_type": "execute_result"
    },
    {
     "data": {
      "image/png": "[encoded data removed]",
      "text/plain": [
       "<matplotlib.figure.Figure at 0x7ffae164b210>"
      ]
     },
     "metadata": {},
     "output_type": "display_data"
    }
   ],
   "source": [
    "plt.scatter(predicted, (predicted.T - Y), c='r', s=30)\n",
    "plt.title(\"Residual plot on the training data\")\n",
    "plt.xlabel(\"Predicted\")\n",
    "plt.ylabel(\"Residuals\")"
   ]
  },
  {
   "cell_type": "code",
   "execution_count": 27,
   "metadata": {
    "collapsed": false
   },
   "outputs": [
    {
     "data": {
      "text/html": [
       "\n",
       "\n",
       "    <div class=\"bk-root\">\n",
       "        <div class=\"plotdiv\" id=\"c9ac30ed-d492-45dc-a3d2-25001a2de567\"></div>\n",
       "    </div>\n",
       "<script type=\"text/javascript\">\n",
       "  \n",
       "  (function(global) {\n",
       "    function now() {\n",
       "      return new Date();\n",
       "    }\n",
       "  \n",
       "    var force = \"\";\n",
       "  \n",
       "    if (typeof (window._bokeh_onload_callbacks) === \"undefined\" || force !== \"\") {\n",
       "      window._bokeh_onload_callbacks = [];\n",
       "      window._bokeh_is_loading = undefined;\n",
       "    }\n",
       "  \n",
       "  \n",
       "    \n",
       "    if (typeof (window._bokeh_timeout) === \"undefined\" || force !== \"\") {\n",
       "      window._bokeh_timeout = Date.now() + 0;\n",
       "      window._bokeh_failed_load = false;\n",
       "    }\n",
       "  \n",
       "    var NB_LOAD_WARNING = {'data': {'text/html':\n",
       "       \"<div style='background-color: #fdd'>\\n\"+\n",
       "       \"<p>\\n\"+\n",
       "       \"BokehJS does not appear to have successfully loaded. If loading BokehJS from CDN, this \\n\"+\n",
       "       \"may be due to a slow or bad network connection. Possible fixes:\\n\"+\n",
       "       \"</p>\\n\"+\n",
       "       \"<ul>\\n\"+\n",
       "       \"<li>re-rerun `output_notebook()` to attempt to load from CDN again, or</li>\\n\"+\n",
       "       \"<li>use INLINE resources instead, as so:</li>\\n\"+\n",
       "       \"</ul>\\n\"+\n",
       "       \"<code>\\n\"+\n",
       "       \"from bokeh.resources import INLINE\\n\"+\n",
       "       \"output_notebook(resources=INLINE)\\n\"+\n",
       "       \"</code>\\n\"+\n",
       "       \"</div>\"}};\n",
       "  \n",
       "    function display_loaded() {\n",
       "      if (window.Bokeh !== undefined) {\n",
       "        Bokeh.$(\"#c9ac30ed-d492-45dc-a3d2-25001a2de567\").text(\"BokehJS successfully loaded.\");\n",
       "      } else if (Date.now() < window._bokeh_timeout) {\n",
       "        setTimeout(display_loaded, 100)\n",
       "      }\n",
       "    }\n",
       "  \n",
       "    function run_callbacks() {\n",
       "      window._bokeh_onload_callbacks.forEach(function(callback) { callback() });\n",
       "      delete window._bokeh_onload_callbacks\n",
       "      console.info(\"Bokeh: all callbacks have finished\");\n",
       "    }\n",
       "  \n",
       "    function load_libs(js_urls, callback) {\n",
       "      window._bokeh_onload_callbacks.push(callback);\n",
       "      if (window._bokeh_is_loading > 0) {\n",
       "        console.log(\"Bokeh: BokehJS is being loaded, scheduling callback at\", now());\n",
       "        return null;\n",
       "      }\n",
       "      if (js_urls == null || js_urls.length === 0) {\n",
       "        run_callbacks();\n",
       "        return null;\n",
       "      }\n",
       "      console.log(\"Bokeh: BokehJS not loaded, scheduling load and callback at\", now());\n",
       "      window._bokeh_is_loading = js_urls.length;\n",
       "      for (var i = 0; i < js_urls.length; i++) {\n",
       "        var url = js_urls[i];\n",
       "        var s = document.createElement('script');\n",
       "        s.src = url;\n",
       "        s.async = false;\n",
       "        s.onreadystatechange = s.onload = function() {\n",
       "          window._bokeh_is_loading--;\n",
       "          if (window._bokeh_is_loading === 0) {\n",
       "            console.log(\"Bokeh: all BokehJS libraries loaded\");\n",
       "            run_callbacks()\n",
       "          }\n",
       "        };\n",
       "        s.onerror = function() {\n",
       "          console.warn(\"failed to load library \" + url);\n",
       "        };\n",
       "        console.log(\"Bokeh: injecting script tag for BokehJS library: \", url);\n",
       "        document.getElementsByTagName(\"head\")[0].appendChild(s);\n",
       "      }\n",
       "    };var element = document.getElementById(\"c9ac30ed-d492-45dc-a3d2-25001a2de567\");\n",
       "    if (element == null) {\n",
       "      console.log(\"Bokeh: ERROR: autoload.js configured with elementid 'c9ac30ed-d492-45dc-a3d2-25001a2de567' but no matching script tag was found. \")\n",
       "      return false;\n",
       "    }\n",
       "  \n",
       "    var js_urls = [];\n",
       "  \n",
       "    var inline_js = [\n",
       "      function(Bokeh) {\n",
       "        Bokeh.$(function() {\n",
       "            var docs_json = {\"96939580-6e28-472d-a391-759a63a76ede\":{\"roots\":{\"references\":[{\"attributes\":{\"background_fill_alpha\":{\"value\":0.5},\"background_fill_color\":{\"value\":\"beige\"},\"below\":[{\"id\":\"24f8b512-32e9-4975-9c9f-6d1586eb4f67\",\"type\":\"LinearAxis\"}],\"left\":[{\"id\":\"77623ed8-b0c5-4add-bcc0-6e3bff6dfd0c\",\"type\":\"LinearAxis\"}],\"plot_height\":500,\"plot_width\":500,\"renderers\":[{\"id\":\"24f8b512-32e9-4975-9c9f-6d1586eb4f67\",\"type\":\"LinearAxis\"},{\"id\":\"155c1f48-c852-42c0-8f24-dc5dc99f72ac\",\"type\":\"Grid\"},{\"id\":\"77623ed8-b0c5-4add-bcc0-6e3bff6dfd0c\",\"type\":\"LinearAxis\"},{\"id\":\"d9dd0f44-74f8-4d0a-86f1-ae6026032e7e\",\"type\":\"Grid\"},{\"id\":\"cf872d13-4a0f-46d3-8618-1eb719eaaea0\",\"type\":\"BoxAnnotation\"},{\"id\":\"1de06848-965d-4b14-8af4-e699f0035072\",\"type\":\"BoxAnnotation\"},{\"id\":\"43caee55-9345-4ba3-a504-6e38ded1ab34\",\"type\":\"PolyAnnotation\"},{\"id\":\"a7257536-7aa2-4e2a-8570-12e7e6c855aa\",\"type\":\"PolyAnnotation\"},{\"id\":\"fb527101-1fff-473a-b605-ff114aef368f\",\"type\":\"GlyphRenderer\"}],\"title\":{\"id\":\"fe80e7a2-2d3e-4635-bf05-a5771d53d27a\",\"type\":\"Title\"},\"tool_events\":{\"id\":\"eafe1c9c-de1e-41b5-a882-23556e58878c\",\"type\":\"ToolEvents\"},\"toolbar\":{\"id\":\"0a11d457-3549-46dd-83da-a7a9455d4929\",\"type\":\"Toolbar\"},\"x_range\":{\"id\":\"474fd544-1bc2-4f86-a7dd-ddaec4c25c3c\",\"type\":\"DataRange1d\"},\"y_range\":{\"id\":\"c5aa5862-417f-4a95-b0b1-5c4374efa7ea\",\"type\":\"DataRange1d\"}},\"id\":\"b4c93ba6-121e-4165-aa04-0cda280862ea\",\"subtype\":\"Figure\",\"type\":\"Plot\"},{\"attributes\":{\"plot\":{\"id\":\"b4c93ba6-121e-4165-aa04-0cda280862ea\",\"subtype\":\"Figure\",\"type\":\"Plot\"}},\"id\":\"1e3772bf-56d3-4ea2-bc19-446d32053116\",\"type\":\"ResetTool\"},{\"attributes\":{\"fill_alpha\":{\"value\":0.5},\"fill_color\":{\"value\":\"lightgrey\"},\"level\":\"overlay\",\"line_alpha\":{\"value\":1.0},\"line_color\":{\"value\":\"black\"},\"line_dash\":[4,4],\"line_width\":{\"value\":2},\"plot\":null,\"xs_units\":\"screen\",\"ys_units\":\"screen\"},\"id\":\"a7257536-7aa2-4e2a-8570-12e7e6c855aa\",\"type\":\"PolyAnnotation\"},{\"attributes\":{\"callback\":null},\"id\":\"c5aa5862-417f-4a95-b0b1-5c4374efa7ea\",\"type\":\"DataRange1d\"},{\"attributes\":{\"overlay\":{\"id\":\"cf872d13-4a0f-46d3-8618-1eb719eaaea0\",\"type\":\"BoxAnnotation\"},\"plot\":{\"id\":\"b4c93ba6-121e-4165-aa04-0cda280862ea\",\"subtype\":\"Figure\",\"type\":\"Plot\"}},\"id\":\"da71b351-bb1a-4ec4-9229-56928c036098\",\"type\":\"BoxZoomTool\"},{\"attributes\":{\"axis_label\":\"Residuals\",\"axis_label_text_color\":{\"value\":\"#aa6666\"},\"formatter\":{\"id\":\"c8ffc037-0db4-4ad4-a7fc-d63faef4186d\",\"type\":\"BasicTickFormatter\"},\"plot\":{\"id\":\"b4c93ba6-121e-4165-aa04-0cda280862ea\",\"subtype\":\"Figure\",\"type\":\"Plot\"},\"ticker\":{\"id\":\"5a685c54-122c-4442-9b57-703eee838698\",\"type\":\"BasicTicker\"}},\"id\":\"77623ed8-b0c5-4add-bcc0-6e3bff6dfd0c\",\"type\":\"LinearAxis\"},{\"attributes\":{\"callback\":null,\"plot\":{\"id\":\"b4c93ba6-121e-4165-aa04-0cda280862ea\",\"subtype\":\"Figure\",\"type\":\"Plot\"}},\"id\":\"a0ae4272-e3bd-4a15-a69c-6bdac6cb81fa\",\"type\":\"TapTool\"},{\"attributes\":{\"bottom_units\":\"screen\",\"fill_alpha\":{\"value\":0.5},\"fill_color\":{\"value\":\"lightgrey\"},\"left_units\":\"screen\",\"level\":\"overlay\",\"line_alpha\":{\"value\":1.0},\"line_color\":{\"value\":\"black\"},\"line_dash\":[4,4],\"line_width\":{\"value\":2},\"plot\":null,\"render_mode\":\"css\",\"right_units\":\"screen\",\"top_units\":\"screen\"},\"id\":\"cf872d13-4a0f-46d3-8618-1eb719eaaea0\",\"type\":\"BoxAnnotation\"},{\"attributes\":{\"callback\":null},\"id\":\"474fd544-1bc2-4f86-a7dd-ddaec4c25c3c\",\"type\":\"DataRange1d\"},{\"attributes\":{\"overlay\":{\"id\":\"a7257536-7aa2-4e2a-8570-12e7e6c855aa\",\"type\":\"PolyAnnotation\"},\"plot\":{\"id\":\"b4c93ba6-121e-4165-aa04-0cda280862ea\",\"subtype\":\"Figure\",\"type\":\"Plot\"}},\"id\":\"14ddc13b-2c77-4f23-bfd5-2b02bc6470f7\",\"type\":\"PolySelectTool\"},{\"attributes\":{\"plot\":{\"id\":\"b4c93ba6-121e-4165-aa04-0cda280862ea\",\"subtype\":\"Figure\",\"type\":\"Plot\"}},\"id\":\"7c2013e3-b9d9-4a93-8905-72cc56bf8738\",\"type\":\"UndoTool\"},{\"attributes\":{\"plot\":{\"id\":\"b4c93ba6-121e-4165-aa04-0cda280862ea\",\"subtype\":\"Figure\",\"type\":\"Plot\"}},\"id\":\"ca978cd2-84f3-4189-9af1-a8510d6d88fb\",\"type\":\"SaveTool\"},{\"attributes\":{},\"id\":\"5a685c54-122c-4442-9b57-703eee838698\",\"type\":\"BasicTicker\"},{\"attributes\":{\"active_drag\":\"auto\",\"active_scroll\":\"auto\",\"active_tap\":\"auto\",\"tools\":[{\"id\":\"da71b351-bb1a-4ec4-9229-56928c036098\",\"type\":\"BoxZoomTool\"},{\"id\":\"30fd5fd7-8ffd-40c0-bdc4-8bf4c60f6f85\",\"type\":\"BoxSelectTool\"},{\"id\":\"2d6fc649-15ec-4b63-9311-11d53ac71a58\",\"type\":\"CrosshairTool\"},{\"id\":\"342b160e-df99-4de6-8808-579aa1cce022\",\"type\":\"ResizeTool\"},{\"id\":\"1e3772bf-56d3-4ea2-bc19-446d32053116\",\"type\":\"ResetTool\"},{\"id\":\"63085574-027c-4b03-89c1-ca27d127cb8f\",\"type\":\"LassoSelectTool\"},{\"id\":\"fdc21548-a4a3-46b9-940a-1febad8c7574\",\"type\":\"PanTool\"},{\"id\":\"ca978cd2-84f3-4189-9af1-a8510d6d88fb\",\"type\":\"SaveTool\"},{\"id\":\"14ddc13b-2c77-4f23-bfd5-2b02bc6470f7\",\"type\":\"PolySelectTool\"},{\"id\":\"a0ae4272-e3bd-4a15-a69c-6bdac6cb81fa\",\"type\":\"TapTool\"},{\"id\":\"c2b55623-cf3c-487e-b09c-cfebd46bc836\",\"type\":\"WheelZoomTool\"},{\"id\":\"7c2013e3-b9d9-4a93-8905-72cc56bf8738\",\"type\":\"UndoTool\"}]},\"id\":\"0a11d457-3549-46dd-83da-a7a9455d4929\",\"type\":\"Toolbar\"},{\"attributes\":{\"plot\":{\"id\":\"b4c93ba6-121e-4165-aa04-0cda280862ea\",\"subtype\":\"Figure\",\"type\":\"Plot\"}},\"id\":\"c2b55623-cf3c-487e-b09c-cfebd46bc836\",\"type\":\"WheelZoomTool\"},{\"attributes\":{},\"id\":\"62db8563-aa7b-4c45-bf06-ea24c18af9de\",\"type\":\"BasicTickFormatter\"},{\"attributes\":{\"fill_alpha\":{\"value\":0.1},\"fill_color\":{\"value\":\"#1f77b4\"},\"line_alpha\":{\"value\":0.1},\"line_color\":{\"value\":\"#1f77b4\"},\"line_width\":{\"value\":3},\"x\":{\"field\":\"x\"},\"y\":{\"field\":\"y\"}},\"id\":\"ee65185d-783b-4c94-a9ee-6ada511e33cb\",\"type\":\"Circle\"},{\"attributes\":{},\"id\":\"eafe1c9c-de1e-41b5-a882-23556e58878c\",\"type\":\"ToolEvents\"},{\"attributes\":{\"bottom_units\":\"screen\",\"fill_alpha\":{\"value\":0.5},\"fill_color\":{\"value\":\"lightgrey\"},\"left_units\":\"screen\",\"level\":\"overlay\",\"line_alpha\":{\"value\":1.0},\"line_color\":{\"value\":\"black\"},\"line_dash\":[4,4],\"line_width\":{\"value\":2},\"plot\":null,\"render_mode\":\"css\",\"right_units\":\"screen\",\"top_units\":\"screen\"},\"id\":\"1de06848-965d-4b14-8af4-e699f0035072\",\"type\":\"BoxAnnotation\"},{\"attributes\":{\"callback\":null,\"overlay\":{\"id\":\"43caee55-9345-4ba3-a504-6e38ded1ab34\",\"type\":\"PolyAnnotation\"},\"plot\":{\"id\":\"b4c93ba6-121e-4165-aa04-0cda280862ea\",\"subtype\":\"Figure\",\"type\":\"Plot\"}},\"id\":\"63085574-027c-4b03-89c1-ca27d127cb8f\",\"type\":\"LassoSelectTool\"},{\"attributes\":{\"fill_alpha\":{\"value\":0.5},\"fill_color\":{\"value\":\"lightgrey\"},\"level\":\"overlay\",\"line_alpha\":{\"value\":1.0},\"line_color\":{\"value\":\"black\"},\"line_dash\":[4,4],\"line_width\":{\"value\":2},\"plot\":null,\"xs_units\":\"screen\",\"ys_units\":\"screen\"},\"id\":\"43caee55-9345-4ba3-a504-6e38ded1ab34\",\"type\":\"PolyAnnotation\"},{\"attributes\":{\"plot\":{\"id\":\"b4c93ba6-121e-4165-aa04-0cda280862ea\",\"subtype\":\"Figure\",\"type\":\"Plot\"}},\"id\":\"2d6fc649-15ec-4b63-9311-11d53ac71a58\",\"type\":\"CrosshairTool\"},{\"attributes\":{\"data_source\":{\"id\":\"e4d376fe-0c87-4601-8cb6-517e29a21e13\",\"type\":\"ColumnDataSource\"},\"glyph\":{\"id\":\"7754adb4-38e6-415c-a443-93baaf108497\",\"type\":\"Circle\"},\"hover_glyph\":null,\"nonselection_glyph\":{\"id\":\"ee65185d-783b-4c94-a9ee-6ada511e33cb\",\"type\":\"Circle\"},\"selection_glyph\":null},\"id\":\"fb527101-1fff-473a-b605-ff114aef368f\",\"type\":\"GlyphRenderer\"},{\"attributes\":{\"plot\":{\"id\":\"b4c93ba6-121e-4165-aa04-0cda280862ea\",\"subtype\":\"Figure\",\"type\":\"Plot\"}},\"id\":\"342b160e-df99-4de6-8808-579aa1cce022\",\"type\":\"ResizeTool\"},{\"attributes\":{\"axis_label\":\"Predicted\",\"axis_label_text_color\":{\"value\":\"#aa6666\"},\"formatter\":{\"id\":\"62db8563-aa7b-4c45-bf06-ea24c18af9de\",\"type\":\"BasicTickFormatter\"},\"major_tick_line_color\":{\"value\":\"firebrick\"},\"major_tick_line_width\":{\"value\":3},\"minor_tick_line_color\":{\"value\":\"orange\"},\"plot\":{\"id\":\"b4c93ba6-121e-4165-aa04-0cda280862ea\",\"subtype\":\"Figure\",\"type\":\"Plot\"},\"ticker\":{\"id\":\"1d8e4476-acb7-4e97-9ce1-d3c328f0b0a9\",\"type\":\"BasicTicker\"}},\"id\":\"24f8b512-32e9-4975-9c9f-6d1586eb4f67\",\"type\":\"LinearAxis\"},{\"attributes\":{\"plot\":{\"id\":\"b4c93ba6-121e-4165-aa04-0cda280862ea\",\"subtype\":\"Figure\",\"type\":\"Plot\"}},\"id\":\"fdc21548-a4a3-46b9-940a-1febad8c7574\",\"type\":\"PanTool\"},{\"attributes\":{\"callback\":null,\"overlay\":{\"id\":\"1de06848-965d-4b14-8af4-e699f0035072\",\"type\":\"BoxAnnotation\"},\"plot\":{\"id\":\"b4c93ba6-121e-4165-aa04-0cda280862ea\",\"subtype\":\"Figure\",\"type\":\"Plot\"},\"renderers\":[{\"id\":\"fb527101-1fff-473a-b605-ff114aef368f\",\"type\":\"GlyphRenderer\"}]},\"id\":\"30fd5fd7-8ffd-40c0-bdc4-8bf4c60f6f85\",\"type\":\"BoxSelectTool\"},{\"attributes\":{\"callback\":null,\"column_names\":[\"x\",\"y\"],\"data\":{\"x\":[47.28343963623047,35.53507614135742,38.21406936645508,13.933484077453613,51.85697937011719,17.806140899658203,11.961431503295898,24.995012283325195,43.626121520996094,31.996322631835938,25.824155807495117,27.820039749145508,20.165424346923828,41.97372817993164,67.5208969116211,18.006635665893555,39.00669479370117,37.637123107910156,34.650970458984375,41.09219741821289,27.254446029663086,43.48594665527344,20.189006805419922,44.72990036010742,32.27512741088867,37.47954177856445,48.000022888183594,26.025283813476562,48.63421630859375,15.59633731842041,35.38621520996094,35.68155288696289,31.209163665771484,73.85609436035156,74.47240447998047,43.24456024169922,50.99965286254883,26.719423294067383,24.056285858154297,18.47500228881836,38.15347671508789,31.660703659057617,42.63949203491211,9.387450218200684,8.926629066467285,46.564178466796875,48.39574432373047,43.06686019897461,39.9522819519043,17.429664611816406,23.946985244750977,12.707050323486328,42.86592483520508,35.89720153808594,49.313560485839844,78.21580505371094,49.68840789794922,32.21418380737305,42.79103088378906,59.963191986083984,34.52531051635742,34.82966995239258,15.450861930847168,42.8804931640625,59.207454681396484,36.830326080322266,27.435617446899414,47.91880798339844,38.75639724731445,47.687496185302734,41.538482666015625,35.18275451660156,68.29847717285156,36.060401916503906,12.002763748168945,48.68536376953125,59.440555572509766,44.24715805053711,30.516672134399414,32.61028289794922,37.080806732177734,47.67085266113281,74.08318328857422,39.25829315185547,23.085575103759766,64.97187042236328,31.38320541381836,39.66518020629883,68.98258209228516,38.15530776977539,42.238014221191406,46.773826599121094,40.099117279052734,34.90580368041992,31.192527770996094,48.147796630859375,21.690269470214844,18.396923065185547,69.87017822265625,37.206966400146484,9.24231243133545,16.779823303222656,40.07661819458008,21.03070831298828,47.44026565551758,34.27753448486328,74.5718994140625,19.125093460083008,40.99851608276367,54.8797492980957,36.644718170166016,44.21422576904297,28.908714294433594,34.25630187988281,25.744678497314453,22.89462661743164,48.25482177734375,36.1015739440918,31.821008682250977,20.272560119628906,26.602705001831055,29.331689834594727,47.84646224975586,42.76121139526367,47.19389724731445,49.887264251708984,15.269579887390137,36.709747314453125,46.47405242919922,20.37639617919922,37.46940612792969,24.95836067199707,75.0216064453125,11.522357940673828,59.15505599975586,61.49645233154297,45.75541687011719,45.362205505371094,19.335996627807617,23.53849983215332,47.84138870239258,27.712711334228516,29.166149139404297,36.43924331665039,52.49872970581055,42.662750244140625,38.197208404541016,49.11918258666992,36.06317138671875,54.00105285644531,12.745241165161133,34.74679946899414,48.669044494628906,24.678850173950195,64.26204681396484,58.550880432128906,46.544708251953125,71.2823486328125,51.26557159423828,58.08682632446289,16.081850051879883,21.873701095581055,21.57081413269043,27.593137741088867,29.208406448364258,44.927406311035156,38.924652099609375,31.301767349243164,24.93485450744629,3.7943811416625977,28.433177947998047,24.099538803100586,23.093467712402344,26.546855926513672,41.20198440551758,41.03379821777344,29.127742767333984,30.711658477783203,55.39645004272461,30.404682159423828,14.659477233886719,30.152795791625977,26.932823181152344,52.07253646850586,36.22587585449219,39.84593200683594,64.47957611083984,36.756446838378906,38.24909591674805,58.259979248046875,40.05084991455078,37.35770034790039,35.29184341430664,53.721317291259766,35.603240966796875,21.8928279876709,38.023094177246094,41.8787727355957,44.80335235595703,48.40549850463867,57.52185821533203,39.75972366333008,62.57423400878906,22.889751434326172,28.49129295349121,30.59344482421875,31.72756576538086,25.31519317626953,21.459089279174805,50.60240936279297,26.51296043395996,21.031509399414062,37.06706619262695,8.761643409729004,47.44162368774414,38.1307487487793,74.04055786132812,27.2999210357666,57.63776779174805,38.941226959228516,32.36965560913086,22.676513671875,44.05147171020508,32.39674758911133,66.92182922363281,43.996665954589844,17.869840621948242,36.740936279296875,15.363741874694824,36.07180404663086,42.02457809448242,11.61825942993164,44.86321258544922,23.511049270629883,38.977569580078125,39.97090148925781,26.547958374023438,65.84587097167969,71.6208267211914,43.042701721191406,37.59762191772461,44.443817138671875,17.93915557861328,18.219038009643555,37.99247360229492,45.04424285888672,64.67473602294922,37.140159606933594,19.92442512512207,71.2823486328125,32.561073303222656,36.01052474975586,24.786069869995117,56.43505859375,39.63543701171875,44.025390625,33.320316314697266,43.191497802734375,19.465394973754883,47.95413589477539,67.50902557373047,42.23239517211914,59.15505599975586,7.931667804718018,73.81819915771484,12.378212928771973,11.201805114746094,43.59373474121094,32.887474060058594,32.01750946044922,14.328916549682617,22.619108200073242,11.095641136169434,18.76264190673828,15.450325965881348,35.032501220703125,23.63996696472168,17.8327693939209,51.37646484375,35.590023040771484,20.94046974182129,19.980600357055664,23.093467712402344,21.162281036376953,43.05378723144531,31.835285186767578,17.760366439819336,22.939393997192383,46.1595573425293,13.764588356018066,32.998497009277344,27.1343994140625,25.799957275390625,22.130401611328125,16.43700408935547,41.323726654052734,52.1376953125,39.298240661621094,62.385982513427734,39.667537689208984,46.95393753051758,38.56535720825195,43.044307708740234,44.80303955078125,27.245140075683594,21.876953125,47.315242767333984,8.435033798217773,17.874595642089844,46.46906661987305,33.5186767578125,27.696502685546875,36.65732192993164,20.659944534301758,36.34523391723633,53.65876388549805,7.00828742980957,25.26041603088379,17.959016799926758,51.456546783447266,13.787632942199707,58.87226104736328,5.856779098510742,21.436935424804688,31.145963668823242,60.835655212402344,71.66105651855469,19.97723388671875,30.330541610717773,35.0682258605957,33.35432434082031,24.24823760986328,44.62529373168945,31.565858840942383,60.64118194580078,37.32617950439453,44.89834976196289,7.663882255554199,68.12997436523438,45.23979568481445,39.04133605957031,29.9035587310791,34.57854080200195,45.02245330810547,19.050935745239258,8.999200820922852,38.04814529418945,46.735328674316406,46.03420639038086,31.176937103271484,39.04695129394531,35.99440383911133,64.74979400634766,28.929094314575195,32.54726028442383,37.86378479003906,9.72542953491211,7.771385192871094,26.655563354492188,32.251548767089844,46.76765823364258,17.64796257019043,10.712615966796875,39.5133056640625,24.801715850830078,46.3713493347168,60.835655212402344,36.02057647705078,49.93022537231445,32.973411560058594,38.46752166748047,27.72669792175293,54.57907485961914,28.179180145263672,50.32813262939453,16.892492294311523,30.8216552734375,21.016586303710938,20.730737686157227,45.882503509521484,35.90354537963867,39.37412643432617,42.36650848388672,14.149511337280273,33.120689392089844,42.201507568359375,48.074581146240234,16.43820571899414,33.4272346496582,24.431350708007812,58.550880432128906,14.76611042022705,26.736377716064453,33.428077697753906,60.835655212402344,39.012596130371094,44.18556213378906,38.62449264526367,34.73783493041992,36.35698699951172,16.83890151977539,38.52606201171875,52.85895538330078,72.86183166503906,33.11307907104492,31.403549194335938,52.49805450439453,15.388425827026367,26.175382614135742,7.009879112243652,41.99151611328125,46.412479400634766,48.58207321166992,13.535672187805176,58.98548889160156,51.71704864501953,32.844661712646484,23.037540435791016,39.613529205322266,41.27933883666992,58.67534255981445,18.003042221069336,28.96057891845703,33.89470672607422,14.132884979248047,26.9417781829834,69.01943969726562,42.4878044128418,37.12337875366211,32.40476989746094,17.77593231201172,35.40098190307617,39.504398345947266,44.73501205444336,16.786672592163086,35.11540985107422,25.220596313476562,11.468132972717285,15.560351371765137,9.090543746948242,11.691191673278809,24.548015594482422,40.69729232788086,53.164031982421875,30.571165084838867,41.305599212646484,34.39382553100586,49.96772384643555,18.74982261657715,23.375276565551758,34.34145736694336,9.694424629211426,32.6851806640625,44.463871002197266,42.79054641723633,62.91611862182617,29.5117244720459,20.27875328063965,30.255578994750977,32.431705474853516,11.651138305664062,40.081966400146484,24.906476974487305,32.881168365478516,53.306026458740234,8.857121467590332,28.252731323242188,44.0076789855957,26.501827239990234,46.64456558227539,29.86866569519043,47.66410827636719,71.2823486328125,46.36997604370117,36.17581558227539,30.83831214904785,37.8381233215332,20.7165470123291,27.805973052978516,20.01972198486328,37.577125549316406,16.98419952392578,68.98258209228516,44.05147171020508,39.37657165527344,21.94413948059082,43.705055236816406,7.6422648429870605,29.48929214477539,23.897502899169922,42.23239517211914,53.832088470458984,34.68165969848633,63.891502380371094,36.4234619140625,44.712257385253906,36.78306198120117,40.85448455810547,35.69683837890625,29.562454223632812,20.51474380493164,12.22668743133545,28.408037185668945,20.02977180480957,65.7975845336914,52.536800384521484,24.812379837036133,24.39805793762207,45.267799377441406,35.27851867675781,58.16754150390625,69.86273193359375,58.67167663574219,53.33698654174805,29.792015075683594,27.893312454223633,34.63460922241211,64.84244537353516,13.577202796936035,28.736801147460938,44.05147171020508,35.40073776245117,31.377904891967773,33.80330276489258,75.26539611816406,73.4032974243164,48.09023666381836,34.660545349121094,33.11641311645508,30.157747268676758,35.46778869628906,56.09774398803711,8.040226936340332,64.7842025756836,50.504173278808594,35.792789459228516,15.204400062561035,40.047607421875,22.352632522583008,44.7654914855957,33.102195739746094,42.35030746459961,19.690195083618164,46.32175827026367,40.85448455810547,48.15727615356445,40.960750579833984,42.0097770690918,23.453235626220703,14.088043212890625,25.25982666015625,43.82561492919922,43.0770263671875,37.152191162109375,46.481536865234375,41.43423080444336,40.75627517700195,17.431028366088867,25.946022033691406,14.707879066467285,30.13892364501953,28.35594940185547,34.226539611816406,24.767776489257812,44.23914337158203,50.41357421875,33.48313903808594,36.426605224609375,11.076972007751465,6.317228317260742,31.43419075012207,24.738311767578125,29.673959732055664,56.72209930419922,35.15321731567383,35.89567184448242,32.94993591308594,38.9477424621582,31.82158660888672,17.0750732421875,48.37080764770508,50.56637191772461,14.389001846313477,27.56894874572754,8.572184562683105,14.183918952941895,14.100605010986328,23.069143295288086,40.85543441772461,57.04637908935547,33.36869812011719,39.32331085205078,60.835655212402344,17.83306884765625,44.05147171020508,64.32533264160156,30.8217716217041,38.826351165771484,35.54050064086914,13.230673789978027,14.045683860778809,46.515869140625,23.133668899536133,53.72213363647461,37.55907440185547,33.5186767578125,42.977684020996094,43.2982063293457,39.52216720581055,64.97650909423828,34.171546936035156,52.52049255371094,56.351444244384766,12.368865013122559,23.684173583984375,39.07588577270508,54.983211517333984,51.98130798339844,41.474693298339844,41.50688552856445,64.84244537353516,71.2823486328125,36.709747314453125,9.701488494873047,34.062889099121094,51.164852142333984,13.457832336425781,71.65907287597656,36.942100524902344,23.47889518737793,18.489025115966797,35.943565368652344,50.20097351074219,24.072172164916992,40.740936279296875,47.13774108886719,14.94273853302002,47.443016052246094,23.07142448425293,46.9554328918457,51.75055694580078,34.21204376220703,15.314057350158691,39.269447326660156,40.27161407470703,23.796632766723633,35.02481460571289,20.854576110839844,22.708913803100586,31.50286293029785,30.740131378173828,50.492679595947266,31.33901596069336,9.183587074279785,36.6951789855957,50.620567321777344,36.26373291015625,22.64470672607422,21.354074478149414,50.00251388549805,75.0216064453125,37.59786605834961,40.40076446533203,46.99324035644531,16.04802703857422,26.136674880981445,35.23590850830078,42.09041976928711,40.85448455810547,12.07878589630127,33.379390716552734,36.10448455810547,42.47197341918945,46.08302307128906,26.340831756591797,15.171252250671387,21.240129470825195,9.118579864501953,61.87532043457031,26.904438018798828,29.75228500366211,58.550880432128906,38.74977111816406,10.036160469055176,48.30130386352539,39.299320220947266,60.39346694946289,16.988853454589844,40.29343795776367,17.939416885375977,32.26927185058594,25.605274200439453,33.43083190917969,56.09541702270508,33.89210510253906,54.4973258972168,15.936622619628906,31.629518508911133,56.79673385620117,36.21131134033203,39.805301666259766,44.91423034667969,24.21802520751953,31.951326370239258,35.00617599487305,13.671292304992676,40.754844665527344,43.59373474121094,23.154586791992188,32.82724380493164,68.98258209228516,17.72220230102539,28.986347198486328,27.86775016784668,33.752662658691406,51.300071716308594,24.55668830871582,43.765647888183594,40.24666976928711,51.16716384887695,34.94227600097656,60.29556655883789,56.62174606323242,76.18585968017578,41.47976303100586,63.85228729248047,26.63571548461914,47.43238067626953,24.669809341430664,19.72039794921875,44.83830261230469,41.82546615600586,23.977867126464844,11.773553848266602,58.25584411621094,12.665228843688965,16.774141311645508,30.830219268798828,47.84040069580078,40.85448455810547,41.023162841796875,19.426403045654297,26.35252571105957,61.08628845214844,27.761314392089844,33.521358489990234,9.341841697692871,38.71427917480469,37.808414459228516,43.321651458740234,27.661100387573242,35.2265510559082,36.35009765625,46.84187316894531,7.718377590179443,47.958370208740234,31.361337661743164,44.32712936401367,70.0383529663086,34.97447967529297,23.046491622924805,30.827302932739258,43.43534469604492,29.723764419555664,58.12135696411133,60.58574676513672,30.557743072509766,40.901817321777344,68.22998046875,24.91617202758789,51.345367431640625,35.75738525390625,35.263397216796875,66.58552551269531,8.984938621520996,8.992477416992188,11.627448081970215,14.208495140075684,38.290313720703125,6.469640254974365,25.740055084228516,35.74360275268555,44.09202575683594,23.656526565551758,29.365070343017578,60.32750701904297,33.88222122192383,53.97736740112305,56.68941879272461,75.0216064453125,15.466020584106445,48.538429260253906,34.215087890625,50.323673248291016,21.552019119262695,44.88962173461914,33.70325469970703,67.91797637939453,37.62303924560547,39.937923431396484,39.16539001464844,30.773427963256836,40.40076446533203,48.69422149658203,46.90532684326172,7.391872406005859,21.083600997924805,29.554723739624023,70.70896911621094,38.315826416015625,8.561212539672852,53.69877243041992,5.052001476287842,21.965883255004883,53.820518493652344,20.844524383544922,58.98548889160156,41.51527404785156,16.14389991760254,40.251014709472656,17.741226196289062,21.982105255126953,47.53915023803711,50.78809356689453],\"y\":[3.3913974762304733,-2.675683778642579,4.794478170455079,0.8127557974536135,4.6347681301171875,-4.512197220341797,-0.5111893367041009,-3.942984912674806,-3.4037259150039105,5.673507903835937,-4.615520116504879,15.181944669145508,-0.6084875330761719,-1.8245452440683536,1.4208327916210948,2.645110385893556,-1.8585477262988235,-8.302662772089839,0.8942254989843761,-2.489580541787106,3.7302143856630856,0.7866979752734409,6.045096141419922,-3.671314839892574,-2.2945097531113277,1.6198950185644563,-11.094965071816404,1.5282015334765617,10.912294872593748,0.07623255842041132,2.98498006596094,2.628073446962894,-18.04010701422851,2.1574851203515664,19.576325359980473,-7.214740818300783,-0.8641108094511694,-1.9627783059326163,-2.7160672218457016,1.2387917648183588,1.3147740350878934,-8.570220940942384,-5.0750050690878865,-1.975114261799316,-1.0638781735327143,5.638951534796881,7.832492291730475,11.350964198974609,0.534939031904301,-0.6966594281835938,5.662081724750976,2.840648763486328,1.5663124352050772,1.340664418085936,-4.644831274160154,-4.383419746289064,-4.910507066050776,-12.397671296626946,3.5012410237890634,-3.5651266539160105,-4.63692628364258,-4.491835803607422,-4.965211905152831,-1.5148664759374952,2.8703707213964833,-1.6700137596777296,-4.8097961211005895,5.689781935398436,-7.490894928685549,13.999698825302737,-2.670718453984371,1.4535885966015627,3.398101292851564,2.8683378005039017,-0.44917281183105473,4.545110249531248,1.524571572509771,-11.26255470946289,-6.749505665600587,-9.606332582050783,-4.122279027822266,7.891534841132817,9.18280740857422,-0.403813748144529,-0.4255564962402332,10.206791742363286,2.3100709218183617,-10.108092233701171,3.785731532285155,1.5668848777753936,-9.769160458808592,9.507648799121093,-3.479213300947265,-5.773280319580074,4.227121410996094,11.89583802685938,-4.036148517785158,6.2159505731855464,-3.124645897343754,8.579922880146484,-2.1498995166645507,-3.3046125767773447,-8.20738608541992,-2.9699512470117178,2.135487171517582,-1.4855856351367152,0.3773870540624955,4.425465140083009,15.38940751330503,-7.111037861904293,-1.4295255018339788,-9.882061190957032,-11.948254513566404,-5.588516160117187,3.309129457314455,-2.9993340385683567,5.334940777343753,5.454365744091799,5.620920682250976,-2.866254440371094,-0.25238519816894467,3.184002010594728,-4.599908642244138,4.840031395263672,5.357183043314457,0.8999944517089844,6.733177531390137,0.9554918839117619,-2.1133212908007764,-1.2248869008007794,8.669993607929687,-7.864833784002933,-4.275028314687503,-0.13254436332617203,-7.625619430785505,0.4019839715429683,-2.914693969882812,5.165754705371093,-6.922007356192381,10.07992831215332,0.10207046239258233,4.0161106902285155,1.3388977794042987,5.0887695966503905,-7.82352553418945,-6.0328712078593725,-0.8960807954589853,16.002271354669922,-1.265059253281251,3.303882576445311,-0.820199134838866,1.059002108994143,-4.792924545371093,8.174863161950196,2.4061999597768846,-1.7437957678710916,3.531747991953125,-6.014805727187493,-5.581724605761714,2.5909030844628944,1.0326573998798843,4.036956975581056,1.8056056406904304,3.0546869010888678,7.26238536836426,11.363714631035158,-4.133124100390624,3.6206849012431626,-6.091565492553709,1.4625733096625977,-13.85927989200195,8.758697803100587,3.402033152402346,-7.154730953486329,-6.580081346482416,-15.108164034226562,4.237659167333984,0.8408002537832076,-3.2090099572753914,5.500809039423828,1.2639435186160402,6.365873791625976,-6.796342738847656,0.030887988505860164,4.875402134492187,1.8902782068359372,6.8807510708398425,7.308926878378909,14.358752516748048,-9.43966919195313,5.315049034550782,-1.6983571480996105,10.19491701430664,8.353796491259764,7.507093966796877,-1.328723692329099,-2.1250933027539034,-0.2613109084042904,7.461332195957034,4.272139744638672,-2.7590284646679635,-10.013548776669921,2.9838082935183863,4.93028058632617,4.3872119934912135,3.6487227442187518,-0.23929949861913613,-2.922296403730467,5.349482539174804,-3.6731413572070295,7.766797469959961,-3.886153240585937,-3.791281567373048,-2.704342470270996,9.033673631744136,12.930400948779297,-5.359498298671866,3.781894675766601,-8.786350048251947,-0.5105897607714809,2.5842924091308603,0.32852808387499977,-11.844347609794923,2.2735411491113275,-0.6468187763671835,-9.527355925410156,4.576743341948243,12.643750079296876,0.37453363469482426,-3.5110131133691382,-6.822038601517576,-0.33932283806835883,5.487238225449218,3.5231400306298823,-0.47838399592187386,0.5494217132578143,2.06466561402344,6.647461611679688,4.920918481191407,-6.930518758808589,-3.1159358822753873,4.744478534671877,-2.338333581386717,0.6442947696435546,4.910036170294923,3.992841818886717,8.530705342949219,-6.236843981066407,4.83869024512207,-6.014805727187493,-0.278668576777342,-1.42733257424414,1.0418953819951184,0.035921793749999154,-3.7532876682812457,-0.6726489789999945,0.5998537826972665,-10.711735877265625,11.715684733754884,0.13897529477539194,7.614245453730469,4.2146885321191405,-9.595550854432105,1.0479394207180182,-2.9825324822851513,0.5261204887719728,2.714355554746094,-5.607272618789061,0.1194376840585889,-1.1945494595507782,-3.666407050317382,-1.181603319926758,4.193296900169433,0.6363178667382812,4.914443209881348,9.521889220703127,10.17863754072168,-7.650263566079101,-4.271143116249995,2.6261754807714865,1.5248255818212897,-2.965160922944335,3.402033152402346,3.1283467803769547,-9.854532580554682,8.590094332579618,-7.929509320180664,4.9854389571923825,2.4612579385293003,-1.8106744839819324,7.576137937277345,-2.0235406259374997,3.364408235390627,-0.4016740686718734,-4.742319678644531,7.925509214052738,3.164215032500003,16.808912493621094,-4.9206646065722595,0.05714148920898765,1.8691018905175767,0.10431750025195186,-3.887634135259759,4.206692670781251,-3.2021200843164053,-2.4139758309999984,-2.678661992666015,0.37161197821777314,1.5960672820898445,6.079562539873045,9.879499612000462,6.6302529815468745,-6.5935075500683595,-0.25875730569824285,2.546430921236329,9.628826525498049,-2.84136971600247,-0.3605121291162092,-6.489802160073243,-24.77881453655273,-1.9606883738002914,0.3495381673632849,-1.9825630214892573,4.1614247688046895,3.925451188823242,-10.463057947597648,3.5615119985546926,-4.678427873281251,3.416845950717775,1.6686294685957037,3.9619624608203132,-5.643994370136717,-2.1763371483105445,0.31191176094238315,5.09010062580078,8.326818944394532,5.598217761962893,-2.6720524604457996,-11.856136394765628,-2.037573635185545,14.020252019570314,5.509897851079103,-9.154921877998042,-4.77839817189453,10.039484425239259,-2.4150743590771473,4.505137894189453,-9.091543045683594,-0.8639511296191387,-0.5665379367285155,3.683727253945314,0.651864079111327,-1.2468487136523407,-1.3044282854248053,-2.7670109595761687,0.9285554700390648,-3.0091921850878904,-3.398126007128905,-11.94819788550781,-12.357548432910157,5.616283173642579,4.859561722190431,-1.463530193203125,6.470168364062502,2.9425687468300765,5.318569342716799,-10.463057947597648,-11.691162722949215,3.7008595723144566,6.228637520058594,-3.0734073325195297,0.8095548817529306,-1.3650077803808571,10.356225545263673,-10.907678310605469,1.5516512943115242,-0.5977660465624979,-0.8949609762890631,3.852365206157227,-6.538356770478515,-1.267484732361325,-0.2707435656738255,-8.288603760113276,0.6288869772802741,-2.8354840079101535,-4.931071791640626,-8.021186213759762,-2.911938221005858,1.3590164136582032,6.232631688007814,-1.7437957678710916,1.4316445802270508,-1.1874002839355455,-0.176982542246094,-10.463057947597648,2.5648263423710915,10.696727849059748,0.16552136526367178,-3.9624529495800758,2.5588734795117176,-2.5767426402246087,-0.9602285082812472,-6.44287537669922,-7.3380166549609385,1.0614082590449243,9.544402090335936,-4.245820295605469,4.8532325470263675,0.20971645413574436,2.106325800243652,0.050691033281253794,4.477859604634766,-19.283049468330077,0.44665980380517567,7.964264891601566,-1.2416029149804686,3.8590906726464844,5.0732432557910165,10.064557774780905,0.03488451666992631,-0.10938120018554542,5.543521425069336,-5.713169121542968,-7.789633281925781,-2.756519116751953,1.7248829589834003,2.422952857265628,-8.843683787158199,4.104373113662113,2.281563457460937,4.482145556011719,0.6307072230761719,1.390165065947265,8.882260054443364,0.5219337521630862,-3.0884553089257807,3.4007493414765655,-3.0315473072827146,5.824950251765138,-1.6721766130517572,-5.474692298721191,10.006966754482422,4.0585376878808574,3.087390102421878,-6.393022227161133,-2.9904758833535183,-1.9553491889941412,-6.093569713564449,-0.35555734342285206,-0.9066892024482414,-2.0084068290566393,-5.375550801329933,7.224210936062498,5.763583122197268,-0.5864571707636728,-4.197475218173821,2.277422472045899,1.0796045846396503,0.8425328347509762,2.7773427148535177,-1.972907454335937,-0.06622107985351278,-4.644464385512695,0.22069024547851512,-3.3895850212597622,-2.626790788409666,-6.9725975167578085,1.6807473455957052,-6.5020099280097625,-4.611080257724609,7.951602607190431,9.448522024367193,-6.014805727187493,-6.056400044298826,-1.05588841772461,4.6106451090478515,-1.1586392384667974,-4.270063227670896,4.970527932978516,7.774628224863282,-2.027754842683592,1.4640947639257824,3.785731532285155,-11.844347609794923,0.018523671273442233,4.368017288590821,2.7701756408164044,-4.409775637012938,5.0845996487753915,0.3725817791699235,2.932263172119143,-1.6224662095410167,-2.749992341513668,-5.945521659628909,5.0729881940625,-1.4895293747460912,-9.604883298798825,5.55331335810547,7.069794858906249,-2.312021256367185,-0.07921483906836002,-0.32177576866455126,-5.2563179903310555,4.93852111680957,-3.8601757463085846,-7.226979295478515,-11.631253094963867,1.4660861776220706,3.237342417441411,2.6518248807578075,-8.656472416093749,-2.1254572264062546,-15.693234822378216,-18.761518778251954,-7.198372324316402,6.354082214223634,-2.7970428175878865,0.5419136135351579,6.261862436936036,-9.86696009253906,21.15397375020508,3.3893520471804948,3.702338251967774,-6.258700215107417,18.76973267816406,2.704428384316415,1.447185263818362,2.689543229121096,0.39388215645507785,6.370825268676757,2.5108358962890662,0.9396639880371112,-2.343281623659667,-9.713679224316408,-3.219796641191408,4.911159419228518,1.6630914225610347,-3.527275778125002,0.8478760825830101,-8.06147015840429,0.04182153974609548,-8.422705175400388,0.15113471961816316,4.190637814263674,5.55331335810547,6.6142787255644535,-6.440724420166013,-9.7229861629082,3.4653263862207027,-0.956323107109375,-4.332483259843748,1.6986313291992232,-9.226622992812501,-2.23067795789062,7.333089585234376,5.1333194044433625,-3.570136862998048,-5.97392392991113,3.316040761691408,-0.9080628575327143,6.3037383250195305,-6.869379438144527,3.048434891816406,-3.107048714742188,5.676750691582029,-3.9019661092499973,-9.15405680191406,3.124914424609379,-1.464596432248534,1.535022781260742,2.3658825901220695,-9.501066392421876,-3.2105980879443337,6.82472118419922,3.6165850756738287,2.194084964482421,0.1860363930859421,1.033457222158205,6.262021812886719,-0.361774797812501,-8.847426640294913,0.03950220972460983,0.08237484631347769,8.559405949727541,-1.5176072213168954,1.001137832941895,0.5799806509863288,-7.206437340711915,-11.661263026275385,-24.704790230644534,4.900234080117187,-1.5350369079492197,-10.463057947597648,0.46516840765625034,-11.844347609794923,1.8243332416015647,4.5885887737041,4.621446805771484,-5.869427919130857,3.6131730659780263,-3.1774266192211904,2.127404260624999,3.3684604075361335,3.211121876474614,-1.49284623814453,8.402051042541821,7.407617180996098,-0.9799423906542941,-11.078476434189454,-3.322983465761723,2.9927527400351543,-9.532347446289059,17.12025984438477,-2.66171178687744,6.087367111984378,2.512973492705079,-4.815041962666015,-4.831514416601564,-11.825938357660156,3.5098631685644577,0.5419136135351579,-6.014805727187493,-1.9009086855468738,-1.0860530011269525,-0.42470042087890647,-2.490170177666016,0.23368265642578123,8.261754675976562,0.006871204902346051,-1.8938216126220695,6.312878955966797,-1.226085791347657,-0.8547242892578097,2.1606248849169916,-3.557896720703127,-6.634492151132811,-6.34828034697998,2.144442852246094,4.655520524252932,4.3347844758457015,-9.199121454199215,3.0959918822070307,-0.12331028984130832,15.027471166660156,-2.524161245292966,1.829927406723634,-3.6058361982871077,-5.2076166891601545,-1.7192208768994135,3.7307696502978516,-1.1598547138261708,-6.12640004805273,-1.9350957993066373,-2.3927149657202147,6.475445905595706,-5.9923070382226555,2.957215778156254,-7.285446433925781,-2.646585081850585,3.76832175349805,-4.275028314687503,-4.121637225650389,7.002547025332035,-4.041773163554687,1.0588187985742188,-1.8850087110185534,2.837431268300783,-11.013711226712893,5.55331335810547,-2.7173690636987295,3.299621264552737,-1.1610037658945274,-8.476855600810545,2.384723667289066,4.6912853565917985,-7.905509469328614,-2.825340833174806,-0.9132959354980468,3.076807154570318,1.7247744987988298,5.314497659662109,-1.7437957678710916,-1.908628601835936,2.5291457810551767,-7.298040776474608,2.998408820947269,-14.304362890537107,7.427200286589844,-3.914384210236328,4.742846245375977,4.3337727585859405,-0.4431290795605456,1.3209496244503711,-22.704795017294913,7.492069062539063,-2.1362327427832,0.24552781162890547,6.546381628911135,5.775509856201175,-1.0479716996679684,-2.618156613740233,1.4151895066796882,0.6944830395195325,6.392451050239259,3.366122354873049,0.8332491849926758,6.791256905527348,-5.607272618789061,7.584839759992189,3.8361569569316387,3.785731532285155,5.349555481025391,-12.89931980151367,2.122716327846682,-6.305892941308592,5.070705916308597,0.81802962871582,0.20041735218359236,-0.8047312707128924,18.31363244887695,3.91861390497656,0.09741699883789323,-9.285264776767576,2.88766612017578,-2.798385688994138,11.65205933248047,-0.22420104738085556,6.67331746026953,13.203823461430664,-2.0601488907812495,4.269534772304688,13.529371116005862,5.690205702464844,-2.429651751733399,13.736378796210936,-2.1784999603110347,-4.489298528354492,-8.56643937120117,-4.601143864199216,5.55331335810547,-0.07650151820312345,-4.856941674345702,1.172862191059572,-0.7114454278515581,4.070919032089844,2.253621889990235,0.2104215536928713,1.9093608188046858,6.961258219228515,0.7740874987402364,8.652247067573242,10.122729895908204,-8.28657858375,7.846489560945315,-1.5895484098205568,-7.592711111259767,-7.407897818256835,-1.5092351159863284,-4.1285803536914045,12.22177167529297,-4.6959541890751915,0.9592026127392579,-5.749804715955072,5.3852616195556635,13.597754788111324,-7.913693834863281,-1.0892053274902338,3.47430213777735,0.4338053887500024,-11.522634572412109,-3.6748173683593706,-3.2472570308230644,2.7304721567968784,-7.11256412730468,-10.947812538479003,0.6181019209921885,1.405276905970215,-0.3884012559243146,-5.408675159296877,-1.253869897025635,-5.6104186357714845,-9.124737423314457,-1.2754950431640637,-6.094362834448241,3.220140423017579,5.128058459042968,4.65050724992383,2.9354591211230456,-9.21966047527539,-4.275028314687503,5.7278615601064455,-6.35764985974609,-3.1476165493750017,-1.4008162717089832,0.8263705592626955,-7.931134625380857,1.6005626637070307,-3.704790500605469,1.7571872016054755,4.836700271396488,-7.077765305351562,-1.0665737167431644,7.002547025332035,-8.518496983417968,2.9629529352617183,-0.28406390199414044,3.053803597924805,-2.320441216375979,-4.788652883789055,13.915270776015625,0.3571376156728512,7.014352470419922,1.7321745362878418,0.9437600150048837,12.451958493652342,-6.196724336455077,14.562550211601561,7.117316407851561,-4.823065242397462,3.281311589472658,11.473889356289064,6.565421895126953,8.103880942037108,0.055760010894530865]}},\"id\":\"e4d376fe-0c87-4601-8cb6-517e29a21e13\",\"type\":\"ColumnDataSource\"},{\"attributes\":{},\"id\":\"1d8e4476-acb7-4e97-9ce1-d3c328f0b0a9\",\"type\":\"BasicTicker\"},{\"attributes\":{},\"id\":\"c8ffc037-0db4-4ad4-a7fc-d63faef4186d\",\"type\":\"BasicTickFormatter\"},{\"attributes\":{\"dimension\":1,\"plot\":{\"id\":\"b4c93ba6-121e-4165-aa04-0cda280862ea\",\"subtype\":\"Figure\",\"type\":\"Plot\"},\"ticker\":{\"id\":\"5a685c54-122c-4442-9b57-703eee838698\",\"type\":\"BasicTicker\"}},\"id\":\"d9dd0f44-74f8-4d0a-86f1-ae6026032e7e\",\"type\":\"Grid\"},{\"attributes\":{\"fill_color\":{\"value\":\"#80B1D3\"},\"line_color\":{\"value\":\"#80B1D3\"},\"line_width\":{\"value\":3},\"x\":{\"field\":\"x\"},\"y\":{\"field\":\"y\"}},\"id\":\"7754adb4-38e6-415c-a443-93baaf108497\",\"type\":\"Circle\"},{\"attributes\":{\"align\":\"center\",\"plot\":null,\"text\":\"Residual plot on the training data\"},\"id\":\"fe80e7a2-2d3e-4635-bf05-a5771d53d27a\",\"type\":\"Title\"},{\"attributes\":{\"plot\":{\"id\":\"b4c93ba6-121e-4165-aa04-0cda280862ea\",\"subtype\":\"Figure\",\"type\":\"Plot\"},\"ticker\":{\"id\":\"1d8e4476-acb7-4e97-9ce1-d3c328f0b0a9\",\"type\":\"BasicTicker\"}},\"id\":\"155c1f48-c852-42c0-8f24-dc5dc99f72ac\",\"type\":\"Grid\"}],\"root_ids\":[\"b4c93ba6-121e-4165-aa04-0cda280862ea\"]},\"title\":\"Bokeh Application\",\"version\":\"0.12.2\"}};\n",
       "            var render_items = [{\"docid\":\"96939580-6e28-472d-a391-759a63a76ede\",\"elementid\":\"c9ac30ed-d492-45dc-a3d2-25001a2de567\",\"modelid\":\"b4c93ba6-121e-4165-aa04-0cda280862ea\"}];\n",
       "            \n",
       "            Bokeh.embed.embed_items(docs_json, render_items);\n",
       "        });\n",
       "      },\n",
       "      function(Bokeh) {\n",
       "      }\n",
       "    ];\n",
       "  \n",
       "    function run_inline_js() {\n",
       "      \n",
       "      if ((window.Bokeh !== undefined) || (force === \"1\")) {\n",
       "        for (var i = 0; i < inline_js.length; i++) {\n",
       "          inline_js[i](window.Bokeh);\n",
       "        }if (force === \"1\") {\n",
       "          display_loaded();\n",
       "        }} else if (Date.now() < window._bokeh_timeout) {\n",
       "        setTimeout(run_inline_js, 100);\n",
       "      } else if (!window._bokeh_failed_load) {\n",
       "        console.log(\"Bokeh: BokehJS failed to load within specified timeout.\");\n",
       "        window._bokeh_failed_load = true;\n",
       "      } else if (!force) {\n",
       "        var cell = $(\"#c9ac30ed-d492-45dc-a3d2-25001a2de567\").parents('.cell').data().cell;\n",
       "        cell.output_area.append_execute_result(NB_LOAD_WARNING)\n",
       "      }\n",
       "  \n",
       "    }\n",
       "  \n",
       "    if (window._bokeh_is_loading === 0) {\n",
       "      console.log(\"Bokeh: BokehJS loaded, going straight to plotting\");\n",
       "      run_inline_js();\n",
       "    } else {\n",
       "      load_libs(js_urls, function() {\n",
       "        console.log(\"Bokeh: BokehJS plotting callback run at\", now());\n",
       "        run_inline_js();\n",
       "      });\n",
       "    }\n",
       "  }(this));\n",
       "</script>"
      ]
     },
     "metadata": {},
     "output_type": "display_data"
    }
   ],
   "source": [
    "# Plotining using bokeh\n",
    "#TOOLS = 'hover,box_zoom,box_select,crosshair,resize,reset,model_select,pan,save,poly_select,tap,wheel_zoom,undo'\n",
    "TOOLS = 'box_zoom,box_select,crosshair,resize,reset,lasso_select,pan,save,poly_select,tap,wheel_zoom,undo'\n",
    "p = figure(plot_width=500, plot_height=500, title=\"Residual plot on the training data\", tools=TOOLS)\n",
    "p.scatter(prediction, (prediction - Y),x=\"jjj\", marker=\"o\", color=\"#80B1D3\", line_width=3)\n",
    "p.title.align = \"center\"\n",
    "p.xaxis.axis_label = \"Predicted\"\n",
    "p.xaxis.axis_label_text_color = \"#aa6666\"\n",
    "#p.xaxis.axis_label_standoff = 30\n",
    "p.xaxis.major_tick_line_color = \"firebrick\"\n",
    "p.xaxis.major_tick_line_width = 3\n",
    "p.xaxis.minor_tick_line_color = \"orange\"\n",
    "p.yaxis.axis_label = \"Residuals\"\n",
    "p.yaxis.axis_label_text_font_style = \"italic\"\n",
    "p.yaxis.axis_label_text_color = \"#aa6666\"\n",
    "p.background_fill_color = \"beige\"\n",
    "p.background_fill_alpha = 0.5\n",
    "#p.line([2,38], [0, 0], line_dash=\"4 4\", line_width=2, color='red')\n",
    "show(p)"
   ]
  },
  {
   "cell_type": "code",
   "execution_count": 28,
   "metadata": {
    "collapsed": false
   },
   "outputs": [
    {
     "name": "stdout",
     "output_type": "stream",
     "text": [
      "Epoch 1/10\n",
      "824/824 [==============================] - 0s - loss: 36.6547     \n",
      "Epoch 2/10\n",
      "824/824 [==============================] - 0s - loss: 36.6654     \n",
      "Epoch 3/10\n",
      "824/824 [==============================] - 0s - loss: 36.6570     \n",
      "Epoch 4/10\n",
      "824/824 [==============================] - 0s - loss: 36.6674     \n",
      "Epoch 5/10\n",
      "824/824 [==============================] - 0s - loss: 36.6739     \n",
      "Epoch 6/10\n",
      "824/824 [==============================] - 0s - loss: 36.6197     \n",
      "Epoch 7/10\n",
      "824/824 [==============================] - 0s - loss: 36.6643     \n",
      "Epoch 8/10\n",
      "824/824 [==============================] - 0s - loss: 36.6379     \n",
      "Epoch 9/10\n",
      "824/824 [==============================] - 0s - loss: 36.6751     \n",
      "Epoch 10/10\n",
      "824/824 [==============================] - 0s - loss: 36.6343     \n",
      "R-squared =  0.870631867477\n"
     ]
    }
   ],
   "source": [
    "# Using make_pipeline\n",
    "from sklearn.pipeline import make_pipeline\n",
    "\n",
    "# ANOVA SVM-C\n",
    "# 1) anova filter, take 3 best ranked features\n",
    "DLRegressor = make_pipeline(scaler, model)\n",
    "DLRegressor.fit(new_data, Y)\n",
    "prediction = DLRegressor.predict(new_data)\n",
    "r_squared = r2_score(Y, prediction, multioutput='variance_weighted')\n",
    "print 'R-squared = ',r_squared"
   ]
  },
  {
   "cell_type": "markdown",
   "metadata": {},
   "source": [
    "### Save the Pipeline model for developement"
   ]
  },
  {
   "cell_type": "markdown",
   "metadata": {},
   "source": [
    "## I can save keras in pipleine"
   ]
  },
  {
   "cell_type": "code",
   "execution_count": 29,
   "metadata": {
    "collapsed": false
   },
   "outputs": [],
   "source": [
    "model.save_weights('Boston_House_Modelbest.hdf5',overwrite=True)"
   ]
  },
  {
   "cell_type": "code",
   "execution_count": 30,
   "metadata": {
    "collapsed": false
   },
   "outputs": [
    {
     "name": "stdout",
     "output_type": "stream",
     "text": [
      " =================================================================>>>>> done\n",
      "R-squared =  0.870631867477\n"
     ]
    }
   ],
   "source": [
    "# Test the model if it is work\n",
    "model.load_weights('Boston_House_Modelbest.hdf5')\n",
    "\n",
    "NewPred = model.predict(X)\n",
    "print \" =================================================================>>>>> done\"\n",
    "r_squared = r2_score(Y, NewPred, multioutput='variance_weighted')\n",
    "print 'R-squared = ',r_squared"
   ]
  },
  {
   "cell_type": "code",
   "execution_count": null,
   "metadata": {
    "collapsed": true
   },
   "outputs": [],
   "source": []
  },
  {
   "cell_type": "code",
   "execution_count": 31,
   "metadata": {
    "collapsed": false
   },
   "outputs": [
    {
     "name": "stdout",
     "output_type": "stream",
     "text": [
      "Point of training data before normalization\n",
      "[ 389.9  189.     0.   145.9   22.   944.7  755.8   91. ]\n",
      "\n",
      "The read target of the data =  82.5992248\n"
     ]
    }
   ],
   "source": [
    "# test on single data point, randomly choose point number 55\n",
    "print 'Point of training data before normalization\\n',new_data[55]\n",
    "print '\\nThe read target of the data = ', Y[55]\n"
   ]
  },
  {
   "cell_type": "code",
   "execution_count": 32,
   "metadata": {
    "collapsed": false
   },
   "outputs": [
    {
     "data": {
      "text/plain": [
       "array([ 1.05721546,  1.26087498, -0.84617062, -1.65823461,  2.62863898,\n",
       "       -0.34824772, -0.21429096,  0.7317303 ])"
      ]
     },
     "execution_count": 32,
     "metadata": {},
     "output_type": "execute_result"
    }
   ],
   "source": [
    "X[55]"
   ]
  },
  {
   "cell_type": "code",
   "execution_count": 33,
   "metadata": {
    "collapsed": false
   },
   "outputs": [
    {
     "name": "stdout",
     "output_type": "stream",
     "text": [
      " =================================================================>>>>> done\n",
      "[[ 1.05721546  1.26087498 -0.84617062 -1.65823461  2.62863898 -0.34824772\n",
      "  -0.21429096  0.7317303 ]]\n"
     ]
    }
   ],
   "source": [
    "# Test the model if it is work\n",
    "scalerTest = joblib.load('scaler.pkl')\n",
    "new_data_scaled = scalerTest.transform(new_data[55].reshape(1, -1))\n",
    "print \" =================================================================>>>>> done\"\n",
    "print new_data_scaled"
   ]
  },
  {
   "cell_type": "code",
   "execution_count": 34,
   "metadata": {
    "collapsed": false
   },
   "outputs": [
    {
     "name": "stdout",
     "output_type": "stream",
     "text": [
      "\n",
      "The Predicted target of the data =  [[ 78.29599762]]\n"
     ]
    }
   ],
   "source": [
    "NewPred = model.predict(new_data_scaled, verbose=0)\n",
    "print '\\nThe Predicted target of the data = ', NewPred"
   ]
  },
  {
   "cell_type": "markdown",
   "metadata": {},
   "source": [
    "## Conclusion "
   ]
  },
  {
   "cell_type": "code",
   "execution_count": null,
   "metadata": {
    "collapsed": true
   },
   "outputs": [],
   "source": []
  }
 ],
 "metadata": {
  "kernelspec": {
   "display_name": "Python 2",
   "language": "python",
   "name": "python2"
  },
  "language_info": {
   "codemirror_mode": {
    "name": "ipython",
    "version": 2
   },
   "file_extension": ".py",
   "mimetype": "text/x-python",
   "name": "python",
   "nbconvert_exporter": "python",
   "pygments_lexer": "ipython2",
   "version": "2.7.12"
  }
 },
 "nbformat": 4,
 "nbformat_minor": 0
}
