{
 "cells": [
  {
   "cell_type": "markdown",
   "metadata": {},
   "source": [
    "Salem Ameen, PhD student at Salford University\n",
    "\n",
    "### Concrete Compressive Strength Data Set\n",
    "\n",
    "Decision trees Regression"
   ]
  },
  {
   "cell_type": "markdown",
   "metadata": {},
   "source": [
    "# Import the Libraries"
   ]
  },
  {
   "cell_type": "code",
   "execution_count": 1,
   "metadata": {
    "collapsed": false
   },
   "outputs": [
    {
     "data": {
      "text/html": [
       "\n",
       "    <div class=\"bk-root\">\n",
       "        <a href=\"http://bokeh.pydata.org\" target=\"_blank\" class=\"bk-logo bk-logo-small bk-logo-notebook\"></a>\n",
       "        <span id=\"e467e271-e89c-44c5-836f-0d4b76777b55\">Loading BokehJS ...</span>\n",
       "    </div>"
      ]
     },
     "metadata": {},
     "output_type": "display_data"
    },
    {
     "data": {
      "application/javascript": [
       "\n",
       "(function(global) {\n",
       "  function now() {\n",
       "    return new Date();\n",
       "  }\n",
       "\n",
       "  var force = \"1\";\n",
       "\n",
       "  if (typeof (window._bokeh_onload_callbacks) === \"undefined\" || force !== \"\") {\n",
       "    window._bokeh_onload_callbacks = [];\n",
       "    window._bokeh_is_loading = undefined;\n",
       "  }\n",
       "\n",
       "\n",
       "  \n",
       "  if (typeof (window._bokeh_timeout) === \"undefined\" || force !== \"\") {\n",
       "    window._bokeh_timeout = Date.now() + 5000;\n",
       "    window._bokeh_failed_load = false;\n",
       "  }\n",
       "\n",
       "  var NB_LOAD_WARNING = {'data': {'text/html':\n",
       "     \"<div style='background-color: #fdd'>\\n\"+\n",
       "     \"<p>\\n\"+\n",
       "     \"BokehJS does not appear to have successfully loaded. If loading BokehJS from CDN, this \\n\"+\n",
       "     \"may be due to a slow or bad network connection. Possible fixes:\\n\"+\n",
       "     \"</p>\\n\"+\n",
       "     \"<ul>\\n\"+\n",
       "     \"<li>re-rerun `output_notebook()` to attempt to load from CDN again, or</li>\\n\"+\n",
       "     \"<li>use INLINE resources instead, as so:</li>\\n\"+\n",
       "     \"</ul>\\n\"+\n",
       "     \"<code>\\n\"+\n",
       "     \"from bokeh.resources import INLINE\\n\"+\n",
       "     \"output_notebook(resources=INLINE)\\n\"+\n",
       "     \"</code>\\n\"+\n",
       "     \"</div>\"}};\n",
       "\n",
       "  function display_loaded() {\n",
       "    if (window.Bokeh !== undefined) {\n",
       "      Bokeh.$(\"#e467e271-e89c-44c5-836f-0d4b76777b55\").text(\"BokehJS successfully loaded.\");\n",
       "    } else if (Date.now() < window._bokeh_timeout) {\n",
       "      setTimeout(display_loaded, 100)\n",
       "    }\n",
       "  }\n",
       "\n",
       "  function run_callbacks() {\n",
       "    window._bokeh_onload_callbacks.forEach(function(callback) { callback() });\n",
       "    delete window._bokeh_onload_callbacks\n",
       "    console.info(\"Bokeh: all callbacks have finished\");\n",
       "  }\n",
       "\n",
       "  function load_libs(js_urls, callback) {\n",
       "    window._bokeh_onload_callbacks.push(callback);\n",
       "    if (window._bokeh_is_loading > 0) {\n",
       "      console.log(\"Bokeh: BokehJS is being loaded, scheduling callback at\", now());\n",
       "      return null;\n",
       "    }\n",
       "    if (js_urls == null || js_urls.length === 0) {\n",
       "      run_callbacks();\n",
       "      return null;\n",
       "    }\n",
       "    console.log(\"Bokeh: BokehJS not loaded, scheduling load and callback at\", now());\n",
       "    window._bokeh_is_loading = js_urls.length;\n",
       "    for (var i = 0; i < js_urls.length; i++) {\n",
       "      var url = js_urls[i];\n",
       "      var s = document.createElement('script');\n",
       "      s.src = url;\n",
       "      s.async = false;\n",
       "      s.onreadystatechange = s.onload = function() {\n",
       "        window._bokeh_is_loading--;\n",
       "        if (window._bokeh_is_loading === 0) {\n",
       "          console.log(\"Bokeh: all BokehJS libraries loaded\");\n",
       "          run_callbacks()\n",
       "        }\n",
       "      };\n",
       "      s.onerror = function() {\n",
       "        console.warn(\"failed to load library \" + url);\n",
       "      };\n",
       "      console.log(\"Bokeh: injecting script tag for BokehJS library: \", url);\n",
       "      document.getElementsByTagName(\"head\")[0].appendChild(s);\n",
       "    }\n",
       "  };var element = document.getElementById(\"e467e271-e89c-44c5-836f-0d4b76777b55\");\n",
       "  if (element == null) {\n",
       "    console.log(\"Bokeh: ERROR: autoload.js configured with elementid 'e467e271-e89c-44c5-836f-0d4b76777b55' but no matching script tag was found. \")\n",
       "    return false;\n",
       "  }\n",
       "\n",
       "  var js_urls = ['https://cdn.pydata.org/bokeh/release/bokeh-0.12.2.min.js', 'https://cdn.pydata.org/bokeh/release/bokeh-widgets-0.12.2.min.js', 'https://cdn.pydata.org/bokeh/release/bokeh-compiler-0.12.2.min.js'];\n",
       "\n",
       "  var inline_js = [\n",
       "    function(Bokeh) {\n",
       "      Bokeh.set_log_level(\"info\");\n",
       "    },\n",
       "    \n",
       "    function(Bokeh) {\n",
       "      \n",
       "      Bokeh.$(\"#e467e271-e89c-44c5-836f-0d4b76777b55\").text(\"BokehJS is loading...\");\n",
       "    },\n",
       "    function(Bokeh) {\n",
       "      console.log(\"Bokeh: injecting CSS: https://cdn.pydata.org/bokeh/release/bokeh-0.12.2.min.css\");\n",
       "      Bokeh.embed.inject_css(\"https://cdn.pydata.org/bokeh/release/bokeh-0.12.2.min.css\");\n",
       "      console.log(\"Bokeh: injecting CSS: https://cdn.pydata.org/bokeh/release/bokeh-widgets-0.12.2.min.css\");\n",
       "      Bokeh.embed.inject_css(\"https://cdn.pydata.org/bokeh/release/bokeh-widgets-0.12.2.min.css\");\n",
       "    }\n",
       "  ];\n",
       "\n",
       "  function run_inline_js() {\n",
       "    \n",
       "    if ((window.Bokeh !== undefined) || (force === \"1\")) {\n",
       "      for (var i = 0; i < inline_js.length; i++) {\n",
       "        inline_js[i](window.Bokeh);\n",
       "      }if (force === \"1\") {\n",
       "        display_loaded();\n",
       "      }} else if (Date.now() < window._bokeh_timeout) {\n",
       "      setTimeout(run_inline_js, 100);\n",
       "    } else if (!window._bokeh_failed_load) {\n",
       "      console.log(\"Bokeh: BokehJS failed to load within specified timeout.\");\n",
       "      window._bokeh_failed_load = true;\n",
       "    } else if (!force) {\n",
       "      var cell = $(\"#e467e271-e89c-44c5-836f-0d4b76777b55\").parents('.cell').data().cell;\n",
       "      cell.output_area.append_execute_result(NB_LOAD_WARNING)\n",
       "    }\n",
       "\n",
       "  }\n",
       "\n",
       "  if (window._bokeh_is_loading === 0) {\n",
       "    console.log(\"Bokeh: BokehJS loaded, going straight to plotting\");\n",
       "    run_inline_js();\n",
       "  } else {\n",
       "    load_libs(js_urls, function() {\n",
       "      console.log(\"Bokeh: BokehJS plotting callback run at\", now());\n",
       "      run_inline_js();\n",
       "    });\n",
       "  }\n",
       "}(this));"
      ]
     },
     "metadata": {},
     "output_type": "display_data"
    }
   ],
   "source": [
    "import numpy as np\n",
    "import pandas\n",
    "from numpy import *\n",
    "import time\n",
    "import sys\n",
    "import pandas as pd\n",
    "import matplotlib.pyplot as plt\n",
    "from sklearn import feature_selection\n",
    "from sklearn.tree import DecisionTreeRegressor\n",
    "from sklearn.learning_curve import learning_curve, validation_curve\n",
    "from sklearn.cross_validation import cross_val_predict\n",
    "from sklearn import metrics, grid_search, cross_validation\n",
    "from IPython.display import set_matplotlib_formats\n",
    "from bokeh.plotting import figure, show, output_notebook\n",
    "from sklearn.grid_search import GridSearchCV, RandomizedSearchCV\n",
    "from sklearn.metrics import r2_score\n",
    "from bokeh.layouts import gridplot\n",
    "output_notebook()\n",
    "set_matplotlib_formats('png', 'pdf')\n",
    "%matplotlib inline\n",
    "plt.rcParams['figure.figsize'] = (6, 6)"
   ]
  },
  {
   "cell_type": "markdown",
   "metadata": {},
   "source": [
    "# Load data"
   ]
  },
  {
   "cell_type": "markdown",
   "metadata": {},
   "source": [
    "In the previous file we have not change the data as there is no missing value or add any new parameters so it can be downloaded from the web directly. "
   ]
  },
  {
   "cell_type": "code",
   "execution_count": 2,
   "metadata": {
    "collapsed": false
   },
   "outputs": [
    {
     "name": "stdout",
     "output_type": "stream",
     "text": [
      "Number of examples 1030\n"
     ]
    }
   ],
   "source": [
    "names = ['Cement','BlastFurnace','Fly_Ash','Water','Superplasticizer','CoarseAggregate','Aggregate','day','Concrete']\n",
    "feature_names = names\n",
    "feature_cols = names\n",
    "\n",
    "data = pd.read_excel('Concrete_Data.xls', sep='%s')\n",
    "\n",
    "from sklearn import preprocessing\n",
    "\n",
    "def number_encode_features(df):\n",
    "    result = df.copy()\n",
    "    encoders = {}\n",
    "    for column in result.columns:\n",
    "        if result.dtypes[column] == np.object:\n",
    "            encoders[column] = preprocessing.LabelEncoder()\n",
    "            result[column] = encoders[column].fit_transform(result[column])\n",
    "    return result, encoders\n",
    "\n",
    "data, _ = number_encode_features(data)\n",
    "\n",
    "dataset = data.values\n",
    "X = dataset[:,0:8]\n",
    "Y = dataset[:,8]\n",
    "print 'Number of examples',len(X)"
   ]
  },
  {
   "cell_type": "code",
   "execution_count": 3,
   "metadata": {
    "collapsed": false
   },
   "outputs": [
    {
     "name": "stdout",
     "output_type": "stream",
     "text": [
      "Number of training examples 824\n",
      "Number of validation examples 206\n"
     ]
    }
   ],
   "source": [
    "# Make developement dataset for genrilization and final testing\n",
    "from sklearn.cross_validation import train_test_split\n",
    "# Extracting 20% testing data\n",
    "X_train, X_test, y_train, y_test = train_test_split(\n",
    "    X, Y, test_size=0.20, random_state=0)\n",
    "X = X_train\n",
    "Y = y_train\n",
    "new_data      = X_train\n",
    "new_test_data = X_test\n",
    "print 'Number of training examples',len(X_train)\n",
    "print 'Number of validation examples',len(X_test)"
   ]
  },
  {
   "cell_type": "markdown",
   "metadata": {},
   "source": [
    "Number of training data is very small so we need to use cross validation instead of spareate another validation data."
   ]
  },
  {
   "cell_type": "markdown",
   "metadata": {},
   "source": [
    "From the previous visulization the data has no missing value but has many outlier and some sparisty"
   ]
  },
  {
   "cell_type": "markdown",
   "metadata": {},
   "source": [
    "# Ranking of the feature's importance to the target"
   ]
  },
  {
   "cell_type": "code",
   "execution_count": 4,
   "metadata": {
    "collapsed": false
   },
   "outputs": [
    {
     "name": "stdout",
     "output_type": "stream",
     "text": [
      "Cement \t0.570609849298\n",
      "BlastFurnace \t0.387739159115\n",
      "Fly_Ash \t0.150107863699\n",
      "Water \t0.509586363383\n",
      "Superplasticizer \t0.373836078069\n",
      "CoarseAggregate \t0.526674026058\n",
      "Aggregate \t0.536970298325\n",
      "day \t0.408463964754\n",
      "Concrete \t1.0\n"
     ]
    }
   ],
   "source": [
    "# Using just correlation coefficient even in prevoius file we show them using data frame\n",
    "for col in feature_cols:\n",
    "    lm = DecisionTreeRegressor()\n",
    "    lm.fit(data[[col]], data['Concrete'])\n",
    "    print col,'\\t', lm.score(data[[col]], data['Concrete'])"
   ]
  },
  {
   "cell_type": "code",
   "execution_count": 5,
   "metadata": {
    "collapsed": false
   },
   "outputs": [
    {
     "name": "stdout",
     "output_type": "stream",
     "text": [
      "Feature Name      Score         Pvalue\n",
      "Cement \t\t338.725793692 \t1.32345794884e-65\n",
      "BlastFurnace \t\t19.0325717427 \t1.41457498978e-05\n",
      "Fly_Ash \t\t11.6269492436 \t0.000675283559617\n",
      "Water \t\t94.1187973071 \t2.3660726996e-21\n",
      "Superplasticizer \t\t159.109321731 \t5.07908923638e-34\n",
      "CoarseAggregate \t\t28.7447095672 \t1.01959722248e-07\n",
      "Aggregate \t\t29.5829376115 \t6.69468148289e-08\n",
      "day \t\t124.673209261 \t2.10314421454e-27\n",
      "Concrete \t\t-2.31485020847e+18 \t1.0\n"
     ]
    }
   ],
   "source": [
    "# Randing the important features to the target\n",
    "model = feature_selection.SelectKBest(score_func=feature_selection.f_regression,k=4)\n",
    "results = model.fit(data[feature_cols], data['Concrete'])\n",
    "k=0\n",
    "print 'Feature Name      Score         Pvalue'\n",
    "for feat in feature_cols:\n",
    "    print feat,'\\t\\t',results.scores_[k],'\\t',results.pvalues_[k]\n",
    "    k=k+1\n"
   ]
  },
  {
   "cell_type": "markdown",
   "metadata": {},
   "source": [
    "# Set the parameters for cross validation"
   ]
  },
  {
   "cell_type": "code",
   "execution_count": 6,
   "metadata": {
    "collapsed": true
   },
   "outputs": [],
   "source": [
    "num_folds = 10\n",
    "num_instances = len(X)\n",
    "seed = 7\n",
    "kfold = cross_validation.KFold(n=num_instances, n_folds=num_folds, random_state=seed)"
   ]
  },
  {
   "cell_type": "markdown",
   "metadata": {},
   "source": [
    " # Set the parameters for bias-variance dilemma"
   ]
  },
  {
   "cell_type": "code",
   "execution_count": 7,
   "metadata": {
    "collapsed": false
   },
   "outputs": [],
   "source": [
    "def plot_learning_curve(estimator, title, X, y, ylim=None, cv=None,\n",
    "                        n_jobs=1, train_sizes=np.linspace(.1, 1.0, 5)):\n",
    "    plt.figure()\n",
    "    plt.title(title)\n",
    "    if ylim is not None:\n",
    "        plt.ylim(*ylim)\n",
    "    plt.xlabel(\"Training examples\")\n",
    "    plt.ylabel(\"Score\")\n",
    "    train_sizes, train_scores, test_scores = learning_curve(\n",
    "        estimator, X, y, cv=cv, n_jobs=n_jobs, train_sizes=train_sizes)\n",
    "    train_scores_mean = np.mean(train_scores, axis=1)\n",
    "    train_scores_std = np.std(train_scores, axis=1)\n",
    "    test_scores_mean = np.mean(test_scores, axis=1)\n",
    "    test_scores_std = np.std(test_scores, axis=1)\n",
    "    plt.grid()\n",
    "\n",
    "    plt.fill_between(train_sizes, train_scores_mean - train_scores_std,\n",
    "                     train_scores_mean + train_scores_std, alpha=0.1,\n",
    "                     color=\"r\")\n",
    "    plt.fill_between(train_sizes, test_scores_mean - test_scores_std,\n",
    "                     test_scores_mean + test_scores_std, alpha=0.1, color=\"g\")\n",
    "    plt.plot(train_sizes, train_scores_mean, 'o-', color=\"r\",\n",
    "             label=\"Training score\")\n",
    "    plt.plot(train_sizes, test_scores_mean, 'o-', color=\"g\",\n",
    "             label=\"Cross-validation score\")\n",
    "\n",
    "    plt.legend(loc=\"best\")\n",
    "    return plt"
   ]
  },
  {
   "cell_type": "markdown",
   "metadata": {},
   "source": [
    "# 1. DecisionTreeRegressor  with Bagging Regression"
   ]
  },
  {
   "cell_type": "markdown",
   "metadata": {},
   "source": [
    "Decision trees or the Classification and Regression Trees (CART as they are know) use the training data to select the best points to split the data in order to minimize a cost metric. The default cost metric for regression decision trees is the mean squared error, specified in the criterion parameter."
   ]
  },
  {
   "cell_type": "markdown",
   "metadata": {},
   "source": [
    "## Validation curve"
   ]
  },
  {
   "cell_type": "markdown",
   "metadata": {},
   "source": [
    "choosing multiple hyperparameters of an estimator "
   ]
  },
  {
   "cell_type": "code",
   "execution_count": 8,
   "metadata": {
    "collapsed": false
   },
   "outputs": [
    {
     "data": {
      "text/plain": [
       "['presort',\n",
       " 'splitter',\n",
       " 'max_leaf_nodes',\n",
       " 'min_samples_leaf',\n",
       " 'min_samples_split',\n",
       " 'min_weight_fraction_leaf',\n",
       " 'criterion',\n",
       " 'random_state',\n",
       " 'max_features',\n",
       " 'max_depth']"
      ]
     },
     "execution_count": 8,
     "metadata": {},
     "output_type": "execute_result"
    }
   ],
   "source": [
    "from sklearn.tree import DecisionTreeRegressor\n",
    "estimator = DecisionTreeRegressor()\n",
    "estimator.get_params().keys()"
   ]
  },
  {
   "cell_type": "code",
   "execution_count": 9,
   "metadata": {
    "collapsed": false
   },
   "outputs": [
    {
     "data": {
      "text/plain": [
       "['warm_start',\n",
       " 'max_samples',\n",
       " 'base_estimator__min_samples_split',\n",
       " 'base_estimator__max_depth',\n",
       " 'verbose',\n",
       " 'random_state',\n",
       " 'bootstrap',\n",
       " 'base_estimator',\n",
       " 'base_estimator__criterion',\n",
       " 'base_estimator__max_features',\n",
       " 'base_estimator__random_state',\n",
       " 'n_estimators',\n",
       " 'base_estimator__min_weight_fraction_leaf',\n",
       " 'n_jobs',\n",
       " 'bootstrap_features',\n",
       " 'oob_score',\n",
       " 'base_estimator__splitter',\n",
       " 'max_features',\n",
       " 'base_estimator__max_leaf_nodes',\n",
       " 'base_estimator__min_samples_leaf',\n",
       " 'base_estimator__presort']"
      ]
     },
     "execution_count": 9,
     "metadata": {},
     "output_type": "execute_result"
    }
   ],
   "source": [
    "from sklearn.tree import DecisionTreeRegressor\n",
    "from sklearn.ensemble import BaggingRegressor\n",
    "estimator = BaggingRegressor(DecisionTreeRegressor())\n",
    "estimator.get_params().keys()"
   ]
  },
  {
   "cell_type": "code",
   "execution_count": 10,
   "metadata": {
    "collapsed": false
   },
   "outputs": [
    {
     "data": {
      "image/png": "[encoded data removed]",
      "text/plain": [
       "<matplotlib.figure.Figure at 0x7f94e24a20d0>"
      ]
     },
     "metadata": {},
     "output_type": "display_data"
    }
   ],
   "source": [
    "# For parametr alpha\n",
    "#param_range = np.logspace(-10.0, 10.0)\n",
    "#param_range = np.linspace(1,50,100)\n",
    "param_range = np.arange(1,50) # generate integer numbers\n",
    "\n",
    "train_scores, test_scores = validation_curve(\n",
    "    DecisionTreeRegressor(), X, Y, param_name=\"max_depth\", param_range=param_range,\n",
    "    cv=num_folds,  n_jobs=-1)\n",
    "train_scores_mean = np.mean(train_scores, axis=1)\n",
    "train_scores_std = np.std(train_scores, axis=1)\n",
    "test_scores_mean = np.mean(test_scores, axis=1)\n",
    "test_scores_std = np.std(test_scores, axis=1)\n",
    "\n",
    "plt.title(\"Validation Curve with DecisionTreeRegressor\")\n",
    "plt.xlabel(\"max_depth\")\n",
    "plt.ylabel(\"Score\")\n",
    "plt.ylim(0.4, 1.0)\n",
    "plt.plot(param_range, train_scores_mean, label=\"Training score\", color=\"r\")\n",
    "plt.fill_between(param_range, train_scores_mean - train_scores_std,\n",
    "                 train_scores_mean + train_scores_std, alpha=0.2, color=\"r\")\n",
    "plt.plot(param_range, test_scores_mean, label=\"Cross-validation score\",\n",
    "             color=\"g\")\n",
    "plt.fill_between(param_range, test_scores_mean - test_scores_std,\n",
    "                 test_scores_mean + test_scores_std, alpha=0.2, color=\"g\")\n",
    "plt.legend(loc=\"best\")\n",
    "plt.show()"
   ]
  },
  {
   "cell_type": "markdown",
   "metadata": {},
   "source": [
    "more that 5 is the best of number of K"
   ]
  },
  {
   "cell_type": "code",
   "execution_count": 11,
   "metadata": {
    "collapsed": false
   },
   "outputs": [
    {
     "data": {
      "image/png": "[encoded data removed]",
      "text/plain": [
       "<matplotlib.figure.Figure at 0x7f94de18eb90>"
      ]
     },
     "metadata": {},
     "output_type": "display_data"
    }
   ],
   "source": [
    "# For parametr alpha\n",
    "#param_range = np.logspace(-10.0, 10.0)\n",
    "#param_range = np.linspace(1,50,100)\n",
    "param_range = np.arange(1,10) # generate integer numbers\n",
    "\n",
    "train_scores, test_scores = validation_curve(\n",
    "    DecisionTreeRegressor(), X, Y, param_name=\"min_samples_split\", param_range=param_range,\n",
    "    cv=num_folds,  n_jobs=-1)\n",
    "train_scores_mean = np.mean(train_scores, axis=1)\n",
    "train_scores_std = np.std(train_scores, axis=1)\n",
    "test_scores_mean = np.mean(test_scores, axis=1)\n",
    "test_scores_std = np.std(test_scores, axis=1)\n",
    "\n",
    "plt.title(\"Validation Curve with DecisionTreeRegressor\")\n",
    "plt.xlabel(\"min_samples_split\")\n",
    "plt.ylabel(\"Score\")\n",
    "plt.ylim(0.4, 1.0)\n",
    "plt.plot(param_range, train_scores_mean, label=\"Training score\", color=\"r\")\n",
    "plt.fill_between(param_range, train_scores_mean - train_scores_std,\n",
    "                 train_scores_mean + train_scores_std, alpha=0.2, color=\"r\")\n",
    "plt.plot(param_range, test_scores_mean, label=\"Cross-validation score\",\n",
    "             color=\"g\")\n",
    "plt.fill_between(param_range, test_scores_mean - test_scores_std,\n",
    "                 test_scores_mean + test_scores_std, alpha=0.2, color=\"g\")\n",
    "plt.legend(loc=\"best\")\n",
    "plt.show()"
   ]
  },
  {
   "cell_type": "markdown",
   "metadata": {},
   "source": [
    "min_samples_split =2 (The defualt) is the best"
   ]
  },
  {
   "cell_type": "code",
   "execution_count": 12,
   "metadata": {
    "collapsed": false
   },
   "outputs": [
    {
     "data": {
      "image/png": "[encoded data removed]",
      "text/plain": [
       "<matplotlib.figure.Figure at 0x7f94e24a2150>"
      ]
     },
     "metadata": {},
     "output_type": "display_data"
    }
   ],
   "source": [
    "# For parametr alpha\n",
    "#param_range = np.logspace(-10.0, 10.0)\n",
    "#param_range = np.linspace(1,50,100)\n",
    "param_range = np.arange(1,10) # generate integer numbers\n",
    "\n",
    "train_scores, test_scores = validation_curve(\n",
    "    DecisionTreeRegressor(), X, Y, param_name=\"min_samples_leaf\", param_range=param_range,\n",
    "    cv=num_folds,  n_jobs=-1)\n",
    "train_scores_mean = np.mean(train_scores, axis=1)\n",
    "train_scores_std = np.std(train_scores, axis=1)\n",
    "test_scores_mean = np.mean(test_scores, axis=1)\n",
    "test_scores_std = np.std(test_scores, axis=1)\n",
    "\n",
    "plt.title(\"Validation Curve with DecisionTreeRegressor\")\n",
    "plt.xlabel(\"min_samples_leaf\")\n",
    "plt.ylabel(\"Score\")\n",
    "plt.ylim(0.4, 1.0)\n",
    "plt.plot(param_range, train_scores_mean, label=\"Training score\", color=\"r\")\n",
    "plt.fill_between(param_range, train_scores_mean - train_scores_std,\n",
    "                 train_scores_mean + train_scores_std, alpha=0.2, color=\"r\")\n",
    "plt.plot(param_range, test_scores_mean, label=\"Cross-validation score\",\n",
    "             color=\"g\")\n",
    "plt.fill_between(param_range, test_scores_mean - test_scores_std,\n",
    "                 test_scores_mean + test_scores_std, alpha=0.2, color=\"g\")\n",
    "plt.legend(loc=\"best\")\n",
    "plt.show()"
   ]
  },
  {
   "cell_type": "markdown",
   "metadata": {},
   "source": [
    "min_samples_leaf = 2 is the best"
   ]
  },
  {
   "cell_type": "markdown",
   "metadata": {},
   "source": [
    "## Grid search and/or Random search to determine best compination of parameters"
   ]
  },
  {
   "cell_type": "code",
   "execution_count": 13,
   "metadata": {
    "collapsed": false
   },
   "outputs": [
    {
     "name": "stdout",
     "output_type": "stream",
     "text": [
      "Hyperparameter optimization using GridSearchCV...\n",
      "Parameters with rank: 1\n",
      "Mean validation score: 0.8953 (std: 0.0327)\n",
      "Parameters: {'n_estimators': 8, 'bootstrap': True}\n",
      "\n",
      "Parameters with rank: 2\n",
      "Mean validation score: 0.8911 (std: 0.0327)\n",
      "Parameters: {'n_estimators': 9, 'bootstrap': True}\n",
      "\n",
      "Parameters with rank: 3\n",
      "Mean validation score: 0.8878 (std: 0.0367)\n",
      "Parameters: {'n_estimators': 7, 'bootstrap': True}\n",
      "\n",
      "Parameters with rank: 4\n",
      "Mean validation score: 0.8863 (std: 0.0278)\n",
      "Parameters: {'n_estimators': 6, 'bootstrap': True}\n",
      "\n",
      "Parameters with rank: 5\n",
      "Mean validation score: 0.8847 (std: 0.0339)\n",
      "Parameters: {'n_estimators': 5, 'bootstrap': True}\n",
      "\n",
      "+++++++++++++++++++++++++++++++++++++++++++++++\n",
      "Hyperparameter optimization using RandomizedSearchCV\n",
      "Parameters with rank: 1\n",
      "Mean validation score: 0.8475 (std: 0.0655)\n",
      "Parameters: {'n_estimators': 15, 'bootstrap': False}\n",
      "\n",
      "Parameters with rank: 2\n",
      "Mean validation score: 0.8445 (std: 0.0629)\n",
      "Parameters: {'n_estimators': 10, 'bootstrap': False}\n",
      "\n"
     ]
    }
   ],
   "source": [
    "# Utility function to report optimal parameters\n",
    "from operator import itemgetter\n",
    "def report(grid_scores, n_top=5):\n",
    "    params = None\n",
    "    top_scores = sorted(grid_scores, key=itemgetter(1), reverse=True)[:n_top]\n",
    "    for i, score in enumerate(top_scores):\n",
    "        print(\"Parameters with rank: {0}\".format(i + 1))\n",
    "        print(\"Mean validation score: {0:.4f} (std: {1:.4f})\".format(\n",
    "              score.mean_validation_score, np.std(score.cv_validation_scores)))\n",
    "        print(\"Parameters: {0}\".format(score.parameters))\n",
    "        print(\"\")\n",
    "        \n",
    "        if params == None:\n",
    "            params = score.parameters\n",
    "    \n",
    "    return params\n",
    "\n",
    "# The most common value for the max number of features to look at in each split is sqrt(# of features)\n",
    "sqrtfeat = np.sqrt(X.shape[1]) \n",
    "grid_test1 = { \"n_estimators\"      : np.arange(1,10),\n",
    "             \"bootstrap\"      : [ True, False]}\n",
    "\n",
    "# Large randomized test using max_depth to control tree size (5000 possible combinations)\n",
    "random_test1 = { \"n_estimators\"      : [1,5,10,15,20,25],\n",
    "                \"bootstrap\"      : [ True, False]}\n",
    "\n",
    "\n",
    "forest = BaggingRegressor()\n",
    "\n",
    "print \"Hyperparameter optimization using GridSearchCV...\"\n",
    "grid_search = GridSearchCV(forest, grid_test1, n_jobs=-1, cv=num_folds)\n",
    "grid_search.fit(X, Y)\n",
    "best_params_from_grid_search = report(grid_search.grid_scores_)\n",
    "print '+++++++++++++++++++++++++++++++++++++++++++++++'\n",
    "print \"Hyperparameter optimization using RandomizedSearchCV\"\n",
    "grid_search = RandomizedSearchCV(forest, random_test1, n_jobs=-1, cv=num_folds, n_iter=2)\n",
    "grid_search.fit(X, Y)\n",
    "best_params_from_rand_search1 = report(grid_search.grid_scores_)"
   ]
  },
  {
   "cell_type": "markdown",
   "metadata": {},
   "source": [
    "Best Parameters: {'n_estimators': 5, 'bootstrap': True}\n"
   ]
  },
  {
   "cell_type": "markdown",
   "metadata": {},
   "source": [
    "## Learning Curve "
   ]
  },
  {
   "cell_type": "markdown",
   "metadata": {},
   "source": [
    "In essence, what we’re doing it training the exact same model with increasingly large fractions of our total training data, and plotting the error of the training and test sets at each step."
   ]
  },
  {
   "cell_type": "code",
   "execution_count": 14,
   "metadata": {
    "collapsed": false
   },
   "outputs": [
    {
     "data": {
      "image/png": "[encoded data removed]",
      "text/plain": [
       "<matplotlib.figure.Figure at 0x7f94ddd2af90>"
      ]
     },
     "metadata": {},
     "output_type": "display_data"
    }
   ],
   "source": [
    "from sklearn.tree import DecisionTreeRegressor\n",
    "\n",
    "model = BaggingRegressor(n_estimators = 5 )\n",
    "title = \"Learning Curves (Bagging DecisionTreeRegressor Refression)\"\n",
    "cv = cross_validation.ShuffleSplit(X.shape[0], n_iter=100,\n",
    "                                   test_size=0.2, random_state=0)\n",
    "plot_learning_curve(model, title, X, Y, ylim=(0.2, 1.01), cv=cv, n_jobs=-1)\n",
    "plt.show()"
   ]
  },
  {
   "cell_type": "code",
   "execution_count": 15,
   "metadata": {
    "collapsed": false
   },
   "outputs": [
    {
     "name": "stdout",
     "output_type": "stream",
     "text": [
      "train_sizes =  [ 50  80 110]\n",
      " training scores\n",
      " 50 training sizees\n",
      "0.892373368398 ± 0.0327184865191\n",
      " 80 training sizees\n",
      "0.912721205136 ± 0.0280682249078\n",
      " 110 training sizees\n",
      "0.925773454689 ± 0.0178788955631\n",
      "\n",
      " validation scores\n",
      " 50 validation scores\n",
      "0.518330862431 ± 0.101743927528\n",
      " 80 validation scores\n",
      "0.61951393841 ± 0.0792300638592\n",
      " 110 validation scores\n",
      "0.687981416147 ± 0.0520841398277\n"
     ]
    }
   ],
   "source": [
    "# More data from learning curve to show the process of building the model\n",
    "train_sizes, train_scores, valid_scores = learning_curve(\n",
    "     model, X, Y, train_sizes=[50, 80, 110], cv=cv, n_jobs=4)\n",
    "\n",
    "print 'train_sizes = ', train_sizes\n",
    "\n",
    "print ' training scores'\n",
    "print ' 50 training sizees'\n",
    "print train_scores[0].mean(),'±',train_scores[0].std()\n",
    "print ' 80 training sizees'\n",
    "print train_scores[1].mean(),'±',train_scores[1].std()\n",
    "print ' 110 training sizees'\n",
    "print train_scores[2].mean(),'±',train_scores[2].std()\n",
    "\n",
    "print '\\n validation scores'\n",
    "print ' 50 validation scores'\n",
    "print valid_scores[0].mean(),'±',valid_scores[0].std()\n",
    "print ' 80 validation scores'\n",
    "print valid_scores[1].mean(),'±',valid_scores[1].std()\n",
    "print ' 110 validation scores'\n",
    "print valid_scores[2].mean(),'±',valid_scores[2].std()"
   ]
  },
  {
   "cell_type": "markdown",
   "metadata": {},
   "source": [
    "## Cross validation"
   ]
  },
  {
   "cell_type": "code",
   "execution_count": 16,
   "metadata": {
    "collapsed": false
   },
   "outputs": [
    {
     "name": "stdout",
     "output_type": "stream",
     "text": [
      "Scoring according to mean_squared_error\n",
      "[-41.76837561 -23.32373878 -25.75189422 -26.9202324  -45.60792918\n",
      " -20.53590092 -42.85774532 -41.15731392 -31.6664037  -32.15288063]\n",
      "\n",
      " Mean      Standard deviation\n",
      "-33.17      8.60\n"
     ]
    },
    {
     "data": {
      "text/plain": [
       "BaggingRegressor(base_estimator=None, bootstrap=True,\n",
       "         bootstrap_features=False, max_features=1.0, max_samples=1.0,\n",
       "         n_estimators=5, n_jobs=1, oob_score=False, random_state=None,\n",
       "         verbose=0, warm_start=False)"
      ]
     },
     "execution_count": 16,
     "metadata": {},
     "output_type": "execute_result"
    }
   ],
   "source": [
    "scoring = 'mean_squared_error'\n",
    "results = cross_validation.cross_val_score(model, X, Y, cv=kfold, scoring=scoring)\n",
    "print 'Scoring according to mean_squared_error'\n",
    "print results\n",
    "print '\\n Mean      Standard deviation'\n",
    "print(\"%.2f      %.2f\" % (results.mean(), results.std()))\n",
    "## Fit the model\n",
    "model.fit(X,Y)\n"
   ]
  },
  {
   "cell_type": "markdown",
   "metadata": {},
   "source": [
    "## Coefficients Of Determination {Calculating R^2}\n",
    "\n",
    "R^2, Close to one is better"
   ]
  },
  {
   "cell_type": "code",
   "execution_count": 17,
   "metadata": {
    "collapsed": false
   },
   "outputs": [
    {
     "name": "stdout",
     "output_type": "stream",
     "text": [
      "R-squared =  0.88445654913\n"
     ]
    }
   ],
   "source": [
    "predicted = cross_val_predict(model, X, Y, cv=kfold)\n",
    "r_squared = r2_score(Y, predicted, multioutput='variance_weighted')\n",
    "print 'R-squared = ',r_squared"
   ]
  },
  {
   "cell_type": "markdown",
   "metadata": {},
   "source": [
    "## Residual Plot"
   ]
  },
  {
   "cell_type": "code",
   "execution_count": 18,
   "metadata": {
    "collapsed": false
   },
   "outputs": [
    {
     "data": {
      "image/png": "[encoded data removed]",
      "text/plain": [
       "<matplotlib.figure.Figure at 0x7f94dc3fe4d0>"
      ]
     },
     "metadata": {},
     "output_type": "display_data"
    }
   ],
   "source": [
    "predicted = cross_val_predict(model, X, Y, cv=kfold)\n",
    "fig, ax = plt.subplots()\n",
    "ax.scatter(Y, predicted)\n",
    "ax.plot([Y.min(), Y.max()], [Y.min(), Y.max()], 'k--', lw=4)\n",
    "ax.set_xlabel('Measured')\n",
    "ax.set_ylabel('Predicted')\n",
    "plt.show()"
   ]
  },
  {
   "cell_type": "code",
   "execution_count": 19,
   "metadata": {
    "collapsed": false
   },
   "outputs": [
    {
     "data": {
      "text/html": [
       "\n",
       "\n",
       "    <div class=\"bk-root\">\n",
       "        <div class=\"plotdiv\" id=\"6329b8ee-539e-482b-b09b-9e0a68e078fe\"></div>\n",
       "    </div>\n",
       "<script type=\"text/javascript\">\n",
       "  \n",
       "  (function(global) {\n",
       "    function now() {\n",
       "      return new Date();\n",
       "    }\n",
       "  \n",
       "    var force = \"\";\n",
       "  \n",
       "    if (typeof (window._bokeh_onload_callbacks) === \"undefined\" || force !== \"\") {\n",
       "      window._bokeh_onload_callbacks = [];\n",
       "      window._bokeh_is_loading = undefined;\n",
       "    }\n",
       "  \n",
       "  \n",
       "    \n",
       "    if (typeof (window._bokeh_timeout) === \"undefined\" || force !== \"\") {\n",
       "      window._bokeh_timeout = Date.now() + 0;\n",
       "      window._bokeh_failed_load = false;\n",
       "    }\n",
       "  \n",
       "    var NB_LOAD_WARNING = {'data': {'text/html':\n",
       "       \"<div style='background-color: #fdd'>\\n\"+\n",
       "       \"<p>\\n\"+\n",
       "       \"BokehJS does not appear to have successfully loaded. If loading BokehJS from CDN, this \\n\"+\n",
       "       \"may be due to a slow or bad network connection. Possible fixes:\\n\"+\n",
       "       \"</p>\\n\"+\n",
       "       \"<ul>\\n\"+\n",
       "       \"<li>re-rerun `output_notebook()` to attempt to load from CDN again, or</li>\\n\"+\n",
       "       \"<li>use INLINE resources instead, as so:</li>\\n\"+\n",
       "       \"</ul>\\n\"+\n",
       "       \"<code>\\n\"+\n",
       "       \"from bokeh.resources import INLINE\\n\"+\n",
       "       \"output_notebook(resources=INLINE)\\n\"+\n",
       "       \"</code>\\n\"+\n",
       "       \"</div>\"}};\n",
       "  \n",
       "    function display_loaded() {\n",
       "      if (window.Bokeh !== undefined) {\n",
       "        Bokeh.$(\"#6329b8ee-539e-482b-b09b-9e0a68e078fe\").text(\"BokehJS successfully loaded.\");\n",
       "      } else if (Date.now() < window._bokeh_timeout) {\n",
       "        setTimeout(display_loaded, 100)\n",
       "      }\n",
       "    }\n",
       "  \n",
       "    function run_callbacks() {\n",
       "      window._bokeh_onload_callbacks.forEach(function(callback) { callback() });\n",
       "      delete window._bokeh_onload_callbacks\n",
       "      console.info(\"Bokeh: all callbacks have finished\");\n",
       "    }\n",
       "  \n",
       "    function load_libs(js_urls, callback) {\n",
       "      window._bokeh_onload_callbacks.push(callback);\n",
       "      if (window._bokeh_is_loading > 0) {\n",
       "        console.log(\"Bokeh: BokehJS is being loaded, scheduling callback at\", now());\n",
       "        return null;\n",
       "      }\n",
       "      if (js_urls == null || js_urls.length === 0) {\n",
       "        run_callbacks();\n",
       "        return null;\n",
       "      }\n",
       "      console.log(\"Bokeh: BokehJS not loaded, scheduling load and callback at\", now());\n",
       "      window._bokeh_is_loading = js_urls.length;\n",
       "      for (var i = 0; i < js_urls.length; i++) {\n",
       "        var url = js_urls[i];\n",
       "        var s = document.createElement('script');\n",
       "        s.src = url;\n",
       "        s.async = false;\n",
       "        s.onreadystatechange = s.onload = function() {\n",
       "          window._bokeh_is_loading--;\n",
       "          if (window._bokeh_is_loading === 0) {\n",
       "            console.log(\"Bokeh: all BokehJS libraries loaded\");\n",
       "            run_callbacks()\n",
       "          }\n",
       "        };\n",
       "        s.onerror = function() {\n",
       "          console.warn(\"failed to load library \" + url);\n",
       "        };\n",
       "        console.log(\"Bokeh: injecting script tag for BokehJS library: \", url);\n",
       "        document.getElementsByTagName(\"head\")[0].appendChild(s);\n",
       "      }\n",
       "    };var element = document.getElementById(\"6329b8ee-539e-482b-b09b-9e0a68e078fe\");\n",
       "    if (element == null) {\n",
       "      console.log(\"Bokeh: ERROR: autoload.js configured with elementid '6329b8ee-539e-482b-b09b-9e0a68e078fe' but no matching script tag was found. \")\n",
       "      return false;\n",
       "    }\n",
       "  \n",
       "    var js_urls = [];\n",
       "  \n",
       "    var inline_js = [\n",
       "      function(Bokeh) {\n",
       "        Bokeh.$(function() {\n",
       "            var docs_json = {\"eb27cf35-0184-4a95-979c-9ea0801ac035\":{\"roots\":{\"references\":[{\"attributes\":{\"plot\":{\"id\":\"da2848c7-fa9e-4099-b228-8a646eba2f3e\",\"subtype\":\"Figure\",\"type\":\"Plot\"},\"ticker\":{\"id\":\"ac4b7108-2eed-463e-8007-4f260c5527ba\",\"type\":\"BasicTicker\"}},\"id\":\"1f9a5fd2-5989-4c26-9dd9-a6c334529310\",\"type\":\"Grid\"},{\"attributes\":{\"line_dash\":[4,4],\"line_width\":{\"value\":2},\"x\":{\"field\":\"x\"},\"y\":{\"field\":\"y\"}},\"id\":\"a4a4f324-8c7e-40aa-9369-ac5d9041e5dc\",\"type\":\"Line\"},{\"attributes\":{\"plot\":{\"id\":\"da2848c7-fa9e-4099-b228-8a646eba2f3e\",\"subtype\":\"Figure\",\"type\":\"Plot\"}},\"id\":\"af082692-d521-4ad5-a695-6e8985a996de\",\"type\":\"SaveTool\"},{\"attributes\":{\"callback\":null,\"plot\":{\"id\":\"da2848c7-fa9e-4099-b228-8a646eba2f3e\",\"subtype\":\"Figure\",\"type\":\"Plot\"}},\"id\":\"bfcce29a-beea-4cae-ba77-45f221109331\",\"type\":\"TapTool\"},{\"attributes\":{\"background_fill_alpha\":{\"value\":0.5},\"background_fill_color\":{\"value\":\"beige\"},\"below\":[{\"id\":\"cf65b880-5205-4d62-a860-bcc7db6db5fd\",\"type\":\"LinearAxis\"}],\"left\":[{\"id\":\"21e82ebd-e497-4304-a6b2-f4180f4b69b7\",\"type\":\"LinearAxis\"}],\"plot_height\":500,\"plot_width\":500,\"renderers\":[{\"id\":\"cf65b880-5205-4d62-a860-bcc7db6db5fd\",\"type\":\"LinearAxis\"},{\"id\":\"1f9a5fd2-5989-4c26-9dd9-a6c334529310\",\"type\":\"Grid\"},{\"id\":\"21e82ebd-e497-4304-a6b2-f4180f4b69b7\",\"type\":\"LinearAxis\"},{\"id\":\"48b3868f-8b86-49ac-8df4-3b458221b961\",\"type\":\"Grid\"},{\"id\":\"1490ccda-1e6d-42c5-b4e7-1b26c8974851\",\"type\":\"BoxAnnotation\"},{\"id\":\"9a1cd842-9971-44b6-ad31-a58be2142d62\",\"type\":\"BoxAnnotation\"},{\"id\":\"e914fced-d25d-48f8-b580-98adfc1d5064\",\"type\":\"PolyAnnotation\"},{\"id\":\"bb11881b-e35f-498c-8d5b-5d87f3ff4feb\",\"type\":\"PolyAnnotation\"},{\"id\":\"d4234a4b-b78b-46b6-98b9-b3066b373a6f\",\"type\":\"GlyphRenderer\"},{\"id\":\"12889de8-f3cc-42aa-a59e-02b3dd26e165\",\"type\":\"GlyphRenderer\"}],\"title\":{\"id\":\"cbb793a6-06ca-47cb-9827-e76292fc1eed\",\"type\":\"Title\"},\"tool_events\":{\"id\":\"da17ca35-fe48-4063-82b5-2e62e7a76748\",\"type\":\"ToolEvents\"},\"toolbar\":{\"id\":\"d7e625ec-342b-495b-95aa-a2cd47f38c23\",\"type\":\"Toolbar\"},\"x_range\":{\"id\":\"05646662-4d41-41d7-9f60-3bc2c82b2134\",\"type\":\"DataRange1d\"},\"y_range\":{\"id\":\"81b49556-e5dd-4e83-b882-8fbb523828c8\",\"type\":\"DataRange1d\"}},\"id\":\"da2848c7-fa9e-4099-b228-8a646eba2f3e\",\"subtype\":\"Figure\",\"type\":\"Plot\"},{\"attributes\":{\"dimension\":1,\"plot\":{\"id\":\"da2848c7-fa9e-4099-b228-8a646eba2f3e\",\"subtype\":\"Figure\",\"type\":\"Plot\"},\"ticker\":{\"id\":\"eccf691f-5b32-4c9c-a89f-22b63c088a92\",\"type\":\"BasicTicker\"}},\"id\":\"48b3868f-8b86-49ac-8df4-3b458221b961\",\"type\":\"Grid\"},{\"attributes\":{\"plot\":{\"id\":\"da2848c7-fa9e-4099-b228-8a646eba2f3e\",\"subtype\":\"Figure\",\"type\":\"Plot\"}},\"id\":\"7d966192-ad68-42be-8a8e-75021e58b4c8\",\"type\":\"ResetTool\"},{\"attributes\":{\"plot\":{\"id\":\"da2848c7-fa9e-4099-b228-8a646eba2f3e\",\"subtype\":\"Figure\",\"type\":\"Plot\"}},\"id\":\"3aea702f-4c08-4def-8395-3661a52ec3d2\",\"type\":\"UndoTool\"},{\"attributes\":{\"overlay\":{\"id\":\"1490ccda-1e6d-42c5-b4e7-1b26c8974851\",\"type\":\"BoxAnnotation\"},\"plot\":{\"id\":\"da2848c7-fa9e-4099-b228-8a646eba2f3e\",\"subtype\":\"Figure\",\"type\":\"Plot\"}},\"id\":\"747ba8cc-b480-40a1-a5ba-d3cef5caf9c2\",\"type\":\"BoxZoomTool\"},{\"attributes\":{\"active_drag\":\"auto\",\"active_scroll\":\"auto\",\"active_tap\":\"auto\",\"tools\":[{\"id\":\"747ba8cc-b480-40a1-a5ba-d3cef5caf9c2\",\"type\":\"BoxZoomTool\"},{\"id\":\"ca2fd39c-8c14-4440-91a4-e8211c8ced4e\",\"type\":\"BoxSelectTool\"},{\"id\":\"8676721e-2920-43af-a287-a19fa91504d3\",\"type\":\"CrosshairTool\"},{\"id\":\"ed11f392-3b70-4f8e-8c0d-7a8b4ae85900\",\"type\":\"ResizeTool\"},{\"id\":\"7d966192-ad68-42be-8a8e-75021e58b4c8\",\"type\":\"ResetTool\"},{\"id\":\"9dcbafd6-b721-43a4-a901-97852490b5a8\",\"type\":\"LassoSelectTool\"},{\"id\":\"397f8eb5-7802-407d-83b2-420b24d36573\",\"type\":\"PanTool\"},{\"id\":\"af082692-d521-4ad5-a695-6e8985a996de\",\"type\":\"SaveTool\"},{\"id\":\"378b17dd-5271-42aa-8a84-9a7802750ffb\",\"type\":\"PolySelectTool\"},{\"id\":\"bfcce29a-beea-4cae-ba77-45f221109331\",\"type\":\"TapTool\"},{\"id\":\"26028127-242c-4bff-8a32-42a263ce987f\",\"type\":\"WheelZoomTool\"},{\"id\":\"3aea702f-4c08-4def-8395-3661a52ec3d2\",\"type\":\"UndoTool\"}]},\"id\":\"d7e625ec-342b-495b-95aa-a2cd47f38c23\",\"type\":\"Toolbar\"},{\"attributes\":{\"plot\":{\"id\":\"da2848c7-fa9e-4099-b228-8a646eba2f3e\",\"subtype\":\"Figure\",\"type\":\"Plot\"}},\"id\":\"26028127-242c-4bff-8a32-42a263ce987f\",\"type\":\"WheelZoomTool\"},{\"attributes\":{\"callback\":null,\"overlay\":{\"id\":\"e914fced-d25d-48f8-b580-98adfc1d5064\",\"type\":\"PolyAnnotation\"},\"plot\":{\"id\":\"da2848c7-fa9e-4099-b228-8a646eba2f3e\",\"subtype\":\"Figure\",\"type\":\"Plot\"}},\"id\":\"9dcbafd6-b721-43a4-a901-97852490b5a8\",\"type\":\"LassoSelectTool\"},{\"attributes\":{\"data_source\":{\"id\":\"229e9292-162b-4a71-bb48-865492a50cc6\",\"type\":\"ColumnDataSource\"},\"glyph\":{\"id\":\"fc9548b9-0967-42d1-a463-651655f6b5e4\",\"type\":\"Circle\"},\"hover_glyph\":null,\"nonselection_glyph\":{\"id\":\"99fd0299-4486-4bf8-b353-b2a373aefe95\",\"type\":\"Circle\"},\"selection_glyph\":null},\"id\":\"d4234a4b-b78b-46b6-98b9-b3066b373a6f\",\"type\":\"GlyphRenderer\"},{\"attributes\":{\"line_alpha\":{\"value\":0.1},\"line_color\":{\"value\":\"#1f77b4\"},\"line_dash\":[4,4],\"line_width\":{\"value\":2},\"x\":{\"field\":\"x\"},\"y\":{\"field\":\"y\"}},\"id\":\"a2f2056b-d276-47fb-bd48-00ce69bfc49c\",\"type\":\"Line\"},{\"attributes\":{\"overlay\":{\"id\":\"bb11881b-e35f-498c-8d5b-5d87f3ff4feb\",\"type\":\"PolyAnnotation\"},\"plot\":{\"id\":\"da2848c7-fa9e-4099-b228-8a646eba2f3e\",\"subtype\":\"Figure\",\"type\":\"Plot\"}},\"id\":\"378b17dd-5271-42aa-8a84-9a7802750ffb\",\"type\":\"PolySelectTool\"},{\"attributes\":{},\"id\":\"eccf691f-5b32-4c9c-a89f-22b63c088a92\",\"type\":\"BasicTicker\"},{\"attributes\":{},\"id\":\"3f3e0061-27a6-4a98-8d65-0d1e46ced356\",\"type\":\"BasicTickFormatter\"},{\"attributes\":{\"fill_alpha\":{\"value\":0.5},\"fill_color\":{\"value\":\"lightgrey\"},\"level\":\"overlay\",\"line_alpha\":{\"value\":1.0},\"line_color\":{\"value\":\"black\"},\"line_dash\":[4,4],\"line_width\":{\"value\":2},\"plot\":null,\"xs_units\":\"screen\",\"ys_units\":\"screen\"},\"id\":\"e914fced-d25d-48f8-b580-98adfc1d5064\",\"type\":\"PolyAnnotation\"},{\"attributes\":{},\"id\":\"da17ca35-fe48-4063-82b5-2e62e7a76748\",\"type\":\"ToolEvents\"},{\"attributes\":{\"callback\":null},\"id\":\"81b49556-e5dd-4e83-b882-8fbb523828c8\",\"type\":\"DataRange1d\"},{\"attributes\":{\"data_source\":{\"id\":\"6efee4aa-329b-4893-b0f6-545d526590fc\",\"type\":\"ColumnDataSource\"},\"glyph\":{\"id\":\"a4a4f324-8c7e-40aa-9369-ac5d9041e5dc\",\"type\":\"Line\"},\"hover_glyph\":null,\"nonselection_glyph\":{\"id\":\"a2f2056b-d276-47fb-bd48-00ce69bfc49c\",\"type\":\"Line\"},\"selection_glyph\":null},\"id\":\"12889de8-f3cc-42aa-a59e-02b3dd26e165\",\"type\":\"GlyphRenderer\"},{\"attributes\":{\"axis_label\":\"Measured\",\"axis_label_text_color\":{\"value\":\"#aa6666\"},\"formatter\":{\"id\":\"c4383e41-9751-4646-a4b0-4dd27c923d8d\",\"type\":\"BasicTickFormatter\"},\"major_tick_line_color\":{\"value\":\"firebrick\"},\"major_tick_line_width\":{\"value\":3},\"minor_tick_line_color\":{\"value\":\"orange\"},\"plot\":{\"id\":\"da2848c7-fa9e-4099-b228-8a646eba2f3e\",\"subtype\":\"Figure\",\"type\":\"Plot\"},\"ticker\":{\"id\":\"ac4b7108-2eed-463e-8007-4f260c5527ba\",\"type\":\"BasicTicker\"}},\"id\":\"cf65b880-5205-4d62-a860-bcc7db6db5fd\",\"type\":\"LinearAxis\"},{\"attributes\":{\"fill_alpha\":{\"value\":0.1},\"fill_color\":{\"value\":\"#1f77b4\"},\"line_alpha\":{\"value\":0.1},\"line_color\":{\"value\":\"#1f77b4\"},\"line_width\":{\"value\":3},\"x\":{\"field\":\"x\"},\"y\":{\"field\":\"y\"}},\"id\":\"99fd0299-4486-4bf8-b353-b2a373aefe95\",\"type\":\"Circle\"},{\"attributes\":{\"callback\":null,\"column_names\":[\"y\",\"x\"],\"data\":{\"x\":[2.331807832,82.5992248],\"y\":[2.331807832,82.5992248]}},\"id\":\"6efee4aa-329b-4893-b0f6-545d526590fc\",\"type\":\"ColumnDataSource\"},{\"attributes\":{\"fill_alpha\":{\"value\":0.5},\"fill_color\":{\"value\":\"lightgrey\"},\"level\":\"overlay\",\"line_alpha\":{\"value\":1.0},\"line_color\":{\"value\":\"black\"},\"line_dash\":[4,4],\"line_width\":{\"value\":2},\"plot\":null,\"xs_units\":\"screen\",\"ys_units\":\"screen\"},\"id\":\"bb11881b-e35f-498c-8d5b-5d87f3ff4feb\",\"type\":\"PolyAnnotation\"},{\"attributes\":{\"plot\":{\"id\":\"da2848c7-fa9e-4099-b228-8a646eba2f3e\",\"subtype\":\"Figure\",\"type\":\"Plot\"}},\"id\":\"ed11f392-3b70-4f8e-8c0d-7a8b4ae85900\",\"type\":\"ResizeTool\"},{\"attributes\":{\"plot\":{\"id\":\"da2848c7-fa9e-4099-b228-8a646eba2f3e\",\"subtype\":\"Figure\",\"type\":\"Plot\"}},\"id\":\"397f8eb5-7802-407d-83b2-420b24d36573\",\"type\":\"PanTool\"},{\"attributes\":{\"fill_color\":{\"value\":\"#80B1D3\"},\"line_color\":{\"value\":\"#80B1D3\"},\"line_width\":{\"value\":3},\"x\":{\"field\":\"x\"},\"y\":{\"field\":\"y\"}},\"id\":\"fc9548b9-0967-42d1-a463-651655f6b5e4\",\"type\":\"Circle\"},{\"attributes\":{\"callback\":null},\"id\":\"05646662-4d41-41d7-9f60-3bc2c82b2134\",\"type\":\"DataRange1d\"},{\"attributes\":{\"plot\":{\"id\":\"da2848c7-fa9e-4099-b228-8a646eba2f3e\",\"subtype\":\"Figure\",\"type\":\"Plot\"}},\"id\":\"8676721e-2920-43af-a287-a19fa91504d3\",\"type\":\"CrosshairTool\"},{\"attributes\":{\"bottom_units\":\"screen\",\"fill_alpha\":{\"value\":0.5},\"fill_color\":{\"value\":\"lightgrey\"},\"left_units\":\"screen\",\"level\":\"overlay\",\"line_alpha\":{\"value\":1.0},\"line_color\":{\"value\":\"black\"},\"line_dash\":[4,4],\"line_width\":{\"value\":2},\"plot\":null,\"render_mode\":\"css\",\"right_units\":\"screen\",\"top_units\":\"screen\"},\"id\":\"9a1cd842-9971-44b6-ad31-a58be2142d62\",\"type\":\"BoxAnnotation\"},{\"attributes\":{},\"id\":\"ac4b7108-2eed-463e-8007-4f260c5527ba\",\"type\":\"BasicTicker\"},{\"attributes\":{\"callback\":null,\"overlay\":{\"id\":\"9a1cd842-9971-44b6-ad31-a58be2142d62\",\"type\":\"BoxAnnotation\"},\"plot\":{\"id\":\"da2848c7-fa9e-4099-b228-8a646eba2f3e\",\"subtype\":\"Figure\",\"type\":\"Plot\"},\"renderers\":[{\"id\":\"d4234a4b-b78b-46b6-98b9-b3066b373a6f\",\"type\":\"GlyphRenderer\"},{\"id\":\"12889de8-f3cc-42aa-a59e-02b3dd26e165\",\"type\":\"GlyphRenderer\"}]},\"id\":\"ca2fd39c-8c14-4440-91a4-e8211c8ced4e\",\"type\":\"BoxSelectTool\"},{\"attributes\":{\"bottom_units\":\"screen\",\"fill_alpha\":{\"value\":0.5},\"fill_color\":{\"value\":\"lightgrey\"},\"left_units\":\"screen\",\"level\":\"overlay\",\"line_alpha\":{\"value\":1.0},\"line_color\":{\"value\":\"black\"},\"line_dash\":[4,4],\"line_width\":{\"value\":2},\"plot\":null,\"render_mode\":\"css\",\"right_units\":\"screen\",\"top_units\":\"screen\"},\"id\":\"1490ccda-1e6d-42c5-b4e7-1b26c8974851\",\"type\":\"BoxAnnotation\"},{\"attributes\":{\"callback\":null,\"column_names\":[\"x\",\"y\"],\"data\":{\"x\":[43.892042159999995,38.21075992,33.419591196,13.12072828,47.22221124,22.31833812,12.47262084,28.937997196,47.029847436000004,26.322814728,30.439675923999996,12.63809508,20.77391188,43.798273423999994,66.10006412,15.361525279999999,40.865242519999995,45.939785879999995,33.75674496,43.58177796,23.524231644,42.69924868,14.143910664,48.401215199999996,34.569637164,35.85964676,59.09498796,24.49708228,37.721921436,15.520104759999999,32.401235144,33.05347944,49.249270679999995,71.69860924,54.896079119999996,50.45930106,51.863763672,28.6822016,26.77235308,17.236210524,36.83870268,40.2309246,47.714497103999996,11.36256448,9.99050724,40.925226931999994,40.563252031999994,31.715896,39.417342919999996,18.12632404,18.28490352,9.86640156,41.2996124,34.55653712,53.95839176,82.5992248,54.598914963999995,44.61185510399999,39.28978986,63.528318639999995,39.1622368,39.321505756,20.416073836,44.395359639999995,56.33708396,38.500339839999995,32.245413568000004,42.229026048,46.247292176,33.68779736,44.209201119999996,33.72916592,64.90037588,33.192064116000005,12.45193656,44.14025352,57.915983999999995,55.50971276,37.2661778,42.21661548,41.20308576,39.779317819999996,64.90037588,39.6621069,23.5111316,54.765078679999995,29.073134491999998,49.77327244,65.19685056,36.588422892,52.00717468,37.2661778,43.57833058,40.679083999999996,26.96540636,36.251958603999995,25.726417988,12.180972492,72.99482412,28.62704352,11.392211948,20.08443588,48.28400428,24.00065956,45.304778483999996,35.763120119999996,74.19451236,14.699628319999999,25.60910856945864,61.99078716,38.074243671999994,54.09628696,40.856968808,39.84481804,22.435549039999998,25.893960655999997,42.919881,30.647208199999998,26.200088,23.13881456,26.8550902,26.147687824,52.446370892,37.92118,41.836714203999996,48.9872698,8.536402356,35.75425543054136,48.587373719999995,21.601283079999998,28.79941252,32.823194456,79.29663476,11.654902304,66.78067543054136,61.09446836,48.67011084,40.1964508,26.258003984,13.45857152,47.739318239999996,23.696600644,27.827251359999998,31.35047372,60.32225524,48.695621452,39.0932892,33.116911232,37.32823064,50.69717028,13.565440299999999,33.68779736,53.46196904,16.503987012,61.85584685418796,60.2946762,43.01296026,77.29715436,56.847296199999995,55.495923239999996,15.049192651999999,17.83674412,19.765208492,24.53845084,21.946021079999998,33.56369168,43.0577762,27.681082448,31.026419999999998,2.331807832,42.29245784,15.340841,19.691434559999998,33.70158688,47.782065751999994,56.141962252,24.8900836,29.870858223999996,58.60546,24.90387312,13.395533715270679,23.786922,33.72916592,52.04164848,31.35047372,37.9556538,57.59882504,29.447519959999997,23.8903434,67.69964844,34.73580088,39.056057496,25.0969264,45.3675208,28.096147,23.221551679999997,40.14818748,42.14008364399999,37.34202016,44.13335876,60.280886679999995,49.77327244,59.590425715270676,17.959470848000002,24.104080959999997,26.94472208,31.966865263999996,28.23748958,16.10960674,54.27555072,18.746162964,24.91766264,40.85834776,11.46598588,38.407950056000004,25.2003478,79.40005615999999,23.51802636,66.42411784,39.45181672,29.7853632,22.347985588,55.89581932,30.12320644,67.568648,53.52402188,13.29309728,24.0971862,14.98920824,39.58281716,48.846616696,11.957582268,39.37597436,19.98790924,39.455953576,39.421479776,24.483292759999998,59.19840936,66.69990824,49.973220479999995,40.7135578,39.699338604,20.27748916,17.57474324,33.082437432,41.05140104,56.14403068,43.377003588,15.08573488,77.29715436,32.83974188,37.437857324,23.744174488,56.3991368,43.388724679999996,44.698039603999995,32.720462532,53.90323368,7.74971024,47.8151606,59.89478012,38.01770664,68.75060685418796,6.883728383999999,76.80073164,11.85209244,8.48744956,49.20100736,32.768036376000005,33.21205892,17.9953236,23.80071152,6.902344236,18.12632404,10.535882756,25.510612,13.461329424,25.48303296,55.647607959999995,32.96384756,19.41564416,22.94576128,19.691434559999998,18.033934256,52.908319811999995,23.24519085418796,25.68987576,17.95395504,43.698299404,15.575262839999999,25.422359072,29.15794004,22.435549039999998,22.53207568,21.179323768,33.398217439999996,48.97348028,22.489328168,67.30664712,39.6103962,45.08483564,38.461039708,46.931941843999994,40.59634688,30.44726016,24.290928956,49.99390476,8.06342182,16.27852836,40.38950408,23.639177145812038,21.066249704,43.25082948,20.91870184,33.798802996,44.02993736,9.84965714581204,25.62092816,24.44881896,76.23536132,15.748321315999998,58.522722879999996,7.8393421199999995,17.275510655999998,27.22051248,71.29871315999999,68.09954452,24.65566176,26.91369566,33.399596392,29.39236188,29.89223198,46.80163088,31.25394708,55.55108132,28.99936056,39.300132,10.335934715999999,79.98611076,47.27736932,25.021084039999998,24.39366088,43.733462679999995,49.80085148,9.011451319999999,11.414275179999999,33.5430074,55.82687172,46.89815752,31.74347504,35.36322404,35.34253976,65.99664272,30.2335226,35.314271244,36.93522932,12.73462172,11.169511199999999,38.60376124,44.6090972,41.15137506,12.788400847999998,12.17614616,33.0431373,21.859147104,41.052779992,71.29871315999999,47.7117392,46.2293658,26.74477404,41.540929,26.91714304,55.94408264,17.8229546,61.23581094,15.340841,31.419421319999998,21.91154728,16.87837248,52.42086028,37.171030112,39.64487,50.655112243999994,13.52062436,35.9561734,47.13257936,56.095767359999996,19.35014394,32.068218236,18.19871902,60.2946762,13.33446584,27.923778,33.60506024,71.29871315999999,36.447769788,33.488834284729315,38.45897128,38.70028788,33.79811352,19.41564416,39.48629052,59.30183076,80.19984832,32.051670812,21.859147104,56.7438748,10.53519328,25.965666159999998,4.9035533120000006,41.940825079999996,41.934619796,67.86512268,13.089012384,51.021224,52.95865156,28.98557104,17.96429718,29.54897143054136,41.244454319999996,58.78472376,12.459520796,34.67374804,41.684340008,16.889404096,25.216895223999998,66.59648684,51.331488199999995,33.019005639999996,30.12320644,13.293786756,34.77027468,38.11423328,35.852751999999995,16.26473884,38.20386516,21.819846971999997,14.49968028,9.735401119999999,10.76272036,17.165883972,14.54104884,36.63875464,50.07664188,36.964187312,44.296075096,36.34917472,56.061293559999996,19.10537996,24.281965768,36.349864196,15.069975430541358,25.460969728000002,38.70028788,43.377003588,67.11359384,27.234302,19.199148695999998,29.41304616,29.654362759999998,13.62404576,40.14818748,29.55094136,32.66047812,56.69561148,11.483912255999998,35.225328839999996,42.32693164,33.003837168,51.25564584,21.917063088,38.215586251999994,77.29715436,52.426376088,37.231704,26.22766704,38.99676256,24.986610239999997,22.83544512,12.24509376,39.604880392,15.520104759999999,65.19685056,55.89581932,39.358047983999995,17.576122192,40.934879596,12.052040479999999,24.404692496,23.52492112,39.300132,55.45455468,37.431652039999996,69.83702404,31.35047372,46.20178676,46.38794528,35.3011712,28.62704352,31.874475479999997,20.593958644,12.5484632,33.664355176,15.091250688,69.65776027999999,59.76377968,36.443632932,22.93197176,42.030456959999995,32.626693796000005,66.82401392,71.98818916,74.3649114581204,72.09850532,36.990387399999996,21.53923024,37.431652039999996,64.30053176,7.3153403599999995,38.60376124,22.89749796,32.01138571527068,27.67556664,40.062002979999995,56.49566344,70.69886903999999,46.6430514,31.971002119999998,32.72253096,23.786922,32.956952799999996,55.15808,10.38350856,74.4978818,53.72396992,30.881630039999997,13.54130864,43.5748832,21.504756439999998,52.826961643999994,33.0603742,50.77301264,19.539060364,42.131120456,35.3011712,41.542997428,47.401475,51.732763231999996,19.98790924,15.04436632,29.592309919999998,42.126983599999996,52.30364936,39.382869119999995,39.14844728,36.3009114,44.32641204,23.404952295999998,22.629981272,15.615941924,23.83518532,35.225328839999996,31.17810472,27.874825204,38.56239268,54.315540328,42.63719584,33.301690799999996,12.541568439999999,4.782205536,29.06830816,34.23937816,32.88455782,49.89737812,31.53663224,33.70158688,32.763899519999995,37.91428524,25.559564796,17.43684804,57.21823428799999,50.526869708,14.306626999999999,19.009542795999998,10.089791784,13.18278112,13.52062436,30.275580636,52.516697443999995,81.75116932,28.46846404,40.85834776,71.29871315999999,17.36790044,55.89581932,62.5009994,26.233182848000002,34.20490436,41.40992856,9.617500724000001,17.22311048,44.38846488,19.765208492,50.511011759999995,39.05192064,25.11662571527068,35.570066839999996,44.27814872,50.60064364,68.29949256,31.178794196000002,62.052839999999996,39.2311844,15.030576799999999,17.596806471999997,36.56291228,59.79825348,56.8128224,53.300631656,37.997022359999995,64.30053176,77.29715436,38.610656,10.787541496,34.48758952,53.65502232,13.22414968,63.3973182,36.93522932,25.3727168,12.17614616,37.16965116,51.0556978,21.91154728,44.298833,53.77223324,21.29101888,45.2985732,18.415903959999998,42.620648416,60.949678399999996,31.11605188,15.43736764,24.24197616,42.79577532,21.96670536,38.630650804,26.0621928,24.42813468,27.77209328,31.899986092,56.619079643999996,33.27411176,11.57630204,30.219733079999997,56.61287436,33.306517131999996,29.93015316,24.00065956,46.234192132,79.29663476,41.719503284,33.398217439999996,51.03501352,14.98920824,28.021683592,32.39847724,53.104130996,35.3011712,14.796154959999999,30.079769451999997,37.265488323999996,50.94882902,43.698299404,21.6495464,23.07676172,24.065470304,10.0318758,58.798513279999995,25.17966352,24.437787344,60.2946762,40.65839972,7.507014687999999,55.59934464,36.3009114,74.69782984,9.561653168,44.207822168,13.19657064,27.935499091999997,26.04840328,32.109882284729316,78.80021203999999,26.40003604,56.63355864,15.691094808,25.083136879999998,51.021224,37.25928304,42.42345828,43.49904084,23.523542168,25.55887532,31.640053639999998,12.83804312,33.963587759999996,49.20100736,15.569747031999999,28.991086848000002,65.19685056,12.37264682,41.885667,25.745033839999998,40.0585556,46.2293658,23.73865868,43.565230536,41.05140104,32.8535314,31.023662096000002,60.19814956,65.90701084,73.29819356,44.27814872,52.20022796,26.859916531999996,40.759063216,11.46598588,21.78054684,40.56876784,28.296095039999997,18.287661424,14.2032056,44.51946532,14.843728804,21.26343984,39.39665864,52.44154456,35.3011712,41.09966436,24.28334472,25.17966352,61.797733879999996,23.69039536,31.2677366,9.131420144,36.804918356,30.84715624,42.54756396,19.00885332,25.10382116,44.63667624,38.995383608,9.307926,55.55108132,38.76923548,45.83636448,74.16693332,22.752708,27.742445811999996,29.86810032,49.185149411999994,24.3385028,44.523602176000004,68.4994406,31.6469484,37.427515183999994,67.79617508,36.4388066,55.020184799999996,39.004642284729314,32.53292506,73.69808963999999,19.93275116,8.374375495999999,10.222171176,14.596896395999998,43.69898888,7.723510152,31.35047372,44.868340176000004,45.3675208,29.7508894,26.14492992,55.19944856,29.231713971999998,51.04190828,65.909079268,79.29663476,9.738159024,54.896079119999996,37.36270444,51.72448952,20.72564856,52.82075636,32.102692036,71.62276688,35.86585204399999,35.101223159999996,46.24315532,31.84000168,33.398217439999996,57.21271848,43.942373908,7.675936308,18.0297974,31.875164956000003,75.49762199999999,24.40055564,8.204074924,46.68441996,3.31982694,21.02212324,41.36856,27.04124872,44.42293868,34.39795764,20.96696516,36.96970312,6.26733684,15.41668336,39.435269296,50.732333556],\"y\":[48.3689477232,36.9764599848,42.6263021192,17.034194055999997,53.3431033776,21.286882024,11.901143733162408,31.481474159999998,47.78813314079999,28.6430393632,31.427557136799997,31.570909045675183,22.57344424,43.128792227999995,63.05809600800001,22.443822752,39.5854371688,44.876613887999994,34.9368520816,40.24885097599999,22.490707119999996,51.912026991999994,15.645727287199998,45.89152256,33.4707503152,39.783592571199996,50.59926468799999,24.096910409599996,38.230616828799995,18.955074191999998,37.4761921896,30.561161595199998,34.956571095200005,69.13060663562409,65.58295711999999,47.4016128952,34.842118079200006,39.136036712,21.986010688,19.7020524904,42.139328503684716,34.2309665528,44.78022514319999,11.481154352,13.0946660872,42.1417383864,40.837525584800005,39.677964847999995,39.925348836800005,22.161137592,19.7275631024,11.343259152,28.629801424,31.035284690837592,55.573144551999995,76.818658016,40.492925480000004,41.500939392,45.66744286,60.533234895999996,25.838802576,32.144887967200006,14.9934829912,44.767676679999994,58.14035919562408,29.615752104000002,30.935547063199998,42.5715577248,45.741216792,38.2642632576,40.39088303199999,35.721751559999994,67.647248264,36.9741157664,18.639294184,43.365282496,58.28534614167518,40.797673872,27.983072936000003,33.646428799999995,34.304051008799995,38.5836285408,67.517626776,40.7677506136,24.45571372,56.346047148000004,35.640393392,46.578378551200004,64.83832304,35.452304339200005,36.5012731256,44.29055928799999,45.237899312,38.3678225528,30.756972779199998,43.077908899200004,30.093558972,12.18993568,71.34008172000001,34.141472568,9.532695175999999,21.082797128,47.863423919999995,23.8578001328,44.4258344792,35.116391632,58.958058026399996,19.9577101912,29.30808821447068,61.542627759999995,41.555821681599994,49.260302296,34.526338071199994,31.848275391999998,22.278348512,23.4112954752,46.616851312,30.979535632,23.651784704,22.303169648,25.916299678399998,26.729605568,45.3603502496,32.12904971890827,42.248331375999996,53.1241258,21.252821909599998,39.41419103010827,42.68876864479999,26.878532384,25.2124825776,30.43707561490827,78.89673868,11.6299432728,61.67815904051279,60.67802485599999,41.023821999999996,38.67960359999999,24.2354950856,19.7663116536,46.616851312,27.8381450808,28.631180375999996,40.788021207999996,58.39999615199999,48.9110137544,36.7468644768,43.7442185056,35.97685768,56.935549128000005,12.7409648992,30.769934927999998,53.431632096,32.9761202328,56.7818944771624,61.897018423999995,42.3267937448,77.29715436,52.054059048,63.777908952000004,15.342219951999999,32.261960992000006,20.7226148656,29.505435944,25.879895345599998,36.932471416,37.23859876,27.67556664,27.898129492800003,6.0300192008,33.365122592,19.1774991496,19.7061893464,31.394600184,38.7532396368,51.28225961359999,25.580938552,28.597258156800002,54.817478855999994,27.078480424000002,11.8423018808,23.768857728800004,29.334445896,48.97348028,36.50085943999999,34.8099884976,56.659758728,34.57091761883759,36.48017516,59.135115463199995,44.9388046232,38.178906128799994,40.5457393416,51.037771424,32.46072707294586,22.634118128,36.1122707664,37.5441745232,38.08941214399999,53.49920074399999,61.173068623999995,48.312824376799995,57.05463148167519,23.5967645192,29.787845313600002,31.755747712799995,31.6651505664,23.0247752296,16.350371759199998,51.4595928408,27.6150306472,24.921799496,39.69313332,12.200691505599996,35.6249491296,27.991346647999997,79.41798253599998,24.608087916,56.477737063999996,40.72969153839999,29.424077776,22.0826752232,44.61722645046041,28.865602216000003,58.711639303999995,43.1454775472,12.562666405599998,32.599804232,12.352652015999999,38.2388905408,38.164702923200004,10.5860766088,41.565474345599995,23.3411068184,40.72969153839999,42.4478657304,25.338243,62.048703144,66.590971032,48.168172312,35.340372834837595,38.9731824808,18.1095008256,16.115812024,37.798453272,45.775276906399995,52.69665067999999,35.4379632384,15.319467244,77.29715436,34.8621128832,35.1588633536,21.8468744312,57.37819272,43.48387236799999,42.5044027624,30.688025179200004,49.72500912,17.0970742672,41.261001744,66.33724386399999,46.943662935999996,66.78067543054136,4.0481893864,73.495383696,12.712558487999999,10.860625951999998,50.340021711999995,34.408989256,34.238274998399994,12.981454128,22.547244152,14.835455091999998,14.538290936,10.375234848,23.206383208,18.459065157599998,18.669631128,55.52310829410827,37.57919990399999,23.912406632,23.232583296,19.817194982399997,14.5809005528,51.1946961616,34.8297075112,23.651784704,20.028450428800003,41.15137506,14.296836440800002,20.928078713599998,21.8561134096,23.404124924799998,24.181302272,23.084759641599998,47.00800089645714,49.520924224,34.935748919999995,68.97380008799999,35.374255655999995,50.48205376799999,42.747374104799995,44.933150919999996,37.278588368,23.222930631999997,25.1112675008,44.8762002024,6.2536852152,15.618837723199999,40.441904256,28.95897696610827,29.863825568800003,37.7900416648,22.294895936,32.958883332800006,55.96575188610827,13.401542006324814,25.356169376,19.956193344,56.428784268,17.5848095896,60.061633312000005,13.697130216,26.673344326400002,27.016427583999995,71.93854688799999,67.117730696,18.835105368,27.974109747999997,35.4106599888,34.004128948799995,27.034491855200002,48.890053683999994,30.2777869592,55.111195632,39.418721872,32.3799992832,12.1971062304,66.808845448,48.718374159999996,31.920965862108268,24.404692496,35.881709992,36.477417255999995,18.371363810400002,12.212511094762407,38.34727616799999,57.46230879199999,45.686058712,31.1262561248,31.920965862108268,37.608157895999994,65.98740374159999,33.8989149112,31.0020125496,31.2495344336,13.389899710399998,12.3134897792,34.093209248,37.970822272,41.30774821679999,16.095127744,13.283996196799999,48.9580360176,20.3523662536,44.6329530696,67.17840458399999,37.131040504,45.17239909199999,36.227964839200006,45.2474140808,28.7423239072,50.62546477599999,35.634877584,63.04623702080001,21.081418176,29.2707383136,24.919041592,23.631100424000003,50.1261462568,36.0322915504,34.0777649856,47.3238400024,13.247256975854134,37.24687247199999,49.2432032912,49.79829056894586,17.293299136799998,31.971967386400003,29.053691268799998,61.275111072,17.70574368,32.30707242210828,33.173448264,67.17840458399999,35.62494912959999,34.77833169934586,42.3263800592,40.228166695999995,34.509928542400004,8.6056257464,39.149826232,52.62593014210827,68.176765832,34.9835985544,27.8007754816,56.783864408,10.3757864288,24.145311624799998,10.936842599562407,41.722536978399994,42.56204295599999,43.327361315999994,15.7292917784,51.29839335199999,56.352252432,27.9502538784,20.988752601599998,23.198464082475187,38.0447340992,50.8234822832,15.688612694399998,38.265918,41.679375780799994,10.015742061600001,23.375994303999995,65.558135984,43.241176816,36.7026001176,30.12320644,12.499924089599999,24.861125608,36.76010241600001,33.94979823999999,14.772712776,38.84907680079999,17.2646169352,14.4123926184,14.190795032,7.680762639999999,11.917730555199999,17.481939770399997,40.418462072,54.09904486400001,39.184989507999994,40.750375818399995,36.818156295200005,48.625984376,26.031658863054133,29.8123906592,36.818156295200005,12.615637863487223,26.9754727096,52.608397751999995,35.3243375936,54.8210641312,29.564179299200003,26.031658863054133,27.247953624799997,30.956369238400004,12.992485744000001,42.047280174399994,28.560853824,30.956369238400004,56.3420481872,12.3555478152,33.04796363199999,46.5483173976,29.9359447584,52.66907163999999,22.572341078399997,41.31050612079999,77.29715436,49.853251656,36.1459171952,25.100511675200003,38.0447340992,22.48381236,28.2687917904,23.1476398528,36.488448872000006,13.037715369599999,65.19685056,49.84612707066667,40.5788341896,19.7356989192,44.4021165048,12.511369391199999,22.823428537891726,24.982473384,37.781905848,47.66485483199999,32.0556697728,68.50633536,35.901566900800006,49.84612707066667,40.8704825376,35.3011712,33.9156002304,31.6928675016,21.096172962399997,17.7884808,26.7331908432,15.08573488,66.974319688,47.205663816,30.05770622,30.009167109599996,42.964007464000005,37.0670571312,50.901117280799994,43.491594499200005,53.97562866,52.765598280000006,38.98218506752706,19.3111195984,37.431652039999996,64.30053176,18.12632404,33.034095314545866,55.89581932,30.829623849891725,28.8962149504,37.212260776799994,56.898317424000005,66.99914082400001,50.07664188,39.072604919999996,32.1590911728,24.858505599199997,36.8865523144,53.8171870752,11.8221691816,70.43548920799999,46.1780687856,34.6526500744,17.173468208000003,45.2798194528,24.865262463999997,51.112234832,31.464926736000002,51.106719024,18.3575742904,42.6403674296,35.3011712,41.8564332176,40.5693194208,48.81310816239999,19.98790924,16.176485911999997,34.228346544000004,41.128622351999994,42.707246601600005,39.347016368,39.115352432,32.413645712,45.3380112272,15.695231664,25.288049147199995,13.461329423999999,31.6928675016,30.994428313599997,35.649908160799995,31.717964428,42.64133269599999,46.989857828000005,30.983672487999996,32.2386567032,12.7206943048,11.2845157968,32.8416724128,24.964547008000004,33.6832468184,64.244684204,34.386926024000005,31.724169712000002,36.122475011199995,37.701926631999996,26.3619769648,16.49916068,53.48720386160001,49.7827872088,14.6317838816,20.436620220800002,8.4004376888,15.261649757162408,14.711763097599999,26.0715696736,51.6543008632,45.364211315199995,27.435628991999998,40.27229316,71.29871315999999,17.57474324,41.83740368,60.198149560000004,28.109109148799995,34.04632488,41.42371808,13.752977772,11.959650696,41.985778915199994,18.845309612799998,42.122846744,38.0008834256,27.027459201378946,44.086474392,41.9866062864,43.325292888,48.9781687168,31.178104720000004,49.61207295119999,42.57573397883759,18.1226008696,24.950068012,38.758203863999995,56.558405756,55.00501632799999,51.6543008632,31.110536071999995,64.47979552,77.29715436,33.54812922348723,11.543069296799999,34.505515896000006,54.137655519999996,15.615941924000001,61.99177212610827,39.51249060799999,29.250329823999998,12.4398017824,37.233772427999995,45.159299047999994,30.154508650400004,38.152430250399995,48.07026671999999,10.807083216362408,41.61263450399999,20.9847536408,42.091820324000004,51.643131352,32.03581286399999,12.261641184,25.82777096,35.607850124799995,26.098636530837588,40.5928995,22.9720992632,26.986090639999997,26.3532895672,32.859047208,60.78185994160001,28.811823088,10.389024368000001,37.015208536,60.78185994160001,30.767177023999995,24.470882191999998,22.134661713600003,44.3444763112,79.29663476,40.6636397376,33.098984855999994,49.687777415999996,13.954994239999996,25.360030441599996,41.80403304159999,52.0452337552,34.330388991999996,17.352456177599997,37.5859567688,38.75406700800001,49.185149411999994,42.6991107848,28.330293049600005,11.682481344,24.00065956,13.480634752,56.756285368,25.202002542399995,23.337107857600003,60.294676200000005,38.310044464,11.5005975752,36.46417931679999,36.500583649599996,50.407866150400004,18.9292877896,43.256621078399995,20.713100096799998,35.29882698160001,35.225328839999996,29.363994868216544,68.58907248,31.521463768,54.46860399999999,17.996702551999995,25.591970167999996,50.7677726224,38.75406700800001,47.724149768000004,48.434310048,21.712840296800003,25.677189401599996,36.289879784,20.202198380800002,39.100183959999995,52.240217568000006,26.20698276,27.3028359144,65.19685056,15.156337222399998,41.641592496,35.011177594399996,37.732263575999994,39.546964408,24.3787681984,46.59823546,41.247212223999995,40.036492368,26.1161098232,56.506695056,62.43053495280001,71.69860924,42.652364311999996,64.54736416799999,26.8550902,40.563252031999994,16.268875696000002,21.94602108,42.397258191999995,24.098565152,22.7096846976,13.752426191199998,55.4749631696,15.801410967999999,20.8085235752,28.025820448,51.006055528000005,34.330388991999996,35.3011712,24.978336528,24.4885327776,61.417143128,23.547673828,33.683660504,11.534244003999998,44.4597566984,41.302370304,43.94306338399999,23.3285583552,25.0969264,42.895059864,37.878708278400005,10.642199955199999,51.429393792,42.707522392,44.949698344,68.131260416,25.412706408,23.5795276192,29.962972217599997,48.38405709745413,27.912746383999995,49.582977064,64.33855143647293,32.0545666112,38.2504737376,57.243055424,29.285630995200002,54.270862283199996,41.63607668868947,34.83549910960001,61.284172756472934,11.839681872,8.179214389962407,13.0206163648,12.8112914512,36.164670942399994,6.605869556,32.45225636799999,34.1789800624,40.323314384,25.08313688,27.640817049599995,56.80592764000001,26.5486870656,50.220052888,60.33177000880001,79.29663476,11.868226178399999,54.700267936,29.210478111199997,55.93580892799999,28.833886319999998,44.198445294399995,37.716405628000004,69.14892699199999,39.700028079999996,32.76399145013333,43.1472701848,32.0545666112,34.578600351999995,52.981404268000006,43.03019715999999,5.7739478144,29.6651185856,35.677625096,61.46343651647294,28.007894071999992,13.0206163648,50.693033424,8.2908110048,22.343159256,65.37985719010827,24.4190335968,51.021224,35.644333255054136,19.0441544912,38.35830778399999,16.404012992,18.2272633264,38.172425054399994,47.7816520664]}},\"id\":\"229e9292-162b-4a71-bb48-865492a50cc6\",\"type\":\"ColumnDataSource\"},{\"attributes\":{\"axis_label\":\"Predicted\",\"axis_label_text_color\":{\"value\":\"#aa6666\"},\"formatter\":{\"id\":\"3f3e0061-27a6-4a98-8d65-0d1e46ced356\",\"type\":\"BasicTickFormatter\"},\"plot\":{\"id\":\"da2848c7-fa9e-4099-b228-8a646eba2f3e\",\"subtype\":\"Figure\",\"type\":\"Plot\"},\"ticker\":{\"id\":\"eccf691f-5b32-4c9c-a89f-22b63c088a92\",\"type\":\"BasicTicker\"}},\"id\":\"21e82ebd-e497-4304-a6b2-f4180f4b69b7\",\"type\":\"LinearAxis\"},{\"attributes\":{},\"id\":\"c4383e41-9751-4646-a4b0-4dd27c923d8d\",\"type\":\"BasicTickFormatter\"},{\"attributes\":{\"align\":\"center\",\"plot\":null,\"text\":null},\"id\":\"cbb793a6-06ca-47cb-9827-e76292fc1eed\",\"type\":\"Title\"}],\"root_ids\":[\"da2848c7-fa9e-4099-b228-8a646eba2f3e\"]},\"title\":\"Bokeh Application\",\"version\":\"0.12.2\"}};\n",
       "            var render_items = [{\"docid\":\"eb27cf35-0184-4a95-979c-9ea0801ac035\",\"elementid\":\"6329b8ee-539e-482b-b09b-9e0a68e078fe\",\"modelid\":\"da2848c7-fa9e-4099-b228-8a646eba2f3e\"}];\n",
       "            \n",
       "            Bokeh.embed.embed_items(docs_json, render_items);\n",
       "        });\n",
       "      },\n",
       "      function(Bokeh) {\n",
       "      }\n",
       "    ];\n",
       "  \n",
       "    function run_inline_js() {\n",
       "      \n",
       "      if ((window.Bokeh !== undefined) || (force === \"1\")) {\n",
       "        for (var i = 0; i < inline_js.length; i++) {\n",
       "          inline_js[i](window.Bokeh);\n",
       "        }if (force === \"1\") {\n",
       "          display_loaded();\n",
       "        }} else if (Date.now() < window._bokeh_timeout) {\n",
       "        setTimeout(run_inline_js, 100);\n",
       "      } else if (!window._bokeh_failed_load) {\n",
       "        console.log(\"Bokeh: BokehJS failed to load within specified timeout.\");\n",
       "        window._bokeh_failed_load = true;\n",
       "      } else if (!force) {\n",
       "        var cell = $(\"#6329b8ee-539e-482b-b09b-9e0a68e078fe\").parents('.cell').data().cell;\n",
       "        cell.output_area.append_execute_result(NB_LOAD_WARNING)\n",
       "      }\n",
       "  \n",
       "    }\n",
       "  \n",
       "    if (window._bokeh_is_loading === 0) {\n",
       "      console.log(\"Bokeh: BokehJS loaded, going straight to plotting\");\n",
       "      run_inline_js();\n",
       "    } else {\n",
       "      load_libs(js_urls, function() {\n",
       "        console.log(\"Bokeh: BokehJS plotting callback run at\", now());\n",
       "        run_inline_js();\n",
       "      });\n",
       "    }\n",
       "  }(this));\n",
       "</script>"
      ]
     },
     "metadata": {},
     "output_type": "display_data"
    }
   ],
   "source": [
    "# Plotining using bokeh\n",
    "#TOOLS = [BoxSelectTool(), HoverTool()]\n",
    "#TOOLS = 'hover,box_zoom,box_select,crosshair,resize,reset,DecisionTreeRegressor_select,pan,save,poly_select,tap,wheel_zoom,undo'\n",
    "TOOLS = 'box_zoom,box_select,crosshair,resize,reset,lasso_select,pan,save,poly_select,tap,wheel_zoom,undo'\n",
    "p = figure(plot_width=500, plot_height=500, tools=TOOLS)\n",
    "p.scatter(Y, predicted,x=\"jjj\", marker=\"o\", color=\"#80B1D3\", line_width=3)\n",
    "p.title.align = \"center\"\n",
    "p.xaxis.axis_label = \"Measured\"\n",
    "p.xaxis.axis_label_text_color = \"#aa6666\"\n",
    "#p.xaxis.axis_label_standoff = 30\n",
    "p.xaxis.major_tick_line_color = \"firebrick\"\n",
    "p.xaxis.major_tick_line_width = 3\n",
    "p.xaxis.minor_tick_line_color = \"orange\"\n",
    "p.yaxis.axis_label = \"Predicted\"\n",
    "p.yaxis.axis_label_text_font_style = \"italic\"\n",
    "p.yaxis.axis_label_text_color = \"#aa6666\"\n",
    "p.background_fill_color = \"beige\"\n",
    "p.background_fill_alpha = 0.5\n",
    "#p.line([Y.min(), Y.max()], [Y.min(), Y.max()], line_dash=\"4 4\", line_width=2, color='red')\n",
    "\n",
    "# create a new plot with the toolbar below\n",
    "# line_dash=\"4 4\", line_width=2, color='red'\n",
    "p.line([Y.min(), Y.max()], [Y.min(), Y.max()], line_dash=\"4 4\", line_width=2, line_color=\"black\")\n",
    "show(p)"
   ]
  },
  {
   "cell_type": "code",
   "execution_count": 20,
   "metadata": {
    "collapsed": false
   },
   "outputs": [
    {
     "data": {
      "text/plain": [
       "<matplotlib.text.Text at 0x7f94dc4c60d0>"
      ]
     },
     "execution_count": 20,
     "metadata": {},
     "output_type": "execute_result"
    },
    {
     "data": {
      "image/png": "[encoded data removed]",
      "text/plain": [
       "<matplotlib.figure.Figure at 0x7f94dc4d2710>"
      ]
     },
     "metadata": {},
     "output_type": "display_data"
    }
   ],
   "source": [
    "plt.scatter(predicted, (predicted - Y), c='r', s=30)\n",
    "plt.title(\"Residual plot on the training data\")\n",
    "plt.xlabel(\"Predicted\")\n",
    "plt.ylabel(\"Residuals\")"
   ]
  },
  {
   "cell_type": "code",
   "execution_count": 21,
   "metadata": {
    "collapsed": false
   },
   "outputs": [
    {
     "data": {
      "text/html": [
       "\n",
       "\n",
       "    <div class=\"bk-root\">\n",
       "        <div class=\"plotdiv\" id=\"2bffd2b2-6e08-428d-bb68-c5294d9c8256\"></div>\n",
       "    </div>\n",
       "<script type=\"text/javascript\">\n",
       "  \n",
       "  (function(global) {\n",
       "    function now() {\n",
       "      return new Date();\n",
       "    }\n",
       "  \n",
       "    var force = \"\";\n",
       "  \n",
       "    if (typeof (window._bokeh_onload_callbacks) === \"undefined\" || force !== \"\") {\n",
       "      window._bokeh_onload_callbacks = [];\n",
       "      window._bokeh_is_loading = undefined;\n",
       "    }\n",
       "  \n",
       "  \n",
       "    \n",
       "    if (typeof (window._bokeh_timeout) === \"undefined\" || force !== \"\") {\n",
       "      window._bokeh_timeout = Date.now() + 0;\n",
       "      window._bokeh_failed_load = false;\n",
       "    }\n",
       "  \n",
       "    var NB_LOAD_WARNING = {'data': {'text/html':\n",
       "       \"<div style='background-color: #fdd'>\\n\"+\n",
       "       \"<p>\\n\"+\n",
       "       \"BokehJS does not appear to have successfully loaded. If loading BokehJS from CDN, this \\n\"+\n",
       "       \"may be due to a slow or bad network connection. Possible fixes:\\n\"+\n",
       "       \"</p>\\n\"+\n",
       "       \"<ul>\\n\"+\n",
       "       \"<li>re-rerun `output_notebook()` to attempt to load from CDN again, or</li>\\n\"+\n",
       "       \"<li>use INLINE resources instead, as so:</li>\\n\"+\n",
       "       \"</ul>\\n\"+\n",
       "       \"<code>\\n\"+\n",
       "       \"from bokeh.resources import INLINE\\n\"+\n",
       "       \"output_notebook(resources=INLINE)\\n\"+\n",
       "       \"</code>\\n\"+\n",
       "       \"</div>\"}};\n",
       "  \n",
       "    function display_loaded() {\n",
       "      if (window.Bokeh !== undefined) {\n",
       "        Bokeh.$(\"#2bffd2b2-6e08-428d-bb68-c5294d9c8256\").text(\"BokehJS successfully loaded.\");\n",
       "      } else if (Date.now() < window._bokeh_timeout) {\n",
       "        setTimeout(display_loaded, 100)\n",
       "      }\n",
       "    }\n",
       "  \n",
       "    function run_callbacks() {\n",
       "      window._bokeh_onload_callbacks.forEach(function(callback) { callback() });\n",
       "      delete window._bokeh_onload_callbacks\n",
       "      console.info(\"Bokeh: all callbacks have finished\");\n",
       "    }\n",
       "  \n",
       "    function load_libs(js_urls, callback) {\n",
       "      window._bokeh_onload_callbacks.push(callback);\n",
       "      if (window._bokeh_is_loading > 0) {\n",
       "        console.log(\"Bokeh: BokehJS is being loaded, scheduling callback at\", now());\n",
       "        return null;\n",
       "      }\n",
       "      if (js_urls == null || js_urls.length === 0) {\n",
       "        run_callbacks();\n",
       "        return null;\n",
       "      }\n",
       "      console.log(\"Bokeh: BokehJS not loaded, scheduling load and callback at\", now());\n",
       "      window._bokeh_is_loading = js_urls.length;\n",
       "      for (var i = 0; i < js_urls.length; i++) {\n",
       "        var url = js_urls[i];\n",
       "        var s = document.createElement('script');\n",
       "        s.src = url;\n",
       "        s.async = false;\n",
       "        s.onreadystatechange = s.onload = function() {\n",
       "          window._bokeh_is_loading--;\n",
       "          if (window._bokeh_is_loading === 0) {\n",
       "            console.log(\"Bokeh: all BokehJS libraries loaded\");\n",
       "            run_callbacks()\n",
       "          }\n",
       "        };\n",
       "        s.onerror = function() {\n",
       "          console.warn(\"failed to load library \" + url);\n",
       "        };\n",
       "        console.log(\"Bokeh: injecting script tag for BokehJS library: \", url);\n",
       "        document.getElementsByTagName(\"head\")[0].appendChild(s);\n",
       "      }\n",
       "    };var element = document.getElementById(\"2bffd2b2-6e08-428d-bb68-c5294d9c8256\");\n",
       "    if (element == null) {\n",
       "      console.log(\"Bokeh: ERROR: autoload.js configured with elementid '2bffd2b2-6e08-428d-bb68-c5294d9c8256' but no matching script tag was found. \")\n",
       "      return false;\n",
       "    }\n",
       "  \n",
       "    var js_urls = [];\n",
       "  \n",
       "    var inline_js = [\n",
       "      function(Bokeh) {\n",
       "        Bokeh.$(function() {\n",
       "            var docs_json = {\"a8d1055a-b033-4dd1-a92f-23e0c962180c\":{\"roots\":{\"references\":[{\"attributes\":{\"align\":\"center\",\"plot\":null,\"text\":\"Residual plot on the training data\"},\"id\":\"aae81968-5eac-40d0-8600-0a25794f87a4\",\"type\":\"Title\"},{\"attributes\":{\"callback\":null},\"id\":\"7d80327e-25d2-4da4-8aa0-1a0a93011542\",\"type\":\"DataRange1d\"},{\"attributes\":{},\"id\":\"065ec5fb-b556-4361-8b36-0ef5bfc94c29\",\"type\":\"BasicTicker\"},{\"attributes\":{\"plot\":{\"id\":\"d8731dec-9e19-4ea9-821b-ca344e6a1967\",\"subtype\":\"Figure\",\"type\":\"Plot\"}},\"id\":\"5cfdf50d-70d0-4152-a771-123b558ccd7e\",\"type\":\"WheelZoomTool\"},{\"attributes\":{\"data_source\":{\"id\":\"2aff208b-01e6-4389-9ea9-63ff0641e9db\",\"type\":\"ColumnDataSource\"},\"glyph\":{\"id\":\"6f6fb3e8-4c4a-4e1f-b16a-0a9d0573e2ef\",\"type\":\"Circle\"},\"hover_glyph\":null,\"nonselection_glyph\":{\"id\":\"59cf9987-ef30-4e4d-a7b4-72a88ea49344\",\"type\":\"Circle\"},\"selection_glyph\":null},\"id\":\"44e00fb9-d614-4ae0-be5b-29835c4c8b41\",\"type\":\"GlyphRenderer\"},{\"attributes\":{\"fill_alpha\":{\"value\":0.5},\"fill_color\":{\"value\":\"lightgrey\"},\"level\":\"overlay\",\"line_alpha\":{\"value\":1.0},\"line_color\":{\"value\":\"black\"},\"line_dash\":[4,4],\"line_width\":{\"value\":2},\"plot\":null,\"xs_units\":\"screen\",\"ys_units\":\"screen\"},\"id\":\"4ab9c200-e07b-46a8-9fc4-d40c16d0eed1\",\"type\":\"PolyAnnotation\"},{\"attributes\":{\"fill_alpha\":{\"value\":0.5},\"fill_color\":{\"value\":\"lightgrey\"},\"level\":\"overlay\",\"line_alpha\":{\"value\":1.0},\"line_color\":{\"value\":\"black\"},\"line_dash\":[4,4],\"line_width\":{\"value\":2},\"plot\":null,\"xs_units\":\"screen\",\"ys_units\":\"screen\"},\"id\":\"f6b3a93b-bfdb-4f3a-a39d-a94893d1bd39\",\"type\":\"PolyAnnotation\"},{\"attributes\":{\"bottom_units\":\"screen\",\"fill_alpha\":{\"value\":0.5},\"fill_color\":{\"value\":\"lightgrey\"},\"left_units\":\"screen\",\"level\":\"overlay\",\"line_alpha\":{\"value\":1.0},\"line_color\":{\"value\":\"black\"},\"line_dash\":[4,4],\"line_width\":{\"value\":2},\"plot\":null,\"render_mode\":\"css\",\"right_units\":\"screen\",\"top_units\":\"screen\"},\"id\":\"e80cd7f9-12fc-4036-8644-e01421cbc560\",\"type\":\"BoxAnnotation\"},{\"attributes\":{\"callback\":null},\"id\":\"740ab16f-32e0-4eaa-a1dc-11329ba61441\",\"type\":\"DataRange1d\"},{\"attributes\":{\"fill_alpha\":{\"value\":0.1},\"fill_color\":{\"value\":\"#1f77b4\"},\"line_alpha\":{\"value\":0.1},\"line_color\":{\"value\":\"#1f77b4\"},\"line_width\":{\"value\":3},\"x\":{\"field\":\"x\"},\"y\":{\"field\":\"y\"}},\"id\":\"59cf9987-ef30-4e4d-a7b4-72a88ea49344\",\"type\":\"Circle\"},{\"attributes\":{\"callback\":null,\"overlay\":{\"id\":\"bfe47587-35d5-4e33-9941-bff67334f768\",\"type\":\"BoxAnnotation\"},\"plot\":{\"id\":\"d8731dec-9e19-4ea9-821b-ca344e6a1967\",\"subtype\":\"Figure\",\"type\":\"Plot\"},\"renderers\":[{\"id\":\"44e00fb9-d614-4ae0-be5b-29835c4c8b41\",\"type\":\"GlyphRenderer\"}]},\"id\":\"b126bea4-79c6-4063-94ee-14a38a7f5385\",\"type\":\"BoxSelectTool\"},{\"attributes\":{},\"id\":\"de39a408-1013-42ed-a40b-a1b6b3e9bcb9\",\"type\":\"BasicTickFormatter\"},{\"attributes\":{\"plot\":{\"id\":\"d8731dec-9e19-4ea9-821b-ca344e6a1967\",\"subtype\":\"Figure\",\"type\":\"Plot\"}},\"id\":\"da9db37f-0e62-45d4-bcf9-0c11212e7fea\",\"type\":\"UndoTool\"},{\"attributes\":{\"overlay\":{\"id\":\"e80cd7f9-12fc-4036-8644-e01421cbc560\",\"type\":\"BoxAnnotation\"},\"plot\":{\"id\":\"d8731dec-9e19-4ea9-821b-ca344e6a1967\",\"subtype\":\"Figure\",\"type\":\"Plot\"}},\"id\":\"dc4213b3-6fd5-48a1-bf80-a4c4c907d75b\",\"type\":\"BoxZoomTool\"},{\"attributes\":{},\"id\":\"52001849-1c6c-4b43-9374-61fdcf60bbfe\",\"type\":\"BasicTickFormatter\"},{\"attributes\":{\"plot\":{\"id\":\"d8731dec-9e19-4ea9-821b-ca344e6a1967\",\"subtype\":\"Figure\",\"type\":\"Plot\"},\"ticker\":{\"id\":\"065ec5fb-b556-4361-8b36-0ef5bfc94c29\",\"type\":\"BasicTicker\"}},\"id\":\"64522e45-9f17-42a3-952b-95632003f161\",\"type\":\"Grid\"},{\"attributes\":{\"axis_label\":\"Residuals\",\"axis_label_text_color\":{\"value\":\"#aa6666\"},\"formatter\":{\"id\":\"52001849-1c6c-4b43-9374-61fdcf60bbfe\",\"type\":\"BasicTickFormatter\"},\"plot\":{\"id\":\"d8731dec-9e19-4ea9-821b-ca344e6a1967\",\"subtype\":\"Figure\",\"type\":\"Plot\"},\"ticker\":{\"id\":\"833570f4-4a50-46f5-aebb-26301718ff47\",\"type\":\"BasicTicker\"}},\"id\":\"9ba2264c-882e-43fa-9ce0-d02671c7b5b9\",\"type\":\"LinearAxis\"},{\"attributes\":{},\"id\":\"2f135f86-a75e-4d91-a242-51a623891646\",\"type\":\"ToolEvents\"},{\"attributes\":{\"callback\":null,\"plot\":{\"id\":\"d8731dec-9e19-4ea9-821b-ca344e6a1967\",\"subtype\":\"Figure\",\"type\":\"Plot\"}},\"id\":\"349a89e4-ab9e-4e54-b148-36a1ddb00e12\",\"type\":\"TapTool\"},{\"attributes\":{\"fill_color\":{\"value\":\"#80B1D3\"},\"line_color\":{\"value\":\"#80B1D3\"},\"line_width\":{\"value\":3},\"x\":{\"field\":\"x\"},\"y\":{\"field\":\"y\"}},\"id\":\"6f6fb3e8-4c4a-4e1f-b16a-0a9d0573e2ef\",\"type\":\"Circle\"},{\"attributes\":{\"dimension\":1,\"plot\":{\"id\":\"d8731dec-9e19-4ea9-821b-ca344e6a1967\",\"subtype\":\"Figure\",\"type\":\"Plot\"},\"ticker\":{\"id\":\"833570f4-4a50-46f5-aebb-26301718ff47\",\"type\":\"BasicTicker\"}},\"id\":\"b3534f90-53ff-4587-bae9-29c504518a9a\",\"type\":\"Grid\"},{\"attributes\":{\"bottom_units\":\"screen\",\"fill_alpha\":{\"value\":0.5},\"fill_color\":{\"value\":\"lightgrey\"},\"left_units\":\"screen\",\"level\":\"overlay\",\"line_alpha\":{\"value\":1.0},\"line_color\":{\"value\":\"black\"},\"line_dash\":[4,4],\"line_width\":{\"value\":2},\"plot\":null,\"render_mode\":\"css\",\"right_units\":\"screen\",\"top_units\":\"screen\"},\"id\":\"bfe47587-35d5-4e33-9941-bff67334f768\",\"type\":\"BoxAnnotation\"},{\"attributes\":{\"background_fill_alpha\":{\"value\":0.5},\"background_fill_color\":{\"value\":\"beige\"},\"below\":[{\"id\":\"6f4e52f1-5503-4111-a2c8-522a146b70c3\",\"type\":\"LinearAxis\"}],\"left\":[{\"id\":\"9ba2264c-882e-43fa-9ce0-d02671c7b5b9\",\"type\":\"LinearAxis\"}],\"plot_height\":500,\"plot_width\":500,\"renderers\":[{\"id\":\"6f4e52f1-5503-4111-a2c8-522a146b70c3\",\"type\":\"LinearAxis\"},{\"id\":\"64522e45-9f17-42a3-952b-95632003f161\",\"type\":\"Grid\"},{\"id\":\"9ba2264c-882e-43fa-9ce0-d02671c7b5b9\",\"type\":\"LinearAxis\"},{\"id\":\"b3534f90-53ff-4587-bae9-29c504518a9a\",\"type\":\"Grid\"},{\"id\":\"e80cd7f9-12fc-4036-8644-e01421cbc560\",\"type\":\"BoxAnnotation\"},{\"id\":\"bfe47587-35d5-4e33-9941-bff67334f768\",\"type\":\"BoxAnnotation\"},{\"id\":\"f6b3a93b-bfdb-4f3a-a39d-a94893d1bd39\",\"type\":\"PolyAnnotation\"},{\"id\":\"4ab9c200-e07b-46a8-9fc4-d40c16d0eed1\",\"type\":\"PolyAnnotation\"},{\"id\":\"44e00fb9-d614-4ae0-be5b-29835c4c8b41\",\"type\":\"GlyphRenderer\"}],\"title\":{\"id\":\"aae81968-5eac-40d0-8600-0a25794f87a4\",\"type\":\"Title\"},\"tool_events\":{\"id\":\"2f135f86-a75e-4d91-a242-51a623891646\",\"type\":\"ToolEvents\"},\"toolbar\":{\"id\":\"274ac8c2-8a98-4c49-86a3-e8a44e5a283c\",\"type\":\"Toolbar\"},\"x_range\":{\"id\":\"7d80327e-25d2-4da4-8aa0-1a0a93011542\",\"type\":\"DataRange1d\"},\"y_range\":{\"id\":\"740ab16f-32e0-4eaa-a1dc-11329ba61441\",\"type\":\"DataRange1d\"}},\"id\":\"d8731dec-9e19-4ea9-821b-ca344e6a1967\",\"subtype\":\"Figure\",\"type\":\"Plot\"},{\"attributes\":{\"plot\":{\"id\":\"d8731dec-9e19-4ea9-821b-ca344e6a1967\",\"subtype\":\"Figure\",\"type\":\"Plot\"}},\"id\":\"4032e551-4b68-4e9c-890f-2dba03ae13e1\",\"type\":\"ResizeTool\"},{\"attributes\":{\"active_drag\":\"auto\",\"active_scroll\":\"auto\",\"active_tap\":\"auto\",\"tools\":[{\"id\":\"dc4213b3-6fd5-48a1-bf80-a4c4c907d75b\",\"type\":\"BoxZoomTool\"},{\"id\":\"b126bea4-79c6-4063-94ee-14a38a7f5385\",\"type\":\"BoxSelectTool\"},{\"id\":\"48e5b743-9622-4df0-bb23-076e583301d9\",\"type\":\"CrosshairTool\"},{\"id\":\"4032e551-4b68-4e9c-890f-2dba03ae13e1\",\"type\":\"ResizeTool\"},{\"id\":\"c23fb0aa-3a01-420e-a3e4-ab37412e1719\",\"type\":\"ResetTool\"},{\"id\":\"f9f5aabf-366e-473c-be18-7044047d20b8\",\"type\":\"LassoSelectTool\"},{\"id\":\"7bb648f4-3551-4898-ab26-2a335f87bc1b\",\"type\":\"PanTool\"},{\"id\":\"c83a9909-2bea-4080-a216-980c4c596bcd\",\"type\":\"SaveTool\"},{\"id\":\"13972261-f356-4966-94da-bcf4b14616fa\",\"type\":\"PolySelectTool\"},{\"id\":\"349a89e4-ab9e-4e54-b148-36a1ddb00e12\",\"type\":\"TapTool\"},{\"id\":\"5cfdf50d-70d0-4152-a771-123b558ccd7e\",\"type\":\"WheelZoomTool\"},{\"id\":\"da9db37f-0e62-45d4-bcf9-0c11212e7fea\",\"type\":\"UndoTool\"}]},\"id\":\"274ac8c2-8a98-4c49-86a3-e8a44e5a283c\",\"type\":\"Toolbar\"},{\"attributes\":{\"plot\":{\"id\":\"d8731dec-9e19-4ea9-821b-ca344e6a1967\",\"subtype\":\"Figure\",\"type\":\"Plot\"}},\"id\":\"7bb648f4-3551-4898-ab26-2a335f87bc1b\",\"type\":\"PanTool\"},{\"attributes\":{},\"id\":\"833570f4-4a50-46f5-aebb-26301718ff47\",\"type\":\"BasicTicker\"},{\"attributes\":{\"callback\":null,\"overlay\":{\"id\":\"f6b3a93b-bfdb-4f3a-a39d-a94893d1bd39\",\"type\":\"PolyAnnotation\"},\"plot\":{\"id\":\"d8731dec-9e19-4ea9-821b-ca344e6a1967\",\"subtype\":\"Figure\",\"type\":\"Plot\"}},\"id\":\"f9f5aabf-366e-473c-be18-7044047d20b8\",\"type\":\"LassoSelectTool\"},{\"attributes\":{\"plot\":{\"id\":\"d8731dec-9e19-4ea9-821b-ca344e6a1967\",\"subtype\":\"Figure\",\"type\":\"Plot\"}},\"id\":\"c23fb0aa-3a01-420e-a3e4-ab37412e1719\",\"type\":\"ResetTool\"},{\"attributes\":{\"overlay\":{\"id\":\"4ab9c200-e07b-46a8-9fc4-d40c16d0eed1\",\"type\":\"PolyAnnotation\"},\"plot\":{\"id\":\"d8731dec-9e19-4ea9-821b-ca344e6a1967\",\"subtype\":\"Figure\",\"type\":\"Plot\"}},\"id\":\"13972261-f356-4966-94da-bcf4b14616fa\",\"type\":\"PolySelectTool\"},{\"attributes\":{\"axis_label\":\"Predicted\",\"axis_label_text_color\":{\"value\":\"#aa6666\"},\"formatter\":{\"id\":\"de39a408-1013-42ed-a40b-a1b6b3e9bcb9\",\"type\":\"BasicTickFormatter\"},\"major_tick_line_color\":{\"value\":\"firebrick\"},\"major_tick_line_width\":{\"value\":3},\"minor_tick_line_color\":{\"value\":\"orange\"},\"plot\":{\"id\":\"d8731dec-9e19-4ea9-821b-ca344e6a1967\",\"subtype\":\"Figure\",\"type\":\"Plot\"},\"ticker\":{\"id\":\"065ec5fb-b556-4361-8b36-0ef5bfc94c29\",\"type\":\"BasicTicker\"}},\"id\":\"6f4e52f1-5503-4111-a2c8-522a146b70c3\",\"type\":\"LinearAxis\"},{\"attributes\":{\"plot\":{\"id\":\"d8731dec-9e19-4ea9-821b-ca344e6a1967\",\"subtype\":\"Figure\",\"type\":\"Plot\"}},\"id\":\"48e5b743-9622-4df0-bb23-076e583301d9\",\"type\":\"CrosshairTool\"},{\"attributes\":{\"plot\":{\"id\":\"d8731dec-9e19-4ea9-821b-ca344e6a1967\",\"subtype\":\"Figure\",\"type\":\"Plot\"}},\"id\":\"c83a9909-2bea-4080-a216-980c4c596bcd\",\"type\":\"SaveTool\"},{\"attributes\":{\"callback\":null,\"column_names\":[\"x\",\"y\"],\"data\":{\"x\":[48.3689477232,36.9764599848,42.6263021192,17.034194055999997,53.3431033776,21.286882024,11.901143733162408,31.481474159999998,47.78813314079999,28.6430393632,31.427557136799997,31.570909045675183,22.57344424,43.128792227999995,63.05809600800001,22.443822752,39.5854371688,44.876613887999994,34.9368520816,40.24885097599999,22.490707119999996,51.912026991999994,15.645727287199998,45.89152256,33.4707503152,39.783592571199996,50.59926468799999,24.096910409599996,38.230616828799995,18.955074191999998,37.4761921896,30.561161595199998,34.956571095200005,69.13060663562409,65.58295711999999,47.4016128952,34.842118079200006,39.136036712,21.986010688,19.7020524904,42.139328503684716,34.2309665528,44.78022514319999,11.481154352,13.0946660872,42.1417383864,40.837525584800005,39.677964847999995,39.925348836800005,22.161137592,19.7275631024,11.343259152,28.629801424,31.035284690837592,55.573144551999995,76.818658016,40.492925480000004,41.500939392,45.66744286,60.533234895999996,25.838802576,32.144887967200006,14.9934829912,44.767676679999994,58.14035919562408,29.615752104000002,30.935547063199998,42.5715577248,45.741216792,38.2642632576,40.39088303199999,35.721751559999994,67.647248264,36.9741157664,18.639294184,43.365282496,58.28534614167518,40.797673872,27.983072936000003,33.646428799999995,34.304051008799995,38.5836285408,67.517626776,40.7677506136,24.45571372,56.346047148000004,35.640393392,46.578378551200004,64.83832304,35.452304339200005,36.5012731256,44.29055928799999,45.237899312,38.3678225528,30.756972779199998,43.077908899200004,30.093558972,12.18993568,71.34008172000001,34.141472568,9.532695175999999,21.082797128,47.863423919999995,23.8578001328,44.4258344792,35.116391632,58.958058026399996,19.9577101912,29.30808821447068,61.542627759999995,41.555821681599994,49.260302296,34.526338071199994,31.848275391999998,22.278348512,23.4112954752,46.616851312,30.979535632,23.651784704,22.303169648,25.916299678399998,26.729605568,45.3603502496,32.12904971890827,42.248331375999996,53.1241258,21.252821909599998,39.41419103010827,42.68876864479999,26.878532384,25.2124825776,30.43707561490827,78.89673868,11.6299432728,61.67815904051279,60.67802485599999,41.023821999999996,38.67960359999999,24.2354950856,19.7663116536,46.616851312,27.8381450808,28.631180375999996,40.788021207999996,58.39999615199999,48.9110137544,36.7468644768,43.7442185056,35.97685768,56.935549128000005,12.7409648992,30.769934927999998,53.431632096,32.9761202328,56.7818944771624,61.897018423999995,42.3267937448,77.29715436,52.054059048,63.777908952000004,15.342219951999999,32.261960992000006,20.7226148656,29.505435944,25.879895345599998,36.932471416,37.23859876,27.67556664,27.898129492800003,6.0300192008,33.365122592,19.1774991496,19.7061893464,31.394600184,38.7532396368,51.28225961359999,25.580938552,28.597258156800002,54.817478855999994,27.078480424000002,11.8423018808,23.768857728800004,29.334445896,48.97348028,36.50085943999999,34.8099884976,56.659758728,34.57091761883759,36.48017516,59.135115463199995,44.9388046232,38.178906128799994,40.5457393416,51.037771424,32.46072707294586,22.634118128,36.1122707664,37.5441745232,38.08941214399999,53.49920074399999,61.173068623999995,48.312824376799995,57.05463148167519,23.5967645192,29.787845313600002,31.755747712799995,31.6651505664,23.0247752296,16.350371759199998,51.4595928408,27.6150306472,24.921799496,39.69313332,12.200691505599996,35.6249491296,27.991346647999997,79.41798253599998,24.608087916,56.477737063999996,40.72969153839999,29.424077776,22.0826752232,44.61722645046041,28.865602216000003,58.711639303999995,43.1454775472,12.562666405599998,32.599804232,12.352652015999999,38.2388905408,38.164702923200004,10.5860766088,41.565474345599995,23.3411068184,40.72969153839999,42.4478657304,25.338243,62.048703144,66.590971032,48.168172312,35.340372834837595,38.9731824808,18.1095008256,16.115812024,37.798453272,45.775276906399995,52.69665067999999,35.4379632384,15.319467244,77.29715436,34.8621128832,35.1588633536,21.8468744312,57.37819272,43.48387236799999,42.5044027624,30.688025179200004,49.72500912,17.0970742672,41.261001744,66.33724386399999,46.943662935999996,66.78067543054136,4.0481893864,73.495383696,12.712558487999999,10.860625951999998,50.340021711999995,34.408989256,34.238274998399994,12.981454128,22.547244152,14.835455091999998,14.538290936,10.375234848,23.206383208,18.459065157599998,18.669631128,55.52310829410827,37.57919990399999,23.912406632,23.232583296,19.817194982399997,14.5809005528,51.1946961616,34.8297075112,23.651784704,20.028450428800003,41.15137506,14.296836440800002,20.928078713599998,21.8561134096,23.404124924799998,24.181302272,23.084759641599998,47.00800089645714,49.520924224,34.935748919999995,68.97380008799999,35.374255655999995,50.48205376799999,42.747374104799995,44.933150919999996,37.278588368,23.222930631999997,25.1112675008,44.8762002024,6.2536852152,15.618837723199999,40.441904256,28.95897696610827,29.863825568800003,37.7900416648,22.294895936,32.958883332800006,55.96575188610827,13.401542006324814,25.356169376,19.956193344,56.428784268,17.5848095896,60.061633312000005,13.697130216,26.673344326400002,27.016427583999995,71.93854688799999,67.117730696,18.835105368,27.974109747999997,35.4106599888,34.004128948799995,27.034491855200002,48.890053683999994,30.2777869592,55.111195632,39.418721872,32.3799992832,12.1971062304,66.808845448,48.718374159999996,31.920965862108268,24.404692496,35.881709992,36.477417255999995,18.371363810400002,12.212511094762407,38.34727616799999,57.46230879199999,45.686058712,31.1262561248,31.920965862108268,37.608157895999994,65.98740374159999,33.8989149112,31.0020125496,31.2495344336,13.389899710399998,12.3134897792,34.093209248,37.970822272,41.30774821679999,16.095127744,13.283996196799999,48.9580360176,20.3523662536,44.6329530696,67.17840458399999,37.131040504,45.17239909199999,36.227964839200006,45.2474140808,28.7423239072,50.62546477599999,35.634877584,63.04623702080001,21.081418176,29.2707383136,24.919041592,23.631100424000003,50.1261462568,36.0322915504,34.0777649856,47.3238400024,13.247256975854134,37.24687247199999,49.2432032912,49.79829056894586,17.293299136799998,31.971967386400003,29.053691268799998,61.275111072,17.70574368,32.30707242210828,33.173448264,67.17840458399999,35.62494912959999,34.77833169934586,42.3263800592,40.228166695999995,34.509928542400004,8.6056257464,39.149826232,52.62593014210827,68.176765832,34.9835985544,27.8007754816,56.783864408,10.3757864288,24.145311624799998,10.936842599562407,41.722536978399994,42.56204295599999,43.327361315999994,15.7292917784,51.29839335199999,56.352252432,27.9502538784,20.988752601599998,23.198464082475187,38.0447340992,50.8234822832,15.688612694399998,38.265918,41.679375780799994,10.015742061600001,23.375994303999995,65.558135984,43.241176816,36.7026001176,30.12320644,12.499924089599999,24.861125608,36.76010241600001,33.94979823999999,14.772712776,38.84907680079999,17.2646169352,14.4123926184,14.190795032,7.680762639999999,11.917730555199999,17.481939770399997,40.418462072,54.09904486400001,39.184989507999994,40.750375818399995,36.818156295200005,48.625984376,26.031658863054133,29.8123906592,36.818156295200005,12.615637863487223,26.9754727096,52.608397751999995,35.3243375936,54.8210641312,29.564179299200003,26.031658863054133,27.247953624799997,30.956369238400004,12.992485744000001,42.047280174399994,28.560853824,30.956369238400004,56.3420481872,12.3555478152,33.04796363199999,46.5483173976,29.9359447584,52.66907163999999,22.572341078399997,41.31050612079999,77.29715436,49.853251656,36.1459171952,25.100511675200003,38.0447340992,22.48381236,28.2687917904,23.1476398528,36.488448872000006,13.037715369599999,65.19685056,49.84612707066667,40.5788341896,19.7356989192,44.4021165048,12.511369391199999,22.823428537891726,24.982473384,37.781905848,47.66485483199999,32.0556697728,68.50633536,35.901566900800006,49.84612707066667,40.8704825376,35.3011712,33.9156002304,31.6928675016,21.096172962399997,17.7884808,26.7331908432,15.08573488,66.974319688,47.205663816,30.05770622,30.009167109599996,42.964007464000005,37.0670571312,50.901117280799994,43.491594499200005,53.97562866,52.765598280000006,38.98218506752706,19.3111195984,37.431652039999996,64.30053176,18.12632404,33.034095314545866,55.89581932,30.829623849891725,28.8962149504,37.212260776799994,56.898317424000005,66.99914082400001,50.07664188,39.072604919999996,32.1590911728,24.858505599199997,36.8865523144,53.8171870752,11.8221691816,70.43548920799999,46.1780687856,34.6526500744,17.173468208000003,45.2798194528,24.865262463999997,51.112234832,31.464926736000002,51.106719024,18.3575742904,42.6403674296,35.3011712,41.8564332176,40.5693194208,48.81310816239999,19.98790924,16.176485911999997,34.228346544000004,41.128622351999994,42.707246601600005,39.347016368,39.115352432,32.413645712,45.3380112272,15.695231664,25.288049147199995,13.461329423999999,31.6928675016,30.994428313599997,35.649908160799995,31.717964428,42.64133269599999,46.989857828000005,30.983672487999996,32.2386567032,12.7206943048,11.2845157968,32.8416724128,24.964547008000004,33.6832468184,64.244684204,34.386926024000005,31.724169712000002,36.122475011199995,37.701926631999996,26.3619769648,16.49916068,53.48720386160001,49.7827872088,14.6317838816,20.436620220800002,8.4004376888,15.261649757162408,14.711763097599999,26.0715696736,51.6543008632,45.364211315199995,27.435628991999998,40.27229316,71.29871315999999,17.57474324,41.83740368,60.198149560000004,28.109109148799995,34.04632488,41.42371808,13.752977772,11.959650696,41.985778915199994,18.845309612799998,42.122846744,38.0008834256,27.027459201378946,44.086474392,41.9866062864,43.325292888,48.9781687168,31.178104720000004,49.61207295119999,42.57573397883759,18.1226008696,24.950068012,38.758203863999995,56.558405756,55.00501632799999,51.6543008632,31.110536071999995,64.47979552,77.29715436,33.54812922348723,11.543069296799999,34.505515896000006,54.137655519999996,15.615941924000001,61.99177212610827,39.51249060799999,29.250329823999998,12.4398017824,37.233772427999995,45.159299047999994,30.154508650400004,38.152430250399995,48.07026671999999,10.807083216362408,41.61263450399999,20.9847536408,42.091820324000004,51.643131352,32.03581286399999,12.261641184,25.82777096,35.607850124799995,26.098636530837588,40.5928995,22.9720992632,26.986090639999997,26.3532895672,32.859047208,60.78185994160001,28.811823088,10.389024368000001,37.015208536,60.78185994160001,30.767177023999995,24.470882191999998,22.134661713600003,44.3444763112,79.29663476,40.6636397376,33.098984855999994,49.687777415999996,13.954994239999996,25.360030441599996,41.80403304159999,52.0452337552,34.330388991999996,17.352456177599997,37.5859567688,38.75406700800001,49.185149411999994,42.6991107848,28.330293049600005,11.682481344,24.00065956,13.480634752,56.756285368,25.202002542399995,23.337107857600003,60.294676200000005,38.310044464,11.5005975752,36.46417931679999,36.500583649599996,50.407866150400004,18.9292877896,43.256621078399995,20.713100096799998,35.29882698160001,35.225328839999996,29.363994868216544,68.58907248,31.521463768,54.46860399999999,17.996702551999995,25.591970167999996,50.7677726224,38.75406700800001,47.724149768000004,48.434310048,21.712840296800003,25.677189401599996,36.289879784,20.202198380800002,39.100183959999995,52.240217568000006,26.20698276,27.3028359144,65.19685056,15.156337222399998,41.641592496,35.011177594399996,37.732263575999994,39.546964408,24.3787681984,46.59823546,41.247212223999995,40.036492368,26.1161098232,56.506695056,62.43053495280001,71.69860924,42.652364311999996,64.54736416799999,26.8550902,40.563252031999994,16.268875696000002,21.94602108,42.397258191999995,24.098565152,22.7096846976,13.752426191199998,55.4749631696,15.801410967999999,20.8085235752,28.025820448,51.006055528000005,34.330388991999996,35.3011712,24.978336528,24.4885327776,61.417143128,23.547673828,33.683660504,11.534244003999998,44.4597566984,41.302370304,43.94306338399999,23.3285583552,25.0969264,42.895059864,37.878708278400005,10.642199955199999,51.429393792,42.707522392,44.949698344,68.131260416,25.412706408,23.5795276192,29.962972217599997,48.38405709745413,27.912746383999995,49.582977064,64.33855143647293,32.0545666112,38.2504737376,57.243055424,29.285630995200002,54.270862283199996,41.63607668868947,34.83549910960001,61.284172756472934,11.839681872,8.179214389962407,13.0206163648,12.8112914512,36.164670942399994,6.605869556,32.45225636799999,34.1789800624,40.323314384,25.08313688,27.640817049599995,56.80592764000001,26.5486870656,50.220052888,60.33177000880001,79.29663476,11.868226178399999,54.700267936,29.210478111199997,55.93580892799999,28.833886319999998,44.198445294399995,37.716405628000004,69.14892699199999,39.700028079999996,32.76399145013333,43.1472701848,32.0545666112,34.578600351999995,52.981404268000006,43.03019715999999,5.7739478144,29.6651185856,35.677625096,61.46343651647294,28.007894071999992,13.0206163648,50.693033424,8.2908110048,22.343159256,65.37985719010827,24.4190335968,51.021224,35.644333255054136,19.0441544912,38.35830778399999,16.404012992,18.2272633264,38.172425054399994,47.7816520664],\"y\":[4.476905563200006,-1.2342999351999993,9.2067109232,3.913465775999997,6.120892137600002,-1.0314560959999994,-0.571477106837591,2.5434769639999963,0.758285704799988,2.320224635199999,0.9878812128000014,18.932813965675184,1.7995323600000006,-0.6694811959999996,-3.041968111999992,7.0822974720000005,-1.2798053511999967,-1.063171992000001,1.1801071216000025,-3.3329269840000038,-1.0335245240000042,9.212778311999998,1.501816623199998,-2.5096926399999973,-1.0988868487999994,3.9239458111999994,-8.495723272000006,-0.4001718704000048,0.5086953927999929,3.434969431999999,5.0749570456000015,-2.4923178447999987,-14.29269958479999,-2.5680026043759057,10.686877999999993,-3.0576881647999983,-17.02164559279999,10.453835112,-4.786342391999998,2.4658419663999993,5.300625823684719,-5.999958047200003,-2.934271960800004,0.11858987200000115,3.104158847200001,1.2165114544000062,0.2742735528000111,7.962068847999994,0.5080059168000091,4.034813551999999,1.442659582400001,1.476857592,-12.669810976,-3.521252429162409,1.6147527919999973,-5.780566784000001,-14.105989483999991,-3.1109157119999935,6.377653000000002,-2.9950837439999987,-13.323434224000003,-7.1766177887999945,-5.422590844799998,0.37231703999999866,1.8032752356240778,-8.884587735999993,-1.3098665048000058,0.3425316768000002,-0.506075383999999,4.576465897600002,-3.818318088000005,1.9925856399999944,2.7468723839999996,3.7820516503999926,6.1873576240000006,-0.7749710240000027,0.36936214167518244,-14.712038888000002,-9.283104863999998,-8.570186680000006,-6.899034751200006,-1.1956892791999962,2.6172508960000016,1.1056437136000028,0.9445821199999997,1.580968468000009,6.567258900000002,-3.194893888799996,-0.35852751999999555,-1.1361185527999922,-15.505901554399998,7.024381487999989,1.6595687320000039,-2.311261447199996,3.7915664191999987,6.825950295200009,4.367140983999999,0.008963187999999178,-1.6547423999999893,5.514429047999997,-1.859516772000001,0.9983612479999984,-0.42058036000000243,-0.14285942719999767,-0.8789440047999975,-0.6467284879999937,-15.236454333600008,5.258081871200002,3.698979645012038,-0.44815940000000154,3.4815780095999997,-4.8359846640000015,-6.330630736800003,-7.996542648000002,-0.15720052799999706,-2.482665180799998,3.696970312000005,0.33232743200000314,-2.5483032960000003,-0.8356449119999994,-0.9387905216000014,0.5819177440000018,-7.086020642399994,-5.79213028109173,0.4116171719999997,4.136856000000002,12.716419553599998,3.659935599566907,-5.8986050752000025,5.2772493040000015,-3.586929942400001,-2.386118841091733,-0.39989608000000487,-0.02495903119999987,-5.102516390028576,-0.4164435040000072,-7.646288840000004,-1.516847200000008,-2.022508898399998,6.307740133599999,-1.1224669279999944,4.1415444368,0.8039290159999979,9.437547487999996,-1.9222590880000041,0.21539230240000506,-2.346424723200002,10.627307273600003,-1.351372959999999,6.2383788480000035,-0.824475400799999,-2.9178624319999997,-0.03033694399999831,16.4721332208,-5.073952377025556,1.6023422239999974,-0.6861665152,0.0,-4.793237151999996,8.281985712000008,0.2930273000000003,14.425216872000007,0.9574063736000014,4.966985103999999,3.9338742656,3.3687797360000005,-5.819177439999997,-0.005515808000001954,-3.1282905071999956,3.6982113688,-8.927335247999999,3.8366581496,0.014754786400001052,-2.306986695999999,-9.028826115199998,-4.859702638400009,0.6908549519999987,-1.2736000671999932,-3.787981144000007,2.174607304000002,-1.5532318344706795,-0.01806427119999654,-4.3947200240000015,-3.0681682000000023,5.150385719999992,-3.1456653023999976,-0.9390663120000013,5.123397658837593,12.589831760000003,-8.56453297680001,10.2030037432,-0.8771513672000069,15.448812941599996,5.670250623999998,4.364580072945859,-0.5874335519999967,-4.035916713599995,-4.595909120799995,0.7473919839999965,9.365841983999992,0.8921819440000007,-1.4604480632000048,-2.535794233595489,5.637293671199998,5.683764353600004,4.811025632799996,-0.30171469759999425,-5.212714350399999,0.2407650191999977,-2.815957879199999,8.868867683200001,0.004136855999998801,-1.1652144399999997,0.7347056255999966,-2.783000926400007,2.7909988479999974,0.01792637599999125,1.0900615559999984,-9.946380775999998,1.2778748183999937,-0.3612854239999983,-0.26531036480000125,-11.278592869539594,-1.2576042239999978,-8.857008696000001,-10.378544332799997,-0.7304308744000014,8.502618031999997,-2.6365562240000013,-1.3439266191999977,-10.681913772799994,-1.3715056592000003,2.189499985599994,3.3531975783999997,1.2737379623999914,3.0263859543999985,0.8549502400000009,2.8502937840000016,-0.1089372080000004,-1.805048167999992,-5.373184965162402,-0.7261561231999991,-2.167988334399997,-1.4589312159999999,4.716015840000004,4.723875866399993,-3.4473800000000097,-7.939040349599999,0.23373236399999975,0.0,2.0223710032,-2.278993970400002,-1.897300056799999,0.9790559200000004,0.09514768799999729,-2.1936368415999965,-2.0324373527999953,-4.178224559999997,9.347364027200001,-6.554158856000001,6.442463743999987,8.925956295999995,-1.9699314236465995,-2.8355389975999996,-3.3053479439999904,0.8604660479999993,2.3731763919999977,1.1390143519999967,1.6409528799999933,1.0262160783999974,-5.013869472,-1.253467367999999,7.933110855999998,-3.588033104000001,-0.16064790799999962,-2.304228792,4.997735733599997,-6.813401832,-0.1244996658917259,4.615352343999994,4.496762472,0.2868220160000021,0.12576042239999907,-3.453033703199999,-1.7136236503999953,11.584516657012038,-2.038091055999999,2.0744953888000026,-2.546924343999997,-1.2784263991999971,-4.494280358400001,-7.301826630400001,0.9685758847999999,1.6492265920000015,1.9054358735999983,13.609783456457144,0.5474439440000012,12.446420751999995,1.6671529679999963,-4.236140544000001,5.397218127999992,4.286334396799994,-1.998790923999998,-3.3177585119999975,-7.224329528000002,0.820338544800002,-5.1177045576,-1.8097366048000003,-0.6596906368000006,0.05240017599999902,5.319799820296232,8.797575864800002,-5.4607878152,1.376194095999999,-0.8399196631999928,11.935814526108274,3.5518848605127733,-0.26475878399999786,-4.4926256160000015,-19.806577051999994,1.8364882736000006,1.5389104320000087,5.857788096,9.397833670400004,-0.2040848960000048,0.6398337279999993,-0.9818138239999996,-5.820556392,1.0604140879999981,2.0110635967999997,4.611767068799995,-2.857740124799996,2.088422803999997,-0.9761601207999995,-0.43988568800000394,10.419361312,-6.920132716799998,1.8611715144000005,-13.177265312000003,1.441004839999998,6.89988182210827,0.011031616000000355,-7.851752687999998,-13.323434224000003,9.359912490400003,0.7982359147624081,4.804268767999993,1.6354370719999878,-1.2120988080000004,-0.6172189151999987,-3.4422581778917305,2.2656181359999934,-0.009238978400006204,3.6653923112000015,-4.312258694399997,-5.685694886399997,0.6552779903999983,1.1439785792000006,-4.510551991999996,-6.638274928000001,0.15637315679999375,3.3067268960000007,1.1078500367999986,15.914898717600003,-1.506780850400002,3.5801730776000014,-4.120308575999999,-10.580698695999999,-1.0569667080000045,9.483190799200006,3.7064850808000003,1.8251808672000003,-5.318617864000011,17.811922984000002,1.8104260808000063,5.740577176,-2.148683006399999,3.0074943119999986,6.752727944000004,-2.294714023200001,-1.1387385616000003,-5.567105014399999,-3.331272241599997,-0.2733673841458657,1.2906990719999953,2.1106239311999957,-6.297476791054137,-2.0568448032000006,-0.09625084959999697,10.8549722488,0.9804348720000036,4.371277840000001,4.383294422108278,-0.43161197599999923,-4.120308575999999,-0.822820658400012,1.289497414616548,3.867408779199998,1.5278788159999976,0.7118150224000033,-10.8100184136,-0.33646428799999484,-6.675900617891735,-12.023082488,2.931927742399999,5.941628377599997,0.039989607999999066,-0.15940685119999998,-1.8203545352,6.033289287562407,-0.21828810160000245,0.6274231599999922,-24.537761364000005,2.6402793944000003,0.27716935199999426,3.3936008720000004,-1.0353171615999983,3.024455421599999,-6.350507348066174,-3.199720220799996,-7.961241476799998,3.2290918983999983,3.5921699599999997,-0.004964227200005666,-6.873662034399999,-1.8409009200000028,-1.0383508559999939,-8.090311383999996,3.6835944776000034,0.0,-0.7938626664000008,-9.909149072000002,-1.3541308639999912,-1.9029537600000026,-1.4920260639999992,0.6452116407999924,-4.555230036799998,-0.08728766159999957,4.455393912000002,-3.08195772,-5.248153416800001,2.9408909303999966,3.779707431999995,4.02240298400001,2.220802195999994,-3.545699277600008,0.4689815752000044,-7.435309183999998,6.926278903054133,5.530424891199999,0.46829209920000636,-2.454337567054136,1.5145029815999997,13.908109871999997,-8.052665994400002,-12.29252970879999,2.329877299200003,6.832510167054135,-2.165092535200003,1.3020064784000063,-0.6315600159999981,1.8990926943999966,-0.9900875360000008,-1.7041088815999963,-0.353563292799997,0.8716355592000014,-2.1773652080000048,4.221385757600004,-3.0678924095999953,1.4134257999999917,0.6552779903999983,3.094919868799998,0.0,-2.573124432,-1.0857868048000014,-1.1271553647999966,-0.9520284608000011,-2.5027978799999957,5.433346670400002,10.902546092800002,-3.116431519999992,-2.4823893904,0.0,-6.049692249333333,1.2207862056000067,2.159576727200001,3.467236908799997,0.4593289112000001,-1.5812639581082735,1.4575522640000003,-1.5182261519999969,-7.789699848000012,-5.375982267199994,-1.3306886800000086,4.551093180800006,3.6443403106666707,-5.517462742399999,0.0,5.288556710400002,-0.18160797839999887,0.5022143183999965,5.240017599999998,-6.931164332800002,-0.0055158080000001775,-2.6834405919999966,-12.558115864000001,-6.385926712,7.077195349599997,0.93355050400001,4.440363335199997,-15.922896639200005,-28.4965946608,-20.389282798120405,-19.332907039999995,1.9917976675270666,-2.228110641599997,0.0,0.0,10.81098368,-5.569665925454132,32.998321360000006,-1.1817618653789523,1.2206483104000014,-2.8497422032000017,0.4026539840000041,-3.6997282159999827,3.4335904799999994,7.101602799999998,-0.5634397872000037,1.0715835991999967,3.929599514400003,-1.340892924799995,1.4386606216000004,-4.062392592000009,-7.545901134400005,3.771020034400003,3.6321595680000023,1.704936252799996,3.3605060239999993,-1.714726811999995,-1.5954474639999958,0.33370638400000274,-1.1814860736000021,0.5092469735999998,0.0,0.31343578959999974,-6.832155579199998,-2.9196550696000045,0.0,1.132119591999997,4.636036624000006,-0.9983612480000019,-9.596402758399996,-0.03585275199999671,-0.03309484799999751,-3.8872656879999994,1.011599187199998,-7.709720631999998,2.658067875199997,-2.1546125000000007,7.857682181599998,-4.230900526399999,4.471803440799995,3.843139223999998,4.07894001599999,-7.325682499999992,-11.653523352,-1.0630340967999956,0.17912586480000137,6.502310260799999,3.7733642528000004,-9.274831151999997,0.798688998400003,14.347306083999996,2.850293784000005,-1.9774171679999988,3.3585754912,-0.2123586080000024,0.8024121688000001,-0.9376873600000017,-3.7310304263999825,-0.7440824991999975,0.32515688160000167,1.4270774248000038,-1.6893540952000006,2.078868637162408,1.1911387375999993,-4.204010962400002,-0.8623965807999951,-36.38695800480001,-1.0328350480000026,-0.5860546000000042,0.0,0.20684280000000044,-14.05841564,-2.3028498399999933,1.8759263007999927,-0.15857948000000022,0.013789520000003108,4.1354770479999985,-5.263459783999998,-2.402685964800007,-0.9198988792000016,-8.388165015999995,-1.0510372143999973,1.9108334861082668,8.516407552000004,-2.2915424336,-7.275350752000001,-19.321323843200005,-0.0006894759999980238,-12.440767048800005,3.3445495788375936,3.0920240696000008,7.353261540000002,2.195291583999996,-3.2398477240000005,-1.8078060720000124,-1.6463307928000006,-6.886486288,0.17926375999999777,0.0,-5.062526776512769,0.7555278007999995,0.01792637600000546,0.4826331999999951,2.3917922440000012,-1.4055460738917276,2.5772612879999954,3.8776130239999986,0.26365562239999996,0.06412126799999385,-5.896398752000003,8.242961370400003,-6.146402749600007,-5.701966520000006,-10.483935663637592,-3.685938696000008,2.568849680800003,-0.5288280919999977,-9.306547047999999,0.9197609839999927,-3.1757264559999996,1.5857947999999986,-7.187925195200002,4.131931170837589,1.9622486960000032,-3.0900935367999978,2.5579559599999975,-1.418803712799999,0.9590611160000009,4.1627802976000154,-4.462288671999996,-1.1872776719999987,6.7954754560000055,4.168985581600012,-2.539340108000001,-5.459270968000002,-1.8659978463999956,-1.8897158207999993,0.0,-1.0558635463999977,-0.2992325840000021,-1.3472361040000038,-1.034214000000004,-2.661653150400003,9.405555801599995,-1.0588972408000004,-0.9707822080000028,2.556301217599998,7.5061873168000055,1.4885786840000108,-1.763679608000004,-0.9991886191999981,6.680746649600007,-11.394280376000001,-0.06481074400000253,3.4487589520000004,-2.042227911999994,0.022339022399997077,-1.1006794863999971,7.105427357601002e-15,-2.348355255999998,3.9935828872000014,-19.135165323200006,0.19967224959999896,-24.289963689599993,9.3676346216,-0.9512010896000049,7.516529456799999,7.363327889600011,9.176925559999997,-2.7458874165127725,-10.211139559999992,5.1214277280000005,-2.164954640000005,2.3056077439999942,0.5088332879999982,-0.25345137759999403,1.4947839680000072,5.300691488000005,4.935269208000001,-1.8107018711999956,0.11831408159999768,4.649826144000002,7.364155260800002,5.1365962,3.039210208000007,10.637235728,-1.6882509336000027,0.0,2.7836904023999978,-0.24407450399999675,9.266143754399998,-2.3262920240000042,-6.682401391999996,0.6401095183999992,3.0330049239999965,0.19581118399999298,7.182960967999996,-4.907552272800004,-3.6914545039999993,-3.476475887199989,-1.5995843200000053,-1.6257844080000012,12.347136207999988,-0.004826331999996825,-0.1958111840000072,4.802889816000002,0.16547424000000177,1.8284903519999958,-4.197529887999998,4.422023273600001,-0.45077940880000256,10.9554978496,0.9576821639999995,-0.45491626480000136,-11.370838191999997,-1.4354890319999924,-0.9707822080000028,-5.79849316,0.694991808000001,-0.6911307423999986,-0.38059075199999626,-0.14272153199999948,2.415923904000003,2.402823859999998,7.654838342399998,10.455214064,1.3954994239999934,4.319705035199998,-0.006894759999998001,-1.7416163760000032,-1.1166753295999925,1.3342739551999987,-4.1216875280000025,3.9382869120000024,-0.8866661360000023,-6.035672903999995,2.659998408,-4.162918192799996,0.09487189759999737,-0.8010923145458619,3.574243583999994,5.059374887999994,-4.160889163527074,0.40761821120000263,0.822958553600003,-10.553119656,-7.153175604799998,-0.7493225167999995,2.6314344039601565,2.302574049600011,-12.413916883527058,-8.093069287999999,-0.19516110603759174,2.7984451888000006,-1.7856049447999975,-7.534317937600008,-1.1176405960000002,1.1017826479999933,-10.689360113600003,-5.0442064160000015,-4.667752519999997,1.4958871295999963,1.6064790800000068,-2.6830269063999985,-0.8218553920000033,-5.577309259199993,0.0,2.130067154399999,-0.19581118399999298,-8.152226328800005,4.211319407999994,8.108237759999998,-8.622311065600002,5.613713592000003,-2.4738398880000148,3.8341760360000023,-2.337231709866664,-3.0958851351999996,0.21456493120000175,1.180382911999999,-4.231314211999994,-0.9121767480000074,-1.9019884936000002,11.635321185599999,3.8024601399999973,-14.034185483527054,3.6073384319999917,4.8165414408,4.008613464,4.9709840648,1.3210360160000008,24.011297190108266,-2.6222151232,6.598285319999995,1.2463756150541343,-1.9228106688000004,1.3886046639999918,10.136676152,2.810579966399999,-1.262844241600007,-2.950681489600001]}},\"id\":\"2aff208b-01e6-4389-9ea9-63ff0641e9db\",\"type\":\"ColumnDataSource\"}],\"root_ids\":[\"d8731dec-9e19-4ea9-821b-ca344e6a1967\"]},\"title\":\"Bokeh Application\",\"version\":\"0.12.2\"}};\n",
       "            var render_items = [{\"docid\":\"a8d1055a-b033-4dd1-a92f-23e0c962180c\",\"elementid\":\"2bffd2b2-6e08-428d-bb68-c5294d9c8256\",\"modelid\":\"d8731dec-9e19-4ea9-821b-ca344e6a1967\"}];\n",
       "            \n",
       "            Bokeh.embed.embed_items(docs_json, render_items);\n",
       "        });\n",
       "      },\n",
       "      function(Bokeh) {\n",
       "      }\n",
       "    ];\n",
       "  \n",
       "    function run_inline_js() {\n",
       "      \n",
       "      if ((window.Bokeh !== undefined) || (force === \"1\")) {\n",
       "        for (var i = 0; i < inline_js.length; i++) {\n",
       "          inline_js[i](window.Bokeh);\n",
       "        }if (force === \"1\") {\n",
       "          display_loaded();\n",
       "        }} else if (Date.now() < window._bokeh_timeout) {\n",
       "        setTimeout(run_inline_js, 100);\n",
       "      } else if (!window._bokeh_failed_load) {\n",
       "        console.log(\"Bokeh: BokehJS failed to load within specified timeout.\");\n",
       "        window._bokeh_failed_load = true;\n",
       "      } else if (!force) {\n",
       "        var cell = $(\"#2bffd2b2-6e08-428d-bb68-c5294d9c8256\").parents('.cell').data().cell;\n",
       "        cell.output_area.append_execute_result(NB_LOAD_WARNING)\n",
       "      }\n",
       "  \n",
       "    }\n",
       "  \n",
       "    if (window._bokeh_is_loading === 0) {\n",
       "      console.log(\"Bokeh: BokehJS loaded, going straight to plotting\");\n",
       "      run_inline_js();\n",
       "    } else {\n",
       "      load_libs(js_urls, function() {\n",
       "        console.log(\"Bokeh: BokehJS plotting callback run at\", now());\n",
       "        run_inline_js();\n",
       "      });\n",
       "    }\n",
       "  }(this));\n",
       "</script>"
      ]
     },
     "metadata": {},
     "output_type": "display_data"
    }
   ],
   "source": [
    "# Plotining using bokeh\n",
    "#TOOLS = 'hover,box_zoom,box_select,crosshair,resize,reset,DecisionTreeRegressor_select,pan,save,poly_select,tap,wheel_zoom,undo'\n",
    "TOOLS = 'box_zoom,box_select,crosshair,resize,reset,lasso_select,pan,save,poly_select,tap,wheel_zoom,undo'\n",
    "p = figure(plot_width=500, plot_height=500, title=\"Residual plot on the training data\", tools=TOOLS)\n",
    "p.scatter(predicted, (predicted - Y),x=\"jjj\", marker=\"o\", color=\"#80B1D3\", line_width=3)\n",
    "p.title.align = \"center\"\n",
    "p.xaxis.axis_label = \"Predicted\"\n",
    "p.xaxis.axis_label_text_color = \"#aa6666\"\n",
    "#p.xaxis.axis_label_standoff = 30\n",
    "p.xaxis.major_tick_line_color = \"firebrick\"\n",
    "p.xaxis.major_tick_line_width = 3\n",
    "p.xaxis.minor_tick_line_color = \"orange\"\n",
    "p.yaxis.axis_label = \"Residuals\"\n",
    "p.yaxis.axis_label_text_font_style = \"italic\"\n",
    "p.yaxis.axis_label_text_color = \"#aa6666\"\n",
    "p.background_fill_color = \"beige\"\n",
    "p.background_fill_alpha = 0.5\n",
    "#p.line([2,38], [0, 0], line_dash=\"4 4\", line_width=2, color='red')\n",
    "show(p)"
   ]
  },
  {
   "cell_type": "markdown",
   "metadata": {},
   "source": [
    "## Pipeline"
   ]
  },
  {
   "cell_type": "markdown",
   "metadata": {},
   "source": [
    "The best to deliver the model by pipeline the operation then at deployment can be done in one model."
   ]
  },
  {
   "cell_type": "markdown",
   "metadata": {
    "collapsed": true
   },
   "source": [
    "  I used two ways to check the pipeline so any one can be fine"
   ]
  },
  {
   "cell_type": "code",
   "execution_count": 22,
   "metadata": {
    "collapsed": false
   },
   "outputs": [
    {
     "name": "stdout",
     "output_type": "stream",
     "text": [
      "0.973802492911\n",
      "Scoring according to mean_squared_error\n",
      "[-46.79265303 -29.36059911 -24.29656334 -29.31566809 -40.66237213\n",
      " -34.63862703 -49.31542424 -37.57340886 -21.8299252  -36.76342097]\n",
      "\n",
      " Mean      Standard deviation\n",
      "-35.05      8.59\n",
      "[ True  True  True  True  True  True  True  True]\n",
      "R-squared =  0.973802492911\n"
     ]
    }
   ],
   "source": [
    "# Use Pipeline\n",
    "# ANOVA \n",
    "from sklearn.pipeline import Pipeline\n",
    "from sklearn.feature_selection import SelectKBest, f_regression\n",
    "anova_filter = SelectKBest(f_regression, k=8)\n",
    "LR = BaggingRegressor(n_estimators = 5 )\n",
    "\n",
    "anova_LinReg = Pipeline([ ('anova', anova_filter), ('LinReg', LR)])\n",
    "# You can set the parameters using the names issued\n",
    "# For instance, fit using a k of 10 in the SelectKBest\n",
    "anova_LinReg.set_params(anova__k=8).fit(new_data, Y)\n",
    "prediction = anova_LinReg.predict(new_data)\n",
    "print anova_LinReg.score(new_data, Y)                        \n",
    "# getting the selected features chosen by anova_filter\n",
    "results = cross_validation.cross_val_score(anova_LinReg, new_data, Y, cv=kfold, scoring=scoring)\n",
    "print 'Scoring according to mean_squared_error'\n",
    "print results\n",
    "print '\\n Mean      Standard deviation'\n",
    "print(\"%.2f      %.2f\" % (results.mean(), results.std()))\n",
    "print anova_LinReg.named_steps['anova'].get_support()\n",
    "r_squared = r2_score(Y, prediction, multioutput='variance_weighted')\n",
    "print 'R-squared = ',r_squared"
   ]
  },
  {
   "cell_type": "code",
   "execution_count": 23,
   "metadata": {
    "collapsed": false
   },
   "outputs": [
    {
     "name": "stdout",
     "output_type": "stream",
     "text": [
      "R-squared =  0.972340220802\n"
     ]
    }
   ],
   "source": [
    "# Using make_pipeline\n",
    "from sklearn.pipeline import make_pipeline\n",
    "\n",
    "# ANOVA SVM-C\n",
    "# 1) anova filter, take 3 best ranked features\n",
    "anova_filter = SelectKBest(f_regression, k=8)\n",
    "anova_BaggingRegressorNoProcessing = make_pipeline( anova_filter, LR)\n",
    "anova_BaggingRegressorNoProcessing.fit(new_data, Y)\n",
    "prediction = anova_BaggingRegressorNoProcessing.predict(new_data)\n",
    "r_squared = r2_score(Y, prediction, multioutput='variance_weighted')\n",
    "print 'R-squared = ',r_squared"
   ]
  },
  {
   "cell_type": "markdown",
   "metadata": {},
   "source": [
    "### Save the Pipeline model for developement"
   ]
  },
  {
   "cell_type": "code",
   "execution_count": 24,
   "metadata": {
    "collapsed": false
   },
   "outputs": [
    {
     "data": {
      "text/plain": [
       "['anova_BaggingRegressorNoProcessing.pkl',\n",
       " 'anova_BaggingRegressorNoProcessing.pkl_01.npy',\n",
       " 'anova_BaggingRegressorNoProcessing.pkl_02.npy',\n",
       " 'anova_BaggingRegressorNoProcessing.pkl_03.npy',\n",
       " 'anova_BaggingRegressorNoProcessing.pkl_04.npy',\n",
       " 'anova_BaggingRegressorNoProcessing.pkl_05.npy',\n",
       " 'anova_BaggingRegressorNoProcessing.pkl_06.npy',\n",
       " 'anova_BaggingRegressorNoProcessing.pkl_07.npy',\n",
       " 'anova_BaggingRegressorNoProcessing.pkl_08.npy',\n",
       " 'anova_BaggingRegressorNoProcessing.pkl_09.npy',\n",
       " 'anova_BaggingRegressorNoProcessing.pkl_10.npy',\n",
       " 'anova_BaggingRegressorNoProcessing.pkl_11.npy',\n",
       " 'anova_BaggingRegressorNoProcessing.pkl_12.npy',\n",
       " 'anova_BaggingRegressorNoProcessing.pkl_13.npy',\n",
       " 'anova_BaggingRegressorNoProcessing.pkl_14.npy',\n",
       " 'anova_BaggingRegressorNoProcessing.pkl_15.npy',\n",
       " 'anova_BaggingRegressorNoProcessing.pkl_16.npy',\n",
       " 'anova_BaggingRegressorNoProcessing.pkl_17.npy',\n",
       " 'anova_BaggingRegressorNoProcessing.pkl_18.npy',\n",
       " 'anova_BaggingRegressorNoProcessing.pkl_19.npy',\n",
       " 'anova_BaggingRegressorNoProcessing.pkl_20.npy',\n",
       " 'anova_BaggingRegressorNoProcessing.pkl_21.npy',\n",
       " 'anova_BaggingRegressorNoProcessing.pkl_22.npy',\n",
       " 'anova_BaggingRegressorNoProcessing.pkl_23.npy',\n",
       " 'anova_BaggingRegressorNoProcessing.pkl_24.npy',\n",
       " 'anova_BaggingRegressorNoProcessing.pkl_25.npy',\n",
       " 'anova_BaggingRegressorNoProcessing.pkl_26.npy',\n",
       " 'anova_BaggingRegressorNoProcessing.pkl_27.npy']"
      ]
     },
     "execution_count": 24,
     "metadata": {},
     "output_type": "execute_result"
    }
   ],
   "source": [
    "# save the model scaler to the desk\n",
    "from sklearn.externals import joblib\n",
    "joblib.dump(anova_BaggingRegressorNoProcessing, 'anova_BaggingRegressorNoProcessing.pkl') "
   ]
  },
  {
   "cell_type": "code",
   "execution_count": 25,
   "metadata": {
    "collapsed": false
   },
   "outputs": [
    {
     "name": "stdout",
     "output_type": "stream",
     "text": [
      " =================================================================>>>>> done\n",
      "R-squared =  0.972340220802\n"
     ]
    }
   ],
   "source": [
    "# Test the model if it is work\n",
    "anova_DecisionTreeRegressorTest = joblib.load('anova_BaggingRegressorNoProcessing.pkl')\n",
    "NewPred = anova_DecisionTreeRegressorTest.predict(new_data)\n",
    "print \" =================================================================>>>>> done\"\n",
    "r_squared = r2_score(Y, NewPred, multioutput='variance_weighted')\n",
    "print 'R-squared = ',r_squared"
   ]
  },
  {
   "cell_type": "code",
   "execution_count": 26,
   "metadata": {
    "collapsed": false
   },
   "outputs": [
    {
     "name": "stdout",
     "output_type": "stream",
     "text": [
      "Point of training data before normalization\n",
      "[ 389.9  189.     0.   145.9   22.   944.7  755.8   91. ]\n",
      "\n",
      "The read target of the data =  82.5992248\n",
      "\n",
      "The Predicted target of the data =  [ 82.5992248]\n"
     ]
    }
   ],
   "source": [
    "# test on single data point, randomly choose point number 55\n",
    "print 'Point of training data before normalization\\n',new_data[55]\n",
    "print '\\nThe read target of the data = ', Y[55]\n",
    "NewPred = anova_DecisionTreeRegressorTest.predict([new_data[55]])\n",
    "print '\\nThe Predicted target of the data = ', NewPred"
   ]
  },
  {
   "cell_type": "markdown",
   "metadata": {},
   "source": [
    "## Conclusion "
   ]
  },
  {
   "cell_type": "code",
   "execution_count": null,
   "metadata": {
    "collapsed": true
   },
   "outputs": [],
   "source": []
  }
 ],
 "metadata": {
  "kernelspec": {
   "display_name": "Python 2",
   "language": "python",
   "name": "python2"
  },
  "language_info": {
   "codemirror_mode": {
    "name": "ipython",
    "version": 2
   },
   "file_extension": ".py",
   "mimetype": "text/x-python",
   "name": "python",
   "nbconvert_exporter": "python",
   "pygments_lexer": "ipython2",
   "version": "2.7.12"
  }
 },
 "nbformat": 4,
 "nbformat_minor": 0
}
