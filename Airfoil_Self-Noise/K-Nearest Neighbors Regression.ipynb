{
 "cells": [
  {
   "cell_type": "markdown",
   "metadata": {},
   "source": [
    "Salem Ameen, PhD student at Salford University\n",
    "\n",
    "### Airfoil Self-Noise price\n",
    "\n",
    "\n",
    "\n",
    "K-Nearest Neighbors Regression"
   ]
  },
  {
   "cell_type": "markdown",
   "metadata": {},
   "source": [
    "# Import the Libraries"
   ]
  },
  {
   "cell_type": "code",
   "execution_count": 1,
   "metadata": {
    "collapsed": false
   },
   "outputs": [
    {
     "data": {
      "text/html": [
       "\n",
       "    <div class=\"bk-root\">\n",
       "        <a href=\"http://bokeh.pydata.org\" target=\"_blank\" class=\"bk-logo bk-logo-small bk-logo-notebook\"></a>\n",
       "        <span id=\"f577a275-1997-4036-9481-24048b78ccdc\">Loading BokehJS ...</span>\n",
       "    </div>"
      ]
     },
     "metadata": {},
     "output_type": "display_data"
    },
    {
     "data": {
      "application/javascript": [
       "\n",
       "(function(global) {\n",
       "  function now() {\n",
       "    return new Date();\n",
       "  }\n",
       "\n",
       "  var force = \"1\";\n",
       "\n",
       "  if (typeof (window._bokeh_onload_callbacks) === \"undefined\" || force !== \"\") {\n",
       "    window._bokeh_onload_callbacks = [];\n",
       "    window._bokeh_is_loading = undefined;\n",
       "  }\n",
       "\n",
       "\n",
       "  \n",
       "  if (typeof (window._bokeh_timeout) === \"undefined\" || force !== \"\") {\n",
       "    window._bokeh_timeout = Date.now() + 5000;\n",
       "    window._bokeh_failed_load = false;\n",
       "  }\n",
       "\n",
       "  var NB_LOAD_WARNING = {'data': {'text/html':\n",
       "     \"<div style='background-color: #fdd'>\\n\"+\n",
       "     \"<p>\\n\"+\n",
       "     \"BokehJS does not appear to have successfully loaded. If loading BokehJS from CDN, this \\n\"+\n",
       "     \"may be due to a slow or bad network connection. Possible fixes:\\n\"+\n",
       "     \"</p>\\n\"+\n",
       "     \"<ul>\\n\"+\n",
       "     \"<li>re-rerun `output_notebook()` to attempt to load from CDN again, or</li>\\n\"+\n",
       "     \"<li>use INLINE resources instead, as so:</li>\\n\"+\n",
       "     \"</ul>\\n\"+\n",
       "     \"<code>\\n\"+\n",
       "     \"from bokeh.resources import INLINE\\n\"+\n",
       "     \"output_notebook(resources=INLINE)\\n\"+\n",
       "     \"</code>\\n\"+\n",
       "     \"</div>\"}};\n",
       "\n",
       "  function display_loaded() {\n",
       "    if (window.Bokeh !== undefined) {\n",
       "      Bokeh.$(\"#f577a275-1997-4036-9481-24048b78ccdc\").text(\"BokehJS successfully loaded.\");\n",
       "    } else if (Date.now() < window._bokeh_timeout) {\n",
       "      setTimeout(display_loaded, 100)\n",
       "    }\n",
       "  }\n",
       "\n",
       "  function run_callbacks() {\n",
       "    window._bokeh_onload_callbacks.forEach(function(callback) { callback() });\n",
       "    delete window._bokeh_onload_callbacks\n",
       "    console.info(\"Bokeh: all callbacks have finished\");\n",
       "  }\n",
       "\n",
       "  function load_libs(js_urls, callback) {\n",
       "    window._bokeh_onload_callbacks.push(callback);\n",
       "    if (window._bokeh_is_loading > 0) {\n",
       "      console.log(\"Bokeh: BokehJS is being loaded, scheduling callback at\", now());\n",
       "      return null;\n",
       "    }\n",
       "    if (js_urls == null || js_urls.length === 0) {\n",
       "      run_callbacks();\n",
       "      return null;\n",
       "    }\n",
       "    console.log(\"Bokeh: BokehJS not loaded, scheduling load and callback at\", now());\n",
       "    window._bokeh_is_loading = js_urls.length;\n",
       "    for (var i = 0; i < js_urls.length; i++) {\n",
       "      var url = js_urls[i];\n",
       "      var s = document.createElement('script');\n",
       "      s.src = url;\n",
       "      s.async = false;\n",
       "      s.onreadystatechange = s.onload = function() {\n",
       "        window._bokeh_is_loading--;\n",
       "        if (window._bokeh_is_loading === 0) {\n",
       "          console.log(\"Bokeh: all BokehJS libraries loaded\");\n",
       "          run_callbacks()\n",
       "        }\n",
       "      };\n",
       "      s.onerror = function() {\n",
       "        console.warn(\"failed to load library \" + url);\n",
       "      };\n",
       "      console.log(\"Bokeh: injecting script tag for BokehJS library: \", url);\n",
       "      document.getElementsByTagName(\"head\")[0].appendChild(s);\n",
       "    }\n",
       "  };var element = document.getElementById(\"f577a275-1997-4036-9481-24048b78ccdc\");\n",
       "  if (element == null) {\n",
       "    console.log(\"Bokeh: ERROR: autoload.js configured with elementid 'f577a275-1997-4036-9481-24048b78ccdc' but no matching script tag was found. \")\n",
       "    return false;\n",
       "  }\n",
       "\n",
       "  var js_urls = ['https://cdn.pydata.org/bokeh/release/bokeh-0.12.2.min.js', 'https://cdn.pydata.org/bokeh/release/bokeh-widgets-0.12.2.min.js', 'https://cdn.pydata.org/bokeh/release/bokeh-compiler-0.12.2.min.js'];\n",
       "\n",
       "  var inline_js = [\n",
       "    function(Bokeh) {\n",
       "      Bokeh.set_log_level(\"info\");\n",
       "    },\n",
       "    \n",
       "    function(Bokeh) {\n",
       "      \n",
       "      Bokeh.$(\"#f577a275-1997-4036-9481-24048b78ccdc\").text(\"BokehJS is loading...\");\n",
       "    },\n",
       "    function(Bokeh) {\n",
       "      console.log(\"Bokeh: injecting CSS: https://cdn.pydata.org/bokeh/release/bokeh-0.12.2.min.css\");\n",
       "      Bokeh.embed.inject_css(\"https://cdn.pydata.org/bokeh/release/bokeh-0.12.2.min.css\");\n",
       "      console.log(\"Bokeh: injecting CSS: https://cdn.pydata.org/bokeh/release/bokeh-widgets-0.12.2.min.css\");\n",
       "      Bokeh.embed.inject_css(\"https://cdn.pydata.org/bokeh/release/bokeh-widgets-0.12.2.min.css\");\n",
       "    }\n",
       "  ];\n",
       "\n",
       "  function run_inline_js() {\n",
       "    \n",
       "    if ((window.Bokeh !== undefined) || (force === \"1\")) {\n",
       "      for (var i = 0; i < inline_js.length; i++) {\n",
       "        inline_js[i](window.Bokeh);\n",
       "      }if (force === \"1\") {\n",
       "        display_loaded();\n",
       "      }} else if (Date.now() < window._bokeh_timeout) {\n",
       "      setTimeout(run_inline_js, 100);\n",
       "    } else if (!window._bokeh_failed_load) {\n",
       "      console.log(\"Bokeh: BokehJS failed to load within specified timeout.\");\n",
       "      window._bokeh_failed_load = true;\n",
       "    } else if (!force) {\n",
       "      var cell = $(\"#f577a275-1997-4036-9481-24048b78ccdc\").parents('.cell').data().cell;\n",
       "      cell.output_area.append_execute_result(NB_LOAD_WARNING)\n",
       "    }\n",
       "\n",
       "  }\n",
       "\n",
       "  if (window._bokeh_is_loading === 0) {\n",
       "    console.log(\"Bokeh: BokehJS loaded, going straight to plotting\");\n",
       "    run_inline_js();\n",
       "  } else {\n",
       "    load_libs(js_urls, function() {\n",
       "      console.log(\"Bokeh: BokehJS plotting callback run at\", now());\n",
       "      run_inline_js();\n",
       "    });\n",
       "  }\n",
       "}(this));"
      ]
     },
     "metadata": {},
     "output_type": "display_data"
    }
   ],
   "source": [
    "import numpy as np\n",
    "import pandas\n",
    "from numpy import *\n",
    "import time\n",
    "import sys\n",
    "import pandas as pd\n",
    "import matplotlib.pyplot as plt\n",
    "from sklearn import feature_selection\n",
    "from sklearn.neighbors import KNeighborsRegressor\n",
    "from sklearn.learning_curve import learning_curve, validation_curve\n",
    "from sklearn.cross_validation import cross_val_predict\n",
    "from sklearn import metrics, grid_search, cross_validation\n",
    "from IPython.display import set_matplotlib_formats\n",
    "from bokeh.plotting import figure, show, output_notebook\n",
    "from sklearn.grid_search import GridSearchCV, RandomizedSearchCV\n",
    "from sklearn.metrics import r2_score\n",
    "from bokeh.layouts import gridplot\n",
    "output_notebook()\n",
    "set_matplotlib_formats('png', 'pdf')\n",
    "%matplotlib inline\n",
    "plt.rcParams['figure.figsize'] = (6, 6)"
   ]
  },
  {
   "cell_type": "markdown",
   "metadata": {},
   "source": [
    "# Load data"
   ]
  },
  {
   "cell_type": "markdown",
   "metadata": {},
   "source": [
    "In the previous file we have not change the data as there is no missing value or add any new parameters so it can be downloaded from the web directly. "
   ]
  },
  {
   "cell_type": "code",
   "execution_count": 2,
   "metadata": {
    "collapsed": false
   },
   "outputs": [
    {
     "name": "stdout",
     "output_type": "stream",
     "text": [
      "Number of examples 1503\n"
     ]
    }
   ],
   "source": [
    "url = 'http://archive.ics.uci.edu/ml/machine-learning-databases/00291/airfoil_self_noise.dat'\n",
    "names = ['Frequency', 'Angle', 'Chord', 'Free_stream', 'Suction', 'pressure']\n",
    "feature_names = names\n",
    "feature_cols = names\n",
    "data = pd.read_csv(url, sep='\\s+', names = names)\n",
    "\n",
    "from sklearn import preprocessing\n",
    "dataset = data.values\n",
    "X = dataset[:,0:5].astype(float)\n",
    "Y = dataset[:,5]\n",
    "print 'Number of examples',len(X)"
   ]
  },
  {
   "cell_type": "code",
   "execution_count": 3,
   "metadata": {
    "collapsed": false
   },
   "outputs": [
    {
     "name": "stdout",
     "output_type": "stream",
     "text": [
      "Number of training examples 1202\n",
      "Number of validation examples 301\n"
     ]
    }
   ],
   "source": [
    "# Make developement dataset for genrilization and final testing\n",
    "from sklearn.cross_validation import train_test_split\n",
    "# Extracting 20% testing data\n",
    "X_train, X_test, y_train, y_test = train_test_split(\n",
    "    X, Y, test_size=0.20, random_state=0)\n",
    "X = X_train\n",
    "Y = y_train\n",
    "new_data      = X_train\n",
    "new_test_data = X_test\n",
    "print 'Number of training examples',len(X_train)\n",
    "print 'Number of validation examples',len(X_test)"
   ]
  },
  {
   "cell_type": "markdown",
   "metadata": {},
   "source": [
    "Number of training data is very small so we need to use cross validation instead of spareate another validation data."
   ]
  },
  {
   "cell_type": "markdown",
   "metadata": {},
   "source": [
    "From the previous visulization the data has no missing value but has many outlier and some sparisty"
   ]
  },
  {
   "cell_type": "markdown",
   "metadata": {},
   "source": [
    "# Ranking of the feature's importance to the target"
   ]
  },
  {
   "cell_type": "code",
   "execution_count": 4,
   "metadata": {
    "collapsed": false
   },
   "outputs": [
    {
     "name": "stdout",
     "output_type": "stream",
     "text": [
      "Frequency \t0.0500518823316\n",
      "Angle \t-0.0839773335255\n",
      "Chord \t-0.42301628982\n",
      "Free_stream \t-0.350785131362\n",
      "Suction \t-0.0226297234992\n",
      "pressure \t0.999957775707\n"
     ]
    }
   ],
   "source": [
    "# Using just correlation coefficient even in prevoius file we show them using data frame\n",
    "for col in feature_cols:\n",
    "    lm = KNeighborsRegressor()\n",
    "    lm.fit(data[[col]], data['pressure'])\n",
    "    print col,'\\t', lm.score(data[[col]], data['pressure'])"
   ]
  },
  {
   "cell_type": "code",
   "execution_count": 5,
   "metadata": {
    "collapsed": false
   },
   "outputs": [
    {
     "name": "stdout",
     "output_type": "stream",
     "text": [
      "Feature Name      Score         Pvalue\n",
      "Frequency \t\t270.416272463 \t5.36177705642e-56\n",
      "Angle \t\t37.4923835551 \t1.16954827306e-09\n",
      "Chord \t\t88.6588675485 \t1.70142015337e-20\n",
      "Free_stream \t\t23.8652245755 \t1.1437427443e-06\n",
      "Suction \t\t162.641263457 \t1.92478295603e-35\n",
      "pressure \t\tinf \t0.0\n"
     ]
    }
   ],
   "source": [
    "# Randing the important features to the target\n",
    "model = feature_selection.SelectKBest(score_func=feature_selection.f_regression,k=4)\n",
    "results = model.fit(data[feature_cols], data['pressure'])\n",
    "k=0\n",
    "print 'Feature Name      Score         Pvalue'\n",
    "for feat in feature_cols:\n",
    "    print feat,'\\t\\t',results.scores_[k],'\\t',results.pvalues_[k]\n",
    "    k=k+1\n"
   ]
  },
  {
   "cell_type": "markdown",
   "metadata": {},
   "source": [
    "# Set the parameters for cross validation"
   ]
  },
  {
   "cell_type": "code",
   "execution_count": 6,
   "metadata": {
    "collapsed": true
   },
   "outputs": [],
   "source": [
    "num_folds = 10\n",
    "num_instances = len(X)\n",
    "seed = 7\n",
    "kfold = cross_validation.KFold(n=num_instances, n_folds=num_folds, random_state=seed)"
   ]
  },
  {
   "cell_type": "markdown",
   "metadata": {},
   "source": [
    " # Set the parameters for bias-variance dilemma"
   ]
  },
  {
   "cell_type": "code",
   "execution_count": 7,
   "metadata": {
    "collapsed": false
   },
   "outputs": [],
   "source": [
    "def plot_learning_curve(estimator, title, X, y, ylim=None, cv=None,\n",
    "                        n_jobs=1, train_sizes=np.linspace(.1, 1.0, 5)):\n",
    "    plt.figure()\n",
    "    plt.title(title)\n",
    "    if ylim is not None:\n",
    "        plt.ylim(*ylim)\n",
    "    plt.xlabel(\"Training examples\")\n",
    "    plt.ylabel(\"Score\")\n",
    "    train_sizes, train_scores, test_scores = learning_curve(\n",
    "        estimator, X, y, cv=cv, n_jobs=n_jobs, train_sizes=train_sizes)\n",
    "    train_scores_mean = np.mean(train_scores, axis=1)\n",
    "    train_scores_std = np.std(train_scores, axis=1)\n",
    "    test_scores_mean = np.mean(test_scores, axis=1)\n",
    "    test_scores_std = np.std(test_scores, axis=1)\n",
    "    plt.grid()\n",
    "\n",
    "    plt.fill_between(train_sizes, train_scores_mean - train_scores_std,\n",
    "                     train_scores_mean + train_scores_std, alpha=0.1,\n",
    "                     color=\"r\")\n",
    "    plt.fill_between(train_sizes, test_scores_mean - test_scores_std,\n",
    "                     test_scores_mean + test_scores_std, alpha=0.1, color=\"g\")\n",
    "    plt.plot(train_sizes, train_scores_mean, 'o-', color=\"r\",\n",
    "             label=\"Training score\")\n",
    "    plt.plot(train_sizes, test_scores_mean, 'o-', color=\"g\",\n",
    "             label=\"Cross-validation score\")\n",
    "\n",
    "    plt.legend(loc=\"best\")\n",
    "    return plt"
   ]
  },
  {
   "cell_type": "markdown",
   "metadata": {},
   "source": [
    "# Preprocessing the data and save both the model and preprocessed data"
   ]
  },
  {
   "cell_type": "code",
   "execution_count": 8,
   "metadata": {
    "collapsed": true
   },
   "outputs": [],
   "source": [
    "# According to the nature of the data spasity and there is outliter RobustScaler class is recomandit \n",
    "# but when I tried both of them the result seems is same\n",
    "from sklearn.preprocessing import StandardScaler\n",
    "scaler = preprocessing.StandardScaler().fit(X_train)"
   ]
  },
  {
   "cell_type": "code",
   "execution_count": 9,
   "metadata": {
    "collapsed": true
   },
   "outputs": [],
   "source": [
    "X_train = scaler.transform(X_train)\n",
    "X_test = scaler.transform(X_test) # use same transform for testing data\n",
    "X = X_train"
   ]
  },
  {
   "cell_type": "code",
   "execution_count": 10,
   "metadata": {
    "collapsed": true
   },
   "outputs": [],
   "source": [
    "# save transformed data\n",
    "np.save('./data/X_train', X_train)\n",
    "np.save('./data/y_train', y_train)\n",
    "np.save('./data/X_test', X_test)\n",
    "np.save('./data/y_test', y_test)"
   ]
  },
  {
   "cell_type": "code",
   "execution_count": 11,
   "metadata": {
    "collapsed": false
   },
   "outputs": [
    {
     "data": {
      "text/plain": [
       "['scaler.pkl', 'scaler.pkl_01.npy', 'scaler.pkl_02.npy', 'scaler.pkl_03.npy']"
      ]
     },
     "execution_count": 11,
     "metadata": {},
     "output_type": "execute_result"
    }
   ],
   "source": [
    "# save the model scaler to the desk\n",
    "from sklearn.externals import joblib\n",
    "joblib.dump(scaler, 'scaler.pkl') "
   ]
  },
  {
   "cell_type": "code",
   "execution_count": 12,
   "metadata": {
    "collapsed": false
   },
   "outputs": [
    {
     "name": "stdout",
     "output_type": "stream",
     "text": [
      " =================================================================>>>>> done\n",
      "[[ 2.29083349 -1.15043085 -1.17128043  1.28444798 -0.82148429]\n",
      " [ 1.09730905 -1.15043085  1.81266366  1.28444798 -0.65012723]\n",
      " [-0.12847281  0.9056672  -0.35747749 -1.24501741  2.31947901]\n",
      " ..., \n",
      " [-0.41878957 -1.15043085  0.18505779 -0.74040184 -0.70544919]\n",
      " [-0.61233407 -0.2644699   0.99886072 -0.74040184 -0.3865872 ]\n",
      " [ 2.29083349 -0.69909225  0.18505779 -0.74040184 -0.62856871]]\n"
     ]
    }
   ],
   "source": [
    "# Test the model if it is work\n",
    "scalerTest = joblib.load('scaler.pkl')\n",
    "new_data_scaled = scalerTest.transform(new_test_data)\n",
    "print \" =================================================================>>>>> done\"\n",
    "print new_data_scaled"
   ]
  },
  {
   "cell_type": "markdown",
   "metadata": {},
   "source": [
    "# 1. KNeighborsRegressor Regression"
   ]
  },
  {
   "cell_type": "markdown",
   "metadata": {},
   "source": [
    "K-Nearest Neighbors (or KNN) locates the K most similar instances in the training dataset for a new data instance. From the K neighbors, a mean or median output variable is taken as the prediction. Of note is the distance metric used (the metric argument). The Minkowski distance is used by default, which is a generalization of both the Euclidean distance (used when all inputs have the same scale) and Manhattan distance (for when the scales of the input variables differ)."
   ]
  },
  {
   "cell_type": "markdown",
   "metadata": {},
   "source": [
    "## Validation curve"
   ]
  },
  {
   "cell_type": "markdown",
   "metadata": {},
   "source": [
    "choosing multiple hyperparameters of an estimator "
   ]
  },
  {
   "cell_type": "code",
   "execution_count": 13,
   "metadata": {
    "collapsed": false
   },
   "outputs": [
    {
     "data": {
      "text/plain": [
       "['n_neighbors',\n",
       " 'n_jobs',\n",
       " 'algorithm',\n",
       " 'metric',\n",
       " 'metric_params',\n",
       " 'p',\n",
       " 'weights',\n",
       " 'leaf_size']"
      ]
     },
     "execution_count": 13,
     "metadata": {},
     "output_type": "execute_result"
    }
   ],
   "source": [
    "from sklearn.neighbors import KNeighborsRegressor\n",
    "estimator = KNeighborsRegressor()\n",
    "estimator.get_params().keys()"
   ]
  },
  {
   "cell_type": "code",
   "execution_count": 14,
   "metadata": {
    "collapsed": false
   },
   "outputs": [
    {
     "name": "stdout",
     "output_type": "stream",
     "text": [
      "[3 4 5 6]\n"
     ]
    }
   ],
   "source": [
    "print  np.arange(3,7)\n",
    "\n",
    " \n"
   ]
  },
  {
   "cell_type": "code",
   "execution_count": 15,
   "metadata": {
    "collapsed": false
   },
   "outputs": [
    {
     "data": {
      "image/png": "[encoded data removed]",
      "text/plain": [
       "<matplotlib.figure.Figure at 0x7f411a0d3590>"
      ]
     },
     "metadata": {},
     "output_type": "display_data"
    }
   ],
   "source": [
    "# For parametr alpha\n",
    "#param_range = np.logspace(-10.0, 10.0)\n",
    "#param_range = np.linspace(1,50,100)\n",
    "param_range = np.arange(1,50) # generate integer numbers\n",
    "\n",
    "train_scores, test_scores = validation_curve(\n",
    "    KNeighborsRegressor(), X, Y, param_name=\"n_neighbors\", param_range=param_range,\n",
    "    cv=num_folds,  n_jobs=-1)\n",
    "train_scores_mean = np.mean(train_scores, axis=1)\n",
    "train_scores_std = np.std(train_scores, axis=1)\n",
    "test_scores_mean = np.mean(test_scores, axis=1)\n",
    "test_scores_std = np.std(test_scores, axis=1)\n",
    "\n",
    "plt.title(\"Validation Curve with KNeighborsRegressor\")\n",
    "plt.xlabel(\"n_neighbors\")\n",
    "plt.ylabel(\"Score\")\n",
    "plt.ylim(0.4, 1.0)\n",
    "plt.plot(param_range, train_scores_mean, label=\"Training score\", color=\"r\")\n",
    "plt.fill_between(param_range, train_scores_mean - train_scores_std,\n",
    "                 train_scores_mean + train_scores_std, alpha=0.2, color=\"r\")\n",
    "plt.plot(param_range, test_scores_mean, label=\"Cross-validation score\",\n",
    "             color=\"g\")\n",
    "plt.fill_between(param_range, test_scores_mean - test_scores_std,\n",
    "                 test_scores_mean + test_scores_std, alpha=0.2, color=\"g\")\n",
    "plt.legend(loc=\"best\")\n",
    "plt.show()"
   ]
  },
  {
   "cell_type": "markdown",
   "metadata": {},
   "source": [
    "Less that 10 is the best of number of K"
   ]
  },
  {
   "cell_type": "code",
   "execution_count": 16,
   "metadata": {
    "collapsed": false
   },
   "outputs": [
    {
     "data": {
      "image/png": "[encoded data removed]",
      "text/plain": [
       "<matplotlib.figure.Figure at 0x7f411c5f0350>"
      ]
     },
     "metadata": {},
     "output_type": "display_data"
    }
   ],
   "source": [
    "# For parametr alpha\n",
    "#param_range = np.logspace(-10.0, 10.0)\n",
    "#param_range = np.linspace(1,50,100)\n",
    "param_range = np.arange(1,100) # generate integer numbers\n",
    "\n",
    "train_scores, test_scores = validation_curve(\n",
    "    KNeighborsRegressor(), X, Y, param_name=\"leaf_size\", param_range=param_range,\n",
    "    cv=num_folds,  n_jobs=-1)\n",
    "train_scores_mean = np.mean(train_scores, axis=1)\n",
    "train_scores_std = np.std(train_scores, axis=1)\n",
    "test_scores_mean = np.mean(test_scores, axis=1)\n",
    "test_scores_std = np.std(test_scores, axis=1)\n",
    "\n",
    "plt.title(\"Validation Curve with KNeighborsRegressor\")\n",
    "plt.xlabel(\"leaf_size\")\n",
    "plt.ylabel(\"Score\")\n",
    "plt.ylim(0.4, 1.0)\n",
    "plt.plot(param_range, train_scores_mean, label=\"Training score\", color=\"r\")\n",
    "plt.fill_between(param_range, train_scores_mean - train_scores_std,\n",
    "                 train_scores_mean + train_scores_std, alpha=0.2, color=\"r\")\n",
    "plt.plot(param_range, test_scores_mean, label=\"Cross-validation score\",\n",
    "             color=\"g\")\n",
    "plt.fill_between(param_range, test_scores_mean - test_scores_std,\n",
    "                 test_scores_mean + test_scores_std, alpha=0.2, color=\"g\")\n",
    "plt.legend(loc=\"best\")\n",
    "plt.show()"
   ]
  },
  {
   "cell_type": "markdown",
   "metadata": {},
   "source": [
    "leaf_size does not effect so will keep the defulte one which is 30"
   ]
  },
  {
   "cell_type": "markdown",
   "metadata": {},
   "source": [
    "## Grid search and/or Random search to determine best compination of parameters"
   ]
  },
  {
   "cell_type": "code",
   "execution_count": 17,
   "metadata": {
    "collapsed": false
   },
   "outputs": [
    {
     "name": "stdout",
     "output_type": "stream",
     "text": [
      "Hyperparameter optimization using GridSearchCV...\n",
      "Parameters with rank: 1\n",
      "Mean validation score: 0.8144 (std: 0.0369)\n",
      "Parameters: {'n_neighbors': 1, 'algorithm': 'auto'}\n",
      "\n",
      "Parameters with rank: 2\n",
      "Mean validation score: 0.8144 (std: 0.0369)\n",
      "Parameters: {'n_neighbors': 1, 'algorithm': 'ball_tree'}\n",
      "\n",
      "Parameters with rank: 3\n",
      "Mean validation score: 0.8144 (std: 0.0369)\n",
      "Parameters: {'n_neighbors': 1, 'algorithm': 'kd_tree'}\n",
      "\n",
      "Parameters with rank: 4\n",
      "Mean validation score: 0.8144 (std: 0.0369)\n",
      "Parameters: {'n_neighbors': 1, 'algorithm': 'brute'}\n",
      "\n",
      "Parameters with rank: 5\n",
      "Mean validation score: 0.7721 (std: 0.0345)\n",
      "Parameters: {'n_neighbors': 5, 'algorithm': 'brute'}\n",
      "\n",
      "+++++++++++++++++++++++++++++++++++++++++++++++\n",
      "Hyperparameter optimization using RandomizedSearchCV\n",
      "Parameters with rank: 1\n",
      "Mean validation score: 0.8144 (std: 0.0369)\n",
      "Parameters: {'n_neighbors': 1, 'algorithm': 'auto'}\n",
      "\n"
     ]
    }
   ],
   "source": [
    "# Utility function to report optimal parameters\n",
    "from operator import itemgetter\n",
    "def report(grid_scores, n_top=5):\n",
    "    params = None\n",
    "    top_scores = sorted(grid_scores, key=itemgetter(1), reverse=True)[:n_top]\n",
    "    for i, score in enumerate(top_scores):\n",
    "        print(\"Parameters with rank: {0}\".format(i + 1))\n",
    "        print(\"Mean validation score: {0:.4f} (std: {1:.4f})\".format(\n",
    "              score.mean_validation_score, np.std(score.cv_validation_scores)))\n",
    "        print(\"Parameters: {0}\".format(score.parameters))\n",
    "        print(\"\")\n",
    "        \n",
    "        if params == None:\n",
    "            params = score.parameters\n",
    "    \n",
    "    return params\n",
    "\n",
    "# The most common value for the max number of features to look at in each split is sqrt(# of features)\n",
    "sqrtfeat = np.sqrt(X.shape[1]) \n",
    "# Simple grid test (162 combinations)\n",
    "grid_test1 = { \"n_neighbors\"      : [1,5,10],\n",
    "                \"algorithm\"      : [\"auto\", \"ball_tree\", \"kd_tree\", \"brute\"]}\n",
    "\n",
    "# Large randomized test using max_depth to control tree size (5000 possible combinations)\n",
    "random_test1 = { \"n_neighbors\"      : np.arange(1,2),\n",
    "                \"algorithm\"      : [\"auto\", \"ball_tree\", \"kd_tree\", \"brute\"]}\n",
    "\n",
    "\n",
    "forest = KNeighborsRegressor()\n",
    "\n",
    "print \"Hyperparameter optimization using GridSearchCV...\"\n",
    "grid_search = GridSearchCV(forest, grid_test1, n_jobs=-1, cv=num_folds)\n",
    "grid_search.fit(X, Y)\n",
    "best_params_from_grid_search = report(grid_search.grid_scores_)\n",
    "print '+++++++++++++++++++++++++++++++++++++++++++++++'\n",
    "print \"Hyperparameter optimization using RandomizedSearchCV\"\n",
    "grid_search = RandomizedSearchCV(forest, random_test1, n_jobs=-1, cv=num_folds, n_iter=1)\n",
    "grid_search.fit(X, Y)\n",
    "best_params_from_rand_search1 = report(grid_search.grid_scores_)"
   ]
  },
  {
   "cell_type": "markdown",
   "metadata": {},
   "source": [
    "Best parameters Parameters: Parameters: Parameters: {'n_neighbors': 4, 'algorithm': 'kd_tree'}\n",
    "\n"
   ]
  },
  {
   "cell_type": "markdown",
   "metadata": {},
   "source": [
    "## Learning Curve "
   ]
  },
  {
   "cell_type": "markdown",
   "metadata": {},
   "source": [
    "In essence, what we’re doing it training the exact same model with increasingly large fractions of our total training data, and plotting the error of the training and test sets at each step."
   ]
  },
  {
   "cell_type": "code",
   "execution_count": 18,
   "metadata": {
    "collapsed": false
   },
   "outputs": [
    {
     "data": {
      "image/png": "[encoded data removed]",
      "text/plain": [
       "<matplotlib.figure.Figure at 0x7f4118814e50>"
      ]
     },
     "metadata": {},
     "output_type": "display_data"
    }
   ],
   "source": [
    "from sklearn.neighbors import KNeighborsRegressor\n",
    "model = KNeighborsRegressor(n_neighbors = 4, algorithm = 'kd_tree')\n",
    "title = \"Learning Curves (KNeighborsRegressor Refression)\"\n",
    "cv = cross_validation.ShuffleSplit(X.shape[0], n_iter=100,\n",
    "                                   test_size=0.2, random_state=0)\n",
    "plot_learning_curve(model, title, X, Y, ylim=(0.2, 1.01), cv=cv, n_jobs=-1)\n",
    "plt.show()"
   ]
  },
  {
   "cell_type": "code",
   "execution_count": 19,
   "metadata": {
    "collapsed": false
   },
   "outputs": [
    {
     "name": "stdout",
     "output_type": "stream",
     "text": [
      "train_sizes =  [ 50  80 110]\n",
      " training scores\n",
      " 50 training sizees\n",
      "0.61372361498 ± 0.0932781949384\n",
      " 80 training sizees\n",
      "0.667550070472 ± 0.0590792664039\n",
      " 110 training sizees\n",
      "0.689471687626 ± 0.0514644585322\n",
      "\n",
      " validation scores\n",
      " 50 validation scores\n",
      "0.352787386136 ± 0.100139664832\n",
      " 80 validation scores\n",
      "0.429901077608 ± 0.0727319307478\n",
      " 110 validation scores\n",
      "0.47714545133 ± 0.056306654219\n"
     ]
    }
   ],
   "source": [
    "# More data from learning curve to show the process of building the model\n",
    "train_sizes, train_scores, valid_scores = learning_curve(\n",
    "     model, X, Y, train_sizes=[50, 80, 110], cv=cv, n_jobs=4)\n",
    "\n",
    "print 'train_sizes = ', train_sizes\n",
    "\n",
    "print ' training scores'\n",
    "print ' 50 training sizees'\n",
    "print train_scores[0].mean(),'±',train_scores[0].std()\n",
    "print ' 80 training sizees'\n",
    "print train_scores[1].mean(),'±',train_scores[1].std()\n",
    "print ' 110 training sizees'\n",
    "print train_scores[2].mean(),'±',train_scores[2].std()\n",
    "\n",
    "print '\\n validation scores'\n",
    "print ' 50 validation scores'\n",
    "print valid_scores[0].mean(),'±',valid_scores[0].std()\n",
    "print ' 80 validation scores'\n",
    "print valid_scores[1].mean(),'±',valid_scores[1].std()\n",
    "print ' 110 validation scores'\n",
    "print valid_scores[2].mean(),'±',valid_scores[2].std()"
   ]
  },
  {
   "cell_type": "markdown",
   "metadata": {},
   "source": [
    "## Cross validation"
   ]
  },
  {
   "cell_type": "code",
   "execution_count": 20,
   "metadata": {
    "collapsed": false
   },
   "outputs": [
    {
     "name": "stdout",
     "output_type": "stream",
     "text": [
      "Scoring according to mean_squared_error\n",
      "[ -9.47706257 -10.74122001  -9.64277827  -8.35179529 -10.62648421\n",
      " -10.01960038  -7.497462   -11.80512429  -8.11435481 -10.52070505]\n",
      "\n",
      " Mean      Standard deviation\n",
      "-9.68      1.28\n"
     ]
    },
    {
     "data": {
      "text/plain": [
       "KNeighborsRegressor(algorithm='kd_tree', leaf_size=30, metric='minkowski',\n",
       "          metric_params=None, n_jobs=1, n_neighbors=4, p=2,\n",
       "          weights='uniform')"
      ]
     },
     "execution_count": 20,
     "metadata": {},
     "output_type": "execute_result"
    }
   ],
   "source": [
    "scoring = 'mean_squared_error'\n",
    "results = cross_validation.cross_val_score(model, X, Y, cv=kfold, scoring=scoring)\n",
    "print 'Scoring according to mean_squared_error'\n",
    "print results\n",
    "print '\\n Mean      Standard deviation'\n",
    "print(\"%.2f      %.2f\" % (results.mean(), results.std()))\n",
    "## Fit the model\n",
    "model.fit(X,Y)\n"
   ]
  },
  {
   "cell_type": "markdown",
   "metadata": {},
   "source": [
    "## Coefficients Of Determination {Calculating R^2}\n",
    "\n",
    "R^2, Close to one is better"
   ]
  },
  {
   "cell_type": "code",
   "execution_count": 21,
   "metadata": {
    "collapsed": false
   },
   "outputs": [
    {
     "name": "stdout",
     "output_type": "stream",
     "text": [
      "R-squared =  0.797014001153\n"
     ]
    }
   ],
   "source": [
    "predicted = cross_val_predict(model, X, Y, cv=kfold)\n",
    "r_squared = r2_score(Y, predicted, multioutput='variance_weighted')\n",
    "print 'R-squared = ',r_squared"
   ]
  },
  {
   "cell_type": "markdown",
   "metadata": {},
   "source": [
    "## Residual Plot"
   ]
  },
  {
   "cell_type": "code",
   "execution_count": 22,
   "metadata": {
    "collapsed": false
   },
   "outputs": [
    {
     "data": {
      "image/png": "[encoded data removed]",
      "text/plain": [
       "<matplotlib.figure.Figure at 0x7f41182fc410>"
      ]
     },
     "metadata": {},
     "output_type": "display_data"
    }
   ],
   "source": [
    "predicted = cross_val_predict(model, X, Y, cv=kfold)\n",
    "fig, ax = plt.subplots()\n",
    "ax.scatter(Y, predicted)\n",
    "ax.plot([Y.min(), Y.max()], [Y.min(), Y.max()], 'k--', lw=4)\n",
    "ax.set_xlabel('Measured')\n",
    "ax.set_ylabel('Predicted')\n",
    "plt.show()"
   ]
  },
  {
   "cell_type": "code",
   "execution_count": 23,
   "metadata": {
    "collapsed": false
   },
   "outputs": [
    {
     "data": {
      "text/html": [
       "\n",
       "\n",
       "    <div class=\"bk-root\">\n",
       "        <div class=\"plotdiv\" id=\"ffc83c5a-224a-4a5d-b357-bd821137adaf\"></div>\n",
       "    </div>\n",
       "<script type=\"text/javascript\">\n",
       "  \n",
       "  (function(global) {\n",
       "    function now() {\n",
       "      return new Date();\n",
       "    }\n",
       "  \n",
       "    var force = \"\";\n",
       "  \n",
       "    if (typeof (window._bokeh_onload_callbacks) === \"undefined\" || force !== \"\") {\n",
       "      window._bokeh_onload_callbacks = [];\n",
       "      window._bokeh_is_loading = undefined;\n",
       "    }\n",
       "  \n",
       "  \n",
       "    \n",
       "    if (typeof (window._bokeh_timeout) === \"undefined\" || force !== \"\") {\n",
       "      window._bokeh_timeout = Date.now() + 0;\n",
       "      window._bokeh_failed_load = false;\n",
       "    }\n",
       "  \n",
       "    var NB_LOAD_WARNING = {'data': {'text/html':\n",
       "       \"<div style='background-color: #fdd'>\\n\"+\n",
       "       \"<p>\\n\"+\n",
       "       \"BokehJS does not appear to have successfully loaded. If loading BokehJS from CDN, this \\n\"+\n",
       "       \"may be due to a slow or bad network connection. Possible fixes:\\n\"+\n",
       "       \"</p>\\n\"+\n",
       "       \"<ul>\\n\"+\n",
       "       \"<li>re-rerun `output_notebook()` to attempt to load from CDN again, or</li>\\n\"+\n",
       "       \"<li>use INLINE resources instead, as so:</li>\\n\"+\n",
       "       \"</ul>\\n\"+\n",
       "       \"<code>\\n\"+\n",
       "       \"from bokeh.resources import INLINE\\n\"+\n",
       "       \"output_notebook(resources=INLINE)\\n\"+\n",
       "       \"</code>\\n\"+\n",
       "       \"</div>\"}};\n",
       "  \n",
       "    function display_loaded() {\n",
       "      if (window.Bokeh !== undefined) {\n",
       "        Bokeh.$(\"#ffc83c5a-224a-4a5d-b357-bd821137adaf\").text(\"BokehJS successfully loaded.\");\n",
       "      } else if (Date.now() < window._bokeh_timeout) {\n",
       "        setTimeout(display_loaded, 100)\n",
       "      }\n",
       "    }\n",
       "  \n",
       "    function run_callbacks() {\n",
       "      window._bokeh_onload_callbacks.forEach(function(callback) { callback() });\n",
       "      delete window._bokeh_onload_callbacks\n",
       "      console.info(\"Bokeh: all callbacks have finished\");\n",
       "    }\n",
       "  \n",
       "    function load_libs(js_urls, callback) {\n",
       "      window._bokeh_onload_callbacks.push(callback);\n",
       "      if (window._bokeh_is_loading > 0) {\n",
       "        console.log(\"Bokeh: BokehJS is being loaded, scheduling callback at\", now());\n",
       "        return null;\n",
       "      }\n",
       "      if (js_urls == null || js_urls.length === 0) {\n",
       "        run_callbacks();\n",
       "        return null;\n",
       "      }\n",
       "      console.log(\"Bokeh: BokehJS not loaded, scheduling load and callback at\", now());\n",
       "      window._bokeh_is_loading = js_urls.length;\n",
       "      for (var i = 0; i < js_urls.length; i++) {\n",
       "        var url = js_urls[i];\n",
       "        var s = document.createElement('script');\n",
       "        s.src = url;\n",
       "        s.async = false;\n",
       "        s.onreadystatechange = s.onload = function() {\n",
       "          window._bokeh_is_loading--;\n",
       "          if (window._bokeh_is_loading === 0) {\n",
       "            console.log(\"Bokeh: all BokehJS libraries loaded\");\n",
       "            run_callbacks()\n",
       "          }\n",
       "        };\n",
       "        s.onerror = function() {\n",
       "          console.warn(\"failed to load library \" + url);\n",
       "        };\n",
       "        console.log(\"Bokeh: injecting script tag for BokehJS library: \", url);\n",
       "        document.getElementsByTagName(\"head\")[0].appendChild(s);\n",
       "      }\n",
       "    };var element = document.getElementById(\"ffc83c5a-224a-4a5d-b357-bd821137adaf\");\n",
       "    if (element == null) {\n",
       "      console.log(\"Bokeh: ERROR: autoload.js configured with elementid 'ffc83c5a-224a-4a5d-b357-bd821137adaf' but no matching script tag was found. \")\n",
       "      return false;\n",
       "    }\n",
       "  \n",
       "    var js_urls = [];\n",
       "  \n",
       "    var inline_js = [\n",
       "      function(Bokeh) {\n",
       "        Bokeh.$(function() {\n",
       "            var docs_json = {\"573256ee-3626-4252-8976-c93befcd8756\":{\"roots\":{\"references\":[{\"attributes\":{\"bottom_units\":\"screen\",\"fill_alpha\":{\"value\":0.5},\"fill_color\":{\"value\":\"lightgrey\"},\"left_units\":\"screen\",\"level\":\"overlay\",\"line_alpha\":{\"value\":1.0},\"line_color\":{\"value\":\"black\"},\"line_dash\":[4,4],\"line_width\":{\"value\":2},\"plot\":null,\"render_mode\":\"css\",\"right_units\":\"screen\",\"top_units\":\"screen\"},\"id\":\"e641dd87-fc09-4b72-819f-bbce4c8e2b3a\",\"type\":\"BoxAnnotation\"},{\"attributes\":{\"fill_alpha\":{\"value\":0.5},\"fill_color\":{\"value\":\"lightgrey\"},\"level\":\"overlay\",\"line_alpha\":{\"value\":1.0},\"line_color\":{\"value\":\"black\"},\"line_dash\":[4,4],\"line_width\":{\"value\":2},\"plot\":null,\"xs_units\":\"screen\",\"ys_units\":\"screen\"},\"id\":\"60178e36-59c3-4eb9-9341-4c9e2e26c361\",\"type\":\"PolyAnnotation\"},{\"attributes\":{\"line_dash\":[4,4],\"line_width\":{\"value\":2},\"x\":{\"field\":\"x\"},\"y\":{\"field\":\"y\"}},\"id\":\"743a7a9c-8135-40e8-b0ad-c15e3a432263\",\"type\":\"Line\"},{\"attributes\":{\"overlay\":{\"id\":\"e8ca5b41-2649-4768-afb8-6e968a96fc72\",\"type\":\"BoxAnnotation\"},\"plot\":{\"id\":\"aca5f607-e024-4fb8-9b92-c51c4d951bb5\",\"subtype\":\"Figure\",\"type\":\"Plot\"}},\"id\":\"60ec7e1c-ca45-4708-be6d-feea1ae148cf\",\"type\":\"BoxZoomTool\"},{\"attributes\":{\"overlay\":{\"id\":\"34790b8b-51d4-47a2-b10d-9a4c0937f07d\",\"type\":\"PolyAnnotation\"},\"plot\":{\"id\":\"aca5f607-e024-4fb8-9b92-c51c4d951bb5\",\"subtype\":\"Figure\",\"type\":\"Plot\"}},\"id\":\"c3811906-731f-4e30-9a49-82d4fd381bc3\",\"type\":\"PolySelectTool\"},{\"attributes\":{\"plot\":{\"id\":\"aca5f607-e024-4fb8-9b92-c51c4d951bb5\",\"subtype\":\"Figure\",\"type\":\"Plot\"}},\"id\":\"f259a511-7ec7-4a7b-a940-de5d978b4af2\",\"type\":\"PanTool\"},{\"attributes\":{\"align\":\"center\",\"plot\":null,\"text\":null},\"id\":\"1019b667-40df-4813-8a81-2026707688ce\",\"type\":\"Title\"},{\"attributes\":{\"callback\":null,\"plot\":{\"id\":\"aca5f607-e024-4fb8-9b92-c51c4d951bb5\",\"subtype\":\"Figure\",\"type\":\"Plot\"}},\"id\":\"f60ea838-ddf2-4b1f-ac44-7502d87ffd8f\",\"type\":\"TapTool\"},{\"attributes\":{},\"id\":\"8b43cf42-151e-4bae-9c12-6faa66c461ce\",\"type\":\"BasicTickFormatter\"},{\"attributes\":{\"axis_label\":\"Measured\",\"axis_label_text_color\":{\"value\":\"#aa6666\"},\"formatter\":{\"id\":\"ea3afe42-101d-44e4-a83f-bfc51075fbca\",\"type\":\"BasicTickFormatter\"},\"major_tick_line_color\":{\"value\":\"firebrick\"},\"major_tick_line_width\":{\"value\":3},\"minor_tick_line_color\":{\"value\":\"orange\"},\"plot\":{\"id\":\"aca5f607-e024-4fb8-9b92-c51c4d951bb5\",\"subtype\":\"Figure\",\"type\":\"Plot\"},\"ticker\":{\"id\":\"23801810-9b41-4695-8aa8-72010507716c\",\"type\":\"BasicTicker\"}},\"id\":\"777624c0-f67f-4703-bd52-65ef8281e62b\",\"type\":\"LinearAxis\"},{\"attributes\":{\"data_source\":{\"id\":\"8ad4f1a3-c7b3-48a8-8c54-3eafa2b1d124\",\"type\":\"ColumnDataSource\"},\"glyph\":{\"id\":\"d7c107e4-3951-4b28-8c7e-e555946d9115\",\"type\":\"Circle\"},\"hover_glyph\":null,\"nonselection_glyph\":{\"id\":\"09773cf6-52a5-44ab-a91d-126b7c48bccb\",\"type\":\"Circle\"},\"selection_glyph\":null},\"id\":\"379d50a0-6fd8-41f7-8e99-166ec104588d\",\"type\":\"GlyphRenderer\"},{\"attributes\":{\"plot\":{\"id\":\"aca5f607-e024-4fb8-9b92-c51c4d951bb5\",\"subtype\":\"Figure\",\"type\":\"Plot\"}},\"id\":\"9158f9ed-0080-4366-9b2e-eefb6853947d\",\"type\":\"UndoTool\"},{\"attributes\":{\"plot\":{\"id\":\"aca5f607-e024-4fb8-9b92-c51c4d951bb5\",\"subtype\":\"Figure\",\"type\":\"Plot\"}},\"id\":\"e5497af1-27b6-45f4-9492-bf51ca8f9138\",\"type\":\"SaveTool\"},{\"attributes\":{\"callback\":null},\"id\":\"2e468ed1-526d-4a50-8678-2d21540939a8\",\"type\":\"DataRange1d\"},{\"attributes\":{\"callback\":null,\"column_names\":[\"x\",\"y\"],\"data\":{\"x\":[127.206,136.284,117.50399999999999,122.34100000000001,114.042,135.079,127.23299999999999,123.689,118.005,135.346,126.53399999999999,135.368,111.959,125.816,119.62100000000001,132.039,118.365,124.74799999999999,112.506,122.375,120.505,121.315,109.25399999999999,119.505,118.214,124.355,115.91,139.438,124.493,129.68,134.533,114.309,129.45,116.411,118.12899999999999,118.712,131.836,110.905,129.569,124.273,129.02700000000002,124.852,115.679,117.624,127.12700000000001,119.375,119.07,118.941,113.333,127.7,131.45600000000002,121.485,129.8,127.04,134.0,128.774,124.45,124.84299999999999,114.9,118.757,128.35399999999998,130.197,118.145,133.097,125.726,116.241,124.17,115.85700000000001,129.965,121.399,120.766,118.12200000000001,132.513,132.304,127.63799999999999,124.555,128.95600000000002,126.835,130.96,128.562,115.863,126.395,133.756,113.10799999999999,121.301,113.958,124.346,136.886,117.037,131.636,131.111,129.33,112.803,128.536,133.774,134.273,123.08200000000001,128.92700000000002,117.119,134.556,127.179,133.59799999999998,122.044,128.929,121.889,129.415,130.123,120.228,128.857,115.079,128.518,124.154,129.256,130.781,124.156,134.56799999999998,122.088,131.313,123.965,120.92,133.649,116.295,135.674,130.195,129.567,119.294,125.715,137.233,116.84899999999999,124.69200000000001,116.694,130.34,131.205,126.189,119.67,127.006,130.934,121.499,127.796,134.268,136.031,131.918,133.79,130.299,133.355,134.111,115.321,133.012,128.64700000000002,127.92,122.905,129.285,116.225,132.43,115.234,125.40100000000001,127.39399999999999,131.346,122.61200000000001,122.315,121.059,124.304,122.035,115.65899999999999,125.555,112.014,132.202,115.846,118.595,138.523,130.114,116.603,130.392,121.789,122.435,134.22799999999998,113.492,128.127,111.911,125.527,116.229,120.85600000000001,127.35600000000001,137.026,129.03799999999998,126.09700000000001,127.054,129.14700000000002,134.02200000000002,133.894,120.458,120.47200000000001,132.898,127.008,120.484,130.898,112.039,118.82700000000001,120.07799999999999,126.195,125.728,120.137,135.234,118.816,121.65899999999999,117.087,114.927,133.48,107.26700000000001,126.898,120.324,132.134,109.95100000000001,126.59899999999999,126.64200000000001,129.11700000000002,117.15100000000001,117.432,125.867,118.964,127.676,133.211,110.515,114.554,133.29399999999998,120.354,126.291,127.53,117.154,127.90299999999999,118.955,128.401,128.829,128.545,117.134,135.164,134.563,134.11,116.677,133.01,129.953,127.197,129.55200000000002,127.696,118.045,137.06799999999998,127.75299999999999,131.808,125.054,134.996,132.05,126.514,119.135,129.889,137.007,139.918,124.395,127.398,133.023,130.349,118.743,119.854,118.05,127.329,126.04899999999999,126.116,135.227,112.848,112.265,133.768,115.969,128.762,112.699,125.941,135.248,116.723,117.38600000000001,118.564,128.086,125.045,126.74600000000001,122.766,128.265,129.869,122.771,118.99799999999999,132.886,134.826,108.40700000000001,127.564,126.736,130.629,118.024,120.963,133.071,124.71700000000001,131.06,124.39299999999999,125.589,125.22,124.001,127.07600000000001,126.838,123.742,123.76100000000001,118.441,115.304,131.129,128.312,124.61200000000001,131.80700000000002,132.095,122.101,135.953,120.05799999999999,135.308,122.411,131.453,121.40700000000001,128.49200000000002,133.846,112.209,130.335,107.985,115.818,139.428,120.229,118.34299999999999,123.445,113.00399999999999,106.88,116.10799999999999,127.71,128.704,133.649,111.35,110.689,114.634,137.076,129.053,133.58700000000002,135.32399999999998,130.817,115.085,126.88600000000001,132.304,124.835,134.336,125.89,123.514,117.911,114.47399999999999,108.265,127.928,131.434,122.147,132.769,129.77700000000002,134.498,116.12799999999999,123.416,124.12100000000001,125.20299999999999,130.845,110.491,129.343,116.22,128.144,122.79,130.156,121.93299999999999,123.274,118.41,134.34,124.23299999999999,136.83700000000002,114.861,130.049,120.786,119.319,128.335,114.477,123.635,136.826,130.477,129.116,126.82600000000001,120.055,126.75200000000001,129.004,108.721,125.26100000000001,133.79,130.332,132.184,115.215,124.98700000000001,117.287,120.79799999999999,119.135,116.72399999999999,112.68799999999999,121.31299999999999,120.446,135.484,134.43,130.791,131.725,123.537,130.46,106.26,117.465,118.994,128.29,106.58200000000001,128.244,125.603,127.101,128.69799999999998,119.646,129.964,122.72399999999999,130.065,129.667,127.54799999999999,128.401,126.64399999999999,129.5,130.148,132.114,130.965,123.695,118.291,122.21799999999999,124.685,128.311,113.85799999999999,132.588,115.14399999999999,116.184,123.31200000000001,116.074,125.99799999999999,119.208,120.088,134.987,125.194,116.366,122.21600000000001,136.798,121.28399999999999,123.443,129.645,122.845,128.119,108.991,113.288,132.357,125.499,124.40299999999999,125.398,132.003,129.575,120.061,129.675,117.96700000000001,127.054,121.154,130.722,125.625,137.047,127.095,131.971,133.153,132.35399999999998,127.315,123.991,117.604,132.58700000000002,115.645,127.251,125.824,128.805,126.34299999999999,134.247,133.207,137.207,121.944,120.555,121.485,126.54,138.123,131.796,125.721,132.611,135.54,123.87899999999999,122.17,129.002,125.20100000000001,123.86200000000001,134.87,124.04899999999999,125.85700000000001,133.201,124.439,129.308,124.665,130.961,108.03399999999999,124.024,131.234,119.51299999999999,117.875,118.113,125.539,126.616,116.815,122.765,131.015,130.269,135.07,133.707,120.324,131.582,128.435,130.688,114.41799999999999,110.905,108.03399999999999,112.945,131.184,116.417,133.062,129.653,124.64399999999999,127.443,126.446,108.684,123.835,123.62299999999999,128.42700000000002,126.54,113.12899999999999,124.338,126.195,132.158,130.30700000000002,132.251,121.775,111.53399999999999,124.625,133.19799999999998,112.241,120.53399999999999,123.126,125.87200000000001,119.111,120.60700000000001,129.491,128.99,134.946,116.92,122.292,125.631,128.718,129.468,137.658,123.09100000000001,133.174,113.055,125.353,119.229,126.79,128.139,126.471,129.63299999999998,128.713,119.632,130.644,120.147,129.776,130.67,124.512,128.707,130.72299999999998,125.12700000000001,131.56799999999998,125.34299999999999,129.329,123.037,115.37200000000001,117.195,121.235,122.45,133.23,131.955,130.77700000000002,122.413,127.039,124.647,117.478,119.73700000000001,131.515,121.65700000000001,118.696,135.924,126.34899999999999,119.22399999999999,124.43799999999999,132.27100000000002,129.05700000000002,118.09100000000001,133.042,135.329,113.03399999999999,128.175,125.319,118.01799999999999,120.553,112.139,132.796,120.53200000000001,129.148,126.45700000000001,133.251,120.51299999999999,122.37100000000001,123.865,130.089,130.173,129.937,131.817,132.149,122.39399999999999,114.569,128.345,130.869,119.039,127.947,126.96600000000001,117.11,131.446,131.274,133.808,125.45200000000001,126.944,123.82,120.189,127.76299999999999,114.258,130.908,116.792,112.639,116.165,123.054,106.22399999999999,125.802,133.032,127.801,122.235,120.07600000000001,109.22200000000001,129.864,114.044,123.609,130.748,121.256,112.541,116.15100000000001,128.2,125.094,123.069,130.588,119.806,120.595,126.021,124.10600000000001,116.956,129.27,139.808,126.896,125.116,117.927,129.099,116.181,117.925,123.807,130.94,119.88799999999999,125.398,125.02600000000001,125.727,116.134,121.47399999999999,132.011,123.595,132.118,136.536,128.643,133.436,128.977,111.588,120.397,121.78299999999999,110.555,125.741,119.708,104.13,113.665,127.29899999999999,123.445,122.044,124.756,129.556,127.73,126.43,114.75,134.058,131.264,122.439,131.642,109.71799999999999,119.561,114.258,113.79899999999999,135.468,136.941,133.72799999999998,124.353,113.29799999999999,132.595,123.354,129.494,128.576,130.469,128.416,129.516,128.246,128.763,128.365,127.229,113.11,130.374,136.583,119.639,125.524,131.542,132.89700000000002,140.158,129.377,122.648,131.471,134.976,134.05200000000002,115.413,120.53399999999999,127.01100000000001,133.22299999999998,110.307,115.29799999999999,117.28399999999999,120.71600000000001,107.405,111.459,127.465,126.29899999999999,122.93799999999999,134.034,110.78,120.227,128.97799999999998,126.537,128.879,124.336,125.99700000000001,109.949,126.20100000000001,123.255,131.364,123.564,120.03399999999999,127.634,122.41,130.541,128.216,121.52799999999999,106.604,133.653,130.947,128.36,133.38,128.816,128.74,116.476,129.296,130.955,128.939,126.536,127.59100000000001,122.78200000000001,127.686,120.209,125.79700000000001,123.304,127.40799999999999,131.44799999999998,123.12,120.193,123.465,119.649,131.07399999999998,130.893,125.81700000000001,113.775,135.866,123.455,127.315,126.15899999999999,124.18799999999999,126.17,120.49700000000001,112.169,130.828,118.416,133.311,129.744,118.92200000000001,133.378,124.12700000000001,123.061,131.467,122.471,113.045,135.459,119.945,130.935,136.384,119.777,118.859,115.60799999999999,114.249,126.21799999999999,110.124,127.488,117.514,121.397,124.25299999999999,130.638,124.22200000000001,122.708,120.573,128.907,122.919,124.208,122.89299999999999,128.306,123.311,128.252,116.066,121.54700000000001,118.385,129.395,128.339,120.755,130.34799999999998,119.04,121.165,114.709,125.01,114.714,124.931,122.08200000000001,110.839,117.32799999999999,127.285,132.793,120.015,125.62700000000001,131.491,121.885,128.939,121.306,124.39399999999999,115.46600000000001,125.427,125.586,119.35,121.635,130.507,132.355,115.59100000000001,127.22,126.713,132.086,121.62700000000001,112.355,134.43,116.56,125.85600000000001,130.614,123.177,131.236,117.99600000000001,127.307,129.681,126.838,131.615,124.426,125.376,128.878,131.96,128.444,133.04,110.868,116.78299999999999,126.645,121.514,135.42600000000002,132.358,131.43,112.524,121.90299999999999,121.617,131.92,129.97299999999998,114.751,126.152,116.559,130.496,117.789,133.13,120.569,129.86700000000002,115.89,110.447,124.214,126.78,112.675,131.80700000000002,124.244,126.632,130.144,119.73700000000001,120.419,129.395,128.708,135.328,129.977,134.226,122.397,136.75799999999998,128.63299999999998,131.966,119.535,124.904,110.89399999999999,127.632,129.134,120.162,128.296,130.0,118.134,130.30700000000002,127.899,131.01,129.465,131.955,126.959,120.726,113.315,120.95200000000001,124.42,119.15899999999999,123.89399999999999,114.984,122.539,123.178,131.865,131.31,121.225,118.26700000000001,121.762,121.58200000000001,133.241,127.22399999999999,135.433,134.625,130.20600000000002,126.045,128.595,126.805,136.88299999999998,111.818,119.916,123.41,125.96600000000001,126.266,135.38,128.56,120.154,133.924,114.404,130.595,128.398,136.16299999999998,125.992,119.60600000000001,123.565,132.252,130.89,124.27600000000001,110.22399999999999,123.775,117.054,127.91,127.417,120.319,119.15100000000001,133.40200000000002,110.36399999999999,126.677,123.583,120.189,110.264,123.305,120.835,113.525,127.84700000000001,122.94,118.634,117.976,128.86700000000002,122.088,124.525,124.101,127.094,128.381,126.5,132.043,129.144,115.792,127.63600000000001,133.063,134.227,124.25399999999999,128.72299999999998,133.261,113.229,119.34299999999999,126.066,120.527,115.89299999999999,129.395,112.251,132.116,122.679,121.234,123.417,131.023,123.209,121.99600000000001,120.766,129.037,121.146,122.60600000000001,124.166,124.809,131.346,124.10799999999999,135.49,115.391,126.805,127.24600000000001,125.211,129.84799999999998,131.656,122.75399999999999,116.92399999999999,134.236,132.828,124.07700000000001,126.54,129.30100000000002,125.586,115.691,117.309,133.04,115.635,128.454,131.221,129.292,121.10600000000001,127.318,129.36700000000002,120.33,123.081,119.54,109.663,123.74,130.07299999999998,115.801,128.40200000000002,123.839,115.99600000000001,123.917,131.69799999999998,117.785,120.851,130.567,114.9,127.89299999999999,109.52,133.847,119.17399999999999,125.465,115.461,126.846,115.52,127.62299999999999,126.35600000000001,120.037,128.082,138.55700000000002,126.59,122.384,123.78,128.83100000000002,131.279,128.423,110.31299999999999,127.35799999999999,117.741,131.036,123.189,131.97799999999998,125.10700000000001,128.67700000000002,122.365,134.47799999999998,113.086,125.39,118.667,131.186,115.311,129.969,125.15700000000001,134.938,133.252,114.085,125.47200000000001,134.476,111.07600000000001,123.46600000000001,122.675,117.95700000000001,111.135,119.598,126.486,116.55,128.971,131.281,120.779,121.664,126.93299999999999,132.889,131.889,126.743,126.001,112.065,116.96700000000001,122.288,139.226,129.35399999999998,135.191,115.309,108.625,132.918,135.803,129.94899999999998,124.318,123.39200000000001,130.311,119.209,136.191,123.54299999999999,122.211,121.431,113.334,112.76799999999999,121.318,136.023,127.86399999999999,134.85299999999998,128.257,122.956,137.813,123.988,130.156,140.987,130.77700000000002,122.149],\"y\":[132.0685,135.179,119.49149999999999,121.11699999999999,114.12249999999999,132.989,127.55474999999998,123.465,123.8375,135.95725,125.29325,135.993,112.36949999999999,123.261,115.0685,130.159,118.5825,124.6955,120.6335,121.825,119.411,125.6725,110.57900000000001,122.175,117.01149999999998,122.1925,115.9375,137.573,124.368,131.15925,137.7605,116.389,129.43375,119.23775,125.0465,119.6115,131.978,110.85050000000001,128.1915,134.3555,127.39025,126.91475,117.1725,115.42999999999999,124.86950000000002,119.6615,126.13275,120.25075,115.5875,131.6465,128.337,123.5425,129.3925,127.97999999999999,132.002,129.574,125.0895,126.62549999999999,115.9375,122.023,125.45149999999998,130.20675,118.69099999999999,130.6295,132.0685,117.63775,125.51249999999999,127.78200000000001,129.95749999999998,121.395,120.761,116.82575000000001,133.453,132.60899999999998,131.978,123.9,127.7185,128.14749999999998,129.43375,127.677,117.56225,129.23225,132.5085,113.8545,122.41400000000002,117.53475,128.9135,126.521,116.78875,130.876,130.966,125.5125,113.80075,128.98850000000002,131.379,133.453,126.2045,127.8595,125.66899999999998,134.192,126.95649999999999,133.85049999999998,119.7775,127.8215,123.83749999999999,127.2,132.908,120.428,127.75375,117.959,132.89525,126.074,128.9135,129.83350000000002,131.978,135.08549999999997,124.063,131.81799999999998,126.3795,124.85275,132.609,118.96,128.63400000000001,126.36500000000001,130.18200000000002,119.5115,125.68,133.8005,117.5165,127.13700000000001,122.50075,130.22475,128.8525,125.6515,122.48925,126.39850000000001,132.644,120.1265,128.221,131.69549999999998,132.956,131.87775,134.295,131.2515,129.98275,131.6735,117.628,131.0665,128.8195,129.8625,124.59725,131.0725,118.2425,131.355,117.88149999999999,132.391,128.84475,124.44149999999999,131.1945,125.03999999999999,122.1465,123.6925,120.68599999999999,124.89975000000001,124.03999999999999,115.03649999999999,129.232,119.7985,122.34,136.763,129.154,117.037,129.537,124.67150000000001,122.155,132.637,112.973,128.8195,116.996,125.26950000000001,115.63900000000001,121.106,127.1935,127.746,131.442,132.79450000000003,129.63750000000002,127.46700000000001,132.5215,132.4715,121.781,121.14150000000001,133.69675,129.5015,121.554,132.6655,114.2315,119.81700000000001,123.72549999999998,125.63,126.913,125.93950000000001,135.4415,120.8825,122.8045,116.68925,118.55475,131.442,108.9805,128.4655,126.838,127.189,116.996,132.799,125.635,127.4745,115.87975000000002,120.369,128.7495,118.874,123.256,130.77100000000002,111.00225,114.649,128.63400000000001,125.179,129.39350000000002,124.88000000000001,117.41999999999999,126.14299999999999,127.632,132.391,125.526,127.1675,121.2065,131.4535,130.22475,135.2485,116.13125,132.01175,124.65799999999999,132.7945,127.0495,128.27499999999998,119.475,134.4205,128.30974999999998,129.0545,129.224,133.8565,130.5475,127.20175,120.91,132.674,134.661,136.69799999999998,124.992,122.4265,134.278,125.9015,117.93475000000001,121.57,118.917,128.3215,125.95150000000001,125.58699999999999,135.07600000000002,115.23100000000001,113.10350000000001,136.69799999999998,118.24100000000001,125.68450000000001,115.36850000000001,130.45600000000002,134.48000000000002,119.89075,125.896,124.8215,128.27499999999998,120.7275,126.3835,126.906,127.2375,127.884,123.231,122.258,130.5635,132.4245,110.723,129.21925,124.94524999999999,131.70175,119.24000000000001,122.45474999999999,130.806,122.387,130.81425000000002,124.901,125.401,124.6625,127.2275,127.4885,130.158,123.795,126.52600000000001,118.005,121.7115,130.73425,127.86224999999999,126.53900000000002,133.48625,130.76999999999998,122.91075000000001,134.278,125.8155,135.23250000000002,117.521,128.16725,123.122,125.6845,133.636,114.5995,130.013,109.96300000000001,116.5815,134.4205,120.00349999999999,119.3595,122.3655,115.2765,110.78,118.523,130.11749999999998,129.899,131.14175,113.838,111.9945,115.58050000000001,130.416,131.48250000000002,132.7765,119.684,128.83950000000002,115.72,126.906,131.7465,125.97,130.01675,128.4495,121.71149999999999,121.653,110.76374999999999,110.97399999999999,131.89799999999997,132.8265,125.43700000000001,131.14175,131.64025,132.80049999999997,124.713,125.896,129.936,127.769,129.98749999999998,114.23600000000002,135.773,117.04199999999999,128.6755,128.04675,130.26125,120.27824999999999,127.59550000000002,119.68700000000001,134.15749999999997,130.153,135.75850000000003,120.017,128.395,119.81600000000002,124.749,126.90249999999999,117.232,127.365,133.66500000000002,126.75725,126.56549999999999,126.3635,119.495,127.71700000000001,128.73399999999998,112.30375000000001,126.67599999999999,132.04749999999999,127.2045,129.70999999999998,117.30599999999998,122.3195,119.31500000000001,120.04799999999999,121.90599999999999,118.39175,115.22325000000001,121.2825,129.531,133.50875,135.27425,132.079,130.4575,125.76700000000001,130.68449999999999,107.82749999999999,118.141,119.5315,126.50250000000001,112.30375,127.708,125.871,130.166,126.73150000000001,120.55850000000001,129.14550000000003,122.392,129.98749999999998,127.67450000000002,126.3165,128.6585,128.6015,130.89475,128.2605,132.14675,129.95,123.64,120.46600000000001,125.32799999999999,123.64,126.2505,114.33974999999998,131.4305,120.399,114.874,127.98700000000001,122.6215,126.18900000000002,119.54349999999998,124.30799999999999,133.0885,130.8465,121.861,128.2985,138.233,120.27824999999999,125.47299999999998,127.94999999999999,123.64,130.0065,110.79249999999999,114.9475,129.57225,127.0015,127.01799999999999,125.7765,130.32049999999998,128.43725,118.882,126.88499999999999,127.25450000000001,127.334,122.6215,129.9995,126.575,134.51425,126.853,133.329,130.85049999999998,127.39899999999999,126.90249999999999,129.101,121.644,129.60925,116.4875,133.329,126.08050000000001,127.28500000000001,126.40475,127.17450000000001,122.66575,130.32850000000002,123.29975,125.42500000000001,123.715,130.9425,136.863,133.0235,125.3355,132.39100000000002,133.8575,129.6675,125.671,127.17450000000001,123.71425,124.3725,133.10175,126.5465,122.102,130.1635,125.69649999999999,131.9245,128.315,131.0715,116.6515,123.80199999999999,128.16725000000002,128.03949999999998,120.0,116.637,126.07899999999998,126.71350000000001,117.23400000000001,122.59,129.877,124.6315,133.45175,132.26425,127.024,128.95200000000003,124.78999999999999,131.0545,120.19624999999999,113.00375000000001,114.8425,116.255,129.12675000000002,115.7705,131.167,133.01049999999998,120.51399999999998,125.92549999999999,131.18349999999998,116.3565,128.0275,130.3055,127.6915,125.701,114.23849999999999,124.98899999999999,125.066,132.3505,127.36450000000002,130.178,122.30474999999998,116.749,121.679,128.00549999999998,112.41050000000001,122.2125,124.696,126.72500000000001,119.59525000000001,122.3335,130.178,129.1325,134.602,117.38850000000001,125.37150000000001,125.87625,128.19799999999998,128.987,134.313,120.8735,134.8815,112.153,124.398,118.0225,127.5675,126.8465,126.37349999999999,127.233,133.2605,121.06150000000001,129.1065,127.3645,124.63600000000001,129.1325,125.54750000000001,129.6295,127.76799999999999,126.69675000000001,136.8105,123.55449999999999,128.2515,126.54700000000001,115.89300000000001,122.59,123.6975,125.67699999999999,131.47250000000003,131.8375,129.2295,123.8855,129.9995,125.89725000000001,118.15025,124.6925,128.89999999999998,117.99350000000001,121.51350000000001,135.269,128.1815,116.75899999999999,125.07300000000001,129.461,125.13700000000001,118.98625000000001,132.142,132.9265,117.70249999999999,128.78725,125.762,120.1105,119.256,110.0055,134.1695,121.50200000000001,129.9125,127.54875,131.9035,122.203,123.55225000000002,123.04,127.889,127.90549999999999,130.8875,132.132,130.789,123.5605,115.9015,127.77,129.319,119.85399999999998,126.42675000000001,127.93175000000001,120.4405,129.941,130.68925000000002,128.9955,125.612,127.5105,128.11499999999998,129.31900000000002,129.49475,112.37174999999999,129.9125,117.0795,113.55149999999999,117.54325,123.054,109.254,126.74725000000001,130.76950000000002,128.962,129.84525000000002,128.44350000000003,112.13225000000001,126.65149999999998,120.674,129.31900000000002,134.2105,124.59599999999999,113.2745,119.7705,128.3975,124.63775,125.32149999999999,137.0555,118.80850000000001,128.125,126.9795,123.99924999999999,125.936,128.39749999999998,137.4805,128.14350000000002,127.7535,127.2645,126.29150000000001,117.54250000000002,118.55250000000001,125.13499999999999,132.24,121.97299999999998,126.98699999999998,121.51350000000001,124.31675000000001,117.54325,129.70100000000002,129.9935,126.28,128.2755,134.8495,130.508,133.41649999999998,126.60024999999999,113.956,127.41425000000001,125.04549999999999,113.03349999999999,129.1585,124.47549999999998,107.31599999999999,112.78375000000001,126.92649999999999,123.483,121.414,126.71350000000001,129.586,125.463,129.1575,115.81250000000001,128.9955,127.4065,125.3215,132.707,114.61075,119.88825,114.90525,115.87199999999999,132.558,134.431,130.9555,127.26249999999999,115.06349999999999,131.5275,123.869,128.594,127.93525000000001,127.30649999999999,132.58100000000002,126.8585,126.8585,132.56799999999998,122.885,131.66675,113.446,123.88149999999999,137.248,120.524,125.3945,131.93200000000002,134.64925,135.858,128.17125000000001,123.768,127.726,132.36100000000002,132.1595,117.43099999999998,120.689,131.24349999999998,135.03275000000002,111.5965,118.3835,117.00399999999999,121.66100000000002,111.65650000000001,112.2835,129.03225,128.4515,129.45549999999997,132.4365,112.3775,121.0595,127.87950000000001,124.37525,130.649,127.93525000000001,127.61450000000002,112.2835,126.28450000000001,124.0625,123.6565,124.247,119.683,128.982,120.251,135.41025000000002,126.9785,121.62549999999999,109.15899999999999,134.9305,129.187,129.24725,130.9575,127.6485,125.18900000000001,117.91775000000001,129.6235,130.10525,126.5165,125.571,126.28450000000001,125.24725000000001,130.7835,123.19800000000001,128.08200000000002,123.464,123.768,135.8655,123.12899999999999,122.78525,121.77850000000001,120.887,131.2565,132.863,128.63700000000003,114.285,132.28525000000002,127.1175,127.6525,129.04399999999998,127.8555,130.3,121.9855,111.42425000000001,128.63549999999998,125.571,135.41025,125.04149999999998,118.702,130.95549999999997,127.257,122.914,127.61450000000002,129.48749999999998,119.03750000000001,132.894,121.2225,130.9865,135.154,119.4745,118.74799999999999,117.09825,114.242,127.53899999999999,112.09025,128.82774999999998,123.969,123.5475,125.13925,130.578,131.2105,125.50299999999999,126.90650000000001,129.317,125.305,123.439,124.76799999999999,133.6885,125.98724999999999,130.072,122.82350000000001,126.26450000000001,117.7025,128.54175,128.199,122.0575,128.9405,129.065,120.985,115.054,129.97,123.969,126.2835,124.63725,112.625,126.30000000000001,126.87,135.133,126.895,125.28775,126.241,124.56750000000001,126.25399999999999,122.6935,127.077,122.52425,124.58250000000001,125.80850000000001,119.892,125.86000000000001,130.03474999999997,125.86,115.52324999999999,126.34750000000001,126.90650000000001,132.3835,121.9915,115.364,136.26600000000002,115.5275,126.99849999999999,124.14649999999999,123.14375000000001,131.459,122.01,128.26450000000003,126.241,125.93299999999999,128.79,125.96549999999999,129.6865,127.96125,129.97,124.14649999999999,129.77825,114.422,123.44249999999998,127.3895,123.2415,132.729,126.4005,128.985,116.148,122.7365,129.3495,133.9125,130.7625,115.576,128.27949999999998,120.274,130.3785,117.36,131.47,119.71875,131.91424999999998,115.5275,116.14950000000002,130.3265,127.04925,117.05600000000001,130.95200000000003,133.76149999999998,126.52425000000001,129.2315,120.71799999999999,118.35000000000001,126.278,125.93299999999999,134.27499999999998,130.07950000000002,134.2635,125.119,134.53799999999998,127.47774999999999,134.3835,121.27425,124.90675000000002,115.564,126.90700000000001,128.25,119.79,130.3685,127.7675,115.05350000000001,128.45950000000002,124.4915,127.96249999999999,124.665,126.49249999999999,123.01150000000001,126.096,116.545,126.737,125.2025,118.72200000000001,121.72399999999999,111.42374999999998,127.179,123.1105,129.8225,132.37925,124.19500000000001,119.342,122.82150000000001,127.12950000000001,132.426,127.31150000000001,134.473,129.85775,130.5185,125.3875,127.7075,129.993,134.9655,118.11525,122.394,123.29100000000001,124.99600000000001,130.5185,133.89749999999998,130.28750000000002,122.23399999999998,132.01399999999998,116.229,124.66499999999999,130.1255,132.42475,126.92725000000002,119.55000000000001,124.4685,129.61700000000002,130.83975,121.956,113.174,123.92949999999999,125.199,126.5975,124.14700000000002,120.857,122.2035,132.267,113.92299999999999,127.04700000000001,125.85225000000001,123.51325,113.229,121.90575,120.6825,114.6735,126.20025000000001,126.5275,121.38649999999998,117.6425,126.78450000000001,123.808,124.2975,123.90100000000001,125.76650000000001,129.846,126.5275,132.428,127.606,116.65925,126.4385,131.38049999999998,128.06125,127.59850000000002,128.88774999999998,131.17600000000002,115.424,120.22749999999999,123.9295,121.142,119.40425,127.209,113.88425000000001,130.5185,126.72649999999999,121.89925000000001,127.04700000000001,125.36299999999999,126.39649999999999,121.9375,124.98349999999999,126.177,128.83575000000002,118.49349999999998,127.60350000000001,122.637,128.531,124.32849999999999,134.276,114.23,125.47749999999999,130.015,125.36350000000002,130.213,129.061,120.9865,121.72399999999999,133.0885,133.218,127.44700000000002,127.3825,122.89850000000001,127.861,116.77499999999999,118.36250000000001,133.91225,117.1145,128.90925,130.191,127.20200000000001,122.62925,135.7205,130.7385,121.1215,124.6105,126.50550000000001,117.70875,124.89149999999998,132.02025,118.5425,129.6945,123.4865,118.4255,125.787,127.2655,117.8665,122.04375,129.422,113.5565,125.533,110.12,131.90175,124.50399999999999,126.20599999999999,112.99350000000001,130.2885,124.05600000000001,130.48350000000002,123.126,123.83450000000002,124.9545,135.836,129.0645,123.7805,127.1055,126.6555,133.93900000000002,125.04549999999999,114.52525,129.2705,117.84325,130.64600000000002,124.7065,130.7005,124.30775000000001,128.86700000000002,123.13250000000001,135.10799999999998,115.154,125.20750000000001,123.8345,128.6485,115.47949999999999,127.7915,124.68450000000001,129.012,129.947,118.6975,127.28225,133.7835,110.25925000000001,123.47,122.3375,120.706,111.79950000000001,121.1555,127.411,115.815,129.43099999999998,129.43099999999998,122.61399999999999,125.799,128.5425,132.674,130.85399999999998,125.2705,122.89850000000001,114.2375,121.9455,130.673,129.281,129.41925,134.20600000000002,117.5465,110.088,129.012,133.88025,128.0965,130.70049999999998,123.24725000000001,129.36350000000002,119.13149999999999,133.666,128.21025,123.53575000000001,122.31225,115.32649999999998,110.16275,123.92299999999999,132.238,125.2225,131.288,126.937,120.21350000000001,136.21800000000002,125.79025,128.2285,127.80700000000002,129.422,123.97149999999999]}},\"id\":\"8ad4f1a3-c7b3-48a8-8c54-3eafa2b1d124\",\"type\":\"ColumnDataSource\"},{\"attributes\":{\"fill_alpha\":{\"value\":0.5},\"fill_color\":{\"value\":\"lightgrey\"},\"level\":\"overlay\",\"line_alpha\":{\"value\":1.0},\"line_color\":{\"value\":\"black\"},\"line_dash\":[4,4],\"line_width\":{\"value\":2},\"plot\":null,\"xs_units\":\"screen\",\"ys_units\":\"screen\"},\"id\":\"34790b8b-51d4-47a2-b10d-9a4c0937f07d\",\"type\":\"PolyAnnotation\"},{\"attributes\":{\"plot\":{\"id\":\"aca5f607-e024-4fb8-9b92-c51c4d951bb5\",\"subtype\":\"Figure\",\"type\":\"Plot\"}},\"id\":\"cde21859-7e6e-420c-88c3-960b47d0239c\",\"type\":\"WheelZoomTool\"},{\"attributes\":{\"callback\":null},\"id\":\"4680fca8-8084-4d3e-95f2-0588a63d89e1\",\"type\":\"DataRange1d\"},{\"attributes\":{\"callback\":null,\"overlay\":{\"id\":\"e641dd87-fc09-4b72-819f-bbce4c8e2b3a\",\"type\":\"BoxAnnotation\"},\"plot\":{\"id\":\"aca5f607-e024-4fb8-9b92-c51c4d951bb5\",\"subtype\":\"Figure\",\"type\":\"Plot\"},\"renderers\":[{\"id\":\"379d50a0-6fd8-41f7-8e99-166ec104588d\",\"type\":\"GlyphRenderer\"},{\"id\":\"fde2bc3f-19c2-4ee6-a0e2-abf1d5e86107\",\"type\":\"GlyphRenderer\"}]},\"id\":\"a37793fc-eed5-4f46-a768-3d02c6c26678\",\"type\":\"BoxSelectTool\"},{\"attributes\":{\"fill_alpha\":{\"value\":0.1},\"fill_color\":{\"value\":\"#1f77b4\"},\"line_alpha\":{\"value\":0.1},\"line_color\":{\"value\":\"#1f77b4\"},\"line_width\":{\"value\":3},\"x\":{\"field\":\"x\"},\"y\":{\"field\":\"y\"}},\"id\":\"09773cf6-52a5-44ab-a91d-126b7c48bccb\",\"type\":\"Circle\"},{\"attributes\":{\"callback\":null,\"column_names\":[\"y\",\"x\"],\"data\":{\"x\":[104.13,140.987],\"y\":[104.13,140.987]}},\"id\":\"9ce845d9-1cb6-4e78-ad30-29d1c3ef6e81\",\"type\":\"ColumnDataSource\"},{\"attributes\":{\"plot\":{\"id\":\"aca5f607-e024-4fb8-9b92-c51c4d951bb5\",\"subtype\":\"Figure\",\"type\":\"Plot\"}},\"id\":\"c58a9866-e13b-4cbe-a2d3-eb25ad6849d1\",\"type\":\"ResizeTool\"},{\"attributes\":{\"callback\":null,\"overlay\":{\"id\":\"60178e36-59c3-4eb9-9341-4c9e2e26c361\",\"type\":\"PolyAnnotation\"},\"plot\":{\"id\":\"aca5f607-e024-4fb8-9b92-c51c4d951bb5\",\"subtype\":\"Figure\",\"type\":\"Plot\"}},\"id\":\"60d9a304-fc13-4d3f-9b0e-782b1f2ebe54\",\"type\":\"LassoSelectTool\"},{\"attributes\":{\"background_fill_alpha\":{\"value\":0.5},\"background_fill_color\":{\"value\":\"beige\"},\"below\":[{\"id\":\"777624c0-f67f-4703-bd52-65ef8281e62b\",\"type\":\"LinearAxis\"}],\"left\":[{\"id\":\"749fe33f-95f7-44d2-b544-fec75593d7cf\",\"type\":\"LinearAxis\"}],\"plot_height\":500,\"plot_width\":500,\"renderers\":[{\"id\":\"777624c0-f67f-4703-bd52-65ef8281e62b\",\"type\":\"LinearAxis\"},{\"id\":\"2e49e83f-c77f-4635-a084-91794243290e\",\"type\":\"Grid\"},{\"id\":\"749fe33f-95f7-44d2-b544-fec75593d7cf\",\"type\":\"LinearAxis\"},{\"id\":\"078bf404-ed2a-46ae-9ccc-befbe6d1f6ef\",\"type\":\"Grid\"},{\"id\":\"e8ca5b41-2649-4768-afb8-6e968a96fc72\",\"type\":\"BoxAnnotation\"},{\"id\":\"e641dd87-fc09-4b72-819f-bbce4c8e2b3a\",\"type\":\"BoxAnnotation\"},{\"id\":\"60178e36-59c3-4eb9-9341-4c9e2e26c361\",\"type\":\"PolyAnnotation\"},{\"id\":\"34790b8b-51d4-47a2-b10d-9a4c0937f07d\",\"type\":\"PolyAnnotation\"},{\"id\":\"379d50a0-6fd8-41f7-8e99-166ec104588d\",\"type\":\"GlyphRenderer\"},{\"id\":\"fde2bc3f-19c2-4ee6-a0e2-abf1d5e86107\",\"type\":\"GlyphRenderer\"}],\"title\":{\"id\":\"1019b667-40df-4813-8a81-2026707688ce\",\"type\":\"Title\"},\"tool_events\":{\"id\":\"a4eeab7d-1cd2-4682-ba39-37b1c317aded\",\"type\":\"ToolEvents\"},\"toolbar\":{\"id\":\"a17f789f-f1c0-425a-946f-17006cef1fca\",\"type\":\"Toolbar\"},\"x_range\":{\"id\":\"4680fca8-8084-4d3e-95f2-0588a63d89e1\",\"type\":\"DataRange1d\"},\"y_range\":{\"id\":\"2e468ed1-526d-4a50-8678-2d21540939a8\",\"type\":\"DataRange1d\"}},\"id\":\"aca5f607-e024-4fb8-9b92-c51c4d951bb5\",\"subtype\":\"Figure\",\"type\":\"Plot\"},{\"attributes\":{\"plot\":{\"id\":\"aca5f607-e024-4fb8-9b92-c51c4d951bb5\",\"subtype\":\"Figure\",\"type\":\"Plot\"}},\"id\":\"f567473c-4a2f-496a-86f3-60b56b831f5d\",\"type\":\"ResetTool\"},{\"attributes\":{\"axis_label\":\"Predicted\",\"axis_label_text_color\":{\"value\":\"#aa6666\"},\"formatter\":{\"id\":\"8b43cf42-151e-4bae-9c12-6faa66c461ce\",\"type\":\"BasicTickFormatter\"},\"plot\":{\"id\":\"aca5f607-e024-4fb8-9b92-c51c4d951bb5\",\"subtype\":\"Figure\",\"type\":\"Plot\"},\"ticker\":{\"id\":\"48bf3e0c-06ff-4c9c-b168-d593996d7c02\",\"type\":\"BasicTicker\"}},\"id\":\"749fe33f-95f7-44d2-b544-fec75593d7cf\",\"type\":\"LinearAxis\"},{\"attributes\":{\"bottom_units\":\"screen\",\"fill_alpha\":{\"value\":0.5},\"fill_color\":{\"value\":\"lightgrey\"},\"left_units\":\"screen\",\"level\":\"overlay\",\"line_alpha\":{\"value\":1.0},\"line_color\":{\"value\":\"black\"},\"line_dash\":[4,4],\"line_width\":{\"value\":2},\"plot\":null,\"render_mode\":\"css\",\"right_units\":\"screen\",\"top_units\":\"screen\"},\"id\":\"e8ca5b41-2649-4768-afb8-6e968a96fc72\",\"type\":\"BoxAnnotation\"},{\"attributes\":{\"plot\":{\"id\":\"aca5f607-e024-4fb8-9b92-c51c4d951bb5\",\"subtype\":\"Figure\",\"type\":\"Plot\"},\"ticker\":{\"id\":\"23801810-9b41-4695-8aa8-72010507716c\",\"type\":\"BasicTicker\"}},\"id\":\"2e49e83f-c77f-4635-a084-91794243290e\",\"type\":\"Grid\"},{\"attributes\":{},\"id\":\"23801810-9b41-4695-8aa8-72010507716c\",\"type\":\"BasicTicker\"},{\"attributes\":{},\"id\":\"a4eeab7d-1cd2-4682-ba39-37b1c317aded\",\"type\":\"ToolEvents\"},{\"attributes\":{},\"id\":\"ea3afe42-101d-44e4-a83f-bfc51075fbca\",\"type\":\"BasicTickFormatter\"},{\"attributes\":{\"plot\":{\"id\":\"aca5f607-e024-4fb8-9b92-c51c4d951bb5\",\"subtype\":\"Figure\",\"type\":\"Plot\"}},\"id\":\"d83e971f-dded-47be-ae70-a16f6047ad30\",\"type\":\"CrosshairTool\"},{\"attributes\":{},\"id\":\"48bf3e0c-06ff-4c9c-b168-d593996d7c02\",\"type\":\"BasicTicker\"},{\"attributes\":{\"active_drag\":\"auto\",\"active_scroll\":\"auto\",\"active_tap\":\"auto\",\"tools\":[{\"id\":\"60ec7e1c-ca45-4708-be6d-feea1ae148cf\",\"type\":\"BoxZoomTool\"},{\"id\":\"a37793fc-eed5-4f46-a768-3d02c6c26678\",\"type\":\"BoxSelectTool\"},{\"id\":\"d83e971f-dded-47be-ae70-a16f6047ad30\",\"type\":\"CrosshairTool\"},{\"id\":\"c58a9866-e13b-4cbe-a2d3-eb25ad6849d1\",\"type\":\"ResizeTool\"},{\"id\":\"f567473c-4a2f-496a-86f3-60b56b831f5d\",\"type\":\"ResetTool\"},{\"id\":\"60d9a304-fc13-4d3f-9b0e-782b1f2ebe54\",\"type\":\"LassoSelectTool\"},{\"id\":\"f259a511-7ec7-4a7b-a940-de5d978b4af2\",\"type\":\"PanTool\"},{\"id\":\"e5497af1-27b6-45f4-9492-bf51ca8f9138\",\"type\":\"SaveTool\"},{\"id\":\"c3811906-731f-4e30-9a49-82d4fd381bc3\",\"type\":\"PolySelectTool\"},{\"id\":\"f60ea838-ddf2-4b1f-ac44-7502d87ffd8f\",\"type\":\"TapTool\"},{\"id\":\"cde21859-7e6e-420c-88c3-960b47d0239c\",\"type\":\"WheelZoomTool\"},{\"id\":\"9158f9ed-0080-4366-9b2e-eefb6853947d\",\"type\":\"UndoTool\"}]},\"id\":\"a17f789f-f1c0-425a-946f-17006cef1fca\",\"type\":\"Toolbar\"},{\"attributes\":{\"fill_color\":{\"value\":\"#80B1D3\"},\"line_color\":{\"value\":\"#80B1D3\"},\"line_width\":{\"value\":3},\"x\":{\"field\":\"x\"},\"y\":{\"field\":\"y\"}},\"id\":\"d7c107e4-3951-4b28-8c7e-e555946d9115\",\"type\":\"Circle\"},{\"attributes\":{\"dimension\":1,\"plot\":{\"id\":\"aca5f607-e024-4fb8-9b92-c51c4d951bb5\",\"subtype\":\"Figure\",\"type\":\"Plot\"},\"ticker\":{\"id\":\"48bf3e0c-06ff-4c9c-b168-d593996d7c02\",\"type\":\"BasicTicker\"}},\"id\":\"078bf404-ed2a-46ae-9ccc-befbe6d1f6ef\",\"type\":\"Grid\"},{\"attributes\":{\"data_source\":{\"id\":\"9ce845d9-1cb6-4e78-ad30-29d1c3ef6e81\",\"type\":\"ColumnDataSource\"},\"glyph\":{\"id\":\"743a7a9c-8135-40e8-b0ad-c15e3a432263\",\"type\":\"Line\"},\"hover_glyph\":null,\"nonselection_glyph\":{\"id\":\"886e04c0-8377-4dd7-8d02-8c6462a6ed5c\",\"type\":\"Line\"},\"selection_glyph\":null},\"id\":\"fde2bc3f-19c2-4ee6-a0e2-abf1d5e86107\",\"type\":\"GlyphRenderer\"},{\"attributes\":{\"line_alpha\":{\"value\":0.1},\"line_color\":{\"value\":\"#1f77b4\"},\"line_dash\":[4,4],\"line_width\":{\"value\":2},\"x\":{\"field\":\"x\"},\"y\":{\"field\":\"y\"}},\"id\":\"886e04c0-8377-4dd7-8d02-8c6462a6ed5c\",\"type\":\"Line\"}],\"root_ids\":[\"aca5f607-e024-4fb8-9b92-c51c4d951bb5\"]},\"title\":\"Bokeh Application\",\"version\":\"0.12.2\"}};\n",
       "            var render_items = [{\"docid\":\"573256ee-3626-4252-8976-c93befcd8756\",\"elementid\":\"ffc83c5a-224a-4a5d-b357-bd821137adaf\",\"modelid\":\"aca5f607-e024-4fb8-9b92-c51c4d951bb5\"}];\n",
       "            \n",
       "            Bokeh.embed.embed_items(docs_json, render_items);\n",
       "        });\n",
       "      },\n",
       "      function(Bokeh) {\n",
       "      }\n",
       "    ];\n",
       "  \n",
       "    function run_inline_js() {\n",
       "      \n",
       "      if ((window.Bokeh !== undefined) || (force === \"1\")) {\n",
       "        for (var i = 0; i < inline_js.length; i++) {\n",
       "          inline_js[i](window.Bokeh);\n",
       "        }if (force === \"1\") {\n",
       "          display_loaded();\n",
       "        }} else if (Date.now() < window._bokeh_timeout) {\n",
       "        setTimeout(run_inline_js, 100);\n",
       "      } else if (!window._bokeh_failed_load) {\n",
       "        console.log(\"Bokeh: BokehJS failed to load within specified timeout.\");\n",
       "        window._bokeh_failed_load = true;\n",
       "      } else if (!force) {\n",
       "        var cell = $(\"#ffc83c5a-224a-4a5d-b357-bd821137adaf\").parents('.cell').data().cell;\n",
       "        cell.output_area.append_execute_result(NB_LOAD_WARNING)\n",
       "      }\n",
       "  \n",
       "    }\n",
       "  \n",
       "    if (window._bokeh_is_loading === 0) {\n",
       "      console.log(\"Bokeh: BokehJS loaded, going straight to plotting\");\n",
       "      run_inline_js();\n",
       "    } else {\n",
       "      load_libs(js_urls, function() {\n",
       "        console.log(\"Bokeh: BokehJS plotting callback run at\", now());\n",
       "        run_inline_js();\n",
       "      });\n",
       "    }\n",
       "  }(this));\n",
       "</script>"
      ]
     },
     "metadata": {},
     "output_type": "display_data"
    }
   ],
   "source": [
    "# Plotining using bokeh\n",
    "#TOOLS = [BoxSelectTool(), HoverTool()]\n",
    "#TOOLS = 'hover,box_zoom,box_select,crosshair,resize,reset,KNeighborsRegressor_select,pan,save,poly_select,tap,wheel_zoom,undo'\n",
    "TOOLS = 'box_zoom,box_select,crosshair,resize,reset,lasso_select,pan,save,poly_select,tap,wheel_zoom,undo'\n",
    "p = figure(plot_width=500, plot_height=500, tools=TOOLS)\n",
    "p.scatter(Y, predicted,x=\"jjj\", marker=\"o\", color=\"#80B1D3\", line_width=3)\n",
    "p.title.align = \"center\"\n",
    "p.xaxis.axis_label = \"Measured\"\n",
    "p.xaxis.axis_label_text_color = \"#aa6666\"\n",
    "#p.xaxis.axis_label_standoff = 30\n",
    "p.xaxis.major_tick_line_color = \"firebrick\"\n",
    "p.xaxis.major_tick_line_width = 3\n",
    "p.xaxis.minor_tick_line_color = \"orange\"\n",
    "p.yaxis.axis_label = \"Predicted\"\n",
    "p.yaxis.axis_label_text_font_style = \"italic\"\n",
    "p.yaxis.axis_label_text_color = \"#aa6666\"\n",
    "p.background_fill_color = \"beige\"\n",
    "p.background_fill_alpha = 0.5\n",
    "#p.line([Y.min(), Y.max()], [Y.min(), Y.max()], line_dash=\"4 4\", line_width=2, color='red')\n",
    "\n",
    "# create a new plot with the toolbar below\n",
    "# line_dash=\"4 4\", line_width=2, color='red'\n",
    "p.line([Y.min(), Y.max()], [Y.min(), Y.max()], line_dash=\"4 4\", line_width=2, line_color=\"black\")\n",
    "show(p)"
   ]
  },
  {
   "cell_type": "code",
   "execution_count": 24,
   "metadata": {
    "collapsed": false
   },
   "outputs": [
    {
     "data": {
      "text/plain": [
       "<matplotlib.text.Text at 0x7f411830b310>"
      ]
     },
     "execution_count": 24,
     "metadata": {},
     "output_type": "execute_result"
    },
    {
     "data": {
      "image/png": "[encoded data removed]",
      "text/plain": [
       "<matplotlib.figure.Figure at 0x7f4118876910>"
      ]
     },
     "metadata": {},
     "output_type": "display_data"
    }
   ],
   "source": [
    "plt.scatter(predicted, (predicted - Y), c='r', s=30)\n",
    "plt.title(\"Residual plot on the training data\")\n",
    "plt.xlabel(\"Predicted\")\n",
    "plt.ylabel(\"Residuals\")"
   ]
  },
  {
   "cell_type": "code",
   "execution_count": 25,
   "metadata": {
    "collapsed": false
   },
   "outputs": [
    {
     "data": {
      "text/html": [
       "\n",
       "\n",
       "    <div class=\"bk-root\">\n",
       "        <div class=\"plotdiv\" id=\"e295be4e-7d40-4fc7-b383-a7a4fc802a5b\"></div>\n",
       "    </div>\n",
       "<script type=\"text/javascript\">\n",
       "  \n",
       "  (function(global) {\n",
       "    function now() {\n",
       "      return new Date();\n",
       "    }\n",
       "  \n",
       "    var force = \"\";\n",
       "  \n",
       "    if (typeof (window._bokeh_onload_callbacks) === \"undefined\" || force !== \"\") {\n",
       "      window._bokeh_onload_callbacks = [];\n",
       "      window._bokeh_is_loading = undefined;\n",
       "    }\n",
       "  \n",
       "  \n",
       "    \n",
       "    if (typeof (window._bokeh_timeout) === \"undefined\" || force !== \"\") {\n",
       "      window._bokeh_timeout = Date.now() + 0;\n",
       "      window._bokeh_failed_load = false;\n",
       "    }\n",
       "  \n",
       "    var NB_LOAD_WARNING = {'data': {'text/html':\n",
       "       \"<div style='background-color: #fdd'>\\n\"+\n",
       "       \"<p>\\n\"+\n",
       "       \"BokehJS does not appear to have successfully loaded. If loading BokehJS from CDN, this \\n\"+\n",
       "       \"may be due to a slow or bad network connection. Possible fixes:\\n\"+\n",
       "       \"</p>\\n\"+\n",
       "       \"<ul>\\n\"+\n",
       "       \"<li>re-rerun `output_notebook()` to attempt to load from CDN again, or</li>\\n\"+\n",
       "       \"<li>use INLINE resources instead, as so:</li>\\n\"+\n",
       "       \"</ul>\\n\"+\n",
       "       \"<code>\\n\"+\n",
       "       \"from bokeh.resources import INLINE\\n\"+\n",
       "       \"output_notebook(resources=INLINE)\\n\"+\n",
       "       \"</code>\\n\"+\n",
       "       \"</div>\"}};\n",
       "  \n",
       "    function display_loaded() {\n",
       "      if (window.Bokeh !== undefined) {\n",
       "        Bokeh.$(\"#e295be4e-7d40-4fc7-b383-a7a4fc802a5b\").text(\"BokehJS successfully loaded.\");\n",
       "      } else if (Date.now() < window._bokeh_timeout) {\n",
       "        setTimeout(display_loaded, 100)\n",
       "      }\n",
       "    }\n",
       "  \n",
       "    function run_callbacks() {\n",
       "      window._bokeh_onload_callbacks.forEach(function(callback) { callback() });\n",
       "      delete window._bokeh_onload_callbacks\n",
       "      console.info(\"Bokeh: all callbacks have finished\");\n",
       "    }\n",
       "  \n",
       "    function load_libs(js_urls, callback) {\n",
       "      window._bokeh_onload_callbacks.push(callback);\n",
       "      if (window._bokeh_is_loading > 0) {\n",
       "        console.log(\"Bokeh: BokehJS is being loaded, scheduling callback at\", now());\n",
       "        return null;\n",
       "      }\n",
       "      if (js_urls == null || js_urls.length === 0) {\n",
       "        run_callbacks();\n",
       "        return null;\n",
       "      }\n",
       "      console.log(\"Bokeh: BokehJS not loaded, scheduling load and callback at\", now());\n",
       "      window._bokeh_is_loading = js_urls.length;\n",
       "      for (var i = 0; i < js_urls.length; i++) {\n",
       "        var url = js_urls[i];\n",
       "        var s = document.createElement('script');\n",
       "        s.src = url;\n",
       "        s.async = false;\n",
       "        s.onreadystatechange = s.onload = function() {\n",
       "          window._bokeh_is_loading--;\n",
       "          if (window._bokeh_is_loading === 0) {\n",
       "            console.log(\"Bokeh: all BokehJS libraries loaded\");\n",
       "            run_callbacks()\n",
       "          }\n",
       "        };\n",
       "        s.onerror = function() {\n",
       "          console.warn(\"failed to load library \" + url);\n",
       "        };\n",
       "        console.log(\"Bokeh: injecting script tag for BokehJS library: \", url);\n",
       "        document.getElementsByTagName(\"head\")[0].appendChild(s);\n",
       "      }\n",
       "    };var element = document.getElementById(\"e295be4e-7d40-4fc7-b383-a7a4fc802a5b\");\n",
       "    if (element == null) {\n",
       "      console.log(\"Bokeh: ERROR: autoload.js configured with elementid 'e295be4e-7d40-4fc7-b383-a7a4fc802a5b' but no matching script tag was found. \")\n",
       "      return false;\n",
       "    }\n",
       "  \n",
       "    var js_urls = [];\n",
       "  \n",
       "    var inline_js = [\n",
       "      function(Bokeh) {\n",
       "        Bokeh.$(function() {\n",
       "            var docs_json = {\"f374d7c6-2b53-485d-97ba-85ec968d44b8\":{\"roots\":{\"references\":[{\"attributes\":{\"align\":\"center\",\"plot\":null,\"text\":\"Residual plot on the training data\"},\"id\":\"6e27b27e-8b2b-4e26-84cb-87284a5c5a40\",\"type\":\"Title\"},{\"attributes\":{\"axis_label\":\"Residuals\",\"axis_label_text_color\":{\"value\":\"#aa6666\"},\"formatter\":{\"id\":\"cccc9671-439c-4e4b-8a15-6f423799ca23\",\"type\":\"BasicTickFormatter\"},\"plot\":{\"id\":\"0f225437-5430-4edd-a295-7c2af9fb7e1f\",\"subtype\":\"Figure\",\"type\":\"Plot\"},\"ticker\":{\"id\":\"99453a1a-9bf5-447f-976d-5062ec2f6a60\",\"type\":\"BasicTicker\"}},\"id\":\"13574d03-027f-4d76-958e-93b07ab79fc7\",\"type\":\"LinearAxis\"},{\"attributes\":{\"callback\":null,\"plot\":{\"id\":\"0f225437-5430-4edd-a295-7c2af9fb7e1f\",\"subtype\":\"Figure\",\"type\":\"Plot\"}},\"id\":\"9f0a2753-3a2a-4058-b5bb-1d93a327ec9d\",\"type\":\"TapTool\"},{\"attributes\":{\"axis_label\":\"Predicted\",\"axis_label_text_color\":{\"value\":\"#aa6666\"},\"formatter\":{\"id\":\"b29cd8ec-8ca4-4899-9308-45cccf2600fe\",\"type\":\"BasicTickFormatter\"},\"major_tick_line_color\":{\"value\":\"firebrick\"},\"major_tick_line_width\":{\"value\":3},\"minor_tick_line_color\":{\"value\":\"orange\"},\"plot\":{\"id\":\"0f225437-5430-4edd-a295-7c2af9fb7e1f\",\"subtype\":\"Figure\",\"type\":\"Plot\"},\"ticker\":{\"id\":\"70d0cee4-5661-490b-af04-4bc4bdd882fa\",\"type\":\"BasicTicker\"}},\"id\":\"ff29f99b-cf8b-496b-8c5e-56af48d8a19f\",\"type\":\"LinearAxis\"},{\"attributes\":{},\"id\":\"c0de2bb7-28be-4286-8a0f-02520f84fd39\",\"type\":\"ToolEvents\"},{\"attributes\":{\"data_source\":{\"id\":\"ce3381f0-1dfe-4905-9864-45ffec0dcb2a\",\"type\":\"ColumnDataSource\"},\"glyph\":{\"id\":\"8a2e381b-1d4d-4e53-af04-4885dc581f4c\",\"type\":\"Circle\"},\"hover_glyph\":null,\"nonselection_glyph\":{\"id\":\"227ce502-6bfb-416e-8ed9-2887fa9263a3\",\"type\":\"Circle\"},\"selection_glyph\":null},\"id\":\"7ecafd3b-7cc9-4560-8829-cfa1a6fc8518\",\"type\":\"GlyphRenderer\"},{\"attributes\":{\"plot\":{\"id\":\"0f225437-5430-4edd-a295-7c2af9fb7e1f\",\"subtype\":\"Figure\",\"type\":\"Plot\"}},\"id\":\"87b0e2ff-9fb1-4319-bf0f-c2e8089c0545\",\"type\":\"UndoTool\"},{\"attributes\":{\"active_drag\":\"auto\",\"active_scroll\":\"auto\",\"active_tap\":\"auto\",\"tools\":[{\"id\":\"ab7d7666-a3fa-4d26-acf0-e95cb9555ae1\",\"type\":\"BoxZoomTool\"},{\"id\":\"aca9a33e-0f0a-44fa-993d-81a1085668ce\",\"type\":\"BoxSelectTool\"},{\"id\":\"d0ef3603-7a8a-4d36-a9fa-16af9d4140ef\",\"type\":\"CrosshairTool\"},{\"id\":\"a6938743-d13f-4d5b-af04-55d59492c30e\",\"type\":\"ResizeTool\"},{\"id\":\"0199da93-4577-4165-9f23-ca7495e90da9\",\"type\":\"ResetTool\"},{\"id\":\"c1d279b4-7e7d-4d13-badc-aa800c78efcd\",\"type\":\"LassoSelectTool\"},{\"id\":\"c4f0ee3a-16d9-4555-90db-43269ceda5cf\",\"type\":\"PanTool\"},{\"id\":\"b4ea5a52-b617-4e72-b936-658b43654bb9\",\"type\":\"SaveTool\"},{\"id\":\"ca77a381-e202-46b8-9f05-448ff31bc159\",\"type\":\"PolySelectTool\"},{\"id\":\"9f0a2753-3a2a-4058-b5bb-1d93a327ec9d\",\"type\":\"TapTool\"},{\"id\":\"e7ee8d2a-3c63-4238-af87-39d755a87f70\",\"type\":\"WheelZoomTool\"},{\"id\":\"87b0e2ff-9fb1-4319-bf0f-c2e8089c0545\",\"type\":\"UndoTool\"}]},\"id\":\"ae655cfe-11b1-4432-96bd-b86ca1352a0d\",\"type\":\"Toolbar\"},{\"attributes\":{\"callback\":null},\"id\":\"86b12ed0-38e6-44aa-a6d1-906fbb8300ea\",\"type\":\"DataRange1d\"},{\"attributes\":{},\"id\":\"70d0cee4-5661-490b-af04-4bc4bdd882fa\",\"type\":\"BasicTicker\"},{\"attributes\":{\"bottom_units\":\"screen\",\"fill_alpha\":{\"value\":0.5},\"fill_color\":{\"value\":\"lightgrey\"},\"left_units\":\"screen\",\"level\":\"overlay\",\"line_alpha\":{\"value\":1.0},\"line_color\":{\"value\":\"black\"},\"line_dash\":[4,4],\"line_width\":{\"value\":2},\"plot\":null,\"render_mode\":\"css\",\"right_units\":\"screen\",\"top_units\":\"screen\"},\"id\":\"5b8732d4-f3ce-4ec6-bbf1-a422d15032d2\",\"type\":\"BoxAnnotation\"},{\"attributes\":{},\"id\":\"b29cd8ec-8ca4-4899-9308-45cccf2600fe\",\"type\":\"BasicTickFormatter\"},{\"attributes\":{\"overlay\":{\"id\":\"aae95df1-78eb-4a0c-932b-f549da56daa5\",\"type\":\"PolyAnnotation\"},\"plot\":{\"id\":\"0f225437-5430-4edd-a295-7c2af9fb7e1f\",\"subtype\":\"Figure\",\"type\":\"Plot\"}},\"id\":\"ca77a381-e202-46b8-9f05-448ff31bc159\",\"type\":\"PolySelectTool\"},{\"attributes\":{\"callback\":null,\"overlay\":{\"id\":\"7b8495a8-aedb-4bd4-81bd-10cca1ac9063\",\"type\":\"PolyAnnotation\"},\"plot\":{\"id\":\"0f225437-5430-4edd-a295-7c2af9fb7e1f\",\"subtype\":\"Figure\",\"type\":\"Plot\"}},\"id\":\"c1d279b4-7e7d-4d13-badc-aa800c78efcd\",\"type\":\"LassoSelectTool\"},{\"attributes\":{\"plot\":{\"id\":\"0f225437-5430-4edd-a295-7c2af9fb7e1f\",\"subtype\":\"Figure\",\"type\":\"Plot\"}},\"id\":\"d0ef3603-7a8a-4d36-a9fa-16af9d4140ef\",\"type\":\"CrosshairTool\"},{\"attributes\":{\"plot\":{\"id\":\"0f225437-5430-4edd-a295-7c2af9fb7e1f\",\"subtype\":\"Figure\",\"type\":\"Plot\"}},\"id\":\"0199da93-4577-4165-9f23-ca7495e90da9\",\"type\":\"ResetTool\"},{\"attributes\":{\"fill_alpha\":{\"value\":0.5},\"fill_color\":{\"value\":\"lightgrey\"},\"level\":\"overlay\",\"line_alpha\":{\"value\":1.0},\"line_color\":{\"value\":\"black\"},\"line_dash\":[4,4],\"line_width\":{\"value\":2},\"plot\":null,\"xs_units\":\"screen\",\"ys_units\":\"screen\"},\"id\":\"7b8495a8-aedb-4bd4-81bd-10cca1ac9063\",\"type\":\"PolyAnnotation\"},{\"attributes\":{\"callback\":null,\"column_names\":[\"x\",\"y\"],\"data\":{\"x\":[132.0685,135.179,119.49149999999999,121.11699999999999,114.12249999999999,132.989,127.55474999999998,123.465,123.8375,135.95725,125.29325,135.993,112.36949999999999,123.261,115.0685,130.159,118.5825,124.6955,120.6335,121.825,119.411,125.6725,110.57900000000001,122.175,117.01149999999998,122.1925,115.9375,137.573,124.368,131.15925,137.7605,116.389,129.43375,119.23775,125.0465,119.6115,131.978,110.85050000000001,128.1915,134.3555,127.39025,126.91475,117.1725,115.42999999999999,124.86950000000002,119.6615,126.13275,120.25075,115.5875,131.6465,128.337,123.5425,129.3925,127.97999999999999,132.002,129.574,125.0895,126.62549999999999,115.9375,122.023,125.45149999999998,130.20675,118.69099999999999,130.6295,132.0685,117.63775,125.51249999999999,127.78200000000001,129.95749999999998,121.395,120.761,116.82575000000001,133.453,132.60899999999998,131.978,123.9,127.7185,128.14749999999998,129.43375,127.677,117.56225,129.23225,132.5085,113.8545,122.41400000000002,117.53475,128.9135,126.521,116.78875,130.876,130.966,125.5125,113.80075,128.98850000000002,131.379,133.453,126.2045,127.8595,125.66899999999998,134.192,126.95649999999999,133.85049999999998,119.7775,127.8215,123.83749999999999,127.2,132.908,120.428,127.75375,117.959,132.89525,126.074,128.9135,129.83350000000002,131.978,135.08549999999997,124.063,131.81799999999998,126.3795,124.85275,132.609,118.96,128.63400000000001,126.36500000000001,130.18200000000002,119.5115,125.68,133.8005,117.5165,127.13700000000001,122.50075,130.22475,128.8525,125.6515,122.48925,126.39850000000001,132.644,120.1265,128.221,131.69549999999998,132.956,131.87775,134.295,131.2515,129.98275,131.6735,117.628,131.0665,128.8195,129.8625,124.59725,131.0725,118.2425,131.355,117.88149999999999,132.391,128.84475,124.44149999999999,131.1945,125.03999999999999,122.1465,123.6925,120.68599999999999,124.89975000000001,124.03999999999999,115.03649999999999,129.232,119.7985,122.34,136.763,129.154,117.037,129.537,124.67150000000001,122.155,132.637,112.973,128.8195,116.996,125.26950000000001,115.63900000000001,121.106,127.1935,127.746,131.442,132.79450000000003,129.63750000000002,127.46700000000001,132.5215,132.4715,121.781,121.14150000000001,133.69675,129.5015,121.554,132.6655,114.2315,119.81700000000001,123.72549999999998,125.63,126.913,125.93950000000001,135.4415,120.8825,122.8045,116.68925,118.55475,131.442,108.9805,128.4655,126.838,127.189,116.996,132.799,125.635,127.4745,115.87975000000002,120.369,128.7495,118.874,123.256,130.77100000000002,111.00225,114.649,128.63400000000001,125.179,129.39350000000002,124.88000000000001,117.41999999999999,126.14299999999999,127.632,132.391,125.526,127.1675,121.2065,131.4535,130.22475,135.2485,116.13125,132.01175,124.65799999999999,132.7945,127.0495,128.27499999999998,119.475,134.4205,128.30974999999998,129.0545,129.224,133.8565,130.5475,127.20175,120.91,132.674,134.661,136.69799999999998,124.992,122.4265,134.278,125.9015,117.93475000000001,121.57,118.917,128.3215,125.95150000000001,125.58699999999999,135.07600000000002,115.23100000000001,113.10350000000001,136.69799999999998,118.24100000000001,125.68450000000001,115.36850000000001,130.45600000000002,134.48000000000002,119.89075,125.896,124.8215,128.27499999999998,120.7275,126.3835,126.906,127.2375,127.884,123.231,122.258,130.5635,132.4245,110.723,129.21925,124.94524999999999,131.70175,119.24000000000001,122.45474999999999,130.806,122.387,130.81425000000002,124.901,125.401,124.6625,127.2275,127.4885,130.158,123.795,126.52600000000001,118.005,121.7115,130.73425,127.86224999999999,126.53900000000002,133.48625,130.76999999999998,122.91075000000001,134.278,125.8155,135.23250000000002,117.521,128.16725,123.122,125.6845,133.636,114.5995,130.013,109.96300000000001,116.5815,134.4205,120.00349999999999,119.3595,122.3655,115.2765,110.78,118.523,130.11749999999998,129.899,131.14175,113.838,111.9945,115.58050000000001,130.416,131.48250000000002,132.7765,119.684,128.83950000000002,115.72,126.906,131.7465,125.97,130.01675,128.4495,121.71149999999999,121.653,110.76374999999999,110.97399999999999,131.89799999999997,132.8265,125.43700000000001,131.14175,131.64025,132.80049999999997,124.713,125.896,129.936,127.769,129.98749999999998,114.23600000000002,135.773,117.04199999999999,128.6755,128.04675,130.26125,120.27824999999999,127.59550000000002,119.68700000000001,134.15749999999997,130.153,135.75850000000003,120.017,128.395,119.81600000000002,124.749,126.90249999999999,117.232,127.365,133.66500000000002,126.75725,126.56549999999999,126.3635,119.495,127.71700000000001,128.73399999999998,112.30375000000001,126.67599999999999,132.04749999999999,127.2045,129.70999999999998,117.30599999999998,122.3195,119.31500000000001,120.04799999999999,121.90599999999999,118.39175,115.22325000000001,121.2825,129.531,133.50875,135.27425,132.079,130.4575,125.76700000000001,130.68449999999999,107.82749999999999,118.141,119.5315,126.50250000000001,112.30375,127.708,125.871,130.166,126.73150000000001,120.55850000000001,129.14550000000003,122.392,129.98749999999998,127.67450000000002,126.3165,128.6585,128.6015,130.89475,128.2605,132.14675,129.95,123.64,120.46600000000001,125.32799999999999,123.64,126.2505,114.33974999999998,131.4305,120.399,114.874,127.98700000000001,122.6215,126.18900000000002,119.54349999999998,124.30799999999999,133.0885,130.8465,121.861,128.2985,138.233,120.27824999999999,125.47299999999998,127.94999999999999,123.64,130.0065,110.79249999999999,114.9475,129.57225,127.0015,127.01799999999999,125.7765,130.32049999999998,128.43725,118.882,126.88499999999999,127.25450000000001,127.334,122.6215,129.9995,126.575,134.51425,126.853,133.329,130.85049999999998,127.39899999999999,126.90249999999999,129.101,121.644,129.60925,116.4875,133.329,126.08050000000001,127.28500000000001,126.40475,127.17450000000001,122.66575,130.32850000000002,123.29975,125.42500000000001,123.715,130.9425,136.863,133.0235,125.3355,132.39100000000002,133.8575,129.6675,125.671,127.17450000000001,123.71425,124.3725,133.10175,126.5465,122.102,130.1635,125.69649999999999,131.9245,128.315,131.0715,116.6515,123.80199999999999,128.16725000000002,128.03949999999998,120.0,116.637,126.07899999999998,126.71350000000001,117.23400000000001,122.59,129.877,124.6315,133.45175,132.26425,127.024,128.95200000000003,124.78999999999999,131.0545,120.19624999999999,113.00375000000001,114.8425,116.255,129.12675000000002,115.7705,131.167,133.01049999999998,120.51399999999998,125.92549999999999,131.18349999999998,116.3565,128.0275,130.3055,127.6915,125.701,114.23849999999999,124.98899999999999,125.066,132.3505,127.36450000000002,130.178,122.30474999999998,116.749,121.679,128.00549999999998,112.41050000000001,122.2125,124.696,126.72500000000001,119.59525000000001,122.3335,130.178,129.1325,134.602,117.38850000000001,125.37150000000001,125.87625,128.19799999999998,128.987,134.313,120.8735,134.8815,112.153,124.398,118.0225,127.5675,126.8465,126.37349999999999,127.233,133.2605,121.06150000000001,129.1065,127.3645,124.63600000000001,129.1325,125.54750000000001,129.6295,127.76799999999999,126.69675000000001,136.8105,123.55449999999999,128.2515,126.54700000000001,115.89300000000001,122.59,123.6975,125.67699999999999,131.47250000000003,131.8375,129.2295,123.8855,129.9995,125.89725000000001,118.15025,124.6925,128.89999999999998,117.99350000000001,121.51350000000001,135.269,128.1815,116.75899999999999,125.07300000000001,129.461,125.13700000000001,118.98625000000001,132.142,132.9265,117.70249999999999,128.78725,125.762,120.1105,119.256,110.0055,134.1695,121.50200000000001,129.9125,127.54875,131.9035,122.203,123.55225000000002,123.04,127.889,127.90549999999999,130.8875,132.132,130.789,123.5605,115.9015,127.77,129.319,119.85399999999998,126.42675000000001,127.93175000000001,120.4405,129.941,130.68925000000002,128.9955,125.612,127.5105,128.11499999999998,129.31900000000002,129.49475,112.37174999999999,129.9125,117.0795,113.55149999999999,117.54325,123.054,109.254,126.74725000000001,130.76950000000002,128.962,129.84525000000002,128.44350000000003,112.13225000000001,126.65149999999998,120.674,129.31900000000002,134.2105,124.59599999999999,113.2745,119.7705,128.3975,124.63775,125.32149999999999,137.0555,118.80850000000001,128.125,126.9795,123.99924999999999,125.936,128.39749999999998,137.4805,128.14350000000002,127.7535,127.2645,126.29150000000001,117.54250000000002,118.55250000000001,125.13499999999999,132.24,121.97299999999998,126.98699999999998,121.51350000000001,124.31675000000001,117.54325,129.70100000000002,129.9935,126.28,128.2755,134.8495,130.508,133.41649999999998,126.60024999999999,113.956,127.41425000000001,125.04549999999999,113.03349999999999,129.1585,124.47549999999998,107.31599999999999,112.78375000000001,126.92649999999999,123.483,121.414,126.71350000000001,129.586,125.463,129.1575,115.81250000000001,128.9955,127.4065,125.3215,132.707,114.61075,119.88825,114.90525,115.87199999999999,132.558,134.431,130.9555,127.26249999999999,115.06349999999999,131.5275,123.869,128.594,127.93525000000001,127.30649999999999,132.58100000000002,126.8585,126.8585,132.56799999999998,122.885,131.66675,113.446,123.88149999999999,137.248,120.524,125.3945,131.93200000000002,134.64925,135.858,128.17125000000001,123.768,127.726,132.36100000000002,132.1595,117.43099999999998,120.689,131.24349999999998,135.03275000000002,111.5965,118.3835,117.00399999999999,121.66100000000002,111.65650000000001,112.2835,129.03225,128.4515,129.45549999999997,132.4365,112.3775,121.0595,127.87950000000001,124.37525,130.649,127.93525000000001,127.61450000000002,112.2835,126.28450000000001,124.0625,123.6565,124.247,119.683,128.982,120.251,135.41025000000002,126.9785,121.62549999999999,109.15899999999999,134.9305,129.187,129.24725,130.9575,127.6485,125.18900000000001,117.91775000000001,129.6235,130.10525,126.5165,125.571,126.28450000000001,125.24725000000001,130.7835,123.19800000000001,128.08200000000002,123.464,123.768,135.8655,123.12899999999999,122.78525,121.77850000000001,120.887,131.2565,132.863,128.63700000000003,114.285,132.28525000000002,127.1175,127.6525,129.04399999999998,127.8555,130.3,121.9855,111.42425000000001,128.63549999999998,125.571,135.41025,125.04149999999998,118.702,130.95549999999997,127.257,122.914,127.61450000000002,129.48749999999998,119.03750000000001,132.894,121.2225,130.9865,135.154,119.4745,118.74799999999999,117.09825,114.242,127.53899999999999,112.09025,128.82774999999998,123.969,123.5475,125.13925,130.578,131.2105,125.50299999999999,126.90650000000001,129.317,125.305,123.439,124.76799999999999,133.6885,125.98724999999999,130.072,122.82350000000001,126.26450000000001,117.7025,128.54175,128.199,122.0575,128.9405,129.065,120.985,115.054,129.97,123.969,126.2835,124.63725,112.625,126.30000000000001,126.87,135.133,126.895,125.28775,126.241,124.56750000000001,126.25399999999999,122.6935,127.077,122.52425,124.58250000000001,125.80850000000001,119.892,125.86000000000001,130.03474999999997,125.86,115.52324999999999,126.34750000000001,126.90650000000001,132.3835,121.9915,115.364,136.26600000000002,115.5275,126.99849999999999,124.14649999999999,123.14375000000001,131.459,122.01,128.26450000000003,126.241,125.93299999999999,128.79,125.96549999999999,129.6865,127.96125,129.97,124.14649999999999,129.77825,114.422,123.44249999999998,127.3895,123.2415,132.729,126.4005,128.985,116.148,122.7365,129.3495,133.9125,130.7625,115.576,128.27949999999998,120.274,130.3785,117.36,131.47,119.71875,131.91424999999998,115.5275,116.14950000000002,130.3265,127.04925,117.05600000000001,130.95200000000003,133.76149999999998,126.52425000000001,129.2315,120.71799999999999,118.35000000000001,126.278,125.93299999999999,134.27499999999998,130.07950000000002,134.2635,125.119,134.53799999999998,127.47774999999999,134.3835,121.27425,124.90675000000002,115.564,126.90700000000001,128.25,119.79,130.3685,127.7675,115.05350000000001,128.45950000000002,124.4915,127.96249999999999,124.665,126.49249999999999,123.01150000000001,126.096,116.545,126.737,125.2025,118.72200000000001,121.72399999999999,111.42374999999998,127.179,123.1105,129.8225,132.37925,124.19500000000001,119.342,122.82150000000001,127.12950000000001,132.426,127.31150000000001,134.473,129.85775,130.5185,125.3875,127.7075,129.993,134.9655,118.11525,122.394,123.29100000000001,124.99600000000001,130.5185,133.89749999999998,130.28750000000002,122.23399999999998,132.01399999999998,116.229,124.66499999999999,130.1255,132.42475,126.92725000000002,119.55000000000001,124.4685,129.61700000000002,130.83975,121.956,113.174,123.92949999999999,125.199,126.5975,124.14700000000002,120.857,122.2035,132.267,113.92299999999999,127.04700000000001,125.85225000000001,123.51325,113.229,121.90575,120.6825,114.6735,126.20025000000001,126.5275,121.38649999999998,117.6425,126.78450000000001,123.808,124.2975,123.90100000000001,125.76650000000001,129.846,126.5275,132.428,127.606,116.65925,126.4385,131.38049999999998,128.06125,127.59850000000002,128.88774999999998,131.17600000000002,115.424,120.22749999999999,123.9295,121.142,119.40425,127.209,113.88425000000001,130.5185,126.72649999999999,121.89925000000001,127.04700000000001,125.36299999999999,126.39649999999999,121.9375,124.98349999999999,126.177,128.83575000000002,118.49349999999998,127.60350000000001,122.637,128.531,124.32849999999999,134.276,114.23,125.47749999999999,130.015,125.36350000000002,130.213,129.061,120.9865,121.72399999999999,133.0885,133.218,127.44700000000002,127.3825,122.89850000000001,127.861,116.77499999999999,118.36250000000001,133.91225,117.1145,128.90925,130.191,127.20200000000001,122.62925,135.7205,130.7385,121.1215,124.6105,126.50550000000001,117.70875,124.89149999999998,132.02025,118.5425,129.6945,123.4865,118.4255,125.787,127.2655,117.8665,122.04375,129.422,113.5565,125.533,110.12,131.90175,124.50399999999999,126.20599999999999,112.99350000000001,130.2885,124.05600000000001,130.48350000000002,123.126,123.83450000000002,124.9545,135.836,129.0645,123.7805,127.1055,126.6555,133.93900000000002,125.04549999999999,114.52525,129.2705,117.84325,130.64600000000002,124.7065,130.7005,124.30775000000001,128.86700000000002,123.13250000000001,135.10799999999998,115.154,125.20750000000001,123.8345,128.6485,115.47949999999999,127.7915,124.68450000000001,129.012,129.947,118.6975,127.28225,133.7835,110.25925000000001,123.47,122.3375,120.706,111.79950000000001,121.1555,127.411,115.815,129.43099999999998,129.43099999999998,122.61399999999999,125.799,128.5425,132.674,130.85399999999998,125.2705,122.89850000000001,114.2375,121.9455,130.673,129.281,129.41925,134.20600000000002,117.5465,110.088,129.012,133.88025,128.0965,130.70049999999998,123.24725000000001,129.36350000000002,119.13149999999999,133.666,128.21025,123.53575000000001,122.31225,115.32649999999998,110.16275,123.92299999999999,132.238,125.2225,131.288,126.937,120.21350000000001,136.21800000000002,125.79025,128.2285,127.80700000000002,129.422,123.97149999999999],\"y\":[4.862499999999997,-1.1049999999999898,1.9874999999999972,-1.224000000000018,0.08049999999998647,-2.0900000000000034,0.32174999999999443,-0.22399999999998954,5.83250000000001,0.6112499999999841,-1.2407499999999914,0.625,0.41049999999998477,-2.555000000000007,-4.552500000000009,-1.8799999999999955,0.21750000000000114,-0.052499999999994884,8.127499999999998,-0.5499999999999972,-1.093999999999994,4.357500000000002,1.325000000000017,2.6700000000000017,-1.2025000000000148,-2.1625000000000085,0.02750000000000341,-1.8649999999999807,-0.125,1.479249999999979,3.2275000000000205,2.0799999999999983,-0.01624999999998522,2.826750000000004,6.917500000000004,0.8995000000000033,0.1419999999999959,-0.05449999999999022,-1.3774999999999977,10.08250000000001,-1.6367500000000206,2.062749999999994,1.4934999999999974,-2.1940000000000026,-2.257499999999993,0.28650000000000375,7.062750000000008,1.309749999999994,2.2545000000000073,3.9465000000000003,-3.119000000000028,2.0575000000000045,-0.40749999999999886,0.9399999999999835,-1.9979999999999905,0.8000000000000114,0.6394999999999982,1.7824999999999989,1.0374999999999943,3.265999999999991,-2.9025000000000034,0.009749999999996817,0.5459999999999923,-2.467500000000001,6.342500000000001,1.3967499999999973,1.342499999999987,11.924999999999997,-0.0075000000000216005,-0.0040000000000048885,-0.005000000000009663,-1.2962500000000006,0.9399999999999977,0.3049999999999784,4.340000000000018,-0.6550000000000011,-1.2375000000000114,1.3124999999999858,-1.5262500000000045,-0.8850000000000051,1.6992500000000064,2.8372499999999974,-1.2475000000000023,0.7465000000000117,1.1130000000000138,3.576750000000004,4.5674999999999955,-10.364999999999995,-0.24825000000001296,-0.7599999999999909,-0.1449999999999818,-3.8175000000000097,0.9977499999999964,0.4525000000000148,-2.3950000000000102,-0.8199999999999932,3.122499999999988,-1.0675000000000239,8.549999999999983,-0.3640000000000043,-0.2225000000000108,0.2524999999999977,-2.2664999999999935,-1.1075000000000017,1.9484999999999957,-2.214999999999989,2.7849999999999966,0.20000000000000284,-1.1032500000000027,2.8800000000000097,4.377250000000004,1.9200000000000017,-0.34250000000000114,-0.9474999999999909,7.822000000000003,0.5174999999999841,1.9750000000000085,0.5049999999999955,2.4144999999999897,3.9327499999999986,-1.039999999999992,2.664999999999992,-7.039999999999992,-3.829999999999984,0.6150000000000091,0.21750000000000114,-0.03499999999999659,-3.4325000000000045,0.667500000000004,2.4450000000000074,5.806749999999994,-0.11525000000000318,-2.3525000000000205,-0.5374999999999943,2.8192499999999967,-0.6074999999999875,1.710000000000008,-1.3725000000000023,0.42499999999999716,-2.5725000000000193,-3.075000000000017,-0.04025000000001455,0.5049999999999955,0.9524999999999864,-3.3722499999999798,-2.4375,2.307000000000002,-1.9455000000000098,0.17249999999998522,1.9425000000000097,1.6922500000000014,1.7874999999999943,2.0175000000000125,-1.075000000000017,2.6474999999999937,6.989999999999981,1.4507500000000135,-6.904500000000013,8.582499999999996,2.7249999999999943,1.0875000000000057,-0.6115000000000066,-1.3490000000000038,9.24075000000002,-1.5150000000000148,3.0224999999999937,-2.969999999999999,3.9525000000000006,3.7450000000000045,-1.759999999999991,-0.960000000000008,0.4340000000000117,-0.8549999999999898,2.8825000000000074,-0.28000000000000114,-1.5909999999999798,-0.5190000000000055,0.6924999999999955,5.084999999999994,-0.2574999999999932,-0.5899999999999892,0.2499999999999858,-0.16250000000000853,-9.280000000000015,2.404000000000025,6.697500000000019,2.583500000000015,-1.6800000000000068,-1.5005000000000166,-1.4225000000000136,1.3230000000000075,0.6694999999999993,0.7987500000000125,2.4934999999999974,1.0700000000000074,1.7675000000000125,2.1924999999999955,0.9899999999999949,3.6474999999999937,-0.5649999999999977,1.1850000000000023,5.802500000000009,0.2074999999999818,2.0664999999999907,1.1455000000000126,-0.39775000000000205,3.627749999999992,-2.0379999999999825,1.7134999999999962,1.5674999999999955,6.513999999999996,-4.944999999999993,7.0449999999999875,6.200000000000017,-1.007000000000005,-1.6425000000000125,-1.2712499999999949,2.9369999999999976,2.8825000000000074,-0.09000000000000341,-4.420000000000002,-2.4399999999999977,0.48725000000000307,0.09499999999999886,-4.659999999999968,4.825000000000003,3.1025000000000205,-2.6499999999999915,0.26599999999999113,-1.7600000000000051,8.677000000000007,3.9899999999999807,-3.3030000000000115,-1.3774999999999835,4.072500000000005,-3.710499999999996,-4.338249999999988,1.1384999999999934,-0.5457500000000124,-0.9982499999999845,-5.295000000000016,5.597499999999997,-2.502500000000026,0.5789999999999793,1.4299999999999926,-2.6474999999999795,0.5567499999999939,-2.7535000000000025,4.1699999999999875,-1.1394999999999982,-1.5024999999999977,0.6877500000000083,1.7749999999999915,2.7849999999999966,-2.3460000000000036,-3.2200000000000273,0.5970000000000084,-4.971499999999992,1.2549999999999955,-4.447499999999991,-0.8082499999999868,1.715999999999994,0.8670000000000044,0.9924999999999926,-0.09749999999998238,-0.5290000000000106,-0.15099999999998204,2.3830000000000098,0.8385000000000105,2.9299999999999784,2.27200000000002,-3.0774999999999864,2.6695000000000135,4.515000000000015,-0.7679999999999723,3.167749999999998,8.509999999999991,6.257500000000007,0.18899999999996453,-4.3174999999999955,-0.36250000000001137,4.140000000000001,-1.0274999999999892,-1.9849999999999994,0.45999999999999375,3.260000000000005,-2.322499999999991,-2.4014999999999986,2.3159999999999883,1.6552499999999952,-1.790750000000017,1.0727500000000134,1.2160000000000082,1.4917499999999961,-2.2649999999999864,-2.3300000000000125,-0.2457499999999868,0.5080000000000098,-0.1880000000000024,-0.5575000000000045,3.2265000000000015,0.4124999999999943,3.319999999999993,0.05299999999999727,2.7650000000000006,-0.43600000000000705,6.407499999999999,-0.3947499999999877,-0.44975000000002296,1.9270000000000067,1.6792499999999961,-1.325000000000017,0.8097500000000082,-1.6750000000000114,5.757500000000007,-0.07549999999997681,-4.890000000000001,-3.2857500000000073,1.7149999999999892,-2.8075000000000188,-0.21000000000000796,2.390500000000003,-0.32200000000000273,1.9780000000000086,0.7635000000000076,-5.007499999999993,-0.22550000000001091,1.0165000000000077,-1.079499999999996,2.272500000000008,3.9000000000000057,2.4150000000000063,2.4074999999999847,1.1949999999999932,-2.507249999999999,2.4879999999999995,1.3055000000000092,0.9465000000000146,-6.659999999999997,2.4295000000000186,-0.8105000000000189,-15.639999999999986,-1.977499999999992,0.6350000000000051,0.01999999999999602,-0.5575000000000045,1.1350000000000051,-4.319250000000011,2.5595,-1.802500000000009,3.7420000000000044,-3.710250000000002,2.708999999999989,3.9699999999999704,1.3925000000000125,3.2900000000000063,-1.6272500000000036,1.8632499999999936,-1.6975000000000193,8.585000000000008,2.480000000000004,5.814999999999998,2.5660000000000167,-0.8575000000000159,3.7450000000000188,6.430000000000007,0.8219999999999885,0.5314999999999941,5.256749999999997,0.10524999999998386,-1.654750000000007,4.3215000000000146,1.2770000000000152,-0.18250000000003297,5.920000000000002,-1.0784999999999911,5.155999999999992,-1.6539999999999964,-0.9699999999999847,5.429999999999993,-1.4325000000000188,2.7549999999999955,3.7299999999999898,-3.160999999999973,-3.7197500000000048,-2.550500000000028,-0.4625000000000057,-0.5600000000000023,0.9650000000000034,-0.27000000000001023,3.5827500000000043,1.4149999999999778,-1.7425000000000068,-3.1274999999999977,-2.474000000000018,2.0909999999999798,-2.667500000000004,2.028000000000006,-0.75,2.7709999999999866,1.6677500000000123,2.535250000000019,-0.030499999999989313,9.085000000000008,-1.9752500000000168,0.8442499999999882,1.288000000000011,-1.267499999999984,2.230000000000004,0.22449999999997772,1.5674999999999812,0.6760000000000019,0.5374999999999943,-1.78749999999998,5.721749999999986,-0.5360000000000014,0.2680000000000007,3.0649999999999977,-1.966499999999968,0.9125000000000085,-0.8184999999999718,-0.33199999999999363,-0.07750000000001478,-1.9924999999999784,-1.2314999999999827,0.2574999999999932,1.957499999999996,1.3947499999999877,-1.8874999999999886,0.03274999999999295,-1.0150000000000148,-0.05499999999999261,2.1750000000000114,3.1099999999999994,-1.0450000000000017,-2.0605000000000047,0.481749999999991,-1.1574999999999989,5.25500000000001,-1.3100000000000023,4.674999999999997,6.547499999999999,0.19100000000003092,0.3354999999999819,4.219999999999999,-1.8984999999999843,5.652499999999989,5.4950000000000045,6.082499999999982,1.4350000000000023,-1.0057500000000061,2.029999999999987,-1.6950000000000216,0.7950000000000017,1.8874999999999886,1.80149999999999,1.6595000000000084,-2.7847500000000025,1.5024999999999977,2.614999999999995,0.3785000000000025,-1.6825000000000045,-1.1377499999999827,-1.179000000000002,-2.7900000000000205,9.287499999999994,0.28000000000000114,1.4675000000000011,-0.7224999999999966,0.9500000000000028,-2.532749999999993,-0.24200000000000443,1.358000000000004,-2.302500000000009,-4.954999999999998,-0.4125000000000085,5.109999999999999,4.040000000000006,-2.9777500000000146,0.8425000000000011,6.078000000000003,0.2565000000000168,-1.519999999999996,0.061750000000017735,-7.072500000000005,-10.541249999999991,-6.878499999999974,1.3557500000000005,4.8700000000000045,2.230000000000004,4.402499999999989,-1.259999999999991,1.2275000000000205,-0.3855000000000075,-0.21999999999997044,-1.6825000000000045,5.788499999999999,3.5010000000000048,-1.8275000000000006,-1.4867500000000007,0.5104999999999933,-1.7682499999999948,2.4975000000000023,-3.7550000000000097,-3.0374999999999943,1.2574999999999932,2.616500000000002,3.6499999999999915,0.1104999999999734,8.617500000000007,-0.2220000000000084,-3.0667499999999848,8.526499999999984,2.125,-1.475999999999999,0.5399999999999778,0.0975000000000108,0.41900000000001114,-0.17499999999999716,-1.1379999999999768,-5.637500000000003,-1.618249999999989,-1.4427499999999895,6.700000000000003,-2.629999999999967,-3.6450000000000102,0.36650000000000205,5.77825,2.0987500000000097,6.808500000000009,3.3100000000000023,-2.057249999999982,-0.6465000000000032,-1.8950000000000102,3.3574999999999875,-4.13000000000001,-1.5175000000000125,4.737499999999983,7.672499999999999,4.19250000000001,6.6825000000000045,-0.735500000000016,-0.8390000000000128,1.109499999999997,0.6509999999999962,-1.1289999999999907,0.19250000000002387,-2.9424999999999955,-2.0730000000000075,0.5297499999999786,5.215000000000003,-2.945999999999998,-5.1924999999999955,0.16950000000001353,1.6785000000000139,1.5699999999999932,0.8529999999999944,0.48425000000000296,1.7264999999999873,0.6869999999999834,0.14249999999998408,-0.3439999999999941,0.4685000000000059,3.07950000000001,0.24524999999999864,-0.5200000000000102,-0.48099999999999454,-3.344999999999999,-2.217500000000001,1.7074999999999818,-0.902000000000001,-0.9549999999999983,-1.2065000000000055,0.7774999999999892,-1.292500000000004,-0.0975000000000108,-2.3999999999999773,4.547500000000014,1.4295000000000044,-1.5374999999999943,7.217500000000001,-5.140000000000001,-1.5374999999999943,1.0355000000000132,0.9225000000000136,-2.9549999999999983,1.569749999999999,5.242500000000007,-1.788499999999999,-1.0775000000000148,3.510000000000005,0.5210000000000008,5.39500000000001,2.4625000000000057,3.2269999999999897,-1.7574999999999648,-0.11750000000000682,-1.5475000000000136,1.4724999999999966,2.9605000000000103,1.2502500000000083,0.6722500000000053,4.9554999999999865,-2.615000000000009,-3.663499999999999,2.8175000000000097,-0.6550000000000011,1.8325000000000102,-2.4650000000000034,0.6350000000000193,-2.8100000000000023,-3.9200000000000017,0.8952500000000043,-0.9000000000000057,-2.4025000000000034,4.6684999999999945,0.6122499999999889,0.44299999999999784,2.0925000000000153,-1.296999999999997,-2.133499999999998,1.373500000000007,0.9699999999999989,0.7644999999999982,1.0917499999999905,-1.3474999999999966,1.690000000000012,1.1812500000000057,-0.8249999999999886,-2.200000000000003,-2.2675000000000125,0.9504999999999768,0.3149999999999977,-1.3600000000000136,1.1665000000000134,1.332499999999996,-0.5750000000000028,-1.5500000000000114,0.8149999999999835,-1.52024999999999,0.9657499999999999,3.3305000000000007,-1.5049999999999955,-0.5847499999999854,-4.8125,0.15999999999998238,0.5664999999999907,4.2949999999999875,9.130000000000024,1.7317500000000194,-1.886250000000004,-0.9954999999999927,0.2874999999999943,0.9124999999999943,1.3782499999999942,0.0,3.0300000000000153,0.9452500000000015,-2.2624999999999886,1.1609999999999872,7.610250000000022,8.367500000000021,2.910250000000005,-3.21250000000002,6.63000000000001,5.710000000000022,3.4625000000000057,3.339999999999989,0.7335000000000065,3.619499999999988,0.19750000000001933,-0.45624999999999716,2.2524999999999835,6.467500000000001,-0.9974999999999881,7.530000000000001,0.9585000000000008,-0.10675000000001944,8.980000000000004,-0.8725000000000307,-2.3274999999999864,1.2475000000000165,2.637500000000003,9.337499999999991,-2.807499999999976,1.3615000000000208,0.6275000000000119,1.3279999999999887,1.3000000000000114,2.0849999999999937,1.5889999999999844,-3.512500000000003,-1.4102499999999907,1.4092500000000001,8.227000000000032,-2.017499999999984,2.6850000000000023,-3.842500000000001,-1.6864999999999952,1.865000000000009,-0.019500000000022055,-2.3767500000000155,2.368000000000009,7.017250000000004,3.262500000000003,2.4784999999999826,3.417500000000004,4.767499999999984,3.185999999999993,-0.8812499999999943,-0.3725000000000023,0.038000000000010914,-0.6299999999999955,1.9575000000000102,0.030000000000001137,-2.26700000000001,2.727499999999992,1.0625000000000142,-5.0625,-3.857500000000016,2.8825000000000074,1.0649999999999977,4.892750000000007,0.32724999999999227,0.6472499999999997,2.0729999999999933,-2.9099999999999966,-2.509999999999991,-2.7724999999999795,2.909499999999994,1.765500000000003,-1.0674999999999955,0.5150000000000006,-0.9000000000000057,-0.6407499999999828,-3.1625000000000085,4.1650000000000205,-2.6574999999999847,-1.3875000000000028,3.8049999999999784,-5.480000000000004,4.437750000000008,0.3359999999999985,-6.492500000000007,0.664999999999992,0.8850000000000051,-0.12950000000000728,0.3900000000000148,1.7522499999999752,-4.299999999999983,-1.2057499999999948,1.1200000000000045,-3.7450000000000045,-2.6149999999999807,-1.8925000000000125,2.0179999999999865,0.15500000000000114,4.232499999999973,1.8097500000000366,1.2895000000000039,3.0855000000000103,-0.28000000000000114,0.9450000000000074,4.251500000000007,0.8245000000000005,1.5672500000000014,2.1525000000000176,6.517499999999984,-1.5974999999999966,1.5974999999999966,0.832499999999996,-1.098499999999973,-2.161750000000012,1.7700000000000102,3.599250000000012,1.6175000000000068,2.3345000000000056,0.0835000000000008,0.8075000000000045,-7.70750000000001,0.6830000000000069,-0.3509999999999849,1.347999999999999,-2.158999999999992,4.869250000000022,-1.2375000000000114,0.09749999999999659,2.5549999999999926,1.2775000000000034,-1.759999999999991,0.8872499999999945,-2.422499999999985,-1.167500000000004,-3.551000000000002,1.4417500000000132,0.3275000000000148,-0.8497500000000002,-2.4224999999999994,-0.9650000000000034,-1.3064999999999998,2.4652499999999975,3.0974999999999966,2.9890000000000043,2.285000000000011,0.1599999999999966,-3.6399999999999864,4.417500000000018,0.00899999999998613,2.592250000000007,-1.6864999999999952,1.2379999999999995,0.18250000000000455,1.9699999999999989,2.8200000000000216,0.5099999999999909,-3.5807499999999948,3.6625000000000085,0.3375000000000057,2.884999999999991,3.667500000000018,4.13000000000001,1.4884999999999877,-0.744749999999982,-2.192500000000024,7.155000000000001,2.0992499999999836,-4.702500000000015,-0.22000000000001307,-2.4225000000000136,3.1299999999999955,-0.14700000000000557,-3.852499999999992,7.016499999999979,5.992500000000007,-2.5649999999999977,1.2775000000000034,0.05150000000000432,-1.2299999999999898,-0.3024999999999949,-0.1110000000000042,1.4902500000000032,-0.006999999999990791,1.320999999999998,1.9662500000000023,1.339749999999981,6.454999999999998,2.150499999999994,0.8862500000000182,-0.060000000000002274,6.988499999999988,2.7949999999999875,6.333500000000015,0.4099999999999966,2.38600000000001,-0.7690000000000055,1.875,5.382499999999993,2.676249999999982,1.8199999999999932,6.757500000000007,4.717500000000001,-0.6825000000000045,-0.8532500000000027,-0.13999999999998636,1.302500000000009,-1.4074999999999989,10.024999999999991,-0.18000000000000682,0.34499999999999886,4.959999999999994,9.254999999999995,1.3525000000000063,2.5552499999999867,1.7860000000000014,8.972000000000023,-0.41499999999999204,2.3400000000000034,6.8799999999999955,-0.33925000000000693,-5.250000000000014,2.6825000000000045,-2.6850000000000023,1.3875000000000028,2.683000000000007,7.058249999999987,-0.8444999999999965,0.2225000000000108,0.5420000000000016,4.2250000000000085,-0.4722500000000309,-6.49499999999999,-0.06775000000001796,-0.8724999999999881,0.19350000000001444,0.2974999999999852,0.3644999999999925,3.0090000000000003,1.8360000000000127,-1.0324999999999989,1.142499999999984,-6.467500000000015,-0.03324999999999534,0.2230000000000132,4.013999999999996,0.9575000000000244,-3.440000000000012,-0.9050000000000011,-2.825000000000017,1.5394999999999897,4.3104999999999905,-0.9167499999999791,-1.990000000000009,-4.297499999999999,-3.261749999999978,3.554000000000002,6.659499999999994,0.7445000000000022,1.7275000000000063,-2.6970000000000027,-5.95750000000001,-2.444999999999993,3.6239999999999952,0.833500000000015,7.732500000000002,1.9925000000000068,0.7895000000000039,0.8249999999999886,2.1274999999999835,3.7150000000000034,-0.11750000000000682,-0.42900000000000205,-1.6599999999999966,-0.8502500000000026,2.0472499999999627,-0.36249999999999716,5.702500000000015,6.112500000000011,0.26924999999999955,4.381000000000014,-0.8549999999999898,9.517499999999984,-0.1077499999999958,-0.9124999999999943,0.9809999999999803,-2.0689999999999884,-3.1170000000000044,-2.7750000000000057,-1.0530000000000257,0.10250000000002046,0.037499999999994316,2.721999999999994,-2.219999999999999,-1.1552499999999952,2.4174999999999898,1.7392499999999984,0.0027500000000202363,4.670000000000002,-0.7249999999999943,-0.8839999999999861,-0.3719999999999999,2.0725000000000193,-2.2325000000000017,-3.0804999999999865,-1.8474999999999966,-3.407499999999999,-3.0474999999999994,-4.799999999999997,-5.46250000000002,-3.947499999999991,5.3700000000000045,3.230000000000004,5.784999999999982,0.7824999999999989,-0.4369999999999834,-2.1700000000000017,-3.5602500000000106,4.640000000000001,-0.06749999999999545,-2.042500000000018,1.069250000000011,2.970000000000013,1.0749999999999886,1.059500000000014,5.547499999999999,-0.8150000000000261,0.0875000000000199,-0.9599999999999795,-4.76724999999999,0.3124999999999716,-0.6574999999999989,-0.8875000000000028,3.187999999999988,-1.9174999999999898,6.297250000000005,2.4780000000000086,-0.11899999999998556,-0.9699999999999989,4.2524999999999835,-1.482500000000016,1.7275000000000205,2.079999999999984,-1.910000000000025,1.8250000000000028,-5.930000000000007,1.727499999999992,-3.7382499999999936,0.9352500000000106,-0.055999999999997385,0.9035000000000082,-2.634999999999991,-0.050249999999977035,-2.3200000000000074,2.950000000000017,0.15449999999998454,8.144999999999996,-1.3125,-3.269999999999982,0.5379999999999967,3.052499999999995,-1.1350000000000193,3.5589999999999975,0.37000000000000455,2.2692500000000138,3.3242500000000064,2.9650000000000034,-1.3992500000000092,-0.1524999999999892,1.1484999999999985,-1.6467499999999973,3.5875000000000057,2.7524999999999835,-0.3335000000000008,-2.0825000000000102,1.720000000000013,-0.22750000000000625,-0.19999999999998863,-1.3274999999999864,1.4650000000000034,0.02750000000000341,0.3849999999999909,-1.538000000000011,0.8672499999999985,-1.1975000000000051,-1.6825000000000045,-6.165750000000003,3.344500000000025,0.16474999999999795,-2.0849999999999795,2.1950000000000074,0.8845000000000027,-2.136499999999998,0.6149999999999949,3.511250000000018,-2.186000000000007,1.6332500000000039,-1.597500000000025,4.047499999999985,0.6652500000000146,3.6300000000000097,-5.660000000000011,3.187499999999986,-0.05850000000000932,4.217499999999987,-2.8599999999999994,7.689750000000018,-4.112500000000026,3.437500000000014,-2.171999999999997,-2.8149999999999977,0.22050000000000125,-1.2139999999999986,-1.1610000000000014,-1.3275000000000148,2.768999999999977,0.15250000000001762,0.3650000000000091,-2.594999999999999,-1.767499999999984,4.799999999999997,-1.1474999999999795,0.38999999999998636,3.3700000000000045,0.8424999999999869,-6.402500000000003,2.2750000000000057,1.083999999999989,1.0535000000000139,0.8722500000000082,1.4795000000000016,0.45524999999997817,-1.0300000000000011,-2.089999999999989,1.5232499999999902,8.40249999999999,1.371499999999969,0.7914999999999992,1.5294999999999987,6.965500000000006,8.045749999999998,1.1514999999999844,1.9472500000000252,2.741500000000002,1.2924999999999898,-0.35249999999999204,2.4294999999999902,1.8700000000000045,-4.432499999999976,0.08150000000000546,1.1927500000000038,-1.1450000000000102,-1.343500000000006,-2.359999999999985,0.6000000000000085,-1.9452500000000157,5.329999999999998,0.7409999999999854,-2.467499999999987,3.4424999999999955,8.536000000000016,2.8605000000000302,-3.230000000000004,3.7975000000000136,-3.1274999999999977,-2.7210000000000036,2.474500000000006,1.3965000000000032,3.3255000000000052,-2.1755000000000138,2.660000000000025,-3.377500000000012,4.212250000000012,1.9125000000000085,0.10224999999999795,-0.38999999999998636,1.5175000000000125,-1.277499999999975,-0.7992500000000007,0.18999999999999773,0.7675000000000125,0.6299999999999955,2.067999999999998,-0.18249999999999034,5.167500000000004,-2.5374999999999943,0.16849999999998033,-2.177499999999995,-0.4724999999999966,-5.925999999999988,-3.305000000000007,4.612500000000011,1.8102499999999964,-0.6924999999999955,-0.816749999999999,0.003999999999990678,-0.3374999999999915,2.7489999999999952,0.6645000000000039,1.5575000000000045,0.9249999999999972,-0.7349999999999994,0.45999999999997954,-1.8500000000000227,1.8349999999999937,4.135000000000005,1.609499999999997,-0.2150000000000034,-1.035000000000025,-1.4724999999999966,-3.102499999999992,2.1724999999999994,4.978499999999983,8.385000000000005,-9.944999999999993,0.06525000000002024,-0.9849999999999852,2.237499999999997,1.4629999999999939,-3.906000000000006,-1.9227500000000077,-1.852499999999992,6.382499999999979,-0.14475000000000193,-0.9474999999999909,-0.07750000000001478,-2.5250000000000057,4.66725000000001,1.3247500000000088,0.8812500000000085,1.9924999999999784,-2.605249999999984,2.6049999999999898,-3.7849999999999966,-2.6414999999999935,-3.5649999999999693,-1.3200000000000074,-2.7424999999999926,-1.5949999999999704,1.8022500000000008,-1.927500000000009,-13.179999999999978,-1.3550000000000182,1.822499999999991]}},\"id\":\"ce3381f0-1dfe-4905-9864-45ffec0dcb2a\",\"type\":\"ColumnDataSource\"},{\"attributes\":{\"plot\":{\"id\":\"0f225437-5430-4edd-a295-7c2af9fb7e1f\",\"subtype\":\"Figure\",\"type\":\"Plot\"}},\"id\":\"c4f0ee3a-16d9-4555-90db-43269ceda5cf\",\"type\":\"PanTool\"},{\"attributes\":{\"overlay\":{\"id\":\"d3fb1e0a-8fa2-45f5-bde2-3838b50822ca\",\"type\":\"BoxAnnotation\"},\"plot\":{\"id\":\"0f225437-5430-4edd-a295-7c2af9fb7e1f\",\"subtype\":\"Figure\",\"type\":\"Plot\"}},\"id\":\"ab7d7666-a3fa-4d26-acf0-e95cb9555ae1\",\"type\":\"BoxZoomTool\"},{\"attributes\":{\"bottom_units\":\"screen\",\"fill_alpha\":{\"value\":0.5},\"fill_color\":{\"value\":\"lightgrey\"},\"left_units\":\"screen\",\"level\":\"overlay\",\"line_alpha\":{\"value\":1.0},\"line_color\":{\"value\":\"black\"},\"line_dash\":[4,4],\"line_width\":{\"value\":2},\"plot\":null,\"render_mode\":\"css\",\"right_units\":\"screen\",\"top_units\":\"screen\"},\"id\":\"d3fb1e0a-8fa2-45f5-bde2-3838b50822ca\",\"type\":\"BoxAnnotation\"},{\"attributes\":{\"plot\":{\"id\":\"0f225437-5430-4edd-a295-7c2af9fb7e1f\",\"subtype\":\"Figure\",\"type\":\"Plot\"}},\"id\":\"a6938743-d13f-4d5b-af04-55d59492c30e\",\"type\":\"ResizeTool\"},{\"attributes\":{\"plot\":{\"id\":\"0f225437-5430-4edd-a295-7c2af9fb7e1f\",\"subtype\":\"Figure\",\"type\":\"Plot\"}},\"id\":\"e7ee8d2a-3c63-4238-af87-39d755a87f70\",\"type\":\"WheelZoomTool\"},{\"attributes\":{\"callback\":null,\"overlay\":{\"id\":\"5b8732d4-f3ce-4ec6-bbf1-a422d15032d2\",\"type\":\"BoxAnnotation\"},\"plot\":{\"id\":\"0f225437-5430-4edd-a295-7c2af9fb7e1f\",\"subtype\":\"Figure\",\"type\":\"Plot\"},\"renderers\":[{\"id\":\"7ecafd3b-7cc9-4560-8829-cfa1a6fc8518\",\"type\":\"GlyphRenderer\"}]},\"id\":\"aca9a33e-0f0a-44fa-993d-81a1085668ce\",\"type\":\"BoxSelectTool\"},{\"attributes\":{\"plot\":{\"id\":\"0f225437-5430-4edd-a295-7c2af9fb7e1f\",\"subtype\":\"Figure\",\"type\":\"Plot\"},\"ticker\":{\"id\":\"70d0cee4-5661-490b-af04-4bc4bdd882fa\",\"type\":\"BasicTicker\"}},\"id\":\"d86d9d21-6fdc-41cf-9c32-11aa1368ec72\",\"type\":\"Grid\"},{\"attributes\":{\"background_fill_alpha\":{\"value\":0.5},\"background_fill_color\":{\"value\":\"beige\"},\"below\":[{\"id\":\"ff29f99b-cf8b-496b-8c5e-56af48d8a19f\",\"type\":\"LinearAxis\"}],\"left\":[{\"id\":\"13574d03-027f-4d76-958e-93b07ab79fc7\",\"type\":\"LinearAxis\"}],\"plot_height\":500,\"plot_width\":500,\"renderers\":[{\"id\":\"ff29f99b-cf8b-496b-8c5e-56af48d8a19f\",\"type\":\"LinearAxis\"},{\"id\":\"d86d9d21-6fdc-41cf-9c32-11aa1368ec72\",\"type\":\"Grid\"},{\"id\":\"13574d03-027f-4d76-958e-93b07ab79fc7\",\"type\":\"LinearAxis\"},{\"id\":\"d21c205f-307a-46aa-91fb-356b05d547df\",\"type\":\"Grid\"},{\"id\":\"d3fb1e0a-8fa2-45f5-bde2-3838b50822ca\",\"type\":\"BoxAnnotation\"},{\"id\":\"5b8732d4-f3ce-4ec6-bbf1-a422d15032d2\",\"type\":\"BoxAnnotation\"},{\"id\":\"7b8495a8-aedb-4bd4-81bd-10cca1ac9063\",\"type\":\"PolyAnnotation\"},{\"id\":\"aae95df1-78eb-4a0c-932b-f549da56daa5\",\"type\":\"PolyAnnotation\"},{\"id\":\"7ecafd3b-7cc9-4560-8829-cfa1a6fc8518\",\"type\":\"GlyphRenderer\"}],\"title\":{\"id\":\"6e27b27e-8b2b-4e26-84cb-87284a5c5a40\",\"type\":\"Title\"},\"tool_events\":{\"id\":\"c0de2bb7-28be-4286-8a0f-02520f84fd39\",\"type\":\"ToolEvents\"},\"toolbar\":{\"id\":\"ae655cfe-11b1-4432-96bd-b86ca1352a0d\",\"type\":\"Toolbar\"},\"x_range\":{\"id\":\"86b12ed0-38e6-44aa-a6d1-906fbb8300ea\",\"type\":\"DataRange1d\"},\"y_range\":{\"id\":\"429e315b-63c7-4e3a-ac28-24e553ed6ba0\",\"type\":\"DataRange1d\"}},\"id\":\"0f225437-5430-4edd-a295-7c2af9fb7e1f\",\"subtype\":\"Figure\",\"type\":\"Plot\"},{\"attributes\":{},\"id\":\"99453a1a-9bf5-447f-976d-5062ec2f6a60\",\"type\":\"BasicTicker\"},{\"attributes\":{\"dimension\":1,\"plot\":{\"id\":\"0f225437-5430-4edd-a295-7c2af9fb7e1f\",\"subtype\":\"Figure\",\"type\":\"Plot\"},\"ticker\":{\"id\":\"99453a1a-9bf5-447f-976d-5062ec2f6a60\",\"type\":\"BasicTicker\"}},\"id\":\"d21c205f-307a-46aa-91fb-356b05d547df\",\"type\":\"Grid\"},{\"attributes\":{\"plot\":{\"id\":\"0f225437-5430-4edd-a295-7c2af9fb7e1f\",\"subtype\":\"Figure\",\"type\":\"Plot\"}},\"id\":\"b4ea5a52-b617-4e72-b936-658b43654bb9\",\"type\":\"SaveTool\"},{\"attributes\":{\"fill_color\":{\"value\":\"#80B1D3\"},\"line_color\":{\"value\":\"#80B1D3\"},\"line_width\":{\"value\":3},\"x\":{\"field\":\"x\"},\"y\":{\"field\":\"y\"}},\"id\":\"8a2e381b-1d4d-4e53-af04-4885dc581f4c\",\"type\":\"Circle\"},{\"attributes\":{\"fill_alpha\":{\"value\":0.5},\"fill_color\":{\"value\":\"lightgrey\"},\"level\":\"overlay\",\"line_alpha\":{\"value\":1.0},\"line_color\":{\"value\":\"black\"},\"line_dash\":[4,4],\"line_width\":{\"value\":2},\"plot\":null,\"xs_units\":\"screen\",\"ys_units\":\"screen\"},\"id\":\"aae95df1-78eb-4a0c-932b-f549da56daa5\",\"type\":\"PolyAnnotation\"},{\"attributes\":{},\"id\":\"cccc9671-439c-4e4b-8a15-6f423799ca23\",\"type\":\"BasicTickFormatter\"},{\"attributes\":{\"fill_alpha\":{\"value\":0.1},\"fill_color\":{\"value\":\"#1f77b4\"},\"line_alpha\":{\"value\":0.1},\"line_color\":{\"value\":\"#1f77b4\"},\"line_width\":{\"value\":3},\"x\":{\"field\":\"x\"},\"y\":{\"field\":\"y\"}},\"id\":\"227ce502-6bfb-416e-8ed9-2887fa9263a3\",\"type\":\"Circle\"},{\"attributes\":{\"callback\":null},\"id\":\"429e315b-63c7-4e3a-ac28-24e553ed6ba0\",\"type\":\"DataRange1d\"}],\"root_ids\":[\"0f225437-5430-4edd-a295-7c2af9fb7e1f\"]},\"title\":\"Bokeh Application\",\"version\":\"0.12.2\"}};\n",
       "            var render_items = [{\"docid\":\"f374d7c6-2b53-485d-97ba-85ec968d44b8\",\"elementid\":\"e295be4e-7d40-4fc7-b383-a7a4fc802a5b\",\"modelid\":\"0f225437-5430-4edd-a295-7c2af9fb7e1f\"}];\n",
       "            \n",
       "            Bokeh.embed.embed_items(docs_json, render_items);\n",
       "        });\n",
       "      },\n",
       "      function(Bokeh) {\n",
       "      }\n",
       "    ];\n",
       "  \n",
       "    function run_inline_js() {\n",
       "      \n",
       "      if ((window.Bokeh !== undefined) || (force === \"1\")) {\n",
       "        for (var i = 0; i < inline_js.length; i++) {\n",
       "          inline_js[i](window.Bokeh);\n",
       "        }if (force === \"1\") {\n",
       "          display_loaded();\n",
       "        }} else if (Date.now() < window._bokeh_timeout) {\n",
       "        setTimeout(run_inline_js, 100);\n",
       "      } else if (!window._bokeh_failed_load) {\n",
       "        console.log(\"Bokeh: BokehJS failed to load within specified timeout.\");\n",
       "        window._bokeh_failed_load = true;\n",
       "      } else if (!force) {\n",
       "        var cell = $(\"#e295be4e-7d40-4fc7-b383-a7a4fc802a5b\").parents('.cell').data().cell;\n",
       "        cell.output_area.append_execute_result(NB_LOAD_WARNING)\n",
       "      }\n",
       "  \n",
       "    }\n",
       "  \n",
       "    if (window._bokeh_is_loading === 0) {\n",
       "      console.log(\"Bokeh: BokehJS loaded, going straight to plotting\");\n",
       "      run_inline_js();\n",
       "    } else {\n",
       "      load_libs(js_urls, function() {\n",
       "        console.log(\"Bokeh: BokehJS plotting callback run at\", now());\n",
       "        run_inline_js();\n",
       "      });\n",
       "    }\n",
       "  }(this));\n",
       "</script>"
      ]
     },
     "metadata": {},
     "output_type": "display_data"
    }
   ],
   "source": [
    "# Plotining using bokeh\n",
    "#TOOLS = 'hover,box_zoom,box_select,crosshair,resize,reset,KNeighborsRegressor_select,pan,save,poly_select,tap,wheel_zoom,undo'\n",
    "TOOLS = 'box_zoom,box_select,crosshair,resize,reset,lasso_select,pan,save,poly_select,tap,wheel_zoom,undo'\n",
    "p = figure(plot_width=500, plot_height=500, title=\"Residual plot on the training data\", tools=TOOLS)\n",
    "p.scatter(predicted, (predicted - Y),x=\"jjj\", marker=\"o\", color=\"#80B1D3\", line_width=3)\n",
    "p.title.align = \"center\"\n",
    "p.xaxis.axis_label = \"Predicted\"\n",
    "p.xaxis.axis_label_text_color = \"#aa6666\"\n",
    "#p.xaxis.axis_label_standoff = 30\n",
    "p.xaxis.major_tick_line_color = \"firebrick\"\n",
    "p.xaxis.major_tick_line_width = 3\n",
    "p.xaxis.minor_tick_line_color = \"orange\"\n",
    "p.yaxis.axis_label = \"Residuals\"\n",
    "p.yaxis.axis_label_text_font_style = \"italic\"\n",
    "p.yaxis.axis_label_text_color = \"#aa6666\"\n",
    "p.background_fill_color = \"beige\"\n",
    "p.background_fill_alpha = 0.5\n",
    "#p.line([2,38], [0, 0], line_dash=\"4 4\", line_width=2, color='red')\n",
    "show(p)"
   ]
  },
  {
   "cell_type": "markdown",
   "metadata": {},
   "source": [
    "## Pipeline"
   ]
  },
  {
   "cell_type": "markdown",
   "metadata": {},
   "source": [
    "The best to deliver the model by pipeline the operation then at deployment can be done in one model."
   ]
  },
  {
   "cell_type": "markdown",
   "metadata": {
    "collapsed": true
   },
   "source": [
    "  I used two ways to check the pipeline so any one can be fine"
   ]
  },
  {
   "cell_type": "code",
   "execution_count": 26,
   "metadata": {
    "collapsed": false
   },
   "outputs": [
    {
     "name": "stdout",
     "output_type": "stream",
     "text": [
      "0.915983866955\n",
      "Scoring according to mean_squared_error\n",
      "[ -9.50178587 -10.39600182  -9.84137715  -8.46461617 -10.64384185\n",
      " -10.03650951  -7.47365362 -11.80679787  -8.2930318  -10.51607804]\n",
      "\n",
      " Mean      Standard deviation\n",
      "-9.70      1.23\n",
      "[ True  True  True  True  True]\n",
      "R-squared =  0.915983866955\n"
     ]
    }
   ],
   "source": [
    "# Use Pipeline\n",
    "# ANOVA \n",
    "from sklearn.pipeline import Pipeline\n",
    "from sklearn.feature_selection import SelectKBest, f_regression\n",
    "anova_filter = SelectKBest(f_regression, k=5)\n",
    "LR = KNeighborsRegressor(n_neighbors = 4, algorithm = 'kd_tree')\n",
    "anova_LinReg = Pipeline([('scaler_Input',scaler), ('anova', anova_filter), ('LinReg', LR)])\n",
    "# You can set the parameters using the names issued\n",
    "# For instance, fit using a k of 10 in the SelectKBest\n",
    "anova_LinReg.set_params(anova__k=5).fit(new_data, Y)\n",
    "prediction = anova_LinReg.predict(new_data)\n",
    "print anova_LinReg.score(new_data, Y)                        \n",
    "# getting the selected features chosen by anova_filter\n",
    "results = cross_validation.cross_val_score(anova_LinReg, new_data, Y, cv=kfold, scoring=scoring)\n",
    "print 'Scoring according to mean_squared_error'\n",
    "print results\n",
    "print '\\n Mean      Standard deviation'\n",
    "print(\"%.2f      %.2f\" % (results.mean(), results.std()))\n",
    "print anova_LinReg.named_steps['anova'].get_support()\n",
    "r_squared = r2_score(Y, prediction, multioutput='variance_weighted')\n",
    "print 'R-squared = ',r_squared"
   ]
  },
  {
   "cell_type": "code",
   "execution_count": 27,
   "metadata": {
    "collapsed": false
   },
   "outputs": [
    {
     "name": "stdout",
     "output_type": "stream",
     "text": [
      "R-squared =  0.915983866955\n"
     ]
    }
   ],
   "source": [
    "# Using make_pipeline\n",
    "from sklearn.pipeline import make_pipeline\n",
    "\n",
    "# ANOVA SVM-C\n",
    "# 1) anova filter, take 3 best ranked features\n",
    "anova_filter = SelectKBest(f_regression, k=5)\n",
    "anova_KNeighborsRegressor = make_pipeline(scaler, anova_filter, LR)\n",
    "anova_KNeighborsRegressor.fit(new_data, Y)\n",
    "prediction = anova_KNeighborsRegressor.predict(new_data)\n",
    "r_squared = r2_score(Y, prediction, multioutput='variance_weighted')\n",
    "print 'R-squared = ',r_squared"
   ]
  },
  {
   "cell_type": "markdown",
   "metadata": {},
   "source": [
    "### Save the Pipeline model for developement"
   ]
  },
  {
   "cell_type": "code",
   "execution_count": 28,
   "metadata": {
    "collapsed": false
   },
   "outputs": [
    {
     "data": {
      "text/plain": [
       "['anova_KNeighborsRegressor.pkl',\n",
       " 'anova_KNeighborsRegressor.pkl_01.npy',\n",
       " 'anova_KNeighborsRegressor.pkl_02.npy',\n",
       " 'anova_KNeighborsRegressor.pkl_03.npy',\n",
       " 'anova_KNeighborsRegressor.pkl_04.npy',\n",
       " 'anova_KNeighborsRegressor.pkl_05.npy',\n",
       " 'anova_KNeighborsRegressor.pkl_06.npy',\n",
       " 'anova_KNeighborsRegressor.pkl_07.npy',\n",
       " 'anova_KNeighborsRegressor.pkl_08.npy',\n",
       " 'anova_KNeighborsRegressor.pkl_09.npy',\n",
       " 'anova_KNeighborsRegressor.pkl_10.npy',\n",
       " 'anova_KNeighborsRegressor.pkl_11.npy',\n",
       " 'anova_KNeighborsRegressor.pkl_12.npy',\n",
       " 'anova_KNeighborsRegressor.pkl_13.npy']"
      ]
     },
     "execution_count": 28,
     "metadata": {},
     "output_type": "execute_result"
    }
   ],
   "source": [
    "# save the model scaler to the desk\n",
    "from sklearn.externals import joblib\n",
    "joblib.dump(anova_KNeighborsRegressor, 'anova_KNeighborsRegressor.pkl') "
   ]
  },
  {
   "cell_type": "code",
   "execution_count": 29,
   "metadata": {
    "collapsed": false
   },
   "outputs": [
    {
     "name": "stdout",
     "output_type": "stream",
     "text": [
      " =================================================================>>>>> done\n",
      "R-squared =  0.915983866955\n"
     ]
    }
   ],
   "source": [
    "# Test the model if it is work\n",
    "anova_KNeighborsRegressorTest = joblib.load('anova_KNeighborsRegressor.pkl')\n",
    "NewPred = anova_KNeighborsRegressorTest.predict(new_data)\n",
    "print \" =================================================================>>>>> done\"\n",
    "r_squared = r2_score(Y, NewPred, multioutput='variance_weighted')\n",
    "print 'R-squared = ',r_squared"
   ]
  },
  {
   "cell_type": "code",
   "execution_count": 30,
   "metadata": {
    "collapsed": false
   },
   "outputs": [
    {
     "name": "stdout",
     "output_type": "stream",
     "text": [
      "Point of training data before normalization\n",
      "[  1.00000000e+03   2.70000000e+00   1.52400000e-01   7.13000000e+01\n",
      "   2.43851000e-03]\n",
      "\n",
      "The read target of the data =  128.774\n",
      "\n",
      "The Predicted target of the data =  [ 129.239]\n"
     ]
    }
   ],
   "source": [
    "# test on single data point, randomly choose point number 55\n",
    "print 'Point of training data before normalization\\n',new_data[55]\n",
    "print '\\nThe read target of the data = ', Y[55]\n",
    "NewPred = anova_KNeighborsRegressorTest.predict([new_data[55]])\n",
    "print '\\nThe Predicted target of the data = ', NewPred"
   ]
  },
  {
   "cell_type": "markdown",
   "metadata": {},
   "source": [
    "## Conclusion "
   ]
  }
 ],
 "metadata": {
  "kernelspec": {
   "display_name": "Python 2",
   "language": "python",
   "name": "python2"
  },
  "language_info": {
   "codemirror_mode": {
    "name": "ipython",
    "version": 2
   },
   "file_extension": ".py",
   "mimetype": "text/x-python",
   "name": "python",
   "nbconvert_exporter": "python",
   "pygments_lexer": "ipython2",
   "version": "2.7.12"
  }
 },
 "nbformat": 4,
 "nbformat_minor": 0
}
