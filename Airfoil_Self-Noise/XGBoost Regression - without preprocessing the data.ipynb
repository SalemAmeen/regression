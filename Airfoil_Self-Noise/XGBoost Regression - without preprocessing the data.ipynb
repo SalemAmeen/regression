{
 "cells": [
  {
   "cell_type": "markdown",
   "metadata": {},
   "source": [
    "Salem Ameen, PhD student at Salford University\n",
    "\n",
    "### Airfoil Self-Noise price\n",
    "\n",
    "Decision trees Regression"
   ]
  },
  {
   "cell_type": "markdown",
   "metadata": {},
   "source": [
    "# Import the Libraries"
   ]
  },
  {
   "cell_type": "code",
   "execution_count": 1,
   "metadata": {
    "collapsed": false
   },
   "outputs": [
    {
     "data": {
      "text/html": [
       "\n",
       "    <div class=\"bk-root\">\n",
       "        <a href=\"http://bokeh.pydata.org\" target=\"_blank\" class=\"bk-logo bk-logo-small bk-logo-notebook\"></a>\n",
       "        <span id=\"f44dc71a-f17a-4e97-8f6a-325474e0e309\">Loading BokehJS ...</span>\n",
       "    </div>"
      ]
     },
     "metadata": {},
     "output_type": "display_data"
    },
    {
     "data": {
      "application/javascript": [
       "\n",
       "(function(global) {\n",
       "  function now() {\n",
       "    return new Date();\n",
       "  }\n",
       "\n",
       "  var force = \"1\";\n",
       "\n",
       "  if (typeof (window._bokeh_onload_callbacks) === \"undefined\" || force !== \"\") {\n",
       "    window._bokeh_onload_callbacks = [];\n",
       "    window._bokeh_is_loading = undefined;\n",
       "  }\n",
       "\n",
       "\n",
       "  \n",
       "  if (typeof (window._bokeh_timeout) === \"undefined\" || force !== \"\") {\n",
       "    window._bokeh_timeout = Date.now() + 5000;\n",
       "    window._bokeh_failed_load = false;\n",
       "  }\n",
       "\n",
       "  var NB_LOAD_WARNING = {'data': {'text/html':\n",
       "     \"<div style='background-color: #fdd'>\\n\"+\n",
       "     \"<p>\\n\"+\n",
       "     \"BokehJS does not appear to have successfully loaded. If loading BokehJS from CDN, this \\n\"+\n",
       "     \"may be due to a slow or bad network connection. Possible fixes:\\n\"+\n",
       "     \"</p>\\n\"+\n",
       "     \"<ul>\\n\"+\n",
       "     \"<li>re-rerun `output_notebook()` to attempt to load from CDN again, or</li>\\n\"+\n",
       "     \"<li>use INLINE resources instead, as so:</li>\\n\"+\n",
       "     \"</ul>\\n\"+\n",
       "     \"<code>\\n\"+\n",
       "     \"from bokeh.resources import INLINE\\n\"+\n",
       "     \"output_notebook(resources=INLINE)\\n\"+\n",
       "     \"</code>\\n\"+\n",
       "     \"</div>\"}};\n",
       "\n",
       "  function display_loaded() {\n",
       "    if (window.Bokeh !== undefined) {\n",
       "      Bokeh.$(\"#f44dc71a-f17a-4e97-8f6a-325474e0e309\").text(\"BokehJS successfully loaded.\");\n",
       "    } else if (Date.now() < window._bokeh_timeout) {\n",
       "      setTimeout(display_loaded, 100)\n",
       "    }\n",
       "  }\n",
       "\n",
       "  function run_callbacks() {\n",
       "    window._bokeh_onload_callbacks.forEach(function(callback) { callback() });\n",
       "    delete window._bokeh_onload_callbacks\n",
       "    console.info(\"Bokeh: all callbacks have finished\");\n",
       "  }\n",
       "\n",
       "  function load_libs(js_urls, callback) {\n",
       "    window._bokeh_onload_callbacks.push(callback);\n",
       "    if (window._bokeh_is_loading > 0) {\n",
       "      console.log(\"Bokeh: BokehJS is being loaded, scheduling callback at\", now());\n",
       "      return null;\n",
       "    }\n",
       "    if (js_urls == null || js_urls.length === 0) {\n",
       "      run_callbacks();\n",
       "      return null;\n",
       "    }\n",
       "    console.log(\"Bokeh: BokehJS not loaded, scheduling load and callback at\", now());\n",
       "    window._bokeh_is_loading = js_urls.length;\n",
       "    for (var i = 0; i < js_urls.length; i++) {\n",
       "      var url = js_urls[i];\n",
       "      var s = document.createElement('script');\n",
       "      s.src = url;\n",
       "      s.async = false;\n",
       "      s.onreadystatechange = s.onload = function() {\n",
       "        window._bokeh_is_loading--;\n",
       "        if (window._bokeh_is_loading === 0) {\n",
       "          console.log(\"Bokeh: all BokehJS libraries loaded\");\n",
       "          run_callbacks()\n",
       "        }\n",
       "      };\n",
       "      s.onerror = function() {\n",
       "        console.warn(\"failed to load library \" + url);\n",
       "      };\n",
       "      console.log(\"Bokeh: injecting script tag for BokehJS library: \", url);\n",
       "      document.getElementsByTagName(\"head\")[0].appendChild(s);\n",
       "    }\n",
       "  };var element = document.getElementById(\"f44dc71a-f17a-4e97-8f6a-325474e0e309\");\n",
       "  if (element == null) {\n",
       "    console.log(\"Bokeh: ERROR: autoload.js configured with elementid 'f44dc71a-f17a-4e97-8f6a-325474e0e309' but no matching script tag was found. \")\n",
       "    return false;\n",
       "  }\n",
       "\n",
       "  var js_urls = ['https://cdn.pydata.org/bokeh/release/bokeh-0.12.2.min.js', 'https://cdn.pydata.org/bokeh/release/bokeh-widgets-0.12.2.min.js', 'https://cdn.pydata.org/bokeh/release/bokeh-compiler-0.12.2.min.js'];\n",
       "\n",
       "  var inline_js = [\n",
       "    function(Bokeh) {\n",
       "      Bokeh.set_log_level(\"info\");\n",
       "    },\n",
       "    \n",
       "    function(Bokeh) {\n",
       "      \n",
       "      Bokeh.$(\"#f44dc71a-f17a-4e97-8f6a-325474e0e309\").text(\"BokehJS is loading...\");\n",
       "    },\n",
       "    function(Bokeh) {\n",
       "      console.log(\"Bokeh: injecting CSS: https://cdn.pydata.org/bokeh/release/bokeh-0.12.2.min.css\");\n",
       "      Bokeh.embed.inject_css(\"https://cdn.pydata.org/bokeh/release/bokeh-0.12.2.min.css\");\n",
       "      console.log(\"Bokeh: injecting CSS: https://cdn.pydata.org/bokeh/release/bokeh-widgets-0.12.2.min.css\");\n",
       "      Bokeh.embed.inject_css(\"https://cdn.pydata.org/bokeh/release/bokeh-widgets-0.12.2.min.css\");\n",
       "    }\n",
       "  ];\n",
       "\n",
       "  function run_inline_js() {\n",
       "    \n",
       "    if ((window.Bokeh !== undefined) || (force === \"1\")) {\n",
       "      for (var i = 0; i < inline_js.length; i++) {\n",
       "        inline_js[i](window.Bokeh);\n",
       "      }if (force === \"1\") {\n",
       "        display_loaded();\n",
       "      }} else if (Date.now() < window._bokeh_timeout) {\n",
       "      setTimeout(run_inline_js, 100);\n",
       "    } else if (!window._bokeh_failed_load) {\n",
       "      console.log(\"Bokeh: BokehJS failed to load within specified timeout.\");\n",
       "      window._bokeh_failed_load = true;\n",
       "    } else if (!force) {\n",
       "      var cell = $(\"#f44dc71a-f17a-4e97-8f6a-325474e0e309\").parents('.cell').data().cell;\n",
       "      cell.output_area.append_execute_result(NB_LOAD_WARNING)\n",
       "    }\n",
       "\n",
       "  }\n",
       "\n",
       "  if (window._bokeh_is_loading === 0) {\n",
       "    console.log(\"Bokeh: BokehJS loaded, going straight to plotting\");\n",
       "    run_inline_js();\n",
       "  } else {\n",
       "    load_libs(js_urls, function() {\n",
       "      console.log(\"Bokeh: BokehJS plotting callback run at\", now());\n",
       "      run_inline_js();\n",
       "    });\n",
       "  }\n",
       "}(this));"
      ]
     },
     "metadata": {},
     "output_type": "display_data"
    }
   ],
   "source": [
    "import numpy as np\n",
    "import pandas\n",
    "from numpy import *\n",
    "import time\n",
    "import sys\n",
    "import pandas as pd\n",
    "import matplotlib.pyplot as plt\n",
    "from sklearn import feature_selection\n",
    "import xgboost\n",
    "from sklearn.learning_curve import learning_curve, validation_curve\n",
    "from sklearn.cross_validation import cross_val_predict\n",
    "from sklearn import metrics, grid_search, cross_validation\n",
    "from IPython.display import set_matplotlib_formats\n",
    "from bokeh.plotting import figure, show, output_notebook\n",
    "from sklearn.grid_search import GridSearchCV, RandomizedSearchCV\n",
    "from sklearn.metrics import r2_score\n",
    "from bokeh.layouts import gridplot\n",
    "output_notebook()\n",
    "set_matplotlib_formats('png', 'pdf')\n",
    "%matplotlib inline\n",
    "plt.rcParams['figure.figsize'] = (6, 6)"
   ]
  },
  {
   "cell_type": "markdown",
   "metadata": {},
   "source": [
    "# Load data"
   ]
  },
  {
   "cell_type": "markdown",
   "metadata": {},
   "source": [
    "In the previous file we have not change the data as there is no missing value or add any new parameters so it can be downloaded from the web directly. "
   ]
  },
  {
   "cell_type": "code",
   "execution_count": 2,
   "metadata": {
    "collapsed": false
   },
   "outputs": [
    {
     "name": "stdout",
     "output_type": "stream",
     "text": [
      "Number of examples 1503\n"
     ]
    }
   ],
   "source": [
    "url = 'http://archive.ics.uci.edu/ml/machine-learning-databases/00291/airfoil_self_noise.dat'\n",
    "names = ['Frequency', 'Angle', 'Chord', 'Free_stream', 'Suction', 'pressure']\n",
    "feature_names = names\n",
    "feature_cols = names\n",
    "data = pd.read_csv(url, sep='\\s+', names = names)\n",
    "\n",
    "from sklearn import preprocessing\n",
    "dataset = data.values\n",
    "X = dataset[:,0:5].astype(float)\n",
    "Y = dataset[:,5]\n",
    "print 'Number of examples',len(X)"
   ]
  },
  {
   "cell_type": "code",
   "execution_count": 3,
   "metadata": {
    "collapsed": false
   },
   "outputs": [
    {
     "name": "stdout",
     "output_type": "stream",
     "text": [
      "Number of training examples 1202\n",
      "Number of validation examples 301\n"
     ]
    }
   ],
   "source": [
    "# Make developement dataset for genrilization and final testing\n",
    "from sklearn.cross_validation import train_test_split\n",
    "# Extracting 20% testing data\n",
    "X_train, X_test, y_train, y_test = train_test_split(\n",
    "    X, Y, test_size=0.20, random_state=0)\n",
    "X = X_train\n",
    "Y = y_train\n",
    "new_data      = X_train\n",
    "new_test_data = X_test\n",
    "print 'Number of training examples',len(X_train)\n",
    "print 'Number of validation examples',len(X_test)"
   ]
  },
  {
   "cell_type": "markdown",
   "metadata": {},
   "source": [
    "Number of training data is very small so we need to use cross validation instead of spareate another validation data."
   ]
  },
  {
   "cell_type": "markdown",
   "metadata": {},
   "source": [
    "From the previous visulization the data has no missing value but has many outlier and some sparisty"
   ]
  },
  {
   "cell_type": "markdown",
   "metadata": {},
   "source": [
    "# Ranking of the feature's importance to the target"
   ]
  },
  {
   "cell_type": "code",
   "execution_count": 4,
   "metadata": {
    "collapsed": false
   },
   "outputs": [
    {
     "name": "stdout",
     "output_type": "stream",
     "text": [
      "Feature Name      Score         Pvalue\n",
      "Frequency \t\t270.416272463 \t5.36177705642e-56\n",
      "Angle \t\t37.4923835551 \t1.16954827306e-09\n",
      "Chord \t\t88.6588675485 \t1.70142015337e-20\n",
      "Free_stream \t\t23.8652245755 \t1.1437427443e-06\n",
      "Suction \t\t162.641263457 \t1.92478295603e-35\n",
      "pressure \t\tinf \t0.0\n"
     ]
    }
   ],
   "source": [
    "# Randing the important features to the target\n",
    "import xgboost\n",
    "model = xgboost.XGBRegressor()\n",
    "model = feature_selection.SelectKBest(score_func=feature_selection.f_regression,k=4)\n",
    "results = model.fit(data[feature_cols], data['pressure'])\n",
    "k=0\n",
    "print 'Feature Name      Score         Pvalue'\n",
    "for feat in feature_cols:\n",
    "    print feat,'\\t\\t',results.scores_[k],'\\t',results.pvalues_[k]\n",
    "    k=k+1\n"
   ]
  },
  {
   "cell_type": "markdown",
   "metadata": {},
   "source": [
    "# Set the parameters for cross validation"
   ]
  },
  {
   "cell_type": "code",
   "execution_count": 5,
   "metadata": {
    "collapsed": true
   },
   "outputs": [],
   "source": [
    "num_folds = 10\n",
    "num_instances = len(X)\n",
    "seed = 7\n",
    "kfold = cross_validation.KFold(n=num_instances, n_folds=num_folds, random_state=seed)"
   ]
  },
  {
   "cell_type": "markdown",
   "metadata": {},
   "source": [
    " # Set the parameters for bias-variance dilemma"
   ]
  },
  {
   "cell_type": "code",
   "execution_count": 6,
   "metadata": {
    "collapsed": false
   },
   "outputs": [],
   "source": [
    "def plot_learning_curve(estimator, title, X, y, ylim=None, cv=None,\n",
    "                        n_jobs=1, train_sizes=np.linspace(.1, 1.0, 5)):\n",
    "    plt.figure()\n",
    "    plt.title(title)\n",
    "    if ylim is not None:\n",
    "        plt.ylim(*ylim)\n",
    "    plt.xlabel(\"Training examples\")\n",
    "    plt.ylabel(\"Score\")\n",
    "    train_sizes, train_scores, test_scores = learning_curve(\n",
    "        estimator, X, y, cv=cv, n_jobs=n_jobs, train_sizes=train_sizes)\n",
    "    train_scores_mean = np.mean(train_scores, axis=1)\n",
    "    train_scores_std = np.std(train_scores, axis=1)\n",
    "    test_scores_mean = np.mean(test_scores, axis=1)\n",
    "    test_scores_std = np.std(test_scores, axis=1)\n",
    "    plt.grid()\n",
    "\n",
    "    plt.fill_between(train_sizes, train_scores_mean - train_scores_std,\n",
    "                     train_scores_mean + train_scores_std, alpha=0.1,\n",
    "                     color=\"r\")\n",
    "    plt.fill_between(train_sizes, test_scores_mean - test_scores_std,\n",
    "                     test_scores_mean + test_scores_std, alpha=0.1, color=\"g\")\n",
    "    plt.plot(train_sizes, train_scores_mean, 'o-', color=\"r\",\n",
    "             label=\"Training score\")\n",
    "    plt.plot(train_sizes, test_scores_mean, 'o-', color=\"g\",\n",
    "             label=\"Cross-validation score\")\n",
    "\n",
    "    plt.legend(loc=\"best\")\n",
    "    return plt"
   ]
  },
  {
   "cell_type": "markdown",
   "metadata": {},
   "source": [
    "# 1. DecisionTreeRegressor  with Xgboost Regression"
   ]
  },
  {
   "cell_type": "markdown",
   "metadata": {},
   "source": [
    "Decision trees or the Classification and Regression Trees (CART as they are know) use the training data to select the best points to split the data in order to minimize a cost metric. The default cost metric for regression decision trees is the mean squared error, specified in the criterion parameter."
   ]
  },
  {
   "cell_type": "markdown",
   "metadata": {},
   "source": [
    "## Validation curve"
   ]
  },
  {
   "cell_type": "markdown",
   "metadata": {},
   "source": [
    "choosing multiple hyperparameters of an estimator "
   ]
  },
  {
   "cell_type": "code",
   "execution_count": 7,
   "metadata": {
    "collapsed": false
   },
   "outputs": [
    {
     "data": {
      "text/plain": [
       "['k', 'score_func']"
      ]
     },
     "execution_count": 7,
     "metadata": {},
     "output_type": "execute_result"
    }
   ],
   "source": [
    "\n",
    "estimator = model\n",
    "estimator.get_params().keys()"
   ]
  },
  {
   "cell_type": "code",
   "execution_count": 8,
   "metadata": {
    "collapsed": false
   },
   "outputs": [
    {
     "data": {
      "image/png": "[encoded data removed]",
      "text/plain": [
       "<matplotlib.figure.Figure at 0x7f4453da45d0>"
      ]
     },
     "metadata": {},
     "output_type": "display_data"
    }
   ],
   "source": [
    "#param_range = np.logspace(-10.0, 10.0)\n",
    "#param_range = np.linspace(1,50,100)\n",
    "param_range = np.arange(1,20) # generate integer numbers\n",
    "\n",
    "train_scores, test_scores = validation_curve(\n",
    "    xgboost.XGBRegressor(), X, Y, param_name=\"max_depth\", param_range=param_range,\n",
    "    cv=num_folds,  n_jobs=-1)\n",
    "train_scores_mean = np.mean(train_scores, axis=1)\n",
    "train_scores_std = np.std(train_scores, axis=1)\n",
    "test_scores_mean = np.mean(test_scores, axis=1)\n",
    "test_scores_std = np.std(test_scores, axis=1)\n",
    "\n",
    "plt.title(\"Validation Curve with DecisionTreeRegressor\")\n",
    "plt.xlabel(\"max_depth\")\n",
    "plt.ylabel(\"Score\")\n",
    "plt.ylim(0.4, 1.5)\n",
    "plt.plot(param_range, train_scores_mean, label=\"Training score\", color=\"r\")\n",
    "plt.fill_between(param_range, train_scores_mean - train_scores_std,\n",
    "                 train_scores_mean + train_scores_std, alpha=0.2, color=\"r\")\n",
    "plt.plot(param_range, test_scores_mean, label=\"Cross-validation score\",\n",
    "             color=\"g\")\n",
    "plt.fill_between(param_range, test_scores_mean - test_scores_std,\n",
    "                 test_scores_mean + test_scores_std, alpha=0.2, color=\"g\")\n",
    "plt.legend(loc=\"best\")\n",
    "plt.show()"
   ]
  },
  {
   "cell_type": "markdown",
   "metadata": {},
   "source": [
    "more that 5 is the best of number of max_depth"
   ]
  },
  {
   "cell_type": "code",
   "execution_count": 9,
   "metadata": {
    "collapsed": false
   },
   "outputs": [
    {
     "data": {
      "text/plain": [
       "array([  1.00000000e-05,   5.99484250e-05,   3.59381366e-04,\n",
       "         2.15443469e-03,   1.29154967e-02,   7.74263683e-02,\n",
       "         4.64158883e-01,   2.78255940e+00,   1.66810054e+01,\n",
       "         1.00000000e+02])"
      ]
     },
     "execution_count": 9,
     "metadata": {},
     "output_type": "execute_result"
    }
   ],
   "source": [
    "np.logspace(-5.0, 2.0,10)\n",
    "\n"
   ]
  },
  {
   "cell_type": "markdown",
   "metadata": {},
   "source": [
    "min_samples_split =2 (The defualt) is the best"
   ]
  },
  {
   "cell_type": "markdown",
   "metadata": {},
   "source": [
    "## Grid search and/or Random search to determine best compination of parameters"
   ]
  },
  {
   "cell_type": "code",
   "execution_count": 10,
   "metadata": {
    "collapsed": false
   },
   "outputs": [
    {
     "name": "stdout",
     "output_type": "stream",
     "text": [
      "Hyperparameter optimization using GridSearchCV...\n",
      "Parameters with rank: 1\n",
      "Mean validation score: 0.9046 (std: 0.0217)\n",
      "Parameters: {'max_depth': 5}\n",
      "\n",
      "Parameters with rank: 2\n",
      "Mean validation score: 0.8799 (std: 0.0231)\n",
      "Parameters: {'max_depth': 4}\n",
      "\n",
      "Parameters with rank: 3\n",
      "Mean validation score: 0.8259 (std: 0.0346)\n",
      "Parameters: {'max_depth': 3}\n",
      "\n",
      "Parameters with rank: 4\n",
      "Mean validation score: 0.7152 (std: 0.0367)\n",
      "Parameters: {'max_depth': 2}\n",
      "\n",
      "Parameters with rank: 5\n",
      "Mean validation score: 0.5031 (std: 0.0359)\n",
      "Parameters: {'max_depth': 1}\n",
      "\n",
      "+++++++++++++++++++++++++++++++++++++++++++++++\n",
      "Hyperparameter optimization using RandomizedSearchCV\n",
      "Parameters with rank: 1\n",
      "Mean validation score: 0.9046 (std: 0.0217)\n",
      "Parameters: {'max_depth': 5}\n",
      "\n",
      "Parameters with rank: 2\n",
      "Mean validation score: 0.8799 (std: 0.0231)\n",
      "Parameters: {'max_depth': 4}\n",
      "\n",
      "Parameters with rank: 3\n",
      "Mean validation score: 0.8259 (std: 0.0346)\n",
      "Parameters: {'max_depth': 3}\n",
      "\n",
      "Parameters with rank: 4\n",
      "Mean validation score: 0.7152 (std: 0.0367)\n",
      "Parameters: {'max_depth': 2}\n",
      "\n",
      "Parameters with rank: 5\n",
      "Mean validation score: 0.5031 (std: 0.0359)\n",
      "Parameters: {'max_depth': 1}\n",
      "\n"
     ]
    }
   ],
   "source": [
    "##### Utility function to report optimal parameters\n",
    "from operator import itemgetter\n",
    "def report(grid_scores, n_top=5):\n",
    "    params = None\n",
    "    top_scores = sorted(grid_scores, key=itemgetter(1), reverse=True)[:n_top]\n",
    "    for i, score in enumerate(top_scores):\n",
    "        print(\"Parameters with rank: {0}\".format(i + 1))\n",
    "        print(\"Mean validation score: {0:.4f} (std: {1:.4f})\".format(\n",
    "              score.mean_validation_score, np.std(score.cv_validation_scores)))\n",
    "        print(\"Parameters: {0}\".format(score.parameters))\n",
    "        print(\"\")\n",
    "        \n",
    "        if params == None:\n",
    "            params = score.parameters\n",
    "    \n",
    "    return params\n",
    "\n",
    "# The most common value for the max number of features to look at in each split is sqrt(# of features)\n",
    "sqrtfeat = np.sqrt(X.shape[1]) \n",
    "grid_test1 = { \"max_depth\"      : [1,2,3,4,5]}\n",
    "\n",
    "# Large randomized test using max_depth to control tree size (5000 possible combinations)\n",
    "random_test1 = { \"max_depth\"      : np.arange(1,6)}\n",
    "\n",
    "\n",
    "forest = xgboost.XGBRegressor()\n",
    "\n",
    "print \"Hyperparameter optimization using GridSearchCV...\"\n",
    "grid_search = GridSearchCV(forest, grid_test1, n_jobs=-1, cv=num_folds)\n",
    "grid_search.fit(X, Y)\n",
    "best_params_from_grid_search = report(grid_search.grid_scores_)\n",
    "print '+++++++++++++++++++++++++++++++++++++++++++++++'\n",
    "print \"Hyperparameter optimization using RandomizedSearchCV\"\n",
    "grid_search = RandomizedSearchCV(forest, random_test1, n_jobs=-1, cv=num_folds, n_iter=5)\n",
    "grid_search.fit(X, Y)\n",
    "best_params_from_rand_search1 = report(grid_search.grid_scores_)"
   ]
  },
  {
   "cell_type": "markdown",
   "metadata": {},
   "source": [
    "Best parameters Parameters: Parameters: {'max_features': None, 'max_depth': 19, 'min_samples_leaf': 1}\n"
   ]
  },
  {
   "cell_type": "markdown",
   "metadata": {},
   "source": [
    "## Learning Curve "
   ]
  },
  {
   "cell_type": "markdown",
   "metadata": {},
   "source": [
    "In essence, what we’re doing it training the exact same model with increasingly large fractions of our total training data, and plotting the error of the training and test sets at each step."
   ]
  },
  {
   "cell_type": "code",
   "execution_count": 11,
   "metadata": {
    "collapsed": false
   },
   "outputs": [
    {
     "data": {
      "image/png": "[encoded data removed]",
      "text/plain": [
       "<matplotlib.figure.Figure at 0x7f445460f8d0>"
      ]
     },
     "metadata": {},
     "output_type": "display_data"
    }
   ],
   "source": [
    "\n",
    "model = xgboost.XGBRegressor(max_depth=2, learning_rate = 0.1)\n",
    "title = \"Learning Curves (Ada DecisionTreeRegressor Refression)\"\n",
    "cv = cross_validation.ShuffleSplit(X.shape[0], n_iter=100,\n",
    "                                   test_size=0.2, random_state=0)\n",
    "plot_learning_curve(model, title, X, Y, cv=cv, n_jobs=-1)\n",
    "plt.show()"
   ]
  },
  {
   "cell_type": "code",
   "execution_count": 12,
   "metadata": {
    "collapsed": false
   },
   "outputs": [
    {
     "name": "stdout",
     "output_type": "stream",
     "text": [
      "train_sizes =  [ 50  80 110]\n",
      " training scores\n",
      " 50 training sizees\n",
      "0.920976839757 ± 0.030671335293\n",
      " 80 training sizees\n",
      "0.883302244593 ± 0.0322675065917\n",
      " 110 training sizees\n",
      "0.855304968242 ± 0.0329892715696\n",
      "\n",
      " validation scores\n",
      " 50 validation scores\n",
      "0.458403575271 ± 0.0895451845364\n",
      " 80 validation scores\n",
      "0.544201232685 ± 0.0719729551187\n",
      " 110 validation scores\n",
      "0.588410392316 ± 0.0613091717027\n"
     ]
    }
   ],
   "source": [
    "# More data from learning curve to show the process of building the model\n",
    "train_sizes, train_scores, valid_scores = learning_curve(\n",
    "     model, X, Y, train_sizes=[50, 80, 110], cv=cv, n_jobs=4)\n",
    "\n",
    "print 'train_sizes = ', train_sizes\n",
    "\n",
    "print ' training scores'\n",
    "print ' 50 training sizees'\n",
    "print train_scores[0].mean(),'±',train_scores[0].std()\n",
    "print ' 80 training sizees'\n",
    "print train_scores[1].mean(),'±',train_scores[1].std()\n",
    "print ' 110 training sizees'\n",
    "print train_scores[2].mean(),'±',train_scores[2].std()\n",
    "\n",
    "print '\\n validation scores'\n",
    "print ' 50 validation scores'\n",
    "print valid_scores[0].mean(),'±',valid_scores[0].std()\n",
    "print ' 80 validation scores'\n",
    "print valid_scores[1].mean(),'±',valid_scores[1].std()\n",
    "print ' 110 validation scores'\n",
    "print valid_scores[2].mean(),'±',valid_scores[2].std()"
   ]
  },
  {
   "cell_type": "markdown",
   "metadata": {},
   "source": [
    "## Cross validation"
   ]
  },
  {
   "cell_type": "code",
   "execution_count": 13,
   "metadata": {
    "collapsed": false
   },
   "outputs": [
    {
     "name": "stdout",
     "output_type": "stream",
     "text": [
      "Scoring according to mean_squared_error\n",
      "[-13.89099489 -17.01977883 -14.34127388 -15.10401812 -12.22323405\n",
      " -13.68845698 -10.52069949 -11.41507899 -12.02339985 -14.35260784]\n",
      "\n",
      " Mean      Standard deviation\n",
      "-13.46      1.83\n"
     ]
    },
    {
     "data": {
      "text/plain": [
       "XGBRegressor(base_score=0.5, colsample_bylevel=1, colsample_bytree=1, gamma=0,\n",
       "       learning_rate=0.1, max_delta_step=0, max_depth=2,\n",
       "       min_child_weight=1, missing=None, n_estimators=100, nthread=-1,\n",
       "       objective='reg:linear', reg_alpha=0, reg_lambda=1,\n",
       "       scale_pos_weight=1, seed=0, silent=True, subsample=1)"
      ]
     },
     "execution_count": 13,
     "metadata": {},
     "output_type": "execute_result"
    }
   ],
   "source": [
    "scoring = 'mean_squared_error'\n",
    "results = cross_validation.cross_val_score(model, X, Y, cv=kfold, scoring=scoring)\n",
    "print 'Scoring according to mean_squared_error'\n",
    "print results\n",
    "print '\\n Mean      Standard deviation'\n",
    "print(\"%.2f      %.2f\" % (results.mean(), results.std()))\n",
    "## Fit the model\n",
    "model.fit(X,Y)\n"
   ]
  },
  {
   "cell_type": "markdown",
   "metadata": {},
   "source": [
    "## Coefficients Of Determination {Calculating R^2}\n",
    "\n",
    "R^2, Close to one is better"
   ]
  },
  {
   "cell_type": "code",
   "execution_count": 14,
   "metadata": {
    "collapsed": false
   },
   "outputs": [
    {
     "name": "stdout",
     "output_type": "stream",
     "text": [
      "R-squared =  0.717732897638\n"
     ]
    }
   ],
   "source": [
    "predicted = cross_val_predict(model, X, Y, cv=kfold)\n",
    "r_squared = r2_score(Y, predicted, multioutput='variance_weighted')\n",
    "print 'R-squared = ',r_squared"
   ]
  },
  {
   "cell_type": "markdown",
   "metadata": {},
   "source": [
    "## Residual Plot"
   ]
  },
  {
   "cell_type": "code",
   "execution_count": 15,
   "metadata": {
    "collapsed": false
   },
   "outputs": [
    {
     "data": {
      "image/png": "[encoded data removed]",
      "text/plain": [
       "<matplotlib.figure.Figure at 0x7f445460fdd0>"
      ]
     },
     "metadata": {},
     "output_type": "display_data"
    }
   ],
   "source": [
    "predicted = cross_val_predict(model, X, Y, cv=kfold)\n",
    "fig, ax = plt.subplots()\n",
    "ax.scatter(Y, predicted)\n",
    "ax.plot([Y.min(), Y.max()], [Y.min(), Y.max()], 'k--', lw=4)\n",
    "ax.set_xlabel('Measured')\n",
    "ax.set_ylabel('Predicted')\n",
    "plt.show()"
   ]
  },
  {
   "cell_type": "code",
   "execution_count": 16,
   "metadata": {
    "collapsed": false
   },
   "outputs": [
    {
     "data": {
      "text/html": [
       "\n",
       "\n",
       "    <div class=\"bk-root\">\n",
       "        <div class=\"plotdiv\" id=\"e04e6224-c958-4faa-b94a-e435284c5627\"></div>\n",
       "    </div>\n",
       "<script type=\"text/javascript\">\n",
       "  \n",
       "  (function(global) {\n",
       "    function now() {\n",
       "      return new Date();\n",
       "    }\n",
       "  \n",
       "    var force = \"\";\n",
       "  \n",
       "    if (typeof (window._bokeh_onload_callbacks) === \"undefined\" || force !== \"\") {\n",
       "      window._bokeh_onload_callbacks = [];\n",
       "      window._bokeh_is_loading = undefined;\n",
       "    }\n",
       "  \n",
       "  \n",
       "    \n",
       "    if (typeof (window._bokeh_timeout) === \"undefined\" || force !== \"\") {\n",
       "      window._bokeh_timeout = Date.now() + 0;\n",
       "      window._bokeh_failed_load = false;\n",
       "    }\n",
       "  \n",
       "    var NB_LOAD_WARNING = {'data': {'text/html':\n",
       "       \"<div style='background-color: #fdd'>\\n\"+\n",
       "       \"<p>\\n\"+\n",
       "       \"BokehJS does not appear to have successfully loaded. If loading BokehJS from CDN, this \\n\"+\n",
       "       \"may be due to a slow or bad network connection. Possible fixes:\\n\"+\n",
       "       \"</p>\\n\"+\n",
       "       \"<ul>\\n\"+\n",
       "       \"<li>re-rerun `output_notebook()` to attempt to load from CDN again, or</li>\\n\"+\n",
       "       \"<li>use INLINE resources instead, as so:</li>\\n\"+\n",
       "       \"</ul>\\n\"+\n",
       "       \"<code>\\n\"+\n",
       "       \"from bokeh.resources import INLINE\\n\"+\n",
       "       \"output_notebook(resources=INLINE)\\n\"+\n",
       "       \"</code>\\n\"+\n",
       "       \"</div>\"}};\n",
       "  \n",
       "    function display_loaded() {\n",
       "      if (window.Bokeh !== undefined) {\n",
       "        Bokeh.$(\"#e04e6224-c958-4faa-b94a-e435284c5627\").text(\"BokehJS successfully loaded.\");\n",
       "      } else if (Date.now() < window._bokeh_timeout) {\n",
       "        setTimeout(display_loaded, 100)\n",
       "      }\n",
       "    }\n",
       "  \n",
       "    function run_callbacks() {\n",
       "      window._bokeh_onload_callbacks.forEach(function(callback) { callback() });\n",
       "      delete window._bokeh_onload_callbacks\n",
       "      console.info(\"Bokeh: all callbacks have finished\");\n",
       "    }\n",
       "  \n",
       "    function load_libs(js_urls, callback) {\n",
       "      window._bokeh_onload_callbacks.push(callback);\n",
       "      if (window._bokeh_is_loading > 0) {\n",
       "        console.log(\"Bokeh: BokehJS is being loaded, scheduling callback at\", now());\n",
       "        return null;\n",
       "      }\n",
       "      if (js_urls == null || js_urls.length === 0) {\n",
       "        run_callbacks();\n",
       "        return null;\n",
       "      }\n",
       "      console.log(\"Bokeh: BokehJS not loaded, scheduling load and callback at\", now());\n",
       "      window._bokeh_is_loading = js_urls.length;\n",
       "      for (var i = 0; i < js_urls.length; i++) {\n",
       "        var url = js_urls[i];\n",
       "        var s = document.createElement('script');\n",
       "        s.src = url;\n",
       "        s.async = false;\n",
       "        s.onreadystatechange = s.onload = function() {\n",
       "          window._bokeh_is_loading--;\n",
       "          if (window._bokeh_is_loading === 0) {\n",
       "            console.log(\"Bokeh: all BokehJS libraries loaded\");\n",
       "            run_callbacks()\n",
       "          }\n",
       "        };\n",
       "        s.onerror = function() {\n",
       "          console.warn(\"failed to load library \" + url);\n",
       "        };\n",
       "        console.log(\"Bokeh: injecting script tag for BokehJS library: \", url);\n",
       "        document.getElementsByTagName(\"head\")[0].appendChild(s);\n",
       "      }\n",
       "    };var element = document.getElementById(\"e04e6224-c958-4faa-b94a-e435284c5627\");\n",
       "    if (element == null) {\n",
       "      console.log(\"Bokeh: ERROR: autoload.js configured with elementid 'e04e6224-c958-4faa-b94a-e435284c5627' but no matching script tag was found. \")\n",
       "      return false;\n",
       "    }\n",
       "  \n",
       "    var js_urls = [];\n",
       "  \n",
       "    var inline_js = [\n",
       "      function(Bokeh) {\n",
       "        Bokeh.$(function() {\n",
       "            var docs_json = {\"1d45bdbf-39a8-451b-9ed6-e613b437bcc5\":{\"roots\":{\"references\":[{\"attributes\":{\"plot\":{\"id\":\"c766f39c-a89e-45ae-91b7-f3554e942175\",\"subtype\":\"Figure\",\"type\":\"Plot\"}},\"id\":\"b20b53f0-8541-45b1-bc1a-abc75f3307f8\",\"type\":\"ResizeTool\"},{\"attributes\":{\"fill_alpha\":{\"value\":0.1},\"fill_color\":{\"value\":\"#1f77b4\"},\"line_alpha\":{\"value\":0.1},\"line_color\":{\"value\":\"#1f77b4\"},\"line_width\":{\"value\":3},\"x\":{\"field\":\"x\"},\"y\":{\"field\":\"y\"}},\"id\":\"5b1d1e95-fb95-43f4-acbc-5a2d4e0cda99\",\"type\":\"Circle\"},{\"attributes\":{\"plot\":{\"id\":\"c766f39c-a89e-45ae-91b7-f3554e942175\",\"subtype\":\"Figure\",\"type\":\"Plot\"}},\"id\":\"8ee231c9-3908-43dd-9a21-63d0c0924c18\",\"type\":\"ResetTool\"},{\"attributes\":{\"overlay\":{\"id\":\"00d2ace8-a29b-41a8-b7d0-2fdf879771c2\",\"type\":\"PolyAnnotation\"},\"plot\":{\"id\":\"c766f39c-a89e-45ae-91b7-f3554e942175\",\"subtype\":\"Figure\",\"type\":\"Plot\"}},\"id\":\"f6041841-7aaa-436d-884e-e2a7cffa2485\",\"type\":\"PolySelectTool\"},{\"attributes\":{\"line_alpha\":{\"value\":0.1},\"line_color\":{\"value\":\"#1f77b4\"},\"line_dash\":[4,4],\"line_width\":{\"value\":2},\"x\":{\"field\":\"x\"},\"y\":{\"field\":\"y\"}},\"id\":\"a05cc6af-40c8-4f44-9522-aab7826110aa\",\"type\":\"Line\"},{\"attributes\":{\"bottom_units\":\"screen\",\"fill_alpha\":{\"value\":0.5},\"fill_color\":{\"value\":\"lightgrey\"},\"left_units\":\"screen\",\"level\":\"overlay\",\"line_alpha\":{\"value\":1.0},\"line_color\":{\"value\":\"black\"},\"line_dash\":[4,4],\"line_width\":{\"value\":2},\"plot\":null,\"render_mode\":\"css\",\"right_units\":\"screen\",\"top_units\":\"screen\"},\"id\":\"a28502d2-db63-4166-9596-d7e0cdf9fc39\",\"type\":\"BoxAnnotation\"},{\"attributes\":{\"axis_label\":\"Predicted\",\"axis_label_text_color\":{\"value\":\"#aa6666\"},\"formatter\":{\"id\":\"03f14588-e2ff-497d-8478-7a16eefa8b21\",\"type\":\"BasicTickFormatter\"},\"plot\":{\"id\":\"c766f39c-a89e-45ae-91b7-f3554e942175\",\"subtype\":\"Figure\",\"type\":\"Plot\"},\"ticker\":{\"id\":\"5aad6943-08c9-4229-bc1b-54464fbfc148\",\"type\":\"BasicTicker\"}},\"id\":\"ce17371c-cc11-407a-8459-c3e7f1a9bcb2\",\"type\":\"LinearAxis\"},{\"attributes\":{\"line_dash\":[4,4],\"line_width\":{\"value\":2},\"x\":{\"field\":\"x\"},\"y\":{\"field\":\"y\"}},\"id\":\"d312b0bc-164c-4622-9f20-75465d66a883\",\"type\":\"Line\"},{\"attributes\":{},\"id\":\"b2233a0b-9f72-4e4b-9713-e86c53b61ec2\",\"type\":\"BasicTickFormatter\"},{\"attributes\":{\"data_source\":{\"id\":\"4a553c44-077a-4bae-86ba-7083a84f4768\",\"type\":\"ColumnDataSource\"},\"glyph\":{\"id\":\"159f4bf9-359d-47a2-a3c4-41d344fb3a8e\",\"type\":\"Circle\"},\"hover_glyph\":null,\"nonselection_glyph\":{\"id\":\"5b1d1e95-fb95-43f4-acbc-5a2d4e0cda99\",\"type\":\"Circle\"},\"selection_glyph\":null},\"id\":\"0de2a923-3cd8-452f-8d72-df4ee09aac95\",\"type\":\"GlyphRenderer\"},{\"attributes\":{\"plot\":{\"id\":\"c766f39c-a89e-45ae-91b7-f3554e942175\",\"subtype\":\"Figure\",\"type\":\"Plot\"}},\"id\":\"3d82a20a-8edc-4277-90bb-73f093e878de\",\"type\":\"SaveTool\"},{\"attributes\":{\"callback\":null,\"overlay\":{\"id\":\"a28502d2-db63-4166-9596-d7e0cdf9fc39\",\"type\":\"BoxAnnotation\"},\"plot\":{\"id\":\"c766f39c-a89e-45ae-91b7-f3554e942175\",\"subtype\":\"Figure\",\"type\":\"Plot\"},\"renderers\":[{\"id\":\"0de2a923-3cd8-452f-8d72-df4ee09aac95\",\"type\":\"GlyphRenderer\"},{\"id\":\"19681dd2-457b-4592-a422-e1f331386d24\",\"type\":\"GlyphRenderer\"}]},\"id\":\"3fce60ac-3ba4-4f97-ada5-dd60b3df0398\",\"type\":\"BoxSelectTool\"},{\"attributes\":{\"plot\":{\"id\":\"c766f39c-a89e-45ae-91b7-f3554e942175\",\"subtype\":\"Figure\",\"type\":\"Plot\"},\"ticker\":{\"id\":\"5252d371-0cee-49bd-b0bd-37957108112d\",\"type\":\"BasicTicker\"}},\"id\":\"33a04fe8-fbc6-4e1f-9bd7-79e9bc41c229\",\"type\":\"Grid\"},{\"attributes\":{\"callback\":null},\"id\":\"31285344-c6b0-43dd-bb66-a7bf3198a7b8\",\"type\":\"DataRange1d\"},{\"attributes\":{\"background_fill_alpha\":{\"value\":0.5},\"background_fill_color\":{\"value\":\"beige\"},\"below\":[{\"id\":\"8468e72d-b32f-47c0-abe5-48f05b15d767\",\"type\":\"LinearAxis\"}],\"left\":[{\"id\":\"ce17371c-cc11-407a-8459-c3e7f1a9bcb2\",\"type\":\"LinearAxis\"}],\"plot_height\":500,\"plot_width\":500,\"renderers\":[{\"id\":\"8468e72d-b32f-47c0-abe5-48f05b15d767\",\"type\":\"LinearAxis\"},{\"id\":\"33a04fe8-fbc6-4e1f-9bd7-79e9bc41c229\",\"type\":\"Grid\"},{\"id\":\"ce17371c-cc11-407a-8459-c3e7f1a9bcb2\",\"type\":\"LinearAxis\"},{\"id\":\"c4d8fad3-3dbd-4c93-abce-23c927227abf\",\"type\":\"Grid\"},{\"id\":\"192ee790-7d39-41eb-b204-3546eaeb7567\",\"type\":\"BoxAnnotation\"},{\"id\":\"a28502d2-db63-4166-9596-d7e0cdf9fc39\",\"type\":\"BoxAnnotation\"},{\"id\":\"e5e5e0a4-b69f-4fd3-8cc8-8463d0f837a6\",\"type\":\"PolyAnnotation\"},{\"id\":\"00d2ace8-a29b-41a8-b7d0-2fdf879771c2\",\"type\":\"PolyAnnotation\"},{\"id\":\"0de2a923-3cd8-452f-8d72-df4ee09aac95\",\"type\":\"GlyphRenderer\"},{\"id\":\"19681dd2-457b-4592-a422-e1f331386d24\",\"type\":\"GlyphRenderer\"}],\"title\":{\"id\":\"30f7a21f-19e7-4b5a-8d82-90efcd1db441\",\"type\":\"Title\"},\"tool_events\":{\"id\":\"1066d247-3547-4bca-b9dd-f663a262c896\",\"type\":\"ToolEvents\"},\"toolbar\":{\"id\":\"706f30b9-e9dd-4705-addf-81a6ed26d950\",\"type\":\"Toolbar\"},\"x_range\":{\"id\":\"d9a04e0d-0b47-463c-ad59-c71a35e55339\",\"type\":\"DataRange1d\"},\"y_range\":{\"id\":\"31285344-c6b0-43dd-bb66-a7bf3198a7b8\",\"type\":\"DataRange1d\"}},\"id\":\"c766f39c-a89e-45ae-91b7-f3554e942175\",\"subtype\":\"Figure\",\"type\":\"Plot\"},{\"attributes\":{\"fill_color\":{\"value\":\"#80B1D3\"},\"line_color\":{\"value\":\"#80B1D3\"},\"line_width\":{\"value\":3},\"x\":{\"field\":\"x\"},\"y\":{\"field\":\"y\"}},\"id\":\"159f4bf9-359d-47a2-a3c4-41d344fb3a8e\",\"type\":\"Circle\"},{\"attributes\":{},\"id\":\"1066d247-3547-4bca-b9dd-f663a262c896\",\"type\":\"ToolEvents\"},{\"attributes\":{\"callback\":null,\"column_names\":[\"y\",\"x\"],\"data\":{\"x\":[104.13,140.987],\"y\":[104.13,140.987]}},\"id\":\"690f7f4d-2677-4e6d-a976-03ba05ad746d\",\"type\":\"ColumnDataSource\"},{\"attributes\":{\"callback\":null,\"overlay\":{\"id\":\"e5e5e0a4-b69f-4fd3-8cc8-8463d0f837a6\",\"type\":\"PolyAnnotation\"},\"plot\":{\"id\":\"c766f39c-a89e-45ae-91b7-f3554e942175\",\"subtype\":\"Figure\",\"type\":\"Plot\"}},\"id\":\"bea05154-9b64-440d-b8be-79900f365865\",\"type\":\"LassoSelectTool\"},{\"attributes\":{\"callback\":null,\"plot\":{\"id\":\"c766f39c-a89e-45ae-91b7-f3554e942175\",\"subtype\":\"Figure\",\"type\":\"Plot\"}},\"id\":\"bb5c12ad-6827-45a3-8d09-68b0de801994\",\"type\":\"TapTool\"},{\"attributes\":{\"fill_alpha\":{\"value\":0.5},\"fill_color\":{\"value\":\"lightgrey\"},\"level\":\"overlay\",\"line_alpha\":{\"value\":1.0},\"line_color\":{\"value\":\"black\"},\"line_dash\":[4,4],\"line_width\":{\"value\":2},\"plot\":null,\"xs_units\":\"screen\",\"ys_units\":\"screen\"},\"id\":\"00d2ace8-a29b-41a8-b7d0-2fdf879771c2\",\"type\":\"PolyAnnotation\"},{\"attributes\":{\"callback\":null,\"column_names\":[\"x\",\"y\"],\"data\":{\"x\":[127.206,136.284,117.50399999999999,122.34100000000001,114.042,135.079,127.23299999999999,123.689,118.005,135.346,126.53399999999999,135.368,111.959,125.816,119.62100000000001,132.039,118.365,124.74799999999999,112.506,122.375,120.505,121.315,109.25399999999999,119.505,118.214,124.355,115.91,139.438,124.493,129.68,134.533,114.309,129.45,116.411,118.12899999999999,118.712,131.836,110.905,129.569,124.273,129.02700000000002,124.852,115.679,117.624,127.12700000000001,119.375,119.07,118.941,113.333,127.7,131.45600000000002,121.485,129.8,127.04,134.0,128.774,124.45,124.84299999999999,114.9,118.757,128.35399999999998,130.197,118.145,133.097,125.726,116.241,124.17,115.85700000000001,129.965,121.399,120.766,118.12200000000001,132.513,132.304,127.63799999999999,124.555,128.95600000000002,126.835,130.96,128.562,115.863,126.395,133.756,113.10799999999999,121.301,113.958,124.346,136.886,117.037,131.636,131.111,129.33,112.803,128.536,133.774,134.273,123.08200000000001,128.92700000000002,117.119,134.556,127.179,133.59799999999998,122.044,128.929,121.889,129.415,130.123,120.228,128.857,115.079,128.518,124.154,129.256,130.781,124.156,134.56799999999998,122.088,131.313,123.965,120.92,133.649,116.295,135.674,130.195,129.567,119.294,125.715,137.233,116.84899999999999,124.69200000000001,116.694,130.34,131.205,126.189,119.67,127.006,130.934,121.499,127.796,134.268,136.031,131.918,133.79,130.299,133.355,134.111,115.321,133.012,128.64700000000002,127.92,122.905,129.285,116.225,132.43,115.234,125.40100000000001,127.39399999999999,131.346,122.61200000000001,122.315,121.059,124.304,122.035,115.65899999999999,125.555,112.014,132.202,115.846,118.595,138.523,130.114,116.603,130.392,121.789,122.435,134.22799999999998,113.492,128.127,111.911,125.527,116.229,120.85600000000001,127.35600000000001,137.026,129.03799999999998,126.09700000000001,127.054,129.14700000000002,134.02200000000002,133.894,120.458,120.47200000000001,132.898,127.008,120.484,130.898,112.039,118.82700000000001,120.07799999999999,126.195,125.728,120.137,135.234,118.816,121.65899999999999,117.087,114.927,133.48,107.26700000000001,126.898,120.324,132.134,109.95100000000001,126.59899999999999,126.64200000000001,129.11700000000002,117.15100000000001,117.432,125.867,118.964,127.676,133.211,110.515,114.554,133.29399999999998,120.354,126.291,127.53,117.154,127.90299999999999,118.955,128.401,128.829,128.545,117.134,135.164,134.563,134.11,116.677,133.01,129.953,127.197,129.55200000000002,127.696,118.045,137.06799999999998,127.75299999999999,131.808,125.054,134.996,132.05,126.514,119.135,129.889,137.007,139.918,124.395,127.398,133.023,130.349,118.743,119.854,118.05,127.329,126.04899999999999,126.116,135.227,112.848,112.265,133.768,115.969,128.762,112.699,125.941,135.248,116.723,117.38600000000001,118.564,128.086,125.045,126.74600000000001,122.766,128.265,129.869,122.771,118.99799999999999,132.886,134.826,108.40700000000001,127.564,126.736,130.629,118.024,120.963,133.071,124.71700000000001,131.06,124.39299999999999,125.589,125.22,124.001,127.07600000000001,126.838,123.742,123.76100000000001,118.441,115.304,131.129,128.312,124.61200000000001,131.80700000000002,132.095,122.101,135.953,120.05799999999999,135.308,122.411,131.453,121.40700000000001,128.49200000000002,133.846,112.209,130.335,107.985,115.818,139.428,120.229,118.34299999999999,123.445,113.00399999999999,106.88,116.10799999999999,127.71,128.704,133.649,111.35,110.689,114.634,137.076,129.053,133.58700000000002,135.32399999999998,130.817,115.085,126.88600000000001,132.304,124.835,134.336,125.89,123.514,117.911,114.47399999999999,108.265,127.928,131.434,122.147,132.769,129.77700000000002,134.498,116.12799999999999,123.416,124.12100000000001,125.20299999999999,130.845,110.491,129.343,116.22,128.144,122.79,130.156,121.93299999999999,123.274,118.41,134.34,124.23299999999999,136.83700000000002,114.861,130.049,120.786,119.319,128.335,114.477,123.635,136.826,130.477,129.116,126.82600000000001,120.055,126.75200000000001,129.004,108.721,125.26100000000001,133.79,130.332,132.184,115.215,124.98700000000001,117.287,120.79799999999999,119.135,116.72399999999999,112.68799999999999,121.31299999999999,120.446,135.484,134.43,130.791,131.725,123.537,130.46,106.26,117.465,118.994,128.29,106.58200000000001,128.244,125.603,127.101,128.69799999999998,119.646,129.964,122.72399999999999,130.065,129.667,127.54799999999999,128.401,126.64399999999999,129.5,130.148,132.114,130.965,123.695,118.291,122.21799999999999,124.685,128.311,113.85799999999999,132.588,115.14399999999999,116.184,123.31200000000001,116.074,125.99799999999999,119.208,120.088,134.987,125.194,116.366,122.21600000000001,136.798,121.28399999999999,123.443,129.645,122.845,128.119,108.991,113.288,132.357,125.499,124.40299999999999,125.398,132.003,129.575,120.061,129.675,117.96700000000001,127.054,121.154,130.722,125.625,137.047,127.095,131.971,133.153,132.35399999999998,127.315,123.991,117.604,132.58700000000002,115.645,127.251,125.824,128.805,126.34299999999999,134.247,133.207,137.207,121.944,120.555,121.485,126.54,138.123,131.796,125.721,132.611,135.54,123.87899999999999,122.17,129.002,125.20100000000001,123.86200000000001,134.87,124.04899999999999,125.85700000000001,133.201,124.439,129.308,124.665,130.961,108.03399999999999,124.024,131.234,119.51299999999999,117.875,118.113,125.539,126.616,116.815,122.765,131.015,130.269,135.07,133.707,120.324,131.582,128.435,130.688,114.41799999999999,110.905,108.03399999999999,112.945,131.184,116.417,133.062,129.653,124.64399999999999,127.443,126.446,108.684,123.835,123.62299999999999,128.42700000000002,126.54,113.12899999999999,124.338,126.195,132.158,130.30700000000002,132.251,121.775,111.53399999999999,124.625,133.19799999999998,112.241,120.53399999999999,123.126,125.87200000000001,119.111,120.60700000000001,129.491,128.99,134.946,116.92,122.292,125.631,128.718,129.468,137.658,123.09100000000001,133.174,113.055,125.353,119.229,126.79,128.139,126.471,129.63299999999998,128.713,119.632,130.644,120.147,129.776,130.67,124.512,128.707,130.72299999999998,125.12700000000001,131.56799999999998,125.34299999999999,129.329,123.037,115.37200000000001,117.195,121.235,122.45,133.23,131.955,130.77700000000002,122.413,127.039,124.647,117.478,119.73700000000001,131.515,121.65700000000001,118.696,135.924,126.34899999999999,119.22399999999999,124.43799999999999,132.27100000000002,129.05700000000002,118.09100000000001,133.042,135.329,113.03399999999999,128.175,125.319,118.01799999999999,120.553,112.139,132.796,120.53200000000001,129.148,126.45700000000001,133.251,120.51299999999999,122.37100000000001,123.865,130.089,130.173,129.937,131.817,132.149,122.39399999999999,114.569,128.345,130.869,119.039,127.947,126.96600000000001,117.11,131.446,131.274,133.808,125.45200000000001,126.944,123.82,120.189,127.76299999999999,114.258,130.908,116.792,112.639,116.165,123.054,106.22399999999999,125.802,133.032,127.801,122.235,120.07600000000001,109.22200000000001,129.864,114.044,123.609,130.748,121.256,112.541,116.15100000000001,128.2,125.094,123.069,130.588,119.806,120.595,126.021,124.10600000000001,116.956,129.27,139.808,126.896,125.116,117.927,129.099,116.181,117.925,123.807,130.94,119.88799999999999,125.398,125.02600000000001,125.727,116.134,121.47399999999999,132.011,123.595,132.118,136.536,128.643,133.436,128.977,111.588,120.397,121.78299999999999,110.555,125.741,119.708,104.13,113.665,127.29899999999999,123.445,122.044,124.756,129.556,127.73,126.43,114.75,134.058,131.264,122.439,131.642,109.71799999999999,119.561,114.258,113.79899999999999,135.468,136.941,133.72799999999998,124.353,113.29799999999999,132.595,123.354,129.494,128.576,130.469,128.416,129.516,128.246,128.763,128.365,127.229,113.11,130.374,136.583,119.639,125.524,131.542,132.89700000000002,140.158,129.377,122.648,131.471,134.976,134.05200000000002,115.413,120.53399999999999,127.01100000000001,133.22299999999998,110.307,115.29799999999999,117.28399999999999,120.71600000000001,107.405,111.459,127.465,126.29899999999999,122.93799999999999,134.034,110.78,120.227,128.97799999999998,126.537,128.879,124.336,125.99700000000001,109.949,126.20100000000001,123.255,131.364,123.564,120.03399999999999,127.634,122.41,130.541,128.216,121.52799999999999,106.604,133.653,130.947,128.36,133.38,128.816,128.74,116.476,129.296,130.955,128.939,126.536,127.59100000000001,122.78200000000001,127.686,120.209,125.79700000000001,123.304,127.40799999999999,131.44799999999998,123.12,120.193,123.465,119.649,131.07399999999998,130.893,125.81700000000001,113.775,135.866,123.455,127.315,126.15899999999999,124.18799999999999,126.17,120.49700000000001,112.169,130.828,118.416,133.311,129.744,118.92200000000001,133.378,124.12700000000001,123.061,131.467,122.471,113.045,135.459,119.945,130.935,136.384,119.777,118.859,115.60799999999999,114.249,126.21799999999999,110.124,127.488,117.514,121.397,124.25299999999999,130.638,124.22200000000001,122.708,120.573,128.907,122.919,124.208,122.89299999999999,128.306,123.311,128.252,116.066,121.54700000000001,118.385,129.395,128.339,120.755,130.34799999999998,119.04,121.165,114.709,125.01,114.714,124.931,122.08200000000001,110.839,117.32799999999999,127.285,132.793,120.015,125.62700000000001,131.491,121.885,128.939,121.306,124.39399999999999,115.46600000000001,125.427,125.586,119.35,121.635,130.507,132.355,115.59100000000001,127.22,126.713,132.086,121.62700000000001,112.355,134.43,116.56,125.85600000000001,130.614,123.177,131.236,117.99600000000001,127.307,129.681,126.838,131.615,124.426,125.376,128.878,131.96,128.444,133.04,110.868,116.78299999999999,126.645,121.514,135.42600000000002,132.358,131.43,112.524,121.90299999999999,121.617,131.92,129.97299999999998,114.751,126.152,116.559,130.496,117.789,133.13,120.569,129.86700000000002,115.89,110.447,124.214,126.78,112.675,131.80700000000002,124.244,126.632,130.144,119.73700000000001,120.419,129.395,128.708,135.328,129.977,134.226,122.397,136.75799999999998,128.63299999999998,131.966,119.535,124.904,110.89399999999999,127.632,129.134,120.162,128.296,130.0,118.134,130.30700000000002,127.899,131.01,129.465,131.955,126.959,120.726,113.315,120.95200000000001,124.42,119.15899999999999,123.89399999999999,114.984,122.539,123.178,131.865,131.31,121.225,118.26700000000001,121.762,121.58200000000001,133.241,127.22399999999999,135.433,134.625,130.20600000000002,126.045,128.595,126.805,136.88299999999998,111.818,119.916,123.41,125.96600000000001,126.266,135.38,128.56,120.154,133.924,114.404,130.595,128.398,136.16299999999998,125.992,119.60600000000001,123.565,132.252,130.89,124.27600000000001,110.22399999999999,123.775,117.054,127.91,127.417,120.319,119.15100000000001,133.40200000000002,110.36399999999999,126.677,123.583,120.189,110.264,123.305,120.835,113.525,127.84700000000001,122.94,118.634,117.976,128.86700000000002,122.088,124.525,124.101,127.094,128.381,126.5,132.043,129.144,115.792,127.63600000000001,133.063,134.227,124.25399999999999,128.72299999999998,133.261,113.229,119.34299999999999,126.066,120.527,115.89299999999999,129.395,112.251,132.116,122.679,121.234,123.417,131.023,123.209,121.99600000000001,120.766,129.037,121.146,122.60600000000001,124.166,124.809,131.346,124.10799999999999,135.49,115.391,126.805,127.24600000000001,125.211,129.84799999999998,131.656,122.75399999999999,116.92399999999999,134.236,132.828,124.07700000000001,126.54,129.30100000000002,125.586,115.691,117.309,133.04,115.635,128.454,131.221,129.292,121.10600000000001,127.318,129.36700000000002,120.33,123.081,119.54,109.663,123.74,130.07299999999998,115.801,128.40200000000002,123.839,115.99600000000001,123.917,131.69799999999998,117.785,120.851,130.567,114.9,127.89299999999999,109.52,133.847,119.17399999999999,125.465,115.461,126.846,115.52,127.62299999999999,126.35600000000001,120.037,128.082,138.55700000000002,126.59,122.384,123.78,128.83100000000002,131.279,128.423,110.31299999999999,127.35799999999999,117.741,131.036,123.189,131.97799999999998,125.10700000000001,128.67700000000002,122.365,134.47799999999998,113.086,125.39,118.667,131.186,115.311,129.969,125.15700000000001,134.938,133.252,114.085,125.47200000000001,134.476,111.07600000000001,123.46600000000001,122.675,117.95700000000001,111.135,119.598,126.486,116.55,128.971,131.281,120.779,121.664,126.93299999999999,132.889,131.889,126.743,126.001,112.065,116.96700000000001,122.288,139.226,129.35399999999998,135.191,115.309,108.625,132.918,135.803,129.94899999999998,124.318,123.39200000000001,130.311,119.209,136.191,123.54299999999999,122.211,121.431,113.334,112.76799999999999,121.318,136.023,127.86399999999999,134.85299999999998,128.257,122.956,137.813,123.988,130.156,140.987,130.77700000000002,122.149],\"y\":[130.62371826171875,127.8966064453125,115.62702941894531,125.65003204345703,114.16645812988281,128.8950653076172,124.8997573852539,123.28536987304688,126.68737030029297,133.64845275878906,123.17914581298828,127.84197235107422,116.34098052978516,127.85820007324219,124.11921691894531,126.80714416503906,119.5304946899414,126.76126861572266,125.93986511230469,123.15877532958984,118.3872299194336,121.90515899658203,109.91781616210938,120.94686889648438,118.88123321533203,125.91384887695312,120.50263977050781,129.69940185546875,123.96009826660156,131.86961364746094,131.02249145507812,119.9131851196289,130.78836059570312,118.62406158447266,123.69929504394531,117.02810668945312,132.60765075683594,113.17949676513672,128.11996459960938,127.96302795410156,126.85724639892578,125.9738998413086,116.25055694580078,112.92369079589844,126.83344268798828,123.1949462890625,125.35059356689453,119.0509033203125,114.8531494140625,129.79278564453125,131.00228881835938,123.11559295654297,130.009033203125,123.293701171875,130.10060119628906,129.9910430908203,126.86124420166016,123.459716796875,118.98103332519531,119.43482971191406,127.53555297851562,130.044677734375,118.71798706054688,128.41998291015625,129.5446014404297,117.02896881103516,125.467529296875,124.62789916992188,127.48751068115234,121.8689956665039,128.6407470703125,117.49988555908203,130.41278076171875,131.75941467285156,129.49485778808594,126.12612915039062,129.3280487060547,125.70013427734375,130.78836059570312,130.92181396484375,117.67813873291016,127.56800842285156,131.98582458496094,112.3388900756836,119.61372375488281,117.31848907470703,128.12677001953125,124.12830352783203,117.14502716064453,129.52906799316406,127.10008239746094,126.1693344116211,115.13824462890625,126.51696014404297,124.78904724121094,130.5079345703125,127.36608123779297,129.55783081054688,121.96235656738281,131.25445556640625,125.57353973388672,131.77479553222656,119.59341430664062,127.38660430908203,120.83016967773438,123.7271728515625,130.20010375976562,123.09811401367188,126.10675811767578,118.29046630859375,128.56948852539062,121.45811462402344,129.52906799316406,129.71372985839844,130.58876037597656,130.322998046875,123.8173599243164,129.58712768554688,125.2685317993164,119.31813049316406,130.59237670898438,118.3094482421875,124.6693344116211,129.30690002441406,126.96241760253906,127.1856689453125,123.5654067993164,130.7712860107422,121.05850219726562,127.9627456665039,119.4921646118164,128.11534118652344,129.30690002441406,126.57410430908203,123.38418579101562,125.05571746826172,129.04002380371094,118.45800018310547,128.32843017578125,129.74557495117188,131.6175994873047,129.22547912597656,127.96829223632812,126.8958740234375,129.21156311035156,129.6122589111328,118.79558563232422,129.20440673828125,127.34547424316406,130.16751098632812,128.2157745361328,125.92430877685547,118.72240447998047,128.16867065429688,115.03388214111328,129.20066833496094,129.9100799560547,128.2860565185547,124.86572265625,122.43070220947266,124.61139678955078,121.71047973632812,119.88692474365234,118.47103118896484,125.0128402709961,114.3660888671875,129.69488525390625,126.64044952392578,123.97370910644531,131.26327514648438,127.34547424316406,117.37726593017578,128.9044952392578,126.43043518066406,122.43070220947266,129.8754425048828,111.72464752197266,127.49591827392578,125.00676727294922,127.34223937988281,114.71997833251953,120.50398254394531,129.68087768554688,124.98358154296875,129.68087768554688,123.95780181884766,127.49249267578125,126.87212371826172,129.20440673828125,131.18634033203125,123.07247924804688,118.89686584472656,128.696533203125,128.19447326660156,118.9605484008789,125.12802124023438,115.89176940917969,117.4898910522461,128.72705078125,127.44782257080078,128.02789306640625,126.54464721679688,126.82654571533203,118.26469421386719,123.25263214111328,117.14742279052734,115.64960479736328,130.47698974609375,110.14018249511719,130.3736114501953,121.54340362548828,128.29022216796875,121.56019592285156,130.17393493652344,125.67593383789062,127.74864959716797,114.93084716796875,121.67536926269531,124.3372802734375,118.01921081542969,123.89619445800781,129.29598999023438,114.21063232421875,114.99746704101562,124.40353393554688,124.04071044921875,129.9100799560547,128.58433532714844,116.82115936279297,127.8402328491211,123.23847961425781,129.29598999023438,127.8402328491211,122.40434265136719,121.68180847167969,129.75025939941406,129.97479248046875,129.97145080566406,115.41878509521484,129.57337951660156,128.5157012939453,125.39722442626953,126.78858184814453,127.58136749267578,119.04927062988281,127.75340270996094,125.11946105957031,125.52622985839844,131.06777954101562,129.82872009277344,130.16127014160156,127.66277313232422,120.12062072753906,128.74131774902344,135.17587280273438,129.98226928710938,125.62393188476562,125.9256362915039,130.62216186523438,127.54572296142578,118.72970581054688,117.6026382446289,120.22246551513672,127.91609954833984,125.87898254394531,123.98172760009766,133.1602325439453,116.27208709716797,115.39908599853516,130.40805053710938,117.11849975585938,127.88034057617188,114.70784759521484,128.8090362548828,129.38278198242188,124.03986358642578,121.36050415039062,120.76811981201172,127.58136749267578,125.66358184814453,123.69588470458984,126.37532806396484,123.61614990234375,127.54572296142578,123.55884552001953,119.83674621582031,129.35751342773438,132.08309936523438,112.14848327636719,128.86129760742188,123.81317901611328,128.2545166015625,117.5741195678711,122.13208770751953,129.26182556152344,122.2179183959961,132.30140686035156,126.49799346923828,123.6968994140625,127.63187408447266,125.9065170288086,130.34324645996094,130.40805053710938,122.38410186767578,124.85538482666016,119.48684692382812,119.78829193115234,130.15025329589844,126.78858184814453,125.78648376464844,127.98435974121094,131.63145446777344,123.52300262451172,130.62216186523438,124.4253921508789,130.78138732910156,124.91533660888672,129.02493286132812,122.52940368652344,128.01751708984375,131.31639099121094,117.08888244628906,131.4269256591797,111.32881164550781,117.25100708007812,127.75340270996094,119.91683959960938,120.03209686279297,121.80563354492188,116.23722839355469,109.555419921875,118.97706604003906,129.35751342773438,128.71408081054688,130.16127014160156,111.60877990722656,113.93982696533203,115.47283172607422,125.59276580810547,129.49246215820312,129.67408752441406,124.34580993652344,126.28262329101562,118.59522247314453,127.51963806152344,124.66883850097656,127.09901428222656,128.75875854492188,126.42318725585938,118.38960266113281,122.88922882080078,111.34762573242188,111.72706604003906,127.88829803466797,131.4269256591797,126.66365814208984,130.15025329589844,127.53840637207031,130.97869873046875,127.65461730957031,121.58871459960938,129.90013122558594,122.20318603515625,128.74322509765625,124.91629791259766,130.27841186523438,122.58418273925781,129.42054748535156,129.23989868164062,127.757080078125,130.42355346679688,127.96351623535156,118.1470718383789,127.66007232666016,130.50474548339844,135.31802368164062,116.96491241455078,126.07340240478516,118.53277587890625,123.62174224853516,125.07373046875,119.49077606201172,127.42133331298828,131.66702270507812,130.10804748535156,129.78884887695312,123.98484802246094,120.63082122802734,126.43376922607422,128.72976684570312,112.12454986572266,122.68598937988281,127.5703125,129.79022216796875,127.7304458618164,118.06636810302734,122.00785064697266,117.65196990966797,122.09490203857422,119.95616912841797,113.36962890625,114.97589111328125,119.38152313232422,127.54170989990234,131.6907501220703,133.01913452148438,128.32322692871094,132.0415496826172,127.8526382446289,127.05620574951172,107.71194458007812,116.64151763916016,123.22090148925781,128.5068359375,112.12454986572266,127.2580337524414,123.4156723022461,130.77908325195312,126.77608489990234,120.71985626220703,128.10025024414062,118.82075500488281,127.14022827148438,128.19998168945312,126.63935089111328,126.73023986816406,122.13288879394531,129.8643035888672,129.8323974609375,129.57418823242188,128.44874572753906,124.6148910522461,120.27082824707031,125.17357635498047,124.75162506103516,126.01045227050781,115.92550659179688,129.9379119873047,124.55335235595703,117.93673706054688,126.06979370117188,125.79341125488281,125.13175964355469,121.24016571044922,122.41797637939453,133.42822265625,128.87451171875,128.6353302001953,125.70735168457031,130.15542602539062,124.43598937988281,121.83277130126953,128.24049377441406,124.20630645751953,127.26177978515625,112.03596496582031,116.86569213867188,127.7545394897461,125.88966369628906,128.09024047851562,126.63935089111328,129.15390014648438,129.54234313964844,120.74761962890625,122.51583099365234,128.65957641601562,124.50440216064453,127.2588882446289,130.879638671875,125.70143127441406,133.4077606201172,125.74835968017578,129.77027893066406,129.76194763183594,131.26617431640625,125.00205993652344,127.58682250976562,120.38421630859375,130.37477111816406,116.88984680175781,129.2675018310547,122.81646728515625,127.76862335205078,126.21974182128906,127.80147552490234,128.37742614746094,132.2734375,119.88180541992188,125.79337310791016,125.6061019897461,127.31291198730469,130.03228759765625,125.36380767822266,126.91726684570312,129.1534881591797,126.67992401123047,126.9045639038086,125.30361938476562,128.40093994140625,122.70562744140625,123.87674713134766,129.8547821044922,123.91922760009766,122.2066421508789,129.98370361328125,125.70843505859375,130.15414428710938,127.37837982177734,129.49717712402344,112.23802185058594,124.41764068603516,127.08037567138672,127.92939758300781,120.04285430908203,118.28215789794922,125.80858612060547,124.52845001220703,116.79537963867188,125.81049346923828,129.22390747070312,126.12383270263672,133.04005432128906,134.1415557861328,124.48147583007812,126.67464447021484,129.04388427734375,129.7940673828125,119.12932586669922,111.63080596923828,110.47984313964844,116.65544128417969,127.90250396728516,115.64274597167969,129.69168090820312,128.96774291992188,118.64629364013672,125.79647827148438,126.22843170166016,115.58547973632812,125.9142074584961,129.04656982421875,129.94532775878906,125.31621551513672,114.36813354492188,125.26990509033203,127.57516479492188,126.34201049804688,126.936767578125,126.72380828857422,122.4994125366211,116.06132507324219,121.32821655273438,127.22774505615234,111.4688491821289,117.20864868164062,120.03058624267578,128.82098388671875,119.56354522705078,120.15032958984375,127.03810119628906,126.07994842529297,131.7801971435547,117.47577667236328,128.08663940429688,124.96437072753906,128.6409454345703,127.91357421875,131.9674835205078,125.83285522460938,128.18798828125,114.67588806152344,123.97911834716797,118.6092300415039,126.83434295654297,124.54421997070312,124.04285430908203,125.12013244628906,130.2657928466797,119.37726593017578,128.26780700683594,126.62247467041016,123.06643676757812,126.07994842529297,124.41764068603516,125.3807373046875,126.340576171875,129.47190856933594,127.20918273925781,123.74636840820312,127.87104797363281,123.40188598632812,114.6766586303711,125.00009155273438,125.32007598876953,125.13188171386719,130.18524169921875,131.3480224609375,128.11782836914062,121.46856689453125,126.9045639038086,123.38531494140625,121.89021301269531,121.10671997070312,128.46920776367188,116.09751892089844,127.50297546386719,128.38589477539062,129.05137634277344,118.96891784667969,125.50273132324219,129.6884765625,126.8853530883789,121.5322265625,128.86282348632812,129.07530212402344,112.86595153808594,128.4125213623047,125.3817138671875,120.74088287353516,119.35990905761719,111.34550476074219,130.38893127441406,122.27570343017578,128.77706909179688,125.3367919921875,130.07876586914062,119.39411926269531,124.59797668457031,124.61280059814453,126.9881591796875,126.45306396484375,127.4013442993164,126.66630554199219,127.1255111694336,122.16686248779297,116.68122863769531,125.4280014038086,127.84769439697266,124.4010009765625,128.44845581054688,127.6449966430664,117.80296325683594,128.68142700195312,128.78648376464844,125.53707885742188,128.92684936523438,127.13097381591797,127.83707427978516,127.32009887695312,126.75349426269531,111.51692199707031,129.36134338378906,117.88314819335938,117.68644714355469,116.52770233154297,124.93193817138672,110.43325805664062,127.06368255615234,130.00143432617188,129.4246368408203,127.29715728759766,128.49557495117188,110.86421966552734,122.8634033203125,121.91715240478516,127.32009887695312,130.6329803466797,123.89212036132812,113.66650390625,120.95364379882812,125.19034576416016,125.90895080566406,124.37008666992188,127.99357604980469,126.11760711669922,126.75813293457031,127.56838989257812,123.70545959472656,122.564208984375,128.77706909179688,130.65692138671875,127.1919174194336,129.3040771484375,125.41098022460938,126.1013412475586,118.83142852783203,120.02628326416016,122.13634490966797,129.62283325195312,119.67263793945312,122.43389892578125,127.93604278564453,120.51667022705078,117.4820556640625,130.35400390625,127.84769439697266,126.58444213867188,127.34242248535156,133.1016845703125,125.47360229492188,131.35704040527344,129.54345703125,112.97129821777344,124.50263977050781,124.05323028564453,113.34764099121094,127.48436737060547,125.52477264404297,107.3805923461914,113.866455078125,125.83792877197266,123.6660385131836,124.93193817138672,127.17652893066406,130.392822265625,128.8136444091797,127.47412109375,119.18538665771484,125.44766998291016,128.09310913085938,123.09369659423828,130.07876586914062,114.6966781616211,122.4500732421875,119.24024963378906,114.95967864990234,132.12017822265625,131.1466522216797,132.746337890625,124.49969482421875,117.49726104736328,131.41183471679688,125.68671417236328,129.11997985839844,130.79319763183594,127.33940124511719,126.96456909179688,129.22459411621094,129.22459411621094,131.08604431152344,125.2991714477539,127.04962158203125,118.91325378417969,127.61858367919922,130.7279815673828,120.6318130493164,126.05638122558594,128.18270874023438,131.9856719970703,127.74580383300781,128.00094604492188,128.91978454589844,127.52071380615234,131.09295654296875,129.60260009765625,117.03019714355469,119.16764068603516,126.8213882446289,133.6407012939453,114.46820831298828,119.45130157470703,120.66651916503906,121.72640228271484,110.85926818847656,115.37236785888672,126.57513427734375,127.33940124511719,129.67759704589844,131.9153594970703,112.14397430419922,119.94066619873047,125.05766296386719,123.9857177734375,128.92050170898438,130.4012908935547,127.47830200195312,113.2806167602539,129.11997985839844,125.75028228759766,125.03490447998047,119.30977630615234,119.07121276855469,128.5781707763672,120.66361236572266,127.46019744873047,129.690673828125,124.0303955078125,109.87837219238281,129.79505920410156,128.17422485351562,129.37405395507812,129.7045135498047,129.14886474609375,126.52001190185547,115.1727066040039,127.98810577392578,127.74540710449219,125.65941619873047,120.85404205322266,127.48815155029297,123.77153015136719,127.11329650878906,121.64835357666016,124.96086120605469,124.71063995361328,128.91978454589844,131.8755340576172,122.95183563232422,123.48736572265625,120.8801040649414,122.3307113647461,131.93765258789062,127.3584213256836,130.23377990722656,115.37903594970703,131.6006622314453,124.4685287475586,127.43009185791016,127.89480590820312,127.03738403320312,129.61636352539062,122.51202392578125,111.89445495605469,132.42962646484375,123.37828826904297,128.42630004882812,125.93019104003906,119.5754623413086,132.746337890625,122.78370666503906,122.2393798828125,127.72449493408203,125.07015228271484,117.03280639648438,128.81944274902344,120.54068756103516,130.9044189453125,128.2379150390625,123.14668273925781,119.25830841064453,118.75133514404297,115.8860092163086,127.38978576660156,113.5327377319336,127.26856231689453,123.80186462402344,122.64313507080078,125.57730865478516,125.36156463623047,123.81768035888672,125.75611877441406,127.93443298339844,125.61796569824219,122.20394897460938,124.75418090820312,124.06214904785156,124.73880004882812,123.87667846679688,127.2358627319336,119.94928741455078,126.99327850341797,119.5924301147461,129.7916717529297,127.79180145263672,121.75509643554688,130.8858642578125,127.15125274658203,122.79922485351562,120.3290023803711,124.75371551513672,123.57140350341797,122.93218994140625,123.99201965332031,113.8966293334961,123.8320083618164,127.91542053222656,132.43128967285156,128.53822326660156,129.6338348388672,127.80908203125,124.83824157714844,127.39993286132812,123.72520446777344,124.70124053955078,116.64363098144531,123.38457489013672,120.8117904663086,123.63814544677734,127.44686126708984,127.90817260742188,126.92362213134766,114.21012115478516,126.12025451660156,128.3435821533203,132.2003631591797,120.92810821533203,117.11735534667969,133.18157958984375,117.69681549072266,129.3514404296875,122.66851806640625,120.71204376220703,130.44573974609375,118.40522003173828,129.67599487304688,127.39993286132812,127.02013397216797,129.90805053710938,123.702880859375,126.67975616455078,130.7621612548828,126.38836669921875,122.004150390625,130.33380126953125,110.38774871826172,122.24301147460938,126.77313232421875,123.03258514404297,130.6388702392578,127.90817260742188,129.7398223876953,115.50192260742188,118.60722351074219,127.17063903808594,129.68145751953125,129.95448303222656,114.74134826660156,130.81797790527344,121.00946807861328,128.89382934570312,116.89531707763672,127.30068969726562,121.73979187011719,132.96397399902344,119.22492218017578,118.0207748413086,125.2808609008789,129.00381469726562,116.4942855834961,128.199462890625,125.85325622558594,127.47087097167969,129.5596160888672,118.12481689453125,120.49304962158203,127.56250762939453,127.02013397216797,130.2257080078125,127.39830780029297,129.16961669921875,120.2787857055664,132.43128967285156,126.71007537841797,127.45462799072266,120.25170135498047,125.42584228515625,113.1920166015625,126.71007537841797,128.31497192382812,120.63310241699219,128.67005920410156,127.15628051757812,113.64408874511719,126.81107330322266,126.26532745361328,129.9100341796875,127.62383270263672,126.74467468261719,126.0805892944336,121.38154602050781,117.32096099853516,128.61874389648438,126.45040130615234,118.7713623046875,127.07915496826172,112.57522583007812,127.19583129882812,126.46279907226562,129.2471923828125,133.5927276611328,123.53182220458984,117.6265640258789,121.08436584472656,129.5188751220703,128.11660766601562,123.03581237792969,132.17459106445312,129.17420959472656,127.81114196777344,128.7620086669922,125.29747772216797,131.78701782226562,130.80331420898438,120.26190185546875,117.53662109375,122.42274475097656,129.9269256591797,126.96826171875,126.83776092529297,131.54739379882812,125.22640991210938,131.1590118408203,116.3843002319336,127.62383270263672,132.2759246826172,130.88938903808594,129.21475219726562,118.59724426269531,127.56865692138672,130.7523956298828,128.8305206298828,127.33888244628906,111.52703857421875,124.06149291992188,119.8095474243164,128.63255310058594,126.94063568115234,120.1396484375,121.9897232055664,129.8645477294922,112.79220581054688,126.62633514404297,128.25978088378906,121.51338195800781,112.02159881591797,121.96820068359375,121.93321228027344,116.68208312988281,124.8556137084961,124.83515930175781,124.25821685791016,116.34417724609375,128.1556396484375,123.54663848876953,125.60819244384766,120.27365112304688,126.0463638305664,130.16311645507812,126.2928466796875,130.6732177734375,131.29592895507812,116.63268280029297,125.24627685546875,129.5880126953125,129.34185791015625,125.22859191894531,126.8191909790039,129.99412536621094,119.39520263671875,121.2575454711914,125.14488220214844,118.8465347290039,121.50660705566406,128.54788208007812,114.40422058105469,128.63243103027344,129.1659393310547,124.06763458251953,126.62633514404297,127.98005676269531,126.80618286132812,118.18955993652344,124.30673217773438,126.94063568115234,125.1623306274414,126.92668914794922,121.61482238769531,126.0805892944336,128.49832153320312,123.59854125976562,130.964111328125,111.52703857421875,128.1984405517578,124.20318603515625,126.02919006347656,132.16322326660156,131.2621307373047,118.43453979492188,126.23627471923828,126.83043670654297,130.5658721923828,123.99208068847656,127.06493377685547,125.09083557128906,130.52691650390625,116.88197326660156,118.1959228515625,130.86798095703125,118.34902954101562,129.05848693847656,127.1513900756836,126.57474517822266,120.28007507324219,129.3104248046875,128.5012664794922,121.52806091308594,124.66690063476562,127.50372314453125,116.263916015625,124.23206329345703,133.77781677246094,118.90270233154297,126.05532836914062,123.04417419433594,115.7825698852539,120.88935852050781,130.5918731689453,118.79647064208984,122.16560363769531,126.6253890991211,115.35597229003906,125.94134521484375,109.9404525756836,130.6341552734375,123.91160583496094,126.3272476196289,124.42942810058594,123.91651153564453,122.8429946899414,131.5065460205078,125.94588470458984,123.1207046508789,129.34632873535156,135.11505126953125,127.3938980102539,123.43226623535156,127.83087158203125,126.30016326904297,128.9273223876953,125.94134521484375,112.23804473876953,129.79934692382812,118.59501647949219,129.0658416748047,126.99284362792969,132.5859375,122.98979949951172,126.67669677734375,124.26947021484375,131.99334716796875,112.66464233398438,125.78226470947266,123.60674285888672,126.02361297607422,116.97171783447266,127.30902862548828,126.9693603515625,130.86767578125,126.76615905761719,119.11669921875,126.41710662841797,130.48516845703125,110.99210357666016,120.0333251953125,121.26670837402344,118.17352294921875,114.43910217285156,120.64974975585938,129.7927703857422,116.72808074951172,129.7927703857422,129.7927703857422,123.72917175292969,126.7606201171875,129.6881561279297,129.4327392578125,126.52543640136719,125.3579330444336,125.67424774169922,115.97099304199219,123.7275619506836,126.44849395751953,124.93572998046875,129.05848693847656,130.66993713378906,123.0508804321289,112.63309478759766,130.3766632080078,134.66738891601562,128.10662841796875,132.0948944091797,122.45242309570312,130.25685119628906,116.31829833984375,131.15304565429688,124.90210723876953,124.35921478271484,121.95465850830078,114.41943359375,111.15084075927734,123.5018539428711,130.06735229492188,124.13514709472656,130.06735229492188,126.76644134521484,128.9605712890625,131.99334716796875,125.54378509521484,128.83815002441406,126.6639404296875,128.29833984375,125.87669372558594]}},\"id\":\"4a553c44-077a-4bae-86ba-7083a84f4768\",\"type\":\"ColumnDataSource\"},{\"attributes\":{\"fill_alpha\":{\"value\":0.5},\"fill_color\":{\"value\":\"lightgrey\"},\"level\":\"overlay\",\"line_alpha\":{\"value\":1.0},\"line_color\":{\"value\":\"black\"},\"line_dash\":[4,4],\"line_width\":{\"value\":2},\"plot\":null,\"xs_units\":\"screen\",\"ys_units\":\"screen\"},\"id\":\"e5e5e0a4-b69f-4fd3-8cc8-8463d0f837a6\",\"type\":\"PolyAnnotation\"},{\"attributes\":{\"dimension\":1,\"plot\":{\"id\":\"c766f39c-a89e-45ae-91b7-f3554e942175\",\"subtype\":\"Figure\",\"type\":\"Plot\"},\"ticker\":{\"id\":\"5aad6943-08c9-4229-bc1b-54464fbfc148\",\"type\":\"BasicTicker\"}},\"id\":\"c4d8fad3-3dbd-4c93-abce-23c927227abf\",\"type\":\"Grid\"},{\"attributes\":{\"overlay\":{\"id\":\"192ee790-7d39-41eb-b204-3546eaeb7567\",\"type\":\"BoxAnnotation\"},\"plot\":{\"id\":\"c766f39c-a89e-45ae-91b7-f3554e942175\",\"subtype\":\"Figure\",\"type\":\"Plot\"}},\"id\":\"9e9c3673-1fd3-471d-af28-e0e7232646e1\",\"type\":\"BoxZoomTool\"},{\"attributes\":{},\"id\":\"5aad6943-08c9-4229-bc1b-54464fbfc148\",\"type\":\"BasicTicker\"},{\"attributes\":{\"callback\":null},\"id\":\"d9a04e0d-0b47-463c-ad59-c71a35e55339\",\"type\":\"DataRange1d\"},{\"attributes\":{\"plot\":{\"id\":\"c766f39c-a89e-45ae-91b7-f3554e942175\",\"subtype\":\"Figure\",\"type\":\"Plot\"}},\"id\":\"2637ef93-866d-4689-80ac-f653ac027dc2\",\"type\":\"UndoTool\"},{\"attributes\":{\"plot\":{\"id\":\"c766f39c-a89e-45ae-91b7-f3554e942175\",\"subtype\":\"Figure\",\"type\":\"Plot\"}},\"id\":\"3ff7432b-4376-45a2-b6ad-e28aff042956\",\"type\":\"WheelZoomTool\"},{\"attributes\":{\"data_source\":{\"id\":\"690f7f4d-2677-4e6d-a976-03ba05ad746d\",\"type\":\"ColumnDataSource\"},\"glyph\":{\"id\":\"d312b0bc-164c-4622-9f20-75465d66a883\",\"type\":\"Line\"},\"hover_glyph\":null,\"nonselection_glyph\":{\"id\":\"a05cc6af-40c8-4f44-9522-aab7826110aa\",\"type\":\"Line\"},\"selection_glyph\":null},\"id\":\"19681dd2-457b-4592-a422-e1f331386d24\",\"type\":\"GlyphRenderer\"},{\"attributes\":{\"bottom_units\":\"screen\",\"fill_alpha\":{\"value\":0.5},\"fill_color\":{\"value\":\"lightgrey\"},\"left_units\":\"screen\",\"level\":\"overlay\",\"line_alpha\":{\"value\":1.0},\"line_color\":{\"value\":\"black\"},\"line_dash\":[4,4],\"line_width\":{\"value\":2},\"plot\":null,\"render_mode\":\"css\",\"right_units\":\"screen\",\"top_units\":\"screen\"},\"id\":\"192ee790-7d39-41eb-b204-3546eaeb7567\",\"type\":\"BoxAnnotation\"},{\"attributes\":{\"axis_label\":\"Measured\",\"axis_label_text_color\":{\"value\":\"#aa6666\"},\"formatter\":{\"id\":\"b2233a0b-9f72-4e4b-9713-e86c53b61ec2\",\"type\":\"BasicTickFormatter\"},\"major_tick_line_color\":{\"value\":\"firebrick\"},\"major_tick_line_width\":{\"value\":3},\"minor_tick_line_color\":{\"value\":\"orange\"},\"plot\":{\"id\":\"c766f39c-a89e-45ae-91b7-f3554e942175\",\"subtype\":\"Figure\",\"type\":\"Plot\"},\"ticker\":{\"id\":\"5252d371-0cee-49bd-b0bd-37957108112d\",\"type\":\"BasicTicker\"}},\"id\":\"8468e72d-b32f-47c0-abe5-48f05b15d767\",\"type\":\"LinearAxis\"},{\"attributes\":{\"active_drag\":\"auto\",\"active_scroll\":\"auto\",\"active_tap\":\"auto\",\"tools\":[{\"id\":\"9e9c3673-1fd3-471d-af28-e0e7232646e1\",\"type\":\"BoxZoomTool\"},{\"id\":\"3fce60ac-3ba4-4f97-ada5-dd60b3df0398\",\"type\":\"BoxSelectTool\"},{\"id\":\"7c2f69fa-60e3-48bf-bb52-9af116d4efd2\",\"type\":\"CrosshairTool\"},{\"id\":\"b20b53f0-8541-45b1-bc1a-abc75f3307f8\",\"type\":\"ResizeTool\"},{\"id\":\"8ee231c9-3908-43dd-9a21-63d0c0924c18\",\"type\":\"ResetTool\"},{\"id\":\"bea05154-9b64-440d-b8be-79900f365865\",\"type\":\"LassoSelectTool\"},{\"id\":\"ba36017c-1560-4d56-bca2-ae29e51bf472\",\"type\":\"PanTool\"},{\"id\":\"3d82a20a-8edc-4277-90bb-73f093e878de\",\"type\":\"SaveTool\"},{\"id\":\"f6041841-7aaa-436d-884e-e2a7cffa2485\",\"type\":\"PolySelectTool\"},{\"id\":\"bb5c12ad-6827-45a3-8d09-68b0de801994\",\"type\":\"TapTool\"},{\"id\":\"3ff7432b-4376-45a2-b6ad-e28aff042956\",\"type\":\"WheelZoomTool\"},{\"id\":\"2637ef93-866d-4689-80ac-f653ac027dc2\",\"type\":\"UndoTool\"}]},\"id\":\"706f30b9-e9dd-4705-addf-81a6ed26d950\",\"type\":\"Toolbar\"},{\"attributes\":{\"align\":\"center\",\"plot\":null,\"text\":null},\"id\":\"30f7a21f-19e7-4b5a-8d82-90efcd1db441\",\"type\":\"Title\"},{\"attributes\":{},\"id\":\"03f14588-e2ff-497d-8478-7a16eefa8b21\",\"type\":\"BasicTickFormatter\"},{\"attributes\":{\"plot\":{\"id\":\"c766f39c-a89e-45ae-91b7-f3554e942175\",\"subtype\":\"Figure\",\"type\":\"Plot\"}},\"id\":\"ba36017c-1560-4d56-bca2-ae29e51bf472\",\"type\":\"PanTool\"},{\"attributes\":{},\"id\":\"5252d371-0cee-49bd-b0bd-37957108112d\",\"type\":\"BasicTicker\"},{\"attributes\":{\"plot\":{\"id\":\"c766f39c-a89e-45ae-91b7-f3554e942175\",\"subtype\":\"Figure\",\"type\":\"Plot\"}},\"id\":\"7c2f69fa-60e3-48bf-bb52-9af116d4efd2\",\"type\":\"CrosshairTool\"}],\"root_ids\":[\"c766f39c-a89e-45ae-91b7-f3554e942175\"]},\"title\":\"Bokeh Application\",\"version\":\"0.12.2\"}};\n",
       "            var render_items = [{\"docid\":\"1d45bdbf-39a8-451b-9ed6-e613b437bcc5\",\"elementid\":\"e04e6224-c958-4faa-b94a-e435284c5627\",\"modelid\":\"c766f39c-a89e-45ae-91b7-f3554e942175\"}];\n",
       "            \n",
       "            Bokeh.embed.embed_items(docs_json, render_items);\n",
       "        });\n",
       "      },\n",
       "      function(Bokeh) {\n",
       "      }\n",
       "    ];\n",
       "  \n",
       "    function run_inline_js() {\n",
       "      \n",
       "      if ((window.Bokeh !== undefined) || (force === \"1\")) {\n",
       "        for (var i = 0; i < inline_js.length; i++) {\n",
       "          inline_js[i](window.Bokeh);\n",
       "        }if (force === \"1\") {\n",
       "          display_loaded();\n",
       "        }} else if (Date.now() < window._bokeh_timeout) {\n",
       "        setTimeout(run_inline_js, 100);\n",
       "      } else if (!window._bokeh_failed_load) {\n",
       "        console.log(\"Bokeh: BokehJS failed to load within specified timeout.\");\n",
       "        window._bokeh_failed_load = true;\n",
       "      } else if (!force) {\n",
       "        var cell = $(\"#e04e6224-c958-4faa-b94a-e435284c5627\").parents('.cell').data().cell;\n",
       "        cell.output_area.append_execute_result(NB_LOAD_WARNING)\n",
       "      }\n",
       "  \n",
       "    }\n",
       "  \n",
       "    if (window._bokeh_is_loading === 0) {\n",
       "      console.log(\"Bokeh: BokehJS loaded, going straight to plotting\");\n",
       "      run_inline_js();\n",
       "    } else {\n",
       "      load_libs(js_urls, function() {\n",
       "        console.log(\"Bokeh: BokehJS plotting callback run at\", now());\n",
       "        run_inline_js();\n",
       "      });\n",
       "    }\n",
       "  }(this));\n",
       "</script>"
      ]
     },
     "metadata": {},
     "output_type": "display_data"
    }
   ],
   "source": [
    "# Plotining using bokeh\n",
    "#TOOLS = [BoxSelectTool(), HoverTool()]\n",
    "#TOOLS = 'hover,box_zoom,box_select,crosshair,resize,reset,DecisionTreeRegressor_select,pan,save,poly_select,tap,wheel_zoom,undo'\n",
    "TOOLS = 'box_zoom,box_select,crosshair,resize,reset,lasso_select,pan,save,poly_select,tap,wheel_zoom,undo'\n",
    "p = figure(plot_width=500, plot_height=500, tools=TOOLS)\n",
    "p.scatter(Y, predicted,x=\"jjj\", marker=\"o\", color=\"#80B1D3\", line_width=3)\n",
    "p.title.align = \"center\"\n",
    "p.xaxis.axis_label = \"Measured\"\n",
    "p.xaxis.axis_label_text_color = \"#aa6666\"\n",
    "#p.xaxis.axis_label_standoff = 30\n",
    "p.xaxis.major_tick_line_color = \"firebrick\"\n",
    "p.xaxis.major_tick_line_width = 3\n",
    "p.xaxis.minor_tick_line_color = \"orange\"\n",
    "p.yaxis.axis_label = \"Predicted\"\n",
    "p.yaxis.axis_label_text_font_style = \"italic\"\n",
    "p.yaxis.axis_label_text_color = \"#aa6666\"\n",
    "p.background_fill_color = \"beige\"\n",
    "p.background_fill_alpha = 0.5\n",
    "#p.line([Y.min(), Y.max()], [Y.min(), Y.max()], line_dash=\"4 4\", line_width=2, color='red')\n",
    "\n",
    "# create a new plot with the toolbar below\n",
    "# line_dash=\"4 4\", line_width=2, color='red'\n",
    "p.line([Y.min(), Y.max()], [Y.min(), Y.max()], line_dash=\"4 4\", line_width=2, line_color=\"black\")\n",
    "show(p)"
   ]
  },
  {
   "cell_type": "code",
   "execution_count": 17,
   "metadata": {
    "collapsed": false
   },
   "outputs": [
    {
     "data": {
      "text/plain": [
       "<matplotlib.text.Text at 0x7f4443fa6c10>"
      ]
     },
     "execution_count": 17,
     "metadata": {},
     "output_type": "execute_result"
    },
    {
     "data": {
      "image/png": "[encoded data removed]",
      "text/plain": [
       "<matplotlib.figure.Figure at 0x7f4443a8e1d0>"
      ]
     },
     "metadata": {},
     "output_type": "display_data"
    }
   ],
   "source": [
    "plt.scatter(predicted, (predicted - Y), c='r', s=30)\n",
    "plt.title(\"Residual plot on the training data\")\n",
    "plt.xlabel(\"Predicted\")\n",
    "plt.ylabel(\"Residuals\")"
   ]
  },
  {
   "cell_type": "code",
   "execution_count": 18,
   "metadata": {
    "collapsed": false
   },
   "outputs": [
    {
     "data": {
      "text/html": [
       "\n",
       "\n",
       "    <div class=\"bk-root\">\n",
       "        <div class=\"plotdiv\" id=\"f8f116c6-91a3-4616-945f-c8f5a6e7270b\"></div>\n",
       "    </div>\n",
       "<script type=\"text/javascript\">\n",
       "  \n",
       "  (function(global) {\n",
       "    function now() {\n",
       "      return new Date();\n",
       "    }\n",
       "  \n",
       "    var force = \"\";\n",
       "  \n",
       "    if (typeof (window._bokeh_onload_callbacks) === \"undefined\" || force !== \"\") {\n",
       "      window._bokeh_onload_callbacks = [];\n",
       "      window._bokeh_is_loading = undefined;\n",
       "    }\n",
       "  \n",
       "  \n",
       "    \n",
       "    if (typeof (window._bokeh_timeout) === \"undefined\" || force !== \"\") {\n",
       "      window._bokeh_timeout = Date.now() + 0;\n",
       "      window._bokeh_failed_load = false;\n",
       "    }\n",
       "  \n",
       "    var NB_LOAD_WARNING = {'data': {'text/html':\n",
       "       \"<div style='background-color: #fdd'>\\n\"+\n",
       "       \"<p>\\n\"+\n",
       "       \"BokehJS does not appear to have successfully loaded. If loading BokehJS from CDN, this \\n\"+\n",
       "       \"may be due to a slow or bad network connection. Possible fixes:\\n\"+\n",
       "       \"</p>\\n\"+\n",
       "       \"<ul>\\n\"+\n",
       "       \"<li>re-rerun `output_notebook()` to attempt to load from CDN again, or</li>\\n\"+\n",
       "       \"<li>use INLINE resources instead, as so:</li>\\n\"+\n",
       "       \"</ul>\\n\"+\n",
       "       \"<code>\\n\"+\n",
       "       \"from bokeh.resources import INLINE\\n\"+\n",
       "       \"output_notebook(resources=INLINE)\\n\"+\n",
       "       \"</code>\\n\"+\n",
       "       \"</div>\"}};\n",
       "  \n",
       "    function display_loaded() {\n",
       "      if (window.Bokeh !== undefined) {\n",
       "        Bokeh.$(\"#f8f116c6-91a3-4616-945f-c8f5a6e7270b\").text(\"BokehJS successfully loaded.\");\n",
       "      } else if (Date.now() < window._bokeh_timeout) {\n",
       "        setTimeout(display_loaded, 100)\n",
       "      }\n",
       "    }\n",
       "  \n",
       "    function run_callbacks() {\n",
       "      window._bokeh_onload_callbacks.forEach(function(callback) { callback() });\n",
       "      delete window._bokeh_onload_callbacks\n",
       "      console.info(\"Bokeh: all callbacks have finished\");\n",
       "    }\n",
       "  \n",
       "    function load_libs(js_urls, callback) {\n",
       "      window._bokeh_onload_callbacks.push(callback);\n",
       "      if (window._bokeh_is_loading > 0) {\n",
       "        console.log(\"Bokeh: BokehJS is being loaded, scheduling callback at\", now());\n",
       "        return null;\n",
       "      }\n",
       "      if (js_urls == null || js_urls.length === 0) {\n",
       "        run_callbacks();\n",
       "        return null;\n",
       "      }\n",
       "      console.log(\"Bokeh: BokehJS not loaded, scheduling load and callback at\", now());\n",
       "      window._bokeh_is_loading = js_urls.length;\n",
       "      for (var i = 0; i < js_urls.length; i++) {\n",
       "        var url = js_urls[i];\n",
       "        var s = document.createElement('script');\n",
       "        s.src = url;\n",
       "        s.async = false;\n",
       "        s.onreadystatechange = s.onload = function() {\n",
       "          window._bokeh_is_loading--;\n",
       "          if (window._bokeh_is_loading === 0) {\n",
       "            console.log(\"Bokeh: all BokehJS libraries loaded\");\n",
       "            run_callbacks()\n",
       "          }\n",
       "        };\n",
       "        s.onerror = function() {\n",
       "          console.warn(\"failed to load library \" + url);\n",
       "        };\n",
       "        console.log(\"Bokeh: injecting script tag for BokehJS library: \", url);\n",
       "        document.getElementsByTagName(\"head\")[0].appendChild(s);\n",
       "      }\n",
       "    };var element = document.getElementById(\"f8f116c6-91a3-4616-945f-c8f5a6e7270b\");\n",
       "    if (element == null) {\n",
       "      console.log(\"Bokeh: ERROR: autoload.js configured with elementid 'f8f116c6-91a3-4616-945f-c8f5a6e7270b' but no matching script tag was found. \")\n",
       "      return false;\n",
       "    }\n",
       "  \n",
       "    var js_urls = [];\n",
       "  \n",
       "    var inline_js = [\n",
       "      function(Bokeh) {\n",
       "        Bokeh.$(function() {\n",
       "            var docs_json = {\"ff2c99b8-6da0-4c84-83c7-428a68fb9a33\":{\"roots\":{\"references\":[{\"attributes\":{\"callback\":null,\"overlay\":{\"id\":\"64c5f030-3c66-455b-bab7-4dd8a9e56727\",\"type\":\"PolyAnnotation\"},\"plot\":{\"id\":\"efb21a4c-f3cb-4228-a75e-61b1a07766d9\",\"subtype\":\"Figure\",\"type\":\"Plot\"}},\"id\":\"5ca06cc0-8f1d-49d7-a70d-c95c29dc4d1f\",\"type\":\"LassoSelectTool\"},{\"attributes\":{\"bottom_units\":\"screen\",\"fill_alpha\":{\"value\":0.5},\"fill_color\":{\"value\":\"lightgrey\"},\"left_units\":\"screen\",\"level\":\"overlay\",\"line_alpha\":{\"value\":1.0},\"line_color\":{\"value\":\"black\"},\"line_dash\":[4,4],\"line_width\":{\"value\":2},\"plot\":null,\"render_mode\":\"css\",\"right_units\":\"screen\",\"top_units\":\"screen\"},\"id\":\"038bf31f-1d3a-4dd9-8fe9-c4f22c5470ee\",\"type\":\"BoxAnnotation\"},{\"attributes\":{\"data_source\":{\"id\":\"ee36ef43-e0a7-4d9d-bd5e-314fa1d6fc65\",\"type\":\"ColumnDataSource\"},\"glyph\":{\"id\":\"e947e96b-231d-4389-88fd-231850fd6884\",\"type\":\"Circle\"},\"hover_glyph\":null,\"nonselection_glyph\":{\"id\":\"ad7ca5a6-49f0-4248-98b1-28cc0d3acbdf\",\"type\":\"Circle\"},\"selection_glyph\":null},\"id\":\"21fc5f38-f9fb-443d-8c8a-d645904bd061\",\"type\":\"GlyphRenderer\"},{\"attributes\":{\"align\":\"center\",\"plot\":null,\"text\":\"Residual plot on the training data\"},\"id\":\"70e799bd-07fb-4d36-a63a-1497fbcfcfeb\",\"type\":\"Title\"},{\"attributes\":{\"callback\":null,\"column_names\":[\"x\",\"y\"],\"data\":{\"x\":[130.62371826171875,127.8966064453125,115.62702941894531,125.65003204345703,114.16645812988281,128.8950653076172,124.8997573852539,123.28536987304688,126.68737030029297,133.64845275878906,123.17914581298828,127.84197235107422,116.34098052978516,127.85820007324219,124.11921691894531,126.80714416503906,119.5304946899414,126.76126861572266,125.93986511230469,123.15877532958984,118.3872299194336,121.90515899658203,109.91781616210938,120.94686889648438,118.88123321533203,125.91384887695312,120.50263977050781,129.69940185546875,123.96009826660156,131.86961364746094,131.02249145507812,119.9131851196289,130.78836059570312,118.62406158447266,123.69929504394531,117.02810668945312,132.60765075683594,113.17949676513672,128.11996459960938,127.96302795410156,126.85724639892578,125.9738998413086,116.25055694580078,112.92369079589844,126.83344268798828,123.1949462890625,125.35059356689453,119.0509033203125,114.8531494140625,129.79278564453125,131.00228881835938,123.11559295654297,130.009033203125,123.293701171875,130.10060119628906,129.9910430908203,126.86124420166016,123.459716796875,118.98103332519531,119.43482971191406,127.53555297851562,130.044677734375,118.71798706054688,128.41998291015625,129.5446014404297,117.02896881103516,125.467529296875,124.62789916992188,127.48751068115234,121.8689956665039,128.6407470703125,117.49988555908203,130.41278076171875,131.75941467285156,129.49485778808594,126.12612915039062,129.3280487060547,125.70013427734375,130.78836059570312,130.92181396484375,117.67813873291016,127.56800842285156,131.98582458496094,112.3388900756836,119.61372375488281,117.31848907470703,128.12677001953125,124.12830352783203,117.14502716064453,129.52906799316406,127.10008239746094,126.1693344116211,115.13824462890625,126.51696014404297,124.78904724121094,130.5079345703125,127.36608123779297,129.55783081054688,121.96235656738281,131.25445556640625,125.57353973388672,131.77479553222656,119.59341430664062,127.38660430908203,120.83016967773438,123.7271728515625,130.20010375976562,123.09811401367188,126.10675811767578,118.29046630859375,128.56948852539062,121.45811462402344,129.52906799316406,129.71372985839844,130.58876037597656,130.322998046875,123.8173599243164,129.58712768554688,125.2685317993164,119.31813049316406,130.59237670898438,118.3094482421875,124.6693344116211,129.30690002441406,126.96241760253906,127.1856689453125,123.5654067993164,130.7712860107422,121.05850219726562,127.9627456665039,119.4921646118164,128.11534118652344,129.30690002441406,126.57410430908203,123.38418579101562,125.05571746826172,129.04002380371094,118.45800018310547,128.32843017578125,129.74557495117188,131.6175994873047,129.22547912597656,127.96829223632812,126.8958740234375,129.21156311035156,129.6122589111328,118.79558563232422,129.20440673828125,127.34547424316406,130.16751098632812,128.2157745361328,125.92430877685547,118.72240447998047,128.16867065429688,115.03388214111328,129.20066833496094,129.9100799560547,128.2860565185547,124.86572265625,122.43070220947266,124.61139678955078,121.71047973632812,119.88692474365234,118.47103118896484,125.0128402709961,114.3660888671875,129.69488525390625,126.64044952392578,123.97370910644531,131.26327514648438,127.34547424316406,117.37726593017578,128.9044952392578,126.43043518066406,122.43070220947266,129.8754425048828,111.72464752197266,127.49591827392578,125.00676727294922,127.34223937988281,114.71997833251953,120.50398254394531,129.68087768554688,124.98358154296875,129.68087768554688,123.95780181884766,127.49249267578125,126.87212371826172,129.20440673828125,131.18634033203125,123.07247924804688,118.89686584472656,128.696533203125,128.19447326660156,118.9605484008789,125.12802124023438,115.89176940917969,117.4898910522461,128.72705078125,127.44782257080078,128.02789306640625,126.54464721679688,126.82654571533203,118.26469421386719,123.25263214111328,117.14742279052734,115.64960479736328,130.47698974609375,110.14018249511719,130.3736114501953,121.54340362548828,128.29022216796875,121.56019592285156,130.17393493652344,125.67593383789062,127.74864959716797,114.93084716796875,121.67536926269531,124.3372802734375,118.01921081542969,123.89619445800781,129.29598999023438,114.21063232421875,114.99746704101562,124.40353393554688,124.04071044921875,129.9100799560547,128.58433532714844,116.82115936279297,127.8402328491211,123.23847961425781,129.29598999023438,127.8402328491211,122.40434265136719,121.68180847167969,129.75025939941406,129.97479248046875,129.97145080566406,115.41878509521484,129.57337951660156,128.5157012939453,125.39722442626953,126.78858184814453,127.58136749267578,119.04927062988281,127.75340270996094,125.11946105957031,125.52622985839844,131.06777954101562,129.82872009277344,130.16127014160156,127.66277313232422,120.12062072753906,128.74131774902344,135.17587280273438,129.98226928710938,125.62393188476562,125.9256362915039,130.62216186523438,127.54572296142578,118.72970581054688,117.6026382446289,120.22246551513672,127.91609954833984,125.87898254394531,123.98172760009766,133.1602325439453,116.27208709716797,115.39908599853516,130.40805053710938,117.11849975585938,127.88034057617188,114.70784759521484,128.8090362548828,129.38278198242188,124.03986358642578,121.36050415039062,120.76811981201172,127.58136749267578,125.66358184814453,123.69588470458984,126.37532806396484,123.61614990234375,127.54572296142578,123.55884552001953,119.83674621582031,129.35751342773438,132.08309936523438,112.14848327636719,128.86129760742188,123.81317901611328,128.2545166015625,117.5741195678711,122.13208770751953,129.26182556152344,122.2179183959961,132.30140686035156,126.49799346923828,123.6968994140625,127.63187408447266,125.9065170288086,130.34324645996094,130.40805053710938,122.38410186767578,124.85538482666016,119.48684692382812,119.78829193115234,130.15025329589844,126.78858184814453,125.78648376464844,127.98435974121094,131.63145446777344,123.52300262451172,130.62216186523438,124.4253921508789,130.78138732910156,124.91533660888672,129.02493286132812,122.52940368652344,128.01751708984375,131.31639099121094,117.08888244628906,131.4269256591797,111.32881164550781,117.25100708007812,127.75340270996094,119.91683959960938,120.03209686279297,121.80563354492188,116.23722839355469,109.555419921875,118.97706604003906,129.35751342773438,128.71408081054688,130.16127014160156,111.60877990722656,113.93982696533203,115.47283172607422,125.59276580810547,129.49246215820312,129.67408752441406,124.34580993652344,126.28262329101562,118.59522247314453,127.51963806152344,124.66883850097656,127.09901428222656,128.75875854492188,126.42318725585938,118.38960266113281,122.88922882080078,111.34762573242188,111.72706604003906,127.88829803466797,131.4269256591797,126.66365814208984,130.15025329589844,127.53840637207031,130.97869873046875,127.65461730957031,121.58871459960938,129.90013122558594,122.20318603515625,128.74322509765625,124.91629791259766,130.27841186523438,122.58418273925781,129.42054748535156,129.23989868164062,127.757080078125,130.42355346679688,127.96351623535156,118.1470718383789,127.66007232666016,130.50474548339844,135.31802368164062,116.96491241455078,126.07340240478516,118.53277587890625,123.62174224853516,125.07373046875,119.49077606201172,127.42133331298828,131.66702270507812,130.10804748535156,129.78884887695312,123.98484802246094,120.63082122802734,126.43376922607422,128.72976684570312,112.12454986572266,122.68598937988281,127.5703125,129.79022216796875,127.7304458618164,118.06636810302734,122.00785064697266,117.65196990966797,122.09490203857422,119.95616912841797,113.36962890625,114.97589111328125,119.38152313232422,127.54170989990234,131.6907501220703,133.01913452148438,128.32322692871094,132.0415496826172,127.8526382446289,127.05620574951172,107.71194458007812,116.64151763916016,123.22090148925781,128.5068359375,112.12454986572266,127.2580337524414,123.4156723022461,130.77908325195312,126.77608489990234,120.71985626220703,128.10025024414062,118.82075500488281,127.14022827148438,128.19998168945312,126.63935089111328,126.73023986816406,122.13288879394531,129.8643035888672,129.8323974609375,129.57418823242188,128.44874572753906,124.6148910522461,120.27082824707031,125.17357635498047,124.75162506103516,126.01045227050781,115.92550659179688,129.9379119873047,124.55335235595703,117.93673706054688,126.06979370117188,125.79341125488281,125.13175964355469,121.24016571044922,122.41797637939453,133.42822265625,128.87451171875,128.6353302001953,125.70735168457031,130.15542602539062,124.43598937988281,121.83277130126953,128.24049377441406,124.20630645751953,127.26177978515625,112.03596496582031,116.86569213867188,127.7545394897461,125.88966369628906,128.09024047851562,126.63935089111328,129.15390014648438,129.54234313964844,120.74761962890625,122.51583099365234,128.65957641601562,124.50440216064453,127.2588882446289,130.879638671875,125.70143127441406,133.4077606201172,125.74835968017578,129.77027893066406,129.76194763183594,131.26617431640625,125.00205993652344,127.58682250976562,120.38421630859375,130.37477111816406,116.88984680175781,129.2675018310547,122.81646728515625,127.76862335205078,126.21974182128906,127.80147552490234,128.37742614746094,132.2734375,119.88180541992188,125.79337310791016,125.6061019897461,127.31291198730469,130.03228759765625,125.36380767822266,126.91726684570312,129.1534881591797,126.67992401123047,126.9045639038086,125.30361938476562,128.40093994140625,122.70562744140625,123.87674713134766,129.8547821044922,123.91922760009766,122.2066421508789,129.98370361328125,125.70843505859375,130.15414428710938,127.37837982177734,129.49717712402344,112.23802185058594,124.41764068603516,127.08037567138672,127.92939758300781,120.04285430908203,118.28215789794922,125.80858612060547,124.52845001220703,116.79537963867188,125.81049346923828,129.22390747070312,126.12383270263672,133.04005432128906,134.1415557861328,124.48147583007812,126.67464447021484,129.04388427734375,129.7940673828125,119.12932586669922,111.63080596923828,110.47984313964844,116.65544128417969,127.90250396728516,115.64274597167969,129.69168090820312,128.96774291992188,118.64629364013672,125.79647827148438,126.22843170166016,115.58547973632812,125.9142074584961,129.04656982421875,129.94532775878906,125.31621551513672,114.36813354492188,125.26990509033203,127.57516479492188,126.34201049804688,126.936767578125,126.72380828857422,122.4994125366211,116.06132507324219,121.32821655273438,127.22774505615234,111.4688491821289,117.20864868164062,120.03058624267578,128.82098388671875,119.56354522705078,120.15032958984375,127.03810119628906,126.07994842529297,131.7801971435547,117.47577667236328,128.08663940429688,124.96437072753906,128.6409454345703,127.91357421875,131.9674835205078,125.83285522460938,128.18798828125,114.67588806152344,123.97911834716797,118.6092300415039,126.83434295654297,124.54421997070312,124.04285430908203,125.12013244628906,130.2657928466797,119.37726593017578,128.26780700683594,126.62247467041016,123.06643676757812,126.07994842529297,124.41764068603516,125.3807373046875,126.340576171875,129.47190856933594,127.20918273925781,123.74636840820312,127.87104797363281,123.40188598632812,114.6766586303711,125.00009155273438,125.32007598876953,125.13188171386719,130.18524169921875,131.3480224609375,128.11782836914062,121.46856689453125,126.9045639038086,123.38531494140625,121.89021301269531,121.10671997070312,128.46920776367188,116.09751892089844,127.50297546386719,128.38589477539062,129.05137634277344,118.96891784667969,125.50273132324219,129.6884765625,126.8853530883789,121.5322265625,128.86282348632812,129.07530212402344,112.86595153808594,128.4125213623047,125.3817138671875,120.74088287353516,119.35990905761719,111.34550476074219,130.38893127441406,122.27570343017578,128.77706909179688,125.3367919921875,130.07876586914062,119.39411926269531,124.59797668457031,124.61280059814453,126.9881591796875,126.45306396484375,127.4013442993164,126.66630554199219,127.1255111694336,122.16686248779297,116.68122863769531,125.4280014038086,127.84769439697266,124.4010009765625,128.44845581054688,127.6449966430664,117.80296325683594,128.68142700195312,128.78648376464844,125.53707885742188,128.92684936523438,127.13097381591797,127.83707427978516,127.32009887695312,126.75349426269531,111.51692199707031,129.36134338378906,117.88314819335938,117.68644714355469,116.52770233154297,124.93193817138672,110.43325805664062,127.06368255615234,130.00143432617188,129.4246368408203,127.29715728759766,128.49557495117188,110.86421966552734,122.8634033203125,121.91715240478516,127.32009887695312,130.6329803466797,123.89212036132812,113.66650390625,120.95364379882812,125.19034576416016,125.90895080566406,124.37008666992188,127.99357604980469,126.11760711669922,126.75813293457031,127.56838989257812,123.70545959472656,122.564208984375,128.77706909179688,130.65692138671875,127.1919174194336,129.3040771484375,125.41098022460938,126.1013412475586,118.83142852783203,120.02628326416016,122.13634490966797,129.62283325195312,119.67263793945312,122.43389892578125,127.93604278564453,120.51667022705078,117.4820556640625,130.35400390625,127.84769439697266,126.58444213867188,127.34242248535156,133.1016845703125,125.47360229492188,131.35704040527344,129.54345703125,112.97129821777344,124.50263977050781,124.05323028564453,113.34764099121094,127.48436737060547,125.52477264404297,107.3805923461914,113.866455078125,125.83792877197266,123.6660385131836,124.93193817138672,127.17652893066406,130.392822265625,128.8136444091797,127.47412109375,119.18538665771484,125.44766998291016,128.09310913085938,123.09369659423828,130.07876586914062,114.6966781616211,122.4500732421875,119.24024963378906,114.95967864990234,132.12017822265625,131.1466522216797,132.746337890625,124.49969482421875,117.49726104736328,131.41183471679688,125.68671417236328,129.11997985839844,130.79319763183594,127.33940124511719,126.96456909179688,129.22459411621094,129.22459411621094,131.08604431152344,125.2991714477539,127.04962158203125,118.91325378417969,127.61858367919922,130.7279815673828,120.6318130493164,126.05638122558594,128.18270874023438,131.9856719970703,127.74580383300781,128.00094604492188,128.91978454589844,127.52071380615234,131.09295654296875,129.60260009765625,117.03019714355469,119.16764068603516,126.8213882446289,133.6407012939453,114.46820831298828,119.45130157470703,120.66651916503906,121.72640228271484,110.85926818847656,115.37236785888672,126.57513427734375,127.33940124511719,129.67759704589844,131.9153594970703,112.14397430419922,119.94066619873047,125.05766296386719,123.9857177734375,128.92050170898438,130.4012908935547,127.47830200195312,113.2806167602539,129.11997985839844,125.75028228759766,125.03490447998047,119.30977630615234,119.07121276855469,128.5781707763672,120.66361236572266,127.46019744873047,129.690673828125,124.0303955078125,109.87837219238281,129.79505920410156,128.17422485351562,129.37405395507812,129.7045135498047,129.14886474609375,126.52001190185547,115.1727066040039,127.98810577392578,127.74540710449219,125.65941619873047,120.85404205322266,127.48815155029297,123.77153015136719,127.11329650878906,121.64835357666016,124.96086120605469,124.71063995361328,128.91978454589844,131.8755340576172,122.95183563232422,123.48736572265625,120.8801040649414,122.3307113647461,131.93765258789062,127.3584213256836,130.23377990722656,115.37903594970703,131.6006622314453,124.4685287475586,127.43009185791016,127.89480590820312,127.03738403320312,129.61636352539062,122.51202392578125,111.89445495605469,132.42962646484375,123.37828826904297,128.42630004882812,125.93019104003906,119.5754623413086,132.746337890625,122.78370666503906,122.2393798828125,127.72449493408203,125.07015228271484,117.03280639648438,128.81944274902344,120.54068756103516,130.9044189453125,128.2379150390625,123.14668273925781,119.25830841064453,118.75133514404297,115.8860092163086,127.38978576660156,113.5327377319336,127.26856231689453,123.80186462402344,122.64313507080078,125.57730865478516,125.36156463623047,123.81768035888672,125.75611877441406,127.93443298339844,125.61796569824219,122.20394897460938,124.75418090820312,124.06214904785156,124.73880004882812,123.87667846679688,127.2358627319336,119.94928741455078,126.99327850341797,119.5924301147461,129.7916717529297,127.79180145263672,121.75509643554688,130.8858642578125,127.15125274658203,122.79922485351562,120.3290023803711,124.75371551513672,123.57140350341797,122.93218994140625,123.99201965332031,113.8966293334961,123.8320083618164,127.91542053222656,132.43128967285156,128.53822326660156,129.6338348388672,127.80908203125,124.83824157714844,127.39993286132812,123.72520446777344,124.70124053955078,116.64363098144531,123.38457489013672,120.8117904663086,123.63814544677734,127.44686126708984,127.90817260742188,126.92362213134766,114.21012115478516,126.12025451660156,128.3435821533203,132.2003631591797,120.92810821533203,117.11735534667969,133.18157958984375,117.69681549072266,129.3514404296875,122.66851806640625,120.71204376220703,130.44573974609375,118.40522003173828,129.67599487304688,127.39993286132812,127.02013397216797,129.90805053710938,123.702880859375,126.67975616455078,130.7621612548828,126.38836669921875,122.004150390625,130.33380126953125,110.38774871826172,122.24301147460938,126.77313232421875,123.03258514404297,130.6388702392578,127.90817260742188,129.7398223876953,115.50192260742188,118.60722351074219,127.17063903808594,129.68145751953125,129.95448303222656,114.74134826660156,130.81797790527344,121.00946807861328,128.89382934570312,116.89531707763672,127.30068969726562,121.73979187011719,132.96397399902344,119.22492218017578,118.0207748413086,125.2808609008789,129.00381469726562,116.4942855834961,128.199462890625,125.85325622558594,127.47087097167969,129.5596160888672,118.12481689453125,120.49304962158203,127.56250762939453,127.02013397216797,130.2257080078125,127.39830780029297,129.16961669921875,120.2787857055664,132.43128967285156,126.71007537841797,127.45462799072266,120.25170135498047,125.42584228515625,113.1920166015625,126.71007537841797,128.31497192382812,120.63310241699219,128.67005920410156,127.15628051757812,113.64408874511719,126.81107330322266,126.26532745361328,129.9100341796875,127.62383270263672,126.74467468261719,126.0805892944336,121.38154602050781,117.32096099853516,128.61874389648438,126.45040130615234,118.7713623046875,127.07915496826172,112.57522583007812,127.19583129882812,126.46279907226562,129.2471923828125,133.5927276611328,123.53182220458984,117.6265640258789,121.08436584472656,129.5188751220703,128.11660766601562,123.03581237792969,132.17459106445312,129.17420959472656,127.81114196777344,128.7620086669922,125.29747772216797,131.78701782226562,130.80331420898438,120.26190185546875,117.53662109375,122.42274475097656,129.9269256591797,126.96826171875,126.83776092529297,131.54739379882812,125.22640991210938,131.1590118408203,116.3843002319336,127.62383270263672,132.2759246826172,130.88938903808594,129.21475219726562,118.59724426269531,127.56865692138672,130.7523956298828,128.8305206298828,127.33888244628906,111.52703857421875,124.06149291992188,119.8095474243164,128.63255310058594,126.94063568115234,120.1396484375,121.9897232055664,129.8645477294922,112.79220581054688,126.62633514404297,128.25978088378906,121.51338195800781,112.02159881591797,121.96820068359375,121.93321228027344,116.68208312988281,124.8556137084961,124.83515930175781,124.25821685791016,116.34417724609375,128.1556396484375,123.54663848876953,125.60819244384766,120.27365112304688,126.0463638305664,130.16311645507812,126.2928466796875,130.6732177734375,131.29592895507812,116.63268280029297,125.24627685546875,129.5880126953125,129.34185791015625,125.22859191894531,126.8191909790039,129.99412536621094,119.39520263671875,121.2575454711914,125.14488220214844,118.8465347290039,121.50660705566406,128.54788208007812,114.40422058105469,128.63243103027344,129.1659393310547,124.06763458251953,126.62633514404297,127.98005676269531,126.80618286132812,118.18955993652344,124.30673217773438,126.94063568115234,125.1623306274414,126.92668914794922,121.61482238769531,126.0805892944336,128.49832153320312,123.59854125976562,130.964111328125,111.52703857421875,128.1984405517578,124.20318603515625,126.02919006347656,132.16322326660156,131.2621307373047,118.43453979492188,126.23627471923828,126.83043670654297,130.5658721923828,123.99208068847656,127.06493377685547,125.09083557128906,130.52691650390625,116.88197326660156,118.1959228515625,130.86798095703125,118.34902954101562,129.05848693847656,127.1513900756836,126.57474517822266,120.28007507324219,129.3104248046875,128.5012664794922,121.52806091308594,124.66690063476562,127.50372314453125,116.263916015625,124.23206329345703,133.77781677246094,118.90270233154297,126.05532836914062,123.04417419433594,115.7825698852539,120.88935852050781,130.5918731689453,118.79647064208984,122.16560363769531,126.6253890991211,115.35597229003906,125.94134521484375,109.9404525756836,130.6341552734375,123.91160583496094,126.3272476196289,124.42942810058594,123.91651153564453,122.8429946899414,131.5065460205078,125.94588470458984,123.1207046508789,129.34632873535156,135.11505126953125,127.3938980102539,123.43226623535156,127.83087158203125,126.30016326904297,128.9273223876953,125.94134521484375,112.23804473876953,129.79934692382812,118.59501647949219,129.0658416748047,126.99284362792969,132.5859375,122.98979949951172,126.67669677734375,124.26947021484375,131.99334716796875,112.66464233398438,125.78226470947266,123.60674285888672,126.02361297607422,116.97171783447266,127.30902862548828,126.9693603515625,130.86767578125,126.76615905761719,119.11669921875,126.41710662841797,130.48516845703125,110.99210357666016,120.0333251953125,121.26670837402344,118.17352294921875,114.43910217285156,120.64974975585938,129.7927703857422,116.72808074951172,129.7927703857422,129.7927703857422,123.72917175292969,126.7606201171875,129.6881561279297,129.4327392578125,126.52543640136719,125.3579330444336,125.67424774169922,115.97099304199219,123.7275619506836,126.44849395751953,124.93572998046875,129.05848693847656,130.66993713378906,123.0508804321289,112.63309478759766,130.3766632080078,134.66738891601562,128.10662841796875,132.0948944091797,122.45242309570312,130.25685119628906,116.31829833984375,131.15304565429688,124.90210723876953,124.35921478271484,121.95465850830078,114.41943359375,111.15084075927734,123.5018539428711,130.06735229492188,124.13514709472656,130.06735229492188,126.76644134521484,128.9605712890625,131.99334716796875,125.54378509521484,128.83815002441406,126.6639404296875,128.29833984375,125.87669372558594],\"y\":[3.417718261718747,-8.387393554687492,-1.8769705810546782,3.309032043457023,0.12445812988281091,-6.18393469238282,-2.3332426147460836,-0.40363012695311795,8.682370300292973,-1.6975472412109411,-3.3548541870117106,-7.526027648925776,4.381980529785153,2.042200073242185,4.498216918945303,-5.231855834960925,1.1654946899414114,2.013268615722666,13.433865112304687,0.7837753295898438,-2.1177700805664017,0.5901589965820335,0.6638161621093843,1.4418688964843795,0.6672332153320326,1.558848876953121,4.592639770507816,-9.738598144531238,-0.5329017333984325,2.1896136474609307,-3.510508544921862,5.604185119628909,1.3383605957031364,2.213061584472655,5.570295043945322,-1.6838933105468783,0.7716507568359248,2.2744967651367176,-1.4490354003906134,3.6900279541015664,-2.169753601074234,1.1218998413085899,0.5715569458007792,-4.700309204101558,-0.2935573120117283,3.8199462890625,6.280593566894538,0.1099033203124975,1.5201494140625016,2.092785644531247,-0.4537111816406423,1.6305929565429693,0.20903320312498863,-3.7462988281250063,-3.8993988037109375,1.2170430908203116,2.4112442016601534,-1.3832832031249893,4.081033325195307,0.6778297119140575,-0.81844702148436,-0.15232226562500273,0.572987060546879,-4.677017089843758,3.8186014404296884,0.7879688110351566,1.2975292968749983,8.770899169921861,-2.4774893188476597,0.46999566650390534,7.874747070312495,-0.6221144409179828,-2.1002192382812552,-0.5445853271484395,1.8568577880859465,1.5711291503906182,0.3720487060546702,-1.1348657226562437,-0.17163940429688296,2.359813964843738,1.8151387329101567,1.1730084228515665,-1.7701754150390627,-0.7691099243163961,-1.6872762451171894,3.360489074707033,3.7807700195312464,-12.757696472167964,0.10802716064452511,-2.106932006835933,-4.0109176025390525,-3.1606655883789188,2.3352446289062527,-2.0190398559570326,-8.984952758789063,-3.765065429687496,4.284081237792961,0.6308308105468541,4.843356567382813,-3.3015444335937616,-1.6054602661132833,-1.8232044677734223,-2.450585693359372,-1.5423956909179708,-1.0588303222656208,-5.687827148437492,0.07710375976563455,2.8701140136718806,-2.750241882324218,3.2114663085937565,0.05148852539062432,-2.695885375976559,0.2730679931640623,-1.0672701416015684,6.432760375976557,-4.245001953124984,1.7293599243164124,-1.7258723144531132,1.3035317993164028,-1.6018695068359392,-3.056623291015626,2.0144482421874983,-11.004665588378913,-0.8880999755859307,-2.6045823974609448,7.891668945312503,-2.149593200683597,-6.461713989257817,4.2095021972656355,3.270745666503899,2.7981646118164036,-2.224658813476566,-1.89809997558595,0.3851043090820383,3.7141857910156233,-1.9502825317382815,-1.89397619628906,-3.0409998168945265,0.5324301757812435,-4.522425048828126,-4.413400512695318,-2.692520874023444,-5.821707763671867,-3.4031259765625066,-4.143436889648427,-4.4987410888671775,3.474585632324221,-3.8075932617187505,-1.3015257568359573,2.2475109863281233,5.310774536132811,-3.360691223144528,2.4974044799804744,-4.261329345703132,-0.2001178588867134,3.799668334960927,2.5160799560546963,-3.059943481445316,2.253722656249991,0.11570220947265852,3.5523967895507838,-2.593520263671877,-2.148075256347653,2.812031188964852,-0.5421597290039131,2.352088867187504,-2.507114746093748,10.794449523925778,5.378709106445314,-7.259724853515621,-2.768525756835942,0.7742659301757868,-1.4875047607421834,4.641435180664061,-0.004297790527346024,-4.352557495117168,-1.7673524780273482,-0.6310817260742283,13.095767272949217,1.8152393798828115,-1.509021667480468,-0.35201745605469625,2.3248776855468662,-12.04241845703126,0.6428776855468925,-2.139198181152352,0.43849267578124795,-2.274876281738301,-4.81759326171877,-2.7076596679687555,2.6144792480468766,-1.575134155273446,-4.201466796874996,1.186473266601567,-1.5234515991210884,-5.769978759765621,3.852769409179686,-1.3371089477539186,8.649050781250011,1.252822570800788,2.2998930664062556,6.4076472167968745,-8.407454284667978,-0.551305786132815,1.5936321411132894,0.06042279052734045,0.7226047973632745,-3.0030102539062398,2.8731824951171774,3.4756114501953164,1.2194036254882832,-3.843777832031236,11.609195922851555,3.574934936523448,-0.9660661621093851,-1.36835040283205,-2.2201528320312605,4.24336926269531,-1.5297197265625044,-0.9447891845703111,-3.7798055419921894,-3.9150100097656377,3.6956323242187494,0.44346704101562295,-8.890466064453108,3.686710449218751,3.6190799560546907,1.0543353271484364,-0.3328406372070276,-0.06276715087889784,4.283479614257814,0.8949899902343645,-0.988767150878914,-6.1406573486328,4.547808471679687,-5.413740600585925,-4.588207519531238,-4.138549194335951,-1.258214904785163,-3.4366204833984284,-1.4372987060546905,-1.7997755737304715,-2.7634181518554897,-0.1146325073242167,1.0042706298828108,-9.314597290039046,-2.6335389404296734,-6.281770141601555,6.013779541015623,-5.167279907226572,-1.8887298583984489,1.148773132324223,0.9856207275390574,-1.1476822509765725,-1.83112719726563,-9.935730712890631,1.228931884765629,-1.4723637084960899,-2.400838134765621,-2.8032770385742083,-0.013294189453119998,-2.251361755371093,2.1724655151367216,0.5870995483398502,-0.17001745605467988,-2.1342723999023434,-2.0667674560546914,3.4240870971679698,3.1340859985351557,-3.3599494628906257,1.149499755859381,-0.8816594238281255,2.0088475952148457,2.86803625488281,-5.8652180175781155,7.316863586425782,3.974504150390615,2.204119812011726,-0.5046325073242315,0.6185818481445295,-3.0501152954101656,3.6093280639648384,-4.648850097656236,-2.3232770385742185,0.7878455200195305,0.838746215820322,-3.5284865722656207,-2.7429006347656184,3.741483276367177,1.297297607421882,-2.922820983886723,-2.3744833984374907,-0.44988043212890716,1.1690877075195374,-3.8091744384765605,-2.499081604003919,1.2414068603515602,2.104993469238295,-1.8921005859374986,2.4118740844726574,1.905517028808589,3.26724645996093,3.570050537109381,-1.3578981323242232,1.0943848266601464,1.0458469238281225,4.484291931152342,-0.9787467041015532,-1.5234181518554806,1.1744837646484285,-3.822640258789079,-0.46354553222656136,1.4220026245117197,-5.330838134765628,4.3673921508789135,-4.52661267089843,2.5043366088867174,-2.428067138671878,1.1224036865234268,-0.47448291015626864,-2.529609008789066,4.879882446289059,1.0919256591796795,3.343811645507813,1.4330070800781272,-11.67459729003906,-0.3121604003906242,1.6890968627929794,-1.6393664550781182,3.233228393554697,2.6754199218750045,2.8690660400390726,1.6475134277343813,0.01008081054686727,-3.4877298583984384,0.2587799072265682,3.2508269653320383,0.8388317260742184,-11.483234191894525,0.43946215820312773,-3.912912475585955,-10.978190063476546,-4.534376708984382,3.5102224731445375,0.6336380615234276,-7.6351614990234395,2.2640142822265688,-5.577241455078138,0.5331872558593744,-5.124397338867183,4.97822882080078,-3.1263742675781145,3.462066040039062,-0.03970196533202852,-0.007074340820309999,4.516658142089838,-2.618746704101568,-2.2385936279297027,-3.5193012695312405,11.526617309570327,-1.8272854003906218,5.779131225585928,-2.9998139648437387,-2.101774902343749,14.425297912597657,0.9354118652343857,6.364182739257814,1.276547485351557,6.449898681640619,-2.398919921875006,8.490553466796882,4.689516235351562,-0.26292816162109034,-6.679927673339847,6.271745483398448,-1.5189763183593925,2.103912414550777,-3.9755975952148503,-2.2532241210937514,4.302742248535154,-3.261269531250008,5.013776062011715,3.786333312988276,-5.158977294921868,-0.36895251464844137,0.6728488769531111,-2.84115197753907,0.5758212280273369,-0.3182307739257908,-0.2742331542968657,3.4035498657226526,-2.5750106201171974,-6.219687499999992,-0.5417778320312436,-4.453554138183591,2.8513681030273403,-2.9791493530273527,0.3649699096679626,1.2969020385742311,0.8211691284179636,-3.3543710937499895,2.287891113281262,-1.9314768676757694,7.095709899902346,-3.7932498779296964,-1.4108654785156318,-2.4677730712890593,0.3165496826171932,4.3156382446289,-3.403794250488289,1.4519445800781199,-0.8234823608398472,4.226901489257813,0.21683593750000796,5.542549865722648,-0.9859662475585935,-2.1873276977539007,3.678083251953126,-1.9219151000976353,1.0738562622070305,-1.8637497558593736,-3.903244995117177,-2.9247717285156227,-1.4670183105468766,-0.9086491088867064,-1.670760131835948,-4.511111206054679,0.3643035888671875,-0.31560253906249613,-2.5398117675781293,-2.516254272460941,0.9198910522461006,1.9798282470703157,2.9555763549804794,0.06662506103515398,-2.3005477294921945,2.067506591796885,-2.6500880126953064,9.40935235595704,1.7527370605468775,2.757793701171863,9.719411254882814,-0.866240356445303,2.0321657104492203,2.3299763793945374,-1.5587773437499948,3.6805117187499974,12.269330200195313,3.4913516845703043,-6.642573974609377,3.1519893798828207,-1.6102286987304666,-1.4045062255859477,1.3613064575195324,-0.8572202148437498,3.044964965820313,3.5776921386718783,-4.602460510253906,0.3906636962890673,3.6872404785156334,1.2413508911132851,-2.849099853515611,-0.03265686035155113,0.686619628906243,-7.159169006347668,10.692576416015612,-2.549597839355471,6.10488824462891,0.1576386718749916,0.0764312744140625,-3.6392393798828095,-1.3466403198242176,-2.200721069335941,-3.391052368164054,-1.087825683593735,-2.3129400634765602,3.5958225097656253,2.780216308593751,-2.212228881835955,1.2448468017578165,2.0165018310546827,-3.007532714843748,-1.0363766479492256,-0.12325817871092681,-6.44552447509767,-4.829573852539056,-4.933562499999994,-2.0621945800781276,5.238373107910149,4.121101989746094,0.7729119873046812,-8.09071240234374,-6.432192321777336,1.1962668457031214,-3.4575118408203025,-8.860075988769523,3.025563903808603,3.1336193847656233,-0.6010600585937595,-2.4953725585937576,0.014747131347647269,-5.015217895507817,-0.12977239990233613,-3.6503578491211073,-3.2172963867187434,1.269435058593757,0.8461442871093823,2.7133798217773375,-1.4638228759765752,4.204021850585946,0.39364068603515534,-4.15362432861329,8.416397583007821,2.1678543090820312,0.1691578979492192,0.26958612060546727,-2.0875499877929684,-0.019620361328122726,3.0454934692382807,-1.7910925292968614,-4.145167297363287,-2.0299456787109307,0.43455578613281887,4.157475830078127,-4.90735552978515,0.6088842773437477,-0.8939326171874882,4.711325866699227,0.7258059692382801,2.4458431396484457,3.7104412841796943,-3.2814960327148412,-0.7742540283203141,-3.370319091796887,-0.6852570800781166,-5.9977063598632725,-1.6465217285156228,-0.2175682983398417,6.9014797363281275,2.0792074584961,5.4235698242187595,1.5183277587890416,-1.2237844848632875,1.2391335449218843,0.9319050903320374,1.3801647949218818,-5.815989501953112,-3.3702324218750164,-5.527191711425786,0.7244125366210881,4.527325073242196,-3.296783447265625,-5.970254943847635,-0.7721508178710934,-3.325351318359367,-3.0954137573242235,2.948983886718736,0.45254522705077704,-0.45667041015626353,-2.4528988037109514,-2.9100515747070403,-3.1658028564453105,0.5557766723632795,5.794639404296873,-0.6666292724609377,-0.07705456542967681,-1.5544257812499893,-5.6905164794921745,2.741855224609367,-4.986011718750007,1.6208880615234307,-1.3738816528320257,-0.619769958496093,0.0443429565429625,-3.594780029296885,-2.4281456909179724,-4.512867553710919,1.5527928466796936,-0.25473406982422375,-2.376192993164068,6.475474670410151,-6.7095632324218855,-4.590051574707019,-0.0943593139648442,-3.3262626953124936,-4.382423828124985,4.344908569335928,-4.358817260742171,-1.5966315917968643,-1.4579520263671952,0.36488598632811886,-0.6953413696289203,7.805091552734382,4.085075988769532,2.6818817138671847,-3.0447583007812398,-0.6069775390625125,-2.6591716308593902,-0.9444331054687467,-0.13443609619140773,-1.2616850585937556,4.412213012695318,1.369719970703116,-3.0457922363281114,-5.559481079101573,8.80697546386719,-7.538105224609382,2.702376342773448,-0.25508215332030204,1.0647313232421993,-2.582523437500015,-2.17164691162111,3.441226562499992,-4.179176513671877,-6.25369787597657,-0.16804846191405431,0.23752136230467613,0.06271386718749739,2.72288287353517,-1.1930909423828098,-0.7934952392578083,-2.4070687255859298,1.7437034301757706,-0.37093090820312113,-1.1202080078125078,-3.1722341308593798,-1.1188807373046785,2.226976684570303,0.7478005981445364,-3.1008408203124986,-3.719936035156252,-2.5356557006836056,-5.15069445800782,-5.023488830566407,-0.2271375122070225,2.11222863769531,-2.916998596191405,-3.0213056030273435,5.3620009765624985,0.5014558105468723,0.6789966430663981,0.6929632568359381,-2.764572998046873,-2.4875162353515634,-8.270921142578118,3.4748493652343626,0.18697381591796614,4.017074279785163,7.131098876953132,-1.0095057373046785,-2.741078002929683,-1.5466566162109245,1.0911481933593734,5.047447143554692,0.3627023315429625,1.8779381713867167,4.2092580566406355,1.261682556152337,-3.0305656738281357,1.6236368408203106,5.062157287597657,8.419574951171867,1.6422196655273353,-7.000596679687504,7.873152404785159,3.7110988769531303,-0.11501965332030295,2.6361203613281248,1.1255039062500032,4.8026437988281145,-3.0096542358398324,0.8149508056640684,1.3010866699218724,-2.5944239501953064,6.311607116699221,6.163132934570314,1.5473898925781242,-0.40054040527344625,5.608208984374997,-0.49293090820313523,-9.151078613281243,0.29591741943359295,4.1880771484375,7.483980224609368,-2.997658752441396,2.650428527832034,2.101283264160159,-1.6706550903320334,-1.3171667480468727,-0.21536206054686602,-2.964101074218746,2.910042785644521,-5.210329772949223,1.3480556640624997,8.88000390625001,-4.163305603027339,2.989442138671876,-4.7755775146484325,-3.4343154296875014,-3.1693977050781257,-2.0789595947265695,0.5664570312499961,1.3832982177734436,4.105639770507807,2.270230285644544,2.7926409912109307,1.743367370605469,5.81677264404297,3.250592346191411,0.20145507812499375,-1.4610712280273361,0.22103851318360057,2.887938171386722,2.4205289306640623,0.8368222656249884,1.0836444091796835,1.0441210937499932,4.435386657714844,-8.610330017089836,-3.170890869140635,0.6546965942382883,-1.563234130859371,4.978678161621104,2.889073242187493,4.982249633789067,1.1606786499023514,-3.3478217773437393,-5.794347778320315,-0.9816621093749802,0.14669482421875557,4.199261047363294,-1.1831652832031239,2.332714172363282,-0.3740201416015623,2.217197631835944,-3.1295987548828066,-1.4514309082031218,-0.29140588378905363,0.9785941162109282,2.3230443115234323,-3.065828552246103,-0.1793784179687492,5.803253784179688,-2.7554163208007765,-5.855018432617186,0.9928130493164105,0.5323812255859366,-3.3592912597656266,-0.9113280029297073,-12.412196166992175,-1.3760539550781345,6.271784545898441,-3.95028619384766,-3.883043457031249,-4.449399902343771,1.6171971435546908,-1.3663593139648356,-0.18961175537110364,0.41770129394532773,4.161208312988279,4.153301574707044,3.3825191650390707,1.0104022827148356,3.4542681884765614,3.9133678588867156,-0.8898657226562534,1.0404012451171951,6.739597045898449,-2.1186405029296793,1.3639743041992176,-0.2863338012695351,-3.9203370361327927,-2.551282226562506,0.04150170898438432,6.065290893554689,1.481302001953111,3.331616760253908,2.91897985839843,2.495282287597661,-6.329095520019536,-4.254223693847649,-0.9627872314453043,0.9441707763671872,-1.7463876342773403,-3.080802551269528,1.4746738281249918,2.5023955078125084,3.2743721923828133,-3.857940795898429,-2.7727751464843777,1.0140539550781114,-3.675486450195308,0.3328647460937475,-2.2199880981445403,-1.3032933959960928,-1.307894226074211,-3.209592895507825,-3.279583801269524,-5.681957946777345,-0.10284844970703944,0.9895301513671768,-0.5727034912109445,1.439353576660153,-0.8361387939453238,1.4066399536132792,1.5117845458984505,0.4275340576172084,-0.1681643676757858,3.294365722656252,-2.584895935058597,2.681711364746093,0.8636525878906411,-3.534578674316407,4.416779907226555,1.6040359497070256,-4.265337768554701,1.0135287475585955,0.11509185791015852,1.7358059082031332,2.849384033203137,3.4463635253906233,2.015023925781236,-0.27454504394530943,1.601626464843747,4.962288269042972,-4.884699951171882,-3.8138089599609373,0.6534623413085825,-0.6316621093749859,-1.343293334960947,-0.821620117187507,-3.7425050659179817,2.59915228271484,3.9878063964843733,-6.639557250976566,0.5956875610351631,-0.030581054687502274,-8.146084960937486,3.3696827392578115,0.3993084106445366,3.143335144042979,1.6370092163085985,1.1717857666015732,3.4087377319335985,-0.2194376831054683,6.287864624023442,1.2461350708007757,1.3243086547851703,-5.2764353637695365,-0.40431964111328966,3.048118774414064,7.361432983398444,-3.289034301757823,-0.7150510253906219,0.5461809082031266,1.169149047851576,-3.5671999511718866,0.565678466796868,-1.0161372680664158,3.8832874145507787,5.4462785034179575,1.2074301147460886,0.39667175292967727,-0.5471985473632799,1.0000964355468795,0.5378642578125152,8.111252746582025,1.6342248535156187,5.620002380371091,-0.25628448486328637,8.85740350341797,-1.9988100585937474,1.9100196533203047,3.057629333496095,6.5040083618164175,0.6304205322265659,-0.36171032714844387,8.523223266601562,4.006834838867178,-3.681917968750014,2.9532415771484324,-1.539067138671868,2.41920446777344,0.30724053955079,1.1776309814453043,-2.042425109863288,-4.774209533691405,4.288145446777349,5.811861267089839,-2.59882739257813,-5.4313778686523335,-1.380878845214852,-1.0997454833984364,1.6305821533203186,0.11436315917967477,-0.6988917846679783,4.7623553466796835,-1.2484204101562568,1.136815490722654,3.4954404296874912,-7.945481933593754,-2.4649562377929755,-0.79026025390624,0.4092200317382719,2.368994873046873,-2.2810671386718866,0.1821339721679749,-1.706949462890634,-0.7231191406250019,1.3037561645507765,1.8841612548828266,-5.571633300781258,-6.439849609374988,-2.706198730468742,-0.48025128173827625,5.460011474609388,0.12813232421875398,1.518585144042973,-4.787129760742204,-4.449827392578129,-1.6901776123046943,2.977922607421874,-3.295776489257804,5.553639038085933,-2.2385424804687375,-0.018516967773422266,-0.009651733398442275,4.6659779052734365,4.450468078613284,-1.6021706542968843,-0.8936829223632827,-5.8293103027343705,1.1707918701171849,3.096973999023419,3.3349221801757807,7.573774841308591,1.0668609008789076,2.223814697265624,3.8192855834960966,-3.6075371093750164,1.6092562255859377,0.8388709716796825,-0.584383911132818,-1.612183105468759,0.07404962158203432,-1.832492370605479,-1.6878660278320297,-5.102291992187503,-2.578692199707035,-5.056383300781249,-2.1182142944335993,-4.326710327148419,-1.9229246215820126,-4.511372009277352,0.7167013549804722,0.5218422851562536,2.2980166015625088,-0.9219246215820363,-0.8190280761718611,0.47110241699218136,0.37405920410157023,-2.843719482421875,-4.489911254882813,-3.49592669677736,-1.6336725463867197,-1.099965820312491,-1.8411672973632847,-5.210325317382825,-0.8784107055664094,0.6555460205078134,4.0059609985351585,7.666743896484363,2.030401306152342,-0.3876376953124918,3.1851549682617275,-2.4087741699218697,4.6568312988281235,3.2847990722656277,-2.617807617187509,2.2827276611328102,2.3068222045898494,-0.6404359741211039,-0.677634155273438,7.936875122070305,-5.124392333984389,-4.188187622070302,-3.2584089355468677,-5.4507904052734375,-2.39485803222658,2.717008666992186,-3.29752227783203,4.982017822265618,-6.079685791015606,8.443901855468752,-2.379378906249997,-0.9872552490234341,3.9609256591796793,0.7022617187499947,-8.542239074707027,2.9873937988281227,5.072409912109379,-2.764988159179694,1.9803002319335974,-2.97116729736328,3.8779246826171914,-5.273610961914045,3.2227521972656206,-1.0087557373046963,4.003656921386721,-1.499604370117197,-2.059479370117174,3.062882446289052,1.3030385742187605,0.2864929199218693,2.755547424316404,0.7225531005859409,-0.47636431884765784,-0.17935156250000261,2.838723205566396,-3.5374522705078277,2.428205810546885,-0.05066485595703796,4.676780883789064,1.3243819580078195,1.757598815917973,-1.3367993164062568,1.0982122802734438,3.157083129882807,-2.9913862915039147,1.8951593017578148,5.624216857910156,-1.631822753906249,-0.7113603515625186,1.4586384887695374,1.0831924438476506,-3.827348876953124,-1.0476361694335878,1.7821164550781248,-0.2071533203125,-1.3697822265625064,2.1519289550781195,0.8406828002929672,-2.38972314453126,-3.474987304687488,-4.885142089843754,0.9745919189453218,-1.9038090209960785,-3.266874633789058,6.166202636718751,1.914545471191417,-0.921117797851565,-1.6804652709960948,5.613607055664076,-0.8471179199218852,2.1532205810546827,-3.4835689697265764,6.4869393310546855,2.8336345825195366,3.209335144042967,-3.0429432373046836,3.597182861328122,-3.806440063476572,3.5407321777343697,-2.0963643188476624,4.0163306274414055,4.32068914794921,-2.5511776123046843,1.2715892944335963,-2.8476784667968786,-0.5094587402343649,-4.525888671875009,-3.8639614257812553,1.3934405517578057,-3.0428139648437593,0.818190063476564,2.3152232666015777,-0.3938692626953184,-4.319460205078116,9.312274719238289,-7.405563293457021,-2.2621278076171905,-0.08491931152344989,0.5249337768554625,-4.210164428710954,4.9409165039062515,1.19097326660156,0.8869228515625025,-2.172019042968742,2.71402954101562,0.6044869384765548,-4.06960992431641,-2.7172548217773453,-0.8259249267578213,1.9924248046875022,-0.8657335205078311,1.1980609130859392,1.585900634765622,7.963723144531244,6.600916015625003,0.49206329345703637,3.7048167724609584,3.101702331542967,-2.3466716308593902,-0.7948258056640611,-0.21343011474610307,-3.027641479492189,-1.1061268310546666,1.0114706420898472,1.3146036376953134,-3.9416109008789135,0.4559722900390568,-1.9516547851562365,0.42045257568359773,-3.2128447265625084,4.737605834960945,0.8622476196289028,8.968428100585939,-2.9294884643554724,7.32299468994141,3.883546020507822,-0.410115295410165,3.0837046508789,1.2643287353515689,-3.4419487304687664,0.8038980102539028,1.0482662353515622,4.050871582031249,-2.5308367309570485,-2.351677612304684,-2.481654785156252,1.925044738769543,2.441346923828135,0.8540164794921878,-1.9701583251953139,3.8038436279296945,0.6079375000000198,-2.117200500488295,-2.000303222656271,1.9044702148437551,-2.48465283203123,-0.4213576660156235,0.3922647094726557,4.939742858886717,-5.162387023925788,1.6607178344726492,-2.659971374511713,1.8123603515624893,-4.070324218749988,-6.485840942382822,5.031699218750006,0.9451066284179603,-3.990831542968749,-0.08389642333985137,-3.432674804687508,-1.4082916259765597,0.21652294921874216,3.3041021728515574,1.051749755859376,3.3067703857421833,0.1780807495117216,0.8217703857421839,-1.4882296142578184,2.950171752929691,5.0966201171874985,2.7551561279296948,-3.45626074218751,-5.3635635986328225,-1.3850669555664012,-0.326752258300786,3.9059930419921898,6.760561950683581,4.1604939575195345,-14.290270019531249,-0.2955130615234225,-4.52106286621094,7.741880432128909,4.008094787597656,-2.541336791992194,-1.1356110839843723,-1.8423715820312339,7.77689440917969,-0.9395769042968851,-0.05414880371094455,-2.890701660156253,-5.0379543457031275,1.359107238769539,2.1482147827148452,0.5236585083007839,1.0854335937499968,-1.6171592407226427,2.183853942871096,-5.955647705078121,-3.7288529052734276,-4.785647705078105,-1.4905586547851613,6.004571289062497,-5.819652832031238,1.5557850952148442,-1.3178499755859434,-14.323059570312495,-2.4786601562500152,3.7276937255859366]}},\"id\":\"ee36ef43-e0a7-4d9d-bd5e-314fa1d6fc65\",\"type\":\"ColumnDataSource\"},{\"attributes\":{\"callback\":null,\"overlay\":{\"id\":\"2d25d60a-dd0d-425e-b403-a9a6c4f5f2a6\",\"type\":\"BoxAnnotation\"},\"plot\":{\"id\":\"efb21a4c-f3cb-4228-a75e-61b1a07766d9\",\"subtype\":\"Figure\",\"type\":\"Plot\"},\"renderers\":[{\"id\":\"21fc5f38-f9fb-443d-8c8a-d645904bd061\",\"type\":\"GlyphRenderer\"}]},\"id\":\"fa01faf4-641f-4136-81e4-1246f0ce93c1\",\"type\":\"BoxSelectTool\"},{\"attributes\":{\"background_fill_alpha\":{\"value\":0.5},\"background_fill_color\":{\"value\":\"beige\"},\"below\":[{\"id\":\"fc733b9c-3b06-4411-b053-c4b8252d748e\",\"type\":\"LinearAxis\"}],\"left\":[{\"id\":\"c209b50c-200d-4df6-a037-ea075752207a\",\"type\":\"LinearAxis\"}],\"plot_height\":500,\"plot_width\":500,\"renderers\":[{\"id\":\"fc733b9c-3b06-4411-b053-c4b8252d748e\",\"type\":\"LinearAxis\"},{\"id\":\"e20f16f6-5c98-445d-b9ad-5a3f04fc6f48\",\"type\":\"Grid\"},{\"id\":\"c209b50c-200d-4df6-a037-ea075752207a\",\"type\":\"LinearAxis\"},{\"id\":\"a739bb9d-282a-4164-95f4-8e876300c928\",\"type\":\"Grid\"},{\"id\":\"038bf31f-1d3a-4dd9-8fe9-c4f22c5470ee\",\"type\":\"BoxAnnotation\"},{\"id\":\"2d25d60a-dd0d-425e-b403-a9a6c4f5f2a6\",\"type\":\"BoxAnnotation\"},{\"id\":\"64c5f030-3c66-455b-bab7-4dd8a9e56727\",\"type\":\"PolyAnnotation\"},{\"id\":\"433877c7-e934-455a-af82-7786e6f448cd\",\"type\":\"PolyAnnotation\"},{\"id\":\"21fc5f38-f9fb-443d-8c8a-d645904bd061\",\"type\":\"GlyphRenderer\"}],\"title\":{\"id\":\"70e799bd-07fb-4d36-a63a-1497fbcfcfeb\",\"type\":\"Title\"},\"tool_events\":{\"id\":\"68b27d26-f9c4-4caa-83ec-147aafd89e8b\",\"type\":\"ToolEvents\"},\"toolbar\":{\"id\":\"b2d4c298-20f3-4b70-a0d5-cd572fefa327\",\"type\":\"Toolbar\"},\"x_range\":{\"id\":\"7b9714e0-90bb-47ed-ba25-2bf39e42ec1b\",\"type\":\"DataRange1d\"},\"y_range\":{\"id\":\"8397fb43-9730-40f4-854a-c6ee9cf1d760\",\"type\":\"DataRange1d\"}},\"id\":\"efb21a4c-f3cb-4228-a75e-61b1a07766d9\",\"subtype\":\"Figure\",\"type\":\"Plot\"},{\"attributes\":{\"callback\":null},\"id\":\"7b9714e0-90bb-47ed-ba25-2bf39e42ec1b\",\"type\":\"DataRange1d\"},{\"attributes\":{\"plot\":{\"id\":\"efb21a4c-f3cb-4228-a75e-61b1a07766d9\",\"subtype\":\"Figure\",\"type\":\"Plot\"},\"ticker\":{\"id\":\"b2064496-e85e-4f6f-9fb6-a530f0a537dd\",\"type\":\"BasicTicker\"}},\"id\":\"e20f16f6-5c98-445d-b9ad-5a3f04fc6f48\",\"type\":\"Grid\"},{\"attributes\":{},\"id\":\"b2064496-e85e-4f6f-9fb6-a530f0a537dd\",\"type\":\"BasicTicker\"},{\"attributes\":{\"callback\":null},\"id\":\"8397fb43-9730-40f4-854a-c6ee9cf1d760\",\"type\":\"DataRange1d\"},{\"attributes\":{\"axis_label\":\"Residuals\",\"axis_label_text_color\":{\"value\":\"#aa6666\"},\"formatter\":{\"id\":\"afa47679-5ff9-46fb-b41a-47bdff47d923\",\"type\":\"BasicTickFormatter\"},\"plot\":{\"id\":\"efb21a4c-f3cb-4228-a75e-61b1a07766d9\",\"subtype\":\"Figure\",\"type\":\"Plot\"},\"ticker\":{\"id\":\"c92801ae-39a2-49ad-96c2-8addbdde0827\",\"type\":\"BasicTicker\"}},\"id\":\"c209b50c-200d-4df6-a037-ea075752207a\",\"type\":\"LinearAxis\"},{\"attributes\":{\"fill_color\":{\"value\":\"#80B1D3\"},\"line_color\":{\"value\":\"#80B1D3\"},\"line_width\":{\"value\":3},\"x\":{\"field\":\"x\"},\"y\":{\"field\":\"y\"}},\"id\":\"e947e96b-231d-4389-88fd-231850fd6884\",\"type\":\"Circle\"},{\"attributes\":{\"active_drag\":\"auto\",\"active_scroll\":\"auto\",\"active_tap\":\"auto\",\"tools\":[{\"id\":\"65f614d7-982f-46b1-81b5-2cc1bdb20d5e\",\"type\":\"BoxZoomTool\"},{\"id\":\"fa01faf4-641f-4136-81e4-1246f0ce93c1\",\"type\":\"BoxSelectTool\"},{\"id\":\"22f9d781-ea97-4a40-930c-6faa0f2cb6a6\",\"type\":\"CrosshairTool\"},{\"id\":\"251bb4e2-3680-46e4-9983-1c7e6ebeb02e\",\"type\":\"ResizeTool\"},{\"id\":\"551f3f7f-4eb9-40e7-9ce9-39f9f3fa7b98\",\"type\":\"ResetTool\"},{\"id\":\"5ca06cc0-8f1d-49d7-a70d-c95c29dc4d1f\",\"type\":\"LassoSelectTool\"},{\"id\":\"9f31e400-e4bf-4706-837a-45fc216540c8\",\"type\":\"PanTool\"},{\"id\":\"e7dcd59e-8bf3-4043-b857-9b3aca0cf9c1\",\"type\":\"SaveTool\"},{\"id\":\"1292e100-e8b3-42c4-a1aa-7030c21bab44\",\"type\":\"PolySelectTool\"},{\"id\":\"eb40cca4-0a30-40d1-9a1e-9c64f93ebc64\",\"type\":\"TapTool\"},{\"id\":\"88b4635a-a394-4889-9fa6-49584bdc1e63\",\"type\":\"WheelZoomTool\"},{\"id\":\"c8eeb9db-54b4-4ea3-9d46-fa2254468dc1\",\"type\":\"UndoTool\"}]},\"id\":\"b2d4c298-20f3-4b70-a0d5-cd572fefa327\",\"type\":\"Toolbar\"},{\"attributes\":{\"axis_label\":\"Predicted\",\"axis_label_text_color\":{\"value\":\"#aa6666\"},\"formatter\":{\"id\":\"79a0dbef-3efc-4e61-b869-2d746f37b1a5\",\"type\":\"BasicTickFormatter\"},\"major_tick_line_color\":{\"value\":\"firebrick\"},\"major_tick_line_width\":{\"value\":3},\"minor_tick_line_color\":{\"value\":\"orange\"},\"plot\":{\"id\":\"efb21a4c-f3cb-4228-a75e-61b1a07766d9\",\"subtype\":\"Figure\",\"type\":\"Plot\"},\"ticker\":{\"id\":\"b2064496-e85e-4f6f-9fb6-a530f0a537dd\",\"type\":\"BasicTicker\"}},\"id\":\"fc733b9c-3b06-4411-b053-c4b8252d748e\",\"type\":\"LinearAxis\"},{\"attributes\":{\"plot\":{\"id\":\"efb21a4c-f3cb-4228-a75e-61b1a07766d9\",\"subtype\":\"Figure\",\"type\":\"Plot\"}},\"id\":\"551f3f7f-4eb9-40e7-9ce9-39f9f3fa7b98\",\"type\":\"ResetTool\"},{\"attributes\":{},\"id\":\"c92801ae-39a2-49ad-96c2-8addbdde0827\",\"type\":\"BasicTicker\"},{\"attributes\":{\"callback\":null,\"plot\":{\"id\":\"efb21a4c-f3cb-4228-a75e-61b1a07766d9\",\"subtype\":\"Figure\",\"type\":\"Plot\"}},\"id\":\"eb40cca4-0a30-40d1-9a1e-9c64f93ebc64\",\"type\":\"TapTool\"},{\"attributes\":{\"overlay\":{\"id\":\"038bf31f-1d3a-4dd9-8fe9-c4f22c5470ee\",\"type\":\"BoxAnnotation\"},\"plot\":{\"id\":\"efb21a4c-f3cb-4228-a75e-61b1a07766d9\",\"subtype\":\"Figure\",\"type\":\"Plot\"}},\"id\":\"65f614d7-982f-46b1-81b5-2cc1bdb20d5e\",\"type\":\"BoxZoomTool\"},{\"attributes\":{\"plot\":{\"id\":\"efb21a4c-f3cb-4228-a75e-61b1a07766d9\",\"subtype\":\"Figure\",\"type\":\"Plot\"}},\"id\":\"251bb4e2-3680-46e4-9983-1c7e6ebeb02e\",\"type\":\"ResizeTool\"},{\"attributes\":{\"plot\":{\"id\":\"efb21a4c-f3cb-4228-a75e-61b1a07766d9\",\"subtype\":\"Figure\",\"type\":\"Plot\"}},\"id\":\"c8eeb9db-54b4-4ea3-9d46-fa2254468dc1\",\"type\":\"UndoTool\"},{\"attributes\":{},\"id\":\"68b27d26-f9c4-4caa-83ec-147aafd89e8b\",\"type\":\"ToolEvents\"},{\"attributes\":{},\"id\":\"79a0dbef-3efc-4e61-b869-2d746f37b1a5\",\"type\":\"BasicTickFormatter\"},{\"attributes\":{\"fill_alpha\":{\"value\":0.5},\"fill_color\":{\"value\":\"lightgrey\"},\"level\":\"overlay\",\"line_alpha\":{\"value\":1.0},\"line_color\":{\"value\":\"black\"},\"line_dash\":[4,4],\"line_width\":{\"value\":2},\"plot\":null,\"xs_units\":\"screen\",\"ys_units\":\"screen\"},\"id\":\"433877c7-e934-455a-af82-7786e6f448cd\",\"type\":\"PolyAnnotation\"},{\"attributes\":{\"overlay\":{\"id\":\"433877c7-e934-455a-af82-7786e6f448cd\",\"type\":\"PolyAnnotation\"},\"plot\":{\"id\":\"efb21a4c-f3cb-4228-a75e-61b1a07766d9\",\"subtype\":\"Figure\",\"type\":\"Plot\"}},\"id\":\"1292e100-e8b3-42c4-a1aa-7030c21bab44\",\"type\":\"PolySelectTool\"},{\"attributes\":{\"plot\":{\"id\":\"efb21a4c-f3cb-4228-a75e-61b1a07766d9\",\"subtype\":\"Figure\",\"type\":\"Plot\"}},\"id\":\"88b4635a-a394-4889-9fa6-49584bdc1e63\",\"type\":\"WheelZoomTool\"},{\"attributes\":{\"bottom_units\":\"screen\",\"fill_alpha\":{\"value\":0.5},\"fill_color\":{\"value\":\"lightgrey\"},\"left_units\":\"screen\",\"level\":\"overlay\",\"line_alpha\":{\"value\":1.0},\"line_color\":{\"value\":\"black\"},\"line_dash\":[4,4],\"line_width\":{\"value\":2},\"plot\":null,\"render_mode\":\"css\",\"right_units\":\"screen\",\"top_units\":\"screen\"},\"id\":\"2d25d60a-dd0d-425e-b403-a9a6c4f5f2a6\",\"type\":\"BoxAnnotation\"},{\"attributes\":{\"plot\":{\"id\":\"efb21a4c-f3cb-4228-a75e-61b1a07766d9\",\"subtype\":\"Figure\",\"type\":\"Plot\"}},\"id\":\"9f31e400-e4bf-4706-837a-45fc216540c8\",\"type\":\"PanTool\"},{\"attributes\":{\"plot\":{\"id\":\"efb21a4c-f3cb-4228-a75e-61b1a07766d9\",\"subtype\":\"Figure\",\"type\":\"Plot\"}},\"id\":\"22f9d781-ea97-4a40-930c-6faa0f2cb6a6\",\"type\":\"CrosshairTool\"},{\"attributes\":{\"fill_alpha\":{\"value\":0.5},\"fill_color\":{\"value\":\"lightgrey\"},\"level\":\"overlay\",\"line_alpha\":{\"value\":1.0},\"line_color\":{\"value\":\"black\"},\"line_dash\":[4,4],\"line_width\":{\"value\":2},\"plot\":null,\"xs_units\":\"screen\",\"ys_units\":\"screen\"},\"id\":\"64c5f030-3c66-455b-bab7-4dd8a9e56727\",\"type\":\"PolyAnnotation\"},{\"attributes\":{\"plot\":{\"id\":\"efb21a4c-f3cb-4228-a75e-61b1a07766d9\",\"subtype\":\"Figure\",\"type\":\"Plot\"}},\"id\":\"e7dcd59e-8bf3-4043-b857-9b3aca0cf9c1\",\"type\":\"SaveTool\"},{\"attributes\":{\"fill_alpha\":{\"value\":0.1},\"fill_color\":{\"value\":\"#1f77b4\"},\"line_alpha\":{\"value\":0.1},\"line_color\":{\"value\":\"#1f77b4\"},\"line_width\":{\"value\":3},\"x\":{\"field\":\"x\"},\"y\":{\"field\":\"y\"}},\"id\":\"ad7ca5a6-49f0-4248-98b1-28cc0d3acbdf\",\"type\":\"Circle\"},{\"attributes\":{\"dimension\":1,\"plot\":{\"id\":\"efb21a4c-f3cb-4228-a75e-61b1a07766d9\",\"subtype\":\"Figure\",\"type\":\"Plot\"},\"ticker\":{\"id\":\"c92801ae-39a2-49ad-96c2-8addbdde0827\",\"type\":\"BasicTicker\"}},\"id\":\"a739bb9d-282a-4164-95f4-8e876300c928\",\"type\":\"Grid\"},{\"attributes\":{},\"id\":\"afa47679-5ff9-46fb-b41a-47bdff47d923\",\"type\":\"BasicTickFormatter\"}],\"root_ids\":[\"efb21a4c-f3cb-4228-a75e-61b1a07766d9\"]},\"title\":\"Bokeh Application\",\"version\":\"0.12.2\"}};\n",
       "            var render_items = [{\"docid\":\"ff2c99b8-6da0-4c84-83c7-428a68fb9a33\",\"elementid\":\"f8f116c6-91a3-4616-945f-c8f5a6e7270b\",\"modelid\":\"efb21a4c-f3cb-4228-a75e-61b1a07766d9\"}];\n",
       "            \n",
       "            Bokeh.embed.embed_items(docs_json, render_items);\n",
       "        });\n",
       "      },\n",
       "      function(Bokeh) {\n",
       "      }\n",
       "    ];\n",
       "  \n",
       "    function run_inline_js() {\n",
       "      \n",
       "      if ((window.Bokeh !== undefined) || (force === \"1\")) {\n",
       "        for (var i = 0; i < inline_js.length; i++) {\n",
       "          inline_js[i](window.Bokeh);\n",
       "        }if (force === \"1\") {\n",
       "          display_loaded();\n",
       "        }} else if (Date.now() < window._bokeh_timeout) {\n",
       "        setTimeout(run_inline_js, 100);\n",
       "      } else if (!window._bokeh_failed_load) {\n",
       "        console.log(\"Bokeh: BokehJS failed to load within specified timeout.\");\n",
       "        window._bokeh_failed_load = true;\n",
       "      } else if (!force) {\n",
       "        var cell = $(\"#f8f116c6-91a3-4616-945f-c8f5a6e7270b\").parents('.cell').data().cell;\n",
       "        cell.output_area.append_execute_result(NB_LOAD_WARNING)\n",
       "      }\n",
       "  \n",
       "    }\n",
       "  \n",
       "    if (window._bokeh_is_loading === 0) {\n",
       "      console.log(\"Bokeh: BokehJS loaded, going straight to plotting\");\n",
       "      run_inline_js();\n",
       "    } else {\n",
       "      load_libs(js_urls, function() {\n",
       "        console.log(\"Bokeh: BokehJS plotting callback run at\", now());\n",
       "        run_inline_js();\n",
       "      });\n",
       "    }\n",
       "  }(this));\n",
       "</script>"
      ]
     },
     "metadata": {},
     "output_type": "display_data"
    }
   ],
   "source": [
    "# Plotining using bokeh\n",
    "#TOOLS = 'hover,box_zoom,box_select,crosshair,resize,reset,DecisionTreeRegressor_select,pan,save,poly_select,tap,wheel_zoom,undo'\n",
    "TOOLS = 'box_zoom,box_select,crosshair,resize,reset,lasso_select,pan,save,poly_select,tap,wheel_zoom,undo'\n",
    "p = figure(plot_width=500, plot_height=500, title=\"Residual plot on the training data\", tools=TOOLS)\n",
    "p.scatter(predicted, (predicted - Y),x=\"jjj\", marker=\"o\", color=\"#80B1D3\", line_width=3)\n",
    "p.title.align = \"center\"\n",
    "p.xaxis.axis_label = \"Predicted\"\n",
    "p.xaxis.axis_label_text_color = \"#aa6666\"\n",
    "#p.xaxis.axis_label_standoff = 30\n",
    "p.xaxis.major_tick_line_color = \"firebrick\"\n",
    "p.xaxis.major_tick_line_width = 3\n",
    "p.xaxis.minor_tick_line_color = \"orange\"\n",
    "p.yaxis.axis_label = \"Residuals\"\n",
    "p.yaxis.axis_label_text_font_style = \"italic\"\n",
    "p.yaxis.axis_label_text_color = \"#aa6666\"\n",
    "p.background_fill_color = \"beige\"\n",
    "p.background_fill_alpha = 0.5\n",
    "#p.line([2,38], [0, 0], line_dash=\"4 4\", line_width=2, color='red')\n",
    "show(p)"
   ]
  },
  {
   "cell_type": "markdown",
   "metadata": {},
   "source": [
    "## Pipeline"
   ]
  },
  {
   "cell_type": "markdown",
   "metadata": {},
   "source": [
    "The best to deliver the model by pipeline the operation then at deployment can be done in one model."
   ]
  },
  {
   "cell_type": "markdown",
   "metadata": {
    "collapsed": true
   },
   "source": [
    "  I used two ways to check the pipeline so any one can be fine"
   ]
  },
  {
   "cell_type": "code",
   "execution_count": 19,
   "metadata": {
    "collapsed": false
   },
   "outputs": [
    {
     "name": "stdout",
     "output_type": "stream",
     "text": [
      "0.751527130315\n",
      "Scoring according to mean_squared_error\n",
      "[-13.89099489 -17.01977883 -14.34127388 -15.10401812 -12.22323405\n",
      " -13.68845698 -10.52069949 -11.41507899 -12.02339985 -14.35260784]\n",
      "\n",
      " Mean      Standard deviation\n",
      "-13.46      1.83\n",
      "[ True  True  True  True  True]\n",
      "R-squared =  0.751527130315\n"
     ]
    }
   ],
   "source": [
    "# Use Pipeline\n",
    "# ANOVA \n",
    "from sklearn.pipeline import Pipeline\n",
    "from sklearn.feature_selection import SelectKBest, f_regression\n",
    "anova_filter = SelectKBest(f_regression, k=5)\n",
    "LR = model\n",
    "\n",
    "anova_LinReg = Pipeline([ ('anova', anova_filter), ('LinReg', LR)])\n",
    "# You can set the parameters using the names issued\n",
    "# For instance, fit using a k of 10 in the SelectKBest\n",
    "anova_LinReg.set_params(anova__k=5).fit(new_data, Y)\n",
    "prediction = anova_LinReg.predict(new_data)\n",
    "print anova_LinReg.score(new_data, Y)                        \n",
    "# getting the selected features chosen by anova_filter\n",
    "results = cross_validation.cross_val_score(anova_LinReg, new_data, Y, cv=kfold, scoring=scoring)\n",
    "print 'Scoring according to mean_squared_error'\n",
    "print results\n",
    "print '\\n Mean      Standard deviation'\n",
    "print(\"%.2f      %.2f\" % (results.mean(), results.std()))\n",
    "print anova_LinReg.named_steps['anova'].get_support()\n",
    "r_squared = r2_score(Y, prediction, multioutput='variance_weighted')\n",
    "print 'R-squared = ',r_squared"
   ]
  },
  {
   "cell_type": "code",
   "execution_count": 20,
   "metadata": {
    "collapsed": false
   },
   "outputs": [
    {
     "name": "stdout",
     "output_type": "stream",
     "text": [
      "R-squared =  0.751527130315\n"
     ]
    }
   ],
   "source": [
    "# Using make_pipeline\n",
    "from sklearn.pipeline import make_pipeline\n",
    "\n",
    "# ANOVA SVM-C\n",
    "# 1) anova filter, take 3 best ranked features\n",
    "anova_filter = SelectKBest(f_regression, k=5)\n",
    "anova_Xgboost_NotProcessing = make_pipeline( anova_filter, LR)\n",
    "anova_Xgboost_NotProcessing.fit(new_data, Y)\n",
    "prediction = anova_Xgboost_NotProcessing.predict(new_data)\n",
    "r_squared = r2_score(Y, prediction, multioutput='variance_weighted')\n",
    "print 'R-squared = ',r_squared"
   ]
  },
  {
   "cell_type": "markdown",
   "metadata": {},
   "source": [
    "### Save the Pipeline model for developement"
   ]
  },
  {
   "cell_type": "code",
   "execution_count": 21,
   "metadata": {
    "collapsed": false
   },
   "outputs": [
    {
     "data": {
      "text/plain": [
       "['anova_Xgboost_NotProcessing.pkl',\n",
       " 'anova_Xgboost_NotProcessing.pkl_01.npy',\n",
       " 'anova_Xgboost_NotProcessing.pkl_02.npy']"
      ]
     },
     "execution_count": 21,
     "metadata": {},
     "output_type": "execute_result"
    }
   ],
   "source": [
    "# save the model scaler to the desk\n",
    "from sklearn.externals import joblib\n",
    "joblib.dump(anova_Xgboost_NotProcessing, 'anova_Xgboost_NotProcessing.pkl') "
   ]
  },
  {
   "cell_type": "code",
   "execution_count": 22,
   "metadata": {
    "collapsed": false
   },
   "outputs": [
    {
     "name": "stdout",
     "output_type": "stream",
     "text": [
      " =================================================================>>>>> done\n",
      "R-squared =  0.751527130315\n"
     ]
    }
   ],
   "source": [
    "# Test the model if it is work\n",
    "anova_DecisionTreeRegressorTest = joblib.load('anova_Xgboost_NotProcessing.pkl')\n",
    "NewPred = anova_DecisionTreeRegressorTest.predict(new_data)\n",
    "print \" =================================================================>>>>> done\"\n",
    "r_squared = r2_score(Y, NewPred, multioutput='variance_weighted')\n",
    "print 'R-squared = ',r_squared"
   ]
  },
  {
   "cell_type": "code",
   "execution_count": 23,
   "metadata": {
    "collapsed": false
   },
   "outputs": [
    {
     "name": "stdout",
     "output_type": "stream",
     "text": [
      "Point of training data before normalization\n",
      "[  1.00000000e+03   2.70000000e+00   1.52400000e-01   7.13000000e+01\n",
      "   2.43851000e-03]\n",
      "\n",
      "The read target of the data =  128.774\n",
      "\n",
      "The Predicted target of the data =  [ 129.90924072]\n"
     ]
    }
   ],
   "source": [
    "# test on single data point, randomly choose point number 55\n",
    "print 'Point of training data before normalization\\n',new_data[55]\n",
    "print '\\nThe read target of the data = ', Y[55]\n",
    "NewPred = anova_DecisionTreeRegressorTest.predict([new_data[55]])\n",
    "print '\\nThe Predicted target of the data = ', NewPred"
   ]
  },
  {
   "cell_type": "markdown",
   "metadata": {},
   "source": [
    "## Conclusion "
   ]
  }
 ],
 "metadata": {
  "kernelspec": {
   "display_name": "Python 2",
   "language": "python",
   "name": "python2"
  },
  "language_info": {
   "codemirror_mode": {
    "name": "ipython",
    "version": 2
   },
   "file_extension": ".py",
   "mimetype": "text/x-python",
   "name": "python",
   "nbconvert_exporter": "python",
   "pygments_lexer": "ipython2",
   "version": "2.7.12"
  }
 },
 "nbformat": 4,
 "nbformat_minor": 0
}
