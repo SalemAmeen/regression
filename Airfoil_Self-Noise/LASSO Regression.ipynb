{
 "cells": [
  {
   "cell_type": "markdown",
   "metadata": {},
   "source": [
    "Salem Ameen, PhD student at Salford University\n",
    "\n",
    "### Airfoil Self-Noise price\n",
    "\n",
    "LASSO Regression"
   ]
  },
  {
   "cell_type": "markdown",
   "metadata": {},
   "source": [
    "# Import the Libraries"
   ]
  },
  {
   "cell_type": "code",
   "execution_count": 1,
   "metadata": {
    "collapsed": false
   },
   "outputs": [
    {
     "data": {
      "text/html": [
       "\n",
       "    <div class=\"bk-root\">\n",
       "        <a href=\"http://bokeh.pydata.org\" target=\"_blank\" class=\"bk-logo bk-logo-small bk-logo-notebook\"></a>\n",
       "        <span id=\"823d3bd4-518d-4d1e-8dd3-8456f3faf330\">Loading BokehJS ...</span>\n",
       "    </div>"
      ]
     },
     "metadata": {},
     "output_type": "display_data"
    },
    {
     "data": {
      "application/javascript": [
       "\n",
       "(function(global) {\n",
       "  function now() {\n",
       "    return new Date();\n",
       "  }\n",
       "\n",
       "  var force = \"1\";\n",
       "\n",
       "  if (typeof (window._bokeh_onload_callbacks) === \"undefined\" || force !== \"\") {\n",
       "    window._bokeh_onload_callbacks = [];\n",
       "    window._bokeh_is_loading = undefined;\n",
       "  }\n",
       "\n",
       "\n",
       "  \n",
       "  if (typeof (window._bokeh_timeout) === \"undefined\" || force !== \"\") {\n",
       "    window._bokeh_timeout = Date.now() + 5000;\n",
       "    window._bokeh_failed_load = false;\n",
       "  }\n",
       "\n",
       "  var NB_LOAD_WARNING = {'data': {'text/html':\n",
       "     \"<div style='background-color: #fdd'>\\n\"+\n",
       "     \"<p>\\n\"+\n",
       "     \"BokehJS does not appear to have successfully loaded. If loading BokehJS from CDN, this \\n\"+\n",
       "     \"may be due to a slow or bad network connection. Possible fixes:\\n\"+\n",
       "     \"</p>\\n\"+\n",
       "     \"<ul>\\n\"+\n",
       "     \"<li>re-rerun `output_notebook()` to attempt to load from CDN again, or</li>\\n\"+\n",
       "     \"<li>use INLINE resources instead, as so:</li>\\n\"+\n",
       "     \"</ul>\\n\"+\n",
       "     \"<code>\\n\"+\n",
       "     \"from bokeh.resources import INLINE\\n\"+\n",
       "     \"output_notebook(resources=INLINE)\\n\"+\n",
       "     \"</code>\\n\"+\n",
       "     \"</div>\"}};\n",
       "\n",
       "  function display_loaded() {\n",
       "    if (window.Bokeh !== undefined) {\n",
       "      Bokeh.$(\"#823d3bd4-518d-4d1e-8dd3-8456f3faf330\").text(\"BokehJS successfully loaded.\");\n",
       "    } else if (Date.now() < window._bokeh_timeout) {\n",
       "      setTimeout(display_loaded, 100)\n",
       "    }\n",
       "  }\n",
       "\n",
       "  function run_callbacks() {\n",
       "    window._bokeh_onload_callbacks.forEach(function(callback) { callback() });\n",
       "    delete window._bokeh_onload_callbacks\n",
       "    console.info(\"Bokeh: all callbacks have finished\");\n",
       "  }\n",
       "\n",
       "  function load_libs(js_urls, callback) {\n",
       "    window._bokeh_onload_callbacks.push(callback);\n",
       "    if (window._bokeh_is_loading > 0) {\n",
       "      console.log(\"Bokeh: BokehJS is being loaded, scheduling callback at\", now());\n",
       "      return null;\n",
       "    }\n",
       "    if (js_urls == null || js_urls.length === 0) {\n",
       "      run_callbacks();\n",
       "      return null;\n",
       "    }\n",
       "    console.log(\"Bokeh: BokehJS not loaded, scheduling load and callback at\", now());\n",
       "    window._bokeh_is_loading = js_urls.length;\n",
       "    for (var i = 0; i < js_urls.length; i++) {\n",
       "      var url = js_urls[i];\n",
       "      var s = document.createElement('script');\n",
       "      s.src = url;\n",
       "      s.async = false;\n",
       "      s.onreadystatechange = s.onload = function() {\n",
       "        window._bokeh_is_loading--;\n",
       "        if (window._bokeh_is_loading === 0) {\n",
       "          console.log(\"Bokeh: all BokehJS libraries loaded\");\n",
       "          run_callbacks()\n",
       "        }\n",
       "      };\n",
       "      s.onerror = function() {\n",
       "        console.warn(\"failed to load library \" + url);\n",
       "      };\n",
       "      console.log(\"Bokeh: injecting script tag for BokehJS library: \", url);\n",
       "      document.getElementsByTagName(\"head\")[0].appendChild(s);\n",
       "    }\n",
       "  };var element = document.getElementById(\"823d3bd4-518d-4d1e-8dd3-8456f3faf330\");\n",
       "  if (element == null) {\n",
       "    console.log(\"Bokeh: ERROR: autoload.js configured with elementid '823d3bd4-518d-4d1e-8dd3-8456f3faf330' but no matching script tag was found. \")\n",
       "    return false;\n",
       "  }\n",
       "\n",
       "  var js_urls = ['https://cdn.pydata.org/bokeh/release/bokeh-0.12.2.min.js', 'https://cdn.pydata.org/bokeh/release/bokeh-widgets-0.12.2.min.js', 'https://cdn.pydata.org/bokeh/release/bokeh-compiler-0.12.2.min.js'];\n",
       "\n",
       "  var inline_js = [\n",
       "    function(Bokeh) {\n",
       "      Bokeh.set_log_level(\"info\");\n",
       "    },\n",
       "    \n",
       "    function(Bokeh) {\n",
       "      \n",
       "      Bokeh.$(\"#823d3bd4-518d-4d1e-8dd3-8456f3faf330\").text(\"BokehJS is loading...\");\n",
       "    },\n",
       "    function(Bokeh) {\n",
       "      console.log(\"Bokeh: injecting CSS: https://cdn.pydata.org/bokeh/release/bokeh-0.12.2.min.css\");\n",
       "      Bokeh.embed.inject_css(\"https://cdn.pydata.org/bokeh/release/bokeh-0.12.2.min.css\");\n",
       "      console.log(\"Bokeh: injecting CSS: https://cdn.pydata.org/bokeh/release/bokeh-widgets-0.12.2.min.css\");\n",
       "      Bokeh.embed.inject_css(\"https://cdn.pydata.org/bokeh/release/bokeh-widgets-0.12.2.min.css\");\n",
       "    }\n",
       "  ];\n",
       "\n",
       "  function run_inline_js() {\n",
       "    \n",
       "    if ((window.Bokeh !== undefined) || (force === \"1\")) {\n",
       "      for (var i = 0; i < inline_js.length; i++) {\n",
       "        inline_js[i](window.Bokeh);\n",
       "      }if (force === \"1\") {\n",
       "        display_loaded();\n",
       "      }} else if (Date.now() < window._bokeh_timeout) {\n",
       "      setTimeout(run_inline_js, 100);\n",
       "    } else if (!window._bokeh_failed_load) {\n",
       "      console.log(\"Bokeh: BokehJS failed to load within specified timeout.\");\n",
       "      window._bokeh_failed_load = true;\n",
       "    } else if (!force) {\n",
       "      var cell = $(\"#823d3bd4-518d-4d1e-8dd3-8456f3faf330\").parents('.cell').data().cell;\n",
       "      cell.output_area.append_execute_result(NB_LOAD_WARNING)\n",
       "    }\n",
       "\n",
       "  }\n",
       "\n",
       "  if (window._bokeh_is_loading === 0) {\n",
       "    console.log(\"Bokeh: BokehJS loaded, going straight to plotting\");\n",
       "    run_inline_js();\n",
       "  } else {\n",
       "    load_libs(js_urls, function() {\n",
       "      console.log(\"Bokeh: BokehJS plotting callback run at\", now());\n",
       "      run_inline_js();\n",
       "    });\n",
       "  }\n",
       "}(this));"
      ]
     },
     "metadata": {},
     "output_type": "display_data"
    }
   ],
   "source": [
    "import numpy as np\n",
    "import pandas\n",
    "from numpy import *\n",
    "import time\n",
    "import sys\n",
    "import pandas as pd\n",
    "import matplotlib.pyplot as plt\n",
    "from sklearn import feature_selection\n",
    "from sklearn.linear_model import Lasso\n",
    "from sklearn.learning_curve import learning_curve, validation_curve\n",
    "from sklearn.cross_validation import cross_val_predict\n",
    "from sklearn import metrics, grid_search, cross_validation\n",
    "from IPython.display import set_matplotlib_formats\n",
    "from bokeh.plotting import figure, show, output_notebook\n",
    "from sklearn.grid_search import GridSearchCV, RandomizedSearchCV\n",
    "from sklearn.metrics import r2_score\n",
    "from bokeh.layouts import gridplot\n",
    "output_notebook()\n",
    "set_matplotlib_formats('png', 'pdf')\n",
    "%matplotlib inline\n",
    "plt.rcParams['figure.figsize'] = (6, 6)"
   ]
  },
  {
   "cell_type": "markdown",
   "metadata": {},
   "source": [
    "# Load data"
   ]
  },
  {
   "cell_type": "markdown",
   "metadata": {},
   "source": [
    "In the previous file we have not change the data as there is no missing value or add any new parameters so it can be downloaded from the web directly. "
   ]
  },
  {
   "cell_type": "code",
   "execution_count": 2,
   "metadata": {
    "collapsed": false
   },
   "outputs": [
    {
     "name": "stdout",
     "output_type": "stream",
     "text": [
      "Number of examples 1503\n"
     ]
    }
   ],
   "source": [
    "url = 'http://archive.ics.uci.edu/ml/machine-learning-databases/00291/airfoil_self_noise.dat'\n",
    "names = ['Frequency', 'Angle', 'Chord', 'Free_stream', 'Suction', 'pressure']\n",
    "feature_names = names\n",
    "feature_cols = names\n",
    "data = pd.read_csv(url, sep='\\s+', names = names)\n",
    "\n",
    "from sklearn import preprocessing\n",
    "dataset = data.values\n",
    "X = dataset[:,0:5].astype(float)\n",
    "Y = dataset[:,5]\n",
    "print 'Number of examples',len(X)"
   ]
  },
  {
   "cell_type": "code",
   "execution_count": 3,
   "metadata": {
    "collapsed": false
   },
   "outputs": [
    {
     "name": "stdout",
     "output_type": "stream",
     "text": [
      "Number of training examples 1202\n",
      "Number of validation examples 301\n"
     ]
    }
   ],
   "source": [
    "# Make developement dataset for genrilization and final testing\n",
    "from sklearn.cross_validation import train_test_split\n",
    "# Extracting 20% testing data\n",
    "X_train, X_test, y_train, y_test = train_test_split(\n",
    "    X, Y, test_size=0.20, random_state=0)\n",
    "X = X_train\n",
    "Y = y_train\n",
    "new_data      = X_train\n",
    "new_test_data = X_test\n",
    "print 'Number of training examples',len(X_train)\n",
    "print 'Number of validation examples',len(X_test)"
   ]
  },
  {
   "cell_type": "markdown",
   "metadata": {},
   "source": [
    "Number of training data is very small so we need to use cross validation instead of spareate another validation data."
   ]
  },
  {
   "cell_type": "markdown",
   "metadata": {},
   "source": [
    "From the previous visulization the data has no missing value but has many outlier and some sparisty"
   ]
  },
  {
   "cell_type": "markdown",
   "metadata": {},
   "source": [
    "# Ranking of the feature's importance to the target"
   ]
  },
  {
   "cell_type": "code",
   "execution_count": 4,
   "metadata": {
    "collapsed": false
   },
   "outputs": [
    {
     "name": "stdout",
     "output_type": "stream",
     "text": [
      "Frequency \t0.152655405122\n",
      "Angle \t0.0237688293467\n",
      "Chord \t0.0\n",
      "Free_stream \t0.0155639513671\n",
      "Suction \t0.0\n",
      "pressure \t0.999557900543\n"
     ]
    }
   ],
   "source": [
    "# Using just correlation coefficient even in prevoius file we show them using data frame\n",
    "for col in feature_cols:\n",
    "    lm = Lasso(fit_intercept=True)\n",
    "    lm.fit(data[[col]], data['pressure'])\n",
    "    print col,'\\t', lm.score(data[[col]], data['pressure'])"
   ]
  },
  {
   "cell_type": "code",
   "execution_count": 5,
   "metadata": {
    "collapsed": false
   },
   "outputs": [
    {
     "name": "stdout",
     "output_type": "stream",
     "text": [
      "Feature Name      Score         Pvalue\n",
      "Frequency \t\t270.416272463 \t5.36177705642e-56\n",
      "Angle \t\t37.4923835551 \t1.16954827306e-09\n",
      "Chord \t\t88.6588675485 \t1.70142015337e-20\n",
      "Free_stream \t\t23.8652245755 \t1.1437427443e-06\n",
      "Suction \t\t162.641263457 \t1.92478295603e-35\n",
      "pressure \t\tinf \t0.0\n"
     ]
    }
   ],
   "source": [
    "# Randing the important features to the target\n",
    "model = feature_selection.SelectKBest(score_func=feature_selection.f_regression,k=4)\n",
    "results = model.fit(data[feature_cols], data['pressure'])\n",
    "k=0\n",
    "print 'Feature Name      Score         Pvalue'\n",
    "for feat in feature_cols:\n",
    "    print feat,'\\t\\t',results.scores_[k],'\\t',results.pvalues_[k]\n",
    "    k=k+1\n"
   ]
  },
  {
   "cell_type": "markdown",
   "metadata": {},
   "source": [
    "# Set the parameters for cross validation"
   ]
  },
  {
   "cell_type": "code",
   "execution_count": 6,
   "metadata": {
    "collapsed": true
   },
   "outputs": [],
   "source": [
    "num_folds = 10\n",
    "num_instances = len(X)\n",
    "seed = 7\n",
    "kfold = cross_validation.KFold(n=num_instances, n_folds=num_folds, random_state=seed)"
   ]
  },
  {
   "cell_type": "markdown",
   "metadata": {},
   "source": [
    " # Set the parameters for bias-variance dilemma"
   ]
  },
  {
   "cell_type": "code",
   "execution_count": 7,
   "metadata": {
    "collapsed": false
   },
   "outputs": [],
   "source": [
    "def plot_learning_curve(estimator, title, X, y, ylim=None, cv=None,\n",
    "                        n_jobs=1, train_sizes=np.linspace(.1, 1.0, 5)):\n",
    "    plt.figure()\n",
    "    plt.title(title)\n",
    "    if ylim is not None:\n",
    "        plt.ylim(*ylim)\n",
    "    plt.xlabel(\"Training examples\")\n",
    "    plt.ylabel(\"Score\")\n",
    "    train_sizes, train_scores, test_scores = learning_curve(\n",
    "        estimator, X, y, cv=cv, n_jobs=n_jobs, train_sizes=train_sizes)\n",
    "    train_scores_mean = np.mean(train_scores, axis=1)\n",
    "    train_scores_std = np.std(train_scores, axis=1)\n",
    "    test_scores_mean = np.mean(test_scores, axis=1)\n",
    "    test_scores_std = np.std(test_scores, axis=1)\n",
    "    plt.grid()\n",
    "\n",
    "    plt.fill_between(train_sizes, train_scores_mean - train_scores_std,\n",
    "                     train_scores_mean + train_scores_std, alpha=0.1,\n",
    "                     color=\"r\")\n",
    "    plt.fill_between(train_sizes, test_scores_mean - test_scores_std,\n",
    "                     test_scores_mean + test_scores_std, alpha=0.1, color=\"g\")\n",
    "    plt.plot(train_sizes, train_scores_mean, 'o-', color=\"r\",\n",
    "             label=\"Training score\")\n",
    "    plt.plot(train_sizes, test_scores_mean, 'o-', color=\"g\",\n",
    "             label=\"Cross-validation score\")\n",
    "\n",
    "    plt.legend(loc=\"best\")\n",
    "    return plt"
   ]
  },
  {
   "cell_type": "markdown",
   "metadata": {},
   "source": [
    "# Preprocessing the data and save both the model and preprocessed data"
   ]
  },
  {
   "cell_type": "code",
   "execution_count": 8,
   "metadata": {
    "collapsed": true
   },
   "outputs": [],
   "source": [
    "# According to the nature of the data spasity and there is outliter RobustScaler class is recomandit \n",
    "# but when I tried both of them the result seems is same\n",
    "from sklearn.preprocessing import StandardScaler\n",
    "scaler = preprocessing.StandardScaler().fit(X_train)"
   ]
  },
  {
   "cell_type": "code",
   "execution_count": 9,
   "metadata": {
    "collapsed": true
   },
   "outputs": [],
   "source": [
    "X_train = scaler.transform(X_train)\n",
    "X_test = scaler.transform(X_test) # use same transform for testing data\n",
    "X = X_train"
   ]
  },
  {
   "cell_type": "code",
   "execution_count": 10,
   "metadata": {
    "collapsed": true
   },
   "outputs": [],
   "source": [
    "# save transformed data\n",
    "np.save('./data/X_train', X_train)\n",
    "np.save('./data/y_train', y_train)\n",
    "np.save('./data/X_test', X_test)\n",
    "np.save('./data/y_test', y_test)"
   ]
  },
  {
   "cell_type": "code",
   "execution_count": 11,
   "metadata": {
    "collapsed": false
   },
   "outputs": [
    {
     "data": {
      "text/plain": [
       "['scaler.pkl', 'scaler.pkl_01.npy', 'scaler.pkl_02.npy', 'scaler.pkl_03.npy']"
      ]
     },
     "execution_count": 11,
     "metadata": {},
     "output_type": "execute_result"
    }
   ],
   "source": [
    "# save the model scaler to the desk\n",
    "from sklearn.externals import joblib\n",
    "joblib.dump(scaler, 'scaler.pkl') "
   ]
  },
  {
   "cell_type": "code",
   "execution_count": 12,
   "metadata": {
    "collapsed": false
   },
   "outputs": [
    {
     "name": "stdout",
     "output_type": "stream",
     "text": [
      " =================================================================>>>>> done\n",
      "[[ 2.29083349 -1.15043085 -1.17128043  1.28444798 -0.82148429]\n",
      " [ 1.09730905 -1.15043085  1.81266366  1.28444798 -0.65012723]\n",
      " [-0.12847281  0.9056672  -0.35747749 -1.24501741  2.31947901]\n",
      " ..., \n",
      " [-0.41878957 -1.15043085  0.18505779 -0.74040184 -0.70544919]\n",
      " [-0.61233407 -0.2644699   0.99886072 -0.74040184 -0.3865872 ]\n",
      " [ 2.29083349 -0.69909225  0.18505779 -0.74040184 -0.62856871]]\n"
     ]
    }
   ],
   "source": [
    "# Test the model if it is work\n",
    "scalerTest = joblib.load('scaler.pkl')\n",
    "new_data_scaled = scalerTest.transform(new_test_data)\n",
    "print \" =================================================================>>>>> done\"\n",
    "print new_data_scaled"
   ]
  },
  {
   "cell_type": "markdown",
   "metadata": {},
   "source": [
    "# 1. LASSO Regression"
   ]
  },
  {
   "cell_type": "markdown",
   "metadata": {},
   "source": [
    "The Least Absolute Shrinkage and Selection Operator (or LASSO for short) is a modification of linear regression, like Lasso regression, where the loss function is modified to minimize the complexity of the model measured as the sum absolute value of the coefficient values (also called the l1-norm)."
   ]
  },
  {
   "cell_type": "markdown",
   "metadata": {},
   "source": [
    "## Validation curve"
   ]
  },
  {
   "cell_type": "markdown",
   "metadata": {},
   "source": [
    "choosing multiple hyperparameters of an estimator "
   ]
  },
  {
   "cell_type": "code",
   "execution_count": 13,
   "metadata": {
    "collapsed": false
   },
   "outputs": [
    {
     "data": {
      "text/plain": [
       "['normalize',\n",
       " 'warm_start',\n",
       " 'selection',\n",
       " 'fit_intercept',\n",
       " 'positive',\n",
       " 'max_iter',\n",
       " 'precompute',\n",
       " 'random_state',\n",
       " 'tol',\n",
       " 'copy_X',\n",
       " 'alpha']"
      ]
     },
     "execution_count": 13,
     "metadata": {},
     "output_type": "execute_result"
    }
   ],
   "source": [
    "from sklearn.linear_model import Lasso,LassoCV\n",
    "estimator = Lasso()\n",
    "estimator.get_params().keys()"
   ]
  },
  {
   "cell_type": "code",
   "execution_count": 14,
   "metadata": {
    "collapsed": false
   },
   "outputs": [
    {
     "data": {
      "image/png": "[encoded data removed]",
      "text/plain": [
       "<matplotlib.figure.Figure at 0x7f1d6ed48410>"
      ]
     },
     "metadata": {},
     "output_type": "display_data"
    }
   ],
   "source": [
    "# For parametr alpha\n",
    "#param_range = np.logspace(-10.0, 10.0)\n",
    "#param_range = np.logspace(-7, 7, 3)\n",
    "param_range = np.linspace(1,5.0,10)\n",
    "\n",
    "train_scores, test_scores = validation_curve(\n",
    "    Lasso(), X, Y, param_name=\"alpha\", param_range=param_range,\n",
    "    cv=num_folds,  n_jobs=-1)\n",
    "train_scores_mean = np.mean(train_scores, axis=1)\n",
    "train_scores_std = np.std(train_scores, axis=1)\n",
    "test_scores_mean = np.mean(test_scores, axis=1)\n",
    "test_scores_std = np.std(test_scores, axis=1)\n",
    "\n",
    "plt.title(\"Validation Curve with Lasso\")\n",
    "plt.xlabel(\"alpha\")\n",
    "plt.ylabel(\"Score\")\n",
    "plt.ylim(0.4, 1.0)\n",
    "plt.plot(param_range, train_scores_mean, label=\"Training score\", color=\"r\")\n",
    "plt.fill_between(param_range, train_scores_mean - train_scores_std,\n",
    "                 train_scores_mean + train_scores_std, alpha=0.2, color=\"r\")\n",
    "plt.plot(param_range, test_scores_mean, label=\"Cross-validation score\",\n",
    "             color=\"g\")\n",
    "plt.fill_between(param_range, test_scores_mean - test_scores_std,\n",
    "                 test_scores_mean + test_scores_std, alpha=0.2, color=\"g\")\n",
    "plt.legend(loc=\"best\")\n",
    "plt.show()"
   ]
  },
  {
   "cell_type": "markdown",
   "metadata": {},
   "source": [
    "It looks alpha between 1 and 2 works well"
   ]
  },
  {
   "cell_type": "markdown",
   "metadata": {},
   "source": [
    "## Grid search and/or Random search to determine best compination of parameters"
   ]
  },
  {
   "cell_type": "code",
   "execution_count": 15,
   "metadata": {
    "collapsed": false
   },
   "outputs": [
    {
     "name": "stdout",
     "output_type": "stream",
     "text": [
      "Hyperparameter optimization using GridSearchCV...\n",
      "Parameters with rank: 1\n",
      "Mean validation score: 0.3371 (std: 0.0388)\n",
      "Parameters: {'precompute': True, 'alpha': 1.0}\n",
      "\n",
      "Parameters with rank: 2\n",
      "Mean validation score: 0.3371 (std: 0.0388)\n",
      "Parameters: {'precompute': False, 'alpha': 1.0}\n",
      "\n",
      "Parameters with rank: 3\n",
      "Mean validation score: 0.2188 (std: 0.0195)\n",
      "Parameters: {'precompute': True, 'alpha': 1.5}\n",
      "\n",
      "Parameters with rank: 4\n",
      "Mean validation score: 0.2188 (std: 0.0195)\n",
      "Parameters: {'precompute': False, 'alpha': 1.5}\n",
      "\n",
      "Parameters with rank: 5\n",
      "Mean validation score: 0.0832 (std: 0.0082)\n",
      "Parameters: {'precompute': False, 'alpha': 2.0}\n",
      "\n",
      "+++++++++++++++++++++++++++++++++++++++++++++++\n",
      "Hyperparameter optimization using RandomizedSearchCV\n"
     ]
    },
    {
     "name": "stderr",
     "output_type": "stream",
     "text": [
      "/home/salm/anaconda2/lib/python2.7/site-packages/sklearn/cross_validation.py:1531: UserWarning: With alpha=0, this algorithm does not converge well. You are advised to use the LinearRegression estimator\n",
      "  estimator.fit(X_train, y_train, **fit_params)\n",
      "/home/salm/anaconda2/lib/python2.7/site-packages/sklearn/linear_model/coordinate_descent.py:450: UserWarning: Coordinate descent with alpha=0 may lead to unexpected results and is discouraged.\n",
      "  tol, rng, random, positive)\n",
      "/home/salm/anaconda2/lib/python2.7/site-packages/sklearn/linear_model/coordinate_descent.py:466: ConvergenceWarning: Objective did not converge. You might want to increase the number of iterations\n",
      "  ConvergenceWarning)\n"
     ]
    },
    {
     "name": "stdout",
     "output_type": "stream",
     "text": [
      "Parameters with rank: 1\n",
      "Mean validation score: 0.4929 (std: 0.0746)\n",
      "Parameters: {'precompute': True, 'alpha': 0.0}\n",
      "\n",
      "Parameters with rank: 2\n",
      "Mean validation score: 0.3248 (std: 0.0366)\n",
      "Parameters: {'precompute': False, 'alpha': 1.0526315789473684}\n",
      "\n",
      "Parameters with rank: 3\n",
      "Mean validation score: 0.2660 (std: 0.0262)\n",
      "Parameters: {'precompute': False, 'alpha': 1.3157894736842104}\n",
      "\n",
      "Parameters with rank: 4\n",
      "Mean validation score: 0.1966 (std: 0.0171)\n",
      "Parameters: {'precompute': True, 'alpha': 1.5789473684210527}\n",
      "\n",
      "Parameters with rank: 5\n",
      "Mean validation score: -0.0031 (std: 0.0040)\n",
      "Parameters: {'precompute': True, 'alpha': 3.9473684210526314}\n",
      "\n"
     ]
    },
    {
     "name": "stderr",
     "output_type": "stream",
     "text": [
      "/home/salm/anaconda2/lib/python2.7/site-packages/sklearn/grid_search.py:599: UserWarning: With alpha=0, this algorithm does not converge well. You are advised to use the LinearRegression estimator\n",
      "  best_estimator.fit(X, y, **self.fit_params)\n",
      "/home/salm/anaconda2/lib/python2.7/site-packages/sklearn/linear_model/coordinate_descent.py:450: UserWarning: Coordinate descent with alpha=0 may lead to unexpected results and is discouraged.\n",
      "  tol, rng, random, positive)\n",
      "/home/salm/anaconda2/lib/python2.7/site-packages/sklearn/linear_model/coordinate_descent.py:466: ConvergenceWarning: Objective did not converge. You might want to increase the number of iterations\n",
      "  ConvergenceWarning)\n"
     ]
    }
   ],
   "source": [
    "# Utility function to report optimal parameters\n",
    "from operator import itemgetter\n",
    "def report(grid_scores, n_top=5):\n",
    "    params = None\n",
    "    top_scores = sorted(grid_scores, key=itemgetter(1), reverse=True)[:n_top]\n",
    "    for i, score in enumerate(top_scores):\n",
    "        print(\"Parameters with rank: {0}\".format(i + 1))\n",
    "        print(\"Mean validation score: {0:.4f} (std: {1:.4f})\".format(\n",
    "              score.mean_validation_score, np.std(score.cv_validation_scores)))\n",
    "        print(\"Parameters: {0}\".format(score.parameters))\n",
    "        print(\"\")\n",
    "        \n",
    "        if params == None:\n",
    "            params = score.parameters\n",
    "    \n",
    "    return params\n",
    "\n",
    "# The most common value for the max number of features to look at in each split is sqrt(# of features)\n",
    "sqrtfeat = np.sqrt(X.shape[1]) \n",
    "# Simple grid test (162 combinations)\n",
    "grid_test1 = { \"alpha\"      : [1.0, 1.5, 2.0, 2.5],\n",
    "               \"precompute\"         : [False, True] }\n",
    "\n",
    "# Large randomized test using max_depth to control tree size (5000 possible combinations)\n",
    "random_test1 = { \"alpha\"          : np.linspace(0,5.0,20),\n",
    "                 \"precompute\"         : [False, True] }\n",
    "\n",
    "\n",
    "forest = Lasso()\n",
    "\n",
    "print \"Hyperparameter optimization using GridSearchCV...\"\n",
    "grid_search = GridSearchCV(forest, grid_test1, n_jobs=-1, cv=num_folds)\n",
    "grid_search.fit(X, Y)\n",
    "best_params_from_grid_search = report(grid_search.grid_scores_)\n",
    "print '+++++++++++++++++++++++++++++++++++++++++++++++'\n",
    "print \"Hyperparameter optimization using RandomizedSearchCV\"\n",
    "grid_search = RandomizedSearchCV(forest, random_test1, n_jobs=-1, cv=num_folds, n_iter=5)\n",
    "grid_search.fit(X, Y)\n",
    "best_params_from_rand_search1 = report(grid_search.grid_scores_)"
   ]
  },
  {
   "cell_type": "markdown",
   "metadata": {},
   "source": [
    "Best parameters Parameters: {'precompute': False, 'alpha': 0.26315789473684209}\n"
   ]
  },
  {
   "cell_type": "markdown",
   "metadata": {},
   "source": [
    "## Learning Curve "
   ]
  },
  {
   "cell_type": "markdown",
   "metadata": {},
   "source": [
    "In essence, what we’re doing it training the exact same model with increasingly large fractions of our total training data, and plotting the error of the training and test sets at each step."
   ]
  },
  {
   "cell_type": "code",
   "execution_count": 16,
   "metadata": {
    "collapsed": false
   },
   "outputs": [
    {
     "data": {
      "image/png": "[encoded data removed]",
      "text/plain": [
       "<matplotlib.figure.Figure at 0x7f1d6a795110>"
      ]
     },
     "metadata": {},
     "output_type": "display_data"
    }
   ],
   "source": [
    "from sklearn.linear_model import Lasso,LassoCV\n",
    "# 'alpha': 10.0, 'solver': 'lsqr'\n",
    "model = Lasso(alpha = 0.26315789473684209, precompute = False)\n",
    "title = \"Learning Curves (Lasso Refression)\"\n",
    "cv = cross_validation.ShuffleSplit(X.shape[0], n_iter=100,\n",
    "                                   test_size=0.2, random_state=0)\n",
    "plot_learning_curve(model, title, X, Y, ylim=(0.2, 1.01), cv=cv, n_jobs=-1)\n",
    "plt.show()"
   ]
  },
  {
   "cell_type": "code",
   "execution_count": 17,
   "metadata": {
    "collapsed": false
   },
   "outputs": [
    {
     "name": "stdout",
     "output_type": "stream",
     "text": [
      "train_sizes =  [ 50  80 110]\n",
      " training scores\n",
      " 50 training sizees\n",
      "0.544035598427 ± 0.108885133785\n",
      " 80 training sizees\n",
      "0.519968171235 ± 0.0834590323589\n",
      " 110 training sizees\n",
      "0.508620249066 ± 0.0765391263655\n",
      "\n",
      " validation scores\n",
      " 50 validation scores\n",
      "0.419673626299 ± 0.0657814062228\n",
      " 80 validation scores\n",
      "0.444628423786 ± 0.0512073171664\n",
      " 110 validation scores\n",
      "0.455420240992 ± 0.0423740174942\n"
     ]
    }
   ],
   "source": [
    "# More data from learning curve to show the process of building the model\n",
    "train_sizes, train_scores, valid_scores = learning_curve(\n",
    "     model, X, Y, train_sizes=[50, 80, 110], cv=cv, n_jobs=4)\n",
    "\n",
    "print 'train_sizes = ', train_sizes\n",
    "\n",
    "print ' training scores'\n",
    "print ' 50 training sizees'\n",
    "print train_scores[0].mean(),'±',train_scores[0].std()\n",
    "print ' 80 training sizees'\n",
    "print train_scores[1].mean(),'±',train_scores[1].std()\n",
    "print ' 110 training sizees'\n",
    "print train_scores[2].mean(),'±',train_scores[2].std()\n",
    "\n",
    "print '\\n validation scores'\n",
    "print ' 50 validation scores'\n",
    "print valid_scores[0].mean(),'±',valid_scores[0].std()\n",
    "print ' 80 validation scores'\n",
    "print valid_scores[1].mean(),'±',valid_scores[1].std()\n",
    "print ' 110 validation scores'\n",
    "print valid_scores[2].mean(),'±',valid_scores[2].std()"
   ]
  },
  {
   "cell_type": "markdown",
   "metadata": {},
   "source": [
    "## Cross validation"
   ]
  },
  {
   "cell_type": "code",
   "execution_count": 19,
   "metadata": {
    "collapsed": false
   },
   "outputs": [
    {
     "name": "stdout",
     "output_type": "stream",
     "text": [
      "Scoring according to mean_squared_error\n",
      "[-24.50865418 -30.31495733 -28.28652053 -28.70244851 -20.72889539\n",
      " -27.88553735 -20.88942625 -21.46128568 -20.03085905 -22.89957664]\n",
      "\n",
      " Mean      Standard deviation\n",
      "-24.57      3.69\n",
      "\n",
      " print intercept and coefficients\n",
      "124.844381032\n",
      "[-3.45736445 -1.64127904 -2.72033068  1.15101097 -1.98181511]\n",
      "\n",
      "(feature, coefficients)\n",
      "[('Frequency', -3.4573644525054155), ('Angle', -1.6412790435241194), ('Chord', -2.7203306814095529), ('Free_stream', 1.1510109731281106), ('Suction', -1.9818151111098492)]\n"
     ]
    }
   ],
   "source": [
    "scoring = 'mean_squared_error'\n",
    "results = cross_validation.cross_val_score(model, X, Y, cv=kfold, scoring=scoring)\n",
    "print 'Scoring according to mean_squared_error'\n",
    "print results\n",
    "print '\\n Mean      Standard deviation'\n",
    "print(\"%.2f      %.2f\" % (results.mean(), results.std()))\n",
    "## Fit the model\n",
    "model.fit(X,Y)\n",
    "print '\\n print intercept and coefficients'\n",
    "print model.intercept_\n",
    "print model.coef_\n",
    "# pair the feature names with the coefficients\n",
    "print '\\n(feature, coefficients)'\n",
    "print zip(feature_cols, model.coef_)\n",
    "# Linear qu. of the model\n",
    "\n"
   ]
  },
  {
   "cell_type": "markdown",
   "metadata": {},
   "source": [
    "To be more precise these valrible is not the input feature as descripe on the dataset, those varibles in scaled virsion on the orginal onces. So, to be more correct I should assign to them another varibles but for easy to unserstand I kept them as they were."
   ]
  },
  {
   "cell_type": "markdown",
   "metadata": {},
   "source": [
    "## Coefficients Of Determination {Calculating R^2}\n",
    "\n",
    "R^2, Close to one is better"
   ]
  },
  {
   "cell_type": "code",
   "execution_count": 20,
   "metadata": {
    "collapsed": false
   },
   "outputs": [
    {
     "name": "stdout",
     "output_type": "stream",
     "text": [
      "R-squared =  0.484679874659\n"
     ]
    }
   ],
   "source": [
    "predicted = cross_val_predict(model, X, Y, cv=kfold)\n",
    "r_squared = r2_score(Y, predicted, multioutput='variance_weighted')\n",
    "print 'R-squared = ',r_squared"
   ]
  },
  {
   "cell_type": "markdown",
   "metadata": {},
   "source": [
    "## Residual Plot"
   ]
  },
  {
   "cell_type": "code",
   "execution_count": 21,
   "metadata": {
    "collapsed": false
   },
   "outputs": [
    {
     "data": {
      "image/png": "[encoded data removed]",
      "text/plain": [
       "<matplotlib.figure.Figure at 0x7f1d6a0b5c90>"
      ]
     },
     "metadata": {},
     "output_type": "display_data"
    }
   ],
   "source": [
    "predicted = cross_val_predict(model, X, Y, cv=kfold)\n",
    "fig, ax = plt.subplots()\n",
    "ax.scatter(Y, predicted)\n",
    "ax.plot([Y.min(), Y.max()], [Y.min(), Y.max()], 'k--', lw=4)\n",
    "ax.set_xlabel('Measured')\n",
    "ax.set_ylabel('Predicted')\n",
    "plt.show()"
   ]
  },
  {
   "cell_type": "code",
   "execution_count": 22,
   "metadata": {
    "collapsed": false
   },
   "outputs": [
    {
     "data": {
      "text/html": [
       "\n",
       "\n",
       "    <div class=\"bk-root\">\n",
       "        <div class=\"plotdiv\" id=\"61465df9-7b99-4b97-aeb7-e293c7d89d62\"></div>\n",
       "    </div>\n",
       "<script type=\"text/javascript\">\n",
       "  \n",
       "  (function(global) {\n",
       "    function now() {\n",
       "      return new Date();\n",
       "    }\n",
       "  \n",
       "    var force = \"\";\n",
       "  \n",
       "    if (typeof (window._bokeh_onload_callbacks) === \"undefined\" || force !== \"\") {\n",
       "      window._bokeh_onload_callbacks = [];\n",
       "      window._bokeh_is_loading = undefined;\n",
       "    }\n",
       "  \n",
       "  \n",
       "    \n",
       "    if (typeof (window._bokeh_timeout) === \"undefined\" || force !== \"\") {\n",
       "      window._bokeh_timeout = Date.now() + 0;\n",
       "      window._bokeh_failed_load = false;\n",
       "    }\n",
       "  \n",
       "    var NB_LOAD_WARNING = {'data': {'text/html':\n",
       "       \"<div style='background-color: #fdd'>\\n\"+\n",
       "       \"<p>\\n\"+\n",
       "       \"BokehJS does not appear to have successfully loaded. If loading BokehJS from CDN, this \\n\"+\n",
       "       \"may be due to a slow or bad network connection. Possible fixes:\\n\"+\n",
       "       \"</p>\\n\"+\n",
       "       \"<ul>\\n\"+\n",
       "       \"<li>re-rerun `output_notebook()` to attempt to load from CDN again, or</li>\\n\"+\n",
       "       \"<li>use INLINE resources instead, as so:</li>\\n\"+\n",
       "       \"</ul>\\n\"+\n",
       "       \"<code>\\n\"+\n",
       "       \"from bokeh.resources import INLINE\\n\"+\n",
       "       \"output_notebook(resources=INLINE)\\n\"+\n",
       "       \"</code>\\n\"+\n",
       "       \"</div>\"}};\n",
       "  \n",
       "    function display_loaded() {\n",
       "      if (window.Bokeh !== undefined) {\n",
       "        Bokeh.$(\"#61465df9-7b99-4b97-aeb7-e293c7d89d62\").text(\"BokehJS successfully loaded.\");\n",
       "      } else if (Date.now() < window._bokeh_timeout) {\n",
       "        setTimeout(display_loaded, 100)\n",
       "      }\n",
       "    }\n",
       "  \n",
       "    function run_callbacks() {\n",
       "      window._bokeh_onload_callbacks.forEach(function(callback) { callback() });\n",
       "      delete window._bokeh_onload_callbacks\n",
       "      console.info(\"Bokeh: all callbacks have finished\");\n",
       "    }\n",
       "  \n",
       "    function load_libs(js_urls, callback) {\n",
       "      window._bokeh_onload_callbacks.push(callback);\n",
       "      if (window._bokeh_is_loading > 0) {\n",
       "        console.log(\"Bokeh: BokehJS is being loaded, scheduling callback at\", now());\n",
       "        return null;\n",
       "      }\n",
       "      if (js_urls == null || js_urls.length === 0) {\n",
       "        run_callbacks();\n",
       "        return null;\n",
       "      }\n",
       "      console.log(\"Bokeh: BokehJS not loaded, scheduling load and callback at\", now());\n",
       "      window._bokeh_is_loading = js_urls.length;\n",
       "      for (var i = 0; i < js_urls.length; i++) {\n",
       "        var url = js_urls[i];\n",
       "        var s = document.createElement('script');\n",
       "        s.src = url;\n",
       "        s.async = false;\n",
       "        s.onreadystatechange = s.onload = function() {\n",
       "          window._bokeh_is_loading--;\n",
       "          if (window._bokeh_is_loading === 0) {\n",
       "            console.log(\"Bokeh: all BokehJS libraries loaded\");\n",
       "            run_callbacks()\n",
       "          }\n",
       "        };\n",
       "        s.onerror = function() {\n",
       "          console.warn(\"failed to load library \" + url);\n",
       "        };\n",
       "        console.log(\"Bokeh: injecting script tag for BokehJS library: \", url);\n",
       "        document.getElementsByTagName(\"head\")[0].appendChild(s);\n",
       "      }\n",
       "    };var element = document.getElementById(\"61465df9-7b99-4b97-aeb7-e293c7d89d62\");\n",
       "    if (element == null) {\n",
       "      console.log(\"Bokeh: ERROR: autoload.js configured with elementid '61465df9-7b99-4b97-aeb7-e293c7d89d62' but no matching script tag was found. \")\n",
       "      return false;\n",
       "    }\n",
       "  \n",
       "    var js_urls = [];\n",
       "  \n",
       "    var inline_js = [\n",
       "      function(Bokeh) {\n",
       "        Bokeh.$(function() {\n",
       "            var docs_json = {\"fc21541c-83b4-446f-a3c4-4172c4909223\":{\"roots\":{\"references\":[{\"attributes\":{\"fill_alpha\":{\"value\":0.1},\"fill_color\":{\"value\":\"#1f77b4\"},\"line_alpha\":{\"value\":0.1},\"line_color\":{\"value\":\"#1f77b4\"},\"line_width\":{\"value\":3},\"x\":{\"field\":\"x\"},\"y\":{\"field\":\"y\"}},\"id\":\"2011eee3-34e1-4351-a25e-852da46cbc0f\",\"type\":\"Circle\"},{\"attributes\":{\"dimension\":1,\"plot\":{\"id\":\"a787e297-3f13-46b1-9a4a-f256431b062d\",\"subtype\":\"Figure\",\"type\":\"Plot\"},\"ticker\":{\"id\":\"bdbc7372-761b-4e36-b054-1f61edb03e3a\",\"type\":\"BasicTicker\"}},\"id\":\"c89e2e59-515b-4de4-86bb-08d277a37bb9\",\"type\":\"Grid\"},{\"attributes\":{\"plot\":{\"id\":\"a787e297-3f13-46b1-9a4a-f256431b062d\",\"subtype\":\"Figure\",\"type\":\"Plot\"}},\"id\":\"f156aff8-6901-495a-8fca-0172b0eaa366\",\"type\":\"ResetTool\"},{\"attributes\":{\"overlay\":{\"id\":\"06774b2d-a9c2-45d3-bc7d-c437cf51d8b1\",\"type\":\"PolyAnnotation\"},\"plot\":{\"id\":\"a787e297-3f13-46b1-9a4a-f256431b062d\",\"subtype\":\"Figure\",\"type\":\"Plot\"}},\"id\":\"38de7a5f-876a-4b53-b67a-01ddd51e2150\",\"type\":\"PolySelectTool\"},{\"attributes\":{\"callback\":null,\"plot\":{\"id\":\"a787e297-3f13-46b1-9a4a-f256431b062d\",\"subtype\":\"Figure\",\"type\":\"Plot\"}},\"id\":\"1cc2d2dd-2a8b-4420-a3d2-b9551e06f36a\",\"type\":\"TapTool\"},{\"attributes\":{\"data_source\":{\"id\":\"d104cb32-0bcf-4ef8-b6e8-a15a57cac97a\",\"type\":\"ColumnDataSource\"},\"glyph\":{\"id\":\"1f1c0554-7e6a-4989-9ec1-65cf84a21a91\",\"type\":\"Line\"},\"hover_glyph\":null,\"nonselection_glyph\":{\"id\":\"785e80e1-8347-466d-b6f1-cfc52fd7777b\",\"type\":\"Line\"},\"selection_glyph\":null},\"id\":\"dd982952-901d-4a45-81e7-e4be73cc8bdc\",\"type\":\"GlyphRenderer\"},{\"attributes\":{\"fill_alpha\":{\"value\":0.5},\"fill_color\":{\"value\":\"lightgrey\"},\"level\":\"overlay\",\"line_alpha\":{\"value\":1.0},\"line_color\":{\"value\":\"black\"},\"line_dash\":[4,4],\"line_width\":{\"value\":2},\"plot\":null,\"xs_units\":\"screen\",\"ys_units\":\"screen\"},\"id\":\"e409e16c-96a4-442d-a793-c487653936e0\",\"type\":\"PolyAnnotation\"},{\"attributes\":{},\"id\":\"cf786979-e18e-4a8f-8494-a1c9f09a955b\",\"type\":\"BasicTicker\"},{\"attributes\":{\"plot\":{\"id\":\"a787e297-3f13-46b1-9a4a-f256431b062d\",\"subtype\":\"Figure\",\"type\":\"Plot\"}},\"id\":\"54f6181c-12b0-4c8b-a2eb-ca5177a4e7c7\",\"type\":\"PanTool\"},{\"attributes\":{\"active_drag\":\"auto\",\"active_scroll\":\"auto\",\"active_tap\":\"auto\",\"tools\":[{\"id\":\"5885e4ce-d19b-447b-b586-abbc56e752ec\",\"type\":\"BoxZoomTool\"},{\"id\":\"efdbc2b3-f3d1-4b12-905e-a35a722742a4\",\"type\":\"BoxSelectTool\"},{\"id\":\"93dba675-37cc-418c-bc15-feb9c5c54fcd\",\"type\":\"CrosshairTool\"},{\"id\":\"6ca27c18-bac8-4a2a-a8d8-9f339d3f6cc2\",\"type\":\"ResizeTool\"},{\"id\":\"f156aff8-6901-495a-8fca-0172b0eaa366\",\"type\":\"ResetTool\"},{\"id\":\"0993dca0-d043-437f-b0f6-31d076cf714b\",\"type\":\"LassoSelectTool\"},{\"id\":\"54f6181c-12b0-4c8b-a2eb-ca5177a4e7c7\",\"type\":\"PanTool\"},{\"id\":\"27698999-3413-4ca7-84c2-f053ff9f6e68\",\"type\":\"SaveTool\"},{\"id\":\"38de7a5f-876a-4b53-b67a-01ddd51e2150\",\"type\":\"PolySelectTool\"},{\"id\":\"1cc2d2dd-2a8b-4420-a3d2-b9551e06f36a\",\"type\":\"TapTool\"},{\"id\":\"1582082a-df97-4375-a0e0-9b47293d7569\",\"type\":\"WheelZoomTool\"},{\"id\":\"286b4d28-46e7-4395-8e31-10be6e688845\",\"type\":\"UndoTool\"}]},\"id\":\"7d31c01c-c9db-46fd-aa2b-c7677c489974\",\"type\":\"Toolbar\"},{\"attributes\":{\"callback\":null},\"id\":\"19b63dba-f34b-488e-b7b4-9bb695a08f2c\",\"type\":\"DataRange1d\"},{\"attributes\":{\"plot\":{\"id\":\"a787e297-3f13-46b1-9a4a-f256431b062d\",\"subtype\":\"Figure\",\"type\":\"Plot\"}},\"id\":\"93dba675-37cc-418c-bc15-feb9c5c54fcd\",\"type\":\"CrosshairTool\"},{\"attributes\":{\"line_alpha\":{\"value\":0.1},\"line_color\":{\"value\":\"#1f77b4\"},\"line_dash\":[4,4],\"line_width\":{\"value\":2},\"x\":{\"field\":\"x\"},\"y\":{\"field\":\"y\"}},\"id\":\"785e80e1-8347-466d-b6f1-cfc52fd7777b\",\"type\":\"Line\"},{\"attributes\":{\"bottom_units\":\"screen\",\"fill_alpha\":{\"value\":0.5},\"fill_color\":{\"value\":\"lightgrey\"},\"left_units\":\"screen\",\"level\":\"overlay\",\"line_alpha\":{\"value\":1.0},\"line_color\":{\"value\":\"black\"},\"line_dash\":[4,4],\"line_width\":{\"value\":2},\"plot\":null,\"render_mode\":\"css\",\"right_units\":\"screen\",\"top_units\":\"screen\"},\"id\":\"5c952e28-0c40-4bf1-80ad-77cc884f41fd\",\"type\":\"BoxAnnotation\"},{\"attributes\":{\"axis_label\":\"Predicted\",\"axis_label_text_color\":{\"value\":\"#aa6666\"},\"formatter\":{\"id\":\"3d1f2eb1-a131-4f55-b7fe-d23771204499\",\"type\":\"BasicTickFormatter\"},\"plot\":{\"id\":\"a787e297-3f13-46b1-9a4a-f256431b062d\",\"subtype\":\"Figure\",\"type\":\"Plot\"},\"ticker\":{\"id\":\"bdbc7372-761b-4e36-b054-1f61edb03e3a\",\"type\":\"BasicTicker\"}},\"id\":\"dbead3ce-4d45-4f65-ae66-fd902bda8588\",\"type\":\"LinearAxis\"},{\"attributes\":{\"align\":\"center\",\"plot\":null,\"text\":null},\"id\":\"16784f3c-fd18-485b-9e2e-635cf2cef8b3\",\"type\":\"Title\"},{\"attributes\":{\"fill_alpha\":{\"value\":0.5},\"fill_color\":{\"value\":\"lightgrey\"},\"level\":\"overlay\",\"line_alpha\":{\"value\":1.0},\"line_color\":{\"value\":\"black\"},\"line_dash\":[4,4],\"line_width\":{\"value\":2},\"plot\":null,\"xs_units\":\"screen\",\"ys_units\":\"screen\"},\"id\":\"06774b2d-a9c2-45d3-bc7d-c437cf51d8b1\",\"type\":\"PolyAnnotation\"},{\"attributes\":{\"background_fill_alpha\":{\"value\":0.5},\"background_fill_color\":{\"value\":\"beige\"},\"below\":[{\"id\":\"009694fc-b58c-4171-b1ca-0fbfe157da78\",\"type\":\"LinearAxis\"}],\"left\":[{\"id\":\"dbead3ce-4d45-4f65-ae66-fd902bda8588\",\"type\":\"LinearAxis\"}],\"plot_height\":500,\"plot_width\":500,\"renderers\":[{\"id\":\"009694fc-b58c-4171-b1ca-0fbfe157da78\",\"type\":\"LinearAxis\"},{\"id\":\"de01802e-09e8-402a-8f76-15d4aa808ac5\",\"type\":\"Grid\"},{\"id\":\"dbead3ce-4d45-4f65-ae66-fd902bda8588\",\"type\":\"LinearAxis\"},{\"id\":\"c89e2e59-515b-4de4-86bb-08d277a37bb9\",\"type\":\"Grid\"},{\"id\":\"5c952e28-0c40-4bf1-80ad-77cc884f41fd\",\"type\":\"BoxAnnotation\"},{\"id\":\"8aa17663-9287-4b63-9cf6-4fdf83db34b4\",\"type\":\"BoxAnnotation\"},{\"id\":\"e409e16c-96a4-442d-a793-c487653936e0\",\"type\":\"PolyAnnotation\"},{\"id\":\"06774b2d-a9c2-45d3-bc7d-c437cf51d8b1\",\"type\":\"PolyAnnotation\"},{\"id\":\"92abe7d3-1c63-4205-94f1-c38393550d1b\",\"type\":\"GlyphRenderer\"},{\"id\":\"dd982952-901d-4a45-81e7-e4be73cc8bdc\",\"type\":\"GlyphRenderer\"}],\"title\":{\"id\":\"16784f3c-fd18-485b-9e2e-635cf2cef8b3\",\"type\":\"Title\"},\"tool_events\":{\"id\":\"76076b47-bcfb-44cd-8222-230a8e40e2fc\",\"type\":\"ToolEvents\"},\"toolbar\":{\"id\":\"7d31c01c-c9db-46fd-aa2b-c7677c489974\",\"type\":\"Toolbar\"},\"x_range\":{\"id\":\"44a4abba-bea6-4086-8b5f-8f145b9da397\",\"type\":\"DataRange1d\"},\"y_range\":{\"id\":\"19b63dba-f34b-488e-b7b4-9bb695a08f2c\",\"type\":\"DataRange1d\"}},\"id\":\"a787e297-3f13-46b1-9a4a-f256431b062d\",\"subtype\":\"Figure\",\"type\":\"Plot\"},{\"attributes\":{\"plot\":{\"id\":\"a787e297-3f13-46b1-9a4a-f256431b062d\",\"subtype\":\"Figure\",\"type\":\"Plot\"},\"ticker\":{\"id\":\"cf786979-e18e-4a8f-8494-a1c9f09a955b\",\"type\":\"BasicTicker\"}},\"id\":\"de01802e-09e8-402a-8f76-15d4aa808ac5\",\"type\":\"Grid\"},{\"attributes\":{\"plot\":{\"id\":\"a787e297-3f13-46b1-9a4a-f256431b062d\",\"subtype\":\"Figure\",\"type\":\"Plot\"}},\"id\":\"27698999-3413-4ca7-84c2-f053ff9f6e68\",\"type\":\"SaveTool\"},{\"attributes\":{\"callback\":null,\"overlay\":{\"id\":\"8aa17663-9287-4b63-9cf6-4fdf83db34b4\",\"type\":\"BoxAnnotation\"},\"plot\":{\"id\":\"a787e297-3f13-46b1-9a4a-f256431b062d\",\"subtype\":\"Figure\",\"type\":\"Plot\"},\"renderers\":[{\"id\":\"92abe7d3-1c63-4205-94f1-c38393550d1b\",\"type\":\"GlyphRenderer\"},{\"id\":\"dd982952-901d-4a45-81e7-e4be73cc8bdc\",\"type\":\"GlyphRenderer\"}]},\"id\":\"efdbc2b3-f3d1-4b12-905e-a35a722742a4\",\"type\":\"BoxSelectTool\"},{\"attributes\":{\"axis_label\":\"Measured\",\"axis_label_text_color\":{\"value\":\"#aa6666\"},\"formatter\":{\"id\":\"56c9e220-e2f1-485f-b9ad-03ddfe6ecb8a\",\"type\":\"BasicTickFormatter\"},\"major_tick_line_color\":{\"value\":\"firebrick\"},\"major_tick_line_width\":{\"value\":3},\"minor_tick_line_color\":{\"value\":\"orange\"},\"plot\":{\"id\":\"a787e297-3f13-46b1-9a4a-f256431b062d\",\"subtype\":\"Figure\",\"type\":\"Plot\"},\"ticker\":{\"id\":\"cf786979-e18e-4a8f-8494-a1c9f09a955b\",\"type\":\"BasicTicker\"}},\"id\":\"009694fc-b58c-4171-b1ca-0fbfe157da78\",\"type\":\"LinearAxis\"},{\"attributes\":{\"plot\":{\"id\":\"a787e297-3f13-46b1-9a4a-f256431b062d\",\"subtype\":\"Figure\",\"type\":\"Plot\"}},\"id\":\"286b4d28-46e7-4395-8e31-10be6e688845\",\"type\":\"UndoTool\"},{\"attributes\":{\"fill_color\":{\"value\":\"#80B1D3\"},\"line_color\":{\"value\":\"#80B1D3\"},\"line_width\":{\"value\":3},\"x\":{\"field\":\"x\"},\"y\":{\"field\":\"y\"}},\"id\":\"9e67e08b-2e76-4f0f-8ac8-48e29fe0af7d\",\"type\":\"Circle\"},{\"attributes\":{\"callback\":null,\"column_names\":[\"y\",\"x\"],\"data\":{\"x\":[104.13,140.987],\"y\":[104.13,140.987]}},\"id\":\"d104cb32-0bcf-4ef8-b6e8-a15a57cac97a\",\"type\":\"ColumnDataSource\"},{\"attributes\":{\"overlay\":{\"id\":\"5c952e28-0c40-4bf1-80ad-77cc884f41fd\",\"type\":\"BoxAnnotation\"},\"plot\":{\"id\":\"a787e297-3f13-46b1-9a4a-f256431b062d\",\"subtype\":\"Figure\",\"type\":\"Plot\"}},\"id\":\"5885e4ce-d19b-447b-b586-abbc56e752ec\",\"type\":\"BoxZoomTool\"},{\"attributes\":{\"plot\":{\"id\":\"a787e297-3f13-46b1-9a4a-f256431b062d\",\"subtype\":\"Figure\",\"type\":\"Plot\"}},\"id\":\"6ca27c18-bac8-4a2a-a8d8-9f339d3f6cc2\",\"type\":\"ResizeTool\"},{\"attributes\":{},\"id\":\"3d1f2eb1-a131-4f55-b7fe-d23771204499\",\"type\":\"BasicTickFormatter\"},{\"attributes\":{},\"id\":\"bdbc7372-761b-4e36-b054-1f61edb03e3a\",\"type\":\"BasicTicker\"},{\"attributes\":{\"callback\":null},\"id\":\"44a4abba-bea6-4086-8b5f-8f145b9da397\",\"type\":\"DataRange1d\"},{\"attributes\":{\"plot\":{\"id\":\"a787e297-3f13-46b1-9a4a-f256431b062d\",\"subtype\":\"Figure\",\"type\":\"Plot\"}},\"id\":\"1582082a-df97-4375-a0e0-9b47293d7569\",\"type\":\"WheelZoomTool\"},{\"attributes\":{\"callback\":null,\"column_names\":[\"x\",\"y\"],\"data\":{\"x\":[127.206,136.284,117.50399999999999,122.34100000000001,114.042,135.079,127.23299999999999,123.689,118.005,135.346,126.53399999999999,135.368,111.959,125.816,119.62100000000001,132.039,118.365,124.74799999999999,112.506,122.375,120.505,121.315,109.25399999999999,119.505,118.214,124.355,115.91,139.438,124.493,129.68,134.533,114.309,129.45,116.411,118.12899999999999,118.712,131.836,110.905,129.569,124.273,129.02700000000002,124.852,115.679,117.624,127.12700000000001,119.375,119.07,118.941,113.333,127.7,131.45600000000002,121.485,129.8,127.04,134.0,128.774,124.45,124.84299999999999,114.9,118.757,128.35399999999998,130.197,118.145,133.097,125.726,116.241,124.17,115.85700000000001,129.965,121.399,120.766,118.12200000000001,132.513,132.304,127.63799999999999,124.555,128.95600000000002,126.835,130.96,128.562,115.863,126.395,133.756,113.10799999999999,121.301,113.958,124.346,136.886,117.037,131.636,131.111,129.33,112.803,128.536,133.774,134.273,123.08200000000001,128.92700000000002,117.119,134.556,127.179,133.59799999999998,122.044,128.929,121.889,129.415,130.123,120.228,128.857,115.079,128.518,124.154,129.256,130.781,124.156,134.56799999999998,122.088,131.313,123.965,120.92,133.649,116.295,135.674,130.195,129.567,119.294,125.715,137.233,116.84899999999999,124.69200000000001,116.694,130.34,131.205,126.189,119.67,127.006,130.934,121.499,127.796,134.268,136.031,131.918,133.79,130.299,133.355,134.111,115.321,133.012,128.64700000000002,127.92,122.905,129.285,116.225,132.43,115.234,125.40100000000001,127.39399999999999,131.346,122.61200000000001,122.315,121.059,124.304,122.035,115.65899999999999,125.555,112.014,132.202,115.846,118.595,138.523,130.114,116.603,130.392,121.789,122.435,134.22799999999998,113.492,128.127,111.911,125.527,116.229,120.85600000000001,127.35600000000001,137.026,129.03799999999998,126.09700000000001,127.054,129.14700000000002,134.02200000000002,133.894,120.458,120.47200000000001,132.898,127.008,120.484,130.898,112.039,118.82700000000001,120.07799999999999,126.195,125.728,120.137,135.234,118.816,121.65899999999999,117.087,114.927,133.48,107.26700000000001,126.898,120.324,132.134,109.95100000000001,126.59899999999999,126.64200000000001,129.11700000000002,117.15100000000001,117.432,125.867,118.964,127.676,133.211,110.515,114.554,133.29399999999998,120.354,126.291,127.53,117.154,127.90299999999999,118.955,128.401,128.829,128.545,117.134,135.164,134.563,134.11,116.677,133.01,129.953,127.197,129.55200000000002,127.696,118.045,137.06799999999998,127.75299999999999,131.808,125.054,134.996,132.05,126.514,119.135,129.889,137.007,139.918,124.395,127.398,133.023,130.349,118.743,119.854,118.05,127.329,126.04899999999999,126.116,135.227,112.848,112.265,133.768,115.969,128.762,112.699,125.941,135.248,116.723,117.38600000000001,118.564,128.086,125.045,126.74600000000001,122.766,128.265,129.869,122.771,118.99799999999999,132.886,134.826,108.40700000000001,127.564,126.736,130.629,118.024,120.963,133.071,124.71700000000001,131.06,124.39299999999999,125.589,125.22,124.001,127.07600000000001,126.838,123.742,123.76100000000001,118.441,115.304,131.129,128.312,124.61200000000001,131.80700000000002,132.095,122.101,135.953,120.05799999999999,135.308,122.411,131.453,121.40700000000001,128.49200000000002,133.846,112.209,130.335,107.985,115.818,139.428,120.229,118.34299999999999,123.445,113.00399999999999,106.88,116.10799999999999,127.71,128.704,133.649,111.35,110.689,114.634,137.076,129.053,133.58700000000002,135.32399999999998,130.817,115.085,126.88600000000001,132.304,124.835,134.336,125.89,123.514,117.911,114.47399999999999,108.265,127.928,131.434,122.147,132.769,129.77700000000002,134.498,116.12799999999999,123.416,124.12100000000001,125.20299999999999,130.845,110.491,129.343,116.22,128.144,122.79,130.156,121.93299999999999,123.274,118.41,134.34,124.23299999999999,136.83700000000002,114.861,130.049,120.786,119.319,128.335,114.477,123.635,136.826,130.477,129.116,126.82600000000001,120.055,126.75200000000001,129.004,108.721,125.26100000000001,133.79,130.332,132.184,115.215,124.98700000000001,117.287,120.79799999999999,119.135,116.72399999999999,112.68799999999999,121.31299999999999,120.446,135.484,134.43,130.791,131.725,123.537,130.46,106.26,117.465,118.994,128.29,106.58200000000001,128.244,125.603,127.101,128.69799999999998,119.646,129.964,122.72399999999999,130.065,129.667,127.54799999999999,128.401,126.64399999999999,129.5,130.148,132.114,130.965,123.695,118.291,122.21799999999999,124.685,128.311,113.85799999999999,132.588,115.14399999999999,116.184,123.31200000000001,116.074,125.99799999999999,119.208,120.088,134.987,125.194,116.366,122.21600000000001,136.798,121.28399999999999,123.443,129.645,122.845,128.119,108.991,113.288,132.357,125.499,124.40299999999999,125.398,132.003,129.575,120.061,129.675,117.96700000000001,127.054,121.154,130.722,125.625,137.047,127.095,131.971,133.153,132.35399999999998,127.315,123.991,117.604,132.58700000000002,115.645,127.251,125.824,128.805,126.34299999999999,134.247,133.207,137.207,121.944,120.555,121.485,126.54,138.123,131.796,125.721,132.611,135.54,123.87899999999999,122.17,129.002,125.20100000000001,123.86200000000001,134.87,124.04899999999999,125.85700000000001,133.201,124.439,129.308,124.665,130.961,108.03399999999999,124.024,131.234,119.51299999999999,117.875,118.113,125.539,126.616,116.815,122.765,131.015,130.269,135.07,133.707,120.324,131.582,128.435,130.688,114.41799999999999,110.905,108.03399999999999,112.945,131.184,116.417,133.062,129.653,124.64399999999999,127.443,126.446,108.684,123.835,123.62299999999999,128.42700000000002,126.54,113.12899999999999,124.338,126.195,132.158,130.30700000000002,132.251,121.775,111.53399999999999,124.625,133.19799999999998,112.241,120.53399999999999,123.126,125.87200000000001,119.111,120.60700000000001,129.491,128.99,134.946,116.92,122.292,125.631,128.718,129.468,137.658,123.09100000000001,133.174,113.055,125.353,119.229,126.79,128.139,126.471,129.63299999999998,128.713,119.632,130.644,120.147,129.776,130.67,124.512,128.707,130.72299999999998,125.12700000000001,131.56799999999998,125.34299999999999,129.329,123.037,115.37200000000001,117.195,121.235,122.45,133.23,131.955,130.77700000000002,122.413,127.039,124.647,117.478,119.73700000000001,131.515,121.65700000000001,118.696,135.924,126.34899999999999,119.22399999999999,124.43799999999999,132.27100000000002,129.05700000000002,118.09100000000001,133.042,135.329,113.03399999999999,128.175,125.319,118.01799999999999,120.553,112.139,132.796,120.53200000000001,129.148,126.45700000000001,133.251,120.51299999999999,122.37100000000001,123.865,130.089,130.173,129.937,131.817,132.149,122.39399999999999,114.569,128.345,130.869,119.039,127.947,126.96600000000001,117.11,131.446,131.274,133.808,125.45200000000001,126.944,123.82,120.189,127.76299999999999,114.258,130.908,116.792,112.639,116.165,123.054,106.22399999999999,125.802,133.032,127.801,122.235,120.07600000000001,109.22200000000001,129.864,114.044,123.609,130.748,121.256,112.541,116.15100000000001,128.2,125.094,123.069,130.588,119.806,120.595,126.021,124.10600000000001,116.956,129.27,139.808,126.896,125.116,117.927,129.099,116.181,117.925,123.807,130.94,119.88799999999999,125.398,125.02600000000001,125.727,116.134,121.47399999999999,132.011,123.595,132.118,136.536,128.643,133.436,128.977,111.588,120.397,121.78299999999999,110.555,125.741,119.708,104.13,113.665,127.29899999999999,123.445,122.044,124.756,129.556,127.73,126.43,114.75,134.058,131.264,122.439,131.642,109.71799999999999,119.561,114.258,113.79899999999999,135.468,136.941,133.72799999999998,124.353,113.29799999999999,132.595,123.354,129.494,128.576,130.469,128.416,129.516,128.246,128.763,128.365,127.229,113.11,130.374,136.583,119.639,125.524,131.542,132.89700000000002,140.158,129.377,122.648,131.471,134.976,134.05200000000002,115.413,120.53399999999999,127.01100000000001,133.22299999999998,110.307,115.29799999999999,117.28399999999999,120.71600000000001,107.405,111.459,127.465,126.29899999999999,122.93799999999999,134.034,110.78,120.227,128.97799999999998,126.537,128.879,124.336,125.99700000000001,109.949,126.20100000000001,123.255,131.364,123.564,120.03399999999999,127.634,122.41,130.541,128.216,121.52799999999999,106.604,133.653,130.947,128.36,133.38,128.816,128.74,116.476,129.296,130.955,128.939,126.536,127.59100000000001,122.78200000000001,127.686,120.209,125.79700000000001,123.304,127.40799999999999,131.44799999999998,123.12,120.193,123.465,119.649,131.07399999999998,130.893,125.81700000000001,113.775,135.866,123.455,127.315,126.15899999999999,124.18799999999999,126.17,120.49700000000001,112.169,130.828,118.416,133.311,129.744,118.92200000000001,133.378,124.12700000000001,123.061,131.467,122.471,113.045,135.459,119.945,130.935,136.384,119.777,118.859,115.60799999999999,114.249,126.21799999999999,110.124,127.488,117.514,121.397,124.25299999999999,130.638,124.22200000000001,122.708,120.573,128.907,122.919,124.208,122.89299999999999,128.306,123.311,128.252,116.066,121.54700000000001,118.385,129.395,128.339,120.755,130.34799999999998,119.04,121.165,114.709,125.01,114.714,124.931,122.08200000000001,110.839,117.32799999999999,127.285,132.793,120.015,125.62700000000001,131.491,121.885,128.939,121.306,124.39399999999999,115.46600000000001,125.427,125.586,119.35,121.635,130.507,132.355,115.59100000000001,127.22,126.713,132.086,121.62700000000001,112.355,134.43,116.56,125.85600000000001,130.614,123.177,131.236,117.99600000000001,127.307,129.681,126.838,131.615,124.426,125.376,128.878,131.96,128.444,133.04,110.868,116.78299999999999,126.645,121.514,135.42600000000002,132.358,131.43,112.524,121.90299999999999,121.617,131.92,129.97299999999998,114.751,126.152,116.559,130.496,117.789,133.13,120.569,129.86700000000002,115.89,110.447,124.214,126.78,112.675,131.80700000000002,124.244,126.632,130.144,119.73700000000001,120.419,129.395,128.708,135.328,129.977,134.226,122.397,136.75799999999998,128.63299999999998,131.966,119.535,124.904,110.89399999999999,127.632,129.134,120.162,128.296,130.0,118.134,130.30700000000002,127.899,131.01,129.465,131.955,126.959,120.726,113.315,120.95200000000001,124.42,119.15899999999999,123.89399999999999,114.984,122.539,123.178,131.865,131.31,121.225,118.26700000000001,121.762,121.58200000000001,133.241,127.22399999999999,135.433,134.625,130.20600000000002,126.045,128.595,126.805,136.88299999999998,111.818,119.916,123.41,125.96600000000001,126.266,135.38,128.56,120.154,133.924,114.404,130.595,128.398,136.16299999999998,125.992,119.60600000000001,123.565,132.252,130.89,124.27600000000001,110.22399999999999,123.775,117.054,127.91,127.417,120.319,119.15100000000001,133.40200000000002,110.36399999999999,126.677,123.583,120.189,110.264,123.305,120.835,113.525,127.84700000000001,122.94,118.634,117.976,128.86700000000002,122.088,124.525,124.101,127.094,128.381,126.5,132.043,129.144,115.792,127.63600000000001,133.063,134.227,124.25399999999999,128.72299999999998,133.261,113.229,119.34299999999999,126.066,120.527,115.89299999999999,129.395,112.251,132.116,122.679,121.234,123.417,131.023,123.209,121.99600000000001,120.766,129.037,121.146,122.60600000000001,124.166,124.809,131.346,124.10799999999999,135.49,115.391,126.805,127.24600000000001,125.211,129.84799999999998,131.656,122.75399999999999,116.92399999999999,134.236,132.828,124.07700000000001,126.54,129.30100000000002,125.586,115.691,117.309,133.04,115.635,128.454,131.221,129.292,121.10600000000001,127.318,129.36700000000002,120.33,123.081,119.54,109.663,123.74,130.07299999999998,115.801,128.40200000000002,123.839,115.99600000000001,123.917,131.69799999999998,117.785,120.851,130.567,114.9,127.89299999999999,109.52,133.847,119.17399999999999,125.465,115.461,126.846,115.52,127.62299999999999,126.35600000000001,120.037,128.082,138.55700000000002,126.59,122.384,123.78,128.83100000000002,131.279,128.423,110.31299999999999,127.35799999999999,117.741,131.036,123.189,131.97799999999998,125.10700000000001,128.67700000000002,122.365,134.47799999999998,113.086,125.39,118.667,131.186,115.311,129.969,125.15700000000001,134.938,133.252,114.085,125.47200000000001,134.476,111.07600000000001,123.46600000000001,122.675,117.95700000000001,111.135,119.598,126.486,116.55,128.971,131.281,120.779,121.664,126.93299999999999,132.889,131.889,126.743,126.001,112.065,116.96700000000001,122.288,139.226,129.35399999999998,135.191,115.309,108.625,132.918,135.803,129.94899999999998,124.318,123.39200000000001,130.311,119.209,136.191,123.54299999999999,122.211,121.431,113.334,112.76799999999999,121.318,136.023,127.86399999999999,134.85299999999998,128.257,122.956,137.813,123.988,130.156,140.987,130.77700000000002,122.149],\"y\":[132.41485967395533,125.18460811212093,119.57300939661238,122.75557501873585,117.2031735339213,126.6004665107892,126.83887133035977,123.06992104086956,124.88494313300257,129.62422825243416,127.19955700204042,124.95549992409913,118.59960901082147,128.1909653069387,127.46603239260293,123.69346178046499,122.8285604244619,123.88136140528299,129.0768527451376,122.43404602352277,121.48168689168581,121.43786673214834,115.8765344333018,123.3822400733362,117.98051709902413,123.26456549683421,117.35222795634247,126.41017057818641,124.42057105804122,133.89339275272886,129.95824090076997,120.64822371165636,134.557808331378,123.67314509965753,125.06316777681702,121.25057039627454,131.28526719905705,117.70606589873559,124.76283043609932,127.65300710554497,125.86844555225683,125.52080770920777,118.4841032178648,116.28931911053074,128.08316414775402,120.23126118758707,118.78961197132496,122.48291555273426,120.75440611615957,127.77158371964954,132.24120161220077,122.28153315148887,131.74298639134133,123.93444161645203,127.10716814100039,130.52163489528618,123.99147130710118,122.99761436043428,117.24149202656761,123.85680486943653,121.56625613255984,130.20916696628703,120.21932742802558,128.50771391998063,132.6031107545726,119.21217161640604,125.87232038751206,126.81606513653742,127.97958338602751,122.51624139199527,131.78771721958697,120.27833888089093,128.22908137596258,131.6641909080679,132.13036601836913,124.22052755435341,128.35741409469063,123.44189387462984,134.77928019092772,130.5552590890383,119.34740834012503,126.0470102825271,131.52897223575647,117.67963189491189,122.23553765071787,118.67677270586461,126.72166870951769,125.33534767603855,122.56264253513837,127.38608428816684,128.4347900799765,125.45152385436761,113.55055975737666,126.72671477866218,123.41920539450032,128.50592120039974,131.52217397547338,131.10994095286208,121.31765780983328,128.919123718955,122.53575303735673,129.9863745142966,123.15494675657202,123.43876914198282,124.70071790222745,121.78668491093914,129.17033677904888,124.73426325118842,128.06470288405345,122.61397303889427,124.37885093412898,123.93649063955598,127.1092444637297,130.507090102976,132.28189056703079,129.47975506775157,124.08471605291436,129.8982787539476,126.70612019361663,121.71972302095485,129.59928509415192,121.20642799283257,123.57890142862635,128.94911753297924,126.28248224767619,130.32988667896552,123.9319619520907,129.24500297930518,123.58117746550647,127.71774444044073,121.89144570896858,125.43564933893352,128.67195379025364,122.73866675198882,124.35742613372025,126.76072747603881,124.91690990408831,123.52589044060358,127.75851694985091,128.37177865032743,129.57969821208667,126.05294178929852,126.84854911673864,123.64075098829365,128.33049389886256,129.26829542646678,119.36100774386863,128.71493822729244,130.23997436908024,131.84485024623308,129.5034450184304,125.2069151686284,121.59306205634239,126.7410343211603,119.04773677506002,130.774872764276,130.7261972468081,123.61255964623277,126.89259799819726,121.17861607799178,122.42123052030107,124.64019749013994,122.57970365674213,120.6346210430982,123.05856326683457,118.38485288994886,130.55586251068829,128.89222744660398,124.45642842467569,129.64938391107427,129.39581128172532,122.6453214452694,127.05195577093892,125.2995926704051,120.9568850838113,128.878865085568,116.32084345478496,129.68564688362906,127.59098147301114,128.05633020111995,118.39624243769596,120.95379675316964,128.8339122716262,123.74760727984355,128.13759470079026,124.37105142036606,127.4347205634803,125.875700336618,128.43777448456683,130.20635799073617,123.46560198096864,122.72879707138017,124.87951549198505,122.99480204145105,118.86937896270325,122.98314818100287,120.08891430716407,121.44108045300861,131.16558917700135,127.07499879459886,125.18401718586728,126.6351289916861,125.39363154157631,118.9027850570003,124.03996531149991,118.5990971746056,120.50643379970677,127.41998995543365,114.30275500869251,130.54184754192153,123.69458667811497,126.45532496734026,127.71847679466491,131.0227181204532,125.19008322200372,128.414530722616,119.04429115922295,120.95435343097601,126.529817272082,118.42591697434231,125.36479110480099,129.06173873926414,115.86435240018251,117.53899299762044,123.650964001735,123.39805259395209,130.09978665464354,128.04486825982434,120.57945362155783,129.05386604570674,125.6231526202722,130.5864014192226,128.18224131839344,121.84380906053318,122.12309937741439,126.73862562081602,123.97583321175313,127.98555577200891,121.07417536148837,130.2028657138136,129.82323345409105,124.92537890581723,123.47916441266696,125.9159045154476,120.61003816785171,125.23405874688096,127.60936331127849,126.41561534292757,131.32052571124066,127.97424622181303,130.82789932019622,124.9398477003746,121.36788691036989,126.24314370899246,132.52584955817784,126.52029245500641,124.12045831580792,123.57762446022404,129.52116880085362,124.98050115034333,120.48142604239177,121.05066610700118,122.57513043677405,124.16989613311671,122.5521636062495,125.84949473423951,129.71806468350889,119.7773496461987,119.66628461568273,126.09922711835513,120.13824977885358,126.80637122923449,118.69776310083603,130.02833725403693,126.30372461926038,124.44743021988656,124.17770345365925,121.79634496301053,125.72753318062992,124.4150702677147,126.22989528813048,129.6829164887582,121.8488956298448,124.57051648044603,125.22221176876081,120.44609031738277,127.5423844331626,130.63388914022786,117.14491518119009,126.26952771085233,125.59969078991615,128.09007276262278,121.13044079398774,121.7557027190996,128.64678034066452,121.22814088003214,133.02933210507427,125.34950479805453,126.29655328924375,121.39463201339407,124.48004049445714,132.7392158234843,125.68924244845783,124.70104454597806,125.66543843892006,122.2408993318066,119.06267263589235,130.47241611472873,123.25755107758735,125.97532122268589,127.32329390403697,131.518873317083,122.70713381382015,129.3327974660359,125.16961931936018,128.5625353847981,127.11462203245938,121.04572361679959,123.64974583966908,127.30500123316364,130.53541966556847,119.75983558424625,132.3499233236316,115.31130224499594,119.81648906884783,125.13987307947212,122.18817312834008,123.87887603046816,123.6162515822852,118.89715772609313,115.38596806094581,120.0427663726408,126.03983653448165,128.29337117724316,129.80757610948987,117.03479705978347,116.59413873822761,117.84822097782666,123.56826678219028,130.0033848347266,128.26515057812537,125.70454614367326,127.58819977348227,122.10329747178048,129.47792415380954,123.79086497872713,127.00587189684033,125.42569286839738,125.8993304629684,119.3950926385118,123.51517600851444,107.83364068921037,113.77763018389281,124.47503307423325,131.6175712034375,126.57403315341935,130.19539944587922,126.21522722863885,127.67747115919707,131.29002465855189,124.01149345234953,129.98192715337407,125.35787406677962,126.17598878116942,128.03854871825567,129.9319904114205,122.9902089858552,128.69062822911627,131.54760216781239,124.85753827963248,111.57464132190901,127.25670381293043,121.60094382179162,127.38199367059467,127.9899851666844,130.29482554229762,120.95313609354267,127.35489209362497,122.18326167451062,125.25442348601304,123.96192667268743,119.67572930682647,126.70702805876184,126.4582248464338,117.4122571337285,119.19714083433122,127.21568481743486,123.05209433392146,126.50331692781752,125.79999011613573,109.18939318297261,125.98904919871059,127.21207346686384,130.98026742889243,124.43580951242292,120.2617187390536,121.31532892246254,122.15612181051188,122.05517115625725,121.78420409642995,119.90932737522346,119.80872388732769,122.64358577675847,126.32553512729386,127.94923726021449,129.52560367159944,127.66997112479267,132.00290485636012,128.47208636032897,126.55285168398011,114.26316649052345,120.4033894357539,122.91520570290476,127.80799950955672,108.72616889731778,127.81227129216839,126.33268491193962,130.32364909705825,123.18024249161452,120.34615128418557,126.98734101893307,122.38317953365213,125.7660888772604,130.51161009363312,123.33249102735216,126.90872844610449,124.72546469884651,128.0233472608154,129.71931561944052,129.28679198874244,128.4453285809954,123.75534571408805,123.96208196484613,123.40198512624401,123.60309717835042,124.3274404475624,118.0623494056648,129.13374432814194,126.69883995052278,119.77427422794018,124.17936066100276,130.73126264203393,121.3519645161653,122.42776195601157,121.57577715345637,128.77234018492126,124.67191957680053,132.05538429110766,123.15689348241882,126.52676099510174,110.38209852125664,122.69163865649193,126.90209718237968,123.97200709186853,124.3970786087337,113.35383444862673,121.33120924470404,127.55436078224633,124.08328090341585,129.28396422008456,123.44960528561188,128.01673385605451,126.15323377044206,124.88167573729066,122.00198809093828,126.99495524023183,127.9316540660142,130.4970341255145,130.34103981313243,125.3016569596452,128.57448835380623,125.90775957396069,129.42668499868844,128.6023051473531,130.1158510380193,124.02048380181729,126.18725287178079,120.82830255227766,129.62397220691682,119.08173991110594,129.8600077542494,125.469986126974,125.58987514620793,122.39962568077188,125.67680984114489,122.46806143446506,124.36121993708575,124.54257955566212,122.59838211623385,123.59409142422112,125.94424697887922,129.57667349102366,124.55648728209509,124.1727372393695,128.66946916001987,126.8319726283378,125.68412125627032,124.95497651983656,127.05680510291774,124.35757904287293,125.4080210045133,129.62054349957674,123.55951434851279,121.2292740624193,129.36050829213514,123.70951529693245,127.18345309417704,124.44984213736194,127.95499605071129,117.68778628460312,123.97419927209204,127.67842299582347,129.33452801205806,120.50209918401899,120.21210705678882,122.20909617780268,124.3819033057895,120.03896868157966,124.33401153183158,125.230207426545,122.90758604086662,131.96392920015347,133.45995542382795,121.50041278775099,127.27741472983409,128.96826666171606,127.78794196263964,119.8547781629627,115.33750283611839,116.58859688566683,121.15227394055307,128.6676934548661,119.96053925178144,129.91546928728118,127.96381983931383,119.32216402871944,123.91637533120412,122.75172944589053,117.7961445133357,122.87317946596792,127.26837575325743,130.28062525226562,126.1086238010725,117.33028182435451,125.91931998444794,127.04902487742385,123.05557174222876,125.36149859228438,124.99712928857171,122.86695021883197,118.55138393998438,124.13617297024267,126.08405640607153,114.08015816281862,122.67395757747042,123.42852028220923,125.91030514559372,121.30361955615413,119.49370391215268,124.66737246889083,127.35670535651236,129.81057738116675,121.19611584429698,127.71631874227951,124.49254944406198,129.93144557671573,126.9085904434906,130.0653339988828,126.76294800914306,124.92668245381486,118.79835561566775,124.16918889295947,120.92145979106569,127.09789426011515,126.75714337992426,125.88359648999402,127.68574391365362,129.0928309171387,121.78834489958264,129.70876973066268,125.89460545076847,123.57612149509275,127.26327425760277,124.53631839692336,126.99981443708927,122.8942609102932,132.0555457296398,125.42512623255976,125.48736511578105,124.36902893629423,124.04247131356082,118.49077670277377,124.46041831270925,124.62183351222656,121.37662300755457,126.87257000223602,130.4305111210516,126.91323235497264,121.86089115519326,125.57420231637668,125.70274507321318,124.02857223006066,124.88297863700356,126.42185165641523,118.01440731085654,132.04001381152588,125.05111181839891,125.78467343400354,118.30224391044796,121.93858128139132,130.30625531957162,125.74608660682652,121.67941581735597,129.16016252752596,126.62488628524736,117.50716020858886,125.84692647115347,124.50290122098305,121.03299602753906,121.15223148192543,114.1726080420844,127.39067232903786,122.01812042899054,131.92970495508877,126.78544724731348,129.4660424683278,121.2842860049377,125.04026722233121,124.48847514035297,123.22663130680361,123.29210798422064,127.60991067842174,125.1842236414704,123.84983155459537,123.95034175557988,121.30353822736988,123.61046792222426,124.79101706170744,121.71424817456474,132.1906278396331,125.41091501744653,120.49108519600725,128.91854590889324,128.6496458083589,122.70597568552733,131.32454985941223,122.66203259149447,125.74907389350989,125.40717315261956,128.45955365300517,114.62592606005343,131.53760562450833,119.77755282567372,119.02556705058456,119.14202791822787,120.75976395837051,113.8211087038143,122.85833328023436,129.60827604818934,127.22547486501098,126.94520834261331,129.22972741503293,113.13679350311418,121.99603468480338,126.50942644829264,125.33435470551177,125.82307886377652,122.2851263856939,118.66036621409,122.91744466039198,124.30005012164585,119.86132308734844,123.19900247544041,125.29007447384103,128.56715095096556,126.80663117346707,126.10519106335256,123.73048931495892,125.83135982883645,131.37316962752425,126.36641650758085,127.1083265317917,128.90078061444515,126.52856420346049,124.4792190173418,123.07277013922236,121.8180138395708,125.05497391050318,126.64530093483663,120.8182974797329,123.97668123108895,131.34543785449767,121.37525871583179,119.53007692825877,132.07241652542515,125.01237536949321,127.09402193741028,126.56645664752061,128.54465031441453,127.23838899970929,129.21689863134668,119.58743507097593,118.05229975491666,123.09351566936564,124.58912321983001,118.50083702591733,127.2010159483336,112.56976673463714,112.26729129303656,117.23754545540855,122.97918209300828,124.35881106684343,120.53570719803884,129.8707871403029,132.03571367320328,125.7848526134352,127.7436711186752,117.64465354099696,122.61075156238637,126.07888097873088,122.63886057461121,127.83796761789792,116.95378865810927,120.70691310162438,122.60695322944864,116.7815891843255,129.13314480521385,129.00683169003324,130.49848186696954,126.54496451667089,118.73140415602485,130.96974197447412,123.73566869853846,125.67709434572103,132.43603603884972,125.4332898106548,123.24561487309067,128.40360718296935,128.62081603129727,128.09489251655086,124.08077198475844,127.21968619742759,120.59742082442372,129.52981862790915,129.49045936705767,124.066890731349,124.37384125575356,128.38895060450443,130.6735641218159,124.91519261627352,128.74664123536547,131.08321178124805,126.8173737562422,130.5669433416745,129.5121214385489,119.17791390500321,120.06404816009666,125.45683671417798,130.6107047119514,118.26240761759476,121.18625450090109,121.12916251860354,123.98955517861377,112.58134777358902,118.97053225160973,127.31422466664068,123.38986802694869,130.32908237345123,130.45544050076003,116.51764588718939,122.71152276240416,125.24096510136995,124.12358459976522,125.91316594213625,133.30487143216138,128.81218394093838,117.88448800997017,126.76179861362583,122.77628648851987,125.16430552742641,123.10082146831127,121.98118973113448,125.18837443698322,123.40824703836454,127.37776532757391,128.34542057257747,121.33791033595978,115.3261967879755,128.42316471934222,127.38171732468388,127.20166041834666,126.58940082168348,127.85670066383966,124.35350981826214,117.88084120198953,127.75198063798564,128.49182553811647,122.88029152151209,125.34374768555496,125.89296322031419,122.62579133076215,127.31756294132981,123.01725098375279,124.76201317476436,121.11751107448703,130.59449187251028,130.57633110871288,124.52591676256834,122.3549775109166,123.41550050835869,123.58701459986756,131.7586935907275,127.52240433414649,131.2988452032184,118.09490410854514,125.22048443607376,125.04163078421992,124.83655930065775,125.03552542078607,122.2067457292714,131.9476737543115,125.36375167953435,114.6095007010464,131.8482554093127,125.5969524194373,127.92078744839368,121.53020788631005,120.94242275622085,131.142326652247,123.20702756956491,123.28645704037928,128.13883651112184,125.74869896511458,120.42080289043315,126.43989739933143,121.41873118647042,129.3406756120148,125.20182842475185,120.5974027371198,121.38818462129346,119.45169041388024,119.46004648163728,126.49678280542474,117.00877192933831,126.73222885379556,126.15402143450407,124.21715515961682,123.8812275067073,122.8187964138282,124.83992159001113,124.63373965099665,130.69567517395092,127.1820281474548,125.59378414011351,116.81849349913293,124.60148379775055,124.65424066187242,127.03651824298375,126.39567055824257,124.3312072102594,128.35171933553602,122.34093046519752,124.9738286474119,124.89597133630755,121.97658465455525,130.1960042984416,125.26641127660436,120.9635030716915,120.72051426081228,127.77641817708404,126.43744056897557,125.15814568560693,124.29836896315348,117.13296457799527,120.12201206077803,126.93282918876606,128.77879757174875,129.7144750613057,115.27112733261771,126.58991019540707,124.04144527202651,125.11006825059157,121.72375117312158,115.64743988626662,120.15973135625865,125.30677076598248,124.69443750780265,123.96268325803547,124.28395570196788,127.00703803677209,125.3439432648913,120.35468923703407,125.65154408767282,130.35557221258512,131.14764770283912,123.48026540999092,118.52482414169721,131.01346053281878,117.28970349815735,128.84839150830288,122.02755433096293,121.4929762813257,129.7721921680999,120.40295364479991,131.31525641677828,126.93001315677287,122.55866101113335,125.67670810090122,124.51276697899256,120.20662240495489,130.38872930988222,127.43631521571824,121.91418667717434,129.97462003597022,115.67888260940705,126.02049977945074,124.5770418591518,123.20152694368723,126.93800082338491,126.10870675795826,131.39171570832772,118.48564979706975,122.19310113980589,128.8825429542838,126.81954813350818,127.45230860104822,117.75004159873257,130.6603113549019,121.44093542196208,127.91379659265056,119.7575209857073,127.28893726579307,122.70094811838723,127.27218954988436,117.91322559399465,119.37353066823997,122.73383844566261,131.47794670782605,118.43025515462107,128.6782519348,123.43671789915193,125.50288162500536,130.16574734395422,122.307219034545,122.74198591432415,126.32170883868628,122.78539631871055,127.48451102480463,126.82125600938991,129.73055203048162,123.78099853379679,130.48816023890652,123.47349500062934,128.99366228085572,121.85621816822541,125.82278452756235,117.41901590168497,123.75943733317773,128.32536579381286,121.49208425740572,128.0719525161448,124.80128668425832,118.89565084299176,125.23568903912955,124.25152037917408,130.72469910916652,126.33903873484427,125.46924961515846,124.81749420409713,123.04086314887942,119.38552775282521,131.61050947967288,125.71499154854438,121.76616556330129,130.23712081075107,112.10396494391516,123.11005145020867,121.93770273902948,126.43330793429068,132.79018034871658,123.81315831479186,120.70789843974515,122.87725759720573,130.98740410017263,128.90776684130654,122.1266321533752,129.1674845153548,128.21737609567202,127.92089932689478,129.4600615103283,123.71993369420507,133.15948774522622,129.02964618426103,123.43018187289283,122.24303322610116,124.43798327339,130.79268673518305,128.13030964211632,127.14991950376708,134.2051149110242,120.53972671293315,129.31522633248312,119.5411519561277,125.9202181044012,132.80907817228265,126.13022289376843,126.27310054674403,120.99951861309304,127.24166653793209,130.02524859780345,126.56446827456303,128.4687453002547,115.5504993248363,123.66371394155348,121.23907343089685,127.55083931046678,126.30751218793272,121.81783293200496,124.62353072163987,128.10490334856004,113.56644240078464,125.8016628640526,130.5636878791594,122.0367642823797,116.65074153847777,122.7455693666421,121.8322499275612,120.51086210689138,125.07006411666848,125.99422038559386,120.9946845035291,119.52798666829312,127.92257219428065,121.82508624481358,122.96419757740729,124.51029978713977,121.50188221530233,130.23341419327204,125.76783085562464,129.13311061875052,131.01314780725227,118.64181144967,123.07110133863115,129.53205710697145,122.01513293353189,125.33390075820957,122.77487023693779,129.75477061775024,119.92103639881348,125.17129384428917,121.28432647647581,121.83984608959126,119.6275151708181,126.93377567107267,115.80369345244432,127.77374613241479,125.74577913725933,124.00881726292671,125.91485762903721,128.59605578989658,122.58111337595182,121.53206714147011,125.60707868091608,126.11508108745888,127.03033853739426,128.66117640072855,123.22998861623927,124.93068896908173,129.04018569306376,125.30167516298329,128.97018025190505,116.59184700355905,127.11247652419834,126.17703043108416,123.44434008890549,132.13724594116565,131.89336606280696,119.1240471533915,130.5201077232126,128.7805100257302,128.74140299162733,126.61319739702606,126.7364861337132,126.17956389311348,133.26058882502593,121.88180189056155,119.98280174186232,128.6265546044962,119.6725395078646,126.08312474583744,125.15280124375023,123.53934343015835,122.24024261580409,124.89139823575375,128.6517482169152,123.65651047521051,123.8423981232225,128.57651051545423,117.83281816123045,125.29451437587018,132.41599747894105,121.22159188216703,127.65712059176252,124.7522370848367,120.62371077116529,122.17852135050235,129.65990394160377,120.75992595013633,123.56226821217791,127.45054535643145,119.28850007345142,123.62043194356126,116.4095701831238,129.04658212202312,121.39773618265937,125.21377541258222,127.10776610348728,123.91874196735961,123.41716945591604,132.96199877916095,127.39232536818902,120.93088924861135,130.77443329958518,131.93026439163413,123.87651766915126,124.67192798344833,128.37449003437285,123.96158734730928,126.40228866674276,123.83883246364921,118.44055029552925,125.33523585106084,120.46717902590198,128.12951720638583,122.77287116394517,131.36848355934228,122.8708800666925,125.00514476548601,123.0636130545843,130.5014810405884,118.43970557028574,125.6682941835293,121.25849002874328,127.354951067353,120.12958928172726,125.09185363676119,126.43380730140522,130.4606001885818,128.20822718855172,120.33528665022187,123.7905040282595,130.08404547851256,112.95822051206599,122.22613793667796,122.89677778119032,120.71837912460866,118.64339597810667,120.87703398172239,128.8137302744636,117.9056137457263,129.70317737746007,129.5175369353853,124.76428476608311,121.6984840441958,126.65910211542496,128.90184696650783,123.86487376438494,123.34743129345132,126.45256454322342,120.13231628675362,120.85656261872481,122.72040725010055,124.79234404771142,125.94116440778026,128.47644535371415,121.25631215691263,117.05927884890255,131.0066014888017,129.6859909778416,124.56921266370938,132.3512858997381,123.77774382067376,129.67764821419792,122.19042285889103,128.85864626386808,123.52936421574093,123.08798526695745,126.02312861397802,118.8046771530304,111.11786869906994,123.03499381500613,128.4869742195752,126.09943830564085,128.67261466164993,125.61480535107539,131.3258231918993,129.07733026028532,119.54057418418404,127.9507932474112,125.18152850171174,127.83274626658536,122.177364036994]}},\"id\":\"10755912-20ba-477d-9302-989a97eafb28\",\"type\":\"ColumnDataSource\"},{\"attributes\":{},\"id\":\"56c9e220-e2f1-485f-b9ad-03ddfe6ecb8a\",\"type\":\"BasicTickFormatter\"},{\"attributes\":{\"line_dash\":[4,4],\"line_width\":{\"value\":2},\"x\":{\"field\":\"x\"},\"y\":{\"field\":\"y\"}},\"id\":\"1f1c0554-7e6a-4989-9ec1-65cf84a21a91\",\"type\":\"Line\"},{\"attributes\":{\"callback\":null,\"overlay\":{\"id\":\"e409e16c-96a4-442d-a793-c487653936e0\",\"type\":\"PolyAnnotation\"},\"plot\":{\"id\":\"a787e297-3f13-46b1-9a4a-f256431b062d\",\"subtype\":\"Figure\",\"type\":\"Plot\"}},\"id\":\"0993dca0-d043-437f-b0f6-31d076cf714b\",\"type\":\"LassoSelectTool\"},{\"attributes\":{\"bottom_units\":\"screen\",\"fill_alpha\":{\"value\":0.5},\"fill_color\":{\"value\":\"lightgrey\"},\"left_units\":\"screen\",\"level\":\"overlay\",\"line_alpha\":{\"value\":1.0},\"line_color\":{\"value\":\"black\"},\"line_dash\":[4,4],\"line_width\":{\"value\":2},\"plot\":null,\"render_mode\":\"css\",\"right_units\":\"screen\",\"top_units\":\"screen\"},\"id\":\"8aa17663-9287-4b63-9cf6-4fdf83db34b4\",\"type\":\"BoxAnnotation\"},{\"attributes\":{\"data_source\":{\"id\":\"10755912-20ba-477d-9302-989a97eafb28\",\"type\":\"ColumnDataSource\"},\"glyph\":{\"id\":\"9e67e08b-2e76-4f0f-8ac8-48e29fe0af7d\",\"type\":\"Circle\"},\"hover_glyph\":null,\"nonselection_glyph\":{\"id\":\"2011eee3-34e1-4351-a25e-852da46cbc0f\",\"type\":\"Circle\"},\"selection_glyph\":null},\"id\":\"92abe7d3-1c63-4205-94f1-c38393550d1b\",\"type\":\"GlyphRenderer\"},{\"attributes\":{},\"id\":\"76076b47-bcfb-44cd-8222-230a8e40e2fc\",\"type\":\"ToolEvents\"}],\"root_ids\":[\"a787e297-3f13-46b1-9a4a-f256431b062d\"]},\"title\":\"Bokeh Application\",\"version\":\"0.12.2\"}};\n",
       "            var render_items = [{\"docid\":\"fc21541c-83b4-446f-a3c4-4172c4909223\",\"elementid\":\"61465df9-7b99-4b97-aeb7-e293c7d89d62\",\"modelid\":\"a787e297-3f13-46b1-9a4a-f256431b062d\"}];\n",
       "            \n",
       "            Bokeh.embed.embed_items(docs_json, render_items);\n",
       "        });\n",
       "      },\n",
       "      function(Bokeh) {\n",
       "      }\n",
       "    ];\n",
       "  \n",
       "    function run_inline_js() {\n",
       "      \n",
       "      if ((window.Bokeh !== undefined) || (force === \"1\")) {\n",
       "        for (var i = 0; i < inline_js.length; i++) {\n",
       "          inline_js[i](window.Bokeh);\n",
       "        }if (force === \"1\") {\n",
       "          display_loaded();\n",
       "        }} else if (Date.now() < window._bokeh_timeout) {\n",
       "        setTimeout(run_inline_js, 100);\n",
       "      } else if (!window._bokeh_failed_load) {\n",
       "        console.log(\"Bokeh: BokehJS failed to load within specified timeout.\");\n",
       "        window._bokeh_failed_load = true;\n",
       "      } else if (!force) {\n",
       "        var cell = $(\"#61465df9-7b99-4b97-aeb7-e293c7d89d62\").parents('.cell').data().cell;\n",
       "        cell.output_area.append_execute_result(NB_LOAD_WARNING)\n",
       "      }\n",
       "  \n",
       "    }\n",
       "  \n",
       "    if (window._bokeh_is_loading === 0) {\n",
       "      console.log(\"Bokeh: BokehJS loaded, going straight to plotting\");\n",
       "      run_inline_js();\n",
       "    } else {\n",
       "      load_libs(js_urls, function() {\n",
       "        console.log(\"Bokeh: BokehJS plotting callback run at\", now());\n",
       "        run_inline_js();\n",
       "      });\n",
       "    }\n",
       "  }(this));\n",
       "</script>"
      ]
     },
     "metadata": {},
     "output_type": "display_data"
    }
   ],
   "source": [
    "# Plotining using bokeh\n",
    "#TOOLS = [BoxSelectTool(), HoverTool()]\n",
    "#TOOLS = 'hover,box_zoom,box_select,crosshair,resize,reset,lasso_select,pan,save,poly_select,tap,wheel_zoom,undo'\n",
    "TOOLS = 'box_zoom,box_select,crosshair,resize,reset,lasso_select,pan,save,poly_select,tap,wheel_zoom,undo'\n",
    "p = figure(plot_width=500, plot_height=500, tools=TOOLS)\n",
    "p.scatter(Y, predicted,x=\"jjj\", marker=\"o\", color=\"#80B1D3\", line_width=3)\n",
    "p.title.align = \"center\"\n",
    "p.xaxis.axis_label = \"Measured\"\n",
    "p.xaxis.axis_label_text_color = \"#aa6666\"\n",
    "#p.xaxis.axis_label_standoff = 30\n",
    "p.xaxis.major_tick_line_color = \"firebrick\"\n",
    "p.xaxis.major_tick_line_width = 3\n",
    "p.xaxis.minor_tick_line_color = \"orange\"\n",
    "p.yaxis.axis_label = \"Predicted\"\n",
    "p.yaxis.axis_label_text_font_style = \"italic\"\n",
    "p.yaxis.axis_label_text_color = \"#aa6666\"\n",
    "p.background_fill_color = \"beige\"\n",
    "p.background_fill_alpha = 0.5\n",
    "#p.line([Y.min(), Y.max()], [Y.min(), Y.max()], line_dash=\"4 4\", line_width=2, color='red')\n",
    "\n",
    "# create a new plot with the toolbar below\n",
    "# line_dash=\"4 4\", line_width=2, color='red'\n",
    "p.line([Y.min(), Y.max()], [Y.min(), Y.max()], line_dash=\"4 4\", line_width=2, line_color=\"black\")\n",
    "show(p)"
   ]
  },
  {
   "cell_type": "code",
   "execution_count": 23,
   "metadata": {
    "collapsed": false
   },
   "outputs": [
    {
     "data": {
      "text/plain": [
       "<matplotlib.text.Text at 0x7f1d69fcbe90>"
      ]
     },
     "execution_count": 23,
     "metadata": {},
     "output_type": "execute_result"
    },
    {
     "data": {
      "image/png": "[encoded data removed]",
      "text/plain": [
       "<matplotlib.figure.Figure at 0x7f1d6a06c410>"
      ]
     },
     "metadata": {},
     "output_type": "display_data"
    }
   ],
   "source": [
    "plt.scatter(predicted, (predicted - Y), c='r', s=30)\n",
    "plt.title(\"Residual plot on the training data\")\n",
    "plt.xlabel(\"Predicted\")\n",
    "plt.ylabel(\"Residuals\")"
   ]
  },
  {
   "cell_type": "code",
   "execution_count": 24,
   "metadata": {
    "collapsed": false
   },
   "outputs": [
    {
     "data": {
      "text/html": [
       "\n",
       "\n",
       "    <div class=\"bk-root\">\n",
       "        <div class=\"plotdiv\" id=\"914f32b9-4c35-4f63-8676-4f318558ec5f\"></div>\n",
       "    </div>\n",
       "<script type=\"text/javascript\">\n",
       "  \n",
       "  (function(global) {\n",
       "    function now() {\n",
       "      return new Date();\n",
       "    }\n",
       "  \n",
       "    var force = \"\";\n",
       "  \n",
       "    if (typeof (window._bokeh_onload_callbacks) === \"undefined\" || force !== \"\") {\n",
       "      window._bokeh_onload_callbacks = [];\n",
       "      window._bokeh_is_loading = undefined;\n",
       "    }\n",
       "  \n",
       "  \n",
       "    \n",
       "    if (typeof (window._bokeh_timeout) === \"undefined\" || force !== \"\") {\n",
       "      window._bokeh_timeout = Date.now() + 0;\n",
       "      window._bokeh_failed_load = false;\n",
       "    }\n",
       "  \n",
       "    var NB_LOAD_WARNING = {'data': {'text/html':\n",
       "       \"<div style='background-color: #fdd'>\\n\"+\n",
       "       \"<p>\\n\"+\n",
       "       \"BokehJS does not appear to have successfully loaded. If loading BokehJS from CDN, this \\n\"+\n",
       "       \"may be due to a slow or bad network connection. Possible fixes:\\n\"+\n",
       "       \"</p>\\n\"+\n",
       "       \"<ul>\\n\"+\n",
       "       \"<li>re-rerun `output_notebook()` to attempt to load from CDN again, or</li>\\n\"+\n",
       "       \"<li>use INLINE resources instead, as so:</li>\\n\"+\n",
       "       \"</ul>\\n\"+\n",
       "       \"<code>\\n\"+\n",
       "       \"from bokeh.resources import INLINE\\n\"+\n",
       "       \"output_notebook(resources=INLINE)\\n\"+\n",
       "       \"</code>\\n\"+\n",
       "       \"</div>\"}};\n",
       "  \n",
       "    function display_loaded() {\n",
       "      if (window.Bokeh !== undefined) {\n",
       "        Bokeh.$(\"#914f32b9-4c35-4f63-8676-4f318558ec5f\").text(\"BokehJS successfully loaded.\");\n",
       "      } else if (Date.now() < window._bokeh_timeout) {\n",
       "        setTimeout(display_loaded, 100)\n",
       "      }\n",
       "    }\n",
       "  \n",
       "    function run_callbacks() {\n",
       "      window._bokeh_onload_callbacks.forEach(function(callback) { callback() });\n",
       "      delete window._bokeh_onload_callbacks\n",
       "      console.info(\"Bokeh: all callbacks have finished\");\n",
       "    }\n",
       "  \n",
       "    function load_libs(js_urls, callback) {\n",
       "      window._bokeh_onload_callbacks.push(callback);\n",
       "      if (window._bokeh_is_loading > 0) {\n",
       "        console.log(\"Bokeh: BokehJS is being loaded, scheduling callback at\", now());\n",
       "        return null;\n",
       "      }\n",
       "      if (js_urls == null || js_urls.length === 0) {\n",
       "        run_callbacks();\n",
       "        return null;\n",
       "      }\n",
       "      console.log(\"Bokeh: BokehJS not loaded, scheduling load and callback at\", now());\n",
       "      window._bokeh_is_loading = js_urls.length;\n",
       "      for (var i = 0; i < js_urls.length; i++) {\n",
       "        var url = js_urls[i];\n",
       "        var s = document.createElement('script');\n",
       "        s.src = url;\n",
       "        s.async = false;\n",
       "        s.onreadystatechange = s.onload = function() {\n",
       "          window._bokeh_is_loading--;\n",
       "          if (window._bokeh_is_loading === 0) {\n",
       "            console.log(\"Bokeh: all BokehJS libraries loaded\");\n",
       "            run_callbacks()\n",
       "          }\n",
       "        };\n",
       "        s.onerror = function() {\n",
       "          console.warn(\"failed to load library \" + url);\n",
       "        };\n",
       "        console.log(\"Bokeh: injecting script tag for BokehJS library: \", url);\n",
       "        document.getElementsByTagName(\"head\")[0].appendChild(s);\n",
       "      }\n",
       "    };var element = document.getElementById(\"914f32b9-4c35-4f63-8676-4f318558ec5f\");\n",
       "    if (element == null) {\n",
       "      console.log(\"Bokeh: ERROR: autoload.js configured with elementid '914f32b9-4c35-4f63-8676-4f318558ec5f' but no matching script tag was found. \")\n",
       "      return false;\n",
       "    }\n",
       "  \n",
       "    var js_urls = [];\n",
       "  \n",
       "    var inline_js = [\n",
       "      function(Bokeh) {\n",
       "        Bokeh.$(function() {\n",
       "            var docs_json = {\"3f3340af-0f8f-46f6-9213-72100c23878a\":{\"roots\":{\"references\":[{\"attributes\":{\"background_fill_alpha\":{\"value\":0.5},\"background_fill_color\":{\"value\":\"beige\"},\"below\":[{\"id\":\"2fe43e5f-f3c9-4de2-bcd5-2e64723f887c\",\"type\":\"LinearAxis\"}],\"left\":[{\"id\":\"2ae79e92-d7b2-4402-9a71-f6a867d46548\",\"type\":\"LinearAxis\"}],\"plot_height\":500,\"plot_width\":500,\"renderers\":[{\"id\":\"2fe43e5f-f3c9-4de2-bcd5-2e64723f887c\",\"type\":\"LinearAxis\"},{\"id\":\"5435f2db-4cf5-481f-95e7-558feff0b8da\",\"type\":\"Grid\"},{\"id\":\"2ae79e92-d7b2-4402-9a71-f6a867d46548\",\"type\":\"LinearAxis\"},{\"id\":\"48dce5b5-ca5f-497b-a1f5-931e3444cc36\",\"type\":\"Grid\"},{\"id\":\"2632bc26-d97e-4085-8602-5fd23bc5b747\",\"type\":\"BoxAnnotation\"},{\"id\":\"3beb4fb2-2c2c-4384-a3fe-ea82e46ef353\",\"type\":\"BoxAnnotation\"},{\"id\":\"dc01d5f7-a857-42a6-91c6-c70a5b64d5f1\",\"type\":\"PolyAnnotation\"},{\"id\":\"5177c684-a339-40d1-a55f-0e8c1d7bfde3\",\"type\":\"PolyAnnotation\"},{\"id\":\"eceb7278-a7c6-45b7-a865-909e7b869754\",\"type\":\"GlyphRenderer\"}],\"title\":{\"id\":\"1b185a6c-d7b9-41c4-b493-e600e3a0dac9\",\"type\":\"Title\"},\"tool_events\":{\"id\":\"1cc20d97-54a7-4bcb-8823-421088e1ac9e\",\"type\":\"ToolEvents\"},\"toolbar\":{\"id\":\"b4537a4a-42a3-475b-86df-450a104982f1\",\"type\":\"Toolbar\"},\"x_range\":{\"id\":\"1d0b9a7e-c50b-4832-afdc-5d00b29d1115\",\"type\":\"DataRange1d\"},\"y_range\":{\"id\":\"fc09cd3f-00da-4ff6-aded-59d4c9190318\",\"type\":\"DataRange1d\"}},\"id\":\"b90fded7-6c17-40a9-8cdb-132885f413af\",\"subtype\":\"Figure\",\"type\":\"Plot\"},{\"attributes\":{\"overlay\":{\"id\":\"5177c684-a339-40d1-a55f-0e8c1d7bfde3\",\"type\":\"PolyAnnotation\"},\"plot\":{\"id\":\"b90fded7-6c17-40a9-8cdb-132885f413af\",\"subtype\":\"Figure\",\"type\":\"Plot\"}},\"id\":\"47ca63da-9cdd-48f0-aabd-b77e7bdaf986\",\"type\":\"PolySelectTool\"},{\"attributes\":{\"plot\":{\"id\":\"b90fded7-6c17-40a9-8cdb-132885f413af\",\"subtype\":\"Figure\",\"type\":\"Plot\"}},\"id\":\"b029e6c5-adb0-48e4-b440-7bda0c9cd8df\",\"type\":\"WheelZoomTool\"},{\"attributes\":{\"fill_alpha\":{\"value\":0.1},\"fill_color\":{\"value\":\"#1f77b4\"},\"line_alpha\":{\"value\":0.1},\"line_color\":{\"value\":\"#1f77b4\"},\"line_width\":{\"value\":3},\"x\":{\"field\":\"x\"},\"y\":{\"field\":\"y\"}},\"id\":\"341600ab-b01a-4150-8785-12e445b70d08\",\"type\":\"Circle\"},{\"attributes\":{\"callback\":null,\"overlay\":{\"id\":\"3beb4fb2-2c2c-4384-a3fe-ea82e46ef353\",\"type\":\"BoxAnnotation\"},\"plot\":{\"id\":\"b90fded7-6c17-40a9-8cdb-132885f413af\",\"subtype\":\"Figure\",\"type\":\"Plot\"},\"renderers\":[{\"id\":\"eceb7278-a7c6-45b7-a865-909e7b869754\",\"type\":\"GlyphRenderer\"}]},\"id\":\"e8f0fb98-7eee-4982-a2d2-507daf74d72f\",\"type\":\"BoxSelectTool\"},{\"attributes\":{\"axis_label\":\"Residuals\",\"axis_label_text_color\":{\"value\":\"#aa6666\"},\"formatter\":{\"id\":\"b457f1aa-7207-4ccd-ab0b-21d3439c6622\",\"type\":\"BasicTickFormatter\"},\"plot\":{\"id\":\"b90fded7-6c17-40a9-8cdb-132885f413af\",\"subtype\":\"Figure\",\"type\":\"Plot\"},\"ticker\":{\"id\":\"b006331c-0ea6-4e49-ae31-2e3074b53f5f\",\"type\":\"BasicTicker\"}},\"id\":\"2ae79e92-d7b2-4402-9a71-f6a867d46548\",\"type\":\"LinearAxis\"},{\"attributes\":{\"dimension\":1,\"plot\":{\"id\":\"b90fded7-6c17-40a9-8cdb-132885f413af\",\"subtype\":\"Figure\",\"type\":\"Plot\"},\"ticker\":{\"id\":\"b006331c-0ea6-4e49-ae31-2e3074b53f5f\",\"type\":\"BasicTicker\"}},\"id\":\"48dce5b5-ca5f-497b-a1f5-931e3444cc36\",\"type\":\"Grid\"},{\"attributes\":{\"plot\":{\"id\":\"b90fded7-6c17-40a9-8cdb-132885f413af\",\"subtype\":\"Figure\",\"type\":\"Plot\"}},\"id\":\"5757c2e8-195d-465d-a657-bcb2539ac2e4\",\"type\":\"ResetTool\"},{\"attributes\":{\"plot\":{\"id\":\"b90fded7-6c17-40a9-8cdb-132885f413af\",\"subtype\":\"Figure\",\"type\":\"Plot\"}},\"id\":\"7932104e-6d33-42a6-8ad6-bd9b6f1d3a69\",\"type\":\"UndoTool\"},{\"attributes\":{\"align\":\"center\",\"plot\":null,\"text\":\"Residual plot on the training data\"},\"id\":\"1b185a6c-d7b9-41c4-b493-e600e3a0dac9\",\"type\":\"Title\"},{\"attributes\":{},\"id\":\"1cc20d97-54a7-4bcb-8823-421088e1ac9e\",\"type\":\"ToolEvents\"},{\"attributes\":{\"fill_color\":{\"value\":\"#80B1D3\"},\"line_color\":{\"value\":\"#80B1D3\"},\"line_width\":{\"value\":3},\"x\":{\"field\":\"x\"},\"y\":{\"field\":\"y\"}},\"id\":\"a250e970-c5a7-4cfc-9b58-b61206c5de74\",\"type\":\"Circle\"},{\"attributes\":{\"overlay\":{\"id\":\"2632bc26-d97e-4085-8602-5fd23bc5b747\",\"type\":\"BoxAnnotation\"},\"plot\":{\"id\":\"b90fded7-6c17-40a9-8cdb-132885f413af\",\"subtype\":\"Figure\",\"type\":\"Plot\"}},\"id\":\"326fa3d9-5a44-4ed8-ada5-a9c68b21aa47\",\"type\":\"BoxZoomTool\"},{\"attributes\":{\"plot\":{\"id\":\"b90fded7-6c17-40a9-8cdb-132885f413af\",\"subtype\":\"Figure\",\"type\":\"Plot\"},\"ticker\":{\"id\":\"392c8a6d-ef77-499e-ada5-9bb752273707\",\"type\":\"BasicTicker\"}},\"id\":\"5435f2db-4cf5-481f-95e7-558feff0b8da\",\"type\":\"Grid\"},{\"attributes\":{\"callback\":null,\"plot\":{\"id\":\"b90fded7-6c17-40a9-8cdb-132885f413af\",\"subtype\":\"Figure\",\"type\":\"Plot\"}},\"id\":\"d17424b7-bf4a-4ab0-8f5f-59468aa81eec\",\"type\":\"TapTool\"},{\"attributes\":{\"plot\":{\"id\":\"b90fded7-6c17-40a9-8cdb-132885f413af\",\"subtype\":\"Figure\",\"type\":\"Plot\"}},\"id\":\"694374fe-4099-4a8a-b546-8169247c2c07\",\"type\":\"ResizeTool\"},{\"attributes\":{},\"id\":\"392c8a6d-ef77-499e-ada5-9bb752273707\",\"type\":\"BasicTicker\"},{\"attributes\":{\"axis_label\":\"Predicted\",\"axis_label_text_color\":{\"value\":\"#aa6666\"},\"formatter\":{\"id\":\"7aa4bcf5-aeec-4ba5-9968-65b8e72f8c4e\",\"type\":\"BasicTickFormatter\"},\"major_tick_line_color\":{\"value\":\"firebrick\"},\"major_tick_line_width\":{\"value\":3},\"minor_tick_line_color\":{\"value\":\"orange\"},\"plot\":{\"id\":\"b90fded7-6c17-40a9-8cdb-132885f413af\",\"subtype\":\"Figure\",\"type\":\"Plot\"},\"ticker\":{\"id\":\"392c8a6d-ef77-499e-ada5-9bb752273707\",\"type\":\"BasicTicker\"}},\"id\":\"2fe43e5f-f3c9-4de2-bcd5-2e64723f887c\",\"type\":\"LinearAxis\"},{\"attributes\":{\"data_source\":{\"id\":\"152487cc-2dde-47b0-b943-cb1eb27ff0f2\",\"type\":\"ColumnDataSource\"},\"glyph\":{\"id\":\"a250e970-c5a7-4cfc-9b58-b61206c5de74\",\"type\":\"Circle\"},\"hover_glyph\":null,\"nonselection_glyph\":{\"id\":\"341600ab-b01a-4150-8785-12e445b70d08\",\"type\":\"Circle\"},\"selection_glyph\":null},\"id\":\"eceb7278-a7c6-45b7-a865-909e7b869754\",\"type\":\"GlyphRenderer\"},{\"attributes\":{\"bottom_units\":\"screen\",\"fill_alpha\":{\"value\":0.5},\"fill_color\":{\"value\":\"lightgrey\"},\"left_units\":\"screen\",\"level\":\"overlay\",\"line_alpha\":{\"value\":1.0},\"line_color\":{\"value\":\"black\"},\"line_dash\":[4,4],\"line_width\":{\"value\":2},\"plot\":null,\"render_mode\":\"css\",\"right_units\":\"screen\",\"top_units\":\"screen\"},\"id\":\"3beb4fb2-2c2c-4384-a3fe-ea82e46ef353\",\"type\":\"BoxAnnotation\"},{\"attributes\":{},\"id\":\"7aa4bcf5-aeec-4ba5-9968-65b8e72f8c4e\",\"type\":\"BasicTickFormatter\"},{\"attributes\":{\"active_drag\":\"auto\",\"active_scroll\":\"auto\",\"active_tap\":\"auto\",\"tools\":[{\"id\":\"326fa3d9-5a44-4ed8-ada5-a9c68b21aa47\",\"type\":\"BoxZoomTool\"},{\"id\":\"e8f0fb98-7eee-4982-a2d2-507daf74d72f\",\"type\":\"BoxSelectTool\"},{\"id\":\"31abec3c-5ebc-4278-9612-c7bae3ec9703\",\"type\":\"CrosshairTool\"},{\"id\":\"694374fe-4099-4a8a-b546-8169247c2c07\",\"type\":\"ResizeTool\"},{\"id\":\"5757c2e8-195d-465d-a657-bcb2539ac2e4\",\"type\":\"ResetTool\"},{\"id\":\"4fa40002-c153-4445-8125-db039012b0bf\",\"type\":\"LassoSelectTool\"},{\"id\":\"75d1fb10-3693-44d3-8fd3-1ade82771e79\",\"type\":\"PanTool\"},{\"id\":\"7cc09e0b-a3f7-475f-81f4-0942ef698559\",\"type\":\"SaveTool\"},{\"id\":\"47ca63da-9cdd-48f0-aabd-b77e7bdaf986\",\"type\":\"PolySelectTool\"},{\"id\":\"d17424b7-bf4a-4ab0-8f5f-59468aa81eec\",\"type\":\"TapTool\"},{\"id\":\"b029e6c5-adb0-48e4-b440-7bda0c9cd8df\",\"type\":\"WheelZoomTool\"},{\"id\":\"7932104e-6d33-42a6-8ad6-bd9b6f1d3a69\",\"type\":\"UndoTool\"}]},\"id\":\"b4537a4a-42a3-475b-86df-450a104982f1\",\"type\":\"Toolbar\"},{\"attributes\":{\"callback\":null},\"id\":\"1d0b9a7e-c50b-4832-afdc-5d00b29d1115\",\"type\":\"DataRange1d\"},{\"attributes\":{\"plot\":{\"id\":\"b90fded7-6c17-40a9-8cdb-132885f413af\",\"subtype\":\"Figure\",\"type\":\"Plot\"}},\"id\":\"31abec3c-5ebc-4278-9612-c7bae3ec9703\",\"type\":\"CrosshairTool\"},{\"attributes\":{},\"id\":\"b457f1aa-7207-4ccd-ab0b-21d3439c6622\",\"type\":\"BasicTickFormatter\"},{\"attributes\":{\"fill_alpha\":{\"value\":0.5},\"fill_color\":{\"value\":\"lightgrey\"},\"level\":\"overlay\",\"line_alpha\":{\"value\":1.0},\"line_color\":{\"value\":\"black\"},\"line_dash\":[4,4],\"line_width\":{\"value\":2},\"plot\":null,\"xs_units\":\"screen\",\"ys_units\":\"screen\"},\"id\":\"5177c684-a339-40d1-a55f-0e8c1d7bfde3\",\"type\":\"PolyAnnotation\"},{\"attributes\":{},\"id\":\"b006331c-0ea6-4e49-ae31-2e3074b53f5f\",\"type\":\"BasicTicker\"},{\"attributes\":{\"callback\":null},\"id\":\"fc09cd3f-00da-4ff6-aded-59d4c9190318\",\"type\":\"DataRange1d\"},{\"attributes\":{\"fill_alpha\":{\"value\":0.5},\"fill_color\":{\"value\":\"lightgrey\"},\"level\":\"overlay\",\"line_alpha\":{\"value\":1.0},\"line_color\":{\"value\":\"black\"},\"line_dash\":[4,4],\"line_width\":{\"value\":2},\"plot\":null,\"xs_units\":\"screen\",\"ys_units\":\"screen\"},\"id\":\"dc01d5f7-a857-42a6-91c6-c70a5b64d5f1\",\"type\":\"PolyAnnotation\"},{\"attributes\":{\"plot\":{\"id\":\"b90fded7-6c17-40a9-8cdb-132885f413af\",\"subtype\":\"Figure\",\"type\":\"Plot\"}},\"id\":\"7cc09e0b-a3f7-475f-81f4-0942ef698559\",\"type\":\"SaveTool\"},{\"attributes\":{\"bottom_units\":\"screen\",\"fill_alpha\":{\"value\":0.5},\"fill_color\":{\"value\":\"lightgrey\"},\"left_units\":\"screen\",\"level\":\"overlay\",\"line_alpha\":{\"value\":1.0},\"line_color\":{\"value\":\"black\"},\"line_dash\":[4,4],\"line_width\":{\"value\":2},\"plot\":null,\"render_mode\":\"css\",\"right_units\":\"screen\",\"top_units\":\"screen\"},\"id\":\"2632bc26-d97e-4085-8602-5fd23bc5b747\",\"type\":\"BoxAnnotation\"},{\"attributes\":{\"callback\":null,\"column_names\":[\"x\",\"y\"],\"data\":{\"x\":[132.41485967395533,125.18460811212093,119.57300939661238,122.75557501873585,117.2031735339213,126.6004665107892,126.83887133035977,123.06992104086956,124.88494313300257,129.62422825243416,127.19955700204042,124.95549992409913,118.59960901082147,128.1909653069387,127.46603239260293,123.69346178046499,122.8285604244619,123.88136140528299,129.0768527451376,122.43404602352277,121.48168689168581,121.43786673214834,115.8765344333018,123.3822400733362,117.98051709902413,123.26456549683421,117.35222795634247,126.41017057818641,124.42057105804122,133.89339275272886,129.95824090076997,120.64822371165636,134.557808331378,123.67314509965753,125.06316777681702,121.25057039627454,131.28526719905705,117.70606589873559,124.76283043609932,127.65300710554497,125.86844555225683,125.52080770920777,118.4841032178648,116.28931911053074,128.08316414775402,120.23126118758707,118.78961197132496,122.48291555273426,120.75440611615957,127.77158371964954,132.24120161220077,122.28153315148887,131.74298639134133,123.93444161645203,127.10716814100039,130.52163489528618,123.99147130710118,122.99761436043428,117.24149202656761,123.85680486943653,121.56625613255984,130.20916696628703,120.21932742802558,128.50771391998063,132.6031107545726,119.21217161640604,125.87232038751206,126.81606513653742,127.97958338602751,122.51624139199527,131.78771721958697,120.27833888089093,128.22908137596258,131.6641909080679,132.13036601836913,124.22052755435341,128.35741409469063,123.44189387462984,134.77928019092772,130.5552590890383,119.34740834012503,126.0470102825271,131.52897223575647,117.67963189491189,122.23553765071787,118.67677270586461,126.72166870951769,125.33534767603855,122.56264253513837,127.38608428816684,128.4347900799765,125.45152385436761,113.55055975737666,126.72671477866218,123.41920539450032,128.50592120039974,131.52217397547338,131.10994095286208,121.31765780983328,128.919123718955,122.53575303735673,129.9863745142966,123.15494675657202,123.43876914198282,124.70071790222745,121.78668491093914,129.17033677904888,124.73426325118842,128.06470288405345,122.61397303889427,124.37885093412898,123.93649063955598,127.1092444637297,130.507090102976,132.28189056703079,129.47975506775157,124.08471605291436,129.8982787539476,126.70612019361663,121.71972302095485,129.59928509415192,121.20642799283257,123.57890142862635,128.94911753297924,126.28248224767619,130.32988667896552,123.9319619520907,129.24500297930518,123.58117746550647,127.71774444044073,121.89144570896858,125.43564933893352,128.67195379025364,122.73866675198882,124.35742613372025,126.76072747603881,124.91690990408831,123.52589044060358,127.75851694985091,128.37177865032743,129.57969821208667,126.05294178929852,126.84854911673864,123.64075098829365,128.33049389886256,129.26829542646678,119.36100774386863,128.71493822729244,130.23997436908024,131.84485024623308,129.5034450184304,125.2069151686284,121.59306205634239,126.7410343211603,119.04773677506002,130.774872764276,130.7261972468081,123.61255964623277,126.89259799819726,121.17861607799178,122.42123052030107,124.64019749013994,122.57970365674213,120.6346210430982,123.05856326683457,118.38485288994886,130.55586251068829,128.89222744660398,124.45642842467569,129.64938391107427,129.39581128172532,122.6453214452694,127.05195577093892,125.2995926704051,120.9568850838113,128.878865085568,116.32084345478496,129.68564688362906,127.59098147301114,128.05633020111995,118.39624243769596,120.95379675316964,128.8339122716262,123.74760727984355,128.13759470079026,124.37105142036606,127.4347205634803,125.875700336618,128.43777448456683,130.20635799073617,123.46560198096864,122.72879707138017,124.87951549198505,122.99480204145105,118.86937896270325,122.98314818100287,120.08891430716407,121.44108045300861,131.16558917700135,127.07499879459886,125.18401718586728,126.6351289916861,125.39363154157631,118.9027850570003,124.03996531149991,118.5990971746056,120.50643379970677,127.41998995543365,114.30275500869251,130.54184754192153,123.69458667811497,126.45532496734026,127.71847679466491,131.0227181204532,125.19008322200372,128.414530722616,119.04429115922295,120.95435343097601,126.529817272082,118.42591697434231,125.36479110480099,129.06173873926414,115.86435240018251,117.53899299762044,123.650964001735,123.39805259395209,130.09978665464354,128.04486825982434,120.57945362155783,129.05386604570674,125.6231526202722,130.5864014192226,128.18224131839344,121.84380906053318,122.12309937741439,126.73862562081602,123.97583321175313,127.98555577200891,121.07417536148837,130.2028657138136,129.82323345409105,124.92537890581723,123.47916441266696,125.9159045154476,120.61003816785171,125.23405874688096,127.60936331127849,126.41561534292757,131.32052571124066,127.97424622181303,130.82789932019622,124.9398477003746,121.36788691036989,126.24314370899246,132.52584955817784,126.52029245500641,124.12045831580792,123.57762446022404,129.52116880085362,124.98050115034333,120.48142604239177,121.05066610700118,122.57513043677405,124.16989613311671,122.5521636062495,125.84949473423951,129.71806468350889,119.7773496461987,119.66628461568273,126.09922711835513,120.13824977885358,126.80637122923449,118.69776310083603,130.02833725403693,126.30372461926038,124.44743021988656,124.17770345365925,121.79634496301053,125.72753318062992,124.4150702677147,126.22989528813048,129.6829164887582,121.8488956298448,124.57051648044603,125.22221176876081,120.44609031738277,127.5423844331626,130.63388914022786,117.14491518119009,126.26952771085233,125.59969078991615,128.09007276262278,121.13044079398774,121.7557027190996,128.64678034066452,121.22814088003214,133.02933210507427,125.34950479805453,126.29655328924375,121.39463201339407,124.48004049445714,132.7392158234843,125.68924244845783,124.70104454597806,125.66543843892006,122.2408993318066,119.06267263589235,130.47241611472873,123.25755107758735,125.97532122268589,127.32329390403697,131.518873317083,122.70713381382015,129.3327974660359,125.16961931936018,128.5625353847981,127.11462203245938,121.04572361679959,123.64974583966908,127.30500123316364,130.53541966556847,119.75983558424625,132.3499233236316,115.31130224499594,119.81648906884783,125.13987307947212,122.18817312834008,123.87887603046816,123.6162515822852,118.89715772609313,115.38596806094581,120.0427663726408,126.03983653448165,128.29337117724316,129.80757610948987,117.03479705978347,116.59413873822761,117.84822097782666,123.56826678219028,130.0033848347266,128.26515057812537,125.70454614367326,127.58819977348227,122.10329747178048,129.47792415380954,123.79086497872713,127.00587189684033,125.42569286839738,125.8993304629684,119.3950926385118,123.51517600851444,107.83364068921037,113.77763018389281,124.47503307423325,131.6175712034375,126.57403315341935,130.19539944587922,126.21522722863885,127.67747115919707,131.29002465855189,124.01149345234953,129.98192715337407,125.35787406677962,126.17598878116942,128.03854871825567,129.9319904114205,122.9902089858552,128.69062822911627,131.54760216781239,124.85753827963248,111.57464132190901,127.25670381293043,121.60094382179162,127.38199367059467,127.9899851666844,130.29482554229762,120.95313609354267,127.35489209362497,122.18326167451062,125.25442348601304,123.96192667268743,119.67572930682647,126.70702805876184,126.4582248464338,117.4122571337285,119.19714083433122,127.21568481743486,123.05209433392146,126.50331692781752,125.79999011613573,109.18939318297261,125.98904919871059,127.21207346686384,130.98026742889243,124.43580951242292,120.2617187390536,121.31532892246254,122.15612181051188,122.05517115625725,121.78420409642995,119.90932737522346,119.80872388732769,122.64358577675847,126.32553512729386,127.94923726021449,129.52560367159944,127.66997112479267,132.00290485636012,128.47208636032897,126.55285168398011,114.26316649052345,120.4033894357539,122.91520570290476,127.80799950955672,108.72616889731778,127.81227129216839,126.33268491193962,130.32364909705825,123.18024249161452,120.34615128418557,126.98734101893307,122.38317953365213,125.7660888772604,130.51161009363312,123.33249102735216,126.90872844610449,124.72546469884651,128.0233472608154,129.71931561944052,129.28679198874244,128.4453285809954,123.75534571408805,123.96208196484613,123.40198512624401,123.60309717835042,124.3274404475624,118.0623494056648,129.13374432814194,126.69883995052278,119.77427422794018,124.17936066100276,130.73126264203393,121.3519645161653,122.42776195601157,121.57577715345637,128.77234018492126,124.67191957680053,132.05538429110766,123.15689348241882,126.52676099510174,110.38209852125664,122.69163865649193,126.90209718237968,123.97200709186853,124.3970786087337,113.35383444862673,121.33120924470404,127.55436078224633,124.08328090341585,129.28396422008456,123.44960528561188,128.01673385605451,126.15323377044206,124.88167573729066,122.00198809093828,126.99495524023183,127.9316540660142,130.4970341255145,130.34103981313243,125.3016569596452,128.57448835380623,125.90775957396069,129.42668499868844,128.6023051473531,130.1158510380193,124.02048380181729,126.18725287178079,120.82830255227766,129.62397220691682,119.08173991110594,129.8600077542494,125.469986126974,125.58987514620793,122.39962568077188,125.67680984114489,122.46806143446506,124.36121993708575,124.54257955566212,122.59838211623385,123.59409142422112,125.94424697887922,129.57667349102366,124.55648728209509,124.1727372393695,128.66946916001987,126.8319726283378,125.68412125627032,124.95497651983656,127.05680510291774,124.35757904287293,125.4080210045133,129.62054349957674,123.55951434851279,121.2292740624193,129.36050829213514,123.70951529693245,127.18345309417704,124.44984213736194,127.95499605071129,117.68778628460312,123.97419927209204,127.67842299582347,129.33452801205806,120.50209918401899,120.21210705678882,122.20909617780268,124.3819033057895,120.03896868157966,124.33401153183158,125.230207426545,122.90758604086662,131.96392920015347,133.45995542382795,121.50041278775099,127.27741472983409,128.96826666171606,127.78794196263964,119.8547781629627,115.33750283611839,116.58859688566683,121.15227394055307,128.6676934548661,119.96053925178144,129.91546928728118,127.96381983931383,119.32216402871944,123.91637533120412,122.75172944589053,117.7961445133357,122.87317946596792,127.26837575325743,130.28062525226562,126.1086238010725,117.33028182435451,125.91931998444794,127.04902487742385,123.05557174222876,125.36149859228438,124.99712928857171,122.86695021883197,118.55138393998438,124.13617297024267,126.08405640607153,114.08015816281862,122.67395757747042,123.42852028220923,125.91030514559372,121.30361955615413,119.49370391215268,124.66737246889083,127.35670535651236,129.81057738116675,121.19611584429698,127.71631874227951,124.49254944406198,129.93144557671573,126.9085904434906,130.0653339988828,126.76294800914306,124.92668245381486,118.79835561566775,124.16918889295947,120.92145979106569,127.09789426011515,126.75714337992426,125.88359648999402,127.68574391365362,129.0928309171387,121.78834489958264,129.70876973066268,125.89460545076847,123.57612149509275,127.26327425760277,124.53631839692336,126.99981443708927,122.8942609102932,132.0555457296398,125.42512623255976,125.48736511578105,124.36902893629423,124.04247131356082,118.49077670277377,124.46041831270925,124.62183351222656,121.37662300755457,126.87257000223602,130.4305111210516,126.91323235497264,121.86089115519326,125.57420231637668,125.70274507321318,124.02857223006066,124.88297863700356,126.42185165641523,118.01440731085654,132.04001381152588,125.05111181839891,125.78467343400354,118.30224391044796,121.93858128139132,130.30625531957162,125.74608660682652,121.67941581735597,129.16016252752596,126.62488628524736,117.50716020858886,125.84692647115347,124.50290122098305,121.03299602753906,121.15223148192543,114.1726080420844,127.39067232903786,122.01812042899054,131.92970495508877,126.78544724731348,129.4660424683278,121.2842860049377,125.04026722233121,124.48847514035297,123.22663130680361,123.29210798422064,127.60991067842174,125.1842236414704,123.84983155459537,123.95034175557988,121.30353822736988,123.61046792222426,124.79101706170744,121.71424817456474,132.1906278396331,125.41091501744653,120.49108519600725,128.91854590889324,128.6496458083589,122.70597568552733,131.32454985941223,122.66203259149447,125.74907389350989,125.40717315261956,128.45955365300517,114.62592606005343,131.53760562450833,119.77755282567372,119.02556705058456,119.14202791822787,120.75976395837051,113.8211087038143,122.85833328023436,129.60827604818934,127.22547486501098,126.94520834261331,129.22972741503293,113.13679350311418,121.99603468480338,126.50942644829264,125.33435470551177,125.82307886377652,122.2851263856939,118.66036621409,122.91744466039198,124.30005012164585,119.86132308734844,123.19900247544041,125.29007447384103,128.56715095096556,126.80663117346707,126.10519106335256,123.73048931495892,125.83135982883645,131.37316962752425,126.36641650758085,127.1083265317917,128.90078061444515,126.52856420346049,124.4792190173418,123.07277013922236,121.8180138395708,125.05497391050318,126.64530093483663,120.8182974797329,123.97668123108895,131.34543785449767,121.37525871583179,119.53007692825877,132.07241652542515,125.01237536949321,127.09402193741028,126.56645664752061,128.54465031441453,127.23838899970929,129.21689863134668,119.58743507097593,118.05229975491666,123.09351566936564,124.58912321983001,118.50083702591733,127.2010159483336,112.56976673463714,112.26729129303656,117.23754545540855,122.97918209300828,124.35881106684343,120.53570719803884,129.8707871403029,132.03571367320328,125.7848526134352,127.7436711186752,117.64465354099696,122.61075156238637,126.07888097873088,122.63886057461121,127.83796761789792,116.95378865810927,120.70691310162438,122.60695322944864,116.7815891843255,129.13314480521385,129.00683169003324,130.49848186696954,126.54496451667089,118.73140415602485,130.96974197447412,123.73566869853846,125.67709434572103,132.43603603884972,125.4332898106548,123.24561487309067,128.40360718296935,128.62081603129727,128.09489251655086,124.08077198475844,127.21968619742759,120.59742082442372,129.52981862790915,129.49045936705767,124.066890731349,124.37384125575356,128.38895060450443,130.6735641218159,124.91519261627352,128.74664123536547,131.08321178124805,126.8173737562422,130.5669433416745,129.5121214385489,119.17791390500321,120.06404816009666,125.45683671417798,130.6107047119514,118.26240761759476,121.18625450090109,121.12916251860354,123.98955517861377,112.58134777358902,118.97053225160973,127.31422466664068,123.38986802694869,130.32908237345123,130.45544050076003,116.51764588718939,122.71152276240416,125.24096510136995,124.12358459976522,125.91316594213625,133.30487143216138,128.81218394093838,117.88448800997017,126.76179861362583,122.77628648851987,125.16430552742641,123.10082146831127,121.98118973113448,125.18837443698322,123.40824703836454,127.37776532757391,128.34542057257747,121.33791033595978,115.3261967879755,128.42316471934222,127.38171732468388,127.20166041834666,126.58940082168348,127.85670066383966,124.35350981826214,117.88084120198953,127.75198063798564,128.49182553811647,122.88029152151209,125.34374768555496,125.89296322031419,122.62579133076215,127.31756294132981,123.01725098375279,124.76201317476436,121.11751107448703,130.59449187251028,130.57633110871288,124.52591676256834,122.3549775109166,123.41550050835869,123.58701459986756,131.7586935907275,127.52240433414649,131.2988452032184,118.09490410854514,125.22048443607376,125.04163078421992,124.83655930065775,125.03552542078607,122.2067457292714,131.9476737543115,125.36375167953435,114.6095007010464,131.8482554093127,125.5969524194373,127.92078744839368,121.53020788631005,120.94242275622085,131.142326652247,123.20702756956491,123.28645704037928,128.13883651112184,125.74869896511458,120.42080289043315,126.43989739933143,121.41873118647042,129.3406756120148,125.20182842475185,120.5974027371198,121.38818462129346,119.45169041388024,119.46004648163728,126.49678280542474,117.00877192933831,126.73222885379556,126.15402143450407,124.21715515961682,123.8812275067073,122.8187964138282,124.83992159001113,124.63373965099665,130.69567517395092,127.1820281474548,125.59378414011351,116.81849349913293,124.60148379775055,124.65424066187242,127.03651824298375,126.39567055824257,124.3312072102594,128.35171933553602,122.34093046519752,124.9738286474119,124.89597133630755,121.97658465455525,130.1960042984416,125.26641127660436,120.9635030716915,120.72051426081228,127.77641817708404,126.43744056897557,125.15814568560693,124.29836896315348,117.13296457799527,120.12201206077803,126.93282918876606,128.77879757174875,129.7144750613057,115.27112733261771,126.58991019540707,124.04144527202651,125.11006825059157,121.72375117312158,115.64743988626662,120.15973135625865,125.30677076598248,124.69443750780265,123.96268325803547,124.28395570196788,127.00703803677209,125.3439432648913,120.35468923703407,125.65154408767282,130.35557221258512,131.14764770283912,123.48026540999092,118.52482414169721,131.01346053281878,117.28970349815735,128.84839150830288,122.02755433096293,121.4929762813257,129.7721921680999,120.40295364479991,131.31525641677828,126.93001315677287,122.55866101113335,125.67670810090122,124.51276697899256,120.20662240495489,130.38872930988222,127.43631521571824,121.91418667717434,129.97462003597022,115.67888260940705,126.02049977945074,124.5770418591518,123.20152694368723,126.93800082338491,126.10870675795826,131.39171570832772,118.48564979706975,122.19310113980589,128.8825429542838,126.81954813350818,127.45230860104822,117.75004159873257,130.6603113549019,121.44093542196208,127.91379659265056,119.7575209857073,127.28893726579307,122.70094811838723,127.27218954988436,117.91322559399465,119.37353066823997,122.73383844566261,131.47794670782605,118.43025515462107,128.6782519348,123.43671789915193,125.50288162500536,130.16574734395422,122.307219034545,122.74198591432415,126.32170883868628,122.78539631871055,127.48451102480463,126.82125600938991,129.73055203048162,123.78099853379679,130.48816023890652,123.47349500062934,128.99366228085572,121.85621816822541,125.82278452756235,117.41901590168497,123.75943733317773,128.32536579381286,121.49208425740572,128.0719525161448,124.80128668425832,118.89565084299176,125.23568903912955,124.25152037917408,130.72469910916652,126.33903873484427,125.46924961515846,124.81749420409713,123.04086314887942,119.38552775282521,131.61050947967288,125.71499154854438,121.76616556330129,130.23712081075107,112.10396494391516,123.11005145020867,121.93770273902948,126.43330793429068,132.79018034871658,123.81315831479186,120.70789843974515,122.87725759720573,130.98740410017263,128.90776684130654,122.1266321533752,129.1674845153548,128.21737609567202,127.92089932689478,129.4600615103283,123.71993369420507,133.15948774522622,129.02964618426103,123.43018187289283,122.24303322610116,124.43798327339,130.79268673518305,128.13030964211632,127.14991950376708,134.2051149110242,120.53972671293315,129.31522633248312,119.5411519561277,125.9202181044012,132.80907817228265,126.13022289376843,126.27310054674403,120.99951861309304,127.24166653793209,130.02524859780345,126.56446827456303,128.4687453002547,115.5504993248363,123.66371394155348,121.23907343089685,127.55083931046678,126.30751218793272,121.81783293200496,124.62353072163987,128.10490334856004,113.56644240078464,125.8016628640526,130.5636878791594,122.0367642823797,116.65074153847777,122.7455693666421,121.8322499275612,120.51086210689138,125.07006411666848,125.99422038559386,120.9946845035291,119.52798666829312,127.92257219428065,121.82508624481358,122.96419757740729,124.51029978713977,121.50188221530233,130.23341419327204,125.76783085562464,129.13311061875052,131.01314780725227,118.64181144967,123.07110133863115,129.53205710697145,122.01513293353189,125.33390075820957,122.77487023693779,129.75477061775024,119.92103639881348,125.17129384428917,121.28432647647581,121.83984608959126,119.6275151708181,126.93377567107267,115.80369345244432,127.77374613241479,125.74577913725933,124.00881726292671,125.91485762903721,128.59605578989658,122.58111337595182,121.53206714147011,125.60707868091608,126.11508108745888,127.03033853739426,128.66117640072855,123.22998861623927,124.93068896908173,129.04018569306376,125.30167516298329,128.97018025190505,116.59184700355905,127.11247652419834,126.17703043108416,123.44434008890549,132.13724594116565,131.89336606280696,119.1240471533915,130.5201077232126,128.7805100257302,128.74140299162733,126.61319739702606,126.7364861337132,126.17956389311348,133.26058882502593,121.88180189056155,119.98280174186232,128.6265546044962,119.6725395078646,126.08312474583744,125.15280124375023,123.53934343015835,122.24024261580409,124.89139823575375,128.6517482169152,123.65651047521051,123.8423981232225,128.57651051545423,117.83281816123045,125.29451437587018,132.41599747894105,121.22159188216703,127.65712059176252,124.7522370848367,120.62371077116529,122.17852135050235,129.65990394160377,120.75992595013633,123.56226821217791,127.45054535643145,119.28850007345142,123.62043194356126,116.4095701831238,129.04658212202312,121.39773618265937,125.21377541258222,127.10776610348728,123.91874196735961,123.41716945591604,132.96199877916095,127.39232536818902,120.93088924861135,130.77443329958518,131.93026439163413,123.87651766915126,124.67192798344833,128.37449003437285,123.96158734730928,126.40228866674276,123.83883246364921,118.44055029552925,125.33523585106084,120.46717902590198,128.12951720638583,122.77287116394517,131.36848355934228,122.8708800666925,125.00514476548601,123.0636130545843,130.5014810405884,118.43970557028574,125.6682941835293,121.25849002874328,127.354951067353,120.12958928172726,125.09185363676119,126.43380730140522,130.4606001885818,128.20822718855172,120.33528665022187,123.7905040282595,130.08404547851256,112.95822051206599,122.22613793667796,122.89677778119032,120.71837912460866,118.64339597810667,120.87703398172239,128.8137302744636,117.9056137457263,129.70317737746007,129.5175369353853,124.76428476608311,121.6984840441958,126.65910211542496,128.90184696650783,123.86487376438494,123.34743129345132,126.45256454322342,120.13231628675362,120.85656261872481,122.72040725010055,124.79234404771142,125.94116440778026,128.47644535371415,121.25631215691263,117.05927884890255,131.0066014888017,129.6859909778416,124.56921266370938,132.3512858997381,123.77774382067376,129.67764821419792,122.19042285889103,128.85864626386808,123.52936421574093,123.08798526695745,126.02312861397802,118.8046771530304,111.11786869906994,123.03499381500613,128.4869742195752,126.09943830564085,128.67261466164993,125.61480535107539,131.3258231918993,129.07733026028532,119.54057418418404,127.9507932474112,125.18152850171174,127.83274626658536,122.177364036994],\"y\":[5.208859673955331,-11.099391887879065,2.069009396612387,0.4145750187358459,3.1611735339213,-8.478533489210804,-0.3941286696402244,-0.6190789591304338,6.87994313300257,-5.721771747565839,0.6655570020404298,-10.412500075900866,6.640609010821464,2.374965306938691,7.845032392602917,-8.345538219535001,4.463560424461903,-0.8666385947170028,16.570852745137586,0.05904602352276811,0.9766868916858158,0.12286673214833854,6.622534433301809,3.8772400733362105,-0.2334829009758721,-1.0904345031657954,1.442227956342478,-13.027829421813578,-0.07242894195877625,4.213392752728851,-4.574759099230022,6.339223711656359,5.10780833137801,7.2621450996575305,6.934167776817034,2.5385703962745367,-0.5507328009429671,6.801065898735587,-4.806169563900667,3.3800071055449763,-3.1585544477431853,0.6688077092077691,2.805103217864797,-1.3346808894692543,0.9561641477540093,0.8562611875870658,-0.2803880286750342,3.5419155527342525,7.421406116159574,0.07158371964953858,0.7852016122007512,0.7965331514888732,1.9429863913413215,-3.1055583835479723,-6.892831858999614,1.7476348952861827,-0.4585286928988239,-1.8453856395657056,2.3414920265676074,5.099804869436525,-6.787743867440142,0.01216696628702607,2.0743274280255832,-4.589286080019377,6.8771107545726124,2.971171616406039,1.70232038751206,10.959065136537404,-1.9854166139724896,1.1172413919952646,11.02171721958696,2.156338880890914,-4.283918624037426,-0.6398090919321078,4.49236601836914,-0.33447244564659684,-0.5985859053093918,-3.393106125370153,3.8192801909277136,1.9932590890382755,3.4844083401250288,-0.347989717472899,-2.2270277642435303,4.571631894911903,0.9345376507178713,4.718772705864609,2.375668709517683,-11.550652323961444,5.52564253513836,-4.249915711833154,-2.6762099200234957,-3.878476145632405,0.7475597573766635,-1.8092852213378166,-10.354794605499677,-5.767078799600256,8.440173975473371,2.1829409528620545,4.1986578098332785,-5.636876281045005,-4.643246962643275,-3.611625485703371,1.1109467565720195,-5.490230858017185,2.811717902227457,-7.628315089060848,-0.9526632209511092,4.506263251188429,-0.7922971159465533,7.534973038894279,-4.139149065871024,-0.21750936044401215,-2.1467555362703052,-0.27390989702399793,8.12589056703078,-5.088244932248415,1.9967160529143655,-1.4147212460523804,2.7411201936166236,0.7997230209548434,-4.049714905848077,4.9114279928325715,-12.095098571373654,-1.2458824670207491,-3.284517752323822,11.035886678965525,-1.7830380479093009,-7.98799702069482,6.732177465506481,3.025744440440718,5.197445708968573,-4.904350661066488,-2.5330462097463737,-3.4503332480111766,4.687426133720251,-0.2452725239611908,-6.0170900959116835,2.02689044060358,-0.03748305014909192,-5.896221349672572,-6.451301787913337,-5.865058210701491,-6.9414508832613535,-6.65824901170636,-5.024506101137433,-4.8427045735332115,4.040007743868628,-4.297061772707565,1.592974369080224,3.9248502462330777,6.598445018430397,-4.078084831371598,5.368062056342396,-5.688965678839708,3.813736775060022,5.373872764276001,3.3321972468081213,-7.733440353767236,4.280597998197251,-1.1363839220082212,1.3622305203010683,0.3361974901399378,0.5447036567421293,4.975621043098215,-2.4964367331654387,6.370852889948864,-1.6461374893117124,13.046227446603979,5.861428424675694,-8.87361608892573,-0.7181887182746891,6.042321445269408,-3.3400442290610783,3.510592670405103,-1.4781149161887015,-5.349134914431971,2.828843454784959,1.5586468836290521,15.67998147301114,2.529330201119947,2.167242437695961,0.09779675316963221,1.477912271626181,-13.27839272015646,-0.9004052992097229,-1.7259485796339504,0.3807205634802955,-3.271299663382024,-5.5842255154331895,-3.68764200926384,3.0076019809686443,2.256797071380163,-8.01848450801495,-4.013197958548943,-1.6146210372967431,-7.914851818997121,8.049914307164073,2.6140804530085973,11.087589177001362,0.8799987945988619,-0.5439828141327183,6.498128991686102,-9.840368458423697,0.0867850570002986,2.3809653114999207,1.5120971746056,5.579433799706763,-6.06001004456634,7.0357550086925045,3.643847541921531,3.370586678114975,-5.678675032659726,17.7674767946649,4.423718120453202,-1.4519167779962885,-0.7024692773840115,1.8932911592229402,3.522353430976011,0.6628172720819947,-0.5380830256576843,-2.311208895199016,-4.149261260735869,5.349352400182511,2.984992997620438,-9.643035998264978,3.044052593952088,3.8087866546435407,0.5148682598243397,3.4254536215578355,1.1508660457067492,6.6681526202721955,2.185401419222586,-0.6467586816065705,-6.701190939466812,4.989099377414391,-8.425374379183964,-10.587166788246861,-6.1244442279911055,4.397175361488365,-2.807134286186397,-0.1297665459089501,-2.271621094182777,-6.07283558733306,-1.7800954845524046,2.5650381678517107,-11.833941253119022,-0.14363668872150015,-5.3923846570724265,6.266525711240661,-7.0217537781869765,-1.2221006798037877,-1.5741522996253963,2.232886910369885,-3.645856291007547,-4.481150441822166,-13.397707544993594,-0.2745416841920729,-3.8203755397759522,-3.5018311991463804,-5.36849884965666,1.7384260423917794,1.1966661070011781,4.525130436774049,-3.159103866883285,-3.496836393750499,-0.26650526576048605,-5.508935316491119,6.929349646198702,7.4012846156827266,-7.66877288164487,4.169249778853583,-1.9556287707655144,5.99876310083603,4.087337254036925,-8.944275380739612,7.724430219886557,6.791703453659238,3.232344963010533,-2.3584668193700935,-0.629929732285305,-0.5161047118695308,6.91691648875819,-6.416104370155182,-5.298483519553969,2.451211768760814,1.4480903173827784,-5.3436155668374,-4.192110859772129,8.737915181190075,-1.294472289147663,-1.1363092100838514,-2.5389272373772087,3.106440793987744,0.7927027190996085,-4.424219659335478,-3.48885911996787,1.9693321050742725,0.9565047980545387,0.7075532892437479,-3.825367986605926,0.4790404944571378,5.663215823484293,-1.148757551542161,0.9590445459780597,1.904438438920053,3.7998993318066,3.758672635892353,-0.6565838852712602,-5.054448922412661,1.363321222685883,-4.4837060959630435,-0.5761266829169926,0.6061338138201506,-6.62020253396409,5.111619319360187,-6.7454646152018825,4.7036220324593785,-10.407276383200411,2.2427458396690696,-1.186998766836382,-3.3105803344315348,7.550835584246244,2.014923323631592,7.326302244995944,3.9984890688478316,-14.288126920527873,1.9591731283400833,5.535876030468174,0.17125158228520831,5.893157726093136,8.505968060945818,3.9347663726408086,-1.6701634655183426,-0.4106288227568484,-3.8414238905101286,5.684797059783477,5.90513873822762,3.214220977826656,-13.507733217809715,0.9503848347266057,-5.321849421874646,-9.619453856326729,-3.228800226517734,7.018297471780485,2.5919241538095292,-8.513135021272873,2.170871896840339,-8.910307131602636,0.009330462968392794,-4.118907361488198,5.604176008514443,-6.64035931078962,5.51263018389281,-3.452966925766745,0.1835712034375092,4.427033153419345,-2.5736005541207874,-3.561772771361163,-6.820528840802922,15.1620246585519,0.5954934523495297,5.860927153374064,0.15487406677962667,-4.669011218830576,17.54754871825567,0.5889904114204967,6.770208985855206,0.5466282291162656,8.75760216781238,-5.298461720367527,-10.35835867809098,3.982703812930424,3.1909438217916204,-6.958006329405336,3.756985166684416,-6.5421744577024015,6.092136093542663,-2.694107906375038,1.3972616745106166,5.935423486013036,-4.373073327312582,5.198729306826465,3.0720280587618305,-10.3677751535662,-13.064742866271501,-9.918859165668792,0.38968481743485484,2.997094333921453,-0.2486830721824873,-3.2040098838642592,0.4683931829726049,0.728049198710579,-6.57792653313615,0.6482674288924386,-7.748190487577077,5.046718739053603,-3.671671077537468,4.869121810511871,1.2571711562572574,2.6492040964299406,3.1853273752234657,7.120723887327699,1.3305857767584826,5.879535127293863,-7.534762739785521,-4.904396328400566,-3.1210288752073296,0.27790485636012363,4.935086360328967,-3.9071483160198994,8.00316649052344,2.9383894357538907,3.921205702904757,-0.4820004904432693,2.144168897317769,-0.4317287078316099,0.7296849119396285,3.2226490970582518,-5.517757508385458,0.7001512841855657,-2.976658981066933,-0.3408204663478642,-4.298911122739597,0.844610093633122,-4.215508972647825,-1.4922715538955202,-1.918535301153483,-1.4766527391846012,-0.4286843805594742,-2.827208011257568,-2.5196714190045952,0.06034571408805789,5.671081964846138,1.1839851262440249,-1.081902821649578,-3.9835595524376117,4.204349405664814,-3.45425567185805,11.55483995052279,3.590274227940185,0.8673606610027491,14.657262642033928,-4.6460354838346944,3.219761956011567,1.4877771534563777,-6.214659815078733,-0.5220804231994691,15.689384291107658,0.9408934824188151,-10.271239004898263,-10.901901478743355,-0.7513613435080657,-2.742902817620333,1.1270070918685349,-3.7219213912663065,4.362834448626728,8.043209244704045,-4.802639217753665,-1.4157190965841409,4.880964220084564,-1.9483947143881153,-3.986266143945471,-3.4217662295579316,4.820675737290657,-7.673011909061728,9.027955240231819,0.8776540660142018,9.343034125514492,-0.3809601868675827,-0.3233430403547999,-8.472511646193766,-1.1872404260393097,-2.54431500131156,-4.550694852646899,-2.2381489619806985,-3.2945161981827056,2.1962528717807857,3.2243025522776634,-2.9630277930831994,3.4367399111059456,2.6090077542494043,-0.3540138730259912,-3.2151248537920765,-3.9433743192281128,-8.570190158855127,-10.738938565534937,-12.845780062914244,2.5985795556621127,2.0433821162338432,2.10909142422112,-0.5957530211207853,-8.546326508976335,-7.239512717904901,-1.5482627606305073,-3.9415308399801177,-8.708027371662197,1.8051212562703256,2.7849765198365617,-1.945194897082274,-0.8434209571270799,1.5460210045132925,-5.249456500423264,-0.48948565148720036,-4.6277259375807205,-3.8404917078648566,-0.7294847030675413,-2.124546905822953,-0.21515786263806547,-3.0060039492887256,9.653786284603129,-0.049800727907964415,-3.5555770041765413,9.821528012058067,2.627099184018988,2.0991070567888244,-3.3299038221973234,-2.2340966942104927,3.223968681579663,1.5690115318315776,-5.784792573454993,-7.361413959133387,-3.1060707998465205,-0.24704457617204412,1.1764127877509907,-4.3045852701659015,0.5332666617160555,-2.9000580373603526,5.43677816296271,4.432502836118388,8.55459688566684,8.20727394055308,-2.5163065451338866,3.5435392517814392,-3.1465307127188282,-1.6891801606861634,-5.321835971280549,-3.5266246687958756,-3.6942705541094654,9.112144513335707,-0.9618205340320714,3.64537575325744,1.8536252522656014,-0.43137619892750934,4.201281824354524,1.5813199844479442,0.8540248774238535,-9.102428257771223,-4.945501407715639,-7.253870711428291,1.0919502188319683,7.017383939984384,-0.4888270297573314,-7.113943593928454,1.8391581628186202,2.139957577470426,0.30252028220922966,0.03830514559371068,2.1926195561541277,-1.1132960878473313,-4.823627531109182,-1.6332946434876447,-5.135422618833246,4.2761158442969815,5.42431874227951,-1.1384505559380216,1.213445576715742,-2.5594095565093937,-7.5926660011171805,3.671948009143051,-8.247317546185144,5.743355615667738,-1.1838111070405262,1.6924597910656871,0.3078942601151482,-1.3818566200757516,-0.5874035100059842,-1.947256086346357,0.37983091713871886,2.156344899582635,-0.9352302693373247,5.747605450768461,-6.199878504907261,-3.4067257423972137,0.024318396923362684,-1.7071855629107233,-7.828739089706787,6.928545729639779,-6.142873767440221,0.14436511578105637,-4.95997106370578,1.0054713135608182,3.118776702773758,7.265418312709258,3.386833512226559,-1.0733769924454322,-6.3574299977639726,-1.5244888789484037,-3.86376764502738,-0.5521088448067388,-1.464797683623317,1.0557450732131741,6.550572230060666,5.145978637003552,-5.093148343584758,-3.64259268914347,13.344013811525883,-10.872888181601098,-0.5643265659964527,-0.9217560895520336,-2.4994187186086663,-1.964744680428396,-3.310913393173493,3.5884158173559655,-3.8818374724740465,-8.704113714752651,4.473160208588865,-2.328073528846545,-0.8160987790169543,3.0149960275390697,0.599231481925429,2.03360804208441,-5.405327670962137,1.4861204289905317,2.7817049550887702,0.32844724731347696,-3.7849575316722053,0.771286004937707,2.6692672223312,0.6234751403529799,-6.862368693196387,-6.8808920157793665,-2.3270893215782706,-6.632776358529611,-8.299168445404632,1.5563417555798935,6.734538227369882,-4.734532077775739,-6.077982938292564,2.675248174564743,4.243627839633092,-1.5550849825534812,3.3810851960072483,-2.527454091106762,-2.624354191641089,-11.102024314472658,5.872549859412217,-4.281967408505537,1.9290738935098943,5.2181731526195705,0.6965536530051821,0.36792606005343487,0.6296056245083435,2.9855528256737216,6.38656705058456,2.9770279182278614,-2.294236041629489,7.597108703814314,-2.9436667197656448,-3.423723951810672,-0.5755251349890216,4.7102083426133134,9.153727415032918,3.9147935031141685,-7.867965315196628,12.465426448292646,1.7253547055117764,-4.924921136223475,1.0291263856938997,6.119366214090007,6.766444660391969,-3.8999498783541355,-5.232676912651556,0.13000247544040633,-5.297925526158963,8.761150950965558,6.211631173467069,0.08419106335256288,-0.37551068504109253,8.875359828836451,2.103169627524238,-13.441583492419142,0.21232653179170313,3.784780614445154,8.601564203460484,-4.619780982658185,6.891770139222359,3.8930138395707985,1.2479739105031769,-4.294699065163371,0.9302974797329142,-1.4213187689110498,6.319437854497664,-4.351741284168213,3.396076928258765,10.598416525425165,-6.998624630506782,3.4990219374102765,-5.551543352479385,-7.991349685585476,-1.4046110002907142,-4.219101368653327,-9.389564929024075,6.4642997549166665,2.6965156693656382,2.8061232198300274,7.945837025917328,1.4600159483336057,-7.138233265362857,8.137291293036569,3.5725454554085445,-4.319817906991716,0.9138110668434365,-1.5082928019611614,5.114787140302894,2.479713673203264,-1.9451473865647984,1.3136711186751882,2.8946535409969556,-11.447248437613624,-5.185119021269131,0.19986057461122186,-3.804032382102079,7.235788658109286,1.145913101624373,8.34895322944864,2.982589184325505,-6.334855194786144,-7.934168309966765,-3.2295181330304388,2.191964516670893,5.433404156024864,-1.6252580255258806,0.3816686985384621,-3.816905654278969,3.860036038849728,-5.035710189345195,-5.1703851269093235,-1.1123928170306385,0.37481603129725727,-0.6681074834491483,-4.284228015241567,-0.009313802572407326,7.487420824423722,-0.8441813720908442,-7.092540632942331,4.4278907313490095,-1.1501587442464398,-3.1530493954955716,-2.2234358781841195,-15.242807383726472,-0.6303587646345363,8.435211781248057,-4.653626243757799,-4.409056658325511,-4.5398785614511326,3.764913905003212,-0.4699518399033309,-1.5541632858220282,-2.6122952880485855,7.955407617594759,5.888254500901098,3.8451625186035443,3.273555178613762,5.176347773589015,7.511532251609722,-0.15077533335932003,-2.909131973051302,7.3910823734512405,-3.578559499239958,5.737645887189387,2.484522762404154,-3.7370348986300286,-2.4134154002347827,-2.965834057863745,8.968871432161379,2.8151839409383683,7.935488009970172,0.5607986136258205,-0.4787135114801231,-6.199694472573597,-0.463178531688726,1.9471897311344861,-2.445625563016776,0.9982470383645392,-3.1632346724260856,0.12942057257745887,-0.1900896640402152,8.722196787975506,-5.229835280657767,-3.5652826753161264,-1.158339581653351,-6.790599178316512,-0.9592993361603419,-4.386490181737869,1.4048412019895267,-1.5440193620143532,-2.46317446188354,-6.058708478487901,-1.1922523144450423,-1.6980367796858218,-0.1562086692378557,-0.36843705867019594,2.808250983752785,-1.0349868252356487,-2.1864889255129754,3.186491872510288,-0.8716688912871007,1.4059167625683386,2.1619775109166,-0.0494994916413134,3.9380145998675573,0.6846935907275054,-3.3705956658535143,5.481845203218398,4.319904108545131,-10.645515563926253,1.5866307842199205,-2.4784406993422436,-1.1234745792139194,-1.9812542707285843,5.777673754311493,4.866751679534332,2.4405007010464033,1.0202554093127105,7.180952419437304,-5.390212551606325,-8.213792113689948,2.020422756220839,-2.235673347752993,-0.9199724304350951,0.2254570403792684,-3.3281634888781753,3.277698965114581,7.37580289043315,-9.019102600668575,1.473731186470431,-1.5943243879852105,-11.182171575248134,0.8204027371197924,2.529184621293467,3.8436904138802532,5.211046481637283,0.2787828054247541,6.884771929338314,-0.7557711462044381,8.640021434504078,2.8201551596168173,-0.37177249329268136,-7.81920358617181,0.6179215900111217,1.925739650996647,10.122675173950924,-1.7249718525452096,2.674784140113516,-7.389506500867071,1.70848379775056,-3.65175933812759,3.725518242983739,-1.8563294417574383,8.26520721025939,6.8047193355360065,3.955930465197511,-4.421171352588104,-3.443028663692445,1.221584654555258,-0.15199570155837705,6.2264112766043525,-0.20149692830850086,6.011514260812277,2.7664181770840344,11.723440568975576,0.22714568560692783,2.216368963153471,6.293964577995268,2.7940120607780443,-0.35217081123393257,-4.014202428251252,9.699475061305705,-10.3558726673823,-4.901089804592942,2.1564452720265024,-3.828931749408426,0.41775117312158727,-8.746560113733366,4.693731356258638,-0.12022923401752905,-0.8915624921973517,4.612683258035474,2.6489557019678784,-3.4999619632279177,-7.011056735108696,4.7636892370340576,-1.568455912327181,3.6425722125851223,-0.9383522971608897,1.853265409990911,6.169824141697205,-3.4165394671812237,0.7297034981573489,2.992391508302873,-8.586445669037076,-1.684023718674311,-1.463807831900084,2.4069536447998985,4.008256416778281,-2.750986843227139,-4.279338988866641,-5.938291899098786,0.08676697899255714,-5.16937759504512,1.5107293098822367,-4.52368478428177,-6.529813322825646,-3.0653799640297734,4.810882609407059,9.237499779450758,-2.067958140848191,1.6875269436872316,-8.487999176615105,-6.249293242041745,-0.038284291672283643,5.961649797069754,0.29010113980589836,7.265542954283788,-5.1004518664918095,-2.5206913989517687,2.9990415987325605,4.508311354901892,4.881935421962083,-2.5822034073494535,1.9685209857073005,-5.841062734206929,2.1319481183872284,-2.5948104501156593,2.0232255939946526,8.926530668239963,-1.4801615543373856,4.697946707826048,5.755255154621068,-3.1287480652000283,-0.8072821008480702,-1.129118374994647,0.021747343954217513,2.5702190345449907,2.32298591432415,-3.0732911613137333,-5.922603681289445,-7.8434889751953705,-3.155743990610091,-4.495447969518381,1.3839985337967846,-6.269839761093465,-5.15950499937064,-2.972337719144292,2.321218168225414,0.9187845275623516,6.525015901684981,-3.872562666822276,-0.8086342061871221,1.3300842574057157,-0.2240474838552018,-5.198713315741685,0.7616508429917559,-5.071310960870463,-3.6474796208259193,-0.28530089083346866,-3.1259612651557376,-6.485750384841552,-2.141505795902873,2.314863148879425,6.070527752825214,10.658509479672873,1.294991548544374,2.607165563301294,6.343120810751074,-2.880035056084836,0.571051450208671,-1.2402972609705216,-5.431692065709328,1.4801803487165728,2.588158314791869,2.4408984397451405,1.1152575972057264,9.405404100172618,-4.333233158693474,-5.097367846624792,-6.265515484645192,-6.407623904327977,-2.2851006731052337,3.4150615103283,-4.875066305794931,6.3544877452262085,-7.853353815738956,11.612181872892833,2.3270332261011646,1.0279832733900065,4.826686735183046,1.8643096421163108,-8.230080496232915,5.645114911024194,0.385726712933149,-4.6087736675168856,5.13715195612771,-4.674781895598798,4.411078172282657,-10.03277710623155,0.2811005467440282,1.3935186130930362,3.6766665379320926,-2.2267514021965553,-4.32553172543696,4.1927453002547,5.3264993248363055,-0.11128605844652384,4.18507343089685,-0.359160689533212,-1.109487812067286,1.4988329320049587,5.472530721639856,-5.297096651439972,3.2024424007846477,-0.8753371359474045,6.9806878791594045,1.847764282379714,6.386741538477779,-0.5594306333579055,0.9972499275611995,6.985862106891375,-2.7769358833315323,3.054220385593865,2.3606845035291,1.5519866682931251,-0.9444278057193713,-0.2629137551864176,-1.5608024225927153,0.4092997871397728,-5.592117784697663,1.8524141932720397,-0.7321691443753622,-2.909889381249485,1.8691478072522614,2.8498114496699998,-4.564898661368858,-3.530942893028538,-12.211867066468116,1.0799007582095754,-5.948129763062198,-3.5062293822497566,6.692036398813485,5.828293844289178,-4.781673523524191,1.312846089591261,3.7345151708181135,-2.4612243289273437,3.5526934524443163,-4.342253867585228,3.0667791372593314,2.7748172629267174,2.497857629037213,-2.4269442101034144,-0.6278866240481875,-0.4639328585299012,4.84107868091607,-2.9219189125411305,5.884338537394257,6.055176400728541,-0.9360113837607287,0.1216889690817311,-2.3058143069362416,1.193675162983297,-6.51981974809496,1.2008470035590477,0.3074765241983357,-1.068969568915847,-1.7666599110945072,2.2892459411656603,0.23736606280695582,-3.6299528466084894,13.596107723212597,-5.4554899742697955,-4.086597008372678,2.5361973970260436,0.19648613371319357,-3.1214361068865344,7.6745888250259355,6.190801890561545,2.67380174186232,-4.4134453955038,4.037539507864594,-2.37087525416257,-6.068198756249771,-5.752656569841648,1.1342426158040837,-2.426601764246243,-0.715251783084824,3.3265104752105117,0.7613981232224916,9.036510515454225,8.169818161230452,1.554514375870184,2.342997478941072,5.420591882167031,-0.7448794082374945,0.9132370848366946,4.627710771165283,-1.738478649497651,-2.0380960583962064,2.9749259501363383,2.711268212177913,-3.1164546435685594,4.388500073451411,-4.272568056438729,6.8895701831238085,-4.800417877976884,2.22373618265938,-0.25122458741778075,11.64676610348728,-2.9272580326403954,7.897169455916043,5.33899877916096,1.0363253681890114,0.8938892486113446,2.69243329958519,-6.626735608365891,-2.7134823308487483,2.287927983448327,4.594490034372853,-4.869412652690741,-4.876711333257234,-4.58416753635079,8.127550295529261,-2.022764148939146,2.7261790259019847,-2.906482793614174,-0.4161288360548241,-0.6095164406576998,-2.2361199333075206,-3.6718552345140125,0.6986130545842997,-3.976518959411578,5.35370557028574,0.27829418352929736,2.59149002874328,-3.8310489326470076,4.818589281727256,-4.877146363238808,1.2768073014052135,-4.477399811418195,-5.043772811448292,6.250286650221881,-1.6814959717405031,-4.391954521487435,1.8822205120659845,-1.2398620633220503,0.2217777811903261,2.761379124608652,7.5083959781066625,1.2790339817223924,2.3277302744636046,1.355613745726302,0.7321773774600615,-1.7634630646147116,3.9852847660831117,0.03448404419579276,-0.2738978845750353,-3.987153033492177,-8.024126235615071,-3.395568706548673,0.45156454322341233,8.067316286753623,3.8895626187247956,0.43240725010055314,-14.433655952288575,-3.4128355922197215,-6.714554646285848,5.947312156912631,8.43427884890255,-1.911398511198314,-6.117009022158385,-5.379787336290605,8.03328589973809,0.3857438206737527,-0.6333517858020912,2.9814228588910225,-7.332353736131921,-0.013635784259065531,0.8769852669574476,4.592128613978019,5.470677153030394,-1.6501313009300418,1.7169938150061341,-7.536025780424808,-1.764561694359145,-6.1803853383500496,-2.6421946489246153,8.3698231918993,-8.735669739714666,-4.447425815815961,-2.2052067525888077,-15.805471498288256,-2.944253733414655,0.028364036994005914]}},\"id\":\"152487cc-2dde-47b0-b943-cb1eb27ff0f2\",\"type\":\"ColumnDataSource\"},{\"attributes\":{\"callback\":null,\"overlay\":{\"id\":\"dc01d5f7-a857-42a6-91c6-c70a5b64d5f1\",\"type\":\"PolyAnnotation\"},\"plot\":{\"id\":\"b90fded7-6c17-40a9-8cdb-132885f413af\",\"subtype\":\"Figure\",\"type\":\"Plot\"}},\"id\":\"4fa40002-c153-4445-8125-db039012b0bf\",\"type\":\"LassoSelectTool\"},{\"attributes\":{\"plot\":{\"id\":\"b90fded7-6c17-40a9-8cdb-132885f413af\",\"subtype\":\"Figure\",\"type\":\"Plot\"}},\"id\":\"75d1fb10-3693-44d3-8fd3-1ade82771e79\",\"type\":\"PanTool\"}],\"root_ids\":[\"b90fded7-6c17-40a9-8cdb-132885f413af\"]},\"title\":\"Bokeh Application\",\"version\":\"0.12.2\"}};\n",
       "            var render_items = [{\"docid\":\"3f3340af-0f8f-46f6-9213-72100c23878a\",\"elementid\":\"914f32b9-4c35-4f63-8676-4f318558ec5f\",\"modelid\":\"b90fded7-6c17-40a9-8cdb-132885f413af\"}];\n",
       "            \n",
       "            Bokeh.embed.embed_items(docs_json, render_items);\n",
       "        });\n",
       "      },\n",
       "      function(Bokeh) {\n",
       "      }\n",
       "    ];\n",
       "  \n",
       "    function run_inline_js() {\n",
       "      \n",
       "      if ((window.Bokeh !== undefined) || (force === \"1\")) {\n",
       "        for (var i = 0; i < inline_js.length; i++) {\n",
       "          inline_js[i](window.Bokeh);\n",
       "        }if (force === \"1\") {\n",
       "          display_loaded();\n",
       "        }} else if (Date.now() < window._bokeh_timeout) {\n",
       "        setTimeout(run_inline_js, 100);\n",
       "      } else if (!window._bokeh_failed_load) {\n",
       "        console.log(\"Bokeh: BokehJS failed to load within specified timeout.\");\n",
       "        window._bokeh_failed_load = true;\n",
       "      } else if (!force) {\n",
       "        var cell = $(\"#914f32b9-4c35-4f63-8676-4f318558ec5f\").parents('.cell').data().cell;\n",
       "        cell.output_area.append_execute_result(NB_LOAD_WARNING)\n",
       "      }\n",
       "  \n",
       "    }\n",
       "  \n",
       "    if (window._bokeh_is_loading === 0) {\n",
       "      console.log(\"Bokeh: BokehJS loaded, going straight to plotting\");\n",
       "      run_inline_js();\n",
       "    } else {\n",
       "      load_libs(js_urls, function() {\n",
       "        console.log(\"Bokeh: BokehJS plotting callback run at\", now());\n",
       "        run_inline_js();\n",
       "      });\n",
       "    }\n",
       "  }(this));\n",
       "</script>"
      ]
     },
     "metadata": {},
     "output_type": "display_data"
    }
   ],
   "source": [
    "# Plotining using bokeh\n",
    "#TOOLS = 'hover,box_zoom,box_select,crosshair,resize,reset,lasso_select,pan,save,poly_select,tap,wheel_zoom,undo'\n",
    "TOOLS = 'box_zoom,box_select,crosshair,resize,reset,lasso_select,pan,save,poly_select,tap,wheel_zoom,undo'\n",
    "p = figure(plot_width=500, plot_height=500, title=\"Residual plot on the training data\", tools=TOOLS)\n",
    "p.scatter(predicted, (predicted - Y),x=\"jjj\", marker=\"o\", color=\"#80B1D3\", line_width=3)\n",
    "p.title.align = \"center\"\n",
    "p.xaxis.axis_label = \"Predicted\"\n",
    "p.xaxis.axis_label_text_color = \"#aa6666\"\n",
    "#p.xaxis.axis_label_standoff = 30\n",
    "p.xaxis.major_tick_line_color = \"firebrick\"\n",
    "p.xaxis.major_tick_line_width = 3\n",
    "p.xaxis.minor_tick_line_color = \"orange\"\n",
    "p.yaxis.axis_label = \"Residuals\"\n",
    "p.yaxis.axis_label_text_font_style = \"italic\"\n",
    "p.yaxis.axis_label_text_color = \"#aa6666\"\n",
    "p.background_fill_color = \"beige\"\n",
    "p.background_fill_alpha = 0.5\n",
    "#p.line([2,38], [0, 0], line_dash=\"4 4\", line_width=2, color='red')\n",
    "show(p)"
   ]
  },
  {
   "cell_type": "markdown",
   "metadata": {},
   "source": [
    "## Pipeline"
   ]
  },
  {
   "cell_type": "markdown",
   "metadata": {},
   "source": [
    "The best to deliver the model by pipeline the operation then at deployment can be done in one model."
   ]
  },
  {
   "cell_type": "markdown",
   "metadata": {
    "collapsed": true
   },
   "source": [
    "  I used two ways to check the pipeline so any one can be fine"
   ]
  },
  {
   "cell_type": "code",
   "execution_count": 25,
   "metadata": {
    "collapsed": false
   },
   "outputs": [
    {
     "name": "stdout",
     "output_type": "stream",
     "text": [
      "0.492119454704\n",
      "Scoring according to mean_squared_error\n",
      "[-24.51580679 -30.32293482 -28.28984452 -28.7005578  -20.73635151\n",
      " -27.88705418 -20.89714336 -21.46148412 -20.02964614 -22.89911194]\n",
      "\n",
      " Mean      Standard deviation\n",
      "-24.57      3.69\n",
      "[ True  True  True  True  True]\n",
      "R-squared =  0.492119454704\n"
     ]
    }
   ],
   "source": [
    "# Use Pipeline\n",
    "# ANOVA \n",
    "from sklearn.pipeline import Pipeline\n",
    "from sklearn.feature_selection import SelectKBest, f_regression\n",
    "anova_filter = SelectKBest(f_regression, k=5)\n",
    "LR = Lasso(alpha = 0.26315789473684209, precompute = False)\n",
    "anova_LinReg = Pipeline([('scaler_Input',scaler), ('anova', anova_filter), ('LinReg', LR)])\n",
    "# You can set the parameters using the names issued\n",
    "# For instance, fit using a k of 10 in the SelectKBest\n",
    "anova_LinReg.set_params(anova__k=5).fit(new_data, Y)\n",
    "prediction = anova_LinReg.predict(new_data)\n",
    "print anova_LinReg.score(new_data, Y)                        \n",
    "# getting the selected features chosen by anova_filter\n",
    "results = cross_validation.cross_val_score(anova_LinReg, new_data, Y, cv=kfold, scoring=scoring)\n",
    "print 'Scoring according to mean_squared_error'\n",
    "print results\n",
    "print '\\n Mean      Standard deviation'\n",
    "print(\"%.2f      %.2f\" % (results.mean(), results.std()))\n",
    "print anova_LinReg.named_steps['anova'].get_support()\n",
    "r_squared = r2_score(Y, prediction, multioutput='variance_weighted')\n",
    "print 'R-squared = ',r_squared"
   ]
  },
  {
   "cell_type": "code",
   "execution_count": 26,
   "metadata": {
    "collapsed": false
   },
   "outputs": [
    {
     "name": "stdout",
     "output_type": "stream",
     "text": [
      "R-squared =  0.492119454704\n"
     ]
    }
   ],
   "source": [
    "# Using make_pipeline\n",
    "from sklearn.pipeline import make_pipeline\n",
    "\n",
    "# ANOVA SVM-C\n",
    "# 1) anova filter, take 3 best ranked features\n",
    "anova_filter = SelectKBest(f_regression, k=5)\n",
    "anova_Lasso = make_pipeline(scaler, anova_filter, LR)\n",
    "anova_Lasso.fit(new_data, Y)\n",
    "prediction = anova_Lasso.predict(new_data)\n",
    "r_squared = r2_score(Y, prediction, multioutput='variance_weighted')\n",
    "print 'R-squared = ',r_squared"
   ]
  },
  {
   "cell_type": "markdown",
   "metadata": {},
   "source": [
    "### Save the Pipeline model for developement"
   ]
  },
  {
   "cell_type": "code",
   "execution_count": 27,
   "metadata": {
    "collapsed": false
   },
   "outputs": [
    {
     "data": {
      "text/plain": [
       "['anova_Lasso.pkl',\n",
       " 'anova_Lasso.pkl_01.npy',\n",
       " 'anova_Lasso.pkl_02.npy',\n",
       " 'anova_Lasso.pkl_03.npy',\n",
       " 'anova_Lasso.pkl_04.npy',\n",
       " 'anova_Lasso.pkl_05.npy',\n",
       " 'anova_Lasso.pkl_06.npy',\n",
       " 'anova_Lasso.pkl_07.npy']"
      ]
     },
     "execution_count": 27,
     "metadata": {},
     "output_type": "execute_result"
    }
   ],
   "source": [
    "# save the model scaler to the desk\n",
    "from sklearn.externals import joblib\n",
    "joblib.dump(anova_Lasso, 'anova_Lasso.pkl') "
   ]
  },
  {
   "cell_type": "code",
   "execution_count": 28,
   "metadata": {
    "collapsed": false
   },
   "outputs": [
    {
     "name": "stdout",
     "output_type": "stream",
     "text": [
      " =================================================================>>>>> done\n",
      "R-squared =  0.492119454704\n"
     ]
    }
   ],
   "source": [
    "# Test the model if it is work\n",
    "anova_LassoTest = joblib.load('anova_Lasso.pkl')\n",
    "NewPred = anova_LassoTest.predict(new_data)\n",
    "print \" =================================================================>>>>> done\"\n",
    "r_squared = r2_score(Y, NewPred, multioutput='variance_weighted')\n",
    "print 'R-squared = ',r_squared"
   ]
  },
  {
   "cell_type": "code",
   "execution_count": 29,
   "metadata": {
    "collapsed": false
   },
   "outputs": [
    {
     "name": "stdout",
     "output_type": "stream",
     "text": [
      "Point of training data before normalization\n",
      "[  1.00000000e+03   2.70000000e+00   1.52400000e-01   7.13000000e+01\n",
      "   2.43851000e-03]\n",
      "\n",
      "The read target of the data =  128.774\n",
      "\n",
      "The Predicted target of the data =  [ 130.4060242]\n"
     ]
    }
   ],
   "source": [
    "# test on single data point, randomly choose point number 55\n",
    "print 'Point of training data before normalization\\n',new_data[55]\n",
    "print '\\nThe read target of the data = ', Y[55]\n",
    "NewPred = anova_LassoTest.predict([new_data[55]])\n",
    "print '\\nThe Predicted target of the data = ', NewPred"
   ]
  },
  {
   "cell_type": "markdown",
   "metadata": {},
   "source": [
    "## Conclusion "
   ]
  }
 ],
 "metadata": {
  "kernelspec": {
   "display_name": "Python 2",
   "language": "python",
   "name": "python2"
  },
  "language_info": {
   "codemirror_mode": {
    "name": "ipython",
    "version": 2
   },
   "file_extension": ".py",
   "mimetype": "text/x-python",
   "name": "python",
   "nbconvert_exporter": "python",
   "pygments_lexer": "ipython2",
   "version": "2.7.12"
  }
 },
 "nbformat": 4,
 "nbformat_minor": 0
}
