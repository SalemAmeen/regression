{
 "cells": [
  {
   "cell_type": "markdown",
   "metadata": {},
   "source": [
    "Salem Ameen, PhD student at Salford University\n",
    "\n",
    "### Airfoil Self-Noise price\n",
    "\n",
    "Deep learning Regression"
   ]
  },
  {
   "cell_type": "markdown",
   "metadata": {},
   "source": [
    "# Import the Libraries"
   ]
  },
  {
   "cell_type": "markdown",
   "metadata": {},
   "source": [
    "General Library"
   ]
  },
  {
   "cell_type": "code",
   "execution_count": 1,
   "metadata": {
    "collapsed": false
   },
   "outputs": [
    {
     "data": {
      "text/html": [
       "\n",
       "    <div class=\"bk-root\">\n",
       "        <a href=\"http://bokeh.pydata.org\" target=\"_blank\" class=\"bk-logo bk-logo-small bk-logo-notebook\"></a>\n",
       "        <span id=\"92e89369-71c3-4eb1-a3ef-87aad5ae5abd\">Loading BokehJS ...</span>\n",
       "    </div>"
      ]
     },
     "metadata": {},
     "output_type": "display_data"
    },
    {
     "data": {
      "application/javascript": [
       "\n",
       "(function(global) {\n",
       "  function now() {\n",
       "    return new Date();\n",
       "  }\n",
       "\n",
       "  var force = \"1\";\n",
       "\n",
       "  if (typeof (window._bokeh_onload_callbacks) === \"undefined\" || force !== \"\") {\n",
       "    window._bokeh_onload_callbacks = [];\n",
       "    window._bokeh_is_loading = undefined;\n",
       "  }\n",
       "\n",
       "\n",
       "  \n",
       "  if (typeof (window._bokeh_timeout) === \"undefined\" || force !== \"\") {\n",
       "    window._bokeh_timeout = Date.now() + 5000;\n",
       "    window._bokeh_failed_load = false;\n",
       "  }\n",
       "\n",
       "  var NB_LOAD_WARNING = {'data': {'text/html':\n",
       "     \"<div style='background-color: #fdd'>\\n\"+\n",
       "     \"<p>\\n\"+\n",
       "     \"BokehJS does not appear to have successfully loaded. If loading BokehJS from CDN, this \\n\"+\n",
       "     \"may be due to a slow or bad network connection. Possible fixes:\\n\"+\n",
       "     \"</p>\\n\"+\n",
       "     \"<ul>\\n\"+\n",
       "     \"<li>re-rerun `output_notebook()` to attempt to load from CDN again, or</li>\\n\"+\n",
       "     \"<li>use INLINE resources instead, as so:</li>\\n\"+\n",
       "     \"</ul>\\n\"+\n",
       "     \"<code>\\n\"+\n",
       "     \"from bokeh.resources import INLINE\\n\"+\n",
       "     \"output_notebook(resources=INLINE)\\n\"+\n",
       "     \"</code>\\n\"+\n",
       "     \"</div>\"}};\n",
       "\n",
       "  function display_loaded() {\n",
       "    if (window.Bokeh !== undefined) {\n",
       "      Bokeh.$(\"#92e89369-71c3-4eb1-a3ef-87aad5ae5abd\").text(\"BokehJS successfully loaded.\");\n",
       "    } else if (Date.now() < window._bokeh_timeout) {\n",
       "      setTimeout(display_loaded, 100)\n",
       "    }\n",
       "  }\n",
       "\n",
       "  function run_callbacks() {\n",
       "    window._bokeh_onload_callbacks.forEach(function(callback) { callback() });\n",
       "    delete window._bokeh_onload_callbacks\n",
       "    console.info(\"Bokeh: all callbacks have finished\");\n",
       "  }\n",
       "\n",
       "  function load_libs(js_urls, callback) {\n",
       "    window._bokeh_onload_callbacks.push(callback);\n",
       "    if (window._bokeh_is_loading > 0) {\n",
       "      console.log(\"Bokeh: BokehJS is being loaded, scheduling callback at\", now());\n",
       "      return null;\n",
       "    }\n",
       "    if (js_urls == null || js_urls.length === 0) {\n",
       "      run_callbacks();\n",
       "      return null;\n",
       "    }\n",
       "    console.log(\"Bokeh: BokehJS not loaded, scheduling load and callback at\", now());\n",
       "    window._bokeh_is_loading = js_urls.length;\n",
       "    for (var i = 0; i < js_urls.length; i++) {\n",
       "      var url = js_urls[i];\n",
       "      var s = document.createElement('script');\n",
       "      s.src = url;\n",
       "      s.async = false;\n",
       "      s.onreadystatechange = s.onload = function() {\n",
       "        window._bokeh_is_loading--;\n",
       "        if (window._bokeh_is_loading === 0) {\n",
       "          console.log(\"Bokeh: all BokehJS libraries loaded\");\n",
       "          run_callbacks()\n",
       "        }\n",
       "      };\n",
       "      s.onerror = function() {\n",
       "        console.warn(\"failed to load library \" + url);\n",
       "      };\n",
       "      console.log(\"Bokeh: injecting script tag for BokehJS library: \", url);\n",
       "      document.getElementsByTagName(\"head\")[0].appendChild(s);\n",
       "    }\n",
       "  };var element = document.getElementById(\"92e89369-71c3-4eb1-a3ef-87aad5ae5abd\");\n",
       "  if (element == null) {\n",
       "    console.log(\"Bokeh: ERROR: autoload.js configured with elementid '92e89369-71c3-4eb1-a3ef-87aad5ae5abd' but no matching script tag was found. \")\n",
       "    return false;\n",
       "  }\n",
       "\n",
       "  var js_urls = ['https://cdn.pydata.org/bokeh/release/bokeh-0.12.2.min.js', 'https://cdn.pydata.org/bokeh/release/bokeh-widgets-0.12.2.min.js', 'https://cdn.pydata.org/bokeh/release/bokeh-compiler-0.12.2.min.js'];\n",
       "\n",
       "  var inline_js = [\n",
       "    function(Bokeh) {\n",
       "      Bokeh.set_log_level(\"info\");\n",
       "    },\n",
       "    \n",
       "    function(Bokeh) {\n",
       "      \n",
       "      Bokeh.$(\"#92e89369-71c3-4eb1-a3ef-87aad5ae5abd\").text(\"BokehJS is loading...\");\n",
       "    },\n",
       "    function(Bokeh) {\n",
       "      console.log(\"Bokeh: injecting CSS: https://cdn.pydata.org/bokeh/release/bokeh-0.12.2.min.css\");\n",
       "      Bokeh.embed.inject_css(\"https://cdn.pydata.org/bokeh/release/bokeh-0.12.2.min.css\");\n",
       "      console.log(\"Bokeh: injecting CSS: https://cdn.pydata.org/bokeh/release/bokeh-widgets-0.12.2.min.css\");\n",
       "      Bokeh.embed.inject_css(\"https://cdn.pydata.org/bokeh/release/bokeh-widgets-0.12.2.min.css\");\n",
       "    }\n",
       "  ];\n",
       "\n",
       "  function run_inline_js() {\n",
       "    \n",
       "    if ((window.Bokeh !== undefined) || (force === \"1\")) {\n",
       "      for (var i = 0; i < inline_js.length; i++) {\n",
       "        inline_js[i](window.Bokeh);\n",
       "      }if (force === \"1\") {\n",
       "        display_loaded();\n",
       "      }} else if (Date.now() < window._bokeh_timeout) {\n",
       "      setTimeout(run_inline_js, 100);\n",
       "    } else if (!window._bokeh_failed_load) {\n",
       "      console.log(\"Bokeh: BokehJS failed to load within specified timeout.\");\n",
       "      window._bokeh_failed_load = true;\n",
       "    } else if (!force) {\n",
       "      var cell = $(\"#92e89369-71c3-4eb1-a3ef-87aad5ae5abd\").parents('.cell').data().cell;\n",
       "      cell.output_area.append_execute_result(NB_LOAD_WARNING)\n",
       "    }\n",
       "\n",
       "  }\n",
       "\n",
       "  if (window._bokeh_is_loading === 0) {\n",
       "    console.log(\"Bokeh: BokehJS loaded, going straight to plotting\");\n",
       "    run_inline_js();\n",
       "  } else {\n",
       "    load_libs(js_urls, function() {\n",
       "      console.log(\"Bokeh: BokehJS plotting callback run at\", now());\n",
       "      run_inline_js();\n",
       "    });\n",
       "  }\n",
       "}(this));"
      ]
     },
     "metadata": {},
     "output_type": "display_data"
    }
   ],
   "source": [
    "import numpy as np\n",
    "import pandas\n",
    "from numpy import *\n",
    "import time\n",
    "import sys\n",
    "import pandas as pd\n",
    "import matplotlib.pyplot as plt\n",
    "from sklearn import feature_selection\n",
    " \n",
    "from sklearn.learning_curve import learning_curve, validation_curve\n",
    "from sklearn.cross_validation import cross_val_predict\n",
    "from sklearn import metrics, grid_search, cross_validation\n",
    "from IPython.display import set_matplotlib_formats\n",
    "from bokeh.plotting import figure, show, output_notebook\n",
    "from sklearn.grid_search import GridSearchCV, RandomizedSearchCV\n",
    "from sklearn.metrics import r2_score\n",
    "from bokeh.layouts import gridplot\n",
    "output_notebook()\n",
    "set_matplotlib_formats('png', 'pdf')\n",
    "%matplotlib inline\n",
    "plt.rcParams['figure.figsize'] = (6, 6)"
   ]
  },
  {
   "cell_type": "markdown",
   "metadata": {},
   "source": [
    "Deep Learning Library"
   ]
  },
  {
   "cell_type": "code",
   "execution_count": 2,
   "metadata": {
    "collapsed": false
   },
   "outputs": [
    {
     "name": "stderr",
     "output_type": "stream",
     "text": [
      "Using Theano backend.\n",
      "Using gpu device 0: GeForce GTX TITAN X (CNMeM is disabled, cuDNN 5005)\n"
     ]
    }
   ],
   "source": [
    "import numpy\n",
    "from keras.models import Sequential\n",
    "from keras.layers import Dense\n",
    "from keras.wrappers.scikit_learn import KerasRegressor\n",
    "from sklearn.cross_validation import cross_val_score\n",
    "from sklearn.cross_validation import KFold\n",
    "from sklearn.preprocessing import StandardScaler\n",
    "from sklearn.pipeline import Pipeline"
   ]
  },
  {
   "cell_type": "markdown",
   "metadata": {},
   "source": [
    "# Create the model"
   ]
  },
  {
   "cell_type": "code",
   "execution_count": 3,
   "metadata": {
    "collapsed": true
   },
   "outputs": [],
   "source": [
    "# define base mode\n",
    "def baseline_model():\n",
    "\t# create model\n",
    "\tmodel = Sequential()\n",
    "\tmodel.add(Dense(30, input_dim=5, init='normal', activation='relu'))\n",
    "\tmodel.add(Dense(1, init='normal'))\n",
    "\t# Compile model\n",
    "\tmodel.compile(loss='mean_squared_error', optimizer='adam')\n",
    "\treturn model"
   ]
  },
  {
   "cell_type": "markdown",
   "metadata": {},
   "source": [
    "# Load data"
   ]
  },
  {
   "cell_type": "markdown",
   "metadata": {},
   "source": [
    "In the previous file we have not change the data as there is no missing value or add any new parameters so it can be downloaded from the web directly. "
   ]
  },
  {
   "cell_type": "code",
   "execution_count": 4,
   "metadata": {
    "collapsed": false
   },
   "outputs": [
    {
     "name": "stdout",
     "output_type": "stream",
     "text": [
      "Number of examples 1503\n"
     ]
    }
   ],
   "source": [
    "url = 'http://archive.ics.uci.edu/ml/machine-learning-databases/00291/airfoil_self_noise.dat'\n",
    "names = ['Frequency', 'Angle', 'Chord', 'Free_stream', 'Suction', 'pressure']\n",
    "feature_names = names\n",
    "feature_cols = names\n",
    "data = pd.read_csv(url, sep='\\s+', names = names)\n",
    "\n",
    "from sklearn import preprocessing\n",
    "dataset = data.values\n",
    "X = dataset[:,0:5].astype(float)\n",
    "Y = dataset[:,5]\n",
    "print 'Number of examples',len(X)"
   ]
  },
  {
   "cell_type": "code",
   "execution_count": 5,
   "metadata": {
    "collapsed": false
   },
   "outputs": [
    {
     "name": "stdout",
     "output_type": "stream",
     "text": [
      "Number of training examples 1202\n",
      "Number of validation examples 301\n"
     ]
    }
   ],
   "source": [
    "# Make developement dataset for genrilization and final testing\n",
    "from sklearn.cross_validation import train_test_split\n",
    "# Extracting 20% testing data\n",
    "X_train, X_test, y_train, y_test = train_test_split(\n",
    "    X, Y, test_size=0.20, random_state=0)\n",
    "X = X_train\n",
    "Y = y_train\n",
    "new_data      = X_train\n",
    "new_test_data = X_test\n",
    "print 'Number of training examples',len(X_train)\n",
    "print 'Number of validation examples',len(X_test)"
   ]
  },
  {
   "cell_type": "markdown",
   "metadata": {},
   "source": [
    "# deep learning model"
   ]
  },
  {
   "cell_type": "code",
   "execution_count": 6,
   "metadata": {
    "collapsed": true
   },
   "outputs": [],
   "source": [
    "# fix random seed for reproducibility\n",
    "seed = 7\n",
    "numpy.random.seed(seed)\n",
    "# evaluate model with standardized dataset\n",
    "model = KerasRegressor(build_fn=baseline_model, nb_epoch=100, batch_size=5, verbose=0)\n"
   ]
  },
  {
   "cell_type": "code",
   "execution_count": 7,
   "metadata": {
    "collapsed": false
   },
   "outputs": [
    {
     "name": "stdout",
     "output_type": "stream",
     "text": [
      "Results: 576.23 (248.96) MSE\n"
     ]
    }
   ],
   "source": [
    "kfold = KFold(n=len(X), n_folds=10, random_state=seed)\n",
    "results = cross_val_score(model, X, Y, cv=kfold)\n",
    "print(\"Results: %.2f (%.2f) MSE\" % (results.mean(), results.std()))"
   ]
  },
  {
   "cell_type": "code",
   "execution_count": 8,
   "metadata": {
    "collapsed": false
   },
   "outputs": [
    {
     "name": "stdout",
     "output_type": "stream",
     "text": [
      "R-squared =  -9.84198876525\n"
     ]
    }
   ],
   "source": [
    "predicted = cross_val_predict(model, X, Y, cv=kfold)\n",
    "r_squared = r2_score(Y, predicted, multioutput='variance_weighted')\n",
    "print 'R-squared = ',r_squared"
   ]
  },
  {
   "cell_type": "markdown",
   "metadata": {},
   "source": [
    "# Ranking of the feature's importance to the target"
   ]
  },
  {
   "cell_type": "code",
   "execution_count": 9,
   "metadata": {
    "collapsed": false
   },
   "outputs": [
    {
     "name": "stdout",
     "output_type": "stream",
     "text": [
      "Feature Name      Score         Pvalue\n",
      "Frequency \t\t270.416272463 \t5.36177705642e-56\n",
      "Angle \t\t37.4923835551 \t1.16954827306e-09\n",
      "Chord \t\t88.6588675485 \t1.70142015337e-20\n",
      "Free_stream \t\t23.8652245755 \t1.1437427443e-06\n",
      "Suction \t\t162.641263457 \t1.92478295603e-35\n",
      "pressure \t\tinf \t0.0\n"
     ]
    }
   ],
   "source": [
    "# Randing the important features to the target\n",
    "model = feature_selection.SelectKBest(score_func=feature_selection.f_regression,k=4)\n",
    "results = model.fit(data[feature_cols], data['pressure'])\n",
    "k=0\n",
    "print 'Feature Name      Score         Pvalue'\n",
    "for feat in feature_cols:\n",
    "    print feat,'\\t\\t',results.scores_[k],'\\t',results.pvalues_[k]\n",
    "    k=k+1\n"
   ]
  },
  {
   "cell_type": "markdown",
   "metadata": {},
   "source": [
    "# Set the parameters for cross validation"
   ]
  },
  {
   "cell_type": "code",
   "execution_count": 10,
   "metadata": {
    "collapsed": true
   },
   "outputs": [],
   "source": [
    "num_folds = 10\n",
    "num_instances = len(X)\n",
    "seed = 7\n",
    "kfold = cross_validation.KFold(n=num_instances, n_folds=num_folds, random_state=seed)"
   ]
  },
  {
   "cell_type": "markdown",
   "metadata": {},
   "source": [
    " # Set the parameters for bias-variance dilemma"
   ]
  },
  {
   "cell_type": "code",
   "execution_count": 11,
   "metadata": {
    "collapsed": false
   },
   "outputs": [],
   "source": [
    "def plot_learning_curve(estimator, title, X, y, ylim=None, cv=None,\n",
    "                        n_jobs=1, train_sizes=np.linspace(.1, 1.0, 5)):\n",
    "    plt.figure()\n",
    "    plt.title(title)\n",
    "    if ylim is not None:\n",
    "        plt.ylim(*ylim)\n",
    "    plt.xlabel(\"Training examples\")\n",
    "    plt.ylabel(\"Score\")\n",
    "    train_sizes, train_scores, test_scores = learning_curve(\n",
    "        estimator, X, y, cv=cv, n_jobs=n_jobs, train_sizes=train_sizes)\n",
    "    train_scores_mean = np.mean(train_scores, axis=1)\n",
    "    train_scores_std = np.std(train_scores, axis=1)\n",
    "    test_scores_mean = np.mean(test_scores, axis=1)\n",
    "    test_scores_std = np.std(test_scores, axis=1)\n",
    "    plt.grid()\n",
    "\n",
    "    plt.fill_between(train_sizes, train_scores_mean - train_scores_std,\n",
    "                     train_scores_mean + train_scores_std, alpha=0.1,\n",
    "                     color=\"r\")\n",
    "    plt.fill_between(train_sizes, test_scores_mean - test_scores_std,\n",
    "                     test_scores_mean + test_scores_std, alpha=0.1, color=\"g\")\n",
    "    plt.plot(train_sizes, train_scores_mean, 'o-', color=\"r\",\n",
    "             label=\"Training score\")\n",
    "    plt.plot(train_sizes, test_scores_mean, 'o-', color=\"g\",\n",
    "             label=\"Cross-validation score\")\n",
    "\n",
    "    plt.legend(loc=\"best\")\n",
    "    return plt"
   ]
  },
  {
   "cell_type": "markdown",
   "metadata": {},
   "source": [
    "# Preprocessing the data and save both the model and preprocessed data"
   ]
  },
  {
   "cell_type": "code",
   "execution_count": 12,
   "metadata": {
    "collapsed": true
   },
   "outputs": [],
   "source": [
    "# According to the nature of the data spasity and there is outliter RobustScaler class is recomandit \n",
    "# but when I tried both of them the result seems is same\n",
    "from sklearn.preprocessing import StandardScaler\n",
    "scaler = preprocessing.StandardScaler().fit(X_train)"
   ]
  },
  {
   "cell_type": "code",
   "execution_count": 13,
   "metadata": {
    "collapsed": true
   },
   "outputs": [],
   "source": [
    "X_train = scaler.transform(X_train)\n",
    "X_test = scaler.transform(X_test) # use same transform for testing data\n",
    "X = X_train"
   ]
  },
  {
   "cell_type": "code",
   "execution_count": 14,
   "metadata": {
    "collapsed": true
   },
   "outputs": [],
   "source": [
    "# save transformed data\n",
    "np.save('./data/X_train', X_train)\n",
    "np.save('./data/y_train', y_train)\n",
    "np.save('./data/X_test', X_test)\n",
    "np.save('./data/y_test', y_test)"
   ]
  },
  {
   "cell_type": "code",
   "execution_count": 15,
   "metadata": {
    "collapsed": false
   },
   "outputs": [
    {
     "data": {
      "text/plain": [
       "['scaler.pkl', 'scaler.pkl_01.npy', 'scaler.pkl_02.npy', 'scaler.pkl_03.npy']"
      ]
     },
     "execution_count": 15,
     "metadata": {},
     "output_type": "execute_result"
    }
   ],
   "source": [
    "# save the model scaler to the desk\n",
    "from sklearn.externals import joblib\n",
    "joblib.dump(scaler, 'scaler.pkl') "
   ]
  },
  {
   "cell_type": "code",
   "execution_count": 16,
   "metadata": {
    "collapsed": false
   },
   "outputs": [
    {
     "name": "stdout",
     "output_type": "stream",
     "text": [
      " =================================================================>>>>> done\n",
      "[[ 2.29083349 -1.15043085 -1.17128043  1.28444798 -0.82148429]\n",
      " [ 1.09730905 -1.15043085  1.81266366  1.28444798 -0.65012723]\n",
      " [-0.12847281  0.9056672  -0.35747749 -1.24501741  2.31947901]\n",
      " ..., \n",
      " [-0.41878957 -1.15043085  0.18505779 -0.74040184 -0.70544919]\n",
      " [-0.61233407 -0.2644699   0.99886072 -0.74040184 -0.3865872 ]\n",
      " [ 2.29083349 -0.69909225  0.18505779 -0.74040184 -0.62856871]]\n"
     ]
    }
   ],
   "source": [
    "# Test the model if it is work\n",
    "scalerTest = joblib.load('scaler.pkl')\n",
    "new_data_scaled = scalerTest.transform(new_test_data)\n",
    "print \" =================================================================>>>>> done\"\n",
    "print new_data_scaled"
   ]
  },
  {
   "cell_type": "markdown",
   "metadata": {},
   "source": [
    "# 1. model  with   Regression"
   ]
  },
  {
   "cell_type": "markdown",
   "metadata": {},
   "source": [
    "Deep learning or the Classification and Regression Trees (CART as they are know) use the training data to select the best points to split the data in order to minimize a cost metric. The default cost metric for regression Deep learning is the mean squared error, specified in the criterion parameter."
   ]
  },
  {
   "cell_type": "code",
   "execution_count": 45,
   "metadata": {
    "collapsed": false
   },
   "outputs": [
    {
     "name": "stdout",
     "output_type": "stream",
     "text": [
      "Epoch 1/200\n",
      "1202/1202 [==============================] - 0s - loss: 15258.4329     \n",
      "Epoch 2/200\n",
      "1202/1202 [==============================] - 0s - loss: 12822.5746     \n",
      "Epoch 3/200\n",
      "1202/1202 [==============================] - 0s - loss: 8615.2578     \n",
      "Epoch 4/200\n",
      "1202/1202 [==============================] - 0s - loss: 4563.4174     \n",
      "Epoch 5/200\n",
      "1202/1202 [==============================] - 0s - loss: 1917.3180     \n",
      "Epoch 6/200\n",
      "1202/1202 [==============================] - 0s - loss: 748.4910     \n",
      "Epoch 7/200\n",
      "1202/1202 [==============================] - 0s - loss: 397.2114     \n",
      "Epoch 8/200\n",
      "1202/1202 [==============================] - 0s - loss: 303.7847     \n",
      "Epoch 9/200\n",
      "1202/1202 [==============================] - 0s - loss: 263.6777     \n",
      "Epoch 10/200\n",
      "1202/1202 [==============================] - 0s - loss: 230.9796     \n",
      "Epoch 11/200\n",
      "1202/1202 [==============================] - 0s - loss: 200.3553     \n",
      "Epoch 12/200\n",
      "1202/1202 [==============================] - 0s - loss: 171.6100     \n",
      "Epoch 13/200\n",
      "1202/1202 [==============================] - 0s - loss: 145.1494     \n",
      "Epoch 14/200\n",
      "1202/1202 [==============================] - 0s - loss: 120.6094     \n",
      "Epoch 15/200\n",
      "1202/1202 [==============================] - 0s - loss: 99.2013     \n",
      "Epoch 16/200\n",
      "1202/1202 [==============================] - 0s - loss: 81.4189     \n",
      "Epoch 17/200\n",
      "1202/1202 [==============================] - 0s - loss: 67.6177     \n",
      "Epoch 18/200\n",
      "1202/1202 [==============================] - 0s - loss: 57.3099     \n",
      "Epoch 19/200\n",
      "1202/1202 [==============================] - 0s - loss: 49.5850     \n",
      "Epoch 20/200\n",
      "1202/1202 [==============================] - 0s - loss: 43.8433     \n",
      "Epoch 21/200\n",
      "1202/1202 [==============================] - 0s - loss: 39.4887     \n",
      "Epoch 22/200\n",
      "1202/1202 [==============================] - 0s - loss: 36.1601     \n",
      "Epoch 23/200\n",
      "1202/1202 [==============================] - 0s - loss: 33.3576     \n",
      "Epoch 24/200\n",
      "1202/1202 [==============================] - 0s - loss: 30.7382     \n",
      "Epoch 25/200\n",
      "1202/1202 [==============================] - 0s - loss: 28.2449     \n",
      "Epoch 26/200\n",
      "1202/1202 [==============================] - 0s - loss: 26.3967     \n",
      "Epoch 27/200\n",
      "1202/1202 [==============================] - 0s - loss: 24.9860     \n",
      "Epoch 28/200\n",
      "1202/1202 [==============================] - 0s - loss: 23.5968     \n",
      "Epoch 29/200\n",
      "1202/1202 [==============================] - 0s - loss: 22.5365     \n",
      "Epoch 30/200\n",
      "1202/1202 [==============================] - 0s - loss: 22.0657     \n",
      "Epoch 31/200\n",
      "1202/1202 [==============================] - 0s - loss: 21.3877     \n",
      "Epoch 32/200\n",
      "1202/1202 [==============================] - 0s - loss: 21.4097     \n",
      "Epoch 33/200\n",
      "1202/1202 [==============================] - 0s - loss: 21.0464     \n",
      "Epoch 34/200\n",
      "1202/1202 [==============================] - 0s - loss: 20.9077     \n",
      "Epoch 35/200\n",
      "1202/1202 [==============================] - 0s - loss: 20.8780     \n",
      "Epoch 36/200\n",
      "1202/1202 [==============================] - 0s - loss: 20.8543     \n",
      "Epoch 37/200\n",
      "1202/1202 [==============================] - 0s - loss: 20.4877     \n",
      "Epoch 38/200\n",
      "1202/1202 [==============================] - 0s - loss: 20.6832     \n",
      "Epoch 39/200\n",
      "1202/1202 [==============================] - 0s - loss: 20.4042     \n",
      "Epoch 40/200\n",
      "1202/1202 [==============================] - 0s - loss: 20.2916     \n",
      "Epoch 41/200\n",
      "1202/1202 [==============================] - 0s - loss: 20.2029     \n",
      "Epoch 42/200\n",
      "1202/1202 [==============================] - 0s - loss: 20.4120     \n",
      "Epoch 43/200\n",
      "1202/1202 [==============================] - 0s - loss: 20.0720     \n",
      "Epoch 44/200\n",
      "1202/1202 [==============================] - 0s - loss: 20.0039     \n",
      "Epoch 45/200\n",
      "1202/1202 [==============================] - 0s - loss: 19.6478     \n",
      "Epoch 46/200\n",
      "1202/1202 [==============================] - 0s - loss: 19.9764     \n",
      "Epoch 47/200\n",
      "1202/1202 [==============================] - 0s - loss: 19.7020     \n",
      "Epoch 48/200\n",
      "1202/1202 [==============================] - 0s - loss: 19.7200     \n",
      "Epoch 49/200\n",
      "1202/1202 [==============================] - 0s - loss: 19.7648     \n",
      "Epoch 50/200\n",
      "1202/1202 [==============================] - 0s - loss: 19.6112     \n",
      "Epoch 51/200\n",
      "1202/1202 [==============================] - 0s - loss: 19.7096     \n",
      "Epoch 52/200\n",
      "1202/1202 [==============================] - 0s - loss: 19.6563     \n",
      "Epoch 53/200\n",
      "1202/1202 [==============================] - 0s - loss: 19.5095     \n",
      "Epoch 54/200\n",
      "1202/1202 [==============================] - 0s - loss: 19.5033     \n",
      "Epoch 55/200\n",
      "1202/1202 [==============================] - 0s - loss: 19.3720     \n",
      "Epoch 56/200\n",
      "1202/1202 [==============================] - 0s - loss: 19.7603     \n",
      "Epoch 57/200\n",
      "1202/1202 [==============================] - 0s - loss: 19.4514     \n",
      "Epoch 58/200\n",
      "1202/1202 [==============================] - 0s - loss: 19.3685     \n",
      "Epoch 59/200\n",
      "1202/1202 [==============================] - 0s - loss: 19.3289     \n",
      "Epoch 60/200\n",
      "1202/1202 [==============================] - 0s - loss: 19.3475     \n",
      "Epoch 61/200\n",
      "1202/1202 [==============================] - 0s - loss: 19.3876     \n",
      "Epoch 62/200\n",
      "1202/1202 [==============================] - 0s - loss: 19.4149     \n",
      "Epoch 63/200\n",
      "1202/1202 [==============================] - 0s - loss: 19.2246     \n",
      "Epoch 64/200\n",
      "1202/1202 [==============================] - 0s - loss: 19.0277     \n",
      "Epoch 65/200\n",
      "1202/1202 [==============================] - 0s - loss: 18.9730     \n",
      "Epoch 66/200\n",
      "1202/1202 [==============================] - 0s - loss: 18.9665     \n",
      "Epoch 67/200\n",
      "1202/1202 [==============================] - 0s - loss: 19.1687     \n",
      "Epoch 68/200\n",
      "1202/1202 [==============================] - 0s - loss: 19.0501     \n",
      "Epoch 69/200\n",
      "1202/1202 [==============================] - 0s - loss: 18.9632     \n",
      "Epoch 70/200\n",
      "1202/1202 [==============================] - 0s - loss: 19.1595     \n",
      "Epoch 71/200\n",
      "1202/1202 [==============================] - 0s - loss: 19.0293     \n",
      "Epoch 72/200\n",
      "1202/1202 [==============================] - 0s - loss: 18.9361     \n",
      "Epoch 73/200\n",
      "1202/1202 [==============================] - 0s - loss: 19.0159     \n",
      "Epoch 74/200\n",
      "1202/1202 [==============================] - 0s - loss: 19.0752     \n",
      "Epoch 75/200\n",
      "1202/1202 [==============================] - 0s - loss: 19.0736     \n",
      "Epoch 76/200\n",
      "1202/1202 [==============================] - 0s - loss: 19.0441     \n",
      "Epoch 77/200\n",
      "1202/1202 [==============================] - 0s - loss: 19.1299     \n",
      "Epoch 78/200\n",
      "1202/1202 [==============================] - 0s - loss: 18.9216     \n",
      "Epoch 79/200\n",
      "1202/1202 [==============================] - 0s - loss: 19.0282     \n",
      "Epoch 80/200\n",
      "1202/1202 [==============================] - 0s - loss: 18.8649     \n",
      "Epoch 81/200\n",
      "1202/1202 [==============================] - 0s - loss: 18.8764     \n",
      "Epoch 82/200\n",
      "1202/1202 [==============================] - 0s - loss: 18.8402     \n",
      "Epoch 83/200\n",
      "1202/1202 [==============================] - 0s - loss: 18.9607     \n",
      "Epoch 84/200\n",
      "1202/1202 [==============================] - 0s - loss: 18.8545     \n",
      "Epoch 85/200\n",
      "1202/1202 [==============================] - 0s - loss: 18.9478     \n",
      "Epoch 86/200\n",
      "1202/1202 [==============================] - 0s - loss: 18.9884     \n",
      "Epoch 87/200\n",
      "1202/1202 [==============================] - 0s - loss: 18.7955     \n",
      "Epoch 88/200\n",
      "1202/1202 [==============================] - 0s - loss: 18.9237     \n",
      "Epoch 89/200\n",
      "1202/1202 [==============================] - 0s - loss: 18.8436     \n",
      "Epoch 90/200\n",
      "1202/1202 [==============================] - 0s - loss: 18.9079     \n",
      "Epoch 91/200\n",
      "1202/1202 [==============================] - 0s - loss: 18.9346     \n",
      "Epoch 92/200\n",
      "1202/1202 [==============================] - 0s - loss: 18.8434     \n",
      "Epoch 93/200\n",
      "1202/1202 [==============================] - 0s - loss: 18.8161     \n",
      "Epoch 94/200\n",
      "1202/1202 [==============================] - 0s - loss: 18.7732     \n",
      "Epoch 95/200\n",
      "1202/1202 [==============================] - 0s - loss: 18.7013     \n",
      "Epoch 96/200\n",
      "1202/1202 [==============================] - 0s - loss: 18.8464     \n",
      "Epoch 97/200\n",
      "1202/1202 [==============================] - 0s - loss: 18.6273     \n",
      "Epoch 98/200\n",
      "1202/1202 [==============================] - 0s - loss: 18.6548     \n",
      "Epoch 99/200\n",
      "1202/1202 [==============================] - 0s - loss: 18.6483     \n",
      "Epoch 100/200\n",
      "1202/1202 [==============================] - 0s - loss: 18.8270     \n",
      "Epoch 101/200\n",
      "1202/1202 [==============================] - 0s - loss: 18.7227     \n",
      "Epoch 102/200\n",
      "1202/1202 [==============================] - 0s - loss: 18.6889     \n",
      "Epoch 103/200\n",
      "1202/1202 [==============================] - 0s - loss: 18.6021     \n",
      "Epoch 104/200\n",
      "1202/1202 [==============================] - 0s - loss: 18.6849     \n",
      "Epoch 105/200\n",
      "1202/1202 [==============================] - 0s - loss: 18.6778     \n",
      "Epoch 106/200\n",
      "1202/1202 [==============================] - 0s - loss: 18.7904     \n",
      "Epoch 107/200\n",
      "1202/1202 [==============================] - 0s - loss: 18.7019     \n",
      "Epoch 108/200\n",
      "1202/1202 [==============================] - 0s - loss: 18.6219     \n",
      "Epoch 109/200\n",
      "1202/1202 [==============================] - 0s - loss: 18.7272     \n",
      "Epoch 110/200\n",
      "1202/1202 [==============================] - 0s - loss: 18.5138     \n",
      "Epoch 111/200\n",
      "1202/1202 [==============================] - 0s - loss: 18.7120     \n",
      "Epoch 112/200\n",
      "1202/1202 [==============================] - 0s - loss: 18.7379     \n",
      "Epoch 113/200\n",
      "1202/1202 [==============================] - 0s - loss: 18.7181     \n",
      "Epoch 114/200\n",
      "1202/1202 [==============================] - 0s - loss: 18.6911     \n",
      "Epoch 115/200\n",
      "1202/1202 [==============================] - 0s - loss: 18.5300     \n",
      "Epoch 116/200\n",
      "1202/1202 [==============================] - 0s - loss: 18.6159     \n",
      "Epoch 117/200\n",
      "1202/1202 [==============================] - 0s - loss: 18.6082     \n",
      "Epoch 118/200\n",
      "1202/1202 [==============================] - 0s - loss: 18.6648     \n",
      "Epoch 119/200\n",
      "1202/1202 [==============================] - 0s - loss: 18.7090     \n",
      "Epoch 120/200\n",
      "1202/1202 [==============================] - 0s - loss: 18.5620     \n",
      "Epoch 121/200\n",
      "1202/1202 [==============================] - 0s - loss: 18.5863     \n",
      "Epoch 122/200\n",
      "1202/1202 [==============================] - 0s - loss: 18.5725     \n",
      "Epoch 123/200\n",
      "1202/1202 [==============================] - 0s - loss: 18.5856     \n",
      "Epoch 124/200\n",
      "1202/1202 [==============================] - 0s - loss: 18.6497     \n",
      "Epoch 125/200\n",
      "1202/1202 [==============================] - 0s - loss: 18.5468     \n",
      "Epoch 126/200\n",
      "1202/1202 [==============================] - 0s - loss: 18.8662     \n",
      "Epoch 127/200\n",
      "1202/1202 [==============================] - 0s - loss: 18.7145     \n",
      "Epoch 128/200\n",
      "1202/1202 [==============================] - 0s - loss: 18.7287     \n",
      "Epoch 129/200\n",
      "1202/1202 [==============================] - 0s - loss: 18.6602     \n",
      "Epoch 130/200\n",
      "1202/1202 [==============================] - 0s - loss: 18.7786     \n",
      "Epoch 131/200\n",
      "1202/1202 [==============================] - 0s - loss: 18.4638     \n",
      "Epoch 132/200\n",
      "1202/1202 [==============================] - 0s - loss: 18.6887     \n",
      "Epoch 133/200\n",
      "1202/1202 [==============================] - 0s - loss: 18.5702     \n",
      "Epoch 134/200\n",
      "1202/1202 [==============================] - 0s - loss: 18.6514     \n",
      "Epoch 135/200\n",
      "1202/1202 [==============================] - 0s - loss: 18.5074     \n",
      "Epoch 136/200\n",
      "1202/1202 [==============================] - 0s - loss: 18.4358     \n",
      "Epoch 137/200\n",
      "1202/1202 [==============================] - 0s - loss: 18.6191     \n",
      "Epoch 138/200\n",
      "1202/1202 [==============================] - 0s - loss: 18.4526     \n",
      "Epoch 139/200\n",
      "1202/1202 [==============================] - 0s - loss: 18.5840     \n",
      "Epoch 140/200\n",
      "1202/1202 [==============================] - 0s - loss: 18.5516     \n",
      "Epoch 141/200\n",
      "1202/1202 [==============================] - 0s - loss: 18.5389     \n",
      "Epoch 142/200\n",
      "1202/1202 [==============================] - 0s - loss: 18.6118     \n",
      "Epoch 143/200\n",
      "1202/1202 [==============================] - 0s - loss: 18.5021     \n",
      "Epoch 144/200\n",
      "1202/1202 [==============================] - 0s - loss: 18.4809     \n",
      "Epoch 145/200\n",
      "1202/1202 [==============================] - 0s - loss: 18.5086     \n",
      "Epoch 146/200\n",
      "1202/1202 [==============================] - 0s - loss: 18.5665     \n",
      "Epoch 147/200\n",
      "1202/1202 [==============================] - 0s - loss: 18.5253     \n",
      "Epoch 148/200\n",
      "1202/1202 [==============================] - 0s - loss: 18.4018     \n",
      "Epoch 149/200\n",
      "1202/1202 [==============================] - 0s - loss: 18.4034     \n",
      "Epoch 150/200\n",
      "1202/1202 [==============================] - 0s - loss: 18.5953     \n",
      "Epoch 151/200\n",
      "1202/1202 [==============================] - 0s - loss: 18.4801     \n",
      "Epoch 152/200\n",
      "1202/1202 [==============================] - 0s - loss: 18.4967     \n",
      "Epoch 153/200\n",
      "1202/1202 [==============================] - 0s - loss: 18.4048     \n",
      "Epoch 154/200\n",
      "1202/1202 [==============================] - 0s - loss: 18.4875     \n",
      "Epoch 155/200\n",
      "1202/1202 [==============================] - 0s - loss: 18.6193     \n",
      "Epoch 156/200\n",
      "1202/1202 [==============================] - 0s - loss: 18.4339     \n",
      "Epoch 157/200\n",
      "1202/1202 [==============================] - 0s - loss: 18.5486     \n",
      "Epoch 158/200\n",
      "1202/1202 [==============================] - 0s - loss: 18.5050     \n",
      "Epoch 159/200\n",
      "1202/1202 [==============================] - 0s - loss: 18.3299     \n",
      "Epoch 160/200\n",
      "1202/1202 [==============================] - 0s - loss: 18.3723     \n",
      "Epoch 161/200\n",
      "1202/1202 [==============================] - 0s - loss: 18.4821     \n",
      "Epoch 162/200\n",
      "1202/1202 [==============================] - 0s - loss: 18.5391     \n",
      "Epoch 163/200\n",
      "1202/1202 [==============================] - 0s - loss: 18.3675     \n",
      "Epoch 164/200\n",
      "1202/1202 [==============================] - 0s - loss: 18.3780     \n",
      "Epoch 165/200\n",
      "1202/1202 [==============================] - 0s - loss: 18.6233     \n",
      "Epoch 166/200\n",
      "1202/1202 [==============================] - 0s - loss: 18.3317     \n",
      "Epoch 167/200\n",
      "1202/1202 [==============================] - 0s - loss: 18.7237     \n",
      "Epoch 168/200\n",
      "1202/1202 [==============================] - 0s - loss: 18.4010     \n",
      "Epoch 169/200\n",
      "1202/1202 [==============================] - 0s - loss: 18.4365     \n",
      "Epoch 170/200\n",
      "1202/1202 [==============================] - 0s - loss: 18.4036     \n",
      "Epoch 171/200\n",
      "1202/1202 [==============================] - 0s - loss: 18.4141     \n",
      "Epoch 172/200\n",
      "1202/1202 [==============================] - 0s - loss: 18.3689     \n",
      "Epoch 173/200\n",
      "1202/1202 [==============================] - 0s - loss: 18.4942     \n",
      "Epoch 174/200\n",
      "1202/1202 [==============================] - 0s - loss: 18.3903     \n",
      "Epoch 175/200\n",
      "1202/1202 [==============================] - 0s - loss: 18.4025     \n",
      "Epoch 176/200\n",
      "1202/1202 [==============================] - 0s - loss: 18.4237     \n",
      "Epoch 177/200\n",
      "1202/1202 [==============================] - 0s - loss: 18.3881     \n",
      "Epoch 178/200\n",
      "1202/1202 [==============================] - 0s - loss: 18.3704     \n",
      "Epoch 179/200\n",
      "1202/1202 [==============================] - 0s - loss: 18.4386     \n",
      "Epoch 180/200\n",
      "1202/1202 [==============================] - 0s - loss: 18.2205     \n",
      "Epoch 181/200\n",
      "1202/1202 [==============================] - 0s - loss: 18.3448     \n",
      "Epoch 182/200\n",
      "1202/1202 [==============================] - 0s - loss: 18.2229     \n",
      "Epoch 183/200\n",
      "1202/1202 [==============================] - 0s - loss: 18.4123     \n",
      "Epoch 184/200\n",
      "1202/1202 [==============================] - 0s - loss: 18.3697     \n",
      "Epoch 185/200\n",
      "1202/1202 [==============================] - 0s - loss: 18.3032     \n",
      "Epoch 186/200\n",
      "1202/1202 [==============================] - 0s - loss: 18.3997     \n",
      "Epoch 187/200\n",
      "1202/1202 [==============================] - 0s - loss: 18.1826     \n",
      "Epoch 188/200\n",
      "1202/1202 [==============================] - 0s - loss: 18.4352     \n",
      "Epoch 189/200\n",
      "1202/1202 [==============================] - 0s - loss: 18.4647     \n",
      "Epoch 190/200\n",
      "1202/1202 [==============================] - 0s - loss: 18.3590     \n",
      "Epoch 191/200\n",
      "1202/1202 [==============================] - 0s - loss: 18.4423     \n",
      "Epoch 192/200\n",
      "1202/1202 [==============================] - 0s - loss: 18.2401     \n",
      "Epoch 193/200\n",
      "1202/1202 [==============================] - 0s - loss: 18.5134     \n",
      "Epoch 194/200\n",
      "1202/1202 [==============================] - 0s - loss: 18.2576     \n",
      "Epoch 195/200\n",
      "1202/1202 [==============================] - 0s - loss: 18.3475     \n",
      "Epoch 196/200\n",
      "1202/1202 [==============================] - 0s - loss: 18.3682     \n",
      "Epoch 197/200\n",
      "1202/1202 [==============================] - 0s - loss: 18.1798     \n",
      "Epoch 198/200\n",
      "1202/1202 [==============================] - 0s - loss: 18.3805     \n",
      "Epoch 199/200\n",
      "1202/1202 [==============================] - 0s - loss: 18.2896     \n",
      "Epoch 200/200\n",
      "1202/1202 [==============================] - 0s - loss: 18.2328     \n"
     ]
    },
    {
     "data": {
      "text/plain": [
       "<keras.callbacks.History at 0x7f508d89c990>"
      ]
     },
     "execution_count": 45,
     "metadata": {},
     "output_type": "execute_result"
    }
   ],
   "source": [
    "from keras.layers import Dropout\n",
    "model = Sequential()\n",
    "model.add(Dense(40, input_dim=5, init='normal', activation='relu'))\n",
    "#model.add(Dropout(0.5))\n",
    "model.add(Dense(1, init='normal'))\n",
    "\n",
    "model.compile(loss='mean_squared_error', optimizer='adam')\n",
    "# Actual modelling\n",
    "model.fit(X, Y, verbose=1, batch_size=5, nb_epoch=200)"
   ]
  },
  {
   "cell_type": "markdown",
   "metadata": {},
   "source": [
    "## Coefficients Of Determination {Calculating R^2}\n",
    "\n",
    "R^2, Close to one is better"
   ]
  },
  {
   "cell_type": "code",
   "execution_count": 46,
   "metadata": {
    "collapsed": false
   },
   "outputs": [
    {
     "name": "stdout",
     "output_type": "stream",
     "text": [
      "R-squared =  0.620672190169\n"
     ]
    }
   ],
   "source": [
    "predicted = model.predict(X)\n",
    "r_squared = r2_score(Y, predicted, multioutput='variance_weighted')\n",
    "print 'R-squared = ',r_squared"
   ]
  },
  {
   "cell_type": "code",
   "execution_count": 47,
   "metadata": {
    "collapsed": false
   },
   "outputs": [],
   "source": [
    "prediction = predicted.ravel()"
   ]
  },
  {
   "cell_type": "code",
   "execution_count": 48,
   "metadata": {
    "collapsed": false
   },
   "outputs": [
    {
     "data": {
      "text/plain": [
       "(1202, 1)"
      ]
     },
     "execution_count": 48,
     "metadata": {},
     "output_type": "execute_result"
    }
   ],
   "source": [
    "shape(predicted)"
   ]
  },
  {
   "cell_type": "code",
   "execution_count": 49,
   "metadata": {
    "collapsed": false
   },
   "outputs": [
    {
     "data": {
      "text/plain": [
       "(1202,)"
      ]
     },
     "execution_count": 49,
     "metadata": {},
     "output_type": "execute_result"
    }
   ],
   "source": [
    "shape(prediction)"
   ]
  },
  {
   "cell_type": "code",
   "execution_count": 50,
   "metadata": {
    "collapsed": false
   },
   "outputs": [
    {
     "data": {
      "text/plain": [
       "(1202,)"
      ]
     },
     "execution_count": 50,
     "metadata": {},
     "output_type": "execute_result"
    }
   ],
   "source": [
    "shape(Y)"
   ]
  },
  {
   "cell_type": "markdown",
   "metadata": {},
   "source": [
    "## Residual Plot"
   ]
  },
  {
   "cell_type": "code",
   "execution_count": 51,
   "metadata": {
    "collapsed": false
   },
   "outputs": [
    {
     "data": {
      "image/png": "[encoded data removed]",
      "text/plain": [
       "<matplotlib.figure.Figure at 0x7f508d7c9350>"
      ]
     },
     "metadata": {},
     "output_type": "display_data"
    }
   ],
   "source": [
    "fig, ax = plt.subplots()\n",
    "ax.scatter(Y, predicted)\n",
    "ax.plot([Y.min(), Y.max()], [Y.min(), Y.max()], 'k--', lw=4)\n",
    "ax.set_xlabel('Measured')\n",
    "ax.set_ylabel('Predicted')\n",
    "plt.show()"
   ]
  },
  {
   "cell_type": "code",
   "execution_count": 52,
   "metadata": {
    "collapsed": false
   },
   "outputs": [
    {
     "data": {
      "text/html": [
       "\n",
       "\n",
       "    <div class=\"bk-root\">\n",
       "        <div class=\"plotdiv\" id=\"dd31e97e-2603-4fe5-b706-7d74dda9e905\"></div>\n",
       "    </div>\n",
       "<script type=\"text/javascript\">\n",
       "  \n",
       "  (function(global) {\n",
       "    function now() {\n",
       "      return new Date();\n",
       "    }\n",
       "  \n",
       "    var force = \"\";\n",
       "  \n",
       "    if (typeof (window._bokeh_onload_callbacks) === \"undefined\" || force !== \"\") {\n",
       "      window._bokeh_onload_callbacks = [];\n",
       "      window._bokeh_is_loading = undefined;\n",
       "    }\n",
       "  \n",
       "  \n",
       "    \n",
       "    if (typeof (window._bokeh_timeout) === \"undefined\" || force !== \"\") {\n",
       "      window._bokeh_timeout = Date.now() + 0;\n",
       "      window._bokeh_failed_load = false;\n",
       "    }\n",
       "  \n",
       "    var NB_LOAD_WARNING = {'data': {'text/html':\n",
       "       \"<div style='background-color: #fdd'>\\n\"+\n",
       "       \"<p>\\n\"+\n",
       "       \"BokehJS does not appear to have successfully loaded. If loading BokehJS from CDN, this \\n\"+\n",
       "       \"may be due to a slow or bad network connection. Possible fixes:\\n\"+\n",
       "       \"</p>\\n\"+\n",
       "       \"<ul>\\n\"+\n",
       "       \"<li>re-rerun `output_notebook()` to attempt to load from CDN again, or</li>\\n\"+\n",
       "       \"<li>use INLINE resources instead, as so:</li>\\n\"+\n",
       "       \"</ul>\\n\"+\n",
       "       \"<code>\\n\"+\n",
       "       \"from bokeh.resources import INLINE\\n\"+\n",
       "       \"output_notebook(resources=INLINE)\\n\"+\n",
       "       \"</code>\\n\"+\n",
       "       \"</div>\"}};\n",
       "  \n",
       "    function display_loaded() {\n",
       "      if (window.Bokeh !== undefined) {\n",
       "        Bokeh.$(\"#dd31e97e-2603-4fe5-b706-7d74dda9e905\").text(\"BokehJS successfully loaded.\");\n",
       "      } else if (Date.now() < window._bokeh_timeout) {\n",
       "        setTimeout(display_loaded, 100)\n",
       "      }\n",
       "    }\n",
       "  \n",
       "    function run_callbacks() {\n",
       "      window._bokeh_onload_callbacks.forEach(function(callback) { callback() });\n",
       "      delete window._bokeh_onload_callbacks\n",
       "      console.info(\"Bokeh: all callbacks have finished\");\n",
       "    }\n",
       "  \n",
       "    function load_libs(js_urls, callback) {\n",
       "      window._bokeh_onload_callbacks.push(callback);\n",
       "      if (window._bokeh_is_loading > 0) {\n",
       "        console.log(\"Bokeh: BokehJS is being loaded, scheduling callback at\", now());\n",
       "        return null;\n",
       "      }\n",
       "      if (js_urls == null || js_urls.length === 0) {\n",
       "        run_callbacks();\n",
       "        return null;\n",
       "      }\n",
       "      console.log(\"Bokeh: BokehJS not loaded, scheduling load and callback at\", now());\n",
       "      window._bokeh_is_loading = js_urls.length;\n",
       "      for (var i = 0; i < js_urls.length; i++) {\n",
       "        var url = js_urls[i];\n",
       "        var s = document.createElement('script');\n",
       "        s.src = url;\n",
       "        s.async = false;\n",
       "        s.onreadystatechange = s.onload = function() {\n",
       "          window._bokeh_is_loading--;\n",
       "          if (window._bokeh_is_loading === 0) {\n",
       "            console.log(\"Bokeh: all BokehJS libraries loaded\");\n",
       "            run_callbacks()\n",
       "          }\n",
       "        };\n",
       "        s.onerror = function() {\n",
       "          console.warn(\"failed to load library \" + url);\n",
       "        };\n",
       "        console.log(\"Bokeh: injecting script tag for BokehJS library: \", url);\n",
       "        document.getElementsByTagName(\"head\")[0].appendChild(s);\n",
       "      }\n",
       "    };var element = document.getElementById(\"dd31e97e-2603-4fe5-b706-7d74dda9e905\");\n",
       "    if (element == null) {\n",
       "      console.log(\"Bokeh: ERROR: autoload.js configured with elementid 'dd31e97e-2603-4fe5-b706-7d74dda9e905' but no matching script tag was found. \")\n",
       "      return false;\n",
       "    }\n",
       "  \n",
       "    var js_urls = [];\n",
       "  \n",
       "    var inline_js = [\n",
       "      function(Bokeh) {\n",
       "        Bokeh.$(function() {\n",
       "            var docs_json = {\"7dbae40f-7dd4-4ed8-b624-1a3c5232dd28\":{\"roots\":{\"references\":[{\"attributes\":{\"data_source\":{\"id\":\"a5ae3504-e037-4cac-8c02-637ec694c9da\",\"type\":\"ColumnDataSource\"},\"glyph\":{\"id\":\"27dc5c63-4960-4eaa-97c0-68da9cb40a63\",\"type\":\"Line\"},\"hover_glyph\":null,\"nonselection_glyph\":{\"id\":\"016cf9dd-426e-4de0-8c72-f2fce57cd1b3\",\"type\":\"Line\"},\"selection_glyph\":null},\"id\":\"072a0c4b-a261-41cf-bf47-cbca3e13daa1\",\"type\":\"GlyphRenderer\"},{\"attributes\":{\"fill_alpha\":{\"value\":0.5},\"fill_color\":{\"value\":\"lightgrey\"},\"level\":\"overlay\",\"line_alpha\":{\"value\":1.0},\"line_color\":{\"value\":\"black\"},\"line_dash\":[4,4],\"line_width\":{\"value\":2},\"plot\":null,\"xs_units\":\"screen\",\"ys_units\":\"screen\"},\"id\":\"86af18d9-e4cc-47fe-8e6f-162ae77fd2b1\",\"type\":\"PolyAnnotation\"},{\"attributes\":{\"fill_alpha\":{\"value\":0.5},\"fill_color\":{\"value\":\"lightgrey\"},\"level\":\"overlay\",\"line_alpha\":{\"value\":1.0},\"line_color\":{\"value\":\"black\"},\"line_dash\":[4,4],\"line_width\":{\"value\":2},\"plot\":null,\"xs_units\":\"screen\",\"ys_units\":\"screen\"},\"id\":\"c5523723-bdcb-4317-8a63-cecd3b9bfe09\",\"type\":\"PolyAnnotation\"},{\"attributes\":{\"plot\":{\"id\":\"891183db-4a90-4dfc-aef6-b0e01c0a553d\",\"subtype\":\"Figure\",\"type\":\"Plot\"},\"ticker\":{\"id\":\"6f84b674-9eb4-42dd-8220-d2ba5bc74b03\",\"type\":\"BasicTicker\"}},\"id\":\"b0dc6682-4d79-4cb2-83cf-7b51df4e6daa\",\"type\":\"Grid\"},{\"attributes\":{},\"id\":\"b1db3d6a-aaee-41f6-bd79-a44052e7df4f\",\"type\":\"BasicTickFormatter\"},{\"attributes\":{\"dimension\":1,\"plot\":{\"id\":\"891183db-4a90-4dfc-aef6-b0e01c0a553d\",\"subtype\":\"Figure\",\"type\":\"Plot\"},\"ticker\":{\"id\":\"1f50ee2a-9bd9-4d69-9bc1-e89cdbd48311\",\"type\":\"BasicTicker\"}},\"id\":\"d5d1095c-16ac-4d6b-a8be-daaf1249684e\",\"type\":\"Grid\"},{\"attributes\":{\"line_dash\":[4,4],\"line_width\":{\"value\":2},\"x\":{\"field\":\"x\"},\"y\":{\"field\":\"y\"}},\"id\":\"27dc5c63-4960-4eaa-97c0-68da9cb40a63\",\"type\":\"Line\"},{\"attributes\":{\"align\":\"center\",\"plot\":null,\"text\":null},\"id\":\"d4a52404-c3e3-46e8-a114-1ccb41a84677\",\"type\":\"Title\"},{\"attributes\":{\"plot\":{\"id\":\"891183db-4a90-4dfc-aef6-b0e01c0a553d\",\"subtype\":\"Figure\",\"type\":\"Plot\"}},\"id\":\"5e76ce3a-49d1-4e5e-9442-8e719def73cd\",\"type\":\"ResetTool\"},{\"attributes\":{\"line_alpha\":{\"value\":0.1},\"line_color\":{\"value\":\"#1f77b4\"},\"line_dash\":[4,4],\"line_width\":{\"value\":2},\"x\":{\"field\":\"x\"},\"y\":{\"field\":\"y\"}},\"id\":\"016cf9dd-426e-4de0-8c72-f2fce57cd1b3\",\"type\":\"Line\"},{\"attributes\":{\"axis_label\":\"Predicted\",\"axis_label_text_color\":{\"value\":\"#aa6666\"},\"formatter\":{\"id\":\"aacfcc6a-7f6f-4cdd-b9c2-e282e74878f7\",\"type\":\"BasicTickFormatter\"},\"plot\":{\"id\":\"891183db-4a90-4dfc-aef6-b0e01c0a553d\",\"subtype\":\"Figure\",\"type\":\"Plot\"},\"ticker\":{\"id\":\"1f50ee2a-9bd9-4d69-9bc1-e89cdbd48311\",\"type\":\"BasicTicker\"}},\"id\":\"ddb876b1-482e-4db0-8e78-a7bb1984b1ad\",\"type\":\"LinearAxis\"},{\"attributes\":{\"data_source\":{\"id\":\"98e4c01f-a23f-4ce1-818f-8c81da6f48f2\",\"type\":\"ColumnDataSource\"},\"glyph\":{\"id\":\"27ad4be2-26b2-4ec9-8e60-e00567287d6c\",\"type\":\"Circle\"},\"hover_glyph\":null,\"nonselection_glyph\":{\"id\":\"32b3403d-4741-4fa0-bc48-f73f0c250497\",\"type\":\"Circle\"},\"selection_glyph\":null},\"id\":\"8e43f2bb-6b3d-4c1c-b9cd-6a2262a23198\",\"type\":\"GlyphRenderer\"},{\"attributes\":{\"plot\":{\"id\":\"891183db-4a90-4dfc-aef6-b0e01c0a553d\",\"subtype\":\"Figure\",\"type\":\"Plot\"}},\"id\":\"29cff982-af38-456d-9a6c-5de9cc16d0d8\",\"type\":\"PanTool\"},{\"attributes\":{\"callback\":null,\"overlay\":{\"id\":\"c9781c64-40f0-4770-bbf5-868d61bbc44b\",\"type\":\"BoxAnnotation\"},\"plot\":{\"id\":\"891183db-4a90-4dfc-aef6-b0e01c0a553d\",\"subtype\":\"Figure\",\"type\":\"Plot\"},\"renderers\":[{\"id\":\"8e43f2bb-6b3d-4c1c-b9cd-6a2262a23198\",\"type\":\"GlyphRenderer\"},{\"id\":\"072a0c4b-a261-41cf-bf47-cbca3e13daa1\",\"type\":\"GlyphRenderer\"}]},\"id\":\"8d553a9b-d1d6-405c-a9b0-23d34557be03\",\"type\":\"BoxSelectTool\"},{\"attributes\":{\"active_drag\":\"auto\",\"active_scroll\":\"auto\",\"active_tap\":\"auto\",\"tools\":[{\"id\":\"dfd06b3e-e52c-42f5-98bf-c51b9a19a077\",\"type\":\"BoxZoomTool\"},{\"id\":\"8d553a9b-d1d6-405c-a9b0-23d34557be03\",\"type\":\"BoxSelectTool\"},{\"id\":\"e78857c9-808d-4776-aed8-7f5110c6cd61\",\"type\":\"CrosshairTool\"},{\"id\":\"af612359-9869-4486-b73b-9df322852454\",\"type\":\"ResizeTool\"},{\"id\":\"5e76ce3a-49d1-4e5e-9442-8e719def73cd\",\"type\":\"ResetTool\"},{\"id\":\"c4fd6dc0-f0d7-4090-9009-f4ef734f436c\",\"type\":\"LassoSelectTool\"},{\"id\":\"29cff982-af38-456d-9a6c-5de9cc16d0d8\",\"type\":\"PanTool\"},{\"id\":\"fd700afd-dad0-4aac-b377-1f5054edd96a\",\"type\":\"SaveTool\"},{\"id\":\"b81873f5-2a66-4c33-ab62-2779046c43ae\",\"type\":\"PolySelectTool\"},{\"id\":\"74a45c74-216e-43c9-bf92-f438cd6da9a4\",\"type\":\"TapTool\"},{\"id\":\"2dd288f9-e830-4daf-9414-3dc7d8e2e3e5\",\"type\":\"WheelZoomTool\"},{\"id\":\"97fcfa99-43d1-4fa1-8938-ec345477361e\",\"type\":\"UndoTool\"}]},\"id\":\"bb15e5ea-7a01-4fdd-b9a2-7c58d6b71800\",\"type\":\"Toolbar\"},{\"attributes\":{\"plot\":{\"id\":\"891183db-4a90-4dfc-aef6-b0e01c0a553d\",\"subtype\":\"Figure\",\"type\":\"Plot\"}},\"id\":\"fd700afd-dad0-4aac-b377-1f5054edd96a\",\"type\":\"SaveTool\"},{\"attributes\":{\"callback\":null,\"overlay\":{\"id\":\"c5523723-bdcb-4317-8a63-cecd3b9bfe09\",\"type\":\"PolyAnnotation\"},\"plot\":{\"id\":\"891183db-4a90-4dfc-aef6-b0e01c0a553d\",\"subtype\":\"Figure\",\"type\":\"Plot\"}},\"id\":\"c4fd6dc0-f0d7-4090-9009-f4ef734f436c\",\"type\":\"LassoSelectTool\"},{\"attributes\":{\"axis_label\":\"Measured\",\"axis_label_text_color\":{\"value\":\"#aa6666\"},\"formatter\":{\"id\":\"b1db3d6a-aaee-41f6-bd79-a44052e7df4f\",\"type\":\"BasicTickFormatter\"},\"major_tick_line_color\":{\"value\":\"firebrick\"},\"major_tick_line_width\":{\"value\":3},\"minor_tick_line_color\":{\"value\":\"orange\"},\"plot\":{\"id\":\"891183db-4a90-4dfc-aef6-b0e01c0a553d\",\"subtype\":\"Figure\",\"type\":\"Plot\"},\"ticker\":{\"id\":\"6f84b674-9eb4-42dd-8220-d2ba5bc74b03\",\"type\":\"BasicTicker\"}},\"id\":\"682957e6-77f3-43fe-8238-3cfc8e37afa6\",\"type\":\"LinearAxis\"},{\"attributes\":{\"bottom_units\":\"screen\",\"fill_alpha\":{\"value\":0.5},\"fill_color\":{\"value\":\"lightgrey\"},\"left_units\":\"screen\",\"level\":\"overlay\",\"line_alpha\":{\"value\":1.0},\"line_color\":{\"value\":\"black\"},\"line_dash\":[4,4],\"line_width\":{\"value\":2},\"plot\":null,\"render_mode\":\"css\",\"right_units\":\"screen\",\"top_units\":\"screen\"},\"id\":\"37dbddd0-06b6-45cb-9291-9e3e27e6ffea\",\"type\":\"BoxAnnotation\"},{\"attributes\":{\"overlay\":{\"id\":\"37dbddd0-06b6-45cb-9291-9e3e27e6ffea\",\"type\":\"BoxAnnotation\"},\"plot\":{\"id\":\"891183db-4a90-4dfc-aef6-b0e01c0a553d\",\"subtype\":\"Figure\",\"type\":\"Plot\"}},\"id\":\"dfd06b3e-e52c-42f5-98bf-c51b9a19a077\",\"type\":\"BoxZoomTool\"},{\"attributes\":{\"plot\":{\"id\":\"891183db-4a90-4dfc-aef6-b0e01c0a553d\",\"subtype\":\"Figure\",\"type\":\"Plot\"}},\"id\":\"e78857c9-808d-4776-aed8-7f5110c6cd61\",\"type\":\"CrosshairTool\"},{\"attributes\":{\"overlay\":{\"id\":\"86af18d9-e4cc-47fe-8e6f-162ae77fd2b1\",\"type\":\"PolyAnnotation\"},\"plot\":{\"id\":\"891183db-4a90-4dfc-aef6-b0e01c0a553d\",\"subtype\":\"Figure\",\"type\":\"Plot\"}},\"id\":\"b81873f5-2a66-4c33-ab62-2779046c43ae\",\"type\":\"PolySelectTool\"},{\"attributes\":{\"plot\":{\"id\":\"891183db-4a90-4dfc-aef6-b0e01c0a553d\",\"subtype\":\"Figure\",\"type\":\"Plot\"}},\"id\":\"2dd288f9-e830-4daf-9414-3dc7d8e2e3e5\",\"type\":\"WheelZoomTool\"},{\"attributes\":{\"fill_alpha\":{\"value\":0.1},\"fill_color\":{\"value\":\"#1f77b4\"},\"line_alpha\":{\"value\":0.1},\"line_color\":{\"value\":\"#1f77b4\"},\"line_width\":{\"value\":3},\"x\":{\"field\":\"x\"},\"y\":{\"field\":\"y\"}},\"id\":\"32b3403d-4741-4fa0-bc48-f73f0c250497\",\"type\":\"Circle\"},{\"attributes\":{\"plot\":{\"id\":\"891183db-4a90-4dfc-aef6-b0e01c0a553d\",\"subtype\":\"Figure\",\"type\":\"Plot\"}},\"id\":\"97fcfa99-43d1-4fa1-8938-ec345477361e\",\"type\":\"UndoTool\"},{\"attributes\":{},\"id\":\"6f84b674-9eb4-42dd-8220-d2ba5bc74b03\",\"type\":\"BasicTicker\"},{\"attributes\":{\"background_fill_alpha\":{\"value\":0.5},\"background_fill_color\":{\"value\":\"beige\"},\"below\":[{\"id\":\"682957e6-77f3-43fe-8238-3cfc8e37afa6\",\"type\":\"LinearAxis\"}],\"left\":[{\"id\":\"ddb876b1-482e-4db0-8e78-a7bb1984b1ad\",\"type\":\"LinearAxis\"}],\"plot_height\":500,\"plot_width\":500,\"renderers\":[{\"id\":\"682957e6-77f3-43fe-8238-3cfc8e37afa6\",\"type\":\"LinearAxis\"},{\"id\":\"b0dc6682-4d79-4cb2-83cf-7b51df4e6daa\",\"type\":\"Grid\"},{\"id\":\"ddb876b1-482e-4db0-8e78-a7bb1984b1ad\",\"type\":\"LinearAxis\"},{\"id\":\"d5d1095c-16ac-4d6b-a8be-daaf1249684e\",\"type\":\"Grid\"},{\"id\":\"37dbddd0-06b6-45cb-9291-9e3e27e6ffea\",\"type\":\"BoxAnnotation\"},{\"id\":\"c9781c64-40f0-4770-bbf5-868d61bbc44b\",\"type\":\"BoxAnnotation\"},{\"id\":\"c5523723-bdcb-4317-8a63-cecd3b9bfe09\",\"type\":\"PolyAnnotation\"},{\"id\":\"86af18d9-e4cc-47fe-8e6f-162ae77fd2b1\",\"type\":\"PolyAnnotation\"},{\"id\":\"8e43f2bb-6b3d-4c1c-b9cd-6a2262a23198\",\"type\":\"GlyphRenderer\"},{\"id\":\"072a0c4b-a261-41cf-bf47-cbca3e13daa1\",\"type\":\"GlyphRenderer\"}],\"title\":{\"id\":\"d4a52404-c3e3-46e8-a114-1ccb41a84677\",\"type\":\"Title\"},\"tool_events\":{\"id\":\"2f93bc41-c4b4-483d-b74c-5914d7467565\",\"type\":\"ToolEvents\"},\"toolbar\":{\"id\":\"bb15e5ea-7a01-4fdd-b9a2-7c58d6b71800\",\"type\":\"Toolbar\"},\"x_range\":{\"id\":\"e3ee1f05-6acf-4499-a84d-dc239f72c720\",\"type\":\"DataRange1d\"},\"y_range\":{\"id\":\"2ff5a9a3-9614-48c2-bc49-18fa09d99e77\",\"type\":\"DataRange1d\"}},\"id\":\"891183db-4a90-4dfc-aef6-b0e01c0a553d\",\"subtype\":\"Figure\",\"type\":\"Plot\"},{\"attributes\":{},\"id\":\"1f50ee2a-9bd9-4d69-9bc1-e89cdbd48311\",\"type\":\"BasicTicker\"},{\"attributes\":{\"callback\":null,\"plot\":{\"id\":\"891183db-4a90-4dfc-aef6-b0e01c0a553d\",\"subtype\":\"Figure\",\"type\":\"Plot\"}},\"id\":\"74a45c74-216e-43c9-bf92-f438cd6da9a4\",\"type\":\"TapTool\"},{\"attributes\":{},\"id\":\"2f93bc41-c4b4-483d-b74c-5914d7467565\",\"type\":\"ToolEvents\"},{\"attributes\":{\"callback\":null,\"column_names\":[\"y\",\"x\"],\"data\":{\"x\":[104.13,140.987],\"y\":[104.13,140.987]}},\"id\":\"a5ae3504-e037-4cac-8c02-637ec694c9da\",\"type\":\"ColumnDataSource\"},{\"attributes\":{\"callback\":null},\"id\":\"2ff5a9a3-9614-48c2-bc49-18fa09d99e77\",\"type\":\"DataRange1d\"},{\"attributes\":{\"callback\":null,\"column_names\":[\"x\",\"y\"],\"data\":{\"x\":[127.206,136.284,117.50399999999999,122.34100000000001,114.042,135.079,127.23299999999999,123.689,118.005,135.346,126.53399999999999,135.368,111.959,125.816,119.62100000000001,132.039,118.365,124.74799999999999,112.506,122.375,120.505,121.315,109.25399999999999,119.505,118.214,124.355,115.91,139.438,124.493,129.68,134.533,114.309,129.45,116.411,118.12899999999999,118.712,131.836,110.905,129.569,124.273,129.02700000000002,124.852,115.679,117.624,127.12700000000001,119.375,119.07,118.941,113.333,127.7,131.45600000000002,121.485,129.8,127.04,134.0,128.774,124.45,124.84299999999999,114.9,118.757,128.35399999999998,130.197,118.145,133.097,125.726,116.241,124.17,115.85700000000001,129.965,121.399,120.766,118.12200000000001,132.513,132.304,127.63799999999999,124.555,128.95600000000002,126.835,130.96,128.562,115.863,126.395,133.756,113.10799999999999,121.301,113.958,124.346,136.886,117.037,131.636,131.111,129.33,112.803,128.536,133.774,134.273,123.08200000000001,128.92700000000002,117.119,134.556,127.179,133.59799999999998,122.044,128.929,121.889,129.415,130.123,120.228,128.857,115.079,128.518,124.154,129.256,130.781,124.156,134.56799999999998,122.088,131.313,123.965,120.92,133.649,116.295,135.674,130.195,129.567,119.294,125.715,137.233,116.84899999999999,124.69200000000001,116.694,130.34,131.205,126.189,119.67,127.006,130.934,121.499,127.796,134.268,136.031,131.918,133.79,130.299,133.355,134.111,115.321,133.012,128.64700000000002,127.92,122.905,129.285,116.225,132.43,115.234,125.40100000000001,127.39399999999999,131.346,122.61200000000001,122.315,121.059,124.304,122.035,115.65899999999999,125.555,112.014,132.202,115.846,118.595,138.523,130.114,116.603,130.392,121.789,122.435,134.22799999999998,113.492,128.127,111.911,125.527,116.229,120.85600000000001,127.35600000000001,137.026,129.03799999999998,126.09700000000001,127.054,129.14700000000002,134.02200000000002,133.894,120.458,120.47200000000001,132.898,127.008,120.484,130.898,112.039,118.82700000000001,120.07799999999999,126.195,125.728,120.137,135.234,118.816,121.65899999999999,117.087,114.927,133.48,107.26700000000001,126.898,120.324,132.134,109.95100000000001,126.59899999999999,126.64200000000001,129.11700000000002,117.15100000000001,117.432,125.867,118.964,127.676,133.211,110.515,114.554,133.29399999999998,120.354,126.291,127.53,117.154,127.90299999999999,118.955,128.401,128.829,128.545,117.134,135.164,134.563,134.11,116.677,133.01,129.953,127.197,129.55200000000002,127.696,118.045,137.06799999999998,127.75299999999999,131.808,125.054,134.996,132.05,126.514,119.135,129.889,137.007,139.918,124.395,127.398,133.023,130.349,118.743,119.854,118.05,127.329,126.04899999999999,126.116,135.227,112.848,112.265,133.768,115.969,128.762,112.699,125.941,135.248,116.723,117.38600000000001,118.564,128.086,125.045,126.74600000000001,122.766,128.265,129.869,122.771,118.99799999999999,132.886,134.826,108.40700000000001,127.564,126.736,130.629,118.024,120.963,133.071,124.71700000000001,131.06,124.39299999999999,125.589,125.22,124.001,127.07600000000001,126.838,123.742,123.76100000000001,118.441,115.304,131.129,128.312,124.61200000000001,131.80700000000002,132.095,122.101,135.953,120.05799999999999,135.308,122.411,131.453,121.40700000000001,128.49200000000002,133.846,112.209,130.335,107.985,115.818,139.428,120.229,118.34299999999999,123.445,113.00399999999999,106.88,116.10799999999999,127.71,128.704,133.649,111.35,110.689,114.634,137.076,129.053,133.58700000000002,135.32399999999998,130.817,115.085,126.88600000000001,132.304,124.835,134.336,125.89,123.514,117.911,114.47399999999999,108.265,127.928,131.434,122.147,132.769,129.77700000000002,134.498,116.12799999999999,123.416,124.12100000000001,125.20299999999999,130.845,110.491,129.343,116.22,128.144,122.79,130.156,121.93299999999999,123.274,118.41,134.34,124.23299999999999,136.83700000000002,114.861,130.049,120.786,119.319,128.335,114.477,123.635,136.826,130.477,129.116,126.82600000000001,120.055,126.75200000000001,129.004,108.721,125.26100000000001,133.79,130.332,132.184,115.215,124.98700000000001,117.287,120.79799999999999,119.135,116.72399999999999,112.68799999999999,121.31299999999999,120.446,135.484,134.43,130.791,131.725,123.537,130.46,106.26,117.465,118.994,128.29,106.58200000000001,128.244,125.603,127.101,128.69799999999998,119.646,129.964,122.72399999999999,130.065,129.667,127.54799999999999,128.401,126.64399999999999,129.5,130.148,132.114,130.965,123.695,118.291,122.21799999999999,124.685,128.311,113.85799999999999,132.588,115.14399999999999,116.184,123.31200000000001,116.074,125.99799999999999,119.208,120.088,134.987,125.194,116.366,122.21600000000001,136.798,121.28399999999999,123.443,129.645,122.845,128.119,108.991,113.288,132.357,125.499,124.40299999999999,125.398,132.003,129.575,120.061,129.675,117.96700000000001,127.054,121.154,130.722,125.625,137.047,127.095,131.971,133.153,132.35399999999998,127.315,123.991,117.604,132.58700000000002,115.645,127.251,125.824,128.805,126.34299999999999,134.247,133.207,137.207,121.944,120.555,121.485,126.54,138.123,131.796,125.721,132.611,135.54,123.87899999999999,122.17,129.002,125.20100000000001,123.86200000000001,134.87,124.04899999999999,125.85700000000001,133.201,124.439,129.308,124.665,130.961,108.03399999999999,124.024,131.234,119.51299999999999,117.875,118.113,125.539,126.616,116.815,122.765,131.015,130.269,135.07,133.707,120.324,131.582,128.435,130.688,114.41799999999999,110.905,108.03399999999999,112.945,131.184,116.417,133.062,129.653,124.64399999999999,127.443,126.446,108.684,123.835,123.62299999999999,128.42700000000002,126.54,113.12899999999999,124.338,126.195,132.158,130.30700000000002,132.251,121.775,111.53399999999999,124.625,133.19799999999998,112.241,120.53399999999999,123.126,125.87200000000001,119.111,120.60700000000001,129.491,128.99,134.946,116.92,122.292,125.631,128.718,129.468,137.658,123.09100000000001,133.174,113.055,125.353,119.229,126.79,128.139,126.471,129.63299999999998,128.713,119.632,130.644,120.147,129.776,130.67,124.512,128.707,130.72299999999998,125.12700000000001,131.56799999999998,125.34299999999999,129.329,123.037,115.37200000000001,117.195,121.235,122.45,133.23,131.955,130.77700000000002,122.413,127.039,124.647,117.478,119.73700000000001,131.515,121.65700000000001,118.696,135.924,126.34899999999999,119.22399999999999,124.43799999999999,132.27100000000002,129.05700000000002,118.09100000000001,133.042,135.329,113.03399999999999,128.175,125.319,118.01799999999999,120.553,112.139,132.796,120.53200000000001,129.148,126.45700000000001,133.251,120.51299999999999,122.37100000000001,123.865,130.089,130.173,129.937,131.817,132.149,122.39399999999999,114.569,128.345,130.869,119.039,127.947,126.96600000000001,117.11,131.446,131.274,133.808,125.45200000000001,126.944,123.82,120.189,127.76299999999999,114.258,130.908,116.792,112.639,116.165,123.054,106.22399999999999,125.802,133.032,127.801,122.235,120.07600000000001,109.22200000000001,129.864,114.044,123.609,130.748,121.256,112.541,116.15100000000001,128.2,125.094,123.069,130.588,119.806,120.595,126.021,124.10600000000001,116.956,129.27,139.808,126.896,125.116,117.927,129.099,116.181,117.925,123.807,130.94,119.88799999999999,125.398,125.02600000000001,125.727,116.134,121.47399999999999,132.011,123.595,132.118,136.536,128.643,133.436,128.977,111.588,120.397,121.78299999999999,110.555,125.741,119.708,104.13,113.665,127.29899999999999,123.445,122.044,124.756,129.556,127.73,126.43,114.75,134.058,131.264,122.439,131.642,109.71799999999999,119.561,114.258,113.79899999999999,135.468,136.941,133.72799999999998,124.353,113.29799999999999,132.595,123.354,129.494,128.576,130.469,128.416,129.516,128.246,128.763,128.365,127.229,113.11,130.374,136.583,119.639,125.524,131.542,132.89700000000002,140.158,129.377,122.648,131.471,134.976,134.05200000000002,115.413,120.53399999999999,127.01100000000001,133.22299999999998,110.307,115.29799999999999,117.28399999999999,120.71600000000001,107.405,111.459,127.465,126.29899999999999,122.93799999999999,134.034,110.78,120.227,128.97799999999998,126.537,128.879,124.336,125.99700000000001,109.949,126.20100000000001,123.255,131.364,123.564,120.03399999999999,127.634,122.41,130.541,128.216,121.52799999999999,106.604,133.653,130.947,128.36,133.38,128.816,128.74,116.476,129.296,130.955,128.939,126.536,127.59100000000001,122.78200000000001,127.686,120.209,125.79700000000001,123.304,127.40799999999999,131.44799999999998,123.12,120.193,123.465,119.649,131.07399999999998,130.893,125.81700000000001,113.775,135.866,123.455,127.315,126.15899999999999,124.18799999999999,126.17,120.49700000000001,112.169,130.828,118.416,133.311,129.744,118.92200000000001,133.378,124.12700000000001,123.061,131.467,122.471,113.045,135.459,119.945,130.935,136.384,119.777,118.859,115.60799999999999,114.249,126.21799999999999,110.124,127.488,117.514,121.397,124.25299999999999,130.638,124.22200000000001,122.708,120.573,128.907,122.919,124.208,122.89299999999999,128.306,123.311,128.252,116.066,121.54700000000001,118.385,129.395,128.339,120.755,130.34799999999998,119.04,121.165,114.709,125.01,114.714,124.931,122.08200000000001,110.839,117.32799999999999,127.285,132.793,120.015,125.62700000000001,131.491,121.885,128.939,121.306,124.39399999999999,115.46600000000001,125.427,125.586,119.35,121.635,130.507,132.355,115.59100000000001,127.22,126.713,132.086,121.62700000000001,112.355,134.43,116.56,125.85600000000001,130.614,123.177,131.236,117.99600000000001,127.307,129.681,126.838,131.615,124.426,125.376,128.878,131.96,128.444,133.04,110.868,116.78299999999999,126.645,121.514,135.42600000000002,132.358,131.43,112.524,121.90299999999999,121.617,131.92,129.97299999999998,114.751,126.152,116.559,130.496,117.789,133.13,120.569,129.86700000000002,115.89,110.447,124.214,126.78,112.675,131.80700000000002,124.244,126.632,130.144,119.73700000000001,120.419,129.395,128.708,135.328,129.977,134.226,122.397,136.75799999999998,128.63299999999998,131.966,119.535,124.904,110.89399999999999,127.632,129.134,120.162,128.296,130.0,118.134,130.30700000000002,127.899,131.01,129.465,131.955,126.959,120.726,113.315,120.95200000000001,124.42,119.15899999999999,123.89399999999999,114.984,122.539,123.178,131.865,131.31,121.225,118.26700000000001,121.762,121.58200000000001,133.241,127.22399999999999,135.433,134.625,130.20600000000002,126.045,128.595,126.805,136.88299999999998,111.818,119.916,123.41,125.96600000000001,126.266,135.38,128.56,120.154,133.924,114.404,130.595,128.398,136.16299999999998,125.992,119.60600000000001,123.565,132.252,130.89,124.27600000000001,110.22399999999999,123.775,117.054,127.91,127.417,120.319,119.15100000000001,133.40200000000002,110.36399999999999,126.677,123.583,120.189,110.264,123.305,120.835,113.525,127.84700000000001,122.94,118.634,117.976,128.86700000000002,122.088,124.525,124.101,127.094,128.381,126.5,132.043,129.144,115.792,127.63600000000001,133.063,134.227,124.25399999999999,128.72299999999998,133.261,113.229,119.34299999999999,126.066,120.527,115.89299999999999,129.395,112.251,132.116,122.679,121.234,123.417,131.023,123.209,121.99600000000001,120.766,129.037,121.146,122.60600000000001,124.166,124.809,131.346,124.10799999999999,135.49,115.391,126.805,127.24600000000001,125.211,129.84799999999998,131.656,122.75399999999999,116.92399999999999,134.236,132.828,124.07700000000001,126.54,129.30100000000002,125.586,115.691,117.309,133.04,115.635,128.454,131.221,129.292,121.10600000000001,127.318,129.36700000000002,120.33,123.081,119.54,109.663,123.74,130.07299999999998,115.801,128.40200000000002,123.839,115.99600000000001,123.917,131.69799999999998,117.785,120.851,130.567,114.9,127.89299999999999,109.52,133.847,119.17399999999999,125.465,115.461,126.846,115.52,127.62299999999999,126.35600000000001,120.037,128.082,138.55700000000002,126.59,122.384,123.78,128.83100000000002,131.279,128.423,110.31299999999999,127.35799999999999,117.741,131.036,123.189,131.97799999999998,125.10700000000001,128.67700000000002,122.365,134.47799999999998,113.086,125.39,118.667,131.186,115.311,129.969,125.15700000000001,134.938,133.252,114.085,125.47200000000001,134.476,111.07600000000001,123.46600000000001,122.675,117.95700000000001,111.135,119.598,126.486,116.55,128.971,131.281,120.779,121.664,126.93299999999999,132.889,131.889,126.743,126.001,112.065,116.96700000000001,122.288,139.226,129.35399999999998,135.191,115.309,108.625,132.918,135.803,129.94899999999998,124.318,123.39200000000001,130.311,119.209,136.191,123.54299999999999,122.211,121.431,113.334,112.76799999999999,121.318,136.023,127.86399999999999,134.85299999999998,128.257,122.956,137.813,123.988,130.156,140.987,130.77700000000002,122.149],\"y\":[132.32115173339844,128.4984130859375,120.3355484008789,123.15428161621094,113.15782928466797,128.6525115966797,125.01061248779297,124.90243530273438,126.95596313476562,133.1832733154297,125.24505615234375,126.57237243652344,114.83646392822266,127.67555236816406,127.56564331054688,126.74497985839844,121.62882232666016,123.63147735595703,129.74659729003906,124.16079711914062,117.3807601928711,121.8859634399414,112.60993957519531,122.92322540283203,117.76972961425781,125.99919891357422,119.42259979248047,129.72743225097656,124.82733917236328,135.0149688720703,131.4427032470703,119.62577056884766,135.59115600585938,120.99151611328125,129.4158477783203,117.16075897216797,133.90643310546875,113.16170501708984,128.74813842773438,125.67695617675781,124.15585327148438,123.79402923583984,114.65264892578125,115.5578842163086,127.87055969238281,121.66888427734375,126.39790344238281,119.6640625,117.20687866210938,131.04910278320312,133.36558532714844,121.19905853271484,131.6196746826172,121.97979736328125,129.49581909179688,131.51339721679688,124.35690307617188,121.50074005126953,119.11944580078125,120.90377807617188,126.70226287841797,129.9388885498047,119.6482162475586,129.80276489257812,132.52114868164062,117.14405059814453,126.51023864746094,127.95326232910156,126.54362487792969,123.7742919921875,132.16004943847656,117.69523620605469,129.0338897705078,131.46633911132812,132.9541778564453,125.01282501220703,130.59109497070312,125.05033874511719,135.82643127441406,130.28651428222656,118.25908660888672,130.76461791992188,131.380126953125,113.27066040039062,121.60192108154297,111.76933288574219,125.84434509277344,126.74126434326172,119.21708679199219,127.39761352539062,128.07577514648438,125.52648162841797,115.3211441040039,127.46480560302734,124.47528076171875,129.68109130859375,131.34625244140625,131.59043884277344,121.20972442626953,130.68777465820312,124.05742645263672,130.19305419921875,119.77296447753906,126.1495361328125,122.04206848144531,122.70144653320312,131.23435974121094,124.16693878173828,126.56846618652344,119.33280944824219,128.54647827148438,122.239501953125,126.75042724609375,130.2618408203125,134.34030151367188,128.3245391845703,124.29093170166016,129.5928955078125,125.4210205078125,116.80220794677734,128.5271759033203,119.87273406982422,125.03618621826172,128.3990020751953,124.60310363769531,130.46995544433594,120.45774841308594,129.5150909423828,121.53327178955078,130.525634765625,121.6763687133789,129.38694763183594,127.75180053710938,125.33094787597656,121.3313980102539,126.7079086303711,127.68294525146484,120.86576080322266,129.03782653808594,130.9601287841797,129.5441131591797,129.3660430908203,127.77176666259766,126.48609924316406,129.04324340820312,130.0173797607422,120.07316589355469,128.7099151611328,129.64881896972656,132.1374053955078,129.6934051513672,123.43486022949219,118.79344177246094,126.20214080810547,118.56703186035156,131.21969604492188,132.0311737060547,128.60235595703125,125.78475952148438,121.44589233398438,123.63839721679688,121.30215454101562,119.96956634521484,120.31710815429688,123.18685150146484,112.58614349365234,130.23582458496094,129.44886779785156,128.5880126953125,130.79551696777344,128.9246063232422,119.20660400390625,125.5584945678711,125.54594421386719,120.92811584472656,127.20463562011719,114.08689880371094,128.35443115234375,128.04457092285156,128.10557556152344,115.20037078857422,120.20234680175781,131.54898071289062,125.23281860351562,130.93545532226562,122.70751953125,126.5728988647461,127.8416748046875,128.062744140625,129.513671875,122.60820770263672,118.87601470947266,129.4414825439453,128.6219024658203,120.51226043701172,127.1088638305664,114.5341567993164,117.48646545410156,132.19471740722656,128.36868286132812,126.620849609375,129.61500549316406,128.796142578125,117.88758850097656,124.6059799194336,118.27156829833984,117.37487030029297,130.0135498046875,106.52082824707031,130.6486053466797,125.43465423583984,128.60496520996094,128.34230041503906,131.7152862548828,127.04623413085938,129.3502197265625,117.01005554199219,121.03926086425781,124.94925689697266,119.22166442871094,127.01092529296875,128.73597717285156,112.28904724121094,116.79334259033203,125.23323822021484,124.13628387451172,131.95896911621094,130.3227996826172,116.01853942871094,130.04013061523438,124.77008056640625,130.77960205078125,129.28611755371094,122.9991683959961,121.1591567993164,129.37692260742188,130.2375946044922,130.4957733154297,117.68788146972656,131.45997619628906,130.24366760253906,123.89339447021484,126.90115356445312,129.6820831298828,117.97735595703125,127.52738952636719,126.01048278808594,124.8520278930664,132.2884521484375,130.53077697753906,130.57382202148438,127.60749816894531,121.56605529785156,128.0570831298828,135.48321533203125,130.11573791503906,126.2342300415039,127.5441665649414,130.4729461669922,127.43022918701172,120.45955657958984,119.81138610839844,119.14057922363281,127.14306640625,123.72085571289062,125.0251693725586,133.6181182861328,115.62329864501953,115.9895248413086,129.1320037841797,116.11715698242188,128.5840301513672,113.48458862304688,131.09739685058594,130.0682373046875,121.8262939453125,126.0210189819336,120.35256958007812,129.24197387695312,128.19969177246094,123.79234313964844,130.45594787597656,122.48137664794922,126.47237396240234,124.54370880126953,119.06881713867188,127.9153823852539,132.3390655517578,112.32107543945312,130.7140655517578,126.81389617919922,127.1744155883789,118.44358825683594,123.43669891357422,127.82987213134766,121.86083221435547,134.65794372558594,125.02625274658203,124.88516998291016,126.27970886230469,128.43577575683594,134.0350341796875,128.17413330078125,123.665283203125,125.57921600341797,121.11017608642578,120.18959045410156,130.75741577148438,126.38339233398438,126.6424560546875,128.01324462890625,131.6553955078125,124.29369354248047,130.03286743164062,125.20246124267578,130.4748992919922,127.22909545898438,129.03233337402344,123.25213623046875,129.74899291992188,130.17355346679688,117.19708251953125,132.53762817382812,107.20743560791016,114.45347595214844,127.26969146728516,120.90642547607422,120.73580169677734,122.17005157470703,116.04022216796875,113.33467864990234,114.4281234741211,125.8301773071289,127.74921417236328,129.20416259765625,112.39350128173828,110.65241241455078,113.86100769042969,124.88020324707031,130.11068725585938,128.4230499267578,125.76570129394531,127.2791976928711,119.94611358642578,130.05296325683594,125.38482666015625,128.5657501220703,129.4219207763672,126.90699768066406,121.15754699707031,124.08731842041016,113.22682189941406,111.17656707763672,125.45059204101562,132.11354064941406,129.39495849609375,130.1102294921875,127.53115844726562,129.74392700195312,132.29425048828125,125.70988464355469,132.21786499023438,123.83431243896484,125.5339126586914,128.2128448486328,130.8094940185547,119.29718017578125,130.50836181640625,132.48252868652344,128.49952697753906,125.41658782958984,130.15823364257812,118.2083740234375,128.4189910888672,126.91230773925781,133.83189392089844,118.67713928222656,127.21510314941406,118.74220275878906,129.2864227294922,125.6975326538086,118.5342025756836,129.28924560546875,132.074462890625,127.2902603149414,129.0854034423828,125.08672332763672,121.55923461914062,127.67796325683594,129.16079711914062,111.47752380371094,123.68244171142578,126.71988677978516,130.5299072265625,128.5573272705078,115.41126251220703,122.15853881835938,119.37458038330078,119.21739959716797,116.94046783447266,118.42724609375,115.6785659790039,120.90678405761719,124.80883026123047,130.0036163330078,131.98013305664062,126.33712768554688,132.1259002685547,128.32562255859375,127.9425277709961,111.6519546508789,116.60604858398438,122.84188079833984,129.8050537109375,109.92713165283203,128.5667724609375,124.4190673828125,130.96795654296875,126.62135314941406,118.62369537353516,129.56280517578125,120.4731216430664,124.47277069091797,130.68435668945312,126.95789337158203,125.57252502441406,123.27662658691406,127.92728424072266,131.51454162597656,128.7490692138672,127.01416015625,123.9322738647461,121.56656646728516,122.41875457763672,123.60926818847656,127.84033203125,115.31524658203125,131.2734832763672,126.77168273925781,117.6552963256836,128.15670776367188,130.76060485839844,127.58226776123047,120.40772247314453,123.07470703125,132.67153930664062,126.72508239746094,132.49322509765625,123.22080993652344,129.4685516357422,122.77212524414062,120.46521759033203,127.41365814208984,124.39196014404297,125.82515716552734,109.71065521240234,117.207763671875,128.82156372070312,126.69760131835938,130.48025512695312,127.2167739868164,127.25777435302734,130.37631225585938,122.52072143554688,122.86970520019531,127.45111083984375,126.24493408203125,130.28480529785156,129.76873779296875,126.18267059326172,133.2083282470703,126.87726593017578,129.38316345214844,127.76018524169922,131.261962890625,125.82698059082031,126.48529815673828,119.96920776367188,129.46835327148438,117.39191436767578,130.3410186767578,123.38916015625,127.0887680053711,125.37830352783203,126.26519775390625,128.97763061523438,131.27992248535156,122.53954315185547,123.10871124267578,123.67034912109375,124.64883422851562,131.0543975830078,125.97379302978516,126.02892303466797,127.94290161132812,128.03065490722656,128.74807739257812,122.31891632080078,129.2312469482422,125.5033187866211,125.34803771972656,131.2189178466797,125.81798553466797,122.02909088134766,130.6645965576172,126.23699188232422,128.13558959960938,125.51203918457031,127.33489990234375,113.91107177734375,125.27758026123047,128.08917236328125,130.81680297851562,119.37483978271484,115.64315032958984,123.28077697753906,126.34977722167969,115.7889404296875,128.41973876953125,128.82302856445312,125.9263687133789,133.63143920898438,136.06341552734375,122.50238800048828,127.17407989501953,128.91677856445312,130.49537658691406,119.04842376708984,111.3288803100586,111.23539733886719,117.74561309814453,128.77838134765625,115.5312728881836,129.8241424560547,126.9262924194336,120.99623107910156,124.0118637084961,123.94681549072266,114.27674102783203,123.75594329833984,125.61788177490234,130.35060119628906,125.92182159423828,112.3521957397461,126.09439849853516,129.72496032714844,126.93199157714844,127.653076171875,127.97050476074219,123.25709533691406,113.00440216064453,122.86460876464844,127.71359252929688,113.87641143798828,120.53983306884766,120.74605560302734,128.9878387451172,121.31819915771484,119.94390869140625,127.19387817382812,127.97545623779297,131.58035278320312,116.745849609375,130.7845458984375,124.52320861816406,131.70736694335938,128.42433166503906,130.2661590576172,126.78900146484375,128.0194854736328,115.36216735839844,124.60728454589844,120.38985443115234,128.25177001953125,126.17955780029297,124.71796417236328,126.9335708618164,131.4544219970703,120.436767578125,129.9601287841797,128.90869140625,125.50245666503906,127.75540924072266,125.82306671142578,126.69622802734375,126.54325866699219,134.65460205078125,127.7244644165039,123.419189453125,127.79025268554688,124.54652404785156,115.47964477539062,128.71743774414062,126.5492172241211,127.6031723022461,130.01368713378906,130.30264282226562,126.23684692382812,119.17080688476562,128.48919677734375,125.27490997314453,122.8725357055664,122.08009338378906,126.89823913574219,117.33917236328125,132.3402862548828,128.27835083007812,127.09922790527344,118.57637023925781,124.27921295166016,129.61463928222656,128.0932159423828,121.03736877441406,128.1373748779297,129.04083251953125,116.19574737548828,130.5963592529297,125.64148712158203,117.01690673828125,119.38935089111328,111.54016876220703,129.5273895263672,123.7945785522461,132.73104858398438,125.39216613769531,128.53106689453125,117.48808288574219,123.39634704589844,126.24857330322266,126.31466674804688,127.31990051269531,129.1581268310547,124.84212493896484,126.96501159667969,123.03904724121094,116.7439956665039,125.30921936035156,126.99014282226562,122.81979370117188,134.53408813476562,128.72421264648438,115.18738555908203,128.91983032226562,128.47207641601562,126.70211029052734,131.0097198486328,127.5931396484375,124.92408752441406,128.41397094726562,127.00764465332031,111.2357406616211,132.41860961914062,118.61695098876953,116.60665130615234,115.60553741455078,124.58001708984375,107.9454574584961,125.7361831665039,128.60791015625,126.57618713378906,125.49657440185547,129.2650604248047,112.34600067138672,123.32502746582031,127.01022338867188,128.24569702148438,128.69189453125,122.39112091064453,113.40829467773438,122.79292297363281,123.01531982421875,126.38788604736328,125.20146942138672,127.87604522705078,128.96994018554688,129.50930786132812,125.68360137939453,125.22163391113281,127.52946472167969,132.0808563232422,129.9474639892578,128.0023193359375,132.1444091796875,127.71402740478516,127.86255645751953,119.51023864746094,121.1671142578125,122.61050415039062,126.9951400756836,120.74217224121094,122.1465072631836,131.85653686523438,118.85795593261719,116.46720123291016,132.73806762695312,127.63397216796875,128.71734619140625,128.30902099609375,132.701171875,127.09226989746094,130.9405517578125,129.11044311523438,113.67884063720703,126.08485412597656,125.12505340576172,112.5428695678711,128.9058380126953,122.76073455810547,106.8626480102539,112.72161102294922,124.83404541015625,123.85275268554688,123.87260437011719,130.2707977294922,132.08590698242188,125.87431335449219,128.14373779296875,120.02897644042969,126.40142822265625,127.957763671875,123.90705871582031,126.14667510986328,112.37913513183594,122.19010162353516,118.98933410644531,111.6661376953125,130.90431213378906,129.02633666992188,131.19290161132812,125.79786682128906,114.62921142578125,131.06724548339844,125.17179107666016,129.6785430908203,133.7226104736328,127.7125473022461,124.46536254882812,127.72655487060547,128.22952270507812,127.94783782958984,125.52821350097656,126.17456817626953,116.59168243408203,129.23788452148438,131.27442932128906,123.21601104736328,126.57196807861328,127.54922485351562,133.9314727783203,126.96650695800781,127.56832122802734,132.09303283691406,128.09036254882812,130.90960693359375,129.3535919189453,117.60414123535156,121.75038146972656,128.61773681640625,133.4362030029297,114.52156066894531,117.81890106201172,118.95865631103516,125.88618469238281,109.58795166015625,114.9966049194336,125.9554672241211,125.70945739746094,131.1275177001953,130.10182189941406,115.78440856933594,120.07527923583984,123.67571258544922,123.00713348388672,127.6169662475586,134.4366912841797,129.7903289794922,112.40779113769531,130.595458984375,122.06873321533203,124.83229064941406,121.03559112548828,118.249755859375,128.51361083984375,119.73756408691406,125.32218933105469,131.10887145996094,122.15699005126953,110.43019104003906,127.96179962158203,126.78142547607422,127.03470611572266,128.84860229492188,129.94390869140625,127.5171127319336,114.86270141601562,126.47136688232422,129.37977600097656,124.31629943847656,122.79464721679688,128.77207946777344,124.8301010131836,126.16504669189453,122.58916473388672,125.5820541381836,125.18132019042969,131.8760986328125,131.87120056152344,123.92986297607422,123.16751098632812,120.66412353515625,123.31159210205078,132.6313018798828,128.12779235839844,132.75538635253906,114.53438568115234,131.25486755371094,125.14718627929688,126.46987915039062,129.3435516357422,124.98664093017578,132.57749938964844,123.98050689697266,110.27338409423828,133.20562744140625,127.3946533203125,126.43753814697266,126.52539825439453,120.81745147705078,132.5556182861328,121.16581726074219,123.71078491210938,128.18527221679688,123.55772399902344,116.95013427734375,128.87254333496094,119.32560729980469,129.3027801513672,128.6666717529297,120.08748626708984,118.70596313476562,117.8970947265625,114.35192108154297,127.3887939453125,109.3187484741211,128.69735717773438,126.3879623413086,123.95845031738281,123.98707580566406,126.04774475097656,125.44998931884766,125.58534240722656,132.18527221679688,126.2436752319336,123.20243835449219,124.65158081054688,124.9956283569336,125.45526123046875,125.0986557006836,124.79389953613281,126.13054656982422,128.49388122558594,120.20305633544922,128.1758270263672,126.54759979248047,123.03263854980469,129.87197875976562,123.8885726928711,120.2809066772461,120.48988342285156,128.27316284179688,126.90650939941406,122.38804626464844,122.72100830078125,111.47100830078125,123.83931732177734,127.80777740478516,128.85389709472656,129.9522705078125,127.423095703125,127.65026092529297,124.40643310546875,127.76676940917969,121.40953826904297,124.70052337646484,118.52853393554688,123.86294555664062,121.79479217529297,120.91144561767578,124.86483764648438,127.86369323730469,127.28536224365234,116.80473327636719,125.8630142211914,131.4086151123047,130.58526611328125,122.27574157714844,114.57796478271484,132.87274169921875,118.20988464355469,128.66961669921875,123.10303497314453,121.24576568603516,131.25392150878906,120.27719116210938,132.23760986328125,128.42689514160156,125.66350555419922,129.78089904785156,126.0480728149414,126.33007049560547,130.3120880126953,127.49652099609375,122.84190368652344,129.51513671875,111.32621765136719,124.11515808105469,127.26974487304688,123.5948486328125,130.0486602783203,127.27349853515625,130.98553466796875,114.018798828125,120.76644897460938,130.12689208984375,127.43523406982422,126.67758178710938,114.21085357666016,130.7266082763672,121.30848693847656,128.3455047607422,118.133544921875,127.16000366210938,122.10232543945312,131.15408325195312,119.87737274169922,117.49867248535156,122.29418182373047,132.3040008544922,113.87533569335938,130.2428741455078,124.08113861083984,128.08175659179688,130.86619567871094,120.19818878173828,121.62886047363281,127.78334045410156,126.18126678466797,130.55032348632812,125.47444152832031,129.1148681640625,121.43418884277344,130.91336059570312,127.57878112792969,128.35028076171875,121.05660247802734,125.043701171875,115.68157958984375,127.67777252197266,129.60227966308594,122.50016021728516,128.950927734375,123.9214096069336,117.05085754394531,127.13533020019531,127.34481811523438,131.76846313476562,128.69383239746094,127.58306121826172,128.63922119140625,125.41313934326172,117.0448989868164,131.60513305664062,123.61332702636719,119.42838287353516,130.0669708251953,114.11356353759766,125.19168853759766,123.39494323730469,126.29187774658203,134.21163940429688,124.553466796875,116.78011322021484,122.54561614990234,131.322021484375,129.11131286621094,123.49475860595703,129.5010986328125,128.60316467285156,128.6920166015625,129.3568572998047,125.52926635742188,133.48101806640625,128.86790466308594,121.18980407714844,119.49893188476562,122.03863525390625,131.68780517578125,129.1709747314453,128.25071716308594,135.327392578125,122.98834228515625,130.50323486328125,115.17494201660156,127.7359619140625,133.7937774658203,131.2017822265625,129.63504028320312,119.67101287841797,129.9838409423828,129.12155151367188,129.3023223876953,128.19329833984375,112.46826171875,124.93982696533203,119.05817413330078,129.1578369140625,128.79953002929688,122.30768585205078,123.24929809570312,127.15664672851562,113.7081069946289,128.42974853515625,131.84869384765625,122.2243423461914,114.3237533569336,123.90040588378906,120.36271667480469,118.18998718261719,123.6580810546875,126.6396484375,120.88322448730469,116.92948913574219,127.58737182617188,124.11021423339844,122.68990325927734,121.13311004638672,125.99484252929688,130.7996826171875,126.12188720703125,130.97549438476562,131.84214782714844,116.09102630615234,127.5353012084961,128.94570922851562,130.31570434570312,126.01615142822266,126.02549743652344,129.00160217285156,118.80715942382812,121.91466522216797,127.63814544677734,119.36891174316406,122.20330047607422,127.2030258178711,111.2806625366211,128.35546875,126.45201873779297,123.46160125732422,128.68861389160156,128.87518310546875,124.89083099365234,120.93893432617188,127.21834564208984,128.3594207763672,126.1740951538086,128.63339233398438,122.86246490478516,128.89810180664062,129.11131286621094,124.41167449951172,130.90554809570312,115.6173095703125,128.11099243164062,125.85147094726562,126.23529052734375,132.54566955566406,131.79183959960938,120.7864990234375,130.6311798095703,128.55699157714844,129.29595947265625,125.40181732177734,127.21624755859375,125.62405395507812,134.2581787109375,118.33393096923828,117.58583068847656,130.81973266601562,116.2142562866211,130.45521545410156,128.2294158935547,127.34123229980469,121.83718872070312,126.05694580078125,130.57940673828125,121.72937774658203,125.12284851074219,131.57838439941406,113.3423843383789,125.61258697509766,134.77513122558594,118.90971374511719,126.78461456298828,123.61975860595703,116.74246978759766,119.61409759521484,129.35418701171875,118.53424835205078,122.22846984863281,127.73173522949219,114.74613189697266,123.05400085449219,114.62906646728516,128.91136169433594,122.05841827392578,125.68561553955078,127.82453155517578,124.72925567626953,120.68047332763672,135.221435546875,127.02832794189453,120.6052474975586,130.7651824951172,134.72450256347656,128.56736755371094,124.72176361083984,131.0994415283203,127.40026092529297,128.3936309814453,123.57177734375,114.85426330566406,127.52692413330078,119.40032958984375,128.65182495117188,124.54448699951172,131.95750427246094,122.2413101196289,126.48815155029297,125.11731719970703,131.4311065673828,115.08224487304688,126.34195709228516,121.38188934326172,127.38067626953125,116.32088470458984,127.19478607177734,129.13607788085938,131.61526489257812,128.0008544921875,118.33930206298828,127.9366683959961,129.7030487060547,111.80244445800781,121.51420593261719,118.25725555419922,118.6807632446289,113.40071868896484,121.78028869628906,131.88552856445312,118.72526550292969,131.62245178222656,131.18234252929688,124.51040649414062,125.6411361694336,125.91886138916016,127.93901062011719,127.13329315185547,122.40681457519531,126.27124786376953,115.15680694580078,125.12065124511719,125.5879135131836,126.38866424560547,130.11865234375,127.47306060791016,121.78425598144531,110.57291412353516,132.0615692138672,132.64808654785156,128.30804443359375,133.0161895751953,124.3484115600586,130.32077026367188,119.3365707397461,128.37916564941406,127.96710968017578,125.32920837402344,123.697021484375,116.48810577392578,109.13209533691406,120.90283203125,130.1988525390625,126.94046783447266,130.63894653320312,127.1944808959961,132.0068817138672,130.0188751220703,126.37702941894531,127.18199920654297,125.6722412109375,128.6378173828125,122.76300811767578]}},\"id\":\"98e4c01f-a23f-4ce1-818f-8c81da6f48f2\",\"type\":\"ColumnDataSource\"},{\"attributes\":{\"bottom_units\":\"screen\",\"fill_alpha\":{\"value\":0.5},\"fill_color\":{\"value\":\"lightgrey\"},\"left_units\":\"screen\",\"level\":\"overlay\",\"line_alpha\":{\"value\":1.0},\"line_color\":{\"value\":\"black\"},\"line_dash\":[4,4],\"line_width\":{\"value\":2},\"plot\":null,\"render_mode\":\"css\",\"right_units\":\"screen\",\"top_units\":\"screen\"},\"id\":\"c9781c64-40f0-4770-bbf5-868d61bbc44b\",\"type\":\"BoxAnnotation\"},{\"attributes\":{},\"id\":\"aacfcc6a-7f6f-4cdd-b9c2-e282e74878f7\",\"type\":\"BasicTickFormatter\"},{\"attributes\":{\"fill_color\":{\"value\":\"#80B1D3\"},\"line_color\":{\"value\":\"#80B1D3\"},\"line_width\":{\"value\":3},\"x\":{\"field\":\"x\"},\"y\":{\"field\":\"y\"}},\"id\":\"27ad4be2-26b2-4ec9-8e60-e00567287d6c\",\"type\":\"Circle\"},{\"attributes\":{\"callback\":null},\"id\":\"e3ee1f05-6acf-4499-a84d-dc239f72c720\",\"type\":\"DataRange1d\"},{\"attributes\":{\"plot\":{\"id\":\"891183db-4a90-4dfc-aef6-b0e01c0a553d\",\"subtype\":\"Figure\",\"type\":\"Plot\"}},\"id\":\"af612359-9869-4486-b73b-9df322852454\",\"type\":\"ResizeTool\"}],\"root_ids\":[\"891183db-4a90-4dfc-aef6-b0e01c0a553d\"]},\"title\":\"Bokeh Application\",\"version\":\"0.12.2\"}};\n",
       "            var render_items = [{\"docid\":\"7dbae40f-7dd4-4ed8-b624-1a3c5232dd28\",\"elementid\":\"dd31e97e-2603-4fe5-b706-7d74dda9e905\",\"modelid\":\"891183db-4a90-4dfc-aef6-b0e01c0a553d\"}];\n",
       "            \n",
       "            Bokeh.embed.embed_items(docs_json, render_items);\n",
       "        });\n",
       "      },\n",
       "      function(Bokeh) {\n",
       "      }\n",
       "    ];\n",
       "  \n",
       "    function run_inline_js() {\n",
       "      \n",
       "      if ((window.Bokeh !== undefined) || (force === \"1\")) {\n",
       "        for (var i = 0; i < inline_js.length; i++) {\n",
       "          inline_js[i](window.Bokeh);\n",
       "        }if (force === \"1\") {\n",
       "          display_loaded();\n",
       "        }} else if (Date.now() < window._bokeh_timeout) {\n",
       "        setTimeout(run_inline_js, 100);\n",
       "      } else if (!window._bokeh_failed_load) {\n",
       "        console.log(\"Bokeh: BokehJS failed to load within specified timeout.\");\n",
       "        window._bokeh_failed_load = true;\n",
       "      } else if (!force) {\n",
       "        var cell = $(\"#dd31e97e-2603-4fe5-b706-7d74dda9e905\").parents('.cell').data().cell;\n",
       "        cell.output_area.append_execute_result(NB_LOAD_WARNING)\n",
       "      }\n",
       "  \n",
       "    }\n",
       "  \n",
       "    if (window._bokeh_is_loading === 0) {\n",
       "      console.log(\"Bokeh: BokehJS loaded, going straight to plotting\");\n",
       "      run_inline_js();\n",
       "    } else {\n",
       "      load_libs(js_urls, function() {\n",
       "        console.log(\"Bokeh: BokehJS plotting callback run at\", now());\n",
       "        run_inline_js();\n",
       "      });\n",
       "    }\n",
       "  }(this));\n",
       "</script>"
      ]
     },
     "metadata": {},
     "output_type": "display_data"
    }
   ],
   "source": [
    "# Plotining using bokeh\n",
    "#TOOLS = [BoxSelectTool(), HoverTool()]\n",
    "#TOOLS = 'hover,box_zoom,box_select,crosshair,resize,reset,model_select,pan,save,poly_select,tap,wheel_zoom,undo'\n",
    "TOOLS = 'box_zoom,box_select,crosshair,resize,reset,lasso_select,pan,save,poly_select,tap,wheel_zoom,undo'\n",
    "p = figure(plot_width=500, plot_height=500, tools=TOOLS)\n",
    "p.scatter(Y, prediction,x=\"jjj\", marker=\"o\", color=\"#80B1D3\", line_width=3)\n",
    "p.title.align = \"center\"\n",
    "p.xaxis.axis_label = \"Measured\"\n",
    "p.xaxis.axis_label_text_color = \"#aa6666\"\n",
    "#p.xaxis.axis_label_standoff = 30\n",
    "p.xaxis.major_tick_line_color = \"firebrick\"\n",
    "p.xaxis.major_tick_line_width = 3\n",
    "p.xaxis.minor_tick_line_color = \"orange\"\n",
    "p.yaxis.axis_label = \"Predicted\"\n",
    "p.yaxis.axis_label_text_font_style = \"italic\"\n",
    "p.yaxis.axis_label_text_color = \"#aa6666\"\n",
    "p.background_fill_color = \"beige\"\n",
    "p.background_fill_alpha = 0.5\n",
    "#p.line([Y.min(), Y.max()], [Y.min(), Y.max()], line_dash=\"4 4\", line_width=2, color='red')\n",
    "\n",
    "# create a new plot with the toolbar below\n",
    "# line_dash=\"4 4\", line_width=2, color='red'\n",
    "p.line([Y.min(), Y.max()], [Y.min(), Y.max()], line_dash=\"4 4\", line_width=2, line_color=\"black\")\n",
    "show(p)"
   ]
  },
  {
   "cell_type": "code",
   "execution_count": 53,
   "metadata": {
    "collapsed": false
   },
   "outputs": [
    {
     "data": {
      "text/plain": [
       "<matplotlib.text.Text at 0x7f5096884810>"
      ]
     },
     "execution_count": 53,
     "metadata": {},
     "output_type": "execute_result"
    },
    {
     "data": {
      "image/png": "[encoded data removed]",
      "text/plain": [
       "<matplotlib.figure.Figure at 0x7f508d84c050>"
      ]
     },
     "metadata": {},
     "output_type": "display_data"
    }
   ],
   "source": [
    "plt.scatter(predicted, (predicted.T - Y), c='r', s=30)\n",
    "plt.title(\"Residual plot on the training data\")\n",
    "plt.xlabel(\"Predicted\")\n",
    "plt.ylabel(\"Residuals\")"
   ]
  },
  {
   "cell_type": "code",
   "execution_count": 54,
   "metadata": {
    "collapsed": false
   },
   "outputs": [
    {
     "data": {
      "text/html": [
       "\n",
       "\n",
       "    <div class=\"bk-root\">\n",
       "        <div class=\"plotdiv\" id=\"a662023a-c021-428a-9bf3-55ced3440720\"></div>\n",
       "    </div>\n",
       "<script type=\"text/javascript\">\n",
       "  \n",
       "  (function(global) {\n",
       "    function now() {\n",
       "      return new Date();\n",
       "    }\n",
       "  \n",
       "    var force = \"\";\n",
       "  \n",
       "    if (typeof (window._bokeh_onload_callbacks) === \"undefined\" || force !== \"\") {\n",
       "      window._bokeh_onload_callbacks = [];\n",
       "      window._bokeh_is_loading = undefined;\n",
       "    }\n",
       "  \n",
       "  \n",
       "    \n",
       "    if (typeof (window._bokeh_timeout) === \"undefined\" || force !== \"\") {\n",
       "      window._bokeh_timeout = Date.now() + 0;\n",
       "      window._bokeh_failed_load = false;\n",
       "    }\n",
       "  \n",
       "    var NB_LOAD_WARNING = {'data': {'text/html':\n",
       "       \"<div style='background-color: #fdd'>\\n\"+\n",
       "       \"<p>\\n\"+\n",
       "       \"BokehJS does not appear to have successfully loaded. If loading BokehJS from CDN, this \\n\"+\n",
       "       \"may be due to a slow or bad network connection. Possible fixes:\\n\"+\n",
       "       \"</p>\\n\"+\n",
       "       \"<ul>\\n\"+\n",
       "       \"<li>re-rerun `output_notebook()` to attempt to load from CDN again, or</li>\\n\"+\n",
       "       \"<li>use INLINE resources instead, as so:</li>\\n\"+\n",
       "       \"</ul>\\n\"+\n",
       "       \"<code>\\n\"+\n",
       "       \"from bokeh.resources import INLINE\\n\"+\n",
       "       \"output_notebook(resources=INLINE)\\n\"+\n",
       "       \"</code>\\n\"+\n",
       "       \"</div>\"}};\n",
       "  \n",
       "    function display_loaded() {\n",
       "      if (window.Bokeh !== undefined) {\n",
       "        Bokeh.$(\"#a662023a-c021-428a-9bf3-55ced3440720\").text(\"BokehJS successfully loaded.\");\n",
       "      } else if (Date.now() < window._bokeh_timeout) {\n",
       "        setTimeout(display_loaded, 100)\n",
       "      }\n",
       "    }\n",
       "  \n",
       "    function run_callbacks() {\n",
       "      window._bokeh_onload_callbacks.forEach(function(callback) { callback() });\n",
       "      delete window._bokeh_onload_callbacks\n",
       "      console.info(\"Bokeh: all callbacks have finished\");\n",
       "    }\n",
       "  \n",
       "    function load_libs(js_urls, callback) {\n",
       "      window._bokeh_onload_callbacks.push(callback);\n",
       "      if (window._bokeh_is_loading > 0) {\n",
       "        console.log(\"Bokeh: BokehJS is being loaded, scheduling callback at\", now());\n",
       "        return null;\n",
       "      }\n",
       "      if (js_urls == null || js_urls.length === 0) {\n",
       "        run_callbacks();\n",
       "        return null;\n",
       "      }\n",
       "      console.log(\"Bokeh: BokehJS not loaded, scheduling load and callback at\", now());\n",
       "      window._bokeh_is_loading = js_urls.length;\n",
       "      for (var i = 0; i < js_urls.length; i++) {\n",
       "        var url = js_urls[i];\n",
       "        var s = document.createElement('script');\n",
       "        s.src = url;\n",
       "        s.async = false;\n",
       "        s.onreadystatechange = s.onload = function() {\n",
       "          window._bokeh_is_loading--;\n",
       "          if (window._bokeh_is_loading === 0) {\n",
       "            console.log(\"Bokeh: all BokehJS libraries loaded\");\n",
       "            run_callbacks()\n",
       "          }\n",
       "        };\n",
       "        s.onerror = function() {\n",
       "          console.warn(\"failed to load library \" + url);\n",
       "        };\n",
       "        console.log(\"Bokeh: injecting script tag for BokehJS library: \", url);\n",
       "        document.getElementsByTagName(\"head\")[0].appendChild(s);\n",
       "      }\n",
       "    };var element = document.getElementById(\"a662023a-c021-428a-9bf3-55ced3440720\");\n",
       "    if (element == null) {\n",
       "      console.log(\"Bokeh: ERROR: autoload.js configured with elementid 'a662023a-c021-428a-9bf3-55ced3440720' but no matching script tag was found. \")\n",
       "      return false;\n",
       "    }\n",
       "  \n",
       "    var js_urls = [];\n",
       "  \n",
       "    var inline_js = [\n",
       "      function(Bokeh) {\n",
       "        Bokeh.$(function() {\n",
       "            var docs_json = {\"77662424-b3c5-4e90-917b-7d5be24452f4\":{\"roots\":{\"references\":[{\"attributes\":{\"plot\":{\"id\":\"1653c0da-4ad3-4258-bdda-bb5b509398c0\",\"subtype\":\"Figure\",\"type\":\"Plot\"}},\"id\":\"c21beb26-932a-40bf-afcd-0cfcbc1b612c\",\"type\":\"SaveTool\"},{\"attributes\":{\"active_drag\":\"auto\",\"active_scroll\":\"auto\",\"active_tap\":\"auto\",\"tools\":[{\"id\":\"20fddf39-8640-404e-84c8-0ccffa401516\",\"type\":\"BoxZoomTool\"},{\"id\":\"42972056-0128-40e3-bbcd-b959812b81ff\",\"type\":\"BoxSelectTool\"},{\"id\":\"908f385b-1103-4e24-9a11-8feb678b24e8\",\"type\":\"CrosshairTool\"},{\"id\":\"f49dcd84-fa67-44a5-9e63-74c29389eecf\",\"type\":\"ResizeTool\"},{\"id\":\"a3f7d676-5a05-439b-a436-19b63c2b2863\",\"type\":\"ResetTool\"},{\"id\":\"4eb096da-a140-4d40-92be-4ae8d1579173\",\"type\":\"LassoSelectTool\"},{\"id\":\"d300e7f4-0f39-4adb-b81c-c697fa460b71\",\"type\":\"PanTool\"},{\"id\":\"c21beb26-932a-40bf-afcd-0cfcbc1b612c\",\"type\":\"SaveTool\"},{\"id\":\"068e0211-4c7c-4ad3-984f-502e6a8516ce\",\"type\":\"PolySelectTool\"},{\"id\":\"bf1379b8-0f2d-4425-85d9-4b5ddecc98b5\",\"type\":\"TapTool\"},{\"id\":\"d654a997-ac3a-49b3-b1f8-e6a1b24975ff\",\"type\":\"WheelZoomTool\"},{\"id\":\"188f1222-eada-4bf7-a520-c2a476153baa\",\"type\":\"UndoTool\"}]},\"id\":\"4f242329-2967-48a3-96f2-fbb9100b3164\",\"type\":\"Toolbar\"},{\"attributes\":{\"fill_alpha\":{\"value\":0.5},\"fill_color\":{\"value\":\"lightgrey\"},\"level\":\"overlay\",\"line_alpha\":{\"value\":1.0},\"line_color\":{\"value\":\"black\"},\"line_dash\":[4,4],\"line_width\":{\"value\":2},\"plot\":null,\"xs_units\":\"screen\",\"ys_units\":\"screen\"},\"id\":\"5f372541-d165-419c-9107-7249ae0ec621\",\"type\":\"PolyAnnotation\"},{\"attributes\":{},\"id\":\"7571dcd6-a3bc-4ec5-96c6-4f07c7c7ad12\",\"type\":\"BasicTickFormatter\"},{\"attributes\":{\"callback\":null,\"plot\":{\"id\":\"1653c0da-4ad3-4258-bdda-bb5b509398c0\",\"subtype\":\"Figure\",\"type\":\"Plot\"}},\"id\":\"bf1379b8-0f2d-4425-85d9-4b5ddecc98b5\",\"type\":\"TapTool\"},{\"attributes\":{\"callback\":null,\"overlay\":{\"id\":\"5f372541-d165-419c-9107-7249ae0ec621\",\"type\":\"PolyAnnotation\"},\"plot\":{\"id\":\"1653c0da-4ad3-4258-bdda-bb5b509398c0\",\"subtype\":\"Figure\",\"type\":\"Plot\"}},\"id\":\"4eb096da-a140-4d40-92be-4ae8d1579173\",\"type\":\"LassoSelectTool\"},{\"attributes\":{\"callback\":null,\"overlay\":{\"id\":\"40b266b8-0ab3-4d6f-9b17-e436859be7d3\",\"type\":\"BoxAnnotation\"},\"plot\":{\"id\":\"1653c0da-4ad3-4258-bdda-bb5b509398c0\",\"subtype\":\"Figure\",\"type\":\"Plot\"},\"renderers\":[{\"id\":\"76a0fa3b-7fae-45ef-80b6-3e66c354dd18\",\"type\":\"GlyphRenderer\"}]},\"id\":\"42972056-0128-40e3-bbcd-b959812b81ff\",\"type\":\"BoxSelectTool\"},{\"attributes\":{\"data_source\":{\"id\":\"9a471976-0a3d-4c3a-b425-35e0ee7adf2c\",\"type\":\"ColumnDataSource\"},\"glyph\":{\"id\":\"8749dc15-9595-47ab-8568-72ab34145f90\",\"type\":\"Circle\"},\"hover_glyph\":null,\"nonselection_glyph\":{\"id\":\"6d75c6a1-1598-43d2-82e1-15f38286e587\",\"type\":\"Circle\"},\"selection_glyph\":null},\"id\":\"76a0fa3b-7fae-45ef-80b6-3e66c354dd18\",\"type\":\"GlyphRenderer\"},{\"attributes\":{\"plot\":{\"id\":\"1653c0da-4ad3-4258-bdda-bb5b509398c0\",\"subtype\":\"Figure\",\"type\":\"Plot\"}},\"id\":\"908f385b-1103-4e24-9a11-8feb678b24e8\",\"type\":\"CrosshairTool\"},{\"attributes\":{},\"id\":\"f4d9afde-9111-441f-941b-52f2a142b6ea\",\"type\":\"ToolEvents\"},{\"attributes\":{\"fill_alpha\":{\"value\":0.1},\"fill_color\":{\"value\":\"#1f77b4\"},\"line_alpha\":{\"value\":0.1},\"line_color\":{\"value\":\"#1f77b4\"},\"line_width\":{\"value\":3},\"x\":{\"field\":\"x\"},\"y\":{\"field\":\"y\"}},\"id\":\"6d75c6a1-1598-43d2-82e1-15f38286e587\",\"type\":\"Circle\"},{\"attributes\":{\"callback\":null},\"id\":\"fe857600-4abc-423a-bc9f-579c735e68d7\",\"type\":\"DataRange1d\"},{\"attributes\":{\"fill_color\":{\"value\":\"#80B1D3\"},\"line_color\":{\"value\":\"#80B1D3\"},\"line_width\":{\"value\":3},\"x\":{\"field\":\"x\"},\"y\":{\"field\":\"y\"}},\"id\":\"8749dc15-9595-47ab-8568-72ab34145f90\",\"type\":\"Circle\"},{\"attributes\":{},\"id\":\"c9f3381e-6929-4ee8-aef3-a15d54ece5c0\",\"type\":\"BasicTickFormatter\"},{\"attributes\":{\"callback\":null,\"column_names\":[\"x\",\"y\"],\"data\":{\"x\":[132.32115173339844,128.4984130859375,120.3355484008789,123.15428161621094,113.15782928466797,128.6525115966797,125.01061248779297,124.90243530273438,126.95596313476562,133.1832733154297,125.24505615234375,126.57237243652344,114.83646392822266,127.67555236816406,127.56564331054688,126.74497985839844,121.62882232666016,123.63147735595703,129.74659729003906,124.16079711914062,117.3807601928711,121.8859634399414,112.60993957519531,122.92322540283203,117.76972961425781,125.99919891357422,119.42259979248047,129.72743225097656,124.82733917236328,135.0149688720703,131.4427032470703,119.62577056884766,135.59115600585938,120.99151611328125,129.4158477783203,117.16075897216797,133.90643310546875,113.16170501708984,128.74813842773438,125.67695617675781,124.15585327148438,123.79402923583984,114.65264892578125,115.5578842163086,127.87055969238281,121.66888427734375,126.39790344238281,119.6640625,117.20687866210938,131.04910278320312,133.36558532714844,121.19905853271484,131.6196746826172,121.97979736328125,129.49581909179688,131.51339721679688,124.35690307617188,121.50074005126953,119.11944580078125,120.90377807617188,126.70226287841797,129.9388885498047,119.6482162475586,129.80276489257812,132.52114868164062,117.14405059814453,126.51023864746094,127.95326232910156,126.54362487792969,123.7742919921875,132.16004943847656,117.69523620605469,129.0338897705078,131.46633911132812,132.9541778564453,125.01282501220703,130.59109497070312,125.05033874511719,135.82643127441406,130.28651428222656,118.25908660888672,130.76461791992188,131.380126953125,113.27066040039062,121.60192108154297,111.76933288574219,125.84434509277344,126.74126434326172,119.21708679199219,127.39761352539062,128.07577514648438,125.52648162841797,115.3211441040039,127.46480560302734,124.47528076171875,129.68109130859375,131.34625244140625,131.59043884277344,121.20972442626953,130.68777465820312,124.05742645263672,130.19305419921875,119.77296447753906,126.1495361328125,122.04206848144531,122.70144653320312,131.23435974121094,124.16693878173828,126.56846618652344,119.33280944824219,128.54647827148438,122.239501953125,126.75042724609375,130.2618408203125,134.34030151367188,128.3245391845703,124.29093170166016,129.5928955078125,125.4210205078125,116.80220794677734,128.5271759033203,119.87273406982422,125.03618621826172,128.3990020751953,124.60310363769531,130.46995544433594,120.45774841308594,129.5150909423828,121.53327178955078,130.525634765625,121.6763687133789,129.38694763183594,127.75180053710938,125.33094787597656,121.3313980102539,126.7079086303711,127.68294525146484,120.86576080322266,129.03782653808594,130.9601287841797,129.5441131591797,129.3660430908203,127.77176666259766,126.48609924316406,129.04324340820312,130.0173797607422,120.07316589355469,128.7099151611328,129.64881896972656,132.1374053955078,129.6934051513672,123.43486022949219,118.79344177246094,126.20214080810547,118.56703186035156,131.21969604492188,132.0311737060547,128.60235595703125,125.78475952148438,121.44589233398438,123.63839721679688,121.30215454101562,119.96956634521484,120.31710815429688,123.18685150146484,112.58614349365234,130.23582458496094,129.44886779785156,128.5880126953125,130.79551696777344,128.9246063232422,119.20660400390625,125.5584945678711,125.54594421386719,120.92811584472656,127.20463562011719,114.08689880371094,128.35443115234375,128.04457092285156,128.10557556152344,115.20037078857422,120.20234680175781,131.54898071289062,125.23281860351562,130.93545532226562,122.70751953125,126.5728988647461,127.8416748046875,128.062744140625,129.513671875,122.60820770263672,118.87601470947266,129.4414825439453,128.6219024658203,120.51226043701172,127.1088638305664,114.5341567993164,117.48646545410156,132.19471740722656,128.36868286132812,126.620849609375,129.61500549316406,128.796142578125,117.88758850097656,124.6059799194336,118.27156829833984,117.37487030029297,130.0135498046875,106.52082824707031,130.6486053466797,125.43465423583984,128.60496520996094,128.34230041503906,131.7152862548828,127.04623413085938,129.3502197265625,117.01005554199219,121.03926086425781,124.94925689697266,119.22166442871094,127.01092529296875,128.73597717285156,112.28904724121094,116.79334259033203,125.23323822021484,124.13628387451172,131.95896911621094,130.3227996826172,116.01853942871094,130.04013061523438,124.77008056640625,130.77960205078125,129.28611755371094,122.9991683959961,121.1591567993164,129.37692260742188,130.2375946044922,130.4957733154297,117.68788146972656,131.45997619628906,130.24366760253906,123.89339447021484,126.90115356445312,129.6820831298828,117.97735595703125,127.52738952636719,126.01048278808594,124.8520278930664,132.2884521484375,130.53077697753906,130.57382202148438,127.60749816894531,121.56605529785156,128.0570831298828,135.48321533203125,130.11573791503906,126.2342300415039,127.5441665649414,130.4729461669922,127.43022918701172,120.45955657958984,119.81138610839844,119.14057922363281,127.14306640625,123.72085571289062,125.0251693725586,133.6181182861328,115.62329864501953,115.9895248413086,129.1320037841797,116.11715698242188,128.5840301513672,113.48458862304688,131.09739685058594,130.0682373046875,121.8262939453125,126.0210189819336,120.35256958007812,129.24197387695312,128.19969177246094,123.79234313964844,130.45594787597656,122.48137664794922,126.47237396240234,124.54370880126953,119.06881713867188,127.9153823852539,132.3390655517578,112.32107543945312,130.7140655517578,126.81389617919922,127.1744155883789,118.44358825683594,123.43669891357422,127.82987213134766,121.86083221435547,134.65794372558594,125.02625274658203,124.88516998291016,126.27970886230469,128.43577575683594,134.0350341796875,128.17413330078125,123.665283203125,125.57921600341797,121.11017608642578,120.18959045410156,130.75741577148438,126.38339233398438,126.6424560546875,128.01324462890625,131.6553955078125,124.29369354248047,130.03286743164062,125.20246124267578,130.4748992919922,127.22909545898438,129.03233337402344,123.25213623046875,129.74899291992188,130.17355346679688,117.19708251953125,132.53762817382812,107.20743560791016,114.45347595214844,127.26969146728516,120.90642547607422,120.73580169677734,122.17005157470703,116.04022216796875,113.33467864990234,114.4281234741211,125.8301773071289,127.74921417236328,129.20416259765625,112.39350128173828,110.65241241455078,113.86100769042969,124.88020324707031,130.11068725585938,128.4230499267578,125.76570129394531,127.2791976928711,119.94611358642578,130.05296325683594,125.38482666015625,128.5657501220703,129.4219207763672,126.90699768066406,121.15754699707031,124.08731842041016,113.22682189941406,111.17656707763672,125.45059204101562,132.11354064941406,129.39495849609375,130.1102294921875,127.53115844726562,129.74392700195312,132.29425048828125,125.70988464355469,132.21786499023438,123.83431243896484,125.5339126586914,128.2128448486328,130.8094940185547,119.29718017578125,130.50836181640625,132.48252868652344,128.49952697753906,125.41658782958984,130.15823364257812,118.2083740234375,128.4189910888672,126.91230773925781,133.83189392089844,118.67713928222656,127.21510314941406,118.74220275878906,129.2864227294922,125.6975326538086,118.5342025756836,129.28924560546875,132.074462890625,127.2902603149414,129.0854034423828,125.08672332763672,121.55923461914062,127.67796325683594,129.16079711914062,111.47752380371094,123.68244171142578,126.71988677978516,130.5299072265625,128.5573272705078,115.41126251220703,122.15853881835938,119.37458038330078,119.21739959716797,116.94046783447266,118.42724609375,115.6785659790039,120.90678405761719,124.80883026123047,130.0036163330078,131.98013305664062,126.33712768554688,132.1259002685547,128.32562255859375,127.9425277709961,111.6519546508789,116.60604858398438,122.84188079833984,129.8050537109375,109.92713165283203,128.5667724609375,124.4190673828125,130.96795654296875,126.62135314941406,118.62369537353516,129.56280517578125,120.4731216430664,124.47277069091797,130.68435668945312,126.95789337158203,125.57252502441406,123.27662658691406,127.92728424072266,131.51454162597656,128.7490692138672,127.01416015625,123.9322738647461,121.56656646728516,122.41875457763672,123.60926818847656,127.84033203125,115.31524658203125,131.2734832763672,126.77168273925781,117.6552963256836,128.15670776367188,130.76060485839844,127.58226776123047,120.40772247314453,123.07470703125,132.67153930664062,126.72508239746094,132.49322509765625,123.22080993652344,129.4685516357422,122.77212524414062,120.46521759033203,127.41365814208984,124.39196014404297,125.82515716552734,109.71065521240234,117.207763671875,128.82156372070312,126.69760131835938,130.48025512695312,127.2167739868164,127.25777435302734,130.37631225585938,122.52072143554688,122.86970520019531,127.45111083984375,126.24493408203125,130.28480529785156,129.76873779296875,126.18267059326172,133.2083282470703,126.87726593017578,129.38316345214844,127.76018524169922,131.261962890625,125.82698059082031,126.48529815673828,119.96920776367188,129.46835327148438,117.39191436767578,130.3410186767578,123.38916015625,127.0887680053711,125.37830352783203,126.26519775390625,128.97763061523438,131.27992248535156,122.53954315185547,123.10871124267578,123.67034912109375,124.64883422851562,131.0543975830078,125.97379302978516,126.02892303466797,127.94290161132812,128.03065490722656,128.74807739257812,122.31891632080078,129.2312469482422,125.5033187866211,125.34803771972656,131.2189178466797,125.81798553466797,122.02909088134766,130.6645965576172,126.23699188232422,128.13558959960938,125.51203918457031,127.33489990234375,113.91107177734375,125.27758026123047,128.08917236328125,130.81680297851562,119.37483978271484,115.64315032958984,123.28077697753906,126.34977722167969,115.7889404296875,128.41973876953125,128.82302856445312,125.9263687133789,133.63143920898438,136.06341552734375,122.50238800048828,127.17407989501953,128.91677856445312,130.49537658691406,119.04842376708984,111.3288803100586,111.23539733886719,117.74561309814453,128.77838134765625,115.5312728881836,129.8241424560547,126.9262924194336,120.99623107910156,124.0118637084961,123.94681549072266,114.27674102783203,123.75594329833984,125.61788177490234,130.35060119628906,125.92182159423828,112.3521957397461,126.09439849853516,129.72496032714844,126.93199157714844,127.653076171875,127.97050476074219,123.25709533691406,113.00440216064453,122.86460876464844,127.71359252929688,113.87641143798828,120.53983306884766,120.74605560302734,128.9878387451172,121.31819915771484,119.94390869140625,127.19387817382812,127.97545623779297,131.58035278320312,116.745849609375,130.7845458984375,124.52320861816406,131.70736694335938,128.42433166503906,130.2661590576172,126.78900146484375,128.0194854736328,115.36216735839844,124.60728454589844,120.38985443115234,128.25177001953125,126.17955780029297,124.71796417236328,126.9335708618164,131.4544219970703,120.436767578125,129.9601287841797,128.90869140625,125.50245666503906,127.75540924072266,125.82306671142578,126.69622802734375,126.54325866699219,134.65460205078125,127.7244644165039,123.419189453125,127.79025268554688,124.54652404785156,115.47964477539062,128.71743774414062,126.5492172241211,127.6031723022461,130.01368713378906,130.30264282226562,126.23684692382812,119.17080688476562,128.48919677734375,125.27490997314453,122.8725357055664,122.08009338378906,126.89823913574219,117.33917236328125,132.3402862548828,128.27835083007812,127.09922790527344,118.57637023925781,124.27921295166016,129.61463928222656,128.0932159423828,121.03736877441406,128.1373748779297,129.04083251953125,116.19574737548828,130.5963592529297,125.64148712158203,117.01690673828125,119.38935089111328,111.54016876220703,129.5273895263672,123.7945785522461,132.73104858398438,125.39216613769531,128.53106689453125,117.48808288574219,123.39634704589844,126.24857330322266,126.31466674804688,127.31990051269531,129.1581268310547,124.84212493896484,126.96501159667969,123.03904724121094,116.7439956665039,125.30921936035156,126.99014282226562,122.81979370117188,134.53408813476562,128.72421264648438,115.18738555908203,128.91983032226562,128.47207641601562,126.70211029052734,131.0097198486328,127.5931396484375,124.92408752441406,128.41397094726562,127.00764465332031,111.2357406616211,132.41860961914062,118.61695098876953,116.60665130615234,115.60553741455078,124.58001708984375,107.9454574584961,125.7361831665039,128.60791015625,126.57618713378906,125.49657440185547,129.2650604248047,112.34600067138672,123.32502746582031,127.01022338867188,128.24569702148438,128.69189453125,122.39112091064453,113.40829467773438,122.79292297363281,123.01531982421875,126.38788604736328,125.20146942138672,127.87604522705078,128.96994018554688,129.50930786132812,125.68360137939453,125.22163391113281,127.52946472167969,132.0808563232422,129.9474639892578,128.0023193359375,132.1444091796875,127.71402740478516,127.86255645751953,119.51023864746094,121.1671142578125,122.61050415039062,126.9951400756836,120.74217224121094,122.1465072631836,131.85653686523438,118.85795593261719,116.46720123291016,132.73806762695312,127.63397216796875,128.71734619140625,128.30902099609375,132.701171875,127.09226989746094,130.9405517578125,129.11044311523438,113.67884063720703,126.08485412597656,125.12505340576172,112.5428695678711,128.9058380126953,122.76073455810547,106.8626480102539,112.72161102294922,124.83404541015625,123.85275268554688,123.87260437011719,130.2707977294922,132.08590698242188,125.87431335449219,128.14373779296875,120.02897644042969,126.40142822265625,127.957763671875,123.90705871582031,126.14667510986328,112.37913513183594,122.19010162353516,118.98933410644531,111.6661376953125,130.90431213378906,129.02633666992188,131.19290161132812,125.79786682128906,114.62921142578125,131.06724548339844,125.17179107666016,129.6785430908203,133.7226104736328,127.7125473022461,124.46536254882812,127.72655487060547,128.22952270507812,127.94783782958984,125.52821350097656,126.17456817626953,116.59168243408203,129.23788452148438,131.27442932128906,123.21601104736328,126.57196807861328,127.54922485351562,133.9314727783203,126.96650695800781,127.56832122802734,132.09303283691406,128.09036254882812,130.90960693359375,129.3535919189453,117.60414123535156,121.75038146972656,128.61773681640625,133.4362030029297,114.52156066894531,117.81890106201172,118.95865631103516,125.88618469238281,109.58795166015625,114.9966049194336,125.9554672241211,125.70945739746094,131.1275177001953,130.10182189941406,115.78440856933594,120.07527923583984,123.67571258544922,123.00713348388672,127.6169662475586,134.4366912841797,129.7903289794922,112.40779113769531,130.595458984375,122.06873321533203,124.83229064941406,121.03559112548828,118.249755859375,128.51361083984375,119.73756408691406,125.32218933105469,131.10887145996094,122.15699005126953,110.43019104003906,127.96179962158203,126.78142547607422,127.03470611572266,128.84860229492188,129.94390869140625,127.5171127319336,114.86270141601562,126.47136688232422,129.37977600097656,124.31629943847656,122.79464721679688,128.77207946777344,124.8301010131836,126.16504669189453,122.58916473388672,125.5820541381836,125.18132019042969,131.8760986328125,131.87120056152344,123.92986297607422,123.16751098632812,120.66412353515625,123.31159210205078,132.6313018798828,128.12779235839844,132.75538635253906,114.53438568115234,131.25486755371094,125.14718627929688,126.46987915039062,129.3435516357422,124.98664093017578,132.57749938964844,123.98050689697266,110.27338409423828,133.20562744140625,127.3946533203125,126.43753814697266,126.52539825439453,120.81745147705078,132.5556182861328,121.16581726074219,123.71078491210938,128.18527221679688,123.55772399902344,116.95013427734375,128.87254333496094,119.32560729980469,129.3027801513672,128.6666717529297,120.08748626708984,118.70596313476562,117.8970947265625,114.35192108154297,127.3887939453125,109.3187484741211,128.69735717773438,126.3879623413086,123.95845031738281,123.98707580566406,126.04774475097656,125.44998931884766,125.58534240722656,132.18527221679688,126.2436752319336,123.20243835449219,124.65158081054688,124.9956283569336,125.45526123046875,125.0986557006836,124.79389953613281,126.13054656982422,128.49388122558594,120.20305633544922,128.1758270263672,126.54759979248047,123.03263854980469,129.87197875976562,123.8885726928711,120.2809066772461,120.48988342285156,128.27316284179688,126.90650939941406,122.38804626464844,122.72100830078125,111.47100830078125,123.83931732177734,127.80777740478516,128.85389709472656,129.9522705078125,127.423095703125,127.65026092529297,124.40643310546875,127.76676940917969,121.40953826904297,124.70052337646484,118.52853393554688,123.86294555664062,121.79479217529297,120.91144561767578,124.86483764648438,127.86369323730469,127.28536224365234,116.80473327636719,125.8630142211914,131.4086151123047,130.58526611328125,122.27574157714844,114.57796478271484,132.87274169921875,118.20988464355469,128.66961669921875,123.10303497314453,121.24576568603516,131.25392150878906,120.27719116210938,132.23760986328125,128.42689514160156,125.66350555419922,129.78089904785156,126.0480728149414,126.33007049560547,130.3120880126953,127.49652099609375,122.84190368652344,129.51513671875,111.32621765136719,124.11515808105469,127.26974487304688,123.5948486328125,130.0486602783203,127.27349853515625,130.98553466796875,114.018798828125,120.76644897460938,130.12689208984375,127.43523406982422,126.67758178710938,114.21085357666016,130.7266082763672,121.30848693847656,128.3455047607422,118.133544921875,127.16000366210938,122.10232543945312,131.15408325195312,119.87737274169922,117.49867248535156,122.29418182373047,132.3040008544922,113.87533569335938,130.2428741455078,124.08113861083984,128.08175659179688,130.86619567871094,120.19818878173828,121.62886047363281,127.78334045410156,126.18126678466797,130.55032348632812,125.47444152832031,129.1148681640625,121.43418884277344,130.91336059570312,127.57878112792969,128.35028076171875,121.05660247802734,125.043701171875,115.68157958984375,127.67777252197266,129.60227966308594,122.50016021728516,128.950927734375,123.9214096069336,117.05085754394531,127.13533020019531,127.34481811523438,131.76846313476562,128.69383239746094,127.58306121826172,128.63922119140625,125.41313934326172,117.0448989868164,131.60513305664062,123.61332702636719,119.42838287353516,130.0669708251953,114.11356353759766,125.19168853759766,123.39494323730469,126.29187774658203,134.21163940429688,124.553466796875,116.78011322021484,122.54561614990234,131.322021484375,129.11131286621094,123.49475860595703,129.5010986328125,128.60316467285156,128.6920166015625,129.3568572998047,125.52926635742188,133.48101806640625,128.86790466308594,121.18980407714844,119.49893188476562,122.03863525390625,131.68780517578125,129.1709747314453,128.25071716308594,135.327392578125,122.98834228515625,130.50323486328125,115.17494201660156,127.7359619140625,133.7937774658203,131.2017822265625,129.63504028320312,119.67101287841797,129.9838409423828,129.12155151367188,129.3023223876953,128.19329833984375,112.46826171875,124.93982696533203,119.05817413330078,129.1578369140625,128.79953002929688,122.30768585205078,123.24929809570312,127.15664672851562,113.7081069946289,128.42974853515625,131.84869384765625,122.2243423461914,114.3237533569336,123.90040588378906,120.36271667480469,118.18998718261719,123.6580810546875,126.6396484375,120.88322448730469,116.92948913574219,127.58737182617188,124.11021423339844,122.68990325927734,121.13311004638672,125.99484252929688,130.7996826171875,126.12188720703125,130.97549438476562,131.84214782714844,116.09102630615234,127.5353012084961,128.94570922851562,130.31570434570312,126.01615142822266,126.02549743652344,129.00160217285156,118.80715942382812,121.91466522216797,127.63814544677734,119.36891174316406,122.20330047607422,127.2030258178711,111.2806625366211,128.35546875,126.45201873779297,123.46160125732422,128.68861389160156,128.87518310546875,124.89083099365234,120.93893432617188,127.21834564208984,128.3594207763672,126.1740951538086,128.63339233398438,122.86246490478516,128.89810180664062,129.11131286621094,124.41167449951172,130.90554809570312,115.6173095703125,128.11099243164062,125.85147094726562,126.23529052734375,132.54566955566406,131.79183959960938,120.7864990234375,130.6311798095703,128.55699157714844,129.29595947265625,125.40181732177734,127.21624755859375,125.62405395507812,134.2581787109375,118.33393096923828,117.58583068847656,130.81973266601562,116.2142562866211,130.45521545410156,128.2294158935547,127.34123229980469,121.83718872070312,126.05694580078125,130.57940673828125,121.72937774658203,125.12284851074219,131.57838439941406,113.3423843383789,125.61258697509766,134.77513122558594,118.90971374511719,126.78461456298828,123.61975860595703,116.74246978759766,119.61409759521484,129.35418701171875,118.53424835205078,122.22846984863281,127.73173522949219,114.74613189697266,123.05400085449219,114.62906646728516,128.91136169433594,122.05841827392578,125.68561553955078,127.82453155517578,124.72925567626953,120.68047332763672,135.221435546875,127.02832794189453,120.6052474975586,130.7651824951172,134.72450256347656,128.56736755371094,124.72176361083984,131.0994415283203,127.40026092529297,128.3936309814453,123.57177734375,114.85426330566406,127.52692413330078,119.40032958984375,128.65182495117188,124.54448699951172,131.95750427246094,122.2413101196289,126.48815155029297,125.11731719970703,131.4311065673828,115.08224487304688,126.34195709228516,121.38188934326172,127.38067626953125,116.32088470458984,127.19478607177734,129.13607788085938,131.61526489257812,128.0008544921875,118.33930206298828,127.9366683959961,129.7030487060547,111.80244445800781,121.51420593261719,118.25725555419922,118.6807632446289,113.40071868896484,121.78028869628906,131.88552856445312,118.72526550292969,131.62245178222656,131.18234252929688,124.51040649414062,125.6411361694336,125.91886138916016,127.93901062011719,127.13329315185547,122.40681457519531,126.27124786376953,115.15680694580078,125.12065124511719,125.5879135131836,126.38866424560547,130.11865234375,127.47306060791016,121.78425598144531,110.57291412353516,132.0615692138672,132.64808654785156,128.30804443359375,133.0161895751953,124.3484115600586,130.32077026367188,119.3365707397461,128.37916564941406,127.96710968017578,125.32920837402344,123.697021484375,116.48810577392578,109.13209533691406,120.90283203125,130.1988525390625,126.94046783447266,130.63894653320312,127.1944808959961,132.0068817138672,130.0188751220703,126.37702941894531,127.18199920654297,125.6722412109375,128.6378173828125,122.76300811767578],\"y\":[5.115151733398434,-7.785586914062492,2.8315484008789156,0.8132816162109293,-0.8841707153320328,-6.42648840332032,-2.222387512207021,1.213435302734382,8.95096313476563,-2.162726684570316,-1.2889438476562418,-8.795627563476557,2.877463928222653,1.85955236816406,7.944643310546866,-5.29402014160155,3.2638223266601614,-1.1165226440429592,17.240597290039062,1.785797119140625,-3.1242398071289017,0.5709634399414085,3.355939575195322,3.418225402832036,-0.44427038574218614,1.6441989135742148,3.512599792480472,-9.710567749023426,0.33433917236328625,5.334968872070306,-3.0902967529296745,5.316770568847659,6.141156005859386,4.580516113281249,11.286847778320322,-1.5512410278320345,2.0704331054687373,2.2567050170898426,-0.8208615722656134,1.4039561767578164,-4.87114672851564,-1.0579707641601601,-1.026351074218752,-2.0661157836914015,0.743559692382803,2.29388427734375,7.327903442382819,0.7230624999999975,3.8738786621093766,3.349102783203122,1.9095853271484202,-0.2859414672851557,1.8196746826171761,-5.060202636718756,-4.504180908203125,2.739397216796874,-0.09309692382812784,-3.342259948730458,4.219445800781244,2.14677807617187,-1.6517371215820162,-0.25811145019531523,1.5032162475585977,-3.2942351074218834,6.795148681640626,0.9030505981445316,2.340238647460936,12.096262329101549,-3.421375122070316,2.375291992187499,11.394049438476557,-0.4267637939453266,-3.4791102294921927,-0.837660888671877,5.3161778564453215,0.45782501220702443,1.6350949707031077,-1.7846612548828062,4.8664312744140545,1.7245142822265507,2.396086608886719,4.369617919921879,-2.3758730468750002,0.16266040039063512,0.3009210815429668,-2.188667114257811,1.4983450927734339,-10.144735656738277,2.1800867919921814,-4.238386474609371,-3.035224853515615,-3.8035183715820438,2.518144104003909,-1.0711943969726576,-9.298719238281251,-4.591908691406246,8.264252441406242,2.6634388427734166,4.0907244262695315,-3.8682253417968866,-3.1215735473632833,-3.4049458007812348,-2.2710355224609344,-2.779463867187502,0.1530684814453167,-6.713553466796867,1.111359741210947,3.938938781738287,-2.288533813476562,4.253809448242194,0.028478271484374318,-1.9144980468749964,-2.5055727539062502,-0.5191591796875059,10.184301513671869,-6.243460815429671,2.2029317016601624,-1.7201044921874882,1.4560205078124966,-4.117792053222658,-5.121824096679688,3.577734069824217,-10.637813781738288,-1.7959979248046807,-4.963896362304695,11.17595544433594,-5.257251586914066,-7.717909057617192,4.684271789550792,5.833634765624993,4.982368713378904,-0.9530523681640659,-3.4531994628906375,-0.8580521240234305,1.6613980102539045,-0.2980913696289065,-3.2510547485351537,-0.633239196777339,1.241826538085931,-3.307871215820313,-6.486886840820318,-2.551956909179694,-6.018233337402336,-3.812900756835944,-4.311756591796865,-4.0936202392578025,4.7521658935546895,-4.302084838867188,1.0018189697265427,4.217405395507811,6.788405151367186,-5.850139770507809,2.568441772460943,-6.227859191894538,3.333031860351568,5.8186960449218645,4.637173706054696,-2.7436440429687536,3.172759521484366,-0.8691076660156227,2.5793972167968775,-3.001845458984377,-2.065433654785153,4.658108154296883,-2.368148498535163,0.572143493652348,-1.9661754150390607,13.602867797851559,9.993012695312501,-7.727483032226559,-1.1893936767578168,2.6036040039062556,-4.833505432128902,3.756944213867186,-1.5068841552734398,-7.023364379882793,0.5948988037109331,0.22743115234374045,16.13357092285156,2.5785755615234365,-1.0286292114257805,-0.6536531982421963,4.192980712890616,-11.793181396484385,1.8974553222656425,-3.3894804687500084,-0.4811011352539083,-1.3053251953125198,-5.95925585937502,-4.3803281250000055,2.1502077026367203,-1.5959852905273522,-3.4565174560546836,1.613902465820317,0.028260437011724093,-3.78913616943359,2.4951567993164048,-1.34053454589845,12.116717407226574,2.173682861328132,0.8928496093750056,9.478005493164062,-6.437857421875009,-0.92841149902344,2.946979919433602,1.1845682983398405,2.447870300292962,-3.4664501953124898,-0.7461717529296976,3.7506053466796914,5.110654235839846,-3.5290347900390486,18.391300415039055,5.116286254882823,0.4042341308593649,0.23321972656248136,-0.14094445800782296,3.6072608642578103,-0.9177431030273482,0.25766442871093886,-0.6650747070312519,-4.47502282714845,1.774047241210937,2.239342590332029,-8.060761779785139,3.7822838745117195,5.667969116210941,2.7927996826171864,-1.1354605712890589,2.1371306152343834,5.815080566406252,2.3786020507812395,0.45711755371092977,-5.545831604003894,4.025156799316406,-5.787077392578112,-4.325405395507801,-3.614226684570326,1.0108814697265558,-1.5500238037109284,0.29066760253905954,-3.303605529785159,-2.650846435546896,1.9860831298828145,-0.0676440429687517,-9.540610473632796,-1.7425172119140484,-6.9559721069335865,7.234452148437498,-4.465223022460947,-1.4761779785156364,1.0934981689453167,2.4310552978515574,-1.8319168701171975,-1.523784667968755,-9.802262084960944,1.8392300415039102,0.14616656494141012,-2.5500538330078086,-2.918770812988271,1.7165565795898488,-0.042613891601561704,1.0905792236328153,-0.18593359374999352,-2.3281442871093674,-1.090830627441406,-1.6088817138671914,2.7752986450195323,3.724524841308593,-4.635996215820313,0.1481569824218809,-0.17796984863281295,0.7855886230468769,5.156396850585935,-5.1797626953124905,5.103293945312501,8.635018981933584,1.788569580078132,1.1559738769531123,3.154691772460936,-2.953656860351572,7.689947875976557,-5.783623352050768,-3.396626037597656,1.7727088012695305,0.07081713867188455,-4.970617614746089,-2.486934448242181,3.9140754394531143,3.1500655517578195,0.07789617919921454,-3.4545844116210844,0.4195882568359366,2.473698913574225,-5.241127868652342,-2.856167785644544,3.5979437255859352,0.6332527465820448,-0.7038300170898424,1.0597088623046886,4.434775756835933,6.959034179687492,1.3361333007812561,-0.07671679687500443,1.8182160034179589,2.6691760864257787,4.8855904541015605,-0.3715842285156157,-1.9286076660156368,2.030456054687491,-3.7937553710937664,-0.43960449218749886,2.1926935424804697,-5.920132568359378,5.1444612426757885,-4.833100708007805,4.818095458984374,-2.4206666259765655,1.8451362304687393,1.2569929199218564,-3.6724465332031286,4.988082519531247,2.202628173828117,-0.7775643920898432,-1.3645240478515603,-12.158308532714841,0.6774254760742195,2.3928016967773544,-1.274948425292962,3.0362221679687593,6.454678649902348,-1.6798765258788961,-1.8798226928710875,-0.9547858276367265,-4.444837402343751,1.043501281738287,-0.0365875854492117,-0.7729923095703128,-12.195796752929681,1.0576872558593777,-5.163950073242205,-9.558298706054671,-3.5378023071289135,4.8611135864257875,3.1669632568359276,-6.919173339843752,3.7307501220703188,-4.914079223632825,1.016997680664062,-2.3564530029296833,6.176318420410155,-1.247178100585927,2.911567077636718,-2.4774079589843723,0.679540649414065,7.247958496093744,-2.6587705078125055,-2.2458415527343902,-4.7540729980468655,16.166250488281264,2.2938846435546907,8.096864990234366,-1.368687561035145,-5.311087341308593,17.721844848632813,1.4664940185546982,3.077180175781251,2.3643618164062445,9.692528686523431,-1.6564730224609434,3.483587829589851,6.884233642578124,-0.2016259765624966,-5.921008911132816,2.6793077392578226,-3.00510607910158,3.8161392822265583,-2.833896850585944,-2.043797241210939,9.967422729492185,-2.637467346191414,4.05720257568359,5.654245605468745,-4.751537109374993,-3.1867396850585976,-0.03059655761720137,-1.7392766723632889,1.5042346191406182,0.925963256835928,0.15679711914063432,2.756523803710934,-1.5785582885742286,-7.070113220214836,0.19790722656250637,-3.626672729492185,0.19626251220702784,-2.828461181640634,2.087580383300775,-1.5806004028320189,-2.194532165527349,1.7032460937500105,2.990565979003918,-0.4062159423828007,4.362830261230471,-5.480383666992196,-2.449866943359382,-4.453872314453122,0.4009002685546932,4.788622558593744,-2.517472229003914,5.391954650878901,-0.8589514160156284,3.847880798339844,1.515053710937508,3.3451316528320234,0.3227724609375002,-1.1839326171874944,3.866956542968751,-2.0766468505859166,-1.0223046264648445,-0.40119482421874864,-2.2508783569335833,-5.592229309082029,1.0173566894531234,-0.5901066284179564,-2.828474975585948,-3.3673734130859287,-1.5727157592773438,1.3665416259765664,-3.364930786132817,-3.9508398437500034,0.23727386474610057,3.2755664672851594,0.20075457763672944,-1.0757318115234398,-0.47066796875000705,1.4572465820312601,-1.3145167236328064,11.627682739257821,1.4712963256835963,4.844707763671863,14.68660485839844,1.5842677612304783,1.1997224731445328,2.986707031250006,-2.3154606933593698,1.5310823974609349,16.12722509765625,1.0048099365234293,-7.329448364257814,1.4881252441406332,-2.9777824096679666,-2.2313418579101665,1.5469601440429699,-2.293842834472656,0.7196552124023441,3.9197636718750033,-3.5354362792968743,1.1986013183593798,6.077255126953133,1.8187739868164101,-4.745225646972642,0.8013122558593864,2.459721435546868,-6.805294799804699,9.484110839843737,-0.809065917968752,9.130805297851566,-0.9532622070312584,0.5576705932617188,-3.8386717529296845,-0.2177340698242176,-2.587836547851566,-5.392814758300773,-1.092037109374985,-1.4880194091796852,2.4942981567382816,2.365207763671876,-3.1186467285156425,1.7469143676757852,3.0900186767578077,-2.434839843749998,-1.716231994628913,-0.9646964721679581,-7.981802246093764,-4.229369384765619,-5.927077514648431,0.5955431518554661,2.5537112426757744,2.1853491210937506,-1.8911657714843813,-7.068602416992178,-5.822206970214836,0.3079230346679651,-4.668098388671865,-7.5093450927734295,4.869077392578134,0.14891632080077954,0.22924694824217795,0.30231878662108613,1.4860377197265535,-3.651082153320317,1.7689855346679764,-3.8279091186523573,-2.536403442382806,1.7979918823242258,-1.1724104003906177,0.8470391845703062,-3.6261000976562627,5.877071777343758,1.2535802612304678,-3.144827636718759,11.303802978515634,1.4998397827148438,-2.469849670410156,-2.258223022460939,-0.26622277832031216,-1.0260595703124977,5.654738769531249,-2.1919714355468614,-4.342631286621099,-1.4385607910156182,2.3564155273437564,2.178388000488283,-4.407920104980462,0.4817785644531227,-0.19262341308592568,4.630423767089852,0.4238803100585926,3.2013973388671957,4.800613098144538,-2.4056186523437475,-0.8857271118164078,-3.2378575439453243,-2.726707580566398,-3.6477689208984287,-3.431136291503904,-2.4991845092773417,5.592741027832034,-0.07905670166015,1.9948817749023533,1.9236011962890416,-0.618178405761725,-0.7768042602538969,1.7563984985351624,3.5299603271484443,-5.2260084228515495,-2.6539238281250164,-4.280495239257817,1.4820953369140568,1.4704021606445394,-1.7603912353515625,-5.484407470703104,1.6354114379882816,0.0058330688476644355,-2.379944396972661,3.1158387451171734,2.2071991577148395,-0.6630913085937635,-2.297121826171889,-1.0145437622070403,-3.365647216796873,-0.1741503906250017,8.492545898437498,-1.1077913818359377,2.9893669433593857,-1.0436683349609268,-7.3918409423827995,3.698001464843742,-5.154514526367194,2.3071673583984307,-0.7457154541015569,1.1608544311523445,1.4617700195312437,-1.9594421997070413,-1.7530358276367224,-2.699429138183575,2.7414219970703186,0.804767578124995,-0.683871215820318,8.761691406249994,-4.273543334960948,-2.9145907592773312,1.3110667114257808,-2.0107719726562436,-4.179741333007797,9.52760205078124,-3.8435355834960774,-1.9238105468749893,-1.5387473144531327,1.5095240478515564,0.1076447753906109,11.522437744140632,5.314217224121094,5.153172302246091,-3.2163128662109273,-1.6523571777343875,-4.54015307617189,-3.2421931152343717,1.4501967773437485,0.6279099731445257,5.394535705566412,2.3430933837890535,-4.616760864257799,-4.317827636718761,13.644286254882815,-7.645649169921882,0.750227905273448,-0.647629760742177,-0.15878704833983193,-2.6563607177734525,-0.9637840576172039,2.9463687744140543,-4.904625122070314,-6.288167480468758,3.1617473754882894,2.421359252929676,0.32248712158202864,-1.0010932617187365,-1.163649108886716,-0.5988312377929645,-3.2686104736328048,3.262578552246083,3.583048583984379,-1.0648338623046953,-4.719933105468755,-3.0249171142578035,1.0253470458984282,2.3835733032226614,-3.7743332519531236,-2.8530994873046893,-0.7788731689453243,-6.9748750610351635,-5.183988403320313,0.6450472412109463,2.1749956665039036,-3.0357806396484364,-3.8788571777343748,3.7807937011718735,6.587088134765622,1.7582126464843668,-1.9226144409179682,-2.526169677734373,-2.801923583984376,-7.105889709472649,5.5577198486328,0.6491396484374974,1.1040875244140693,8.224970947265632,-0.7553553466796785,-3.022259338378902,1.510609619140638,1.8249509887695297,3.967651306152348,-0.559462585449225,1.526017089843748,1.7214574584961042,-0.06581683349610046,-4.424089843750011,-1.2248128662109394,3.2615744018554693,9.18906042480468,3.1240006713867103,-6.538972534179692,12.966223388671878,4.63669702148438,-2.0561054687499905,1.135120910644531,0.8672946777343782,6.641922973632802,-5.184680175781239,1.2938860473632872,2.132469421386716,-2.7119547729492126,9.163940185546878,8.914307861328126,-0.33739862060546955,1.1156339111328037,10.573464721679684,2.8108563232421773,-9.86053601074218,1.1063193359374992,7.0284091796875,9.78702740478515,-1.2364435424804583,3.32923864746094,3.242114257812503,-1.1964958496093772,-3.944859924316404,0.8541722412109465,-3.2514927368164024,6.8305368652343645,-6.869044067382816,0.3332012329101559,11.264067626953135,-4.377027832031246,5.122346191406251,-3.808979003906245,-3.8348281250000014,-1.5507301025390632,-2.495448242187507,0.13344311523437113,2.0908406372070374,5.687854125976557,3.3420534057617317,1.987869567871087,3.164838012695313,3.0527345581054703,2.732648010253911,-0.9433889770507875,-2.4649545898437424,0.4077526855468818,1.8286043701171906,5.514797729492187,2.5299069824218634,-1.8556866455078165,1.7137377929687432,5.2789764404296875,-7.656571777343743,-3.30623632812501,1.4680587158203195,-5.495324890136715,2.661135131835948,2.629101623535149,4.731334106445317,-2.1328623046874924,-4.563687866210927,-7.9146633300781275,-2.535098388671855,1.444866821289068,1.3312114257812624,-1.5277545166015614,1.817791076660157,0.18454309082031273,5.146610473632819,-2.7564526977539003,-3.950637451171872,-1.7894451293945224,-0.016477294921884322,-0.8151621704101615,-2.8367864990234466,-1.054431823730468,3.481682434082032,-1.1361154785156202,-5.308570678710936,3.5770110473632855,1.0479680786132803,-3.9927751464843766,1.0344727783202927,-13.191493041992175,-1.8086787719726658,9.445032836914066,-3.3806374511718786,-4.066393066406249,-4.698408081054708,2.191141235351566,1.2163814697265707,1.60673681640624,0.21320300292970273,4.21456066894531,2.520901062011731,1.6746563110351644,5.170184692382804,2.182951660156249,3.5376049194335906,-1.5095327758789097,-0.5895426025390549,8.189517700195324,-3.9321781005859293,5.004408569335936,-0.15172076416016012,-5.3022874145507615,-3.5298665161132874,-1.262033752441397,10.100691284179689,3.7933289794921734,2.4587911376953144,4.394458984374992,-1.1862667846679642,-6.531709350585942,-2.5284088745117117,-1.7842441406249918,0.8796108398437497,-2.672435913085934,-5.218810668945309,2.8928714599609293,0.6289900512695397,3.8261910400390633,-5.69120037841796,-4.165574523925784,-1.3252938842773574,-4.5313977050781205,1.1279086914062475,-1.2228872680664153,-1.613298583984374,-2.8246331176757735,-1.57522399902345,-4.6227005615234305,-3.7413527832031264,1.1810794677734293,2.048101013183583,-1.5209533081054758,2.3801647338867156,-0.2149458618164175,1.8773201904296855,4.468098632812513,0.4232005615234584,0.8098629760742142,2.974510986328127,-2.8008764648437534,3.6625921020507803,1.5573018798828286,-2.765207641601563,6.938386352539055,0.7593856811523381,-4.611132446289076,1.6921862792968767,-0.8451208496093727,3.1845516357421957,0.7986409301757931,6.407499389648436,3.483506896972642,-1.8956159057617157,2.377627441406247,8.978653320312503,-6.873461853027351,-3.2186017456054685,1.89545147705077,-0.8223817138671734,-2.961182739257822,0.649784912109368,-3.281727783203138,1.0867239990234339,3.9051342773437483,-6.586456665039066,-0.6193927001953057,-1.6322198486328148,-7.717328247070299,0.3104862670898427,-0.15303686523436966,2.28909472656251,0.10292108154297352,1.1707939453125107,-0.8052515258789015,1.2093571777343755,8.873962341308598,2.561450317382807,-0.2659241943359234,-4.590255249023443,1.2279893188476478,2.877342407226564,11.612272216796882,-2.663324768066417,0.28343835449219057,0.4435808105468766,2.1026283569336073,-2.8507387695312616,1.7876557006835867,-3.458100463867197,10.064546569824216,6.946881225585926,1.8180563354492136,-1.2191729736328227,-1.7914002075195299,2.277638549804692,-0.47602124023435977,4.8485726928710875,-0.8840933227539125,5.780883422851559,3.26316284179687,12.192509399414064,-2.54295373535156,0.6390083007812422,0.6320083007812514,6.511317321777355,0.5227774047851597,-3.939102905273444,9.9372705078125,1.7960957031249905,-3.840739074707045,2.521433105468745,-1.1722305908203055,0.10353826904297136,0.3065233764648525,3.062533935546867,-1.5640544433593817,-3.7912078247070298,1.561445617675787,3.22983764648437,-2.6433067626953175,-5.069637756347646,1.2137332763671793,-1.3569857788085926,4.695615112304694,-1.5007338867187627,0.648741577148428,2.2229647827148398,-1.5572583007812568,1.6498846435546852,2.8136166992187412,-7.510965026855473,-1.9312343139648505,0.017921508789072504,2.2811911621093657,4.930609863281248,-1.254104858398449,-1.174494445800775,-1.8341009521484466,1.6220728149414043,0.954070495605464,1.4340880126953266,-4.463479003906258,-5.602096313476551,-3.524863281249992,0.4582176513671925,7.3321580810547005,0.624744873046879,2.080848632812504,-5.377339721679704,-5.084501464843754,-0.4444653320312568,1.494798828124999,-1.1365510253906166,8.509892089843746,-4.484765930175769,-3.2954182128906098,-0.5401464233398485,4.5746082763671865,4.749486938476565,-2.150495239257822,0.3445449218749985,-5.9699963378906205,1.5333254394531224,1.2870832519531064,3.987372741699218,7.05167248535156,-1.9198181762695299,5.524000854492186,1.2003356933593778,-1.5641258544922039,-0.16286138916015602,1.44975659179687,0.722195678710932,0.46118878173827227,1.2098604736328156,-1.6116595458984477,-2.5267332153320297,-4.777676513671878,-4.502558471679691,-5.111131835937499,-0.9628111572265681,-5.844639404296856,-1.0542188720702939,-3.615719238281258,1.5216024780273472,0.13970117187500364,4.787579589843759,0.04577252197265125,0.46827966308595137,2.33816021728515,0.6549277343750077,-6.078590393066406,-1.0831424560546878,-3.171669799804704,-0.5541818847656259,0.7584631347656341,-0.7711676025390659,-4.371938781738294,1.6802211914062468,4.68713934326172,3.7298989868164085,10.653133056640613,-0.8066729736328142,0.26938287353516444,6.172970825195321,-0.8704364624023384,2.6526885375976548,0.21694323730469023,-5.573122253417978,2.9016394042968727,3.3284667968750057,-1.4868867797851664,0.7836161499023433,9.740021484374992,-4.129687133789076,-3.7292413940429583,-5.931901367187493,-6.0218353271484375,-1.5139833984375173,3.311857299804686,-3.065733642578124,6.676018066406243,-8.015095336914044,9.37180407714844,-0.4170681152343718,-1.3713647460937466,5.721805175781242,2.904974731445307,-7.129282836914058,6.767392578124998,2.8343422851562536,-3.4207651367187566,0.7709420166015661,-2.859038085937499,5.395777465820316,-4.9612177734374825,3.6430402832031206,0.06501287841796,6.418840942382815,-3.1304484863281345,-1.5876776123046739,3.9172983398437395,2.2442617187500105,1.1648269653320256,2.004174133300779,1.2478369140625034,1.3825300292968734,1.9886858520507786,4.0982980957031145,-6.24535327148439,3.344106994628916,1.7527485351562433,8.265693847656252,2.0353423461914133,4.059753356933598,0.5954058837890557,-0.47228332519530625,4.664987182617182,-4.188918945312508,3.6996484375000023,2.249224487304687,-1.0465108642578116,-1.2796281738281436,2.0222142333984436,-1.835096740722662,-2.9678899536132803,-1.099157470703119,2.4186826171874998,-0.37811279296875,-1.0675056152343814,2.698147827148432,0.29902630615234216,-0.10069879150391614,-4.117290771484363,-3.911295654296879,1.7621514282226656,-2.6975025634765473,-4.259397827148433,5.578159423828126,2.5716652221679794,1.5721454467773412,-1.1580882568359385,6.310300476074232,-2.1919741821289165,-0.970337463378911,-3.760531250000014,3.7730187377929667,2.227601257324224,5.271613891601561,-2.147816894531246,1.6818309936523406,-1.0570656738281343,6.452345642089838,-0.6775792236328186,5.028095153808593,6.027392333984366,-1.3035350952148406,4.0891018066406275,-2.234687133789066,0.30367449951172887,-4.584451904296884,0.22630957031249466,1.3059924316406182,-1.3945290527343843,1.0242905273437515,2.6976695556640777,0.1358395996093691,-1.9675009765624907,13.70717980957032,-5.6790084228515525,-3.532040527343753,1.3248173217773314,0.6762475585937437,-3.676946044921891,8.672178710937501,2.6429309692382787,0.276830688476565,-2.220267333984367,0.5792562866210886,2.0012154541015548,-2.991584106445316,-1.950767700195314,0.7311887207031162,-1.2610541992187478,1.2124067382812314,1.399377746582033,2.0418485107421844,12.038384399414056,3.6793843383789095,1.8725869750976614,4.702131225585958,3.1087137451171856,-1.617385437011734,-0.21924139404296739,0.7464697875976469,-4.302902404785158,-2.343812988281229,0.7492483520507847,1.3774698486328134,-2.8352647705078198,-0.15386810302734943,-4.838999145507799,5.10906646728516,-4.935638305664071,2.884418273925789,0.22061553955077784,12.363531555175783,-2.1167443237304724,5.160473327636723,7.5984355468750095,0.6723279418945225,0.5682474975585876,2.683182495117194,-3.832497436523454,1.977367553710934,2.3377636108398434,7.319441528320311,-1.4307390747070485,-2.885369018554684,-4.851222656250002,4.541263305664074,0.16892413330079137,1.6593295898437503,-2.3841750488281264,1.3554869995117258,-0.02049572753904272,-2.8656898803711073,-2.188848449707052,2.7523171997070364,-3.0468934326171677,1.9962448730468765,0.9519570922851557,2.714889343261717,-3.805323730468757,1.0098847045898367,-2.7742139282226503,3.9790778808593643,-3.322735107421863,-5.2511455078125095,4.2543020629882875,2.4646683959960853,-4.772951293945312,0.7264444580078049,-1.9517940673828207,-4.417744445800778,0.7237632446288984,2.2657186889648386,2.1822886962890635,5.399528564453121,2.1752655029296903,2.651451782226559,-0.09865747070313091,3.7314064941406286,3.9771361694335923,-1.0141386108398365,-4.9499893798828225,-4.755706848144541,-4.3361854248046825,0.2702478637695265,3.0918069458007835,8.153651245117175,3.299913513183597,-12.83733575439453,0.764652343750015,-7.717939392089846,6.475255981445315,1.9479141235351562,-0.8564307861328189,-3.1549134521484348,-1.6409555664062339,8.698189575195315,0.9564115600585836,0.009770263671867951,0.12757073974609057,-7.81183435058594,4.424109680175789,3.118208374023439,2.2660214843750026,3.154105773925778,-3.635904663085924,-0.41516796874999784,-5.824147460937496,-0.9235321655273339,-4.214053466796855,-1.0625191040039113,9.050881713867184,-7.794124877929676,2.389029418945313,-2.974000793457037,-15.314758789062495,-2.1391826171875152,0.6140081176757803]}},\"id\":\"9a471976-0a3d-4c3a-b425-35e0ee7adf2c\",\"type\":\"ColumnDataSource\"},{\"attributes\":{\"align\":\"center\",\"plot\":null,\"text\":\"Residual plot on the training data\"},\"id\":\"51e5a0f2-2d46-4306-add6-9c776b13708c\",\"type\":\"Title\"},{\"attributes\":{\"bottom_units\":\"screen\",\"fill_alpha\":{\"value\":0.5},\"fill_color\":{\"value\":\"lightgrey\"},\"left_units\":\"screen\",\"level\":\"overlay\",\"line_alpha\":{\"value\":1.0},\"line_color\":{\"value\":\"black\"},\"line_dash\":[4,4],\"line_width\":{\"value\":2},\"plot\":null,\"render_mode\":\"css\",\"right_units\":\"screen\",\"top_units\":\"screen\"},\"id\":\"c2b6b1ee-8c3e-4cdc-b107-f18326066503\",\"type\":\"BoxAnnotation\"},{\"attributes\":{\"fill_alpha\":{\"value\":0.5},\"fill_color\":{\"value\":\"lightgrey\"},\"level\":\"overlay\",\"line_alpha\":{\"value\":1.0},\"line_color\":{\"value\":\"black\"},\"line_dash\":[4,4],\"line_width\":{\"value\":2},\"plot\":null,\"xs_units\":\"screen\",\"ys_units\":\"screen\"},\"id\":\"29c18ded-49b3-44f3-ba4f-b4b0d80f0aff\",\"type\":\"PolyAnnotation\"},{\"attributes\":{},\"id\":\"c80ed1eb-ba56-4fec-b8e6-58a0e2e5a1c2\",\"type\":\"BasicTicker\"},{\"attributes\":{\"axis_label\":\"Residuals\",\"axis_label_text_color\":{\"value\":\"#aa6666\"},\"formatter\":{\"id\":\"7571dcd6-a3bc-4ec5-96c6-4f07c7c7ad12\",\"type\":\"BasicTickFormatter\"},\"plot\":{\"id\":\"1653c0da-4ad3-4258-bdda-bb5b509398c0\",\"subtype\":\"Figure\",\"type\":\"Plot\"},\"ticker\":{\"id\":\"c80ed1eb-ba56-4fec-b8e6-58a0e2e5a1c2\",\"type\":\"BasicTicker\"}},\"id\":\"a0174467-a96a-49b5-9f0a-ffcff63b77f7\",\"type\":\"LinearAxis\"},{\"attributes\":{},\"id\":\"6535d08e-7fb2-4f9d-a6da-b6a88c8e2800\",\"type\":\"BasicTicker\"},{\"attributes\":{\"plot\":{\"id\":\"1653c0da-4ad3-4258-bdda-bb5b509398c0\",\"subtype\":\"Figure\",\"type\":\"Plot\"}},\"id\":\"d300e7f4-0f39-4adb-b81c-c697fa460b71\",\"type\":\"PanTool\"},{\"attributes\":{\"background_fill_alpha\":{\"value\":0.5},\"background_fill_color\":{\"value\":\"beige\"},\"below\":[{\"id\":\"4933797e-0446-4b4e-b5c9-aab3aca3bcdc\",\"type\":\"LinearAxis\"}],\"left\":[{\"id\":\"a0174467-a96a-49b5-9f0a-ffcff63b77f7\",\"type\":\"LinearAxis\"}],\"plot_height\":500,\"plot_width\":500,\"renderers\":[{\"id\":\"4933797e-0446-4b4e-b5c9-aab3aca3bcdc\",\"type\":\"LinearAxis\"},{\"id\":\"4d70c3cc-66b9-46b7-a0f5-e769d47434a8\",\"type\":\"Grid\"},{\"id\":\"a0174467-a96a-49b5-9f0a-ffcff63b77f7\",\"type\":\"LinearAxis\"},{\"id\":\"fcd9ce71-4528-4c53-bdf7-b4ef420308fc\",\"type\":\"Grid\"},{\"id\":\"c2b6b1ee-8c3e-4cdc-b107-f18326066503\",\"type\":\"BoxAnnotation\"},{\"id\":\"40b266b8-0ab3-4d6f-9b17-e436859be7d3\",\"type\":\"BoxAnnotation\"},{\"id\":\"5f372541-d165-419c-9107-7249ae0ec621\",\"type\":\"PolyAnnotation\"},{\"id\":\"29c18ded-49b3-44f3-ba4f-b4b0d80f0aff\",\"type\":\"PolyAnnotation\"},{\"id\":\"76a0fa3b-7fae-45ef-80b6-3e66c354dd18\",\"type\":\"GlyphRenderer\"}],\"title\":{\"id\":\"51e5a0f2-2d46-4306-add6-9c776b13708c\",\"type\":\"Title\"},\"tool_events\":{\"id\":\"f4d9afde-9111-441f-941b-52f2a142b6ea\",\"type\":\"ToolEvents\"},\"toolbar\":{\"id\":\"4f242329-2967-48a3-96f2-fbb9100b3164\",\"type\":\"Toolbar\"},\"x_range\":{\"id\":\"fe857600-4abc-423a-bc9f-579c735e68d7\",\"type\":\"DataRange1d\"},\"y_range\":{\"id\":\"6d74bb11-351c-47b3-8e1d-a8b0b984a989\",\"type\":\"DataRange1d\"}},\"id\":\"1653c0da-4ad3-4258-bdda-bb5b509398c0\",\"subtype\":\"Figure\",\"type\":\"Plot\"},{\"attributes\":{\"axis_label\":\"Predicted\",\"axis_label_text_color\":{\"value\":\"#aa6666\"},\"formatter\":{\"id\":\"c9f3381e-6929-4ee8-aef3-a15d54ece5c0\",\"type\":\"BasicTickFormatter\"},\"major_tick_line_color\":{\"value\":\"firebrick\"},\"major_tick_line_width\":{\"value\":3},\"minor_tick_line_color\":{\"value\":\"orange\"},\"plot\":{\"id\":\"1653c0da-4ad3-4258-bdda-bb5b509398c0\",\"subtype\":\"Figure\",\"type\":\"Plot\"},\"ticker\":{\"id\":\"6535d08e-7fb2-4f9d-a6da-b6a88c8e2800\",\"type\":\"BasicTicker\"}},\"id\":\"4933797e-0446-4b4e-b5c9-aab3aca3bcdc\",\"type\":\"LinearAxis\"},{\"attributes\":{\"dimension\":1,\"plot\":{\"id\":\"1653c0da-4ad3-4258-bdda-bb5b509398c0\",\"subtype\":\"Figure\",\"type\":\"Plot\"},\"ticker\":{\"id\":\"c80ed1eb-ba56-4fec-b8e6-58a0e2e5a1c2\",\"type\":\"BasicTicker\"}},\"id\":\"fcd9ce71-4528-4c53-bdf7-b4ef420308fc\",\"type\":\"Grid\"},{\"attributes\":{\"overlay\":{\"id\":\"c2b6b1ee-8c3e-4cdc-b107-f18326066503\",\"type\":\"BoxAnnotation\"},\"plot\":{\"id\":\"1653c0da-4ad3-4258-bdda-bb5b509398c0\",\"subtype\":\"Figure\",\"type\":\"Plot\"}},\"id\":\"20fddf39-8640-404e-84c8-0ccffa401516\",\"type\":\"BoxZoomTool\"},{\"attributes\":{\"callback\":null},\"id\":\"6d74bb11-351c-47b3-8e1d-a8b0b984a989\",\"type\":\"DataRange1d\"},{\"attributes\":{\"plot\":{\"id\":\"1653c0da-4ad3-4258-bdda-bb5b509398c0\",\"subtype\":\"Figure\",\"type\":\"Plot\"}},\"id\":\"a3f7d676-5a05-439b-a436-19b63c2b2863\",\"type\":\"ResetTool\"},{\"attributes\":{\"plot\":{\"id\":\"1653c0da-4ad3-4258-bdda-bb5b509398c0\",\"subtype\":\"Figure\",\"type\":\"Plot\"}},\"id\":\"188f1222-eada-4bf7-a520-c2a476153baa\",\"type\":\"UndoTool\"},{\"attributes\":{\"overlay\":{\"id\":\"29c18ded-49b3-44f3-ba4f-b4b0d80f0aff\",\"type\":\"PolyAnnotation\"},\"plot\":{\"id\":\"1653c0da-4ad3-4258-bdda-bb5b509398c0\",\"subtype\":\"Figure\",\"type\":\"Plot\"}},\"id\":\"068e0211-4c7c-4ad3-984f-502e6a8516ce\",\"type\":\"PolySelectTool\"},{\"attributes\":{\"bottom_units\":\"screen\",\"fill_alpha\":{\"value\":0.5},\"fill_color\":{\"value\":\"lightgrey\"},\"left_units\":\"screen\",\"level\":\"overlay\",\"line_alpha\":{\"value\":1.0},\"line_color\":{\"value\":\"black\"},\"line_dash\":[4,4],\"line_width\":{\"value\":2},\"plot\":null,\"render_mode\":\"css\",\"right_units\":\"screen\",\"top_units\":\"screen\"},\"id\":\"40b266b8-0ab3-4d6f-9b17-e436859be7d3\",\"type\":\"BoxAnnotation\"},{\"attributes\":{\"plot\":{\"id\":\"1653c0da-4ad3-4258-bdda-bb5b509398c0\",\"subtype\":\"Figure\",\"type\":\"Plot\"}},\"id\":\"d654a997-ac3a-49b3-b1f8-e6a1b24975ff\",\"type\":\"WheelZoomTool\"},{\"attributes\":{\"plot\":{\"id\":\"1653c0da-4ad3-4258-bdda-bb5b509398c0\",\"subtype\":\"Figure\",\"type\":\"Plot\"}},\"id\":\"f49dcd84-fa67-44a5-9e63-74c29389eecf\",\"type\":\"ResizeTool\"},{\"attributes\":{\"plot\":{\"id\":\"1653c0da-4ad3-4258-bdda-bb5b509398c0\",\"subtype\":\"Figure\",\"type\":\"Plot\"},\"ticker\":{\"id\":\"6535d08e-7fb2-4f9d-a6da-b6a88c8e2800\",\"type\":\"BasicTicker\"}},\"id\":\"4d70c3cc-66b9-46b7-a0f5-e769d47434a8\",\"type\":\"Grid\"}],\"root_ids\":[\"1653c0da-4ad3-4258-bdda-bb5b509398c0\"]},\"title\":\"Bokeh Application\",\"version\":\"0.12.2\"}};\n",
       "            var render_items = [{\"docid\":\"77662424-b3c5-4e90-917b-7d5be24452f4\",\"elementid\":\"a662023a-c021-428a-9bf3-55ced3440720\",\"modelid\":\"1653c0da-4ad3-4258-bdda-bb5b509398c0\"}];\n",
       "            \n",
       "            Bokeh.embed.embed_items(docs_json, render_items);\n",
       "        });\n",
       "      },\n",
       "      function(Bokeh) {\n",
       "      }\n",
       "    ];\n",
       "  \n",
       "    function run_inline_js() {\n",
       "      \n",
       "      if ((window.Bokeh !== undefined) || (force === \"1\")) {\n",
       "        for (var i = 0; i < inline_js.length; i++) {\n",
       "          inline_js[i](window.Bokeh);\n",
       "        }if (force === \"1\") {\n",
       "          display_loaded();\n",
       "        }} else if (Date.now() < window._bokeh_timeout) {\n",
       "        setTimeout(run_inline_js, 100);\n",
       "      } else if (!window._bokeh_failed_load) {\n",
       "        console.log(\"Bokeh: BokehJS failed to load within specified timeout.\");\n",
       "        window._bokeh_failed_load = true;\n",
       "      } else if (!force) {\n",
       "        var cell = $(\"#a662023a-c021-428a-9bf3-55ced3440720\").parents('.cell').data().cell;\n",
       "        cell.output_area.append_execute_result(NB_LOAD_WARNING)\n",
       "      }\n",
       "  \n",
       "    }\n",
       "  \n",
       "    if (window._bokeh_is_loading === 0) {\n",
       "      console.log(\"Bokeh: BokehJS loaded, going straight to plotting\");\n",
       "      run_inline_js();\n",
       "    } else {\n",
       "      load_libs(js_urls, function() {\n",
       "        console.log(\"Bokeh: BokehJS plotting callback run at\", now());\n",
       "        run_inline_js();\n",
       "      });\n",
       "    }\n",
       "  }(this));\n",
       "</script>"
      ]
     },
     "metadata": {},
     "output_type": "display_data"
    }
   ],
   "source": [
    "# Plotining using bokeh\n",
    "#TOOLS = 'hover,box_zoom,box_select,crosshair,resize,reset,model_select,pan,save,poly_select,tap,wheel_zoom,undo'\n",
    "TOOLS = 'box_zoom,box_select,crosshair,resize,reset,lasso_select,pan,save,poly_select,tap,wheel_zoom,undo'\n",
    "p = figure(plot_width=500, plot_height=500, title=\"Residual plot on the training data\", tools=TOOLS)\n",
    "p.scatter(prediction, (prediction - Y),x=\"jjj\", marker=\"o\", color=\"#80B1D3\", line_width=3)\n",
    "p.title.align = \"center\"\n",
    "p.xaxis.axis_label = \"Predicted\"\n",
    "p.xaxis.axis_label_text_color = \"#aa6666\"\n",
    "#p.xaxis.axis_label_standoff = 30\n",
    "p.xaxis.major_tick_line_color = \"firebrick\"\n",
    "p.xaxis.major_tick_line_width = 3\n",
    "p.xaxis.minor_tick_line_color = \"orange\"\n",
    "p.yaxis.axis_label = \"Residuals\"\n",
    "p.yaxis.axis_label_text_font_style = \"italic\"\n",
    "p.yaxis.axis_label_text_color = \"#aa6666\"\n",
    "p.background_fill_color = \"beige\"\n",
    "p.background_fill_alpha = 0.5\n",
    "#p.line([2,38], [0, 0], line_dash=\"4 4\", line_width=2, color='red')\n",
    "show(p)"
   ]
  },
  {
   "cell_type": "code",
   "execution_count": 55,
   "metadata": {
    "collapsed": false
   },
   "outputs": [
    {
     "name": "stdout",
     "output_type": "stream",
     "text": [
      "Epoch 1/10\n",
      "1202/1202 [==============================] - 0s - loss: 18.0244     \n",
      "Epoch 2/10\n",
      "1202/1202 [==============================] - 0s - loss: 17.8788     \n",
      "Epoch 3/10\n",
      "1202/1202 [==============================] - 0s - loss: 17.9009     \n",
      "Epoch 4/10\n",
      "1202/1202 [==============================] - 0s - loss: 17.8826     \n",
      "Epoch 5/10\n",
      "1202/1202 [==============================] - 0s - loss: 17.9276     \n",
      "Epoch 6/10\n",
      "1202/1202 [==============================] - 0s - loss: 17.8981     \n",
      "Epoch 7/10\n",
      "1202/1202 [==============================] - 0s - loss: 17.9006     \n",
      "Epoch 8/10\n",
      "1202/1202 [==============================] - 0s - loss: 17.9177     \n",
      "Epoch 9/10\n",
      "1202/1202 [==============================] - 0s - loss: 17.9215     \n",
      "Epoch 10/10\n",
      "1202/1202 [==============================] - 0s - loss: 17.9492     \n",
      "R-squared =  0.626103424947\n"
     ]
    }
   ],
   "source": [
    "# Using make_pipeline\n",
    "from sklearn.pipeline import make_pipeline\n",
    "\n",
    "# ANOVA SVM-C\n",
    "# 1) anova filter, take 3 best ranked features\n",
    "DLRegressor = make_pipeline(scaler, model)\n",
    "DLRegressor.fit(new_data, Y)\n",
    "prediction = DLRegressor.predict(new_data)\n",
    "r_squared = r2_score(Y, prediction, multioutput='variance_weighted')\n",
    "print 'R-squared = ',r_squared"
   ]
  },
  {
   "cell_type": "markdown",
   "metadata": {},
   "source": [
    "### Save the Pipeline model for developement"
   ]
  },
  {
   "cell_type": "markdown",
   "metadata": {},
   "source": [
    "## I can save keras in pipleine"
   ]
  },
  {
   "cell_type": "code",
   "execution_count": 56,
   "metadata": {
    "collapsed": false
   },
   "outputs": [],
   "source": [
    "model.save_weights('Boston_House_Modelbest.hdf5',overwrite=True)"
   ]
  },
  {
   "cell_type": "code",
   "execution_count": 57,
   "metadata": {
    "collapsed": false
   },
   "outputs": [
    {
     "name": "stdout",
     "output_type": "stream",
     "text": [
      " =================================================================>>>>> done\n",
      "R-squared =  0.626103424947\n"
     ]
    }
   ],
   "source": [
    "# Test the model if it is work\n",
    "model.load_weights('Boston_House_Modelbest.hdf5')\n",
    "\n",
    "NewPred = model.predict(X)\n",
    "print \" =================================================================>>>>> done\"\n",
    "r_squared = r2_score(Y, NewPred, multioutput='variance_weighted')\n",
    "print 'R-squared = ',r_squared"
   ]
  },
  {
   "cell_type": "code",
   "execution_count": null,
   "metadata": {
    "collapsed": true
   },
   "outputs": [],
   "source": []
  },
  {
   "cell_type": "code",
   "execution_count": 58,
   "metadata": {
    "collapsed": false
   },
   "outputs": [
    {
     "name": "stdout",
     "output_type": "stream",
     "text": [
      "Point of training data before normalization\n",
      "[  1.00000000e+03   2.70000000e+00   1.52400000e-01   7.13000000e+01\n",
      "   2.43851000e-03]\n",
      "\n",
      "The read target of the data =  128.774\n"
     ]
    }
   ],
   "source": [
    "# test on single data point, randomly choose point number 55\n",
    "print 'Point of training data before normalization\\n',new_data[55]\n",
    "print '\\nThe read target of the data = ', Y[55]\n"
   ]
  },
  {
   "cell_type": "code",
   "execution_count": 59,
   "metadata": {
    "collapsed": false
   },
   "outputs": [
    {
     "data": {
      "text/plain": [
       "array([-0.61233407, -0.69909225,  0.18505779,  1.28444798, -0.66715624])"
      ]
     },
     "execution_count": 59,
     "metadata": {},
     "output_type": "execute_result"
    }
   ],
   "source": [
    "X[55]"
   ]
  },
  {
   "cell_type": "code",
   "execution_count": 60,
   "metadata": {
    "collapsed": false
   },
   "outputs": [
    {
     "name": "stdout",
     "output_type": "stream",
     "text": [
      " =================================================================>>>>> done\n",
      "[[-0.61233407 -0.69909225  0.18505779  1.28444798 -0.66715624]]\n"
     ]
    }
   ],
   "source": [
    "# Test the model if it is work\n",
    "scalerTest = joblib.load('scaler.pkl')\n",
    "new_data_scaled = scalerTest.transform(new_data[55].reshape(1, -1))\n",
    "print \" =================================================================>>>>> done\"\n",
    "print new_data_scaled"
   ]
  },
  {
   "cell_type": "code",
   "execution_count": 61,
   "metadata": {
    "collapsed": false
   },
   "outputs": [
    {
     "name": "stdout",
     "output_type": "stream",
     "text": [
      "\n",
      "The Predicted target of the data =  [[ 131.52975464]]\n"
     ]
    }
   ],
   "source": [
    "NewPred = model.predict(new_data_scaled, verbose=0)\n",
    "print '\\nThe Predicted target of the data = ', NewPred"
   ]
  },
  {
   "cell_type": "markdown",
   "metadata": {},
   "source": [
    "## Conclusion "
   ]
  }
 ],
 "metadata": {
  "kernelspec": {
   "display_name": "Python 2",
   "language": "python",
   "name": "python2"
  },
  "language_info": {
   "codemirror_mode": {
    "name": "ipython",
    "version": 2
   },
   "file_extension": ".py",
   "mimetype": "text/x-python",
   "name": "python",
   "nbconvert_exporter": "python",
   "pygments_lexer": "ipython2",
   "version": "2.7.12"
  }
 },
 "nbformat": 4,
 "nbformat_minor": 0
}
