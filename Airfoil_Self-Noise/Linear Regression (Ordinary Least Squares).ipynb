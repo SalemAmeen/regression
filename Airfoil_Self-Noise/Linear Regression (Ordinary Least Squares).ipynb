{
 "cells": [
  {
   "cell_type": "markdown",
   "metadata": {},
   "source": [
    "Salem Ameen, PhD student at Salford University\n",
    "\n",
    "### Airfoil Self-Noise price\n",
    "\n",
    "LINEAR REGRESSION"
   ]
  },
  {
   "cell_type": "markdown",
   "metadata": {},
   "source": [
    "# Import the Libraries"
   ]
  },
  {
   "cell_type": "code",
   "execution_count": 1,
   "metadata": {
    "collapsed": false
   },
   "outputs": [
    {
     "data": {
      "text/html": [
       "\n",
       "    <div class=\"bk-root\">\n",
       "        <a href=\"http://bokeh.pydata.org\" target=\"_blank\" class=\"bk-logo bk-logo-small bk-logo-notebook\"></a>\n",
       "        <span id=\"b3a6aae9-79d4-4e33-8bd3-8bfe18a365d4\">Loading BokehJS ...</span>\n",
       "    </div>"
      ]
     },
     "metadata": {},
     "output_type": "display_data"
    },
    {
     "data": {
      "application/javascript": [
       "\n",
       "(function(global) {\n",
       "  function now() {\n",
       "    return new Date();\n",
       "  }\n",
       "\n",
       "  var force = \"1\";\n",
       "\n",
       "  if (typeof (window._bokeh_onload_callbacks) === \"undefined\" || force !== \"\") {\n",
       "    window._bokeh_onload_callbacks = [];\n",
       "    window._bokeh_is_loading = undefined;\n",
       "  }\n",
       "\n",
       "\n",
       "  \n",
       "  if (typeof (window._bokeh_timeout) === \"undefined\" || force !== \"\") {\n",
       "    window._bokeh_timeout = Date.now() + 5000;\n",
       "    window._bokeh_failed_load = false;\n",
       "  }\n",
       "\n",
       "  var NB_LOAD_WARNING = {'data': {'text/html':\n",
       "     \"<div style='background-color: #fdd'>\\n\"+\n",
       "     \"<p>\\n\"+\n",
       "     \"BokehJS does not appear to have successfully loaded. If loading BokehJS from CDN, this \\n\"+\n",
       "     \"may be due to a slow or bad network connection. Possible fixes:\\n\"+\n",
       "     \"</p>\\n\"+\n",
       "     \"<ul>\\n\"+\n",
       "     \"<li>re-rerun `output_notebook()` to attempt to load from CDN again, or</li>\\n\"+\n",
       "     \"<li>use INLINE resources instead, as so:</li>\\n\"+\n",
       "     \"</ul>\\n\"+\n",
       "     \"<code>\\n\"+\n",
       "     \"from bokeh.resources import INLINE\\n\"+\n",
       "     \"output_notebook(resources=INLINE)\\n\"+\n",
       "     \"</code>\\n\"+\n",
       "     \"</div>\"}};\n",
       "\n",
       "  function display_loaded() {\n",
       "    if (window.Bokeh !== undefined) {\n",
       "      Bokeh.$(\"#b3a6aae9-79d4-4e33-8bd3-8bfe18a365d4\").text(\"BokehJS successfully loaded.\");\n",
       "    } else if (Date.now() < window._bokeh_timeout) {\n",
       "      setTimeout(display_loaded, 100)\n",
       "    }\n",
       "  }\n",
       "\n",
       "  function run_callbacks() {\n",
       "    window._bokeh_onload_callbacks.forEach(function(callback) { callback() });\n",
       "    delete window._bokeh_onload_callbacks\n",
       "    console.info(\"Bokeh: all callbacks have finished\");\n",
       "  }\n",
       "\n",
       "  function load_libs(js_urls, callback) {\n",
       "    window._bokeh_onload_callbacks.push(callback);\n",
       "    if (window._bokeh_is_loading > 0) {\n",
       "      console.log(\"Bokeh: BokehJS is being loaded, scheduling callback at\", now());\n",
       "      return null;\n",
       "    }\n",
       "    if (js_urls == null || js_urls.length === 0) {\n",
       "      run_callbacks();\n",
       "      return null;\n",
       "    }\n",
       "    console.log(\"Bokeh: BokehJS not loaded, scheduling load and callback at\", now());\n",
       "    window._bokeh_is_loading = js_urls.length;\n",
       "    for (var i = 0; i < js_urls.length; i++) {\n",
       "      var url = js_urls[i];\n",
       "      var s = document.createElement('script');\n",
       "      s.src = url;\n",
       "      s.async = false;\n",
       "      s.onreadystatechange = s.onload = function() {\n",
       "        window._bokeh_is_loading--;\n",
       "        if (window._bokeh_is_loading === 0) {\n",
       "          console.log(\"Bokeh: all BokehJS libraries loaded\");\n",
       "          run_callbacks()\n",
       "        }\n",
       "      };\n",
       "      s.onerror = function() {\n",
       "        console.warn(\"failed to load library \" + url);\n",
       "      };\n",
       "      console.log(\"Bokeh: injecting script tag for BokehJS library: \", url);\n",
       "      document.getElementsByTagName(\"head\")[0].appendChild(s);\n",
       "    }\n",
       "  };var element = document.getElementById(\"b3a6aae9-79d4-4e33-8bd3-8bfe18a365d4\");\n",
       "  if (element == null) {\n",
       "    console.log(\"Bokeh: ERROR: autoload.js configured with elementid 'b3a6aae9-79d4-4e33-8bd3-8bfe18a365d4' but no matching script tag was found. \")\n",
       "    return false;\n",
       "  }\n",
       "\n",
       "  var js_urls = ['https://cdn.pydata.org/bokeh/release/bokeh-0.12.2.min.js', 'https://cdn.pydata.org/bokeh/release/bokeh-widgets-0.12.2.min.js', 'https://cdn.pydata.org/bokeh/release/bokeh-compiler-0.12.2.min.js'];\n",
       "\n",
       "  var inline_js = [\n",
       "    function(Bokeh) {\n",
       "      Bokeh.set_log_level(\"info\");\n",
       "    },\n",
       "    \n",
       "    function(Bokeh) {\n",
       "      \n",
       "      Bokeh.$(\"#b3a6aae9-79d4-4e33-8bd3-8bfe18a365d4\").text(\"BokehJS is loading...\");\n",
       "    },\n",
       "    function(Bokeh) {\n",
       "      console.log(\"Bokeh: injecting CSS: https://cdn.pydata.org/bokeh/release/bokeh-0.12.2.min.css\");\n",
       "      Bokeh.embed.inject_css(\"https://cdn.pydata.org/bokeh/release/bokeh-0.12.2.min.css\");\n",
       "      console.log(\"Bokeh: injecting CSS: https://cdn.pydata.org/bokeh/release/bokeh-widgets-0.12.2.min.css\");\n",
       "      Bokeh.embed.inject_css(\"https://cdn.pydata.org/bokeh/release/bokeh-widgets-0.12.2.min.css\");\n",
       "    }\n",
       "  ];\n",
       "\n",
       "  function run_inline_js() {\n",
       "    \n",
       "    if ((window.Bokeh !== undefined) || (force === \"1\")) {\n",
       "      for (var i = 0; i < inline_js.length; i++) {\n",
       "        inline_js[i](window.Bokeh);\n",
       "      }if (force === \"1\") {\n",
       "        display_loaded();\n",
       "      }} else if (Date.now() < window._bokeh_timeout) {\n",
       "      setTimeout(run_inline_js, 100);\n",
       "    } else if (!window._bokeh_failed_load) {\n",
       "      console.log(\"Bokeh: BokehJS failed to load within specified timeout.\");\n",
       "      window._bokeh_failed_load = true;\n",
       "    } else if (!force) {\n",
       "      var cell = $(\"#b3a6aae9-79d4-4e33-8bd3-8bfe18a365d4\").parents('.cell').data().cell;\n",
       "      cell.output_area.append_execute_result(NB_LOAD_WARNING)\n",
       "    }\n",
       "\n",
       "  }\n",
       "\n",
       "  if (window._bokeh_is_loading === 0) {\n",
       "    console.log(\"Bokeh: BokehJS loaded, going straight to plotting\");\n",
       "    run_inline_js();\n",
       "  } else {\n",
       "    load_libs(js_urls, function() {\n",
       "      console.log(\"Bokeh: BokehJS plotting callback run at\", now());\n",
       "      run_inline_js();\n",
       "    });\n",
       "  }\n",
       "}(this));"
      ]
     },
     "metadata": {},
     "output_type": "display_data"
    }
   ],
   "source": [
    "import numpy as np\n",
    "import pandas\n",
    "from numpy import *\n",
    "import time\n",
    "import sys\n",
    "import pandas as pd\n",
    "import matplotlib.pyplot as plt\n",
    "from sklearn import feature_selection\n",
    "from sklearn.linear_model import LinearRegression\n",
    "from sklearn.learning_curve import learning_curve\n",
    "from sklearn.cross_validation import cross_val_predict\n",
    "from sklearn import metrics, grid_search, cross_validation\n",
    "from IPython.display import set_matplotlib_formats\n",
    "from bokeh.plotting import figure, show, output_notebook\n",
    "from sklearn.metrics import r2_score\n",
    "from bokeh.layouts import gridplot\n",
    "output_notebook()\n",
    "set_matplotlib_formats('png', 'pdf')\n",
    "%matplotlib inline\n",
    "plt.rcParams['figure.figsize'] = (6, 6)"
   ]
  },
  {
   "cell_type": "markdown",
   "metadata": {},
   "source": [
    "# Load data"
   ]
  },
  {
   "cell_type": "markdown",
   "metadata": {},
   "source": [
    "In the previous file we have not change the data as there is no missing value or add any new parameters so it can be downloaded from the web directly. "
   ]
  },
  {
   "cell_type": "code",
   "execution_count": 2,
   "metadata": {
    "collapsed": false
   },
   "outputs": [
    {
     "name": "stdout",
     "output_type": "stream",
     "text": [
      "Number of examples 1503\n"
     ]
    }
   ],
   "source": [
    "url = 'http://archive.ics.uci.edu/ml/machine-learning-databases/00291/airfoil_self_noise.dat'\n",
    "names = ['Frequency', 'Angle', 'Chord', 'Free_stream', 'Suction', 'pressure']\n",
    "feature_names = names\n",
    "feature_cols = names\n",
    "data = pd.read_csv(url, sep='\\s+', names = names)\n",
    "\n",
    "from sklearn import preprocessing\n",
    "dataset = data.values\n",
    "X = dataset[:,0:5].astype(float)\n",
    "Y = dataset[:,5]\n",
    "print 'Number of examples',len(X)"
   ]
  },
  {
   "cell_type": "code",
   "execution_count": 3,
   "metadata": {
    "collapsed": false
   },
   "outputs": [
    {
     "name": "stdout",
     "output_type": "stream",
     "text": [
      "Number of training examples 1202\n",
      "Number of validation examples 301\n"
     ]
    }
   ],
   "source": [
    "# Make developement dataset for genrilization and final testing\n",
    "from sklearn.cross_validation import train_test_split\n",
    "# Extracting 20% testing data\n",
    "X_train, X_test, y_train, y_test = train_test_split(\n",
    "    X, Y, test_size=0.20, random_state=0)\n",
    "X = X_train\n",
    "Y = y_train\n",
    "new_data      = X_train\n",
    "new_test_data = X_test\n",
    "print 'Number of training examples',len(X_train)\n",
    "print 'Number of validation examples',len(X_test)"
   ]
  },
  {
   "cell_type": "markdown",
   "metadata": {},
   "source": [
    "Number of training data is very small so we need to use cross validation instead of spareate another validation data."
   ]
  },
  {
   "cell_type": "markdown",
   "metadata": {},
   "source": [
    "From the previous visulization the data has no missing value but has many outlier and some sparisty"
   ]
  },
  {
   "cell_type": "markdown",
   "metadata": {},
   "source": [
    "# Ranking of the feature's importance to the target"
   ]
  },
  {
   "cell_type": "code",
   "execution_count": 4,
   "metadata": {
    "collapsed": false
   },
   "outputs": [
    {
     "name": "stdout",
     "output_type": "stream",
     "text": [
      "Frequency \t0.152655407239\n",
      "Angle \t0.0243695607179\n",
      "Chord \t0.0557722599221\n",
      "Free_stream \t0.0156507107585\n",
      "Suction \t0.0977622201552\n",
      "pressure \t1.0\n"
     ]
    }
   ],
   "source": [
    "# Using just correlation coefficient even in prevoius file we show them using data frame\n",
    "for col in feature_cols:\n",
    "    lm = LinearRegression(fit_intercept=True)\n",
    "    lm.fit(data[[col]], data['pressure'])\n",
    "    print col,'\\t', lm.score(data[[col]], data['pressure'])"
   ]
  },
  {
   "cell_type": "code",
   "execution_count": 5,
   "metadata": {
    "collapsed": false
   },
   "outputs": [
    {
     "name": "stdout",
     "output_type": "stream",
     "text": [
      "Feature Name      Score         Pvalue\n",
      "Frequency \t\t270.416272463 \t5.36177705642e-56\n",
      "Angle \t\t37.4923835551 \t1.16954827306e-09\n",
      "Chord \t\t88.6588675485 \t1.70142015337e-20\n",
      "Free_stream \t\t23.8652245755 \t1.1437427443e-06\n",
      "Suction \t\t162.641263457 \t1.92478295603e-35\n",
      "pressure \t\tinf \t0.0\n"
     ]
    }
   ],
   "source": [
    "# Randing the important features to the target\n",
    "model = feature_selection.SelectKBest(score_func=feature_selection.f_regression,k=4)\n",
    "results = model.fit(data[feature_cols], data['pressure'])\n",
    "k=0\n",
    "print 'Feature Name      Score         Pvalue'\n",
    "for feat in feature_cols:\n",
    "    print feat,'\\t\\t',results.scores_[k],'\\t',results.pvalues_[k]\n",
    "    k=k+1\n"
   ]
  },
  {
   "cell_type": "markdown",
   "metadata": {},
   "source": [
    "# Set the parameters for cross validation"
   ]
  },
  {
   "cell_type": "code",
   "execution_count": 6,
   "metadata": {
    "collapsed": true
   },
   "outputs": [],
   "source": [
    "num_folds = 10\n",
    "num_instances = len(X)\n",
    "seed = 7\n",
    "kfold = cross_validation.KFold(n=num_instances, n_folds=num_folds, random_state=seed)"
   ]
  },
  {
   "cell_type": "markdown",
   "metadata": {},
   "source": [
    " # Set the parameters for bias-variance dilemma"
   ]
  },
  {
   "cell_type": "code",
   "execution_count": 7,
   "metadata": {
    "collapsed": false
   },
   "outputs": [],
   "source": [
    "def plot_learning_curve(estimator, title, X, y, ylim=None, cv=None,\n",
    "                        n_jobs=1, train_sizes=np.linspace(.1, 1.0, 5)):\n",
    "    plt.figure()\n",
    "    plt.title(title)\n",
    "    if ylim is not None:\n",
    "        plt.ylim(*ylim)\n",
    "    plt.xlabel(\"Training examples\")\n",
    "    plt.ylabel(\"Score\")\n",
    "    train_sizes, train_scores, test_scores = learning_curve(\n",
    "        estimator, X, y, cv=cv, n_jobs=n_jobs, train_sizes=train_sizes)\n",
    "    train_scores_mean = np.mean(train_scores, axis=1)\n",
    "    train_scores_std = np.std(train_scores, axis=1)\n",
    "    test_scores_mean = np.mean(test_scores, axis=1)\n",
    "    test_scores_std = np.std(test_scores, axis=1)\n",
    "    plt.grid()\n",
    "\n",
    "    plt.fill_between(train_sizes, train_scores_mean - train_scores_std,\n",
    "                     train_scores_mean + train_scores_std, alpha=0.1,\n",
    "                     color=\"r\")\n",
    "    plt.fill_between(train_sizes, test_scores_mean - test_scores_std,\n",
    "                     test_scores_mean + test_scores_std, alpha=0.1, color=\"g\")\n",
    "    plt.plot(train_sizes, train_scores_mean, 'o-', color=\"r\",\n",
    "             label=\"Training score\")\n",
    "    plt.plot(train_sizes, test_scores_mean, 'o-', color=\"g\",\n",
    "             label=\"Cross-validation score\")\n",
    "\n",
    "    plt.legend(loc=\"best\")\n",
    "    return plt"
   ]
  },
  {
   "cell_type": "markdown",
   "metadata": {},
   "source": [
    "# Preprocessing the data and save the model and preprocessed data"
   ]
  },
  {
   "cell_type": "code",
   "execution_count": 8,
   "metadata": {
    "collapsed": true
   },
   "outputs": [],
   "source": [
    "# According to the nature of the data spasity and there is outliter RobustScaler class is recomandit \n",
    "# but when I tried both of them the result seems is same\n",
    "from sklearn.preprocessing import StandardScaler\n",
    "scaler = preprocessing.StandardScaler().fit(X_train)"
   ]
  },
  {
   "cell_type": "code",
   "execution_count": 9,
   "metadata": {
    "collapsed": true
   },
   "outputs": [],
   "source": [
    "X_train = scaler.transform(X_train)\n",
    "X_test = scaler.transform(X_test) # use same transform for testing data\n",
    "X = X_train"
   ]
  },
  {
   "cell_type": "code",
   "execution_count": 10,
   "metadata": {
    "collapsed": true
   },
   "outputs": [],
   "source": [
    "# save transformed data\n",
    "np.save('./data/X_train', X_train)\n",
    "np.save('./data/y_train', y_train)\n",
    "np.save('./data/X_test', X_test)\n",
    "np.save('./data/y_test', y_test)"
   ]
  },
  {
   "cell_type": "code",
   "execution_count": 11,
   "metadata": {
    "collapsed": false
   },
   "outputs": [
    {
     "data": {
      "text/plain": [
       "['scaler.pkl', 'scaler.pkl_01.npy', 'scaler.pkl_02.npy', 'scaler.pkl_03.npy']"
      ]
     },
     "execution_count": 11,
     "metadata": {},
     "output_type": "execute_result"
    }
   ],
   "source": [
    "# save the model scaler to the desk\n",
    "from sklearn.externals import joblib\n",
    "joblib.dump(scaler, 'scaler.pkl') "
   ]
  },
  {
   "cell_type": "code",
   "execution_count": 12,
   "metadata": {
    "collapsed": false
   },
   "outputs": [
    {
     "name": "stdout",
     "output_type": "stream",
     "text": [
      " =================================================================>>>>> done\n",
      "[[ 2.29083349 -1.15043085 -1.17128043  1.28444798 -0.82148429]\n",
      " [ 1.09730905 -1.15043085  1.81266366  1.28444798 -0.65012723]\n",
      " [-0.12847281  0.9056672  -0.35747749 -1.24501741  2.31947901]\n",
      " ..., \n",
      " [-0.41878957 -1.15043085  0.18505779 -0.74040184 -0.70544919]\n",
      " [-0.61233407 -0.2644699   0.99886072 -0.74040184 -0.3865872 ]\n",
      " [ 2.29083349 -0.69909225  0.18505779 -0.74040184 -0.62856871]]\n"
     ]
    }
   ],
   "source": [
    "# Test the model if it is work\n",
    "scalerTest = joblib.load('scaler.pkl')\n",
    "new_data_scaled = scalerTest.transform(new_test_data)\n",
    "print \" =================================================================>>>>> done\"\n",
    "print new_data_scaled"
   ]
  },
  {
   "cell_type": "markdown",
   "metadata": {},
   "source": [
    "# 1. Linear Regression"
   ]
  },
  {
   "cell_type": "markdown",
   "metadata": {},
   "source": [
    "Linear regression assumes that the input variables have a Gaussian distribution. It is also assumed that input variables are relevant to the output variable and that they are not highly correlated with each other (a problem called collinearity).\n",
    "\n"
   ]
  },
  {
   "cell_type": "markdown",
   "metadata": {},
   "source": [
    "## Learning Curve "
   ]
  },
  {
   "cell_type": "markdown",
   "metadata": {},
   "source": [
    "In essence, what we’re doing it training the exact same model with increasingly large fractions of our total training data, and plotting the error of the training and test sets at each step."
   ]
  },
  {
   "cell_type": "code",
   "execution_count": 13,
   "metadata": {
    "collapsed": false
   },
   "outputs": [
    {
     "data": {
      "image/png": "[encoded data removed]",
      "text/plain": [
       "<matplotlib.figure.Figure at 0x7f859169a110>"
      ]
     },
     "metadata": {},
     "output_type": "display_data"
    }
   ],
   "source": [
    "from sklearn.linear_model import LinearRegression\n",
    "model = LinearRegression()\n",
    "title = \"Learning Curves (Linear Refression)\"\n",
    "# Cross validation with 100 iterations to get smoother mean test and train\n",
    "# score curves, each time with 20% data randomly selected as a validation set.\n",
    "cv = cross_validation.ShuffleSplit(X.shape[0], n_iter=100,\n",
    "                                   test_size=0.2, random_state=0)\n",
    "plot_learning_curve(model, title, X, Y, ylim=(0.2, 1.01), cv=cv, n_jobs=-1)\n",
    "plt.show()"
   ]
  },
  {
   "cell_type": "code",
   "execution_count": 14,
   "metadata": {
    "collapsed": false
   },
   "outputs": [
    {
     "name": "stdout",
     "output_type": "stream",
     "text": [
      "train_sizes =  [ 50  80 110]\n",
      " training scores\n",
      " 50 training sizees\n",
      "0.559736565805 ± 0.1074585652\n",
      " 80 training sizees\n",
      "0.534284798111 ± 0.0826210845683\n",
      " 110 training sizees\n",
      "0.522690125661 ± 0.0754855346853\n",
      "\n",
      " validation scores\n",
      " 50 validation scores\n",
      "0.421809105348 ± 0.0808680064288\n",
      " 80 validation scores\n",
      "0.453594779759 ± 0.0572696623145\n",
      " 110 validation scores\n",
      "0.467623345852 ± 0.0514399068953\n"
     ]
    }
   ],
   "source": [
    "# More data from learning curve to show the process of building the model\n",
    "train_sizes, train_scores, valid_scores = learning_curve(\n",
    "     model, X, Y, train_sizes=[50, 80, 110], cv=cv, n_jobs=4)\n",
    "\n",
    "print 'train_sizes = ', train_sizes\n",
    "\n",
    "print ' training scores'\n",
    "print ' 50 training sizees'\n",
    "print train_scores[0].mean(),'±',train_scores[0].std()\n",
    "print ' 80 training sizees'\n",
    "print train_scores[1].mean(),'±',train_scores[1].std()\n",
    "print ' 110 training sizees'\n",
    "print train_scores[2].mean(),'±',train_scores[2].std()\n",
    "\n",
    "print '\\n validation scores'\n",
    "print ' 50 validation scores'\n",
    "print valid_scores[0].mean(),'±',valid_scores[0].std()\n",
    "print ' 80 validation scores'\n",
    "print valid_scores[1].mean(),'±',valid_scores[1].std()\n",
    "print ' 110 validation scores'\n",
    "print valid_scores[2].mean(),'±',valid_scores[2].std()"
   ]
  },
  {
   "cell_type": "markdown",
   "metadata": {},
   "source": [
    "## Cross validation"
   ]
  },
  {
   "cell_type": "code",
   "execution_count": 15,
   "metadata": {
    "collapsed": false
   },
   "outputs": [
    {
     "name": "stdout",
     "output_type": "stream",
     "text": [
      "Scoring according to mean_squared_error\n",
      "[-24.85456326 -29.80003198 -26.8181141  -28.06587631 -19.9020853\n",
      " -27.89641079 -19.06466586 -21.12863346 -20.1390529  -22.09776626]\n",
      "\n",
      " Mean      Standard deviation\n",
      "-23.98      3.77\n",
      "\n",
      " print intercept and coefficients\n",
      "124.844381032\n",
      "[-3.96936099 -2.45730641 -3.37389631  1.53664505 -1.9028998 ]\n",
      "\n",
      "(feature, coefficients)\n",
      "[('Frequency', -3.9693609933773981), ('Angle', -2.4573064110829703), ('Chord', -3.3738963100629973), ('Free_stream', 1.5366450518787473), ('Suction', -1.9028998023580326)]\n"
     ]
    }
   ],
   "source": [
    "scoring = 'mean_squared_error'\n",
    "results = cross_validation.cross_val_score(model, X, Y, cv=kfold, scoring=scoring)\n",
    "print 'Scoring according to mean_squared_error'\n",
    "print results\n",
    "print '\\n Mean      Standard deviation'\n",
    "print(\"%.2f      %.2f\" % (results.mean(), results.std()))\n",
    "## Fit the model\n",
    "model.fit(X,Y)\n",
    "print '\\n print intercept and coefficients'\n",
    "print model.intercept_\n",
    "print model.coef_\n",
    "# pair the feature names with the coefficients\n",
    "print '\\n(feature, coefficients)'\n",
    "print zip(feature_cols, model.coef_)\n",
    "# Linear qu. of the model"
   ]
  },
  {
   "cell_type": "markdown",
   "metadata": {},
   "source": [
    "To be more precise these valrible is not the input feature as descripe on the dataset, those varibles in scaled virsion on the orginal onces. So, to be more correct I should assign to them another varibles but for easy to unserstand I kept them as they were."
   ]
  },
  {
   "cell_type": "markdown",
   "metadata": {},
   "source": [
    "## Coefficients Of Determination {Calculating R^2}\n",
    "\n",
    "R^2, Close to one is better"
   ]
  },
  {
   "cell_type": "code",
   "execution_count": 16,
   "metadata": {
    "collapsed": false
   },
   "outputs": [
    {
     "name": "stdout",
     "output_type": "stream",
     "text": [
      "R-squared =  0.497119588337\n"
     ]
    }
   ],
   "source": [
    "predicted = cross_val_predict(model, X, Y, cv=kfold)\n",
    "r_squared = r2_score(Y, predicted, multioutput='variance_weighted')\n",
    "print 'R-squared = ',r_squared"
   ]
  },
  {
   "cell_type": "markdown",
   "metadata": {},
   "source": [
    "## More results on linear regression by using Statsmodel\n",
    "\n",
    "http://statsmodels.sourceforge.net/stable/  "
   ]
  },
  {
   "cell_type": "code",
   "execution_count": 17,
   "metadata": {
    "collapsed": false
   },
   "outputs": [
    {
     "name": "stdout",
     "output_type": "stream",
     "text": [
      "                            OLS Regression Results                            \n",
      "==============================================================================\n",
      "Dep. Variable:                      y   R-squared:                       0.505\n",
      "Model:                            OLS   Adj. R-squared:                  0.503\n",
      "Method:                 Least Squares   F-statistic:                     243.8\n",
      "Date:                Tue, 04 Oct 2016   Prob (F-statistic):          1.27e-179\n",
      "Time:                        15:31:00   Log-Likelihood:                -3605.9\n",
      "No. Observations:                1202   AIC:                             7224.\n",
      "Df Residuals:                    1196   BIC:                             7254.\n",
      "Df Model:                           5                                         \n",
      "Covariance Type:            nonrobust                                         \n",
      "==============================================================================\n",
      "                 coef    std err          t      P>|t|      [95.0% Conf. Int.]\n",
      "------------------------------------------------------------------------------\n",
      "const        124.8444      0.141    888.401      0.000       124.569   125.120\n",
      "x1            -3.9694      0.150    -26.450      0.000        -4.264    -3.675\n",
      "x2            -2.4573      0.259     -9.493      0.000        -2.965    -1.949\n",
      "x3            -3.3739      0.171    -19.696      0.000        -3.710    -3.038\n",
      "x4             1.5366      0.143     10.740      0.000         1.256     1.817\n",
      "x5            -1.9029      0.224     -8.509      0.000        -2.342    -1.464\n",
      "==============================================================================\n",
      "Omnibus:                       11.542   Durbin-Watson:                   2.072\n",
      "Prob(Omnibus):                  0.003   Jarque-Bera (JB):               17.073\n",
      "Skew:                          -0.040   Prob(JB):                     0.000196\n",
      "Kurtosis:                       3.578   Cond. No.                         3.46\n",
      "==============================================================================\n",
      "\n",
      "Warnings:\n",
      "[1] Standard Errors assume that the covariance matrix of the errors is correctly specified.\n"
     ]
    }
   ],
   "source": [
    "import statsmodels.api as sm\n",
    "results = sm.OLS(Y,sm.add_constant(X)).fit()\n",
    "print results.summary()"
   ]
  },
  {
   "cell_type": "markdown",
   "metadata": {},
   "source": [
    "## Residual Plot"
   ]
  },
  {
   "cell_type": "code",
   "execution_count": 18,
   "metadata": {
    "collapsed": false
   },
   "outputs": [
    {
     "data": {
      "image/png": "[encoded data removed]",
      "text/plain": [
       "<matplotlib.figure.Figure at 0x7f858545f790>"
      ]
     },
     "metadata": {},
     "output_type": "display_data"
    }
   ],
   "source": [
    "predicted = cross_val_predict(model, X, Y, cv=kfold)\n",
    "fig, ax = plt.subplots()\n",
    "ax.scatter(Y, predicted)\n",
    "ax.plot([Y.min(), Y.max()], [Y.min(), Y.max()], 'k--', lw=4)\n",
    "ax.set_xlabel('Measured')\n",
    "ax.set_ylabel('Predicted')\n",
    "plt.show()"
   ]
  },
  {
   "cell_type": "code",
   "execution_count": 19,
   "metadata": {
    "collapsed": false
   },
   "outputs": [
    {
     "data": {
      "text/html": [
       "\n",
       "\n",
       "    <div class=\"bk-root\">\n",
       "        <div class=\"plotdiv\" id=\"0f121d02-cee5-4f27-ac85-0b2689221cd4\"></div>\n",
       "    </div>\n",
       "<script type=\"text/javascript\">\n",
       "  \n",
       "  (function(global) {\n",
       "    function now() {\n",
       "      return new Date();\n",
       "    }\n",
       "  \n",
       "    var force = \"\";\n",
       "  \n",
       "    if (typeof (window._bokeh_onload_callbacks) === \"undefined\" || force !== \"\") {\n",
       "      window._bokeh_onload_callbacks = [];\n",
       "      window._bokeh_is_loading = undefined;\n",
       "    }\n",
       "  \n",
       "  \n",
       "    \n",
       "    if (typeof (window._bokeh_timeout) === \"undefined\" || force !== \"\") {\n",
       "      window._bokeh_timeout = Date.now() + 0;\n",
       "      window._bokeh_failed_load = false;\n",
       "    }\n",
       "  \n",
       "    var NB_LOAD_WARNING = {'data': {'text/html':\n",
       "       \"<div style='background-color: #fdd'>\\n\"+\n",
       "       \"<p>\\n\"+\n",
       "       \"BokehJS does not appear to have successfully loaded. If loading BokehJS from CDN, this \\n\"+\n",
       "       \"may be due to a slow or bad network connection. Possible fixes:\\n\"+\n",
       "       \"</p>\\n\"+\n",
       "       \"<ul>\\n\"+\n",
       "       \"<li>re-rerun `output_notebook()` to attempt to load from CDN again, or</li>\\n\"+\n",
       "       \"<li>use INLINE resources instead, as so:</li>\\n\"+\n",
       "       \"</ul>\\n\"+\n",
       "       \"<code>\\n\"+\n",
       "       \"from bokeh.resources import INLINE\\n\"+\n",
       "       \"output_notebook(resources=INLINE)\\n\"+\n",
       "       \"</code>\\n\"+\n",
       "       \"</div>\"}};\n",
       "  \n",
       "    function display_loaded() {\n",
       "      if (window.Bokeh !== undefined) {\n",
       "        Bokeh.$(\"#0f121d02-cee5-4f27-ac85-0b2689221cd4\").text(\"BokehJS successfully loaded.\");\n",
       "      } else if (Date.now() < window._bokeh_timeout) {\n",
       "        setTimeout(display_loaded, 100)\n",
       "      }\n",
       "    }\n",
       "  \n",
       "    function run_callbacks() {\n",
       "      window._bokeh_onload_callbacks.forEach(function(callback) { callback() });\n",
       "      delete window._bokeh_onload_callbacks\n",
       "      console.info(\"Bokeh: all callbacks have finished\");\n",
       "    }\n",
       "  \n",
       "    function load_libs(js_urls, callback) {\n",
       "      window._bokeh_onload_callbacks.push(callback);\n",
       "      if (window._bokeh_is_loading > 0) {\n",
       "        console.log(\"Bokeh: BokehJS is being loaded, scheduling callback at\", now());\n",
       "        return null;\n",
       "      }\n",
       "      if (js_urls == null || js_urls.length === 0) {\n",
       "        run_callbacks();\n",
       "        return null;\n",
       "      }\n",
       "      console.log(\"Bokeh: BokehJS not loaded, scheduling load and callback at\", now());\n",
       "      window._bokeh_is_loading = js_urls.length;\n",
       "      for (var i = 0; i < js_urls.length; i++) {\n",
       "        var url = js_urls[i];\n",
       "        var s = document.createElement('script');\n",
       "        s.src = url;\n",
       "        s.async = false;\n",
       "        s.onreadystatechange = s.onload = function() {\n",
       "          window._bokeh_is_loading--;\n",
       "          if (window._bokeh_is_loading === 0) {\n",
       "            console.log(\"Bokeh: all BokehJS libraries loaded\");\n",
       "            run_callbacks()\n",
       "          }\n",
       "        };\n",
       "        s.onerror = function() {\n",
       "          console.warn(\"failed to load library \" + url);\n",
       "        };\n",
       "        console.log(\"Bokeh: injecting script tag for BokehJS library: \", url);\n",
       "        document.getElementsByTagName(\"head\")[0].appendChild(s);\n",
       "      }\n",
       "    };var element = document.getElementById(\"0f121d02-cee5-4f27-ac85-0b2689221cd4\");\n",
       "    if (element == null) {\n",
       "      console.log(\"Bokeh: ERROR: autoload.js configured with elementid '0f121d02-cee5-4f27-ac85-0b2689221cd4' but no matching script tag was found. \")\n",
       "      return false;\n",
       "    }\n",
       "  \n",
       "    var js_urls = [];\n",
       "  \n",
       "    var inline_js = [\n",
       "      function(Bokeh) {\n",
       "        Bokeh.$(function() {\n",
       "            var docs_json = {\"c8901ad8-6bcb-445c-b2a2-e8c9f92636ee\":{\"roots\":{\"references\":[{\"attributes\":{\"fill_alpha\":{\"value\":0.1},\"fill_color\":{\"value\":\"#1f77b4\"},\"line_alpha\":{\"value\":0.1},\"line_color\":{\"value\":\"#1f77b4\"},\"line_width\":{\"value\":3},\"x\":{\"field\":\"x\"},\"y\":{\"field\":\"y\"}},\"id\":\"0ecaa4eb-35ce-48cc-b374-a5945f4bdf1e\",\"type\":\"Circle\"},{\"attributes\":{\"callback\":null,\"overlay\":{\"id\":\"3b39a0a0-a5f6-44fd-a95e-d8fab29c1c30\",\"type\":\"PolyAnnotation\"},\"plot\":{\"id\":\"11ee1399-9b3d-4f49-8571-1183a45238f2\",\"subtype\":\"Figure\",\"type\":\"Plot\"}},\"id\":\"d4702e96-03cd-4706-9ce9-90299ce0470d\",\"type\":\"LassoSelectTool\"},{\"attributes\":{},\"id\":\"13dd9adf-b785-4588-b5f4-2bb4b7cc5aa4\",\"type\":\"BasicTickFormatter\"},{\"attributes\":{\"align\":\"center\",\"plot\":null,\"text\":null},\"id\":\"ec324d0f-3c94-46a6-8cab-86f5e2c9ee96\",\"type\":\"Title\"},{\"attributes\":{\"fill_alpha\":{\"value\":0.5},\"fill_color\":{\"value\":\"lightgrey\"},\"level\":\"overlay\",\"line_alpha\":{\"value\":1.0},\"line_color\":{\"value\":\"black\"},\"line_dash\":[4,4],\"line_width\":{\"value\":2},\"plot\":null,\"xs_units\":\"screen\",\"ys_units\":\"screen\"},\"id\":\"7d902afa-457c-45ed-a90e-73c258cb82fb\",\"type\":\"PolyAnnotation\"},{\"attributes\":{\"fill_alpha\":{\"value\":0.5},\"fill_color\":{\"value\":\"lightgrey\"},\"level\":\"overlay\",\"line_alpha\":{\"value\":1.0},\"line_color\":{\"value\":\"black\"},\"line_dash\":[4,4],\"line_width\":{\"value\":2},\"plot\":null,\"xs_units\":\"screen\",\"ys_units\":\"screen\"},\"id\":\"3b39a0a0-a5f6-44fd-a95e-d8fab29c1c30\",\"type\":\"PolyAnnotation\"},{\"attributes\":{\"callback\":null,\"overlay\":{\"id\":\"0df489fa-18b1-4ae7-94cb-ba868d38220c\",\"type\":\"BoxAnnotation\"},\"plot\":{\"id\":\"11ee1399-9b3d-4f49-8571-1183a45238f2\",\"subtype\":\"Figure\",\"type\":\"Plot\"},\"renderers\":[{\"id\":\"19de2a30-33c6-4473-8411-0f63fea3197e\",\"type\":\"GlyphRenderer\"},{\"id\":\"86f23953-7a10-482c-87e2-3eb13578e56b\",\"type\":\"GlyphRenderer\"}]},\"id\":\"48155d74-c005-4ade-8dad-4348ca09df2b\",\"type\":\"BoxSelectTool\"},{\"attributes\":{\"fill_color\":{\"value\":\"#80B1D3\"},\"line_color\":{\"value\":\"#80B1D3\"},\"line_width\":{\"value\":3},\"x\":{\"field\":\"x\"},\"y\":{\"field\":\"y\"}},\"id\":\"cb04b86c-3452-4541-9e91-024f8f8f0dd9\",\"type\":\"Circle\"},{\"attributes\":{\"bottom_units\":\"screen\",\"fill_alpha\":{\"value\":0.5},\"fill_color\":{\"value\":\"lightgrey\"},\"left_units\":\"screen\",\"level\":\"overlay\",\"line_alpha\":{\"value\":1.0},\"line_color\":{\"value\":\"black\"},\"line_dash\":[4,4],\"line_width\":{\"value\":2},\"plot\":null,\"render_mode\":\"css\",\"right_units\":\"screen\",\"top_units\":\"screen\"},\"id\":\"0df489fa-18b1-4ae7-94cb-ba868d38220c\",\"type\":\"BoxAnnotation\"},{\"attributes\":{},\"id\":\"3fe29700-599d-4dff-ab2b-b4d0042dbc71\",\"type\":\"BasicTickFormatter\"},{\"attributes\":{\"dimension\":1,\"plot\":{\"id\":\"11ee1399-9b3d-4f49-8571-1183a45238f2\",\"subtype\":\"Figure\",\"type\":\"Plot\"},\"ticker\":{\"id\":\"e2fe4b32-5960-41a3-8916-b3d7e13541eb\",\"type\":\"BasicTicker\"}},\"id\":\"b0f395ac-22ac-4e48-a4ef-9df946641fba\",\"type\":\"Grid\"},{\"attributes\":{\"active_drag\":\"auto\",\"active_scroll\":\"auto\",\"active_tap\":\"auto\",\"tools\":[{\"id\":\"254561be-123d-42a5-8755-f54b6d2d88cd\",\"type\":\"BoxZoomTool\"},{\"id\":\"48155d74-c005-4ade-8dad-4348ca09df2b\",\"type\":\"BoxSelectTool\"},{\"id\":\"102459ff-2234-45ab-a181-76105ec51e0b\",\"type\":\"CrosshairTool\"},{\"id\":\"b83762af-f596-43f4-9913-80c77bf00ae2\",\"type\":\"ResizeTool\"},{\"id\":\"bc63cfa9-bea3-4d99-ab97-7eefd911b7bf\",\"type\":\"ResetTool\"},{\"id\":\"d4702e96-03cd-4706-9ce9-90299ce0470d\",\"type\":\"LassoSelectTool\"},{\"id\":\"d87d3ac5-2dd6-4b1f-a068-1eb7a089f18d\",\"type\":\"PanTool\"},{\"id\":\"1b224f6e-9769-4502-b191-cebd85b6f198\",\"type\":\"SaveTool\"},{\"id\":\"f1f35eb8-c61b-497a-8ff7-3acefd48cc03\",\"type\":\"PolySelectTool\"},{\"id\":\"e0983bd1-86e0-4060-a94e-d7d372a38f48\",\"type\":\"TapTool\"},{\"id\":\"dcaba1a0-927e-46fd-90c5-935239965fae\",\"type\":\"WheelZoomTool\"},{\"id\":\"139d938d-df0b-452e-b126-be1823e76d90\",\"type\":\"UndoTool\"}]},\"id\":\"095a013c-7edd-4e36-9dae-a1fb7d5f3610\",\"type\":\"Toolbar\"},{\"attributes\":{\"axis_label\":\"Predicted\",\"axis_label_text_color\":{\"value\":\"#aa6666\"},\"formatter\":{\"id\":\"3fe29700-599d-4dff-ab2b-b4d0042dbc71\",\"type\":\"BasicTickFormatter\"},\"plot\":{\"id\":\"11ee1399-9b3d-4f49-8571-1183a45238f2\",\"subtype\":\"Figure\",\"type\":\"Plot\"},\"ticker\":{\"id\":\"e2fe4b32-5960-41a3-8916-b3d7e13541eb\",\"type\":\"BasicTicker\"}},\"id\":\"6b3de87c-8b32-4018-a064-66c9edfff0c8\",\"type\":\"LinearAxis\"},{\"attributes\":{\"plot\":{\"id\":\"11ee1399-9b3d-4f49-8571-1183a45238f2\",\"subtype\":\"Figure\",\"type\":\"Plot\"}},\"id\":\"bc63cfa9-bea3-4d99-ab97-7eefd911b7bf\",\"type\":\"ResetTool\"},{\"attributes\":{},\"id\":\"976080b7-c6a0-42d6-b066-43a002e99785\",\"type\":\"BasicTicker\"},{\"attributes\":{},\"id\":\"3644312f-f5e2-4595-8620-b1443590dc08\",\"type\":\"ToolEvents\"},{\"attributes\":{\"plot\":{\"id\":\"11ee1399-9b3d-4f49-8571-1183a45238f2\",\"subtype\":\"Figure\",\"type\":\"Plot\"}},\"id\":\"1b224f6e-9769-4502-b191-cebd85b6f198\",\"type\":\"SaveTool\"},{\"attributes\":{\"plot\":{\"id\":\"11ee1399-9b3d-4f49-8571-1183a45238f2\",\"subtype\":\"Figure\",\"type\":\"Plot\"}},\"id\":\"139d938d-df0b-452e-b126-be1823e76d90\",\"type\":\"UndoTool\"},{\"attributes\":{\"callback\":null,\"column_names\":[\"y\",\"x\"],\"data\":{\"x\":[104.13,140.987],\"y\":[104.13,140.987]}},\"id\":\"9504f0e8-ae93-4e0a-af4d-69846045b360\",\"type\":\"ColumnDataSource\"},{\"attributes\":{},\"id\":\"e2fe4b32-5960-41a3-8916-b3d7e13541eb\",\"type\":\"BasicTicker\"},{\"attributes\":{\"plot\":{\"id\":\"11ee1399-9b3d-4f49-8571-1183a45238f2\",\"subtype\":\"Figure\",\"type\":\"Plot\"}},\"id\":\"b83762af-f596-43f4-9913-80c77bf00ae2\",\"type\":\"ResizeTool\"},{\"attributes\":{\"overlay\":{\"id\":\"7d902afa-457c-45ed-a90e-73c258cb82fb\",\"type\":\"PolyAnnotation\"},\"plot\":{\"id\":\"11ee1399-9b3d-4f49-8571-1183a45238f2\",\"subtype\":\"Figure\",\"type\":\"Plot\"}},\"id\":\"f1f35eb8-c61b-497a-8ff7-3acefd48cc03\",\"type\":\"PolySelectTool\"},{\"attributes\":{\"axis_label\":\"Measured\",\"axis_label_text_color\":{\"value\":\"#aa6666\"},\"formatter\":{\"id\":\"13dd9adf-b785-4588-b5f4-2bb4b7cc5aa4\",\"type\":\"BasicTickFormatter\"},\"major_tick_line_color\":{\"value\":\"firebrick\"},\"major_tick_line_width\":{\"value\":3},\"minor_tick_line_color\":{\"value\":\"orange\"},\"plot\":{\"id\":\"11ee1399-9b3d-4f49-8571-1183a45238f2\",\"subtype\":\"Figure\",\"type\":\"Plot\"},\"ticker\":{\"id\":\"976080b7-c6a0-42d6-b066-43a002e99785\",\"type\":\"BasicTicker\"}},\"id\":\"ac6783ef-2578-483f-a4f2-b134a7bf2153\",\"type\":\"LinearAxis\"},{\"attributes\":{\"callback\":null,\"column_names\":[\"x\",\"y\"],\"data\":{\"x\":[127.206,136.284,117.50399999999999,122.34100000000001,114.042,135.079,127.23299999999999,123.689,118.005,135.346,126.53399999999999,135.368,111.959,125.816,119.62100000000001,132.039,118.365,124.74799999999999,112.506,122.375,120.505,121.315,109.25399999999999,119.505,118.214,124.355,115.91,139.438,124.493,129.68,134.533,114.309,129.45,116.411,118.12899999999999,118.712,131.836,110.905,129.569,124.273,129.02700000000002,124.852,115.679,117.624,127.12700000000001,119.375,119.07,118.941,113.333,127.7,131.45600000000002,121.485,129.8,127.04,134.0,128.774,124.45,124.84299999999999,114.9,118.757,128.35399999999998,130.197,118.145,133.097,125.726,116.241,124.17,115.85700000000001,129.965,121.399,120.766,118.12200000000001,132.513,132.304,127.63799999999999,124.555,128.95600000000002,126.835,130.96,128.562,115.863,126.395,133.756,113.10799999999999,121.301,113.958,124.346,136.886,117.037,131.636,131.111,129.33,112.803,128.536,133.774,134.273,123.08200000000001,128.92700000000002,117.119,134.556,127.179,133.59799999999998,122.044,128.929,121.889,129.415,130.123,120.228,128.857,115.079,128.518,124.154,129.256,130.781,124.156,134.56799999999998,122.088,131.313,123.965,120.92,133.649,116.295,135.674,130.195,129.567,119.294,125.715,137.233,116.84899999999999,124.69200000000001,116.694,130.34,131.205,126.189,119.67,127.006,130.934,121.499,127.796,134.268,136.031,131.918,133.79,130.299,133.355,134.111,115.321,133.012,128.64700000000002,127.92,122.905,129.285,116.225,132.43,115.234,125.40100000000001,127.39399999999999,131.346,122.61200000000001,122.315,121.059,124.304,122.035,115.65899999999999,125.555,112.014,132.202,115.846,118.595,138.523,130.114,116.603,130.392,121.789,122.435,134.22799999999998,113.492,128.127,111.911,125.527,116.229,120.85600000000001,127.35600000000001,137.026,129.03799999999998,126.09700000000001,127.054,129.14700000000002,134.02200000000002,133.894,120.458,120.47200000000001,132.898,127.008,120.484,130.898,112.039,118.82700000000001,120.07799999999999,126.195,125.728,120.137,135.234,118.816,121.65899999999999,117.087,114.927,133.48,107.26700000000001,126.898,120.324,132.134,109.95100000000001,126.59899999999999,126.64200000000001,129.11700000000002,117.15100000000001,117.432,125.867,118.964,127.676,133.211,110.515,114.554,133.29399999999998,120.354,126.291,127.53,117.154,127.90299999999999,118.955,128.401,128.829,128.545,117.134,135.164,134.563,134.11,116.677,133.01,129.953,127.197,129.55200000000002,127.696,118.045,137.06799999999998,127.75299999999999,131.808,125.054,134.996,132.05,126.514,119.135,129.889,137.007,139.918,124.395,127.398,133.023,130.349,118.743,119.854,118.05,127.329,126.04899999999999,126.116,135.227,112.848,112.265,133.768,115.969,128.762,112.699,125.941,135.248,116.723,117.38600000000001,118.564,128.086,125.045,126.74600000000001,122.766,128.265,129.869,122.771,118.99799999999999,132.886,134.826,108.40700000000001,127.564,126.736,130.629,118.024,120.963,133.071,124.71700000000001,131.06,124.39299999999999,125.589,125.22,124.001,127.07600000000001,126.838,123.742,123.76100000000001,118.441,115.304,131.129,128.312,124.61200000000001,131.80700000000002,132.095,122.101,135.953,120.05799999999999,135.308,122.411,131.453,121.40700000000001,128.49200000000002,133.846,112.209,130.335,107.985,115.818,139.428,120.229,118.34299999999999,123.445,113.00399999999999,106.88,116.10799999999999,127.71,128.704,133.649,111.35,110.689,114.634,137.076,129.053,133.58700000000002,135.32399999999998,130.817,115.085,126.88600000000001,132.304,124.835,134.336,125.89,123.514,117.911,114.47399999999999,108.265,127.928,131.434,122.147,132.769,129.77700000000002,134.498,116.12799999999999,123.416,124.12100000000001,125.20299999999999,130.845,110.491,129.343,116.22,128.144,122.79,130.156,121.93299999999999,123.274,118.41,134.34,124.23299999999999,136.83700000000002,114.861,130.049,120.786,119.319,128.335,114.477,123.635,136.826,130.477,129.116,126.82600000000001,120.055,126.75200000000001,129.004,108.721,125.26100000000001,133.79,130.332,132.184,115.215,124.98700000000001,117.287,120.79799999999999,119.135,116.72399999999999,112.68799999999999,121.31299999999999,120.446,135.484,134.43,130.791,131.725,123.537,130.46,106.26,117.465,118.994,128.29,106.58200000000001,128.244,125.603,127.101,128.69799999999998,119.646,129.964,122.72399999999999,130.065,129.667,127.54799999999999,128.401,126.64399999999999,129.5,130.148,132.114,130.965,123.695,118.291,122.21799999999999,124.685,128.311,113.85799999999999,132.588,115.14399999999999,116.184,123.31200000000001,116.074,125.99799999999999,119.208,120.088,134.987,125.194,116.366,122.21600000000001,136.798,121.28399999999999,123.443,129.645,122.845,128.119,108.991,113.288,132.357,125.499,124.40299999999999,125.398,132.003,129.575,120.061,129.675,117.96700000000001,127.054,121.154,130.722,125.625,137.047,127.095,131.971,133.153,132.35399999999998,127.315,123.991,117.604,132.58700000000002,115.645,127.251,125.824,128.805,126.34299999999999,134.247,133.207,137.207,121.944,120.555,121.485,126.54,138.123,131.796,125.721,132.611,135.54,123.87899999999999,122.17,129.002,125.20100000000001,123.86200000000001,134.87,124.04899999999999,125.85700000000001,133.201,124.439,129.308,124.665,130.961,108.03399999999999,124.024,131.234,119.51299999999999,117.875,118.113,125.539,126.616,116.815,122.765,131.015,130.269,135.07,133.707,120.324,131.582,128.435,130.688,114.41799999999999,110.905,108.03399999999999,112.945,131.184,116.417,133.062,129.653,124.64399999999999,127.443,126.446,108.684,123.835,123.62299999999999,128.42700000000002,126.54,113.12899999999999,124.338,126.195,132.158,130.30700000000002,132.251,121.775,111.53399999999999,124.625,133.19799999999998,112.241,120.53399999999999,123.126,125.87200000000001,119.111,120.60700000000001,129.491,128.99,134.946,116.92,122.292,125.631,128.718,129.468,137.658,123.09100000000001,133.174,113.055,125.353,119.229,126.79,128.139,126.471,129.63299999999998,128.713,119.632,130.644,120.147,129.776,130.67,124.512,128.707,130.72299999999998,125.12700000000001,131.56799999999998,125.34299999999999,129.329,123.037,115.37200000000001,117.195,121.235,122.45,133.23,131.955,130.77700000000002,122.413,127.039,124.647,117.478,119.73700000000001,131.515,121.65700000000001,118.696,135.924,126.34899999999999,119.22399999999999,124.43799999999999,132.27100000000002,129.05700000000002,118.09100000000001,133.042,135.329,113.03399999999999,128.175,125.319,118.01799999999999,120.553,112.139,132.796,120.53200000000001,129.148,126.45700000000001,133.251,120.51299999999999,122.37100000000001,123.865,130.089,130.173,129.937,131.817,132.149,122.39399999999999,114.569,128.345,130.869,119.039,127.947,126.96600000000001,117.11,131.446,131.274,133.808,125.45200000000001,126.944,123.82,120.189,127.76299999999999,114.258,130.908,116.792,112.639,116.165,123.054,106.22399999999999,125.802,133.032,127.801,122.235,120.07600000000001,109.22200000000001,129.864,114.044,123.609,130.748,121.256,112.541,116.15100000000001,128.2,125.094,123.069,130.588,119.806,120.595,126.021,124.10600000000001,116.956,129.27,139.808,126.896,125.116,117.927,129.099,116.181,117.925,123.807,130.94,119.88799999999999,125.398,125.02600000000001,125.727,116.134,121.47399999999999,132.011,123.595,132.118,136.536,128.643,133.436,128.977,111.588,120.397,121.78299999999999,110.555,125.741,119.708,104.13,113.665,127.29899999999999,123.445,122.044,124.756,129.556,127.73,126.43,114.75,134.058,131.264,122.439,131.642,109.71799999999999,119.561,114.258,113.79899999999999,135.468,136.941,133.72799999999998,124.353,113.29799999999999,132.595,123.354,129.494,128.576,130.469,128.416,129.516,128.246,128.763,128.365,127.229,113.11,130.374,136.583,119.639,125.524,131.542,132.89700000000002,140.158,129.377,122.648,131.471,134.976,134.05200000000002,115.413,120.53399999999999,127.01100000000001,133.22299999999998,110.307,115.29799999999999,117.28399999999999,120.71600000000001,107.405,111.459,127.465,126.29899999999999,122.93799999999999,134.034,110.78,120.227,128.97799999999998,126.537,128.879,124.336,125.99700000000001,109.949,126.20100000000001,123.255,131.364,123.564,120.03399999999999,127.634,122.41,130.541,128.216,121.52799999999999,106.604,133.653,130.947,128.36,133.38,128.816,128.74,116.476,129.296,130.955,128.939,126.536,127.59100000000001,122.78200000000001,127.686,120.209,125.79700000000001,123.304,127.40799999999999,131.44799999999998,123.12,120.193,123.465,119.649,131.07399999999998,130.893,125.81700000000001,113.775,135.866,123.455,127.315,126.15899999999999,124.18799999999999,126.17,120.49700000000001,112.169,130.828,118.416,133.311,129.744,118.92200000000001,133.378,124.12700000000001,123.061,131.467,122.471,113.045,135.459,119.945,130.935,136.384,119.777,118.859,115.60799999999999,114.249,126.21799999999999,110.124,127.488,117.514,121.397,124.25299999999999,130.638,124.22200000000001,122.708,120.573,128.907,122.919,124.208,122.89299999999999,128.306,123.311,128.252,116.066,121.54700000000001,118.385,129.395,128.339,120.755,130.34799999999998,119.04,121.165,114.709,125.01,114.714,124.931,122.08200000000001,110.839,117.32799999999999,127.285,132.793,120.015,125.62700000000001,131.491,121.885,128.939,121.306,124.39399999999999,115.46600000000001,125.427,125.586,119.35,121.635,130.507,132.355,115.59100000000001,127.22,126.713,132.086,121.62700000000001,112.355,134.43,116.56,125.85600000000001,130.614,123.177,131.236,117.99600000000001,127.307,129.681,126.838,131.615,124.426,125.376,128.878,131.96,128.444,133.04,110.868,116.78299999999999,126.645,121.514,135.42600000000002,132.358,131.43,112.524,121.90299999999999,121.617,131.92,129.97299999999998,114.751,126.152,116.559,130.496,117.789,133.13,120.569,129.86700000000002,115.89,110.447,124.214,126.78,112.675,131.80700000000002,124.244,126.632,130.144,119.73700000000001,120.419,129.395,128.708,135.328,129.977,134.226,122.397,136.75799999999998,128.63299999999998,131.966,119.535,124.904,110.89399999999999,127.632,129.134,120.162,128.296,130.0,118.134,130.30700000000002,127.899,131.01,129.465,131.955,126.959,120.726,113.315,120.95200000000001,124.42,119.15899999999999,123.89399999999999,114.984,122.539,123.178,131.865,131.31,121.225,118.26700000000001,121.762,121.58200000000001,133.241,127.22399999999999,135.433,134.625,130.20600000000002,126.045,128.595,126.805,136.88299999999998,111.818,119.916,123.41,125.96600000000001,126.266,135.38,128.56,120.154,133.924,114.404,130.595,128.398,136.16299999999998,125.992,119.60600000000001,123.565,132.252,130.89,124.27600000000001,110.22399999999999,123.775,117.054,127.91,127.417,120.319,119.15100000000001,133.40200000000002,110.36399999999999,126.677,123.583,120.189,110.264,123.305,120.835,113.525,127.84700000000001,122.94,118.634,117.976,128.86700000000002,122.088,124.525,124.101,127.094,128.381,126.5,132.043,129.144,115.792,127.63600000000001,133.063,134.227,124.25399999999999,128.72299999999998,133.261,113.229,119.34299999999999,126.066,120.527,115.89299999999999,129.395,112.251,132.116,122.679,121.234,123.417,131.023,123.209,121.99600000000001,120.766,129.037,121.146,122.60600000000001,124.166,124.809,131.346,124.10799999999999,135.49,115.391,126.805,127.24600000000001,125.211,129.84799999999998,131.656,122.75399999999999,116.92399999999999,134.236,132.828,124.07700000000001,126.54,129.30100000000002,125.586,115.691,117.309,133.04,115.635,128.454,131.221,129.292,121.10600000000001,127.318,129.36700000000002,120.33,123.081,119.54,109.663,123.74,130.07299999999998,115.801,128.40200000000002,123.839,115.99600000000001,123.917,131.69799999999998,117.785,120.851,130.567,114.9,127.89299999999999,109.52,133.847,119.17399999999999,125.465,115.461,126.846,115.52,127.62299999999999,126.35600000000001,120.037,128.082,138.55700000000002,126.59,122.384,123.78,128.83100000000002,131.279,128.423,110.31299999999999,127.35799999999999,117.741,131.036,123.189,131.97799999999998,125.10700000000001,128.67700000000002,122.365,134.47799999999998,113.086,125.39,118.667,131.186,115.311,129.969,125.15700000000001,134.938,133.252,114.085,125.47200000000001,134.476,111.07600000000001,123.46600000000001,122.675,117.95700000000001,111.135,119.598,126.486,116.55,128.971,131.281,120.779,121.664,126.93299999999999,132.889,131.889,126.743,126.001,112.065,116.96700000000001,122.288,139.226,129.35399999999998,135.191,115.309,108.625,132.918,135.803,129.94899999999998,124.318,123.39200000000001,130.311,119.209,136.191,123.54299999999999,122.211,121.431,113.334,112.76799999999999,121.318,136.023,127.86399999999999,134.85299999999998,128.257,122.956,137.813,123.988,130.156,140.987,130.77700000000002,122.149],\"y\":[133.66630525141318,125.01494859301653,119.53363104337497,122.74936099015866,115.64975250960333,127.04292816281712,127.5397782200341,122.6308469193317,124.82486651426353,130.81858986059808,127.93418629654425,125.46896766398521,117.25627045881622,128.39640046078753,127.35974317352536,123.11589829525752,122.5321079539486,124.23335048977911,129.41546617147299,121.79737620986877,120.88261804087897,121.19091233098868,114.8239595422844,123.16902402312701,117.24424060516232,122.75275031363638,116.83474211909153,126.619941465855,124.09848186572148,136.10621160982856,130.87474126473933,119.61285991477631,136.87051089284265,123.66571693228961,124.92374476837395,120.76370771839775,132.72933806813327,116.89809802472625,124.55096502379394,128.0702330350499,125.65029164628324,125.53823130112006,117.32833679931086,115.43469020164852,128.19795592299684,120.27191976111467,118.19222728276708,121.62749855091974,120.23740485282413,128.22604030023044,133.99013976954424,121.55062571229406,133.30125004078522,123.72617908142995,127.46174101721637,131.75568271161467,124.38442507228758,122.46160756793299,116.70735890525584,123.67006767213599,121.8265288924172,131.05725598674218,119.24971193315517,129.02016265323456,133.88285671493384,118.07385494525853,125.95538532355435,126.51018613522763,128.21121153380324,121.99393085015329,132.86412917919515,119.71803093998928,128.83577178673255,133.13289438884252,133.64601442971855,124.06056723124945,129.1491883025411,123.0915002520706,137.12527732051402,131.38545456183738,118.04519029212895,126.16210206991171,132.64723954072772,116.70662844199408,122.09207459570233,118.24633943950214,126.69384479132573,124.61451621523788,121.9786953684922,127.45814407433981,129.14319512722386,125.47132911097877,112.25379255975244,126.59305648746927,123.5728494577321,129.15422982132174,132.42679557232964,132.6653824666063,120.595629697583,130.16864335447383,121.9968450497755,131.2317332908703,123.3324494594607,122.82291690343546,124.64069208314466,121.59216945457108,129.91852910433585,124.42700360100757,129.1623440861251,122.45713246473262,124.72918946122093,123.10074000381555,127.13968603975061,131.66618595865629,133.8757869926544,130.37536450570127,123.94489397530572,130.85886953864753,126.7463045746929,121.17851480471634,130.5466870854335,120.54563687520552,123.75176889438093,129.32007342025395,126.12530383985889,130.82981790401627,123.8887372612625,129.88095748607773,123.55207566186412,128.1994894795435,121.87285186453174,125.84957216798388,129.00203168056066,121.97409467977707,124.05362746769234,127.29329731060112,124.71157102498466,123.30824205119869,128.4382475734969,128.82887598793718,130.41510533292706,126.6562452096694,126.93021345142644,123.08182363278831,128.64871081503009,130.06816644877205,118.58439147194824,129.22078604547656,131.62767375805635,133.39000781659317,129.9561568996405,125.35172926385157,121.01614890502445,126.78878642905451,118.92416153104236,131.9672386050816,131.95284186470525,123.46598792508428,127.15321640815841,120.91303309764716,121.6824399781379,125.02771544927215,122.18409075005364,120.23805533279403,122.46393659257929,117.79166669252896,131.2833525918821,129.15800880119855,124.16458558457403,130.4794739553165,130.42624151417755,122.3976563770861,127.3125356073169,125.52393444796243,120.65859970589254,129.4773686401303,115.18385456601138,130.9915902786698,127.48036752889507,128.16077097389584,117.30347203732398,119.389977194125,129.67224952350682,122.59583793023322,128.71380842184067,123.6656387577947,128.23368665839723,125.89613936441023,128.90274430578327,131.41410405532997,123.2231439423128,122.47473816506457,124.82155006780194,122.65886623788766,118.29361691409713,123.14978608006976,119.54474974172886,120.80747152931784,132.03473672404542,127.49533058938424,125.19500272841111,126.7675737311698,125.2586028172571,117.03646832039476,123.6358606191771,118.2699206909388,119.82539421330429,127.80074238065818,112.95418839608152,131.38561907828992,123.21589865575928,126.59360837029419,127.62666672915398,132.15825973649797,125.36119023619617,129.05132892871995,118.43149031797434,120.31561733406487,126.8886450988057,117.7847501305879,124.65911666162373,129.71585236121285,114.30529165408251,116.76701656356941,123.83445974670119,122.96870229146552,131.02229166785187,128.74098211542787,119.85112348879676,129.8792625143129,125.50357254393465,131.7509702220902,128.6513432780457,121.67633327291102,121.50571028887646,127.2512198154792,124.52431017367678,128.775556173162,120.2925944428233,131.3198900907082,130.9552900088438,124.30172223718125,122.82334045524469,126.09487251502841,119.60441126774413,125.80028189595426,128.45233613628994,126.72482607846416,132.5922875005085,128.51007990952365,132.29070295887007,124.94867832667131,120.52694403123817,126.63802843915082,134.66996486906274,126.74012449372471,123.92797278618119,123.91450153325641,130.23838671042003,124.56048557166856,119.29968486981325,119.76822033355309,122.24836986697018,123.83881881921371,121.9812706081796,126.27619516662685,130.86004018162177,119.12350401178374,118.72121847518736,126.25566220767394,118.98916928208459,127.15137263291585,117.3317983034898,131.00972072000016,126.4728977514905,124.56092747911698,123.05533862900516,121.70015015417103,125.87813938705833,124.03292110134251,126.1601070001682,130.0029865215929,121.64167496469892,124.08877229314544,124.92564052824339,120.24999694228161,127.63318114709637,132.19841322991263,116.14354334881098,126.47855922998957,125.3049772476531,128.84106187851845,121.02116513352689,120.76582073549324,129.25536420744822,120.84155262275078,135.1855224665489,125.64374232773889,126.4776941998595,121.79906456251413,124.09309546459446,134.62072466016653,125.7839489291508,124.72906120266194,125.43560082934948,121.42618402270638,118.45368879965396,131.58209849696365,122.56836030469165,126.19519706834194,127.764451164626,133.3142137684196,122.05325426017012,130.02165358244994,124.91305327573907,129.5829638395206,126.95973156683246,121.23007295686095,123.18736830558295,127.7250779716602,131.61868462994184,118.76852071121127,134.27038933299352,114.11976052338417,119.02697493949518,125.69191533196921,121.34773567470023,123.84786239106282,123.3172967956491,117.53973624025777,114.53062086493257,119.82737186924922,125.9897206279754,129.3013707658247,130.81715804530452,115.87386610314411,114.81955289574735,116.78931350897395,122.35414321498429,130.9983254893528,128.84811680447643,125.12280349516699,128.08957557211187,121.68727239313597,129.76712988233135,123.99497150914841,127.4707786696314,125.57780817816366,126.07307212526582,118.83615902548352,122.89231988838637,105.72235610034433,111.79387387479646,124.92697488031008,133.12607302412033,126.6603971040981,131.26337330877234,126.48955041186078,128.6316343184877,132.20995113893397,122.86410351609038,130.94705964843254,125.8792810468427,126.44986835243648,127.9300705979896,130.6611465900329,122.48162779125951,129.70083486235038,132.90465322386953,125.5765575166361,110.43910392620758,127.48293962538355,121.37251829303159,127.50782454808919,128.57842898265082,132.08214961158055,119.8211398303044,127.69609506630964,122.06598859464455,125.13349391447136,123.66530960436086,119.10350077361241,126.89924116406974,127.25278495549696,117.33863912488017,118.94280631753857,127.19332568018035,122.65186786922108,126.79725017549877,125.91532794917939,107.17403074209551,125.5845121114691,127.29776652900185,131.76286937949362,124.66533623873251,119.68125671990586,120.97994756282881,121.72333958847652,122.13237340753106,121.4236715956068,119.59906803387854,118.76941016422532,122.55870955952261,126.22532420342658,128.68629364419624,131.13730007411556,128.12787469627628,133.83714964168854,128.59544207439242,126.78647176979936,113.33412141580746,119.788847446826,122.37275729203051,128.47620970935085,106.50671185120135,128.69559551098442,126.78071483525954,131.2688995290003,122.39943414229012,118.58964435498224,127.174666224298,121.25689629445034,125.98075665513238,131.9926548848904,122.5736756298602,127.2566672584258,123.9375345647595,129.0670055738682,130.38391124645872,130.4049276980414,128.72281229100577,123.207509565057,123.48798109316921,123.67374041295882,123.0332680774869,123.93890147611963,116.54223952166461,129.71375167888144,126.19597230749497,118.53222116760804,123.64223525393439,131.26260946672525,121.34510089480689,122.01196820516937,120.56319692712835,130.33973473587957,124.38323599476239,133.16623452702564,121.80641027935323,126.7030851782104,108.58150661687756,122.07783987898527,127.28086621623231,123.45546860506059,123.9045065257841,111.38011117972121,120.51182503992626,127.69653206575983,123.79317477931677,130.1583190558491,122.70770754337566,128.734990571771,126.23569007284175,125.05197300697216,121.84379672297051,126.59367966565028,128.7802541096874,130.99454563969434,131.1063327013069,125.29085820188423,129.56558266103772,126.08834738205252,130.13835339900814,129.40515013934828,131.16588404423223,123.73232556111859,126.0345874499629,119.73850838924716,130.3908114369752,117.96598584571285,130.63427147901533,126.01495724067527,125.62207822955307,121.57194670562951,125.1929803323308,123.03149363914659,124.70095797922441,124.86706272732536,122.12871430863675,123.31477369913712,125.88920876429437,130.39921553923202,123.75917163795262,123.69501783889322,129.55591023008662,126.91458373889962,125.50945890623288,124.75648149248232,127.42573566035676,124.50358753518194,125.53785687400337,130.66457735181106,123.20188808171483,120.87159723389495,130.1733054147272,123.33166514641275,127.99694943324127,124.38229000395222,128.73782942266683,117.32392055663526,123.82674770032602,127.81901395262592,130.19325840278407,120.11041237273248,119.2876541244447,121.63562036181493,124.33673231246857,119.26621964882997,123.99476897917731,125.19068387330591,122.15098026599365,133.84512676309924,135.61735221483588,120.58134100838414,127.555758335009,129.36168818373704,128.29837210603756,119.16742139096533,113.86341115518555,116.06533469906633,120.60653243124544,128.95174122443797,119.10883143933341,130.57636439317443,128.4222894058466,118.77344677881553,123.52908846445199,121.48393399177104,116.33990666837686,122.44336077302899,127.75618523833728,131.1462431401598,126.50455911857483,115.944206388709,126.15877614817036,127.38735806355774,123.20295237800275,125.20032410773572,124.63895723206993,122.48472427953271,117.4068416976842,124.05210554100007,125.99006051022876,112.73580976691244,122.72746676945819,122.92503882177355,126.16004814742783,120.50053786404938,118.3769963951919,124.26138147479925,127.50649159127045,131.18088471281936,120.66093043130492,128.18088717489812,124.7732839713247,130.64306805972603,127.2915034199824,131.01617919166182,126.55632708460163,124.70663967158399,118.15960429350065,123.81856321169285,120.1812820235494,127.63728639038688,127.01678170086271,125.54945839854648,128.30537961643066,129.79261879000282,121.44035118154434,130.78241625789934,125.81073824865665,122.42787338494773,127.39951179337709,124.58681582546667,127.27969443007738,122.13831034153554,133.51105898220692,125.95776933468889,125.78820790129281,124.0868166609541,123.690021078653,117.66459360883756,124.13950635279774,124.49155147596406,121.2251834200441,127.51811270788875,131.96520943800408,126.87245093378218,121.1755329107981,125.38360032047598,125.60796309546569,123.63650495657485,124.82356652126057,126.74598803936135,116.35485694013876,133.12362809505345,124.84517583128171,126.07140862353067,117.64164778608315,121.95423214982542,131.4115927716082,125.62765393983028,121.21276562789654,129.7425350494842,127.0370211596844,116.74774210124649,125.89974580196184,124.13868667203023,120.93515127122768,120.77730659048166,112.40680645270261,128.36931546814364,121.19274415542941,133.38546128426972,127.64260686792846,130.44598023545447,120.49426439843513,125.07521577251143,124.34126133598882,122.50872590845763,122.58650003453903,127.77146107315203,124.59475058198385,123.29794519293624,123.69160872084389,120.9214750973775,123.28986281719692,124.38017950044933,120.77062334338093,133.6389320116529,125.51566901478328,119.75258987968095,129.09863018999295,128.88617638171672,122.83615826617914,132.15652505539862,122.54620456169917,125.65149791598239,125.08829536029539,129.37038313351513,113.16726620054354,132.93484210073132,118.61777739235282,117.68066322768904,118.19415776345517,120.89124414306278,112.49171425992998,122.15835669158312,130.2575284020995,127.8710134723779,127.0391935260793,129.53184784742274,111.48286863922193,121.14508507630362,126.04938374934989,125.0046089404954,125.91087497608981,120.90539057271783,117.34191508053686,122.23435193038239,124.13003337691114,119.32749610785343,122.73838629638274,125.82758812107319,128.78260484383,127.00711261437115,126.5835300908396,123.58444394247584,125.18312885166797,132.64649235104957,126.53530441613589,127.67104064732725,129.7310140577885,126.13973063982979,124.25165356285491,122.46905888332243,121.22988940673565,125.16728290073755,126.68148462121302,120.66674876828712,123.83834607145599,132.3253883984997,120.21730708475364,118.71396906876468,133.36106496662083,124.641945853859,127.51847806828432,126.52572737444761,129.54844727140002,127.65299035815103,129.87916997357695,119.15474396934712,116.74085367475658,122.85313535315264,124.2923403739731,117.54582294564445,127.21343514429104,111.14690947074358,111.02628855432475,116.00543601484006,122.52146545513762,124.19396142570999,120.63374746675511,130.19299106430051,133.17019126627463,126.41237581655339,127.92907070654535,117.20620878570855,122.72672217874839,126.13782714576665,122.0946446056136,128.19234437655615,115.17089918619898,120.35782590289877,121.945879794176,115.3270680135921,130.3177969216267,129.87279969253333,131.8969243513903,126.94653913062501,118.30648140024958,132.69349578714588,123.3410154921459,125.83299325974782,134.26143611101455,125.17739285307684,122.00232850046774,128.57967812613919,128.83028814922733,128.79226054515965,123.95498012210194,127.8323163988618,119.70130636636424,129.93209118429405,130.4024299435009,124.16728611955325,124.32933312121904,128.92933342909728,131.91149671936392,125.47043009719766,130.00049126101007,131.94312053499954,126.73992292551698,131.62226529897862,130.15856375989196,118.4679807026103,120.12019036267384,125.1213890382197,132.21500314525997,117.39848682370422,120.62889782827263,120.33369521508834,122.86066782954458,110.64919860289454,117.83072438065123,127.44370366098286,122.72387735184523,131.27182183588582,131.8105852406427,115.81437772242886,122.19040898343479,125.40128204504637,123.63427189440746,126.29747131580237,135.2638762033671,129.4632760946992,116.57767426521058,127.32344598673866,122.08422755044023,124.50909122506208,122.12829600572483,121.43329931814917,125.26912070779953,123.40217333673995,127.99322451937235,129.17727298916049,121.31380167730715,114.13584725713604,128.9841620716059,127.39342224072942,128.0989410403114,126.90293581132929,128.6134004372122,125.1855613004491,116.83144860116029,127.8278480568748,128.82780982496308,122.3417047962376,125.18617456202594,126.32100589438613,121.830557026183,127.32662801069853,122.2748088976143,124.43849254495399,121.33564897465128,131.37924798305124,131.70629136123998,124.52214059199204,122.1353179247324,123.16570205552446,123.04720765682772,133.3142453791715,128.0742842345216,132.9451590322956,116.71535937814492,125.74463335826722,124.9221945717735,124.84917139899188,124.85024889094107,122.31624176965967,133.57477004478704,125.17631470192389,112.8209677827108,133.45042221022834,124.89580914550342,128.61974957709268,121.81180801851873,119.88832934725,132.63593963519193,122.41735202124183,123.31368561732856,128.686385023126,126.11364934621136,119.73220123306693,126.90520062179108,120.51791490613941,130.8139206139849,125.0326331479908,120.09254457190163,120.39523372445332,118.0529144517125,118.28561721815323,126.84823890262099,116.19993136805856,126.69516124842849,125.60303273723899,123.96525823384441,123.92768378456296,122.95042796907678,124.72403149566043,124.57781429683885,131.94381398364666,127.59386961082315,125.65281917450234,116.12006832263575,124.25956735654242,123.78629216109856,127.52521616768132,126.5177960985844,123.21397841577165,128.45291313096604,121.87243702013612,124.93867103480592,124.58589681269021,121.28254218343389,130.99084185002394,125.07650170092002,120.61234364960484,119.6143568938932,127.92990255845051,125.92746951938496,124.67078295510257,124.11696391070419,115.59427668006552,119.9108934076457,127.32762321141226,129.48768546615347,130.15634364219724,114.23520641688874,126.48610889582969,123.81905771301197,124.72858018202385,120.2291600200287,114.555840731808,119.1604006674198,125.99583061516375,124.35138918175537,123.58409250304854,124.18573852464627,127.06456652535964,125.39913208987221,119.34849968861828,125.65778054517465,131.5544898450715,132.23691268190564,123.12172260026487,117.21143169686243,132.76216245436083,116.7374324024438,129.05676654029492,121.12920339421709,120.60154300303347,130.49994285294622,118.91974042890895,132.8738903966584,126.87543303440486,121.71628714792355,125.74327425452793,124.01946634451107,120.16753080948115,131.2114588618832,127.54057841987535,120.9994286813587,131.23589651534698,114.04212674473551,126.28698181281551,124.48445953980155,122.98574279470355,127.2555750314865,125.98140032770735,132.85808042607687,117.46110062850855,122.21071051926745,129.540490303699,126.85441526707996,128.0155872396022,116.42959083956823,131.4589286204577,120.52571576868432,127.91270773026275,118.8486493644056,127.37187129315943,122.6179215891667,128.5343989632033,117.45119332316494,118.70918860112445,122.75355436740723,132.73349973516565,117.59451974703305,129.1890797060067,123.55815758712924,125.73925636535301,131.32248589479445,122.0135569579124,122.12017726838081,126.54029435369696,121.97583657364032,127.7696374969229,126.70095450737777,130.61472877117578,123.70062822507145,131.50195120160626,122.79375364284279,129.77119313759624,121.36986643120021,126.41086644925807,116.57223156290726,123.19365832726015,129.2732303087068,120.59816407009235,128.20552041243474,124.68447019873672,118.45258813982971,125.02380701046174,123.96504833727151,131.9191370166752,126.45140066692312,125.54853576262829,124.61295095179796,122.3864877961767,118.84001709238609,132.512192551948,125.61229495759918,120.99531474858922,130.7286099029128,110.67775676551237,122.42929342011398,121.95610727114789,126.78005133409329,134.81992523958533,123.31398766780349,119.84058609425017,122.68582266423859,131.864637098565,129.6611405045728,121.28687814841982,129.94103589858813,128.50737454443072,128.06474969313908,129.90604591968517,123.39959833969391,135.11278733227786,129.6374861238001,122.92876387161209,121.57292034326822,124.58662879710582,131.71645938949263,128.30447366051385,127.26075575971048,136.43968177590145,120.63012682717368,130.24031062183013,119.12212360675944,125.97195273217355,134.45401900544908,127.04345028144591,126.57323835139726,120.45085835767752,127.5867953186461,130.76320265387002,127.69299647979445,128.6998491030591,114.17899327953485,123.39057031683977,121.06583145033878,128.15009317700128,126.35094782012136,121.1790670948078,124.2532333683261,128.50702257608538,112.31489310726153,125.67170962498818,131.7978174163144,121.39690692709128,115.72853862778835,123.19137922499128,121.04632851696093,119.72599051532896,124.74446455662911,126.0840718474445,119.99107291936693,118.76631155990876,128.0098937338424,120.85263355367763,122.34213374601381,123.96668034949687,121.73156127186864,131.18837691605896,125.82491080163393,129.84412834825991,132.18401846540948,117.30648521515617,123.47975539731938,130.4300696970806,122.00989582888751,125.28298891041047,121.96507063046353,130.7913615579479,118.6970087680269,125.30881004657479,120.83169546544835,121.13639132330307,119.09177394286782,127.98585857248698,114.17289779545987,127.89629501336219,126.03662108215332,124.34269823942049,125.80129014789347,129.33498980635412,121.7421510563012,120.26440490428438,124.92930372887479,126.13066093118238,127.54524431127419,128.9201359919981,122.20811274786371,124.74253147470324,129.254255510157,125.45303248317668,129.91063891164322,115.61523760837301,127.55753447152502,126.50354863299818,122.91958309156689,133.68738903970868,133.0473650397153,118.55987305326892,131.05256121017604,129.48390065981982,129.79997335254998,126.82862263976845,127.21854350858116,125.93032112437999,135.1499928458816,121.08724280047767,119.03712041851497,130.03609353279637,118.53445170697132,126.2780303824274,124.80094270982174,122.91946648694555,121.85840045545804,125.37086199282953,129.19522060624644,123.5006977997446,123.29194332061955,129.33743015091923,116.50860356466615,125.38694703624734,134.23380982604596,120.27394454221519,128.07502034714895,124.96661150071374,120.24178192482982,121.24650795942257,130.463503702273,120.07821158441833,123.37811953088787,127.81197116614445,118.47069983573734,123.17335086697578,115.63681397338813,129.72090349894992,120.44617020094611,125.98734362573224,126.99919569173153,123.01926226793341,122.96886749041953,134.86255957154685,127.53778810529514,120.4609727208738,131.60383307187692,133.8971565067507,124.00912963278815,124.53858255242017,129.1047927450839,123.51165726819814,126.81718209232962,123.42485076517615,117.58268849541582,125.39268038058832,119.48765889699231,128.22955942894166,122.04400018724283,132.83953390193105,122.22005542793798,124.74889291886572,122.48313461994441,131.57577893817032,117.72678294282619,125.72834349446177,120.83822256817434,127.88595423171353,119.01644505121337,124.80944774407214,126.49888883910029,131.702023900291,128.64870926802266,119.85943139850332,123.20869136987596,131.0887754002019,111.16965478194257,121.0701380568806,122.73995507584927,120.14370469404608,117.5394724913827,119.75092635173486,129.67302810734347,117.35958827606062,130.62067959628234,130.406904682812,124.93093285582688,121.91314832534363,127.1003337256216,129.74510956652065,123.30149967824464,122.85897599422533,126.24469599713044,119.41396955860453,120.28965731643628,122.83636755465315,124.02526186073486,126.11455544859717,129.2170168083091,120.20991422509749,116.08693292549786,132.3307736457919,131.0900610985414,124.3186182807226,133.9712834438327,123.7330066945447,130.60026624841112,121.73341948540374,129.65714163015974,122.84117429753967,122.50565767539668,126.3829063116062,118.5807746741888,109.14609411446932,123.23311285812645,129.15168381263257,126.00031862704968,129.36545872610287,125.55576422084893,132.34187113969122,129.88417298757696,119.1270289902728,128.08660224596366,124.70463155967757,128.2520959879951,121.54793443325482]}},\"id\":\"567eafa5-d150-4b4f-8332-4d8764914795\",\"type\":\"ColumnDataSource\"},{\"attributes\":{\"plot\":{\"id\":\"11ee1399-9b3d-4f49-8571-1183a45238f2\",\"subtype\":\"Figure\",\"type\":\"Plot\"}},\"id\":\"102459ff-2234-45ab-a181-76105ec51e0b\",\"type\":\"CrosshairTool\"},{\"attributes\":{\"background_fill_alpha\":{\"value\":0.5},\"background_fill_color\":{\"value\":\"beige\"},\"below\":[{\"id\":\"ac6783ef-2578-483f-a4f2-b134a7bf2153\",\"type\":\"LinearAxis\"}],\"left\":[{\"id\":\"6b3de87c-8b32-4018-a064-66c9edfff0c8\",\"type\":\"LinearAxis\"}],\"plot_height\":500,\"plot_width\":500,\"renderers\":[{\"id\":\"ac6783ef-2578-483f-a4f2-b134a7bf2153\",\"type\":\"LinearAxis\"},{\"id\":\"88fada75-d02c-4af9-86e7-d7b9dc6c7100\",\"type\":\"Grid\"},{\"id\":\"6b3de87c-8b32-4018-a064-66c9edfff0c8\",\"type\":\"LinearAxis\"},{\"id\":\"b0f395ac-22ac-4e48-a4ef-9df946641fba\",\"type\":\"Grid\"},{\"id\":\"10f059a2-9207-4059-b394-fe089b3613b0\",\"type\":\"BoxAnnotation\"},{\"id\":\"0df489fa-18b1-4ae7-94cb-ba868d38220c\",\"type\":\"BoxAnnotation\"},{\"id\":\"3b39a0a0-a5f6-44fd-a95e-d8fab29c1c30\",\"type\":\"PolyAnnotation\"},{\"id\":\"7d902afa-457c-45ed-a90e-73c258cb82fb\",\"type\":\"PolyAnnotation\"},{\"id\":\"19de2a30-33c6-4473-8411-0f63fea3197e\",\"type\":\"GlyphRenderer\"},{\"id\":\"86f23953-7a10-482c-87e2-3eb13578e56b\",\"type\":\"GlyphRenderer\"}],\"title\":{\"id\":\"ec324d0f-3c94-46a6-8cab-86f5e2c9ee96\",\"type\":\"Title\"},\"tool_events\":{\"id\":\"3644312f-f5e2-4595-8620-b1443590dc08\",\"type\":\"ToolEvents\"},\"toolbar\":{\"id\":\"095a013c-7edd-4e36-9dae-a1fb7d5f3610\",\"type\":\"Toolbar\"},\"x_range\":{\"id\":\"52d59214-8172-49fa-b42a-574ee628cd29\",\"type\":\"DataRange1d\"},\"y_range\":{\"id\":\"a77f65cc-d7d9-4964-9758-166f6de2203e\",\"type\":\"DataRange1d\"}},\"id\":\"11ee1399-9b3d-4f49-8571-1183a45238f2\",\"subtype\":\"Figure\",\"type\":\"Plot\"},{\"attributes\":{\"overlay\":{\"id\":\"10f059a2-9207-4059-b394-fe089b3613b0\",\"type\":\"BoxAnnotation\"},\"plot\":{\"id\":\"11ee1399-9b3d-4f49-8571-1183a45238f2\",\"subtype\":\"Figure\",\"type\":\"Plot\"}},\"id\":\"254561be-123d-42a5-8755-f54b6d2d88cd\",\"type\":\"BoxZoomTool\"},{\"attributes\":{\"line_alpha\":{\"value\":0.1},\"line_color\":{\"value\":\"#1f77b4\"},\"line_dash\":[4,4],\"line_width\":{\"value\":2},\"x\":{\"field\":\"x\"},\"y\":{\"field\":\"y\"}},\"id\":\"d152afd4-f8ec-413e-8a5d-6286a56e3d49\",\"type\":\"Line\"},{\"attributes\":{\"plot\":{\"id\":\"11ee1399-9b3d-4f49-8571-1183a45238f2\",\"subtype\":\"Figure\",\"type\":\"Plot\"},\"ticker\":{\"id\":\"976080b7-c6a0-42d6-b066-43a002e99785\",\"type\":\"BasicTicker\"}},\"id\":\"88fada75-d02c-4af9-86e7-d7b9dc6c7100\",\"type\":\"Grid\"},{\"attributes\":{\"callback\":null},\"id\":\"a77f65cc-d7d9-4964-9758-166f6de2203e\",\"type\":\"DataRange1d\"},{\"attributes\":{\"data_source\":{\"id\":\"567eafa5-d150-4b4f-8332-4d8764914795\",\"type\":\"ColumnDataSource\"},\"glyph\":{\"id\":\"cb04b86c-3452-4541-9e91-024f8f8f0dd9\",\"type\":\"Circle\"},\"hover_glyph\":null,\"nonselection_glyph\":{\"id\":\"0ecaa4eb-35ce-48cc-b374-a5945f4bdf1e\",\"type\":\"Circle\"},\"selection_glyph\":null},\"id\":\"19de2a30-33c6-4473-8411-0f63fea3197e\",\"type\":\"GlyphRenderer\"},{\"attributes\":{\"plot\":{\"id\":\"11ee1399-9b3d-4f49-8571-1183a45238f2\",\"subtype\":\"Figure\",\"type\":\"Plot\"}},\"id\":\"d87d3ac5-2dd6-4b1f-a068-1eb7a089f18d\",\"type\":\"PanTool\"},{\"attributes\":{\"callback\":null},\"id\":\"52d59214-8172-49fa-b42a-574ee628cd29\",\"type\":\"DataRange1d\"},{\"attributes\":{\"line_dash\":[4,4],\"line_width\":{\"value\":2},\"x\":{\"field\":\"x\"},\"y\":{\"field\":\"y\"}},\"id\":\"dfb175cb-c25d-4924-949e-95ed8669e842\",\"type\":\"Line\"},{\"attributes\":{\"plot\":{\"id\":\"11ee1399-9b3d-4f49-8571-1183a45238f2\",\"subtype\":\"Figure\",\"type\":\"Plot\"}},\"id\":\"dcaba1a0-927e-46fd-90c5-935239965fae\",\"type\":\"WheelZoomTool\"},{\"attributes\":{\"bottom_units\":\"screen\",\"fill_alpha\":{\"value\":0.5},\"fill_color\":{\"value\":\"lightgrey\"},\"left_units\":\"screen\",\"level\":\"overlay\",\"line_alpha\":{\"value\":1.0},\"line_color\":{\"value\":\"black\"},\"line_dash\":[4,4],\"line_width\":{\"value\":2},\"plot\":null,\"render_mode\":\"css\",\"right_units\":\"screen\",\"top_units\":\"screen\"},\"id\":\"10f059a2-9207-4059-b394-fe089b3613b0\",\"type\":\"BoxAnnotation\"},{\"attributes\":{\"callback\":null,\"plot\":{\"id\":\"11ee1399-9b3d-4f49-8571-1183a45238f2\",\"subtype\":\"Figure\",\"type\":\"Plot\"}},\"id\":\"e0983bd1-86e0-4060-a94e-d7d372a38f48\",\"type\":\"TapTool\"},{\"attributes\":{\"data_source\":{\"id\":\"9504f0e8-ae93-4e0a-af4d-69846045b360\",\"type\":\"ColumnDataSource\"},\"glyph\":{\"id\":\"dfb175cb-c25d-4924-949e-95ed8669e842\",\"type\":\"Line\"},\"hover_glyph\":null,\"nonselection_glyph\":{\"id\":\"d152afd4-f8ec-413e-8a5d-6286a56e3d49\",\"type\":\"Line\"},\"selection_glyph\":null},\"id\":\"86f23953-7a10-482c-87e2-3eb13578e56b\",\"type\":\"GlyphRenderer\"}],\"root_ids\":[\"11ee1399-9b3d-4f49-8571-1183a45238f2\"]},\"title\":\"Bokeh Application\",\"version\":\"0.12.2\"}};\n",
       "            var render_items = [{\"docid\":\"c8901ad8-6bcb-445c-b2a2-e8c9f92636ee\",\"elementid\":\"0f121d02-cee5-4f27-ac85-0b2689221cd4\",\"modelid\":\"11ee1399-9b3d-4f49-8571-1183a45238f2\"}];\n",
       "            \n",
       "            Bokeh.embed.embed_items(docs_json, render_items);\n",
       "        });\n",
       "      },\n",
       "      function(Bokeh) {\n",
       "      }\n",
       "    ];\n",
       "  \n",
       "    function run_inline_js() {\n",
       "      \n",
       "      if ((window.Bokeh !== undefined) || (force === \"1\")) {\n",
       "        for (var i = 0; i < inline_js.length; i++) {\n",
       "          inline_js[i](window.Bokeh);\n",
       "        }if (force === \"1\") {\n",
       "          display_loaded();\n",
       "        }} else if (Date.now() < window._bokeh_timeout) {\n",
       "        setTimeout(run_inline_js, 100);\n",
       "      } else if (!window._bokeh_failed_load) {\n",
       "        console.log(\"Bokeh: BokehJS failed to load within specified timeout.\");\n",
       "        window._bokeh_failed_load = true;\n",
       "      } else if (!force) {\n",
       "        var cell = $(\"#0f121d02-cee5-4f27-ac85-0b2689221cd4\").parents('.cell').data().cell;\n",
       "        cell.output_area.append_execute_result(NB_LOAD_WARNING)\n",
       "      }\n",
       "  \n",
       "    }\n",
       "  \n",
       "    if (window._bokeh_is_loading === 0) {\n",
       "      console.log(\"Bokeh: BokehJS loaded, going straight to plotting\");\n",
       "      run_inline_js();\n",
       "    } else {\n",
       "      load_libs(js_urls, function() {\n",
       "        console.log(\"Bokeh: BokehJS plotting callback run at\", now());\n",
       "        run_inline_js();\n",
       "      });\n",
       "    }\n",
       "  }(this));\n",
       "</script>"
      ]
     },
     "metadata": {},
     "output_type": "display_data"
    }
   ],
   "source": [
    "# Plotining using bokeh\n",
    "#TOOLS = [BoxSelectTool(), HoverTool()]\n",
    "#TOOLS = 'hover,box_zoom,box_select,crosshair,resize,reset,lasso_select,pan,save,poly_select,tap,wheel_zoom,undo'\n",
    "TOOLS = 'box_zoom,box_select,crosshair,resize,reset,lasso_select,pan,save,poly_select,tap,wheel_zoom,undo'\n",
    "p = figure(plot_width=500, plot_height=500, tools=TOOLS)\n",
    "p.scatter(Y, predicted,x=\"jjj\", marker=\"o\", color=\"#80B1D3\", line_width=3)\n",
    "p.title.align = \"center\"\n",
    "p.xaxis.axis_label = \"Measured\"\n",
    "p.xaxis.axis_label_text_color = \"#aa6666\"\n",
    "#p.xaxis.axis_label_standoff = 30\n",
    "p.xaxis.major_tick_line_color = \"firebrick\"\n",
    "p.xaxis.major_tick_line_width = 3\n",
    "p.xaxis.minor_tick_line_color = \"orange\"\n",
    "p.yaxis.axis_label = \"Predicted\"\n",
    "p.yaxis.axis_label_text_font_style = \"italic\"\n",
    "p.yaxis.axis_label_text_color = \"#aa6666\"\n",
    "p.background_fill_color = \"beige\"\n",
    "p.background_fill_alpha = 0.5\n",
    "#p.line([Y.min(), Y.max()], [Y.min(), Y.max()], line_dash=\"4 4\", line_width=2, color='red')\n",
    "\n",
    "# create a new plot with the toolbar below\n",
    "# line_dash=\"4 4\", line_width=2, color='red'\n",
    "p.line([Y.min(), Y.max()], [Y.min(), Y.max()], line_dash=\"4 4\", line_width=2, line_color=\"black\")\n",
    "show(p)"
   ]
  },
  {
   "cell_type": "code",
   "execution_count": 20,
   "metadata": {
    "collapsed": false
   },
   "outputs": [
    {
     "data": {
      "text/plain": [
       "<matplotlib.text.Text at 0x7f85852ed610>"
      ]
     },
     "execution_count": 20,
     "metadata": {},
     "output_type": "execute_result"
    },
    {
     "data": {
      "image/png": "[encoded data removed]",
      "text/plain": [
       "<matplotlib.figure.Figure at 0x7f8585448050>"
      ]
     },
     "metadata": {},
     "output_type": "display_data"
    }
   ],
   "source": [
    "plt.scatter(predicted, (predicted - Y), c='r', s=30)\n",
    "plt.title(\"Residual plot on the training data\")\n",
    "plt.xlabel(\"Predicted\")\n",
    "plt.ylabel(\"Residuals\")"
   ]
  },
  {
   "cell_type": "code",
   "execution_count": 21,
   "metadata": {
    "collapsed": false
   },
   "outputs": [
    {
     "data": {
      "text/html": [
       "\n",
       "\n",
       "    <div class=\"bk-root\">\n",
       "        <div class=\"plotdiv\" id=\"22d12de0-ce85-4f2c-a67e-a09f37c35f7a\"></div>\n",
       "    </div>\n",
       "<script type=\"text/javascript\">\n",
       "  \n",
       "  (function(global) {\n",
       "    function now() {\n",
       "      return new Date();\n",
       "    }\n",
       "  \n",
       "    var force = \"\";\n",
       "  \n",
       "    if (typeof (window._bokeh_onload_callbacks) === \"undefined\" || force !== \"\") {\n",
       "      window._bokeh_onload_callbacks = [];\n",
       "      window._bokeh_is_loading = undefined;\n",
       "    }\n",
       "  \n",
       "  \n",
       "    \n",
       "    if (typeof (window._bokeh_timeout) === \"undefined\" || force !== \"\") {\n",
       "      window._bokeh_timeout = Date.now() + 0;\n",
       "      window._bokeh_failed_load = false;\n",
       "    }\n",
       "  \n",
       "    var NB_LOAD_WARNING = {'data': {'text/html':\n",
       "       \"<div style='background-color: #fdd'>\\n\"+\n",
       "       \"<p>\\n\"+\n",
       "       \"BokehJS does not appear to have successfully loaded. If loading BokehJS from CDN, this \\n\"+\n",
       "       \"may be due to a slow or bad network connection. Possible fixes:\\n\"+\n",
       "       \"</p>\\n\"+\n",
       "       \"<ul>\\n\"+\n",
       "       \"<li>re-rerun `output_notebook()` to attempt to load from CDN again, or</li>\\n\"+\n",
       "       \"<li>use INLINE resources instead, as so:</li>\\n\"+\n",
       "       \"</ul>\\n\"+\n",
       "       \"<code>\\n\"+\n",
       "       \"from bokeh.resources import INLINE\\n\"+\n",
       "       \"output_notebook(resources=INLINE)\\n\"+\n",
       "       \"</code>\\n\"+\n",
       "       \"</div>\"}};\n",
       "  \n",
       "    function display_loaded() {\n",
       "      if (window.Bokeh !== undefined) {\n",
       "        Bokeh.$(\"#22d12de0-ce85-4f2c-a67e-a09f37c35f7a\").text(\"BokehJS successfully loaded.\");\n",
       "      } else if (Date.now() < window._bokeh_timeout) {\n",
       "        setTimeout(display_loaded, 100)\n",
       "      }\n",
       "    }\n",
       "  \n",
       "    function run_callbacks() {\n",
       "      window._bokeh_onload_callbacks.forEach(function(callback) { callback() });\n",
       "      delete window._bokeh_onload_callbacks\n",
       "      console.info(\"Bokeh: all callbacks have finished\");\n",
       "    }\n",
       "  \n",
       "    function load_libs(js_urls, callback) {\n",
       "      window._bokeh_onload_callbacks.push(callback);\n",
       "      if (window._bokeh_is_loading > 0) {\n",
       "        console.log(\"Bokeh: BokehJS is being loaded, scheduling callback at\", now());\n",
       "        return null;\n",
       "      }\n",
       "      if (js_urls == null || js_urls.length === 0) {\n",
       "        run_callbacks();\n",
       "        return null;\n",
       "      }\n",
       "      console.log(\"Bokeh: BokehJS not loaded, scheduling load and callback at\", now());\n",
       "      window._bokeh_is_loading = js_urls.length;\n",
       "      for (var i = 0; i < js_urls.length; i++) {\n",
       "        var url = js_urls[i];\n",
       "        var s = document.createElement('script');\n",
       "        s.src = url;\n",
       "        s.async = false;\n",
       "        s.onreadystatechange = s.onload = function() {\n",
       "          window._bokeh_is_loading--;\n",
       "          if (window._bokeh_is_loading === 0) {\n",
       "            console.log(\"Bokeh: all BokehJS libraries loaded\");\n",
       "            run_callbacks()\n",
       "          }\n",
       "        };\n",
       "        s.onerror = function() {\n",
       "          console.warn(\"failed to load library \" + url);\n",
       "        };\n",
       "        console.log(\"Bokeh: injecting script tag for BokehJS library: \", url);\n",
       "        document.getElementsByTagName(\"head\")[0].appendChild(s);\n",
       "      }\n",
       "    };var element = document.getElementById(\"22d12de0-ce85-4f2c-a67e-a09f37c35f7a\");\n",
       "    if (element == null) {\n",
       "      console.log(\"Bokeh: ERROR: autoload.js configured with elementid '22d12de0-ce85-4f2c-a67e-a09f37c35f7a' but no matching script tag was found. \")\n",
       "      return false;\n",
       "    }\n",
       "  \n",
       "    var js_urls = [];\n",
       "  \n",
       "    var inline_js = [\n",
       "      function(Bokeh) {\n",
       "        Bokeh.$(function() {\n",
       "            var docs_json = {\"90d91e1a-251d-4836-8072-545e58364b3f\":{\"roots\":{\"references\":[{\"attributes\":{\"fill_alpha\":{\"value\":0.1},\"fill_color\":{\"value\":\"#1f77b4\"},\"line_alpha\":{\"value\":0.1},\"line_color\":{\"value\":\"#1f77b4\"},\"line_width\":{\"value\":3},\"x\":{\"field\":\"x\"},\"y\":{\"field\":\"y\"}},\"id\":\"bf78f2c4-391f-47b6-a653-be8510064852\",\"type\":\"Circle\"},{\"attributes\":{},\"id\":\"dc831e04-07bf-4718-bea0-09fdcc45f850\",\"type\":\"BasicTickFormatter\"},{\"attributes\":{\"axis_label\":\"Residuals\",\"axis_label_text_color\":{\"value\":\"#aa6666\"},\"formatter\":{\"id\":\"249b5607-47d1-43de-9cf9-196c9198cde8\",\"type\":\"BasicTickFormatter\"},\"plot\":{\"id\":\"34ec692e-b687-4ff2-8887-cdb1bdc33cf9\",\"subtype\":\"Figure\",\"type\":\"Plot\"},\"ticker\":{\"id\":\"8c13a199-0261-47ac-bf94-8bb4a26272e5\",\"type\":\"BasicTicker\"}},\"id\":\"b5f76322-76e2-4bbc-bf64-4dc828611b3b\",\"type\":\"LinearAxis\"},{\"attributes\":{\"fill_alpha\":{\"value\":0.5},\"fill_color\":{\"value\":\"lightgrey\"},\"level\":\"overlay\",\"line_alpha\":{\"value\":1.0},\"line_color\":{\"value\":\"black\"},\"line_dash\":[4,4],\"line_width\":{\"value\":2},\"plot\":null,\"xs_units\":\"screen\",\"ys_units\":\"screen\"},\"id\":\"ce50da57-d308-4801-ba5e-44c0caac9611\",\"type\":\"PolyAnnotation\"},{\"attributes\":{\"plot\":{\"id\":\"34ec692e-b687-4ff2-8887-cdb1bdc33cf9\",\"subtype\":\"Figure\",\"type\":\"Plot\"}},\"id\":\"c87a7f35-705a-4cc0-9294-5ea357882067\",\"type\":\"CrosshairTool\"},{\"attributes\":{},\"id\":\"8c13a199-0261-47ac-bf94-8bb4a26272e5\",\"type\":\"BasicTicker\"},{\"attributes\":{\"active_drag\":\"auto\",\"active_scroll\":\"auto\",\"active_tap\":\"auto\",\"tools\":[{\"id\":\"450f4f6d-4a3c-42c9-8b3f-db02916837f2\",\"type\":\"BoxZoomTool\"},{\"id\":\"eddb635b-465a-4fb9-b583-d452079def1b\",\"type\":\"BoxSelectTool\"},{\"id\":\"c87a7f35-705a-4cc0-9294-5ea357882067\",\"type\":\"CrosshairTool\"},{\"id\":\"a83596a3-5eff-4d57-85d3-994ee60d3f60\",\"type\":\"ResizeTool\"},{\"id\":\"4d7eb0e1-063e-4364-86a6-c8226f530f92\",\"type\":\"ResetTool\"},{\"id\":\"7edccb13-da64-48dc-91e9-b87d7156f7fa\",\"type\":\"LassoSelectTool\"},{\"id\":\"c01b9a54-e183-489a-ac05-5a1287344f73\",\"type\":\"PanTool\"},{\"id\":\"9eb4a96b-c331-4965-8127-e8a5e50e4f0e\",\"type\":\"SaveTool\"},{\"id\":\"6f5857f5-e593-457c-802d-556927b604dd\",\"type\":\"PolySelectTool\"},{\"id\":\"9a885da3-3c69-45dd-a37f-af953cfafb21\",\"type\":\"TapTool\"},{\"id\":\"e8d76fc2-9641-4ebd-8694-57729bbcdbc5\",\"type\":\"WheelZoomTool\"},{\"id\":\"9a33212c-58fa-4086-9466-3f0d9e402798\",\"type\":\"UndoTool\"}]},\"id\":\"60158905-93a5-4aa4-a410-230fcb940422\",\"type\":\"Toolbar\"},{\"attributes\":{\"background_fill_alpha\":{\"value\":0.5},\"background_fill_color\":{\"value\":\"beige\"},\"below\":[{\"id\":\"a8a080be-fa3f-4a29-af94-fc0818139b30\",\"type\":\"LinearAxis\"}],\"left\":[{\"id\":\"b5f76322-76e2-4bbc-bf64-4dc828611b3b\",\"type\":\"LinearAxis\"}],\"plot_height\":500,\"plot_width\":500,\"renderers\":[{\"id\":\"a8a080be-fa3f-4a29-af94-fc0818139b30\",\"type\":\"LinearAxis\"},{\"id\":\"f198cbfb-b378-415b-a27b-a3c0e5f7f244\",\"type\":\"Grid\"},{\"id\":\"b5f76322-76e2-4bbc-bf64-4dc828611b3b\",\"type\":\"LinearAxis\"},{\"id\":\"2c0526d7-e3b7-45ee-bb5a-645c833bd253\",\"type\":\"Grid\"},{\"id\":\"2b43b2d5-96a4-4ea6-a995-3a4ee1fe7973\",\"type\":\"BoxAnnotation\"},{\"id\":\"aee4ef41-9525-4ab0-99ed-a3b008fd3cd1\",\"type\":\"BoxAnnotation\"},{\"id\":\"fac91481-8f1c-4448-b31e-e6d474ca0124\",\"type\":\"PolyAnnotation\"},{\"id\":\"ce50da57-d308-4801-ba5e-44c0caac9611\",\"type\":\"PolyAnnotation\"},{\"id\":\"70aac5fe-1667-4169-b052-e2693d307475\",\"type\":\"GlyphRenderer\"}],\"title\":{\"id\":\"6cdd84b6-cbfd-4cc0-8dd2-badb321ba59c\",\"type\":\"Title\"},\"tool_events\":{\"id\":\"1898b9ab-d174-4feb-9f1d-969cfe46502b\",\"type\":\"ToolEvents\"},\"toolbar\":{\"id\":\"60158905-93a5-4aa4-a410-230fcb940422\",\"type\":\"Toolbar\"},\"x_range\":{\"id\":\"569ddd8c-224c-4f54-91f2-b1cdb71823ba\",\"type\":\"DataRange1d\"},\"y_range\":{\"id\":\"b8b59da5-c37f-4118-a638-1fdf2efffccb\",\"type\":\"DataRange1d\"}},\"id\":\"34ec692e-b687-4ff2-8887-cdb1bdc33cf9\",\"subtype\":\"Figure\",\"type\":\"Plot\"},{\"attributes\":{\"fill_alpha\":{\"value\":0.5},\"fill_color\":{\"value\":\"lightgrey\"},\"level\":\"overlay\",\"line_alpha\":{\"value\":1.0},\"line_color\":{\"value\":\"black\"},\"line_dash\":[4,4],\"line_width\":{\"value\":2},\"plot\":null,\"xs_units\":\"screen\",\"ys_units\":\"screen\"},\"id\":\"fac91481-8f1c-4448-b31e-e6d474ca0124\",\"type\":\"PolyAnnotation\"},{\"attributes\":{},\"id\":\"1898b9ab-d174-4feb-9f1d-969cfe46502b\",\"type\":\"ToolEvents\"},{\"attributes\":{\"callback\":null,\"column_names\":[\"x\",\"y\"],\"data\":{\"x\":[133.66630525141318,125.01494859301653,119.53363104337497,122.74936099015866,115.64975250960333,127.04292816281712,127.5397782200341,122.6308469193317,124.82486651426353,130.81858986059808,127.93418629654425,125.46896766398521,117.25627045881622,128.39640046078753,127.35974317352536,123.11589829525752,122.5321079539486,124.23335048977911,129.41546617147299,121.79737620986877,120.88261804087897,121.19091233098868,114.8239595422844,123.16902402312701,117.24424060516232,122.75275031363638,116.83474211909153,126.619941465855,124.09848186572148,136.10621160982856,130.87474126473933,119.61285991477631,136.87051089284265,123.66571693228961,124.92374476837395,120.76370771839775,132.72933806813327,116.89809802472625,124.55096502379394,128.0702330350499,125.65029164628324,125.53823130112006,117.32833679931086,115.43469020164852,128.19795592299684,120.27191976111467,118.19222728276708,121.62749855091974,120.23740485282413,128.22604030023044,133.99013976954424,121.55062571229406,133.30125004078522,123.72617908142995,127.46174101721637,131.75568271161467,124.38442507228758,122.46160756793299,116.70735890525584,123.67006767213599,121.8265288924172,131.05725598674218,119.24971193315517,129.02016265323456,133.88285671493384,118.07385494525853,125.95538532355435,126.51018613522763,128.21121153380324,121.99393085015329,132.86412917919515,119.71803093998928,128.83577178673255,133.13289438884252,133.64601442971855,124.06056723124945,129.1491883025411,123.0915002520706,137.12527732051402,131.38545456183738,118.04519029212895,126.16210206991171,132.64723954072772,116.70662844199408,122.09207459570233,118.24633943950214,126.69384479132573,124.61451621523788,121.9786953684922,127.45814407433981,129.14319512722386,125.47132911097877,112.25379255975244,126.59305648746927,123.5728494577321,129.15422982132174,132.42679557232964,132.6653824666063,120.595629697583,130.16864335447383,121.9968450497755,131.2317332908703,123.3324494594607,122.82291690343546,124.64069208314466,121.59216945457108,129.91852910433585,124.42700360100757,129.1623440861251,122.45713246473262,124.72918946122093,123.10074000381555,127.13968603975061,131.66618595865629,133.8757869926544,130.37536450570127,123.94489397530572,130.85886953864753,126.7463045746929,121.17851480471634,130.5466870854335,120.54563687520552,123.75176889438093,129.32007342025395,126.12530383985889,130.82981790401627,123.8887372612625,129.88095748607773,123.55207566186412,128.1994894795435,121.87285186453174,125.84957216798388,129.00203168056066,121.97409467977707,124.05362746769234,127.29329731060112,124.71157102498466,123.30824205119869,128.4382475734969,128.82887598793718,130.41510533292706,126.6562452096694,126.93021345142644,123.08182363278831,128.64871081503009,130.06816644877205,118.58439147194824,129.22078604547656,131.62767375805635,133.39000781659317,129.9561568996405,125.35172926385157,121.01614890502445,126.78878642905451,118.92416153104236,131.9672386050816,131.95284186470525,123.46598792508428,127.15321640815841,120.91303309764716,121.6824399781379,125.02771544927215,122.18409075005364,120.23805533279403,122.46393659257929,117.79166669252896,131.2833525918821,129.15800880119855,124.16458558457403,130.4794739553165,130.42624151417755,122.3976563770861,127.3125356073169,125.52393444796243,120.65859970589254,129.4773686401303,115.18385456601138,130.9915902786698,127.48036752889507,128.16077097389584,117.30347203732398,119.389977194125,129.67224952350682,122.59583793023322,128.71380842184067,123.6656387577947,128.23368665839723,125.89613936441023,128.90274430578327,131.41410405532997,123.2231439423128,122.47473816506457,124.82155006780194,122.65886623788766,118.29361691409713,123.14978608006976,119.54474974172886,120.80747152931784,132.03473672404542,127.49533058938424,125.19500272841111,126.7675737311698,125.2586028172571,117.03646832039476,123.6358606191771,118.2699206909388,119.82539421330429,127.80074238065818,112.95418839608152,131.38561907828992,123.21589865575928,126.59360837029419,127.62666672915398,132.15825973649797,125.36119023619617,129.05132892871995,118.43149031797434,120.31561733406487,126.8886450988057,117.7847501305879,124.65911666162373,129.71585236121285,114.30529165408251,116.76701656356941,123.83445974670119,122.96870229146552,131.02229166785187,128.74098211542787,119.85112348879676,129.8792625143129,125.50357254393465,131.7509702220902,128.6513432780457,121.67633327291102,121.50571028887646,127.2512198154792,124.52431017367678,128.775556173162,120.2925944428233,131.3198900907082,130.9552900088438,124.30172223718125,122.82334045524469,126.09487251502841,119.60441126774413,125.80028189595426,128.45233613628994,126.72482607846416,132.5922875005085,128.51007990952365,132.29070295887007,124.94867832667131,120.52694403123817,126.63802843915082,134.66996486906274,126.74012449372471,123.92797278618119,123.91450153325641,130.23838671042003,124.56048557166856,119.29968486981325,119.76822033355309,122.24836986697018,123.83881881921371,121.9812706081796,126.27619516662685,130.86004018162177,119.12350401178374,118.72121847518736,126.25566220767394,118.98916928208459,127.15137263291585,117.3317983034898,131.00972072000016,126.4728977514905,124.56092747911698,123.05533862900516,121.70015015417103,125.87813938705833,124.03292110134251,126.1601070001682,130.0029865215929,121.64167496469892,124.08877229314544,124.92564052824339,120.24999694228161,127.63318114709637,132.19841322991263,116.14354334881098,126.47855922998957,125.3049772476531,128.84106187851845,121.02116513352689,120.76582073549324,129.25536420744822,120.84155262275078,135.1855224665489,125.64374232773889,126.4776941998595,121.79906456251413,124.09309546459446,134.62072466016653,125.7839489291508,124.72906120266194,125.43560082934948,121.42618402270638,118.45368879965396,131.58209849696365,122.56836030469165,126.19519706834194,127.764451164626,133.3142137684196,122.05325426017012,130.02165358244994,124.91305327573907,129.5829638395206,126.95973156683246,121.23007295686095,123.18736830558295,127.7250779716602,131.61868462994184,118.76852071121127,134.27038933299352,114.11976052338417,119.02697493949518,125.69191533196921,121.34773567470023,123.84786239106282,123.3172967956491,117.53973624025777,114.53062086493257,119.82737186924922,125.9897206279754,129.3013707658247,130.81715804530452,115.87386610314411,114.81955289574735,116.78931350897395,122.35414321498429,130.9983254893528,128.84811680447643,125.12280349516699,128.08957557211187,121.68727239313597,129.76712988233135,123.99497150914841,127.4707786696314,125.57780817816366,126.07307212526582,118.83615902548352,122.89231988838637,105.72235610034433,111.79387387479646,124.92697488031008,133.12607302412033,126.6603971040981,131.26337330877234,126.48955041186078,128.6316343184877,132.20995113893397,122.86410351609038,130.94705964843254,125.8792810468427,126.44986835243648,127.9300705979896,130.6611465900329,122.48162779125951,129.70083486235038,132.90465322386953,125.5765575166361,110.43910392620758,127.48293962538355,121.37251829303159,127.50782454808919,128.57842898265082,132.08214961158055,119.8211398303044,127.69609506630964,122.06598859464455,125.13349391447136,123.66530960436086,119.10350077361241,126.89924116406974,127.25278495549696,117.33863912488017,118.94280631753857,127.19332568018035,122.65186786922108,126.79725017549877,125.91532794917939,107.17403074209551,125.5845121114691,127.29776652900185,131.76286937949362,124.66533623873251,119.68125671990586,120.97994756282881,121.72333958847652,122.13237340753106,121.4236715956068,119.59906803387854,118.76941016422532,122.55870955952261,126.22532420342658,128.68629364419624,131.13730007411556,128.12787469627628,133.83714964168854,128.59544207439242,126.78647176979936,113.33412141580746,119.788847446826,122.37275729203051,128.47620970935085,106.50671185120135,128.69559551098442,126.78071483525954,131.2688995290003,122.39943414229012,118.58964435498224,127.174666224298,121.25689629445034,125.98075665513238,131.9926548848904,122.5736756298602,127.2566672584258,123.9375345647595,129.0670055738682,130.38391124645872,130.4049276980414,128.72281229100577,123.207509565057,123.48798109316921,123.67374041295882,123.0332680774869,123.93890147611963,116.54223952166461,129.71375167888144,126.19597230749497,118.53222116760804,123.64223525393439,131.26260946672525,121.34510089480689,122.01196820516937,120.56319692712835,130.33973473587957,124.38323599476239,133.16623452702564,121.80641027935323,126.7030851782104,108.58150661687756,122.07783987898527,127.28086621623231,123.45546860506059,123.9045065257841,111.38011117972121,120.51182503992626,127.69653206575983,123.79317477931677,130.1583190558491,122.70770754337566,128.734990571771,126.23569007284175,125.05197300697216,121.84379672297051,126.59367966565028,128.7802541096874,130.99454563969434,131.1063327013069,125.29085820188423,129.56558266103772,126.08834738205252,130.13835339900814,129.40515013934828,131.16588404423223,123.73232556111859,126.0345874499629,119.73850838924716,130.3908114369752,117.96598584571285,130.63427147901533,126.01495724067527,125.62207822955307,121.57194670562951,125.1929803323308,123.03149363914659,124.70095797922441,124.86706272732536,122.12871430863675,123.31477369913712,125.88920876429437,130.39921553923202,123.75917163795262,123.69501783889322,129.55591023008662,126.91458373889962,125.50945890623288,124.75648149248232,127.42573566035676,124.50358753518194,125.53785687400337,130.66457735181106,123.20188808171483,120.87159723389495,130.1733054147272,123.33166514641275,127.99694943324127,124.38229000395222,128.73782942266683,117.32392055663526,123.82674770032602,127.81901395262592,130.19325840278407,120.11041237273248,119.2876541244447,121.63562036181493,124.33673231246857,119.26621964882997,123.99476897917731,125.19068387330591,122.15098026599365,133.84512676309924,135.61735221483588,120.58134100838414,127.555758335009,129.36168818373704,128.29837210603756,119.16742139096533,113.86341115518555,116.06533469906633,120.60653243124544,128.95174122443797,119.10883143933341,130.57636439317443,128.4222894058466,118.77344677881553,123.52908846445199,121.48393399177104,116.33990666837686,122.44336077302899,127.75618523833728,131.1462431401598,126.50455911857483,115.944206388709,126.15877614817036,127.38735806355774,123.20295237800275,125.20032410773572,124.63895723206993,122.48472427953271,117.4068416976842,124.05210554100007,125.99006051022876,112.73580976691244,122.72746676945819,122.92503882177355,126.16004814742783,120.50053786404938,118.3769963951919,124.26138147479925,127.50649159127045,131.18088471281936,120.66093043130492,128.18088717489812,124.7732839713247,130.64306805972603,127.2915034199824,131.01617919166182,126.55632708460163,124.70663967158399,118.15960429350065,123.81856321169285,120.1812820235494,127.63728639038688,127.01678170086271,125.54945839854648,128.30537961643066,129.79261879000282,121.44035118154434,130.78241625789934,125.81073824865665,122.42787338494773,127.39951179337709,124.58681582546667,127.27969443007738,122.13831034153554,133.51105898220692,125.95776933468889,125.78820790129281,124.0868166609541,123.690021078653,117.66459360883756,124.13950635279774,124.49155147596406,121.2251834200441,127.51811270788875,131.96520943800408,126.87245093378218,121.1755329107981,125.38360032047598,125.60796309546569,123.63650495657485,124.82356652126057,126.74598803936135,116.35485694013876,133.12362809505345,124.84517583128171,126.07140862353067,117.64164778608315,121.95423214982542,131.4115927716082,125.62765393983028,121.21276562789654,129.7425350494842,127.0370211596844,116.74774210124649,125.89974580196184,124.13868667203023,120.93515127122768,120.77730659048166,112.40680645270261,128.36931546814364,121.19274415542941,133.38546128426972,127.64260686792846,130.44598023545447,120.49426439843513,125.07521577251143,124.34126133598882,122.50872590845763,122.58650003453903,127.77146107315203,124.59475058198385,123.29794519293624,123.69160872084389,120.9214750973775,123.28986281719692,124.38017950044933,120.77062334338093,133.6389320116529,125.51566901478328,119.75258987968095,129.09863018999295,128.88617638171672,122.83615826617914,132.15652505539862,122.54620456169917,125.65149791598239,125.08829536029539,129.37038313351513,113.16726620054354,132.93484210073132,118.61777739235282,117.68066322768904,118.19415776345517,120.89124414306278,112.49171425992998,122.15835669158312,130.2575284020995,127.8710134723779,127.0391935260793,129.53184784742274,111.48286863922193,121.14508507630362,126.04938374934989,125.0046089404954,125.91087497608981,120.90539057271783,117.34191508053686,122.23435193038239,124.13003337691114,119.32749610785343,122.73838629638274,125.82758812107319,128.78260484383,127.00711261437115,126.5835300908396,123.58444394247584,125.18312885166797,132.64649235104957,126.53530441613589,127.67104064732725,129.7310140577885,126.13973063982979,124.25165356285491,122.46905888332243,121.22988940673565,125.16728290073755,126.68148462121302,120.66674876828712,123.83834607145599,132.3253883984997,120.21730708475364,118.71396906876468,133.36106496662083,124.641945853859,127.51847806828432,126.52572737444761,129.54844727140002,127.65299035815103,129.87916997357695,119.15474396934712,116.74085367475658,122.85313535315264,124.2923403739731,117.54582294564445,127.21343514429104,111.14690947074358,111.02628855432475,116.00543601484006,122.52146545513762,124.19396142570999,120.63374746675511,130.19299106430051,133.17019126627463,126.41237581655339,127.92907070654535,117.20620878570855,122.72672217874839,126.13782714576665,122.0946446056136,128.19234437655615,115.17089918619898,120.35782590289877,121.945879794176,115.3270680135921,130.3177969216267,129.87279969253333,131.8969243513903,126.94653913062501,118.30648140024958,132.69349578714588,123.3410154921459,125.83299325974782,134.26143611101455,125.17739285307684,122.00232850046774,128.57967812613919,128.83028814922733,128.79226054515965,123.95498012210194,127.8323163988618,119.70130636636424,129.93209118429405,130.4024299435009,124.16728611955325,124.32933312121904,128.92933342909728,131.91149671936392,125.47043009719766,130.00049126101007,131.94312053499954,126.73992292551698,131.62226529897862,130.15856375989196,118.4679807026103,120.12019036267384,125.1213890382197,132.21500314525997,117.39848682370422,120.62889782827263,120.33369521508834,122.86066782954458,110.64919860289454,117.83072438065123,127.44370366098286,122.72387735184523,131.27182183588582,131.8105852406427,115.81437772242886,122.19040898343479,125.40128204504637,123.63427189440746,126.29747131580237,135.2638762033671,129.4632760946992,116.57767426521058,127.32344598673866,122.08422755044023,124.50909122506208,122.12829600572483,121.43329931814917,125.26912070779953,123.40217333673995,127.99322451937235,129.17727298916049,121.31380167730715,114.13584725713604,128.9841620716059,127.39342224072942,128.0989410403114,126.90293581132929,128.6134004372122,125.1855613004491,116.83144860116029,127.8278480568748,128.82780982496308,122.3417047962376,125.18617456202594,126.32100589438613,121.830557026183,127.32662801069853,122.2748088976143,124.43849254495399,121.33564897465128,131.37924798305124,131.70629136123998,124.52214059199204,122.1353179247324,123.16570205552446,123.04720765682772,133.3142453791715,128.0742842345216,132.9451590322956,116.71535937814492,125.74463335826722,124.9221945717735,124.84917139899188,124.85024889094107,122.31624176965967,133.57477004478704,125.17631470192389,112.8209677827108,133.45042221022834,124.89580914550342,128.61974957709268,121.81180801851873,119.88832934725,132.63593963519193,122.41735202124183,123.31368561732856,128.686385023126,126.11364934621136,119.73220123306693,126.90520062179108,120.51791490613941,130.8139206139849,125.0326331479908,120.09254457190163,120.39523372445332,118.0529144517125,118.28561721815323,126.84823890262099,116.19993136805856,126.69516124842849,125.60303273723899,123.96525823384441,123.92768378456296,122.95042796907678,124.72403149566043,124.57781429683885,131.94381398364666,127.59386961082315,125.65281917450234,116.12006832263575,124.25956735654242,123.78629216109856,127.52521616768132,126.5177960985844,123.21397841577165,128.45291313096604,121.87243702013612,124.93867103480592,124.58589681269021,121.28254218343389,130.99084185002394,125.07650170092002,120.61234364960484,119.6143568938932,127.92990255845051,125.92746951938496,124.67078295510257,124.11696391070419,115.59427668006552,119.9108934076457,127.32762321141226,129.48768546615347,130.15634364219724,114.23520641688874,126.48610889582969,123.81905771301197,124.72858018202385,120.2291600200287,114.555840731808,119.1604006674198,125.99583061516375,124.35138918175537,123.58409250304854,124.18573852464627,127.06456652535964,125.39913208987221,119.34849968861828,125.65778054517465,131.5544898450715,132.23691268190564,123.12172260026487,117.21143169686243,132.76216245436083,116.7374324024438,129.05676654029492,121.12920339421709,120.60154300303347,130.49994285294622,118.91974042890895,132.8738903966584,126.87543303440486,121.71628714792355,125.74327425452793,124.01946634451107,120.16753080948115,131.2114588618832,127.54057841987535,120.9994286813587,131.23589651534698,114.04212674473551,126.28698181281551,124.48445953980155,122.98574279470355,127.2555750314865,125.98140032770735,132.85808042607687,117.46110062850855,122.21071051926745,129.540490303699,126.85441526707996,128.0155872396022,116.42959083956823,131.4589286204577,120.52571576868432,127.91270773026275,118.8486493644056,127.37187129315943,122.6179215891667,128.5343989632033,117.45119332316494,118.70918860112445,122.75355436740723,132.73349973516565,117.59451974703305,129.1890797060067,123.55815758712924,125.73925636535301,131.32248589479445,122.0135569579124,122.12017726838081,126.54029435369696,121.97583657364032,127.7696374969229,126.70095450737777,130.61472877117578,123.70062822507145,131.50195120160626,122.79375364284279,129.77119313759624,121.36986643120021,126.41086644925807,116.57223156290726,123.19365832726015,129.2732303087068,120.59816407009235,128.20552041243474,124.68447019873672,118.45258813982971,125.02380701046174,123.96504833727151,131.9191370166752,126.45140066692312,125.54853576262829,124.61295095179796,122.3864877961767,118.84001709238609,132.512192551948,125.61229495759918,120.99531474858922,130.7286099029128,110.67775676551237,122.42929342011398,121.95610727114789,126.78005133409329,134.81992523958533,123.31398766780349,119.84058609425017,122.68582266423859,131.864637098565,129.6611405045728,121.28687814841982,129.94103589858813,128.50737454443072,128.06474969313908,129.90604591968517,123.39959833969391,135.11278733227786,129.6374861238001,122.92876387161209,121.57292034326822,124.58662879710582,131.71645938949263,128.30447366051385,127.26075575971048,136.43968177590145,120.63012682717368,130.24031062183013,119.12212360675944,125.97195273217355,134.45401900544908,127.04345028144591,126.57323835139726,120.45085835767752,127.5867953186461,130.76320265387002,127.69299647979445,128.6998491030591,114.17899327953485,123.39057031683977,121.06583145033878,128.15009317700128,126.35094782012136,121.1790670948078,124.2532333683261,128.50702257608538,112.31489310726153,125.67170962498818,131.7978174163144,121.39690692709128,115.72853862778835,123.19137922499128,121.04632851696093,119.72599051532896,124.74446455662911,126.0840718474445,119.99107291936693,118.76631155990876,128.0098937338424,120.85263355367763,122.34213374601381,123.96668034949687,121.73156127186864,131.18837691605896,125.82491080163393,129.84412834825991,132.18401846540948,117.30648521515617,123.47975539731938,130.4300696970806,122.00989582888751,125.28298891041047,121.96507063046353,130.7913615579479,118.6970087680269,125.30881004657479,120.83169546544835,121.13639132330307,119.09177394286782,127.98585857248698,114.17289779545987,127.89629501336219,126.03662108215332,124.34269823942049,125.80129014789347,129.33498980635412,121.7421510563012,120.26440490428438,124.92930372887479,126.13066093118238,127.54524431127419,128.9201359919981,122.20811274786371,124.74253147470324,129.254255510157,125.45303248317668,129.91063891164322,115.61523760837301,127.55753447152502,126.50354863299818,122.91958309156689,133.68738903970868,133.0473650397153,118.55987305326892,131.05256121017604,129.48390065981982,129.79997335254998,126.82862263976845,127.21854350858116,125.93032112437999,135.1499928458816,121.08724280047767,119.03712041851497,130.03609353279637,118.53445170697132,126.2780303824274,124.80094270982174,122.91946648694555,121.85840045545804,125.37086199282953,129.19522060624644,123.5006977997446,123.29194332061955,129.33743015091923,116.50860356466615,125.38694703624734,134.23380982604596,120.27394454221519,128.07502034714895,124.96661150071374,120.24178192482982,121.24650795942257,130.463503702273,120.07821158441833,123.37811953088787,127.81197116614445,118.47069983573734,123.17335086697578,115.63681397338813,129.72090349894992,120.44617020094611,125.98734362573224,126.99919569173153,123.01926226793341,122.96886749041953,134.86255957154685,127.53778810529514,120.4609727208738,131.60383307187692,133.8971565067507,124.00912963278815,124.53858255242017,129.1047927450839,123.51165726819814,126.81718209232962,123.42485076517615,117.58268849541582,125.39268038058832,119.48765889699231,128.22955942894166,122.04400018724283,132.83953390193105,122.22005542793798,124.74889291886572,122.48313461994441,131.57577893817032,117.72678294282619,125.72834349446177,120.83822256817434,127.88595423171353,119.01644505121337,124.80944774407214,126.49888883910029,131.702023900291,128.64870926802266,119.85943139850332,123.20869136987596,131.0887754002019,111.16965478194257,121.0701380568806,122.73995507584927,120.14370469404608,117.5394724913827,119.75092635173486,129.67302810734347,117.35958827606062,130.62067959628234,130.406904682812,124.93093285582688,121.91314832534363,127.1003337256216,129.74510956652065,123.30149967824464,122.85897599422533,126.24469599713044,119.41396955860453,120.28965731643628,122.83636755465315,124.02526186073486,126.11455544859717,129.2170168083091,120.20991422509749,116.08693292549786,132.3307736457919,131.0900610985414,124.3186182807226,133.9712834438327,123.7330066945447,130.60026624841112,121.73341948540374,129.65714163015974,122.84117429753967,122.50565767539668,126.3829063116062,118.5807746741888,109.14609411446932,123.23311285812645,129.15168381263257,126.00031862704968,129.36545872610287,125.55576422084893,132.34187113969122,129.88417298757696,119.1270289902728,128.08660224596366,124.70463155967757,128.2520959879951,121.54793443325482],\"y\":[6.460305251413175,-11.269051406983465,2.0296310433749767,0.40836099015865557,1.6077525096033298,-8.036071837182888,0.30677822003410427,-1.0581530806682906,6.819866514263538,-4.527410139401923,1.4001862965442626,-9.899032336014784,5.2972704588162145,2.58040046078753,7.73874317352535,-8.923101704742464,4.167107953948602,-0.5146495102208775,16.909466171472985,-0.5776237901312271,0.37761804087897133,-0.12408766901131685,5.569959542284408,3.6640240231270127,-0.9697593948376806,-1.6022496863636206,0.9247421190915333,-12.818058534144981,-0.39451813427851334,6.426211609828556,-3.6582587352606595,5.303859914776311,7.420510892842657,7.254716932289611,6.79474476837396,2.0517077183977506,0.8933380681332608,5.993098024726251,-5.018034976206053,3.7972330350499135,-3.3767083537167792,0.6862313011200598,1.6493367993108592,-2.1893097983514735,1.0709559229968306,0.896919761114674,-0.8777727172329151,2.6864985509197368,6.904404852824129,0.5260403002304344,2.5341397695442254,0.06562571229406444,3.5012500407852087,-3.313820918570059,-6.538258982783631,2.981682711614667,-0.06557492771241868,-2.3813924320670026,1.807358905255839,4.9130676721359805,-6.527471107582784,0.8602559867421746,1.1047119331551727,-4.076837346765444,8.156856714933838,1.832854945258532,1.785385323554351,10.653186135227614,-1.7537884661967666,0.5949308501532897,12.09812917919514,1.5960309399892623,-3.6772282132674547,0.8288943888425138,6.008014429718557,-0.4944327687505563,0.1931883025410741,-3.743499747929391,6.165277320514008,2.823454561837366,2.1821902921289507,-0.23289793008828497,-1.1087604592722755,3.5986284419940944,0.7910745957023266,4.288339439502138,2.347844791325727,-12.271483784762111,4.941695368492191,-4.177855925660182,-1.967804872776128,-3.8586708890212407,-0.5492074402475566,-1.9429435125307322,-10.201150542267897,-5.118770178678261,9.34479557232963,3.738382466606282,3.4766296975830073,-4.387356645526182,-5.182154950224501,-2.3662667091296896,1.2884494594607077,-6.1060830965645465,2.751692083144661,-7.822830545428914,-0.20447089566414434,4.1990036010075755,0.30534408612510333,7.37813246473263,-3.7888105387790745,-1.053259996184451,-2.1163139602493857,0.8851859586562796,9.719786992654406,-4.192635494298713,1.8568939753057236,-0.45413046135246304,2.7813045746928964,0.2585148047163415,-3.102312914566511,4.250636875205515,-11.922231105619076,-0.8749265797460453,-3.4416961601411202,11.53581790401627,-1.8262627387374977,-7.352042513922271,6.703075661864133,3.5074894795434943,5.178851864531737,-4.490427832016124,-2.20296831943935,-4.214905320222925,4.383627467692335,0.28729731060111874,-6.222428975015333,1.8092420511986944,0.6422475734969026,-5.43912401206282,-5.615894667072951,-5.261754790330613,-6.8597865485735525,-7.217176367211692,-4.706289184969904,-4.042833551227943,3.263391471948239,-3.7912139545234425,2.9806737580563265,5.470007816593167,7.051156899640489,-3.9332707361484296,4.791148905024457,-5.641213570945496,3.6901615310423637,6.566238605081594,4.558841864705258,-7.880012074915726,4.541216408158405,-1.4019669023528394,0.6234399781378954,0.7237154492721487,0.14909075005364514,4.5790553327940415,-3.0910634074207195,5.7776666925289675,-0.9186474081178915,13.312008801198544,5.569585584574028,-8.043526044683489,0.3122415141775434,5.794656377086099,-3.079464392683093,3.7349344479624307,-1.7764002941074608,-4.750631359869686,1.6918545660113722,2.8645902786697945,15.569367528895071,2.6337709738958353,1.0744720373239858,-1.4660228058750135,2.316249523506812,-14.430162069766794,-0.324191578159315,-2.4313612422053126,1.1796866583972303,-3.250860635589788,-5.119255694216747,-2.4798959446700337,2.765143942312804,2.0027381650645566,-8.07644993219806,-4.349133762112331,-2.190383085902866,-7.748213919930237,7.505749741728863,1.9804715293178248,11.956736724045427,1.3003305893842452,-0.5329972715888829,6.630573731169804,-9.97539718274291,-1.7795316796052418,1.9768606191771028,1.1829206909388006,4.898394213304286,-5.679257619341811,5.68718839608151,4.487619078289924,2.8918986557592774,-5.540391629705795,17.675666729153974,5.559259736497978,-1.2808097638038447,-0.06567107128006455,1.2804903179743263,2.8836173340648656,1.021645098805692,-1.1792498694121036,-3.0168833383762745,-3.4951476387871594,3.790291654082509,2.2130165635694112,-9.459540253298798,2.6147022914655196,4.7312916678518775,1.2109821154278677,2.6971234887967626,1.9762625143129071,6.548572543934654,3.349970222090178,-0.17765672195432103,-6.868666727088964,4.371710288876457,-7.912780184520784,-10.038689826323207,-5.334443826838026,3.6155944428232942,-1.6901099092917775,1.0022900088438007,-2.8952777628187505,-6.728659544755331,-1.6011274849715846,1.5594112677441245,-11.267718104045727,0.6993361362899577,-5.083173921535831,7.538287500508488,-6.485920090476355,0.24070295887005955,-1.5653216733286826,1.3919440312381681,-3.2509715608491945,-2.3370351309372666,-13.1778755062753,-0.46702721381880963,-3.4834984667435833,-2.7846132895799656,-5.788514428331425,0.5566848698132532,-0.0857796664469106,4.198369866970182,-3.49018118078628,-4.067729391820393,0.16019516662684907,-4.366959818378234,6.275504011783738,6.456218475187356,-7.512337792326065,3.020169282084595,-1.6106273670841489,4.632798303489807,5.068720720000158,-8.775102248509484,7.837927479116985,5.6693386290051535,3.136150154171034,-2.207860612941687,-1.0120788986574922,-0.5858929998318132,7.236986521592897,-6.623325035301065,-5.780227706854561,2.154640528243391,1.2519969422816217,-5.25281885290363,-2.627586770087362,7.736543348810969,-1.0854407700104218,-1.4310227523469052,-1.7879381214815453,2.9971651335268916,-0.19717926450675805,-3.815635792551774,-3.8754473772492304,4.125522466548887,1.2507423277389051,0.8886941998595006,-3.4209354374858663,0.0920954645944505,7.544724660166523,-1.054051070849198,0.9870612026619341,1.6746008293494725,2.9851840227063775,3.1496887996539584,0.453098496963662,-5.74363969530836,1.5831970683419314,-4.042548835374021,1.2192137684195927,-0.047745739829878175,-5.93134641755006,4.855053275739081,-5.725036160479391,4.548731566832458,-10.222927043139052,1.7803683055829396,-0.7669220283398204,-2.2273153700581645,6.559520711211263,3.935389332993509,6.134760523384173,3.208974939495178,-13.736084668030784,1.1187356747002326,5.504862391062829,-0.12770320435089388,4.535736240257776,7.650620864932577,3.7193718692492297,-1.7202793720245921,0.5973707658246781,-2.831841954695477,4.523866103144115,4.130552895747357,2.155313508973947,-14.721856785015703,1.945325489352797,-4.738883195523584,-10.201196504832993,-2.7274244278881383,6.602272393135976,2.8811298823313365,-8.309028490851588,2.6357786696314065,-8.758191821836348,0.18307212526582362,-4.677840974516471,4.981319888386366,-8.751643899655662,3.52887387479646,-3.0010251196899134,1.692073024120333,4.51339710409809,-1.5056266912276612,-3.287449588139239,-5.866365681512292,16.081951138933988,-0.5518964839096157,6.826059648432533,0.6762810468427176,-4.395131647563517,17.4390705979896,1.3181465900329101,6.261627791259514,1.556834862350371,10.114653223869524,-4.579442483363906,-11.493896073792413,4.20893962538355,2.962518293031593,-6.832175451910814,4.34542898265083,-4.75485038841947,4.960139830304399,-2.3529049336903682,1.27998859464455,5.814493914471356,-4.669690395639151,4.626500773612406,3.2642411640697304,-9.57321504450303,-13.13836087511983,-10.173193682461445,0.3673256801803433,2.5968678692210716,0.04525017549876509,-3.0886720508206054,-1.5469692579044931,0.32351211146908554,-6.492233470998144,1.430869379493629,-7.51866376126749,4.466256719905857,-4.007052437171197,4.436339588476514,1.334373407531075,2.2886715956068002,2.8750680338785486,6.081410164225332,1.2457095595226235,5.779324203426583,-6.7977063558037685,-3.292699925884449,-2.6631253037237173,2.1121496416885464,5.058442074392417,-3.6735282302006453,7.074121415807454,2.3238474468259938,3.378757292030514,0.18620970935086234,-0.07528814879866275,0.4515955109844185,1.1777148352595503,4.1678995290002945,-6.29856585770986,-1.05635564501776,-2.789333775702005,-1.467103705549647,-4.084243344867616,2.3256548848904117,-4.974324370139783,-1.1443327415742175,-2.7064654352404887,-0.43299442613181327,0.23591124645872696,-1.7090723019585994,-2.242187708994237,-0.48749043494299826,5.196981093169214,1.455740412958832,-1.6517319225131075,-4.372098523880382,2.6842395216646224,-2.874248321118557,11.051972307494978,2.3482211676080453,0.3302352539343758,15.188609466725254,-4.6528991051931,2.803968205169369,0.4751969271283514,-4.647265264120421,-0.8107640052376155,16.800234527025637,-0.40958972064677823,-10.094914821789601,-12.70249338312243,-1.3651601210147248,-2.3641337837676986,0.6104686050605892,-4.2144934742158995,2.389111179721212,7.223825039926268,-4.660467934240174,-1.7058252206832236,5.7553190558491,-2.6902924566243342,-3.268009428228993,-3.33930992715824,4.990973006972155,-7.831203277029502,8.626679665650272,1.7262541096874031,9.84054563969434,0.3843327013069029,-0.33414179811576616,-7.481417338962274,-1.0066526179474806,-1.8326466009918647,-3.747849860651712,-1.1881159557677563,-3.582674438881412,2.0435874499628994,2.1345083892471592,-2.196188563024805,2.3209858457128547,3.3832714790153204,0.19095724067527442,-3.1829217704469386,-4.771053294370475,-9.054019667669209,-10.175506360853404,-12.506042020775581,2.923062727325359,1.5737143086367382,1.829773699137121,-0.6507912357056398,-7.723784460767973,-8.036828362047373,-2.025982161106782,-3.0550897699133657,-8.62541626110037,1.6304589062328887,2.5864814924823207,-1.5762643396432452,-0.697412464818072,1.6758568740033581,-4.205422648188943,-0.8471119182851652,-4.985402766105068,-3.0276945852727977,-1.107334853587247,-1.3110505667587233,-0.28270999604778524,-2.2231705773331782,9.289920556635266,-0.19725229967397695,-3.414986047374086,10.680258402784077,2.2354123727324833,1.1746541244447002,-3.903379638185072,-2.27926768753143,2.4512196488299764,1.229768979177308,-5.824316126694072,-8.118019734006353,-1.2248732369007485,1.910352214835882,0.2573410083841452,-4.026241664990991,0.926688183737042,-2.3896278939624267,4.749421390965338,2.9584111551855443,8.031334699066335,7.661532431245448,-2.2322587755620305,2.691831439333413,-2.485635606825582,-1.2307105941533791,-5.8705532211844655,-3.91391153554801,-4.962066008228959,7.655906668376858,-1.3916392269710087,4.1331852383372905,2.71924314015979,-0.0354408814251741,2.815206388709015,1.820776148170367,1.192358063557748,-8.955047621997238,-5.106675892264292,-7.6120427679300775,0.7097242795327077,5.872841697684208,-0.5728944589999259,-7.207939489771221,0.4948097669124394,2.1934667694581975,-0.20096117822645,0.2880481474278156,1.3895378640493732,-2.230003604808118,-5.229618525200763,-1.4835084087295627,-3.7651152871806346,3.7409304313049176,5.888887174898116,-0.8577160286752985,1.9250680597260441,-2.1764965800175844,-6.641820808338167,3.4653270846016255,-8.46736032841602,5.104604293500643,-1.534436788307147,0.952282023549401,0.8472863903868699,-1.1222182991373018,-0.9215416014535265,-1.3276203835693252,1.0796187900028258,1.8083511815443387,0.13841625789933687,5.663738248656642,-7.34812661505228,-3.2704882066229004,0.07481582546667198,-1.4273055699226092,-8.584689658464441,8.38405898220691,-5.610230665311093,0.44520790129281806,-5.2421833390459085,0.6530210786529977,2.2925936088375494,6.944506352797745,3.2565514759640593,-1.224816579955899,-5.711887292111243,0.01020943800406826,-3.9045490662178395,-1.2374670892018997,-1.6553996795240238,0.9609630954656865,6.158504956574859,5.086566521260565,-4.769011960638636,-5.302143059861251,14.42762809505345,-11.078824168718299,-0.2775913764693172,-1.5823522139168347,-2.483767850174573,-0.8594072283918024,-3.4293460601697348,3.1217656278965364,-3.2994649505158122,-8.291978840315608,3.7137421012464955,-2.2752541980381693,-1.1803133279697704,2.917151271227695,0.22430659048166035,0.26780645270261516,-4.426684531856353,0.6607441554293985,4.2374612842697275,1.1856068679284562,-2.805019764545534,-0.018735601564856097,2.704215772511418,0.4762613359888235,-7.580274091542364,-7.586499965460973,-2.1655389268479865,-7.222249418016162,-8.851054807063761,1.297608720843897,6.352475097377493,-5.0551371828030796,-6.48882049955067,1.7316233433809316,5.691932011652909,-1.4503309852167234,2.642589879680955,-2.347369810007052,-2.387823618283278,-10.971841733820852,6.704525055398605,-4.397795438300832,1.8314979159823963,4.8992953602953975,1.6073831335151425,-1.0907337994564585,2.0268421007313293,1.825777392352819,5.0416632276890425,2.02915776345516,-2.162755856937224,6.267714259929988,-3.643643308416884,-2.774471597900515,0.07001347237789446,4.8041935260793025,9.455847847422731,2.2608686392219255,-8.718914923696389,12.005383749349889,1.395608940495407,-4.8371250239101755,-0.3506094272821656,4.800915080536868,6.083351930382378,-4.069966623088845,-5.7665038921465595,-0.33061370361726006,-4.760411878926803,8.976604843830003,6.4121126143711535,0.5625300908396014,-0.5215560575241653,8.22712885166797,3.3764923510495635,-13.272695583864106,0.7750406473272449,4.615014057788514,8.212730639829786,-4.847346437145077,6.288058883322435,3.3048894067356542,1.3602829007375448,-4.258515378786981,0.7787487682871301,-1.5596539285440087,7.299388398499701,-5.509692915246362,2.579969068764683,11.88706496662084,-7.369054146140996,3.923478068284325,-5.592272625552383,-6.9875527285999794,-0.990009641848971,-3.5568300264230572,-9.82225603065288,5.152853674756585,2.456135353152632,2.5093403739731173,6.990822945644439,1.4724351442910404,-8.561090529256418,6.896288554324755,2.3404360148400514,-4.777534544862377,0.748961425709993,-1.4102525332448863,5.436991064300514,3.6141912662746165,-1.3176241834466111,1.4990707065453392,2.4562087857085544,-11.331277821251604,-5.12617285423336,-0.3443553943863975,-3.449655623443846,5.452899186198991,0.7968259028987603,7.687879794175998,1.5280680135921045,-5.150203078373295,-7.068200307466668,-1.8310756486096693,2.593539130625018,5.008481400249593,0.09849578714587892,-0.012984507854099547,-3.6610067402521764,5.685436111014553,-5.291607146923155,-6.413671499532256,-0.9363218738608055,0.5842881492273193,0.02926054515964438,-4.4100198778980655,0.6033163988618071,6.591306366364236,-0.4419088157059434,-6.180570056499107,4.5282861195532575,-1.1946668787809642,-2.612666570902718,-0.9855032806360953,-14.687569902802323,0.6234912610100594,9.29512053499954,-4.731077074483025,-3.3537347010213807,-3.893436240108059,3.054980702610308,-0.4138096373261533,-1.8896109617803063,-1.0079968547400142,7.091486823704216,5.33089782827264,3.0496952150883487,2.1446678295445736,3.244198602894542,6.37172438065123,-0.02129633901714101,-3.5751226481547604,8.333821835885828,-2.223414759357297,5.034377722428857,1.963408983434789,-3.576717954953608,-2.9027281055925442,-2.5815286841976217,10.927876203367092,3.4662760946991966,6.628674265210577,1.1224459867386543,-1.1707724495597631,-6.854908774937925,-1.4357039942751584,1.3992993181491755,-2.36487929220047,0.9921733367399526,-2.5477754806276494,0.9612729891604772,-0.21419832269283745,7.531847257136036,-4.668837928394083,-3.5535777592705813,-0.2610589596886257,-6.47706418867071,-0.20259956278781033,-3.5544386995509143,0.3554486011602904,-1.4681519431251928,-2.1271901750369295,-6.5972952037624,-1.3498254379740615,-1.2699941056138755,-0.9514429738170094,-0.3593719893014793,2.0658088976143034,-1.3585074550460234,-1.9683510253487242,3.9712479830512564,0.25829136123999774,1.4021405919920369,1.9423179247324072,-0.2992979444755406,3.398207656827722,2.240245379171512,-2.8187157654784016,7.128159032295599,2.940359378144919,-10.121366641732791,1.4671945717735042,-2.4658286010081127,-1.3087511090589175,-1.871758230340319,7.404770044787043,4.679314701923872,0.6519677827107984,2.6224222102283363,6.479809145503424,-4.691250422907331,-7.932191981481267,0.9663293472499817,-0.7420603648080544,-1.7096479787581842,0.2526856173285523,-2.7806149768740056,3.642649346211357,6.687201233066929,-8.553799378208922,0.5729149061394168,-0.12107938601511137,-11.351366852009193,0.31554457190162566,1.536233724453325,2.4449144517125063,4.036617218153239,0.6302389026210022,6.075931368058562,-0.7928387515715087,8.089032737238995,2.5682582338444035,-0.32531621543702727,-7.687572030923221,0.5020314956604182,1.8698142968388538,11.37081398364667,-1.3131303891768624,2.7338191745023437,-8.087931677364253,1.3665673565424328,-4.519707838901454,4.214216167681315,-1.7342039014156114,7.147978415771647,6.905913130966027,3.487437020136113,-4.456328965194089,-3.75310318730979,0.5275421834338943,0.6428418500239559,6.036501700920013,-0.5526563503951678,4.905356893893199,2.9199025584505023,11.213469519384958,-0.2602170448974306,2.034963910704178,4.755276680065521,2.582893407645713,0.04262321141226266,-3.3053145338465413,10.141343642197242,-11.391793583111266,-5.004891104170326,1.934057713011967,-4.210419817976145,-1.0768399799712967,-9.838159268191987,3.694400667419785,0.5688306151637477,-1.234610818244633,4.234092503048544,2.5507385246462633,-3.4424334746403673,-6.955867910127779,3.7574996886182674,-1.5622194548253532,4.841489845071493,0.15091268190562346,1.4947226002648648,4.85643169686243,-1.6678375456391734,0.17743240244379876,3.2007665402949073,-9.484796605782918,-2.575456996966537,-0.7360571470537707,0.9237404289089426,5.566890396658394,-2.8055669655951476,-5.121712852076442,-5.871725745472077,-0.4065336554889285,-5.208469190518855,2.3334588618832015,-4.419421580124663,-7.4445713186412945,-1.8041034846530124,3.174126744735517,9.503981812815525,-2.1605404601984475,1.4717427947035588,-8.170424968513515,-6.376599672292656,1.4280804260768605,4.937100628508546,0.3077105192674594,7.923490303698983,-5.06558473292003,-1.957412760397773,1.6785908395682299,5.306928620457697,3.966715768684324,-2.5832922697372567,1.059649364405601,-5.758128706840566,2.048921589166696,-1.3326010367967172,1.561193323164943,8.26218860112445,-1.4604456325927657,5.95349973516565,4.91951974703305,-2.6179202939933077,-0.6858424128707554,-0.8927436346469904,1.1784858947944485,2.2765569579123905,1.7011772683808175,-2.854705646303046,-6.732163426359676,-7.558362503077106,-3.276045492622231,-3.611271228824222,1.3036282250714493,-5.256048798393721,-5.839246357157194,-2.194806862403766,1.8348664312002114,1.5068664492580695,5.678231562907271,-4.438341672739853,0.1392303087068001,0.4361640700923459,-0.09047958756525531,-5.315529801263281,0.3185881398297141,-5.2831929895382785,-3.9339516627284894,0.9091370166752029,-3.0135993330768827,-6.406464237371722,-2.3460490482020475,1.660487796176696,5.5250170923860935,11.560192551947992,1.1922949575991737,1.8363147485892313,6.834609902912817,-4.306243234487624,-0.10970657988602284,-1.2218927288521115,-5.0849486659067225,3.5099252395853284,2.0889876678034938,1.5735860942501603,0.9238226642385854,10.28263709856499,-3.5798594954272005,-5.937121851580173,-5.491964101411867,-6.117625455569282,-2.1412503068609396,3.861045919685168,-5.195401660306089,8.307787332277854,-7.24551387619988,11.110763871612093,1.6569203432682258,1.1766287971058205,5.750459389492619,2.0384736605138443,-8.119244240289518,7.879681775901446,0.4761268271736867,-3.6836893781698734,4.718123606759448,-4.6230472678264505,6.0560190054490874,-9.119549718554069,0.5812383513972605,0.8448583576775093,4.021795318646099,-1.488797346129985,-3.1970035202055413,4.423849103059098,3.954993279534861,-0.38442968316023496,4.011831450338775,0.24009317700128463,-1.066052179878639,0.8600670948078033,5.1022333683260825,-4.894977423914639,1.9508931072615354,-1.0052903750118247,8.21481741631439,1.2079069270912868,5.464538627788357,-0.11362077500872658,0.2113285169609327,6.200990515328954,-3.102535443370897,3.1440718474445077,1.357072919366928,0.7903115599087585,-0.857106266157615,-1.2353664463223595,-2.182866253986191,-0.1343196505031301,-5.362438728131352,2.8073769160589563,-0.6750891983660665,-2.1988716517400917,3.0400184654094744,1.5144852151561707,-4.15624460268063,-2.632930302919391,-12.217104171112496,1.028988910410476,-6.7579293695364555,-2.469638442052087,5.468008768026905,5.965810046574802,-5.234304534551654,0.6093913233030719,3.198773942867831,-1.4091414275130347,1.92189779545987,-4.219704986637822,3.3576210821533152,3.108698239420491,2.3842901478934664,-1.68801019364588,-1.4668489436988068,-1.7315950957156332,4.16330372887478,-2.90633906881763,6.399244311274188,6.3141359919981,-1.9578872521362882,-0.06646852529675584,-2.091744489842995,1.3450324831766949,-5.579361088356791,0.22423760837300222,0.75253447152501,-0.7424513670018342,-2.2914169084331064,3.839389039708692,1.3913650397152821,-4.194126946731075,14.128561210176045,-4.752099340180166,-3.0280266474500195,2.751622639768442,0.6785435085811571,-3.3706788756200297,9.5639928458816,5.3962428004776655,1.728120418514976,-3.0039064672036204,2.8994517069713197,-2.175969617572605,-6.4200572901782635,-6.372533513054449,0.7524004554580301,-1.9471380071704658,-0.17177939375358164,3.1706977997446018,0.210943320619549,9.797430150919226,6.845603564666149,1.6469470362473402,4.160809826045977,4.472944542215188,-0.32697965285106534,1.1276115007137406,4.245781924829814,-2.670492040577429,-1.2344962977269915,2.29321158441833,2.527119530887873,-2.7550288338555617,3.5706998357373294,-4.719649133024205,6.116813973388133,-4.126096501050085,1.272170200946121,0.5223436257322334,11.53819569173153,-3.82673773206659,7.448867490419531,7.239559571546863,1.1817881052951265,0.4239727208737918,3.5218330718769266,-4.659843493249326,-2.5808703672118583,2.154582552420166,5.324792745083897,-5.319342731801882,-4.46181790767038,-4.998149234823856,7.269688495415835,-1.965319619411673,1.7466588969923151,-2.8064405710583458,-1.1449998127571632,0.8615339019310682,-2.886944572062035,-3.9281070811343,0.11813461994441354,-2.902221061829664,4.640782942826192,0.3383434944617676,2.1712225681743433,-3.3000457682864806,3.70544505121336,-5.159552255927849,1.3418888391002781,-3.235976099708978,-4.603290731977353,5.774431398503324,-2.263308630124044,-3.3872245997980883,0.09365478194256127,-2.3958619431194137,0.0649550758492694,2.186704694046071,6.404472491382691,0.15292635173486246,3.1870281073434654,0.809588276060623,1.6496795962823398,-0.8740953171879937,4.151932855826885,0.24914832534362574,0.16733372562160298,-3.1438904334793563,-8.587500321755371,-3.8840240057746627,0.24369599713043044,7.348969558604537,3.3226573164362634,0.5483675546531543,-15.200738139265141,-3.239444551402812,-5.973983191690905,4.900914225097495,7.461932925497862,-0.5872263542080987,-4.712938901458585,-5.630381719277381,9.653283443832706,0.34100669454468857,0.2892662484111099,2.5244194854037403,-6.53385836984026,-0.7018257024603258,0.2946576753966781,4.9519063116062085,5.246774674188799,-3.6219058855306656,1.9151128581264487,-6.871316187367427,-1.8636813729503103,-5.487541273897108,-2.7012357791510766,9.385871139691218,-7.928827012423028,-4.860971009727194,-2.069397754036345,-16.28236844032243,-2.5249040120049244,-0.6010655667451772]}},\"id\":\"26060af9-1953-4b41-b761-1dc4aa3822d7\",\"type\":\"ColumnDataSource\"},{\"attributes\":{\"overlay\":{\"id\":\"ce50da57-d308-4801-ba5e-44c0caac9611\",\"type\":\"PolyAnnotation\"},\"plot\":{\"id\":\"34ec692e-b687-4ff2-8887-cdb1bdc33cf9\",\"subtype\":\"Figure\",\"type\":\"Plot\"}},\"id\":\"6f5857f5-e593-457c-802d-556927b604dd\",\"type\":\"PolySelectTool\"},{\"attributes\":{\"plot\":{\"id\":\"34ec692e-b687-4ff2-8887-cdb1bdc33cf9\",\"subtype\":\"Figure\",\"type\":\"Plot\"}},\"id\":\"4d7eb0e1-063e-4364-86a6-c8226f530f92\",\"type\":\"ResetTool\"},{\"attributes\":{\"fill_color\":{\"value\":\"#80B1D3\"},\"line_color\":{\"value\":\"#80B1D3\"},\"line_width\":{\"value\":3},\"x\":{\"field\":\"x\"},\"y\":{\"field\":\"y\"}},\"id\":\"f3c44d7b-d29c-4039-98ce-2ccaee4f2694\",\"type\":\"Circle\"},{\"attributes\":{\"axis_label\":\"Predicted\",\"axis_label_text_color\":{\"value\":\"#aa6666\"},\"formatter\":{\"id\":\"dc831e04-07bf-4718-bea0-09fdcc45f850\",\"type\":\"BasicTickFormatter\"},\"major_tick_line_color\":{\"value\":\"firebrick\"},\"major_tick_line_width\":{\"value\":3},\"minor_tick_line_color\":{\"value\":\"orange\"},\"plot\":{\"id\":\"34ec692e-b687-4ff2-8887-cdb1bdc33cf9\",\"subtype\":\"Figure\",\"type\":\"Plot\"},\"ticker\":{\"id\":\"28212959-6375-424a-983e-1b332fc054a5\",\"type\":\"BasicTicker\"}},\"id\":\"a8a080be-fa3f-4a29-af94-fc0818139b30\",\"type\":\"LinearAxis\"},{\"attributes\":{\"callback\":null,\"overlay\":{\"id\":\"fac91481-8f1c-4448-b31e-e6d474ca0124\",\"type\":\"PolyAnnotation\"},\"plot\":{\"id\":\"34ec692e-b687-4ff2-8887-cdb1bdc33cf9\",\"subtype\":\"Figure\",\"type\":\"Plot\"}},\"id\":\"7edccb13-da64-48dc-91e9-b87d7156f7fa\",\"type\":\"LassoSelectTool\"},{\"attributes\":{\"bottom_units\":\"screen\",\"fill_alpha\":{\"value\":0.5},\"fill_color\":{\"value\":\"lightgrey\"},\"left_units\":\"screen\",\"level\":\"overlay\",\"line_alpha\":{\"value\":1.0},\"line_color\":{\"value\":\"black\"},\"line_dash\":[4,4],\"line_width\":{\"value\":2},\"plot\":null,\"render_mode\":\"css\",\"right_units\":\"screen\",\"top_units\":\"screen\"},\"id\":\"2b43b2d5-96a4-4ea6-a995-3a4ee1fe7973\",\"type\":\"BoxAnnotation\"},{\"attributes\":{},\"id\":\"28212959-6375-424a-983e-1b332fc054a5\",\"type\":\"BasicTicker\"},{\"attributes\":{\"overlay\":{\"id\":\"2b43b2d5-96a4-4ea6-a995-3a4ee1fe7973\",\"type\":\"BoxAnnotation\"},\"plot\":{\"id\":\"34ec692e-b687-4ff2-8887-cdb1bdc33cf9\",\"subtype\":\"Figure\",\"type\":\"Plot\"}},\"id\":\"450f4f6d-4a3c-42c9-8b3f-db02916837f2\",\"type\":\"BoxZoomTool\"},{\"attributes\":{\"data_source\":{\"id\":\"26060af9-1953-4b41-b761-1dc4aa3822d7\",\"type\":\"ColumnDataSource\"},\"glyph\":{\"id\":\"f3c44d7b-d29c-4039-98ce-2ccaee4f2694\",\"type\":\"Circle\"},\"hover_glyph\":null,\"nonselection_glyph\":{\"id\":\"bf78f2c4-391f-47b6-a653-be8510064852\",\"type\":\"Circle\"},\"selection_glyph\":null},\"id\":\"70aac5fe-1667-4169-b052-e2693d307475\",\"type\":\"GlyphRenderer\"},{\"attributes\":{\"callback\":null},\"id\":\"b8b59da5-c37f-4118-a638-1fdf2efffccb\",\"type\":\"DataRange1d\"},{\"attributes\":{\"dimension\":1,\"plot\":{\"id\":\"34ec692e-b687-4ff2-8887-cdb1bdc33cf9\",\"subtype\":\"Figure\",\"type\":\"Plot\"},\"ticker\":{\"id\":\"8c13a199-0261-47ac-bf94-8bb4a26272e5\",\"type\":\"BasicTicker\"}},\"id\":\"2c0526d7-e3b7-45ee-bb5a-645c833bd253\",\"type\":\"Grid\"},{\"attributes\":{\"plot\":{\"id\":\"34ec692e-b687-4ff2-8887-cdb1bdc33cf9\",\"subtype\":\"Figure\",\"type\":\"Plot\"}},\"id\":\"c01b9a54-e183-489a-ac05-5a1287344f73\",\"type\":\"PanTool\"},{\"attributes\":{\"plot\":{\"id\":\"34ec692e-b687-4ff2-8887-cdb1bdc33cf9\",\"subtype\":\"Figure\",\"type\":\"Plot\"}},\"id\":\"9a33212c-58fa-4086-9466-3f0d9e402798\",\"type\":\"UndoTool\"},{\"attributes\":{\"callback\":null,\"overlay\":{\"id\":\"aee4ef41-9525-4ab0-99ed-a3b008fd3cd1\",\"type\":\"BoxAnnotation\"},\"plot\":{\"id\":\"34ec692e-b687-4ff2-8887-cdb1bdc33cf9\",\"subtype\":\"Figure\",\"type\":\"Plot\"},\"renderers\":[{\"id\":\"70aac5fe-1667-4169-b052-e2693d307475\",\"type\":\"GlyphRenderer\"}]},\"id\":\"eddb635b-465a-4fb9-b583-d452079def1b\",\"type\":\"BoxSelectTool\"},{\"attributes\":{\"callback\":null},\"id\":\"569ddd8c-224c-4f54-91f2-b1cdb71823ba\",\"type\":\"DataRange1d\"},{\"attributes\":{\"bottom_units\":\"screen\",\"fill_alpha\":{\"value\":0.5},\"fill_color\":{\"value\":\"lightgrey\"},\"left_units\":\"screen\",\"level\":\"overlay\",\"line_alpha\":{\"value\":1.0},\"line_color\":{\"value\":\"black\"},\"line_dash\":[4,4],\"line_width\":{\"value\":2},\"plot\":null,\"render_mode\":\"css\",\"right_units\":\"screen\",\"top_units\":\"screen\"},\"id\":\"aee4ef41-9525-4ab0-99ed-a3b008fd3cd1\",\"type\":\"BoxAnnotation\"},{\"attributes\":{\"plot\":{\"id\":\"34ec692e-b687-4ff2-8887-cdb1bdc33cf9\",\"subtype\":\"Figure\",\"type\":\"Plot\"},\"ticker\":{\"id\":\"28212959-6375-424a-983e-1b332fc054a5\",\"type\":\"BasicTicker\"}},\"id\":\"f198cbfb-b378-415b-a27b-a3c0e5f7f244\",\"type\":\"Grid\"},{\"attributes\":{},\"id\":\"249b5607-47d1-43de-9cf9-196c9198cde8\",\"type\":\"BasicTickFormatter\"},{\"attributes\":{\"plot\":{\"id\":\"34ec692e-b687-4ff2-8887-cdb1bdc33cf9\",\"subtype\":\"Figure\",\"type\":\"Plot\"}},\"id\":\"9eb4a96b-c331-4965-8127-e8a5e50e4f0e\",\"type\":\"SaveTool\"},{\"attributes\":{\"align\":\"center\",\"plot\":null,\"text\":\"Residual plot on the training data\"},\"id\":\"6cdd84b6-cbfd-4cc0-8dd2-badb321ba59c\",\"type\":\"Title\"},{\"attributes\":{\"plot\":{\"id\":\"34ec692e-b687-4ff2-8887-cdb1bdc33cf9\",\"subtype\":\"Figure\",\"type\":\"Plot\"}},\"id\":\"a83596a3-5eff-4d57-85d3-994ee60d3f60\",\"type\":\"ResizeTool\"},{\"attributes\":{\"plot\":{\"id\":\"34ec692e-b687-4ff2-8887-cdb1bdc33cf9\",\"subtype\":\"Figure\",\"type\":\"Plot\"}},\"id\":\"e8d76fc2-9641-4ebd-8694-57729bbcdbc5\",\"type\":\"WheelZoomTool\"},{\"attributes\":{\"callback\":null,\"plot\":{\"id\":\"34ec692e-b687-4ff2-8887-cdb1bdc33cf9\",\"subtype\":\"Figure\",\"type\":\"Plot\"}},\"id\":\"9a885da3-3c69-45dd-a37f-af953cfafb21\",\"type\":\"TapTool\"}],\"root_ids\":[\"34ec692e-b687-4ff2-8887-cdb1bdc33cf9\"]},\"title\":\"Bokeh Application\",\"version\":\"0.12.2\"}};\n",
       "            var render_items = [{\"docid\":\"90d91e1a-251d-4836-8072-545e58364b3f\",\"elementid\":\"22d12de0-ce85-4f2c-a67e-a09f37c35f7a\",\"modelid\":\"34ec692e-b687-4ff2-8887-cdb1bdc33cf9\"}];\n",
       "            \n",
       "            Bokeh.embed.embed_items(docs_json, render_items);\n",
       "        });\n",
       "      },\n",
       "      function(Bokeh) {\n",
       "      }\n",
       "    ];\n",
       "  \n",
       "    function run_inline_js() {\n",
       "      \n",
       "      if ((window.Bokeh !== undefined) || (force === \"1\")) {\n",
       "        for (var i = 0; i < inline_js.length; i++) {\n",
       "          inline_js[i](window.Bokeh);\n",
       "        }if (force === \"1\") {\n",
       "          display_loaded();\n",
       "        }} else if (Date.now() < window._bokeh_timeout) {\n",
       "        setTimeout(run_inline_js, 100);\n",
       "      } else if (!window._bokeh_failed_load) {\n",
       "        console.log(\"Bokeh: BokehJS failed to load within specified timeout.\");\n",
       "        window._bokeh_failed_load = true;\n",
       "      } else if (!force) {\n",
       "        var cell = $(\"#22d12de0-ce85-4f2c-a67e-a09f37c35f7a\").parents('.cell').data().cell;\n",
       "        cell.output_area.append_execute_result(NB_LOAD_WARNING)\n",
       "      }\n",
       "  \n",
       "    }\n",
       "  \n",
       "    if (window._bokeh_is_loading === 0) {\n",
       "      console.log(\"Bokeh: BokehJS loaded, going straight to plotting\");\n",
       "      run_inline_js();\n",
       "    } else {\n",
       "      load_libs(js_urls, function() {\n",
       "        console.log(\"Bokeh: BokehJS plotting callback run at\", now());\n",
       "        run_inline_js();\n",
       "      });\n",
       "    }\n",
       "  }(this));\n",
       "</script>"
      ]
     },
     "metadata": {},
     "output_type": "display_data"
    }
   ],
   "source": [
    "# Plotining using bokeh\n",
    "#TOOLS = 'hover,box_zoom,box_select,crosshair,resize,reset,lasso_select,pan,save,poly_select,tap,wheel_zoom,undo'\n",
    "TOOLS = 'box_zoom,box_select,crosshair,resize,reset,lasso_select,pan,save,poly_select,tap,wheel_zoom,undo'\n",
    "p = figure(plot_width=500, plot_height=500, title=\"Residual plot on the training data\", tools=TOOLS)\n",
    "p.scatter(predicted, (predicted - Y),x=\"jjj\", marker=\"o\", color=\"#80B1D3\", line_width=3)\n",
    "p.title.align = \"center\"\n",
    "p.xaxis.axis_label = \"Predicted\"\n",
    "p.xaxis.axis_label_text_color = \"#aa6666\"\n",
    "#p.xaxis.axis_label_standoff = 30\n",
    "p.xaxis.major_tick_line_color = \"firebrick\"\n",
    "p.xaxis.major_tick_line_width = 3\n",
    "p.xaxis.minor_tick_line_color = \"orange\"\n",
    "p.yaxis.axis_label = \"Residuals\"\n",
    "p.yaxis.axis_label_text_font_style = \"italic\"\n",
    "p.yaxis.axis_label_text_color = \"#aa6666\"\n",
    "p.background_fill_color = \"beige\"\n",
    "p.background_fill_alpha = 0.5\n",
    "#p.line([2,38], [0, 0], line_dash=\"4 4\", line_width=2, color='red')\n",
    "show(p)"
   ]
  },
  {
   "cell_type": "markdown",
   "metadata": {},
   "source": [
    "## Pipeline"
   ]
  },
  {
   "cell_type": "markdown",
   "metadata": {},
   "source": [
    "The best to deliver the model by pipeline the operation then at deployment can be done in one model."
   ]
  },
  {
   "cell_type": "markdown",
   "metadata": {
    "collapsed": true
   },
   "source": [
    "  I used two ways to check the pipeline so any one can be fine"
   ]
  },
  {
   "cell_type": "code",
   "execution_count": 22,
   "metadata": {
    "collapsed": false
   },
   "outputs": [
    {
     "name": "stdout",
     "output_type": "stream",
     "text": [
      "0.504749014601\n",
      "Scoring according to mean_squared_error\n",
      "[-24.85456326 -29.80003198 -26.8181141  -28.06587631 -19.9020853\n",
      " -27.89641079 -19.06466586 -21.12863346 -20.1390529  -22.09776626]\n",
      "\n",
      " Mean      Standard deviation\n",
      "-23.98      3.77\n",
      "[ True  True  True  True  True]\n",
      "R-squared =  0.504749014601\n"
     ]
    }
   ],
   "source": [
    "# Use Pipeline\n",
    "# ANOVA \n",
    "from sklearn.pipeline import Pipeline\n",
    "from sklearn.feature_selection import SelectKBest, f_regression\n",
    "anova_filter = SelectKBest(f_regression, k=5)\n",
    "LR = LinearRegression()\n",
    "anova_LinReg = Pipeline([('scaler_Input',scaler), ('anova', anova_filter), ('LinReg', LR)])\n",
    "# You can set the parameters using the names issued\n",
    "# For instance, fit using a k of 10 in the SelectKBest\n",
    "anova_LinReg.set_params(anova__k=5).fit(new_data, Y)\n",
    "prediction = anova_LinReg.predict(new_data)\n",
    "print anova_LinReg.score(new_data, Y)                        \n",
    "# getting the selected features chosen by anova_filter\n",
    "results = cross_validation.cross_val_score(anova_LinReg, new_data, Y, cv=kfold, scoring=scoring)\n",
    "print 'Scoring according to mean_squared_error'\n",
    "print results\n",
    "print '\\n Mean      Standard deviation'\n",
    "print(\"%.2f      %.2f\" % (results.mean(), results.std()))\n",
    "print anova_LinReg.named_steps['anova'].get_support()\n",
    "r_squared = r2_score(Y, prediction, multioutput='variance_weighted')\n",
    "print 'R-squared = ',r_squared"
   ]
  },
  {
   "cell_type": "code",
   "execution_count": 23,
   "metadata": {
    "collapsed": false
   },
   "outputs": [
    {
     "name": "stdout",
     "output_type": "stream",
     "text": [
      "R-squared =  0.504749014601\n"
     ]
    }
   ],
   "source": [
    "# Using make_pipeline\n",
    "from sklearn.pipeline import make_pipeline\n",
    "\n",
    "# ANOVA SVM-C\n",
    "# 1) anova filter, take 3 best ranked features\n",
    "anova_filter = SelectKBest(f_regression, k=5)\n",
    "anova_lr = make_pipeline(scaler, anova_filter, LR)\n",
    "anova_lr.fit(new_data, Y)\n",
    "prediction = anova_lr.predict(new_data)\n",
    "r_squared = r2_score(Y, prediction, multioutput='variance_weighted')\n",
    "print 'R-squared = ',r_squared"
   ]
  },
  {
   "cell_type": "markdown",
   "metadata": {},
   "source": [
    "### Save the Pipeline model for developement"
   ]
  },
  {
   "cell_type": "code",
   "execution_count": 24,
   "metadata": {
    "collapsed": false
   },
   "outputs": [
    {
     "data": {
      "text/plain": [
       "['anova_lr.pkl',\n",
       " 'anova_lr.pkl_01.npy',\n",
       " 'anova_lr.pkl_02.npy',\n",
       " 'anova_lr.pkl_03.npy',\n",
       " 'anova_lr.pkl_04.npy',\n",
       " 'anova_lr.pkl_05.npy',\n",
       " 'anova_lr.pkl_06.npy',\n",
       " 'anova_lr.pkl_07.npy']"
      ]
     },
     "execution_count": 24,
     "metadata": {},
     "output_type": "execute_result"
    }
   ],
   "source": [
    "# save the model scaler to the desk\n",
    "from sklearn.externals import joblib\n",
    "joblib.dump(anova_lr, 'anova_lr.pkl') "
   ]
  },
  {
   "cell_type": "code",
   "execution_count": 25,
   "metadata": {
    "collapsed": false
   },
   "outputs": [
    {
     "name": "stdout",
     "output_type": "stream",
     "text": [
      " =================================================================>>>>> done\n",
      "R-squared =  0.504749014601\n"
     ]
    }
   ],
   "source": [
    "# Test the model if it is work\n",
    "anova_lrTest = joblib.load('anova_lr.pkl')\n",
    "NewPred = anova_lrTest.predict(new_data)\n",
    "print \" =================================================================>>>>> done\"\n",
    "r_squared = r2_score(Y, NewPred, multioutput='variance_weighted')\n",
    "print 'R-squared = ',r_squared"
   ]
  },
  {
   "cell_type": "code",
   "execution_count": 26,
   "metadata": {
    "collapsed": false
   },
   "outputs": [
    {
     "name": "stdout",
     "output_type": "stream",
     "text": [
      "Point of training data before normalization\n",
      "[  1.00000000e+03   2.70000000e+00   1.52400000e-01   7.13000000e+01\n",
      "   2.43851000e-03]\n",
      "\n",
      "The read target of the data =  128.774\n",
      "\n",
      "The Predicted target of the data =  [ 131.61174619]\n"
     ]
    }
   ],
   "source": [
    "# test on single data point, randomly choose point number 55\n",
    "print 'Point of training data before normalization\\n',new_data[55]\n",
    "print '\\nThe read target of the data = ', Y[55]\n",
    "NewPred = anova_lrTest.predict([new_data[55]])\n",
    "print '\\nThe Predicted target of the data = ', NewPred\n",
    "\n"
   ]
  },
  {
   "cell_type": "markdown",
   "metadata": {},
   "source": [
    "## Conclusion "
   ]
  },
  {
   "cell_type": "markdown",
   "metadata": {},
   "source": [
    "From the learning cure the model shows some high bias even though the model started to learn about the structure of the data."
   ]
  }
 ],
 "metadata": {
  "kernelspec": {
   "display_name": "Python 2",
   "language": "python",
   "name": "python2"
  },
  "language_info": {
   "codemirror_mode": {
    "name": "ipython",
    "version": 2
   },
   "file_extension": ".py",
   "mimetype": "text/x-python",
   "name": "python",
   "nbconvert_exporter": "python",
   "pygments_lexer": "ipython2",
   "version": "2.7.12"
  }
 },
 "nbformat": 4,
 "nbformat_minor": 0
}
