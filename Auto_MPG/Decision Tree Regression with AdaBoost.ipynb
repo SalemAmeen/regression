{
 "cells": [
  {
   "cell_type": "markdown",
   "metadata": {},
   "source": [
    "Salem Ameen, PhD student at Salford University\n",
    "\n",
    "### Auto MPG\n",
    "\n",
    "Decision trees Regression"
   ]
  },
  {
   "cell_type": "markdown",
   "metadata": {},
   "source": [
    "# Import the Libraries"
   ]
  },
  {
   "cell_type": "code",
   "execution_count": 1,
   "metadata": {
    "collapsed": false
   },
   "outputs": [
    {
     "data": {
      "text/html": [
       "\n",
       "    <div class=\"bk-root\">\n",
       "        <a href=\"http://bokeh.pydata.org\" target=\"_blank\" class=\"bk-logo bk-logo-small bk-logo-notebook\"></a>\n",
       "        <span id=\"981630be-6f66-4a3b-b6a3-d1264f66d172\">Loading BokehJS ...</span>\n",
       "    </div>"
      ]
     },
     "metadata": {},
     "output_type": "display_data"
    },
    {
     "data": {
      "application/javascript": [
       "\n",
       "(function(global) {\n",
       "  function now() {\n",
       "    return new Date();\n",
       "  }\n",
       "\n",
       "  var force = \"1\";\n",
       "\n",
       "  if (typeof (window._bokeh_onload_callbacks) === \"undefined\" || force !== \"\") {\n",
       "    window._bokeh_onload_callbacks = [];\n",
       "    window._bokeh_is_loading = undefined;\n",
       "  }\n",
       "\n",
       "\n",
       "  \n",
       "  if (typeof (window._bokeh_timeout) === \"undefined\" || force !== \"\") {\n",
       "    window._bokeh_timeout = Date.now() + 5000;\n",
       "    window._bokeh_failed_load = false;\n",
       "  }\n",
       "\n",
       "  var NB_LOAD_WARNING = {'data': {'text/html':\n",
       "     \"<div style='background-color: #fdd'>\\n\"+\n",
       "     \"<p>\\n\"+\n",
       "     \"BokehJS does not appear to have successfully loaded. If loading BokehJS from CDN, this \\n\"+\n",
       "     \"may be due to a slow or bad network connection. Possible fixes:\\n\"+\n",
       "     \"</p>\\n\"+\n",
       "     \"<ul>\\n\"+\n",
       "     \"<li>re-rerun `output_notebook()` to attempt to load from CDN again, or</li>\\n\"+\n",
       "     \"<li>use INLINE resources instead, as so:</li>\\n\"+\n",
       "     \"</ul>\\n\"+\n",
       "     \"<code>\\n\"+\n",
       "     \"from bokeh.resources import INLINE\\n\"+\n",
       "     \"output_notebook(resources=INLINE)\\n\"+\n",
       "     \"</code>\\n\"+\n",
       "     \"</div>\"}};\n",
       "\n",
       "  function display_loaded() {\n",
       "    if (window.Bokeh !== undefined) {\n",
       "      Bokeh.$(\"#981630be-6f66-4a3b-b6a3-d1264f66d172\").text(\"BokehJS successfully loaded.\");\n",
       "    } else if (Date.now() < window._bokeh_timeout) {\n",
       "      setTimeout(display_loaded, 100)\n",
       "    }\n",
       "  }\n",
       "\n",
       "  function run_callbacks() {\n",
       "    window._bokeh_onload_callbacks.forEach(function(callback) { callback() });\n",
       "    delete window._bokeh_onload_callbacks\n",
       "    console.info(\"Bokeh: all callbacks have finished\");\n",
       "  }\n",
       "\n",
       "  function load_libs(js_urls, callback) {\n",
       "    window._bokeh_onload_callbacks.push(callback);\n",
       "    if (window._bokeh_is_loading > 0) {\n",
       "      console.log(\"Bokeh: BokehJS is being loaded, scheduling callback at\", now());\n",
       "      return null;\n",
       "    }\n",
       "    if (js_urls == null || js_urls.length === 0) {\n",
       "      run_callbacks();\n",
       "      return null;\n",
       "    }\n",
       "    console.log(\"Bokeh: BokehJS not loaded, scheduling load and callback at\", now());\n",
       "    window._bokeh_is_loading = js_urls.length;\n",
       "    for (var i = 0; i < js_urls.length; i++) {\n",
       "      var url = js_urls[i];\n",
       "      var s = document.createElement('script');\n",
       "      s.src = url;\n",
       "      s.async = false;\n",
       "      s.onreadystatechange = s.onload = function() {\n",
       "        window._bokeh_is_loading--;\n",
       "        if (window._bokeh_is_loading === 0) {\n",
       "          console.log(\"Bokeh: all BokehJS libraries loaded\");\n",
       "          run_callbacks()\n",
       "        }\n",
       "      };\n",
       "      s.onerror = function() {\n",
       "        console.warn(\"failed to load library \" + url);\n",
       "      };\n",
       "      console.log(\"Bokeh: injecting script tag for BokehJS library: \", url);\n",
       "      document.getElementsByTagName(\"head\")[0].appendChild(s);\n",
       "    }\n",
       "  };var element = document.getElementById(\"981630be-6f66-4a3b-b6a3-d1264f66d172\");\n",
       "  if (element == null) {\n",
       "    console.log(\"Bokeh: ERROR: autoload.js configured with elementid '981630be-6f66-4a3b-b6a3-d1264f66d172' but no matching script tag was found. \")\n",
       "    return false;\n",
       "  }\n",
       "\n",
       "  var js_urls = ['https://cdn.pydata.org/bokeh/release/bokeh-0.12.2.min.js', 'https://cdn.pydata.org/bokeh/release/bokeh-widgets-0.12.2.min.js', 'https://cdn.pydata.org/bokeh/release/bokeh-compiler-0.12.2.min.js'];\n",
       "\n",
       "  var inline_js = [\n",
       "    function(Bokeh) {\n",
       "      Bokeh.set_log_level(\"info\");\n",
       "    },\n",
       "    \n",
       "    function(Bokeh) {\n",
       "      \n",
       "      Bokeh.$(\"#981630be-6f66-4a3b-b6a3-d1264f66d172\").text(\"BokehJS is loading...\");\n",
       "    },\n",
       "    function(Bokeh) {\n",
       "      console.log(\"Bokeh: injecting CSS: https://cdn.pydata.org/bokeh/release/bokeh-0.12.2.min.css\");\n",
       "      Bokeh.embed.inject_css(\"https://cdn.pydata.org/bokeh/release/bokeh-0.12.2.min.css\");\n",
       "      console.log(\"Bokeh: injecting CSS: https://cdn.pydata.org/bokeh/release/bokeh-widgets-0.12.2.min.css\");\n",
       "      Bokeh.embed.inject_css(\"https://cdn.pydata.org/bokeh/release/bokeh-widgets-0.12.2.min.css\");\n",
       "    }\n",
       "  ];\n",
       "\n",
       "  function run_inline_js() {\n",
       "    \n",
       "    if ((window.Bokeh !== undefined) || (force === \"1\")) {\n",
       "      for (var i = 0; i < inline_js.length; i++) {\n",
       "        inline_js[i](window.Bokeh);\n",
       "      }if (force === \"1\") {\n",
       "        display_loaded();\n",
       "      }} else if (Date.now() < window._bokeh_timeout) {\n",
       "      setTimeout(run_inline_js, 100);\n",
       "    } else if (!window._bokeh_failed_load) {\n",
       "      console.log(\"Bokeh: BokehJS failed to load within specified timeout.\");\n",
       "      window._bokeh_failed_load = true;\n",
       "    } else if (!force) {\n",
       "      var cell = $(\"#981630be-6f66-4a3b-b6a3-d1264f66d172\").parents('.cell').data().cell;\n",
       "      cell.output_area.append_execute_result(NB_LOAD_WARNING)\n",
       "    }\n",
       "\n",
       "  }\n",
       "\n",
       "  if (window._bokeh_is_loading === 0) {\n",
       "    console.log(\"Bokeh: BokehJS loaded, going straight to plotting\");\n",
       "    run_inline_js();\n",
       "  } else {\n",
       "    load_libs(js_urls, function() {\n",
       "      console.log(\"Bokeh: BokehJS plotting callback run at\", now());\n",
       "      run_inline_js();\n",
       "    });\n",
       "  }\n",
       "}(this));"
      ]
     },
     "metadata": {},
     "output_type": "display_data"
    }
   ],
   "source": [
    "import numpy as np\n",
    "import pandas\n",
    "from numpy import *\n",
    "import time\n",
    "import sys\n",
    "import pandas as pd\n",
    "import matplotlib.pyplot as plt\n",
    "from sklearn import feature_selection\n",
    "from sklearn.tree import DecisionTreeRegressor\n",
    "from sklearn.learning_curve import learning_curve, validation_curve\n",
    "from sklearn.cross_validation import cross_val_predict\n",
    "from sklearn import metrics, grid_search, cross_validation\n",
    "from IPython.display import set_matplotlib_formats\n",
    "from bokeh.plotting import figure, show, output_notebook\n",
    "from sklearn.grid_search import GridSearchCV, RandomizedSearchCV\n",
    "from sklearn.metrics import r2_score\n",
    "from bokeh.layouts import gridplot\n",
    "output_notebook()\n",
    "set_matplotlib_formats('png', 'pdf')\n",
    "%matplotlib inline\n",
    "plt.rcParams['figure.figsize'] = (6, 6)"
   ]
  },
  {
   "cell_type": "markdown",
   "metadata": {},
   "source": [
    "# Load data"
   ]
  },
  {
   "cell_type": "markdown",
   "metadata": {},
   "source": [
    "In the previous file we have not change the data as there is no missing value or add any new parameters so it can be downloaded from the web directly. "
   ]
  },
  {
   "cell_type": "code",
   "execution_count": 2,
   "metadata": {
    "collapsed": false
   },
   "outputs": [
    {
     "name": "stdout",
     "output_type": "stream",
     "text": [
      "Number of examples 398\n"
     ]
    }
   ],
   "source": [
    "url = 'http://archive.ics.uci.edu/ml/machine-learning-databases/auto-mpg/auto-mpg.data'\n",
    "names = ['mpg', 'cylinders', 'displacement', 'horsepower', 'weight', 'acceleration', 'year','origin','name']\n",
    "feature_names = ['mpg', 'cylinders', 'displacement', 'horsepower', 'weight', 'acceleration', 'year','origin']\n",
    "feature_cols = ['mpg', 'cylinders', 'displacement', 'horsepower', 'weight', 'acceleration', 'year','origin']\n",
    "data = pd.read_csv(url, sep='\\s+', names = names)\n",
    "data = data.drop('name',1)\n",
    "from sklearn import preprocessing\n",
    "\n",
    "def number_encode_features(df):\n",
    "    result = df.copy()\n",
    "    encoders = {}\n",
    "    for column in result.columns:\n",
    "        if result.dtypes[column] == np.object:\n",
    "            encoders[column] = preprocessing.LabelEncoder()\n",
    "            result[column] = encoders[column].fit_transform(result[column])\n",
    "    return result, encoders\n",
    "\n",
    "data, _ = number_encode_features(data)\n",
    "\n",
    "dataset = data.values\n",
    "X = dataset[:,1:8]\n",
    "Y = dataset[:,0]\n",
    "print 'Number of examples',len(X)"
   ]
  },
  {
   "cell_type": "code",
   "execution_count": 3,
   "metadata": {
    "collapsed": false
   },
   "outputs": [
    {
     "name": "stdout",
     "output_type": "stream",
     "text": [
      "Number of training examples 318\n",
      "Number of validation examples 80\n"
     ]
    }
   ],
   "source": [
    "# Make developement dataset for genrilization and final testing\n",
    "from sklearn.cross_validation import train_test_split\n",
    "# Extracting 20% testing data\n",
    "X_train, X_test, y_train, y_test = train_test_split(\n",
    "    X, Y, test_size=0.20, random_state=0)\n",
    "X = X_train\n",
    "Y = y_train\n",
    "new_data      = X_train\n",
    "new_test_data = X_test\n",
    "print 'Number of training examples',len(X_train)\n",
    "print 'Number of validation examples',len(X_test)"
   ]
  },
  {
   "cell_type": "markdown",
   "metadata": {},
   "source": [
    "Number of training data is very small so we need to use cross validation instead of spareate another validation data."
   ]
  },
  {
   "cell_type": "markdown",
   "metadata": {},
   "source": [
    "From the previous visulization the data has no missing value but has many outlier and some sparisty"
   ]
  },
  {
   "cell_type": "markdown",
   "metadata": {},
   "source": [
    "# Ranking of the feature's importance to the target"
   ]
  },
  {
   "cell_type": "code",
   "execution_count": 4,
   "metadata": {
    "collapsed": false
   },
   "outputs": [
    {
     "name": "stdout",
     "output_type": "stream",
     "text": [
      "mpg \t1.0\n",
      "cylinders \t0.637242089916\n",
      "displacement \t0.815077207897\n",
      "horsepower \t0.793267880581\n",
      "weight \t0.9630669809\n",
      "acceleration \t0.516023027818\n",
      "year \t0.428893949289\n",
      "origin \t0.332864469155\n"
     ]
    }
   ],
   "source": [
    "# Using just correlation coefficient even in prevoius file we show them using data frame\n",
    "for col in feature_cols:\n",
    "    lm = DecisionTreeRegressor()\n",
    "    lm.fit(data[[col]], data['mpg'])\n",
    "    print col,'\\t', lm.score(data[[col]], data['mpg'])"
   ]
  },
  {
   "cell_type": "code",
   "execution_count": 5,
   "metadata": {
    "collapsed": false
   },
   "outputs": [
    {
     "name": "stdout",
     "output_type": "stream",
     "text": [
      "Feature Name      Score         Pvalue\n",
      "mpg \t\t8.91712726219e+17 \t0.0\n",
      "cylinders \t\t597.077047852 \t4.50399224618e-81\n",
      "displacement \t\t724.994303368 \t1.65588891019e-91\n",
      "horsepower \t\t101.546001862 \t2.06258705842e-21\n",
      "weight \t\t888.850682648 \t2.97279956405e-103\n",
      "acceleration \t\t84.9577002497 \t1.82309153508e-18\n",
      "year \t\t199.98200802 \t4.84493581337e-37\n",
      "origin \t\t184.199639369 \t1.01148221023e-34\n"
     ]
    }
   ],
   "source": [
    "# Randing the important features to the target\n",
    "model = feature_selection.SelectKBest(score_func=feature_selection.f_regression,k=4)\n",
    "results = model.fit(data[feature_cols], data['mpg'])\n",
    "k=0\n",
    "print 'Feature Name      Score         Pvalue'\n",
    "for feat in feature_cols:\n",
    "    print feat,'\\t\\t',results.scores_[k],'\\t',results.pvalues_[k]\n",
    "    k=k+1\n"
   ]
  },
  {
   "cell_type": "markdown",
   "metadata": {},
   "source": [
    "# Set the parameters for cross validation"
   ]
  },
  {
   "cell_type": "code",
   "execution_count": 6,
   "metadata": {
    "collapsed": true
   },
   "outputs": [],
   "source": [
    "num_folds = 10\n",
    "num_instances = len(X)\n",
    "seed = 7\n",
    "kfold = cross_validation.KFold(n=num_instances, n_folds=num_folds, random_state=seed)"
   ]
  },
  {
   "cell_type": "markdown",
   "metadata": {},
   "source": [
    " # Set the parameters for bias-variance dilemma"
   ]
  },
  {
   "cell_type": "code",
   "execution_count": 7,
   "metadata": {
    "collapsed": false
   },
   "outputs": [],
   "source": [
    "def plot_learning_curve(estimator, title, X, y, ylim=None, cv=None,\n",
    "                        n_jobs=1, train_sizes=np.linspace(.1, 1.0, 5)):\n",
    "    plt.figure()\n",
    "    plt.title(title)\n",
    "    if ylim is not None:\n",
    "        plt.ylim(*ylim)\n",
    "    plt.xlabel(\"Training examples\")\n",
    "    plt.ylabel(\"Score\")\n",
    "    train_sizes, train_scores, test_scores = learning_curve(\n",
    "        estimator, X, y, cv=cv, n_jobs=n_jobs, train_sizes=train_sizes)\n",
    "    train_scores_mean = np.mean(train_scores, axis=1)\n",
    "    train_scores_std = np.std(train_scores, axis=1)\n",
    "    test_scores_mean = np.mean(test_scores, axis=1)\n",
    "    test_scores_std = np.std(test_scores, axis=1)\n",
    "    plt.grid()\n",
    "\n",
    "    plt.fill_between(train_sizes, train_scores_mean - train_scores_std,\n",
    "                     train_scores_mean + train_scores_std, alpha=0.1,\n",
    "                     color=\"r\")\n",
    "    plt.fill_between(train_sizes, test_scores_mean - test_scores_std,\n",
    "                     test_scores_mean + test_scores_std, alpha=0.1, color=\"g\")\n",
    "    plt.plot(train_sizes, train_scores_mean, 'o-', color=\"r\",\n",
    "             label=\"Training score\")\n",
    "    plt.plot(train_sizes, test_scores_mean, 'o-', color=\"g\",\n",
    "             label=\"Cross-validation score\")\n",
    "\n",
    "    plt.legend(loc=\"best\")\n",
    "    return plt"
   ]
  },
  {
   "cell_type": "markdown",
   "metadata": {},
   "source": [
    "# Preprocessing the data and save both the model and preprocessed data"
   ]
  },
  {
   "cell_type": "code",
   "execution_count": 8,
   "metadata": {
    "collapsed": true
   },
   "outputs": [],
   "source": [
    "# According to the nature of the data spasity and there is outliter RobustScaler class is recomandit \n",
    "# but when I tried both of them the result seems is same\n",
    "from sklearn.preprocessing import StandardScaler\n",
    "scaler = preprocessing.StandardScaler().fit(X_train)"
   ]
  },
  {
   "cell_type": "code",
   "execution_count": 9,
   "metadata": {
    "collapsed": true
   },
   "outputs": [],
   "source": [
    "X_train = scaler.transform(X_train)\n",
    "X_test = scaler.transform(X_test) # use same transform for testing data\n",
    "X = X_train"
   ]
  },
  {
   "cell_type": "code",
   "execution_count": 10,
   "metadata": {
    "collapsed": true
   },
   "outputs": [],
   "source": [
    "# save transformed data\n",
    "np.save('./data/X_train', X_train)\n",
    "np.save('./data/y_train', y_train)\n",
    "np.save('./data/X_test', X_test)\n",
    "np.save('./data/y_test', y_test)"
   ]
  },
  {
   "cell_type": "code",
   "execution_count": 11,
   "metadata": {
    "collapsed": false
   },
   "outputs": [
    {
     "data": {
      "text/plain": [
       "['scaler.pkl', 'scaler.pkl_01.npy', 'scaler.pkl_02.npy', 'scaler.pkl_03.npy']"
      ]
     },
     "execution_count": 11,
     "metadata": {},
     "output_type": "execute_result"
    }
   ],
   "source": [
    "# save the model scaler to the desk\n",
    "from sklearn.externals import joblib\n",
    "joblib.dump(scaler, 'scaler.pkl') "
   ]
  },
  {
   "cell_type": "code",
   "execution_count": 12,
   "metadata": {
    "collapsed": false
   },
   "outputs": [
    {
     "name": "stdout",
     "output_type": "stream",
     "text": [
      " =================================================================>>>>> done\n",
      "[[  1.49526939e+00   1.55114495e+00  -7.35914828e-01   1.38121932e+00\n",
      "   -9.80600673e-01  -1.13752513e+00  -7.33011713e-01]\n",
      " [ -8.52857354e-01  -5.04710772e-01   6.08839749e-01  -4.99341807e-01\n",
      "    5.02543270e-01  -5.89029314e-01  -7.33011713e-01]\n",
      " [  1.49526939e+00   1.07371874e+00  -9.71246879e-01   1.57674079e+00\n",
      "    1.31757284e-01  -1.13752513e+00  -7.33011713e-01]\n",
      " [ -8.52857354e-01  -6.99578613e-01   1.01226612e+00   1.84938650e-02\n",
      "    1.42950823e+00  -1.13752513e+00   5.06869802e-01]\n",
      " [  3.21206016e-01   3.91681296e-01  -1.71086190e+00   3.84652269e-01\n",
      "   -5.36357086e-02  -1.41177304e+00  -7.33011713e-01]\n",
      " [ -8.52857354e-01  -1.16726143e+00   4.40745427e-01  -1.60018698e+00\n",
      "    8.73329255e-01  -1.41177304e+00   1.74675132e+00]\n",
      " [ -8.52857354e-01  -1.03085394e+00   3.06269969e-01  -1.17122470e+00\n",
      "   -1.64871504e-01   7.82210231e-01   1.74675132e+00]\n",
      " [ -8.52857354e-01  -5.04710772e-01   1.11312272e+00  -6.58128946e-01\n",
      "    1.42950823e+00  -1.13752513e+00  -7.33011713e-01]\n",
      " [  1.49526939e+00   2.02857116e+00  -8.03152557e-01   9.45147172e-01\n",
      "   -2.27835162e+00  -1.68602095e+00  -7.33011713e-01]\n",
      " [  3.21206016e-01  -1.83178834e-01  -1.50914871e+00  -2.82490713e-01\n",
      "   -1.12891507e+00   1.33070605e+00  -7.33011713e-01]\n",
      " [ -8.52857354e-01  -1.04059733e+00   1.41569250e+00  -1.33712172e+00\n",
      "    6.13779065e-01   1.05645814e+00   5.06869802e-01]\n",
      " [ -8.52857354e-01  -1.03085394e+00   3.06269969e-01  -1.11908564e+00\n",
      "    2.80071678e-01   1.05645814e+00   1.74675132e+00]\n",
      " [  3.21206016e-01   5.67062353e-01   1.04588499e+00   6.82629684e-02\n",
      "    3.17150277e-01  -8.63277223e-01  -7.33011713e-01]\n",
      " [ -8.52857354e-01  -9.23676630e-01   7.09379184e-02  -8.40615659e-01\n",
      "    2.91265218e+00  -1.13752513e+00   5.06869802e-01]\n",
      " [  1.49526939e+00   1.22961301e+00  -9.04009151e-01   1.39425408e+00\n",
      "   -7.21050483e-01   2.33714413e-01  -7.33011713e-01]\n",
      " [ -8.52857354e-01  -9.13933237e-01   7.76934072e-01  -1.24232342e+00\n",
      "   -4.61500293e-01   7.82210231e-01  -7.33011713e-01]\n",
      " [ -8.52857354e-01  -7.09322005e-01   8.44171801e-01  -2.88415606e-01\n",
      "    1.39242964e+00   1.60495396e+00  -7.33011713e-01]\n",
      " [ -8.52857354e-01  -3.97533459e-01   1.11312272e+00  -2.70640927e-01\n",
      "    8.73329255e-01   1.60495396e+00  -7.33011713e-01]\n",
      " [  3.21206016e-01   3.23477552e-01  -1.61000530e+00   7.69770331e-01\n",
      "    3.17150277e-01  -5.89029314e-01  -7.33011713e-01]\n",
      " [ -8.52857354e-01  -9.82136982e-01   4.40745427e-01  -9.87553012e-01\n",
      "   -3.50264497e-01   7.82210231e-01   5.06869802e-01]\n",
      " [  1.49526939e+00   2.02857116e+00  -4.33345048e-01   1.61347513e+00\n",
      "   -1.27722946e+00   2.33714413e-01  -7.33011713e-01]\n",
      " [ -8.52857354e-01  -5.04710772e-01   7.09696343e-01  -4.40092874e-01\n",
      "    1.05872225e+00  -3.14781405e-01  -7.33011713e-01]\n",
      " [ -8.52857354e-01  -7.09322005e-01   1.34845477e+00  -4.95786871e-01\n",
      "    5.02543270e-01  -3.14781405e-01   1.74675132e+00]\n",
      " [ -8.52857354e-01  -6.89835221e-01  -1.47552985e+00  -3.60151531e-02\n",
      "   -4.24421694e-01  -1.13752513e+00   5.06869802e-01]\n",
      " [ -8.52857354e-01  -8.45729493e-01   4.74364292e-01  -9.63853439e-01\n",
      "   -2.76107300e-01   7.82210231e-01  -7.33011713e-01]\n",
      " [  3.21206016e-01  -2.31895795e-01  -1.37467325e+00  -7.51194487e-02\n",
      "   -1.12891507e+00   1.33070605e+00   1.74675132e+00]\n",
      " [ -8.52857354e-01  -9.13933237e-01   3.39888834e-01  -1.37859597e+00\n",
      "   -4.61500293e-01   5.07962322e-01  -7.33011713e-01]\n",
      " [ -8.52857354e-01  -7.77525749e-01   1.04588499e+00  -6.73533669e-01\n",
      "    8.73329255e-01   1.60495396e+00  -7.33011713e-01]\n",
      " [ -8.52857354e-01  -5.53427732e-01   9.11409529e-01  -6.85383455e-01\n",
      "   -1.01767927e+00   1.33070605e+00  -7.33011713e-01]\n",
      " [  3.21206016e-01   6.45009489e-01  -1.50914871e+00   7.92284926e-01\n",
      "    8.73329255e-01  -5.89029314e-01  -7.33011713e-01]\n",
      " [  3.21206016e-01   3.23477552e-01  -1.50914871e+00   7.78065182e-01\n",
      "    1.13287945e+00   5.07962322e-01  -7.33011713e-01]\n",
      " [ -8.52857354e-01  -7.09322005e-01   1.18036045e+00  -6.27319501e-01\n",
      "   -2.39028701e-01   1.05645814e+00   1.74675132e+00]\n",
      " [  3.21206016e-01   5.67062353e-01   5.41602021e-01   5.55289195e-01\n",
      "    1.98568721e+00  -3.14781405e-01  -7.33011713e-01]\n",
      " [ -8.52857354e-01  -1.04059733e+00   4.74364292e-01  -1.20677406e+00\n",
      "    4.28386073e-01   2.33714413e-01   1.74675132e+00]\n",
      " [  3.21206016e-01   3.81937904e-01  -1.50914871e+00   5.35144558e-01\n",
      "    5.76000871e-02   1.33070605e+00  -7.33011713e-01]\n",
      " [ -8.52857354e-01  -5.63171124e-01   1.31483590e+00  -3.09745222e-01\n",
      "   -7.95207680e-01  -3.14781405e-01   1.74675132e+00]\n",
      " [  3.21206016e-01   3.91681296e-01   1.11312272e+00   2.93408913e-01\n",
      "    5.02543270e-01  -3.14781405e-01  -7.33011713e-01]\n",
      " [  1.49526939e+00   1.54140156e+00  -7.02295964e-01   1.65494939e+00\n",
      "   -2.76107300e-01   7.82210231e-01  -7.33011713e-01]\n",
      " [ -8.52857354e-01  -1.00162377e+00   5.07983156e-01  -1.23047364e+00\n",
      "   -6.09814687e-01   7.82210231e-01   5.06869802e-01]\n",
      " [  1.49526939e+00   2.31112953e+00  -3.66107319e-01   2.35645675e+00\n",
      "   -1.53677965e+00  -8.63277223e-01  -7.33011713e-01]\n",
      " [  1.49526939e+00   2.55471433e+00  -1.98012997e-01   1.64783951e+00\n",
      "   -2.46374461e+00  -1.68602095e+00  -7.33011713e-01]\n",
      " [  1.49526939e+00   1.54140156e+00  -6.01439371e-01   8.64568624e-01\n",
      "   -1.53677965e+00  -1.68602095e+00  -7.33011713e-01]\n",
      " [ -8.52857354e-01  -6.89835221e-01   7.76934072e-01  -3.47664539e-01\n",
      "   -2.39028701e-01   7.82210231e-01  -7.33011713e-01]\n",
      " [ -1.43988904e+00  -1.18674821e+00  -1.71086190e+00  -6.43909203e-01\n",
      "   -1.16599367e+00   1.05645814e+00   1.74675132e+00]\n",
      " [ -8.52857354e-01  -4.65737204e-01   1.31483590e+00  -3.53589432e-01\n",
      "   -6.46893286e-01   1.60495396e+00   1.74675132e+00]\n",
      " [ -8.52857354e-01  -6.89835221e-01  -1.50914871e+00  -3.59514326e-01\n",
      "   -6.09814687e-01  -8.63277223e-01   5.06869802e-01]\n",
      " [  3.21206016e-01   3.91681296e-01   1.11312272e+00   1.44101602e-01\n",
      "    7.25014861e-01  -4.05334960e-02  -7.33011713e-01]\n",
      " [  1.49526939e+00   1.54140156e+00  -4.66963913e-01   1.67864896e+00\n",
      "   -1.31430806e+00  -4.05334960e-02  -7.33011713e-01]\n",
      " [  3.21206016e-01  -3.58559891e-01  -1.57638644e+00  -5.82290313e-01\n",
      "   -6.09814687e-01  -8.63277223e-01  -7.33011713e-01]\n",
      " [ -8.52857354e-01  -1.09905769e+00   3.73507698e-01  -1.18544445e+00\n",
      "   -5.36357086e-02  -5.89029314e-01   5.06869802e-01]\n",
      " [ -8.52857354e-01  -9.13933237e-01   6.42458614e-01  -9.70963311e-01\n",
      "   -3.50264497e-01   1.05645814e+00   5.06869802e-01]\n",
      " [ -8.52857354e-01  -9.13933237e-01   8.77790665e-01  -8.82089912e-01\n",
      "    3.17150277e-01  -5.89029314e-01   5.06869802e-01]\n",
      " [  1.49526939e+00   1.07371874e+00  -1.20657893e+00   1.57792577e+00\n",
      "   -2.76107300e-01   2.33714413e-01  -7.33011713e-01]\n",
      " [ -8.52857354e-01  -1.01136716e+00   6.42458614e-01  -1.06457662e+00\n",
      "   -4.24421694e-01  -1.41177304e+00   5.06869802e-01]\n",
      " [  1.49526939e+00   1.86293349e+00  -5.34201642e-01   7.10521399e-01\n",
      "   -2.09295863e+00  -1.68602095e+00  -7.33011713e-01]\n",
      " [  1.49526939e+00   1.12243570e+00  -3.32488455e-01   1.67390904e+00\n",
      "   -2.39028701e-01  -1.68602095e+00  -7.33011713e-01]\n",
      " [  3.21206016e-01   6.45009489e-01  -1.50914871e+00  -1.65077215e-03\n",
      "   -7.95207680e-01  -1.41177304e+00  -7.33011713e-01]\n",
      " [  3.21206016e-01   7.98927508e-02   1.04588499e+00   1.14477136e-01\n",
      "    5.39621868e-01   1.33070605e+00  -7.33011713e-01]\n",
      " [ -8.52857354e-01  -5.53427732e-01   9.11409529e-01  -7.03158135e-01\n",
      "   -9.80600673e-01   1.60495396e+00  -7.33011713e-01]\n",
      " [  1.49526939e+00   1.07371874e+00  -9.71246879e-01   5.75433832e-01\n",
      "   -1.90756564e+00  -1.68602095e+00  -7.33011713e-01]\n",
      " [  3.21206016e-01   5.67062353e-01   7.09696343e-01   7.23556164e-01\n",
      "    1.98568721e+00  -4.05334960e-02  -7.33011713e-01]\n",
      " [ -8.52857354e-01  -5.04710772e-01   5.41602021e-01  -4.72087298e-01\n",
      "   -7.58129081e-01  -4.05334960e-02  -7.33011713e-01]\n",
      " [  3.21206016e-01   3.91681296e-01  -1.71086190e+00  -2.06652079e-01\n",
      "   -2.39028701e-01  -8.63277223e-01  -7.33011713e-01]\n",
      " [  3.21206016e-01   6.04059667e-02   1.28121704e+00  -1.54513018e-01\n",
      "   -5.36357086e-02  -1.68602095e+00  -7.33011713e-01]\n",
      " [  1.49526939e+00   1.54140156e+00  -4.66963913e-01   1.81966142e+00\n",
      "   -1.16599367e+00  -8.63277223e-01  -7.33011713e-01]\n",
      " [  1.49526939e+00   1.55114495e+00  -8.70390286e-01   2.00688805e+00\n",
      "   -7.95207680e-01  -3.14781405e-01  -7.33011713e-01]\n",
      " [  1.49526939e+00   2.31112953e+00  -3.66107319e-01   1.63243479e+00\n",
      "   -2.09295863e+00  -1.68602095e+00  -7.33011713e-01]\n",
      " [  3.21206016e-01   5.67062353e-01  -1.61000530e+00   5.87283619e-01\n",
      "    1.31757284e-01  -3.14781405e-01  -7.33011713e-01]\n",
      " [ -8.52857354e-01  -5.04710772e-01   8.77790665e-01  -3.84398877e-01\n",
      "    5.02543270e-01  -3.14781405e-01  -7.33011713e-01]\n",
      " [  1.49526939e+00   2.41830684e+00  -2.31631862e-01   1.59807041e+00\n",
      "   -2.64913761e+00  -1.68602095e+00  -7.33011713e-01]\n",
      " [ -8.52857354e-01  -9.23676630e-01   3.73507698e-01  -1.06457662e+00\n",
      "    7.99172058e-01   1.33070605e+00   1.74675132e+00]\n",
      " [  1.49526939e+00   1.54140156e+00  -7.02295964e-01   1.82321635e+00\n",
      "   -7.95207680e-01  -1.13752513e+00  -7.33011713e-01]\n",
      " [ -8.52857354e-01  -7.97012533e-01   1.01226612e+00  -3.45294582e-01\n",
      "    6.87936263e-01  -1.68602095e+00   5.06869802e-01]\n",
      " [  3.21206016e-01   3.23477552e-01  -1.71086190e+00   8.14799520e-01\n",
      "    7.62093460e-01  -4.05334960e-02  -7.33011713e-01]\n",
      " [ -8.52857354e-01  -7.67782357e-01   1.28121704e+00  -7.00788178e-01\n",
      "   -2.39028701e-01  -1.68602095e+00   1.74675132e+00]\n",
      " [ -8.52857354e-01  -8.45729493e-01   6.08839749e-01  -8.69055147e-01\n",
      "   -4.24421694e-01   5.07962322e-01  -7.33011713e-01]\n",
      " [ -8.52857354e-01  -9.23676630e-01   6.08839749e-01  -8.27580894e-01\n",
      "    9.47486452e-01   2.33714413e-01   1.74675132e+00]\n",
      " [ -8.52857354e-01  -1.06008412e+00   1.71794512e-01  -1.13804530e+00\n",
      "    1.24411524e+00  -5.89029314e-01   1.74675132e+00]\n",
      " [ -8.52857354e-01  -9.13933237e-01   1.38175647e-01  -9.47263738e-01\n",
      "    2.39355180e+00  -4.05334960e-02  -7.33011713e-01]\n",
      " [  1.49526939e+00   1.54140156e+00  -4.66963913e-01   8.30204243e-01\n",
      "   -1.72217264e+00  -8.63277223e-01  -7.33011713e-01]]\n"
     ]
    }
   ],
   "source": [
    "# Test the model if it is work\n",
    "scalerTest = joblib.load('scaler.pkl')\n",
    "new_data_scaled = scalerTest.transform(new_test_data)\n",
    "print \" =================================================================>>>>> done\"\n",
    "print new_data_scaled"
   ]
  },
  {
   "cell_type": "markdown",
   "metadata": {},
   "source": [
    "# 1. DecisionTreeRegressor  with AdaBoost Regression"
   ]
  },
  {
   "cell_type": "markdown",
   "metadata": {},
   "source": [
    "Decision trees or the Classification and Regression Trees (CART as they are know) use the training data to select the best points to split the data in order to minimize a cost metric. The default cost metric for regression decision trees is the mean squared error, specified in the criterion parameter."
   ]
  },
  {
   "cell_type": "markdown",
   "metadata": {},
   "source": [
    "## Validation curve"
   ]
  },
  {
   "cell_type": "markdown",
   "metadata": {},
   "source": [
    "choosing multiple hyperparameters of an estimator "
   ]
  },
  {
   "cell_type": "code",
   "execution_count": 13,
   "metadata": {
    "collapsed": false
   },
   "outputs": [
    {
     "data": {
      "text/plain": [
       "['presort',\n",
       " 'splitter',\n",
       " 'max_leaf_nodes',\n",
       " 'min_samples_leaf',\n",
       " 'min_samples_split',\n",
       " 'min_weight_fraction_leaf',\n",
       " 'criterion',\n",
       " 'random_state',\n",
       " 'max_features',\n",
       " 'max_depth']"
      ]
     },
     "execution_count": 13,
     "metadata": {},
     "output_type": "execute_result"
    }
   ],
   "source": [
    "from sklearn.tree import DecisionTreeRegressor\n",
    "estimator = DecisionTreeRegressor()\n",
    "estimator.get_params().keys()"
   ]
  },
  {
   "cell_type": "code",
   "execution_count": 14,
   "metadata": {
    "collapsed": false
   },
   "outputs": [
    {
     "data": {
      "text/plain": [
       "['loss',\n",
       " 'base_estimator__min_samples_split',\n",
       " 'base_estimator__max_depth',\n",
       " 'learning_rate',\n",
       " 'base_estimator',\n",
       " 'base_estimator__criterion',\n",
       " 'base_estimator__max_features',\n",
       " 'base_estimator__random_state',\n",
       " 'n_estimators',\n",
       " 'base_estimator__min_weight_fraction_leaf',\n",
       " 'random_state',\n",
       " 'base_estimator__splitter',\n",
       " 'base_estimator__max_leaf_nodes',\n",
       " 'base_estimator__min_samples_leaf',\n",
       " 'base_estimator__presort']"
      ]
     },
     "execution_count": 14,
     "metadata": {},
     "output_type": "execute_result"
    }
   ],
   "source": [
    "from sklearn.tree import DecisionTreeRegressor\n",
    "from sklearn.ensemble import AdaBoostRegressor\n",
    "estimator = AdaBoostRegressor(DecisionTreeRegressor())\n",
    "estimator.get_params().keys()"
   ]
  },
  {
   "cell_type": "code",
   "execution_count": 15,
   "metadata": {
    "collapsed": false
   },
   "outputs": [
    {
     "data": {
      "image/png": "[encoded data removed]",
      "text/plain": [
       "<matplotlib.figure.Figure at 0x7f1191c492d0>"
      ]
     },
     "metadata": {},
     "output_type": "display_data"
    }
   ],
   "source": [
    "# For parametr alpha\n",
    "#param_range = np.logspace(-10.0, 10.0)\n",
    "#param_range = np.linspace(1,50,100)\n",
    "param_range = np.arange(1,50) # generate integer numbers\n",
    "\n",
    "train_scores, test_scores = validation_curve(\n",
    "    DecisionTreeRegressor(), X, Y, param_name=\"max_depth\", param_range=param_range,\n",
    "    cv=num_folds,  n_jobs=-1)\n",
    "train_scores_mean = np.mean(train_scores, axis=1)\n",
    "train_scores_std = np.std(train_scores, axis=1)\n",
    "test_scores_mean = np.mean(test_scores, axis=1)\n",
    "test_scores_std = np.std(test_scores, axis=1)\n",
    "\n",
    "plt.title(\"Validation Curve with DecisionTreeRegressor\")\n",
    "plt.xlabel(\"max_depth\")\n",
    "plt.ylabel(\"Score\")\n",
    "plt.ylim(0.4, 1.0)\n",
    "plt.plot(param_range, train_scores_mean, label=\"Training score\", color=\"r\")\n",
    "plt.fill_between(param_range, train_scores_mean - train_scores_std,\n",
    "                 train_scores_mean + train_scores_std, alpha=0.2, color=\"r\")\n",
    "plt.plot(param_range, test_scores_mean, label=\"Cross-validation score\",\n",
    "             color=\"g\")\n",
    "plt.fill_between(param_range, test_scores_mean - test_scores_std,\n",
    "                 test_scores_mean + test_scores_std, alpha=0.2, color=\"g\")\n",
    "plt.legend(loc=\"best\")\n",
    "plt.show()"
   ]
  },
  {
   "cell_type": "markdown",
   "metadata": {},
   "source": [
    "more that 5 is the best of number of K"
   ]
  },
  {
   "cell_type": "code",
   "execution_count": 16,
   "metadata": {
    "collapsed": false
   },
   "outputs": [
    {
     "data": {
      "image/png": "[encoded data removed]",
      "text/plain": [
       "<matplotlib.figure.Figure at 0x7f118aa30fd0>"
      ]
     },
     "metadata": {},
     "output_type": "display_data"
    }
   ],
   "source": [
    "# For parametr alpha\n",
    "#param_range = np.logspace(-10.0, 10.0)\n",
    "#param_range = np.linspace(1,50,100)\n",
    "param_range = np.arange(1,10) # generate integer numbers\n",
    "\n",
    "train_scores, test_scores = validation_curve(\n",
    "    DecisionTreeRegressor(), X, Y, param_name=\"min_samples_split\", param_range=param_range,\n",
    "    cv=num_folds,  n_jobs=-1)\n",
    "train_scores_mean = np.mean(train_scores, axis=1)\n",
    "train_scores_std = np.std(train_scores, axis=1)\n",
    "test_scores_mean = np.mean(test_scores, axis=1)\n",
    "test_scores_std = np.std(test_scores, axis=1)\n",
    "\n",
    "plt.title(\"Validation Curve with DecisionTreeRegressor\")\n",
    "plt.xlabel(\"min_samples_split\")\n",
    "plt.ylabel(\"Score\")\n",
    "plt.ylim(0.4, 1.0)\n",
    "plt.plot(param_range, train_scores_mean, label=\"Training score\", color=\"r\")\n",
    "plt.fill_between(param_range, train_scores_mean - train_scores_std,\n",
    "                 train_scores_mean + train_scores_std, alpha=0.2, color=\"r\")\n",
    "plt.plot(param_range, test_scores_mean, label=\"Cross-validation score\",\n",
    "             color=\"g\")\n",
    "plt.fill_between(param_range, test_scores_mean - test_scores_std,\n",
    "                 test_scores_mean + test_scores_std, alpha=0.2, color=\"g\")\n",
    "plt.legend(loc=\"best\")\n",
    "plt.show()"
   ]
  },
  {
   "cell_type": "markdown",
   "metadata": {},
   "source": [
    "min_samples_split =2 (The defualt) is the best"
   ]
  },
  {
   "cell_type": "code",
   "execution_count": 17,
   "metadata": {
    "collapsed": false
   },
   "outputs": [
    {
     "data": {
      "image/png": "[encoded data removed]",
      "text/plain": [
       "<matplotlib.figure.Figure at 0x7f118c355990>"
      ]
     },
     "metadata": {},
     "output_type": "display_data"
    }
   ],
   "source": [
    "# For parametr alpha\n",
    "#param_range = np.logspace(-10.0, 10.0)\n",
    "#param_range = np.linspace(1,50,100)\n",
    "param_range = np.arange(1,10) # generate integer numbers\n",
    "\n",
    "train_scores, test_scores = validation_curve(\n",
    "    DecisionTreeRegressor(), X, Y, param_name=\"min_samples_leaf\", param_range=param_range,\n",
    "    cv=num_folds,  n_jobs=-1)\n",
    "train_scores_mean = np.mean(train_scores, axis=1)\n",
    "train_scores_std = np.std(train_scores, axis=1)\n",
    "test_scores_mean = np.mean(test_scores, axis=1)\n",
    "test_scores_std = np.std(test_scores, axis=1)\n",
    "\n",
    "plt.title(\"Validation Curve with DecisionTreeRegressor\")\n",
    "plt.xlabel(\"min_samples_leaf\")\n",
    "plt.ylabel(\"Score\")\n",
    "plt.ylim(0.4, 1.0)\n",
    "plt.plot(param_range, train_scores_mean, label=\"Training score\", color=\"r\")\n",
    "plt.fill_between(param_range, train_scores_mean - train_scores_std,\n",
    "                 train_scores_mean + train_scores_std, alpha=0.2, color=\"r\")\n",
    "plt.plot(param_range, test_scores_mean, label=\"Cross-validation score\",\n",
    "             color=\"g\")\n",
    "plt.fill_between(param_range, test_scores_mean - test_scores_std,\n",
    "                 test_scores_mean + test_scores_std, alpha=0.2, color=\"g\")\n",
    "plt.legend(loc=\"best\")\n",
    "plt.show()"
   ]
  },
  {
   "cell_type": "markdown",
   "metadata": {},
   "source": [
    "min_samples_leaf = 2 is the best"
   ]
  },
  {
   "cell_type": "markdown",
   "metadata": {},
   "source": [
    "## Grid search and/or Random search to determine best compination of parameters"
   ]
  },
  {
   "cell_type": "code",
   "execution_count": 18,
   "metadata": {
    "collapsed": false
   },
   "outputs": [
    {
     "name": "stdout",
     "output_type": "stream",
     "text": [
      "Hyperparameter optimization using GridSearchCV...\n",
      "Parameters with rank: 1\n",
      "Mean validation score: 0.8184 (std: 0.0688)\n",
      "Parameters: {'n_estimators': 8, 'loss': 'exponential'}\n",
      "\n",
      "Parameters with rank: 2\n",
      "Mean validation score: 0.8145 (std: 0.0758)\n",
      "Parameters: {'n_estimators': 7, 'loss': 'exponential'}\n",
      "\n",
      "Parameters with rank: 3\n",
      "Mean validation score: 0.8134 (std: 0.0638)\n",
      "Parameters: {'n_estimators': 5, 'loss': 'exponential'}\n",
      "\n",
      "Parameters with rank: 4\n",
      "Mean validation score: 0.8130 (std: 0.0693)\n",
      "Parameters: {'n_estimators': 8, 'loss': 'square'}\n",
      "\n",
      "Parameters with rank: 5\n",
      "Mean validation score: 0.8089 (std: 0.0718)\n",
      "Parameters: {'n_estimators': 9, 'loss': 'exponential'}\n",
      "\n",
      "+++++++++++++++++++++++++++++++++++++++++++++++\n",
      "Hyperparameter optimization using RandomizedSearchCV\n",
      "Parameters with rank: 1\n",
      "Mean validation score: 0.8306 (std: 0.0517)\n",
      "Parameters: {'n_estimators': 300, 'loss': 'square'}\n",
      "\n",
      "Parameters with rank: 2\n",
      "Mean validation score: 0.8280 (std: 0.0487)\n",
      "Parameters: {'n_estimators': 10, 'loss': 'square'}\n",
      "\n",
      "Parameters with rank: 3\n",
      "Mean validation score: 0.8250 (std: 0.0530)\n",
      "Parameters: {'n_estimators': 100, 'loss': 'square'}\n",
      "\n",
      "Parameters with rank: 4\n",
      "Mean validation score: 0.8124 (std: 0.0686)\n",
      "Parameters: {'n_estimators': 20, 'loss': 'exponential'}\n",
      "\n",
      "Parameters with rank: 5\n",
      "Mean validation score: 0.6815 (std: 0.1311)\n",
      "Parameters: {'n_estimators': 1, 'loss': 'linear'}\n",
      "\n"
     ]
    }
   ],
   "source": [
    "# Utility function to report optimal parameters\n",
    "from operator import itemgetter\n",
    "def report(grid_scores, n_top=5):\n",
    "    params = None\n",
    "    top_scores = sorted(grid_scores, key=itemgetter(1), reverse=True)[:n_top]\n",
    "    for i, score in enumerate(top_scores):\n",
    "        print(\"Parameters with rank: {0}\".format(i + 1))\n",
    "        print(\"Mean validation score: {0:.4f} (std: {1:.4f})\".format(\n",
    "              score.mean_validation_score, np.std(score.cv_validation_scores)))\n",
    "        print(\"Parameters: {0}\".format(score.parameters))\n",
    "        print(\"\")\n",
    "        \n",
    "        if params == None:\n",
    "            params = score.parameters\n",
    "    \n",
    "    return params\n",
    "\n",
    "# The most common value for the max number of features to look at in each split is sqrt(# of features)\n",
    "sqrtfeat = np.sqrt(X.shape[1]) \n",
    "grid_test1 = { \"n_estimators\"      : np.arange(1,10),\n",
    "             \"loss\"      : [ \"linear\", \"square\", \"exponential\"]}\n",
    "\n",
    "# Large randomized test using max_depth to control tree size (5000 possible combinations)\n",
    "random_test1 = { \"n_estimators\"      : [1,10,20,100,200, 300, 400, 500],\n",
    "                \"loss\"      : [ \"linear\", \"square\", \"exponential\"]}\n",
    "\n",
    "\n",
    "forest = AdaBoostRegressor()\n",
    "\n",
    "print \"Hyperparameter optimization using GridSearchCV...\"\n",
    "grid_search = GridSearchCV(forest, grid_test1, n_jobs=-1, cv=num_folds)\n",
    "grid_search.fit(X, Y)\n",
    "best_params_from_grid_search = report(grid_search.grid_scores_)\n",
    "print '+++++++++++++++++++++++++++++++++++++++++++++++'\n",
    "print \"Hyperparameter optimization using RandomizedSearchCV\"\n",
    "grid_search = RandomizedSearchCV(forest, random_test1, n_jobs=-1, cv=num_folds, n_iter=5)\n",
    "grid_search.fit(X, Y)\n",
    "best_params_from_rand_search1 = report(grid_search.grid_scores_)"
   ]
  },
  {
   "cell_type": "markdown",
   "metadata": {},
   "source": [
    "Best parameters Parameters: Parameters: {'max_features': None, 'max_depth': 19, 'min_samples_leaf': 1}\n"
   ]
  },
  {
   "cell_type": "markdown",
   "metadata": {},
   "source": [
    "## Learning Curve "
   ]
  },
  {
   "cell_type": "markdown",
   "metadata": {},
   "source": [
    "In essence, what we’re doing it training the exact same model with increasingly large fractions of our total training data, and plotting the error of the training and test sets at each step."
   ]
  },
  {
   "cell_type": "code",
   "execution_count": 19,
   "metadata": {
    "collapsed": false
   },
   "outputs": [
    {
     "data": {
      "image/png": "[encoded data removed]",
      "text/plain": [
       "<matplotlib.figure.Figure at 0x7f118aad6250>"
      ]
     },
     "metadata": {},
     "output_type": "display_data"
    }
   ],
   "source": [
    "from sklearn.tree import DecisionTreeRegressor\n",
    "model = AdaBoostRegressor(n_estimators = 5, loss = \"exponential\")\n",
    "title = \"Learning Curves (Ada DecisionTreeRegressor Refression)\"\n",
    "cv = cross_validation.ShuffleSplit(X.shape[0], n_iter=100,\n",
    "                                   test_size=0.2, random_state=0)\n",
    "plot_learning_curve(model, title, X, Y, ylim=(0.2, 1.01), cv=cv, n_jobs=-1)\n",
    "plt.show()"
   ]
  },
  {
   "cell_type": "code",
   "execution_count": 20,
   "metadata": {
    "collapsed": false
   },
   "outputs": [
    {
     "name": "stdout",
     "output_type": "stream",
     "text": [
      "train_sizes =  [ 50  80 110]\n",
      " training scores\n",
      " 50 training sizees\n",
      "0.942749849444 ± 0.0187667463136\n",
      " 80 training sizees\n",
      "0.920024837265 ± 0.0187632590723\n",
      " 110 training sizees\n",
      "0.907728548629 ± 0.0183901637775\n",
      "\n",
      " validation scores\n",
      " 50 validation scores\n",
      "0.718178972791 ± 0.0875175755714\n",
      " 80 validation scores\n",
      "0.755060690431 ± 0.0841227149468\n",
      " 110 validation scores\n",
      "0.77405059127 ± 0.072420472762\n"
     ]
    }
   ],
   "source": [
    "# More data from learning curve to show the process of building the model\n",
    "train_sizes, train_scores, valid_scores = learning_curve(\n",
    "     model, X, Y, train_sizes=[50, 80, 110], cv=cv, n_jobs=4)\n",
    "\n",
    "print 'train_sizes = ', train_sizes\n",
    "\n",
    "print ' training scores'\n",
    "print ' 50 training sizees'\n",
    "print train_scores[0].mean(),'±',train_scores[0].std()\n",
    "print ' 80 training sizees'\n",
    "print train_scores[1].mean(),'±',train_scores[1].std()\n",
    "print ' 110 training sizees'\n",
    "print train_scores[2].mean(),'±',train_scores[2].std()\n",
    "\n",
    "print '\\n validation scores'\n",
    "print ' 50 validation scores'\n",
    "print valid_scores[0].mean(),'±',valid_scores[0].std()\n",
    "print ' 80 validation scores'\n",
    "print valid_scores[1].mean(),'±',valid_scores[1].std()\n",
    "print ' 110 validation scores'\n",
    "print valid_scores[2].mean(),'±',valid_scores[2].std()"
   ]
  },
  {
   "cell_type": "markdown",
   "metadata": {},
   "source": [
    "## Cross validation"
   ]
  },
  {
   "cell_type": "code",
   "execution_count": 21,
   "metadata": {
    "collapsed": false
   },
   "outputs": [
    {
     "name": "stdout",
     "output_type": "stream",
     "text": [
      "Scoring according to mean_squared_error\n",
      "[-11.9499033  -20.53040047 -15.61373656 -19.92201996 -10.4570407\n",
      "  -7.03878462 -10.52626019  -7.51712722 -11.74675804  -6.16474338]\n",
      "\n",
      " Mean      Standard deviation\n",
      "-12.15      4.81\n"
     ]
    },
    {
     "data": {
      "text/plain": [
       "AdaBoostRegressor(base_estimator=None, learning_rate=1.0, loss='exponential',\n",
       "         n_estimators=5, random_state=None)"
      ]
     },
     "execution_count": 21,
     "metadata": {},
     "output_type": "execute_result"
    }
   ],
   "source": [
    "scoring = 'mean_squared_error'\n",
    "results = cross_validation.cross_val_score(model, X, Y, cv=kfold, scoring=scoring)\n",
    "print 'Scoring according to mean_squared_error'\n",
    "print results\n",
    "print '\\n Mean      Standard deviation'\n",
    "print(\"%.2f      %.2f\" % (results.mean(), results.std()))\n",
    "## Fit the model\n",
    "model.fit(X,Y)\n"
   ]
  },
  {
   "cell_type": "markdown",
   "metadata": {},
   "source": [
    "## Coefficients Of Determination {Calculating R^2}\n",
    "\n",
    "R^2, Close to one is better"
   ]
  },
  {
   "cell_type": "code",
   "execution_count": 22,
   "metadata": {
    "collapsed": false
   },
   "outputs": [
    {
     "name": "stdout",
     "output_type": "stream",
     "text": [
      "R-squared =  0.810425833513\n"
     ]
    }
   ],
   "source": [
    "predicted = cross_val_predict(model, X, Y, cv=kfold)\n",
    "r_squared = r2_score(Y, predicted, multioutput='variance_weighted')\n",
    "print 'R-squared = ',r_squared"
   ]
  },
  {
   "cell_type": "markdown",
   "metadata": {},
   "source": [
    "## Residual Plot"
   ]
  },
  {
   "cell_type": "code",
   "execution_count": 23,
   "metadata": {
    "collapsed": false
   },
   "outputs": [
    {
     "data": {
      "image/png": "[encoded data removed]",
      "text/plain": [
       "<matplotlib.figure.Figure at 0x7f118aa61710>"
      ]
     },
     "metadata": {},
     "output_type": "display_data"
    }
   ],
   "source": [
    "predicted = cross_val_predict(model, X, Y, cv=kfold)\n",
    "fig, ax = plt.subplots()\n",
    "ax.scatter(Y, predicted)\n",
    "ax.plot([Y.min(), Y.max()], [Y.min(), Y.max()], 'k--', lw=4)\n",
    "ax.set_xlabel('Measured')\n",
    "ax.set_ylabel('Predicted')\n",
    "plt.show()"
   ]
  },
  {
   "cell_type": "code",
   "execution_count": 24,
   "metadata": {
    "collapsed": false
   },
   "outputs": [
    {
     "data": {
      "text/html": [
       "\n",
       "\n",
       "    <div class=\"bk-root\">\n",
       "        <div class=\"plotdiv\" id=\"d6704f3b-8eae-444d-a9b6-ad15f73cec51\"></div>\n",
       "    </div>\n",
       "<script type=\"text/javascript\">\n",
       "  \n",
       "  (function(global) {\n",
       "    function now() {\n",
       "      return new Date();\n",
       "    }\n",
       "  \n",
       "    var force = \"\";\n",
       "  \n",
       "    if (typeof (window._bokeh_onload_callbacks) === \"undefined\" || force !== \"\") {\n",
       "      window._bokeh_onload_callbacks = [];\n",
       "      window._bokeh_is_loading = undefined;\n",
       "    }\n",
       "  \n",
       "  \n",
       "    \n",
       "    if (typeof (window._bokeh_timeout) === \"undefined\" || force !== \"\") {\n",
       "      window._bokeh_timeout = Date.now() + 0;\n",
       "      window._bokeh_failed_load = false;\n",
       "    }\n",
       "  \n",
       "    var NB_LOAD_WARNING = {'data': {'text/html':\n",
       "       \"<div style='background-color: #fdd'>\\n\"+\n",
       "       \"<p>\\n\"+\n",
       "       \"BokehJS does not appear to have successfully loaded. If loading BokehJS from CDN, this \\n\"+\n",
       "       \"may be due to a slow or bad network connection. Possible fixes:\\n\"+\n",
       "       \"</p>\\n\"+\n",
       "       \"<ul>\\n\"+\n",
       "       \"<li>re-rerun `output_notebook()` to attempt to load from CDN again, or</li>\\n\"+\n",
       "       \"<li>use INLINE resources instead, as so:</li>\\n\"+\n",
       "       \"</ul>\\n\"+\n",
       "       \"<code>\\n\"+\n",
       "       \"from bokeh.resources import INLINE\\n\"+\n",
       "       \"output_notebook(resources=INLINE)\\n\"+\n",
       "       \"</code>\\n\"+\n",
       "       \"</div>\"}};\n",
       "  \n",
       "    function display_loaded() {\n",
       "      if (window.Bokeh !== undefined) {\n",
       "        Bokeh.$(\"#d6704f3b-8eae-444d-a9b6-ad15f73cec51\").text(\"BokehJS successfully loaded.\");\n",
       "      } else if (Date.now() < window._bokeh_timeout) {\n",
       "        setTimeout(display_loaded, 100)\n",
       "      }\n",
       "    }\n",
       "  \n",
       "    function run_callbacks() {\n",
       "      window._bokeh_onload_callbacks.forEach(function(callback) { callback() });\n",
       "      delete window._bokeh_onload_callbacks\n",
       "      console.info(\"Bokeh: all callbacks have finished\");\n",
       "    }\n",
       "  \n",
       "    function load_libs(js_urls, callback) {\n",
       "      window._bokeh_onload_callbacks.push(callback);\n",
       "      if (window._bokeh_is_loading > 0) {\n",
       "        console.log(\"Bokeh: BokehJS is being loaded, scheduling callback at\", now());\n",
       "        return null;\n",
       "      }\n",
       "      if (js_urls == null || js_urls.length === 0) {\n",
       "        run_callbacks();\n",
       "        return null;\n",
       "      }\n",
       "      console.log(\"Bokeh: BokehJS not loaded, scheduling load and callback at\", now());\n",
       "      window._bokeh_is_loading = js_urls.length;\n",
       "      for (var i = 0; i < js_urls.length; i++) {\n",
       "        var url = js_urls[i];\n",
       "        var s = document.createElement('script');\n",
       "        s.src = url;\n",
       "        s.async = false;\n",
       "        s.onreadystatechange = s.onload = function() {\n",
       "          window._bokeh_is_loading--;\n",
       "          if (window._bokeh_is_loading === 0) {\n",
       "            console.log(\"Bokeh: all BokehJS libraries loaded\");\n",
       "            run_callbacks()\n",
       "          }\n",
       "        };\n",
       "        s.onerror = function() {\n",
       "          console.warn(\"failed to load library \" + url);\n",
       "        };\n",
       "        console.log(\"Bokeh: injecting script tag for BokehJS library: \", url);\n",
       "        document.getElementsByTagName(\"head\")[0].appendChild(s);\n",
       "      }\n",
       "    };var element = document.getElementById(\"d6704f3b-8eae-444d-a9b6-ad15f73cec51\");\n",
       "    if (element == null) {\n",
       "      console.log(\"Bokeh: ERROR: autoload.js configured with elementid 'd6704f3b-8eae-444d-a9b6-ad15f73cec51' but no matching script tag was found. \")\n",
       "      return false;\n",
       "    }\n",
       "  \n",
       "    var js_urls = [];\n",
       "  \n",
       "    var inline_js = [\n",
       "      function(Bokeh) {\n",
       "        Bokeh.$(function() {\n",
       "            var docs_json = {\"ac651051-06f6-49f0-92c9-0320be05378c\":{\"roots\":{\"references\":[{\"attributes\":{\"callback\":null,\"overlay\":{\"id\":\"fbefcc9d-774f-4c45-a4e9-28aa0ca512b7\",\"type\":\"PolyAnnotation\"},\"plot\":{\"id\":\"d239a284-86d3-4bfe-831d-3cf157384310\",\"subtype\":\"Figure\",\"type\":\"Plot\"}},\"id\":\"b771128b-7a43-4b36-836b-c9fe8ad63ae0\",\"type\":\"LassoSelectTool\"},{\"attributes\":{\"active_drag\":\"auto\",\"active_scroll\":\"auto\",\"active_tap\":\"auto\",\"tools\":[{\"id\":\"619f8955-419a-44c6-b925-8b4ba6fad935\",\"type\":\"BoxZoomTool\"},{\"id\":\"391dcbdf-ec85-427b-9458-efdd9e8cf7b4\",\"type\":\"BoxSelectTool\"},{\"id\":\"1a7a5114-db1d-47f0-abfc-c0e8d35e4460\",\"type\":\"CrosshairTool\"},{\"id\":\"0c78e503-ac53-4805-82b0-09e8ca9e118a\",\"type\":\"ResizeTool\"},{\"id\":\"31e1d0a8-b37c-459b-86fe-8dd55dae97ca\",\"type\":\"ResetTool\"},{\"id\":\"b771128b-7a43-4b36-836b-c9fe8ad63ae0\",\"type\":\"LassoSelectTool\"},{\"id\":\"2dc20488-d6c5-437c-b6db-4543c5e34dc4\",\"type\":\"PanTool\"},{\"id\":\"38daa783-80b2-4ac9-b70a-e5f9ea583244\",\"type\":\"SaveTool\"},{\"id\":\"6887cd42-b071-41c2-bc33-4c19ffb967ac\",\"type\":\"PolySelectTool\"},{\"id\":\"09d390be-02b3-4dca-9a88-89a1c6501d6f\",\"type\":\"TapTool\"},{\"id\":\"ba065496-616d-4aff-a231-910e6960ed1b\",\"type\":\"WheelZoomTool\"},{\"id\":\"d2c4a3d7-9eeb-4014-bbdb-58daf8329e9f\",\"type\":\"UndoTool\"}]},\"id\":\"8de267d0-5374-428d-8313-08d55ddb1d4c\",\"type\":\"Toolbar\"},{\"attributes\":{\"fill_alpha\":{\"value\":0.1},\"fill_color\":{\"value\":\"#1f77b4\"},\"line_alpha\":{\"value\":0.1},\"line_color\":{\"value\":\"#1f77b4\"},\"line_width\":{\"value\":3},\"x\":{\"field\":\"x\"},\"y\":{\"field\":\"y\"}},\"id\":\"7a15301b-a668-4091-a618-005e182922ca\",\"type\":\"Circle\"},{\"attributes\":{\"bottom_units\":\"screen\",\"fill_alpha\":{\"value\":0.5},\"fill_color\":{\"value\":\"lightgrey\"},\"left_units\":\"screen\",\"level\":\"overlay\",\"line_alpha\":{\"value\":1.0},\"line_color\":{\"value\":\"black\"},\"line_dash\":[4,4],\"line_width\":{\"value\":2},\"plot\":null,\"render_mode\":\"css\",\"right_units\":\"screen\",\"top_units\":\"screen\"},\"id\":\"9d94e3a0-e143-4ea5-bbb2-edfcc026c2f4\",\"type\":\"BoxAnnotation\"},{\"attributes\":{\"dimension\":1,\"plot\":{\"id\":\"d239a284-86d3-4bfe-831d-3cf157384310\",\"subtype\":\"Figure\",\"type\":\"Plot\"},\"ticker\":{\"id\":\"11de6dd0-5853-4594-bee8-1e783fb92d15\",\"type\":\"BasicTicker\"}},\"id\":\"32bc6bb0-3b28-47ee-ac35-8beb54065f8c\",\"type\":\"Grid\"},{\"attributes\":{\"data_source\":{\"id\":\"cf90e47d-831c-4743-ab8f-e1acfa13ec4d\",\"type\":\"ColumnDataSource\"},\"glyph\":{\"id\":\"097a6d6d-0603-4987-827a-96df0d8274b3\",\"type\":\"Circle\"},\"hover_glyph\":null,\"nonselection_glyph\":{\"id\":\"7a15301b-a668-4091-a618-005e182922ca\",\"type\":\"Circle\"},\"selection_glyph\":null},\"id\":\"893891da-6334-40d5-954c-44c03693b33c\",\"type\":\"GlyphRenderer\"},{\"attributes\":{},\"id\":\"9003258f-677e-4d4d-bcab-158d686de9f7\",\"type\":\"BasicTickFormatter\"},{\"attributes\":{\"align\":\"center\",\"plot\":null,\"text\":null},\"id\":\"fabba1d7-1a19-43a6-a8f7-5d40a470e68c\",\"type\":\"Title\"},{\"attributes\":{\"callback\":null,\"plot\":{\"id\":\"d239a284-86d3-4bfe-831d-3cf157384310\",\"subtype\":\"Figure\",\"type\":\"Plot\"}},\"id\":\"09d390be-02b3-4dca-9a88-89a1c6501d6f\",\"type\":\"TapTool\"},{\"attributes\":{\"plot\":{\"id\":\"d239a284-86d3-4bfe-831d-3cf157384310\",\"subtype\":\"Figure\",\"type\":\"Plot\"}},\"id\":\"31e1d0a8-b37c-459b-86fe-8dd55dae97ca\",\"type\":\"ResetTool\"},{\"attributes\":{\"plot\":{\"id\":\"d239a284-86d3-4bfe-831d-3cf157384310\",\"subtype\":\"Figure\",\"type\":\"Plot\"}},\"id\":\"ba065496-616d-4aff-a231-910e6960ed1b\",\"type\":\"WheelZoomTool\"},{\"attributes\":{},\"id\":\"11de6dd0-5853-4594-bee8-1e783fb92d15\",\"type\":\"BasicTicker\"},{\"attributes\":{\"overlay\":{\"id\":\"9d94e3a0-e143-4ea5-bbb2-edfcc026c2f4\",\"type\":\"BoxAnnotation\"},\"plot\":{\"id\":\"d239a284-86d3-4bfe-831d-3cf157384310\",\"subtype\":\"Figure\",\"type\":\"Plot\"}},\"id\":\"619f8955-419a-44c6-b925-8b4ba6fad935\",\"type\":\"BoxZoomTool\"},{\"attributes\":{\"plot\":{\"id\":\"d239a284-86d3-4bfe-831d-3cf157384310\",\"subtype\":\"Figure\",\"type\":\"Plot\"}},\"id\":\"d2c4a3d7-9eeb-4014-bbdb-58daf8329e9f\",\"type\":\"UndoTool\"},{\"attributes\":{\"bottom_units\":\"screen\",\"fill_alpha\":{\"value\":0.5},\"fill_color\":{\"value\":\"lightgrey\"},\"left_units\":\"screen\",\"level\":\"overlay\",\"line_alpha\":{\"value\":1.0},\"line_color\":{\"value\":\"black\"},\"line_dash\":[4,4],\"line_width\":{\"value\":2},\"plot\":null,\"render_mode\":\"css\",\"right_units\":\"screen\",\"top_units\":\"screen\"},\"id\":\"1fc54b85-3b1c-40a7-bf4e-bf296f7227f1\",\"type\":\"BoxAnnotation\"},{\"attributes\":{\"fill_color\":{\"value\":\"#80B1D3\"},\"line_color\":{\"value\":\"#80B1D3\"},\"line_width\":{\"value\":3},\"x\":{\"field\":\"x\"},\"y\":{\"field\":\"y\"}},\"id\":\"097a6d6d-0603-4987-827a-96df0d8274b3\",\"type\":\"Circle\"},{\"attributes\":{\"data_source\":{\"id\":\"739f4150-7dc0-45d7-893e-544f1d830462\",\"type\":\"ColumnDataSource\"},\"glyph\":{\"id\":\"c307b37d-a62f-4803-960e-575e1bd38549\",\"type\":\"Line\"},\"hover_glyph\":null,\"nonselection_glyph\":{\"id\":\"3dc6fd4c-c6e1-4312-ae88-4fc3a919ce35\",\"type\":\"Line\"},\"selection_glyph\":null},\"id\":\"709f4cab-0f58-4b15-a55b-25d7f754ab6e\",\"type\":\"GlyphRenderer\"},{\"attributes\":{},\"id\":\"3ecdbfaf-8599-4ff5-8990-aa12257890c4\",\"type\":\"ToolEvents\"},{\"attributes\":{\"callback\":null},\"id\":\"e4378d40-48cc-4742-aa5b-2d4b402b6aa6\",\"type\":\"DataRange1d\"},{\"attributes\":{\"callback\":null},\"id\":\"dc2e0f35-b313-4689-b6e2-8e0f4353e3ed\",\"type\":\"DataRange1d\"},{\"attributes\":{\"plot\":{\"id\":\"d239a284-86d3-4bfe-831d-3cf157384310\",\"subtype\":\"Figure\",\"type\":\"Plot\"}},\"id\":\"1a7a5114-db1d-47f0-abfc-c0e8d35e4460\",\"type\":\"CrosshairTool\"},{\"attributes\":{\"plot\":{\"id\":\"d239a284-86d3-4bfe-831d-3cf157384310\",\"subtype\":\"Figure\",\"type\":\"Plot\"}},\"id\":\"2dc20488-d6c5-437c-b6db-4543c5e34dc4\",\"type\":\"PanTool\"},{\"attributes\":{\"fill_alpha\":{\"value\":0.5},\"fill_color\":{\"value\":\"lightgrey\"},\"level\":\"overlay\",\"line_alpha\":{\"value\":1.0},\"line_color\":{\"value\":\"black\"},\"line_dash\":[4,4],\"line_width\":{\"value\":2},\"plot\":null,\"xs_units\":\"screen\",\"ys_units\":\"screen\"},\"id\":\"8a16eee6-37e0-4764-8f19-add6a310fa55\",\"type\":\"PolyAnnotation\"},{\"attributes\":{\"axis_label\":\"Predicted\",\"axis_label_text_color\":{\"value\":\"#aa6666\"},\"formatter\":{\"id\":\"8ddfc6ad-6f6e-40ef-8c71-75a360d1d9c7\",\"type\":\"BasicTickFormatter\"},\"plot\":{\"id\":\"d239a284-86d3-4bfe-831d-3cf157384310\",\"subtype\":\"Figure\",\"type\":\"Plot\"},\"ticker\":{\"id\":\"11de6dd0-5853-4594-bee8-1e783fb92d15\",\"type\":\"BasicTicker\"}},\"id\":\"b65d3b5c-be49-4aad-b892-5f9da79834df\",\"type\":\"LinearAxis\"},{\"attributes\":{\"background_fill_alpha\":{\"value\":0.5},\"background_fill_color\":{\"value\":\"beige\"},\"below\":[{\"id\":\"19fa1fc4-01bf-456f-b673-46151992edd5\",\"type\":\"LinearAxis\"}],\"left\":[{\"id\":\"b65d3b5c-be49-4aad-b892-5f9da79834df\",\"type\":\"LinearAxis\"}],\"plot_height\":500,\"plot_width\":500,\"renderers\":[{\"id\":\"19fa1fc4-01bf-456f-b673-46151992edd5\",\"type\":\"LinearAxis\"},{\"id\":\"2ec70333-ae4a-4ff3-afca-89149e414407\",\"type\":\"Grid\"},{\"id\":\"b65d3b5c-be49-4aad-b892-5f9da79834df\",\"type\":\"LinearAxis\"},{\"id\":\"32bc6bb0-3b28-47ee-ac35-8beb54065f8c\",\"type\":\"Grid\"},{\"id\":\"9d94e3a0-e143-4ea5-bbb2-edfcc026c2f4\",\"type\":\"BoxAnnotation\"},{\"id\":\"1fc54b85-3b1c-40a7-bf4e-bf296f7227f1\",\"type\":\"BoxAnnotation\"},{\"id\":\"fbefcc9d-774f-4c45-a4e9-28aa0ca512b7\",\"type\":\"PolyAnnotation\"},{\"id\":\"8a16eee6-37e0-4764-8f19-add6a310fa55\",\"type\":\"PolyAnnotation\"},{\"id\":\"893891da-6334-40d5-954c-44c03693b33c\",\"type\":\"GlyphRenderer\"},{\"id\":\"709f4cab-0f58-4b15-a55b-25d7f754ab6e\",\"type\":\"GlyphRenderer\"}],\"title\":{\"id\":\"fabba1d7-1a19-43a6-a8f7-5d40a470e68c\",\"type\":\"Title\"},\"tool_events\":{\"id\":\"3ecdbfaf-8599-4ff5-8990-aa12257890c4\",\"type\":\"ToolEvents\"},\"toolbar\":{\"id\":\"8de267d0-5374-428d-8313-08d55ddb1d4c\",\"type\":\"Toolbar\"},\"x_range\":{\"id\":\"dc2e0f35-b313-4689-b6e2-8e0f4353e3ed\",\"type\":\"DataRange1d\"},\"y_range\":{\"id\":\"e4378d40-48cc-4742-aa5b-2d4b402b6aa6\",\"type\":\"DataRange1d\"}},\"id\":\"d239a284-86d3-4bfe-831d-3cf157384310\",\"subtype\":\"Figure\",\"type\":\"Plot\"},{\"attributes\":{},\"id\":\"8ddfc6ad-6f6e-40ef-8c71-75a360d1d9c7\",\"type\":\"BasicTickFormatter\"},{\"attributes\":{\"callback\":null,\"column_names\":[\"y\",\"x\"],\"data\":{\"x\":[9.0,46.6],\"y\":[9.0,46.6]}},\"id\":\"739f4150-7dc0-45d7-893e-544f1d830462\",\"type\":\"ColumnDataSource\"},{\"attributes\":{\"axis_label\":\"Measured\",\"axis_label_text_color\":{\"value\":\"#aa6666\"},\"formatter\":{\"id\":\"9003258f-677e-4d4d-bcab-158d686de9f7\",\"type\":\"BasicTickFormatter\"},\"major_tick_line_color\":{\"value\":\"firebrick\"},\"major_tick_line_width\":{\"value\":3},\"minor_tick_line_color\":{\"value\":\"orange\"},\"plot\":{\"id\":\"d239a284-86d3-4bfe-831d-3cf157384310\",\"subtype\":\"Figure\",\"type\":\"Plot\"},\"ticker\":{\"id\":\"3d2dc01d-be1d-4a61-bb61-879ac0de6a0f\",\"type\":\"BasicTicker\"}},\"id\":\"19fa1fc4-01bf-456f-b673-46151992edd5\",\"type\":\"LinearAxis\"},{\"attributes\":{\"line_alpha\":{\"value\":0.1},\"line_color\":{\"value\":\"#1f77b4\"},\"line_dash\":[4,4],\"line_width\":{\"value\":2},\"x\":{\"field\":\"x\"},\"y\":{\"field\":\"y\"}},\"id\":\"3dc6fd4c-c6e1-4312-ae88-4fc3a919ce35\",\"type\":\"Line\"},{\"attributes\":{\"plot\":{\"id\":\"d239a284-86d3-4bfe-831d-3cf157384310\",\"subtype\":\"Figure\",\"type\":\"Plot\"}},\"id\":\"38daa783-80b2-4ac9-b70a-e5f9ea583244\",\"type\":\"SaveTool\"},{\"attributes\":{\"fill_alpha\":{\"value\":0.5},\"fill_color\":{\"value\":\"lightgrey\"},\"level\":\"overlay\",\"line_alpha\":{\"value\":1.0},\"line_color\":{\"value\":\"black\"},\"line_dash\":[4,4],\"line_width\":{\"value\":2},\"plot\":null,\"xs_units\":\"screen\",\"ys_units\":\"screen\"},\"id\":\"fbefcc9d-774f-4c45-a4e9-28aa0ca512b7\",\"type\":\"PolyAnnotation\"},{\"attributes\":{\"callback\":null,\"overlay\":{\"id\":\"1fc54b85-3b1c-40a7-bf4e-bf296f7227f1\",\"type\":\"BoxAnnotation\"},\"plot\":{\"id\":\"d239a284-86d3-4bfe-831d-3cf157384310\",\"subtype\":\"Figure\",\"type\":\"Plot\"},\"renderers\":[{\"id\":\"893891da-6334-40d5-954c-44c03693b33c\",\"type\":\"GlyphRenderer\"},{\"id\":\"709f4cab-0f58-4b15-a55b-25d7f754ab6e\",\"type\":\"GlyphRenderer\"}]},\"id\":\"391dcbdf-ec85-427b-9458-efdd9e8cf7b4\",\"type\":\"BoxSelectTool\"},{\"attributes\":{\"overlay\":{\"id\":\"8a16eee6-37e0-4764-8f19-add6a310fa55\",\"type\":\"PolyAnnotation\"},\"plot\":{\"id\":\"d239a284-86d3-4bfe-831d-3cf157384310\",\"subtype\":\"Figure\",\"type\":\"Plot\"}},\"id\":\"6887cd42-b071-41c2-bc33-4c19ffb967ac\",\"type\":\"PolySelectTool\"},{\"attributes\":{\"callback\":null,\"column_names\":[\"x\",\"y\"],\"data\":{\"x\":[15.0,27.0,34.3,26.0,31.6,33.8,29.0,18.1,27.2,38.0,26.0,14.0,22.0,31.0,36.4,17.6,17.7,28.0,20.8,14.0,20.2,32.8,22.3,28.0,37.0,27.0,23.2,13.0,15.0,22.0,24.0,29.0,13.0,31.8,23.0,25.5,29.9,13.0,17.5,46.6,15.5,32.9,14.0,25.0,19.4,15.0,32.4,31.5,27.0,19.8,17.0,33.5,21.0,23.0,38.1,44.0,40.8,21.0,29.0,17.5,28.0,26.0,26.0,11.0,37.7,24.2,16.0,16.0,30.0,19.0,27.0,19.0,16.0,16.0,20.3,21.0,33.5,23.0,21.5,16.0,19.0,37.0,15.0,16.0,26.0,18.0,13.0,21.0,29.0,22.0,33.0,22.0,16.0,36.0,20.0,22.0,31.3,14.5,29.8,13.0,13.0,36.0,20.5,25.0,27.0,33.0,16.5,20.6,30.0,43.4,34.7,11.0,18.0,13.0,16.0,19.0,23.0,25.5,14.0,24.5,30.0,25.8,38.0,28.8,26.6,17.0,32.0,18.1,11.0,21.0,36.0,13.0,30.0,31.0,14.0,18.0,13.0,21.6,28.0,23.8,14.0,27.0,20.2,26.0,39.4,19.9,19.0,14.0,23.6,13.0,38.0,30.5,18.5,17.0,12.0,16.0,28.0,15.5,32.0,24.0,25.1,16.0,13.0,24.0,22.0,24.0,15.0,19.0,18.0,27.2,14.0,21.0,44.3,28.0,31.5,19.2,14.0,30.5,29.8,36.1,26.8,26.0,20.5,32.1,16.0,17.0,20.0,22.0,25.0,23.9,31.0,39.0,28.0,34.5,22.0,20.6,14.0,25.4,14.0,30.0,19.0,36.0,25.0,14.0,21.1,28.0,19.0,19.1,24.3,44.6,20.0,17.0,13.0,34.2,26.0,17.5,26.0,13.0,18.0,18.5,36.0,16.0,38.0,23.0,20.5,13.0,28.0,12.0,34.1,20.0,12.0,28.4,18.0,20.0,29.5,19.0,26.0,26.0,25.0,32.0,33.7,28.0,19.2,29.5,27.0,15.0,39.1,26.6,13.0,23.0,27.5,20.0,19.2,24.0,32.2,19.4,33.0,12.0,13.0,17.6,23.9,34.4,14.0,31.0,35.1,15.0,15.5,9.0,25.0,18.0,31.0,43.1,17.5,25.0,25.0,19.0,26.0,31.0,18.2,30.7,24.0,17.0,27.0,23.0,18.0,27.2,35.0,29.0,21.5,15.0,17.5,15.0,32.7,10.0,20.0,32.4,34.0,18.0,32.0,14.0,24.0,26.4,14.0,13.0,13.0,18.5,21.5,16.2,16.5,15.0,28.1,29.0,20.2,27.9,22.0,29.0,19.0,25.0],\"y\":[13.793650793650794,29.454545454545453,37.41666666666667,29.454545454545453,29.27380952380952,37.41666666666667,29.27380952380952,18.817777777777778,28.950000000000003,37.183870967741925,29.454545454545453,13.793650793650794,24.422784810126583,29.454545454545453,30.149295774647886,18.934883720930237,18.817777777777778,25.695121951219512,18.817777777777778,13.793650793650794,24.422784810126583,37.19354838709678,29.27380952380952,23.214893617021275,37.41666666666667,29.27380952380952,23.791666666666668,14.39795918367347,14.39795918367347,23.214893617021275,23.214893617021275,29.454545454545453,16.85135135135135,34.84705882352941,23.67647058823529,23.67647058823529,31.861538461538462,14.017073170731708,17.070588235294117,35.90185185185185,16.60909090909091,30.93030303030304,14.108108108108109,23.67647058823529,17.070588235294117,18.933928571428574,31.861538461538462,31.861538461538462,26.509615384615383,27.378787878787875,14.95,31.861538461538462,18.9875,21.477272727272727,35.90185185185185,34.78045977011494,35.90185185185185,23.67647058823529,31.861538461538462,18.9875,23.67647058823529,23.67647058823529,23.67647058823529,14.017073170731708,36.62448979591838,32.00441176470589,14.23076923076923,14.205882352941176,26.0,23.56666666666667,30.465714285714284,23.56666666666667,14.23076923076923,14.205882352941176,23.56666666666667,22.630612244897957,23.148437499999986,17.21764705882353,20.158928571428568,14.423076923076923,22.630612244897957,34.54181818181817,17.861194029850743,18.38666666666667,28.465000000000003,18.38666666666667,14.205882352941176,23.56666666666667,27.65714285714286,18.38666666666667,28.275438596491227,30.465714285714284,14.23076923076923,30.25,23.56666666666667,23.387096774193548,30.08958333333334,14.891891891891891,38.113333333333344,13.829268292682928,13.807692307692308,31.093617021276593,19.148936170212767,22.255555555555556,25.31392405063291,29.192307692307693,16.845,19.657142857142862,29.192307692307693,38.113333333333344,30.08958333333334,13.829268292682928,18.76764705882354,16.845,13.829268292682928,22.6,30.08958333333334,28.72025316455695,13.829268292682928,25.31392405063291,28.884745762711866,30.08958333333334,20.765000000000004,22.255555555555556,30.08958333333334,18.76764705882354,29.24390243902439,18.84130434782609,14.333333333333334,21.794117647058822,34.260000000000005,14.333333333333334,30.333333333333332,30.333333333333332,14.333333333333334,27.125,18.269387755102045,24.52241379310345,29.551162790697674,24.52241379310345,14.333333333333334,27.125,20.079545454545453,30.333333333333332,36.55999999999999,18.269387755102045,24.52241379310345,18.255813953488374,29.551162790697674,14.333333333333334,36.55999999999999,29.792187499999997,18.269387755102045,14.492156862745096,14.333333333333334,14.492156862745096,27.125,14.333333333333334,29.792187499999997,27.125,23.746153846153845,14.61111111111111,14.816666666666666,27.92631578947368,23.746153846153845,23.4575,13.93859649122807,18.535714285714285,22.653846153846153,23.746153846153845,13.93859649122807,23.4575,37.07586206896553,25.25,36.04814814814816,20.048000000000005,13.371794871794872,29.0,27.92631578947368,36.04814814814816,25.626666666666658,29.0,18.535714285714285,36.04814814814816,14.816666666666666,20.048000000000005,18.535714285714285,23.4575,23.4575,20.048000000000005,37.07586206896553,37.07586206896553,24.570588235294117,30.80270270270271,23.553061224489802,19.06166666666667,15.25,21.518749999999997,15.25,33.38,15.25,30.80270270270271,25.292929292929294,14.6,23.553061224489802,24.570588235294117,23.40740740740741,19.199999999999996,28.433333333333334,35.88571428571428,23.553061224489802,15.571428571428571,14.6,33.38,23.553061224489802,15.571428571428571,23.553061224489802,13.575757575757576,15.25,18.56901408450705,33.38,15.25,35.88571428571428,23.553061224489802,19.297777777777778,13.882352941176471,30.00243902439024,13.882352941176471,36.11555555555554,19.576470588235296,13.882352941176471,28.906382978723407,18.145070422535213,23.067307692307686,35.668181818181814,18.145070422535213,23.067307692307686,23.86666666666666,23.067307692307686,29.58974358974359,35.668181818181814,30.00243902439024,18.129411764705885,29.58974358974359,27.044642857142858,17.66046511627907,36.11555555555554,17.66046511627907,13.882352941176471,22.62884615384616,23.067307692307686,22.62884615384616,18.129411764705885,22.62884615384616,30.96440677966102,19.297777777777778,33.11304347826087,14.392500000000002,14.392500000000002,20.919999999999998,23.931506849315067,36.18103448275862,14.392500000000002,29.725531914893615,37.16666666666667,19.510344827586206,20.02142857142857,14.392500000000002,23.931506849315067,15.378846153846155,29.961764705882356,31.635714285714283,19.510344827586206,23.585882352941177,29.725531914893615,20.19886363636364,24.789473684210527,30.37333333333333,20.02142857142857,26.109999999999996,29.725531914893615,20.02142857142857,30.37333333333333,23.585882352941177,20.19886363636364,32.09354838709677,32.09354838709677,29.727272727272727,31.566666666666666,14.022916666666667,14.558823529411764,15.169491525423728,26.46744186046512,14.022916666666667,16.999999999999996,31.566666666666666,35.50128205128206,22.411940298507457,36.953658536585344,14.022916666666667,19.282051282051285,28.374285714285705,14.022916666666667,14.022916666666667,14.022916666666667,15.5,25.532558139534885,20.16666666666667,19.282051282051285,15.169491525423728,26.46744186046512,27.681818181818183,18.354545454545455,28.374285714285705,18.354545454545455,29.727272727272727,18.57166666666667,26.133333333333333]}},\"id\":\"cf90e47d-831c-4743-ab8f-e1acfa13ec4d\",\"type\":\"ColumnDataSource\"},{\"attributes\":{\"line_dash\":[4,4],\"line_width\":{\"value\":2},\"x\":{\"field\":\"x\"},\"y\":{\"field\":\"y\"}},\"id\":\"c307b37d-a62f-4803-960e-575e1bd38549\",\"type\":\"Line\"},{\"attributes\":{\"plot\":{\"id\":\"d239a284-86d3-4bfe-831d-3cf157384310\",\"subtype\":\"Figure\",\"type\":\"Plot\"},\"ticker\":{\"id\":\"3d2dc01d-be1d-4a61-bb61-879ac0de6a0f\",\"type\":\"BasicTicker\"}},\"id\":\"2ec70333-ae4a-4ff3-afca-89149e414407\",\"type\":\"Grid\"},{\"attributes\":{\"plot\":{\"id\":\"d239a284-86d3-4bfe-831d-3cf157384310\",\"subtype\":\"Figure\",\"type\":\"Plot\"}},\"id\":\"0c78e503-ac53-4805-82b0-09e8ca9e118a\",\"type\":\"ResizeTool\"},{\"attributes\":{},\"id\":\"3d2dc01d-be1d-4a61-bb61-879ac0de6a0f\",\"type\":\"BasicTicker\"}],\"root_ids\":[\"d239a284-86d3-4bfe-831d-3cf157384310\"]},\"title\":\"Bokeh Application\",\"version\":\"0.12.2\"}};\n",
       "            var render_items = [{\"docid\":\"ac651051-06f6-49f0-92c9-0320be05378c\",\"elementid\":\"d6704f3b-8eae-444d-a9b6-ad15f73cec51\",\"modelid\":\"d239a284-86d3-4bfe-831d-3cf157384310\"}];\n",
       "            \n",
       "            Bokeh.embed.embed_items(docs_json, render_items);\n",
       "        });\n",
       "      },\n",
       "      function(Bokeh) {\n",
       "      }\n",
       "    ];\n",
       "  \n",
       "    function run_inline_js() {\n",
       "      \n",
       "      if ((window.Bokeh !== undefined) || (force === \"1\")) {\n",
       "        for (var i = 0; i < inline_js.length; i++) {\n",
       "          inline_js[i](window.Bokeh);\n",
       "        }if (force === \"1\") {\n",
       "          display_loaded();\n",
       "        }} else if (Date.now() < window._bokeh_timeout) {\n",
       "        setTimeout(run_inline_js, 100);\n",
       "      } else if (!window._bokeh_failed_load) {\n",
       "        console.log(\"Bokeh: BokehJS failed to load within specified timeout.\");\n",
       "        window._bokeh_failed_load = true;\n",
       "      } else if (!force) {\n",
       "        var cell = $(\"#d6704f3b-8eae-444d-a9b6-ad15f73cec51\").parents('.cell').data().cell;\n",
       "        cell.output_area.append_execute_result(NB_LOAD_WARNING)\n",
       "      }\n",
       "  \n",
       "    }\n",
       "  \n",
       "    if (window._bokeh_is_loading === 0) {\n",
       "      console.log(\"Bokeh: BokehJS loaded, going straight to plotting\");\n",
       "      run_inline_js();\n",
       "    } else {\n",
       "      load_libs(js_urls, function() {\n",
       "        console.log(\"Bokeh: BokehJS plotting callback run at\", now());\n",
       "        run_inline_js();\n",
       "      });\n",
       "    }\n",
       "  }(this));\n",
       "</script>"
      ]
     },
     "metadata": {},
     "output_type": "display_data"
    }
   ],
   "source": [
    "# Plotining using bokeh\n",
    "#TOOLS = [BoxSelectTool(), HoverTool()]\n",
    "#TOOLS = 'hover,box_zoom,box_select,crosshair,resize,reset,DecisionTreeRegressor_select,pan,save,poly_select,tap,wheel_zoom,undo'\n",
    "TOOLS = 'box_zoom,box_select,crosshair,resize,reset,lasso_select,pan,save,poly_select,tap,wheel_zoom,undo'\n",
    "p = figure(plot_width=500, plot_height=500, tools=TOOLS)\n",
    "p.scatter(Y, predicted,x=\"jjj\", marker=\"o\", color=\"#80B1D3\", line_width=3)\n",
    "p.title.align = \"center\"\n",
    "p.xaxis.axis_label = \"Measured\"\n",
    "p.xaxis.axis_label_text_color = \"#aa6666\"\n",
    "#p.xaxis.axis_label_standoff = 30\n",
    "p.xaxis.major_tick_line_color = \"firebrick\"\n",
    "p.xaxis.major_tick_line_width = 3\n",
    "p.xaxis.minor_tick_line_color = \"orange\"\n",
    "p.yaxis.axis_label = \"Predicted\"\n",
    "p.yaxis.axis_label_text_font_style = \"italic\"\n",
    "p.yaxis.axis_label_text_color = \"#aa6666\"\n",
    "p.background_fill_color = \"beige\"\n",
    "p.background_fill_alpha = 0.5\n",
    "#p.line([Y.min(), Y.max()], [Y.min(), Y.max()], line_dash=\"4 4\", line_width=2, color='red')\n",
    "\n",
    "# create a new plot with the toolbar below\n",
    "# line_dash=\"4 4\", line_width=2, color='red'\n",
    "p.line([Y.min(), Y.max()], [Y.min(), Y.max()], line_dash=\"4 4\", line_width=2, line_color=\"black\")\n",
    "show(p)"
   ]
  },
  {
   "cell_type": "code",
   "execution_count": 25,
   "metadata": {
    "collapsed": false
   },
   "outputs": [
    {
     "data": {
      "text/plain": [
       "<matplotlib.text.Text at 0x7f118aa30850>"
      ]
     },
     "execution_count": 25,
     "metadata": {},
     "output_type": "execute_result"
    },
    {
     "data": {
      "image/png": "[encoded data removed]",
      "text/plain": [
       "<matplotlib.figure.Figure at 0x7f118ab1d350>"
      ]
     },
     "metadata": {},
     "output_type": "display_data"
    }
   ],
   "source": [
    "plt.scatter(predicted, (predicted - Y), c='r', s=30)\n",
    "plt.title(\"Residual plot on the training data\")\n",
    "plt.xlabel(\"Predicted\")\n",
    "plt.ylabel(\"Residuals\")"
   ]
  },
  {
   "cell_type": "code",
   "execution_count": 26,
   "metadata": {
    "collapsed": false
   },
   "outputs": [
    {
     "data": {
      "text/html": [
       "\n",
       "\n",
       "    <div class=\"bk-root\">\n",
       "        <div class=\"plotdiv\" id=\"045b029d-8ad9-4528-bc5f-f50c8c2d5a1a\"></div>\n",
       "    </div>\n",
       "<script type=\"text/javascript\">\n",
       "  \n",
       "  (function(global) {\n",
       "    function now() {\n",
       "      return new Date();\n",
       "    }\n",
       "  \n",
       "    var force = \"\";\n",
       "  \n",
       "    if (typeof (window._bokeh_onload_callbacks) === \"undefined\" || force !== \"\") {\n",
       "      window._bokeh_onload_callbacks = [];\n",
       "      window._bokeh_is_loading = undefined;\n",
       "    }\n",
       "  \n",
       "  \n",
       "    \n",
       "    if (typeof (window._bokeh_timeout) === \"undefined\" || force !== \"\") {\n",
       "      window._bokeh_timeout = Date.now() + 0;\n",
       "      window._bokeh_failed_load = false;\n",
       "    }\n",
       "  \n",
       "    var NB_LOAD_WARNING = {'data': {'text/html':\n",
       "       \"<div style='background-color: #fdd'>\\n\"+\n",
       "       \"<p>\\n\"+\n",
       "       \"BokehJS does not appear to have successfully loaded. If loading BokehJS from CDN, this \\n\"+\n",
       "       \"may be due to a slow or bad network connection. Possible fixes:\\n\"+\n",
       "       \"</p>\\n\"+\n",
       "       \"<ul>\\n\"+\n",
       "       \"<li>re-rerun `output_notebook()` to attempt to load from CDN again, or</li>\\n\"+\n",
       "       \"<li>use INLINE resources instead, as so:</li>\\n\"+\n",
       "       \"</ul>\\n\"+\n",
       "       \"<code>\\n\"+\n",
       "       \"from bokeh.resources import INLINE\\n\"+\n",
       "       \"output_notebook(resources=INLINE)\\n\"+\n",
       "       \"</code>\\n\"+\n",
       "       \"</div>\"}};\n",
       "  \n",
       "    function display_loaded() {\n",
       "      if (window.Bokeh !== undefined) {\n",
       "        Bokeh.$(\"#045b029d-8ad9-4528-bc5f-f50c8c2d5a1a\").text(\"BokehJS successfully loaded.\");\n",
       "      } else if (Date.now() < window._bokeh_timeout) {\n",
       "        setTimeout(display_loaded, 100)\n",
       "      }\n",
       "    }\n",
       "  \n",
       "    function run_callbacks() {\n",
       "      window._bokeh_onload_callbacks.forEach(function(callback) { callback() });\n",
       "      delete window._bokeh_onload_callbacks\n",
       "      console.info(\"Bokeh: all callbacks have finished\");\n",
       "    }\n",
       "  \n",
       "    function load_libs(js_urls, callback) {\n",
       "      window._bokeh_onload_callbacks.push(callback);\n",
       "      if (window._bokeh_is_loading > 0) {\n",
       "        console.log(\"Bokeh: BokehJS is being loaded, scheduling callback at\", now());\n",
       "        return null;\n",
       "      }\n",
       "      if (js_urls == null || js_urls.length === 0) {\n",
       "        run_callbacks();\n",
       "        return null;\n",
       "      }\n",
       "      console.log(\"Bokeh: BokehJS not loaded, scheduling load and callback at\", now());\n",
       "      window._bokeh_is_loading = js_urls.length;\n",
       "      for (var i = 0; i < js_urls.length; i++) {\n",
       "        var url = js_urls[i];\n",
       "        var s = document.createElement('script');\n",
       "        s.src = url;\n",
       "        s.async = false;\n",
       "        s.onreadystatechange = s.onload = function() {\n",
       "          window._bokeh_is_loading--;\n",
       "          if (window._bokeh_is_loading === 0) {\n",
       "            console.log(\"Bokeh: all BokehJS libraries loaded\");\n",
       "            run_callbacks()\n",
       "          }\n",
       "        };\n",
       "        s.onerror = function() {\n",
       "          console.warn(\"failed to load library \" + url);\n",
       "        };\n",
       "        console.log(\"Bokeh: injecting script tag for BokehJS library: \", url);\n",
       "        document.getElementsByTagName(\"head\")[0].appendChild(s);\n",
       "      }\n",
       "    };var element = document.getElementById(\"045b029d-8ad9-4528-bc5f-f50c8c2d5a1a\");\n",
       "    if (element == null) {\n",
       "      console.log(\"Bokeh: ERROR: autoload.js configured with elementid '045b029d-8ad9-4528-bc5f-f50c8c2d5a1a' but no matching script tag was found. \")\n",
       "      return false;\n",
       "    }\n",
       "  \n",
       "    var js_urls = [];\n",
       "  \n",
       "    var inline_js = [\n",
       "      function(Bokeh) {\n",
       "        Bokeh.$(function() {\n",
       "            var docs_json = {\"39170efa-0734-45bc-991c-ef6ba51ae592\":{\"roots\":{\"references\":[{\"attributes\":{\"plot\":{\"id\":\"0f7ef1b4-0241-4005-890d-1ed7382024c0\",\"subtype\":\"Figure\",\"type\":\"Plot\"}},\"id\":\"c8bd56a4-7f25-4aa1-b1f1-3e209e81752d\",\"type\":\"ResizeTool\"},{\"attributes\":{\"callback\":null,\"plot\":{\"id\":\"0f7ef1b4-0241-4005-890d-1ed7382024c0\",\"subtype\":\"Figure\",\"type\":\"Plot\"}},\"id\":\"6a384999-eb78-4ce7-98f8-b45fe95aa1e1\",\"type\":\"TapTool\"},{\"attributes\":{\"bottom_units\":\"screen\",\"fill_alpha\":{\"value\":0.5},\"fill_color\":{\"value\":\"lightgrey\"},\"left_units\":\"screen\",\"level\":\"overlay\",\"line_alpha\":{\"value\":1.0},\"line_color\":{\"value\":\"black\"},\"line_dash\":[4,4],\"line_width\":{\"value\":2},\"plot\":null,\"render_mode\":\"css\",\"right_units\":\"screen\",\"top_units\":\"screen\"},\"id\":\"c768787a-5fa7-438e-b237-b3dd67477eab\",\"type\":\"BoxAnnotation\"},{\"attributes\":{\"fill_alpha\":{\"value\":0.5},\"fill_color\":{\"value\":\"lightgrey\"},\"level\":\"overlay\",\"line_alpha\":{\"value\":1.0},\"line_color\":{\"value\":\"black\"},\"line_dash\":[4,4],\"line_width\":{\"value\":2},\"plot\":null,\"xs_units\":\"screen\",\"ys_units\":\"screen\"},\"id\":\"a9ca5385-6d41-4161-a3e8-c578825e065c\",\"type\":\"PolyAnnotation\"},{\"attributes\":{\"plot\":{\"id\":\"0f7ef1b4-0241-4005-890d-1ed7382024c0\",\"subtype\":\"Figure\",\"type\":\"Plot\"}},\"id\":\"c52535da-9595-4e64-a2dd-bb063f7ad6c0\",\"type\":\"ResetTool\"},{\"attributes\":{\"fill_alpha\":{\"value\":0.5},\"fill_color\":{\"value\":\"lightgrey\"},\"level\":\"overlay\",\"line_alpha\":{\"value\":1.0},\"line_color\":{\"value\":\"black\"},\"line_dash\":[4,4],\"line_width\":{\"value\":2},\"plot\":null,\"xs_units\":\"screen\",\"ys_units\":\"screen\"},\"id\":\"36ec47f8-6f84-46a2-b00b-10106fd0ce48\",\"type\":\"PolyAnnotation\"},{\"attributes\":{\"plot\":{\"id\":\"0f7ef1b4-0241-4005-890d-1ed7382024c0\",\"subtype\":\"Figure\",\"type\":\"Plot\"}},\"id\":\"aec451ab-d516-4b43-8fdb-c43061a0e22c\",\"type\":\"PanTool\"},{\"attributes\":{\"plot\":{\"id\":\"0f7ef1b4-0241-4005-890d-1ed7382024c0\",\"subtype\":\"Figure\",\"type\":\"Plot\"},\"ticker\":{\"id\":\"7a33e04a-0889-4751-ab46-30746978c722\",\"type\":\"BasicTicker\"}},\"id\":\"22749a71-2331-458a-8a5c-496da8a2ba32\",\"type\":\"Grid\"},{\"attributes\":{},\"id\":\"8b5efc8d-702d-4d26-aeaf-4e427135ffce\",\"type\":\"BasicTickFormatter\"},{\"attributes\":{\"plot\":{\"id\":\"0f7ef1b4-0241-4005-890d-1ed7382024c0\",\"subtype\":\"Figure\",\"type\":\"Plot\"}},\"id\":\"25472434-55fa-47d9-b226-7e7f9e943fd0\",\"type\":\"CrosshairTool\"},{\"attributes\":{\"callback\":null,\"column_names\":[\"x\",\"y\"],\"data\":{\"x\":[13.793650793650794,29.454545454545453,37.41666666666667,29.454545454545453,29.27380952380952,37.41666666666667,29.27380952380952,18.817777777777778,28.950000000000003,37.183870967741925,29.454545454545453,13.793650793650794,24.422784810126583,29.454545454545453,30.149295774647886,18.934883720930237,18.817777777777778,25.695121951219512,18.817777777777778,13.793650793650794,24.422784810126583,37.19354838709678,29.27380952380952,23.214893617021275,37.41666666666667,29.27380952380952,23.791666666666668,14.39795918367347,14.39795918367347,23.214893617021275,23.214893617021275,29.454545454545453,16.85135135135135,34.84705882352941,23.67647058823529,23.67647058823529,31.861538461538462,14.017073170731708,17.070588235294117,35.90185185185185,16.60909090909091,30.93030303030304,14.108108108108109,23.67647058823529,17.070588235294117,18.933928571428574,31.861538461538462,31.861538461538462,26.509615384615383,27.378787878787875,14.95,31.861538461538462,18.9875,21.477272727272727,35.90185185185185,34.78045977011494,35.90185185185185,23.67647058823529,31.861538461538462,18.9875,23.67647058823529,23.67647058823529,23.67647058823529,14.017073170731708,36.62448979591838,32.00441176470589,14.23076923076923,14.205882352941176,26.0,23.56666666666667,30.465714285714284,23.56666666666667,14.23076923076923,14.205882352941176,23.56666666666667,22.630612244897957,23.148437499999986,17.21764705882353,20.158928571428568,14.423076923076923,22.630612244897957,34.54181818181817,17.861194029850743,18.38666666666667,28.465000000000003,18.38666666666667,14.205882352941176,23.56666666666667,27.65714285714286,18.38666666666667,28.275438596491227,30.465714285714284,14.23076923076923,30.25,23.56666666666667,23.387096774193548,30.08958333333334,14.891891891891891,38.113333333333344,13.829268292682928,13.807692307692308,31.093617021276593,19.148936170212767,22.255555555555556,25.31392405063291,29.192307692307693,16.845,19.657142857142862,29.192307692307693,38.113333333333344,30.08958333333334,13.829268292682928,18.76764705882354,16.845,13.829268292682928,22.6,30.08958333333334,28.72025316455695,13.829268292682928,25.31392405063291,28.884745762711866,30.08958333333334,20.765000000000004,22.255555555555556,30.08958333333334,18.76764705882354,29.24390243902439,18.84130434782609,14.333333333333334,21.794117647058822,34.260000000000005,14.333333333333334,30.333333333333332,30.333333333333332,14.333333333333334,27.125,18.269387755102045,24.52241379310345,29.551162790697674,24.52241379310345,14.333333333333334,27.125,20.079545454545453,30.333333333333332,36.55999999999999,18.269387755102045,24.52241379310345,18.255813953488374,29.551162790697674,14.333333333333334,36.55999999999999,29.792187499999997,18.269387755102045,14.492156862745096,14.333333333333334,14.492156862745096,27.125,14.333333333333334,29.792187499999997,27.125,23.746153846153845,14.61111111111111,14.816666666666666,27.92631578947368,23.746153846153845,23.4575,13.93859649122807,18.535714285714285,22.653846153846153,23.746153846153845,13.93859649122807,23.4575,37.07586206896553,25.25,36.04814814814816,20.048000000000005,13.371794871794872,29.0,27.92631578947368,36.04814814814816,25.626666666666658,29.0,18.535714285714285,36.04814814814816,14.816666666666666,20.048000000000005,18.535714285714285,23.4575,23.4575,20.048000000000005,37.07586206896553,37.07586206896553,24.570588235294117,30.80270270270271,23.553061224489802,19.06166666666667,15.25,21.518749999999997,15.25,33.38,15.25,30.80270270270271,25.292929292929294,14.6,23.553061224489802,24.570588235294117,23.40740740740741,19.199999999999996,28.433333333333334,35.88571428571428,23.553061224489802,15.571428571428571,14.6,33.38,23.553061224489802,15.571428571428571,23.553061224489802,13.575757575757576,15.25,18.56901408450705,33.38,15.25,35.88571428571428,23.553061224489802,19.297777777777778,13.882352941176471,30.00243902439024,13.882352941176471,36.11555555555554,19.576470588235296,13.882352941176471,28.906382978723407,18.145070422535213,23.067307692307686,35.668181818181814,18.145070422535213,23.067307692307686,23.86666666666666,23.067307692307686,29.58974358974359,35.668181818181814,30.00243902439024,18.129411764705885,29.58974358974359,27.044642857142858,17.66046511627907,36.11555555555554,17.66046511627907,13.882352941176471,22.62884615384616,23.067307692307686,22.62884615384616,18.129411764705885,22.62884615384616,30.96440677966102,19.297777777777778,33.11304347826087,14.392500000000002,14.392500000000002,20.919999999999998,23.931506849315067,36.18103448275862,14.392500000000002,29.725531914893615,37.16666666666667,19.510344827586206,20.02142857142857,14.392500000000002,23.931506849315067,15.378846153846155,29.961764705882356,31.635714285714283,19.510344827586206,23.585882352941177,29.725531914893615,20.19886363636364,24.789473684210527,30.37333333333333,20.02142857142857,26.109999999999996,29.725531914893615,20.02142857142857,30.37333333333333,23.585882352941177,20.19886363636364,32.09354838709677,32.09354838709677,29.727272727272727,31.566666666666666,14.022916666666667,14.558823529411764,15.169491525423728,26.46744186046512,14.022916666666667,16.999999999999996,31.566666666666666,35.50128205128206,22.411940298507457,36.953658536585344,14.022916666666667,19.282051282051285,28.374285714285705,14.022916666666667,14.022916666666667,14.022916666666667,15.5,25.532558139534885,20.16666666666667,19.282051282051285,15.169491525423728,26.46744186046512,27.681818181818183,18.354545454545455,28.374285714285705,18.354545454545455,29.727272727272727,18.57166666666667,26.133333333333333],\"y\":[-1.2063492063492056,2.4545454545454533,3.1166666666666742,3.4545454545454533,-2.326190476190483,3.6166666666666742,0.2738095238095184,0.7177777777777763,1.7500000000000036,-0.8161290322580754,3.4545454545454533,-0.20634920634920562,2.4227848101265828,-1.5454545454545467,-6.250704225352113,1.334883720930236,1.1177777777777784,-2.3048780487804876,-1.982222222222223,-0.20634920634920562,4.2227848101265835,4.393548387096786,6.973809523809518,-4.785106382978725,0.4166666666666714,2.2738095238095184,0.5916666666666686,1.3979591836734695,-0.6020408163265305,1.214893617021275,-0.785106382978725,0.45454545454545325,3.851351351351351,3.047058823529408,0.6764705882352899,-1.82352941176471,1.9615384615384635,1.0170731707317078,-0.4294117647058826,-10.69814814814815,1.1090909090909093,-1.9696969696969582,0.10810810810810878,-1.32352941176471,-2.329411764705881,3.9339285714285737,-0.5384615384615365,0.36153846153846203,-0.49038461538461675,7.578787878787875,-2.0500000000000007,-1.638461538461538,-2.0124999999999993,-1.5227272727272734,-2.1981481481481495,-9.219540229885062,-4.898148148148145,2.67647058823529,2.861538461538462,1.4875000000000007,-4.32352941176471,-2.32352941176471,-2.32352941176471,3.0170731707317078,-1.075510204081624,7.804411764705893,-1.76923076923077,-1.7941176470588243,-4.0,4.56666666666667,3.4657142857142844,4.56666666666667,-1.76923076923077,-1.7941176470588243,3.2666666666666693,1.6306122448979572,-10.351562500000014,-5.78235294117647,-1.341071428571432,-1.5769230769230766,3.630612244897957,-2.458181818181828,2.8611940298507434,2.3866666666666703,2.4650000000000034,0.38666666666667027,1.2058823529411757,2.56666666666667,-1.3428571428571416,-3.6133333333333297,-4.724561403508773,8.465714285714284,-1.76923076923077,-5.75,3.56666666666667,1.387096774193548,-1.21041666666666,0.3918918918918912,8.313333333333343,0.8292682926829276,0.8076923076923084,-4.906382978723407,-1.3510638297872326,-2.7444444444444436,-1.6860759493670905,-3.8076923076923066,0.34499999999999886,-0.9428571428571395,-0.8076923076923066,-5.286666666666655,-4.610416666666662,2.8292682926829276,0.7676470588235382,3.844999999999999,-2.1707317073170724,3.6000000000000014,7.089583333333341,3.2202531645569508,-0.17073170731707243,0.8139240506329095,-1.1152542372881342,4.28958333333334,-17.234999999999996,-6.544444444444444,3.4895833333333393,1.7676470588235382,-2.7560975609756113,0.7413043478260875,3.333333333333334,0.7941176470588225,-1.7399999999999949,1.333333333333334,0.33333333333333215,-0.6666666666666679,0.3333333333333339,9.125,5.269387755102045,2.9224137931034484,1.5511627906976742,0.7224137931034491,0.3333333333333339,0.125,-0.12045454545454604,4.333333333333332,-2.8400000000000105,-1.6306122448979536,5.52241379310345,4.255813953488374,5.951162790697673,1.333333333333334,-1.440000000000012,-0.7078125000000028,-0.23061224489795507,-2.5078431372549037,2.333333333333334,-1.5078431372549037,-0.875,-1.166666666666666,-2.207812500000003,3.125,-1.3538461538461561,-1.3888888888888893,1.8166666666666664,3.92631578947368,1.7461538461538453,-0.5425000000000004,-1.0614035087719298,-0.4642857142857153,4.653846153846153,-3.453846153846154,-0.06140350877192979,2.4574999999999996,-7.22413793103447,-2.75,4.548148148148158,0.8480000000000061,-0.6282051282051277,-1.5,-1.8736842105263207,-0.05185185185184338,-1.1733333333333427,3.0,-1.9642857142857153,3.9481481481481566,-1.1833333333333336,3.0480000000000054,-1.4642857142857153,1.4574999999999996,-1.5425000000000004,-3.851999999999993,6.075862068965527,-1.9241379310344726,-3.4294117647058826,-3.6972972972972897,1.5530612244898023,-1.5383333333333304,1.25,-3.8812500000000014,1.25,3.3800000000000026,-3.75,-5.19729729729729,0.29292929292929415,0.5999999999999996,2.453061224489801,-3.4294117647058826,4.407407407407408,0.09999999999999432,4.133333333333333,-8.714285714285722,3.5530612244898023,-1.4285714285714288,1.5999999999999996,-0.8200000000000003,-2.4469387755101977,-1.9285714285714288,-2.4469387755101977,0.5757575757575761,-2.75,0.06901408450704949,-2.6199999999999974,-0.75,-2.114285714285721,0.5530612244898023,-1.2022222222222219,0.882352941176471,2.0024390243902417,1.882352941176471,2.0155555555555367,-0.4235294117647044,1.882352941176471,0.5063829787234084,0.14507042253521263,3.0673076923076863,6.168181818181814,-0.8549295774647874,-2.9326923076923137,-2.13333333333334,-1.9326923076923137,-2.410256410256409,1.9681818181818116,2.0024390243902417,-1.0705882352941138,0.0897435897435912,0.04464285714285765,2.6604651162790702,-2.9844444444444633,-8.939534883720931,0.882352941176471,-0.3711538461538417,-4.432692307692314,2.6288461538461583,-1.0705882352941138,-1.3711538461538417,-1.235593220338984,-0.10222222222222044,0.11304347826087024,2.392500000000002,1.3925000000000018,3.3199999999999967,0.03150684931506831,1.7810344827586206,0.39250000000000185,-1.2744680851063848,2.06666666666667,4.510344827586206,4.521428571428569,5.392500000000002,-1.0684931506849331,-2.6211538461538453,-1.0382352941176443,-11.464285714285719,2.0103448275862057,-1.4141176470588235,4.725531914893615,1.1988636363636402,-1.2105263157894726,-0.6266666666666687,1.8214285714285694,-4.590000000000003,5.725531914893615,3.0214285714285687,3.3733333333333313,0.5858823529411765,2.1988636363636402,4.893548387096768,-2.9064516129032327,0.7272727272727266,10.066666666666666,-0.9770833333333329,-2.9411764705882355,0.16949152542372836,-6.232558139534884,4.022916666666667,-3.0000000000000036,-0.8333333333333321,1.501282051282061,4.4119402985074565,4.953658536585344,0.02291666666666714,-4.717948717948715,1.9742857142857062,0.02291666666666714,1.0229166666666671,1.0229166666666671,-3.0,4.032558139534885,3.966666666666672,2.7820512820512846,0.16949152542372836,-1.6325581395348827,-1.3181818181818166,-1.845454545454544,0.4742857142857062,-3.6454545454545446,0.7272727272727266,-0.428333333333331,1.1333333333333329]}},\"id\":\"b61f0388-1c44-421e-b49a-2fc9f21438a9\",\"type\":\"ColumnDataSource\"},{\"attributes\":{\"dimension\":1,\"plot\":{\"id\":\"0f7ef1b4-0241-4005-890d-1ed7382024c0\",\"subtype\":\"Figure\",\"type\":\"Plot\"},\"ticker\":{\"id\":\"f0348c50-475b-4909-919b-69f9f4b38882\",\"type\":\"BasicTicker\"}},\"id\":\"28968614-5a41-4486-ae16-fe756dc3ce6f\",\"type\":\"Grid\"},{\"attributes\":{\"overlay\":{\"id\":\"318af2af-0ef1-4be3-9892-d4e64a4446ab\",\"type\":\"BoxAnnotation\"},\"plot\":{\"id\":\"0f7ef1b4-0241-4005-890d-1ed7382024c0\",\"subtype\":\"Figure\",\"type\":\"Plot\"}},\"id\":\"23672a5d-687c-4c13-afa7-550f673dbfe2\",\"type\":\"BoxZoomTool\"},{\"attributes\":{\"callback\":null,\"overlay\":{\"id\":\"c768787a-5fa7-438e-b237-b3dd67477eab\",\"type\":\"BoxAnnotation\"},\"plot\":{\"id\":\"0f7ef1b4-0241-4005-890d-1ed7382024c0\",\"subtype\":\"Figure\",\"type\":\"Plot\"},\"renderers\":[{\"id\":\"e6b47538-bcda-4ae8-96fa-0ee255aa64ab\",\"type\":\"GlyphRenderer\"}]},\"id\":\"ac6d40e0-b0e7-41e4-ace1-b70d85315b20\",\"type\":\"BoxSelectTool\"},{\"attributes\":{\"align\":\"center\",\"plot\":null,\"text\":\"Residual plot on the training data\"},\"id\":\"14df222b-7807-4378-8776-88136b533e4e\",\"type\":\"Title\"},{\"attributes\":{\"callback\":null,\"overlay\":{\"id\":\"36ec47f8-6f84-46a2-b00b-10106fd0ce48\",\"type\":\"PolyAnnotation\"},\"plot\":{\"id\":\"0f7ef1b4-0241-4005-890d-1ed7382024c0\",\"subtype\":\"Figure\",\"type\":\"Plot\"}},\"id\":\"451f93b5-5886-40b7-8493-3c3fa84b5a39\",\"type\":\"LassoSelectTool\"},{\"attributes\":{\"fill_alpha\":{\"value\":0.1},\"fill_color\":{\"value\":\"#1f77b4\"},\"line_alpha\":{\"value\":0.1},\"line_color\":{\"value\":\"#1f77b4\"},\"line_width\":{\"value\":3},\"x\":{\"field\":\"x\"},\"y\":{\"field\":\"y\"}},\"id\":\"789d6186-44a0-4358-9dc9-9201174d49e5\",\"type\":\"Circle\"},{\"attributes\":{\"background_fill_alpha\":{\"value\":0.5},\"background_fill_color\":{\"value\":\"beige\"},\"below\":[{\"id\":\"a59c1b2a-12eb-4820-9891-66346eb1891d\",\"type\":\"LinearAxis\"}],\"left\":[{\"id\":\"67eb1aa3-c5fc-4aeb-a386-12984dbc09a7\",\"type\":\"LinearAxis\"}],\"plot_height\":500,\"plot_width\":500,\"renderers\":[{\"id\":\"a59c1b2a-12eb-4820-9891-66346eb1891d\",\"type\":\"LinearAxis\"},{\"id\":\"22749a71-2331-458a-8a5c-496da8a2ba32\",\"type\":\"Grid\"},{\"id\":\"67eb1aa3-c5fc-4aeb-a386-12984dbc09a7\",\"type\":\"LinearAxis\"},{\"id\":\"28968614-5a41-4486-ae16-fe756dc3ce6f\",\"type\":\"Grid\"},{\"id\":\"318af2af-0ef1-4be3-9892-d4e64a4446ab\",\"type\":\"BoxAnnotation\"},{\"id\":\"c768787a-5fa7-438e-b237-b3dd67477eab\",\"type\":\"BoxAnnotation\"},{\"id\":\"36ec47f8-6f84-46a2-b00b-10106fd0ce48\",\"type\":\"PolyAnnotation\"},{\"id\":\"a9ca5385-6d41-4161-a3e8-c578825e065c\",\"type\":\"PolyAnnotation\"},{\"id\":\"e6b47538-bcda-4ae8-96fa-0ee255aa64ab\",\"type\":\"GlyphRenderer\"}],\"title\":{\"id\":\"14df222b-7807-4378-8776-88136b533e4e\",\"type\":\"Title\"},\"tool_events\":{\"id\":\"46115f70-9145-492a-b5fc-814873a4d767\",\"type\":\"ToolEvents\"},\"toolbar\":{\"id\":\"f1ad1be3-1572-41a0-894b-b152b6456667\",\"type\":\"Toolbar\"},\"x_range\":{\"id\":\"5ceeee8f-c89e-4585-a5fe-e19e707f230c\",\"type\":\"DataRange1d\"},\"y_range\":{\"id\":\"135bf3d0-c176-4362-b54d-bbbb5938075e\",\"type\":\"DataRange1d\"}},\"id\":\"0f7ef1b4-0241-4005-890d-1ed7382024c0\",\"subtype\":\"Figure\",\"type\":\"Plot\"},{\"attributes\":{\"data_source\":{\"id\":\"b61f0388-1c44-421e-b49a-2fc9f21438a9\",\"type\":\"ColumnDataSource\"},\"glyph\":{\"id\":\"c70dd759-a826-48c8-8bb4-0bdb45c3cce7\",\"type\":\"Circle\"},\"hover_glyph\":null,\"nonselection_glyph\":{\"id\":\"789d6186-44a0-4358-9dc9-9201174d49e5\",\"type\":\"Circle\"},\"selection_glyph\":null},\"id\":\"e6b47538-bcda-4ae8-96fa-0ee255aa64ab\",\"type\":\"GlyphRenderer\"},{\"attributes\":{},\"id\":\"7a33e04a-0889-4751-ab46-30746978c722\",\"type\":\"BasicTicker\"},{\"attributes\":{\"plot\":{\"id\":\"0f7ef1b4-0241-4005-890d-1ed7382024c0\",\"subtype\":\"Figure\",\"type\":\"Plot\"}},\"id\":\"f98f2e0b-acb5-4d86-90c1-a4a85fbce6eb\",\"type\":\"WheelZoomTool\"},{\"attributes\":{\"plot\":{\"id\":\"0f7ef1b4-0241-4005-890d-1ed7382024c0\",\"subtype\":\"Figure\",\"type\":\"Plot\"}},\"id\":\"5e9eb632-6f2b-4ec1-b472-45e521495a5a\",\"type\":\"SaveTool\"},{\"attributes\":{\"plot\":{\"id\":\"0f7ef1b4-0241-4005-890d-1ed7382024c0\",\"subtype\":\"Figure\",\"type\":\"Plot\"}},\"id\":\"64dffba0-c1ef-4fbc-b419-e36fe3acd6e5\",\"type\":\"UndoTool\"},{\"attributes\":{\"axis_label\":\"Predicted\",\"axis_label_text_color\":{\"value\":\"#aa6666\"},\"formatter\":{\"id\":\"1a5dd645-4988-4c93-9eda-ac1d7e51be98\",\"type\":\"BasicTickFormatter\"},\"major_tick_line_color\":{\"value\":\"firebrick\"},\"major_tick_line_width\":{\"value\":3},\"minor_tick_line_color\":{\"value\":\"orange\"},\"plot\":{\"id\":\"0f7ef1b4-0241-4005-890d-1ed7382024c0\",\"subtype\":\"Figure\",\"type\":\"Plot\"},\"ticker\":{\"id\":\"7a33e04a-0889-4751-ab46-30746978c722\",\"type\":\"BasicTicker\"}},\"id\":\"a59c1b2a-12eb-4820-9891-66346eb1891d\",\"type\":\"LinearAxis\"},{\"attributes\":{\"active_drag\":\"auto\",\"active_scroll\":\"auto\",\"active_tap\":\"auto\",\"tools\":[{\"id\":\"23672a5d-687c-4c13-afa7-550f673dbfe2\",\"type\":\"BoxZoomTool\"},{\"id\":\"ac6d40e0-b0e7-41e4-ace1-b70d85315b20\",\"type\":\"BoxSelectTool\"},{\"id\":\"25472434-55fa-47d9-b226-7e7f9e943fd0\",\"type\":\"CrosshairTool\"},{\"id\":\"c8bd56a4-7f25-4aa1-b1f1-3e209e81752d\",\"type\":\"ResizeTool\"},{\"id\":\"c52535da-9595-4e64-a2dd-bb063f7ad6c0\",\"type\":\"ResetTool\"},{\"id\":\"451f93b5-5886-40b7-8493-3c3fa84b5a39\",\"type\":\"LassoSelectTool\"},{\"id\":\"aec451ab-d516-4b43-8fdb-c43061a0e22c\",\"type\":\"PanTool\"},{\"id\":\"5e9eb632-6f2b-4ec1-b472-45e521495a5a\",\"type\":\"SaveTool\"},{\"id\":\"9bf3ccdd-8147-4fb7-98ef-11e83a02954d\",\"type\":\"PolySelectTool\"},{\"id\":\"6a384999-eb78-4ce7-98f8-b45fe95aa1e1\",\"type\":\"TapTool\"},{\"id\":\"f98f2e0b-acb5-4d86-90c1-a4a85fbce6eb\",\"type\":\"WheelZoomTool\"},{\"id\":\"64dffba0-c1ef-4fbc-b419-e36fe3acd6e5\",\"type\":\"UndoTool\"}]},\"id\":\"f1ad1be3-1572-41a0-894b-b152b6456667\",\"type\":\"Toolbar\"},{\"attributes\":{},\"id\":\"f0348c50-475b-4909-919b-69f9f4b38882\",\"type\":\"BasicTicker\"},{\"attributes\":{},\"id\":\"1a5dd645-4988-4c93-9eda-ac1d7e51be98\",\"type\":\"BasicTickFormatter\"},{\"attributes\":{},\"id\":\"46115f70-9145-492a-b5fc-814873a4d767\",\"type\":\"ToolEvents\"},{\"attributes\":{\"overlay\":{\"id\":\"a9ca5385-6d41-4161-a3e8-c578825e065c\",\"type\":\"PolyAnnotation\"},\"plot\":{\"id\":\"0f7ef1b4-0241-4005-890d-1ed7382024c0\",\"subtype\":\"Figure\",\"type\":\"Plot\"}},\"id\":\"9bf3ccdd-8147-4fb7-98ef-11e83a02954d\",\"type\":\"PolySelectTool\"},{\"attributes\":{\"bottom_units\":\"screen\",\"fill_alpha\":{\"value\":0.5},\"fill_color\":{\"value\":\"lightgrey\"},\"left_units\":\"screen\",\"level\":\"overlay\",\"line_alpha\":{\"value\":1.0},\"line_color\":{\"value\":\"black\"},\"line_dash\":[4,4],\"line_width\":{\"value\":2},\"plot\":null,\"render_mode\":\"css\",\"right_units\":\"screen\",\"top_units\":\"screen\"},\"id\":\"318af2af-0ef1-4be3-9892-d4e64a4446ab\",\"type\":\"BoxAnnotation\"},{\"attributes\":{\"axis_label\":\"Residuals\",\"axis_label_text_color\":{\"value\":\"#aa6666\"},\"formatter\":{\"id\":\"8b5efc8d-702d-4d26-aeaf-4e427135ffce\",\"type\":\"BasicTickFormatter\"},\"plot\":{\"id\":\"0f7ef1b4-0241-4005-890d-1ed7382024c0\",\"subtype\":\"Figure\",\"type\":\"Plot\"},\"ticker\":{\"id\":\"f0348c50-475b-4909-919b-69f9f4b38882\",\"type\":\"BasicTicker\"}},\"id\":\"67eb1aa3-c5fc-4aeb-a386-12984dbc09a7\",\"type\":\"LinearAxis\"},{\"attributes\":{\"callback\":null},\"id\":\"5ceeee8f-c89e-4585-a5fe-e19e707f230c\",\"type\":\"DataRange1d\"},{\"attributes\":{\"fill_color\":{\"value\":\"#80B1D3\"},\"line_color\":{\"value\":\"#80B1D3\"},\"line_width\":{\"value\":3},\"x\":{\"field\":\"x\"},\"y\":{\"field\":\"y\"}},\"id\":\"c70dd759-a826-48c8-8bb4-0bdb45c3cce7\",\"type\":\"Circle\"},{\"attributes\":{\"callback\":null},\"id\":\"135bf3d0-c176-4362-b54d-bbbb5938075e\",\"type\":\"DataRange1d\"}],\"root_ids\":[\"0f7ef1b4-0241-4005-890d-1ed7382024c0\"]},\"title\":\"Bokeh Application\",\"version\":\"0.12.2\"}};\n",
       "            var render_items = [{\"docid\":\"39170efa-0734-45bc-991c-ef6ba51ae592\",\"elementid\":\"045b029d-8ad9-4528-bc5f-f50c8c2d5a1a\",\"modelid\":\"0f7ef1b4-0241-4005-890d-1ed7382024c0\"}];\n",
       "            \n",
       "            Bokeh.embed.embed_items(docs_json, render_items);\n",
       "        });\n",
       "      },\n",
       "      function(Bokeh) {\n",
       "      }\n",
       "    ];\n",
       "  \n",
       "    function run_inline_js() {\n",
       "      \n",
       "      if ((window.Bokeh !== undefined) || (force === \"1\")) {\n",
       "        for (var i = 0; i < inline_js.length; i++) {\n",
       "          inline_js[i](window.Bokeh);\n",
       "        }if (force === \"1\") {\n",
       "          display_loaded();\n",
       "        }} else if (Date.now() < window._bokeh_timeout) {\n",
       "        setTimeout(run_inline_js, 100);\n",
       "      } else if (!window._bokeh_failed_load) {\n",
       "        console.log(\"Bokeh: BokehJS failed to load within specified timeout.\");\n",
       "        window._bokeh_failed_load = true;\n",
       "      } else if (!force) {\n",
       "        var cell = $(\"#045b029d-8ad9-4528-bc5f-f50c8c2d5a1a\").parents('.cell').data().cell;\n",
       "        cell.output_area.append_execute_result(NB_LOAD_WARNING)\n",
       "      }\n",
       "  \n",
       "    }\n",
       "  \n",
       "    if (window._bokeh_is_loading === 0) {\n",
       "      console.log(\"Bokeh: BokehJS loaded, going straight to plotting\");\n",
       "      run_inline_js();\n",
       "    } else {\n",
       "      load_libs(js_urls, function() {\n",
       "        console.log(\"Bokeh: BokehJS plotting callback run at\", now());\n",
       "        run_inline_js();\n",
       "      });\n",
       "    }\n",
       "  }(this));\n",
       "</script>"
      ]
     },
     "metadata": {},
     "output_type": "display_data"
    }
   ],
   "source": [
    "# Plotining using bokeh\n",
    "#TOOLS = 'hover,box_zoom,box_select,crosshair,resize,reset,DecisionTreeRegressor_select,pan,save,poly_select,tap,wheel_zoom,undo'\n",
    "TOOLS = 'box_zoom,box_select,crosshair,resize,reset,lasso_select,pan,save,poly_select,tap,wheel_zoom,undo'\n",
    "p = figure(plot_width=500, plot_height=500, title=\"Residual plot on the training data\", tools=TOOLS)\n",
    "p.scatter(predicted, (predicted - Y),x=\"jjj\", marker=\"o\", color=\"#80B1D3\", line_width=3)\n",
    "p.title.align = \"center\"\n",
    "p.xaxis.axis_label = \"Predicted\"\n",
    "p.xaxis.axis_label_text_color = \"#aa6666\"\n",
    "#p.xaxis.axis_label_standoff = 30\n",
    "p.xaxis.major_tick_line_color = \"firebrick\"\n",
    "p.xaxis.major_tick_line_width = 3\n",
    "p.xaxis.minor_tick_line_color = \"orange\"\n",
    "p.yaxis.axis_label = \"Residuals\"\n",
    "p.yaxis.axis_label_text_font_style = \"italic\"\n",
    "p.yaxis.axis_label_text_color = \"#aa6666\"\n",
    "p.background_fill_color = \"beige\"\n",
    "p.background_fill_alpha = 0.5\n",
    "#p.line([2,38], [0, 0], line_dash=\"4 4\", line_width=2, color='red')\n",
    "show(p)"
   ]
  },
  {
   "cell_type": "markdown",
   "metadata": {},
   "source": [
    "## Pipeline"
   ]
  },
  {
   "cell_type": "markdown",
   "metadata": {},
   "source": [
    "The best to deliver the model by pipeline the operation then at deployment can be done in one model."
   ]
  },
  {
   "cell_type": "markdown",
   "metadata": {
    "collapsed": true
   },
   "source": [
    "  I used two ways to check the pipeline so any one can be fine"
   ]
  },
  {
   "cell_type": "code",
   "execution_count": 27,
   "metadata": {
    "collapsed": false
   },
   "outputs": [
    {
     "name": "stdout",
     "output_type": "stream",
     "text": [
      "0.869138866471\n",
      "Scoring according to mean_squared_error\n",
      "[ -5.67823917 -14.44753708 -17.031294   -18.32399353  -9.30436247\n",
      "  -9.43820964 -10.33748657  -5.08487736 -11.45518177  -7.0732898 ]\n",
      "\n",
      " Mean      Standard deviation\n",
      "-10.82      4.32\n",
      "[ True  True  True  True  True  True  True]\n",
      "R-squared =  0.869138866471\n"
     ]
    }
   ],
   "source": [
    "# Use Pipeline\n",
    "# ANOVA \n",
    "from sklearn.pipeline import Pipeline\n",
    "from sklearn.feature_selection import SelectKBest, f_regression\n",
    "anova_filter = SelectKBest(f_regression, k=7)\n",
    "LR = AdaBoostRegressor(n_estimators = 5, loss = \"exponential\")\n",
    "\n",
    "anova_LinReg = Pipeline([('scaler_Input',scaler), ('anova', anova_filter), ('LinReg', LR)])\n",
    "# You can set the parameters using the names issued\n",
    "# For instance, fit using a k of 10 in the SelectKBest\n",
    "anova_LinReg.set_params(anova__k=7).fit(new_data, Y)\n",
    "prediction = anova_LinReg.predict(new_data)\n",
    "print anova_LinReg.score(new_data, Y)                        \n",
    "# getting the selected features chosen by anova_filter\n",
    "results = cross_validation.cross_val_score(anova_LinReg, new_data, Y, cv=kfold, scoring=scoring)\n",
    "print 'Scoring according to mean_squared_error'\n",
    "print results\n",
    "print '\\n Mean      Standard deviation'\n",
    "print(\"%.2f      %.2f\" % (results.mean(), results.std()))\n",
    "print anova_LinReg.named_steps['anova'].get_support()\n",
    "r_squared = r2_score(Y, prediction, multioutput='variance_weighted')\n",
    "print 'R-squared = ',r_squared"
   ]
  },
  {
   "cell_type": "code",
   "execution_count": 28,
   "metadata": {
    "collapsed": false
   },
   "outputs": [
    {
     "name": "stdout",
     "output_type": "stream",
     "text": [
      "R-squared =  0.879483294688\n"
     ]
    }
   ],
   "source": [
    "# Using make_pipeline\n",
    "from sklearn.pipeline import make_pipeline\n",
    "\n",
    "# ANOVA SVM-C\n",
    "# 1) anova filter, take 3 best ranked features\n",
    "anova_filter = SelectKBest(f_regression, k=7)\n",
    "anova_AdaBoostDecisionTreeRegressor = make_pipeline(scaler, anova_filter, LR)\n",
    "anova_AdaBoostDecisionTreeRegressor.fit(new_data, Y)\n",
    "prediction = anova_AdaBoostDecisionTreeRegressor.predict(new_data)\n",
    "r_squared = r2_score(Y, prediction, multioutput='variance_weighted')\n",
    "print 'R-squared = ',r_squared"
   ]
  },
  {
   "cell_type": "markdown",
   "metadata": {},
   "source": [
    "### Save the Pipeline model for developement"
   ]
  },
  {
   "cell_type": "code",
   "execution_count": 29,
   "metadata": {
    "collapsed": false
   },
   "outputs": [
    {
     "data": {
      "text/plain": [
       "['anova_AdaBoostDecisionTreeRegressor.pkl',\n",
       " 'anova_AdaBoostDecisionTreeRegressor.pkl_01.npy',\n",
       " 'anova_AdaBoostDecisionTreeRegressor.pkl_02.npy',\n",
       " 'anova_AdaBoostDecisionTreeRegressor.pkl_03.npy',\n",
       " 'anova_AdaBoostDecisionTreeRegressor.pkl_04.npy',\n",
       " 'anova_AdaBoostDecisionTreeRegressor.pkl_05.npy',\n",
       " 'anova_AdaBoostDecisionTreeRegressor.pkl_06.npy',\n",
       " 'anova_AdaBoostDecisionTreeRegressor.pkl_07.npy',\n",
       " 'anova_AdaBoostDecisionTreeRegressor.pkl_08.npy',\n",
       " 'anova_AdaBoostDecisionTreeRegressor.pkl_09.npy',\n",
       " 'anova_AdaBoostDecisionTreeRegressor.pkl_10.npy',\n",
       " 'anova_AdaBoostDecisionTreeRegressor.pkl_11.npy',\n",
       " 'anova_AdaBoostDecisionTreeRegressor.pkl_12.npy',\n",
       " 'anova_AdaBoostDecisionTreeRegressor.pkl_13.npy',\n",
       " 'anova_AdaBoostDecisionTreeRegressor.pkl_14.npy',\n",
       " 'anova_AdaBoostDecisionTreeRegressor.pkl_15.npy',\n",
       " 'anova_AdaBoostDecisionTreeRegressor.pkl_16.npy',\n",
       " 'anova_AdaBoostDecisionTreeRegressor.pkl_17.npy',\n",
       " 'anova_AdaBoostDecisionTreeRegressor.pkl_18.npy',\n",
       " 'anova_AdaBoostDecisionTreeRegressor.pkl_19.npy',\n",
       " 'anova_AdaBoostDecisionTreeRegressor.pkl_20.npy',\n",
       " 'anova_AdaBoostDecisionTreeRegressor.pkl_21.npy',\n",
       " 'anova_AdaBoostDecisionTreeRegressor.pkl_22.npy']"
      ]
     },
     "execution_count": 29,
     "metadata": {},
     "output_type": "execute_result"
    }
   ],
   "source": [
    "# save the model scaler to the desk\n",
    "from sklearn.externals import joblib\n",
    "joblib.dump(anova_AdaBoostDecisionTreeRegressor, 'anova_AdaBoostDecisionTreeRegressor.pkl') "
   ]
  },
  {
   "cell_type": "code",
   "execution_count": 30,
   "metadata": {
    "collapsed": false
   },
   "outputs": [
    {
     "name": "stdout",
     "output_type": "stream",
     "text": [
      " =================================================================>>>>> done\n",
      "R-squared =  0.879483294688\n"
     ]
    }
   ],
   "source": [
    "# Test the model if it is work\n",
    "anova_DecisionTreeRegressorTest = joblib.load('anova_AdaBoostDecisionTreeRegressor.pkl')\n",
    "NewPred = anova_DecisionTreeRegressorTest.predict(new_data)\n",
    "print \" =================================================================>>>>> done\"\n",
    "r_squared = r2_score(Y, NewPred, multioutput='variance_weighted')\n",
    "print 'R-squared = ',r_squared"
   ]
  },
  {
   "cell_type": "code",
   "execution_count": 31,
   "metadata": {
    "collapsed": false
   },
   "outputs": [
    {
     "name": "stdout",
     "output_type": "stream",
     "text": [
      "Point of training data before normalization\n",
      "[  4.00000000e+00   9.70000000e+01   5.10000000e+01   2.13000000e+03\n",
      "   2.46000000e+01   8.20000000e+01   2.00000000e+00]\n",
      "\n",
      "The read target of the data =  44.0\n",
      "\n",
      "The Predicted target of the data =  [ 39.95]\n"
     ]
    }
   ],
   "source": [
    "# test on single data point, randomly choose point number 55\n",
    "print 'Point of training data before normalization\\n',new_data[55]\n",
    "print '\\nThe read target of the data = ', Y[55]\n",
    "NewPred = anova_DecisionTreeRegressorTest.predict([new_data[55]])\n",
    "print '\\nThe Predicted target of the data = ', NewPred"
   ]
  },
  {
   "cell_type": "markdown",
   "metadata": {},
   "source": [
    "## Conclusion "
   ]
  }
 ],
 "metadata": {
  "kernelspec": {
   "display_name": "Python 2",
   "language": "python",
   "name": "python2"
  },
  "language_info": {
   "codemirror_mode": {
    "name": "ipython",
    "version": 2
   },
   "file_extension": ".py",
   "mimetype": "text/x-python",
   "name": "python",
   "nbconvert_exporter": "python",
   "pygments_lexer": "ipython2",
   "version": "2.7.12"
  }
 },
 "nbformat": 4,
 "nbformat_minor": 0
}
