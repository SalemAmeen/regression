{
 "cells": [
  {
   "cell_type": "markdown",
   "metadata": {},
   "source": [
    "Salem Ameen, PhD student at Salford University\n",
    "\n",
    "### Auto MPG\n",
    "\n",
    "\n",
    "\n",
    "K-Nearest Neighbors Regression"
   ]
  },
  {
   "cell_type": "markdown",
   "metadata": {},
   "source": [
    "# Import the Libraries"
   ]
  },
  {
   "cell_type": "code",
   "execution_count": 1,
   "metadata": {
    "collapsed": false
   },
   "outputs": [
    {
     "data": {
      "text/html": [
       "\n",
       "    <div class=\"bk-root\">\n",
       "        <a href=\"http://bokeh.pydata.org\" target=\"_blank\" class=\"bk-logo bk-logo-small bk-logo-notebook\"></a>\n",
       "        <span id=\"a74604ef-5ed9-45fc-acfc-ffd162e4029c\">Loading BokehJS ...</span>\n",
       "    </div>"
      ]
     },
     "metadata": {},
     "output_type": "display_data"
    },
    {
     "data": {
      "application/javascript": [
       "\n",
       "(function(global) {\n",
       "  function now() {\n",
       "    return new Date();\n",
       "  }\n",
       "\n",
       "  var force = \"1\";\n",
       "\n",
       "  if (typeof (window._bokeh_onload_callbacks) === \"undefined\" || force !== \"\") {\n",
       "    window._bokeh_onload_callbacks = [];\n",
       "    window._bokeh_is_loading = undefined;\n",
       "  }\n",
       "\n",
       "\n",
       "  \n",
       "  if (typeof (window._bokeh_timeout) === \"undefined\" || force !== \"\") {\n",
       "    window._bokeh_timeout = Date.now() + 5000;\n",
       "    window._bokeh_failed_load = false;\n",
       "  }\n",
       "\n",
       "  var NB_LOAD_WARNING = {'data': {'text/html':\n",
       "     \"<div style='background-color: #fdd'>\\n\"+\n",
       "     \"<p>\\n\"+\n",
       "     \"BokehJS does not appear to have successfully loaded. If loading BokehJS from CDN, this \\n\"+\n",
       "     \"may be due to a slow or bad network connection. Possible fixes:\\n\"+\n",
       "     \"</p>\\n\"+\n",
       "     \"<ul>\\n\"+\n",
       "     \"<li>re-rerun `output_notebook()` to attempt to load from CDN again, or</li>\\n\"+\n",
       "     \"<li>use INLINE resources instead, as so:</li>\\n\"+\n",
       "     \"</ul>\\n\"+\n",
       "     \"<code>\\n\"+\n",
       "     \"from bokeh.resources import INLINE\\n\"+\n",
       "     \"output_notebook(resources=INLINE)\\n\"+\n",
       "     \"</code>\\n\"+\n",
       "     \"</div>\"}};\n",
       "\n",
       "  function display_loaded() {\n",
       "    if (window.Bokeh !== undefined) {\n",
       "      Bokeh.$(\"#a74604ef-5ed9-45fc-acfc-ffd162e4029c\").text(\"BokehJS successfully loaded.\");\n",
       "    } else if (Date.now() < window._bokeh_timeout) {\n",
       "      setTimeout(display_loaded, 100)\n",
       "    }\n",
       "  }\n",
       "\n",
       "  function run_callbacks() {\n",
       "    window._bokeh_onload_callbacks.forEach(function(callback) { callback() });\n",
       "    delete window._bokeh_onload_callbacks\n",
       "    console.info(\"Bokeh: all callbacks have finished\");\n",
       "  }\n",
       "\n",
       "  function load_libs(js_urls, callback) {\n",
       "    window._bokeh_onload_callbacks.push(callback);\n",
       "    if (window._bokeh_is_loading > 0) {\n",
       "      console.log(\"Bokeh: BokehJS is being loaded, scheduling callback at\", now());\n",
       "      return null;\n",
       "    }\n",
       "    if (js_urls == null || js_urls.length === 0) {\n",
       "      run_callbacks();\n",
       "      return null;\n",
       "    }\n",
       "    console.log(\"Bokeh: BokehJS not loaded, scheduling load and callback at\", now());\n",
       "    window._bokeh_is_loading = js_urls.length;\n",
       "    for (var i = 0; i < js_urls.length; i++) {\n",
       "      var url = js_urls[i];\n",
       "      var s = document.createElement('script');\n",
       "      s.src = url;\n",
       "      s.async = false;\n",
       "      s.onreadystatechange = s.onload = function() {\n",
       "        window._bokeh_is_loading--;\n",
       "        if (window._bokeh_is_loading === 0) {\n",
       "          console.log(\"Bokeh: all BokehJS libraries loaded\");\n",
       "          run_callbacks()\n",
       "        }\n",
       "      };\n",
       "      s.onerror = function() {\n",
       "        console.warn(\"failed to load library \" + url);\n",
       "      };\n",
       "      console.log(\"Bokeh: injecting script tag for BokehJS library: \", url);\n",
       "      document.getElementsByTagName(\"head\")[0].appendChild(s);\n",
       "    }\n",
       "  };var element = document.getElementById(\"a74604ef-5ed9-45fc-acfc-ffd162e4029c\");\n",
       "  if (element == null) {\n",
       "    console.log(\"Bokeh: ERROR: autoload.js configured with elementid 'a74604ef-5ed9-45fc-acfc-ffd162e4029c' but no matching script tag was found. \")\n",
       "    return false;\n",
       "  }\n",
       "\n",
       "  var js_urls = ['https://cdn.pydata.org/bokeh/release/bokeh-0.12.2.min.js', 'https://cdn.pydata.org/bokeh/release/bokeh-widgets-0.12.2.min.js', 'https://cdn.pydata.org/bokeh/release/bokeh-compiler-0.12.2.min.js'];\n",
       "\n",
       "  var inline_js = [\n",
       "    function(Bokeh) {\n",
       "      Bokeh.set_log_level(\"info\");\n",
       "    },\n",
       "    \n",
       "    function(Bokeh) {\n",
       "      \n",
       "      Bokeh.$(\"#a74604ef-5ed9-45fc-acfc-ffd162e4029c\").text(\"BokehJS is loading...\");\n",
       "    },\n",
       "    function(Bokeh) {\n",
       "      console.log(\"Bokeh: injecting CSS: https://cdn.pydata.org/bokeh/release/bokeh-0.12.2.min.css\");\n",
       "      Bokeh.embed.inject_css(\"https://cdn.pydata.org/bokeh/release/bokeh-0.12.2.min.css\");\n",
       "      console.log(\"Bokeh: injecting CSS: https://cdn.pydata.org/bokeh/release/bokeh-widgets-0.12.2.min.css\");\n",
       "      Bokeh.embed.inject_css(\"https://cdn.pydata.org/bokeh/release/bokeh-widgets-0.12.2.min.css\");\n",
       "    }\n",
       "  ];\n",
       "\n",
       "  function run_inline_js() {\n",
       "    \n",
       "    if ((window.Bokeh !== undefined) || (force === \"1\")) {\n",
       "      for (var i = 0; i < inline_js.length; i++) {\n",
       "        inline_js[i](window.Bokeh);\n",
       "      }if (force === \"1\") {\n",
       "        display_loaded();\n",
       "      }} else if (Date.now() < window._bokeh_timeout) {\n",
       "      setTimeout(run_inline_js, 100);\n",
       "    } else if (!window._bokeh_failed_load) {\n",
       "      console.log(\"Bokeh: BokehJS failed to load within specified timeout.\");\n",
       "      window._bokeh_failed_load = true;\n",
       "    } else if (!force) {\n",
       "      var cell = $(\"#a74604ef-5ed9-45fc-acfc-ffd162e4029c\").parents('.cell').data().cell;\n",
       "      cell.output_area.append_execute_result(NB_LOAD_WARNING)\n",
       "    }\n",
       "\n",
       "  }\n",
       "\n",
       "  if (window._bokeh_is_loading === 0) {\n",
       "    console.log(\"Bokeh: BokehJS loaded, going straight to plotting\");\n",
       "    run_inline_js();\n",
       "  } else {\n",
       "    load_libs(js_urls, function() {\n",
       "      console.log(\"Bokeh: BokehJS plotting callback run at\", now());\n",
       "      run_inline_js();\n",
       "    });\n",
       "  }\n",
       "}(this));"
      ]
     },
     "metadata": {},
     "output_type": "display_data"
    }
   ],
   "source": [
    "import numpy as np\n",
    "import pandas\n",
    "from numpy import *\n",
    "import time\n",
    "import sys\n",
    "import pandas as pd\n",
    "import matplotlib.pyplot as plt\n",
    "from sklearn import feature_selection\n",
    "from sklearn.neighbors import KNeighborsRegressor\n",
    "from sklearn.learning_curve import learning_curve, validation_curve\n",
    "from sklearn.cross_validation import cross_val_predict\n",
    "from sklearn import metrics, grid_search, cross_validation\n",
    "from IPython.display import set_matplotlib_formats\n",
    "from bokeh.plotting import figure, show, output_notebook\n",
    "from sklearn.grid_search import GridSearchCV, RandomizedSearchCV\n",
    "from sklearn.metrics import r2_score\n",
    "from bokeh.layouts import gridplot\n",
    "output_notebook()\n",
    "set_matplotlib_formats('png', 'pdf')\n",
    "%matplotlib inline\n",
    "plt.rcParams['figure.figsize'] = (6, 6)"
   ]
  },
  {
   "cell_type": "markdown",
   "metadata": {},
   "source": [
    "# Load data"
   ]
  },
  {
   "cell_type": "markdown",
   "metadata": {},
   "source": [
    "In the previous file we have not change the data as there is no missing value or add any new parameters so it can be downloaded from the web directly. "
   ]
  },
  {
   "cell_type": "code",
   "execution_count": 2,
   "metadata": {
    "collapsed": false
   },
   "outputs": [
    {
     "name": "stdout",
     "output_type": "stream",
     "text": [
      "Number of examples 398\n"
     ]
    }
   ],
   "source": [
    "url = 'http://archive.ics.uci.edu/ml/machine-learning-databases/auto-mpg/auto-mpg.data'\n",
    "names = ['mpg', 'cylinders', 'displacement', 'horsepower', 'weight', 'acceleration', 'year','origin','name']\n",
    "feature_names = ['mpg', 'cylinders', 'displacement', 'horsepower', 'weight', 'acceleration', 'year','origin']\n",
    "feature_cols = ['mpg', 'cylinders', 'displacement', 'horsepower', 'weight', 'acceleration', 'year','origin']\n",
    "data = pd.read_csv(url, sep='\\s+', names = names)\n",
    "data = data.drop('name',1)\n",
    "from sklearn import preprocessing\n",
    "\n",
    "def number_encode_features(df):\n",
    "    result = df.copy()\n",
    "    encoders = {}\n",
    "    for column in result.columns:\n",
    "        if result.dtypes[column] == np.object:\n",
    "            encoders[column] = preprocessing.LabelEncoder()\n",
    "            result[column] = encoders[column].fit_transform(result[column])\n",
    "    return result, encoders\n",
    "\n",
    "data, _ = number_encode_features(data)\n",
    "\n",
    "dataset = data.values\n",
    "X = dataset[:,1:8]\n",
    "Y = dataset[:,0]\n",
    "print 'Number of examples',len(X)"
   ]
  },
  {
   "cell_type": "code",
   "execution_count": 3,
   "metadata": {
    "collapsed": false
   },
   "outputs": [
    {
     "name": "stdout",
     "output_type": "stream",
     "text": [
      "Number of training examples 318\n",
      "Number of validation examples 80\n"
     ]
    }
   ],
   "source": [
    "# Make developement dataset for genrilization and final testing\n",
    "from sklearn.cross_validation import train_test_split\n",
    "# Extracting 20% testing data\n",
    "X_train, X_test, y_train, y_test = train_test_split(\n",
    "    X, Y, test_size=0.20, random_state=0)\n",
    "X = X_train\n",
    "Y = y_train\n",
    "new_data      = X_train\n",
    "new_test_data = X_test\n",
    "print 'Number of training examples',len(X_train)\n",
    "print 'Number of validation examples',len(X_test)"
   ]
  },
  {
   "cell_type": "markdown",
   "metadata": {},
   "source": [
    "Number of training data is very small so we need to use cross validation instead of spareate another validation data."
   ]
  },
  {
   "cell_type": "markdown",
   "metadata": {},
   "source": [
    "From the previous visulization the data has no missing value but has many outlier and some sparisty"
   ]
  },
  {
   "cell_type": "markdown",
   "metadata": {},
   "source": [
    "# Ranking of the feature's importance to the target"
   ]
  },
  {
   "cell_type": "code",
   "execution_count": 4,
   "metadata": {
    "collapsed": false
   },
   "outputs": [
    {
     "name": "stdout",
     "output_type": "stream",
     "text": [
      "mpg \t0.99960400082\n",
      "cylinders \t0.604289135851\n",
      "displacement \t0.753504678067\n",
      "horsepower \t0.720689820909\n",
      "weight \t0.770012252711\n",
      "acceleration \t0.376449729469\n",
      "year \t0.0303337135503\n",
      "origin \t0.263694562392\n"
     ]
    }
   ],
   "source": [
    "# Using just correlation coefficient even in prevoius file we show them using data frame\n",
    "for col in feature_cols:\n",
    "    lm = KNeighborsRegressor()\n",
    "    lm.fit(data[[col]], data['mpg'])\n",
    "    print col,'\\t', lm.score(data[[col]], data['mpg'])"
   ]
  },
  {
   "cell_type": "code",
   "execution_count": 5,
   "metadata": {
    "collapsed": false
   },
   "outputs": [
    {
     "name": "stdout",
     "output_type": "stream",
     "text": [
      "Feature Name      Score         Pvalue\n",
      "mpg \t\t8.91712726219e+17 \t0.0\n",
      "cylinders \t\t597.077047852 \t4.50399224618e-81\n",
      "displacement \t\t724.994303368 \t1.65588891019e-91\n",
      "horsepower \t\t101.546001862 \t2.06258705842e-21\n",
      "weight \t\t888.850682648 \t2.97279956405e-103\n",
      "acceleration \t\t84.9577002497 \t1.82309153508e-18\n",
      "year \t\t199.98200802 \t4.84493581337e-37\n",
      "origin \t\t184.199639369 \t1.01148221023e-34\n"
     ]
    }
   ],
   "source": [
    "# Randing the important features to the target\n",
    "model = feature_selection.SelectKBest(score_func=feature_selection.f_regression,k=4)\n",
    "results = model.fit(data[feature_cols], data['mpg'])\n",
    "k=0\n",
    "print 'Feature Name      Score         Pvalue'\n",
    "for feat in feature_cols:\n",
    "    print feat,'\\t\\t',results.scores_[k],'\\t',results.pvalues_[k]\n",
    "    k=k+1\n"
   ]
  },
  {
   "cell_type": "markdown",
   "metadata": {},
   "source": [
    "# Set the parameters for cross validation"
   ]
  },
  {
   "cell_type": "code",
   "execution_count": 6,
   "metadata": {
    "collapsed": true
   },
   "outputs": [],
   "source": [
    "num_folds = 10\n",
    "num_instances = len(X)\n",
    "seed = 7\n",
    "kfold = cross_validation.KFold(n=num_instances, n_folds=num_folds, random_state=seed)"
   ]
  },
  {
   "cell_type": "markdown",
   "metadata": {},
   "source": [
    " # Set the parameters for bias-variance dilemma"
   ]
  },
  {
   "cell_type": "code",
   "execution_count": 7,
   "metadata": {
    "collapsed": false
   },
   "outputs": [],
   "source": [
    "def plot_learning_curve(estimator, title, X, y, ylim=None, cv=None,\n",
    "                        n_jobs=1, train_sizes=np.linspace(.1, 1.0, 5)):\n",
    "    plt.figure()\n",
    "    plt.title(title)\n",
    "    if ylim is not None:\n",
    "        plt.ylim(*ylim)\n",
    "    plt.xlabel(\"Training examples\")\n",
    "    plt.ylabel(\"Score\")\n",
    "    train_sizes, train_scores, test_scores = learning_curve(\n",
    "        estimator, X, y, cv=cv, n_jobs=n_jobs, train_sizes=train_sizes)\n",
    "    train_scores_mean = np.mean(train_scores, axis=1)\n",
    "    train_scores_std = np.std(train_scores, axis=1)\n",
    "    test_scores_mean = np.mean(test_scores, axis=1)\n",
    "    test_scores_std = np.std(test_scores, axis=1)\n",
    "    plt.grid()\n",
    "\n",
    "    plt.fill_between(train_sizes, train_scores_mean - train_scores_std,\n",
    "                     train_scores_mean + train_scores_std, alpha=0.1,\n",
    "                     color=\"r\")\n",
    "    plt.fill_between(train_sizes, test_scores_mean - test_scores_std,\n",
    "                     test_scores_mean + test_scores_std, alpha=0.1, color=\"g\")\n",
    "    plt.plot(train_sizes, train_scores_mean, 'o-', color=\"r\",\n",
    "             label=\"Training score\")\n",
    "    plt.plot(train_sizes, test_scores_mean, 'o-', color=\"g\",\n",
    "             label=\"Cross-validation score\")\n",
    "\n",
    "    plt.legend(loc=\"best\")\n",
    "    return plt"
   ]
  },
  {
   "cell_type": "markdown",
   "metadata": {},
   "source": [
    "# Preprocessing the data and save both the model and preprocessed data"
   ]
  },
  {
   "cell_type": "code",
   "execution_count": 8,
   "metadata": {
    "collapsed": true
   },
   "outputs": [],
   "source": [
    "# According to the nature of the data spasity and there is outliter RobustScaler class is recomandit \n",
    "# but when I tried both of them the result seems is same\n",
    "from sklearn.preprocessing import StandardScaler\n",
    "scaler = preprocessing.StandardScaler().fit(X_train)"
   ]
  },
  {
   "cell_type": "code",
   "execution_count": 9,
   "metadata": {
    "collapsed": true
   },
   "outputs": [],
   "source": [
    "X_train = scaler.transform(X_train)\n",
    "X_test = scaler.transform(X_test) # use same transform for testing data\n",
    "X = X_train"
   ]
  },
  {
   "cell_type": "code",
   "execution_count": 10,
   "metadata": {
    "collapsed": true
   },
   "outputs": [],
   "source": [
    "# save transformed data\n",
    "np.save('./data/X_train', X_train)\n",
    "np.save('./data/y_train', y_train)\n",
    "np.save('./data/X_test', X_test)\n",
    "np.save('./data/y_test', y_test)"
   ]
  },
  {
   "cell_type": "code",
   "execution_count": 11,
   "metadata": {
    "collapsed": false
   },
   "outputs": [
    {
     "data": {
      "text/plain": [
       "['scaler.pkl', 'scaler.pkl_01.npy', 'scaler.pkl_02.npy', 'scaler.pkl_03.npy']"
      ]
     },
     "execution_count": 11,
     "metadata": {},
     "output_type": "execute_result"
    }
   ],
   "source": [
    "# save the model scaler to the desk\n",
    "from sklearn.externals import joblib\n",
    "joblib.dump(scaler, 'scaler.pkl') "
   ]
  },
  {
   "cell_type": "code",
   "execution_count": 12,
   "metadata": {
    "collapsed": false
   },
   "outputs": [
    {
     "name": "stdout",
     "output_type": "stream",
     "text": [
      " =================================================================>>>>> done\n",
      "[[  1.49526939e+00   1.55114495e+00  -7.35914828e-01   1.38121932e+00\n",
      "   -9.80600673e-01  -1.13752513e+00  -7.33011713e-01]\n",
      " [ -8.52857354e-01  -5.04710772e-01   6.08839749e-01  -4.99341807e-01\n",
      "    5.02543270e-01  -5.89029314e-01  -7.33011713e-01]\n",
      " [  1.49526939e+00   1.07371874e+00  -9.71246879e-01   1.57674079e+00\n",
      "    1.31757284e-01  -1.13752513e+00  -7.33011713e-01]\n",
      " [ -8.52857354e-01  -6.99578613e-01   1.01226612e+00   1.84938650e-02\n",
      "    1.42950823e+00  -1.13752513e+00   5.06869802e-01]\n",
      " [  3.21206016e-01   3.91681296e-01  -1.71086190e+00   3.84652269e-01\n",
      "   -5.36357086e-02  -1.41177304e+00  -7.33011713e-01]\n",
      " [ -8.52857354e-01  -1.16726143e+00   4.40745427e-01  -1.60018698e+00\n",
      "    8.73329255e-01  -1.41177304e+00   1.74675132e+00]\n",
      " [ -8.52857354e-01  -1.03085394e+00   3.06269969e-01  -1.17122470e+00\n",
      "   -1.64871504e-01   7.82210231e-01   1.74675132e+00]\n",
      " [ -8.52857354e-01  -5.04710772e-01   1.11312272e+00  -6.58128946e-01\n",
      "    1.42950823e+00  -1.13752513e+00  -7.33011713e-01]\n",
      " [  1.49526939e+00   2.02857116e+00  -8.03152557e-01   9.45147172e-01\n",
      "   -2.27835162e+00  -1.68602095e+00  -7.33011713e-01]\n",
      " [  3.21206016e-01  -1.83178834e-01  -1.50914871e+00  -2.82490713e-01\n",
      "   -1.12891507e+00   1.33070605e+00  -7.33011713e-01]\n",
      " [ -8.52857354e-01  -1.04059733e+00   1.41569250e+00  -1.33712172e+00\n",
      "    6.13779065e-01   1.05645814e+00   5.06869802e-01]\n",
      " [ -8.52857354e-01  -1.03085394e+00   3.06269969e-01  -1.11908564e+00\n",
      "    2.80071678e-01   1.05645814e+00   1.74675132e+00]\n",
      " [  3.21206016e-01   5.67062353e-01   1.04588499e+00   6.82629684e-02\n",
      "    3.17150277e-01  -8.63277223e-01  -7.33011713e-01]\n",
      " [ -8.52857354e-01  -9.23676630e-01   7.09379184e-02  -8.40615659e-01\n",
      "    2.91265218e+00  -1.13752513e+00   5.06869802e-01]\n",
      " [  1.49526939e+00   1.22961301e+00  -9.04009151e-01   1.39425408e+00\n",
      "   -7.21050483e-01   2.33714413e-01  -7.33011713e-01]\n",
      " [ -8.52857354e-01  -9.13933237e-01   7.76934072e-01  -1.24232342e+00\n",
      "   -4.61500293e-01   7.82210231e-01  -7.33011713e-01]\n",
      " [ -8.52857354e-01  -7.09322005e-01   8.44171801e-01  -2.88415606e-01\n",
      "    1.39242964e+00   1.60495396e+00  -7.33011713e-01]\n",
      " [ -8.52857354e-01  -3.97533459e-01   1.11312272e+00  -2.70640927e-01\n",
      "    8.73329255e-01   1.60495396e+00  -7.33011713e-01]\n",
      " [  3.21206016e-01   3.23477552e-01  -1.61000530e+00   7.69770331e-01\n",
      "    3.17150277e-01  -5.89029314e-01  -7.33011713e-01]\n",
      " [ -8.52857354e-01  -9.82136982e-01   4.40745427e-01  -9.87553012e-01\n",
      "   -3.50264497e-01   7.82210231e-01   5.06869802e-01]\n",
      " [  1.49526939e+00   2.02857116e+00  -4.33345048e-01   1.61347513e+00\n",
      "   -1.27722946e+00   2.33714413e-01  -7.33011713e-01]\n",
      " [ -8.52857354e-01  -5.04710772e-01   7.09696343e-01  -4.40092874e-01\n",
      "    1.05872225e+00  -3.14781405e-01  -7.33011713e-01]\n",
      " [ -8.52857354e-01  -7.09322005e-01   1.34845477e+00  -4.95786871e-01\n",
      "    5.02543270e-01  -3.14781405e-01   1.74675132e+00]\n",
      " [ -8.52857354e-01  -6.89835221e-01  -1.47552985e+00  -3.60151531e-02\n",
      "   -4.24421694e-01  -1.13752513e+00   5.06869802e-01]\n",
      " [ -8.52857354e-01  -8.45729493e-01   4.74364292e-01  -9.63853439e-01\n",
      "   -2.76107300e-01   7.82210231e-01  -7.33011713e-01]\n",
      " [  3.21206016e-01  -2.31895795e-01  -1.37467325e+00  -7.51194487e-02\n",
      "   -1.12891507e+00   1.33070605e+00   1.74675132e+00]\n",
      " [ -8.52857354e-01  -9.13933237e-01   3.39888834e-01  -1.37859597e+00\n",
      "   -4.61500293e-01   5.07962322e-01  -7.33011713e-01]\n",
      " [ -8.52857354e-01  -7.77525749e-01   1.04588499e+00  -6.73533669e-01\n",
      "    8.73329255e-01   1.60495396e+00  -7.33011713e-01]\n",
      " [ -8.52857354e-01  -5.53427732e-01   9.11409529e-01  -6.85383455e-01\n",
      "   -1.01767927e+00   1.33070605e+00  -7.33011713e-01]\n",
      " [  3.21206016e-01   6.45009489e-01  -1.50914871e+00   7.92284926e-01\n",
      "    8.73329255e-01  -5.89029314e-01  -7.33011713e-01]\n",
      " [  3.21206016e-01   3.23477552e-01  -1.50914871e+00   7.78065182e-01\n",
      "    1.13287945e+00   5.07962322e-01  -7.33011713e-01]\n",
      " [ -8.52857354e-01  -7.09322005e-01   1.18036045e+00  -6.27319501e-01\n",
      "   -2.39028701e-01   1.05645814e+00   1.74675132e+00]\n",
      " [  3.21206016e-01   5.67062353e-01   5.41602021e-01   5.55289195e-01\n",
      "    1.98568721e+00  -3.14781405e-01  -7.33011713e-01]\n",
      " [ -8.52857354e-01  -1.04059733e+00   4.74364292e-01  -1.20677406e+00\n",
      "    4.28386073e-01   2.33714413e-01   1.74675132e+00]\n",
      " [  3.21206016e-01   3.81937904e-01  -1.50914871e+00   5.35144558e-01\n",
      "    5.76000871e-02   1.33070605e+00  -7.33011713e-01]\n",
      " [ -8.52857354e-01  -5.63171124e-01   1.31483590e+00  -3.09745222e-01\n",
      "   -7.95207680e-01  -3.14781405e-01   1.74675132e+00]\n",
      " [  3.21206016e-01   3.91681296e-01   1.11312272e+00   2.93408913e-01\n",
      "    5.02543270e-01  -3.14781405e-01  -7.33011713e-01]\n",
      " [  1.49526939e+00   1.54140156e+00  -7.02295964e-01   1.65494939e+00\n",
      "   -2.76107300e-01   7.82210231e-01  -7.33011713e-01]\n",
      " [ -8.52857354e-01  -1.00162377e+00   5.07983156e-01  -1.23047364e+00\n",
      "   -6.09814687e-01   7.82210231e-01   5.06869802e-01]\n",
      " [  1.49526939e+00   2.31112953e+00  -3.66107319e-01   2.35645675e+00\n",
      "   -1.53677965e+00  -8.63277223e-01  -7.33011713e-01]\n",
      " [  1.49526939e+00   2.55471433e+00  -1.98012997e-01   1.64783951e+00\n",
      "   -2.46374461e+00  -1.68602095e+00  -7.33011713e-01]\n",
      " [  1.49526939e+00   1.54140156e+00  -6.01439371e-01   8.64568624e-01\n",
      "   -1.53677965e+00  -1.68602095e+00  -7.33011713e-01]\n",
      " [ -8.52857354e-01  -6.89835221e-01   7.76934072e-01  -3.47664539e-01\n",
      "   -2.39028701e-01   7.82210231e-01  -7.33011713e-01]\n",
      " [ -1.43988904e+00  -1.18674821e+00  -1.71086190e+00  -6.43909203e-01\n",
      "   -1.16599367e+00   1.05645814e+00   1.74675132e+00]\n",
      " [ -8.52857354e-01  -4.65737204e-01   1.31483590e+00  -3.53589432e-01\n",
      "   -6.46893286e-01   1.60495396e+00   1.74675132e+00]\n",
      " [ -8.52857354e-01  -6.89835221e-01  -1.50914871e+00  -3.59514326e-01\n",
      "   -6.09814687e-01  -8.63277223e-01   5.06869802e-01]\n",
      " [  3.21206016e-01   3.91681296e-01   1.11312272e+00   1.44101602e-01\n",
      "    7.25014861e-01  -4.05334960e-02  -7.33011713e-01]\n",
      " [  1.49526939e+00   1.54140156e+00  -4.66963913e-01   1.67864896e+00\n",
      "   -1.31430806e+00  -4.05334960e-02  -7.33011713e-01]\n",
      " [  3.21206016e-01  -3.58559891e-01  -1.57638644e+00  -5.82290313e-01\n",
      "   -6.09814687e-01  -8.63277223e-01  -7.33011713e-01]\n",
      " [ -8.52857354e-01  -1.09905769e+00   3.73507698e-01  -1.18544445e+00\n",
      "   -5.36357086e-02  -5.89029314e-01   5.06869802e-01]\n",
      " [ -8.52857354e-01  -9.13933237e-01   6.42458614e-01  -9.70963311e-01\n",
      "   -3.50264497e-01   1.05645814e+00   5.06869802e-01]\n",
      " [ -8.52857354e-01  -9.13933237e-01   8.77790665e-01  -8.82089912e-01\n",
      "    3.17150277e-01  -5.89029314e-01   5.06869802e-01]\n",
      " [  1.49526939e+00   1.07371874e+00  -1.20657893e+00   1.57792577e+00\n",
      "   -2.76107300e-01   2.33714413e-01  -7.33011713e-01]\n",
      " [ -8.52857354e-01  -1.01136716e+00   6.42458614e-01  -1.06457662e+00\n",
      "   -4.24421694e-01  -1.41177304e+00   5.06869802e-01]\n",
      " [  1.49526939e+00   1.86293349e+00  -5.34201642e-01   7.10521399e-01\n",
      "   -2.09295863e+00  -1.68602095e+00  -7.33011713e-01]\n",
      " [  1.49526939e+00   1.12243570e+00  -3.32488455e-01   1.67390904e+00\n",
      "   -2.39028701e-01  -1.68602095e+00  -7.33011713e-01]\n",
      " [  3.21206016e-01   6.45009489e-01  -1.50914871e+00  -1.65077215e-03\n",
      "   -7.95207680e-01  -1.41177304e+00  -7.33011713e-01]\n",
      " [  3.21206016e-01   7.98927508e-02   1.04588499e+00   1.14477136e-01\n",
      "    5.39621868e-01   1.33070605e+00  -7.33011713e-01]\n",
      " [ -8.52857354e-01  -5.53427732e-01   9.11409529e-01  -7.03158135e-01\n",
      "   -9.80600673e-01   1.60495396e+00  -7.33011713e-01]\n",
      " [  1.49526939e+00   1.07371874e+00  -9.71246879e-01   5.75433832e-01\n",
      "   -1.90756564e+00  -1.68602095e+00  -7.33011713e-01]\n",
      " [  3.21206016e-01   5.67062353e-01   7.09696343e-01   7.23556164e-01\n",
      "    1.98568721e+00  -4.05334960e-02  -7.33011713e-01]\n",
      " [ -8.52857354e-01  -5.04710772e-01   5.41602021e-01  -4.72087298e-01\n",
      "   -7.58129081e-01  -4.05334960e-02  -7.33011713e-01]\n",
      " [  3.21206016e-01   3.91681296e-01  -1.71086190e+00  -2.06652079e-01\n",
      "   -2.39028701e-01  -8.63277223e-01  -7.33011713e-01]\n",
      " [  3.21206016e-01   6.04059667e-02   1.28121704e+00  -1.54513018e-01\n",
      "   -5.36357086e-02  -1.68602095e+00  -7.33011713e-01]\n",
      " [  1.49526939e+00   1.54140156e+00  -4.66963913e-01   1.81966142e+00\n",
      "   -1.16599367e+00  -8.63277223e-01  -7.33011713e-01]\n",
      " [  1.49526939e+00   1.55114495e+00  -8.70390286e-01   2.00688805e+00\n",
      "   -7.95207680e-01  -3.14781405e-01  -7.33011713e-01]\n",
      " [  1.49526939e+00   2.31112953e+00  -3.66107319e-01   1.63243479e+00\n",
      "   -2.09295863e+00  -1.68602095e+00  -7.33011713e-01]\n",
      " [  3.21206016e-01   5.67062353e-01  -1.61000530e+00   5.87283619e-01\n",
      "    1.31757284e-01  -3.14781405e-01  -7.33011713e-01]\n",
      " [ -8.52857354e-01  -5.04710772e-01   8.77790665e-01  -3.84398877e-01\n",
      "    5.02543270e-01  -3.14781405e-01  -7.33011713e-01]\n",
      " [  1.49526939e+00   2.41830684e+00  -2.31631862e-01   1.59807041e+00\n",
      "   -2.64913761e+00  -1.68602095e+00  -7.33011713e-01]\n",
      " [ -8.52857354e-01  -9.23676630e-01   3.73507698e-01  -1.06457662e+00\n",
      "    7.99172058e-01   1.33070605e+00   1.74675132e+00]\n",
      " [  1.49526939e+00   1.54140156e+00  -7.02295964e-01   1.82321635e+00\n",
      "   -7.95207680e-01  -1.13752513e+00  -7.33011713e-01]\n",
      " [ -8.52857354e-01  -7.97012533e-01   1.01226612e+00  -3.45294582e-01\n",
      "    6.87936263e-01  -1.68602095e+00   5.06869802e-01]\n",
      " [  3.21206016e-01   3.23477552e-01  -1.71086190e+00   8.14799520e-01\n",
      "    7.62093460e-01  -4.05334960e-02  -7.33011713e-01]\n",
      " [ -8.52857354e-01  -7.67782357e-01   1.28121704e+00  -7.00788178e-01\n",
      "   -2.39028701e-01  -1.68602095e+00   1.74675132e+00]\n",
      " [ -8.52857354e-01  -8.45729493e-01   6.08839749e-01  -8.69055147e-01\n",
      "   -4.24421694e-01   5.07962322e-01  -7.33011713e-01]\n",
      " [ -8.52857354e-01  -9.23676630e-01   6.08839749e-01  -8.27580894e-01\n",
      "    9.47486452e-01   2.33714413e-01   1.74675132e+00]\n",
      " [ -8.52857354e-01  -1.06008412e+00   1.71794512e-01  -1.13804530e+00\n",
      "    1.24411524e+00  -5.89029314e-01   1.74675132e+00]\n",
      " [ -8.52857354e-01  -9.13933237e-01   1.38175647e-01  -9.47263738e-01\n",
      "    2.39355180e+00  -4.05334960e-02  -7.33011713e-01]\n",
      " [  1.49526939e+00   1.54140156e+00  -4.66963913e-01   8.30204243e-01\n",
      "   -1.72217264e+00  -8.63277223e-01  -7.33011713e-01]]\n"
     ]
    }
   ],
   "source": [
    "# Test the model if it is work\n",
    "scalerTest = joblib.load('scaler.pkl')\n",
    "new_data_scaled = scalerTest.transform(new_test_data)\n",
    "print \" =================================================================>>>>> done\"\n",
    "print new_data_scaled"
   ]
  },
  {
   "cell_type": "markdown",
   "metadata": {},
   "source": [
    "# 1. KNeighborsRegressor Regression"
   ]
  },
  {
   "cell_type": "markdown",
   "metadata": {},
   "source": [
    "K-Nearest Neighbors (or KNN) locates the K most similar instances in the training dataset for a new data instance. From the K neighbors, a mean or median output variable is taken as the prediction. Of note is the distance metric used (the metric argument). The Minkowski distance is used by default, which is a generalization of both the Euclidean distance (used when all inputs have the same scale) and Manhattan distance (for when the scales of the input variables differ)."
   ]
  },
  {
   "cell_type": "markdown",
   "metadata": {},
   "source": [
    "## Validation curve"
   ]
  },
  {
   "cell_type": "markdown",
   "metadata": {},
   "source": [
    "choosing multiple hyperparameters of an estimator "
   ]
  },
  {
   "cell_type": "code",
   "execution_count": 13,
   "metadata": {
    "collapsed": false
   },
   "outputs": [
    {
     "data": {
      "text/plain": [
       "['n_neighbors',\n",
       " 'n_jobs',\n",
       " 'algorithm',\n",
       " 'metric',\n",
       " 'metric_params',\n",
       " 'p',\n",
       " 'weights',\n",
       " 'leaf_size']"
      ]
     },
     "execution_count": 13,
     "metadata": {},
     "output_type": "execute_result"
    }
   ],
   "source": [
    "from sklearn.neighbors import KNeighborsRegressor\n",
    "estimator = KNeighborsRegressor()\n",
    "estimator.get_params().keys()"
   ]
  },
  {
   "cell_type": "code",
   "execution_count": 14,
   "metadata": {
    "collapsed": false
   },
   "outputs": [
    {
     "name": "stdout",
     "output_type": "stream",
     "text": [
      "[3 4 5 6]\n"
     ]
    }
   ],
   "source": [
    "print  np.arange(3,7)\n",
    "\n",
    " \n"
   ]
  },
  {
   "cell_type": "code",
   "execution_count": 15,
   "metadata": {
    "collapsed": false
   },
   "outputs": [
    {
     "data": {
      "image/png": "[encoded data removed]",
      "text/plain": [
       "<matplotlib.figure.Figure at 0x7fca9541b610>"
      ]
     },
     "metadata": {},
     "output_type": "display_data"
    }
   ],
   "source": [
    "# For parametr alpha\n",
    "#param_range = np.logspace(-10.0, 10.0)\n",
    "#param_range = np.linspace(1,50,100)\n",
    "param_range = np.arange(1,50) # generate integer numbers\n",
    "\n",
    "train_scores, test_scores = validation_curve(\n",
    "    KNeighborsRegressor(), X, Y, param_name=\"n_neighbors\", param_range=param_range,\n",
    "    cv=num_folds,  n_jobs=-1)\n",
    "train_scores_mean = np.mean(train_scores, axis=1)\n",
    "train_scores_std = np.std(train_scores, axis=1)\n",
    "test_scores_mean = np.mean(test_scores, axis=1)\n",
    "test_scores_std = np.std(test_scores, axis=1)\n",
    "\n",
    "plt.title(\"Validation Curve with KNeighborsRegressor\")\n",
    "plt.xlabel(\"n_neighbors\")\n",
    "plt.ylabel(\"Score\")\n",
    "plt.ylim(0.4, 1.0)\n",
    "plt.plot(param_range, train_scores_mean, label=\"Training score\", color=\"r\")\n",
    "plt.fill_between(param_range, train_scores_mean - train_scores_std,\n",
    "                 train_scores_mean + train_scores_std, alpha=0.2, color=\"r\")\n",
    "plt.plot(param_range, test_scores_mean, label=\"Cross-validation score\",\n",
    "             color=\"g\")\n",
    "plt.fill_between(param_range, test_scores_mean - test_scores_std,\n",
    "                 test_scores_mean + test_scores_std, alpha=0.2, color=\"g\")\n",
    "plt.legend(loc=\"best\")\n",
    "plt.show()"
   ]
  },
  {
   "cell_type": "markdown",
   "metadata": {},
   "source": [
    "Less that 10 is the best of number of K"
   ]
  },
  {
   "cell_type": "code",
   "execution_count": 16,
   "metadata": {
    "collapsed": false
   },
   "outputs": [
    {
     "data": {
      "image/png": "[encoded data removed]",
      "text/plain": [
       "<matplotlib.figure.Figure at 0x7fca9434bc10>"
      ]
     },
     "metadata": {},
     "output_type": "display_data"
    }
   ],
   "source": [
    "# For parametr alpha\n",
    "#param_range = np.logspace(-10.0, 10.0)\n",
    "#param_range = np.linspace(1,50,100)\n",
    "param_range = np.arange(1,100) # generate integer numbers\n",
    "\n",
    "train_scores, test_scores = validation_curve(\n",
    "    KNeighborsRegressor(), X, Y, param_name=\"leaf_size\", param_range=param_range,\n",
    "    cv=num_folds,  n_jobs=-1)\n",
    "train_scores_mean = np.mean(train_scores, axis=1)\n",
    "train_scores_std = np.std(train_scores, axis=1)\n",
    "test_scores_mean = np.mean(test_scores, axis=1)\n",
    "test_scores_std = np.std(test_scores, axis=1)\n",
    "\n",
    "plt.title(\"Validation Curve with KNeighborsRegressor\")\n",
    "plt.xlabel(\"leaf_size\")\n",
    "plt.ylabel(\"Score\")\n",
    "plt.ylim(0.4, 1.0)\n",
    "plt.plot(param_range, train_scores_mean, label=\"Training score\", color=\"r\")\n",
    "plt.fill_between(param_range, train_scores_mean - train_scores_std,\n",
    "                 train_scores_mean + train_scores_std, alpha=0.2, color=\"r\")\n",
    "plt.plot(param_range, test_scores_mean, label=\"Cross-validation score\",\n",
    "             color=\"g\")\n",
    "plt.fill_between(param_range, test_scores_mean - test_scores_std,\n",
    "                 test_scores_mean + test_scores_std, alpha=0.2, color=\"g\")\n",
    "plt.legend(loc=\"best\")\n",
    "plt.show()"
   ]
  },
  {
   "cell_type": "markdown",
   "metadata": {},
   "source": [
    "leaf_size does not effect so will keep the defulte one which is 30"
   ]
  },
  {
   "cell_type": "markdown",
   "metadata": {},
   "source": [
    "## Grid search and/or Random search to determine best compination of parameters"
   ]
  },
  {
   "cell_type": "code",
   "execution_count": 17,
   "metadata": {
    "collapsed": false
   },
   "outputs": [
    {
     "name": "stdout",
     "output_type": "stream",
     "text": [
      "Hyperparameter optimization using GridSearchCV...\n",
      "Parameters with rank: 1\n",
      "Mean validation score: 0.8353 (std: 0.0447)\n",
      "Parameters: {'n_neighbors': 5, 'algorithm': 'auto'}\n",
      "\n",
      "Parameters with rank: 2\n",
      "Mean validation score: 0.8353 (std: 0.0447)\n",
      "Parameters: {'n_neighbors': 5, 'algorithm': 'ball_tree'}\n",
      "\n",
      "Parameters with rank: 3\n",
      "Mean validation score: 0.8353 (std: 0.0447)\n",
      "Parameters: {'n_neighbors': 5, 'algorithm': 'kd_tree'}\n",
      "\n",
      "Parameters with rank: 4\n",
      "Mean validation score: 0.8353 (std: 0.0447)\n",
      "Parameters: {'n_neighbors': 5, 'algorithm': 'brute'}\n",
      "\n",
      "Parameters with rank: 5\n",
      "Mean validation score: 0.8252 (std: 0.0480)\n",
      "Parameters: {'n_neighbors': 10, 'algorithm': 'auto'}\n",
      "\n",
      "+++++++++++++++++++++++++++++++++++++++++++++++\n",
      "Hyperparameter optimization using RandomizedSearchCV\n",
      "Parameters with rank: 1\n",
      "Mean validation score: 0.7480 (std: 0.0916)\n",
      "Parameters: {'n_neighbors': 1, 'algorithm': 'auto'}\n",
      "\n"
     ]
    }
   ],
   "source": [
    "# Utility function to report optimal parameters\n",
    "from operator import itemgetter\n",
    "def report(grid_scores, n_top=5):\n",
    "    params = None\n",
    "    top_scores = sorted(grid_scores, key=itemgetter(1), reverse=True)[:n_top]\n",
    "    for i, score in enumerate(top_scores):\n",
    "        print(\"Parameters with rank: {0}\".format(i + 1))\n",
    "        print(\"Mean validation score: {0:.4f} (std: {1:.4f})\".format(\n",
    "              score.mean_validation_score, np.std(score.cv_validation_scores)))\n",
    "        print(\"Parameters: {0}\".format(score.parameters))\n",
    "        print(\"\")\n",
    "        \n",
    "        if params == None:\n",
    "            params = score.parameters\n",
    "    \n",
    "    return params\n",
    "\n",
    "# The most common value for the max number of features to look at in each split is sqrt(# of features)\n",
    "sqrtfeat = np.sqrt(X.shape[1]) \n",
    "# Simple grid test (162 combinations)\n",
    "grid_test1 = { \"n_neighbors\"      : [1,5,10],\n",
    "                \"algorithm\"      : [\"auto\", \"ball_tree\", \"kd_tree\", \"brute\"]}\n",
    "\n",
    "# Large randomized test using max_depth to control tree size (5000 possible combinations)\n",
    "random_test1 = { \"n_neighbors\"      : np.arange(1,2),\n",
    "                \"algorithm\"      : [\"auto\", \"ball_tree\", \"kd_tree\", \"brute\"]}\n",
    "\n",
    "\n",
    "forest = KNeighborsRegressor()\n",
    "\n",
    "print \"Hyperparameter optimization using GridSearchCV...\"\n",
    "grid_search = GridSearchCV(forest, grid_test1, n_jobs=-1, cv=num_folds)\n",
    "grid_search.fit(X, Y)\n",
    "best_params_from_grid_search = report(grid_search.grid_scores_)\n",
    "print '+++++++++++++++++++++++++++++++++++++++++++++++'\n",
    "print \"Hyperparameter optimization using RandomizedSearchCV\"\n",
    "grid_search = RandomizedSearchCV(forest, random_test1, n_jobs=-1, cv=num_folds, n_iter=1)\n",
    "grid_search.fit(X, Y)\n",
    "best_params_from_rand_search1 = report(grid_search.grid_scores_)"
   ]
  },
  {
   "cell_type": "markdown",
   "metadata": {},
   "source": [
    "Best parameters Parameters: Parameters: Parameters: {'n_neighbors': 4, 'algorithm': 'kd_tree'}\n",
    "\n"
   ]
  },
  {
   "cell_type": "markdown",
   "metadata": {},
   "source": [
    "## Learning Curve "
   ]
  },
  {
   "cell_type": "markdown",
   "metadata": {},
   "source": [
    "In essence, what we’re doing it training the exact same model with increasingly large fractions of our total training data, and plotting the error of the training and test sets at each step."
   ]
  },
  {
   "cell_type": "code",
   "execution_count": 18,
   "metadata": {
    "collapsed": false
   },
   "outputs": [
    {
     "data": {
      "image/png": "[encoded data removed]",
      "text/plain": [
       "<matplotlib.figure.Figure at 0x7fca9541b950>"
      ]
     },
     "metadata": {},
     "output_type": "display_data"
    }
   ],
   "source": [
    "from sklearn.neighbors import KNeighborsRegressor\n",
    "model = KNeighborsRegressor(n_neighbors = 4, algorithm = 'kd_tree')\n",
    "title = \"Learning Curves (KNeighborsRegressor Refression)\"\n",
    "cv = cross_validation.ShuffleSplit(X.shape[0], n_iter=100,\n",
    "                                   test_size=0.2, random_state=0)\n",
    "plot_learning_curve(model, title, X, Y, ylim=(0.2, 1.01), cv=cv, n_jobs=-1)\n",
    "plt.show()"
   ]
  },
  {
   "cell_type": "code",
   "execution_count": 19,
   "metadata": {
    "collapsed": false
   },
   "outputs": [
    {
     "name": "stdout",
     "output_type": "stream",
     "text": [
      "train_sizes =  [ 50  80 110]\n",
      " training scores\n",
      " 50 training sizees\n",
      "0.859379227812 ± 0.0378055422435\n",
      " 80 training sizees\n",
      "0.871478533713 ± 0.029561257264\n",
      " 110 training sizees\n",
      "0.882557960506 ± 0.0231245473534\n",
      "\n",
      " validation scores\n",
      " 50 validation scores\n",
      "0.752255120753 ± 0.0607485136485\n",
      " 80 validation scores\n",
      "0.778746241801 ± 0.0570965594857\n",
      " 110 validation scores\n",
      "0.788105319108 ± 0.0583309767412\n"
     ]
    }
   ],
   "source": [
    "# More data from learning curve to show the process of building the model\n",
    "train_sizes, train_scores, valid_scores = learning_curve(\n",
    "     model, X, Y, train_sizes=[50, 80, 110], cv=cv, n_jobs=4)\n",
    "\n",
    "print 'train_sizes = ', train_sizes\n",
    "\n",
    "print ' training scores'\n",
    "print ' 50 training sizees'\n",
    "print train_scores[0].mean(),'±',train_scores[0].std()\n",
    "print ' 80 training sizees'\n",
    "print train_scores[1].mean(),'±',train_scores[1].std()\n",
    "print ' 110 training sizees'\n",
    "print train_scores[2].mean(),'±',train_scores[2].std()\n",
    "\n",
    "print '\\n validation scores'\n",
    "print ' 50 validation scores'\n",
    "print valid_scores[0].mean(),'±',valid_scores[0].std()\n",
    "print ' 80 validation scores'\n",
    "print valid_scores[1].mean(),'±',valid_scores[1].std()\n",
    "print ' 110 validation scores'\n",
    "print valid_scores[2].mean(),'±',valid_scores[2].std()"
   ]
  },
  {
   "cell_type": "markdown",
   "metadata": {},
   "source": [
    "## Cross validation"
   ]
  },
  {
   "cell_type": "code",
   "execution_count": 20,
   "metadata": {
    "collapsed": false
   },
   "outputs": [
    {
     "name": "stdout",
     "output_type": "stream",
     "text": [
      "Scoring according to mean_squared_error\n",
      "[ -8.04146484 -13.93136719  -7.66972656 -16.80583984  -6.79857422\n",
      "  -7.3559375  -12.68974609  -6.72800781  -6.1165121   -8.32883065]\n",
      "\n",
      " Mean      Standard deviation\n",
      "-9.45      3.48\n"
     ]
    },
    {
     "data": {
      "text/plain": [
       "KNeighborsRegressor(algorithm='kd_tree', leaf_size=30, metric='minkowski',\n",
       "          metric_params=None, n_jobs=1, n_neighbors=4, p=2,\n",
       "          weights='uniform')"
      ]
     },
     "execution_count": 20,
     "metadata": {},
     "output_type": "execute_result"
    }
   ],
   "source": [
    "scoring = 'mean_squared_error'\n",
    "results = cross_validation.cross_val_score(model, X, Y, cv=kfold, scoring=scoring)\n",
    "print 'Scoring according to mean_squared_error'\n",
    "print results\n",
    "print '\\n Mean      Standard deviation'\n",
    "print(\"%.2f      %.2f\" % (results.mean(), results.std()))\n",
    "## Fit the model\n",
    "model.fit(X,Y)\n"
   ]
  },
  {
   "cell_type": "markdown",
   "metadata": {},
   "source": [
    "## Coefficients Of Determination {Calculating R^2}\n",
    "\n",
    "R^2, Close to one is better"
   ]
  },
  {
   "cell_type": "code",
   "execution_count": 21,
   "metadata": {
    "collapsed": false
   },
   "outputs": [
    {
     "name": "stdout",
     "output_type": "stream",
     "text": [
      "R-squared =  0.843065758572\n"
     ]
    }
   ],
   "source": [
    "predicted = cross_val_predict(model, X, Y, cv=kfold)\n",
    "r_squared = r2_score(Y, predicted, multioutput='variance_weighted')\n",
    "print 'R-squared = ',r_squared"
   ]
  },
  {
   "cell_type": "markdown",
   "metadata": {},
   "source": [
    "## Residual Plot"
   ]
  },
  {
   "cell_type": "code",
   "execution_count": 22,
   "metadata": {
    "collapsed": false
   },
   "outputs": [
    {
     "data": {
      "image/png": "[encoded data removed]",
      "text/plain": [
       "<matplotlib.figure.Figure at 0x7fca94359dd0>"
      ]
     },
     "metadata": {},
     "output_type": "display_data"
    }
   ],
   "source": [
    "predicted = cross_val_predict(model, X, Y, cv=kfold)\n",
    "fig, ax = plt.subplots()\n",
    "ax.scatter(Y, predicted)\n",
    "ax.plot([Y.min(), Y.max()], [Y.min(), Y.max()], 'k--', lw=4)\n",
    "ax.set_xlabel('Measured')\n",
    "ax.set_ylabel('Predicted')\n",
    "plt.show()"
   ]
  },
  {
   "cell_type": "code",
   "execution_count": 23,
   "metadata": {
    "collapsed": false
   },
   "outputs": [
    {
     "data": {
      "text/html": [
       "\n",
       "\n",
       "    <div class=\"bk-root\">\n",
       "        <div class=\"plotdiv\" id=\"4d598a1a-0195-4eb0-9023-b8e4ab296741\"></div>\n",
       "    </div>\n",
       "<script type=\"text/javascript\">\n",
       "  \n",
       "  (function(global) {\n",
       "    function now() {\n",
       "      return new Date();\n",
       "    }\n",
       "  \n",
       "    var force = \"\";\n",
       "  \n",
       "    if (typeof (window._bokeh_onload_callbacks) === \"undefined\" || force !== \"\") {\n",
       "      window._bokeh_onload_callbacks = [];\n",
       "      window._bokeh_is_loading = undefined;\n",
       "    }\n",
       "  \n",
       "  \n",
       "    \n",
       "    if (typeof (window._bokeh_timeout) === \"undefined\" || force !== \"\") {\n",
       "      window._bokeh_timeout = Date.now() + 0;\n",
       "      window._bokeh_failed_load = false;\n",
       "    }\n",
       "  \n",
       "    var NB_LOAD_WARNING = {'data': {'text/html':\n",
       "       \"<div style='background-color: #fdd'>\\n\"+\n",
       "       \"<p>\\n\"+\n",
       "       \"BokehJS does not appear to have successfully loaded. If loading BokehJS from CDN, this \\n\"+\n",
       "       \"may be due to a slow or bad network connection. Possible fixes:\\n\"+\n",
       "       \"</p>\\n\"+\n",
       "       \"<ul>\\n\"+\n",
       "       \"<li>re-rerun `output_notebook()` to attempt to load from CDN again, or</li>\\n\"+\n",
       "       \"<li>use INLINE resources instead, as so:</li>\\n\"+\n",
       "       \"</ul>\\n\"+\n",
       "       \"<code>\\n\"+\n",
       "       \"from bokeh.resources import INLINE\\n\"+\n",
       "       \"output_notebook(resources=INLINE)\\n\"+\n",
       "       \"</code>\\n\"+\n",
       "       \"</div>\"}};\n",
       "  \n",
       "    function display_loaded() {\n",
       "      if (window.Bokeh !== undefined) {\n",
       "        Bokeh.$(\"#4d598a1a-0195-4eb0-9023-b8e4ab296741\").text(\"BokehJS successfully loaded.\");\n",
       "      } else if (Date.now() < window._bokeh_timeout) {\n",
       "        setTimeout(display_loaded, 100)\n",
       "      }\n",
       "    }\n",
       "  \n",
       "    function run_callbacks() {\n",
       "      window._bokeh_onload_callbacks.forEach(function(callback) { callback() });\n",
       "      delete window._bokeh_onload_callbacks\n",
       "      console.info(\"Bokeh: all callbacks have finished\");\n",
       "    }\n",
       "  \n",
       "    function load_libs(js_urls, callback) {\n",
       "      window._bokeh_onload_callbacks.push(callback);\n",
       "      if (window._bokeh_is_loading > 0) {\n",
       "        console.log(\"Bokeh: BokehJS is being loaded, scheduling callback at\", now());\n",
       "        return null;\n",
       "      }\n",
       "      if (js_urls == null || js_urls.length === 0) {\n",
       "        run_callbacks();\n",
       "        return null;\n",
       "      }\n",
       "      console.log(\"Bokeh: BokehJS not loaded, scheduling load and callback at\", now());\n",
       "      window._bokeh_is_loading = js_urls.length;\n",
       "      for (var i = 0; i < js_urls.length; i++) {\n",
       "        var url = js_urls[i];\n",
       "        var s = document.createElement('script');\n",
       "        s.src = url;\n",
       "        s.async = false;\n",
       "        s.onreadystatechange = s.onload = function() {\n",
       "          window._bokeh_is_loading--;\n",
       "          if (window._bokeh_is_loading === 0) {\n",
       "            console.log(\"Bokeh: all BokehJS libraries loaded\");\n",
       "            run_callbacks()\n",
       "          }\n",
       "        };\n",
       "        s.onerror = function() {\n",
       "          console.warn(\"failed to load library \" + url);\n",
       "        };\n",
       "        console.log(\"Bokeh: injecting script tag for BokehJS library: \", url);\n",
       "        document.getElementsByTagName(\"head\")[0].appendChild(s);\n",
       "      }\n",
       "    };var element = document.getElementById(\"4d598a1a-0195-4eb0-9023-b8e4ab296741\");\n",
       "    if (element == null) {\n",
       "      console.log(\"Bokeh: ERROR: autoload.js configured with elementid '4d598a1a-0195-4eb0-9023-b8e4ab296741' but no matching script tag was found. \")\n",
       "      return false;\n",
       "    }\n",
       "  \n",
       "    var js_urls = [];\n",
       "  \n",
       "    var inline_js = [\n",
       "      function(Bokeh) {\n",
       "        Bokeh.$(function() {\n",
       "            var docs_json = {\"d9d91ea3-d1b9-47e5-a7e5-6f395d84294d\":{\"roots\":{\"references\":[{\"attributes\":{\"plot\":{\"id\":\"64649ef6-ac99-44e5-ac96-04d865845af8\",\"subtype\":\"Figure\",\"type\":\"Plot\"}},\"id\":\"ce0d3947-1059-4341-aa26-27b017215a82\",\"type\":\"ResetTool\"},{\"attributes\":{\"plot\":{\"id\":\"64649ef6-ac99-44e5-ac96-04d865845af8\",\"subtype\":\"Figure\",\"type\":\"Plot\"}},\"id\":\"054faf9b-f457-4cc2-9e5e-178350909bd4\",\"type\":\"ResizeTool\"},{\"attributes\":{\"callback\":null,\"overlay\":{\"id\":\"b889ffe0-8e45-40d1-8fe4-8df3d4b159d2\",\"type\":\"PolyAnnotation\"},\"plot\":{\"id\":\"64649ef6-ac99-44e5-ac96-04d865845af8\",\"subtype\":\"Figure\",\"type\":\"Plot\"}},\"id\":\"613aa847-db14-4558-8ac0-fac4ed091f90\",\"type\":\"LassoSelectTool\"},{\"attributes\":{\"callback\":null,\"column_names\":[\"x\",\"y\"],\"data\":{\"x\":[15.0,27.0,34.3,26.0,31.6,33.8,29.0,18.1,27.2,38.0,26.0,14.0,22.0,31.0,36.4,17.6,17.7,28.0,20.8,14.0,20.2,32.8,22.3,28.0,37.0,27.0,23.2,13.0,15.0,22.0,24.0,29.0,13.0,31.8,23.0,25.5,29.9,13.0,17.5,46.6,15.5,32.9,14.0,25.0,19.4,15.0,32.4,31.5,27.0,19.8,17.0,33.5,21.0,23.0,38.1,44.0,40.8,21.0,29.0,17.5,28.0,26.0,26.0,11.0,37.7,24.2,16.0,16.0,30.0,19.0,27.0,19.0,16.0,16.0,20.3,21.0,33.5,23.0,21.5,16.0,19.0,37.0,15.0,16.0,26.0,18.0,13.0,21.0,29.0,22.0,33.0,22.0,16.0,36.0,20.0,22.0,31.3,14.5,29.8,13.0,13.0,36.0,20.5,25.0,27.0,33.0,16.5,20.6,30.0,43.4,34.7,11.0,18.0,13.0,16.0,19.0,23.0,25.5,14.0,24.5,30.0,25.8,38.0,28.8,26.6,17.0,32.0,18.1,11.0,21.0,36.0,13.0,30.0,31.0,14.0,18.0,13.0,21.6,28.0,23.8,14.0,27.0,20.2,26.0,39.4,19.9,19.0,14.0,23.6,13.0,38.0,30.5,18.5,17.0,12.0,16.0,28.0,15.5,32.0,24.0,25.1,16.0,13.0,24.0,22.0,24.0,15.0,19.0,18.0,27.2,14.0,21.0,44.3,28.0,31.5,19.2,14.0,30.5,29.8,36.1,26.8,26.0,20.5,32.1,16.0,17.0,20.0,22.0,25.0,23.9,31.0,39.0,28.0,34.5,22.0,20.6,14.0,25.4,14.0,30.0,19.0,36.0,25.0,14.0,21.1,28.0,19.0,19.1,24.3,44.6,20.0,17.0,13.0,34.2,26.0,17.5,26.0,13.0,18.0,18.5,36.0,16.0,38.0,23.0,20.5,13.0,28.0,12.0,34.1,20.0,12.0,28.4,18.0,20.0,29.5,19.0,26.0,26.0,25.0,32.0,33.7,28.0,19.2,29.5,27.0,15.0,39.1,26.6,13.0,23.0,27.5,20.0,19.2,24.0,32.2,19.4,33.0,12.0,13.0,17.6,23.9,34.4,14.0,31.0,35.1,15.0,15.5,9.0,25.0,18.0,31.0,43.1,17.5,25.0,25.0,19.0,26.0,31.0,18.2,30.7,24.0,17.0,27.0,23.0,18.0,27.2,35.0,29.0,21.5,15.0,17.5,15.0,32.7,10.0,20.0,32.4,34.0,18.0,32.0,14.0,24.0,26.4,14.0,13.0,13.0,18.5,21.5,16.2,16.5,15.0,28.1,29.0,20.2,27.9,22.0,29.0,19.0,25.0],\"y\":[13.75,27.75,33.45,27.75,32.525,38.7,27.950000000000003,20.4,34.1,35.05,21.75,13.5,24.925,31.75,28.549999999999997,18.825,22.724999999999998,26.5,20.925,13.25,20.925,35.2,26.65,24.75,36.925000000000004,26.0,22.45,14.75,14.75,23.5,24.5,27.5,14.375,35.75,24.75,25.75,26.825,13.25,16.675,35.225,14.875,21.900000000000002,14.5,25.5,18.625,19.5,32.95,34.3,26.875,20.225,14.75,29.0,20.75,19.5,35.325,39.49999999999999,35.75,19.0,30.0,20.025,24.0,23.5,23.25,12.5,37.625,25.4,14.0,12.75,29.275000000000002,22.025,27.8,24.25,14.75,14.0,18.7,21.5,27.175000000000004,19.325000000000003,19.200000000000003,16.375,18.25,33.95,17.0,17.25,26.4,18.0,13.5,25.75,29.0,20.9,32.775,22.625,15.625,30.525,27.0,24.25,32.55,14.875,33.7,14.25,13.75,33.1,20.05,21.15,24.75,31.25,17.725,20.775,27.0,39.65,35.875,12.5,16.5,14.375,13.5,20.175,26.825,27.275,15.0,26.0,28.4,25.95,19.175,20.875,27.8,17.75,30.0,17.475,13.25,20.0,33.475,13.0,31.4,29.0,14.75,24.75,16.775,21.7,26.125,25.4,13.75,24.75,19.7,27.0,34.224999999999994,16.85,24.75,15.25,27.6,14.75,34.45,29.125,18.85,17.3,12.5,16.25,25.25,14.125,29.875,26.75,25.975,15.625,15.625,27.9,26.25,24.5,14.75,19.875,20.75,26.175,14.0,23.0,40.1,30.125,29.575,17.625,14.25,29.875,26.175,31.125,25.049999999999997,28.0,19.4,34.275,17.0,18.625,21.5,26.25,26.375,18.2,36.675,35.775000000000006,26.375,33.45,25.0,19.425,15.25,31.3,15.5,31.525,20.0,34.975,24.0,14.5,27.099999999999998,23.5,30.425000000000004,19.975,26.1,34.975,20.0,18.3,13.5,32.575,23.5,15.25,21.125,13.25,16.5,19.0,33.025,16.75,34.525,23.75,19.8,13.25,25.174999999999997,13.0,35.775,20.0,13.75,24.974999999999998,20.25,20.6,31.525,18.925,26.5,25.75,20.6,28.375,38.65,29.1,18.674999999999997,29.375,25.75,14.75,35.45,18.8,13.0,25.5,25.5,24.75,18.174999999999997,25.75,34.7,20.325,32.9,13.0,12.5,24.174999999999997,26.4,35.45,13.75,29.0,35.8,17.5,17.125,13.0,25.75,19.5,26.0,38.175,20.225,25.25,23.0,20.25,30.0,26.65,18.425,29.975,25.25,18.549999999999997,27.35,24.25,19.0,27.65,34.075,30.0,24.875,14.0,17.225,15.25,23.275,12.5,15.35,36.025,34.775000000000006,20.75,36.3,12.5,19.55,25.275,14.25,13.25,14.0,17.25,21.724999999999998,19.725,18.75,14.5,30.625000000000004,30.0,18.424999999999997,23.4,19.9,27.25,17.25,26.75]}},\"id\":\"5dfd3f07-eb67-415c-a444-d4c3f72d09e3\",\"type\":\"ColumnDataSource\"},{\"attributes\":{\"overlay\":{\"id\":\"6760303f-dc76-4134-9373-445adaa4864c\",\"type\":\"PolyAnnotation\"},\"plot\":{\"id\":\"64649ef6-ac99-44e5-ac96-04d865845af8\",\"subtype\":\"Figure\",\"type\":\"Plot\"}},\"id\":\"a1d410a3-b94d-4a08-a1e4-0999a8774682\",\"type\":\"PolySelectTool\"},{\"attributes\":{\"fill_alpha\":{\"value\":0.5},\"fill_color\":{\"value\":\"lightgrey\"},\"level\":\"overlay\",\"line_alpha\":{\"value\":1.0},\"line_color\":{\"value\":\"black\"},\"line_dash\":[4,4],\"line_width\":{\"value\":2},\"plot\":null,\"xs_units\":\"screen\",\"ys_units\":\"screen\"},\"id\":\"6760303f-dc76-4134-9373-445adaa4864c\",\"type\":\"PolyAnnotation\"},{\"attributes\":{\"fill_alpha\":{\"value\":0.5},\"fill_color\":{\"value\":\"lightgrey\"},\"level\":\"overlay\",\"line_alpha\":{\"value\":1.0},\"line_color\":{\"value\":\"black\"},\"line_dash\":[4,4],\"line_width\":{\"value\":2},\"plot\":null,\"xs_units\":\"screen\",\"ys_units\":\"screen\"},\"id\":\"b889ffe0-8e45-40d1-8fe4-8df3d4b159d2\",\"type\":\"PolyAnnotation\"},{\"attributes\":{\"callback\":null,\"plot\":{\"id\":\"64649ef6-ac99-44e5-ac96-04d865845af8\",\"subtype\":\"Figure\",\"type\":\"Plot\"}},\"id\":\"4a919f2a-ba02-46a8-8e4f-c0d6d5b7577f\",\"type\":\"TapTool\"},{\"attributes\":{\"plot\":{\"id\":\"64649ef6-ac99-44e5-ac96-04d865845af8\",\"subtype\":\"Figure\",\"type\":\"Plot\"},\"ticker\":{\"id\":\"5905b125-3226-4132-a0e1-57ef55be6765\",\"type\":\"BasicTicker\"}},\"id\":\"05cc1ec6-1ea4-46cf-bd77-00da02c8dd3d\",\"type\":\"Grid\"},{\"attributes\":{\"axis_label\":\"Measured\",\"axis_label_text_color\":{\"value\":\"#aa6666\"},\"formatter\":{\"id\":\"f57a3967-89bd-4324-aa74-c0cd447d1c2f\",\"type\":\"BasicTickFormatter\"},\"major_tick_line_color\":{\"value\":\"firebrick\"},\"major_tick_line_width\":{\"value\":3},\"minor_tick_line_color\":{\"value\":\"orange\"},\"plot\":{\"id\":\"64649ef6-ac99-44e5-ac96-04d865845af8\",\"subtype\":\"Figure\",\"type\":\"Plot\"},\"ticker\":{\"id\":\"5905b125-3226-4132-a0e1-57ef55be6765\",\"type\":\"BasicTicker\"}},\"id\":\"0005a417-9b59-4d11-922a-760eee35f096\",\"type\":\"LinearAxis\"},{\"attributes\":{},\"id\":\"5905b125-3226-4132-a0e1-57ef55be6765\",\"type\":\"BasicTicker\"},{\"attributes\":{\"line_dash\":[4,4],\"line_width\":{\"value\":2},\"x\":{\"field\":\"x\"},\"y\":{\"field\":\"y\"}},\"id\":\"34dd1c5c-3308-41df-89e7-8b2ad7420b4f\",\"type\":\"Line\"},{\"attributes\":{\"bottom_units\":\"screen\",\"fill_alpha\":{\"value\":0.5},\"fill_color\":{\"value\":\"lightgrey\"},\"left_units\":\"screen\",\"level\":\"overlay\",\"line_alpha\":{\"value\":1.0},\"line_color\":{\"value\":\"black\"},\"line_dash\":[4,4],\"line_width\":{\"value\":2},\"plot\":null,\"render_mode\":\"css\",\"right_units\":\"screen\",\"top_units\":\"screen\"},\"id\":\"d625d468-448b-4b8f-8ed1-bc6e69976b32\",\"type\":\"BoxAnnotation\"},{\"attributes\":{\"bottom_units\":\"screen\",\"fill_alpha\":{\"value\":0.5},\"fill_color\":{\"value\":\"lightgrey\"},\"left_units\":\"screen\",\"level\":\"overlay\",\"line_alpha\":{\"value\":1.0},\"line_color\":{\"value\":\"black\"},\"line_dash\":[4,4],\"line_width\":{\"value\":2},\"plot\":null,\"render_mode\":\"css\",\"right_units\":\"screen\",\"top_units\":\"screen\"},\"id\":\"6938f87b-1010-4fe4-af79-2e5474508b97\",\"type\":\"BoxAnnotation\"},{\"attributes\":{\"overlay\":{\"id\":\"6938f87b-1010-4fe4-af79-2e5474508b97\",\"type\":\"BoxAnnotation\"},\"plot\":{\"id\":\"64649ef6-ac99-44e5-ac96-04d865845af8\",\"subtype\":\"Figure\",\"type\":\"Plot\"}},\"id\":\"7e55eea0-9ede-46a4-a75f-f698b3c88d68\",\"type\":\"BoxZoomTool\"},{\"attributes\":{\"align\":\"center\",\"plot\":null,\"text\":null},\"id\":\"2992a06a-f3f2-4746-b1a8-333b43627af2\",\"type\":\"Title\"},{\"attributes\":{},\"id\":\"95af06b5-9c4a-461b-b8cd-f6aec0db2c9a\",\"type\":\"ToolEvents\"},{\"attributes\":{\"plot\":{\"id\":\"64649ef6-ac99-44e5-ac96-04d865845af8\",\"subtype\":\"Figure\",\"type\":\"Plot\"}},\"id\":\"93cdb479-ba6d-4128-8b6d-4307b9fab578\",\"type\":\"UndoTool\"},{\"attributes\":{\"plot\":{\"id\":\"64649ef6-ac99-44e5-ac96-04d865845af8\",\"subtype\":\"Figure\",\"type\":\"Plot\"}},\"id\":\"89d5f062-6dc5-430b-91bb-27ba71fd4162\",\"type\":\"SaveTool\"},{\"attributes\":{},\"id\":\"20bcae0a-dca7-4ee8-a633-2b71704de535\",\"type\":\"BasicTicker\"},{\"attributes\":{\"callback\":null,\"overlay\":{\"id\":\"d625d468-448b-4b8f-8ed1-bc6e69976b32\",\"type\":\"BoxAnnotation\"},\"plot\":{\"id\":\"64649ef6-ac99-44e5-ac96-04d865845af8\",\"subtype\":\"Figure\",\"type\":\"Plot\"},\"renderers\":[{\"id\":\"a61f5262-3a1b-4802-a0fe-4f196823fd35\",\"type\":\"GlyphRenderer\"},{\"id\":\"c322915a-6431-4321-b4f8-8e7f71032a50\",\"type\":\"GlyphRenderer\"}]},\"id\":\"e3ff3355-6f6d-4a68-a197-abdebe91d17c\",\"type\":\"BoxSelectTool\"},{\"attributes\":{\"dimension\":1,\"plot\":{\"id\":\"64649ef6-ac99-44e5-ac96-04d865845af8\",\"subtype\":\"Figure\",\"type\":\"Plot\"},\"ticker\":{\"id\":\"20bcae0a-dca7-4ee8-a633-2b71704de535\",\"type\":\"BasicTicker\"}},\"id\":\"2779f5d0-b40c-4e91-81e2-70515ec58370\",\"type\":\"Grid\"},{\"attributes\":{\"callback\":null},\"id\":\"b9dc90f2-3d80-4696-934a-3a3af4caa2cb\",\"type\":\"DataRange1d\"},{\"attributes\":{\"fill_color\":{\"value\":\"#80B1D3\"},\"line_color\":{\"value\":\"#80B1D3\"},\"line_width\":{\"value\":3},\"x\":{\"field\":\"x\"},\"y\":{\"field\":\"y\"}},\"id\":\"0cd71b30-25a7-424e-a699-308da884c99f\",\"type\":\"Circle\"},{\"attributes\":{\"background_fill_alpha\":{\"value\":0.5},\"background_fill_color\":{\"value\":\"beige\"},\"below\":[{\"id\":\"0005a417-9b59-4d11-922a-760eee35f096\",\"type\":\"LinearAxis\"}],\"left\":[{\"id\":\"e190468d-8608-4000-a015-125d03c9c434\",\"type\":\"LinearAxis\"}],\"plot_height\":500,\"plot_width\":500,\"renderers\":[{\"id\":\"0005a417-9b59-4d11-922a-760eee35f096\",\"type\":\"LinearAxis\"},{\"id\":\"05cc1ec6-1ea4-46cf-bd77-00da02c8dd3d\",\"type\":\"Grid\"},{\"id\":\"e190468d-8608-4000-a015-125d03c9c434\",\"type\":\"LinearAxis\"},{\"id\":\"2779f5d0-b40c-4e91-81e2-70515ec58370\",\"type\":\"Grid\"},{\"id\":\"6938f87b-1010-4fe4-af79-2e5474508b97\",\"type\":\"BoxAnnotation\"},{\"id\":\"d625d468-448b-4b8f-8ed1-bc6e69976b32\",\"type\":\"BoxAnnotation\"},{\"id\":\"b889ffe0-8e45-40d1-8fe4-8df3d4b159d2\",\"type\":\"PolyAnnotation\"},{\"id\":\"6760303f-dc76-4134-9373-445adaa4864c\",\"type\":\"PolyAnnotation\"},{\"id\":\"a61f5262-3a1b-4802-a0fe-4f196823fd35\",\"type\":\"GlyphRenderer\"},{\"id\":\"c322915a-6431-4321-b4f8-8e7f71032a50\",\"type\":\"GlyphRenderer\"}],\"title\":{\"id\":\"2992a06a-f3f2-4746-b1a8-333b43627af2\",\"type\":\"Title\"},\"tool_events\":{\"id\":\"95af06b5-9c4a-461b-b8cd-f6aec0db2c9a\",\"type\":\"ToolEvents\"},\"toolbar\":{\"id\":\"d35504df-6472-4413-b471-18eada3fdc95\",\"type\":\"Toolbar\"},\"x_range\":{\"id\":\"c0feae5f-e477-411a-860d-905570978792\",\"type\":\"DataRange1d\"},\"y_range\":{\"id\":\"b9dc90f2-3d80-4696-934a-3a3af4caa2cb\",\"type\":\"DataRange1d\"}},\"id\":\"64649ef6-ac99-44e5-ac96-04d865845af8\",\"subtype\":\"Figure\",\"type\":\"Plot\"},{\"attributes\":{\"data_source\":{\"id\":\"8a3c5ff4-440d-4f5b-a18d-cf918eb9990b\",\"type\":\"ColumnDataSource\"},\"glyph\":{\"id\":\"34dd1c5c-3308-41df-89e7-8b2ad7420b4f\",\"type\":\"Line\"},\"hover_glyph\":null,\"nonselection_glyph\":{\"id\":\"3072faba-b48d-4691-9d01-35b63c76aee1\",\"type\":\"Line\"},\"selection_glyph\":null},\"id\":\"c322915a-6431-4321-b4f8-8e7f71032a50\",\"type\":\"GlyphRenderer\"},{\"attributes\":{\"callback\":null,\"column_names\":[\"y\",\"x\"],\"data\":{\"x\":[9.0,46.6],\"y\":[9.0,46.6]}},\"id\":\"8a3c5ff4-440d-4f5b-a18d-cf918eb9990b\",\"type\":\"ColumnDataSource\"},{\"attributes\":{\"plot\":{\"id\":\"64649ef6-ac99-44e5-ac96-04d865845af8\",\"subtype\":\"Figure\",\"type\":\"Plot\"}},\"id\":\"9b47e600-ad85-40d7-b2bf-6e286120ab53\",\"type\":\"PanTool\"},{\"attributes\":{\"plot\":{\"id\":\"64649ef6-ac99-44e5-ac96-04d865845af8\",\"subtype\":\"Figure\",\"type\":\"Plot\"}},\"id\":\"acd35eca-8bd1-40a8-a502-5c831b01ee02\",\"type\":\"CrosshairTool\"},{\"attributes\":{\"fill_alpha\":{\"value\":0.1},\"fill_color\":{\"value\":\"#1f77b4\"},\"line_alpha\":{\"value\":0.1},\"line_color\":{\"value\":\"#1f77b4\"},\"line_width\":{\"value\":3},\"x\":{\"field\":\"x\"},\"y\":{\"field\":\"y\"}},\"id\":\"e8bd5e05-d253-495a-a6a6-0cbacfae4e00\",\"type\":\"Circle\"},{\"attributes\":{\"data_source\":{\"id\":\"5dfd3f07-eb67-415c-a444-d4c3f72d09e3\",\"type\":\"ColumnDataSource\"},\"glyph\":{\"id\":\"0cd71b30-25a7-424e-a699-308da884c99f\",\"type\":\"Circle\"},\"hover_glyph\":null,\"nonselection_glyph\":{\"id\":\"e8bd5e05-d253-495a-a6a6-0cbacfae4e00\",\"type\":\"Circle\"},\"selection_glyph\":null},\"id\":\"a61f5262-3a1b-4802-a0fe-4f196823fd35\",\"type\":\"GlyphRenderer\"},{\"attributes\":{\"axis_label\":\"Predicted\",\"axis_label_text_color\":{\"value\":\"#aa6666\"},\"formatter\":{\"id\":\"d13e5118-2048-4626-855c-c0b51d6e909b\",\"type\":\"BasicTickFormatter\"},\"plot\":{\"id\":\"64649ef6-ac99-44e5-ac96-04d865845af8\",\"subtype\":\"Figure\",\"type\":\"Plot\"},\"ticker\":{\"id\":\"20bcae0a-dca7-4ee8-a633-2b71704de535\",\"type\":\"BasicTicker\"}},\"id\":\"e190468d-8608-4000-a015-125d03c9c434\",\"type\":\"LinearAxis\"},{\"attributes\":{},\"id\":\"d13e5118-2048-4626-855c-c0b51d6e909b\",\"type\":\"BasicTickFormatter\"},{\"attributes\":{\"plot\":{\"id\":\"64649ef6-ac99-44e5-ac96-04d865845af8\",\"subtype\":\"Figure\",\"type\":\"Plot\"}},\"id\":\"e0c1bb84-4fc3-4e1b-83f4-11918a0df623\",\"type\":\"WheelZoomTool\"},{\"attributes\":{\"active_drag\":\"auto\",\"active_scroll\":\"auto\",\"active_tap\":\"auto\",\"tools\":[{\"id\":\"7e55eea0-9ede-46a4-a75f-f698b3c88d68\",\"type\":\"BoxZoomTool\"},{\"id\":\"e3ff3355-6f6d-4a68-a197-abdebe91d17c\",\"type\":\"BoxSelectTool\"},{\"id\":\"acd35eca-8bd1-40a8-a502-5c831b01ee02\",\"type\":\"CrosshairTool\"},{\"id\":\"054faf9b-f457-4cc2-9e5e-178350909bd4\",\"type\":\"ResizeTool\"},{\"id\":\"ce0d3947-1059-4341-aa26-27b017215a82\",\"type\":\"ResetTool\"},{\"id\":\"613aa847-db14-4558-8ac0-fac4ed091f90\",\"type\":\"LassoSelectTool\"},{\"id\":\"9b47e600-ad85-40d7-b2bf-6e286120ab53\",\"type\":\"PanTool\"},{\"id\":\"89d5f062-6dc5-430b-91bb-27ba71fd4162\",\"type\":\"SaveTool\"},{\"id\":\"a1d410a3-b94d-4a08-a1e4-0999a8774682\",\"type\":\"PolySelectTool\"},{\"id\":\"4a919f2a-ba02-46a8-8e4f-c0d6d5b7577f\",\"type\":\"TapTool\"},{\"id\":\"e0c1bb84-4fc3-4e1b-83f4-11918a0df623\",\"type\":\"WheelZoomTool\"},{\"id\":\"93cdb479-ba6d-4128-8b6d-4307b9fab578\",\"type\":\"UndoTool\"}]},\"id\":\"d35504df-6472-4413-b471-18eada3fdc95\",\"type\":\"Toolbar\"},{\"attributes\":{\"callback\":null},\"id\":\"c0feae5f-e477-411a-860d-905570978792\",\"type\":\"DataRange1d\"},{\"attributes\":{},\"id\":\"f57a3967-89bd-4324-aa74-c0cd447d1c2f\",\"type\":\"BasicTickFormatter\"},{\"attributes\":{\"line_alpha\":{\"value\":0.1},\"line_color\":{\"value\":\"#1f77b4\"},\"line_dash\":[4,4],\"line_width\":{\"value\":2},\"x\":{\"field\":\"x\"},\"y\":{\"field\":\"y\"}},\"id\":\"3072faba-b48d-4691-9d01-35b63c76aee1\",\"type\":\"Line\"}],\"root_ids\":[\"64649ef6-ac99-44e5-ac96-04d865845af8\"]},\"title\":\"Bokeh Application\",\"version\":\"0.12.2\"}};\n",
       "            var render_items = [{\"docid\":\"d9d91ea3-d1b9-47e5-a7e5-6f395d84294d\",\"elementid\":\"4d598a1a-0195-4eb0-9023-b8e4ab296741\",\"modelid\":\"64649ef6-ac99-44e5-ac96-04d865845af8\"}];\n",
       "            \n",
       "            Bokeh.embed.embed_items(docs_json, render_items);\n",
       "        });\n",
       "      },\n",
       "      function(Bokeh) {\n",
       "      }\n",
       "    ];\n",
       "  \n",
       "    function run_inline_js() {\n",
       "      \n",
       "      if ((window.Bokeh !== undefined) || (force === \"1\")) {\n",
       "        for (var i = 0; i < inline_js.length; i++) {\n",
       "          inline_js[i](window.Bokeh);\n",
       "        }if (force === \"1\") {\n",
       "          display_loaded();\n",
       "        }} else if (Date.now() < window._bokeh_timeout) {\n",
       "        setTimeout(run_inline_js, 100);\n",
       "      } else if (!window._bokeh_failed_load) {\n",
       "        console.log(\"Bokeh: BokehJS failed to load within specified timeout.\");\n",
       "        window._bokeh_failed_load = true;\n",
       "      } else if (!force) {\n",
       "        var cell = $(\"#4d598a1a-0195-4eb0-9023-b8e4ab296741\").parents('.cell').data().cell;\n",
       "        cell.output_area.append_execute_result(NB_LOAD_WARNING)\n",
       "      }\n",
       "  \n",
       "    }\n",
       "  \n",
       "    if (window._bokeh_is_loading === 0) {\n",
       "      console.log(\"Bokeh: BokehJS loaded, going straight to plotting\");\n",
       "      run_inline_js();\n",
       "    } else {\n",
       "      load_libs(js_urls, function() {\n",
       "        console.log(\"Bokeh: BokehJS plotting callback run at\", now());\n",
       "        run_inline_js();\n",
       "      });\n",
       "    }\n",
       "  }(this));\n",
       "</script>"
      ]
     },
     "metadata": {},
     "output_type": "display_data"
    }
   ],
   "source": [
    "# Plotining using bokeh\n",
    "#TOOLS = [BoxSelectTool(), HoverTool()]\n",
    "#TOOLS = 'hover,box_zoom,box_select,crosshair,resize,reset,KNeighborsRegressor_select,pan,save,poly_select,tap,wheel_zoom,undo'\n",
    "TOOLS = 'box_zoom,box_select,crosshair,resize,reset,lasso_select,pan,save,poly_select,tap,wheel_zoom,undo'\n",
    "p = figure(plot_width=500, plot_height=500, tools=TOOLS)\n",
    "p.scatter(Y, predicted,x=\"jjj\", marker=\"o\", color=\"#80B1D3\", line_width=3)\n",
    "p.title.align = \"center\"\n",
    "p.xaxis.axis_label = \"Measured\"\n",
    "p.xaxis.axis_label_text_color = \"#aa6666\"\n",
    "#p.xaxis.axis_label_standoff = 30\n",
    "p.xaxis.major_tick_line_color = \"firebrick\"\n",
    "p.xaxis.major_tick_line_width = 3\n",
    "p.xaxis.minor_tick_line_color = \"orange\"\n",
    "p.yaxis.axis_label = \"Predicted\"\n",
    "p.yaxis.axis_label_text_font_style = \"italic\"\n",
    "p.yaxis.axis_label_text_color = \"#aa6666\"\n",
    "p.background_fill_color = \"beige\"\n",
    "p.background_fill_alpha = 0.5\n",
    "#p.line([Y.min(), Y.max()], [Y.min(), Y.max()], line_dash=\"4 4\", line_width=2, color='red')\n",
    "\n",
    "# create a new plot with the toolbar below\n",
    "# line_dash=\"4 4\", line_width=2, color='red'\n",
    "p.line([Y.min(), Y.max()], [Y.min(), Y.max()], line_dash=\"4 4\", line_width=2, line_color=\"black\")\n",
    "show(p)"
   ]
  },
  {
   "cell_type": "code",
   "execution_count": 24,
   "metadata": {
    "collapsed": false
   },
   "outputs": [
    {
     "data": {
      "text/plain": [
       "<matplotlib.text.Text at 0x7fca94303c90>"
      ]
     },
     "execution_count": 24,
     "metadata": {},
     "output_type": "execute_result"
    },
    {
     "data": {
      "image/png": "[encoded data removed]",
      "text/plain": [
       "<matplotlib.figure.Figure at 0x7fca9436bc50>"
      ]
     },
     "metadata": {},
     "output_type": "display_data"
    }
   ],
   "source": [
    "plt.scatter(predicted, (predicted - Y), c='r', s=30)\n",
    "plt.title(\"Residual plot on the training data\")\n",
    "plt.xlabel(\"Predicted\")\n",
    "plt.ylabel(\"Residuals\")"
   ]
  },
  {
   "cell_type": "code",
   "execution_count": 25,
   "metadata": {
    "collapsed": false
   },
   "outputs": [
    {
     "data": {
      "text/html": [
       "\n",
       "\n",
       "    <div class=\"bk-root\">\n",
       "        <div class=\"plotdiv\" id=\"8d97d811-191e-48a5-91b8-6bfb6488c50f\"></div>\n",
       "    </div>\n",
       "<script type=\"text/javascript\">\n",
       "  \n",
       "  (function(global) {\n",
       "    function now() {\n",
       "      return new Date();\n",
       "    }\n",
       "  \n",
       "    var force = \"\";\n",
       "  \n",
       "    if (typeof (window._bokeh_onload_callbacks) === \"undefined\" || force !== \"\") {\n",
       "      window._bokeh_onload_callbacks = [];\n",
       "      window._bokeh_is_loading = undefined;\n",
       "    }\n",
       "  \n",
       "  \n",
       "    \n",
       "    if (typeof (window._bokeh_timeout) === \"undefined\" || force !== \"\") {\n",
       "      window._bokeh_timeout = Date.now() + 0;\n",
       "      window._bokeh_failed_load = false;\n",
       "    }\n",
       "  \n",
       "    var NB_LOAD_WARNING = {'data': {'text/html':\n",
       "       \"<div style='background-color: #fdd'>\\n\"+\n",
       "       \"<p>\\n\"+\n",
       "       \"BokehJS does not appear to have successfully loaded. If loading BokehJS from CDN, this \\n\"+\n",
       "       \"may be due to a slow or bad network connection. Possible fixes:\\n\"+\n",
       "       \"</p>\\n\"+\n",
       "       \"<ul>\\n\"+\n",
       "       \"<li>re-rerun `output_notebook()` to attempt to load from CDN again, or</li>\\n\"+\n",
       "       \"<li>use INLINE resources instead, as so:</li>\\n\"+\n",
       "       \"</ul>\\n\"+\n",
       "       \"<code>\\n\"+\n",
       "       \"from bokeh.resources import INLINE\\n\"+\n",
       "       \"output_notebook(resources=INLINE)\\n\"+\n",
       "       \"</code>\\n\"+\n",
       "       \"</div>\"}};\n",
       "  \n",
       "    function display_loaded() {\n",
       "      if (window.Bokeh !== undefined) {\n",
       "        Bokeh.$(\"#8d97d811-191e-48a5-91b8-6bfb6488c50f\").text(\"BokehJS successfully loaded.\");\n",
       "      } else if (Date.now() < window._bokeh_timeout) {\n",
       "        setTimeout(display_loaded, 100)\n",
       "      }\n",
       "    }\n",
       "  \n",
       "    function run_callbacks() {\n",
       "      window._bokeh_onload_callbacks.forEach(function(callback) { callback() });\n",
       "      delete window._bokeh_onload_callbacks\n",
       "      console.info(\"Bokeh: all callbacks have finished\");\n",
       "    }\n",
       "  \n",
       "    function load_libs(js_urls, callback) {\n",
       "      window._bokeh_onload_callbacks.push(callback);\n",
       "      if (window._bokeh_is_loading > 0) {\n",
       "        console.log(\"Bokeh: BokehJS is being loaded, scheduling callback at\", now());\n",
       "        return null;\n",
       "      }\n",
       "      if (js_urls == null || js_urls.length === 0) {\n",
       "        run_callbacks();\n",
       "        return null;\n",
       "      }\n",
       "      console.log(\"Bokeh: BokehJS not loaded, scheduling load and callback at\", now());\n",
       "      window._bokeh_is_loading = js_urls.length;\n",
       "      for (var i = 0; i < js_urls.length; i++) {\n",
       "        var url = js_urls[i];\n",
       "        var s = document.createElement('script');\n",
       "        s.src = url;\n",
       "        s.async = false;\n",
       "        s.onreadystatechange = s.onload = function() {\n",
       "          window._bokeh_is_loading--;\n",
       "          if (window._bokeh_is_loading === 0) {\n",
       "            console.log(\"Bokeh: all BokehJS libraries loaded\");\n",
       "            run_callbacks()\n",
       "          }\n",
       "        };\n",
       "        s.onerror = function() {\n",
       "          console.warn(\"failed to load library \" + url);\n",
       "        };\n",
       "        console.log(\"Bokeh: injecting script tag for BokehJS library: \", url);\n",
       "        document.getElementsByTagName(\"head\")[0].appendChild(s);\n",
       "      }\n",
       "    };var element = document.getElementById(\"8d97d811-191e-48a5-91b8-6bfb6488c50f\");\n",
       "    if (element == null) {\n",
       "      console.log(\"Bokeh: ERROR: autoload.js configured with elementid '8d97d811-191e-48a5-91b8-6bfb6488c50f' but no matching script tag was found. \")\n",
       "      return false;\n",
       "    }\n",
       "  \n",
       "    var js_urls = [];\n",
       "  \n",
       "    var inline_js = [\n",
       "      function(Bokeh) {\n",
       "        Bokeh.$(function() {\n",
       "            var docs_json = {\"bbc067e4-ff20-435b-bb4e-1314012b9e74\":{\"roots\":{\"references\":[{\"attributes\":{\"callback\":null},\"id\":\"2db6c055-deb8-4c2d-8028-50ada0093c80\",\"type\":\"DataRange1d\"},{\"attributes\":{\"overlay\":{\"id\":\"6d16c880-05d7-4092-9555-615878388957\",\"type\":\"PolyAnnotation\"},\"plot\":{\"id\":\"8efcc75e-404e-4089-830e-4a28283a49a2\",\"subtype\":\"Figure\",\"type\":\"Plot\"}},\"id\":\"796254a5-d567-4dba-827e-f3f63f6bb441\",\"type\":\"PolySelectTool\"},{\"attributes\":{\"bottom_units\":\"screen\",\"fill_alpha\":{\"value\":0.5},\"fill_color\":{\"value\":\"lightgrey\"},\"left_units\":\"screen\",\"level\":\"overlay\",\"line_alpha\":{\"value\":1.0},\"line_color\":{\"value\":\"black\"},\"line_dash\":[4,4],\"line_width\":{\"value\":2},\"plot\":null,\"render_mode\":\"css\",\"right_units\":\"screen\",\"top_units\":\"screen\"},\"id\":\"8646e18f-9626-41a2-83fe-7940d44dcff6\",\"type\":\"BoxAnnotation\"},{\"attributes\":{\"background_fill_alpha\":{\"value\":0.5},\"background_fill_color\":{\"value\":\"beige\"},\"below\":[{\"id\":\"fce7a538-940a-4f63-9444-e78fedd68488\",\"type\":\"LinearAxis\"}],\"left\":[{\"id\":\"46c7c504-21ac-4e61-997b-5af4f3cc0010\",\"type\":\"LinearAxis\"}],\"plot_height\":500,\"plot_width\":500,\"renderers\":[{\"id\":\"fce7a538-940a-4f63-9444-e78fedd68488\",\"type\":\"LinearAxis\"},{\"id\":\"6e94ee3c-e93f-4ec7-947a-de50062c9c23\",\"type\":\"Grid\"},{\"id\":\"46c7c504-21ac-4e61-997b-5af4f3cc0010\",\"type\":\"LinearAxis\"},{\"id\":\"d2e2ec1c-03d7-43ad-8a3e-f3ef4db9bd80\",\"type\":\"Grid\"},{\"id\":\"f271db90-f992-4f89-8d34-e58174df65ce\",\"type\":\"BoxAnnotation\"},{\"id\":\"8646e18f-9626-41a2-83fe-7940d44dcff6\",\"type\":\"BoxAnnotation\"},{\"id\":\"48a1ba30-839a-4b57-8b80-e3f406bdddae\",\"type\":\"PolyAnnotation\"},{\"id\":\"6d16c880-05d7-4092-9555-615878388957\",\"type\":\"PolyAnnotation\"},{\"id\":\"8766fc26-5b54-4c12-bb89-047c6a8a6e8a\",\"type\":\"GlyphRenderer\"}],\"title\":{\"id\":\"6d7b1e70-d732-4eb5-80fd-31258bb3a2ab\",\"type\":\"Title\"},\"tool_events\":{\"id\":\"b11b5e2c-d334-4057-909c-a5c116ecf73b\",\"type\":\"ToolEvents\"},\"toolbar\":{\"id\":\"68cd00df-6a7a-4a0c-a565-747426e4ac8c\",\"type\":\"Toolbar\"},\"x_range\":{\"id\":\"2eef4335-18f0-4350-83b5-75b8f65c68e2\",\"type\":\"DataRange1d\"},\"y_range\":{\"id\":\"2db6c055-deb8-4c2d-8028-50ada0093c80\",\"type\":\"DataRange1d\"}},\"id\":\"8efcc75e-404e-4089-830e-4a28283a49a2\",\"subtype\":\"Figure\",\"type\":\"Plot\"},{\"attributes\":{\"callback\":null,\"overlay\":{\"id\":\"48a1ba30-839a-4b57-8b80-e3f406bdddae\",\"type\":\"PolyAnnotation\"},\"plot\":{\"id\":\"8efcc75e-404e-4089-830e-4a28283a49a2\",\"subtype\":\"Figure\",\"type\":\"Plot\"}},\"id\":\"ff60d07b-dcc8-42e4-8c7f-d2160936a5d0\",\"type\":\"LassoSelectTool\"},{\"attributes\":{},\"id\":\"03ec23c5-b5d4-4979-9b7c-a62bdd6d6361\",\"type\":\"BasicTickFormatter\"},{\"attributes\":{},\"id\":\"fdf4dbe9-dbcc-4a13-80c8-2fb7a0a56d74\",\"type\":\"BasicTicker\"},{\"attributes\":{\"active_drag\":\"auto\",\"active_scroll\":\"auto\",\"active_tap\":\"auto\",\"tools\":[{\"id\":\"16380e06-032c-4509-a918-26fdc411a449\",\"type\":\"BoxZoomTool\"},{\"id\":\"45aa8727-869d-419a-9fba-1d000b703a4b\",\"type\":\"BoxSelectTool\"},{\"id\":\"09df9a8a-4615-4357-956b-07376962fad4\",\"type\":\"CrosshairTool\"},{\"id\":\"6529d5ff-de99-49f8-b8a6-3c4604aaf199\",\"type\":\"ResizeTool\"},{\"id\":\"fd1bdde0-0357-47f0-9814-f25abd4719e5\",\"type\":\"ResetTool\"},{\"id\":\"ff60d07b-dcc8-42e4-8c7f-d2160936a5d0\",\"type\":\"LassoSelectTool\"},{\"id\":\"12d17927-af35-419f-8917-3b27f7774f74\",\"type\":\"PanTool\"},{\"id\":\"22f79974-1700-43b2-a98d-2feaf4aa715a\",\"type\":\"SaveTool\"},{\"id\":\"796254a5-d567-4dba-827e-f3f63f6bb441\",\"type\":\"PolySelectTool\"},{\"id\":\"235efac3-48de-4f0a-aa5d-4dde9a2be089\",\"type\":\"TapTool\"},{\"id\":\"0fb344ef-11fc-42a6-89a3-f677fd4ae476\",\"type\":\"WheelZoomTool\"},{\"id\":\"748ff4c1-bf82-4a1c-91cc-261b83fa8201\",\"type\":\"UndoTool\"}]},\"id\":\"68cd00df-6a7a-4a0c-a565-747426e4ac8c\",\"type\":\"Toolbar\"},{\"attributes\":{\"plot\":{\"id\":\"8efcc75e-404e-4089-830e-4a28283a49a2\",\"subtype\":\"Figure\",\"type\":\"Plot\"},\"ticker\":{\"id\":\"fdf4dbe9-dbcc-4a13-80c8-2fb7a0a56d74\",\"type\":\"BasicTicker\"}},\"id\":\"6e94ee3c-e93f-4ec7-947a-de50062c9c23\",\"type\":\"Grid\"},{\"attributes\":{\"fill_color\":{\"value\":\"#80B1D3\"},\"line_color\":{\"value\":\"#80B1D3\"},\"line_width\":{\"value\":3},\"x\":{\"field\":\"x\"},\"y\":{\"field\":\"y\"}},\"id\":\"74bf077a-8d0f-4122-a425-b695eea2bb43\",\"type\":\"Circle\"},{\"attributes\":{\"plot\":{\"id\":\"8efcc75e-404e-4089-830e-4a28283a49a2\",\"subtype\":\"Figure\",\"type\":\"Plot\"}},\"id\":\"748ff4c1-bf82-4a1c-91cc-261b83fa8201\",\"type\":\"UndoTool\"},{\"attributes\":{},\"id\":\"b11b5e2c-d334-4057-909c-a5c116ecf73b\",\"type\":\"ToolEvents\"},{\"attributes\":{\"fill_alpha\":{\"value\":0.5},\"fill_color\":{\"value\":\"lightgrey\"},\"level\":\"overlay\",\"line_alpha\":{\"value\":1.0},\"line_color\":{\"value\":\"black\"},\"line_dash\":[4,4],\"line_width\":{\"value\":2},\"plot\":null,\"xs_units\":\"screen\",\"ys_units\":\"screen\"},\"id\":\"48a1ba30-839a-4b57-8b80-e3f406bdddae\",\"type\":\"PolyAnnotation\"},{\"attributes\":{\"callback\":null,\"column_names\":[\"x\",\"y\"],\"data\":{\"x\":[13.75,27.75,33.45,27.75,32.525,38.7,27.950000000000003,20.4,34.1,35.05,21.75,13.5,24.925,31.75,28.549999999999997,18.825,22.724999999999998,26.5,20.925,13.25,20.925,35.2,26.65,24.75,36.925000000000004,26.0,22.45,14.75,14.75,23.5,24.5,27.5,14.375,35.75,24.75,25.75,26.825,13.25,16.675,35.225,14.875,21.900000000000002,14.5,25.5,18.625,19.5,32.95,34.3,26.875,20.225,14.75,29.0,20.75,19.5,35.325,39.49999999999999,35.75,19.0,30.0,20.025,24.0,23.5,23.25,12.5,37.625,25.4,14.0,12.75,29.275000000000002,22.025,27.8,24.25,14.75,14.0,18.7,21.5,27.175000000000004,19.325000000000003,19.200000000000003,16.375,18.25,33.95,17.0,17.25,26.4,18.0,13.5,25.75,29.0,20.9,32.775,22.625,15.625,30.525,27.0,24.25,32.55,14.875,33.7,14.25,13.75,33.1,20.05,21.15,24.75,31.25,17.725,20.775,27.0,39.65,35.875,12.5,16.5,14.375,13.5,20.175,26.825,27.275,15.0,26.0,28.4,25.95,19.175,20.875,27.8,17.75,30.0,17.475,13.25,20.0,33.475,13.0,31.4,29.0,14.75,24.75,16.775,21.7,26.125,25.4,13.75,24.75,19.7,27.0,34.224999999999994,16.85,24.75,15.25,27.6,14.75,34.45,29.125,18.85,17.3,12.5,16.25,25.25,14.125,29.875,26.75,25.975,15.625,15.625,27.9,26.25,24.5,14.75,19.875,20.75,26.175,14.0,23.0,40.1,30.125,29.575,17.625,14.25,29.875,26.175,31.125,25.049999999999997,28.0,19.4,34.275,17.0,18.625,21.5,26.25,26.375,18.2,36.675,35.775000000000006,26.375,33.45,25.0,19.425,15.25,31.3,15.5,31.525,20.0,34.975,24.0,14.5,27.099999999999998,23.5,30.425000000000004,19.975,26.1,34.975,20.0,18.3,13.5,32.575,23.5,15.25,21.125,13.25,16.5,19.0,33.025,16.75,34.525,23.75,19.8,13.25,25.174999999999997,13.0,35.775,20.0,13.75,24.974999999999998,20.25,20.6,31.525,18.925,26.5,25.75,20.6,28.375,38.65,29.1,18.674999999999997,29.375,25.75,14.75,35.45,18.8,13.0,25.5,25.5,24.75,18.174999999999997,25.75,34.7,20.325,32.9,13.0,12.5,24.174999999999997,26.4,35.45,13.75,29.0,35.8,17.5,17.125,13.0,25.75,19.5,26.0,38.175,20.225,25.25,23.0,20.25,30.0,26.65,18.425,29.975,25.25,18.549999999999997,27.35,24.25,19.0,27.65,34.075,30.0,24.875,14.0,17.225,15.25,23.275,12.5,15.35,36.025,34.775000000000006,20.75,36.3,12.5,19.55,25.275,14.25,13.25,14.0,17.25,21.724999999999998,19.725,18.75,14.5,30.625000000000004,30.0,18.424999999999997,23.4,19.9,27.25,17.25,26.75],\"y\":[-1.25,0.75,-0.8499999999999943,1.75,0.9249999999999972,4.900000000000006,-1.0499999999999972,2.299999999999997,6.900000000000002,-2.950000000000003,-4.25,-0.5,2.9250000000000007,0.75,-7.850000000000001,1.2249999999999979,5.024999999999999,-1.5,0.125,-0.75,0.7250000000000014,2.4000000000000057,4.349999999999998,-3.25,-0.07499999999999574,-1.0,-0.75,1.75,-0.25,1.5,0.5,-1.5,1.375,3.9499999999999993,1.75,0.25,-3.0749999999999993,0.25,-0.8249999999999993,-11.375,-0.625,-10.999999999999996,0.5,0.5,-0.7749999999999986,4.5,0.5500000000000043,2.799999999999997,-0.125,0.4250000000000007,-2.25,-4.5,-0.25,-3.5,-2.7749999999999986,-4.500000000000007,-5.049999999999997,-2.0,1.0,2.5249999999999986,-4.0,-2.5,-2.75,1.5,-0.07500000000000284,1.1999999999999993,-2.0,-3.25,-0.7249999999999979,3.0249999999999986,0.8000000000000007,5.25,-1.25,-2.0,-1.6000000000000014,0.5,-6.324999999999996,-3.674999999999997,-2.299999999999997,0.375,-0.75,-3.049999999999997,2.0,1.25,0.3999999999999986,0.0,0.5,4.75,0.0,-1.1000000000000014,-0.22500000000000142,0.625,-0.375,-5.475000000000001,7.0,2.25,1.2499999999999964,0.375,3.900000000000002,1.25,0.75,-2.8999999999999986,-0.4499999999999993,-3.8500000000000014,-2.25,-1.75,1.2250000000000014,0.17499999999999716,-3.0,-3.75,1.1749999999999972,1.5,-1.5,1.375,-2.5,1.1750000000000007,3.8249999999999993,1.7749999999999986,1.0,1.5,-1.6000000000000014,0.14999999999999858,-18.825,-7.925000000000001,1.1999999999999993,0.75,-2.0,-0.625,2.25,-1.0,-2.5249999999999986,0.0,1.3999999999999986,-2.0,0.75,6.75,3.7749999999999986,0.09999999999999787,-1.875,1.5999999999999979,-0.25,-2.25,-0.5,1.0,-5.175000000000004,-3.049999999999997,5.75,1.25,4.0,1.75,-3.549999999999997,-1.375,0.3500000000000014,0.3000000000000007,0.5,0.25,-2.75,-1.375,-2.125,2.75,0.875,-0.375,2.625,3.8999999999999986,4.25,0.5,-0.25,0.875,2.75,-1.0249999999999986,0.0,2.0,-4.199999999999996,2.125,-1.9250000000000007,-1.5749999999999993,0.25,-0.625,-3.625,-4.975000000000001,-1.7500000000000036,2.0,-1.1000000000000014,2.174999999999997,1.0,1.625,1.5,4.25,1.375,-5.699999999999999,5.674999999999997,-3.2249999999999943,-1.625,-1.0499999999999972,3.0,-1.1750000000000007,1.25,5.900000000000002,1.5,1.5249999999999986,1.0,-1.0249999999999986,-1.0,0.5,5.9999999999999964,-4.5,11.425000000000004,0.875,1.8000000000000007,-9.625,0.0,1.3000000000000007,0.5,-1.625,-2.5,-2.25,-4.875,0.25,-1.5,0.5,-2.9750000000000014,0.75,-3.4750000000000014,0.75,-0.6999999999999993,0.25,-2.825000000000003,1.0,1.6749999999999972,0.0,1.75,-3.4250000000000007,2.25,0.6000000000000014,2.0249999999999986,-0.07499999999999929,0.5,-0.25,-4.399999999999999,-3.625,4.949999999999996,1.1000000000000014,-0.5250000000000021,-0.125,-1.25,-0.25,-3.6499999999999986,-7.800000000000001,0.0,2.5,-2.0,4.75,-1.0250000000000021,1.75,2.5,0.9250000000000007,-0.10000000000000142,1.0,-0.5,6.574999999999996,2.5,1.0500000000000043,-0.25,-2.0,0.6999999999999957,2.5,1.625,4.0,0.75,1.5,-5.0,-4.925000000000004,2.7250000000000014,0.25,-2.0,1.25,4.0,-4.350000000000001,0.22500000000000142,-0.7249999999999979,1.25,1.5499999999999972,0.3500000000000014,1.25,1.0,0.4499999999999993,-0.9249999999999972,1.0,3.375,-1.0,-0.2749999999999986,0.25,-9.425000000000004,2.5,-4.65,3.625,0.7750000000000057,2.75,4.299999999999997,-1.5,-4.449999999999999,-1.125,0.25,0.25,1.0,-1.25,0.22499999999999787,3.525000000000002,2.25,-0.5,2.525000000000002,1.0,-1.7750000000000021,-4.5,-2.1000000000000014,-1.75,-1.75,1.75]}},\"id\":\"86c8b115-9586-4a39-8553-7cd61333f68b\",\"type\":\"ColumnDataSource\"},{\"attributes\":{},\"id\":\"0833f259-18b0-4e08-85e5-2f9c01bf3621\",\"type\":\"BasicTickFormatter\"},{\"attributes\":{\"bottom_units\":\"screen\",\"fill_alpha\":{\"value\":0.5},\"fill_color\":{\"value\":\"lightgrey\"},\"left_units\":\"screen\",\"level\":\"overlay\",\"line_alpha\":{\"value\":1.0},\"line_color\":{\"value\":\"black\"},\"line_dash\":[4,4],\"line_width\":{\"value\":2},\"plot\":null,\"render_mode\":\"css\",\"right_units\":\"screen\",\"top_units\":\"screen\"},\"id\":\"f271db90-f992-4f89-8d34-e58174df65ce\",\"type\":\"BoxAnnotation\"},{\"attributes\":{\"callback\":null,\"overlay\":{\"id\":\"8646e18f-9626-41a2-83fe-7940d44dcff6\",\"type\":\"BoxAnnotation\"},\"plot\":{\"id\":\"8efcc75e-404e-4089-830e-4a28283a49a2\",\"subtype\":\"Figure\",\"type\":\"Plot\"},\"renderers\":[{\"id\":\"8766fc26-5b54-4c12-bb89-047c6a8a6e8a\",\"type\":\"GlyphRenderer\"}]},\"id\":\"45aa8727-869d-419a-9fba-1d000b703a4b\",\"type\":\"BoxSelectTool\"},{\"attributes\":{\"axis_label\":\"Predicted\",\"axis_label_text_color\":{\"value\":\"#aa6666\"},\"formatter\":{\"id\":\"0833f259-18b0-4e08-85e5-2f9c01bf3621\",\"type\":\"BasicTickFormatter\"},\"major_tick_line_color\":{\"value\":\"firebrick\"},\"major_tick_line_width\":{\"value\":3},\"minor_tick_line_color\":{\"value\":\"orange\"},\"plot\":{\"id\":\"8efcc75e-404e-4089-830e-4a28283a49a2\",\"subtype\":\"Figure\",\"type\":\"Plot\"},\"ticker\":{\"id\":\"fdf4dbe9-dbcc-4a13-80c8-2fb7a0a56d74\",\"type\":\"BasicTicker\"}},\"id\":\"fce7a538-940a-4f63-9444-e78fedd68488\",\"type\":\"LinearAxis\"},{\"attributes\":{\"data_source\":{\"id\":\"86c8b115-9586-4a39-8553-7cd61333f68b\",\"type\":\"ColumnDataSource\"},\"glyph\":{\"id\":\"74bf077a-8d0f-4122-a425-b695eea2bb43\",\"type\":\"Circle\"},\"hover_glyph\":null,\"nonselection_glyph\":{\"id\":\"ba44f369-a3a3-4345-87ec-bf4370a1ff57\",\"type\":\"Circle\"},\"selection_glyph\":null},\"id\":\"8766fc26-5b54-4c12-bb89-047c6a8a6e8a\",\"type\":\"GlyphRenderer\"},{\"attributes\":{\"callback\":null},\"id\":\"2eef4335-18f0-4350-83b5-75b8f65c68e2\",\"type\":\"DataRange1d\"},{\"attributes\":{\"plot\":{\"id\":\"8efcc75e-404e-4089-830e-4a28283a49a2\",\"subtype\":\"Figure\",\"type\":\"Plot\"}},\"id\":\"6529d5ff-de99-49f8-b8a6-3c4604aaf199\",\"type\":\"ResizeTool\"},{\"attributes\":{\"axis_label\":\"Residuals\",\"axis_label_text_color\":{\"value\":\"#aa6666\"},\"formatter\":{\"id\":\"03ec23c5-b5d4-4979-9b7c-a62bdd6d6361\",\"type\":\"BasicTickFormatter\"},\"plot\":{\"id\":\"8efcc75e-404e-4089-830e-4a28283a49a2\",\"subtype\":\"Figure\",\"type\":\"Plot\"},\"ticker\":{\"id\":\"9e88e4f0-9626-4c01-8b97-e9b0e1b8794b\",\"type\":\"BasicTicker\"}},\"id\":\"46c7c504-21ac-4e61-997b-5af4f3cc0010\",\"type\":\"LinearAxis\"},{\"attributes\":{\"dimension\":1,\"plot\":{\"id\":\"8efcc75e-404e-4089-830e-4a28283a49a2\",\"subtype\":\"Figure\",\"type\":\"Plot\"},\"ticker\":{\"id\":\"9e88e4f0-9626-4c01-8b97-e9b0e1b8794b\",\"type\":\"BasicTicker\"}},\"id\":\"d2e2ec1c-03d7-43ad-8a3e-f3ef4db9bd80\",\"type\":\"Grid\"},{\"attributes\":{\"align\":\"center\",\"plot\":null,\"text\":\"Residual plot on the training data\"},\"id\":\"6d7b1e70-d732-4eb5-80fd-31258bb3a2ab\",\"type\":\"Title\"},{\"attributes\":{\"plot\":{\"id\":\"8efcc75e-404e-4089-830e-4a28283a49a2\",\"subtype\":\"Figure\",\"type\":\"Plot\"}},\"id\":\"09df9a8a-4615-4357-956b-07376962fad4\",\"type\":\"CrosshairTool\"},{\"attributes\":{\"plot\":{\"id\":\"8efcc75e-404e-4089-830e-4a28283a49a2\",\"subtype\":\"Figure\",\"type\":\"Plot\"}},\"id\":\"0fb344ef-11fc-42a6-89a3-f677fd4ae476\",\"type\":\"WheelZoomTool\"},{\"attributes\":{},\"id\":\"9e88e4f0-9626-4c01-8b97-e9b0e1b8794b\",\"type\":\"BasicTicker\"},{\"attributes\":{\"fill_alpha\":{\"value\":0.5},\"fill_color\":{\"value\":\"lightgrey\"},\"level\":\"overlay\",\"line_alpha\":{\"value\":1.0},\"line_color\":{\"value\":\"black\"},\"line_dash\":[4,4],\"line_width\":{\"value\":2},\"plot\":null,\"xs_units\":\"screen\",\"ys_units\":\"screen\"},\"id\":\"6d16c880-05d7-4092-9555-615878388957\",\"type\":\"PolyAnnotation\"},{\"attributes\":{\"plot\":{\"id\":\"8efcc75e-404e-4089-830e-4a28283a49a2\",\"subtype\":\"Figure\",\"type\":\"Plot\"}},\"id\":\"22f79974-1700-43b2-a98d-2feaf4aa715a\",\"type\":\"SaveTool\"},{\"attributes\":{\"fill_alpha\":{\"value\":0.1},\"fill_color\":{\"value\":\"#1f77b4\"},\"line_alpha\":{\"value\":0.1},\"line_color\":{\"value\":\"#1f77b4\"},\"line_width\":{\"value\":3},\"x\":{\"field\":\"x\"},\"y\":{\"field\":\"y\"}},\"id\":\"ba44f369-a3a3-4345-87ec-bf4370a1ff57\",\"type\":\"Circle\"},{\"attributes\":{\"plot\":{\"id\":\"8efcc75e-404e-4089-830e-4a28283a49a2\",\"subtype\":\"Figure\",\"type\":\"Plot\"}},\"id\":\"12d17927-af35-419f-8917-3b27f7774f74\",\"type\":\"PanTool\"},{\"attributes\":{\"plot\":{\"id\":\"8efcc75e-404e-4089-830e-4a28283a49a2\",\"subtype\":\"Figure\",\"type\":\"Plot\"}},\"id\":\"fd1bdde0-0357-47f0-9814-f25abd4719e5\",\"type\":\"ResetTool\"},{\"attributes\":{\"callback\":null,\"plot\":{\"id\":\"8efcc75e-404e-4089-830e-4a28283a49a2\",\"subtype\":\"Figure\",\"type\":\"Plot\"}},\"id\":\"235efac3-48de-4f0a-aa5d-4dde9a2be089\",\"type\":\"TapTool\"},{\"attributes\":{\"overlay\":{\"id\":\"f271db90-f992-4f89-8d34-e58174df65ce\",\"type\":\"BoxAnnotation\"},\"plot\":{\"id\":\"8efcc75e-404e-4089-830e-4a28283a49a2\",\"subtype\":\"Figure\",\"type\":\"Plot\"}},\"id\":\"16380e06-032c-4509-a918-26fdc411a449\",\"type\":\"BoxZoomTool\"}],\"root_ids\":[\"8efcc75e-404e-4089-830e-4a28283a49a2\"]},\"title\":\"Bokeh Application\",\"version\":\"0.12.2\"}};\n",
       "            var render_items = [{\"docid\":\"bbc067e4-ff20-435b-bb4e-1314012b9e74\",\"elementid\":\"8d97d811-191e-48a5-91b8-6bfb6488c50f\",\"modelid\":\"8efcc75e-404e-4089-830e-4a28283a49a2\"}];\n",
       "            \n",
       "            Bokeh.embed.embed_items(docs_json, render_items);\n",
       "        });\n",
       "      },\n",
       "      function(Bokeh) {\n",
       "      }\n",
       "    ];\n",
       "  \n",
       "    function run_inline_js() {\n",
       "      \n",
       "      if ((window.Bokeh !== undefined) || (force === \"1\")) {\n",
       "        for (var i = 0; i < inline_js.length; i++) {\n",
       "          inline_js[i](window.Bokeh);\n",
       "        }if (force === \"1\") {\n",
       "          display_loaded();\n",
       "        }} else if (Date.now() < window._bokeh_timeout) {\n",
       "        setTimeout(run_inline_js, 100);\n",
       "      } else if (!window._bokeh_failed_load) {\n",
       "        console.log(\"Bokeh: BokehJS failed to load within specified timeout.\");\n",
       "        window._bokeh_failed_load = true;\n",
       "      } else if (!force) {\n",
       "        var cell = $(\"#8d97d811-191e-48a5-91b8-6bfb6488c50f\").parents('.cell').data().cell;\n",
       "        cell.output_area.append_execute_result(NB_LOAD_WARNING)\n",
       "      }\n",
       "  \n",
       "    }\n",
       "  \n",
       "    if (window._bokeh_is_loading === 0) {\n",
       "      console.log(\"Bokeh: BokehJS loaded, going straight to plotting\");\n",
       "      run_inline_js();\n",
       "    } else {\n",
       "      load_libs(js_urls, function() {\n",
       "        console.log(\"Bokeh: BokehJS plotting callback run at\", now());\n",
       "        run_inline_js();\n",
       "      });\n",
       "    }\n",
       "  }(this));\n",
       "</script>"
      ]
     },
     "metadata": {},
     "output_type": "display_data"
    }
   ],
   "source": [
    "# Plotining using bokeh\n",
    "#TOOLS = 'hover,box_zoom,box_select,crosshair,resize,reset,KNeighborsRegressor_select,pan,save,poly_select,tap,wheel_zoom,undo'\n",
    "TOOLS = 'box_zoom,box_select,crosshair,resize,reset,lasso_select,pan,save,poly_select,tap,wheel_zoom,undo'\n",
    "p = figure(plot_width=500, plot_height=500, title=\"Residual plot on the training data\", tools=TOOLS)\n",
    "p.scatter(predicted, (predicted - Y),x=\"jjj\", marker=\"o\", color=\"#80B1D3\", line_width=3)\n",
    "p.title.align = \"center\"\n",
    "p.xaxis.axis_label = \"Predicted\"\n",
    "p.xaxis.axis_label_text_color = \"#aa6666\"\n",
    "#p.xaxis.axis_label_standoff = 30\n",
    "p.xaxis.major_tick_line_color = \"firebrick\"\n",
    "p.xaxis.major_tick_line_width = 3\n",
    "p.xaxis.minor_tick_line_color = \"orange\"\n",
    "p.yaxis.axis_label = \"Residuals\"\n",
    "p.yaxis.axis_label_text_font_style = \"italic\"\n",
    "p.yaxis.axis_label_text_color = \"#aa6666\"\n",
    "p.background_fill_color = \"beige\"\n",
    "p.background_fill_alpha = 0.5\n",
    "#p.line([2,38], [0, 0], line_dash=\"4 4\", line_width=2, color='red')\n",
    "show(p)"
   ]
  },
  {
   "cell_type": "markdown",
   "metadata": {},
   "source": [
    "## Pipeline"
   ]
  },
  {
   "cell_type": "markdown",
   "metadata": {},
   "source": [
    "The best to deliver the model by pipeline the operation then at deployment can be done in one model."
   ]
  },
  {
   "cell_type": "markdown",
   "metadata": {
    "collapsed": true
   },
   "source": [
    "  I used two ways to check the pipeline so any one can be fine"
   ]
  },
  {
   "cell_type": "code",
   "execution_count": 26,
   "metadata": {
    "collapsed": false
   },
   "outputs": [
    {
     "name": "stdout",
     "output_type": "stream",
     "text": [
      "0.910607920796\n",
      "Scoring according to mean_squared_error\n",
      "[ -8.02886719 -13.93136719  -7.66972656 -16.80583984  -6.79857422\n",
      "  -7.3559375  -12.68974609  -6.72800781  -6.59433468  -8.41864919]\n",
      "\n",
      " Mean      Standard deviation\n",
      "-9.50      3.43\n",
      "[ True  True  True  True  True  True  True]\n",
      "R-squared =  0.910607920796\n"
     ]
    }
   ],
   "source": [
    "# Use Pipeline\n",
    "# ANOVA \n",
    "from sklearn.pipeline import Pipeline\n",
    "from sklearn.feature_selection import SelectKBest, f_regression\n",
    "anova_filter = SelectKBest(f_regression, k=7)\n",
    "LR = KNeighborsRegressor(n_neighbors = 4, algorithm = 'kd_tree')\n",
    "anova_LinReg = Pipeline([('scaler_Input',scaler), ('anova', anova_filter), ('LinReg', LR)])\n",
    "# You can set the parameters using the names issued\n",
    "# For instance, fit using a k of 10 in the SelectKBest\n",
    "anova_LinReg.set_params(anova__k=7).fit(new_data, Y)\n",
    "prediction = anova_LinReg.predict(new_data)\n",
    "print anova_LinReg.score(new_data, Y)                        \n",
    "# getting the selected features chosen by anova_filter\n",
    "results = cross_validation.cross_val_score(anova_LinReg, new_data, Y, cv=kfold, scoring=scoring)\n",
    "print 'Scoring according to mean_squared_error'\n",
    "print results\n",
    "print '\\n Mean      Standard deviation'\n",
    "print(\"%.2f      %.2f\" % (results.mean(), results.std()))\n",
    "print anova_LinReg.named_steps['anova'].get_support()\n",
    "r_squared = r2_score(Y, prediction, multioutput='variance_weighted')\n",
    "print 'R-squared = ',r_squared"
   ]
  },
  {
   "cell_type": "code",
   "execution_count": 27,
   "metadata": {
    "collapsed": false
   },
   "outputs": [
    {
     "name": "stdout",
     "output_type": "stream",
     "text": [
      "R-squared =  0.910607920796\n"
     ]
    }
   ],
   "source": [
    "# Using make_pipeline\n",
    "from sklearn.pipeline import make_pipeline\n",
    "\n",
    "# ANOVA SVM-C\n",
    "# 1) anova filter, take 3 best ranked features\n",
    "anova_filter = SelectKBest(f_regression, k=7)\n",
    "anova_KNeighborsRegressor = make_pipeline(scaler, anova_filter, LR)\n",
    "anova_KNeighborsRegressor.fit(new_data, Y)\n",
    "prediction = anova_KNeighborsRegressor.predict(new_data)\n",
    "r_squared = r2_score(Y, prediction, multioutput='variance_weighted')\n",
    "print 'R-squared = ',r_squared"
   ]
  },
  {
   "cell_type": "markdown",
   "metadata": {},
   "source": [
    "### Save the Pipeline model for developement"
   ]
  },
  {
   "cell_type": "code",
   "execution_count": 28,
   "metadata": {
    "collapsed": false
   },
   "outputs": [
    {
     "data": {
      "text/plain": [
       "['anova_KNeighborsRegressor.pkl',\n",
       " 'anova_KNeighborsRegressor.pkl_01.npy',\n",
       " 'anova_KNeighborsRegressor.pkl_02.npy',\n",
       " 'anova_KNeighborsRegressor.pkl_03.npy',\n",
       " 'anova_KNeighborsRegressor.pkl_04.npy',\n",
       " 'anova_KNeighborsRegressor.pkl_05.npy',\n",
       " 'anova_KNeighborsRegressor.pkl_06.npy',\n",
       " 'anova_KNeighborsRegressor.pkl_07.npy',\n",
       " 'anova_KNeighborsRegressor.pkl_08.npy',\n",
       " 'anova_KNeighborsRegressor.pkl_09.npy',\n",
       " 'anova_KNeighborsRegressor.pkl_10.npy',\n",
       " 'anova_KNeighborsRegressor.pkl_11.npy',\n",
       " 'anova_KNeighborsRegressor.pkl_12.npy',\n",
       " 'anova_KNeighborsRegressor.pkl_13.npy']"
      ]
     },
     "execution_count": 28,
     "metadata": {},
     "output_type": "execute_result"
    }
   ],
   "source": [
    "# save the model scaler to the desk\n",
    "from sklearn.externals import joblib\n",
    "joblib.dump(anova_KNeighborsRegressor, 'anova_KNeighborsRegressor.pkl') "
   ]
  },
  {
   "cell_type": "code",
   "execution_count": 29,
   "metadata": {
    "collapsed": false
   },
   "outputs": [
    {
     "name": "stdout",
     "output_type": "stream",
     "text": [
      " =================================================================>>>>> done\n",
      "R-squared =  0.910607920796\n"
     ]
    }
   ],
   "source": [
    "# Test the model if it is work\n",
    "anova_KNeighborsRegressorTest = joblib.load('anova_KNeighborsRegressor.pkl')\n",
    "NewPred = anova_KNeighborsRegressorTest.predict(new_data)\n",
    "print \" =================================================================>>>>> done\"\n",
    "r_squared = r2_score(Y, NewPred, multioutput='variance_weighted')\n",
    "print 'R-squared = ',r_squared"
   ]
  },
  {
   "cell_type": "code",
   "execution_count": 30,
   "metadata": {
    "collapsed": false
   },
   "outputs": [
    {
     "name": "stdout",
     "output_type": "stream",
     "text": [
      "Point of training data before normalization\n",
      "[  4.00000000e+00   9.70000000e+01   5.10000000e+01   2.13000000e+03\n",
      "   2.46000000e+01   8.20000000e+01   2.00000000e+00]\n",
      "\n",
      "The read target of the data =  44.0\n",
      "\n",
      "The Predicted target of the data =  [ 43.7]\n"
     ]
    }
   ],
   "source": [
    "# test on single data point, randomly choose point number 55\n",
    "print 'Point of training data before normalization\\n',new_data[55]\n",
    "print '\\nThe read target of the data = ', Y[55]\n",
    "NewPred = anova_KNeighborsRegressorTest.predict([new_data[55]])\n",
    "print '\\nThe Predicted target of the data = ', NewPred"
   ]
  },
  {
   "cell_type": "markdown",
   "metadata": {},
   "source": [
    "## Conclusion "
   ]
  }
 ],
 "metadata": {
  "kernelspec": {
   "display_name": "Python 2",
   "language": "python",
   "name": "python2"
  },
  "language_info": {
   "codemirror_mode": {
    "name": "ipython",
    "version": 2
   },
   "file_extension": ".py",
   "mimetype": "text/x-python",
   "name": "python",
   "nbconvert_exporter": "python",
   "pygments_lexer": "ipython2",
   "version": "2.7.12"
  }
 },
 "nbformat": 4,
 "nbformat_minor": 0
}
