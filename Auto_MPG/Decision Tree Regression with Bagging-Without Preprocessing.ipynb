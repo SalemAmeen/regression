{
 "cells": [
  {
   "cell_type": "markdown",
   "metadata": {},
   "source": [
    "Salem Ameen, PhD student at Salford University\n",
    "\n",
    "### Auto MPG\n",
    "\n",
    "Decision trees Regression"
   ]
  },
  {
   "cell_type": "markdown",
   "metadata": {},
   "source": [
    "# Import the Libraries"
   ]
  },
  {
   "cell_type": "code",
   "execution_count": 1,
   "metadata": {
    "collapsed": false
   },
   "outputs": [
    {
     "data": {
      "text/html": [
       "\n",
       "    <div class=\"bk-root\">\n",
       "        <a href=\"http://bokeh.pydata.org\" target=\"_blank\" class=\"bk-logo bk-logo-small bk-logo-notebook\"></a>\n",
       "        <span id=\"3fb21500-d2d4-4088-9cf7-8e9b1e7ecb7c\">Loading BokehJS ...</span>\n",
       "    </div>"
      ]
     },
     "metadata": {},
     "output_type": "display_data"
    },
    {
     "data": {
      "application/javascript": [
       "\n",
       "(function(global) {\n",
       "  function now() {\n",
       "    return new Date();\n",
       "  }\n",
       "\n",
       "  var force = \"1\";\n",
       "\n",
       "  if (typeof (window._bokeh_onload_callbacks) === \"undefined\" || force !== \"\") {\n",
       "    window._bokeh_onload_callbacks = [];\n",
       "    window._bokeh_is_loading = undefined;\n",
       "  }\n",
       "\n",
       "\n",
       "  \n",
       "  if (typeof (window._bokeh_timeout) === \"undefined\" || force !== \"\") {\n",
       "    window._bokeh_timeout = Date.now() + 5000;\n",
       "    window._bokeh_failed_load = false;\n",
       "  }\n",
       "\n",
       "  var NB_LOAD_WARNING = {'data': {'text/html':\n",
       "     \"<div style='background-color: #fdd'>\\n\"+\n",
       "     \"<p>\\n\"+\n",
       "     \"BokehJS does not appear to have successfully loaded. If loading BokehJS from CDN, this \\n\"+\n",
       "     \"may be due to a slow or bad network connection. Possible fixes:\\n\"+\n",
       "     \"</p>\\n\"+\n",
       "     \"<ul>\\n\"+\n",
       "     \"<li>re-rerun `output_notebook()` to attempt to load from CDN again, or</li>\\n\"+\n",
       "     \"<li>use INLINE resources instead, as so:</li>\\n\"+\n",
       "     \"</ul>\\n\"+\n",
       "     \"<code>\\n\"+\n",
       "     \"from bokeh.resources import INLINE\\n\"+\n",
       "     \"output_notebook(resources=INLINE)\\n\"+\n",
       "     \"</code>\\n\"+\n",
       "     \"</div>\"}};\n",
       "\n",
       "  function display_loaded() {\n",
       "    if (window.Bokeh !== undefined) {\n",
       "      Bokeh.$(\"#3fb21500-d2d4-4088-9cf7-8e9b1e7ecb7c\").text(\"BokehJS successfully loaded.\");\n",
       "    } else if (Date.now() < window._bokeh_timeout) {\n",
       "      setTimeout(display_loaded, 100)\n",
       "    }\n",
       "  }\n",
       "\n",
       "  function run_callbacks() {\n",
       "    window._bokeh_onload_callbacks.forEach(function(callback) { callback() });\n",
       "    delete window._bokeh_onload_callbacks\n",
       "    console.info(\"Bokeh: all callbacks have finished\");\n",
       "  }\n",
       "\n",
       "  function load_libs(js_urls, callback) {\n",
       "    window._bokeh_onload_callbacks.push(callback);\n",
       "    if (window._bokeh_is_loading > 0) {\n",
       "      console.log(\"Bokeh: BokehJS is being loaded, scheduling callback at\", now());\n",
       "      return null;\n",
       "    }\n",
       "    if (js_urls == null || js_urls.length === 0) {\n",
       "      run_callbacks();\n",
       "      return null;\n",
       "    }\n",
       "    console.log(\"Bokeh: BokehJS not loaded, scheduling load and callback at\", now());\n",
       "    window._bokeh_is_loading = js_urls.length;\n",
       "    for (var i = 0; i < js_urls.length; i++) {\n",
       "      var url = js_urls[i];\n",
       "      var s = document.createElement('script');\n",
       "      s.src = url;\n",
       "      s.async = false;\n",
       "      s.onreadystatechange = s.onload = function() {\n",
       "        window._bokeh_is_loading--;\n",
       "        if (window._bokeh_is_loading === 0) {\n",
       "          console.log(\"Bokeh: all BokehJS libraries loaded\");\n",
       "          run_callbacks()\n",
       "        }\n",
       "      };\n",
       "      s.onerror = function() {\n",
       "        console.warn(\"failed to load library \" + url);\n",
       "      };\n",
       "      console.log(\"Bokeh: injecting script tag for BokehJS library: \", url);\n",
       "      document.getElementsByTagName(\"head\")[0].appendChild(s);\n",
       "    }\n",
       "  };var element = document.getElementById(\"3fb21500-d2d4-4088-9cf7-8e9b1e7ecb7c\");\n",
       "  if (element == null) {\n",
       "    console.log(\"Bokeh: ERROR: autoload.js configured with elementid '3fb21500-d2d4-4088-9cf7-8e9b1e7ecb7c' but no matching script tag was found. \")\n",
       "    return false;\n",
       "  }\n",
       "\n",
       "  var js_urls = ['https://cdn.pydata.org/bokeh/release/bokeh-0.12.2.min.js', 'https://cdn.pydata.org/bokeh/release/bokeh-widgets-0.12.2.min.js', 'https://cdn.pydata.org/bokeh/release/bokeh-compiler-0.12.2.min.js'];\n",
       "\n",
       "  var inline_js = [\n",
       "    function(Bokeh) {\n",
       "      Bokeh.set_log_level(\"info\");\n",
       "    },\n",
       "    \n",
       "    function(Bokeh) {\n",
       "      \n",
       "      Bokeh.$(\"#3fb21500-d2d4-4088-9cf7-8e9b1e7ecb7c\").text(\"BokehJS is loading...\");\n",
       "    },\n",
       "    function(Bokeh) {\n",
       "      console.log(\"Bokeh: injecting CSS: https://cdn.pydata.org/bokeh/release/bokeh-0.12.2.min.css\");\n",
       "      Bokeh.embed.inject_css(\"https://cdn.pydata.org/bokeh/release/bokeh-0.12.2.min.css\");\n",
       "      console.log(\"Bokeh: injecting CSS: https://cdn.pydata.org/bokeh/release/bokeh-widgets-0.12.2.min.css\");\n",
       "      Bokeh.embed.inject_css(\"https://cdn.pydata.org/bokeh/release/bokeh-widgets-0.12.2.min.css\");\n",
       "    }\n",
       "  ];\n",
       "\n",
       "  function run_inline_js() {\n",
       "    \n",
       "    if ((window.Bokeh !== undefined) || (force === \"1\")) {\n",
       "      for (var i = 0; i < inline_js.length; i++) {\n",
       "        inline_js[i](window.Bokeh);\n",
       "      }if (force === \"1\") {\n",
       "        display_loaded();\n",
       "      }} else if (Date.now() < window._bokeh_timeout) {\n",
       "      setTimeout(run_inline_js, 100);\n",
       "    } else if (!window._bokeh_failed_load) {\n",
       "      console.log(\"Bokeh: BokehJS failed to load within specified timeout.\");\n",
       "      window._bokeh_failed_load = true;\n",
       "    } else if (!force) {\n",
       "      var cell = $(\"#3fb21500-d2d4-4088-9cf7-8e9b1e7ecb7c\").parents('.cell').data().cell;\n",
       "      cell.output_area.append_execute_result(NB_LOAD_WARNING)\n",
       "    }\n",
       "\n",
       "  }\n",
       "\n",
       "  if (window._bokeh_is_loading === 0) {\n",
       "    console.log(\"Bokeh: BokehJS loaded, going straight to plotting\");\n",
       "    run_inline_js();\n",
       "  } else {\n",
       "    load_libs(js_urls, function() {\n",
       "      console.log(\"Bokeh: BokehJS plotting callback run at\", now());\n",
       "      run_inline_js();\n",
       "    });\n",
       "  }\n",
       "}(this));"
      ]
     },
     "metadata": {},
     "output_type": "display_data"
    }
   ],
   "source": [
    "import numpy as np\n",
    "import pandas\n",
    "from numpy import *\n",
    "import time\n",
    "import sys\n",
    "import pandas as pd\n",
    "import matplotlib.pyplot as plt\n",
    "from sklearn import feature_selection\n",
    "from sklearn.tree import DecisionTreeRegressor\n",
    "from sklearn.learning_curve import learning_curve, validation_curve\n",
    "from sklearn.cross_validation import cross_val_predict\n",
    "from sklearn import metrics, grid_search, cross_validation\n",
    "from IPython.display import set_matplotlib_formats\n",
    "from bokeh.plotting import figure, show, output_notebook\n",
    "from sklearn.grid_search import GridSearchCV, RandomizedSearchCV\n",
    "from sklearn.metrics import r2_score\n",
    "from bokeh.layouts import gridplot\n",
    "output_notebook()\n",
    "set_matplotlib_formats('png', 'pdf')\n",
    "%matplotlib inline\n",
    "plt.rcParams['figure.figsize'] = (6, 6)"
   ]
  },
  {
   "cell_type": "markdown",
   "metadata": {},
   "source": [
    "# Load data"
   ]
  },
  {
   "cell_type": "markdown",
   "metadata": {},
   "source": [
    "In the previous file we have not change the data as there is no missing value or add any new parameters so it can be downloaded from the web directly. "
   ]
  },
  {
   "cell_type": "code",
   "execution_count": 2,
   "metadata": {
    "collapsed": false
   },
   "outputs": [
    {
     "name": "stdout",
     "output_type": "stream",
     "text": [
      "Number of examples 398\n"
     ]
    }
   ],
   "source": [
    "url = 'http://archive.ics.uci.edu/ml/machine-learning-databases/auto-mpg/auto-mpg.data'\n",
    "names = ['mpg', 'cylinders', 'displacement', 'horsepower', 'weight', 'acceleration', 'year','origin','name']\n",
    "feature_names = ['mpg', 'cylinders', 'displacement', 'horsepower', 'weight', 'acceleration', 'year','origin']\n",
    "feature_cols = ['mpg', 'cylinders', 'displacement', 'horsepower', 'weight', 'acceleration', 'year','origin']\n",
    "data = pd.read_csv(url, sep='\\s+', names = names)\n",
    "data = data.drop('name',1)\n",
    "from sklearn import preprocessing\n",
    "\n",
    "def number_encode_features(df):\n",
    "    result = df.copy()\n",
    "    encoders = {}\n",
    "    for column in result.columns:\n",
    "        if result.dtypes[column] == np.object:\n",
    "            encoders[column] = preprocessing.LabelEncoder()\n",
    "            result[column] = encoders[column].fit_transform(result[column])\n",
    "    return result, encoders\n",
    "\n",
    "data, _ = number_encode_features(data)\n",
    "\n",
    "dataset = data.values\n",
    "X = dataset[:,1:8]\n",
    "Y = dataset[:,0]\n",
    "print 'Number of examples',len(X)"
   ]
  },
  {
   "cell_type": "code",
   "execution_count": 3,
   "metadata": {
    "collapsed": false
   },
   "outputs": [
    {
     "name": "stdout",
     "output_type": "stream",
     "text": [
      "Number of training examples 318\n",
      "Number of validation examples 80\n"
     ]
    }
   ],
   "source": [
    "# Make developement dataset for genrilization and final testing\n",
    "from sklearn.cross_validation import train_test_split\n",
    "# Extracting 20% testing data\n",
    "X_train, X_test, y_train, y_test = train_test_split(\n",
    "    X, Y, test_size=0.20, random_state=0)\n",
    "X = X_train\n",
    "Y = y_train\n",
    "new_data      = X_train\n",
    "new_test_data = X_test\n",
    "print 'Number of training examples',len(X_train)\n",
    "print 'Number of validation examples',len(X_test)"
   ]
  },
  {
   "cell_type": "markdown",
   "metadata": {},
   "source": [
    "Number of training data is very small so we need to use cross validation instead of spareate another validation data."
   ]
  },
  {
   "cell_type": "markdown",
   "metadata": {},
   "source": [
    "From the previous visulization the data has no missing value but has many outlier and some sparisty"
   ]
  },
  {
   "cell_type": "markdown",
   "metadata": {},
   "source": [
    "# Ranking of the feature's importance to the target"
   ]
  },
  {
   "cell_type": "code",
   "execution_count": 4,
   "metadata": {
    "collapsed": false
   },
   "outputs": [
    {
     "name": "stdout",
     "output_type": "stream",
     "text": [
      "mpg \t1.0\n",
      "cylinders \t0.637242089916\n",
      "displacement \t0.815077207897\n",
      "horsepower \t0.793267880581\n",
      "weight \t0.9630669809\n",
      "acceleration \t0.516023027818\n",
      "year \t0.428893949289\n",
      "origin \t0.332864469155\n"
     ]
    }
   ],
   "source": [
    "# Using just correlation coefficient even in prevoius file we show them using data frame\n",
    "for col in feature_cols:\n",
    "    lm = DecisionTreeRegressor()\n",
    "    lm.fit(data[[col]], data['mpg'])\n",
    "    print col,'\\t', lm.score(data[[col]], data['mpg'])"
   ]
  },
  {
   "cell_type": "code",
   "execution_count": 5,
   "metadata": {
    "collapsed": false
   },
   "outputs": [
    {
     "name": "stdout",
     "output_type": "stream",
     "text": [
      "Feature Name      Score         Pvalue\n",
      "mpg \t\t8.91712726219e+17 \t0.0\n",
      "cylinders \t\t597.077047852 \t4.50399224618e-81\n",
      "displacement \t\t724.994303368 \t1.65588891019e-91\n",
      "horsepower \t\t101.546001862 \t2.06258705842e-21\n",
      "weight \t\t888.850682648 \t2.97279956405e-103\n",
      "acceleration \t\t84.9577002497 \t1.82309153508e-18\n",
      "year \t\t199.98200802 \t4.84493581337e-37\n",
      "origin \t\t184.199639369 \t1.01148221023e-34\n"
     ]
    }
   ],
   "source": [
    "# Randing the important features to the target\n",
    "model = feature_selection.SelectKBest(score_func=feature_selection.f_regression,k=4)\n",
    "results = model.fit(data[feature_cols], data['mpg'])\n",
    "k=0\n",
    "print 'Feature Name      Score         Pvalue'\n",
    "for feat in feature_cols:\n",
    "    print feat,'\\t\\t',results.scores_[k],'\\t',results.pvalues_[k]\n",
    "    k=k+1\n"
   ]
  },
  {
   "cell_type": "markdown",
   "metadata": {},
   "source": [
    "# Set the parameters for cross validation"
   ]
  },
  {
   "cell_type": "code",
   "execution_count": 6,
   "metadata": {
    "collapsed": true
   },
   "outputs": [],
   "source": [
    "num_folds = 10\n",
    "num_instances = len(X)\n",
    "seed = 7\n",
    "kfold = cross_validation.KFold(n=num_instances, n_folds=num_folds, random_state=seed)"
   ]
  },
  {
   "cell_type": "markdown",
   "metadata": {},
   "source": [
    " # Set the parameters for bias-variance dilemma"
   ]
  },
  {
   "cell_type": "code",
   "execution_count": 7,
   "metadata": {
    "collapsed": false
   },
   "outputs": [],
   "source": [
    "def plot_learning_curve(estimator, title, X, y, ylim=None, cv=None,\n",
    "                        n_jobs=1, train_sizes=np.linspace(.1, 1.0, 5)):\n",
    "    plt.figure()\n",
    "    plt.title(title)\n",
    "    if ylim is not None:\n",
    "        plt.ylim(*ylim)\n",
    "    plt.xlabel(\"Training examples\")\n",
    "    plt.ylabel(\"Score\")\n",
    "    train_sizes, train_scores, test_scores = learning_curve(\n",
    "        estimator, X, y, cv=cv, n_jobs=n_jobs, train_sizes=train_sizes)\n",
    "    train_scores_mean = np.mean(train_scores, axis=1)\n",
    "    train_scores_std = np.std(train_scores, axis=1)\n",
    "    test_scores_mean = np.mean(test_scores, axis=1)\n",
    "    test_scores_std = np.std(test_scores, axis=1)\n",
    "    plt.grid()\n",
    "\n",
    "    plt.fill_between(train_sizes, train_scores_mean - train_scores_std,\n",
    "                     train_scores_mean + train_scores_std, alpha=0.1,\n",
    "                     color=\"r\")\n",
    "    plt.fill_between(train_sizes, test_scores_mean - test_scores_std,\n",
    "                     test_scores_mean + test_scores_std, alpha=0.1, color=\"g\")\n",
    "    plt.plot(train_sizes, train_scores_mean, 'o-', color=\"r\",\n",
    "             label=\"Training score\")\n",
    "    plt.plot(train_sizes, test_scores_mean, 'o-', color=\"g\",\n",
    "             label=\"Cross-validation score\")\n",
    "\n",
    "    plt.legend(loc=\"best\")\n",
    "    return plt"
   ]
  },
  {
   "cell_type": "markdown",
   "metadata": {},
   "source": [
    "# 1. DecisionTreeRegressor  with Bagging Regression"
   ]
  },
  {
   "cell_type": "markdown",
   "metadata": {},
   "source": [
    "Decision trees or the Classification and Regression Trees (CART as they are know) use the training data to select the best points to split the data in order to minimize a cost metric. The default cost metric for regression decision trees is the mean squared error, specified in the criterion parameter."
   ]
  },
  {
   "cell_type": "markdown",
   "metadata": {},
   "source": [
    "## Validation curve"
   ]
  },
  {
   "cell_type": "markdown",
   "metadata": {},
   "source": [
    "choosing multiple hyperparameters of an estimator "
   ]
  },
  {
   "cell_type": "code",
   "execution_count": 8,
   "metadata": {
    "collapsed": false
   },
   "outputs": [
    {
     "data": {
      "text/plain": [
       "['presort',\n",
       " 'splitter',\n",
       " 'max_leaf_nodes',\n",
       " 'min_samples_leaf',\n",
       " 'min_samples_split',\n",
       " 'min_weight_fraction_leaf',\n",
       " 'criterion',\n",
       " 'random_state',\n",
       " 'max_features',\n",
       " 'max_depth']"
      ]
     },
     "execution_count": 8,
     "metadata": {},
     "output_type": "execute_result"
    }
   ],
   "source": [
    "from sklearn.tree import DecisionTreeRegressor\n",
    "estimator = DecisionTreeRegressor()\n",
    "estimator.get_params().keys()"
   ]
  },
  {
   "cell_type": "code",
   "execution_count": 9,
   "metadata": {
    "collapsed": false
   },
   "outputs": [
    {
     "data": {
      "text/plain": [
       "['warm_start',\n",
       " 'max_samples',\n",
       " 'base_estimator__min_samples_split',\n",
       " 'base_estimator__max_depth',\n",
       " 'verbose',\n",
       " 'random_state',\n",
       " 'bootstrap',\n",
       " 'base_estimator',\n",
       " 'base_estimator__criterion',\n",
       " 'base_estimator__max_features',\n",
       " 'base_estimator__random_state',\n",
       " 'n_estimators',\n",
       " 'base_estimator__min_weight_fraction_leaf',\n",
       " 'n_jobs',\n",
       " 'bootstrap_features',\n",
       " 'oob_score',\n",
       " 'base_estimator__splitter',\n",
       " 'max_features',\n",
       " 'base_estimator__max_leaf_nodes',\n",
       " 'base_estimator__min_samples_leaf',\n",
       " 'base_estimator__presort']"
      ]
     },
     "execution_count": 9,
     "metadata": {},
     "output_type": "execute_result"
    }
   ],
   "source": [
    "from sklearn.tree import DecisionTreeRegressor\n",
    "from sklearn.ensemble import BaggingRegressor\n",
    "estimator = BaggingRegressor(DecisionTreeRegressor())\n",
    "estimator.get_params().keys()"
   ]
  },
  {
   "cell_type": "code",
   "execution_count": 10,
   "metadata": {
    "collapsed": false
   },
   "outputs": [
    {
     "data": {
      "image/png": "[encoded data removed]",
      "text/plain": [
       "<matplotlib.figure.Figure at 0x7f8d5af97850>"
      ]
     },
     "metadata": {},
     "output_type": "display_data"
    }
   ],
   "source": [
    "# For parametr alpha\n",
    "#param_range = np.logspace(-10.0, 10.0)\n",
    "#param_range = np.linspace(1,50,100)\n",
    "param_range = np.arange(1,50) # generate integer numbers\n",
    "\n",
    "train_scores, test_scores = validation_curve(\n",
    "    DecisionTreeRegressor(), X, Y, param_name=\"max_depth\", param_range=param_range,\n",
    "    cv=num_folds,  n_jobs=-1)\n",
    "train_scores_mean = np.mean(train_scores, axis=1)\n",
    "train_scores_std = np.std(train_scores, axis=1)\n",
    "test_scores_mean = np.mean(test_scores, axis=1)\n",
    "test_scores_std = np.std(test_scores, axis=1)\n",
    "\n",
    "plt.title(\"Validation Curve with DecisionTreeRegressor\")\n",
    "plt.xlabel(\"max_depth\")\n",
    "plt.ylabel(\"Score\")\n",
    "plt.ylim(0.4, 1.0)\n",
    "plt.plot(param_range, train_scores_mean, label=\"Training score\", color=\"r\")\n",
    "plt.fill_between(param_range, train_scores_mean - train_scores_std,\n",
    "                 train_scores_mean + train_scores_std, alpha=0.2, color=\"r\")\n",
    "plt.plot(param_range, test_scores_mean, label=\"Cross-validation score\",\n",
    "             color=\"g\")\n",
    "plt.fill_between(param_range, test_scores_mean - test_scores_std,\n",
    "                 test_scores_mean + test_scores_std, alpha=0.2, color=\"g\")\n",
    "plt.legend(loc=\"best\")\n",
    "plt.show()"
   ]
  },
  {
   "cell_type": "markdown",
   "metadata": {},
   "source": [
    "more that 5 is the best of number of K"
   ]
  },
  {
   "cell_type": "code",
   "execution_count": 11,
   "metadata": {
    "collapsed": false
   },
   "outputs": [
    {
     "data": {
      "image/png": "[encoded data removed]",
      "text/plain": [
       "<matplotlib.figure.Figure at 0x7f8d2c9ccd50>"
      ]
     },
     "metadata": {},
     "output_type": "display_data"
    }
   ],
   "source": [
    "# For parametr alpha\n",
    "#param_range = np.logspace(-10.0, 10.0)\n",
    "#param_range = np.linspace(1,50,100)\n",
    "param_range = np.arange(1,10) # generate integer numbers\n",
    "\n",
    "train_scores, test_scores = validation_curve(\n",
    "    DecisionTreeRegressor(), X, Y, param_name=\"min_samples_split\", param_range=param_range,\n",
    "    cv=num_folds,  n_jobs=-1)\n",
    "train_scores_mean = np.mean(train_scores, axis=1)\n",
    "train_scores_std = np.std(train_scores, axis=1)\n",
    "test_scores_mean = np.mean(test_scores, axis=1)\n",
    "test_scores_std = np.std(test_scores, axis=1)\n",
    "\n",
    "plt.title(\"Validation Curve with DecisionTreeRegressor\")\n",
    "plt.xlabel(\"min_samples_split\")\n",
    "plt.ylabel(\"Score\")\n",
    "plt.ylim(0.4, 1.0)\n",
    "plt.plot(param_range, train_scores_mean, label=\"Training score\", color=\"r\")\n",
    "plt.fill_between(param_range, train_scores_mean - train_scores_std,\n",
    "                 train_scores_mean + train_scores_std, alpha=0.2, color=\"r\")\n",
    "plt.plot(param_range, test_scores_mean, label=\"Cross-validation score\",\n",
    "             color=\"g\")\n",
    "plt.fill_between(param_range, test_scores_mean - test_scores_std,\n",
    "                 test_scores_mean + test_scores_std, alpha=0.2, color=\"g\")\n",
    "plt.legend(loc=\"best\")\n",
    "plt.show()"
   ]
  },
  {
   "cell_type": "markdown",
   "metadata": {},
   "source": [
    "min_samples_split =2 (The defualt) is the best"
   ]
  },
  {
   "cell_type": "code",
   "execution_count": 12,
   "metadata": {
    "collapsed": false
   },
   "outputs": [
    {
     "data": {
      "image/png": "[encoded data removed]",
      "text/plain": [
       "<matplotlib.figure.Figure at 0x7f8d2c56fe50>"
      ]
     },
     "metadata": {},
     "output_type": "display_data"
    }
   ],
   "source": [
    "# For parametr alpha\n",
    "#param_range = np.logspace(-10.0, 10.0)\n",
    "#param_range = np.linspace(1,50,100)\n",
    "param_range = np.arange(1,10) # generate integer numbers\n",
    "\n",
    "train_scores, test_scores = validation_curve(\n",
    "    DecisionTreeRegressor(), X, Y, param_name=\"min_samples_leaf\", param_range=param_range,\n",
    "    cv=num_folds,  n_jobs=-1)\n",
    "train_scores_mean = np.mean(train_scores, axis=1)\n",
    "train_scores_std = np.std(train_scores, axis=1)\n",
    "test_scores_mean = np.mean(test_scores, axis=1)\n",
    "test_scores_std = np.std(test_scores, axis=1)\n",
    "\n",
    "plt.title(\"Validation Curve with DecisionTreeRegressor\")\n",
    "plt.xlabel(\"min_samples_leaf\")\n",
    "plt.ylabel(\"Score\")\n",
    "plt.ylim(0.4, 1.0)\n",
    "plt.plot(param_range, train_scores_mean, label=\"Training score\", color=\"r\")\n",
    "plt.fill_between(param_range, train_scores_mean - train_scores_std,\n",
    "                 train_scores_mean + train_scores_std, alpha=0.2, color=\"r\")\n",
    "plt.plot(param_range, test_scores_mean, label=\"Cross-validation score\",\n",
    "             color=\"g\")\n",
    "plt.fill_between(param_range, test_scores_mean - test_scores_std,\n",
    "                 test_scores_mean + test_scores_std, alpha=0.2, color=\"g\")\n",
    "plt.legend(loc=\"best\")\n",
    "plt.show()"
   ]
  },
  {
   "cell_type": "markdown",
   "metadata": {},
   "source": [
    "min_samples_leaf = 2 is the best"
   ]
  },
  {
   "cell_type": "markdown",
   "metadata": {},
   "source": [
    "## Grid search and/or Random search to determine best compination of parameters"
   ]
  },
  {
   "cell_type": "code",
   "execution_count": 13,
   "metadata": {
    "collapsed": false
   },
   "outputs": [
    {
     "name": "stdout",
     "output_type": "stream",
     "text": [
      "Hyperparameter optimization using GridSearchCV...\n",
      "Parameters with rank: 1\n",
      "Mean validation score: 0.8534 (std: 0.0483)\n",
      "Parameters: {'n_estimators': 9, 'bootstrap': True}\n",
      "\n",
      "Parameters with rank: 2\n",
      "Mean validation score: 0.8480 (std: 0.0376)\n",
      "Parameters: {'n_estimators': 8, 'bootstrap': True}\n",
      "\n",
      "Parameters with rank: 3\n",
      "Mean validation score: 0.8477 (std: 0.0454)\n",
      "Parameters: {'n_estimators': 5, 'bootstrap': True}\n",
      "\n",
      "Parameters with rank: 4\n",
      "Mean validation score: 0.8433 (std: 0.0493)\n",
      "Parameters: {'n_estimators': 6, 'bootstrap': True}\n",
      "\n",
      "Parameters with rank: 5\n",
      "Mean validation score: 0.8402 (std: 0.0694)\n",
      "Parameters: {'n_estimators': 7, 'bootstrap': True}\n",
      "\n",
      "+++++++++++++++++++++++++++++++++++++++++++++++\n",
      "Hyperparameter optimization using RandomizedSearchCV\n",
      "Parameters with rank: 1\n",
      "Mean validation score: 0.8520 (std: 0.0472)\n",
      "Parameters: {'n_estimators': 20, 'bootstrap': True}\n",
      "\n",
      "Parameters with rank: 2\n",
      "Mean validation score: 0.7931 (std: 0.0751)\n",
      "Parameters: {'n_estimators': 20, 'bootstrap': False}\n",
      "\n"
     ]
    }
   ],
   "source": [
    "# Utility function to report optimal parameters\n",
    "from operator import itemgetter\n",
    "def report(grid_scores, n_top=5):\n",
    "    params = None\n",
    "    top_scores = sorted(grid_scores, key=itemgetter(1), reverse=True)[:n_top]\n",
    "    for i, score in enumerate(top_scores):\n",
    "        print(\"Parameters with rank: {0}\".format(i + 1))\n",
    "        print(\"Mean validation score: {0:.4f} (std: {1:.4f})\".format(\n",
    "              score.mean_validation_score, np.std(score.cv_validation_scores)))\n",
    "        print(\"Parameters: {0}\".format(score.parameters))\n",
    "        print(\"\")\n",
    "        \n",
    "        if params == None:\n",
    "            params = score.parameters\n",
    "    \n",
    "    return params\n",
    "\n",
    "# The most common value for the max number of features to look at in each split is sqrt(# of features)\n",
    "sqrtfeat = np.sqrt(X.shape[1]) \n",
    "grid_test1 = { \"n_estimators\"      : np.arange(1,10),\n",
    "             \"bootstrap\"      : [ True, False]}\n",
    "\n",
    "# Large randomized test using max_depth to control tree size (5000 possible combinations)\n",
    "random_test1 = { \"n_estimators\"      : [1,5,10,15,20,25],\n",
    "                \"bootstrap\"      : [ True, False]}\n",
    "\n",
    "\n",
    "forest = BaggingRegressor()\n",
    "\n",
    "print \"Hyperparameter optimization using GridSearchCV...\"\n",
    "grid_search = GridSearchCV(forest, grid_test1, n_jobs=-1, cv=num_folds)\n",
    "grid_search.fit(X, Y)\n",
    "best_params_from_grid_search = report(grid_search.grid_scores_)\n",
    "print '+++++++++++++++++++++++++++++++++++++++++++++++'\n",
    "print \"Hyperparameter optimization using RandomizedSearchCV\"\n",
    "grid_search = RandomizedSearchCV(forest, random_test1, n_jobs=-1, cv=num_folds, n_iter=2)\n",
    "grid_search.fit(X, Y)\n",
    "best_params_from_rand_search1 = report(grid_search.grid_scores_)"
   ]
  },
  {
   "cell_type": "markdown",
   "metadata": {},
   "source": [
    "Best Parameters: {'n_estimators': 5, 'bootstrap': True}\n"
   ]
  },
  {
   "cell_type": "markdown",
   "metadata": {},
   "source": [
    "## Learning Curve "
   ]
  },
  {
   "cell_type": "markdown",
   "metadata": {},
   "source": [
    "In essence, what we’re doing it training the exact same model with increasingly large fractions of our total training data, and plotting the error of the training and test sets at each step."
   ]
  },
  {
   "cell_type": "code",
   "execution_count": 14,
   "metadata": {
    "collapsed": false
   },
   "outputs": [
    {
     "data": {
      "image/png": "[encoded data removed]",
      "text/plain": [
       "<matplotlib.figure.Figure at 0x7f8d2c570510>"
      ]
     },
     "metadata": {},
     "output_type": "display_data"
    }
   ],
   "source": [
    "from sklearn.tree import DecisionTreeRegressor\n",
    "\n",
    "model = BaggingRegressor(n_estimators = 5 )\n",
    "title = \"Learning Curves (Bagging DecisionTreeRegressor Refression)\"\n",
    "cv = cross_validation.ShuffleSplit(X.shape[0], n_iter=100,\n",
    "                                   test_size=0.2, random_state=0)\n",
    "plot_learning_curve(model, title, X, Y, ylim=(0.2, 1.01), cv=cv, n_jobs=-1)\n",
    "plt.show()"
   ]
  },
  {
   "cell_type": "code",
   "execution_count": 15,
   "metadata": {
    "collapsed": false
   },
   "outputs": [
    {
     "name": "stdout",
     "output_type": "stream",
     "text": [
      "train_sizes =  [ 50  80 110]\n",
      " training scores\n",
      " 50 training sizees\n",
      "0.9479813029 ± 0.0174577636032\n",
      " 80 training sizees\n",
      "0.952384798395 ± 0.0149903839348\n",
      " 110 training sizees\n",
      "0.958438019705 ± 0.0117262662107\n",
      "\n",
      " validation scores\n",
      " 50 validation scores\n",
      "0.724749461011 ± 0.0951011257904\n",
      " 80 validation scores\n",
      "0.775589943945 ± 0.074197995968\n",
      " 110 validation scores\n",
      "0.795581197506 ± 0.0639562055858\n"
     ]
    }
   ],
   "source": [
    "# More data from learning curve to show the process of building the model\n",
    "train_sizes, train_scores, valid_scores = learning_curve(\n",
    "     model, X, Y, train_sizes=[50, 80, 110], cv=cv, n_jobs=4)\n",
    "\n",
    "print 'train_sizes = ', train_sizes\n",
    "\n",
    "print ' training scores'\n",
    "print ' 50 training sizees'\n",
    "print train_scores[0].mean(),'±',train_scores[0].std()\n",
    "print ' 80 training sizees'\n",
    "print train_scores[1].mean(),'±',train_scores[1].std()\n",
    "print ' 110 training sizees'\n",
    "print train_scores[2].mean(),'±',train_scores[2].std()\n",
    "\n",
    "print '\\n validation scores'\n",
    "print ' 50 validation scores'\n",
    "print valid_scores[0].mean(),'±',valid_scores[0].std()\n",
    "print ' 80 validation scores'\n",
    "print valid_scores[1].mean(),'±',valid_scores[1].std()\n",
    "print ' 110 validation scores'\n",
    "print valid_scores[2].mean(),'±',valid_scores[2].std()"
   ]
  },
  {
   "cell_type": "markdown",
   "metadata": {},
   "source": [
    "## Cross validation"
   ]
  },
  {
   "cell_type": "code",
   "execution_count": 16,
   "metadata": {
    "collapsed": false
   },
   "outputs": [
    {
     "name": "stdout",
     "output_type": "stream",
     "text": [
      "Scoring according to mean_squared_error\n",
      "[ -7.57        -9.278375   -10.1563     -18.48205    -11.01095     -9.2658875\n",
      "  -9.7808      -6.0194375  -10.84974194  -7.3184    ]\n",
      "\n",
      " Mean      Standard deviation\n",
      "-9.97      3.22\n"
     ]
    },
    {
     "data": {
      "text/plain": [
       "BaggingRegressor(base_estimator=None, bootstrap=True,\n",
       "         bootstrap_features=False, max_features=1.0, max_samples=1.0,\n",
       "         n_estimators=5, n_jobs=1, oob_score=False, random_state=None,\n",
       "         verbose=0, warm_start=False)"
      ]
     },
     "execution_count": 16,
     "metadata": {},
     "output_type": "execute_result"
    }
   ],
   "source": [
    "scoring = 'mean_squared_error'\n",
    "results = cross_validation.cross_val_score(model, X, Y, cv=kfold, scoring=scoring)\n",
    "print 'Scoring according to mean_squared_error'\n",
    "print results\n",
    "print '\\n Mean      Standard deviation'\n",
    "print(\"%.2f      %.2f\" % (results.mean(), results.std()))\n",
    "## Fit the model\n",
    "model.fit(X,Y)\n"
   ]
  },
  {
   "cell_type": "markdown",
   "metadata": {},
   "source": [
    "## Coefficients Of Determination {Calculating R^2}\n",
    "\n",
    "R^2, Close to one is better"
   ]
  },
  {
   "cell_type": "code",
   "execution_count": 17,
   "metadata": {
    "collapsed": false
   },
   "outputs": [
    {
     "name": "stdout",
     "output_type": "stream",
     "text": [
      "R-squared =  0.837243654502\n"
     ]
    }
   ],
   "source": [
    "predicted = cross_val_predict(model, X, Y, cv=kfold)\n",
    "r_squared = r2_score(Y, predicted, multioutput='variance_weighted')\n",
    "print 'R-squared = ',r_squared"
   ]
  },
  {
   "cell_type": "markdown",
   "metadata": {},
   "source": [
    "## Residual Plot"
   ]
  },
  {
   "cell_type": "code",
   "execution_count": 18,
   "metadata": {
    "collapsed": false
   },
   "outputs": [
    {
     "data": {
      "image/png": "[encoded data removed]",
      "text/plain": [
       "<matplotlib.figure.Figure at 0x7f8d5afaa190>"
      ]
     },
     "metadata": {},
     "output_type": "display_data"
    }
   ],
   "source": [
    "predicted = cross_val_predict(model, X, Y, cv=kfold)\n",
    "fig, ax = plt.subplots()\n",
    "ax.scatter(Y, predicted)\n",
    "ax.plot([Y.min(), Y.max()], [Y.min(), Y.max()], 'k--', lw=4)\n",
    "ax.set_xlabel('Measured')\n",
    "ax.set_ylabel('Predicted')\n",
    "plt.show()"
   ]
  },
  {
   "cell_type": "code",
   "execution_count": 19,
   "metadata": {
    "collapsed": false
   },
   "outputs": [
    {
     "data": {
      "text/html": [
       "\n",
       "\n",
       "    <div class=\"bk-root\">\n",
       "        <div class=\"plotdiv\" id=\"425e8498-7ae9-49f3-9f26-7856b725a453\"></div>\n",
       "    </div>\n",
       "<script type=\"text/javascript\">\n",
       "  \n",
       "  (function(global) {\n",
       "    function now() {\n",
       "      return new Date();\n",
       "    }\n",
       "  \n",
       "    var force = \"\";\n",
       "  \n",
       "    if (typeof (window._bokeh_onload_callbacks) === \"undefined\" || force !== \"\") {\n",
       "      window._bokeh_onload_callbacks = [];\n",
       "      window._bokeh_is_loading = undefined;\n",
       "    }\n",
       "  \n",
       "  \n",
       "    \n",
       "    if (typeof (window._bokeh_timeout) === \"undefined\" || force !== \"\") {\n",
       "      window._bokeh_timeout = Date.now() + 0;\n",
       "      window._bokeh_failed_load = false;\n",
       "    }\n",
       "  \n",
       "    var NB_LOAD_WARNING = {'data': {'text/html':\n",
       "       \"<div style='background-color: #fdd'>\\n\"+\n",
       "       \"<p>\\n\"+\n",
       "       \"BokehJS does not appear to have successfully loaded. If loading BokehJS from CDN, this \\n\"+\n",
       "       \"may be due to a slow or bad network connection. Possible fixes:\\n\"+\n",
       "       \"</p>\\n\"+\n",
       "       \"<ul>\\n\"+\n",
       "       \"<li>re-rerun `output_notebook()` to attempt to load from CDN again, or</li>\\n\"+\n",
       "       \"<li>use INLINE resources instead, as so:</li>\\n\"+\n",
       "       \"</ul>\\n\"+\n",
       "       \"<code>\\n\"+\n",
       "       \"from bokeh.resources import INLINE\\n\"+\n",
       "       \"output_notebook(resources=INLINE)\\n\"+\n",
       "       \"</code>\\n\"+\n",
       "       \"</div>\"}};\n",
       "  \n",
       "    function display_loaded() {\n",
       "      if (window.Bokeh !== undefined) {\n",
       "        Bokeh.$(\"#425e8498-7ae9-49f3-9f26-7856b725a453\").text(\"BokehJS successfully loaded.\");\n",
       "      } else if (Date.now() < window._bokeh_timeout) {\n",
       "        setTimeout(display_loaded, 100)\n",
       "      }\n",
       "    }\n",
       "  \n",
       "    function run_callbacks() {\n",
       "      window._bokeh_onload_callbacks.forEach(function(callback) { callback() });\n",
       "      delete window._bokeh_onload_callbacks\n",
       "      console.info(\"Bokeh: all callbacks have finished\");\n",
       "    }\n",
       "  \n",
       "    function load_libs(js_urls, callback) {\n",
       "      window._bokeh_onload_callbacks.push(callback);\n",
       "      if (window._bokeh_is_loading > 0) {\n",
       "        console.log(\"Bokeh: BokehJS is being loaded, scheduling callback at\", now());\n",
       "        return null;\n",
       "      }\n",
       "      if (js_urls == null || js_urls.length === 0) {\n",
       "        run_callbacks();\n",
       "        return null;\n",
       "      }\n",
       "      console.log(\"Bokeh: BokehJS not loaded, scheduling load and callback at\", now());\n",
       "      window._bokeh_is_loading = js_urls.length;\n",
       "      for (var i = 0; i < js_urls.length; i++) {\n",
       "        var url = js_urls[i];\n",
       "        var s = document.createElement('script');\n",
       "        s.src = url;\n",
       "        s.async = false;\n",
       "        s.onreadystatechange = s.onload = function() {\n",
       "          window._bokeh_is_loading--;\n",
       "          if (window._bokeh_is_loading === 0) {\n",
       "            console.log(\"Bokeh: all BokehJS libraries loaded\");\n",
       "            run_callbacks()\n",
       "          }\n",
       "        };\n",
       "        s.onerror = function() {\n",
       "          console.warn(\"failed to load library \" + url);\n",
       "        };\n",
       "        console.log(\"Bokeh: injecting script tag for BokehJS library: \", url);\n",
       "        document.getElementsByTagName(\"head\")[0].appendChild(s);\n",
       "      }\n",
       "    };var element = document.getElementById(\"425e8498-7ae9-49f3-9f26-7856b725a453\");\n",
       "    if (element == null) {\n",
       "      console.log(\"Bokeh: ERROR: autoload.js configured with elementid '425e8498-7ae9-49f3-9f26-7856b725a453' but no matching script tag was found. \")\n",
       "      return false;\n",
       "    }\n",
       "  \n",
       "    var js_urls = [];\n",
       "  \n",
       "    var inline_js = [\n",
       "      function(Bokeh) {\n",
       "        Bokeh.$(function() {\n",
       "            var docs_json = {\"2242b5b5-168c-4a3f-9de8-60ecd0a69dfc\":{\"roots\":{\"references\":[{\"attributes\":{\"dimension\":1,\"plot\":{\"id\":\"0792bd8d-8398-4e0c-8127-28471b927e43\",\"subtype\":\"Figure\",\"type\":\"Plot\"},\"ticker\":{\"id\":\"86616711-8e7c-46e6-8efd-ff47668c9d36\",\"type\":\"BasicTicker\"}},\"id\":\"e1101307-77b1-4ce9-841a-468f0481cf78\",\"type\":\"Grid\"},{\"attributes\":{},\"id\":\"86616711-8e7c-46e6-8efd-ff47668c9d36\",\"type\":\"BasicTicker\"},{\"attributes\":{\"overlay\":{\"id\":\"dcf15324-8c7b-484e-aa6e-60f70865660d\",\"type\":\"PolyAnnotation\"},\"plot\":{\"id\":\"0792bd8d-8398-4e0c-8127-28471b927e43\",\"subtype\":\"Figure\",\"type\":\"Plot\"}},\"id\":\"19c488f7-6d47-4ad9-a90d-0938684644a0\",\"type\":\"PolySelectTool\"},{\"attributes\":{\"line_dash\":[4,4],\"line_width\":{\"value\":2},\"x\":{\"field\":\"x\"},\"y\":{\"field\":\"y\"}},\"id\":\"a87869f2-c229-4aa4-bb3f-0dcbfbbf7991\",\"type\":\"Line\"},{\"attributes\":{\"data_source\":{\"id\":\"7cf869d5-f192-42d5-8636-b404afd06972\",\"type\":\"ColumnDataSource\"},\"glyph\":{\"id\":\"943bbc3d-b796-4884-82cc-1d4100d3340b\",\"type\":\"Circle\"},\"hover_glyph\":null,\"nonselection_glyph\":{\"id\":\"7335ffe0-f5e2-44fc-b920-9481b2a0c62b\",\"type\":\"Circle\"},\"selection_glyph\":null},\"id\":\"cd299677-604b-4bf9-b1bf-661d863d82d8\",\"type\":\"GlyphRenderer\"},{\"attributes\":{\"background_fill_alpha\":{\"value\":0.5},\"background_fill_color\":{\"value\":\"beige\"},\"below\":[{\"id\":\"ac9aea05-4427-4f8c-890c-7b1ab2d72e70\",\"type\":\"LinearAxis\"}],\"left\":[{\"id\":\"2b37db9a-4e64-46ec-b627-cd91f79c3a13\",\"type\":\"LinearAxis\"}],\"plot_height\":500,\"plot_width\":500,\"renderers\":[{\"id\":\"ac9aea05-4427-4f8c-890c-7b1ab2d72e70\",\"type\":\"LinearAxis\"},{\"id\":\"4c12edca-7b58-4355-84a0-8f8225898f45\",\"type\":\"Grid\"},{\"id\":\"2b37db9a-4e64-46ec-b627-cd91f79c3a13\",\"type\":\"LinearAxis\"},{\"id\":\"e1101307-77b1-4ce9-841a-468f0481cf78\",\"type\":\"Grid\"},{\"id\":\"6f1682e2-235c-4494-bbbc-9de4533a11e7\",\"type\":\"BoxAnnotation\"},{\"id\":\"d2473337-36b5-4a33-93be-5c972907a5cc\",\"type\":\"BoxAnnotation\"},{\"id\":\"729998fd-f3f5-4976-b6f4-099bd25c83dc\",\"type\":\"PolyAnnotation\"},{\"id\":\"dcf15324-8c7b-484e-aa6e-60f70865660d\",\"type\":\"PolyAnnotation\"},{\"id\":\"cd299677-604b-4bf9-b1bf-661d863d82d8\",\"type\":\"GlyphRenderer\"},{\"id\":\"d5919190-02c3-4712-b1c0-1518e4bb85e0\",\"type\":\"GlyphRenderer\"}],\"title\":{\"id\":\"f6955bb1-6c99-4014-a5d1-aa473d8d64fe\",\"type\":\"Title\"},\"tool_events\":{\"id\":\"b65ab7b3-2ad0-4a74-8bed-9ece0dc63d18\",\"type\":\"ToolEvents\"},\"toolbar\":{\"id\":\"c0cb5ffa-3251-4ee9-9c9f-918b7fe0adc2\",\"type\":\"Toolbar\"},\"x_range\":{\"id\":\"9c73dc32-c0d6-4bdb-be1f-b34622cc2620\",\"type\":\"DataRange1d\"},\"y_range\":{\"id\":\"bbb8c7a3-7842-4a41-a224-18d29f1ba101\",\"type\":\"DataRange1d\"}},\"id\":\"0792bd8d-8398-4e0c-8127-28471b927e43\",\"subtype\":\"Figure\",\"type\":\"Plot\"},{\"attributes\":{\"active_drag\":\"auto\",\"active_scroll\":\"auto\",\"active_tap\":\"auto\",\"tools\":[{\"id\":\"b4949857-9d57-4c2b-806b-6746cd33a07f\",\"type\":\"BoxZoomTool\"},{\"id\":\"16c61818-f254-4880-ad82-af3219f74143\",\"type\":\"BoxSelectTool\"},{\"id\":\"448c9c52-0dd3-4cde-b0e4-a8152555652a\",\"type\":\"CrosshairTool\"},{\"id\":\"c89aef6e-530a-433a-9f64-e7d3675bbec2\",\"type\":\"ResizeTool\"},{\"id\":\"7daecafd-1bce-4b74-8eda-8119a47edabb\",\"type\":\"ResetTool\"},{\"id\":\"8a3fd9a7-3cf0-4dfd-bb6b-dc6bcf1d3684\",\"type\":\"LassoSelectTool\"},{\"id\":\"48e2cd6b-c0fd-45ef-aa5b-a41a6b4cac88\",\"type\":\"PanTool\"},{\"id\":\"5eb2ba17-4b81-4aa3-b115-510a1ad574fc\",\"type\":\"SaveTool\"},{\"id\":\"19c488f7-6d47-4ad9-a90d-0938684644a0\",\"type\":\"PolySelectTool\"},{\"id\":\"c9fdcbfb-31f2-49a9-a130-ba69ea97d2c5\",\"type\":\"TapTool\"},{\"id\":\"d95925e4-2173-44e8-be30-ddf1a1da228f\",\"type\":\"WheelZoomTool\"},{\"id\":\"dd429206-977a-4b73-9c5c-db59396d649a\",\"type\":\"UndoTool\"}]},\"id\":\"c0cb5ffa-3251-4ee9-9c9f-918b7fe0adc2\",\"type\":\"Toolbar\"},{\"attributes\":{\"data_source\":{\"id\":\"15b56f46-f829-49ef-98ba-e6e7a1389db9\",\"type\":\"ColumnDataSource\"},\"glyph\":{\"id\":\"a87869f2-c229-4aa4-bb3f-0dcbfbbf7991\",\"type\":\"Line\"},\"hover_glyph\":null,\"nonselection_glyph\":{\"id\":\"4e72fbcc-59a1-4c3a-89fb-02489ab087e7\",\"type\":\"Line\"},\"selection_glyph\":null},\"id\":\"d5919190-02c3-4712-b1c0-1518e4bb85e0\",\"type\":\"GlyphRenderer\"},{\"attributes\":{\"fill_alpha\":{\"value\":0.1},\"fill_color\":{\"value\":\"#1f77b4\"},\"line_alpha\":{\"value\":0.1},\"line_color\":{\"value\":\"#1f77b4\"},\"line_width\":{\"value\":3},\"x\":{\"field\":\"x\"},\"y\":{\"field\":\"y\"}},\"id\":\"7335ffe0-f5e2-44fc-b920-9481b2a0c62b\",\"type\":\"Circle\"},{\"attributes\":{\"fill_alpha\":{\"value\":0.5},\"fill_color\":{\"value\":\"lightgrey\"},\"level\":\"overlay\",\"line_alpha\":{\"value\":1.0},\"line_color\":{\"value\":\"black\"},\"line_dash\":[4,4],\"line_width\":{\"value\":2},\"plot\":null,\"xs_units\":\"screen\",\"ys_units\":\"screen\"},\"id\":\"729998fd-f3f5-4976-b6f4-099bd25c83dc\",\"type\":\"PolyAnnotation\"},{\"attributes\":{\"axis_label\":\"Measured\",\"axis_label_text_color\":{\"value\":\"#aa6666\"},\"formatter\":{\"id\":\"175d0c14-571a-41c0-8e0e-1a2c95c6825e\",\"type\":\"BasicTickFormatter\"},\"major_tick_line_color\":{\"value\":\"firebrick\"},\"major_tick_line_width\":{\"value\":3},\"minor_tick_line_color\":{\"value\":\"orange\"},\"plot\":{\"id\":\"0792bd8d-8398-4e0c-8127-28471b927e43\",\"subtype\":\"Figure\",\"type\":\"Plot\"},\"ticker\":{\"id\":\"22a4736c-275b-4677-a6a3-b029f35db37e\",\"type\":\"BasicTicker\"}},\"id\":\"ac9aea05-4427-4f8c-890c-7b1ab2d72e70\",\"type\":\"LinearAxis\"},{\"attributes\":{},\"id\":\"b65ab7b3-2ad0-4a74-8bed-9ece0dc63d18\",\"type\":\"ToolEvents\"},{\"attributes\":{\"callback\":null},\"id\":\"9c73dc32-c0d6-4bdb-be1f-b34622cc2620\",\"type\":\"DataRange1d\"},{\"attributes\":{\"callback\":null},\"id\":\"bbb8c7a3-7842-4a41-a224-18d29f1ba101\",\"type\":\"DataRange1d\"},{\"attributes\":{},\"id\":\"a6e68299-8e2d-432d-adb0-34a9fafca944\",\"type\":\"BasicTickFormatter\"},{\"attributes\":{\"align\":\"center\",\"plot\":null,\"text\":null},\"id\":\"f6955bb1-6c99-4014-a5d1-aa473d8d64fe\",\"type\":\"Title\"},{\"attributes\":{\"plot\":{\"id\":\"0792bd8d-8398-4e0c-8127-28471b927e43\",\"subtype\":\"Figure\",\"type\":\"Plot\"}},\"id\":\"7daecafd-1bce-4b74-8eda-8119a47edabb\",\"type\":\"ResetTool\"},{\"attributes\":{\"plot\":{\"id\":\"0792bd8d-8398-4e0c-8127-28471b927e43\",\"subtype\":\"Figure\",\"type\":\"Plot\"}},\"id\":\"dd429206-977a-4b73-9c5c-db59396d649a\",\"type\":\"UndoTool\"},{\"attributes\":{\"plot\":{\"id\":\"0792bd8d-8398-4e0c-8127-28471b927e43\",\"subtype\":\"Figure\",\"type\":\"Plot\"},\"ticker\":{\"id\":\"22a4736c-275b-4677-a6a3-b029f35db37e\",\"type\":\"BasicTicker\"}},\"id\":\"4c12edca-7b58-4355-84a0-8f8225898f45\",\"type\":\"Grid\"},{\"attributes\":{\"fill_color\":{\"value\":\"#80B1D3\"},\"line_color\":{\"value\":\"#80B1D3\"},\"line_width\":{\"value\":3},\"x\":{\"field\":\"x\"},\"y\":{\"field\":\"y\"}},\"id\":\"943bbc3d-b796-4884-82cc-1d4100d3340b\",\"type\":\"Circle\"},{\"attributes\":{\"callback\":null,\"column_names\":[\"y\",\"x\"],\"data\":{\"x\":[9.0,46.6],\"y\":[9.0,46.6]}},\"id\":\"15b56f46-f829-49ef-98ba-e6e7a1389db9\",\"type\":\"ColumnDataSource\"},{\"attributes\":{\"callback\":null,\"column_names\":[\"x\",\"y\"],\"data\":{\"x\":[15.0,27.0,34.3,26.0,31.6,33.8,29.0,18.1,27.2,38.0,26.0,14.0,22.0,31.0,36.4,17.6,17.7,28.0,20.8,14.0,20.2,32.8,22.3,28.0,37.0,27.0,23.2,13.0,15.0,22.0,24.0,29.0,13.0,31.8,23.0,25.5,29.9,13.0,17.5,46.6,15.5,32.9,14.0,25.0,19.4,15.0,32.4,31.5,27.0,19.8,17.0,33.5,21.0,23.0,38.1,44.0,40.8,21.0,29.0,17.5,28.0,26.0,26.0,11.0,37.7,24.2,16.0,16.0,30.0,19.0,27.0,19.0,16.0,16.0,20.3,21.0,33.5,23.0,21.5,16.0,19.0,37.0,15.0,16.0,26.0,18.0,13.0,21.0,29.0,22.0,33.0,22.0,16.0,36.0,20.0,22.0,31.3,14.5,29.8,13.0,13.0,36.0,20.5,25.0,27.0,33.0,16.5,20.6,30.0,43.4,34.7,11.0,18.0,13.0,16.0,19.0,23.0,25.5,14.0,24.5,30.0,25.8,38.0,28.8,26.6,17.0,32.0,18.1,11.0,21.0,36.0,13.0,30.0,31.0,14.0,18.0,13.0,21.6,28.0,23.8,14.0,27.0,20.2,26.0,39.4,19.9,19.0,14.0,23.6,13.0,38.0,30.5,18.5,17.0,12.0,16.0,28.0,15.5,32.0,24.0,25.1,16.0,13.0,24.0,22.0,24.0,15.0,19.0,18.0,27.2,14.0,21.0,44.3,28.0,31.5,19.2,14.0,30.5,29.8,36.1,26.8,26.0,20.5,32.1,16.0,17.0,20.0,22.0,25.0,23.9,31.0,39.0,28.0,34.5,22.0,20.6,14.0,25.4,14.0,30.0,19.0,36.0,25.0,14.0,21.1,28.0,19.0,19.1,24.3,44.6,20.0,17.0,13.0,34.2,26.0,17.5,26.0,13.0,18.0,18.5,36.0,16.0,38.0,23.0,20.5,13.0,28.0,12.0,34.1,20.0,12.0,28.4,18.0,20.0,29.5,19.0,26.0,26.0,25.0,32.0,33.7,28.0,19.2,29.5,27.0,15.0,39.1,26.6,13.0,23.0,27.5,20.0,19.2,24.0,32.2,19.4,33.0,12.0,13.0,17.6,23.9,34.4,14.0,31.0,35.1,15.0,15.5,9.0,25.0,18.0,31.0,43.1,17.5,25.0,25.0,19.0,26.0,31.0,18.2,30.7,24.0,17.0,27.0,23.0,18.0,27.2,35.0,29.0,21.5,15.0,17.5,15.0,32.7,10.0,20.0,32.4,34.0,18.0,32.0,14.0,24.0,26.4,14.0,13.0,13.0,18.5,21.5,16.2,16.5,15.0,28.1,29.0,20.2,27.9,22.0,29.0,19.0,25.0],\"y\":[14.2,27.8,37.760000000000005,29.0,31.060000000000002,39.22,27.359999999999996,18.68,24.439999999999998,34.38,27.4,13.4,19.0,32.0,24.02,20.64,19.18,24.4,19.96,13.0,19.5,35.94,24.799999999999997,23.8,38.779999999999994,23.7,23.880000000000003,16.4,13.6,21.96,24.2,30.4,16.64,39.4,25.8,23.740000000000002,33.44,12.4,16.96,37.58,16.0,33.08,14.4,22.4,17.380000000000003,20.580000000000002,32.980000000000004,29.9,27.5,24.8,15.2,30.2,20.7,18.4,33.46,43.82,39.4,20.0,30.0,19.02,23.9,25.4,24.8,12.8,39.2,27.96,14.8,12.0,34.660000000000004,24.7,27.0,24.4,15.3,14.4,26.02,19.8,25.18,17.28,20.04,17.14,22.32,34.92,17.1,18.02,29.439999999999998,19.1,13.6,24.4,26.6,19.4,32.5,26.0,15.4,29.0,26.839999999999996,24.0,31.4,15.6,36.279999999999994,14.7,13.3,35.04,19.119999999999997,24.84,27.2,29.6,18.48,19.720000000000002,31.6,37.82,35.6,14.0,15.4,15.319999999999999,14.1,20.22,24.56,24.64,13.8,23.2,28.4,26.48,22.14,26.32,27.98,16.8,29.2,17.380000000000003,13.2,20.4,34.32000000000001,12.0,31.119999999999997,31.8,14.6,30.4,18.52,24.1,27.32,21.080000000000002,14.0,26.8,19.6,26.9,31.72,19.84,24.5,17.4,24.02,14.7,33.0,29.26,18.28,18.1,12.0,17.5,26.6,16.1,31.5,26.0,23.8,13.9,14.6,27.080000000000002,25.4,24.6,15.0,17.839999999999996,21.080000000000002,25.2,14.8,21.0,43.28,29.1,34.82,21.82,13.3,33.1,30.4,33.220000000000006,24.640000000000004,30.82,18.880000000000003,36.89999999999999,17.4,19.16,20.5,21.520000000000003,24.9,22.76,37.14,37.48,25.22,30.919999999999998,22.9,21.02,15.6,19.740000000000002,16.4,29.2,18.2,34.7,25.8,14.5,26.24,24.2,23.28,19.82,26.080000000000002,34.160000000000004,20.76,15.4,14.0,29.76,23.8,15.1,21.6,12.2,16.5,17.68,35.14,18.4,33.82,20.56,18.7,12.8,29.78,12.6,33.72,18.8,13.4,26.98,19.740000000000002,19.06,28.4,17.26,25.4,25.0,21.5,31.0,33.82,29.78,18.580000000000002,27.8,26.2,15.4,33.3,18.48,13.8,22.64,21.2,23.619999999999997,19.919999999999998,26.380000000000003,33.3,19.24,34.120000000000005,13.2,12.0,18.82,22.86,37.42,15.0,28.6,38.82,17.5,18.4,11.8,24.14,15.680000000000001,31.6,33.1,20.380000000000003,24.2,27.0,19.6,28.4,29.619999999999997,19.0,22.759999999999998,28.3,19.0,27.76,20.82,19.6,28.48,31.159999999999997,29.7,31.660000000000004,13.6,17.080000000000002,14.2,26.939999999999998,11.6,26.580000000000002,32.78,34.84,20.4,37.42,13.2,20.52,23.839999999999996,15.0,13.8,13.4,16.419999999999998,24.74,18.380000000000003,17.8,13.8,29.639999999999997,29.560000000000002,17.78,23.880000000000003,18.5,31.8,17.2,26.9]}},\"id\":\"7cf869d5-f192-42d5-8636-b404afd06972\",\"type\":\"ColumnDataSource\"},{\"attributes\":{\"overlay\":{\"id\":\"6f1682e2-235c-4494-bbbc-9de4533a11e7\",\"type\":\"BoxAnnotation\"},\"plot\":{\"id\":\"0792bd8d-8398-4e0c-8127-28471b927e43\",\"subtype\":\"Figure\",\"type\":\"Plot\"}},\"id\":\"b4949857-9d57-4c2b-806b-6746cd33a07f\",\"type\":\"BoxZoomTool\"},{\"attributes\":{\"line_alpha\":{\"value\":0.1},\"line_color\":{\"value\":\"#1f77b4\"},\"line_dash\":[4,4],\"line_width\":{\"value\":2},\"x\":{\"field\":\"x\"},\"y\":{\"field\":\"y\"}},\"id\":\"4e72fbcc-59a1-4c3a-89fb-02489ab087e7\",\"type\":\"Line\"},{\"attributes\":{\"plot\":{\"id\":\"0792bd8d-8398-4e0c-8127-28471b927e43\",\"subtype\":\"Figure\",\"type\":\"Plot\"}},\"id\":\"d95925e4-2173-44e8-be30-ddf1a1da228f\",\"type\":\"WheelZoomTool\"},{\"attributes\":{\"axis_label\":\"Predicted\",\"axis_label_text_color\":{\"value\":\"#aa6666\"},\"formatter\":{\"id\":\"a6e68299-8e2d-432d-adb0-34a9fafca944\",\"type\":\"BasicTickFormatter\"},\"plot\":{\"id\":\"0792bd8d-8398-4e0c-8127-28471b927e43\",\"subtype\":\"Figure\",\"type\":\"Plot\"},\"ticker\":{\"id\":\"86616711-8e7c-46e6-8efd-ff47668c9d36\",\"type\":\"BasicTicker\"}},\"id\":\"2b37db9a-4e64-46ec-b627-cd91f79c3a13\",\"type\":\"LinearAxis\"},{\"attributes\":{},\"id\":\"22a4736c-275b-4677-a6a3-b029f35db37e\",\"type\":\"BasicTicker\"},{\"attributes\":{},\"id\":\"175d0c14-571a-41c0-8e0e-1a2c95c6825e\",\"type\":\"BasicTickFormatter\"},{\"attributes\":{\"plot\":{\"id\":\"0792bd8d-8398-4e0c-8127-28471b927e43\",\"subtype\":\"Figure\",\"type\":\"Plot\"}},\"id\":\"c89aef6e-530a-433a-9f64-e7d3675bbec2\",\"type\":\"ResizeTool\"},{\"attributes\":{\"plot\":{\"id\":\"0792bd8d-8398-4e0c-8127-28471b927e43\",\"subtype\":\"Figure\",\"type\":\"Plot\"}},\"id\":\"448c9c52-0dd3-4cde-b0e4-a8152555652a\",\"type\":\"CrosshairTool\"},{\"attributes\":{\"bottom_units\":\"screen\",\"fill_alpha\":{\"value\":0.5},\"fill_color\":{\"value\":\"lightgrey\"},\"left_units\":\"screen\",\"level\":\"overlay\",\"line_alpha\":{\"value\":1.0},\"line_color\":{\"value\":\"black\"},\"line_dash\":[4,4],\"line_width\":{\"value\":2},\"plot\":null,\"render_mode\":\"css\",\"right_units\":\"screen\",\"top_units\":\"screen\"},\"id\":\"d2473337-36b5-4a33-93be-5c972907a5cc\",\"type\":\"BoxAnnotation\"},{\"attributes\":{\"fill_alpha\":{\"value\":0.5},\"fill_color\":{\"value\":\"lightgrey\"},\"level\":\"overlay\",\"line_alpha\":{\"value\":1.0},\"line_color\":{\"value\":\"black\"},\"line_dash\":[4,4],\"line_width\":{\"value\":2},\"plot\":null,\"xs_units\":\"screen\",\"ys_units\":\"screen\"},\"id\":\"dcf15324-8c7b-484e-aa6e-60f70865660d\",\"type\":\"PolyAnnotation\"},{\"attributes\":{\"callback\":null,\"overlay\":{\"id\":\"729998fd-f3f5-4976-b6f4-099bd25c83dc\",\"type\":\"PolyAnnotation\"},\"plot\":{\"id\":\"0792bd8d-8398-4e0c-8127-28471b927e43\",\"subtype\":\"Figure\",\"type\":\"Plot\"}},\"id\":\"8a3fd9a7-3cf0-4dfd-bb6b-dc6bcf1d3684\",\"type\":\"LassoSelectTool\"},{\"attributes\":{\"bottom_units\":\"screen\",\"fill_alpha\":{\"value\":0.5},\"fill_color\":{\"value\":\"lightgrey\"},\"left_units\":\"screen\",\"level\":\"overlay\",\"line_alpha\":{\"value\":1.0},\"line_color\":{\"value\":\"black\"},\"line_dash\":[4,4],\"line_width\":{\"value\":2},\"plot\":null,\"render_mode\":\"css\",\"right_units\":\"screen\",\"top_units\":\"screen\"},\"id\":\"6f1682e2-235c-4494-bbbc-9de4533a11e7\",\"type\":\"BoxAnnotation\"},{\"attributes\":{\"plot\":{\"id\":\"0792bd8d-8398-4e0c-8127-28471b927e43\",\"subtype\":\"Figure\",\"type\":\"Plot\"}},\"id\":\"48e2cd6b-c0fd-45ef-aa5b-a41a6b4cac88\",\"type\":\"PanTool\"},{\"attributes\":{\"plot\":{\"id\":\"0792bd8d-8398-4e0c-8127-28471b927e43\",\"subtype\":\"Figure\",\"type\":\"Plot\"}},\"id\":\"5eb2ba17-4b81-4aa3-b115-510a1ad574fc\",\"type\":\"SaveTool\"},{\"attributes\":{\"callback\":null,\"overlay\":{\"id\":\"d2473337-36b5-4a33-93be-5c972907a5cc\",\"type\":\"BoxAnnotation\"},\"plot\":{\"id\":\"0792bd8d-8398-4e0c-8127-28471b927e43\",\"subtype\":\"Figure\",\"type\":\"Plot\"},\"renderers\":[{\"id\":\"cd299677-604b-4bf9-b1bf-661d863d82d8\",\"type\":\"GlyphRenderer\"},{\"id\":\"d5919190-02c3-4712-b1c0-1518e4bb85e0\",\"type\":\"GlyphRenderer\"}]},\"id\":\"16c61818-f254-4880-ad82-af3219f74143\",\"type\":\"BoxSelectTool\"},{\"attributes\":{\"callback\":null,\"plot\":{\"id\":\"0792bd8d-8398-4e0c-8127-28471b927e43\",\"subtype\":\"Figure\",\"type\":\"Plot\"}},\"id\":\"c9fdcbfb-31f2-49a9-a130-ba69ea97d2c5\",\"type\":\"TapTool\"}],\"root_ids\":[\"0792bd8d-8398-4e0c-8127-28471b927e43\"]},\"title\":\"Bokeh Application\",\"version\":\"0.12.2\"}};\n",
       "            var render_items = [{\"docid\":\"2242b5b5-168c-4a3f-9de8-60ecd0a69dfc\",\"elementid\":\"425e8498-7ae9-49f3-9f26-7856b725a453\",\"modelid\":\"0792bd8d-8398-4e0c-8127-28471b927e43\"}];\n",
       "            \n",
       "            Bokeh.embed.embed_items(docs_json, render_items);\n",
       "        });\n",
       "      },\n",
       "      function(Bokeh) {\n",
       "      }\n",
       "    ];\n",
       "  \n",
       "    function run_inline_js() {\n",
       "      \n",
       "      if ((window.Bokeh !== undefined) || (force === \"1\")) {\n",
       "        for (var i = 0; i < inline_js.length; i++) {\n",
       "          inline_js[i](window.Bokeh);\n",
       "        }if (force === \"1\") {\n",
       "          display_loaded();\n",
       "        }} else if (Date.now() < window._bokeh_timeout) {\n",
       "        setTimeout(run_inline_js, 100);\n",
       "      } else if (!window._bokeh_failed_load) {\n",
       "        console.log(\"Bokeh: BokehJS failed to load within specified timeout.\");\n",
       "        window._bokeh_failed_load = true;\n",
       "      } else if (!force) {\n",
       "        var cell = $(\"#425e8498-7ae9-49f3-9f26-7856b725a453\").parents('.cell').data().cell;\n",
       "        cell.output_area.append_execute_result(NB_LOAD_WARNING)\n",
       "      }\n",
       "  \n",
       "    }\n",
       "  \n",
       "    if (window._bokeh_is_loading === 0) {\n",
       "      console.log(\"Bokeh: BokehJS loaded, going straight to plotting\");\n",
       "      run_inline_js();\n",
       "    } else {\n",
       "      load_libs(js_urls, function() {\n",
       "        console.log(\"Bokeh: BokehJS plotting callback run at\", now());\n",
       "        run_inline_js();\n",
       "      });\n",
       "    }\n",
       "  }(this));\n",
       "</script>"
      ]
     },
     "metadata": {},
     "output_type": "display_data"
    }
   ],
   "source": [
    "# Plotining using bokeh\n",
    "#TOOLS = [BoxSelectTool(), HoverTool()]\n",
    "#TOOLS = 'hover,box_zoom,box_select,crosshair,resize,reset,DecisionTreeRegressor_select,pan,save,poly_select,tap,wheel_zoom,undo'\n",
    "TOOLS = 'box_zoom,box_select,crosshair,resize,reset,lasso_select,pan,save,poly_select,tap,wheel_zoom,undo'\n",
    "p = figure(plot_width=500, plot_height=500, tools=TOOLS)\n",
    "p.scatter(Y, predicted,x=\"jjj\", marker=\"o\", color=\"#80B1D3\", line_width=3)\n",
    "p.title.align = \"center\"\n",
    "p.xaxis.axis_label = \"Measured\"\n",
    "p.xaxis.axis_label_text_color = \"#aa6666\"\n",
    "#p.xaxis.axis_label_standoff = 30\n",
    "p.xaxis.major_tick_line_color = \"firebrick\"\n",
    "p.xaxis.major_tick_line_width = 3\n",
    "p.xaxis.minor_tick_line_color = \"orange\"\n",
    "p.yaxis.axis_label = \"Predicted\"\n",
    "p.yaxis.axis_label_text_font_style = \"italic\"\n",
    "p.yaxis.axis_label_text_color = \"#aa6666\"\n",
    "p.background_fill_color = \"beige\"\n",
    "p.background_fill_alpha = 0.5\n",
    "#p.line([Y.min(), Y.max()], [Y.min(), Y.max()], line_dash=\"4 4\", line_width=2, color='red')\n",
    "\n",
    "# create a new plot with the toolbar below\n",
    "# line_dash=\"4 4\", line_width=2, color='red'\n",
    "p.line([Y.min(), Y.max()], [Y.min(), Y.max()], line_dash=\"4 4\", line_width=2, line_color=\"black\")\n",
    "show(p)"
   ]
  },
  {
   "cell_type": "code",
   "execution_count": 20,
   "metadata": {
    "collapsed": false
   },
   "outputs": [
    {
     "data": {
      "text/plain": [
       "<matplotlib.text.Text at 0x7f8d2c570150>"
      ]
     },
     "execution_count": 20,
     "metadata": {},
     "output_type": "execute_result"
    },
    {
     "data": {
      "image/png": "[encoded data removed]",
      "text/plain": [
       "<matplotlib.figure.Figure at 0x7f8d2ace65d0>"
      ]
     },
     "metadata": {},
     "output_type": "display_data"
    }
   ],
   "source": [
    "plt.scatter(predicted, (predicted - Y), c='r', s=30)\n",
    "plt.title(\"Residual plot on the training data\")\n",
    "plt.xlabel(\"Predicted\")\n",
    "plt.ylabel(\"Residuals\")"
   ]
  },
  {
   "cell_type": "code",
   "execution_count": 21,
   "metadata": {
    "collapsed": false
   },
   "outputs": [
    {
     "data": {
      "text/html": [
       "\n",
       "\n",
       "    <div class=\"bk-root\">\n",
       "        <div class=\"plotdiv\" id=\"c3142441-ee5d-4727-8c45-bfee34fbb72d\"></div>\n",
       "    </div>\n",
       "<script type=\"text/javascript\">\n",
       "  \n",
       "  (function(global) {\n",
       "    function now() {\n",
       "      return new Date();\n",
       "    }\n",
       "  \n",
       "    var force = \"\";\n",
       "  \n",
       "    if (typeof (window._bokeh_onload_callbacks) === \"undefined\" || force !== \"\") {\n",
       "      window._bokeh_onload_callbacks = [];\n",
       "      window._bokeh_is_loading = undefined;\n",
       "    }\n",
       "  \n",
       "  \n",
       "    \n",
       "    if (typeof (window._bokeh_timeout) === \"undefined\" || force !== \"\") {\n",
       "      window._bokeh_timeout = Date.now() + 0;\n",
       "      window._bokeh_failed_load = false;\n",
       "    }\n",
       "  \n",
       "    var NB_LOAD_WARNING = {'data': {'text/html':\n",
       "       \"<div style='background-color: #fdd'>\\n\"+\n",
       "       \"<p>\\n\"+\n",
       "       \"BokehJS does not appear to have successfully loaded. If loading BokehJS from CDN, this \\n\"+\n",
       "       \"may be due to a slow or bad network connection. Possible fixes:\\n\"+\n",
       "       \"</p>\\n\"+\n",
       "       \"<ul>\\n\"+\n",
       "       \"<li>re-rerun `output_notebook()` to attempt to load from CDN again, or</li>\\n\"+\n",
       "       \"<li>use INLINE resources instead, as so:</li>\\n\"+\n",
       "       \"</ul>\\n\"+\n",
       "       \"<code>\\n\"+\n",
       "       \"from bokeh.resources import INLINE\\n\"+\n",
       "       \"output_notebook(resources=INLINE)\\n\"+\n",
       "       \"</code>\\n\"+\n",
       "       \"</div>\"}};\n",
       "  \n",
       "    function display_loaded() {\n",
       "      if (window.Bokeh !== undefined) {\n",
       "        Bokeh.$(\"#c3142441-ee5d-4727-8c45-bfee34fbb72d\").text(\"BokehJS successfully loaded.\");\n",
       "      } else if (Date.now() < window._bokeh_timeout) {\n",
       "        setTimeout(display_loaded, 100)\n",
       "      }\n",
       "    }\n",
       "  \n",
       "    function run_callbacks() {\n",
       "      window._bokeh_onload_callbacks.forEach(function(callback) { callback() });\n",
       "      delete window._bokeh_onload_callbacks\n",
       "      console.info(\"Bokeh: all callbacks have finished\");\n",
       "    }\n",
       "  \n",
       "    function load_libs(js_urls, callback) {\n",
       "      window._bokeh_onload_callbacks.push(callback);\n",
       "      if (window._bokeh_is_loading > 0) {\n",
       "        console.log(\"Bokeh: BokehJS is being loaded, scheduling callback at\", now());\n",
       "        return null;\n",
       "      }\n",
       "      if (js_urls == null || js_urls.length === 0) {\n",
       "        run_callbacks();\n",
       "        return null;\n",
       "      }\n",
       "      console.log(\"Bokeh: BokehJS not loaded, scheduling load and callback at\", now());\n",
       "      window._bokeh_is_loading = js_urls.length;\n",
       "      for (var i = 0; i < js_urls.length; i++) {\n",
       "        var url = js_urls[i];\n",
       "        var s = document.createElement('script');\n",
       "        s.src = url;\n",
       "        s.async = false;\n",
       "        s.onreadystatechange = s.onload = function() {\n",
       "          window._bokeh_is_loading--;\n",
       "          if (window._bokeh_is_loading === 0) {\n",
       "            console.log(\"Bokeh: all BokehJS libraries loaded\");\n",
       "            run_callbacks()\n",
       "          }\n",
       "        };\n",
       "        s.onerror = function() {\n",
       "          console.warn(\"failed to load library \" + url);\n",
       "        };\n",
       "        console.log(\"Bokeh: injecting script tag for BokehJS library: \", url);\n",
       "        document.getElementsByTagName(\"head\")[0].appendChild(s);\n",
       "      }\n",
       "    };var element = document.getElementById(\"c3142441-ee5d-4727-8c45-bfee34fbb72d\");\n",
       "    if (element == null) {\n",
       "      console.log(\"Bokeh: ERROR: autoload.js configured with elementid 'c3142441-ee5d-4727-8c45-bfee34fbb72d' but no matching script tag was found. \")\n",
       "      return false;\n",
       "    }\n",
       "  \n",
       "    var js_urls = [];\n",
       "  \n",
       "    var inline_js = [\n",
       "      function(Bokeh) {\n",
       "        Bokeh.$(function() {\n",
       "            var docs_json = {\"bc86f7e1-581a-4105-8ff9-d74d7f91bfae\":{\"roots\":{\"references\":[{\"attributes\":{\"plot\":{\"id\":\"6f371632-ec56-429b-a28e-497ebb6fc3e4\",\"subtype\":\"Figure\",\"type\":\"Plot\"}},\"id\":\"7ef4a4d4-489c-4548-a3e4-e4071a94723a\",\"type\":\"ResizeTool\"},{\"attributes\":{\"callback\":null},\"id\":\"87533ddf-e17f-4862-94ca-90356f5f6583\",\"type\":\"DataRange1d\"},{\"attributes\":{\"axis_label\":\"Predicted\",\"axis_label_text_color\":{\"value\":\"#aa6666\"},\"formatter\":{\"id\":\"0034a5da-6968-44e5-9309-4a9fa580bc4c\",\"type\":\"BasicTickFormatter\"},\"major_tick_line_color\":{\"value\":\"firebrick\"},\"major_tick_line_width\":{\"value\":3},\"minor_tick_line_color\":{\"value\":\"orange\"},\"plot\":{\"id\":\"6f371632-ec56-429b-a28e-497ebb6fc3e4\",\"subtype\":\"Figure\",\"type\":\"Plot\"},\"ticker\":{\"id\":\"c10ce0c1-746b-4e7e-830e-8f726f657d87\",\"type\":\"BasicTicker\"}},\"id\":\"a9e91277-3a03-4141-84c1-3180e912abd0\",\"type\":\"LinearAxis\"},{\"attributes\":{\"plot\":{\"id\":\"6f371632-ec56-429b-a28e-497ebb6fc3e4\",\"subtype\":\"Figure\",\"type\":\"Plot\"}},\"id\":\"b297d7a2-38e9-471f-bc09-213deeee2e3a\",\"type\":\"WheelZoomTool\"},{\"attributes\":{},\"id\":\"78edf5ac-9eb5-466f-b400-cd43ab9bbc65\",\"type\":\"BasicTickFormatter\"},{\"attributes\":{\"fill_alpha\":{\"value\":0.1},\"fill_color\":{\"value\":\"#1f77b4\"},\"line_alpha\":{\"value\":0.1},\"line_color\":{\"value\":\"#1f77b4\"},\"line_width\":{\"value\":3},\"x\":{\"field\":\"x\"},\"y\":{\"field\":\"y\"}},\"id\":\"9740b50c-4bfd-4291-a03d-61d31698c7b6\",\"type\":\"Circle\"},{\"attributes\":{\"plot\":{\"id\":\"6f371632-ec56-429b-a28e-497ebb6fc3e4\",\"subtype\":\"Figure\",\"type\":\"Plot\"}},\"id\":\"b628c807-24d9-4161-8f1a-c8542c5ab27c\",\"type\":\"SaveTool\"},{\"attributes\":{\"active_drag\":\"auto\",\"active_scroll\":\"auto\",\"active_tap\":\"auto\",\"tools\":[{\"id\":\"cb63a378-7a9b-4070-91ae-77d128762dd4\",\"type\":\"BoxZoomTool\"},{\"id\":\"261c1bd0-416d-408d-bfd7-9974687a43d7\",\"type\":\"BoxSelectTool\"},{\"id\":\"af93ea42-1b03-4d7b-8c85-e111dab73a96\",\"type\":\"CrosshairTool\"},{\"id\":\"7ef4a4d4-489c-4548-a3e4-e4071a94723a\",\"type\":\"ResizeTool\"},{\"id\":\"eef4ef8b-0401-48c6-a80e-4f6ba08154cb\",\"type\":\"ResetTool\"},{\"id\":\"00fa2bef-4858-442b-b65c-12b3371010f1\",\"type\":\"LassoSelectTool\"},{\"id\":\"71671a62-d01b-41ef-8b34-58fc2c55d0af\",\"type\":\"PanTool\"},{\"id\":\"b628c807-24d9-4161-8f1a-c8542c5ab27c\",\"type\":\"SaveTool\"},{\"id\":\"972ac3f9-e6ee-43a8-8afc-f1d81d882025\",\"type\":\"PolySelectTool\"},{\"id\":\"ec2fb5fc-1504-43af-b117-b86076facf1d\",\"type\":\"TapTool\"},{\"id\":\"b297d7a2-38e9-471f-bc09-213deeee2e3a\",\"type\":\"WheelZoomTool\"},{\"id\":\"e92fb804-2bf4-4a7e-abdc-4a4cbf8882cd\",\"type\":\"UndoTool\"}]},\"id\":\"17d3ff96-db0b-49cd-bf7f-fbe5d20db714\",\"type\":\"Toolbar\"},{\"attributes\":{\"callback\":null,\"column_names\":[\"x\",\"y\"],\"data\":{\"x\":[14.2,27.8,37.760000000000005,29.0,31.060000000000002,39.22,27.359999999999996,18.68,24.439999999999998,34.38,27.4,13.4,19.0,32.0,24.02,20.64,19.18,24.4,19.96,13.0,19.5,35.94,24.799999999999997,23.8,38.779999999999994,23.7,23.880000000000003,16.4,13.6,21.96,24.2,30.4,16.64,39.4,25.8,23.740000000000002,33.44,12.4,16.96,37.58,16.0,33.08,14.4,22.4,17.380000000000003,20.580000000000002,32.980000000000004,29.9,27.5,24.8,15.2,30.2,20.7,18.4,33.46,43.82,39.4,20.0,30.0,19.02,23.9,25.4,24.8,12.8,39.2,27.96,14.8,12.0,34.660000000000004,24.7,27.0,24.4,15.3,14.4,26.02,19.8,25.18,17.28,20.04,17.14,22.32,34.92,17.1,18.02,29.439999999999998,19.1,13.6,24.4,26.6,19.4,32.5,26.0,15.4,29.0,26.839999999999996,24.0,31.4,15.6,36.279999999999994,14.7,13.3,35.04,19.119999999999997,24.84,27.2,29.6,18.48,19.720000000000002,31.6,37.82,35.6,14.0,15.4,15.319999999999999,14.1,20.22,24.56,24.64,13.8,23.2,28.4,26.48,22.14,26.32,27.98,16.8,29.2,17.380000000000003,13.2,20.4,34.32000000000001,12.0,31.119999999999997,31.8,14.6,30.4,18.52,24.1,27.32,21.080000000000002,14.0,26.8,19.6,26.9,31.72,19.84,24.5,17.4,24.02,14.7,33.0,29.26,18.28,18.1,12.0,17.5,26.6,16.1,31.5,26.0,23.8,13.9,14.6,27.080000000000002,25.4,24.6,15.0,17.839999999999996,21.080000000000002,25.2,14.8,21.0,43.28,29.1,34.82,21.82,13.3,33.1,30.4,33.220000000000006,24.640000000000004,30.82,18.880000000000003,36.89999999999999,17.4,19.16,20.5,21.520000000000003,24.9,22.76,37.14,37.48,25.22,30.919999999999998,22.9,21.02,15.6,19.740000000000002,16.4,29.2,18.2,34.7,25.8,14.5,26.24,24.2,23.28,19.82,26.080000000000002,34.160000000000004,20.76,15.4,14.0,29.76,23.8,15.1,21.6,12.2,16.5,17.68,35.14,18.4,33.82,20.56,18.7,12.8,29.78,12.6,33.72,18.8,13.4,26.98,19.740000000000002,19.06,28.4,17.26,25.4,25.0,21.5,31.0,33.82,29.78,18.580000000000002,27.8,26.2,15.4,33.3,18.48,13.8,22.64,21.2,23.619999999999997,19.919999999999998,26.380000000000003,33.3,19.24,34.120000000000005,13.2,12.0,18.82,22.86,37.42,15.0,28.6,38.82,17.5,18.4,11.8,24.14,15.680000000000001,31.6,33.1,20.380000000000003,24.2,27.0,19.6,28.4,29.619999999999997,19.0,22.759999999999998,28.3,19.0,27.76,20.82,19.6,28.48,31.159999999999997,29.7,31.660000000000004,13.6,17.080000000000002,14.2,26.939999999999998,11.6,26.580000000000002,32.78,34.84,20.4,37.42,13.2,20.52,23.839999999999996,15.0,13.8,13.4,16.419999999999998,24.74,18.380000000000003,17.8,13.8,29.639999999999997,29.560000000000002,17.78,23.880000000000003,18.5,31.8,17.2,26.9],\"y\":[-0.8000000000000007,0.8000000000000007,3.460000000000008,3.0,-0.5399999999999991,5.420000000000002,-1.6400000000000041,0.5799999999999983,-2.7600000000000016,-3.6199999999999974,1.3999999999999986,-0.5999999999999996,-3.0,1.0,-12.379999999999999,3.039999999999999,1.4800000000000004,-3.6000000000000014,-0.8399999999999999,-1.0,-0.6999999999999993,3.1400000000000006,2.4999999999999964,-4.199999999999999,1.779999999999994,-3.3000000000000007,0.6800000000000033,3.3999999999999986,-1.4000000000000004,-0.03999999999999915,0.1999999999999993,1.3999999999999986,3.6400000000000006,7.599999999999998,2.8000000000000007,-1.759999999999998,3.539999999999999,-0.5999999999999996,-0.5399999999999991,-9.020000000000003,0.5,0.17999999999999972,0.40000000000000036,-2.6000000000000014,-2.019999999999996,5.580000000000002,0.5800000000000054,-1.6000000000000014,0.5,5.0,-1.8000000000000007,-3.3000000000000007,-0.3000000000000007,-4.600000000000001,-4.640000000000001,-0.17999999999999972,-1.3999999999999986,-1.0,1.0,1.5199999999999996,-4.100000000000001,-0.6000000000000014,-1.1999999999999993,1.8000000000000007,1.5,3.7600000000000016,-1.1999999999999993,-4.0,4.660000000000004,5.699999999999999,0.0,5.399999999999999,-0.6999999999999993,-1.5999999999999996,5.719999999999999,-1.1999999999999993,-8.32,-5.719999999999999,-1.4600000000000009,1.1400000000000006,3.3200000000000003,-2.0799999999999983,2.1000000000000014,2.0199999999999996,3.4399999999999977,1.1000000000000014,0.5999999999999996,3.3999999999999986,-2.3999999999999986,-2.6000000000000014,-0.5,4.0,-0.5999999999999996,-7.0,6.839999999999996,2.0,0.09999999999999787,1.0999999999999996,6.479999999999993,1.6999999999999993,0.3000000000000007,-0.9600000000000009,-1.3800000000000026,-0.16000000000000014,0.1999999999999993,-3.3999999999999986,1.9800000000000004,-0.879999999999999,1.6000000000000014,-5.579999999999998,0.8999999999999986,3.0,-2.5999999999999996,2.3199999999999985,-1.9000000000000004,1.2199999999999989,1.5599999999999987,-0.8599999999999994,-0.1999999999999993,-1.3000000000000007,-1.6000000000000014,0.6799999999999997,-15.86,-2.4800000000000004,1.379999999999999,-0.1999999999999993,-2.8000000000000007,-0.7199999999999989,2.1999999999999993,-0.6000000000000014,-1.6799999999999926,-1.0,1.1199999999999974,0.8000000000000007,0.5999999999999996,12.399999999999999,5.52,2.5,-0.6799999999999997,-2.719999999999999,0.0,-0.1999999999999993,-0.5999999999999979,0.8999999999999986,-7.68,-0.05999999999999872,5.5,3.3999999999999986,0.41999999999999815,1.6999999999999993,-5.0,-1.2399999999999984,-0.21999999999999886,1.1000000000000014,0.0,1.5,-1.3999999999999986,0.6000000000000014,-0.5,2.0,-1.3000000000000007,-2.0999999999999996,1.5999999999999996,3.080000000000002,3.3999999999999986,0.6000000000000014,0.0,-1.1600000000000037,3.080000000000002,-2.0,0.8000000000000007,0.0,-1.019999999999996,1.1000000000000014,3.3200000000000003,2.620000000000001,-0.6999999999999993,2.6000000000000014,0.5999999999999979,-2.8799999999999955,-2.1599999999999966,4.82,-1.6199999999999974,4.79999999999999,1.3999999999999986,2.16,0.5,-0.4799999999999969,-0.10000000000000142,-1.139999999999997,6.140000000000001,-1.5200000000000031,-2.780000000000001,-3.580000000000002,0.8999999999999986,0.41999999999999815,1.5999999999999996,-5.659999999999997,2.3999999999999986,-0.8000000000000007,-0.8000000000000007,-1.2999999999999972,0.8000000000000007,0.5,5.139999999999997,-3.8000000000000007,4.280000000000001,0.7199999999999989,1.7800000000000011,-10.439999999999998,0.7600000000000016,-1.5999999999999996,1.0,-4.440000000000001,-2.1999999999999993,-2.4000000000000004,-4.399999999999999,-0.8000000000000007,-1.5,-0.8200000000000003,-0.8599999999999994,2.3999999999999986,-4.18,-2.4400000000000013,-1.8000000000000007,-0.1999999999999993,1.7800000000000011,0.5999999999999996,-0.38000000000000256,-1.1999999999999993,1.4000000000000004,-1.4199999999999982,1.740000000000002,-0.9400000000000013,-1.1000000000000014,-1.7399999999999984,-0.6000000000000014,-1.0,-3.5,-1.0,0.11999999999999744,1.7800000000000011,-0.6199999999999974,-1.6999999999999993,-0.8000000000000007,0.40000000000000036,-5.800000000000004,-8.120000000000001,0.8000000000000007,-0.35999999999999943,-6.300000000000001,3.6199999999999974,0.7199999999999989,2.3800000000000026,1.0999999999999943,-0.16000000000000014,1.1200000000000045,1.1999999999999993,-1.0,1.2199999999999989,-1.0399999999999991,3.020000000000003,1.0,-2.3999999999999986,3.719999999999999,2.5,2.8999999999999986,2.8000000000000007,-0.8599999999999994,-2.3199999999999985,0.6000000000000014,-10.0,2.8800000000000026,-0.8000000000000007,2.0,0.6000000000000014,2.3999999999999986,-1.3800000000000026,0.8000000000000007,-7.940000000000001,4.300000000000001,2.0,0.7600000000000016,-2.1799999999999997,1.6000000000000014,1.2800000000000011,-3.8400000000000034,0.6999999999999993,10.160000000000004,-1.4000000000000004,-0.41999999999999815,-0.8000000000000007,-5.760000000000005,1.5999999999999996,6.580000000000002,0.38000000000000256,0.8400000000000034,2.3999999999999986,5.420000000000002,-0.8000000000000007,-3.4800000000000004,-2.5600000000000023,1.0,0.8000000000000007,0.40000000000000036,-2.080000000000002,3.2399999999999984,2.1800000000000033,1.3000000000000007,-1.1999999999999993,1.5399999999999956,0.5600000000000023,-2.419999999999998,-4.019999999999996,-3.5,2.8000000000000007,-1.8000000000000007,1.8999999999999986]}},\"id\":\"626ea95d-ad77-4375-8e0e-0ca4ac62293f\",\"type\":\"ColumnDataSource\"},{\"attributes\":{\"axis_label\":\"Residuals\",\"axis_label_text_color\":{\"value\":\"#aa6666\"},\"formatter\":{\"id\":\"78edf5ac-9eb5-466f-b400-cd43ab9bbc65\",\"type\":\"BasicTickFormatter\"},\"plot\":{\"id\":\"6f371632-ec56-429b-a28e-497ebb6fc3e4\",\"subtype\":\"Figure\",\"type\":\"Plot\"},\"ticker\":{\"id\":\"e9ce7c5c-eb1d-47b4-8dda-08acfa954a11\",\"type\":\"BasicTicker\"}},\"id\":\"46ea85ea-5aea-41a0-bcd6-549dedc3c39e\",\"type\":\"LinearAxis\"},{\"attributes\":{},\"id\":\"cad664c3-91f6-48e2-8314-fc3827881c2d\",\"type\":\"ToolEvents\"},{\"attributes\":{\"overlay\":{\"id\":\"2e6d8505-0fb7-458f-ba19-ea8455672364\",\"type\":\"PolyAnnotation\"},\"plot\":{\"id\":\"6f371632-ec56-429b-a28e-497ebb6fc3e4\",\"subtype\":\"Figure\",\"type\":\"Plot\"}},\"id\":\"972ac3f9-e6ee-43a8-8afc-f1d81d882025\",\"type\":\"PolySelectTool\"},{\"attributes\":{},\"id\":\"c10ce0c1-746b-4e7e-830e-8f726f657d87\",\"type\":\"BasicTicker\"},{\"attributes\":{\"data_source\":{\"id\":\"626ea95d-ad77-4375-8e0e-0ca4ac62293f\",\"type\":\"ColumnDataSource\"},\"glyph\":{\"id\":\"efbf4064-bab3-4ce8-8e9a-fd5c323edad0\",\"type\":\"Circle\"},\"hover_glyph\":null,\"nonselection_glyph\":{\"id\":\"9740b50c-4bfd-4291-a03d-61d31698c7b6\",\"type\":\"Circle\"},\"selection_glyph\":null},\"id\":\"3a707678-21d0-42ef-9b4a-cc0b089db890\",\"type\":\"GlyphRenderer\"},{\"attributes\":{},\"id\":\"0034a5da-6968-44e5-9309-4a9fa580bc4c\",\"type\":\"BasicTickFormatter\"},{\"attributes\":{\"dimension\":1,\"plot\":{\"id\":\"6f371632-ec56-429b-a28e-497ebb6fc3e4\",\"subtype\":\"Figure\",\"type\":\"Plot\"},\"ticker\":{\"id\":\"e9ce7c5c-eb1d-47b4-8dda-08acfa954a11\",\"type\":\"BasicTicker\"}},\"id\":\"0fa98007-582a-4def-b621-fe4a3dd4a2dc\",\"type\":\"Grid\"},{\"attributes\":{\"plot\":{\"id\":\"6f371632-ec56-429b-a28e-497ebb6fc3e4\",\"subtype\":\"Figure\",\"type\":\"Plot\"}},\"id\":\"e92fb804-2bf4-4a7e-abdc-4a4cbf8882cd\",\"type\":\"UndoTool\"},{\"attributes\":{\"callback\":null,\"overlay\":{\"id\":\"d979a37e-9644-429a-816d-b8379fc70573\",\"type\":\"BoxAnnotation\"},\"plot\":{\"id\":\"6f371632-ec56-429b-a28e-497ebb6fc3e4\",\"subtype\":\"Figure\",\"type\":\"Plot\"},\"renderers\":[{\"id\":\"3a707678-21d0-42ef-9b4a-cc0b089db890\",\"type\":\"GlyphRenderer\"}]},\"id\":\"261c1bd0-416d-408d-bfd7-9974687a43d7\",\"type\":\"BoxSelectTool\"},{\"attributes\":{\"fill_alpha\":{\"value\":0.5},\"fill_color\":{\"value\":\"lightgrey\"},\"level\":\"overlay\",\"line_alpha\":{\"value\":1.0},\"line_color\":{\"value\":\"black\"},\"line_dash\":[4,4],\"line_width\":{\"value\":2},\"plot\":null,\"xs_units\":\"screen\",\"ys_units\":\"screen\"},\"id\":\"e06dec73-a80d-4ff8-ba02-c8d9c3a2cdc6\",\"type\":\"PolyAnnotation\"},{\"attributes\":{\"callback\":null,\"overlay\":{\"id\":\"e06dec73-a80d-4ff8-ba02-c8d9c3a2cdc6\",\"type\":\"PolyAnnotation\"},\"plot\":{\"id\":\"6f371632-ec56-429b-a28e-497ebb6fc3e4\",\"subtype\":\"Figure\",\"type\":\"Plot\"}},\"id\":\"00fa2bef-4858-442b-b65c-12b3371010f1\",\"type\":\"LassoSelectTool\"},{\"attributes\":{\"callback\":null,\"plot\":{\"id\":\"6f371632-ec56-429b-a28e-497ebb6fc3e4\",\"subtype\":\"Figure\",\"type\":\"Plot\"}},\"id\":\"ec2fb5fc-1504-43af-b117-b86076facf1d\",\"type\":\"TapTool\"},{\"attributes\":{\"fill_color\":{\"value\":\"#80B1D3\"},\"line_color\":{\"value\":\"#80B1D3\"},\"line_width\":{\"value\":3},\"x\":{\"field\":\"x\"},\"y\":{\"field\":\"y\"}},\"id\":\"efbf4064-bab3-4ce8-8e9a-fd5c323edad0\",\"type\":\"Circle\"},{\"attributes\":{\"overlay\":{\"id\":\"d1b4ea90-d025-43ee-a76b-8e09e6dd30db\",\"type\":\"BoxAnnotation\"},\"plot\":{\"id\":\"6f371632-ec56-429b-a28e-497ebb6fc3e4\",\"subtype\":\"Figure\",\"type\":\"Plot\"}},\"id\":\"cb63a378-7a9b-4070-91ae-77d128762dd4\",\"type\":\"BoxZoomTool\"},{\"attributes\":{\"plot\":{\"id\":\"6f371632-ec56-429b-a28e-497ebb6fc3e4\",\"subtype\":\"Figure\",\"type\":\"Plot\"},\"ticker\":{\"id\":\"c10ce0c1-746b-4e7e-830e-8f726f657d87\",\"type\":\"BasicTicker\"}},\"id\":\"e1b1bacf-277b-4dc7-95df-4e4dbb5bfe0d\",\"type\":\"Grid\"},{\"attributes\":{\"plot\":{\"id\":\"6f371632-ec56-429b-a28e-497ebb6fc3e4\",\"subtype\":\"Figure\",\"type\":\"Plot\"}},\"id\":\"71671a62-d01b-41ef-8b34-58fc2c55d0af\",\"type\":\"PanTool\"},{\"attributes\":{\"bottom_units\":\"screen\",\"fill_alpha\":{\"value\":0.5},\"fill_color\":{\"value\":\"lightgrey\"},\"left_units\":\"screen\",\"level\":\"overlay\",\"line_alpha\":{\"value\":1.0},\"line_color\":{\"value\":\"black\"},\"line_dash\":[4,4],\"line_width\":{\"value\":2},\"plot\":null,\"render_mode\":\"css\",\"right_units\":\"screen\",\"top_units\":\"screen\"},\"id\":\"d979a37e-9644-429a-816d-b8379fc70573\",\"type\":\"BoxAnnotation\"},{\"attributes\":{\"fill_alpha\":{\"value\":0.5},\"fill_color\":{\"value\":\"lightgrey\"},\"level\":\"overlay\",\"line_alpha\":{\"value\":1.0},\"line_color\":{\"value\":\"black\"},\"line_dash\":[4,4],\"line_width\":{\"value\":2},\"plot\":null,\"xs_units\":\"screen\",\"ys_units\":\"screen\"},\"id\":\"2e6d8505-0fb7-458f-ba19-ea8455672364\",\"type\":\"PolyAnnotation\"},{\"attributes\":{\"bottom_units\":\"screen\",\"fill_alpha\":{\"value\":0.5},\"fill_color\":{\"value\":\"lightgrey\"},\"left_units\":\"screen\",\"level\":\"overlay\",\"line_alpha\":{\"value\":1.0},\"line_color\":{\"value\":\"black\"},\"line_dash\":[4,4],\"line_width\":{\"value\":2},\"plot\":null,\"render_mode\":\"css\",\"right_units\":\"screen\",\"top_units\":\"screen\"},\"id\":\"d1b4ea90-d025-43ee-a76b-8e09e6dd30db\",\"type\":\"BoxAnnotation\"},{\"attributes\":{\"callback\":null},\"id\":\"95bc3dd2-17a8-45a0-9e50-06f6cf25a331\",\"type\":\"DataRange1d\"},{\"attributes\":{\"background_fill_alpha\":{\"value\":0.5},\"background_fill_color\":{\"value\":\"beige\"},\"below\":[{\"id\":\"a9e91277-3a03-4141-84c1-3180e912abd0\",\"type\":\"LinearAxis\"}],\"left\":[{\"id\":\"46ea85ea-5aea-41a0-bcd6-549dedc3c39e\",\"type\":\"LinearAxis\"}],\"plot_height\":500,\"plot_width\":500,\"renderers\":[{\"id\":\"a9e91277-3a03-4141-84c1-3180e912abd0\",\"type\":\"LinearAxis\"},{\"id\":\"e1b1bacf-277b-4dc7-95df-4e4dbb5bfe0d\",\"type\":\"Grid\"},{\"id\":\"46ea85ea-5aea-41a0-bcd6-549dedc3c39e\",\"type\":\"LinearAxis\"},{\"id\":\"0fa98007-582a-4def-b621-fe4a3dd4a2dc\",\"type\":\"Grid\"},{\"id\":\"d1b4ea90-d025-43ee-a76b-8e09e6dd30db\",\"type\":\"BoxAnnotation\"},{\"id\":\"d979a37e-9644-429a-816d-b8379fc70573\",\"type\":\"BoxAnnotation\"},{\"id\":\"e06dec73-a80d-4ff8-ba02-c8d9c3a2cdc6\",\"type\":\"PolyAnnotation\"},{\"id\":\"2e6d8505-0fb7-458f-ba19-ea8455672364\",\"type\":\"PolyAnnotation\"},{\"id\":\"3a707678-21d0-42ef-9b4a-cc0b089db890\",\"type\":\"GlyphRenderer\"}],\"title\":{\"id\":\"220c2e51-39eb-450e-9eff-257c937b1392\",\"type\":\"Title\"},\"tool_events\":{\"id\":\"cad664c3-91f6-48e2-8314-fc3827881c2d\",\"type\":\"ToolEvents\"},\"toolbar\":{\"id\":\"17d3ff96-db0b-49cd-bf7f-fbe5d20db714\",\"type\":\"Toolbar\"},\"x_range\":{\"id\":\"95bc3dd2-17a8-45a0-9e50-06f6cf25a331\",\"type\":\"DataRange1d\"},\"y_range\":{\"id\":\"87533ddf-e17f-4862-94ca-90356f5f6583\",\"type\":\"DataRange1d\"}},\"id\":\"6f371632-ec56-429b-a28e-497ebb6fc3e4\",\"subtype\":\"Figure\",\"type\":\"Plot\"},{\"attributes\":{\"align\":\"center\",\"plot\":null,\"text\":\"Residual plot on the training data\"},\"id\":\"220c2e51-39eb-450e-9eff-257c937b1392\",\"type\":\"Title\"},{\"attributes\":{\"plot\":{\"id\":\"6f371632-ec56-429b-a28e-497ebb6fc3e4\",\"subtype\":\"Figure\",\"type\":\"Plot\"}},\"id\":\"eef4ef8b-0401-48c6-a80e-4f6ba08154cb\",\"type\":\"ResetTool\"},{\"attributes\":{\"plot\":{\"id\":\"6f371632-ec56-429b-a28e-497ebb6fc3e4\",\"subtype\":\"Figure\",\"type\":\"Plot\"}},\"id\":\"af93ea42-1b03-4d7b-8c85-e111dab73a96\",\"type\":\"CrosshairTool\"},{\"attributes\":{},\"id\":\"e9ce7c5c-eb1d-47b4-8dda-08acfa954a11\",\"type\":\"BasicTicker\"}],\"root_ids\":[\"6f371632-ec56-429b-a28e-497ebb6fc3e4\"]},\"title\":\"Bokeh Application\",\"version\":\"0.12.2\"}};\n",
       "            var render_items = [{\"docid\":\"bc86f7e1-581a-4105-8ff9-d74d7f91bfae\",\"elementid\":\"c3142441-ee5d-4727-8c45-bfee34fbb72d\",\"modelid\":\"6f371632-ec56-429b-a28e-497ebb6fc3e4\"}];\n",
       "            \n",
       "            Bokeh.embed.embed_items(docs_json, render_items);\n",
       "        });\n",
       "      },\n",
       "      function(Bokeh) {\n",
       "      }\n",
       "    ];\n",
       "  \n",
       "    function run_inline_js() {\n",
       "      \n",
       "      if ((window.Bokeh !== undefined) || (force === \"1\")) {\n",
       "        for (var i = 0; i < inline_js.length; i++) {\n",
       "          inline_js[i](window.Bokeh);\n",
       "        }if (force === \"1\") {\n",
       "          display_loaded();\n",
       "        }} else if (Date.now() < window._bokeh_timeout) {\n",
       "        setTimeout(run_inline_js, 100);\n",
       "      } else if (!window._bokeh_failed_load) {\n",
       "        console.log(\"Bokeh: BokehJS failed to load within specified timeout.\");\n",
       "        window._bokeh_failed_load = true;\n",
       "      } else if (!force) {\n",
       "        var cell = $(\"#c3142441-ee5d-4727-8c45-bfee34fbb72d\").parents('.cell').data().cell;\n",
       "        cell.output_area.append_execute_result(NB_LOAD_WARNING)\n",
       "      }\n",
       "  \n",
       "    }\n",
       "  \n",
       "    if (window._bokeh_is_loading === 0) {\n",
       "      console.log(\"Bokeh: BokehJS loaded, going straight to plotting\");\n",
       "      run_inline_js();\n",
       "    } else {\n",
       "      load_libs(js_urls, function() {\n",
       "        console.log(\"Bokeh: BokehJS plotting callback run at\", now());\n",
       "        run_inline_js();\n",
       "      });\n",
       "    }\n",
       "  }(this));\n",
       "</script>"
      ]
     },
     "metadata": {},
     "output_type": "display_data"
    }
   ],
   "source": [
    "# Plotining using bokeh\n",
    "#TOOLS = 'hover,box_zoom,box_select,crosshair,resize,reset,DecisionTreeRegressor_select,pan,save,poly_select,tap,wheel_zoom,undo'\n",
    "TOOLS = 'box_zoom,box_select,crosshair,resize,reset,lasso_select,pan,save,poly_select,tap,wheel_zoom,undo'\n",
    "p = figure(plot_width=500, plot_height=500, title=\"Residual plot on the training data\", tools=TOOLS)\n",
    "p.scatter(predicted, (predicted - Y),x=\"jjj\", marker=\"o\", color=\"#80B1D3\", line_width=3)\n",
    "p.title.align = \"center\"\n",
    "p.xaxis.axis_label = \"Predicted\"\n",
    "p.xaxis.axis_label_text_color = \"#aa6666\"\n",
    "#p.xaxis.axis_label_standoff = 30\n",
    "p.xaxis.major_tick_line_color = \"firebrick\"\n",
    "p.xaxis.major_tick_line_width = 3\n",
    "p.xaxis.minor_tick_line_color = \"orange\"\n",
    "p.yaxis.axis_label = \"Residuals\"\n",
    "p.yaxis.axis_label_text_font_style = \"italic\"\n",
    "p.yaxis.axis_label_text_color = \"#aa6666\"\n",
    "p.background_fill_color = \"beige\"\n",
    "p.background_fill_alpha = 0.5\n",
    "#p.line([2,38], [0, 0], line_dash=\"4 4\", line_width=2, color='red')\n",
    "show(p)"
   ]
  },
  {
   "cell_type": "markdown",
   "metadata": {},
   "source": [
    "## Pipeline"
   ]
  },
  {
   "cell_type": "markdown",
   "metadata": {},
   "source": [
    "The best to deliver the model by pipeline the operation then at deployment can be done in one model."
   ]
  },
  {
   "cell_type": "markdown",
   "metadata": {
    "collapsed": true
   },
   "source": [
    "  I used two ways to check the pipeline so any one can be fine"
   ]
  },
  {
   "cell_type": "code",
   "execution_count": 22,
   "metadata": {
    "collapsed": false
   },
   "outputs": [
    {
     "name": "stdout",
     "output_type": "stream",
     "text": [
      "0.969757497139\n",
      "Scoring according to mean_squared_error\n",
      "[ -9.57425    -10.3296625  -11.3166125  -19.1584375  -10.9181875\n",
      "  -5.4432375   -7.5818125   -2.80725     -9.73614194 -10.21402581]\n",
      "\n",
      " Mean      Standard deviation\n",
      "-9.71      4.05\n",
      "[ True  True  True  True  True  True  True]\n",
      "R-squared =  0.969757497139\n"
     ]
    }
   ],
   "source": [
    "# Use Pipeline\n",
    "# ANOVA \n",
    "from sklearn.pipeline import Pipeline\n",
    "from sklearn.feature_selection import SelectKBest, f_regression\n",
    "anova_filter = SelectKBest(f_regression, k=7)\n",
    "LR = BaggingRegressor(n_estimators = 5 )\n",
    "\n",
    "anova_LinReg = Pipeline([ ('anova', anova_filter), ('LinReg', LR)])\n",
    "# You can set the parameters using the names issued\n",
    "# For instance, fit using a k of 10 in the SelectKBest\n",
    "anova_LinReg.set_params(anova__k=7).fit(new_data, Y)\n",
    "prediction = anova_LinReg.predict(new_data)\n",
    "print anova_LinReg.score(new_data, Y)                        \n",
    "# getting the selected features chosen by anova_filter\n",
    "results = cross_validation.cross_val_score(anova_LinReg, new_data, Y, cv=kfold, scoring=scoring)\n",
    "print 'Scoring according to mean_squared_error'\n",
    "print results\n",
    "print '\\n Mean      Standard deviation'\n",
    "print(\"%.2f      %.2f\" % (results.mean(), results.std()))\n",
    "print anova_LinReg.named_steps['anova'].get_support()\n",
    "r_squared = r2_score(Y, prediction, multioutput='variance_weighted')\n",
    "print 'R-squared = ',r_squared"
   ]
  },
  {
   "cell_type": "code",
   "execution_count": 23,
   "metadata": {
    "collapsed": false
   },
   "outputs": [
    {
     "name": "stdout",
     "output_type": "stream",
     "text": [
      "R-squared =  0.966397309462\n"
     ]
    }
   ],
   "source": [
    "# Using make_pipeline\n",
    "from sklearn.pipeline import make_pipeline\n",
    "\n",
    "# ANOVA SVM-C\n",
    "# 1) anova filter, take 3 best ranked features\n",
    "anova_filter = SelectKBest(f_regression, k=7)\n",
    "anova_BaggingRegressorNoProcessing = make_pipeline( anova_filter, LR)\n",
    "anova_BaggingRegressorNoProcessing.fit(new_data, Y)\n",
    "prediction = anova_BaggingRegressorNoProcessing.predict(new_data)\n",
    "r_squared = r2_score(Y, prediction, multioutput='variance_weighted')\n",
    "print 'R-squared = ',r_squared"
   ]
  },
  {
   "cell_type": "markdown",
   "metadata": {},
   "source": [
    "### Save the Pipeline model for developement"
   ]
  },
  {
   "cell_type": "code",
   "execution_count": 24,
   "metadata": {
    "collapsed": false
   },
   "outputs": [
    {
     "data": {
      "text/plain": [
       "['anova_BaggingRegressorNoProcessing.pkl',\n",
       " 'anova_BaggingRegressorNoProcessing.pkl_01.npy',\n",
       " 'anova_BaggingRegressorNoProcessing.pkl_02.npy',\n",
       " 'anova_BaggingRegressorNoProcessing.pkl_03.npy',\n",
       " 'anova_BaggingRegressorNoProcessing.pkl_04.npy',\n",
       " 'anova_BaggingRegressorNoProcessing.pkl_05.npy',\n",
       " 'anova_BaggingRegressorNoProcessing.pkl_06.npy',\n",
       " 'anova_BaggingRegressorNoProcessing.pkl_07.npy',\n",
       " 'anova_BaggingRegressorNoProcessing.pkl_08.npy',\n",
       " 'anova_BaggingRegressorNoProcessing.pkl_09.npy',\n",
       " 'anova_BaggingRegressorNoProcessing.pkl_10.npy',\n",
       " 'anova_BaggingRegressorNoProcessing.pkl_11.npy',\n",
       " 'anova_BaggingRegressorNoProcessing.pkl_12.npy',\n",
       " 'anova_BaggingRegressorNoProcessing.pkl_13.npy',\n",
       " 'anova_BaggingRegressorNoProcessing.pkl_14.npy',\n",
       " 'anova_BaggingRegressorNoProcessing.pkl_15.npy',\n",
       " 'anova_BaggingRegressorNoProcessing.pkl_16.npy',\n",
       " 'anova_BaggingRegressorNoProcessing.pkl_17.npy',\n",
       " 'anova_BaggingRegressorNoProcessing.pkl_18.npy',\n",
       " 'anova_BaggingRegressorNoProcessing.pkl_19.npy',\n",
       " 'anova_BaggingRegressorNoProcessing.pkl_20.npy',\n",
       " 'anova_BaggingRegressorNoProcessing.pkl_21.npy',\n",
       " 'anova_BaggingRegressorNoProcessing.pkl_22.npy',\n",
       " 'anova_BaggingRegressorNoProcessing.pkl_23.npy',\n",
       " 'anova_BaggingRegressorNoProcessing.pkl_24.npy',\n",
       " 'anova_BaggingRegressorNoProcessing.pkl_25.npy',\n",
       " 'anova_BaggingRegressorNoProcessing.pkl_26.npy',\n",
       " 'anova_BaggingRegressorNoProcessing.pkl_27.npy']"
      ]
     },
     "execution_count": 24,
     "metadata": {},
     "output_type": "execute_result"
    }
   ],
   "source": [
    "# save the model scaler to the desk\n",
    "from sklearn.externals import joblib\n",
    "joblib.dump(anova_BaggingRegressorNoProcessing, 'anova_BaggingRegressorNoProcessing.pkl') "
   ]
  },
  {
   "cell_type": "code",
   "execution_count": 25,
   "metadata": {
    "collapsed": false
   },
   "outputs": [
    {
     "name": "stdout",
     "output_type": "stream",
     "text": [
      " =================================================================>>>>> done\n",
      "R-squared =  0.966397309462\n"
     ]
    }
   ],
   "source": [
    "# Test the model if it is work\n",
    "anova_DecisionTreeRegressorTest = joblib.load('anova_BaggingRegressorNoProcessing.pkl')\n",
    "NewPred = anova_DecisionTreeRegressorTest.predict(new_data)\n",
    "print \" =================================================================>>>>> done\"\n",
    "r_squared = r2_score(Y, NewPred, multioutput='variance_weighted')\n",
    "print 'R-squared = ',r_squared"
   ]
  },
  {
   "cell_type": "code",
   "execution_count": 26,
   "metadata": {
    "collapsed": false
   },
   "outputs": [
    {
     "name": "stdout",
     "output_type": "stream",
     "text": [
      "Point of training data before normalization\n",
      "[  4.00000000e+00   9.70000000e+01   5.10000000e+01   2.13000000e+03\n",
      "   2.46000000e+01   8.20000000e+01   2.00000000e+00]\n",
      "\n",
      "The read target of the data =  44.0\n",
      "\n",
      "The Predicted target of the data =  [ 42.22]\n"
     ]
    }
   ],
   "source": [
    "# test on single data point, randomly choose point number 55\n",
    "print 'Point of training data before normalization\\n',new_data[55]\n",
    "print '\\nThe read target of the data = ', Y[55]\n",
    "NewPred = anova_DecisionTreeRegressorTest.predict([new_data[55]])\n",
    "print '\\nThe Predicted target of the data = ', NewPred"
   ]
  },
  {
   "cell_type": "markdown",
   "metadata": {},
   "source": [
    "## Conclusion "
   ]
  },
  {
   "cell_type": "code",
   "execution_count": null,
   "metadata": {
    "collapsed": true
   },
   "outputs": [],
   "source": []
  }
 ],
 "metadata": {
  "kernelspec": {
   "display_name": "Python 2",
   "language": "python",
   "name": "python2"
  },
  "language_info": {
   "codemirror_mode": {
    "name": "ipython",
    "version": 2
   },
   "file_extension": ".py",
   "mimetype": "text/x-python",
   "name": "python",
   "nbconvert_exporter": "python",
   "pygments_lexer": "ipython2",
   "version": "2.7.12"
  }
 },
 "nbformat": 4,
 "nbformat_minor": 0
}
