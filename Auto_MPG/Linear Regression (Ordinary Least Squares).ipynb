{
 "cells": [
  {
   "cell_type": "markdown",
   "metadata": {},
   "source": [
    "Salem Ameen, PhD student at Salford University\n",
    "\n",
    "### Auto MPG\n",
    "\n",
    "LINEAR REGRESSION"
   ]
  },
  {
   "cell_type": "markdown",
   "metadata": {},
   "source": [
    "# Import the Libraries"
   ]
  },
  {
   "cell_type": "code",
   "execution_count": 1,
   "metadata": {
    "collapsed": false
   },
   "outputs": [
    {
     "data": {
      "text/html": [
       "\n",
       "    <div class=\"bk-root\">\n",
       "        <a href=\"http://bokeh.pydata.org\" target=\"_blank\" class=\"bk-logo bk-logo-small bk-logo-notebook\"></a>\n",
       "        <span id=\"c3c744c2-39be-4c17-bdbd-cd8023270322\">Loading BokehJS ...</span>\n",
       "    </div>"
      ]
     },
     "metadata": {},
     "output_type": "display_data"
    },
    {
     "data": {
      "application/javascript": [
       "\n",
       "(function(global) {\n",
       "  function now() {\n",
       "    return new Date();\n",
       "  }\n",
       "\n",
       "  var force = \"1\";\n",
       "\n",
       "  if (typeof (window._bokeh_onload_callbacks) === \"undefined\" || force !== \"\") {\n",
       "    window._bokeh_onload_callbacks = [];\n",
       "    window._bokeh_is_loading = undefined;\n",
       "  }\n",
       "\n",
       "\n",
       "  \n",
       "  if (typeof (window._bokeh_timeout) === \"undefined\" || force !== \"\") {\n",
       "    window._bokeh_timeout = Date.now() + 5000;\n",
       "    window._bokeh_failed_load = false;\n",
       "  }\n",
       "\n",
       "  var NB_LOAD_WARNING = {'data': {'text/html':\n",
       "     \"<div style='background-color: #fdd'>\\n\"+\n",
       "     \"<p>\\n\"+\n",
       "     \"BokehJS does not appear to have successfully loaded. If loading BokehJS from CDN, this \\n\"+\n",
       "     \"may be due to a slow or bad network connection. Possible fixes:\\n\"+\n",
       "     \"</p>\\n\"+\n",
       "     \"<ul>\\n\"+\n",
       "     \"<li>re-rerun `output_notebook()` to attempt to load from CDN again, or</li>\\n\"+\n",
       "     \"<li>use INLINE resources instead, as so:</li>\\n\"+\n",
       "     \"</ul>\\n\"+\n",
       "     \"<code>\\n\"+\n",
       "     \"from bokeh.resources import INLINE\\n\"+\n",
       "     \"output_notebook(resources=INLINE)\\n\"+\n",
       "     \"</code>\\n\"+\n",
       "     \"</div>\"}};\n",
       "\n",
       "  function display_loaded() {\n",
       "    if (window.Bokeh !== undefined) {\n",
       "      Bokeh.$(\"#c3c744c2-39be-4c17-bdbd-cd8023270322\").text(\"BokehJS successfully loaded.\");\n",
       "    } else if (Date.now() < window._bokeh_timeout) {\n",
       "      setTimeout(display_loaded, 100)\n",
       "    }\n",
       "  }\n",
       "\n",
       "  function run_callbacks() {\n",
       "    window._bokeh_onload_callbacks.forEach(function(callback) { callback() });\n",
       "    delete window._bokeh_onload_callbacks\n",
       "    console.info(\"Bokeh: all callbacks have finished\");\n",
       "  }\n",
       "\n",
       "  function load_libs(js_urls, callback) {\n",
       "    window._bokeh_onload_callbacks.push(callback);\n",
       "    if (window._bokeh_is_loading > 0) {\n",
       "      console.log(\"Bokeh: BokehJS is being loaded, scheduling callback at\", now());\n",
       "      return null;\n",
       "    }\n",
       "    if (js_urls == null || js_urls.length === 0) {\n",
       "      run_callbacks();\n",
       "      return null;\n",
       "    }\n",
       "    console.log(\"Bokeh: BokehJS not loaded, scheduling load and callback at\", now());\n",
       "    window._bokeh_is_loading = js_urls.length;\n",
       "    for (var i = 0; i < js_urls.length; i++) {\n",
       "      var url = js_urls[i];\n",
       "      var s = document.createElement('script');\n",
       "      s.src = url;\n",
       "      s.async = false;\n",
       "      s.onreadystatechange = s.onload = function() {\n",
       "        window._bokeh_is_loading--;\n",
       "        if (window._bokeh_is_loading === 0) {\n",
       "          console.log(\"Bokeh: all BokehJS libraries loaded\");\n",
       "          run_callbacks()\n",
       "        }\n",
       "      };\n",
       "      s.onerror = function() {\n",
       "        console.warn(\"failed to load library \" + url);\n",
       "      };\n",
       "      console.log(\"Bokeh: injecting script tag for BokehJS library: \", url);\n",
       "      document.getElementsByTagName(\"head\")[0].appendChild(s);\n",
       "    }\n",
       "  };var element = document.getElementById(\"c3c744c2-39be-4c17-bdbd-cd8023270322\");\n",
       "  if (element == null) {\n",
       "    console.log(\"Bokeh: ERROR: autoload.js configured with elementid 'c3c744c2-39be-4c17-bdbd-cd8023270322' but no matching script tag was found. \")\n",
       "    return false;\n",
       "  }\n",
       "\n",
       "  var js_urls = ['https://cdn.pydata.org/bokeh/release/bokeh-0.12.2.min.js', 'https://cdn.pydata.org/bokeh/release/bokeh-widgets-0.12.2.min.js', 'https://cdn.pydata.org/bokeh/release/bokeh-compiler-0.12.2.min.js'];\n",
       "\n",
       "  var inline_js = [\n",
       "    function(Bokeh) {\n",
       "      Bokeh.set_log_level(\"info\");\n",
       "    },\n",
       "    \n",
       "    function(Bokeh) {\n",
       "      \n",
       "      Bokeh.$(\"#c3c744c2-39be-4c17-bdbd-cd8023270322\").text(\"BokehJS is loading...\");\n",
       "    },\n",
       "    function(Bokeh) {\n",
       "      console.log(\"Bokeh: injecting CSS: https://cdn.pydata.org/bokeh/release/bokeh-0.12.2.min.css\");\n",
       "      Bokeh.embed.inject_css(\"https://cdn.pydata.org/bokeh/release/bokeh-0.12.2.min.css\");\n",
       "      console.log(\"Bokeh: injecting CSS: https://cdn.pydata.org/bokeh/release/bokeh-widgets-0.12.2.min.css\");\n",
       "      Bokeh.embed.inject_css(\"https://cdn.pydata.org/bokeh/release/bokeh-widgets-0.12.2.min.css\");\n",
       "    }\n",
       "  ];\n",
       "\n",
       "  function run_inline_js() {\n",
       "    \n",
       "    if ((window.Bokeh !== undefined) || (force === \"1\")) {\n",
       "      for (var i = 0; i < inline_js.length; i++) {\n",
       "        inline_js[i](window.Bokeh);\n",
       "      }if (force === \"1\") {\n",
       "        display_loaded();\n",
       "      }} else if (Date.now() < window._bokeh_timeout) {\n",
       "      setTimeout(run_inline_js, 100);\n",
       "    } else if (!window._bokeh_failed_load) {\n",
       "      console.log(\"Bokeh: BokehJS failed to load within specified timeout.\");\n",
       "      window._bokeh_failed_load = true;\n",
       "    } else if (!force) {\n",
       "      var cell = $(\"#c3c744c2-39be-4c17-bdbd-cd8023270322\").parents('.cell').data().cell;\n",
       "      cell.output_area.append_execute_result(NB_LOAD_WARNING)\n",
       "    }\n",
       "\n",
       "  }\n",
       "\n",
       "  if (window._bokeh_is_loading === 0) {\n",
       "    console.log(\"Bokeh: BokehJS loaded, going straight to plotting\");\n",
       "    run_inline_js();\n",
       "  } else {\n",
       "    load_libs(js_urls, function() {\n",
       "      console.log(\"Bokeh: BokehJS plotting callback run at\", now());\n",
       "      run_inline_js();\n",
       "    });\n",
       "  }\n",
       "}(this));"
      ]
     },
     "metadata": {},
     "output_type": "display_data"
    }
   ],
   "source": [
    "import numpy as np\n",
    "import pandas\n",
    "from numpy import *\n",
    "import time\n",
    "import sys\n",
    "import pandas as pd\n",
    "import matplotlib.pyplot as plt\n",
    "from sklearn import feature_selection\n",
    "from sklearn.linear_model import LinearRegression\n",
    "from sklearn.learning_curve import learning_curve\n",
    "from sklearn.cross_validation import cross_val_predict\n",
    "from sklearn import metrics, grid_search, cross_validation\n",
    "from IPython.display import set_matplotlib_formats\n",
    "from bokeh.plotting import figure, show, output_notebook\n",
    "from sklearn.metrics import r2_score\n",
    "from bokeh.layouts import gridplot\n",
    "output_notebook()\n",
    "set_matplotlib_formats('png', 'pdf')\n",
    "%matplotlib inline\n",
    "plt.rcParams['figure.figsize'] = (6, 6)"
   ]
  },
  {
   "cell_type": "markdown",
   "metadata": {},
   "source": [
    "# Load data"
   ]
  },
  {
   "cell_type": "markdown",
   "metadata": {},
   "source": [
    "In the previous file we have not change the data as there is no missing value or add any new parameters so it can be downloaded from the web directly. "
   ]
  },
  {
   "cell_type": "code",
   "execution_count": 2,
   "metadata": {
    "collapsed": false
   },
   "outputs": [
    {
     "name": "stdout",
     "output_type": "stream",
     "text": [
      "Number of examples 398\n"
     ]
    }
   ],
   "source": [
    "url = 'http://archive.ics.uci.edu/ml/machine-learning-databases/auto-mpg/auto-mpg.data'\n",
    "names = ['mpg', 'cylinders', 'displacement', 'horsepower', 'weight', 'acceleration', 'year','origin','name']\n",
    "feature_names = ['mpg', 'cylinders', 'displacement', 'horsepower', 'weight', 'acceleration', 'year','origin']\n",
    "feature_cols = ['mpg', 'cylinders', 'displacement', 'horsepower', 'weight', 'acceleration', 'year','origin']\n",
    "data = pd.read_csv(url, sep='\\s+', names = names)\n",
    "data = data.drop('name',1)\n",
    "from sklearn import preprocessing\n",
    "\n",
    "def number_encode_features(df):\n",
    "    result = df.copy()\n",
    "    encoders = {}\n",
    "    for column in result.columns:\n",
    "        if result.dtypes[column] == np.object:\n",
    "            encoders[column] = preprocessing.LabelEncoder()\n",
    "            result[column] = encoders[column].fit_transform(result[column])\n",
    "    return result, encoders\n",
    "\n",
    "data, _ = number_encode_features(data)\n",
    "\n",
    "dataset = data.values\n",
    "X = dataset[:,1:8]\n",
    "Y = dataset[:,0]\n",
    "print 'Number of examples',len(X)"
   ]
  },
  {
   "cell_type": "code",
   "execution_count": 3,
   "metadata": {
    "collapsed": false
   },
   "outputs": [
    {
     "name": "stdout",
     "output_type": "stream",
     "text": [
      "Number of training examples 318\n",
      "Number of validation examples 80\n"
     ]
    }
   ],
   "source": [
    "# Make developement dataset for genrilization and final testing\n",
    "from sklearn.cross_validation import train_test_split\n",
    "# Extracting 20% testing data\n",
    "X_train, X_test, y_train, y_test = train_test_split(\n",
    "    X, Y, test_size=0.20, random_state=0)\n",
    "X = X_train\n",
    "Y = y_train\n",
    "new_data      = X_train\n",
    "new_test_data = X_test\n",
    "print 'Number of training examples',len(X_train)\n",
    "print 'Number of validation examples',len(X_test)"
   ]
  },
  {
   "cell_type": "markdown",
   "metadata": {},
   "source": [
    "Number of training data is very small so we need to use cross validation instead of spareate another validation data."
   ]
  },
  {
   "cell_type": "markdown",
   "metadata": {},
   "source": [
    "From the previous visulization the data has no missing value but has many outlier and some sparisty"
   ]
  },
  {
   "cell_type": "markdown",
   "metadata": {},
   "source": [
    "# Ranking of the feature's importance to the target"
   ]
  },
  {
   "cell_type": "code",
   "execution_count": 4,
   "metadata": {
    "collapsed": false
   },
   "outputs": [
    {
     "name": "stdout",
     "output_type": "stream",
     "text": [
      "mpg \t1.0\n",
      "cylinders \t0.601239399444\n",
      "displacement \t0.646742183426\n",
      "horsepower \t0.204093694819\n",
      "weight \t0.691792980034\n",
      "acceleration \t0.176642769636\n",
      "year \t0.335550411471\n",
      "origin \t0.317476307929\n"
     ]
    }
   ],
   "source": [
    "# Using just correlation coefficient even in prevoius file we show them using data frame\n",
    "for col in feature_cols:\n",
    "    lm = LinearRegression(fit_intercept=True)\n",
    "    lm.fit(data[[col]], data['mpg'])\n",
    "    print col,'\\t', lm.score(data[[col]], data['mpg'])"
   ]
  },
  {
   "cell_type": "code",
   "execution_count": 5,
   "metadata": {
    "collapsed": false
   },
   "outputs": [
    {
     "name": "stdout",
     "output_type": "stream",
     "text": [
      "Feature Name      Score         Pvalue\n",
      "mpg \t\t8.91712726219e+17 \t0.0\n",
      "cylinders \t\t597.077047852 \t4.50399224618e-81\n",
      "displacement \t\t724.994303368 \t1.65588891019e-91\n",
      "horsepower \t\t101.546001862 \t2.06258705842e-21\n",
      "weight \t\t888.850682648 \t2.97279956405e-103\n",
      "acceleration \t\t84.9577002497 \t1.82309153508e-18\n",
      "year \t\t199.98200802 \t4.84493581337e-37\n",
      "origin \t\t184.199639369 \t1.01148221023e-34\n"
     ]
    }
   ],
   "source": [
    "# Randing the important features to the target\n",
    "model = feature_selection.SelectKBest(score_func=feature_selection.f_regression,k=4)\n",
    "results = model.fit(data[feature_cols], data['mpg'])\n",
    "k=0\n",
    "print 'Feature Name      Score         Pvalue'\n",
    "for feat in feature_cols:\n",
    "    print feat,'\\t\\t',results.scores_[k],'\\t',results.pvalues_[k]\n",
    "    k=k+1\n"
   ]
  },
  {
   "cell_type": "markdown",
   "metadata": {},
   "source": [
    "# Set the parameters for cross validation"
   ]
  },
  {
   "cell_type": "code",
   "execution_count": 6,
   "metadata": {
    "collapsed": true
   },
   "outputs": [],
   "source": [
    "num_folds = 10\n",
    "num_instances = len(X)\n",
    "seed = 7\n",
    "kfold = cross_validation.KFold(n=num_instances, n_folds=num_folds, random_state=seed)"
   ]
  },
  {
   "cell_type": "markdown",
   "metadata": {},
   "source": [
    " # Set the parameters for bias-variance dilemma"
   ]
  },
  {
   "cell_type": "code",
   "execution_count": 7,
   "metadata": {
    "collapsed": false
   },
   "outputs": [],
   "source": [
    "def plot_learning_curve(estimator, title, X, y, ylim=None, cv=None,\n",
    "                        n_jobs=1, train_sizes=np.linspace(.1, 1.0, 5)):\n",
    "    plt.figure()\n",
    "    plt.title(title)\n",
    "    if ylim is not None:\n",
    "        plt.ylim(*ylim)\n",
    "    plt.xlabel(\"Training examples\")\n",
    "    plt.ylabel(\"Score\")\n",
    "    train_sizes, train_scores, test_scores = learning_curve(\n",
    "        estimator, X, y, cv=cv, n_jobs=n_jobs, train_sizes=train_sizes)\n",
    "    train_scores_mean = np.mean(train_scores, axis=1)\n",
    "    train_scores_std = np.std(train_scores, axis=1)\n",
    "    test_scores_mean = np.mean(test_scores, axis=1)\n",
    "    test_scores_std = np.std(test_scores, axis=1)\n",
    "    plt.grid()\n",
    "\n",
    "    plt.fill_between(train_sizes, train_scores_mean - train_scores_std,\n",
    "                     train_scores_mean + train_scores_std, alpha=0.1,\n",
    "                     color=\"r\")\n",
    "    plt.fill_between(train_sizes, test_scores_mean - test_scores_std,\n",
    "                     test_scores_mean + test_scores_std, alpha=0.1, color=\"g\")\n",
    "    plt.plot(train_sizes, train_scores_mean, 'o-', color=\"r\",\n",
    "             label=\"Training score\")\n",
    "    plt.plot(train_sizes, test_scores_mean, 'o-', color=\"g\",\n",
    "             label=\"Cross-validation score\")\n",
    "\n",
    "    plt.legend(loc=\"best\")\n",
    "    return plt"
   ]
  },
  {
   "cell_type": "markdown",
   "metadata": {},
   "source": [
    "# Preprocessing the data and save the model and preprocessed data"
   ]
  },
  {
   "cell_type": "code",
   "execution_count": 8,
   "metadata": {
    "collapsed": true
   },
   "outputs": [],
   "source": [
    "# According to the nature of the data spasity and there is outliter RobustScaler class is recomandit \n",
    "# but when I tried both of them the result seems is same\n",
    "from sklearn.preprocessing import StandardScaler\n",
    "scaler = preprocessing.StandardScaler().fit(X_train)"
   ]
  },
  {
   "cell_type": "code",
   "execution_count": 9,
   "metadata": {
    "collapsed": true
   },
   "outputs": [],
   "source": [
    "X_train = scaler.transform(X_train)\n",
    "X_test = scaler.transform(X_test) # use same transform for testing data\n",
    "X = X_train"
   ]
  },
  {
   "cell_type": "code",
   "execution_count": 10,
   "metadata": {
    "collapsed": true
   },
   "outputs": [],
   "source": [
    "# save transformed data\n",
    "np.save('./data/X_train', X_train)\n",
    "np.save('./data/y_train', y_train)\n",
    "np.save('./data/X_test', X_test)\n",
    "np.save('./data/y_test', y_test)"
   ]
  },
  {
   "cell_type": "code",
   "execution_count": 11,
   "metadata": {
    "collapsed": false
   },
   "outputs": [
    {
     "data": {
      "text/plain": [
       "['scaler.pkl', 'scaler.pkl_01.npy', 'scaler.pkl_02.npy', 'scaler.pkl_03.npy']"
      ]
     },
     "execution_count": 11,
     "metadata": {},
     "output_type": "execute_result"
    }
   ],
   "source": [
    "# save the model scaler to the desk\n",
    "from sklearn.externals import joblib\n",
    "joblib.dump(scaler, 'scaler.pkl') "
   ]
  },
  {
   "cell_type": "code",
   "execution_count": 12,
   "metadata": {
    "collapsed": false
   },
   "outputs": [
    {
     "name": "stdout",
     "output_type": "stream",
     "text": [
      " =================================================================>>>>> done\n",
      "[[  1.49526939e+00   1.55114495e+00  -7.35914828e-01   1.38121932e+00\n",
      "   -9.80600673e-01  -1.13752513e+00  -7.33011713e-01]\n",
      " [ -8.52857354e-01  -5.04710772e-01   6.08839749e-01  -4.99341807e-01\n",
      "    5.02543270e-01  -5.89029314e-01  -7.33011713e-01]\n",
      " [  1.49526939e+00   1.07371874e+00  -9.71246879e-01   1.57674079e+00\n",
      "    1.31757284e-01  -1.13752513e+00  -7.33011713e-01]\n",
      " [ -8.52857354e-01  -6.99578613e-01   1.01226612e+00   1.84938650e-02\n",
      "    1.42950823e+00  -1.13752513e+00   5.06869802e-01]\n",
      " [  3.21206016e-01   3.91681296e-01  -1.71086190e+00   3.84652269e-01\n",
      "   -5.36357086e-02  -1.41177304e+00  -7.33011713e-01]\n",
      " [ -8.52857354e-01  -1.16726143e+00   4.40745427e-01  -1.60018698e+00\n",
      "    8.73329255e-01  -1.41177304e+00   1.74675132e+00]\n",
      " [ -8.52857354e-01  -1.03085394e+00   3.06269969e-01  -1.17122470e+00\n",
      "   -1.64871504e-01   7.82210231e-01   1.74675132e+00]\n",
      " [ -8.52857354e-01  -5.04710772e-01   1.11312272e+00  -6.58128946e-01\n",
      "    1.42950823e+00  -1.13752513e+00  -7.33011713e-01]\n",
      " [  1.49526939e+00   2.02857116e+00  -8.03152557e-01   9.45147172e-01\n",
      "   -2.27835162e+00  -1.68602095e+00  -7.33011713e-01]\n",
      " [  3.21206016e-01  -1.83178834e-01  -1.50914871e+00  -2.82490713e-01\n",
      "   -1.12891507e+00   1.33070605e+00  -7.33011713e-01]\n",
      " [ -8.52857354e-01  -1.04059733e+00   1.41569250e+00  -1.33712172e+00\n",
      "    6.13779065e-01   1.05645814e+00   5.06869802e-01]\n",
      " [ -8.52857354e-01  -1.03085394e+00   3.06269969e-01  -1.11908564e+00\n",
      "    2.80071678e-01   1.05645814e+00   1.74675132e+00]\n",
      " [  3.21206016e-01   5.67062353e-01   1.04588499e+00   6.82629684e-02\n",
      "    3.17150277e-01  -8.63277223e-01  -7.33011713e-01]\n",
      " [ -8.52857354e-01  -9.23676630e-01   7.09379184e-02  -8.40615659e-01\n",
      "    2.91265218e+00  -1.13752513e+00   5.06869802e-01]\n",
      " [  1.49526939e+00   1.22961301e+00  -9.04009151e-01   1.39425408e+00\n",
      "   -7.21050483e-01   2.33714413e-01  -7.33011713e-01]\n",
      " [ -8.52857354e-01  -9.13933237e-01   7.76934072e-01  -1.24232342e+00\n",
      "   -4.61500293e-01   7.82210231e-01  -7.33011713e-01]\n",
      " [ -8.52857354e-01  -7.09322005e-01   8.44171801e-01  -2.88415606e-01\n",
      "    1.39242964e+00   1.60495396e+00  -7.33011713e-01]\n",
      " [ -8.52857354e-01  -3.97533459e-01   1.11312272e+00  -2.70640927e-01\n",
      "    8.73329255e-01   1.60495396e+00  -7.33011713e-01]\n",
      " [  3.21206016e-01   3.23477552e-01  -1.61000530e+00   7.69770331e-01\n",
      "    3.17150277e-01  -5.89029314e-01  -7.33011713e-01]\n",
      " [ -8.52857354e-01  -9.82136982e-01   4.40745427e-01  -9.87553012e-01\n",
      "   -3.50264497e-01   7.82210231e-01   5.06869802e-01]\n",
      " [  1.49526939e+00   2.02857116e+00  -4.33345048e-01   1.61347513e+00\n",
      "   -1.27722946e+00   2.33714413e-01  -7.33011713e-01]\n",
      " [ -8.52857354e-01  -5.04710772e-01   7.09696343e-01  -4.40092874e-01\n",
      "    1.05872225e+00  -3.14781405e-01  -7.33011713e-01]\n",
      " [ -8.52857354e-01  -7.09322005e-01   1.34845477e+00  -4.95786871e-01\n",
      "    5.02543270e-01  -3.14781405e-01   1.74675132e+00]\n",
      " [ -8.52857354e-01  -6.89835221e-01  -1.47552985e+00  -3.60151531e-02\n",
      "   -4.24421694e-01  -1.13752513e+00   5.06869802e-01]\n",
      " [ -8.52857354e-01  -8.45729493e-01   4.74364292e-01  -9.63853439e-01\n",
      "   -2.76107300e-01   7.82210231e-01  -7.33011713e-01]\n",
      " [  3.21206016e-01  -2.31895795e-01  -1.37467325e+00  -7.51194487e-02\n",
      "   -1.12891507e+00   1.33070605e+00   1.74675132e+00]\n",
      " [ -8.52857354e-01  -9.13933237e-01   3.39888834e-01  -1.37859597e+00\n",
      "   -4.61500293e-01   5.07962322e-01  -7.33011713e-01]\n",
      " [ -8.52857354e-01  -7.77525749e-01   1.04588499e+00  -6.73533669e-01\n",
      "    8.73329255e-01   1.60495396e+00  -7.33011713e-01]\n",
      " [ -8.52857354e-01  -5.53427732e-01   9.11409529e-01  -6.85383455e-01\n",
      "   -1.01767927e+00   1.33070605e+00  -7.33011713e-01]\n",
      " [  3.21206016e-01   6.45009489e-01  -1.50914871e+00   7.92284926e-01\n",
      "    8.73329255e-01  -5.89029314e-01  -7.33011713e-01]\n",
      " [  3.21206016e-01   3.23477552e-01  -1.50914871e+00   7.78065182e-01\n",
      "    1.13287945e+00   5.07962322e-01  -7.33011713e-01]\n",
      " [ -8.52857354e-01  -7.09322005e-01   1.18036045e+00  -6.27319501e-01\n",
      "   -2.39028701e-01   1.05645814e+00   1.74675132e+00]\n",
      " [  3.21206016e-01   5.67062353e-01   5.41602021e-01   5.55289195e-01\n",
      "    1.98568721e+00  -3.14781405e-01  -7.33011713e-01]\n",
      " [ -8.52857354e-01  -1.04059733e+00   4.74364292e-01  -1.20677406e+00\n",
      "    4.28386073e-01   2.33714413e-01   1.74675132e+00]\n",
      " [  3.21206016e-01   3.81937904e-01  -1.50914871e+00   5.35144558e-01\n",
      "    5.76000871e-02   1.33070605e+00  -7.33011713e-01]\n",
      " [ -8.52857354e-01  -5.63171124e-01   1.31483590e+00  -3.09745222e-01\n",
      "   -7.95207680e-01  -3.14781405e-01   1.74675132e+00]\n",
      " [  3.21206016e-01   3.91681296e-01   1.11312272e+00   2.93408913e-01\n",
      "    5.02543270e-01  -3.14781405e-01  -7.33011713e-01]\n",
      " [  1.49526939e+00   1.54140156e+00  -7.02295964e-01   1.65494939e+00\n",
      "   -2.76107300e-01   7.82210231e-01  -7.33011713e-01]\n",
      " [ -8.52857354e-01  -1.00162377e+00   5.07983156e-01  -1.23047364e+00\n",
      "   -6.09814687e-01   7.82210231e-01   5.06869802e-01]\n",
      " [  1.49526939e+00   2.31112953e+00  -3.66107319e-01   2.35645675e+00\n",
      "   -1.53677965e+00  -8.63277223e-01  -7.33011713e-01]\n",
      " [  1.49526939e+00   2.55471433e+00  -1.98012997e-01   1.64783951e+00\n",
      "   -2.46374461e+00  -1.68602095e+00  -7.33011713e-01]\n",
      " [  1.49526939e+00   1.54140156e+00  -6.01439371e-01   8.64568624e-01\n",
      "   -1.53677965e+00  -1.68602095e+00  -7.33011713e-01]\n",
      " [ -8.52857354e-01  -6.89835221e-01   7.76934072e-01  -3.47664539e-01\n",
      "   -2.39028701e-01   7.82210231e-01  -7.33011713e-01]\n",
      " [ -1.43988904e+00  -1.18674821e+00  -1.71086190e+00  -6.43909203e-01\n",
      "   -1.16599367e+00   1.05645814e+00   1.74675132e+00]\n",
      " [ -8.52857354e-01  -4.65737204e-01   1.31483590e+00  -3.53589432e-01\n",
      "   -6.46893286e-01   1.60495396e+00   1.74675132e+00]\n",
      " [ -8.52857354e-01  -6.89835221e-01  -1.50914871e+00  -3.59514326e-01\n",
      "   -6.09814687e-01  -8.63277223e-01   5.06869802e-01]\n",
      " [  3.21206016e-01   3.91681296e-01   1.11312272e+00   1.44101602e-01\n",
      "    7.25014861e-01  -4.05334960e-02  -7.33011713e-01]\n",
      " [  1.49526939e+00   1.54140156e+00  -4.66963913e-01   1.67864896e+00\n",
      "   -1.31430806e+00  -4.05334960e-02  -7.33011713e-01]\n",
      " [  3.21206016e-01  -3.58559891e-01  -1.57638644e+00  -5.82290313e-01\n",
      "   -6.09814687e-01  -8.63277223e-01  -7.33011713e-01]\n",
      " [ -8.52857354e-01  -1.09905769e+00   3.73507698e-01  -1.18544445e+00\n",
      "   -5.36357086e-02  -5.89029314e-01   5.06869802e-01]\n",
      " [ -8.52857354e-01  -9.13933237e-01   6.42458614e-01  -9.70963311e-01\n",
      "   -3.50264497e-01   1.05645814e+00   5.06869802e-01]\n",
      " [ -8.52857354e-01  -9.13933237e-01   8.77790665e-01  -8.82089912e-01\n",
      "    3.17150277e-01  -5.89029314e-01   5.06869802e-01]\n",
      " [  1.49526939e+00   1.07371874e+00  -1.20657893e+00   1.57792577e+00\n",
      "   -2.76107300e-01   2.33714413e-01  -7.33011713e-01]\n",
      " [ -8.52857354e-01  -1.01136716e+00   6.42458614e-01  -1.06457662e+00\n",
      "   -4.24421694e-01  -1.41177304e+00   5.06869802e-01]\n",
      " [  1.49526939e+00   1.86293349e+00  -5.34201642e-01   7.10521399e-01\n",
      "   -2.09295863e+00  -1.68602095e+00  -7.33011713e-01]\n",
      " [  1.49526939e+00   1.12243570e+00  -3.32488455e-01   1.67390904e+00\n",
      "   -2.39028701e-01  -1.68602095e+00  -7.33011713e-01]\n",
      " [  3.21206016e-01   6.45009489e-01  -1.50914871e+00  -1.65077215e-03\n",
      "   -7.95207680e-01  -1.41177304e+00  -7.33011713e-01]\n",
      " [  3.21206016e-01   7.98927508e-02   1.04588499e+00   1.14477136e-01\n",
      "    5.39621868e-01   1.33070605e+00  -7.33011713e-01]\n",
      " [ -8.52857354e-01  -5.53427732e-01   9.11409529e-01  -7.03158135e-01\n",
      "   -9.80600673e-01   1.60495396e+00  -7.33011713e-01]\n",
      " [  1.49526939e+00   1.07371874e+00  -9.71246879e-01   5.75433832e-01\n",
      "   -1.90756564e+00  -1.68602095e+00  -7.33011713e-01]\n",
      " [  3.21206016e-01   5.67062353e-01   7.09696343e-01   7.23556164e-01\n",
      "    1.98568721e+00  -4.05334960e-02  -7.33011713e-01]\n",
      " [ -8.52857354e-01  -5.04710772e-01   5.41602021e-01  -4.72087298e-01\n",
      "   -7.58129081e-01  -4.05334960e-02  -7.33011713e-01]\n",
      " [  3.21206016e-01   3.91681296e-01  -1.71086190e+00  -2.06652079e-01\n",
      "   -2.39028701e-01  -8.63277223e-01  -7.33011713e-01]\n",
      " [  3.21206016e-01   6.04059667e-02   1.28121704e+00  -1.54513018e-01\n",
      "   -5.36357086e-02  -1.68602095e+00  -7.33011713e-01]\n",
      " [  1.49526939e+00   1.54140156e+00  -4.66963913e-01   1.81966142e+00\n",
      "   -1.16599367e+00  -8.63277223e-01  -7.33011713e-01]\n",
      " [  1.49526939e+00   1.55114495e+00  -8.70390286e-01   2.00688805e+00\n",
      "   -7.95207680e-01  -3.14781405e-01  -7.33011713e-01]\n",
      " [  1.49526939e+00   2.31112953e+00  -3.66107319e-01   1.63243479e+00\n",
      "   -2.09295863e+00  -1.68602095e+00  -7.33011713e-01]\n",
      " [  3.21206016e-01   5.67062353e-01  -1.61000530e+00   5.87283619e-01\n",
      "    1.31757284e-01  -3.14781405e-01  -7.33011713e-01]\n",
      " [ -8.52857354e-01  -5.04710772e-01   8.77790665e-01  -3.84398877e-01\n",
      "    5.02543270e-01  -3.14781405e-01  -7.33011713e-01]\n",
      " [  1.49526939e+00   2.41830684e+00  -2.31631862e-01   1.59807041e+00\n",
      "   -2.64913761e+00  -1.68602095e+00  -7.33011713e-01]\n",
      " [ -8.52857354e-01  -9.23676630e-01   3.73507698e-01  -1.06457662e+00\n",
      "    7.99172058e-01   1.33070605e+00   1.74675132e+00]\n",
      " [  1.49526939e+00   1.54140156e+00  -7.02295964e-01   1.82321635e+00\n",
      "   -7.95207680e-01  -1.13752513e+00  -7.33011713e-01]\n",
      " [ -8.52857354e-01  -7.97012533e-01   1.01226612e+00  -3.45294582e-01\n",
      "    6.87936263e-01  -1.68602095e+00   5.06869802e-01]\n",
      " [  3.21206016e-01   3.23477552e-01  -1.71086190e+00   8.14799520e-01\n",
      "    7.62093460e-01  -4.05334960e-02  -7.33011713e-01]\n",
      " [ -8.52857354e-01  -7.67782357e-01   1.28121704e+00  -7.00788178e-01\n",
      "   -2.39028701e-01  -1.68602095e+00   1.74675132e+00]\n",
      " [ -8.52857354e-01  -8.45729493e-01   6.08839749e-01  -8.69055147e-01\n",
      "   -4.24421694e-01   5.07962322e-01  -7.33011713e-01]\n",
      " [ -8.52857354e-01  -9.23676630e-01   6.08839749e-01  -8.27580894e-01\n",
      "    9.47486452e-01   2.33714413e-01   1.74675132e+00]\n",
      " [ -8.52857354e-01  -1.06008412e+00   1.71794512e-01  -1.13804530e+00\n",
      "    1.24411524e+00  -5.89029314e-01   1.74675132e+00]\n",
      " [ -8.52857354e-01  -9.13933237e-01   1.38175647e-01  -9.47263738e-01\n",
      "    2.39355180e+00  -4.05334960e-02  -7.33011713e-01]\n",
      " [  1.49526939e+00   1.54140156e+00  -4.66963913e-01   8.30204243e-01\n",
      "   -1.72217264e+00  -8.63277223e-01  -7.33011713e-01]]\n"
     ]
    }
   ],
   "source": [
    "# Test the model if it is work\n",
    "scalerTest = joblib.load('scaler.pkl')\n",
    "new_data_scaled = scalerTest.transform(new_test_data)\n",
    "print \" =================================================================>>>>> done\"\n",
    "print new_data_scaled"
   ]
  },
  {
   "cell_type": "markdown",
   "metadata": {},
   "source": [
    "# 1. Linear Regression"
   ]
  },
  {
   "cell_type": "markdown",
   "metadata": {},
   "source": [
    "Linear regression assumes that the input variables have a Gaussian distribution. It is also assumed that input variables are relevant to the output variable and that they are not highly correlated with each other (a problem called collinearity).\n",
    "\n"
   ]
  },
  {
   "cell_type": "markdown",
   "metadata": {},
   "source": [
    "## Learning Curve "
   ]
  },
  {
   "cell_type": "markdown",
   "metadata": {},
   "source": [
    "In essence, what we’re doing it training the exact same model with increasingly large fractions of our total training data, and plotting the error of the training and test sets at each step."
   ]
  },
  {
   "cell_type": "code",
   "execution_count": 13,
   "metadata": {
    "collapsed": false
   },
   "outputs": [
    {
     "data": {
      "image/png": "[encoded data removed]",
      "text/plain": [
       "<matplotlib.figure.Figure at 0x7f5d11d8f8d0>"
      ]
     },
     "metadata": {},
     "output_type": "display_data"
    }
   ],
   "source": [
    "from sklearn.linear_model import LinearRegression\n",
    "model = LinearRegression()\n",
    "title = \"Learning Curves (Linear Refression)\"\n",
    "# Cross validation with 100 iterations to get smoother mean test and train\n",
    "# score curves, each time with 20% data randomly selected as a validation set.\n",
    "cv = cross_validation.ShuffleSplit(X.shape[0], n_iter=100,\n",
    "                                   test_size=0.2, random_state=0)\n",
    "plot_learning_curve(model, title, X, Y, ylim=(0.2, 1.01), cv=cv, n_jobs=-1)\n",
    "plt.show()"
   ]
  },
  {
   "cell_type": "code",
   "execution_count": 14,
   "metadata": {
    "collapsed": false
   },
   "outputs": [
    {
     "name": "stdout",
     "output_type": "stream",
     "text": [
      "train_sizes =  [ 50  80 110]\n",
      " training scores\n",
      " 50 training sizees\n",
      "0.844689790003 ± 0.0363377187178\n",
      " 80 training sizees\n",
      "0.83505685332 ± 0.0265083281229\n",
      " 110 training sizees\n",
      "0.830827936886 ± 0.020777826821\n",
      "\n",
      " validation scores\n",
      " 50 validation scores\n",
      "0.760799860696 ± 0.0516810615097\n",
      " 80 validation scores\n",
      "0.77671869342 ± 0.0433656061467\n",
      " 110 validation scores\n",
      "0.787455398756 ± 0.0380917530071\n"
     ]
    }
   ],
   "source": [
    "# More data from learning curve to show the process of building the model\n",
    "train_sizes, train_scores, valid_scores = learning_curve(\n",
    "     model, X, Y, train_sizes=[50, 80, 110], cv=cv, n_jobs=4)\n",
    "\n",
    "print 'train_sizes = ', train_sizes\n",
    "\n",
    "print ' training scores'\n",
    "print ' 50 training sizees'\n",
    "print train_scores[0].mean(),'±',train_scores[0].std()\n",
    "print ' 80 training sizees'\n",
    "print train_scores[1].mean(),'±',train_scores[1].std()\n",
    "print ' 110 training sizees'\n",
    "print train_scores[2].mean(),'±',train_scores[2].std()\n",
    "\n",
    "print '\\n validation scores'\n",
    "print ' 50 validation scores'\n",
    "print valid_scores[0].mean(),'±',valid_scores[0].std()\n",
    "print ' 80 validation scores'\n",
    "print valid_scores[1].mean(),'±',valid_scores[1].std()\n",
    "print ' 110 validation scores'\n",
    "print valid_scores[2].mean(),'±',valid_scores[2].std()"
   ]
  },
  {
   "cell_type": "markdown",
   "metadata": {},
   "source": [
    "## Cross validation"
   ]
  },
  {
   "cell_type": "code",
   "execution_count": 15,
   "metadata": {
    "collapsed": false
   },
   "outputs": [
    {
     "name": "stdout",
     "output_type": "stream",
     "text": [
      "Scoring according to mean_squared_error\n",
      "[ -8.77226191 -16.39684201 -11.22331561 -15.36908429 -14.09655634\n",
      " -11.67568006 -13.39175778  -3.6911352  -14.33735833  -6.07914937]\n",
      "\n",
      " Mean      Standard deviation\n",
      "-11.50      3.94\n",
      "\n",
      " print intercept and coefficients\n",
      "23.5748427673\n",
      "[-0.42512373  1.79588786  0.1644491  -5.76756024  0.75083375  2.79094923\n",
      "  1.20557374]\n",
      "\n",
      "(feature, coefficients)\n",
      "[('mpg', -0.42512372515905417), ('cylinders', 1.7958878592173919), ('displacement', 0.16444910396525067), ('horsepower', -5.7675602440877682), ('weight', 0.7508337546624837), ('acceleration', 2.7909492334421433), ('year', 1.2055737406008515)]\n"
     ]
    }
   ],
   "source": [
    "scoring = 'mean_squared_error'\n",
    "results = cross_validation.cross_val_score(model, X, Y, cv=kfold, scoring=scoring)\n",
    "print 'Scoring according to mean_squared_error'\n",
    "print results\n",
    "print '\\n Mean      Standard deviation'\n",
    "print(\"%.2f      %.2f\" % (results.mean(), results.std()))\n",
    "## Fit the model\n",
    "model.fit(X,Y)\n",
    "print '\\n print intercept and coefficients'\n",
    "print model.intercept_\n",
    "print model.coef_\n",
    "# pair the feature names with the coefficients\n",
    "print '\\n(feature, coefficients)'\n",
    "print zip(feature_cols, model.coef_)\n",
    "# Linear qu. of the model"
   ]
  },
  {
   "cell_type": "markdown",
   "metadata": {},
   "source": [
    "To be more precise these valrible is not the input feature as descripe on the dataset, those varibles in scaled virsion on the orginal onces. So, to be more correct I should assign to them another varibles but for easy to unserstand I kept them as they were."
   ]
  },
  {
   "cell_type": "markdown",
   "metadata": {},
   "source": [
    "## Coefficients Of Determination {Calculating R^2}\n",
    "\n",
    "R^2, Close to one is better"
   ]
  },
  {
   "cell_type": "code",
   "execution_count": 16,
   "metadata": {
    "collapsed": false
   },
   "outputs": [
    {
     "name": "stdout",
     "output_type": "stream",
     "text": [
      "R-squared =  0.809045466231\n"
     ]
    }
   ],
   "source": [
    "predicted = cross_val_predict(model, X, Y, cv=kfold)\n",
    "r_squared = r2_score(Y, predicted, multioutput='variance_weighted')\n",
    "print 'R-squared = ',r_squared"
   ]
  },
  {
   "cell_type": "markdown",
   "metadata": {},
   "source": [
    "## More results on linear regression by using Statsmodel\n",
    "\n",
    "http://statsmodels.sourceforge.net/stable/  "
   ]
  },
  {
   "cell_type": "code",
   "execution_count": 17,
   "metadata": {
    "collapsed": false
   },
   "outputs": [
    {
     "name": "stdout",
     "output_type": "stream",
     "text": [
      "                            OLS Regression Results                            \n",
      "==============================================================================\n",
      "Dep. Variable:                      y   R-squared:                       0.818\n",
      "Model:                            OLS   Adj. R-squared:                  0.814\n",
      "Method:                 Least Squares   F-statistic:                     199.3\n",
      "Date:                Wed, 05 Oct 2016   Prob (F-statistic):          9.79e-111\n",
      "Time:                        10:36:44   Log-Likelihood:                -831.91\n",
      "No. Observations:                 318   AIC:                             1680.\n",
      "Df Residuals:                     310   BIC:                             1710.\n",
      "Df Model:                           7                                         \n",
      "Covariance Type:            nonrobust                                         \n",
      "==============================================================================\n",
      "                 coef    std err          t      P>|t|      [95.0% Conf. Int.]\n",
      "------------------------------------------------------------------------------\n",
      "const         23.5748      0.188    125.378      0.000        23.205    23.945\n",
      "x1            -0.4251      0.642     -0.662      0.509        -1.689     0.839\n",
      "x2             1.7959      0.852      2.109      0.036         0.120     3.471\n",
      "x3             0.1644      0.236      0.698      0.486        -0.299     0.628\n",
      "x4            -5.7676      0.547    -10.541      0.000        -6.844    -4.691\n",
      "x5             0.7508      0.239      3.148      0.002         0.281     1.220\n",
      "x6             2.7909      0.204     13.676      0.000         2.389     3.192\n",
      "x7             1.2056      0.245      4.921      0.000         0.724     1.688\n",
      "==============================================================================\n",
      "Omnibus:                       26.643   Durbin-Watson:                   1.894\n",
      "Prob(Omnibus):                  0.000   Jarque-Bera (JB):               43.792\n",
      "Skew:                           0.528   Prob(JB):                     3.09e-10\n",
      "Kurtosis:                       4.480   Cond. No.                         11.1\n",
      "==============================================================================\n",
      "\n",
      "Warnings:\n",
      "[1] Standard Errors assume that the covariance matrix of the errors is correctly specified.\n"
     ]
    }
   ],
   "source": [
    "import statsmodels.api as sm\n",
    "results = sm.OLS(Y,sm.add_constant(X)).fit()\n",
    "print results.summary()"
   ]
  },
  {
   "cell_type": "markdown",
   "metadata": {},
   "source": [
    "## Residual Plot"
   ]
  },
  {
   "cell_type": "code",
   "execution_count": 18,
   "metadata": {
    "collapsed": false
   },
   "outputs": [
    {
     "data": {
      "image/png": "[encoded data removed]",
      "text/plain": [
       "<matplotlib.figure.Figure at 0x7f5d0a052410>"
      ]
     },
     "metadata": {},
     "output_type": "display_data"
    }
   ],
   "source": [
    "predicted = cross_val_predict(model, X, Y, cv=kfold)\n",
    "fig, ax = plt.subplots()\n",
    "ax.scatter(Y, predicted)\n",
    "ax.plot([Y.min(), Y.max()], [Y.min(), Y.max()], 'k--', lw=4)\n",
    "ax.set_xlabel('Measured')\n",
    "ax.set_ylabel('Predicted')\n",
    "plt.show()"
   ]
  },
  {
   "cell_type": "code",
   "execution_count": 19,
   "metadata": {
    "collapsed": false
   },
   "outputs": [
    {
     "data": {
      "text/html": [
       "\n",
       "\n",
       "    <div class=\"bk-root\">\n",
       "        <div class=\"plotdiv\" id=\"6798ee4c-52fb-4978-a38e-e2f4cb2b8a1e\"></div>\n",
       "    </div>\n",
       "<script type=\"text/javascript\">\n",
       "  \n",
       "  (function(global) {\n",
       "    function now() {\n",
       "      return new Date();\n",
       "    }\n",
       "  \n",
       "    var force = \"\";\n",
       "  \n",
       "    if (typeof (window._bokeh_onload_callbacks) === \"undefined\" || force !== \"\") {\n",
       "      window._bokeh_onload_callbacks = [];\n",
       "      window._bokeh_is_loading = undefined;\n",
       "    }\n",
       "  \n",
       "  \n",
       "    \n",
       "    if (typeof (window._bokeh_timeout) === \"undefined\" || force !== \"\") {\n",
       "      window._bokeh_timeout = Date.now() + 0;\n",
       "      window._bokeh_failed_load = false;\n",
       "    }\n",
       "  \n",
       "    var NB_LOAD_WARNING = {'data': {'text/html':\n",
       "       \"<div style='background-color: #fdd'>\\n\"+\n",
       "       \"<p>\\n\"+\n",
       "       \"BokehJS does not appear to have successfully loaded. If loading BokehJS from CDN, this \\n\"+\n",
       "       \"may be due to a slow or bad network connection. Possible fixes:\\n\"+\n",
       "       \"</p>\\n\"+\n",
       "       \"<ul>\\n\"+\n",
       "       \"<li>re-rerun `output_notebook()` to attempt to load from CDN again, or</li>\\n\"+\n",
       "       \"<li>use INLINE resources instead, as so:</li>\\n\"+\n",
       "       \"</ul>\\n\"+\n",
       "       \"<code>\\n\"+\n",
       "       \"from bokeh.resources import INLINE\\n\"+\n",
       "       \"output_notebook(resources=INLINE)\\n\"+\n",
       "       \"</code>\\n\"+\n",
       "       \"</div>\"}};\n",
       "  \n",
       "    function display_loaded() {\n",
       "      if (window.Bokeh !== undefined) {\n",
       "        Bokeh.$(\"#6798ee4c-52fb-4978-a38e-e2f4cb2b8a1e\").text(\"BokehJS successfully loaded.\");\n",
       "      } else if (Date.now() < window._bokeh_timeout) {\n",
       "        setTimeout(display_loaded, 100)\n",
       "      }\n",
       "    }\n",
       "  \n",
       "    function run_callbacks() {\n",
       "      window._bokeh_onload_callbacks.forEach(function(callback) { callback() });\n",
       "      delete window._bokeh_onload_callbacks\n",
       "      console.info(\"Bokeh: all callbacks have finished\");\n",
       "    }\n",
       "  \n",
       "    function load_libs(js_urls, callback) {\n",
       "      window._bokeh_onload_callbacks.push(callback);\n",
       "      if (window._bokeh_is_loading > 0) {\n",
       "        console.log(\"Bokeh: BokehJS is being loaded, scheduling callback at\", now());\n",
       "        return null;\n",
       "      }\n",
       "      if (js_urls == null || js_urls.length === 0) {\n",
       "        run_callbacks();\n",
       "        return null;\n",
       "      }\n",
       "      console.log(\"Bokeh: BokehJS not loaded, scheduling load and callback at\", now());\n",
       "      window._bokeh_is_loading = js_urls.length;\n",
       "      for (var i = 0; i < js_urls.length; i++) {\n",
       "        var url = js_urls[i];\n",
       "        var s = document.createElement('script');\n",
       "        s.src = url;\n",
       "        s.async = false;\n",
       "        s.onreadystatechange = s.onload = function() {\n",
       "          window._bokeh_is_loading--;\n",
       "          if (window._bokeh_is_loading === 0) {\n",
       "            console.log(\"Bokeh: all BokehJS libraries loaded\");\n",
       "            run_callbacks()\n",
       "          }\n",
       "        };\n",
       "        s.onerror = function() {\n",
       "          console.warn(\"failed to load library \" + url);\n",
       "        };\n",
       "        console.log(\"Bokeh: injecting script tag for BokehJS library: \", url);\n",
       "        document.getElementsByTagName(\"head\")[0].appendChild(s);\n",
       "      }\n",
       "    };var element = document.getElementById(\"6798ee4c-52fb-4978-a38e-e2f4cb2b8a1e\");\n",
       "    if (element == null) {\n",
       "      console.log(\"Bokeh: ERROR: autoload.js configured with elementid '6798ee4c-52fb-4978-a38e-e2f4cb2b8a1e' but no matching script tag was found. \")\n",
       "      return false;\n",
       "    }\n",
       "  \n",
       "    var js_urls = [];\n",
       "  \n",
       "    var inline_js = [\n",
       "      function(Bokeh) {\n",
       "        Bokeh.$(function() {\n",
       "            var docs_json = {\"d68e638b-852c-45ed-8aee-014547970213\":{\"roots\":{\"references\":[{\"attributes\":{\"callback\":null},\"id\":\"41b6201c-7878-405a-9f55-ca296e8aaa45\",\"type\":\"DataRange1d\"},{\"attributes\":{\"plot\":{\"id\":\"967677b7-1fb4-45e9-a8b3-9c2e6091e3d8\",\"subtype\":\"Figure\",\"type\":\"Plot\"}},\"id\":\"0d3dc162-05da-4e5b-b7b2-fb6061439220\",\"type\":\"CrosshairTool\"},{\"attributes\":{\"plot\":{\"id\":\"967677b7-1fb4-45e9-a8b3-9c2e6091e3d8\",\"subtype\":\"Figure\",\"type\":\"Plot\"}},\"id\":\"42b3be03-cd59-4ef1-b00b-2cdc07685266\",\"type\":\"WheelZoomTool\"},{\"attributes\":{\"plot\":{\"id\":\"967677b7-1fb4-45e9-a8b3-9c2e6091e3d8\",\"subtype\":\"Figure\",\"type\":\"Plot\"}},\"id\":\"6689f771-9ed3-4eea-88ac-d0b04ccb2a55\",\"type\":\"UndoTool\"},{\"attributes\":{\"data_source\":{\"id\":\"b452e713-b6b3-46d4-a7d3-e99f3cce3c3f\",\"type\":\"ColumnDataSource\"},\"glyph\":{\"id\":\"c3bb4855-0075-4818-9d11-6bb52dfea392\",\"type\":\"Circle\"},\"hover_glyph\":null,\"nonselection_glyph\":{\"id\":\"d61f7942-3183-4a9e-afa0-7bffad4063db\",\"type\":\"Circle\"},\"selection_glyph\":null},\"id\":\"74e770d5-2a5f-4d64-b852-45e8a1d820b6\",\"type\":\"GlyphRenderer\"},{\"attributes\":{\"overlay\":{\"id\":\"221bcb7b-5306-4be6-9f37-70697c96e680\",\"type\":\"PolyAnnotation\"},\"plot\":{\"id\":\"967677b7-1fb4-45e9-a8b3-9c2e6091e3d8\",\"subtype\":\"Figure\",\"type\":\"Plot\"}},\"id\":\"a80bca99-97c8-4adf-800d-56c99b9ca656\",\"type\":\"PolySelectTool\"},{\"attributes\":{\"line_alpha\":{\"value\":0.1},\"line_color\":{\"value\":\"#1f77b4\"},\"line_dash\":[4,4],\"line_width\":{\"value\":2},\"x\":{\"field\":\"x\"},\"y\":{\"field\":\"y\"}},\"id\":\"9232cfc4-04f7-4194-b47b-bdc640a6e9cf\",\"type\":\"Line\"},{\"attributes\":{\"callback\":null},\"id\":\"f6dc116f-7496-4b36-a91b-0cf5325b3dff\",\"type\":\"DataRange1d\"},{\"attributes\":{\"callback\":null,\"plot\":{\"id\":\"967677b7-1fb4-45e9-a8b3-9c2e6091e3d8\",\"subtype\":\"Figure\",\"type\":\"Plot\"}},\"id\":\"e33de95b-4668-4ca4-95c9-ca0fe702dcd9\",\"type\":\"TapTool\"},{\"attributes\":{\"plot\":{\"id\":\"967677b7-1fb4-45e9-a8b3-9c2e6091e3d8\",\"subtype\":\"Figure\",\"type\":\"Plot\"}},\"id\":\"f0cfaeab-30f1-4749-9e14-df42943408d8\",\"type\":\"PanTool\"},{\"attributes\":{\"callback\":null,\"column_names\":[\"y\",\"x\"],\"data\":{\"x\":[9.0,46.6],\"y\":[9.0,46.6]}},\"id\":\"780b8371-f57a-420c-be66-250b5edea7d7\",\"type\":\"ColumnDataSource\"},{\"attributes\":{\"bottom_units\":\"screen\",\"fill_alpha\":{\"value\":0.5},\"fill_color\":{\"value\":\"lightgrey\"},\"left_units\":\"screen\",\"level\":\"overlay\",\"line_alpha\":{\"value\":1.0},\"line_color\":{\"value\":\"black\"},\"line_dash\":[4,4],\"line_width\":{\"value\":2},\"plot\":null,\"render_mode\":\"css\",\"right_units\":\"screen\",\"top_units\":\"screen\"},\"id\":\"1594f2cf-0a3f-4a79-9c54-7c04b24c520d\",\"type\":\"BoxAnnotation\"},{\"attributes\":{\"line_dash\":[4,4],\"line_width\":{\"value\":2},\"x\":{\"field\":\"x\"},\"y\":{\"field\":\"y\"}},\"id\":\"c494d96b-11f2-43c2-987e-40b5baaf85db\",\"type\":\"Line\"},{\"attributes\":{\"fill_alpha\":{\"value\":0.5},\"fill_color\":{\"value\":\"lightgrey\"},\"level\":\"overlay\",\"line_alpha\":{\"value\":1.0},\"line_color\":{\"value\":\"black\"},\"line_dash\":[4,4],\"line_width\":{\"value\":2},\"plot\":null,\"xs_units\":\"screen\",\"ys_units\":\"screen\"},\"id\":\"30534838-c0f9-425a-a135-35f86e3b2dc6\",\"type\":\"PolyAnnotation\"},{\"attributes\":{\"plot\":{\"id\":\"967677b7-1fb4-45e9-a8b3-9c2e6091e3d8\",\"subtype\":\"Figure\",\"type\":\"Plot\"}},\"id\":\"877aa5cf-a5ea-482d-a5f9-0620d4a839ca\",\"type\":\"ResetTool\"},{\"attributes\":{\"overlay\":{\"id\":\"1594f2cf-0a3f-4a79-9c54-7c04b24c520d\",\"type\":\"BoxAnnotation\"},\"plot\":{\"id\":\"967677b7-1fb4-45e9-a8b3-9c2e6091e3d8\",\"subtype\":\"Figure\",\"type\":\"Plot\"}},\"id\":\"27d34cc7-e07a-42df-9fbe-497c2df142de\",\"type\":\"BoxZoomTool\"},{\"attributes\":{},\"id\":\"f9017a0c-e38b-4ade-90e9-9a020434f85d\",\"type\":\"BasicTickFormatter\"},{\"attributes\":{\"fill_alpha\":{\"value\":0.1},\"fill_color\":{\"value\":\"#1f77b4\"},\"line_alpha\":{\"value\":0.1},\"line_color\":{\"value\":\"#1f77b4\"},\"line_width\":{\"value\":3},\"x\":{\"field\":\"x\"},\"y\":{\"field\":\"y\"}},\"id\":\"d61f7942-3183-4a9e-afa0-7bffad4063db\",\"type\":\"Circle\"},{\"attributes\":{\"plot\":{\"id\":\"967677b7-1fb4-45e9-a8b3-9c2e6091e3d8\",\"subtype\":\"Figure\",\"type\":\"Plot\"},\"ticker\":{\"id\":\"93443595-c2f4-42f1-8c8d-d7decb47ac89\",\"type\":\"BasicTicker\"}},\"id\":\"69b15eba-94ec-4ac3-ab1a-43d0e7702fa2\",\"type\":\"Grid\"},{\"attributes\":{\"align\":\"center\",\"plot\":null,\"text\":null},\"id\":\"6c403657-ffed-4a58-8c10-8113035d7f38\",\"type\":\"Title\"},{\"attributes\":{\"background_fill_alpha\":{\"value\":0.5},\"background_fill_color\":{\"value\":\"beige\"},\"below\":[{\"id\":\"a8989117-c822-47f1-bf0d-b8c0356e7bdc\",\"type\":\"LinearAxis\"}],\"left\":[{\"id\":\"94501448-564f-40b8-a1fe-259d6cf893ed\",\"type\":\"LinearAxis\"}],\"plot_height\":500,\"plot_width\":500,\"renderers\":[{\"id\":\"a8989117-c822-47f1-bf0d-b8c0356e7bdc\",\"type\":\"LinearAxis\"},{\"id\":\"69b15eba-94ec-4ac3-ab1a-43d0e7702fa2\",\"type\":\"Grid\"},{\"id\":\"94501448-564f-40b8-a1fe-259d6cf893ed\",\"type\":\"LinearAxis\"},{\"id\":\"8608b092-6716-4659-97f6-3250fa81d07a\",\"type\":\"Grid\"},{\"id\":\"1594f2cf-0a3f-4a79-9c54-7c04b24c520d\",\"type\":\"BoxAnnotation\"},{\"id\":\"9bd68dc6-1c33-415f-8b41-4383319453d0\",\"type\":\"BoxAnnotation\"},{\"id\":\"30534838-c0f9-425a-a135-35f86e3b2dc6\",\"type\":\"PolyAnnotation\"},{\"id\":\"221bcb7b-5306-4be6-9f37-70697c96e680\",\"type\":\"PolyAnnotation\"},{\"id\":\"74e770d5-2a5f-4d64-b852-45e8a1d820b6\",\"type\":\"GlyphRenderer\"},{\"id\":\"583ff830-36e0-4a36-b385-f39dcf85d4e5\",\"type\":\"GlyphRenderer\"}],\"title\":{\"id\":\"6c403657-ffed-4a58-8c10-8113035d7f38\",\"type\":\"Title\"},\"tool_events\":{\"id\":\"3935ba47-6fe9-44ce-b7ef-7f5baf116888\",\"type\":\"ToolEvents\"},\"toolbar\":{\"id\":\"689ba1e7-bcb9-47c2-bae7-edecfcc2aa75\",\"type\":\"Toolbar\"},\"x_range\":{\"id\":\"f6dc116f-7496-4b36-a91b-0cf5325b3dff\",\"type\":\"DataRange1d\"},\"y_range\":{\"id\":\"41b6201c-7878-405a-9f55-ca296e8aaa45\",\"type\":\"DataRange1d\"}},\"id\":\"967677b7-1fb4-45e9-a8b3-9c2e6091e3d8\",\"subtype\":\"Figure\",\"type\":\"Plot\"},{\"attributes\":{\"bottom_units\":\"screen\",\"fill_alpha\":{\"value\":0.5},\"fill_color\":{\"value\":\"lightgrey\"},\"left_units\":\"screen\",\"level\":\"overlay\",\"line_alpha\":{\"value\":1.0},\"line_color\":{\"value\":\"black\"},\"line_dash\":[4,4],\"line_width\":{\"value\":2},\"plot\":null,\"render_mode\":\"css\",\"right_units\":\"screen\",\"top_units\":\"screen\"},\"id\":\"9bd68dc6-1c33-415f-8b41-4383319453d0\",\"type\":\"BoxAnnotation\"},{\"attributes\":{},\"id\":\"93443595-c2f4-42f1-8c8d-d7decb47ac89\",\"type\":\"BasicTicker\"},{\"attributes\":{\"dimension\":1,\"plot\":{\"id\":\"967677b7-1fb4-45e9-a8b3-9c2e6091e3d8\",\"subtype\":\"Figure\",\"type\":\"Plot\"},\"ticker\":{\"id\":\"7c460355-fdb8-4371-88e0-ac4ee164cbc8\",\"type\":\"BasicTicker\"}},\"id\":\"8608b092-6716-4659-97f6-3250fa81d07a\",\"type\":\"Grid\"},{\"attributes\":{},\"id\":\"b4b28ae0-7fae-4877-99e9-eb9786d7b80c\",\"type\":\"BasicTickFormatter\"},{\"attributes\":{\"callback\":null,\"overlay\":{\"id\":\"30534838-c0f9-425a-a135-35f86e3b2dc6\",\"type\":\"PolyAnnotation\"},\"plot\":{\"id\":\"967677b7-1fb4-45e9-a8b3-9c2e6091e3d8\",\"subtype\":\"Figure\",\"type\":\"Plot\"}},\"id\":\"84c0082e-c570-43e9-828e-a2b4ab8ba6eb\",\"type\":\"LassoSelectTool\"},{\"attributes\":{\"fill_color\":{\"value\":\"#80B1D3\"},\"line_color\":{\"value\":\"#80B1D3\"},\"line_width\":{\"value\":3},\"x\":{\"field\":\"x\"},\"y\":{\"field\":\"y\"}},\"id\":\"c3bb4855-0075-4818-9d11-6bb52dfea392\",\"type\":\"Circle\"},{\"attributes\":{\"axis_label\":\"Predicted\",\"axis_label_text_color\":{\"value\":\"#aa6666\"},\"formatter\":{\"id\":\"f9017a0c-e38b-4ade-90e9-9a020434f85d\",\"type\":\"BasicTickFormatter\"},\"plot\":{\"id\":\"967677b7-1fb4-45e9-a8b3-9c2e6091e3d8\",\"subtype\":\"Figure\",\"type\":\"Plot\"},\"ticker\":{\"id\":\"7c460355-fdb8-4371-88e0-ac4ee164cbc8\",\"type\":\"BasicTicker\"}},\"id\":\"94501448-564f-40b8-a1fe-259d6cf893ed\",\"type\":\"LinearAxis\"},{\"attributes\":{\"fill_alpha\":{\"value\":0.5},\"fill_color\":{\"value\":\"lightgrey\"},\"level\":\"overlay\",\"line_alpha\":{\"value\":1.0},\"line_color\":{\"value\":\"black\"},\"line_dash\":[4,4],\"line_width\":{\"value\":2},\"plot\":null,\"xs_units\":\"screen\",\"ys_units\":\"screen\"},\"id\":\"221bcb7b-5306-4be6-9f37-70697c96e680\",\"type\":\"PolyAnnotation\"},{\"attributes\":{\"axis_label\":\"Measured\",\"axis_label_text_color\":{\"value\":\"#aa6666\"},\"formatter\":{\"id\":\"b4b28ae0-7fae-4877-99e9-eb9786d7b80c\",\"type\":\"BasicTickFormatter\"},\"major_tick_line_color\":{\"value\":\"firebrick\"},\"major_tick_line_width\":{\"value\":3},\"minor_tick_line_color\":{\"value\":\"orange\"},\"plot\":{\"id\":\"967677b7-1fb4-45e9-a8b3-9c2e6091e3d8\",\"subtype\":\"Figure\",\"type\":\"Plot\"},\"ticker\":{\"id\":\"93443595-c2f4-42f1-8c8d-d7decb47ac89\",\"type\":\"BasicTicker\"}},\"id\":\"a8989117-c822-47f1-bf0d-b8c0356e7bdc\",\"type\":\"LinearAxis\"},{\"attributes\":{\"active_drag\":\"auto\",\"active_scroll\":\"auto\",\"active_tap\":\"auto\",\"tools\":[{\"id\":\"27d34cc7-e07a-42df-9fbe-497c2df142de\",\"type\":\"BoxZoomTool\"},{\"id\":\"2631b74b-0165-4c51-a5b0-eb1e1584ed5e\",\"type\":\"BoxSelectTool\"},{\"id\":\"0d3dc162-05da-4e5b-b7b2-fb6061439220\",\"type\":\"CrosshairTool\"},{\"id\":\"3cac3552-18f7-40ae-9539-cc8faf5f2bf5\",\"type\":\"ResizeTool\"},{\"id\":\"877aa5cf-a5ea-482d-a5f9-0620d4a839ca\",\"type\":\"ResetTool\"},{\"id\":\"84c0082e-c570-43e9-828e-a2b4ab8ba6eb\",\"type\":\"LassoSelectTool\"},{\"id\":\"f0cfaeab-30f1-4749-9e14-df42943408d8\",\"type\":\"PanTool\"},{\"id\":\"52748a8f-93b2-4019-b088-9f0544059824\",\"type\":\"SaveTool\"},{\"id\":\"a80bca99-97c8-4adf-800d-56c99b9ca656\",\"type\":\"PolySelectTool\"},{\"id\":\"e33de95b-4668-4ca4-95c9-ca0fe702dcd9\",\"type\":\"TapTool\"},{\"id\":\"42b3be03-cd59-4ef1-b00b-2cdc07685266\",\"type\":\"WheelZoomTool\"},{\"id\":\"6689f771-9ed3-4eea-88ac-d0b04ccb2a55\",\"type\":\"UndoTool\"}]},\"id\":\"689ba1e7-bcb9-47c2-bae7-edecfcc2aa75\",\"type\":\"Toolbar\"},{\"attributes\":{\"data_source\":{\"id\":\"780b8371-f57a-420c-be66-250b5edea7d7\",\"type\":\"ColumnDataSource\"},\"glyph\":{\"id\":\"c494d96b-11f2-43c2-987e-40b5baaf85db\",\"type\":\"Line\"},\"hover_glyph\":null,\"nonselection_glyph\":{\"id\":\"9232cfc4-04f7-4194-b47b-bdc640a6e9cf\",\"type\":\"Line\"},\"selection_glyph\":null},\"id\":\"583ff830-36e0-4a36-b385-f39dcf85d4e5\",\"type\":\"GlyphRenderer\"},{\"attributes\":{},\"id\":\"7c460355-fdb8-4371-88e0-ac4ee164cbc8\",\"type\":\"BasicTicker\"},{\"attributes\":{\"plot\":{\"id\":\"967677b7-1fb4-45e9-a8b3-9c2e6091e3d8\",\"subtype\":\"Figure\",\"type\":\"Plot\"}},\"id\":\"3cac3552-18f7-40ae-9539-cc8faf5f2bf5\",\"type\":\"ResizeTool\"},{\"attributes\":{},\"id\":\"3935ba47-6fe9-44ce-b7ef-7f5baf116888\",\"type\":\"ToolEvents\"},{\"attributes\":{\"plot\":{\"id\":\"967677b7-1fb4-45e9-a8b3-9c2e6091e3d8\",\"subtype\":\"Figure\",\"type\":\"Plot\"}},\"id\":\"52748a8f-93b2-4019-b088-9f0544059824\",\"type\":\"SaveTool\"},{\"attributes\":{\"callback\":null,\"overlay\":{\"id\":\"9bd68dc6-1c33-415f-8b41-4383319453d0\",\"type\":\"BoxAnnotation\"},\"plot\":{\"id\":\"967677b7-1fb4-45e9-a8b3-9c2e6091e3d8\",\"subtype\":\"Figure\",\"type\":\"Plot\"},\"renderers\":[{\"id\":\"74e770d5-2a5f-4d64-b852-45e8a1d820b6\",\"type\":\"GlyphRenderer\"},{\"id\":\"583ff830-36e0-4a36-b385-f39dcf85d4e5\",\"type\":\"GlyphRenderer\"}]},\"id\":\"2631b74b-0165-4c51-a5b0-eb1e1584ed5e\",\"type\":\"BoxSelectTool\"},{\"attributes\":{\"callback\":null,\"column_names\":[\"x\",\"y\"],\"data\":{\"x\":[15.0,27.0,34.3,26.0,31.6,33.8,29.0,18.1,27.2,38.0,26.0,14.0,22.0,31.0,36.4,17.6,17.7,28.0,20.8,14.0,20.2,32.8,22.3,28.0,37.0,27.0,23.2,13.0,15.0,22.0,24.0,29.0,13.0,31.8,23.0,25.5,29.9,13.0,17.5,46.6,15.5,32.9,14.0,25.0,19.4,15.0,32.4,31.5,27.0,19.8,17.0,33.5,21.0,23.0,38.1,44.0,40.8,21.0,29.0,17.5,28.0,26.0,26.0,11.0,37.7,24.2,16.0,16.0,30.0,19.0,27.0,19.0,16.0,16.0,20.3,21.0,33.5,23.0,21.5,16.0,19.0,37.0,15.0,16.0,26.0,18.0,13.0,21.0,29.0,22.0,33.0,22.0,16.0,36.0,20.0,22.0,31.3,14.5,29.8,13.0,13.0,36.0,20.5,25.0,27.0,33.0,16.5,20.6,30.0,43.4,34.7,11.0,18.0,13.0,16.0,19.0,23.0,25.5,14.0,24.5,30.0,25.8,38.0,28.8,26.6,17.0,32.0,18.1,11.0,21.0,36.0,13.0,30.0,31.0,14.0,18.0,13.0,21.6,28.0,23.8,14.0,27.0,20.2,26.0,39.4,19.9,19.0,14.0,23.6,13.0,38.0,30.5,18.5,17.0,12.0,16.0,28.0,15.5,32.0,24.0,25.1,16.0,13.0,24.0,22.0,24.0,15.0,19.0,18.0,27.2,14.0,21.0,44.3,28.0,31.5,19.2,14.0,30.5,29.8,36.1,26.8,26.0,20.5,32.1,16.0,17.0,20.0,22.0,25.0,23.9,31.0,39.0,28.0,34.5,22.0,20.6,14.0,25.4,14.0,30.0,19.0,36.0,25.0,14.0,21.1,28.0,19.0,19.1,24.3,44.6,20.0,17.0,13.0,34.2,26.0,17.5,26.0,13.0,18.0,18.5,36.0,16.0,38.0,23.0,20.5,13.0,28.0,12.0,34.1,20.0,12.0,28.4,18.0,20.0,29.5,19.0,26.0,26.0,25.0,32.0,33.7,28.0,19.2,29.5,27.0,15.0,39.1,26.6,13.0,23.0,27.5,20.0,19.2,24.0,32.2,19.4,33.0,12.0,13.0,17.6,23.9,34.4,14.0,31.0,35.1,15.0,15.5,9.0,25.0,18.0,31.0,43.1,17.5,25.0,25.0,19.0,26.0,31.0,18.2,30.7,24.0,17.0,27.0,23.0,18.0,27.2,35.0,29.0,21.5,15.0,17.5,15.0,32.7,10.0,20.0,32.4,34.0,18.0,32.0,14.0,24.0,26.4,14.0,13.0,13.0,18.5,21.5,16.2,16.5,15.0,28.1,29.0,20.2,27.9,22.0,29.0,19.0,25.0],\"y\":[12.367118577393732,27.6031732454344,31.28717653050024,28.87466677100228,31.53712821633294,33.63190720408528,29.783342501661927,21.731374070069645,26.877782759577016,31.546883208722623,25.660703894835194,10.34713948663931,26.30073140327954,31.576146258594548,27.344653816921173,20.229795849252376,20.64623104002667,25.105105508495026,23.869796142698682,11.709745339610173,24.34135559112906,33.197120435361875,25.41894670005211,26.307832233129282,35.75419519042047,27.52554056069212,25.34665840074465,15.39376141302408,15.333064728241155,22.34989496323898,21.76226875860868,28.49215184047653,17.33933623940294,33.39354096907031,22.72269114388713,24.44806699039883,30.403959998209864,12.149060754224685,17.51140196877214,33.23204124955306,16.132340831952014,29.905800423055155,13.452941852860599,22.910288570529204,19.629437043903575,22.449756611241348,32.52151830790658,31.76362515495275,27.94339758318806,25.55306553911356,14.866385535968249,28.326238835411942,21.352743788674832,21.053240574029424,34.43315436286149,35.09948740190582,33.545908372781234,20.874174170199883,30.166921118932017,20.295440324006346,23.133968922142042,25.2894853010363,26.723831865701968,8.90458543915486,34.744803493203975,27.969431675032546,12.375666415064295,12.377993003411682,26.572871745679397,21.708754812136842,27.87890698135347,25.077056846551578,16.215547661355394,13.680786956968065,25.664383301827637,22.210484128576528,26.76065495791126,20.899138315641757,23.385058817075333,16.761188410738377,20.993663801447774,35.96331300123326,18.59004034423427,16.029705570185932,29.25677841085958,20.01388881577803,13.770897728456964,24.32686567382715,29.216367867029522,21.13522734557319,32.867830721631464,28.262573144476516,15.564401353024753,32.11178965191669,27.877055527552674,23.371257877649207,31.17818288361775,15.310409269267664,33.28115252837829,12.528305515260474,10.891516022662143,32.0858395972232,23.60354481941473,26.980273353226508,25.96117474531674,31.758071826152626,19.432662888556052,22.580938928820043,25.612873078216605,31.920602250749837,30.219851504989197,9.270940644846004,14.934016689082775,18.1615091311985,11.977677096281681,24.861640177981712,27.686519522480083,27.10332021033808,11.79647279702825,24.671607320246235,27.661246239887205,28.311309739075618,28.25426884386777,25.70296897567563,28.556252194612618,16.65659736396821,31.094300207001925,22.474523758607475,10.566036470992168,20.350522111820897,34.14226595335284,5.611109375138117,32.204105170487914,30.46441509075767,12.548683603095505,27.141691726767412,20.85954294723704,25.55544600369868,27.742032702019074,25.179811264240925,12.143783645568217,25.360172791930573,24.310739377528737,25.78631127736622,32.6777930831069,21.637789671419085,24.887174399044696,20.852182548103713,25.24321548958853,16.236226751499586,35.64708651540545,28.590721765715173,21.539116783478136,16.848708636105485,9.000135395534151,16.665086791761425,23.731013407181294,16.303627502640715,30.353946009587695,26.586486481226128,25.359343254117192,14.92786123713176,16.63361229279902,27.700716535102394,27.00753008614134,26.8786742163863,13.327071751015781,20.60496744856915,19.515243826208327,31.03685188696022,12.932204280934968,24.653996909974985,33.219027057241625,30.354820038736854,30.699477404813564,21.25775452703203,10.918318418272825,28.495086324615844,30.23510748687073,33.976106342931885,24.90732559598427,27.164072400264658,20.633407327295853,29.961173225579955,14.918222694862543,22.974709378322867,20.576111856122264,24.16062276646461,24.74038134957896,24.143787735568154,36.23928518943062,32.30213714184855,26.303957120556227,31.158141110469874,22.588840423665168,21.52548944885459,12.560460411471482,24.3604461108354,15.041835023372746,28.3946152012525,17.447223906984114,34.37990181560106,24.234247756665173,11.537828250036995,29.39197305206144,24.354861626448464,23.649613692680774,24.571268525889796,26.835330899542097,33.94180396399047,22.388117395416906,17.389209729908597,11.404746378276599,27.76911767612982,23.901728356116042,14.30596058054767,21.87770025299747,8.488393200971432,14.015728170567424,18.773755768509787,33.91314511985218,19.535005818084244,35.42207083114283,23.10549456013895,21.49779394038089,10.24981206438831,29.9581295221886,9.00743855719565,34.91859723794321,22.48785137548892,10.722949546399354,26.833245998595444,18.310637696328154,21.83794662201669,31.877984534192485,19.51638268877894,26.237619678404023,25.762682983540834,23.66506242004415,31.635632245757666,33.231146111141015,29.60896538741754,21.5113040810251,29.849304630964884,27.637383832374613,17.501492433402106,36.48979390459532,23.781081222759056,11.68716932725736,24.73482535576123,29.03100762991367,23.280308817133278,20.93518830628625,26.433628784705043,32.32444566524418,23.63277804528605,31.81866458153542,6.53031239883293,10.157670601300746,23.919863036839683,30.032095619095728,31.750197803806593,11.252854323382838,28.981457994429135,36.30119558714045,19.578980254382742,19.262907886904326,7.583314801521947,28.72361279088972,17.654002015235434,27.58053287389685,32.559235294073225,23.06267164338347,25.401139453419237,24.86251217547755,22.007278584044005,26.81772272226727,29.16030443724025,20.361253009877757,26.602236044329242,26.948645158067468,20.042158868899488,29.391620666432335,24.065810803403075,20.90730933945855,29.34477837552699,29.52477782232177,29.44891461126095,26.254556826517298,13.677734625729121,17.338472013529852,13.460638506506285,27.369323495262435,8.35876574652453,19.801023567032278,32.67648538229105,34.49286532773235,21.198265281288396,35.781184775212076,9.919336262658677,22.88236453239281,26.682652477589848,13.720797739625063,11.233049660307701,14.288612020169507,19.37259113667244,25.68612290863811,22.172256427916604,18.231961031384085,12.243897154047147,27.179796139240107,29.283321996194204,20.219783123172164,26.04824921688651,20.176419774389196,28.63093052035628,16.89058522034247,27.418557330855045]}},\"id\":\"b452e713-b6b3-46d4-a7d3-e99f3cce3c3f\",\"type\":\"ColumnDataSource\"}],\"root_ids\":[\"967677b7-1fb4-45e9-a8b3-9c2e6091e3d8\"]},\"title\":\"Bokeh Application\",\"version\":\"0.12.2\"}};\n",
       "            var render_items = [{\"docid\":\"d68e638b-852c-45ed-8aee-014547970213\",\"elementid\":\"6798ee4c-52fb-4978-a38e-e2f4cb2b8a1e\",\"modelid\":\"967677b7-1fb4-45e9-a8b3-9c2e6091e3d8\"}];\n",
       "            \n",
       "            Bokeh.embed.embed_items(docs_json, render_items);\n",
       "        });\n",
       "      },\n",
       "      function(Bokeh) {\n",
       "      }\n",
       "    ];\n",
       "  \n",
       "    function run_inline_js() {\n",
       "      \n",
       "      if ((window.Bokeh !== undefined) || (force === \"1\")) {\n",
       "        for (var i = 0; i < inline_js.length; i++) {\n",
       "          inline_js[i](window.Bokeh);\n",
       "        }if (force === \"1\") {\n",
       "          display_loaded();\n",
       "        }} else if (Date.now() < window._bokeh_timeout) {\n",
       "        setTimeout(run_inline_js, 100);\n",
       "      } else if (!window._bokeh_failed_load) {\n",
       "        console.log(\"Bokeh: BokehJS failed to load within specified timeout.\");\n",
       "        window._bokeh_failed_load = true;\n",
       "      } else if (!force) {\n",
       "        var cell = $(\"#6798ee4c-52fb-4978-a38e-e2f4cb2b8a1e\").parents('.cell').data().cell;\n",
       "        cell.output_area.append_execute_result(NB_LOAD_WARNING)\n",
       "      }\n",
       "  \n",
       "    }\n",
       "  \n",
       "    if (window._bokeh_is_loading === 0) {\n",
       "      console.log(\"Bokeh: BokehJS loaded, going straight to plotting\");\n",
       "      run_inline_js();\n",
       "    } else {\n",
       "      load_libs(js_urls, function() {\n",
       "        console.log(\"Bokeh: BokehJS plotting callback run at\", now());\n",
       "        run_inline_js();\n",
       "      });\n",
       "    }\n",
       "  }(this));\n",
       "</script>"
      ]
     },
     "metadata": {},
     "output_type": "display_data"
    }
   ],
   "source": [
    "# Plotining using bokeh\n",
    "#TOOLS = [BoxSelectTool(), HoverTool()]\n",
    "#TOOLS = 'hover,box_zoom,box_select,crosshair,resize,reset,lasso_select,pan,save,poly_select,tap,wheel_zoom,undo'\n",
    "TOOLS = 'box_zoom,box_select,crosshair,resize,reset,lasso_select,pan,save,poly_select,tap,wheel_zoom,undo'\n",
    "p = figure(plot_width=500, plot_height=500, tools=TOOLS)\n",
    "p.scatter(Y, predicted,x=\"jjj\", marker=\"o\", color=\"#80B1D3\", line_width=3)\n",
    "p.title.align = \"center\"\n",
    "p.xaxis.axis_label = \"Measured\"\n",
    "p.xaxis.axis_label_text_color = \"#aa6666\"\n",
    "#p.xaxis.axis_label_standoff = 30\n",
    "p.xaxis.major_tick_line_color = \"firebrick\"\n",
    "p.xaxis.major_tick_line_width = 3\n",
    "p.xaxis.minor_tick_line_color = \"orange\"\n",
    "p.yaxis.axis_label = \"Predicted\"\n",
    "p.yaxis.axis_label_text_font_style = \"italic\"\n",
    "p.yaxis.axis_label_text_color = \"#aa6666\"\n",
    "p.background_fill_color = \"beige\"\n",
    "p.background_fill_alpha = 0.5\n",
    "#p.line([Y.min(), Y.max()], [Y.min(), Y.max()], line_dash=\"4 4\", line_width=2, color='red')\n",
    "\n",
    "# create a new plot with the toolbar below\n",
    "# line_dash=\"4 4\", line_width=2, color='red'\n",
    "p.line([Y.min(), Y.max()], [Y.min(), Y.max()], line_dash=\"4 4\", line_width=2, line_color=\"black\")\n",
    "show(p)"
   ]
  },
  {
   "cell_type": "code",
   "execution_count": 20,
   "metadata": {
    "collapsed": false
   },
   "outputs": [
    {
     "data": {
      "text/plain": [
       "<matplotlib.text.Text at 0x7f5d09f5fb50>"
      ]
     },
     "execution_count": 20,
     "metadata": {},
     "output_type": "execute_result"
    },
    {
     "data": {
      "image/png": "[encoded data removed]",
      "text/plain": [
       "<matplotlib.figure.Figure at 0x7f5d0a039e50>"
      ]
     },
     "metadata": {},
     "output_type": "display_data"
    }
   ],
   "source": [
    "plt.scatter(predicted, (predicted - Y), c='r', s=30)\n",
    "plt.title(\"Residual plot on the training data\")\n",
    "plt.xlabel(\"Predicted\")\n",
    "plt.ylabel(\"Residuals\")"
   ]
  },
  {
   "cell_type": "code",
   "execution_count": 21,
   "metadata": {
    "collapsed": false
   },
   "outputs": [
    {
     "data": {
      "text/html": [
       "\n",
       "\n",
       "    <div class=\"bk-root\">\n",
       "        <div class=\"plotdiv\" id=\"e986a381-27b5-4b67-be9d-e7fd1654445e\"></div>\n",
       "    </div>\n",
       "<script type=\"text/javascript\">\n",
       "  \n",
       "  (function(global) {\n",
       "    function now() {\n",
       "      return new Date();\n",
       "    }\n",
       "  \n",
       "    var force = \"\";\n",
       "  \n",
       "    if (typeof (window._bokeh_onload_callbacks) === \"undefined\" || force !== \"\") {\n",
       "      window._bokeh_onload_callbacks = [];\n",
       "      window._bokeh_is_loading = undefined;\n",
       "    }\n",
       "  \n",
       "  \n",
       "    \n",
       "    if (typeof (window._bokeh_timeout) === \"undefined\" || force !== \"\") {\n",
       "      window._bokeh_timeout = Date.now() + 0;\n",
       "      window._bokeh_failed_load = false;\n",
       "    }\n",
       "  \n",
       "    var NB_LOAD_WARNING = {'data': {'text/html':\n",
       "       \"<div style='background-color: #fdd'>\\n\"+\n",
       "       \"<p>\\n\"+\n",
       "       \"BokehJS does not appear to have successfully loaded. If loading BokehJS from CDN, this \\n\"+\n",
       "       \"may be due to a slow or bad network connection. Possible fixes:\\n\"+\n",
       "       \"</p>\\n\"+\n",
       "       \"<ul>\\n\"+\n",
       "       \"<li>re-rerun `output_notebook()` to attempt to load from CDN again, or</li>\\n\"+\n",
       "       \"<li>use INLINE resources instead, as so:</li>\\n\"+\n",
       "       \"</ul>\\n\"+\n",
       "       \"<code>\\n\"+\n",
       "       \"from bokeh.resources import INLINE\\n\"+\n",
       "       \"output_notebook(resources=INLINE)\\n\"+\n",
       "       \"</code>\\n\"+\n",
       "       \"</div>\"}};\n",
       "  \n",
       "    function display_loaded() {\n",
       "      if (window.Bokeh !== undefined) {\n",
       "        Bokeh.$(\"#e986a381-27b5-4b67-be9d-e7fd1654445e\").text(\"BokehJS successfully loaded.\");\n",
       "      } else if (Date.now() < window._bokeh_timeout) {\n",
       "        setTimeout(display_loaded, 100)\n",
       "      }\n",
       "    }\n",
       "  \n",
       "    function run_callbacks() {\n",
       "      window._bokeh_onload_callbacks.forEach(function(callback) { callback() });\n",
       "      delete window._bokeh_onload_callbacks\n",
       "      console.info(\"Bokeh: all callbacks have finished\");\n",
       "    }\n",
       "  \n",
       "    function load_libs(js_urls, callback) {\n",
       "      window._bokeh_onload_callbacks.push(callback);\n",
       "      if (window._bokeh_is_loading > 0) {\n",
       "        console.log(\"Bokeh: BokehJS is being loaded, scheduling callback at\", now());\n",
       "        return null;\n",
       "      }\n",
       "      if (js_urls == null || js_urls.length === 0) {\n",
       "        run_callbacks();\n",
       "        return null;\n",
       "      }\n",
       "      console.log(\"Bokeh: BokehJS not loaded, scheduling load and callback at\", now());\n",
       "      window._bokeh_is_loading = js_urls.length;\n",
       "      for (var i = 0; i < js_urls.length; i++) {\n",
       "        var url = js_urls[i];\n",
       "        var s = document.createElement('script');\n",
       "        s.src = url;\n",
       "        s.async = false;\n",
       "        s.onreadystatechange = s.onload = function() {\n",
       "          window._bokeh_is_loading--;\n",
       "          if (window._bokeh_is_loading === 0) {\n",
       "            console.log(\"Bokeh: all BokehJS libraries loaded\");\n",
       "            run_callbacks()\n",
       "          }\n",
       "        };\n",
       "        s.onerror = function() {\n",
       "          console.warn(\"failed to load library \" + url);\n",
       "        };\n",
       "        console.log(\"Bokeh: injecting script tag for BokehJS library: \", url);\n",
       "        document.getElementsByTagName(\"head\")[0].appendChild(s);\n",
       "      }\n",
       "    };var element = document.getElementById(\"e986a381-27b5-4b67-be9d-e7fd1654445e\");\n",
       "    if (element == null) {\n",
       "      console.log(\"Bokeh: ERROR: autoload.js configured with elementid 'e986a381-27b5-4b67-be9d-e7fd1654445e' but no matching script tag was found. \")\n",
       "      return false;\n",
       "    }\n",
       "  \n",
       "    var js_urls = [];\n",
       "  \n",
       "    var inline_js = [\n",
       "      function(Bokeh) {\n",
       "        Bokeh.$(function() {\n",
       "            var docs_json = {\"81caa08c-8ebf-442a-8e2b-429d25e8c91a\":{\"roots\":{\"references\":[{\"attributes\":{\"fill_alpha\":{\"value\":0.5},\"fill_color\":{\"value\":\"lightgrey\"},\"level\":\"overlay\",\"line_alpha\":{\"value\":1.0},\"line_color\":{\"value\":\"black\"},\"line_dash\":[4,4],\"line_width\":{\"value\":2},\"plot\":null,\"xs_units\":\"screen\",\"ys_units\":\"screen\"},\"id\":\"d7e3dc66-32e9-47b7-9641-9890eeeebaf0\",\"type\":\"PolyAnnotation\"},{\"attributes\":{\"align\":\"center\",\"plot\":null,\"text\":\"Residual plot on the training data\"},\"id\":\"bb50279b-52ae-4f87-867b-04c91c6370c0\",\"type\":\"Title\"},{\"attributes\":{},\"id\":\"4889ad45-88b4-4821-b633-e78ccb5bf4d3\",\"type\":\"ToolEvents\"},{\"attributes\":{\"plot\":{\"id\":\"56252aea-6615-4f95-a910-4a4f7df3ed03\",\"subtype\":\"Figure\",\"type\":\"Plot\"}},\"id\":\"11f66d87-6b48-422b-b8e2-eabde6b85dc5\",\"type\":\"CrosshairTool\"},{\"attributes\":{\"plot\":{\"id\":\"56252aea-6615-4f95-a910-4a4f7df3ed03\",\"subtype\":\"Figure\",\"type\":\"Plot\"}},\"id\":\"deb9ae97-02b4-4e63-8497-df16991823f7\",\"type\":\"UndoTool\"},{\"attributes\":{\"callback\":null,\"overlay\":{\"id\":\"02cf1c48-d61c-4f55-8702-d7cd896dcab2\",\"type\":\"PolyAnnotation\"},\"plot\":{\"id\":\"56252aea-6615-4f95-a910-4a4f7df3ed03\",\"subtype\":\"Figure\",\"type\":\"Plot\"}},\"id\":\"2cec3a20-9dc2-4aaa-8055-99472efaf5e6\",\"type\":\"LassoSelectTool\"},{\"attributes\":{\"fill_alpha\":{\"value\":0.1},\"fill_color\":{\"value\":\"#1f77b4\"},\"line_alpha\":{\"value\":0.1},\"line_color\":{\"value\":\"#1f77b4\"},\"line_width\":{\"value\":3},\"x\":{\"field\":\"x\"},\"y\":{\"field\":\"y\"}},\"id\":\"50474eb8-3605-4d91-bd3f-536c0654bdf9\",\"type\":\"Circle\"},{\"attributes\":{},\"id\":\"a3d73e05-168f-47b8-a83c-6b4089c7651c\",\"type\":\"BasicTickFormatter\"},{\"attributes\":{\"plot\":{\"id\":\"56252aea-6615-4f95-a910-4a4f7df3ed03\",\"subtype\":\"Figure\",\"type\":\"Plot\"}},\"id\":\"e4f260ba-1a96-4487-bded-2ac0292b3066\",\"type\":\"ResetTool\"},{\"attributes\":{\"plot\":{\"id\":\"56252aea-6615-4f95-a910-4a4f7df3ed03\",\"subtype\":\"Figure\",\"type\":\"Plot\"}},\"id\":\"d5bff657-5b51-4b6c-a5ed-6cd6ef12a715\",\"type\":\"SaveTool\"},{\"attributes\":{\"callback\":null},\"id\":\"3e503a49-6beb-445c-af33-28a4695efc94\",\"type\":\"DataRange1d\"},{\"attributes\":{\"callback\":null,\"column_names\":[\"x\",\"y\"],\"data\":{\"x\":[12.367118577393732,27.6031732454344,31.28717653050024,28.87466677100228,31.53712821633294,33.63190720408528,29.783342501661927,21.731374070069645,26.877782759577016,31.546883208722623,25.660703894835194,10.34713948663931,26.30073140327954,31.576146258594548,27.344653816921173,20.229795849252376,20.64623104002667,25.105105508495026,23.869796142698682,11.709745339610173,24.34135559112906,33.197120435361875,25.41894670005211,26.307832233129282,35.75419519042047,27.52554056069212,25.34665840074465,15.39376141302408,15.333064728241155,22.34989496323898,21.76226875860868,28.49215184047653,17.33933623940294,33.39354096907031,22.72269114388713,24.44806699039883,30.403959998209864,12.149060754224685,17.51140196877214,33.23204124955306,16.132340831952014,29.905800423055155,13.452941852860599,22.910288570529204,19.629437043903575,22.449756611241348,32.52151830790658,31.76362515495275,27.94339758318806,25.55306553911356,14.866385535968249,28.326238835411942,21.352743788674832,21.053240574029424,34.43315436286149,35.09948740190582,33.545908372781234,20.874174170199883,30.166921118932017,20.295440324006346,23.133968922142042,25.2894853010363,26.723831865701968,8.90458543915486,34.744803493203975,27.969431675032546,12.375666415064295,12.377993003411682,26.572871745679397,21.708754812136842,27.87890698135347,25.077056846551578,16.215547661355394,13.680786956968065,25.664383301827637,22.210484128576528,26.76065495791126,20.899138315641757,23.385058817075333,16.761188410738377,20.993663801447774,35.96331300123326,18.59004034423427,16.029705570185932,29.25677841085958,20.01388881577803,13.770897728456964,24.32686567382715,29.216367867029522,21.13522734557319,32.867830721631464,28.262573144476516,15.564401353024753,32.11178965191669,27.877055527552674,23.371257877649207,31.17818288361775,15.310409269267664,33.28115252837829,12.528305515260474,10.891516022662143,32.0858395972232,23.60354481941473,26.980273353226508,25.96117474531674,31.758071826152626,19.432662888556052,22.580938928820043,25.612873078216605,31.920602250749837,30.219851504989197,9.270940644846004,14.934016689082775,18.1615091311985,11.977677096281681,24.861640177981712,27.686519522480083,27.10332021033808,11.79647279702825,24.671607320246235,27.661246239887205,28.311309739075618,28.25426884386777,25.70296897567563,28.556252194612618,16.65659736396821,31.094300207001925,22.474523758607475,10.566036470992168,20.350522111820897,34.14226595335284,5.611109375138117,32.204105170487914,30.46441509075767,12.548683603095505,27.141691726767412,20.85954294723704,25.55544600369868,27.742032702019074,25.179811264240925,12.143783645568217,25.360172791930573,24.310739377528737,25.78631127736622,32.6777930831069,21.637789671419085,24.887174399044696,20.852182548103713,25.24321548958853,16.236226751499586,35.64708651540545,28.590721765715173,21.539116783478136,16.848708636105485,9.000135395534151,16.665086791761425,23.731013407181294,16.303627502640715,30.353946009587695,26.586486481226128,25.359343254117192,14.92786123713176,16.63361229279902,27.700716535102394,27.00753008614134,26.8786742163863,13.327071751015781,20.60496744856915,19.515243826208327,31.03685188696022,12.932204280934968,24.653996909974985,33.219027057241625,30.354820038736854,30.699477404813564,21.25775452703203,10.918318418272825,28.495086324615844,30.23510748687073,33.976106342931885,24.90732559598427,27.164072400264658,20.633407327295853,29.961173225579955,14.918222694862543,22.974709378322867,20.576111856122264,24.16062276646461,24.74038134957896,24.143787735568154,36.23928518943062,32.30213714184855,26.303957120556227,31.158141110469874,22.588840423665168,21.52548944885459,12.560460411471482,24.3604461108354,15.041835023372746,28.3946152012525,17.447223906984114,34.37990181560106,24.234247756665173,11.537828250036995,29.39197305206144,24.354861626448464,23.649613692680774,24.571268525889796,26.835330899542097,33.94180396399047,22.388117395416906,17.389209729908597,11.404746378276599,27.76911767612982,23.901728356116042,14.30596058054767,21.87770025299747,8.488393200971432,14.015728170567424,18.773755768509787,33.91314511985218,19.535005818084244,35.42207083114283,23.10549456013895,21.49779394038089,10.24981206438831,29.9581295221886,9.00743855719565,34.91859723794321,22.48785137548892,10.722949546399354,26.833245998595444,18.310637696328154,21.83794662201669,31.877984534192485,19.51638268877894,26.237619678404023,25.762682983540834,23.66506242004415,31.635632245757666,33.231146111141015,29.60896538741754,21.5113040810251,29.849304630964884,27.637383832374613,17.501492433402106,36.48979390459532,23.781081222759056,11.68716932725736,24.73482535576123,29.03100762991367,23.280308817133278,20.93518830628625,26.433628784705043,32.32444566524418,23.63277804528605,31.81866458153542,6.53031239883293,10.157670601300746,23.919863036839683,30.032095619095728,31.750197803806593,11.252854323382838,28.981457994429135,36.30119558714045,19.578980254382742,19.262907886904326,7.583314801521947,28.72361279088972,17.654002015235434,27.58053287389685,32.559235294073225,23.06267164338347,25.401139453419237,24.86251217547755,22.007278584044005,26.81772272226727,29.16030443724025,20.361253009877757,26.602236044329242,26.948645158067468,20.042158868899488,29.391620666432335,24.065810803403075,20.90730933945855,29.34477837552699,29.52477782232177,29.44891461126095,26.254556826517298,13.677734625729121,17.338472013529852,13.460638506506285,27.369323495262435,8.35876574652453,19.801023567032278,32.67648538229105,34.49286532773235,21.198265281288396,35.781184775212076,9.919336262658677,22.88236453239281,26.682652477589848,13.720797739625063,11.233049660307701,14.288612020169507,19.37259113667244,25.68612290863811,22.172256427916604,18.231961031384085,12.243897154047147,27.179796139240107,29.283321996194204,20.219783123172164,26.04824921688651,20.176419774389196,28.63093052035628,16.89058522034247,27.418557330855045],\"y\":[-2.6328814226062676,0.6031732454344017,-3.0128234694997573,2.8746667710022784,-0.06287178366706314,-0.16809279591471693,0.7833425016619273,3.6313740700696435,-0.32221724042298305,-6.4531167912773775,-0.3392961051648058,-3.6528605133606895,4.3007314032795385,0.576146258594548,-9.055346183078825,2.6297958492523748,2.946231040026671,-2.8948944915049744,3.0697961426986815,-2.2902546603898273,4.141355591129059,0.39712043536187736,3.11894670005211,-1.6921677668707176,-1.245804809579532,0.5255405606921215,2.146658400744652,2.3937614130240803,0.33306472824115474,0.34989496323898095,-2.2377312413913195,-0.5078481595234692,4.3393362394029396,1.5935409690703075,-0.2773088561128709,-1.0519330096011714,0.503959998209865,-0.8509392457753151,0.011401968772140947,-13.367958750446938,0.6323408319520141,-2.994199576944844,-0.5470581471394009,-2.089711429470796,0.22943704390357667,7.449756611241348,0.1215183079065838,0.26362515495274863,0.9433975831880588,5.75306553911356,-2.1336144640317514,-5.173761164588058,0.35274378867483236,-1.9467594259705763,-3.6668456371385147,-8.900512598094181,-7.254091627218763,-0.12582582980011736,1.1669211189320166,2.7954403240063463,-4.866031077857958,-0.7105146989636992,0.7238318657019676,-2.095414560845141,-2.955196506796028,3.7694316750325463,-3.6243335849357052,-3.6220069965883184,-3.4271282543206034,2.708754812136842,0.8789069813534702,6.077056846551578,0.21554766135539438,-2.319213043031935,5.364383301827637,1.2104841285765282,-6.73934504208874,-2.100861684358243,1.8850588170753326,0.7611884107383773,1.9936638014477737,-1.03668699876674,3.5900403442342714,0.029705570185932118,3.2567784108595816,2.0138888157780315,0.7708977284569638,3.3268656738271503,0.21636786702952193,-0.8647726544268117,-0.13216927836853642,6.262573144476516,-0.4355986469752473,-3.8882103480833123,7.877055527552674,1.3712578776492066,-0.12181711638224968,0.8104092692676641,3.481152528378292,-0.47169448473952613,-2.1084839773378565,-3.914160402776801,3.1035448194147293,1.980273353226508,-1.0388252546832604,-1.2419281738473735,2.9326628885560524,1.9809389288200414,-4.387126921783395,-11.479397749250161,-4.4801484950108055,-1.7290593551539963,-3.0659833109172254,5.1615091311985,-4.022322903718319,5.861640177981712,4.686519522480083,1.6033202103380795,-2.2035272029717508,0.1716073202462347,-2.3387537601127946,2.5113097390756174,-9.74573115613223,-3.0970310243243695,1.9562521946126168,-0.3434026360317901,-0.9056997929980746,4.374523758607474,-0.43396352900783164,-0.6494778881791028,-1.8577340466471597,-7.388890624861883,2.2041051704879138,-0.5355849092423313,-1.4513163969044953,9.141691726767412,7.859542947237038,3.955446003698679,-0.257967297980926,1.3798112642409244,-1.8562163544317833,-1.639827208069427,4.110739377528738,-0.2136887226337798,-6.7222069168931,1.7377896714190868,5.887174399044696,6.852182548103713,1.6432154895885276,3.2362267514995864,-2.352913484594552,-1.9092782342848267,3.0391167834781356,-0.15129136389451503,-2.9998646044658486,0.6650867917614249,-4.268986592818706,0.8036275026407154,-1.6460539904123053,2.586486481226128,0.2593432541171907,-1.0721387628682404,3.6336122927990218,3.7007165351023943,5.00753008614134,2.878674216386301,-1.6729282489842188,1.6049674485691483,1.5152438262083265,3.836851886960222,-1.0677957190650318,3.6539969099749854,-11.080972942758372,2.354820038736854,-0.8005225951864361,2.0577545270320314,-3.0816815817271745,-2.004913675384156,0.43510748687073075,-2.123893657068116,-1.8926744040157324,1.1640724002646579,0.1334073272958527,-2.138826774420046,-1.0817773051374573,5.974709378322867,0.5761118561222638,2.160622766464609,-0.2596186504210394,0.24378773556815503,5.239285189430618,-6.697862858151453,-1.6960428794437732,-3.341858889530126,0.5888404236651681,0.925489448854588,-1.4395395885285183,-1.0395538891645977,1.0418350233727462,-1.605384798747501,-1.5527760930158863,-1.620098184398941,-0.7657522433348269,-2.462171749963005,8.29197305206144,-3.6451383735515357,4.649613692680774,5.471268525889794,2.535330899542096,-10.658196036009528,2.3881173954169057,0.3892097299085968,-1.5952536217234012,-6.430882323870183,-2.098271643883958,-3.1940394194523307,-4.122299747002529,-4.511606799028568,-3.9842718294325756,0.2737557685097869,-2.0868548801478184,3.535005818084244,-2.5779291688571675,0.10549456013895053,0.9977939403808911,-2.75018793561169,1.9581295221885995,-2.99256144280435,0.8185972379432087,2.487851375488919,-1.277050453600646,-1.5667540014045542,0.3106376963281541,1.8379466220166911,2.3779845341924855,0.5163826887789398,0.2376196784040232,-0.2373170164591656,-1.3349375799558487,-0.36436775424233403,-0.4688538888589875,1.6089653874175411,2.3113040810250993,0.34930463096488396,0.6373838323746135,2.501492433402106,-2.610206095404685,-2.8189187772409454,-1.3128306727426402,1.734825355761231,1.5310076299136703,3.280308817133278,1.7351883062862505,2.433628784705043,0.12444566524417411,4.23277804528605,-1.181335418464581,-5.46968760116707,-2.8423293986992544,6.319863036839681,6.132095619095729,-2.6498021961934057,-2.747145676617162,-2.0185420055708647,1.2011955871404467,4.578980254382742,3.762907886904326,-1.4166851984780529,3.723612790889721,-0.34599798476456556,-3.41946712610315,-10.540764705926776,5.562671643383471,0.40113945341923696,-0.13748782452244868,3.0072785840440055,0.8177227222672698,-1.8396955627597507,2.1612530098777576,-4.097763955670757,2.9486451580674675,3.042158868899488,2.3916206664323347,1.0658108034030747,2.90730933945855,2.1447783755269896,-5.47522217767823,0.44891461126094967,4.754556826517298,-1.322265374270879,-0.16152798647014777,-1.5393614934937148,-5.330676504737568,-1.6412342534754707,-0.19897643296772216,0.2764853822910496,0.49286532773235336,3.1982652812883963,3.7811847752120755,-4.0806637373413235,-1.1176354676071902,0.2826524775898491,-0.27920226037493734,-1.7669503396922988,1.2886120201695075,0.8725911366724404,4.1861229086381115,5.972256427916605,1.7319610313840847,-2.756102845952853,-0.9202038607598944,0.2833219961942035,0.019783123172164352,-1.8517507831134878,-1.8235802256108045,-0.36906947964371994,-2.1094147796575307,2.4185573308550445]}},\"id\":\"85735453-e8cb-4630-8f18-523f885ab305\",\"type\":\"ColumnDataSource\"},{\"attributes\":{\"fill_alpha\":{\"value\":0.5},\"fill_color\":{\"value\":\"lightgrey\"},\"level\":\"overlay\",\"line_alpha\":{\"value\":1.0},\"line_color\":{\"value\":\"black\"},\"line_dash\":[4,4],\"line_width\":{\"value\":2},\"plot\":null,\"xs_units\":\"screen\",\"ys_units\":\"screen\"},\"id\":\"02cf1c48-d61c-4f55-8702-d7cd896dcab2\",\"type\":\"PolyAnnotation\"},{\"attributes\":{},\"id\":\"deed3bef-0d5d-4c79-b54a-07b036ccf85b\",\"type\":\"BasicTicker\"},{\"attributes\":{\"bottom_units\":\"screen\",\"fill_alpha\":{\"value\":0.5},\"fill_color\":{\"value\":\"lightgrey\"},\"left_units\":\"screen\",\"level\":\"overlay\",\"line_alpha\":{\"value\":1.0},\"line_color\":{\"value\":\"black\"},\"line_dash\":[4,4],\"line_width\":{\"value\":2},\"plot\":null,\"render_mode\":\"css\",\"right_units\":\"screen\",\"top_units\":\"screen\"},\"id\":\"f948b548-e9fb-475e-95ab-a7b4ff84f84a\",\"type\":\"BoxAnnotation\"},{\"attributes\":{\"overlay\":{\"id\":\"d7e3dc66-32e9-47b7-9641-9890eeeebaf0\",\"type\":\"PolyAnnotation\"},\"plot\":{\"id\":\"56252aea-6615-4f95-a910-4a4f7df3ed03\",\"subtype\":\"Figure\",\"type\":\"Plot\"}},\"id\":\"eade2be1-4fdb-49c6-b37b-90f89dda00b9\",\"type\":\"PolySelectTool\"},{\"attributes\":{\"background_fill_alpha\":{\"value\":0.5},\"background_fill_color\":{\"value\":\"beige\"},\"below\":[{\"id\":\"68428ca7-bbd4-4227-9c0b-e338acb8243f\",\"type\":\"LinearAxis\"}],\"left\":[{\"id\":\"e3679abd-fb7d-4ed6-b5e4-ab4443039ec6\",\"type\":\"LinearAxis\"}],\"plot_height\":500,\"plot_width\":500,\"renderers\":[{\"id\":\"68428ca7-bbd4-4227-9c0b-e338acb8243f\",\"type\":\"LinearAxis\"},{\"id\":\"d0888300-0072-4847-8387-9bdd9ffb06fc\",\"type\":\"Grid\"},{\"id\":\"e3679abd-fb7d-4ed6-b5e4-ab4443039ec6\",\"type\":\"LinearAxis\"},{\"id\":\"643a177d-e174-4061-989a-d357babbf06c\",\"type\":\"Grid\"},{\"id\":\"f948b548-e9fb-475e-95ab-a7b4ff84f84a\",\"type\":\"BoxAnnotation\"},{\"id\":\"635808a0-2e3c-47a1-92e6-06a459aa3dff\",\"type\":\"BoxAnnotation\"},{\"id\":\"02cf1c48-d61c-4f55-8702-d7cd896dcab2\",\"type\":\"PolyAnnotation\"},{\"id\":\"d7e3dc66-32e9-47b7-9641-9890eeeebaf0\",\"type\":\"PolyAnnotation\"},{\"id\":\"41db17eb-954a-4951-8f7a-d547c2d17fc0\",\"type\":\"GlyphRenderer\"}],\"title\":{\"id\":\"bb50279b-52ae-4f87-867b-04c91c6370c0\",\"type\":\"Title\"},\"tool_events\":{\"id\":\"4889ad45-88b4-4821-b633-e78ccb5bf4d3\",\"type\":\"ToolEvents\"},\"toolbar\":{\"id\":\"1dd253b3-1b79-42be-95c7-2dbfead0c806\",\"type\":\"Toolbar\"},\"x_range\":{\"id\":\"3e503a49-6beb-445c-af33-28a4695efc94\",\"type\":\"DataRange1d\"},\"y_range\":{\"id\":\"76d8ad3b-6cde-4186-9885-cf92bc2487de\",\"type\":\"DataRange1d\"}},\"id\":\"56252aea-6615-4f95-a910-4a4f7df3ed03\",\"subtype\":\"Figure\",\"type\":\"Plot\"},{\"attributes\":{\"dimension\":1,\"plot\":{\"id\":\"56252aea-6615-4f95-a910-4a4f7df3ed03\",\"subtype\":\"Figure\",\"type\":\"Plot\"},\"ticker\":{\"id\":\"7c3496a5-071f-4455-b3d5-9d2079466539\",\"type\":\"BasicTicker\"}},\"id\":\"643a177d-e174-4061-989a-d357babbf06c\",\"type\":\"Grid\"},{\"attributes\":{\"plot\":{\"id\":\"56252aea-6615-4f95-a910-4a4f7df3ed03\",\"subtype\":\"Figure\",\"type\":\"Plot\"},\"ticker\":{\"id\":\"deed3bef-0d5d-4c79-b54a-07b036ccf85b\",\"type\":\"BasicTicker\"}},\"id\":\"d0888300-0072-4847-8387-9bdd9ffb06fc\",\"type\":\"Grid\"},{\"attributes\":{\"axis_label\":\"Predicted\",\"axis_label_text_color\":{\"value\":\"#aa6666\"},\"formatter\":{\"id\":\"0bbbb64b-add6-4d53-92dc-ca3804c90ffb\",\"type\":\"BasicTickFormatter\"},\"major_tick_line_color\":{\"value\":\"firebrick\"},\"major_tick_line_width\":{\"value\":3},\"minor_tick_line_color\":{\"value\":\"orange\"},\"plot\":{\"id\":\"56252aea-6615-4f95-a910-4a4f7df3ed03\",\"subtype\":\"Figure\",\"type\":\"Plot\"},\"ticker\":{\"id\":\"deed3bef-0d5d-4c79-b54a-07b036ccf85b\",\"type\":\"BasicTicker\"}},\"id\":\"68428ca7-bbd4-4227-9c0b-e338acb8243f\",\"type\":\"LinearAxis\"},{\"attributes\":{\"plot\":{\"id\":\"56252aea-6615-4f95-a910-4a4f7df3ed03\",\"subtype\":\"Figure\",\"type\":\"Plot\"}},\"id\":\"9dff8156-4dfa-41b6-8a74-9f8d63bfb035\",\"type\":\"PanTool\"},{\"attributes\":{\"fill_color\":{\"value\":\"#80B1D3\"},\"line_color\":{\"value\":\"#80B1D3\"},\"line_width\":{\"value\":3},\"x\":{\"field\":\"x\"},\"y\":{\"field\":\"y\"}},\"id\":\"07f129f0-3160-491d-b324-a4aa62c527d2\",\"type\":\"Circle\"},{\"attributes\":{\"callback\":null,\"plot\":{\"id\":\"56252aea-6615-4f95-a910-4a4f7df3ed03\",\"subtype\":\"Figure\",\"type\":\"Plot\"}},\"id\":\"97ebf3b7-8417-4412-9e8b-430e54f4805c\",\"type\":\"TapTool\"},{\"attributes\":{\"bottom_units\":\"screen\",\"fill_alpha\":{\"value\":0.5},\"fill_color\":{\"value\":\"lightgrey\"},\"left_units\":\"screen\",\"level\":\"overlay\",\"line_alpha\":{\"value\":1.0},\"line_color\":{\"value\":\"black\"},\"line_dash\":[4,4],\"line_width\":{\"value\":2},\"plot\":null,\"render_mode\":\"css\",\"right_units\":\"screen\",\"top_units\":\"screen\"},\"id\":\"635808a0-2e3c-47a1-92e6-06a459aa3dff\",\"type\":\"BoxAnnotation\"},{\"attributes\":{\"overlay\":{\"id\":\"f948b548-e9fb-475e-95ab-a7b4ff84f84a\",\"type\":\"BoxAnnotation\"},\"plot\":{\"id\":\"56252aea-6615-4f95-a910-4a4f7df3ed03\",\"subtype\":\"Figure\",\"type\":\"Plot\"}},\"id\":\"bff3294a-a14b-4417-a83c-18b8fdacd079\",\"type\":\"BoxZoomTool\"},{\"attributes\":{\"data_source\":{\"id\":\"85735453-e8cb-4630-8f18-523f885ab305\",\"type\":\"ColumnDataSource\"},\"glyph\":{\"id\":\"07f129f0-3160-491d-b324-a4aa62c527d2\",\"type\":\"Circle\"},\"hover_glyph\":null,\"nonselection_glyph\":{\"id\":\"50474eb8-3605-4d91-bd3f-536c0654bdf9\",\"type\":\"Circle\"},\"selection_glyph\":null},\"id\":\"41db17eb-954a-4951-8f7a-d547c2d17fc0\",\"type\":\"GlyphRenderer\"},{\"attributes\":{\"plot\":{\"id\":\"56252aea-6615-4f95-a910-4a4f7df3ed03\",\"subtype\":\"Figure\",\"type\":\"Plot\"}},\"id\":\"71d30a5d-6873-4af4-bbc0-e5dccbcbf405\",\"type\":\"ResizeTool\"},{\"attributes\":{\"plot\":{\"id\":\"56252aea-6615-4f95-a910-4a4f7df3ed03\",\"subtype\":\"Figure\",\"type\":\"Plot\"}},\"id\":\"e11078f5-9927-4a91-899c-67fd92a9c577\",\"type\":\"WheelZoomTool\"},{\"attributes\":{\"axis_label\":\"Residuals\",\"axis_label_text_color\":{\"value\":\"#aa6666\"},\"formatter\":{\"id\":\"a3d73e05-168f-47b8-a83c-6b4089c7651c\",\"type\":\"BasicTickFormatter\"},\"plot\":{\"id\":\"56252aea-6615-4f95-a910-4a4f7df3ed03\",\"subtype\":\"Figure\",\"type\":\"Plot\"},\"ticker\":{\"id\":\"7c3496a5-071f-4455-b3d5-9d2079466539\",\"type\":\"BasicTicker\"}},\"id\":\"e3679abd-fb7d-4ed6-b5e4-ab4443039ec6\",\"type\":\"LinearAxis\"},{\"attributes\":{},\"id\":\"0bbbb64b-add6-4d53-92dc-ca3804c90ffb\",\"type\":\"BasicTickFormatter\"},{\"attributes\":{\"active_drag\":\"auto\",\"active_scroll\":\"auto\",\"active_tap\":\"auto\",\"tools\":[{\"id\":\"bff3294a-a14b-4417-a83c-18b8fdacd079\",\"type\":\"BoxZoomTool\"},{\"id\":\"3d8c3bf7-1990-409b-8d54-99e8e67c81c3\",\"type\":\"BoxSelectTool\"},{\"id\":\"11f66d87-6b48-422b-b8e2-eabde6b85dc5\",\"type\":\"CrosshairTool\"},{\"id\":\"71d30a5d-6873-4af4-bbc0-e5dccbcbf405\",\"type\":\"ResizeTool\"},{\"id\":\"e4f260ba-1a96-4487-bded-2ac0292b3066\",\"type\":\"ResetTool\"},{\"id\":\"2cec3a20-9dc2-4aaa-8055-99472efaf5e6\",\"type\":\"LassoSelectTool\"},{\"id\":\"9dff8156-4dfa-41b6-8a74-9f8d63bfb035\",\"type\":\"PanTool\"},{\"id\":\"d5bff657-5b51-4b6c-a5ed-6cd6ef12a715\",\"type\":\"SaveTool\"},{\"id\":\"eade2be1-4fdb-49c6-b37b-90f89dda00b9\",\"type\":\"PolySelectTool\"},{\"id\":\"97ebf3b7-8417-4412-9e8b-430e54f4805c\",\"type\":\"TapTool\"},{\"id\":\"e11078f5-9927-4a91-899c-67fd92a9c577\",\"type\":\"WheelZoomTool\"},{\"id\":\"deb9ae97-02b4-4e63-8497-df16991823f7\",\"type\":\"UndoTool\"}]},\"id\":\"1dd253b3-1b79-42be-95c7-2dbfead0c806\",\"type\":\"Toolbar\"},{\"attributes\":{},\"id\":\"7c3496a5-071f-4455-b3d5-9d2079466539\",\"type\":\"BasicTicker\"},{\"attributes\":{\"callback\":null},\"id\":\"76d8ad3b-6cde-4186-9885-cf92bc2487de\",\"type\":\"DataRange1d\"},{\"attributes\":{\"callback\":null,\"overlay\":{\"id\":\"635808a0-2e3c-47a1-92e6-06a459aa3dff\",\"type\":\"BoxAnnotation\"},\"plot\":{\"id\":\"56252aea-6615-4f95-a910-4a4f7df3ed03\",\"subtype\":\"Figure\",\"type\":\"Plot\"},\"renderers\":[{\"id\":\"41db17eb-954a-4951-8f7a-d547c2d17fc0\",\"type\":\"GlyphRenderer\"}]},\"id\":\"3d8c3bf7-1990-409b-8d54-99e8e67c81c3\",\"type\":\"BoxSelectTool\"}],\"root_ids\":[\"56252aea-6615-4f95-a910-4a4f7df3ed03\"]},\"title\":\"Bokeh Application\",\"version\":\"0.12.2\"}};\n",
       "            var render_items = [{\"docid\":\"81caa08c-8ebf-442a-8e2b-429d25e8c91a\",\"elementid\":\"e986a381-27b5-4b67-be9d-e7fd1654445e\",\"modelid\":\"56252aea-6615-4f95-a910-4a4f7df3ed03\"}];\n",
       "            \n",
       "            Bokeh.embed.embed_items(docs_json, render_items);\n",
       "        });\n",
       "      },\n",
       "      function(Bokeh) {\n",
       "      }\n",
       "    ];\n",
       "  \n",
       "    function run_inline_js() {\n",
       "      \n",
       "      if ((window.Bokeh !== undefined) || (force === \"1\")) {\n",
       "        for (var i = 0; i < inline_js.length; i++) {\n",
       "          inline_js[i](window.Bokeh);\n",
       "        }if (force === \"1\") {\n",
       "          display_loaded();\n",
       "        }} else if (Date.now() < window._bokeh_timeout) {\n",
       "        setTimeout(run_inline_js, 100);\n",
       "      } else if (!window._bokeh_failed_load) {\n",
       "        console.log(\"Bokeh: BokehJS failed to load within specified timeout.\");\n",
       "        window._bokeh_failed_load = true;\n",
       "      } else if (!force) {\n",
       "        var cell = $(\"#e986a381-27b5-4b67-be9d-e7fd1654445e\").parents('.cell').data().cell;\n",
       "        cell.output_area.append_execute_result(NB_LOAD_WARNING)\n",
       "      }\n",
       "  \n",
       "    }\n",
       "  \n",
       "    if (window._bokeh_is_loading === 0) {\n",
       "      console.log(\"Bokeh: BokehJS loaded, going straight to plotting\");\n",
       "      run_inline_js();\n",
       "    } else {\n",
       "      load_libs(js_urls, function() {\n",
       "        console.log(\"Bokeh: BokehJS plotting callback run at\", now());\n",
       "        run_inline_js();\n",
       "      });\n",
       "    }\n",
       "  }(this));\n",
       "</script>"
      ]
     },
     "metadata": {},
     "output_type": "display_data"
    }
   ],
   "source": [
    "# Plotining using bokeh\n",
    "#TOOLS = 'hover,box_zoom,box_select,crosshair,resize,reset,lasso_select,pan,save,poly_select,tap,wheel_zoom,undo'\n",
    "TOOLS = 'box_zoom,box_select,crosshair,resize,reset,lasso_select,pan,save,poly_select,tap,wheel_zoom,undo'\n",
    "p = figure(plot_width=500, plot_height=500, title=\"Residual plot on the training data\", tools=TOOLS)\n",
    "p.scatter(predicted, (predicted - Y),x=\"jjj\", marker=\"o\", color=\"#80B1D3\", line_width=3)\n",
    "p.title.align = \"center\"\n",
    "p.xaxis.axis_label = \"Predicted\"\n",
    "p.xaxis.axis_label_text_color = \"#aa6666\"\n",
    "#p.xaxis.axis_label_standoff = 30\n",
    "p.xaxis.major_tick_line_color = \"firebrick\"\n",
    "p.xaxis.major_tick_line_width = 3\n",
    "p.xaxis.minor_tick_line_color = \"orange\"\n",
    "p.yaxis.axis_label = \"Residuals\"\n",
    "p.yaxis.axis_label_text_font_style = \"italic\"\n",
    "p.yaxis.axis_label_text_color = \"#aa6666\"\n",
    "p.background_fill_color = \"beige\"\n",
    "p.background_fill_alpha = 0.5\n",
    "#p.line([2,38], [0, 0], line_dash=\"4 4\", line_width=2, color='red')\n",
    "show(p)"
   ]
  },
  {
   "cell_type": "markdown",
   "metadata": {},
   "source": [
    "## Pipeline"
   ]
  },
  {
   "cell_type": "markdown",
   "metadata": {},
   "source": [
    "The best to deliver the model by pipeline the operation then at deployment can be done in one model."
   ]
  },
  {
   "cell_type": "markdown",
   "metadata": {
    "collapsed": true
   },
   "source": [
    "  I used two ways to check the pipeline so any one can be fine"
   ]
  },
  {
   "cell_type": "code",
   "execution_count": 22,
   "metadata": {
    "collapsed": false
   },
   "outputs": [
    {
     "name": "stdout",
     "output_type": "stream",
     "text": [
      "0.81818966255\n",
      "Scoring according to mean_squared_error\n",
      "[ -8.77226191 -16.39684201 -11.22331561 -15.36908429 -14.09655634\n",
      " -11.67568006 -13.39175778  -3.6911352  -14.33735833  -6.07914937]\n",
      "\n",
      " Mean      Standard deviation\n",
      "-11.50      3.94\n",
      "[ True  True  True  True  True  True  True]\n",
      "R-squared =  0.81818966255\n"
     ]
    }
   ],
   "source": [
    "# Use Pipeline\n",
    "# ANOVA \n",
    "from sklearn.pipeline import Pipeline\n",
    "from sklearn.feature_selection import SelectKBest, f_regression\n",
    "anova_filter = SelectKBest(f_regression, k=7)\n",
    "LR = LinearRegression()\n",
    "anova_LinReg = Pipeline([('scaler_Input',scaler), ('anova', anova_filter), ('LinReg', LR)])\n",
    "# You can set the parameters using the names issued\n",
    "# For instance, fit using a k of 10 in the SelectKBest\n",
    "anova_LinReg.set_params(anova__k=7).fit(new_data, Y)\n",
    "prediction = anova_LinReg.predict(new_data)\n",
    "print anova_LinReg.score(new_data, Y)                        \n",
    "# getting the selected features chosen by anova_filter\n",
    "results = cross_validation.cross_val_score(anova_LinReg, new_data, Y, cv=kfold, scoring=scoring)\n",
    "print 'Scoring according to mean_squared_error'\n",
    "print results\n",
    "print '\\n Mean      Standard deviation'\n",
    "print(\"%.2f      %.2f\" % (results.mean(), results.std()))\n",
    "print anova_LinReg.named_steps['anova'].get_support()\n",
    "r_squared = r2_score(Y, prediction, multioutput='variance_weighted')\n",
    "print 'R-squared = ',r_squared"
   ]
  },
  {
   "cell_type": "code",
   "execution_count": 23,
   "metadata": {
    "collapsed": false
   },
   "outputs": [
    {
     "name": "stdout",
     "output_type": "stream",
     "text": [
      "R-squared =  0.81818966255\n"
     ]
    }
   ],
   "source": [
    "# Using make_pipeline\n",
    "from sklearn.pipeline import make_pipeline\n",
    "\n",
    "# ANOVA SVM-C\n",
    "# 1) anova filter, take 3 best ranked features\n",
    "anova_filter = SelectKBest(f_regression, k=7)\n",
    "anova_lr = make_pipeline(scaler, anova_filter, LR)\n",
    "anova_lr.fit(new_data, Y)\n",
    "prediction = anova_lr.predict(new_data)\n",
    "r_squared = r2_score(Y, prediction, multioutput='variance_weighted')\n",
    "print 'R-squared = ',r_squared"
   ]
  },
  {
   "cell_type": "markdown",
   "metadata": {},
   "source": [
    "### Save the Pipeline model for developement"
   ]
  },
  {
   "cell_type": "code",
   "execution_count": 24,
   "metadata": {
    "collapsed": false
   },
   "outputs": [
    {
     "data": {
      "text/plain": [
       "['anova_lr.pkl',\n",
       " 'anova_lr.pkl_01.npy',\n",
       " 'anova_lr.pkl_02.npy',\n",
       " 'anova_lr.pkl_03.npy',\n",
       " 'anova_lr.pkl_04.npy',\n",
       " 'anova_lr.pkl_05.npy',\n",
       " 'anova_lr.pkl_06.npy',\n",
       " 'anova_lr.pkl_07.npy']"
      ]
     },
     "execution_count": 24,
     "metadata": {},
     "output_type": "execute_result"
    }
   ],
   "source": [
    "# save the model scaler to the desk\n",
    "from sklearn.externals import joblib\n",
    "joblib.dump(anova_lr, 'anova_lr.pkl') "
   ]
  },
  {
   "cell_type": "code",
   "execution_count": 25,
   "metadata": {
    "collapsed": false
   },
   "outputs": [
    {
     "name": "stdout",
     "output_type": "stream",
     "text": [
      " =================================================================>>>>> done\n",
      "R-squared =  0.81818966255\n"
     ]
    }
   ],
   "source": [
    "# Test the model if it is work\n",
    "anova_lrTest = joblib.load('anova_lr.pkl')\n",
    "NewPred = anova_lrTest.predict(new_data)\n",
    "print \" =================================================================>>>>> done\"\n",
    "r_squared = r2_score(Y, NewPred, multioutput='variance_weighted')\n",
    "print 'R-squared = ',r_squared"
   ]
  },
  {
   "cell_type": "code",
   "execution_count": 26,
   "metadata": {
    "collapsed": false
   },
   "outputs": [
    {
     "name": "stdout",
     "output_type": "stream",
     "text": [
      "Point of training data before normalization\n",
      "[  4.00000000e+00   9.70000000e+01   5.10000000e+01   2.13000000e+03\n",
      "   2.46000000e+01   8.20000000e+01   2.00000000e+00]\n",
      "\n",
      "The read target of the data =  44.0\n",
      "\n",
      "The Predicted target of the data =  [ 35.55854301]\n"
     ]
    }
   ],
   "source": [
    "# test on single data point, randomly choose point number 55\n",
    "print 'Point of training data before normalization\\n',new_data[55]\n",
    "print '\\nThe read target of the data = ', Y[55]\n",
    "NewPred = anova_lrTest.predict([new_data[55]])\n",
    "print '\\nThe Predicted target of the data = ', NewPred\n",
    "\n"
   ]
  },
  {
   "cell_type": "markdown",
   "metadata": {},
   "source": [
    "## Conclusion "
   ]
  },
  {
   "cell_type": "markdown",
   "metadata": {},
   "source": [
    "From the learning cure the model shows some high bias even though the model started to learn about the structure of the data."
   ]
  }
 ],
 "metadata": {
  "kernelspec": {
   "display_name": "Python 2",
   "language": "python",
   "name": "python2"
  },
  "language_info": {
   "codemirror_mode": {
    "name": "ipython",
    "version": 2
   },
   "file_extension": ".py",
   "mimetype": "text/x-python",
   "name": "python",
   "nbconvert_exporter": "python",
   "pygments_lexer": "ipython2",
   "version": "2.7.12"
  }
 },
 "nbformat": 4,
 "nbformat_minor": 0
}
