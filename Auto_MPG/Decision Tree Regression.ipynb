{
 "cells": [
  {
   "cell_type": "markdown",
   "metadata": {},
   "source": [
    "Salem Ameen, PhD student at Salford University\n",
    "\n",
    "### Auto MPG \n",
    "\n",
    "Decision trees Regression"
   ]
  },
  {
   "cell_type": "markdown",
   "metadata": {},
   "source": [
    "# Import the Libraries"
   ]
  },
  {
   "cell_type": "code",
   "execution_count": 1,
   "metadata": {
    "collapsed": false
   },
   "outputs": [
    {
     "data": {
      "text/html": [
       "\n",
       "    <div class=\"bk-root\">\n",
       "        <a href=\"http://bokeh.pydata.org\" target=\"_blank\" class=\"bk-logo bk-logo-small bk-logo-notebook\"></a>\n",
       "        <span id=\"8bd7ed71-3f46-4f81-b3d5-e48fc0b930a1\">Loading BokehJS ...</span>\n",
       "    </div>"
      ]
     },
     "metadata": {},
     "output_type": "display_data"
    },
    {
     "data": {
      "application/javascript": [
       "\n",
       "(function(global) {\n",
       "  function now() {\n",
       "    return new Date();\n",
       "  }\n",
       "\n",
       "  var force = \"1\";\n",
       "\n",
       "  if (typeof (window._bokeh_onload_callbacks) === \"undefined\" || force !== \"\") {\n",
       "    window._bokeh_onload_callbacks = [];\n",
       "    window._bokeh_is_loading = undefined;\n",
       "  }\n",
       "\n",
       "\n",
       "  \n",
       "  if (typeof (window._bokeh_timeout) === \"undefined\" || force !== \"\") {\n",
       "    window._bokeh_timeout = Date.now() + 5000;\n",
       "    window._bokeh_failed_load = false;\n",
       "  }\n",
       "\n",
       "  var NB_LOAD_WARNING = {'data': {'text/html':\n",
       "     \"<div style='background-color: #fdd'>\\n\"+\n",
       "     \"<p>\\n\"+\n",
       "     \"BokehJS does not appear to have successfully loaded. If loading BokehJS from CDN, this \\n\"+\n",
       "     \"may be due to a slow or bad network connection. Possible fixes:\\n\"+\n",
       "     \"</p>\\n\"+\n",
       "     \"<ul>\\n\"+\n",
       "     \"<li>re-rerun `output_notebook()` to attempt to load from CDN again, or</li>\\n\"+\n",
       "     \"<li>use INLINE resources instead, as so:</li>\\n\"+\n",
       "     \"</ul>\\n\"+\n",
       "     \"<code>\\n\"+\n",
       "     \"from bokeh.resources import INLINE\\n\"+\n",
       "     \"output_notebook(resources=INLINE)\\n\"+\n",
       "     \"</code>\\n\"+\n",
       "     \"</div>\"}};\n",
       "\n",
       "  function display_loaded() {\n",
       "    if (window.Bokeh !== undefined) {\n",
       "      Bokeh.$(\"#8bd7ed71-3f46-4f81-b3d5-e48fc0b930a1\").text(\"BokehJS successfully loaded.\");\n",
       "    } else if (Date.now() < window._bokeh_timeout) {\n",
       "      setTimeout(display_loaded, 100)\n",
       "    }\n",
       "  }\n",
       "\n",
       "  function run_callbacks() {\n",
       "    window._bokeh_onload_callbacks.forEach(function(callback) { callback() });\n",
       "    delete window._bokeh_onload_callbacks\n",
       "    console.info(\"Bokeh: all callbacks have finished\");\n",
       "  }\n",
       "\n",
       "  function load_libs(js_urls, callback) {\n",
       "    window._bokeh_onload_callbacks.push(callback);\n",
       "    if (window._bokeh_is_loading > 0) {\n",
       "      console.log(\"Bokeh: BokehJS is being loaded, scheduling callback at\", now());\n",
       "      return null;\n",
       "    }\n",
       "    if (js_urls == null || js_urls.length === 0) {\n",
       "      run_callbacks();\n",
       "      return null;\n",
       "    }\n",
       "    console.log(\"Bokeh: BokehJS not loaded, scheduling load and callback at\", now());\n",
       "    window._bokeh_is_loading = js_urls.length;\n",
       "    for (var i = 0; i < js_urls.length; i++) {\n",
       "      var url = js_urls[i];\n",
       "      var s = document.createElement('script');\n",
       "      s.src = url;\n",
       "      s.async = false;\n",
       "      s.onreadystatechange = s.onload = function() {\n",
       "        window._bokeh_is_loading--;\n",
       "        if (window._bokeh_is_loading === 0) {\n",
       "          console.log(\"Bokeh: all BokehJS libraries loaded\");\n",
       "          run_callbacks()\n",
       "        }\n",
       "      };\n",
       "      s.onerror = function() {\n",
       "        console.warn(\"failed to load library \" + url);\n",
       "      };\n",
       "      console.log(\"Bokeh: injecting script tag for BokehJS library: \", url);\n",
       "      document.getElementsByTagName(\"head\")[0].appendChild(s);\n",
       "    }\n",
       "  };var element = document.getElementById(\"8bd7ed71-3f46-4f81-b3d5-e48fc0b930a1\");\n",
       "  if (element == null) {\n",
       "    console.log(\"Bokeh: ERROR: autoload.js configured with elementid '8bd7ed71-3f46-4f81-b3d5-e48fc0b930a1' but no matching script tag was found. \")\n",
       "    return false;\n",
       "  }\n",
       "\n",
       "  var js_urls = ['https://cdn.pydata.org/bokeh/release/bokeh-0.12.2.min.js', 'https://cdn.pydata.org/bokeh/release/bokeh-widgets-0.12.2.min.js', 'https://cdn.pydata.org/bokeh/release/bokeh-compiler-0.12.2.min.js'];\n",
       "\n",
       "  var inline_js = [\n",
       "    function(Bokeh) {\n",
       "      Bokeh.set_log_level(\"info\");\n",
       "    },\n",
       "    \n",
       "    function(Bokeh) {\n",
       "      \n",
       "      Bokeh.$(\"#8bd7ed71-3f46-4f81-b3d5-e48fc0b930a1\").text(\"BokehJS is loading...\");\n",
       "    },\n",
       "    function(Bokeh) {\n",
       "      console.log(\"Bokeh: injecting CSS: https://cdn.pydata.org/bokeh/release/bokeh-0.12.2.min.css\");\n",
       "      Bokeh.embed.inject_css(\"https://cdn.pydata.org/bokeh/release/bokeh-0.12.2.min.css\");\n",
       "      console.log(\"Bokeh: injecting CSS: https://cdn.pydata.org/bokeh/release/bokeh-widgets-0.12.2.min.css\");\n",
       "      Bokeh.embed.inject_css(\"https://cdn.pydata.org/bokeh/release/bokeh-widgets-0.12.2.min.css\");\n",
       "    }\n",
       "  ];\n",
       "\n",
       "  function run_inline_js() {\n",
       "    \n",
       "    if ((window.Bokeh !== undefined) || (force === \"1\")) {\n",
       "      for (var i = 0; i < inline_js.length; i++) {\n",
       "        inline_js[i](window.Bokeh);\n",
       "      }if (force === \"1\") {\n",
       "        display_loaded();\n",
       "      }} else if (Date.now() < window._bokeh_timeout) {\n",
       "      setTimeout(run_inline_js, 100);\n",
       "    } else if (!window._bokeh_failed_load) {\n",
       "      console.log(\"Bokeh: BokehJS failed to load within specified timeout.\");\n",
       "      window._bokeh_failed_load = true;\n",
       "    } else if (!force) {\n",
       "      var cell = $(\"#8bd7ed71-3f46-4f81-b3d5-e48fc0b930a1\").parents('.cell').data().cell;\n",
       "      cell.output_area.append_execute_result(NB_LOAD_WARNING)\n",
       "    }\n",
       "\n",
       "  }\n",
       "\n",
       "  if (window._bokeh_is_loading === 0) {\n",
       "    console.log(\"Bokeh: BokehJS loaded, going straight to plotting\");\n",
       "    run_inline_js();\n",
       "  } else {\n",
       "    load_libs(js_urls, function() {\n",
       "      console.log(\"Bokeh: BokehJS plotting callback run at\", now());\n",
       "      run_inline_js();\n",
       "    });\n",
       "  }\n",
       "}(this));"
      ]
     },
     "metadata": {},
     "output_type": "display_data"
    }
   ],
   "source": [
    "import numpy as np\n",
    "import pandas\n",
    "from numpy import *\n",
    "import time\n",
    "import sys\n",
    "import pandas as pd\n",
    "import matplotlib.pyplot as plt\n",
    "from sklearn import feature_selection\n",
    "from sklearn.tree import DecisionTreeRegressor\n",
    "from sklearn.learning_curve import learning_curve, validation_curve\n",
    "from sklearn.cross_validation import cross_val_predict\n",
    "from sklearn import metrics, grid_search, cross_validation\n",
    "from IPython.display import set_matplotlib_formats\n",
    "from bokeh.plotting import figure, show, output_notebook\n",
    "from sklearn.grid_search import GridSearchCV, RandomizedSearchCV\n",
    "from sklearn.metrics import r2_score\n",
    "from bokeh.layouts import gridplot\n",
    "output_notebook()\n",
    "set_matplotlib_formats('png', 'pdf')\n",
    "%matplotlib inline\n",
    "plt.rcParams['figure.figsize'] = (6, 6)"
   ]
  },
  {
   "cell_type": "markdown",
   "metadata": {},
   "source": [
    "# Load data"
   ]
  },
  {
   "cell_type": "markdown",
   "metadata": {},
   "source": [
    "In the previous file we have not change the data as there is no missing value or add any new parameters so it can be downloaded from the web directly. "
   ]
  },
  {
   "cell_type": "code",
   "execution_count": 2,
   "metadata": {
    "collapsed": false
   },
   "outputs": [
    {
     "name": "stdout",
     "output_type": "stream",
     "text": [
      "Number of examples 398\n"
     ]
    }
   ],
   "source": [
    "url = 'http://archive.ics.uci.edu/ml/machine-learning-databases/auto-mpg/auto-mpg.data'\n",
    "names = ['mpg', 'cylinders', 'displacement', 'horsepower', 'weight', 'acceleration', 'year','origin','name']\n",
    "feature_names = ['mpg', 'cylinders', 'displacement', 'horsepower', 'weight', 'acceleration', 'year','origin']\n",
    "feature_cols = ['mpg', 'cylinders', 'displacement', 'horsepower', 'weight', 'acceleration', 'year','origin']\n",
    "data = pd.read_csv(url, sep='\\s+', names = names)\n",
    "data = data.drop('name',1)\n",
    "from sklearn import preprocessing\n",
    "\n",
    "def number_encode_features(df):\n",
    "    result = df.copy()\n",
    "    encoders = {}\n",
    "    for column in result.columns:\n",
    "        if result.dtypes[column] == np.object:\n",
    "            encoders[column] = preprocessing.LabelEncoder()\n",
    "            result[column] = encoders[column].fit_transform(result[column])\n",
    "    return result, encoders\n",
    "\n",
    "data, _ = number_encode_features(data)\n",
    "\n",
    "dataset = data.values\n",
    "X = dataset[:,1:8]\n",
    "Y = dataset[:,0]\n",
    "print 'Number of examples',len(X)"
   ]
  },
  {
   "cell_type": "code",
   "execution_count": 3,
   "metadata": {
    "collapsed": false
   },
   "outputs": [
    {
     "name": "stdout",
     "output_type": "stream",
     "text": [
      "Number of training examples 318\n",
      "Number of validation examples 80\n"
     ]
    }
   ],
   "source": [
    "# Make developement dataset for genrilization and final testing\n",
    "from sklearn.cross_validation import train_test_split\n",
    "# Extracting 20% testing data\n",
    "X_train, X_test, y_train, y_test = train_test_split(\n",
    "    X, Y, test_size=0.20, random_state=0)\n",
    "X = X_train\n",
    "Y = y_train\n",
    "new_data      = X_train\n",
    "new_test_data = X_test\n",
    "print 'Number of training examples',len(X_train)\n",
    "print 'Number of validation examples',len(X_test)"
   ]
  },
  {
   "cell_type": "markdown",
   "metadata": {},
   "source": [
    "Number of training data is very small so we need to use cross validation instead of spareate another validation data."
   ]
  },
  {
   "cell_type": "markdown",
   "metadata": {},
   "source": [
    "From the previous visulization the data has no missing value but has many outlier and some sparisty"
   ]
  },
  {
   "cell_type": "markdown",
   "metadata": {},
   "source": [
    "# Ranking of the feature's importance to the target"
   ]
  },
  {
   "cell_type": "code",
   "execution_count": 4,
   "metadata": {
    "collapsed": false
   },
   "outputs": [
    {
     "name": "stdout",
     "output_type": "stream",
     "text": [
      "mpg \t1.0\n",
      "cylinders \t0.637242089916\n",
      "displacement \t0.815077207897\n",
      "horsepower \t0.793267880581\n",
      "weight \t0.9630669809\n",
      "acceleration \t0.516023027818\n",
      "year \t0.428893949289\n",
      "origin \t0.332864469155\n"
     ]
    }
   ],
   "source": [
    "# Using just correlation coefficient even in prevoius file we show them using data frame\n",
    "for col in feature_cols:\n",
    "    lm = DecisionTreeRegressor()\n",
    "    lm.fit(data[[col]], data['mpg'])\n",
    "    print col,'\\t', lm.score(data[[col]], data['mpg'])"
   ]
  },
  {
   "cell_type": "code",
   "execution_count": 5,
   "metadata": {
    "collapsed": false
   },
   "outputs": [
    {
     "name": "stdout",
     "output_type": "stream",
     "text": [
      "Feature Name      Score         Pvalue\n",
      "mpg \t\t8.91712726219e+17 \t0.0\n",
      "cylinders \t\t597.077047852 \t4.50399224618e-81\n",
      "displacement \t\t724.994303368 \t1.65588891019e-91\n",
      "horsepower \t\t101.546001862 \t2.06258705842e-21\n",
      "weight \t\t888.850682648 \t2.97279956405e-103\n",
      "acceleration \t\t84.9577002497 \t1.82309153508e-18\n",
      "year \t\t199.98200802 \t4.84493581337e-37\n",
      "origin \t\t184.199639369 \t1.01148221023e-34\n"
     ]
    }
   ],
   "source": [
    "# Randing the important features to the target\n",
    "model = feature_selection.SelectKBest(score_func=feature_selection.f_regression,k=4)\n",
    "results = model.fit(data[feature_cols], data['mpg'])\n",
    "k=0\n",
    "print 'Feature Name      Score         Pvalue'\n",
    "for feat in feature_cols:\n",
    "    print feat,'\\t\\t',results.scores_[k],'\\t',results.pvalues_[k]\n",
    "    k=k+1\n"
   ]
  },
  {
   "cell_type": "markdown",
   "metadata": {},
   "source": [
    "# Set the parameters for cross validation"
   ]
  },
  {
   "cell_type": "code",
   "execution_count": 6,
   "metadata": {
    "collapsed": true
   },
   "outputs": [],
   "source": [
    "num_folds = 10\n",
    "num_instances = len(X)\n",
    "seed = 7\n",
    "kfold = cross_validation.KFold(n=num_instances, n_folds=num_folds, random_state=seed)"
   ]
  },
  {
   "cell_type": "markdown",
   "metadata": {},
   "source": [
    " # Set the parameters for bias-variance dilemma"
   ]
  },
  {
   "cell_type": "code",
   "execution_count": 7,
   "metadata": {
    "collapsed": false
   },
   "outputs": [],
   "source": [
    "def plot_learning_curve(estimator, title, X, y, ylim=None, cv=None,\n",
    "                        n_jobs=1, train_sizes=np.linspace(.1, 1.0, 5)):\n",
    "    plt.figure()\n",
    "    plt.title(title)\n",
    "    if ylim is not None:\n",
    "        plt.ylim(*ylim)\n",
    "    plt.xlabel(\"Training examples\")\n",
    "    plt.ylabel(\"Score\")\n",
    "    train_sizes, train_scores, test_scores = learning_curve(\n",
    "        estimator, X, y, cv=cv, n_jobs=n_jobs, train_sizes=train_sizes)\n",
    "    train_scores_mean = np.mean(train_scores, axis=1)\n",
    "    train_scores_std = np.std(train_scores, axis=1)\n",
    "    test_scores_mean = np.mean(test_scores, axis=1)\n",
    "    test_scores_std = np.std(test_scores, axis=1)\n",
    "    plt.grid()\n",
    "\n",
    "    plt.fill_between(train_sizes, train_scores_mean - train_scores_std,\n",
    "                     train_scores_mean + train_scores_std, alpha=0.1,\n",
    "                     color=\"r\")\n",
    "    plt.fill_between(train_sizes, test_scores_mean - test_scores_std,\n",
    "                     test_scores_mean + test_scores_std, alpha=0.1, color=\"g\")\n",
    "    plt.plot(train_sizes, train_scores_mean, 'o-', color=\"r\",\n",
    "             label=\"Training score\")\n",
    "    plt.plot(train_sizes, test_scores_mean, 'o-', color=\"g\",\n",
    "             label=\"Cross-validation score\")\n",
    "\n",
    "    plt.legend(loc=\"best\")\n",
    "    return plt"
   ]
  },
  {
   "cell_type": "markdown",
   "metadata": {},
   "source": [
    "# Preprocessing the data and save both the model and preprocessed data"
   ]
  },
  {
   "cell_type": "code",
   "execution_count": 8,
   "metadata": {
    "collapsed": true
   },
   "outputs": [],
   "source": [
    "# According to the nature of the data spasity and there is outliter RobustScaler class is recomandit \n",
    "# but when I tried both of them the result seems is same\n",
    "from sklearn.preprocessing import StandardScaler\n",
    "scaler = preprocessing.StandardScaler().fit(X_train)"
   ]
  },
  {
   "cell_type": "code",
   "execution_count": 9,
   "metadata": {
    "collapsed": true
   },
   "outputs": [],
   "source": [
    "X_train = scaler.transform(X_train)\n",
    "X_test = scaler.transform(X_test) # use same transform for testing data\n",
    "X = X_train"
   ]
  },
  {
   "cell_type": "code",
   "execution_count": 10,
   "metadata": {
    "collapsed": true
   },
   "outputs": [],
   "source": [
    "# save transformed data\n",
    "np.save('./data/X_train', X_train)\n",
    "np.save('./data/y_train', y_train)\n",
    "np.save('./data/X_test', X_test)\n",
    "np.save('./data/y_test', y_test)"
   ]
  },
  {
   "cell_type": "code",
   "execution_count": 11,
   "metadata": {
    "collapsed": false
   },
   "outputs": [
    {
     "data": {
      "text/plain": [
       "['scaler.pkl', 'scaler.pkl_01.npy', 'scaler.pkl_02.npy', 'scaler.pkl_03.npy']"
      ]
     },
     "execution_count": 11,
     "metadata": {},
     "output_type": "execute_result"
    }
   ],
   "source": [
    "# save the model scaler to the desk\n",
    "from sklearn.externals import joblib\n",
    "joblib.dump(scaler, 'scaler.pkl') "
   ]
  },
  {
   "cell_type": "code",
   "execution_count": 12,
   "metadata": {
    "collapsed": false
   },
   "outputs": [
    {
     "name": "stdout",
     "output_type": "stream",
     "text": [
      " =================================================================>>>>> done\n",
      "[[  1.49526939e+00   1.55114495e+00  -7.35914828e-01   1.38121932e+00\n",
      "   -9.80600673e-01  -1.13752513e+00  -7.33011713e-01]\n",
      " [ -8.52857354e-01  -5.04710772e-01   6.08839749e-01  -4.99341807e-01\n",
      "    5.02543270e-01  -5.89029314e-01  -7.33011713e-01]\n",
      " [  1.49526939e+00   1.07371874e+00  -9.71246879e-01   1.57674079e+00\n",
      "    1.31757284e-01  -1.13752513e+00  -7.33011713e-01]\n",
      " [ -8.52857354e-01  -6.99578613e-01   1.01226612e+00   1.84938650e-02\n",
      "    1.42950823e+00  -1.13752513e+00   5.06869802e-01]\n",
      " [  3.21206016e-01   3.91681296e-01  -1.71086190e+00   3.84652269e-01\n",
      "   -5.36357086e-02  -1.41177304e+00  -7.33011713e-01]\n",
      " [ -8.52857354e-01  -1.16726143e+00   4.40745427e-01  -1.60018698e+00\n",
      "    8.73329255e-01  -1.41177304e+00   1.74675132e+00]\n",
      " [ -8.52857354e-01  -1.03085394e+00   3.06269969e-01  -1.17122470e+00\n",
      "   -1.64871504e-01   7.82210231e-01   1.74675132e+00]\n",
      " [ -8.52857354e-01  -5.04710772e-01   1.11312272e+00  -6.58128946e-01\n",
      "    1.42950823e+00  -1.13752513e+00  -7.33011713e-01]\n",
      " [  1.49526939e+00   2.02857116e+00  -8.03152557e-01   9.45147172e-01\n",
      "   -2.27835162e+00  -1.68602095e+00  -7.33011713e-01]\n",
      " [  3.21206016e-01  -1.83178834e-01  -1.50914871e+00  -2.82490713e-01\n",
      "   -1.12891507e+00   1.33070605e+00  -7.33011713e-01]\n",
      " [ -8.52857354e-01  -1.04059733e+00   1.41569250e+00  -1.33712172e+00\n",
      "    6.13779065e-01   1.05645814e+00   5.06869802e-01]\n",
      " [ -8.52857354e-01  -1.03085394e+00   3.06269969e-01  -1.11908564e+00\n",
      "    2.80071678e-01   1.05645814e+00   1.74675132e+00]\n",
      " [  3.21206016e-01   5.67062353e-01   1.04588499e+00   6.82629684e-02\n",
      "    3.17150277e-01  -8.63277223e-01  -7.33011713e-01]\n",
      " [ -8.52857354e-01  -9.23676630e-01   7.09379184e-02  -8.40615659e-01\n",
      "    2.91265218e+00  -1.13752513e+00   5.06869802e-01]\n",
      " [  1.49526939e+00   1.22961301e+00  -9.04009151e-01   1.39425408e+00\n",
      "   -7.21050483e-01   2.33714413e-01  -7.33011713e-01]\n",
      " [ -8.52857354e-01  -9.13933237e-01   7.76934072e-01  -1.24232342e+00\n",
      "   -4.61500293e-01   7.82210231e-01  -7.33011713e-01]\n",
      " [ -8.52857354e-01  -7.09322005e-01   8.44171801e-01  -2.88415606e-01\n",
      "    1.39242964e+00   1.60495396e+00  -7.33011713e-01]\n",
      " [ -8.52857354e-01  -3.97533459e-01   1.11312272e+00  -2.70640927e-01\n",
      "    8.73329255e-01   1.60495396e+00  -7.33011713e-01]\n",
      " [  3.21206016e-01   3.23477552e-01  -1.61000530e+00   7.69770331e-01\n",
      "    3.17150277e-01  -5.89029314e-01  -7.33011713e-01]\n",
      " [ -8.52857354e-01  -9.82136982e-01   4.40745427e-01  -9.87553012e-01\n",
      "   -3.50264497e-01   7.82210231e-01   5.06869802e-01]\n",
      " [  1.49526939e+00   2.02857116e+00  -4.33345048e-01   1.61347513e+00\n",
      "   -1.27722946e+00   2.33714413e-01  -7.33011713e-01]\n",
      " [ -8.52857354e-01  -5.04710772e-01   7.09696343e-01  -4.40092874e-01\n",
      "    1.05872225e+00  -3.14781405e-01  -7.33011713e-01]\n",
      " [ -8.52857354e-01  -7.09322005e-01   1.34845477e+00  -4.95786871e-01\n",
      "    5.02543270e-01  -3.14781405e-01   1.74675132e+00]\n",
      " [ -8.52857354e-01  -6.89835221e-01  -1.47552985e+00  -3.60151531e-02\n",
      "   -4.24421694e-01  -1.13752513e+00   5.06869802e-01]\n",
      " [ -8.52857354e-01  -8.45729493e-01   4.74364292e-01  -9.63853439e-01\n",
      "   -2.76107300e-01   7.82210231e-01  -7.33011713e-01]\n",
      " [  3.21206016e-01  -2.31895795e-01  -1.37467325e+00  -7.51194487e-02\n",
      "   -1.12891507e+00   1.33070605e+00   1.74675132e+00]\n",
      " [ -8.52857354e-01  -9.13933237e-01   3.39888834e-01  -1.37859597e+00\n",
      "   -4.61500293e-01   5.07962322e-01  -7.33011713e-01]\n",
      " [ -8.52857354e-01  -7.77525749e-01   1.04588499e+00  -6.73533669e-01\n",
      "    8.73329255e-01   1.60495396e+00  -7.33011713e-01]\n",
      " [ -8.52857354e-01  -5.53427732e-01   9.11409529e-01  -6.85383455e-01\n",
      "   -1.01767927e+00   1.33070605e+00  -7.33011713e-01]\n",
      " [  3.21206016e-01   6.45009489e-01  -1.50914871e+00   7.92284926e-01\n",
      "    8.73329255e-01  -5.89029314e-01  -7.33011713e-01]\n",
      " [  3.21206016e-01   3.23477552e-01  -1.50914871e+00   7.78065182e-01\n",
      "    1.13287945e+00   5.07962322e-01  -7.33011713e-01]\n",
      " [ -8.52857354e-01  -7.09322005e-01   1.18036045e+00  -6.27319501e-01\n",
      "   -2.39028701e-01   1.05645814e+00   1.74675132e+00]\n",
      " [  3.21206016e-01   5.67062353e-01   5.41602021e-01   5.55289195e-01\n",
      "    1.98568721e+00  -3.14781405e-01  -7.33011713e-01]\n",
      " [ -8.52857354e-01  -1.04059733e+00   4.74364292e-01  -1.20677406e+00\n",
      "    4.28386073e-01   2.33714413e-01   1.74675132e+00]\n",
      " [  3.21206016e-01   3.81937904e-01  -1.50914871e+00   5.35144558e-01\n",
      "    5.76000871e-02   1.33070605e+00  -7.33011713e-01]\n",
      " [ -8.52857354e-01  -5.63171124e-01   1.31483590e+00  -3.09745222e-01\n",
      "   -7.95207680e-01  -3.14781405e-01   1.74675132e+00]\n",
      " [  3.21206016e-01   3.91681296e-01   1.11312272e+00   2.93408913e-01\n",
      "    5.02543270e-01  -3.14781405e-01  -7.33011713e-01]\n",
      " [  1.49526939e+00   1.54140156e+00  -7.02295964e-01   1.65494939e+00\n",
      "   -2.76107300e-01   7.82210231e-01  -7.33011713e-01]\n",
      " [ -8.52857354e-01  -1.00162377e+00   5.07983156e-01  -1.23047364e+00\n",
      "   -6.09814687e-01   7.82210231e-01   5.06869802e-01]\n",
      " [  1.49526939e+00   2.31112953e+00  -3.66107319e-01   2.35645675e+00\n",
      "   -1.53677965e+00  -8.63277223e-01  -7.33011713e-01]\n",
      " [  1.49526939e+00   2.55471433e+00  -1.98012997e-01   1.64783951e+00\n",
      "   -2.46374461e+00  -1.68602095e+00  -7.33011713e-01]\n",
      " [  1.49526939e+00   1.54140156e+00  -6.01439371e-01   8.64568624e-01\n",
      "   -1.53677965e+00  -1.68602095e+00  -7.33011713e-01]\n",
      " [ -8.52857354e-01  -6.89835221e-01   7.76934072e-01  -3.47664539e-01\n",
      "   -2.39028701e-01   7.82210231e-01  -7.33011713e-01]\n",
      " [ -1.43988904e+00  -1.18674821e+00  -1.71086190e+00  -6.43909203e-01\n",
      "   -1.16599367e+00   1.05645814e+00   1.74675132e+00]\n",
      " [ -8.52857354e-01  -4.65737204e-01   1.31483590e+00  -3.53589432e-01\n",
      "   -6.46893286e-01   1.60495396e+00   1.74675132e+00]\n",
      " [ -8.52857354e-01  -6.89835221e-01  -1.50914871e+00  -3.59514326e-01\n",
      "   -6.09814687e-01  -8.63277223e-01   5.06869802e-01]\n",
      " [  3.21206016e-01   3.91681296e-01   1.11312272e+00   1.44101602e-01\n",
      "    7.25014861e-01  -4.05334960e-02  -7.33011713e-01]\n",
      " [  1.49526939e+00   1.54140156e+00  -4.66963913e-01   1.67864896e+00\n",
      "   -1.31430806e+00  -4.05334960e-02  -7.33011713e-01]\n",
      " [  3.21206016e-01  -3.58559891e-01  -1.57638644e+00  -5.82290313e-01\n",
      "   -6.09814687e-01  -8.63277223e-01  -7.33011713e-01]\n",
      " [ -8.52857354e-01  -1.09905769e+00   3.73507698e-01  -1.18544445e+00\n",
      "   -5.36357086e-02  -5.89029314e-01   5.06869802e-01]\n",
      " [ -8.52857354e-01  -9.13933237e-01   6.42458614e-01  -9.70963311e-01\n",
      "   -3.50264497e-01   1.05645814e+00   5.06869802e-01]\n",
      " [ -8.52857354e-01  -9.13933237e-01   8.77790665e-01  -8.82089912e-01\n",
      "    3.17150277e-01  -5.89029314e-01   5.06869802e-01]\n",
      " [  1.49526939e+00   1.07371874e+00  -1.20657893e+00   1.57792577e+00\n",
      "   -2.76107300e-01   2.33714413e-01  -7.33011713e-01]\n",
      " [ -8.52857354e-01  -1.01136716e+00   6.42458614e-01  -1.06457662e+00\n",
      "   -4.24421694e-01  -1.41177304e+00   5.06869802e-01]\n",
      " [  1.49526939e+00   1.86293349e+00  -5.34201642e-01   7.10521399e-01\n",
      "   -2.09295863e+00  -1.68602095e+00  -7.33011713e-01]\n",
      " [  1.49526939e+00   1.12243570e+00  -3.32488455e-01   1.67390904e+00\n",
      "   -2.39028701e-01  -1.68602095e+00  -7.33011713e-01]\n",
      " [  3.21206016e-01   6.45009489e-01  -1.50914871e+00  -1.65077215e-03\n",
      "   -7.95207680e-01  -1.41177304e+00  -7.33011713e-01]\n",
      " [  3.21206016e-01   7.98927508e-02   1.04588499e+00   1.14477136e-01\n",
      "    5.39621868e-01   1.33070605e+00  -7.33011713e-01]\n",
      " [ -8.52857354e-01  -5.53427732e-01   9.11409529e-01  -7.03158135e-01\n",
      "   -9.80600673e-01   1.60495396e+00  -7.33011713e-01]\n",
      " [  1.49526939e+00   1.07371874e+00  -9.71246879e-01   5.75433832e-01\n",
      "   -1.90756564e+00  -1.68602095e+00  -7.33011713e-01]\n",
      " [  3.21206016e-01   5.67062353e-01   7.09696343e-01   7.23556164e-01\n",
      "    1.98568721e+00  -4.05334960e-02  -7.33011713e-01]\n",
      " [ -8.52857354e-01  -5.04710772e-01   5.41602021e-01  -4.72087298e-01\n",
      "   -7.58129081e-01  -4.05334960e-02  -7.33011713e-01]\n",
      " [  3.21206016e-01   3.91681296e-01  -1.71086190e+00  -2.06652079e-01\n",
      "   -2.39028701e-01  -8.63277223e-01  -7.33011713e-01]\n",
      " [  3.21206016e-01   6.04059667e-02   1.28121704e+00  -1.54513018e-01\n",
      "   -5.36357086e-02  -1.68602095e+00  -7.33011713e-01]\n",
      " [  1.49526939e+00   1.54140156e+00  -4.66963913e-01   1.81966142e+00\n",
      "   -1.16599367e+00  -8.63277223e-01  -7.33011713e-01]\n",
      " [  1.49526939e+00   1.55114495e+00  -8.70390286e-01   2.00688805e+00\n",
      "   -7.95207680e-01  -3.14781405e-01  -7.33011713e-01]\n",
      " [  1.49526939e+00   2.31112953e+00  -3.66107319e-01   1.63243479e+00\n",
      "   -2.09295863e+00  -1.68602095e+00  -7.33011713e-01]\n",
      " [  3.21206016e-01   5.67062353e-01  -1.61000530e+00   5.87283619e-01\n",
      "    1.31757284e-01  -3.14781405e-01  -7.33011713e-01]\n",
      " [ -8.52857354e-01  -5.04710772e-01   8.77790665e-01  -3.84398877e-01\n",
      "    5.02543270e-01  -3.14781405e-01  -7.33011713e-01]\n",
      " [  1.49526939e+00   2.41830684e+00  -2.31631862e-01   1.59807041e+00\n",
      "   -2.64913761e+00  -1.68602095e+00  -7.33011713e-01]\n",
      " [ -8.52857354e-01  -9.23676630e-01   3.73507698e-01  -1.06457662e+00\n",
      "    7.99172058e-01   1.33070605e+00   1.74675132e+00]\n",
      " [  1.49526939e+00   1.54140156e+00  -7.02295964e-01   1.82321635e+00\n",
      "   -7.95207680e-01  -1.13752513e+00  -7.33011713e-01]\n",
      " [ -8.52857354e-01  -7.97012533e-01   1.01226612e+00  -3.45294582e-01\n",
      "    6.87936263e-01  -1.68602095e+00   5.06869802e-01]\n",
      " [  3.21206016e-01   3.23477552e-01  -1.71086190e+00   8.14799520e-01\n",
      "    7.62093460e-01  -4.05334960e-02  -7.33011713e-01]\n",
      " [ -8.52857354e-01  -7.67782357e-01   1.28121704e+00  -7.00788178e-01\n",
      "   -2.39028701e-01  -1.68602095e+00   1.74675132e+00]\n",
      " [ -8.52857354e-01  -8.45729493e-01   6.08839749e-01  -8.69055147e-01\n",
      "   -4.24421694e-01   5.07962322e-01  -7.33011713e-01]\n",
      " [ -8.52857354e-01  -9.23676630e-01   6.08839749e-01  -8.27580894e-01\n",
      "    9.47486452e-01   2.33714413e-01   1.74675132e+00]\n",
      " [ -8.52857354e-01  -1.06008412e+00   1.71794512e-01  -1.13804530e+00\n",
      "    1.24411524e+00  -5.89029314e-01   1.74675132e+00]\n",
      " [ -8.52857354e-01  -9.13933237e-01   1.38175647e-01  -9.47263738e-01\n",
      "    2.39355180e+00  -4.05334960e-02  -7.33011713e-01]\n",
      " [  1.49526939e+00   1.54140156e+00  -4.66963913e-01   8.30204243e-01\n",
      "   -1.72217264e+00  -8.63277223e-01  -7.33011713e-01]]\n"
     ]
    }
   ],
   "source": [
    "# Test the model if it is work\n",
    "scalerTest = joblib.load('scaler.pkl')\n",
    "new_data_scaled = scalerTest.transform(new_test_data)\n",
    "print \" =================================================================>>>>> done\"\n",
    "print new_data_scaled"
   ]
  },
  {
   "cell_type": "markdown",
   "metadata": {},
   "source": [
    "# 1. DecisionTreeRegressor  with   Regression"
   ]
  },
  {
   "cell_type": "markdown",
   "metadata": {},
   "source": [
    "Decision trees or the Classification and Regression Trees (CART as they are know) use the training data to select the best points to split the data in order to minimize a cost metric. The default cost metric for regression decision trees is the mean squared error, specified in the criterion parameter."
   ]
  },
  {
   "cell_type": "markdown",
   "metadata": {},
   "source": [
    "## Validation curve"
   ]
  },
  {
   "cell_type": "markdown",
   "metadata": {},
   "source": [
    "choosing multiple hyperparameters of an estimator "
   ]
  },
  {
   "cell_type": "code",
   "execution_count": 13,
   "metadata": {
    "collapsed": false
   },
   "outputs": [
    {
     "data": {
      "text/plain": [
       "['presort',\n",
       " 'splitter',\n",
       " 'max_leaf_nodes',\n",
       " 'min_samples_leaf',\n",
       " 'min_samples_split',\n",
       " 'min_weight_fraction_leaf',\n",
       " 'criterion',\n",
       " 'random_state',\n",
       " 'max_features',\n",
       " 'max_depth']"
      ]
     },
     "execution_count": 13,
     "metadata": {},
     "output_type": "execute_result"
    }
   ],
   "source": [
    "from sklearn.tree import DecisionTreeRegressor\n",
    "estimator = DecisionTreeRegressor()\n",
    "estimator.get_params().keys()"
   ]
  },
  {
   "cell_type": "code",
   "execution_count": 14,
   "metadata": {
    "collapsed": false
   },
   "outputs": [
    {
     "data": {
      "image/png": "[encoded data removed]",
      "text/plain": [
       "<matplotlib.figure.Figure at 0x7ff46f36f1d0>"
      ]
     },
     "metadata": {},
     "output_type": "display_data"
    }
   ],
   "source": [
    "# For parametr alpha\n",
    "#param_range = np.logspace(-10.0, 10.0)\n",
    "#param_range = np.linspace(1,50,100)\n",
    "param_range = np.arange(1,50) # generate integer numbers\n",
    "\n",
    "train_scores, test_scores = validation_curve(\n",
    "    DecisionTreeRegressor(), X, Y, param_name=\"max_depth\", param_range=param_range,\n",
    "    cv=num_folds,  n_jobs=-1)\n",
    "train_scores_mean = np.mean(train_scores, axis=1)\n",
    "train_scores_std = np.std(train_scores, axis=1)\n",
    "test_scores_mean = np.mean(test_scores, axis=1)\n",
    "test_scores_std = np.std(test_scores, axis=1)\n",
    "\n",
    "plt.title(\"Validation Curve with DecisionTreeRegressor\")\n",
    "plt.xlabel(\"max_depth\")\n",
    "plt.ylabel(\"Score\")\n",
    "plt.ylim(0.4, 1.0)\n",
    "plt.plot(param_range, train_scores_mean, label=\"Training score\", color=\"r\")\n",
    "plt.fill_between(param_range, train_scores_mean - train_scores_std,\n",
    "                 train_scores_mean + train_scores_std, alpha=0.2, color=\"r\")\n",
    "plt.plot(param_range, test_scores_mean, label=\"Cross-validation score\",\n",
    "             color=\"g\")\n",
    "plt.fill_between(param_range, test_scores_mean - test_scores_std,\n",
    "                 test_scores_mean + test_scores_std, alpha=0.2, color=\"g\")\n",
    "plt.legend(loc=\"best\")\n",
    "plt.show()"
   ]
  },
  {
   "cell_type": "markdown",
   "metadata": {},
   "source": [
    "more that 5 is the best of number of K"
   ]
  },
  {
   "cell_type": "code",
   "execution_count": 15,
   "metadata": {
    "collapsed": false
   },
   "outputs": [
    {
     "data": {
      "image/png": "[encoded data removed]",
      "text/plain": [
       "<matplotlib.figure.Figure at 0x7ff46ad2c890>"
      ]
     },
     "metadata": {},
     "output_type": "display_data"
    }
   ],
   "source": [
    "# For parametr alpha\n",
    "#param_range = np.logspace(-10.0, 10.0)\n",
    "#param_range = np.linspace(1,50,100)\n",
    "param_range = np.arange(1,10) # generate integer numbers\n",
    "\n",
    "train_scores, test_scores = validation_curve(\n",
    "    DecisionTreeRegressor(), X, Y, param_name=\"min_samples_split\", param_range=param_range,\n",
    "    cv=num_folds,  n_jobs=-1)\n",
    "train_scores_mean = np.mean(train_scores, axis=1)\n",
    "train_scores_std = np.std(train_scores, axis=1)\n",
    "test_scores_mean = np.mean(test_scores, axis=1)\n",
    "test_scores_std = np.std(test_scores, axis=1)\n",
    "\n",
    "plt.title(\"Validation Curve with DecisionTreeRegressor\")\n",
    "plt.xlabel(\"min_samples_split\")\n",
    "plt.ylabel(\"Score\")\n",
    "plt.ylim(0.4, 1.0)\n",
    "plt.plot(param_range, train_scores_mean, label=\"Training score\", color=\"r\")\n",
    "plt.fill_between(param_range, train_scores_mean - train_scores_std,\n",
    "                 train_scores_mean + train_scores_std, alpha=0.2, color=\"r\")\n",
    "plt.plot(param_range, test_scores_mean, label=\"Cross-validation score\",\n",
    "             color=\"g\")\n",
    "plt.fill_between(param_range, test_scores_mean - test_scores_std,\n",
    "                 test_scores_mean + test_scores_std, alpha=0.2, color=\"g\")\n",
    "plt.legend(loc=\"best\")\n",
    "plt.show()"
   ]
  },
  {
   "cell_type": "markdown",
   "metadata": {},
   "source": [
    "min_samples_split =2 (The defualt) is the best"
   ]
  },
  {
   "cell_type": "code",
   "execution_count": 16,
   "metadata": {
    "collapsed": false
   },
   "outputs": [
    {
     "data": {
      "image/png": "[encoded data removed]",
      "text/plain": [
       "<matplotlib.figure.Figure at 0x7ff46fcf0450>"
      ]
     },
     "metadata": {},
     "output_type": "display_data"
    }
   ],
   "source": [
    "# For parametr alpha\n",
    "#param_range = np.logspace(-10.0, 10.0)\n",
    "#param_range = np.linspace(1,50,100)\n",
    "param_range = np.arange(1,10) # generate integer numbers\n",
    "\n",
    "train_scores, test_scores = validation_curve(\n",
    "    DecisionTreeRegressor(), X, Y, param_name=\"min_samples_leaf\", param_range=param_range,\n",
    "    cv=num_folds,  n_jobs=-1)\n",
    "train_scores_mean = np.mean(train_scores, axis=1)\n",
    "train_scores_std = np.std(train_scores, axis=1)\n",
    "test_scores_mean = np.mean(test_scores, axis=1)\n",
    "test_scores_std = np.std(test_scores, axis=1)\n",
    "\n",
    "plt.title(\"Validation Curve with DecisionTreeRegressor\")\n",
    "plt.xlabel(\"min_samples_leaf\")\n",
    "plt.ylabel(\"Score\")\n",
    "plt.ylim(0.4, 1.0)\n",
    "plt.plot(param_range, train_scores_mean, label=\"Training score\", color=\"r\")\n",
    "plt.fill_between(param_range, train_scores_mean - train_scores_std,\n",
    "                 train_scores_mean + train_scores_std, alpha=0.2, color=\"r\")\n",
    "plt.plot(param_range, test_scores_mean, label=\"Cross-validation score\",\n",
    "             color=\"g\")\n",
    "plt.fill_between(param_range, test_scores_mean - test_scores_std,\n",
    "                 test_scores_mean + test_scores_std, alpha=0.2, color=\"g\")\n",
    "plt.legend(loc=\"best\")\n",
    "plt.show()"
   ]
  },
  {
   "cell_type": "markdown",
   "metadata": {},
   "source": [
    "min_samples_leaf = 2 is the best"
   ]
  },
  {
   "cell_type": "markdown",
   "metadata": {},
   "source": [
    "## Grid search and/or Random search to determine best compination of parameters"
   ]
  },
  {
   "cell_type": "code",
   "execution_count": 17,
   "metadata": {
    "collapsed": false
   },
   "outputs": [
    {
     "name": "stdout",
     "output_type": "stream",
     "text": [
      "Hyperparameter optimization using GridSearchCV...\n",
      "Parameters with rank: 1\n",
      "Mean validation score: 0.8194 (std: 0.0858)\n",
      "Parameters: {'min_samples_split': 1, 'max_depth': 6, 'min_samples_leaf': 1}\n",
      "\n",
      "Parameters with rank: 2\n",
      "Mean validation score: 0.8182 (std: 0.0682)\n",
      "Parameters: {'min_samples_split': 2, 'max_depth': 5, 'min_samples_leaf': 2}\n",
      "\n",
      "Parameters with rank: 3\n",
      "Mean validation score: 0.8178 (std: 0.0680)\n",
      "Parameters: {'min_samples_split': 1, 'max_depth': 5, 'min_samples_leaf': 2}\n",
      "\n",
      "Parameters with rank: 4\n",
      "Mean validation score: 0.8171 (std: 0.0830)\n",
      "Parameters: {'min_samples_split': 3, 'max_depth': 6, 'min_samples_leaf': 1}\n",
      "\n",
      "Parameters with rank: 5\n",
      "Mean validation score: 0.8146 (std: 0.0724)\n",
      "Parameters: {'min_samples_split': 1, 'max_depth': 5, 'min_samples_leaf': 1}\n",
      "\n",
      "+++++++++++++++++++++++++++++++++++++++++++++++\n",
      "Hyperparameter optimization using RandomizedSearchCV\n",
      "Parameters with rank: 1\n",
      "Mean validation score: 0.7892 (std: 0.0884)\n",
      "Parameters: {'min_samples_split': 1, 'max_depth': 10, 'min_samples_leaf': 1}\n",
      "\n",
      "Parameters with rank: 2\n",
      "Mean validation score: 0.7860 (std: 0.0859)\n",
      "Parameters: {'min_samples_split': 2, 'max_depth': 10, 'min_samples_leaf': 1}\n",
      "\n",
      "Parameters with rank: 3\n",
      "Mean validation score: 0.7713 (std: 0.0762)\n",
      "Parameters: {'min_samples_split': 2, 'max_depth': 10, 'min_samples_leaf': 2}\n",
      "\n",
      "Parameters with rank: 4\n",
      "Mean validation score: 0.4954 (std: 0.0741)\n",
      "Parameters: {'min_samples_split': 1, 'max_depth': 1, 'min_samples_leaf': 2}\n",
      "\n",
      "Parameters with rank: 5\n",
      "Mean validation score: 0.4954 (std: 0.0741)\n",
      "Parameters: {'min_samples_split': 2, 'max_depth': 1, 'min_samples_leaf': 1}\n",
      "\n"
     ]
    }
   ],
   "source": [
    "# Utility function to report optimal parameters\n",
    "from operator import itemgetter\n",
    "def report(grid_scores, n_top=5):\n",
    "    params = None\n",
    "    top_scores = sorted(grid_scores, key=itemgetter(1), reverse=True)[:n_top]\n",
    "    for i, score in enumerate(top_scores):\n",
    "        print(\"Parameters with rank: {0}\".format(i + 1))\n",
    "        print(\"Mean validation score: {0:.4f} (std: {1:.4f})\".format(\n",
    "              score.mean_validation_score, np.std(score.cv_validation_scores)))\n",
    "        print(\"Parameters: {0}\".format(score.parameters))\n",
    "        print(\"\")\n",
    "        \n",
    "        if params == None:\n",
    "            params = score.parameters\n",
    "    \n",
    "    return params\n",
    "\n",
    "# The most common value for the max number of features to look at in each split is sqrt(# of features)\n",
    "sqrtfeat = np.sqrt(X.shape[1]) \n",
    "grid_test1 = { \"max_depth\"      : np.arange(1,15),\n",
    "             \"min_samples_split\"      : np.arange(1,4),\n",
    "             \"min_samples_leaf\"    : np.arange(1,3)}\n",
    "\n",
    "# Large randomized test using max_depth to control tree size (5000 possible combinations)\n",
    "random_test1 = { \"max_depth\"      : [1,10],\n",
    "                \"min_samples_split\"      : [ 1,2],\n",
    "               \"min_samples_leaf\"   : [1,2]}\n",
    "\n",
    "\n",
    "forest =  DecisionTreeRegressor()\n",
    "\n",
    "print \"Hyperparameter optimization using GridSearchCV...\"\n",
    "grid_search = GridSearchCV(forest, grid_test1, n_jobs=-1, cv=num_folds)\n",
    "grid_search.fit(X, Y)\n",
    "best_params_from_grid_search = report(grid_search.grid_scores_)\n",
    "print '+++++++++++++++++++++++++++++++++++++++++++++++'\n",
    "print \"Hyperparameter optimization using RandomizedSearchCV\"\n",
    "grid_search = RandomizedSearchCV(forest, random_test1, n_jobs=-1, cv=num_folds, n_iter=5)\n",
    "grid_search.fit(X, Y)\n",
    "best_params_from_rand_search1 = report(grid_search.grid_scores_)"
   ]
  },
  {
   "cell_type": "markdown",
   "metadata": {},
   "source": [
    "Best 'min_samples_split': 3, 'max_depth': 7, 'min_samples_leaf': 1"
   ]
  },
  {
   "cell_type": "markdown",
   "metadata": {},
   "source": [
    "## Learning Curve "
   ]
  },
  {
   "cell_type": "markdown",
   "metadata": {},
   "source": [
    "In essence, what we’re doing it training the exact same model with increasingly large fractions of our total training data, and plotting the error of the training and test sets at each step."
   ]
  },
  {
   "cell_type": "code",
   "execution_count": 18,
   "metadata": {
    "collapsed": false
   },
   "outputs": [
    {
     "data": {
      "image/png": "[encoded data removed]",
      "text/plain": [
       "<matplotlib.figure.Figure at 0x7ff46adb3a50>"
      ]
     },
     "metadata": {},
     "output_type": "display_data"
    }
   ],
   "source": [
    "from sklearn.tree import DecisionTreeRegressor\n",
    "\n",
    "model =  DecisionTreeRegressor(min_samples_split = 3, max_depth = 7, min_samples_leaf =1 )\n",
    "title = \"Learning Curves (  DecisionTreeRegressor Refression)\"\n",
    "cv = cross_validation.ShuffleSplit(X.shape[0], n_iter=100,\n",
    "                                   test_size=0.2, random_state=0)\n",
    "plot_learning_curve(model, title, X, Y, ylim=(0.2, 1.01), cv=cv, n_jobs=-1)\n",
    "plt.show()"
   ]
  },
  {
   "cell_type": "code",
   "execution_count": 19,
   "metadata": {
    "collapsed": false
   },
   "outputs": [
    {
     "name": "stdout",
     "output_type": "stream",
     "text": [
      "train_sizes =  [ 50  80 110]\n",
      " training scores\n",
      " 50 training sizees\n",
      "0.994655087026 ± 0.003662076807\n",
      " 80 training sizees\n",
      "0.991547872438 ± 0.00551257055367\n",
      " 110 training sizees\n",
      "0.988636075416 ± 0.00634920250106\n",
      "\n",
      " validation scores\n",
      " 50 validation scores\n",
      "0.607324617411 ± 0.191614876349\n",
      " 80 validation scores\n",
      "0.676288099755 ± 0.113112318852\n",
      " 110 validation scores\n",
      "0.71201989436 ± 0.10274273915\n"
     ]
    }
   ],
   "source": [
    "# More data from learning curve to show the process of building the model\n",
    "train_sizes, train_scores, valid_scores = learning_curve(\n",
    "     model, X, Y, train_sizes=[50, 80, 110], cv=cv, n_jobs=4)\n",
    "\n",
    "print 'train_sizes = ', train_sizes\n",
    "\n",
    "print ' training scores'\n",
    "print ' 50 training sizees'\n",
    "print train_scores[0].mean(),'±',train_scores[0].std()\n",
    "print ' 80 training sizees'\n",
    "print train_scores[1].mean(),'±',train_scores[1].std()\n",
    "print ' 110 training sizees'\n",
    "print train_scores[2].mean(),'±',train_scores[2].std()\n",
    "\n",
    "print '\\n validation scores'\n",
    "print ' 50 validation scores'\n",
    "print valid_scores[0].mean(),'±',valid_scores[0].std()\n",
    "print ' 80 validation scores'\n",
    "print valid_scores[1].mean(),'±',valid_scores[1].std()\n",
    "print ' 110 validation scores'\n",
    "print valid_scores[2].mean(),'±',valid_scores[2].std()"
   ]
  },
  {
   "cell_type": "markdown",
   "metadata": {},
   "source": [
    "## Cross validation"
   ]
  },
  {
   "cell_type": "code",
   "execution_count": 20,
   "metadata": {
    "collapsed": false
   },
   "outputs": [
    {
     "name": "stdout",
     "output_type": "stream",
     "text": [
      "Scoring according to mean_squared_error\n",
      "[-12.30356661 -13.55862604  -9.32976378 -26.91150436 -13.42684723\n",
      "  -5.90368342 -13.70400285  -8.95584438  -6.00716094 -11.99818112]\n",
      "\n",
      " Mean      Standard deviation\n",
      "-12.21      5.65\n"
     ]
    },
    {
     "data": {
      "text/plain": [
       "DecisionTreeRegressor(criterion='mse', max_depth=7, max_features=None,\n",
       "           max_leaf_nodes=None, min_samples_leaf=1, min_samples_split=3,\n",
       "           min_weight_fraction_leaf=0.0, presort=False, random_state=None,\n",
       "           splitter='best')"
      ]
     },
     "execution_count": 20,
     "metadata": {},
     "output_type": "execute_result"
    }
   ],
   "source": [
    "scoring = 'mean_squared_error'\n",
    "results = cross_validation.cross_val_score(model, X, Y, cv=kfold, scoring=scoring)\n",
    "print 'Scoring according to mean_squared_error'\n",
    "print results\n",
    "print '\\n Mean      Standard deviation'\n",
    "print(\"%.2f      %.2f\" % (results.mean(), results.std()))\n",
    "## Fit the model\n",
    "model.fit(X,Y)\n"
   ]
  },
  {
   "cell_type": "markdown",
   "metadata": {},
   "source": [
    "## Coefficients Of Determination {Calculating R^2}\n",
    "\n",
    "R^2, Close to one is better"
   ]
  },
  {
   "cell_type": "code",
   "execution_count": 21,
   "metadata": {
    "collapsed": false
   },
   "outputs": [
    {
     "name": "stdout",
     "output_type": "stream",
     "text": [
      "R-squared =  0.807135829115\n"
     ]
    }
   ],
   "source": [
    "predicted = cross_val_predict(model, X, Y, cv=kfold)\n",
    "r_squared = r2_score(Y, predicted, multioutput='variance_weighted')\n",
    "print 'R-squared = ',r_squared"
   ]
  },
  {
   "cell_type": "markdown",
   "metadata": {},
   "source": [
    "## Residual Plot"
   ]
  },
  {
   "cell_type": "code",
   "execution_count": 22,
   "metadata": {
    "collapsed": false
   },
   "outputs": [
    {
     "data": {
      "image/png": "[encoded data removed]",
      "text/plain": [
       "<matplotlib.figure.Figure at 0x7ff46ad261d0>"
      ]
     },
     "metadata": {},
     "output_type": "display_data"
    }
   ],
   "source": [
    "predicted = cross_val_predict(model, X, Y, cv=kfold)\n",
    "fig, ax = plt.subplots()\n",
    "ax.scatter(Y, predicted)\n",
    "ax.plot([Y.min(), Y.max()], [Y.min(), Y.max()], 'k--', lw=4)\n",
    "ax.set_xlabel('Measured')\n",
    "ax.set_ylabel('Predicted')\n",
    "plt.show()"
   ]
  },
  {
   "cell_type": "code",
   "execution_count": 23,
   "metadata": {
    "collapsed": false
   },
   "outputs": [
    {
     "data": {
      "text/html": [
       "\n",
       "\n",
       "    <div class=\"bk-root\">\n",
       "        <div class=\"plotdiv\" id=\"cb2c5a98-2359-40d6-aca1-72423adabf2c\"></div>\n",
       "    </div>\n",
       "<script type=\"text/javascript\">\n",
       "  \n",
       "  (function(global) {\n",
       "    function now() {\n",
       "      return new Date();\n",
       "    }\n",
       "  \n",
       "    var force = \"\";\n",
       "  \n",
       "    if (typeof (window._bokeh_onload_callbacks) === \"undefined\" || force !== \"\") {\n",
       "      window._bokeh_onload_callbacks = [];\n",
       "      window._bokeh_is_loading = undefined;\n",
       "    }\n",
       "  \n",
       "  \n",
       "    \n",
       "    if (typeof (window._bokeh_timeout) === \"undefined\" || force !== \"\") {\n",
       "      window._bokeh_timeout = Date.now() + 0;\n",
       "      window._bokeh_failed_load = false;\n",
       "    }\n",
       "  \n",
       "    var NB_LOAD_WARNING = {'data': {'text/html':\n",
       "       \"<div style='background-color: #fdd'>\\n\"+\n",
       "       \"<p>\\n\"+\n",
       "       \"BokehJS does not appear to have successfully loaded. If loading BokehJS from CDN, this \\n\"+\n",
       "       \"may be due to a slow or bad network connection. Possible fixes:\\n\"+\n",
       "       \"</p>\\n\"+\n",
       "       \"<ul>\\n\"+\n",
       "       \"<li>re-rerun `output_notebook()` to attempt to load from CDN again, or</li>\\n\"+\n",
       "       \"<li>use INLINE resources instead, as so:</li>\\n\"+\n",
       "       \"</ul>\\n\"+\n",
       "       \"<code>\\n\"+\n",
       "       \"from bokeh.resources import INLINE\\n\"+\n",
       "       \"output_notebook(resources=INLINE)\\n\"+\n",
       "       \"</code>\\n\"+\n",
       "       \"</div>\"}};\n",
       "  \n",
       "    function display_loaded() {\n",
       "      if (window.Bokeh !== undefined) {\n",
       "        Bokeh.$(\"#cb2c5a98-2359-40d6-aca1-72423adabf2c\").text(\"BokehJS successfully loaded.\");\n",
       "      } else if (Date.now() < window._bokeh_timeout) {\n",
       "        setTimeout(display_loaded, 100)\n",
       "      }\n",
       "    }\n",
       "  \n",
       "    function run_callbacks() {\n",
       "      window._bokeh_onload_callbacks.forEach(function(callback) { callback() });\n",
       "      delete window._bokeh_onload_callbacks\n",
       "      console.info(\"Bokeh: all callbacks have finished\");\n",
       "    }\n",
       "  \n",
       "    function load_libs(js_urls, callback) {\n",
       "      window._bokeh_onload_callbacks.push(callback);\n",
       "      if (window._bokeh_is_loading > 0) {\n",
       "        console.log(\"Bokeh: BokehJS is being loaded, scheduling callback at\", now());\n",
       "        return null;\n",
       "      }\n",
       "      if (js_urls == null || js_urls.length === 0) {\n",
       "        run_callbacks();\n",
       "        return null;\n",
       "      }\n",
       "      console.log(\"Bokeh: BokehJS not loaded, scheduling load and callback at\", now());\n",
       "      window._bokeh_is_loading = js_urls.length;\n",
       "      for (var i = 0; i < js_urls.length; i++) {\n",
       "        var url = js_urls[i];\n",
       "        var s = document.createElement('script');\n",
       "        s.src = url;\n",
       "        s.async = false;\n",
       "        s.onreadystatechange = s.onload = function() {\n",
       "          window._bokeh_is_loading--;\n",
       "          if (window._bokeh_is_loading === 0) {\n",
       "            console.log(\"Bokeh: all BokehJS libraries loaded\");\n",
       "            run_callbacks()\n",
       "          }\n",
       "        };\n",
       "        s.onerror = function() {\n",
       "          console.warn(\"failed to load library \" + url);\n",
       "        };\n",
       "        console.log(\"Bokeh: injecting script tag for BokehJS library: \", url);\n",
       "        document.getElementsByTagName(\"head\")[0].appendChild(s);\n",
       "      }\n",
       "    };var element = document.getElementById(\"cb2c5a98-2359-40d6-aca1-72423adabf2c\");\n",
       "    if (element == null) {\n",
       "      console.log(\"Bokeh: ERROR: autoload.js configured with elementid 'cb2c5a98-2359-40d6-aca1-72423adabf2c' but no matching script tag was found. \")\n",
       "      return false;\n",
       "    }\n",
       "  \n",
       "    var js_urls = [];\n",
       "  \n",
       "    var inline_js = [\n",
       "      function(Bokeh) {\n",
       "        Bokeh.$(function() {\n",
       "            var docs_json = {\"1dabf262-b89c-4f15-908c-b32fac2a57aa\":{\"roots\":{\"references\":[{\"attributes\":{\"bottom_units\":\"screen\",\"fill_alpha\":{\"value\":0.5},\"fill_color\":{\"value\":\"lightgrey\"},\"left_units\":\"screen\",\"level\":\"overlay\",\"line_alpha\":{\"value\":1.0},\"line_color\":{\"value\":\"black\"},\"line_dash\":[4,4],\"line_width\":{\"value\":2},\"plot\":null,\"render_mode\":\"css\",\"right_units\":\"screen\",\"top_units\":\"screen\"},\"id\":\"f118de4b-adb6-4cec-a12d-d549b6f7559e\",\"type\":\"BoxAnnotation\"},{\"attributes\":{\"line_dash\":[4,4],\"line_width\":{\"value\":2},\"x\":{\"field\":\"x\"},\"y\":{\"field\":\"y\"}},\"id\":\"478e73ac-2b57-4e87-bf69-5fe5ea7ec226\",\"type\":\"Line\"},{\"attributes\":{\"fill_alpha\":{\"value\":0.5},\"fill_color\":{\"value\":\"lightgrey\"},\"level\":\"overlay\",\"line_alpha\":{\"value\":1.0},\"line_color\":{\"value\":\"black\"},\"line_dash\":[4,4],\"line_width\":{\"value\":2},\"plot\":null,\"xs_units\":\"screen\",\"ys_units\":\"screen\"},\"id\":\"e38410a7-1fac-4072-8d69-ccedeeeaaed7\",\"type\":\"PolyAnnotation\"},{\"attributes\":{\"callback\":null,\"plot\":{\"id\":\"8201a462-1b56-4f8e-9e96-7931f8d16e59\",\"subtype\":\"Figure\",\"type\":\"Plot\"}},\"id\":\"91fd6332-6e4a-4a31-9181-f96b576bc146\",\"type\":\"TapTool\"},{\"attributes\":{\"callback\":null,\"column_names\":[\"y\",\"x\"],\"data\":{\"x\":[9.0,46.6],\"y\":[9.0,46.6]}},\"id\":\"8db019e4-41bb-4414-8575-b4105a3dd402\",\"type\":\"ColumnDataSource\"},{\"attributes\":{\"background_fill_alpha\":{\"value\":0.5},\"background_fill_color\":{\"value\":\"beige\"},\"below\":[{\"id\":\"0f56377a-6854-4da2-b3ee-473a7c6e6e95\",\"type\":\"LinearAxis\"}],\"left\":[{\"id\":\"ed939a95-c9dd-4ecf-817a-df6dc94654b1\",\"type\":\"LinearAxis\"}],\"plot_height\":500,\"plot_width\":500,\"renderers\":[{\"id\":\"0f56377a-6854-4da2-b3ee-473a7c6e6e95\",\"type\":\"LinearAxis\"},{\"id\":\"7bc79cea-08c5-491a-8430-0f562573df9c\",\"type\":\"Grid\"},{\"id\":\"ed939a95-c9dd-4ecf-817a-df6dc94654b1\",\"type\":\"LinearAxis\"},{\"id\":\"e1733644-f473-4e5a-98e1-bdf5f83bf015\",\"type\":\"Grid\"},{\"id\":\"07f33edc-1858-435b-ad0c-aeac48cfadca\",\"type\":\"BoxAnnotation\"},{\"id\":\"f118de4b-adb6-4cec-a12d-d549b6f7559e\",\"type\":\"BoxAnnotation\"},{\"id\":\"d5472845-109c-412a-adde-1da560823831\",\"type\":\"PolyAnnotation\"},{\"id\":\"e38410a7-1fac-4072-8d69-ccedeeeaaed7\",\"type\":\"PolyAnnotation\"},{\"id\":\"0b6c3fe6-be70-4b9c-8c2d-d8c04089e512\",\"type\":\"GlyphRenderer\"},{\"id\":\"9f1cf5d4-e684-4bb4-82db-18ab51c6b5c8\",\"type\":\"GlyphRenderer\"}],\"title\":{\"id\":\"1816ac9f-b5eb-4bf1-b59b-51ec21441e8c\",\"type\":\"Title\"},\"tool_events\":{\"id\":\"325984f8-2575-4c6a-b8be-3b50566b176c\",\"type\":\"ToolEvents\"},\"toolbar\":{\"id\":\"9c29db9c-3f48-42e7-a469-7123e56ac949\",\"type\":\"Toolbar\"},\"x_range\":{\"id\":\"3db8f91e-bc3d-451e-b105-2c61c1bac534\",\"type\":\"DataRange1d\"},\"y_range\":{\"id\":\"4076a9c7-21e4-410b-b043-d70c5fc799cc\",\"type\":\"DataRange1d\"}},\"id\":\"8201a462-1b56-4f8e-9e96-7931f8d16e59\",\"subtype\":\"Figure\",\"type\":\"Plot\"},{\"attributes\":{},\"id\":\"8525e041-8aa0-415f-b3ed-01cc3b846170\",\"type\":\"BasicTicker\"},{\"attributes\":{},\"id\":\"325984f8-2575-4c6a-b8be-3b50566b176c\",\"type\":\"ToolEvents\"},{\"attributes\":{\"fill_alpha\":{\"value\":0.1},\"fill_color\":{\"value\":\"#1f77b4\"},\"line_alpha\":{\"value\":0.1},\"line_color\":{\"value\":\"#1f77b4\"},\"line_width\":{\"value\":3},\"x\":{\"field\":\"x\"},\"y\":{\"field\":\"y\"}},\"id\":\"169b992e-ce72-4a04-b844-869f66516fe8\",\"type\":\"Circle\"},{\"attributes\":{\"callback\":null},\"id\":\"4076a9c7-21e4-410b-b043-d70c5fc799cc\",\"type\":\"DataRange1d\"},{\"attributes\":{\"callback\":null,\"column_names\":[\"x\",\"y\"],\"data\":{\"x\":[15.0,27.0,34.3,26.0,31.6,33.8,29.0,18.1,27.2,38.0,26.0,14.0,22.0,31.0,36.4,17.6,17.7,28.0,20.8,14.0,20.2,32.8,22.3,28.0,37.0,27.0,23.2,13.0,15.0,22.0,24.0,29.0,13.0,31.8,23.0,25.5,29.9,13.0,17.5,46.6,15.5,32.9,14.0,25.0,19.4,15.0,32.4,31.5,27.0,19.8,17.0,33.5,21.0,23.0,38.1,44.0,40.8,21.0,29.0,17.5,28.0,26.0,26.0,11.0,37.7,24.2,16.0,16.0,30.0,19.0,27.0,19.0,16.0,16.0,20.3,21.0,33.5,23.0,21.5,16.0,19.0,37.0,15.0,16.0,26.0,18.0,13.0,21.0,29.0,22.0,33.0,22.0,16.0,36.0,20.0,22.0,31.3,14.5,29.8,13.0,13.0,36.0,20.5,25.0,27.0,33.0,16.5,20.6,30.0,43.4,34.7,11.0,18.0,13.0,16.0,19.0,23.0,25.5,14.0,24.5,30.0,25.8,38.0,28.8,26.6,17.0,32.0,18.1,11.0,21.0,36.0,13.0,30.0,31.0,14.0,18.0,13.0,21.6,28.0,23.8,14.0,27.0,20.2,26.0,39.4,19.9,19.0,14.0,23.6,13.0,38.0,30.5,18.5,17.0,12.0,16.0,28.0,15.5,32.0,24.0,25.1,16.0,13.0,24.0,22.0,24.0,15.0,19.0,18.0,27.2,14.0,21.0,44.3,28.0,31.5,19.2,14.0,30.5,29.8,36.1,26.8,26.0,20.5,32.1,16.0,17.0,20.0,22.0,25.0,23.9,31.0,39.0,28.0,34.5,22.0,20.6,14.0,25.4,14.0,30.0,19.0,36.0,25.0,14.0,21.1,28.0,19.0,19.1,24.3,44.6,20.0,17.0,13.0,34.2,26.0,17.5,26.0,13.0,18.0,18.5,36.0,16.0,38.0,23.0,20.5,13.0,28.0,12.0,34.1,20.0,12.0,28.4,18.0,20.0,29.5,19.0,26.0,26.0,25.0,32.0,33.7,28.0,19.2,29.5,27.0,15.0,39.1,26.6,13.0,23.0,27.5,20.0,19.2,24.0,32.2,19.4,33.0,12.0,13.0,17.6,23.9,34.4,14.0,31.0,35.1,15.0,15.5,9.0,25.0,18.0,31.0,43.1,17.5,25.0,25.0,19.0,26.0,31.0,18.2,30.7,24.0,17.0,27.0,23.0,18.0,27.2,35.0,29.0,21.5,15.0,17.5,15.0,32.7,10.0,20.0,32.4,34.0,18.0,32.0,14.0,24.0,26.4,14.0,13.0,13.0,18.5,21.5,16.2,16.5,15.0,28.1,29.0,20.2,27.9,22.0,29.0,19.0,25.0],\"y\":[13.727272727272727,25.5,34.56666666666667,25.5,28.1,46.6,29.85,19.6875,29.9,33.92,25.5,11.0,20.333333333333332,34.0,31.700000000000003,19.15,19.6875,24.0,20.333333333333332,12.8,20.333333333333332,41.25,26.4,26.0,31.8,23.725,19.5,15.0,15.0,24.231034482758623,26.0,29.0,16.375,33.125,24.8,24.15,32.650000000000006,13.0,17.75,33.125,15.75,34.0,16.0,22.0,18.35,20.43181818181818,32.650000000000006,31.166666666666668,27.25,20.43181818181818,14.0,30.0,20.43181818181818,18.833333333333332,33.125,43.7,33.125,18.833333333333332,30.0,18.61111111111111,24.8,20.0,24.95,13.0,36.47777777777778,25.0,15.375,13.0,28.950000000000003,22.0,27.583333333333332,25.444444444444443,15.5,14.153846153846153,24.000000000000004,19.75714285714286,27.799999999999997,18.35,19.75714285714286,13.0,27.8,33.8,18.330000000000002,19.75714285714286,27.2,19.75714285714286,14.153846153846153,25.444444444444443,26.533333333333335,19.75714285714286,31.55,25.0,15.5,31.55,26.533333333333335,22.0,32.583333333333336,15.0625,36.08461538461538,14.0,15.0625,30.166666666666668,18.400000000000002,26.8,27.666666666666668,33.333333333333336,18.35,19.625,30.0,34.75,39.8,14.75,15.5,18.868,15.0625,20.15,24.54285714285714,24.192307692307693,15.0625,24.192307692307693,30.5,27.46,19.625,13.5,27.46,18.868,31.0625,13.5,13.25,21.0,34.64,11.666666666666666,31.357142857142858,31.357142857142858,14.222222222222221,29.5,18.6,24.738888888888887,26.733333333333334,24.738888888888887,14.222222222222221,26.833333333333332,18.1,26.833333333333332,29.75,17.9,26.5,18.6,24.5,15.0,35.26666666666667,28.4,17.9,16.166666666666668,11.666666666666666,16.166666666666668,25.333333333333332,13.0,33.5,26.833333333333332,24.077272727272728,15.3125,18.0,26.34,26.0,24.077272727272728,15.3125,17.8125,20.614285714285717,24.077272727272728,14.2,19.5,45.3,30.6875,35.39333333333333,19.382608695652173,13.0,30.6875,26.34,35.39333333333333,33.5,25.75,19.382608695652173,37.0,16.5,19.5,18.0,24.077272727272728,24.077272727272728,19.382608695652173,35.39333333333333,35.39333333333333,25.04782608695652,35.7,25.04782608695652,20.533333333333335,17.5,25.25,17.5,32.44285714285714,18.142857142857142,34.88333333333333,26.5,14.181818181818182,25.04782608695652,24.0,19.5,25.25,26.727272727272727,32.44285714285714,23.25,15.208333333333334,14.181818181818182,32.44285714285714,25.04782608695652,15.208333333333334,21.5,13.3,17.5,18.546153846153846,34.88333333333333,15.0,34.88333333333333,23.25,20.099999999999998,10.5,30.45,10.5,34.99,19.0,13.85,24.966666666666665,19.0,19.65,38.4125,18.25,24.13333333333333,26.0,24.13333333333333,36.0,38.4125,27.0,18.666666666666668,36.0,25.625,17.22222222222222,34.99,23.0,13.85,24.13333333333333,24.13333333333333,24.13333333333333,23.0,24.13333333333333,32.43333333333333,18.666666666666668,34.339999999999996,12.333333333333334,12.333333333333334,19.15,25.19473684210526,37.32857142857143,13.0,29.5,37.32857142857143,18.25,16.5,11.333333333333334,25.19473684210526,13.0,28.75,44.15,18.62307692307692,25.19473684210526,25.875,20.966666666666665,25.19473684210526,28.725,18.0,25.25,28.75,23.0,28.725,23.650000000000002,20.966666666666665,28.725,35.45,29.0,19.0,14.125,15.454545454545455,14.125,24.175,11.333333333333334,17.670588235294115,31.700000000000006,31.700000000000006,22.0,37.34,12.75,20.142307692307693,24.175,16.0,12.75,14.125,13.0,24.351851851851855,17.0,17.0,13.25,30.35,33.25,17.670588235294115,27.174999999999997,17.670588235294115,30.5,17.670588235294115,26.142857142857142]}},\"id\":\"b0965492-6982-4f6f-bf55-eb13e20fc660\",\"type\":\"ColumnDataSource\"},{\"attributes\":{\"plot\":{\"id\":\"8201a462-1b56-4f8e-9e96-7931f8d16e59\",\"subtype\":\"Figure\",\"type\":\"Plot\"}},\"id\":\"456c4182-99db-4c7c-a831-7523e8c5a424\",\"type\":\"WheelZoomTool\"},{\"attributes\":{\"data_source\":{\"id\":\"8db019e4-41bb-4414-8575-b4105a3dd402\",\"type\":\"ColumnDataSource\"},\"glyph\":{\"id\":\"478e73ac-2b57-4e87-bf69-5fe5ea7ec226\",\"type\":\"Line\"},\"hover_glyph\":null,\"nonselection_glyph\":{\"id\":\"5b0f591d-8e76-40da-a4bd-a0e25fad1a89\",\"type\":\"Line\"},\"selection_glyph\":null},\"id\":\"9f1cf5d4-e684-4bb4-82db-18ab51c6b5c8\",\"type\":\"GlyphRenderer\"},{\"attributes\":{\"bottom_units\":\"screen\",\"fill_alpha\":{\"value\":0.5},\"fill_color\":{\"value\":\"lightgrey\"},\"left_units\":\"screen\",\"level\":\"overlay\",\"line_alpha\":{\"value\":1.0},\"line_color\":{\"value\":\"black\"},\"line_dash\":[4,4],\"line_width\":{\"value\":2},\"plot\":null,\"render_mode\":\"css\",\"right_units\":\"screen\",\"top_units\":\"screen\"},\"id\":\"07f33edc-1858-435b-ad0c-aeac48cfadca\",\"type\":\"BoxAnnotation\"},{\"attributes\":{\"fill_color\":{\"value\":\"#80B1D3\"},\"line_color\":{\"value\":\"#80B1D3\"},\"line_width\":{\"value\":3},\"x\":{\"field\":\"x\"},\"y\":{\"field\":\"y\"}},\"id\":\"e4e0b6d9-71c0-4ebe-91bb-4d7c38eabee9\",\"type\":\"Circle\"},{\"attributes\":{\"plot\":{\"id\":\"8201a462-1b56-4f8e-9e96-7931f8d16e59\",\"subtype\":\"Figure\",\"type\":\"Plot\"},\"ticker\":{\"id\":\"8525e041-8aa0-415f-b3ed-01cc3b846170\",\"type\":\"BasicTicker\"}},\"id\":\"7bc79cea-08c5-491a-8430-0f562573df9c\",\"type\":\"Grid\"},{\"attributes\":{\"plot\":{\"id\":\"8201a462-1b56-4f8e-9e96-7931f8d16e59\",\"subtype\":\"Figure\",\"type\":\"Plot\"}},\"id\":\"f8851345-c93a-4b15-acf1-17cd9bc3fa1f\",\"type\":\"ResetTool\"},{\"attributes\":{\"data_source\":{\"id\":\"b0965492-6982-4f6f-bf55-eb13e20fc660\",\"type\":\"ColumnDataSource\"},\"glyph\":{\"id\":\"e4e0b6d9-71c0-4ebe-91bb-4d7c38eabee9\",\"type\":\"Circle\"},\"hover_glyph\":null,\"nonselection_glyph\":{\"id\":\"169b992e-ce72-4a04-b844-869f66516fe8\",\"type\":\"Circle\"},\"selection_glyph\":null},\"id\":\"0b6c3fe6-be70-4b9c-8c2d-d8c04089e512\",\"type\":\"GlyphRenderer\"},{\"attributes\":{\"dimension\":1,\"plot\":{\"id\":\"8201a462-1b56-4f8e-9e96-7931f8d16e59\",\"subtype\":\"Figure\",\"type\":\"Plot\"},\"ticker\":{\"id\":\"eff824fd-0a6b-459b-b199-a4a9039a3907\",\"type\":\"BasicTicker\"}},\"id\":\"e1733644-f473-4e5a-98e1-bdf5f83bf015\",\"type\":\"Grid\"},{\"attributes\":{\"line_alpha\":{\"value\":0.1},\"line_color\":{\"value\":\"#1f77b4\"},\"line_dash\":[4,4],\"line_width\":{\"value\":2},\"x\":{\"field\":\"x\"},\"y\":{\"field\":\"y\"}},\"id\":\"5b0f591d-8e76-40da-a4bd-a0e25fad1a89\",\"type\":\"Line\"},{\"attributes\":{\"overlay\":{\"id\":\"e38410a7-1fac-4072-8d69-ccedeeeaaed7\",\"type\":\"PolyAnnotation\"},\"plot\":{\"id\":\"8201a462-1b56-4f8e-9e96-7931f8d16e59\",\"subtype\":\"Figure\",\"type\":\"Plot\"}},\"id\":\"2734bece-a431-43a1-8dbe-6c35b77d1678\",\"type\":\"PolySelectTool\"},{\"attributes\":{\"fill_alpha\":{\"value\":0.5},\"fill_color\":{\"value\":\"lightgrey\"},\"level\":\"overlay\",\"line_alpha\":{\"value\":1.0},\"line_color\":{\"value\":\"black\"},\"line_dash\":[4,4],\"line_width\":{\"value\":2},\"plot\":null,\"xs_units\":\"screen\",\"ys_units\":\"screen\"},\"id\":\"d5472845-109c-412a-adde-1da560823831\",\"type\":\"PolyAnnotation\"},{\"attributes\":{\"plot\":{\"id\":\"8201a462-1b56-4f8e-9e96-7931f8d16e59\",\"subtype\":\"Figure\",\"type\":\"Plot\"}},\"id\":\"0c637730-a656-4926-8399-0ac5129cd6c3\",\"type\":\"CrosshairTool\"},{\"attributes\":{\"plot\":{\"id\":\"8201a462-1b56-4f8e-9e96-7931f8d16e59\",\"subtype\":\"Figure\",\"type\":\"Plot\"}},\"id\":\"5ce550e8-cde5-490a-aebd-b50c1a7c6ce8\",\"type\":\"UndoTool\"},{\"attributes\":{},\"id\":\"b92ce0da-fa68-4428-b69a-fb077974086c\",\"type\":\"BasicTickFormatter\"},{\"attributes\":{\"callback\":null,\"overlay\":{\"id\":\"f118de4b-adb6-4cec-a12d-d549b6f7559e\",\"type\":\"BoxAnnotation\"},\"plot\":{\"id\":\"8201a462-1b56-4f8e-9e96-7931f8d16e59\",\"subtype\":\"Figure\",\"type\":\"Plot\"},\"renderers\":[{\"id\":\"0b6c3fe6-be70-4b9c-8c2d-d8c04089e512\",\"type\":\"GlyphRenderer\"},{\"id\":\"9f1cf5d4-e684-4bb4-82db-18ab51c6b5c8\",\"type\":\"GlyphRenderer\"}]},\"id\":\"a23f859b-bd05-4900-a946-665d9eaf5a05\",\"type\":\"BoxSelectTool\"},{\"attributes\":{\"overlay\":{\"id\":\"07f33edc-1858-435b-ad0c-aeac48cfadca\",\"type\":\"BoxAnnotation\"},\"plot\":{\"id\":\"8201a462-1b56-4f8e-9e96-7931f8d16e59\",\"subtype\":\"Figure\",\"type\":\"Plot\"}},\"id\":\"968ac513-6311-488a-b801-d1929710e0d9\",\"type\":\"BoxZoomTool\"},{\"attributes\":{\"axis_label\":\"Predicted\",\"axis_label_text_color\":{\"value\":\"#aa6666\"},\"formatter\":{\"id\":\"b92ce0da-fa68-4428-b69a-fb077974086c\",\"type\":\"BasicTickFormatter\"},\"plot\":{\"id\":\"8201a462-1b56-4f8e-9e96-7931f8d16e59\",\"subtype\":\"Figure\",\"type\":\"Plot\"},\"ticker\":{\"id\":\"eff824fd-0a6b-459b-b199-a4a9039a3907\",\"type\":\"BasicTicker\"}},\"id\":\"ed939a95-c9dd-4ecf-817a-df6dc94654b1\",\"type\":\"LinearAxis\"},{\"attributes\":{\"plot\":{\"id\":\"8201a462-1b56-4f8e-9e96-7931f8d16e59\",\"subtype\":\"Figure\",\"type\":\"Plot\"}},\"id\":\"fa2202e2-b182-4fc5-be4d-23b899d82427\",\"type\":\"PanTool\"},{\"attributes\":{\"active_drag\":\"auto\",\"active_scroll\":\"auto\",\"active_tap\":\"auto\",\"tools\":[{\"id\":\"968ac513-6311-488a-b801-d1929710e0d9\",\"type\":\"BoxZoomTool\"},{\"id\":\"a23f859b-bd05-4900-a946-665d9eaf5a05\",\"type\":\"BoxSelectTool\"},{\"id\":\"0c637730-a656-4926-8399-0ac5129cd6c3\",\"type\":\"CrosshairTool\"},{\"id\":\"f78050f5-ef9a-49f0-9687-6d5ef16bc764\",\"type\":\"ResizeTool\"},{\"id\":\"f8851345-c93a-4b15-acf1-17cd9bc3fa1f\",\"type\":\"ResetTool\"},{\"id\":\"6881a86a-c916-48ec-8e8a-b72fdf99e58a\",\"type\":\"LassoSelectTool\"},{\"id\":\"fa2202e2-b182-4fc5-be4d-23b899d82427\",\"type\":\"PanTool\"},{\"id\":\"4dd4ebbb-92f7-4123-b64e-8a0f465f97a9\",\"type\":\"SaveTool\"},{\"id\":\"2734bece-a431-43a1-8dbe-6c35b77d1678\",\"type\":\"PolySelectTool\"},{\"id\":\"91fd6332-6e4a-4a31-9181-f96b576bc146\",\"type\":\"TapTool\"},{\"id\":\"456c4182-99db-4c7c-a831-7523e8c5a424\",\"type\":\"WheelZoomTool\"},{\"id\":\"5ce550e8-cde5-490a-aebd-b50c1a7c6ce8\",\"type\":\"UndoTool\"}]},\"id\":\"9c29db9c-3f48-42e7-a469-7123e56ac949\",\"type\":\"Toolbar\"},{\"attributes\":{},\"id\":\"405a229b-8be2-44b1-9d20-c2d9d52818f3\",\"type\":\"BasicTickFormatter\"},{\"attributes\":{\"callback\":null,\"overlay\":{\"id\":\"d5472845-109c-412a-adde-1da560823831\",\"type\":\"PolyAnnotation\"},\"plot\":{\"id\":\"8201a462-1b56-4f8e-9e96-7931f8d16e59\",\"subtype\":\"Figure\",\"type\":\"Plot\"}},\"id\":\"6881a86a-c916-48ec-8e8a-b72fdf99e58a\",\"type\":\"LassoSelectTool\"},{\"attributes\":{},\"id\":\"eff824fd-0a6b-459b-b199-a4a9039a3907\",\"type\":\"BasicTicker\"},{\"attributes\":{\"callback\":null},\"id\":\"3db8f91e-bc3d-451e-b105-2c61c1bac534\",\"type\":\"DataRange1d\"},{\"attributes\":{\"plot\":{\"id\":\"8201a462-1b56-4f8e-9e96-7931f8d16e59\",\"subtype\":\"Figure\",\"type\":\"Plot\"}},\"id\":\"4dd4ebbb-92f7-4123-b64e-8a0f465f97a9\",\"type\":\"SaveTool\"},{\"attributes\":{\"axis_label\":\"Measured\",\"axis_label_text_color\":{\"value\":\"#aa6666\"},\"formatter\":{\"id\":\"405a229b-8be2-44b1-9d20-c2d9d52818f3\",\"type\":\"BasicTickFormatter\"},\"major_tick_line_color\":{\"value\":\"firebrick\"},\"major_tick_line_width\":{\"value\":3},\"minor_tick_line_color\":{\"value\":\"orange\"},\"plot\":{\"id\":\"8201a462-1b56-4f8e-9e96-7931f8d16e59\",\"subtype\":\"Figure\",\"type\":\"Plot\"},\"ticker\":{\"id\":\"8525e041-8aa0-415f-b3ed-01cc3b846170\",\"type\":\"BasicTicker\"}},\"id\":\"0f56377a-6854-4da2-b3ee-473a7c6e6e95\",\"type\":\"LinearAxis\"},{\"attributes\":{\"align\":\"center\",\"plot\":null,\"text\":null},\"id\":\"1816ac9f-b5eb-4bf1-b59b-51ec21441e8c\",\"type\":\"Title\"},{\"attributes\":{\"plot\":{\"id\":\"8201a462-1b56-4f8e-9e96-7931f8d16e59\",\"subtype\":\"Figure\",\"type\":\"Plot\"}},\"id\":\"f78050f5-ef9a-49f0-9687-6d5ef16bc764\",\"type\":\"ResizeTool\"}],\"root_ids\":[\"8201a462-1b56-4f8e-9e96-7931f8d16e59\"]},\"title\":\"Bokeh Application\",\"version\":\"0.12.2\"}};\n",
       "            var render_items = [{\"docid\":\"1dabf262-b89c-4f15-908c-b32fac2a57aa\",\"elementid\":\"cb2c5a98-2359-40d6-aca1-72423adabf2c\",\"modelid\":\"8201a462-1b56-4f8e-9e96-7931f8d16e59\"}];\n",
       "            \n",
       "            Bokeh.embed.embed_items(docs_json, render_items);\n",
       "        });\n",
       "      },\n",
       "      function(Bokeh) {\n",
       "      }\n",
       "    ];\n",
       "  \n",
       "    function run_inline_js() {\n",
       "      \n",
       "      if ((window.Bokeh !== undefined) || (force === \"1\")) {\n",
       "        for (var i = 0; i < inline_js.length; i++) {\n",
       "          inline_js[i](window.Bokeh);\n",
       "        }if (force === \"1\") {\n",
       "          display_loaded();\n",
       "        }} else if (Date.now() < window._bokeh_timeout) {\n",
       "        setTimeout(run_inline_js, 100);\n",
       "      } else if (!window._bokeh_failed_load) {\n",
       "        console.log(\"Bokeh: BokehJS failed to load within specified timeout.\");\n",
       "        window._bokeh_failed_load = true;\n",
       "      } else if (!force) {\n",
       "        var cell = $(\"#cb2c5a98-2359-40d6-aca1-72423adabf2c\").parents('.cell').data().cell;\n",
       "        cell.output_area.append_execute_result(NB_LOAD_WARNING)\n",
       "      }\n",
       "  \n",
       "    }\n",
       "  \n",
       "    if (window._bokeh_is_loading === 0) {\n",
       "      console.log(\"Bokeh: BokehJS loaded, going straight to plotting\");\n",
       "      run_inline_js();\n",
       "    } else {\n",
       "      load_libs(js_urls, function() {\n",
       "        console.log(\"Bokeh: BokehJS plotting callback run at\", now());\n",
       "        run_inline_js();\n",
       "      });\n",
       "    }\n",
       "  }(this));\n",
       "</script>"
      ]
     },
     "metadata": {},
     "output_type": "display_data"
    }
   ],
   "source": [
    "# Plotining using bokeh\n",
    "#TOOLS = [BoxSelectTool(), HoverTool()]\n",
    "#TOOLS = 'hover,box_zoom,box_select,crosshair,resize,reset,DecisionTreeRegressor_select,pan,save,poly_select,tap,wheel_zoom,undo'\n",
    "TOOLS = 'box_zoom,box_select,crosshair,resize,reset,lasso_select,pan,save,poly_select,tap,wheel_zoom,undo'\n",
    "p = figure(plot_width=500, plot_height=500, tools=TOOLS)\n",
    "p.scatter(Y, predicted,x=\"jjj\", marker=\"o\", color=\"#80B1D3\", line_width=3)\n",
    "p.title.align = \"center\"\n",
    "p.xaxis.axis_label = \"Measured\"\n",
    "p.xaxis.axis_label_text_color = \"#aa6666\"\n",
    "#p.xaxis.axis_label_standoff = 30\n",
    "p.xaxis.major_tick_line_color = \"firebrick\"\n",
    "p.xaxis.major_tick_line_width = 3\n",
    "p.xaxis.minor_tick_line_color = \"orange\"\n",
    "p.yaxis.axis_label = \"Predicted\"\n",
    "p.yaxis.axis_label_text_font_style = \"italic\"\n",
    "p.yaxis.axis_label_text_color = \"#aa6666\"\n",
    "p.background_fill_color = \"beige\"\n",
    "p.background_fill_alpha = 0.5\n",
    "#p.line([Y.min(), Y.max()], [Y.min(), Y.max()], line_dash=\"4 4\", line_width=2, color='red')\n",
    "\n",
    "# create a new plot with the toolbar below\n",
    "# line_dash=\"4 4\", line_width=2, color='red'\n",
    "p.line([Y.min(), Y.max()], [Y.min(), Y.max()], line_dash=\"4 4\", line_width=2, line_color=\"black\")\n",
    "show(p)"
   ]
  },
  {
   "cell_type": "code",
   "execution_count": 24,
   "metadata": {
    "collapsed": false
   },
   "outputs": [
    {
     "data": {
      "text/plain": [
       "<matplotlib.text.Text at 0x7ff46a7bd050>"
      ]
     },
     "execution_count": 24,
     "metadata": {},
     "output_type": "execute_result"
    },
    {
     "data": {
      "image/png": "[encoded data removed]",
      "text/plain": [
       "<matplotlib.figure.Figure at 0x7ff46acfc410>"
      ]
     },
     "metadata": {},
     "output_type": "display_data"
    }
   ],
   "source": [
    "plt.scatter(predicted, (predicted - Y), c='r', s=30)\n",
    "plt.title(\"Residual plot on the training data\")\n",
    "plt.xlabel(\"Predicted\")\n",
    "plt.ylabel(\"Residuals\")"
   ]
  },
  {
   "cell_type": "code",
   "execution_count": 25,
   "metadata": {
    "collapsed": false
   },
   "outputs": [
    {
     "data": {
      "text/html": [
       "\n",
       "\n",
       "    <div class=\"bk-root\">\n",
       "        <div class=\"plotdiv\" id=\"15787bf9-209b-4962-8f26-7d60572b2271\"></div>\n",
       "    </div>\n",
       "<script type=\"text/javascript\">\n",
       "  \n",
       "  (function(global) {\n",
       "    function now() {\n",
       "      return new Date();\n",
       "    }\n",
       "  \n",
       "    var force = \"\";\n",
       "  \n",
       "    if (typeof (window._bokeh_onload_callbacks) === \"undefined\" || force !== \"\") {\n",
       "      window._bokeh_onload_callbacks = [];\n",
       "      window._bokeh_is_loading = undefined;\n",
       "    }\n",
       "  \n",
       "  \n",
       "    \n",
       "    if (typeof (window._bokeh_timeout) === \"undefined\" || force !== \"\") {\n",
       "      window._bokeh_timeout = Date.now() + 0;\n",
       "      window._bokeh_failed_load = false;\n",
       "    }\n",
       "  \n",
       "    var NB_LOAD_WARNING = {'data': {'text/html':\n",
       "       \"<div style='background-color: #fdd'>\\n\"+\n",
       "       \"<p>\\n\"+\n",
       "       \"BokehJS does not appear to have successfully loaded. If loading BokehJS from CDN, this \\n\"+\n",
       "       \"may be due to a slow or bad network connection. Possible fixes:\\n\"+\n",
       "       \"</p>\\n\"+\n",
       "       \"<ul>\\n\"+\n",
       "       \"<li>re-rerun `output_notebook()` to attempt to load from CDN again, or</li>\\n\"+\n",
       "       \"<li>use INLINE resources instead, as so:</li>\\n\"+\n",
       "       \"</ul>\\n\"+\n",
       "       \"<code>\\n\"+\n",
       "       \"from bokeh.resources import INLINE\\n\"+\n",
       "       \"output_notebook(resources=INLINE)\\n\"+\n",
       "       \"</code>\\n\"+\n",
       "       \"</div>\"}};\n",
       "  \n",
       "    function display_loaded() {\n",
       "      if (window.Bokeh !== undefined) {\n",
       "        Bokeh.$(\"#15787bf9-209b-4962-8f26-7d60572b2271\").text(\"BokehJS successfully loaded.\");\n",
       "      } else if (Date.now() < window._bokeh_timeout) {\n",
       "        setTimeout(display_loaded, 100)\n",
       "      }\n",
       "    }\n",
       "  \n",
       "    function run_callbacks() {\n",
       "      window._bokeh_onload_callbacks.forEach(function(callback) { callback() });\n",
       "      delete window._bokeh_onload_callbacks\n",
       "      console.info(\"Bokeh: all callbacks have finished\");\n",
       "    }\n",
       "  \n",
       "    function load_libs(js_urls, callback) {\n",
       "      window._bokeh_onload_callbacks.push(callback);\n",
       "      if (window._bokeh_is_loading > 0) {\n",
       "        console.log(\"Bokeh: BokehJS is being loaded, scheduling callback at\", now());\n",
       "        return null;\n",
       "      }\n",
       "      if (js_urls == null || js_urls.length === 0) {\n",
       "        run_callbacks();\n",
       "        return null;\n",
       "      }\n",
       "      console.log(\"Bokeh: BokehJS not loaded, scheduling load and callback at\", now());\n",
       "      window._bokeh_is_loading = js_urls.length;\n",
       "      for (var i = 0; i < js_urls.length; i++) {\n",
       "        var url = js_urls[i];\n",
       "        var s = document.createElement('script');\n",
       "        s.src = url;\n",
       "        s.async = false;\n",
       "        s.onreadystatechange = s.onload = function() {\n",
       "          window._bokeh_is_loading--;\n",
       "          if (window._bokeh_is_loading === 0) {\n",
       "            console.log(\"Bokeh: all BokehJS libraries loaded\");\n",
       "            run_callbacks()\n",
       "          }\n",
       "        };\n",
       "        s.onerror = function() {\n",
       "          console.warn(\"failed to load library \" + url);\n",
       "        };\n",
       "        console.log(\"Bokeh: injecting script tag for BokehJS library: \", url);\n",
       "        document.getElementsByTagName(\"head\")[0].appendChild(s);\n",
       "      }\n",
       "    };var element = document.getElementById(\"15787bf9-209b-4962-8f26-7d60572b2271\");\n",
       "    if (element == null) {\n",
       "      console.log(\"Bokeh: ERROR: autoload.js configured with elementid '15787bf9-209b-4962-8f26-7d60572b2271' but no matching script tag was found. \")\n",
       "      return false;\n",
       "    }\n",
       "  \n",
       "    var js_urls = [];\n",
       "  \n",
       "    var inline_js = [\n",
       "      function(Bokeh) {\n",
       "        Bokeh.$(function() {\n",
       "            var docs_json = {\"3d73f1d3-f5f9-47d1-8555-5e4f98f663fa\":{\"roots\":{\"references\":[{\"attributes\":{},\"id\":\"e3d94e4a-0afb-4cb3-99cd-320c5c810503\",\"type\":\"BasicTickFormatter\"},{\"attributes\":{\"plot\":{\"id\":\"de2019e2-e34a-4a0d-a9f0-e9ea8a87a4db\",\"subtype\":\"Figure\",\"type\":\"Plot\"}},\"id\":\"abd21d23-de88-411d-a68a-464b1bf345cc\",\"type\":\"UndoTool\"},{\"attributes\":{\"data_source\":{\"id\":\"a6611ef5-74ed-4db1-bf76-2a67212c1972\",\"type\":\"ColumnDataSource\"},\"glyph\":{\"id\":\"38e4ab2f-b965-4260-b255-72f52dd377e8\",\"type\":\"Circle\"},\"hover_glyph\":null,\"nonselection_glyph\":{\"id\":\"6f22e8a8-bb97-4e0c-aa91-1dc2b882d878\",\"type\":\"Circle\"},\"selection_glyph\":null},\"id\":\"c6f4906c-c933-423d-93c8-da39a165b366\",\"type\":\"GlyphRenderer\"},{\"attributes\":{\"fill_alpha\":{\"value\":0.5},\"fill_color\":{\"value\":\"lightgrey\"},\"level\":\"overlay\",\"line_alpha\":{\"value\":1.0},\"line_color\":{\"value\":\"black\"},\"line_dash\":[4,4],\"line_width\":{\"value\":2},\"plot\":null,\"xs_units\":\"screen\",\"ys_units\":\"screen\"},\"id\":\"b7f24c62-5f35-468f-a926-1903bbec2eab\",\"type\":\"PolyAnnotation\"},{\"attributes\":{\"bottom_units\":\"screen\",\"fill_alpha\":{\"value\":0.5},\"fill_color\":{\"value\":\"lightgrey\"},\"left_units\":\"screen\",\"level\":\"overlay\",\"line_alpha\":{\"value\":1.0},\"line_color\":{\"value\":\"black\"},\"line_dash\":[4,4],\"line_width\":{\"value\":2},\"plot\":null,\"render_mode\":\"css\",\"right_units\":\"screen\",\"top_units\":\"screen\"},\"id\":\"8df72f23-93fe-4506-ab3e-12df92c17478\",\"type\":\"BoxAnnotation\"},{\"attributes\":{\"background_fill_alpha\":{\"value\":0.5},\"background_fill_color\":{\"value\":\"beige\"},\"below\":[{\"id\":\"efdce482-f87c-4a19-abd7-02a2c808500b\",\"type\":\"LinearAxis\"}],\"left\":[{\"id\":\"8b7f2e59-c71c-450e-9e7f-e1e7960182a1\",\"type\":\"LinearAxis\"}],\"plot_height\":500,\"plot_width\":500,\"renderers\":[{\"id\":\"efdce482-f87c-4a19-abd7-02a2c808500b\",\"type\":\"LinearAxis\"},{\"id\":\"93343f3f-7964-4725-a79a-b5a4570e0872\",\"type\":\"Grid\"},{\"id\":\"8b7f2e59-c71c-450e-9e7f-e1e7960182a1\",\"type\":\"LinearAxis\"},{\"id\":\"f03dabed-0de9-4885-80df-2b27b940aaa1\",\"type\":\"Grid\"},{\"id\":\"a222d2c0-1ae0-462c-b0d4-2b559745a36b\",\"type\":\"BoxAnnotation\"},{\"id\":\"8df72f23-93fe-4506-ab3e-12df92c17478\",\"type\":\"BoxAnnotation\"},{\"id\":\"b7f24c62-5f35-468f-a926-1903bbec2eab\",\"type\":\"PolyAnnotation\"},{\"id\":\"61baa4a3-981b-4d31-820c-034218d59dd2\",\"type\":\"PolyAnnotation\"},{\"id\":\"c6f4906c-c933-423d-93c8-da39a165b366\",\"type\":\"GlyphRenderer\"}],\"title\":{\"id\":\"b5724388-38a1-4fd5-90f6-fe5b02cae2f0\",\"type\":\"Title\"},\"tool_events\":{\"id\":\"0fc04361-d0cb-4790-9a94-54bba93ce21d\",\"type\":\"ToolEvents\"},\"toolbar\":{\"id\":\"a987bd55-9660-4227-824d-a2a186312599\",\"type\":\"Toolbar\"},\"x_range\":{\"id\":\"65ba04b3-1a6e-4edc-9521-06f9653a2604\",\"type\":\"DataRange1d\"},\"y_range\":{\"id\":\"d18763bb-bc68-44a8-9703-bd3c330ff8a5\",\"type\":\"DataRange1d\"}},\"id\":\"de2019e2-e34a-4a0d-a9f0-e9ea8a87a4db\",\"subtype\":\"Figure\",\"type\":\"Plot\"},{\"attributes\":{\"plot\":{\"id\":\"de2019e2-e34a-4a0d-a9f0-e9ea8a87a4db\",\"subtype\":\"Figure\",\"type\":\"Plot\"}},\"id\":\"d89e474a-a7f7-45ad-9328-6ea1f307356d\",\"type\":\"CrosshairTool\"},{\"attributes\":{\"axis_label\":\"Residuals\",\"axis_label_text_color\":{\"value\":\"#aa6666\"},\"formatter\":{\"id\":\"e3d94e4a-0afb-4cb3-99cd-320c5c810503\",\"type\":\"BasicTickFormatter\"},\"plot\":{\"id\":\"de2019e2-e34a-4a0d-a9f0-e9ea8a87a4db\",\"subtype\":\"Figure\",\"type\":\"Plot\"},\"ticker\":{\"id\":\"be16e05f-9f27-48a8-bb46-d7966d845777\",\"type\":\"BasicTicker\"}},\"id\":\"8b7f2e59-c71c-450e-9e7f-e1e7960182a1\",\"type\":\"LinearAxis\"},{\"attributes\":{\"callback\":null,\"column_names\":[\"x\",\"y\"],\"data\":{\"x\":[13.727272727272727,25.5,34.56666666666667,25.5,28.1,46.6,29.85,19.6875,29.9,33.92,25.5,11.0,20.333333333333332,34.0,31.700000000000003,19.15,19.6875,24.0,20.333333333333332,12.8,20.333333333333332,41.25,26.4,26.0,31.8,23.725,19.5,15.0,15.0,24.231034482758623,26.0,29.0,16.375,33.125,24.8,24.15,32.650000000000006,13.0,17.75,33.125,15.75,34.0,16.0,22.0,18.35,20.43181818181818,32.650000000000006,31.166666666666668,27.25,20.43181818181818,14.0,30.0,20.43181818181818,18.833333333333332,33.125,43.7,33.125,18.833333333333332,30.0,18.61111111111111,24.8,20.0,24.95,13.0,36.47777777777778,25.0,15.375,13.0,28.950000000000003,22.0,27.583333333333332,25.444444444444443,15.5,14.153846153846153,24.000000000000004,19.75714285714286,27.799999999999997,18.35,19.75714285714286,13.0,27.8,33.8,18.330000000000002,19.75714285714286,27.2,19.75714285714286,14.153846153846153,25.444444444444443,26.533333333333335,19.75714285714286,31.55,25.0,15.5,31.55,26.533333333333335,22.0,32.583333333333336,15.0625,36.08461538461538,14.0,15.0625,30.166666666666668,18.400000000000002,26.8,27.666666666666668,33.333333333333336,18.35,19.625,30.0,34.75,39.8,14.75,15.5,18.868,15.0625,20.15,24.54285714285714,24.192307692307693,15.0625,24.192307692307693,30.5,27.46,19.625,13.5,27.46,18.868,31.0625,13.5,13.25,21.0,34.64,11.666666666666666,31.357142857142858,31.357142857142858,14.222222222222221,29.5,18.6,24.738888888888887,26.733333333333334,24.738888888888887,14.222222222222221,26.833333333333332,18.1,26.833333333333332,29.75,17.9,26.5,18.6,24.5,15.0,35.26666666666667,28.4,17.9,16.166666666666668,11.666666666666666,16.166666666666668,25.333333333333332,13.0,33.5,26.833333333333332,24.077272727272728,15.3125,18.0,26.34,26.0,24.077272727272728,15.3125,17.8125,20.614285714285717,24.077272727272728,14.2,19.5,45.3,30.6875,35.39333333333333,19.382608695652173,13.0,30.6875,26.34,35.39333333333333,33.5,25.75,19.382608695652173,37.0,16.5,19.5,18.0,24.077272727272728,24.077272727272728,19.382608695652173,35.39333333333333,35.39333333333333,25.04782608695652,35.7,25.04782608695652,20.533333333333335,17.5,25.25,17.5,32.44285714285714,18.142857142857142,34.88333333333333,26.5,14.181818181818182,25.04782608695652,24.0,19.5,25.25,26.727272727272727,32.44285714285714,23.25,15.208333333333334,14.181818181818182,32.44285714285714,25.04782608695652,15.208333333333334,21.5,13.3,17.5,18.546153846153846,34.88333333333333,15.0,34.88333333333333,23.25,20.099999999999998,10.5,30.45,10.5,34.99,19.0,13.85,24.966666666666665,19.0,19.65,38.4125,18.25,24.13333333333333,26.0,24.13333333333333,36.0,38.4125,27.0,18.666666666666668,36.0,25.625,17.22222222222222,34.99,23.0,13.85,24.13333333333333,24.13333333333333,24.13333333333333,23.0,24.13333333333333,32.43333333333333,18.666666666666668,34.339999999999996,12.333333333333334,12.333333333333334,19.15,25.19473684210526,37.32857142857143,13.0,29.5,37.32857142857143,18.25,16.5,11.333333333333334,25.19473684210526,13.0,28.75,44.15,18.62307692307692,25.19473684210526,25.875,20.966666666666665,25.19473684210526,28.725,18.0,25.25,28.75,23.0,28.725,23.650000000000002,20.966666666666665,28.725,35.45,29.0,19.0,14.125,15.454545454545455,14.125,24.175,11.333333333333334,17.670588235294115,31.700000000000006,31.700000000000006,22.0,37.34,12.75,20.142307692307693,24.175,16.0,12.75,14.125,13.0,24.351851851851855,17.0,17.0,13.25,30.35,33.25,17.670588235294115,27.174999999999997,17.670588235294115,30.5,17.670588235294115,26.142857142857142],\"y\":[-1.2727272727272734,-1.5,0.2666666666666728,-0.5,-3.5,12.800000000000004,0.8500000000000014,1.5874999999999986,2.6999999999999993,-4.079999999999998,-0.5,-3.0,-1.6666666666666679,3.0,-4.699999999999996,1.5499999999999972,1.9875000000000007,-4.0,-0.46666666666666856,-1.1999999999999993,0.13333333333333286,8.450000000000003,4.099999999999998,-2.0,-5.199999999999999,-3.2749999999999986,-3.6999999999999993,2.0,0.0,2.2310344827586235,2.0,0.0,3.375,1.3249999999999993,1.8000000000000007,-1.3500000000000014,2.750000000000007,0.0,0.25,-13.475000000000001,0.25,1.1000000000000014,2.0,-3.0,-1.0499999999999972,5.43181818181818,0.2500000000000071,-0.33333333333333215,0.25,0.6318181818181792,-3.0,-3.5,-0.5681818181818201,-4.166666666666668,-4.975000000000001,-0.29999999999999716,-7.674999999999997,-2.166666666666668,1.0,1.1111111111111107,-3.1999999999999993,-6.0,-1.0500000000000007,2.0,-1.2222222222222214,0.8000000000000007,-0.625,-3.0,-1.0499999999999972,3.0,0.5833333333333321,6.444444444444443,-0.5,-1.8461538461538467,3.700000000000003,-1.2428571428571402,-5.700000000000003,-4.649999999999999,-1.7428571428571402,-3.0,8.8,-3.200000000000003,3.330000000000002,3.75714285714286,1.1999999999999993,1.7571428571428598,1.1538461538461533,4.444444444444443,-2.466666666666665,-2.24285714285714,-1.4499999999999993,3.0,-0.5,-4.449999999999999,6.533333333333335,0.0,1.283333333333335,0.5625,6.284615384615382,1.0,2.0625,-5.833333333333332,-2.099999999999998,1.8000000000000007,0.6666666666666679,0.3333333333333357,1.8500000000000014,-0.9750000000000014,0.0,-8.649999999999999,5.099999999999994,3.75,-2.5,5.8679999999999986,-0.9375,1.1499999999999986,1.542857142857141,-1.3076923076923066,1.0625,-0.3076923076923066,0.5,1.6600000000000001,-18.375,-15.3,0.8599999999999994,1.8679999999999986,-0.9375,-4.600000000000001,2.25,0.0,-1.3599999999999994,-1.333333333333334,1.3571428571428577,0.35714285714285765,0.22222222222222143,11.5,5.600000000000001,3.1388888888888857,-1.2666666666666657,0.9388888888888864,0.22222222222222143,-0.16666666666666785,-2.099999999999998,0.8333333333333321,-9.649999999999999,-2.0,7.5,4.600000000000001,0.8999999999999986,2.0,-2.733333333333327,-2.1000000000000014,-0.6000000000000014,-0.8333333333333321,-0.3333333333333339,0.16666666666666785,-2.666666666666668,-2.5,1.5,2.833333333333332,-1.0227272727272734,-0.6875,5.0,2.34,4.0,0.07727272727272805,0.3125,-1.1875,2.6142857142857174,-3.1227272727272712,0.1999999999999993,-1.5,1.0,2.6875,3.893333333333331,0.1826086956521742,-1.0,0.1875,-3.460000000000001,-0.7066666666666706,6.699999999999999,-0.25,-1.1173913043478265,4.899999999999999,0.5,2.5,-2.0,2.077272727272728,-0.922727272727272,-4.517391304347825,4.393333333333331,-3.606666666666669,-2.952173913043481,1.2000000000000028,3.047826086956519,-0.06666666666666643,3.5,-0.14999999999999858,3.5,2.442857142857143,-0.8571428571428577,-1.1166666666666671,1.5,0.18181818181818166,3.9478260869565176,-4.0,0.5,6.149999999999999,2.427272727272726,-12.157142857142858,3.25,-1.791666666666666,1.1818181818181817,-1.7571428571428598,-0.952173913043481,-2.291666666666666,-4.5,0.3000000000000007,-0.5,0.04615384615384599,-1.1166666666666671,-1.0,-3.116666666666667,0.25,-0.40000000000000213,-2.5,2.4499999999999993,-1.5,0.8900000000000006,-1.0,1.8499999999999996,-3.4333333333333336,1.0,-0.3500000000000014,8.912500000000001,-0.75,-1.8666666666666707,0.0,-0.8666666666666707,4.0,4.712499999999999,-1.0,-0.5333333333333314,6.5,-1.375,2.2222222222222214,-4.109999999999999,-3.6000000000000014,0.8499999999999996,1.1333333333333293,-3.3666666666666707,4.133333333333329,3.8000000000000007,0.1333333333333293,0.23333333333332718,-0.7333333333333307,1.3399999999999963,0.3333333333333339,-0.6666666666666661,1.5499999999999972,1.2947368421052623,2.9285714285714306,-1.0,-1.5,2.2285714285714278,3.25,1.0,2.333333333333334,0.19473684210526088,-5.0,-2.25,1.0499999999999972,1.123076923076919,0.19473684210526088,0.875,1.966666666666665,-0.8052631578947391,-2.2749999999999986,-0.1999999999999993,-5.449999999999999,4.75,6.0,1.7250000000000014,0.6500000000000021,2.966666666666665,1.5250000000000021,0.45000000000000284,0.0,-2.5,-0.875,-2.045454545454545,-0.875,-8.525000000000002,1.333333333333334,-2.3294117647058847,-0.6999999999999922,-2.2999999999999936,4.0,5.340000000000003,-1.25,-3.8576923076923073,-2.224999999999998,2.0,-0.25,1.125,-5.5,2.8518518518518547,0.8000000000000007,0.5,-1.75,2.25,4.25,-2.529411764705884,-0.7250000000000014,-4.329411764705885,1.5,-1.3294117647058847,1.1428571428571423]}},\"id\":\"a6611ef5-74ed-4db1-bf76-2a67212c1972\",\"type\":\"ColumnDataSource\"},{\"attributes\":{\"axis_label\":\"Predicted\",\"axis_label_text_color\":{\"value\":\"#aa6666\"},\"formatter\":{\"id\":\"7e997e5b-4093-4749-b34f-5f32897aea05\",\"type\":\"BasicTickFormatter\"},\"major_tick_line_color\":{\"value\":\"firebrick\"},\"major_tick_line_width\":{\"value\":3},\"minor_tick_line_color\":{\"value\":\"orange\"},\"plot\":{\"id\":\"de2019e2-e34a-4a0d-a9f0-e9ea8a87a4db\",\"subtype\":\"Figure\",\"type\":\"Plot\"},\"ticker\":{\"id\":\"39f6da9e-908e-4e1d-87ad-ea30a176c4b8\",\"type\":\"BasicTicker\"}},\"id\":\"efdce482-f87c-4a19-abd7-02a2c808500b\",\"type\":\"LinearAxis\"},{\"attributes\":{},\"id\":\"be16e05f-9f27-48a8-bb46-d7966d845777\",\"type\":\"BasicTicker\"},{\"attributes\":{\"plot\":{\"id\":\"de2019e2-e34a-4a0d-a9f0-e9ea8a87a4db\",\"subtype\":\"Figure\",\"type\":\"Plot\"}},\"id\":\"9b0740e5-d11d-49e4-906a-8d987e048eb6\",\"type\":\"ResizeTool\"},{\"attributes\":{\"plot\":{\"id\":\"de2019e2-e34a-4a0d-a9f0-e9ea8a87a4db\",\"subtype\":\"Figure\",\"type\":\"Plot\"}},\"id\":\"2cfbceae-363d-449e-a602-a187782996eb\",\"type\":\"WheelZoomTool\"},{\"attributes\":{\"bottom_units\":\"screen\",\"fill_alpha\":{\"value\":0.5},\"fill_color\":{\"value\":\"lightgrey\"},\"left_units\":\"screen\",\"level\":\"overlay\",\"line_alpha\":{\"value\":1.0},\"line_color\":{\"value\":\"black\"},\"line_dash\":[4,4],\"line_width\":{\"value\":2},\"plot\":null,\"render_mode\":\"css\",\"right_units\":\"screen\",\"top_units\":\"screen\"},\"id\":\"a222d2c0-1ae0-462c-b0d4-2b559745a36b\",\"type\":\"BoxAnnotation\"},{\"attributes\":{\"plot\":{\"id\":\"de2019e2-e34a-4a0d-a9f0-e9ea8a87a4db\",\"subtype\":\"Figure\",\"type\":\"Plot\"}},\"id\":\"c54ca886-e40c-4635-8775-5f0d74ec106b\",\"type\":\"PanTool\"},{\"attributes\":{\"callback\":null},\"id\":\"65ba04b3-1a6e-4edc-9521-06f9653a2604\",\"type\":\"DataRange1d\"},{\"attributes\":{\"overlay\":{\"id\":\"61baa4a3-981b-4d31-820c-034218d59dd2\",\"type\":\"PolyAnnotation\"},\"plot\":{\"id\":\"de2019e2-e34a-4a0d-a9f0-e9ea8a87a4db\",\"subtype\":\"Figure\",\"type\":\"Plot\"}},\"id\":\"bf9028db-fd29-49a1-b4ac-e850e7ba155c\",\"type\":\"PolySelectTool\"},{\"attributes\":{\"callback\":null,\"overlay\":{\"id\":\"8df72f23-93fe-4506-ab3e-12df92c17478\",\"type\":\"BoxAnnotation\"},\"plot\":{\"id\":\"de2019e2-e34a-4a0d-a9f0-e9ea8a87a4db\",\"subtype\":\"Figure\",\"type\":\"Plot\"},\"renderers\":[{\"id\":\"c6f4906c-c933-423d-93c8-da39a165b366\",\"type\":\"GlyphRenderer\"}]},\"id\":\"65716149-d55d-46b1-9eea-47c7cba2eefc\",\"type\":\"BoxSelectTool\"},{\"attributes\":{\"plot\":{\"id\":\"de2019e2-e34a-4a0d-a9f0-e9ea8a87a4db\",\"subtype\":\"Figure\",\"type\":\"Plot\"}},\"id\":\"ebe00ed8-1ffb-4c83-8779-cbe69b87e9c1\",\"type\":\"SaveTool\"},{\"attributes\":{\"callback\":null,\"overlay\":{\"id\":\"b7f24c62-5f35-468f-a926-1903bbec2eab\",\"type\":\"PolyAnnotation\"},\"plot\":{\"id\":\"de2019e2-e34a-4a0d-a9f0-e9ea8a87a4db\",\"subtype\":\"Figure\",\"type\":\"Plot\"}},\"id\":\"ae527591-9403-4b2a-a591-5a8f4f1c1cbd\",\"type\":\"LassoSelectTool\"},{\"attributes\":{},\"id\":\"0fc04361-d0cb-4790-9a94-54bba93ce21d\",\"type\":\"ToolEvents\"},{\"attributes\":{\"plot\":{\"id\":\"de2019e2-e34a-4a0d-a9f0-e9ea8a87a4db\",\"subtype\":\"Figure\",\"type\":\"Plot\"}},\"id\":\"7dabbc07-a82d-4086-8ea3-ff0a0fdf41bd\",\"type\":\"ResetTool\"},{\"attributes\":{\"overlay\":{\"id\":\"a222d2c0-1ae0-462c-b0d4-2b559745a36b\",\"type\":\"BoxAnnotation\"},\"plot\":{\"id\":\"de2019e2-e34a-4a0d-a9f0-e9ea8a87a4db\",\"subtype\":\"Figure\",\"type\":\"Plot\"}},\"id\":\"9c541d43-a64c-456c-a730-5b743ba922a4\",\"type\":\"BoxZoomTool\"},{\"attributes\":{},\"id\":\"39f6da9e-908e-4e1d-87ad-ea30a176c4b8\",\"type\":\"BasicTicker\"},{\"attributes\":{\"active_drag\":\"auto\",\"active_scroll\":\"auto\",\"active_tap\":\"auto\",\"tools\":[{\"id\":\"9c541d43-a64c-456c-a730-5b743ba922a4\",\"type\":\"BoxZoomTool\"},{\"id\":\"65716149-d55d-46b1-9eea-47c7cba2eefc\",\"type\":\"BoxSelectTool\"},{\"id\":\"d89e474a-a7f7-45ad-9328-6ea1f307356d\",\"type\":\"CrosshairTool\"},{\"id\":\"9b0740e5-d11d-49e4-906a-8d987e048eb6\",\"type\":\"ResizeTool\"},{\"id\":\"7dabbc07-a82d-4086-8ea3-ff0a0fdf41bd\",\"type\":\"ResetTool\"},{\"id\":\"ae527591-9403-4b2a-a591-5a8f4f1c1cbd\",\"type\":\"LassoSelectTool\"},{\"id\":\"c54ca886-e40c-4635-8775-5f0d74ec106b\",\"type\":\"PanTool\"},{\"id\":\"ebe00ed8-1ffb-4c83-8779-cbe69b87e9c1\",\"type\":\"SaveTool\"},{\"id\":\"bf9028db-fd29-49a1-b4ac-e850e7ba155c\",\"type\":\"PolySelectTool\"},{\"id\":\"a03308eb-6469-45d7-a0d1-971ebf98d305\",\"type\":\"TapTool\"},{\"id\":\"2cfbceae-363d-449e-a602-a187782996eb\",\"type\":\"WheelZoomTool\"},{\"id\":\"abd21d23-de88-411d-a68a-464b1bf345cc\",\"type\":\"UndoTool\"}]},\"id\":\"a987bd55-9660-4227-824d-a2a186312599\",\"type\":\"Toolbar\"},{\"attributes\":{\"fill_color\":{\"value\":\"#80B1D3\"},\"line_color\":{\"value\":\"#80B1D3\"},\"line_width\":{\"value\":3},\"x\":{\"field\":\"x\"},\"y\":{\"field\":\"y\"}},\"id\":\"38e4ab2f-b965-4260-b255-72f52dd377e8\",\"type\":\"Circle\"},{\"attributes\":{\"plot\":{\"id\":\"de2019e2-e34a-4a0d-a9f0-e9ea8a87a4db\",\"subtype\":\"Figure\",\"type\":\"Plot\"},\"ticker\":{\"id\":\"39f6da9e-908e-4e1d-87ad-ea30a176c4b8\",\"type\":\"BasicTicker\"}},\"id\":\"93343f3f-7964-4725-a79a-b5a4570e0872\",\"type\":\"Grid\"},{\"attributes\":{\"fill_alpha\":{\"value\":0.5},\"fill_color\":{\"value\":\"lightgrey\"},\"level\":\"overlay\",\"line_alpha\":{\"value\":1.0},\"line_color\":{\"value\":\"black\"},\"line_dash\":[4,4],\"line_width\":{\"value\":2},\"plot\":null,\"xs_units\":\"screen\",\"ys_units\":\"screen\"},\"id\":\"61baa4a3-981b-4d31-820c-034218d59dd2\",\"type\":\"PolyAnnotation\"},{\"attributes\":{\"callback\":null},\"id\":\"d18763bb-bc68-44a8-9703-bd3c330ff8a5\",\"type\":\"DataRange1d\"},{\"attributes\":{},\"id\":\"7e997e5b-4093-4749-b34f-5f32897aea05\",\"type\":\"BasicTickFormatter\"},{\"attributes\":{\"fill_alpha\":{\"value\":0.1},\"fill_color\":{\"value\":\"#1f77b4\"},\"line_alpha\":{\"value\":0.1},\"line_color\":{\"value\":\"#1f77b4\"},\"line_width\":{\"value\":3},\"x\":{\"field\":\"x\"},\"y\":{\"field\":\"y\"}},\"id\":\"6f22e8a8-bb97-4e0c-aa91-1dc2b882d878\",\"type\":\"Circle\"},{\"attributes\":{\"callback\":null,\"plot\":{\"id\":\"de2019e2-e34a-4a0d-a9f0-e9ea8a87a4db\",\"subtype\":\"Figure\",\"type\":\"Plot\"}},\"id\":\"a03308eb-6469-45d7-a0d1-971ebf98d305\",\"type\":\"TapTool\"},{\"attributes\":{\"align\":\"center\",\"plot\":null,\"text\":\"Residual plot on the training data\"},\"id\":\"b5724388-38a1-4fd5-90f6-fe5b02cae2f0\",\"type\":\"Title\"},{\"attributes\":{\"dimension\":1,\"plot\":{\"id\":\"de2019e2-e34a-4a0d-a9f0-e9ea8a87a4db\",\"subtype\":\"Figure\",\"type\":\"Plot\"},\"ticker\":{\"id\":\"be16e05f-9f27-48a8-bb46-d7966d845777\",\"type\":\"BasicTicker\"}},\"id\":\"f03dabed-0de9-4885-80df-2b27b940aaa1\",\"type\":\"Grid\"}],\"root_ids\":[\"de2019e2-e34a-4a0d-a9f0-e9ea8a87a4db\"]},\"title\":\"Bokeh Application\",\"version\":\"0.12.2\"}};\n",
       "            var render_items = [{\"docid\":\"3d73f1d3-f5f9-47d1-8555-5e4f98f663fa\",\"elementid\":\"15787bf9-209b-4962-8f26-7d60572b2271\",\"modelid\":\"de2019e2-e34a-4a0d-a9f0-e9ea8a87a4db\"}];\n",
       "            \n",
       "            Bokeh.embed.embed_items(docs_json, render_items);\n",
       "        });\n",
       "      },\n",
       "      function(Bokeh) {\n",
       "      }\n",
       "    ];\n",
       "  \n",
       "    function run_inline_js() {\n",
       "      \n",
       "      if ((window.Bokeh !== undefined) || (force === \"1\")) {\n",
       "        for (var i = 0; i < inline_js.length; i++) {\n",
       "          inline_js[i](window.Bokeh);\n",
       "        }if (force === \"1\") {\n",
       "          display_loaded();\n",
       "        }} else if (Date.now() < window._bokeh_timeout) {\n",
       "        setTimeout(run_inline_js, 100);\n",
       "      } else if (!window._bokeh_failed_load) {\n",
       "        console.log(\"Bokeh: BokehJS failed to load within specified timeout.\");\n",
       "        window._bokeh_failed_load = true;\n",
       "      } else if (!force) {\n",
       "        var cell = $(\"#15787bf9-209b-4962-8f26-7d60572b2271\").parents('.cell').data().cell;\n",
       "        cell.output_area.append_execute_result(NB_LOAD_WARNING)\n",
       "      }\n",
       "  \n",
       "    }\n",
       "  \n",
       "    if (window._bokeh_is_loading === 0) {\n",
       "      console.log(\"Bokeh: BokehJS loaded, going straight to plotting\");\n",
       "      run_inline_js();\n",
       "    } else {\n",
       "      load_libs(js_urls, function() {\n",
       "        console.log(\"Bokeh: BokehJS plotting callback run at\", now());\n",
       "        run_inline_js();\n",
       "      });\n",
       "    }\n",
       "  }(this));\n",
       "</script>"
      ]
     },
     "metadata": {},
     "output_type": "display_data"
    }
   ],
   "source": [
    "# Plotining using bokeh\n",
    "#TOOLS = 'hover,box_zoom,box_select,crosshair,resize,reset,DecisionTreeRegressor_select,pan,save,poly_select,tap,wheel_zoom,undo'\n",
    "TOOLS = 'box_zoom,box_select,crosshair,resize,reset,lasso_select,pan,save,poly_select,tap,wheel_zoom,undo'\n",
    "p = figure(plot_width=500, plot_height=500, title=\"Residual plot on the training data\", tools=TOOLS)\n",
    "p.scatter(predicted, (predicted - Y),x=\"jjj\", marker=\"o\", color=\"#80B1D3\", line_width=3)\n",
    "p.title.align = \"center\"\n",
    "p.xaxis.axis_label = \"Predicted\"\n",
    "p.xaxis.axis_label_text_color = \"#aa6666\"\n",
    "#p.xaxis.axis_label_standoff = 30\n",
    "p.xaxis.major_tick_line_color = \"firebrick\"\n",
    "p.xaxis.major_tick_line_width = 3\n",
    "p.xaxis.minor_tick_line_color = \"orange\"\n",
    "p.yaxis.axis_label = \"Residuals\"\n",
    "p.yaxis.axis_label_text_font_style = \"italic\"\n",
    "p.yaxis.axis_label_text_color = \"#aa6666\"\n",
    "p.background_fill_color = \"beige\"\n",
    "p.background_fill_alpha = 0.5\n",
    "#p.line([2,38], [0, 0], line_dash=\"4 4\", line_width=2, color='red')\n",
    "show(p)"
   ]
  },
  {
   "cell_type": "markdown",
   "metadata": {},
   "source": [
    "## Pipeline"
   ]
  },
  {
   "cell_type": "markdown",
   "metadata": {},
   "source": [
    "The best to deliver the model by pipeline the operation then at deployment can be done in one model."
   ]
  },
  {
   "cell_type": "markdown",
   "metadata": {
    "collapsed": true
   },
   "source": [
    "  I used two ways to check the pipeline so any one can be fine"
   ]
  },
  {
   "cell_type": "code",
   "execution_count": 26,
   "metadata": {
    "collapsed": false
   },
   "outputs": [
    {
     "name": "stdout",
     "output_type": "stream",
     "text": [
      "0.969419678252\n",
      "Scoring according to mean_squared_error\n",
      "[-10.53114473 -13.55862604 -11.5017169  -27.55457076 -12.04747223\n",
      "  -5.77868342 -12.59332435  -7.30643466  -6.00716094  -8.55853898]\n",
      "\n",
      " Mean      Standard deviation\n",
      "-11.54      5.95\n",
      "[ True  True  True  True  True  True  True]\n",
      "R-squared =  0.969419678252\n"
     ]
    }
   ],
   "source": [
    "# Use Pipeline\n",
    "# ANOVA \n",
    "from sklearn.pipeline import Pipeline\n",
    "from sklearn.feature_selection import SelectKBest, f_regression\n",
    "anova_filter = SelectKBest(f_regression, k=7)\n",
    "LR =  DecisionTreeRegressor(min_samples_split = 3, max_depth = 7, min_samples_leaf =1 )\n",
    "\n",
    "anova_LinReg = Pipeline([('scaler_Input',scaler), ('anova', anova_filter), ('LinReg', LR)])\n",
    "# You can set the parameters using the names issued\n",
    "# For instance, fit using a k of 10 in the SelectKBest\n",
    "anova_LinReg.set_params(anova__k=7).fit(new_data, Y)\n",
    "prediction = anova_LinReg.predict(new_data)\n",
    "print anova_LinReg.score(new_data, Y)                        \n",
    "# getting the selected features chosen by anova_filter\n",
    "results = cross_validation.cross_val_score(anova_LinReg, new_data, Y, cv=kfold, scoring=scoring)\n",
    "print 'Scoring according to mean_squared_error'\n",
    "print results\n",
    "print '\\n Mean      Standard deviation'\n",
    "print(\"%.2f      %.2f\" % (results.mean(), results.std()))\n",
    "print anova_LinReg.named_steps['anova'].get_support()\n",
    "r_squared = r2_score(Y, prediction, multioutput='variance_weighted')\n",
    "print 'R-squared = ',r_squared"
   ]
  },
  {
   "cell_type": "code",
   "execution_count": 27,
   "metadata": {
    "collapsed": false
   },
   "outputs": [
    {
     "name": "stdout",
     "output_type": "stream",
     "text": [
      "R-squared =  0.969419678252\n"
     ]
    }
   ],
   "source": [
    "# Using make_pipeline\n",
    "from sklearn.pipeline import make_pipeline\n",
    "\n",
    "# ANOVA SVM-C\n",
    "# 1) anova filter, take 3 best ranked features\n",
    "anova_filter = SelectKBest(f_regression, k=7)\n",
    "anova_DTRegressor = make_pipeline(scaler, anova_filter, LR)\n",
    "anova_DTRegressor.fit(new_data, Y)\n",
    "prediction = anova_DTRegressor.predict(new_data)\n",
    "r_squared = r2_score(Y, prediction, multioutput='variance_weighted')\n",
    "print 'R-squared = ',r_squared"
   ]
  },
  {
   "cell_type": "markdown",
   "metadata": {},
   "source": [
    "### Save the Pipeline model for developement"
   ]
  },
  {
   "cell_type": "code",
   "execution_count": 28,
   "metadata": {
    "collapsed": false
   },
   "outputs": [
    {
     "data": {
      "text/plain": [
       "['anova_DTRegressor.pkl',\n",
       " 'anova_DTRegressor.pkl_01.npy',\n",
       " 'anova_DTRegressor.pkl_02.npy',\n",
       " 'anova_DTRegressor.pkl_03.npy',\n",
       " 'anova_DTRegressor.pkl_04.npy',\n",
       " 'anova_DTRegressor.pkl_05.npy',\n",
       " 'anova_DTRegressor.pkl_06.npy',\n",
       " 'anova_DTRegressor.pkl_07.npy',\n",
       " 'anova_DTRegressor.pkl_08.npy']"
      ]
     },
     "execution_count": 28,
     "metadata": {},
     "output_type": "execute_result"
    }
   ],
   "source": [
    "# save the model scaler to the desk\n",
    "from sklearn.externals import joblib\n",
    "joblib.dump(anova_DTRegressor, 'anova_DTRegressor.pkl') "
   ]
  },
  {
   "cell_type": "code",
   "execution_count": 29,
   "metadata": {
    "collapsed": false
   },
   "outputs": [
    {
     "name": "stdout",
     "output_type": "stream",
     "text": [
      " =================================================================>>>>> done\n",
      "R-squared =  0.969419678252\n"
     ]
    }
   ],
   "source": [
    "# Test the model if it is work\n",
    "anova_DecisionTreeRegressorTest = joblib.load('anova_DTRegressor.pkl')\n",
    "NewPred = anova_DecisionTreeRegressorTest.predict(new_data)\n",
    "print \" =================================================================>>>>> done\"\n",
    "r_squared = r2_score(Y, NewPred, multioutput='variance_weighted')\n",
    "print 'R-squared = ',r_squared"
   ]
  },
  {
   "cell_type": "code",
   "execution_count": 30,
   "metadata": {
    "collapsed": false
   },
   "outputs": [
    {
     "name": "stdout",
     "output_type": "stream",
     "text": [
      "Point of training data before normalization\n",
      "[  4.00000000e+00   9.70000000e+01   5.10000000e+01   2.13000000e+03\n",
      "   2.46000000e+01   8.20000000e+01   2.00000000e+00]\n",
      "\n",
      "The read target of the data =  44.0\n",
      "\n",
      "The Predicted target of the data =  [ 44.15]\n"
     ]
    }
   ],
   "source": [
    "# test on single data point, randomly choose point number 55\n",
    "print 'Point of training data before normalization\\n',new_data[55]\n",
    "print '\\nThe read target of the data = ', Y[55]\n",
    "NewPred = anova_DecisionTreeRegressorTest.predict([new_data[55]])\n",
    "print '\\nThe Predicted target of the data = ', NewPred"
   ]
  },
  {
   "cell_type": "markdown",
   "metadata": {},
   "source": [
    "## Conclusion "
   ]
  }
 ],
 "metadata": {
  "kernelspec": {
   "display_name": "Python 2",
   "language": "python",
   "name": "python2"
  },
  "language_info": {
   "codemirror_mode": {
    "name": "ipython",
    "version": 2
   },
   "file_extension": ".py",
   "mimetype": "text/x-python",
   "name": "python",
   "nbconvert_exporter": "python",
   "pygments_lexer": "ipython2",
   "version": "2.7.12"
  }
 },
 "nbformat": 4,
 "nbformat_minor": 0
}
