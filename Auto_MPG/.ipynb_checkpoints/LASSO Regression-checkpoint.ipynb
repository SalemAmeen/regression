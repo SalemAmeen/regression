{
 "cells": [
  {
   "cell_type": "markdown",
   "metadata": {},
   "source": [
    "Salem Ameen, PhD student at Salford University\n",
    "\n",
    "### Auto MPG\n",
    "\n",
    "LASSO Regression"
   ]
  },
  {
   "cell_type": "markdown",
   "metadata": {},
   "source": [
    "# Import the Libraries"
   ]
  },
  {
   "cell_type": "code",
   "execution_count": 1,
   "metadata": {
    "collapsed": false
   },
   "outputs": [
    {
     "data": {
      "text/html": [
       "\n",
       "    <div class=\"bk-root\">\n",
       "        <a href=\"http://bokeh.pydata.org\" target=\"_blank\" class=\"bk-logo bk-logo-small bk-logo-notebook\"></a>\n",
       "        <span id=\"dca3ff82-86da-4c95-9ca4-312b71f56f59\">Loading BokehJS ...</span>\n",
       "    </div>"
      ]
     },
     "metadata": {},
     "output_type": "display_data"
    },
    {
     "data": {
      "application/javascript": [
       "\n",
       "(function(global) {\n",
       "  function now() {\n",
       "    return new Date();\n",
       "  }\n",
       "\n",
       "  var force = \"1\";\n",
       "\n",
       "  if (typeof (window._bokeh_onload_callbacks) === \"undefined\" || force !== \"\") {\n",
       "    window._bokeh_onload_callbacks = [];\n",
       "    window._bokeh_is_loading = undefined;\n",
       "  }\n",
       "\n",
       "\n",
       "  \n",
       "  if (typeof (window._bokeh_timeout) === \"undefined\" || force !== \"\") {\n",
       "    window._bokeh_timeout = Date.now() + 5000;\n",
       "    window._bokeh_failed_load = false;\n",
       "  }\n",
       "\n",
       "  var NB_LOAD_WARNING = {'data': {'text/html':\n",
       "     \"<div style='background-color: #fdd'>\\n\"+\n",
       "     \"<p>\\n\"+\n",
       "     \"BokehJS does not appear to have successfully loaded. If loading BokehJS from CDN, this \\n\"+\n",
       "     \"may be due to a slow or bad network connection. Possible fixes:\\n\"+\n",
       "     \"</p>\\n\"+\n",
       "     \"<ul>\\n\"+\n",
       "     \"<li>re-rerun `output_notebook()` to attempt to load from CDN again, or</li>\\n\"+\n",
       "     \"<li>use INLINE resources instead, as so:</li>\\n\"+\n",
       "     \"</ul>\\n\"+\n",
       "     \"<code>\\n\"+\n",
       "     \"from bokeh.resources import INLINE\\n\"+\n",
       "     \"output_notebook(resources=INLINE)\\n\"+\n",
       "     \"</code>\\n\"+\n",
       "     \"</div>\"}};\n",
       "\n",
       "  function display_loaded() {\n",
       "    if (window.Bokeh !== undefined) {\n",
       "      Bokeh.$(\"#dca3ff82-86da-4c95-9ca4-312b71f56f59\").text(\"BokehJS successfully loaded.\");\n",
       "    } else if (Date.now() < window._bokeh_timeout) {\n",
       "      setTimeout(display_loaded, 100)\n",
       "    }\n",
       "  }\n",
       "\n",
       "  function run_callbacks() {\n",
       "    window._bokeh_onload_callbacks.forEach(function(callback) { callback() });\n",
       "    delete window._bokeh_onload_callbacks\n",
       "    console.info(\"Bokeh: all callbacks have finished\");\n",
       "  }\n",
       "\n",
       "  function load_libs(js_urls, callback) {\n",
       "    window._bokeh_onload_callbacks.push(callback);\n",
       "    if (window._bokeh_is_loading > 0) {\n",
       "      console.log(\"Bokeh: BokehJS is being loaded, scheduling callback at\", now());\n",
       "      return null;\n",
       "    }\n",
       "    if (js_urls == null || js_urls.length === 0) {\n",
       "      run_callbacks();\n",
       "      return null;\n",
       "    }\n",
       "    console.log(\"Bokeh: BokehJS not loaded, scheduling load and callback at\", now());\n",
       "    window._bokeh_is_loading = js_urls.length;\n",
       "    for (var i = 0; i < js_urls.length; i++) {\n",
       "      var url = js_urls[i];\n",
       "      var s = document.createElement('script');\n",
       "      s.src = url;\n",
       "      s.async = false;\n",
       "      s.onreadystatechange = s.onload = function() {\n",
       "        window._bokeh_is_loading--;\n",
       "        if (window._bokeh_is_loading === 0) {\n",
       "          console.log(\"Bokeh: all BokehJS libraries loaded\");\n",
       "          run_callbacks()\n",
       "        }\n",
       "      };\n",
       "      s.onerror = function() {\n",
       "        console.warn(\"failed to load library \" + url);\n",
       "      };\n",
       "      console.log(\"Bokeh: injecting script tag for BokehJS library: \", url);\n",
       "      document.getElementsByTagName(\"head\")[0].appendChild(s);\n",
       "    }\n",
       "  };var element = document.getElementById(\"dca3ff82-86da-4c95-9ca4-312b71f56f59\");\n",
       "  if (element == null) {\n",
       "    console.log(\"Bokeh: ERROR: autoload.js configured with elementid 'dca3ff82-86da-4c95-9ca4-312b71f56f59' but no matching script tag was found. \")\n",
       "    return false;\n",
       "  }\n",
       "\n",
       "  var js_urls = ['https://cdn.pydata.org/bokeh/release/bokeh-0.12.2.min.js', 'https://cdn.pydata.org/bokeh/release/bokeh-widgets-0.12.2.min.js', 'https://cdn.pydata.org/bokeh/release/bokeh-compiler-0.12.2.min.js'];\n",
       "\n",
       "  var inline_js = [\n",
       "    function(Bokeh) {\n",
       "      Bokeh.set_log_level(\"info\");\n",
       "    },\n",
       "    \n",
       "    function(Bokeh) {\n",
       "      \n",
       "      Bokeh.$(\"#dca3ff82-86da-4c95-9ca4-312b71f56f59\").text(\"BokehJS is loading...\");\n",
       "    },\n",
       "    function(Bokeh) {\n",
       "      console.log(\"Bokeh: injecting CSS: https://cdn.pydata.org/bokeh/release/bokeh-0.12.2.min.css\");\n",
       "      Bokeh.embed.inject_css(\"https://cdn.pydata.org/bokeh/release/bokeh-0.12.2.min.css\");\n",
       "      console.log(\"Bokeh: injecting CSS: https://cdn.pydata.org/bokeh/release/bokeh-widgets-0.12.2.min.css\");\n",
       "      Bokeh.embed.inject_css(\"https://cdn.pydata.org/bokeh/release/bokeh-widgets-0.12.2.min.css\");\n",
       "    }\n",
       "  ];\n",
       "\n",
       "  function run_inline_js() {\n",
       "    \n",
       "    if ((window.Bokeh !== undefined) || (force === \"1\")) {\n",
       "      for (var i = 0; i < inline_js.length; i++) {\n",
       "        inline_js[i](window.Bokeh);\n",
       "      }if (force === \"1\") {\n",
       "        display_loaded();\n",
       "      }} else if (Date.now() < window._bokeh_timeout) {\n",
       "      setTimeout(run_inline_js, 100);\n",
       "    } else if (!window._bokeh_failed_load) {\n",
       "      console.log(\"Bokeh: BokehJS failed to load within specified timeout.\");\n",
       "      window._bokeh_failed_load = true;\n",
       "    } else if (!force) {\n",
       "      var cell = $(\"#dca3ff82-86da-4c95-9ca4-312b71f56f59\").parents('.cell').data().cell;\n",
       "      cell.output_area.append_execute_result(NB_LOAD_WARNING)\n",
       "    }\n",
       "\n",
       "  }\n",
       "\n",
       "  if (window._bokeh_is_loading === 0) {\n",
       "    console.log(\"Bokeh: BokehJS loaded, going straight to plotting\");\n",
       "    run_inline_js();\n",
       "  } else {\n",
       "    load_libs(js_urls, function() {\n",
       "      console.log(\"Bokeh: BokehJS plotting callback run at\", now());\n",
       "      run_inline_js();\n",
       "    });\n",
       "  }\n",
       "}(this));"
      ]
     },
     "metadata": {},
     "output_type": "display_data"
    }
   ],
   "source": [
    "import numpy as np\n",
    "import pandas\n",
    "from numpy import *\n",
    "import time\n",
    "import sys\n",
    "import pandas as pd\n",
    "import matplotlib.pyplot as plt\n",
    "from sklearn import feature_selection\n",
    "from sklearn.linear_model import Lasso\n",
    "from sklearn.learning_curve import learning_curve, validation_curve\n",
    "from sklearn.cross_validation import cross_val_predict\n",
    "from sklearn import metrics, grid_search, cross_validation\n",
    "from IPython.display import set_matplotlib_formats\n",
    "from bokeh.plotting import figure, show, output_notebook\n",
    "from sklearn.grid_search import GridSearchCV, RandomizedSearchCV\n",
    "from sklearn.metrics import r2_score\n",
    "from bokeh.layouts import gridplot\n",
    "output_notebook()\n",
    "set_matplotlib_formats('png', 'pdf')\n",
    "%matplotlib inline\n",
    "plt.rcParams['figure.figsize'] = (6, 6)"
   ]
  },
  {
   "cell_type": "markdown",
   "metadata": {},
   "source": [
    "# Load data"
   ]
  },
  {
   "cell_type": "markdown",
   "metadata": {},
   "source": [
    "In the previous file we have not change the data as there is no missing value or add any new parameters so it can be downloaded from the web directly. "
   ]
  },
  {
   "cell_type": "code",
   "execution_count": 2,
   "metadata": {
    "collapsed": false
   },
   "outputs": [
    {
     "name": "stdout",
     "output_type": "stream",
     "text": [
      "Number of examples 398\n"
     ]
    }
   ],
   "source": [
    "url = 'http://archive.ics.uci.edu/ml/machine-learning-databases/auto-mpg/auto-mpg.data'\n",
    "names = ['mpg', 'cylinders', 'displacement', 'horsepower', 'weight', 'acceleration', 'year','origin','name']\n",
    "feature_names = ['mpg', 'cylinders', 'displacement', 'horsepower', 'weight', 'acceleration', 'year','origin']\n",
    "feature_cols = ['mpg', 'cylinders', 'displacement', 'horsepower', 'weight', 'acceleration', 'year','origin']\n",
    "data = pd.read_csv(url, sep='\\s+', names = names)\n",
    "data = data.drop('name',1)\n",
    "from sklearn import preprocessing\n",
    "\n",
    "def number_encode_features(df):\n",
    "    result = df.copy()\n",
    "    encoders = {}\n",
    "    for column in result.columns:\n",
    "        if result.dtypes[column] == np.object:\n",
    "            encoders[column] = preprocessing.LabelEncoder()\n",
    "            result[column] = encoders[column].fit_transform(result[column])\n",
    "    return result, encoders\n",
    "\n",
    "data, _ = number_encode_features(data)\n",
    "\n",
    "dataset = data.values\n",
    "X = dataset[:,1:8]\n",
    "Y = dataset[:,0]\n",
    "print 'Number of examples',len(X)"
   ]
  },
  {
   "cell_type": "code",
   "execution_count": 3,
   "metadata": {
    "collapsed": false
   },
   "outputs": [
    {
     "name": "stdout",
     "output_type": "stream",
     "text": [
      "Number of training examples 318\n",
      "Number of validation examples 80\n"
     ]
    }
   ],
   "source": [
    "# Make developement dataset for genrilization and final testing\n",
    "from sklearn.cross_validation import train_test_split\n",
    "# Extracting 20% testing data\n",
    "X_train, X_test, y_train, y_test = train_test_split(\n",
    "    X, Y, test_size=0.20, random_state=0)\n",
    "X = X_train\n",
    "Y = y_train\n",
    "new_data      = X_train\n",
    "new_test_data = X_test\n",
    "print 'Number of training examples',len(X_train)\n",
    "print 'Number of validation examples',len(X_test)"
   ]
  },
  {
   "cell_type": "markdown",
   "metadata": {},
   "source": [
    "Number of training data is very small so we need to use cross validation instead of spareate another validation data."
   ]
  },
  {
   "cell_type": "markdown",
   "metadata": {},
   "source": [
    "From the previous visulization the data has no missing value but has many outlier and some sparisty"
   ]
  },
  {
   "cell_type": "markdown",
   "metadata": {},
   "source": [
    "# Ranking of the feature's importance to the target"
   ]
  },
  {
   "cell_type": "code",
   "execution_count": 4,
   "metadata": {
    "collapsed": false
   },
   "outputs": [
    {
     "name": "stdout",
     "output_type": "stream",
     "text": [
      "mpg \t0.999730691281\n",
      "cylinders \t0.595553397839\n",
      "displacement \t0.646740670212\n",
      "horsepower \t0.204075090366\n",
      "weight \t0.691792957093\n",
      "acceleration \t0.174479417478\n",
      "year \t0.334347117732\n",
      "origin \t0.291901663527\n"
     ]
    }
   ],
   "source": [
    "# Using just correlation coefficient even in prevoius file we show them using data frame\n",
    "for col in feature_cols:\n",
    "    lm = Lasso(fit_intercept=True)\n",
    "    lm.fit(data[[col]], data['mpg'])\n",
    "    print col,'\\t', lm.score(data[[col]], data['mpg'])"
   ]
  },
  {
   "cell_type": "code",
   "execution_count": 5,
   "metadata": {
    "collapsed": false
   },
   "outputs": [
    {
     "name": "stdout",
     "output_type": "stream",
     "text": [
      "Feature Name      Score         Pvalue\n",
      "mpg \t\t8.91712726219e+17 \t0.0\n",
      "cylinders \t\t597.077047852 \t4.50399224618e-81\n",
      "displacement \t\t724.994303368 \t1.65588891019e-91\n",
      "horsepower \t\t101.546001862 \t2.06258705842e-21\n",
      "weight \t\t888.850682648 \t2.97279956405e-103\n",
      "acceleration \t\t84.9577002497 \t1.82309153508e-18\n",
      "year \t\t199.98200802 \t4.84493581337e-37\n",
      "origin \t\t184.199639369 \t1.01148221023e-34\n"
     ]
    }
   ],
   "source": [
    "# Randing the important features to the target\n",
    "model = feature_selection.SelectKBest(score_func=feature_selection.f_regression,k=4)\n",
    "results = model.fit(data[feature_cols], data['mpg'])\n",
    "k=0\n",
    "print 'Feature Name      Score         Pvalue'\n",
    "for feat in feature_cols:\n",
    "    print feat,'\\t\\t',results.scores_[k],'\\t',results.pvalues_[k]\n",
    "    k=k+1\n"
   ]
  },
  {
   "cell_type": "markdown",
   "metadata": {},
   "source": [
    "# Set the parameters for cross validation"
   ]
  },
  {
   "cell_type": "code",
   "execution_count": 6,
   "metadata": {
    "collapsed": true
   },
   "outputs": [],
   "source": [
    "num_folds = 10\n",
    "num_instances = len(X)\n",
    "seed = 7\n",
    "kfold = cross_validation.KFold(n=num_instances, n_folds=num_folds, random_state=seed)"
   ]
  },
  {
   "cell_type": "markdown",
   "metadata": {},
   "source": [
    " # Set the parameters for bias-variance dilemma"
   ]
  },
  {
   "cell_type": "code",
   "execution_count": 7,
   "metadata": {
    "collapsed": false
   },
   "outputs": [],
   "source": [
    "def plot_learning_curve(estimator, title, X, y, ylim=None, cv=None,\n",
    "                        n_jobs=1, train_sizes=np.linspace(.1, 1.0, 5)):\n",
    "    plt.figure()\n",
    "    plt.title(title)\n",
    "    if ylim is not None:\n",
    "        plt.ylim(*ylim)\n",
    "    plt.xlabel(\"Training examples\")\n",
    "    plt.ylabel(\"Score\")\n",
    "    train_sizes, train_scores, test_scores = learning_curve(\n",
    "        estimator, X, y, cv=cv, n_jobs=n_jobs, train_sizes=train_sizes)\n",
    "    train_scores_mean = np.mean(train_scores, axis=1)\n",
    "    train_scores_std = np.std(train_scores, axis=1)\n",
    "    test_scores_mean = np.mean(test_scores, axis=1)\n",
    "    test_scores_std = np.std(test_scores, axis=1)\n",
    "    plt.grid()\n",
    "\n",
    "    plt.fill_between(train_sizes, train_scores_mean - train_scores_std,\n",
    "                     train_scores_mean + train_scores_std, alpha=0.1,\n",
    "                     color=\"r\")\n",
    "    plt.fill_between(train_sizes, test_scores_mean - test_scores_std,\n",
    "                     test_scores_mean + test_scores_std, alpha=0.1, color=\"g\")\n",
    "    plt.plot(train_sizes, train_scores_mean, 'o-', color=\"r\",\n",
    "             label=\"Training score\")\n",
    "    plt.plot(train_sizes, test_scores_mean, 'o-', color=\"g\",\n",
    "             label=\"Cross-validation score\")\n",
    "\n",
    "    plt.legend(loc=\"best\")\n",
    "    return plt"
   ]
  },
  {
   "cell_type": "markdown",
   "metadata": {},
   "source": [
    "# Preprocessing the data and save both the model and preprocessed data"
   ]
  },
  {
   "cell_type": "code",
   "execution_count": 8,
   "metadata": {
    "collapsed": true
   },
   "outputs": [],
   "source": [
    "# According to the nature of the data spasity and there is outliter RobustScaler class is recomandit \n",
    "# but when I tried both of them the result seems is same\n",
    "from sklearn.preprocessing import StandardScaler\n",
    "scaler = preprocessing.StandardScaler().fit(X_train)"
   ]
  },
  {
   "cell_type": "code",
   "execution_count": 9,
   "metadata": {
    "collapsed": true
   },
   "outputs": [],
   "source": [
    "X_train = scaler.transform(X_train)\n",
    "X_test = scaler.transform(X_test) # use same transform for testing data\n",
    "X = X_train"
   ]
  },
  {
   "cell_type": "code",
   "execution_count": 10,
   "metadata": {
    "collapsed": true
   },
   "outputs": [],
   "source": [
    "# save transformed data\n",
    "np.save('./data/X_train', X_train)\n",
    "np.save('./data/y_train', y_train)\n",
    "np.save('./data/X_test', X_test)\n",
    "np.save('./data/y_test', y_test)"
   ]
  },
  {
   "cell_type": "code",
   "execution_count": 11,
   "metadata": {
    "collapsed": false
   },
   "outputs": [
    {
     "data": {
      "text/plain": [
       "['scaler.pkl', 'scaler.pkl_01.npy', 'scaler.pkl_02.npy', 'scaler.pkl_03.npy']"
      ]
     },
     "execution_count": 11,
     "metadata": {},
     "output_type": "execute_result"
    }
   ],
   "source": [
    "# save the model scaler to the desk\n",
    "from sklearn.externals import joblib\n",
    "joblib.dump(scaler, 'scaler.pkl') "
   ]
  },
  {
   "cell_type": "code",
   "execution_count": 12,
   "metadata": {
    "collapsed": false
   },
   "outputs": [
    {
     "name": "stdout",
     "output_type": "stream",
     "text": [
      " =================================================================>>>>> done\n",
      "[[  1.49526939e+00   1.55114495e+00  -7.35914828e-01   1.38121932e+00\n",
      "   -9.80600673e-01  -1.13752513e+00  -7.33011713e-01]\n",
      " [ -8.52857354e-01  -5.04710772e-01   6.08839749e-01  -4.99341807e-01\n",
      "    5.02543270e-01  -5.89029314e-01  -7.33011713e-01]\n",
      " [  1.49526939e+00   1.07371874e+00  -9.71246879e-01   1.57674079e+00\n",
      "    1.31757284e-01  -1.13752513e+00  -7.33011713e-01]\n",
      " [ -8.52857354e-01  -6.99578613e-01   1.01226612e+00   1.84938650e-02\n",
      "    1.42950823e+00  -1.13752513e+00   5.06869802e-01]\n",
      " [  3.21206016e-01   3.91681296e-01  -1.71086190e+00   3.84652269e-01\n",
      "   -5.36357086e-02  -1.41177304e+00  -7.33011713e-01]\n",
      " [ -8.52857354e-01  -1.16726143e+00   4.40745427e-01  -1.60018698e+00\n",
      "    8.73329255e-01  -1.41177304e+00   1.74675132e+00]\n",
      " [ -8.52857354e-01  -1.03085394e+00   3.06269969e-01  -1.17122470e+00\n",
      "   -1.64871504e-01   7.82210231e-01   1.74675132e+00]\n",
      " [ -8.52857354e-01  -5.04710772e-01   1.11312272e+00  -6.58128946e-01\n",
      "    1.42950823e+00  -1.13752513e+00  -7.33011713e-01]\n",
      " [  1.49526939e+00   2.02857116e+00  -8.03152557e-01   9.45147172e-01\n",
      "   -2.27835162e+00  -1.68602095e+00  -7.33011713e-01]\n",
      " [  3.21206016e-01  -1.83178834e-01  -1.50914871e+00  -2.82490713e-01\n",
      "   -1.12891507e+00   1.33070605e+00  -7.33011713e-01]\n",
      " [ -8.52857354e-01  -1.04059733e+00   1.41569250e+00  -1.33712172e+00\n",
      "    6.13779065e-01   1.05645814e+00   5.06869802e-01]\n",
      " [ -8.52857354e-01  -1.03085394e+00   3.06269969e-01  -1.11908564e+00\n",
      "    2.80071678e-01   1.05645814e+00   1.74675132e+00]\n",
      " [  3.21206016e-01   5.67062353e-01   1.04588499e+00   6.82629684e-02\n",
      "    3.17150277e-01  -8.63277223e-01  -7.33011713e-01]\n",
      " [ -8.52857354e-01  -9.23676630e-01   7.09379184e-02  -8.40615659e-01\n",
      "    2.91265218e+00  -1.13752513e+00   5.06869802e-01]\n",
      " [  1.49526939e+00   1.22961301e+00  -9.04009151e-01   1.39425408e+00\n",
      "   -7.21050483e-01   2.33714413e-01  -7.33011713e-01]\n",
      " [ -8.52857354e-01  -9.13933237e-01   7.76934072e-01  -1.24232342e+00\n",
      "   -4.61500293e-01   7.82210231e-01  -7.33011713e-01]\n",
      " [ -8.52857354e-01  -7.09322005e-01   8.44171801e-01  -2.88415606e-01\n",
      "    1.39242964e+00   1.60495396e+00  -7.33011713e-01]\n",
      " [ -8.52857354e-01  -3.97533459e-01   1.11312272e+00  -2.70640927e-01\n",
      "    8.73329255e-01   1.60495396e+00  -7.33011713e-01]\n",
      " [  3.21206016e-01   3.23477552e-01  -1.61000530e+00   7.69770331e-01\n",
      "    3.17150277e-01  -5.89029314e-01  -7.33011713e-01]\n",
      " [ -8.52857354e-01  -9.82136982e-01   4.40745427e-01  -9.87553012e-01\n",
      "   -3.50264497e-01   7.82210231e-01   5.06869802e-01]\n",
      " [  1.49526939e+00   2.02857116e+00  -4.33345048e-01   1.61347513e+00\n",
      "   -1.27722946e+00   2.33714413e-01  -7.33011713e-01]\n",
      " [ -8.52857354e-01  -5.04710772e-01   7.09696343e-01  -4.40092874e-01\n",
      "    1.05872225e+00  -3.14781405e-01  -7.33011713e-01]\n",
      " [ -8.52857354e-01  -7.09322005e-01   1.34845477e+00  -4.95786871e-01\n",
      "    5.02543270e-01  -3.14781405e-01   1.74675132e+00]\n",
      " [ -8.52857354e-01  -6.89835221e-01  -1.47552985e+00  -3.60151531e-02\n",
      "   -4.24421694e-01  -1.13752513e+00   5.06869802e-01]\n",
      " [ -8.52857354e-01  -8.45729493e-01   4.74364292e-01  -9.63853439e-01\n",
      "   -2.76107300e-01   7.82210231e-01  -7.33011713e-01]\n",
      " [  3.21206016e-01  -2.31895795e-01  -1.37467325e+00  -7.51194487e-02\n",
      "   -1.12891507e+00   1.33070605e+00   1.74675132e+00]\n",
      " [ -8.52857354e-01  -9.13933237e-01   3.39888834e-01  -1.37859597e+00\n",
      "   -4.61500293e-01   5.07962322e-01  -7.33011713e-01]\n",
      " [ -8.52857354e-01  -7.77525749e-01   1.04588499e+00  -6.73533669e-01\n",
      "    8.73329255e-01   1.60495396e+00  -7.33011713e-01]\n",
      " [ -8.52857354e-01  -5.53427732e-01   9.11409529e-01  -6.85383455e-01\n",
      "   -1.01767927e+00   1.33070605e+00  -7.33011713e-01]\n",
      " [  3.21206016e-01   6.45009489e-01  -1.50914871e+00   7.92284926e-01\n",
      "    8.73329255e-01  -5.89029314e-01  -7.33011713e-01]\n",
      " [  3.21206016e-01   3.23477552e-01  -1.50914871e+00   7.78065182e-01\n",
      "    1.13287945e+00   5.07962322e-01  -7.33011713e-01]\n",
      " [ -8.52857354e-01  -7.09322005e-01   1.18036045e+00  -6.27319501e-01\n",
      "   -2.39028701e-01   1.05645814e+00   1.74675132e+00]\n",
      " [  3.21206016e-01   5.67062353e-01   5.41602021e-01   5.55289195e-01\n",
      "    1.98568721e+00  -3.14781405e-01  -7.33011713e-01]\n",
      " [ -8.52857354e-01  -1.04059733e+00   4.74364292e-01  -1.20677406e+00\n",
      "    4.28386073e-01   2.33714413e-01   1.74675132e+00]\n",
      " [  3.21206016e-01   3.81937904e-01  -1.50914871e+00   5.35144558e-01\n",
      "    5.76000871e-02   1.33070605e+00  -7.33011713e-01]\n",
      " [ -8.52857354e-01  -5.63171124e-01   1.31483590e+00  -3.09745222e-01\n",
      "   -7.95207680e-01  -3.14781405e-01   1.74675132e+00]\n",
      " [  3.21206016e-01   3.91681296e-01   1.11312272e+00   2.93408913e-01\n",
      "    5.02543270e-01  -3.14781405e-01  -7.33011713e-01]\n",
      " [  1.49526939e+00   1.54140156e+00  -7.02295964e-01   1.65494939e+00\n",
      "   -2.76107300e-01   7.82210231e-01  -7.33011713e-01]\n",
      " [ -8.52857354e-01  -1.00162377e+00   5.07983156e-01  -1.23047364e+00\n",
      "   -6.09814687e-01   7.82210231e-01   5.06869802e-01]\n",
      " [  1.49526939e+00   2.31112953e+00  -3.66107319e-01   2.35645675e+00\n",
      "   -1.53677965e+00  -8.63277223e-01  -7.33011713e-01]\n",
      " [  1.49526939e+00   2.55471433e+00  -1.98012997e-01   1.64783951e+00\n",
      "   -2.46374461e+00  -1.68602095e+00  -7.33011713e-01]\n",
      " [  1.49526939e+00   1.54140156e+00  -6.01439371e-01   8.64568624e-01\n",
      "   -1.53677965e+00  -1.68602095e+00  -7.33011713e-01]\n",
      " [ -8.52857354e-01  -6.89835221e-01   7.76934072e-01  -3.47664539e-01\n",
      "   -2.39028701e-01   7.82210231e-01  -7.33011713e-01]\n",
      " [ -1.43988904e+00  -1.18674821e+00  -1.71086190e+00  -6.43909203e-01\n",
      "   -1.16599367e+00   1.05645814e+00   1.74675132e+00]\n",
      " [ -8.52857354e-01  -4.65737204e-01   1.31483590e+00  -3.53589432e-01\n",
      "   -6.46893286e-01   1.60495396e+00   1.74675132e+00]\n",
      " [ -8.52857354e-01  -6.89835221e-01  -1.50914871e+00  -3.59514326e-01\n",
      "   -6.09814687e-01  -8.63277223e-01   5.06869802e-01]\n",
      " [  3.21206016e-01   3.91681296e-01   1.11312272e+00   1.44101602e-01\n",
      "    7.25014861e-01  -4.05334960e-02  -7.33011713e-01]\n",
      " [  1.49526939e+00   1.54140156e+00  -4.66963913e-01   1.67864896e+00\n",
      "   -1.31430806e+00  -4.05334960e-02  -7.33011713e-01]\n",
      " [  3.21206016e-01  -3.58559891e-01  -1.57638644e+00  -5.82290313e-01\n",
      "   -6.09814687e-01  -8.63277223e-01  -7.33011713e-01]\n",
      " [ -8.52857354e-01  -1.09905769e+00   3.73507698e-01  -1.18544445e+00\n",
      "   -5.36357086e-02  -5.89029314e-01   5.06869802e-01]\n",
      " [ -8.52857354e-01  -9.13933237e-01   6.42458614e-01  -9.70963311e-01\n",
      "   -3.50264497e-01   1.05645814e+00   5.06869802e-01]\n",
      " [ -8.52857354e-01  -9.13933237e-01   8.77790665e-01  -8.82089912e-01\n",
      "    3.17150277e-01  -5.89029314e-01   5.06869802e-01]\n",
      " [  1.49526939e+00   1.07371874e+00  -1.20657893e+00   1.57792577e+00\n",
      "   -2.76107300e-01   2.33714413e-01  -7.33011713e-01]\n",
      " [ -8.52857354e-01  -1.01136716e+00   6.42458614e-01  -1.06457662e+00\n",
      "   -4.24421694e-01  -1.41177304e+00   5.06869802e-01]\n",
      " [  1.49526939e+00   1.86293349e+00  -5.34201642e-01   7.10521399e-01\n",
      "   -2.09295863e+00  -1.68602095e+00  -7.33011713e-01]\n",
      " [  1.49526939e+00   1.12243570e+00  -3.32488455e-01   1.67390904e+00\n",
      "   -2.39028701e-01  -1.68602095e+00  -7.33011713e-01]\n",
      " [  3.21206016e-01   6.45009489e-01  -1.50914871e+00  -1.65077215e-03\n",
      "   -7.95207680e-01  -1.41177304e+00  -7.33011713e-01]\n",
      " [  3.21206016e-01   7.98927508e-02   1.04588499e+00   1.14477136e-01\n",
      "    5.39621868e-01   1.33070605e+00  -7.33011713e-01]\n",
      " [ -8.52857354e-01  -5.53427732e-01   9.11409529e-01  -7.03158135e-01\n",
      "   -9.80600673e-01   1.60495396e+00  -7.33011713e-01]\n",
      " [  1.49526939e+00   1.07371874e+00  -9.71246879e-01   5.75433832e-01\n",
      "   -1.90756564e+00  -1.68602095e+00  -7.33011713e-01]\n",
      " [  3.21206016e-01   5.67062353e-01   7.09696343e-01   7.23556164e-01\n",
      "    1.98568721e+00  -4.05334960e-02  -7.33011713e-01]\n",
      " [ -8.52857354e-01  -5.04710772e-01   5.41602021e-01  -4.72087298e-01\n",
      "   -7.58129081e-01  -4.05334960e-02  -7.33011713e-01]\n",
      " [  3.21206016e-01   3.91681296e-01  -1.71086190e+00  -2.06652079e-01\n",
      "   -2.39028701e-01  -8.63277223e-01  -7.33011713e-01]\n",
      " [  3.21206016e-01   6.04059667e-02   1.28121704e+00  -1.54513018e-01\n",
      "   -5.36357086e-02  -1.68602095e+00  -7.33011713e-01]\n",
      " [  1.49526939e+00   1.54140156e+00  -4.66963913e-01   1.81966142e+00\n",
      "   -1.16599367e+00  -8.63277223e-01  -7.33011713e-01]\n",
      " [  1.49526939e+00   1.55114495e+00  -8.70390286e-01   2.00688805e+00\n",
      "   -7.95207680e-01  -3.14781405e-01  -7.33011713e-01]\n",
      " [  1.49526939e+00   2.31112953e+00  -3.66107319e-01   1.63243479e+00\n",
      "   -2.09295863e+00  -1.68602095e+00  -7.33011713e-01]\n",
      " [  3.21206016e-01   5.67062353e-01  -1.61000530e+00   5.87283619e-01\n",
      "    1.31757284e-01  -3.14781405e-01  -7.33011713e-01]\n",
      " [ -8.52857354e-01  -5.04710772e-01   8.77790665e-01  -3.84398877e-01\n",
      "    5.02543270e-01  -3.14781405e-01  -7.33011713e-01]\n",
      " [  1.49526939e+00   2.41830684e+00  -2.31631862e-01   1.59807041e+00\n",
      "   -2.64913761e+00  -1.68602095e+00  -7.33011713e-01]\n",
      " [ -8.52857354e-01  -9.23676630e-01   3.73507698e-01  -1.06457662e+00\n",
      "    7.99172058e-01   1.33070605e+00   1.74675132e+00]\n",
      " [  1.49526939e+00   1.54140156e+00  -7.02295964e-01   1.82321635e+00\n",
      "   -7.95207680e-01  -1.13752513e+00  -7.33011713e-01]\n",
      " [ -8.52857354e-01  -7.97012533e-01   1.01226612e+00  -3.45294582e-01\n",
      "    6.87936263e-01  -1.68602095e+00   5.06869802e-01]\n",
      " [  3.21206016e-01   3.23477552e-01  -1.71086190e+00   8.14799520e-01\n",
      "    7.62093460e-01  -4.05334960e-02  -7.33011713e-01]\n",
      " [ -8.52857354e-01  -7.67782357e-01   1.28121704e+00  -7.00788178e-01\n",
      "   -2.39028701e-01  -1.68602095e+00   1.74675132e+00]\n",
      " [ -8.52857354e-01  -8.45729493e-01   6.08839749e-01  -8.69055147e-01\n",
      "   -4.24421694e-01   5.07962322e-01  -7.33011713e-01]\n",
      " [ -8.52857354e-01  -9.23676630e-01   6.08839749e-01  -8.27580894e-01\n",
      "    9.47486452e-01   2.33714413e-01   1.74675132e+00]\n",
      " [ -8.52857354e-01  -1.06008412e+00   1.71794512e-01  -1.13804530e+00\n",
      "    1.24411524e+00  -5.89029314e-01   1.74675132e+00]\n",
      " [ -8.52857354e-01  -9.13933237e-01   1.38175647e-01  -9.47263738e-01\n",
      "    2.39355180e+00  -4.05334960e-02  -7.33011713e-01]\n",
      " [  1.49526939e+00   1.54140156e+00  -4.66963913e-01   8.30204243e-01\n",
      "   -1.72217264e+00  -8.63277223e-01  -7.33011713e-01]]\n"
     ]
    }
   ],
   "source": [
    "# Test the model if it is work\n",
    "scalerTest = joblib.load('scaler.pkl')\n",
    "new_data_scaled = scalerTest.transform(new_test_data)\n",
    "print \" =================================================================>>>>> done\"\n",
    "print new_data_scaled"
   ]
  },
  {
   "cell_type": "markdown",
   "metadata": {},
   "source": [
    "# 1. LASSO Regression"
   ]
  },
  {
   "cell_type": "markdown",
   "metadata": {},
   "source": [
    "The Least Absolute Shrinkage and Selection Operator (or LASSO for short) is a modification of linear regression, like Lasso regression, where the loss function is modified to minimize the complexity of the model measured as the sum absolute value of the coefficient values (also called the l1-norm)."
   ]
  },
  {
   "cell_type": "markdown",
   "metadata": {},
   "source": [
    "## Validation curve"
   ]
  },
  {
   "cell_type": "markdown",
   "metadata": {},
   "source": [
    "choosing multiple hyperparameters of an estimator "
   ]
  },
  {
   "cell_type": "code",
   "execution_count": 13,
   "metadata": {
    "collapsed": false
   },
   "outputs": [
    {
     "data": {
      "text/plain": [
       "['normalize',\n",
       " 'warm_start',\n",
       " 'selection',\n",
       " 'fit_intercept',\n",
       " 'positive',\n",
       " 'max_iter',\n",
       " 'precompute',\n",
       " 'random_state',\n",
       " 'tol',\n",
       " 'copy_X',\n",
       " 'alpha']"
      ]
     },
     "execution_count": 13,
     "metadata": {},
     "output_type": "execute_result"
    }
   ],
   "source": [
    "from sklearn.linear_model import Lasso,LassoCV\n",
    "estimator = Lasso()\n",
    "estimator.get_params().keys()"
   ]
  },
  {
   "cell_type": "code",
   "execution_count": 14,
   "metadata": {
    "collapsed": false
   },
   "outputs": [
    {
     "data": {
      "image/png": "[encoded data removed]",
      "text/plain": [
       "<matplotlib.figure.Figure at 0x7f415f9cd710>"
      ]
     },
     "metadata": {},
     "output_type": "display_data"
    }
   ],
   "source": [
    "# For parametr alpha\n",
    "#param_range = np.logspace(-10.0, 10.0)\n",
    "#param_range = np.logspace(-7, 7, 3)\n",
    "param_range = np.linspace(1,5.0,10)\n",
    "\n",
    "train_scores, test_scores = validation_curve(\n",
    "    Lasso(), X, Y, param_name=\"alpha\", param_range=param_range,\n",
    "    cv=num_folds,  n_jobs=-1)\n",
    "train_scores_mean = np.mean(train_scores, axis=1)\n",
    "train_scores_std = np.std(train_scores, axis=1)\n",
    "test_scores_mean = np.mean(test_scores, axis=1)\n",
    "test_scores_std = np.std(test_scores, axis=1)\n",
    "\n",
    "plt.title(\"Validation Curve with Lasso\")\n",
    "plt.xlabel(\"alpha\")\n",
    "plt.ylabel(\"Score\")\n",
    "plt.ylim(0.4, 1.0)\n",
    "plt.plot(param_range, train_scores_mean, label=\"Training score\", color=\"r\")\n",
    "plt.fill_between(param_range, train_scores_mean - train_scores_std,\n",
    "                 train_scores_mean + train_scores_std, alpha=0.2, color=\"r\")\n",
    "plt.plot(param_range, test_scores_mean, label=\"Cross-validation score\",\n",
    "             color=\"g\")\n",
    "plt.fill_between(param_range, test_scores_mean - test_scores_std,\n",
    "                 test_scores_mean + test_scores_std, alpha=0.2, color=\"g\")\n",
    "plt.legend(loc=\"best\")\n",
    "plt.show()"
   ]
  },
  {
   "cell_type": "markdown",
   "metadata": {},
   "source": [
    "It looks alpha between 1 and 2 works well"
   ]
  },
  {
   "cell_type": "markdown",
   "metadata": {},
   "source": [
    "## Grid search and/or Random search to determine best compination of parameters"
   ]
  },
  {
   "cell_type": "code",
   "execution_count": 15,
   "metadata": {
    "collapsed": false
   },
   "outputs": [
    {
     "name": "stdout",
     "output_type": "stream",
     "text": [
      "Hyperparameter optimization using GridSearchCV...\n",
      "Parameters with rank: 1\n",
      "Mean validation score: 0.7777 (std: 0.0542)\n",
      "Parameters: {'precompute': False, 'alpha': 1.0}\n",
      "\n",
      "Parameters with rank: 2\n",
      "Mean validation score: 0.7777 (std: 0.0542)\n",
      "Parameters: {'precompute': True, 'alpha': 1.0}\n",
      "\n",
      "Parameters with rank: 3\n",
      "Mean validation score: 0.7406 (std: 0.0576)\n",
      "Parameters: {'precompute': False, 'alpha': 1.5}\n",
      "\n",
      "Parameters with rank: 4\n",
      "Mean validation score: 0.7406 (std: 0.0576)\n",
      "Parameters: {'precompute': True, 'alpha': 1.5}\n",
      "\n",
      "Parameters with rank: 5\n",
      "Mean validation score: 0.6942 (std: 0.0586)\n",
      "Parameters: {'precompute': False, 'alpha': 2.0}\n",
      "\n",
      "+++++++++++++++++++++++++++++++++++++++++++++++\n",
      "Hyperparameter optimization using RandomizedSearchCV\n",
      "Parameters with rank: 1\n",
      "Mean validation score: 0.7999 (std: 0.0487)\n",
      "Parameters: {'precompute': False, 'alpha': 0.52631578947368418}\n",
      "\n",
      "Parameters with rank: 2\n",
      "Mean validation score: 0.7338 (std: 0.0577)\n",
      "Parameters: {'precompute': True, 'alpha': 1.5789473684210527}\n",
      "\n",
      "Parameters with rank: 3\n",
      "Mean validation score: 0.6517 (std: 0.0584)\n",
      "Parameters: {'precompute': True, 'alpha': 2.3684210526315788}\n",
      "\n",
      "Parameters with rank: 4\n",
      "Mean validation score: 0.4893 (std: 0.0524)\n",
      "Parameters: {'precompute': False, 'alpha': 3.4210526315789473}\n",
      "\n",
      "Parameters with rank: 5\n",
      "Mean validation score: 0.2465 (std: 0.0356)\n",
      "Parameters: {'precompute': False, 'alpha': 5.0}\n",
      "\n"
     ]
    }
   ],
   "source": [
    "# Utility function to report optimal parameters\n",
    "from operator import itemgetter\n",
    "def report(grid_scores, n_top=5):\n",
    "    params = None\n",
    "    top_scores = sorted(grid_scores, key=itemgetter(1), reverse=True)[:n_top]\n",
    "    for i, score in enumerate(top_scores):\n",
    "        print(\"Parameters with rank: {0}\".format(i + 1))\n",
    "        print(\"Mean validation score: {0:.4f} (std: {1:.4f})\".format(\n",
    "              score.mean_validation_score, np.std(score.cv_validation_scores)))\n",
    "        print(\"Parameters: {0}\".format(score.parameters))\n",
    "        print(\"\")\n",
    "        \n",
    "        if params == None:\n",
    "            params = score.parameters\n",
    "    \n",
    "    return params\n",
    "\n",
    "# The most common value for the max number of features to look at in each split is sqrt(# of features)\n",
    "sqrtfeat = np.sqrt(X.shape[1]) \n",
    "# Simple grid test (162 combinations)\n",
    "grid_test1 = { \"alpha\"      : [1.0, 1.5, 2.0, 2.5],\n",
    "               \"precompute\"         : [False, True] }\n",
    "\n",
    "# Large randomized test using max_depth to control tree size (5000 possible combinations)\n",
    "random_test1 = { \"alpha\"          : np.linspace(0,5.0,20),\n",
    "                 \"precompute\"         : [False, True] }\n",
    "\n",
    "\n",
    "forest = Lasso()\n",
    "\n",
    "print \"Hyperparameter optimization using GridSearchCV...\"\n",
    "grid_search = GridSearchCV(forest, grid_test1, n_jobs=-1, cv=num_folds)\n",
    "grid_search.fit(X, Y)\n",
    "best_params_from_grid_search = report(grid_search.grid_scores_)\n",
    "print '+++++++++++++++++++++++++++++++++++++++++++++++'\n",
    "print \"Hyperparameter optimization using RandomizedSearchCV\"\n",
    "grid_search = RandomizedSearchCV(forest, random_test1, n_jobs=-1, cv=num_folds, n_iter=5)\n",
    "grid_search.fit(X, Y)\n",
    "best_params_from_rand_search1 = report(grid_search.grid_scores_)"
   ]
  },
  {
   "cell_type": "markdown",
   "metadata": {},
   "source": [
    "Best parameters Parameters: {'precompute': False, 'alpha': 0.26315789473684209}\n"
   ]
  },
  {
   "cell_type": "markdown",
   "metadata": {},
   "source": [
    "## Learning Curve "
   ]
  },
  {
   "cell_type": "markdown",
   "metadata": {},
   "source": [
    "In essence, what we’re doing it training the exact same model with increasingly large fractions of our total training data, and plotting the error of the training and test sets at each step."
   ]
  },
  {
   "cell_type": "code",
   "execution_count": 16,
   "metadata": {
    "collapsed": false
   },
   "outputs": [
    {
     "data": {
      "image/png": "[encoded data removed]",
      "text/plain": [
       "<matplotlib.figure.Figure at 0x7f4160237590>"
      ]
     },
     "metadata": {},
     "output_type": "display_data"
    }
   ],
   "source": [
    "from sklearn.linear_model import Lasso,LassoCV\n",
    "# 'alpha': 10.0, 'solver': 'lsqr'\n",
    "model = Lasso(alpha = 0.26315789473684209, precompute = False)\n",
    "title = \"Learning Curves (Lasso Refression)\"\n",
    "cv = cross_validation.ShuffleSplit(X.shape[0], n_iter=100,\n",
    "                                   test_size=0.2, random_state=0)\n",
    "plot_learning_curve(model, title, X, Y, ylim=(0.2, 1.01), cv=cv, n_jobs=-1)\n",
    "plt.show()"
   ]
  },
  {
   "cell_type": "code",
   "execution_count": 17,
   "metadata": {
    "collapsed": false
   },
   "outputs": [
    {
     "name": "stdout",
     "output_type": "stream",
     "text": [
      "train_sizes =  [ 50  80 110]\n",
      " training scores\n",
      " 50 training sizees\n",
      "0.830885982632 ± 0.037823077369\n",
      " 80 training sizees\n",
      "0.824367197229 ± 0.0274619251638\n",
      " 110 training sizees\n",
      "0.82189963768 ± 0.0215515607645\n",
      "\n",
      " validation scores\n",
      " 50 validation scores\n",
      "0.777256855716 ± 0.0436677584015\n",
      " 80 validation scores\n",
      "0.784647256387 ± 0.0404218099088\n",
      " 110 validation scores\n",
      "0.790716330642 ± 0.0380705507084\n"
     ]
    }
   ],
   "source": [
    "# More data from learning curve to show the process of building the model\n",
    "train_sizes, train_scores, valid_scores = learning_curve(\n",
    "     model, X, Y, train_sizes=[50, 80, 110], cv=cv, n_jobs=4)\n",
    "\n",
    "print 'train_sizes = ', train_sizes\n",
    "\n",
    "print ' training scores'\n",
    "print ' 50 training sizees'\n",
    "print train_scores[0].mean(),'±',train_scores[0].std()\n",
    "print ' 80 training sizees'\n",
    "print train_scores[1].mean(),'±',train_scores[1].std()\n",
    "print ' 110 training sizees'\n",
    "print train_scores[2].mean(),'±',train_scores[2].std()\n",
    "\n",
    "print '\\n validation scores'\n",
    "print ' 50 validation scores'\n",
    "print valid_scores[0].mean(),'±',valid_scores[0].std()\n",
    "print ' 80 validation scores'\n",
    "print valid_scores[1].mean(),'±',valid_scores[1].std()\n",
    "print ' 110 validation scores'\n",
    "print valid_scores[2].mean(),'±',valid_scores[2].std()"
   ]
  },
  {
   "cell_type": "markdown",
   "metadata": {},
   "source": [
    "## Cross validation"
   ]
  },
  {
   "cell_type": "code",
   "execution_count": 18,
   "metadata": {
    "collapsed": false
   },
   "outputs": [
    {
     "name": "stdout",
     "output_type": "stream",
     "text": [
      "Scoring according to mean_squared_error\n",
      "[ -9.02269591 -18.15751893 -11.53422207 -16.33442961 -13.20886781\n",
      " -11.76400156 -12.7757038   -4.19801341 -13.50220745  -6.46962421]\n",
      "\n",
      " Mean      Standard deviation\n",
      "-11.70      4.01\n",
      "\n",
      " print intercept and coefficients\n",
      "23.5748427673\n",
      "[-0.         -0.          0.         -4.73165338  0.36343537  2.54674985\n",
      "  0.85900734]\n",
      "\n",
      "(feature, coefficients)\n",
      "[('mpg', -0.0), ('cylinders', -0.0), ('displacement', 0.0), ('horsepower', -4.7316533814022117), ('weight', 0.36343536599879006), ('acceleration', 2.5467498504835975), ('year', 0.85900734005474566)]\n"
     ]
    }
   ],
   "source": [
    "scoring = 'mean_squared_error'\n",
    "results = cross_validation.cross_val_score(model, X, Y, cv=kfold, scoring=scoring)\n",
    "print 'Scoring according to mean_squared_error'\n",
    "print results\n",
    "print '\\n Mean      Standard deviation'\n",
    "print(\"%.2f      %.2f\" % (results.mean(), results.std()))\n",
    "## Fit the model\n",
    "model.fit(X,Y)\n",
    "print '\\n print intercept and coefficients'\n",
    "print model.intercept_\n",
    "print model.coef_\n",
    "# pair the feature names with the coefficients\n",
    "print '\\n(feature, coefficients)'\n",
    "print zip(feature_cols, model.coef_)\n",
    "# Linear qu. of the model\n",
    "\n"
   ]
  },
  {
   "cell_type": "markdown",
   "metadata": {},
   "source": [
    "To be more precise these valrible is not the input feature as descripe on the dataset, those varibles in scaled virsion on the orginal onces. So, to be more correct I should assign to them another varibles but for easy to unserstand I kept them as they were."
   ]
  },
  {
   "cell_type": "markdown",
   "metadata": {},
   "source": [
    "## Coefficients Of Determination {Calculating R^2}\n",
    "\n",
    "R^2, Close to one is better"
   ]
  },
  {
   "cell_type": "code",
   "execution_count": 19,
   "metadata": {
    "collapsed": false
   },
   "outputs": [
    {
     "name": "stdout",
     "output_type": "stream",
     "text": [
      "R-squared =  0.80579369245\n"
     ]
    }
   ],
   "source": [
    "predicted = cross_val_predict(model, X, Y, cv=kfold)\n",
    "r_squared = r2_score(Y, predicted, multioutput='variance_weighted')\n",
    "print 'R-squared = ',r_squared"
   ]
  },
  {
   "cell_type": "markdown",
   "metadata": {},
   "source": [
    "## Residual Plot"
   ]
  },
  {
   "cell_type": "code",
   "execution_count": 20,
   "metadata": {
    "collapsed": false
   },
   "outputs": [
    {
     "data": {
      "image/png": "[encoded data removed]",
      "text/plain": [
       "<matplotlib.figure.Figure at 0x7f415c35d490>"
      ]
     },
     "metadata": {},
     "output_type": "display_data"
    }
   ],
   "source": [
    "predicted = cross_val_predict(model, X, Y, cv=kfold)\n",
    "fig, ax = plt.subplots()\n",
    "ax.scatter(Y, predicted)\n",
    "ax.plot([Y.min(), Y.max()], [Y.min(), Y.max()], 'k--', lw=4)\n",
    "ax.set_xlabel('Measured')\n",
    "ax.set_ylabel('Predicted')\n",
    "plt.show()"
   ]
  },
  {
   "cell_type": "code",
   "execution_count": 21,
   "metadata": {
    "collapsed": false
   },
   "outputs": [
    {
     "data": {
      "text/html": [
       "\n",
       "\n",
       "    <div class=\"bk-root\">\n",
       "        <div class=\"plotdiv\" id=\"8124deae-c78c-440b-b330-2f124ec5d994\"></div>\n",
       "    </div>\n",
       "<script type=\"text/javascript\">\n",
       "  \n",
       "  (function(global) {\n",
       "    function now() {\n",
       "      return new Date();\n",
       "    }\n",
       "  \n",
       "    var force = \"\";\n",
       "  \n",
       "    if (typeof (window._bokeh_onload_callbacks) === \"undefined\" || force !== \"\") {\n",
       "      window._bokeh_onload_callbacks = [];\n",
       "      window._bokeh_is_loading = undefined;\n",
       "    }\n",
       "  \n",
       "  \n",
       "    \n",
       "    if (typeof (window._bokeh_timeout) === \"undefined\" || force !== \"\") {\n",
       "      window._bokeh_timeout = Date.now() + 0;\n",
       "      window._bokeh_failed_load = false;\n",
       "    }\n",
       "  \n",
       "    var NB_LOAD_WARNING = {'data': {'text/html':\n",
       "       \"<div style='background-color: #fdd'>\\n\"+\n",
       "       \"<p>\\n\"+\n",
       "       \"BokehJS does not appear to have successfully loaded. If loading BokehJS from CDN, this \\n\"+\n",
       "       \"may be due to a slow or bad network connection. Possible fixes:\\n\"+\n",
       "       \"</p>\\n\"+\n",
       "       \"<ul>\\n\"+\n",
       "       \"<li>re-rerun `output_notebook()` to attempt to load from CDN again, or</li>\\n\"+\n",
       "       \"<li>use INLINE resources instead, as so:</li>\\n\"+\n",
       "       \"</ul>\\n\"+\n",
       "       \"<code>\\n\"+\n",
       "       \"from bokeh.resources import INLINE\\n\"+\n",
       "       \"output_notebook(resources=INLINE)\\n\"+\n",
       "       \"</code>\\n\"+\n",
       "       \"</div>\"}};\n",
       "  \n",
       "    function display_loaded() {\n",
       "      if (window.Bokeh !== undefined) {\n",
       "        Bokeh.$(\"#8124deae-c78c-440b-b330-2f124ec5d994\").text(\"BokehJS successfully loaded.\");\n",
       "      } else if (Date.now() < window._bokeh_timeout) {\n",
       "        setTimeout(display_loaded, 100)\n",
       "      }\n",
       "    }\n",
       "  \n",
       "    function run_callbacks() {\n",
       "      window._bokeh_onload_callbacks.forEach(function(callback) { callback() });\n",
       "      delete window._bokeh_onload_callbacks\n",
       "      console.info(\"Bokeh: all callbacks have finished\");\n",
       "    }\n",
       "  \n",
       "    function load_libs(js_urls, callback) {\n",
       "      window._bokeh_onload_callbacks.push(callback);\n",
       "      if (window._bokeh_is_loading > 0) {\n",
       "        console.log(\"Bokeh: BokehJS is being loaded, scheduling callback at\", now());\n",
       "        return null;\n",
       "      }\n",
       "      if (js_urls == null || js_urls.length === 0) {\n",
       "        run_callbacks();\n",
       "        return null;\n",
       "      }\n",
       "      console.log(\"Bokeh: BokehJS not loaded, scheduling load and callback at\", now());\n",
       "      window._bokeh_is_loading = js_urls.length;\n",
       "      for (var i = 0; i < js_urls.length; i++) {\n",
       "        var url = js_urls[i];\n",
       "        var s = document.createElement('script');\n",
       "        s.src = url;\n",
       "        s.async = false;\n",
       "        s.onreadystatechange = s.onload = function() {\n",
       "          window._bokeh_is_loading--;\n",
       "          if (window._bokeh_is_loading === 0) {\n",
       "            console.log(\"Bokeh: all BokehJS libraries loaded\");\n",
       "            run_callbacks()\n",
       "          }\n",
       "        };\n",
       "        s.onerror = function() {\n",
       "          console.warn(\"failed to load library \" + url);\n",
       "        };\n",
       "        console.log(\"Bokeh: injecting script tag for BokehJS library: \", url);\n",
       "        document.getElementsByTagName(\"head\")[0].appendChild(s);\n",
       "      }\n",
       "    };var element = document.getElementById(\"8124deae-c78c-440b-b330-2f124ec5d994\");\n",
       "    if (element == null) {\n",
       "      console.log(\"Bokeh: ERROR: autoload.js configured with elementid '8124deae-c78c-440b-b330-2f124ec5d994' but no matching script tag was found. \")\n",
       "      return false;\n",
       "    }\n",
       "  \n",
       "    var js_urls = [];\n",
       "  \n",
       "    var inline_js = [\n",
       "      function(Bokeh) {\n",
       "        Bokeh.$(function() {\n",
       "            var docs_json = {\"257ff9a5-6164-4e1d-802b-4ec5e6641b48\":{\"roots\":{\"references\":[{\"attributes\":{\"plot\":{\"id\":\"c0d146b9-f06b-40ec-9708-6aa32b1f5a71\",\"subtype\":\"Figure\",\"type\":\"Plot\"}},\"id\":\"41998eed-9721-4d67-af51-3ef2c2f29e8f\",\"type\":\"WheelZoomTool\"},{\"attributes\":{\"axis_label\":\"Measured\",\"axis_label_text_color\":{\"value\":\"#aa6666\"},\"formatter\":{\"id\":\"c759565e-2bbe-4269-8fa3-3c1c890bcf7b\",\"type\":\"BasicTickFormatter\"},\"major_tick_line_color\":{\"value\":\"firebrick\"},\"major_tick_line_width\":{\"value\":3},\"minor_tick_line_color\":{\"value\":\"orange\"},\"plot\":{\"id\":\"c0d146b9-f06b-40ec-9708-6aa32b1f5a71\",\"subtype\":\"Figure\",\"type\":\"Plot\"},\"ticker\":{\"id\":\"5ece7576-39a6-4189-b69c-fa6dd556729d\",\"type\":\"BasicTicker\"}},\"id\":\"c12c86d6-db1e-4b18-8e28-671935f6cfc4\",\"type\":\"LinearAxis\"},{\"attributes\":{\"plot\":{\"id\":\"c0d146b9-f06b-40ec-9708-6aa32b1f5a71\",\"subtype\":\"Figure\",\"type\":\"Plot\"}},\"id\":\"9685a894-83ff-4ff2-bed1-1df951bf3134\",\"type\":\"ResizeTool\"},{\"attributes\":{\"bottom_units\":\"screen\",\"fill_alpha\":{\"value\":0.5},\"fill_color\":{\"value\":\"lightgrey\"},\"left_units\":\"screen\",\"level\":\"overlay\",\"line_alpha\":{\"value\":1.0},\"line_color\":{\"value\":\"black\"},\"line_dash\":[4,4],\"line_width\":{\"value\":2},\"plot\":null,\"render_mode\":\"css\",\"right_units\":\"screen\",\"top_units\":\"screen\"},\"id\":\"f652d0ac-8506-40ff-9f1a-c79bbcca406c\",\"type\":\"BoxAnnotation\"},{\"attributes\":{\"callback\":null,\"column_names\":[\"y\",\"x\"],\"data\":{\"x\":[9.0,46.6],\"y\":[9.0,46.6]}},\"id\":\"e217ac60-69bd-4ba9-91d0-a2ef9b7ba5f8\",\"type\":\"ColumnDataSource\"},{\"attributes\":{\"plot\":{\"id\":\"c0d146b9-f06b-40ec-9708-6aa32b1f5a71\",\"subtype\":\"Figure\",\"type\":\"Plot\"}},\"id\":\"37dc1e11-0c07-480b-81d2-4e0b63991eb3\",\"type\":\"ResetTool\"},{\"attributes\":{\"fill_alpha\":{\"value\":0.5},\"fill_color\":{\"value\":\"lightgrey\"},\"level\":\"overlay\",\"line_alpha\":{\"value\":1.0},\"line_color\":{\"value\":\"black\"},\"line_dash\":[4,4],\"line_width\":{\"value\":2},\"plot\":null,\"xs_units\":\"screen\",\"ys_units\":\"screen\"},\"id\":\"32306ef4-9c3b-49c6-9db6-c6b903aaa27b\",\"type\":\"PolyAnnotation\"},{\"attributes\":{},\"id\":\"725cbcb6-e623-4703-9a21-1c4f4ab49003\",\"type\":\"BasicTickFormatter\"},{\"attributes\":{\"fill_alpha\":{\"value\":0.1},\"fill_color\":{\"value\":\"#1f77b4\"},\"line_alpha\":{\"value\":0.1},\"line_color\":{\"value\":\"#1f77b4\"},\"line_width\":{\"value\":3},\"x\":{\"field\":\"x\"},\"y\":{\"field\":\"y\"}},\"id\":\"7c1bb801-4364-440c-8fcc-ec5f1df59ced\",\"type\":\"Circle\"},{\"attributes\":{\"callback\":null,\"overlay\":{\"id\":\"013304eb-1c0d-4402-a1e9-025487be3a8e\",\"type\":\"BoxAnnotation\"},\"plot\":{\"id\":\"c0d146b9-f06b-40ec-9708-6aa32b1f5a71\",\"subtype\":\"Figure\",\"type\":\"Plot\"},\"renderers\":[{\"id\":\"6a2c167c-dee0-4016-ad3b-fb655f9782c7\",\"type\":\"GlyphRenderer\"},{\"id\":\"b49eba6c-513f-4c3b-ae2c-017e38d48ac7\",\"type\":\"GlyphRenderer\"}]},\"id\":\"e72f3c10-ca14-41dc-935b-e97305dadfc2\",\"type\":\"BoxSelectTool\"},{\"attributes\":{\"active_drag\":\"auto\",\"active_scroll\":\"auto\",\"active_tap\":\"auto\",\"tools\":[{\"id\":\"67fa5434-5111-4b69-8c57-51dcfe28fa46\",\"type\":\"BoxZoomTool\"},{\"id\":\"e72f3c10-ca14-41dc-935b-e97305dadfc2\",\"type\":\"BoxSelectTool\"},{\"id\":\"9ec6e99b-3844-40b2-8a29-f5e365f9b7ab\",\"type\":\"CrosshairTool\"},{\"id\":\"9685a894-83ff-4ff2-bed1-1df951bf3134\",\"type\":\"ResizeTool\"},{\"id\":\"37dc1e11-0c07-480b-81d2-4e0b63991eb3\",\"type\":\"ResetTool\"},{\"id\":\"017ee678-7f9f-4eca-b4c2-4f281345e677\",\"type\":\"LassoSelectTool\"},{\"id\":\"e38a0486-c915-4b92-8659-c908aac5222e\",\"type\":\"PanTool\"},{\"id\":\"ab640c4e-df02-4f18-baf2-1594ad41b98a\",\"type\":\"SaveTool\"},{\"id\":\"e0245183-cf1b-4650-abf4-940120e6dcb6\",\"type\":\"PolySelectTool\"},{\"id\":\"e35e36a5-6ca9-4043-9d44-77e5ffd1bfb0\",\"type\":\"TapTool\"},{\"id\":\"41998eed-9721-4d67-af51-3ef2c2f29e8f\",\"type\":\"WheelZoomTool\"},{\"id\":\"698b10c6-f548-429b-929f-d60f7a03d7d6\",\"type\":\"UndoTool\"}]},\"id\":\"93f32ece-5091-4658-9b1e-beb1ff30bde6\",\"type\":\"Toolbar\"},{\"attributes\":{\"callback\":null,\"column_names\":[\"x\",\"y\"],\"data\":{\"x\":[15.0,27.0,34.3,26.0,31.6,33.8,29.0,18.1,27.2,38.0,26.0,14.0,22.0,31.0,36.4,17.6,17.7,28.0,20.8,14.0,20.2,32.8,22.3,28.0,37.0,27.0,23.2,13.0,15.0,22.0,24.0,29.0,13.0,31.8,23.0,25.5,29.9,13.0,17.5,46.6,15.5,32.9,14.0,25.0,19.4,15.0,32.4,31.5,27.0,19.8,17.0,33.5,21.0,23.0,38.1,44.0,40.8,21.0,29.0,17.5,28.0,26.0,26.0,11.0,37.7,24.2,16.0,16.0,30.0,19.0,27.0,19.0,16.0,16.0,20.3,21.0,33.5,23.0,21.5,16.0,19.0,37.0,15.0,16.0,26.0,18.0,13.0,21.0,29.0,22.0,33.0,22.0,16.0,36.0,20.0,22.0,31.3,14.5,29.8,13.0,13.0,36.0,20.5,25.0,27.0,33.0,16.5,20.6,30.0,43.4,34.7,11.0,18.0,13.0,16.0,19.0,23.0,25.5,14.0,24.5,30.0,25.8,38.0,28.8,26.6,17.0,32.0,18.1,11.0,21.0,36.0,13.0,30.0,31.0,14.0,18.0,13.0,21.6,28.0,23.8,14.0,27.0,20.2,26.0,39.4,19.9,19.0,14.0,23.6,13.0,38.0,30.5,18.5,17.0,12.0,16.0,28.0,15.5,32.0,24.0,25.1,16.0,13.0,24.0,22.0,24.0,15.0,19.0,18.0,27.2,14.0,21.0,44.3,28.0,31.5,19.2,14.0,30.5,29.8,36.1,26.8,26.0,20.5,32.1,16.0,17.0,20.0,22.0,25.0,23.9,31.0,39.0,28.0,34.5,22.0,20.6,14.0,25.4,14.0,30.0,19.0,36.0,25.0,14.0,21.1,28.0,19.0,19.1,24.3,44.6,20.0,17.0,13.0,34.2,26.0,17.5,26.0,13.0,18.0,18.5,36.0,16.0,38.0,23.0,20.5,13.0,28.0,12.0,34.1,20.0,12.0,28.4,18.0,20.0,29.5,19.0,26.0,26.0,25.0,32.0,33.7,28.0,19.2,29.5,27.0,15.0,39.1,26.6,13.0,23.0,27.5,20.0,19.2,24.0,32.2,19.4,33.0,12.0,13.0,17.6,23.9,34.4,14.0,31.0,35.1,15.0,15.5,9.0,25.0,18.0,31.0,43.1,17.5,25.0,25.0,19.0,26.0,31.0,18.2,30.7,24.0,17.0,27.0,23.0,18.0,27.2,35.0,29.0,21.5,15.0,17.5,15.0,32.7,10.0,20.0,32.4,34.0,18.0,32.0,14.0,24.0,26.4,14.0,13.0,13.0,18.5,21.5,16.2,16.5,15.0,28.1,29.0,20.2,27.9,22.0,29.0,19.0,25.0],\"y\":[13.158637533391996,27.106185651266582,31.082813212769302,28.119081502844573,30.597629942879088,32.61122382926952,29.61513317164542,21.68808599749929,25.859875943276766,31.7046130339914,25.601800022661624,9.6719413231466,26.277080513919618,30.969224211708497,27.30560297282963,20.409458777852667,21.278189870530706,26.016939833765704,23.802787717037006,11.563206566927736,24.28132525902898,32.27172533292818,25.59923530064424,26.01822524100243,34.45151912779583,27.38488898362586,25.63272395079356,15.32148730250417,15.75702022541812,23.11857330861158,22.479171643156995,28.731595016527564,17.682829748476415,32.312143676021854,23.379134403584743,24.741654160595814,30.06863579063765,12.677763758447387,18.076076478915425,32.371487383079476,16.39106192347737,29.867970763228485,14.209245486155288,23.078675341542404,19.644124579173265,21.47123820971686,31.626865664844033,30.72084342445168,27.95771224254723,25.05742010331017,15.674208325059398,28.529340631536158,21.604949439036563,21.1705848271027,33.24734898936497,33.42632439073677,32.50353397884636,20.846272180833775,30.02104965901088,20.454708788546647,23.291301136369608,25.558739108317788,26.441713819630557,9.246101752091832,33.83800419922116,28.26631019101513,13.313422456630096,12.438290390791764,25.984766889267778,22.447051154175234,27.982407804440943,25.081010250888255,15.72719271166757,14.597991887528252,26.112246849438563,22.297108976305665,26.914436992944275,19.889477794613477,23.320390160536398,17.12120949321846,21.020291862452318,34.79797683688648,18.40079310594232,16.81020396342885,28.982479810169533,20.136791665149094,13.99951923660572,24.572669938624408,28.881486892761547,21.357407631854063,31.924453579033482,27.585356062948556,15.598985656334339,31.596457513972524,27.37670273104155,23.24454788548275,30.377894837976665,15.522471574984683,32.91396123359222,13.442329438978078,11.569507027201894,31.835709616394524,23.348935149287584,27.190820392370075,25.9865079831477,30.976759050884866,19.139123951528212,22.76889241592944,25.63795259424751,30.982343602825363,30.397583837230655,10.393792874863477,15.418291963997724,18.193780727095444,12.169626255219178,25.187347197585645,27.07750161695356,27.137491137965217,12.820805686232426,24.737928234089317,27.8777152738496,28.098222069210834,26.858217688462474,26.52247541509513,28.203666965491895,17.14925297065266,30.55619666167905,22.409890108316525,10.044651717419537,20.47739675762395,33.36174570392018,6.560020832977941,31.361574472487987,29.772538262176205,13.40694618797231,27.45339673267923,20.628406394036496,26.308404766646454,27.430180877503307,25.15136471006191,12.377484320927252,25.447062967922008,23.567275439964977,25.868954623595,31.821117860543644,21.991289327871968,25.578383409273837,17.398832779343728,25.879307208204093,16.250046713046796,34.793147690999405,28.895099199917063,20.77893653564976,17.4288430257205,9.347759067749692,17.20093687724566,24.639733712416838,16.999344510651543,30.4552020154155,26.456653368293782,25.532221538869432,15.684156739353572,17.07513356562351,27.62741839729654,26.596684300649375,26.513424001422184,13.73909182071525,20.578726285074747,19.755964287369896,30.26933899655728,13.663287225617044,24.279277785947375,32.30007162308454,29.82863495097743,30.672806481965743,21.322733834860422,12.200424317085657,28.629323576512984,29.47818792736834,33.11240422317936,25.841673175235716,26.625679834708325,20.960015712807795,30.159837753268413,15.56694892336375,24.090329937296513,20.834759612889666,24.067139977557773,24.913175355244334,23.211257114469095,35.10523784083236,32.28093673885525,26.509756256492054,30.810786418087048,23.10899608799052,21.909321907711607,13.342931530584785,23.90983084478107,15.886992809152265,28.664278327768557,17.42046944671141,33.18512182186428,24.787978275832188,12.569083457225894,28.57849962969761,24.541643551463572,23.651334587468252,23.95703573156418,26.315145796417696,33.30909843247784,23.249726728044006,18.29792797523406,12.07120554679078,28.35049917784742,24.305847023508015,15.385254075436547,22.906118291673057,8.839504330497057,14.832798267097301,19.19286954417192,33.21645190095132,19.510262715890406,34.466190792542314,23.511808110523564,21.83525385679607,10.07189993569051,29.64811517585754,8.839488476747377,34.08185091988801,22.531678530217295,11.309092882283812,26.703056061821123,18.264629320103577,22.8795657321479,31.22323415200156,20.067355958306795,26.416542722027422,26.176465937967652,24.618435241630316,30.748631603523137,32.58040552532567,29.39795084238115,21.319573254419055,29.963314570654934,27.24051168955412,17.69459303359804,35.516587844535024,22.481399982160283,11.754172029327673,24.651930272725473,28.471825307113956,23.80465597241646,21.23225985365507,26.08886119629525,31.680636523143647,23.090487750164076,31.63617968390721,7.6251983454783705,10.931104864362931,23.768330655611482,29.391070828291696,31.686649592940686,11.874529593293826,28.45642237672589,35.303581864933335,19.54504167944722,18.74549787488239,9.044166541817656,28.23813206452569,17.991157197043382,27.93150498039838,31.5640355177041,21.87614252383139,25.273441348764173,24.89423847755004,21.860227678394693,27.127374397415995,29.42635977664973,20.11586459540049,26.872783008336874,27.262472300066584,20.084932395134885,29.36381980169382,24.62496097195347,20.89937113459847,29.1264560705368,29.2959307727498,29.531827822353392,26.88120911386355,14.015290516693696,17.68809867377856,14.300358634006326,27.649251844942473,9.022936898461577,20.354784401382304,31.93713822897548,33.60060571619476,21.830881150441705,35.00424345470877,10.227458471832772,22.828625542872746,26.54809960579501,14.454634195039954,11.318917220444654,14.544074465514067,19.087936352863117,26.31448018354893,22.898903535217773,19.29648814920582,12.540464333261877,26.70566713107628,28.98187970549849,20.42843532496313,26.413196114466814,20.46743030856073,28.54597744737291,17.37673690161708,27.53930526175899]}},\"id\":\"4d09385a-56e7-4f31-a4f5-fa833ac044fd\",\"type\":\"ColumnDataSource\"},{\"attributes\":{},\"id\":\"e57af7b6-930b-4f1c-9399-d24c7cca6d4d\",\"type\":\"BasicTicker\"},{\"attributes\":{\"plot\":{\"id\":\"c0d146b9-f06b-40ec-9708-6aa32b1f5a71\",\"subtype\":\"Figure\",\"type\":\"Plot\"},\"ticker\":{\"id\":\"5ece7576-39a6-4189-b69c-fa6dd556729d\",\"type\":\"BasicTicker\"}},\"id\":\"dfdcc1b8-7e24-4f6f-acc3-5834a8544b28\",\"type\":\"Grid\"},{\"attributes\":{},\"id\":\"c759565e-2bbe-4269-8fa3-3c1c890bcf7b\",\"type\":\"BasicTickFormatter\"},{\"attributes\":{\"overlay\":{\"id\":\"32306ef4-9c3b-49c6-9db6-c6b903aaa27b\",\"type\":\"PolyAnnotation\"},\"plot\":{\"id\":\"c0d146b9-f06b-40ec-9708-6aa32b1f5a71\",\"subtype\":\"Figure\",\"type\":\"Plot\"}},\"id\":\"e0245183-cf1b-4650-abf4-940120e6dcb6\",\"type\":\"PolySelectTool\"},{\"attributes\":{\"callback\":null,\"plot\":{\"id\":\"c0d146b9-f06b-40ec-9708-6aa32b1f5a71\",\"subtype\":\"Figure\",\"type\":\"Plot\"}},\"id\":\"e35e36a5-6ca9-4043-9d44-77e5ffd1bfb0\",\"type\":\"TapTool\"},{\"attributes\":{\"overlay\":{\"id\":\"f652d0ac-8506-40ff-9f1a-c79bbcca406c\",\"type\":\"BoxAnnotation\"},\"plot\":{\"id\":\"c0d146b9-f06b-40ec-9708-6aa32b1f5a71\",\"subtype\":\"Figure\",\"type\":\"Plot\"}},\"id\":\"67fa5434-5111-4b69-8c57-51dcfe28fa46\",\"type\":\"BoxZoomTool\"},{\"attributes\":{\"callback\":null,\"overlay\":{\"id\":\"6e253c73-b463-4a22-9f06-71d6e732e0bc\",\"type\":\"PolyAnnotation\"},\"plot\":{\"id\":\"c0d146b9-f06b-40ec-9708-6aa32b1f5a71\",\"subtype\":\"Figure\",\"type\":\"Plot\"}},\"id\":\"017ee678-7f9f-4eca-b4c2-4f281345e677\",\"type\":\"LassoSelectTool\"},{\"attributes\":{\"plot\":{\"id\":\"c0d146b9-f06b-40ec-9708-6aa32b1f5a71\",\"subtype\":\"Figure\",\"type\":\"Plot\"}},\"id\":\"9ec6e99b-3844-40b2-8a29-f5e365f9b7ab\",\"type\":\"CrosshairTool\"},{\"attributes\":{\"line_dash\":[4,4],\"line_width\":{\"value\":2},\"x\":{\"field\":\"x\"},\"y\":{\"field\":\"y\"}},\"id\":\"161340c9-741d-4890-ae4a-efab8f6d233e\",\"type\":\"Line\"},{\"attributes\":{\"fill_alpha\":{\"value\":0.5},\"fill_color\":{\"value\":\"lightgrey\"},\"level\":\"overlay\",\"line_alpha\":{\"value\":1.0},\"line_color\":{\"value\":\"black\"},\"line_dash\":[4,4],\"line_width\":{\"value\":2},\"plot\":null,\"xs_units\":\"screen\",\"ys_units\":\"screen\"},\"id\":\"6e253c73-b463-4a22-9f06-71d6e732e0bc\",\"type\":\"PolyAnnotation\"},{\"attributes\":{\"plot\":{\"id\":\"c0d146b9-f06b-40ec-9708-6aa32b1f5a71\",\"subtype\":\"Figure\",\"type\":\"Plot\"}},\"id\":\"e38a0486-c915-4b92-8659-c908aac5222e\",\"type\":\"PanTool\"},{\"attributes\":{\"line_alpha\":{\"value\":0.1},\"line_color\":{\"value\":\"#1f77b4\"},\"line_dash\":[4,4],\"line_width\":{\"value\":2},\"x\":{\"field\":\"x\"},\"y\":{\"field\":\"y\"}},\"id\":\"50f43ff2-429a-4e0a-9665-90c57b0f67ef\",\"type\":\"Line\"},{\"attributes\":{\"callback\":null},\"id\":\"10fe66a6-88e0-43c3-aa19-b4e18efbc6ba\",\"type\":\"DataRange1d\"},{\"attributes\":{\"plot\":{\"id\":\"c0d146b9-f06b-40ec-9708-6aa32b1f5a71\",\"subtype\":\"Figure\",\"type\":\"Plot\"}},\"id\":\"ab640c4e-df02-4f18-baf2-1594ad41b98a\",\"type\":\"SaveTool\"},{\"attributes\":{\"axis_label\":\"Predicted\",\"axis_label_text_color\":{\"value\":\"#aa6666\"},\"formatter\":{\"id\":\"725cbcb6-e623-4703-9a21-1c4f4ab49003\",\"type\":\"BasicTickFormatter\"},\"plot\":{\"id\":\"c0d146b9-f06b-40ec-9708-6aa32b1f5a71\",\"subtype\":\"Figure\",\"type\":\"Plot\"},\"ticker\":{\"id\":\"e57af7b6-930b-4f1c-9399-d24c7cca6d4d\",\"type\":\"BasicTicker\"}},\"id\":\"a0223a3f-571e-4191-8f59-c0e710a95ef9\",\"type\":\"LinearAxis\"},{\"attributes\":{},\"id\":\"10ba6911-3953-4c93-b881-bd4382fecd3c\",\"type\":\"ToolEvents\"},{\"attributes\":{},\"id\":\"5ece7576-39a6-4189-b69c-fa6dd556729d\",\"type\":\"BasicTicker\"},{\"attributes\":{\"bottom_units\":\"screen\",\"fill_alpha\":{\"value\":0.5},\"fill_color\":{\"value\":\"lightgrey\"},\"left_units\":\"screen\",\"level\":\"overlay\",\"line_alpha\":{\"value\":1.0},\"line_color\":{\"value\":\"black\"},\"line_dash\":[4,4],\"line_width\":{\"value\":2},\"plot\":null,\"render_mode\":\"css\",\"right_units\":\"screen\",\"top_units\":\"screen\"},\"id\":\"013304eb-1c0d-4402-a1e9-025487be3a8e\",\"type\":\"BoxAnnotation\"},{\"attributes\":{\"fill_color\":{\"value\":\"#80B1D3\"},\"line_color\":{\"value\":\"#80B1D3\"},\"line_width\":{\"value\":3},\"x\":{\"field\":\"x\"},\"y\":{\"field\":\"y\"}},\"id\":\"f408059a-f777-4306-b59a-4817f878da21\",\"type\":\"Circle\"},{\"attributes\":{\"callback\":null},\"id\":\"fd4bb002-4efe-40e4-b63f-83e782c3dced\",\"type\":\"DataRange1d\"},{\"attributes\":{\"plot\":{\"id\":\"c0d146b9-f06b-40ec-9708-6aa32b1f5a71\",\"subtype\":\"Figure\",\"type\":\"Plot\"}},\"id\":\"698b10c6-f548-429b-929f-d60f7a03d7d6\",\"type\":\"UndoTool\"},{\"attributes\":{\"data_source\":{\"id\":\"e217ac60-69bd-4ba9-91d0-a2ef9b7ba5f8\",\"type\":\"ColumnDataSource\"},\"glyph\":{\"id\":\"161340c9-741d-4890-ae4a-efab8f6d233e\",\"type\":\"Line\"},\"hover_glyph\":null,\"nonselection_glyph\":{\"id\":\"50f43ff2-429a-4e0a-9665-90c57b0f67ef\",\"type\":\"Line\"},\"selection_glyph\":null},\"id\":\"b49eba6c-513f-4c3b-ae2c-017e38d48ac7\",\"type\":\"GlyphRenderer\"},{\"attributes\":{\"align\":\"center\",\"plot\":null,\"text\":null},\"id\":\"ef981315-dce2-49f7-bf02-c5b51e2e36a6\",\"type\":\"Title\"},{\"attributes\":{\"background_fill_alpha\":{\"value\":0.5},\"background_fill_color\":{\"value\":\"beige\"},\"below\":[{\"id\":\"c12c86d6-db1e-4b18-8e28-671935f6cfc4\",\"type\":\"LinearAxis\"}],\"left\":[{\"id\":\"a0223a3f-571e-4191-8f59-c0e710a95ef9\",\"type\":\"LinearAxis\"}],\"plot_height\":500,\"plot_width\":500,\"renderers\":[{\"id\":\"c12c86d6-db1e-4b18-8e28-671935f6cfc4\",\"type\":\"LinearAxis\"},{\"id\":\"dfdcc1b8-7e24-4f6f-acc3-5834a8544b28\",\"type\":\"Grid\"},{\"id\":\"a0223a3f-571e-4191-8f59-c0e710a95ef9\",\"type\":\"LinearAxis\"},{\"id\":\"2f291fc7-2aef-4e9c-87bd-a6a9a3e082d9\",\"type\":\"Grid\"},{\"id\":\"f652d0ac-8506-40ff-9f1a-c79bbcca406c\",\"type\":\"BoxAnnotation\"},{\"id\":\"013304eb-1c0d-4402-a1e9-025487be3a8e\",\"type\":\"BoxAnnotation\"},{\"id\":\"6e253c73-b463-4a22-9f06-71d6e732e0bc\",\"type\":\"PolyAnnotation\"},{\"id\":\"32306ef4-9c3b-49c6-9db6-c6b903aaa27b\",\"type\":\"PolyAnnotation\"},{\"id\":\"6a2c167c-dee0-4016-ad3b-fb655f9782c7\",\"type\":\"GlyphRenderer\"},{\"id\":\"b49eba6c-513f-4c3b-ae2c-017e38d48ac7\",\"type\":\"GlyphRenderer\"}],\"title\":{\"id\":\"ef981315-dce2-49f7-bf02-c5b51e2e36a6\",\"type\":\"Title\"},\"tool_events\":{\"id\":\"10ba6911-3953-4c93-b881-bd4382fecd3c\",\"type\":\"ToolEvents\"},\"toolbar\":{\"id\":\"93f32ece-5091-4658-9b1e-beb1ff30bde6\",\"type\":\"Toolbar\"},\"x_range\":{\"id\":\"fd4bb002-4efe-40e4-b63f-83e782c3dced\",\"type\":\"DataRange1d\"},\"y_range\":{\"id\":\"10fe66a6-88e0-43c3-aa19-b4e18efbc6ba\",\"type\":\"DataRange1d\"}},\"id\":\"c0d146b9-f06b-40ec-9708-6aa32b1f5a71\",\"subtype\":\"Figure\",\"type\":\"Plot\"},{\"attributes\":{\"data_source\":{\"id\":\"4d09385a-56e7-4f31-a4f5-fa833ac044fd\",\"type\":\"ColumnDataSource\"},\"glyph\":{\"id\":\"f408059a-f777-4306-b59a-4817f878da21\",\"type\":\"Circle\"},\"hover_glyph\":null,\"nonselection_glyph\":{\"id\":\"7c1bb801-4364-440c-8fcc-ec5f1df59ced\",\"type\":\"Circle\"},\"selection_glyph\":null},\"id\":\"6a2c167c-dee0-4016-ad3b-fb655f9782c7\",\"type\":\"GlyphRenderer\"},{\"attributes\":{\"dimension\":1,\"plot\":{\"id\":\"c0d146b9-f06b-40ec-9708-6aa32b1f5a71\",\"subtype\":\"Figure\",\"type\":\"Plot\"},\"ticker\":{\"id\":\"e57af7b6-930b-4f1c-9399-d24c7cca6d4d\",\"type\":\"BasicTicker\"}},\"id\":\"2f291fc7-2aef-4e9c-87bd-a6a9a3e082d9\",\"type\":\"Grid\"}],\"root_ids\":[\"c0d146b9-f06b-40ec-9708-6aa32b1f5a71\"]},\"title\":\"Bokeh Application\",\"version\":\"0.12.2\"}};\n",
       "            var render_items = [{\"docid\":\"257ff9a5-6164-4e1d-802b-4ec5e6641b48\",\"elementid\":\"8124deae-c78c-440b-b330-2f124ec5d994\",\"modelid\":\"c0d146b9-f06b-40ec-9708-6aa32b1f5a71\"}];\n",
       "            \n",
       "            Bokeh.embed.embed_items(docs_json, render_items);\n",
       "        });\n",
       "      },\n",
       "      function(Bokeh) {\n",
       "      }\n",
       "    ];\n",
       "  \n",
       "    function run_inline_js() {\n",
       "      \n",
       "      if ((window.Bokeh !== undefined) || (force === \"1\")) {\n",
       "        for (var i = 0; i < inline_js.length; i++) {\n",
       "          inline_js[i](window.Bokeh);\n",
       "        }if (force === \"1\") {\n",
       "          display_loaded();\n",
       "        }} else if (Date.now() < window._bokeh_timeout) {\n",
       "        setTimeout(run_inline_js, 100);\n",
       "      } else if (!window._bokeh_failed_load) {\n",
       "        console.log(\"Bokeh: BokehJS failed to load within specified timeout.\");\n",
       "        window._bokeh_failed_load = true;\n",
       "      } else if (!force) {\n",
       "        var cell = $(\"#8124deae-c78c-440b-b330-2f124ec5d994\").parents('.cell').data().cell;\n",
       "        cell.output_area.append_execute_result(NB_LOAD_WARNING)\n",
       "      }\n",
       "  \n",
       "    }\n",
       "  \n",
       "    if (window._bokeh_is_loading === 0) {\n",
       "      console.log(\"Bokeh: BokehJS loaded, going straight to plotting\");\n",
       "      run_inline_js();\n",
       "    } else {\n",
       "      load_libs(js_urls, function() {\n",
       "        console.log(\"Bokeh: BokehJS plotting callback run at\", now());\n",
       "        run_inline_js();\n",
       "      });\n",
       "    }\n",
       "  }(this));\n",
       "</script>"
      ]
     },
     "metadata": {},
     "output_type": "display_data"
    }
   ],
   "source": [
    "# Plotining using bokeh\n",
    "#TOOLS = [BoxSelectTool(), HoverTool()]\n",
    "#TOOLS = 'hover,box_zoom,box_select,crosshair,resize,reset,lasso_select,pan,save,poly_select,tap,wheel_zoom,undo'\n",
    "TOOLS = 'box_zoom,box_select,crosshair,resize,reset,lasso_select,pan,save,poly_select,tap,wheel_zoom,undo'\n",
    "p = figure(plot_width=500, plot_height=500, tools=TOOLS)\n",
    "p.scatter(Y, predicted,x=\"jjj\", marker=\"o\", color=\"#80B1D3\", line_width=3)\n",
    "p.title.align = \"center\"\n",
    "p.xaxis.axis_label = \"Measured\"\n",
    "p.xaxis.axis_label_text_color = \"#aa6666\"\n",
    "#p.xaxis.axis_label_standoff = 30\n",
    "p.xaxis.major_tick_line_color = \"firebrick\"\n",
    "p.xaxis.major_tick_line_width = 3\n",
    "p.xaxis.minor_tick_line_color = \"orange\"\n",
    "p.yaxis.axis_label = \"Predicted\"\n",
    "p.yaxis.axis_label_text_font_style = \"italic\"\n",
    "p.yaxis.axis_label_text_color = \"#aa6666\"\n",
    "p.background_fill_color = \"beige\"\n",
    "p.background_fill_alpha = 0.5\n",
    "#p.line([Y.min(), Y.max()], [Y.min(), Y.max()], line_dash=\"4 4\", line_width=2, color='red')\n",
    "\n",
    "# create a new plot with the toolbar below\n",
    "# line_dash=\"4 4\", line_width=2, color='red'\n",
    "p.line([Y.min(), Y.max()], [Y.min(), Y.max()], line_dash=\"4 4\", line_width=2, line_color=\"black\")\n",
    "show(p)"
   ]
  },
  {
   "cell_type": "code",
   "execution_count": 22,
   "metadata": {
    "collapsed": false
   },
   "outputs": [
    {
     "data": {
      "text/plain": [
       "<matplotlib.text.Text at 0x7f4198232790>"
      ]
     },
     "execution_count": 22,
     "metadata": {},
     "output_type": "execute_result"
    },
    {
     "data": {
      "image/png": "[encoded data removed]",
      "text/plain": [
       "<matplotlib.figure.Figure at 0x7f415c35d690>"
      ]
     },
     "metadata": {},
     "output_type": "display_data"
    }
   ],
   "source": [
    "plt.scatter(predicted, (predicted - Y), c='r', s=30)\n",
    "plt.title(\"Residual plot on the training data\")\n",
    "plt.xlabel(\"Predicted\")\n",
    "plt.ylabel(\"Residuals\")"
   ]
  },
  {
   "cell_type": "code",
   "execution_count": 23,
   "metadata": {
    "collapsed": false
   },
   "outputs": [
    {
     "data": {
      "text/html": [
       "\n",
       "\n",
       "    <div class=\"bk-root\">\n",
       "        <div class=\"plotdiv\" id=\"15182a4c-9337-4017-981a-cff0dd78b24e\"></div>\n",
       "    </div>\n",
       "<script type=\"text/javascript\">\n",
       "  \n",
       "  (function(global) {\n",
       "    function now() {\n",
       "      return new Date();\n",
       "    }\n",
       "  \n",
       "    var force = \"\";\n",
       "  \n",
       "    if (typeof (window._bokeh_onload_callbacks) === \"undefined\" || force !== \"\") {\n",
       "      window._bokeh_onload_callbacks = [];\n",
       "      window._bokeh_is_loading = undefined;\n",
       "    }\n",
       "  \n",
       "  \n",
       "    \n",
       "    if (typeof (window._bokeh_timeout) === \"undefined\" || force !== \"\") {\n",
       "      window._bokeh_timeout = Date.now() + 0;\n",
       "      window._bokeh_failed_load = false;\n",
       "    }\n",
       "  \n",
       "    var NB_LOAD_WARNING = {'data': {'text/html':\n",
       "       \"<div style='background-color: #fdd'>\\n\"+\n",
       "       \"<p>\\n\"+\n",
       "       \"BokehJS does not appear to have successfully loaded. If loading BokehJS from CDN, this \\n\"+\n",
       "       \"may be due to a slow or bad network connection. Possible fixes:\\n\"+\n",
       "       \"</p>\\n\"+\n",
       "       \"<ul>\\n\"+\n",
       "       \"<li>re-rerun `output_notebook()` to attempt to load from CDN again, or</li>\\n\"+\n",
       "       \"<li>use INLINE resources instead, as so:</li>\\n\"+\n",
       "       \"</ul>\\n\"+\n",
       "       \"<code>\\n\"+\n",
       "       \"from bokeh.resources import INLINE\\n\"+\n",
       "       \"output_notebook(resources=INLINE)\\n\"+\n",
       "       \"</code>\\n\"+\n",
       "       \"</div>\"}};\n",
       "  \n",
       "    function display_loaded() {\n",
       "      if (window.Bokeh !== undefined) {\n",
       "        Bokeh.$(\"#15182a4c-9337-4017-981a-cff0dd78b24e\").text(\"BokehJS successfully loaded.\");\n",
       "      } else if (Date.now() < window._bokeh_timeout) {\n",
       "        setTimeout(display_loaded, 100)\n",
       "      }\n",
       "    }\n",
       "  \n",
       "    function run_callbacks() {\n",
       "      window._bokeh_onload_callbacks.forEach(function(callback) { callback() });\n",
       "      delete window._bokeh_onload_callbacks\n",
       "      console.info(\"Bokeh: all callbacks have finished\");\n",
       "    }\n",
       "  \n",
       "    function load_libs(js_urls, callback) {\n",
       "      window._bokeh_onload_callbacks.push(callback);\n",
       "      if (window._bokeh_is_loading > 0) {\n",
       "        console.log(\"Bokeh: BokehJS is being loaded, scheduling callback at\", now());\n",
       "        return null;\n",
       "      }\n",
       "      if (js_urls == null || js_urls.length === 0) {\n",
       "        run_callbacks();\n",
       "        return null;\n",
       "      }\n",
       "      console.log(\"Bokeh: BokehJS not loaded, scheduling load and callback at\", now());\n",
       "      window._bokeh_is_loading = js_urls.length;\n",
       "      for (var i = 0; i < js_urls.length; i++) {\n",
       "        var url = js_urls[i];\n",
       "        var s = document.createElement('script');\n",
       "        s.src = url;\n",
       "        s.async = false;\n",
       "        s.onreadystatechange = s.onload = function() {\n",
       "          window._bokeh_is_loading--;\n",
       "          if (window._bokeh_is_loading === 0) {\n",
       "            console.log(\"Bokeh: all BokehJS libraries loaded\");\n",
       "            run_callbacks()\n",
       "          }\n",
       "        };\n",
       "        s.onerror = function() {\n",
       "          console.warn(\"failed to load library \" + url);\n",
       "        };\n",
       "        console.log(\"Bokeh: injecting script tag for BokehJS library: \", url);\n",
       "        document.getElementsByTagName(\"head\")[0].appendChild(s);\n",
       "      }\n",
       "    };var element = document.getElementById(\"15182a4c-9337-4017-981a-cff0dd78b24e\");\n",
       "    if (element == null) {\n",
       "      console.log(\"Bokeh: ERROR: autoload.js configured with elementid '15182a4c-9337-4017-981a-cff0dd78b24e' but no matching script tag was found. \")\n",
       "      return false;\n",
       "    }\n",
       "  \n",
       "    var js_urls = [];\n",
       "  \n",
       "    var inline_js = [\n",
       "      function(Bokeh) {\n",
       "        Bokeh.$(function() {\n",
       "            var docs_json = {\"abfc95d6-46a3-47be-8e33-b48872adc4b4\":{\"roots\":{\"references\":[{\"attributes\":{\"callback\":null,\"overlay\":{\"id\":\"cc1ef6db-419d-4284-87ea-c89ae9d223db\",\"type\":\"BoxAnnotation\"},\"plot\":{\"id\":\"8574ef5e-6842-4090-9432-52f588a146ab\",\"subtype\":\"Figure\",\"type\":\"Plot\"},\"renderers\":[{\"id\":\"55d022a9-9895-4688-90ce-c8d42580d844\",\"type\":\"GlyphRenderer\"}]},\"id\":\"9c158e17-c4bf-4d86-85fc-8c827cfe86b6\",\"type\":\"BoxSelectTool\"},{\"attributes\":{\"plot\":{\"id\":\"8574ef5e-6842-4090-9432-52f588a146ab\",\"subtype\":\"Figure\",\"type\":\"Plot\"}},\"id\":\"2cf0ec49-f5e7-4036-ba3b-baab879c28cf\",\"type\":\"ResetTool\"},{\"attributes\":{\"plot\":{\"id\":\"8574ef5e-6842-4090-9432-52f588a146ab\",\"subtype\":\"Figure\",\"type\":\"Plot\"}},\"id\":\"38378c00-0080-4234-8638-f1f23b977ffa\",\"type\":\"SaveTool\"},{\"attributes\":{\"plot\":{\"id\":\"8574ef5e-6842-4090-9432-52f588a146ab\",\"subtype\":\"Figure\",\"type\":\"Plot\"}},\"id\":\"f8dc56ce-770a-4b81-a206-7638bdf03762\",\"type\":\"ResizeTool\"},{\"attributes\":{\"active_drag\":\"auto\",\"active_scroll\":\"auto\",\"active_tap\":\"auto\",\"tools\":[{\"id\":\"b045ee99-2673-4cd9-b8b0-d0d7e9dad492\",\"type\":\"BoxZoomTool\"},{\"id\":\"9c158e17-c4bf-4d86-85fc-8c827cfe86b6\",\"type\":\"BoxSelectTool\"},{\"id\":\"cb831668-0d47-4984-b97e-bc9bd8db70d5\",\"type\":\"CrosshairTool\"},{\"id\":\"f8dc56ce-770a-4b81-a206-7638bdf03762\",\"type\":\"ResizeTool\"},{\"id\":\"2cf0ec49-f5e7-4036-ba3b-baab879c28cf\",\"type\":\"ResetTool\"},{\"id\":\"cb54bd50-2180-419d-bd3e-562302d9bbe1\",\"type\":\"LassoSelectTool\"},{\"id\":\"db409503-82a7-47b1-a20e-b521d2020a24\",\"type\":\"PanTool\"},{\"id\":\"38378c00-0080-4234-8638-f1f23b977ffa\",\"type\":\"SaveTool\"},{\"id\":\"ac2e6462-23f9-4e2d-bbdf-df685ade2ac6\",\"type\":\"PolySelectTool\"},{\"id\":\"361d23e2-aa59-49b7-bdd4-7cf6f2281044\",\"type\":\"TapTool\"},{\"id\":\"b417e4ba-6efc-4cd7-952e-ef01b5e8453f\",\"type\":\"WheelZoomTool\"},{\"id\":\"b76df094-a97e-4c9a-939f-f956c4ac66fb\",\"type\":\"UndoTool\"}]},\"id\":\"5afb6d51-4149-4246-b122-5b220d3344da\",\"type\":\"Toolbar\"},{\"attributes\":{},\"id\":\"e564f1c9-9d89-4575-8528-3cb5963ee8aa\",\"type\":\"BasicTicker\"},{\"attributes\":{\"plot\":{\"id\":\"8574ef5e-6842-4090-9432-52f588a146ab\",\"subtype\":\"Figure\",\"type\":\"Plot\"}},\"id\":\"b76df094-a97e-4c9a-939f-f956c4ac66fb\",\"type\":\"UndoTool\"},{\"attributes\":{},\"id\":\"5207a4b4-e50d-4b47-926c-129cdddb7af1\",\"type\":\"BasicTicker\"},{\"attributes\":{\"dimension\":1,\"plot\":{\"id\":\"8574ef5e-6842-4090-9432-52f588a146ab\",\"subtype\":\"Figure\",\"type\":\"Plot\"},\"ticker\":{\"id\":\"5207a4b4-e50d-4b47-926c-129cdddb7af1\",\"type\":\"BasicTicker\"}},\"id\":\"02033264-56b7-4666-b623-43b77f0802cd\",\"type\":\"Grid\"},{\"attributes\":{\"fill_alpha\":{\"value\":0.1},\"fill_color\":{\"value\":\"#1f77b4\"},\"line_alpha\":{\"value\":0.1},\"line_color\":{\"value\":\"#1f77b4\"},\"line_width\":{\"value\":3},\"x\":{\"field\":\"x\"},\"y\":{\"field\":\"y\"}},\"id\":\"8efd8f5a-6df5-4b2b-9f3c-a0ac6c408baf\",\"type\":\"Circle\"},{\"attributes\":{\"fill_alpha\":{\"value\":0.5},\"fill_color\":{\"value\":\"lightgrey\"},\"level\":\"overlay\",\"line_alpha\":{\"value\":1.0},\"line_color\":{\"value\":\"black\"},\"line_dash\":[4,4],\"line_width\":{\"value\":2},\"plot\":null,\"xs_units\":\"screen\",\"ys_units\":\"screen\"},\"id\":\"0b350f2b-2ac4-4c2a-b917-6f1dea784b28\",\"type\":\"PolyAnnotation\"},{\"attributes\":{\"callback\":null},\"id\":\"200ab20c-2964-4551-8cfa-b9d3280b940c\",\"type\":\"DataRange1d\"},{\"attributes\":{\"callback\":null,\"plot\":{\"id\":\"8574ef5e-6842-4090-9432-52f588a146ab\",\"subtype\":\"Figure\",\"type\":\"Plot\"}},\"id\":\"361d23e2-aa59-49b7-bdd4-7cf6f2281044\",\"type\":\"TapTool\"},{\"attributes\":{\"overlay\":{\"id\":\"4ee44122-7088-40e1-a9cb-4de413e7a41b\",\"type\":\"BoxAnnotation\"},\"plot\":{\"id\":\"8574ef5e-6842-4090-9432-52f588a146ab\",\"subtype\":\"Figure\",\"type\":\"Plot\"}},\"id\":\"b045ee99-2673-4cd9-b8b0-d0d7e9dad492\",\"type\":\"BoxZoomTool\"},{\"attributes\":{\"plot\":{\"id\":\"8574ef5e-6842-4090-9432-52f588a146ab\",\"subtype\":\"Figure\",\"type\":\"Plot\"}},\"id\":\"cb831668-0d47-4984-b97e-bc9bd8db70d5\",\"type\":\"CrosshairTool\"},{\"attributes\":{\"callback\":null,\"overlay\":{\"id\":\"0b350f2b-2ac4-4c2a-b917-6f1dea784b28\",\"type\":\"PolyAnnotation\"},\"plot\":{\"id\":\"8574ef5e-6842-4090-9432-52f588a146ab\",\"subtype\":\"Figure\",\"type\":\"Plot\"}},\"id\":\"cb54bd50-2180-419d-bd3e-562302d9bbe1\",\"type\":\"LassoSelectTool\"},{\"attributes\":{\"plot\":{\"id\":\"8574ef5e-6842-4090-9432-52f588a146ab\",\"subtype\":\"Figure\",\"type\":\"Plot\"}},\"id\":\"db409503-82a7-47b1-a20e-b521d2020a24\",\"type\":\"PanTool\"},{\"attributes\":{\"overlay\":{\"id\":\"34958332-78b1-47a7-aae7-265972601d6e\",\"type\":\"PolyAnnotation\"},\"plot\":{\"id\":\"8574ef5e-6842-4090-9432-52f588a146ab\",\"subtype\":\"Figure\",\"type\":\"Plot\"}},\"id\":\"ac2e6462-23f9-4e2d-bbdf-df685ade2ac6\",\"type\":\"PolySelectTool\"},{\"attributes\":{\"callback\":null,\"column_names\":[\"x\",\"y\"],\"data\":{\"x\":[13.158637533391996,27.106185651266582,31.082813212769302,28.119081502844573,30.597629942879088,32.61122382926952,29.61513317164542,21.68808599749929,25.859875943276766,31.7046130339914,25.601800022661624,9.6719413231466,26.277080513919618,30.969224211708497,27.30560297282963,20.409458777852667,21.278189870530706,26.016939833765704,23.802787717037006,11.563206566927736,24.28132525902898,32.27172533292818,25.59923530064424,26.01822524100243,34.45151912779583,27.38488898362586,25.63272395079356,15.32148730250417,15.75702022541812,23.11857330861158,22.479171643156995,28.731595016527564,17.682829748476415,32.312143676021854,23.379134403584743,24.741654160595814,30.06863579063765,12.677763758447387,18.076076478915425,32.371487383079476,16.39106192347737,29.867970763228485,14.209245486155288,23.078675341542404,19.644124579173265,21.47123820971686,31.626865664844033,30.72084342445168,27.95771224254723,25.05742010331017,15.674208325059398,28.529340631536158,21.604949439036563,21.1705848271027,33.24734898936497,33.42632439073677,32.50353397884636,20.846272180833775,30.02104965901088,20.454708788546647,23.291301136369608,25.558739108317788,26.441713819630557,9.246101752091832,33.83800419922116,28.26631019101513,13.313422456630096,12.438290390791764,25.984766889267778,22.447051154175234,27.982407804440943,25.081010250888255,15.72719271166757,14.597991887528252,26.112246849438563,22.297108976305665,26.914436992944275,19.889477794613477,23.320390160536398,17.12120949321846,21.020291862452318,34.79797683688648,18.40079310594232,16.81020396342885,28.982479810169533,20.136791665149094,13.99951923660572,24.572669938624408,28.881486892761547,21.357407631854063,31.924453579033482,27.585356062948556,15.598985656334339,31.596457513972524,27.37670273104155,23.24454788548275,30.377894837976665,15.522471574984683,32.91396123359222,13.442329438978078,11.569507027201894,31.835709616394524,23.348935149287584,27.190820392370075,25.9865079831477,30.976759050884866,19.139123951528212,22.76889241592944,25.63795259424751,30.982343602825363,30.397583837230655,10.393792874863477,15.418291963997724,18.193780727095444,12.169626255219178,25.187347197585645,27.07750161695356,27.137491137965217,12.820805686232426,24.737928234089317,27.8777152738496,28.098222069210834,26.858217688462474,26.52247541509513,28.203666965491895,17.14925297065266,30.55619666167905,22.409890108316525,10.044651717419537,20.47739675762395,33.36174570392018,6.560020832977941,31.361574472487987,29.772538262176205,13.40694618797231,27.45339673267923,20.628406394036496,26.308404766646454,27.430180877503307,25.15136471006191,12.377484320927252,25.447062967922008,23.567275439964977,25.868954623595,31.821117860543644,21.991289327871968,25.578383409273837,17.398832779343728,25.879307208204093,16.250046713046796,34.793147690999405,28.895099199917063,20.77893653564976,17.4288430257205,9.347759067749692,17.20093687724566,24.639733712416838,16.999344510651543,30.4552020154155,26.456653368293782,25.532221538869432,15.684156739353572,17.07513356562351,27.62741839729654,26.596684300649375,26.513424001422184,13.73909182071525,20.578726285074747,19.755964287369896,30.26933899655728,13.663287225617044,24.279277785947375,32.30007162308454,29.82863495097743,30.672806481965743,21.322733834860422,12.200424317085657,28.629323576512984,29.47818792736834,33.11240422317936,25.841673175235716,26.625679834708325,20.960015712807795,30.159837753268413,15.56694892336375,24.090329937296513,20.834759612889666,24.067139977557773,24.913175355244334,23.211257114469095,35.10523784083236,32.28093673885525,26.509756256492054,30.810786418087048,23.10899608799052,21.909321907711607,13.342931530584785,23.90983084478107,15.886992809152265,28.664278327768557,17.42046944671141,33.18512182186428,24.787978275832188,12.569083457225894,28.57849962969761,24.541643551463572,23.651334587468252,23.95703573156418,26.315145796417696,33.30909843247784,23.249726728044006,18.29792797523406,12.07120554679078,28.35049917784742,24.305847023508015,15.385254075436547,22.906118291673057,8.839504330497057,14.832798267097301,19.19286954417192,33.21645190095132,19.510262715890406,34.466190792542314,23.511808110523564,21.83525385679607,10.07189993569051,29.64811517585754,8.839488476747377,34.08185091988801,22.531678530217295,11.309092882283812,26.703056061821123,18.264629320103577,22.8795657321479,31.22323415200156,20.067355958306795,26.416542722027422,26.176465937967652,24.618435241630316,30.748631603523137,32.58040552532567,29.39795084238115,21.319573254419055,29.963314570654934,27.24051168955412,17.69459303359804,35.516587844535024,22.481399982160283,11.754172029327673,24.651930272725473,28.471825307113956,23.80465597241646,21.23225985365507,26.08886119629525,31.680636523143647,23.090487750164076,31.63617968390721,7.6251983454783705,10.931104864362931,23.768330655611482,29.391070828291696,31.686649592940686,11.874529593293826,28.45642237672589,35.303581864933335,19.54504167944722,18.74549787488239,9.044166541817656,28.23813206452569,17.991157197043382,27.93150498039838,31.5640355177041,21.87614252383139,25.273441348764173,24.89423847755004,21.860227678394693,27.127374397415995,29.42635977664973,20.11586459540049,26.872783008336874,27.262472300066584,20.084932395134885,29.36381980169382,24.62496097195347,20.89937113459847,29.1264560705368,29.2959307727498,29.531827822353392,26.88120911386355,14.015290516693696,17.68809867377856,14.300358634006326,27.649251844942473,9.022936898461577,20.354784401382304,31.93713822897548,33.60060571619476,21.830881150441705,35.00424345470877,10.227458471832772,22.828625542872746,26.54809960579501,14.454634195039954,11.318917220444654,14.544074465514067,19.087936352863117,26.31448018354893,22.898903535217773,19.29648814920582,12.540464333261877,26.70566713107628,28.98187970549849,20.42843532496313,26.413196114466814,20.46743030856073,28.54597744737291,17.37673690161708,27.53930526175899],\"y\":[-1.841362466608004,0.10618565126658197,-3.2171867872306947,2.1190815028445726,-1.0023700571209133,-1.1887761707304776,0.6151331716454216,3.588085997499288,-1.3401240567232335,-6.2953869660086,-0.39819997733837553,-4.3280586768534,4.277080513919618,-0.030775788291503403,-9.09439702717037,2.809458777852665,3.578189870530707,-1.9830601662342957,3.0027877170370054,-2.436793433072264,4.081325259028979,-0.5282746670718197,3.299235300644238,-1.9817747589975703,-2.5484808722041734,0.38488898362586,2.4327239507935623,2.3214873025041705,0.7570202254181204,1.1185733086115803,-1.5208283568430048,-0.26840498347243624,4.682829748476415,0.5121436760218536,0.37913440358474304,-0.7583458394041855,0.16863579063765144,-0.32223624155261277,0.5760764789154251,-14.228512616920526,0.8910619234773698,-3.032029236771514,0.2092454861552877,-1.9213246584575963,0.2441245791732669,6.471238209716859,-0.7731343351559659,-0.7791565755483205,0.9577122425472311,5.257420103310171,-1.3257916749406018,-4.970659368463842,0.6049494390365631,-1.8294151728972992,-4.852651010635029,-10.573675609263233,-8.296466021153634,-0.15372781916622458,1.021049659010881,2.9547087885466468,-4.708698863630392,-0.4412608916822123,0.4417138196305572,-1.7538982479081682,-3.8619958007788426,4.0663101910151305,-2.6865775433699035,-3.5617096092082363,-4.015233110732222,3.4470511541752344,0.9824078044409426,6.081010250888255,-0.2728072883324302,-1.4020081124717478,5.812246849438562,1.2971089763056654,-6.585563007055725,-3.1105222053865234,1.8203901605363981,1.1212094932184584,2.020291862452318,-2.202023163113523,3.40079310594232,0.8102039634288509,2.982479810169533,2.1367916651490937,0.9995192366057193,3.572669938624408,-0.11851310723845287,-0.6425923681459373,-1.0755464209665178,5.585356062948556,-0.40101434366566124,-4.403542486027476,7.376702731041551,1.2445478854827492,-0.9221051620233354,1.0224715749846833,3.1139612335922173,0.44232943897807786,-1.4304929727981062,-4.164290383605476,2.848935149287584,2.1908203923700746,-1.0134920168523003,-2.0232409491151344,2.6391239515282123,2.168892415929438,-4.362047405752492,-12.417656397174635,-4.302416162769347,-0.6062071251365229,-2.5817080360022757,5.193780727095444,-3.8303737447808217,6.187347197585645,4.077501616953558,1.6374911379652168,-1.1791943137675744,0.23792823408931696,-2.1222847261504008,2.2982220692108335,-11.141782311537526,-2.277524584904871,1.6036669654918931,0.14925297065266108,-1.4438033383209508,4.309890108316523,-0.9553482825804629,-0.52260324237605,-2.638254296079822,-6.439979167022059,1.3615744724879875,-1.2274617378237949,-0.5930538120276907,9.45339673267923,7.628406394036496,4.708404766646453,-0.5698191224966926,1.3513647100619082,-1.6225156790727482,-1.5529370320779918,3.3672754399649776,-0.1310453764050017,-7.578882139456354,2.0912893278719693,6.578383409273837,3.398832779343728,2.2793072082040915,3.250046713046796,-3.2068523090005954,-1.6049008000829375,2.278936535649759,0.42884302572050004,-2.652240932250308,1.2009368772456597,-3.360266287583162,1.499344510651543,-1.5447979845844984,2.4566533682937823,0.43222153886943104,-0.3158432606464281,4.07513356562351,3.627418397296541,4.596684300649375,2.513424001422184,-1.2609081792847494,1.5787262850747474,1.7559642873698955,3.0693389965572813,-0.3367127743829563,3.279277785947375,-11.999928376915456,1.8286349509774311,-0.8271935180342567,2.1227338348604228,-1.7995756829143428,-1.8706764234870157,-0.321812072631662,-2.9875957768206405,-0.9583268247642849,0.6256798347083254,0.4600157128077953,-1.9401622467315889,-0.4330510766362501,7.090329937296513,0.8347596128896662,2.0671399775577726,-0.08682464475566576,-0.6887428855309032,4.105237840832359,-6.719063261144747,-1.4902437435079463,-3.689213581912952,1.1089960879905192,1.309321907711606,-0.6570684694152149,-1.4901691552189291,1.8869928091522645,-1.3357216722314433,-1.5795305532885884,-2.8148781781357215,-0.21202172416781195,-1.4309165427741064,7.478499629697609,-3.4583564485364278,4.651334587468252,4.857035731564178,2.015145796417695,-11.290901567522162,3.2497267280440063,1.2979279752340602,-0.9287944532092194,-5.8495008221525815,-1.694152976491985,-2.1147459245634526,-3.0938817083269434,-4.160495669502943,-3.167201732902699,0.6928695441719199,-2.78354809904868,3.5102627158904056,-3.5338092074576863,0.5118081105235639,1.3352538567960686,-2.92810006430949,1.6481151758575407,-3.160511523252623,-0.018149080111989235,2.5316785302172953,-0.6909071177161881,-1.696943938178876,0.26462932010357676,2.879565732147899,1.7232341520015595,1.0673559583067949,0.4165427220274225,0.1764659379676523,-0.3815647583696844,-1.2513683964768632,-1.1195944746743294,1.3979508423811495,2.1195732544190555,0.46331457065493353,0.2405116895541184,2.6945930335980393,-3.583412155464977,-4.118600017839718,-1.2458279706723268,1.6519302727254725,0.9718253071139564,3.804655972416459,2.03225985365507,2.0888611962952517,-0.5193634768563555,3.6904877501640776,-1.3638203160927915,-4.3748016545216295,-2.068895135637069,6.168330655611481,5.491070828291697,-2.7133504070593126,-2.1254704067061745,-2.5435776232741105,0.20358186493333363,4.54504167944722,3.245497874882389,0.044166541817656224,3.23813206452569,-0.008842802956618101,-3.0684950196016203,-11.535964482295903,4.3761425238313905,0.27344134876417314,-0.10576152244995995,2.8602276783946934,1.1273743974159949,-1.5736402233502709,1.9158645954004925,-3.827216991663125,3.262472300066584,3.084932395134885,2.3638198016938183,1.6249609719534703,2.8993711345984714,1.9264560705368012,-5.704069227250201,0.5318278223533923,5.381209113863552,-0.9847094833063039,0.18809867377855838,-0.6996413659936742,-5.05074815505753,-0.9770631015384232,0.3547844013823038,-0.4628617710245173,-0.39939428380524333,3.830881150441705,3.004243454708771,-3.7725415281672277,-1.1713744571272535,0.1480996057950108,0.4546341950399544,-1.6810827795553465,1.5440744655140666,0.5879363528631174,4.81448018354893,6.698903535217774,2.796488149205821,-2.459535666738123,-1.3943328689237227,-0.01812029450151087,0.22843532496312946,-1.4868038855331847,-1.5325696914392708,-0.4540225526270909,-1.623263098382921,2.53930526175899]}},\"id\":\"47548456-c6f0-46ca-96f3-f74910cca909\",\"type\":\"ColumnDataSource\"},{\"attributes\":{\"fill_alpha\":{\"value\":0.5},\"fill_color\":{\"value\":\"lightgrey\"},\"level\":\"overlay\",\"line_alpha\":{\"value\":1.0},\"line_color\":{\"value\":\"black\"},\"line_dash\":[4,4],\"line_width\":{\"value\":2},\"plot\":null,\"xs_units\":\"screen\",\"ys_units\":\"screen\"},\"id\":\"34958332-78b1-47a7-aae7-265972601d6e\",\"type\":\"PolyAnnotation\"},{\"attributes\":{\"axis_label\":\"Predicted\",\"axis_label_text_color\":{\"value\":\"#aa6666\"},\"formatter\":{\"id\":\"97c8cd8a-e13a-4a5a-8b70-f95d1506e4a5\",\"type\":\"BasicTickFormatter\"},\"major_tick_line_color\":{\"value\":\"firebrick\"},\"major_tick_line_width\":{\"value\":3},\"minor_tick_line_color\":{\"value\":\"orange\"},\"plot\":{\"id\":\"8574ef5e-6842-4090-9432-52f588a146ab\",\"subtype\":\"Figure\",\"type\":\"Plot\"},\"ticker\":{\"id\":\"e564f1c9-9d89-4575-8528-3cb5963ee8aa\",\"type\":\"BasicTicker\"}},\"id\":\"ca345c2a-5097-4c4f-95c3-107065d00da6\",\"type\":\"LinearAxis\"},{\"attributes\":{\"plot\":{\"id\":\"8574ef5e-6842-4090-9432-52f588a146ab\",\"subtype\":\"Figure\",\"type\":\"Plot\"}},\"id\":\"b417e4ba-6efc-4cd7-952e-ef01b5e8453f\",\"type\":\"WheelZoomTool\"},{\"attributes\":{\"callback\":null},\"id\":\"542195c2-0a31-4103-bb8c-6d7101720043\",\"type\":\"DataRange1d\"},{\"attributes\":{\"data_source\":{\"id\":\"47548456-c6f0-46ca-96f3-f74910cca909\",\"type\":\"ColumnDataSource\"},\"glyph\":{\"id\":\"891e98c2-0c7f-42f0-a9e8-afe6364f2e29\",\"type\":\"Circle\"},\"hover_glyph\":null,\"nonselection_glyph\":{\"id\":\"8efd8f5a-6df5-4b2b-9f3c-a0ac6c408baf\",\"type\":\"Circle\"},\"selection_glyph\":null},\"id\":\"55d022a9-9895-4688-90ce-c8d42580d844\",\"type\":\"GlyphRenderer\"},{\"attributes\":{},\"id\":\"f9210334-a22c-4366-b2b8-30f9deedac07\",\"type\":\"BasicTickFormatter\"},{\"attributes\":{\"plot\":{\"id\":\"8574ef5e-6842-4090-9432-52f588a146ab\",\"subtype\":\"Figure\",\"type\":\"Plot\"},\"ticker\":{\"id\":\"e564f1c9-9d89-4575-8528-3cb5963ee8aa\",\"type\":\"BasicTicker\"}},\"id\":\"9a8e476d-e894-4f73-8c48-98e2f9acd13b\",\"type\":\"Grid\"},{\"attributes\":{\"fill_color\":{\"value\":\"#80B1D3\"},\"line_color\":{\"value\":\"#80B1D3\"},\"line_width\":{\"value\":3},\"x\":{\"field\":\"x\"},\"y\":{\"field\":\"y\"}},\"id\":\"891e98c2-0c7f-42f0-a9e8-afe6364f2e29\",\"type\":\"Circle\"},{\"attributes\":{},\"id\":\"87cb9b37-a812-4a81-9c9b-67ce1964c8f7\",\"type\":\"ToolEvents\"},{\"attributes\":{\"align\":\"center\",\"plot\":null,\"text\":\"Residual plot on the training data\"},\"id\":\"12c65484-e766-4c87-8124-a2418f6d7419\",\"type\":\"Title\"},{\"attributes\":{\"bottom_units\":\"screen\",\"fill_alpha\":{\"value\":0.5},\"fill_color\":{\"value\":\"lightgrey\"},\"left_units\":\"screen\",\"level\":\"overlay\",\"line_alpha\":{\"value\":1.0},\"line_color\":{\"value\":\"black\"},\"line_dash\":[4,4],\"line_width\":{\"value\":2},\"plot\":null,\"render_mode\":\"css\",\"right_units\":\"screen\",\"top_units\":\"screen\"},\"id\":\"4ee44122-7088-40e1-a9cb-4de413e7a41b\",\"type\":\"BoxAnnotation\"},{\"attributes\":{\"bottom_units\":\"screen\",\"fill_alpha\":{\"value\":0.5},\"fill_color\":{\"value\":\"lightgrey\"},\"left_units\":\"screen\",\"level\":\"overlay\",\"line_alpha\":{\"value\":1.0},\"line_color\":{\"value\":\"black\"},\"line_dash\":[4,4],\"line_width\":{\"value\":2},\"plot\":null,\"render_mode\":\"css\",\"right_units\":\"screen\",\"top_units\":\"screen\"},\"id\":\"cc1ef6db-419d-4284-87ea-c89ae9d223db\",\"type\":\"BoxAnnotation\"},{\"attributes\":{\"background_fill_alpha\":{\"value\":0.5},\"background_fill_color\":{\"value\":\"beige\"},\"below\":[{\"id\":\"ca345c2a-5097-4c4f-95c3-107065d00da6\",\"type\":\"LinearAxis\"}],\"left\":[{\"id\":\"9fe54456-7c6a-42b0-a851-4396bb328c81\",\"type\":\"LinearAxis\"}],\"plot_height\":500,\"plot_width\":500,\"renderers\":[{\"id\":\"ca345c2a-5097-4c4f-95c3-107065d00da6\",\"type\":\"LinearAxis\"},{\"id\":\"9a8e476d-e894-4f73-8c48-98e2f9acd13b\",\"type\":\"Grid\"},{\"id\":\"9fe54456-7c6a-42b0-a851-4396bb328c81\",\"type\":\"LinearAxis\"},{\"id\":\"02033264-56b7-4666-b623-43b77f0802cd\",\"type\":\"Grid\"},{\"id\":\"4ee44122-7088-40e1-a9cb-4de413e7a41b\",\"type\":\"BoxAnnotation\"},{\"id\":\"cc1ef6db-419d-4284-87ea-c89ae9d223db\",\"type\":\"BoxAnnotation\"},{\"id\":\"0b350f2b-2ac4-4c2a-b917-6f1dea784b28\",\"type\":\"PolyAnnotation\"},{\"id\":\"34958332-78b1-47a7-aae7-265972601d6e\",\"type\":\"PolyAnnotation\"},{\"id\":\"55d022a9-9895-4688-90ce-c8d42580d844\",\"type\":\"GlyphRenderer\"}],\"title\":{\"id\":\"12c65484-e766-4c87-8124-a2418f6d7419\",\"type\":\"Title\"},\"tool_events\":{\"id\":\"87cb9b37-a812-4a81-9c9b-67ce1964c8f7\",\"type\":\"ToolEvents\"},\"toolbar\":{\"id\":\"5afb6d51-4149-4246-b122-5b220d3344da\",\"type\":\"Toolbar\"},\"x_range\":{\"id\":\"542195c2-0a31-4103-bb8c-6d7101720043\",\"type\":\"DataRange1d\"},\"y_range\":{\"id\":\"200ab20c-2964-4551-8cfa-b9d3280b940c\",\"type\":\"DataRange1d\"}},\"id\":\"8574ef5e-6842-4090-9432-52f588a146ab\",\"subtype\":\"Figure\",\"type\":\"Plot\"},{\"attributes\":{\"axis_label\":\"Residuals\",\"axis_label_text_color\":{\"value\":\"#aa6666\"},\"formatter\":{\"id\":\"f9210334-a22c-4366-b2b8-30f9deedac07\",\"type\":\"BasicTickFormatter\"},\"plot\":{\"id\":\"8574ef5e-6842-4090-9432-52f588a146ab\",\"subtype\":\"Figure\",\"type\":\"Plot\"},\"ticker\":{\"id\":\"5207a4b4-e50d-4b47-926c-129cdddb7af1\",\"type\":\"BasicTicker\"}},\"id\":\"9fe54456-7c6a-42b0-a851-4396bb328c81\",\"type\":\"LinearAxis\"},{\"attributes\":{},\"id\":\"97c8cd8a-e13a-4a5a-8b70-f95d1506e4a5\",\"type\":\"BasicTickFormatter\"}],\"root_ids\":[\"8574ef5e-6842-4090-9432-52f588a146ab\"]},\"title\":\"Bokeh Application\",\"version\":\"0.12.2\"}};\n",
       "            var render_items = [{\"docid\":\"abfc95d6-46a3-47be-8e33-b48872adc4b4\",\"elementid\":\"15182a4c-9337-4017-981a-cff0dd78b24e\",\"modelid\":\"8574ef5e-6842-4090-9432-52f588a146ab\"}];\n",
       "            \n",
       "            Bokeh.embed.embed_items(docs_json, render_items);\n",
       "        });\n",
       "      },\n",
       "      function(Bokeh) {\n",
       "      }\n",
       "    ];\n",
       "  \n",
       "    function run_inline_js() {\n",
       "      \n",
       "      if ((window.Bokeh !== undefined) || (force === \"1\")) {\n",
       "        for (var i = 0; i < inline_js.length; i++) {\n",
       "          inline_js[i](window.Bokeh);\n",
       "        }if (force === \"1\") {\n",
       "          display_loaded();\n",
       "        }} else if (Date.now() < window._bokeh_timeout) {\n",
       "        setTimeout(run_inline_js, 100);\n",
       "      } else if (!window._bokeh_failed_load) {\n",
       "        console.log(\"Bokeh: BokehJS failed to load within specified timeout.\");\n",
       "        window._bokeh_failed_load = true;\n",
       "      } else if (!force) {\n",
       "        var cell = $(\"#15182a4c-9337-4017-981a-cff0dd78b24e\").parents('.cell').data().cell;\n",
       "        cell.output_area.append_execute_result(NB_LOAD_WARNING)\n",
       "      }\n",
       "  \n",
       "    }\n",
       "  \n",
       "    if (window._bokeh_is_loading === 0) {\n",
       "      console.log(\"Bokeh: BokehJS loaded, going straight to plotting\");\n",
       "      run_inline_js();\n",
       "    } else {\n",
       "      load_libs(js_urls, function() {\n",
       "        console.log(\"Bokeh: BokehJS plotting callback run at\", now());\n",
       "        run_inline_js();\n",
       "      });\n",
       "    }\n",
       "  }(this));\n",
       "</script>"
      ]
     },
     "metadata": {},
     "output_type": "display_data"
    }
   ],
   "source": [
    "# Plotining using bokeh\n",
    "#TOOLS = 'hover,box_zoom,box_select,crosshair,resize,reset,lasso_select,pan,save,poly_select,tap,wheel_zoom,undo'\n",
    "TOOLS = 'box_zoom,box_select,crosshair,resize,reset,lasso_select,pan,save,poly_select,tap,wheel_zoom,undo'\n",
    "p = figure(plot_width=500, plot_height=500, title=\"Residual plot on the training data\", tools=TOOLS)\n",
    "p.scatter(predicted, (predicted - Y),x=\"jjj\", marker=\"o\", color=\"#80B1D3\", line_width=3)\n",
    "p.title.align = \"center\"\n",
    "p.xaxis.axis_label = \"Predicted\"\n",
    "p.xaxis.axis_label_text_color = \"#aa6666\"\n",
    "#p.xaxis.axis_label_standoff = 30\n",
    "p.xaxis.major_tick_line_color = \"firebrick\"\n",
    "p.xaxis.major_tick_line_width = 3\n",
    "p.xaxis.minor_tick_line_color = \"orange\"\n",
    "p.yaxis.axis_label = \"Residuals\"\n",
    "p.yaxis.axis_label_text_font_style = \"italic\"\n",
    "p.yaxis.axis_label_text_color = \"#aa6666\"\n",
    "p.background_fill_color = \"beige\"\n",
    "p.background_fill_alpha = 0.5\n",
    "#p.line([2,38], [0, 0], line_dash=\"4 4\", line_width=2, color='red')\n",
    "show(p)"
   ]
  },
  {
   "cell_type": "markdown",
   "metadata": {},
   "source": [
    "## Pipeline"
   ]
  },
  {
   "cell_type": "markdown",
   "metadata": {},
   "source": [
    "The best to deliver the model by pipeline the operation then at deployment can be done in one model."
   ]
  },
  {
   "cell_type": "markdown",
   "metadata": {
    "collapsed": true
   },
   "source": [
    "  I used two ways to check the pipeline so any one can be fine"
   ]
  },
  {
   "cell_type": "code",
   "execution_count": 24,
   "metadata": {
    "collapsed": false
   },
   "outputs": [
    {
     "name": "stdout",
     "output_type": "stream",
     "text": [
      "0.812345132401\n",
      "Scoring according to mean_squared_error\n",
      "[ -9.01738543 -18.14874747 -11.53135708 -16.33314794 -13.21390516\n",
      " -11.77450123 -12.79184548  -4.19784698 -13.51025787  -6.46748477]\n",
      "\n",
      " Mean      Standard deviation\n",
      "-11.70      4.01\n",
      "[ True  True  True  True  True  True  True]\n",
      "R-squared =  0.812345132401\n"
     ]
    }
   ],
   "source": [
    "# Use Pipeline\n",
    "# ANOVA \n",
    "from sklearn.pipeline import Pipeline\n",
    "from sklearn.feature_selection import SelectKBest, f_regression\n",
    "anova_filter = SelectKBest(f_regression, k=7)\n",
    "LR = Lasso(alpha = 0.26315789473684209, precompute = False)\n",
    "anova_LinReg = Pipeline([('scaler_Input',scaler), ('anova', anova_filter), ('LinReg', LR)])\n",
    "# You can set the parameters using the names issued\n",
    "# For instance, fit using a k of 10 in the SelectKBest\n",
    "anova_LinReg.set_params(anova__k=7).fit(new_data, Y)\n",
    "prediction = anova_LinReg.predict(new_data)\n",
    "print anova_LinReg.score(new_data, Y)                        \n",
    "# getting the selected features chosen by anova_filter\n",
    "results = cross_validation.cross_val_score(anova_LinReg, new_data, Y, cv=kfold, scoring=scoring)\n",
    "print 'Scoring according to mean_squared_error'\n",
    "print results\n",
    "print '\\n Mean      Standard deviation'\n",
    "print(\"%.2f      %.2f\" % (results.mean(), results.std()))\n",
    "print anova_LinReg.named_steps['anova'].get_support()\n",
    "r_squared = r2_score(Y, prediction, multioutput='variance_weighted')\n",
    "print 'R-squared = ',r_squared"
   ]
  },
  {
   "cell_type": "code",
   "execution_count": 25,
   "metadata": {
    "collapsed": false
   },
   "outputs": [
    {
     "name": "stdout",
     "output_type": "stream",
     "text": [
      "R-squared =  0.812345132401\n"
     ]
    }
   ],
   "source": [
    "# Using make_pipeline\n",
    "from sklearn.pipeline import make_pipeline\n",
    "\n",
    "# ANOVA SVM-C\n",
    "# 1) anova filter, take 3 best ranked features\n",
    "anova_filter = SelectKBest(f_regression, k=7)\n",
    "anova_Lasso = make_pipeline(scaler, anova_filter, LR)\n",
    "anova_Lasso.fit(new_data, Y)\n",
    "prediction = anova_Lasso.predict(new_data)\n",
    "r_squared = r2_score(Y, prediction, multioutput='variance_weighted')\n",
    "print 'R-squared = ',r_squared"
   ]
  },
  {
   "cell_type": "markdown",
   "metadata": {},
   "source": [
    "### Save the Pipeline model for developement"
   ]
  },
  {
   "cell_type": "code",
   "execution_count": 26,
   "metadata": {
    "collapsed": false
   },
   "outputs": [
    {
     "data": {
      "text/plain": [
       "['anova_Lasso.pkl',\n",
       " 'anova_Lasso.pkl_01.npy',\n",
       " 'anova_Lasso.pkl_02.npy',\n",
       " 'anova_Lasso.pkl_03.npy',\n",
       " 'anova_Lasso.pkl_04.npy',\n",
       " 'anova_Lasso.pkl_05.npy',\n",
       " 'anova_Lasso.pkl_06.npy',\n",
       " 'anova_Lasso.pkl_07.npy']"
      ]
     },
     "execution_count": 26,
     "metadata": {},
     "output_type": "execute_result"
    }
   ],
   "source": [
    "# save the model scaler to the desk\n",
    "from sklearn.externals import joblib\n",
    "joblib.dump(anova_Lasso, 'anova_Lasso.pkl') "
   ]
  },
  {
   "cell_type": "code",
   "execution_count": 27,
   "metadata": {
    "collapsed": false
   },
   "outputs": [
    {
     "name": "stdout",
     "output_type": "stream",
     "text": [
      " =================================================================>>>>> done\n",
      "R-squared =  0.812345132401\n"
     ]
    }
   ],
   "source": [
    "# Test the model if it is work\n",
    "anova_LassoTest = joblib.load('anova_Lasso.pkl')\n",
    "NewPred = anova_LassoTest.predict(new_data)\n",
    "print \" =================================================================>>>>> done\"\n",
    "r_squared = r2_score(Y, NewPred, multioutput='variance_weighted')\n",
    "print 'R-squared = ',r_squared"
   ]
  },
  {
   "cell_type": "code",
   "execution_count": 28,
   "metadata": {
    "collapsed": false
   },
   "outputs": [
    {
     "name": "stdout",
     "output_type": "stream",
     "text": [
      "Point of training data before normalization\n",
      "[  4.00000000e+00   9.70000000e+01   5.10000000e+01   2.13000000e+03\n",
      "   2.46000000e+01   8.20000000e+01   2.00000000e+00]\n",
      "\n",
      "The read target of the data =  44.0\n",
      "\n",
      "The Predicted target of the data =  [ 33.97721567]\n"
     ]
    }
   ],
   "source": [
    "# test on single data point, randomly choose point number 55\n",
    "print 'Point of training data before normalization\\n',new_data[55]\n",
    "print '\\nThe read target of the data = ', Y[55]\n",
    "NewPred = anova_LassoTest.predict([new_data[55]])\n",
    "print '\\nThe Predicted target of the data = ', NewPred"
   ]
  },
  {
   "cell_type": "markdown",
   "metadata": {},
   "source": [
    "## Conclusion "
   ]
  }
 ],
 "metadata": {
  "kernelspec": {
   "display_name": "Python 2",
   "language": "python",
   "name": "python2"
  },
  "language_info": {
   "codemirror_mode": {
    "name": "ipython",
    "version": 2
   },
   "file_extension": ".py",
   "mimetype": "text/x-python",
   "name": "python",
   "nbconvert_exporter": "python",
   "pygments_lexer": "ipython2",
   "version": "2.7.12"
  }
 },
 "nbformat": 4,
 "nbformat_minor": 0
}
