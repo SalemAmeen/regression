{
 "cells": [
  {
   "cell_type": "markdown",
   "metadata": {},
   "source": [
    "Salem Ameen, PhD student at Salford University\n",
    "\n",
    "### Auto MPG\n",
    "\n",
    "Deep learning Regression"
   ]
  },
  {
   "cell_type": "markdown",
   "metadata": {},
   "source": [
    "# Import the Libraries"
   ]
  },
  {
   "cell_type": "markdown",
   "metadata": {},
   "source": [
    "General Library"
   ]
  },
  {
   "cell_type": "code",
   "execution_count": 1,
   "metadata": {
    "collapsed": false
   },
   "outputs": [
    {
     "data": {
      "text/html": [
       "\n",
       "    <div class=\"bk-root\">\n",
       "        <a href=\"http://bokeh.pydata.org\" target=\"_blank\" class=\"bk-logo bk-logo-small bk-logo-notebook\"></a>\n",
       "        <span id=\"aab75bce-7a11-4bde-9a88-6b36ed40fe2f\">Loading BokehJS ...</span>\n",
       "    </div>"
      ]
     },
     "metadata": {},
     "output_type": "display_data"
    },
    {
     "data": {
      "application/javascript": [
       "\n",
       "(function(global) {\n",
       "  function now() {\n",
       "    return new Date();\n",
       "  }\n",
       "\n",
       "  var force = \"1\";\n",
       "\n",
       "  if (typeof (window._bokeh_onload_callbacks) === \"undefined\" || force !== \"\") {\n",
       "    window._bokeh_onload_callbacks = [];\n",
       "    window._bokeh_is_loading = undefined;\n",
       "  }\n",
       "\n",
       "\n",
       "  \n",
       "  if (typeof (window._bokeh_timeout) === \"undefined\" || force !== \"\") {\n",
       "    window._bokeh_timeout = Date.now() + 5000;\n",
       "    window._bokeh_failed_load = false;\n",
       "  }\n",
       "\n",
       "  var NB_LOAD_WARNING = {'data': {'text/html':\n",
       "     \"<div style='background-color: #fdd'>\\n\"+\n",
       "     \"<p>\\n\"+\n",
       "     \"BokehJS does not appear to have successfully loaded. If loading BokehJS from CDN, this \\n\"+\n",
       "     \"may be due to a slow or bad network connection. Possible fixes:\\n\"+\n",
       "     \"</p>\\n\"+\n",
       "     \"<ul>\\n\"+\n",
       "     \"<li>re-rerun `output_notebook()` to attempt to load from CDN again, or</li>\\n\"+\n",
       "     \"<li>use INLINE resources instead, as so:</li>\\n\"+\n",
       "     \"</ul>\\n\"+\n",
       "     \"<code>\\n\"+\n",
       "     \"from bokeh.resources import INLINE\\n\"+\n",
       "     \"output_notebook(resources=INLINE)\\n\"+\n",
       "     \"</code>\\n\"+\n",
       "     \"</div>\"}};\n",
       "\n",
       "  function display_loaded() {\n",
       "    if (window.Bokeh !== undefined) {\n",
       "      Bokeh.$(\"#aab75bce-7a11-4bde-9a88-6b36ed40fe2f\").text(\"BokehJS successfully loaded.\");\n",
       "    } else if (Date.now() < window._bokeh_timeout) {\n",
       "      setTimeout(display_loaded, 100)\n",
       "    }\n",
       "  }\n",
       "\n",
       "  function run_callbacks() {\n",
       "    window._bokeh_onload_callbacks.forEach(function(callback) { callback() });\n",
       "    delete window._bokeh_onload_callbacks\n",
       "    console.info(\"Bokeh: all callbacks have finished\");\n",
       "  }\n",
       "\n",
       "  function load_libs(js_urls, callback) {\n",
       "    window._bokeh_onload_callbacks.push(callback);\n",
       "    if (window._bokeh_is_loading > 0) {\n",
       "      console.log(\"Bokeh: BokehJS is being loaded, scheduling callback at\", now());\n",
       "      return null;\n",
       "    }\n",
       "    if (js_urls == null || js_urls.length === 0) {\n",
       "      run_callbacks();\n",
       "      return null;\n",
       "    }\n",
       "    console.log(\"Bokeh: BokehJS not loaded, scheduling load and callback at\", now());\n",
       "    window._bokeh_is_loading = js_urls.length;\n",
       "    for (var i = 0; i < js_urls.length; i++) {\n",
       "      var url = js_urls[i];\n",
       "      var s = document.createElement('script');\n",
       "      s.src = url;\n",
       "      s.async = false;\n",
       "      s.onreadystatechange = s.onload = function() {\n",
       "        window._bokeh_is_loading--;\n",
       "        if (window._bokeh_is_loading === 0) {\n",
       "          console.log(\"Bokeh: all BokehJS libraries loaded\");\n",
       "          run_callbacks()\n",
       "        }\n",
       "      };\n",
       "      s.onerror = function() {\n",
       "        console.warn(\"failed to load library \" + url);\n",
       "      };\n",
       "      console.log(\"Bokeh: injecting script tag for BokehJS library: \", url);\n",
       "      document.getElementsByTagName(\"head\")[0].appendChild(s);\n",
       "    }\n",
       "  };var element = document.getElementById(\"aab75bce-7a11-4bde-9a88-6b36ed40fe2f\");\n",
       "  if (element == null) {\n",
       "    console.log(\"Bokeh: ERROR: autoload.js configured with elementid 'aab75bce-7a11-4bde-9a88-6b36ed40fe2f' but no matching script tag was found. \")\n",
       "    return false;\n",
       "  }\n",
       "\n",
       "  var js_urls = ['https://cdn.pydata.org/bokeh/release/bokeh-0.12.2.min.js', 'https://cdn.pydata.org/bokeh/release/bokeh-widgets-0.12.2.min.js', 'https://cdn.pydata.org/bokeh/release/bokeh-compiler-0.12.2.min.js'];\n",
       "\n",
       "  var inline_js = [\n",
       "    function(Bokeh) {\n",
       "      Bokeh.set_log_level(\"info\");\n",
       "    },\n",
       "    \n",
       "    function(Bokeh) {\n",
       "      \n",
       "      Bokeh.$(\"#aab75bce-7a11-4bde-9a88-6b36ed40fe2f\").text(\"BokehJS is loading...\");\n",
       "    },\n",
       "    function(Bokeh) {\n",
       "      console.log(\"Bokeh: injecting CSS: https://cdn.pydata.org/bokeh/release/bokeh-0.12.2.min.css\");\n",
       "      Bokeh.embed.inject_css(\"https://cdn.pydata.org/bokeh/release/bokeh-0.12.2.min.css\");\n",
       "      console.log(\"Bokeh: injecting CSS: https://cdn.pydata.org/bokeh/release/bokeh-widgets-0.12.2.min.css\");\n",
       "      Bokeh.embed.inject_css(\"https://cdn.pydata.org/bokeh/release/bokeh-widgets-0.12.2.min.css\");\n",
       "    }\n",
       "  ];\n",
       "\n",
       "  function run_inline_js() {\n",
       "    \n",
       "    if ((window.Bokeh !== undefined) || (force === \"1\")) {\n",
       "      for (var i = 0; i < inline_js.length; i++) {\n",
       "        inline_js[i](window.Bokeh);\n",
       "      }if (force === \"1\") {\n",
       "        display_loaded();\n",
       "      }} else if (Date.now() < window._bokeh_timeout) {\n",
       "      setTimeout(run_inline_js, 100);\n",
       "    } else if (!window._bokeh_failed_load) {\n",
       "      console.log(\"Bokeh: BokehJS failed to load within specified timeout.\");\n",
       "      window._bokeh_failed_load = true;\n",
       "    } else if (!force) {\n",
       "      var cell = $(\"#aab75bce-7a11-4bde-9a88-6b36ed40fe2f\").parents('.cell').data().cell;\n",
       "      cell.output_area.append_execute_result(NB_LOAD_WARNING)\n",
       "    }\n",
       "\n",
       "  }\n",
       "\n",
       "  if (window._bokeh_is_loading === 0) {\n",
       "    console.log(\"Bokeh: BokehJS loaded, going straight to plotting\");\n",
       "    run_inline_js();\n",
       "  } else {\n",
       "    load_libs(js_urls, function() {\n",
       "      console.log(\"Bokeh: BokehJS plotting callback run at\", now());\n",
       "      run_inline_js();\n",
       "    });\n",
       "  }\n",
       "}(this));"
      ]
     },
     "metadata": {},
     "output_type": "display_data"
    }
   ],
   "source": [
    "import numpy as np\n",
    "import pandas\n",
    "from numpy import *\n",
    "import time\n",
    "import sys\n",
    "import pandas as pd\n",
    "import matplotlib.pyplot as plt\n",
    "from sklearn import feature_selection\n",
    " \n",
    "from sklearn.learning_curve import learning_curve, validation_curve\n",
    "from sklearn.cross_validation import cross_val_predict\n",
    "from sklearn import metrics, grid_search, cross_validation\n",
    "from IPython.display import set_matplotlib_formats\n",
    "from bokeh.plotting import figure, show, output_notebook\n",
    "from sklearn.grid_search import GridSearchCV, RandomizedSearchCV\n",
    "from sklearn.metrics import r2_score\n",
    "from bokeh.layouts import gridplot\n",
    "output_notebook()\n",
    "set_matplotlib_formats('png', 'pdf')\n",
    "%matplotlib inline\n",
    "plt.rcParams['figure.figsize'] = (6, 6)"
   ]
  },
  {
   "cell_type": "markdown",
   "metadata": {},
   "source": [
    "Deep Learning Library"
   ]
  },
  {
   "cell_type": "code",
   "execution_count": 2,
   "metadata": {
    "collapsed": false
   },
   "outputs": [
    {
     "name": "stderr",
     "output_type": "stream",
     "text": [
      "Using Theano backend.\n",
      "Using gpu device 0: GeForce GTX TITAN X (CNMeM is disabled, cuDNN 5005)\n"
     ]
    }
   ],
   "source": [
    "import numpy\n",
    "from keras.models import Sequential\n",
    "from keras.layers import Dense\n",
    "from keras.wrappers.scikit_learn import KerasRegressor\n",
    "from sklearn.cross_validation import cross_val_score\n",
    "from sklearn.cross_validation import KFold\n",
    "from sklearn.preprocessing import StandardScaler\n",
    "from sklearn.pipeline import Pipeline"
   ]
  },
  {
   "cell_type": "markdown",
   "metadata": {},
   "source": [
    "# Create the model"
   ]
  },
  {
   "cell_type": "code",
   "execution_count": 3,
   "metadata": {
    "collapsed": true
   },
   "outputs": [],
   "source": [
    "# define base mode\n",
    "def baseline_model():\n",
    "\t# create model\n",
    "\tmodel = Sequential()\n",
    "\tmodel.add(Dense(30, input_dim=7, init='normal', activation='relu'))\n",
    "\tmodel.add(Dense(1, init='normal'))\n",
    "\t# Compile model\n",
    "\tmodel.compile(loss='mean_squared_error', optimizer='adam')\n",
    "\treturn model"
   ]
  },
  {
   "cell_type": "markdown",
   "metadata": {},
   "source": [
    "# Load data"
   ]
  },
  {
   "cell_type": "markdown",
   "metadata": {},
   "source": [
    "In the previous file we have not change the data as there is no missing value or add any new parameters so it can be downloaded from the web directly. "
   ]
  },
  {
   "cell_type": "code",
   "execution_count": 4,
   "metadata": {
    "collapsed": false
   },
   "outputs": [
    {
     "name": "stdout",
     "output_type": "stream",
     "text": [
      "Number of examples 398\n"
     ]
    }
   ],
   "source": [
    "url = 'http://archive.ics.uci.edu/ml/machine-learning-databases/auto-mpg/auto-mpg.data'\n",
    "names = ['mpg', 'cylinders', 'displacement', 'horsepower', 'weight', 'acceleration', 'year','origin','name']\n",
    "feature_names = ['mpg', 'cylinders', 'displacement', 'horsepower', 'weight', 'acceleration', 'year','origin']\n",
    "feature_cols = ['mpg', 'cylinders', 'displacement', 'horsepower', 'weight', 'acceleration', 'year','origin']\n",
    "data = pd.read_csv(url, sep='\\s+', names = names)\n",
    "data = data.drop('name',1)\n",
    "from sklearn import preprocessing\n",
    "\n",
    "def number_encode_features(df):\n",
    "    result = df.copy()\n",
    "    encoders = {}\n",
    "    for column in result.columns:\n",
    "        if result.dtypes[column] == np.object:\n",
    "            encoders[column] = preprocessing.LabelEncoder()\n",
    "            result[column] = encoders[column].fit_transform(result[column])\n",
    "    return result, encoders\n",
    "\n",
    "data, _ = number_encode_features(data)\n",
    "\n",
    "dataset = data.values\n",
    "X = dataset[:,1:8]\n",
    "Y = dataset[:,0]\n",
    "print 'Number of examples',len(X)"
   ]
  },
  {
   "cell_type": "code",
   "execution_count": 5,
   "metadata": {
    "collapsed": false
   },
   "outputs": [
    {
     "name": "stdout",
     "output_type": "stream",
     "text": [
      "Number of training examples 318\n",
      "Number of validation examples 80\n"
     ]
    }
   ],
   "source": [
    "# Make developement dataset for genrilization and final testing\n",
    "from sklearn.cross_validation import train_test_split\n",
    "# Extracting 20% testing data\n",
    "X_train, X_test, y_train, y_test = train_test_split(\n",
    "    X, Y, test_size=0.20, random_state=0)\n",
    "X = X_train\n",
    "Y = y_train\n",
    "new_data      = X_train\n",
    "new_test_data = X_test\n",
    "print 'Number of training examples',len(X_train)\n",
    "print 'Number of validation examples',len(X_test)"
   ]
  },
  {
   "cell_type": "markdown",
   "metadata": {},
   "source": [
    "# deep learning model"
   ]
  },
  {
   "cell_type": "code",
   "execution_count": 6,
   "metadata": {
    "collapsed": true
   },
   "outputs": [],
   "source": [
    "# fix random seed for reproducibility\n",
    "seed = 7\n",
    "numpy.random.seed(seed)\n",
    "# evaluate model with standardized dataset\n",
    "model = KerasRegressor(build_fn=baseline_model, nb_epoch=100, batch_size=5, verbose=0)\n"
   ]
  },
  {
   "cell_type": "code",
   "execution_count": 7,
   "metadata": {
    "collapsed": false
   },
   "outputs": [
    {
     "name": "stdout",
     "output_type": "stream",
     "text": [
      "Results: 14.89 (5.11) MSE\n"
     ]
    }
   ],
   "source": [
    "kfold = KFold(n=len(X), n_folds=10, random_state=seed)\n",
    "results = cross_val_score(model, X, Y, cv=kfold)\n",
    "print(\"Results: %.2f (%.2f) MSE\" % (results.mean(), results.std()))"
   ]
  },
  {
   "cell_type": "code",
   "execution_count": 8,
   "metadata": {
    "collapsed": false
   },
   "outputs": [
    {
     "name": "stdout",
     "output_type": "stream",
     "text": [
      "R-squared =  0.77261901087\n"
     ]
    }
   ],
   "source": [
    "predicted = cross_val_predict(model, X, Y, cv=kfold)\n",
    "r_squared = r2_score(Y, predicted, multioutput='variance_weighted')\n",
    "print 'R-squared = ',r_squared"
   ]
  },
  {
   "cell_type": "markdown",
   "metadata": {},
   "source": [
    "# Ranking of the feature's importance to the target"
   ]
  },
  {
   "cell_type": "code",
   "execution_count": 9,
   "metadata": {
    "collapsed": false
   },
   "outputs": [
    {
     "name": "stdout",
     "output_type": "stream",
     "text": [
      "Feature Name      Score         Pvalue\n",
      "mpg \t\t8.91712726219e+17 \t0.0\n",
      "cylinders \t\t597.077047852 \t4.50399224618e-81\n",
      "displacement \t\t724.994303368 \t1.65588891019e-91\n",
      "horsepower \t\t101.546001862 \t2.06258705842e-21\n",
      "weight \t\t888.850682648 \t2.97279956405e-103\n",
      "acceleration \t\t84.9577002497 \t1.82309153508e-18\n",
      "year \t\t199.98200802 \t4.84493581337e-37\n",
      "origin \t\t184.199639369 \t1.01148221023e-34\n"
     ]
    }
   ],
   "source": [
    "# Randing the important features to the target\n",
    "model = feature_selection.SelectKBest(score_func=feature_selection.f_regression,k=4)\n",
    "results = model.fit(data[feature_cols], data['mpg'])\n",
    "k=0\n",
    "print 'Feature Name      Score         Pvalue'\n",
    "for feat in feature_cols:\n",
    "    print feat,'\\t\\t',results.scores_[k],'\\t',results.pvalues_[k]\n",
    "    k=k+1\n"
   ]
  },
  {
   "cell_type": "markdown",
   "metadata": {},
   "source": [
    "# Set the parameters for cross validation"
   ]
  },
  {
   "cell_type": "code",
   "execution_count": 10,
   "metadata": {
    "collapsed": true
   },
   "outputs": [],
   "source": [
    "num_folds = 10\n",
    "num_instances = len(X)\n",
    "seed = 7\n",
    "kfold = cross_validation.KFold(n=num_instances, n_folds=num_folds, random_state=seed)"
   ]
  },
  {
   "cell_type": "markdown",
   "metadata": {},
   "source": [
    " # Set the parameters for bias-variance dilemma"
   ]
  },
  {
   "cell_type": "code",
   "execution_count": 11,
   "metadata": {
    "collapsed": false
   },
   "outputs": [],
   "source": [
    "def plot_learning_curve(estimator, title, X, y, ylim=None, cv=None,\n",
    "                        n_jobs=1, train_sizes=np.linspace(.1, 1.0, 5)):\n",
    "    plt.figure()\n",
    "    plt.title(title)\n",
    "    if ylim is not None:\n",
    "        plt.ylim(*ylim)\n",
    "    plt.xlabel(\"Training examples\")\n",
    "    plt.ylabel(\"Score\")\n",
    "    train_sizes, train_scores, test_scores = learning_curve(\n",
    "        estimator, X, y, cv=cv, n_jobs=n_jobs, train_sizes=train_sizes)\n",
    "    train_scores_mean = np.mean(train_scores, axis=1)\n",
    "    train_scores_std = np.std(train_scores, axis=1)\n",
    "    test_scores_mean = np.mean(test_scores, axis=1)\n",
    "    test_scores_std = np.std(test_scores, axis=1)\n",
    "    plt.grid()\n",
    "\n",
    "    plt.fill_between(train_sizes, train_scores_mean - train_scores_std,\n",
    "                     train_scores_mean + train_scores_std, alpha=0.1,\n",
    "                     color=\"r\")\n",
    "    plt.fill_between(train_sizes, test_scores_mean - test_scores_std,\n",
    "                     test_scores_mean + test_scores_std, alpha=0.1, color=\"g\")\n",
    "    plt.plot(train_sizes, train_scores_mean, 'o-', color=\"r\",\n",
    "             label=\"Training score\")\n",
    "    plt.plot(train_sizes, test_scores_mean, 'o-', color=\"g\",\n",
    "             label=\"Cross-validation score\")\n",
    "\n",
    "    plt.legend(loc=\"best\")\n",
    "    return plt"
   ]
  },
  {
   "cell_type": "markdown",
   "metadata": {},
   "source": [
    "# Preprocessing the data and save both the model and preprocessed data"
   ]
  },
  {
   "cell_type": "code",
   "execution_count": 12,
   "metadata": {
    "collapsed": true
   },
   "outputs": [],
   "source": [
    "# According to the nature of the data spasity and there is outliter RobustScaler class is recomandit \n",
    "# but when I tried both of them the result seems is same\n",
    "from sklearn.preprocessing import StandardScaler\n",
    "scaler = preprocessing.StandardScaler().fit(X_train)"
   ]
  },
  {
   "cell_type": "code",
   "execution_count": 13,
   "metadata": {
    "collapsed": true
   },
   "outputs": [],
   "source": [
    "X_train = scaler.transform(X_train)\n",
    "X_test = scaler.transform(X_test) # use same transform for testing data\n",
    "X = X_train"
   ]
  },
  {
   "cell_type": "code",
   "execution_count": 14,
   "metadata": {
    "collapsed": true
   },
   "outputs": [],
   "source": [
    "# save transformed data\n",
    "np.save('./data/X_train', X_train)\n",
    "np.save('./data/y_train', y_train)\n",
    "np.save('./data/X_test', X_test)\n",
    "np.save('./data/y_test', y_test)"
   ]
  },
  {
   "cell_type": "code",
   "execution_count": 15,
   "metadata": {
    "collapsed": false
   },
   "outputs": [
    {
     "data": {
      "text/plain": [
       "['scaler.pkl', 'scaler.pkl_01.npy', 'scaler.pkl_02.npy', 'scaler.pkl_03.npy']"
      ]
     },
     "execution_count": 15,
     "metadata": {},
     "output_type": "execute_result"
    }
   ],
   "source": [
    "# save the model scaler to the desk\n",
    "from sklearn.externals import joblib\n",
    "joblib.dump(scaler, 'scaler.pkl') "
   ]
  },
  {
   "cell_type": "code",
   "execution_count": 16,
   "metadata": {
    "collapsed": false
   },
   "outputs": [
    {
     "name": "stdout",
     "output_type": "stream",
     "text": [
      " =================================================================>>>>> done\n",
      "[[  1.49526939e+00   1.55114495e+00  -7.35914828e-01   1.38121932e+00\n",
      "   -9.80600673e-01  -1.13752513e+00  -7.33011713e-01]\n",
      " [ -8.52857354e-01  -5.04710772e-01   6.08839749e-01  -4.99341807e-01\n",
      "    5.02543270e-01  -5.89029314e-01  -7.33011713e-01]\n",
      " [  1.49526939e+00   1.07371874e+00  -9.71246879e-01   1.57674079e+00\n",
      "    1.31757284e-01  -1.13752513e+00  -7.33011713e-01]\n",
      " [ -8.52857354e-01  -6.99578613e-01   1.01226612e+00   1.84938650e-02\n",
      "    1.42950823e+00  -1.13752513e+00   5.06869802e-01]\n",
      " [  3.21206016e-01   3.91681296e-01  -1.71086190e+00   3.84652269e-01\n",
      "   -5.36357086e-02  -1.41177304e+00  -7.33011713e-01]\n",
      " [ -8.52857354e-01  -1.16726143e+00   4.40745427e-01  -1.60018698e+00\n",
      "    8.73329255e-01  -1.41177304e+00   1.74675132e+00]\n",
      " [ -8.52857354e-01  -1.03085394e+00   3.06269969e-01  -1.17122470e+00\n",
      "   -1.64871504e-01   7.82210231e-01   1.74675132e+00]\n",
      " [ -8.52857354e-01  -5.04710772e-01   1.11312272e+00  -6.58128946e-01\n",
      "    1.42950823e+00  -1.13752513e+00  -7.33011713e-01]\n",
      " [  1.49526939e+00   2.02857116e+00  -8.03152557e-01   9.45147172e-01\n",
      "   -2.27835162e+00  -1.68602095e+00  -7.33011713e-01]\n",
      " [  3.21206016e-01  -1.83178834e-01  -1.50914871e+00  -2.82490713e-01\n",
      "   -1.12891507e+00   1.33070605e+00  -7.33011713e-01]\n",
      " [ -8.52857354e-01  -1.04059733e+00   1.41569250e+00  -1.33712172e+00\n",
      "    6.13779065e-01   1.05645814e+00   5.06869802e-01]\n",
      " [ -8.52857354e-01  -1.03085394e+00   3.06269969e-01  -1.11908564e+00\n",
      "    2.80071678e-01   1.05645814e+00   1.74675132e+00]\n",
      " [  3.21206016e-01   5.67062353e-01   1.04588499e+00   6.82629684e-02\n",
      "    3.17150277e-01  -8.63277223e-01  -7.33011713e-01]\n",
      " [ -8.52857354e-01  -9.23676630e-01   7.09379184e-02  -8.40615659e-01\n",
      "    2.91265218e+00  -1.13752513e+00   5.06869802e-01]\n",
      " [  1.49526939e+00   1.22961301e+00  -9.04009151e-01   1.39425408e+00\n",
      "   -7.21050483e-01   2.33714413e-01  -7.33011713e-01]\n",
      " [ -8.52857354e-01  -9.13933237e-01   7.76934072e-01  -1.24232342e+00\n",
      "   -4.61500293e-01   7.82210231e-01  -7.33011713e-01]\n",
      " [ -8.52857354e-01  -7.09322005e-01   8.44171801e-01  -2.88415606e-01\n",
      "    1.39242964e+00   1.60495396e+00  -7.33011713e-01]\n",
      " [ -8.52857354e-01  -3.97533459e-01   1.11312272e+00  -2.70640927e-01\n",
      "    8.73329255e-01   1.60495396e+00  -7.33011713e-01]\n",
      " [  3.21206016e-01   3.23477552e-01  -1.61000530e+00   7.69770331e-01\n",
      "    3.17150277e-01  -5.89029314e-01  -7.33011713e-01]\n",
      " [ -8.52857354e-01  -9.82136982e-01   4.40745427e-01  -9.87553012e-01\n",
      "   -3.50264497e-01   7.82210231e-01   5.06869802e-01]\n",
      " [  1.49526939e+00   2.02857116e+00  -4.33345048e-01   1.61347513e+00\n",
      "   -1.27722946e+00   2.33714413e-01  -7.33011713e-01]\n",
      " [ -8.52857354e-01  -5.04710772e-01   7.09696343e-01  -4.40092874e-01\n",
      "    1.05872225e+00  -3.14781405e-01  -7.33011713e-01]\n",
      " [ -8.52857354e-01  -7.09322005e-01   1.34845477e+00  -4.95786871e-01\n",
      "    5.02543270e-01  -3.14781405e-01   1.74675132e+00]\n",
      " [ -8.52857354e-01  -6.89835221e-01  -1.47552985e+00  -3.60151531e-02\n",
      "   -4.24421694e-01  -1.13752513e+00   5.06869802e-01]\n",
      " [ -8.52857354e-01  -8.45729493e-01   4.74364292e-01  -9.63853439e-01\n",
      "   -2.76107300e-01   7.82210231e-01  -7.33011713e-01]\n",
      " [  3.21206016e-01  -2.31895795e-01  -1.37467325e+00  -7.51194487e-02\n",
      "   -1.12891507e+00   1.33070605e+00   1.74675132e+00]\n",
      " [ -8.52857354e-01  -9.13933237e-01   3.39888834e-01  -1.37859597e+00\n",
      "   -4.61500293e-01   5.07962322e-01  -7.33011713e-01]\n",
      " [ -8.52857354e-01  -7.77525749e-01   1.04588499e+00  -6.73533669e-01\n",
      "    8.73329255e-01   1.60495396e+00  -7.33011713e-01]\n",
      " [ -8.52857354e-01  -5.53427732e-01   9.11409529e-01  -6.85383455e-01\n",
      "   -1.01767927e+00   1.33070605e+00  -7.33011713e-01]\n",
      " [  3.21206016e-01   6.45009489e-01  -1.50914871e+00   7.92284926e-01\n",
      "    8.73329255e-01  -5.89029314e-01  -7.33011713e-01]\n",
      " [  3.21206016e-01   3.23477552e-01  -1.50914871e+00   7.78065182e-01\n",
      "    1.13287945e+00   5.07962322e-01  -7.33011713e-01]\n",
      " [ -8.52857354e-01  -7.09322005e-01   1.18036045e+00  -6.27319501e-01\n",
      "   -2.39028701e-01   1.05645814e+00   1.74675132e+00]\n",
      " [  3.21206016e-01   5.67062353e-01   5.41602021e-01   5.55289195e-01\n",
      "    1.98568721e+00  -3.14781405e-01  -7.33011713e-01]\n",
      " [ -8.52857354e-01  -1.04059733e+00   4.74364292e-01  -1.20677406e+00\n",
      "    4.28386073e-01   2.33714413e-01   1.74675132e+00]\n",
      " [  3.21206016e-01   3.81937904e-01  -1.50914871e+00   5.35144558e-01\n",
      "    5.76000871e-02   1.33070605e+00  -7.33011713e-01]\n",
      " [ -8.52857354e-01  -5.63171124e-01   1.31483590e+00  -3.09745222e-01\n",
      "   -7.95207680e-01  -3.14781405e-01   1.74675132e+00]\n",
      " [  3.21206016e-01   3.91681296e-01   1.11312272e+00   2.93408913e-01\n",
      "    5.02543270e-01  -3.14781405e-01  -7.33011713e-01]\n",
      " [  1.49526939e+00   1.54140156e+00  -7.02295964e-01   1.65494939e+00\n",
      "   -2.76107300e-01   7.82210231e-01  -7.33011713e-01]\n",
      " [ -8.52857354e-01  -1.00162377e+00   5.07983156e-01  -1.23047364e+00\n",
      "   -6.09814687e-01   7.82210231e-01   5.06869802e-01]\n",
      " [  1.49526939e+00   2.31112953e+00  -3.66107319e-01   2.35645675e+00\n",
      "   -1.53677965e+00  -8.63277223e-01  -7.33011713e-01]\n",
      " [  1.49526939e+00   2.55471433e+00  -1.98012997e-01   1.64783951e+00\n",
      "   -2.46374461e+00  -1.68602095e+00  -7.33011713e-01]\n",
      " [  1.49526939e+00   1.54140156e+00  -6.01439371e-01   8.64568624e-01\n",
      "   -1.53677965e+00  -1.68602095e+00  -7.33011713e-01]\n",
      " [ -8.52857354e-01  -6.89835221e-01   7.76934072e-01  -3.47664539e-01\n",
      "   -2.39028701e-01   7.82210231e-01  -7.33011713e-01]\n",
      " [ -1.43988904e+00  -1.18674821e+00  -1.71086190e+00  -6.43909203e-01\n",
      "   -1.16599367e+00   1.05645814e+00   1.74675132e+00]\n",
      " [ -8.52857354e-01  -4.65737204e-01   1.31483590e+00  -3.53589432e-01\n",
      "   -6.46893286e-01   1.60495396e+00   1.74675132e+00]\n",
      " [ -8.52857354e-01  -6.89835221e-01  -1.50914871e+00  -3.59514326e-01\n",
      "   -6.09814687e-01  -8.63277223e-01   5.06869802e-01]\n",
      " [  3.21206016e-01   3.91681296e-01   1.11312272e+00   1.44101602e-01\n",
      "    7.25014861e-01  -4.05334960e-02  -7.33011713e-01]\n",
      " [  1.49526939e+00   1.54140156e+00  -4.66963913e-01   1.67864896e+00\n",
      "   -1.31430806e+00  -4.05334960e-02  -7.33011713e-01]\n",
      " [  3.21206016e-01  -3.58559891e-01  -1.57638644e+00  -5.82290313e-01\n",
      "   -6.09814687e-01  -8.63277223e-01  -7.33011713e-01]\n",
      " [ -8.52857354e-01  -1.09905769e+00   3.73507698e-01  -1.18544445e+00\n",
      "   -5.36357086e-02  -5.89029314e-01   5.06869802e-01]\n",
      " [ -8.52857354e-01  -9.13933237e-01   6.42458614e-01  -9.70963311e-01\n",
      "   -3.50264497e-01   1.05645814e+00   5.06869802e-01]\n",
      " [ -8.52857354e-01  -9.13933237e-01   8.77790665e-01  -8.82089912e-01\n",
      "    3.17150277e-01  -5.89029314e-01   5.06869802e-01]\n",
      " [  1.49526939e+00   1.07371874e+00  -1.20657893e+00   1.57792577e+00\n",
      "   -2.76107300e-01   2.33714413e-01  -7.33011713e-01]\n",
      " [ -8.52857354e-01  -1.01136716e+00   6.42458614e-01  -1.06457662e+00\n",
      "   -4.24421694e-01  -1.41177304e+00   5.06869802e-01]\n",
      " [  1.49526939e+00   1.86293349e+00  -5.34201642e-01   7.10521399e-01\n",
      "   -2.09295863e+00  -1.68602095e+00  -7.33011713e-01]\n",
      " [  1.49526939e+00   1.12243570e+00  -3.32488455e-01   1.67390904e+00\n",
      "   -2.39028701e-01  -1.68602095e+00  -7.33011713e-01]\n",
      " [  3.21206016e-01   6.45009489e-01  -1.50914871e+00  -1.65077215e-03\n",
      "   -7.95207680e-01  -1.41177304e+00  -7.33011713e-01]\n",
      " [  3.21206016e-01   7.98927508e-02   1.04588499e+00   1.14477136e-01\n",
      "    5.39621868e-01   1.33070605e+00  -7.33011713e-01]\n",
      " [ -8.52857354e-01  -5.53427732e-01   9.11409529e-01  -7.03158135e-01\n",
      "   -9.80600673e-01   1.60495396e+00  -7.33011713e-01]\n",
      " [  1.49526939e+00   1.07371874e+00  -9.71246879e-01   5.75433832e-01\n",
      "   -1.90756564e+00  -1.68602095e+00  -7.33011713e-01]\n",
      " [  3.21206016e-01   5.67062353e-01   7.09696343e-01   7.23556164e-01\n",
      "    1.98568721e+00  -4.05334960e-02  -7.33011713e-01]\n",
      " [ -8.52857354e-01  -5.04710772e-01   5.41602021e-01  -4.72087298e-01\n",
      "   -7.58129081e-01  -4.05334960e-02  -7.33011713e-01]\n",
      " [  3.21206016e-01   3.91681296e-01  -1.71086190e+00  -2.06652079e-01\n",
      "   -2.39028701e-01  -8.63277223e-01  -7.33011713e-01]\n",
      " [  3.21206016e-01   6.04059667e-02   1.28121704e+00  -1.54513018e-01\n",
      "   -5.36357086e-02  -1.68602095e+00  -7.33011713e-01]\n",
      " [  1.49526939e+00   1.54140156e+00  -4.66963913e-01   1.81966142e+00\n",
      "   -1.16599367e+00  -8.63277223e-01  -7.33011713e-01]\n",
      " [  1.49526939e+00   1.55114495e+00  -8.70390286e-01   2.00688805e+00\n",
      "   -7.95207680e-01  -3.14781405e-01  -7.33011713e-01]\n",
      " [  1.49526939e+00   2.31112953e+00  -3.66107319e-01   1.63243479e+00\n",
      "   -2.09295863e+00  -1.68602095e+00  -7.33011713e-01]\n",
      " [  3.21206016e-01   5.67062353e-01  -1.61000530e+00   5.87283619e-01\n",
      "    1.31757284e-01  -3.14781405e-01  -7.33011713e-01]\n",
      " [ -8.52857354e-01  -5.04710772e-01   8.77790665e-01  -3.84398877e-01\n",
      "    5.02543270e-01  -3.14781405e-01  -7.33011713e-01]\n",
      " [  1.49526939e+00   2.41830684e+00  -2.31631862e-01   1.59807041e+00\n",
      "   -2.64913761e+00  -1.68602095e+00  -7.33011713e-01]\n",
      " [ -8.52857354e-01  -9.23676630e-01   3.73507698e-01  -1.06457662e+00\n",
      "    7.99172058e-01   1.33070605e+00   1.74675132e+00]\n",
      " [  1.49526939e+00   1.54140156e+00  -7.02295964e-01   1.82321635e+00\n",
      "   -7.95207680e-01  -1.13752513e+00  -7.33011713e-01]\n",
      " [ -8.52857354e-01  -7.97012533e-01   1.01226612e+00  -3.45294582e-01\n",
      "    6.87936263e-01  -1.68602095e+00   5.06869802e-01]\n",
      " [  3.21206016e-01   3.23477552e-01  -1.71086190e+00   8.14799520e-01\n",
      "    7.62093460e-01  -4.05334960e-02  -7.33011713e-01]\n",
      " [ -8.52857354e-01  -7.67782357e-01   1.28121704e+00  -7.00788178e-01\n",
      "   -2.39028701e-01  -1.68602095e+00   1.74675132e+00]\n",
      " [ -8.52857354e-01  -8.45729493e-01   6.08839749e-01  -8.69055147e-01\n",
      "   -4.24421694e-01   5.07962322e-01  -7.33011713e-01]\n",
      " [ -8.52857354e-01  -9.23676630e-01   6.08839749e-01  -8.27580894e-01\n",
      "    9.47486452e-01   2.33714413e-01   1.74675132e+00]\n",
      " [ -8.52857354e-01  -1.06008412e+00   1.71794512e-01  -1.13804530e+00\n",
      "    1.24411524e+00  -5.89029314e-01   1.74675132e+00]\n",
      " [ -8.52857354e-01  -9.13933237e-01   1.38175647e-01  -9.47263738e-01\n",
      "    2.39355180e+00  -4.05334960e-02  -7.33011713e-01]\n",
      " [  1.49526939e+00   1.54140156e+00  -4.66963913e-01   8.30204243e-01\n",
      "   -1.72217264e+00  -8.63277223e-01  -7.33011713e-01]]\n"
     ]
    }
   ],
   "source": [
    "# Test the model if it is work\n",
    "scalerTest = joblib.load('scaler.pkl')\n",
    "new_data_scaled = scalerTest.transform(new_test_data)\n",
    "print \" =================================================================>>>>> done\"\n",
    "print new_data_scaled"
   ]
  },
  {
   "cell_type": "markdown",
   "metadata": {},
   "source": [
    "# 1. model  with   Regression"
   ]
  },
  {
   "cell_type": "markdown",
   "metadata": {},
   "source": [
    "Deep learning or the Classification and Regression Trees (CART as they are know) use the training data to select the best points to split the data in order to minimize a cost metric. The default cost metric for regression Deep learning is the mean squared error, specified in the criterion parameter."
   ]
  },
  {
   "cell_type": "code",
   "execution_count": 17,
   "metadata": {
    "collapsed": false
   },
   "outputs": [
    {
     "name": "stdout",
     "output_type": "stream",
     "text": [
      "Epoch 1/200\n",
      "318/318 [==============================] - 0s - loss: 607.1020     \n",
      "Epoch 2/200\n",
      "318/318 [==============================] - 0s - loss: 569.9819     \n",
      "Epoch 3/200\n",
      "318/318 [==============================] - 0s - loss: 491.3976     \n",
      "Epoch 4/200\n",
      "318/318 [==============================] - 0s - loss: 376.0087     \n",
      "Epoch 5/200\n",
      "318/318 [==============================] - 0s - loss: 247.5319     \n",
      "Epoch 6/200\n",
      "318/318 [==============================] - 0s - loss: 142.2600     \n",
      "Epoch 7/200\n",
      "318/318 [==============================] - 0s - loss: 78.3350     \n",
      "Epoch 8/200\n",
      "318/318 [==============================] - 0s - loss: 50.3377     \n",
      "Epoch 9/200\n",
      "318/318 [==============================] - 0s - loss: 39.9654     \n",
      "Epoch 10/200\n",
      "318/318 [==============================] - 0s - loss: 34.8871     \n",
      "Epoch 11/200\n",
      "318/318 [==============================] - 0s - loss: 31.6017     \n",
      "Epoch 12/200\n",
      "318/318 [==============================] - 0s - loss: 28.7302     \n",
      "Epoch 13/200\n",
      "318/318 [==============================] - 0s - loss: 26.2690     \n",
      "Epoch 14/200\n",
      "318/318 [==============================] - 0s - loss: 24.1573     \n",
      "Epoch 15/200\n",
      "318/318 [==============================] - 0s - loss: 22.3364     \n",
      "Epoch 16/200\n",
      "318/318 [==============================] - 0s - loss: 20.6469     \n",
      "Epoch 17/200\n",
      "318/318 [==============================] - 0s - loss: 19.4450     \n",
      "Epoch 18/200\n",
      "318/318 [==============================] - 0s - loss: 18.2150     \n",
      "Epoch 19/200\n",
      "318/318 [==============================] - 0s - loss: 17.3053     \n",
      "Epoch 20/200\n",
      "318/318 [==============================] - 0s - loss: 16.4707     \n",
      "Epoch 21/200\n",
      "318/318 [==============================] - 0s - loss: 15.7926     \n",
      "Epoch 22/200\n",
      "318/318 [==============================] - 0s - loss: 15.1718     \n",
      "Epoch 23/200\n",
      "318/318 [==============================] - 0s - loss: 14.6070     \n",
      "Epoch 24/200\n",
      "318/318 [==============================] - 0s - loss: 14.1085     \n",
      "Epoch 25/200\n",
      "318/318 [==============================] - 0s - loss: 13.5853     \n",
      "Epoch 26/200\n",
      "318/318 [==============================] - 0s - loss: 13.1406     \n",
      "Epoch 27/200\n",
      "318/318 [==============================] - 0s - loss: 12.6902     \n",
      "Epoch 28/200\n",
      "318/318 [==============================] - 0s - loss: 12.2640     \n",
      "Epoch 29/200\n",
      "318/318 [==============================] - 0s - loss: 11.8996     \n",
      "Epoch 30/200\n",
      "318/318 [==============================] - 0s - loss: 11.6203     \n",
      "Epoch 31/200\n",
      "318/318 [==============================] - 0s - loss: 11.2870     \n",
      "Epoch 32/200\n",
      "318/318 [==============================] - 0s - loss: 10.9904     \n",
      "Epoch 33/200\n",
      "318/318 [==============================] - 0s - loss: 10.7126     \n",
      "Epoch 34/200\n",
      "318/318 [==============================] - 0s - loss: 10.4568     \n",
      "Epoch 35/200\n",
      "318/318 [==============================] - 0s - loss: 10.2404     \n",
      "Epoch 36/200\n",
      "318/318 [==============================] - 0s - loss: 10.0415     \n",
      "Epoch 37/200\n",
      "318/318 [==============================] - 0s - loss: 9.8224     \n",
      "Epoch 38/200\n",
      "318/318 [==============================] - 0s - loss: 9.6578     \n",
      "Epoch 39/200\n",
      "318/318 [==============================] - 0s - loss: 9.5076     \n",
      "Epoch 40/200\n",
      "318/318 [==============================] - 0s - loss: 9.4155     \n",
      "Epoch 41/200\n",
      "318/318 [==============================] - 0s - loss: 9.2962     \n",
      "Epoch 42/200\n",
      "318/318 [==============================] - 0s - loss: 9.1253     \n",
      "Epoch 43/200\n",
      "318/318 [==============================] - 0s - loss: 8.9458     \n",
      "Epoch 44/200\n",
      "318/318 [==============================] - 0s - loss: 8.8611     \n",
      "Epoch 45/200\n",
      "318/318 [==============================] - 0s - loss: 8.8036     \n",
      "Epoch 46/200\n",
      "318/318 [==============================] - 0s - loss: 8.6650     \n",
      "Epoch 47/200\n",
      "318/318 [==============================] - 0s - loss: 8.6098     \n",
      "Epoch 48/200\n",
      "318/318 [==============================] - 0s - loss: 8.5101     \n",
      "Epoch 49/200\n",
      "318/318 [==============================] - 0s - loss: 8.4299     \n",
      "Epoch 50/200\n",
      "318/318 [==============================] - 0s - loss: 8.4419     \n",
      "Epoch 51/200\n",
      "318/318 [==============================] - 0s - loss: 8.4224     \n",
      "Epoch 52/200\n",
      "318/318 [==============================] - 0s - loss: 8.3324     \n",
      "Epoch 53/200\n",
      "318/318 [==============================] - 0s - loss: 8.2780     \n",
      "Epoch 54/200\n",
      "318/318 [==============================] - 0s - loss: 8.2470     \n",
      "Epoch 55/200\n",
      "318/318 [==============================] - 0s - loss: 8.1737     \n",
      "Epoch 56/200\n",
      "318/318 [==============================] - 0s - loss: 8.1373     \n",
      "Epoch 57/200\n",
      "318/318 [==============================] - 0s - loss: 8.2097     \n",
      "Epoch 58/200\n",
      "318/318 [==============================] - 0s - loss: 8.1690     \n",
      "Epoch 59/200\n",
      "318/318 [==============================] - 0s - loss: 8.0583     \n",
      "Epoch 60/200\n",
      "318/318 [==============================] - 0s - loss: 8.0283     \n",
      "Epoch 61/200\n",
      "318/318 [==============================] - 0s - loss: 8.0828     \n",
      "Epoch 62/200\n",
      "318/318 [==============================] - 0s - loss: 8.0623     \n",
      "Epoch 63/200\n",
      "318/318 [==============================] - 0s - loss: 7.9970     \n",
      "Epoch 64/200\n",
      "318/318 [==============================] - 0s - loss: 7.9914     \n",
      "Epoch 65/200\n",
      "318/318 [==============================] - 0s - loss: 7.9777     \n",
      "Epoch 66/200\n",
      "318/318 [==============================] - 0s - loss: 8.1148     \n",
      "Epoch 67/200\n",
      "318/318 [==============================] - 0s - loss: 7.9481     \n",
      "Epoch 68/200\n",
      "318/318 [==============================] - 0s - loss: 7.9911     \n",
      "Epoch 69/200\n",
      "318/318 [==============================] - 0s - loss: 7.9016     \n",
      "Epoch 70/200\n",
      "318/318 [==============================] - 0s - loss: 7.8955     \n",
      "Epoch 71/200\n",
      "318/318 [==============================] - 0s - loss: 8.0173     \n",
      "Epoch 72/200\n",
      "318/318 [==============================] - 0s - loss: 7.8420     \n",
      "Epoch 73/200\n",
      "318/318 [==============================] - 0s - loss: 7.8930     \n",
      "Epoch 74/200\n",
      "318/318 [==============================] - 0s - loss: 7.8637     \n",
      "Epoch 75/200\n",
      "318/318 [==============================] - 0s - loss: 7.8245     \n",
      "Epoch 76/200\n",
      "318/318 [==============================] - 0s - loss: 7.8783     \n",
      "Epoch 77/200\n",
      "318/318 [==============================] - 0s - loss: 7.8611     \n",
      "Epoch 78/200\n",
      "318/318 [==============================] - 0s - loss: 7.7378     \n",
      "Epoch 79/200\n",
      "318/318 [==============================] - 0s - loss: 7.8068     \n",
      "Epoch 80/200\n",
      "318/318 [==============================] - 0s - loss: 7.7691     \n",
      "Epoch 81/200\n",
      "318/318 [==============================] - 0s - loss: 7.6957     \n",
      "Epoch 82/200\n",
      "318/318 [==============================] - 0s - loss: 7.8106     \n",
      "Epoch 83/200\n",
      "318/318 [==============================] - 0s - loss: 7.7085     \n",
      "Epoch 84/200\n",
      "318/318 [==============================] - 0s - loss: 7.7230     \n",
      "Epoch 85/200\n",
      "318/318 [==============================] - 0s - loss: 7.6986     \n",
      "Epoch 86/200\n",
      "318/318 [==============================] - 0s - loss: 7.6421     \n",
      "Epoch 87/200\n",
      "318/318 [==============================] - 0s - loss: 7.6726     \n",
      "Epoch 88/200\n",
      "318/318 [==============================] - 0s - loss: 7.6637     \n",
      "Epoch 89/200\n",
      "318/318 [==============================] - 0s - loss: 7.6320     \n",
      "Epoch 90/200\n",
      "318/318 [==============================] - 0s - loss: 7.6145     \n",
      "Epoch 91/200\n",
      "318/318 [==============================] - 0s - loss: 7.6678     \n",
      "Epoch 92/200\n",
      "318/318 [==============================] - 0s - loss: 7.4579     \n",
      "Epoch 93/200\n",
      "318/318 [==============================] - 0s - loss: 7.7687     \n",
      "Epoch 94/200\n",
      "318/318 [==============================] - 0s - loss: 7.6409     \n",
      "Epoch 95/200\n",
      "318/318 [==============================] - 0s - loss: 7.4647     \n",
      "Epoch 96/200\n",
      "318/318 [==============================] - 0s - loss: 7.6146     \n",
      "Epoch 97/200\n",
      "318/318 [==============================] - 0s - loss: 7.5210     \n",
      "Epoch 98/200\n",
      "318/318 [==============================] - 0s - loss: 7.5309     \n",
      "Epoch 99/200\n",
      "318/318 [==============================] - 0s - loss: 7.5626     \n",
      "Epoch 100/200\n",
      "318/318 [==============================] - 0s - loss: 7.6291     \n",
      "Epoch 101/200\n",
      "318/318 [==============================] - 0s - loss: 7.4813     \n",
      "Epoch 102/200\n",
      "318/318 [==============================] - 0s - loss: 7.5019     \n",
      "Epoch 103/200\n",
      "318/318 [==============================] - 0s - loss: 7.5070     \n",
      "Epoch 104/200\n",
      "318/318 [==============================] - 0s - loss: 7.5176     \n",
      "Epoch 105/200\n",
      "318/318 [==============================] - 0s - loss: 7.4603     \n",
      "Epoch 106/200\n",
      "318/318 [==============================] - 0s - loss: 7.5007     \n",
      "Epoch 107/200\n",
      "318/318 [==============================] - 0s - loss: 7.5409     \n",
      "Epoch 108/200\n",
      "318/318 [==============================] - 0s - loss: 7.4338     \n",
      "Epoch 109/200\n",
      "318/318 [==============================] - 0s - loss: 7.4225     \n",
      "Epoch 110/200\n",
      "318/318 [==============================] - 0s - loss: 7.4694     \n",
      "Epoch 111/200\n",
      "318/318 [==============================] - 0s - loss: 7.3714     \n",
      "Epoch 112/200\n",
      "318/318 [==============================] - 0s - loss: 7.3684     \n",
      "Epoch 113/200\n",
      "318/318 [==============================] - 0s - loss: 7.3975     \n",
      "Epoch 114/200\n",
      "318/318 [==============================] - 0s - loss: 7.5503     \n",
      "Epoch 115/200\n",
      "318/318 [==============================] - 0s - loss: 7.3630     \n",
      "Epoch 116/200\n",
      "318/318 [==============================] - 0s - loss: 7.3969     \n",
      "Epoch 117/200\n",
      "318/318 [==============================] - 0s - loss: 7.3146     \n",
      "Epoch 118/200\n",
      "318/318 [==============================] - 0s - loss: 7.3048     \n",
      "Epoch 119/200\n",
      "318/318 [==============================] - 0s - loss: 7.3751     \n",
      "Epoch 120/200\n",
      "318/318 [==============================] - 0s - loss: 7.3639     \n",
      "Epoch 121/200\n",
      "318/318 [==============================] - 0s - loss: 7.3529     \n",
      "Epoch 122/200\n",
      "318/318 [==============================] - 0s - loss: 7.2671     \n",
      "Epoch 123/200\n",
      "318/318 [==============================] - 0s - loss: 7.3880     \n",
      "Epoch 124/200\n",
      "318/318 [==============================] - 0s - loss: 7.4151     \n",
      "Epoch 125/200\n",
      "318/318 [==============================] - 0s - loss: 7.3583     \n",
      "Epoch 126/200\n",
      "318/318 [==============================] - 0s - loss: 7.2539     \n",
      "Epoch 127/200\n",
      "318/318 [==============================] - 0s - loss: 7.2521     \n",
      "Epoch 128/200\n",
      "318/318 [==============================] - 0s - loss: 7.2334     \n",
      "Epoch 129/200\n",
      "318/318 [==============================] - 0s - loss: 7.2746     \n",
      "Epoch 130/200\n",
      "318/318 [==============================] - 0s - loss: 7.2655     \n",
      "Epoch 131/200\n",
      "318/318 [==============================] - 0s - loss: 7.2286     \n",
      "Epoch 132/200\n",
      "318/318 [==============================] - 0s - loss: 7.1874     \n",
      "Epoch 133/200\n",
      "318/318 [==============================] - 0s - loss: 7.2566     \n",
      "Epoch 134/200\n",
      "318/318 [==============================] - 0s - loss: 7.1863     \n",
      "Epoch 135/200\n",
      "318/318 [==============================] - 0s - loss: 7.2139     \n",
      "Epoch 136/200\n",
      "318/318 [==============================] - 0s - loss: 7.1828     \n",
      "Epoch 137/200\n",
      "318/318 [==============================] - 0s - loss: 7.1765     \n",
      "Epoch 138/200\n",
      "318/318 [==============================] - 0s - loss: 7.1513     \n",
      "Epoch 139/200\n",
      "318/318 [==============================] - 0s - loss: 7.1675     \n",
      "Epoch 140/200\n",
      "318/318 [==============================] - 0s - loss: 7.2037     \n",
      "Epoch 141/200\n",
      "318/318 [==============================] - 0s - loss: 7.1624     \n",
      "Epoch 142/200\n",
      "318/318 [==============================] - 0s - loss: 7.1621     \n",
      "Epoch 143/200\n",
      "318/318 [==============================] - 0s - loss: 7.1546     \n",
      "Epoch 144/200\n",
      "318/318 [==============================] - 0s - loss: 7.1683     \n",
      "Epoch 145/200\n",
      "318/318 [==============================] - 0s - loss: 7.1315     \n",
      "Epoch 146/200\n",
      "318/318 [==============================] - 0s - loss: 7.1344     \n",
      "Epoch 147/200\n",
      "318/318 [==============================] - 0s - loss: 7.1492     \n",
      "Epoch 148/200\n",
      "318/318 [==============================] - 0s - loss: 7.0931     \n",
      "Epoch 149/200\n",
      "318/318 [==============================] - 0s - loss: 7.1242     \n",
      "Epoch 150/200\n",
      "318/318 [==============================] - 0s - loss: 7.1231     \n",
      "Epoch 151/200\n",
      "318/318 [==============================] - 0s - loss: 7.1594     \n",
      "Epoch 152/200\n",
      "318/318 [==============================] - 0s - loss: 7.1413     \n",
      "Epoch 153/200\n",
      "318/318 [==============================] - 0s - loss: 7.1217     \n",
      "Epoch 154/200\n",
      "318/318 [==============================] - 0s - loss: 7.1259     \n",
      "Epoch 155/200\n",
      "318/318 [==============================] - 0s - loss: 7.0348     \n",
      "Epoch 156/200\n",
      "318/318 [==============================] - 0s - loss: 7.0408     \n",
      "Epoch 157/200\n",
      "318/318 [==============================] - 0s - loss: 7.3499     \n",
      "Epoch 158/200\n",
      "318/318 [==============================] - 0s - loss: 7.0840     \n",
      "Epoch 159/200\n",
      "318/318 [==============================] - 0s - loss: 7.1010     \n",
      "Epoch 160/200\n",
      "318/318 [==============================] - 0s - loss: 7.0212     \n",
      "Epoch 161/200\n",
      "318/318 [==============================] - 0s - loss: 7.0763     \n",
      "Epoch 162/200\n",
      "318/318 [==============================] - 0s - loss: 7.0219     \n",
      "Epoch 163/200\n",
      "318/318 [==============================] - 0s - loss: 7.0678     \n",
      "Epoch 164/200\n",
      "318/318 [==============================] - 0s - loss: 7.0322     \n",
      "Epoch 165/200\n",
      "318/318 [==============================] - 0s - loss: 7.0001     \n",
      "Epoch 166/200\n",
      "318/318 [==============================] - 0s - loss: 7.0917     \n",
      "Epoch 167/200\n",
      "318/318 [==============================] - 0s - loss: 7.0316     \n",
      "Epoch 168/200\n",
      "318/318 [==============================] - 0s - loss: 7.0514     \n",
      "Epoch 169/200\n",
      "318/318 [==============================] - 0s - loss: 7.0178     \n",
      "Epoch 170/200\n",
      "318/318 [==============================] - 0s - loss: 7.0031     \n",
      "Epoch 171/200\n",
      "318/318 [==============================] - 0s - loss: 6.9410     \n",
      "Epoch 172/200\n",
      "318/318 [==============================] - 0s - loss: 6.9783     \n",
      "Epoch 173/200\n",
      "318/318 [==============================] - 0s - loss: 7.0005     \n",
      "Epoch 174/200\n",
      "318/318 [==============================] - 0s - loss: 7.0419     \n",
      "Epoch 175/200\n",
      "318/318 [==============================] - 0s - loss: 6.9563     \n",
      "Epoch 176/200\n",
      "318/318 [==============================] - 0s - loss: 7.0087     \n",
      "Epoch 177/200\n",
      "318/318 [==============================] - 0s - loss: 6.9537     \n",
      "Epoch 178/200\n",
      "318/318 [==============================] - 0s - loss: 6.9669     \n",
      "Epoch 179/200\n",
      "318/318 [==============================] - 0s - loss: 6.9175     \n",
      "Epoch 180/200\n",
      "318/318 [==============================] - 0s - loss: 7.0059     \n",
      "Epoch 181/200\n",
      "318/318 [==============================] - 0s - loss: 7.0424     \n",
      "Epoch 182/200\n",
      "318/318 [==============================] - 0s - loss: 7.1053     \n",
      "Epoch 183/200\n",
      "318/318 [==============================] - 0s - loss: 6.9359     \n",
      "Epoch 184/200\n",
      "318/318 [==============================] - 0s - loss: 7.0243     \n",
      "Epoch 185/200\n",
      "318/318 [==============================] - 0s - loss: 6.9511     \n",
      "Epoch 186/200\n",
      "318/318 [==============================] - 0s - loss: 7.0099     \n",
      "Epoch 187/200\n",
      "318/318 [==============================] - 0s - loss: 6.8681     \n",
      "Epoch 188/200\n",
      "318/318 [==============================] - 0s - loss: 6.9405     \n",
      "Epoch 189/200\n",
      "318/318 [==============================] - 0s - loss: 6.9204     \n",
      "Epoch 190/200\n",
      "318/318 [==============================] - 0s - loss: 6.9665     \n",
      "Epoch 191/200\n",
      "318/318 [==============================] - 0s - loss: 6.9577     \n",
      "Epoch 192/200\n",
      "318/318 [==============================] - 0s - loss: 6.8745     \n",
      "Epoch 193/200\n",
      "318/318 [==============================] - 0s - loss: 6.9502     \n",
      "Epoch 194/200\n",
      "318/318 [==============================] - 0s - loss: 6.9106     \n",
      "Epoch 195/200\n",
      "318/318 [==============================] - 0s - loss: 6.8056     \n",
      "Epoch 196/200\n",
      "318/318 [==============================] - 0s - loss: 6.8552     \n",
      "Epoch 197/200\n",
      "318/318 [==============================] - 0s - loss: 6.8412     \n",
      "Epoch 198/200\n",
      "318/318 [==============================] - 0s - loss: 6.8672     \n",
      "Epoch 199/200\n",
      "318/318 [==============================] - 0s - loss: 6.8325     \n",
      "Epoch 200/200\n",
      "318/318 [==============================] - 0s - loss: 6.8427     \n"
     ]
    },
    {
     "data": {
      "text/plain": [
       "<keras.callbacks.History at 0x7f03f95f71d0>"
      ]
     },
     "execution_count": 17,
     "metadata": {},
     "output_type": "execute_result"
    }
   ],
   "source": [
    "from keras.layers import Dropout\n",
    "model = Sequential()\n",
    "model.add(Dense(40, input_dim=7, init='normal', activation='relu'))\n",
    "#model.add(Dropout(0.5))\n",
    "model.add(Dense(1, init='normal'))\n",
    "\n",
    "model.compile(loss='mean_squared_error', optimizer='adam')\n",
    "# Actual modelling\n",
    "model.fit(X, Y, verbose=1, batch_size=5, nb_epoch=200)"
   ]
  },
  {
   "cell_type": "markdown",
   "metadata": {},
   "source": [
    "## Coefficients Of Determination {Calculating R^2}\n",
    "\n",
    "R^2, Close to one is better"
   ]
  },
  {
   "cell_type": "code",
   "execution_count": 18,
   "metadata": {
    "collapsed": false
   },
   "outputs": [
    {
     "name": "stdout",
     "output_type": "stream",
     "text": [
      "R-squared =  0.888837921074\n"
     ]
    }
   ],
   "source": [
    "predicted = model.predict(X)\n",
    "r_squared = r2_score(Y, predicted, multioutput='variance_weighted')\n",
    "print 'R-squared = ',r_squared"
   ]
  },
  {
   "cell_type": "code",
   "execution_count": 19,
   "metadata": {
    "collapsed": false
   },
   "outputs": [],
   "source": [
    "prediction = predicted.ravel()"
   ]
  },
  {
   "cell_type": "code",
   "execution_count": 20,
   "metadata": {
    "collapsed": false
   },
   "outputs": [
    {
     "data": {
      "text/plain": [
       "(318, 1)"
      ]
     },
     "execution_count": 20,
     "metadata": {},
     "output_type": "execute_result"
    }
   ],
   "source": [
    "shape(predicted)"
   ]
  },
  {
   "cell_type": "code",
   "execution_count": 21,
   "metadata": {
    "collapsed": false
   },
   "outputs": [
    {
     "data": {
      "text/plain": [
       "(318,)"
      ]
     },
     "execution_count": 21,
     "metadata": {},
     "output_type": "execute_result"
    }
   ],
   "source": [
    "shape(prediction)"
   ]
  },
  {
   "cell_type": "code",
   "execution_count": 22,
   "metadata": {
    "collapsed": false
   },
   "outputs": [
    {
     "data": {
      "text/plain": [
       "(318,)"
      ]
     },
     "execution_count": 22,
     "metadata": {},
     "output_type": "execute_result"
    }
   ],
   "source": [
    "shape(Y)"
   ]
  },
  {
   "cell_type": "markdown",
   "metadata": {},
   "source": [
    "## Residual Plot"
   ]
  },
  {
   "cell_type": "code",
   "execution_count": 23,
   "metadata": {
    "collapsed": false
   },
   "outputs": [
    {
     "data": {
      "image/png": "[encoded data removed]",
      "text/plain": [
       "<matplotlib.figure.Figure at 0x7f03f87d49d0>"
      ]
     },
     "metadata": {},
     "output_type": "display_data"
    }
   ],
   "source": [
    "fig, ax = plt.subplots()\n",
    "ax.scatter(Y, predicted)\n",
    "ax.plot([Y.min(), Y.max()], [Y.min(), Y.max()], 'k--', lw=4)\n",
    "ax.set_xlabel('Measured')\n",
    "ax.set_ylabel('Predicted')\n",
    "plt.show()"
   ]
  },
  {
   "cell_type": "code",
   "execution_count": 24,
   "metadata": {
    "collapsed": false
   },
   "outputs": [
    {
     "data": {
      "text/html": [
       "\n",
       "\n",
       "    <div class=\"bk-root\">\n",
       "        <div class=\"plotdiv\" id=\"b59e1d93-052d-473a-8772-2176f0e9f7c5\"></div>\n",
       "    </div>\n",
       "<script type=\"text/javascript\">\n",
       "  \n",
       "  (function(global) {\n",
       "    function now() {\n",
       "      return new Date();\n",
       "    }\n",
       "  \n",
       "    var force = \"\";\n",
       "  \n",
       "    if (typeof (window._bokeh_onload_callbacks) === \"undefined\" || force !== \"\") {\n",
       "      window._bokeh_onload_callbacks = [];\n",
       "      window._bokeh_is_loading = undefined;\n",
       "    }\n",
       "  \n",
       "  \n",
       "    \n",
       "    if (typeof (window._bokeh_timeout) === \"undefined\" || force !== \"\") {\n",
       "      window._bokeh_timeout = Date.now() + 0;\n",
       "      window._bokeh_failed_load = false;\n",
       "    }\n",
       "  \n",
       "    var NB_LOAD_WARNING = {'data': {'text/html':\n",
       "       \"<div style='background-color: #fdd'>\\n\"+\n",
       "       \"<p>\\n\"+\n",
       "       \"BokehJS does not appear to have successfully loaded. If loading BokehJS from CDN, this \\n\"+\n",
       "       \"may be due to a slow or bad network connection. Possible fixes:\\n\"+\n",
       "       \"</p>\\n\"+\n",
       "       \"<ul>\\n\"+\n",
       "       \"<li>re-rerun `output_notebook()` to attempt to load from CDN again, or</li>\\n\"+\n",
       "       \"<li>use INLINE resources instead, as so:</li>\\n\"+\n",
       "       \"</ul>\\n\"+\n",
       "       \"<code>\\n\"+\n",
       "       \"from bokeh.resources import INLINE\\n\"+\n",
       "       \"output_notebook(resources=INLINE)\\n\"+\n",
       "       \"</code>\\n\"+\n",
       "       \"</div>\"}};\n",
       "  \n",
       "    function display_loaded() {\n",
       "      if (window.Bokeh !== undefined) {\n",
       "        Bokeh.$(\"#b59e1d93-052d-473a-8772-2176f0e9f7c5\").text(\"BokehJS successfully loaded.\");\n",
       "      } else if (Date.now() < window._bokeh_timeout) {\n",
       "        setTimeout(display_loaded, 100)\n",
       "      }\n",
       "    }\n",
       "  \n",
       "    function run_callbacks() {\n",
       "      window._bokeh_onload_callbacks.forEach(function(callback) { callback() });\n",
       "      delete window._bokeh_onload_callbacks\n",
       "      console.info(\"Bokeh: all callbacks have finished\");\n",
       "    }\n",
       "  \n",
       "    function load_libs(js_urls, callback) {\n",
       "      window._bokeh_onload_callbacks.push(callback);\n",
       "      if (window._bokeh_is_loading > 0) {\n",
       "        console.log(\"Bokeh: BokehJS is being loaded, scheduling callback at\", now());\n",
       "        return null;\n",
       "      }\n",
       "      if (js_urls == null || js_urls.length === 0) {\n",
       "        run_callbacks();\n",
       "        return null;\n",
       "      }\n",
       "      console.log(\"Bokeh: BokehJS not loaded, scheduling load and callback at\", now());\n",
       "      window._bokeh_is_loading = js_urls.length;\n",
       "      for (var i = 0; i < js_urls.length; i++) {\n",
       "        var url = js_urls[i];\n",
       "        var s = document.createElement('script');\n",
       "        s.src = url;\n",
       "        s.async = false;\n",
       "        s.onreadystatechange = s.onload = function() {\n",
       "          window._bokeh_is_loading--;\n",
       "          if (window._bokeh_is_loading === 0) {\n",
       "            console.log(\"Bokeh: all BokehJS libraries loaded\");\n",
       "            run_callbacks()\n",
       "          }\n",
       "        };\n",
       "        s.onerror = function() {\n",
       "          console.warn(\"failed to load library \" + url);\n",
       "        };\n",
       "        console.log(\"Bokeh: injecting script tag for BokehJS library: \", url);\n",
       "        document.getElementsByTagName(\"head\")[0].appendChild(s);\n",
       "      }\n",
       "    };var element = document.getElementById(\"b59e1d93-052d-473a-8772-2176f0e9f7c5\");\n",
       "    if (element == null) {\n",
       "      console.log(\"Bokeh: ERROR: autoload.js configured with elementid 'b59e1d93-052d-473a-8772-2176f0e9f7c5' but no matching script tag was found. \")\n",
       "      return false;\n",
       "    }\n",
       "  \n",
       "    var js_urls = [];\n",
       "  \n",
       "    var inline_js = [\n",
       "      function(Bokeh) {\n",
       "        Bokeh.$(function() {\n",
       "            var docs_json = {\"944b1132-e672-4d0e-8eed-afbd71cc2ab0\":{\"roots\":{\"references\":[{\"attributes\":{\"active_drag\":\"auto\",\"active_scroll\":\"auto\",\"active_tap\":\"auto\",\"tools\":[{\"id\":\"786434f0-5c1d-4456-8059-d8900629fea8\",\"type\":\"BoxZoomTool\"},{\"id\":\"46e9a796-a607-44aa-9720-00c539177097\",\"type\":\"BoxSelectTool\"},{\"id\":\"55b6e133-1fe2-454b-bc3d-147e71d733e8\",\"type\":\"CrosshairTool\"},{\"id\":\"0d808d83-a2c6-49d5-afad-878b097c2ef5\",\"type\":\"ResizeTool\"},{\"id\":\"3d00049f-09b7-475e-8da7-1fef750f33fa\",\"type\":\"ResetTool\"},{\"id\":\"2d9c53cc-d34c-470b-a434-e07e335e3515\",\"type\":\"LassoSelectTool\"},{\"id\":\"20df51f6-6162-45dc-ab03-9dc9b4ad9179\",\"type\":\"PanTool\"},{\"id\":\"9eed05a3-8091-4f55-8adb-6643bc56b693\",\"type\":\"SaveTool\"},{\"id\":\"da80904f-9c71-4482-b5bf-4d480e352385\",\"type\":\"PolySelectTool\"},{\"id\":\"6021830a-9143-48eb-8501-5502164d33fd\",\"type\":\"TapTool\"},{\"id\":\"c43de075-0040-4b4b-be0d-109a468d1216\",\"type\":\"WheelZoomTool\"},{\"id\":\"cff472fe-fac9-4b96-bd08-159a42c8c6f7\",\"type\":\"UndoTool\"}]},\"id\":\"fe0c18d1-652f-4ae9-a798-5c43c55f9a83\",\"type\":\"Toolbar\"},{\"attributes\":{\"plot\":{\"id\":\"de09bcf5-02cf-4a43-92ba-d75145785648\",\"subtype\":\"Figure\",\"type\":\"Plot\"}},\"id\":\"55b6e133-1fe2-454b-bc3d-147e71d733e8\",\"type\":\"CrosshairTool\"},{\"attributes\":{\"callback\":null,\"column_names\":[\"x\",\"y\"],\"data\":{\"x\":[15.0,27.0,34.3,26.0,31.6,33.8,29.0,18.1,27.2,38.0,26.0,14.0,22.0,31.0,36.4,17.6,17.7,28.0,20.8,14.0,20.2,32.8,22.3,28.0,37.0,27.0,23.2,13.0,15.0,22.0,24.0,29.0,13.0,31.8,23.0,25.5,29.9,13.0,17.5,46.6,15.5,32.9,14.0,25.0,19.4,15.0,32.4,31.5,27.0,19.8,17.0,33.5,21.0,23.0,38.1,44.0,40.8,21.0,29.0,17.5,28.0,26.0,26.0,11.0,37.7,24.2,16.0,16.0,30.0,19.0,27.0,19.0,16.0,16.0,20.3,21.0,33.5,23.0,21.5,16.0,19.0,37.0,15.0,16.0,26.0,18.0,13.0,21.0,29.0,22.0,33.0,22.0,16.0,36.0,20.0,22.0,31.3,14.5,29.8,13.0,13.0,36.0,20.5,25.0,27.0,33.0,16.5,20.6,30.0,43.4,34.7,11.0,18.0,13.0,16.0,19.0,23.0,25.5,14.0,24.5,30.0,25.8,38.0,28.8,26.6,17.0,32.0,18.1,11.0,21.0,36.0,13.0,30.0,31.0,14.0,18.0,13.0,21.6,28.0,23.8,14.0,27.0,20.2,26.0,39.4,19.9,19.0,14.0,23.6,13.0,38.0,30.5,18.5,17.0,12.0,16.0,28.0,15.5,32.0,24.0,25.1,16.0,13.0,24.0,22.0,24.0,15.0,19.0,18.0,27.2,14.0,21.0,44.3,28.0,31.5,19.2,14.0,30.5,29.8,36.1,26.8,26.0,20.5,32.1,16.0,17.0,20.0,22.0,25.0,23.9,31.0,39.0,28.0,34.5,22.0,20.6,14.0,25.4,14.0,30.0,19.0,36.0,25.0,14.0,21.1,28.0,19.0,19.1,24.3,44.6,20.0,17.0,13.0,34.2,26.0,17.5,26.0,13.0,18.0,18.5,36.0,16.0,38.0,23.0,20.5,13.0,28.0,12.0,34.1,20.0,12.0,28.4,18.0,20.0,29.5,19.0,26.0,26.0,25.0,32.0,33.7,28.0,19.2,29.5,27.0,15.0,39.1,26.6,13.0,23.0,27.5,20.0,19.2,24.0,32.2,19.4,33.0,12.0,13.0,17.6,23.9,34.4,14.0,31.0,35.1,15.0,15.5,9.0,25.0,18.0,31.0,43.1,17.5,25.0,25.0,19.0,26.0,31.0,18.2,30.7,24.0,17.0,27.0,23.0,18.0,27.2,35.0,29.0,21.5,15.0,17.5,15.0,32.7,10.0,20.0,32.4,34.0,18.0,32.0,14.0,24.0,26.4,14.0,13.0,13.0,18.5,21.5,16.2,16.5,15.0,28.1,29.0,20.2,27.9,22.0,29.0,19.0,25.0],\"y\":[13.455257415771484,27.03133201599121,32.39166259765625,30.047216415405273,32.105690002441406,35.4451789855957,30.359233856201172,19.730201721191406,28.310945510864258,34.394371032714844,26.838029861450195,13.530383110046387,23.739139556884766,31.892221450805664,28.953672409057617,19.248125076293945,17.629457473754883,27.454824447631836,22.033601760864258,13.138400077819824,23.007389068603516,35.990718841552734,23.98118019104004,24.829275131225586,39.448028564453125,26.38251495361328,23.811166763305664,14.423081398010254,14.446430206298828,20.178598403930664,22.35602569580078,29.459875106811523,16.503623962402344,36.462501525878906,24.841400146484375,23.82962989807129,33.76116943359375,13.113434791564941,16.1767578125,35.902496337890625,14.734912872314453,30.833919525146484,13.261726379394531,22.723909378051758,17.34821128845215,17.91171646118164,33.6505126953125,32.9945068359375,27.922414779663086,23.714603424072266,15.03431510925293,30.717060089111328,19.37174415588379,20.933025360107422,37.86408996582031,41.987548828125,36.89813995361328,21.366275787353516,31.355085372924805,18.711551666259766,24.440963745117188,25.030925750732422,24.200408935546875,12.528383255004883,37.201995849609375,27.746891021728516,13.690155982971191,13.690841674804688,26.73910903930664,18.72673988342285,27.77759552001953,24.440645217895508,14.625239372253418,14.087458610534668,24.588998794555664,21.883689880371094,27.71062660217285,19.210769653320312,21.49759864807129,16.40233612060547,18.456398010253906,39.168907165527344,15.908028602600098,15.79077434539795,29.835773468017578,17.50111198425293,13.105964660644531,24.910877227783203,27.595571517944336,20.030250549316406,33.45916748046875,26.883769989013672,15.274162292480469,34.40928649902344,26.095340728759766,21.73443031311035,31.0748233795166,14.570221900939941,35.62110900878906,14.188095092773438,12.909736633300781,34.773738861083984,21.648332595825195,26.709609985351562,25.01738166809082,32.31330871582031,17.969091415405273,21.090961456298828,25.817564010620117,37.33615493774414,32.53189468383789,11.91264533996582,15.573662757873535,15.17891788482666,13.38913345336914,23.333955764770508,27.954931259155273,28.66916275024414,13.22322940826416,23.782344818115234,29.803993225097656,28.658344268798828,25.274946212768555,26.247600555419922,28.047460556030273,16.488365173339844,31.329299926757812,19.072038650512695,12.858176231384277,21.09248161315918,34.67937469482422,12.334845542907715,31.9997615814209,30.88161849975586,13.089353561401367,25.45888328552246,17.332365036010742,24.470277786254883,26.96535301208496,23.203027725219727,13.241658210754395,24.79541015625,20.862939834594727,24.393301010131836,34.2570915222168,20.7264404296875,23.906896591186523,15.316560745239258,25.567825317382812,15.266522407531738,37.501773834228516,28.987430572509766,17.58671760559082,16.476829528808594,12.652748107910156,15.834038734436035,25.671510696411133,16.941123962402344,32.71281814575195,25.1206111907959,25.03801155090332,14.728200912475586,15.001367568969727,27.142242431640625,24.276195526123047,23.16461944580078,14.108757019042969,18.609962463378906,20.916501998901367,28.7581729888916,13.320569038391113,23.276784896850586,38.04452896118164,29.212350845336914,32.02467346191406,20.104150772094727,13.213581085205078,30.19257164001465,27.726774215698242,35.04731750488281,25.565330505371094,27.177553176879883,19.39141082763672,32.63859939575195,15.128143310546875,21.681379318237305,19.783899307250977,21.437820434570312,24.838876724243164,23.470308303833008,39.197303771972656,36.095863342285156,25.393041610717773,32.21920394897461,23.489580154418945,20.635862350463867,16.331592559814453,21.65995979309082,15.06557846069336,30.270626068115234,16.38673210144043,34.7299919128418,25.77475929260254,13.712968826293945,26.55234718322754,25.382787704467773,21.8184871673584,21.180089950561523,25.667787551879883,35.32421112060547,20.893774032592773,17.821414947509766,13.524609565734863,30.896312713623047,23.866104125976562,15.337364196777344,21.66019630432129,12.733804702758789,15.840957641601562,17.497995376586914,36.240699768066406,16.843862533569336,37.998069763183594,19.917879104614258,20.480302810668945,12.72691822052002,31.839929580688477,12.42672348022461,36.732933044433594,20.442779541015625,12.655495643615723,26.25917625427246,17.30608367919922,19.1951961517334,32.000030517578125,18.660568237304688,25.348180770874023,25.105037689208984,22.347883224487305,33.55763626098633,33.35160827636719,30.77541160583496,18.028032302856445,31.363407135009766,25.903942108154297,15.698654174804688,39.70479202270508,22.989912033081055,13.801949501037598,22.360069274902344,25.785364151000977,22.16207504272461,20.05316925048828,24.2419376373291,32.131378173828125,20.518341064453125,33.1607780456543,12.548571586608887,12.54829216003418,20.469728469848633,27.889562606811523,34.293819427490234,13.582018852233887,28.95133399963379,39.0573844909668,17.60527801513672,17.46088218688965,9.860451698303223,27.613842010498047,14.475967407226562,27.779897689819336,36.324493408203125,19.23455047607422,24.67514419555664,26.867246627807617,19.63747787475586,27.76329231262207,30.268083572387695,18.655168533325195,28.034364700317383,26.85572624206543,19.03672218322754,30.791351318359375,22.462251663208008,18.614973068237305,29.68777084350586,28.84902000427246,30.368423461914062,24.38241958618164,14.003771781921387,16.795812606811523,14.26266098022461,26.905052185058594,11.351675033569336,18.394948959350586,33.15924072265625,35.94033432006836,21.378929138183594,37.94730758666992,13.235139846801758,20.755691528320312,25.587583541870117,14.00794792175293,12.723691940307617,14.132003784179688,17.096370697021484,25.026695251464844,19.280906677246094,14.854572296142578,15.313098907470703,26.938182830810547,32.50236892700195,17.91594886779785,25.369539260864258,19.407150268554688,30.101285934448242,16.681522369384766,26.609487533569336]}},\"id\":\"3ed207dc-216b-4e92-9f58-5443b2915709\",\"type\":\"ColumnDataSource\"},{\"attributes\":{\"fill_alpha\":{\"value\":0.5},\"fill_color\":{\"value\":\"lightgrey\"},\"level\":\"overlay\",\"line_alpha\":{\"value\":1.0},\"line_color\":{\"value\":\"black\"},\"line_dash\":[4,4],\"line_width\":{\"value\":2},\"plot\":null,\"xs_units\":\"screen\",\"ys_units\":\"screen\"},\"id\":\"bdc039e5-aa2e-49f3-86ae-54c00ba2cf5d\",\"type\":\"PolyAnnotation\"},{\"attributes\":{\"plot\":{\"id\":\"de09bcf5-02cf-4a43-92ba-d75145785648\",\"subtype\":\"Figure\",\"type\":\"Plot\"}},\"id\":\"c43de075-0040-4b4b-be0d-109a468d1216\",\"type\":\"WheelZoomTool\"},{\"attributes\":{\"align\":\"center\",\"plot\":null,\"text\":null},\"id\":\"63eee0d2-87b2-4897-bb9e-2aca063755c4\",\"type\":\"Title\"},{\"attributes\":{},\"id\":\"785c1b8d-7b78-4963-a26b-44131a8724dd\",\"type\":\"BasicTickFormatter\"},{\"attributes\":{\"callback\":null},\"id\":\"6848127a-f749-476a-b474-ff3ed62f02b1\",\"type\":\"DataRange1d\"},{\"attributes\":{\"fill_color\":{\"value\":\"#80B1D3\"},\"line_color\":{\"value\":\"#80B1D3\"},\"line_width\":{\"value\":3},\"x\":{\"field\":\"x\"},\"y\":{\"field\":\"y\"}},\"id\":\"12e3f2d0-d599-46cd-88b0-011c908adf3d\",\"type\":\"Circle\"},{\"attributes\":{\"callback\":null,\"overlay\":{\"id\":\"75399a17-70a5-4dc9-a838-c2f91e1f8c2b\",\"type\":\"BoxAnnotation\"},\"plot\":{\"id\":\"de09bcf5-02cf-4a43-92ba-d75145785648\",\"subtype\":\"Figure\",\"type\":\"Plot\"},\"renderers\":[{\"id\":\"81e3a868-bf3f-4fab-9f94-34cacb9cb04e\",\"type\":\"GlyphRenderer\"},{\"id\":\"6bab2c08-2f42-4357-8fcc-612d622fbfaf\",\"type\":\"GlyphRenderer\"}]},\"id\":\"46e9a796-a607-44aa-9720-00c539177097\",\"type\":\"BoxSelectTool\"},{\"attributes\":{\"callback\":null,\"plot\":{\"id\":\"de09bcf5-02cf-4a43-92ba-d75145785648\",\"subtype\":\"Figure\",\"type\":\"Plot\"}},\"id\":\"6021830a-9143-48eb-8501-5502164d33fd\",\"type\":\"TapTool\"},{\"attributes\":{\"plot\":{\"id\":\"de09bcf5-02cf-4a43-92ba-d75145785648\",\"subtype\":\"Figure\",\"type\":\"Plot\"}},\"id\":\"cff472fe-fac9-4b96-bd08-159a42c8c6f7\",\"type\":\"UndoTool\"},{\"attributes\":{\"bottom_units\":\"screen\",\"fill_alpha\":{\"value\":0.5},\"fill_color\":{\"value\":\"lightgrey\"},\"left_units\":\"screen\",\"level\":\"overlay\",\"line_alpha\":{\"value\":1.0},\"line_color\":{\"value\":\"black\"},\"line_dash\":[4,4],\"line_width\":{\"value\":2},\"plot\":null,\"render_mode\":\"css\",\"right_units\":\"screen\",\"top_units\":\"screen\"},\"id\":\"75399a17-70a5-4dc9-a838-c2f91e1f8c2b\",\"type\":\"BoxAnnotation\"},{\"attributes\":{},\"id\":\"097956c5-6e73-45e1-ba9c-c66514cce55a\",\"type\":\"BasicTicker\"},{\"attributes\":{\"callback\":null,\"column_names\":[\"y\",\"x\"],\"data\":{\"x\":[9.0,46.6],\"y\":[9.0,46.6]}},\"id\":\"a61f0eed-4167-4032-9122-12773ee84456\",\"type\":\"ColumnDataSource\"},{\"attributes\":{\"data_source\":{\"id\":\"a61f0eed-4167-4032-9122-12773ee84456\",\"type\":\"ColumnDataSource\"},\"glyph\":{\"id\":\"818aaa2f-41aa-4512-a7d8-f0ead9afd602\",\"type\":\"Line\"},\"hover_glyph\":null,\"nonselection_glyph\":{\"id\":\"9228f3fc-e058-44e2-a3db-c2528c01291b\",\"type\":\"Line\"},\"selection_glyph\":null},\"id\":\"6bab2c08-2f42-4357-8fcc-612d622fbfaf\",\"type\":\"GlyphRenderer\"},{\"attributes\":{\"plot\":{\"id\":\"de09bcf5-02cf-4a43-92ba-d75145785648\",\"subtype\":\"Figure\",\"type\":\"Plot\"}},\"id\":\"20df51f6-6162-45dc-ab03-9dc9b4ad9179\",\"type\":\"PanTool\"},{\"attributes\":{\"fill_alpha\":{\"value\":0.1},\"fill_color\":{\"value\":\"#1f77b4\"},\"line_alpha\":{\"value\":0.1},\"line_color\":{\"value\":\"#1f77b4\"},\"line_width\":{\"value\":3},\"x\":{\"field\":\"x\"},\"y\":{\"field\":\"y\"}},\"id\":\"0f428215-42ec-4076-8107-d43d3f3e0e49\",\"type\":\"Circle\"},{\"attributes\":{\"dimension\":1,\"plot\":{\"id\":\"de09bcf5-02cf-4a43-92ba-d75145785648\",\"subtype\":\"Figure\",\"type\":\"Plot\"},\"ticker\":{\"id\":\"097956c5-6e73-45e1-ba9c-c66514cce55a\",\"type\":\"BasicTicker\"}},\"id\":\"911daf04-02fa-400d-b279-aac3516e386b\",\"type\":\"Grid\"},{\"attributes\":{\"plot\":{\"id\":\"de09bcf5-02cf-4a43-92ba-d75145785648\",\"subtype\":\"Figure\",\"type\":\"Plot\"}},\"id\":\"0d808d83-a2c6-49d5-afad-878b097c2ef5\",\"type\":\"ResizeTool\"},{\"attributes\":{},\"id\":\"bdf69e6c-c76e-48d2-9b70-c6df0fd90739\",\"type\":\"BasicTickFormatter\"},{\"attributes\":{\"axis_label\":\"Measured\",\"axis_label_text_color\":{\"value\":\"#aa6666\"},\"formatter\":{\"id\":\"785c1b8d-7b78-4963-a26b-44131a8724dd\",\"type\":\"BasicTickFormatter\"},\"major_tick_line_color\":{\"value\":\"firebrick\"},\"major_tick_line_width\":{\"value\":3},\"minor_tick_line_color\":{\"value\":\"orange\"},\"plot\":{\"id\":\"de09bcf5-02cf-4a43-92ba-d75145785648\",\"subtype\":\"Figure\",\"type\":\"Plot\"},\"ticker\":{\"id\":\"f63a8a9f-c11f-4954-88c6-26f82ded5fdd\",\"type\":\"BasicTicker\"}},\"id\":\"a6c695fa-6c81-49b4-aaf6-ee285a6a54b0\",\"type\":\"LinearAxis\"},{\"attributes\":{\"callback\":null},\"id\":\"6f65c612-5e32-4fc0-a8df-c1dc91475e4e\",\"type\":\"DataRange1d\"},{\"attributes\":{\"plot\":{\"id\":\"de09bcf5-02cf-4a43-92ba-d75145785648\",\"subtype\":\"Figure\",\"type\":\"Plot\"}},\"id\":\"9eed05a3-8091-4f55-8adb-6643bc56b693\",\"type\":\"SaveTool\"},{\"attributes\":{\"callback\":null,\"overlay\":{\"id\":\"26acd64d-a68c-45cf-be2a-c23670f39049\",\"type\":\"PolyAnnotation\"},\"plot\":{\"id\":\"de09bcf5-02cf-4a43-92ba-d75145785648\",\"subtype\":\"Figure\",\"type\":\"Plot\"}},\"id\":\"2d9c53cc-d34c-470b-a434-e07e335e3515\",\"type\":\"LassoSelectTool\"},{\"attributes\":{\"fill_alpha\":{\"value\":0.5},\"fill_color\":{\"value\":\"lightgrey\"},\"level\":\"overlay\",\"line_alpha\":{\"value\":1.0},\"line_color\":{\"value\":\"black\"},\"line_dash\":[4,4],\"line_width\":{\"value\":2},\"plot\":null,\"xs_units\":\"screen\",\"ys_units\":\"screen\"},\"id\":\"26acd64d-a68c-45cf-be2a-c23670f39049\",\"type\":\"PolyAnnotation\"},{\"attributes\":{},\"id\":\"f63a8a9f-c11f-4954-88c6-26f82ded5fdd\",\"type\":\"BasicTicker\"},{\"attributes\":{\"bottom_units\":\"screen\",\"fill_alpha\":{\"value\":0.5},\"fill_color\":{\"value\":\"lightgrey\"},\"left_units\":\"screen\",\"level\":\"overlay\",\"line_alpha\":{\"value\":1.0},\"line_color\":{\"value\":\"black\"},\"line_dash\":[4,4],\"line_width\":{\"value\":2},\"plot\":null,\"render_mode\":\"css\",\"right_units\":\"screen\",\"top_units\":\"screen\"},\"id\":\"7c16b6a2-74f1-442a-9f5b-8dd429f4feaa\",\"type\":\"BoxAnnotation\"},{\"attributes\":{\"plot\":{\"id\":\"de09bcf5-02cf-4a43-92ba-d75145785648\",\"subtype\":\"Figure\",\"type\":\"Plot\"}},\"id\":\"3d00049f-09b7-475e-8da7-1fef750f33fa\",\"type\":\"ResetTool\"},{\"attributes\":{\"overlay\":{\"id\":\"7c16b6a2-74f1-442a-9f5b-8dd429f4feaa\",\"type\":\"BoxAnnotation\"},\"plot\":{\"id\":\"de09bcf5-02cf-4a43-92ba-d75145785648\",\"subtype\":\"Figure\",\"type\":\"Plot\"}},\"id\":\"786434f0-5c1d-4456-8059-d8900629fea8\",\"type\":\"BoxZoomTool\"},{\"attributes\":{\"line_alpha\":{\"value\":0.1},\"line_color\":{\"value\":\"#1f77b4\"},\"line_dash\":[4,4],\"line_width\":{\"value\":2},\"x\":{\"field\":\"x\"},\"y\":{\"field\":\"y\"}},\"id\":\"9228f3fc-e058-44e2-a3db-c2528c01291b\",\"type\":\"Line\"},{\"attributes\":{\"line_dash\":[4,4],\"line_width\":{\"value\":2},\"x\":{\"field\":\"x\"},\"y\":{\"field\":\"y\"}},\"id\":\"818aaa2f-41aa-4512-a7d8-f0ead9afd602\",\"type\":\"Line\"},{\"attributes\":{\"overlay\":{\"id\":\"bdc039e5-aa2e-49f3-86ae-54c00ba2cf5d\",\"type\":\"PolyAnnotation\"},\"plot\":{\"id\":\"de09bcf5-02cf-4a43-92ba-d75145785648\",\"subtype\":\"Figure\",\"type\":\"Plot\"}},\"id\":\"da80904f-9c71-4482-b5bf-4d480e352385\",\"type\":\"PolySelectTool\"},{\"attributes\":{\"background_fill_alpha\":{\"value\":0.5},\"background_fill_color\":{\"value\":\"beige\"},\"below\":[{\"id\":\"a6c695fa-6c81-49b4-aaf6-ee285a6a54b0\",\"type\":\"LinearAxis\"}],\"left\":[{\"id\":\"b6377ba5-8f9a-4306-8f02-8c3f784840f6\",\"type\":\"LinearAxis\"}],\"plot_height\":500,\"plot_width\":500,\"renderers\":[{\"id\":\"a6c695fa-6c81-49b4-aaf6-ee285a6a54b0\",\"type\":\"LinearAxis\"},{\"id\":\"8ec7f041-5547-4db8-96ff-a4a0ed7ed556\",\"type\":\"Grid\"},{\"id\":\"b6377ba5-8f9a-4306-8f02-8c3f784840f6\",\"type\":\"LinearAxis\"},{\"id\":\"911daf04-02fa-400d-b279-aac3516e386b\",\"type\":\"Grid\"},{\"id\":\"7c16b6a2-74f1-442a-9f5b-8dd429f4feaa\",\"type\":\"BoxAnnotation\"},{\"id\":\"75399a17-70a5-4dc9-a838-c2f91e1f8c2b\",\"type\":\"BoxAnnotation\"},{\"id\":\"26acd64d-a68c-45cf-be2a-c23670f39049\",\"type\":\"PolyAnnotation\"},{\"id\":\"bdc039e5-aa2e-49f3-86ae-54c00ba2cf5d\",\"type\":\"PolyAnnotation\"},{\"id\":\"81e3a868-bf3f-4fab-9f94-34cacb9cb04e\",\"type\":\"GlyphRenderer\"},{\"id\":\"6bab2c08-2f42-4357-8fcc-612d622fbfaf\",\"type\":\"GlyphRenderer\"}],\"title\":{\"id\":\"63eee0d2-87b2-4897-bb9e-2aca063755c4\",\"type\":\"Title\"},\"tool_events\":{\"id\":\"a8c2451f-71e5-45a6-ac7c-242c1f9ebf60\",\"type\":\"ToolEvents\"},\"toolbar\":{\"id\":\"fe0c18d1-652f-4ae9-a798-5c43c55f9a83\",\"type\":\"Toolbar\"},\"x_range\":{\"id\":\"6f65c612-5e32-4fc0-a8df-c1dc91475e4e\",\"type\":\"DataRange1d\"},\"y_range\":{\"id\":\"6848127a-f749-476a-b474-ff3ed62f02b1\",\"type\":\"DataRange1d\"}},\"id\":\"de09bcf5-02cf-4a43-92ba-d75145785648\",\"subtype\":\"Figure\",\"type\":\"Plot\"},{\"attributes\":{\"axis_label\":\"Predicted\",\"axis_label_text_color\":{\"value\":\"#aa6666\"},\"formatter\":{\"id\":\"bdf69e6c-c76e-48d2-9b70-c6df0fd90739\",\"type\":\"BasicTickFormatter\"},\"plot\":{\"id\":\"de09bcf5-02cf-4a43-92ba-d75145785648\",\"subtype\":\"Figure\",\"type\":\"Plot\"},\"ticker\":{\"id\":\"097956c5-6e73-45e1-ba9c-c66514cce55a\",\"type\":\"BasicTicker\"}},\"id\":\"b6377ba5-8f9a-4306-8f02-8c3f784840f6\",\"type\":\"LinearAxis\"},{\"attributes\":{\"data_source\":{\"id\":\"3ed207dc-216b-4e92-9f58-5443b2915709\",\"type\":\"ColumnDataSource\"},\"glyph\":{\"id\":\"12e3f2d0-d599-46cd-88b0-011c908adf3d\",\"type\":\"Circle\"},\"hover_glyph\":null,\"nonselection_glyph\":{\"id\":\"0f428215-42ec-4076-8107-d43d3f3e0e49\",\"type\":\"Circle\"},\"selection_glyph\":null},\"id\":\"81e3a868-bf3f-4fab-9f94-34cacb9cb04e\",\"type\":\"GlyphRenderer\"},{\"attributes\":{},\"id\":\"a8c2451f-71e5-45a6-ac7c-242c1f9ebf60\",\"type\":\"ToolEvents\"},{\"attributes\":{\"plot\":{\"id\":\"de09bcf5-02cf-4a43-92ba-d75145785648\",\"subtype\":\"Figure\",\"type\":\"Plot\"},\"ticker\":{\"id\":\"f63a8a9f-c11f-4954-88c6-26f82ded5fdd\",\"type\":\"BasicTicker\"}},\"id\":\"8ec7f041-5547-4db8-96ff-a4a0ed7ed556\",\"type\":\"Grid\"}],\"root_ids\":[\"de09bcf5-02cf-4a43-92ba-d75145785648\"]},\"title\":\"Bokeh Application\",\"version\":\"0.12.2\"}};\n",
       "            var render_items = [{\"docid\":\"944b1132-e672-4d0e-8eed-afbd71cc2ab0\",\"elementid\":\"b59e1d93-052d-473a-8772-2176f0e9f7c5\",\"modelid\":\"de09bcf5-02cf-4a43-92ba-d75145785648\"}];\n",
       "            \n",
       "            Bokeh.embed.embed_items(docs_json, render_items);\n",
       "        });\n",
       "      },\n",
       "      function(Bokeh) {\n",
       "      }\n",
       "    ];\n",
       "  \n",
       "    function run_inline_js() {\n",
       "      \n",
       "      if ((window.Bokeh !== undefined) || (force === \"1\")) {\n",
       "        for (var i = 0; i < inline_js.length; i++) {\n",
       "          inline_js[i](window.Bokeh);\n",
       "        }if (force === \"1\") {\n",
       "          display_loaded();\n",
       "        }} else if (Date.now() < window._bokeh_timeout) {\n",
       "        setTimeout(run_inline_js, 100);\n",
       "      } else if (!window._bokeh_failed_load) {\n",
       "        console.log(\"Bokeh: BokehJS failed to load within specified timeout.\");\n",
       "        window._bokeh_failed_load = true;\n",
       "      } else if (!force) {\n",
       "        var cell = $(\"#b59e1d93-052d-473a-8772-2176f0e9f7c5\").parents('.cell').data().cell;\n",
       "        cell.output_area.append_execute_result(NB_LOAD_WARNING)\n",
       "      }\n",
       "  \n",
       "    }\n",
       "  \n",
       "    if (window._bokeh_is_loading === 0) {\n",
       "      console.log(\"Bokeh: BokehJS loaded, going straight to plotting\");\n",
       "      run_inline_js();\n",
       "    } else {\n",
       "      load_libs(js_urls, function() {\n",
       "        console.log(\"Bokeh: BokehJS plotting callback run at\", now());\n",
       "        run_inline_js();\n",
       "      });\n",
       "    }\n",
       "  }(this));\n",
       "</script>"
      ]
     },
     "metadata": {},
     "output_type": "display_data"
    }
   ],
   "source": [
    "# Plotining using bokeh\n",
    "#TOOLS = [BoxSelectTool(), HoverTool()]\n",
    "#TOOLS = 'hover,box_zoom,box_select,crosshair,resize,reset,model_select,pan,save,poly_select,tap,wheel_zoom,undo'\n",
    "TOOLS = 'box_zoom,box_select,crosshair,resize,reset,lasso_select,pan,save,poly_select,tap,wheel_zoom,undo'\n",
    "p = figure(plot_width=500, plot_height=500, tools=TOOLS)\n",
    "p.scatter(Y, prediction,x=\"jjj\", marker=\"o\", color=\"#80B1D3\", line_width=3)\n",
    "p.title.align = \"center\"\n",
    "p.xaxis.axis_label = \"Measured\"\n",
    "p.xaxis.axis_label_text_color = \"#aa6666\"\n",
    "#p.xaxis.axis_label_standoff = 30\n",
    "p.xaxis.major_tick_line_color = \"firebrick\"\n",
    "p.xaxis.major_tick_line_width = 3\n",
    "p.xaxis.minor_tick_line_color = \"orange\"\n",
    "p.yaxis.axis_label = \"Predicted\"\n",
    "p.yaxis.axis_label_text_font_style = \"italic\"\n",
    "p.yaxis.axis_label_text_color = \"#aa6666\"\n",
    "p.background_fill_color = \"beige\"\n",
    "p.background_fill_alpha = 0.5\n",
    "#p.line([Y.min(), Y.max()], [Y.min(), Y.max()], line_dash=\"4 4\", line_width=2, color='red')\n",
    "\n",
    "# create a new plot with the toolbar below\n",
    "# line_dash=\"4 4\", line_width=2, color='red'\n",
    "p.line([Y.min(), Y.max()], [Y.min(), Y.max()], line_dash=\"4 4\", line_width=2, line_color=\"black\")\n",
    "show(p)"
   ]
  },
  {
   "cell_type": "code",
   "execution_count": 25,
   "metadata": {
    "collapsed": false
   },
   "outputs": [
    {
     "data": {
      "text/plain": [
       "<matplotlib.text.Text at 0x7f03f8f2e510>"
      ]
     },
     "execution_count": 25,
     "metadata": {},
     "output_type": "execute_result"
    },
    {
     "data": {
      "image/png": "[encoded data removed]",
      "text/plain": [
       "<matplotlib.figure.Figure at 0x7f03f9233290>"
      ]
     },
     "metadata": {},
     "output_type": "display_data"
    }
   ],
   "source": [
    "plt.scatter(predicted, (predicted.T - Y), c='r', s=30)\n",
    "plt.title(\"Residual plot on the training data\")\n",
    "plt.xlabel(\"Predicted\")\n",
    "plt.ylabel(\"Residuals\")"
   ]
  },
  {
   "cell_type": "code",
   "execution_count": 26,
   "metadata": {
    "collapsed": false
   },
   "outputs": [
    {
     "data": {
      "text/html": [
       "\n",
       "\n",
       "    <div class=\"bk-root\">\n",
       "        <div class=\"plotdiv\" id=\"8a420ce7-9c6b-47e8-b30c-e12aee93d991\"></div>\n",
       "    </div>\n",
       "<script type=\"text/javascript\">\n",
       "  \n",
       "  (function(global) {\n",
       "    function now() {\n",
       "      return new Date();\n",
       "    }\n",
       "  \n",
       "    var force = \"\";\n",
       "  \n",
       "    if (typeof (window._bokeh_onload_callbacks) === \"undefined\" || force !== \"\") {\n",
       "      window._bokeh_onload_callbacks = [];\n",
       "      window._bokeh_is_loading = undefined;\n",
       "    }\n",
       "  \n",
       "  \n",
       "    \n",
       "    if (typeof (window._bokeh_timeout) === \"undefined\" || force !== \"\") {\n",
       "      window._bokeh_timeout = Date.now() + 0;\n",
       "      window._bokeh_failed_load = false;\n",
       "    }\n",
       "  \n",
       "    var NB_LOAD_WARNING = {'data': {'text/html':\n",
       "       \"<div style='background-color: #fdd'>\\n\"+\n",
       "       \"<p>\\n\"+\n",
       "       \"BokehJS does not appear to have successfully loaded. If loading BokehJS from CDN, this \\n\"+\n",
       "       \"may be due to a slow or bad network connection. Possible fixes:\\n\"+\n",
       "       \"</p>\\n\"+\n",
       "       \"<ul>\\n\"+\n",
       "       \"<li>re-rerun `output_notebook()` to attempt to load from CDN again, or</li>\\n\"+\n",
       "       \"<li>use INLINE resources instead, as so:</li>\\n\"+\n",
       "       \"</ul>\\n\"+\n",
       "       \"<code>\\n\"+\n",
       "       \"from bokeh.resources import INLINE\\n\"+\n",
       "       \"output_notebook(resources=INLINE)\\n\"+\n",
       "       \"</code>\\n\"+\n",
       "       \"</div>\"}};\n",
       "  \n",
       "    function display_loaded() {\n",
       "      if (window.Bokeh !== undefined) {\n",
       "        Bokeh.$(\"#8a420ce7-9c6b-47e8-b30c-e12aee93d991\").text(\"BokehJS successfully loaded.\");\n",
       "      } else if (Date.now() < window._bokeh_timeout) {\n",
       "        setTimeout(display_loaded, 100)\n",
       "      }\n",
       "    }\n",
       "  \n",
       "    function run_callbacks() {\n",
       "      window._bokeh_onload_callbacks.forEach(function(callback) { callback() });\n",
       "      delete window._bokeh_onload_callbacks\n",
       "      console.info(\"Bokeh: all callbacks have finished\");\n",
       "    }\n",
       "  \n",
       "    function load_libs(js_urls, callback) {\n",
       "      window._bokeh_onload_callbacks.push(callback);\n",
       "      if (window._bokeh_is_loading > 0) {\n",
       "        console.log(\"Bokeh: BokehJS is being loaded, scheduling callback at\", now());\n",
       "        return null;\n",
       "      }\n",
       "      if (js_urls == null || js_urls.length === 0) {\n",
       "        run_callbacks();\n",
       "        return null;\n",
       "      }\n",
       "      console.log(\"Bokeh: BokehJS not loaded, scheduling load and callback at\", now());\n",
       "      window._bokeh_is_loading = js_urls.length;\n",
       "      for (var i = 0; i < js_urls.length; i++) {\n",
       "        var url = js_urls[i];\n",
       "        var s = document.createElement('script');\n",
       "        s.src = url;\n",
       "        s.async = false;\n",
       "        s.onreadystatechange = s.onload = function() {\n",
       "          window._bokeh_is_loading--;\n",
       "          if (window._bokeh_is_loading === 0) {\n",
       "            console.log(\"Bokeh: all BokehJS libraries loaded\");\n",
       "            run_callbacks()\n",
       "          }\n",
       "        };\n",
       "        s.onerror = function() {\n",
       "          console.warn(\"failed to load library \" + url);\n",
       "        };\n",
       "        console.log(\"Bokeh: injecting script tag for BokehJS library: \", url);\n",
       "        document.getElementsByTagName(\"head\")[0].appendChild(s);\n",
       "      }\n",
       "    };var element = document.getElementById(\"8a420ce7-9c6b-47e8-b30c-e12aee93d991\");\n",
       "    if (element == null) {\n",
       "      console.log(\"Bokeh: ERROR: autoload.js configured with elementid '8a420ce7-9c6b-47e8-b30c-e12aee93d991' but no matching script tag was found. \")\n",
       "      return false;\n",
       "    }\n",
       "  \n",
       "    var js_urls = [];\n",
       "  \n",
       "    var inline_js = [\n",
       "      function(Bokeh) {\n",
       "        Bokeh.$(function() {\n",
       "            var docs_json = {\"d4eddb20-2cf9-47dc-ac54-e6d65edd73b7\":{\"roots\":{\"references\":[{\"attributes\":{\"plot\":{\"id\":\"5177d826-ef3b-45d4-8a72-20b8eb39e4f2\",\"subtype\":\"Figure\",\"type\":\"Plot\"}},\"id\":\"b774ee7c-0c91-4183-be33-a8a7ef3e3226\",\"type\":\"PanTool\"},{\"attributes\":{\"fill_alpha\":{\"value\":0.1},\"fill_color\":{\"value\":\"#1f77b4\"},\"line_alpha\":{\"value\":0.1},\"line_color\":{\"value\":\"#1f77b4\"},\"line_width\":{\"value\":3},\"x\":{\"field\":\"x\"},\"y\":{\"field\":\"y\"}},\"id\":\"fa752e95-0d44-49c5-8c4e-1481f91ddc89\",\"type\":\"Circle\"},{\"attributes\":{\"plot\":{\"id\":\"5177d826-ef3b-45d4-8a72-20b8eb39e4f2\",\"subtype\":\"Figure\",\"type\":\"Plot\"}},\"id\":\"a5771fa4-dc8f-4e85-b2cf-693fd1315ce0\",\"type\":\"ResetTool\"},{\"attributes\":{\"fill_alpha\":{\"value\":0.5},\"fill_color\":{\"value\":\"lightgrey\"},\"level\":\"overlay\",\"line_alpha\":{\"value\":1.0},\"line_color\":{\"value\":\"black\"},\"line_dash\":[4,4],\"line_width\":{\"value\":2},\"plot\":null,\"xs_units\":\"screen\",\"ys_units\":\"screen\"},\"id\":\"3fb35aaa-fa3b-4db4-89e0-16b951f06346\",\"type\":\"PolyAnnotation\"},{\"attributes\":{\"fill_color\":{\"value\":\"#80B1D3\"},\"line_color\":{\"value\":\"#80B1D3\"},\"line_width\":{\"value\":3},\"x\":{\"field\":\"x\"},\"y\":{\"field\":\"y\"}},\"id\":\"f0ac2122-eb7d-42f7-b4d5-a0a05dc65522\",\"type\":\"Circle\"},{\"attributes\":{\"plot\":{\"id\":\"5177d826-ef3b-45d4-8a72-20b8eb39e4f2\",\"subtype\":\"Figure\",\"type\":\"Plot\"},\"ticker\":{\"id\":\"250aaf02-1b43-4326-abb5-7a825d865dfe\",\"type\":\"BasicTicker\"}},\"id\":\"910cd1eb-3895-4a8e-899e-ab7d7144b873\",\"type\":\"Grid\"},{\"attributes\":{\"background_fill_alpha\":{\"value\":0.5},\"background_fill_color\":{\"value\":\"beige\"},\"below\":[{\"id\":\"d8ed0e6e-efd1-427f-a99b-be1be4f3aa43\",\"type\":\"LinearAxis\"}],\"left\":[{\"id\":\"9aa83224-b451-44f7-9219-6697ed051e65\",\"type\":\"LinearAxis\"}],\"plot_height\":500,\"plot_width\":500,\"renderers\":[{\"id\":\"d8ed0e6e-efd1-427f-a99b-be1be4f3aa43\",\"type\":\"LinearAxis\"},{\"id\":\"910cd1eb-3895-4a8e-899e-ab7d7144b873\",\"type\":\"Grid\"},{\"id\":\"9aa83224-b451-44f7-9219-6697ed051e65\",\"type\":\"LinearAxis\"},{\"id\":\"850e47a4-66f9-4e10-8361-8befbc485ad3\",\"type\":\"Grid\"},{\"id\":\"a12a490d-45a3-4a37-8cee-430344f52ad1\",\"type\":\"BoxAnnotation\"},{\"id\":\"e3924db1-05b7-4022-9777-0fdcd2b91491\",\"type\":\"BoxAnnotation\"},{\"id\":\"e10e41b3-0039-40ae-b83a-b3a99e20e2c9\",\"type\":\"PolyAnnotation\"},{\"id\":\"3fb35aaa-fa3b-4db4-89e0-16b951f06346\",\"type\":\"PolyAnnotation\"},{\"id\":\"237c18cc-e043-49d6-b6c2-b5ae8aab3e67\",\"type\":\"GlyphRenderer\"}],\"title\":{\"id\":\"fcd72540-50e0-4b66-9206-58f9af4a1cc4\",\"type\":\"Title\"},\"tool_events\":{\"id\":\"f051ee35-9541-4168-bbfb-066194c16456\",\"type\":\"ToolEvents\"},\"toolbar\":{\"id\":\"82124f15-71e6-4ea4-b9c1-4349fe1c51ea\",\"type\":\"Toolbar\"},\"x_range\":{\"id\":\"e248e0a4-418a-47c3-94d2-5e31a8fba927\",\"type\":\"DataRange1d\"},\"y_range\":{\"id\":\"18b1299e-ffbb-4f94-9405-6b1c74a1be2f\",\"type\":\"DataRange1d\"}},\"id\":\"5177d826-ef3b-45d4-8a72-20b8eb39e4f2\",\"subtype\":\"Figure\",\"type\":\"Plot\"},{\"attributes\":{\"overlay\":{\"id\":\"3fb35aaa-fa3b-4db4-89e0-16b951f06346\",\"type\":\"PolyAnnotation\"},\"plot\":{\"id\":\"5177d826-ef3b-45d4-8a72-20b8eb39e4f2\",\"subtype\":\"Figure\",\"type\":\"Plot\"}},\"id\":\"5e44a7bf-e341-4900-8c3e-bb6ab0764170\",\"type\":\"PolySelectTool\"},{\"attributes\":{\"plot\":{\"id\":\"5177d826-ef3b-45d4-8a72-20b8eb39e4f2\",\"subtype\":\"Figure\",\"type\":\"Plot\"}},\"id\":\"23f556bd-08d8-4887-a8e0-d0d473b8da6c\",\"type\":\"SaveTool\"},{\"attributes\":{\"bottom_units\":\"screen\",\"fill_alpha\":{\"value\":0.5},\"fill_color\":{\"value\":\"lightgrey\"},\"left_units\":\"screen\",\"level\":\"overlay\",\"line_alpha\":{\"value\":1.0},\"line_color\":{\"value\":\"black\"},\"line_dash\":[4,4],\"line_width\":{\"value\":2},\"plot\":null,\"render_mode\":\"css\",\"right_units\":\"screen\",\"top_units\":\"screen\"},\"id\":\"a12a490d-45a3-4a37-8cee-430344f52ad1\",\"type\":\"BoxAnnotation\"},{\"attributes\":{\"align\":\"center\",\"plot\":null,\"text\":\"Residual plot on the training data\"},\"id\":\"fcd72540-50e0-4b66-9206-58f9af4a1cc4\",\"type\":\"Title\"},{\"attributes\":{\"axis_label\":\"Predicted\",\"axis_label_text_color\":{\"value\":\"#aa6666\"},\"formatter\":{\"id\":\"b7983f54-52fa-44c9-bc52-6cdbe69a3314\",\"type\":\"BasicTickFormatter\"},\"major_tick_line_color\":{\"value\":\"firebrick\"},\"major_tick_line_width\":{\"value\":3},\"minor_tick_line_color\":{\"value\":\"orange\"},\"plot\":{\"id\":\"5177d826-ef3b-45d4-8a72-20b8eb39e4f2\",\"subtype\":\"Figure\",\"type\":\"Plot\"},\"ticker\":{\"id\":\"250aaf02-1b43-4326-abb5-7a825d865dfe\",\"type\":\"BasicTicker\"}},\"id\":\"d8ed0e6e-efd1-427f-a99b-be1be4f3aa43\",\"type\":\"LinearAxis\"},{\"attributes\":{\"callback\":null},\"id\":\"18b1299e-ffbb-4f94-9405-6b1c74a1be2f\",\"type\":\"DataRange1d\"},{\"attributes\":{\"callback\":null,\"overlay\":{\"id\":\"e3924db1-05b7-4022-9777-0fdcd2b91491\",\"type\":\"BoxAnnotation\"},\"plot\":{\"id\":\"5177d826-ef3b-45d4-8a72-20b8eb39e4f2\",\"subtype\":\"Figure\",\"type\":\"Plot\"},\"renderers\":[{\"id\":\"237c18cc-e043-49d6-b6c2-b5ae8aab3e67\",\"type\":\"GlyphRenderer\"}]},\"id\":\"5b2448af-2f94-4dd8-b302-8ab152be4da9\",\"type\":\"BoxSelectTool\"},{\"attributes\":{\"plot\":{\"id\":\"5177d826-ef3b-45d4-8a72-20b8eb39e4f2\",\"subtype\":\"Figure\",\"type\":\"Plot\"}},\"id\":\"09f53cfa-823a-4453-a3d0-fdd37a373ee5\",\"type\":\"UndoTool\"},{\"attributes\":{},\"id\":\"f051ee35-9541-4168-bbfb-066194c16456\",\"type\":\"ToolEvents\"},{\"attributes\":{\"plot\":{\"id\":\"5177d826-ef3b-45d4-8a72-20b8eb39e4f2\",\"subtype\":\"Figure\",\"type\":\"Plot\"}},\"id\":\"0bbeab75-2db4-42df-8afc-999beb01406c\",\"type\":\"WheelZoomTool\"},{\"attributes\":{},\"id\":\"86139aa0-c74b-4f65-9fb6-c6ff5d02d878\",\"type\":\"BasicTickFormatter\"},{\"attributes\":{\"overlay\":{\"id\":\"a12a490d-45a3-4a37-8cee-430344f52ad1\",\"type\":\"BoxAnnotation\"},\"plot\":{\"id\":\"5177d826-ef3b-45d4-8a72-20b8eb39e4f2\",\"subtype\":\"Figure\",\"type\":\"Plot\"}},\"id\":\"4dc48b98-e51d-48e0-aea0-8c39b8e1c0e1\",\"type\":\"BoxZoomTool\"},{\"attributes\":{\"callback\":null,\"plot\":{\"id\":\"5177d826-ef3b-45d4-8a72-20b8eb39e4f2\",\"subtype\":\"Figure\",\"type\":\"Plot\"}},\"id\":\"d94a0c8a-ebfa-4042-b6f9-d4c97814f155\",\"type\":\"TapTool\"},{\"attributes\":{\"fill_alpha\":{\"value\":0.5},\"fill_color\":{\"value\":\"lightgrey\"},\"level\":\"overlay\",\"line_alpha\":{\"value\":1.0},\"line_color\":{\"value\":\"black\"},\"line_dash\":[4,4],\"line_width\":{\"value\":2},\"plot\":null,\"xs_units\":\"screen\",\"ys_units\":\"screen\"},\"id\":\"e10e41b3-0039-40ae-b83a-b3a99e20e2c9\",\"type\":\"PolyAnnotation\"},{\"attributes\":{\"callback\":null,\"overlay\":{\"id\":\"e10e41b3-0039-40ae-b83a-b3a99e20e2c9\",\"type\":\"PolyAnnotation\"},\"plot\":{\"id\":\"5177d826-ef3b-45d4-8a72-20b8eb39e4f2\",\"subtype\":\"Figure\",\"type\":\"Plot\"}},\"id\":\"3fddd8e7-3938-41e1-abbb-6ee6fadf0eda\",\"type\":\"LassoSelectTool\"},{\"attributes\":{\"plot\":{\"id\":\"5177d826-ef3b-45d4-8a72-20b8eb39e4f2\",\"subtype\":\"Figure\",\"type\":\"Plot\"}},\"id\":\"67bff236-85a4-4eb1-977a-9d8f23a78e47\",\"type\":\"ResizeTool\"},{\"attributes\":{\"axis_label\":\"Residuals\",\"axis_label_text_color\":{\"value\":\"#aa6666\"},\"formatter\":{\"id\":\"86139aa0-c74b-4f65-9fb6-c6ff5d02d878\",\"type\":\"BasicTickFormatter\"},\"plot\":{\"id\":\"5177d826-ef3b-45d4-8a72-20b8eb39e4f2\",\"subtype\":\"Figure\",\"type\":\"Plot\"},\"ticker\":{\"id\":\"467d18c0-ffc6-48e6-b18b-28b12712153c\",\"type\":\"BasicTicker\"}},\"id\":\"9aa83224-b451-44f7-9219-6697ed051e65\",\"type\":\"LinearAxis\"},{\"attributes\":{\"callback\":null},\"id\":\"e248e0a4-418a-47c3-94d2-5e31a8fba927\",\"type\":\"DataRange1d\"},{\"attributes\":{\"dimension\":1,\"plot\":{\"id\":\"5177d826-ef3b-45d4-8a72-20b8eb39e4f2\",\"subtype\":\"Figure\",\"type\":\"Plot\"},\"ticker\":{\"id\":\"467d18c0-ffc6-48e6-b18b-28b12712153c\",\"type\":\"BasicTicker\"}},\"id\":\"850e47a4-66f9-4e10-8361-8befbc485ad3\",\"type\":\"Grid\"},{\"attributes\":{},\"id\":\"b7983f54-52fa-44c9-bc52-6cdbe69a3314\",\"type\":\"BasicTickFormatter\"},{\"attributes\":{\"bottom_units\":\"screen\",\"fill_alpha\":{\"value\":0.5},\"fill_color\":{\"value\":\"lightgrey\"},\"left_units\":\"screen\",\"level\":\"overlay\",\"line_alpha\":{\"value\":1.0},\"line_color\":{\"value\":\"black\"},\"line_dash\":[4,4],\"line_width\":{\"value\":2},\"plot\":null,\"render_mode\":\"css\",\"right_units\":\"screen\",\"top_units\":\"screen\"},\"id\":\"e3924db1-05b7-4022-9777-0fdcd2b91491\",\"type\":\"BoxAnnotation\"},{\"attributes\":{\"callback\":null,\"column_names\":[\"x\",\"y\"],\"data\":{\"x\":[13.455257415771484,27.03133201599121,32.39166259765625,30.047216415405273,32.105690002441406,35.4451789855957,30.359233856201172,19.730201721191406,28.310945510864258,34.394371032714844,26.838029861450195,13.530383110046387,23.739139556884766,31.892221450805664,28.953672409057617,19.248125076293945,17.629457473754883,27.454824447631836,22.033601760864258,13.138400077819824,23.007389068603516,35.990718841552734,23.98118019104004,24.829275131225586,39.448028564453125,26.38251495361328,23.811166763305664,14.423081398010254,14.446430206298828,20.178598403930664,22.35602569580078,29.459875106811523,16.503623962402344,36.462501525878906,24.841400146484375,23.82962989807129,33.76116943359375,13.113434791564941,16.1767578125,35.902496337890625,14.734912872314453,30.833919525146484,13.261726379394531,22.723909378051758,17.34821128845215,17.91171646118164,33.6505126953125,32.9945068359375,27.922414779663086,23.714603424072266,15.03431510925293,30.717060089111328,19.37174415588379,20.933025360107422,37.86408996582031,41.987548828125,36.89813995361328,21.366275787353516,31.355085372924805,18.711551666259766,24.440963745117188,25.030925750732422,24.200408935546875,12.528383255004883,37.201995849609375,27.746891021728516,13.690155982971191,13.690841674804688,26.73910903930664,18.72673988342285,27.77759552001953,24.440645217895508,14.625239372253418,14.087458610534668,24.588998794555664,21.883689880371094,27.71062660217285,19.210769653320312,21.49759864807129,16.40233612060547,18.456398010253906,39.168907165527344,15.908028602600098,15.79077434539795,29.835773468017578,17.50111198425293,13.105964660644531,24.910877227783203,27.595571517944336,20.030250549316406,33.45916748046875,26.883769989013672,15.274162292480469,34.40928649902344,26.095340728759766,21.73443031311035,31.0748233795166,14.570221900939941,35.62110900878906,14.188095092773438,12.909736633300781,34.773738861083984,21.648332595825195,26.709609985351562,25.01738166809082,32.31330871582031,17.969091415405273,21.090961456298828,25.817564010620117,37.33615493774414,32.53189468383789,11.91264533996582,15.573662757873535,15.17891788482666,13.38913345336914,23.333955764770508,27.954931259155273,28.66916275024414,13.22322940826416,23.782344818115234,29.803993225097656,28.658344268798828,25.274946212768555,26.247600555419922,28.047460556030273,16.488365173339844,31.329299926757812,19.072038650512695,12.858176231384277,21.09248161315918,34.67937469482422,12.334845542907715,31.9997615814209,30.88161849975586,13.089353561401367,25.45888328552246,17.332365036010742,24.470277786254883,26.96535301208496,23.203027725219727,13.241658210754395,24.79541015625,20.862939834594727,24.393301010131836,34.2570915222168,20.7264404296875,23.906896591186523,15.316560745239258,25.567825317382812,15.266522407531738,37.501773834228516,28.987430572509766,17.58671760559082,16.476829528808594,12.652748107910156,15.834038734436035,25.671510696411133,16.941123962402344,32.71281814575195,25.1206111907959,25.03801155090332,14.728200912475586,15.001367568969727,27.142242431640625,24.276195526123047,23.16461944580078,14.108757019042969,18.609962463378906,20.916501998901367,28.7581729888916,13.320569038391113,23.276784896850586,38.04452896118164,29.212350845336914,32.02467346191406,20.104150772094727,13.213581085205078,30.19257164001465,27.726774215698242,35.04731750488281,25.565330505371094,27.177553176879883,19.39141082763672,32.63859939575195,15.128143310546875,21.681379318237305,19.783899307250977,21.437820434570312,24.838876724243164,23.470308303833008,39.197303771972656,36.095863342285156,25.393041610717773,32.21920394897461,23.489580154418945,20.635862350463867,16.331592559814453,21.65995979309082,15.06557846069336,30.270626068115234,16.38673210144043,34.7299919128418,25.77475929260254,13.712968826293945,26.55234718322754,25.382787704467773,21.8184871673584,21.180089950561523,25.667787551879883,35.32421112060547,20.893774032592773,17.821414947509766,13.524609565734863,30.896312713623047,23.866104125976562,15.337364196777344,21.66019630432129,12.733804702758789,15.840957641601562,17.497995376586914,36.240699768066406,16.843862533569336,37.998069763183594,19.917879104614258,20.480302810668945,12.72691822052002,31.839929580688477,12.42672348022461,36.732933044433594,20.442779541015625,12.655495643615723,26.25917625427246,17.30608367919922,19.1951961517334,32.000030517578125,18.660568237304688,25.348180770874023,25.105037689208984,22.347883224487305,33.55763626098633,33.35160827636719,30.77541160583496,18.028032302856445,31.363407135009766,25.903942108154297,15.698654174804688,39.70479202270508,22.989912033081055,13.801949501037598,22.360069274902344,25.785364151000977,22.16207504272461,20.05316925048828,24.2419376373291,32.131378173828125,20.518341064453125,33.1607780456543,12.548571586608887,12.54829216003418,20.469728469848633,27.889562606811523,34.293819427490234,13.582018852233887,28.95133399963379,39.0573844909668,17.60527801513672,17.46088218688965,9.860451698303223,27.613842010498047,14.475967407226562,27.779897689819336,36.324493408203125,19.23455047607422,24.67514419555664,26.867246627807617,19.63747787475586,27.76329231262207,30.268083572387695,18.655168533325195,28.034364700317383,26.85572624206543,19.03672218322754,30.791351318359375,22.462251663208008,18.614973068237305,29.68777084350586,28.84902000427246,30.368423461914062,24.38241958618164,14.003771781921387,16.795812606811523,14.26266098022461,26.905052185058594,11.351675033569336,18.394948959350586,33.15924072265625,35.94033432006836,21.378929138183594,37.94730758666992,13.235139846801758,20.755691528320312,25.587583541870117,14.00794792175293,12.723691940307617,14.132003784179688,17.096370697021484,25.026695251464844,19.280906677246094,14.854572296142578,15.313098907470703,26.938182830810547,32.50236892700195,17.91594886779785,25.369539260864258,19.407150268554688,30.101285934448242,16.681522369384766,26.609487533569336],\"y\":[-1.5447425842285156,0.03133201599121094,-1.9083374023437472,4.047216415405273,0.5056900024414048,1.645178985595706,1.3592338562011719,1.6302017211914048,1.1109455108642585,-3.6056289672851562,0.8380298614501953,-0.4696168899536133,1.7391395568847656,0.8922214508056641,-7.446327590942381,1.648125076293944,-0.07054252624511648,-0.5451755523681641,1.233601760864257,-0.8615999221801758,2.8073890686035163,3.190718841552737,1.6811801910400384,-3.170724868774414,2.448028564453125,-0.6174850463867188,0.6111667633056648,1.423081398010254,-0.5535697937011719,-1.821401596069336,-1.6439743041992188,0.45987510681152344,3.5036239624023438,4.6625015258789055,1.841400146484375,-1.670370101928711,3.8611694335937514,0.1134347915649414,-1.3232421875,-10.697503662109376,-0.7650871276855469,-2.066080474853514,-0.7382736206054688,-2.276090621948242,-2.05178871154785,2.9117164611816406,1.2505126953125014,1.4945068359375,0.9224147796630859,3.914603424072265,-1.9656848907470703,-2.782939910888672,-1.628255844116211,-2.066974639892578,-0.23591003417968892,-2.012451171875,-3.901860046386716,0.3662757873535156,2.3550853729248047,1.2115516662597656,-3.5590362548828125,-0.9690742492675781,-1.799591064453125,1.5283832550048828,-0.49800415039062784,3.5468910217285163,-2.3098440170288086,-2.3091583251953125,-3.2608909606933594,-0.27326011657714844,0.7775955200195312,5.440645217895508,-1.374760627746582,-1.912541389465332,4.288998794555663,0.8836898803710938,-5.789373397827148,-3.7892303466796875,-0.0024013519287109375,0.40233612060546875,-0.5436019897460938,2.1689071655273438,0.9080286026000977,-0.20922565460205078,3.835773468017578,-0.4988880157470703,0.10596466064453125,3.910877227783203,-1.404428482055664,-1.9697494506835938,0.45916748046875,4.883769989013672,-0.7258377075195312,-1.5907135009765625,6.095340728759766,-0.26556968688964844,-0.22517662048339915,0.0702219009399414,5.821109008789062,1.1880950927734375,-0.09026336669921875,-1.2262611389160156,1.1483325958251953,1.7096099853515625,-1.9826183319091797,-0.6866912841796875,1.4690914154052734,0.4909614562988267,-4.182435989379883,-6.063845062255858,-2.168105316162112,0.9126453399658203,-2.426337242126465,2.17891788482666,-2.6108665466308594,4.333955764770508,4.954931259155273,3.1691627502441406,-0.7767705917358398,-0.7176551818847656,-0.19600677490234375,2.8583442687988274,-12.725053787231445,-2.552399444580079,1.447460556030272,-0.5116348266601562,-0.6707000732421875,0.9720386505126939,1.8581762313842773,0.09248161315917969,-1.3206253051757812,-0.6651544570922852,1.9997615814208984,-0.11838150024414062,-0.9106464385986328,7.458883285522461,4.332365036010742,2.8702777862548814,-1.034646987915039,-0.5969722747802741,-0.7583417892456055,-2.20458984375,0.6629398345947273,-1.606698989868164,-5.142908477783202,0.8264404296875014,4.906896591186523,1.3165607452392578,1.967825317382811,2.2665224075317383,-0.4982261657714844,-1.5125694274902344,-0.9132823944091797,-0.5231704711914062,0.6527481079101562,-0.16596126556396484,-2.328489303588867,1.4411239624023438,0.7128181457519531,1.1206111907958984,-0.06198844909668111,-1.271799087524414,2.0013675689697266,3.142242431640625,2.276195526123047,-0.8353805541992188,-0.8912429809570312,-0.39003753662109375,2.916501998901367,1.5581729888916023,-0.6794309616088867,2.276784896850586,-6.2554710388183565,1.212350845336914,0.5246734619140625,0.9041507720947273,-0.7864189147949219,-0.30742835998535156,-2.0732257843017585,-1.052682495117189,-1.234669494628907,1.1775531768798828,-1.1085891723632812,0.5385993957519517,-0.871856689453125,4.681379318237305,-0.21610069274902344,-0.5621795654296875,-0.16112327575683594,-0.42969169616699077,8.197303771972656,-2.9041366577148438,-2.6069583892822266,-2.2807960510253906,1.4895801544189453,0.035862350463865766,2.331592559814453,-3.7400402069091783,1.0655784606933594,0.2706260681152344,-2.6132678985595703,-1.2700080871582031,0.7747592926025391,-0.2870311737060547,5.452347183227538,-2.6172122955322266,2.8184871673583984,2.080089950561522,1.367787551879882,-9.275788879394533,0.8937740325927734,0.8214149475097656,0.5246095657348633,-3.303687286376956,-2.1338958740234375,-2.1626358032226562,-4.339803695678711,-0.26619529724121094,-2.1590423583984375,-1.002004623413086,0.24069976806640625,0.8438625335693359,-0.00193023681640625,-3.082120895385742,-0.019697189331054688,-0.27308177947998047,3.8399295806884766,0.4267234802246094,2.6329330444335923,0.442779541015625,0.6554956436157227,-2.1408237457275376,-0.6939163208007812,-0.8048038482666016,2.500030517578125,-0.3394317626953125,-0.6518192291259766,-0.8949623107910156,-2.6521167755126953,1.5576362609863281,-0.34839172363281534,2.775411605834961,-1.171967697143554,1.8634071350097656,-1.0960578918457031,0.6986541748046875,0.6047920227050767,-3.6100879669189467,0.8019495010375977,-0.6399307250976562,-1.7146358489990234,2.1620750427246094,0.853169250488282,0.24193763732910156,-0.06862182617187784,1.1183410644531264,0.16077804565429688,0.5485715866088867,-0.4517078399658203,2.8697284698486314,3.989562606811525,-0.1061805725097642,-0.4179811477661133,-2.048666000366211,3.9573844909667955,2.6052780151367188,1.9608821868896484,0.8604516983032227,2.613842010498047,-3.5240325927734375,-3.220102310180664,-6.775506591796876,1.7345504760742188,-0.3248558044433594,1.8672466278076172,0.6374778747558594,1.7632923126220703,-0.7319164276123047,0.455168533325196,-2.6656352996826165,2.8557262420654297,2.036722183227539,3.791351318359375,-0.5377483367919922,0.6149730682373047,2.48777084350586,-6.150979995727539,1.3684234619140625,2.8824195861816406,-0.9962282180786133,-0.7041873931884766,-0.7373390197753906,-5.794947814941409,1.351675033569336,-1.605051040649414,0.7592407226562514,1.9403343200683594,3.3789291381835938,5.947307586669922,-0.7648601531982422,-3.2443084716796875,-0.8124164581298814,0.007947921752929688,-0.2763080596923828,1.1320037841796875,-1.4036293029785156,3.5266952514648438,3.0809066772460945,-1.6454277038574219,0.3130989074707031,-1.1618171691894545,3.502368927001953,-2.2840511322021477,-2.5304607391357408,-2.5928497314453125,1.1012859344482422,-2.3184776306152344,1.609487533569336]}},\"id\":\"21fc2e32-6bd9-4d78-a00a-78cb12c0848f\",\"type\":\"ColumnDataSource\"},{\"attributes\":{},\"id\":\"467d18c0-ffc6-48e6-b18b-28b12712153c\",\"type\":\"BasicTicker\"},{\"attributes\":{\"active_drag\":\"auto\",\"active_scroll\":\"auto\",\"active_tap\":\"auto\",\"tools\":[{\"id\":\"4dc48b98-e51d-48e0-aea0-8c39b8e1c0e1\",\"type\":\"BoxZoomTool\"},{\"id\":\"5b2448af-2f94-4dd8-b302-8ab152be4da9\",\"type\":\"BoxSelectTool\"},{\"id\":\"ba4949d2-525e-4bb2-8f43-9e15f52f83a5\",\"type\":\"CrosshairTool\"},{\"id\":\"67bff236-85a4-4eb1-977a-9d8f23a78e47\",\"type\":\"ResizeTool\"},{\"id\":\"a5771fa4-dc8f-4e85-b2cf-693fd1315ce0\",\"type\":\"ResetTool\"},{\"id\":\"3fddd8e7-3938-41e1-abbb-6ee6fadf0eda\",\"type\":\"LassoSelectTool\"},{\"id\":\"b774ee7c-0c91-4183-be33-a8a7ef3e3226\",\"type\":\"PanTool\"},{\"id\":\"23f556bd-08d8-4887-a8e0-d0d473b8da6c\",\"type\":\"SaveTool\"},{\"id\":\"5e44a7bf-e341-4900-8c3e-bb6ab0764170\",\"type\":\"PolySelectTool\"},{\"id\":\"d94a0c8a-ebfa-4042-b6f9-d4c97814f155\",\"type\":\"TapTool\"},{\"id\":\"0bbeab75-2db4-42df-8afc-999beb01406c\",\"type\":\"WheelZoomTool\"},{\"id\":\"09f53cfa-823a-4453-a3d0-fdd37a373ee5\",\"type\":\"UndoTool\"}]},\"id\":\"82124f15-71e6-4ea4-b9c1-4349fe1c51ea\",\"type\":\"Toolbar\"},{\"attributes\":{\"plot\":{\"id\":\"5177d826-ef3b-45d4-8a72-20b8eb39e4f2\",\"subtype\":\"Figure\",\"type\":\"Plot\"}},\"id\":\"ba4949d2-525e-4bb2-8f43-9e15f52f83a5\",\"type\":\"CrosshairTool\"},{\"attributes\":{},\"id\":\"250aaf02-1b43-4326-abb5-7a825d865dfe\",\"type\":\"BasicTicker\"},{\"attributes\":{\"data_source\":{\"id\":\"21fc2e32-6bd9-4d78-a00a-78cb12c0848f\",\"type\":\"ColumnDataSource\"},\"glyph\":{\"id\":\"f0ac2122-eb7d-42f7-b4d5-a0a05dc65522\",\"type\":\"Circle\"},\"hover_glyph\":null,\"nonselection_glyph\":{\"id\":\"fa752e95-0d44-49c5-8c4e-1481f91ddc89\",\"type\":\"Circle\"},\"selection_glyph\":null},\"id\":\"237c18cc-e043-49d6-b6c2-b5ae8aab3e67\",\"type\":\"GlyphRenderer\"}],\"root_ids\":[\"5177d826-ef3b-45d4-8a72-20b8eb39e4f2\"]},\"title\":\"Bokeh Application\",\"version\":\"0.12.2\"}};\n",
       "            var render_items = [{\"docid\":\"d4eddb20-2cf9-47dc-ac54-e6d65edd73b7\",\"elementid\":\"8a420ce7-9c6b-47e8-b30c-e12aee93d991\",\"modelid\":\"5177d826-ef3b-45d4-8a72-20b8eb39e4f2\"}];\n",
       "            \n",
       "            Bokeh.embed.embed_items(docs_json, render_items);\n",
       "        });\n",
       "      },\n",
       "      function(Bokeh) {\n",
       "      }\n",
       "    ];\n",
       "  \n",
       "    function run_inline_js() {\n",
       "      \n",
       "      if ((window.Bokeh !== undefined) || (force === \"1\")) {\n",
       "        for (var i = 0; i < inline_js.length; i++) {\n",
       "          inline_js[i](window.Bokeh);\n",
       "        }if (force === \"1\") {\n",
       "          display_loaded();\n",
       "        }} else if (Date.now() < window._bokeh_timeout) {\n",
       "        setTimeout(run_inline_js, 100);\n",
       "      } else if (!window._bokeh_failed_load) {\n",
       "        console.log(\"Bokeh: BokehJS failed to load within specified timeout.\");\n",
       "        window._bokeh_failed_load = true;\n",
       "      } else if (!force) {\n",
       "        var cell = $(\"#8a420ce7-9c6b-47e8-b30c-e12aee93d991\").parents('.cell').data().cell;\n",
       "        cell.output_area.append_execute_result(NB_LOAD_WARNING)\n",
       "      }\n",
       "  \n",
       "    }\n",
       "  \n",
       "    if (window._bokeh_is_loading === 0) {\n",
       "      console.log(\"Bokeh: BokehJS loaded, going straight to plotting\");\n",
       "      run_inline_js();\n",
       "    } else {\n",
       "      load_libs(js_urls, function() {\n",
       "        console.log(\"Bokeh: BokehJS plotting callback run at\", now());\n",
       "        run_inline_js();\n",
       "      });\n",
       "    }\n",
       "  }(this));\n",
       "</script>"
      ]
     },
     "metadata": {},
     "output_type": "display_data"
    }
   ],
   "source": [
    "# Plotining using bokeh\n",
    "#TOOLS = 'hover,box_zoom,box_select,crosshair,resize,reset,model_select,pan,save,poly_select,tap,wheel_zoom,undo'\n",
    "TOOLS = 'box_zoom,box_select,crosshair,resize,reset,lasso_select,pan,save,poly_select,tap,wheel_zoom,undo'\n",
    "p = figure(plot_width=500, plot_height=500, title=\"Residual plot on the training data\", tools=TOOLS)\n",
    "p.scatter(prediction, (prediction - Y),x=\"jjj\", marker=\"o\", color=\"#80B1D3\", line_width=3)\n",
    "p.title.align = \"center\"\n",
    "p.xaxis.axis_label = \"Predicted\"\n",
    "p.xaxis.axis_label_text_color = \"#aa6666\"\n",
    "#p.xaxis.axis_label_standoff = 30\n",
    "p.xaxis.major_tick_line_color = \"firebrick\"\n",
    "p.xaxis.major_tick_line_width = 3\n",
    "p.xaxis.minor_tick_line_color = \"orange\"\n",
    "p.yaxis.axis_label = \"Residuals\"\n",
    "p.yaxis.axis_label_text_font_style = \"italic\"\n",
    "p.yaxis.axis_label_text_color = \"#aa6666\"\n",
    "p.background_fill_color = \"beige\"\n",
    "p.background_fill_alpha = 0.5\n",
    "#p.line([2,38], [0, 0], line_dash=\"4 4\", line_width=2, color='red')\n",
    "show(p)"
   ]
  },
  {
   "cell_type": "code",
   "execution_count": 27,
   "metadata": {
    "collapsed": false
   },
   "outputs": [
    {
     "name": "stdout",
     "output_type": "stream",
     "text": [
      "Epoch 1/10\n",
      "318/318 [==============================] - 0s - loss: 6.7031     \n",
      "Epoch 2/10\n",
      "318/318 [==============================] - 0s - loss: 6.7108     \n",
      "Epoch 3/10\n",
      "318/318 [==============================] - 0s - loss: 6.6999     \n",
      "Epoch 4/10\n",
      "318/318 [==============================] - 0s - loss: 6.6969     \n",
      "Epoch 5/10\n",
      "318/318 [==============================] - 0s - loss: 6.6925     \n",
      "Epoch 6/10\n",
      "318/318 [==============================] - 0s - loss: 6.6907     \n",
      "Epoch 7/10\n",
      "318/318 [==============================] - 0s - loss: 6.6849     \n",
      "Epoch 8/10\n",
      "318/318 [==============================] - 0s - loss: 6.6854     \n",
      "Epoch 9/10\n",
      "318/318 [==============================] - 0s - loss: 6.6842     \n",
      "Epoch 10/10\n",
      "318/318 [==============================] - 0s - loss: 6.6983     \n",
      "R-squared =  0.889230420131\n"
     ]
    }
   ],
   "source": [
    "# Using make_pipeline\n",
    "from sklearn.pipeline import make_pipeline\n",
    "\n",
    "# ANOVA SVM-C\n",
    "# 1) anova filter, take 3 best ranked features\n",
    "DLRegressor = make_pipeline(scaler, model)\n",
    "DLRegressor.fit(new_data, Y)\n",
    "prediction = DLRegressor.predict(new_data)\n",
    "r_squared = r2_score(Y, prediction, multioutput='variance_weighted')\n",
    "print 'R-squared = ',r_squared"
   ]
  },
  {
   "cell_type": "markdown",
   "metadata": {},
   "source": [
    "### Save the Pipeline model for developement"
   ]
  },
  {
   "cell_type": "markdown",
   "metadata": {},
   "source": [
    "## I can save keras in pipleine"
   ]
  },
  {
   "cell_type": "code",
   "execution_count": 28,
   "metadata": {
    "collapsed": false
   },
   "outputs": [],
   "source": [
    "model.save_weights('Boston_House_Modelbest.hdf5',overwrite=True)"
   ]
  },
  {
   "cell_type": "code",
   "execution_count": 29,
   "metadata": {
    "collapsed": false
   },
   "outputs": [
    {
     "name": "stdout",
     "output_type": "stream",
     "text": [
      " =================================================================>>>>> done\n",
      "R-squared =  0.889230420131\n"
     ]
    }
   ],
   "source": [
    "# Test the model if it is work\n",
    "model.load_weights('Boston_House_Modelbest.hdf5')\n",
    "\n",
    "NewPred = model.predict(X)\n",
    "print \" =================================================================>>>>> done\"\n",
    "r_squared = r2_score(Y, NewPred, multioutput='variance_weighted')\n",
    "print 'R-squared = ',r_squared"
   ]
  },
  {
   "cell_type": "code",
   "execution_count": null,
   "metadata": {
    "collapsed": true
   },
   "outputs": [],
   "source": []
  },
  {
   "cell_type": "code",
   "execution_count": 30,
   "metadata": {
    "collapsed": false
   },
   "outputs": [
    {
     "name": "stdout",
     "output_type": "stream",
     "text": [
      "Point of training data before normalization\n",
      "[  4.00000000e+00   9.70000000e+01   5.10000000e+01   2.13000000e+03\n",
      "   2.46000000e+01   8.20000000e+01   2.00000000e+00]\n",
      "\n",
      "The read target of the data =  44.0\n"
     ]
    }
   ],
   "source": [
    "# test on single data point, randomly choose point number 55\n",
    "print 'Point of training data before normalization\\n',new_data[55]\n",
    "print '\\nThe read target of the data = ', Y[55]\n"
   ]
  },
  {
   "cell_type": "code",
   "execution_count": 31,
   "metadata": {
    "collapsed": false
   },
   "outputs": [
    {
     "data": {
      "text/plain": [
       "array([-0.85285735, -0.92367663,  0.00370019, -0.98755301,  3.32051676,\n",
       "        1.60495396,  0.5068698 ])"
      ]
     },
     "execution_count": 31,
     "metadata": {},
     "output_type": "execute_result"
    }
   ],
   "source": [
    "X[55]"
   ]
  },
  {
   "cell_type": "code",
   "execution_count": 32,
   "metadata": {
    "collapsed": false
   },
   "outputs": [
    {
     "name": "stdout",
     "output_type": "stream",
     "text": [
      " =================================================================>>>>> done\n",
      "[[-0.85285735 -0.92367663  0.00370019 -0.98755301  3.32051676  1.60495396\n",
      "   0.5068698 ]]\n"
     ]
    }
   ],
   "source": [
    "# Test the model if it is work\n",
    "scalerTest = joblib.load('scaler.pkl')\n",
    "new_data_scaled = scalerTest.transform(new_data[55].reshape(1, -1))\n",
    "print \" =================================================================>>>>> done\"\n",
    "print new_data_scaled"
   ]
  },
  {
   "cell_type": "code",
   "execution_count": 33,
   "metadata": {
    "collapsed": false
   },
   "outputs": [
    {
     "name": "stdout",
     "output_type": "stream",
     "text": [
      "\n",
      "The Predicted target of the data =  [[ 41.95976257]]\n"
     ]
    }
   ],
   "source": [
    "NewPred = model.predict(new_data_scaled, verbose=0)\n",
    "print '\\nThe Predicted target of the data = ', NewPred"
   ]
  },
  {
   "cell_type": "markdown",
   "metadata": {},
   "source": [
    "## Conclusion "
   ]
  }
 ],
 "metadata": {
  "kernelspec": {
   "display_name": "Python 2",
   "language": "python",
   "name": "python2"
  },
  "language_info": {
   "codemirror_mode": {
    "name": "ipython",
    "version": 2
   },
   "file_extension": ".py",
   "mimetype": "text/x-python",
   "name": "python",
   "nbconvert_exporter": "python",
   "pygments_lexer": "ipython2",
   "version": "2.7.12"
  }
 },
 "nbformat": 4,
 "nbformat_minor": 0
}
