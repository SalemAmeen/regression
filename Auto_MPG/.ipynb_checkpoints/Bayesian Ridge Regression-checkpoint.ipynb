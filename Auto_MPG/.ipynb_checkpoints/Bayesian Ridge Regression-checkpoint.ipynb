{
 "cells": [
  {
   "cell_type": "markdown",
   "metadata": {},
   "source": [
    "Salem Ameen, PhD student at Salford University\n",
    "\n",
    "###  Auto MPG Data Set \n",
    "\n",
    "Bayesian Ridge Regression"
   ]
  },
  {
   "cell_type": "markdown",
   "metadata": {},
   "source": [
    "# Import the Libraries"
   ]
  },
  {
   "cell_type": "code",
   "execution_count": 62,
   "metadata": {
    "collapsed": false
   },
   "outputs": [
    {
     "data": {
      "text/html": [
       "\n",
       "    <div class=\"bk-root\">\n",
       "        <a href=\"http://bokeh.pydata.org\" target=\"_blank\" class=\"bk-logo bk-logo-small bk-logo-notebook\"></a>\n",
       "        <span id=\"8e3d6d84-84f5-4c4b-9d0d-ed2bce74e3ed\">Loading BokehJS ...</span>\n",
       "    </div>"
      ]
     },
     "metadata": {},
     "output_type": "display_data"
    },
    {
     "data": {
      "application/javascript": [
       "\n",
       "(function(global) {\n",
       "  function now() {\n",
       "    return new Date();\n",
       "  }\n",
       "\n",
       "  var force = \"1\";\n",
       "\n",
       "  if (typeof (window._bokeh_onload_callbacks) === \"undefined\" || force !== \"\") {\n",
       "    window._bokeh_onload_callbacks = [];\n",
       "    window._bokeh_is_loading = undefined;\n",
       "  }\n",
       "\n",
       "\n",
       "  \n",
       "  if (typeof (window._bokeh_timeout) === \"undefined\" || force !== \"\") {\n",
       "    window._bokeh_timeout = Date.now() + 5000;\n",
       "    window._bokeh_failed_load = false;\n",
       "  }\n",
       "\n",
       "  var NB_LOAD_WARNING = {'data': {'text/html':\n",
       "     \"<div style='background-color: #fdd'>\\n\"+\n",
       "     \"<p>\\n\"+\n",
       "     \"BokehJS does not appear to have successfully loaded. If loading BokehJS from CDN, this \\n\"+\n",
       "     \"may be due to a slow or bad network connection. Possible fixes:\\n\"+\n",
       "     \"</p>\\n\"+\n",
       "     \"<ul>\\n\"+\n",
       "     \"<li>re-rerun `output_notebook()` to attempt to load from CDN again, or</li>\\n\"+\n",
       "     \"<li>use INLINE resources instead, as so:</li>\\n\"+\n",
       "     \"</ul>\\n\"+\n",
       "     \"<code>\\n\"+\n",
       "     \"from bokeh.resources import INLINE\\n\"+\n",
       "     \"output_notebook(resources=INLINE)\\n\"+\n",
       "     \"</code>\\n\"+\n",
       "     \"</div>\"}};\n",
       "\n",
       "  function display_loaded() {\n",
       "    if (window.Bokeh !== undefined) {\n",
       "      Bokeh.$(\"#8e3d6d84-84f5-4c4b-9d0d-ed2bce74e3ed\").text(\"BokehJS successfully loaded.\");\n",
       "    } else if (Date.now() < window._bokeh_timeout) {\n",
       "      setTimeout(display_loaded, 100)\n",
       "    }\n",
       "  }\n",
       "\n",
       "  function run_callbacks() {\n",
       "    window._bokeh_onload_callbacks.forEach(function(callback) { callback() });\n",
       "    delete window._bokeh_onload_callbacks\n",
       "    console.info(\"Bokeh: all callbacks have finished\");\n",
       "  }\n",
       "\n",
       "  function load_libs(js_urls, callback) {\n",
       "    window._bokeh_onload_callbacks.push(callback);\n",
       "    if (window._bokeh_is_loading > 0) {\n",
       "      console.log(\"Bokeh: BokehJS is being loaded, scheduling callback at\", now());\n",
       "      return null;\n",
       "    }\n",
       "    if (js_urls == null || js_urls.length === 0) {\n",
       "      run_callbacks();\n",
       "      return null;\n",
       "    }\n",
       "    console.log(\"Bokeh: BokehJS not loaded, scheduling load and callback at\", now());\n",
       "    window._bokeh_is_loading = js_urls.length;\n",
       "    for (var i = 0; i < js_urls.length; i++) {\n",
       "      var url = js_urls[i];\n",
       "      var s = document.createElement('script');\n",
       "      s.src = url;\n",
       "      s.async = false;\n",
       "      s.onreadystatechange = s.onload = function() {\n",
       "        window._bokeh_is_loading--;\n",
       "        if (window._bokeh_is_loading === 0) {\n",
       "          console.log(\"Bokeh: all BokehJS libraries loaded\");\n",
       "          run_callbacks()\n",
       "        }\n",
       "      };\n",
       "      s.onerror = function() {\n",
       "        console.warn(\"failed to load library \" + url);\n",
       "      };\n",
       "      console.log(\"Bokeh: injecting script tag for BokehJS library: \", url);\n",
       "      document.getElementsByTagName(\"head\")[0].appendChild(s);\n",
       "    }\n",
       "  };var element = document.getElementById(\"8e3d6d84-84f5-4c4b-9d0d-ed2bce74e3ed\");\n",
       "  if (element == null) {\n",
       "    console.log(\"Bokeh: ERROR: autoload.js configured with elementid '8e3d6d84-84f5-4c4b-9d0d-ed2bce74e3ed' but no matching script tag was found. \")\n",
       "    return false;\n",
       "  }\n",
       "\n",
       "  var js_urls = ['https://cdn.pydata.org/bokeh/release/bokeh-0.12.2.min.js', 'https://cdn.pydata.org/bokeh/release/bokeh-widgets-0.12.2.min.js', 'https://cdn.pydata.org/bokeh/release/bokeh-compiler-0.12.2.min.js'];\n",
       "\n",
       "  var inline_js = [\n",
       "    function(Bokeh) {\n",
       "      Bokeh.set_log_level(\"info\");\n",
       "    },\n",
       "    \n",
       "    function(Bokeh) {\n",
       "      \n",
       "      Bokeh.$(\"#8e3d6d84-84f5-4c4b-9d0d-ed2bce74e3ed\").text(\"BokehJS is loading...\");\n",
       "    },\n",
       "    function(Bokeh) {\n",
       "      console.log(\"Bokeh: injecting CSS: https://cdn.pydata.org/bokeh/release/bokeh-0.12.2.min.css\");\n",
       "      Bokeh.embed.inject_css(\"https://cdn.pydata.org/bokeh/release/bokeh-0.12.2.min.css\");\n",
       "      console.log(\"Bokeh: injecting CSS: https://cdn.pydata.org/bokeh/release/bokeh-widgets-0.12.2.min.css\");\n",
       "      Bokeh.embed.inject_css(\"https://cdn.pydata.org/bokeh/release/bokeh-widgets-0.12.2.min.css\");\n",
       "    }\n",
       "  ];\n",
       "\n",
       "  function run_inline_js() {\n",
       "    \n",
       "    if ((window.Bokeh !== undefined) || (force === \"1\")) {\n",
       "      for (var i = 0; i < inline_js.length; i++) {\n",
       "        inline_js[i](window.Bokeh);\n",
       "      }if (force === \"1\") {\n",
       "        display_loaded();\n",
       "      }} else if (Date.now() < window._bokeh_timeout) {\n",
       "      setTimeout(run_inline_js, 100);\n",
       "    } else if (!window._bokeh_failed_load) {\n",
       "      console.log(\"Bokeh: BokehJS failed to load within specified timeout.\");\n",
       "      window._bokeh_failed_load = true;\n",
       "    } else if (!force) {\n",
       "      var cell = $(\"#8e3d6d84-84f5-4c4b-9d0d-ed2bce74e3ed\").parents('.cell').data().cell;\n",
       "      cell.output_area.append_execute_result(NB_LOAD_WARNING)\n",
       "    }\n",
       "\n",
       "  }\n",
       "\n",
       "  if (window._bokeh_is_loading === 0) {\n",
       "    console.log(\"Bokeh: BokehJS loaded, going straight to plotting\");\n",
       "    run_inline_js();\n",
       "  } else {\n",
       "    load_libs(js_urls, function() {\n",
       "      console.log(\"Bokeh: BokehJS plotting callback run at\", now());\n",
       "      run_inline_js();\n",
       "    });\n",
       "  }\n",
       "}(this));"
      ]
     },
     "metadata": {},
     "output_type": "display_data"
    }
   ],
   "source": [
    "import numpy as np\n",
    "import pandas\n",
    "from numpy import *\n",
    "import time\n",
    "import sys\n",
    "import pandas as pd\n",
    "import matplotlib.pyplot as plt\n",
    "from sklearn import feature_selection\n",
    "from sklearn.linear_model import BayesianRidge\n",
    "from sklearn.learning_curve import learning_curve, validation_curve\n",
    "from sklearn.cross_validation import cross_val_predict\n",
    "from sklearn import metrics, grid_search, cross_validation\n",
    "from IPython.display import set_matplotlib_formats\n",
    "from bokeh.plotting import figure, show, output_notebook\n",
    "from sklearn.grid_search import GridSearchCV, RandomizedSearchCV\n",
    "from sklearn.metrics import r2_score\n",
    "from bokeh.layouts import gridplot\n",
    "output_notebook()\n",
    "set_matplotlib_formats('png', 'pdf')\n",
    "%matplotlib inline\n",
    "plt.rcParams['figure.figsize'] = (6, 6)"
   ]
  },
  {
   "cell_type": "markdown",
   "metadata": {},
   "source": [
    "# Load data"
   ]
  },
  {
   "cell_type": "markdown",
   "metadata": {},
   "source": [
    "In the previous file we have not change the data as there is no missing value or add any new parameters so it can be downloaded from the web directly. "
   ]
  },
  {
   "cell_type": "code",
   "execution_count": 63,
   "metadata": {
    "collapsed": false
   },
   "outputs": [
    {
     "name": "stdout",
     "output_type": "stream",
     "text": [
      "Number of examples 398\n"
     ]
    }
   ],
   "source": [
    "url = 'http://archive.ics.uci.edu/ml/machine-learning-databases/auto-mpg/auto-mpg.data'\n",
    "names = ['mpg', 'cylinders', 'displacement', 'horsepower', 'weight', 'acceleration', 'year','origin','name']\n",
    "feature_names = ['mpg', 'cylinders', 'displacement', 'horsepower', 'weight', 'acceleration', 'year','origin']\n",
    "feature_cols = ['mpg', 'cylinders', 'displacement', 'horsepower', 'weight', 'acceleration', 'year','origin']\n",
    "data = pd.read_csv(url, sep='\\s+', names = names)\n",
    "data = data.drop('name',1)\n",
    "from sklearn import preprocessing\n",
    "\n",
    "def number_encode_features(df):\n",
    "    result = df.copy()\n",
    "    encoders = {}\n",
    "    for column in result.columns:\n",
    "        if result.dtypes[column] == np.object:\n",
    "            encoders[column] = preprocessing.LabelEncoder()\n",
    "            result[column] = encoders[column].fit_transform(result[column])\n",
    "    return result, encoders\n",
    "\n",
    "data, _ = number_encode_features(data)\n",
    "\n",
    "dataset = data.values\n",
    "X = dataset[:,1:8]\n",
    "Y = dataset[:,0]\n",
    "print 'Number of examples',len(X)\n"
   ]
  },
  {
   "cell_type": "code",
   "execution_count": 64,
   "metadata": {
    "collapsed": false
   },
   "outputs": [
    {
     "data": {
      "text/plain": [
       "(398, 8)"
      ]
     },
     "execution_count": 64,
     "metadata": {},
     "output_type": "execute_result"
    }
   ],
   "source": [
    "dataset.shape"
   ]
  },
  {
   "cell_type": "code",
   "execution_count": null,
   "metadata": {
    "collapsed": true
   },
   "outputs": [],
   "source": []
  },
  {
   "cell_type": "code",
   "execution_count": 65,
   "metadata": {
    "collapsed": false
   },
   "outputs": [
    {
     "name": "stdout",
     "output_type": "stream",
     "text": [
      "Number of training examples 318\n",
      "Number of validation examples 80\n"
     ]
    }
   ],
   "source": [
    "# Make developement dataset for genrilization and final testing\n",
    "from sklearn.cross_validation import train_test_split\n",
    "# Extracting 20% testing data\n",
    "X_train, X_test, y_train, y_test = train_test_split(\n",
    "    X, Y, test_size=0.20, random_state=0)\n",
    "X = X_train\n",
    "Y = y_train\n",
    "new_data      = X_train\n",
    "new_test_data = X_test\n",
    "print 'Number of training examples',len(X_train)\n",
    "print 'Number of validation examples',len(X_test)"
   ]
  },
  {
   "cell_type": "markdown",
   "metadata": {},
   "source": [
    "Number of training data is very small so we need to use cross validation instead of spareate another validation data."
   ]
  },
  {
   "cell_type": "markdown",
   "metadata": {},
   "source": [
    "From the previous visulization the data has no missing value but has many outlier and some sparisty"
   ]
  },
  {
   "cell_type": "markdown",
   "metadata": {},
   "source": [
    "# Ranking of the feature's importance to the target"
   ]
  },
  {
   "cell_type": "code",
   "execution_count": 66,
   "metadata": {
    "collapsed": false
   },
   "outputs": [
    {
     "name": "stdout",
     "output_type": "stream",
     "text": [
      "mpg \t1.0\n",
      "cylinders \t0.601237721112\n",
      "displacement \t0.646740963836\n",
      "horsepower \t0.204074011075\n",
      "weight \t0.691792166833\n",
      "acceleration \t0.176618414897\n",
      "year \t0.335542062888\n",
      "origin \t0.317466997896\n"
     ]
    }
   ],
   "source": [
    "# Using just correlation coefficient even in prevoius file we show them using data frame\n",
    "for col in feature_cols:\n",
    "    lm = BayesianRidge(fit_intercept=True)\n",
    "    lm.fit(data[[col]], data['mpg'])\n",
    "    print col,'\\t', lm.score(data[[col]], data['mpg'])"
   ]
  },
  {
   "cell_type": "code",
   "execution_count": 67,
   "metadata": {
    "collapsed": false
   },
   "outputs": [
    {
     "name": "stdout",
     "output_type": "stream",
     "text": [
      "Feature Name      Score         Pvalue\n",
      "mpg \t\t8.91712726219e+17 \t0.0\n",
      "cylinders \t\t597.077047852 \t4.50399224618e-81\n",
      "displacement \t\t724.994303368 \t1.65588891019e-91\n",
      "horsepower \t\t101.546001862 \t2.06258705842e-21\n",
      "weight \t\t888.850682648 \t2.97279956405e-103\n",
      "acceleration \t\t84.9577002497 \t1.82309153508e-18\n",
      "year \t\t199.98200802 \t4.84493581337e-37\n",
      "origin \t\t184.199639369 \t1.01148221023e-34\n"
     ]
    }
   ],
   "source": [
    "# Randing the important features to the target\n",
    "model = feature_selection.SelectKBest(score_func=feature_selection.f_regression,k=4)\n",
    "results = model.fit(data[feature_cols], data['mpg'])\n",
    "k=0\n",
    "print 'Feature Name      Score         Pvalue'\n",
    "for feat in feature_cols:\n",
    "    print feat,'\\t\\t',results.scores_[k],'\\t',results.pvalues_[k]\n",
    "    k=k+1\n"
   ]
  },
  {
   "cell_type": "markdown",
   "metadata": {},
   "source": [
    "# Set the parameters for cross validation"
   ]
  },
  {
   "cell_type": "code",
   "execution_count": 68,
   "metadata": {
    "collapsed": true
   },
   "outputs": [],
   "source": [
    "num_folds = 10\n",
    "num_instances = len(X)\n",
    "seed = 7\n",
    "kfold = cross_validation.KFold(n=num_instances, n_folds=num_folds, random_state=seed)"
   ]
  },
  {
   "cell_type": "markdown",
   "metadata": {},
   "source": [
    " # Set the parameters for bias-variance dilemma"
   ]
  },
  {
   "cell_type": "code",
   "execution_count": 69,
   "metadata": {
    "collapsed": false
   },
   "outputs": [],
   "source": [
    "def plot_learning_curve(estimator, title, X, y, ylim=None, cv=None,\n",
    "                        n_jobs=1, train_sizes=np.linspace(.1, 1.0, 5)):\n",
    "    plt.figure()\n",
    "    plt.title(title)\n",
    "    if ylim is not None:\n",
    "        plt.ylim(*ylim)\n",
    "    plt.xlabel(\"Training examples\")\n",
    "    plt.ylabel(\"Score\")\n",
    "    train_sizes, train_scores, test_scores = learning_curve(\n",
    "        estimator, X, y, cv=cv, n_jobs=n_jobs, train_sizes=train_sizes)\n",
    "    train_scores_mean = np.mean(train_scores, axis=1)\n",
    "    train_scores_std = np.std(train_scores, axis=1)\n",
    "    test_scores_mean = np.mean(test_scores, axis=1)\n",
    "    test_scores_std = np.std(test_scores, axis=1)\n",
    "    plt.grid()\n",
    "\n",
    "    plt.fill_between(train_sizes, train_scores_mean - train_scores_std,\n",
    "                     train_scores_mean + train_scores_std, alpha=0.1,\n",
    "                     color=\"r\")\n",
    "    plt.fill_between(train_sizes, test_scores_mean - test_scores_std,\n",
    "                     test_scores_mean + test_scores_std, alpha=0.1, color=\"g\")\n",
    "    plt.plot(train_sizes, train_scores_mean, 'o-', color=\"r\",\n",
    "             label=\"Training score\")\n",
    "    plt.plot(train_sizes, test_scores_mean, 'o-', color=\"g\",\n",
    "             label=\"Cross-validation score\")\n",
    "\n",
    "    plt.legend(loc=\"best\")\n",
    "    return plt"
   ]
  },
  {
   "cell_type": "markdown",
   "metadata": {},
   "source": [
    "# Preprocessing the data and save both the model and preprocessed data"
   ]
  },
  {
   "cell_type": "code",
   "execution_count": 70,
   "metadata": {
    "collapsed": true
   },
   "outputs": [],
   "source": [
    "# According to the nature of the data spasity and there is outliter RobustScaler class is recomandit \n",
    "# but when I tried both of them the result seems is same\n",
    "from sklearn.preprocessing import StandardScaler\n",
    "scaler = preprocessing.StandardScaler().fit(X_train)"
   ]
  },
  {
   "cell_type": "code",
   "execution_count": 71,
   "metadata": {
    "collapsed": true
   },
   "outputs": [],
   "source": [
    "X_train = scaler.transform(X_train)\n",
    "X_test = scaler.transform(X_test) # use same transform for testing data\n",
    "X = X_train"
   ]
  },
  {
   "cell_type": "code",
   "execution_count": 72,
   "metadata": {
    "collapsed": true
   },
   "outputs": [],
   "source": [
    "# save transformed data\n",
    "np.save('./data/X_train', X_train)\n",
    "np.save('./data/y_train', y_train)\n",
    "np.save('./data/X_test', X_test)\n",
    "np.save('./data/y_test', y_test)"
   ]
  },
  {
   "cell_type": "code",
   "execution_count": 73,
   "metadata": {
    "collapsed": false
   },
   "outputs": [
    {
     "data": {
      "text/plain": [
       "['scaler.pkl', 'scaler.pkl_01.npy', 'scaler.pkl_02.npy', 'scaler.pkl_03.npy']"
      ]
     },
     "execution_count": 73,
     "metadata": {},
     "output_type": "execute_result"
    }
   ],
   "source": [
    "# save the model scaler to the desk\n",
    "from sklearn.externals import joblib\n",
    "joblib.dump(scaler, 'scaler.pkl') "
   ]
  },
  {
   "cell_type": "code",
   "execution_count": 74,
   "metadata": {
    "collapsed": false
   },
   "outputs": [
    {
     "name": "stdout",
     "output_type": "stream",
     "text": [
      " =================================================================>>>>> done\n",
      "[[  1.49526939e+00   1.55114495e+00  -7.35914828e-01   1.38121932e+00\n",
      "   -9.80600673e-01  -1.13752513e+00  -7.33011713e-01]\n",
      " [ -8.52857354e-01  -5.04710772e-01   6.08839749e-01  -4.99341807e-01\n",
      "    5.02543270e-01  -5.89029314e-01  -7.33011713e-01]\n",
      " [  1.49526939e+00   1.07371874e+00  -9.71246879e-01   1.57674079e+00\n",
      "    1.31757284e-01  -1.13752513e+00  -7.33011713e-01]\n",
      " [ -8.52857354e-01  -6.99578613e-01   1.01226612e+00   1.84938650e-02\n",
      "    1.42950823e+00  -1.13752513e+00   5.06869802e-01]\n",
      " [  3.21206016e-01   3.91681296e-01  -1.71086190e+00   3.84652269e-01\n",
      "   -5.36357086e-02  -1.41177304e+00  -7.33011713e-01]\n",
      " [ -8.52857354e-01  -1.16726143e+00   4.40745427e-01  -1.60018698e+00\n",
      "    8.73329255e-01  -1.41177304e+00   1.74675132e+00]\n",
      " [ -8.52857354e-01  -1.03085394e+00   3.06269969e-01  -1.17122470e+00\n",
      "   -1.64871504e-01   7.82210231e-01   1.74675132e+00]\n",
      " [ -8.52857354e-01  -5.04710772e-01   1.11312272e+00  -6.58128946e-01\n",
      "    1.42950823e+00  -1.13752513e+00  -7.33011713e-01]\n",
      " [  1.49526939e+00   2.02857116e+00  -8.03152557e-01   9.45147172e-01\n",
      "   -2.27835162e+00  -1.68602095e+00  -7.33011713e-01]\n",
      " [  3.21206016e-01  -1.83178834e-01  -1.50914871e+00  -2.82490713e-01\n",
      "   -1.12891507e+00   1.33070605e+00  -7.33011713e-01]\n",
      " [ -8.52857354e-01  -1.04059733e+00   1.41569250e+00  -1.33712172e+00\n",
      "    6.13779065e-01   1.05645814e+00   5.06869802e-01]\n",
      " [ -8.52857354e-01  -1.03085394e+00   3.06269969e-01  -1.11908564e+00\n",
      "    2.80071678e-01   1.05645814e+00   1.74675132e+00]\n",
      " [  3.21206016e-01   5.67062353e-01   1.04588499e+00   6.82629684e-02\n",
      "    3.17150277e-01  -8.63277223e-01  -7.33011713e-01]\n",
      " [ -8.52857354e-01  -9.23676630e-01   7.09379184e-02  -8.40615659e-01\n",
      "    2.91265218e+00  -1.13752513e+00   5.06869802e-01]\n",
      " [  1.49526939e+00   1.22961301e+00  -9.04009151e-01   1.39425408e+00\n",
      "   -7.21050483e-01   2.33714413e-01  -7.33011713e-01]\n",
      " [ -8.52857354e-01  -9.13933237e-01   7.76934072e-01  -1.24232342e+00\n",
      "   -4.61500293e-01   7.82210231e-01  -7.33011713e-01]\n",
      " [ -8.52857354e-01  -7.09322005e-01   8.44171801e-01  -2.88415606e-01\n",
      "    1.39242964e+00   1.60495396e+00  -7.33011713e-01]\n",
      " [ -8.52857354e-01  -3.97533459e-01   1.11312272e+00  -2.70640927e-01\n",
      "    8.73329255e-01   1.60495396e+00  -7.33011713e-01]\n",
      " [  3.21206016e-01   3.23477552e-01  -1.61000530e+00   7.69770331e-01\n",
      "    3.17150277e-01  -5.89029314e-01  -7.33011713e-01]\n",
      " [ -8.52857354e-01  -9.82136982e-01   4.40745427e-01  -9.87553012e-01\n",
      "   -3.50264497e-01   7.82210231e-01   5.06869802e-01]\n",
      " [  1.49526939e+00   2.02857116e+00  -4.33345048e-01   1.61347513e+00\n",
      "   -1.27722946e+00   2.33714413e-01  -7.33011713e-01]\n",
      " [ -8.52857354e-01  -5.04710772e-01   7.09696343e-01  -4.40092874e-01\n",
      "    1.05872225e+00  -3.14781405e-01  -7.33011713e-01]\n",
      " [ -8.52857354e-01  -7.09322005e-01   1.34845477e+00  -4.95786871e-01\n",
      "    5.02543270e-01  -3.14781405e-01   1.74675132e+00]\n",
      " [ -8.52857354e-01  -6.89835221e-01  -1.47552985e+00  -3.60151531e-02\n",
      "   -4.24421694e-01  -1.13752513e+00   5.06869802e-01]\n",
      " [ -8.52857354e-01  -8.45729493e-01   4.74364292e-01  -9.63853439e-01\n",
      "   -2.76107300e-01   7.82210231e-01  -7.33011713e-01]\n",
      " [  3.21206016e-01  -2.31895795e-01  -1.37467325e+00  -7.51194487e-02\n",
      "   -1.12891507e+00   1.33070605e+00   1.74675132e+00]\n",
      " [ -8.52857354e-01  -9.13933237e-01   3.39888834e-01  -1.37859597e+00\n",
      "   -4.61500293e-01   5.07962322e-01  -7.33011713e-01]\n",
      " [ -8.52857354e-01  -7.77525749e-01   1.04588499e+00  -6.73533669e-01\n",
      "    8.73329255e-01   1.60495396e+00  -7.33011713e-01]\n",
      " [ -8.52857354e-01  -5.53427732e-01   9.11409529e-01  -6.85383455e-01\n",
      "   -1.01767927e+00   1.33070605e+00  -7.33011713e-01]\n",
      " [  3.21206016e-01   6.45009489e-01  -1.50914871e+00   7.92284926e-01\n",
      "    8.73329255e-01  -5.89029314e-01  -7.33011713e-01]\n",
      " [  3.21206016e-01   3.23477552e-01  -1.50914871e+00   7.78065182e-01\n",
      "    1.13287945e+00   5.07962322e-01  -7.33011713e-01]\n",
      " [ -8.52857354e-01  -7.09322005e-01   1.18036045e+00  -6.27319501e-01\n",
      "   -2.39028701e-01   1.05645814e+00   1.74675132e+00]\n",
      " [  3.21206016e-01   5.67062353e-01   5.41602021e-01   5.55289195e-01\n",
      "    1.98568721e+00  -3.14781405e-01  -7.33011713e-01]\n",
      " [ -8.52857354e-01  -1.04059733e+00   4.74364292e-01  -1.20677406e+00\n",
      "    4.28386073e-01   2.33714413e-01   1.74675132e+00]\n",
      " [  3.21206016e-01   3.81937904e-01  -1.50914871e+00   5.35144558e-01\n",
      "    5.76000871e-02   1.33070605e+00  -7.33011713e-01]\n",
      " [ -8.52857354e-01  -5.63171124e-01   1.31483590e+00  -3.09745222e-01\n",
      "   -7.95207680e-01  -3.14781405e-01   1.74675132e+00]\n",
      " [  3.21206016e-01   3.91681296e-01   1.11312272e+00   2.93408913e-01\n",
      "    5.02543270e-01  -3.14781405e-01  -7.33011713e-01]\n",
      " [  1.49526939e+00   1.54140156e+00  -7.02295964e-01   1.65494939e+00\n",
      "   -2.76107300e-01   7.82210231e-01  -7.33011713e-01]\n",
      " [ -8.52857354e-01  -1.00162377e+00   5.07983156e-01  -1.23047364e+00\n",
      "   -6.09814687e-01   7.82210231e-01   5.06869802e-01]\n",
      " [  1.49526939e+00   2.31112953e+00  -3.66107319e-01   2.35645675e+00\n",
      "   -1.53677965e+00  -8.63277223e-01  -7.33011713e-01]\n",
      " [  1.49526939e+00   2.55471433e+00  -1.98012997e-01   1.64783951e+00\n",
      "   -2.46374461e+00  -1.68602095e+00  -7.33011713e-01]\n",
      " [  1.49526939e+00   1.54140156e+00  -6.01439371e-01   8.64568624e-01\n",
      "   -1.53677965e+00  -1.68602095e+00  -7.33011713e-01]\n",
      " [ -8.52857354e-01  -6.89835221e-01   7.76934072e-01  -3.47664539e-01\n",
      "   -2.39028701e-01   7.82210231e-01  -7.33011713e-01]\n",
      " [ -1.43988904e+00  -1.18674821e+00  -1.71086190e+00  -6.43909203e-01\n",
      "   -1.16599367e+00   1.05645814e+00   1.74675132e+00]\n",
      " [ -8.52857354e-01  -4.65737204e-01   1.31483590e+00  -3.53589432e-01\n",
      "   -6.46893286e-01   1.60495396e+00   1.74675132e+00]\n",
      " [ -8.52857354e-01  -6.89835221e-01  -1.50914871e+00  -3.59514326e-01\n",
      "   -6.09814687e-01  -8.63277223e-01   5.06869802e-01]\n",
      " [  3.21206016e-01   3.91681296e-01   1.11312272e+00   1.44101602e-01\n",
      "    7.25014861e-01  -4.05334960e-02  -7.33011713e-01]\n",
      " [  1.49526939e+00   1.54140156e+00  -4.66963913e-01   1.67864896e+00\n",
      "   -1.31430806e+00  -4.05334960e-02  -7.33011713e-01]\n",
      " [  3.21206016e-01  -3.58559891e-01  -1.57638644e+00  -5.82290313e-01\n",
      "   -6.09814687e-01  -8.63277223e-01  -7.33011713e-01]\n",
      " [ -8.52857354e-01  -1.09905769e+00   3.73507698e-01  -1.18544445e+00\n",
      "   -5.36357086e-02  -5.89029314e-01   5.06869802e-01]\n",
      " [ -8.52857354e-01  -9.13933237e-01   6.42458614e-01  -9.70963311e-01\n",
      "   -3.50264497e-01   1.05645814e+00   5.06869802e-01]\n",
      " [ -8.52857354e-01  -9.13933237e-01   8.77790665e-01  -8.82089912e-01\n",
      "    3.17150277e-01  -5.89029314e-01   5.06869802e-01]\n",
      " [  1.49526939e+00   1.07371874e+00  -1.20657893e+00   1.57792577e+00\n",
      "   -2.76107300e-01   2.33714413e-01  -7.33011713e-01]\n",
      " [ -8.52857354e-01  -1.01136716e+00   6.42458614e-01  -1.06457662e+00\n",
      "   -4.24421694e-01  -1.41177304e+00   5.06869802e-01]\n",
      " [  1.49526939e+00   1.86293349e+00  -5.34201642e-01   7.10521399e-01\n",
      "   -2.09295863e+00  -1.68602095e+00  -7.33011713e-01]\n",
      " [  1.49526939e+00   1.12243570e+00  -3.32488455e-01   1.67390904e+00\n",
      "   -2.39028701e-01  -1.68602095e+00  -7.33011713e-01]\n",
      " [  3.21206016e-01   6.45009489e-01  -1.50914871e+00  -1.65077215e-03\n",
      "   -7.95207680e-01  -1.41177304e+00  -7.33011713e-01]\n",
      " [  3.21206016e-01   7.98927508e-02   1.04588499e+00   1.14477136e-01\n",
      "    5.39621868e-01   1.33070605e+00  -7.33011713e-01]\n",
      " [ -8.52857354e-01  -5.53427732e-01   9.11409529e-01  -7.03158135e-01\n",
      "   -9.80600673e-01   1.60495396e+00  -7.33011713e-01]\n",
      " [  1.49526939e+00   1.07371874e+00  -9.71246879e-01   5.75433832e-01\n",
      "   -1.90756564e+00  -1.68602095e+00  -7.33011713e-01]\n",
      " [  3.21206016e-01   5.67062353e-01   7.09696343e-01   7.23556164e-01\n",
      "    1.98568721e+00  -4.05334960e-02  -7.33011713e-01]\n",
      " [ -8.52857354e-01  -5.04710772e-01   5.41602021e-01  -4.72087298e-01\n",
      "   -7.58129081e-01  -4.05334960e-02  -7.33011713e-01]\n",
      " [  3.21206016e-01   3.91681296e-01  -1.71086190e+00  -2.06652079e-01\n",
      "   -2.39028701e-01  -8.63277223e-01  -7.33011713e-01]\n",
      " [  3.21206016e-01   6.04059667e-02   1.28121704e+00  -1.54513018e-01\n",
      "   -5.36357086e-02  -1.68602095e+00  -7.33011713e-01]\n",
      " [  1.49526939e+00   1.54140156e+00  -4.66963913e-01   1.81966142e+00\n",
      "   -1.16599367e+00  -8.63277223e-01  -7.33011713e-01]\n",
      " [  1.49526939e+00   1.55114495e+00  -8.70390286e-01   2.00688805e+00\n",
      "   -7.95207680e-01  -3.14781405e-01  -7.33011713e-01]\n",
      " [  1.49526939e+00   2.31112953e+00  -3.66107319e-01   1.63243479e+00\n",
      "   -2.09295863e+00  -1.68602095e+00  -7.33011713e-01]\n",
      " [  3.21206016e-01   5.67062353e-01  -1.61000530e+00   5.87283619e-01\n",
      "    1.31757284e-01  -3.14781405e-01  -7.33011713e-01]\n",
      " [ -8.52857354e-01  -5.04710772e-01   8.77790665e-01  -3.84398877e-01\n",
      "    5.02543270e-01  -3.14781405e-01  -7.33011713e-01]\n",
      " [  1.49526939e+00   2.41830684e+00  -2.31631862e-01   1.59807041e+00\n",
      "   -2.64913761e+00  -1.68602095e+00  -7.33011713e-01]\n",
      " [ -8.52857354e-01  -9.23676630e-01   3.73507698e-01  -1.06457662e+00\n",
      "    7.99172058e-01   1.33070605e+00   1.74675132e+00]\n",
      " [  1.49526939e+00   1.54140156e+00  -7.02295964e-01   1.82321635e+00\n",
      "   -7.95207680e-01  -1.13752513e+00  -7.33011713e-01]\n",
      " [ -8.52857354e-01  -7.97012533e-01   1.01226612e+00  -3.45294582e-01\n",
      "    6.87936263e-01  -1.68602095e+00   5.06869802e-01]\n",
      " [  3.21206016e-01   3.23477552e-01  -1.71086190e+00   8.14799520e-01\n",
      "    7.62093460e-01  -4.05334960e-02  -7.33011713e-01]\n",
      " [ -8.52857354e-01  -7.67782357e-01   1.28121704e+00  -7.00788178e-01\n",
      "   -2.39028701e-01  -1.68602095e+00   1.74675132e+00]\n",
      " [ -8.52857354e-01  -8.45729493e-01   6.08839749e-01  -8.69055147e-01\n",
      "   -4.24421694e-01   5.07962322e-01  -7.33011713e-01]\n",
      " [ -8.52857354e-01  -9.23676630e-01   6.08839749e-01  -8.27580894e-01\n",
      "    9.47486452e-01   2.33714413e-01   1.74675132e+00]\n",
      " [ -8.52857354e-01  -1.06008412e+00   1.71794512e-01  -1.13804530e+00\n",
      "    1.24411524e+00  -5.89029314e-01   1.74675132e+00]\n",
      " [ -8.52857354e-01  -9.13933237e-01   1.38175647e-01  -9.47263738e-01\n",
      "    2.39355180e+00  -4.05334960e-02  -7.33011713e-01]\n",
      " [  1.49526939e+00   1.54140156e+00  -4.66963913e-01   8.30204243e-01\n",
      "   -1.72217264e+00  -8.63277223e-01  -7.33011713e-01]]\n"
     ]
    }
   ],
   "source": [
    "# Test the model if it is work\n",
    "scalerTest = joblib.load('scaler.pkl')\n",
    "new_data_scaled = scalerTest.transform(new_test_data)\n",
    "print \" =================================================================>>>>> done\"\n",
    "print new_data_scaled"
   ]
  },
  {
   "cell_type": "markdown",
   "metadata": {},
   "source": [
    "# 1. BayesianRidge Regression"
   ]
  },
  {
   "cell_type": "markdown",
   "metadata": {},
   "source": [
    "The Least Absolute Shrinkage and Selection Operator (or BayesianRidge for short) is a modification of linear regression, like BayesianRidge regression, where the loss function is modified to minimize the complexity of the model measured as the sum absolute value of the coefficient values (also called the l1-norm)."
   ]
  },
  {
   "cell_type": "markdown",
   "metadata": {},
   "source": [
    "## Validation curve"
   ]
  },
  {
   "cell_type": "markdown",
   "metadata": {},
   "source": [
    "choosing multiple hyperparameters of an estimator "
   ]
  },
  {
   "cell_type": "code",
   "execution_count": 75,
   "metadata": {
    "collapsed": false
   },
   "outputs": [
    {
     "data": {
      "text/plain": [
       "['normalize',\n",
       " 'n_iter',\n",
       " 'verbose',\n",
       " 'lambda_1',\n",
       " 'lambda_2',\n",
       " 'fit_intercept',\n",
       " 'alpha_2',\n",
       " 'tol',\n",
       " 'alpha_1',\n",
       " 'copy_X',\n",
       " 'compute_score']"
      ]
     },
     "execution_count": 75,
     "metadata": {},
     "output_type": "execute_result"
    }
   ],
   "source": [
    "from sklearn.linear_model import BayesianRidge\n",
    "estimator = BayesianRidge()\n",
    "estimator.get_params().keys()"
   ]
  },
  {
   "cell_type": "code",
   "execution_count": 76,
   "metadata": {
    "collapsed": false
   },
   "outputs": [
    {
     "data": {
      "application/pdf": "[encoded data removed]",
      "image/png": "[encoded data removed]",
      "text/plain": [
       "<matplotlib.figure.Figure at 0x7f3294099cd0>"
      ]
     },
     "metadata": {},
     "output_type": "display_data"
    }
   ],
   "source": [
    "# For parametr alpha\n",
    "#param_range = np.logspace(-10.0, 10.0)\n",
    "#param_range = np.logspace(-7, 7, 3)\n",
    "param_range = np.linspace(0,1000,100)\n",
    "\n",
    "train_scores, test_scores = validation_curve(\n",
    "    BayesianRidge(), X, Y, param_name=\"alpha_1\", param_range=param_range,\n",
    "    cv=num_folds,  n_jobs=-1)\n",
    "train_scores_mean = np.mean(train_scores, axis=1)\n",
    "train_scores_std = np.std(train_scores, axis=1)\n",
    "test_scores_mean = np.mean(test_scores, axis=1)\n",
    "test_scores_std = np.std(test_scores, axis=1)\n",
    "\n",
    "plt.title(\"Validation Curve with BayesianRidge\")\n",
    "plt.xlabel(\"lambda_2\")\n",
    "plt.ylabel(\"Score\")\n",
    "plt.ylim(0.4, 1.0)\n",
    "plt.plot(param_range, train_scores_mean, label=\"Training score\", color=\"r\")\n",
    "plt.fill_between(param_range, train_scores_mean - train_scores_std,\n",
    "                 train_scores_mean + train_scores_std, alpha=0.2, color=\"r\")\n",
    "plt.plot(param_range, test_scores_mean, label=\"Cross-validation score\",\n",
    "             color=\"g\")\n",
    "plt.fill_between(param_range, test_scores_mean - test_scores_std,\n",
    "                 test_scores_mean + test_scores_std, alpha=0.2, color=\"g\")\n",
    "plt.legend(loc=\"best\")\n",
    "plt.show()"
   ]
  },
  {
   "cell_type": "markdown",
   "metadata": {},
   "source": [
    "It turns out changing alpha_1, alpha_2, lambda_1 and lambda_2 does not change the performance so in next step the search will find the best cominations between them."
   ]
  },
  {
   "cell_type": "markdown",
   "metadata": {},
   "source": [
    "## Grid search and/or Random search to determine best compination of parameters"
   ]
  },
  {
   "cell_type": "code",
   "execution_count": 77,
   "metadata": {
    "collapsed": false
   },
   "outputs": [
    {
     "name": "stdout",
     "output_type": "stream",
     "text": [
      "Hyperparameter optimization using GridSearchCV...\n",
      "Parameters with rank: 1\n",
      "Mean validation score: 0.8090 (std: 0.0460)\n",
      "Parameters: {'alpha_2': -1.0, 'lambda_1': -1.0, 'lambda_2': 1.0, 'alpha_1': 1.0}\n",
      "\n",
      "Parameters with rank: 2\n",
      "Mean validation score: 0.8090 (std: 0.0460)\n",
      "Parameters: {'alpha_2': 0, 'lambda_1': -1.0, 'lambda_2': 1.0, 'alpha_1': 1.0}\n",
      "\n",
      "Parameters with rank: 3\n",
      "Mean validation score: 0.8090 (std: 0.0460)\n",
      "Parameters: {'alpha_2': 1e-06, 'lambda_1': -1.0, 'lambda_2': 1.0, 'alpha_1': 1.0}\n",
      "\n",
      "Parameters with rank: 4\n",
      "Mean validation score: 0.8090 (std: 0.0460)\n",
      "Parameters: {'alpha_2': 1.0, 'lambda_1': -1.0, 'lambda_2': 1.0, 'alpha_1': 1.0}\n",
      "\n",
      "Parameters with rank: 5\n",
      "Mean validation score: 0.8090 (std: 0.0460)\n",
      "Parameters: {'alpha_2': -1.0, 'lambda_1': -1.0, 'lambda_2': 1.0, 'alpha_1': 1e-06}\n",
      "\n",
      "+++++++++++++++++++++++++++++++++++++++++++++++\n",
      "Hyperparameter optimization using RandomizedSearchCV\n",
      "Parameters with rank: 1\n",
      "Mean validation score: 0.8088 (std: 0.0453)\n",
      "Parameters: {'alpha_2': 0.59595959595959602, 'lambda_1': 0.18181818181818182, 'lambda_2': 0.8787878787878789, 'alpha_1': 0.15151515151515152}\n",
      "\n",
      "Parameters with rank: 2\n",
      "Mean validation score: 0.8087 (std: 0.0452)\n",
      "Parameters: {'alpha_2': 0.50505050505050508, 'lambda_1': 0.25252525252525254, 'lambda_2': 0.14141414141414144, 'alpha_1': 0.6767676767676768}\n",
      "\n",
      "Parameters with rank: 3\n",
      "Mean validation score: 0.8087 (std: 0.0452)\n",
      "Parameters: {'alpha_2': 0.91919191919191923, 'lambda_1': 0.49494949494949497, 'lambda_2': 0.51515151515151525, 'alpha_1': 0.42424242424242425}\n",
      "\n",
      "Parameters with rank: 4\n",
      "Mean validation score: 0.8087 (std: 0.0451)\n",
      "Parameters: {'alpha_2': 0.77777777777777779, 'lambda_1': 0.60606060606060608, 'lambda_2': 0.25252525252525254, 'alpha_1': 0.28282828282828287}\n",
      "\n",
      "Parameters with rank: 5\n",
      "Mean validation score: 0.8086 (std: 0.0450)\n",
      "Parameters: {'alpha_2': 0.93939393939393945, 'lambda_1': 0.72727272727272729, 'lambda_2': 0.29292929292929293, 'alpha_1': 0.34343434343434348}\n",
      "\n"
     ]
    }
   ],
   "source": [
    "# Utility function to report optimal parameters\n",
    "from operator import itemgetter\n",
    "def report(grid_scores, n_top=5):\n",
    "    params = None\n",
    "    top_scores = sorted(grid_scores, key=itemgetter(1), reverse=True)[:n_top]\n",
    "    for i, score in enumerate(top_scores):\n",
    "        print(\"Parameters with rank: {0}\".format(i + 1))\n",
    "        print(\"Mean validation score: {0:.4f} (std: {1:.4f})\".format(\n",
    "              score.mean_validation_score, np.std(score.cv_validation_scores)))\n",
    "        print(\"Parameters: {0}\".format(score.parameters))\n",
    "        print(\"\")\n",
    "        \n",
    "        if params == None:\n",
    "            params = score.parameters\n",
    "    \n",
    "    return params\n",
    "\n",
    "# The most common value for the max number of features to look at in each split is sqrt(# of features)\n",
    "sqrtfeat = np.sqrt(X.shape[1]) \n",
    "# Simple grid test (162 combinations)\n",
    "grid_test1 = { \"alpha_1\"      : [-1.0,0, 0.000001, 1.0],\n",
    "                \"alpha_2\"      : [-1.0,0,0.000001, 1.0],\n",
    "               \"lambda_1\"      : [-1.0,0,0.000001, 1.0],\n",
    "               \"lambda_2\"      : [-1.0,0,0.000001, 1.0]}\n",
    "\n",
    "# Large randomized test using max_depth to control tree size (5000 possible combinations)\n",
    "random_test1 = { \"alpha_1\"          : np.linspace(0,1.0,100),\n",
    "                  \"alpha_2\"      : np.linspace(0,1.0,100),\n",
    "                  \"lambda_1\"      : np.linspace(0,1.0,100),\n",
    "                  \"lambda_2\"      : np.linspace(0,1.0,100)}\n",
    "\n",
    "\n",
    "forest = BayesianRidge()\n",
    "\n",
    "print \"Hyperparameter optimization using GridSearchCV...\"\n",
    "grid_search = GridSearchCV(forest, grid_test1, n_jobs=-1, cv=num_folds)\n",
    "grid_search.fit(X, Y)\n",
    "best_params_from_grid_search = report(grid_search.grid_scores_)\n",
    "print '+++++++++++++++++++++++++++++++++++++++++++++++'\n",
    "print \"Hyperparameter optimization using RandomizedSearchCV\"\n",
    "grid_search = RandomizedSearchCV(forest, random_test1, n_jobs=-1, cv=num_folds, n_iter=5)\n",
    "grid_search.fit(X, Y)\n",
    "best_params_from_rand_search1 = report(grid_search.grid_scores_)"
   ]
  },
  {
   "cell_type": "markdown",
   "metadata": {},
   "source": [
    "Best parameters Parameters: Parameters: {'alpha_2': 1.0, 'lambda_1': 1.0, 'lambda_2': -1.0, 'alpha_1': -1.0}\n",
    "\n"
   ]
  },
  {
   "cell_type": "markdown",
   "metadata": {},
   "source": [
    "## Learning Curve "
   ]
  },
  {
   "cell_type": "markdown",
   "metadata": {},
   "source": [
    "In essence, what we’re doing it training the exact same model with increasingly large fractions of our total training data, and plotting the error of the training and test sets at each step."
   ]
  },
  {
   "cell_type": "code",
   "execution_count": 78,
   "metadata": {
    "collapsed": false
   },
   "outputs": [
    {
     "data": {
      "application/pdf": "[encoded data removed]",
      "image/png": "[encoded data removed]",
      "text/plain": [
       "<matplotlib.figure.Figure at 0x7f32940f04d0>"
      ]
     },
     "metadata": {},
     "output_type": "display_data"
    }
   ],
   "source": [
    "from sklearn.linear_model import BayesianRidge\n",
    "model = BayesianRidge(lambda_1 = 1.0, lambda_2 = -1.0, alpha_1 = -1.0, alpha_2=-1.0)\n",
    "title = \"Learning Curves (BayesianRidge Refression)\"\n",
    "cv = cross_validation.ShuffleSplit(X.shape[0], n_iter=100,\n",
    "                                   test_size=0.2, random_state=0)\n",
    "plot_learning_curve(model, title, X, Y, ylim=(0.2, 1.01), cv=cv, n_jobs=-1)\n",
    "plt.show()"
   ]
  },
  {
   "cell_type": "code",
   "execution_count": 79,
   "metadata": {
    "collapsed": false
   },
   "outputs": [
    {
     "name": "stdout",
     "output_type": "stream",
     "text": [
      "train_sizes =  [ 50  80 110]\n",
      " training scores\n",
      " 50 training sizees\n",
      "0.831558977309 ± 0.0404988548532\n",
      " 80 training sizees\n",
      "0.828979632577 ± 0.0280854408851\n",
      " 110 training sizees\n",
      "0.827422506671 ± 0.0214623978365\n",
      "\n",
      " validation scores\n",
      " 50 validation scores\n",
      "0.763028971191 ± 0.049737518031\n",
      " 80 validation scores\n",
      "0.776453223471 ± 0.0452497059996\n",
      " 110 validation scores\n",
      "0.786399046299 ± 0.0393408571982\n"
     ]
    }
   ],
   "source": [
    "# More data from learning curve to show the process of building the model\n",
    "train_sizes, train_scores, valid_scores = learning_curve(\n",
    "     model, X, Y, train_sizes=[50, 80, 110], cv=cv, n_jobs=4)\n",
    "\n",
    "print 'train_sizes = ', train_sizes\n",
    "\n",
    "print ' training scores'\n",
    "print ' 50 training sizees'\n",
    "print train_scores[0].mean(),'±',train_scores[0].std()\n",
    "print ' 80 training sizees'\n",
    "print train_scores[1].mean(),'±',train_scores[1].std()\n",
    "print ' 110 training sizees'\n",
    "print train_scores[2].mean(),'±',train_scores[2].std()\n",
    "\n",
    "print '\\n validation scores'\n",
    "print ' 50 validation scores'\n",
    "print valid_scores[0].mean(),'±',valid_scores[0].std()\n",
    "print ' 80 validation scores'\n",
    "print valid_scores[1].mean(),'±',valid_scores[1].std()\n",
    "print ' 110 validation scores'\n",
    "print valid_scores[2].mean(),'±',valid_scores[2].std()"
   ]
  },
  {
   "cell_type": "markdown",
   "metadata": {},
   "source": [
    "## Cross validation"
   ]
  },
  {
   "cell_type": "code",
   "execution_count": 80,
   "metadata": {
    "collapsed": false
   },
   "outputs": [
    {
     "name": "stdout",
     "output_type": "stream",
     "text": [
      "Scoring according to mean_squared_error\n",
      "[ -8.72380353 -16.56623363 -11.219273   -15.54546565 -13.49709503\n",
      " -11.85485637 -13.50056225  -3.88362818 -13.96294857  -6.55387381]\n",
      "\n",
      " Mean      Standard deviation\n",
      "-11.53      3.83\n",
      "\n",
      " print intercept and coefficients\n",
      "23.5748427673\n",
      "[-0.3025173   1.17246182  0.17881542 -5.30585224  0.67952193  2.75218648\n",
      "  1.17036641]\n",
      "\n",
      "(feature, coefficients)\n",
      "[('mpg', -0.30251730009538402), ('cylinders', 1.1724618189317582), ('displacement', 0.17881541722615779), ('horsepower', -5.3058522411444784), ('weight', 0.67952192504153519), ('acceleration', 2.7521864795150526), ('year', 1.1703664118964356)]\n",
      "\n",
      " Predicted Target = 23.57 +(-0.30)X1 +(1.17)X2 +(0.18)X3 +(-5.31)X4+(0.68)X4 \n",
      "\n",
      " Predicted Target = 23.57 +(-0.30)mpg +(1.17)cylinders +(0.18)displacement +(-5.31)horsepower+(0.68)weight\n"
     ]
    }
   ],
   "source": [
    "scoring = 'mean_squared_error'\n",
    "results = cross_validation.cross_val_score(model, X, Y, cv=kfold, scoring=scoring)\n",
    "print 'Scoring according to mean_squared_error'\n",
    "print results\n",
    "print '\\n Mean      Standard deviation'\n",
    "print(\"%.2f      %.2f\" % (results.mean(), results.std()))\n",
    "## Fit the model\n",
    "model.fit(X,Y)\n",
    "print '\\n print intercept and coefficients'\n",
    "print model.intercept_\n",
    "print model.coef_\n",
    "# pair the feature names with the coefficients\n",
    "print '\\n(feature, coefficients)'\n",
    "print zip(feature_cols, model.coef_)\n",
    "# Linear qu. of the model\n",
    "\n",
    "print (\"\\n Predicted Target = %.2f +(%.2f)X1 +(%.2f)X2 +(%.2f)X3 +(%.2f)X4+(%.2f)X4 \"\n",
    "       % (model.intercept_, model.coef_[0], model.coef_[1],model.coef_[2],model.coef_[3],\n",
    "       model.coef_[4]))\n",
    "print (\"\\n Predicted Target = %.2f +(%.2f)%s +(%.2f)%s +(%.2f)%s +(%.2f)%s+(%.2f)%s\"\n",
    "       % (model.intercept_, model.coef_[0], feature_cols[0], model.coef_[1], feature_cols[1],\n",
    "          model.coef_[2], feature_cols[2],model.coef_[3], feature_cols[3],\n",
    "       model.coef_[4], feature_cols[4]))"
   ]
  },
  {
   "cell_type": "markdown",
   "metadata": {},
   "source": [
    "To be more precise these valrible is not the input feature as descripe on the dataset, those varibles in scaled virsion on the orginal onces. So, to be more correct I should assign to them another varibles but for easy to unserstand I kept them as they were."
   ]
  },
  {
   "cell_type": "markdown",
   "metadata": {},
   "source": [
    "## Coefficients Of Determination {Calculating R^2}\n",
    "\n",
    "R^2, Close to one is better"
   ]
  },
  {
   "cell_type": "code",
   "execution_count": 81,
   "metadata": {
    "collapsed": false
   },
   "outputs": [
    {
     "name": "stdout",
     "output_type": "stream",
     "text": [
      "R-squared =  0.808592323352\n"
     ]
    }
   ],
   "source": [
    "predicted = cross_val_predict(model, X, Y, cv=kfold)\n",
    "r_squared = r2_score(Y, predicted, multioutput='variance_weighted')\n",
    "print 'R-squared = ',r_squared"
   ]
  },
  {
   "cell_type": "markdown",
   "metadata": {},
   "source": [
    "## Residual Plot"
   ]
  },
  {
   "cell_type": "code",
   "execution_count": 82,
   "metadata": {
    "collapsed": false
   },
   "outputs": [
    {
     "data": {
      "application/pdf": "[encoded data removed]",
      "image/png": "[encoded data removed]",
      "text/plain": [
       "<matplotlib.figure.Figure at 0x7f329071c3d0>"
      ]
     },
     "metadata": {},
     "output_type": "display_data"
    }
   ],
   "source": [
    "predicted = cross_val_predict(model, X, Y, cv=kfold)\n",
    "fig, ax = plt.subplots()\n",
    "ax.scatter(Y, predicted)\n",
    "ax.plot([Y.min(), Y.max()], [Y.min(), Y.max()], 'k--', lw=4)\n",
    "ax.set_xlabel('Measured')\n",
    "ax.set_ylabel('Predicted')\n",
    "plt.show()"
   ]
  },
  {
   "cell_type": "code",
   "execution_count": 83,
   "metadata": {
    "collapsed": false
   },
   "outputs": [
    {
     "data": {
      "text/html": [
       "\n",
       "\n",
       "    <div class=\"bk-root\">\n",
       "        <div class=\"plotdiv\" id=\"23ad08b2-5a40-40f0-8c05-ceb4c94e2844\"></div>\n",
       "    </div>\n",
       "<script type=\"text/javascript\">\n",
       "  \n",
       "  (function(global) {\n",
       "    function now() {\n",
       "      return new Date();\n",
       "    }\n",
       "  \n",
       "    var force = \"\";\n",
       "  \n",
       "    if (typeof (window._bokeh_onload_callbacks) === \"undefined\" || force !== \"\") {\n",
       "      window._bokeh_onload_callbacks = [];\n",
       "      window._bokeh_is_loading = undefined;\n",
       "    }\n",
       "  \n",
       "  \n",
       "    \n",
       "    if (typeof (window._bokeh_timeout) === \"undefined\" || force !== \"\") {\n",
       "      window._bokeh_timeout = Date.now() + 0;\n",
       "      window._bokeh_failed_load = false;\n",
       "    }\n",
       "  \n",
       "    var NB_LOAD_WARNING = {'data': {'text/html':\n",
       "       \"<div style='background-color: #fdd'>\\n\"+\n",
       "       \"<p>\\n\"+\n",
       "       \"BokehJS does not appear to have successfully loaded. If loading BokehJS from CDN, this \\n\"+\n",
       "       \"may be due to a slow or bad network connection. Possible fixes:\\n\"+\n",
       "       \"</p>\\n\"+\n",
       "       \"<ul>\\n\"+\n",
       "       \"<li>re-rerun `output_notebook()` to attempt to load from CDN again, or</li>\\n\"+\n",
       "       \"<li>use INLINE resources instead, as so:</li>\\n\"+\n",
       "       \"</ul>\\n\"+\n",
       "       \"<code>\\n\"+\n",
       "       \"from bokeh.resources import INLINE\\n\"+\n",
       "       \"output_notebook(resources=INLINE)\\n\"+\n",
       "       \"</code>\\n\"+\n",
       "       \"</div>\"}};\n",
       "  \n",
       "    function display_loaded() {\n",
       "      if (window.Bokeh !== undefined) {\n",
       "        Bokeh.$(\"#23ad08b2-5a40-40f0-8c05-ceb4c94e2844\").text(\"BokehJS successfully loaded.\");\n",
       "      } else if (Date.now() < window._bokeh_timeout) {\n",
       "        setTimeout(display_loaded, 100)\n",
       "      }\n",
       "    }\n",
       "  \n",
       "    function run_callbacks() {\n",
       "      window._bokeh_onload_callbacks.forEach(function(callback) { callback() });\n",
       "      delete window._bokeh_onload_callbacks\n",
       "      console.info(\"Bokeh: all callbacks have finished\");\n",
       "    }\n",
       "  \n",
       "    function load_libs(js_urls, callback) {\n",
       "      window._bokeh_onload_callbacks.push(callback);\n",
       "      if (window._bokeh_is_loading > 0) {\n",
       "        console.log(\"Bokeh: BokehJS is being loaded, scheduling callback at\", now());\n",
       "        return null;\n",
       "      }\n",
       "      if (js_urls == null || js_urls.length === 0) {\n",
       "        run_callbacks();\n",
       "        return null;\n",
       "      }\n",
       "      console.log(\"Bokeh: BokehJS not loaded, scheduling load and callback at\", now());\n",
       "      window._bokeh_is_loading = js_urls.length;\n",
       "      for (var i = 0; i < js_urls.length; i++) {\n",
       "        var url = js_urls[i];\n",
       "        var s = document.createElement('script');\n",
       "        s.src = url;\n",
       "        s.async = false;\n",
       "        s.onreadystatechange = s.onload = function() {\n",
       "          window._bokeh_is_loading--;\n",
       "          if (window._bokeh_is_loading === 0) {\n",
       "            console.log(\"Bokeh: all BokehJS libraries loaded\");\n",
       "            run_callbacks()\n",
       "          }\n",
       "        };\n",
       "        s.onerror = function() {\n",
       "          console.warn(\"failed to load library \" + url);\n",
       "        };\n",
       "        console.log(\"Bokeh: injecting script tag for BokehJS library: \", url);\n",
       "        document.getElementsByTagName(\"head\")[0].appendChild(s);\n",
       "      }\n",
       "    };var element = document.getElementById(\"23ad08b2-5a40-40f0-8c05-ceb4c94e2844\");\n",
       "    if (element == null) {\n",
       "      console.log(\"Bokeh: ERROR: autoload.js configured with elementid '23ad08b2-5a40-40f0-8c05-ceb4c94e2844' but no matching script tag was found. \")\n",
       "      return false;\n",
       "    }\n",
       "  \n",
       "    var js_urls = [];\n",
       "  \n",
       "    var inline_js = [\n",
       "      function(Bokeh) {\n",
       "        Bokeh.$(function() {\n",
       "            var docs_json = {\"4908901c-ac97-49cc-a610-929fd3e06f81\":{\"roots\":{\"references\":[{\"attributes\":{\"plot\":{\"id\":\"bafb86a0-011b-4349-864c-b296adad96d6\",\"subtype\":\"Figure\",\"type\":\"Plot\"}},\"id\":\"9d5c31dd-4eba-495e-97c8-419c3dac5b2c\",\"type\":\"UndoTool\"},{\"attributes\":{\"fill_alpha\":{\"value\":0.5},\"fill_color\":{\"value\":\"lightgrey\"},\"level\":\"overlay\",\"line_alpha\":{\"value\":1.0},\"line_color\":{\"value\":\"black\"},\"line_dash\":[4,4],\"line_width\":{\"value\":2},\"plot\":null,\"xs_units\":\"screen\",\"ys_units\":\"screen\"},\"id\":\"fa1f34eb-750d-4ea5-83c6-514e9430b9c4\",\"type\":\"PolyAnnotation\"},{\"attributes\":{\"plot\":{\"id\":\"bafb86a0-011b-4349-864c-b296adad96d6\",\"subtype\":\"Figure\",\"type\":\"Plot\"}},\"id\":\"c433245b-c405-4141-bab7-a5100a2183b5\",\"type\":\"SaveTool\"},{\"attributes\":{},\"id\":\"a871ac1a-a6bc-4c6c-9427-219710ecd27d\",\"type\":\"BasicTicker\"},{\"attributes\":{\"plot\":{\"id\":\"bafb86a0-011b-4349-864c-b296adad96d6\",\"subtype\":\"Figure\",\"type\":\"Plot\"},\"ticker\":{\"id\":\"361dac4c-c522-44df-b284-0a6ca7059c78\",\"type\":\"BasicTicker\"}},\"id\":\"3432491e-509e-4fe3-af14-1c8f05a01e81\",\"type\":\"Grid\"},{\"attributes\":{\"align\":\"center\",\"plot\":null,\"text\":null},\"id\":\"410e657b-b83f-4c3f-8b10-e30079c67628\",\"type\":\"Title\"},{\"attributes\":{\"line_alpha\":{\"value\":0.1},\"line_color\":{\"value\":\"#1f77b4\"},\"line_dash\":[4,4],\"line_width\":{\"value\":2},\"x\":{\"field\":\"x\"},\"y\":{\"field\":\"y\"}},\"id\":\"f5fd53d9-2e33-4520-9516-973fce017fd8\",\"type\":\"Line\"},{\"attributes\":{\"callback\":null,\"column_names\":[\"y\",\"x\"],\"data\":{\"x\":[9.0,46.6],\"y\":[9.0,46.6]}},\"id\":\"455b80f9-f360-47cf-b2d9-24d66fa676a1\",\"type\":\"ColumnDataSource\"},{\"attributes\":{\"plot\":{\"id\":\"bafb86a0-011b-4349-864c-b296adad96d6\",\"subtype\":\"Figure\",\"type\":\"Plot\"}},\"id\":\"c371886b-f533-4304-81f2-6aef0e806c79\",\"type\":\"WheelZoomTool\"},{\"attributes\":{\"callback\":null},\"id\":\"c716b859-ad1c-4492-a168-2ceb379031cf\",\"type\":\"DataRange1d\"},{\"attributes\":{\"callback\":null,\"column_names\":[\"x\",\"y\"],\"data\":{\"x\":[15.0,27.0,34.3,26.0,31.6,33.8,29.0,18.1,27.2,38.0,26.0,14.0,22.0,31.0,36.4,17.6,17.7,28.0,20.8,14.0,20.2,32.8,22.3,28.0,37.0,27.0,23.2,13.0,15.0,22.0,24.0,29.0,13.0,31.8,23.0,25.5,29.9,13.0,17.5,46.6,15.5,32.9,14.0,25.0,19.4,15.0,32.4,31.5,27.0,19.8,17.0,33.5,21.0,23.0,38.1,44.0,40.8,21.0,29.0,17.5,28.0,26.0,26.0,11.0,37.7,24.2,16.0,16.0,30.0,19.0,27.0,19.0,16.0,16.0,20.3,21.0,33.5,23.0,21.5,16.0,19.0,37.0,15.0,16.0,26.0,18.0,13.0,21.0,29.0,22.0,33.0,22.0,16.0,36.0,20.0,22.0,31.3,14.5,29.8,13.0,13.0,36.0,20.5,25.0,27.0,33.0,16.5,20.6,30.0,43.4,34.7,11.0,18.0,13.0,16.0,19.0,23.0,25.5,14.0,24.5,30.0,25.8,38.0,28.8,26.6,17.0,32.0,18.1,11.0,21.0,36.0,13.0,30.0,31.0,14.0,18.0,13.0,21.6,28.0,23.8,14.0,27.0,20.2,26.0,39.4,19.9,19.0,14.0,23.6,13.0,38.0,30.5,18.5,17.0,12.0,16.0,28.0,15.5,32.0,24.0,25.1,16.0,13.0,24.0,22.0,24.0,15.0,19.0,18.0,27.2,14.0,21.0,44.3,28.0,31.5,19.2,14.0,30.5,29.8,36.1,26.8,26.0,20.5,32.1,16.0,17.0,20.0,22.0,25.0,23.9,31.0,39.0,28.0,34.5,22.0,20.6,14.0,25.4,14.0,30.0,19.0,36.0,25.0,14.0,21.1,28.0,19.0,19.1,24.3,44.6,20.0,17.0,13.0,34.2,26.0,17.5,26.0,13.0,18.0,18.5,36.0,16.0,38.0,23.0,20.5,13.0,28.0,12.0,34.1,20.0,12.0,28.4,18.0,20.0,29.5,19.0,26.0,26.0,25.0,32.0,33.7,28.0,19.2,29.5,27.0,15.0,39.1,26.6,13.0,23.0,27.5,20.0,19.2,24.0,32.2,19.4,33.0,12.0,13.0,17.6,23.9,34.4,14.0,31.0,35.1,15.0,15.5,9.0,25.0,18.0,31.0,43.1,17.5,25.0,25.0,19.0,26.0,31.0,18.2,30.7,24.0,17.0,27.0,23.0,18.0,27.2,35.0,29.0,21.5,15.0,17.5,15.0,32.7,10.0,20.0,32.4,34.0,18.0,32.0,14.0,24.0,26.4,14.0,13.0,13.0,18.5,21.5,16.2,16.5,15.0,28.1,29.0,20.2,27.9,22.0,29.0,19.0,25.0],\"y\":[12.549991914871862,27.373291053472787,31.289427745917635,28.627937903463394,31.513727783067413,33.481808018072016,29.7622758072849,21.59486069387017,26.921078447472865,31.51036715002938,25.558060601745943,9.922083666892568,26.54795543765225,31.3667772114934,27.594802518058394,20.192772820540107,20.78226182359607,25.267434594478235,23.92271669743781,11.542687232197899,24.35809775439654,33.04795146347852,25.579833441868146,26.376323358636434,35.527505113513946,27.61891362657925,25.279321079192243,15.175311030603975,15.31908016049332,22.75573709164704,21.99617346453652,28.490912919132644,17.369788779528875,33.21887997709955,22.783072385437837,24.577272746318116,30.37553413027269,12.26006788454156,17.595982367545993,33.128439004968,16.141835500553047,29.935542966285748,13.70154753900179,23.032920150726795,19.521254501776195,22.172935373981424,32.444228352934246,31.569580692625596,27.9774099422499,25.48274282458744,14.929662072385018,28.323825366153496,21.227676376643565,21.08618887536231,34.20311071797999,34.76073430784544,33.40994152009053,20.747849318973092,30.08848416550739,20.2595875338671,23.067718012747616,25.40896945471495,26.79748077022967,9.04184992955614,34.597948587121124,28.21535732793799,12.723256487720235,12.21436102410279,26.698331673948918,22.006909380990045,27.975398011598376,25.024155190963278,15.917439607765436,13.942954645538041,25.881439399118484,22.178293804132977,26.7470717845104,20.525577861189255,23.309907607496836,16.891275511905732,20.698268745174666,35.75292602504595,18.567975653999774,16.201655756279486,29.154846947374253,19.93926098838046,13.730512651975754,24.293257043716608,29.203979730568843,21.123946847264815,32.60513746785938,27.914550410457615,15.564337478379047,31.947438258566095,27.873858643624118,23.258328392138406,31.13604162140966,15.304375280671652,33.11923226333809,12.737153054043732,11.149002195895338,31.993629928949037,23.643245476585108,26.975070847871756,26.022746025850125,31.525085340593332,19.2263388553773,22.581324022581097,25.655976317692264,31.81477362060278,30.20785185353111,9.624950586092515,14.808092289384213,18.06180870985638,11.983275129441664,25.022069303196663,27.722465088306862,27.08747731037939,12.134162461985243,24.715462238568172,27.64057319117948,28.246601446989942,27.81597523609374,25.71699412180017,28.476242510956688,16.619801733759765,31.012721660162345,22.20105757667693,10.320790026271109,20.271440240668152,34.04133450583235,5.901519220813565,32.02830853273595,30.357658963536927,12.769171233943528,27.303541703403308,20.544073107033938,25.77695037337293,27.697903976873842,25.239343058132075,12.109171467204451,25.42071346118905,24.194464953133846,25.8163111335505,32.574596348414445,21.63295563564912,25.198895175952096,19.43783199613687,25.502936905638762,16.13280347712252,35.492023020825144,28.679892879670625,21.457923135399003,17.092395877478488,9.098430054202591,16.830431016326415,23.879505325806498,16.428500886109305,30.30166897997622,26.50906638100891,25.476011395515354,15.13661071616265,16.685312903991623,27.8321040411534,27.05180359897415,26.94523891030264,13.447504316936875,20.66425155775113,19.526874383455247,30.961747354558092,13.085418743067638,24.49705188720876,33.0021381183645,30.298567145736605,30.675061005899835,21.26035189732762,11.431694740853052,28.441377067544792,30.255459881311122,33.716904429205485,24.98861336126039,26.89513279916422,20.65223857497029,29.96679510308547,14.862190011081006,23.326809200211134,20.71637881488059,24.204510302164465,24.80741524721546,23.99352289443979,36.005836062849426,32.19918704001853,26.45857758334578,31.21132718834569,22.68953252175955,21.53725154358242,12.482510466643477,24.55293069667537,15.110083368177104,28.416937268196513,17.426231897766158,34.164830063719975,24.311105543673076,11.746605457390343,29.3388390429677,24.35177603909405,24.01978399086694,24.567634713305782,26.888166998966554,33.77302305689687,22.597149397556507,17.719309209762887,11.519326435677076,27.85000980043606,23.993180061672664,14.608423292848592,21.915261865703396,8.555997196233914,13.980347458469858,18.82936157963899,33.716081828752955,19.356738997804126,35.248181325952054,23.437136678074786,21.540961409047462,10.085449302454489,30.01707473101553,8.884337689984083,34.7396229401686,22.235378007094607,10.89769341698729,26.835932907505846,18.208660397661497,22.265888535669983,31.773210957476582,19.686029643519724,26.27610996898221,25.944223014551696,23.929852450231706,31.43326892041564,33.14367612953783,29.657810522267983,21.241219688904863,29.76906928436296,27.609358933787902,17.270575874607722,36.21128440392238,23.1818473326116,11.573814833268468,24.881875617931144,29.04567717768093,23.56480194305403,20.953976127514444,26.448530096971435,32.25481586564426,23.510189606867083,31.794432189398584,6.851133359188456,10.390731583850041,24.023517221430605,30.03128978151678,31.668597141871764,11.33816526391518,28.862616235425165,36.0738468971093,19.42094381402721,19.087663382729666,8.126045503084432,28.62820785668444,17.955484864087147,27.64036847346586,32.3242121099769,22.81170998194759,25.43585120405609,24.845543903423724,21.742065392113044,26.8861814261446,29.305834295464642,20.247489250604858,26.93101306373448,27.01876587312505,20.01410141915573,29.511373599285,24.336443788287344,20.67906643441082,29.307395019725163,29.568417627035302,29.420576713874652,26.7028232016286,13.625690028492066,17.412726394055667,13.618361201751954,27.539165794083623,8.59476994115453,19.735558663421813,32.590630740770564,34.34871312578933,21.45943358258082,35.60396747713094,9.852490409303337,22.865036940175557,26.80154842136777,13.916399856430258,11.097771737675291,14.176165385407003,19.087319156562867,25.899026474095866,22.6345494257414,18.92317122341989,11.948613014454615,27.402823102019262,29.15737695149925,20.098124886368463,26.113409868919117,20.128069898640994,28.585611418295244,16.84524629362373,27.520133047237206]}},\"id\":\"9a014ae4-e80f-4845-b3a0-54e9dee8682c\",\"type\":\"ColumnDataSource\"},{\"attributes\":{\"bottom_units\":\"screen\",\"fill_alpha\":{\"value\":0.5},\"fill_color\":{\"value\":\"lightgrey\"},\"left_units\":\"screen\",\"level\":\"overlay\",\"line_alpha\":{\"value\":1.0},\"line_color\":{\"value\":\"black\"},\"line_dash\":[4,4],\"line_width\":{\"value\":2},\"plot\":null,\"render_mode\":\"css\",\"right_units\":\"screen\",\"top_units\":\"screen\"},\"id\":\"415bfa50-2be9-4bee-9131-5c8b81acc965\",\"type\":\"BoxAnnotation\"},{\"attributes\":{\"fill_alpha\":{\"value\":0.1},\"fill_color\":{\"value\":\"#1f77b4\"},\"line_alpha\":{\"value\":0.1},\"line_color\":{\"value\":\"#1f77b4\"},\"line_width\":{\"value\":3},\"x\":{\"field\":\"x\"},\"y\":{\"field\":\"y\"}},\"id\":\"1aab2e2f-aa7f-4230-9f0e-93d0639ca077\",\"type\":\"Circle\"},{\"attributes\":{},\"id\":\"d1b7d6b0-ea52-48d6-9b25-cf0364894d25\",\"type\":\"ToolEvents\"},{\"attributes\":{\"callback\":null,\"overlay\":{\"id\":\"ba2a2f3a-161f-4d5a-8759-f27642b1ab1b\",\"type\":\"PolyAnnotation\"},\"plot\":{\"id\":\"bafb86a0-011b-4349-864c-b296adad96d6\",\"subtype\":\"Figure\",\"type\":\"Plot\"}},\"id\":\"4dd0b808-ae3d-4d21-932c-94521cbe75f8\",\"type\":\"LassoSelectTool\"},{\"attributes\":{\"callback\":null,\"overlay\":{\"id\":\"415bfa50-2be9-4bee-9131-5c8b81acc965\",\"type\":\"BoxAnnotation\"},\"plot\":{\"id\":\"bafb86a0-011b-4349-864c-b296adad96d6\",\"subtype\":\"Figure\",\"type\":\"Plot\"},\"renderers\":[{\"id\":\"111fc214-42cb-4565-a6e7-3fa45690e7ea\",\"type\":\"GlyphRenderer\"},{\"id\":\"c17781b9-55da-4423-8f05-b5cc314abf5a\",\"type\":\"GlyphRenderer\"}]},\"id\":\"fe76450d-0494-46a4-a90c-e8366cfa0940\",\"type\":\"BoxSelectTool\"},{\"attributes\":{\"axis_label\":\"Measured\",\"axis_label_text_color\":{\"value\":\"#aa6666\"},\"formatter\":{\"id\":\"4198152d-177f-4815-be57-5f32c5a26937\",\"type\":\"BasicTickFormatter\"},\"major_tick_line_color\":{\"value\":\"firebrick\"},\"major_tick_line_width\":{\"value\":3},\"minor_tick_line_color\":{\"value\":\"orange\"},\"plot\":{\"id\":\"bafb86a0-011b-4349-864c-b296adad96d6\",\"subtype\":\"Figure\",\"type\":\"Plot\"},\"ticker\":{\"id\":\"361dac4c-c522-44df-b284-0a6ca7059c78\",\"type\":\"BasicTicker\"}},\"id\":\"cd437336-4eed-4e1b-889d-cb03e5dc3471\",\"type\":\"LinearAxis\"},{\"attributes\":{\"fill_color\":{\"value\":\"#80B1D3\"},\"line_color\":{\"value\":\"#80B1D3\"},\"line_width\":{\"value\":3},\"x\":{\"field\":\"x\"},\"y\":{\"field\":\"y\"}},\"id\":\"677168f1-4833-49fb-9bf4-c9514b4dfea5\",\"type\":\"Circle\"},{\"attributes\":{\"plot\":{\"id\":\"bafb86a0-011b-4349-864c-b296adad96d6\",\"subtype\":\"Figure\",\"type\":\"Plot\"}},\"id\":\"a7104b28-37f2-418f-b0b2-7aa47037bcfb\",\"type\":\"PanTool\"},{\"attributes\":{\"plot\":{\"id\":\"bafb86a0-011b-4349-864c-b296adad96d6\",\"subtype\":\"Figure\",\"type\":\"Plot\"}},\"id\":\"0e78cca6-01b1-4631-9bd5-2e2531f020b4\",\"type\":\"ResizeTool\"},{\"attributes\":{\"data_source\":{\"id\":\"9a014ae4-e80f-4845-b3a0-54e9dee8682c\",\"type\":\"ColumnDataSource\"},\"glyph\":{\"id\":\"677168f1-4833-49fb-9bf4-c9514b4dfea5\",\"type\":\"Circle\"},\"hover_glyph\":null,\"nonselection_glyph\":{\"id\":\"1aab2e2f-aa7f-4230-9f0e-93d0639ca077\",\"type\":\"Circle\"},\"selection_glyph\":null},\"id\":\"111fc214-42cb-4565-a6e7-3fa45690e7ea\",\"type\":\"GlyphRenderer\"},{\"attributes\":{\"overlay\":{\"id\":\"fa1f34eb-750d-4ea5-83c6-514e9430b9c4\",\"type\":\"PolyAnnotation\"},\"plot\":{\"id\":\"bafb86a0-011b-4349-864c-b296adad96d6\",\"subtype\":\"Figure\",\"type\":\"Plot\"}},\"id\":\"f5e2e521-6b03-4ab1-9150-614ae20d4e20\",\"type\":\"PolySelectTool\"},{\"attributes\":{\"dimension\":1,\"plot\":{\"id\":\"bafb86a0-011b-4349-864c-b296adad96d6\",\"subtype\":\"Figure\",\"type\":\"Plot\"},\"ticker\":{\"id\":\"a871ac1a-a6bc-4c6c-9427-219710ecd27d\",\"type\":\"BasicTicker\"}},\"id\":\"081aa134-fd9e-4a6b-8f04-1e5e50d0582a\",\"type\":\"Grid\"},{\"attributes\":{\"overlay\":{\"id\":\"7b12fed5-fa12-4050-8ae3-b44e558f6688\",\"type\":\"BoxAnnotation\"},\"plot\":{\"id\":\"bafb86a0-011b-4349-864c-b296adad96d6\",\"subtype\":\"Figure\",\"type\":\"Plot\"}},\"id\":\"32920ccd-9230-4c7f-a9e8-a26cb7f49419\",\"type\":\"BoxZoomTool\"},{\"attributes\":{\"bottom_units\":\"screen\",\"fill_alpha\":{\"value\":0.5},\"fill_color\":{\"value\":\"lightgrey\"},\"left_units\":\"screen\",\"level\":\"overlay\",\"line_alpha\":{\"value\":1.0},\"line_color\":{\"value\":\"black\"},\"line_dash\":[4,4],\"line_width\":{\"value\":2},\"plot\":null,\"render_mode\":\"css\",\"right_units\":\"screen\",\"top_units\":\"screen\"},\"id\":\"7b12fed5-fa12-4050-8ae3-b44e558f6688\",\"type\":\"BoxAnnotation\"},{\"attributes\":{\"plot\":{\"id\":\"bafb86a0-011b-4349-864c-b296adad96d6\",\"subtype\":\"Figure\",\"type\":\"Plot\"}},\"id\":\"8f2df65a-b8b6-46ca-9130-7629f8ce26f2\",\"type\":\"ResetTool\"},{\"attributes\":{},\"id\":\"91efad1d-7100-4420-a61d-b80b8d4aa755\",\"type\":\"BasicTickFormatter\"},{\"attributes\":{},\"id\":\"361dac4c-c522-44df-b284-0a6ca7059c78\",\"type\":\"BasicTicker\"},{\"attributes\":{\"active_drag\":\"auto\",\"active_scroll\":\"auto\",\"active_tap\":\"auto\",\"tools\":[{\"id\":\"32920ccd-9230-4c7f-a9e8-a26cb7f49419\",\"type\":\"BoxZoomTool\"},{\"id\":\"fe76450d-0494-46a4-a90c-e8366cfa0940\",\"type\":\"BoxSelectTool\"},{\"id\":\"61f52206-25d8-4e2f-8488-9fa80a385593\",\"type\":\"CrosshairTool\"},{\"id\":\"0e78cca6-01b1-4631-9bd5-2e2531f020b4\",\"type\":\"ResizeTool\"},{\"id\":\"8f2df65a-b8b6-46ca-9130-7629f8ce26f2\",\"type\":\"ResetTool\"},{\"id\":\"4dd0b808-ae3d-4d21-932c-94521cbe75f8\",\"type\":\"LassoSelectTool\"},{\"id\":\"a7104b28-37f2-418f-b0b2-7aa47037bcfb\",\"type\":\"PanTool\"},{\"id\":\"c433245b-c405-4141-bab7-a5100a2183b5\",\"type\":\"SaveTool\"},{\"id\":\"f5e2e521-6b03-4ab1-9150-614ae20d4e20\",\"type\":\"PolySelectTool\"},{\"id\":\"260c0dd1-9d27-442c-a1e8-eb50897f3c9b\",\"type\":\"TapTool\"},{\"id\":\"c371886b-f533-4304-81f2-6aef0e806c79\",\"type\":\"WheelZoomTool\"},{\"id\":\"9d5c31dd-4eba-495e-97c8-419c3dac5b2c\",\"type\":\"UndoTool\"}]},\"id\":\"ddb6354f-03a8-4216-a7a6-970aec8f9174\",\"type\":\"Toolbar\"},{\"attributes\":{\"data_source\":{\"id\":\"455b80f9-f360-47cf-b2d9-24d66fa676a1\",\"type\":\"ColumnDataSource\"},\"glyph\":{\"id\":\"ae5530fd-d0ab-4bd9-af91-ee75be42c895\",\"type\":\"Line\"},\"hover_glyph\":null,\"nonselection_glyph\":{\"id\":\"f5fd53d9-2e33-4520-9516-973fce017fd8\",\"type\":\"Line\"},\"selection_glyph\":null},\"id\":\"c17781b9-55da-4423-8f05-b5cc314abf5a\",\"type\":\"GlyphRenderer\"},{\"attributes\":{\"background_fill_alpha\":{\"value\":0.5},\"background_fill_color\":{\"value\":\"beige\"},\"below\":[{\"id\":\"cd437336-4eed-4e1b-889d-cb03e5dc3471\",\"type\":\"LinearAxis\"}],\"left\":[{\"id\":\"46fa7568-b3d6-4b2f-99bc-a27082608892\",\"type\":\"LinearAxis\"}],\"plot_height\":500,\"plot_width\":500,\"renderers\":[{\"id\":\"cd437336-4eed-4e1b-889d-cb03e5dc3471\",\"type\":\"LinearAxis\"},{\"id\":\"3432491e-509e-4fe3-af14-1c8f05a01e81\",\"type\":\"Grid\"},{\"id\":\"46fa7568-b3d6-4b2f-99bc-a27082608892\",\"type\":\"LinearAxis\"},{\"id\":\"081aa134-fd9e-4a6b-8f04-1e5e50d0582a\",\"type\":\"Grid\"},{\"id\":\"7b12fed5-fa12-4050-8ae3-b44e558f6688\",\"type\":\"BoxAnnotation\"},{\"id\":\"415bfa50-2be9-4bee-9131-5c8b81acc965\",\"type\":\"BoxAnnotation\"},{\"id\":\"ba2a2f3a-161f-4d5a-8759-f27642b1ab1b\",\"type\":\"PolyAnnotation\"},{\"id\":\"fa1f34eb-750d-4ea5-83c6-514e9430b9c4\",\"type\":\"PolyAnnotation\"},{\"id\":\"111fc214-42cb-4565-a6e7-3fa45690e7ea\",\"type\":\"GlyphRenderer\"},{\"id\":\"c17781b9-55da-4423-8f05-b5cc314abf5a\",\"type\":\"GlyphRenderer\"}],\"title\":{\"id\":\"410e657b-b83f-4c3f-8b10-e30079c67628\",\"type\":\"Title\"},\"tool_events\":{\"id\":\"d1b7d6b0-ea52-48d6-9b25-cf0364894d25\",\"type\":\"ToolEvents\"},\"toolbar\":{\"id\":\"ddb6354f-03a8-4216-a7a6-970aec8f9174\",\"type\":\"Toolbar\"},\"x_range\":{\"id\":\"c716b859-ad1c-4492-a168-2ceb379031cf\",\"type\":\"DataRange1d\"},\"y_range\":{\"id\":\"9d1a9442-73a5-4c0c-95eb-6e46af49ee2c\",\"type\":\"DataRange1d\"}},\"id\":\"bafb86a0-011b-4349-864c-b296adad96d6\",\"subtype\":\"Figure\",\"type\":\"Plot\"},{\"attributes\":{\"fill_alpha\":{\"value\":0.5},\"fill_color\":{\"value\":\"lightgrey\"},\"level\":\"overlay\",\"line_alpha\":{\"value\":1.0},\"line_color\":{\"value\":\"black\"},\"line_dash\":[4,4],\"line_width\":{\"value\":2},\"plot\":null,\"xs_units\":\"screen\",\"ys_units\":\"screen\"},\"id\":\"ba2a2f3a-161f-4d5a-8759-f27642b1ab1b\",\"type\":\"PolyAnnotation\"},{\"attributes\":{\"line_dash\":[4,4],\"line_width\":{\"value\":2},\"x\":{\"field\":\"x\"},\"y\":{\"field\":\"y\"}},\"id\":\"ae5530fd-d0ab-4bd9-af91-ee75be42c895\",\"type\":\"Line\"},{\"attributes\":{\"callback\":null,\"plot\":{\"id\":\"bafb86a0-011b-4349-864c-b296adad96d6\",\"subtype\":\"Figure\",\"type\":\"Plot\"}},\"id\":\"260c0dd1-9d27-442c-a1e8-eb50897f3c9b\",\"type\":\"TapTool\"},{\"attributes\":{\"plot\":{\"id\":\"bafb86a0-011b-4349-864c-b296adad96d6\",\"subtype\":\"Figure\",\"type\":\"Plot\"}},\"id\":\"61f52206-25d8-4e2f-8488-9fa80a385593\",\"type\":\"CrosshairTool\"},{\"attributes\":{\"axis_label\":\"Predicted\",\"axis_label_text_color\":{\"value\":\"#aa6666\"},\"formatter\":{\"id\":\"91efad1d-7100-4420-a61d-b80b8d4aa755\",\"type\":\"BasicTickFormatter\"},\"plot\":{\"id\":\"bafb86a0-011b-4349-864c-b296adad96d6\",\"subtype\":\"Figure\",\"type\":\"Plot\"},\"ticker\":{\"id\":\"a871ac1a-a6bc-4c6c-9427-219710ecd27d\",\"type\":\"BasicTicker\"}},\"id\":\"46fa7568-b3d6-4b2f-99bc-a27082608892\",\"type\":\"LinearAxis\"},{\"attributes\":{\"callback\":null},\"id\":\"9d1a9442-73a5-4c0c-95eb-6e46af49ee2c\",\"type\":\"DataRange1d\"},{\"attributes\":{},\"id\":\"4198152d-177f-4815-be57-5f32c5a26937\",\"type\":\"BasicTickFormatter\"}],\"root_ids\":[\"bafb86a0-011b-4349-864c-b296adad96d6\"]},\"title\":\"Bokeh Application\",\"version\":\"0.12.2\"}};\n",
       "            var render_items = [{\"docid\":\"4908901c-ac97-49cc-a610-929fd3e06f81\",\"elementid\":\"23ad08b2-5a40-40f0-8c05-ceb4c94e2844\",\"modelid\":\"bafb86a0-011b-4349-864c-b296adad96d6\"}];\n",
       "            \n",
       "            Bokeh.embed.embed_items(docs_json, render_items);\n",
       "        });\n",
       "      },\n",
       "      function(Bokeh) {\n",
       "      }\n",
       "    ];\n",
       "  \n",
       "    function run_inline_js() {\n",
       "      \n",
       "      if ((window.Bokeh !== undefined) || (force === \"1\")) {\n",
       "        for (var i = 0; i < inline_js.length; i++) {\n",
       "          inline_js[i](window.Bokeh);\n",
       "        }if (force === \"1\") {\n",
       "          display_loaded();\n",
       "        }} else if (Date.now() < window._bokeh_timeout) {\n",
       "        setTimeout(run_inline_js, 100);\n",
       "      } else if (!window._bokeh_failed_load) {\n",
       "        console.log(\"Bokeh: BokehJS failed to load within specified timeout.\");\n",
       "        window._bokeh_failed_load = true;\n",
       "      } else if (!force) {\n",
       "        var cell = $(\"#23ad08b2-5a40-40f0-8c05-ceb4c94e2844\").parents('.cell').data().cell;\n",
       "        cell.output_area.append_execute_result(NB_LOAD_WARNING)\n",
       "      }\n",
       "  \n",
       "    }\n",
       "  \n",
       "    if (window._bokeh_is_loading === 0) {\n",
       "      console.log(\"Bokeh: BokehJS loaded, going straight to plotting\");\n",
       "      run_inline_js();\n",
       "    } else {\n",
       "      load_libs(js_urls, function() {\n",
       "        console.log(\"Bokeh: BokehJS plotting callback run at\", now());\n",
       "        run_inline_js();\n",
       "      });\n",
       "    }\n",
       "  }(this));\n",
       "</script>"
      ]
     },
     "metadata": {},
     "output_type": "display_data"
    }
   ],
   "source": [
    "# Plotining using bokeh\n",
    "#TOOLS = [BoxSelectTool(), HoverTool()]\n",
    "#TOOLS = 'hover,box_zoom,box_select,crosshair,resize,reset,BayesianRidge_select,pan,save,poly_select,tap,wheel_zoom,undo'\n",
    "TOOLS = 'box_zoom,box_select,crosshair,resize,reset,lasso_select,pan,save,poly_select,tap,wheel_zoom,undo'\n",
    "p = figure(plot_width=500, plot_height=500, tools=TOOLS)\n",
    "p.scatter(Y, predicted,x=\"jjj\", marker=\"o\", color=\"#80B1D3\", line_width=3)\n",
    "p.title.align = \"center\"\n",
    "p.xaxis.axis_label = \"Measured\"\n",
    "p.xaxis.axis_label_text_color = \"#aa6666\"\n",
    "#p.xaxis.axis_label_standoff = 30\n",
    "p.xaxis.major_tick_line_color = \"firebrick\"\n",
    "p.xaxis.major_tick_line_width = 3\n",
    "p.xaxis.minor_tick_line_color = \"orange\"\n",
    "p.yaxis.axis_label = \"Predicted\"\n",
    "p.yaxis.axis_label_text_font_style = \"italic\"\n",
    "p.yaxis.axis_label_text_color = \"#aa6666\"\n",
    "p.background_fill_color = \"beige\"\n",
    "p.background_fill_alpha = 0.5\n",
    "#p.line([Y.min(), Y.max()], [Y.min(), Y.max()], line_dash=\"4 4\", line_width=2, color='red')\n",
    "\n",
    "# create a new plot with the toolbar below\n",
    "# line_dash=\"4 4\", line_width=2, color='red'\n",
    "p.line([Y.min(), Y.max()], [Y.min(), Y.max()], line_dash=\"4 4\", line_width=2, line_color=\"black\")\n",
    "show(p)"
   ]
  },
  {
   "cell_type": "code",
   "execution_count": 84,
   "metadata": {
    "collapsed": false
   },
   "outputs": [
    {
     "data": {
      "text/plain": [
       "<matplotlib.text.Text at 0x7f32940f0310>"
      ]
     },
     "execution_count": 84,
     "metadata": {},
     "output_type": "execute_result"
    },
    {
     "data": {
      "application/pdf": "[encoded data removed]",
      "image/png": "[encoded data removed]",
      "text/plain": [
       "<matplotlib.figure.Figure at 0x7f3290618cd0>"
      ]
     },
     "metadata": {},
     "output_type": "display_data"
    }
   ],
   "source": [
    "plt.scatter(predicted, (predicted - Y), c='r', s=30)\n",
    "plt.title(\"Residual plot on the training data\")\n",
    "plt.xlabel(\"Predicted\")\n",
    "plt.ylabel(\"Residuals\")"
   ]
  },
  {
   "cell_type": "code",
   "execution_count": 85,
   "metadata": {
    "collapsed": false
   },
   "outputs": [
    {
     "data": {
      "text/html": [
       "\n",
       "\n",
       "    <div class=\"bk-root\">\n",
       "        <div class=\"plotdiv\" id=\"17eba77f-e739-46f9-b0a2-c80950ef1ef1\"></div>\n",
       "    </div>\n",
       "<script type=\"text/javascript\">\n",
       "  \n",
       "  (function(global) {\n",
       "    function now() {\n",
       "      return new Date();\n",
       "    }\n",
       "  \n",
       "    var force = \"\";\n",
       "  \n",
       "    if (typeof (window._bokeh_onload_callbacks) === \"undefined\" || force !== \"\") {\n",
       "      window._bokeh_onload_callbacks = [];\n",
       "      window._bokeh_is_loading = undefined;\n",
       "    }\n",
       "  \n",
       "  \n",
       "    \n",
       "    if (typeof (window._bokeh_timeout) === \"undefined\" || force !== \"\") {\n",
       "      window._bokeh_timeout = Date.now() + 0;\n",
       "      window._bokeh_failed_load = false;\n",
       "    }\n",
       "  \n",
       "    var NB_LOAD_WARNING = {'data': {'text/html':\n",
       "       \"<div style='background-color: #fdd'>\\n\"+\n",
       "       \"<p>\\n\"+\n",
       "       \"BokehJS does not appear to have successfully loaded. If loading BokehJS from CDN, this \\n\"+\n",
       "       \"may be due to a slow or bad network connection. Possible fixes:\\n\"+\n",
       "       \"</p>\\n\"+\n",
       "       \"<ul>\\n\"+\n",
       "       \"<li>re-rerun `output_notebook()` to attempt to load from CDN again, or</li>\\n\"+\n",
       "       \"<li>use INLINE resources instead, as so:</li>\\n\"+\n",
       "       \"</ul>\\n\"+\n",
       "       \"<code>\\n\"+\n",
       "       \"from bokeh.resources import INLINE\\n\"+\n",
       "       \"output_notebook(resources=INLINE)\\n\"+\n",
       "       \"</code>\\n\"+\n",
       "       \"</div>\"}};\n",
       "  \n",
       "    function display_loaded() {\n",
       "      if (window.Bokeh !== undefined) {\n",
       "        Bokeh.$(\"#17eba77f-e739-46f9-b0a2-c80950ef1ef1\").text(\"BokehJS successfully loaded.\");\n",
       "      } else if (Date.now() < window._bokeh_timeout) {\n",
       "        setTimeout(display_loaded, 100)\n",
       "      }\n",
       "    }\n",
       "  \n",
       "    function run_callbacks() {\n",
       "      window._bokeh_onload_callbacks.forEach(function(callback) { callback() });\n",
       "      delete window._bokeh_onload_callbacks\n",
       "      console.info(\"Bokeh: all callbacks have finished\");\n",
       "    }\n",
       "  \n",
       "    function load_libs(js_urls, callback) {\n",
       "      window._bokeh_onload_callbacks.push(callback);\n",
       "      if (window._bokeh_is_loading > 0) {\n",
       "        console.log(\"Bokeh: BokehJS is being loaded, scheduling callback at\", now());\n",
       "        return null;\n",
       "      }\n",
       "      if (js_urls == null || js_urls.length === 0) {\n",
       "        run_callbacks();\n",
       "        return null;\n",
       "      }\n",
       "      console.log(\"Bokeh: BokehJS not loaded, scheduling load and callback at\", now());\n",
       "      window._bokeh_is_loading = js_urls.length;\n",
       "      for (var i = 0; i < js_urls.length; i++) {\n",
       "        var url = js_urls[i];\n",
       "        var s = document.createElement('script');\n",
       "        s.src = url;\n",
       "        s.async = false;\n",
       "        s.onreadystatechange = s.onload = function() {\n",
       "          window._bokeh_is_loading--;\n",
       "          if (window._bokeh_is_loading === 0) {\n",
       "            console.log(\"Bokeh: all BokehJS libraries loaded\");\n",
       "            run_callbacks()\n",
       "          }\n",
       "        };\n",
       "        s.onerror = function() {\n",
       "          console.warn(\"failed to load library \" + url);\n",
       "        };\n",
       "        console.log(\"Bokeh: injecting script tag for BokehJS library: \", url);\n",
       "        document.getElementsByTagName(\"head\")[0].appendChild(s);\n",
       "      }\n",
       "    };var element = document.getElementById(\"17eba77f-e739-46f9-b0a2-c80950ef1ef1\");\n",
       "    if (element == null) {\n",
       "      console.log(\"Bokeh: ERROR: autoload.js configured with elementid '17eba77f-e739-46f9-b0a2-c80950ef1ef1' but no matching script tag was found. \")\n",
       "      return false;\n",
       "    }\n",
       "  \n",
       "    var js_urls = [];\n",
       "  \n",
       "    var inline_js = [\n",
       "      function(Bokeh) {\n",
       "        Bokeh.$(function() {\n",
       "            var docs_json = {\"c7ddcb4a-1ea5-41fb-b62f-00c5ed23e2f7\":{\"roots\":{\"references\":[{\"attributes\":{\"fill_alpha\":{\"value\":0.1},\"fill_color\":{\"value\":\"#1f77b4\"},\"line_alpha\":{\"value\":0.1},\"line_color\":{\"value\":\"#1f77b4\"},\"line_width\":{\"value\":3},\"x\":{\"field\":\"x\"},\"y\":{\"field\":\"y\"}},\"id\":\"c31df37d-b917-4bc0-87ce-eb9135a11092\",\"type\":\"Circle\"},{\"attributes\":{\"callback\":null,\"plot\":{\"id\":\"e5d23f11-689d-48ff-abb2-f6e32fe01d73\",\"subtype\":\"Figure\",\"type\":\"Plot\"}},\"id\":\"40e0e916-c0ff-44c3-8573-12b8dc8dc312\",\"type\":\"TapTool\"},{\"attributes\":{\"axis_label\":\"Predicted\",\"axis_label_text_color\":{\"value\":\"#aa6666\"},\"formatter\":{\"id\":\"b8afda88-fbbf-48e0-9a64-f5543d3d1fb8\",\"type\":\"BasicTickFormatter\"},\"major_tick_line_color\":{\"value\":\"firebrick\"},\"major_tick_line_width\":{\"value\":3},\"minor_tick_line_color\":{\"value\":\"orange\"},\"plot\":{\"id\":\"e5d23f11-689d-48ff-abb2-f6e32fe01d73\",\"subtype\":\"Figure\",\"type\":\"Plot\"},\"ticker\":{\"id\":\"a482513d-3d05-44d1-b6d5-23c8c61e2f84\",\"type\":\"BasicTicker\"}},\"id\":\"f7aa44ac-62b7-4a11-9430-bb6ec7b85da0\",\"type\":\"LinearAxis\"},{\"attributes\":{\"plot\":{\"id\":\"e5d23f11-689d-48ff-abb2-f6e32fe01d73\",\"subtype\":\"Figure\",\"type\":\"Plot\"}},\"id\":\"2b4efc9f-f088-429f-ad67-0225d113457a\",\"type\":\"ResetTool\"},{\"attributes\":{},\"id\":\"a482513d-3d05-44d1-b6d5-23c8c61e2f84\",\"type\":\"BasicTicker\"},{\"attributes\":{\"callback\":null,\"column_names\":[\"x\",\"y\"],\"data\":{\"x\":[12.549991914871862,27.373291053472787,31.289427745917635,28.627937903463394,31.513727783067413,33.481808018072016,29.7622758072849,21.59486069387017,26.921078447472865,31.51036715002938,25.558060601745943,9.922083666892568,26.54795543765225,31.3667772114934,27.594802518058394,20.192772820540107,20.78226182359607,25.267434594478235,23.92271669743781,11.542687232197899,24.35809775439654,33.04795146347852,25.579833441868146,26.376323358636434,35.527505113513946,27.61891362657925,25.279321079192243,15.175311030603975,15.31908016049332,22.75573709164704,21.99617346453652,28.490912919132644,17.369788779528875,33.21887997709955,22.783072385437837,24.577272746318116,30.37553413027269,12.26006788454156,17.595982367545993,33.128439004968,16.141835500553047,29.935542966285748,13.70154753900179,23.032920150726795,19.521254501776195,22.172935373981424,32.444228352934246,31.569580692625596,27.9774099422499,25.48274282458744,14.929662072385018,28.323825366153496,21.227676376643565,21.08618887536231,34.20311071797999,34.76073430784544,33.40994152009053,20.747849318973092,30.08848416550739,20.2595875338671,23.067718012747616,25.40896945471495,26.79748077022967,9.04184992955614,34.597948587121124,28.21535732793799,12.723256487720235,12.21436102410279,26.698331673948918,22.006909380990045,27.975398011598376,25.024155190963278,15.917439607765436,13.942954645538041,25.881439399118484,22.178293804132977,26.7470717845104,20.525577861189255,23.309907607496836,16.891275511905732,20.698268745174666,35.75292602504595,18.567975653999774,16.201655756279486,29.154846947374253,19.93926098838046,13.730512651975754,24.293257043716608,29.203979730568843,21.123946847264815,32.60513746785938,27.914550410457615,15.564337478379047,31.947438258566095,27.873858643624118,23.258328392138406,31.13604162140966,15.304375280671652,33.11923226333809,12.737153054043732,11.149002195895338,31.993629928949037,23.643245476585108,26.975070847871756,26.022746025850125,31.525085340593332,19.2263388553773,22.581324022581097,25.655976317692264,31.81477362060278,30.20785185353111,9.624950586092515,14.808092289384213,18.06180870985638,11.983275129441664,25.022069303196663,27.722465088306862,27.08747731037939,12.134162461985243,24.715462238568172,27.64057319117948,28.246601446989942,27.81597523609374,25.71699412180017,28.476242510956688,16.619801733759765,31.012721660162345,22.20105757667693,10.320790026271109,20.271440240668152,34.04133450583235,5.901519220813565,32.02830853273595,30.357658963536927,12.769171233943528,27.303541703403308,20.544073107033938,25.77695037337293,27.697903976873842,25.239343058132075,12.109171467204451,25.42071346118905,24.194464953133846,25.8163111335505,32.574596348414445,21.63295563564912,25.198895175952096,19.43783199613687,25.502936905638762,16.13280347712252,35.492023020825144,28.679892879670625,21.457923135399003,17.092395877478488,9.098430054202591,16.830431016326415,23.879505325806498,16.428500886109305,30.30166897997622,26.50906638100891,25.476011395515354,15.13661071616265,16.685312903991623,27.8321040411534,27.05180359897415,26.94523891030264,13.447504316936875,20.66425155775113,19.526874383455247,30.961747354558092,13.085418743067638,24.49705188720876,33.0021381183645,30.298567145736605,30.675061005899835,21.26035189732762,11.431694740853052,28.441377067544792,30.255459881311122,33.716904429205485,24.98861336126039,26.89513279916422,20.65223857497029,29.96679510308547,14.862190011081006,23.326809200211134,20.71637881488059,24.204510302164465,24.80741524721546,23.99352289443979,36.005836062849426,32.19918704001853,26.45857758334578,31.21132718834569,22.68953252175955,21.53725154358242,12.482510466643477,24.55293069667537,15.110083368177104,28.416937268196513,17.426231897766158,34.164830063719975,24.311105543673076,11.746605457390343,29.3388390429677,24.35177603909405,24.01978399086694,24.567634713305782,26.888166998966554,33.77302305689687,22.597149397556507,17.719309209762887,11.519326435677076,27.85000980043606,23.993180061672664,14.608423292848592,21.915261865703396,8.555997196233914,13.980347458469858,18.82936157963899,33.716081828752955,19.356738997804126,35.248181325952054,23.437136678074786,21.540961409047462,10.085449302454489,30.01707473101553,8.884337689984083,34.7396229401686,22.235378007094607,10.89769341698729,26.835932907505846,18.208660397661497,22.265888535669983,31.773210957476582,19.686029643519724,26.27610996898221,25.944223014551696,23.929852450231706,31.43326892041564,33.14367612953783,29.657810522267983,21.241219688904863,29.76906928436296,27.609358933787902,17.270575874607722,36.21128440392238,23.1818473326116,11.573814833268468,24.881875617931144,29.04567717768093,23.56480194305403,20.953976127514444,26.448530096971435,32.25481586564426,23.510189606867083,31.794432189398584,6.851133359188456,10.390731583850041,24.023517221430605,30.03128978151678,31.668597141871764,11.33816526391518,28.862616235425165,36.0738468971093,19.42094381402721,19.087663382729666,8.126045503084432,28.62820785668444,17.955484864087147,27.64036847346586,32.3242121099769,22.81170998194759,25.43585120405609,24.845543903423724,21.742065392113044,26.8861814261446,29.305834295464642,20.247489250604858,26.93101306373448,27.01876587312505,20.01410141915573,29.511373599285,24.336443788287344,20.67906643441082,29.307395019725163,29.568417627035302,29.420576713874652,26.7028232016286,13.625690028492066,17.412726394055667,13.618361201751954,27.539165794083623,8.59476994115453,19.735558663421813,32.590630740770564,34.34871312578933,21.45943358258082,35.60396747713094,9.852490409303337,22.865036940175557,26.80154842136777,13.916399856430258,11.097771737675291,14.176165385407003,19.087319156562867,25.899026474095866,22.6345494257414,18.92317122341989,11.948613014454615,27.402823102019262,29.15737695149925,20.098124886368463,26.113409868919117,20.128069898640994,28.585611418295244,16.84524629362373,27.520133047237206],\"y\":[-2.450008085128138,0.3732910534727871,-3.010572254082362,2.627937903463394,-0.08627221693258846,-0.31819198192798126,0.762275807284901,3.4948606938701694,-0.2789215525271338,-6.489632849970619,-0.4419393982540569,-4.0779163331074315,4.547955437652249,0.3667772114933996,-8.805197481941605,2.5927728205401053,3.0822618235960704,-2.7325654055217647,3.1227166974378093,-2.457312767802101,4.15809775439654,0.24795146347852182,3.2798334418681456,-1.6236766413635664,-1.4724948864860536,0.6189136265792499,2.079321079192244,2.175311030603975,0.31908016049331955,0.7557370916470383,-2.0038265354634817,-0.5090870808673564,4.369788779528875,1.4188799770995466,-0.21692761456216303,-0.9227272536818845,0.47553413027269187,-0.7399321154584406,0.09598236754599299,-13.471560995032,0.6418355005530465,-2.9644570337142504,-0.29845246099820955,-1.9670798492732047,0.12125450177619612,7.172935373981424,0.04422835293424754,0.06958069262559619,0.9774099422498992,5.682742824587439,-2.0703379276149825,-5.176174633846504,0.227676376643565,-1.9138111246376894,-3.8968892820200125,-9.23926569215456,-7.39005847990947,-0.2521506810269081,1.0884841655073885,2.7595875338671014,-4.932281987252384,-0.5910305452850508,0.7974807702296687,-1.9581500704438604,-3.102051412878879,4.015357327937991,-3.276743512279765,-3.7856389758972107,-3.3016683260510824,3.006909380990045,0.9753980115983758,6.024155190963278,-0.0825603922345639,-2.057045354461959,5.581439399118484,1.1782938041329771,-6.7529282154896,-2.474422138810745,1.8099076074968359,0.8912755119057323,1.6982687451746656,-1.2470739749540485,3.567975653999774,0.20165575627948584,3.154846947374253,1.939260988380461,0.7305126519757543,3.2932570437166078,0.2039797305688431,-0.8760531527351851,-0.39486253214062117,5.914550410457615,-0.4356625216209533,-4.052561741433905,7.873858643624118,1.2583283921384059,-0.16395837859034046,0.8043752806716515,3.3192322633380904,-0.2628469459562677,-1.8509978041046615,-4.006370071050963,3.1432454765851077,1.9750708478717556,-0.9772539741498747,-1.474914659406668,2.7263388553773,1.981324022581095,-4.344023682307736,-11.58522637939722,-4.492148146468892,-1.375049413907485,-3.191907710615787,5.061808709856379,-4.0167248705583365,6.022069303196663,4.722465088306862,1.5874773103793913,-1.8658375380147572,0.21546223856817193,-2.359426808820519,2.4466014469899413,-10.184024763906262,-3.083005878199831,1.8762425109566863,-0.3801982662402352,-0.9872783398376548,4.101057576676929,-0.6792099737288915,-0.7285597593318478,-1.9586654941676471,-7.098480779186435,2.0283085327359487,-0.6423410364630726,-1.2308287660564723,9.303541703403308,7.544073107033938,4.176950373372929,-0.3020960231261576,1.4393430581320743,-1.890828532795549,-1.5792865388109512,3.9944649531338463,-0.18368886644950067,-6.825403651585553,1.7329556356491231,6.198895175952096,5.437831996136872,1.9029369056387608,3.1328034771225184,-2.507976979174856,-1.820107120329375,2.957923135399003,0.09239587747848788,-2.9015699457974087,0.8304310163264148,-4.120494674193502,0.9285008861093047,-1.6983310200237796,2.5090663810089104,0.3760113955153521,-0.8633892838373498,3.6853129039916226,3.8321040411534,5.05180359897415,2.9452389103026384,-1.5524956830631247,1.664251557751129,1.5268743834552474,3.761747354558093,-0.9145812569323617,3.497051887208759,-11.297861881635498,2.2985671457366053,-0.8249389941001652,2.060351897327621,-2.568305259146948,-2.058622932455208,0.45545988131112125,-2.3830955707945165,-1.8113866387396094,0.8951327991642195,0.15223857497029059,-2.133204896914531,-1.1378099889189937,6.326809200211134,0.7163788148805885,2.204510302164465,-0.19258475278454057,0.0935228944397899,5.005836062849426,-6.800812959981471,-1.5414224166542212,-3.2886728116543082,0.6895325217595492,0.9372515435824198,-1.5174895333565228,-0.847069303324627,1.1100833681771043,-1.583062731803487,-1.5737681022338421,-1.8351699362800247,-0.6888944563269241,-2.253394542609657,8.238839042967697,-3.6482239609059484,5.019783990866941,5.467634713305781,2.5881669989665532,-10.826976943103134,2.5971493975565068,0.719309209762887,-1.4806735643229239,-6.349990199563944,-2.006819938327336,-2.8915767071514082,-4.084738134296604,-4.444002803766086,-4.019652541530142,0.3293615796389915,-2.283918171247045,3.3567389978041255,-2.7518186740479464,0.4371366780747863,1.040961409047462,-2.9145506975455113,2.01707473101553,-3.1156623100159173,0.6396229401686,2.2353780070946065,-1.1023065830127106,-1.5640670924941524,0.2086603976614967,2.2658885356699834,2.273210957476582,0.6860296435197242,0.27610996898221174,-0.05577698544830412,-1.0701475497682935,-0.5667310795843612,-0.5563238704621725,1.657810522267983,2.0412196889048637,0.26906928436295985,0.6093589337879024,2.2705758746077223,-2.888715596077624,-3.4181526673884015,-1.426185166731532,1.8818756179311436,1.545677177680929,3.5648019430540288,1.753976127514445,2.448530096971435,0.05481586564425811,4.110189606867085,-1.2055678106014156,-5.148866640811544,-2.609268416149959,6.423517221430604,6.131289781516781,-2.7314028581282344,-2.6618347360848205,-2.1373837645748353,0.9738468971092971,4.420943814027211,3.587663382729666,-0.8739544969155677,3.6282078566844405,-0.044515135912853054,-3.359631526534141,-10.775787890023103,5.31170998194759,0.4358512040560889,-0.15445609657627557,2.7420653921130445,0.8861814261445993,-1.694165704535358,2.0474892506048583,-3.76898693626552,3.0187658731250515,3.014101419155729,2.511373599285001,1.336443788287344,2.679066434410821,2.107395019725164,-5.431582372964698,0.42057671387465234,5.2028232016286005,-1.3743099715079339,-0.08727360594433264,-1.381638798248046,-5.16083420591638,-1.4052300588454703,-0.26444133657818725,0.1906307407705654,0.348713125789331,3.4594335825808216,3.6039674771309365,-4.147509590696663,-1.1349630598244431,0.4015484213677709,-0.08360014356974155,-1.9022282623247087,1.1761653854070033,0.5873191565628666,4.399026474095866,6.434549425741402,2.4231712234198888,-3.051386985545385,-0.6971768979807393,0.15737695149924846,-0.1018751136315359,-1.7865901310808816,-1.8719301013590055,-0.4143885817047561,-2.154753706376269,2.5201330472372057]}},\"id\":\"7a6e4be2-09e9-4cf4-9d0e-9b5e6788f217\",\"type\":\"ColumnDataSource\"},{\"attributes\":{\"dimension\":1,\"plot\":{\"id\":\"e5d23f11-689d-48ff-abb2-f6e32fe01d73\",\"subtype\":\"Figure\",\"type\":\"Plot\"},\"ticker\":{\"id\":\"88006653-9e6f-41eb-95c3-3419328ac7b0\",\"type\":\"BasicTicker\"}},\"id\":\"82cbf058-5179-42e4-9edb-518a07b5f8c5\",\"type\":\"Grid\"},{\"attributes\":{\"callback\":null,\"overlay\":{\"id\":\"d3f798d6-6dff-4217-aa18-f43226ffd38f\",\"type\":\"BoxAnnotation\"},\"plot\":{\"id\":\"e5d23f11-689d-48ff-abb2-f6e32fe01d73\",\"subtype\":\"Figure\",\"type\":\"Plot\"},\"renderers\":[{\"id\":\"246fdcfe-778b-4249-b2bd-0696fc05ff37\",\"type\":\"GlyphRenderer\"}]},\"id\":\"113e4421-f1bf-4999-b22e-68845cbe6297\",\"type\":\"BoxSelectTool\"},{\"attributes\":{},\"id\":\"9f7cd051-f2d8-4098-91f3-b902319154fa\",\"type\":\"ToolEvents\"},{\"attributes\":{\"plot\":{\"id\":\"e5d23f11-689d-48ff-abb2-f6e32fe01d73\",\"subtype\":\"Figure\",\"type\":\"Plot\"}},\"id\":\"ad07a83f-fdab-4bde-9568-b2b2b53cd8c3\",\"type\":\"UndoTool\"},{\"attributes\":{\"plot\":{\"id\":\"e5d23f11-689d-48ff-abb2-f6e32fe01d73\",\"subtype\":\"Figure\",\"type\":\"Plot\"}},\"id\":\"10947346-1575-4ab7-a1db-a77f240bf018\",\"type\":\"WheelZoomTool\"},{\"attributes\":{\"bottom_units\":\"screen\",\"fill_alpha\":{\"value\":0.5},\"fill_color\":{\"value\":\"lightgrey\"},\"left_units\":\"screen\",\"level\":\"overlay\",\"line_alpha\":{\"value\":1.0},\"line_color\":{\"value\":\"black\"},\"line_dash\":[4,4],\"line_width\":{\"value\":2},\"plot\":null,\"render_mode\":\"css\",\"right_units\":\"screen\",\"top_units\":\"screen\"},\"id\":\"650b704a-027f-4934-811c-f1f739d12c34\",\"type\":\"BoxAnnotation\"},{\"attributes\":{\"fill_color\":{\"value\":\"#80B1D3\"},\"line_color\":{\"value\":\"#80B1D3\"},\"line_width\":{\"value\":3},\"x\":{\"field\":\"x\"},\"y\":{\"field\":\"y\"}},\"id\":\"d02b5461-8838-4186-abce-9448fd1bea78\",\"type\":\"Circle\"},{\"attributes\":{\"overlay\":{\"id\":\"650b704a-027f-4934-811c-f1f739d12c34\",\"type\":\"BoxAnnotation\"},\"plot\":{\"id\":\"e5d23f11-689d-48ff-abb2-f6e32fe01d73\",\"subtype\":\"Figure\",\"type\":\"Plot\"}},\"id\":\"6144a1b1-83e8-41ca-a427-1560a84f2772\",\"type\":\"BoxZoomTool\"},{\"attributes\":{\"bottom_units\":\"screen\",\"fill_alpha\":{\"value\":0.5},\"fill_color\":{\"value\":\"lightgrey\"},\"left_units\":\"screen\",\"level\":\"overlay\",\"line_alpha\":{\"value\":1.0},\"line_color\":{\"value\":\"black\"},\"line_dash\":[4,4],\"line_width\":{\"value\":2},\"plot\":null,\"render_mode\":\"css\",\"right_units\":\"screen\",\"top_units\":\"screen\"},\"id\":\"d3f798d6-6dff-4217-aa18-f43226ffd38f\",\"type\":\"BoxAnnotation\"},{\"attributes\":{\"data_source\":{\"id\":\"7a6e4be2-09e9-4cf4-9d0e-9b5e6788f217\",\"type\":\"ColumnDataSource\"},\"glyph\":{\"id\":\"d02b5461-8838-4186-abce-9448fd1bea78\",\"type\":\"Circle\"},\"hover_glyph\":null,\"nonselection_glyph\":{\"id\":\"c31df37d-b917-4bc0-87ce-eb9135a11092\",\"type\":\"Circle\"},\"selection_glyph\":null},\"id\":\"246fdcfe-778b-4249-b2bd-0696fc05ff37\",\"type\":\"GlyphRenderer\"},{\"attributes\":{},\"id\":\"88006653-9e6f-41eb-95c3-3419328ac7b0\",\"type\":\"BasicTicker\"},{\"attributes\":{\"plot\":{\"id\":\"e5d23f11-689d-48ff-abb2-f6e32fe01d73\",\"subtype\":\"Figure\",\"type\":\"Plot\"}},\"id\":\"0cb121b4-83cf-4bfc-854b-94e06091e134\",\"type\":\"SaveTool\"},{\"attributes\":{\"overlay\":{\"id\":\"b4ee35a6-1fc6-462f-a3d0-d2f9e0a89ac2\",\"type\":\"PolyAnnotation\"},\"plot\":{\"id\":\"e5d23f11-689d-48ff-abb2-f6e32fe01d73\",\"subtype\":\"Figure\",\"type\":\"Plot\"}},\"id\":\"6d2edd10-4709-4d78-a72b-e9d9faeba86e\",\"type\":\"PolySelectTool\"},{\"attributes\":{\"align\":\"center\",\"plot\":null,\"text\":\"Residual plot on the training data\"},\"id\":\"0af8fc61-94f5-44d9-9a92-ce3620c84a77\",\"type\":\"Title\"},{\"attributes\":{\"callback\":null},\"id\":\"4e9d2247-b70f-4268-83c0-34290b46f096\",\"type\":\"DataRange1d\"},{\"attributes\":{\"plot\":{\"id\":\"e5d23f11-689d-48ff-abb2-f6e32fe01d73\",\"subtype\":\"Figure\",\"type\":\"Plot\"}},\"id\":\"ba074cf6-6c60-461b-a705-c37583ec2a90\",\"type\":\"ResizeTool\"},{\"attributes\":{\"callback\":null},\"id\":\"4f8b60c9-3689-4c07-b5b3-da56249ad1cf\",\"type\":\"DataRange1d\"},{\"attributes\":{\"plot\":{\"id\":\"e5d23f11-689d-48ff-abb2-f6e32fe01d73\",\"subtype\":\"Figure\",\"type\":\"Plot\"}},\"id\":\"9ea93a92-03e7-4218-a03c-a4181f718bcc\",\"type\":\"CrosshairTool\"},{\"attributes\":{\"active_drag\":\"auto\",\"active_scroll\":\"auto\",\"active_tap\":\"auto\",\"tools\":[{\"id\":\"6144a1b1-83e8-41ca-a427-1560a84f2772\",\"type\":\"BoxZoomTool\"},{\"id\":\"113e4421-f1bf-4999-b22e-68845cbe6297\",\"type\":\"BoxSelectTool\"},{\"id\":\"9ea93a92-03e7-4218-a03c-a4181f718bcc\",\"type\":\"CrosshairTool\"},{\"id\":\"ba074cf6-6c60-461b-a705-c37583ec2a90\",\"type\":\"ResizeTool\"},{\"id\":\"2b4efc9f-f088-429f-ad67-0225d113457a\",\"type\":\"ResetTool\"},{\"id\":\"e172b76f-db21-4bc6-b8fe-e10c18aeeb2b\",\"type\":\"LassoSelectTool\"},{\"id\":\"0dd52439-367c-481a-8371-25d72b29dfa6\",\"type\":\"PanTool\"},{\"id\":\"0cb121b4-83cf-4bfc-854b-94e06091e134\",\"type\":\"SaveTool\"},{\"id\":\"6d2edd10-4709-4d78-a72b-e9d9faeba86e\",\"type\":\"PolySelectTool\"},{\"id\":\"40e0e916-c0ff-44c3-8573-12b8dc8dc312\",\"type\":\"TapTool\"},{\"id\":\"10947346-1575-4ab7-a1db-a77f240bf018\",\"type\":\"WheelZoomTool\"},{\"id\":\"ad07a83f-fdab-4bde-9568-b2b2b53cd8c3\",\"type\":\"UndoTool\"}]},\"id\":\"1b030e62-faff-4ab1-b158-937fef8f6019\",\"type\":\"Toolbar\"},{\"attributes\":{\"fill_alpha\":{\"value\":0.5},\"fill_color\":{\"value\":\"lightgrey\"},\"level\":\"overlay\",\"line_alpha\":{\"value\":1.0},\"line_color\":{\"value\":\"black\"},\"line_dash\":[4,4],\"line_width\":{\"value\":2},\"plot\":null,\"xs_units\":\"screen\",\"ys_units\":\"screen\"},\"id\":\"b4ee35a6-1fc6-462f-a3d0-d2f9e0a89ac2\",\"type\":\"PolyAnnotation\"},{\"attributes\":{},\"id\":\"b8afda88-fbbf-48e0-9a64-f5543d3d1fb8\",\"type\":\"BasicTickFormatter\"},{\"attributes\":{\"plot\":{\"id\":\"e5d23f11-689d-48ff-abb2-f6e32fe01d73\",\"subtype\":\"Figure\",\"type\":\"Plot\"},\"ticker\":{\"id\":\"a482513d-3d05-44d1-b6d5-23c8c61e2f84\",\"type\":\"BasicTicker\"}},\"id\":\"5d23acf6-fdba-4437-a7b5-c8180644a05e\",\"type\":\"Grid\"},{\"attributes\":{\"background_fill_alpha\":{\"value\":0.5},\"background_fill_color\":{\"value\":\"beige\"},\"below\":[{\"id\":\"f7aa44ac-62b7-4a11-9430-bb6ec7b85da0\",\"type\":\"LinearAxis\"}],\"left\":[{\"id\":\"d8b6292b-ccd9-4670-9a0b-5c9d4fc74240\",\"type\":\"LinearAxis\"}],\"plot_height\":500,\"plot_width\":500,\"renderers\":[{\"id\":\"f7aa44ac-62b7-4a11-9430-bb6ec7b85da0\",\"type\":\"LinearAxis\"},{\"id\":\"5d23acf6-fdba-4437-a7b5-c8180644a05e\",\"type\":\"Grid\"},{\"id\":\"d8b6292b-ccd9-4670-9a0b-5c9d4fc74240\",\"type\":\"LinearAxis\"},{\"id\":\"82cbf058-5179-42e4-9edb-518a07b5f8c5\",\"type\":\"Grid\"},{\"id\":\"650b704a-027f-4934-811c-f1f739d12c34\",\"type\":\"BoxAnnotation\"},{\"id\":\"d3f798d6-6dff-4217-aa18-f43226ffd38f\",\"type\":\"BoxAnnotation\"},{\"id\":\"6a361a56-60ed-443c-9690-666038cd7220\",\"type\":\"PolyAnnotation\"},{\"id\":\"b4ee35a6-1fc6-462f-a3d0-d2f9e0a89ac2\",\"type\":\"PolyAnnotation\"},{\"id\":\"246fdcfe-778b-4249-b2bd-0696fc05ff37\",\"type\":\"GlyphRenderer\"}],\"title\":{\"id\":\"0af8fc61-94f5-44d9-9a92-ce3620c84a77\",\"type\":\"Title\"},\"tool_events\":{\"id\":\"9f7cd051-f2d8-4098-91f3-b902319154fa\",\"type\":\"ToolEvents\"},\"toolbar\":{\"id\":\"1b030e62-faff-4ab1-b158-937fef8f6019\",\"type\":\"Toolbar\"},\"x_range\":{\"id\":\"4e9d2247-b70f-4268-83c0-34290b46f096\",\"type\":\"DataRange1d\"},\"y_range\":{\"id\":\"4f8b60c9-3689-4c07-b5b3-da56249ad1cf\",\"type\":\"DataRange1d\"}},\"id\":\"e5d23f11-689d-48ff-abb2-f6e32fe01d73\",\"subtype\":\"Figure\",\"type\":\"Plot\"},{\"attributes\":{\"callback\":null,\"overlay\":{\"id\":\"6a361a56-60ed-443c-9690-666038cd7220\",\"type\":\"PolyAnnotation\"},\"plot\":{\"id\":\"e5d23f11-689d-48ff-abb2-f6e32fe01d73\",\"subtype\":\"Figure\",\"type\":\"Plot\"}},\"id\":\"e172b76f-db21-4bc6-b8fe-e10c18aeeb2b\",\"type\":\"LassoSelectTool\"},{\"attributes\":{},\"id\":\"6b7fe9d0-73b5-40f1-a58c-5f7a66b04484\",\"type\":\"BasicTickFormatter\"},{\"attributes\":{\"plot\":{\"id\":\"e5d23f11-689d-48ff-abb2-f6e32fe01d73\",\"subtype\":\"Figure\",\"type\":\"Plot\"}},\"id\":\"0dd52439-367c-481a-8371-25d72b29dfa6\",\"type\":\"PanTool\"},{\"attributes\":{\"fill_alpha\":{\"value\":0.5},\"fill_color\":{\"value\":\"lightgrey\"},\"level\":\"overlay\",\"line_alpha\":{\"value\":1.0},\"line_color\":{\"value\":\"black\"},\"line_dash\":[4,4],\"line_width\":{\"value\":2},\"plot\":null,\"xs_units\":\"screen\",\"ys_units\":\"screen\"},\"id\":\"6a361a56-60ed-443c-9690-666038cd7220\",\"type\":\"PolyAnnotation\"},{\"attributes\":{\"axis_label\":\"Residuals\",\"axis_label_text_color\":{\"value\":\"#aa6666\"},\"formatter\":{\"id\":\"6b7fe9d0-73b5-40f1-a58c-5f7a66b04484\",\"type\":\"BasicTickFormatter\"},\"plot\":{\"id\":\"e5d23f11-689d-48ff-abb2-f6e32fe01d73\",\"subtype\":\"Figure\",\"type\":\"Plot\"},\"ticker\":{\"id\":\"88006653-9e6f-41eb-95c3-3419328ac7b0\",\"type\":\"BasicTicker\"}},\"id\":\"d8b6292b-ccd9-4670-9a0b-5c9d4fc74240\",\"type\":\"LinearAxis\"}],\"root_ids\":[\"e5d23f11-689d-48ff-abb2-f6e32fe01d73\"]},\"title\":\"Bokeh Application\",\"version\":\"0.12.2\"}};\n",
       "            var render_items = [{\"docid\":\"c7ddcb4a-1ea5-41fb-b62f-00c5ed23e2f7\",\"elementid\":\"17eba77f-e739-46f9-b0a2-c80950ef1ef1\",\"modelid\":\"e5d23f11-689d-48ff-abb2-f6e32fe01d73\"}];\n",
       "            \n",
       "            Bokeh.embed.embed_items(docs_json, render_items);\n",
       "        });\n",
       "      },\n",
       "      function(Bokeh) {\n",
       "      }\n",
       "    ];\n",
       "  \n",
       "    function run_inline_js() {\n",
       "      \n",
       "      if ((window.Bokeh !== undefined) || (force === \"1\")) {\n",
       "        for (var i = 0; i < inline_js.length; i++) {\n",
       "          inline_js[i](window.Bokeh);\n",
       "        }if (force === \"1\") {\n",
       "          display_loaded();\n",
       "        }} else if (Date.now() < window._bokeh_timeout) {\n",
       "        setTimeout(run_inline_js, 100);\n",
       "      } else if (!window._bokeh_failed_load) {\n",
       "        console.log(\"Bokeh: BokehJS failed to load within specified timeout.\");\n",
       "        window._bokeh_failed_load = true;\n",
       "      } else if (!force) {\n",
       "        var cell = $(\"#17eba77f-e739-46f9-b0a2-c80950ef1ef1\").parents('.cell').data().cell;\n",
       "        cell.output_area.append_execute_result(NB_LOAD_WARNING)\n",
       "      }\n",
       "  \n",
       "    }\n",
       "  \n",
       "    if (window._bokeh_is_loading === 0) {\n",
       "      console.log(\"Bokeh: BokehJS loaded, going straight to plotting\");\n",
       "      run_inline_js();\n",
       "    } else {\n",
       "      load_libs(js_urls, function() {\n",
       "        console.log(\"Bokeh: BokehJS plotting callback run at\", now());\n",
       "        run_inline_js();\n",
       "      });\n",
       "    }\n",
       "  }(this));\n",
       "</script>"
      ]
     },
     "metadata": {},
     "output_type": "display_data"
    }
   ],
   "source": [
    "# Plotining using bokeh\n",
    "#TOOLS = 'hover,box_zoom,box_select,crosshair,resize,reset,BayesianRidge_select,pan,save,poly_select,tap,wheel_zoom,undo'\n",
    "TOOLS = 'box_zoom,box_select,crosshair,resize,reset,lasso_select,pan,save,poly_select,tap,wheel_zoom,undo'\n",
    "p = figure(plot_width=500, plot_height=500, title=\"Residual plot on the training data\", tools=TOOLS)\n",
    "p.scatter(predicted, (predicted - Y),x=\"jjj\", marker=\"o\", color=\"#80B1D3\", line_width=3)\n",
    "p.title.align = \"center\"\n",
    "p.xaxis.axis_label = \"Predicted\"\n",
    "p.xaxis.axis_label_text_color = \"#aa6666\"\n",
    "#p.xaxis.axis_label_standoff = 30\n",
    "p.xaxis.major_tick_line_color = \"firebrick\"\n",
    "p.xaxis.major_tick_line_width = 3\n",
    "p.xaxis.minor_tick_line_color = \"orange\"\n",
    "p.yaxis.axis_label = \"Residuals\"\n",
    "p.yaxis.axis_label_text_font_style = \"italic\"\n",
    "p.yaxis.axis_label_text_color = \"#aa6666\"\n",
    "p.background_fill_color = \"beige\"\n",
    "p.background_fill_alpha = 0.5\n",
    "#p.line([2,38], [0, 0], line_dash=\"4 4\", line_width=2, color='red')\n",
    "show(p)"
   ]
  },
  {
   "cell_type": "markdown",
   "metadata": {},
   "source": [
    "## Pipeline"
   ]
  },
  {
   "cell_type": "markdown",
   "metadata": {},
   "source": [
    "The best to deliver the model by pipeline the operation then at deployment can be done in one model."
   ]
  },
  {
   "cell_type": "markdown",
   "metadata": {
    "collapsed": true
   },
   "source": [
    "  I used two ways to check the pipeline so any one can be fine"
   ]
  },
  {
   "cell_type": "code",
   "execution_count": 86,
   "metadata": {
    "collapsed": false
   },
   "outputs": [
    {
     "name": "stdout",
     "output_type": "stream",
     "text": [
      "0.81771961163\n",
      "Scoring according to mean_squared_error\n",
      "[ -8.72374901 -16.56570859 -11.21875769 -15.5461335  -13.5001502\n",
      " -11.85550338 -13.50326928  -3.88229045 -13.96164484  -6.55094057]\n",
      "\n",
      " Mean      Standard deviation\n",
      "-11.53      3.83\n",
      "[ True  True  True  True  True  True  True]\n",
      "R-squared =  0.81771961163\n"
     ]
    }
   ],
   "source": [
    "# Use Pipeline\n",
    "# ANOVA \n",
    "from sklearn.pipeline import Pipeline\n",
    "from sklearn.feature_selection import SelectKBest, f_regression\n",
    "anova_filter = SelectKBest(f_regression, k=7)\n",
    "LR = BayesianRidge(lambda_1 = 1.0, lambda_2 = -1.0, alpha_1 = -1.0, alpha_2=-1.0)\n",
    "anova_LinReg = Pipeline([('scaler_Input',scaler), ('anova', anova_filter), ('LinReg', LR)])\n",
    "# You can set the parameters using the names issued\n",
    "# For instance, fit using a k of 10 in the SelectKBest\n",
    "anova_LinReg.set_params(anova__k=7).fit(new_data, Y)\n",
    "prediction = anova_LinReg.predict(new_data)\n",
    "print anova_LinReg.score(new_data, Y)                        \n",
    "# getting the selected features chosen by anova_filter\n",
    "results = cross_validation.cross_val_score(anova_LinReg, new_data, Y, cv=kfold, scoring=scoring)\n",
    "print 'Scoring according to mean_squared_error'\n",
    "print results\n",
    "print '\\n Mean      Standard deviation'\n",
    "print(\"%.2f      %.2f\" % (results.mean(), results.std()))\n",
    "print anova_LinReg.named_steps['anova'].get_support()\n",
    "r_squared = r2_score(Y, prediction, multioutput='variance_weighted')\n",
    "print 'R-squared = ',r_squared"
   ]
  },
  {
   "cell_type": "code",
   "execution_count": 87,
   "metadata": {
    "collapsed": false
   },
   "outputs": [
    {
     "name": "stdout",
     "output_type": "stream",
     "text": [
      "R-squared =  0.81771961163\n"
     ]
    }
   ],
   "source": [
    "# Using make_pipeline\n",
    "from sklearn.pipeline import make_pipeline\n",
    "\n",
    "# ANOVA SVM-C\n",
    "# 1) anova filter, take 3 best ranked features\n",
    "anova_filter = SelectKBest(f_regression, k=7)\n",
    "anova_BayesianRidge = make_pipeline(scaler, anova_filter, LR)\n",
    "anova_BayesianRidge.fit(new_data, Y)\n",
    "prediction = anova_BayesianRidge.predict(new_data)\n",
    "r_squared = r2_score(Y, prediction, multioutput='variance_weighted')\n",
    "print 'R-squared = ',r_squared"
   ]
  },
  {
   "cell_type": "markdown",
   "metadata": {},
   "source": [
    "### Save the Pipeline model for developement"
   ]
  },
  {
   "cell_type": "code",
   "execution_count": 88,
   "metadata": {
    "collapsed": false
   },
   "outputs": [
    {
     "data": {
      "text/plain": [
       "['anova_BayesianRidge.pkl',\n",
       " 'anova_BayesianRidge.pkl_01.npy',\n",
       " 'anova_BayesianRidge.pkl_02.npy',\n",
       " 'anova_BayesianRidge.pkl_03.npy',\n",
       " 'anova_BayesianRidge.pkl_04.npy',\n",
       " 'anova_BayesianRidge.pkl_05.npy',\n",
       " 'anova_BayesianRidge.pkl_06.npy']"
      ]
     },
     "execution_count": 88,
     "metadata": {},
     "output_type": "execute_result"
    }
   ],
   "source": [
    "# save the model scaler to the desk\n",
    "from sklearn.externals import joblib\n",
    "joblib.dump(anova_BayesianRidge, 'anova_BayesianRidge.pkl') "
   ]
  },
  {
   "cell_type": "code",
   "execution_count": 89,
   "metadata": {
    "collapsed": false
   },
   "outputs": [
    {
     "name": "stdout",
     "output_type": "stream",
     "text": [
      " =================================================================>>>>> done\n",
      "R-squared =  0.81771961163\n"
     ]
    }
   ],
   "source": [
    "# Test the model if it is work\n",
    "anova_BayesianRidgeTest = joblib.load('anova_BayesianRidge.pkl')\n",
    "NewPred = anova_BayesianRidgeTest.predict(new_data)\n",
    "print \" =================================================================>>>>> done\"\n",
    "r_squared = r2_score(Y, NewPred, multioutput='variance_weighted')\n",
    "print 'R-squared = ',r_squared"
   ]
  },
  {
   "cell_type": "code",
   "execution_count": 90,
   "metadata": {
    "collapsed": false
   },
   "outputs": [
    {
     "name": "stdout",
     "output_type": "stream",
     "text": [
      "Point of training data before normalization\n",
      "[  4.00000000e+00   9.70000000e+01   5.10000000e+01   2.13000000e+03\n",
      "   2.46000000e+01   8.20000000e+01   2.00000000e+00]\n",
      "\n",
      "The read target of the data =  44.0\n",
      "\n",
      "The Predicted target of the data =  [ 35.25706322]\n"
     ]
    }
   ],
   "source": [
    "# test on single data point, randomly choose point number 55\n",
    "print 'Point of training data before normalization\\n',new_data[55]\n",
    "print '\\nThe read target of the data = ', Y[55]\n",
    "NewPred = anova_BayesianRidgeTest.predict([new_data[55]])\n",
    "print '\\nThe Predicted target of the data = ', NewPred"
   ]
  },
  {
   "cell_type": "markdown",
   "metadata": {},
   "source": [
    "## Conclusion "
   ]
  },
  {
   "cell_type": "code",
   "execution_count": null,
   "metadata": {
    "collapsed": true
   },
   "outputs": [],
   "source": []
  }
 ],
 "metadata": {
  "kernelspec": {
   "display_name": "Python 2",
   "language": "python",
   "name": "python2"
  },
  "language_info": {
   "codemirror_mode": {
    "name": "ipython",
    "version": 2
   },
   "file_extension": ".py",
   "mimetype": "text/x-python",
   "name": "python",
   "nbconvert_exporter": "python",
   "pygments_lexer": "ipython2",
   "version": "2.7.12"
  }
 },
 "nbformat": 4,
 "nbformat_minor": 0
}
