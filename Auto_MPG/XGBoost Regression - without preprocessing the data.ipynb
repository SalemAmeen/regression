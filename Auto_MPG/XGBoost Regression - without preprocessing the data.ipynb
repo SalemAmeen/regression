{
 "cells": [
  {
   "cell_type": "markdown",
   "metadata": {},
   "source": [
    "Salem Ameen, PhD student at Salford University\n",
    "\n",
    "### Auto MPG\n",
    "\n",
    "Decision trees Regression"
   ]
  },
  {
   "cell_type": "markdown",
   "metadata": {},
   "source": [
    "# Import the Libraries"
   ]
  },
  {
   "cell_type": "code",
   "execution_count": 1,
   "metadata": {
    "collapsed": false
   },
   "outputs": [
    {
     "data": {
      "text/html": [
       "\n",
       "    <div class=\"bk-root\">\n",
       "        <a href=\"http://bokeh.pydata.org\" target=\"_blank\" class=\"bk-logo bk-logo-small bk-logo-notebook\"></a>\n",
       "        <span id=\"e744d49f-5dfc-4c5f-b0a6-5fed0e207a8f\">Loading BokehJS ...</span>\n",
       "    </div>"
      ]
     },
     "metadata": {},
     "output_type": "display_data"
    },
    {
     "data": {
      "application/javascript": [
       "\n",
       "(function(global) {\n",
       "  function now() {\n",
       "    return new Date();\n",
       "  }\n",
       "\n",
       "  var force = \"1\";\n",
       "\n",
       "  if (typeof (window._bokeh_onload_callbacks) === \"undefined\" || force !== \"\") {\n",
       "    window._bokeh_onload_callbacks = [];\n",
       "    window._bokeh_is_loading = undefined;\n",
       "  }\n",
       "\n",
       "\n",
       "  \n",
       "  if (typeof (window._bokeh_timeout) === \"undefined\" || force !== \"\") {\n",
       "    window._bokeh_timeout = Date.now() + 5000;\n",
       "    window._bokeh_failed_load = false;\n",
       "  }\n",
       "\n",
       "  var NB_LOAD_WARNING = {'data': {'text/html':\n",
       "     \"<div style='background-color: #fdd'>\\n\"+\n",
       "     \"<p>\\n\"+\n",
       "     \"BokehJS does not appear to have successfully loaded. If loading BokehJS from CDN, this \\n\"+\n",
       "     \"may be due to a slow or bad network connection. Possible fixes:\\n\"+\n",
       "     \"</p>\\n\"+\n",
       "     \"<ul>\\n\"+\n",
       "     \"<li>re-rerun `output_notebook()` to attempt to load from CDN again, or</li>\\n\"+\n",
       "     \"<li>use INLINE resources instead, as so:</li>\\n\"+\n",
       "     \"</ul>\\n\"+\n",
       "     \"<code>\\n\"+\n",
       "     \"from bokeh.resources import INLINE\\n\"+\n",
       "     \"output_notebook(resources=INLINE)\\n\"+\n",
       "     \"</code>\\n\"+\n",
       "     \"</div>\"}};\n",
       "\n",
       "  function display_loaded() {\n",
       "    if (window.Bokeh !== undefined) {\n",
       "      Bokeh.$(\"#e744d49f-5dfc-4c5f-b0a6-5fed0e207a8f\").text(\"BokehJS successfully loaded.\");\n",
       "    } else if (Date.now() < window._bokeh_timeout) {\n",
       "      setTimeout(display_loaded, 100)\n",
       "    }\n",
       "  }\n",
       "\n",
       "  function run_callbacks() {\n",
       "    window._bokeh_onload_callbacks.forEach(function(callback) { callback() });\n",
       "    delete window._bokeh_onload_callbacks\n",
       "    console.info(\"Bokeh: all callbacks have finished\");\n",
       "  }\n",
       "\n",
       "  function load_libs(js_urls, callback) {\n",
       "    window._bokeh_onload_callbacks.push(callback);\n",
       "    if (window._bokeh_is_loading > 0) {\n",
       "      console.log(\"Bokeh: BokehJS is being loaded, scheduling callback at\", now());\n",
       "      return null;\n",
       "    }\n",
       "    if (js_urls == null || js_urls.length === 0) {\n",
       "      run_callbacks();\n",
       "      return null;\n",
       "    }\n",
       "    console.log(\"Bokeh: BokehJS not loaded, scheduling load and callback at\", now());\n",
       "    window._bokeh_is_loading = js_urls.length;\n",
       "    for (var i = 0; i < js_urls.length; i++) {\n",
       "      var url = js_urls[i];\n",
       "      var s = document.createElement('script');\n",
       "      s.src = url;\n",
       "      s.async = false;\n",
       "      s.onreadystatechange = s.onload = function() {\n",
       "        window._bokeh_is_loading--;\n",
       "        if (window._bokeh_is_loading === 0) {\n",
       "          console.log(\"Bokeh: all BokehJS libraries loaded\");\n",
       "          run_callbacks()\n",
       "        }\n",
       "      };\n",
       "      s.onerror = function() {\n",
       "        console.warn(\"failed to load library \" + url);\n",
       "      };\n",
       "      console.log(\"Bokeh: injecting script tag for BokehJS library: \", url);\n",
       "      document.getElementsByTagName(\"head\")[0].appendChild(s);\n",
       "    }\n",
       "  };var element = document.getElementById(\"e744d49f-5dfc-4c5f-b0a6-5fed0e207a8f\");\n",
       "  if (element == null) {\n",
       "    console.log(\"Bokeh: ERROR: autoload.js configured with elementid 'e744d49f-5dfc-4c5f-b0a6-5fed0e207a8f' but no matching script tag was found. \")\n",
       "    return false;\n",
       "  }\n",
       "\n",
       "  var js_urls = ['https://cdn.pydata.org/bokeh/release/bokeh-0.12.2.min.js', 'https://cdn.pydata.org/bokeh/release/bokeh-widgets-0.12.2.min.js', 'https://cdn.pydata.org/bokeh/release/bokeh-compiler-0.12.2.min.js'];\n",
       "\n",
       "  var inline_js = [\n",
       "    function(Bokeh) {\n",
       "      Bokeh.set_log_level(\"info\");\n",
       "    },\n",
       "    \n",
       "    function(Bokeh) {\n",
       "      \n",
       "      Bokeh.$(\"#e744d49f-5dfc-4c5f-b0a6-5fed0e207a8f\").text(\"BokehJS is loading...\");\n",
       "    },\n",
       "    function(Bokeh) {\n",
       "      console.log(\"Bokeh: injecting CSS: https://cdn.pydata.org/bokeh/release/bokeh-0.12.2.min.css\");\n",
       "      Bokeh.embed.inject_css(\"https://cdn.pydata.org/bokeh/release/bokeh-0.12.2.min.css\");\n",
       "      console.log(\"Bokeh: injecting CSS: https://cdn.pydata.org/bokeh/release/bokeh-widgets-0.12.2.min.css\");\n",
       "      Bokeh.embed.inject_css(\"https://cdn.pydata.org/bokeh/release/bokeh-widgets-0.12.2.min.css\");\n",
       "    }\n",
       "  ];\n",
       "\n",
       "  function run_inline_js() {\n",
       "    \n",
       "    if ((window.Bokeh !== undefined) || (force === \"1\")) {\n",
       "      for (var i = 0; i < inline_js.length; i++) {\n",
       "        inline_js[i](window.Bokeh);\n",
       "      }if (force === \"1\") {\n",
       "        display_loaded();\n",
       "      }} else if (Date.now() < window._bokeh_timeout) {\n",
       "      setTimeout(run_inline_js, 100);\n",
       "    } else if (!window._bokeh_failed_load) {\n",
       "      console.log(\"Bokeh: BokehJS failed to load within specified timeout.\");\n",
       "      window._bokeh_failed_load = true;\n",
       "    } else if (!force) {\n",
       "      var cell = $(\"#e744d49f-5dfc-4c5f-b0a6-5fed0e207a8f\").parents('.cell').data().cell;\n",
       "      cell.output_area.append_execute_result(NB_LOAD_WARNING)\n",
       "    }\n",
       "\n",
       "  }\n",
       "\n",
       "  if (window._bokeh_is_loading === 0) {\n",
       "    console.log(\"Bokeh: BokehJS loaded, going straight to plotting\");\n",
       "    run_inline_js();\n",
       "  } else {\n",
       "    load_libs(js_urls, function() {\n",
       "      console.log(\"Bokeh: BokehJS plotting callback run at\", now());\n",
       "      run_inline_js();\n",
       "    });\n",
       "  }\n",
       "}(this));"
      ]
     },
     "metadata": {},
     "output_type": "display_data"
    }
   ],
   "source": [
    "import numpy as np\n",
    "import pandas\n",
    "from numpy import *\n",
    "import time\n",
    "import sys\n",
    "import pandas as pd\n",
    "import matplotlib.pyplot as plt\n",
    "from sklearn import feature_selection\n",
    "import xgboost\n",
    "from sklearn.learning_curve import learning_curve, validation_curve\n",
    "from sklearn.cross_validation import cross_val_predict\n",
    "from sklearn import metrics, grid_search, cross_validation\n",
    "from IPython.display import set_matplotlib_formats\n",
    "from bokeh.plotting import figure, show, output_notebook\n",
    "from sklearn.grid_search import GridSearchCV, RandomizedSearchCV\n",
    "from sklearn.metrics import r2_score\n",
    "from bokeh.layouts import gridplot\n",
    "output_notebook()\n",
    "set_matplotlib_formats('png', 'pdf')\n",
    "%matplotlib inline\n",
    "plt.rcParams['figure.figsize'] = (6, 6)"
   ]
  },
  {
   "cell_type": "markdown",
   "metadata": {},
   "source": [
    "# Load data"
   ]
  },
  {
   "cell_type": "markdown",
   "metadata": {},
   "source": [
    "In the previous file we have not change the data as there is no missing value or add any new parameters so it can be downloaded from the web directly. "
   ]
  },
  {
   "cell_type": "code",
   "execution_count": 2,
   "metadata": {
    "collapsed": false
   },
   "outputs": [
    {
     "name": "stdout",
     "output_type": "stream",
     "text": [
      "Number of examples 398\n"
     ]
    }
   ],
   "source": [
    "url = 'http://archive.ics.uci.edu/ml/machine-learning-databases/auto-mpg/auto-mpg.data'\n",
    "names = ['mpg', 'cylinders', 'displacement', 'horsepower', 'weight', 'acceleration', 'year','origin','name']\n",
    "feature_names = ['mpg', 'cylinders', 'displacement', 'horsepower', 'weight', 'acceleration', 'year','origin']\n",
    "feature_cols = ['mpg', 'cylinders', 'displacement', 'horsepower', 'weight', 'acceleration', 'year','origin']\n",
    "data = pd.read_csv(url, sep='\\s+', names = names)\n",
    "data = data.drop('name',1)\n",
    "from sklearn import preprocessing\n",
    "\n",
    "def number_encode_features(df):\n",
    "    result = df.copy()\n",
    "    encoders = {}\n",
    "    for column in result.columns:\n",
    "        if result.dtypes[column] == np.object:\n",
    "            encoders[column] = preprocessing.LabelEncoder()\n",
    "            result[column] = encoders[column].fit_transform(result[column])\n",
    "    return result, encoders\n",
    "\n",
    "data, _ = number_encode_features(data)\n",
    "\n",
    "dataset = data.values\n",
    "X = dataset[:,1:8]\n",
    "Y = dataset[:,0]\n",
    "print 'Number of examples',len(X)"
   ]
  },
  {
   "cell_type": "code",
   "execution_count": 3,
   "metadata": {
    "collapsed": false
   },
   "outputs": [
    {
     "name": "stdout",
     "output_type": "stream",
     "text": [
      "Number of training examples 318\n",
      "Number of validation examples 80\n"
     ]
    }
   ],
   "source": [
    "# Make developement dataset for genrilization and final testing\n",
    "from sklearn.cross_validation import train_test_split\n",
    "# Extracting 20% testing data\n",
    "X_train, X_test, y_train, y_test = train_test_split(\n",
    "    X, Y, test_size=0.20, random_state=0)\n",
    "X = X_train\n",
    "Y = y_train\n",
    "new_data      = X_train\n",
    "new_test_data = X_test\n",
    "print 'Number of training examples',len(X_train)\n",
    "print 'Number of validation examples',len(X_test)"
   ]
  },
  {
   "cell_type": "markdown",
   "metadata": {},
   "source": [
    "Number of training data is very small so we need to use cross validation instead of spareate another validation data."
   ]
  },
  {
   "cell_type": "markdown",
   "metadata": {},
   "source": [
    "From the previous visulization the data has no missing value but has many outlier and some sparisty"
   ]
  },
  {
   "cell_type": "markdown",
   "metadata": {},
   "source": [
    "# Ranking of the feature's importance to the target"
   ]
  },
  {
   "cell_type": "code",
   "execution_count": 4,
   "metadata": {
    "collapsed": false
   },
   "outputs": [
    {
     "name": "stdout",
     "output_type": "stream",
     "text": [
      "Feature Name      Score         Pvalue\n",
      "mpg \t\t8.91712726219e+17 \t0.0\n",
      "cylinders \t\t597.077047852 \t4.50399224618e-81\n",
      "displacement \t\t724.994303368 \t1.65588891019e-91\n",
      "horsepower \t\t101.546001862 \t2.06258705842e-21\n",
      "weight \t\t888.850682648 \t2.97279956405e-103\n",
      "acceleration \t\t84.9577002497 \t1.82309153508e-18\n",
      "year \t\t199.98200802 \t4.84493581337e-37\n",
      "origin \t\t184.199639369 \t1.01148221023e-34\n"
     ]
    }
   ],
   "source": [
    "# Randing the important features to the target\n",
    "import xgboost\n",
    "model = xgboost.XGBRegressor()\n",
    "model = feature_selection.SelectKBest(score_func=feature_selection.f_regression,k=4)\n",
    "results = model.fit(data[feature_cols], data['mpg'])\n",
    "k=0\n",
    "print 'Feature Name      Score         Pvalue'\n",
    "for feat in feature_cols:\n",
    "    print feat,'\\t\\t',results.scores_[k],'\\t',results.pvalues_[k]\n",
    "    k=k+1\n"
   ]
  },
  {
   "cell_type": "markdown",
   "metadata": {},
   "source": [
    "# Set the parameters for cross validation"
   ]
  },
  {
   "cell_type": "code",
   "execution_count": 5,
   "metadata": {
    "collapsed": true
   },
   "outputs": [],
   "source": [
    "num_folds = 10\n",
    "num_instances = len(X)\n",
    "seed = 7\n",
    "kfold = cross_validation.KFold(n=num_instances, n_folds=num_folds, random_state=seed)"
   ]
  },
  {
   "cell_type": "markdown",
   "metadata": {},
   "source": [
    " # Set the parameters for bias-variance dilemma"
   ]
  },
  {
   "cell_type": "code",
   "execution_count": 6,
   "metadata": {
    "collapsed": false
   },
   "outputs": [],
   "source": [
    "def plot_learning_curve(estimator, title, X, y, ylim=None, cv=None,\n",
    "                        n_jobs=1, train_sizes=np.linspace(.1, 1.0, 5)):\n",
    "    plt.figure()\n",
    "    plt.title(title)\n",
    "    if ylim is not None:\n",
    "        plt.ylim(*ylim)\n",
    "    plt.xlabel(\"Training examples\")\n",
    "    plt.ylabel(\"Score\")\n",
    "    train_sizes, train_scores, test_scores = learning_curve(\n",
    "        estimator, X, y, cv=cv, n_jobs=n_jobs, train_sizes=train_sizes)\n",
    "    train_scores_mean = np.mean(train_scores, axis=1)\n",
    "    train_scores_std = np.std(train_scores, axis=1)\n",
    "    test_scores_mean = np.mean(test_scores, axis=1)\n",
    "    test_scores_std = np.std(test_scores, axis=1)\n",
    "    plt.grid()\n",
    "\n",
    "    plt.fill_between(train_sizes, train_scores_mean - train_scores_std,\n",
    "                     train_scores_mean + train_scores_std, alpha=0.1,\n",
    "                     color=\"r\")\n",
    "    plt.fill_between(train_sizes, test_scores_mean - test_scores_std,\n",
    "                     test_scores_mean + test_scores_std, alpha=0.1, color=\"g\")\n",
    "    plt.plot(train_sizes, train_scores_mean, 'o-', color=\"r\",\n",
    "             label=\"Training score\")\n",
    "    plt.plot(train_sizes, test_scores_mean, 'o-', color=\"g\",\n",
    "             label=\"Cross-validation score\")\n",
    "\n",
    "    plt.legend(loc=\"best\")\n",
    "    return plt"
   ]
  },
  {
   "cell_type": "markdown",
   "metadata": {},
   "source": [
    "# 1. DecisionTreeRegressor  with Xgboost Regression"
   ]
  },
  {
   "cell_type": "markdown",
   "metadata": {},
   "source": [
    "Decision trees or the Classification and Regression Trees (CART as they are know) use the training data to select the best points to split the data in order to minimize a cost metric. The default cost metric for regression decision trees is the mean squared error, specified in the criterion parameter."
   ]
  },
  {
   "cell_type": "markdown",
   "metadata": {},
   "source": [
    "## Validation curve"
   ]
  },
  {
   "cell_type": "markdown",
   "metadata": {},
   "source": [
    "choosing multiple hyperparameters of an estimator "
   ]
  },
  {
   "cell_type": "code",
   "execution_count": 7,
   "metadata": {
    "collapsed": false
   },
   "outputs": [
    {
     "data": {
      "text/plain": [
       "['k', 'score_func']"
      ]
     },
     "execution_count": 7,
     "metadata": {},
     "output_type": "execute_result"
    }
   ],
   "source": [
    "\n",
    "estimator = model\n",
    "estimator.get_params().keys()"
   ]
  },
  {
   "cell_type": "code",
   "execution_count": 8,
   "metadata": {
    "collapsed": false
   },
   "outputs": [
    {
     "data": {
      "image/png": "[encoded data removed]",
      "text/plain": [
       "<matplotlib.figure.Figure at 0x7f958deef490>"
      ]
     },
     "metadata": {},
     "output_type": "display_data"
    }
   ],
   "source": [
    "#param_range = np.logspace(-10.0, 10.0)\n",
    "#param_range = np.linspace(1,50,100)\n",
    "param_range = np.arange(1,20) # generate integer numbers\n",
    "\n",
    "train_scores, test_scores = validation_curve(\n",
    "    xgboost.XGBRegressor(), X, Y, param_name=\"max_depth\", param_range=param_range,\n",
    "    cv=num_folds,  n_jobs=-1)\n",
    "train_scores_mean = np.mean(train_scores, axis=1)\n",
    "train_scores_std = np.std(train_scores, axis=1)\n",
    "test_scores_mean = np.mean(test_scores, axis=1)\n",
    "test_scores_std = np.std(test_scores, axis=1)\n",
    "\n",
    "plt.title(\"Validation Curve with DecisionTreeRegressor\")\n",
    "plt.xlabel(\"max_depth\")\n",
    "plt.ylabel(\"Score\")\n",
    "plt.ylim(0.4, 1.5)\n",
    "plt.plot(param_range, train_scores_mean, label=\"Training score\", color=\"r\")\n",
    "plt.fill_between(param_range, train_scores_mean - train_scores_std,\n",
    "                 train_scores_mean + train_scores_std, alpha=0.2, color=\"r\")\n",
    "plt.plot(param_range, test_scores_mean, label=\"Cross-validation score\",\n",
    "             color=\"g\")\n",
    "plt.fill_between(param_range, test_scores_mean - test_scores_std,\n",
    "                 test_scores_mean + test_scores_std, alpha=0.2, color=\"g\")\n",
    "plt.legend(loc=\"best\")\n",
    "plt.show()"
   ]
  },
  {
   "cell_type": "markdown",
   "metadata": {},
   "source": [
    "more that 5 is the best of number of max_depth"
   ]
  },
  {
   "cell_type": "code",
   "execution_count": 9,
   "metadata": {
    "collapsed": false
   },
   "outputs": [
    {
     "data": {
      "text/plain": [
       "array([  1.00000000e-05,   5.99484250e-05,   3.59381366e-04,\n",
       "         2.15443469e-03,   1.29154967e-02,   7.74263683e-02,\n",
       "         4.64158883e-01,   2.78255940e+00,   1.66810054e+01,\n",
       "         1.00000000e+02])"
      ]
     },
     "execution_count": 9,
     "metadata": {},
     "output_type": "execute_result"
    }
   ],
   "source": [
    "np.logspace(-5.0, 2.0,10)\n",
    "\n"
   ]
  },
  {
   "cell_type": "markdown",
   "metadata": {},
   "source": [
    "min_samples_split =2 (The defualt) is the best"
   ]
  },
  {
   "cell_type": "markdown",
   "metadata": {},
   "source": [
    "## Grid search and/or Random search to determine best compination of parameters"
   ]
  },
  {
   "cell_type": "code",
   "execution_count": 10,
   "metadata": {
    "collapsed": false
   },
   "outputs": [
    {
     "name": "stdout",
     "output_type": "stream",
     "text": [
      "Hyperparameter optimization using GridSearchCV...\n",
      "Parameters with rank: 1\n",
      "Mean validation score: 0.8618 (std: 0.0532)\n",
      "Parameters: {'max_depth': 3}\n",
      "\n",
      "Parameters with rank: 2\n",
      "Mean validation score: 0.8576 (std: 0.0550)\n",
      "Parameters: {'max_depth': 4}\n",
      "\n",
      "Parameters with rank: 3\n",
      "Mean validation score: 0.8568 (std: 0.0497)\n",
      "Parameters: {'max_depth': 2}\n",
      "\n",
      "Parameters with rank: 4\n",
      "Mean validation score: 0.8537 (std: 0.0627)\n",
      "Parameters: {'max_depth': 5}\n",
      "\n",
      "Parameters with rank: 5\n",
      "Mean validation score: 0.8454 (std: 0.0446)\n",
      "Parameters: {'max_depth': 1}\n",
      "\n",
      "+++++++++++++++++++++++++++++++++++++++++++++++\n",
      "Hyperparameter optimization using RandomizedSearchCV\n",
      "Parameters with rank: 1\n",
      "Mean validation score: 0.8618 (std: 0.0532)\n",
      "Parameters: {'max_depth': 3}\n",
      "\n",
      "Parameters with rank: 2\n",
      "Mean validation score: 0.8576 (std: 0.0550)\n",
      "Parameters: {'max_depth': 4}\n",
      "\n",
      "Parameters with rank: 3\n",
      "Mean validation score: 0.8568 (std: 0.0497)\n",
      "Parameters: {'max_depth': 2}\n",
      "\n",
      "Parameters with rank: 4\n",
      "Mean validation score: 0.8537 (std: 0.0627)\n",
      "Parameters: {'max_depth': 5}\n",
      "\n",
      "Parameters with rank: 5\n",
      "Mean validation score: 0.8454 (std: 0.0446)\n",
      "Parameters: {'max_depth': 1}\n",
      "\n"
     ]
    }
   ],
   "source": [
    "##### Utility function to report optimal parameters\n",
    "from operator import itemgetter\n",
    "def report(grid_scores, n_top=5):\n",
    "    params = None\n",
    "    top_scores = sorted(grid_scores, key=itemgetter(1), reverse=True)[:n_top]\n",
    "    for i, score in enumerate(top_scores):\n",
    "        print(\"Parameters with rank: {0}\".format(i + 1))\n",
    "        print(\"Mean validation score: {0:.4f} (std: {1:.4f})\".format(\n",
    "              score.mean_validation_score, np.std(score.cv_validation_scores)))\n",
    "        print(\"Parameters: {0}\".format(score.parameters))\n",
    "        print(\"\")\n",
    "        \n",
    "        if params == None:\n",
    "            params = score.parameters\n",
    "    \n",
    "    return params\n",
    "\n",
    "# The most common value for the max number of features to look at in each split is sqrt(# of features)\n",
    "sqrtfeat = np.sqrt(X.shape[1]) \n",
    "grid_test1 = { \"max_depth\"      : [1,2,3,4,5]}\n",
    "\n",
    "# Large randomized test using max_depth to control tree size (5000 possible combinations)\n",
    "random_test1 = { \"max_depth\"      : np.arange(1,6)}\n",
    "\n",
    "\n",
    "forest = xgboost.XGBRegressor()\n",
    "\n",
    "print \"Hyperparameter optimization using GridSearchCV...\"\n",
    "grid_search = GridSearchCV(forest, grid_test1, n_jobs=-1, cv=num_folds)\n",
    "grid_search.fit(X, Y)\n",
    "best_params_from_grid_search = report(grid_search.grid_scores_)\n",
    "print '+++++++++++++++++++++++++++++++++++++++++++++++'\n",
    "print \"Hyperparameter optimization using RandomizedSearchCV\"\n",
    "grid_search = RandomizedSearchCV(forest, random_test1, n_jobs=-1, cv=num_folds, n_iter=5)\n",
    "grid_search.fit(X, Y)\n",
    "best_params_from_rand_search1 = report(grid_search.grid_scores_)"
   ]
  },
  {
   "cell_type": "markdown",
   "metadata": {},
   "source": [
    "Best parameters Parameters: Parameters: {'max_features': None, 'max_depth': 19, 'min_samples_leaf': 1}\n"
   ]
  },
  {
   "cell_type": "markdown",
   "metadata": {},
   "source": [
    "## Learning Curve "
   ]
  },
  {
   "cell_type": "markdown",
   "metadata": {},
   "source": [
    "In essence, what we’re doing it training the exact same model with increasingly large fractions of our total training data, and plotting the error of the training and test sets at each step."
   ]
  },
  {
   "cell_type": "code",
   "execution_count": 11,
   "metadata": {
    "collapsed": false
   },
   "outputs": [
    {
     "data": {
      "image/png": "[encoded data removed]",
      "text/plain": [
       "<matplotlib.figure.Figure at 0x7f958d31e5d0>"
      ]
     },
     "metadata": {},
     "output_type": "display_data"
    }
   ],
   "source": [
    "\n",
    "model = xgboost.XGBRegressor(max_depth=2, learning_rate = 0.1)\n",
    "title = \"Learning Curves (Ada DecisionTreeRegressor Refression)\"\n",
    "cv = cross_validation.ShuffleSplit(X.shape[0], n_iter=100,\n",
    "                                   test_size=0.2, random_state=0)\n",
    "plot_learning_curve(model, title, X, Y, cv=cv, n_jobs=-1)\n",
    "plt.show()"
   ]
  },
  {
   "cell_type": "code",
   "execution_count": 12,
   "metadata": {
    "collapsed": false
   },
   "outputs": [
    {
     "name": "stdout",
     "output_type": "stream",
     "text": [
      "train_sizes =  [ 50  80 110]\n",
      " training scores\n",
      " 50 training sizees\n",
      "0.987780533655 ± 0.00474331087253\n",
      " 80 training sizees\n",
      "0.976173649082 ± 0.00660952951185\n",
      " 110 training sizees\n",
      "0.966008369154 ± 0.0075996527299\n",
      "\n",
      " validation scores\n",
      " 50 validation scores\n",
      "0.787315014308 ± 0.0645488761927\n",
      " 80 validation scores\n",
      "0.809429345339 ± 0.0564789475688\n",
      " 110 validation scores\n",
      "0.827729955976 ± 0.0530347796819\n"
     ]
    }
   ],
   "source": [
    "# More data from learning curve to show the process of building the model\n",
    "train_sizes, train_scores, valid_scores = learning_curve(\n",
    "     model, X, Y, train_sizes=[50, 80, 110], cv=cv, n_jobs=4)\n",
    "\n",
    "print 'train_sizes = ', train_sizes\n",
    "\n",
    "print ' training scores'\n",
    "print ' 50 training sizees'\n",
    "print train_scores[0].mean(),'±',train_scores[0].std()\n",
    "print ' 80 training sizees'\n",
    "print train_scores[1].mean(),'±',train_scores[1].std()\n",
    "print ' 110 training sizees'\n",
    "print train_scores[2].mean(),'±',train_scores[2].std()\n",
    "\n",
    "print '\\n validation scores'\n",
    "print ' 50 validation scores'\n",
    "print valid_scores[0].mean(),'±',valid_scores[0].std()\n",
    "print ' 80 validation scores'\n",
    "print valid_scores[1].mean(),'±',valid_scores[1].std()\n",
    "print ' 110 validation scores'\n",
    "print valid_scores[2].mean(),'±',valid_scores[2].std()"
   ]
  },
  {
   "cell_type": "markdown",
   "metadata": {},
   "source": [
    "## Cross validation"
   ]
  },
  {
   "cell_type": "code",
   "execution_count": 13,
   "metadata": {
    "collapsed": false
   },
   "outputs": [
    {
     "name": "stdout",
     "output_type": "stream",
     "text": [
      "Scoring according to mean_squared_error\n",
      "[ -5.27796286 -10.60151539  -8.68337932 -15.8434935   -9.79408905\n",
      "  -4.66580836  -9.18685055  -2.64607613 -10.4622945   -8.59545237]\n",
      "\n",
      " Mean      Standard deviation\n",
      "-8.58      3.52\n"
     ]
    },
    {
     "data": {
      "text/plain": [
       "XGBRegressor(base_score=0.5, colsample_bylevel=1, colsample_bytree=1, gamma=0,\n",
       "       learning_rate=0.1, max_delta_step=0, max_depth=2,\n",
       "       min_child_weight=1, missing=None, n_estimators=100, nthread=-1,\n",
       "       objective='reg:linear', reg_alpha=0, reg_lambda=1,\n",
       "       scale_pos_weight=1, seed=0, silent=True, subsample=1)"
      ]
     },
     "execution_count": 13,
     "metadata": {},
     "output_type": "execute_result"
    }
   ],
   "source": [
    "scoring = 'mean_squared_error'\n",
    "results = cross_validation.cross_val_score(model, X, Y, cv=kfold, scoring=scoring)\n",
    "print 'Scoring according to mean_squared_error'\n",
    "print results\n",
    "print '\\n Mean      Standard deviation'\n",
    "print(\"%.2f      %.2f\" % (results.mean(), results.std()))\n",
    "## Fit the model\n",
    "model.fit(X,Y)\n"
   ]
  },
  {
   "cell_type": "markdown",
   "metadata": {},
   "source": [
    "## Coefficients Of Determination {Calculating R^2}\n",
    "\n",
    "R^2, Close to one is better"
   ]
  },
  {
   "cell_type": "code",
   "execution_count": 14,
   "metadata": {
    "collapsed": false
   },
   "outputs": [
    {
     "name": "stdout",
     "output_type": "stream",
     "text": [
      "R-squared =  0.857844036544\n"
     ]
    }
   ],
   "source": [
    "predicted = cross_val_predict(model, X, Y, cv=kfold)\n",
    "r_squared = r2_score(Y, predicted, multioutput='variance_weighted')\n",
    "print 'R-squared = ',r_squared"
   ]
  },
  {
   "cell_type": "markdown",
   "metadata": {},
   "source": [
    "## Residual Plot"
   ]
  },
  {
   "cell_type": "code",
   "execution_count": 15,
   "metadata": {
    "collapsed": false
   },
   "outputs": [
    {
     "data": {
      "image/png": "[encoded data removed]",
      "text/plain": [
       "<matplotlib.figure.Figure at 0x7f95883b00d0>"
      ]
     },
     "metadata": {},
     "output_type": "display_data"
    }
   ],
   "source": [
    "predicted = cross_val_predict(model, X, Y, cv=kfold)\n",
    "fig, ax = plt.subplots()\n",
    "ax.scatter(Y, predicted)\n",
    "ax.plot([Y.min(), Y.max()], [Y.min(), Y.max()], 'k--', lw=4)\n",
    "ax.set_xlabel('Measured')\n",
    "ax.set_ylabel('Predicted')\n",
    "plt.show()"
   ]
  },
  {
   "cell_type": "code",
   "execution_count": 16,
   "metadata": {
    "collapsed": false
   },
   "outputs": [
    {
     "data": {
      "text/html": [
       "\n",
       "\n",
       "    <div class=\"bk-root\">\n",
       "        <div class=\"plotdiv\" id=\"a8d7cd04-3e57-4ad0-b1fa-39d52d9a4f43\"></div>\n",
       "    </div>\n",
       "<script type=\"text/javascript\">\n",
       "  \n",
       "  (function(global) {\n",
       "    function now() {\n",
       "      return new Date();\n",
       "    }\n",
       "  \n",
       "    var force = \"\";\n",
       "  \n",
       "    if (typeof (window._bokeh_onload_callbacks) === \"undefined\" || force !== \"\") {\n",
       "      window._bokeh_onload_callbacks = [];\n",
       "      window._bokeh_is_loading = undefined;\n",
       "    }\n",
       "  \n",
       "  \n",
       "    \n",
       "    if (typeof (window._bokeh_timeout) === \"undefined\" || force !== \"\") {\n",
       "      window._bokeh_timeout = Date.now() + 0;\n",
       "      window._bokeh_failed_load = false;\n",
       "    }\n",
       "  \n",
       "    var NB_LOAD_WARNING = {'data': {'text/html':\n",
       "       \"<div style='background-color: #fdd'>\\n\"+\n",
       "       \"<p>\\n\"+\n",
       "       \"BokehJS does not appear to have successfully loaded. If loading BokehJS from CDN, this \\n\"+\n",
       "       \"may be due to a slow or bad network connection. Possible fixes:\\n\"+\n",
       "       \"</p>\\n\"+\n",
       "       \"<ul>\\n\"+\n",
       "       \"<li>re-rerun `output_notebook()` to attempt to load from CDN again, or</li>\\n\"+\n",
       "       \"<li>use INLINE resources instead, as so:</li>\\n\"+\n",
       "       \"</ul>\\n\"+\n",
       "       \"<code>\\n\"+\n",
       "       \"from bokeh.resources import INLINE\\n\"+\n",
       "       \"output_notebook(resources=INLINE)\\n\"+\n",
       "       \"</code>\\n\"+\n",
       "       \"</div>\"}};\n",
       "  \n",
       "    function display_loaded() {\n",
       "      if (window.Bokeh !== undefined) {\n",
       "        Bokeh.$(\"#a8d7cd04-3e57-4ad0-b1fa-39d52d9a4f43\").text(\"BokehJS successfully loaded.\");\n",
       "      } else if (Date.now() < window._bokeh_timeout) {\n",
       "        setTimeout(display_loaded, 100)\n",
       "      }\n",
       "    }\n",
       "  \n",
       "    function run_callbacks() {\n",
       "      window._bokeh_onload_callbacks.forEach(function(callback) { callback() });\n",
       "      delete window._bokeh_onload_callbacks\n",
       "      console.info(\"Bokeh: all callbacks have finished\");\n",
       "    }\n",
       "  \n",
       "    function load_libs(js_urls, callback) {\n",
       "      window._bokeh_onload_callbacks.push(callback);\n",
       "      if (window._bokeh_is_loading > 0) {\n",
       "        console.log(\"Bokeh: BokehJS is being loaded, scheduling callback at\", now());\n",
       "        return null;\n",
       "      }\n",
       "      if (js_urls == null || js_urls.length === 0) {\n",
       "        run_callbacks();\n",
       "        return null;\n",
       "      }\n",
       "      console.log(\"Bokeh: BokehJS not loaded, scheduling load and callback at\", now());\n",
       "      window._bokeh_is_loading = js_urls.length;\n",
       "      for (var i = 0; i < js_urls.length; i++) {\n",
       "        var url = js_urls[i];\n",
       "        var s = document.createElement('script');\n",
       "        s.src = url;\n",
       "        s.async = false;\n",
       "        s.onreadystatechange = s.onload = function() {\n",
       "          window._bokeh_is_loading--;\n",
       "          if (window._bokeh_is_loading === 0) {\n",
       "            console.log(\"Bokeh: all BokehJS libraries loaded\");\n",
       "            run_callbacks()\n",
       "          }\n",
       "        };\n",
       "        s.onerror = function() {\n",
       "          console.warn(\"failed to load library \" + url);\n",
       "        };\n",
       "        console.log(\"Bokeh: injecting script tag for BokehJS library: \", url);\n",
       "        document.getElementsByTagName(\"head\")[0].appendChild(s);\n",
       "      }\n",
       "    };var element = document.getElementById(\"a8d7cd04-3e57-4ad0-b1fa-39d52d9a4f43\");\n",
       "    if (element == null) {\n",
       "      console.log(\"Bokeh: ERROR: autoload.js configured with elementid 'a8d7cd04-3e57-4ad0-b1fa-39d52d9a4f43' but no matching script tag was found. \")\n",
       "      return false;\n",
       "    }\n",
       "  \n",
       "    var js_urls = [];\n",
       "  \n",
       "    var inline_js = [\n",
       "      function(Bokeh) {\n",
       "        Bokeh.$(function() {\n",
       "            var docs_json = {\"ae4157f3-d8b5-4bea-8703-cdbfd8e01bf1\":{\"roots\":{\"references\":[{\"attributes\":{},\"id\":\"e933d39d-4d27-471c-a250-d518b6697b47\",\"type\":\"BasicTickFormatter\"},{\"attributes\":{\"fill_color\":{\"value\":\"#80B1D3\"},\"line_color\":{\"value\":\"#80B1D3\"},\"line_width\":{\"value\":3},\"x\":{\"field\":\"x\"},\"y\":{\"field\":\"y\"}},\"id\":\"6beae853-138e-4c23-b036-5e3aaa68708a\",\"type\":\"Circle\"},{\"attributes\":{\"callback\":null},\"id\":\"b245ffc8-35a6-4a20-afe9-bb56656c94a7\",\"type\":\"DataRange1d\"},{\"attributes\":{\"data_source\":{\"id\":\"8e791bac-1b23-4a28-addf-376119e0b4d1\",\"type\":\"ColumnDataSource\"},\"glyph\":{\"id\":\"6beae853-138e-4c23-b036-5e3aaa68708a\",\"type\":\"Circle\"},\"hover_glyph\":null,\"nonselection_glyph\":{\"id\":\"745af2f5-fa38-4c01-b203-f2cdeeb08530\",\"type\":\"Circle\"},\"selection_glyph\":null},\"id\":\"52e1cb2a-7e54-42f3-92f7-30f3e7915f13\",\"type\":\"GlyphRenderer\"},{\"attributes\":{\"line_dash\":[4,4],\"line_width\":{\"value\":2},\"x\":{\"field\":\"x\"},\"y\":{\"field\":\"y\"}},\"id\":\"4e4e0919-10ec-460b-a071-f1a1ac75e4ca\",\"type\":\"Line\"},{\"attributes\":{\"background_fill_alpha\":{\"value\":0.5},\"background_fill_color\":{\"value\":\"beige\"},\"below\":[{\"id\":\"b52b7371-b767-451f-91c9-6c6cac2bb459\",\"type\":\"LinearAxis\"}],\"left\":[{\"id\":\"d641c40e-42ad-471b-a60b-75b9b3ae60e6\",\"type\":\"LinearAxis\"}],\"plot_height\":500,\"plot_width\":500,\"renderers\":[{\"id\":\"b52b7371-b767-451f-91c9-6c6cac2bb459\",\"type\":\"LinearAxis\"},{\"id\":\"b82e5546-c5f5-43b6-a4fe-9b26bc5940ad\",\"type\":\"Grid\"},{\"id\":\"d641c40e-42ad-471b-a60b-75b9b3ae60e6\",\"type\":\"LinearAxis\"},{\"id\":\"a7f220b4-b060-428d-aa1d-dbf2bdde941c\",\"type\":\"Grid\"},{\"id\":\"5be356b3-8f84-452b-99e3-cbf7103d350b\",\"type\":\"BoxAnnotation\"},{\"id\":\"37ddc06b-fef8-4e1c-8a2a-1bbf87c347d1\",\"type\":\"BoxAnnotation\"},{\"id\":\"16d26adc-e869-444e-a86b-87f0567bdcda\",\"type\":\"PolyAnnotation\"},{\"id\":\"eb93156d-4d0b-47de-ae35-ebf45dd781f8\",\"type\":\"PolyAnnotation\"},{\"id\":\"52e1cb2a-7e54-42f3-92f7-30f3e7915f13\",\"type\":\"GlyphRenderer\"},{\"id\":\"722df58a-50c1-402d-a516-1863aa85b31d\",\"type\":\"GlyphRenderer\"}],\"title\":{\"id\":\"b4fc7bc4-ed30-4ede-8b53-0b901f722cce\",\"type\":\"Title\"},\"tool_events\":{\"id\":\"14610b4e-f3ad-4afd-9413-bbb06e24e447\",\"type\":\"ToolEvents\"},\"toolbar\":{\"id\":\"5b0ae3af-a11c-43d8-8294-0e65a549e9af\",\"type\":\"Toolbar\"},\"x_range\":{\"id\":\"b91aa098-e868-40a4-89e8-640755618a62\",\"type\":\"DataRange1d\"},\"y_range\":{\"id\":\"b245ffc8-35a6-4a20-afe9-bb56656c94a7\",\"type\":\"DataRange1d\"}},\"id\":\"a4a2e054-62dd-4e6e-935c-f160878d7009\",\"subtype\":\"Figure\",\"type\":\"Plot\"},{\"attributes\":{\"dimension\":1,\"plot\":{\"id\":\"a4a2e054-62dd-4e6e-935c-f160878d7009\",\"subtype\":\"Figure\",\"type\":\"Plot\"},\"ticker\":{\"id\":\"6263211a-6a11-4315-afcb-eaf555bfe68b\",\"type\":\"BasicTicker\"}},\"id\":\"a7f220b4-b060-428d-aa1d-dbf2bdde941c\",\"type\":\"Grid\"},{\"attributes\":{\"plot\":{\"id\":\"a4a2e054-62dd-4e6e-935c-f160878d7009\",\"subtype\":\"Figure\",\"type\":\"Plot\"}},\"id\":\"0c16cc31-0af1-4969-8fde-1b3fa44ac279\",\"type\":\"UndoTool\"},{\"attributes\":{\"data_source\":{\"id\":\"487f139d-2220-4334-8b3c-a7020a37b90f\",\"type\":\"ColumnDataSource\"},\"glyph\":{\"id\":\"4e4e0919-10ec-460b-a071-f1a1ac75e4ca\",\"type\":\"Line\"},\"hover_glyph\":null,\"nonselection_glyph\":{\"id\":\"cee98171-f94a-41db-a4c9-1ef227bba2c5\",\"type\":\"Line\"},\"selection_glyph\":null},\"id\":\"722df58a-50c1-402d-a516-1863aa85b31d\",\"type\":\"GlyphRenderer\"},{\"attributes\":{\"line_alpha\":{\"value\":0.1},\"line_color\":{\"value\":\"#1f77b4\"},\"line_dash\":[4,4],\"line_width\":{\"value\":2},\"x\":{\"field\":\"x\"},\"y\":{\"field\":\"y\"}},\"id\":\"cee98171-f94a-41db-a4c9-1ef227bba2c5\",\"type\":\"Line\"},{\"attributes\":{\"bottom_units\":\"screen\",\"fill_alpha\":{\"value\":0.5},\"fill_color\":{\"value\":\"lightgrey\"},\"left_units\":\"screen\",\"level\":\"overlay\",\"line_alpha\":{\"value\":1.0},\"line_color\":{\"value\":\"black\"},\"line_dash\":[4,4],\"line_width\":{\"value\":2},\"plot\":null,\"render_mode\":\"css\",\"right_units\":\"screen\",\"top_units\":\"screen\"},\"id\":\"37ddc06b-fef8-4e1c-8a2a-1bbf87c347d1\",\"type\":\"BoxAnnotation\"},{\"attributes\":{\"callback\":null},\"id\":\"b91aa098-e868-40a4-89e8-640755618a62\",\"type\":\"DataRange1d\"},{\"attributes\":{\"axis_label\":\"Predicted\",\"axis_label_text_color\":{\"value\":\"#aa6666\"},\"formatter\":{\"id\":\"e933d39d-4d27-471c-a250-d518b6697b47\",\"type\":\"BasicTickFormatter\"},\"plot\":{\"id\":\"a4a2e054-62dd-4e6e-935c-f160878d7009\",\"subtype\":\"Figure\",\"type\":\"Plot\"},\"ticker\":{\"id\":\"6263211a-6a11-4315-afcb-eaf555bfe68b\",\"type\":\"BasicTicker\"}},\"id\":\"d641c40e-42ad-471b-a60b-75b9b3ae60e6\",\"type\":\"LinearAxis\"},{\"attributes\":{\"fill_alpha\":{\"value\":0.5},\"fill_color\":{\"value\":\"lightgrey\"},\"level\":\"overlay\",\"line_alpha\":{\"value\":1.0},\"line_color\":{\"value\":\"black\"},\"line_dash\":[4,4],\"line_width\":{\"value\":2},\"plot\":null,\"xs_units\":\"screen\",\"ys_units\":\"screen\"},\"id\":\"eb93156d-4d0b-47de-ae35-ebf45dd781f8\",\"type\":\"PolyAnnotation\"},{\"attributes\":{},\"id\":\"8278813d-e527-438d-9fd7-dd00689f7538\",\"type\":\"BasicTicker\"},{\"attributes\":{\"plot\":{\"id\":\"a4a2e054-62dd-4e6e-935c-f160878d7009\",\"subtype\":\"Figure\",\"type\":\"Plot\"}},\"id\":\"7e7e8aae-d25c-4fec-8463-0e8d8e77ea15\",\"type\":\"ResetTool\"},{\"attributes\":{},\"id\":\"6263211a-6a11-4315-afcb-eaf555bfe68b\",\"type\":\"BasicTicker\"},{\"attributes\":{\"plot\":{\"id\":\"a4a2e054-62dd-4e6e-935c-f160878d7009\",\"subtype\":\"Figure\",\"type\":\"Plot\"}},\"id\":\"45023645-49a9-4448-b16c-c1a6183eaf9d\",\"type\":\"PanTool\"},{\"attributes\":{\"callback\":null,\"overlay\":{\"id\":\"16d26adc-e869-444e-a86b-87f0567bdcda\",\"type\":\"PolyAnnotation\"},\"plot\":{\"id\":\"a4a2e054-62dd-4e6e-935c-f160878d7009\",\"subtype\":\"Figure\",\"type\":\"Plot\"}},\"id\":\"e097b7ee-5df6-4404-af88-08a6a644254a\",\"type\":\"LassoSelectTool\"},{\"attributes\":{\"bottom_units\":\"screen\",\"fill_alpha\":{\"value\":0.5},\"fill_color\":{\"value\":\"lightgrey\"},\"left_units\":\"screen\",\"level\":\"overlay\",\"line_alpha\":{\"value\":1.0},\"line_color\":{\"value\":\"black\"},\"line_dash\":[4,4],\"line_width\":{\"value\":2},\"plot\":null,\"render_mode\":\"css\",\"right_units\":\"screen\",\"top_units\":\"screen\"},\"id\":\"5be356b3-8f84-452b-99e3-cbf7103d350b\",\"type\":\"BoxAnnotation\"},{\"attributes\":{\"callback\":null,\"plot\":{\"id\":\"a4a2e054-62dd-4e6e-935c-f160878d7009\",\"subtype\":\"Figure\",\"type\":\"Plot\"}},\"id\":\"ef406718-fecd-4c3c-8803-f0cfcc7d09da\",\"type\":\"TapTool\"},{\"attributes\":{\"plot\":{\"id\":\"a4a2e054-62dd-4e6e-935c-f160878d7009\",\"subtype\":\"Figure\",\"type\":\"Plot\"}},\"id\":\"4c5aecf0-b897-4067-8bea-e6da60a5a0ac\",\"type\":\"SaveTool\"},{\"attributes\":{\"fill_alpha\":{\"value\":0.1},\"fill_color\":{\"value\":\"#1f77b4\"},\"line_alpha\":{\"value\":0.1},\"line_color\":{\"value\":\"#1f77b4\"},\"line_width\":{\"value\":3},\"x\":{\"field\":\"x\"},\"y\":{\"field\":\"y\"}},\"id\":\"745af2f5-fa38-4c01-b203-f2cdeeb08530\",\"type\":\"Circle\"},{\"attributes\":{},\"id\":\"14610b4e-f3ad-4afd-9413-bbb06e24e447\",\"type\":\"ToolEvents\"},{\"attributes\":{\"active_drag\":\"auto\",\"active_scroll\":\"auto\",\"active_tap\":\"auto\",\"tools\":[{\"id\":\"eb3c824c-df61-446b-9ffb-235053651c6e\",\"type\":\"BoxZoomTool\"},{\"id\":\"ec672640-bac2-43a1-ba21-7ae7b3f38596\",\"type\":\"BoxSelectTool\"},{\"id\":\"ebb93484-542f-4a05-be34-f15362b7e472\",\"type\":\"CrosshairTool\"},{\"id\":\"1d06146e-9642-4ffb-8f04-371e6d0245ee\",\"type\":\"ResizeTool\"},{\"id\":\"7e7e8aae-d25c-4fec-8463-0e8d8e77ea15\",\"type\":\"ResetTool\"},{\"id\":\"e097b7ee-5df6-4404-af88-08a6a644254a\",\"type\":\"LassoSelectTool\"},{\"id\":\"45023645-49a9-4448-b16c-c1a6183eaf9d\",\"type\":\"PanTool\"},{\"id\":\"4c5aecf0-b897-4067-8bea-e6da60a5a0ac\",\"type\":\"SaveTool\"},{\"id\":\"5c4c83fb-0f98-46af-b01c-f43bf2f721bf\",\"type\":\"PolySelectTool\"},{\"id\":\"ef406718-fecd-4c3c-8803-f0cfcc7d09da\",\"type\":\"TapTool\"},{\"id\":\"374930c2-16ec-4ab5-8670-264bf764939f\",\"type\":\"WheelZoomTool\"},{\"id\":\"0c16cc31-0af1-4969-8fde-1b3fa44ac279\",\"type\":\"UndoTool\"}]},\"id\":\"5b0ae3af-a11c-43d8-8294-0e65a549e9af\",\"type\":\"Toolbar\"},{\"attributes\":{\"plot\":{\"id\":\"a4a2e054-62dd-4e6e-935c-f160878d7009\",\"subtype\":\"Figure\",\"type\":\"Plot\"}},\"id\":\"ebb93484-542f-4a05-be34-f15362b7e472\",\"type\":\"CrosshairTool\"},{\"attributes\":{\"overlay\":{\"id\":\"5be356b3-8f84-452b-99e3-cbf7103d350b\",\"type\":\"BoxAnnotation\"},\"plot\":{\"id\":\"a4a2e054-62dd-4e6e-935c-f160878d7009\",\"subtype\":\"Figure\",\"type\":\"Plot\"}},\"id\":\"eb3c824c-df61-446b-9ffb-235053651c6e\",\"type\":\"BoxZoomTool\"},{\"attributes\":{\"callback\":null,\"overlay\":{\"id\":\"37ddc06b-fef8-4e1c-8a2a-1bbf87c347d1\",\"type\":\"BoxAnnotation\"},\"plot\":{\"id\":\"a4a2e054-62dd-4e6e-935c-f160878d7009\",\"subtype\":\"Figure\",\"type\":\"Plot\"},\"renderers\":[{\"id\":\"52e1cb2a-7e54-42f3-92f7-30f3e7915f13\",\"type\":\"GlyphRenderer\"},{\"id\":\"722df58a-50c1-402d-a516-1863aa85b31d\",\"type\":\"GlyphRenderer\"}]},\"id\":\"ec672640-bac2-43a1-ba21-7ae7b3f38596\",\"type\":\"BoxSelectTool\"},{\"attributes\":{\"plot\":{\"id\":\"a4a2e054-62dd-4e6e-935c-f160878d7009\",\"subtype\":\"Figure\",\"type\":\"Plot\"},\"ticker\":{\"id\":\"8278813d-e527-438d-9fd7-dd00689f7538\",\"type\":\"BasicTicker\"}},\"id\":\"b82e5546-c5f5-43b6-a4fe-9b26bc5940ad\",\"type\":\"Grid\"},{\"attributes\":{\"callback\":null,\"column_names\":[\"y\",\"x\"],\"data\":{\"x\":[9.0,46.6],\"y\":[9.0,46.6]}},\"id\":\"487f139d-2220-4334-8b3c-a7020a37b90f\",\"type\":\"ColumnDataSource\"},{\"attributes\":{\"plot\":{\"id\":\"a4a2e054-62dd-4e6e-935c-f160878d7009\",\"subtype\":\"Figure\",\"type\":\"Plot\"}},\"id\":\"374930c2-16ec-4ab5-8670-264bf764939f\",\"type\":\"WheelZoomTool\"},{\"attributes\":{},\"id\":\"da4396e9-607b-4c8f-90ef-4f8ee70cb439\",\"type\":\"BasicTickFormatter\"},{\"attributes\":{\"plot\":{\"id\":\"a4a2e054-62dd-4e6e-935c-f160878d7009\",\"subtype\":\"Figure\",\"type\":\"Plot\"}},\"id\":\"1d06146e-9642-4ffb-8f04-371e6d0245ee\",\"type\":\"ResizeTool\"},{\"attributes\":{\"callback\":null,\"column_names\":[\"x\",\"y\"],\"data\":{\"x\":[15.0,27.0,34.3,26.0,31.6,33.8,29.0,18.1,27.2,38.0,26.0,14.0,22.0,31.0,36.4,17.6,17.7,28.0,20.8,14.0,20.2,32.8,22.3,28.0,37.0,27.0,23.2,13.0,15.0,22.0,24.0,29.0,13.0,31.8,23.0,25.5,29.9,13.0,17.5,46.6,15.5,32.9,14.0,25.0,19.4,15.0,32.4,31.5,27.0,19.8,17.0,33.5,21.0,23.0,38.1,44.0,40.8,21.0,29.0,17.5,28.0,26.0,26.0,11.0,37.7,24.2,16.0,16.0,30.0,19.0,27.0,19.0,16.0,16.0,20.3,21.0,33.5,23.0,21.5,16.0,19.0,37.0,15.0,16.0,26.0,18.0,13.0,21.0,29.0,22.0,33.0,22.0,16.0,36.0,20.0,22.0,31.3,14.5,29.8,13.0,13.0,36.0,20.5,25.0,27.0,33.0,16.5,20.6,30.0,43.4,34.7,11.0,18.0,13.0,16.0,19.0,23.0,25.5,14.0,24.5,30.0,25.8,38.0,28.8,26.6,17.0,32.0,18.1,11.0,21.0,36.0,13.0,30.0,31.0,14.0,18.0,13.0,21.6,28.0,23.8,14.0,27.0,20.2,26.0,39.4,19.9,19.0,14.0,23.6,13.0,38.0,30.5,18.5,17.0,12.0,16.0,28.0,15.5,32.0,24.0,25.1,16.0,13.0,24.0,22.0,24.0,15.0,19.0,18.0,27.2,14.0,21.0,44.3,28.0,31.5,19.2,14.0,30.5,29.8,36.1,26.8,26.0,20.5,32.1,16.0,17.0,20.0,22.0,25.0,23.9,31.0,39.0,28.0,34.5,22.0,20.6,14.0,25.4,14.0,30.0,19.0,36.0,25.0,14.0,21.1,28.0,19.0,19.1,24.3,44.6,20.0,17.0,13.0,34.2,26.0,17.5,26.0,13.0,18.0,18.5,36.0,16.0,38.0,23.0,20.5,13.0,28.0,12.0,34.1,20.0,12.0,28.4,18.0,20.0,29.5,19.0,26.0,26.0,25.0,32.0,33.7,28.0,19.2,29.5,27.0,15.0,39.1,26.6,13.0,23.0,27.5,20.0,19.2,24.0,32.2,19.4,33.0,12.0,13.0,17.6,23.9,34.4,14.0,31.0,35.1,15.0,15.5,9.0,25.0,18.0,31.0,43.1,17.5,25.0,25.0,19.0,26.0,31.0,18.2,30.7,24.0,17.0,27.0,23.0,18.0,27.2,35.0,29.0,21.5,15.0,17.5,15.0,32.7,10.0,20.0,32.4,34.0,18.0,32.0,14.0,24.0,26.4,14.0,13.0,13.0,18.5,21.5,16.2,16.5,15.0,28.1,29.0,20.2,27.9,22.0,29.0,19.0,25.0],\"y\":[13.690508842468262,28.430906295776367,34.64107131958008,28.02274513244629,30.17790412902832,36.780357360839844,29.552114486694336,18.592824935913086,29.810672760009766,34.45845413208008,27.440017700195312,12.69937801361084,20.822772979736328,32.03721618652344,28.156965255737305,20.081132888793945,19.001972198486328,27.453960418701172,19.96139907836914,13.23654842376709,20.9700927734375,35.83665084838867,25.5853328704834,23.655485153198242,38.37823486328125,26.677213668823242,24.07857322692871,14.757930755615234,14.554739952087402,21.298500061035156,23.341646194458008,29.17816925048828,15.72694206237793,36.21390914916992,23.581127166748047,22.397932052612305,31.81151008605957,13.361433982849121,16.2255859375,36.30463790893555,16.21031951904297,29.685022354125977,14.340500831604004,22.76443099975586,16.961414337158203,18.97660255432129,32.971641540527344,31.4805908203125,28.225820541381836,23.89670753479004,15.291893005371094,30.127676010131836,18.78156852722168,18.98455047607422,36.4647102355957,37.37714767456055,36.49770736694336,20.233173370361328,30.217920303344727,18.603839874267578,23.28571891784668,23.848678588867188,25.05449867248535,12.794676780700684,36.737003326416016,28.831499099731445,14.127700805664062,13.184663772583008,32.35617446899414,22.43388557434082,27.598007202148438,24.449447631835938,16.368412017822266,14.050603866577148,23.50052261352539,19.638038635253906,26.62934684753418,18.287126541137695,20.390769958496094,15.899740219116211,20.354890823364258,34.99549102783203,17.70159912109375,16.76140022277832,28.513296127319336,17.231826782226562,13.67623233795166,24.73789405822754,27.908985137939453,18.141664505004883,30.44362449645996,25.531076431274414,15.607344627380371,32.48114013671875,25.024763107299805,23.426897048950195,30.831178665161133,15.009783744812012,39.07221984863281,13.771069526672363,13.730222702026367,33.89400863647461,19.655099868774414,24.991962432861328,26.123193740844727,31.69756507873535,18.081621170043945,20.66033172607422,28.308101654052734,37.078819274902344,32.76408767700195,13.778578758239746,15.833133697509766,16.27347183227539,13.730222702026367,20.90226173400879,27.08492660522461,27.268352508544922,14.805394172668457,23.245248794555664,29.698705673217773,28.37885284423828,21.264972686767578,25.030986785888672,28.37885284423828,17.163681030273438,29.862308502197266,18.226112365722656,12.936705589294434,20.377180099487305,34.29610061645508,12.728896141052246,31.595443725585938,30.434619903564453,13.729650497436523,28.83390235900879,19.74141502380371,22.68700408935547,28.30059051513672,23.32292366027832,13.608638763427734,26.748796463012695,21.225845336914062,25.76730728149414,33.51906204223633,19.33707618713379,26.176738739013672,18.693021774291992,26.971248626708984,15.561366081237793,36.36970520019531,29.418746948242188,18.62887191772461,15.828459739685059,12.728896141052246,15.699243545532227,26.555410385131836,15.551301002502441,31.692569732666016,25.826107025146484,22.853439331054688,14.822296142578125,15.690580368041992,27.46782112121582,24.09845733642578,24.08230209350586,14.496872901916504,18.53388214111328,19.181907653808594,26.10870361328125,13.720169067382812,22.09583282470703,40.62041091918945,28.03985595703125,31.795934677124023,18.482229232788086,13.18630313873291,32.422019958496094,28.422748565673828,34.15826416015625,24.369531631469727,26.9808349609375,19.2301082611084,35.07215118408203,15.667329788208008,20.855899810791016,19.231786727905273,23.250329971313477,24.668010711669922,20.78023338317871,37.262821197509766,36.320770263671875,25.578319549560547,29.93857192993164,22.609596252441406,19.364704132080078,16.032482147216797,21.371938705444336,16.032482147216797,31.821746826171875,17.76169776916504,32.56550216674805,25.900493621826172,13.74354076385498,26.572423934936523,25.14126205444336,23.908498764038086,22.982328414916992,27.671472549438477,35.166908264160156,20.153034210205078,16.5618896484375,13.74354076385498,32.04769515991211,24.23529815673828,14.986593246459961,22.96600341796875,12.641812324523926,15.960980415344238,17.365774154663086,33.53784942626953,16.85283660888672,35.06719207763672,22.126745223999023,18.92462730407715,12.397513389587402,30.790122985839844,12.397513389587402,35.930091857910156,19.686534881591797,13.720348358154297,26.347036361694336,18.073862075805664,20.480552673339844,31.37334632873535,18.029539108276367,25.3823299407959,25.328569412231445,22.555282592773438,31.222414016723633,34.9800910949707,28.931520462036133,17.861629486083984,31.109336853027344,26.769914627075195,15.987457275390625,37.82979202270508,21.880722045898438,13.685611724853516,22.884601593017578,25.123292922973633,23.277921676635742,20.024673461914062,23.92563819885254,33.35636520385742,20.080875396728516,34.86685562133789,12.854532241821289,12.767413139343262,22.918182373046875,25.28961944580078,36.28693771362305,13.945168495178223,29.2493839263916,38.39291763305664,18.251977920532227,18.344228744506836,14.457832336425781,26.40155792236328,16.249309539794922,30.603984832763672,34.32150650024414,18.946617126464844,23.536664962768555,26.10673713684082,20.11054229736328,26.886301040649414,30.497764587402344,18.542938232421875,23.769512176513672,30.539207458496094,18.542938232421875,28.710206985473633,23.994949340820312,19.58057403564453,29.527650833129883,29.63129425048828,29.645065307617188,22.331592559814453,13.959887504577637,16.179168701171875,14.617483139038086,26.187467575073242,13.191522598266602,17.53890037536621,32.965091705322266,33.857845306396484,21.424226760864258,36.67817306518555,13.420772552490234,19.941009521484375,26.485639572143555,13.92227554321289,13.420772552490234,13.959887504577637,17.51239776611328,25.906574249267578,21.132837295532227,19.200300216674805,14.525720596313477,26.963966369628906,36.52849578857422,17.828378677368164,25.28083610534668,17.483917236328125,29.203136444091797,16.705780029296875,26.858489990234375]}},\"id\":\"8e791bac-1b23-4a28-addf-376119e0b4d1\",\"type\":\"ColumnDataSource\"},{\"attributes\":{\"axis_label\":\"Measured\",\"axis_label_text_color\":{\"value\":\"#aa6666\"},\"formatter\":{\"id\":\"da4396e9-607b-4c8f-90ef-4f8ee70cb439\",\"type\":\"BasicTickFormatter\"},\"major_tick_line_color\":{\"value\":\"firebrick\"},\"major_tick_line_width\":{\"value\":3},\"minor_tick_line_color\":{\"value\":\"orange\"},\"plot\":{\"id\":\"a4a2e054-62dd-4e6e-935c-f160878d7009\",\"subtype\":\"Figure\",\"type\":\"Plot\"},\"ticker\":{\"id\":\"8278813d-e527-438d-9fd7-dd00689f7538\",\"type\":\"BasicTicker\"}},\"id\":\"b52b7371-b767-451f-91c9-6c6cac2bb459\",\"type\":\"LinearAxis\"},{\"attributes\":{\"fill_alpha\":{\"value\":0.5},\"fill_color\":{\"value\":\"lightgrey\"},\"level\":\"overlay\",\"line_alpha\":{\"value\":1.0},\"line_color\":{\"value\":\"black\"},\"line_dash\":[4,4],\"line_width\":{\"value\":2},\"plot\":null,\"xs_units\":\"screen\",\"ys_units\":\"screen\"},\"id\":\"16d26adc-e869-444e-a86b-87f0567bdcda\",\"type\":\"PolyAnnotation\"},{\"attributes\":{\"align\":\"center\",\"plot\":null,\"text\":null},\"id\":\"b4fc7bc4-ed30-4ede-8b53-0b901f722cce\",\"type\":\"Title\"},{\"attributes\":{\"overlay\":{\"id\":\"eb93156d-4d0b-47de-ae35-ebf45dd781f8\",\"type\":\"PolyAnnotation\"},\"plot\":{\"id\":\"a4a2e054-62dd-4e6e-935c-f160878d7009\",\"subtype\":\"Figure\",\"type\":\"Plot\"}},\"id\":\"5c4c83fb-0f98-46af-b01c-f43bf2f721bf\",\"type\":\"PolySelectTool\"}],\"root_ids\":[\"a4a2e054-62dd-4e6e-935c-f160878d7009\"]},\"title\":\"Bokeh Application\",\"version\":\"0.12.2\"}};\n",
       "            var render_items = [{\"docid\":\"ae4157f3-d8b5-4bea-8703-cdbfd8e01bf1\",\"elementid\":\"a8d7cd04-3e57-4ad0-b1fa-39d52d9a4f43\",\"modelid\":\"a4a2e054-62dd-4e6e-935c-f160878d7009\"}];\n",
       "            \n",
       "            Bokeh.embed.embed_items(docs_json, render_items);\n",
       "        });\n",
       "      },\n",
       "      function(Bokeh) {\n",
       "      }\n",
       "    ];\n",
       "  \n",
       "    function run_inline_js() {\n",
       "      \n",
       "      if ((window.Bokeh !== undefined) || (force === \"1\")) {\n",
       "        for (var i = 0; i < inline_js.length; i++) {\n",
       "          inline_js[i](window.Bokeh);\n",
       "        }if (force === \"1\") {\n",
       "          display_loaded();\n",
       "        }} else if (Date.now() < window._bokeh_timeout) {\n",
       "        setTimeout(run_inline_js, 100);\n",
       "      } else if (!window._bokeh_failed_load) {\n",
       "        console.log(\"Bokeh: BokehJS failed to load within specified timeout.\");\n",
       "        window._bokeh_failed_load = true;\n",
       "      } else if (!force) {\n",
       "        var cell = $(\"#a8d7cd04-3e57-4ad0-b1fa-39d52d9a4f43\").parents('.cell').data().cell;\n",
       "        cell.output_area.append_execute_result(NB_LOAD_WARNING)\n",
       "      }\n",
       "  \n",
       "    }\n",
       "  \n",
       "    if (window._bokeh_is_loading === 0) {\n",
       "      console.log(\"Bokeh: BokehJS loaded, going straight to plotting\");\n",
       "      run_inline_js();\n",
       "    } else {\n",
       "      load_libs(js_urls, function() {\n",
       "        console.log(\"Bokeh: BokehJS plotting callback run at\", now());\n",
       "        run_inline_js();\n",
       "      });\n",
       "    }\n",
       "  }(this));\n",
       "</script>"
      ]
     },
     "metadata": {},
     "output_type": "display_data"
    }
   ],
   "source": [
    "# Plotining using bokeh\n",
    "#TOOLS = [BoxSelectTool(), HoverTool()]\n",
    "#TOOLS = 'hover,box_zoom,box_select,crosshair,resize,reset,DecisionTreeRegressor_select,pan,save,poly_select,tap,wheel_zoom,undo'\n",
    "TOOLS = 'box_zoom,box_select,crosshair,resize,reset,lasso_select,pan,save,poly_select,tap,wheel_zoom,undo'\n",
    "p = figure(plot_width=500, plot_height=500, tools=TOOLS)\n",
    "p.scatter(Y, predicted,x=\"jjj\", marker=\"o\", color=\"#80B1D3\", line_width=3)\n",
    "p.title.align = \"center\"\n",
    "p.xaxis.axis_label = \"Measured\"\n",
    "p.xaxis.axis_label_text_color = \"#aa6666\"\n",
    "#p.xaxis.axis_label_standoff = 30\n",
    "p.xaxis.major_tick_line_color = \"firebrick\"\n",
    "p.xaxis.major_tick_line_width = 3\n",
    "p.xaxis.minor_tick_line_color = \"orange\"\n",
    "p.yaxis.axis_label = \"Predicted\"\n",
    "p.yaxis.axis_label_text_font_style = \"italic\"\n",
    "p.yaxis.axis_label_text_color = \"#aa6666\"\n",
    "p.background_fill_color = \"beige\"\n",
    "p.background_fill_alpha = 0.5\n",
    "#p.line([Y.min(), Y.max()], [Y.min(), Y.max()], line_dash=\"4 4\", line_width=2, color='red')\n",
    "\n",
    "# create a new plot with the toolbar below\n",
    "# line_dash=\"4 4\", line_width=2, color='red'\n",
    "p.line([Y.min(), Y.max()], [Y.min(), Y.max()], line_dash=\"4 4\", line_width=2, line_color=\"black\")\n",
    "show(p)"
   ]
  },
  {
   "cell_type": "code",
   "execution_count": 17,
   "metadata": {
    "collapsed": false
   },
   "outputs": [
    {
     "data": {
      "text/plain": [
       "<matplotlib.text.Text at 0x7f95888236d0>"
      ]
     },
     "execution_count": 17,
     "metadata": {},
     "output_type": "execute_result"
    },
    {
     "data": {
      "image/png": "[encoded data removed]",
      "text/plain": [
       "<matplotlib.figure.Figure at 0x7f95882fd790>"
      ]
     },
     "metadata": {},
     "output_type": "display_data"
    }
   ],
   "source": [
    "plt.scatter(predicted, (predicted - Y), c='r', s=30)\n",
    "plt.title(\"Residual plot on the training data\")\n",
    "plt.xlabel(\"Predicted\")\n",
    "plt.ylabel(\"Residuals\")"
   ]
  },
  {
   "cell_type": "code",
   "execution_count": 18,
   "metadata": {
    "collapsed": false
   },
   "outputs": [
    {
     "data": {
      "text/html": [
       "\n",
       "\n",
       "    <div class=\"bk-root\">\n",
       "        <div class=\"plotdiv\" id=\"b38910a2-5a38-439a-9760-cca15091e573\"></div>\n",
       "    </div>\n",
       "<script type=\"text/javascript\">\n",
       "  \n",
       "  (function(global) {\n",
       "    function now() {\n",
       "      return new Date();\n",
       "    }\n",
       "  \n",
       "    var force = \"\";\n",
       "  \n",
       "    if (typeof (window._bokeh_onload_callbacks) === \"undefined\" || force !== \"\") {\n",
       "      window._bokeh_onload_callbacks = [];\n",
       "      window._bokeh_is_loading = undefined;\n",
       "    }\n",
       "  \n",
       "  \n",
       "    \n",
       "    if (typeof (window._bokeh_timeout) === \"undefined\" || force !== \"\") {\n",
       "      window._bokeh_timeout = Date.now() + 0;\n",
       "      window._bokeh_failed_load = false;\n",
       "    }\n",
       "  \n",
       "    var NB_LOAD_WARNING = {'data': {'text/html':\n",
       "       \"<div style='background-color: #fdd'>\\n\"+\n",
       "       \"<p>\\n\"+\n",
       "       \"BokehJS does not appear to have successfully loaded. If loading BokehJS from CDN, this \\n\"+\n",
       "       \"may be due to a slow or bad network connection. Possible fixes:\\n\"+\n",
       "       \"</p>\\n\"+\n",
       "       \"<ul>\\n\"+\n",
       "       \"<li>re-rerun `output_notebook()` to attempt to load from CDN again, or</li>\\n\"+\n",
       "       \"<li>use INLINE resources instead, as so:</li>\\n\"+\n",
       "       \"</ul>\\n\"+\n",
       "       \"<code>\\n\"+\n",
       "       \"from bokeh.resources import INLINE\\n\"+\n",
       "       \"output_notebook(resources=INLINE)\\n\"+\n",
       "       \"</code>\\n\"+\n",
       "       \"</div>\"}};\n",
       "  \n",
       "    function display_loaded() {\n",
       "      if (window.Bokeh !== undefined) {\n",
       "        Bokeh.$(\"#b38910a2-5a38-439a-9760-cca15091e573\").text(\"BokehJS successfully loaded.\");\n",
       "      } else if (Date.now() < window._bokeh_timeout) {\n",
       "        setTimeout(display_loaded, 100)\n",
       "      }\n",
       "    }\n",
       "  \n",
       "    function run_callbacks() {\n",
       "      window._bokeh_onload_callbacks.forEach(function(callback) { callback() });\n",
       "      delete window._bokeh_onload_callbacks\n",
       "      console.info(\"Bokeh: all callbacks have finished\");\n",
       "    }\n",
       "  \n",
       "    function load_libs(js_urls, callback) {\n",
       "      window._bokeh_onload_callbacks.push(callback);\n",
       "      if (window._bokeh_is_loading > 0) {\n",
       "        console.log(\"Bokeh: BokehJS is being loaded, scheduling callback at\", now());\n",
       "        return null;\n",
       "      }\n",
       "      if (js_urls == null || js_urls.length === 0) {\n",
       "        run_callbacks();\n",
       "        return null;\n",
       "      }\n",
       "      console.log(\"Bokeh: BokehJS not loaded, scheduling load and callback at\", now());\n",
       "      window._bokeh_is_loading = js_urls.length;\n",
       "      for (var i = 0; i < js_urls.length; i++) {\n",
       "        var url = js_urls[i];\n",
       "        var s = document.createElement('script');\n",
       "        s.src = url;\n",
       "        s.async = false;\n",
       "        s.onreadystatechange = s.onload = function() {\n",
       "          window._bokeh_is_loading--;\n",
       "          if (window._bokeh_is_loading === 0) {\n",
       "            console.log(\"Bokeh: all BokehJS libraries loaded\");\n",
       "            run_callbacks()\n",
       "          }\n",
       "        };\n",
       "        s.onerror = function() {\n",
       "          console.warn(\"failed to load library \" + url);\n",
       "        };\n",
       "        console.log(\"Bokeh: injecting script tag for BokehJS library: \", url);\n",
       "        document.getElementsByTagName(\"head\")[0].appendChild(s);\n",
       "      }\n",
       "    };var element = document.getElementById(\"b38910a2-5a38-439a-9760-cca15091e573\");\n",
       "    if (element == null) {\n",
       "      console.log(\"Bokeh: ERROR: autoload.js configured with elementid 'b38910a2-5a38-439a-9760-cca15091e573' but no matching script tag was found. \")\n",
       "      return false;\n",
       "    }\n",
       "  \n",
       "    var js_urls = [];\n",
       "  \n",
       "    var inline_js = [\n",
       "      function(Bokeh) {\n",
       "        Bokeh.$(function() {\n",
       "            var docs_json = {\"1d13ca7b-9120-4d72-98b3-d596a84d8bb0\":{\"roots\":{\"references\":[{\"attributes\":{},\"id\":\"e843ad3f-cb07-4f28-9afb-62a837e9256d\",\"type\":\"BasicTicker\"},{\"attributes\":{\"bottom_units\":\"screen\",\"fill_alpha\":{\"value\":0.5},\"fill_color\":{\"value\":\"lightgrey\"},\"left_units\":\"screen\",\"level\":\"overlay\",\"line_alpha\":{\"value\":1.0},\"line_color\":{\"value\":\"black\"},\"line_dash\":[4,4],\"line_width\":{\"value\":2},\"plot\":null,\"render_mode\":\"css\",\"right_units\":\"screen\",\"top_units\":\"screen\"},\"id\":\"9ad35bd6-5b49-4edd-94e2-b7c60b4431ca\",\"type\":\"BoxAnnotation\"},{\"attributes\":{},\"id\":\"1151a1d6-42c7-4d8e-8e27-3a63e38e6f06\",\"type\":\"ToolEvents\"},{\"attributes\":{\"callback\":null,\"overlay\":{\"id\":\"9ad35bd6-5b49-4edd-94e2-b7c60b4431ca\",\"type\":\"BoxAnnotation\"},\"plot\":{\"id\":\"f43ce0a4-89c8-4af3-84f7-04081dfdf42f\",\"subtype\":\"Figure\",\"type\":\"Plot\"},\"renderers\":[{\"id\":\"32dbcbf6-49f8-45af-9df2-ae541230381f\",\"type\":\"GlyphRenderer\"}]},\"id\":\"d955eb6d-c052-4045-81f8-a9fd97be0108\",\"type\":\"BoxSelectTool\"},{\"attributes\":{},\"id\":\"7c19ebdf-5718-499e-8a5e-26a3df724eaf\",\"type\":\"BasicTicker\"},{\"attributes\":{\"bottom_units\":\"screen\",\"fill_alpha\":{\"value\":0.5},\"fill_color\":{\"value\":\"lightgrey\"},\"left_units\":\"screen\",\"level\":\"overlay\",\"line_alpha\":{\"value\":1.0},\"line_color\":{\"value\":\"black\"},\"line_dash\":[4,4],\"line_width\":{\"value\":2},\"plot\":null,\"render_mode\":\"css\",\"right_units\":\"screen\",\"top_units\":\"screen\"},\"id\":\"26759558-674d-4421-8856-abcf8eda85bb\",\"type\":\"BoxAnnotation\"},{\"attributes\":{},\"id\":\"b95204cd-05cb-44a3-9216-56c462f8c589\",\"type\":\"BasicTickFormatter\"},{\"attributes\":{},\"id\":\"03312c6b-e767-4d69-a975-dbed4b25b7d3\",\"type\":\"BasicTickFormatter\"},{\"attributes\":{\"plot\":{\"id\":\"f43ce0a4-89c8-4af3-84f7-04081dfdf42f\",\"subtype\":\"Figure\",\"type\":\"Plot\"}},\"id\":\"06c44b92-1738-47d3-aae0-40392f4c9873\",\"type\":\"CrosshairTool\"},{\"attributes\":{\"axis_label\":\"Predicted\",\"axis_label_text_color\":{\"value\":\"#aa6666\"},\"formatter\":{\"id\":\"03312c6b-e767-4d69-a975-dbed4b25b7d3\",\"type\":\"BasicTickFormatter\"},\"major_tick_line_color\":{\"value\":\"firebrick\"},\"major_tick_line_width\":{\"value\":3},\"minor_tick_line_color\":{\"value\":\"orange\"},\"plot\":{\"id\":\"f43ce0a4-89c8-4af3-84f7-04081dfdf42f\",\"subtype\":\"Figure\",\"type\":\"Plot\"},\"ticker\":{\"id\":\"e843ad3f-cb07-4f28-9afb-62a837e9256d\",\"type\":\"BasicTicker\"}},\"id\":\"cf496f50-2e17-4d8a-9e35-ea991ff2c7f7\",\"type\":\"LinearAxis\"},{\"attributes\":{\"callback\":null,\"overlay\":{\"id\":\"1e9ea74a-7d26-4ac8-90e0-f85f7115d2e4\",\"type\":\"PolyAnnotation\"},\"plot\":{\"id\":\"f43ce0a4-89c8-4af3-84f7-04081dfdf42f\",\"subtype\":\"Figure\",\"type\":\"Plot\"}},\"id\":\"c8494e6d-e5c7-4407-8205-b6510af806a5\",\"type\":\"LassoSelectTool\"},{\"attributes\":{\"data_source\":{\"id\":\"a430b6b9-219b-4f3d-985e-386e2e48784b\",\"type\":\"ColumnDataSource\"},\"glyph\":{\"id\":\"a51e5fc8-8322-4b26-8a15-bdf6e5a4ed6e\",\"type\":\"Circle\"},\"hover_glyph\":null,\"nonselection_glyph\":{\"id\":\"f28a9e9d-1ef7-4e67-93b3-17258c0cfbac\",\"type\":\"Circle\"},\"selection_glyph\":null},\"id\":\"32dbcbf6-49f8-45af-9df2-ae541230381f\",\"type\":\"GlyphRenderer\"},{\"attributes\":{\"fill_color\":{\"value\":\"#80B1D3\"},\"line_color\":{\"value\":\"#80B1D3\"},\"line_width\":{\"value\":3},\"x\":{\"field\":\"x\"},\"y\":{\"field\":\"y\"}},\"id\":\"a51e5fc8-8322-4b26-8a15-bdf6e5a4ed6e\",\"type\":\"Circle\"},{\"attributes\":{\"align\":\"center\",\"plot\":null,\"text\":\"Residual plot on the training data\"},\"id\":\"17145860-129f-4ca8-a160-686922bebdb2\",\"type\":\"Title\"},{\"attributes\":{\"overlay\":{\"id\":\"c77f7427-f2b3-437f-a284-d72fad22975c\",\"type\":\"PolyAnnotation\"},\"plot\":{\"id\":\"f43ce0a4-89c8-4af3-84f7-04081dfdf42f\",\"subtype\":\"Figure\",\"type\":\"Plot\"}},\"id\":\"ef152350-dd2c-4902-8053-826b8d05f262\",\"type\":\"PolySelectTool\"},{\"attributes\":{\"background_fill_alpha\":{\"value\":0.5},\"background_fill_color\":{\"value\":\"beige\"},\"below\":[{\"id\":\"cf496f50-2e17-4d8a-9e35-ea991ff2c7f7\",\"type\":\"LinearAxis\"}],\"left\":[{\"id\":\"a0e7486c-c4d2-4c10-b393-ff49d409c53e\",\"type\":\"LinearAxis\"}],\"plot_height\":500,\"plot_width\":500,\"renderers\":[{\"id\":\"cf496f50-2e17-4d8a-9e35-ea991ff2c7f7\",\"type\":\"LinearAxis\"},{\"id\":\"6f529de4-5983-452d-a8ec-6e6851225bfb\",\"type\":\"Grid\"},{\"id\":\"a0e7486c-c4d2-4c10-b393-ff49d409c53e\",\"type\":\"LinearAxis\"},{\"id\":\"8ce46d08-f1e1-4bb7-8605-21df599a6253\",\"type\":\"Grid\"},{\"id\":\"26759558-674d-4421-8856-abcf8eda85bb\",\"type\":\"BoxAnnotation\"},{\"id\":\"9ad35bd6-5b49-4edd-94e2-b7c60b4431ca\",\"type\":\"BoxAnnotation\"},{\"id\":\"1e9ea74a-7d26-4ac8-90e0-f85f7115d2e4\",\"type\":\"PolyAnnotation\"},{\"id\":\"c77f7427-f2b3-437f-a284-d72fad22975c\",\"type\":\"PolyAnnotation\"},{\"id\":\"32dbcbf6-49f8-45af-9df2-ae541230381f\",\"type\":\"GlyphRenderer\"}],\"title\":{\"id\":\"17145860-129f-4ca8-a160-686922bebdb2\",\"type\":\"Title\"},\"tool_events\":{\"id\":\"1151a1d6-42c7-4d8e-8e27-3a63e38e6f06\",\"type\":\"ToolEvents\"},\"toolbar\":{\"id\":\"b2a1cb17-8f3f-4b1c-9bd8-cce4dbc3b512\",\"type\":\"Toolbar\"},\"x_range\":{\"id\":\"e34cee13-4eb3-4c19-bd96-a03afff55716\",\"type\":\"DataRange1d\"},\"y_range\":{\"id\":\"d328ec98-fb0c-40c7-b4fc-56560e3e3831\",\"type\":\"DataRange1d\"}},\"id\":\"f43ce0a4-89c8-4af3-84f7-04081dfdf42f\",\"subtype\":\"Figure\",\"type\":\"Plot\"},{\"attributes\":{\"plot\":{\"id\":\"f43ce0a4-89c8-4af3-84f7-04081dfdf42f\",\"subtype\":\"Figure\",\"type\":\"Plot\"}},\"id\":\"428d9d63-8ffb-4ffb-a869-c85e9838f61d\",\"type\":\"PanTool\"},{\"attributes\":{\"plot\":{\"id\":\"f43ce0a4-89c8-4af3-84f7-04081dfdf42f\",\"subtype\":\"Figure\",\"type\":\"Plot\"},\"ticker\":{\"id\":\"e843ad3f-cb07-4f28-9afb-62a837e9256d\",\"type\":\"BasicTicker\"}},\"id\":\"6f529de4-5983-452d-a8ec-6e6851225bfb\",\"type\":\"Grid\"},{\"attributes\":{\"callback\":null,\"plot\":{\"id\":\"f43ce0a4-89c8-4af3-84f7-04081dfdf42f\",\"subtype\":\"Figure\",\"type\":\"Plot\"}},\"id\":\"11a4a559-b871-4bab-aee2-c49fa15e47f9\",\"type\":\"TapTool\"},{\"attributes\":{\"fill_alpha\":{\"value\":0.5},\"fill_color\":{\"value\":\"lightgrey\"},\"level\":\"overlay\",\"line_alpha\":{\"value\":1.0},\"line_color\":{\"value\":\"black\"},\"line_dash\":[4,4],\"line_width\":{\"value\":2},\"plot\":null,\"xs_units\":\"screen\",\"ys_units\":\"screen\"},\"id\":\"1e9ea74a-7d26-4ac8-90e0-f85f7115d2e4\",\"type\":\"PolyAnnotation\"},{\"attributes\":{\"overlay\":{\"id\":\"26759558-674d-4421-8856-abcf8eda85bb\",\"type\":\"BoxAnnotation\"},\"plot\":{\"id\":\"f43ce0a4-89c8-4af3-84f7-04081dfdf42f\",\"subtype\":\"Figure\",\"type\":\"Plot\"}},\"id\":\"5e1f3242-2485-4df3-bb6c-4e4be29fcd0e\",\"type\":\"BoxZoomTool\"},{\"attributes\":{\"callback\":null},\"id\":\"e34cee13-4eb3-4c19-bd96-a03afff55716\",\"type\":\"DataRange1d\"},{\"attributes\":{\"fill_alpha\":{\"value\":0.1},\"fill_color\":{\"value\":\"#1f77b4\"},\"line_alpha\":{\"value\":0.1},\"line_color\":{\"value\":\"#1f77b4\"},\"line_width\":{\"value\":3},\"x\":{\"field\":\"x\"},\"y\":{\"field\":\"y\"}},\"id\":\"f28a9e9d-1ef7-4e67-93b3-17258c0cfbac\",\"type\":\"Circle\"},{\"attributes\":{\"plot\":{\"id\":\"f43ce0a4-89c8-4af3-84f7-04081dfdf42f\",\"subtype\":\"Figure\",\"type\":\"Plot\"}},\"id\":\"5d486c8b-d018-43fb-933e-7723d129fa81\",\"type\":\"SaveTool\"},{\"attributes\":{\"callback\":null},\"id\":\"d328ec98-fb0c-40c7-b4fc-56560e3e3831\",\"type\":\"DataRange1d\"},{\"attributes\":{\"plot\":{\"id\":\"f43ce0a4-89c8-4af3-84f7-04081dfdf42f\",\"subtype\":\"Figure\",\"type\":\"Plot\"}},\"id\":\"a8638f3e-139b-4cac-8554-94d3c4b95605\",\"type\":\"ResizeTool\"},{\"attributes\":{\"active_drag\":\"auto\",\"active_scroll\":\"auto\",\"active_tap\":\"auto\",\"tools\":[{\"id\":\"5e1f3242-2485-4df3-bb6c-4e4be29fcd0e\",\"type\":\"BoxZoomTool\"},{\"id\":\"d955eb6d-c052-4045-81f8-a9fd97be0108\",\"type\":\"BoxSelectTool\"},{\"id\":\"06c44b92-1738-47d3-aae0-40392f4c9873\",\"type\":\"CrosshairTool\"},{\"id\":\"a8638f3e-139b-4cac-8554-94d3c4b95605\",\"type\":\"ResizeTool\"},{\"id\":\"ee9d04ec-90a5-4180-9260-644bd7f1b891\",\"type\":\"ResetTool\"},{\"id\":\"c8494e6d-e5c7-4407-8205-b6510af806a5\",\"type\":\"LassoSelectTool\"},{\"id\":\"428d9d63-8ffb-4ffb-a869-c85e9838f61d\",\"type\":\"PanTool\"},{\"id\":\"5d486c8b-d018-43fb-933e-7723d129fa81\",\"type\":\"SaveTool\"},{\"id\":\"ef152350-dd2c-4902-8053-826b8d05f262\",\"type\":\"PolySelectTool\"},{\"id\":\"11a4a559-b871-4bab-aee2-c49fa15e47f9\",\"type\":\"TapTool\"},{\"id\":\"a7ebca46-2a55-466f-8939-af53ac8e04ce\",\"type\":\"WheelZoomTool\"},{\"id\":\"94c69c61-0d37-424b-8c54-98610c5c29d7\",\"type\":\"UndoTool\"}]},\"id\":\"b2a1cb17-8f3f-4b1c-9bd8-cce4dbc3b512\",\"type\":\"Toolbar\"},{\"attributes\":{\"plot\":{\"id\":\"f43ce0a4-89c8-4af3-84f7-04081dfdf42f\",\"subtype\":\"Figure\",\"type\":\"Plot\"}},\"id\":\"ee9d04ec-90a5-4180-9260-644bd7f1b891\",\"type\":\"ResetTool\"},{\"attributes\":{\"callback\":null,\"column_names\":[\"x\",\"y\"],\"data\":{\"x\":[13.690508842468262,28.430906295776367,34.64107131958008,28.02274513244629,30.17790412902832,36.780357360839844,29.552114486694336,18.592824935913086,29.810672760009766,34.45845413208008,27.440017700195312,12.69937801361084,20.822772979736328,32.03721618652344,28.156965255737305,20.081132888793945,19.001972198486328,27.453960418701172,19.96139907836914,13.23654842376709,20.9700927734375,35.83665084838867,25.5853328704834,23.655485153198242,38.37823486328125,26.677213668823242,24.07857322692871,14.757930755615234,14.554739952087402,21.298500061035156,23.341646194458008,29.17816925048828,15.72694206237793,36.21390914916992,23.581127166748047,22.397932052612305,31.81151008605957,13.361433982849121,16.2255859375,36.30463790893555,16.21031951904297,29.685022354125977,14.340500831604004,22.76443099975586,16.961414337158203,18.97660255432129,32.971641540527344,31.4805908203125,28.225820541381836,23.89670753479004,15.291893005371094,30.127676010131836,18.78156852722168,18.98455047607422,36.4647102355957,37.37714767456055,36.49770736694336,20.233173370361328,30.217920303344727,18.603839874267578,23.28571891784668,23.848678588867188,25.05449867248535,12.794676780700684,36.737003326416016,28.831499099731445,14.127700805664062,13.184663772583008,32.35617446899414,22.43388557434082,27.598007202148438,24.449447631835938,16.368412017822266,14.050603866577148,23.50052261352539,19.638038635253906,26.62934684753418,18.287126541137695,20.390769958496094,15.899740219116211,20.354890823364258,34.99549102783203,17.70159912109375,16.76140022277832,28.513296127319336,17.231826782226562,13.67623233795166,24.73789405822754,27.908985137939453,18.141664505004883,30.44362449645996,25.531076431274414,15.607344627380371,32.48114013671875,25.024763107299805,23.426897048950195,30.831178665161133,15.009783744812012,39.07221984863281,13.771069526672363,13.730222702026367,33.89400863647461,19.655099868774414,24.991962432861328,26.123193740844727,31.69756507873535,18.081621170043945,20.66033172607422,28.308101654052734,37.078819274902344,32.76408767700195,13.778578758239746,15.833133697509766,16.27347183227539,13.730222702026367,20.90226173400879,27.08492660522461,27.268352508544922,14.805394172668457,23.245248794555664,29.698705673217773,28.37885284423828,21.264972686767578,25.030986785888672,28.37885284423828,17.163681030273438,29.862308502197266,18.226112365722656,12.936705589294434,20.377180099487305,34.29610061645508,12.728896141052246,31.595443725585938,30.434619903564453,13.729650497436523,28.83390235900879,19.74141502380371,22.68700408935547,28.30059051513672,23.32292366027832,13.608638763427734,26.748796463012695,21.225845336914062,25.76730728149414,33.51906204223633,19.33707618713379,26.176738739013672,18.693021774291992,26.971248626708984,15.561366081237793,36.36970520019531,29.418746948242188,18.62887191772461,15.828459739685059,12.728896141052246,15.699243545532227,26.555410385131836,15.551301002502441,31.692569732666016,25.826107025146484,22.853439331054688,14.822296142578125,15.690580368041992,27.46782112121582,24.09845733642578,24.08230209350586,14.496872901916504,18.53388214111328,19.181907653808594,26.10870361328125,13.720169067382812,22.09583282470703,40.62041091918945,28.03985595703125,31.795934677124023,18.482229232788086,13.18630313873291,32.422019958496094,28.422748565673828,34.15826416015625,24.369531631469727,26.9808349609375,19.2301082611084,35.07215118408203,15.667329788208008,20.855899810791016,19.231786727905273,23.250329971313477,24.668010711669922,20.78023338317871,37.262821197509766,36.320770263671875,25.578319549560547,29.93857192993164,22.609596252441406,19.364704132080078,16.032482147216797,21.371938705444336,16.032482147216797,31.821746826171875,17.76169776916504,32.56550216674805,25.900493621826172,13.74354076385498,26.572423934936523,25.14126205444336,23.908498764038086,22.982328414916992,27.671472549438477,35.166908264160156,20.153034210205078,16.5618896484375,13.74354076385498,32.04769515991211,24.23529815673828,14.986593246459961,22.96600341796875,12.641812324523926,15.960980415344238,17.365774154663086,33.53784942626953,16.85283660888672,35.06719207763672,22.126745223999023,18.92462730407715,12.397513389587402,30.790122985839844,12.397513389587402,35.930091857910156,19.686534881591797,13.720348358154297,26.347036361694336,18.073862075805664,20.480552673339844,31.37334632873535,18.029539108276367,25.3823299407959,25.328569412231445,22.555282592773438,31.222414016723633,34.9800910949707,28.931520462036133,17.861629486083984,31.109336853027344,26.769914627075195,15.987457275390625,37.82979202270508,21.880722045898438,13.685611724853516,22.884601593017578,25.123292922973633,23.277921676635742,20.024673461914062,23.92563819885254,33.35636520385742,20.080875396728516,34.86685562133789,12.854532241821289,12.767413139343262,22.918182373046875,25.28961944580078,36.28693771362305,13.945168495178223,29.2493839263916,38.39291763305664,18.251977920532227,18.344228744506836,14.457832336425781,26.40155792236328,16.249309539794922,30.603984832763672,34.32150650024414,18.946617126464844,23.536664962768555,26.10673713684082,20.11054229736328,26.886301040649414,30.497764587402344,18.542938232421875,23.769512176513672,30.539207458496094,18.542938232421875,28.710206985473633,23.994949340820312,19.58057403564453,29.527650833129883,29.63129425048828,29.645065307617188,22.331592559814453,13.959887504577637,16.179168701171875,14.617483139038086,26.187467575073242,13.191522598266602,17.53890037536621,32.965091705322266,33.857845306396484,21.424226760864258,36.67817306518555,13.420772552490234,19.941009521484375,26.485639572143555,13.92227554321289,13.420772552490234,13.959887504577637,17.51239776611328,25.906574249267578,21.132837295532227,19.200300216674805,14.525720596313477,26.963966369628906,36.52849578857422,17.828378677368164,25.28083610534668,17.483917236328125,29.203136444091797,16.705780029296875,26.858489990234375],\"y\":[-1.3094911575317383,1.4309062957763672,0.34107131958008097,2.022745132446289,-1.422095870971681,2.9803573608398466,0.5521144866943359,0.4928249359130845,2.6106727600097663,-3.541545867919922,1.4400177001953125,-1.3006219863891602,-1.1772270202636719,1.0372161865234375,-8.243034744262694,2.481132888793944,1.3019721984863288,-0.5460395812988281,-0.8386009216308601,-0.7634515762329102,0.7700927734375007,3.0366508483886747,3.2853328704833977,-4.344514846801758,1.37823486328125,-0.3227863311767578,0.8785732269287116,1.7579307556152344,-0.44526004791259766,-0.7014999389648438,-0.6583538055419922,0.17816925048828125,2.7269420623779297,4.413909149169921,0.5811271667480469,-3.1020679473876953,1.9115100860595717,0.3614339828491211,-1.2744140625,-10.295362091064455,0.7103195190429688,-3.214977645874022,0.3405008316040039,-2.2355690002441406,-2.4385856628417955,3.976602554321289,0.5716415405273452,-0.0194091796875,1.225820541381836,4.096707534790038,-1.7081069946289062,-3.372323989868164,-2.2184314727783203,-4.015449523925781,-1.6352897644042983,-6.622852325439453,-4.302292633056638,-0.7668266296386719,1.2179203033447266,1.1038398742675781,-4.71428108215332,-2.1513214111328125,-0.9455013275146484,1.7946767807006836,-0.9629966735839872,4.631499099731446,-1.8722991943359375,-2.815336227416992,2.3561744689941406,3.4338855743408203,0.5980072021484375,5.4494476318359375,0.3684120178222656,-1.9493961334228516,3.20052261352539,-1.3619613647460938,-6.87065315246582,-4.712873458862305,-1.1092300415039062,-0.10025978088378906,1.3548908233642578,-2.0045089721679688,2.70159912109375,0.7614002227783203,2.513296127319336,-0.7681732177734375,0.6762323379516602,3.737894058227539,-1.0910148620605469,-3.858335494995117,-2.556375503540039,3.531076431274414,-0.3926553726196289,-3.51885986328125,5.024763107299805,1.4268970489501953,-0.4688213348388679,0.5097837448120117,9.272219848632812,0.7710695266723633,0.7302227020263672,-2.1059913635253906,-0.8449001312255859,-0.008037567138671875,-0.8768062591552734,-1.3024349212646484,1.5816211700439453,0.06033172607421733,-1.6918983459472656,-6.321180725097655,-1.9359123229980497,2.778578758239746,-2.1668663024902344,3.2734718322753906,-2.269777297973633,1.902261734008789,4.084926605224609,1.7683525085449219,0.805394172668457,-1.254751205444336,-0.30129432678222656,2.5788528442382805,-16.735027313232422,-3.769013214111329,1.7788528442382798,0.1636810302734375,-2.1376914978027344,0.12611236572265483,1.9367055892944336,-0.6228199005126953,-1.7038993835449219,-0.2711038589477539,1.5954437255859375,-0.5653800964355469,-0.27034950256347656,10.833902359008789,6.741415023803711,1.0870040893554673,0.30059051513671875,-0.4770763397216804,-0.3913612365722656,-0.2512035369873047,1.0258453369140632,-0.23269271850585938,-5.8809379577636705,-0.5629238128662095,7.176738739013672,4.693021774291992,3.371248626708983,2.561366081237793,-1.6302947998046875,-1.0812530517578125,0.12887191772460938,-1.1715402603149414,0.7288961410522461,-0.30075645446777344,-1.444589614868164,0.051301002502441406,-0.3074302673339844,1.8261070251464844,-2.246560668945314,-1.177703857421875,2.690580368041992,3.4678211212158203,2.0984573364257812,0.08230209350585938,-0.5031270980834961,-0.46611785888671875,1.1819076538085938,-1.0912963867187493,-0.2798309326171875,1.0958328247070312,-3.679589080810544,0.03985595703125,0.29593467712402344,-0.7177707672119134,-0.8136968612670898,1.9220199584960938,-1.3772514343261726,-1.9417358398437514,-2.430468368530274,0.9808349609375,-1.2698917388916016,2.97215118408203,-0.3326702117919922,3.8558998107910156,-0.7682132720947266,1.2503299713134766,-0.3319892883300781,-3.1197666168212876,6.262821197509766,-2.679229736328125,-2.421680450439453,-4.561428070068359,0.6095962524414062,-1.2352958679199233,2.032482147216797,-4.028061294555663,2.032482147216797,1.821746826171875,-1.238302230834961,-3.434497833251953,0.9004936218261719,-0.25645923614501953,5.472423934936522,-2.8587379455566406,4.908498764038086,3.8823284149169908,3.371472549438476,-9.433091735839845,0.15303421020507812,-0.4381103515625,0.7435407638549805,-2.1523048400878935,-1.7647018432617188,-2.513406753540039,-3.03399658203125,-0.3581876754760742,-2.0390195846557617,-1.134225845336914,-2.4621505737304688,0.8528366088867188,-2.9328079223632812,-0.8732547760009766,-1.5753726959228516,-0.6024866104125977,2.7901229858398438,0.39751338958740234,1.8300918579101548,-0.3134651184082031,1.7203483581542969,-2.0529636383056626,0.07386207580566406,0.48055267333984375,1.8733463287353516,-0.9704608917236328,-0.6176700592041016,-0.6714305877685547,-2.4447174072265625,-0.7775859832763672,1.2800910949707003,0.9315204620361328,-1.338370513916015,1.6093368530273438,-0.2300853729248047,0.987457275390625,-1.2702079772949233,-4.719277954101564,0.6856117248535156,-0.11539840698242188,-2.376707077026367,3.277921676635742,0.8246734619140632,-0.07436180114746094,1.156365203857419,0.680875396728517,1.8668556213378906,0.8545322418212891,-0.23258686065673828,5.318182373046874,1.3896194458007827,1.8869377136230483,-0.054831504821777344,-1.7506160736083984,3.292917633056639,3.2519779205322266,2.844228744506836,5.457832336425781,1.4015579223632812,-1.7506904602050781,-0.3960151672363281,-8.77849349975586,1.4466171264648438,-1.4633350372314453,1.1067371368408203,1.1105422973632812,0.8863010406494141,-0.5022354125976562,0.3429382324218757,-6.930487823486327,6.539207458496094,1.542938232421875,1.7102069854736328,0.9949493408203125,1.5805740356445312,2.3276508331298835,-5.368705749511719,0.6450653076171875,0.8315925598144531,-1.0401124954223633,-1.320831298828125,-0.38251686096191406,-6.512532424926761,3.1915225982666016,-2.461099624633789,0.565091705322267,-0.14215469360351562,3.424226760864258,4.678173065185547,-0.5792274475097656,-4.058990478515625,0.08563957214355611,-0.07772445678710938,0.4207725524902344,0.9598875045776367,-0.9876022338867188,4.406574249267578,4.932837295532227,2.7003002166748047,-0.47427940368652344,-1.1360336303710952,7.528495788574219,-2.3716213226318352,-2.619163894653319,-4.516082763671875,0.20313644409179688,-2.294219970703125,1.858489990234375]}},\"id\":\"a430b6b9-219b-4f3d-985e-386e2e48784b\",\"type\":\"ColumnDataSource\"},{\"attributes\":{\"axis_label\":\"Residuals\",\"axis_label_text_color\":{\"value\":\"#aa6666\"},\"formatter\":{\"id\":\"b95204cd-05cb-44a3-9216-56c462f8c589\",\"type\":\"BasicTickFormatter\"},\"plot\":{\"id\":\"f43ce0a4-89c8-4af3-84f7-04081dfdf42f\",\"subtype\":\"Figure\",\"type\":\"Plot\"},\"ticker\":{\"id\":\"7c19ebdf-5718-499e-8a5e-26a3df724eaf\",\"type\":\"BasicTicker\"}},\"id\":\"a0e7486c-c4d2-4c10-b393-ff49d409c53e\",\"type\":\"LinearAxis\"},{\"attributes\":{\"plot\":{\"id\":\"f43ce0a4-89c8-4af3-84f7-04081dfdf42f\",\"subtype\":\"Figure\",\"type\":\"Plot\"}},\"id\":\"94c69c61-0d37-424b-8c54-98610c5c29d7\",\"type\":\"UndoTool\"},{\"attributes\":{\"fill_alpha\":{\"value\":0.5},\"fill_color\":{\"value\":\"lightgrey\"},\"level\":\"overlay\",\"line_alpha\":{\"value\":1.0},\"line_color\":{\"value\":\"black\"},\"line_dash\":[4,4],\"line_width\":{\"value\":2},\"plot\":null,\"xs_units\":\"screen\",\"ys_units\":\"screen\"},\"id\":\"c77f7427-f2b3-437f-a284-d72fad22975c\",\"type\":\"PolyAnnotation\"},{\"attributes\":{\"plot\":{\"id\":\"f43ce0a4-89c8-4af3-84f7-04081dfdf42f\",\"subtype\":\"Figure\",\"type\":\"Plot\"}},\"id\":\"a7ebca46-2a55-466f-8939-af53ac8e04ce\",\"type\":\"WheelZoomTool\"},{\"attributes\":{\"dimension\":1,\"plot\":{\"id\":\"f43ce0a4-89c8-4af3-84f7-04081dfdf42f\",\"subtype\":\"Figure\",\"type\":\"Plot\"},\"ticker\":{\"id\":\"7c19ebdf-5718-499e-8a5e-26a3df724eaf\",\"type\":\"BasicTicker\"}},\"id\":\"8ce46d08-f1e1-4bb7-8605-21df599a6253\",\"type\":\"Grid\"}],\"root_ids\":[\"f43ce0a4-89c8-4af3-84f7-04081dfdf42f\"]},\"title\":\"Bokeh Application\",\"version\":\"0.12.2\"}};\n",
       "            var render_items = [{\"docid\":\"1d13ca7b-9120-4d72-98b3-d596a84d8bb0\",\"elementid\":\"b38910a2-5a38-439a-9760-cca15091e573\",\"modelid\":\"f43ce0a4-89c8-4af3-84f7-04081dfdf42f\"}];\n",
       "            \n",
       "            Bokeh.embed.embed_items(docs_json, render_items);\n",
       "        });\n",
       "      },\n",
       "      function(Bokeh) {\n",
       "      }\n",
       "    ];\n",
       "  \n",
       "    function run_inline_js() {\n",
       "      \n",
       "      if ((window.Bokeh !== undefined) || (force === \"1\")) {\n",
       "        for (var i = 0; i < inline_js.length; i++) {\n",
       "          inline_js[i](window.Bokeh);\n",
       "        }if (force === \"1\") {\n",
       "          display_loaded();\n",
       "        }} else if (Date.now() < window._bokeh_timeout) {\n",
       "        setTimeout(run_inline_js, 100);\n",
       "      } else if (!window._bokeh_failed_load) {\n",
       "        console.log(\"Bokeh: BokehJS failed to load within specified timeout.\");\n",
       "        window._bokeh_failed_load = true;\n",
       "      } else if (!force) {\n",
       "        var cell = $(\"#b38910a2-5a38-439a-9760-cca15091e573\").parents('.cell').data().cell;\n",
       "        cell.output_area.append_execute_result(NB_LOAD_WARNING)\n",
       "      }\n",
       "  \n",
       "    }\n",
       "  \n",
       "    if (window._bokeh_is_loading === 0) {\n",
       "      console.log(\"Bokeh: BokehJS loaded, going straight to plotting\");\n",
       "      run_inline_js();\n",
       "    } else {\n",
       "      load_libs(js_urls, function() {\n",
       "        console.log(\"Bokeh: BokehJS plotting callback run at\", now());\n",
       "        run_inline_js();\n",
       "      });\n",
       "    }\n",
       "  }(this));\n",
       "</script>"
      ]
     },
     "metadata": {},
     "output_type": "display_data"
    }
   ],
   "source": [
    "# Plotining using bokeh\n",
    "#TOOLS = 'hover,box_zoom,box_select,crosshair,resize,reset,DecisionTreeRegressor_select,pan,save,poly_select,tap,wheel_zoom,undo'\n",
    "TOOLS = 'box_zoom,box_select,crosshair,resize,reset,lasso_select,pan,save,poly_select,tap,wheel_zoom,undo'\n",
    "p = figure(plot_width=500, plot_height=500, title=\"Residual plot on the training data\", tools=TOOLS)\n",
    "p.scatter(predicted, (predicted - Y),x=\"jjj\", marker=\"o\", color=\"#80B1D3\", line_width=3)\n",
    "p.title.align = \"center\"\n",
    "p.xaxis.axis_label = \"Predicted\"\n",
    "p.xaxis.axis_label_text_color = \"#aa6666\"\n",
    "#p.xaxis.axis_label_standoff = 30\n",
    "p.xaxis.major_tick_line_color = \"firebrick\"\n",
    "p.xaxis.major_tick_line_width = 3\n",
    "p.xaxis.minor_tick_line_color = \"orange\"\n",
    "p.yaxis.axis_label = \"Residuals\"\n",
    "p.yaxis.axis_label_text_font_style = \"italic\"\n",
    "p.yaxis.axis_label_text_color = \"#aa6666\"\n",
    "p.background_fill_color = \"beige\"\n",
    "p.background_fill_alpha = 0.5\n",
    "#p.line([2,38], [0, 0], line_dash=\"4 4\", line_width=2, color='red')\n",
    "show(p)"
   ]
  },
  {
   "cell_type": "markdown",
   "metadata": {},
   "source": [
    "## Pipeline"
   ]
  },
  {
   "cell_type": "markdown",
   "metadata": {},
   "source": [
    "The best to deliver the model by pipeline the operation then at deployment can be done in one model."
   ]
  },
  {
   "cell_type": "markdown",
   "metadata": {
    "collapsed": true
   },
   "source": [
    "  I used two ways to check the pipeline so any one can be fine"
   ]
  },
  {
   "cell_type": "code",
   "execution_count": 19,
   "metadata": {
    "collapsed": false
   },
   "outputs": [
    {
     "ename": "ValueError",
     "evalue": "k should be >=0, <= n_features; got 10.Use k='all' to return all features.",
     "output_type": "error",
     "traceback": [
      "\u001b[0;31m---------------------------------------------------------------------------\u001b[0m",
      "\u001b[0;31mValueError\u001b[0m                                Traceback (most recent call last)",
      "\u001b[0;32m<ipython-input-19-6caa15fe460e>\u001b[0m in \u001b[0;36m<module>\u001b[0;34m()\u001b[0m\n\u001b[1;32m      9\u001b[0m \u001b[0;31m# You can set the parameters using the names issued\u001b[0m\u001b[0;34m\u001b[0m\u001b[0;34m\u001b[0m\u001b[0m\n\u001b[1;32m     10\u001b[0m \u001b[0;31m# For instance, fit using a k of 10 in the SelectKBest\u001b[0m\u001b[0;34m\u001b[0m\u001b[0;34m\u001b[0m\u001b[0m\n\u001b[0;32m---> 11\u001b[0;31m \u001b[0manova_LinReg\u001b[0m\u001b[0;34m.\u001b[0m\u001b[0mset_params\u001b[0m\u001b[0;34m(\u001b[0m\u001b[0manova__k\u001b[0m\u001b[0;34m=\u001b[0m\u001b[0;36m10\u001b[0m\u001b[0;34m)\u001b[0m\u001b[0;34m.\u001b[0m\u001b[0mfit\u001b[0m\u001b[0;34m(\u001b[0m\u001b[0mnew_data\u001b[0m\u001b[0;34m,\u001b[0m \u001b[0mY\u001b[0m\u001b[0;34m)\u001b[0m\u001b[0;34m\u001b[0m\u001b[0m\n\u001b[0m\u001b[1;32m     12\u001b[0m \u001b[0mprediction\u001b[0m \u001b[0;34m=\u001b[0m \u001b[0manova_LinReg\u001b[0m\u001b[0;34m.\u001b[0m\u001b[0mpredict\u001b[0m\u001b[0;34m(\u001b[0m\u001b[0mnew_data\u001b[0m\u001b[0;34m)\u001b[0m\u001b[0;34m\u001b[0m\u001b[0m\n\u001b[1;32m     13\u001b[0m \u001b[0;32mprint\u001b[0m \u001b[0manova_LinReg\u001b[0m\u001b[0;34m.\u001b[0m\u001b[0mscore\u001b[0m\u001b[0;34m(\u001b[0m\u001b[0mnew_data\u001b[0m\u001b[0;34m,\u001b[0m \u001b[0mY\u001b[0m\u001b[0;34m)\u001b[0m\u001b[0;34m\u001b[0m\u001b[0m\n",
      "\u001b[0;32m/home/salm/anaconda2/lib/python2.7/site-packages/sklearn/pipeline.pyc\u001b[0m in \u001b[0;36mfit\u001b[0;34m(self, X, y, **fit_params)\u001b[0m\n\u001b[1;32m    162\u001b[0m             \u001b[0mthe\u001b[0m \u001b[0mpipeline\u001b[0m\u001b[0;34m.\u001b[0m\u001b[0;34m\u001b[0m\u001b[0m\n\u001b[1;32m    163\u001b[0m         \"\"\"\n\u001b[0;32m--> 164\u001b[0;31m         \u001b[0mXt\u001b[0m\u001b[0;34m,\u001b[0m \u001b[0mfit_params\u001b[0m \u001b[0;34m=\u001b[0m \u001b[0mself\u001b[0m\u001b[0;34m.\u001b[0m\u001b[0m_pre_transform\u001b[0m\u001b[0;34m(\u001b[0m\u001b[0mX\u001b[0m\u001b[0;34m,\u001b[0m \u001b[0my\u001b[0m\u001b[0;34m,\u001b[0m \u001b[0;34m**\u001b[0m\u001b[0mfit_params\u001b[0m\u001b[0;34m)\u001b[0m\u001b[0;34m\u001b[0m\u001b[0m\n\u001b[0m\u001b[1;32m    165\u001b[0m         \u001b[0mself\u001b[0m\u001b[0;34m.\u001b[0m\u001b[0msteps\u001b[0m\u001b[0;34m[\u001b[0m\u001b[0;34m-\u001b[0m\u001b[0;36m1\u001b[0m\u001b[0;34m]\u001b[0m\u001b[0;34m[\u001b[0m\u001b[0;34m-\u001b[0m\u001b[0;36m1\u001b[0m\u001b[0;34m]\u001b[0m\u001b[0;34m.\u001b[0m\u001b[0mfit\u001b[0m\u001b[0;34m(\u001b[0m\u001b[0mXt\u001b[0m\u001b[0;34m,\u001b[0m \u001b[0my\u001b[0m\u001b[0;34m,\u001b[0m \u001b[0;34m**\u001b[0m\u001b[0mfit_params\u001b[0m\u001b[0;34m)\u001b[0m\u001b[0;34m\u001b[0m\u001b[0m\n\u001b[1;32m    166\u001b[0m         \u001b[0;32mreturn\u001b[0m \u001b[0mself\u001b[0m\u001b[0;34m\u001b[0m\u001b[0m\n",
      "\u001b[0;32m/home/salm/anaconda2/lib/python2.7/site-packages/sklearn/pipeline.pyc\u001b[0m in \u001b[0;36m_pre_transform\u001b[0;34m(self, X, y, **fit_params)\u001b[0m\n\u001b[1;32m    143\u001b[0m         \u001b[0;32mfor\u001b[0m \u001b[0mname\u001b[0m\u001b[0;34m,\u001b[0m \u001b[0mtransform\u001b[0m \u001b[0;32min\u001b[0m \u001b[0mself\u001b[0m\u001b[0;34m.\u001b[0m\u001b[0msteps\u001b[0m\u001b[0;34m[\u001b[0m\u001b[0;34m:\u001b[0m\u001b[0;34m-\u001b[0m\u001b[0;36m1\u001b[0m\u001b[0;34m]\u001b[0m\u001b[0;34m:\u001b[0m\u001b[0;34m\u001b[0m\u001b[0m\n\u001b[1;32m    144\u001b[0m             \u001b[0;32mif\u001b[0m \u001b[0mhasattr\u001b[0m\u001b[0;34m(\u001b[0m\u001b[0mtransform\u001b[0m\u001b[0;34m,\u001b[0m \u001b[0;34m\"fit_transform\"\u001b[0m\u001b[0;34m)\u001b[0m\u001b[0;34m:\u001b[0m\u001b[0;34m\u001b[0m\u001b[0m\n\u001b[0;32m--> 145\u001b[0;31m                 \u001b[0mXt\u001b[0m \u001b[0;34m=\u001b[0m \u001b[0mtransform\u001b[0m\u001b[0;34m.\u001b[0m\u001b[0mfit_transform\u001b[0m\u001b[0;34m(\u001b[0m\u001b[0mXt\u001b[0m\u001b[0;34m,\u001b[0m \u001b[0my\u001b[0m\u001b[0;34m,\u001b[0m \u001b[0;34m**\u001b[0m\u001b[0mfit_params_steps\u001b[0m\u001b[0;34m[\u001b[0m\u001b[0mname\u001b[0m\u001b[0;34m]\u001b[0m\u001b[0;34m)\u001b[0m\u001b[0;34m\u001b[0m\u001b[0m\n\u001b[0m\u001b[1;32m    146\u001b[0m             \u001b[0;32melse\u001b[0m\u001b[0;34m:\u001b[0m\u001b[0;34m\u001b[0m\u001b[0m\n\u001b[1;32m    147\u001b[0m                 \u001b[0mXt\u001b[0m \u001b[0;34m=\u001b[0m \u001b[0mtransform\u001b[0m\u001b[0;34m.\u001b[0m\u001b[0mfit\u001b[0m\u001b[0;34m(\u001b[0m\u001b[0mXt\u001b[0m\u001b[0;34m,\u001b[0m \u001b[0my\u001b[0m\u001b[0;34m,\u001b[0m \u001b[0;34m**\u001b[0m\u001b[0mfit_params_steps\u001b[0m\u001b[0;34m[\u001b[0m\u001b[0mname\u001b[0m\u001b[0;34m]\u001b[0m\u001b[0;34m)\u001b[0m\u001b[0;31m \u001b[0m\u001b[0;31m\\\u001b[0m\u001b[0;34m\u001b[0m\u001b[0m\n",
      "\u001b[0;32m/home/salm/anaconda2/lib/python2.7/site-packages/sklearn/base.pyc\u001b[0m in \u001b[0;36mfit_transform\u001b[0;34m(self, X, y, **fit_params)\u001b[0m\n\u001b[1;32m    456\u001b[0m         \u001b[0;32melse\u001b[0m\u001b[0;34m:\u001b[0m\u001b[0;34m\u001b[0m\u001b[0m\n\u001b[1;32m    457\u001b[0m             \u001b[0;31m# fit method of arity 2 (supervised transformation)\u001b[0m\u001b[0;34m\u001b[0m\u001b[0;34m\u001b[0m\u001b[0m\n\u001b[0;32m--> 458\u001b[0;31m             \u001b[0;32mreturn\u001b[0m \u001b[0mself\u001b[0m\u001b[0;34m.\u001b[0m\u001b[0mfit\u001b[0m\u001b[0;34m(\u001b[0m\u001b[0mX\u001b[0m\u001b[0;34m,\u001b[0m \u001b[0my\u001b[0m\u001b[0;34m,\u001b[0m \u001b[0;34m**\u001b[0m\u001b[0mfit_params\u001b[0m\u001b[0;34m)\u001b[0m\u001b[0;34m.\u001b[0m\u001b[0mtransform\u001b[0m\u001b[0;34m(\u001b[0m\u001b[0mX\u001b[0m\u001b[0;34m)\u001b[0m\u001b[0;34m\u001b[0m\u001b[0m\n\u001b[0m\u001b[1;32m    459\u001b[0m \u001b[0;34m\u001b[0m\u001b[0m\n\u001b[1;32m    460\u001b[0m \u001b[0;34m\u001b[0m\u001b[0m\n",
      "\u001b[0;32m/home/salm/anaconda2/lib/python2.7/site-packages/sklearn/feature_selection/univariate_selection.pyc\u001b[0m in \u001b[0;36mfit\u001b[0;34m(self, X, y)\u001b[0m\n\u001b[1;32m    327\u001b[0m                             % (self.score_func, type(self.score_func)))\n\u001b[1;32m    328\u001b[0m \u001b[0;34m\u001b[0m\u001b[0m\n\u001b[0;32m--> 329\u001b[0;31m         \u001b[0mself\u001b[0m\u001b[0;34m.\u001b[0m\u001b[0m_check_params\u001b[0m\u001b[0;34m(\u001b[0m\u001b[0mX\u001b[0m\u001b[0;34m,\u001b[0m \u001b[0my\u001b[0m\u001b[0;34m)\u001b[0m\u001b[0;34m\u001b[0m\u001b[0m\n\u001b[0m\u001b[1;32m    330\u001b[0m \u001b[0;34m\u001b[0m\u001b[0m\n\u001b[1;32m    331\u001b[0m         \u001b[0mself\u001b[0m\u001b[0;34m.\u001b[0m\u001b[0mscores_\u001b[0m\u001b[0;34m,\u001b[0m \u001b[0mself\u001b[0m\u001b[0;34m.\u001b[0m\u001b[0mpvalues_\u001b[0m \u001b[0;34m=\u001b[0m \u001b[0mself\u001b[0m\u001b[0;34m.\u001b[0m\u001b[0mscore_func\u001b[0m\u001b[0;34m(\u001b[0m\u001b[0mX\u001b[0m\u001b[0;34m,\u001b[0m \u001b[0my\u001b[0m\u001b[0;34m)\u001b[0m\u001b[0;34m\u001b[0m\u001b[0m\n",
      "\u001b[0;32m/home/salm/anaconda2/lib/python2.7/site-packages/sklearn/feature_selection/univariate_selection.pyc\u001b[0m in \u001b[0;36m_check_params\u001b[0;34m(self, X, y)\u001b[0m\n\u001b[1;32m    458\u001b[0m             raise ValueError(\"k should be >=0, <= n_features; got %r.\"\n\u001b[1;32m    459\u001b[0m                              \u001b[0;34m\"Use k='all' to return all features.\"\u001b[0m\u001b[0;34m\u001b[0m\u001b[0m\n\u001b[0;32m--> 460\u001b[0;31m                              % self.k)\n\u001b[0m\u001b[1;32m    461\u001b[0m \u001b[0;34m\u001b[0m\u001b[0m\n\u001b[1;32m    462\u001b[0m     \u001b[0;32mdef\u001b[0m \u001b[0m_get_support_mask\u001b[0m\u001b[0;34m(\u001b[0m\u001b[0mself\u001b[0m\u001b[0;34m)\u001b[0m\u001b[0;34m:\u001b[0m\u001b[0;34m\u001b[0m\u001b[0m\n",
      "\u001b[0;31mValueError\u001b[0m: k should be >=0, <= n_features; got 10.Use k='all' to return all features."
     ]
    }
   ],
   "source": [
    "# Use Pipeline\n",
    "# ANOVA \n",
    "from sklearn.pipeline import Pipeline\n",
    "from sklearn.feature_selection import SelectKBest, f_regression\n",
    "anova_filter = SelectKBest(f_regression, k=10)\n",
    "LR = model\n",
    "\n",
    "anova_LinReg = Pipeline([ ('anova', anova_filter), ('LinReg', LR)])\n",
    "# You can set the parameters using the names issued\n",
    "# For instance, fit using a k of 10 in the SelectKBest\n",
    "anova_LinReg.set_params(anova__k=10).fit(new_data, Y)\n",
    "prediction = anova_LinReg.predict(new_data)\n",
    "print anova_LinReg.score(new_data, Y)                        \n",
    "# getting the selected features chosen by anova_filter\n",
    "results = cross_validation.cross_val_score(anova_LinReg, new_data, Y, cv=kfold, scoring=scoring)\n",
    "print 'Scoring according to mean_squared_error'\n",
    "print results\n",
    "print '\\n Mean      Standard deviation'\n",
    "print(\"%.2f      %.2f\" % (results.mean(), results.std()))\n",
    "print anova_LinReg.named_steps['anova'].get_support()\n",
    "r_squared = r2_score(Y, prediction, multioutput='variance_weighted')\n",
    "print 'R-squared = ',r_squared"
   ]
  },
  {
   "cell_type": "code",
   "execution_count": null,
   "metadata": {
    "collapsed": false
   },
   "outputs": [],
   "source": [
    "# Using make_pipeline\n",
    "from sklearn.pipeline import make_pipeline\n",
    "\n",
    "# ANOVA SVM-C\n",
    "# 1) anova filter, take 3 best ranked features\n",
    "anova_filter = SelectKBest(f_regression, k=10)\n",
    "anova_Xgboost_NotProcessing = make_pipeline( anova_filter, LR)\n",
    "anova_Xgboost_NotProcessing.fit(new_data, Y)\n",
    "prediction = anova_Xgboost_NotProcessing.predict(new_data)\n",
    "r_squared = r2_score(Y, prediction, multioutput='variance_weighted')\n",
    "print 'R-squared = ',r_squared"
   ]
  },
  {
   "cell_type": "markdown",
   "metadata": {},
   "source": [
    "### Save the Pipeline model for developement"
   ]
  },
  {
   "cell_type": "code",
   "execution_count": null,
   "metadata": {
    "collapsed": false
   },
   "outputs": [],
   "source": [
    "# save the model scaler to the desk\n",
    "from sklearn.externals import joblib\n",
    "joblib.dump(anova_Xgboost_NotProcessing, 'anova_Xgboost_NotProcessing.pkl') "
   ]
  },
  {
   "cell_type": "code",
   "execution_count": null,
   "metadata": {
    "collapsed": false
   },
   "outputs": [],
   "source": [
    "# Test the model if it is work\n",
    "anova_DecisionTreeRegressorTest = joblib.load('anova_Xgboost_NotProcessing.pkl')\n",
    "NewPred = anova_DecisionTreeRegressorTest.predict(new_data)\n",
    "print \" =================================================================>>>>> done\"\n",
    "r_squared = r2_score(Y, NewPred, multioutput='variance_weighted')\n",
    "print 'R-squared = ',r_squared"
   ]
  },
  {
   "cell_type": "code",
   "execution_count": null,
   "metadata": {
    "collapsed": false
   },
   "outputs": [],
   "source": [
    "# test on single data point, randomly choose point number 55\n",
    "print 'Point of training data before normalization\\n',new_data[55]\n",
    "print '\\nThe read target of the data = ', Y[55]\n",
    "NewPred = anova_DecisionTreeRegressorTest.predict([new_data[55]])\n",
    "print '\\nThe Predicted target of the data = ', NewPred"
   ]
  },
  {
   "cell_type": "markdown",
   "metadata": {},
   "source": [
    "## Conclusion "
   ]
  }
 ],
 "metadata": {
  "kernelspec": {
   "display_name": "Python 2",
   "language": "python",
   "name": "python2"
  },
  "language_info": {
   "codemirror_mode": {
    "name": "ipython",
    "version": 2
   },
   "file_extension": ".py",
   "mimetype": "text/x-python",
   "name": "python",
   "nbconvert_exporter": "python",
   "pygments_lexer": "ipython2",
   "version": "2.7.12"
  }
 },
 "nbformat": 4,
 "nbformat_minor": 0
}
