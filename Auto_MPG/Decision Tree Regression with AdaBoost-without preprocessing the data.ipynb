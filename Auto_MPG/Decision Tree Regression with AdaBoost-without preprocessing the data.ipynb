{
 "cells": [
  {
   "cell_type": "markdown",
   "metadata": {},
   "source": [
    "Salem Ameen, PhD student at Salford University\n",
    "\n",
    "###  AAuto MPG Data Set \n",
    "\n",
    "Decision trees Regression"
   ]
  },
  {
   "cell_type": "markdown",
   "metadata": {},
   "source": [
    "# Import the Libraries"
   ]
  },
  {
   "cell_type": "code",
   "execution_count": 1,
   "metadata": {
    "collapsed": false
   },
   "outputs": [
    {
     "data": {
      "text/html": [
       "\n",
       "    <div class=\"bk-root\">\n",
       "        <a href=\"http://bokeh.pydata.org\" target=\"_blank\" class=\"bk-logo bk-logo-small bk-logo-notebook\"></a>\n",
       "        <span id=\"348a52b4-9988-4e86-9f0a-cc88f4df1dce\">Loading BokehJS ...</span>\n",
       "    </div>"
      ]
     },
     "metadata": {},
     "output_type": "display_data"
    },
    {
     "data": {
      "application/javascript": [
       "\n",
       "(function(global) {\n",
       "  function now() {\n",
       "    return new Date();\n",
       "  }\n",
       "\n",
       "  var force = \"1\";\n",
       "\n",
       "  if (typeof (window._bokeh_onload_callbacks) === \"undefined\" || force !== \"\") {\n",
       "    window._bokeh_onload_callbacks = [];\n",
       "    window._bokeh_is_loading = undefined;\n",
       "  }\n",
       "\n",
       "\n",
       "  \n",
       "  if (typeof (window._bokeh_timeout) === \"undefined\" || force !== \"\") {\n",
       "    window._bokeh_timeout = Date.now() + 5000;\n",
       "    window._bokeh_failed_load = false;\n",
       "  }\n",
       "\n",
       "  var NB_LOAD_WARNING = {'data': {'text/html':\n",
       "     \"<div style='background-color: #fdd'>\\n\"+\n",
       "     \"<p>\\n\"+\n",
       "     \"BokehJS does not appear to have successfully loaded. If loading BokehJS from CDN, this \\n\"+\n",
       "     \"may be due to a slow or bad network connection. Possible fixes:\\n\"+\n",
       "     \"</p>\\n\"+\n",
       "     \"<ul>\\n\"+\n",
       "     \"<li>re-rerun `output_notebook()` to attempt to load from CDN again, or</li>\\n\"+\n",
       "     \"<li>use INLINE resources instead, as so:</li>\\n\"+\n",
       "     \"</ul>\\n\"+\n",
       "     \"<code>\\n\"+\n",
       "     \"from bokeh.resources import INLINE\\n\"+\n",
       "     \"output_notebook(resources=INLINE)\\n\"+\n",
       "     \"</code>\\n\"+\n",
       "     \"</div>\"}};\n",
       "\n",
       "  function display_loaded() {\n",
       "    if (window.Bokeh !== undefined) {\n",
       "      Bokeh.$(\"#348a52b4-9988-4e86-9f0a-cc88f4df1dce\").text(\"BokehJS successfully loaded.\");\n",
       "    } else if (Date.now() < window._bokeh_timeout) {\n",
       "      setTimeout(display_loaded, 100)\n",
       "    }\n",
       "  }\n",
       "\n",
       "  function run_callbacks() {\n",
       "    window._bokeh_onload_callbacks.forEach(function(callback) { callback() });\n",
       "    delete window._bokeh_onload_callbacks\n",
       "    console.info(\"Bokeh: all callbacks have finished\");\n",
       "  }\n",
       "\n",
       "  function load_libs(js_urls, callback) {\n",
       "    window._bokeh_onload_callbacks.push(callback);\n",
       "    if (window._bokeh_is_loading > 0) {\n",
       "      console.log(\"Bokeh: BokehJS is being loaded, scheduling callback at\", now());\n",
       "      return null;\n",
       "    }\n",
       "    if (js_urls == null || js_urls.length === 0) {\n",
       "      run_callbacks();\n",
       "      return null;\n",
       "    }\n",
       "    console.log(\"Bokeh: BokehJS not loaded, scheduling load and callback at\", now());\n",
       "    window._bokeh_is_loading = js_urls.length;\n",
       "    for (var i = 0; i < js_urls.length; i++) {\n",
       "      var url = js_urls[i];\n",
       "      var s = document.createElement('script');\n",
       "      s.src = url;\n",
       "      s.async = false;\n",
       "      s.onreadystatechange = s.onload = function() {\n",
       "        window._bokeh_is_loading--;\n",
       "        if (window._bokeh_is_loading === 0) {\n",
       "          console.log(\"Bokeh: all BokehJS libraries loaded\");\n",
       "          run_callbacks()\n",
       "        }\n",
       "      };\n",
       "      s.onerror = function() {\n",
       "        console.warn(\"failed to load library \" + url);\n",
       "      };\n",
       "      console.log(\"Bokeh: injecting script tag for BokehJS library: \", url);\n",
       "      document.getElementsByTagName(\"head\")[0].appendChild(s);\n",
       "    }\n",
       "  };var element = document.getElementById(\"348a52b4-9988-4e86-9f0a-cc88f4df1dce\");\n",
       "  if (element == null) {\n",
       "    console.log(\"Bokeh: ERROR: autoload.js configured with elementid '348a52b4-9988-4e86-9f0a-cc88f4df1dce' but no matching script tag was found. \")\n",
       "    return false;\n",
       "  }\n",
       "\n",
       "  var js_urls = ['https://cdn.pydata.org/bokeh/release/bokeh-0.12.2.min.js', 'https://cdn.pydata.org/bokeh/release/bokeh-widgets-0.12.2.min.js', 'https://cdn.pydata.org/bokeh/release/bokeh-compiler-0.12.2.min.js'];\n",
       "\n",
       "  var inline_js = [\n",
       "    function(Bokeh) {\n",
       "      Bokeh.set_log_level(\"info\");\n",
       "    },\n",
       "    \n",
       "    function(Bokeh) {\n",
       "      \n",
       "      Bokeh.$(\"#348a52b4-9988-4e86-9f0a-cc88f4df1dce\").text(\"BokehJS is loading...\");\n",
       "    },\n",
       "    function(Bokeh) {\n",
       "      console.log(\"Bokeh: injecting CSS: https://cdn.pydata.org/bokeh/release/bokeh-0.12.2.min.css\");\n",
       "      Bokeh.embed.inject_css(\"https://cdn.pydata.org/bokeh/release/bokeh-0.12.2.min.css\");\n",
       "      console.log(\"Bokeh: injecting CSS: https://cdn.pydata.org/bokeh/release/bokeh-widgets-0.12.2.min.css\");\n",
       "      Bokeh.embed.inject_css(\"https://cdn.pydata.org/bokeh/release/bokeh-widgets-0.12.2.min.css\");\n",
       "    }\n",
       "  ];\n",
       "\n",
       "  function run_inline_js() {\n",
       "    \n",
       "    if ((window.Bokeh !== undefined) || (force === \"1\")) {\n",
       "      for (var i = 0; i < inline_js.length; i++) {\n",
       "        inline_js[i](window.Bokeh);\n",
       "      }if (force === \"1\") {\n",
       "        display_loaded();\n",
       "      }} else if (Date.now() < window._bokeh_timeout) {\n",
       "      setTimeout(run_inline_js, 100);\n",
       "    } else if (!window._bokeh_failed_load) {\n",
       "      console.log(\"Bokeh: BokehJS failed to load within specified timeout.\");\n",
       "      window._bokeh_failed_load = true;\n",
       "    } else if (!force) {\n",
       "      var cell = $(\"#348a52b4-9988-4e86-9f0a-cc88f4df1dce\").parents('.cell').data().cell;\n",
       "      cell.output_area.append_execute_result(NB_LOAD_WARNING)\n",
       "    }\n",
       "\n",
       "  }\n",
       "\n",
       "  if (window._bokeh_is_loading === 0) {\n",
       "    console.log(\"Bokeh: BokehJS loaded, going straight to plotting\");\n",
       "    run_inline_js();\n",
       "  } else {\n",
       "    load_libs(js_urls, function() {\n",
       "      console.log(\"Bokeh: BokehJS plotting callback run at\", now());\n",
       "      run_inline_js();\n",
       "    });\n",
       "  }\n",
       "}(this));"
      ]
     },
     "metadata": {},
     "output_type": "display_data"
    }
   ],
   "source": [
    "import numpy as np\n",
    "import pandas\n",
    "from numpy import *\n",
    "import time\n",
    "import sys\n",
    "import pandas as pd\n",
    "import matplotlib.pyplot as plt\n",
    "from sklearn import feature_selection\n",
    "from sklearn.tree import DecisionTreeRegressor\n",
    "from sklearn.learning_curve import learning_curve, validation_curve\n",
    "from sklearn.cross_validation import cross_val_predict\n",
    "from sklearn import metrics, grid_search, cross_validation\n",
    "from IPython.display import set_matplotlib_formats\n",
    "from bokeh.plotting import figure, show, output_notebook\n",
    "from sklearn.grid_search import GridSearchCV, RandomizedSearchCV\n",
    "from sklearn.metrics import r2_score\n",
    "from bokeh.layouts import gridplot\n",
    "output_notebook()\n",
    "set_matplotlib_formats('png', 'pdf')\n",
    "%matplotlib inline\n",
    "plt.rcParams['figure.figsize'] = (6, 6)"
   ]
  },
  {
   "cell_type": "markdown",
   "metadata": {},
   "source": [
    "# Load data"
   ]
  },
  {
   "cell_type": "markdown",
   "metadata": {},
   "source": [
    "In the previous file we have not change the data as there is no missing value or add any new parameters so it can be downloaded from the web directly. "
   ]
  },
  {
   "cell_type": "code",
   "execution_count": 2,
   "metadata": {
    "collapsed": false
   },
   "outputs": [
    {
     "name": "stdout",
     "output_type": "stream",
     "text": [
      "Number of examples 398\n"
     ]
    }
   ],
   "source": [
    "url = 'http://archive.ics.uci.edu/ml/machine-learning-databases/auto-mpg/auto-mpg.data'\n",
    "names = ['mpg', 'cylinders', 'displacement', 'horsepower', 'weight', 'acceleration', 'year','origin','name']\n",
    "feature_names = ['mpg', 'cylinders', 'displacement', 'horsepower', 'weight', 'acceleration', 'year','origin']\n",
    "feature_cols = ['mpg', 'cylinders', 'displacement', 'horsepower', 'weight', 'acceleration', 'year','origin']\n",
    "data = pd.read_csv(url, sep='\\s+', names = names)\n",
    "data = data.drop('name',1)\n",
    "from sklearn import preprocessing\n",
    "\n",
    "def number_encode_features(df):\n",
    "    result = df.copy()\n",
    "    encoders = {}\n",
    "    for column in result.columns:\n",
    "        if result.dtypes[column] == np.object:\n",
    "            encoders[column] = preprocessing.LabelEncoder()\n",
    "            result[column] = encoders[column].fit_transform(result[column])\n",
    "    return result, encoders\n",
    "\n",
    "data, _ = number_encode_features(data)\n",
    "\n",
    "dataset = data.values\n",
    "X = dataset[:,1:8]\n",
    "Y = dataset[:,0]\n",
    "print 'Number of examples',len(X)"
   ]
  },
  {
   "cell_type": "code",
   "execution_count": 3,
   "metadata": {
    "collapsed": false
   },
   "outputs": [
    {
     "name": "stdout",
     "output_type": "stream",
     "text": [
      "Number of training examples 318\n",
      "Number of validation examples 80\n"
     ]
    }
   ],
   "source": [
    "# Make developement dataset for genrilization and final testing\n",
    "from sklearn.cross_validation import train_test_split\n",
    "# Extracting 20% testing data\n",
    "X_train, X_test, y_train, y_test = train_test_split(\n",
    "    X, Y, test_size=0.20, random_state=0)\n",
    "X = X_train\n",
    "Y = y_train\n",
    "new_data      = X_train\n",
    "new_test_data = X_test\n",
    "print 'Number of training examples',len(X_train)\n",
    "print 'Number of validation examples',len(X_test)"
   ]
  },
  {
   "cell_type": "markdown",
   "metadata": {},
   "source": [
    "Number of training data is very small so we need to use cross validation instead of spareate another validation data."
   ]
  },
  {
   "cell_type": "markdown",
   "metadata": {},
   "source": [
    "From the previous visulization the data has no missing value but has many outlier and some sparisty"
   ]
  },
  {
   "cell_type": "markdown",
   "metadata": {},
   "source": [
    "# Ranking of the feature's importance to the target"
   ]
  },
  {
   "cell_type": "code",
   "execution_count": 4,
   "metadata": {
    "collapsed": false
   },
   "outputs": [
    {
     "name": "stdout",
     "output_type": "stream",
     "text": [
      "mpg \t1.0\n",
      "cylinders \t0.637242089916\n",
      "displacement \t0.815077207897\n",
      "horsepower \t0.793267880581\n",
      "weight \t0.9630669809\n",
      "acceleration \t0.516023027818\n",
      "year \t0.428893949289\n",
      "origin \t0.332864469155\n"
     ]
    }
   ],
   "source": [
    "# Using just correlation coefficient even in prevoius file we show them using data frame\n",
    "for col in feature_cols:\n",
    "    lm = DecisionTreeRegressor()\n",
    "    lm.fit(data[[col]], data['mpg'])\n",
    "    print col,'\\t', lm.score(data[[col]], data['mpg'])"
   ]
  },
  {
   "cell_type": "code",
   "execution_count": 5,
   "metadata": {
    "collapsed": false
   },
   "outputs": [
    {
     "name": "stdout",
     "output_type": "stream",
     "text": [
      "Feature Name      Score         Pvalue\n",
      "mpg \t\t8.91712726219e+17 \t0.0\n",
      "cylinders \t\t597.077047852 \t4.50399224618e-81\n",
      "displacement \t\t724.994303368 \t1.65588891019e-91\n",
      "horsepower \t\t101.546001862 \t2.06258705842e-21\n",
      "weight \t\t888.850682648 \t2.97279956405e-103\n",
      "acceleration \t\t84.9577002497 \t1.82309153508e-18\n",
      "year \t\t199.98200802 \t4.84493581337e-37\n",
      "origin \t\t184.199639369 \t1.01148221023e-34\n"
     ]
    }
   ],
   "source": [
    "# Randing the important features to the target\n",
    "model = feature_selection.SelectKBest(score_func=feature_selection.f_regression,k=4)\n",
    "results = model.fit(data[feature_cols], data['mpg'])\n",
    "k=0\n",
    "print 'Feature Name      Score         Pvalue'\n",
    "for feat in feature_cols:\n",
    "    print feat,'\\t\\t',results.scores_[k],'\\t',results.pvalues_[k]\n",
    "    k=k+1\n"
   ]
  },
  {
   "cell_type": "markdown",
   "metadata": {},
   "source": [
    "# Set the parameters for cross validation"
   ]
  },
  {
   "cell_type": "code",
   "execution_count": 6,
   "metadata": {
    "collapsed": true
   },
   "outputs": [],
   "source": [
    "num_folds = 10\n",
    "num_instances = len(X)\n",
    "seed = 7\n",
    "kfold = cross_validation.KFold(n=num_instances, n_folds=num_folds, random_state=seed)"
   ]
  },
  {
   "cell_type": "markdown",
   "metadata": {},
   "source": [
    " # Set the parameters for bias-variance dilemma"
   ]
  },
  {
   "cell_type": "code",
   "execution_count": 7,
   "metadata": {
    "collapsed": false
   },
   "outputs": [],
   "source": [
    "def plot_learning_curve(estimator, title, X, y, ylim=None, cv=None,\n",
    "                        n_jobs=1, train_sizes=np.linspace(.1, 1.0, 5)):\n",
    "    plt.figure()\n",
    "    plt.title(title)\n",
    "    if ylim is not None:\n",
    "        plt.ylim(*ylim)\n",
    "    plt.xlabel(\"Training examples\")\n",
    "    plt.ylabel(\"Score\")\n",
    "    train_sizes, train_scores, test_scores = learning_curve(\n",
    "        estimator, X, y, cv=cv, n_jobs=n_jobs, train_sizes=train_sizes)\n",
    "    train_scores_mean = np.mean(train_scores, axis=1)\n",
    "    train_scores_std = np.std(train_scores, axis=1)\n",
    "    test_scores_mean = np.mean(test_scores, axis=1)\n",
    "    test_scores_std = np.std(test_scores, axis=1)\n",
    "    plt.grid()\n",
    "\n",
    "    plt.fill_between(train_sizes, train_scores_mean - train_scores_std,\n",
    "                     train_scores_mean + train_scores_std, alpha=0.1,\n",
    "                     color=\"r\")\n",
    "    plt.fill_between(train_sizes, test_scores_mean - test_scores_std,\n",
    "                     test_scores_mean + test_scores_std, alpha=0.1, color=\"g\")\n",
    "    plt.plot(train_sizes, train_scores_mean, 'o-', color=\"r\",\n",
    "             label=\"Training score\")\n",
    "    plt.plot(train_sizes, test_scores_mean, 'o-', color=\"g\",\n",
    "             label=\"Cross-validation score\")\n",
    "\n",
    "    plt.legend(loc=\"best\")\n",
    "    return plt"
   ]
  },
  {
   "cell_type": "markdown",
   "metadata": {},
   "source": [
    "# 1. DecisionTreeRegressor  with AdaBoost Regression"
   ]
  },
  {
   "cell_type": "markdown",
   "metadata": {},
   "source": [
    "Decision trees or the Classification and Regression Trees (CART as they are know) use the training data to select the best points to split the data in order to minimize a cost metric. The default cost metric for regression decision trees is the mean squared error, specified in the criterion parameter."
   ]
  },
  {
   "cell_type": "markdown",
   "metadata": {},
   "source": [
    "## Validation curve"
   ]
  },
  {
   "cell_type": "markdown",
   "metadata": {},
   "source": [
    "choosing multiple hyperparameters of an estimator "
   ]
  },
  {
   "cell_type": "code",
   "execution_count": 8,
   "metadata": {
    "collapsed": false
   },
   "outputs": [
    {
     "data": {
      "text/plain": [
       "['presort',\n",
       " 'splitter',\n",
       " 'max_leaf_nodes',\n",
       " 'min_samples_leaf',\n",
       " 'min_samples_split',\n",
       " 'min_weight_fraction_leaf',\n",
       " 'criterion',\n",
       " 'random_state',\n",
       " 'max_features',\n",
       " 'max_depth']"
      ]
     },
     "execution_count": 8,
     "metadata": {},
     "output_type": "execute_result"
    }
   ],
   "source": [
    "from sklearn.tree import DecisionTreeRegressor\n",
    "estimator = DecisionTreeRegressor()\n",
    "estimator.get_params().keys()"
   ]
  },
  {
   "cell_type": "code",
   "execution_count": 9,
   "metadata": {
    "collapsed": false
   },
   "outputs": [
    {
     "data": {
      "text/plain": [
       "['loss',\n",
       " 'base_estimator__min_samples_split',\n",
       " 'base_estimator__max_depth',\n",
       " 'learning_rate',\n",
       " 'base_estimator',\n",
       " 'base_estimator__criterion',\n",
       " 'base_estimator__max_features',\n",
       " 'base_estimator__random_state',\n",
       " 'n_estimators',\n",
       " 'base_estimator__min_weight_fraction_leaf',\n",
       " 'random_state',\n",
       " 'base_estimator__splitter',\n",
       " 'base_estimator__max_leaf_nodes',\n",
       " 'base_estimator__min_samples_leaf',\n",
       " 'base_estimator__presort']"
      ]
     },
     "execution_count": 9,
     "metadata": {},
     "output_type": "execute_result"
    }
   ],
   "source": [
    "from sklearn.tree import DecisionTreeRegressor\n",
    "from sklearn.ensemble import AdaBoostRegressor\n",
    "estimator = AdaBoostRegressor(DecisionTreeRegressor())\n",
    "estimator.get_params().keys()"
   ]
  },
  {
   "cell_type": "code",
   "execution_count": 10,
   "metadata": {
    "collapsed": false
   },
   "outputs": [
    {
     "data": {
      "image/png": "[encoded data removed]",
      "text/plain": [
       "<matplotlib.figure.Figure at 0x7fd818ec72d0>"
      ]
     },
     "metadata": {},
     "output_type": "display_data"
    }
   ],
   "source": [
    "# For parametr alpha\n",
    "#param_range = np.logspace(-10.0, 10.0)\n",
    "#param_range = np.linspace(1,50,100)\n",
    "param_range = np.arange(1,50) # generate integer numbers\n",
    "\n",
    "train_scores, test_scores = validation_curve(\n",
    "    DecisionTreeRegressor(), X, Y, param_name=\"max_depth\", param_range=param_range,\n",
    "    cv=num_folds,  n_jobs=-1)\n",
    "train_scores_mean = np.mean(train_scores, axis=1)\n",
    "train_scores_std = np.std(train_scores, axis=1)\n",
    "test_scores_mean = np.mean(test_scores, axis=1)\n",
    "test_scores_std = np.std(test_scores, axis=1)\n",
    "\n",
    "plt.title(\"Validation Curve with DecisionTreeRegressor\")\n",
    "plt.xlabel(\"max_depth\")\n",
    "plt.ylabel(\"Score\")\n",
    "plt.ylim(0.4, 1.0)\n",
    "plt.plot(param_range, train_scores_mean, label=\"Training score\", color=\"r\")\n",
    "plt.fill_between(param_range, train_scores_mean - train_scores_std,\n",
    "                 train_scores_mean + train_scores_std, alpha=0.2, color=\"r\")\n",
    "plt.plot(param_range, test_scores_mean, label=\"Cross-validation score\",\n",
    "             color=\"g\")\n",
    "plt.fill_between(param_range, test_scores_mean - test_scores_std,\n",
    "                 test_scores_mean + test_scores_std, alpha=0.2, color=\"g\")\n",
    "plt.legend(loc=\"best\")\n",
    "plt.show()"
   ]
  },
  {
   "cell_type": "markdown",
   "metadata": {},
   "source": [
    "more that 5 is the best of number of K"
   ]
  },
  {
   "cell_type": "code",
   "execution_count": 11,
   "metadata": {
    "collapsed": false
   },
   "outputs": [
    {
     "data": {
      "image/png": "[encoded data removed]",
      "text/plain": [
       "<matplotlib.figure.Figure at 0x7fd7dcb4fd10>"
      ]
     },
     "metadata": {},
     "output_type": "display_data"
    }
   ],
   "source": [
    "# For parametr alpha\n",
    "#param_range = np.logspace(-10.0, 10.0)\n",
    "#param_range = np.linspace(1,50,100)\n",
    "param_range = np.arange(1,10) # generate integer numbers\n",
    "\n",
    "train_scores, test_scores = validation_curve(\n",
    "    DecisionTreeRegressor(), X, Y, param_name=\"min_samples_split\", param_range=param_range,\n",
    "    cv=num_folds,  n_jobs=-1)\n",
    "train_scores_mean = np.mean(train_scores, axis=1)\n",
    "train_scores_std = np.std(train_scores, axis=1)\n",
    "test_scores_mean = np.mean(test_scores, axis=1)\n",
    "test_scores_std = np.std(test_scores, axis=1)\n",
    "\n",
    "plt.title(\"Validation Curve with DecisionTreeRegressor\")\n",
    "plt.xlabel(\"min_samples_split\")\n",
    "plt.ylabel(\"Score\")\n",
    "plt.ylim(0.4, 1.0)\n",
    "plt.plot(param_range, train_scores_mean, label=\"Training score\", color=\"r\")\n",
    "plt.fill_between(param_range, train_scores_mean - train_scores_std,\n",
    "                 train_scores_mean + train_scores_std, alpha=0.2, color=\"r\")\n",
    "plt.plot(param_range, test_scores_mean, label=\"Cross-validation score\",\n",
    "             color=\"g\")\n",
    "plt.fill_between(param_range, test_scores_mean - test_scores_std,\n",
    "                 test_scores_mean + test_scores_std, alpha=0.2, color=\"g\")\n",
    "plt.legend(loc=\"best\")\n",
    "plt.show()"
   ]
  },
  {
   "cell_type": "markdown",
   "metadata": {},
   "source": [
    "min_samples_split =2 (The defualt) is the best"
   ]
  },
  {
   "cell_type": "code",
   "execution_count": 12,
   "metadata": {
    "collapsed": false
   },
   "outputs": [
    {
     "data": {
      "image/png": "[encoded data removed]",
      "text/plain": [
       "<matplotlib.figure.Figure at 0x7fd7de48dd50>"
      ]
     },
     "metadata": {},
     "output_type": "display_data"
    }
   ],
   "source": [
    "# For parametr alpha\n",
    "#param_range = np.logspace(-10.0, 10.0)\n",
    "#param_range = np.linspace(1,50,100)\n",
    "param_range = np.arange(1,10) # generate integer numbers\n",
    "\n",
    "train_scores, test_scores = validation_curve(\n",
    "    DecisionTreeRegressor(), X, Y, param_name=\"min_samples_leaf\", param_range=param_range,\n",
    "    cv=num_folds,  n_jobs=-1)\n",
    "train_scores_mean = np.mean(train_scores, axis=1)\n",
    "train_scores_std = np.std(train_scores, axis=1)\n",
    "test_scores_mean = np.mean(test_scores, axis=1)\n",
    "test_scores_std = np.std(test_scores, axis=1)\n",
    "\n",
    "plt.title(\"Validation Curve with DecisionTreeRegressor\")\n",
    "plt.xlabel(\"min_samples_leaf\")\n",
    "plt.ylabel(\"Score\")\n",
    "plt.ylim(0.4, 1.0)\n",
    "plt.plot(param_range, train_scores_mean, label=\"Training score\", color=\"r\")\n",
    "plt.fill_between(param_range, train_scores_mean - train_scores_std,\n",
    "                 train_scores_mean + train_scores_std, alpha=0.2, color=\"r\")\n",
    "plt.plot(param_range, test_scores_mean, label=\"Cross-validation score\",\n",
    "             color=\"g\")\n",
    "plt.fill_between(param_range, test_scores_mean - test_scores_std,\n",
    "                 test_scores_mean + test_scores_std, alpha=0.2, color=\"g\")\n",
    "plt.legend(loc=\"best\")\n",
    "plt.show()"
   ]
  },
  {
   "cell_type": "markdown",
   "metadata": {},
   "source": [
    "min_samples_leaf = 2 is the best"
   ]
  },
  {
   "cell_type": "markdown",
   "metadata": {},
   "source": [
    "## Grid search and/or Random search to determine best compination of parameters"
   ]
  },
  {
   "cell_type": "code",
   "execution_count": 13,
   "metadata": {
    "collapsed": false
   },
   "outputs": [
    {
     "name": "stdout",
     "output_type": "stream",
     "text": [
      "Hyperparameter optimization using GridSearchCV...\n",
      "Parameters with rank: 1\n",
      "Mean validation score: 0.8273 (std: 0.0601)\n",
      "Parameters: {'n_estimators': 8, 'loss': 'linear'}\n",
      "\n",
      "Parameters with rank: 2\n",
      "Mean validation score: 0.8259 (std: 0.0568)\n",
      "Parameters: {'n_estimators': 7, 'loss': 'exponential'}\n",
      "\n",
      "Parameters with rank: 3\n",
      "Mean validation score: 0.8142 (std: 0.0703)\n",
      "Parameters: {'n_estimators': 6, 'loss': 'square'}\n",
      "\n",
      "Parameters with rank: 4\n",
      "Mean validation score: 0.8126 (std: 0.0717)\n",
      "Parameters: {'n_estimators': 9, 'loss': 'linear'}\n",
      "\n",
      "Parameters with rank: 5\n",
      "Mean validation score: 0.8107 (std: 0.0761)\n",
      "Parameters: {'n_estimators': 9, 'loss': 'exponential'}\n",
      "\n",
      "+++++++++++++++++++++++++++++++++++++++++++++++\n",
      "Hyperparameter optimization using RandomizedSearchCV\n",
      "Parameters with rank: 1\n",
      "Mean validation score: 0.8345 (std: 0.0518)\n",
      "Parameters: {'n_estimators': 200, 'loss': 'linear'}\n",
      "\n",
      "Parameters with rank: 2\n",
      "Mean validation score: 0.8300 (std: 0.0469)\n",
      "Parameters: {'n_estimators': 500, 'loss': 'square'}\n",
      "\n",
      "Parameters with rank: 3\n",
      "Mean validation score: 0.8247 (std: 0.0523)\n",
      "Parameters: {'n_estimators': 100, 'loss': 'square'}\n",
      "\n",
      "Parameters with rank: 4\n",
      "Mean validation score: 0.8168 (std: 0.0540)\n",
      "Parameters: {'n_estimators': 10, 'loss': 'square'}\n",
      "\n",
      "Parameters with rank: 5\n",
      "Mean validation score: 0.8154 (std: 0.0646)\n",
      "Parameters: {'n_estimators': 20, 'loss': 'square'}\n",
      "\n"
     ]
    }
   ],
   "source": [
    "# Utility function to report optimal parameters\n",
    "from operator import itemgetter\n",
    "def report(grid_scores, n_top=5):\n",
    "    params = None\n",
    "    top_scores = sorted(grid_scores, key=itemgetter(1), reverse=True)[:n_top]\n",
    "    for i, score in enumerate(top_scores):\n",
    "        print(\"Parameters with rank: {0}\".format(i + 1))\n",
    "        print(\"Mean validation score: {0:.4f} (std: {1:.4f})\".format(\n",
    "              score.mean_validation_score, np.std(score.cv_validation_scores)))\n",
    "        print(\"Parameters: {0}\".format(score.parameters))\n",
    "        print(\"\")\n",
    "        \n",
    "        if params == None:\n",
    "            params = score.parameters\n",
    "    \n",
    "    return params\n",
    "\n",
    "# The most common value for the max number of features to look at in each split is sqrt(# of features)\n",
    "sqrtfeat = np.sqrt(X.shape[1]) \n",
    "grid_test1 = { \"n_estimators\"      : np.arange(1,10),\n",
    "             \"loss\"      : [ \"linear\", \"square\", \"exponential\"]}\n",
    "\n",
    "# Large randomized test using max_depth to control tree size (5000 possible combinations)\n",
    "random_test1 = { \"n_estimators\"      : [1,10,20,100,200, 300, 400, 500],\n",
    "                \"loss\"      : [ \"linear\", \"square\", \"exponential\"]}\n",
    "\n",
    "\n",
    "forest = AdaBoostRegressor()\n",
    "\n",
    "print \"Hyperparameter optimization using GridSearchCV...\"\n",
    "grid_search = GridSearchCV(forest, grid_test1, n_jobs=-1, cv=num_folds)\n",
    "grid_search.fit(X, Y)\n",
    "best_params_from_grid_search = report(grid_search.grid_scores_)\n",
    "print '+++++++++++++++++++++++++++++++++++++++++++++++'\n",
    "print \"Hyperparameter optimization using RandomizedSearchCV\"\n",
    "grid_search = RandomizedSearchCV(forest, random_test1, n_jobs=-1, cv=num_folds, n_iter=5)\n",
    "grid_search.fit(X, Y)\n",
    "best_params_from_rand_search1 = report(grid_search.grid_scores_)"
   ]
  },
  {
   "cell_type": "markdown",
   "metadata": {},
   "source": [
    "Best parameters Parameters: Parameters: {'max_features': None, 'max_depth': 19, 'min_samples_leaf': 1}\n"
   ]
  },
  {
   "cell_type": "markdown",
   "metadata": {},
   "source": [
    "## Learning Curve "
   ]
  },
  {
   "cell_type": "markdown",
   "metadata": {},
   "source": [
    "In essence, what we’re doing it training the exact same model with increasingly large fractions of our total training data, and plotting the error of the training and test sets at each step."
   ]
  },
  {
   "cell_type": "code",
   "execution_count": 14,
   "metadata": {
    "collapsed": false
   },
   "outputs": [
    {
     "data": {
      "image/png": "[encoded data removed]",
      "text/plain": [
       "<matplotlib.figure.Figure at 0x7fd7dc69fc50>"
      ]
     },
     "metadata": {},
     "output_type": "display_data"
    }
   ],
   "source": [
    "from sklearn.tree import DecisionTreeRegressor\n",
    "\n",
    "model = AdaBoostRegressor(n_estimators = 5, loss = \"exponential\")\n",
    "title = \"Learning Curves (Ada DecisionTreeRegressor Refression)\"\n",
    "cv = cross_validation.ShuffleSplit(X.shape[0], n_iter=100,\n",
    "                                   test_size=0.2, random_state=0)\n",
    "plot_learning_curve(model, title, X, Y, ylim=(0.2, 1.01), cv=cv, n_jobs=-1)\n",
    "plt.show()"
   ]
  },
  {
   "cell_type": "code",
   "execution_count": 15,
   "metadata": {
    "collapsed": false
   },
   "outputs": [
    {
     "name": "stdout",
     "output_type": "stream",
     "text": [
      "train_sizes =  [ 50  80 110]\n",
      " training scores\n",
      " 50 training sizees\n",
      "0.941881351492 ± 0.0177210676628\n",
      " 80 training sizees\n",
      "0.918979555005 ± 0.0178480764946\n",
      " 110 training sizees\n",
      "0.906259658012 ± 0.0179857233417\n",
      "\n",
      " validation scores\n",
      " 50 validation scores\n",
      "0.704830411612 ± 0.106629377019\n",
      " 80 validation scores\n",
      "0.758297442691 ± 0.0854598362638\n",
      " 110 validation scores\n",
      "0.777890372164 ± 0.0659711025093\n"
     ]
    }
   ],
   "source": [
    "# More data from learning curve to show the process of building the model\n",
    "train_sizes, train_scores, valid_scores = learning_curve(\n",
    "     model, X, Y, train_sizes=[50, 80, 110], cv=cv, n_jobs=4)\n",
    "\n",
    "print 'train_sizes = ', train_sizes\n",
    "\n",
    "print ' training scores'\n",
    "print ' 50 training sizees'\n",
    "print train_scores[0].mean(),'±',train_scores[0].std()\n",
    "print ' 80 training sizees'\n",
    "print train_scores[1].mean(),'±',train_scores[1].std()\n",
    "print ' 110 training sizees'\n",
    "print train_scores[2].mean(),'±',train_scores[2].std()\n",
    "\n",
    "print '\\n validation scores'\n",
    "print ' 50 validation scores'\n",
    "print valid_scores[0].mean(),'±',valid_scores[0].std()\n",
    "print ' 80 validation scores'\n",
    "print valid_scores[1].mean(),'±',valid_scores[1].std()\n",
    "print ' 110 validation scores'\n",
    "print valid_scores[2].mean(),'±',valid_scores[2].std()"
   ]
  },
  {
   "cell_type": "markdown",
   "metadata": {},
   "source": [
    "## Cross validation"
   ]
  },
  {
   "cell_type": "code",
   "execution_count": 16,
   "metadata": {
    "collapsed": false
   },
   "outputs": [
    {
     "name": "stdout",
     "output_type": "stream",
     "text": [
      "Scoring according to mean_squared_error\n",
      "[ -6.02240711 -12.59037576 -14.02792812 -24.46031051 -10.69071277\n",
      "  -7.92889287 -12.89738626  -6.95463706 -13.4329976   -8.64713743]\n",
      "\n",
      " Mean      Standard deviation\n",
      "-11.77      5.03\n"
     ]
    },
    {
     "data": {
      "text/plain": [
       "AdaBoostRegressor(base_estimator=None, learning_rate=1.0, loss='exponential',\n",
       "         n_estimators=5, random_state=None)"
      ]
     },
     "execution_count": 16,
     "metadata": {},
     "output_type": "execute_result"
    }
   ],
   "source": [
    "scoring = 'mean_squared_error'\n",
    "results = cross_validation.cross_val_score(model, X, Y, cv=kfold, scoring=scoring)\n",
    "print 'Scoring according to mean_squared_error'\n",
    "print results\n",
    "print '\\n Mean      Standard deviation'\n",
    "print(\"%.2f      %.2f\" % (results.mean(), results.std()))\n",
    "## Fit the model\n",
    "model.fit(X,Y)\n"
   ]
  },
  {
   "cell_type": "markdown",
   "metadata": {},
   "source": [
    "## Coefficients Of Determination {Calculating R^2}\n",
    "\n",
    "R^2, Close to one is better"
   ]
  },
  {
   "cell_type": "code",
   "execution_count": 17,
   "metadata": {
    "collapsed": false
   },
   "outputs": [
    {
     "name": "stdout",
     "output_type": "stream",
     "text": [
      "R-squared =  0.805072271442\n"
     ]
    }
   ],
   "source": [
    "predicted = cross_val_predict(model, X, Y, cv=kfold)\n",
    "r_squared = r2_score(Y, predicted, multioutput='variance_weighted')\n",
    "print 'R-squared = ',r_squared"
   ]
  },
  {
   "cell_type": "markdown",
   "metadata": {},
   "source": [
    "## Residual Plot"
   ]
  },
  {
   "cell_type": "code",
   "execution_count": 18,
   "metadata": {
    "collapsed": false
   },
   "outputs": [
    {
     "data": {
      "image/png": "[encoded data removed]",
      "text/plain": [
       "<matplotlib.figure.Figure at 0x7fd7dcb9dbd0>"
      ]
     },
     "metadata": {},
     "output_type": "display_data"
    }
   ],
   "source": [
    "predicted = cross_val_predict(model, X, Y, cv=kfold)\n",
    "fig, ax = plt.subplots()\n",
    "ax.scatter(Y, predicted)\n",
    "ax.plot([Y.min(), Y.max()], [Y.min(), Y.max()], 'k--', lw=4)\n",
    "ax.set_xlabel('Measured')\n",
    "ax.set_ylabel('Predicted')\n",
    "plt.show()"
   ]
  },
  {
   "cell_type": "code",
   "execution_count": 19,
   "metadata": {
    "collapsed": false
   },
   "outputs": [
    {
     "data": {
      "text/html": [
       "\n",
       "\n",
       "    <div class=\"bk-root\">\n",
       "        <div class=\"plotdiv\" id=\"950e1b1f-0bf6-4a30-9967-6e90ff051aa2\"></div>\n",
       "    </div>\n",
       "<script type=\"text/javascript\">\n",
       "  \n",
       "  (function(global) {\n",
       "    function now() {\n",
       "      return new Date();\n",
       "    }\n",
       "  \n",
       "    var force = \"\";\n",
       "  \n",
       "    if (typeof (window._bokeh_onload_callbacks) === \"undefined\" || force !== \"\") {\n",
       "      window._bokeh_onload_callbacks = [];\n",
       "      window._bokeh_is_loading = undefined;\n",
       "    }\n",
       "  \n",
       "  \n",
       "    \n",
       "    if (typeof (window._bokeh_timeout) === \"undefined\" || force !== \"\") {\n",
       "      window._bokeh_timeout = Date.now() + 0;\n",
       "      window._bokeh_failed_load = false;\n",
       "    }\n",
       "  \n",
       "    var NB_LOAD_WARNING = {'data': {'text/html':\n",
       "       \"<div style='background-color: #fdd'>\\n\"+\n",
       "       \"<p>\\n\"+\n",
       "       \"BokehJS does not appear to have successfully loaded. If loading BokehJS from CDN, this \\n\"+\n",
       "       \"may be due to a slow or bad network connection. Possible fixes:\\n\"+\n",
       "       \"</p>\\n\"+\n",
       "       \"<ul>\\n\"+\n",
       "       \"<li>re-rerun `output_notebook()` to attempt to load from CDN again, or</li>\\n\"+\n",
       "       \"<li>use INLINE resources instead, as so:</li>\\n\"+\n",
       "       \"</ul>\\n\"+\n",
       "       \"<code>\\n\"+\n",
       "       \"from bokeh.resources import INLINE\\n\"+\n",
       "       \"output_notebook(resources=INLINE)\\n\"+\n",
       "       \"</code>\\n\"+\n",
       "       \"</div>\"}};\n",
       "  \n",
       "    function display_loaded() {\n",
       "      if (window.Bokeh !== undefined) {\n",
       "        Bokeh.$(\"#950e1b1f-0bf6-4a30-9967-6e90ff051aa2\").text(\"BokehJS successfully loaded.\");\n",
       "      } else if (Date.now() < window._bokeh_timeout) {\n",
       "        setTimeout(display_loaded, 100)\n",
       "      }\n",
       "    }\n",
       "  \n",
       "    function run_callbacks() {\n",
       "      window._bokeh_onload_callbacks.forEach(function(callback) { callback() });\n",
       "      delete window._bokeh_onload_callbacks\n",
       "      console.info(\"Bokeh: all callbacks have finished\");\n",
       "    }\n",
       "  \n",
       "    function load_libs(js_urls, callback) {\n",
       "      window._bokeh_onload_callbacks.push(callback);\n",
       "      if (window._bokeh_is_loading > 0) {\n",
       "        console.log(\"Bokeh: BokehJS is being loaded, scheduling callback at\", now());\n",
       "        return null;\n",
       "      }\n",
       "      if (js_urls == null || js_urls.length === 0) {\n",
       "        run_callbacks();\n",
       "        return null;\n",
       "      }\n",
       "      console.log(\"Bokeh: BokehJS not loaded, scheduling load and callback at\", now());\n",
       "      window._bokeh_is_loading = js_urls.length;\n",
       "      for (var i = 0; i < js_urls.length; i++) {\n",
       "        var url = js_urls[i];\n",
       "        var s = document.createElement('script');\n",
       "        s.src = url;\n",
       "        s.async = false;\n",
       "        s.onreadystatechange = s.onload = function() {\n",
       "          window._bokeh_is_loading--;\n",
       "          if (window._bokeh_is_loading === 0) {\n",
       "            console.log(\"Bokeh: all BokehJS libraries loaded\");\n",
       "            run_callbacks()\n",
       "          }\n",
       "        };\n",
       "        s.onerror = function() {\n",
       "          console.warn(\"failed to load library \" + url);\n",
       "        };\n",
       "        console.log(\"Bokeh: injecting script tag for BokehJS library: \", url);\n",
       "        document.getElementsByTagName(\"head\")[0].appendChild(s);\n",
       "      }\n",
       "    };var element = document.getElementById(\"950e1b1f-0bf6-4a30-9967-6e90ff051aa2\");\n",
       "    if (element == null) {\n",
       "      console.log(\"Bokeh: ERROR: autoload.js configured with elementid '950e1b1f-0bf6-4a30-9967-6e90ff051aa2' but no matching script tag was found. \")\n",
       "      return false;\n",
       "    }\n",
       "  \n",
       "    var js_urls = [];\n",
       "  \n",
       "    var inline_js = [\n",
       "      function(Bokeh) {\n",
       "        Bokeh.$(function() {\n",
       "            var docs_json = {\"c9bcf074-f657-4764-9e68-ece01218f123\":{\"roots\":{\"references\":[{\"attributes\":{},\"id\":\"fc2944d6-2f1c-418f-a2cc-57a71356c46c\",\"type\":\"BasicTickFormatter\"},{\"attributes\":{\"plot\":{\"id\":\"e871d54f-3171-4916-ac2a-d9f0dc7a8065\",\"subtype\":\"Figure\",\"type\":\"Plot\"}},\"id\":\"fc0f6d4e-ad69-420e-96a5-4b99a31f3874\",\"type\":\"WheelZoomTool\"},{\"attributes\":{\"axis_label\":\"Measured\",\"axis_label_text_color\":{\"value\":\"#aa6666\"},\"formatter\":{\"id\":\"aca142d3-2c99-44da-bc63-e2dce8369a89\",\"type\":\"BasicTickFormatter\"},\"major_tick_line_color\":{\"value\":\"firebrick\"},\"major_tick_line_width\":{\"value\":3},\"minor_tick_line_color\":{\"value\":\"orange\"},\"plot\":{\"id\":\"e871d54f-3171-4916-ac2a-d9f0dc7a8065\",\"subtype\":\"Figure\",\"type\":\"Plot\"},\"ticker\":{\"id\":\"bcba4841-a377-48b6-bbc3-7bd5ba17a5ef\",\"type\":\"BasicTicker\"}},\"id\":\"28c0215c-53b7-4cb7-bf79-307497a3876d\",\"type\":\"LinearAxis\"},{\"attributes\":{\"data_source\":{\"id\":\"1e93880b-6cc3-4a35-ba49-fbab5401c240\",\"type\":\"ColumnDataSource\"},\"glyph\":{\"id\":\"a79e3177-b896-4525-831e-ecec62612c04\",\"type\":\"Line\"},\"hover_glyph\":null,\"nonselection_glyph\":{\"id\":\"30c47aa2-ddca-4689-8b9d-fede0b8f7b88\",\"type\":\"Line\"},\"selection_glyph\":null},\"id\":\"fa64769c-980c-45b2-a654-2ab2577cef64\",\"type\":\"GlyphRenderer\"},{\"attributes\":{\"fill_alpha\":{\"value\":0.5},\"fill_color\":{\"value\":\"lightgrey\"},\"level\":\"overlay\",\"line_alpha\":{\"value\":1.0},\"line_color\":{\"value\":\"black\"},\"line_dash\":[4,4],\"line_width\":{\"value\":2},\"plot\":null,\"xs_units\":\"screen\",\"ys_units\":\"screen\"},\"id\":\"db4ed043-93a7-4ade-a460-8bc2bb97f934\",\"type\":\"PolyAnnotation\"},{\"attributes\":{\"bottom_units\":\"screen\",\"fill_alpha\":{\"value\":0.5},\"fill_color\":{\"value\":\"lightgrey\"},\"left_units\":\"screen\",\"level\":\"overlay\",\"line_alpha\":{\"value\":1.0},\"line_color\":{\"value\":\"black\"},\"line_dash\":[4,4],\"line_width\":{\"value\":2},\"plot\":null,\"render_mode\":\"css\",\"right_units\":\"screen\",\"top_units\":\"screen\"},\"id\":\"21ea3944-22ee-4db6-af97-86bf62a289e5\",\"type\":\"BoxAnnotation\"},{\"attributes\":{\"callback\":null,\"plot\":{\"id\":\"e871d54f-3171-4916-ac2a-d9f0dc7a8065\",\"subtype\":\"Figure\",\"type\":\"Plot\"}},\"id\":\"6a6fbf24-a88c-4365-9610-39420325c6c9\",\"type\":\"TapTool\"},{\"attributes\":{\"plot\":{\"id\":\"e871d54f-3171-4916-ac2a-d9f0dc7a8065\",\"subtype\":\"Figure\",\"type\":\"Plot\"}},\"id\":\"ef2f4cf4-8bc3-4574-bd84-9998555eaaaa\",\"type\":\"SaveTool\"},{\"attributes\":{\"axis_label\":\"Predicted\",\"axis_label_text_color\":{\"value\":\"#aa6666\"},\"formatter\":{\"id\":\"fc2944d6-2f1c-418f-a2cc-57a71356c46c\",\"type\":\"BasicTickFormatter\"},\"plot\":{\"id\":\"e871d54f-3171-4916-ac2a-d9f0dc7a8065\",\"subtype\":\"Figure\",\"type\":\"Plot\"},\"ticker\":{\"id\":\"2ed858d5-f308-4991-bb04-e5b27665923a\",\"type\":\"BasicTicker\"}},\"id\":\"093b74b8-cffc-4abe-a090-1c7841cd0702\",\"type\":\"LinearAxis\"},{\"attributes\":{\"line_dash\":[4,4],\"line_width\":{\"value\":2},\"x\":{\"field\":\"x\"},\"y\":{\"field\":\"y\"}},\"id\":\"a79e3177-b896-4525-831e-ecec62612c04\",\"type\":\"Line\"},{\"attributes\":{\"plot\":{\"id\":\"e871d54f-3171-4916-ac2a-d9f0dc7a8065\",\"subtype\":\"Figure\",\"type\":\"Plot\"}},\"id\":\"8bac70d7-d464-4712-934d-325f8ace4750\",\"type\":\"ResetTool\"},{\"attributes\":{\"overlay\":{\"id\":\"8dc0c22e-a0ed-4238-8d18-b6bc2cd0c45f\",\"type\":\"PolyAnnotation\"},\"plot\":{\"id\":\"e871d54f-3171-4916-ac2a-d9f0dc7a8065\",\"subtype\":\"Figure\",\"type\":\"Plot\"}},\"id\":\"153ae3c6-bd36-4cdd-8220-a0d3c33ddee9\",\"type\":\"PolySelectTool\"},{\"attributes\":{},\"id\":\"2ed858d5-f308-4991-bb04-e5b27665923a\",\"type\":\"BasicTicker\"},{\"attributes\":{\"plot\":{\"id\":\"e871d54f-3171-4916-ac2a-d9f0dc7a8065\",\"subtype\":\"Figure\",\"type\":\"Plot\"}},\"id\":\"9dc6d517-b6eb-4cc0-9566-427750f4d3e0\",\"type\":\"ResizeTool\"},{\"attributes\":{\"overlay\":{\"id\":\"21ea3944-22ee-4db6-af97-86bf62a289e5\",\"type\":\"BoxAnnotation\"},\"plot\":{\"id\":\"e871d54f-3171-4916-ac2a-d9f0dc7a8065\",\"subtype\":\"Figure\",\"type\":\"Plot\"}},\"id\":\"be8bc4b7-1e64-4d42-9285-5a1059b15c73\",\"type\":\"BoxZoomTool\"},{\"attributes\":{\"plot\":{\"id\":\"e871d54f-3171-4916-ac2a-d9f0dc7a8065\",\"subtype\":\"Figure\",\"type\":\"Plot\"}},\"id\":\"933a12ee-5490-4f12-a883-1e66b56cec94\",\"type\":\"CrosshairTool\"},{\"attributes\":{\"callback\":null,\"overlay\":{\"id\":\"4e5fc879-f846-4142-8a1f-5b3038a14ad2\",\"type\":\"BoxAnnotation\"},\"plot\":{\"id\":\"e871d54f-3171-4916-ac2a-d9f0dc7a8065\",\"subtype\":\"Figure\",\"type\":\"Plot\"},\"renderers\":[{\"id\":\"eb26a29c-fc33-431f-9303-95c048cc2c63\",\"type\":\"GlyphRenderer\"},{\"id\":\"fa64769c-980c-45b2-a654-2ab2577cef64\",\"type\":\"GlyphRenderer\"}]},\"id\":\"954d9258-84c7-4593-b923-926ca4b325ad\",\"type\":\"BoxSelectTool\"},{\"attributes\":{\"background_fill_alpha\":{\"value\":0.5},\"background_fill_color\":{\"value\":\"beige\"},\"below\":[{\"id\":\"28c0215c-53b7-4cb7-bf79-307497a3876d\",\"type\":\"LinearAxis\"}],\"left\":[{\"id\":\"093b74b8-cffc-4abe-a090-1c7841cd0702\",\"type\":\"LinearAxis\"}],\"plot_height\":500,\"plot_width\":500,\"renderers\":[{\"id\":\"28c0215c-53b7-4cb7-bf79-307497a3876d\",\"type\":\"LinearAxis\"},{\"id\":\"83c57833-dace-4c14-a086-f6e477b9512d\",\"type\":\"Grid\"},{\"id\":\"093b74b8-cffc-4abe-a090-1c7841cd0702\",\"type\":\"LinearAxis\"},{\"id\":\"7569cb69-ed9a-41f5-839b-e0c64e296102\",\"type\":\"Grid\"},{\"id\":\"21ea3944-22ee-4db6-af97-86bf62a289e5\",\"type\":\"BoxAnnotation\"},{\"id\":\"4e5fc879-f846-4142-8a1f-5b3038a14ad2\",\"type\":\"BoxAnnotation\"},{\"id\":\"db4ed043-93a7-4ade-a460-8bc2bb97f934\",\"type\":\"PolyAnnotation\"},{\"id\":\"8dc0c22e-a0ed-4238-8d18-b6bc2cd0c45f\",\"type\":\"PolyAnnotation\"},{\"id\":\"eb26a29c-fc33-431f-9303-95c048cc2c63\",\"type\":\"GlyphRenderer\"},{\"id\":\"fa64769c-980c-45b2-a654-2ab2577cef64\",\"type\":\"GlyphRenderer\"}],\"title\":{\"id\":\"af2281c5-f3c6-442c-a361-1f92f0b1aa61\",\"type\":\"Title\"},\"tool_events\":{\"id\":\"bddf8064-e0e7-488a-b70b-a9ec5c3ffad0\",\"type\":\"ToolEvents\"},\"toolbar\":{\"id\":\"54b9e95c-9659-457e-bafe-f8bd788973d6\",\"type\":\"Toolbar\"},\"x_range\":{\"id\":\"34b54786-b237-4cc9-b39f-581d1be9467c\",\"type\":\"DataRange1d\"},\"y_range\":{\"id\":\"865dfe59-7099-4631-bba8-159cafdbfa77\",\"type\":\"DataRange1d\"}},\"id\":\"e871d54f-3171-4916-ac2a-d9f0dc7a8065\",\"subtype\":\"Figure\",\"type\":\"Plot\"},{\"attributes\":{\"callback\":null},\"id\":\"34b54786-b237-4cc9-b39f-581d1be9467c\",\"type\":\"DataRange1d\"},{\"attributes\":{},\"id\":\"aca142d3-2c99-44da-bc63-e2dce8369a89\",\"type\":\"BasicTickFormatter\"},{\"attributes\":{\"callback\":null,\"column_names\":[\"x\",\"y\"],\"data\":{\"x\":[15.0,27.0,34.3,26.0,31.6,33.8,29.0,18.1,27.2,38.0,26.0,14.0,22.0,31.0,36.4,17.6,17.7,28.0,20.8,14.0,20.2,32.8,22.3,28.0,37.0,27.0,23.2,13.0,15.0,22.0,24.0,29.0,13.0,31.8,23.0,25.5,29.9,13.0,17.5,46.6,15.5,32.9,14.0,25.0,19.4,15.0,32.4,31.5,27.0,19.8,17.0,33.5,21.0,23.0,38.1,44.0,40.8,21.0,29.0,17.5,28.0,26.0,26.0,11.0,37.7,24.2,16.0,16.0,30.0,19.0,27.0,19.0,16.0,16.0,20.3,21.0,33.5,23.0,21.5,16.0,19.0,37.0,15.0,16.0,26.0,18.0,13.0,21.0,29.0,22.0,33.0,22.0,16.0,36.0,20.0,22.0,31.3,14.5,29.8,13.0,13.0,36.0,20.5,25.0,27.0,33.0,16.5,20.6,30.0,43.4,34.7,11.0,18.0,13.0,16.0,19.0,23.0,25.5,14.0,24.5,30.0,25.8,38.0,28.8,26.6,17.0,32.0,18.1,11.0,21.0,36.0,13.0,30.0,31.0,14.0,18.0,13.0,21.6,28.0,23.8,14.0,27.0,20.2,26.0,39.4,19.9,19.0,14.0,23.6,13.0,38.0,30.5,18.5,17.0,12.0,16.0,28.0,15.5,32.0,24.0,25.1,16.0,13.0,24.0,22.0,24.0,15.0,19.0,18.0,27.2,14.0,21.0,44.3,28.0,31.5,19.2,14.0,30.5,29.8,36.1,26.8,26.0,20.5,32.1,16.0,17.0,20.0,22.0,25.0,23.9,31.0,39.0,28.0,34.5,22.0,20.6,14.0,25.4,14.0,30.0,19.0,36.0,25.0,14.0,21.1,28.0,19.0,19.1,24.3,44.6,20.0,17.0,13.0,34.2,26.0,17.5,26.0,13.0,18.0,18.5,36.0,16.0,38.0,23.0,20.5,13.0,28.0,12.0,34.1,20.0,12.0,28.4,18.0,20.0,29.5,19.0,26.0,26.0,25.0,32.0,33.7,28.0,19.2,29.5,27.0,15.0,39.1,26.6,13.0,23.0,27.5,20.0,19.2,24.0,32.2,19.4,33.0,12.0,13.0,17.6,23.9,34.4,14.0,31.0,35.1,15.0,15.5,9.0,25.0,18.0,31.0,43.1,17.5,25.0,25.0,19.0,26.0,31.0,18.2,30.7,24.0,17.0,27.0,23.0,18.0,27.2,35.0,29.0,21.5,15.0,17.5,15.0,32.7,10.0,20.0,32.4,34.0,18.0,32.0,14.0,24.0,26.4,14.0,13.0,13.0,18.5,21.5,16.2,16.5,15.0,28.1,29.0,20.2,27.9,22.0,29.0,19.0,25.0],\"y\":[14.03076923076923,32.03846153846154,37.077499999999986,32.03846153846154,30.183333333333334,37.077499999999986,30.065116279069766,18.889795918367344,27.566666666666666,31.99545454545455,32.03846153846154,13.756756756756756,22.678571428571427,32.03846153846154,30.183333333333334,19.58275862068966,18.889795918367344,23.93943661971831,18.889795918367344,13.756756756756756,22.389830508474578,37.02452830188677,30.065116279069766,23.90727272727273,37.077499999999986,30.065116279069766,23.93943661971831,16.532222222222227,16.532222222222227,23.90727272727273,23.90727272727273,32.03846153846154,15.697058823529414,36.177419354838726,23.916249999999994,23.916249999999994,31.994642857142868,13.662790697674419,15.697058823529414,36.177419354838726,14.168888888888889,28.83437499999999,13.967391304347826,23.916249999999994,16.736363636363635,19.15161290322581,31.994642857142868,30.375,24.674025974025973,23.916249999999994,14.168888888888889,30.375,19.15161290322581,23.425641025641024,36.223529411764716,36.223529411764716,36.177419354838726,23.425641025641024,30.375,19.133333333333336,23.916249999999994,23.916249999999994,23.916249999999994,13.662790697674419,37.41627906976743,31.079816513761486,13.696428571428571,13.696428571428571,28.909523809523805,24.406153846153845,29.46857142857142,24.406153846153845,15.536538461538461,14.058823529411764,24.406153846153845,22.3030303030303,24.406153846153845,18.804444444444442,19.82881355932204,15.481481481481481,22.3030303030303,37.41627906976743,15.536538461538461,18.835714285714282,29.46857142857142,18.835714285714282,14.058823529411764,24.406153846153845,28.006521739130434,18.835714285714282,29.144117647058827,31.079816513761486,15.536538461538461,29.144117647058827,24.50980392156863,24.406153846153845,29.47500000000001,15.25,37.281632653061216,15.25,13.80952380952381,36.94888888888889,20.358823529411758,26.093750000000004,25.26181818181819,28.107142857142858,15.732142857142858,19.312244897959193,28.107142857142858,32.315625,36.197499999999984,13.717391304347826,15.732142857142858,15.732142857142858,13.80952380952381,22.898484848484845,28.94249999999999,23.381132075471694,13.80952380952381,23.381132075471694,27.863636363636363,29.34117647058824,20.358823529411758,25.26181818181819,29.34117647058824,18.363636363636363,30.795454545454547,18.200000000000003,13.5,19.78412698412699,30.32266666666667,13.228571428571428,29.26086956521739,29.26086956521739,13.5,29.26086956521739,18.854545454545455,24.31692307692307,30.1409090909091,24.31692307692307,13.5,29.070000000000004,21.266666666666666,29.070000000000004,35.828260869565206,18.854545454545455,24.31692307692307,18.387096774193548,30.1409090909091,16.47222222222222,38.917073170731705,29.26086956521739,18.854545454545455,16.47222222222222,13.228571428571428,16.47222222222222,29.070000000000004,16.47222222222222,30.32266666666667,29.070000000000004,24.892207792207792,14.7,14.7,28.551111111111116,23.24821428571428,23.24821428571428,14.012820512820513,20.359183673469392,20.493333333333336,26.921874999999996,14.7,24.892207792207792,38.263768115942014,24.892207792207792,31.2079365079365,19.19318181818182,13.711864406779661,30.38095238095238,28.551111111111116,38.263768115942014,20.359183673469392,28.71481481481481,19.19318181818182,34.338095238095235,16.62162162162162,20.359183673469392,20.359183673469392,24.892207792207792,23.24821428571428,19.022950819672133,36.77428571428571,38.263768115942014,23.193548387096776,28.520930232558143,23.182692307692307,18.800000000000004,18.426190476190477,26.6,18.416981132075477,29.54375,18.426190476190477,29.54375,23.540000000000003,14.16326530612245,23.540000000000003,23.540000000000003,23.193548387096776,24.213043478260875,28.33148148148148,36.15416666666666,23.182692307692307,15.697435897435899,14.16326530612245,29.54375,23.182692307692307,15.25,23.71969696969697,13.702702702702704,18.426190476190477,18.426190476190477,31.76136363636363,18.426190476190477,36.15416666666666,23.193548387096776,19.847272727272724,13.818181818181818,31.758928571428577,13.818181818181818,37.162499999999994,19.847272727272724,13.818181818181818,28.981249999999992,18.724137931034484,19.98787878787879,27.903030303030306,19.847272727272724,24.679365079365077,24.679365079365077,23.5421052631579,29.273809523809526,35.21282051282051,31.758928571428577,17.984615384615385,29.273809523809526,27.903030303030306,15.709677419354838,37.162499999999994,16.513333333333335,13.818181818181818,23.016129032258064,23.39399999999999,23.016129032258064,20.517857142857142,23.5421052631579,34.938235294117646,19.847272727272724,35.168181818181814,13.709677419354838,13.709677419354838,20.08095238095238,23.331578947368413,35.168181818181814,13.709677419354838,29.566666666666666,35.168181818181814,18.308823529411764,15.979166666666666,13.709677419354838,23.331578947368413,15.979166666666666,29.566666666666666,34.36000000000001,18.308823529411764,23.331578947368413,27.98076923076923,22.87708333333333,23.331578947368413,28.814285714285717,15.979166666666666,23.861538461538462,29.566666666666666,15.979166666666666,28.814285714285717,22.87708333333333,22.87708333333333,28.814285714285717,28.814285714285717,30.583333333333332,28.21875,14.207317073170731,14.623255813953488,14.983870967741936,24.028571428571432,13.714285714285714,18.577586206896555,32.44871794871795,30.065116279069766,20.17,37.94583333333333,14.207317073170731,19.88235294117647,28.761904761904766,14.207317073170731,14.207317073170731,14.207317073170731,14.623255813953488,28.21875,20.653846153846157,19.88235294117647,14.983870967741936,28.761904761904766,30.083333333333332,18.577586206896555,25.621428571428588,18.577586206896555,30.583333333333332,18.3027397260274,24.628985507246373]}},\"id\":\"7428fe6c-4172-471f-b6ef-9628649e66ee\",\"type\":\"ColumnDataSource\"},{\"attributes\":{\"plot\":{\"id\":\"e871d54f-3171-4916-ac2a-d9f0dc7a8065\",\"subtype\":\"Figure\",\"type\":\"Plot\"},\"ticker\":{\"id\":\"bcba4841-a377-48b6-bbc3-7bd5ba17a5ef\",\"type\":\"BasicTicker\"}},\"id\":\"83c57833-dace-4c14-a086-f6e477b9512d\",\"type\":\"Grid\"},{\"attributes\":{\"dimension\":1,\"plot\":{\"id\":\"e871d54f-3171-4916-ac2a-d9f0dc7a8065\",\"subtype\":\"Figure\",\"type\":\"Plot\"},\"ticker\":{\"id\":\"2ed858d5-f308-4991-bb04-e5b27665923a\",\"type\":\"BasicTicker\"}},\"id\":\"7569cb69-ed9a-41f5-839b-e0c64e296102\",\"type\":\"Grid\"},{\"attributes\":{\"bottom_units\":\"screen\",\"fill_alpha\":{\"value\":0.5},\"fill_color\":{\"value\":\"lightgrey\"},\"left_units\":\"screen\",\"level\":\"overlay\",\"line_alpha\":{\"value\":1.0},\"line_color\":{\"value\":\"black\"},\"line_dash\":[4,4],\"line_width\":{\"value\":2},\"plot\":null,\"render_mode\":\"css\",\"right_units\":\"screen\",\"top_units\":\"screen\"},\"id\":\"4e5fc879-f846-4142-8a1f-5b3038a14ad2\",\"type\":\"BoxAnnotation\"},{\"attributes\":{\"fill_alpha\":{\"value\":0.1},\"fill_color\":{\"value\":\"#1f77b4\"},\"line_alpha\":{\"value\":0.1},\"line_color\":{\"value\":\"#1f77b4\"},\"line_width\":{\"value\":3},\"x\":{\"field\":\"x\"},\"y\":{\"field\":\"y\"}},\"id\":\"777cc33a-feca-4927-aefe-4ed5bc544024\",\"type\":\"Circle\"},{\"attributes\":{\"callback\":null,\"column_names\":[\"y\",\"x\"],\"data\":{\"x\":[9.0,46.6],\"y\":[9.0,46.6]}},\"id\":\"1e93880b-6cc3-4a35-ba49-fbab5401c240\",\"type\":\"ColumnDataSource\"},{\"attributes\":{\"fill_alpha\":{\"value\":0.5},\"fill_color\":{\"value\":\"lightgrey\"},\"level\":\"overlay\",\"line_alpha\":{\"value\":1.0},\"line_color\":{\"value\":\"black\"},\"line_dash\":[4,4],\"line_width\":{\"value\":2},\"plot\":null,\"xs_units\":\"screen\",\"ys_units\":\"screen\"},\"id\":\"8dc0c22e-a0ed-4238-8d18-b6bc2cd0c45f\",\"type\":\"PolyAnnotation\"},{\"attributes\":{\"fill_color\":{\"value\":\"#80B1D3\"},\"line_color\":{\"value\":\"#80B1D3\"},\"line_width\":{\"value\":3},\"x\":{\"field\":\"x\"},\"y\":{\"field\":\"y\"}},\"id\":\"61055cb3-1708-47f8-8482-b2b4559f0188\",\"type\":\"Circle\"},{\"attributes\":{\"callback\":null},\"id\":\"865dfe59-7099-4631-bba8-159cafdbfa77\",\"type\":\"DataRange1d\"},{\"attributes\":{\"plot\":{\"id\":\"e871d54f-3171-4916-ac2a-d9f0dc7a8065\",\"subtype\":\"Figure\",\"type\":\"Plot\"}},\"id\":\"71d4d564-8faf-4459-92cf-e3839ceefd06\",\"type\":\"UndoTool\"},{\"attributes\":{\"align\":\"center\",\"plot\":null,\"text\":null},\"id\":\"af2281c5-f3c6-442c-a361-1f92f0b1aa61\",\"type\":\"Title\"},{\"attributes\":{\"plot\":{\"id\":\"e871d54f-3171-4916-ac2a-d9f0dc7a8065\",\"subtype\":\"Figure\",\"type\":\"Plot\"}},\"id\":\"b791ad0d-f608-4fe5-9ef2-70a6c443c4eb\",\"type\":\"PanTool\"},{\"attributes\":{},\"id\":\"bcba4841-a377-48b6-bbc3-7bd5ba17a5ef\",\"type\":\"BasicTicker\"},{\"attributes\":{\"active_drag\":\"auto\",\"active_scroll\":\"auto\",\"active_tap\":\"auto\",\"tools\":[{\"id\":\"be8bc4b7-1e64-4d42-9285-5a1059b15c73\",\"type\":\"BoxZoomTool\"},{\"id\":\"954d9258-84c7-4593-b923-926ca4b325ad\",\"type\":\"BoxSelectTool\"},{\"id\":\"933a12ee-5490-4f12-a883-1e66b56cec94\",\"type\":\"CrosshairTool\"},{\"id\":\"9dc6d517-b6eb-4cc0-9566-427750f4d3e0\",\"type\":\"ResizeTool\"},{\"id\":\"8bac70d7-d464-4712-934d-325f8ace4750\",\"type\":\"ResetTool\"},{\"id\":\"ef47286a-2760-48ce-a345-89b61b02d442\",\"type\":\"LassoSelectTool\"},{\"id\":\"b791ad0d-f608-4fe5-9ef2-70a6c443c4eb\",\"type\":\"PanTool\"},{\"id\":\"ef2f4cf4-8bc3-4574-bd84-9998555eaaaa\",\"type\":\"SaveTool\"},{\"id\":\"153ae3c6-bd36-4cdd-8220-a0d3c33ddee9\",\"type\":\"PolySelectTool\"},{\"id\":\"6a6fbf24-a88c-4365-9610-39420325c6c9\",\"type\":\"TapTool\"},{\"id\":\"fc0f6d4e-ad69-420e-96a5-4b99a31f3874\",\"type\":\"WheelZoomTool\"},{\"id\":\"71d4d564-8faf-4459-92cf-e3839ceefd06\",\"type\":\"UndoTool\"}]},\"id\":\"54b9e95c-9659-457e-bafe-f8bd788973d6\",\"type\":\"Toolbar\"},{\"attributes\":{\"data_source\":{\"id\":\"7428fe6c-4172-471f-b6ef-9628649e66ee\",\"type\":\"ColumnDataSource\"},\"glyph\":{\"id\":\"61055cb3-1708-47f8-8482-b2b4559f0188\",\"type\":\"Circle\"},\"hover_glyph\":null,\"nonselection_glyph\":{\"id\":\"777cc33a-feca-4927-aefe-4ed5bc544024\",\"type\":\"Circle\"},\"selection_glyph\":null},\"id\":\"eb26a29c-fc33-431f-9303-95c048cc2c63\",\"type\":\"GlyphRenderer\"},{\"attributes\":{\"callback\":null,\"overlay\":{\"id\":\"db4ed043-93a7-4ade-a460-8bc2bb97f934\",\"type\":\"PolyAnnotation\"},\"plot\":{\"id\":\"e871d54f-3171-4916-ac2a-d9f0dc7a8065\",\"subtype\":\"Figure\",\"type\":\"Plot\"}},\"id\":\"ef47286a-2760-48ce-a345-89b61b02d442\",\"type\":\"LassoSelectTool\"},{\"attributes\":{\"line_alpha\":{\"value\":0.1},\"line_color\":{\"value\":\"#1f77b4\"},\"line_dash\":[4,4],\"line_width\":{\"value\":2},\"x\":{\"field\":\"x\"},\"y\":{\"field\":\"y\"}},\"id\":\"30c47aa2-ddca-4689-8b9d-fede0b8f7b88\",\"type\":\"Line\"},{\"attributes\":{},\"id\":\"bddf8064-e0e7-488a-b70b-a9ec5c3ffad0\",\"type\":\"ToolEvents\"}],\"root_ids\":[\"e871d54f-3171-4916-ac2a-d9f0dc7a8065\"]},\"title\":\"Bokeh Application\",\"version\":\"0.12.2\"}};\n",
       "            var render_items = [{\"docid\":\"c9bcf074-f657-4764-9e68-ece01218f123\",\"elementid\":\"950e1b1f-0bf6-4a30-9967-6e90ff051aa2\",\"modelid\":\"e871d54f-3171-4916-ac2a-d9f0dc7a8065\"}];\n",
       "            \n",
       "            Bokeh.embed.embed_items(docs_json, render_items);\n",
       "        });\n",
       "      },\n",
       "      function(Bokeh) {\n",
       "      }\n",
       "    ];\n",
       "  \n",
       "    function run_inline_js() {\n",
       "      \n",
       "      if ((window.Bokeh !== undefined) || (force === \"1\")) {\n",
       "        for (var i = 0; i < inline_js.length; i++) {\n",
       "          inline_js[i](window.Bokeh);\n",
       "        }if (force === \"1\") {\n",
       "          display_loaded();\n",
       "        }} else if (Date.now() < window._bokeh_timeout) {\n",
       "        setTimeout(run_inline_js, 100);\n",
       "      } else if (!window._bokeh_failed_load) {\n",
       "        console.log(\"Bokeh: BokehJS failed to load within specified timeout.\");\n",
       "        window._bokeh_failed_load = true;\n",
       "      } else if (!force) {\n",
       "        var cell = $(\"#950e1b1f-0bf6-4a30-9967-6e90ff051aa2\").parents('.cell').data().cell;\n",
       "        cell.output_area.append_execute_result(NB_LOAD_WARNING)\n",
       "      }\n",
       "  \n",
       "    }\n",
       "  \n",
       "    if (window._bokeh_is_loading === 0) {\n",
       "      console.log(\"Bokeh: BokehJS loaded, going straight to plotting\");\n",
       "      run_inline_js();\n",
       "    } else {\n",
       "      load_libs(js_urls, function() {\n",
       "        console.log(\"Bokeh: BokehJS plotting callback run at\", now());\n",
       "        run_inline_js();\n",
       "      });\n",
       "    }\n",
       "  }(this));\n",
       "</script>"
      ]
     },
     "metadata": {},
     "output_type": "display_data"
    }
   ],
   "source": [
    "# Plotining using bokeh\n",
    "#TOOLS = [BoxSelectTool(), HoverTool()]\n",
    "#TOOLS = 'hover,box_zoom,box_select,crosshair,resize,reset,DecisionTreeRegressor_select,pan,save,poly_select,tap,wheel_zoom,undo'\n",
    "TOOLS = 'box_zoom,box_select,crosshair,resize,reset,lasso_select,pan,save,poly_select,tap,wheel_zoom,undo'\n",
    "p = figure(plot_width=500, plot_height=500, tools=TOOLS)\n",
    "p.scatter(Y, predicted,x=\"jjj\", marker=\"o\", color=\"#80B1D3\", line_width=3)\n",
    "p.title.align = \"center\"\n",
    "p.xaxis.axis_label = \"Measured\"\n",
    "p.xaxis.axis_label_text_color = \"#aa6666\"\n",
    "#p.xaxis.axis_label_standoff = 30\n",
    "p.xaxis.major_tick_line_color = \"firebrick\"\n",
    "p.xaxis.major_tick_line_width = 3\n",
    "p.xaxis.minor_tick_line_color = \"orange\"\n",
    "p.yaxis.axis_label = \"Predicted\"\n",
    "p.yaxis.axis_label_text_font_style = \"italic\"\n",
    "p.yaxis.axis_label_text_color = \"#aa6666\"\n",
    "p.background_fill_color = \"beige\"\n",
    "p.background_fill_alpha = 0.5\n",
    "#p.line([Y.min(), Y.max()], [Y.min(), Y.max()], line_dash=\"4 4\", line_width=2, color='red')\n",
    "\n",
    "# create a new plot with the toolbar below\n",
    "# line_dash=\"4 4\", line_width=2, color='red'\n",
    "p.line([Y.min(), Y.max()], [Y.min(), Y.max()], line_dash=\"4 4\", line_width=2, line_color=\"black\")\n",
    "show(p)"
   ]
  },
  {
   "cell_type": "code",
   "execution_count": 20,
   "metadata": {
    "collapsed": false
   },
   "outputs": [
    {
     "data": {
      "text/plain": [
       "<matplotlib.text.Text at 0x7fd7dcbaf6d0>"
      ]
     },
     "execution_count": 20,
     "metadata": {},
     "output_type": "execute_result"
    },
    {
     "data": {
      "image/png": "[encoded data removed]",
      "text/plain": [
       "<matplotlib.figure.Figure at 0x7fd7de488cd0>"
      ]
     },
     "metadata": {},
     "output_type": "display_data"
    }
   ],
   "source": [
    "plt.scatter(predicted, (predicted - Y), c='r', s=30)\n",
    "plt.title(\"Residual plot on the training data\")\n",
    "plt.xlabel(\"Predicted\")\n",
    "plt.ylabel(\"Residuals\")"
   ]
  },
  {
   "cell_type": "code",
   "execution_count": 21,
   "metadata": {
    "collapsed": false
   },
   "outputs": [
    {
     "data": {
      "text/html": [
       "\n",
       "\n",
       "    <div class=\"bk-root\">\n",
       "        <div class=\"plotdiv\" id=\"5e00f2f5-667c-4faf-b7c4-5a0de4e35d36\"></div>\n",
       "    </div>\n",
       "<script type=\"text/javascript\">\n",
       "  \n",
       "  (function(global) {\n",
       "    function now() {\n",
       "      return new Date();\n",
       "    }\n",
       "  \n",
       "    var force = \"\";\n",
       "  \n",
       "    if (typeof (window._bokeh_onload_callbacks) === \"undefined\" || force !== \"\") {\n",
       "      window._bokeh_onload_callbacks = [];\n",
       "      window._bokeh_is_loading = undefined;\n",
       "    }\n",
       "  \n",
       "  \n",
       "    \n",
       "    if (typeof (window._bokeh_timeout) === \"undefined\" || force !== \"\") {\n",
       "      window._bokeh_timeout = Date.now() + 0;\n",
       "      window._bokeh_failed_load = false;\n",
       "    }\n",
       "  \n",
       "    var NB_LOAD_WARNING = {'data': {'text/html':\n",
       "       \"<div style='background-color: #fdd'>\\n\"+\n",
       "       \"<p>\\n\"+\n",
       "       \"BokehJS does not appear to have successfully loaded. If loading BokehJS from CDN, this \\n\"+\n",
       "       \"may be due to a slow or bad network connection. Possible fixes:\\n\"+\n",
       "       \"</p>\\n\"+\n",
       "       \"<ul>\\n\"+\n",
       "       \"<li>re-rerun `output_notebook()` to attempt to load from CDN again, or</li>\\n\"+\n",
       "       \"<li>use INLINE resources instead, as so:</li>\\n\"+\n",
       "       \"</ul>\\n\"+\n",
       "       \"<code>\\n\"+\n",
       "       \"from bokeh.resources import INLINE\\n\"+\n",
       "       \"output_notebook(resources=INLINE)\\n\"+\n",
       "       \"</code>\\n\"+\n",
       "       \"</div>\"}};\n",
       "  \n",
       "    function display_loaded() {\n",
       "      if (window.Bokeh !== undefined) {\n",
       "        Bokeh.$(\"#5e00f2f5-667c-4faf-b7c4-5a0de4e35d36\").text(\"BokehJS successfully loaded.\");\n",
       "      } else if (Date.now() < window._bokeh_timeout) {\n",
       "        setTimeout(display_loaded, 100)\n",
       "      }\n",
       "    }\n",
       "  \n",
       "    function run_callbacks() {\n",
       "      window._bokeh_onload_callbacks.forEach(function(callback) { callback() });\n",
       "      delete window._bokeh_onload_callbacks\n",
       "      console.info(\"Bokeh: all callbacks have finished\");\n",
       "    }\n",
       "  \n",
       "    function load_libs(js_urls, callback) {\n",
       "      window._bokeh_onload_callbacks.push(callback);\n",
       "      if (window._bokeh_is_loading > 0) {\n",
       "        console.log(\"Bokeh: BokehJS is being loaded, scheduling callback at\", now());\n",
       "        return null;\n",
       "      }\n",
       "      if (js_urls == null || js_urls.length === 0) {\n",
       "        run_callbacks();\n",
       "        return null;\n",
       "      }\n",
       "      console.log(\"Bokeh: BokehJS not loaded, scheduling load and callback at\", now());\n",
       "      window._bokeh_is_loading = js_urls.length;\n",
       "      for (var i = 0; i < js_urls.length; i++) {\n",
       "        var url = js_urls[i];\n",
       "        var s = document.createElement('script');\n",
       "        s.src = url;\n",
       "        s.async = false;\n",
       "        s.onreadystatechange = s.onload = function() {\n",
       "          window._bokeh_is_loading--;\n",
       "          if (window._bokeh_is_loading === 0) {\n",
       "            console.log(\"Bokeh: all BokehJS libraries loaded\");\n",
       "            run_callbacks()\n",
       "          }\n",
       "        };\n",
       "        s.onerror = function() {\n",
       "          console.warn(\"failed to load library \" + url);\n",
       "        };\n",
       "        console.log(\"Bokeh: injecting script tag for BokehJS library: \", url);\n",
       "        document.getElementsByTagName(\"head\")[0].appendChild(s);\n",
       "      }\n",
       "    };var element = document.getElementById(\"5e00f2f5-667c-4faf-b7c4-5a0de4e35d36\");\n",
       "    if (element == null) {\n",
       "      console.log(\"Bokeh: ERROR: autoload.js configured with elementid '5e00f2f5-667c-4faf-b7c4-5a0de4e35d36' but no matching script tag was found. \")\n",
       "      return false;\n",
       "    }\n",
       "  \n",
       "    var js_urls = [];\n",
       "  \n",
       "    var inline_js = [\n",
       "      function(Bokeh) {\n",
       "        Bokeh.$(function() {\n",
       "            var docs_json = {\"6b83e986-816a-4416-8c44-d9b070262442\":{\"roots\":{\"references\":[{\"attributes\":{\"dimension\":1,\"plot\":{\"id\":\"9b7c0d3a-b011-422c-8c93-8cc150a80efd\",\"subtype\":\"Figure\",\"type\":\"Plot\"},\"ticker\":{\"id\":\"1d491676-ee16-45e7-a8e2-a7cc8cf1e983\",\"type\":\"BasicTicker\"}},\"id\":\"c215e3da-1602-47c2-89c0-32b318cae018\",\"type\":\"Grid\"},{\"attributes\":{\"fill_alpha\":{\"value\":0.1},\"fill_color\":{\"value\":\"#1f77b4\"},\"line_alpha\":{\"value\":0.1},\"line_color\":{\"value\":\"#1f77b4\"},\"line_width\":{\"value\":3},\"x\":{\"field\":\"x\"},\"y\":{\"field\":\"y\"}},\"id\":\"851a6b27-a1c1-4908-93f9-a0e0580285e6\",\"type\":\"Circle\"},{\"attributes\":{\"overlay\":{\"id\":\"1228e74e-f3f7-4a6d-b86a-d14089acef6e\",\"type\":\"PolyAnnotation\"},\"plot\":{\"id\":\"9b7c0d3a-b011-422c-8c93-8cc150a80efd\",\"subtype\":\"Figure\",\"type\":\"Plot\"}},\"id\":\"520e4eed-1c18-4098-8dac-93f18a07d165\",\"type\":\"PolySelectTool\"},{\"attributes\":{\"plot\":{\"id\":\"9b7c0d3a-b011-422c-8c93-8cc150a80efd\",\"subtype\":\"Figure\",\"type\":\"Plot\"}},\"id\":\"5e2214ff-f724-4f13-afff-ebd15d6ddadd\",\"type\":\"CrosshairTool\"},{\"attributes\":{\"bottom_units\":\"screen\",\"fill_alpha\":{\"value\":0.5},\"fill_color\":{\"value\":\"lightgrey\"},\"left_units\":\"screen\",\"level\":\"overlay\",\"line_alpha\":{\"value\":1.0},\"line_color\":{\"value\":\"black\"},\"line_dash\":[4,4],\"line_width\":{\"value\":2},\"plot\":null,\"render_mode\":\"css\",\"right_units\":\"screen\",\"top_units\":\"screen\"},\"id\":\"20ead447-5f66-4f18-a827-59ce73f5f767\",\"type\":\"BoxAnnotation\"},{\"attributes\":{\"fill_alpha\":{\"value\":0.5},\"fill_color\":{\"value\":\"lightgrey\"},\"level\":\"overlay\",\"line_alpha\":{\"value\":1.0},\"line_color\":{\"value\":\"black\"},\"line_dash\":[4,4],\"line_width\":{\"value\":2},\"plot\":null,\"xs_units\":\"screen\",\"ys_units\":\"screen\"},\"id\":\"1228e74e-f3f7-4a6d-b86a-d14089acef6e\",\"type\":\"PolyAnnotation\"},{\"attributes\":{},\"id\":\"4c28d7c2-2c75-4343-bd92-41693e70eaef\",\"type\":\"BasicTickFormatter\"},{\"attributes\":{\"active_drag\":\"auto\",\"active_scroll\":\"auto\",\"active_tap\":\"auto\",\"tools\":[{\"id\":\"4471bee1-c26a-470e-9adc-0ef0146a3c8e\",\"type\":\"BoxZoomTool\"},{\"id\":\"3c936784-ac8f-4e4b-966b-e4afca8af503\",\"type\":\"BoxSelectTool\"},{\"id\":\"5e2214ff-f724-4f13-afff-ebd15d6ddadd\",\"type\":\"CrosshairTool\"},{\"id\":\"4c34b0bb-7877-4010-b78b-4c11e052a5a8\",\"type\":\"ResizeTool\"},{\"id\":\"081e6c76-5106-46bf-a901-d7c957ec7149\",\"type\":\"ResetTool\"},{\"id\":\"e6ab2915-e99d-458f-9a62-a872be40e751\",\"type\":\"LassoSelectTool\"},{\"id\":\"0dbd16a2-b0f8-476d-bca7-5e1b96f96abc\",\"type\":\"PanTool\"},{\"id\":\"ea42109b-b8c6-491d-8271-9b86eb3dc913\",\"type\":\"SaveTool\"},{\"id\":\"520e4eed-1c18-4098-8dac-93f18a07d165\",\"type\":\"PolySelectTool\"},{\"id\":\"e5987473-9069-410e-add2-1ef0137d8dde\",\"type\":\"TapTool\"},{\"id\":\"b881d1c0-cdad-48be-9cbe-a7b32b0e5c12\",\"type\":\"WheelZoomTool\"},{\"id\":\"ff7b1810-f5fc-44e6-a270-29b9cfd175e3\",\"type\":\"UndoTool\"}]},\"id\":\"d80af90f-9c0b-4fac-ab34-35325cb402a4\",\"type\":\"Toolbar\"},{\"attributes\":{\"plot\":{\"id\":\"9b7c0d3a-b011-422c-8c93-8cc150a80efd\",\"subtype\":\"Figure\",\"type\":\"Plot\"},\"ticker\":{\"id\":\"d3efd373-8779-4448-864c-ac2fb18abf58\",\"type\":\"BasicTicker\"}},\"id\":\"e0b60275-3e16-4bd4-8fe7-635c806b3892\",\"type\":\"Grid\"},{\"attributes\":{\"data_source\":{\"id\":\"8b19a0a1-dead-4209-8d93-e2e338b8a510\",\"type\":\"ColumnDataSource\"},\"glyph\":{\"id\":\"dddf7cf1-b3ac-454a-b7e0-41436466fc41\",\"type\":\"Circle\"},\"hover_glyph\":null,\"nonselection_glyph\":{\"id\":\"851a6b27-a1c1-4908-93f9-a0e0580285e6\",\"type\":\"Circle\"},\"selection_glyph\":null},\"id\":\"7d729fe0-06c1-40bc-8680-c1ad94a41966\",\"type\":\"GlyphRenderer\"},{\"attributes\":{\"plot\":{\"id\":\"9b7c0d3a-b011-422c-8c93-8cc150a80efd\",\"subtype\":\"Figure\",\"type\":\"Plot\"}},\"id\":\"081e6c76-5106-46bf-a901-d7c957ec7149\",\"type\":\"ResetTool\"},{\"attributes\":{\"fill_color\":{\"value\":\"#80B1D3\"},\"line_color\":{\"value\":\"#80B1D3\"},\"line_width\":{\"value\":3},\"x\":{\"field\":\"x\"},\"y\":{\"field\":\"y\"}},\"id\":\"dddf7cf1-b3ac-454a-b7e0-41436466fc41\",\"type\":\"Circle\"},{\"attributes\":{},\"id\":\"fe9e0b64-f9c5-4a2a-8a37-2f94edf5ff6f\",\"type\":\"BasicTickFormatter\"},{\"attributes\":{\"callback\":null,\"overlay\":{\"id\":\"efdcb5cf-33c7-4bfd-8f7c-6c01f5d4720c\",\"type\":\"PolyAnnotation\"},\"plot\":{\"id\":\"9b7c0d3a-b011-422c-8c93-8cc150a80efd\",\"subtype\":\"Figure\",\"type\":\"Plot\"}},\"id\":\"e6ab2915-e99d-458f-9a62-a872be40e751\",\"type\":\"LassoSelectTool\"},{\"attributes\":{\"callback\":null,\"overlay\":{\"id\":\"20ead447-5f66-4f18-a827-59ce73f5f767\",\"type\":\"BoxAnnotation\"},\"plot\":{\"id\":\"9b7c0d3a-b011-422c-8c93-8cc150a80efd\",\"subtype\":\"Figure\",\"type\":\"Plot\"},\"renderers\":[{\"id\":\"7d729fe0-06c1-40bc-8680-c1ad94a41966\",\"type\":\"GlyphRenderer\"}]},\"id\":\"3c936784-ac8f-4e4b-966b-e4afca8af503\",\"type\":\"BoxSelectTool\"},{\"attributes\":{\"fill_alpha\":{\"value\":0.5},\"fill_color\":{\"value\":\"lightgrey\"},\"level\":\"overlay\",\"line_alpha\":{\"value\":1.0},\"line_color\":{\"value\":\"black\"},\"line_dash\":[4,4],\"line_width\":{\"value\":2},\"plot\":null,\"xs_units\":\"screen\",\"ys_units\":\"screen\"},\"id\":\"efdcb5cf-33c7-4bfd-8f7c-6c01f5d4720c\",\"type\":\"PolyAnnotation\"},{\"attributes\":{\"overlay\":{\"id\":\"4b371aa4-ae03-4c65-94c9-ab7f9378e57a\",\"type\":\"BoxAnnotation\"},\"plot\":{\"id\":\"9b7c0d3a-b011-422c-8c93-8cc150a80efd\",\"subtype\":\"Figure\",\"type\":\"Plot\"}},\"id\":\"4471bee1-c26a-470e-9adc-0ef0146a3c8e\",\"type\":\"BoxZoomTool\"},{\"attributes\":{\"callback\":null,\"plot\":{\"id\":\"9b7c0d3a-b011-422c-8c93-8cc150a80efd\",\"subtype\":\"Figure\",\"type\":\"Plot\"}},\"id\":\"e5987473-9069-410e-add2-1ef0137d8dde\",\"type\":\"TapTool\"},{\"attributes\":{\"callback\":null},\"id\":\"eb08a0c3-544f-41e8-8a80-99202b5819b0\",\"type\":\"DataRange1d\"},{\"attributes\":{\"axis_label\":\"Predicted\",\"axis_label_text_color\":{\"value\":\"#aa6666\"},\"formatter\":{\"id\":\"fe9e0b64-f9c5-4a2a-8a37-2f94edf5ff6f\",\"type\":\"BasicTickFormatter\"},\"major_tick_line_color\":{\"value\":\"firebrick\"},\"major_tick_line_width\":{\"value\":3},\"minor_tick_line_color\":{\"value\":\"orange\"},\"plot\":{\"id\":\"9b7c0d3a-b011-422c-8c93-8cc150a80efd\",\"subtype\":\"Figure\",\"type\":\"Plot\"},\"ticker\":{\"id\":\"d3efd373-8779-4448-864c-ac2fb18abf58\",\"type\":\"BasicTicker\"}},\"id\":\"18808eda-5350-4110-8cae-809bf2514b79\",\"type\":\"LinearAxis\"},{\"attributes\":{\"bottom_units\":\"screen\",\"fill_alpha\":{\"value\":0.5},\"fill_color\":{\"value\":\"lightgrey\"},\"left_units\":\"screen\",\"level\":\"overlay\",\"line_alpha\":{\"value\":1.0},\"line_color\":{\"value\":\"black\"},\"line_dash\":[4,4],\"line_width\":{\"value\":2},\"plot\":null,\"render_mode\":\"css\",\"right_units\":\"screen\",\"top_units\":\"screen\"},\"id\":\"4b371aa4-ae03-4c65-94c9-ab7f9378e57a\",\"type\":\"BoxAnnotation\"},{\"attributes\":{\"plot\":{\"id\":\"9b7c0d3a-b011-422c-8c93-8cc150a80efd\",\"subtype\":\"Figure\",\"type\":\"Plot\"}},\"id\":\"0dbd16a2-b0f8-476d-bca7-5e1b96f96abc\",\"type\":\"PanTool\"},{\"attributes\":{},\"id\":\"12e29852-864f-4526-98b2-da8d99328bf6\",\"type\":\"ToolEvents\"},{\"attributes\":{\"plot\":{\"id\":\"9b7c0d3a-b011-422c-8c93-8cc150a80efd\",\"subtype\":\"Figure\",\"type\":\"Plot\"}},\"id\":\"b881d1c0-cdad-48be-9cbe-a7b32b0e5c12\",\"type\":\"WheelZoomTool\"},{\"attributes\":{},\"id\":\"d3efd373-8779-4448-864c-ac2fb18abf58\",\"type\":\"BasicTicker\"},{\"attributes\":{\"callback\":null,\"column_names\":[\"x\",\"y\"],\"data\":{\"x\":[14.03076923076923,32.03846153846154,37.077499999999986,32.03846153846154,30.183333333333334,37.077499999999986,30.065116279069766,18.889795918367344,27.566666666666666,31.99545454545455,32.03846153846154,13.756756756756756,22.678571428571427,32.03846153846154,30.183333333333334,19.58275862068966,18.889795918367344,23.93943661971831,18.889795918367344,13.756756756756756,22.389830508474578,37.02452830188677,30.065116279069766,23.90727272727273,37.077499999999986,30.065116279069766,23.93943661971831,16.532222222222227,16.532222222222227,23.90727272727273,23.90727272727273,32.03846153846154,15.697058823529414,36.177419354838726,23.916249999999994,23.916249999999994,31.994642857142868,13.662790697674419,15.697058823529414,36.177419354838726,14.168888888888889,28.83437499999999,13.967391304347826,23.916249999999994,16.736363636363635,19.15161290322581,31.994642857142868,30.375,24.674025974025973,23.916249999999994,14.168888888888889,30.375,19.15161290322581,23.425641025641024,36.223529411764716,36.223529411764716,36.177419354838726,23.425641025641024,30.375,19.133333333333336,23.916249999999994,23.916249999999994,23.916249999999994,13.662790697674419,37.41627906976743,31.079816513761486,13.696428571428571,13.696428571428571,28.909523809523805,24.406153846153845,29.46857142857142,24.406153846153845,15.536538461538461,14.058823529411764,24.406153846153845,22.3030303030303,24.406153846153845,18.804444444444442,19.82881355932204,15.481481481481481,22.3030303030303,37.41627906976743,15.536538461538461,18.835714285714282,29.46857142857142,18.835714285714282,14.058823529411764,24.406153846153845,28.006521739130434,18.835714285714282,29.144117647058827,31.079816513761486,15.536538461538461,29.144117647058827,24.50980392156863,24.406153846153845,29.47500000000001,15.25,37.281632653061216,15.25,13.80952380952381,36.94888888888889,20.358823529411758,26.093750000000004,25.26181818181819,28.107142857142858,15.732142857142858,19.312244897959193,28.107142857142858,32.315625,36.197499999999984,13.717391304347826,15.732142857142858,15.732142857142858,13.80952380952381,22.898484848484845,28.94249999999999,23.381132075471694,13.80952380952381,23.381132075471694,27.863636363636363,29.34117647058824,20.358823529411758,25.26181818181819,29.34117647058824,18.363636363636363,30.795454545454547,18.200000000000003,13.5,19.78412698412699,30.32266666666667,13.228571428571428,29.26086956521739,29.26086956521739,13.5,29.26086956521739,18.854545454545455,24.31692307692307,30.1409090909091,24.31692307692307,13.5,29.070000000000004,21.266666666666666,29.070000000000004,35.828260869565206,18.854545454545455,24.31692307692307,18.387096774193548,30.1409090909091,16.47222222222222,38.917073170731705,29.26086956521739,18.854545454545455,16.47222222222222,13.228571428571428,16.47222222222222,29.070000000000004,16.47222222222222,30.32266666666667,29.070000000000004,24.892207792207792,14.7,14.7,28.551111111111116,23.24821428571428,23.24821428571428,14.012820512820513,20.359183673469392,20.493333333333336,26.921874999999996,14.7,24.892207792207792,38.263768115942014,24.892207792207792,31.2079365079365,19.19318181818182,13.711864406779661,30.38095238095238,28.551111111111116,38.263768115942014,20.359183673469392,28.71481481481481,19.19318181818182,34.338095238095235,16.62162162162162,20.359183673469392,20.359183673469392,24.892207792207792,23.24821428571428,19.022950819672133,36.77428571428571,38.263768115942014,23.193548387096776,28.520930232558143,23.182692307692307,18.800000000000004,18.426190476190477,26.6,18.416981132075477,29.54375,18.426190476190477,29.54375,23.540000000000003,14.16326530612245,23.540000000000003,23.540000000000003,23.193548387096776,24.213043478260875,28.33148148148148,36.15416666666666,23.182692307692307,15.697435897435899,14.16326530612245,29.54375,23.182692307692307,15.25,23.71969696969697,13.702702702702704,18.426190476190477,18.426190476190477,31.76136363636363,18.426190476190477,36.15416666666666,23.193548387096776,19.847272727272724,13.818181818181818,31.758928571428577,13.818181818181818,37.162499999999994,19.847272727272724,13.818181818181818,28.981249999999992,18.724137931034484,19.98787878787879,27.903030303030306,19.847272727272724,24.679365079365077,24.679365079365077,23.5421052631579,29.273809523809526,35.21282051282051,31.758928571428577,17.984615384615385,29.273809523809526,27.903030303030306,15.709677419354838,37.162499999999994,16.513333333333335,13.818181818181818,23.016129032258064,23.39399999999999,23.016129032258064,20.517857142857142,23.5421052631579,34.938235294117646,19.847272727272724,35.168181818181814,13.709677419354838,13.709677419354838,20.08095238095238,23.331578947368413,35.168181818181814,13.709677419354838,29.566666666666666,35.168181818181814,18.308823529411764,15.979166666666666,13.709677419354838,23.331578947368413,15.979166666666666,29.566666666666666,34.36000000000001,18.308823529411764,23.331578947368413,27.98076923076923,22.87708333333333,23.331578947368413,28.814285714285717,15.979166666666666,23.861538461538462,29.566666666666666,15.979166666666666,28.814285714285717,22.87708333333333,22.87708333333333,28.814285714285717,28.814285714285717,30.583333333333332,28.21875,14.207317073170731,14.623255813953488,14.983870967741936,24.028571428571432,13.714285714285714,18.577586206896555,32.44871794871795,30.065116279069766,20.17,37.94583333333333,14.207317073170731,19.88235294117647,28.761904761904766,14.207317073170731,14.207317073170731,14.207317073170731,14.623255813953488,28.21875,20.653846153846157,19.88235294117647,14.983870967741936,28.761904761904766,30.083333333333332,18.577586206896555,25.621428571428588,18.577586206896555,30.583333333333332,18.3027397260274,24.628985507246373],\"y\":[-0.9692307692307693,5.03846153846154,2.777499999999989,6.03846153846154,-1.4166666666666679,3.277499999999989,1.0651162790697661,0.7897959183673429,0.36666666666666714,-6.00454545454545,6.03846153846154,-0.24324324324324387,0.678571428571427,1.03846153846154,-6.216666666666665,1.9827586206896584,1.189795918367345,-4.060563380281689,-1.9102040816326564,-0.24324324324324387,2.1898305084745786,4.224528301886771,7.765116279069765,-4.09272727272727,0.07749999999998636,3.065116279069766,0.7394366197183118,3.5322222222222273,1.5322222222222273,1.90727272727273,-0.0927272727272701,3.03846153846154,2.6970588235294137,4.377419354838725,0.9162499999999945,-1.5837500000000055,2.094642857142869,0.6627906976744189,-1.8029411764705863,-10.422580645161275,-1.3311111111111114,-4.065625000000008,-0.032608695652173836,-1.0837500000000055,-2.663636363636364,4.151612903225811,-0.405357142857131,-1.125,-2.325974025974027,4.116249999999994,-2.8311111111111114,-3.125,-1.8483870967741893,0.42564102564102413,-1.8764705882352857,-7.776470588235284,-4.622580645161271,2.425641025641024,1.375,1.6333333333333364,-4.0837500000000055,-2.0837500000000055,-2.0837500000000055,2.662790697674419,-0.28372093023257605,6.879816513761487,-2.303571428571429,-2.303571428571429,-1.0904761904761955,5.406153846153845,2.468571428571419,5.406153846153845,-0.46346153846153904,-1.9411764705882355,4.106153846153845,1.303030303030301,-9.093846153846155,-4.195555555555558,-1.6711864406779604,-0.518518518518519,3.303030303030301,0.4162790697674268,0.536538461538461,2.835714285714282,3.468571428571419,0.8357142857142819,1.0588235294117645,3.4061538461538454,-0.9934782608695656,-3.164285714285718,-3.8558823529411725,9.079816513761486,-0.46346153846153904,-6.8558823529411725,4.509803921568629,2.4061538461538454,-1.8249999999999922,0.75,7.481632653061215,2.25,0.8095238095238102,0.948888888888888,-0.1411764705882419,1.0937500000000036,-1.7381818181818112,-4.892857142857142,-0.7678571428571423,-1.2877551020408085,-1.8928571428571423,-11.084375000000001,1.497499999999981,2.717391304347826,-2.2678571428571423,2.7321428571428577,-2.19047619047619,3.898484848484845,5.942499999999988,-2.118867924528306,-0.1904761904761898,-1.1188679245283062,-2.1363636363636367,3.5411764705882405,-17.641176470588242,-3.538181818181812,2.7411764705882398,1.3636363636363633,-1.2045454545454533,0.10000000000000142,2.5,-1.2158730158730116,-5.67733333333333,0.22857142857142776,-0.7391304347826093,-1.7391304347826093,-0.5,11.26086956521739,5.854545454545455,2.71692307692307,2.1409090909091013,0.5169230769230708,-0.5,2.070000000000004,1.0666666666666664,3.070000000000004,-3.5717391304347927,-1.0454545454545432,5.3169230769230715,4.387096774193548,6.5409090909091,3.4722222222222214,0.9170731707317046,-1.2391304347826093,0.3545454545454554,-0.5277777777777786,1.2285714285714278,0.47222222222222143,1.0700000000000038,0.9722222222222214,-1.6773333333333298,5.070000000000004,-0.20779220779220964,-1.3000000000000007,1.6999999999999993,4.5511111111111155,1.2482142857142797,-0.7517857142857203,-0.9871794871794872,1.359183673469392,2.493333333333336,-0.27812500000000284,0.6999999999999993,3.892207792207792,-6.036231884057983,-3.107792207792208,-0.2920634920635017,-0.00681818181817917,-0.2881355932203391,-0.1190476190476204,-1.2488888888888852,2.1637681159420126,-6.440816326530609,2.7148148148148117,-1.3068181818181799,2.2380952380952337,0.621621621621621,3.359183673469392,0.35918367346939206,2.892207792207792,-1.7517857142857203,-4.877049180327866,5.7742857142857105,-0.736231884057986,-4.806451612903224,-5.979069767441857,1.1826923076923066,-1.7999999999999972,4.426190476190477,1.2000000000000028,4.4169811320754775,-0.4562500000000007,-0.5738095238095227,-6.456250000000001,-1.4599999999999973,0.16326530612244916,2.4400000000000013,-4.459999999999997,4.193548387096776,5.113043478260874,4.031481481481478,-8.44583333333334,3.1826923076923066,-1.3025641025641015,1.1632653061224492,-4.6562500000000036,-2.8173076923076934,-2.25,-2.280303030303031,0.7027027027027035,0.42619047619047734,-0.07380952380952266,-4.23863636363637,2.4261904761904773,-1.8458333333333385,0.1935483870967758,-0.6527272727272759,0.8181818181818183,3.7589285714285765,1.8181818181818183,3.062499999999993,-0.15272727272727593,1.8181818181818183,0.5812499999999936,0.724137931034484,-0.012121212121211755,-1.596969696969694,0.8472727272727241,-1.320634920634923,-1.320634920634923,-1.4578947368420998,-2.7261904761904745,1.512820512820504,3.7589285714285765,-1.2153846153846146,-0.2261904761904745,0.903030303030306,0.7096774193548381,-1.937500000000007,-10.086666666666666,0.8181818181818183,0.016129032258064058,-4.106000000000009,3.016129032258064,1.317857142857143,-0.4578947368420998,2.7382352941176435,0.4472727272727255,2.1681818181818144,1.709677419354838,0.7096774193548381,2.4809523809523775,-0.5684210526315852,0.7681818181818159,-0.2903225806451619,-1.4333333333333336,0.06818181818181301,3.3088235294117645,0.4791666666666661,4.709677419354838,-1.6684210526315866,-2.020833333333334,-1.4333333333333336,-8.739999999999995,0.8088235294117645,-1.6684210526315866,2.98076923076923,3.8770833333333314,-2.6684210526315866,-2.1857142857142833,-2.220833333333333,-6.838461538461537,5.566666666666666,-1.020833333333334,1.8142857142857167,-0.12291666666666856,4.877083333333331,1.6142857142857174,-6.185714285714283,1.5833333333333321,6.71875,-0.7926829268292686,-2.876744186046512,-0.016129032258064058,-8.67142857142857,3.7142857142857135,-1.4224137931034448,0.04871794871795032,-3.934883720930234,2.1700000000000017,5.945833333333333,0.20731707317073145,-4.117647058823529,2.3619047619047677,0.20731707317073145,1.2073170731707314,1.2073170731707314,-3.876744186046512,6.71875,4.453846153846158,3.382352941176471,-0.016129032258064058,0.6619047619047649,1.0833333333333321,-1.6224137931034441,-2.2785714285714107,-3.422413793103445,1.5833333333333321,-0.6972602739725993,-0.37101449275362697]}},\"id\":\"8b19a0a1-dead-4209-8d93-e2e338b8a510\",\"type\":\"ColumnDataSource\"},{\"attributes\":{},\"id\":\"1d491676-ee16-45e7-a8e2-a7cc8cf1e983\",\"type\":\"BasicTicker\"},{\"attributes\":{\"plot\":{\"id\":\"9b7c0d3a-b011-422c-8c93-8cc150a80efd\",\"subtype\":\"Figure\",\"type\":\"Plot\"}},\"id\":\"ea42109b-b8c6-491d-8271-9b86eb3dc913\",\"type\":\"SaveTool\"},{\"attributes\":{\"plot\":{\"id\":\"9b7c0d3a-b011-422c-8c93-8cc150a80efd\",\"subtype\":\"Figure\",\"type\":\"Plot\"}},\"id\":\"4c34b0bb-7877-4010-b78b-4c11e052a5a8\",\"type\":\"ResizeTool\"},{\"attributes\":{\"align\":\"center\",\"plot\":null,\"text\":\"Residual plot on the training data\"},\"id\":\"43e7098b-018c-4e21-ad6e-9b3774a349a8\",\"type\":\"Title\"},{\"attributes\":{\"plot\":{\"id\":\"9b7c0d3a-b011-422c-8c93-8cc150a80efd\",\"subtype\":\"Figure\",\"type\":\"Plot\"}},\"id\":\"ff7b1810-f5fc-44e6-a270-29b9cfd175e3\",\"type\":\"UndoTool\"},{\"attributes\":{\"background_fill_alpha\":{\"value\":0.5},\"background_fill_color\":{\"value\":\"beige\"},\"below\":[{\"id\":\"18808eda-5350-4110-8cae-809bf2514b79\",\"type\":\"LinearAxis\"}],\"left\":[{\"id\":\"6d310592-8da0-4d29-b62a-33c7c6f1a6ed\",\"type\":\"LinearAxis\"}],\"plot_height\":500,\"plot_width\":500,\"renderers\":[{\"id\":\"18808eda-5350-4110-8cae-809bf2514b79\",\"type\":\"LinearAxis\"},{\"id\":\"e0b60275-3e16-4bd4-8fe7-635c806b3892\",\"type\":\"Grid\"},{\"id\":\"6d310592-8da0-4d29-b62a-33c7c6f1a6ed\",\"type\":\"LinearAxis\"},{\"id\":\"c215e3da-1602-47c2-89c0-32b318cae018\",\"type\":\"Grid\"},{\"id\":\"4b371aa4-ae03-4c65-94c9-ab7f9378e57a\",\"type\":\"BoxAnnotation\"},{\"id\":\"20ead447-5f66-4f18-a827-59ce73f5f767\",\"type\":\"BoxAnnotation\"},{\"id\":\"efdcb5cf-33c7-4bfd-8f7c-6c01f5d4720c\",\"type\":\"PolyAnnotation\"},{\"id\":\"1228e74e-f3f7-4a6d-b86a-d14089acef6e\",\"type\":\"PolyAnnotation\"},{\"id\":\"7d729fe0-06c1-40bc-8680-c1ad94a41966\",\"type\":\"GlyphRenderer\"}],\"title\":{\"id\":\"43e7098b-018c-4e21-ad6e-9b3774a349a8\",\"type\":\"Title\"},\"tool_events\":{\"id\":\"12e29852-864f-4526-98b2-da8d99328bf6\",\"type\":\"ToolEvents\"},\"toolbar\":{\"id\":\"d80af90f-9c0b-4fac-ab34-35325cb402a4\",\"type\":\"Toolbar\"},\"x_range\":{\"id\":\"eb08a0c3-544f-41e8-8a80-99202b5819b0\",\"type\":\"DataRange1d\"},\"y_range\":{\"id\":\"8de3a534-73c6-4a01-a759-75eba58e6556\",\"type\":\"DataRange1d\"}},\"id\":\"9b7c0d3a-b011-422c-8c93-8cc150a80efd\",\"subtype\":\"Figure\",\"type\":\"Plot\"},{\"attributes\":{\"callback\":null},\"id\":\"8de3a534-73c6-4a01-a759-75eba58e6556\",\"type\":\"DataRange1d\"},{\"attributes\":{\"axis_label\":\"Residuals\",\"axis_label_text_color\":{\"value\":\"#aa6666\"},\"formatter\":{\"id\":\"4c28d7c2-2c75-4343-bd92-41693e70eaef\",\"type\":\"BasicTickFormatter\"},\"plot\":{\"id\":\"9b7c0d3a-b011-422c-8c93-8cc150a80efd\",\"subtype\":\"Figure\",\"type\":\"Plot\"},\"ticker\":{\"id\":\"1d491676-ee16-45e7-a8e2-a7cc8cf1e983\",\"type\":\"BasicTicker\"}},\"id\":\"6d310592-8da0-4d29-b62a-33c7c6f1a6ed\",\"type\":\"LinearAxis\"}],\"root_ids\":[\"9b7c0d3a-b011-422c-8c93-8cc150a80efd\"]},\"title\":\"Bokeh Application\",\"version\":\"0.12.2\"}};\n",
       "            var render_items = [{\"docid\":\"6b83e986-816a-4416-8c44-d9b070262442\",\"elementid\":\"5e00f2f5-667c-4faf-b7c4-5a0de4e35d36\",\"modelid\":\"9b7c0d3a-b011-422c-8c93-8cc150a80efd\"}];\n",
       "            \n",
       "            Bokeh.embed.embed_items(docs_json, render_items);\n",
       "        });\n",
       "      },\n",
       "      function(Bokeh) {\n",
       "      }\n",
       "    ];\n",
       "  \n",
       "    function run_inline_js() {\n",
       "      \n",
       "      if ((window.Bokeh !== undefined) || (force === \"1\")) {\n",
       "        for (var i = 0; i < inline_js.length; i++) {\n",
       "          inline_js[i](window.Bokeh);\n",
       "        }if (force === \"1\") {\n",
       "          display_loaded();\n",
       "        }} else if (Date.now() < window._bokeh_timeout) {\n",
       "        setTimeout(run_inline_js, 100);\n",
       "      } else if (!window._bokeh_failed_load) {\n",
       "        console.log(\"Bokeh: BokehJS failed to load within specified timeout.\");\n",
       "        window._bokeh_failed_load = true;\n",
       "      } else if (!force) {\n",
       "        var cell = $(\"#5e00f2f5-667c-4faf-b7c4-5a0de4e35d36\").parents('.cell').data().cell;\n",
       "        cell.output_area.append_execute_result(NB_LOAD_WARNING)\n",
       "      }\n",
       "  \n",
       "    }\n",
       "  \n",
       "    if (window._bokeh_is_loading === 0) {\n",
       "      console.log(\"Bokeh: BokehJS loaded, going straight to plotting\");\n",
       "      run_inline_js();\n",
       "    } else {\n",
       "      load_libs(js_urls, function() {\n",
       "        console.log(\"Bokeh: BokehJS plotting callback run at\", now());\n",
       "        run_inline_js();\n",
       "      });\n",
       "    }\n",
       "  }(this));\n",
       "</script>"
      ]
     },
     "metadata": {},
     "output_type": "display_data"
    }
   ],
   "source": [
    "# Plotining using bokeh\n",
    "#TOOLS = 'hover,box_zoom,box_select,crosshair,resize,reset,DecisionTreeRegressor_select,pan,save,poly_select,tap,wheel_zoom,undo'\n",
    "TOOLS = 'box_zoom,box_select,crosshair,resize,reset,lasso_select,pan,save,poly_select,tap,wheel_zoom,undo'\n",
    "p = figure(plot_width=500, plot_height=500, title=\"Residual plot on the training data\", tools=TOOLS)\n",
    "p.scatter(predicted, (predicted - Y),x=\"jjj\", marker=\"o\", color=\"#80B1D3\", line_width=3)\n",
    "p.title.align = \"center\"\n",
    "p.xaxis.axis_label = \"Predicted\"\n",
    "p.xaxis.axis_label_text_color = \"#aa6666\"\n",
    "#p.xaxis.axis_label_standoff = 30\n",
    "p.xaxis.major_tick_line_color = \"firebrick\"\n",
    "p.xaxis.major_tick_line_width = 3\n",
    "p.xaxis.minor_tick_line_color = \"orange\"\n",
    "p.yaxis.axis_label = \"Residuals\"\n",
    "p.yaxis.axis_label_text_font_style = \"italic\"\n",
    "p.yaxis.axis_label_text_color = \"#aa6666\"\n",
    "p.background_fill_color = \"beige\"\n",
    "p.background_fill_alpha = 0.5\n",
    "#p.line([2,38], [0, 0], line_dash=\"4 4\", line_width=2, color='red')\n",
    "show(p)"
   ]
  },
  {
   "cell_type": "markdown",
   "metadata": {},
   "source": [
    "## Pipeline"
   ]
  },
  {
   "cell_type": "markdown",
   "metadata": {},
   "source": [
    "The best to deliver the model by pipeline the operation then at deployment can be done in one model."
   ]
  },
  {
   "cell_type": "markdown",
   "metadata": {
    "collapsed": true
   },
   "source": [
    "  I used two ways to check the pipeline so any one can be fine"
   ]
  },
  {
   "cell_type": "code",
   "execution_count": 22,
   "metadata": {
    "collapsed": false
   },
   "outputs": [
    {
     "name": "stdout",
     "output_type": "stream",
     "text": [
      "0.881879614397\n",
      "Scoring according to mean_squared_error\n",
      "[ -7.06270194 -16.74391388 -16.88313877 -23.69584627 -11.51727465\n",
      "  -7.38695526  -9.78005211  -7.14744839  -8.27037029  -6.77968946]\n",
      "\n",
      " Mean      Standard deviation\n",
      "-11.53      5.44\n",
      "[ True  True  True  True  True  True  True]\n",
      "R-squared =  0.881879614397\n"
     ]
    }
   ],
   "source": [
    "# Use Pipeline\n",
    "# ANOVA \n",
    "from sklearn.pipeline import Pipeline\n",
    "from sklearn.feature_selection import SelectKBest, f_regression\n",
    "anova_filter = SelectKBest(f_regression, k=7)\n",
    "LR = AdaBoostRegressor(n_estimators = 5, loss = \"exponential\")\n",
    "\n",
    "anova_LinReg = Pipeline([ ('anova', anova_filter), ('LinReg', LR)])\n",
    "# You can set the parameters using the names issued\n",
    "# For instance, fit using a k of 10 in the SelectKBest\n",
    "anova_LinReg.set_params(anova__k=7).fit(new_data, Y)\n",
    "prediction = anova_LinReg.predict(new_data)\n",
    "print anova_LinReg.score(new_data, Y)                        \n",
    "# getting the selected features chosen by anova_filter\n",
    "results = cross_validation.cross_val_score(anova_LinReg, new_data, Y, cv=kfold, scoring=scoring)\n",
    "print 'Scoring according to mean_squared_error'\n",
    "print results\n",
    "print '\\n Mean      Standard deviation'\n",
    "print(\"%.2f      %.2f\" % (results.mean(), results.std()))\n",
    "print anova_LinReg.named_steps['anova'].get_support()\n",
    "r_squared = r2_score(Y, prediction, multioutput='variance_weighted')\n",
    "print 'R-squared = ',r_squared"
   ]
  },
  {
   "cell_type": "code",
   "execution_count": 23,
   "metadata": {
    "collapsed": false
   },
   "outputs": [
    {
     "name": "stdout",
     "output_type": "stream",
     "text": [
      "R-squared =  0.879033671201\n"
     ]
    }
   ],
   "source": [
    "# Using make_pipeline\n",
    "from sklearn.pipeline import make_pipeline\n",
    "\n",
    "# ANOVA SVM-C\n",
    "# 1) anova filter, take 3 best ranked features\n",
    "anova_filter = SelectKBest(f_regression, k=7)\n",
    "anova_AdaBoostDecisionTreeRegressor_NotProcessing = make_pipeline( anova_filter, LR)\n",
    "anova_AdaBoostDecisionTreeRegressor_NotProcessing.fit(new_data, Y)\n",
    "prediction = anova_AdaBoostDecisionTreeRegressor_NotProcessing.predict(new_data)\n",
    "r_squared = r2_score(Y, prediction, multioutput='variance_weighted')\n",
    "print 'R-squared = ',r_squared"
   ]
  },
  {
   "cell_type": "markdown",
   "metadata": {},
   "source": [
    "### Save the Pipeline model for developement"
   ]
  },
  {
   "cell_type": "code",
   "execution_count": 24,
   "metadata": {
    "collapsed": false
   },
   "outputs": [
    {
     "data": {
      "text/plain": [
       "['anova_AdaBoostDecisionTreeRegressor_NotProcessing.pkl',\n",
       " 'anova_AdaBoostDecisionTreeRegressor_NotProcessing.pkl_01.npy',\n",
       " 'anova_AdaBoostDecisionTreeRegressor_NotProcessing.pkl_02.npy',\n",
       " 'anova_AdaBoostDecisionTreeRegressor_NotProcessing.pkl_03.npy',\n",
       " 'anova_AdaBoostDecisionTreeRegressor_NotProcessing.pkl_04.npy',\n",
       " 'anova_AdaBoostDecisionTreeRegressor_NotProcessing.pkl_05.npy',\n",
       " 'anova_AdaBoostDecisionTreeRegressor_NotProcessing.pkl_06.npy',\n",
       " 'anova_AdaBoostDecisionTreeRegressor_NotProcessing.pkl_07.npy',\n",
       " 'anova_AdaBoostDecisionTreeRegressor_NotProcessing.pkl_08.npy',\n",
       " 'anova_AdaBoostDecisionTreeRegressor_NotProcessing.pkl_09.npy',\n",
       " 'anova_AdaBoostDecisionTreeRegressor_NotProcessing.pkl_10.npy',\n",
       " 'anova_AdaBoostDecisionTreeRegressor_NotProcessing.pkl_11.npy',\n",
       " 'anova_AdaBoostDecisionTreeRegressor_NotProcessing.pkl_12.npy',\n",
       " 'anova_AdaBoostDecisionTreeRegressor_NotProcessing.pkl_13.npy',\n",
       " 'anova_AdaBoostDecisionTreeRegressor_NotProcessing.pkl_14.npy',\n",
       " 'anova_AdaBoostDecisionTreeRegressor_NotProcessing.pkl_15.npy',\n",
       " 'anova_AdaBoostDecisionTreeRegressor_NotProcessing.pkl_16.npy',\n",
       " 'anova_AdaBoostDecisionTreeRegressor_NotProcessing.pkl_17.npy',\n",
       " 'anova_AdaBoostDecisionTreeRegressor_NotProcessing.pkl_18.npy',\n",
       " 'anova_AdaBoostDecisionTreeRegressor_NotProcessing.pkl_19.npy']"
      ]
     },
     "execution_count": 24,
     "metadata": {},
     "output_type": "execute_result"
    }
   ],
   "source": [
    "# save the model scaler to the desk\n",
    "from sklearn.externals import joblib\n",
    "joblib.dump(anova_AdaBoostDecisionTreeRegressor_NotProcessing, 'anova_AdaBoostDecisionTreeRegressor_NotProcessing.pkl') "
   ]
  },
  {
   "cell_type": "code",
   "execution_count": 25,
   "metadata": {
    "collapsed": false
   },
   "outputs": [
    {
     "name": "stdout",
     "output_type": "stream",
     "text": [
      " =================================================================>>>>> done\n",
      "R-squared =  0.879033671201\n"
     ]
    }
   ],
   "source": [
    "# Test the model if it is work\n",
    "anova_DecisionTreeRegressorTest = joblib.load('anova_AdaBoostDecisionTreeRegressor_NotProcessing.pkl')\n",
    "NewPred = anova_DecisionTreeRegressorTest.predict(new_data)\n",
    "print \" =================================================================>>>>> done\"\n",
    "r_squared = r2_score(Y, NewPred, multioutput='variance_weighted')\n",
    "print 'R-squared = ',r_squared"
   ]
  },
  {
   "cell_type": "code",
   "execution_count": 26,
   "metadata": {
    "collapsed": false
   },
   "outputs": [
    {
     "name": "stdout",
     "output_type": "stream",
     "text": [
      "Point of training data before normalization\n",
      "[  4.00000000e+00   9.70000000e+01   5.10000000e+01   2.13000000e+03\n",
      "   2.46000000e+01   8.20000000e+01   2.00000000e+00]\n",
      "\n",
      "The read target of the data =  44.0\n",
      "\n",
      "The Predicted target of the data =  [ 37.146875]\n"
     ]
    }
   ],
   "source": [
    "# test on single data point, randomly choose point number 55\n",
    "print 'Point of training data before normalization\\n',new_data[55]\n",
    "print '\\nThe read target of the data = ', Y[55]\n",
    "NewPred = anova_DecisionTreeRegressorTest.predict([new_data[55]])\n",
    "print '\\nThe Predicted target of the data = ', NewPred"
   ]
  },
  {
   "cell_type": "markdown",
   "metadata": {},
   "source": [
    "## Conclusion "
   ]
  },
  {
   "cell_type": "code",
   "execution_count": null,
   "metadata": {
    "collapsed": true
   },
   "outputs": [],
   "source": []
  }
 ],
 "metadata": {
  "kernelspec": {
   "display_name": "Python 2",
   "language": "python",
   "name": "python2"
  },
  "language_info": {
   "codemirror_mode": {
    "name": "ipython",
    "version": 2
   },
   "file_extension": ".py",
   "mimetype": "text/x-python",
   "name": "python",
   "nbconvert_exporter": "python",
   "pygments_lexer": "ipython2",
   "version": "2.7.12"
  }
 },
 "nbformat": 4,
 "nbformat_minor": 0
}
