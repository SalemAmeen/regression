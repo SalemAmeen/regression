{
 "cells": [
  {
   "cell_type": "markdown",
   "metadata": {},
   "source": [
    "Salem Ameen, PhD student at Salford University\n",
    "\n",
    "### Auto MPG\n",
    "\n",
    "Kernel KernelRidge regression"
   ]
  },
  {
   "cell_type": "markdown",
   "metadata": {},
   "source": [
    "# Import the Libraries"
   ]
  },
  {
   "cell_type": "code",
   "execution_count": 1,
   "metadata": {
    "collapsed": false
   },
   "outputs": [
    {
     "data": {
      "text/html": [
       "\n",
       "    <div class=\"bk-root\">\n",
       "        <a href=\"http://bokeh.pydata.org\" target=\"_blank\" class=\"bk-logo bk-logo-small bk-logo-notebook\"></a>\n",
       "        <span id=\"0567fa30-4cd5-44f7-8e9e-3874a307053f\">Loading BokehJS ...</span>\n",
       "    </div>"
      ]
     },
     "metadata": {},
     "output_type": "display_data"
    },
    {
     "data": {
      "application/javascript": [
       "\n",
       "(function(global) {\n",
       "  function now() {\n",
       "    return new Date();\n",
       "  }\n",
       "\n",
       "  var force = \"1\";\n",
       "\n",
       "  if (typeof (window._bokeh_onload_callbacks) === \"undefined\" || force !== \"\") {\n",
       "    window._bokeh_onload_callbacks = [];\n",
       "    window._bokeh_is_loading = undefined;\n",
       "  }\n",
       "\n",
       "\n",
       "  \n",
       "  if (typeof (window._bokeh_timeout) === \"undefined\" || force !== \"\") {\n",
       "    window._bokeh_timeout = Date.now() + 5000;\n",
       "    window._bokeh_failed_load = false;\n",
       "  }\n",
       "\n",
       "  var NB_LOAD_WARNING = {'data': {'text/html':\n",
       "     \"<div style='background-color: #fdd'>\\n\"+\n",
       "     \"<p>\\n\"+\n",
       "     \"BokehJS does not appear to have successfully loaded. If loading BokehJS from CDN, this \\n\"+\n",
       "     \"may be due to a slow or bad network connection. Possible fixes:\\n\"+\n",
       "     \"</p>\\n\"+\n",
       "     \"<ul>\\n\"+\n",
       "     \"<li>re-rerun `output_notebook()` to attempt to load from CDN again, or</li>\\n\"+\n",
       "     \"<li>use INLINE resources instead, as so:</li>\\n\"+\n",
       "     \"</ul>\\n\"+\n",
       "     \"<code>\\n\"+\n",
       "     \"from bokeh.resources import INLINE\\n\"+\n",
       "     \"output_notebook(resources=INLINE)\\n\"+\n",
       "     \"</code>\\n\"+\n",
       "     \"</div>\"}};\n",
       "\n",
       "  function display_loaded() {\n",
       "    if (window.Bokeh !== undefined) {\n",
       "      Bokeh.$(\"#0567fa30-4cd5-44f7-8e9e-3874a307053f\").text(\"BokehJS successfully loaded.\");\n",
       "    } else if (Date.now() < window._bokeh_timeout) {\n",
       "      setTimeout(display_loaded, 100)\n",
       "    }\n",
       "  }\n",
       "\n",
       "  function run_callbacks() {\n",
       "    window._bokeh_onload_callbacks.forEach(function(callback) { callback() });\n",
       "    delete window._bokeh_onload_callbacks\n",
       "    console.info(\"Bokeh: all callbacks have finished\");\n",
       "  }\n",
       "\n",
       "  function load_libs(js_urls, callback) {\n",
       "    window._bokeh_onload_callbacks.push(callback);\n",
       "    if (window._bokeh_is_loading > 0) {\n",
       "      console.log(\"Bokeh: BokehJS is being loaded, scheduling callback at\", now());\n",
       "      return null;\n",
       "    }\n",
       "    if (js_urls == null || js_urls.length === 0) {\n",
       "      run_callbacks();\n",
       "      return null;\n",
       "    }\n",
       "    console.log(\"Bokeh: BokehJS not loaded, scheduling load and callback at\", now());\n",
       "    window._bokeh_is_loading = js_urls.length;\n",
       "    for (var i = 0; i < js_urls.length; i++) {\n",
       "      var url = js_urls[i];\n",
       "      var s = document.createElement('script');\n",
       "      s.src = url;\n",
       "      s.async = false;\n",
       "      s.onreadystatechange = s.onload = function() {\n",
       "        window._bokeh_is_loading--;\n",
       "        if (window._bokeh_is_loading === 0) {\n",
       "          console.log(\"Bokeh: all BokehJS libraries loaded\");\n",
       "          run_callbacks()\n",
       "        }\n",
       "      };\n",
       "      s.onerror = function() {\n",
       "        console.warn(\"failed to load library \" + url);\n",
       "      };\n",
       "      console.log(\"Bokeh: injecting script tag for BokehJS library: \", url);\n",
       "      document.getElementsByTagName(\"head\")[0].appendChild(s);\n",
       "    }\n",
       "  };var element = document.getElementById(\"0567fa30-4cd5-44f7-8e9e-3874a307053f\");\n",
       "  if (element == null) {\n",
       "    console.log(\"Bokeh: ERROR: autoload.js configured with elementid '0567fa30-4cd5-44f7-8e9e-3874a307053f' but no matching script tag was found. \")\n",
       "    return false;\n",
       "  }\n",
       "\n",
       "  var js_urls = ['https://cdn.pydata.org/bokeh/release/bokeh-0.12.2.min.js', 'https://cdn.pydata.org/bokeh/release/bokeh-widgets-0.12.2.min.js', 'https://cdn.pydata.org/bokeh/release/bokeh-compiler-0.12.2.min.js'];\n",
       "\n",
       "  var inline_js = [\n",
       "    function(Bokeh) {\n",
       "      Bokeh.set_log_level(\"info\");\n",
       "    },\n",
       "    \n",
       "    function(Bokeh) {\n",
       "      \n",
       "      Bokeh.$(\"#0567fa30-4cd5-44f7-8e9e-3874a307053f\").text(\"BokehJS is loading...\");\n",
       "    },\n",
       "    function(Bokeh) {\n",
       "      console.log(\"Bokeh: injecting CSS: https://cdn.pydata.org/bokeh/release/bokeh-0.12.2.min.css\");\n",
       "      Bokeh.embed.inject_css(\"https://cdn.pydata.org/bokeh/release/bokeh-0.12.2.min.css\");\n",
       "      console.log(\"Bokeh: injecting CSS: https://cdn.pydata.org/bokeh/release/bokeh-widgets-0.12.2.min.css\");\n",
       "      Bokeh.embed.inject_css(\"https://cdn.pydata.org/bokeh/release/bokeh-widgets-0.12.2.min.css\");\n",
       "    }\n",
       "  ];\n",
       "\n",
       "  function run_inline_js() {\n",
       "    \n",
       "    if ((window.Bokeh !== undefined) || (force === \"1\")) {\n",
       "      for (var i = 0; i < inline_js.length; i++) {\n",
       "        inline_js[i](window.Bokeh);\n",
       "      }if (force === \"1\") {\n",
       "        display_loaded();\n",
       "      }} else if (Date.now() < window._bokeh_timeout) {\n",
       "      setTimeout(run_inline_js, 100);\n",
       "    } else if (!window._bokeh_failed_load) {\n",
       "      console.log(\"Bokeh: BokehJS failed to load within specified timeout.\");\n",
       "      window._bokeh_failed_load = true;\n",
       "    } else if (!force) {\n",
       "      var cell = $(\"#0567fa30-4cd5-44f7-8e9e-3874a307053f\").parents('.cell').data().cell;\n",
       "      cell.output_area.append_execute_result(NB_LOAD_WARNING)\n",
       "    }\n",
       "\n",
       "  }\n",
       "\n",
       "  if (window._bokeh_is_loading === 0) {\n",
       "    console.log(\"Bokeh: BokehJS loaded, going straight to plotting\");\n",
       "    run_inline_js();\n",
       "  } else {\n",
       "    load_libs(js_urls, function() {\n",
       "      console.log(\"Bokeh: BokehJS plotting callback run at\", now());\n",
       "      run_inline_js();\n",
       "    });\n",
       "  }\n",
       "}(this));"
      ]
     },
     "metadata": {},
     "output_type": "display_data"
    }
   ],
   "source": [
    "import numpy as np\n",
    "import pandas\n",
    "from numpy import *\n",
    "import time\n",
    "import sys\n",
    "import pandas as pd\n",
    "import matplotlib.pyplot as plt\n",
    "from sklearn import feature_selection\n",
    "from sklearn.kernel_ridge import KernelRidge\n",
    "from sklearn.learning_curve import learning_curve, validation_curve\n",
    "from sklearn.cross_validation import cross_val_predict\n",
    "from sklearn import metrics, grid_search, cross_validation\n",
    "from IPython.display import set_matplotlib_formats\n",
    "from bokeh.plotting import figure, show, output_notebook\n",
    "from sklearn.grid_search import GridSearchCV, RandomizedSearchCV\n",
    "from sklearn.metrics import r2_score\n",
    "from bokeh.layouts import gridplot\n",
    "output_notebook()\n",
    "set_matplotlib_formats('png', 'pdf')\n",
    "%matplotlib inline\n",
    "plt.rcParams['figure.figsize'] = (6, 6)"
   ]
  },
  {
   "cell_type": "markdown",
   "metadata": {},
   "source": [
    "# Load data"
   ]
  },
  {
   "cell_type": "markdown",
   "metadata": {},
   "source": [
    "In the previous file we have not change the data as there is no missing value or add any new parameters so it can be downloaded from the web directly. "
   ]
  },
  {
   "cell_type": "code",
   "execution_count": 2,
   "metadata": {
    "collapsed": false
   },
   "outputs": [
    {
     "name": "stdout",
     "output_type": "stream",
     "text": [
      "Number of examples 398\n"
     ]
    }
   ],
   "source": [
    "url = 'http://archive.ics.uci.edu/ml/machine-learning-databases/auto-mpg/auto-mpg.data'\n",
    "names = ['mpg', 'cylinders', 'displacement', 'horsepower', 'weight', 'acceleration', 'year','origin','name']\n",
    "feature_names = ['mpg', 'cylinders', 'displacement', 'horsepower', 'weight', 'acceleration', 'year','origin']\n",
    "feature_cols = ['mpg', 'cylinders', 'displacement', 'horsepower', 'weight', 'acceleration', 'year','origin']\n",
    "data = pd.read_csv(url, sep='\\s+', names = names)\n",
    "data = data.drop('name',1)\n",
    "from sklearn import preprocessing\n",
    "\n",
    "def number_encode_features(df):\n",
    "    result = df.copy()\n",
    "    encoders = {}\n",
    "    for column in result.columns:\n",
    "        if result.dtypes[column] == np.object:\n",
    "            encoders[column] = preprocessing.LabelEncoder()\n",
    "            result[column] = encoders[column].fit_transform(result[column])\n",
    "    return result, encoders\n",
    "\n",
    "data, _ = number_encode_features(data)\n",
    "\n",
    "dataset = data.values\n",
    "X = dataset[:,1:8]\n",
    "Y = dataset[:,0]\n",
    "print 'Number of examples',len(X)"
   ]
  },
  {
   "cell_type": "code",
   "execution_count": 3,
   "metadata": {
    "collapsed": false
   },
   "outputs": [
    {
     "name": "stdout",
     "output_type": "stream",
     "text": [
      "Number of training examples 318\n",
      "Number of validation examples 80\n"
     ]
    }
   ],
   "source": [
    "# Make developement dataset for genrilization and final testing\n",
    "from sklearn.cross_validation import train_test_split\n",
    "# Extracting 20% testing data\n",
    "X_train, X_test, y_train, y_test = train_test_split(\n",
    "    X, Y, test_size=0.20, random_state=0)\n",
    "X = X_train\n",
    "Y = y_train\n",
    "new_data      = X_train\n",
    "new_test_data = X_test\n",
    "print 'Number of training examples',len(X_train)\n",
    "print 'Number of validation examples',len(X_test)"
   ]
  },
  {
   "cell_type": "markdown",
   "metadata": {},
   "source": [
    "Number of training data is very small so we need to use cross validation instead of spareate another validation data."
   ]
  },
  {
   "cell_type": "markdown",
   "metadata": {},
   "source": [
    "From the previous visulization the data has no missing value but has many outlier and some sparisty"
   ]
  },
  {
   "cell_type": "markdown",
   "metadata": {},
   "source": [
    "# Ranking of the feature's importance to the target"
   ]
  },
  {
   "cell_type": "code",
   "execution_count": 4,
   "metadata": {
    "collapsed": false
   },
   "outputs": [
    {
     "name": "stdout",
     "output_type": "stream",
     "text": [
      "mpg \t0.999999999831\n",
      "cylinders \t-2.07544017964\n",
      "displacement \t-3.91613404924\n",
      "horsepower \t-1.07324089641\n",
      "weight \t-1.94838299314\n",
      "acceleration \t0.164341650229\n",
      "year \t0.148578236111\n",
      "origin \t-0.430713678161\n"
     ]
    }
   ],
   "source": [
    "# Using just correlation coefficient even in prevoius file we show them using data frame\n",
    "for col in feature_cols:\n",
    "    lm = KernelRidge()\n",
    "    lm.fit(data[[col]], data['mpg'])\n",
    "    print col,'\\t', lm.score(data[[col]], data['mpg'])"
   ]
  },
  {
   "cell_type": "code",
   "execution_count": 5,
   "metadata": {
    "collapsed": false
   },
   "outputs": [
    {
     "name": "stdout",
     "output_type": "stream",
     "text": [
      "Feature Name      Score         Pvalue\n",
      "mpg \t\t8.91712726219e+17 \t0.0\n",
      "cylinders \t\t597.077047852 \t4.50399224618e-81\n",
      "displacement \t\t724.994303368 \t1.65588891019e-91\n",
      "horsepower \t\t101.546001862 \t2.06258705842e-21\n",
      "weight \t\t888.850682648 \t2.97279956405e-103\n",
      "acceleration \t\t84.9577002497 \t1.82309153508e-18\n",
      "year \t\t199.98200802 \t4.84493581337e-37\n",
      "origin \t\t184.199639369 \t1.01148221023e-34\n"
     ]
    }
   ],
   "source": [
    "# Randing the important features to the target\n",
    "model = feature_selection.SelectKBest(score_func=feature_selection.f_regression,k=4)\n",
    "results = model.fit(data[feature_cols], data['mpg'])\n",
    "k=0\n",
    "print 'Feature Name      Score         Pvalue'\n",
    "for feat in feature_cols:\n",
    "    print feat,'\\t\\t',results.scores_[k],'\\t',results.pvalues_[k]\n",
    "    k=k+1\n"
   ]
  },
  {
   "cell_type": "markdown",
   "metadata": {},
   "source": [
    "# Set the parameters for cross validation"
   ]
  },
  {
   "cell_type": "code",
   "execution_count": 6,
   "metadata": {
    "collapsed": true
   },
   "outputs": [],
   "source": [
    "num_folds = 10\n",
    "num_instances = len(X)\n",
    "seed = 7\n",
    "kfold = cross_validation.KFold(n=num_instances, n_folds=num_folds, random_state=seed)"
   ]
  },
  {
   "cell_type": "markdown",
   "metadata": {},
   "source": [
    " # Set the parameters for bias-variance dilemma"
   ]
  },
  {
   "cell_type": "code",
   "execution_count": 7,
   "metadata": {
    "collapsed": false
   },
   "outputs": [],
   "source": [
    "def plot_learning_curve(estimator, title, X, y, ylim=None, cv=None,\n",
    "                        n_jobs=1, train_sizes=np.linspace(.1, 1.0, 5)):\n",
    "    plt.figure()\n",
    "    plt.title(title)\n",
    "    if ylim is not None:\n",
    "        plt.ylim(*ylim)\n",
    "    plt.xlabel(\"Training examples\")\n",
    "    plt.ylabel(\"Score\")\n",
    "    train_sizes, train_scores, test_scores = learning_curve(\n",
    "        estimator, X, y, cv=cv, n_jobs=n_jobs, train_sizes=train_sizes)\n",
    "    train_scores_mean = np.mean(train_scores, axis=1)\n",
    "    train_scores_std = np.std(train_scores, axis=1)\n",
    "    test_scores_mean = np.mean(test_scores, axis=1)\n",
    "    test_scores_std = np.std(test_scores, axis=1)\n",
    "    plt.grid()\n",
    "\n",
    "    plt.fill_between(train_sizes, train_scores_mean - train_scores_std,\n",
    "                     train_scores_mean + train_scores_std, alpha=0.1,\n",
    "                     color=\"r\")\n",
    "    plt.fill_between(train_sizes, test_scores_mean - test_scores_std,\n",
    "                     test_scores_mean + test_scores_std, alpha=0.1, color=\"g\")\n",
    "    plt.plot(train_sizes, train_scores_mean, 'o-', color=\"r\",\n",
    "             label=\"Training score\")\n",
    "    plt.plot(train_sizes, test_scores_mean, 'o-', color=\"g\",\n",
    "             label=\"Cross-validation score\")\n",
    "\n",
    "    plt.legend(loc=\"best\")\n",
    "    return plt"
   ]
  },
  {
   "cell_type": "markdown",
   "metadata": {},
   "source": [
    "# Preprocessing the data and save both the model and preprocessed data"
   ]
  },
  {
   "cell_type": "code",
   "execution_count": 8,
   "metadata": {
    "collapsed": true
   },
   "outputs": [],
   "source": [
    "# According to the nature of the data spasity and there is outliter RobustScaler class is recomandit \n",
    "# but when I tried both of them the result seems is same\n",
    "from sklearn.preprocessing import StandardScaler\n",
    "scaler = preprocessing.StandardScaler().fit(X_train)"
   ]
  },
  {
   "cell_type": "code",
   "execution_count": 9,
   "metadata": {
    "collapsed": true
   },
   "outputs": [],
   "source": [
    "X_train = scaler.transform(X_train)\n",
    "X_test = scaler.transform(X_test) # use same transform for testing data\n",
    "X = X_train"
   ]
  },
  {
   "cell_type": "code",
   "execution_count": 10,
   "metadata": {
    "collapsed": true
   },
   "outputs": [],
   "source": [
    "# save transformed data\n",
    "np.save('./data/X_train', X_train)\n",
    "np.save('./data/y_train', y_train)\n",
    "np.save('./data/X_test', X_test)\n",
    "np.save('./data/y_test', y_test)"
   ]
  },
  {
   "cell_type": "code",
   "execution_count": 11,
   "metadata": {
    "collapsed": false
   },
   "outputs": [
    {
     "data": {
      "text/plain": [
       "['scaler.pkl', 'scaler.pkl_01.npy', 'scaler.pkl_02.npy', 'scaler.pkl_03.npy']"
      ]
     },
     "execution_count": 11,
     "metadata": {},
     "output_type": "execute_result"
    }
   ],
   "source": [
    "# save the model scaler to the desk\n",
    "from sklearn.externals import joblib\n",
    "joblib.dump(scaler, 'scaler.pkl') "
   ]
  },
  {
   "cell_type": "code",
   "execution_count": 12,
   "metadata": {
    "collapsed": false
   },
   "outputs": [
    {
     "name": "stdout",
     "output_type": "stream",
     "text": [
      " =================================================================>>>>> done\n",
      "[[  1.49526939e+00   1.55114495e+00  -7.35914828e-01   1.38121932e+00\n",
      "   -9.80600673e-01  -1.13752513e+00  -7.33011713e-01]\n",
      " [ -8.52857354e-01  -5.04710772e-01   6.08839749e-01  -4.99341807e-01\n",
      "    5.02543270e-01  -5.89029314e-01  -7.33011713e-01]\n",
      " [  1.49526939e+00   1.07371874e+00  -9.71246879e-01   1.57674079e+00\n",
      "    1.31757284e-01  -1.13752513e+00  -7.33011713e-01]\n",
      " [ -8.52857354e-01  -6.99578613e-01   1.01226612e+00   1.84938650e-02\n",
      "    1.42950823e+00  -1.13752513e+00   5.06869802e-01]\n",
      " [  3.21206016e-01   3.91681296e-01  -1.71086190e+00   3.84652269e-01\n",
      "   -5.36357086e-02  -1.41177304e+00  -7.33011713e-01]\n",
      " [ -8.52857354e-01  -1.16726143e+00   4.40745427e-01  -1.60018698e+00\n",
      "    8.73329255e-01  -1.41177304e+00   1.74675132e+00]\n",
      " [ -8.52857354e-01  -1.03085394e+00   3.06269969e-01  -1.17122470e+00\n",
      "   -1.64871504e-01   7.82210231e-01   1.74675132e+00]\n",
      " [ -8.52857354e-01  -5.04710772e-01   1.11312272e+00  -6.58128946e-01\n",
      "    1.42950823e+00  -1.13752513e+00  -7.33011713e-01]\n",
      " [  1.49526939e+00   2.02857116e+00  -8.03152557e-01   9.45147172e-01\n",
      "   -2.27835162e+00  -1.68602095e+00  -7.33011713e-01]\n",
      " [  3.21206016e-01  -1.83178834e-01  -1.50914871e+00  -2.82490713e-01\n",
      "   -1.12891507e+00   1.33070605e+00  -7.33011713e-01]\n",
      " [ -8.52857354e-01  -1.04059733e+00   1.41569250e+00  -1.33712172e+00\n",
      "    6.13779065e-01   1.05645814e+00   5.06869802e-01]\n",
      " [ -8.52857354e-01  -1.03085394e+00   3.06269969e-01  -1.11908564e+00\n",
      "    2.80071678e-01   1.05645814e+00   1.74675132e+00]\n",
      " [  3.21206016e-01   5.67062353e-01   1.04588499e+00   6.82629684e-02\n",
      "    3.17150277e-01  -8.63277223e-01  -7.33011713e-01]\n",
      " [ -8.52857354e-01  -9.23676630e-01   7.09379184e-02  -8.40615659e-01\n",
      "    2.91265218e+00  -1.13752513e+00   5.06869802e-01]\n",
      " [  1.49526939e+00   1.22961301e+00  -9.04009151e-01   1.39425408e+00\n",
      "   -7.21050483e-01   2.33714413e-01  -7.33011713e-01]\n",
      " [ -8.52857354e-01  -9.13933237e-01   7.76934072e-01  -1.24232342e+00\n",
      "   -4.61500293e-01   7.82210231e-01  -7.33011713e-01]\n",
      " [ -8.52857354e-01  -7.09322005e-01   8.44171801e-01  -2.88415606e-01\n",
      "    1.39242964e+00   1.60495396e+00  -7.33011713e-01]\n",
      " [ -8.52857354e-01  -3.97533459e-01   1.11312272e+00  -2.70640927e-01\n",
      "    8.73329255e-01   1.60495396e+00  -7.33011713e-01]\n",
      " [  3.21206016e-01   3.23477552e-01  -1.61000530e+00   7.69770331e-01\n",
      "    3.17150277e-01  -5.89029314e-01  -7.33011713e-01]\n",
      " [ -8.52857354e-01  -9.82136982e-01   4.40745427e-01  -9.87553012e-01\n",
      "   -3.50264497e-01   7.82210231e-01   5.06869802e-01]\n",
      " [  1.49526939e+00   2.02857116e+00  -4.33345048e-01   1.61347513e+00\n",
      "   -1.27722946e+00   2.33714413e-01  -7.33011713e-01]\n",
      " [ -8.52857354e-01  -5.04710772e-01   7.09696343e-01  -4.40092874e-01\n",
      "    1.05872225e+00  -3.14781405e-01  -7.33011713e-01]\n",
      " [ -8.52857354e-01  -7.09322005e-01   1.34845477e+00  -4.95786871e-01\n",
      "    5.02543270e-01  -3.14781405e-01   1.74675132e+00]\n",
      " [ -8.52857354e-01  -6.89835221e-01  -1.47552985e+00  -3.60151531e-02\n",
      "   -4.24421694e-01  -1.13752513e+00   5.06869802e-01]\n",
      " [ -8.52857354e-01  -8.45729493e-01   4.74364292e-01  -9.63853439e-01\n",
      "   -2.76107300e-01   7.82210231e-01  -7.33011713e-01]\n",
      " [  3.21206016e-01  -2.31895795e-01  -1.37467325e+00  -7.51194487e-02\n",
      "   -1.12891507e+00   1.33070605e+00   1.74675132e+00]\n",
      " [ -8.52857354e-01  -9.13933237e-01   3.39888834e-01  -1.37859597e+00\n",
      "   -4.61500293e-01   5.07962322e-01  -7.33011713e-01]\n",
      " [ -8.52857354e-01  -7.77525749e-01   1.04588499e+00  -6.73533669e-01\n",
      "    8.73329255e-01   1.60495396e+00  -7.33011713e-01]\n",
      " [ -8.52857354e-01  -5.53427732e-01   9.11409529e-01  -6.85383455e-01\n",
      "   -1.01767927e+00   1.33070605e+00  -7.33011713e-01]\n",
      " [  3.21206016e-01   6.45009489e-01  -1.50914871e+00   7.92284926e-01\n",
      "    8.73329255e-01  -5.89029314e-01  -7.33011713e-01]\n",
      " [  3.21206016e-01   3.23477552e-01  -1.50914871e+00   7.78065182e-01\n",
      "    1.13287945e+00   5.07962322e-01  -7.33011713e-01]\n",
      " [ -8.52857354e-01  -7.09322005e-01   1.18036045e+00  -6.27319501e-01\n",
      "   -2.39028701e-01   1.05645814e+00   1.74675132e+00]\n",
      " [  3.21206016e-01   5.67062353e-01   5.41602021e-01   5.55289195e-01\n",
      "    1.98568721e+00  -3.14781405e-01  -7.33011713e-01]\n",
      " [ -8.52857354e-01  -1.04059733e+00   4.74364292e-01  -1.20677406e+00\n",
      "    4.28386073e-01   2.33714413e-01   1.74675132e+00]\n",
      " [  3.21206016e-01   3.81937904e-01  -1.50914871e+00   5.35144558e-01\n",
      "    5.76000871e-02   1.33070605e+00  -7.33011713e-01]\n",
      " [ -8.52857354e-01  -5.63171124e-01   1.31483590e+00  -3.09745222e-01\n",
      "   -7.95207680e-01  -3.14781405e-01   1.74675132e+00]\n",
      " [  3.21206016e-01   3.91681296e-01   1.11312272e+00   2.93408913e-01\n",
      "    5.02543270e-01  -3.14781405e-01  -7.33011713e-01]\n",
      " [  1.49526939e+00   1.54140156e+00  -7.02295964e-01   1.65494939e+00\n",
      "   -2.76107300e-01   7.82210231e-01  -7.33011713e-01]\n",
      " [ -8.52857354e-01  -1.00162377e+00   5.07983156e-01  -1.23047364e+00\n",
      "   -6.09814687e-01   7.82210231e-01   5.06869802e-01]\n",
      " [  1.49526939e+00   2.31112953e+00  -3.66107319e-01   2.35645675e+00\n",
      "   -1.53677965e+00  -8.63277223e-01  -7.33011713e-01]\n",
      " [  1.49526939e+00   2.55471433e+00  -1.98012997e-01   1.64783951e+00\n",
      "   -2.46374461e+00  -1.68602095e+00  -7.33011713e-01]\n",
      " [  1.49526939e+00   1.54140156e+00  -6.01439371e-01   8.64568624e-01\n",
      "   -1.53677965e+00  -1.68602095e+00  -7.33011713e-01]\n",
      " [ -8.52857354e-01  -6.89835221e-01   7.76934072e-01  -3.47664539e-01\n",
      "   -2.39028701e-01   7.82210231e-01  -7.33011713e-01]\n",
      " [ -1.43988904e+00  -1.18674821e+00  -1.71086190e+00  -6.43909203e-01\n",
      "   -1.16599367e+00   1.05645814e+00   1.74675132e+00]\n",
      " [ -8.52857354e-01  -4.65737204e-01   1.31483590e+00  -3.53589432e-01\n",
      "   -6.46893286e-01   1.60495396e+00   1.74675132e+00]\n",
      " [ -8.52857354e-01  -6.89835221e-01  -1.50914871e+00  -3.59514326e-01\n",
      "   -6.09814687e-01  -8.63277223e-01   5.06869802e-01]\n",
      " [  3.21206016e-01   3.91681296e-01   1.11312272e+00   1.44101602e-01\n",
      "    7.25014861e-01  -4.05334960e-02  -7.33011713e-01]\n",
      " [  1.49526939e+00   1.54140156e+00  -4.66963913e-01   1.67864896e+00\n",
      "   -1.31430806e+00  -4.05334960e-02  -7.33011713e-01]\n",
      " [  3.21206016e-01  -3.58559891e-01  -1.57638644e+00  -5.82290313e-01\n",
      "   -6.09814687e-01  -8.63277223e-01  -7.33011713e-01]\n",
      " [ -8.52857354e-01  -1.09905769e+00   3.73507698e-01  -1.18544445e+00\n",
      "   -5.36357086e-02  -5.89029314e-01   5.06869802e-01]\n",
      " [ -8.52857354e-01  -9.13933237e-01   6.42458614e-01  -9.70963311e-01\n",
      "   -3.50264497e-01   1.05645814e+00   5.06869802e-01]\n",
      " [ -8.52857354e-01  -9.13933237e-01   8.77790665e-01  -8.82089912e-01\n",
      "    3.17150277e-01  -5.89029314e-01   5.06869802e-01]\n",
      " [  1.49526939e+00   1.07371874e+00  -1.20657893e+00   1.57792577e+00\n",
      "   -2.76107300e-01   2.33714413e-01  -7.33011713e-01]\n",
      " [ -8.52857354e-01  -1.01136716e+00   6.42458614e-01  -1.06457662e+00\n",
      "   -4.24421694e-01  -1.41177304e+00   5.06869802e-01]\n",
      " [  1.49526939e+00   1.86293349e+00  -5.34201642e-01   7.10521399e-01\n",
      "   -2.09295863e+00  -1.68602095e+00  -7.33011713e-01]\n",
      " [  1.49526939e+00   1.12243570e+00  -3.32488455e-01   1.67390904e+00\n",
      "   -2.39028701e-01  -1.68602095e+00  -7.33011713e-01]\n",
      " [  3.21206016e-01   6.45009489e-01  -1.50914871e+00  -1.65077215e-03\n",
      "   -7.95207680e-01  -1.41177304e+00  -7.33011713e-01]\n",
      " [  3.21206016e-01   7.98927508e-02   1.04588499e+00   1.14477136e-01\n",
      "    5.39621868e-01   1.33070605e+00  -7.33011713e-01]\n",
      " [ -8.52857354e-01  -5.53427732e-01   9.11409529e-01  -7.03158135e-01\n",
      "   -9.80600673e-01   1.60495396e+00  -7.33011713e-01]\n",
      " [  1.49526939e+00   1.07371874e+00  -9.71246879e-01   5.75433832e-01\n",
      "   -1.90756564e+00  -1.68602095e+00  -7.33011713e-01]\n",
      " [  3.21206016e-01   5.67062353e-01   7.09696343e-01   7.23556164e-01\n",
      "    1.98568721e+00  -4.05334960e-02  -7.33011713e-01]\n",
      " [ -8.52857354e-01  -5.04710772e-01   5.41602021e-01  -4.72087298e-01\n",
      "   -7.58129081e-01  -4.05334960e-02  -7.33011713e-01]\n",
      " [  3.21206016e-01   3.91681296e-01  -1.71086190e+00  -2.06652079e-01\n",
      "   -2.39028701e-01  -8.63277223e-01  -7.33011713e-01]\n",
      " [  3.21206016e-01   6.04059667e-02   1.28121704e+00  -1.54513018e-01\n",
      "   -5.36357086e-02  -1.68602095e+00  -7.33011713e-01]\n",
      " [  1.49526939e+00   1.54140156e+00  -4.66963913e-01   1.81966142e+00\n",
      "   -1.16599367e+00  -8.63277223e-01  -7.33011713e-01]\n",
      " [  1.49526939e+00   1.55114495e+00  -8.70390286e-01   2.00688805e+00\n",
      "   -7.95207680e-01  -3.14781405e-01  -7.33011713e-01]\n",
      " [  1.49526939e+00   2.31112953e+00  -3.66107319e-01   1.63243479e+00\n",
      "   -2.09295863e+00  -1.68602095e+00  -7.33011713e-01]\n",
      " [  3.21206016e-01   5.67062353e-01  -1.61000530e+00   5.87283619e-01\n",
      "    1.31757284e-01  -3.14781405e-01  -7.33011713e-01]\n",
      " [ -8.52857354e-01  -5.04710772e-01   8.77790665e-01  -3.84398877e-01\n",
      "    5.02543270e-01  -3.14781405e-01  -7.33011713e-01]\n",
      " [  1.49526939e+00   2.41830684e+00  -2.31631862e-01   1.59807041e+00\n",
      "   -2.64913761e+00  -1.68602095e+00  -7.33011713e-01]\n",
      " [ -8.52857354e-01  -9.23676630e-01   3.73507698e-01  -1.06457662e+00\n",
      "    7.99172058e-01   1.33070605e+00   1.74675132e+00]\n",
      " [  1.49526939e+00   1.54140156e+00  -7.02295964e-01   1.82321635e+00\n",
      "   -7.95207680e-01  -1.13752513e+00  -7.33011713e-01]\n",
      " [ -8.52857354e-01  -7.97012533e-01   1.01226612e+00  -3.45294582e-01\n",
      "    6.87936263e-01  -1.68602095e+00   5.06869802e-01]\n",
      " [  3.21206016e-01   3.23477552e-01  -1.71086190e+00   8.14799520e-01\n",
      "    7.62093460e-01  -4.05334960e-02  -7.33011713e-01]\n",
      " [ -8.52857354e-01  -7.67782357e-01   1.28121704e+00  -7.00788178e-01\n",
      "   -2.39028701e-01  -1.68602095e+00   1.74675132e+00]\n",
      " [ -8.52857354e-01  -8.45729493e-01   6.08839749e-01  -8.69055147e-01\n",
      "   -4.24421694e-01   5.07962322e-01  -7.33011713e-01]\n",
      " [ -8.52857354e-01  -9.23676630e-01   6.08839749e-01  -8.27580894e-01\n",
      "    9.47486452e-01   2.33714413e-01   1.74675132e+00]\n",
      " [ -8.52857354e-01  -1.06008412e+00   1.71794512e-01  -1.13804530e+00\n",
      "    1.24411524e+00  -5.89029314e-01   1.74675132e+00]\n",
      " [ -8.52857354e-01  -9.13933237e-01   1.38175647e-01  -9.47263738e-01\n",
      "    2.39355180e+00  -4.05334960e-02  -7.33011713e-01]\n",
      " [  1.49526939e+00   1.54140156e+00  -4.66963913e-01   8.30204243e-01\n",
      "   -1.72217264e+00  -8.63277223e-01  -7.33011713e-01]]\n"
     ]
    }
   ],
   "source": [
    "# Test the model if it is work\n",
    "scalerTest = joblib.load('scaler.pkl')\n",
    "new_data_scaled = scalerTest.transform(new_test_data)\n",
    "print \" =================================================================>>>>> done\"\n",
    "print new_data_scaled"
   ]
  },
  {
   "cell_type": "markdown",
   "metadata": {},
   "source": [
    "# 1. KernelRidge Regression"
   ]
  },
  {
   "cell_type": "markdown",
   "metadata": {},
   "source": [
    "Kernel KernelRidge regression (KRR) combines KernelRidge regression (linear least squares with l2-norm regularization) with the kernel trick. It thus learns a linear function in the space induced by the respective kernel and the data. For non-linear kernels, this corresponds to a non-linear function in the original space.\n"
   ]
  },
  {
   "cell_type": "markdown",
   "metadata": {},
   "source": [
    "## Validation curve"
   ]
  },
  {
   "cell_type": "markdown",
   "metadata": {},
   "source": [
    "choosing multiple hyperparameters of an estimator "
   ]
  },
  {
   "cell_type": "code",
   "execution_count": 13,
   "metadata": {
    "collapsed": false
   },
   "outputs": [
    {
     "data": {
      "text/plain": [
       "['kernel', 'degree', 'kernel_params', 'alpha', 'coef0', 'gamma']"
      ]
     },
     "execution_count": 13,
     "metadata": {},
     "output_type": "execute_result"
    }
   ],
   "source": [
    "from sklearn.kernel_ridge import KernelRidge\n",
    "estimator = KernelRidge()\n",
    "estimator.get_params().keys()"
   ]
  },
  {
   "cell_type": "code",
   "execution_count": 14,
   "metadata": {
    "collapsed": false
   },
   "outputs": [
    {
     "data": {
      "image/png": "[encoded data removed]",
      "text/plain": [
       "<matplotlib.figure.Figure at 0x7f9e21aaded0>"
      ]
     },
     "metadata": {},
     "output_type": "display_data"
    }
   ],
   "source": [
    "# For parametr gamma\n",
    "#param_range = np.logspace(-10.0, 10.0)\n",
    "#param_range = np.logspace(-20, 2, 50)\n",
    "param_range = np.linspace(0.00000000001,0.5,10)\n",
    "\n",
    "train_scores, test_scores = validation_curve(\n",
    "    KernelRidge(kernel='rbf'), X, Y, param_name=\"gamma\", param_range=param_range,\n",
    "    cv=num_folds,  n_jobs=-1)\n",
    "train_scores_mean = np.mean(train_scores, axis=1)\n",
    "train_scores_std = np.std(train_scores, axis=1)\n",
    "test_scores_mean = np.mean(test_scores, axis=1)\n",
    "test_scores_std = np.std(test_scores, axis=1)\n",
    "\n",
    "plt.title(\"Validation Curve with KernelRidge\")\n",
    "plt.xlabel(\"gamma\")\n",
    "plt.ylabel(\"Score\")\n",
    "plt.ylim(0, 1.0)\n",
    "plt.plot(param_range, train_scores_mean, label=\"Training score\", color=\"r\")\n",
    "plt.fill_between(param_range, train_scores_mean - train_scores_std,\n",
    "                 train_scores_mean + train_scores_std, alpha=0.2, color=\"r\")\n",
    "plt.plot(param_range, test_scores_mean, label=\"Cross-validation score\",\n",
    "             color=\"g\")\n",
    "plt.fill_between(param_range, test_scores_mean - test_scores_std,\n",
    "                 test_scores_mean + test_scores_std, alpha=0.2, color=\"g\")\n",
    "plt.legend(loc=\"best\")\n",
    "plt.show()"
   ]
  },
  {
   "cell_type": "markdown",
   "metadata": {},
   "source": [
    "It looks gamma between 0 and 0.1 works well"
   ]
  },
  {
   "cell_type": "code",
   "execution_count": 15,
   "metadata": {
    "collapsed": false
   },
   "outputs": [
    {
     "data": {
      "image/png": "[encoded data removed]",
      "text/plain": [
       "<matplotlib.figure.Figure at 0x7f9e1dbaffd0>"
      ]
     },
     "metadata": {},
     "output_type": "display_data"
    }
   ],
   "source": [
    "# For parametr alpha\n",
    "#param_range = np.logspace(-10.0, 10.0)\n",
    "#param_range = np.logspace(-20, 2, 50)\n",
    "param_range = np.linspace(0,0.2,100)\n",
    "\n",
    "train_scores, test_scores = validation_curve(\n",
    "    KernelRidge(kernel='rbf'), X, Y, param_name=\"alpha\", param_range=param_range,\n",
    "    cv=num_folds,  n_jobs=-1)\n",
    "train_scores_mean = np.mean(train_scores, axis=1)\n",
    "train_scores_std = np.std(train_scores, axis=1)\n",
    "test_scores_mean = np.mean(test_scores, axis=1)\n",
    "test_scores_std = np.std(test_scores, axis=1)\n",
    "\n",
    "plt.title(\"Validation Curve with KernelRidge\")\n",
    "plt.xlabel(\"alpha\")\n",
    "plt.ylabel(\"Score\")\n",
    "plt.ylim(0.2, 1.0)\n",
    "plt.plot(param_range, train_scores_mean, label=\"Training score\", color=\"r\")\n",
    "plt.fill_between(param_range, train_scores_mean - train_scores_std,\n",
    "                 train_scores_mean + train_scores_std, alpha=0.2, color=\"r\")\n",
    "plt.plot(param_range, test_scores_mean, label=\"Cross-validation score\",\n",
    "             color=\"g\")\n",
    "plt.fill_between(param_range, test_scores_mean - test_scores_std,\n",
    "                 test_scores_mean + test_scores_std, alpha=0.2, color=\"g\")\n",
    "plt.legend(loc=\"best\")\n",
    "plt.show()"
   ]
  },
  {
   "cell_type": "markdown",
   "metadata": {},
   "source": [
    "It looks very small alpha works fine"
   ]
  },
  {
   "cell_type": "markdown",
   "metadata": {},
   "source": [
    "## Grid search and/or Random search to determine best compination of parameters"
   ]
  },
  {
   "cell_type": "code",
   "execution_count": 16,
   "metadata": {
    "collapsed": false
   },
   "outputs": [
    {
     "name": "stdout",
     "output_type": "stream",
     "text": [
      "Hyperparameter optimization using GridSearchCV...\n",
      "Parameters with rank: 1\n",
      "Mean validation score: 0.8677 (std: 0.0416)\n",
      "Parameters: {'alpha': 0.063157894736848949, 'gamma': 0.052631578954736843}\n",
      "\n",
      "Parameters with rank: 2\n",
      "Mean validation score: 0.8676 (std: 0.0426)\n",
      "Parameters: {'alpha': 0.052631578947375794, 'gamma': 0.052631578954736843}\n",
      "\n",
      "Parameters with rank: 3\n",
      "Mean validation score: 0.8676 (std: 0.0409)\n",
      "Parameters: {'alpha': 0.073684210526322111, 'gamma': 0.052631578954736843}\n",
      "\n",
      "Parameters with rank: 4\n",
      "Mean validation score: 0.8675 (std: 0.0406)\n",
      "Parameters: {'alpha': 0.052631578947375794, 'gamma': 0.042105263165789476}\n",
      "\n",
      "Parameters with rank: 5\n",
      "Mean validation score: 0.8674 (std: 0.0427)\n",
      "Parameters: {'alpha': 0.073684210526322111, 'gamma': 0.063157894743684218}\n",
      "\n",
      "+++++++++++++++++++++++++++++++++++++++++++++++\n",
      "Hyperparameter optimization using RandomizedSearchCV\n",
      "Parameters with rank: 1\n",
      "Mean validation score: 0.8579 (std: 0.0334)\n",
      "Parameters: {'alpha': 1e-06, 'gamma': 3e-05}\n",
      "\n",
      "Parameters with rank: 2\n",
      "Mean validation score: 0.8089 (std: 0.0450)\n",
      "Parameters: {'alpha': 1e-06, 'gamma': 2e-07}\n",
      "\n",
      "Parameters with rank: 3\n",
      "Mean validation score: 0.4732 (std: 0.0469)\n",
      "Parameters: {'alpha': 0.1, 'gamma': 3e-05}\n",
      "\n",
      "Parameters with rank: 4\n",
      "Mean validation score: 0.2329 (std: 0.0268)\n",
      "Parameters: {'alpha': 1e-06, 'gamma': 1e-10}\n",
      "\n",
      "Parameters with rank: 5\n",
      "Mean validation score: -0.0208 (std: 0.0312)\n",
      "Parameters: {'alpha': 0.1, 'gamma': 2e-07}\n",
      "\n"
     ]
    }
   ],
   "source": [
    "# Utility function to report optimal parameters\n",
    "from operator import itemgetter\n",
    "def report(grid_scores, n_top=5):\n",
    "    params = None\n",
    "    top_scores = sorted(grid_scores, key=itemgetter(1), reverse=True)[:n_top]\n",
    "    for i, score in enumerate(top_scores):\n",
    "        print(\"Parameters with rank: {0}\".format(i + 1))\n",
    "        print(\"Mean validation score: {0:.4f} (std: {1:.4f})\".format(\n",
    "              score.mean_validation_score, np.std(score.cv_validation_scores)))\n",
    "        print(\"Parameters: {0}\".format(score.parameters))\n",
    "        print(\"\")\n",
    "        \n",
    "        if params == None:\n",
    "            params = score.parameters\n",
    "    \n",
    "    return params\n",
    "\n",
    "# The most common value for the max number of features to look at in each split is sqrt(# of features)\n",
    "sqrtfeat = np.sqrt(X.shape[1]) \n",
    "# Simple grid test (162 combinations)\n",
    "grid_test1 = { \"gamma\"      : np.linspace(0.00000000001,0.2,20),\n",
    "               \"alpha\"         :  np.linspace(0.00000000000001,0.2,20) }\n",
    "\n",
    "# Large randomized test using max_depth to control tree size (5000 possible combinations)\n",
    "random_test1 = { \"gamma\"          : [0.0000000001, 0.0000002, 0.00003],\n",
    "                 \"alpha\"         : [0.000001, 0.1] }\n",
    "\n",
    "\n",
    "forest = KernelRidge(kernel='rbf')\n",
    "\n",
    "print \"Hyperparameter optimization using GridSearchCV...\"\n",
    "grid_search = GridSearchCV(forest, grid_test1, n_jobs=-1, cv=num_folds)\n",
    "grid_search.fit(X, Y)\n",
    "best_params_from_grid_search = report(grid_search.grid_scores_)\n",
    "print '+++++++++++++++++++++++++++++++++++++++++++++++'\n",
    "print \"Hyperparameter optimization using RandomizedSearchCV\"\n",
    "grid_search = RandomizedSearchCV(forest, random_test1, n_jobs=-1, cv=num_folds, n_iter=5)\n",
    "grid_search.fit(X, Y)\n",
    "best_params_from_rand_search1 = report(grid_search.grid_scores_)"
   ]
  },
  {
   "cell_type": "markdown",
   "metadata": {},
   "source": [
    "## Learning Curve "
   ]
  },
  {
   "cell_type": "markdown",
   "metadata": {},
   "source": [
    "In essence, what we’re doing it training the exact same model with increasingly large fractions of our total training data, and plotting the error of the training and test sets at each step."
   ]
  },
  {
   "cell_type": "code",
   "execution_count": 17,
   "metadata": {
    "collapsed": false
   },
   "outputs": [
    {
     "data": {
      "image/png": "[encoded data removed]",
      "text/plain": [
       "<matplotlib.figure.Figure at 0x7f9e1dbcca90>"
      ]
     },
     "metadata": {},
     "output_type": "display_data"
    }
   ],
   "source": [
    "from sklearn.kernel_ridge import KernelRidge\n",
    "# 'alpha': 10.0, 'solver': 'lsqr'\n",
    "model = KernelRidge(kernel='rbf', gamma=0.052, alpha =  0.0216)\n",
    "title = \"Learning Curves (KernelRidge Refression)\"\n",
    "cv = cross_validation.ShuffleSplit(X.shape[0], n_iter=100,\n",
    "                                   test_size=0.2, random_state=0)\n",
    "plot_learning_curve(model, title, X, Y, ylim=(0.2, 1.01), cv=cv, n_jobs=-1)\n",
    "plt.show()"
   ]
  },
  {
   "cell_type": "code",
   "execution_count": 18,
   "metadata": {
    "collapsed": false
   },
   "outputs": [
    {
     "name": "stdout",
     "output_type": "stream",
     "text": [
      "train_sizes =  [ 50  80 110]\n",
      " training scores\n",
      " 50 training sizees\n",
      "0.955814118114 ± 0.0155487468233\n",
      " 80 training sizees\n",
      "0.946162873913 ± 0.0143238835447\n",
      " 110 training sizees\n",
      "0.940038160425 ± 0.0123814839575\n",
      "\n",
      " validation scores\n",
      " 50 validation scores\n",
      "0.778868351599 ± 0.0682677707201\n",
      " 80 validation scores\n",
      "0.815398391025 ± 0.0562884319622\n",
      " 110 validation scores\n",
      "0.831061447272 ± 0.0524484902983\n"
     ]
    }
   ],
   "source": [
    "# More data from learning curve to show the process of building the model\n",
    "train_sizes, train_scores, valid_scores = learning_curve(\n",
    "     model, X, Y, train_sizes=[50, 80, 110], cv=cv, n_jobs=4)\n",
    "\n",
    "print 'train_sizes = ', train_sizes\n",
    "\n",
    "print ' training scores'\n",
    "print ' 50 training sizees'\n",
    "print train_scores[0].mean(),'±',train_scores[0].std()\n",
    "print ' 80 training sizees'\n",
    "print train_scores[1].mean(),'±',train_scores[1].std()\n",
    "print ' 110 training sizees'\n",
    "print train_scores[2].mean(),'±',train_scores[2].std()\n",
    "\n",
    "print '\\n validation scores'\n",
    "print ' 50 validation scores'\n",
    "print valid_scores[0].mean(),'±',valid_scores[0].std()\n",
    "print ' 80 validation scores'\n",
    "print valid_scores[1].mean(),'±',valid_scores[1].std()\n",
    "print ' 110 validation scores'\n",
    "print valid_scores[2].mean(),'±',valid_scores[2].std()"
   ]
  },
  {
   "cell_type": "markdown",
   "metadata": {},
   "source": [
    "## Cross validation"
   ]
  },
  {
   "cell_type": "code",
   "execution_count": 19,
   "metadata": {
    "collapsed": false
   },
   "outputs": [
    {
     "name": "stdout",
     "output_type": "stream",
     "text": [
      "Scoring according to mean_squared_error\n",
      "[ -5.97437362 -13.42156323  -8.54697565 -14.38271606  -6.99158552\n",
      "  -4.81860326  -9.43328188  -2.41705056  -6.50838608  -8.79529952]\n",
      "\n",
      " Mean      Standard deviation\n",
      "-8.13      3.49\n"
     ]
    },
    {
     "data": {
      "text/plain": [
       "KernelRidge(alpha=0.0216, coef0=1, degree=3, gamma=0.052, kernel='rbf',\n",
       "      kernel_params=None)"
      ]
     },
     "execution_count": 19,
     "metadata": {},
     "output_type": "execute_result"
    }
   ],
   "source": [
    "scoring = 'mean_squared_error'\n",
    "results = cross_validation.cross_val_score(model, X, Y, cv=kfold, scoring=scoring)\n",
    "print 'Scoring according to mean_squared_error'\n",
    "print results\n",
    "print '\\n Mean      Standard deviation'\n",
    "print(\"%.2f      %.2f\" % (results.mean(), results.std()))\n",
    "## Fit the model\n",
    "model.fit(X,Y)\n"
   ]
  },
  {
   "cell_type": "markdown",
   "metadata": {},
   "source": [
    "To be more precise these valrible is not the input feature as descripe on the dataset, those varibles in scaled virsion on the orginal onces. So, to be more correct I should assign to them another varibles but for easy to unserstand I kept them as they were."
   ]
  },
  {
   "cell_type": "markdown",
   "metadata": {},
   "source": [
    "## Coefficients Of Determination {Calculating R^2}\n",
    "\n",
    "R^2, Close to one is better"
   ]
  },
  {
   "cell_type": "code",
   "execution_count": 20,
   "metadata": {
    "collapsed": false
   },
   "outputs": [
    {
     "name": "stdout",
     "output_type": "stream",
     "text": [
      "R-squared =  0.865104911772\n"
     ]
    }
   ],
   "source": [
    "predicted = cross_val_predict(model, X, Y, cv=kfold)\n",
    "r_squared = r2_score(Y, predicted, multioutput='variance_weighted')\n",
    "print 'R-squared = ',r_squared"
   ]
  },
  {
   "cell_type": "markdown",
   "metadata": {},
   "source": [
    "## Residual Plot"
   ]
  },
  {
   "cell_type": "code",
   "execution_count": 21,
   "metadata": {
    "collapsed": false
   },
   "outputs": [
    {
     "data": {
      "image/png": "[encoded data removed]",
      "text/plain": [
       "<matplotlib.figure.Figure at 0x7f9e211c6550>"
      ]
     },
     "metadata": {},
     "output_type": "display_data"
    }
   ],
   "source": [
    "predicted = cross_val_predict(model, X, Y, cv=kfold)\n",
    "fig, ax = plt.subplots()\n",
    "ax.scatter(Y, predicted)\n",
    "ax.plot([Y.min(), Y.max()], [Y.min(), Y.max()], 'k--', lw=4)\n",
    "ax.set_xlabel('Measured')\n",
    "ax.set_ylabel('Predicted')\n",
    "plt.show()"
   ]
  },
  {
   "cell_type": "code",
   "execution_count": 22,
   "metadata": {
    "collapsed": false
   },
   "outputs": [
    {
     "data": {
      "text/html": [
       "\n",
       "\n",
       "    <div class=\"bk-root\">\n",
       "        <div class=\"plotdiv\" id=\"7646a135-aa7e-4f15-9ac6-e2172d02807b\"></div>\n",
       "    </div>\n",
       "<script type=\"text/javascript\">\n",
       "  \n",
       "  (function(global) {\n",
       "    function now() {\n",
       "      return new Date();\n",
       "    }\n",
       "  \n",
       "    var force = \"\";\n",
       "  \n",
       "    if (typeof (window._bokeh_onload_callbacks) === \"undefined\" || force !== \"\") {\n",
       "      window._bokeh_onload_callbacks = [];\n",
       "      window._bokeh_is_loading = undefined;\n",
       "    }\n",
       "  \n",
       "  \n",
       "    \n",
       "    if (typeof (window._bokeh_timeout) === \"undefined\" || force !== \"\") {\n",
       "      window._bokeh_timeout = Date.now() + 0;\n",
       "      window._bokeh_failed_load = false;\n",
       "    }\n",
       "  \n",
       "    var NB_LOAD_WARNING = {'data': {'text/html':\n",
       "       \"<div style='background-color: #fdd'>\\n\"+\n",
       "       \"<p>\\n\"+\n",
       "       \"BokehJS does not appear to have successfully loaded. If loading BokehJS from CDN, this \\n\"+\n",
       "       \"may be due to a slow or bad network connection. Possible fixes:\\n\"+\n",
       "       \"</p>\\n\"+\n",
       "       \"<ul>\\n\"+\n",
       "       \"<li>re-rerun `output_notebook()` to attempt to load from CDN again, or</li>\\n\"+\n",
       "       \"<li>use INLINE resources instead, as so:</li>\\n\"+\n",
       "       \"</ul>\\n\"+\n",
       "       \"<code>\\n\"+\n",
       "       \"from bokeh.resources import INLINE\\n\"+\n",
       "       \"output_notebook(resources=INLINE)\\n\"+\n",
       "       \"</code>\\n\"+\n",
       "       \"</div>\"}};\n",
       "  \n",
       "    function display_loaded() {\n",
       "      if (window.Bokeh !== undefined) {\n",
       "        Bokeh.$(\"#7646a135-aa7e-4f15-9ac6-e2172d02807b\").text(\"BokehJS successfully loaded.\");\n",
       "      } else if (Date.now() < window._bokeh_timeout) {\n",
       "        setTimeout(display_loaded, 100)\n",
       "      }\n",
       "    }\n",
       "  \n",
       "    function run_callbacks() {\n",
       "      window._bokeh_onload_callbacks.forEach(function(callback) { callback() });\n",
       "      delete window._bokeh_onload_callbacks\n",
       "      console.info(\"Bokeh: all callbacks have finished\");\n",
       "    }\n",
       "  \n",
       "    function load_libs(js_urls, callback) {\n",
       "      window._bokeh_onload_callbacks.push(callback);\n",
       "      if (window._bokeh_is_loading > 0) {\n",
       "        console.log(\"Bokeh: BokehJS is being loaded, scheduling callback at\", now());\n",
       "        return null;\n",
       "      }\n",
       "      if (js_urls == null || js_urls.length === 0) {\n",
       "        run_callbacks();\n",
       "        return null;\n",
       "      }\n",
       "      console.log(\"Bokeh: BokehJS not loaded, scheduling load and callback at\", now());\n",
       "      window._bokeh_is_loading = js_urls.length;\n",
       "      for (var i = 0; i < js_urls.length; i++) {\n",
       "        var url = js_urls[i];\n",
       "        var s = document.createElement('script');\n",
       "        s.src = url;\n",
       "        s.async = false;\n",
       "        s.onreadystatechange = s.onload = function() {\n",
       "          window._bokeh_is_loading--;\n",
       "          if (window._bokeh_is_loading === 0) {\n",
       "            console.log(\"Bokeh: all BokehJS libraries loaded\");\n",
       "            run_callbacks()\n",
       "          }\n",
       "        };\n",
       "        s.onerror = function() {\n",
       "          console.warn(\"failed to load library \" + url);\n",
       "        };\n",
       "        console.log(\"Bokeh: injecting script tag for BokehJS library: \", url);\n",
       "        document.getElementsByTagName(\"head\")[0].appendChild(s);\n",
       "      }\n",
       "    };var element = document.getElementById(\"7646a135-aa7e-4f15-9ac6-e2172d02807b\");\n",
       "    if (element == null) {\n",
       "      console.log(\"Bokeh: ERROR: autoload.js configured with elementid '7646a135-aa7e-4f15-9ac6-e2172d02807b' but no matching script tag was found. \")\n",
       "      return false;\n",
       "    }\n",
       "  \n",
       "    var js_urls = [];\n",
       "  \n",
       "    var inline_js = [\n",
       "      function(Bokeh) {\n",
       "        Bokeh.$(function() {\n",
       "            var docs_json = {\"36f802d8-8a59-48c5-8ba4-2f410ab76461\":{\"roots\":{\"references\":[{\"attributes\":{\"plot\":{\"id\":\"967616e4-ac3c-40a0-a5e5-1104e5355e8f\",\"subtype\":\"Figure\",\"type\":\"Plot\"}},\"id\":\"513d8cae-98c9-4710-ba30-6397f2e56f11\",\"type\":\"WheelZoomTool\"},{\"attributes\":{\"callback\":null,\"overlay\":{\"id\":\"b8d1130a-64aa-4e6b-9f6f-e6b38c599cbd\",\"type\":\"PolyAnnotation\"},\"plot\":{\"id\":\"967616e4-ac3c-40a0-a5e5-1104e5355e8f\",\"subtype\":\"Figure\",\"type\":\"Plot\"}},\"id\":\"7976f815-948f-4399-ba20-5735e0435e51\",\"type\":\"LassoSelectTool\"},{\"attributes\":{\"plot\":{\"id\":\"967616e4-ac3c-40a0-a5e5-1104e5355e8f\",\"subtype\":\"Figure\",\"type\":\"Plot\"}},\"id\":\"26b86790-4ff5-4e21-80b4-2c1b41c81638\",\"type\":\"ResizeTool\"},{\"attributes\":{\"plot\":{\"id\":\"967616e4-ac3c-40a0-a5e5-1104e5355e8f\",\"subtype\":\"Figure\",\"type\":\"Plot\"},\"ticker\":{\"id\":\"7f48fa0e-cf3e-4472-ab79-721249bdeb17\",\"type\":\"BasicTicker\"}},\"id\":\"fa628aaa-b0dc-4ec4-977f-8dff84959714\",\"type\":\"Grid\"},{\"attributes\":{\"callback\":null,\"plot\":{\"id\":\"967616e4-ac3c-40a0-a5e5-1104e5355e8f\",\"subtype\":\"Figure\",\"type\":\"Plot\"}},\"id\":\"91753983-a3e4-41eb-8f27-ce0addcfbfe0\",\"type\":\"TapTool\"},{\"attributes\":{\"overlay\":{\"id\":\"c26e82b9-e414-4ef8-9abc-648ffa979148\",\"type\":\"BoxAnnotation\"},\"plot\":{\"id\":\"967616e4-ac3c-40a0-a5e5-1104e5355e8f\",\"subtype\":\"Figure\",\"type\":\"Plot\"}},\"id\":\"4cd78dbf-34a5-4ef9-ae33-bc3131af3b81\",\"type\":\"BoxZoomTool\"},{\"attributes\":{\"fill_alpha\":{\"value\":0.1},\"fill_color\":{\"value\":\"#1f77b4\"},\"line_alpha\":{\"value\":0.1},\"line_color\":{\"value\":\"#1f77b4\"},\"line_width\":{\"value\":3},\"x\":{\"field\":\"x\"},\"y\":{\"field\":\"y\"}},\"id\":\"6339d7f1-4812-403b-9e29-525ab2e261d8\",\"type\":\"Circle\"},{\"attributes\":{\"callback\":null},\"id\":\"60fd2a01-fdc7-4097-b63f-4a9fbde3b4bb\",\"type\":\"DataRange1d\"},{\"attributes\":{\"line_dash\":[4,4],\"line_width\":{\"value\":2},\"x\":{\"field\":\"x\"},\"y\":{\"field\":\"y\"}},\"id\":\"2f526d64-98f9-4a20-a47e-f4e4861adf0c\",\"type\":\"Line\"},{\"attributes\":{\"plot\":{\"id\":\"967616e4-ac3c-40a0-a5e5-1104e5355e8f\",\"subtype\":\"Figure\",\"type\":\"Plot\"}},\"id\":\"2799e10b-b910-41b1-a223-218d4095e129\",\"type\":\"ResetTool\"},{\"attributes\":{\"active_drag\":\"auto\",\"active_scroll\":\"auto\",\"active_tap\":\"auto\",\"tools\":[{\"id\":\"4cd78dbf-34a5-4ef9-ae33-bc3131af3b81\",\"type\":\"BoxZoomTool\"},{\"id\":\"f3795f4d-3b0a-4060-b95d-e2bd77453e72\",\"type\":\"BoxSelectTool\"},{\"id\":\"e62df89e-0963-4ebd-bfa2-92c1b14f55c1\",\"type\":\"CrosshairTool\"},{\"id\":\"26b86790-4ff5-4e21-80b4-2c1b41c81638\",\"type\":\"ResizeTool\"},{\"id\":\"2799e10b-b910-41b1-a223-218d4095e129\",\"type\":\"ResetTool\"},{\"id\":\"7976f815-948f-4399-ba20-5735e0435e51\",\"type\":\"LassoSelectTool\"},{\"id\":\"05b96332-4340-4be1-b459-2dab9379f65f\",\"type\":\"PanTool\"},{\"id\":\"03b1d906-012b-4aff-8897-e9324deec2f5\",\"type\":\"SaveTool\"},{\"id\":\"d4050101-8572-46a7-8247-f99cbf5a1425\",\"type\":\"PolySelectTool\"},{\"id\":\"91753983-a3e4-41eb-8f27-ce0addcfbfe0\",\"type\":\"TapTool\"},{\"id\":\"513d8cae-98c9-4710-ba30-6397f2e56f11\",\"type\":\"WheelZoomTool\"},{\"id\":\"0563d4c4-89e4-40cf-a0a5-591a991d2119\",\"type\":\"UndoTool\"}]},\"id\":\"f84035ca-aa27-4555-8768-9e9f7ea9c9cf\",\"type\":\"Toolbar\"},{\"attributes\":{\"bottom_units\":\"screen\",\"fill_alpha\":{\"value\":0.5},\"fill_color\":{\"value\":\"lightgrey\"},\"left_units\":\"screen\",\"level\":\"overlay\",\"line_alpha\":{\"value\":1.0},\"line_color\":{\"value\":\"black\"},\"line_dash\":[4,4],\"line_width\":{\"value\":2},\"plot\":null,\"render_mode\":\"css\",\"right_units\":\"screen\",\"top_units\":\"screen\"},\"id\":\"c450eafb-df3a-445f-b21a-fcd530ef64bb\",\"type\":\"BoxAnnotation\"},{\"attributes\":{},\"id\":\"7f48fa0e-cf3e-4472-ab79-721249bdeb17\",\"type\":\"BasicTicker\"},{\"attributes\":{\"axis_label\":\"Predicted\",\"axis_label_text_color\":{\"value\":\"#aa6666\"},\"formatter\":{\"id\":\"a1f8c64b-ea77-44eb-9165-04e1c7d2d9d2\",\"type\":\"BasicTickFormatter\"},\"plot\":{\"id\":\"967616e4-ac3c-40a0-a5e5-1104e5355e8f\",\"subtype\":\"Figure\",\"type\":\"Plot\"},\"ticker\":{\"id\":\"76ab3582-c6f3-4030-baea-51cf2842e695\",\"type\":\"BasicTicker\"}},\"id\":\"ff655d60-3831-4635-8ce1-14014888d228\",\"type\":\"LinearAxis\"},{\"attributes\":{\"plot\":{\"id\":\"967616e4-ac3c-40a0-a5e5-1104e5355e8f\",\"subtype\":\"Figure\",\"type\":\"Plot\"}},\"id\":\"03b1d906-012b-4aff-8897-e9324deec2f5\",\"type\":\"SaveTool\"},{\"attributes\":{},\"id\":\"76ab3582-c6f3-4030-baea-51cf2842e695\",\"type\":\"BasicTicker\"},{\"attributes\":{\"callback\":null,\"column_names\":[\"y\",\"x\"],\"data\":{\"x\":[9.0,46.6],\"y\":[9.0,46.6]}},\"id\":\"29f74295-5675-438d-ab9f-6863dacc369e\",\"type\":\"ColumnDataSource\"},{\"attributes\":{\"data_source\":{\"id\":\"3321b10a-033d-4915-a171-1f33be5e20fb\",\"type\":\"ColumnDataSource\"},\"glyph\":{\"id\":\"35e8d829-c1a4-4e91-bf64-a699f1b1c86e\",\"type\":\"Circle\"},\"hover_glyph\":null,\"nonselection_glyph\":{\"id\":\"6339d7f1-4812-403b-9e29-525ab2e261d8\",\"type\":\"Circle\"},\"selection_glyph\":null},\"id\":\"5cad2c8a-3e0e-4e02-8c41-93b854864486\",\"type\":\"GlyphRenderer\"},{\"attributes\":{\"callback\":null,\"column_names\":[\"x\",\"y\"],\"data\":{\"x\":[15.0,27.0,34.3,26.0,31.6,33.8,29.0,18.1,27.2,38.0,26.0,14.0,22.0,31.0,36.4,17.6,17.7,28.0,20.8,14.0,20.2,32.8,22.3,28.0,37.0,27.0,23.2,13.0,15.0,22.0,24.0,29.0,13.0,31.8,23.0,25.5,29.9,13.0,17.5,46.6,15.5,32.9,14.0,25.0,19.4,15.0,32.4,31.5,27.0,19.8,17.0,33.5,21.0,23.0,38.1,44.0,40.8,21.0,29.0,17.5,28.0,26.0,26.0,11.0,37.7,24.2,16.0,16.0,30.0,19.0,27.0,19.0,16.0,16.0,20.3,21.0,33.5,23.0,21.5,16.0,19.0,37.0,15.0,16.0,26.0,18.0,13.0,21.0,29.0,22.0,33.0,22.0,16.0,36.0,20.0,22.0,31.3,14.5,29.8,13.0,13.0,36.0,20.5,25.0,27.0,33.0,16.5,20.6,30.0,43.4,34.7,11.0,18.0,13.0,16.0,19.0,23.0,25.5,14.0,24.5,30.0,25.8,38.0,28.8,26.6,17.0,32.0,18.1,11.0,21.0,36.0,13.0,30.0,31.0,14.0,18.0,13.0,21.6,28.0,23.8,14.0,27.0,20.2,26.0,39.4,19.9,19.0,14.0,23.6,13.0,38.0,30.5,18.5,17.0,12.0,16.0,28.0,15.5,32.0,24.0,25.1,16.0,13.0,24.0,22.0,24.0,15.0,19.0,18.0,27.2,14.0,21.0,44.3,28.0,31.5,19.2,14.0,30.5,29.8,36.1,26.8,26.0,20.5,32.1,16.0,17.0,20.0,22.0,25.0,23.9,31.0,39.0,28.0,34.5,22.0,20.6,14.0,25.4,14.0,30.0,19.0,36.0,25.0,14.0,21.1,28.0,19.0,19.1,24.3,44.6,20.0,17.0,13.0,34.2,26.0,17.5,26.0,13.0,18.0,18.5,36.0,16.0,38.0,23.0,20.5,13.0,28.0,12.0,34.1,20.0,12.0,28.4,18.0,20.0,29.5,19.0,26.0,26.0,25.0,32.0,33.7,28.0,19.2,29.5,27.0,15.0,39.1,26.6,13.0,23.0,27.5,20.0,19.2,24.0,32.2,19.4,33.0,12.0,13.0,17.6,23.9,34.4,14.0,31.0,35.1,15.0,15.5,9.0,25.0,18.0,31.0,43.1,17.5,25.0,25.0,19.0,26.0,31.0,18.2,30.7,24.0,17.0,27.0,23.0,18.0,27.2,35.0,29.0,21.5,15.0,17.5,15.0,32.7,10.0,20.0,32.4,34.0,18.0,32.0,14.0,24.0,26.4,14.0,13.0,13.0,18.5,21.5,16.2,16.5,15.0,28.1,29.0,20.2,27.9,22.0,29.0,19.0,25.0],\"y\":[13.748487161720092,27.76422465936946,32.91309929402922,29.96767835889625,32.612191433892576,35.536692623246324,29.815447491843315,20.480593936711983,30.320545888646336,34.37318039612734,23.307124510141136,12.63887725591286,26.21122881156498,31.713547803887025,31.136165110285788,18.11917945140138,21.35855243403506,27.773773209526155,22.136232723608884,12.955873774605365,23.153764478876894,37.380413369278926,23.822850026646307,23.888313076383724,39.56185146048068,25.011318928973424,24.81080320589814,14.790472563457655,14.924628192824464,20.95700769833377,24.344287981874572,29.039635059012653,16.256975192150747,35.730212925614865,25.209943932372653,23.638633822912425,34.59716366450061,13.526749660425423,16.019623810621596,34.846162336108705,15.157209507009227,23.962196542637287,13.744484475193758,23.824449795413557,17.0853957888919,19.85653039869902,32.91256614578799,32.13806857293366,27.835696701672077,24.67148035534774,15.29486587816541,29.198629860649476,19.760758411933466,19.31609068765954,36.80178142817647,45.9392343388883,36.16496772228368,20.957693934276676,30.984868844361017,18.828811117932332,23.703388359729047,24.839447546807264,23.69918252238358,12.629621039558522,36.582001500627655,29.088166761765706,13.522565275730017,13.203864810064886,29.054192835929797,18.968684757279334,27.554090794267182,24.074343043967076,15.031468305296073,14.12640536328064,23.403346669302323,20.06529816022936,27.397632296483266,19.882755223540443,21.735487995536545,15.957926147276737,22.9400734986215,37.67605471065076,15.881097970697738,18.09317046968036,29.56865915758229,17.7595368410272,13.247194981390749,25.263310190850362,27.681500571483355,19.543286405261682,32.26296737589486,27.834582232141713,15.110327184297603,34.75009278627732,26.947302711106886,21.41849344911381,30.975328604779463,15.2168214428115,36.812978081391805,14.411276842587,13.199822528149518,34.20167608014357,20.849874096021594,24.493221359259593,25.510587164241457,31.42166983064422,17.75459929043862,20.894960952567686,26.15174519069339,40.90662849394049,33.77985328669058,12.892774293034421,15.604587004795548,15.819137588864749,13.875003084684408,19.948861819641905,22.717045868045105,27.769123606240527,14.017096600260473,24.275925824001007,29.934228779069116,28.00884316874064,19.70620091312726,26.345462637058546,27.487364209199825,17.195083850091976,30.545164006760785,18.38476509125958,13.080710834765357,20.779417777713263,35.10361926797768,11.801089944396137,31.399918301339653,30.100034337374666,13.348951431417035,26.399837613401886,18.08825425235952,24.18047051314886,26.479435005447357,23.039966183010662,13.075036457769599,26.965189802898017,21.846887366156693,25.990474555197395,33.26963084822765,18.929636376658493,24.53832766930516,13.313967643952576,25.223782635097805,16.10121272314214,36.7388845481114,29.475856137286037,18.17169578223698,15.143471375404062,12.70169921917362,15.484447309894847,25.86583854807904,16.54678890696323,34.620681680796366,25.720960434266345,25.284826229555733,15.087254322121339,15.434459360751234,26.29906500031197,23.797998484305282,22.569209150319978,14.165849301480733,18.13180909503592,21.369630541464744,27.117246989778522,13.519064794209228,21.789960573266683,41.007902178216156,28.781668266657675,32.260241120156564,20.766843018219134,13.005354304973288,30.05962329479371,27.198068344713462,34.107798077815204,25.517913759533855,26.557987933832976,19.13638800444724,32.893265023075,15.766729464737125,21.18278582587334,18.833581232957613,23.333224220869397,24.88285224092752,21.22241068995946,38.15229662393668,35.35375629135753,25.78751942501009,29.983192908807666,23.99738857756995,19.820542870360214,16.953659136427035,24.215241439357555,15.836462591511577,31.03685667851323,16.804070526006484,32.21727242012753,25.70567046206574,14.041566974772167,26.380555420304972,24.70463640337448,21.468625433218648,22.512467083694958,22.777401554844403,33.588917533582276,19.95304175063589,19.41352600202279,13.889837605846566,32.300952282427204,24.33751897888257,15.230869906204816,20.734265682894716,12.484498747214872,16.109470641363913,17.337712531565273,35.9207347286266,15.886952946367146,35.90119955576358,21.50366380774892,19.81762795137979,13.185798886177338,29.002513937561815,12.802234471108036,36.0652641062197,19.298461369923928,12.893400658099694,25.861275778601907,18.769050664552083,17.721812522674384,31.89323767375194,18.4226748406397,26.095053652631634,25.969139206538216,21.645983072143963,32.67590866648257,34.41123548295644,29.746845450785713,17.68483941209125,31.232195337505686,25.833106715567965,15.915542195910774,38.088989564644294,23.456529460000056,13.815772067815828,22.238469442140797,25.83543621250169,23.291153639177082,18.307314780521978,23.807835006406293,32.67998126223469,20.873563772555173,33.97351285119748,12.801735139931537,12.90613115298865,22.928715788107468,26.938328427138572,34.828888361460145,13.903123114449613,28.9971004151555,37.963850735759934,17.111130029688752,18.611545966130393,8.153594779149728,28.149930720450243,13.23224019153838,28.58002368950133,37.78482190464206,19.002798790713314,24.303541395100183,22.957020979105323,19.06270156119342,27.328780946594293,29.380034643390218,19.257997017147574,30.340971772752823,27.45571761167514,19.207459830622923,28.394919251171473,22.83152914489574,18.544502684973736,29.87614294940761,29.549788844647537,30.370407279518986,27.044972500831904,14.006591533360506,16.33149815712136,14.769673669227132,23.605069223975818,11.677759457145243,16.923616330565352,33.26595650641579,35.88276987754935,21.048281747575757,37.44672366844176,13.16575666802197,19.994600442868347,24.386529583866462,14.13610544249363,12.847431650720068,14.066182250839375,17.241198374490693,26.00773052887977,18.280480934870383,14.519708013252306,14.609082106772263,28.634418300537533,31.14068837035073,17.0737992249247,25.4852813604235,18.713645616573118,30.885937843256684,17.25760656806858,28.038121709303383]}},\"id\":\"3321b10a-033d-4915-a171-1f33be5e20fb\",\"type\":\"ColumnDataSource\"},{\"attributes\":{\"data_source\":{\"id\":\"29f74295-5675-438d-ab9f-6863dacc369e\",\"type\":\"ColumnDataSource\"},\"glyph\":{\"id\":\"2f526d64-98f9-4a20-a47e-f4e4861adf0c\",\"type\":\"Line\"},\"hover_glyph\":null,\"nonselection_glyph\":{\"id\":\"506b84e0-6dab-4c6a-863c-3cbcdc9204f4\",\"type\":\"Line\"},\"selection_glyph\":null},\"id\":\"8e514b49-42bb-446b-89a6-e3e2c5bf3f12\",\"type\":\"GlyphRenderer\"},{\"attributes\":{\"plot\":{\"id\":\"967616e4-ac3c-40a0-a5e5-1104e5355e8f\",\"subtype\":\"Figure\",\"type\":\"Plot\"}},\"id\":\"0563d4c4-89e4-40cf-a0a5-591a991d2119\",\"type\":\"UndoTool\"},{\"attributes\":{},\"id\":\"8b65f176-27af-48a9-88dc-a98b55419ddb\",\"type\":\"BasicTickFormatter\"},{\"attributes\":{},\"id\":\"a1f8c64b-ea77-44eb-9165-04e1c7d2d9d2\",\"type\":\"BasicTickFormatter\"},{\"attributes\":{\"axis_label\":\"Measured\",\"axis_label_text_color\":{\"value\":\"#aa6666\"},\"formatter\":{\"id\":\"8b65f176-27af-48a9-88dc-a98b55419ddb\",\"type\":\"BasicTickFormatter\"},\"major_tick_line_color\":{\"value\":\"firebrick\"},\"major_tick_line_width\":{\"value\":3},\"minor_tick_line_color\":{\"value\":\"orange\"},\"plot\":{\"id\":\"967616e4-ac3c-40a0-a5e5-1104e5355e8f\",\"subtype\":\"Figure\",\"type\":\"Plot\"},\"ticker\":{\"id\":\"7f48fa0e-cf3e-4472-ab79-721249bdeb17\",\"type\":\"BasicTicker\"}},\"id\":\"f365d5a7-77c3-444a-8b7c-a5e0b5469672\",\"type\":\"LinearAxis\"},{\"attributes\":{\"callback\":null},\"id\":\"a3ee50e4-c2fa-4271-af5f-1b2d08942936\",\"type\":\"DataRange1d\"},{\"attributes\":{\"align\":\"center\",\"plot\":null,\"text\":null},\"id\":\"f1460054-e6c6-42f2-a747-c18ef4ee3a96\",\"type\":\"Title\"},{\"attributes\":{\"bottom_units\":\"screen\",\"fill_alpha\":{\"value\":0.5},\"fill_color\":{\"value\":\"lightgrey\"},\"left_units\":\"screen\",\"level\":\"overlay\",\"line_alpha\":{\"value\":1.0},\"line_color\":{\"value\":\"black\"},\"line_dash\":[4,4],\"line_width\":{\"value\":2},\"plot\":null,\"render_mode\":\"css\",\"right_units\":\"screen\",\"top_units\":\"screen\"},\"id\":\"c26e82b9-e414-4ef8-9abc-648ffa979148\",\"type\":\"BoxAnnotation\"},{\"attributes\":{\"plot\":{\"id\":\"967616e4-ac3c-40a0-a5e5-1104e5355e8f\",\"subtype\":\"Figure\",\"type\":\"Plot\"}},\"id\":\"e62df89e-0963-4ebd-bfa2-92c1b14f55c1\",\"type\":\"CrosshairTool\"},{\"attributes\":{\"callback\":null,\"overlay\":{\"id\":\"c450eafb-df3a-445f-b21a-fcd530ef64bb\",\"type\":\"BoxAnnotation\"},\"plot\":{\"id\":\"967616e4-ac3c-40a0-a5e5-1104e5355e8f\",\"subtype\":\"Figure\",\"type\":\"Plot\"},\"renderers\":[{\"id\":\"5cad2c8a-3e0e-4e02-8c41-93b854864486\",\"type\":\"GlyphRenderer\"},{\"id\":\"8e514b49-42bb-446b-89a6-e3e2c5bf3f12\",\"type\":\"GlyphRenderer\"}]},\"id\":\"f3795f4d-3b0a-4060-b95d-e2bd77453e72\",\"type\":\"BoxSelectTool\"},{\"attributes\":{\"fill_color\":{\"value\":\"#80B1D3\"},\"line_color\":{\"value\":\"#80B1D3\"},\"line_width\":{\"value\":3},\"x\":{\"field\":\"x\"},\"y\":{\"field\":\"y\"}},\"id\":\"35e8d829-c1a4-4e91-bf64-a699f1b1c86e\",\"type\":\"Circle\"},{\"attributes\":{\"overlay\":{\"id\":\"fa32b74a-c45a-47d2-9285-ccaa19107f6e\",\"type\":\"PolyAnnotation\"},\"plot\":{\"id\":\"967616e4-ac3c-40a0-a5e5-1104e5355e8f\",\"subtype\":\"Figure\",\"type\":\"Plot\"}},\"id\":\"d4050101-8572-46a7-8247-f99cbf5a1425\",\"type\":\"PolySelectTool\"},{\"attributes\":{\"fill_alpha\":{\"value\":0.5},\"fill_color\":{\"value\":\"lightgrey\"},\"level\":\"overlay\",\"line_alpha\":{\"value\":1.0},\"line_color\":{\"value\":\"black\"},\"line_dash\":[4,4],\"line_width\":{\"value\":2},\"plot\":null,\"xs_units\":\"screen\",\"ys_units\":\"screen\"},\"id\":\"b8d1130a-64aa-4e6b-9f6f-e6b38c599cbd\",\"type\":\"PolyAnnotation\"},{\"attributes\":{\"dimension\":1,\"plot\":{\"id\":\"967616e4-ac3c-40a0-a5e5-1104e5355e8f\",\"subtype\":\"Figure\",\"type\":\"Plot\"},\"ticker\":{\"id\":\"76ab3582-c6f3-4030-baea-51cf2842e695\",\"type\":\"BasicTicker\"}},\"id\":\"553b8bdc-03cc-4a36-bd64-26499c87212f\",\"type\":\"Grid\"},{\"attributes\":{\"plot\":{\"id\":\"967616e4-ac3c-40a0-a5e5-1104e5355e8f\",\"subtype\":\"Figure\",\"type\":\"Plot\"}},\"id\":\"05b96332-4340-4be1-b459-2dab9379f65f\",\"type\":\"PanTool\"},{\"attributes\":{},\"id\":\"955be44f-ac54-4aa1-99c8-a6e538411916\",\"type\":\"ToolEvents\"},{\"attributes\":{\"fill_alpha\":{\"value\":0.5},\"fill_color\":{\"value\":\"lightgrey\"},\"level\":\"overlay\",\"line_alpha\":{\"value\":1.0},\"line_color\":{\"value\":\"black\"},\"line_dash\":[4,4],\"line_width\":{\"value\":2},\"plot\":null,\"xs_units\":\"screen\",\"ys_units\":\"screen\"},\"id\":\"fa32b74a-c45a-47d2-9285-ccaa19107f6e\",\"type\":\"PolyAnnotation\"},{\"attributes\":{\"background_fill_alpha\":{\"value\":0.5},\"background_fill_color\":{\"value\":\"beige\"},\"below\":[{\"id\":\"f365d5a7-77c3-444a-8b7c-a5e0b5469672\",\"type\":\"LinearAxis\"}],\"left\":[{\"id\":\"ff655d60-3831-4635-8ce1-14014888d228\",\"type\":\"LinearAxis\"}],\"plot_height\":500,\"plot_width\":500,\"renderers\":[{\"id\":\"f365d5a7-77c3-444a-8b7c-a5e0b5469672\",\"type\":\"LinearAxis\"},{\"id\":\"fa628aaa-b0dc-4ec4-977f-8dff84959714\",\"type\":\"Grid\"},{\"id\":\"ff655d60-3831-4635-8ce1-14014888d228\",\"type\":\"LinearAxis\"},{\"id\":\"553b8bdc-03cc-4a36-bd64-26499c87212f\",\"type\":\"Grid\"},{\"id\":\"c26e82b9-e414-4ef8-9abc-648ffa979148\",\"type\":\"BoxAnnotation\"},{\"id\":\"c450eafb-df3a-445f-b21a-fcd530ef64bb\",\"type\":\"BoxAnnotation\"},{\"id\":\"b8d1130a-64aa-4e6b-9f6f-e6b38c599cbd\",\"type\":\"PolyAnnotation\"},{\"id\":\"fa32b74a-c45a-47d2-9285-ccaa19107f6e\",\"type\":\"PolyAnnotation\"},{\"id\":\"5cad2c8a-3e0e-4e02-8c41-93b854864486\",\"type\":\"GlyphRenderer\"},{\"id\":\"8e514b49-42bb-446b-89a6-e3e2c5bf3f12\",\"type\":\"GlyphRenderer\"}],\"title\":{\"id\":\"f1460054-e6c6-42f2-a747-c18ef4ee3a96\",\"type\":\"Title\"},\"tool_events\":{\"id\":\"955be44f-ac54-4aa1-99c8-a6e538411916\",\"type\":\"ToolEvents\"},\"toolbar\":{\"id\":\"f84035ca-aa27-4555-8768-9e9f7ea9c9cf\",\"type\":\"Toolbar\"},\"x_range\":{\"id\":\"60fd2a01-fdc7-4097-b63f-4a9fbde3b4bb\",\"type\":\"DataRange1d\"},\"y_range\":{\"id\":\"a3ee50e4-c2fa-4271-af5f-1b2d08942936\",\"type\":\"DataRange1d\"}},\"id\":\"967616e4-ac3c-40a0-a5e5-1104e5355e8f\",\"subtype\":\"Figure\",\"type\":\"Plot\"},{\"attributes\":{\"line_alpha\":{\"value\":0.1},\"line_color\":{\"value\":\"#1f77b4\"},\"line_dash\":[4,4],\"line_width\":{\"value\":2},\"x\":{\"field\":\"x\"},\"y\":{\"field\":\"y\"}},\"id\":\"506b84e0-6dab-4c6a-863c-3cbcdc9204f4\",\"type\":\"Line\"}],\"root_ids\":[\"967616e4-ac3c-40a0-a5e5-1104e5355e8f\"]},\"title\":\"Bokeh Application\",\"version\":\"0.12.2\"}};\n",
       "            var render_items = [{\"docid\":\"36f802d8-8a59-48c5-8ba4-2f410ab76461\",\"elementid\":\"7646a135-aa7e-4f15-9ac6-e2172d02807b\",\"modelid\":\"967616e4-ac3c-40a0-a5e5-1104e5355e8f\"}];\n",
       "            \n",
       "            Bokeh.embed.embed_items(docs_json, render_items);\n",
       "        });\n",
       "      },\n",
       "      function(Bokeh) {\n",
       "      }\n",
       "    ];\n",
       "  \n",
       "    function run_inline_js() {\n",
       "      \n",
       "      if ((window.Bokeh !== undefined) || (force === \"1\")) {\n",
       "        for (var i = 0; i < inline_js.length; i++) {\n",
       "          inline_js[i](window.Bokeh);\n",
       "        }if (force === \"1\") {\n",
       "          display_loaded();\n",
       "        }} else if (Date.now() < window._bokeh_timeout) {\n",
       "        setTimeout(run_inline_js, 100);\n",
       "      } else if (!window._bokeh_failed_load) {\n",
       "        console.log(\"Bokeh: BokehJS failed to load within specified timeout.\");\n",
       "        window._bokeh_failed_load = true;\n",
       "      } else if (!force) {\n",
       "        var cell = $(\"#7646a135-aa7e-4f15-9ac6-e2172d02807b\").parents('.cell').data().cell;\n",
       "        cell.output_area.append_execute_result(NB_LOAD_WARNING)\n",
       "      }\n",
       "  \n",
       "    }\n",
       "  \n",
       "    if (window._bokeh_is_loading === 0) {\n",
       "      console.log(\"Bokeh: BokehJS loaded, going straight to plotting\");\n",
       "      run_inline_js();\n",
       "    } else {\n",
       "      load_libs(js_urls, function() {\n",
       "        console.log(\"Bokeh: BokehJS plotting callback run at\", now());\n",
       "        run_inline_js();\n",
       "      });\n",
       "    }\n",
       "  }(this));\n",
       "</script>"
      ]
     },
     "metadata": {},
     "output_type": "display_data"
    }
   ],
   "source": [
    "# Plotining using bokeh\n",
    "#TOOLS = [BoxSelectTool(), HoverTool()]\n",
    "#TOOLS = 'hover,box_zoom,box_select,crosshair,resize,reset,lasso_select,pan,save,poly_select,tap,wheel_zoom,undo'\n",
    "TOOLS = 'box_zoom,box_select,crosshair,resize,reset,lasso_select,pan,save,poly_select,tap,wheel_zoom,undo'\n",
    "p = figure(plot_width=500, plot_height=500, tools=TOOLS)\n",
    "p.scatter(Y, predicted,x=\"jjj\", marker=\"o\", color=\"#80B1D3\", line_width=3)\n",
    "p.title.align = \"center\"\n",
    "p.xaxis.axis_label = \"Measured\"\n",
    "p.xaxis.axis_label_text_color = \"#aa6666\"\n",
    "#p.xaxis.axis_label_standoff = 30\n",
    "p.xaxis.major_tick_line_color = \"firebrick\"\n",
    "p.xaxis.major_tick_line_width = 3\n",
    "p.xaxis.minor_tick_line_color = \"orange\"\n",
    "p.yaxis.axis_label = \"Predicted\"\n",
    "p.yaxis.axis_label_text_font_style = \"italic\"\n",
    "p.yaxis.axis_label_text_color = \"#aa6666\"\n",
    "p.background_fill_color = \"beige\"\n",
    "p.background_fill_alpha = 0.5\n",
    "#p.line([Y.min(), Y.max()], [Y.min(), Y.max()], line_dash=\"4 4\", line_width=2, color='red')\n",
    "\n",
    "# create a new plot with the toolbar below\n",
    "# line_dash=\"4 4\", line_width=2, color='red'\n",
    "p.line([Y.min(), Y.max()], [Y.min(), Y.max()], line_dash=\"4 4\", line_width=2, line_color=\"black\")\n",
    "show(p)"
   ]
  },
  {
   "cell_type": "code",
   "execution_count": 23,
   "metadata": {
    "collapsed": false
   },
   "outputs": [
    {
     "data": {
      "text/plain": [
       "<matplotlib.text.Text at 0x7f9e1c313250>"
      ]
     },
     "execution_count": 23,
     "metadata": {},
     "output_type": "execute_result"
    },
    {
     "data": {
      "image/png": "[encoded data removed]",
      "text/plain": [
       "<matplotlib.figure.Figure at 0x7f9e211c6790>"
      ]
     },
     "metadata": {},
     "output_type": "display_data"
    }
   ],
   "source": [
    "plt.scatter(predicted, (predicted - Y), c='r', s=30)\n",
    "plt.title(\"Residual plot on the training data\")\n",
    "plt.xlabel(\"Predicted\")\n",
    "plt.ylabel(\"Residuals\")"
   ]
  },
  {
   "cell_type": "code",
   "execution_count": 24,
   "metadata": {
    "collapsed": false
   },
   "outputs": [
    {
     "data": {
      "text/html": [
       "\n",
       "\n",
       "    <div class=\"bk-root\">\n",
       "        <div class=\"plotdiv\" id=\"38f7d1b1-334f-4469-9c00-aac4beced66f\"></div>\n",
       "    </div>\n",
       "<script type=\"text/javascript\">\n",
       "  \n",
       "  (function(global) {\n",
       "    function now() {\n",
       "      return new Date();\n",
       "    }\n",
       "  \n",
       "    var force = \"\";\n",
       "  \n",
       "    if (typeof (window._bokeh_onload_callbacks) === \"undefined\" || force !== \"\") {\n",
       "      window._bokeh_onload_callbacks = [];\n",
       "      window._bokeh_is_loading = undefined;\n",
       "    }\n",
       "  \n",
       "  \n",
       "    \n",
       "    if (typeof (window._bokeh_timeout) === \"undefined\" || force !== \"\") {\n",
       "      window._bokeh_timeout = Date.now() + 0;\n",
       "      window._bokeh_failed_load = false;\n",
       "    }\n",
       "  \n",
       "    var NB_LOAD_WARNING = {'data': {'text/html':\n",
       "       \"<div style='background-color: #fdd'>\\n\"+\n",
       "       \"<p>\\n\"+\n",
       "       \"BokehJS does not appear to have successfully loaded. If loading BokehJS from CDN, this \\n\"+\n",
       "       \"may be due to a slow or bad network connection. Possible fixes:\\n\"+\n",
       "       \"</p>\\n\"+\n",
       "       \"<ul>\\n\"+\n",
       "       \"<li>re-rerun `output_notebook()` to attempt to load from CDN again, or</li>\\n\"+\n",
       "       \"<li>use INLINE resources instead, as so:</li>\\n\"+\n",
       "       \"</ul>\\n\"+\n",
       "       \"<code>\\n\"+\n",
       "       \"from bokeh.resources import INLINE\\n\"+\n",
       "       \"output_notebook(resources=INLINE)\\n\"+\n",
       "       \"</code>\\n\"+\n",
       "       \"</div>\"}};\n",
       "  \n",
       "    function display_loaded() {\n",
       "      if (window.Bokeh !== undefined) {\n",
       "        Bokeh.$(\"#38f7d1b1-334f-4469-9c00-aac4beced66f\").text(\"BokehJS successfully loaded.\");\n",
       "      } else if (Date.now() < window._bokeh_timeout) {\n",
       "        setTimeout(display_loaded, 100)\n",
       "      }\n",
       "    }\n",
       "  \n",
       "    function run_callbacks() {\n",
       "      window._bokeh_onload_callbacks.forEach(function(callback) { callback() });\n",
       "      delete window._bokeh_onload_callbacks\n",
       "      console.info(\"Bokeh: all callbacks have finished\");\n",
       "    }\n",
       "  \n",
       "    function load_libs(js_urls, callback) {\n",
       "      window._bokeh_onload_callbacks.push(callback);\n",
       "      if (window._bokeh_is_loading > 0) {\n",
       "        console.log(\"Bokeh: BokehJS is being loaded, scheduling callback at\", now());\n",
       "        return null;\n",
       "      }\n",
       "      if (js_urls == null || js_urls.length === 0) {\n",
       "        run_callbacks();\n",
       "        return null;\n",
       "      }\n",
       "      console.log(\"Bokeh: BokehJS not loaded, scheduling load and callback at\", now());\n",
       "      window._bokeh_is_loading = js_urls.length;\n",
       "      for (var i = 0; i < js_urls.length; i++) {\n",
       "        var url = js_urls[i];\n",
       "        var s = document.createElement('script');\n",
       "        s.src = url;\n",
       "        s.async = false;\n",
       "        s.onreadystatechange = s.onload = function() {\n",
       "          window._bokeh_is_loading--;\n",
       "          if (window._bokeh_is_loading === 0) {\n",
       "            console.log(\"Bokeh: all BokehJS libraries loaded\");\n",
       "            run_callbacks()\n",
       "          }\n",
       "        };\n",
       "        s.onerror = function() {\n",
       "          console.warn(\"failed to load library \" + url);\n",
       "        };\n",
       "        console.log(\"Bokeh: injecting script tag for BokehJS library: \", url);\n",
       "        document.getElementsByTagName(\"head\")[0].appendChild(s);\n",
       "      }\n",
       "    };var element = document.getElementById(\"38f7d1b1-334f-4469-9c00-aac4beced66f\");\n",
       "    if (element == null) {\n",
       "      console.log(\"Bokeh: ERROR: autoload.js configured with elementid '38f7d1b1-334f-4469-9c00-aac4beced66f' but no matching script tag was found. \")\n",
       "      return false;\n",
       "    }\n",
       "  \n",
       "    var js_urls = [];\n",
       "  \n",
       "    var inline_js = [\n",
       "      function(Bokeh) {\n",
       "        Bokeh.$(function() {\n",
       "            var docs_json = {\"433992c2-5e7d-45d3-b847-9acf6c13390e\":{\"roots\":{\"references\":[{\"attributes\":{\"plot\":{\"id\":\"400f397a-e046-457b-861a-9ef6258ba369\",\"subtype\":\"Figure\",\"type\":\"Plot\"}},\"id\":\"b6e4be7b-8d93-4819-960c-21568888abaf\",\"type\":\"UndoTool\"},{\"attributes\":{},\"id\":\"3947191b-adf3-49e9-a271-dac5ae9f93bd\",\"type\":\"BasicTicker\"},{\"attributes\":{\"data_source\":{\"id\":\"ca12ee66-3136-416d-900b-78838d8a5a5f\",\"type\":\"ColumnDataSource\"},\"glyph\":{\"id\":\"20d967b9-3f02-4d26-a9ca-a7ea6bd89f05\",\"type\":\"Circle\"},\"hover_glyph\":null,\"nonselection_glyph\":{\"id\":\"8a719712-4ae1-4ac6-a886-1cce3c362641\",\"type\":\"Circle\"},\"selection_glyph\":null},\"id\":\"accb72d2-bf44-4a49-bbe5-3d3115489a79\",\"type\":\"GlyphRenderer\"},{\"attributes\":{\"dimension\":1,\"plot\":{\"id\":\"400f397a-e046-457b-861a-9ef6258ba369\",\"subtype\":\"Figure\",\"type\":\"Plot\"},\"ticker\":{\"id\":\"c9798e29-4bf5-4b26-940e-92dad2a789d4\",\"type\":\"BasicTicker\"}},\"id\":\"6a66619b-86bb-4fee-95a3-a191b2932af1\",\"type\":\"Grid\"},{\"attributes\":{},\"id\":\"b4117f0c-96b8-45f5-a948-f46bd5b246db\",\"type\":\"BasicTickFormatter\"},{\"attributes\":{},\"id\":\"ad0827e1-aedd-4fb9-8502-28e02c01f08d\",\"type\":\"ToolEvents\"},{\"attributes\":{\"bottom_units\":\"screen\",\"fill_alpha\":{\"value\":0.5},\"fill_color\":{\"value\":\"lightgrey\"},\"left_units\":\"screen\",\"level\":\"overlay\",\"line_alpha\":{\"value\":1.0},\"line_color\":{\"value\":\"black\"},\"line_dash\":[4,4],\"line_width\":{\"value\":2},\"plot\":null,\"render_mode\":\"css\",\"right_units\":\"screen\",\"top_units\":\"screen\"},\"id\":\"97943f28-c907-4652-8156-d12b4521f398\",\"type\":\"BoxAnnotation\"},{\"attributes\":{\"fill_alpha\":{\"value\":0.1},\"fill_color\":{\"value\":\"#1f77b4\"},\"line_alpha\":{\"value\":0.1},\"line_color\":{\"value\":\"#1f77b4\"},\"line_width\":{\"value\":3},\"x\":{\"field\":\"x\"},\"y\":{\"field\":\"y\"}},\"id\":\"8a719712-4ae1-4ac6-a886-1cce3c362641\",\"type\":\"Circle\"},{\"attributes\":{\"plot\":{\"id\":\"400f397a-e046-457b-861a-9ef6258ba369\",\"subtype\":\"Figure\",\"type\":\"Plot\"}},\"id\":\"2d033a70-7b38-4e90-8c7c-e66f78f866a9\",\"type\":\"CrosshairTool\"},{\"attributes\":{\"callback\":null,\"overlay\":{\"id\":\"576ff17f-7fa1-4b3e-873b-d21fe8ac14e0\",\"type\":\"PolyAnnotation\"},\"plot\":{\"id\":\"400f397a-e046-457b-861a-9ef6258ba369\",\"subtype\":\"Figure\",\"type\":\"Plot\"}},\"id\":\"ff3d9ec3-5abd-4166-a1e5-4e53805b7852\",\"type\":\"LassoSelectTool\"},{\"attributes\":{\"plot\":{\"id\":\"400f397a-e046-457b-861a-9ef6258ba369\",\"subtype\":\"Figure\",\"type\":\"Plot\"},\"ticker\":{\"id\":\"3947191b-adf3-49e9-a271-dac5ae9f93bd\",\"type\":\"BasicTicker\"}},\"id\":\"4370c91c-7e97-4ae6-8c73-c190e7b56cb3\",\"type\":\"Grid\"},{\"attributes\":{},\"id\":\"c9798e29-4bf5-4b26-940e-92dad2a789d4\",\"type\":\"BasicTicker\"},{\"attributes\":{\"callback\":null},\"id\":\"4ce8c0d6-20f1-432b-a9a9-97c4e5021323\",\"type\":\"DataRange1d\"},{\"attributes\":{\"overlay\":{\"id\":\"97943f28-c907-4652-8156-d12b4521f398\",\"type\":\"BoxAnnotation\"},\"plot\":{\"id\":\"400f397a-e046-457b-861a-9ef6258ba369\",\"subtype\":\"Figure\",\"type\":\"Plot\"}},\"id\":\"b3502563-1958-474c-9a03-12359173eab5\",\"type\":\"BoxZoomTool\"},{\"attributes\":{\"plot\":{\"id\":\"400f397a-e046-457b-861a-9ef6258ba369\",\"subtype\":\"Figure\",\"type\":\"Plot\"}},\"id\":\"eb59b33a-3d96-4080-a416-43d5b8670586\",\"type\":\"PanTool\"},{\"attributes\":{\"fill_alpha\":{\"value\":0.5},\"fill_color\":{\"value\":\"lightgrey\"},\"level\":\"overlay\",\"line_alpha\":{\"value\":1.0},\"line_color\":{\"value\":\"black\"},\"line_dash\":[4,4],\"line_width\":{\"value\":2},\"plot\":null,\"xs_units\":\"screen\",\"ys_units\":\"screen\"},\"id\":\"576ff17f-7fa1-4b3e-873b-d21fe8ac14e0\",\"type\":\"PolyAnnotation\"},{\"attributes\":{\"active_drag\":\"auto\",\"active_scroll\":\"auto\",\"active_tap\":\"auto\",\"tools\":[{\"id\":\"b3502563-1958-474c-9a03-12359173eab5\",\"type\":\"BoxZoomTool\"},{\"id\":\"e76b3b25-3b36-4b29-8f4a-e6cf4022ca77\",\"type\":\"BoxSelectTool\"},{\"id\":\"2d033a70-7b38-4e90-8c7c-e66f78f866a9\",\"type\":\"CrosshairTool\"},{\"id\":\"17e027d1-899f-4888-82cb-fb973b8040eb\",\"type\":\"ResizeTool\"},{\"id\":\"d6b09421-bb4a-4cfb-af40-1acc25ec6d83\",\"type\":\"ResetTool\"},{\"id\":\"ff3d9ec3-5abd-4166-a1e5-4e53805b7852\",\"type\":\"LassoSelectTool\"},{\"id\":\"eb59b33a-3d96-4080-a416-43d5b8670586\",\"type\":\"PanTool\"},{\"id\":\"fb06a649-86a6-4c53-af31-851833c0b6a7\",\"type\":\"SaveTool\"},{\"id\":\"d1c3a0a5-dc0b-482f-ad81-350cc78dc9d7\",\"type\":\"PolySelectTool\"},{\"id\":\"27f425d3-9775-4823-841a-db74a4322c32\",\"type\":\"TapTool\"},{\"id\":\"28d8ba65-5f3d-4316-ad9f-884de3bc9f70\",\"type\":\"WheelZoomTool\"},{\"id\":\"b6e4be7b-8d93-4819-960c-21568888abaf\",\"type\":\"UndoTool\"}]},\"id\":\"5515ecff-a570-45e4-9aeb-5e0cd8ea8886\",\"type\":\"Toolbar\"},{\"attributes\":{\"plot\":{\"id\":\"400f397a-e046-457b-861a-9ef6258ba369\",\"subtype\":\"Figure\",\"type\":\"Plot\"}},\"id\":\"fb06a649-86a6-4c53-af31-851833c0b6a7\",\"type\":\"SaveTool\"},{\"attributes\":{\"callback\":null},\"id\":\"ceee0b10-077f-460d-bd2f-a10bbe87af21\",\"type\":\"DataRange1d\"},{\"attributes\":{\"plot\":{\"id\":\"400f397a-e046-457b-861a-9ef6258ba369\",\"subtype\":\"Figure\",\"type\":\"Plot\"}},\"id\":\"17e027d1-899f-4888-82cb-fb973b8040eb\",\"type\":\"ResizeTool\"},{\"attributes\":{\"plot\":{\"id\":\"400f397a-e046-457b-861a-9ef6258ba369\",\"subtype\":\"Figure\",\"type\":\"Plot\"}},\"id\":\"d6b09421-bb4a-4cfb-af40-1acc25ec6d83\",\"type\":\"ResetTool\"},{\"attributes\":{\"align\":\"center\",\"plot\":null,\"text\":\"Residual plot on the training data\"},\"id\":\"1e0898b1-e07d-4809-b48e-522fa78987b2\",\"type\":\"Title\"},{\"attributes\":{\"plot\":{\"id\":\"400f397a-e046-457b-861a-9ef6258ba369\",\"subtype\":\"Figure\",\"type\":\"Plot\"}},\"id\":\"28d8ba65-5f3d-4316-ad9f-884de3bc9f70\",\"type\":\"WheelZoomTool\"},{\"attributes\":{\"axis_label\":\"Residuals\",\"axis_label_text_color\":{\"value\":\"#aa6666\"},\"formatter\":{\"id\":\"1797abec-561a-4e4a-a204-2e6129db244c\",\"type\":\"BasicTickFormatter\"},\"plot\":{\"id\":\"400f397a-e046-457b-861a-9ef6258ba369\",\"subtype\":\"Figure\",\"type\":\"Plot\"},\"ticker\":{\"id\":\"c9798e29-4bf5-4b26-940e-92dad2a789d4\",\"type\":\"BasicTicker\"}},\"id\":\"ca1a2f92-f63a-46fa-afaa-34114b833b60\",\"type\":\"LinearAxis\"},{\"attributes\":{\"callback\":null,\"plot\":{\"id\":\"400f397a-e046-457b-861a-9ef6258ba369\",\"subtype\":\"Figure\",\"type\":\"Plot\"}},\"id\":\"27f425d3-9775-4823-841a-db74a4322c32\",\"type\":\"TapTool\"},{\"attributes\":{\"fill_color\":{\"value\":\"#80B1D3\"},\"line_color\":{\"value\":\"#80B1D3\"},\"line_width\":{\"value\":3},\"x\":{\"field\":\"x\"},\"y\":{\"field\":\"y\"}},\"id\":\"20d967b9-3f02-4d26-a9ca-a7ea6bd89f05\",\"type\":\"Circle\"},{\"attributes\":{\"callback\":null,\"overlay\":{\"id\":\"7abe2fc5-f52b-49fe-b701-b24c9a971c7c\",\"type\":\"BoxAnnotation\"},\"plot\":{\"id\":\"400f397a-e046-457b-861a-9ef6258ba369\",\"subtype\":\"Figure\",\"type\":\"Plot\"},\"renderers\":[{\"id\":\"accb72d2-bf44-4a49-bbe5-3d3115489a79\",\"type\":\"GlyphRenderer\"}]},\"id\":\"e76b3b25-3b36-4b29-8f4a-e6cf4022ca77\",\"type\":\"BoxSelectTool\"},{\"attributes\":{\"callback\":null,\"column_names\":[\"x\",\"y\"],\"data\":{\"x\":[13.748487161720092,27.76422465936946,32.91309929402922,29.96767835889625,32.612191433892576,35.536692623246324,29.815447491843315,20.480593936711983,30.320545888646336,34.37318039612734,23.307124510141136,12.63887725591286,26.21122881156498,31.713547803887025,31.136165110285788,18.11917945140138,21.35855243403506,27.773773209526155,22.136232723608884,12.955873774605365,23.153764478876894,37.380413369278926,23.822850026646307,23.888313076383724,39.56185146048068,25.011318928973424,24.81080320589814,14.790472563457655,14.924628192824464,20.95700769833377,24.344287981874572,29.039635059012653,16.256975192150747,35.730212925614865,25.209943932372653,23.638633822912425,34.59716366450061,13.526749660425423,16.019623810621596,34.846162336108705,15.157209507009227,23.962196542637287,13.744484475193758,23.824449795413557,17.0853957888919,19.85653039869902,32.91256614578799,32.13806857293366,27.835696701672077,24.67148035534774,15.29486587816541,29.198629860649476,19.760758411933466,19.31609068765954,36.80178142817647,45.9392343388883,36.16496772228368,20.957693934276676,30.984868844361017,18.828811117932332,23.703388359729047,24.839447546807264,23.69918252238358,12.629621039558522,36.582001500627655,29.088166761765706,13.522565275730017,13.203864810064886,29.054192835929797,18.968684757279334,27.554090794267182,24.074343043967076,15.031468305296073,14.12640536328064,23.403346669302323,20.06529816022936,27.397632296483266,19.882755223540443,21.735487995536545,15.957926147276737,22.9400734986215,37.67605471065076,15.881097970697738,18.09317046968036,29.56865915758229,17.7595368410272,13.247194981390749,25.263310190850362,27.681500571483355,19.543286405261682,32.26296737589486,27.834582232141713,15.110327184297603,34.75009278627732,26.947302711106886,21.41849344911381,30.975328604779463,15.2168214428115,36.812978081391805,14.411276842587,13.199822528149518,34.20167608014357,20.849874096021594,24.493221359259593,25.510587164241457,31.42166983064422,17.75459929043862,20.894960952567686,26.15174519069339,40.90662849394049,33.77985328669058,12.892774293034421,15.604587004795548,15.819137588864749,13.875003084684408,19.948861819641905,22.717045868045105,27.769123606240527,14.017096600260473,24.275925824001007,29.934228779069116,28.00884316874064,19.70620091312726,26.345462637058546,27.487364209199825,17.195083850091976,30.545164006760785,18.38476509125958,13.080710834765357,20.779417777713263,35.10361926797768,11.801089944396137,31.399918301339653,30.100034337374666,13.348951431417035,26.399837613401886,18.08825425235952,24.18047051314886,26.479435005447357,23.039966183010662,13.075036457769599,26.965189802898017,21.846887366156693,25.990474555197395,33.26963084822765,18.929636376658493,24.53832766930516,13.313967643952576,25.223782635097805,16.10121272314214,36.7388845481114,29.475856137286037,18.17169578223698,15.143471375404062,12.70169921917362,15.484447309894847,25.86583854807904,16.54678890696323,34.620681680796366,25.720960434266345,25.284826229555733,15.087254322121339,15.434459360751234,26.29906500031197,23.797998484305282,22.569209150319978,14.165849301480733,18.13180909503592,21.369630541464744,27.117246989778522,13.519064794209228,21.789960573266683,41.007902178216156,28.781668266657675,32.260241120156564,20.766843018219134,13.005354304973288,30.05962329479371,27.198068344713462,34.107798077815204,25.517913759533855,26.557987933832976,19.13638800444724,32.893265023075,15.766729464737125,21.18278582587334,18.833581232957613,23.333224220869397,24.88285224092752,21.22241068995946,38.15229662393668,35.35375629135753,25.78751942501009,29.983192908807666,23.99738857756995,19.820542870360214,16.953659136427035,24.215241439357555,15.836462591511577,31.03685667851323,16.804070526006484,32.21727242012753,25.70567046206574,14.041566974772167,26.380555420304972,24.70463640337448,21.468625433218648,22.512467083694958,22.777401554844403,33.588917533582276,19.95304175063589,19.41352600202279,13.889837605846566,32.300952282427204,24.33751897888257,15.230869906204816,20.734265682894716,12.484498747214872,16.109470641363913,17.337712531565273,35.9207347286266,15.886952946367146,35.90119955576358,21.50366380774892,19.81762795137979,13.185798886177338,29.002513937561815,12.802234471108036,36.0652641062197,19.298461369923928,12.893400658099694,25.861275778601907,18.769050664552083,17.721812522674384,31.89323767375194,18.4226748406397,26.095053652631634,25.969139206538216,21.645983072143963,32.67590866648257,34.41123548295644,29.746845450785713,17.68483941209125,31.232195337505686,25.833106715567965,15.915542195910774,38.088989564644294,23.456529460000056,13.815772067815828,22.238469442140797,25.83543621250169,23.291153639177082,18.307314780521978,23.807835006406293,32.67998126223469,20.873563772555173,33.97351285119748,12.801735139931537,12.90613115298865,22.928715788107468,26.938328427138572,34.828888361460145,13.903123114449613,28.9971004151555,37.963850735759934,17.111130029688752,18.611545966130393,8.153594779149728,28.149930720450243,13.23224019153838,28.58002368950133,37.78482190464206,19.002798790713314,24.303541395100183,22.957020979105323,19.06270156119342,27.328780946594293,29.380034643390218,19.257997017147574,30.340971772752823,27.45571761167514,19.207459830622923,28.394919251171473,22.83152914489574,18.544502684973736,29.87614294940761,29.549788844647537,30.370407279518986,27.044972500831904,14.006591533360506,16.33149815712136,14.769673669227132,23.605069223975818,11.677759457145243,16.923616330565352,33.26595650641579,35.88276987754935,21.048281747575757,37.44672366844176,13.16575666802197,19.994600442868347,24.386529583866462,14.13610544249363,12.847431650720068,14.066182250839375,17.241198374490693,26.00773052887977,18.280480934870383,14.519708013252306,14.609082106772263,28.634418300537533,31.14068837035073,17.0737992249247,25.4852813604235,18.713645616573118,30.885937843256684,17.25760656806858,28.038121709303383],\"y\":[-1.2515128382799077,0.7642246593694608,-1.386900705970774,3.9676783588962508,1.0121914338925748,1.7366926232463271,0.8154474918433152,2.380593936711982,3.120545888646337,-3.6268196038726614,-2.6928754898588636,-1.3611227440871403,4.211228811564979,0.7135478038870247,-5.263834889714211,0.5191794514013779,3.6585524340350624,-0.22622679047384509,1.3362327236088838,-1.0441262253946348,2.953764478876895,4.580413369278929,1.5228500266463065,-4.111686923616276,2.561851460480682,-1.9886810710265763,1.61080320589814,1.790472563457655,-0.07537180717553582,-1.0429923016662315,0.3442879818745723,0.03963505901265307,3.2569751921507475,3.930212925614864,2.209943932372653,-1.8613661770875751,4.697163664500614,0.5267496604254234,-1.4803761893784042,-11.753837663891296,-0.3427904929907726,-8.937803457362712,-0.25551552480624196,-1.1755502045864432,-2.3146042111080973,4.856530398699022,0.5125661457879929,0.6380685729336619,0.8356967016720773,4.871480355347739,-1.7051341218345897,-4.301370139350524,-1.239241588066534,-3.683909312340461,-1.2982185718235328,1.9392343388882978,-4.63503227771632,-0.04230606572332363,1.9848688443610172,1.3288111179323323,-4.296611640270953,-1.1605524531927358,-2.3008174776164196,1.629621039558522,-1.117998499372348,4.8881667617657065,-2.4774347242699832,-2.7961351899351143,-0.945807164070203,-0.03131524272066599,0.5540907942671822,5.074343043967076,-0.9685316947039269,-1.8735946367193606,3.103346669302322,-0.9347018397706393,-6.102367703516734,-3.1172447764595574,0.23548799553654476,-0.04207385272326292,3.9400734986215014,0.6760547106507602,0.8810979706977378,2.0931704696803592,3.568659157582289,-0.24046315897280124,0.24719498139074858,4.263310190850362,-1.3184994285166454,-2.456713594738318,-0.7370326241051401,5.834582232141713,-0.8896728157023972,-1.249907213722679,6.947302711106886,-0.5815065508861892,-0.32467139522053756,0.7168214428115007,7.012978081391804,1.4112768425870001,0.19982252814951806,-1.7983239198564291,0.349874096021594,-0.5067786407404071,-1.489412835758543,-1.5783301693557803,1.2545992904386196,0.29496095256768484,-3.84825480930661,-2.4933715060595105,-0.9201467133094212,1.892774293034421,-2.3954129952044525,2.8191375888647485,-2.1249969153155917,0.9488618196419054,-0.28295413195489516,2.2691236062405267,0.017096600260472883,-0.22407417599899304,-0.06577122093088406,2.208843168740639,-18.29379908687274,-2.454537362941455,0.8873642091998235,0.19508385009197582,-1.4548359932392145,0.2847650912595796,2.080710834765357,-0.22058222228673685,-0.8963807320223225,-1.1989100556038625,1.3999183013396532,-0.8999656626253341,-0.651048568582965,8.399837613401886,5.088254252359519,2.5804705131488603,-1.5205649945526432,-0.7600338169893384,-0.924963542230401,-0.034810197101982965,1.6468873661566938,-0.00952544480260542,-6.130369151772349,-0.9703636233415054,5.538327669305161,-0.6860323560474235,1.623782635097804,3.1012127231421402,-1.2611154518885996,-1.024143862713963,-0.3283042177630193,-1.8565286245959385,0.7016992191736193,-0.515552690105153,-2.13416145192096,1.0467889069632292,2.620681680796366,1.7209604342663454,0.1848262295557319,-0.9127456778786609,2.4344593607512337,2.2990650003119697,1.7979984843052819,-1.4307908496800223,-0.8341506985192666,-0.8681909049640808,3.369630541464744,-0.0827530102214773,-0.48093520579077165,0.7899605732666828,-3.292097821783841,0.7816682666576753,0.7602411201565644,1.566843018219135,-0.994645695026712,-0.44037670520629035,-2.6019316552865384,-1.9922019221847975,-1.2820862404661462,0.5579879338329761,-1.363611995552759,0.7932650230750014,-0.233270535262875,4.182785825873339,-1.1664187670423871,1.333224220869397,-0.11714775907248054,-2.6775893100405384,7.152296623936678,-3.646243708642473,-2.212480574989911,-4.516807091192334,1.99738857756995,-0.7794571296397876,2.953659136427035,-1.1847585606424431,1.8364625915115766,1.0368566785132316,-2.195929473993516,-3.7827275798724713,0.7056704620657399,0.04156697477216653,5.280555420304971,-3.2953635966255206,2.468625433218648,3.412467083694956,-1.522598445155598,-11.011082466417726,-0.04695824936410986,2.4135260020227918,0.8898376058465658,-1.8990477175727989,-1.6624810211174292,-2.2691300937951837,-5.265734317105284,-0.5155012527851284,-1.890529358636087,-1.1622874684347266,-0.07926527137340145,-0.1130470536328545,-2.098800444236417,-1.4963361922510785,-0.6823720486202092,0.18579888617733786,1.0025139375618153,0.8022344711080365,1.9652641062196992,-0.7015386300760724,0.8934006580996936,-2.538724221398091,0.7690506645520827,-2.2781874773256163,2.3932376737519405,-0.5773251593602993,0.09505365263163412,-0.030860793461783942,-3.354016927856037,0.6759086664825702,0.7112354829564396,1.7468454507857132,-1.515160587908749,1.7321953375056864,-1.1668932844320352,0.9155421959107741,-1.0110104353557077,-3.143470539999946,0.8157720678158284,-0.7615305578592029,-1.6645637874983095,3.2911536391770824,-0.8926852194780217,-0.19216499359370687,0.47998126223468773,1.473563772555174,0.9735128511974835,0.8017351399315373,-0.09386884701135045,5.328715788107466,3.0383284271385733,0.428888361460146,-0.09687688555038676,-2.0028995848444993,2.8638507357599323,2.111130029688752,3.111545966130393,-0.8464052208502721,3.149930720450243,-4.767759808461619,-2.4199763104986687,-5.315178095357943,1.5027987907133138,-0.6964586048998171,-2.042979020894677,0.06270156119342118,1.3287809465942928,-1.6199653566097822,1.0579970171475743,-0.3590282272471761,3.4557176116751407,2.2074598306229234,1.3949192511714728,-0.1684708551042604,0.544502684973736,2.676142949407609,-5.450211155352463,1.3704072795189859,5.5449725008319035,-0.9934084666394938,-1.1685018428786407,-0.23032633077286846,-9.094930776024185,1.6777594571452425,-3.076383669434648,0.8659565064157917,1.8827698775493502,3.048281747575757,5.446723668441763,-0.8342433319780298,-4.005399557131653,-2.0134704161335364,0.13610544249362988,-0.15256834927993168,1.0661822508393755,-1.2588016255093066,4.507730528879769,2.0804809348703834,-1.9802919867476945,-0.39091789322773707,0.5344183005375314,2.1406883703507305,-3.1262007750753007,-2.414718639576499,-3.2863543834268825,1.8859378432566842,-1.7423934319314185,3.0381217093033825]}},\"id\":\"ca12ee66-3136-416d-900b-78838d8a5a5f\",\"type\":\"ColumnDataSource\"},{\"attributes\":{},\"id\":\"1797abec-561a-4e4a-a204-2e6129db244c\",\"type\":\"BasicTickFormatter\"},{\"attributes\":{\"fill_alpha\":{\"value\":0.5},\"fill_color\":{\"value\":\"lightgrey\"},\"level\":\"overlay\",\"line_alpha\":{\"value\":1.0},\"line_color\":{\"value\":\"black\"},\"line_dash\":[4,4],\"line_width\":{\"value\":2},\"plot\":null,\"xs_units\":\"screen\",\"ys_units\":\"screen\"},\"id\":\"9b42b901-db86-4df4-9a8f-b87ea0c62719\",\"type\":\"PolyAnnotation\"},{\"attributes\":{\"bottom_units\":\"screen\",\"fill_alpha\":{\"value\":0.5},\"fill_color\":{\"value\":\"lightgrey\"},\"left_units\":\"screen\",\"level\":\"overlay\",\"line_alpha\":{\"value\":1.0},\"line_color\":{\"value\":\"black\"},\"line_dash\":[4,4],\"line_width\":{\"value\":2},\"plot\":null,\"render_mode\":\"css\",\"right_units\":\"screen\",\"top_units\":\"screen\"},\"id\":\"7abe2fc5-f52b-49fe-b701-b24c9a971c7c\",\"type\":\"BoxAnnotation\"},{\"attributes\":{\"overlay\":{\"id\":\"9b42b901-db86-4df4-9a8f-b87ea0c62719\",\"type\":\"PolyAnnotation\"},\"plot\":{\"id\":\"400f397a-e046-457b-861a-9ef6258ba369\",\"subtype\":\"Figure\",\"type\":\"Plot\"}},\"id\":\"d1c3a0a5-dc0b-482f-ad81-350cc78dc9d7\",\"type\":\"PolySelectTool\"},{\"attributes\":{\"axis_label\":\"Predicted\",\"axis_label_text_color\":{\"value\":\"#aa6666\"},\"formatter\":{\"id\":\"b4117f0c-96b8-45f5-a948-f46bd5b246db\",\"type\":\"BasicTickFormatter\"},\"major_tick_line_color\":{\"value\":\"firebrick\"},\"major_tick_line_width\":{\"value\":3},\"minor_tick_line_color\":{\"value\":\"orange\"},\"plot\":{\"id\":\"400f397a-e046-457b-861a-9ef6258ba369\",\"subtype\":\"Figure\",\"type\":\"Plot\"},\"ticker\":{\"id\":\"3947191b-adf3-49e9-a271-dac5ae9f93bd\",\"type\":\"BasicTicker\"}},\"id\":\"1bc6adab-3a07-4b0b-9a6a-2bef173698cd\",\"type\":\"LinearAxis\"},{\"attributes\":{\"background_fill_alpha\":{\"value\":0.5},\"background_fill_color\":{\"value\":\"beige\"},\"below\":[{\"id\":\"1bc6adab-3a07-4b0b-9a6a-2bef173698cd\",\"type\":\"LinearAxis\"}],\"left\":[{\"id\":\"ca1a2f92-f63a-46fa-afaa-34114b833b60\",\"type\":\"LinearAxis\"}],\"plot_height\":500,\"plot_width\":500,\"renderers\":[{\"id\":\"1bc6adab-3a07-4b0b-9a6a-2bef173698cd\",\"type\":\"LinearAxis\"},{\"id\":\"4370c91c-7e97-4ae6-8c73-c190e7b56cb3\",\"type\":\"Grid\"},{\"id\":\"ca1a2f92-f63a-46fa-afaa-34114b833b60\",\"type\":\"LinearAxis\"},{\"id\":\"6a66619b-86bb-4fee-95a3-a191b2932af1\",\"type\":\"Grid\"},{\"id\":\"97943f28-c907-4652-8156-d12b4521f398\",\"type\":\"BoxAnnotation\"},{\"id\":\"7abe2fc5-f52b-49fe-b701-b24c9a971c7c\",\"type\":\"BoxAnnotation\"},{\"id\":\"576ff17f-7fa1-4b3e-873b-d21fe8ac14e0\",\"type\":\"PolyAnnotation\"},{\"id\":\"9b42b901-db86-4df4-9a8f-b87ea0c62719\",\"type\":\"PolyAnnotation\"},{\"id\":\"accb72d2-bf44-4a49-bbe5-3d3115489a79\",\"type\":\"GlyphRenderer\"}],\"title\":{\"id\":\"1e0898b1-e07d-4809-b48e-522fa78987b2\",\"type\":\"Title\"},\"tool_events\":{\"id\":\"ad0827e1-aedd-4fb9-8502-28e02c01f08d\",\"type\":\"ToolEvents\"},\"toolbar\":{\"id\":\"5515ecff-a570-45e4-9aeb-5e0cd8ea8886\",\"type\":\"Toolbar\"},\"x_range\":{\"id\":\"ceee0b10-077f-460d-bd2f-a10bbe87af21\",\"type\":\"DataRange1d\"},\"y_range\":{\"id\":\"4ce8c0d6-20f1-432b-a9a9-97c4e5021323\",\"type\":\"DataRange1d\"}},\"id\":\"400f397a-e046-457b-861a-9ef6258ba369\",\"subtype\":\"Figure\",\"type\":\"Plot\"}],\"root_ids\":[\"400f397a-e046-457b-861a-9ef6258ba369\"]},\"title\":\"Bokeh Application\",\"version\":\"0.12.2\"}};\n",
       "            var render_items = [{\"docid\":\"433992c2-5e7d-45d3-b847-9acf6c13390e\",\"elementid\":\"38f7d1b1-334f-4469-9c00-aac4beced66f\",\"modelid\":\"400f397a-e046-457b-861a-9ef6258ba369\"}];\n",
       "            \n",
       "            Bokeh.embed.embed_items(docs_json, render_items);\n",
       "        });\n",
       "      },\n",
       "      function(Bokeh) {\n",
       "      }\n",
       "    ];\n",
       "  \n",
       "    function run_inline_js() {\n",
       "      \n",
       "      if ((window.Bokeh !== undefined) || (force === \"1\")) {\n",
       "        for (var i = 0; i < inline_js.length; i++) {\n",
       "          inline_js[i](window.Bokeh);\n",
       "        }if (force === \"1\") {\n",
       "          display_loaded();\n",
       "        }} else if (Date.now() < window._bokeh_timeout) {\n",
       "        setTimeout(run_inline_js, 100);\n",
       "      } else if (!window._bokeh_failed_load) {\n",
       "        console.log(\"Bokeh: BokehJS failed to load within specified timeout.\");\n",
       "        window._bokeh_failed_load = true;\n",
       "      } else if (!force) {\n",
       "        var cell = $(\"#38f7d1b1-334f-4469-9c00-aac4beced66f\").parents('.cell').data().cell;\n",
       "        cell.output_area.append_execute_result(NB_LOAD_WARNING)\n",
       "      }\n",
       "  \n",
       "    }\n",
       "  \n",
       "    if (window._bokeh_is_loading === 0) {\n",
       "      console.log(\"Bokeh: BokehJS loaded, going straight to plotting\");\n",
       "      run_inline_js();\n",
       "    } else {\n",
       "      load_libs(js_urls, function() {\n",
       "        console.log(\"Bokeh: BokehJS plotting callback run at\", now());\n",
       "        run_inline_js();\n",
       "      });\n",
       "    }\n",
       "  }(this));\n",
       "</script>"
      ]
     },
     "metadata": {},
     "output_type": "display_data"
    }
   ],
   "source": [
    "# Plotining using bokeh\n",
    "#TOOLS = 'hover,box_zoom,box_select,crosshair,resize,reset,lasso_select,pan,save,poly_select,tap,wheel_zoom,undo'\n",
    "TOOLS = 'box_zoom,box_select,crosshair,resize,reset,lasso_select,pan,save,poly_select,tap,wheel_zoom,undo'\n",
    "p = figure(plot_width=500, plot_height=500, title=\"Residual plot on the training data\", tools=TOOLS)\n",
    "p.scatter(predicted, (predicted - Y),x=\"jjj\", marker=\"o\", color=\"#80B1D3\", line_width=3)\n",
    "p.title.align = \"center\"\n",
    "p.xaxis.axis_label = \"Predicted\"\n",
    "p.xaxis.axis_label_text_color = \"#aa6666\"\n",
    "#p.xaxis.axis_label_standoff = 30\n",
    "p.xaxis.major_tick_line_color = \"firebrick\"\n",
    "p.xaxis.major_tick_line_width = 3\n",
    "p.xaxis.minor_tick_line_color = \"orange\"\n",
    "p.yaxis.axis_label = \"Residuals\"\n",
    "p.yaxis.axis_label_text_font_style = \"italic\"\n",
    "p.yaxis.axis_label_text_color = \"#aa6666\"\n",
    "p.background_fill_color = \"beige\"\n",
    "p.background_fill_alpha = 0.5\n",
    "#p.line([2,38], [0, 0], line_dash=\"4 4\", line_width=2, color='red')\n",
    "show(p)"
   ]
  },
  {
   "cell_type": "markdown",
   "metadata": {},
   "source": [
    "## Pipeline"
   ]
  },
  {
   "cell_type": "markdown",
   "metadata": {},
   "source": [
    "The best to deliver the model by pipeline the operation then at deployment can be done in one model."
   ]
  },
  {
   "cell_type": "markdown",
   "metadata": {
    "collapsed": true
   },
   "source": [
    "  I used two ways to check the pipeline so any one can be fine"
   ]
  },
  {
   "cell_type": "code",
   "execution_count": 25,
   "metadata": {
    "collapsed": false
   },
   "outputs": [
    {
     "name": "stdout",
     "output_type": "stream",
     "text": [
      "0.922954849042\n",
      "Scoring according to mean_squared_error\n",
      "[ -5.94942104 -13.39898067  -8.53210099 -14.41823335  -6.98122576\n",
      "  -4.83285511  -9.41075731  -2.437052    -6.51085225  -8.8098347 ]\n",
      "\n",
      " Mean      Standard deviation\n",
      "-8.13      3.49\n",
      "[ True  True  True  True  True  True  True]\n",
      "R-squared =  0.922954849042\n"
     ]
    }
   ],
   "source": [
    "# Use Pipeline\n",
    "# ANOVA \n",
    "from sklearn.pipeline import Pipeline\n",
    "from sklearn.feature_selection import SelectKBest, f_regression\n",
    "anova_filter = SelectKBest(f_regression, k=7)\n",
    "LRR = KernelRidge(kernel='rbf', gamma=0.052, alpha =  0.0216)\n",
    "anova_LinReg = Pipeline([('scaler_Input',scaler), ('anova', anova_filter), ('LinReg', LRR)])\n",
    "# You can set the parameters using the names issued\n",
    "# For instance, fit using a k of 10 in the SelectKBest\n",
    "anova_LinReg.set_params(anova__k=7).fit(new_data, Y)\n",
    "prediction = anova_LinReg.predict(new_data)\n",
    "print anova_LinReg.score(new_data, Y)                        \n",
    "# getting the selected features chosen by anova_filter\n",
    "results = cross_validation.cross_val_score(anova_LinReg, new_data, Y, cv=kfold, scoring=scoring)\n",
    "print 'Scoring according to mean_squared_error'\n",
    "print results\n",
    "print '\\n Mean      Standard deviation'\n",
    "print(\"%.2f      %.2f\" % (results.mean(), results.std()))\n",
    "print anova_LinReg.named_steps['anova'].get_support()\n",
    "r_squared = r2_score(Y, prediction, multioutput='variance_weighted')\n",
    "print 'R-squared = ',r_squared"
   ]
  },
  {
   "cell_type": "code",
   "execution_count": 26,
   "metadata": {
    "collapsed": false
   },
   "outputs": [
    {
     "name": "stdout",
     "output_type": "stream",
     "text": [
      "R-squared =  0.922954849042\n"
     ]
    }
   ],
   "source": [
    "# Using make_pipeline\n",
    "from sklearn.pipeline import make_pipeline\n",
    "\n",
    "# ANOVA SVM-C\n",
    "# 1) anova filter, take 3 best ranked features\n",
    "anova_filter = SelectKBest(f_regression, k=7)\n",
    "anova_KernelRidge = make_pipeline(scaler, anova_filter, LRR)\n",
    "anova_KernelRidge.fit(new_data, Y)\n",
    "prediction = anova_KernelRidge.predict(new_data)\n",
    "r_squared = r2_score(Y, prediction, multioutput='variance_weighted')\n",
    "print 'R-squared = ',r_squared"
   ]
  },
  {
   "cell_type": "markdown",
   "metadata": {},
   "source": [
    "### Save the Pipeline model for developement"
   ]
  },
  {
   "cell_type": "code",
   "execution_count": 27,
   "metadata": {
    "collapsed": false
   },
   "outputs": [
    {
     "data": {
      "text/plain": [
       "['anova_KernelRidge.pkl',\n",
       " 'anova_KernelRidge.pkl_01.npy',\n",
       " 'anova_KernelRidge.pkl_02.npy',\n",
       " 'anova_KernelRidge.pkl_03.npy',\n",
       " 'anova_KernelRidge.pkl_04.npy',\n",
       " 'anova_KernelRidge.pkl_05.npy',\n",
       " 'anova_KernelRidge.pkl_06.npy',\n",
       " 'anova_KernelRidge.pkl_07.npy']"
      ]
     },
     "execution_count": 27,
     "metadata": {},
     "output_type": "execute_result"
    }
   ],
   "source": [
    "# save the model scaler to the desk\n",
    "from sklearn.externals import joblib\n",
    "joblib.dump(anova_KernelRidge, 'anova_KernelRidge.pkl') "
   ]
  },
  {
   "cell_type": "code",
   "execution_count": 28,
   "metadata": {
    "collapsed": false
   },
   "outputs": [
    {
     "name": "stdout",
     "output_type": "stream",
     "text": [
      " =================================================================>>>>> done\n",
      "R-squared =  0.922954849042\n"
     ]
    }
   ],
   "source": [
    "# Test the model if it is work\n",
    "anova_KernelRidgeTest = joblib.load('anova_KernelRidge.pkl')\n",
    "NewPred = anova_KernelRidgeTest.predict(new_data)\n",
    "print \" =================================================================>>>>> done\"\n",
    "r_squared = r2_score(Y, NewPred, multioutput='variance_weighted')\n",
    "print 'R-squared = ',r_squared"
   ]
  },
  {
   "cell_type": "code",
   "execution_count": 29,
   "metadata": {
    "collapsed": false
   },
   "outputs": [
    {
     "name": "stdout",
     "output_type": "stream",
     "text": [
      "Point of training data before normalization\n",
      "[  4.00000000e+00   9.70000000e+01   5.10000000e+01   2.13000000e+03\n",
      "   2.46000000e+01   8.20000000e+01   2.00000000e+00]\n",
      "\n",
      "The read target of the data =  44.0\n",
      "\n",
      "The Predicted target of the data =  [ 44.59150165]\n"
     ]
    }
   ],
   "source": [
    "# test on single data point, randomly choose point number 55\n",
    "print 'Point of training data before normalization\\n',new_data[55]\n",
    "print '\\nThe read target of the data = ', Y[55]\n",
    "NewPred = anova_KernelRidgeTest.predict([new_data[55]])\n",
    "print '\\nThe Predicted target of the data = ', NewPred"
   ]
  },
  {
   "cell_type": "markdown",
   "metadata": {},
   "source": [
    "## Conclusion "
   ]
  }
 ],
 "metadata": {
  "kernelspec": {
   "display_name": "Python 2",
   "language": "python",
   "name": "python2"
  },
  "language_info": {
   "codemirror_mode": {
    "name": "ipython",
    "version": 2
   },
   "file_extension": ".py",
   "mimetype": "text/x-python",
   "name": "python",
   "nbconvert_exporter": "python",
   "pygments_lexer": "ipython2",
   "version": "2.7.12"
  }
 },
 "nbformat": 4,
 "nbformat_minor": 0
}
