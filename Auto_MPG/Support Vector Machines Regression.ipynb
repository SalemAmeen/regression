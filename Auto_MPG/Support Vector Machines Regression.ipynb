{
 "cells": [
  {
   "cell_type": "markdown",
   "metadata": {},
   "source": [
    "Salem Ameen, PhD student at Salford University\n",
    "\n",
    "### Auto MPG\n",
    "\n",
    "Support Vector Machines Regression"
   ]
  },
  {
   "cell_type": "markdown",
   "metadata": {},
   "source": [
    "# Import the Libraries"
   ]
  },
  {
   "cell_type": "code",
   "execution_count": 1,
   "metadata": {
    "collapsed": false
   },
   "outputs": [
    {
     "data": {
      "text/html": [
       "\n",
       "    <div class=\"bk-root\">\n",
       "        <a href=\"http://bokeh.pydata.org\" target=\"_blank\" class=\"bk-logo bk-logo-small bk-logo-notebook\"></a>\n",
       "        <span id=\"55b05fb2-9e7e-43e3-ad55-e7e8890ff17d\">Loading BokehJS ...</span>\n",
       "    </div>"
      ]
     },
     "metadata": {},
     "output_type": "display_data"
    },
    {
     "data": {
      "application/javascript": [
       "\n",
       "(function(global) {\n",
       "  function now() {\n",
       "    return new Date();\n",
       "  }\n",
       "\n",
       "  var force = \"1\";\n",
       "\n",
       "  if (typeof (window._bokeh_onload_callbacks) === \"undefined\" || force !== \"\") {\n",
       "    window._bokeh_onload_callbacks = [];\n",
       "    window._bokeh_is_loading = undefined;\n",
       "  }\n",
       "\n",
       "\n",
       "  \n",
       "  if (typeof (window._bokeh_timeout) === \"undefined\" || force !== \"\") {\n",
       "    window._bokeh_timeout = Date.now() + 5000;\n",
       "    window._bokeh_failed_load = false;\n",
       "  }\n",
       "\n",
       "  var NB_LOAD_WARNING = {'data': {'text/html':\n",
       "     \"<div style='background-color: #fdd'>\\n\"+\n",
       "     \"<p>\\n\"+\n",
       "     \"BokehJS does not appear to have successfully loaded. If loading BokehJS from CDN, this \\n\"+\n",
       "     \"may be due to a slow or bad network connection. Possible fixes:\\n\"+\n",
       "     \"</p>\\n\"+\n",
       "     \"<ul>\\n\"+\n",
       "     \"<li>re-rerun `output_notebook()` to attempt to load from CDN again, or</li>\\n\"+\n",
       "     \"<li>use INLINE resources instead, as so:</li>\\n\"+\n",
       "     \"</ul>\\n\"+\n",
       "     \"<code>\\n\"+\n",
       "     \"from bokeh.resources import INLINE\\n\"+\n",
       "     \"output_notebook(resources=INLINE)\\n\"+\n",
       "     \"</code>\\n\"+\n",
       "     \"</div>\"}};\n",
       "\n",
       "  function display_loaded() {\n",
       "    if (window.Bokeh !== undefined) {\n",
       "      Bokeh.$(\"#55b05fb2-9e7e-43e3-ad55-e7e8890ff17d\").text(\"BokehJS successfully loaded.\");\n",
       "    } else if (Date.now() < window._bokeh_timeout) {\n",
       "      setTimeout(display_loaded, 100)\n",
       "    }\n",
       "  }\n",
       "\n",
       "  function run_callbacks() {\n",
       "    window._bokeh_onload_callbacks.forEach(function(callback) { callback() });\n",
       "    delete window._bokeh_onload_callbacks\n",
       "    console.info(\"Bokeh: all callbacks have finished\");\n",
       "  }\n",
       "\n",
       "  function load_libs(js_urls, callback) {\n",
       "    window._bokeh_onload_callbacks.push(callback);\n",
       "    if (window._bokeh_is_loading > 0) {\n",
       "      console.log(\"Bokeh: BokehJS is being loaded, scheduling callback at\", now());\n",
       "      return null;\n",
       "    }\n",
       "    if (js_urls == null || js_urls.length === 0) {\n",
       "      run_callbacks();\n",
       "      return null;\n",
       "    }\n",
       "    console.log(\"Bokeh: BokehJS not loaded, scheduling load and callback at\", now());\n",
       "    window._bokeh_is_loading = js_urls.length;\n",
       "    for (var i = 0; i < js_urls.length; i++) {\n",
       "      var url = js_urls[i];\n",
       "      var s = document.createElement('script');\n",
       "      s.src = url;\n",
       "      s.async = false;\n",
       "      s.onreadystatechange = s.onload = function() {\n",
       "        window._bokeh_is_loading--;\n",
       "        if (window._bokeh_is_loading === 0) {\n",
       "          console.log(\"Bokeh: all BokehJS libraries loaded\");\n",
       "          run_callbacks()\n",
       "        }\n",
       "      };\n",
       "      s.onerror = function() {\n",
       "        console.warn(\"failed to load library \" + url);\n",
       "      };\n",
       "      console.log(\"Bokeh: injecting script tag for BokehJS library: \", url);\n",
       "      document.getElementsByTagName(\"head\")[0].appendChild(s);\n",
       "    }\n",
       "  };var element = document.getElementById(\"55b05fb2-9e7e-43e3-ad55-e7e8890ff17d\");\n",
       "  if (element == null) {\n",
       "    console.log(\"Bokeh: ERROR: autoload.js configured with elementid '55b05fb2-9e7e-43e3-ad55-e7e8890ff17d' but no matching script tag was found. \")\n",
       "    return false;\n",
       "  }\n",
       "\n",
       "  var js_urls = ['https://cdn.pydata.org/bokeh/release/bokeh-0.12.2.min.js', 'https://cdn.pydata.org/bokeh/release/bokeh-widgets-0.12.2.min.js', 'https://cdn.pydata.org/bokeh/release/bokeh-compiler-0.12.2.min.js'];\n",
       "\n",
       "  var inline_js = [\n",
       "    function(Bokeh) {\n",
       "      Bokeh.set_log_level(\"info\");\n",
       "    },\n",
       "    \n",
       "    function(Bokeh) {\n",
       "      \n",
       "      Bokeh.$(\"#55b05fb2-9e7e-43e3-ad55-e7e8890ff17d\").text(\"BokehJS is loading...\");\n",
       "    },\n",
       "    function(Bokeh) {\n",
       "      console.log(\"Bokeh: injecting CSS: https://cdn.pydata.org/bokeh/release/bokeh-0.12.2.min.css\");\n",
       "      Bokeh.embed.inject_css(\"https://cdn.pydata.org/bokeh/release/bokeh-0.12.2.min.css\");\n",
       "      console.log(\"Bokeh: injecting CSS: https://cdn.pydata.org/bokeh/release/bokeh-widgets-0.12.2.min.css\");\n",
       "      Bokeh.embed.inject_css(\"https://cdn.pydata.org/bokeh/release/bokeh-widgets-0.12.2.min.css\");\n",
       "    }\n",
       "  ];\n",
       "\n",
       "  function run_inline_js() {\n",
       "    \n",
       "    if ((window.Bokeh !== undefined) || (force === \"1\")) {\n",
       "      for (var i = 0; i < inline_js.length; i++) {\n",
       "        inline_js[i](window.Bokeh);\n",
       "      }if (force === \"1\") {\n",
       "        display_loaded();\n",
       "      }} else if (Date.now() < window._bokeh_timeout) {\n",
       "      setTimeout(run_inline_js, 100);\n",
       "    } else if (!window._bokeh_failed_load) {\n",
       "      console.log(\"Bokeh: BokehJS failed to load within specified timeout.\");\n",
       "      window._bokeh_failed_load = true;\n",
       "    } else if (!force) {\n",
       "      var cell = $(\"#55b05fb2-9e7e-43e3-ad55-e7e8890ff17d\").parents('.cell').data().cell;\n",
       "      cell.output_area.append_execute_result(NB_LOAD_WARNING)\n",
       "    }\n",
       "\n",
       "  }\n",
       "\n",
       "  if (window._bokeh_is_loading === 0) {\n",
       "    console.log(\"Bokeh: BokehJS loaded, going straight to plotting\");\n",
       "    run_inline_js();\n",
       "  } else {\n",
       "    load_libs(js_urls, function() {\n",
       "      console.log(\"Bokeh: BokehJS plotting callback run at\", now());\n",
       "      run_inline_js();\n",
       "    });\n",
       "  }\n",
       "}(this));"
      ]
     },
     "metadata": {},
     "output_type": "display_data"
    }
   ],
   "source": [
    "import numpy as np\n",
    "import pandas\n",
    "from numpy import *\n",
    "import time\n",
    "import sys\n",
    "import pandas as pd\n",
    "import matplotlib.pyplot as plt\n",
    "from sklearn import feature_selection\n",
    "from sklearn.svm import SVR\n",
    "from sklearn.learning_curve import learning_curve, validation_curve\n",
    "from sklearn.cross_validation import cross_val_predict\n",
    "from sklearn import metrics, grid_search, cross_validation\n",
    "from IPython.display import set_matplotlib_formats\n",
    "from bokeh.plotting import figure, show, output_notebook\n",
    "from sklearn.grid_search import GridSearchCV, RandomizedSearchCV\n",
    "from sklearn.metrics import r2_score\n",
    "from bokeh.layouts import gridplot\n",
    "output_notebook()\n",
    "set_matplotlib_formats('png', 'pdf')\n",
    "%matplotlib inline\n",
    "plt.rcParams['figure.figsize'] = (6, 6)"
   ]
  },
  {
   "cell_type": "markdown",
   "metadata": {},
   "source": [
    "# Load data"
   ]
  },
  {
   "cell_type": "markdown",
   "metadata": {},
   "source": [
    "In the previous file we have not change the data as there is no missing value or add any new parameters so it can be downloaded from the web directly. "
   ]
  },
  {
   "cell_type": "code",
   "execution_count": 2,
   "metadata": {
    "collapsed": false
   },
   "outputs": [
    {
     "name": "stdout",
     "output_type": "stream",
     "text": [
      "Number of examples 398\n"
     ]
    }
   ],
   "source": [
    "url = 'http://archive.ics.uci.edu/ml/machine-learning-databases/auto-mpg/auto-mpg.data'\n",
    "names = ['mpg', 'cylinders', 'displacement', 'horsepower', 'weight', 'acceleration', 'year','origin','name']\n",
    "feature_names = ['mpg', 'cylinders', 'displacement', 'horsepower', 'weight', 'acceleration', 'year','origin']\n",
    "feature_cols = ['mpg', 'cylinders', 'displacement', 'horsepower', 'weight', 'acceleration', 'year','origin']\n",
    "data = pd.read_csv(url, sep='\\s+', names = names)\n",
    "data = data.drop('name',1)\n",
    "from sklearn import preprocessing\n",
    "\n",
    "def number_encode_features(df):\n",
    "    result = df.copy()\n",
    "    encoders = {}\n",
    "    for column in result.columns:\n",
    "        if result.dtypes[column] == np.object:\n",
    "            encoders[column] = preprocessing.LabelEncoder()\n",
    "            result[column] = encoders[column].fit_transform(result[column])\n",
    "    return result, encoders\n",
    "\n",
    "data, _ = number_encode_features(data)\n",
    "\n",
    "dataset = data.values\n",
    "X = dataset[:,1:8]\n",
    "Y = dataset[:,0]\n",
    "print 'Number of examples',len(X)"
   ]
  },
  {
   "cell_type": "code",
   "execution_count": 3,
   "metadata": {
    "collapsed": false
   },
   "outputs": [
    {
     "name": "stdout",
     "output_type": "stream",
     "text": [
      "Number of training examples 318\n",
      "Number of validation examples 80\n"
     ]
    }
   ],
   "source": [
    "# Make developement dataset for genrilization and final testing\n",
    "from sklearn.cross_validation import train_test_split\n",
    "# Extracting 20% testing data\n",
    "X_train, X_test, y_train, y_test = train_test_split(\n",
    "    X, Y, test_size=0.20, random_state=0)\n",
    "X = X_train\n",
    "Y = y_train\n",
    "new_data      = X_train\n",
    "new_test_data = X_test\n",
    "print 'Number of training examples',len(X_train)\n",
    "print 'Number of validation examples',len(X_test)"
   ]
  },
  {
   "cell_type": "markdown",
   "metadata": {},
   "source": [
    "Number of training data is very small so we need to use cross validation instead of spareate another validation data."
   ]
  },
  {
   "cell_type": "markdown",
   "metadata": {},
   "source": [
    "From the previous visulization the data has no missing value but has many outlier and some sparisty"
   ]
  },
  {
   "cell_type": "markdown",
   "metadata": {},
   "source": [
    "# Ranking of the feature's importance to the target"
   ]
  },
  {
   "cell_type": "code",
   "execution_count": 4,
   "metadata": {
    "collapsed": false
   },
   "outputs": [
    {
     "name": "stdout",
     "output_type": "stream",
     "text": [
      "mpg \t0.869345313873\n",
      "cylinders \t0.620816197905\n",
      "displacement \t0.646065441914\n",
      "horsepower \t0.58848250854\n",
      "weight \t0.248769715438\n",
      "acceleration \t0.192934329086\n",
      "year \t0.396811963105\n",
      "origin \t0.307842949996\n"
     ]
    }
   ],
   "source": [
    "# Using just correlation coefficient even in prevoius file we show them using data frame\n",
    "for col in feature_cols:\n",
    "    lm = SVR()\n",
    "    lm.fit(data[[col]], data['mpg'])\n",
    "    print col,'\\t', lm.score(data[[col]], data['mpg'])"
   ]
  },
  {
   "cell_type": "code",
   "execution_count": 5,
   "metadata": {
    "collapsed": false
   },
   "outputs": [
    {
     "name": "stdout",
     "output_type": "stream",
     "text": [
      "Feature Name      Score         Pvalue\n",
      "mpg \t\t8.91712726219e+17 \t0.0\n",
      "cylinders \t\t597.077047852 \t4.50399224618e-81\n",
      "displacement \t\t724.994303368 \t1.65588891019e-91\n",
      "horsepower \t\t101.546001862 \t2.06258705842e-21\n",
      "weight \t\t888.850682648 \t2.97279956405e-103\n",
      "acceleration \t\t84.9577002497 \t1.82309153508e-18\n",
      "year \t\t199.98200802 \t4.84493581337e-37\n",
      "origin \t\t184.199639369 \t1.01148221023e-34\n"
     ]
    }
   ],
   "source": [
    "# Randing the important features to the target\n",
    "model = feature_selection.SelectKBest(score_func=feature_selection.f_regression,k=4)\n",
    "results = model.fit(data[feature_cols], data['mpg'])\n",
    "k=0\n",
    "print 'Feature Name      Score         Pvalue'\n",
    "for feat in feature_cols:\n",
    "    print feat,'\\t\\t',results.scores_[k],'\\t',results.pvalues_[k]\n",
    "    k=k+1\n"
   ]
  },
  {
   "cell_type": "markdown",
   "metadata": {},
   "source": [
    "# Set the parameters for cross validation"
   ]
  },
  {
   "cell_type": "code",
   "execution_count": 6,
   "metadata": {
    "collapsed": true
   },
   "outputs": [],
   "source": [
    "num_folds = 10\n",
    "num_instances = len(X)\n",
    "seed = 7\n",
    "kfold = cross_validation.KFold(n=num_instances, n_folds=num_folds, random_state=seed)"
   ]
  },
  {
   "cell_type": "markdown",
   "metadata": {},
   "source": [
    " # Set the parameters for bias-variance dilemma"
   ]
  },
  {
   "cell_type": "code",
   "execution_count": 7,
   "metadata": {
    "collapsed": false
   },
   "outputs": [],
   "source": [
    "def plot_learning_curve(estimator, title, X, y, ylim=None, cv=None,\n",
    "                        n_jobs=1, train_sizes=np.linspace(.1, 1.0, 5)):\n",
    "    plt.figure()\n",
    "    plt.title(title)\n",
    "    if ylim is not None:\n",
    "        plt.ylim(*ylim)\n",
    "    plt.xlabel(\"Training examples\")\n",
    "    plt.ylabel(\"Score\")\n",
    "    train_sizes, train_scores, test_scores = learning_curve(\n",
    "        estimator, X, y, cv=cv, n_jobs=n_jobs, train_sizes=train_sizes)\n",
    "    train_scores_mean = np.mean(train_scores, axis=1)\n",
    "    train_scores_std = np.std(train_scores, axis=1)\n",
    "    test_scores_mean = np.mean(test_scores, axis=1)\n",
    "    test_scores_std = np.std(test_scores, axis=1)\n",
    "    plt.grid()\n",
    "\n",
    "    plt.fill_between(train_sizes, train_scores_mean - train_scores_std,\n",
    "                     train_scores_mean + train_scores_std, alpha=0.1,\n",
    "                     color=\"r\")\n",
    "    plt.fill_between(train_sizes, test_scores_mean - test_scores_std,\n",
    "                     test_scores_mean + test_scores_std, alpha=0.1, color=\"g\")\n",
    "    plt.plot(train_sizes, train_scores_mean, 'o-', color=\"r\",\n",
    "             label=\"Training score\")\n",
    "    plt.plot(train_sizes, test_scores_mean, 'o-', color=\"g\",\n",
    "             label=\"Cross-validation score\")\n",
    "\n",
    "    plt.legend(loc=\"best\")\n",
    "    return plt"
   ]
  },
  {
   "cell_type": "markdown",
   "metadata": {},
   "source": [
    "# Preprocessing the data and save both the model and preprocessed data"
   ]
  },
  {
   "cell_type": "code",
   "execution_count": 8,
   "metadata": {
    "collapsed": true
   },
   "outputs": [],
   "source": [
    "# According to the nature of the data spasity and there is outliter RobustScaler class is recomandit \n",
    "# but when I tried both of them the result seems is same\n",
    "from sklearn.preprocessing import StandardScaler\n",
    "scaler = preprocessing.StandardScaler().fit(X_train)"
   ]
  },
  {
   "cell_type": "code",
   "execution_count": 9,
   "metadata": {
    "collapsed": true
   },
   "outputs": [],
   "source": [
    "X_train = scaler.transform(X_train)\n",
    "X_test = scaler.transform(X_test) # use same transform for testing data\n",
    "X = X_train"
   ]
  },
  {
   "cell_type": "code",
   "execution_count": 10,
   "metadata": {
    "collapsed": true
   },
   "outputs": [],
   "source": [
    "# save transformed data\n",
    "np.save('./data/X_train', X_train)\n",
    "np.save('./data/y_train', y_train)\n",
    "np.save('./data/X_test', X_test)\n",
    "np.save('./data/y_test', y_test)"
   ]
  },
  {
   "cell_type": "code",
   "execution_count": 11,
   "metadata": {
    "collapsed": false
   },
   "outputs": [
    {
     "data": {
      "text/plain": [
       "['scaler.pkl', 'scaler.pkl_01.npy', 'scaler.pkl_02.npy', 'scaler.pkl_03.npy']"
      ]
     },
     "execution_count": 11,
     "metadata": {},
     "output_type": "execute_result"
    }
   ],
   "source": [
    "# save the model scaler to the desk\n",
    "from sklearn.externals import joblib\n",
    "joblib.dump(scaler, 'scaler.pkl') "
   ]
  },
  {
   "cell_type": "code",
   "execution_count": 12,
   "metadata": {
    "collapsed": false
   },
   "outputs": [
    {
     "name": "stdout",
     "output_type": "stream",
     "text": [
      " =================================================================>>>>> done\n",
      "[[  1.49526939e+00   1.55114495e+00  -7.35914828e-01   1.38121932e+00\n",
      "   -9.80600673e-01  -1.13752513e+00  -7.33011713e-01]\n",
      " [ -8.52857354e-01  -5.04710772e-01   6.08839749e-01  -4.99341807e-01\n",
      "    5.02543270e-01  -5.89029314e-01  -7.33011713e-01]\n",
      " [  1.49526939e+00   1.07371874e+00  -9.71246879e-01   1.57674079e+00\n",
      "    1.31757284e-01  -1.13752513e+00  -7.33011713e-01]\n",
      " [ -8.52857354e-01  -6.99578613e-01   1.01226612e+00   1.84938650e-02\n",
      "    1.42950823e+00  -1.13752513e+00   5.06869802e-01]\n",
      " [  3.21206016e-01   3.91681296e-01  -1.71086190e+00   3.84652269e-01\n",
      "   -5.36357086e-02  -1.41177304e+00  -7.33011713e-01]\n",
      " [ -8.52857354e-01  -1.16726143e+00   4.40745427e-01  -1.60018698e+00\n",
      "    8.73329255e-01  -1.41177304e+00   1.74675132e+00]\n",
      " [ -8.52857354e-01  -1.03085394e+00   3.06269969e-01  -1.17122470e+00\n",
      "   -1.64871504e-01   7.82210231e-01   1.74675132e+00]\n",
      " [ -8.52857354e-01  -5.04710772e-01   1.11312272e+00  -6.58128946e-01\n",
      "    1.42950823e+00  -1.13752513e+00  -7.33011713e-01]\n",
      " [  1.49526939e+00   2.02857116e+00  -8.03152557e-01   9.45147172e-01\n",
      "   -2.27835162e+00  -1.68602095e+00  -7.33011713e-01]\n",
      " [  3.21206016e-01  -1.83178834e-01  -1.50914871e+00  -2.82490713e-01\n",
      "   -1.12891507e+00   1.33070605e+00  -7.33011713e-01]\n",
      " [ -8.52857354e-01  -1.04059733e+00   1.41569250e+00  -1.33712172e+00\n",
      "    6.13779065e-01   1.05645814e+00   5.06869802e-01]\n",
      " [ -8.52857354e-01  -1.03085394e+00   3.06269969e-01  -1.11908564e+00\n",
      "    2.80071678e-01   1.05645814e+00   1.74675132e+00]\n",
      " [  3.21206016e-01   5.67062353e-01   1.04588499e+00   6.82629684e-02\n",
      "    3.17150277e-01  -8.63277223e-01  -7.33011713e-01]\n",
      " [ -8.52857354e-01  -9.23676630e-01   7.09379184e-02  -8.40615659e-01\n",
      "    2.91265218e+00  -1.13752513e+00   5.06869802e-01]\n",
      " [  1.49526939e+00   1.22961301e+00  -9.04009151e-01   1.39425408e+00\n",
      "   -7.21050483e-01   2.33714413e-01  -7.33011713e-01]\n",
      " [ -8.52857354e-01  -9.13933237e-01   7.76934072e-01  -1.24232342e+00\n",
      "   -4.61500293e-01   7.82210231e-01  -7.33011713e-01]\n",
      " [ -8.52857354e-01  -7.09322005e-01   8.44171801e-01  -2.88415606e-01\n",
      "    1.39242964e+00   1.60495396e+00  -7.33011713e-01]\n",
      " [ -8.52857354e-01  -3.97533459e-01   1.11312272e+00  -2.70640927e-01\n",
      "    8.73329255e-01   1.60495396e+00  -7.33011713e-01]\n",
      " [  3.21206016e-01   3.23477552e-01  -1.61000530e+00   7.69770331e-01\n",
      "    3.17150277e-01  -5.89029314e-01  -7.33011713e-01]\n",
      " [ -8.52857354e-01  -9.82136982e-01   4.40745427e-01  -9.87553012e-01\n",
      "   -3.50264497e-01   7.82210231e-01   5.06869802e-01]\n",
      " [  1.49526939e+00   2.02857116e+00  -4.33345048e-01   1.61347513e+00\n",
      "   -1.27722946e+00   2.33714413e-01  -7.33011713e-01]\n",
      " [ -8.52857354e-01  -5.04710772e-01   7.09696343e-01  -4.40092874e-01\n",
      "    1.05872225e+00  -3.14781405e-01  -7.33011713e-01]\n",
      " [ -8.52857354e-01  -7.09322005e-01   1.34845477e+00  -4.95786871e-01\n",
      "    5.02543270e-01  -3.14781405e-01   1.74675132e+00]\n",
      " [ -8.52857354e-01  -6.89835221e-01  -1.47552985e+00  -3.60151531e-02\n",
      "   -4.24421694e-01  -1.13752513e+00   5.06869802e-01]\n",
      " [ -8.52857354e-01  -8.45729493e-01   4.74364292e-01  -9.63853439e-01\n",
      "   -2.76107300e-01   7.82210231e-01  -7.33011713e-01]\n",
      " [  3.21206016e-01  -2.31895795e-01  -1.37467325e+00  -7.51194487e-02\n",
      "   -1.12891507e+00   1.33070605e+00   1.74675132e+00]\n",
      " [ -8.52857354e-01  -9.13933237e-01   3.39888834e-01  -1.37859597e+00\n",
      "   -4.61500293e-01   5.07962322e-01  -7.33011713e-01]\n",
      " [ -8.52857354e-01  -7.77525749e-01   1.04588499e+00  -6.73533669e-01\n",
      "    8.73329255e-01   1.60495396e+00  -7.33011713e-01]\n",
      " [ -8.52857354e-01  -5.53427732e-01   9.11409529e-01  -6.85383455e-01\n",
      "   -1.01767927e+00   1.33070605e+00  -7.33011713e-01]\n",
      " [  3.21206016e-01   6.45009489e-01  -1.50914871e+00   7.92284926e-01\n",
      "    8.73329255e-01  -5.89029314e-01  -7.33011713e-01]\n",
      " [  3.21206016e-01   3.23477552e-01  -1.50914871e+00   7.78065182e-01\n",
      "    1.13287945e+00   5.07962322e-01  -7.33011713e-01]\n",
      " [ -8.52857354e-01  -7.09322005e-01   1.18036045e+00  -6.27319501e-01\n",
      "   -2.39028701e-01   1.05645814e+00   1.74675132e+00]\n",
      " [  3.21206016e-01   5.67062353e-01   5.41602021e-01   5.55289195e-01\n",
      "    1.98568721e+00  -3.14781405e-01  -7.33011713e-01]\n",
      " [ -8.52857354e-01  -1.04059733e+00   4.74364292e-01  -1.20677406e+00\n",
      "    4.28386073e-01   2.33714413e-01   1.74675132e+00]\n",
      " [  3.21206016e-01   3.81937904e-01  -1.50914871e+00   5.35144558e-01\n",
      "    5.76000871e-02   1.33070605e+00  -7.33011713e-01]\n",
      " [ -8.52857354e-01  -5.63171124e-01   1.31483590e+00  -3.09745222e-01\n",
      "   -7.95207680e-01  -3.14781405e-01   1.74675132e+00]\n",
      " [  3.21206016e-01   3.91681296e-01   1.11312272e+00   2.93408913e-01\n",
      "    5.02543270e-01  -3.14781405e-01  -7.33011713e-01]\n",
      " [  1.49526939e+00   1.54140156e+00  -7.02295964e-01   1.65494939e+00\n",
      "   -2.76107300e-01   7.82210231e-01  -7.33011713e-01]\n",
      " [ -8.52857354e-01  -1.00162377e+00   5.07983156e-01  -1.23047364e+00\n",
      "   -6.09814687e-01   7.82210231e-01   5.06869802e-01]\n",
      " [  1.49526939e+00   2.31112953e+00  -3.66107319e-01   2.35645675e+00\n",
      "   -1.53677965e+00  -8.63277223e-01  -7.33011713e-01]\n",
      " [  1.49526939e+00   2.55471433e+00  -1.98012997e-01   1.64783951e+00\n",
      "   -2.46374461e+00  -1.68602095e+00  -7.33011713e-01]\n",
      " [  1.49526939e+00   1.54140156e+00  -6.01439371e-01   8.64568624e-01\n",
      "   -1.53677965e+00  -1.68602095e+00  -7.33011713e-01]\n",
      " [ -8.52857354e-01  -6.89835221e-01   7.76934072e-01  -3.47664539e-01\n",
      "   -2.39028701e-01   7.82210231e-01  -7.33011713e-01]\n",
      " [ -1.43988904e+00  -1.18674821e+00  -1.71086190e+00  -6.43909203e-01\n",
      "   -1.16599367e+00   1.05645814e+00   1.74675132e+00]\n",
      " [ -8.52857354e-01  -4.65737204e-01   1.31483590e+00  -3.53589432e-01\n",
      "   -6.46893286e-01   1.60495396e+00   1.74675132e+00]\n",
      " [ -8.52857354e-01  -6.89835221e-01  -1.50914871e+00  -3.59514326e-01\n",
      "   -6.09814687e-01  -8.63277223e-01   5.06869802e-01]\n",
      " [  3.21206016e-01   3.91681296e-01   1.11312272e+00   1.44101602e-01\n",
      "    7.25014861e-01  -4.05334960e-02  -7.33011713e-01]\n",
      " [  1.49526939e+00   1.54140156e+00  -4.66963913e-01   1.67864896e+00\n",
      "   -1.31430806e+00  -4.05334960e-02  -7.33011713e-01]\n",
      " [  3.21206016e-01  -3.58559891e-01  -1.57638644e+00  -5.82290313e-01\n",
      "   -6.09814687e-01  -8.63277223e-01  -7.33011713e-01]\n",
      " [ -8.52857354e-01  -1.09905769e+00   3.73507698e-01  -1.18544445e+00\n",
      "   -5.36357086e-02  -5.89029314e-01   5.06869802e-01]\n",
      " [ -8.52857354e-01  -9.13933237e-01   6.42458614e-01  -9.70963311e-01\n",
      "   -3.50264497e-01   1.05645814e+00   5.06869802e-01]\n",
      " [ -8.52857354e-01  -9.13933237e-01   8.77790665e-01  -8.82089912e-01\n",
      "    3.17150277e-01  -5.89029314e-01   5.06869802e-01]\n",
      " [  1.49526939e+00   1.07371874e+00  -1.20657893e+00   1.57792577e+00\n",
      "   -2.76107300e-01   2.33714413e-01  -7.33011713e-01]\n",
      " [ -8.52857354e-01  -1.01136716e+00   6.42458614e-01  -1.06457662e+00\n",
      "   -4.24421694e-01  -1.41177304e+00   5.06869802e-01]\n",
      " [  1.49526939e+00   1.86293349e+00  -5.34201642e-01   7.10521399e-01\n",
      "   -2.09295863e+00  -1.68602095e+00  -7.33011713e-01]\n",
      " [  1.49526939e+00   1.12243570e+00  -3.32488455e-01   1.67390904e+00\n",
      "   -2.39028701e-01  -1.68602095e+00  -7.33011713e-01]\n",
      " [  3.21206016e-01   6.45009489e-01  -1.50914871e+00  -1.65077215e-03\n",
      "   -7.95207680e-01  -1.41177304e+00  -7.33011713e-01]\n",
      " [  3.21206016e-01   7.98927508e-02   1.04588499e+00   1.14477136e-01\n",
      "    5.39621868e-01   1.33070605e+00  -7.33011713e-01]\n",
      " [ -8.52857354e-01  -5.53427732e-01   9.11409529e-01  -7.03158135e-01\n",
      "   -9.80600673e-01   1.60495396e+00  -7.33011713e-01]\n",
      " [  1.49526939e+00   1.07371874e+00  -9.71246879e-01   5.75433832e-01\n",
      "   -1.90756564e+00  -1.68602095e+00  -7.33011713e-01]\n",
      " [  3.21206016e-01   5.67062353e-01   7.09696343e-01   7.23556164e-01\n",
      "    1.98568721e+00  -4.05334960e-02  -7.33011713e-01]\n",
      " [ -8.52857354e-01  -5.04710772e-01   5.41602021e-01  -4.72087298e-01\n",
      "   -7.58129081e-01  -4.05334960e-02  -7.33011713e-01]\n",
      " [  3.21206016e-01   3.91681296e-01  -1.71086190e+00  -2.06652079e-01\n",
      "   -2.39028701e-01  -8.63277223e-01  -7.33011713e-01]\n",
      " [  3.21206016e-01   6.04059667e-02   1.28121704e+00  -1.54513018e-01\n",
      "   -5.36357086e-02  -1.68602095e+00  -7.33011713e-01]\n",
      " [  1.49526939e+00   1.54140156e+00  -4.66963913e-01   1.81966142e+00\n",
      "   -1.16599367e+00  -8.63277223e-01  -7.33011713e-01]\n",
      " [  1.49526939e+00   1.55114495e+00  -8.70390286e-01   2.00688805e+00\n",
      "   -7.95207680e-01  -3.14781405e-01  -7.33011713e-01]\n",
      " [  1.49526939e+00   2.31112953e+00  -3.66107319e-01   1.63243479e+00\n",
      "   -2.09295863e+00  -1.68602095e+00  -7.33011713e-01]\n",
      " [  3.21206016e-01   5.67062353e-01  -1.61000530e+00   5.87283619e-01\n",
      "    1.31757284e-01  -3.14781405e-01  -7.33011713e-01]\n",
      " [ -8.52857354e-01  -5.04710772e-01   8.77790665e-01  -3.84398877e-01\n",
      "    5.02543270e-01  -3.14781405e-01  -7.33011713e-01]\n",
      " [  1.49526939e+00   2.41830684e+00  -2.31631862e-01   1.59807041e+00\n",
      "   -2.64913761e+00  -1.68602095e+00  -7.33011713e-01]\n",
      " [ -8.52857354e-01  -9.23676630e-01   3.73507698e-01  -1.06457662e+00\n",
      "    7.99172058e-01   1.33070605e+00   1.74675132e+00]\n",
      " [  1.49526939e+00   1.54140156e+00  -7.02295964e-01   1.82321635e+00\n",
      "   -7.95207680e-01  -1.13752513e+00  -7.33011713e-01]\n",
      " [ -8.52857354e-01  -7.97012533e-01   1.01226612e+00  -3.45294582e-01\n",
      "    6.87936263e-01  -1.68602095e+00   5.06869802e-01]\n",
      " [  3.21206016e-01   3.23477552e-01  -1.71086190e+00   8.14799520e-01\n",
      "    7.62093460e-01  -4.05334960e-02  -7.33011713e-01]\n",
      " [ -8.52857354e-01  -7.67782357e-01   1.28121704e+00  -7.00788178e-01\n",
      "   -2.39028701e-01  -1.68602095e+00   1.74675132e+00]\n",
      " [ -8.52857354e-01  -8.45729493e-01   6.08839749e-01  -8.69055147e-01\n",
      "   -4.24421694e-01   5.07962322e-01  -7.33011713e-01]\n",
      " [ -8.52857354e-01  -9.23676630e-01   6.08839749e-01  -8.27580894e-01\n",
      "    9.47486452e-01   2.33714413e-01   1.74675132e+00]\n",
      " [ -8.52857354e-01  -1.06008412e+00   1.71794512e-01  -1.13804530e+00\n",
      "    1.24411524e+00  -5.89029314e-01   1.74675132e+00]\n",
      " [ -8.52857354e-01  -9.13933237e-01   1.38175647e-01  -9.47263738e-01\n",
      "    2.39355180e+00  -4.05334960e-02  -7.33011713e-01]\n",
      " [  1.49526939e+00   1.54140156e+00  -4.66963913e-01   8.30204243e-01\n",
      "   -1.72217264e+00  -8.63277223e-01  -7.33011713e-01]]\n"
     ]
    }
   ],
   "source": [
    "# Test the model if it is work\n",
    "scalerTest = joblib.load('scaler.pkl')\n",
    "new_data_scaled = scalerTest.transform(new_test_data)\n",
    "print \" =================================================================>>>>> done\"\n",
    "print new_data_scaled"
   ]
  },
  {
   "cell_type": "markdown",
   "metadata": {},
   "source": [
    "# 1. SVR Regression"
   ]
  },
  {
   "cell_type": "markdown",
   "metadata": {},
   "source": [
    "Support Vector Machines (SVM) were developed for binary classification. The technique has been extended for the prediction real-valued problems called Support Vector Regression (SVR). Like the classification example, SVR is built upon the LIBSVM library."
   ]
  },
  {
   "cell_type": "markdown",
   "metadata": {},
   "source": [
    "## Validation curve"
   ]
  },
  {
   "cell_type": "markdown",
   "metadata": {},
   "source": [
    "choosing multiple hyperparameters of an estimator "
   ]
  },
  {
   "cell_type": "code",
   "execution_count": 13,
   "metadata": {
    "collapsed": false
   },
   "outputs": [
    {
     "data": {
      "text/plain": [
       "['kernel',\n",
       " 'C',\n",
       " 'verbose',\n",
       " 'degree',\n",
       " 'epsilon',\n",
       " 'shrinking',\n",
       " 'max_iter',\n",
       " 'tol',\n",
       " 'cache_size',\n",
       " 'coef0',\n",
       " 'gamma']"
      ]
     },
     "execution_count": 13,
     "metadata": {},
     "output_type": "execute_result"
    }
   ],
   "source": [
    "from sklearn.svm import SVR\n",
    "estimator = SVR()\n",
    "estimator.get_params().keys()"
   ]
  },
  {
   "cell_type": "code",
   "execution_count": 14,
   "metadata": {
    "collapsed": false
   },
   "outputs": [
    {
     "data": {
      "image/png": "[encoded data removed]",
      "text/plain": [
       "<matplotlib.figure.Figure at 0x7fdb18f0f810>"
      ]
     },
     "metadata": {},
     "output_type": "display_data"
    }
   ],
   "source": [
    "# For parametr alpha\n",
    "#param_range = np.logspace(-10.0, 10.0)\n",
    "#param_range = np.linspace(1,50,100)\n",
    "param_range = np.arange(1,50) # generate integer numbers\n",
    "\n",
    "train_scores, test_scores = validation_curve(\n",
    "    SVR(), X, Y, param_name=\"C\", param_range=param_range,\n",
    "    cv=num_folds,  n_jobs=-1)\n",
    "train_scores_mean = np.mean(train_scores, axis=1)\n",
    "train_scores_std = np.std(train_scores, axis=1)\n",
    "test_scores_mean = np.mean(test_scores, axis=1)\n",
    "test_scores_std = np.std(test_scores, axis=1)\n",
    "\n",
    "plt.title(\"Validation Curve with SVR\")\n",
    "plt.xlabel(\"C\")\n",
    "plt.ylabel(\"Score\")\n",
    "plt.ylim(0.4, 1.0)\n",
    "plt.plot(param_range, train_scores_mean, label=\"Training score\", color=\"r\")\n",
    "plt.fill_between(param_range, train_scores_mean - train_scores_std,\n",
    "                 train_scores_mean + train_scores_std, alpha=0.2, color=\"r\")\n",
    "plt.plot(param_range, test_scores_mean, label=\"Cross-validation score\",\n",
    "             color=\"g\")\n",
    "plt.fill_between(param_range, test_scores_mean - test_scores_std,\n",
    "                 test_scores_mean + test_scores_std, alpha=0.2, color=\"g\")\n",
    "plt.legend(loc=\"best\")\n",
    "plt.show()"
   ]
  },
  {
   "cell_type": "markdown",
   "metadata": {},
   "source": [
    "more that 5 is the best of C"
   ]
  },
  {
   "cell_type": "code",
   "execution_count": 15,
   "metadata": {
    "collapsed": false
   },
   "outputs": [
    {
     "data": {
      "image/png": "[encoded data removed]",
      "text/plain": [
       "<matplotlib.figure.Figure at 0x7fdb19743550>"
      ]
     },
     "metadata": {},
     "output_type": "display_data"
    }
   ],
   "source": [
    "# For parametr alpha\n",
    "#param_range = np.logspace(-10.0, 10.0)\n",
    "#param_range = np.linspace(1,50,100)\n",
    "param_range = np.arange(0,10) # generate integer numbers\n",
    "\n",
    "train_scores, test_scores = validation_curve(\n",
    "    SVR(), X, Y, param_name=\"epsilon\", param_range=param_range,\n",
    "    cv=num_folds,  n_jobs=-1)\n",
    "train_scores_mean = np.mean(train_scores, axis=1)\n",
    "train_scores_std = np.std(train_scores, axis=1)\n",
    "test_scores_mean = np.mean(test_scores, axis=1)\n",
    "test_scores_std = np.std(test_scores, axis=1)\n",
    "\n",
    "plt.title(\"Validation Curve with SVR\")\n",
    "plt.xlabel(\"epsilon\")\n",
    "plt.ylabel(\"Score\")\n",
    "plt.ylim(0.4, 1.0)\n",
    "plt.plot(param_range, train_scores_mean, label=\"Training score\", color=\"r\")\n",
    "plt.fill_between(param_range, train_scores_mean - train_scores_std,\n",
    "                 train_scores_mean + train_scores_std, alpha=0.2, color=\"r\")\n",
    "plt.plot(param_range, test_scores_mean, label=\"Cross-validation score\",\n",
    "             color=\"g\")\n",
    "plt.fill_between(param_range, test_scores_mean - test_scores_std,\n",
    "                 test_scores_mean + test_scores_std, alpha=0.2, color=\"g\")\n",
    "plt.legend(loc=\"best\")\n",
    "plt.show()"
   ]
  },
  {
   "cell_type": "markdown",
   "metadata": {},
   "source": [
    "epsilon less than  1 is the best (default=0.1)"
   ]
  },
  {
   "cell_type": "markdown",
   "metadata": {},
   "source": [
    "## Grid search and/or Random search to determine best compination of parameters"
   ]
  },
  {
   "cell_type": "code",
   "execution_count": 16,
   "metadata": {
    "collapsed": false
   },
   "outputs": [
    {
     "name": "stdout",
     "output_type": "stream",
     "text": [
      "Hyperparameter optimization using GridSearchCV...\n",
      "Parameters with rank: 1\n",
      "Mean validation score: 0.8681 (std: 0.0464)\n",
      "Parameters: {'kernel': 'rbf', 'C': 13.868686868686869}\n",
      "\n",
      "Parameters with rank: 2\n",
      "Mean validation score: 0.8680 (std: 0.0468)\n",
      "Parameters: {'kernel': 'rbf', 'C': 14.363636363636365}\n",
      "\n",
      "Parameters with rank: 3\n",
      "Mean validation score: 0.8679 (std: 0.0461)\n",
      "Parameters: {'kernel': 'rbf', 'C': 13.373737373737374}\n",
      "\n",
      "Parameters with rank: 4\n",
      "Mean validation score: 0.8678 (std: 0.0457)\n",
      "Parameters: {'kernel': 'rbf', 'C': 12.878787878787879}\n",
      "\n",
      "Parameters with rank: 5\n",
      "Mean validation score: 0.8678 (std: 0.0473)\n",
      "Parameters: {'kernel': 'rbf', 'C': 14.85858585858586}\n",
      "\n",
      "+++++++++++++++++++++++++++++++++++++++++++++++\n",
      "Hyperparameter optimization using RandomizedSearchCV\n",
      "Parameters with rank: 1\n",
      "Mean validation score: 0.8620 (std: 0.0432)\n",
      "Parameters: {'kernel': 'rbf', 'C': 5}\n",
      "\n",
      "Parameters with rank: 2\n",
      "Mean validation score: 0.8019 (std: 0.0451)\n",
      "Parameters: {'kernel': 'linear', 'C': 5}\n",
      "\n",
      "Parameters with rank: 3\n",
      "Mean validation score: 0.7999 (std: 0.0436)\n",
      "Parameters: {'kernel': 'linear', 'C': 1}\n",
      "\n",
      "Parameters with rank: 4\n",
      "Mean validation score: -0.0481 (std: 0.0503)\n",
      "Parameters: {'kernel': 'sigmoid', 'C': 5}\n",
      "\n",
      "Parameters with rank: 5\n",
      "Mean validation score: -0.0481 (std: 0.0503)\n",
      "Parameters: {'kernel': 'sigmoid', 'C': 10}\n",
      "\n"
     ]
    }
   ],
   "source": [
    "# Utility function to report optimal parameters\n",
    "from operator import itemgetter\n",
    "def report(grid_scores, n_top=5):\n",
    "    params = None\n",
    "    top_scores = sorted(grid_scores, key=itemgetter(1), reverse=True)[:n_top]\n",
    "    for i, score in enumerate(top_scores):\n",
    "        print(\"Parameters with rank: {0}\".format(i + 1))\n",
    "        print(\"Mean validation score: {0:.4f} (std: {1:.4f})\".format(\n",
    "              score.mean_validation_score, np.std(score.cv_validation_scores)))\n",
    "        print(\"Parameters: {0}\".format(score.parameters))\n",
    "        print(\"\")\n",
    "        \n",
    "        if params == None:\n",
    "            params = score.parameters\n",
    "    \n",
    "    return params\n",
    "\n",
    "# The most common value for the max number of features to look at in each split is sqrt(# of features)\n",
    "sqrtfeat = np.sqrt(X.shape[1]) \n",
    "grid_test1 = { \"C\"      : np.linspace(1,50,100) ,\n",
    "                \"kernel\"      : [ \"linear\", \"rbf\", \"poly\", \"sigmoid\"]}\n",
    "\n",
    "# Large randomized test using max_depth to control tree size (5000 possible combinations)\n",
    "random_test1 = { \"C\"      : [1,5,10],\n",
    "                \"kernel\"      : [ \"linear\", \"rbf\", \"poly\", \"sigmoid\"]}\n",
    "\n",
    "\n",
    "forest = SVR()\n",
    "\n",
    "print \"Hyperparameter optimization using GridSearchCV...\"\n",
    "grid_search = GridSearchCV(forest, grid_test1, n_jobs=-1, cv=num_folds)\n",
    "grid_search.fit(X, Y)\n",
    "best_params_from_grid_search = report(grid_search.grid_scores_)\n",
    "print '+++++++++++++++++++++++++++++++++++++++++++++++'\n",
    "print \"Hyperparameter optimization using RandomizedSearchCV\"\n",
    "grid_search = RandomizedSearchCV(forest, random_test1, n_jobs=-1, cv=num_folds, n_iter=5)\n",
    "grid_search.fit(X, Y)\n",
    "best_params_from_rand_search1 = report(grid_search.grid_scores_)"
   ]
  },
  {
   "cell_type": "markdown",
   "metadata": {},
   "source": [
    "Parameters: {'kernel': 'rbf', 'C': 50.0}"
   ]
  },
  {
   "cell_type": "code",
   "execution_count": 17,
   "metadata": {
    "collapsed": false
   },
   "outputs": [
    {
     "data": {
      "image/png": "[encoded data removed]",
      "text/plain": [
       "<matplotlib.figure.Figure at 0x7fdb169e36d0>"
      ]
     },
     "metadata": {},
     "output_type": "display_data"
    }
   ],
   "source": [
    "# Value of gamma on rbf\n",
    "#param_range = np.logspace(-10.0, 10.0)\n",
    "param_range = np.linspace(0,10,100)\n",
    "#param_range = np.arange(0,10) # generate integer numbers\n",
    "\n",
    "train_scores, test_scores = validation_curve(\n",
    "    SVR(kernel=\"rbf\", C=50), X, Y, param_name=\"gamma\", param_range=param_range,\n",
    "    cv=num_folds,  n_jobs=-1)\n",
    "train_scores_mean = np.mean(train_scores, axis=1)\n",
    "train_scores_std = np.std(train_scores, axis=1)\n",
    "test_scores_mean = np.mean(test_scores, axis=1)\n",
    "test_scores_std = np.std(test_scores, axis=1)\n",
    "\n",
    "plt.title(\"Validation Curve with SVR\")\n",
    "plt.xlabel(\"gamma\")\n",
    "plt.ylabel(\"Score\")\n",
    "plt.ylim(0.4, 1.0)\n",
    "plt.plot(param_range, train_scores_mean, label=\"Training score\", color=\"r\")\n",
    "plt.fill_between(param_range, train_scores_mean - train_scores_std,\n",
    "                 train_scores_mean + train_scores_std, alpha=0.2, color=\"r\")\n",
    "plt.plot(param_range, test_scores_mean, label=\"Cross-validation score\",\n",
    "             color=\"g\")\n",
    "plt.fill_between(param_range, test_scores_mean - test_scores_std,\n",
    "                 test_scores_mean + test_scores_std, alpha=0.2, color=\"g\")\n",
    "plt.legend(loc=\"best\")\n",
    "plt.show()"
   ]
  },
  {
   "cell_type": "code",
   "execution_count": 18,
   "metadata": {
    "collapsed": false
   },
   "outputs": [
    {
     "name": "stdout",
     "output_type": "stream",
     "text": [
      "Hyperparameter optimization using GridSearchCV...\n",
      "Parameters with rank: 1\n",
      "Mean validation score: 0.8680 (std: 0.0462)\n",
      "Parameters: {'C': 13.666666666666668, 'gamma': 0.0}\n",
      "\n",
      "Parameters with rank: 2\n",
      "Mean validation score: 0.8674 (std: 0.0481)\n",
      "Parameters: {'C': 15.777777777777779, 'gamma': 0.0}\n",
      "\n",
      "Parameters with rank: 3\n",
      "Mean validation score: 0.8674 (std: 0.0447)\n",
      "Parameters: {'C': 11.555555555555555, 'gamma': 0.0}\n",
      "\n",
      "Parameters with rank: 4\n",
      "Mean validation score: 0.8666 (std: 0.0436)\n",
      "Parameters: {'C': 9.4444444444444446, 'gamma': 0.0}\n",
      "\n",
      "Parameters with rank: 5\n",
      "Mean validation score: 0.8655 (std: 0.0504)\n",
      "Parameters: {'C': 17.888888888888889, 'gamma': 0.0}\n",
      "\n",
      "+++++++++++++++++++++++++++++++++++++++++++++++\n",
      "Hyperparameter optimization using RandomizedSearchCV\n",
      "Parameters with rank: 1\n",
      "Mean validation score: 0.8573 (std: 0.0587)\n",
      "Parameters: {'C': 50, 'gamma': 0}\n",
      "\n",
      "Parameters with rank: 2\n",
      "Mean validation score: 0.8282 (std: 0.0414)\n",
      "Parameters: {'C': 10, 'gamma': 1}\n",
      "\n",
      "Parameters with rank: 3\n",
      "Mean validation score: 0.8069 (std: 0.0512)\n",
      "Parameters: {'C': 5, 'gamma': 1}\n",
      "\n",
      "Parameters with rank: 4\n",
      "Mean validation score: 0.7380 (std: 0.0468)\n",
      "Parameters: {'C': 50, 'gamma': 2}\n",
      "\n",
      "Parameters with rank: 5\n",
      "Mean validation score: 0.7160 (std: 0.0600)\n",
      "Parameters: {'C': 5, 'gamma': 2}\n",
      "\n"
     ]
    }
   ],
   "source": [
    "# Utility function to report optimal parameters\n",
    "from operator import itemgetter\n",
    "def report(grid_scores, n_top=5):\n",
    "    params = None\n",
    "    top_scores = sorted(grid_scores, key=itemgetter(1), reverse=True)[:n_top]\n",
    "    for i, score in enumerate(top_scores):\n",
    "        print(\"Parameters with rank: {0}\".format(i + 1))\n",
    "        print(\"Mean validation score: {0:.4f} (std: {1:.4f})\".format(\n",
    "              score.mean_validation_score, np.std(score.cv_validation_scores)))\n",
    "        print(\"Parameters: {0}\".format(score.parameters))\n",
    "        print(\"\")\n",
    "        \n",
    "        if params == None:\n",
    "            params = score.parameters\n",
    "    \n",
    "    return params\n",
    "\n",
    "# The most common value for the max number of features to look at in each split is sqrt(# of features)\n",
    "sqrtfeat = np.sqrt(X.shape[1]) \n",
    "grid_test1 = { \"C\"        : np.linspace(1,20,10),\n",
    "             \"gamma\"      : np.linspace(0,20,10)}\n",
    "\n",
    "# Large randomized test using max_depth to control tree size (5000 possible combinations)\n",
    "random_test1 = { \"C\"         : [1,5,10,50],\n",
    "                \"gamma\"      : [0,1,2]}\n",
    "\n",
    "\n",
    "forest = SVR()\n",
    "\n",
    "print \"Hyperparameter optimization using GridSearchCV...\"\n",
    "grid_search = GridSearchCV(forest, grid_test1, n_jobs=-1, cv=num_folds)\n",
    "grid_search.fit(X, Y)\n",
    "best_params_from_grid_search = report(grid_search.grid_scores_)\n",
    "print '+++++++++++++++++++++++++++++++++++++++++++++++'\n",
    "print \"Hyperparameter optimization using RandomizedSearchCV\"\n",
    "grid_search = RandomizedSearchCV(forest, random_test1, n_jobs=-1, cv=num_folds, n_iter=5)\n",
    "grid_search.fit(X, Y)\n",
    "best_params_from_rand_search1 = report(grid_search.grid_scores_)"
   ]
  },
  {
   "cell_type": "markdown",
   "metadata": {},
   "source": [
    "## Learning Curve "
   ]
  },
  {
   "cell_type": "markdown",
   "metadata": {},
   "source": [
    "In essence, what we’re doing it training the exact same model with increasingly large fractions of our total training data, and plotting the error of the training and test sets at each step."
   ]
  },
  {
   "cell_type": "code",
   "execution_count": 19,
   "metadata": {
    "collapsed": false
   },
   "outputs": [
    {
     "data": {
      "image/png": "[encoded data removed]",
      "text/plain": [
       "<matplotlib.figure.Figure at 0x7fdb15197d10>"
      ]
     },
     "metadata": {},
     "output_type": "display_data"
    }
   ],
   "source": [
    "from sklearn.svm import SVR\n",
    "model = SVR(kernel = \"linear\", C = 5.0 )\n",
    "title = \"Learning Curves (SVR Refression)\"\n",
    "cv = cross_validation.ShuffleSplit(X.shape[0], n_iter=100,\n",
    "                                   test_size=0.2, random_state=0)\n",
    "plot_learning_curve(model, title, X, Y, ylim=(0.2, 1.01), cv=cv, n_jobs=-1)\n",
    "plt.show()"
   ]
  },
  {
   "cell_type": "code",
   "execution_count": 20,
   "metadata": {
    "collapsed": false
   },
   "outputs": [
    {
     "name": "stdout",
     "output_type": "stream",
     "text": [
      "train_sizes =  [ 50  80 110]\n",
      " training scores\n",
      " 50 training sizees\n",
      "0.82016833667 ± 0.0433771483735\n",
      " 80 training sizees\n",
      "0.817258263251 ± 0.0307055948134\n",
      " 110 training sizees\n",
      "0.816189138989 ± 0.0243758039514\n",
      "\n",
      " validation scores\n",
      " 50 validation scores\n",
      "0.754704010306 ± 0.0531180063183\n",
      " 80 validation scores\n",
      "0.772082050006 ± 0.0490948070044\n",
      " 110 validation scores\n",
      "0.781007581036 ± 0.0437735351936\n"
     ]
    }
   ],
   "source": [
    "# More data from learning curve to show the process of building the model\n",
    "train_sizes, train_scores, valid_scores = learning_curve(\n",
    "     model, X, Y, train_sizes=[50, 80, 110], cv=cv, n_jobs=4)\n",
    "\n",
    "print 'train_sizes = ', train_sizes\n",
    "\n",
    "print ' training scores'\n",
    "print ' 50 training sizees'\n",
    "print train_scores[0].mean(),'±',train_scores[0].std()\n",
    "print ' 80 training sizees'\n",
    "print train_scores[1].mean(),'±',train_scores[1].std()\n",
    "print ' 110 training sizees'\n",
    "print train_scores[2].mean(),'±',train_scores[2].std()\n",
    "\n",
    "print '\\n validation scores'\n",
    "print ' 50 validation scores'\n",
    "print valid_scores[0].mean(),'±',valid_scores[0].std()\n",
    "print ' 80 validation scores'\n",
    "print valid_scores[1].mean(),'±',valid_scores[1].std()\n",
    "print ' 110 validation scores'\n",
    "print valid_scores[2].mean(),'±',valid_scores[2].std()"
   ]
  },
  {
   "cell_type": "markdown",
   "metadata": {},
   "source": [
    "## Cross validation"
   ]
  },
  {
   "cell_type": "code",
   "execution_count": 21,
   "metadata": {
    "collapsed": false
   },
   "outputs": [
    {
     "name": "stdout",
     "output_type": "stream",
     "text": [
      "Scoring according to mean_squared_error\n",
      "[ -9.18687512 -17.31027626 -10.66868364 -16.26886636 -13.86621767\n",
      " -14.0001093  -12.76268615  -4.36544774 -14.06917056  -6.70841525]\n",
      "\n",
      " Mean      Standard deviation\n",
      "-11.92      3.93\n"
     ]
    },
    {
     "data": {
      "text/plain": [
       "SVR(C=5.0, cache_size=200, coef0=0.0, degree=3, epsilon=0.1, gamma='auto',\n",
       "  kernel='linear', max_iter=-1, shrinking=True, tol=0.001, verbose=False)"
      ]
     },
     "execution_count": 21,
     "metadata": {},
     "output_type": "execute_result"
    }
   ],
   "source": [
    "scoring = 'mean_squared_error'\n",
    "results = cross_validation.cross_val_score(model, X, Y, cv=kfold, scoring=scoring)\n",
    "print 'Scoring according to mean_squared_error'\n",
    "print results\n",
    "print '\\n Mean      Standard deviation'\n",
    "print(\"%.2f      %.2f\" % (results.mean(), results.std()))\n",
    "## Fit the model\n",
    "model.fit(X,Y)\n"
   ]
  },
  {
   "cell_type": "markdown",
   "metadata": {},
   "source": [
    "## Coefficients Of Determination {Calculating R^2}\n",
    "\n",
    "R^2, Close to one is better"
   ]
  },
  {
   "cell_type": "code",
   "execution_count": 22,
   "metadata": {
    "collapsed": false
   },
   "outputs": [
    {
     "name": "stdout",
     "output_type": "stream",
     "text": [
      "R-squared =  0.802097490658\n"
     ]
    }
   ],
   "source": [
    "predicted = cross_val_predict(model, X, Y, cv=kfold)\n",
    "r_squared = r2_score(Y, predicted, multioutput='variance_weighted')\n",
    "print 'R-squared = ',r_squared"
   ]
  },
  {
   "cell_type": "markdown",
   "metadata": {},
   "source": [
    "## Residual Plot"
   ]
  },
  {
   "cell_type": "code",
   "execution_count": 23,
   "metadata": {
    "collapsed": false
   },
   "outputs": [
    {
     "data": {
      "image/png": "[encoded data removed]",
      "text/plain": [
       "<matplotlib.figure.Figure at 0x7fdb308080d0>"
      ]
     },
     "metadata": {},
     "output_type": "display_data"
    }
   ],
   "source": [
    "predicted = cross_val_predict(model, X, Y, cv=kfold)\n",
    "fig, ax = plt.subplots()\n",
    "ax.scatter(Y, predicted)\n",
    "ax.plot([Y.min(), Y.max()], [Y.min(), Y.max()], 'k--', lw=4)\n",
    "ax.set_xlabel('Measured')\n",
    "ax.set_ylabel('Predicted')\n",
    "plt.show()"
   ]
  },
  {
   "cell_type": "code",
   "execution_count": 24,
   "metadata": {
    "collapsed": false
   },
   "outputs": [
    {
     "data": {
      "text/html": [
       "\n",
       "\n",
       "    <div class=\"bk-root\">\n",
       "        <div class=\"plotdiv\" id=\"c6ba9191-3229-4cee-8c16-df45a85362c6\"></div>\n",
       "    </div>\n",
       "<script type=\"text/javascript\">\n",
       "  \n",
       "  (function(global) {\n",
       "    function now() {\n",
       "      return new Date();\n",
       "    }\n",
       "  \n",
       "    var force = \"\";\n",
       "  \n",
       "    if (typeof (window._bokeh_onload_callbacks) === \"undefined\" || force !== \"\") {\n",
       "      window._bokeh_onload_callbacks = [];\n",
       "      window._bokeh_is_loading = undefined;\n",
       "    }\n",
       "  \n",
       "  \n",
       "    \n",
       "    if (typeof (window._bokeh_timeout) === \"undefined\" || force !== \"\") {\n",
       "      window._bokeh_timeout = Date.now() + 0;\n",
       "      window._bokeh_failed_load = false;\n",
       "    }\n",
       "  \n",
       "    var NB_LOAD_WARNING = {'data': {'text/html':\n",
       "       \"<div style='background-color: #fdd'>\\n\"+\n",
       "       \"<p>\\n\"+\n",
       "       \"BokehJS does not appear to have successfully loaded. If loading BokehJS from CDN, this \\n\"+\n",
       "       \"may be due to a slow or bad network connection. Possible fixes:\\n\"+\n",
       "       \"</p>\\n\"+\n",
       "       \"<ul>\\n\"+\n",
       "       \"<li>re-rerun `output_notebook()` to attempt to load from CDN again, or</li>\\n\"+\n",
       "       \"<li>use INLINE resources instead, as so:</li>\\n\"+\n",
       "       \"</ul>\\n\"+\n",
       "       \"<code>\\n\"+\n",
       "       \"from bokeh.resources import INLINE\\n\"+\n",
       "       \"output_notebook(resources=INLINE)\\n\"+\n",
       "       \"</code>\\n\"+\n",
       "       \"</div>\"}};\n",
       "  \n",
       "    function display_loaded() {\n",
       "      if (window.Bokeh !== undefined) {\n",
       "        Bokeh.$(\"#c6ba9191-3229-4cee-8c16-df45a85362c6\").text(\"BokehJS successfully loaded.\");\n",
       "      } else if (Date.now() < window._bokeh_timeout) {\n",
       "        setTimeout(display_loaded, 100)\n",
       "      }\n",
       "    }\n",
       "  \n",
       "    function run_callbacks() {\n",
       "      window._bokeh_onload_callbacks.forEach(function(callback) { callback() });\n",
       "      delete window._bokeh_onload_callbacks\n",
       "      console.info(\"Bokeh: all callbacks have finished\");\n",
       "    }\n",
       "  \n",
       "    function load_libs(js_urls, callback) {\n",
       "      window._bokeh_onload_callbacks.push(callback);\n",
       "      if (window._bokeh_is_loading > 0) {\n",
       "        console.log(\"Bokeh: BokehJS is being loaded, scheduling callback at\", now());\n",
       "        return null;\n",
       "      }\n",
       "      if (js_urls == null || js_urls.length === 0) {\n",
       "        run_callbacks();\n",
       "        return null;\n",
       "      }\n",
       "      console.log(\"Bokeh: BokehJS not loaded, scheduling load and callback at\", now());\n",
       "      window._bokeh_is_loading = js_urls.length;\n",
       "      for (var i = 0; i < js_urls.length; i++) {\n",
       "        var url = js_urls[i];\n",
       "        var s = document.createElement('script');\n",
       "        s.src = url;\n",
       "        s.async = false;\n",
       "        s.onreadystatechange = s.onload = function() {\n",
       "          window._bokeh_is_loading--;\n",
       "          if (window._bokeh_is_loading === 0) {\n",
       "            console.log(\"Bokeh: all BokehJS libraries loaded\");\n",
       "            run_callbacks()\n",
       "          }\n",
       "        };\n",
       "        s.onerror = function() {\n",
       "          console.warn(\"failed to load library \" + url);\n",
       "        };\n",
       "        console.log(\"Bokeh: injecting script tag for BokehJS library: \", url);\n",
       "        document.getElementsByTagName(\"head\")[0].appendChild(s);\n",
       "      }\n",
       "    };var element = document.getElementById(\"c6ba9191-3229-4cee-8c16-df45a85362c6\");\n",
       "    if (element == null) {\n",
       "      console.log(\"Bokeh: ERROR: autoload.js configured with elementid 'c6ba9191-3229-4cee-8c16-df45a85362c6' but no matching script tag was found. \")\n",
       "      return false;\n",
       "    }\n",
       "  \n",
       "    var js_urls = [];\n",
       "  \n",
       "    var inline_js = [\n",
       "      function(Bokeh) {\n",
       "        Bokeh.$(function() {\n",
       "            var docs_json = {\"4db0ecf6-f6a7-415b-8f47-3f7275a551bd\":{\"roots\":{\"references\":[{\"attributes\":{\"axis_label\":\"Measured\",\"axis_label_text_color\":{\"value\":\"#aa6666\"},\"formatter\":{\"id\":\"5d60cb67-447f-4b0b-9a9f-7d8175118ff5\",\"type\":\"BasicTickFormatter\"},\"major_tick_line_color\":{\"value\":\"firebrick\"},\"major_tick_line_width\":{\"value\":3},\"minor_tick_line_color\":{\"value\":\"orange\"},\"plot\":{\"id\":\"fdb7e182-8be4-4b86-b234-7eebbeecd2a5\",\"subtype\":\"Figure\",\"type\":\"Plot\"},\"ticker\":{\"id\":\"903389b2-de66-4b3b-bf33-e8b9c6c2e36c\",\"type\":\"BasicTicker\"}},\"id\":\"2d9ac8fd-a24b-4ed4-8399-cd366e7d818a\",\"type\":\"LinearAxis\"},{\"attributes\":{\"plot\":{\"id\":\"fdb7e182-8be4-4b86-b234-7eebbeecd2a5\",\"subtype\":\"Figure\",\"type\":\"Plot\"},\"ticker\":{\"id\":\"903389b2-de66-4b3b-bf33-e8b9c6c2e36c\",\"type\":\"BasicTicker\"}},\"id\":\"1146cd77-d84a-46ea-9029-965213667296\",\"type\":\"Grid\"},{\"attributes\":{\"plot\":{\"id\":\"fdb7e182-8be4-4b86-b234-7eebbeecd2a5\",\"subtype\":\"Figure\",\"type\":\"Plot\"}},\"id\":\"1ff2feb5-800b-44c5-a41d-1e6bee9c49f6\",\"type\":\"PanTool\"},{\"attributes\":{},\"id\":\"903389b2-de66-4b3b-bf33-e8b9c6c2e36c\",\"type\":\"BasicTicker\"},{\"attributes\":{\"callback\":null,\"overlay\":{\"id\":\"13d74121-786e-4025-99c5-d9efb96b1d27\",\"type\":\"PolyAnnotation\"},\"plot\":{\"id\":\"fdb7e182-8be4-4b86-b234-7eebbeecd2a5\",\"subtype\":\"Figure\",\"type\":\"Plot\"}},\"id\":\"d4e9626f-16df-4ba5-a646-cad6606cbc9c\",\"type\":\"LassoSelectTool\"},{\"attributes\":{\"bottom_units\":\"screen\",\"fill_alpha\":{\"value\":0.5},\"fill_color\":{\"value\":\"lightgrey\"},\"left_units\":\"screen\",\"level\":\"overlay\",\"line_alpha\":{\"value\":1.0},\"line_color\":{\"value\":\"black\"},\"line_dash\":[4,4],\"line_width\":{\"value\":2},\"plot\":null,\"render_mode\":\"css\",\"right_units\":\"screen\",\"top_units\":\"screen\"},\"id\":\"7856632a-eeb3-4883-a296-25758cbded99\",\"type\":\"BoxAnnotation\"},{\"attributes\":{},\"id\":\"c71cdb88-e1c3-4820-bc08-99f3982b36b9\",\"type\":\"ToolEvents\"},{\"attributes\":{\"data_source\":{\"id\":\"966996e8-42a4-4d72-b148-26b7dbcf91f7\",\"type\":\"ColumnDataSource\"},\"glyph\":{\"id\":\"6e840cfa-d4dd-4d75-af9b-62818b637d9a\",\"type\":\"Line\"},\"hover_glyph\":null,\"nonselection_glyph\":{\"id\":\"4589304d-cc6d-488f-b535-67cf5ab73a02\",\"type\":\"Line\"},\"selection_glyph\":null},\"id\":\"f3883639-0a2b-4f22-852b-ec0a96979069\",\"type\":\"GlyphRenderer\"},{\"attributes\":{\"data_source\":{\"id\":\"da345928-21bd-49dd-8158-1745eed35ea0\",\"type\":\"ColumnDataSource\"},\"glyph\":{\"id\":\"6d344baf-f8af-4516-be07-94771b40c559\",\"type\":\"Circle\"},\"hover_glyph\":null,\"nonselection_glyph\":{\"id\":\"86aa8f87-cac4-4551-98e0-c7b4036e5611\",\"type\":\"Circle\"},\"selection_glyph\":null},\"id\":\"2f99f792-dbbd-406e-ac68-6c24ecba22bd\",\"type\":\"GlyphRenderer\"},{\"attributes\":{\"callback\":null,\"overlay\":{\"id\":\"cd559c8f-d06a-42c2-918c-fc1b13dbca36\",\"type\":\"BoxAnnotation\"},\"plot\":{\"id\":\"fdb7e182-8be4-4b86-b234-7eebbeecd2a5\",\"subtype\":\"Figure\",\"type\":\"Plot\"},\"renderers\":[{\"id\":\"2f99f792-dbbd-406e-ac68-6c24ecba22bd\",\"type\":\"GlyphRenderer\"},{\"id\":\"f3883639-0a2b-4f22-852b-ec0a96979069\",\"type\":\"GlyphRenderer\"}]},\"id\":\"adbbf810-120f-41f0-97b6-bc4598132415\",\"type\":\"BoxSelectTool\"},{\"attributes\":{},\"id\":\"5d60cb67-447f-4b0b-9a9f-7d8175118ff5\",\"type\":\"BasicTickFormatter\"},{\"attributes\":{\"fill_alpha\":{\"value\":0.5},\"fill_color\":{\"value\":\"lightgrey\"},\"level\":\"overlay\",\"line_alpha\":{\"value\":1.0},\"line_color\":{\"value\":\"black\"},\"line_dash\":[4,4],\"line_width\":{\"value\":2},\"plot\":null,\"xs_units\":\"screen\",\"ys_units\":\"screen\"},\"id\":\"13d74121-786e-4025-99c5-d9efb96b1d27\",\"type\":\"PolyAnnotation\"},{\"attributes\":{\"active_drag\":\"auto\",\"active_scroll\":\"auto\",\"active_tap\":\"auto\",\"tools\":[{\"id\":\"f9325ca3-98de-4e36-b4e3-36c59a7e9999\",\"type\":\"BoxZoomTool\"},{\"id\":\"adbbf810-120f-41f0-97b6-bc4598132415\",\"type\":\"BoxSelectTool\"},{\"id\":\"813cc2c8-8ef2-4dc5-b976-7783bd479be6\",\"type\":\"CrosshairTool\"},{\"id\":\"5bd565d6-c1aa-4233-a7dc-aa57b5d54b2d\",\"type\":\"ResizeTool\"},{\"id\":\"b33070a6-56a0-4247-b95d-8966f34c3cd7\",\"type\":\"ResetTool\"},{\"id\":\"d4e9626f-16df-4ba5-a646-cad6606cbc9c\",\"type\":\"LassoSelectTool\"},{\"id\":\"1ff2feb5-800b-44c5-a41d-1e6bee9c49f6\",\"type\":\"PanTool\"},{\"id\":\"39eca7cf-916b-4004-b207-6fa18fa65775\",\"type\":\"SaveTool\"},{\"id\":\"f8c00e5d-dc87-4828-9def-7ecda7cc6b0a\",\"type\":\"PolySelectTool\"},{\"id\":\"ddd9408f-b8b7-4482-af62-9a7c3c202544\",\"type\":\"TapTool\"},{\"id\":\"1802fb5f-42f6-4654-a652-7a953cf83538\",\"type\":\"WheelZoomTool\"},{\"id\":\"2b4f43b8-e416-4102-b2d8-d2bb16fee8cd\",\"type\":\"UndoTool\"}]},\"id\":\"3215597b-1611-457d-9144-bed91c9305ea\",\"type\":\"Toolbar\"},{\"attributes\":{\"plot\":{\"id\":\"fdb7e182-8be4-4b86-b234-7eebbeecd2a5\",\"subtype\":\"Figure\",\"type\":\"Plot\"}},\"id\":\"2b4f43b8-e416-4102-b2d8-d2bb16fee8cd\",\"type\":\"UndoTool\"},{\"attributes\":{\"plot\":{\"id\":\"fdb7e182-8be4-4b86-b234-7eebbeecd2a5\",\"subtype\":\"Figure\",\"type\":\"Plot\"}},\"id\":\"1802fb5f-42f6-4654-a652-7a953cf83538\",\"type\":\"WheelZoomTool\"},{\"attributes\":{\"plot\":{\"id\":\"fdb7e182-8be4-4b86-b234-7eebbeecd2a5\",\"subtype\":\"Figure\",\"type\":\"Plot\"}},\"id\":\"b33070a6-56a0-4247-b95d-8966f34c3cd7\",\"type\":\"ResetTool\"},{\"attributes\":{\"plot\":{\"id\":\"fdb7e182-8be4-4b86-b234-7eebbeecd2a5\",\"subtype\":\"Figure\",\"type\":\"Plot\"}},\"id\":\"5bd565d6-c1aa-4233-a7dc-aa57b5d54b2d\",\"type\":\"ResizeTool\"},{\"attributes\":{\"callback\":null},\"id\":\"95ff6df4-22ad-4d12-9797-6112836ed380\",\"type\":\"DataRange1d\"},{\"attributes\":{\"fill_alpha\":{\"value\":0.1},\"fill_color\":{\"value\":\"#1f77b4\"},\"line_alpha\":{\"value\":0.1},\"line_color\":{\"value\":\"#1f77b4\"},\"line_width\":{\"value\":3},\"x\":{\"field\":\"x\"},\"y\":{\"field\":\"y\"}},\"id\":\"86aa8f87-cac4-4551-98e0-c7b4036e5611\",\"type\":\"Circle\"},{\"attributes\":{\"callback\":null,\"column_names\":[\"x\",\"y\"],\"data\":{\"x\":[15.0,27.0,34.3,26.0,31.6,33.8,29.0,18.1,27.2,38.0,26.0,14.0,22.0,31.0,36.4,17.6,17.7,28.0,20.8,14.0,20.2,32.8,22.3,28.0,37.0,27.0,23.2,13.0,15.0,22.0,24.0,29.0,13.0,31.8,23.0,25.5,29.9,13.0,17.5,46.6,15.5,32.9,14.0,25.0,19.4,15.0,32.4,31.5,27.0,19.8,17.0,33.5,21.0,23.0,38.1,44.0,40.8,21.0,29.0,17.5,28.0,26.0,26.0,11.0,37.7,24.2,16.0,16.0,30.0,19.0,27.0,19.0,16.0,16.0,20.3,21.0,33.5,23.0,21.5,16.0,19.0,37.0,15.0,16.0,26.0,18.0,13.0,21.0,29.0,22.0,33.0,22.0,16.0,36.0,20.0,22.0,31.3,14.5,29.8,13.0,13.0,36.0,20.5,25.0,27.0,33.0,16.5,20.6,30.0,43.4,34.7,11.0,18.0,13.0,16.0,19.0,23.0,25.5,14.0,24.5,30.0,25.8,38.0,28.8,26.6,17.0,32.0,18.1,11.0,21.0,36.0,13.0,30.0,31.0,14.0,18.0,13.0,21.6,28.0,23.8,14.0,27.0,20.2,26.0,39.4,19.9,19.0,14.0,23.6,13.0,38.0,30.5,18.5,17.0,12.0,16.0,28.0,15.5,32.0,24.0,25.1,16.0,13.0,24.0,22.0,24.0,15.0,19.0,18.0,27.2,14.0,21.0,44.3,28.0,31.5,19.2,14.0,30.5,29.8,36.1,26.8,26.0,20.5,32.1,16.0,17.0,20.0,22.0,25.0,23.9,31.0,39.0,28.0,34.5,22.0,20.6,14.0,25.4,14.0,30.0,19.0,36.0,25.0,14.0,21.1,28.0,19.0,19.1,24.3,44.6,20.0,17.0,13.0,34.2,26.0,17.5,26.0,13.0,18.0,18.5,36.0,16.0,38.0,23.0,20.5,13.0,28.0,12.0,34.1,20.0,12.0,28.4,18.0,20.0,29.5,19.0,26.0,26.0,25.0,32.0,33.7,28.0,19.2,29.5,27.0,15.0,39.1,26.6,13.0,23.0,27.5,20.0,19.2,24.0,32.2,19.4,33.0,12.0,13.0,17.6,23.9,34.4,14.0,31.0,35.1,15.0,15.5,9.0,25.0,18.0,31.0,43.1,17.5,25.0,25.0,19.0,26.0,31.0,18.2,30.7,24.0,17.0,27.0,23.0,18.0,27.2,35.0,29.0,21.5,15.0,17.5,15.0,32.7,10.0,20.0,32.4,34.0,18.0,32.0,14.0,24.0,26.4,14.0,13.0,13.0,18.5,21.5,16.2,16.5,15.0,28.1,29.0,20.2,27.9,22.0,29.0,19.0,25.0],\"y\":[13.411626045130728,27.132372091962836,30.686467030144858,27.883487586967238,30.978001815540246,32.861905045626656,28.65315724635601,21.013129956132882,25.595029538356854,30.304049904872056,24.877219887416384,11.506772028498304,27.34463668195423,31.397610602619963,26.777855104569703,19.951091425642222,20.64829553371832,25.163634060858527,23.496698792997815,12.633942838536097,24.001375719853257,32.36314704674841,24.862595083767808,27.0968017434742,34.515851367983956,26.55828899778527,24.151871600712827,16.069387785382773,16.010346771906022,23.414738120315988,22.97287171656398,28.583248608468793,17.335951455250164,33.17234356869045,22.87270958989339,24.167315181813063,28.877795354727,13.028506577378117,17.68621752210504,33.09220225469935,16.540448597042175,29.76284877676886,14.087806399146032,23.767454196998816,19.406325387980655,21.963407497730234,32.55353225134475,31.82395126483989,28.05504511241837,24.90308934861704,15.552388943835858,27.557911416682444,20.77241782739288,21.317074970322615,34.02266935873298,33.400694480950634,33.29203122155772,21.101935916367037,29.968335670971094,19.71008844431237,23.130781043649485,25.864520985477576,27.877880827372973,10.012953770269405,33.975637905047876,28.026183616473517,13.206250945484516,13.556890454411093,25.91904289397026,21.969033256582463,27.27084894371898,24.607518284291988,16.56487079359075,14.35675285140858,25.23617808519662,22.236990898745553,26.53622538243282,19.860872854868756,22.518022959279136,16.592965576017523,20.58371230485382,34.968243247126395,17.966540536276863,16.22304891637897,28.531735924562792,19.488989347063004,14.469483109479171,24.175055851438778,29.487521880928416,20.53894874288106,32.288224496521096,26.688674891058746,15.76681252481361,31.040734866817274,28.170353149011298,22.92492493461573,30.965439364718694,15.688819353140136,32.372425981160745,13.211689733464265,11.783442962264012,30.832268992318475,23.506784130503412,25.71602815392635,26.811470613715468,31.41692661917889,19.153219809211873,21.836016250809223,25.716822686340638,30.763554793952974,29.23797463412976,10.665727918210035,15.551945440912164,18.169979758725223,12.834569866260292,24.917269744163747,27.045159339048496,26.82174198774881,12.666512034848562,24.557126307957997,27.202494123727497,27.777206327599103,27.363383668693913,24.8900389637951,27.84057735757313,16.71446865149929,30.980866082173854,21.989753169716014,11.812831848153568,20.71972381399618,33.613930993021626,7.556099504277974,31.86359396764292,30.345301128386442,13.422058517472077,27.85246484442535,20.44462693127732,25.15265391747033,27.080260216970487,24.82924182305088,13.073371623074536,26.2475441535687,24.005549402083,25.81577816075587,32.26521384141073,21.018445408132628,25.996590621456722,20.580821825069588,25.094439083111816,16.551206161105515,34.83828948317307,28.362648990316295,21.679713947009105,16.888115550395906,10.41422935786758,16.733518959592807,23.65153119703387,16.505150783856614,29.369204967702007,26.571477275723566,25.04695574672652,15.241781819987494,16.69045431477149,26.920117580357783,27.922967217903516,27.85863892569028,13.837018477633162,20.81875596336632,20.08209892192692,31.297012880055483,13.624058768491235,24.32512067837677,31.856468671391667,30.538547640687405,30.153779833364823,20.45909521437869,11.734407018908342,27.508761907711445,30.461366685493964,33.4547621981925,23.83601311041739,27.026726144483806,20.040122903163173,28.780711623208198,15.456211505395519,22.876627738859046,20.8131632793604,24.668010854275966,24.63067595420888,23.166206683579304,35.28684616870835,30.669276864643457,26.688124325403365,30.850253946422377,22.904798794850734,20.806316995946517,14.134403708087799,24.08736116131992,15.90514446462888,27.627819293019435,18.1922768976737,34.15149598947601,24.268664963075253,12.709534938185445,29.930891993253205,25.33032421901083,23.65105765434142,23.844069374528885,25.793329351979118,33.8471769278941,23.519593537104047,16.9733386929357,12.594999460877592,27.399812365476485,23.86671994714146,14.949153903714066,22.650266930632384,9.9122048884424,14.93857153566589,18.391735417872486,33.01174263411232,18.904227020819697,34.80326818524078,23.74628760502115,20.782549558755274,11.042950691754093,28.799984329797468,9.928802528101834,34.46640455049017,21.599218988055846,11.74264321078558,26.2955317528516,18.7488705221842,22.346707902310133,31.80098773300481,19.090816991632675,26.69425258814539,26.423267112684236,24.186323519620025,31.214877924105746,33.18910620594084,28.495983286612784,20.98996221964485,30.006291580413507,28.37345122407386,17.775512441288274,35.67263001670214,21.754534026466715,12.287895402842686,26.11857488638251,29.661892096197295,24.399045951380202,20.55854110236931,27.43123119214228,32.331674222691206,23.09874632487033,31.15590149174911,8.401115688757322,11.436508762486408,23.588982765660738,30.48773537130061,30.330975809504906,12.452123304242711,29.38911463768956,35.45551651173707,19.122924942836942,18.91396098004657,9.301326303581341,28.551314784776245,18.385481748883628,27.630569579718667,31.40406012514051,22.90783526708759,26.714626013531127,24.89381523899505,21.279406092657567,26.30793848801569,28.266221206948373,19.860614569934988,26.5282738612493,27.152093151012405,19.590390634414025,28.39985146390252,24.83488182731316,20.363321169732625,28.380359249014198,29.283169702917604,29.209548892439596,27.633670450267537,14.053565939770852,17.226195268501755,14.316622977144085,28.074862315084346,9.974083477508414,19.177116425740124,32.290436306502485,33.72465736872705,21.650221270539195,34.916165460815904,11.035155466436212,22.188716482515936,25.8139505953826,14.2961661272494,11.952820949109665,14.49351756803172,18.51075621422434,25.970812121596975,22.80693628380621,19.632307389187538,13.088881788957734,26.8354384615636,27.168374250250764,19.53810430793733,24.990856272780007,19.56132637299936,27.873368618012233,16.76308594806789,27.421418686156947]}},\"id\":\"da345928-21bd-49dd-8158-1745eed35ea0\",\"type\":\"ColumnDataSource\"},{\"attributes\":{\"background_fill_alpha\":{\"value\":0.5},\"background_fill_color\":{\"value\":\"beige\"},\"below\":[{\"id\":\"2d9ac8fd-a24b-4ed4-8399-cd366e7d818a\",\"type\":\"LinearAxis\"}],\"left\":[{\"id\":\"fca61cc9-d296-4099-8377-7a30b3a0f280\",\"type\":\"LinearAxis\"}],\"plot_height\":500,\"plot_width\":500,\"renderers\":[{\"id\":\"2d9ac8fd-a24b-4ed4-8399-cd366e7d818a\",\"type\":\"LinearAxis\"},{\"id\":\"1146cd77-d84a-46ea-9029-965213667296\",\"type\":\"Grid\"},{\"id\":\"fca61cc9-d296-4099-8377-7a30b3a0f280\",\"type\":\"LinearAxis\"},{\"id\":\"1864364b-f0a6-476d-9f7f-e1d4fc667ed0\",\"type\":\"Grid\"},{\"id\":\"7856632a-eeb3-4883-a296-25758cbded99\",\"type\":\"BoxAnnotation\"},{\"id\":\"cd559c8f-d06a-42c2-918c-fc1b13dbca36\",\"type\":\"BoxAnnotation\"},{\"id\":\"13d74121-786e-4025-99c5-d9efb96b1d27\",\"type\":\"PolyAnnotation\"},{\"id\":\"47c23fe5-ae90-4844-9c1c-79b9e8e670bd\",\"type\":\"PolyAnnotation\"},{\"id\":\"2f99f792-dbbd-406e-ac68-6c24ecba22bd\",\"type\":\"GlyphRenderer\"},{\"id\":\"f3883639-0a2b-4f22-852b-ec0a96979069\",\"type\":\"GlyphRenderer\"}],\"title\":{\"id\":\"ca44b54a-3808-4463-885d-6351477ac08d\",\"type\":\"Title\"},\"tool_events\":{\"id\":\"c71cdb88-e1c3-4820-bc08-99f3982b36b9\",\"type\":\"ToolEvents\"},\"toolbar\":{\"id\":\"3215597b-1611-457d-9144-bed91c9305ea\",\"type\":\"Toolbar\"},\"x_range\":{\"id\":\"95ff6df4-22ad-4d12-9797-6112836ed380\",\"type\":\"DataRange1d\"},\"y_range\":{\"id\":\"a814d64b-baf3-4fd1-bb9a-a35e0cb5f9c3\",\"type\":\"DataRange1d\"}},\"id\":\"fdb7e182-8be4-4b86-b234-7eebbeecd2a5\",\"subtype\":\"Figure\",\"type\":\"Plot\"},{\"attributes\":{\"fill_color\":{\"value\":\"#80B1D3\"},\"line_color\":{\"value\":\"#80B1D3\"},\"line_width\":{\"value\":3},\"x\":{\"field\":\"x\"},\"y\":{\"field\":\"y\"}},\"id\":\"6d344baf-f8af-4516-be07-94771b40c559\",\"type\":\"Circle\"},{\"attributes\":{\"line_dash\":[4,4],\"line_width\":{\"value\":2},\"x\":{\"field\":\"x\"},\"y\":{\"field\":\"y\"}},\"id\":\"6e840cfa-d4dd-4d75-af9b-62818b637d9a\",\"type\":\"Line\"},{\"attributes\":{\"dimension\":1,\"plot\":{\"id\":\"fdb7e182-8be4-4b86-b234-7eebbeecd2a5\",\"subtype\":\"Figure\",\"type\":\"Plot\"},\"ticker\":{\"id\":\"a22a5b83-c695-4076-9562-429406f3b6ef\",\"type\":\"BasicTicker\"}},\"id\":\"1864364b-f0a6-476d-9f7f-e1d4fc667ed0\",\"type\":\"Grid\"},{\"attributes\":{\"overlay\":{\"id\":\"7856632a-eeb3-4883-a296-25758cbded99\",\"type\":\"BoxAnnotation\"},\"plot\":{\"id\":\"fdb7e182-8be4-4b86-b234-7eebbeecd2a5\",\"subtype\":\"Figure\",\"type\":\"Plot\"}},\"id\":\"f9325ca3-98de-4e36-b4e3-36c59a7e9999\",\"type\":\"BoxZoomTool\"},{\"attributes\":{},\"id\":\"a22a5b83-c695-4076-9562-429406f3b6ef\",\"type\":\"BasicTicker\"},{\"attributes\":{},\"id\":\"aa7c5505-1a14-49bc-96aa-8e5296a85d70\",\"type\":\"BasicTickFormatter\"},{\"attributes\":{\"plot\":{\"id\":\"fdb7e182-8be4-4b86-b234-7eebbeecd2a5\",\"subtype\":\"Figure\",\"type\":\"Plot\"}},\"id\":\"813cc2c8-8ef2-4dc5-b976-7783bd479be6\",\"type\":\"CrosshairTool\"},{\"attributes\":{\"callback\":null,\"plot\":{\"id\":\"fdb7e182-8be4-4b86-b234-7eebbeecd2a5\",\"subtype\":\"Figure\",\"type\":\"Plot\"}},\"id\":\"ddd9408f-b8b7-4482-af62-9a7c3c202544\",\"type\":\"TapTool\"},{\"attributes\":{\"callback\":null,\"column_names\":[\"y\",\"x\"],\"data\":{\"x\":[9.0,46.6],\"y\":[9.0,46.6]}},\"id\":\"966996e8-42a4-4d72-b148-26b7dbcf91f7\",\"type\":\"ColumnDataSource\"},{\"attributes\":{\"fill_alpha\":{\"value\":0.5},\"fill_color\":{\"value\":\"lightgrey\"},\"level\":\"overlay\",\"line_alpha\":{\"value\":1.0},\"line_color\":{\"value\":\"black\"},\"line_dash\":[4,4],\"line_width\":{\"value\":2},\"plot\":null,\"xs_units\":\"screen\",\"ys_units\":\"screen\"},\"id\":\"47c23fe5-ae90-4844-9c1c-79b9e8e670bd\",\"type\":\"PolyAnnotation\"},{\"attributes\":{\"overlay\":{\"id\":\"47c23fe5-ae90-4844-9c1c-79b9e8e670bd\",\"type\":\"PolyAnnotation\"},\"plot\":{\"id\":\"fdb7e182-8be4-4b86-b234-7eebbeecd2a5\",\"subtype\":\"Figure\",\"type\":\"Plot\"}},\"id\":\"f8c00e5d-dc87-4828-9def-7ecda7cc6b0a\",\"type\":\"PolySelectTool\"},{\"attributes\":{\"callback\":null},\"id\":\"a814d64b-baf3-4fd1-bb9a-a35e0cb5f9c3\",\"type\":\"DataRange1d\"},{\"attributes\":{\"line_alpha\":{\"value\":0.1},\"line_color\":{\"value\":\"#1f77b4\"},\"line_dash\":[4,4],\"line_width\":{\"value\":2},\"x\":{\"field\":\"x\"},\"y\":{\"field\":\"y\"}},\"id\":\"4589304d-cc6d-488f-b535-67cf5ab73a02\",\"type\":\"Line\"},{\"attributes\":{\"bottom_units\":\"screen\",\"fill_alpha\":{\"value\":0.5},\"fill_color\":{\"value\":\"lightgrey\"},\"left_units\":\"screen\",\"level\":\"overlay\",\"line_alpha\":{\"value\":1.0},\"line_color\":{\"value\":\"black\"},\"line_dash\":[4,4],\"line_width\":{\"value\":2},\"plot\":null,\"render_mode\":\"css\",\"right_units\":\"screen\",\"top_units\":\"screen\"},\"id\":\"cd559c8f-d06a-42c2-918c-fc1b13dbca36\",\"type\":\"BoxAnnotation\"},{\"attributes\":{\"align\":\"center\",\"plot\":null,\"text\":null},\"id\":\"ca44b54a-3808-4463-885d-6351477ac08d\",\"type\":\"Title\"},{\"attributes\":{\"plot\":{\"id\":\"fdb7e182-8be4-4b86-b234-7eebbeecd2a5\",\"subtype\":\"Figure\",\"type\":\"Plot\"}},\"id\":\"39eca7cf-916b-4004-b207-6fa18fa65775\",\"type\":\"SaveTool\"},{\"attributes\":{\"axis_label\":\"Predicted\",\"axis_label_text_color\":{\"value\":\"#aa6666\"},\"formatter\":{\"id\":\"aa7c5505-1a14-49bc-96aa-8e5296a85d70\",\"type\":\"BasicTickFormatter\"},\"plot\":{\"id\":\"fdb7e182-8be4-4b86-b234-7eebbeecd2a5\",\"subtype\":\"Figure\",\"type\":\"Plot\"},\"ticker\":{\"id\":\"a22a5b83-c695-4076-9562-429406f3b6ef\",\"type\":\"BasicTicker\"}},\"id\":\"fca61cc9-d296-4099-8377-7a30b3a0f280\",\"type\":\"LinearAxis\"}],\"root_ids\":[\"fdb7e182-8be4-4b86-b234-7eebbeecd2a5\"]},\"title\":\"Bokeh Application\",\"version\":\"0.12.2\"}};\n",
       "            var render_items = [{\"docid\":\"4db0ecf6-f6a7-415b-8f47-3f7275a551bd\",\"elementid\":\"c6ba9191-3229-4cee-8c16-df45a85362c6\",\"modelid\":\"fdb7e182-8be4-4b86-b234-7eebbeecd2a5\"}];\n",
       "            \n",
       "            Bokeh.embed.embed_items(docs_json, render_items);\n",
       "        });\n",
       "      },\n",
       "      function(Bokeh) {\n",
       "      }\n",
       "    ];\n",
       "  \n",
       "    function run_inline_js() {\n",
       "      \n",
       "      if ((window.Bokeh !== undefined) || (force === \"1\")) {\n",
       "        for (var i = 0; i < inline_js.length; i++) {\n",
       "          inline_js[i](window.Bokeh);\n",
       "        }if (force === \"1\") {\n",
       "          display_loaded();\n",
       "        }} else if (Date.now() < window._bokeh_timeout) {\n",
       "        setTimeout(run_inline_js, 100);\n",
       "      } else if (!window._bokeh_failed_load) {\n",
       "        console.log(\"Bokeh: BokehJS failed to load within specified timeout.\");\n",
       "        window._bokeh_failed_load = true;\n",
       "      } else if (!force) {\n",
       "        var cell = $(\"#c6ba9191-3229-4cee-8c16-df45a85362c6\").parents('.cell').data().cell;\n",
       "        cell.output_area.append_execute_result(NB_LOAD_WARNING)\n",
       "      }\n",
       "  \n",
       "    }\n",
       "  \n",
       "    if (window._bokeh_is_loading === 0) {\n",
       "      console.log(\"Bokeh: BokehJS loaded, going straight to plotting\");\n",
       "      run_inline_js();\n",
       "    } else {\n",
       "      load_libs(js_urls, function() {\n",
       "        console.log(\"Bokeh: BokehJS plotting callback run at\", now());\n",
       "        run_inline_js();\n",
       "      });\n",
       "    }\n",
       "  }(this));\n",
       "</script>"
      ]
     },
     "metadata": {},
     "output_type": "display_data"
    }
   ],
   "source": [
    "# Plotining using bokeh\n",
    "#TOOLS = [BoxSelectTool(), HoverTool()]\n",
    "#TOOLS = 'hover,box_zoom,box_select,crosshair,resize,reset,SVR_select,pan,save,poly_select,tap,wheel_zoom,undo'\n",
    "TOOLS = 'box_zoom,box_select,crosshair,resize,reset,lasso_select,pan,save,poly_select,tap,wheel_zoom,undo'\n",
    "p = figure(plot_width=500, plot_height=500, tools=TOOLS)\n",
    "p.scatter(Y, predicted,x=\"jjj\", marker=\"o\", color=\"#80B1D3\", line_width=3)\n",
    "p.title.align = \"center\"\n",
    "p.xaxis.axis_label = \"Measured\"\n",
    "p.xaxis.axis_label_text_color = \"#aa6666\"\n",
    "#p.xaxis.axis_label_standoff = 30\n",
    "p.xaxis.major_tick_line_color = \"firebrick\"\n",
    "p.xaxis.major_tick_line_width = 3\n",
    "p.xaxis.minor_tick_line_color = \"orange\"\n",
    "p.yaxis.axis_label = \"Predicted\"\n",
    "p.yaxis.axis_label_text_font_style = \"italic\"\n",
    "p.yaxis.axis_label_text_color = \"#aa6666\"\n",
    "p.background_fill_color = \"beige\"\n",
    "p.background_fill_alpha = 0.5\n",
    "#p.line([Y.min(), Y.max()], [Y.min(), Y.max()], line_dash=\"4 4\", line_width=2, color='red')\n",
    "\n",
    "# create a new plot with the toolbar below\n",
    "# line_dash=\"4 4\", line_width=2, color='red'\n",
    "p.line([Y.min(), Y.max()], [Y.min(), Y.max()], line_dash=\"4 4\", line_width=2, line_color=\"black\")\n",
    "show(p)"
   ]
  },
  {
   "cell_type": "code",
   "execution_count": 25,
   "metadata": {
    "collapsed": false
   },
   "outputs": [
    {
     "data": {
      "text/plain": [
       "<matplotlib.text.Text at 0x7fdb14bf6b90>"
      ]
     },
     "execution_count": 25,
     "metadata": {},
     "output_type": "execute_result"
    },
    {
     "data": {
      "image/png": "[encoded data removed]",
      "text/plain": [
       "<matplotlib.figure.Figure at 0x7fdb15139250>"
      ]
     },
     "metadata": {},
     "output_type": "display_data"
    }
   ],
   "source": [
    "plt.scatter(predicted, (predicted - Y), c='r', s=30)\n",
    "plt.title(\"Residual plot on the training data\")\n",
    "plt.xlabel(\"Predicted\")\n",
    "plt.ylabel(\"Residuals\")"
   ]
  },
  {
   "cell_type": "code",
   "execution_count": 26,
   "metadata": {
    "collapsed": false
   },
   "outputs": [
    {
     "data": {
      "text/html": [
       "\n",
       "\n",
       "    <div class=\"bk-root\">\n",
       "        <div class=\"plotdiv\" id=\"b6672efa-8cb2-456a-8567-521e2cdada2f\"></div>\n",
       "    </div>\n",
       "<script type=\"text/javascript\">\n",
       "  \n",
       "  (function(global) {\n",
       "    function now() {\n",
       "      return new Date();\n",
       "    }\n",
       "  \n",
       "    var force = \"\";\n",
       "  \n",
       "    if (typeof (window._bokeh_onload_callbacks) === \"undefined\" || force !== \"\") {\n",
       "      window._bokeh_onload_callbacks = [];\n",
       "      window._bokeh_is_loading = undefined;\n",
       "    }\n",
       "  \n",
       "  \n",
       "    \n",
       "    if (typeof (window._bokeh_timeout) === \"undefined\" || force !== \"\") {\n",
       "      window._bokeh_timeout = Date.now() + 0;\n",
       "      window._bokeh_failed_load = false;\n",
       "    }\n",
       "  \n",
       "    var NB_LOAD_WARNING = {'data': {'text/html':\n",
       "       \"<div style='background-color: #fdd'>\\n\"+\n",
       "       \"<p>\\n\"+\n",
       "       \"BokehJS does not appear to have successfully loaded. If loading BokehJS from CDN, this \\n\"+\n",
       "       \"may be due to a slow or bad network connection. Possible fixes:\\n\"+\n",
       "       \"</p>\\n\"+\n",
       "       \"<ul>\\n\"+\n",
       "       \"<li>re-rerun `output_notebook()` to attempt to load from CDN again, or</li>\\n\"+\n",
       "       \"<li>use INLINE resources instead, as so:</li>\\n\"+\n",
       "       \"</ul>\\n\"+\n",
       "       \"<code>\\n\"+\n",
       "       \"from bokeh.resources import INLINE\\n\"+\n",
       "       \"output_notebook(resources=INLINE)\\n\"+\n",
       "       \"</code>\\n\"+\n",
       "       \"</div>\"}};\n",
       "  \n",
       "    function display_loaded() {\n",
       "      if (window.Bokeh !== undefined) {\n",
       "        Bokeh.$(\"#b6672efa-8cb2-456a-8567-521e2cdada2f\").text(\"BokehJS successfully loaded.\");\n",
       "      } else if (Date.now() < window._bokeh_timeout) {\n",
       "        setTimeout(display_loaded, 100)\n",
       "      }\n",
       "    }\n",
       "  \n",
       "    function run_callbacks() {\n",
       "      window._bokeh_onload_callbacks.forEach(function(callback) { callback() });\n",
       "      delete window._bokeh_onload_callbacks\n",
       "      console.info(\"Bokeh: all callbacks have finished\");\n",
       "    }\n",
       "  \n",
       "    function load_libs(js_urls, callback) {\n",
       "      window._bokeh_onload_callbacks.push(callback);\n",
       "      if (window._bokeh_is_loading > 0) {\n",
       "        console.log(\"Bokeh: BokehJS is being loaded, scheduling callback at\", now());\n",
       "        return null;\n",
       "      }\n",
       "      if (js_urls == null || js_urls.length === 0) {\n",
       "        run_callbacks();\n",
       "        return null;\n",
       "      }\n",
       "      console.log(\"Bokeh: BokehJS not loaded, scheduling load and callback at\", now());\n",
       "      window._bokeh_is_loading = js_urls.length;\n",
       "      for (var i = 0; i < js_urls.length; i++) {\n",
       "        var url = js_urls[i];\n",
       "        var s = document.createElement('script');\n",
       "        s.src = url;\n",
       "        s.async = false;\n",
       "        s.onreadystatechange = s.onload = function() {\n",
       "          window._bokeh_is_loading--;\n",
       "          if (window._bokeh_is_loading === 0) {\n",
       "            console.log(\"Bokeh: all BokehJS libraries loaded\");\n",
       "            run_callbacks()\n",
       "          }\n",
       "        };\n",
       "        s.onerror = function() {\n",
       "          console.warn(\"failed to load library \" + url);\n",
       "        };\n",
       "        console.log(\"Bokeh: injecting script tag for BokehJS library: \", url);\n",
       "        document.getElementsByTagName(\"head\")[0].appendChild(s);\n",
       "      }\n",
       "    };var element = document.getElementById(\"b6672efa-8cb2-456a-8567-521e2cdada2f\");\n",
       "    if (element == null) {\n",
       "      console.log(\"Bokeh: ERROR: autoload.js configured with elementid 'b6672efa-8cb2-456a-8567-521e2cdada2f' but no matching script tag was found. \")\n",
       "      return false;\n",
       "    }\n",
       "  \n",
       "    var js_urls = [];\n",
       "  \n",
       "    var inline_js = [\n",
       "      function(Bokeh) {\n",
       "        Bokeh.$(function() {\n",
       "            var docs_json = {\"cbfeae0c-c07b-42dd-b8f5-d6902cc5f7df\":{\"roots\":{\"references\":[{\"attributes\":{\"background_fill_alpha\":{\"value\":0.5},\"background_fill_color\":{\"value\":\"beige\"},\"below\":[{\"id\":\"c5e5b47a-f52c-42d4-8fa4-f16513d88e18\",\"type\":\"LinearAxis\"}],\"left\":[{\"id\":\"6e4ef159-47df-4648-a5c2-94e0e37a96f2\",\"type\":\"LinearAxis\"}],\"plot_height\":500,\"plot_width\":500,\"renderers\":[{\"id\":\"c5e5b47a-f52c-42d4-8fa4-f16513d88e18\",\"type\":\"LinearAxis\"},{\"id\":\"c564b61e-640d-4bba-8442-0419963feabd\",\"type\":\"Grid\"},{\"id\":\"6e4ef159-47df-4648-a5c2-94e0e37a96f2\",\"type\":\"LinearAxis\"},{\"id\":\"43bed22d-3a37-4e66-95b4-87adcd8fce91\",\"type\":\"Grid\"},{\"id\":\"5b918a43-606a-4210-954e-a72d97601872\",\"type\":\"BoxAnnotation\"},{\"id\":\"7d8ad7a6-83f5-4290-9424-498f9a04261a\",\"type\":\"BoxAnnotation\"},{\"id\":\"52347f77-6340-474b-a68f-4ca276271c53\",\"type\":\"PolyAnnotation\"},{\"id\":\"a4ee9141-d0a6-4904-ac38-56302a0aa9d7\",\"type\":\"PolyAnnotation\"},{\"id\":\"381efd3d-e75d-496f-9bbf-e788de303184\",\"type\":\"GlyphRenderer\"}],\"title\":{\"id\":\"7e85f841-beef-4782-98b3-9b3eed770a13\",\"type\":\"Title\"},\"tool_events\":{\"id\":\"7fd840dd-c645-4eab-a719-2ed0644e4bfc\",\"type\":\"ToolEvents\"},\"toolbar\":{\"id\":\"5c2b76bb-38fe-47e7-85bf-b737e4305b94\",\"type\":\"Toolbar\"},\"x_range\":{\"id\":\"8a45f5db-fc6b-4fd8-8860-3604ab7d3d4a\",\"type\":\"DataRange1d\"},\"y_range\":{\"id\":\"ffd90071-9690-4a84-867c-fcbfa072bb79\",\"type\":\"DataRange1d\"}},\"id\":\"2c79148c-1a9e-4eec-80c6-ef7900fce0ea\",\"subtype\":\"Figure\",\"type\":\"Plot\"},{\"attributes\":{\"callback\":null},\"id\":\"ffd90071-9690-4a84-867c-fcbfa072bb79\",\"type\":\"DataRange1d\"},{\"attributes\":{},\"id\":\"7fd840dd-c645-4eab-a719-2ed0644e4bfc\",\"type\":\"ToolEvents\"},{\"attributes\":{},\"id\":\"f7c8ccd6-b843-41cf-b813-cf688f68a538\",\"type\":\"BasicTicker\"},{\"attributes\":{\"axis_label\":\"Predicted\",\"axis_label_text_color\":{\"value\":\"#aa6666\"},\"formatter\":{\"id\":\"6203aa1b-017c-47a8-949d-d26f8e650c64\",\"type\":\"BasicTickFormatter\"},\"major_tick_line_color\":{\"value\":\"firebrick\"},\"major_tick_line_width\":{\"value\":3},\"minor_tick_line_color\":{\"value\":\"orange\"},\"plot\":{\"id\":\"2c79148c-1a9e-4eec-80c6-ef7900fce0ea\",\"subtype\":\"Figure\",\"type\":\"Plot\"},\"ticker\":{\"id\":\"25bfbe5d-43b2-45bb-bcce-779288fdb4d2\",\"type\":\"BasicTicker\"}},\"id\":\"c5e5b47a-f52c-42d4-8fa4-f16513d88e18\",\"type\":\"LinearAxis\"},{\"attributes\":{\"bottom_units\":\"screen\",\"fill_alpha\":{\"value\":0.5},\"fill_color\":{\"value\":\"lightgrey\"},\"left_units\":\"screen\",\"level\":\"overlay\",\"line_alpha\":{\"value\":1.0},\"line_color\":{\"value\":\"black\"},\"line_dash\":[4,4],\"line_width\":{\"value\":2},\"plot\":null,\"render_mode\":\"css\",\"right_units\":\"screen\",\"top_units\":\"screen\"},\"id\":\"5b918a43-606a-4210-954e-a72d97601872\",\"type\":\"BoxAnnotation\"},{\"attributes\":{\"callback\":null,\"plot\":{\"id\":\"2c79148c-1a9e-4eec-80c6-ef7900fce0ea\",\"subtype\":\"Figure\",\"type\":\"Plot\"}},\"id\":\"6f9da183-caeb-4c27-8694-6a1920bd0b45\",\"type\":\"TapTool\"},{\"attributes\":{\"axis_label\":\"Residuals\",\"axis_label_text_color\":{\"value\":\"#aa6666\"},\"formatter\":{\"id\":\"73fbcf6d-3961-4c2b-8017-96870382850c\",\"type\":\"BasicTickFormatter\"},\"plot\":{\"id\":\"2c79148c-1a9e-4eec-80c6-ef7900fce0ea\",\"subtype\":\"Figure\",\"type\":\"Plot\"},\"ticker\":{\"id\":\"f7c8ccd6-b843-41cf-b813-cf688f68a538\",\"type\":\"BasicTicker\"}},\"id\":\"6e4ef159-47df-4648-a5c2-94e0e37a96f2\",\"type\":\"LinearAxis\"},{\"attributes\":{\"callback\":null,\"overlay\":{\"id\":\"52347f77-6340-474b-a68f-4ca276271c53\",\"type\":\"PolyAnnotation\"},\"plot\":{\"id\":\"2c79148c-1a9e-4eec-80c6-ef7900fce0ea\",\"subtype\":\"Figure\",\"type\":\"Plot\"}},\"id\":\"f49aff78-9152-4376-a307-a7886b0a8d1f\",\"type\":\"LassoSelectTool\"},{\"attributes\":{\"active_drag\":\"auto\",\"active_scroll\":\"auto\",\"active_tap\":\"auto\",\"tools\":[{\"id\":\"66e6d8ca-fd22-44cc-9377-2f16d77081ea\",\"type\":\"BoxZoomTool\"},{\"id\":\"e957a004-e9c3-4afd-8019-53a870020660\",\"type\":\"BoxSelectTool\"},{\"id\":\"13efdf3a-dde6-4ff3-9419-fdd956ad8aae\",\"type\":\"CrosshairTool\"},{\"id\":\"98134130-66dd-420c-9e87-4bfb7d720ea5\",\"type\":\"ResizeTool\"},{\"id\":\"fb806f43-e332-4ec3-a1cd-13aee6ce6e69\",\"type\":\"ResetTool\"},{\"id\":\"f49aff78-9152-4376-a307-a7886b0a8d1f\",\"type\":\"LassoSelectTool\"},{\"id\":\"a4bea6ef-cd4b-4305-b581-83de7802aa1d\",\"type\":\"PanTool\"},{\"id\":\"1f5bda78-e8a0-4c56-8bcf-8e8aa96bc466\",\"type\":\"SaveTool\"},{\"id\":\"24bcc504-873c-4960-84c7-2b7e3a729465\",\"type\":\"PolySelectTool\"},{\"id\":\"6f9da183-caeb-4c27-8694-6a1920bd0b45\",\"type\":\"TapTool\"},{\"id\":\"81ca9ee1-428d-4e22-b58b-659e1df17e89\",\"type\":\"WheelZoomTool\"},{\"id\":\"8fecd539-8452-45d1-a65d-461cc86a703e\",\"type\":\"UndoTool\"}]},\"id\":\"5c2b76bb-38fe-47e7-85bf-b737e4305b94\",\"type\":\"Toolbar\"},{\"attributes\":{\"plot\":{\"id\":\"2c79148c-1a9e-4eec-80c6-ef7900fce0ea\",\"subtype\":\"Figure\",\"type\":\"Plot\"}},\"id\":\"13efdf3a-dde6-4ff3-9419-fdd956ad8aae\",\"type\":\"CrosshairTool\"},{\"attributes\":{\"callback\":null,\"overlay\":{\"id\":\"7d8ad7a6-83f5-4290-9424-498f9a04261a\",\"type\":\"BoxAnnotation\"},\"plot\":{\"id\":\"2c79148c-1a9e-4eec-80c6-ef7900fce0ea\",\"subtype\":\"Figure\",\"type\":\"Plot\"},\"renderers\":[{\"id\":\"381efd3d-e75d-496f-9bbf-e788de303184\",\"type\":\"GlyphRenderer\"}]},\"id\":\"e957a004-e9c3-4afd-8019-53a870020660\",\"type\":\"BoxSelectTool\"},{\"attributes\":{\"callback\":null},\"id\":\"8a45f5db-fc6b-4fd8-8860-3604ab7d3d4a\",\"type\":\"DataRange1d\"},{\"attributes\":{\"plot\":{\"id\":\"2c79148c-1a9e-4eec-80c6-ef7900fce0ea\",\"subtype\":\"Figure\",\"type\":\"Plot\"}},\"id\":\"98134130-66dd-420c-9e87-4bfb7d720ea5\",\"type\":\"ResizeTool\"},{\"attributes\":{\"callback\":null,\"column_names\":[\"x\",\"y\"],\"data\":{\"x\":[13.411626045130728,27.132372091962836,30.686467030144858,27.883487586967238,30.978001815540246,32.861905045626656,28.65315724635601,21.013129956132882,25.595029538356854,30.304049904872056,24.877219887416384,11.506772028498304,27.34463668195423,31.397610602619963,26.777855104569703,19.951091425642222,20.64829553371832,25.163634060858527,23.496698792997815,12.633942838536097,24.001375719853257,32.36314704674841,24.862595083767808,27.0968017434742,34.515851367983956,26.55828899778527,24.151871600712827,16.069387785382773,16.010346771906022,23.414738120315988,22.97287171656398,28.583248608468793,17.335951455250164,33.17234356869045,22.87270958989339,24.167315181813063,28.877795354727,13.028506577378117,17.68621752210504,33.09220225469935,16.540448597042175,29.76284877676886,14.087806399146032,23.767454196998816,19.406325387980655,21.963407497730234,32.55353225134475,31.82395126483989,28.05504511241837,24.90308934861704,15.552388943835858,27.557911416682444,20.77241782739288,21.317074970322615,34.02266935873298,33.400694480950634,33.29203122155772,21.101935916367037,29.968335670971094,19.71008844431237,23.130781043649485,25.864520985477576,27.877880827372973,10.012953770269405,33.975637905047876,28.026183616473517,13.206250945484516,13.556890454411093,25.91904289397026,21.969033256582463,27.27084894371898,24.607518284291988,16.56487079359075,14.35675285140858,25.23617808519662,22.236990898745553,26.53622538243282,19.860872854868756,22.518022959279136,16.592965576017523,20.58371230485382,34.968243247126395,17.966540536276863,16.22304891637897,28.531735924562792,19.488989347063004,14.469483109479171,24.175055851438778,29.487521880928416,20.53894874288106,32.288224496521096,26.688674891058746,15.76681252481361,31.040734866817274,28.170353149011298,22.92492493461573,30.965439364718694,15.688819353140136,32.372425981160745,13.211689733464265,11.783442962264012,30.832268992318475,23.506784130503412,25.71602815392635,26.811470613715468,31.41692661917889,19.153219809211873,21.836016250809223,25.716822686340638,30.763554793952974,29.23797463412976,10.665727918210035,15.551945440912164,18.169979758725223,12.834569866260292,24.917269744163747,27.045159339048496,26.82174198774881,12.666512034848562,24.557126307957997,27.202494123727497,27.777206327599103,27.363383668693913,24.8900389637951,27.84057735757313,16.71446865149929,30.980866082173854,21.989753169716014,11.812831848153568,20.71972381399618,33.613930993021626,7.556099504277974,31.86359396764292,30.345301128386442,13.422058517472077,27.85246484442535,20.44462693127732,25.15265391747033,27.080260216970487,24.82924182305088,13.073371623074536,26.2475441535687,24.005549402083,25.81577816075587,32.26521384141073,21.018445408132628,25.996590621456722,20.580821825069588,25.094439083111816,16.551206161105515,34.83828948317307,28.362648990316295,21.679713947009105,16.888115550395906,10.41422935786758,16.733518959592807,23.65153119703387,16.505150783856614,29.369204967702007,26.571477275723566,25.04695574672652,15.241781819987494,16.69045431477149,26.920117580357783,27.922967217903516,27.85863892569028,13.837018477633162,20.81875596336632,20.08209892192692,31.297012880055483,13.624058768491235,24.32512067837677,31.856468671391667,30.538547640687405,30.153779833364823,20.45909521437869,11.734407018908342,27.508761907711445,30.461366685493964,33.4547621981925,23.83601311041739,27.026726144483806,20.040122903163173,28.780711623208198,15.456211505395519,22.876627738859046,20.8131632793604,24.668010854275966,24.63067595420888,23.166206683579304,35.28684616870835,30.669276864643457,26.688124325403365,30.850253946422377,22.904798794850734,20.806316995946517,14.134403708087799,24.08736116131992,15.90514446462888,27.627819293019435,18.1922768976737,34.15149598947601,24.268664963075253,12.709534938185445,29.930891993253205,25.33032421901083,23.65105765434142,23.844069374528885,25.793329351979118,33.8471769278941,23.519593537104047,16.9733386929357,12.594999460877592,27.399812365476485,23.86671994714146,14.949153903714066,22.650266930632384,9.9122048884424,14.93857153566589,18.391735417872486,33.01174263411232,18.904227020819697,34.80326818524078,23.74628760502115,20.782549558755274,11.042950691754093,28.799984329797468,9.928802528101834,34.46640455049017,21.599218988055846,11.74264321078558,26.2955317528516,18.7488705221842,22.346707902310133,31.80098773300481,19.090816991632675,26.69425258814539,26.423267112684236,24.186323519620025,31.214877924105746,33.18910620594084,28.495983286612784,20.98996221964485,30.006291580413507,28.37345122407386,17.775512441288274,35.67263001670214,21.754534026466715,12.287895402842686,26.11857488638251,29.661892096197295,24.399045951380202,20.55854110236931,27.43123119214228,32.331674222691206,23.09874632487033,31.15590149174911,8.401115688757322,11.436508762486408,23.588982765660738,30.48773537130061,30.330975809504906,12.452123304242711,29.38911463768956,35.45551651173707,19.122924942836942,18.91396098004657,9.301326303581341,28.551314784776245,18.385481748883628,27.630569579718667,31.40406012514051,22.90783526708759,26.714626013531127,24.89381523899505,21.279406092657567,26.30793848801569,28.266221206948373,19.860614569934988,26.5282738612493,27.152093151012405,19.590390634414025,28.39985146390252,24.83488182731316,20.363321169732625,28.380359249014198,29.283169702917604,29.209548892439596,27.633670450267537,14.053565939770852,17.226195268501755,14.316622977144085,28.074862315084346,9.974083477508414,19.177116425740124,32.290436306502485,33.72465736872705,21.650221270539195,34.916165460815904,11.035155466436212,22.188716482515936,25.8139505953826,14.2961661272494,11.952820949109665,14.49351756803172,18.51075621422434,25.970812121596975,22.80693628380621,19.632307389187538,13.088881788957734,26.8354384615636,27.168374250250764,19.53810430793733,24.990856272780007,19.56132637299936,27.873368618012233,16.76308594806789,27.421418686156947],\"y\":[-1.5883739548692724,0.13237209196283573,-3.6135329698551395,1.883487586967238,-0.6219981844597555,-0.9380949543733408,-0.3468427536439904,2.913129956132881,-1.6049704616431448,-7.6959500951279445,-1.1227801125836159,-2.493227971501696,5.344636681954231,0.39761060261996306,-9.622144895430296,2.3510914256422204,2.948295533718319,-2.836365939141473,2.6966987929978146,-1.3660571614639032,3.801375719853258,-0.4368529532515879,2.562595083767807,-0.9031982565258012,-2.484148632016044,-0.44171100221473125,0.9518716007128276,3.069387785382773,1.010346771906022,1.4147381203159881,-1.0271282834360207,-0.4167513915312071,4.335951455250164,1.3723435686904502,-0.12729041010661035,-1.3326848181869373,-1.0222046452729998,0.028506577378117015,0.18621752210503928,-13.50779774530065,1.0404485970421753,-3.1371512232311396,0.08780639914603228,-1.2325458030011838,0.006325387980655961,6.963407497730234,0.15353225134474968,0.32395126483989145,1.0550451124183695,5.10308934861704,-1.447611056164142,-5.942088583317556,-0.22758217260712144,-1.682925029677385,-4.077330641267018,-10.599305519049366,-7.507968778442276,0.10193591636703658,0.9683356709710935,2.210088444312369,-4.869218956350515,-0.13547901452242428,1.877880827372973,-0.9870462297305949,-3.7243620949521272,3.826183616473518,-2.7937490545154837,-2.443109545588907,-4.080957106029739,2.9690332565824633,0.27084894371898116,5.607518284291988,0.5648707935907495,-1.6432471485914206,4.9361780851966195,1.2369908987455531,-6.963774617567179,-3.139127145131244,1.0180229592791363,0.592965576017523,1.5837123048538189,-2.031756752873605,2.966540536276863,0.22304891637897128,2.531735924562792,1.4889893470630042,1.469483109479171,3.1750558514387777,0.48752188092841564,-1.461051257118939,-0.7117755034789042,4.688674891058746,-0.2331874751863907,-4.9592651331827255,8.170353149011298,0.9249249346157313,-0.3345606352813064,1.1888193531401363,2.5724259811607446,0.21168973346426512,-1.2165570377359884,-5.167731007681525,3.006784130503412,0.7160281539263487,-0.1885293862845323,-1.5830733808211086,2.6532198092118726,1.2360162508092216,-4.283177313659362,-12.636445206047025,-5.462025365870243,-0.33427208178996537,-2.4480545590878364,5.169979758725223,-3.165430133739708,5.917269744163747,4.045159339048496,1.3217419877488084,-1.3334879651514377,0.05712630795799711,-2.7975058762725027,1.9772063275991023,-10.636616331306087,-3.9099610362049013,1.2405773575731303,-0.2855313485007116,-1.0191339178261458,3.8897531697160126,0.8128318481535679,-0.280276186003821,-2.3860690069783743,-5.443900495722026,1.8635939676429203,-0.654698871613558,-0.5779414825279225,9.852464844425349,7.44462693127732,3.55265391747033,-0.9197397830295131,1.029241823050878,-0.9266283769254642,-0.7524558464312996,3.805549402082999,-0.18422183924413105,-7.134786158589272,1.1184454081326294,6.996590621456722,6.580821825069588,1.4944390831118142,3.5512061611055152,-3.161710516826929,-2.137351009683705,3.1797139470091054,-0.11188444960409427,-1.5857706421324202,0.7335189595928071,-4.348468802966131,1.0051507838566138,-2.6307950322979927,2.5714772757235664,-0.05304425327348028,-0.7582181800125056,3.6904543147714897,2.9201175803577826,5.9229672179035155,3.858638925690279,-1.162981522366838,1.8187559633663213,2.082098921926921,4.097012880055484,-0.37594123150876513,3.32512067837677,-12.44353132860833,2.538547640687405,-1.3462201666351774,1.2590952143786893,-2.2655929810916575,-2.9912380922885546,0.661366685493963,-2.645237801807504,-2.9639868895826105,1.0267261444838063,-0.4598770968368271,-3.3192883767918033,-0.5437884946044811,5.876627738859046,0.8131632793603991,2.668010854275966,-0.3693240457911209,-0.7337933164206945,4.286846168708351,-8.330723135356543,-1.3118756745966351,-3.6497460535776227,0.9047987948507341,0.20631699594651565,0.1344037080877989,-1.3126388386800798,1.9051444646288793,-2.372180706980565,-0.8077231023262996,-1.848504010523989,-0.7313350369247473,-1.2904650618145546,8.830891993253204,-2.66967578098917,4.651057654341422,4.744069374528884,1.493329351979117,-10.752823072105905,3.519593537104047,-0.026661307064298256,-0.4050005391224083,-6.8001876345235175,-2.1332800528585416,-2.550846096285934,-3.349733069367616,-3.0877951115576003,-3.06142846433411,-0.10826458212751433,-2.9882573658876765,2.9042270208196967,-3.196731814759218,0.7462876050211484,0.28254955875527443,-1.9570493082459066,0.7999843297974678,-2.0711974718981665,0.3664045504901665,1.5992189880558456,-0.25735678921441973,-2.1044682471484,0.7488705221841983,2.3467079023101327,2.30098773300481,0.09081699163267487,0.6942525881453889,0.4232671126842362,-0.813676480379975,-0.7851220758942539,-0.5108937940591645,0.495983286612784,1.789962219644849,0.5062915804135066,1.373451224073861,2.7755124412882743,-3.427369983297858,-4.845465973533287,-0.7121045971573139,3.118574886382511,2.1618920961972954,4.399045951380202,1.358541102369312,3.431231192142281,0.13167422269120266,3.6987463248703314,-1.844098508250891,-3.598884311242678,-1.5634912375135919,5.988982765660737,6.58773537130061,-4.069024190495092,-1.5478766957572887,-1.6108853623104409,0.355516511737072,4.122924942836942,3.4139609800465713,0.30132630358134094,3.5513147847762454,0.3854817488836275,-3.3694304202813328,-11.69593987485949,5.4078352670875915,1.7146260135311273,-0.10618476100495045,2.2794060926575668,0.3079384880156901,-2.733778793051627,1.6606145699349888,-4.171726138750699,3.152093151012405,2.5903906344140246,1.3998514639025217,1.8348818273131613,2.3633211697326253,1.1803592490141988,-5.716830297082396,0.20954889243959585,6.133670450267537,-0.9464340602291479,-0.27380473149824525,-0.6833770228559146,-4.625137684915657,-0.02591652249158649,-0.8228835742598761,-0.10956369349751327,-0.2753426312729488,3.6502212705391948,2.916165460815904,-2.964844533563788,-1.811283517484064,-0.5860494046173983,0.29616612724939984,-1.0471790508903354,1.49351756803172,0.010756214224340255,4.470812121596975,6.60693628380621,3.132307389187538,-1.9111182110422664,-1.2645615384364,-1.8316257497492359,-0.661895692062668,-2.909143727219991,-2.4386736270006395,-1.1266313819877674,-2.2369140519321107,2.4214186861569473]}},\"id\":\"7c580c49-aeaf-4fde-b63d-4854a904ae4e\",\"type\":\"ColumnDataSource\"},{\"attributes\":{\"plot\":{\"id\":\"2c79148c-1a9e-4eec-80c6-ef7900fce0ea\",\"subtype\":\"Figure\",\"type\":\"Plot\"}},\"id\":\"a4bea6ef-cd4b-4305-b581-83de7802aa1d\",\"type\":\"PanTool\"},{\"attributes\":{\"overlay\":{\"id\":\"a4ee9141-d0a6-4904-ac38-56302a0aa9d7\",\"type\":\"PolyAnnotation\"},\"plot\":{\"id\":\"2c79148c-1a9e-4eec-80c6-ef7900fce0ea\",\"subtype\":\"Figure\",\"type\":\"Plot\"}},\"id\":\"24bcc504-873c-4960-84c7-2b7e3a729465\",\"type\":\"PolySelectTool\"},{\"attributes\":{\"fill_alpha\":{\"value\":0.5},\"fill_color\":{\"value\":\"lightgrey\"},\"level\":\"overlay\",\"line_alpha\":{\"value\":1.0},\"line_color\":{\"value\":\"black\"},\"line_dash\":[4,4],\"line_width\":{\"value\":2},\"plot\":null,\"xs_units\":\"screen\",\"ys_units\":\"screen\"},\"id\":\"a4ee9141-d0a6-4904-ac38-56302a0aa9d7\",\"type\":\"PolyAnnotation\"},{\"attributes\":{\"fill_alpha\":{\"value\":0.1},\"fill_color\":{\"value\":\"#1f77b4\"},\"line_alpha\":{\"value\":0.1},\"line_color\":{\"value\":\"#1f77b4\"},\"line_width\":{\"value\":3},\"x\":{\"field\":\"x\"},\"y\":{\"field\":\"y\"}},\"id\":\"05f0b208-ccb9-42d0-a221-50122bbf054f\",\"type\":\"Circle\"},{\"attributes\":{\"data_source\":{\"id\":\"7c580c49-aeaf-4fde-b63d-4854a904ae4e\",\"type\":\"ColumnDataSource\"},\"glyph\":{\"id\":\"c37e3ea8-3721-4daa-9a29-76910000d6fa\",\"type\":\"Circle\"},\"hover_glyph\":null,\"nonselection_glyph\":{\"id\":\"05f0b208-ccb9-42d0-a221-50122bbf054f\",\"type\":\"Circle\"},\"selection_glyph\":null},\"id\":\"381efd3d-e75d-496f-9bbf-e788de303184\",\"type\":\"GlyphRenderer\"},{\"attributes\":{},\"id\":\"25bfbe5d-43b2-45bb-bcce-779288fdb4d2\",\"type\":\"BasicTicker\"},{\"attributes\":{\"fill_color\":{\"value\":\"#80B1D3\"},\"line_color\":{\"value\":\"#80B1D3\"},\"line_width\":{\"value\":3},\"x\":{\"field\":\"x\"},\"y\":{\"field\":\"y\"}},\"id\":\"c37e3ea8-3721-4daa-9a29-76910000d6fa\",\"type\":\"Circle\"},{\"attributes\":{},\"id\":\"6203aa1b-017c-47a8-949d-d26f8e650c64\",\"type\":\"BasicTickFormatter\"},{\"attributes\":{\"plot\":{\"id\":\"2c79148c-1a9e-4eec-80c6-ef7900fce0ea\",\"subtype\":\"Figure\",\"type\":\"Plot\"}},\"id\":\"fb806f43-e332-4ec3-a1cd-13aee6ce6e69\",\"type\":\"ResetTool\"},{\"attributes\":{},\"id\":\"73fbcf6d-3961-4c2b-8017-96870382850c\",\"type\":\"BasicTickFormatter\"},{\"attributes\":{\"plot\":{\"id\":\"2c79148c-1a9e-4eec-80c6-ef7900fce0ea\",\"subtype\":\"Figure\",\"type\":\"Plot\"},\"ticker\":{\"id\":\"25bfbe5d-43b2-45bb-bcce-779288fdb4d2\",\"type\":\"BasicTicker\"}},\"id\":\"c564b61e-640d-4bba-8442-0419963feabd\",\"type\":\"Grid\"},{\"attributes\":{\"dimension\":1,\"plot\":{\"id\":\"2c79148c-1a9e-4eec-80c6-ef7900fce0ea\",\"subtype\":\"Figure\",\"type\":\"Plot\"},\"ticker\":{\"id\":\"f7c8ccd6-b843-41cf-b813-cf688f68a538\",\"type\":\"BasicTicker\"}},\"id\":\"43bed22d-3a37-4e66-95b4-87adcd8fce91\",\"type\":\"Grid\"},{\"attributes\":{\"bottom_units\":\"screen\",\"fill_alpha\":{\"value\":0.5},\"fill_color\":{\"value\":\"lightgrey\"},\"left_units\":\"screen\",\"level\":\"overlay\",\"line_alpha\":{\"value\":1.0},\"line_color\":{\"value\":\"black\"},\"line_dash\":[4,4],\"line_width\":{\"value\":2},\"plot\":null,\"render_mode\":\"css\",\"right_units\":\"screen\",\"top_units\":\"screen\"},\"id\":\"7d8ad7a6-83f5-4290-9424-498f9a04261a\",\"type\":\"BoxAnnotation\"},{\"attributes\":{\"align\":\"center\",\"plot\":null,\"text\":\"Residual plot on the training data\"},\"id\":\"7e85f841-beef-4782-98b3-9b3eed770a13\",\"type\":\"Title\"},{\"attributes\":{\"overlay\":{\"id\":\"5b918a43-606a-4210-954e-a72d97601872\",\"type\":\"BoxAnnotation\"},\"plot\":{\"id\":\"2c79148c-1a9e-4eec-80c6-ef7900fce0ea\",\"subtype\":\"Figure\",\"type\":\"Plot\"}},\"id\":\"66e6d8ca-fd22-44cc-9377-2f16d77081ea\",\"type\":\"BoxZoomTool\"},{\"attributes\":{\"plot\":{\"id\":\"2c79148c-1a9e-4eec-80c6-ef7900fce0ea\",\"subtype\":\"Figure\",\"type\":\"Plot\"}},\"id\":\"81ca9ee1-428d-4e22-b58b-659e1df17e89\",\"type\":\"WheelZoomTool\"},{\"attributes\":{\"plot\":{\"id\":\"2c79148c-1a9e-4eec-80c6-ef7900fce0ea\",\"subtype\":\"Figure\",\"type\":\"Plot\"}},\"id\":\"1f5bda78-e8a0-4c56-8bcf-8e8aa96bc466\",\"type\":\"SaveTool\"},{\"attributes\":{\"plot\":{\"id\":\"2c79148c-1a9e-4eec-80c6-ef7900fce0ea\",\"subtype\":\"Figure\",\"type\":\"Plot\"}},\"id\":\"8fecd539-8452-45d1-a65d-461cc86a703e\",\"type\":\"UndoTool\"},{\"attributes\":{\"fill_alpha\":{\"value\":0.5},\"fill_color\":{\"value\":\"lightgrey\"},\"level\":\"overlay\",\"line_alpha\":{\"value\":1.0},\"line_color\":{\"value\":\"black\"},\"line_dash\":[4,4],\"line_width\":{\"value\":2},\"plot\":null,\"xs_units\":\"screen\",\"ys_units\":\"screen\"},\"id\":\"52347f77-6340-474b-a68f-4ca276271c53\",\"type\":\"PolyAnnotation\"}],\"root_ids\":[\"2c79148c-1a9e-4eec-80c6-ef7900fce0ea\"]},\"title\":\"Bokeh Application\",\"version\":\"0.12.2\"}};\n",
       "            var render_items = [{\"docid\":\"cbfeae0c-c07b-42dd-b8f5-d6902cc5f7df\",\"elementid\":\"b6672efa-8cb2-456a-8567-521e2cdada2f\",\"modelid\":\"2c79148c-1a9e-4eec-80c6-ef7900fce0ea\"}];\n",
       "            \n",
       "            Bokeh.embed.embed_items(docs_json, render_items);\n",
       "        });\n",
       "      },\n",
       "      function(Bokeh) {\n",
       "      }\n",
       "    ];\n",
       "  \n",
       "    function run_inline_js() {\n",
       "      \n",
       "      if ((window.Bokeh !== undefined) || (force === \"1\")) {\n",
       "        for (var i = 0; i < inline_js.length; i++) {\n",
       "          inline_js[i](window.Bokeh);\n",
       "        }if (force === \"1\") {\n",
       "          display_loaded();\n",
       "        }} else if (Date.now() < window._bokeh_timeout) {\n",
       "        setTimeout(run_inline_js, 100);\n",
       "      } else if (!window._bokeh_failed_load) {\n",
       "        console.log(\"Bokeh: BokehJS failed to load within specified timeout.\");\n",
       "        window._bokeh_failed_load = true;\n",
       "      } else if (!force) {\n",
       "        var cell = $(\"#b6672efa-8cb2-456a-8567-521e2cdada2f\").parents('.cell').data().cell;\n",
       "        cell.output_area.append_execute_result(NB_LOAD_WARNING)\n",
       "      }\n",
       "  \n",
       "    }\n",
       "  \n",
       "    if (window._bokeh_is_loading === 0) {\n",
       "      console.log(\"Bokeh: BokehJS loaded, going straight to plotting\");\n",
       "      run_inline_js();\n",
       "    } else {\n",
       "      load_libs(js_urls, function() {\n",
       "        console.log(\"Bokeh: BokehJS plotting callback run at\", now());\n",
       "        run_inline_js();\n",
       "      });\n",
       "    }\n",
       "  }(this));\n",
       "</script>"
      ]
     },
     "metadata": {},
     "output_type": "display_data"
    }
   ],
   "source": [
    "# Plotining using bokeh\n",
    "#TOOLS = 'hover,box_zoom,box_select,crosshair,resize,reset,SVR_select,pan,save,poly_select,tap,wheel_zoom,undo'\n",
    "TOOLS = 'box_zoom,box_select,crosshair,resize,reset,lasso_select,pan,save,poly_select,tap,wheel_zoom,undo'\n",
    "p = figure(plot_width=500, plot_height=500, title=\"Residual plot on the training data\", tools=TOOLS)\n",
    "p.scatter(predicted, (predicted - Y),x=\"jjj\", marker=\"o\", color=\"#80B1D3\", line_width=3)\n",
    "p.title.align = \"center\"\n",
    "p.xaxis.axis_label = \"Predicted\"\n",
    "p.xaxis.axis_label_text_color = \"#aa6666\"\n",
    "#p.xaxis.axis_label_standoff = 30\n",
    "p.xaxis.major_tick_line_color = \"firebrick\"\n",
    "p.xaxis.major_tick_line_width = 3\n",
    "p.xaxis.minor_tick_line_color = \"orange\"\n",
    "p.yaxis.axis_label = \"Residuals\"\n",
    "p.yaxis.axis_label_text_font_style = \"italic\"\n",
    "p.yaxis.axis_label_text_color = \"#aa6666\"\n",
    "p.background_fill_color = \"beige\"\n",
    "p.background_fill_alpha = 0.5\n",
    "#p.line([2,38], [0, 0], line_dash=\"4 4\", line_width=2, color='red')\n",
    "show(p)"
   ]
  },
  {
   "cell_type": "markdown",
   "metadata": {},
   "source": [
    "## Pipeline"
   ]
  },
  {
   "cell_type": "markdown",
   "metadata": {},
   "source": [
    "The best to deliver the model by pipeline the operation then at deployment can be done in one model."
   ]
  },
  {
   "cell_type": "markdown",
   "metadata": {
    "collapsed": true
   },
   "source": [
    "  I used two ways to check the pipeline so any one can be fine"
   ]
  },
  {
   "cell_type": "code",
   "execution_count": 27,
   "metadata": {
    "collapsed": false
   },
   "outputs": [
    {
     "name": "stdout",
     "output_type": "stream",
     "text": [
      "0.809163555292\n",
      "Scoring according to mean_squared_error\n",
      "[ -9.17958319 -17.31125008 -10.66896269 -16.26919063 -13.86608142\n",
      " -14.01417374 -12.76095567  -4.36535526 -14.06946736  -6.70872007]\n",
      "\n",
      " Mean      Standard deviation\n",
      "-11.92      3.93\n",
      "[ True  True  True  True  True  True  True]\n",
      "R-squared =  0.809163555292\n"
     ]
    }
   ],
   "source": [
    "# Use Pipeline\n",
    "# ANOVA \n",
    "from sklearn.pipeline import Pipeline\n",
    "from sklearn.feature_selection import SelectKBest, f_regression\n",
    "anova_filter = SelectKBest(f_regression, k=7)\n",
    "LR = SVR(kernel = \"linear\", C = 5.0 )\n",
    "anova_LinReg = Pipeline([('scaler_Input',scaler), ('anova', anova_filter), ('LinReg', LR)])\n",
    "# You can set the parameters using the names issued\n",
    "# For instance, fit using a k of 10 in the SelectKBest\n",
    "anova_LinReg.set_params(anova__k=7).fit(new_data, Y)\n",
    "prediction = anova_LinReg.predict(new_data)\n",
    "print anova_LinReg.score(new_data, Y)                        \n",
    "# getting the selected features chosen by anova_filter\n",
    "results = cross_validation.cross_val_score(anova_LinReg, new_data, Y, cv=kfold, scoring=scoring)\n",
    "print 'Scoring according to mean_squared_error'\n",
    "print results\n",
    "print '\\n Mean      Standard deviation'\n",
    "print(\"%.2f      %.2f\" % (results.mean(), results.std()))\n",
    "print anova_LinReg.named_steps['anova'].get_support()\n",
    "r_squared = r2_score(Y, prediction, multioutput='variance_weighted')\n",
    "print 'R-squared = ',r_squared"
   ]
  },
  {
   "cell_type": "code",
   "execution_count": 28,
   "metadata": {
    "collapsed": false
   },
   "outputs": [
    {
     "name": "stdout",
     "output_type": "stream",
     "text": [
      "R-squared =  0.809163555292\n"
     ]
    }
   ],
   "source": [
    "# Using make_pipeline\n",
    "from sklearn.pipeline import make_pipeline\n",
    "\n",
    "# ANOVA SVM-C\n",
    "# 1) anova filter, take 3 best ranked features\n",
    "anova_filter = SelectKBest(f_regression, k=7)\n",
    "anova_SVR = make_pipeline(scaler, anova_filter, LR)\n",
    "anova_SVR.fit(new_data, Y)\n",
    "prediction = anova_SVR.predict(new_data)\n",
    "r_squared = r2_score(Y, prediction, multioutput='variance_weighted')\n",
    "print 'R-squared = ',r_squared"
   ]
  },
  {
   "cell_type": "markdown",
   "metadata": {},
   "source": [
    "### Save the Pipeline model for developement"
   ]
  },
  {
   "cell_type": "code",
   "execution_count": 29,
   "metadata": {
    "collapsed": false
   },
   "outputs": [
    {
     "data": {
      "text/plain": [
       "['anova_SVR.pkl',\n",
       " 'anova_SVR.pkl_01.npy',\n",
       " 'anova_SVR.pkl_02.npy',\n",
       " 'anova_SVR.pkl_03.npy',\n",
       " 'anova_SVR.pkl_04.npy',\n",
       " 'anova_SVR.pkl_05.npy',\n",
       " 'anova_SVR.pkl_06.npy',\n",
       " 'anova_SVR.pkl_07.npy',\n",
       " 'anova_SVR.pkl_08.npy',\n",
       " 'anova_SVR.pkl_09.npy',\n",
       " 'anova_SVR.pkl_10.npy',\n",
       " 'anova_SVR.pkl_11.npy',\n",
       " 'anova_SVR.pkl_12.npy',\n",
       " 'anova_SVR.pkl_13.npy',\n",
       " 'anova_SVR.pkl_14.npy',\n",
       " 'anova_SVR.pkl_15.npy']"
      ]
     },
     "execution_count": 29,
     "metadata": {},
     "output_type": "execute_result"
    }
   ],
   "source": [
    "# save the model scaler to the desk\n",
    "from sklearn.externals import joblib\n",
    "joblib.dump(anova_SVR, 'anova_SVR.pkl') "
   ]
  },
  {
   "cell_type": "code",
   "execution_count": 30,
   "metadata": {
    "collapsed": false
   },
   "outputs": [
    {
     "name": "stdout",
     "output_type": "stream",
     "text": [
      " =================================================================>>>>> done\n",
      "R-squared =  0.809163555292\n"
     ]
    }
   ],
   "source": [
    "# Test the model if it is work\n",
    "anova_SVRTest = joblib.load('anova_SVR.pkl')\n",
    "NewPred = anova_SVRTest.predict(new_data)\n",
    "print \" =================================================================>>>>> done\"\n",
    "r_squared = r2_score(Y, NewPred, multioutput='variance_weighted')\n",
    "print 'R-squared = ',r_squared"
   ]
  },
  {
   "cell_type": "code",
   "execution_count": 31,
   "metadata": {
    "collapsed": false
   },
   "outputs": [
    {
     "name": "stdout",
     "output_type": "stream",
     "text": [
      "Point of training data before normalization\n",
      "[  4.00000000e+00   9.70000000e+01   5.10000000e+01   2.13000000e+03\n",
      "   2.46000000e+01   8.20000000e+01   2.00000000e+00]\n",
      "\n",
      "The read target of the data =  44.0\n",
      "\n",
      "The Predicted target of the data =  [ 33.59791149]\n"
     ]
    }
   ],
   "source": [
    "# test on single data point, randomly choose point number 55\n",
    "print 'Point of training data before normalization\\n',new_data[55]\n",
    "print '\\nThe read target of the data = ', Y[55]\n",
    "NewPred = anova_SVRTest.predict([new_data[55]])\n",
    "print '\\nThe Predicted target of the data = ', NewPred"
   ]
  },
  {
   "cell_type": "markdown",
   "metadata": {},
   "source": [
    "## Conclusion "
   ]
  }
 ],
 "metadata": {
  "kernelspec": {
   "display_name": "Python 2",
   "language": "python",
   "name": "python2"
  },
  "language_info": {
   "codemirror_mode": {
    "name": "ipython",
    "version": 2
   },
   "file_extension": ".py",
   "mimetype": "text/x-python",
   "name": "python",
   "nbconvert_exporter": "python",
   "pygments_lexer": "ipython2",
   "version": "2.7.12"
  }
 },
 "nbformat": 4,
 "nbformat_minor": 0
}
