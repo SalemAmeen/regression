{
 "cells": [
  {
   "cell_type": "markdown",
   "metadata": {},
   "source": [
    "Salem Ameen, PhD student at Salford University\n",
    "\n",
    "### Boston House price\n",
    "\n",
    "LINEAR REGRESSION"
   ]
  },
  {
   "cell_type": "markdown",
   "metadata": {},
   "source": [
    "# Import the Libraries"
   ]
  },
  {
   "cell_type": "code",
   "execution_count": 1,
   "metadata": {
    "collapsed": false
   },
   "outputs": [
    {
     "data": {
      "text/html": [
       "\n",
       "    <div class=\"bk-root\">\n",
       "        <a href=\"http://bokeh.pydata.org\" target=\"_blank\" class=\"bk-logo bk-logo-small bk-logo-notebook\"></a>\n",
       "        <span id=\"3bacdcc5-3d52-4338-a6f9-69b87a76c2dc\">Loading BokehJS ...</span>\n",
       "    </div>"
      ]
     },
     "metadata": {},
     "output_type": "display_data"
    },
    {
     "data": {
      "application/javascript": [
       "\n",
       "(function(global) {\n",
       "  function now() {\n",
       "    return new Date();\n",
       "  }\n",
       "\n",
       "  if (typeof (window._bokeh_onload_callbacks) === \"undefined\") {\n",
       "    window._bokeh_onload_callbacks = [];\n",
       "  }\n",
       "\n",
       "  function run_callbacks() {\n",
       "    window._bokeh_onload_callbacks.forEach(function(callback) { callback() });\n",
       "    delete window._bokeh_onload_callbacks\n",
       "    console.info(\"Bokeh: all callbacks have finished\");\n",
       "  }\n",
       "\n",
       "  function load_libs(js_urls, callback) {\n",
       "    window._bokeh_onload_callbacks.push(callback);\n",
       "    if (window._bokeh_is_loading > 0) {\n",
       "      console.log(\"Bokeh: BokehJS is being loaded, scheduling callback at\", now());\n",
       "      return null;\n",
       "    }\n",
       "    if (js_urls == null || js_urls.length === 0) {\n",
       "      run_callbacks();\n",
       "      return null;\n",
       "    }\n",
       "    console.log(\"Bokeh: BokehJS not loaded, scheduling load and callback at\", now());\n",
       "    window._bokeh_is_loading = js_urls.length;\n",
       "    for (var i = 0; i < js_urls.length; i++) {\n",
       "      var url = js_urls[i];\n",
       "      var s = document.createElement('script');\n",
       "      s.src = url;\n",
       "      s.async = false;\n",
       "      s.onreadystatechange = s.onload = function() {\n",
       "        window._bokeh_is_loading--;\n",
       "        if (window._bokeh_is_loading === 0) {\n",
       "          console.log(\"Bokeh: all BokehJS libraries loaded\");\n",
       "          run_callbacks()\n",
       "        }\n",
       "      };\n",
       "      s.onerror = function() {\n",
       "        console.warn(\"failed to load library \" + url);\n",
       "      };\n",
       "      console.log(\"Bokeh: injecting script tag for BokehJS library: \", url);\n",
       "      document.getElementsByTagName(\"head\")[0].appendChild(s);\n",
       "    }\n",
       "  };\n",
       "\n",
       "  var js_urls = ['https://cdn.pydata.org/bokeh/release/bokeh-0.12.0.min.js', 'https://cdn.pydata.org/bokeh/release/bokeh-widgets-0.12.0.min.js', 'https://cdn.pydata.org/bokeh/release/bokeh-compiler-0.12.0.min.js'];\n",
       "\n",
       "  var inline_js = [\n",
       "    function(Bokeh) {\n",
       "      Bokeh.set_log_level(\"info\");\n",
       "    },\n",
       "    \n",
       "    function(Bokeh) {\n",
       "      Bokeh.$(\"#3bacdcc5-3d52-4338-a6f9-69b87a76c2dc\").text(\"BokehJS successfully loaded\");\n",
       "    },\n",
       "    function(Bokeh) {\n",
       "      console.log(\"Bokeh: injecting CSS: https://cdn.pydata.org/bokeh/release/bokeh-0.12.0.min.css\");\n",
       "      Bokeh.embed.inject_css(\"https://cdn.pydata.org/bokeh/release/bokeh-0.12.0.min.css\");\n",
       "      console.log(\"Bokeh: injecting CSS: https://cdn.pydata.org/bokeh/release/bokeh-widgets-0.12.0.min.css\");\n",
       "      Bokeh.embed.inject_css(\"https://cdn.pydata.org/bokeh/release/bokeh-widgets-0.12.0.min.css\");\n",
       "    }\n",
       "  ];\n",
       "\n",
       "  function run_inline_js() {\n",
       "    for (var i = 0; i < inline_js.length; i++) {\n",
       "      inline_js[i](window.Bokeh);\n",
       "    }\n",
       "  }\n",
       "\n",
       "  if (window._bokeh_is_loading === 0) {\n",
       "    console.log(\"Bokeh: BokehJS loaded, going straight to plotting\");\n",
       "    run_inline_js();\n",
       "  } else {\n",
       "    load_libs(js_urls, function() {\n",
       "      console.log(\"Bokeh: BokehJS plotting callback run at\", now());\n",
       "      run_inline_js();\n",
       "    });\n",
       "  }\n",
       "}(this));"
      ]
     },
     "metadata": {},
     "output_type": "display_data"
    }
   ],
   "source": [
    "import numpy as np\n",
    "import pandas\n",
    "from numpy import *\n",
    "import time\n",
    "import sys\n",
    "import pandas as pd\n",
    "import matplotlib.pyplot as plt\n",
    "from sklearn import feature_selection\n",
    "from sklearn.linear_model import LinearRegression\n",
    "from sklearn.learning_curve import learning_curve\n",
    "from sklearn.cross_validation import cross_val_predict\n",
    "from sklearn import metrics, grid_search, cross_validation\n",
    "from IPython.display import set_matplotlib_formats\n",
    "from bokeh.plotting import figure, show, output_notebook\n",
    "from sklearn.metrics import r2_score\n",
    "from bokeh.layouts import gridplot\n",
    "output_notebook()\n",
    "set_matplotlib_formats('png', 'pdf')\n",
    "%matplotlib inline\n",
    "plt.rcParams['figure.figsize'] = (6, 6)"
   ]
  },
  {
   "cell_type": "markdown",
   "metadata": {},
   "source": [
    "# Load data"
   ]
  },
  {
   "cell_type": "markdown",
   "metadata": {},
   "source": [
    "In the previous file we have not change the data as there is no missing value or add any new parameters so it can be downloaded from the web directly. "
   ]
  },
  {
   "cell_type": "code",
   "execution_count": 2,
   "metadata": {
    "collapsed": false
   },
   "outputs": [],
   "source": [
    "url = 'https://archive.ics.uci.edu/ml/machine-learning-databases/housing/housing.data'\n",
    "feature_cols = ['CRIM', 'ZN', 'INDUS', 'CHAS', 'NOX', 'RM', 'AGE', 'DIS', 'RAD', 'TAX', 'PTRATIO', 'B', 'LSTAT', 'MEDV']\n",
    "data = pd.read_csv(url, sep='\\s+', names = feature_cols)"
   ]
  },
  {
   "cell_type": "code",
   "execution_count": 3,
   "metadata": {
    "collapsed": false
   },
   "outputs": [
    {
     "name": "stdout",
     "output_type": "stream",
     "text": [
      "Number of examples 506\n"
     ]
    }
   ],
   "source": [
    "from sklearn import preprocessing\n",
    "dataset = data.values\n",
    "X = dataset[:,0:13].astype(float)\n",
    "Y = dataset[:,13]\n",
    "print 'Number of examples',len(X)"
   ]
  },
  {
   "cell_type": "code",
   "execution_count": 4,
   "metadata": {
    "collapsed": false
   },
   "outputs": [
    {
     "name": "stdout",
     "output_type": "stream",
     "text": [
      "Number of training examples 404\n",
      "Number of validation examples 102\n"
     ]
    }
   ],
   "source": [
    "# Make developement dataset for genrilization and final testing\n",
    "from sklearn.cross_validation import train_test_split\n",
    "# Extracting 20% testing data\n",
    "X_train, X_test, y_train, y_test = train_test_split(\n",
    "    X, Y, test_size=0.20, random_state=0)\n",
    "X = X_train\n",
    "Y = y_train\n",
    "new_data      = X_train\n",
    "new_test_data = X_test\n",
    "print 'Number of training examples',len(X_train)\n",
    "print 'Number of validation examples',len(X_test)"
   ]
  },
  {
   "cell_type": "markdown",
   "metadata": {},
   "source": [
    "Number of training data is very small so we need to use cross validation instead of spareate another validation data."
   ]
  },
  {
   "cell_type": "markdown",
   "metadata": {},
   "source": [
    "From the previous visulization the data has no missing value but has many outlier and some sparisty"
   ]
  },
  {
   "cell_type": "markdown",
   "metadata": {},
   "source": [
    "# Ranking of the feature's importance to the target"
   ]
  },
  {
   "cell_type": "code",
   "execution_count": 5,
   "metadata": {
    "collapsed": false
   },
   "outputs": [
    {
     "name": "stdout",
     "output_type": "stream",
     "text": [
      "CRIM \t0.15078046905\n",
      "ZN \t0.129920844894\n",
      "INDUS \t0.233990030444\n",
      "CHAS \t0.0307161297088\n",
      "NOX \t0.182603042502\n",
      "RM \t0.483525455991\n",
      "AGE \t0.142094744078\n",
      "DIS \t0.0624643721218\n",
      "RAD \t0.145638579912\n",
      "TAX \t0.219525921044\n",
      "PTRATIO \t0.257847318009\n",
      "B \t0.111196118246\n",
      "LSTAT \t0.544146297586\n",
      "MEDV \t1.0\n"
     ]
    }
   ],
   "source": [
    "# Using just correlation coefficient even in prevoius file we show them using data frame\n",
    "for col in feature_cols:\n",
    "    lm = LinearRegression(fit_intercept=True)\n",
    "    lm.fit(data[[col]], data['MEDV'])\n",
    "    print col,'\\t', lm.score(data[[col]], data['MEDV'])"
   ]
  },
  {
   "cell_type": "code",
   "execution_count": 6,
   "metadata": {
    "collapsed": false
   },
   "outputs": [
    {
     "name": "stdout",
     "output_type": "stream",
     "text": [
      "Feature Name      Score         Pvalue\n",
      "CRIM \t\t89.4861147577 \t1.17398708219e-19\n",
      "ZN \t\t75.257642299 \t5.71358415308e-17\n",
      "INDUS \t\t153.954883136 \t4.90025998175e-31\n",
      "CHAS \t\t15.9715124204 \t7.39062317052e-05\n",
      "NOX \t\t112.59148028 \t7.06504158625e-24\n",
      "RM \t\t471.846739876 \t2.48722887101e-74\n",
      "AGE \t\t83.4774592192 \t1.56998220919e-18\n",
      "DIS \t\t33.5795703259 \t1.20661172734e-08\n",
      "RAD \t\t85.9142776698 \t5.46593256965e-19\n",
      "TAX \t\t141.761356577 \t5.63773362769e-29\n",
      "PTRATIO \t\t175.105542876 \t1.60950947847e-34\n",
      "B \t\t63.0542291125 \t1.31811273408e-14\n",
      "LSTAT \t\t601.61787111 \t5.08110339439e-88\n",
      "MEDV \t\t4.53962842439e+17 \t0.0\n"
     ]
    }
   ],
   "source": [
    "# Randing the important features to the target\n",
    "model = feature_selection.SelectKBest(score_func=feature_selection.f_regression,k=4)\n",
    "results = model.fit(data[feature_cols], data['MEDV'])\n",
    "k=0\n",
    "print 'Feature Name      Score         Pvalue'\n",
    "for feat in feature_cols:\n",
    "    print feat,'\\t\\t',results.scores_[k],'\\t',results.pvalues_[k]\n",
    "    k=k+1\n"
   ]
  },
  {
   "cell_type": "markdown",
   "metadata": {},
   "source": [
    "# Set the parameters for cross validation"
   ]
  },
  {
   "cell_type": "code",
   "execution_count": 7,
   "metadata": {
    "collapsed": true
   },
   "outputs": [],
   "source": [
    "num_folds = 10\n",
    "num_instances = len(X)\n",
    "seed = 7\n",
    "kfold = cross_validation.KFold(n=num_instances, n_folds=num_folds, random_state=seed)"
   ]
  },
  {
   "cell_type": "markdown",
   "metadata": {},
   "source": [
    " # Set the parameters for bias-variance dilemma"
   ]
  },
  {
   "cell_type": "code",
   "execution_count": 8,
   "metadata": {
    "collapsed": false
   },
   "outputs": [],
   "source": [
    "def plot_learning_curve(estimator, title, X, y, ylim=None, cv=None,\n",
    "                        n_jobs=1, train_sizes=np.linspace(.1, 1.0, 5)):\n",
    "    plt.figure()\n",
    "    plt.title(title)\n",
    "    if ylim is not None:\n",
    "        plt.ylim(*ylim)\n",
    "    plt.xlabel(\"Training examples\")\n",
    "    plt.ylabel(\"Score\")\n",
    "    train_sizes, train_scores, test_scores = learning_curve(\n",
    "        estimator, X, y, cv=cv, n_jobs=n_jobs, train_sizes=train_sizes)\n",
    "    train_scores_mean = np.mean(train_scores, axis=1)\n",
    "    train_scores_std = np.std(train_scores, axis=1)\n",
    "    test_scores_mean = np.mean(test_scores, axis=1)\n",
    "    test_scores_std = np.std(test_scores, axis=1)\n",
    "    plt.grid()\n",
    "\n",
    "    plt.fill_between(train_sizes, train_scores_mean - train_scores_std,\n",
    "                     train_scores_mean + train_scores_std, alpha=0.1,\n",
    "                     color=\"r\")\n",
    "    plt.fill_between(train_sizes, test_scores_mean - test_scores_std,\n",
    "                     test_scores_mean + test_scores_std, alpha=0.1, color=\"g\")\n",
    "    plt.plot(train_sizes, train_scores_mean, 'o-', color=\"r\",\n",
    "             label=\"Training score\")\n",
    "    plt.plot(train_sizes, test_scores_mean, 'o-', color=\"g\",\n",
    "             label=\"Cross-validation score\")\n",
    "\n",
    "    plt.legend(loc=\"best\")\n",
    "    return plt"
   ]
  },
  {
   "cell_type": "markdown",
   "metadata": {},
   "source": [
    "# Preprocessing the data and save the model and preprocessed data"
   ]
  },
  {
   "cell_type": "code",
   "execution_count": 9,
   "metadata": {
    "collapsed": true
   },
   "outputs": [],
   "source": [
    "# According to the nature of the data spasity and there is outliter RobustScaler class is recomandit \n",
    "# but when I tried both of them the result seems is same\n",
    "from sklearn.preprocessing import StandardScaler\n",
    "scaler = preprocessing.StandardScaler().fit(X_train)"
   ]
  },
  {
   "cell_type": "code",
   "execution_count": 10,
   "metadata": {
    "collapsed": true
   },
   "outputs": [],
   "source": [
    "X_train = scaler.transform(X_train)\n",
    "X_test = scaler.transform(X_test) # use same transform for testing data\n",
    "X = X_train"
   ]
  },
  {
   "cell_type": "code",
   "execution_count": 11,
   "metadata": {
    "collapsed": true
   },
   "outputs": [],
   "source": [
    "# save transformed data\n",
    "np.save('./data/X_train', X_train)\n",
    "np.save('./data/y_train', y_train)\n",
    "np.save('./data/X_test', X_test)\n",
    "np.save('./data/y_test', y_test)"
   ]
  },
  {
   "cell_type": "code",
   "execution_count": 12,
   "metadata": {
    "collapsed": false
   },
   "outputs": [
    {
     "data": {
      "text/plain": [
       "['scaler.pkl', 'scaler.pkl_01.npy', 'scaler.pkl_02.npy', 'scaler.pkl_03.npy']"
      ]
     },
     "execution_count": 12,
     "metadata": {},
     "output_type": "execute_result"
    }
   ],
   "source": [
    "# save the model scaler to the desk\n",
    "from sklearn.externals import joblib\n",
    "joblib.dump(scaler, 'scaler.pkl') "
   ]
  },
  {
   "cell_type": "code",
   "execution_count": 13,
   "metadata": {
    "collapsed": false
   },
   "outputs": [
    {
     "name": "stdout",
     "output_type": "stream",
     "text": [
      " =================================================================>>>>> done\n",
      "[[-0.40835869 -0.49960763 -1.12872913 ..., -0.71272928  0.18547577\n",
      "  -0.73610347]\n",
      " [ 0.71925111 -0.49960763  0.9988844  ...,  0.79267419  0.0831649\n",
      "  -0.4356916 ]\n",
      " [-0.40257488 -0.49960763  0.39610829 ..., -0.94082071  0.39472748\n",
      "  -0.30263246]\n",
      " ..., \n",
      " [-0.3982601   0.55937182 -0.85812418 ...,  0.56458276  0.41019833\n",
      "   0.06087961]\n",
      " [-0.39934279 -0.49960763 -0.07637654 ...,  0.0627816   0.30517724\n",
      "  -0.45626776]\n",
      " [-0.40088071 -0.49960763 -0.36702631 ...,  1.1120022   0.41166637\n",
      "  -0.05983383]]\n"
     ]
    }
   ],
   "source": [
    "# Test the model if it is work\n",
    "scalerTest = joblib.load('scaler.pkl')\n",
    "new_data_scaled = scalerTest.transform(new_test_data)\n",
    "print \" =================================================================>>>>> done\"\n",
    "print new_data_scaled"
   ]
  },
  {
   "cell_type": "markdown",
   "metadata": {},
   "source": [
    "# 1. Linear Regression"
   ]
  },
  {
   "cell_type": "markdown",
   "metadata": {},
   "source": [
    "Linear regression assumes that the input variables have a Gaussian distribution. It is also assumed that input variables are relevant to the output variable and that they are not highly correlated with each other (a problem called collinearity).\n",
    "\n"
   ]
  },
  {
   "cell_type": "markdown",
   "metadata": {},
   "source": [
    "## Learning Curve "
   ]
  },
  {
   "cell_type": "markdown",
   "metadata": {},
   "source": [
    "In essence, what we’re doing it training the exact same model with increasingly large fractions of our total training data, and plotting the error of the training and test sets at each step."
   ]
  },
  {
   "cell_type": "code",
   "execution_count": 14,
   "metadata": {
    "collapsed": false
   },
   "outputs": [
    {
     "data": {
      "image/png": "[encoded data removed]",
      "text/plain": [
       "<matplotlib.figure.Figure at 0x1154c7c50>"
      ]
     },
     "metadata": {},
     "output_type": "display_data"
    }
   ],
   "source": [
    "from sklearn.linear_model import LinearRegression\n",
    "model = LinearRegression()\n",
    "title = \"Learning Curves (Linear Refression)\"\n",
    "# Cross validation with 100 iterations to get smoother mean test and train\n",
    "# score curves, each time with 20% data randomly selected as a validation set.\n",
    "cv = cross_validation.ShuffleSplit(X.shape[0], n_iter=100,\n",
    "                                   test_size=0.2, random_state=0)\n",
    "plot_learning_curve(model, title, X, Y, ylim=(0.2, 1.01), cv=cv, n_jobs=-1)\n",
    "plt.show()"
   ]
  },
  {
   "cell_type": "code",
   "execution_count": 15,
   "metadata": {
    "collapsed": false
   },
   "outputs": [
    {
     "name": "stdout",
     "output_type": "stream",
     "text": [
      "train_sizes =  [ 50  80 110]\n",
      " training scores\n",
      " 50 training sizees\n",
      "0.854312833077 ± 0.0485579948389\n",
      " 80 training sizees\n",
      "0.815068825709 ± 0.0448366331317\n",
      " 110 training sizees\n",
      "0.802510687824 ± 0.0423023392693\n",
      "\n",
      " validation scores\n",
      " 50 validation scores\n",
      "0.557397140973 ± 0.237494346689\n",
      " 80 validation scores\n",
      "0.652632097531 ± 0.129702774126\n",
      " 110 validation scores\n",
      "0.689434467442 ± 0.0854874274593\n"
     ]
    }
   ],
   "source": [
    "# More data from learning curve to show the process of building the model\n",
    "train_sizes, train_scores, valid_scores = learning_curve(\n",
    "     model, X, Y, train_sizes=[50, 80, 110], cv=cv, n_jobs=4)\n",
    "\n",
    "print 'train_sizes = ', train_sizes\n",
    "\n",
    "print ' training scores'\n",
    "print ' 50 training sizees'\n",
    "print train_scores[0].mean(),'±',train_scores[0].std()\n",
    "print ' 80 training sizees'\n",
    "print train_scores[1].mean(),'±',train_scores[1].std()\n",
    "print ' 110 training sizees'\n",
    "print train_scores[2].mean(),'±',train_scores[2].std()\n",
    "\n",
    "print '\\n validation scores'\n",
    "print ' 50 validation scores'\n",
    "print valid_scores[0].mean(),'±',valid_scores[0].std()\n",
    "print ' 80 validation scores'\n",
    "print valid_scores[1].mean(),'±',valid_scores[1].std()\n",
    "print ' 110 validation scores'\n",
    "print valid_scores[2].mean(),'±',valid_scores[2].std()"
   ]
  },
  {
   "cell_type": "markdown",
   "metadata": {},
   "source": [
    "## Cross validation"
   ]
  },
  {
   "cell_type": "code",
   "execution_count": 16,
   "metadata": {
    "collapsed": false
   },
   "outputs": [
    {
     "name": "stdout",
     "output_type": "stream",
     "text": [
      "Scoring according to mean_squared_error\n",
      "[-15.04266913 -16.73183257 -19.32851237 -23.9048444  -19.08879315\n",
      " -21.0185826  -38.14364323 -28.81714105 -20.68631546 -11.21388242]\n",
      "\n",
      " Mean      Standard deviation\n",
      "-21.40      7.20\n",
      "\n",
      " print intercept and coefficients\n",
      "22.6118811881\n",
      "[-0.97082019  1.05714873  0.03831099  0.59450642 -1.8551476   2.57321942\n",
      " -0.08761547 -2.88094259  2.11224542 -1.87533131 -2.29276735  0.71817947\n",
      " -3.59245482]\n",
      "\n",
      "(feature, coefficients)\n",
      "[('CRIM', -0.97082019046188361), ('ZN', 1.0571487264362898), ('INDUS', 0.038310993617578448), ('CHAS', 0.5945064227496637), ('NOX', -1.8551475975887162), ('RM', 2.5732194188149329), ('AGE', -0.087615469832360363), ('DIS', -2.8809425930993351), ('RAD', 2.1122454191876976), ('TAX', -1.8753313056824523), ('PTRATIO', -2.2927673485306639), ('B', 0.71817947345925803), ('LSTAT', -3.5924548228800486)]\n",
      "\n",
      " Predicted Target = 22.61 +(-0.97)X1 +(1.06)X2 +(0.04)X3 +(0.59)X4+(-1.86)X4 +(2.57)X6 +(-0.09)X6 +(-2.88)X8+(2.11)X9+(-1.88)X10 +(-2.29)X11+(0.72)X12 +(-3.59)X13\n",
      "\n",
      " Predicted Target = 22.61 +(-0.97)CRIM +(1.06)ZN +(0.04)INDUS +(0.59)CHAS+(-1.86)NOX +(2.57)RM +(-0.09)AGE +(-2.88)DIS+(2.11)RAD+(-1.88)TAX +(-2.29)PTRATIO +(0.72)B +(-3.59)LSTAT\n"
     ]
    }
   ],
   "source": [
    "scoring = 'mean_squared_error'\n",
    "results = cross_validation.cross_val_score(model, X, Y, cv=kfold, scoring=scoring)\n",
    "print 'Scoring according to mean_squared_error'\n",
    "print results\n",
    "print '\\n Mean      Standard deviation'\n",
    "print(\"%.2f      %.2f\" % (results.mean(), results.std()))\n",
    "## Fit the model\n",
    "model.fit(X,Y)\n",
    "print '\\n print intercept and coefficients'\n",
    "print model.intercept_\n",
    "print model.coef_\n",
    "# pair the feature names with the coefficients\n",
    "print '\\n(feature, coefficients)'\n",
    "print zip(feature_cols, model.coef_)\n",
    "# Linear qu. of the model\n",
    "\n",
    "print (\"\\n Predicted Target = %.2f +(%.2f)X1 +(%.2f)X2 +(%.2f)X3 +(%.2f)X4+(%.2f)X4 +(%.2f)X6 +(%.2f)X6 +(%.2f)X8+(%.2f)X9+(%.2f)X10 +(%.2f)X11+(%.2f)X12 +(%.2f)X13\"\n",
    "       % (model.intercept_, model.coef_[0], model.coef_[1],model.coef_[2],model.coef_[3],\n",
    "       model.coef_[4],model.coef_[5],model.coef_[6],model.coef_[7],\n",
    "      model.coef_[8], model.coef_[9],model.coef_[10],model.coef_[11],\n",
    "      model.coef_[12]))\n",
    "print (\"\\n Predicted Target = %.2f +(%.2f)%s +(%.2f)%s +(%.2f)%s +(%.2f)%s+(%.2f)%s +(%.2f)%s +(%.2f)%s +(%.2f)%s+(%.2f)%s+(%.2f)%s +(%.2f)%s +(%.2f)%s +(%.2f)%s\"\n",
    "       % (model.intercept_, model.coef_[0], feature_cols[0], model.coef_[1], feature_cols[1],\n",
    "          model.coef_[2], feature_cols[2],model.coef_[3], feature_cols[3],\n",
    "       model.coef_[4], feature_cols[4],model.coef_[5], feature_cols[5],model.coef_[6], feature_cols[6],\n",
    "          model.coef_[7], feature_cols[7],\n",
    "      model.coef_[8], feature_cols[8], model.coef_[9], feature_cols[9],\n",
    "          model.coef_[10], feature_cols[10],model.coef_[11], feature_cols[11],\n",
    "      model.coef_[12], feature_cols[12]))"
   ]
  },
  {
   "cell_type": "markdown",
   "metadata": {},
   "source": [
    "To be more precise these valrible is not the input feature as descripe on the dataset, those varibles in scaled virsion on the orginal onces. So, to be more correct I should assign to them another varibles but for easy to unserstand I kept them as they were."
   ]
  },
  {
   "cell_type": "markdown",
   "metadata": {},
   "source": [
    "## Coefficients Of Determination {Calculating R^2}\n",
    "\n",
    "R^2, Close to one is better"
   ]
  },
  {
   "cell_type": "code",
   "execution_count": 17,
   "metadata": {
    "collapsed": false
   },
   "outputs": [
    {
     "name": "stdout",
     "output_type": "stream",
     "text": [
      "R-squared =  0.748995851279\n"
     ]
    }
   ],
   "source": [
    "predicted = cross_val_predict(model, X, Y, cv=kfold)\n",
    "r_squared = r2_score(Y, predicted, multioutput='variance_weighted')\n",
    "print 'R-squared = ',r_squared"
   ]
  },
  {
   "cell_type": "markdown",
   "metadata": {},
   "source": [
    "## More results on linear regression by using Statsmodel\n",
    "\n",
    "http://statsmodels.sourceforge.net/stable/  "
   ]
  },
  {
   "cell_type": "code",
   "execution_count": 18,
   "metadata": {
    "collapsed": false
   },
   "outputs": [
    {
     "name": "stdout",
     "output_type": "stream",
     "text": [
      "                            OLS Regression Results                            \n",
      "==============================================================================\n",
      "Dep. Variable:                      y   R-squared:                       0.773\n",
      "Model:                            OLS   Adj. R-squared:                  0.765\n",
      "Method:                 Least Squares   F-statistic:                     102.2\n",
      "Date:                Tue, 09 Aug 2016   Prob (F-statistic):          9.64e-117\n",
      "Time:                        07:44:02   Log-Likelihood:                -1171.5\n",
      "No. Observations:                 404   AIC:                             2371.\n",
      "Df Residuals:                     390   BIC:                             2427.\n",
      "Df Model:                          13                                         \n",
      "Covariance Type:            nonrobust                                         \n",
      "==============================================================================\n",
      "                 coef    std err          t      P>|t|      [95.0% Conf. Int.]\n",
      "------------------------------------------------------------------------------\n",
      "const         22.6119      0.223    101.576      0.000        22.174    23.050\n",
      "x1            -0.9708      0.298     -3.257      0.001        -1.557    -0.385\n",
      "x2             1.0571      0.341      3.102      0.002         0.387     1.727\n",
      "x3             0.0383      0.443      0.087      0.931        -0.832     0.909\n",
      "x4             0.5945      0.229      2.595      0.010         0.144     1.045\n",
      "x5            -1.8551      0.485     -3.828      0.000        -2.808    -0.902\n",
      "x6             2.5732      0.317      8.106      0.000         1.949     3.197\n",
      "x7            -0.0876      0.402     -0.218      0.828        -0.878     0.703\n",
      "x8            -2.8809      0.445     -6.480      0.000        -3.755    -2.007\n",
      "x9             2.1122      0.607      3.481      0.001         0.919     3.305\n",
      "x10           -1.8753      0.665     -2.819      0.005        -3.183    -0.567\n",
      "x11           -2.2928      0.300     -7.636      0.000        -2.883    -1.702\n",
      "x12            0.7182      0.261      2.749      0.006         0.204     1.232\n",
      "x13           -3.5925      0.395     -9.086      0.000        -4.370    -2.815\n",
      "==============================================================================\n",
      "Omnibus:                      141.494   Durbin-Watson:                   1.996\n",
      "Prob(Omnibus):                  0.000   Jarque-Bera (JB):              629.882\n",
      "Skew:                           1.470   Prob(JB):                    1.67e-137\n",
      "Kurtosis:                       8.365   Cond. No.                         9.81\n",
      "==============================================================================\n",
      "\n",
      "Warnings:\n",
      "[1] Standard Errors assume that the covariance matrix of the errors is correctly specified.\n"
     ]
    }
   ],
   "source": [
    "import statsmodels.api as sm\n",
    "results = sm.OLS(Y,sm.add_constant(X)).fit()\n",
    "print results.summary()"
   ]
  },
  {
   "cell_type": "markdown",
   "metadata": {},
   "source": [
    "## Residual Plot"
   ]
  },
  {
   "cell_type": "code",
   "execution_count": 19,
   "metadata": {
    "collapsed": false
   },
   "outputs": [
    {
     "data": {
      "image/png": "[encoded data removed]",
      "text/plain": [
       "<matplotlib.figure.Figure at 0x11556cd10>"
      ]
     },
     "metadata": {},
     "output_type": "display_data"
    }
   ],
   "source": [
    "predicted = cross_val_predict(model, X, Y, cv=kfold)\n",
    "fig, ax = plt.subplots()\n",
    "ax.scatter(Y, predicted)\n",
    "ax.plot([Y.min(), Y.max()], [Y.min(), Y.max()], 'k--', lw=4)\n",
    "ax.set_xlabel('Measured')\n",
    "ax.set_ylabel('Predicted')\n",
    "plt.show()"
   ]
  },
  {
   "cell_type": "code",
   "execution_count": 20,
   "metadata": {
    "collapsed": false
   },
   "outputs": [
    {
     "data": {
      "text/html": [
       "\n",
       "\n",
       "    <div class=\"bk-root\">\n",
       "        <div class=\"plotdiv\" id=\"883a26df-4b2f-4c70-8fb9-72343be0ec5f\"></div>\n",
       "    </div>\n",
       "<script type=\"text/javascript\">\n",
       "  \n",
       "  (function(global) {\n",
       "    function now() {\n",
       "      return new Date();\n",
       "    }\n",
       "  \n",
       "    if (typeof (window._bokeh_onload_callbacks) === \"undefined\") {\n",
       "      window._bokeh_onload_callbacks = [];\n",
       "    }\n",
       "  \n",
       "    function run_callbacks() {\n",
       "      window._bokeh_onload_callbacks.forEach(function(callback) { callback() });\n",
       "      delete window._bokeh_onload_callbacks\n",
       "      console.info(\"Bokeh: all callbacks have finished\");\n",
       "    }\n",
       "  \n",
       "    function load_libs(js_urls, callback) {\n",
       "      window._bokeh_onload_callbacks.push(callback);\n",
       "      if (window._bokeh_is_loading > 0) {\n",
       "        console.log(\"Bokeh: BokehJS is being loaded, scheduling callback at\", now());\n",
       "        return null;\n",
       "      }\n",
       "      if (js_urls == null || js_urls.length === 0) {\n",
       "        run_callbacks();\n",
       "        return null;\n",
       "      }\n",
       "      console.log(\"Bokeh: BokehJS not loaded, scheduling load and callback at\", now());\n",
       "      window._bokeh_is_loading = js_urls.length;\n",
       "      for (var i = 0; i < js_urls.length; i++) {\n",
       "        var url = js_urls[i];\n",
       "        var s = document.createElement('script');\n",
       "        s.src = url;\n",
       "        s.async = false;\n",
       "        s.onreadystatechange = s.onload = function() {\n",
       "          window._bokeh_is_loading--;\n",
       "          if (window._bokeh_is_loading === 0) {\n",
       "            console.log(\"Bokeh: all BokehJS libraries loaded\");\n",
       "            run_callbacks()\n",
       "          }\n",
       "        };\n",
       "        s.onerror = function() {\n",
       "          console.warn(\"failed to load library \" + url);\n",
       "        };\n",
       "        console.log(\"Bokeh: injecting script tag for BokehJS library: \", url);\n",
       "        document.getElementsByTagName(\"head\")[0].appendChild(s);\n",
       "      }\n",
       "    };var element = document.getElementById(\"883a26df-4b2f-4c70-8fb9-72343be0ec5f\");\n",
       "    if (element == null) {\n",
       "      console.log(\"Bokeh: ERROR: autoload.js configured with elementid '883a26df-4b2f-4c70-8fb9-72343be0ec5f' but no matching script tag was found. \")\n",
       "      return false;\n",
       "    }\n",
       "  \n",
       "    var js_urls = [];\n",
       "  \n",
       "    var inline_js = [\n",
       "      function(Bokeh) {\n",
       "        Bokeh.$(function() {\n",
       "            var docs_json = {\"e5142610-d258-4b82-a897-c22c4cac7ce0\":{\"roots\":{\"references\":[{\"attributes\":{\"bottom_units\":\"screen\",\"fill_alpha\":{\"value\":0.5},\"fill_color\":{\"value\":\"lightgrey\"},\"left_units\":\"screen\",\"level\":\"overlay\",\"line_alpha\":{\"value\":1.0},\"line_color\":{\"value\":\"black\"},\"line_dash\":[4,4],\"line_width\":{\"value\":2},\"plot\":null,\"render_mode\":\"css\",\"right_units\":\"screen\",\"top_units\":\"screen\"},\"id\":\"0783af76-0cfb-4e05-89b8-9a234fc348d3\",\"type\":\"BoxAnnotation\"},{\"attributes\":{\"dimension\":1,\"plot\":{\"id\":\"398f48e3-ea24-447d-b9f9-c9056705d445\",\"subtype\":\"Figure\",\"type\":\"Plot\"},\"ticker\":{\"id\":\"b2aa70ee-7bb2-41a3-aad6-1570db1486ca\",\"type\":\"BasicTicker\"}},\"id\":\"3f4d7ca0-2228-4ae0-87d3-87800786265f\",\"type\":\"Grid\"},{\"attributes\":{\"background_fill_alpha\":{\"value\":0.5},\"background_fill_color\":{\"value\":\"beige\"},\"below\":[{\"id\":\"e1a075e8-8b20-4526-97d3-139e35bed1dd\",\"type\":\"LinearAxis\"}],\"left\":[{\"id\":\"0e2e67ed-1431-4449-bec1-c6362e8aaf17\",\"type\":\"LinearAxis\"}],\"plot_height\":500,\"plot_width\":500,\"renderers\":[{\"id\":\"e1a075e8-8b20-4526-97d3-139e35bed1dd\",\"type\":\"LinearAxis\"},{\"id\":\"47437562-d3cb-4e1d-92f0-49653b1258da\",\"type\":\"Grid\"},{\"id\":\"0e2e67ed-1431-4449-bec1-c6362e8aaf17\",\"type\":\"LinearAxis\"},{\"id\":\"3f4d7ca0-2228-4ae0-87d3-87800786265f\",\"type\":\"Grid\"},{\"id\":\"1fb4577c-869c-4059-99d4-57e6a39dfe21\",\"type\":\"BoxAnnotation\"},{\"id\":\"0783af76-0cfb-4e05-89b8-9a234fc348d3\",\"type\":\"BoxAnnotation\"},{\"id\":\"cdd8842e-fe8a-4f7b-8499-58fe56781cde\",\"type\":\"PolyAnnotation\"},{\"id\":\"71c54eee-9b58-4645-adc1-ea1f8e8eb327\",\"type\":\"PolyAnnotation\"},{\"id\":\"0f3ee476-0b43-4109-b8b0-158fa50e88bd\",\"type\":\"GlyphRenderer\"},{\"id\":\"f0f64078-f4f2-4d55-b847-8e56670b91d6\",\"type\":\"GlyphRenderer\"}],\"title\":{\"id\":\"e723d488-1ae7-44d4-8010-c219cbc3ed57\",\"type\":\"Title\"},\"tool_events\":{\"id\":\"894411bf-90b2-4901-b5e0-8cadee5bfe10\",\"type\":\"ToolEvents\"},\"toolbar\":{\"id\":\"8108a63e-5052-4c4f-b064-411abf0944c0\",\"type\":\"Toolbar\"},\"x_range\":{\"id\":\"44effd6d-e6dc-478e-9690-c9048c3bcbc2\",\"type\":\"DataRange1d\"},\"y_range\":{\"id\":\"d58b101d-d752-4bbc-a88e-9b8f9aa74708\",\"type\":\"DataRange1d\"}},\"id\":\"398f48e3-ea24-447d-b9f9-c9056705d445\",\"subtype\":\"Figure\",\"type\":\"Plot\"},{\"attributes\":{\"line_alpha\":{\"value\":0.1},\"line_color\":{\"value\":\"#1f77b4\"},\"line_dash\":[4,4],\"line_width\":{\"value\":2},\"x\":{\"field\":\"x\"},\"y\":{\"field\":\"y\"}},\"id\":\"b9a35f90-1076-40bd-99b1-617edc9e119c\",\"type\":\"Line\"},{\"attributes\":{\"fill_color\":{\"value\":\"#80B1D3\"},\"line_color\":{\"value\":\"#80B1D3\"},\"line_width\":{\"value\":3},\"x\":{\"field\":\"x\"},\"y\":{\"field\":\"y\"}},\"id\":\"bcf0c811-892e-43a8-8760-b44c0ff909f1\",\"type\":\"Circle\"},{\"attributes\":{\"line_dash\":[4,4],\"line_width\":{\"value\":2},\"x\":{\"field\":\"x\"},\"y\":{\"field\":\"y\"}},\"id\":\"0895253e-6bc4-4262-9dbe-a0883a2fcb60\",\"type\":\"Line\"},{\"attributes\":{\"fill_alpha\":{\"value\":0.5},\"fill_color\":{\"value\":\"lightgrey\"},\"level\":\"overlay\",\"line_alpha\":{\"value\":1.0},\"line_color\":{\"value\":\"black\"},\"line_dash\":[4,4],\"line_width\":{\"value\":2},\"plot\":null,\"xs_units\":\"screen\",\"ys_units\":\"screen\"},\"id\":\"71c54eee-9b58-4645-adc1-ea1f8e8eb327\",\"type\":\"PolyAnnotation\"},{\"attributes\":{\"plot\":{\"id\":\"398f48e3-ea24-447d-b9f9-c9056705d445\",\"subtype\":\"Figure\",\"type\":\"Plot\"}},\"id\":\"b566160c-29e8-4298-a02a-aeb94a539bcc\",\"type\":\"CrosshairTool\"},{\"attributes\":{\"plot\":{\"id\":\"398f48e3-ea24-447d-b9f9-c9056705d445\",\"subtype\":\"Figure\",\"type\":\"Plot\"}},\"id\":\"6cb7f17e-af2b-4dcc-adc0-031befba43bd\",\"type\":\"ResetTool\"},{\"attributes\":{\"fill_alpha\":{\"value\":0.5},\"fill_color\":{\"value\":\"lightgrey\"},\"level\":\"overlay\",\"line_alpha\":{\"value\":1.0},\"line_color\":{\"value\":\"black\"},\"line_dash\":[4,4],\"line_width\":{\"value\":2},\"plot\":null,\"xs_units\":\"screen\",\"ys_units\":\"screen\"},\"id\":\"cdd8842e-fe8a-4f7b-8499-58fe56781cde\",\"type\":\"PolyAnnotation\"},{\"attributes\":{\"callback\":null,\"plot\":{\"id\":\"398f48e3-ea24-447d-b9f9-c9056705d445\",\"subtype\":\"Figure\",\"type\":\"Plot\"}},\"id\":\"50696eba-a8ee-4b92-ad85-547474644146\",\"type\":\"TapTool\"},{\"attributes\":{\"bottom_units\":\"screen\",\"fill_alpha\":{\"value\":0.5},\"fill_color\":{\"value\":\"lightgrey\"},\"left_units\":\"screen\",\"level\":\"overlay\",\"line_alpha\":{\"value\":1.0},\"line_color\":{\"value\":\"black\"},\"line_dash\":[4,4],\"line_width\":{\"value\":2},\"plot\":null,\"render_mode\":\"css\",\"right_units\":\"screen\",\"top_units\":\"screen\"},\"id\":\"1fb4577c-869c-4059-99d4-57e6a39dfe21\",\"type\":\"BoxAnnotation\"},{\"attributes\":{\"callback\":null,\"column_names\":[\"x\",\"y\"],\"data\":{\"x\":[26.7,21.7,22.0,22.9,10.4,21.9,20.6,26.4,41.3,17.2,27.1,20.4,16.5,24.4,8.4,23.0,9.7,50.0,30.5,12.3,19.4,21.2,20.3,18.8,33.4,18.5,19.6,33.2,13.1,7.5,13.6,17.4,8.4,35.4,24.0,13.4,26.2,7.2,13.1,24.5,37.2,25.0,24.1,16.6,32.9,36.2,11.0,7.2,22.8,28.7,14.4,24.4,18.1,22.5,20.5,15.2,17.4,13.6,8.7,18.2,35.4,31.7,33.0,22.2,20.4,23.9,25.0,12.7,29.1,12.0,17.7,27.0,20.6,10.2,17.5,19.7,29.8,20.5,14.9,10.9,19.5,22.7,19.5,24.6,25.0,24.5,50.0,14.3,11.8,31.0,28.7,16.2,43.5,25.0,22.0,19.9,22.1,46.0,22.9,20.2,43.1,34.6,13.8,24.3,21.5,24.4,21.2,23.8,26.6,25.1,9.6,19.4,19.4,9.5,14.0,26.5,13.8,34.7,16.3,21.7,17.5,15.6,20.9,21.7,12.7,18.5,23.7,19.3,12.7,21.6,23.2,29.6,21.2,23.8,17.1,22.0,36.5,18.8,21.9,23.1,20.2,17.4,37.0,24.1,36.2,15.7,32.2,13.5,17.9,13.3,11.7,41.7,18.4,13.1,25.0,21.2,16.0,34.9,25.2,24.8,21.5,23.4,18.9,10.8,21.0,27.5,17.5,13.5,28.7,14.8,19.1,28.6,13.1,19.0,11.3,13.3,22.4,20.1,18.2,22.9,20.6,25.0,12.8,34.9,23.7,50.0,29.0,30.1,22.0,15.6,23.3,30.1,14.3,22.8,50.0,20.8,6.3,34.9,32.4,19.9,20.3,17.8,23.1,20.4,23.2,7.0,16.8,46.7,50.0,22.9,23.9,21.4,21.7,15.4,15.3,23.1,23.9,19.4,11.9,17.8,31.5,33.8,20.8,19.8,22.4,5.0,24.5,19.4,15.1,18.2,19.3,27.1,20.7,37.6,11.7,33.4,30.1,21.4,45.4,20.1,20.8,26.4,10.4,21.8,32.0,21.7,18.4,37.9,17.8,28.0,28.2,36.0,18.9,15.0,22.5,30.7,20.0,19.1,23.3,26.6,21.1,19.7,20.0,12.1,7.2,14.2,17.3,27.5,22.2,10.9,19.2,32.0,14.5,24.7,12.6,24.0,24.1,50.0,16.1,43.8,26.6,36.1,21.8,29.9,50.0,44.0,20.6,19.6,28.4,19.1,22.3,20.9,28.4,14.4,32.7,13.8,8.5,22.5,35.1,31.6,17.8,15.6,20.7,39.8,17.8,19.6,14.9,22.0,48.8,25.0,48.5,23.9,20.3,15.2,10.5,19.0,16.4,8.8,22.0,24.8,50.0,19.3,22.7,37.3,31.6,8.3,23.1,50.0,13.9,16.1,25.3,19.5,10.2,19.9,35.2,13.4,24.7,11.5,23.4,16.7,15.4,18.0,28.5,18.4,32.5,50.0,50.0,19.6,17.6,42.3,14.5,13.2,16.2,29.6,16.7,13.0,22.3,13.4,5.0,19.5,14.6,22.0,8.1,24.6,33.2,20.6,14.1,14.1,21.1,30.3,23.7,21.4,18.3,8.5,22.8,22.8,22.2,13.9,25.0,18.5,7.0,22.6,20.1,30.8,31.1,23.8,12.5,23.6,23.2,24.2,22.2,27.9,22.2,33.1,19.3,18.9,22.6,50.0,24.8,18.5,36.4,19.2,16.6,23.1],\"y\":[32.73006741139768,21.979443250869128,27.383236405811758,23.258021086977287,6.751395876776247,14.743320398144979,22.322717191108634,29.11134113670536,33.13702404089976,13.127951084252958,19.819716435253156,20.70599188542555,12.171768385458492,23.514189041599273,5.4726780050675785,19.868507781182192,9.208936307787216,44.795107538316906,30.586877759495337,12.39009592831205,17.41849200693618,21.468489015990748,23.5304435444806,20.35463368264146,35.127070530082676,13.397696278314827,20.79460111244121,35.37679229362623,19.435314762609433,13.72367503411314,14.079692153948944,22.913754088655864,14.975762162174728,31.061949430979595,25.224967601566874,15.41676379256231,24.164645330634475,9.863550905687022,15.013539970158737,20.998060884739086,32.90174867349077,28.019556872486646,25.725371640759782,15.19870514301618,31.229239634551625,27.602596767477163,14.071093061939733,7.339416096037729,28.624496422782208,25.238979250773074,3.770572856228796,28.479480507250145,16.804848447505297,30.227661585468695,20.445850275953568,15.293024977545212,17.755269587833236,12.237835304350767,8.777835675202814,18.981364606810498,34.74170419146003,32.94997877705798,23.06009160632202,19.1727593410298,22.81341290120134,26.88610953583616,21.926541569605217,17.225785159098056,32.457967230325636,11.039990872944362,19.258965039763517,33.553026933572504,18.899745883736813,15.87878384523911,18.592252907847225,14.109137111512272,24.52620251342335,24.38274516362727,16.601325746896485,14.328966307038401,19.958179896713634,25.70773930833778,17.122297222968538,24.36313629789301,22.414277372856766,28.44404741975474,34.934684168735416,16.778214114009067,11.807992328401065,34.66625203707728,30.430559736669117,20.892711151244207,39.367551147203756,29.343029899042346,29.36270069213872,17.553330894063876,26.810131961295916,39.767370056315684,29.15293004247797,16.382483648193215,37.25475429671357,35.993336724267806,13.428610121112932,29.79503117191872,21.71656131438077,24.226294987549668,21.537670293211903,24.26948153615506,27.524833533761655,29.50026278855455,14.222980144388105,26.93229475347178,23.409081489371026,12.88915067768368,13.706914940829293,24.96986032923147,19.434178904648192,30.248986653596532,11.461525459893146,23.471354514171885,16.827349442975574,17.30793936707642,23.340904837627974,23.032857443519386,11.51045802182133,25.267203893233578,28.606391150934584,20.18910821068941,12.148852657736565,25.58067919205031,25.805788890388712,25.499067230576717,23.61361527062668,26.63615639551533,17.184200890911278,21.823772411272333,36.337750410584334,20.88036722272724,37.98913274790213,25.531609262960664,22.293185837350972,16.04710753850747,31.312156369209752,21.224576903931474,27.563450797635397,14.490095811821757,31.984552562409505,13.590302735668619,0.25307744674075394,19.920777091463606,13.406411562389899,38.335838604428275,15.929081314126394,14.178754346261677,28.0228628774601,23.149478477843473,18.23231411779659,30.43488880171941,27.20687679829026,27.06534253564363,25.221458677783048,24.191131798073933,23.610925613999605,11.08989444660832,20.91323164465755,12.16100658758005,17.251625324008916,12.339746710614325,28.28478952182884,15.051718277567959,16.125363760451187,28.57805415610654,14.49086355960919,21.117520741834017,12.630800731501832,13.824021982026817,23.058040278249074,21.22333079993246,14.010503670974863,20.810553202770727,16.190056747763833,24.421908663447642,12.349591208483295,34.70485534140457,12.302801868566998,42.80398689977209,31.741232115611478,35.25735794644289,21.22930264433965,15.822036720330624,26.82618808348017,29.469199397430522,13.860809646716856,26.653568816432482,37.12380425712698,17.15836681860298,10.685430777355407,33.608107336736985,35.69663361071771,17.96980350901499,22.296377034929257,18.096593434065582,24.35486101198126,19.32409609663609,27.199474602108793,-5.1407513276110315,20.769362374057405,34.81094705774786,36.02922583505533,25.095421627048808,27.22956485243838,20.335401276125,20.85330613604559,16.100494935089955,21.65457759161838,20.71834655506379,28.14943985642323,19.855288426266448,7.328904647944592,16.56650565222303,31.950451910683988,35.06840944520327,17.73443863981766,18.726638689146352,23.50964428006193,5.410490176245073,21.243596343684537,24.074025284752985,16.46727372630714,18.591498473294486,22.006324858613922,26.903518829603353,26.10132385226616,36.44604054097283,15.137931993599693,28.29680427358791,25.682888735812018,21.856168465155196,38.057292966261144,21.089550651235626,23.23805440880063,22.862418170986146,10.191887291978018,20.068053234069048,33.33651416311409,24.83490852171242,18.33005557502887,33.31647720425275,22.820506419865232,28.33935063305688,32.09194987360047,37.09983094492513,22.361996878626343,24.842734070683747,22.508314925672977,32.68208373458968,21.9811147017073,18.988332505823678,21.714817042318206,28.614933962123743,22.450595607919453,22.056320891137595,16.921535279563713,18.160443424811383,17.654783197699658,17.372870093288945,17.046957681130372,31.675271852794097,23.568684889724047,18.46122704313219,19.816259415040953,33.740342991163466,14.099317200807148,25.118432671814038,17.76682626739869,30.329092459453207,29.71841636428389,20.546547256814236,20.3190263482781,35.63040891740775,23.063054631999805,33.2483095516057,20.509467345774432,31.39085283515967,30.25245999884415,36.942687956012115,26.853737950884877,21.85371473496891,28.77294062297921,16.02676192837257,26.916658841615895,21.381331314168772,30.08261422718631,9.806394648226822,30.66414497193259,5.189082946083023,15.234245657143816,18.223041214575538,35.137650723985324,31.937465849884834,10.419143945228623,12.647062279582094,21.950404695903384,34.15346940831215,17.62860737452342,19.408318236420868,14.773763302887268,25.98926446961144,40.23262879790124,25.266222627205927,41.055437193719186,25.048185241667,22.592041936897452,12.434252459429768,11.636489176078582,14.126734991938324,18.111966371850453,2.774428693923234,27.50344120109472,26.137417241932145,40.13673152151151,21.01684819434115,20.31558474245915,33.61371382960577,33.946453171278534,9.949322222218719,24.80284651120357,42.78425493903882,16.821030458011506,17.875506696231717,25.65059566531307,18.38019597274785,6.416070568425138,19.377715395719104,33.74233662422522,16.275397215543723,23.151023757624273,13.735456042649332,24.832516951373798,18.725485007242586,17.240087891138728,18.40245596253736,33.454048481059814,19.469325777445047,30.775949898109616,31.463092420984804,39.42344401096419,18.96221654437744,17.09079020522951,37.41352321195879,18.084792672421344,9.640422762827548,14.961697542765743,25.097666961805846,19.637564686956363,16.606321323601478,27.828157037644683,13.167882761849537,5.9560836596736735,18.988242927599472,9.7843445480774,28.236242277419855,3.9883540176775796,29.14916605413935,32.431375001601225,22.35723633817742,16.707537104651216,18.200444229865834,20.844972096349153,33.709389561961416,27.90895005018327,19.452865078819983,21.11004284978369,6.559717083673203,29.533553731744917,24.759515609894894,22.249090397572317,13.923363976487416,26.11052435111528,19.569361383350163,8.725682332043686,27.287055790660908,15.953331218533123,31.4421330241956,32.71655923026559,25.63821492972971,18.473949709418598,30.957600484828983,21.561852841335995,25.333829759555353,26.344750475423456,31.619899159296875,24.712499552675308,34.381762834545235,17.290715379332752,19.935092448069526,18.454703581191527,41.0207720609868,25.157162882099247,19.83297591642837,33.40121343080242,24.14637777796606,18.745838675861478,23.906402558188933]}},\"id\":\"503d9357-1ec5-420e-adc8-b9f8290d7110\",\"type\":\"ColumnDataSource\"},{\"attributes\":{},\"id\":\"2ac81700-8306-4588-a0e7-a369d77bb452\",\"type\":\"BasicTickFormatter\"},{\"attributes\":{\"plot\":{\"id\":\"398f48e3-ea24-447d-b9f9-c9056705d445\",\"subtype\":\"Figure\",\"type\":\"Plot\"},\"ticker\":{\"id\":\"1adadc27-7c63-4f9b-add1-c6917ca92d44\",\"type\":\"BasicTicker\"}},\"id\":\"47437562-d3cb-4e1d-92f0-49653b1258da\",\"type\":\"Grid\"},{\"attributes\":{\"axis_label\":\"Predicted\",\"axis_label_text_color\":{\"value\":\"#aa6666\"},\"formatter\":{\"id\":\"1f77e4cc-59f2-4763-9dce-16128fadacb2\",\"type\":\"BasicTickFormatter\"},\"plot\":{\"id\":\"398f48e3-ea24-447d-b9f9-c9056705d445\",\"subtype\":\"Figure\",\"type\":\"Plot\"},\"ticker\":{\"id\":\"b2aa70ee-7bb2-41a3-aad6-1570db1486ca\",\"type\":\"BasicTicker\"}},\"id\":\"0e2e67ed-1431-4449-bec1-c6362e8aaf17\",\"type\":\"LinearAxis\"},{\"attributes\":{\"callback\":null,\"overlay\":{\"id\":\"0783af76-0cfb-4e05-89b8-9a234fc348d3\",\"type\":\"BoxAnnotation\"},\"plot\":{\"id\":\"398f48e3-ea24-447d-b9f9-c9056705d445\",\"subtype\":\"Figure\",\"type\":\"Plot\"},\"renderers\":[{\"id\":\"0f3ee476-0b43-4109-b8b0-158fa50e88bd\",\"type\":\"GlyphRenderer\"},{\"id\":\"f0f64078-f4f2-4d55-b847-8e56670b91d6\",\"type\":\"GlyphRenderer\"}]},\"id\":\"ae7ff94e-6795-47d4-8aac-0d92351ecbb9\",\"type\":\"BoxSelectTool\"},{\"attributes\":{},\"id\":\"1adadc27-7c63-4f9b-add1-c6917ca92d44\",\"type\":\"BasicTicker\"},{\"attributes\":{\"plot\":{\"id\":\"398f48e3-ea24-447d-b9f9-c9056705d445\",\"subtype\":\"Figure\",\"type\":\"Plot\"}},\"id\":\"4305e857-5db1-42e7-a9ba-e0b2b0bc2ed7\",\"type\":\"ResizeTool\"},{\"attributes\":{\"callback\":null,\"overlay\":{\"id\":\"cdd8842e-fe8a-4f7b-8499-58fe56781cde\",\"type\":\"PolyAnnotation\"},\"plot\":{\"id\":\"398f48e3-ea24-447d-b9f9-c9056705d445\",\"subtype\":\"Figure\",\"type\":\"Plot\"}},\"id\":\"75db10e8-cfd4-4573-a036-c67ebc44f61d\",\"type\":\"LassoSelectTool\"},{\"attributes\":{\"data_source\":{\"id\":\"503d9357-1ec5-420e-adc8-b9f8290d7110\",\"type\":\"ColumnDataSource\"},\"glyph\":{\"id\":\"bcf0c811-892e-43a8-8760-b44c0ff909f1\",\"type\":\"Circle\"},\"hover_glyph\":null,\"nonselection_glyph\":{\"id\":\"02ce8cee-67d4-4122-b192-cfd9cc915e86\",\"type\":\"Circle\"},\"selection_glyph\":null},\"id\":\"0f3ee476-0b43-4109-b8b0-158fa50e88bd\",\"type\":\"GlyphRenderer\"},{\"attributes\":{\"overlay\":{\"id\":\"1fb4577c-869c-4059-99d4-57e6a39dfe21\",\"type\":\"BoxAnnotation\"},\"plot\":{\"id\":\"398f48e3-ea24-447d-b9f9-c9056705d445\",\"subtype\":\"Figure\",\"type\":\"Plot\"}},\"id\":\"826f760a-ca3c-4be2-bb9a-c3f41c5c169f\",\"type\":\"BoxZoomTool\"},{\"attributes\":{\"plot\":{\"id\":\"398f48e3-ea24-447d-b9f9-c9056705d445\",\"subtype\":\"Figure\",\"type\":\"Plot\"}},\"id\":\"f7bba75d-2452-43da-a40e-aaabe74d9f7d\",\"type\":\"PanTool\"},{\"attributes\":{},\"id\":\"b2aa70ee-7bb2-41a3-aad6-1570db1486ca\",\"type\":\"BasicTicker\"},{\"attributes\":{\"overlay\":{\"id\":\"71c54eee-9b58-4645-adc1-ea1f8e8eb327\",\"type\":\"PolyAnnotation\"},\"plot\":{\"id\":\"398f48e3-ea24-447d-b9f9-c9056705d445\",\"subtype\":\"Figure\",\"type\":\"Plot\"}},\"id\":\"fcbfde73-f190-4498-9ce7-fa2170eec1b0\",\"type\":\"PolySelectTool\"},{\"attributes\":{\"fill_alpha\":{\"value\":0.1},\"fill_color\":{\"value\":\"#1f77b4\"},\"line_alpha\":{\"value\":0.1},\"line_color\":{\"value\":\"#1f77b4\"},\"line_width\":{\"value\":3},\"x\":{\"field\":\"x\"},\"y\":{\"field\":\"y\"}},\"id\":\"02ce8cee-67d4-4122-b192-cfd9cc915e86\",\"type\":\"Circle\"},{\"attributes\":{\"data_source\":{\"id\":\"ff4ffb14-4b3a-48a4-a23f-771d5956d090\",\"type\":\"ColumnDataSource\"},\"glyph\":{\"id\":\"0895253e-6bc4-4262-9dbe-a0883a2fcb60\",\"type\":\"Line\"},\"hover_glyph\":null,\"nonselection_glyph\":{\"id\":\"b9a35f90-1076-40bd-99b1-617edc9e119c\",\"type\":\"Line\"},\"selection_glyph\":null},\"id\":\"f0f64078-f4f2-4d55-b847-8e56670b91d6\",\"type\":\"GlyphRenderer\"},{\"attributes\":{\"active_drag\":\"auto\",\"active_scroll\":\"auto\",\"active_tap\":\"auto\",\"tools\":[{\"id\":\"826f760a-ca3c-4be2-bb9a-c3f41c5c169f\",\"type\":\"BoxZoomTool\"},{\"id\":\"ae7ff94e-6795-47d4-8aac-0d92351ecbb9\",\"type\":\"BoxSelectTool\"},{\"id\":\"b566160c-29e8-4298-a02a-aeb94a539bcc\",\"type\":\"CrosshairTool\"},{\"id\":\"4305e857-5db1-42e7-a9ba-e0b2b0bc2ed7\",\"type\":\"ResizeTool\"},{\"id\":\"6cb7f17e-af2b-4dcc-adc0-031befba43bd\",\"type\":\"ResetTool\"},{\"id\":\"75db10e8-cfd4-4573-a036-c67ebc44f61d\",\"type\":\"LassoSelectTool\"},{\"id\":\"f7bba75d-2452-43da-a40e-aaabe74d9f7d\",\"type\":\"PanTool\"},{\"id\":\"db8445a7-b548-484f-94fa-b127d43864eb\",\"type\":\"SaveTool\"},{\"id\":\"fcbfde73-f190-4498-9ce7-fa2170eec1b0\",\"type\":\"PolySelectTool\"},{\"id\":\"50696eba-a8ee-4b92-ad85-547474644146\",\"type\":\"TapTool\"},{\"id\":\"89c213a3-01a7-47a5-b9e3-641d45342920\",\"type\":\"WheelZoomTool\"},{\"id\":\"99aa8a82-0c4b-4ce6-80f4-dc0d97aa882d\",\"type\":\"UndoTool\"}]},\"id\":\"8108a63e-5052-4c4f-b064-411abf0944c0\",\"type\":\"Toolbar\"},{\"attributes\":{\"plot\":{\"id\":\"398f48e3-ea24-447d-b9f9-c9056705d445\",\"subtype\":\"Figure\",\"type\":\"Plot\"}},\"id\":\"99aa8a82-0c4b-4ce6-80f4-dc0d97aa882d\",\"type\":\"UndoTool\"},{\"attributes\":{\"callback\":null},\"id\":\"44effd6d-e6dc-478e-9690-c9048c3bcbc2\",\"type\":\"DataRange1d\"},{\"attributes\":{\"plot\":{\"id\":\"398f48e3-ea24-447d-b9f9-c9056705d445\",\"subtype\":\"Figure\",\"type\":\"Plot\"}},\"id\":\"89c213a3-01a7-47a5-b9e3-641d45342920\",\"type\":\"WheelZoomTool\"},{\"attributes\":{\"axis_label\":\"Measured\",\"axis_label_text_color\":{\"value\":\"#aa6666\"},\"formatter\":{\"id\":\"2ac81700-8306-4588-a0e7-a369d77bb452\",\"type\":\"BasicTickFormatter\"},\"major_tick_line_color\":{\"value\":\"firebrick\"},\"major_tick_line_width\":{\"value\":3},\"minor_tick_line_color\":{\"value\":\"orange\"},\"plot\":{\"id\":\"398f48e3-ea24-447d-b9f9-c9056705d445\",\"subtype\":\"Figure\",\"type\":\"Plot\"},\"ticker\":{\"id\":\"1adadc27-7c63-4f9b-add1-c6917ca92d44\",\"type\":\"BasicTicker\"}},\"id\":\"e1a075e8-8b20-4526-97d3-139e35bed1dd\",\"type\":\"LinearAxis\"},{\"attributes\":{\"callback\":null,\"column_names\":[\"y\",\"x\"],\"data\":{\"x\":[5.0,50.0],\"y\":[5.0,50.0]}},\"id\":\"ff4ffb14-4b3a-48a4-a23f-771d5956d090\",\"type\":\"ColumnDataSource\"},{\"attributes\":{},\"id\":\"1f77e4cc-59f2-4763-9dce-16128fadacb2\",\"type\":\"BasicTickFormatter\"},{\"attributes\":{},\"id\":\"894411bf-90b2-4901-b5e0-8cadee5bfe10\",\"type\":\"ToolEvents\"},{\"attributes\":{\"callback\":null},\"id\":\"d58b101d-d752-4bbc-a88e-9b8f9aa74708\",\"type\":\"DataRange1d\"},{\"attributes\":{\"plot\":{\"id\":\"398f48e3-ea24-447d-b9f9-c9056705d445\",\"subtype\":\"Figure\",\"type\":\"Plot\"}},\"id\":\"db8445a7-b548-484f-94fa-b127d43864eb\",\"type\":\"SaveTool\"},{\"attributes\":{\"align\":\"center\",\"plot\":null,\"text\":null},\"id\":\"e723d488-1ae7-44d4-8010-c219cbc3ed57\",\"type\":\"Title\"}],\"root_ids\":[\"398f48e3-ea24-447d-b9f9-c9056705d445\"]},\"title\":\"Bokeh Application\",\"version\":\"0.12.0\"}};\n",
       "            var render_items = [{\"docid\":\"e5142610-d258-4b82-a897-c22c4cac7ce0\",\"elementid\":\"883a26df-4b2f-4c70-8fb9-72343be0ec5f\",\"modelid\":\"398f48e3-ea24-447d-b9f9-c9056705d445\",\"notebook_comms_target\":\"b4bdcf7b-cfac-40c1-b206-f3af469b969b\"}];\n",
       "            \n",
       "            Bokeh.embed.embed_items(docs_json, render_items);\n",
       "        });\n",
       "      },\n",
       "      function(Bokeh) {\n",
       "      }\n",
       "    ];\n",
       "  \n",
       "    function run_inline_js() {\n",
       "      for (var i = 0; i < inline_js.length; i++) {\n",
       "        inline_js[i](window.Bokeh);\n",
       "      }\n",
       "    }\n",
       "  \n",
       "    if (window._bokeh_is_loading === 0) {\n",
       "      console.log(\"Bokeh: BokehJS loaded, going straight to plotting\");\n",
       "      run_inline_js();\n",
       "    } else {\n",
       "      load_libs(js_urls, function() {\n",
       "        console.log(\"Bokeh: BokehJS plotting callback run at\", now());\n",
       "        run_inline_js();\n",
       "      });\n",
       "    }\n",
       "  }(this));\n",
       "</script>"
      ]
     },
     "metadata": {},
     "output_type": "display_data"
    },
    {
     "data": {
      "text/html": [
       "<p><code>&lt;Bokeh Notebook handle for <strong>In[20]</strong>&gt;</code></p>"
      ],
      "text/plain": [
       "<bokeh.io._CommsHandle at 0x1192ccc50>"
      ]
     },
     "execution_count": 20,
     "metadata": {},
     "output_type": "execute_result"
    }
   ],
   "source": [
    "# Plotining using bokeh\n",
    "#TOOLS = [BoxSelectTool(), HoverTool()]\n",
    "#TOOLS = 'hover,box_zoom,box_select,crosshair,resize,reset,lasso_select,pan,save,poly_select,tap,wheel_zoom,undo'\n",
    "TOOLS = 'box_zoom,box_select,crosshair,resize,reset,lasso_select,pan,save,poly_select,tap,wheel_zoom,undo'\n",
    "p = figure(plot_width=500, plot_height=500, tools=TOOLS)\n",
    "p.scatter(Y, predicted,x=\"jjj\", marker=\"o\", color=\"#80B1D3\", line_width=3)\n",
    "p.title.align = \"center\"\n",
    "p.xaxis.axis_label = \"Measured\"\n",
    "p.xaxis.axis_label_text_color = \"#aa6666\"\n",
    "#p.xaxis.axis_label_standoff = 30\n",
    "p.xaxis.major_tick_line_color = \"firebrick\"\n",
    "p.xaxis.major_tick_line_width = 3\n",
    "p.xaxis.minor_tick_line_color = \"orange\"\n",
    "p.yaxis.axis_label = \"Predicted\"\n",
    "p.yaxis.axis_label_text_font_style = \"italic\"\n",
    "p.yaxis.axis_label_text_color = \"#aa6666\"\n",
    "p.background_fill_color = \"beige\"\n",
    "p.background_fill_alpha = 0.5\n",
    "#p.line([Y.min(), Y.max()], [Y.min(), Y.max()], line_dash=\"4 4\", line_width=2, color='red')\n",
    "\n",
    "# create a new plot with the toolbar below\n",
    "# line_dash=\"4 4\", line_width=2, color='red'\n",
    "p.line([Y.min(), Y.max()], [Y.min(), Y.max()], line_dash=\"4 4\", line_width=2, line_color=\"black\")\n",
    "show(p)"
   ]
  },
  {
   "cell_type": "code",
   "execution_count": 21,
   "metadata": {
    "collapsed": false
   },
   "outputs": [
    {
     "data": {
      "text/plain": [
       "<matplotlib.text.Text at 0x11ad65c10>"
      ]
     },
     "execution_count": 21,
     "metadata": {},
     "output_type": "execute_result"
    },
    {
     "data": {
      "image/png": "[encoded data removed]",
      "text/plain": [
       "<matplotlib.figure.Figure at 0x1192ca2d0>"
      ]
     },
     "metadata": {},
     "output_type": "display_data"
    }
   ],
   "source": [
    "plt.scatter(predicted, (predicted - Y), c='r', s=30)\n",
    "plt.title(\"Residual plot on the training data\")\n",
    "plt.xlabel(\"Predicted\")\n",
    "plt.ylabel(\"Residuals\")"
   ]
  },
  {
   "cell_type": "code",
   "execution_count": 22,
   "metadata": {
    "collapsed": false
   },
   "outputs": [
    {
     "data": {
      "text/html": [
       "\n",
       "\n",
       "    <div class=\"bk-root\">\n",
       "        <div class=\"plotdiv\" id=\"081f77b8-339f-4315-82af-4347c76c6e6c\"></div>\n",
       "    </div>\n",
       "<script type=\"text/javascript\">\n",
       "  \n",
       "  (function(global) {\n",
       "    function now() {\n",
       "      return new Date();\n",
       "    }\n",
       "  \n",
       "    if (typeof (window._bokeh_onload_callbacks) === \"undefined\") {\n",
       "      window._bokeh_onload_callbacks = [];\n",
       "    }\n",
       "  \n",
       "    function run_callbacks() {\n",
       "      window._bokeh_onload_callbacks.forEach(function(callback) { callback() });\n",
       "      delete window._bokeh_onload_callbacks\n",
       "      console.info(\"Bokeh: all callbacks have finished\");\n",
       "    }\n",
       "  \n",
       "    function load_libs(js_urls, callback) {\n",
       "      window._bokeh_onload_callbacks.push(callback);\n",
       "      if (window._bokeh_is_loading > 0) {\n",
       "        console.log(\"Bokeh: BokehJS is being loaded, scheduling callback at\", now());\n",
       "        return null;\n",
       "      }\n",
       "      if (js_urls == null || js_urls.length === 0) {\n",
       "        run_callbacks();\n",
       "        return null;\n",
       "      }\n",
       "      console.log(\"Bokeh: BokehJS not loaded, scheduling load and callback at\", now());\n",
       "      window._bokeh_is_loading = js_urls.length;\n",
       "      for (var i = 0; i < js_urls.length; i++) {\n",
       "        var url = js_urls[i];\n",
       "        var s = document.createElement('script');\n",
       "        s.src = url;\n",
       "        s.async = false;\n",
       "        s.onreadystatechange = s.onload = function() {\n",
       "          window._bokeh_is_loading--;\n",
       "          if (window._bokeh_is_loading === 0) {\n",
       "            console.log(\"Bokeh: all BokehJS libraries loaded\");\n",
       "            run_callbacks()\n",
       "          }\n",
       "        };\n",
       "        s.onerror = function() {\n",
       "          console.warn(\"failed to load library \" + url);\n",
       "        };\n",
       "        console.log(\"Bokeh: injecting script tag for BokehJS library: \", url);\n",
       "        document.getElementsByTagName(\"head\")[0].appendChild(s);\n",
       "      }\n",
       "    };var element = document.getElementById(\"081f77b8-339f-4315-82af-4347c76c6e6c\");\n",
       "    if (element == null) {\n",
       "      console.log(\"Bokeh: ERROR: autoload.js configured with elementid '081f77b8-339f-4315-82af-4347c76c6e6c' but no matching script tag was found. \")\n",
       "      return false;\n",
       "    }\n",
       "  \n",
       "    var js_urls = [];\n",
       "  \n",
       "    var inline_js = [\n",
       "      function(Bokeh) {\n",
       "        Bokeh.$(function() {\n",
       "            var docs_json = {\"bb1f5509-04d4-4cb5-bc24-8cfb053b28e9\":{\"roots\":{\"references\":[{\"attributes\":{\"overlay\":{\"id\":\"14626d23-8f48-44d2-a0c9-1db76cbacc31\",\"type\":\"BoxAnnotation\"},\"plot\":{\"id\":\"0283f571-27de-412f-b48f-00c1dfd8a1be\",\"subtype\":\"Figure\",\"type\":\"Plot\"}},\"id\":\"8da88438-50b1-45e7-b73b-7a4cf4073dc1\",\"type\":\"BoxZoomTool\"},{\"attributes\":{\"fill_color\":{\"value\":\"#80B1D3\"},\"line_color\":{\"value\":\"#80B1D3\"},\"line_width\":{\"value\":3},\"x\":{\"field\":\"x\"},\"y\":{\"field\":\"y\"}},\"id\":\"f7c6e576-338c-4cd2-9b55-2e6390103bf8\",\"type\":\"Circle\"},{\"attributes\":{\"data_source\":{\"id\":\"666ae897-96c1-4ce0-aae5-5953e5542487\",\"type\":\"ColumnDataSource\"},\"glyph\":{\"id\":\"f7c6e576-338c-4cd2-9b55-2e6390103bf8\",\"type\":\"Circle\"},\"hover_glyph\":null,\"nonselection_glyph\":{\"id\":\"96f9a2db-f237-4dc5-a886-4eedbff5dd24\",\"type\":\"Circle\"},\"selection_glyph\":null},\"id\":\"3db7bd63-cc6a-47b8-b241-ada5b2269278\",\"type\":\"GlyphRenderer\"},{\"attributes\":{\"fill_alpha\":{\"value\":0.5},\"fill_color\":{\"value\":\"lightgrey\"},\"level\":\"overlay\",\"line_alpha\":{\"value\":1.0},\"line_color\":{\"value\":\"black\"},\"line_dash\":[4,4],\"line_width\":{\"value\":2},\"plot\":null,\"xs_units\":\"screen\",\"ys_units\":\"screen\"},\"id\":\"1635ad62-71da-4335-b64c-162e28387e55\",\"type\":\"PolyAnnotation\"},{\"attributes\":{},\"id\":\"d84d07d9-0c19-4cb1-9862-9f010d12274b\",\"type\":\"BasicTicker\"},{\"attributes\":{\"plot\":{\"id\":\"0283f571-27de-412f-b48f-00c1dfd8a1be\",\"subtype\":\"Figure\",\"type\":\"Plot\"}},\"id\":\"7b63991a-172c-45c7-8abb-0dfb591619e6\",\"type\":\"WheelZoomTool\"},{\"attributes\":{\"callback\":null,\"column_names\":[\"x\",\"y\"],\"data\":{\"x\":[32.73006741139768,21.979443250869128,27.383236405811758,23.258021086977287,6.751395876776247,14.743320398144979,22.322717191108634,29.11134113670536,33.13702404089976,13.127951084252958,19.819716435253156,20.70599188542555,12.171768385458492,23.514189041599273,5.4726780050675785,19.868507781182192,9.208936307787216,44.795107538316906,30.586877759495337,12.39009592831205,17.41849200693618,21.468489015990748,23.5304435444806,20.35463368264146,35.127070530082676,13.397696278314827,20.79460111244121,35.37679229362623,19.435314762609433,13.72367503411314,14.079692153948944,22.913754088655864,14.975762162174728,31.061949430979595,25.224967601566874,15.41676379256231,24.164645330634475,9.863550905687022,15.013539970158737,20.998060884739086,32.90174867349077,28.019556872486646,25.725371640759782,15.19870514301618,31.229239634551625,27.602596767477163,14.071093061939733,7.339416096037729,28.624496422782208,25.238979250773074,3.770572856228796,28.479480507250145,16.804848447505297,30.227661585468695,20.445850275953568,15.293024977545212,17.755269587833236,12.237835304350767,8.777835675202814,18.981364606810498,34.74170419146003,32.94997877705798,23.06009160632202,19.1727593410298,22.81341290120134,26.88610953583616,21.926541569605217,17.225785159098056,32.457967230325636,11.039990872944362,19.258965039763517,33.553026933572504,18.899745883736813,15.87878384523911,18.592252907847225,14.109137111512272,24.52620251342335,24.38274516362727,16.601325746896485,14.328966307038401,19.958179896713634,25.70773930833778,17.122297222968538,24.36313629789301,22.414277372856766,28.44404741975474,34.934684168735416,16.778214114009067,11.807992328401065,34.66625203707728,30.430559736669117,20.892711151244207,39.367551147203756,29.343029899042346,29.36270069213872,17.553330894063876,26.810131961295916,39.767370056315684,29.15293004247797,16.382483648193215,37.25475429671357,35.993336724267806,13.428610121112932,29.79503117191872,21.71656131438077,24.226294987549668,21.537670293211903,24.26948153615506,27.524833533761655,29.50026278855455,14.222980144388105,26.93229475347178,23.409081489371026,12.88915067768368,13.706914940829293,24.96986032923147,19.434178904648192,30.248986653596532,11.461525459893146,23.471354514171885,16.827349442975574,17.30793936707642,23.340904837627974,23.032857443519386,11.51045802182133,25.267203893233578,28.606391150934584,20.18910821068941,12.148852657736565,25.58067919205031,25.805788890388712,25.499067230576717,23.61361527062668,26.63615639551533,17.184200890911278,21.823772411272333,36.337750410584334,20.88036722272724,37.98913274790213,25.531609262960664,22.293185837350972,16.04710753850747,31.312156369209752,21.224576903931474,27.563450797635397,14.490095811821757,31.984552562409505,13.590302735668619,0.25307744674075394,19.920777091463606,13.406411562389899,38.335838604428275,15.929081314126394,14.178754346261677,28.0228628774601,23.149478477843473,18.23231411779659,30.43488880171941,27.20687679829026,27.06534253564363,25.221458677783048,24.191131798073933,23.610925613999605,11.08989444660832,20.91323164465755,12.16100658758005,17.251625324008916,12.339746710614325,28.28478952182884,15.051718277567959,16.125363760451187,28.57805415610654,14.49086355960919,21.117520741834017,12.630800731501832,13.824021982026817,23.058040278249074,21.22333079993246,14.010503670974863,20.810553202770727,16.190056747763833,24.421908663447642,12.349591208483295,34.70485534140457,12.302801868566998,42.80398689977209,31.741232115611478,35.25735794644289,21.22930264433965,15.822036720330624,26.82618808348017,29.469199397430522,13.860809646716856,26.653568816432482,37.12380425712698,17.15836681860298,10.685430777355407,33.608107336736985,35.69663361071771,17.96980350901499,22.296377034929257,18.096593434065582,24.35486101198126,19.32409609663609,27.199474602108793,-5.1407513276110315,20.769362374057405,34.81094705774786,36.02922583505533,25.095421627048808,27.22956485243838,20.335401276125,20.85330613604559,16.100494935089955,21.65457759161838,20.71834655506379,28.14943985642323,19.855288426266448,7.328904647944592,16.56650565222303,31.950451910683988,35.06840944520327,17.73443863981766,18.726638689146352,23.50964428006193,5.410490176245073,21.243596343684537,24.074025284752985,16.46727372630714,18.591498473294486,22.006324858613922,26.903518829603353,26.10132385226616,36.44604054097283,15.137931993599693,28.29680427358791,25.682888735812018,21.856168465155196,38.057292966261144,21.089550651235626,23.23805440880063,22.862418170986146,10.191887291978018,20.068053234069048,33.33651416311409,24.83490852171242,18.33005557502887,33.31647720425275,22.820506419865232,28.33935063305688,32.09194987360047,37.09983094492513,22.361996878626343,24.842734070683747,22.508314925672977,32.68208373458968,21.9811147017073,18.988332505823678,21.714817042318206,28.614933962123743,22.450595607919453,22.056320891137595,16.921535279563713,18.160443424811383,17.654783197699658,17.372870093288945,17.046957681130372,31.675271852794097,23.568684889724047,18.46122704313219,19.816259415040953,33.740342991163466,14.099317200807148,25.118432671814038,17.76682626739869,30.329092459453207,29.71841636428389,20.546547256814236,20.3190263482781,35.63040891740775,23.063054631999805,33.2483095516057,20.509467345774432,31.39085283515967,30.25245999884415,36.942687956012115,26.853737950884877,21.85371473496891,28.77294062297921,16.02676192837257,26.916658841615895,21.381331314168772,30.08261422718631,9.806394648226822,30.66414497193259,5.189082946083023,15.234245657143816,18.223041214575538,35.137650723985324,31.937465849884834,10.419143945228623,12.647062279582094,21.950404695903384,34.15346940831215,17.62860737452342,19.408318236420868,14.773763302887268,25.98926446961144,40.23262879790124,25.266222627205927,41.055437193719186,25.048185241667,22.592041936897452,12.434252459429768,11.636489176078582,14.126734991938324,18.111966371850453,2.774428693923234,27.50344120109472,26.137417241932145,40.13673152151151,21.01684819434115,20.31558474245915,33.61371382960577,33.946453171278534,9.949322222218719,24.80284651120357,42.78425493903882,16.821030458011506,17.875506696231717,25.65059566531307,18.38019597274785,6.416070568425138,19.377715395719104,33.74233662422522,16.275397215543723,23.151023757624273,13.735456042649332,24.832516951373798,18.725485007242586,17.240087891138728,18.40245596253736,33.454048481059814,19.469325777445047,30.775949898109616,31.463092420984804,39.42344401096419,18.96221654437744,17.09079020522951,37.41352321195879,18.084792672421344,9.640422762827548,14.961697542765743,25.097666961805846,19.637564686956363,16.606321323601478,27.828157037644683,13.167882761849537,5.9560836596736735,18.988242927599472,9.7843445480774,28.236242277419855,3.9883540176775796,29.14916605413935,32.431375001601225,22.35723633817742,16.707537104651216,18.200444229865834,20.844972096349153,33.709389561961416,27.90895005018327,19.452865078819983,21.11004284978369,6.559717083673203,29.533553731744917,24.759515609894894,22.249090397572317,13.923363976487416,26.11052435111528,19.569361383350163,8.725682332043686,27.287055790660908,15.953331218533123,31.4421330241956,32.71655923026559,25.63821492972971,18.473949709418598,30.957600484828983,21.561852841335995,25.333829759555353,26.344750475423456,31.619899159296875,24.712499552675308,34.381762834545235,17.290715379332752,19.935092448069526,18.454703581191527,41.0207720609868,25.157162882099247,19.83297591642837,33.40121343080242,24.14637777796606,18.745838675861478,23.906402558188933],\"y\":[6.0300674113976775,0.2794432508691287,5.383236405811758,0.3580210869772884,-3.6486041232237536,-7.15667960185502,1.7227171911086323,2.711341136705361,-8.162975959100237,-4.072048915747041,-7.280283564746846,0.3059918854255521,-4.328231614541508,-0.8858109584007252,-2.927321994932422,-3.131492218817808,-0.49106369221278356,-5.2048924616830945,0.08687775949533716,0.09009592831204927,-1.9815079930638184,0.2684890159907489,3.2304435444806003,1.5546336826414588,1.7270705300826776,-5.102303721685173,1.1946011124412088,2.176792293626228,6.335314762609434,6.223675034113141,0.47969215394894427,5.513754088655865,6.575762162174728,-4.338050569020403,1.224967601566874,2.01676379256231,-2.0353546693655247,2.663550905687022,1.9135399701587374,-3.501939115260914,-4.298251326509231,3.019556872486646,1.6253716407597807,-1.4012948569838208,-1.6707603654483734,-8.59740323252284,3.0710930619397327,0.13941609603772864,5.824496422782207,-3.4610207492269254,-10.629427143771204,4.079480507250146,-1.2951515524947048,7.727661585468695,-0.05414972404643237,0.09302497754521255,0.3552695878332379,-1.3621646956492324,0.07783567520281487,0.7813646068104987,-0.6582958085399682,1.2499787770579793,-9.939908393677982,-3.0272406589702,2.4134129012013403,2.9861095358361602,-3.0734584303947834,4.5257851590980565,3.3579672303256345,-0.9600091270556383,1.5589650397635175,6.553026933572504,-1.7002541162631886,5.67878384523911,1.0922529078472252,-5.590862888487727,-5.273797486576651,3.88274516362727,1.7013257468964849,3.428966307038401,0.45817989671363435,3.0077393083377792,-2.3777027770314625,-0.23686370210699081,-2.585722627143234,3.944047419754739,-15.065315831264584,2.4782141140090665,0.007992328401064341,3.666252037077278,1.730559736669118,4.6927111512442075,-4.132448852796244,4.343029899042346,7.36270069213872,-2.3466691059361224,4.7101319612959145,-6.232629943684316,6.252930042477971,-3.817516351806784,-5.84524570328643,1.3933367242678045,-0.37138987888706865,5.495031171918718,0.21656131438076898,-0.17370501245033054,0.3376702932119038,0.46948153615505817,0.9248335337616531,4.400262788554549,4.622980144388105,7.532294753471781,4.009081489371027,3.3891506776836806,-0.29308505917070704,-1.5301396707685306,5.634178904648191,-4.451013346403471,-4.838474540106855,1.771354514171886,-0.6726505570244257,1.7079393670764187,2.4409048376279756,1.3328574435193872,-1.189541978178669,6.767203893233578,4.906391150934585,0.889108210689411,-0.5511473422634339,3.98067919205031,2.6057888903887125,-4.100932769423284,2.413615270626682,2.836156395515328,0.08420089091127636,-0.17622758872766653,-0.1622495894156657,2.08036722272724,16.089132747902134,2.431609262960663,2.0931858373509726,-1.3528924614925302,-5.687843630790248,-2.875423096068527,-8.636549202364606,-1.2099041881782426,-0.21544743759049823,0.0903027356686188,-17.646922553259245,6.620777091463605,1.7064115623898992,-3.3641613955717276,-2.4709186858736043,1.078754346261677,3.022862877460099,1.9494784778434742,2.232314117796591,-4.465111198280589,2.0068767982902607,2.2653425356436294,3.7214586777830476,0.7911317980739341,4.710925613999606,0.28989444660831865,-0.08676835534244987,-15.33899341241995,-0.24837467599108365,-1.1602532893856754,-0.41521047817115786,0.2517182775679583,-2.974636239548815,-0.021945843893462325,1.3908635596091905,2.117520741834017,1.3308007315018315,0.5240219820268166,0.6580402782490751,1.1233307999324573,-4.189496329025136,-2.0894467972292716,-4.409943252236168,-0.5780913365523581,-0.4504087915167059,-0.1951446585954315,-11.397198131433,-7.196013100227908,2.741232115611478,5.157357946442886,-0.7706973556603494,0.2220367203306246,3.526188083480168,-0.6308006025694795,-0.43919035328314493,3.8535688164324817,-12.876195742873023,-3.6416331813970224,4.385430777355407,-1.2918926632630132,3.2966336107177128,-1.9301964909850078,1.9963770349292567,0.29659343406558136,1.2548610119812587,-1.0759039033639084,3.999474602108794,-12.140751327611031,3.969362374057404,-11.889052942252142,-13.970774164944672,2.195421627048809,3.3295648524383807,-1.0645987238749974,-0.8466938639544104,0.7004949350899548,6.35457759161838,-2.3816534449362123,4.24943985642323,0.45528842626644916,-4.5710953520554085,-1.233494347776972,0.45045191068398793,1.2684094452032753,-3.0655613601823397,-1.0733613108536488,1.1096442800619322,0.410490176245073,-3.256403656315463,4.674025284752986,1.3672737263071415,0.3914984732944866,2.7063248586139217,-0.19648117039664825,5.4013238522661595,-1.1539594590271705,3.437931993599694,-5.103195726412089,-4.417111264187984,0.4561684651551978,-7.342707033738854,0.9895506512356249,2.438054408800628,-3.5375818290138525,-0.20811270802198223,-1.731946765930953,1.3365141631140887,3.134908521712422,-0.06994442497112985,-4.58352279574725,5.020506419865232,0.3393506330568812,3.8919498736004705,1.099830944925131,3.461996878626344,9.842734070683747,0.00831492567297687,1.9820837345896827,1.9811147017072983,-0.1116674941763236,-1.5851829576817948,2.0149339621237417,1.3505956079194519,2.356320891137596,-3.078464720436287,6.060443424811384,10.454783197699658,3.172870093288946,-0.25304231886962825,4.175271852794097,1.3686848897240473,7.56122704313219,0.6162594150409539,1.740342991163466,-0.4006827991928521,0.4184326718140383,5.166826267398692,6.329092459453207,5.618416364283888,-29.453452743185764,4.219026348278099,-8.169591082592248,-3.5369453680001968,-2.851690448394301,-1.2905326542255686,1.4908528351596715,-19.74754000115585,-7.057312043987885,6.253737950884876,2.2537147349689093,0.37294062297921116,-3.073238071627433,4.6166588416158945,0.4813313141687736,1.6826142271863098,-4.593605351773178,-2.035855028067413,-8.610917053916978,6.734245657143816,-4.276958785424462,0.03765072398532254,0.33746584988483264,-7.380856054771378,-2.9529377204179053,1.2504046959033843,-5.646530591687849,-0.17139262547658163,-0.19168176357913325,-0.12623669711273244,3.9892644696114417,-8.567371202098755,0.26622262720592715,-7.444562806280814,1.1481852416670009,2.2920419368974514,-2.7657475405702314,1.136489176078582,-4.873265008061676,1.7119663718504547,-6.025571306076767,5.50344120109472,1.337417241932144,-9.863268478488493,1.71684819434115,-2.384415257540848,-3.686286170394226,2.346453171278533,1.6493222222187178,1.7028465112035676,-7.215745060961183,2.921030458011506,1.7755066962317159,0.35059566531306885,-1.119804027252151,-3.7839294315748617,-0.5222846042808946,-1.4576633757747857,2.875397215543723,-1.5489762423757263,2.235456042649332,1.432516951373799,2.0254850072425867,1.8400878911387277,0.4024559625373598,4.954048481059814,1.069325777445048,-1.7240501018903842,-18.536907579015196,-10.57655598903581,-0.6377834556225608,-0.5092097947704914,-4.886476788041207,3.5847926724213437,-3.5595772371724514,-1.2383024572342567,-4.5023330381941555,2.937564686956364,3.6063213236014775,5.528157037644682,-0.23211723815046348,0.9560836596736735,-0.5117570724005276,-4.8156554519226,6.236242277419855,-4.11164598232242,4.549166054139349,-0.7686249983987778,1.7572363381774174,2.6075371046512164,4.100444229865834,-0.2550279036508485,3.409389561961415,4.208950050183272,-1.947134921180016,2.810042849783688,-1.9402829163267974,6.733553731744916,1.9595156098948934,0.04909039757231781,0.023363976487415172,1.1105243511152807,1.069361383350163,1.7256823320436858,4.6870557906609065,-4.146668781466879,0.6421330241955978,1.6165592302655867,1.838214929729709,5.973949709418598,7.357600484828982,-1.6381471586640046,1.1338297595553541,4.144750475423457,3.719899159296876,2.5124995526753082,1.2817628345452334,-2.0092846206672483,1.035092448069527,-4.145296418808474,-8.9792279390132,0.35716288209924585,1.3329759164283708,-2.998786569197577,4.94637777796606,2.1458386758614765,0.8064025581889318]}},\"id\":\"666ae897-96c1-4ce0-aae5-5953e5542487\",\"type\":\"ColumnDataSource\"},{\"attributes\":{\"background_fill_alpha\":{\"value\":0.5},\"background_fill_color\":{\"value\":\"beige\"},\"below\":[{\"id\":\"ac3eda47-2e06-43a9-ae73-74caf525f5f8\",\"type\":\"LinearAxis\"}],\"left\":[{\"id\":\"c33c5547-ca46-4baf-8fa6-78a154498156\",\"type\":\"LinearAxis\"}],\"plot_height\":500,\"plot_width\":500,\"renderers\":[{\"id\":\"ac3eda47-2e06-43a9-ae73-74caf525f5f8\",\"type\":\"LinearAxis\"},{\"id\":\"2b4b7bb7-f875-4aaa-b230-999764bde371\",\"type\":\"Grid\"},{\"id\":\"c33c5547-ca46-4baf-8fa6-78a154498156\",\"type\":\"LinearAxis\"},{\"id\":\"cc4608db-9bf1-486f-9274-f30f94e5758b\",\"type\":\"Grid\"},{\"id\":\"14626d23-8f48-44d2-a0c9-1db76cbacc31\",\"type\":\"BoxAnnotation\"},{\"id\":\"cc14909c-67fa-4bce-952d-39b87a6bf0c1\",\"type\":\"BoxAnnotation\"},{\"id\":\"f7ab7af2-ede2-43ac-9701-63973a3f5509\",\"type\":\"PolyAnnotation\"},{\"id\":\"1635ad62-71da-4335-b64c-162e28387e55\",\"type\":\"PolyAnnotation\"},{\"id\":\"3db7bd63-cc6a-47b8-b241-ada5b2269278\",\"type\":\"GlyphRenderer\"}],\"title\":{\"id\":\"31747477-479b-412d-bcc3-6d9db0a7ebd0\",\"type\":\"Title\"},\"tool_events\":{\"id\":\"d8487dda-a085-4682-9171-a76d62de78ea\",\"type\":\"ToolEvents\"},\"toolbar\":{\"id\":\"09ceb4b3-f39b-4aa2-a882-b8b5ebcbb93c\",\"type\":\"Toolbar\"},\"x_range\":{\"id\":\"0a2e29db-0758-4e5a-9f8e-8196b6dc1c82\",\"type\":\"DataRange1d\"},\"y_range\":{\"id\":\"f48c298f-dc74-4fe4-9879-c8d8d024d9c6\",\"type\":\"DataRange1d\"}},\"id\":\"0283f571-27de-412f-b48f-00c1dfd8a1be\",\"subtype\":\"Figure\",\"type\":\"Plot\"},{\"attributes\":{},\"id\":\"b29ecdeb-8567-42b3-9afe-2b80a594dbff\",\"type\":\"BasicTickFormatter\"},{\"attributes\":{\"callback\":null},\"id\":\"f48c298f-dc74-4fe4-9879-c8d8d024d9c6\",\"type\":\"DataRange1d\"},{\"attributes\":{\"axis_label\":\"Residuals\",\"axis_label_text_color\":{\"value\":\"#aa6666\"},\"formatter\":{\"id\":\"b29ecdeb-8567-42b3-9afe-2b80a594dbff\",\"type\":\"BasicTickFormatter\"},\"plot\":{\"id\":\"0283f571-27de-412f-b48f-00c1dfd8a1be\",\"subtype\":\"Figure\",\"type\":\"Plot\"},\"ticker\":{\"id\":\"d84d07d9-0c19-4cb1-9862-9f010d12274b\",\"type\":\"BasicTicker\"}},\"id\":\"c33c5547-ca46-4baf-8fa6-78a154498156\",\"type\":\"LinearAxis\"},{\"attributes\":{\"dimension\":1,\"plot\":{\"id\":\"0283f571-27de-412f-b48f-00c1dfd8a1be\",\"subtype\":\"Figure\",\"type\":\"Plot\"},\"ticker\":{\"id\":\"d84d07d9-0c19-4cb1-9862-9f010d12274b\",\"type\":\"BasicTicker\"}},\"id\":\"cc4608db-9bf1-486f-9274-f30f94e5758b\",\"type\":\"Grid\"},{\"attributes\":{\"overlay\":{\"id\":\"1635ad62-71da-4335-b64c-162e28387e55\",\"type\":\"PolyAnnotation\"},\"plot\":{\"id\":\"0283f571-27de-412f-b48f-00c1dfd8a1be\",\"subtype\":\"Figure\",\"type\":\"Plot\"}},\"id\":\"d4ea9867-a6e2-4cee-8d28-d1904262394a\",\"type\":\"PolySelectTool\"},{\"attributes\":{\"fill_alpha\":{\"value\":0.5},\"fill_color\":{\"value\":\"lightgrey\"},\"level\":\"overlay\",\"line_alpha\":{\"value\":1.0},\"line_color\":{\"value\":\"black\"},\"line_dash\":[4,4],\"line_width\":{\"value\":2},\"plot\":null,\"xs_units\":\"screen\",\"ys_units\":\"screen\"},\"id\":\"f7ab7af2-ede2-43ac-9701-63973a3f5509\",\"type\":\"PolyAnnotation\"},{\"attributes\":{\"plot\":{\"id\":\"0283f571-27de-412f-b48f-00c1dfd8a1be\",\"subtype\":\"Figure\",\"type\":\"Plot\"}},\"id\":\"a0265f73-bac3-42a2-8091-75c1f4420f11\",\"type\":\"ResetTool\"},{\"attributes\":{},\"id\":\"d8487dda-a085-4682-9171-a76d62de78ea\",\"type\":\"ToolEvents\"},{\"attributes\":{\"callback\":null},\"id\":\"0a2e29db-0758-4e5a-9f8e-8196b6dc1c82\",\"type\":\"DataRange1d\"},{\"attributes\":{\"active_drag\":\"auto\",\"active_scroll\":\"auto\",\"active_tap\":\"auto\",\"tools\":[{\"id\":\"8da88438-50b1-45e7-b73b-7a4cf4073dc1\",\"type\":\"BoxZoomTool\"},{\"id\":\"da4883d1-7d8a-4c1a-bda8-310465010a53\",\"type\":\"BoxSelectTool\"},{\"id\":\"81c9ccda-624b-4422-8a3f-b19682e1c615\",\"type\":\"CrosshairTool\"},{\"id\":\"c278460f-439e-4d70-bb42-34011f06ac7f\",\"type\":\"ResizeTool\"},{\"id\":\"a0265f73-bac3-42a2-8091-75c1f4420f11\",\"type\":\"ResetTool\"},{\"id\":\"22d1642d-c3e6-4169-8f1e-3fcf81054288\",\"type\":\"LassoSelectTool\"},{\"id\":\"0db8492f-5e19-4469-9343-94008a75447a\",\"type\":\"PanTool\"},{\"id\":\"becbdc80-a552-46e6-adf8-81584c9d367a\",\"type\":\"SaveTool\"},{\"id\":\"d4ea9867-a6e2-4cee-8d28-d1904262394a\",\"type\":\"PolySelectTool\"},{\"id\":\"8c0a6c29-586c-439c-a191-871776f5f138\",\"type\":\"TapTool\"},{\"id\":\"7b63991a-172c-45c7-8abb-0dfb591619e6\",\"type\":\"WheelZoomTool\"},{\"id\":\"a7f7ba9b-7c38-4630-a637-5ba1bd6ff368\",\"type\":\"UndoTool\"}]},\"id\":\"09ceb4b3-f39b-4aa2-a882-b8b5ebcbb93c\",\"type\":\"Toolbar\"},{\"attributes\":{\"align\":\"center\",\"plot\":null,\"text\":\"Residual plot on the training data\"},\"id\":\"31747477-479b-412d-bcc3-6d9db0a7ebd0\",\"type\":\"Title\"},{\"attributes\":{\"bottom_units\":\"screen\",\"fill_alpha\":{\"value\":0.5},\"fill_color\":{\"value\":\"lightgrey\"},\"left_units\":\"screen\",\"level\":\"overlay\",\"line_alpha\":{\"value\":1.0},\"line_color\":{\"value\":\"black\"},\"line_dash\":[4,4],\"line_width\":{\"value\":2},\"plot\":null,\"render_mode\":\"css\",\"right_units\":\"screen\",\"top_units\":\"screen\"},\"id\":\"cc14909c-67fa-4bce-952d-39b87a6bf0c1\",\"type\":\"BoxAnnotation\"},{\"attributes\":{\"plot\":{\"id\":\"0283f571-27de-412f-b48f-00c1dfd8a1be\",\"subtype\":\"Figure\",\"type\":\"Plot\"}},\"id\":\"0db8492f-5e19-4469-9343-94008a75447a\",\"type\":\"PanTool\"},{\"attributes\":{\"axis_label\":\"Predicted\",\"axis_label_text_color\":{\"value\":\"#aa6666\"},\"formatter\":{\"id\":\"5b70dbe2-1398-4336-b6b7-f844ea17bb1c\",\"type\":\"BasicTickFormatter\"},\"major_tick_line_color\":{\"value\":\"firebrick\"},\"major_tick_line_width\":{\"value\":3},\"minor_tick_line_color\":{\"value\":\"orange\"},\"plot\":{\"id\":\"0283f571-27de-412f-b48f-00c1dfd8a1be\",\"subtype\":\"Figure\",\"type\":\"Plot\"},\"ticker\":{\"id\":\"2f88b365-1d0f-4391-ae94-c8afae9d032b\",\"type\":\"BasicTicker\"}},\"id\":\"ac3eda47-2e06-43a9-ae73-74caf525f5f8\",\"type\":\"LinearAxis\"},{\"attributes\":{\"fill_alpha\":{\"value\":0.1},\"fill_color\":{\"value\":\"#1f77b4\"},\"line_alpha\":{\"value\":0.1},\"line_color\":{\"value\":\"#1f77b4\"},\"line_width\":{\"value\":3},\"x\":{\"field\":\"x\"},\"y\":{\"field\":\"y\"}},\"id\":\"96f9a2db-f237-4dc5-a886-4eedbff5dd24\",\"type\":\"Circle\"},{\"attributes\":{\"plot\":{\"id\":\"0283f571-27de-412f-b48f-00c1dfd8a1be\",\"subtype\":\"Figure\",\"type\":\"Plot\"}},\"id\":\"81c9ccda-624b-4422-8a3f-b19682e1c615\",\"type\":\"CrosshairTool\"},{\"attributes\":{\"callback\":null,\"overlay\":{\"id\":\"f7ab7af2-ede2-43ac-9701-63973a3f5509\",\"type\":\"PolyAnnotation\"},\"plot\":{\"id\":\"0283f571-27de-412f-b48f-00c1dfd8a1be\",\"subtype\":\"Figure\",\"type\":\"Plot\"}},\"id\":\"22d1642d-c3e6-4169-8f1e-3fcf81054288\",\"type\":\"LassoSelectTool\"},{\"attributes\":{\"plot\":{\"id\":\"0283f571-27de-412f-b48f-00c1dfd8a1be\",\"subtype\":\"Figure\",\"type\":\"Plot\"}},\"id\":\"becbdc80-a552-46e6-adf8-81584c9d367a\",\"type\":\"SaveTool\"},{\"attributes\":{\"callback\":null,\"overlay\":{\"id\":\"cc14909c-67fa-4bce-952d-39b87a6bf0c1\",\"type\":\"BoxAnnotation\"},\"plot\":{\"id\":\"0283f571-27de-412f-b48f-00c1dfd8a1be\",\"subtype\":\"Figure\",\"type\":\"Plot\"},\"renderers\":[{\"id\":\"3db7bd63-cc6a-47b8-b241-ada5b2269278\",\"type\":\"GlyphRenderer\"}]},\"id\":\"da4883d1-7d8a-4c1a-bda8-310465010a53\",\"type\":\"BoxSelectTool\"},{\"attributes\":{\"plot\":{\"id\":\"0283f571-27de-412f-b48f-00c1dfd8a1be\",\"subtype\":\"Figure\",\"type\":\"Plot\"},\"ticker\":{\"id\":\"2f88b365-1d0f-4391-ae94-c8afae9d032b\",\"type\":\"BasicTicker\"}},\"id\":\"2b4b7bb7-f875-4aaa-b230-999764bde371\",\"type\":\"Grid\"},{\"attributes\":{\"bottom_units\":\"screen\",\"fill_alpha\":{\"value\":0.5},\"fill_color\":{\"value\":\"lightgrey\"},\"left_units\":\"screen\",\"level\":\"overlay\",\"line_alpha\":{\"value\":1.0},\"line_color\":{\"value\":\"black\"},\"line_dash\":[4,4],\"line_width\":{\"value\":2},\"plot\":null,\"render_mode\":\"css\",\"right_units\":\"screen\",\"top_units\":\"screen\"},\"id\":\"14626d23-8f48-44d2-a0c9-1db76cbacc31\",\"type\":\"BoxAnnotation\"},{\"attributes\":{},\"id\":\"2f88b365-1d0f-4391-ae94-c8afae9d032b\",\"type\":\"BasicTicker\"},{\"attributes\":{\"plot\":{\"id\":\"0283f571-27de-412f-b48f-00c1dfd8a1be\",\"subtype\":\"Figure\",\"type\":\"Plot\"}},\"id\":\"a7f7ba9b-7c38-4630-a637-5ba1bd6ff368\",\"type\":\"UndoTool\"},{\"attributes\":{\"plot\":{\"id\":\"0283f571-27de-412f-b48f-00c1dfd8a1be\",\"subtype\":\"Figure\",\"type\":\"Plot\"}},\"id\":\"c278460f-439e-4d70-bb42-34011f06ac7f\",\"type\":\"ResizeTool\"},{\"attributes\":{},\"id\":\"5b70dbe2-1398-4336-b6b7-f844ea17bb1c\",\"type\":\"BasicTickFormatter\"},{\"attributes\":{\"callback\":null,\"plot\":{\"id\":\"0283f571-27de-412f-b48f-00c1dfd8a1be\",\"subtype\":\"Figure\",\"type\":\"Plot\"}},\"id\":\"8c0a6c29-586c-439c-a191-871776f5f138\",\"type\":\"TapTool\"}],\"root_ids\":[\"0283f571-27de-412f-b48f-00c1dfd8a1be\"]},\"title\":\"Bokeh Application\",\"version\":\"0.12.0\"}};\n",
       "            var render_items = [{\"docid\":\"bb1f5509-04d4-4cb5-bc24-8cfb053b28e9\",\"elementid\":\"081f77b8-339f-4315-82af-4347c76c6e6c\",\"modelid\":\"0283f571-27de-412f-b48f-00c1dfd8a1be\",\"notebook_comms_target\":\"d3b851a0-ad8c-4931-9b45-4e704b559b14\"}];\n",
       "            \n",
       "            Bokeh.embed.embed_items(docs_json, render_items);\n",
       "        });\n",
       "      },\n",
       "      function(Bokeh) {\n",
       "      }\n",
       "    ];\n",
       "  \n",
       "    function run_inline_js() {\n",
       "      for (var i = 0; i < inline_js.length; i++) {\n",
       "        inline_js[i](window.Bokeh);\n",
       "      }\n",
       "    }\n",
       "  \n",
       "    if (window._bokeh_is_loading === 0) {\n",
       "      console.log(\"Bokeh: BokehJS loaded, going straight to plotting\");\n",
       "      run_inline_js();\n",
       "    } else {\n",
       "      load_libs(js_urls, function() {\n",
       "        console.log(\"Bokeh: BokehJS plotting callback run at\", now());\n",
       "        run_inline_js();\n",
       "      });\n",
       "    }\n",
       "  }(this));\n",
       "</script>"
      ]
     },
     "metadata": {},
     "output_type": "display_data"
    },
    {
     "data": {
      "text/html": [
       "<p><code>&lt;Bokeh Notebook handle for <strong>In[22]</strong>&gt;</code></p>"
      ],
      "text/plain": [
       "<bokeh.io._CommsHandle at 0x11ad12dd0>"
      ]
     },
     "execution_count": 22,
     "metadata": {},
     "output_type": "execute_result"
    }
   ],
   "source": [
    "# Plotining using bokeh\n",
    "#TOOLS = 'hover,box_zoom,box_select,crosshair,resize,reset,lasso_select,pan,save,poly_select,tap,wheel_zoom,undo'\n",
    "TOOLS = 'box_zoom,box_select,crosshair,resize,reset,lasso_select,pan,save,poly_select,tap,wheel_zoom,undo'\n",
    "p = figure(plot_width=500, plot_height=500, title=\"Residual plot on the training data\", tools=TOOLS)\n",
    "p.scatter(predicted, (predicted - Y),x=\"jjj\", marker=\"o\", color=\"#80B1D3\", line_width=3)\n",
    "p.title.align = \"center\"\n",
    "p.xaxis.axis_label = \"Predicted\"\n",
    "p.xaxis.axis_label_text_color = \"#aa6666\"\n",
    "#p.xaxis.axis_label_standoff = 30\n",
    "p.xaxis.major_tick_line_color = \"firebrick\"\n",
    "p.xaxis.major_tick_line_width = 3\n",
    "p.xaxis.minor_tick_line_color = \"orange\"\n",
    "p.yaxis.axis_label = \"Residuals\"\n",
    "p.yaxis.axis_label_text_font_style = \"italic\"\n",
    "p.yaxis.axis_label_text_color = \"#aa6666\"\n",
    "p.background_fill_color = \"beige\"\n",
    "p.background_fill_alpha = 0.5\n",
    "#p.line([2,38], [0, 0], line_dash=\"4 4\", line_width=2, color='red')\n",
    "show(p)"
   ]
  },
  {
   "cell_type": "markdown",
   "metadata": {},
   "source": [
    "## Pipeline"
   ]
  },
  {
   "cell_type": "markdown",
   "metadata": {},
   "source": [
    "The best to deliver the model by pipeline the operation then at deployment can be done in one model."
   ]
  },
  {
   "cell_type": "markdown",
   "metadata": {
    "collapsed": true
   },
   "source": [
    "  I used two ways to check the pipeline so any one can be fine"
   ]
  },
  {
   "cell_type": "code",
   "execution_count": 23,
   "metadata": {
    "collapsed": false
   },
   "outputs": [
    {
     "name": "stdout",
     "output_type": "stream",
     "text": [
      "0.773013556926\n",
      "Scoring according to mean_squared_error\n",
      "[-15.04266913 -16.73183257 -19.32851237 -23.9048444  -19.08879315\n",
      " -21.0185826  -38.14364323 -28.81714105 -20.68631546 -11.21388242]\n",
      "\n",
      " Mean      Standard deviation\n",
      "-21.40      7.20\n",
      "[ True  True  True  True  True  True  True  True  True  True  True  True\n",
      "  True]\n",
      "R-squared =  0.773013556926\n"
     ]
    }
   ],
   "source": [
    "# Use Pipeline\n",
    "# ANOVA \n",
    "from sklearn.pipeline import Pipeline\n",
    "from sklearn.feature_selection import SelectKBest, f_regression\n",
    "anova_filter = SelectKBest(f_regression, k=13)\n",
    "LR = LinearRegression()\n",
    "anova_LinReg = Pipeline([('scaler_Input',scaler), ('anova', anova_filter), ('LinReg', LR)])\n",
    "# You can set the parameters using the names issued\n",
    "# For instance, fit using a k of 10 in the SelectKBest\n",
    "anova_LinReg.set_params(anova__k=13).fit(new_data, Y)\n",
    "prediction = anova_LinReg.predict(new_data)\n",
    "print anova_LinReg.score(new_data, Y)                        \n",
    "# getting the selected features chosen by anova_filter\n",
    "results = cross_validation.cross_val_score(anova_LinReg, new_data, Y, cv=kfold, scoring=scoring)\n",
    "print 'Scoring according to mean_squared_error'\n",
    "print results\n",
    "print '\\n Mean      Standard deviation'\n",
    "print(\"%.2f      %.2f\" % (results.mean(), results.std()))\n",
    "print anova_LinReg.named_steps['anova'].get_support()\n",
    "r_squared = r2_score(Y, prediction, multioutput='variance_weighted')\n",
    "print 'R-squared = ',r_squared"
   ]
  },
  {
   "cell_type": "code",
   "execution_count": 24,
   "metadata": {
    "collapsed": false
   },
   "outputs": [
    {
     "name": "stdout",
     "output_type": "stream",
     "text": [
      "R-squared =  0.773013556926\n"
     ]
    }
   ],
   "source": [
    "# Using make_pipeline\n",
    "from sklearn.pipeline import make_pipeline\n",
    "\n",
    "# ANOVA SVM-C\n",
    "# 1) anova filter, take 3 best ranked features\n",
    "anova_filter = SelectKBest(f_regression, k=13)\n",
    "anova_lr = make_pipeline(scaler, anova_filter, LR)\n",
    "anova_lr.fit(new_data, Y)\n",
    "prediction = anova_lr.predict(new_data)\n",
    "r_squared = r2_score(Y, prediction, multioutput='variance_weighted')\n",
    "print 'R-squared = ',r_squared"
   ]
  },
  {
   "cell_type": "markdown",
   "metadata": {},
   "source": [
    "### Save the Pipeline model for developement"
   ]
  },
  {
   "cell_type": "code",
   "execution_count": 25,
   "metadata": {
    "collapsed": false
   },
   "outputs": [
    {
     "data": {
      "text/plain": [
       "['anova_lr.pkl',\n",
       " 'anova_lr.pkl_01.npy',\n",
       " 'anova_lr.pkl_02.npy',\n",
       " 'anova_lr.pkl_03.npy',\n",
       " 'anova_lr.pkl_04.npy',\n",
       " 'anova_lr.pkl_05.npy',\n",
       " 'anova_lr.pkl_06.npy',\n",
       " 'anova_lr.pkl_07.npy']"
      ]
     },
     "execution_count": 25,
     "metadata": {},
     "output_type": "execute_result"
    }
   ],
   "source": [
    "# save the model scaler to the desk\n",
    "from sklearn.externals import joblib\n",
    "joblib.dump(anova_lr, 'anova_lr.pkl') "
   ]
  },
  {
   "cell_type": "code",
   "execution_count": 26,
   "metadata": {
    "collapsed": false
   },
   "outputs": [
    {
     "name": "stdout",
     "output_type": "stream",
     "text": [
      " =================================================================>>>>> done\n",
      "R-squared =  0.773013556926\n"
     ]
    }
   ],
   "source": [
    "# Test the model if it is work\n",
    "anova_lrTest = joblib.load('anova_lr.pkl')\n",
    "NewPred = anova_lrTest.predict(new_data)\n",
    "print \" =================================================================>>>>> done\"\n",
    "r_squared = r2_score(Y, NewPred, multioutput='variance_weighted')\n",
    "print 'R-squared = ',r_squared"
   ]
  },
  {
   "cell_type": "code",
   "execution_count": 27,
   "metadata": {
    "collapsed": false
   },
   "outputs": [
    {
     "name": "stdout",
     "output_type": "stream",
     "text": [
      "Point of training data before normalization\n",
      "[   1.23247    0.         8.14       0.         0.538      6.142     91.7\n",
      "    3.9769     4.       307.        21.       396.9       18.72   ]\n",
      "\n",
      "The read target of the data =  15.2\n",
      "\n",
      "The Predicted target of the data =  [ 15.92613078]\n"
     ]
    }
   ],
   "source": [
    "# test on single data point, randomly choose point number 55\n",
    "print 'Point of training data before normalization\\n',new_data[55]\n",
    "print '\\nThe read target of the data = ', Y[55]\n",
    "NewPred = anova_lrTest.predict([new_data[55]])\n",
    "print '\\nThe Predicted target of the data = ', NewPred\n",
    "\n"
   ]
  },
  {
   "cell_type": "markdown",
   "metadata": {},
   "source": [
    "## Conclusion "
   ]
  },
  {
   "cell_type": "markdown",
   "metadata": {},
   "source": [
    "From the learning cure the model shows some high bias even though the model started to learn about the structure of the data."
   ]
  }
 ],
 "metadata": {
  "kernelspec": {
   "display_name": "Python 2",
   "language": "python",
   "name": "python2"
  },
  "language_info": {
   "codemirror_mode": {
    "name": "ipython",
    "version": 2
   },
   "file_extension": ".py",
   "mimetype": "text/x-python",
   "name": "python",
   "nbconvert_exporter": "python",
   "pygments_lexer": "ipython2",
   "version": "2.7.11"
  }
 },
 "nbformat": 4,
 "nbformat_minor": 0
}
