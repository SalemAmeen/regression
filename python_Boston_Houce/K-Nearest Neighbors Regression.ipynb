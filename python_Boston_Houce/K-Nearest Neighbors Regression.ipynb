{
 "cells": [
  {
   "cell_type": "markdown",
   "metadata": {},
   "source": [
    "Salem Ameen, PhD student at Salford University\n",
    "\n",
    "### Boston House price\n",
    "\n",
    "K-Nearest Neighbors Regression"
   ]
  },
  {
   "cell_type": "markdown",
   "metadata": {},
   "source": [
    "# Import the Libraries"
   ]
  },
  {
   "cell_type": "code",
   "execution_count": 1,
   "metadata": {
    "collapsed": false
   },
   "outputs": [
    {
     "data": {
      "text/html": [
       "\n",
       "    <div class=\"bk-root\">\n",
       "        <a href=\"http://bokeh.pydata.org\" target=\"_blank\" class=\"bk-logo bk-logo-small bk-logo-notebook\"></a>\n",
       "        <span id=\"600b1f28-39cd-48d5-b825-62f951b8dfe0\">Loading BokehJS ...</span>\n",
       "    </div>"
      ]
     },
     "metadata": {},
     "output_type": "display_data"
    },
    {
     "data": {
      "application/javascript": [
       "\n",
       "(function(global) {\n",
       "  function now() {\n",
       "    return new Date();\n",
       "  }\n",
       "\n",
       "  var force = \"1\";\n",
       "\n",
       "  if (typeof (window._bokeh_onload_callbacks) === \"undefined\" || force !== \"\") {\n",
       "    window._bokeh_onload_callbacks = [];\n",
       "    window._bokeh_is_loading = undefined;\n",
       "  }\n",
       "\n",
       "  function run_callbacks() {\n",
       "    window._bokeh_onload_callbacks.forEach(function(callback) { callback() });\n",
       "    delete window._bokeh_onload_callbacks\n",
       "    console.info(\"Bokeh: all callbacks have finished\");\n",
       "  }\n",
       "\n",
       "  function load_libs(js_urls, callback) {\n",
       "    window._bokeh_onload_callbacks.push(callback);\n",
       "    if (window._bokeh_is_loading > 0) {\n",
       "      console.log(\"Bokeh: BokehJS is being loaded, scheduling callback at\", now());\n",
       "      return null;\n",
       "    }\n",
       "    if (js_urls == null || js_urls.length === 0) {\n",
       "      run_callbacks();\n",
       "      return null;\n",
       "    }\n",
       "    console.log(\"Bokeh: BokehJS not loaded, scheduling load and callback at\", now());\n",
       "    window._bokeh_is_loading = js_urls.length;\n",
       "    for (var i = 0; i < js_urls.length; i++) {\n",
       "      var url = js_urls[i];\n",
       "      var s = document.createElement('script');\n",
       "      s.src = url;\n",
       "      s.async = false;\n",
       "      s.onreadystatechange = s.onload = function() {\n",
       "        window._bokeh_is_loading--;\n",
       "        if (window._bokeh_is_loading === 0) {\n",
       "          console.log(\"Bokeh: all BokehJS libraries loaded\");\n",
       "          run_callbacks()\n",
       "        }\n",
       "      };\n",
       "      s.onerror = function() {\n",
       "        console.warn(\"failed to load library \" + url);\n",
       "      };\n",
       "      console.log(\"Bokeh: injecting script tag for BokehJS library: \", url);\n",
       "      document.getElementsByTagName(\"head\")[0].appendChild(s);\n",
       "    }\n",
       "  };\n",
       "\n",
       "  var js_urls = ['https://cdn.pydata.org/bokeh/release/bokeh-0.12.1.min.js', 'https://cdn.pydata.org/bokeh/release/bokeh-widgets-0.12.1.min.js', 'https://cdn.pydata.org/bokeh/release/bokeh-compiler-0.12.1.min.js'];\n",
       "\n",
       "  var inline_js = [\n",
       "    function(Bokeh) {\n",
       "      Bokeh.set_log_level(\"info\");\n",
       "    },\n",
       "    \n",
       "    function(Bokeh) {\n",
       "      \n",
       "      Bokeh.$(\"#600b1f28-39cd-48d5-b825-62f951b8dfe0\").text(\"BokehJS successfully loaded\");\n",
       "      var kernel = Jupyter.notebook.kernel\n",
       "      if (kernel.execute !== undefined) {\n",
       "          kernel.execute(\"import bokeh.io; bokeh.io._nb_loaded = True\");\n",
       "      }\n",
       "    },\n",
       "    function(Bokeh) {\n",
       "      console.log(\"Bokeh: injecting CSS: https://cdn.pydata.org/bokeh/release/bokeh-0.12.1.min.css\");\n",
       "      Bokeh.embed.inject_css(\"https://cdn.pydata.org/bokeh/release/bokeh-0.12.1.min.css\");\n",
       "      console.log(\"Bokeh: injecting CSS: https://cdn.pydata.org/bokeh/release/bokeh-widgets-0.12.1.min.css\");\n",
       "      Bokeh.embed.inject_css(\"https://cdn.pydata.org/bokeh/release/bokeh-widgets-0.12.1.min.css\");\n",
       "    }\n",
       "  ];\n",
       "\n",
       "  function run_inline_js() {\n",
       "    for (var i = 0; i < inline_js.length; i++) {\n",
       "      inline_js[i](window.Bokeh);\n",
       "    }\n",
       "  }\n",
       "\n",
       "  if (window._bokeh_is_loading === 0) {\n",
       "    console.log(\"Bokeh: BokehJS loaded, going straight to plotting\");\n",
       "    run_inline_js();\n",
       "  } else {\n",
       "    load_libs(js_urls, function() {\n",
       "      console.log(\"Bokeh: BokehJS plotting callback run at\", now());\n",
       "      run_inline_js();\n",
       "    });\n",
       "  }\n",
       "}(this));"
      ]
     },
     "metadata": {},
     "output_type": "display_data"
    }
   ],
   "source": [
    "import numpy as np\n",
    "import pandas\n",
    "from numpy import *\n",
    "import time\n",
    "import sys\n",
    "import pandas as pd\n",
    "import matplotlib.pyplot as plt\n",
    "from sklearn import feature_selection\n",
    "from sklearn.neighbors import KNeighborsRegressor\n",
    "from sklearn.learning_curve import learning_curve, validation_curve\n",
    "from sklearn.cross_validation import cross_val_predict\n",
    "from sklearn import metrics, grid_search, cross_validation\n",
    "from IPython.display import set_matplotlib_formats\n",
    "from bokeh.plotting import figure, show, output_notebook\n",
    "from sklearn.grid_search import GridSearchCV, RandomizedSearchCV\n",
    "from sklearn.metrics import r2_score\n",
    "from bokeh.layouts import gridplot\n",
    "output_notebook()\n",
    "set_matplotlib_formats('png', 'pdf')\n",
    "%matplotlib inline\n",
    "plt.rcParams['figure.figsize'] = (6, 6)"
   ]
  },
  {
   "cell_type": "markdown",
   "metadata": {},
   "source": [
    "# Load data"
   ]
  },
  {
   "cell_type": "markdown",
   "metadata": {},
   "source": [
    "In the previous file we have not change the data as there is no missing value or add any new parameters so it can be downloaded from the web directly. "
   ]
  },
  {
   "cell_type": "code",
   "execution_count": 2,
   "metadata": {
    "collapsed": false
   },
   "outputs": [],
   "source": [
    "url = 'https://archive.ics.uci.edu/ml/machine-learning-databases/housing/housing.data'\n",
    "feature_cols = ['CRIM', 'ZN', 'INDUS', 'CHAS', 'NOX', 'RM', 'AGE', 'DIS', 'RAD', 'TAX', 'PTRATIO', 'B', 'LSTAT', 'MEDV']\n",
    "data = pd.read_csv(url, sep='\\s+', names = feature_cols)"
   ]
  },
  {
   "cell_type": "code",
   "execution_count": 3,
   "metadata": {
    "collapsed": false
   },
   "outputs": [
    {
     "name": "stdout",
     "output_type": "stream",
     "text": [
      "Number of examples 506\n"
     ]
    }
   ],
   "source": [
    "from sklearn import preprocessing\n",
    "dataset = data.values\n",
    "X = dataset[:,0:13].astype(float)\n",
    "Y = dataset[:,13]\n",
    "print 'Number of examples',len(X)"
   ]
  },
  {
   "cell_type": "code",
   "execution_count": 4,
   "metadata": {
    "collapsed": false
   },
   "outputs": [
    {
     "name": "stdout",
     "output_type": "stream",
     "text": [
      "Number of training examples 404\n",
      "Number of validation examples 102\n"
     ]
    }
   ],
   "source": [
    "# Make developement dataset for genrilization and final testing\n",
    "from sklearn.cross_validation import train_test_split\n",
    "# Extracting 20% testing data\n",
    "X_train, X_test, y_train, y_test = train_test_split(\n",
    "    X, Y, test_size=0.20, random_state=0)\n",
    "X = X_train\n",
    "Y = y_train\n",
    "new_data      = X_train\n",
    "new_test_data = X_test\n",
    "print 'Number of training examples',len(X_train)\n",
    "print 'Number of validation examples',len(X_test)"
   ]
  },
  {
   "cell_type": "markdown",
   "metadata": {},
   "source": [
    "Number of training data is very small so we need to use cross validation instead of spareate another validation data."
   ]
  },
  {
   "cell_type": "markdown",
   "metadata": {},
   "source": [
    "From the previous visulization the data has no missing value but has many outlier and some sparisty"
   ]
  },
  {
   "cell_type": "markdown",
   "metadata": {},
   "source": [
    "# Ranking of the feature's importance to the target"
   ]
  },
  {
   "cell_type": "code",
   "execution_count": 5,
   "metadata": {
    "collapsed": false
   },
   "outputs": [
    {
     "name": "stdout",
     "output_type": "stream",
     "text": [
      "CRIM \t0.438224008734\n",
      "ZN \t0.186265839247\n",
      "INDUS \t0.463180526841\n",
      "CHAS \t-0.0445608535686\n",
      "NOX \t0.620500592514\n",
      "RM \t0.687431246781\n",
      "AGE \t0.267484249372\n",
      "DIS \t0.347394165876\n",
      "RAD \t0.12449188684\n",
      "TAX \t-1.96390276287\n",
      "PTRATIO \t0.205069145859\n",
      "B \t0.0263273348986\n",
      "LSTAT \t0.735251976087\n",
      "MEDV \t0.999891048604\n"
     ]
    }
   ],
   "source": [
    "# Using just correlation coefficient even in prevoius file we show them using data frame\n",
    "for col in feature_cols:\n",
    "    lm = KNeighborsRegressor()\n",
    "    lm.fit(data[[col]], data['MEDV'])\n",
    "    print col,'\\t', lm.score(data[[col]], data['MEDV'])"
   ]
  },
  {
   "cell_type": "code",
   "execution_count": 6,
   "metadata": {
    "collapsed": false
   },
   "outputs": [
    {
     "name": "stdout",
     "output_type": "stream",
     "text": [
      "Feature Name      Score         Pvalue\n",
      "CRIM \t\t89.4861147577 \t1.17398708219e-19\n",
      "ZN \t\t75.257642299 \t5.71358415308e-17\n",
      "INDUS \t\t153.954883136 \t4.90025998175e-31\n",
      "CHAS \t\t15.9715124204 \t7.39062317052e-05\n",
      "NOX \t\t112.59148028 \t7.06504158625e-24\n",
      "RM \t\t471.846739876 \t2.48722887101e-74\n",
      "AGE \t\t83.4774592192 \t1.56998220919e-18\n",
      "DIS \t\t33.5795703259 \t1.20661172734e-08\n",
      "RAD \t\t85.9142776698 \t5.46593256965e-19\n",
      "TAX \t\t141.761356577 \t5.63773362769e-29\n",
      "PTRATIO \t\t175.105542876 \t1.60950947847e-34\n",
      "B \t\t63.0542291125 \t1.31811273408e-14\n",
      "LSTAT \t\t601.61787111 \t5.08110339439e-88\n",
      "MEDV \t\tinf \t0.0\n"
     ]
    }
   ],
   "source": [
    "# Randing the important features to the target\n",
    "model = feature_selection.SelectKBest(score_func=feature_selection.f_regression,k=4)\n",
    "results = model.fit(data[feature_cols], data['MEDV'])\n",
    "k=0\n",
    "print 'Feature Name      Score         Pvalue'\n",
    "for feat in feature_cols:\n",
    "    print feat,'\\t\\t',results.scores_[k],'\\t',results.pvalues_[k]\n",
    "    k=k+1\n"
   ]
  },
  {
   "cell_type": "markdown",
   "metadata": {},
   "source": [
    "# Set the parameters for cross validation"
   ]
  },
  {
   "cell_type": "code",
   "execution_count": 7,
   "metadata": {
    "collapsed": true
   },
   "outputs": [],
   "source": [
    "num_folds = 10\n",
    "num_instances = len(X)\n",
    "seed = 7\n",
    "kfold = cross_validation.KFold(n=num_instances, n_folds=num_folds, random_state=seed)"
   ]
  },
  {
   "cell_type": "markdown",
   "metadata": {},
   "source": [
    " # Set the parameters for bias-variance dilemma"
   ]
  },
  {
   "cell_type": "code",
   "execution_count": 8,
   "metadata": {
    "collapsed": false
   },
   "outputs": [],
   "source": [
    "def plot_learning_curve(estimator, title, X, y, ylim=None, cv=None,\n",
    "                        n_jobs=1, train_sizes=np.linspace(.1, 1.0, 5)):\n",
    "    plt.figure()\n",
    "    plt.title(title)\n",
    "    if ylim is not None:\n",
    "        plt.ylim(*ylim)\n",
    "    plt.xlabel(\"Training examples\")\n",
    "    plt.ylabel(\"Score\")\n",
    "    train_sizes, train_scores, test_scores = learning_curve(\n",
    "        estimator, X, y, cv=cv, n_jobs=n_jobs, train_sizes=train_sizes)\n",
    "    train_scores_mean = np.mean(train_scores, axis=1)\n",
    "    train_scores_std = np.std(train_scores, axis=1)\n",
    "    test_scores_mean = np.mean(test_scores, axis=1)\n",
    "    test_scores_std = np.std(test_scores, axis=1)\n",
    "    plt.grid()\n",
    "\n",
    "    plt.fill_between(train_sizes, train_scores_mean - train_scores_std,\n",
    "                     train_scores_mean + train_scores_std, alpha=0.1,\n",
    "                     color=\"r\")\n",
    "    plt.fill_between(train_sizes, test_scores_mean - test_scores_std,\n",
    "                     test_scores_mean + test_scores_std, alpha=0.1, color=\"g\")\n",
    "    plt.plot(train_sizes, train_scores_mean, 'o-', color=\"r\",\n",
    "             label=\"Training score\")\n",
    "    plt.plot(train_sizes, test_scores_mean, 'o-', color=\"g\",\n",
    "             label=\"Cross-validation score\")\n",
    "\n",
    "    plt.legend(loc=\"best\")\n",
    "    return plt"
   ]
  },
  {
   "cell_type": "markdown",
   "metadata": {},
   "source": [
    "# Preprocessing the data and save both the model and preprocessed data"
   ]
  },
  {
   "cell_type": "code",
   "execution_count": 9,
   "metadata": {
    "collapsed": true
   },
   "outputs": [],
   "source": [
    "# According to the nature of the data spasity and there is outliter RobustScaler class is recomandit \n",
    "# but when I tried both of them the result seems is same\n",
    "from sklearn.preprocessing import StandardScaler\n",
    "scaler = preprocessing.StandardScaler().fit(X_train)"
   ]
  },
  {
   "cell_type": "code",
   "execution_count": 10,
   "metadata": {
    "collapsed": true
   },
   "outputs": [],
   "source": [
    "X_train = scaler.transform(X_train)\n",
    "X_test = scaler.transform(X_test) # use same transform for testing data\n",
    "X = X_train"
   ]
  },
  {
   "cell_type": "code",
   "execution_count": 11,
   "metadata": {
    "collapsed": true
   },
   "outputs": [],
   "source": [
    "# save transformed data\n",
    "np.save('./data/X_train', X_train)\n",
    "np.save('./data/y_train', y_train)\n",
    "np.save('./data/X_test', X_test)\n",
    "np.save('./data/y_test', y_test)"
   ]
  },
  {
   "cell_type": "code",
   "execution_count": 12,
   "metadata": {
    "collapsed": false
   },
   "outputs": [
    {
     "data": {
      "text/plain": [
       "['scaler.pkl', 'scaler.pkl_01.npy', 'scaler.pkl_02.npy', 'scaler.pkl_03.npy']"
      ]
     },
     "execution_count": 12,
     "metadata": {},
     "output_type": "execute_result"
    }
   ],
   "source": [
    "# save the model scaler to the desk\n",
    "from sklearn.externals import joblib\n",
    "joblib.dump(scaler, 'scaler.pkl') "
   ]
  },
  {
   "cell_type": "code",
   "execution_count": 13,
   "metadata": {
    "collapsed": false
   },
   "outputs": [
    {
     "name": "stdout",
     "output_type": "stream",
     "text": [
      " =================================================================>>>>> done\n",
      "[[-0.40835869 -0.49960763 -1.12872913 ..., -0.71272928  0.18547577\n",
      "  -0.73610347]\n",
      " [ 0.71925111 -0.49960763  0.9988844  ...,  0.79267419  0.0831649\n",
      "  -0.4356916 ]\n",
      " [-0.40257488 -0.49960763  0.39610829 ..., -0.94082071  0.39472748\n",
      "  -0.30263246]\n",
      " ..., \n",
      " [-0.3982601   0.55937182 -0.85812418 ...,  0.56458276  0.41019833\n",
      "   0.06087961]\n",
      " [-0.39934279 -0.49960763 -0.07637654 ...,  0.0627816   0.30517724\n",
      "  -0.45626776]\n",
      " [-0.40088071 -0.49960763 -0.36702631 ...,  1.1120022   0.41166637\n",
      "  -0.05983383]]\n"
     ]
    }
   ],
   "source": [
    "# Test the model if it is work\n",
    "scalerTest = joblib.load('scaler.pkl')\n",
    "new_data_scaled = scalerTest.transform(new_test_data)\n",
    "print \" =================================================================>>>>> done\"\n",
    "print new_data_scaled"
   ]
  },
  {
   "cell_type": "markdown",
   "metadata": {},
   "source": [
    "# 1. KNeighborsRegressor Regression"
   ]
  },
  {
   "cell_type": "markdown",
   "metadata": {},
   "source": [
    "K-Nearest Neighbors (or KNN) locates the K most similar instances in the training dataset for a new data instance. From the K neighbors, a mean or median output variable is taken as the prediction. Of note is the distance metric used (the metric argument). The Minkowski distance is used by default, which is a generalization of both the Euclidean distance (used when all inputs have the same scale) and Manhattan distance (for when the scales of the input variables differ)."
   ]
  },
  {
   "cell_type": "markdown",
   "metadata": {},
   "source": [
    "## Validation curve"
   ]
  },
  {
   "cell_type": "markdown",
   "metadata": {},
   "source": [
    "choosing multiple hyperparameters of an estimator "
   ]
  },
  {
   "cell_type": "code",
   "execution_count": 14,
   "metadata": {
    "collapsed": false
   },
   "outputs": [
    {
     "data": {
      "text/plain": [
       "['n_neighbors',\n",
       " 'n_jobs',\n",
       " 'algorithm',\n",
       " 'metric',\n",
       " 'metric_params',\n",
       " 'p',\n",
       " 'weights',\n",
       " 'leaf_size']"
      ]
     },
     "execution_count": 14,
     "metadata": {},
     "output_type": "execute_result"
    }
   ],
   "source": [
    "from sklearn.neighbors import KNeighborsRegressor\n",
    "estimator = KNeighborsRegressor()\n",
    "estimator.get_params().keys()"
   ]
  },
  {
   "cell_type": "code",
   "execution_count": 15,
   "metadata": {
    "collapsed": false
   },
   "outputs": [
    {
     "name": "stdout",
     "output_type": "stream",
     "text": [
      "[3 4 5 6]\n"
     ]
    }
   ],
   "source": [
    "print  np.arange(3,7)\n",
    "\n",
    " \n"
   ]
  },
  {
   "cell_type": "code",
   "execution_count": 16,
   "metadata": {
    "collapsed": false
   },
   "outputs": [
    {
     "data": {
      "image/png": "[encoded data removed]",
      "text/plain": [
       "<matplotlib.figure.Figure at 0x10e333210>"
      ]
     },
     "metadata": {},
     "output_type": "display_data"
    }
   ],
   "source": [
    "# For parametr alpha\n",
    "#param_range = np.logspace(-10.0, 10.0)\n",
    "#param_range = np.linspace(1,50,100)\n",
    "param_range = np.arange(1,50) # generate integer numbers\n",
    "\n",
    "train_scores, test_scores = validation_curve(\n",
    "    KNeighborsRegressor(), X, Y, param_name=\"n_neighbors\", param_range=param_range,\n",
    "    cv=num_folds,  n_jobs=-1)\n",
    "train_scores_mean = np.mean(train_scores, axis=1)\n",
    "train_scores_std = np.std(train_scores, axis=1)\n",
    "test_scores_mean = np.mean(test_scores, axis=1)\n",
    "test_scores_std = np.std(test_scores, axis=1)\n",
    "\n",
    "plt.title(\"Validation Curve with KNeighborsRegressor\")\n",
    "plt.xlabel(\"n_neighbors\")\n",
    "plt.ylabel(\"Score\")\n",
    "plt.ylim(0.4, 1.0)\n",
    "plt.plot(param_range, train_scores_mean, label=\"Training score\", color=\"r\")\n",
    "plt.fill_between(param_range, train_scores_mean - train_scores_std,\n",
    "                 train_scores_mean + train_scores_std, alpha=0.2, color=\"r\")\n",
    "plt.plot(param_range, test_scores_mean, label=\"Cross-validation score\",\n",
    "             color=\"g\")\n",
    "plt.fill_between(param_range, test_scores_mean - test_scores_std,\n",
    "                 test_scores_mean + test_scores_std, alpha=0.2, color=\"g\")\n",
    "plt.legend(loc=\"best\")\n",
    "plt.show()"
   ]
  },
  {
   "cell_type": "markdown",
   "metadata": {},
   "source": [
    "Less that 10 is the best of number of K"
   ]
  },
  {
   "cell_type": "code",
   "execution_count": 17,
   "metadata": {
    "collapsed": false
   },
   "outputs": [
    {
     "data": {
      "image/png": "[encoded data removed]",
      "text/plain": [
       "<matplotlib.figure.Figure at 0x10f411f90>"
      ]
     },
     "metadata": {},
     "output_type": "display_data"
    }
   ],
   "source": [
    "# For parametr alpha\n",
    "#param_range = np.logspace(-10.0, 10.0)\n",
    "#param_range = np.linspace(1,50,100)\n",
    "param_range = np.arange(1,100) # generate integer numbers\n",
    "\n",
    "train_scores, test_scores = validation_curve(\n",
    "    KNeighborsRegressor(), X, Y, param_name=\"leaf_size\", param_range=param_range,\n",
    "    cv=num_folds,  n_jobs=-1)\n",
    "train_scores_mean = np.mean(train_scores, axis=1)\n",
    "train_scores_std = np.std(train_scores, axis=1)\n",
    "test_scores_mean = np.mean(test_scores, axis=1)\n",
    "test_scores_std = np.std(test_scores, axis=1)\n",
    "\n",
    "plt.title(\"Validation Curve with KNeighborsRegressor\")\n",
    "plt.xlabel(\"leaf_size\")\n",
    "plt.ylabel(\"Score\")\n",
    "plt.ylim(0.4, 1.0)\n",
    "plt.plot(param_range, train_scores_mean, label=\"Training score\", color=\"r\")\n",
    "plt.fill_between(param_range, train_scores_mean - train_scores_std,\n",
    "                 train_scores_mean + train_scores_std, alpha=0.2, color=\"r\")\n",
    "plt.plot(param_range, test_scores_mean, label=\"Cross-validation score\",\n",
    "             color=\"g\")\n",
    "plt.fill_between(param_range, test_scores_mean - test_scores_std,\n",
    "                 test_scores_mean + test_scores_std, alpha=0.2, color=\"g\")\n",
    "plt.legend(loc=\"best\")\n",
    "plt.show()"
   ]
  },
  {
   "cell_type": "markdown",
   "metadata": {},
   "source": [
    "leaf_size does not effect so will keep the defulte one which is 30"
   ]
  },
  {
   "cell_type": "markdown",
   "metadata": {},
   "source": [
    "## Grid search and/or Random search to determine best compination of parameters"
   ]
  },
  {
   "cell_type": "code",
   "execution_count": null,
   "metadata": {
    "collapsed": false
   },
   "outputs": [
    {
     "name": "stdout",
     "output_type": "stream",
     "text": [
      "Hyperparameter optimization using GridSearchCV...\n"
     ]
    }
   ],
   "source": [
    "# Utility function to report optimal parameters\n",
    "from operator import itemgetter\n",
    "def report(grid_scores, n_top=5):\n",
    "    params = None\n",
    "    top_scores = sorted(grid_scores, key=itemgetter(1), reverse=True)[:n_top]\n",
    "    for i, score in enumerate(top_scores):\n",
    "        print(\"Parameters with rank: {0}\".format(i + 1))\n",
    "        print(\"Mean validation score: {0:.4f} (std: {1:.4f})\".format(\n",
    "              score.mean_validation_score, np.std(score.cv_validation_scores)))\n",
    "        print(\"Parameters: {0}\".format(score.parameters))\n",
    "        print(\"\")\n",
    "        \n",
    "        if params == None:\n",
    "            params = score.parameters\n",
    "    \n",
    "    return params\n",
    "\n",
    "# The most common value for the max number of features to look at in each split is sqrt(# of features)\n",
    "sqrtfeat = np.sqrt(X.shape[1]) \n",
    "# Simple grid test (162 combinations)\n",
    "grid_test1 = { \"n_neighbors\"      : [1,5,10],\n",
    "                \"algorithm\"      : [\"auto\", \"ball_tree\", \"kd_tree\", \"brute\"]}\n",
    "\n",
    "# Large randomized test using max_depth to control tree size (5000 possible combinations)\n",
    "random_test1 = { \"n_neighbors\"      : np.arange(1,2),\n",
    "                \"algorithm\"      : [\"auto\", \"ball_tree\", \"kd_tree\", \"brute\"]}\n",
    "\n",
    "\n",
    "forest = KNeighborsRegressor()\n",
    "\n",
    "print \"Hyperparameter optimization using GridSearchCV...\"\n",
    "grid_search = GridSearchCV(forest, grid_test1, n_jobs=-1, cv=num_folds)\n",
    "grid_search.fit(X, Y)\n",
    "best_params_from_grid_search = report(grid_search.grid_scores_)\n",
    "print '+++++++++++++++++++++++++++++++++++++++++++++++'\n",
    "print \"Hyperparameter optimization using RandomizedSearchCV\"\n",
    "grid_search = RandomizedSearchCV(forest, random_test1, n_jobs=-1, cv=num_folds, n_iter=1)\n",
    "grid_search.fit(X, Y)\n",
    "best_params_from_rand_search1 = report(grid_search.grid_scores_)"
   ]
  },
  {
   "cell_type": "markdown",
   "metadata": {},
   "source": [
    "Best parameters Parameters: Parameters: Parameters: {'n_neighbors': 4, 'algorithm': 'kd_tree'}\n",
    "\n"
   ]
  },
  {
   "cell_type": "markdown",
   "metadata": {},
   "source": [
    "## Learning Curve "
   ]
  },
  {
   "cell_type": "markdown",
   "metadata": {},
   "source": [
    "In essence, what we’re doing it training the exact same model with increasingly large fractions of our total training data, and plotting the error of the training and test sets at each step."
   ]
  },
  {
   "cell_type": "code",
   "execution_count": 18,
   "metadata": {
    "collapsed": false
   },
   "outputs": [
    {
     "data": {
      "image/png": "[encoded data removed]",
      "text/plain": [
       "<matplotlib.figure.Figure at 0x10600e450>"
      ]
     },
     "metadata": {},
     "output_type": "display_data"
    }
   ],
   "source": [
    "from sklearn.neighbors import KNeighborsRegressor\n",
    "model = KNeighborsRegressor(n_neighbors = 4, algorithm = 'kd_tree')\n",
    "title = \"Learning Curves (KNeighborsRegressor Refression)\"\n",
    "cv = cross_validation.ShuffleSplit(X.shape[0], n_iter=100,\n",
    "                                   test_size=0.2, random_state=0)\n",
    "plot_learning_curve(model, title, X, Y, ylim=(0.2, 1.01), cv=cv, n_jobs=-1)\n",
    "plt.show()"
   ]
  },
  {
   "cell_type": "code",
   "execution_count": 19,
   "metadata": {
    "collapsed": false
   },
   "outputs": [
    {
     "name": "stdout",
     "output_type": "stream",
     "text": [
      "train_sizes =  [ 50  80 110]\n",
      " training scores\n",
      " 50 training sizees\n",
      "0.775838608615 ± 0.0657418768526\n",
      " 80 training sizees\n",
      "0.805475455002 ± 0.0520943693002\n",
      " 110 training sizees\n",
      "0.825269471143 ± 0.0410990045311\n",
      "\n",
      " validation scores\n",
      " 50 validation scores\n",
      "0.60332713079 ± 0.0920475344502\n",
      " 80 validation scores\n",
      "0.655452828714 ± 0.0831808412531\n",
      " 110 validation scores\n",
      "0.687305675907 ± 0.0804660791947\n"
     ]
    }
   ],
   "source": [
    "# More data from learning curve to show the process of building the model\n",
    "train_sizes, train_scores, valid_scores = learning_curve(\n",
    "     model, X, Y, train_sizes=[50, 80, 110], cv=cv, n_jobs=4)\n",
    "\n",
    "print 'train_sizes = ', train_sizes\n",
    "\n",
    "print ' training scores'\n",
    "print ' 50 training sizees'\n",
    "print train_scores[0].mean(),'±',train_scores[0].std()\n",
    "print ' 80 training sizees'\n",
    "print train_scores[1].mean(),'±',train_scores[1].std()\n",
    "print ' 110 training sizees'\n",
    "print train_scores[2].mean(),'±',train_scores[2].std()\n",
    "\n",
    "print '\\n validation scores'\n",
    "print ' 50 validation scores'\n",
    "print valid_scores[0].mean(),'±',valid_scores[0].std()\n",
    "print ' 80 validation scores'\n",
    "print valid_scores[1].mean(),'±',valid_scores[1].std()\n",
    "print ' 110 validation scores'\n",
    "print valid_scores[2].mean(),'±',valid_scores[2].std()"
   ]
  },
  {
   "cell_type": "markdown",
   "metadata": {},
   "source": [
    "## Cross validation"
   ]
  },
  {
   "cell_type": "code",
   "execution_count": 20,
   "metadata": {
    "collapsed": false
   },
   "outputs": [
    {
     "name": "stdout",
     "output_type": "stream",
     "text": [
      "Scoring according to mean_squared_error\n",
      "[-14.12878049  -6.94830793 -14.44443598 -25.74519817 -12.2221875\n",
      " -15.34967188 -28.0481875  -23.49503125 -29.88301562  -9.34292187]\n",
      "\n",
      " Mean      Standard deviation\n",
      "-17.96      7.73\n"
     ]
    },
    {
     "data": {
      "text/plain": [
       "KNeighborsRegressor(algorithm='kd_tree', leaf_size=30, metric='minkowski',\n",
       "          metric_params=None, n_jobs=1, n_neighbors=4, p=2,\n",
       "          weights='uniform')"
      ]
     },
     "execution_count": 20,
     "metadata": {},
     "output_type": "execute_result"
    }
   ],
   "source": [
    "scoring = 'mean_squared_error'\n",
    "results = cross_validation.cross_val_score(model, X, Y, cv=kfold, scoring=scoring)\n",
    "print 'Scoring according to mean_squared_error'\n",
    "print results\n",
    "print '\\n Mean      Standard deviation'\n",
    "print(\"%.2f      %.2f\" % (results.mean(), results.std()))\n",
    "## Fit the model\n",
    "model.fit(X,Y)\n"
   ]
  },
  {
   "cell_type": "markdown",
   "metadata": {},
   "source": [
    "## Coefficients Of Determination {Calculating R^2}\n",
    "\n",
    "R^2, Close to one is better"
   ]
  },
  {
   "cell_type": "code",
   "execution_count": 21,
   "metadata": {
    "collapsed": false
   },
   "outputs": [
    {
     "name": "stdout",
     "output_type": "stream",
     "text": [
      "R-squared =  0.789360922554\n"
     ]
    }
   ],
   "source": [
    "predicted = cross_val_predict(model, X, Y, cv=kfold)\n",
    "r_squared = r2_score(Y, predicted, multioutput='variance_weighted')\n",
    "print 'R-squared = ',r_squared"
   ]
  },
  {
   "cell_type": "markdown",
   "metadata": {},
   "source": [
    "## Residual Plot"
   ]
  },
  {
   "cell_type": "code",
   "execution_count": 22,
   "metadata": {
    "collapsed": false
   },
   "outputs": [
    {
     "data": {
      "image/png": "[encoded data removed]",
      "text/plain": [
       "<matplotlib.figure.Figure at 0x10f568150>"
      ]
     },
     "metadata": {},
     "output_type": "display_data"
    }
   ],
   "source": [
    "predicted = cross_val_predict(model, X, Y, cv=kfold)\n",
    "fig, ax = plt.subplots()\n",
    "ax.scatter(Y, predicted)\n",
    "ax.plot([Y.min(), Y.max()], [Y.min(), Y.max()], 'k--', lw=4)\n",
    "ax.set_xlabel('Measured')\n",
    "ax.set_ylabel('Predicted')\n",
    "plt.show()"
   ]
  },
  {
   "cell_type": "code",
   "execution_count": 23,
   "metadata": {
    "collapsed": false
   },
   "outputs": [
    {
     "data": {
      "text/html": [
       "\n",
       "\n",
       "    <div class=\"bk-root\">\n",
       "        <div class=\"plotdiv\" id=\"1f8200d1-f61f-448b-b0f9-32b37a6a4c28\"></div>\n",
       "    </div>\n",
       "<script type=\"text/javascript\">\n",
       "  \n",
       "  (function(global) {\n",
       "    function now() {\n",
       "      return new Date();\n",
       "    }\n",
       "  \n",
       "    var force = \"\";\n",
       "  \n",
       "    if (typeof (window._bokeh_onload_callbacks) === \"undefined\" || force !== \"\") {\n",
       "      window._bokeh_onload_callbacks = [];\n",
       "      window._bokeh_is_loading = undefined;\n",
       "    }\n",
       "  \n",
       "    function run_callbacks() {\n",
       "      window._bokeh_onload_callbacks.forEach(function(callback) { callback() });\n",
       "      delete window._bokeh_onload_callbacks\n",
       "      console.info(\"Bokeh: all callbacks have finished\");\n",
       "    }\n",
       "  \n",
       "    function load_libs(js_urls, callback) {\n",
       "      window._bokeh_onload_callbacks.push(callback);\n",
       "      if (window._bokeh_is_loading > 0) {\n",
       "        console.log(\"Bokeh: BokehJS is being loaded, scheduling callback at\", now());\n",
       "        return null;\n",
       "      }\n",
       "      if (js_urls == null || js_urls.length === 0) {\n",
       "        run_callbacks();\n",
       "        return null;\n",
       "      }\n",
       "      console.log(\"Bokeh: BokehJS not loaded, scheduling load and callback at\", now());\n",
       "      window._bokeh_is_loading = js_urls.length;\n",
       "      for (var i = 0; i < js_urls.length; i++) {\n",
       "        var url = js_urls[i];\n",
       "        var s = document.createElement('script');\n",
       "        s.src = url;\n",
       "        s.async = false;\n",
       "        s.onreadystatechange = s.onload = function() {\n",
       "          window._bokeh_is_loading--;\n",
       "          if (window._bokeh_is_loading === 0) {\n",
       "            console.log(\"Bokeh: all BokehJS libraries loaded\");\n",
       "            run_callbacks()\n",
       "          }\n",
       "        };\n",
       "        s.onerror = function() {\n",
       "          console.warn(\"failed to load library \" + url);\n",
       "        };\n",
       "        console.log(\"Bokeh: injecting script tag for BokehJS library: \", url);\n",
       "        document.getElementsByTagName(\"head\")[0].appendChild(s);\n",
       "      }\n",
       "    };var element = document.getElementById(\"1f8200d1-f61f-448b-b0f9-32b37a6a4c28\");\n",
       "    if (element == null) {\n",
       "      console.log(\"Bokeh: ERROR: autoload.js configured with elementid '1f8200d1-f61f-448b-b0f9-32b37a6a4c28' but no matching script tag was found. \")\n",
       "      return false;\n",
       "    }\n",
       "  \n",
       "    var js_urls = [];\n",
       "  \n",
       "    var inline_js = [\n",
       "      function(Bokeh) {\n",
       "        Bokeh.$(function() {\n",
       "            var docs_json = {\"92040788-d132-4584-bfe6-75c15cd47e0e\":{\"roots\":{\"references\":[{\"attributes\":{\"callback\":null,\"plot\":{\"id\":\"5d37f5d9-948e-4abc-a92e-594ea32be677\",\"subtype\":\"Figure\",\"type\":\"Plot\"}},\"id\":\"ecad0047-a2b7-4707-b22a-f941116ef9d4\",\"type\":\"TapTool\"},{\"attributes\":{\"background_fill_alpha\":{\"value\":0.5},\"background_fill_color\":{\"value\":\"beige\"},\"below\":[{\"id\":\"34c2001e-9605-4efd-9d0c-58a981462aac\",\"type\":\"LinearAxis\"}],\"left\":[{\"id\":\"79ba78c6-e519-4702-ace6-5993705b1b6d\",\"type\":\"LinearAxis\"}],\"plot_height\":500,\"plot_width\":500,\"renderers\":[{\"id\":\"34c2001e-9605-4efd-9d0c-58a981462aac\",\"type\":\"LinearAxis\"},{\"id\":\"2c4d34b1-b24b-408f-99f4-a57c3d5a55f9\",\"type\":\"Grid\"},{\"id\":\"79ba78c6-e519-4702-ace6-5993705b1b6d\",\"type\":\"LinearAxis\"},{\"id\":\"bd1533fd-1c62-4e9c-9c08-4f6447ffbc2c\",\"type\":\"Grid\"},{\"id\":\"fb1da40b-96f2-46b9-9549-6e79a7a24744\",\"type\":\"BoxAnnotation\"},{\"id\":\"db28c9dd-8b42-4fd7-a002-6c795f08fb51\",\"type\":\"BoxAnnotation\"},{\"id\":\"36c3b944-254c-41d3-8026-abe953d5c0e4\",\"type\":\"PolyAnnotation\"},{\"id\":\"a9e03823-5f32-40a8-8f06-2dece2afe674\",\"type\":\"PolyAnnotation\"},{\"id\":\"5dea8423-3164-4840-b71e-01645955869c\",\"type\":\"GlyphRenderer\"},{\"id\":\"cf8bfec0-cd7e-463b-a8f5-03fab2497b53\",\"type\":\"GlyphRenderer\"}],\"title\":{\"id\":\"480539be-18cf-41c2-9226-419c6e2188f2\",\"type\":\"Title\"},\"tool_events\":{\"id\":\"4a1a33ec-93f8-4852-a107-b78984a8a1cf\",\"type\":\"ToolEvents\"},\"toolbar\":{\"id\":\"eaa6d36f-e647-484d-9ecf-aa4e82bec285\",\"type\":\"Toolbar\"},\"x_range\":{\"id\":\"4caf9bf0-822d-4d36-a1d3-17c6e2524ee4\",\"type\":\"DataRange1d\"},\"y_range\":{\"id\":\"b5479b26-b90e-4dab-adac-70e71888d3e7\",\"type\":\"DataRange1d\"}},\"id\":\"5d37f5d9-948e-4abc-a92e-594ea32be677\",\"subtype\":\"Figure\",\"type\":\"Plot\"},{\"attributes\":{\"callback\":null,\"overlay\":{\"id\":\"db28c9dd-8b42-4fd7-a002-6c795f08fb51\",\"type\":\"BoxAnnotation\"},\"plot\":{\"id\":\"5d37f5d9-948e-4abc-a92e-594ea32be677\",\"subtype\":\"Figure\",\"type\":\"Plot\"},\"renderers\":[{\"id\":\"5dea8423-3164-4840-b71e-01645955869c\",\"type\":\"GlyphRenderer\"},{\"id\":\"cf8bfec0-cd7e-463b-a8f5-03fab2497b53\",\"type\":\"GlyphRenderer\"}]},\"id\":\"bbba3f9d-f83a-4d06-afac-9572ea0a913e\",\"type\":\"BoxSelectTool\"},{\"attributes\":{\"plot\":{\"id\":\"5d37f5d9-948e-4abc-a92e-594ea32be677\",\"subtype\":\"Figure\",\"type\":\"Plot\"}},\"id\":\"c0fc0caf-64d1-4e67-8df5-033a8a24f02a\",\"type\":\"SaveTool\"},{\"attributes\":{\"bottom_units\":\"screen\",\"fill_alpha\":{\"value\":0.5},\"fill_color\":{\"value\":\"lightgrey\"},\"left_units\":\"screen\",\"level\":\"overlay\",\"line_alpha\":{\"value\":1.0},\"line_color\":{\"value\":\"black\"},\"line_dash\":[4,4],\"line_width\":{\"value\":2},\"plot\":null,\"render_mode\":\"css\",\"right_units\":\"screen\",\"top_units\":\"screen\"},\"id\":\"fb1da40b-96f2-46b9-9549-6e79a7a24744\",\"type\":\"BoxAnnotation\"},{\"attributes\":{\"align\":\"center\",\"plot\":null,\"text\":null},\"id\":\"480539be-18cf-41c2-9226-419c6e2188f2\",\"type\":\"Title\"},{\"attributes\":{\"line_alpha\":{\"value\":0.1},\"line_color\":{\"value\":\"#1f77b4\"},\"line_dash\":[4,4],\"line_width\":{\"value\":2},\"x\":{\"field\":\"x\"},\"y\":{\"field\":\"y\"}},\"id\":\"dfe8f09f-0f7e-41ab-9503-048d91abc8d3\",\"type\":\"Line\"},{\"attributes\":{\"callback\":null,\"column_names\":[\"x\",\"y\"],\"data\":{\"x\":[26.7,21.7,22.0,22.9,10.4,21.9,20.6,26.4,41.3,17.2,27.1,20.4,16.5,24.4,8.4,23.0,9.7,50.0,30.5,12.3,19.4,21.2,20.3,18.8,33.4,18.5,19.6,33.2,13.1,7.5,13.6,17.4,8.4,35.4,24.0,13.4,26.2,7.2,13.1,24.5,37.2,25.0,24.1,16.6,32.9,36.2,11.0,7.2,22.8,28.7,14.4,24.4,18.1,22.5,20.5,15.2,17.4,13.6,8.7,18.2,35.4,31.7,33.0,22.2,20.4,23.9,25.0,12.7,29.1,12.0,17.7,27.0,20.6,10.2,17.5,19.7,29.8,20.5,14.9,10.9,19.5,22.7,19.5,24.6,25.0,24.5,50.0,14.3,11.8,31.0,28.7,16.2,43.5,25.0,22.0,19.9,22.1,46.0,22.9,20.2,43.1,34.6,13.8,24.3,21.5,24.4,21.2,23.8,26.6,25.1,9.6,19.4,19.4,9.5,14.0,26.5,13.8,34.7,16.3,21.7,17.5,15.6,20.9,21.7,12.7,18.5,23.7,19.3,12.7,21.6,23.2,29.6,21.2,23.8,17.1,22.0,36.5,18.8,21.9,23.1,20.2,17.4,37.0,24.1,36.2,15.7,32.2,13.5,17.9,13.3,11.7,41.7,18.4,13.1,25.0,21.2,16.0,34.9,25.2,24.8,21.5,23.4,18.9,10.8,21.0,27.5,17.5,13.5,28.7,14.8,19.1,28.6,13.1,19.0,11.3,13.3,22.4,20.1,18.2,22.9,20.6,25.0,12.8,34.9,23.7,50.0,29.0,30.1,22.0,15.6,23.3,30.1,14.3,22.8,50.0,20.8,6.3,34.9,32.4,19.9,20.3,17.8,23.1,20.4,23.2,7.0,16.8,46.7,50.0,22.9,23.9,21.4,21.7,15.4,15.3,23.1,23.9,19.4,11.9,17.8,31.5,33.8,20.8,19.8,22.4,5.0,24.5,19.4,15.1,18.2,19.3,27.1,20.7,37.6,11.7,33.4,30.1,21.4,45.4,20.1,20.8,26.4,10.4,21.8,32.0,21.7,18.4,37.9,17.8,28.0,28.2,36.0,18.9,15.0,22.5,30.7,20.0,19.1,23.3,26.6,21.1,19.7,20.0,12.1,7.2,14.2,17.3,27.5,22.2,10.9,19.2,32.0,14.5,24.7,12.6,24.0,24.1,50.0,16.1,43.8,26.6,36.1,21.8,29.9,50.0,44.0,20.6,19.6,28.4,19.1,22.3,20.9,28.4,14.4,32.7,13.8,8.5,22.5,35.1,31.6,17.8,15.6,20.7,39.8,17.8,19.6,14.9,22.0,48.8,25.0,48.5,23.9,20.3,15.2,10.5,19.0,16.4,8.8,22.0,24.8,50.0,19.3,22.7,37.3,31.6,8.3,23.1,50.0,13.9,16.1,25.3,19.5,10.2,19.9,35.2,13.4,24.7,11.5,23.4,16.7,15.4,18.0,28.5,18.4,32.5,50.0,50.0,19.6,17.6,42.3,14.5,13.2,16.2,29.6,16.7,13.0,22.3,13.4,5.0,19.5,14.6,22.0,8.1,24.6,33.2,20.6,14.1,14.1,21.1,30.3,23.7,21.4,18.3,8.5,22.8,22.8,22.2,13.9,25.0,18.5,7.0,22.6,20.1,30.8,31.1,23.8,12.5,23.6,23.2,24.2,22.2,27.9,22.2,33.1,19.3,18.9,22.6,50.0,24.8,18.5,36.4,19.2,16.6,23.1],\"y\":[25.825,22.675,24.35,19.5,13.325,15.399999999999999,20.675,23.6,36.65,12.175,18.05,19.4,17.2,22.875,9.575,18.725,10.05,40.375,32.575,11.025,20.7,19.325,20.075000000000003,21.05,31.474999999999998,17.675,22.9,36.675,13.45,11.225000000000001,15.024999999999999,23.724999999999998,11.450000000000001,28.85,21.174999999999997,17.55,25.525000000000002,9.575,11.375,20.075,30.050000000000004,22.549999999999997,23.025,15.175,31.4,31.974999999999998,11.0,11.25,24.65,26.525000000000002,12.774999999999999,25.275,18.099999999999998,23.45,20.625,15.175,20.0,13.975,9.2,17.15,28.375000000000004,32.65,24.75,20.15,21.924999999999997,24.924999999999997,20.549999999999997,13.9,27.1,12.100000000000001,18.549999999999997,24.75,21.075,11.275,19.775,18.425,22.7,21.7,15.075,10.0,19.8,21.95,19.575000000000003,23.849999999999998,24.05,31.25,38.5,12.2,9.875,34.25,30.6,19.375,41.425,22.825,23.575,20.725,22.5,33.475,22.7,21.5,34.1,38.7,15.475,27.525,17.1,25.975,21.75,22.125,24.4,26.9,12.1,22.95,19.475,10.075,16.65,21.775000000000002,14.549999999999999,33.575,13.0,21.299999999999997,16.225,16.475,22.225,35.125,14.725,19.55,23.625,19.625,14.825,22.5,23.35,25.5,20.625,22.249999999999996,13.55,20.25,35.975,18.674999999999997,43.175,28.424999999999997,21.200000000000003,16.6,33.225,23.525,24.1,19.5,37.7,13.875,8.95,12.15,14.225,37.7,16.6,15.075000000000001,23.45,22.25,18.725,31.1,25.7,24.15,21.075,23.200000000000003,20.25,12.099999999999998,17.15,26.150000000000002,21.0,15.0,21.9,14.275,18.225,23.75,18.2,19.75,10.5,16.35,21.525,19.425,22.050000000000004,24.849999999999998,23.475,22.25,11.85,33.975,21.950000000000003,46.2,25.924999999999997,34.325,21.2,15.95,22.924999999999997,27.025,17.45,20.675,37.8,16.849999999999998,12.175,31.125,36.875,18.7,21.75,19.475,21.950000000000003,18.825,23.2,13.274999999999999,19.825000000000003,38.4,34.475,24.075000000000003,22.974999999999998,14.675,21.7,18.625,21.3,20.275,24.575,19.6,10.175,16.7,31.675,36.65,19.650000000000002,19.2,22.525,10.725,22.525000000000002,23.95,11.975000000000001,18.65,21.825,23.6,23.8,36.2,11.1,31.550000000000004,28.9,20.4,40.4,21.975,21.849999999999998,27.875000000000004,9.375,20.2,24.674999999999997,24.3,14.125,31.150000000000002,14.725,24.200000000000003,27.525,35.175,22.35,15.425,22.375,32.85,20.9,21.025,23.675,24.375,22.75,21.825,21.225,14.525,14.15,16.125,19.1,26.299999999999997,23.25,13.200000000000001,19.675,31.1,14.375,23.925,15.100000000000001,27.6,23.25,22.75,14.6,39.65,24.549999999999997,27.525,20.625,27.475,30.15,43.625,23.0,19.725,28.675,20.674999999999997,22.05,20.475,30.525,16.299999999999997,31.075000000000003,9.85,12.675,18.075,28.950000000000003,30.799999999999997,17.775,17.775,20.85,36.175000000000004,25.35,19.575000000000003,10.799999999999999,23.35,40.025,22.275,43.625,23.125,20.675,12.200000000000001,10.799999999999999,12.825,14.7,10.325,28.150000000000002,24.525,42.599999999999994,20.5,29.050000000000004,30.525,33.9,9.3,23.975,44.475,10.4,15.674999999999999,24.375,19.575000000000003,10.675,20.825,36.175,12.25,21.25,11.225000000000001,22.95,13.7,13.725000000000001,18.675,32.724999999999994,18.075,28.4,28.05,27.55,17.025,19.65,43.675,16.975,13.725,15.849999999999998,26.700000000000003,15.225,14.4,23.05,13.05,9.825000000000001,18.575000000000003,17.575,24.9,12.55,26.15,37.650000000000006,20.9,14.55,10.725,20.35,32.900000000000006,24.625,19.925,19.725,11.225,29.65,23.624999999999996,21.05,14.3,21.825,20.275,12.55,27.0,16.15,32.449999999999996,28.224999999999998,21.725,14.925,32.25,18.825,23.449999999999996,22.975,30.949999999999996,21.05,36.7,21.4,22.35,20.525,46.2,25.874999999999996,18.325,33.775000000000006,19.825,19.875,23.549999999999997]}},\"id\":\"782fce77-4e39-4a9a-88f0-bc44ab931996\",\"type\":\"ColumnDataSource\"},{\"attributes\":{\"plot\":{\"id\":\"5d37f5d9-948e-4abc-a92e-594ea32be677\",\"subtype\":\"Figure\",\"type\":\"Plot\"}},\"id\":\"e1be2b0e-8afb-4c4e-a277-83d3e339e5e4\",\"type\":\"ResetTool\"},{\"attributes\":{\"overlay\":{\"id\":\"fb1da40b-96f2-46b9-9549-6e79a7a24744\",\"type\":\"BoxAnnotation\"},\"plot\":{\"id\":\"5d37f5d9-948e-4abc-a92e-594ea32be677\",\"subtype\":\"Figure\",\"type\":\"Plot\"}},\"id\":\"3626001f-28b7-484e-94e0-929269cab130\",\"type\":\"BoxZoomTool\"},{\"attributes\":{\"fill_alpha\":{\"value\":0.5},\"fill_color\":{\"value\":\"lightgrey\"},\"level\":\"overlay\",\"line_alpha\":{\"value\":1.0},\"line_color\":{\"value\":\"black\"},\"line_dash\":[4,4],\"line_width\":{\"value\":2},\"plot\":null,\"xs_units\":\"screen\",\"ys_units\":\"screen\"},\"id\":\"36c3b944-254c-41d3-8026-abe953d5c0e4\",\"type\":\"PolyAnnotation\"},{\"attributes\":{\"fill_alpha\":{\"value\":0.5},\"fill_color\":{\"value\":\"lightgrey\"},\"level\":\"overlay\",\"line_alpha\":{\"value\":1.0},\"line_color\":{\"value\":\"black\"},\"line_dash\":[4,4],\"line_width\":{\"value\":2},\"plot\":null,\"xs_units\":\"screen\",\"ys_units\":\"screen\"},\"id\":\"a9e03823-5f32-40a8-8f06-2dece2afe674\",\"type\":\"PolyAnnotation\"},{\"attributes\":{\"axis_label\":\"Predicted\",\"axis_label_text_color\":{\"value\":\"#aa6666\"},\"formatter\":{\"id\":\"0645aa17-5d59-4b1d-bdfb-afae8917e9b5\",\"type\":\"BasicTickFormatter\"},\"plot\":{\"id\":\"5d37f5d9-948e-4abc-a92e-594ea32be677\",\"subtype\":\"Figure\",\"type\":\"Plot\"},\"ticker\":{\"id\":\"3539c4f0-a558-46a6-8443-a34c93707c2c\",\"type\":\"BasicTicker\"}},\"id\":\"79ba78c6-e519-4702-ace6-5993705b1b6d\",\"type\":\"LinearAxis\"},{\"attributes\":{\"line_dash\":[4,4],\"line_width\":{\"value\":2},\"x\":{\"field\":\"x\"},\"y\":{\"field\":\"y\"}},\"id\":\"40ebf8b2-6d21-4ef5-a997-530dc1023ebd\",\"type\":\"Line\"},{\"attributes\":{\"plot\":{\"id\":\"5d37f5d9-948e-4abc-a92e-594ea32be677\",\"subtype\":\"Figure\",\"type\":\"Plot\"}},\"id\":\"3f7982ca-079c-4c22-b97c-fb2ca2c0ac23\",\"type\":\"UndoTool\"},{\"attributes\":{\"plot\":{\"id\":\"5d37f5d9-948e-4abc-a92e-594ea32be677\",\"subtype\":\"Figure\",\"type\":\"Plot\"}},\"id\":\"fa8cfb18-e123-4b0d-afc6-622bde1afb81\",\"type\":\"PanTool\"},{\"attributes\":{\"active_drag\":\"auto\",\"active_scroll\":\"auto\",\"active_tap\":\"auto\",\"tools\":[{\"id\":\"3626001f-28b7-484e-94e0-929269cab130\",\"type\":\"BoxZoomTool\"},{\"id\":\"bbba3f9d-f83a-4d06-afac-9572ea0a913e\",\"type\":\"BoxSelectTool\"},{\"id\":\"651adae0-f854-4ad5-9daa-e656f7f82538\",\"type\":\"CrosshairTool\"},{\"id\":\"d357cd93-a7c2-4287-ae4f-499471156a76\",\"type\":\"ResizeTool\"},{\"id\":\"e1be2b0e-8afb-4c4e-a277-83d3e339e5e4\",\"type\":\"ResetTool\"},{\"id\":\"3eba8cab-c4bc-44c8-a86f-fe8006429aa5\",\"type\":\"LassoSelectTool\"},{\"id\":\"fa8cfb18-e123-4b0d-afc6-622bde1afb81\",\"type\":\"PanTool\"},{\"id\":\"c0fc0caf-64d1-4e67-8df5-033a8a24f02a\",\"type\":\"SaveTool\"},{\"id\":\"4a48d62f-537e-44df-9143-a48f9f41e7e2\",\"type\":\"PolySelectTool\"},{\"id\":\"ecad0047-a2b7-4707-b22a-f941116ef9d4\",\"type\":\"TapTool\"},{\"id\":\"23f15bc7-a1e8-48f6-86e4-d80b607bc79a\",\"type\":\"WheelZoomTool\"},{\"id\":\"3f7982ca-079c-4c22-b97c-fb2ca2c0ac23\",\"type\":\"UndoTool\"}]},\"id\":\"eaa6d36f-e647-484d-9ecf-aa4e82bec285\",\"type\":\"Toolbar\"},{\"attributes\":{\"fill_color\":{\"value\":\"#80B1D3\"},\"line_color\":{\"value\":\"#80B1D3\"},\"line_width\":{\"value\":3},\"x\":{\"field\":\"x\"},\"y\":{\"field\":\"y\"}},\"id\":\"6884180e-f42f-4b81-93aa-7e080d0decff\",\"type\":\"Circle\"},{\"attributes\":{},\"id\":\"17d70c52-85f3-495f-a73c-7882f24b1bb8\",\"type\":\"BasicTickFormatter\"},{\"attributes\":{\"axis_label\":\"Measured\",\"axis_label_text_color\":{\"value\":\"#aa6666\"},\"formatter\":{\"id\":\"17d70c52-85f3-495f-a73c-7882f24b1bb8\",\"type\":\"BasicTickFormatter\"},\"major_tick_line_color\":{\"value\":\"firebrick\"},\"major_tick_line_width\":{\"value\":3},\"minor_tick_line_color\":{\"value\":\"orange\"},\"plot\":{\"id\":\"5d37f5d9-948e-4abc-a92e-594ea32be677\",\"subtype\":\"Figure\",\"type\":\"Plot\"},\"ticker\":{\"id\":\"70652aff-ea18-4309-9c11-9b0003abc4c4\",\"type\":\"BasicTicker\"}},\"id\":\"34c2001e-9605-4efd-9d0c-58a981462aac\",\"type\":\"LinearAxis\"},{\"attributes\":{},\"id\":\"3539c4f0-a558-46a6-8443-a34c93707c2c\",\"type\":\"BasicTicker\"},{\"attributes\":{},\"id\":\"4a1a33ec-93f8-4852-a107-b78984a8a1cf\",\"type\":\"ToolEvents\"},{\"attributes\":{},\"id\":\"0645aa17-5d59-4b1d-bdfb-afae8917e9b5\",\"type\":\"BasicTickFormatter\"},{\"attributes\":{\"dimension\":1,\"plot\":{\"id\":\"5d37f5d9-948e-4abc-a92e-594ea32be677\",\"subtype\":\"Figure\",\"type\":\"Plot\"},\"ticker\":{\"id\":\"3539c4f0-a558-46a6-8443-a34c93707c2c\",\"type\":\"BasicTicker\"}},\"id\":\"bd1533fd-1c62-4e9c-9c08-4f6447ffbc2c\",\"type\":\"Grid\"},{\"attributes\":{\"callback\":null},\"id\":\"b5479b26-b90e-4dab-adac-70e71888d3e7\",\"type\":\"DataRange1d\"},{\"attributes\":{},\"id\":\"70652aff-ea18-4309-9c11-9b0003abc4c4\",\"type\":\"BasicTicker\"},{\"attributes\":{\"callback\":null,\"column_names\":[\"y\",\"x\"],\"data\":{\"x\":[5.0,50.0],\"y\":[5.0,50.0]}},\"id\":\"cfa0748f-b5e2-4b24-9c2c-dd39eea96103\",\"type\":\"ColumnDataSource\"},{\"attributes\":{\"data_source\":{\"id\":\"782fce77-4e39-4a9a-88f0-bc44ab931996\",\"type\":\"ColumnDataSource\"},\"glyph\":{\"id\":\"6884180e-f42f-4b81-93aa-7e080d0decff\",\"type\":\"Circle\"},\"hover_glyph\":null,\"nonselection_glyph\":{\"id\":\"62e9fa6e-c7a6-424a-a9d9-a571b08a6fd4\",\"type\":\"Circle\"},\"selection_glyph\":null},\"id\":\"5dea8423-3164-4840-b71e-01645955869c\",\"type\":\"GlyphRenderer\"},{\"attributes\":{\"plot\":{\"id\":\"5d37f5d9-948e-4abc-a92e-594ea32be677\",\"subtype\":\"Figure\",\"type\":\"Plot\"}},\"id\":\"651adae0-f854-4ad5-9daa-e656f7f82538\",\"type\":\"CrosshairTool\"},{\"attributes\":{\"data_source\":{\"id\":\"cfa0748f-b5e2-4b24-9c2c-dd39eea96103\",\"type\":\"ColumnDataSource\"},\"glyph\":{\"id\":\"40ebf8b2-6d21-4ef5-a997-530dc1023ebd\",\"type\":\"Line\"},\"hover_glyph\":null,\"nonselection_glyph\":{\"id\":\"dfe8f09f-0f7e-41ab-9503-048d91abc8d3\",\"type\":\"Line\"},\"selection_glyph\":null},\"id\":\"cf8bfec0-cd7e-463b-a8f5-03fab2497b53\",\"type\":\"GlyphRenderer\"},{\"attributes\":{\"plot\":{\"id\":\"5d37f5d9-948e-4abc-a92e-594ea32be677\",\"subtype\":\"Figure\",\"type\":\"Plot\"}},\"id\":\"d357cd93-a7c2-4287-ae4f-499471156a76\",\"type\":\"ResizeTool\"},{\"attributes\":{\"callback\":null,\"overlay\":{\"id\":\"36c3b944-254c-41d3-8026-abe953d5c0e4\",\"type\":\"PolyAnnotation\"},\"plot\":{\"id\":\"5d37f5d9-948e-4abc-a92e-594ea32be677\",\"subtype\":\"Figure\",\"type\":\"Plot\"}},\"id\":\"3eba8cab-c4bc-44c8-a86f-fe8006429aa5\",\"type\":\"LassoSelectTool\"},{\"attributes\":{\"bottom_units\":\"screen\",\"fill_alpha\":{\"value\":0.5},\"fill_color\":{\"value\":\"lightgrey\"},\"left_units\":\"screen\",\"level\":\"overlay\",\"line_alpha\":{\"value\":1.0},\"line_color\":{\"value\":\"black\"},\"line_dash\":[4,4],\"line_width\":{\"value\":2},\"plot\":null,\"render_mode\":\"css\",\"right_units\":\"screen\",\"top_units\":\"screen\"},\"id\":\"db28c9dd-8b42-4fd7-a002-6c795f08fb51\",\"type\":\"BoxAnnotation\"},{\"attributes\":{\"fill_alpha\":{\"value\":0.1},\"fill_color\":{\"value\":\"#1f77b4\"},\"line_alpha\":{\"value\":0.1},\"line_color\":{\"value\":\"#1f77b4\"},\"line_width\":{\"value\":3},\"x\":{\"field\":\"x\"},\"y\":{\"field\":\"y\"}},\"id\":\"62e9fa6e-c7a6-424a-a9d9-a571b08a6fd4\",\"type\":\"Circle\"},{\"attributes\":{\"callback\":null},\"id\":\"4caf9bf0-822d-4d36-a1d3-17c6e2524ee4\",\"type\":\"DataRange1d\"},{\"attributes\":{\"plot\":{\"id\":\"5d37f5d9-948e-4abc-a92e-594ea32be677\",\"subtype\":\"Figure\",\"type\":\"Plot\"},\"ticker\":{\"id\":\"70652aff-ea18-4309-9c11-9b0003abc4c4\",\"type\":\"BasicTicker\"}},\"id\":\"2c4d34b1-b24b-408f-99f4-a57c3d5a55f9\",\"type\":\"Grid\"},{\"attributes\":{\"overlay\":{\"id\":\"a9e03823-5f32-40a8-8f06-2dece2afe674\",\"type\":\"PolyAnnotation\"},\"plot\":{\"id\":\"5d37f5d9-948e-4abc-a92e-594ea32be677\",\"subtype\":\"Figure\",\"type\":\"Plot\"}},\"id\":\"4a48d62f-537e-44df-9143-a48f9f41e7e2\",\"type\":\"PolySelectTool\"},{\"attributes\":{\"plot\":{\"id\":\"5d37f5d9-948e-4abc-a92e-594ea32be677\",\"subtype\":\"Figure\",\"type\":\"Plot\"}},\"id\":\"23f15bc7-a1e8-48f6-86e4-d80b607bc79a\",\"type\":\"WheelZoomTool\"}],\"root_ids\":[\"5d37f5d9-948e-4abc-a92e-594ea32be677\"]},\"title\":\"Bokeh Application\",\"version\":\"0.12.1\"}};\n",
       "            var render_items = [{\"docid\":\"92040788-d132-4584-bfe6-75c15cd47e0e\",\"elementid\":\"1f8200d1-f61f-448b-b0f9-32b37a6a4c28\",\"modelid\":\"5d37f5d9-948e-4abc-a92e-594ea32be677\",\"notebook_comms_target\":\"05a46c95-71f6-408d-8495-8e5c9720376c\"}];\n",
       "            \n",
       "            Bokeh.embed.embed_items(docs_json, render_items);\n",
       "        });\n",
       "      },\n",
       "      function(Bokeh) {\n",
       "      }\n",
       "    ];\n",
       "  \n",
       "    function run_inline_js() {\n",
       "      for (var i = 0; i < inline_js.length; i++) {\n",
       "        inline_js[i](window.Bokeh);\n",
       "      }\n",
       "    }\n",
       "  \n",
       "    if (window._bokeh_is_loading === 0) {\n",
       "      console.log(\"Bokeh: BokehJS loaded, going straight to plotting\");\n",
       "      run_inline_js();\n",
       "    } else {\n",
       "      load_libs(js_urls, function() {\n",
       "        console.log(\"Bokeh: BokehJS plotting callback run at\", now());\n",
       "        run_inline_js();\n",
       "      });\n",
       "    }\n",
       "  }(this));\n",
       "</script>"
      ]
     },
     "metadata": {},
     "output_type": "display_data"
    },
    {
     "data": {
      "text/html": [
       "<p><code>&lt;Bokeh Notebook handle for <strong>In[23]</strong>&gt;</code></p>"
      ],
      "text/plain": [
       "<bokeh.io._CommsHandle at 0x10f523f10>"
      ]
     },
     "execution_count": 23,
     "metadata": {},
     "output_type": "execute_result"
    }
   ],
   "source": [
    "# Plotining using bokeh\n",
    "#TOOLS = [BoxSelectTool(), HoverTool()]\n",
    "#TOOLS = 'hover,box_zoom,box_select,crosshair,resize,reset,KNeighborsRegressor_select,pan,save,poly_select,tap,wheel_zoom,undo'\n",
    "TOOLS = 'box_zoom,box_select,crosshair,resize,reset,lasso_select,pan,save,poly_select,tap,wheel_zoom,undo'\n",
    "p = figure(plot_width=500, plot_height=500, tools=TOOLS)\n",
    "p.scatter(Y, predicted,x=\"jjj\", marker=\"o\", color=\"#80B1D3\", line_width=3)\n",
    "p.title.align = \"center\"\n",
    "p.xaxis.axis_label = \"Measured\"\n",
    "p.xaxis.axis_label_text_color = \"#aa6666\"\n",
    "#p.xaxis.axis_label_standoff = 30\n",
    "p.xaxis.major_tick_line_color = \"firebrick\"\n",
    "p.xaxis.major_tick_line_width = 3\n",
    "p.xaxis.minor_tick_line_color = \"orange\"\n",
    "p.yaxis.axis_label = \"Predicted\"\n",
    "p.yaxis.axis_label_text_font_style = \"italic\"\n",
    "p.yaxis.axis_label_text_color = \"#aa6666\"\n",
    "p.background_fill_color = \"beige\"\n",
    "p.background_fill_alpha = 0.5\n",
    "#p.line([Y.min(), Y.max()], [Y.min(), Y.max()], line_dash=\"4 4\", line_width=2, color='red')\n",
    "\n",
    "# create a new plot with the toolbar below\n",
    "# line_dash=\"4 4\", line_width=2, color='red'\n",
    "p.line([Y.min(), Y.max()], [Y.min(), Y.max()], line_dash=\"4 4\", line_width=2, line_color=\"black\")\n",
    "show(p)"
   ]
  },
  {
   "cell_type": "code",
   "execution_count": 24,
   "metadata": {
    "collapsed": false
   },
   "outputs": [
    {
     "data": {
      "text/plain": [
       "<matplotlib.text.Text at 0x10f52d850>"
      ]
     },
     "execution_count": 24,
     "metadata": {},
     "output_type": "execute_result"
    },
    {
     "data": {
      "image/png": "[encoded data removed]",
      "text/plain": [
       "<matplotlib.figure.Figure at 0x10f4b9790>"
      ]
     },
     "metadata": {},
     "output_type": "display_data"
    }
   ],
   "source": [
    "plt.scatter(predicted, (predicted - Y), c='r', s=30)\n",
    "plt.title(\"Residual plot on the training data\")\n",
    "plt.xlabel(\"Predicted\")\n",
    "plt.ylabel(\"Residuals\")"
   ]
  },
  {
   "cell_type": "code",
   "execution_count": 25,
   "metadata": {
    "collapsed": false
   },
   "outputs": [
    {
     "data": {
      "text/html": [
       "\n",
       "\n",
       "    <div class=\"bk-root\">\n",
       "        <div class=\"plotdiv\" id=\"42405293-7d9f-4054-83dd-5cf30b96d7fc\"></div>\n",
       "    </div>\n",
       "<script type=\"text/javascript\">\n",
       "  \n",
       "  (function(global) {\n",
       "    function now() {\n",
       "      return new Date();\n",
       "    }\n",
       "  \n",
       "    var force = \"\";\n",
       "  \n",
       "    if (typeof (window._bokeh_onload_callbacks) === \"undefined\" || force !== \"\") {\n",
       "      window._bokeh_onload_callbacks = [];\n",
       "      window._bokeh_is_loading = undefined;\n",
       "    }\n",
       "  \n",
       "    function run_callbacks() {\n",
       "      window._bokeh_onload_callbacks.forEach(function(callback) { callback() });\n",
       "      delete window._bokeh_onload_callbacks\n",
       "      console.info(\"Bokeh: all callbacks have finished\");\n",
       "    }\n",
       "  \n",
       "    function load_libs(js_urls, callback) {\n",
       "      window._bokeh_onload_callbacks.push(callback);\n",
       "      if (window._bokeh_is_loading > 0) {\n",
       "        console.log(\"Bokeh: BokehJS is being loaded, scheduling callback at\", now());\n",
       "        return null;\n",
       "      }\n",
       "      if (js_urls == null || js_urls.length === 0) {\n",
       "        run_callbacks();\n",
       "        return null;\n",
       "      }\n",
       "      console.log(\"Bokeh: BokehJS not loaded, scheduling load and callback at\", now());\n",
       "      window._bokeh_is_loading = js_urls.length;\n",
       "      for (var i = 0; i < js_urls.length; i++) {\n",
       "        var url = js_urls[i];\n",
       "        var s = document.createElement('script');\n",
       "        s.src = url;\n",
       "        s.async = false;\n",
       "        s.onreadystatechange = s.onload = function() {\n",
       "          window._bokeh_is_loading--;\n",
       "          if (window._bokeh_is_loading === 0) {\n",
       "            console.log(\"Bokeh: all BokehJS libraries loaded\");\n",
       "            run_callbacks()\n",
       "          }\n",
       "        };\n",
       "        s.onerror = function() {\n",
       "          console.warn(\"failed to load library \" + url);\n",
       "        };\n",
       "        console.log(\"Bokeh: injecting script tag for BokehJS library: \", url);\n",
       "        document.getElementsByTagName(\"head\")[0].appendChild(s);\n",
       "      }\n",
       "    };var element = document.getElementById(\"42405293-7d9f-4054-83dd-5cf30b96d7fc\");\n",
       "    if (element == null) {\n",
       "      console.log(\"Bokeh: ERROR: autoload.js configured with elementid '42405293-7d9f-4054-83dd-5cf30b96d7fc' but no matching script tag was found. \")\n",
       "      return false;\n",
       "    }\n",
       "  \n",
       "    var js_urls = [];\n",
       "  \n",
       "    var inline_js = [\n",
       "      function(Bokeh) {\n",
       "        Bokeh.$(function() {\n",
       "            var docs_json = {\"cae6fa9d-f7a3-4bd0-a23c-d3e854d53a36\":{\"roots\":{\"references\":[{\"attributes\":{\"callback\":null,\"plot\":{\"id\":\"015dd81a-cde0-43f6-8c14-61453cd9843f\",\"subtype\":\"Figure\",\"type\":\"Plot\"}},\"id\":\"f07dee84-65ef-4e66-a971-1c9919454283\",\"type\":\"TapTool\"},{\"attributes\":{\"bottom_units\":\"screen\",\"fill_alpha\":{\"value\":0.5},\"fill_color\":{\"value\":\"lightgrey\"},\"left_units\":\"screen\",\"level\":\"overlay\",\"line_alpha\":{\"value\":1.0},\"line_color\":{\"value\":\"black\"},\"line_dash\":[4,4],\"line_width\":{\"value\":2},\"plot\":null,\"render_mode\":\"css\",\"right_units\":\"screen\",\"top_units\":\"screen\"},\"id\":\"026112b1-edb9-4cf6-bd48-12ebfe949583\",\"type\":\"BoxAnnotation\"},{\"attributes\":{\"active_drag\":\"auto\",\"active_scroll\":\"auto\",\"active_tap\":\"auto\",\"tools\":[{\"id\":\"63cb3862-53ba-46fe-9be9-ad837e938314\",\"type\":\"BoxZoomTool\"},{\"id\":\"389c259f-79cc-4e3c-b78f-7867c2f660e9\",\"type\":\"BoxSelectTool\"},{\"id\":\"6c918f37-b045-4315-a62c-d506ed9c421f\",\"type\":\"CrosshairTool\"},{\"id\":\"5f29e232-ae78-499d-8c3c-71bd96ed93cb\",\"type\":\"ResizeTool\"},{\"id\":\"c13fe636-df8d-41ad-961e-94d332c5934a\",\"type\":\"ResetTool\"},{\"id\":\"ea79b848-3b8e-4d83-a8e6-861fe291b2e8\",\"type\":\"LassoSelectTool\"},{\"id\":\"1d1d03f8-f609-40f7-8a0c-b58a6d8b7799\",\"type\":\"PanTool\"},{\"id\":\"0666037f-c337-441c-aad1-7ae2b051d144\",\"type\":\"SaveTool\"},{\"id\":\"2ca09b71-e505-4bae-89af-0f1d977333c4\",\"type\":\"PolySelectTool\"},{\"id\":\"f07dee84-65ef-4e66-a971-1c9919454283\",\"type\":\"TapTool\"},{\"id\":\"6023850a-f80f-48cb-aa44-225cc0360e54\",\"type\":\"WheelZoomTool\"},{\"id\":\"9599790c-a012-468c-be30-a8dd16947301\",\"type\":\"UndoTool\"}]},\"id\":\"0a229cbf-0a23-4564-b347-26fc9488cd51\",\"type\":\"Toolbar\"},{\"attributes\":{\"fill_color\":{\"value\":\"#80B1D3\"},\"line_color\":{\"value\":\"#80B1D3\"},\"line_width\":{\"value\":3},\"x\":{\"field\":\"x\"},\"y\":{\"field\":\"y\"}},\"id\":\"9ee918e0-989a-4773-b54c-9a4dbc0c8860\",\"type\":\"Circle\"},{\"attributes\":{\"plot\":{\"id\":\"015dd81a-cde0-43f6-8c14-61453cd9843f\",\"subtype\":\"Figure\",\"type\":\"Plot\"}},\"id\":\"1d1d03f8-f609-40f7-8a0c-b58a6d8b7799\",\"type\":\"PanTool\"},{\"attributes\":{},\"id\":\"688f4d50-7323-4fae-b452-b14007bc4ce2\",\"type\":\"BasicTicker\"},{\"attributes\":{},\"id\":\"9d33aaab-5790-49ea-955b-b2d511df8ffb\",\"type\":\"BasicTicker\"},{\"attributes\":{},\"id\":\"edc5a8f3-c517-4d7d-b229-e163bfb82562\",\"type\":\"ToolEvents\"},{\"attributes\":{\"callback\":null,\"overlay\":{\"id\":\"063ec9ac-c09d-4a42-b5d5-8909058c3dfc\",\"type\":\"PolyAnnotation\"},\"plot\":{\"id\":\"015dd81a-cde0-43f6-8c14-61453cd9843f\",\"subtype\":\"Figure\",\"type\":\"Plot\"}},\"id\":\"ea79b848-3b8e-4d83-a8e6-861fe291b2e8\",\"type\":\"LassoSelectTool\"},{\"attributes\":{\"plot\":{\"id\":\"015dd81a-cde0-43f6-8c14-61453cd9843f\",\"subtype\":\"Figure\",\"type\":\"Plot\"}},\"id\":\"6c918f37-b045-4315-a62c-d506ed9c421f\",\"type\":\"CrosshairTool\"},{\"attributes\":{\"fill_alpha\":{\"value\":0.5},\"fill_color\":{\"value\":\"lightgrey\"},\"level\":\"overlay\",\"line_alpha\":{\"value\":1.0},\"line_color\":{\"value\":\"black\"},\"line_dash\":[4,4],\"line_width\":{\"value\":2},\"plot\":null,\"xs_units\":\"screen\",\"ys_units\":\"screen\"},\"id\":\"3264f5ce-ed54-4546-9b03-476822efc9fa\",\"type\":\"PolyAnnotation\"},{\"attributes\":{\"plot\":{\"id\":\"015dd81a-cde0-43f6-8c14-61453cd9843f\",\"subtype\":\"Figure\",\"type\":\"Plot\"}},\"id\":\"c13fe636-df8d-41ad-961e-94d332c5934a\",\"type\":\"ResetTool\"},{\"attributes\":{\"plot\":{\"id\":\"015dd81a-cde0-43f6-8c14-61453cd9843f\",\"subtype\":\"Figure\",\"type\":\"Plot\"}},\"id\":\"0666037f-c337-441c-aad1-7ae2b051d144\",\"type\":\"SaveTool\"},{\"attributes\":{},\"id\":\"29461211-524f-48d8-8a2c-579aa7e25315\",\"type\":\"BasicTickFormatter\"},{\"attributes\":{\"background_fill_alpha\":{\"value\":0.5},\"background_fill_color\":{\"value\":\"beige\"},\"below\":[{\"id\":\"f06fbde3-fe54-4a89-92d3-2c9d807e1c9a\",\"type\":\"LinearAxis\"}],\"left\":[{\"id\":\"9845d835-cc92-46ba-afb3-82b490934db1\",\"type\":\"LinearAxis\"}],\"plot_height\":500,\"plot_width\":500,\"renderers\":[{\"id\":\"f06fbde3-fe54-4a89-92d3-2c9d807e1c9a\",\"type\":\"LinearAxis\"},{\"id\":\"daac28aa-7980-4a4a-9003-17c0698f6bc9\",\"type\":\"Grid\"},{\"id\":\"9845d835-cc92-46ba-afb3-82b490934db1\",\"type\":\"LinearAxis\"},{\"id\":\"651bfb01-36c8-4086-bdfb-50ade646c362\",\"type\":\"Grid\"},{\"id\":\"a4488301-84f9-4462-920d-7393f22e9fad\",\"type\":\"BoxAnnotation\"},{\"id\":\"026112b1-edb9-4cf6-bd48-12ebfe949583\",\"type\":\"BoxAnnotation\"},{\"id\":\"063ec9ac-c09d-4a42-b5d5-8909058c3dfc\",\"type\":\"PolyAnnotation\"},{\"id\":\"3264f5ce-ed54-4546-9b03-476822efc9fa\",\"type\":\"PolyAnnotation\"},{\"id\":\"d080e69b-ecd5-49e3-9765-ee19ca23eab6\",\"type\":\"GlyphRenderer\"}],\"title\":{\"id\":\"4eb66ec1-38c5-48b2-ad88-a4ca45762caf\",\"type\":\"Title\"},\"tool_events\":{\"id\":\"edc5a8f3-c517-4d7d-b229-e163bfb82562\",\"type\":\"ToolEvents\"},\"toolbar\":{\"id\":\"0a229cbf-0a23-4564-b347-26fc9488cd51\",\"type\":\"Toolbar\"},\"x_range\":{\"id\":\"4de98602-17e3-4dee-ab7b-9168e0d38ecc\",\"type\":\"DataRange1d\"},\"y_range\":{\"id\":\"674be035-d495-4d2c-91fd-7c6d229c4479\",\"type\":\"DataRange1d\"}},\"id\":\"015dd81a-cde0-43f6-8c14-61453cd9843f\",\"subtype\":\"Figure\",\"type\":\"Plot\"},{\"attributes\":{\"plot\":{\"id\":\"015dd81a-cde0-43f6-8c14-61453cd9843f\",\"subtype\":\"Figure\",\"type\":\"Plot\"}},\"id\":\"6023850a-f80f-48cb-aa44-225cc0360e54\",\"type\":\"WheelZoomTool\"},{\"attributes\":{\"callback\":null,\"overlay\":{\"id\":\"026112b1-edb9-4cf6-bd48-12ebfe949583\",\"type\":\"BoxAnnotation\"},\"plot\":{\"id\":\"015dd81a-cde0-43f6-8c14-61453cd9843f\",\"subtype\":\"Figure\",\"type\":\"Plot\"},\"renderers\":[{\"id\":\"d080e69b-ecd5-49e3-9765-ee19ca23eab6\",\"type\":\"GlyphRenderer\"}]},\"id\":\"389c259f-79cc-4e3c-b78f-7867c2f660e9\",\"type\":\"BoxSelectTool\"},{\"attributes\":{\"overlay\":{\"id\":\"3264f5ce-ed54-4546-9b03-476822efc9fa\",\"type\":\"PolyAnnotation\"},\"plot\":{\"id\":\"015dd81a-cde0-43f6-8c14-61453cd9843f\",\"subtype\":\"Figure\",\"type\":\"Plot\"}},\"id\":\"2ca09b71-e505-4bae-89af-0f1d977333c4\",\"type\":\"PolySelectTool\"},{\"attributes\":{\"bottom_units\":\"screen\",\"fill_alpha\":{\"value\":0.5},\"fill_color\":{\"value\":\"lightgrey\"},\"left_units\":\"screen\",\"level\":\"overlay\",\"line_alpha\":{\"value\":1.0},\"line_color\":{\"value\":\"black\"},\"line_dash\":[4,4],\"line_width\":{\"value\":2},\"plot\":null,\"render_mode\":\"css\",\"right_units\":\"screen\",\"top_units\":\"screen\"},\"id\":\"a4488301-84f9-4462-920d-7393f22e9fad\",\"type\":\"BoxAnnotation\"},{\"attributes\":{\"plot\":{\"id\":\"015dd81a-cde0-43f6-8c14-61453cd9843f\",\"subtype\":\"Figure\",\"type\":\"Plot\"}},\"id\":\"5f29e232-ae78-499d-8c3c-71bd96ed93cb\",\"type\":\"ResizeTool\"},{\"attributes\":{\"callback\":null,\"column_names\":[\"x\",\"y\"],\"data\":{\"x\":[25.825,22.675,24.35,19.5,13.325,15.399999999999999,20.675,23.6,36.65,12.175,18.05,19.4,17.2,22.875,9.575,18.725,10.05,40.375,32.575,11.025,20.7,19.325,20.075000000000003,21.05,31.474999999999998,17.675,22.9,36.675,13.45,11.225000000000001,15.024999999999999,23.724999999999998,11.450000000000001,28.85,21.174999999999997,17.55,25.525000000000002,9.575,11.375,20.075,30.050000000000004,22.549999999999997,23.025,15.175,31.4,31.974999999999998,11.0,11.25,24.65,26.525000000000002,12.774999999999999,25.275,18.099999999999998,23.45,20.625,15.175,20.0,13.975,9.2,17.15,28.375000000000004,32.65,24.75,20.15,21.924999999999997,24.924999999999997,20.549999999999997,13.9,27.1,12.100000000000001,18.549999999999997,24.75,21.075,11.275,19.775,18.425,22.7,21.7,15.075,10.0,19.8,21.95,19.575000000000003,23.849999999999998,24.05,31.25,38.5,12.2,9.875,34.25,30.6,19.375,41.425,22.825,23.575,20.725,22.5,33.475,22.7,21.5,34.1,38.7,15.475,27.525,17.1,25.975,21.75,22.125,24.4,26.9,12.1,22.95,19.475,10.075,16.65,21.775000000000002,14.549999999999999,33.575,13.0,21.299999999999997,16.225,16.475,22.225,35.125,14.725,19.55,23.625,19.625,14.825,22.5,23.35,25.5,20.625,22.249999999999996,13.55,20.25,35.975,18.674999999999997,43.175,28.424999999999997,21.200000000000003,16.6,33.225,23.525,24.1,19.5,37.7,13.875,8.95,12.15,14.225,37.7,16.6,15.075000000000001,23.45,22.25,18.725,31.1,25.7,24.15,21.075,23.200000000000003,20.25,12.099999999999998,17.15,26.150000000000002,21.0,15.0,21.9,14.275,18.225,23.75,18.2,19.75,10.5,16.35,21.525,19.425,22.050000000000004,24.849999999999998,23.475,22.25,11.85,33.975,21.950000000000003,46.2,25.924999999999997,34.325,21.2,15.95,22.924999999999997,27.025,17.45,20.675,37.8,16.849999999999998,12.175,31.125,36.875,18.7,21.75,19.475,21.950000000000003,18.825,23.2,13.274999999999999,19.825000000000003,38.4,34.475,24.075000000000003,22.974999999999998,14.675,21.7,18.625,21.3,20.275,24.575,19.6,10.175,16.7,31.675,36.65,19.650000000000002,19.2,22.525,10.725,22.525000000000002,23.95,11.975000000000001,18.65,21.825,23.6,23.8,36.2,11.1,31.550000000000004,28.9,20.4,40.4,21.975,21.849999999999998,27.875000000000004,9.375,20.2,24.674999999999997,24.3,14.125,31.150000000000002,14.725,24.200000000000003,27.525,35.175,22.35,15.425,22.375,32.85,20.9,21.025,23.675,24.375,22.75,21.825,21.225,14.525,14.15,16.125,19.1,26.299999999999997,23.25,13.200000000000001,19.675,31.1,14.375,23.925,15.100000000000001,27.6,23.25,22.75,14.6,39.65,24.549999999999997,27.525,20.625,27.475,30.15,43.625,23.0,19.725,28.675,20.674999999999997,22.05,20.475,30.525,16.299999999999997,31.075000000000003,9.85,12.675,18.075,28.950000000000003,30.799999999999997,17.775,17.775,20.85,36.175000000000004,25.35,19.575000000000003,10.799999999999999,23.35,40.025,22.275,43.625,23.125,20.675,12.200000000000001,10.799999999999999,12.825,14.7,10.325,28.150000000000002,24.525,42.599999999999994,20.5,29.050000000000004,30.525,33.9,9.3,23.975,44.475,10.4,15.674999999999999,24.375,19.575000000000003,10.675,20.825,36.175,12.25,21.25,11.225000000000001,22.95,13.7,13.725000000000001,18.675,32.724999999999994,18.075,28.4,28.05,27.55,17.025,19.65,43.675,16.975,13.725,15.849999999999998,26.700000000000003,15.225,14.4,23.05,13.05,9.825000000000001,18.575000000000003,17.575,24.9,12.55,26.15,37.650000000000006,20.9,14.55,10.725,20.35,32.900000000000006,24.625,19.925,19.725,11.225,29.65,23.624999999999996,21.05,14.3,21.825,20.275,12.55,27.0,16.15,32.449999999999996,28.224999999999998,21.725,14.925,32.25,18.825,23.449999999999996,22.975,30.949999999999996,21.05,36.7,21.4,22.35,20.525,46.2,25.874999999999996,18.325,33.775000000000006,19.825,19.875,23.549999999999997],\"y\":[-0.875,0.9750000000000014,2.3500000000000014,-3.3999999999999986,2.924999999999999,-6.5,0.07499999999999929,-2.799999999999997,-4.649999999999999,-5.024999999999999,-9.05,-1.0,0.6999999999999993,-1.5249999999999986,1.174999999999999,-4.274999999999999,0.3500000000000014,-9.625,2.075000000000003,-1.2750000000000004,1.3000000000000007,-1.875,-0.22499999999999787,2.25,-1.9250000000000007,-0.8249999999999993,3.299999999999997,3.4749999999999943,0.34999999999999964,3.7250000000000014,1.424999999999999,6.324999999999999,3.0500000000000007,-6.549999999999997,-2.825000000000003,4.15,-0.6749999999999972,2.374999999999999,-1.7249999999999996,-4.425000000000001,-7.149999999999999,-2.450000000000003,-1.0750000000000028,-1.4250000000000007,-1.5,-4.225000000000005,0.0,4.05,1.8499999999999979,-2.174999999999997,-1.6250000000000018,0.875,-3.552713678800501e-15,0.9499999999999993,0.125,-0.02499999999999858,2.6000000000000014,0.375,0.5,-1.0500000000000007,-7.024999999999995,0.9499999999999993,-8.25,-2.0500000000000007,1.5249999999999986,1.0249999999999986,-4.450000000000003,1.200000000000001,-2.0,0.10000000000000142,0.8499999999999979,-2.25,0.47499999999999787,1.075000000000001,2.2749999999999986,-1.2749999999999986,-7.100000000000001,1.1999999999999993,0.17499999999999893,-0.9000000000000004,0.3000000000000007,-0.75,0.07500000000000284,-0.7500000000000036,-0.9499999999999993,6.75,-11.5,-2.1000000000000014,-1.9250000000000007,3.25,1.9000000000000021,3.1750000000000007,-2.075000000000003,-2.1750000000000007,1.5749999999999993,0.8250000000000028,0.3999999999999986,-12.524999999999999,-0.1999999999999993,1.3000000000000007,-9.0,4.100000000000001,1.674999999999999,3.224999999999998,-4.399999999999999,1.5750000000000028,0.5500000000000007,-1.6750000000000007,-2.200000000000003,1.7999999999999972,2.5,3.5500000000000007,0.07500000000000284,0.5749999999999993,2.6499999999999986,-4.724999999999998,0.7499999999999982,-1.125,-3.3000000000000007,-0.40000000000000213,-1.2749999999999986,0.8750000000000018,1.3250000000000028,13.425,2.0250000000000004,1.0500000000000007,-0.07499999999999929,0.3249999999999993,2.125,0.8999999999999986,0.15000000000000213,-4.100000000000001,-0.5749999999999993,-1.5500000000000043,-3.5500000000000007,-1.75,-0.5249999999999986,-0.12500000000000355,21.275,5.324999999999996,1.0000000000000036,-0.7999999999999972,-3.7749999999999986,-0.5750000000000028,-12.100000000000001,3.8000000000000007,5.5,0.375,-8.95,-1.1500000000000004,2.5250000000000004,-4.0,-1.7999999999999972,1.9750000000000014,-1.5500000000000007,1.0500000000000007,2.7250000000000014,-3.799999999999997,0.5,-0.6500000000000021,-0.4250000000000007,-0.19999999999999574,1.3500000000000014,1.2999999999999972,-3.8500000000000014,-1.3499999999999979,3.5,1.5,-6.800000000000001,-0.5250000000000004,-0.875,-4.850000000000001,5.1,0.75,-0.8000000000000007,3.0500000000000007,-0.875,-0.6750000000000007,3.850000000000005,1.9499999999999993,2.875,-2.75,-0.9500000000000011,-0.9249999999999972,-1.7499999999999964,-3.799999999999997,-3.075000000000003,4.225000000000001,-0.8000000000000007,0.34999999999999964,-0.37500000000000355,-3.075000000000003,3.1499999999999986,-2.125,-12.200000000000003,-3.950000000000003,5.875000000000001,-3.7749999999999986,4.475000000000001,-1.1999999999999993,1.4499999999999993,1.6750000000000007,-1.1499999999999986,-1.5749999999999993,0.0,6.274999999999999,3.025000000000002,-8.300000000000004,-15.524999999999999,1.1750000000000043,-0.9250000000000007,-6.724999999999998,0.0,3.2249999999999996,6.0,-2.825000000000003,0.6750000000000007,0.20000000000000284,-1.7249999999999996,-1.1000000000000014,0.1750000000000007,2.8500000000000014,-1.1499999999999986,-0.6000000000000014,0.125,5.725,-1.9749999999999979,4.550000000000001,-3.1249999999999982,0.4499999999999993,2.5249999999999986,-3.5,3.1000000000000014,-1.3999999999999986,-0.5999999999999996,-1.8499999999999943,-1.2000000000000028,-1.0,-5.0,1.875,1.0499999999999972,1.475000000000005,-1.0250000000000004,-1.6000000000000014,-7.325000000000003,2.6000000000000014,-4.274999999999999,-6.7499999999999964,-3.075000000000001,-3.799999999999997,-0.6750000000000007,-0.8250000000000028,3.450000000000003,0.4250000000000007,-0.125,2.150000000000002,0.8999999999999986,1.9249999999999972,0.375,-2.2250000000000014,1.6499999999999986,2.125,1.2250000000000014,2.4250000000000007,6.95,1.9250000000000007,1.8000000000000007,-1.2000000000000028,1.0500000000000007,2.3000000000000007,0.4750000000000014,-0.8999999999999986,-0.125,-0.7749999999999986,2.5000000000000018,3.6000000000000014,-0.8500000000000014,-27.25,-1.5000000000000018,-4.149999999999999,-2.0500000000000043,-8.575000000000003,-1.1750000000000007,-2.424999999999997,-19.85,-0.375,2.3999999999999986,0.125,0.27500000000000213,1.5749999999999957,-0.25,-0.42499999999999716,2.125,1.8999999999999968,-1.625,-3.950000000000001,4.175000000000001,-4.425000000000001,-6.149999999999999,-0.8000000000000043,-0.02500000000000213,2.174999999999999,0.15000000000000213,-3.624999999999993,7.550000000000001,-0.02499999999999858,-4.100000000000001,1.3500000000000014,-8.774999999999999,-2.7250000000000014,-4.875,-0.7749999999999986,0.375,-2.9999999999999982,0.29999999999999893,-6.175000000000001,-1.6999999999999993,1.5249999999999986,6.150000000000002,-0.27500000000000213,-7.400000000000006,1.1999999999999993,6.350000000000005,-6.774999999999999,2.299999999999997,1.0,0.875,-5.524999999999999,-3.5,-0.4250000000000025,-0.9250000000000007,0.07500000000000284,0.4750000000000014,0.9250000000000007,0.9749999999999943,-1.1500000000000004,-3.4499999999999993,-0.2749999999999986,-0.4499999999999993,-3.0,-1.674999999999999,0.6750000000000007,4.224999999999994,-0.3249999999999993,-4.100000000000001,-21.95,-22.45,-2.575000000000003,2.049999999999997,1.375,2.4750000000000014,0.5250000000000004,-0.3500000000000014,-2.8999999999999986,-1.4749999999999996,1.4000000000000004,0.75,-0.34999999999999964,4.825000000000001,-0.9249999999999972,2.9749999999999996,2.8999999999999986,4.450000000000001,1.5499999999999972,4.450000000000003,0.29999999999999716,0.45000000000000107,-3.375,-0.75,2.600000000000005,0.9250000000000007,-1.4749999999999979,1.4250000000000007,2.7249999999999996,6.849999999999998,0.8249999999999957,-1.1499999999999986,0.40000000000000036,-3.1750000000000007,1.7749999999999986,5.550000000000001,4.399999999999999,-3.950000000000003,1.649999999999995,-2.8750000000000036,-2.0749999999999993,2.4250000000000007,8.649999999999999,-4.375,-0.7500000000000036,0.7750000000000021,3.049999999999997,-1.1499999999999986,3.6000000000000014,2.099999999999998,3.450000000000003,-2.075000000000003,-3.799999999999997,1.0749999999999957,-0.1750000000000007,-2.624999999999993,0.625,3.2749999999999986,0.44999999999999574]}},\"id\":\"0f08f715-6f44-4737-90ca-42f31181a2a7\",\"type\":\"ColumnDataSource\"},{\"attributes\":{\"plot\":{\"id\":\"015dd81a-cde0-43f6-8c14-61453cd9843f\",\"subtype\":\"Figure\",\"type\":\"Plot\"}},\"id\":\"9599790c-a012-468c-be30-a8dd16947301\",\"type\":\"UndoTool\"},{\"attributes\":{\"callback\":null},\"id\":\"4de98602-17e3-4dee-ab7b-9168e0d38ecc\",\"type\":\"DataRange1d\"},{\"attributes\":{\"callback\":null},\"id\":\"674be035-d495-4d2c-91fd-7c6d229c4479\",\"type\":\"DataRange1d\"},{\"attributes\":{\"data_source\":{\"id\":\"0f08f715-6f44-4737-90ca-42f31181a2a7\",\"type\":\"ColumnDataSource\"},\"glyph\":{\"id\":\"9ee918e0-989a-4773-b54c-9a4dbc0c8860\",\"type\":\"Circle\"},\"hover_glyph\":null,\"nonselection_glyph\":{\"id\":\"491e5d68-9300-4f39-9eb4-2875310b384c\",\"type\":\"Circle\"},\"selection_glyph\":null},\"id\":\"d080e69b-ecd5-49e3-9765-ee19ca23eab6\",\"type\":\"GlyphRenderer\"},{\"attributes\":{\"plot\":{\"id\":\"015dd81a-cde0-43f6-8c14-61453cd9843f\",\"subtype\":\"Figure\",\"type\":\"Plot\"},\"ticker\":{\"id\":\"9d33aaab-5790-49ea-955b-b2d511df8ffb\",\"type\":\"BasicTicker\"}},\"id\":\"daac28aa-7980-4a4a-9003-17c0698f6bc9\",\"type\":\"Grid\"},{\"attributes\":{\"align\":\"center\",\"plot\":null,\"text\":\"Residual plot on the training data\"},\"id\":\"4eb66ec1-38c5-48b2-ad88-a4ca45762caf\",\"type\":\"Title\"},{\"attributes\":{\"axis_label\":\"Residuals\",\"axis_label_text_color\":{\"value\":\"#aa6666\"},\"formatter\":{\"id\":\"8c6db23d-dba6-4350-b55f-ee42a917623c\",\"type\":\"BasicTickFormatter\"},\"plot\":{\"id\":\"015dd81a-cde0-43f6-8c14-61453cd9843f\",\"subtype\":\"Figure\",\"type\":\"Plot\"},\"ticker\":{\"id\":\"688f4d50-7323-4fae-b452-b14007bc4ce2\",\"type\":\"BasicTicker\"}},\"id\":\"9845d835-cc92-46ba-afb3-82b490934db1\",\"type\":\"LinearAxis\"},{\"attributes\":{},\"id\":\"8c6db23d-dba6-4350-b55f-ee42a917623c\",\"type\":\"BasicTickFormatter\"},{\"attributes\":{\"fill_alpha\":{\"value\":0.1},\"fill_color\":{\"value\":\"#1f77b4\"},\"line_alpha\":{\"value\":0.1},\"line_color\":{\"value\":\"#1f77b4\"},\"line_width\":{\"value\":3},\"x\":{\"field\":\"x\"},\"y\":{\"field\":\"y\"}},\"id\":\"491e5d68-9300-4f39-9eb4-2875310b384c\",\"type\":\"Circle\"},{\"attributes\":{\"dimension\":1,\"plot\":{\"id\":\"015dd81a-cde0-43f6-8c14-61453cd9843f\",\"subtype\":\"Figure\",\"type\":\"Plot\"},\"ticker\":{\"id\":\"688f4d50-7323-4fae-b452-b14007bc4ce2\",\"type\":\"BasicTicker\"}},\"id\":\"651bfb01-36c8-4086-bdfb-50ade646c362\",\"type\":\"Grid\"},{\"attributes\":{\"axis_label\":\"Predicted\",\"axis_label_text_color\":{\"value\":\"#aa6666\"},\"formatter\":{\"id\":\"29461211-524f-48d8-8a2c-579aa7e25315\",\"type\":\"BasicTickFormatter\"},\"major_tick_line_color\":{\"value\":\"firebrick\"},\"major_tick_line_width\":{\"value\":3},\"minor_tick_line_color\":{\"value\":\"orange\"},\"plot\":{\"id\":\"015dd81a-cde0-43f6-8c14-61453cd9843f\",\"subtype\":\"Figure\",\"type\":\"Plot\"},\"ticker\":{\"id\":\"9d33aaab-5790-49ea-955b-b2d511df8ffb\",\"type\":\"BasicTicker\"}},\"id\":\"f06fbde3-fe54-4a89-92d3-2c9d807e1c9a\",\"type\":\"LinearAxis\"},{\"attributes\":{\"fill_alpha\":{\"value\":0.5},\"fill_color\":{\"value\":\"lightgrey\"},\"level\":\"overlay\",\"line_alpha\":{\"value\":1.0},\"line_color\":{\"value\":\"black\"},\"line_dash\":[4,4],\"line_width\":{\"value\":2},\"plot\":null,\"xs_units\":\"screen\",\"ys_units\":\"screen\"},\"id\":\"063ec9ac-c09d-4a42-b5d5-8909058c3dfc\",\"type\":\"PolyAnnotation\"},{\"attributes\":{\"overlay\":{\"id\":\"a4488301-84f9-4462-920d-7393f22e9fad\",\"type\":\"BoxAnnotation\"},\"plot\":{\"id\":\"015dd81a-cde0-43f6-8c14-61453cd9843f\",\"subtype\":\"Figure\",\"type\":\"Plot\"}},\"id\":\"63cb3862-53ba-46fe-9be9-ad837e938314\",\"type\":\"BoxZoomTool\"}],\"root_ids\":[\"015dd81a-cde0-43f6-8c14-61453cd9843f\"]},\"title\":\"Bokeh Application\",\"version\":\"0.12.1\"}};\n",
       "            var render_items = [{\"docid\":\"cae6fa9d-f7a3-4bd0-a23c-d3e854d53a36\",\"elementid\":\"42405293-7d9f-4054-83dd-5cf30b96d7fc\",\"modelid\":\"015dd81a-cde0-43f6-8c14-61453cd9843f\",\"notebook_comms_target\":\"ce07bddd-998b-4813-8c47-bc5d327a9c6f\"}];\n",
       "            \n",
       "            Bokeh.embed.embed_items(docs_json, render_items);\n",
       "        });\n",
       "      },\n",
       "      function(Bokeh) {\n",
       "      }\n",
       "    ];\n",
       "  \n",
       "    function run_inline_js() {\n",
       "      for (var i = 0; i < inline_js.length; i++) {\n",
       "        inline_js[i](window.Bokeh);\n",
       "      }\n",
       "    }\n",
       "  \n",
       "    if (window._bokeh_is_loading === 0) {\n",
       "      console.log(\"Bokeh: BokehJS loaded, going straight to plotting\");\n",
       "      run_inline_js();\n",
       "    } else {\n",
       "      load_libs(js_urls, function() {\n",
       "        console.log(\"Bokeh: BokehJS plotting callback run at\", now());\n",
       "        run_inline_js();\n",
       "      });\n",
       "    }\n",
       "  }(this));\n",
       "</script>"
      ]
     },
     "metadata": {},
     "output_type": "display_data"
    },
    {
     "data": {
      "text/html": [
       "<p><code>&lt;Bokeh Notebook handle for <strong>In[25]</strong>&gt;</code></p>"
      ],
      "text/plain": [
       "<bokeh.io._CommsHandle at 0x10f44ac10>"
      ]
     },
     "execution_count": 25,
     "metadata": {},
     "output_type": "execute_result"
    }
   ],
   "source": [
    "# Plotining using bokeh\n",
    "#TOOLS = 'hover,box_zoom,box_select,crosshair,resize,reset,KNeighborsRegressor_select,pan,save,poly_select,tap,wheel_zoom,undo'\n",
    "TOOLS = 'box_zoom,box_select,crosshair,resize,reset,lasso_select,pan,save,poly_select,tap,wheel_zoom,undo'\n",
    "p = figure(plot_width=500, plot_height=500, title=\"Residual plot on the training data\", tools=TOOLS)\n",
    "p.scatter(predicted, (predicted - Y),x=\"jjj\", marker=\"o\", color=\"#80B1D3\", line_width=3)\n",
    "p.title.align = \"center\"\n",
    "p.xaxis.axis_label = \"Predicted\"\n",
    "p.xaxis.axis_label_text_color = \"#aa6666\"\n",
    "#p.xaxis.axis_label_standoff = 30\n",
    "p.xaxis.major_tick_line_color = \"firebrick\"\n",
    "p.xaxis.major_tick_line_width = 3\n",
    "p.xaxis.minor_tick_line_color = \"orange\"\n",
    "p.yaxis.axis_label = \"Residuals\"\n",
    "p.yaxis.axis_label_text_font_style = \"italic\"\n",
    "p.yaxis.axis_label_text_color = \"#aa6666\"\n",
    "p.background_fill_color = \"beige\"\n",
    "p.background_fill_alpha = 0.5\n",
    "#p.line([2,38], [0, 0], line_dash=\"4 4\", line_width=2, color='red')\n",
    "show(p)"
   ]
  },
  {
   "cell_type": "markdown",
   "metadata": {},
   "source": [
    "## Pipeline"
   ]
  },
  {
   "cell_type": "markdown",
   "metadata": {},
   "source": [
    "The best to deliver the model by pipeline the operation then at deployment can be done in one model."
   ]
  },
  {
   "cell_type": "markdown",
   "metadata": {
    "collapsed": true
   },
   "source": [
    "  I used two ways to check the pipeline so any one can be fine"
   ]
  },
  {
   "cell_type": "code",
   "execution_count": 26,
   "metadata": {
    "collapsed": false
   },
   "outputs": [
    {
     "name": "stdout",
     "output_type": "stream",
     "text": [
      "0.887507691833\n",
      "Scoring according to mean_squared_error\n",
      "[-16.76282012  -6.94830793 -14.67760671 -25.74519817 -11.96945313\n",
      " -15.27239063 -27.9436875  -23.24384375 -29.88301562  -8.89465625]\n",
      "\n",
      " Mean      Standard deviation\n",
      "-18.13      7.67\n",
      "[ True  True  True  True  True  True  True  True  True  True  True  True\n",
      "  True]\n",
      "R-squared =  0.887507691833\n"
     ]
    }
   ],
   "source": [
    "# Use Pipeline\n",
    "# ANOVA \n",
    "from sklearn.pipeline import Pipeline\n",
    "from sklearn.feature_selection import SelectKBest, f_regression\n",
    "anova_filter = SelectKBest(f_regression, k=13)\n",
    "LR = KNeighborsRegressor(n_neighbors = 4, algorithm = 'kd_tree')\n",
    "anova_LinReg = Pipeline([('scaler_Input',scaler), ('anova', anova_filter), ('LinReg', LR)])\n",
    "# You can set the parameters using the names issued\n",
    "# For instance, fit using a k of 10 in the SelectKBest\n",
    "anova_LinReg.set_params(anova__k=13).fit(new_data, Y)\n",
    "prediction = anova_LinReg.predict(new_data)\n",
    "print anova_LinReg.score(new_data, Y)                        \n",
    "# getting the selected features chosen by anova_filter\n",
    "results = cross_validation.cross_val_score(anova_LinReg, new_data, Y, cv=kfold, scoring=scoring)\n",
    "print 'Scoring according to mean_squared_error'\n",
    "print results\n",
    "print '\\n Mean      Standard deviation'\n",
    "print(\"%.2f      %.2f\" % (results.mean(), results.std()))\n",
    "print anova_LinReg.named_steps['anova'].get_support()\n",
    "r_squared = r2_score(Y, prediction, multioutput='variance_weighted')\n",
    "print 'R-squared = ',r_squared"
   ]
  },
  {
   "cell_type": "code",
   "execution_count": 27,
   "metadata": {
    "collapsed": false
   },
   "outputs": [
    {
     "name": "stdout",
     "output_type": "stream",
     "text": [
      "R-squared =  0.887507691833\n"
     ]
    }
   ],
   "source": [
    "# Using make_pipeline\n",
    "from sklearn.pipeline import make_pipeline\n",
    "\n",
    "# ANOVA SVM-C\n",
    "# 1) anova filter, take 3 best ranked features\n",
    "anova_filter = SelectKBest(f_regression, k=13)\n",
    "anova_KNeighborsRegressor = make_pipeline(scaler, anova_filter, LR)\n",
    "anova_KNeighborsRegressor.fit(new_data, Y)\n",
    "prediction = anova_KNeighborsRegressor.predict(new_data)\n",
    "r_squared = r2_score(Y, prediction, multioutput='variance_weighted')\n",
    "print 'R-squared = ',r_squared"
   ]
  },
  {
   "cell_type": "markdown",
   "metadata": {},
   "source": [
    "### Save the Pipeline model for developement"
   ]
  },
  {
   "cell_type": "code",
   "execution_count": 28,
   "metadata": {
    "collapsed": false
   },
   "outputs": [
    {
     "data": {
      "text/plain": [
       "['anova_KNeighborsRegressor.pkl',\n",
       " 'anova_KNeighborsRegressor.pkl_01.npy',\n",
       " 'anova_KNeighborsRegressor.pkl_02.npy',\n",
       " 'anova_KNeighborsRegressor.pkl_03.npy',\n",
       " 'anova_KNeighborsRegressor.pkl_04.npy',\n",
       " 'anova_KNeighborsRegressor.pkl_05.npy',\n",
       " 'anova_KNeighborsRegressor.pkl_06.npy',\n",
       " 'anova_KNeighborsRegressor.pkl_07.npy',\n",
       " 'anova_KNeighborsRegressor.pkl_08.npy',\n",
       " 'anova_KNeighborsRegressor.pkl_09.npy',\n",
       " 'anova_KNeighborsRegressor.pkl_10.npy',\n",
       " 'anova_KNeighborsRegressor.pkl_11.npy',\n",
       " 'anova_KNeighborsRegressor.pkl_12.npy',\n",
       " 'anova_KNeighborsRegressor.pkl_13.npy']"
      ]
     },
     "execution_count": 28,
     "metadata": {},
     "output_type": "execute_result"
    }
   ],
   "source": [
    "# save the model scaler to the desk\n",
    "from sklearn.externals import joblib\n",
    "joblib.dump(anova_KNeighborsRegressor, 'anova_KNeighborsRegressor.pkl') "
   ]
  },
  {
   "cell_type": "code",
   "execution_count": 29,
   "metadata": {
    "collapsed": false
   },
   "outputs": [
    {
     "name": "stdout",
     "output_type": "stream",
     "text": [
      " =================================================================>>>>> done\n",
      "R-squared =  0.887507691833\n"
     ]
    }
   ],
   "source": [
    "# Test the model if it is work\n",
    "anova_KNeighborsRegressorTest = joblib.load('anova_KNeighborsRegressor.pkl')\n",
    "NewPred = anova_KNeighborsRegressorTest.predict(new_data)\n",
    "print \" =================================================================>>>>> done\"\n",
    "r_squared = r2_score(Y, NewPred, multioutput='variance_weighted')\n",
    "print 'R-squared = ',r_squared"
   ]
  },
  {
   "cell_type": "code",
   "execution_count": 30,
   "metadata": {
    "collapsed": false
   },
   "outputs": [
    {
     "name": "stdout",
     "output_type": "stream",
     "text": [
      "Point of training data before normalization\n",
      "[   1.23247    0.         8.14       0.         0.538      6.142     91.7\n",
      "    3.9769     4.       307.        21.       396.9       18.72   ]\n",
      "\n",
      "The read target of the data =  15.2\n",
      "\n",
      "The Predicted target of the data =  [ 15.7]\n"
     ]
    }
   ],
   "source": [
    "# test on single data point, randomly choose point number 55\n",
    "print 'Point of training data before normalization\\n',new_data[55]\n",
    "print '\\nThe read target of the data = ', Y[55]\n",
    "NewPred = anova_KNeighborsRegressorTest.predict([new_data[55]])\n",
    "print '\\nThe Predicted target of the data = ', NewPred"
   ]
  },
  {
   "cell_type": "markdown",
   "metadata": {},
   "source": [
    "## Conclusion "
   ]
  }
 ],
 "metadata": {
  "kernelspec": {
   "display_name": "Python 2",
   "language": "python",
   "name": "python2"
  },
  "language_info": {
   "codemirror_mode": {
    "name": "ipython",
    "version": 2
   },
   "file_extension": ".py",
   "mimetype": "text/x-python",
   "name": "python",
   "nbconvert_exporter": "python",
   "pygments_lexer": "ipython2",
   "version": "2.7.11"
  }
 },
 "nbformat": 4,
 "nbformat_minor": 0
}
