{
 "cells": [
  {
   "cell_type": "markdown",
   "metadata": {},
   "source": [
    "Salem Ameen, PhD student at Salford University\n",
    "\n",
    "### Boston House price\n",
    "\n",
    "Bayesian Ridge Regression"
   ]
  },
  {
   "cell_type": "markdown",
   "metadata": {},
   "source": [
    "# Import the Libraries"
   ]
  },
  {
   "cell_type": "code",
   "execution_count": 1,
   "metadata": {
    "collapsed": false
   },
   "outputs": [
    {
     "data": {
      "text/html": [
       "\n",
       "    <div class=\"bk-root\">\n",
       "        <a href=\"http://bokeh.pydata.org\" target=\"_blank\" class=\"bk-logo bk-logo-small bk-logo-notebook\"></a>\n",
       "        <span id=\"b3b87d40-ae16-4abf-9135-e60dcde0d15d\">Loading BokehJS ...</span>\n",
       "    </div>"
      ]
     },
     "metadata": {},
     "output_type": "display_data"
    },
    {
     "data": {
      "application/javascript": [
       "\n",
       "(function(global) {\n",
       "  function now() {\n",
       "    return new Date();\n",
       "  }\n",
       "\n",
       "  if (typeof (window._bokeh_onload_callbacks) === \"undefined\") {\n",
       "    window._bokeh_onload_callbacks = [];\n",
       "  }\n",
       "\n",
       "  function run_callbacks() {\n",
       "    window._bokeh_onload_callbacks.forEach(function(callback) { callback() });\n",
       "    delete window._bokeh_onload_callbacks\n",
       "    console.info(\"Bokeh: all callbacks have finished\");\n",
       "  }\n",
       "\n",
       "  function load_libs(js_urls, callback) {\n",
       "    window._bokeh_onload_callbacks.push(callback);\n",
       "    if (window._bokeh_is_loading > 0) {\n",
       "      console.log(\"Bokeh: BokehJS is being loaded, scheduling callback at\", now());\n",
       "      return null;\n",
       "    }\n",
       "    if (js_urls == null || js_urls.length === 0) {\n",
       "      run_callbacks();\n",
       "      return null;\n",
       "    }\n",
       "    console.log(\"Bokeh: BokehJS not loaded, scheduling load and callback at\", now());\n",
       "    window._bokeh_is_loading = js_urls.length;\n",
       "    for (var i = 0; i < js_urls.length; i++) {\n",
       "      var url = js_urls[i];\n",
       "      var s = document.createElement('script');\n",
       "      s.src = url;\n",
       "      s.async = false;\n",
       "      s.onreadystatechange = s.onload = function() {\n",
       "        window._bokeh_is_loading--;\n",
       "        if (window._bokeh_is_loading === 0) {\n",
       "          console.log(\"Bokeh: all BokehJS libraries loaded\");\n",
       "          run_callbacks()\n",
       "        }\n",
       "      };\n",
       "      s.onerror = function() {\n",
       "        console.warn(\"failed to load library \" + url);\n",
       "      };\n",
       "      console.log(\"Bokeh: injecting script tag for BokehJS library: \", url);\n",
       "      document.getElementsByTagName(\"head\")[0].appendChild(s);\n",
       "    }\n",
       "  };\n",
       "\n",
       "  var js_urls = ['https://cdn.pydata.org/bokeh/release/bokeh-0.12.0.min.js', 'https://cdn.pydata.org/bokeh/release/bokeh-widgets-0.12.0.min.js', 'https://cdn.pydata.org/bokeh/release/bokeh-compiler-0.12.0.min.js'];\n",
       "\n",
       "  var inline_js = [\n",
       "    function(Bokeh) {\n",
       "      Bokeh.set_log_level(\"info\");\n",
       "    },\n",
       "    \n",
       "    function(Bokeh) {\n",
       "      Bokeh.$(\"#b3b87d40-ae16-4abf-9135-e60dcde0d15d\").text(\"BokehJS successfully loaded\");\n",
       "    },\n",
       "    function(Bokeh) {\n",
       "      console.log(\"Bokeh: injecting CSS: https://cdn.pydata.org/bokeh/release/bokeh-0.12.0.min.css\");\n",
       "      Bokeh.embed.inject_css(\"https://cdn.pydata.org/bokeh/release/bokeh-0.12.0.min.css\");\n",
       "      console.log(\"Bokeh: injecting CSS: https://cdn.pydata.org/bokeh/release/bokeh-widgets-0.12.0.min.css\");\n",
       "      Bokeh.embed.inject_css(\"https://cdn.pydata.org/bokeh/release/bokeh-widgets-0.12.0.min.css\");\n",
       "    }\n",
       "  ];\n",
       "\n",
       "  function run_inline_js() {\n",
       "    for (var i = 0; i < inline_js.length; i++) {\n",
       "      inline_js[i](window.Bokeh);\n",
       "    }\n",
       "  }\n",
       "\n",
       "  if (window._bokeh_is_loading === 0) {\n",
       "    console.log(\"Bokeh: BokehJS loaded, going straight to plotting\");\n",
       "    run_inline_js();\n",
       "  } else {\n",
       "    load_libs(js_urls, function() {\n",
       "      console.log(\"Bokeh: BokehJS plotting callback run at\", now());\n",
       "      run_inline_js();\n",
       "    });\n",
       "  }\n",
       "}(this));"
      ]
     },
     "metadata": {},
     "output_type": "display_data"
    }
   ],
   "source": [
    "import numpy as np\n",
    "import pandas\n",
    "from numpy import *\n",
    "import time\n",
    "import sys\n",
    "import pandas as pd\n",
    "import matplotlib.pyplot as plt\n",
    "from sklearn import feature_selection\n",
    "from sklearn.linear_model import BayesianRidge\n",
    "from sklearn.learning_curve import learning_curve, validation_curve\n",
    "from sklearn.cross_validation import cross_val_predict\n",
    "from sklearn import metrics, grid_search, cross_validation\n",
    "from IPython.display import set_matplotlib_formats\n",
    "from bokeh.plotting import figure, show, output_notebook\n",
    "from sklearn.grid_search import GridSearchCV, RandomizedSearchCV\n",
    "from sklearn.metrics import r2_score\n",
    "from bokeh.layouts import gridplot\n",
    "output_notebook()\n",
    "set_matplotlib_formats('png', 'pdf')\n",
    "%matplotlib inline\n",
    "plt.rcParams['figure.figsize'] = (6, 6)"
   ]
  },
  {
   "cell_type": "markdown",
   "metadata": {},
   "source": [
    "# Load data"
   ]
  },
  {
   "cell_type": "markdown",
   "metadata": {},
   "source": [
    "In the previous file we have not change the data as there is no missing value or add any new parameters so it can be downloaded from the web directly. "
   ]
  },
  {
   "cell_type": "code",
   "execution_count": 2,
   "metadata": {
    "collapsed": false
   },
   "outputs": [],
   "source": [
    "url = 'https://archive.ics.uci.edu/ml/machine-learning-databases/housing/housing.data'\n",
    "feature_cols = ['CRIM', 'ZN', 'INDUS', 'CHAS', 'NOX', 'RM', 'AGE', 'DIS', 'RAD', 'TAX', 'PTRATIO', 'B', 'LSTAT', 'MEDV']\n",
    "data = pd.read_csv(url, sep='\\s+', names = feature_cols)"
   ]
  },
  {
   "cell_type": "code",
   "execution_count": 3,
   "metadata": {
    "collapsed": false
   },
   "outputs": [
    {
     "name": "stdout",
     "output_type": "stream",
     "text": [
      "Number of examples 506\n"
     ]
    }
   ],
   "source": [
    "from sklearn import preprocessing\n",
    "dataset = data.values\n",
    "X = dataset[:,0:13].astype(float)\n",
    "Y = dataset[:,13]\n",
    "print 'Number of examples',len(X)"
   ]
  },
  {
   "cell_type": "code",
   "execution_count": 4,
   "metadata": {
    "collapsed": false
   },
   "outputs": [
    {
     "name": "stdout",
     "output_type": "stream",
     "text": [
      "Number of training examples 404\n",
      "Number of validation examples 102\n"
     ]
    }
   ],
   "source": [
    "# Make developement dataset for genrilization and final testing\n",
    "from sklearn.cross_validation import train_test_split\n",
    "# Extracting 20% testing data\n",
    "X_train, X_test, y_train, y_test = train_test_split(\n",
    "    X, Y, test_size=0.20, random_state=0)\n",
    "X = X_train\n",
    "Y = y_train\n",
    "new_data      = X_train\n",
    "new_test_data = X_test\n",
    "print 'Number of training examples',len(X_train)\n",
    "print 'Number of validation examples',len(X_test)"
   ]
  },
  {
   "cell_type": "markdown",
   "metadata": {},
   "source": [
    "Number of training data is very small so we need to use cross validation instead of spareate another validation data."
   ]
  },
  {
   "cell_type": "markdown",
   "metadata": {},
   "source": [
    "From the previous visulization the data has no missing value but has many outlier and some sparisty"
   ]
  },
  {
   "cell_type": "markdown",
   "metadata": {},
   "source": [
    "# Ranking of the feature's importance to the target"
   ]
  },
  {
   "cell_type": "code",
   "execution_count": 5,
   "metadata": {
    "collapsed": false
   },
   "outputs": [
    {
     "name": "stdout",
     "output_type": "stream",
     "text": [
      "CRIM \t0.150761718331\n",
      "ZN \t0.129898008797\n",
      "INDUS \t0.233980197814\n",
      "CHAS \t0.0305961839546\n",
      "NOX \t0.182588694672\n",
      "RM \t0.483523292779\n",
      "AGE \t0.14207444475\n",
      "DIS \t0.0624091728686\n",
      "RAD \t0.145618931813\n",
      "TAX \t0.21951525688\n",
      "PTRATIO \t0.257838939031\n",
      "B \t0.111169215051\n",
      "LSTAT \t0.544144800128\n",
      "MEDV \t1.0\n"
     ]
    }
   ],
   "source": [
    "# Using just correlation coefficient even in prevoius file we show them using data frame\n",
    "for col in feature_cols:\n",
    "    lm = BayesianRidge(fit_intercept=True)\n",
    "    lm.fit(data[[col]], data['MEDV'])\n",
    "    print col,'\\t', lm.score(data[[col]], data['MEDV'])"
   ]
  },
  {
   "cell_type": "code",
   "execution_count": 6,
   "metadata": {
    "collapsed": false
   },
   "outputs": [
    {
     "name": "stdout",
     "output_type": "stream",
     "text": [
      "Feature Name      Score         Pvalue\n",
      "CRIM \t\t89.4861147577 \t1.17398708219e-19\n",
      "ZN \t\t75.257642299 \t5.71358415308e-17\n",
      "INDUS \t\t153.954883136 \t4.90025998175e-31\n",
      "CHAS \t\t15.9715124204 \t7.39062317052e-05\n",
      "NOX \t\t112.59148028 \t7.06504158625e-24\n",
      "RM \t\t471.846739876 \t2.48722887101e-74\n",
      "AGE \t\t83.4774592192 \t1.56998220919e-18\n",
      "DIS \t\t33.5795703259 \t1.20661172734e-08\n",
      "RAD \t\t85.9142776698 \t5.46593256965e-19\n",
      "TAX \t\t141.761356577 \t5.63773362769e-29\n",
      "PTRATIO \t\t175.105542876 \t1.60950947847e-34\n",
      "B \t\t63.0542291125 \t1.31811273408e-14\n",
      "LSTAT \t\t601.61787111 \t5.08110339439e-88\n",
      "MEDV \t\t4.53962842439e+17 \t0.0\n"
     ]
    }
   ],
   "source": [
    "# Randing the important features to the target\n",
    "model = feature_selection.SelectKBest(score_func=feature_selection.f_regression,k=4)\n",
    "results = model.fit(data[feature_cols], data['MEDV'])\n",
    "k=0\n",
    "print 'Feature Name      Score         Pvalue'\n",
    "for feat in feature_cols:\n",
    "    print feat,'\\t\\t',results.scores_[k],'\\t',results.pvalues_[k]\n",
    "    k=k+1\n"
   ]
  },
  {
   "cell_type": "markdown",
   "metadata": {},
   "source": [
    "# Set the parameters for cross validation"
   ]
  },
  {
   "cell_type": "code",
   "execution_count": 7,
   "metadata": {
    "collapsed": true
   },
   "outputs": [],
   "source": [
    "num_folds = 10\n",
    "num_instances = len(X)\n",
    "seed = 7\n",
    "kfold = cross_validation.KFold(n=num_instances, n_folds=num_folds, random_state=seed)"
   ]
  },
  {
   "cell_type": "markdown",
   "metadata": {},
   "source": [
    " # Set the parameters for bias-variance dilemma"
   ]
  },
  {
   "cell_type": "code",
   "execution_count": 8,
   "metadata": {
    "collapsed": false
   },
   "outputs": [],
   "source": [
    "def plot_learning_curve(estimator, title, X, y, ylim=None, cv=None,\n",
    "                        n_jobs=1, train_sizes=np.linspace(.1, 1.0, 5)):\n",
    "    plt.figure()\n",
    "    plt.title(title)\n",
    "    if ylim is not None:\n",
    "        plt.ylim(*ylim)\n",
    "    plt.xlabel(\"Training examples\")\n",
    "    plt.ylabel(\"Score\")\n",
    "    train_sizes, train_scores, test_scores = learning_curve(\n",
    "        estimator, X, y, cv=cv, n_jobs=n_jobs, train_sizes=train_sizes)\n",
    "    train_scores_mean = np.mean(train_scores, axis=1)\n",
    "    train_scores_std = np.std(train_scores, axis=1)\n",
    "    test_scores_mean = np.mean(test_scores, axis=1)\n",
    "    test_scores_std = np.std(test_scores, axis=1)\n",
    "    plt.grid()\n",
    "\n",
    "    plt.fill_between(train_sizes, train_scores_mean - train_scores_std,\n",
    "                     train_scores_mean + train_scores_std, alpha=0.1,\n",
    "                     color=\"r\")\n",
    "    plt.fill_between(train_sizes, test_scores_mean - test_scores_std,\n",
    "                     test_scores_mean + test_scores_std, alpha=0.1, color=\"g\")\n",
    "    plt.plot(train_sizes, train_scores_mean, 'o-', color=\"r\",\n",
    "             label=\"Training score\")\n",
    "    plt.plot(train_sizes, test_scores_mean, 'o-', color=\"g\",\n",
    "             label=\"Cross-validation score\")\n",
    "\n",
    "    plt.legend(loc=\"best\")\n",
    "    return plt"
   ]
  },
  {
   "cell_type": "markdown",
   "metadata": {},
   "source": [
    "# Preprocessing the data and save both the model and preprocessed data"
   ]
  },
  {
   "cell_type": "code",
   "execution_count": 9,
   "metadata": {
    "collapsed": true
   },
   "outputs": [],
   "source": [
    "# According to the nature of the data spasity and there is outliter RobustScaler class is recomandit \n",
    "# but when I tried both of them the result seems is same\n",
    "from sklearn.preprocessing import StandardScaler\n",
    "scaler = preprocessing.StandardScaler().fit(X_train)"
   ]
  },
  {
   "cell_type": "code",
   "execution_count": 10,
   "metadata": {
    "collapsed": true
   },
   "outputs": [],
   "source": [
    "X_train = scaler.transform(X_train)\n",
    "X_test = scaler.transform(X_test) # use same transform for testing data\n",
    "X = X_train"
   ]
  },
  {
   "cell_type": "code",
   "execution_count": 11,
   "metadata": {
    "collapsed": true
   },
   "outputs": [],
   "source": [
    "# save transformed data\n",
    "np.save('./data/X_train', X_train)\n",
    "np.save('./data/y_train', y_train)\n",
    "np.save('./data/X_test', X_test)\n",
    "np.save('./data/y_test', y_test)"
   ]
  },
  {
   "cell_type": "code",
   "execution_count": 12,
   "metadata": {
    "collapsed": false
   },
   "outputs": [
    {
     "data": {
      "text/plain": [
       "['scaler.pkl', 'scaler.pkl_01.npy', 'scaler.pkl_02.npy', 'scaler.pkl_03.npy']"
      ]
     },
     "execution_count": 12,
     "metadata": {},
     "output_type": "execute_result"
    }
   ],
   "source": [
    "# save the model scaler to the desk\n",
    "from sklearn.externals import joblib\n",
    "joblib.dump(scaler, 'scaler.pkl') "
   ]
  },
  {
   "cell_type": "code",
   "execution_count": 13,
   "metadata": {
    "collapsed": false
   },
   "outputs": [
    {
     "name": "stdout",
     "output_type": "stream",
     "text": [
      " =================================================================>>>>> done\n",
      "[[-0.40835869 -0.49960763 -1.12872913 ..., -0.71272928  0.18547577\n",
      "  -0.73610347]\n",
      " [ 0.71925111 -0.49960763  0.9988844  ...,  0.79267419  0.0831649\n",
      "  -0.4356916 ]\n",
      " [-0.40257488 -0.49960763  0.39610829 ..., -0.94082071  0.39472748\n",
      "  -0.30263246]\n",
      " ..., \n",
      " [-0.3982601   0.55937182 -0.85812418 ...,  0.56458276  0.41019833\n",
      "   0.06087961]\n",
      " [-0.39934279 -0.49960763 -0.07637654 ...,  0.0627816   0.30517724\n",
      "  -0.45626776]\n",
      " [-0.40088071 -0.49960763 -0.36702631 ...,  1.1120022   0.41166637\n",
      "  -0.05983383]]\n"
     ]
    }
   ],
   "source": [
    "# Test the model if it is work\n",
    "scalerTest = joblib.load('scaler.pkl')\n",
    "new_data_scaled = scalerTest.transform(new_test_data)\n",
    "print \" =================================================================>>>>> done\"\n",
    "print new_data_scaled"
   ]
  },
  {
   "cell_type": "markdown",
   "metadata": {},
   "source": [
    "# 1. BayesianRidge Regression"
   ]
  },
  {
   "cell_type": "markdown",
   "metadata": {},
   "source": [
    "The Least Absolute Shrinkage and Selection Operator (or BayesianRidge for short) is a modification of linear regression, like BayesianRidge regression, where the loss function is modified to minimize the complexity of the model measured as the sum absolute value of the coefficient values (also called the l1-norm)."
   ]
  },
  {
   "cell_type": "markdown",
   "metadata": {},
   "source": [
    "## Validation curve"
   ]
  },
  {
   "cell_type": "markdown",
   "metadata": {},
   "source": [
    "choosing multiple hyperparameters of an estimator "
   ]
  },
  {
   "cell_type": "code",
   "execution_count": 14,
   "metadata": {
    "collapsed": false
   },
   "outputs": [
    {
     "data": {
      "text/plain": [
       "['normalize',\n",
       " 'n_iter',\n",
       " 'verbose',\n",
       " 'lambda_1',\n",
       " 'lambda_2',\n",
       " 'fit_intercept',\n",
       " 'alpha_2',\n",
       " 'tol',\n",
       " 'alpha_1',\n",
       " 'copy_X',\n",
       " 'compute_score']"
      ]
     },
     "execution_count": 14,
     "metadata": {},
     "output_type": "execute_result"
    }
   ],
   "source": [
    "from sklearn.linear_model import BayesianRidge\n",
    "estimator = BayesianRidge()\n",
    "estimator.get_params().keys()"
   ]
  },
  {
   "cell_type": "code",
   "execution_count": 15,
   "metadata": {
    "collapsed": false
   },
   "outputs": [
    {
     "data": {
      "image/png": "[encoded data removed]",
      "text/plain": [
       "<matplotlib.figure.Figure at 0x106006490>"
      ]
     },
     "metadata": {},
     "output_type": "display_data"
    }
   ],
   "source": [
    "# For parametr alpha\n",
    "#param_range = np.logspace(-10.0, 10.0)\n",
    "#param_range = np.logspace(-7, 7, 3)\n",
    "param_range = np.linspace(0,1000,100)\n",
    "\n",
    "train_scores, test_scores = validation_curve(\n",
    "    BayesianRidge(), X, Y, param_name=\"alpha_1\", param_range=param_range,\n",
    "    cv=num_folds,  n_jobs=-1)\n",
    "train_scores_mean = np.mean(train_scores, axis=1)\n",
    "train_scores_std = np.std(train_scores, axis=1)\n",
    "test_scores_mean = np.mean(test_scores, axis=1)\n",
    "test_scores_std = np.std(test_scores, axis=1)\n",
    "\n",
    "plt.title(\"Validation Curve with BayesianRidge\")\n",
    "plt.xlabel(\"lambda_2\")\n",
    "plt.ylabel(\"Score\")\n",
    "plt.ylim(0.4, 1.0)\n",
    "plt.plot(param_range, train_scores_mean, label=\"Training score\", color=\"r\")\n",
    "plt.fill_between(param_range, train_scores_mean - train_scores_std,\n",
    "                 train_scores_mean + train_scores_std, alpha=0.2, color=\"r\")\n",
    "plt.plot(param_range, test_scores_mean, label=\"Cross-validation score\",\n",
    "             color=\"g\")\n",
    "plt.fill_between(param_range, test_scores_mean - test_scores_std,\n",
    "                 test_scores_mean + test_scores_std, alpha=0.2, color=\"g\")\n",
    "plt.legend(loc=\"best\")\n",
    "plt.show()"
   ]
  },
  {
   "cell_type": "markdown",
   "metadata": {},
   "source": [
    "It turns out changing alpha_1, alpha_2, lambda_1 and lambda_2 does not change the performance so in next step the search will find the best cominations between them."
   ]
  },
  {
   "cell_type": "markdown",
   "metadata": {},
   "source": [
    "## Grid search and/or Random search to determine best compination of parameters"
   ]
  },
  {
   "cell_type": "code",
   "execution_count": 16,
   "metadata": {
    "collapsed": false
   },
   "outputs": [
    {
     "name": "stdout",
     "output_type": "stream",
     "text": [
      "Hyperparameter optimization using GridSearchCV...\n",
      "Parameters with rank: 1\n",
      "Mean validation score: 0.7322 (std: 0.1057)\n",
      "Parameters: {'alpha_2': 1.0, 'lambda_1': 1.0, 'lambda_2': -1.0, 'alpha_1': -1.0}\n",
      "\n",
      "Parameters with rank: 2\n",
      "Mean validation score: 0.7322 (std: 0.1057)\n",
      "Parameters: {'alpha_2': 1e-06, 'lambda_1': 1.0, 'lambda_2': -1.0, 'alpha_1': -1.0}\n",
      "\n",
      "Parameters with rank: 3\n",
      "Mean validation score: 0.7322 (std: 0.1057)\n",
      "Parameters: {'alpha_2': 0, 'lambda_1': 1.0, 'lambda_2': -1.0, 'alpha_1': -1.0}\n",
      "\n",
      "Parameters with rank: 4\n",
      "Mean validation score: 0.7322 (std: 0.1057)\n",
      "Parameters: {'alpha_2': -1.0, 'lambda_1': 1.0, 'lambda_2': -1.0, 'alpha_1': -1.0}\n",
      "\n",
      "Parameters with rank: 5\n",
      "Mean validation score: 0.7322 (std: 0.1057)\n",
      "Parameters: {'alpha_2': 1.0, 'lambda_1': 1.0, 'lambda_2': -1.0, 'alpha_1': 0}\n",
      "\n",
      "+++++++++++++++++++++++++++++++++++++++++++++++\n",
      "Hyperparameter optimization using RandomizedSearchCV\n",
      "Parameters with rank: 1\n",
      "Mean validation score: 0.7321 (std: 0.1057)\n",
      "Parameters: {'alpha_2': 0.61616161616161624, 'lambda_1': 0.64646464646464652, 'lambda_2': 0.65656565656565657, 'alpha_1': 0.0}\n",
      "\n",
      "Parameters with rank: 2\n",
      "Mean validation score: 0.7321 (std: 0.1057)\n",
      "Parameters: {'alpha_2': 0.37373737373737376, 'lambda_1': 0.60606060606060608, 'lambda_2': 0.70707070707070718, 'alpha_1': 0.98989898989898994}\n",
      "\n",
      "Parameters with rank: 3\n",
      "Mean validation score: 0.7321 (std: 0.1057)\n",
      "Parameters: {'alpha_2': 0.68686868686868696, 'lambda_1': 0.37373737373737376, 'lambda_2': 0.15151515151515152, 'alpha_1': 0.66666666666666674}\n",
      "\n",
      "Parameters with rank: 4\n",
      "Mean validation score: 0.7321 (std: 0.1057)\n",
      "Parameters: {'alpha_2': 0.36363636363636365, 'lambda_1': 0.30303030303030304, 'lambda_2': 0.70707070707070718, 'alpha_1': 0.090909090909090912}\n",
      "\n",
      "Parameters with rank: 5\n",
      "Mean validation score: 0.7321 (std: 0.1057)\n",
      "Parameters: {'alpha_2': 0.040404040404040407, 'lambda_1': 0.17171717171717174, 'lambda_2': 0.21212121212121213, 'alpha_1': 0.68686868686868696}\n",
      "\n"
     ]
    }
   ],
   "source": [
    "# Utility function to report optimal parameters\n",
    "from operator import itemgetter\n",
    "def report(grid_scores, n_top=5):\n",
    "    params = None\n",
    "    top_scores = sorted(grid_scores, key=itemgetter(1), reverse=True)[:n_top]\n",
    "    for i, score in enumerate(top_scores):\n",
    "        print(\"Parameters with rank: {0}\".format(i + 1))\n",
    "        print(\"Mean validation score: {0:.4f} (std: {1:.4f})\".format(\n",
    "              score.mean_validation_score, np.std(score.cv_validation_scores)))\n",
    "        print(\"Parameters: {0}\".format(score.parameters))\n",
    "        print(\"\")\n",
    "        \n",
    "        if params == None:\n",
    "            params = score.parameters\n",
    "    \n",
    "    return params\n",
    "\n",
    "# The most common value for the max number of features to look at in each split is sqrt(# of features)\n",
    "sqrtfeat = np.sqrt(X.shape[1]) \n",
    "# Simple grid test (162 combinations)\n",
    "grid_test1 = { \"alpha_1\"      : [-1.0,0, 0.000001, 1.0],\n",
    "                \"alpha_2\"      : [-1.0,0,0.000001, 1.0],\n",
    "               \"lambda_1\"      : [-1.0,0,0.000001, 1.0],\n",
    "               \"lambda_2\"      : [-1.0,0,0.000001, 1.0]}\n",
    "\n",
    "# Large randomized test using max_depth to control tree size (5000 possible combinations)\n",
    "random_test1 = { \"alpha_1\"          : np.linspace(0,1.0,100),\n",
    "                  \"alpha_2\"      : np.linspace(0,1.0,100),\n",
    "                  \"lambda_1\"      : np.linspace(0,1.0,100),\n",
    "                  \"lambda_2\"      : np.linspace(0,1.0,100)}\n",
    "\n",
    "\n",
    "forest = BayesianRidge()\n",
    "\n",
    "print \"Hyperparameter optimization using GridSearchCV...\"\n",
    "grid_search = GridSearchCV(forest, grid_test1, n_jobs=-1, cv=num_folds)\n",
    "grid_search.fit(X, Y)\n",
    "best_params_from_grid_search = report(grid_search.grid_scores_)\n",
    "print '+++++++++++++++++++++++++++++++++++++++++++++++'\n",
    "print \"Hyperparameter optimization using RandomizedSearchCV\"\n",
    "grid_search = RandomizedSearchCV(forest, random_test1, n_jobs=-1, cv=num_folds, n_iter=5)\n",
    "grid_search.fit(X, Y)\n",
    "best_params_from_rand_search1 = report(grid_search.grid_scores_)"
   ]
  },
  {
   "cell_type": "markdown",
   "metadata": {},
   "source": [
    "Best parameters Parameters: Parameters: {'alpha_2': 1.0, 'lambda_1': 1.0, 'lambda_2': -1.0, 'alpha_1': -1.0}\n",
    "\n"
   ]
  },
  {
   "cell_type": "markdown",
   "metadata": {},
   "source": [
    "## Learning Curve "
   ]
  },
  {
   "cell_type": "markdown",
   "metadata": {},
   "source": [
    "In essence, what we’re doing it training the exact same model with increasingly large fractions of our total training data, and plotting the error of the training and test sets at each step."
   ]
  },
  {
   "cell_type": "code",
   "execution_count": 17,
   "metadata": {
    "collapsed": false
   },
   "outputs": [
    {
     "data": {
      "image/png": "[encoded data removed]",
      "text/plain": [
       "<matplotlib.figure.Figure at 0x106029a50>"
      ]
     },
     "metadata": {},
     "output_type": "display_data"
    }
   ],
   "source": [
    "from sklearn.linear_model import BayesianRidge\n",
    "model = BayesianRidge(lambda_1 = 1.0, lambda_2 = -1.0, alpha_1 = -1.0, alpha_2=-1.0)\n",
    "title = \"Learning Curves (BayesianRidge Refression)\"\n",
    "cv = cross_validation.ShuffleSplit(X.shape[0], n_iter=100,\n",
    "                                   test_size=0.2, random_state=0)\n",
    "plot_learning_curve(model, title, X, Y, ylim=(0.2, 1.01), cv=cv, n_jobs=-1)\n",
    "plt.show()"
   ]
  },
  {
   "cell_type": "code",
   "execution_count": 18,
   "metadata": {
    "collapsed": false
   },
   "outputs": [
    {
     "name": "stdout",
     "output_type": "stream",
     "text": [
      "train_sizes =  [ 50  80 110]\n",
      " training scores\n",
      " 50 training sizees\n",
      "0.835655765004 ± 0.0599861320046\n",
      " 80 training sizees\n",
      "0.805841356641 ± 0.0489882950709\n",
      " 110 training sizees\n",
      "0.797398398387 ± 0.0448219348244\n",
      "\n",
      " validation scores\n",
      " 50 validation scores\n",
      "0.651339866281 ± 0.123301377406\n",
      " 80 validation scores\n",
      "0.692347959422 ± 0.0856287936912\n",
      " 110 validation scores\n",
      "0.704634165998 ± 0.0800750713701\n"
     ]
    }
   ],
   "source": [
    "# More data from learning curve to show the process of building the model\n",
    "train_sizes, train_scores, valid_scores = learning_curve(\n",
    "     model, X, Y, train_sizes=[50, 80, 110], cv=cv, n_jobs=4)\n",
    "\n",
    "print 'train_sizes = ', train_sizes\n",
    "\n",
    "print ' training scores'\n",
    "print ' 50 training sizees'\n",
    "print train_scores[0].mean(),'±',train_scores[0].std()\n",
    "print ' 80 training sizees'\n",
    "print train_scores[1].mean(),'±',train_scores[1].std()\n",
    "print ' 110 training sizees'\n",
    "print train_scores[2].mean(),'±',train_scores[2].std()\n",
    "\n",
    "print '\\n validation scores'\n",
    "print ' 50 validation scores'\n",
    "print valid_scores[0].mean(),'±',valid_scores[0].std()\n",
    "print ' 80 validation scores'\n",
    "print valid_scores[1].mean(),'±',valid_scores[1].std()\n",
    "print ' 110 validation scores'\n",
    "print valid_scores[2].mean(),'±',valid_scores[2].std()"
   ]
  },
  {
   "cell_type": "markdown",
   "metadata": {},
   "source": [
    "## Cross validation"
   ]
  },
  {
   "cell_type": "code",
   "execution_count": 19,
   "metadata": {
    "collapsed": false
   },
   "outputs": [
    {
     "name": "stdout",
     "output_type": "stream",
     "text": [
      "Scoring according to mean_squared_error\n",
      "[-15.02112826 -15.9015106  -19.0266644  -23.79272046 -19.40382652\n",
      " -21.25123505 -38.53057604 -29.09841374 -20.56370922 -10.95821629]\n",
      "\n",
      " Mean      Standard deviation\n",
      "-21.35      7.41\n",
      "\n",
      " print intercept and coefficients\n",
      "22.6118811881\n",
      "[-0.91765647  0.95604497 -0.11636655  0.61928398 -1.63002377  2.636642\n",
      " -0.13360036 -2.6610043   1.65893604 -1.4748521  -2.23011228  0.71944892\n",
      " -3.48161172]\n",
      "\n",
      "(feature, coefficients)\n",
      "[('CRIM', -0.91765647220519408), ('ZN', 0.95604497272619238), ('INDUS', -0.11636655225225923), ('CHAS', 0.61928398320812761), ('NOX', -1.6300237711944678), ('RM', 2.6366419977312301), ('AGE', -0.13360036301618683), ('DIS', -2.6610042994221654), ('RAD', 1.6589360392760426), ('TAX', -1.4748520957790063), ('PTRATIO', -2.2301122834071414), ('B', 0.71944892271344862), ('LSTAT', -3.4816117191480043)]\n",
      "\n",
      " Predicted Target = 22.61 +(-0.92)X1 +(0.96)X2 +(-0.12)X3 +(0.62)X4+(-1.63)X4 +(2.64)X6 +(-0.13)X6 +(-2.66)X8+(1.66)X9+(-1.47)X10 +(-2.23)X11+(0.72)X12 +(-3.48)X13\n",
      "\n",
      " Predicted Target = 22.61 +(-0.92)CRIM +(0.96)ZN +(-0.12)INDUS +(0.62)CHAS+(-1.63)NOX +(2.64)RM +(-0.13)AGE +(-2.66)DIS+(1.66)RAD+(-1.47)TAX +(-2.23)PTRATIO +(0.72)B +(-3.48)LSTAT\n"
     ]
    }
   ],
   "source": [
    "scoring = 'mean_squared_error'\n",
    "results = cross_validation.cross_val_score(model, X, Y, cv=kfold, scoring=scoring)\n",
    "print 'Scoring according to mean_squared_error'\n",
    "print results\n",
    "print '\\n Mean      Standard deviation'\n",
    "print(\"%.2f      %.2f\" % (results.mean(), results.std()))\n",
    "## Fit the model\n",
    "model.fit(X,Y)\n",
    "print '\\n print intercept and coefficients'\n",
    "print model.intercept_\n",
    "print model.coef_\n",
    "# pair the feature names with the coefficients\n",
    "print '\\n(feature, coefficients)'\n",
    "print zip(feature_cols, model.coef_)\n",
    "# Linear qu. of the model\n",
    "\n",
    "print (\"\\n Predicted Target = %.2f +(%.2f)X1 +(%.2f)X2 +(%.2f)X3 +(%.2f)X4+(%.2f)X4 +(%.2f)X6 +(%.2f)X6 +(%.2f)X8+(%.2f)X9+(%.2f)X10 +(%.2f)X11+(%.2f)X12 +(%.2f)X13\"\n",
    "       % (model.intercept_, model.coef_[0], model.coef_[1],model.coef_[2],model.coef_[3],\n",
    "       model.coef_[4],model.coef_[5],model.coef_[6],model.coef_[7],\n",
    "      model.coef_[8], model.coef_[9],model.coef_[10],model.coef_[11],\n",
    "      model.coef_[12]))\n",
    "print (\"\\n Predicted Target = %.2f +(%.2f)%s +(%.2f)%s +(%.2f)%s +(%.2f)%s+(%.2f)%s +(%.2f)%s +(%.2f)%s +(%.2f)%s+(%.2f)%s+(%.2f)%s +(%.2f)%s +(%.2f)%s +(%.2f)%s\"\n",
    "       % (model.intercept_, model.coef_[0], feature_cols[0], model.coef_[1], feature_cols[1],\n",
    "          model.coef_[2], feature_cols[2],model.coef_[3], feature_cols[3],\n",
    "       model.coef_[4], feature_cols[4],model.coef_[5], feature_cols[5],model.coef_[6], feature_cols[6],\n",
    "          model.coef_[7], feature_cols[7],\n",
    "      model.coef_[8], feature_cols[8], model.coef_[9], feature_cols[9],\n",
    "          model.coef_[10], feature_cols[10],model.coef_[11], feature_cols[11],\n",
    "      model.coef_[12], feature_cols[12]))"
   ]
  },
  {
   "cell_type": "markdown",
   "metadata": {},
   "source": [
    "To be more precise these valrible is not the input feature as descripe on the dataset, those varibles in scaled virsion on the orginal onces. So, to be more correct I should assign to them another varibles but for easy to unserstand I kept them as they were."
   ]
  },
  {
   "cell_type": "markdown",
   "metadata": {},
   "source": [
    "## Coefficients Of Determination {Calculating R^2}\n",
    "\n",
    "R^2, Close to one is better"
   ]
  },
  {
   "cell_type": "code",
   "execution_count": 20,
   "metadata": {
    "collapsed": false
   },
   "outputs": [
    {
     "name": "stdout",
     "output_type": "stream",
     "text": [
      "R-squared =  0.749530604247\n"
     ]
    }
   ],
   "source": [
    "predicted = cross_val_predict(model, X, Y, cv=kfold)\n",
    "r_squared = r2_score(Y, predicted, multioutput='variance_weighted')\n",
    "print 'R-squared = ',r_squared"
   ]
  },
  {
   "cell_type": "markdown",
   "metadata": {},
   "source": [
    "## Residual Plot"
   ]
  },
  {
   "cell_type": "code",
   "execution_count": 21,
   "metadata": {
    "collapsed": false
   },
   "outputs": [
    {
     "data": {
      "image/png": "[encoded data removed]",
      "text/plain": [
       "<matplotlib.figure.Figure at 0x114ce6ad0>"
      ]
     },
     "metadata": {},
     "output_type": "display_data"
    }
   ],
   "source": [
    "predicted = cross_val_predict(model, X, Y, cv=kfold)\n",
    "fig, ax = plt.subplots()\n",
    "ax.scatter(Y, predicted)\n",
    "ax.plot([Y.min(), Y.max()], [Y.min(), Y.max()], 'k--', lw=4)\n",
    "ax.set_xlabel('Measured')\n",
    "ax.set_ylabel('Predicted')\n",
    "plt.show()"
   ]
  },
  {
   "cell_type": "code",
   "execution_count": 22,
   "metadata": {
    "collapsed": false
   },
   "outputs": [
    {
     "data": {
      "text/html": [
       "\n",
       "\n",
       "    <div class=\"bk-root\">\n",
       "        <div class=\"plotdiv\" id=\"cf6ae146-7f99-4b38-ade7-b6fa6834a3ec\"></div>\n",
       "    </div>\n",
       "<script type=\"text/javascript\">\n",
       "  \n",
       "  (function(global) {\n",
       "    function now() {\n",
       "      return new Date();\n",
       "    }\n",
       "  \n",
       "    if (typeof (window._bokeh_onload_callbacks) === \"undefined\") {\n",
       "      window._bokeh_onload_callbacks = [];\n",
       "    }\n",
       "  \n",
       "    function run_callbacks() {\n",
       "      window._bokeh_onload_callbacks.forEach(function(callback) { callback() });\n",
       "      delete window._bokeh_onload_callbacks\n",
       "      console.info(\"Bokeh: all callbacks have finished\");\n",
       "    }\n",
       "  \n",
       "    function load_libs(js_urls, callback) {\n",
       "      window._bokeh_onload_callbacks.push(callback);\n",
       "      if (window._bokeh_is_loading > 0) {\n",
       "        console.log(\"Bokeh: BokehJS is being loaded, scheduling callback at\", now());\n",
       "        return null;\n",
       "      }\n",
       "      if (js_urls == null || js_urls.length === 0) {\n",
       "        run_callbacks();\n",
       "        return null;\n",
       "      }\n",
       "      console.log(\"Bokeh: BokehJS not loaded, scheduling load and callback at\", now());\n",
       "      window._bokeh_is_loading = js_urls.length;\n",
       "      for (var i = 0; i < js_urls.length; i++) {\n",
       "        var url = js_urls[i];\n",
       "        var s = document.createElement('script');\n",
       "        s.src = url;\n",
       "        s.async = false;\n",
       "        s.onreadystatechange = s.onload = function() {\n",
       "          window._bokeh_is_loading--;\n",
       "          if (window._bokeh_is_loading === 0) {\n",
       "            console.log(\"Bokeh: all BokehJS libraries loaded\");\n",
       "            run_callbacks()\n",
       "          }\n",
       "        };\n",
       "        s.onerror = function() {\n",
       "          console.warn(\"failed to load library \" + url);\n",
       "        };\n",
       "        console.log(\"Bokeh: injecting script tag for BokehJS library: \", url);\n",
       "        document.getElementsByTagName(\"head\")[0].appendChild(s);\n",
       "      }\n",
       "    };var element = document.getElementById(\"cf6ae146-7f99-4b38-ade7-b6fa6834a3ec\");\n",
       "    if (element == null) {\n",
       "      console.log(\"Bokeh: ERROR: autoload.js configured with elementid 'cf6ae146-7f99-4b38-ade7-b6fa6834a3ec' but no matching script tag was found. \")\n",
       "      return false;\n",
       "    }\n",
       "  \n",
       "    var js_urls = [];\n",
       "  \n",
       "    var inline_js = [\n",
       "      function(Bokeh) {\n",
       "        Bokeh.$(function() {\n",
       "            var docs_json = {\"432df7fd-b6b1-49ad-9956-ce7694ae457b\":{\"roots\":{\"references\":[{\"attributes\":{\"plot\":{\"id\":\"0fa5552d-0081-49a7-90d7-6699b66c02ce\",\"subtype\":\"Figure\",\"type\":\"Plot\"},\"ticker\":{\"id\":\"7609326e-8b57-4ade-8002-d4999a65f726\",\"type\":\"BasicTicker\"}},\"id\":\"9a6de2cc-78c5-4f7b-aba9-ed6789d046e9\",\"type\":\"Grid\"},{\"attributes\":{\"plot\":{\"id\":\"0fa5552d-0081-49a7-90d7-6699b66c02ce\",\"subtype\":\"Figure\",\"type\":\"Plot\"}},\"id\":\"a8506a1d-b45f-40a3-89d4-070ded9b66bf\",\"type\":\"CrosshairTool\"},{\"attributes\":{\"callback\":null},\"id\":\"79f6cb84-1192-4b06-9f0c-e7935ca7597d\",\"type\":\"DataRange1d\"},{\"attributes\":{\"plot\":{\"id\":\"0fa5552d-0081-49a7-90d7-6699b66c02ce\",\"subtype\":\"Figure\",\"type\":\"Plot\"}},\"id\":\"9b64e139-e2cd-4b52-91f0-ed101037dc51\",\"type\":\"WheelZoomTool\"},{\"attributes\":{\"fill_color\":{\"value\":\"#80B1D3\"},\"line_color\":{\"value\":\"#80B1D3\"},\"line_width\":{\"value\":3},\"x\":{\"field\":\"x\"},\"y\":{\"field\":\"y\"}},\"id\":\"4db62602-25fb-4658-866e-96efafe29cdb\",\"type\":\"Circle\"},{\"attributes\":{},\"id\":\"e11c2eea-ac09-4f41-9606-4f22808757f5\",\"type\":\"ToolEvents\"},{\"attributes\":{\"active_drag\":\"auto\",\"active_scroll\":\"auto\",\"active_tap\":\"auto\",\"tools\":[{\"id\":\"00bfaacb-d793-47a2-9891-ff3f2a2bc0fe\",\"type\":\"BoxZoomTool\"},{\"id\":\"89f2fa60-2959-41f1-8d7e-a6ef473c62f3\",\"type\":\"BoxSelectTool\"},{\"id\":\"a8506a1d-b45f-40a3-89d4-070ded9b66bf\",\"type\":\"CrosshairTool\"},{\"id\":\"fb2f6be6-6e04-451a-9e4b-31b4489ce95d\",\"type\":\"ResizeTool\"},{\"id\":\"9ca3297c-9f44-4a4d-8365-32580c44cd68\",\"type\":\"ResetTool\"},{\"id\":\"a8d3b6a7-1e58-4d1e-8e6f-55e8e3f56f8a\",\"type\":\"LassoSelectTool\"},{\"id\":\"e93847e3-e7bd-43cb-9c5e-a595d136cf2f\",\"type\":\"PanTool\"},{\"id\":\"8b13b9e8-6f5e-4a6f-b073-239834c4e444\",\"type\":\"SaveTool\"},{\"id\":\"a4e13ddb-e312-4c4d-a00b-465b9530cc9b\",\"type\":\"PolySelectTool\"},{\"id\":\"e20f5186-5475-4f20-80a9-fe8d0132d25e\",\"type\":\"TapTool\"},{\"id\":\"9b64e139-e2cd-4b52-91f0-ed101037dc51\",\"type\":\"WheelZoomTool\"},{\"id\":\"90408fda-c9cd-4939-a3eb-8876d1d07b4e\",\"type\":\"UndoTool\"}]},\"id\":\"ee0a47f5-f0b7-40e7-832a-86f554bc40d8\",\"type\":\"Toolbar\"},{\"attributes\":{\"callback\":null,\"plot\":{\"id\":\"0fa5552d-0081-49a7-90d7-6699b66c02ce\",\"subtype\":\"Figure\",\"type\":\"Plot\"}},\"id\":\"e20f5186-5475-4f20-80a9-fe8d0132d25e\",\"type\":\"TapTool\"},{\"attributes\":{\"fill_alpha\":{\"value\":0.1},\"fill_color\":{\"value\":\"#1f77b4\"},\"line_alpha\":{\"value\":0.1},\"line_color\":{\"value\":\"#1f77b4\"},\"line_width\":{\"value\":3},\"x\":{\"field\":\"x\"},\"y\":{\"field\":\"y\"}},\"id\":\"a4de4573-3225-4af0-bf6e-03416999a3b8\",\"type\":\"Circle\"},{\"attributes\":{\"plot\":{\"id\":\"0fa5552d-0081-49a7-90d7-6699b66c02ce\",\"subtype\":\"Figure\",\"type\":\"Plot\"}},\"id\":\"fb2f6be6-6e04-451a-9e4b-31b4489ce95d\",\"type\":\"ResizeTool\"},{\"attributes\":{\"axis_label\":\"Predicted\",\"axis_label_text_color\":{\"value\":\"#aa6666\"},\"formatter\":{\"id\":\"f3e07fd9-595c-42ae-a38b-332386f6e907\",\"type\":\"BasicTickFormatter\"},\"plot\":{\"id\":\"0fa5552d-0081-49a7-90d7-6699b66c02ce\",\"subtype\":\"Figure\",\"type\":\"Plot\"},\"ticker\":{\"id\":\"bfa30fdc-187d-4c94-9fdf-1bec1e344874\",\"type\":\"BasicTicker\"}},\"id\":\"adb59970-e0d5-44d3-977b-c3c71fae40b8\",\"type\":\"LinearAxis\"},{\"attributes\":{\"callback\":null,\"column_names\":[\"x\",\"y\"],\"data\":{\"x\":[26.7,21.7,22.0,22.9,10.4,21.9,20.6,26.4,41.3,17.2,27.1,20.4,16.5,24.4,8.4,23.0,9.7,50.0,30.5,12.3,19.4,21.2,20.3,18.8,33.4,18.5,19.6,33.2,13.1,7.5,13.6,17.4,8.4,35.4,24.0,13.4,26.2,7.2,13.1,24.5,37.2,25.0,24.1,16.6,32.9,36.2,11.0,7.2,22.8,28.7,14.4,24.4,18.1,22.5,20.5,15.2,17.4,13.6,8.7,18.2,35.4,31.7,33.0,22.2,20.4,23.9,25.0,12.7,29.1,12.0,17.7,27.0,20.6,10.2,17.5,19.7,29.8,20.5,14.9,10.9,19.5,22.7,19.5,24.6,25.0,24.5,50.0,14.3,11.8,31.0,28.7,16.2,43.5,25.0,22.0,19.9,22.1,46.0,22.9,20.2,43.1,34.6,13.8,24.3,21.5,24.4,21.2,23.8,26.6,25.1,9.6,19.4,19.4,9.5,14.0,26.5,13.8,34.7,16.3,21.7,17.5,15.6,20.9,21.7,12.7,18.5,23.7,19.3,12.7,21.6,23.2,29.6,21.2,23.8,17.1,22.0,36.5,18.8,21.9,23.1,20.2,17.4,37.0,24.1,36.2,15.7,32.2,13.5,17.9,13.3,11.7,41.7,18.4,13.1,25.0,21.2,16.0,34.9,25.2,24.8,21.5,23.4,18.9,10.8,21.0,27.5,17.5,13.5,28.7,14.8,19.1,28.6,13.1,19.0,11.3,13.3,22.4,20.1,18.2,22.9,20.6,25.0,12.8,34.9,23.7,50.0,29.0,30.1,22.0,15.6,23.3,30.1,14.3,22.8,50.0,20.8,6.3,34.9,32.4,19.9,20.3,17.8,23.1,20.4,23.2,7.0,16.8,46.7,50.0,22.9,23.9,21.4,21.7,15.4,15.3,23.1,23.9,19.4,11.9,17.8,31.5,33.8,20.8,19.8,22.4,5.0,24.5,19.4,15.1,18.2,19.3,27.1,20.7,37.6,11.7,33.4,30.1,21.4,45.4,20.1,20.8,26.4,10.4,21.8,32.0,21.7,18.4,37.9,17.8,28.0,28.2,36.0,18.9,15.0,22.5,30.7,20.0,19.1,23.3,26.6,21.1,19.7,20.0,12.1,7.2,14.2,17.3,27.5,22.2,10.9,19.2,32.0,14.5,24.7,12.6,24.0,24.1,50.0,16.1,43.8,26.6,36.1,21.8,29.9,50.0,44.0,20.6,19.6,28.4,19.1,22.3,20.9,28.4,14.4,32.7,13.8,8.5,22.5,35.1,31.6,17.8,15.6,20.7,39.8,17.8,19.6,14.9,22.0,48.8,25.0,48.5,23.9,20.3,15.2,10.5,19.0,16.4,8.8,22.0,24.8,50.0,19.3,22.7,37.3,31.6,8.3,23.1,50.0,13.9,16.1,25.3,19.5,10.2,19.9,35.2,13.4,24.7,11.5,23.4,16.7,15.4,18.0,28.5,18.4,32.5,50.0,50.0,19.6,17.6,42.3,14.5,13.2,16.2,29.6,16.7,13.0,22.3,13.4,5.0,19.5,14.6,22.0,8.1,24.6,33.2,20.6,14.1,14.1,21.1,30.3,23.7,21.4,18.3,8.5,22.8,22.8,22.2,13.9,25.0,18.5,7.0,22.6,20.1,30.8,31.1,23.8,12.5,23.6,23.2,24.2,22.2,27.9,22.2,33.1,19.3,18.9,22.6,50.0,24.8,18.5,36.4,19.2,16.6,23.1],\"y\":[32.55363843957737,21.97185755929519,27.396918112085025,23.363569268355963,6.801319258939937,14.487611096374575,22.292879878145612,28.955052577348447,32.88205620689687,12.875971217648543,20.06514368706107,20.835131966397956,12.565841578426966,23.59263910585959,5.77553295563423,20.015266299629666,9.176023545560849,44.52817796488966,30.777288178555235,12.324504834127355,17.52664296375538,21.58658351543173,23.441246410520407,19.762944443723658,34.595665346185896,13.702702641802201,20.75734613247839,35.22558690402573,19.344652720427284,13.810297132325847,14.772198928873244,22.801466250246193,15.118547633016655,30.964514092911262,25.017158272298463,16.00843694388867,24.423950476400062,10.012729919249242,15.045158362691259,21.147902154626415,32.617528410174955,28.00879124900805,25.754752312540244,15.469234395787552,31.529846441254524,27.821872935000258,14.050139099339944,7.414806977707663,28.522383263289488,25.35652239877833,4.109040342203489,28.218177012448713,17.034002351956325,30.235146225778003,19.886979436935086,15.605649989941398,18.005543417629404,12.489956340520184,8.971879556600253,19.18416742097522,34.44889719105358,32.76899198990618,23.501747124464206,19.37945449511528,22.82420838633019,26.81679916141582,21.90938710412182,17.102509216296568,32.36148100748231,10.87749156400726,19.252686697145485,33.252861653160316,18.735540898841457,15.827530371606787,18.706299783245964,14.367212970177032,24.362954357876017,24.319853825329705,16.663195593915326,14.323220639459237,20.025312549999526,25.47046152785118,17.245311830660704,24.539768322244573,22.60312386156528,28.516688537722665,34.85821493695423,16.796392277261365,12.023634948073715,34.572674548181894,30.510817061457296,20.888278480017423,39.15349837591154,28.824674485686838,29.17068898550761,17.468736829969327,26.667700910835126,39.58587499219467,28.639838866516946,16.574256520267653,37.126951116797805,36.03592629954133,14.068518336059023,29.386915248398843,22.112991529336796,24.411939538646717,21.377581398031637,24.081839379841995,27.48153064611282,29.452002845473487,14.353930571749084,26.757558473107764,23.289343047286653,12.932927244683,14.008680752530523,25.127676661757107,19.29397054826517,30.277498199980776,11.134308040051273,23.428274895218472,17.0833911558541,17.678182330456156,23.597248147325995,23.189724832970395,11.819601774756052,25.31976570131827,28.530598954809562,20.33330392747624,12.168968442701702,25.505105230369637,25.767649517497013,25.839579520106547,23.746890626573876,26.43946735508379,17.255190491058517,21.21149664782859,36.140987799236655,20.98739101605369,38.070753180545,25.793152877058333,22.25056404455876,16.19453472015477,31.547130582708718,21.996082949060966,27.286244049841642,13.960130322680651,32.060641399454596,13.850843799481892,0.12888054366489143,19.837770498605444,13.11048950482975,38.20922297309704,16.091739863233144,14.377219712204468,27.710339572121537,23.144780269188104,18.21798016966892,30.76690364503296,27.010762459259507,26.999672952823886,25.03257281373729,24.167356930666852,23.479924491849083,11.184039604266555,21.20977205436535,11.710621110475534,17.94719417178738,12.417161396543555,28.007654419216898,15.404218142538495,15.873851691151796,28.465428924343943,14.846442683360463,21.1729914532188,12.539594504259949,14.036158561069538,23.04205138032947,21.30786946791742,14.701602047344219,21.56905676766342,16.87167287710282,24.313488515128345,12.388178663501746,34.646321525967615,12.414785476790406,42.2358782489907,31.610293219444117,34.951167600380074,21.47804883368915,16.12993157510895,26.620864936214637,29.172383065273074,14.062790575286051,26.752520689397233,36.915401823705864,16.83437564328595,10.719685921708132,33.38436994364362,35.39218040596269,18.034095301241734,22.303808023785574,18.248135451980108,24.390026654898467,19.60021653583801,27.05051911470551,-4.459635316488914,20.864141006090676,34.6846056592679,35.81976080595625,25.021290371902083,27.220015105128617,20.14112740314007,20.99509927861689,16.515855608329943,21.96878715091708,20.950248324776528,28.24304159418365,19.94725949575477,7.181363122493881,16.711925419326917,31.816388706925313,34.90936008069727,17.538643731470184,18.83510009388696,23.599939686704243,6.415594640990452,21.474754178063957,24.298494781804152,16.302637698406194,18.708564449847145,22.45490306908536,26.830780409483683,25.965735273012125,36.20251334753402,15.170479795269214,28.48165856115538,25.857695647437023,21.317464825138554,37.746553074652866,21.345498248957977,23.225143793950565,22.5829179867453,11.607664048826011,19.749775617547698,32.99725140082729,24.665512427399587,18.28960612786078,33.042018239814354,22.856140613127252,28.304285548667714,31.61604297517486,36.880443694341665,22.489242582446693,24.724055440941335,22.50552359821104,32.55089886893157,21.886252272656243,18.815188756837117,21.789598568221027,28.63885084968129,22.284972063283323,22.069789022673124,16.95567779601893,18.067176797981496,17.582427398162693,17.281436107099367,16.553665154038647,31.572703746688177,23.56308153281133,18.37107428178489,19.962326957837625,33.63059888468564,14.328923856336669,25.13621439290262,17.78100040277092,30.498812545526604,29.71700877921807,20.04407996117221,20.036380508203607,35.67054734481647,23.739050151537914,32.89794338631341,20.60284332584391,31.268937755341724,29.84662525478723,36.51133763488064,26.28538238097115,21.431309008987526,28.746144194077736,15.884889869525512,26.739286545175357,21.595477995100058,29.579836857143057,10.049540409969712,30.97156296728956,5.1891400383067925,15.115910151259591,18.20665824478636,34.69681675957335,31.64320302678933,11.008958761133206,13.21367055340175,22.139070385524366,33.93950419190292,17.886885218446913,19.543345033598232,14.846532517471235,25.962855229260647,40.15304712169126,25.29139668048456,40.45176426698159,25.07942103412322,21.945622245563023,13.0594560785044,11.80856904409594,13.989950356834266,18.16324976812131,2.8067596770316037,27.471812761804653,26.066757945040806,39.984148875004394,21.168659226619138,20.528035025836388,33.13072479284068,33.61751795925485,9.958560862301685,24.78762728161572,42.673275475998196,16.82150115189912,17.852102105024166,25.664354777769983,18.48145176185561,6.423568344071956,19.12459373872345,33.738871622522296,16.30448641968547,23.140136592631922,13.586112816135547,24.80236364809308,18.651409128166794,17.300621010019448,18.631941400791316,32.95467296077604,19.731525196364963,30.3902680606083,31.065763486331058,39.482273809562535,19.23657790495055,17.200742773915504,37.52850458957037,18.26415599520193,10.103080632063547,15.144578585857857,24.914968671669577,19.44008402310211,16.617511664576664,27.60709700557596,13.010976387230317,6.182264106980547,18.976406437529825,10.31770499668244,28.417079136609658,4.95005543864232,28.995237048321435,32.48646422718535,22.348387229361737,16.719633914217244,18.01200919927315,20.976998742671917,33.792224501057156,27.91064624367753,19.39619830771746,21.217142901404472,6.789825648616894,29.184734034397508,24.728261018091477,22.426489022013154,14.164226551358604,25.92623447019807,19.637172405969316,9.521870608493588,27.046463209765676,16.707556149384782,31.138694314123608,32.664647206650606,25.649190593333895,18.397272836246024,30.95961531085596,21.335931401597744,25.367203806925527,26.178010669226087,31.135302396134506,24.7338822295359,34.204449330131894,17.333351562110774,20.181660074056865,18.507333313943583,40.6964781202816,25.308911401502733,19.82183323553911,33.60819906885562,24.219030157832655,18.832754606706708,23.671220513477387]}},\"id\":\"c2f676d1-bc30-4db2-97a2-b21f02c91078\",\"type\":\"ColumnDataSource\"},{\"attributes\":{\"fill_alpha\":{\"value\":0.5},\"fill_color\":{\"value\":\"lightgrey\"},\"level\":\"overlay\",\"line_alpha\":{\"value\":1.0},\"line_color\":{\"value\":\"black\"},\"line_dash\":[4,4],\"line_width\":{\"value\":2},\"plot\":null,\"xs_units\":\"screen\",\"ys_units\":\"screen\"},\"id\":\"07353ba0-b385-4b93-86cd-cd2faf506e3a\",\"type\":\"PolyAnnotation\"},{\"attributes\":{\"callback\":null,\"overlay\":{\"id\":\"25675a37-6d27-4f36-8460-7af7f2f9afbd\",\"type\":\"BoxAnnotation\"},\"plot\":{\"id\":\"0fa5552d-0081-49a7-90d7-6699b66c02ce\",\"subtype\":\"Figure\",\"type\":\"Plot\"},\"renderers\":[{\"id\":\"3bbe610e-e219-4c51-a45c-f9fdbd73d8ee\",\"type\":\"GlyphRenderer\"},{\"id\":\"18a77743-1d4f-4813-9079-aeb14a43bace\",\"type\":\"GlyphRenderer\"}]},\"id\":\"89f2fa60-2959-41f1-8d7e-a6ef473c62f3\",\"type\":\"BoxSelectTool\"},{\"attributes\":{\"data_source\":{\"id\":\"c2f676d1-bc30-4db2-97a2-b21f02c91078\",\"type\":\"ColumnDataSource\"},\"glyph\":{\"id\":\"4db62602-25fb-4658-866e-96efafe29cdb\",\"type\":\"Circle\"},\"hover_glyph\":null,\"nonselection_glyph\":{\"id\":\"a4de4573-3225-4af0-bf6e-03416999a3b8\",\"type\":\"Circle\"},\"selection_glyph\":null},\"id\":\"3bbe610e-e219-4c51-a45c-f9fdbd73d8ee\",\"type\":\"GlyphRenderer\"},{\"attributes\":{\"plot\":{\"id\":\"0fa5552d-0081-49a7-90d7-6699b66c02ce\",\"subtype\":\"Figure\",\"type\":\"Plot\"}},\"id\":\"90408fda-c9cd-4939-a3eb-8876d1d07b4e\",\"type\":\"UndoTool\"},{\"attributes\":{\"plot\":{\"id\":\"0fa5552d-0081-49a7-90d7-6699b66c02ce\",\"subtype\":\"Figure\",\"type\":\"Plot\"}},\"id\":\"8b13b9e8-6f5e-4a6f-b073-239834c4e444\",\"type\":\"SaveTool\"},{\"attributes\":{\"overlay\":{\"id\":\"86f8a666-960d-4e55-8c1e-10bcdeb496c7\",\"type\":\"BoxAnnotation\"},\"plot\":{\"id\":\"0fa5552d-0081-49a7-90d7-6699b66c02ce\",\"subtype\":\"Figure\",\"type\":\"Plot\"}},\"id\":\"00bfaacb-d793-47a2-9891-ff3f2a2bc0fe\",\"type\":\"BoxZoomTool\"},{\"attributes\":{\"plot\":{\"id\":\"0fa5552d-0081-49a7-90d7-6699b66c02ce\",\"subtype\":\"Figure\",\"type\":\"Plot\"}},\"id\":\"9ca3297c-9f44-4a4d-8365-32580c44cd68\",\"type\":\"ResetTool\"},{\"attributes\":{},\"id\":\"7609326e-8b57-4ade-8002-d4999a65f726\",\"type\":\"BasicTicker\"},{\"attributes\":{\"bottom_units\":\"screen\",\"fill_alpha\":{\"value\":0.5},\"fill_color\":{\"value\":\"lightgrey\"},\"left_units\":\"screen\",\"level\":\"overlay\",\"line_alpha\":{\"value\":1.0},\"line_color\":{\"value\":\"black\"},\"line_dash\":[4,4],\"line_width\":{\"value\":2},\"plot\":null,\"render_mode\":\"css\",\"right_units\":\"screen\",\"top_units\":\"screen\"},\"id\":\"86f8a666-960d-4e55-8c1e-10bcdeb496c7\",\"type\":\"BoxAnnotation\"},{\"attributes\":{\"plot\":{\"id\":\"0fa5552d-0081-49a7-90d7-6699b66c02ce\",\"subtype\":\"Figure\",\"type\":\"Plot\"}},\"id\":\"e93847e3-e7bd-43cb-9c5e-a595d136cf2f\",\"type\":\"PanTool\"},{\"attributes\":{\"data_source\":{\"id\":\"6fbb43f1-a820-483b-85b8-725392810ad0\",\"type\":\"ColumnDataSource\"},\"glyph\":{\"id\":\"4c7a75d8-0498-4fbc-8b9e-d184d3bb1a3a\",\"type\":\"Line\"},\"hover_glyph\":null,\"nonselection_glyph\":{\"id\":\"5498b669-0ce8-4bfa-855c-10105a3c8e05\",\"type\":\"Line\"},\"selection_glyph\":null},\"id\":\"18a77743-1d4f-4813-9079-aeb14a43bace\",\"type\":\"GlyphRenderer\"},{\"attributes\":{\"background_fill_alpha\":{\"value\":0.5},\"background_fill_color\":{\"value\":\"beige\"},\"below\":[{\"id\":\"f0b18a16-09b6-4dab-90d3-be367fa66140\",\"type\":\"LinearAxis\"}],\"left\":[{\"id\":\"adb59970-e0d5-44d3-977b-c3c71fae40b8\",\"type\":\"LinearAxis\"}],\"plot_height\":500,\"plot_width\":500,\"renderers\":[{\"id\":\"f0b18a16-09b6-4dab-90d3-be367fa66140\",\"type\":\"LinearAxis\"},{\"id\":\"9a6de2cc-78c5-4f7b-aba9-ed6789d046e9\",\"type\":\"Grid\"},{\"id\":\"adb59970-e0d5-44d3-977b-c3c71fae40b8\",\"type\":\"LinearAxis\"},{\"id\":\"2a71a292-001f-4cca-b78e-06f63523d447\",\"type\":\"Grid\"},{\"id\":\"86f8a666-960d-4e55-8c1e-10bcdeb496c7\",\"type\":\"BoxAnnotation\"},{\"id\":\"25675a37-6d27-4f36-8460-7af7f2f9afbd\",\"type\":\"BoxAnnotation\"},{\"id\":\"d01ae824-1167-4a04-8a87-cbce083e03f0\",\"type\":\"PolyAnnotation\"},{\"id\":\"07353ba0-b385-4b93-86cd-cd2faf506e3a\",\"type\":\"PolyAnnotation\"},{\"id\":\"3bbe610e-e219-4c51-a45c-f9fdbd73d8ee\",\"type\":\"GlyphRenderer\"},{\"id\":\"18a77743-1d4f-4813-9079-aeb14a43bace\",\"type\":\"GlyphRenderer\"}],\"title\":{\"id\":\"98849120-76c7-4b91-8e49-78b3ca8fee10\",\"type\":\"Title\"},\"tool_events\":{\"id\":\"e11c2eea-ac09-4f41-9606-4f22808757f5\",\"type\":\"ToolEvents\"},\"toolbar\":{\"id\":\"ee0a47f5-f0b7-40e7-832a-86f554bc40d8\",\"type\":\"Toolbar\"},\"x_range\":{\"id\":\"79f6cb84-1192-4b06-9f0c-e7935ca7597d\",\"type\":\"DataRange1d\"},\"y_range\":{\"id\":\"b6d11109-5af9-4a8e-98c1-8256483b9905\",\"type\":\"DataRange1d\"}},\"id\":\"0fa5552d-0081-49a7-90d7-6699b66c02ce\",\"subtype\":\"Figure\",\"type\":\"Plot\"},{\"attributes\":{\"fill_alpha\":{\"value\":0.5},\"fill_color\":{\"value\":\"lightgrey\"},\"level\":\"overlay\",\"line_alpha\":{\"value\":1.0},\"line_color\":{\"value\":\"black\"},\"line_dash\":[4,4],\"line_width\":{\"value\":2},\"plot\":null,\"xs_units\":\"screen\",\"ys_units\":\"screen\"},\"id\":\"d01ae824-1167-4a04-8a87-cbce083e03f0\",\"type\":\"PolyAnnotation\"},{\"attributes\":{\"line_alpha\":{\"value\":0.1},\"line_color\":{\"value\":\"#1f77b4\"},\"line_dash\":[4,4],\"line_width\":{\"value\":2},\"x\":{\"field\":\"x\"},\"y\":{\"field\":\"y\"}},\"id\":\"5498b669-0ce8-4bfa-855c-10105a3c8e05\",\"type\":\"Line\"},{\"attributes\":{\"dimension\":1,\"plot\":{\"id\":\"0fa5552d-0081-49a7-90d7-6699b66c02ce\",\"subtype\":\"Figure\",\"type\":\"Plot\"},\"ticker\":{\"id\":\"bfa30fdc-187d-4c94-9fdf-1bec1e344874\",\"type\":\"BasicTicker\"}},\"id\":\"2a71a292-001f-4cca-b78e-06f63523d447\",\"type\":\"Grid\"},{\"attributes\":{\"callback\":null},\"id\":\"b6d11109-5af9-4a8e-98c1-8256483b9905\",\"type\":\"DataRange1d\"},{\"attributes\":{\"axis_label\":\"Measured\",\"axis_label_text_color\":{\"value\":\"#aa6666\"},\"formatter\":{\"id\":\"f5daf94b-35d1-46ee-92c7-8fcab6f01484\",\"type\":\"BasicTickFormatter\"},\"major_tick_line_color\":{\"value\":\"firebrick\"},\"major_tick_line_width\":{\"value\":3},\"minor_tick_line_color\":{\"value\":\"orange\"},\"plot\":{\"id\":\"0fa5552d-0081-49a7-90d7-6699b66c02ce\",\"subtype\":\"Figure\",\"type\":\"Plot\"},\"ticker\":{\"id\":\"7609326e-8b57-4ade-8002-d4999a65f726\",\"type\":\"BasicTicker\"}},\"id\":\"f0b18a16-09b6-4dab-90d3-be367fa66140\",\"type\":\"LinearAxis\"},{\"attributes\":{\"overlay\":{\"id\":\"07353ba0-b385-4b93-86cd-cd2faf506e3a\",\"type\":\"PolyAnnotation\"},\"plot\":{\"id\":\"0fa5552d-0081-49a7-90d7-6699b66c02ce\",\"subtype\":\"Figure\",\"type\":\"Plot\"}},\"id\":\"a4e13ddb-e312-4c4d-a00b-465b9530cc9b\",\"type\":\"PolySelectTool\"},{\"attributes\":{},\"id\":\"f5daf94b-35d1-46ee-92c7-8fcab6f01484\",\"type\":\"BasicTickFormatter\"},{\"attributes\":{\"line_dash\":[4,4],\"line_width\":{\"value\":2},\"x\":{\"field\":\"x\"},\"y\":{\"field\":\"y\"}},\"id\":\"4c7a75d8-0498-4fbc-8b9e-d184d3bb1a3a\",\"type\":\"Line\"},{\"attributes\":{},\"id\":\"bfa30fdc-187d-4c94-9fdf-1bec1e344874\",\"type\":\"BasicTicker\"},{\"attributes\":{\"callback\":null,\"column_names\":[\"y\",\"x\"],\"data\":{\"x\":[5.0,50.0],\"y\":[5.0,50.0]}},\"id\":\"6fbb43f1-a820-483b-85b8-725392810ad0\",\"type\":\"ColumnDataSource\"},{\"attributes\":{},\"id\":\"f3e07fd9-595c-42ae-a38b-332386f6e907\",\"type\":\"BasicTickFormatter\"},{\"attributes\":{\"align\":\"center\",\"plot\":null,\"text\":null},\"id\":\"98849120-76c7-4b91-8e49-78b3ca8fee10\",\"type\":\"Title\"},{\"attributes\":{\"bottom_units\":\"screen\",\"fill_alpha\":{\"value\":0.5},\"fill_color\":{\"value\":\"lightgrey\"},\"left_units\":\"screen\",\"level\":\"overlay\",\"line_alpha\":{\"value\":1.0},\"line_color\":{\"value\":\"black\"},\"line_dash\":[4,4],\"line_width\":{\"value\":2},\"plot\":null,\"render_mode\":\"css\",\"right_units\":\"screen\",\"top_units\":\"screen\"},\"id\":\"25675a37-6d27-4f36-8460-7af7f2f9afbd\",\"type\":\"BoxAnnotation\"},{\"attributes\":{\"callback\":null,\"overlay\":{\"id\":\"d01ae824-1167-4a04-8a87-cbce083e03f0\",\"type\":\"PolyAnnotation\"},\"plot\":{\"id\":\"0fa5552d-0081-49a7-90d7-6699b66c02ce\",\"subtype\":\"Figure\",\"type\":\"Plot\"}},\"id\":\"a8d3b6a7-1e58-4d1e-8e6f-55e8e3f56f8a\",\"type\":\"LassoSelectTool\"}],\"root_ids\":[\"0fa5552d-0081-49a7-90d7-6699b66c02ce\"]},\"title\":\"Bokeh Application\",\"version\":\"0.12.0\"}};\n",
       "            var render_items = [{\"docid\":\"432df7fd-b6b1-49ad-9956-ce7694ae457b\",\"elementid\":\"cf6ae146-7f99-4b38-ade7-b6fa6834a3ec\",\"modelid\":\"0fa5552d-0081-49a7-90d7-6699b66c02ce\",\"notebook_comms_target\":\"0020cb18-bffb-4e53-847c-39d1a41e25a1\"}];\n",
       "            \n",
       "            Bokeh.embed.embed_items(docs_json, render_items);\n",
       "        });\n",
       "      },\n",
       "      function(Bokeh) {\n",
       "      }\n",
       "    ];\n",
       "  \n",
       "    function run_inline_js() {\n",
       "      for (var i = 0; i < inline_js.length; i++) {\n",
       "        inline_js[i](window.Bokeh);\n",
       "      }\n",
       "    }\n",
       "  \n",
       "    if (window._bokeh_is_loading === 0) {\n",
       "      console.log(\"Bokeh: BokehJS loaded, going straight to plotting\");\n",
       "      run_inline_js();\n",
       "    } else {\n",
       "      load_libs(js_urls, function() {\n",
       "        console.log(\"Bokeh: BokehJS plotting callback run at\", now());\n",
       "        run_inline_js();\n",
       "      });\n",
       "    }\n",
       "  }(this));\n",
       "</script>"
      ]
     },
     "metadata": {},
     "output_type": "display_data"
    },
    {
     "data": {
      "text/html": [
       "<p><code>&lt;Bokeh Notebook handle for <strong>In[22]</strong>&gt;</code></p>"
      ],
      "text/plain": [
       "<bokeh.io._CommsHandle at 0x10e46a710>"
      ]
     },
     "execution_count": 22,
     "metadata": {},
     "output_type": "execute_result"
    }
   ],
   "source": [
    "# Plotining using bokeh\n",
    "#TOOLS = [BoxSelectTool(), HoverTool()]\n",
    "#TOOLS = 'hover,box_zoom,box_select,crosshair,resize,reset,BayesianRidge_select,pan,save,poly_select,tap,wheel_zoom,undo'\n",
    "TOOLS = 'box_zoom,box_select,crosshair,resize,reset,lasso_select,pan,save,poly_select,tap,wheel_zoom,undo'\n",
    "p = figure(plot_width=500, plot_height=500, tools=TOOLS)\n",
    "p.scatter(Y, predicted,x=\"jjj\", marker=\"o\", color=\"#80B1D3\", line_width=3)\n",
    "p.title.align = \"center\"\n",
    "p.xaxis.axis_label = \"Measured\"\n",
    "p.xaxis.axis_label_text_color = \"#aa6666\"\n",
    "#p.xaxis.axis_label_standoff = 30\n",
    "p.xaxis.major_tick_line_color = \"firebrick\"\n",
    "p.xaxis.major_tick_line_width = 3\n",
    "p.xaxis.minor_tick_line_color = \"orange\"\n",
    "p.yaxis.axis_label = \"Predicted\"\n",
    "p.yaxis.axis_label_text_font_style = \"italic\"\n",
    "p.yaxis.axis_label_text_color = \"#aa6666\"\n",
    "p.background_fill_color = \"beige\"\n",
    "p.background_fill_alpha = 0.5\n",
    "#p.line([Y.min(), Y.max()], [Y.min(), Y.max()], line_dash=\"4 4\", line_width=2, color='red')\n",
    "\n",
    "# create a new plot with the toolbar below\n",
    "# line_dash=\"4 4\", line_width=2, color='red'\n",
    "p.line([Y.min(), Y.max()], [Y.min(), Y.max()], line_dash=\"4 4\", line_width=2, line_color=\"black\")\n",
    "show(p)"
   ]
  },
  {
   "cell_type": "code",
   "execution_count": 23,
   "metadata": {
    "collapsed": false
   },
   "outputs": [
    {
     "data": {
      "text/plain": [
       "<matplotlib.text.Text at 0x1182cbf50>"
      ]
     },
     "execution_count": 23,
     "metadata": {},
     "output_type": "execute_result"
    },
    {
     "data": {
      "image/png": "[encoded data removed]",
      "text/plain": [
       "<matplotlib.figure.Figure at 0x118337d10>"
      ]
     },
     "metadata": {},
     "output_type": "display_data"
    }
   ],
   "source": [
    "plt.scatter(predicted, (predicted - Y), c='r', s=30)\n",
    "plt.title(\"Residual plot on the training data\")\n",
    "plt.xlabel(\"Predicted\")\n",
    "plt.ylabel(\"Residuals\")"
   ]
  },
  {
   "cell_type": "code",
   "execution_count": 24,
   "metadata": {
    "collapsed": false
   },
   "outputs": [
    {
     "data": {
      "text/html": [
       "\n",
       "\n",
       "    <div class=\"bk-root\">\n",
       "        <div class=\"plotdiv\" id=\"ccda917e-306b-4799-b078-3bfa064a97ac\"></div>\n",
       "    </div>\n",
       "<script type=\"text/javascript\">\n",
       "  \n",
       "  (function(global) {\n",
       "    function now() {\n",
       "      return new Date();\n",
       "    }\n",
       "  \n",
       "    if (typeof (window._bokeh_onload_callbacks) === \"undefined\") {\n",
       "      window._bokeh_onload_callbacks = [];\n",
       "    }\n",
       "  \n",
       "    function run_callbacks() {\n",
       "      window._bokeh_onload_callbacks.forEach(function(callback) { callback() });\n",
       "      delete window._bokeh_onload_callbacks\n",
       "      console.info(\"Bokeh: all callbacks have finished\");\n",
       "    }\n",
       "  \n",
       "    function load_libs(js_urls, callback) {\n",
       "      window._bokeh_onload_callbacks.push(callback);\n",
       "      if (window._bokeh_is_loading > 0) {\n",
       "        console.log(\"Bokeh: BokehJS is being loaded, scheduling callback at\", now());\n",
       "        return null;\n",
       "      }\n",
       "      if (js_urls == null || js_urls.length === 0) {\n",
       "        run_callbacks();\n",
       "        return null;\n",
       "      }\n",
       "      console.log(\"Bokeh: BokehJS not loaded, scheduling load and callback at\", now());\n",
       "      window._bokeh_is_loading = js_urls.length;\n",
       "      for (var i = 0; i < js_urls.length; i++) {\n",
       "        var url = js_urls[i];\n",
       "        var s = document.createElement('script');\n",
       "        s.src = url;\n",
       "        s.async = false;\n",
       "        s.onreadystatechange = s.onload = function() {\n",
       "          window._bokeh_is_loading--;\n",
       "          if (window._bokeh_is_loading === 0) {\n",
       "            console.log(\"Bokeh: all BokehJS libraries loaded\");\n",
       "            run_callbacks()\n",
       "          }\n",
       "        };\n",
       "        s.onerror = function() {\n",
       "          console.warn(\"failed to load library \" + url);\n",
       "        };\n",
       "        console.log(\"Bokeh: injecting script tag for BokehJS library: \", url);\n",
       "        document.getElementsByTagName(\"head\")[0].appendChild(s);\n",
       "      }\n",
       "    };var element = document.getElementById(\"ccda917e-306b-4799-b078-3bfa064a97ac\");\n",
       "    if (element == null) {\n",
       "      console.log(\"Bokeh: ERROR: autoload.js configured with elementid 'ccda917e-306b-4799-b078-3bfa064a97ac' but no matching script tag was found. \")\n",
       "      return false;\n",
       "    }\n",
       "  \n",
       "    var js_urls = [];\n",
       "  \n",
       "    var inline_js = [\n",
       "      function(Bokeh) {\n",
       "        Bokeh.$(function() {\n",
       "            var docs_json = {\"a2cd516e-ea63-44d7-a284-61ccb3374b90\":{\"roots\":{\"references\":[{\"attributes\":{\"align\":\"center\",\"plot\":null,\"text\":\"Residual plot on the training data\"},\"id\":\"f5906ba3-b53f-494a-b32d-9d408dfef49f\",\"type\":\"Title\"},{\"attributes\":{},\"id\":\"21b4b722-e35f-4f4f-846d-c8ebff52a072\",\"type\":\"BasicTicker\"},{\"attributes\":{\"plot\":{\"id\":\"724f2593-4fb0-42a8-b6a1-eacc5e83e503\",\"subtype\":\"Figure\",\"type\":\"Plot\"},\"ticker\":{\"id\":\"9c7b7243-c9d6-4f5e-942e-99e5e6fc2f96\",\"type\":\"BasicTicker\"}},\"id\":\"e6b5b872-5420-4e45-9eae-9235b30a47c9\",\"type\":\"Grid\"},{\"attributes\":{\"bottom_units\":\"screen\",\"fill_alpha\":{\"value\":0.5},\"fill_color\":{\"value\":\"lightgrey\"},\"left_units\":\"screen\",\"level\":\"overlay\",\"line_alpha\":{\"value\":1.0},\"line_color\":{\"value\":\"black\"},\"line_dash\":[4,4],\"line_width\":{\"value\":2},\"plot\":null,\"render_mode\":\"css\",\"right_units\":\"screen\",\"top_units\":\"screen\"},\"id\":\"a65f99bd-9ea6-4e12-a03f-042e594b1b3f\",\"type\":\"BoxAnnotation\"},{\"attributes\":{\"data_source\":{\"id\":\"9329aaaa-0563-43d3-a30d-58ff8b8af4d9\",\"type\":\"ColumnDataSource\"},\"glyph\":{\"id\":\"f55bb0c3-2b2b-4ddf-b727-627b853e5095\",\"type\":\"Circle\"},\"hover_glyph\":null,\"nonselection_glyph\":{\"id\":\"fadd0e82-040a-482b-a9d5-c356a8dc06b5\",\"type\":\"Circle\"},\"selection_glyph\":null},\"id\":\"c85ea8ec-5374-4d98-b03c-839f7b6506a8\",\"type\":\"GlyphRenderer\"},{\"attributes\":{\"fill_alpha\":{\"value\":0.5},\"fill_color\":{\"value\":\"lightgrey\"},\"level\":\"overlay\",\"line_alpha\":{\"value\":1.0},\"line_color\":{\"value\":\"black\"},\"line_dash\":[4,4],\"line_width\":{\"value\":2},\"plot\":null,\"xs_units\":\"screen\",\"ys_units\":\"screen\"},\"id\":\"ba0c01ad-de34-42d1-b8a0-d09d504840b4\",\"type\":\"PolyAnnotation\"},{\"attributes\":{\"background_fill_alpha\":{\"value\":0.5},\"background_fill_color\":{\"value\":\"beige\"},\"below\":[{\"id\":\"2c533dc4-4f54-4852-bc8e-02165fd26375\",\"type\":\"LinearAxis\"}],\"left\":[{\"id\":\"03a34a83-1512-4622-ac0f-4806b8e79408\",\"type\":\"LinearAxis\"}],\"plot_height\":500,\"plot_width\":500,\"renderers\":[{\"id\":\"2c533dc4-4f54-4852-bc8e-02165fd26375\",\"type\":\"LinearAxis\"},{\"id\":\"e6b5b872-5420-4e45-9eae-9235b30a47c9\",\"type\":\"Grid\"},{\"id\":\"03a34a83-1512-4622-ac0f-4806b8e79408\",\"type\":\"LinearAxis\"},{\"id\":\"439b3244-09f6-4686-9b4a-217adbbd22d6\",\"type\":\"Grid\"},{\"id\":\"a65f99bd-9ea6-4e12-a03f-042e594b1b3f\",\"type\":\"BoxAnnotation\"},{\"id\":\"03901a74-1d5a-410d-970a-ade8f337d73b\",\"type\":\"BoxAnnotation\"},{\"id\":\"ba0c01ad-de34-42d1-b8a0-d09d504840b4\",\"type\":\"PolyAnnotation\"},{\"id\":\"d4a16b14-3e50-4371-822b-8574fba53868\",\"type\":\"PolyAnnotation\"},{\"id\":\"c85ea8ec-5374-4d98-b03c-839f7b6506a8\",\"type\":\"GlyphRenderer\"}],\"title\":{\"id\":\"f5906ba3-b53f-494a-b32d-9d408dfef49f\",\"type\":\"Title\"},\"tool_events\":{\"id\":\"d0a04b6a-ab17-42cf-9150-935785e33d9f\",\"type\":\"ToolEvents\"},\"toolbar\":{\"id\":\"d85d6187-fb30-4095-8087-4f2d62e3af13\",\"type\":\"Toolbar\"},\"x_range\":{\"id\":\"f1058c10-2d4d-4530-8175-65fdf830c3fd\",\"type\":\"DataRange1d\"},\"y_range\":{\"id\":\"2f12ae0c-778d-4f26-b243-d28bf6dec42f\",\"type\":\"DataRange1d\"}},\"id\":\"724f2593-4fb0-42a8-b6a1-eacc5e83e503\",\"subtype\":\"Figure\",\"type\":\"Plot\"},{\"attributes\":{\"fill_color\":{\"value\":\"#80B1D3\"},\"line_color\":{\"value\":\"#80B1D3\"},\"line_width\":{\"value\":3},\"x\":{\"field\":\"x\"},\"y\":{\"field\":\"y\"}},\"id\":\"f55bb0c3-2b2b-4ddf-b727-627b853e5095\",\"type\":\"Circle\"},{\"attributes\":{\"callback\":null,\"overlay\":{\"id\":\"ba0c01ad-de34-42d1-b8a0-d09d504840b4\",\"type\":\"PolyAnnotation\"},\"plot\":{\"id\":\"724f2593-4fb0-42a8-b6a1-eacc5e83e503\",\"subtype\":\"Figure\",\"type\":\"Plot\"}},\"id\":\"a3f83d10-4a0c-43b7-8938-d7f717e6d8b4\",\"type\":\"LassoSelectTool\"},{\"attributes\":{\"overlay\":{\"id\":\"d4a16b14-3e50-4371-822b-8574fba53868\",\"type\":\"PolyAnnotation\"},\"plot\":{\"id\":\"724f2593-4fb0-42a8-b6a1-eacc5e83e503\",\"subtype\":\"Figure\",\"type\":\"Plot\"}},\"id\":\"08cf8485-cc9e-46d1-bf6c-036bf38d8e8c\",\"type\":\"PolySelectTool\"},{\"attributes\":{\"bottom_units\":\"screen\",\"fill_alpha\":{\"value\":0.5},\"fill_color\":{\"value\":\"lightgrey\"},\"left_units\":\"screen\",\"level\":\"overlay\",\"line_alpha\":{\"value\":1.0},\"line_color\":{\"value\":\"black\"},\"line_dash\":[4,4],\"line_width\":{\"value\":2},\"plot\":null,\"render_mode\":\"css\",\"right_units\":\"screen\",\"top_units\":\"screen\"},\"id\":\"03901a74-1d5a-410d-970a-ade8f337d73b\",\"type\":\"BoxAnnotation\"},{\"attributes\":{\"callback\":null,\"plot\":{\"id\":\"724f2593-4fb0-42a8-b6a1-eacc5e83e503\",\"subtype\":\"Figure\",\"type\":\"Plot\"}},\"id\":\"6b91f0ef-539e-4e02-a0ee-8f6706a2198d\",\"type\":\"TapTool\"},{\"attributes\":{\"plot\":{\"id\":\"724f2593-4fb0-42a8-b6a1-eacc5e83e503\",\"subtype\":\"Figure\",\"type\":\"Plot\"}},\"id\":\"624da24e-7b6a-4c49-8abb-4d8152328f8b\",\"type\":\"PanTool\"},{\"attributes\":{\"axis_label\":\"Residuals\",\"axis_label_text_color\":{\"value\":\"#aa6666\"},\"formatter\":{\"id\":\"c3228196-5d41-47a2-8318-4df46e3ef44c\",\"type\":\"BasicTickFormatter\"},\"plot\":{\"id\":\"724f2593-4fb0-42a8-b6a1-eacc5e83e503\",\"subtype\":\"Figure\",\"type\":\"Plot\"},\"ticker\":{\"id\":\"21b4b722-e35f-4f4f-846d-c8ebff52a072\",\"type\":\"BasicTicker\"}},\"id\":\"03a34a83-1512-4622-ac0f-4806b8e79408\",\"type\":\"LinearAxis\"},{\"attributes\":{},\"id\":\"d61587e6-77d6-4d6c-b8aa-c7642daa0dcc\",\"type\":\"BasicTickFormatter\"},{\"attributes\":{\"plot\":{\"id\":\"724f2593-4fb0-42a8-b6a1-eacc5e83e503\",\"subtype\":\"Figure\",\"type\":\"Plot\"}},\"id\":\"2ebb362b-9c1a-4817-b4fd-af384704f17a\",\"type\":\"UndoTool\"},{\"attributes\":{\"fill_alpha\":{\"value\":0.1},\"fill_color\":{\"value\":\"#1f77b4\"},\"line_alpha\":{\"value\":0.1},\"line_color\":{\"value\":\"#1f77b4\"},\"line_width\":{\"value\":3},\"x\":{\"field\":\"x\"},\"y\":{\"field\":\"y\"}},\"id\":\"fadd0e82-040a-482b-a9d5-c356a8dc06b5\",\"type\":\"Circle\"},{\"attributes\":{},\"id\":\"9c7b7243-c9d6-4f5e-942e-99e5e6fc2f96\",\"type\":\"BasicTicker\"},{\"attributes\":{\"fill_alpha\":{\"value\":0.5},\"fill_color\":{\"value\":\"lightgrey\"},\"level\":\"overlay\",\"line_alpha\":{\"value\":1.0},\"line_color\":{\"value\":\"black\"},\"line_dash\":[4,4],\"line_width\":{\"value\":2},\"plot\":null,\"xs_units\":\"screen\",\"ys_units\":\"screen\"},\"id\":\"d4a16b14-3e50-4371-822b-8574fba53868\",\"type\":\"PolyAnnotation\"},{\"attributes\":{\"callback\":null,\"column_names\":[\"x\",\"y\"],\"data\":{\"x\":[32.55363843957737,21.97185755929519,27.396918112085025,23.363569268355963,6.801319258939937,14.487611096374575,22.292879878145612,28.955052577348447,32.88205620689687,12.875971217648543,20.06514368706107,20.835131966397956,12.565841578426966,23.59263910585959,5.77553295563423,20.015266299629666,9.176023545560849,44.52817796488966,30.777288178555235,12.324504834127355,17.52664296375538,21.58658351543173,23.441246410520407,19.762944443723658,34.595665346185896,13.702702641802201,20.75734613247839,35.22558690402573,19.344652720427284,13.810297132325847,14.772198928873244,22.801466250246193,15.118547633016655,30.964514092911262,25.017158272298463,16.00843694388867,24.423950476400062,10.012729919249242,15.045158362691259,21.147902154626415,32.617528410174955,28.00879124900805,25.754752312540244,15.469234395787552,31.529846441254524,27.821872935000258,14.050139099339944,7.414806977707663,28.522383263289488,25.35652239877833,4.109040342203489,28.218177012448713,17.034002351956325,30.235146225778003,19.886979436935086,15.605649989941398,18.005543417629404,12.489956340520184,8.971879556600253,19.18416742097522,34.44889719105358,32.76899198990618,23.501747124464206,19.37945449511528,22.82420838633019,26.81679916141582,21.90938710412182,17.102509216296568,32.36148100748231,10.87749156400726,19.252686697145485,33.252861653160316,18.735540898841457,15.827530371606787,18.706299783245964,14.367212970177032,24.362954357876017,24.319853825329705,16.663195593915326,14.323220639459237,20.025312549999526,25.47046152785118,17.245311830660704,24.539768322244573,22.60312386156528,28.516688537722665,34.85821493695423,16.796392277261365,12.023634948073715,34.572674548181894,30.510817061457296,20.888278480017423,39.15349837591154,28.824674485686838,29.17068898550761,17.468736829969327,26.667700910835126,39.58587499219467,28.639838866516946,16.574256520267653,37.126951116797805,36.03592629954133,14.068518336059023,29.386915248398843,22.112991529336796,24.411939538646717,21.377581398031637,24.081839379841995,27.48153064611282,29.452002845473487,14.353930571749084,26.757558473107764,23.289343047286653,12.932927244683,14.008680752530523,25.127676661757107,19.29397054826517,30.277498199980776,11.134308040051273,23.428274895218472,17.0833911558541,17.678182330456156,23.597248147325995,23.189724832970395,11.819601774756052,25.31976570131827,28.530598954809562,20.33330392747624,12.168968442701702,25.505105230369637,25.767649517497013,25.839579520106547,23.746890626573876,26.43946735508379,17.255190491058517,21.21149664782859,36.140987799236655,20.98739101605369,38.070753180545,25.793152877058333,22.25056404455876,16.19453472015477,31.547130582708718,21.996082949060966,27.286244049841642,13.960130322680651,32.060641399454596,13.850843799481892,0.12888054366489143,19.837770498605444,13.11048950482975,38.20922297309704,16.091739863233144,14.377219712204468,27.710339572121537,23.144780269188104,18.21798016966892,30.76690364503296,27.010762459259507,26.999672952823886,25.03257281373729,24.167356930666852,23.479924491849083,11.184039604266555,21.20977205436535,11.710621110475534,17.94719417178738,12.417161396543555,28.007654419216898,15.404218142538495,15.873851691151796,28.465428924343943,14.846442683360463,21.1729914532188,12.539594504259949,14.036158561069538,23.04205138032947,21.30786946791742,14.701602047344219,21.56905676766342,16.87167287710282,24.313488515128345,12.388178663501746,34.646321525967615,12.414785476790406,42.2358782489907,31.610293219444117,34.951167600380074,21.47804883368915,16.12993157510895,26.620864936214637,29.172383065273074,14.062790575286051,26.752520689397233,36.915401823705864,16.83437564328595,10.719685921708132,33.38436994364362,35.39218040596269,18.034095301241734,22.303808023785574,18.248135451980108,24.390026654898467,19.60021653583801,27.05051911470551,-4.459635316488914,20.864141006090676,34.6846056592679,35.81976080595625,25.021290371902083,27.220015105128617,20.14112740314007,20.99509927861689,16.515855608329943,21.96878715091708,20.950248324776528,28.24304159418365,19.94725949575477,7.181363122493881,16.711925419326917,31.816388706925313,34.90936008069727,17.538643731470184,18.83510009388696,23.599939686704243,6.415594640990452,21.474754178063957,24.298494781804152,16.302637698406194,18.708564449847145,22.45490306908536,26.830780409483683,25.965735273012125,36.20251334753402,15.170479795269214,28.48165856115538,25.857695647437023,21.317464825138554,37.746553074652866,21.345498248957977,23.225143793950565,22.5829179867453,11.607664048826011,19.749775617547698,32.99725140082729,24.665512427399587,18.28960612786078,33.042018239814354,22.856140613127252,28.304285548667714,31.61604297517486,36.880443694341665,22.489242582446693,24.724055440941335,22.50552359821104,32.55089886893157,21.886252272656243,18.815188756837117,21.789598568221027,28.63885084968129,22.284972063283323,22.069789022673124,16.95567779601893,18.067176797981496,17.582427398162693,17.281436107099367,16.553665154038647,31.572703746688177,23.56308153281133,18.37107428178489,19.962326957837625,33.63059888468564,14.328923856336669,25.13621439290262,17.78100040277092,30.498812545526604,29.71700877921807,20.04407996117221,20.036380508203607,35.67054734481647,23.739050151537914,32.89794338631341,20.60284332584391,31.268937755341724,29.84662525478723,36.51133763488064,26.28538238097115,21.431309008987526,28.746144194077736,15.884889869525512,26.739286545175357,21.595477995100058,29.579836857143057,10.049540409969712,30.97156296728956,5.1891400383067925,15.115910151259591,18.20665824478636,34.69681675957335,31.64320302678933,11.008958761133206,13.21367055340175,22.139070385524366,33.93950419190292,17.886885218446913,19.543345033598232,14.846532517471235,25.962855229260647,40.15304712169126,25.29139668048456,40.45176426698159,25.07942103412322,21.945622245563023,13.0594560785044,11.80856904409594,13.989950356834266,18.16324976812131,2.8067596770316037,27.471812761804653,26.066757945040806,39.984148875004394,21.168659226619138,20.528035025836388,33.13072479284068,33.61751795925485,9.958560862301685,24.78762728161572,42.673275475998196,16.82150115189912,17.852102105024166,25.664354777769983,18.48145176185561,6.423568344071956,19.12459373872345,33.738871622522296,16.30448641968547,23.140136592631922,13.586112816135547,24.80236364809308,18.651409128166794,17.300621010019448,18.631941400791316,32.95467296077604,19.731525196364963,30.3902680606083,31.065763486331058,39.482273809562535,19.23657790495055,17.200742773915504,37.52850458957037,18.26415599520193,10.103080632063547,15.144578585857857,24.914968671669577,19.44008402310211,16.617511664576664,27.60709700557596,13.010976387230317,6.182264106980547,18.976406437529825,10.31770499668244,28.417079136609658,4.95005543864232,28.995237048321435,32.48646422718535,22.348387229361737,16.719633914217244,18.01200919927315,20.976998742671917,33.792224501057156,27.91064624367753,19.39619830771746,21.217142901404472,6.789825648616894,29.184734034397508,24.728261018091477,22.426489022013154,14.164226551358604,25.92623447019807,19.637172405969316,9.521870608493588,27.046463209765676,16.707556149384782,31.138694314123608,32.664647206650606,25.649190593333895,18.397272836246024,30.95961531085596,21.335931401597744,25.367203806925527,26.178010669226087,31.135302396134506,24.7338822295359,34.204449330131894,17.333351562110774,20.181660074056865,18.507333313943583,40.6964781202816,25.308911401502733,19.82183323553911,33.60819906885562,24.219030157832655,18.832754606706708,23.671220513477387],\"y\":[5.85363843957737,0.2718575592951922,5.396918112085025,0.4635692683559647,-3.598680741060063,-7.412388903625423,1.692879878145611,2.555052577348448,-8.417943793103127,-4.324028782351457,-7.034856312938931,0.43513196639795737,-3.9341584215730343,-0.8073608941404089,-2.6244670443657707,-2.9847337003703345,-0.5239764544391505,-5.471822035110343,0.277288178555235,0.024504834127354158,-1.8733570362446201,0.386583515431731,3.141246410520406,0.9629444437236572,1.1956653461858977,-4.797297358197799,1.1573461324783878,2.0255869040257295,6.244652720427284,6.3102971323258465,1.1721989288732448,5.4014662502461945,6.718547633016655,-4.4354859070887365,1.0171582722984631,2.608436943888668,-1.7760495235999372,2.812729919249242,1.9451583626912594,-3.352097845373585,-4.582471589825047,3.0087912490080484,1.6547523125402428,-1.1307656042124492,-1.370153558745475,-8.378127064999745,3.050139099339944,0.21480697770766266,5.722383263289487,-3.343477601221668,-10.290959657796511,3.8181770124487144,-1.0659976480436768,7.735146225778003,-0.6130205630649144,0.40564998994139856,0.6055434176294057,-1.1100436594798158,0.2718795566002541,0.984167420975222,-0.9511028089464162,1.0689919899061842,-9.498252875535794,-2.82054550488472,2.424208386330193,2.9167991614158204,-3.0906128958781807,4.402509216296568,3.2614810074823097,-1.1225084359927404,1.5526866971454858,6.252861653160316,-1.8644591011585447,5.627530371606788,1.2062997832459637,-5.332787029822967,-5.437045642123984,3.819853825329705,1.7631955939153254,3.4232206394592364,0.5253125499995264,2.7704615278511824,-2.254688169339296,-0.06023167775542859,-2.3968761384347204,4.016688537722665,-15.141785063045774,2.4963922772613643,0.2236349480737143,3.572674548181894,1.8108170614572963,4.6882784800174235,-4.346501624088461,3.824674485686838,7.17068898550761,-2.4312631700306717,4.567700910835125,-6.414125007805332,5.739838866516948,-3.6257434797323462,-5.973048883202196,1.4359262995413289,0.26851833605902264,5.086915248398842,0.6129915293367958,0.011939538646718262,0.17758139803163786,0.28183937984199403,0.8815306461128181,4.352002845473486,4.753930571749084,7.3575584731077655,3.889343047286655,3.4329272446830004,0.00868075253052325,-1.372323338242893,5.493970548265171,-4.422501800019226,-5.165691959948727,1.7282748952184726,-0.4166088441459017,2.0781823304561566,2.697248147325997,1.4897248329703956,-0.8803982252439475,6.819765701318271,4.830598954809563,1.03330392747624,-0.5310315572982969,3.905105230369635,2.5676495174970135,-3.7604204798934546,2.5468906265738767,2.639467355083788,0.1551904910585158,-0.7885033521714107,-0.3590122007633454,2.187391016053688,16.170753180545,2.6931528770583313,2.0505640445587616,-1.205465279845228,-5.452869417291282,-2.1039170509390352,-8.913755950158361,-1.7398696773193478,-0.13935860054540683,0.3508437994818916,-17.771119456335107,6.537770498605443,1.4104895048297514,-3.490777026902961,-2.3082601367668545,1.2772197122044684,2.710339572121537,1.9447802691881044,2.2179801696689196,-4.133096354967037,1.8107624592595073,2.199672952823885,3.532572813737289,0.7673569306668533,4.579924491849084,0.3840396042665546,0.20977205436534874,-15.789378889524466,0.4471941717873804,-1.0828386034564446,-0.6923455807831012,0.6042181425384943,-3.226148308848206,-0.13457107565605853,1.7464426833604634,2.172991453218799,1.2395945042599479,0.7361585610695371,0.6420513803294732,1.2078694679174191,-3.4983979526557807,-1.3309432323365797,-3.7283271228971806,-0.6865114848716551,-0.4118213364982548,-0.25367847403238386,-11.285214523209593,-7.764121751009299,2.6102932194441166,4.851167600380073,-0.5219511663108491,0.529931575108952,3.3208649362146367,-0.9276169347269274,-0.23720942471394935,3.9525206893972324,-13.084598176294136,-3.965624356714052,4.419685921708132,-1.515630056356379,2.992180405962692,-1.8659046987582641,2.0038080237855738,0.4481354519801073,1.2900266548984654,-0.7997834641619903,3.8505191147055093,-11.459635316488914,4.064141006090676,-12.0153943407321,-14.18023919404375,2.1212903719020844,3.3200151051286184,-1.258872596859927,-0.7049007213831082,1.1158556083299427,6.66878715091708,-2.1497516752234738,4.343041594183653,0.5472594957547727,-4.718636877506119,-1.0880745806730836,0.31638870692531285,1.1093600806972717,-3.2613562685298163,-0.9648999061130397,1.1999396867042442,1.4155946409904523,-3.0252458219360427,4.898494781804153,1.2026376984061944,0.508564449847146,3.1549030690853606,-0.26921959051631816,5.265735273012126,-1.3974866524659788,3.470479795269215,-4.918341438844617,-4.242304352562979,-0.08253517486144446,-7.653446925347133,1.2454982489579756,2.4251437939505642,-3.817082013254698,1.207664048826011,-2.0502243824523028,0.9972514008272881,2.965512427399588,-0.1103938721392197,-4.857981760185645,5.056140613127251,0.30428554866771407,3.416042975174861,0.8804436943416647,3.589242582446694,9.724055440941335,0.005523598211041758,1.8508988689315693,1.8862522726562432,-0.28481124316288486,-1.5104014317789733,2.038850849681289,1.1849720632833218,2.3697890226731246,-3.0443222039810713,5.967176797981496,10.382427398162694,3.0814361070993677,-0.7463348459613535,4.072703746688177,1.3630815328113322,7.4710742817848885,0.7623269578376259,1.6305988846856394,-0.17107614366333124,0.4362143929026203,5.1810004027709216,6.498812545526604,5.617008779218068,-29.95592003882779,3.936380508203605,-8.129452655183528,-2.860949848462088,-3.2020566136865938,-1.1971566741560906,1.368937755341726,-20.15337474521277,-7.48866236511936,5.685382380971149,1.8313090089875246,0.34614419407773767,-3.215110130474489,4.4392865451753565,0.6954779951000596,1.1798368571430586,-4.3504595900302885,-1.728437032710442,-8.610859961693208,6.615910151259591,-4.293341755213639,-0.40318324042664955,0.04320302678932819,-6.791041238866795,-2.38632944659825,1.4390703855243672,-5.8604958080970775,0.08688521844691266,-0.05665496640176926,-0.053467482528764876,3.962855229260647,-8.646952878308738,0.29139668048456,-8.048235733018409,1.179421034123223,1.6456222455630218,-2.140543921495599,1.3085690440959397,-5.010049643165734,1.7632497681213124,-5.993240322968397,5.471812761804653,1.2667579450408049,-10.015851124995606,1.8686592266191369,-2.171964974163611,-4.169275207159316,2.017517959254846,1.6585608623016839,1.6876272816157183,-7.326724524001804,2.92150115189912,1.7521021050241643,0.36435477776998226,-1.0185482381443904,-3.776431655928043,-0.7754062612765473,-1.4611283774777064,2.9044864196854707,-1.559863407368077,2.0861128161355467,1.4023636480930826,1.9514091281667945,1.9006210100194476,0.631941400791316,4.454672960776037,1.3315251963649644,-2.1097319393917005,-18.934236513668942,-10.517726190437465,-0.3634220950494509,-0.3992572260844973,-4.77149541042963,3.7641559952019286,-3.0969193679364526,-1.0554214141421419,-4.685031328330425,2.74008402310211,3.6175116645766643,5.307097005575958,-0.3890236127696838,1.182264106980547,-0.5235935624701753,-4.282295003317559,6.417079136609658,-3.14994456135768,4.395237048321434,-0.7135357728146516,1.748387229361736,2.6196339142172445,3.912009199273152,-0.12300125732808453,3.492224501057155,4.21064624367753,-2.00380169228254,2.917142901404471,-1.710174351383106,6.384734034397507,1.9282610180914759,0.2264890220131548,0.26422655135860396,0.9262344701980716,1.1371724059693165,2.521870608493588,4.446463209765675,-3.3924438506152192,0.3386943141236074,1.564647206650605,1.8491905933338941,5.8972728362460245,7.359615310855958,-1.8640685984022554,1.167203806925528,3.9780106692260873,3.2353023961345073,2.5338822295359016,1.1044493301318923,-1.9666484378892264,1.281660074056866,-4.092666686056418,-9.303521879718403,0.5089114015027327,1.3218332355391098,-2.7918009311443797,5.019030157832656,2.232754606706706,0.5712205134773853]}},\"id\":\"9329aaaa-0563-43d3-a30d-58ff8b8af4d9\",\"type\":\"ColumnDataSource\"},{\"attributes\":{\"plot\":{\"id\":\"724f2593-4fb0-42a8-b6a1-eacc5e83e503\",\"subtype\":\"Figure\",\"type\":\"Plot\"}},\"id\":\"31b36225-edcc-4623-bcee-3e52caaab79a\",\"type\":\"ResetTool\"},{\"attributes\":{\"plot\":{\"id\":\"724f2593-4fb0-42a8-b6a1-eacc5e83e503\",\"subtype\":\"Figure\",\"type\":\"Plot\"}},\"id\":\"c930901b-69a9-4501-ac89-48fb1a1f0927\",\"type\":\"SaveTool\"},{\"attributes\":{\"callback\":null,\"overlay\":{\"id\":\"03901a74-1d5a-410d-970a-ade8f337d73b\",\"type\":\"BoxAnnotation\"},\"plot\":{\"id\":\"724f2593-4fb0-42a8-b6a1-eacc5e83e503\",\"subtype\":\"Figure\",\"type\":\"Plot\"},\"renderers\":[{\"id\":\"c85ea8ec-5374-4d98-b03c-839f7b6506a8\",\"type\":\"GlyphRenderer\"}]},\"id\":\"a1e0ca7f-fcce-4625-b8f1-fbb3f5785eb2\",\"type\":\"BoxSelectTool\"},{\"attributes\":{\"callback\":null},\"id\":\"2f12ae0c-778d-4f26-b243-d28bf6dec42f\",\"type\":\"DataRange1d\"},{\"attributes\":{\"plot\":{\"id\":\"724f2593-4fb0-42a8-b6a1-eacc5e83e503\",\"subtype\":\"Figure\",\"type\":\"Plot\"}},\"id\":\"e52c9dd4-9524-4e33-9f1e-ad7e0ada3148\",\"type\":\"WheelZoomTool\"},{\"attributes\":{\"axis_label\":\"Predicted\",\"axis_label_text_color\":{\"value\":\"#aa6666\"},\"formatter\":{\"id\":\"d61587e6-77d6-4d6c-b8aa-c7642daa0dcc\",\"type\":\"BasicTickFormatter\"},\"major_tick_line_color\":{\"value\":\"firebrick\"},\"major_tick_line_width\":{\"value\":3},\"minor_tick_line_color\":{\"value\":\"orange\"},\"plot\":{\"id\":\"724f2593-4fb0-42a8-b6a1-eacc5e83e503\",\"subtype\":\"Figure\",\"type\":\"Plot\"},\"ticker\":{\"id\":\"9c7b7243-c9d6-4f5e-942e-99e5e6fc2f96\",\"type\":\"BasicTicker\"}},\"id\":\"2c533dc4-4f54-4852-bc8e-02165fd26375\",\"type\":\"LinearAxis\"},{\"attributes\":{},\"id\":\"c3228196-5d41-47a2-8318-4df46e3ef44c\",\"type\":\"BasicTickFormatter\"},{\"attributes\":{\"plot\":{\"id\":\"724f2593-4fb0-42a8-b6a1-eacc5e83e503\",\"subtype\":\"Figure\",\"type\":\"Plot\"}},\"id\":\"00bc4bdc-7849-48c7-9ba0-895b7c4275de\",\"type\":\"ResizeTool\"},{\"attributes\":{\"plot\":{\"id\":\"724f2593-4fb0-42a8-b6a1-eacc5e83e503\",\"subtype\":\"Figure\",\"type\":\"Plot\"}},\"id\":\"80e28bff-c386-41dc-abb2-d0518551f7f8\",\"type\":\"CrosshairTool\"},{\"attributes\":{\"overlay\":{\"id\":\"a65f99bd-9ea6-4e12-a03f-042e594b1b3f\",\"type\":\"BoxAnnotation\"},\"plot\":{\"id\":\"724f2593-4fb0-42a8-b6a1-eacc5e83e503\",\"subtype\":\"Figure\",\"type\":\"Plot\"}},\"id\":\"1c5c269b-65b6-42f3-96e8-14114863c2a5\",\"type\":\"BoxZoomTool\"},{\"attributes\":{\"callback\":null},\"id\":\"f1058c10-2d4d-4530-8175-65fdf830c3fd\",\"type\":\"DataRange1d\"},{\"attributes\":{\"active_drag\":\"auto\",\"active_scroll\":\"auto\",\"active_tap\":\"auto\",\"tools\":[{\"id\":\"1c5c269b-65b6-42f3-96e8-14114863c2a5\",\"type\":\"BoxZoomTool\"},{\"id\":\"a1e0ca7f-fcce-4625-b8f1-fbb3f5785eb2\",\"type\":\"BoxSelectTool\"},{\"id\":\"80e28bff-c386-41dc-abb2-d0518551f7f8\",\"type\":\"CrosshairTool\"},{\"id\":\"00bc4bdc-7849-48c7-9ba0-895b7c4275de\",\"type\":\"ResizeTool\"},{\"id\":\"31b36225-edcc-4623-bcee-3e52caaab79a\",\"type\":\"ResetTool\"},{\"id\":\"a3f83d10-4a0c-43b7-8938-d7f717e6d8b4\",\"type\":\"LassoSelectTool\"},{\"id\":\"624da24e-7b6a-4c49-8abb-4d8152328f8b\",\"type\":\"PanTool\"},{\"id\":\"c930901b-69a9-4501-ac89-48fb1a1f0927\",\"type\":\"SaveTool\"},{\"id\":\"08cf8485-cc9e-46d1-bf6c-036bf38d8e8c\",\"type\":\"PolySelectTool\"},{\"id\":\"6b91f0ef-539e-4e02-a0ee-8f6706a2198d\",\"type\":\"TapTool\"},{\"id\":\"e52c9dd4-9524-4e33-9f1e-ad7e0ada3148\",\"type\":\"WheelZoomTool\"},{\"id\":\"2ebb362b-9c1a-4817-b4fd-af384704f17a\",\"type\":\"UndoTool\"}]},\"id\":\"d85d6187-fb30-4095-8087-4f2d62e3af13\",\"type\":\"Toolbar\"},{\"attributes\":{\"dimension\":1,\"plot\":{\"id\":\"724f2593-4fb0-42a8-b6a1-eacc5e83e503\",\"subtype\":\"Figure\",\"type\":\"Plot\"},\"ticker\":{\"id\":\"21b4b722-e35f-4f4f-846d-c8ebff52a072\",\"type\":\"BasicTicker\"}},\"id\":\"439b3244-09f6-4686-9b4a-217adbbd22d6\",\"type\":\"Grid\"},{\"attributes\":{},\"id\":\"d0a04b6a-ab17-42cf-9150-935785e33d9f\",\"type\":\"ToolEvents\"}],\"root_ids\":[\"724f2593-4fb0-42a8-b6a1-eacc5e83e503\"]},\"title\":\"Bokeh Application\",\"version\":\"0.12.0\"}};\n",
       "            var render_items = [{\"docid\":\"a2cd516e-ea63-44d7-a284-61ccb3374b90\",\"elementid\":\"ccda917e-306b-4799-b078-3bfa064a97ac\",\"modelid\":\"724f2593-4fb0-42a8-b6a1-eacc5e83e503\",\"notebook_comms_target\":\"c6e05d1e-989b-479b-8d3c-a756e5904d1d\"}];\n",
       "            \n",
       "            Bokeh.embed.embed_items(docs_json, render_items);\n",
       "        });\n",
       "      },\n",
       "      function(Bokeh) {\n",
       "      }\n",
       "    ];\n",
       "  \n",
       "    function run_inline_js() {\n",
       "      for (var i = 0; i < inline_js.length; i++) {\n",
       "        inline_js[i](window.Bokeh);\n",
       "      }\n",
       "    }\n",
       "  \n",
       "    if (window._bokeh_is_loading === 0) {\n",
       "      console.log(\"Bokeh: BokehJS loaded, going straight to plotting\");\n",
       "      run_inline_js();\n",
       "    } else {\n",
       "      load_libs(js_urls, function() {\n",
       "        console.log(\"Bokeh: BokehJS plotting callback run at\", now());\n",
       "        run_inline_js();\n",
       "      });\n",
       "    }\n",
       "  }(this));\n",
       "</script>"
      ]
     },
     "metadata": {},
     "output_type": "display_data"
    },
    {
     "data": {
      "text/html": [
       "<p><code>&lt;Bokeh Notebook handle for <strong>In[24]</strong>&gt;</code></p>"
      ],
      "text/plain": [
       "<bokeh.io._CommsHandle at 0x114d1c250>"
      ]
     },
     "execution_count": 24,
     "metadata": {},
     "output_type": "execute_result"
    }
   ],
   "source": [
    "# Plotining using bokeh\n",
    "#TOOLS = 'hover,box_zoom,box_select,crosshair,resize,reset,BayesianRidge_select,pan,save,poly_select,tap,wheel_zoom,undo'\n",
    "TOOLS = 'box_zoom,box_select,crosshair,resize,reset,lasso_select,pan,save,poly_select,tap,wheel_zoom,undo'\n",
    "p = figure(plot_width=500, plot_height=500, title=\"Residual plot on the training data\", tools=TOOLS)\n",
    "p.scatter(predicted, (predicted - Y),x=\"jjj\", marker=\"o\", color=\"#80B1D3\", line_width=3)\n",
    "p.title.align = \"center\"\n",
    "p.xaxis.axis_label = \"Predicted\"\n",
    "p.xaxis.axis_label_text_color = \"#aa6666\"\n",
    "#p.xaxis.axis_label_standoff = 30\n",
    "p.xaxis.major_tick_line_color = \"firebrick\"\n",
    "p.xaxis.major_tick_line_width = 3\n",
    "p.xaxis.minor_tick_line_color = \"orange\"\n",
    "p.yaxis.axis_label = \"Residuals\"\n",
    "p.yaxis.axis_label_text_font_style = \"italic\"\n",
    "p.yaxis.axis_label_text_color = \"#aa6666\"\n",
    "p.background_fill_color = \"beige\"\n",
    "p.background_fill_alpha = 0.5\n",
    "#p.line([2,38], [0, 0], line_dash=\"4 4\", line_width=2, color='red')\n",
    "show(p)"
   ]
  },
  {
   "cell_type": "markdown",
   "metadata": {},
   "source": [
    "## Pipeline"
   ]
  },
  {
   "cell_type": "markdown",
   "metadata": {},
   "source": [
    "The best to deliver the model by pipeline the operation then at deployment can be done in one model."
   ]
  },
  {
   "cell_type": "markdown",
   "metadata": {
    "collapsed": true
   },
   "source": [
    "  I used two ways to check the pipeline so any one can be fine"
   ]
  },
  {
   "cell_type": "code",
   "execution_count": 25,
   "metadata": {
    "collapsed": false
   },
   "outputs": [
    {
     "name": "stdout",
     "output_type": "stream",
     "text": [
      "0.772430255435\n",
      "Scoring according to mean_squared_error\n",
      "[-15.01656202 -15.91416921 -19.03297475 -23.79335897 -19.41584813\n",
      " -21.33278148 -38.53333276 -29.11311832 -20.56738865 -10.96171387]\n",
      "\n",
      " Mean      Standard deviation\n",
      "-21.37      7.41\n",
      "[ True  True  True  True  True  True  True  True  True  True  True  True\n",
      "  True]\n",
      "R-squared =  0.772430255435\n"
     ]
    }
   ],
   "source": [
    "# Use Pipeline\n",
    "# ANOVA \n",
    "from sklearn.pipeline import Pipeline\n",
    "from sklearn.feature_selection import SelectKBest, f_regression\n",
    "anova_filter = SelectKBest(f_regression, k=13)\n",
    "LR = BayesianRidge(lambda_1 = 1.0, lambda_2 = -1.0, alpha_1 = -1.0, alpha_2=-1.0)\n",
    "anova_LinReg = Pipeline([('scaler_Input',scaler), ('anova', anova_filter), ('LinReg', LR)])\n",
    "# You can set the parameters using the names issued\n",
    "# For instance, fit using a k of 10 in the SelectKBest\n",
    "anova_LinReg.set_params(anova__k=13).fit(new_data, Y)\n",
    "prediction = anova_LinReg.predict(new_data)\n",
    "print anova_LinReg.score(new_data, Y)                        \n",
    "# getting the selected features chosen by anova_filter\n",
    "results = cross_validation.cross_val_score(anova_LinReg, new_data, Y, cv=kfold, scoring=scoring)\n",
    "print 'Scoring according to mean_squared_error'\n",
    "print results\n",
    "print '\\n Mean      Standard deviation'\n",
    "print(\"%.2f      %.2f\" % (results.mean(), results.std()))\n",
    "print anova_LinReg.named_steps['anova'].get_support()\n",
    "r_squared = r2_score(Y, prediction, multioutput='variance_weighted')\n",
    "print 'R-squared = ',r_squared"
   ]
  },
  {
   "cell_type": "code",
   "execution_count": 26,
   "metadata": {
    "collapsed": false
   },
   "outputs": [
    {
     "name": "stdout",
     "output_type": "stream",
     "text": [
      "R-squared =  0.772430255435\n"
     ]
    }
   ],
   "source": [
    "# Using make_pipeline\n",
    "from sklearn.pipeline import make_pipeline\n",
    "\n",
    "# ANOVA SVM-C\n",
    "# 1) anova filter, take 3 best ranked features\n",
    "anova_filter = SelectKBest(f_regression, k=13)\n",
    "anova_BayesianRidge = make_pipeline(scaler, anova_filter, LR)\n",
    "anova_BayesianRidge.fit(new_data, Y)\n",
    "prediction = anova_BayesianRidge.predict(new_data)\n",
    "r_squared = r2_score(Y, prediction, multioutput='variance_weighted')\n",
    "print 'R-squared = ',r_squared"
   ]
  },
  {
   "cell_type": "markdown",
   "metadata": {},
   "source": [
    "### Save the Pipeline model for developement"
   ]
  },
  {
   "cell_type": "code",
   "execution_count": 27,
   "metadata": {
    "collapsed": false
   },
   "outputs": [
    {
     "data": {
      "text/plain": [
       "['anova_BayesianRidge.pkl',\n",
       " 'anova_BayesianRidge.pkl_01.npy',\n",
       " 'anova_BayesianRidge.pkl_02.npy',\n",
       " 'anova_BayesianRidge.pkl_03.npy',\n",
       " 'anova_BayesianRidge.pkl_04.npy',\n",
       " 'anova_BayesianRidge.pkl_05.npy',\n",
       " 'anova_BayesianRidge.pkl_06.npy']"
      ]
     },
     "execution_count": 27,
     "metadata": {},
     "output_type": "execute_result"
    }
   ],
   "source": [
    "# save the model scaler to the desk\n",
    "from sklearn.externals import joblib\n",
    "joblib.dump(anova_BayesianRidge, 'anova_BayesianRidge.pkl') "
   ]
  },
  {
   "cell_type": "code",
   "execution_count": 28,
   "metadata": {
    "collapsed": false
   },
   "outputs": [
    {
     "name": "stdout",
     "output_type": "stream",
     "text": [
      " =================================================================>>>>> done\n",
      "R-squared =  0.772430255435\n"
     ]
    }
   ],
   "source": [
    "# Test the model if it is work\n",
    "anova_BayesianRidgeTest = joblib.load('anova_BayesianRidge.pkl')\n",
    "NewPred = anova_BayesianRidgeTest.predict(new_data)\n",
    "print \" =================================================================>>>>> done\"\n",
    "r_squared = r2_score(Y, NewPred, multioutput='variance_weighted')\n",
    "print 'R-squared = ',r_squared"
   ]
  },
  {
   "cell_type": "code",
   "execution_count": 29,
   "metadata": {
    "collapsed": false
   },
   "outputs": [
    {
     "name": "stdout",
     "output_type": "stream",
     "text": [
      "Point of training data before normalization\n",
      "[   1.23247    0.         8.14       0.         0.538      6.142     91.7\n",
      "    3.9769     4.       307.        21.       396.9       18.72   ]\n",
      "\n",
      "The read target of the data =  15.2\n",
      "\n",
      "The Predicted target of the data =  [ 16.17973919]\n"
     ]
    }
   ],
   "source": [
    "# test on single data point, randomly choose point number 55\n",
    "print 'Point of training data before normalization\\n',new_data[55]\n",
    "print '\\nThe read target of the data = ', Y[55]\n",
    "NewPred = anova_BayesianRidgeTest.predict([new_data[55]])\n",
    "print '\\nThe Predicted target of the data = ', NewPred"
   ]
  },
  {
   "cell_type": "markdown",
   "metadata": {},
   "source": [
    "## Conclusion "
   ]
  }
 ],
 "metadata": {
  "kernelspec": {
   "display_name": "Python 2",
   "language": "python",
   "name": "python2"
  },
  "language_info": {
   "codemirror_mode": {
    "name": "ipython",
    "version": 2
   },
   "file_extension": ".py",
   "mimetype": "text/x-python",
   "name": "python",
   "nbconvert_exporter": "python",
   "pygments_lexer": "ipython2",
   "version": "2.7.11"
  }
 },
 "nbformat": 4,
 "nbformat_minor": 0
}
