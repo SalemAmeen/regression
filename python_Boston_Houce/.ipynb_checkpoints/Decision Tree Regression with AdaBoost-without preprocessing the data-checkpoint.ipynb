{
 "cells": [
  {
   "cell_type": "markdown",
   "metadata": {},
   "source": [
    "Salem Ameen, PhD student at Salford University\n",
    "\n",
    "### Boston House price\n",
    "\n",
    "Decision trees Regression"
   ]
  },
  {
   "cell_type": "markdown",
   "metadata": {},
   "source": [
    "# Import the Libraries"
   ]
  },
  {
   "cell_type": "code",
   "execution_count": 1,
   "metadata": {
    "collapsed": false
   },
   "outputs": [
    {
     "data": {
      "text/html": [
       "\n",
       "    <div class=\"bk-root\">\n",
       "        <a href=\"http://bokeh.pydata.org\" target=\"_blank\" class=\"bk-logo bk-logo-small bk-logo-notebook\"></a>\n",
       "        <span id=\"53272e96-f962-48a5-9acc-afa67d852a13\">Loading BokehJS ...</span>\n",
       "    </div>"
      ]
     },
     "metadata": {},
     "output_type": "display_data"
    },
    {
     "data": {
      "application/javascript": [
       "\n",
       "(function(global) {\n",
       "  function now() {\n",
       "    return new Date();\n",
       "  }\n",
       "\n",
       "  if (typeof (window._bokeh_onload_callbacks) === \"undefined\") {\n",
       "    window._bokeh_onload_callbacks = [];\n",
       "  }\n",
       "\n",
       "  function run_callbacks() {\n",
       "    window._bokeh_onload_callbacks.forEach(function(callback) { callback() });\n",
       "    delete window._bokeh_onload_callbacks\n",
       "    console.info(\"Bokeh: all callbacks have finished\");\n",
       "  }\n",
       "\n",
       "  function load_libs(js_urls, callback) {\n",
       "    window._bokeh_onload_callbacks.push(callback);\n",
       "    if (window._bokeh_is_loading > 0) {\n",
       "      console.log(\"Bokeh: BokehJS is being loaded, scheduling callback at\", now());\n",
       "      return null;\n",
       "    }\n",
       "    if (js_urls == null || js_urls.length === 0) {\n",
       "      run_callbacks();\n",
       "      return null;\n",
       "    }\n",
       "    console.log(\"Bokeh: BokehJS not loaded, scheduling load and callback at\", now());\n",
       "    window._bokeh_is_loading = js_urls.length;\n",
       "    for (var i = 0; i < js_urls.length; i++) {\n",
       "      var url = js_urls[i];\n",
       "      var s = document.createElement('script');\n",
       "      s.src = url;\n",
       "      s.async = false;\n",
       "      s.onreadystatechange = s.onload = function() {\n",
       "        window._bokeh_is_loading--;\n",
       "        if (window._bokeh_is_loading === 0) {\n",
       "          console.log(\"Bokeh: all BokehJS libraries loaded\");\n",
       "          run_callbacks()\n",
       "        }\n",
       "      };\n",
       "      s.onerror = function() {\n",
       "        console.warn(\"failed to load library \" + url);\n",
       "      };\n",
       "      console.log(\"Bokeh: injecting script tag for BokehJS library: \", url);\n",
       "      document.getElementsByTagName(\"head\")[0].appendChild(s);\n",
       "    }\n",
       "  };\n",
       "\n",
       "  var js_urls = ['https://cdn.pydata.org/bokeh/release/bokeh-0.12.0.min.js', 'https://cdn.pydata.org/bokeh/release/bokeh-widgets-0.12.0.min.js', 'https://cdn.pydata.org/bokeh/release/bokeh-compiler-0.12.0.min.js'];\n",
       "\n",
       "  var inline_js = [\n",
       "    function(Bokeh) {\n",
       "      Bokeh.set_log_level(\"info\");\n",
       "    },\n",
       "    \n",
       "    function(Bokeh) {\n",
       "      Bokeh.$(\"#53272e96-f962-48a5-9acc-afa67d852a13\").text(\"BokehJS successfully loaded\");\n",
       "    },\n",
       "    function(Bokeh) {\n",
       "      console.log(\"Bokeh: injecting CSS: https://cdn.pydata.org/bokeh/release/bokeh-0.12.0.min.css\");\n",
       "      Bokeh.embed.inject_css(\"https://cdn.pydata.org/bokeh/release/bokeh-0.12.0.min.css\");\n",
       "      console.log(\"Bokeh: injecting CSS: https://cdn.pydata.org/bokeh/release/bokeh-widgets-0.12.0.min.css\");\n",
       "      Bokeh.embed.inject_css(\"https://cdn.pydata.org/bokeh/release/bokeh-widgets-0.12.0.min.css\");\n",
       "    }\n",
       "  ];\n",
       "\n",
       "  function run_inline_js() {\n",
       "    for (var i = 0; i < inline_js.length; i++) {\n",
       "      inline_js[i](window.Bokeh);\n",
       "    }\n",
       "  }\n",
       "\n",
       "  if (window._bokeh_is_loading === 0) {\n",
       "    console.log(\"Bokeh: BokehJS loaded, going straight to plotting\");\n",
       "    run_inline_js();\n",
       "  } else {\n",
       "    load_libs(js_urls, function() {\n",
       "      console.log(\"Bokeh: BokehJS plotting callback run at\", now());\n",
       "      run_inline_js();\n",
       "    });\n",
       "  }\n",
       "}(this));"
      ]
     },
     "metadata": {},
     "output_type": "display_data"
    }
   ],
   "source": [
    "import numpy as np\n",
    "import pandas\n",
    "from numpy import *\n",
    "import time\n",
    "import sys\n",
    "import pandas as pd\n",
    "import matplotlib.pyplot as plt\n",
    "from sklearn import feature_selection\n",
    "from sklearn.tree import DecisionTreeRegressor\n",
    "from sklearn.learning_curve import learning_curve, validation_curve\n",
    "from sklearn.cross_validation import cross_val_predict\n",
    "from sklearn import metrics, grid_search, cross_validation\n",
    "from IPython.display import set_matplotlib_formats\n",
    "from bokeh.plotting import figure, show, output_notebook\n",
    "from sklearn.grid_search import GridSearchCV, RandomizedSearchCV\n",
    "from sklearn.metrics import r2_score\n",
    "from bokeh.layouts import gridplot\n",
    "output_notebook()\n",
    "set_matplotlib_formats('png', 'pdf')\n",
    "%matplotlib inline\n",
    "plt.rcParams['figure.figsize'] = (6, 6)"
   ]
  },
  {
   "cell_type": "markdown",
   "metadata": {},
   "source": [
    "# Load data"
   ]
  },
  {
   "cell_type": "markdown",
   "metadata": {},
   "source": [
    "In the previous file we have not change the data as there is no missing value or add any new parameters so it can be downloaded from the web directly. "
   ]
  },
  {
   "cell_type": "code",
   "execution_count": 2,
   "metadata": {
    "collapsed": false
   },
   "outputs": [],
   "source": [
    "url = 'https://archive.ics.uci.edu/ml/machine-learning-databases/housing/housing.data'\n",
    "feature_cols = ['CRIM', 'ZN', 'INDUS', 'CHAS', 'NOX', 'RM', 'AGE', 'DIS', 'RAD', 'TAX', 'PTRATIO', 'B', 'LSTAT', 'MEDV']\n",
    "data = pd.read_csv(url, sep='\\s+', names = feature_cols)"
   ]
  },
  {
   "cell_type": "code",
   "execution_count": 3,
   "metadata": {
    "collapsed": false
   },
   "outputs": [
    {
     "name": "stdout",
     "output_type": "stream",
     "text": [
      "Number of examples 506\n"
     ]
    }
   ],
   "source": [
    "from sklearn import preprocessing\n",
    "dataset = data.values\n",
    "X = dataset[:,0:13].astype(float)\n",
    "Y = dataset[:,13]\n",
    "print 'Number of examples',len(X)"
   ]
  },
  {
   "cell_type": "code",
   "execution_count": 4,
   "metadata": {
    "collapsed": false
   },
   "outputs": [
    {
     "name": "stdout",
     "output_type": "stream",
     "text": [
      "Number of training examples 404\n",
      "Number of validation examples 102\n"
     ]
    }
   ],
   "source": [
    "# Make developement dataset for genrilization and final testing\n",
    "from sklearn.cross_validation import train_test_split\n",
    "# Extracting 20% testing data\n",
    "X_train, X_test, y_train, y_test = train_test_split(\n",
    "    X, Y, test_size=0.20, random_state=0)\n",
    "X = X_train\n",
    "Y = y_train\n",
    "new_data      = X_train\n",
    "new_test_data = X_test\n",
    "print 'Number of training examples',len(X_train)\n",
    "print 'Number of validation examples',len(X_test)"
   ]
  },
  {
   "cell_type": "markdown",
   "metadata": {},
   "source": [
    "Number of training data is very small so we need to use cross validation instead of spareate another validation data."
   ]
  },
  {
   "cell_type": "markdown",
   "metadata": {},
   "source": [
    "From the previous visulization the data has no missing value but has many outlier and some sparisty"
   ]
  },
  {
   "cell_type": "markdown",
   "metadata": {},
   "source": [
    "# Ranking of the feature's importance to the target"
   ]
  },
  {
   "cell_type": "code",
   "execution_count": 5,
   "metadata": {
    "collapsed": false
   },
   "outputs": [
    {
     "name": "stdout",
     "output_type": "stream",
     "text": [
      "CRIM \t0.990920443914\n",
      "ZN \t0.243089199298\n",
      "INDUS \t0.545912632909\n",
      "CHAS \t0.0307161297088\n",
      "NOX \t0.716973504561\n",
      "RM \t0.947370943302\n",
      "AGE \t0.699593401735\n",
      "DIS \t0.951624764899\n",
      "RAD \t0.228654187056\n",
      "TAX \t0.428503655041\n",
      "PTRATIO \t0.420389324837\n",
      "B \t0.799151046373\n",
      "LSTAT \t0.959008812687\n",
      "MEDV \t1.0\n"
     ]
    }
   ],
   "source": [
    "# Using just correlation coefficient even in prevoius file we show them using data frame\n",
    "for col in feature_cols:\n",
    "    lm = DecisionTreeRegressor()\n",
    "    lm.fit(data[[col]], data['MEDV'])\n",
    "    print col,'\\t', lm.score(data[[col]], data['MEDV'])"
   ]
  },
  {
   "cell_type": "code",
   "execution_count": 6,
   "metadata": {
    "collapsed": false
   },
   "outputs": [
    {
     "name": "stdout",
     "output_type": "stream",
     "text": [
      "Feature Name      Score         Pvalue\n",
      "CRIM \t\t89.4861147577 \t1.17398708219e-19\n",
      "ZN \t\t75.257642299 \t5.71358415308e-17\n",
      "INDUS \t\t153.954883136 \t4.90025998175e-31\n",
      "CHAS \t\t15.9715124204 \t7.39062317052e-05\n",
      "NOX \t\t112.59148028 \t7.06504158625e-24\n",
      "RM \t\t471.846739876 \t2.48722887101e-74\n",
      "AGE \t\t83.4774592192 \t1.56998220919e-18\n",
      "DIS \t\t33.5795703259 \t1.20661172734e-08\n",
      "RAD \t\t85.9142776698 \t5.46593256965e-19\n",
      "TAX \t\t141.761356577 \t5.63773362769e-29\n",
      "PTRATIO \t\t175.105542876 \t1.60950947847e-34\n",
      "B \t\t63.0542291125 \t1.31811273408e-14\n",
      "LSTAT \t\t601.61787111 \t5.08110339439e-88\n",
      "MEDV \t\tinf \t0.0\n"
     ]
    }
   ],
   "source": [
    "# Randing the important features to the target\n",
    "model = feature_selection.SelectKBest(score_func=feature_selection.f_regression,k=4)\n",
    "results = model.fit(data[feature_cols], data['MEDV'])\n",
    "k=0\n",
    "print 'Feature Name      Score         Pvalue'\n",
    "for feat in feature_cols:\n",
    "    print feat,'\\t\\t',results.scores_[k],'\\t',results.pvalues_[k]\n",
    "    k=k+1\n"
   ]
  },
  {
   "cell_type": "markdown",
   "metadata": {},
   "source": [
    "# Set the parameters for cross validation"
   ]
  },
  {
   "cell_type": "code",
   "execution_count": 7,
   "metadata": {
    "collapsed": true
   },
   "outputs": [],
   "source": [
    "num_folds = 10\n",
    "num_instances = len(X)\n",
    "seed = 7\n",
    "kfold = cross_validation.KFold(n=num_instances, n_folds=num_folds, random_state=seed)"
   ]
  },
  {
   "cell_type": "markdown",
   "metadata": {},
   "source": [
    " # Set the parameters for bias-variance dilemma"
   ]
  },
  {
   "cell_type": "code",
   "execution_count": 8,
   "metadata": {
    "collapsed": false
   },
   "outputs": [],
   "source": [
    "def plot_learning_curve(estimator, title, X, y, ylim=None, cv=None,\n",
    "                        n_jobs=1, train_sizes=np.linspace(.1, 1.0, 5)):\n",
    "    plt.figure()\n",
    "    plt.title(title)\n",
    "    if ylim is not None:\n",
    "        plt.ylim(*ylim)\n",
    "    plt.xlabel(\"Training examples\")\n",
    "    plt.ylabel(\"Score\")\n",
    "    train_sizes, train_scores, test_scores = learning_curve(\n",
    "        estimator, X, y, cv=cv, n_jobs=n_jobs, train_sizes=train_sizes)\n",
    "    train_scores_mean = np.mean(train_scores, axis=1)\n",
    "    train_scores_std = np.std(train_scores, axis=1)\n",
    "    test_scores_mean = np.mean(test_scores, axis=1)\n",
    "    test_scores_std = np.std(test_scores, axis=1)\n",
    "    plt.grid()\n",
    "\n",
    "    plt.fill_between(train_sizes, train_scores_mean - train_scores_std,\n",
    "                     train_scores_mean + train_scores_std, alpha=0.1,\n",
    "                     color=\"r\")\n",
    "    plt.fill_between(train_sizes, test_scores_mean - test_scores_std,\n",
    "                     test_scores_mean + test_scores_std, alpha=0.1, color=\"g\")\n",
    "    plt.plot(train_sizes, train_scores_mean, 'o-', color=\"r\",\n",
    "             label=\"Training score\")\n",
    "    plt.plot(train_sizes, test_scores_mean, 'o-', color=\"g\",\n",
    "             label=\"Cross-validation score\")\n",
    "\n",
    "    plt.legend(loc=\"best\")\n",
    "    return plt"
   ]
  },
  {
   "cell_type": "markdown",
   "metadata": {},
   "source": [
    "# 1. DecisionTreeRegressor  with AdaBoost Regression"
   ]
  },
  {
   "cell_type": "markdown",
   "metadata": {},
   "source": [
    "Decision trees or the Classification and Regression Trees (CART as they are know) use the training data to select the best points to split the data in order to minimize a cost metric. The default cost metric for regression decision trees is the mean squared error, specified in the criterion parameter."
   ]
  },
  {
   "cell_type": "markdown",
   "metadata": {},
   "source": [
    "## Validation curve"
   ]
  },
  {
   "cell_type": "markdown",
   "metadata": {},
   "source": [
    "choosing multiple hyperparameters of an estimator "
   ]
  },
  {
   "cell_type": "code",
   "execution_count": 9,
   "metadata": {
    "collapsed": false
   },
   "outputs": [
    {
     "data": {
      "text/plain": [
       "['presort',\n",
       " 'splitter',\n",
       " 'max_leaf_nodes',\n",
       " 'min_samples_leaf',\n",
       " 'min_samples_split',\n",
       " 'min_weight_fraction_leaf',\n",
       " 'criterion',\n",
       " 'random_state',\n",
       " 'max_features',\n",
       " 'max_depth']"
      ]
     },
     "execution_count": 9,
     "metadata": {},
     "output_type": "execute_result"
    }
   ],
   "source": [
    "from sklearn.tree import DecisionTreeRegressor\n",
    "estimator = DecisionTreeRegressor()\n",
    "estimator.get_params().keys()"
   ]
  },
  {
   "cell_type": "code",
   "execution_count": 10,
   "metadata": {
    "collapsed": false
   },
   "outputs": [
    {
     "data": {
      "text/plain": [
       "['loss',\n",
       " 'base_estimator__min_samples_split',\n",
       " 'base_estimator__max_depth',\n",
       " 'learning_rate',\n",
       " 'base_estimator',\n",
       " 'base_estimator__criterion',\n",
       " 'base_estimator__max_features',\n",
       " 'base_estimator__random_state',\n",
       " 'n_estimators',\n",
       " 'base_estimator__min_weight_fraction_leaf',\n",
       " 'random_state',\n",
       " 'base_estimator__splitter',\n",
       " 'base_estimator__max_leaf_nodes',\n",
       " 'base_estimator__min_samples_leaf',\n",
       " 'base_estimator__presort']"
      ]
     },
     "execution_count": 10,
     "metadata": {},
     "output_type": "execute_result"
    }
   ],
   "source": [
    "from sklearn.tree import DecisionTreeRegressor\n",
    "from sklearn.ensemble import AdaBoostRegressor\n",
    "estimator = AdaBoostRegressor(DecisionTreeRegressor())\n",
    "estimator.get_params().keys()"
   ]
  },
  {
   "cell_type": "code",
   "execution_count": 11,
   "metadata": {
    "collapsed": false
   },
   "outputs": [
    {
     "data": {
      "image/png": "[encoded data removed]",
      "text/plain": [
       "<matplotlib.figure.Figure at 0x1060f3710>"
      ]
     },
     "metadata": {},
     "output_type": "display_data"
    }
   ],
   "source": [
    "# For parametr alpha\n",
    "#param_range = np.logspace(-10.0, 10.0)\n",
    "#param_range = np.linspace(1,50,100)\n",
    "param_range = np.arange(1,50) # generate integer numbers\n",
    "\n",
    "train_scores, test_scores = validation_curve(\n",
    "    DecisionTreeRegressor(), X, Y, param_name=\"max_depth\", param_range=param_range,\n",
    "    cv=num_folds,  n_jobs=-1)\n",
    "train_scores_mean = np.mean(train_scores, axis=1)\n",
    "train_scores_std = np.std(train_scores, axis=1)\n",
    "test_scores_mean = np.mean(test_scores, axis=1)\n",
    "test_scores_std = np.std(test_scores, axis=1)\n",
    "\n",
    "plt.title(\"Validation Curve with DecisionTreeRegressor\")\n",
    "plt.xlabel(\"max_depth\")\n",
    "plt.ylabel(\"Score\")\n",
    "plt.ylim(0.4, 1.0)\n",
    "plt.plot(param_range, train_scores_mean, label=\"Training score\", color=\"r\")\n",
    "plt.fill_between(param_range, train_scores_mean - train_scores_std,\n",
    "                 train_scores_mean + train_scores_std, alpha=0.2, color=\"r\")\n",
    "plt.plot(param_range, test_scores_mean, label=\"Cross-validation score\",\n",
    "             color=\"g\")\n",
    "plt.fill_between(param_range, test_scores_mean - test_scores_std,\n",
    "                 test_scores_mean + test_scores_std, alpha=0.2, color=\"g\")\n",
    "plt.legend(loc=\"best\")\n",
    "plt.show()"
   ]
  },
  {
   "cell_type": "markdown",
   "metadata": {},
   "source": [
    "more that 5 is the best of number of K"
   ]
  },
  {
   "cell_type": "code",
   "execution_count": 12,
   "metadata": {
    "collapsed": false
   },
   "outputs": [
    {
     "data": {
      "image/png": "[encoded data removed]",
      "text/plain": [
       "<matplotlib.figure.Figure at 0x10f65fc90>"
      ]
     },
     "metadata": {},
     "output_type": "display_data"
    }
   ],
   "source": [
    "# For parametr alpha\n",
    "#param_range = np.logspace(-10.0, 10.0)\n",
    "#param_range = np.linspace(1,50,100)\n",
    "param_range = np.arange(1,10) # generate integer numbers\n",
    "\n",
    "train_scores, test_scores = validation_curve(\n",
    "    DecisionTreeRegressor(), X, Y, param_name=\"min_samples_split\", param_range=param_range,\n",
    "    cv=num_folds,  n_jobs=-1)\n",
    "train_scores_mean = np.mean(train_scores, axis=1)\n",
    "train_scores_std = np.std(train_scores, axis=1)\n",
    "test_scores_mean = np.mean(test_scores, axis=1)\n",
    "test_scores_std = np.std(test_scores, axis=1)\n",
    "\n",
    "plt.title(\"Validation Curve with DecisionTreeRegressor\")\n",
    "plt.xlabel(\"min_samples_split\")\n",
    "plt.ylabel(\"Score\")\n",
    "plt.ylim(0.4, 1.0)\n",
    "plt.plot(param_range, train_scores_mean, label=\"Training score\", color=\"r\")\n",
    "plt.fill_between(param_range, train_scores_mean - train_scores_std,\n",
    "                 train_scores_mean + train_scores_std, alpha=0.2, color=\"r\")\n",
    "plt.plot(param_range, test_scores_mean, label=\"Cross-validation score\",\n",
    "             color=\"g\")\n",
    "plt.fill_between(param_range, test_scores_mean - test_scores_std,\n",
    "                 test_scores_mean + test_scores_std, alpha=0.2, color=\"g\")\n",
    "plt.legend(loc=\"best\")\n",
    "plt.show()"
   ]
  },
  {
   "cell_type": "markdown",
   "metadata": {},
   "source": [
    "min_samples_split =2 (The defualt) is the best"
   ]
  },
  {
   "cell_type": "code",
   "execution_count": 13,
   "metadata": {
    "collapsed": false
   },
   "outputs": [
    {
     "data": {
      "image/png": "[encoded data removed]",
      "text/plain": [
       "<matplotlib.figure.Figure at 0x10e06af50>"
      ]
     },
     "metadata": {},
     "output_type": "display_data"
    }
   ],
   "source": [
    "# For parametr alpha\n",
    "#param_range = np.logspace(-10.0, 10.0)\n",
    "#param_range = np.linspace(1,50,100)\n",
    "param_range = np.arange(1,10) # generate integer numbers\n",
    "\n",
    "train_scores, test_scores = validation_curve(\n",
    "    DecisionTreeRegressor(), X, Y, param_name=\"min_samples_leaf\", param_range=param_range,\n",
    "    cv=num_folds,  n_jobs=-1)\n",
    "train_scores_mean = np.mean(train_scores, axis=1)\n",
    "train_scores_std = np.std(train_scores, axis=1)\n",
    "test_scores_mean = np.mean(test_scores, axis=1)\n",
    "test_scores_std = np.std(test_scores, axis=1)\n",
    "\n",
    "plt.title(\"Validation Curve with DecisionTreeRegressor\")\n",
    "plt.xlabel(\"min_samples_leaf\")\n",
    "plt.ylabel(\"Score\")\n",
    "plt.ylim(0.4, 1.0)\n",
    "plt.plot(param_range, train_scores_mean, label=\"Training score\", color=\"r\")\n",
    "plt.fill_between(param_range, train_scores_mean - train_scores_std,\n",
    "                 train_scores_mean + train_scores_std, alpha=0.2, color=\"r\")\n",
    "plt.plot(param_range, test_scores_mean, label=\"Cross-validation score\",\n",
    "             color=\"g\")\n",
    "plt.fill_between(param_range, test_scores_mean - test_scores_std,\n",
    "                 test_scores_mean + test_scores_std, alpha=0.2, color=\"g\")\n",
    "plt.legend(loc=\"best\")\n",
    "plt.show()"
   ]
  },
  {
   "cell_type": "markdown",
   "metadata": {},
   "source": [
    "min_samples_leaf = 2 is the best"
   ]
  },
  {
   "cell_type": "markdown",
   "metadata": {},
   "source": [
    "## Grid search and/or Random search to determine best compination of parameters"
   ]
  },
  {
   "cell_type": "code",
   "execution_count": 14,
   "metadata": {
    "collapsed": false
   },
   "outputs": [
    {
     "name": "stdout",
     "output_type": "stream",
     "text": [
      "Hyperparameter optimization using GridSearchCV...\n",
      "Parameters with rank: 1\n",
      "Mean validation score: 0.8346 (std: 0.0686)\n",
      "Parameters: {'n_estimators': 7, 'loss': 'square'}\n",
      "\n",
      "Parameters with rank: 2\n",
      "Mean validation score: 0.8239 (std: 0.0841)\n",
      "Parameters: {'n_estimators': 6, 'loss': 'exponential'}\n",
      "\n",
      "Parameters with rank: 3\n",
      "Mean validation score: 0.8198 (std: 0.0894)\n",
      "Parameters: {'n_estimators': 9, 'loss': 'linear'}\n",
      "\n",
      "Parameters with rank: 4\n",
      "Mean validation score: 0.8163 (std: 0.1002)\n",
      "Parameters: {'n_estimators': 7, 'loss': 'exponential'}\n",
      "\n",
      "Parameters with rank: 5\n",
      "Mean validation score: 0.8073 (std: 0.1275)\n",
      "Parameters: {'n_estimators': 9, 'loss': 'exponential'}\n",
      "\n",
      "+++++++++++++++++++++++++++++++++++++++++++++++\n",
      "Hyperparameter optimization using RandomizedSearchCV\n",
      "Parameters with rank: 1\n",
      "Mean validation score: 0.8554 (std: 0.0922)\n",
      "Parameters: {'n_estimators': 200, 'loss': 'linear'}\n",
      "\n",
      "Parameters with rank: 2\n",
      "Mean validation score: 0.8509 (std: 0.0917)\n",
      "Parameters: {'n_estimators': 500, 'loss': 'linear'}\n",
      "\n",
      "Parameters with rank: 3\n",
      "Mean validation score: 0.8505 (std: 0.0873)\n",
      "Parameters: {'n_estimators': 100, 'loss': 'exponential'}\n",
      "\n",
      "Parameters with rank: 4\n",
      "Mean validation score: 0.8505 (std: 0.0912)\n",
      "Parameters: {'n_estimators': 500, 'loss': 'square'}\n",
      "\n",
      "Parameters with rank: 5\n",
      "Mean validation score: 0.6598 (std: 0.2050)\n",
      "Parameters: {'n_estimators': 1, 'loss': 'linear'}\n",
      "\n"
     ]
    }
   ],
   "source": [
    "# Utility function to report optimal parameters\n",
    "from operator import itemgetter\n",
    "def report(grid_scores, n_top=5):\n",
    "    params = None\n",
    "    top_scores = sorted(grid_scores, key=itemgetter(1), reverse=True)[:n_top]\n",
    "    for i, score in enumerate(top_scores):\n",
    "        print(\"Parameters with rank: {0}\".format(i + 1))\n",
    "        print(\"Mean validation score: {0:.4f} (std: {1:.4f})\".format(\n",
    "              score.mean_validation_score, np.std(score.cv_validation_scores)))\n",
    "        print(\"Parameters: {0}\".format(score.parameters))\n",
    "        print(\"\")\n",
    "        \n",
    "        if params == None:\n",
    "            params = score.parameters\n",
    "    \n",
    "    return params\n",
    "\n",
    "# The most common value for the max number of features to look at in each split is sqrt(# of features)\n",
    "sqrtfeat = np.sqrt(X.shape[1]) \n",
    "grid_test1 = { \"n_estimators\"      : np.arange(1,10),\n",
    "             \"loss\"      : [ \"linear\", \"square\", \"exponential\"]}\n",
    "\n",
    "# Large randomized test using max_depth to control tree size (5000 possible combinations)\n",
    "random_test1 = { \"n_estimators\"      : [1,10,20,100,200, 300, 400, 500],\n",
    "                \"loss\"      : [ \"linear\", \"square\", \"exponential\"]}\n",
    "\n",
    "\n",
    "forest = AdaBoostRegressor()\n",
    "\n",
    "print \"Hyperparameter optimization using GridSearchCV...\"\n",
    "grid_search = GridSearchCV(forest, grid_test1, n_jobs=-1, cv=num_folds)\n",
    "grid_search.fit(X, Y)\n",
    "best_params_from_grid_search = report(grid_search.grid_scores_)\n",
    "print '+++++++++++++++++++++++++++++++++++++++++++++++'\n",
    "print \"Hyperparameter optimization using RandomizedSearchCV\"\n",
    "grid_search = RandomizedSearchCV(forest, random_test1, n_jobs=-1, cv=num_folds, n_iter=5)\n",
    "grid_search.fit(X, Y)\n",
    "best_params_from_rand_search1 = report(grid_search.grid_scores_)"
   ]
  },
  {
   "cell_type": "markdown",
   "metadata": {},
   "source": [
    "Best parameters Parameters: Parameters: {'max_features': None, 'max_depth': 19, 'min_samples_leaf': 1}\n"
   ]
  },
  {
   "cell_type": "markdown",
   "metadata": {},
   "source": [
    "## Learning Curve "
   ]
  },
  {
   "cell_type": "markdown",
   "metadata": {},
   "source": [
    "In essence, what we’re doing it training the exact same model with increasingly large fractions of our total training data, and plotting the error of the training and test sets at each step."
   ]
  },
  {
   "cell_type": "code",
   "execution_count": 15,
   "metadata": {
    "collapsed": false
   },
   "outputs": [
    {
     "data": {
      "image/png": "[encoded data removed]",
      "text/plain": [
       "<matplotlib.figure.Figure at 0x10f782790>"
      ]
     },
     "metadata": {},
     "output_type": "display_data"
    }
   ],
   "source": [
    "from sklearn.tree import DecisionTreeRegressor\n",
    "\n",
    "model = AdaBoostRegressor(n_estimators = 5, loss = \"exponential\")\n",
    "title = \"Learning Curves (Ada DecisionTreeRegressor Refression)\"\n",
    "cv = cross_validation.ShuffleSplit(X.shape[0], n_iter=100,\n",
    "                                   test_size=0.2, random_state=0)\n",
    "plot_learning_curve(model, title, X, Y, ylim=(0.2, 1.01), cv=cv, n_jobs=-1)\n",
    "plt.show()"
   ]
  },
  {
   "cell_type": "code",
   "execution_count": 16,
   "metadata": {
    "collapsed": false
   },
   "outputs": [
    {
     "name": "stdout",
     "output_type": "stream",
     "text": [
      "train_sizes =  [ 50  80 110]\n",
      " training scores\n",
      " 50 training sizees\n",
      "0.947608946315 ± 0.0282681160758\n",
      " 80 training sizees\n",
      "0.932103237016 ± 0.0409540441266\n",
      " 110 training sizees\n",
      "0.92755882952 ± 0.0172707171653\n",
      "\n",
      " validation scores\n",
      " 50 validation scores\n",
      "0.672230948515 ± 0.090593028636\n",
      " 80 validation scores\n",
      "0.709730269392 ± 0.0877429933165\n",
      " 110 validation scores\n",
      "0.747212671193 ± 0.103457592664\n"
     ]
    }
   ],
   "source": [
    "# More data from learning curve to show the process of building the model\n",
    "train_sizes, train_scores, valid_scores = learning_curve(\n",
    "     model, X, Y, train_sizes=[50, 80, 110], cv=cv, n_jobs=4)\n",
    "\n",
    "print 'train_sizes = ', train_sizes\n",
    "\n",
    "print ' training scores'\n",
    "print ' 50 training sizees'\n",
    "print train_scores[0].mean(),'±',train_scores[0].std()\n",
    "print ' 80 training sizees'\n",
    "print train_scores[1].mean(),'±',train_scores[1].std()\n",
    "print ' 110 training sizees'\n",
    "print train_scores[2].mean(),'±',train_scores[2].std()\n",
    "\n",
    "print '\\n validation scores'\n",
    "print ' 50 validation scores'\n",
    "print valid_scores[0].mean(),'±',valid_scores[0].std()\n",
    "print ' 80 validation scores'\n",
    "print valid_scores[1].mean(),'±',valid_scores[1].std()\n",
    "print ' 110 validation scores'\n",
    "print valid_scores[2].mean(),'±',valid_scores[2].std()"
   ]
  },
  {
   "cell_type": "markdown",
   "metadata": {},
   "source": [
    "## Cross validation"
   ]
  },
  {
   "cell_type": "code",
   "execution_count": 17,
   "metadata": {
    "collapsed": false
   },
   "outputs": [
    {
     "name": "stdout",
     "output_type": "stream",
     "text": [
      "Scoring according to mean_squared_error\n",
      "[-10.13075914 -11.20016052 -16.96372498 -23.57677048 -12.15241073\n",
      " -14.92533804 -29.25128886 -20.46175172 -16.45583757  -8.39341416]\n",
      "\n",
      " Mean      Standard deviation\n",
      "-16.35      6.20\n"
     ]
    },
    {
     "data": {
      "text/plain": [
       "AdaBoostRegressor(base_estimator=None, learning_rate=1.0, loss='exponential',\n",
       "         n_estimators=5, random_state=None)"
      ]
     },
     "execution_count": 17,
     "metadata": {},
     "output_type": "execute_result"
    }
   ],
   "source": [
    "scoring = 'mean_squared_error'\n",
    "results = cross_validation.cross_val_score(model, X, Y, cv=kfold, scoring=scoring)\n",
    "print 'Scoring according to mean_squared_error'\n",
    "print results\n",
    "print '\\n Mean      Standard deviation'\n",
    "print(\"%.2f      %.2f\" % (results.mean(), results.std()))\n",
    "## Fit the model\n",
    "model.fit(X,Y)\n"
   ]
  },
  {
   "cell_type": "markdown",
   "metadata": {},
   "source": [
    "## Coefficients Of Determination {Calculating R^2}\n",
    "\n",
    "R^2, Close to one is better"
   ]
  },
  {
   "cell_type": "code",
   "execution_count": 18,
   "metadata": {
    "collapsed": false
   },
   "outputs": [
    {
     "name": "stdout",
     "output_type": "stream",
     "text": [
      "R-squared =  0.818152816766\n"
     ]
    }
   ],
   "source": [
    "predicted = cross_val_predict(model, X, Y, cv=kfold)\n",
    "r_squared = r2_score(Y, predicted, multioutput='variance_weighted')\n",
    "print 'R-squared = ',r_squared"
   ]
  },
  {
   "cell_type": "markdown",
   "metadata": {},
   "source": [
    "## Residual Plot"
   ]
  },
  {
   "cell_type": "code",
   "execution_count": 19,
   "metadata": {
    "collapsed": false
   },
   "outputs": [
    {
     "data": {
      "image/png": "[encoded data removed]",
      "text/plain": [
       "<matplotlib.figure.Figure at 0x10f7bec10>"
      ]
     },
     "metadata": {},
     "output_type": "display_data"
    }
   ],
   "source": [
    "predicted = cross_val_predict(model, X, Y, cv=kfold)\n",
    "fig, ax = plt.subplots()\n",
    "ax.scatter(Y, predicted)\n",
    "ax.plot([Y.min(), Y.max()], [Y.min(), Y.max()], 'k--', lw=4)\n",
    "ax.set_xlabel('Measured')\n",
    "ax.set_ylabel('Predicted')\n",
    "plt.show()"
   ]
  },
  {
   "cell_type": "code",
   "execution_count": 20,
   "metadata": {
    "collapsed": false
   },
   "outputs": [
    {
     "data": {
      "text/html": [
       "\n",
       "\n",
       "    <div class=\"bk-root\">\n",
       "        <div class=\"plotdiv\" id=\"1f1ea91a-ec61-4839-bf9f-cd9dd35dc939\"></div>\n",
       "    </div>\n",
       "<script type=\"text/javascript\">\n",
       "  \n",
       "  (function(global) {\n",
       "    function now() {\n",
       "      return new Date();\n",
       "    }\n",
       "  \n",
       "    if (typeof (window._bokeh_onload_callbacks) === \"undefined\") {\n",
       "      window._bokeh_onload_callbacks = [];\n",
       "    }\n",
       "  \n",
       "    function run_callbacks() {\n",
       "      window._bokeh_onload_callbacks.forEach(function(callback) { callback() });\n",
       "      delete window._bokeh_onload_callbacks\n",
       "      console.info(\"Bokeh: all callbacks have finished\");\n",
       "    }\n",
       "  \n",
       "    function load_libs(js_urls, callback) {\n",
       "      window._bokeh_onload_callbacks.push(callback);\n",
       "      if (window._bokeh_is_loading > 0) {\n",
       "        console.log(\"Bokeh: BokehJS is being loaded, scheduling callback at\", now());\n",
       "        return null;\n",
       "      }\n",
       "      if (js_urls == null || js_urls.length === 0) {\n",
       "        run_callbacks();\n",
       "        return null;\n",
       "      }\n",
       "      console.log(\"Bokeh: BokehJS not loaded, scheduling load and callback at\", now());\n",
       "      window._bokeh_is_loading = js_urls.length;\n",
       "      for (var i = 0; i < js_urls.length; i++) {\n",
       "        var url = js_urls[i];\n",
       "        var s = document.createElement('script');\n",
       "        s.src = url;\n",
       "        s.async = false;\n",
       "        s.onreadystatechange = s.onload = function() {\n",
       "          window._bokeh_is_loading--;\n",
       "          if (window._bokeh_is_loading === 0) {\n",
       "            console.log(\"Bokeh: all BokehJS libraries loaded\");\n",
       "            run_callbacks()\n",
       "          }\n",
       "        };\n",
       "        s.onerror = function() {\n",
       "          console.warn(\"failed to load library \" + url);\n",
       "        };\n",
       "        console.log(\"Bokeh: injecting script tag for BokehJS library: \", url);\n",
       "        document.getElementsByTagName(\"head\")[0].appendChild(s);\n",
       "      }\n",
       "    };var element = document.getElementById(\"1f1ea91a-ec61-4839-bf9f-cd9dd35dc939\");\n",
       "    if (element == null) {\n",
       "      console.log(\"Bokeh: ERROR: autoload.js configured with elementid '1f1ea91a-ec61-4839-bf9f-cd9dd35dc939' but no matching script tag was found. \")\n",
       "      return false;\n",
       "    }\n",
       "  \n",
       "    var js_urls = [];\n",
       "  \n",
       "    var inline_js = [\n",
       "      function(Bokeh) {\n",
       "        Bokeh.$(function() {\n",
       "            var docs_json = {\"30a5f85d-82c9-40d3-8be6-1b0664dae231\":{\"roots\":{\"references\":[{\"attributes\":{\"callback\":null,\"overlay\":{\"id\":\"63e174d0-b9b7-4d08-aed8-fce192cc477b\",\"type\":\"PolyAnnotation\"},\"plot\":{\"id\":\"767d76c2-31de-4e72-9e94-302f58180966\",\"subtype\":\"Figure\",\"type\":\"Plot\"}},\"id\":\"bc20c714-caac-4c7b-8bfa-057df1951a68\",\"type\":\"LassoSelectTool\"},{\"attributes\":{\"callback\":null,\"plot\":{\"id\":\"767d76c2-31de-4e72-9e94-302f58180966\",\"subtype\":\"Figure\",\"type\":\"Plot\"}},\"id\":\"543f5108-b5dc-43f2-a78a-2d201218c371\",\"type\":\"TapTool\"},{\"attributes\":{\"callback\":null,\"overlay\":{\"id\":\"9f1881ae-5c6a-4aa3-a6e0-928596be88f6\",\"type\":\"BoxAnnotation\"},\"plot\":{\"id\":\"767d76c2-31de-4e72-9e94-302f58180966\",\"subtype\":\"Figure\",\"type\":\"Plot\"},\"renderers\":[{\"id\":\"618c99db-5c79-495e-baca-9c00a0453a37\",\"type\":\"GlyphRenderer\"},{\"id\":\"8bfa1c3c-3328-460d-8e80-f0cd292bfe62\",\"type\":\"GlyphRenderer\"}]},\"id\":\"ba0b1044-d9a0-427f-a445-1cd75e1a4623\",\"type\":\"BoxSelectTool\"},{\"attributes\":{\"fill_alpha\":{\"value\":0.5},\"fill_color\":{\"value\":\"lightgrey\"},\"level\":\"overlay\",\"line_alpha\":{\"value\":1.0},\"line_color\":{\"value\":\"black\"},\"line_dash\":[4,4],\"line_width\":{\"value\":2},\"plot\":null,\"xs_units\":\"screen\",\"ys_units\":\"screen\"},\"id\":\"eaa80fa4-19da-4677-bfcb-004da776f9d3\",\"type\":\"PolyAnnotation\"},{\"attributes\":{},\"id\":\"870147d0-1f5d-491c-a449-5f7449cdae55\",\"type\":\"BasicTickFormatter\"},{\"attributes\":{\"overlay\":{\"id\":\"963e6a28-4333-42dd-8fc8-cb00d695f05b\",\"type\":\"BoxAnnotation\"},\"plot\":{\"id\":\"767d76c2-31de-4e72-9e94-302f58180966\",\"subtype\":\"Figure\",\"type\":\"Plot\"}},\"id\":\"f88be28f-a20e-443d-b1ba-484e029a2134\",\"type\":\"BoxZoomTool\"},{\"attributes\":{\"line_dash\":[4,4],\"line_width\":{\"value\":2},\"x\":{\"field\":\"x\"},\"y\":{\"field\":\"y\"}},\"id\":\"e4142556-ce26-4fcf-874b-15ec14e22898\",\"type\":\"Line\"},{\"attributes\":{},\"id\":\"b9ceef48-c10f-4203-9d2f-5b5c178c6929\",\"type\":\"BasicTickFormatter\"},{\"attributes\":{\"fill_alpha\":{\"value\":0.1},\"fill_color\":{\"value\":\"#1f77b4\"},\"line_alpha\":{\"value\":0.1},\"line_color\":{\"value\":\"#1f77b4\"},\"line_width\":{\"value\":3},\"x\":{\"field\":\"x\"},\"y\":{\"field\":\"y\"}},\"id\":\"cbe50d68-760b-4d5f-825e-45b0b950b73e\",\"type\":\"Circle\"},{\"attributes\":{\"fill_color\":{\"value\":\"#80B1D3\"},\"line_color\":{\"value\":\"#80B1D3\"},\"line_width\":{\"value\":3},\"x\":{\"field\":\"x\"},\"y\":{\"field\":\"y\"}},\"id\":\"40faef28-4840-4249-a16a-a8524831adcc\",\"type\":\"Circle\"},{\"attributes\":{\"active_drag\":\"auto\",\"active_scroll\":\"auto\",\"active_tap\":\"auto\",\"tools\":[{\"id\":\"f88be28f-a20e-443d-b1ba-484e029a2134\",\"type\":\"BoxZoomTool\"},{\"id\":\"ba0b1044-d9a0-427f-a445-1cd75e1a4623\",\"type\":\"BoxSelectTool\"},{\"id\":\"ba60bf9d-7712-4fb4-8d84-48b4d1dc783a\",\"type\":\"CrosshairTool\"},{\"id\":\"3a40b842-c844-4900-934d-273dd920c8ef\",\"type\":\"ResizeTool\"},{\"id\":\"9b1cc04b-6ba5-417b-a96c-bd48df59e9d0\",\"type\":\"ResetTool\"},{\"id\":\"bc20c714-caac-4c7b-8bfa-057df1951a68\",\"type\":\"LassoSelectTool\"},{\"id\":\"05bdcba8-7e05-408b-8e55-f24d01eb5ef8\",\"type\":\"PanTool\"},{\"id\":\"6b19d5ff-1455-4950-b2b9-a79c94045e1b\",\"type\":\"SaveTool\"},{\"id\":\"cf842cc3-c34a-4c0d-9bb1-a7dd495c3e8f\",\"type\":\"PolySelectTool\"},{\"id\":\"543f5108-b5dc-43f2-a78a-2d201218c371\",\"type\":\"TapTool\"},{\"id\":\"c4bfa47a-94d1-42cc-8c5d-ebc12e555fc9\",\"type\":\"WheelZoomTool\"},{\"id\":\"41a63427-874d-4395-b1cc-569d8ea658c7\",\"type\":\"UndoTool\"}]},\"id\":\"1f758047-061d-4768-93e8-12c10d03bcaa\",\"type\":\"Toolbar\"},{\"attributes\":{\"data_source\":{\"id\":\"9b90b108-c3aa-41ff-b0a8-e785a93f2091\",\"type\":\"ColumnDataSource\"},\"glyph\":{\"id\":\"40faef28-4840-4249-a16a-a8524831adcc\",\"type\":\"Circle\"},\"hover_glyph\":null,\"nonselection_glyph\":{\"id\":\"cbe50d68-760b-4d5f-825e-45b0b950b73e\",\"type\":\"Circle\"},\"selection_glyph\":null},\"id\":\"618c99db-5c79-495e-baca-9c00a0453a37\",\"type\":\"GlyphRenderer\"},{\"attributes\":{},\"id\":\"3e57498f-869f-4613-adba-13b8377e6bce\",\"type\":\"BasicTicker\"},{\"attributes\":{\"callback\":null},\"id\":\"1c92a658-33c2-4268-a5cd-64cff8936c59\",\"type\":\"DataRange1d\"},{\"attributes\":{\"align\":\"center\",\"plot\":null,\"text\":null},\"id\":\"224d84cb-e477-495b-93d3-bc52e22efcb3\",\"type\":\"Title\"},{\"attributes\":{\"plot\":{\"id\":\"767d76c2-31de-4e72-9e94-302f58180966\",\"subtype\":\"Figure\",\"type\":\"Plot\"}},\"id\":\"05bdcba8-7e05-408b-8e55-f24d01eb5ef8\",\"type\":\"PanTool\"},{\"attributes\":{\"fill_alpha\":{\"value\":0.5},\"fill_color\":{\"value\":\"lightgrey\"},\"level\":\"overlay\",\"line_alpha\":{\"value\":1.0},\"line_color\":{\"value\":\"black\"},\"line_dash\":[4,4],\"line_width\":{\"value\":2},\"plot\":null,\"xs_units\":\"screen\",\"ys_units\":\"screen\"},\"id\":\"63e174d0-b9b7-4d08-aed8-fce192cc477b\",\"type\":\"PolyAnnotation\"},{\"attributes\":{\"background_fill_alpha\":{\"value\":0.5},\"background_fill_color\":{\"value\":\"beige\"},\"below\":[{\"id\":\"f927fc73-aeb4-4f01-bcb7-0fb74f44b603\",\"type\":\"LinearAxis\"}],\"left\":[{\"id\":\"64bf7e59-1b74-4097-a383-f8ddee01eff3\",\"type\":\"LinearAxis\"}],\"plot_height\":500,\"plot_width\":500,\"renderers\":[{\"id\":\"f927fc73-aeb4-4f01-bcb7-0fb74f44b603\",\"type\":\"LinearAxis\"},{\"id\":\"58de015c-1ca6-4b7a-9021-6004f629dcfe\",\"type\":\"Grid\"},{\"id\":\"64bf7e59-1b74-4097-a383-f8ddee01eff3\",\"type\":\"LinearAxis\"},{\"id\":\"bfcace31-a89f-4947-a7aa-203101a3c210\",\"type\":\"Grid\"},{\"id\":\"963e6a28-4333-42dd-8fc8-cb00d695f05b\",\"type\":\"BoxAnnotation\"},{\"id\":\"9f1881ae-5c6a-4aa3-a6e0-928596be88f6\",\"type\":\"BoxAnnotation\"},{\"id\":\"63e174d0-b9b7-4d08-aed8-fce192cc477b\",\"type\":\"PolyAnnotation\"},{\"id\":\"eaa80fa4-19da-4677-bfcb-004da776f9d3\",\"type\":\"PolyAnnotation\"},{\"id\":\"618c99db-5c79-495e-baca-9c00a0453a37\",\"type\":\"GlyphRenderer\"},{\"id\":\"8bfa1c3c-3328-460d-8e80-f0cd292bfe62\",\"type\":\"GlyphRenderer\"}],\"title\":{\"id\":\"224d84cb-e477-495b-93d3-bc52e22efcb3\",\"type\":\"Title\"},\"tool_events\":{\"id\":\"f2736819-b549-4f1d-9ad2-4b97402bd4e5\",\"type\":\"ToolEvents\"},\"toolbar\":{\"id\":\"1f758047-061d-4768-93e8-12c10d03bcaa\",\"type\":\"Toolbar\"},\"x_range\":{\"id\":\"e66ac0b5-8f72-42fd-bcc3-35c7de41b5ba\",\"type\":\"DataRange1d\"},\"y_range\":{\"id\":\"1c92a658-33c2-4268-a5cd-64cff8936c59\",\"type\":\"DataRange1d\"}},\"id\":\"767d76c2-31de-4e72-9e94-302f58180966\",\"subtype\":\"Figure\",\"type\":\"Plot\"},{\"attributes\":{},\"id\":\"f2736819-b549-4f1d-9ad2-4b97402bd4e5\",\"type\":\"ToolEvents\"},{\"attributes\":{\"plot\":{\"id\":\"767d76c2-31de-4e72-9e94-302f58180966\",\"subtype\":\"Figure\",\"type\":\"Plot\"}},\"id\":\"9b1cc04b-6ba5-417b-a96c-bd48df59e9d0\",\"type\":\"ResetTool\"},{\"attributes\":{\"data_source\":{\"id\":\"c95764a6-3738-427b-9386-4f484d91ae3d\",\"type\":\"ColumnDataSource\"},\"glyph\":{\"id\":\"e4142556-ce26-4fcf-874b-15ec14e22898\",\"type\":\"Line\"},\"hover_glyph\":null,\"nonselection_glyph\":{\"id\":\"7b99ac11-4d14-4159-9faa-b69e3202d511\",\"type\":\"Line\"},\"selection_glyph\":null},\"id\":\"8bfa1c3c-3328-460d-8e80-f0cd292bfe62\",\"type\":\"GlyphRenderer\"},{\"attributes\":{\"axis_label\":\"Predicted\",\"axis_label_text_color\":{\"value\":\"#aa6666\"},\"formatter\":{\"id\":\"870147d0-1f5d-491c-a449-5f7449cdae55\",\"type\":\"BasicTickFormatter\"},\"plot\":{\"id\":\"767d76c2-31de-4e72-9e94-302f58180966\",\"subtype\":\"Figure\",\"type\":\"Plot\"},\"ticker\":{\"id\":\"3e57498f-869f-4613-adba-13b8377e6bce\",\"type\":\"BasicTicker\"}},\"id\":\"64bf7e59-1b74-4097-a383-f8ddee01eff3\",\"type\":\"LinearAxis\"},{\"attributes\":{\"callback\":null,\"column_names\":[\"x\",\"y\"],\"data\":{\"x\":[26.7,21.7,22.0,22.9,10.4,21.9,20.6,26.4,41.3,17.2,27.1,20.4,16.5,24.4,8.4,23.0,9.7,50.0,30.5,12.3,19.4,21.2,20.3,18.8,33.4,18.5,19.6,33.2,13.1,7.5,13.6,17.4,8.4,35.4,24.0,13.4,26.2,7.2,13.1,24.5,37.2,25.0,24.1,16.6,32.9,36.2,11.0,7.2,22.8,28.7,14.4,24.4,18.1,22.5,20.5,15.2,17.4,13.6,8.7,18.2,35.4,31.7,33.0,22.2,20.4,23.9,25.0,12.7,29.1,12.0,17.7,27.0,20.6,10.2,17.5,19.7,29.8,20.5,14.9,10.9,19.5,22.7,19.5,24.6,25.0,24.5,50.0,14.3,11.8,31.0,28.7,16.2,43.5,25.0,22.0,19.9,22.1,46.0,22.9,20.2,43.1,34.6,13.8,24.3,21.5,24.4,21.2,23.8,26.6,25.1,9.6,19.4,19.4,9.5,14.0,26.5,13.8,34.7,16.3,21.7,17.5,15.6,20.9,21.7,12.7,18.5,23.7,19.3,12.7,21.6,23.2,29.6,21.2,23.8,17.1,22.0,36.5,18.8,21.9,23.1,20.2,17.4,37.0,24.1,36.2,15.7,32.2,13.5,17.9,13.3,11.7,41.7,18.4,13.1,25.0,21.2,16.0,34.9,25.2,24.8,21.5,23.4,18.9,10.8,21.0,27.5,17.5,13.5,28.7,14.8,19.1,28.6,13.1,19.0,11.3,13.3,22.4,20.1,18.2,22.9,20.6,25.0,12.8,34.9,23.7,50.0,29.0,30.1,22.0,15.6,23.3,30.1,14.3,22.8,50.0,20.8,6.3,34.9,32.4,19.9,20.3,17.8,23.1,20.4,23.2,7.0,16.8,46.7,50.0,22.9,23.9,21.4,21.7,15.4,15.3,23.1,23.9,19.4,11.9,17.8,31.5,33.8,20.8,19.8,22.4,5.0,24.5,19.4,15.1,18.2,19.3,27.1,20.7,37.6,11.7,33.4,30.1,21.4,45.4,20.1,20.8,26.4,10.4,21.8,32.0,21.7,18.4,37.9,17.8,28.0,28.2,36.0,18.9,15.0,22.5,30.7,20.0,19.1,23.3,26.6,21.1,19.7,20.0,12.1,7.2,14.2,17.3,27.5,22.2,10.9,19.2,32.0,14.5,24.7,12.6,24.0,24.1,50.0,16.1,43.8,26.6,36.1,21.8,29.9,50.0,44.0,20.6,19.6,28.4,19.1,22.3,20.9,28.4,14.4,32.7,13.8,8.5,22.5,35.1,31.6,17.8,15.6,20.7,39.8,17.8,19.6,14.9,22.0,48.8,25.0,48.5,23.9,20.3,15.2,10.5,19.0,16.4,8.8,22.0,24.8,50.0,19.3,22.7,37.3,31.6,8.3,23.1,50.0,13.9,16.1,25.3,19.5,10.2,19.9,35.2,13.4,24.7,11.5,23.4,16.7,15.4,18.0,28.5,18.4,32.5,50.0,50.0,19.6,17.6,42.3,14.5,13.2,16.2,29.6,16.7,13.0,22.3,13.4,5.0,19.5,14.6,22.0,8.1,24.6,33.2,20.6,14.1,14.1,21.1,30.3,23.7,21.4,18.3,8.5,22.8,22.8,22.2,13.9,25.0,18.5,7.0,22.6,20.1,30.8,31.1,23.8,12.5,23.6,23.2,24.2,22.2,27.9,22.2,33.1,19.3,18.9,22.6,50.0,24.8,18.5,36.4,19.2,16.6,23.1],\"y\":[28.44193548387097,22.475147928994065,22.475147928994065,21.576433121019104,11.591379310344827,21.576433121019104,22.475147928994065,22.475147928994065,36.10937500000001,12.21029411764706,16.878260869565217,16.904999999999998,16.878260869565217,17.106249999999996,11.591379310344827,21.576433121019104,11.601923076923075,44.9076923076923,28.44193548387097,11.601923076923075,16.904999999999998,21.576433121019104,22.475147928994065,16.904999999999998,32.3551724137931,16.904999999999998,22.475147928994065,32.3551724137931,12.21029411764706,11.601923076923075,12.21029411764706,21.576433121019104,12.21029411764706,32.3551724137931,21.576433121019104,11.601923076923075,25.895698924731178,11.591379310344827,11.591379310344827,21.576433121019104,34.69591836734696,25.749206349206343,25.271014492753636,19.180246913580255,36.65384615384615,34.756250000000016,15.643999999999998,10.599999999999998,27.0913043478261,25.749206349206343,15.690909090909088,25.749206349206343,16.720512820512816,25.271014492753636,18.18378378378378,16.720512820512816,20.978571428571424,16.720512820512816,11.250819672131144,20.978571428571424,32.25384615384616,32.25384615384616,32.25384615384616,20.978571428571424,25.271014492753636,25.271014492753636,25.271014492753636,11.250819672131144,27.0913043478261,11.250819672131144,19.180246913580255,25.271014492753636,20.978571428571424,10.599999999999998,18.18378378378378,18.18378378378378,20.978571428571424,23.26153846153845,15.690909090909088,16.720512820512816,20.978571428571424,20.978571428571424,17.439344262295084,25.737647058823523,25.796774193548394,26.026229508196728,36.7,17.386956521739123,13.087179487179489,25.796774193548394,33.36419753086419,21.4125,47.23809523809524,25.737647058823523,23.400000000000002,20.5606557377049,25.737647058823523,46.51111111111111,23.400000000000002,20.5606557377049,46.51111111111111,35.39090909090908,13.087179487179489,23.616883116883116,20.5606557377049,25.737647058823523,22.467647058823538,21.4125,26.026229508196728,23.400000000000002,15.97659574468085,21.4125,21.4125,13.087179487179489,14.834482758620691,29.8325581395349,13.087179487179489,34.44090909090909,13.087179487179489,17.439344262295084,19.00666666666666,14.834482758620691,22.467647058823538,20.362385321100923,16.991999999999994,20.9221052631579,25.258536585365853,20.799999999999983,16.991999999999994,22.881159420289862,20.9221052631579,29.03406593406594,20.9221052631579,20.9221052631579,10.829545454545455,20.799999999999983,27.20408163265307,20.799999999999983,47.02,25.258536585365853,20.9221052631579,16.069117647058818,29.03406593406594,25.258536585365853,22.881159420289862,16.069117647058818,27.20408163265307,16.991999999999994,11.191891891891894,11.191891891891894,16.991999999999994,46.605555555555554,20.362385321100923,17.903092783505148,29.03406593406594,22.881159420289862,20.799999999999983,32.730000000000004,25.258536585365853,23.144262295081955,20.799999999999983,25.258536585365853,20.9221052631579,10.829545454545455,20.465263157894743,25.38541666666666,21.10681818181819,15.423529411764699,23.03768115942029,17.277142857142863,17.277142857142863,25.38541666666666,15.423529411764699,21.10681818181819,11.50363636363636,15.423529411764699,17.439999999999998,20.465263157894743,26.119444444444436,26.119444444444436,28.684328358208944,23.03768115942029,11.50363636363636,32.26153846153845,17.277142857142863,46.36785714285715,26.119444444444436,28.684328358208944,25.38541666666666,17.439999999999998,22.73175675675675,25.38541666666666,15.423529411764699,23.671052631578945,46.36785714285715,20.465263157894743,11.50363636363636,35.599999999999994,30.278260869565205,20.465263157894743,23.03768115942029,17.277142857142863,21.10681818181819,22.73175675675675,25.644067796610166,11.955769230769228,19.228124999999995,35.31153846153846,47.76333333333333,25.644067796610166,29.12985074626864,15.769230769230766,19.228124999999995,15.550000000000006,15.769230769230766,25.644067796610166,28.15270270270271,19.01573033707865,11.955769230769228,13.11428571428571,32.68222222222224,28.35454545454546,21.170940170940153,19.228124999999995,21.170940170940153,11.955769230769228,21.170940170940153,25.644067796610166,13.11428571428571,19.228124999999995,24.195000000000007,25.644067796610166,19.477272727272723,47.311764705882354,19.01573033707865,32.68222222222224,28.15270270270271,18.354444444444443,47.76333333333333,19.477272727272723,21.170940170940153,19.477272727272723,12.10952380952381,19.228124999999995,34.482692307692304,21.75625000000001,11.706451612903216,34.482692307692304,20.201515151515153,28.302777777777777,33.938709677419354,33.938709677419354,21.75625000000001,20.221839080459766,21.75625000000001,29.56923076923077,21.75625000000001,18.3962962962963,23.990909090909085,33.938709677419354,21.75625000000001,21.75625000000001,18.454999999999995,11.439655172413792,11.439655172413792,12.948780487804877,11.706451612903216,22.298809523809517,23.990909090909085,11.439655172413792,20.221839080459766,33.938709677419354,16.3264705882353,23.990909090909085,16.3264705882353,24.667500000000004,23.990909090909085,23.990909090909085,20.221839080459766,39.284210526315796,30.772222222222222,33.938709677419354,21.75625000000001,33.938709677419354,46.775,46.27777777777777,21.150746268656725,20.946315789473687,25.683076923076918,11.783582089552237,21.150746268656725,23.27794117647059,26.39829059829059,16.498750000000005,32.06097560975609,9.941935483870965,11.783582089552237,17.411864406779657,31.560869565217402,32.06097560975609,16.23452380952381,16.23452380952381,24.186585365853663,35.41250000000001,11.892000000000001,20.946315789473687,11.892000000000001,26.39829059829059,35.41250000000001,24.186585365853663,36.95384615384616,23.27794117647059,21.150746268656725,16.498750000000005,9.941935483870965,16.498750000000005,16.498750000000005,9.941935483870965,24.186585365853663,24.186585365853663,35.41250000000001,21.150746268656725,20.946315789473687,35.41250000000001,32.1875,10.247222222222222,24.653246753246762,35.57441860465116,10.247222222222222,18.36534653465346,25.28172043010752,18.87647058823529,10.247222222222222,18.87647058823529,45.79999999999999,14.24666666666667,19.520634920634922,10.247222222222222,25.28172043010752,12.772839506172842,14.464285714285714,14.952173913043476,32.925000000000004,19.520634920634922,25.58947368421053,34.917647058823526,46.45,14.952173913043476,19.520634920634922,46.45,19.520634920634922,18.87647058823529,14.952173913043476,19.520634920634922,18.36534653465346,18.36534653465346,24.653246753246762,12.772839506172842,10.247222222222222,19.361344537815125,12.772839506172842,25.28172043010752,14.952173913043476,24.653246753246762,34.54583333333334,24.20919540229885,13.592307692307697,15.599999999999996,26.00441176470588,35.030158730158746,26.00441176470588,20.653043478260862,19.000746268656723,10.724999999999998,20.653043478260862,26.00441176470588,26.00441176470588,18.01052631578947,21.382812500000004,20.653043478260862,12.819512195121943,23.669565217391288,19.063492063492056,26.04303797468354,26.083333333333332,24.20919540229885,15.599999999999996,30.2462962962963,19.063492063492056,26.00441176470588,24.20919540229885,26.04303797468354,20.653043478260862,30.2462962962963,18.01052631578947,18.01052631578947,20.653043478260862,45.83,26.083333333333332,20.653043478260862,34.54583333333334,20.653043478260862,18.01052631578947,19.063492063492056]}},\"id\":\"9b90b108-c3aa-41ff-b0a8-e785a93f2091\",\"type\":\"ColumnDataSource\"},{\"attributes\":{\"bottom_units\":\"screen\",\"fill_alpha\":{\"value\":0.5},\"fill_color\":{\"value\":\"lightgrey\"},\"left_units\":\"screen\",\"level\":\"overlay\",\"line_alpha\":{\"value\":1.0},\"line_color\":{\"value\":\"black\"},\"line_dash\":[4,4],\"line_width\":{\"value\":2},\"plot\":null,\"render_mode\":\"css\",\"right_units\":\"screen\",\"top_units\":\"screen\"},\"id\":\"9f1881ae-5c6a-4aa3-a6e0-928596be88f6\",\"type\":\"BoxAnnotation\"},{\"attributes\":{\"plot\":{\"id\":\"767d76c2-31de-4e72-9e94-302f58180966\",\"subtype\":\"Figure\",\"type\":\"Plot\"}},\"id\":\"3a40b842-c844-4900-934d-273dd920c8ef\",\"type\":\"ResizeTool\"},{\"attributes\":{\"axis_label\":\"Measured\",\"axis_label_text_color\":{\"value\":\"#aa6666\"},\"formatter\":{\"id\":\"b9ceef48-c10f-4203-9d2f-5b5c178c6929\",\"type\":\"BasicTickFormatter\"},\"major_tick_line_color\":{\"value\":\"firebrick\"},\"major_tick_line_width\":{\"value\":3},\"minor_tick_line_color\":{\"value\":\"orange\"},\"plot\":{\"id\":\"767d76c2-31de-4e72-9e94-302f58180966\",\"subtype\":\"Figure\",\"type\":\"Plot\"},\"ticker\":{\"id\":\"d4d2cf49-0991-4ad5-a7b9-7f862294aabd\",\"type\":\"BasicTicker\"}},\"id\":\"f927fc73-aeb4-4f01-bcb7-0fb74f44b603\",\"type\":\"LinearAxis\"},{\"attributes\":{\"plot\":{\"id\":\"767d76c2-31de-4e72-9e94-302f58180966\",\"subtype\":\"Figure\",\"type\":\"Plot\"},\"ticker\":{\"id\":\"d4d2cf49-0991-4ad5-a7b9-7f862294aabd\",\"type\":\"BasicTicker\"}},\"id\":\"58de015c-1ca6-4b7a-9021-6004f629dcfe\",\"type\":\"Grid\"},{\"attributes\":{\"bottom_units\":\"screen\",\"fill_alpha\":{\"value\":0.5},\"fill_color\":{\"value\":\"lightgrey\"},\"left_units\":\"screen\",\"level\":\"overlay\",\"line_alpha\":{\"value\":1.0},\"line_color\":{\"value\":\"black\"},\"line_dash\":[4,4],\"line_width\":{\"value\":2},\"plot\":null,\"render_mode\":\"css\",\"right_units\":\"screen\",\"top_units\":\"screen\"},\"id\":\"963e6a28-4333-42dd-8fc8-cb00d695f05b\",\"type\":\"BoxAnnotation\"},{\"attributes\":{\"dimension\":1,\"plot\":{\"id\":\"767d76c2-31de-4e72-9e94-302f58180966\",\"subtype\":\"Figure\",\"type\":\"Plot\"},\"ticker\":{\"id\":\"3e57498f-869f-4613-adba-13b8377e6bce\",\"type\":\"BasicTicker\"}},\"id\":\"bfcace31-a89f-4947-a7aa-203101a3c210\",\"type\":\"Grid\"},{\"attributes\":{\"plot\":{\"id\":\"767d76c2-31de-4e72-9e94-302f58180966\",\"subtype\":\"Figure\",\"type\":\"Plot\"}},\"id\":\"41a63427-874d-4395-b1cc-569d8ea658c7\",\"type\":\"UndoTool\"},{\"attributes\":{\"plot\":{\"id\":\"767d76c2-31de-4e72-9e94-302f58180966\",\"subtype\":\"Figure\",\"type\":\"Plot\"}},\"id\":\"ba60bf9d-7712-4fb4-8d84-48b4d1dc783a\",\"type\":\"CrosshairTool\"},{\"attributes\":{\"callback\":null},\"id\":\"e66ac0b5-8f72-42fd-bcc3-35c7de41b5ba\",\"type\":\"DataRange1d\"},{\"attributes\":{\"plot\":{\"id\":\"767d76c2-31de-4e72-9e94-302f58180966\",\"subtype\":\"Figure\",\"type\":\"Plot\"}},\"id\":\"c4bfa47a-94d1-42cc-8c5d-ebc12e555fc9\",\"type\":\"WheelZoomTool\"},{\"attributes\":{},\"id\":\"d4d2cf49-0991-4ad5-a7b9-7f862294aabd\",\"type\":\"BasicTicker\"},{\"attributes\":{\"callback\":null,\"column_names\":[\"y\",\"x\"],\"data\":{\"x\":[5.0,50.0],\"y\":[5.0,50.0]}},\"id\":\"c95764a6-3738-427b-9386-4f484d91ae3d\",\"type\":\"ColumnDataSource\"},{\"attributes\":{\"line_alpha\":{\"value\":0.1},\"line_color\":{\"value\":\"#1f77b4\"},\"line_dash\":[4,4],\"line_width\":{\"value\":2},\"x\":{\"field\":\"x\"},\"y\":{\"field\":\"y\"}},\"id\":\"7b99ac11-4d14-4159-9faa-b69e3202d511\",\"type\":\"Line\"},{\"attributes\":{\"overlay\":{\"id\":\"eaa80fa4-19da-4677-bfcb-004da776f9d3\",\"type\":\"PolyAnnotation\"},\"plot\":{\"id\":\"767d76c2-31de-4e72-9e94-302f58180966\",\"subtype\":\"Figure\",\"type\":\"Plot\"}},\"id\":\"cf842cc3-c34a-4c0d-9bb1-a7dd495c3e8f\",\"type\":\"PolySelectTool\"},{\"attributes\":{\"plot\":{\"id\":\"767d76c2-31de-4e72-9e94-302f58180966\",\"subtype\":\"Figure\",\"type\":\"Plot\"}},\"id\":\"6b19d5ff-1455-4950-b2b9-a79c94045e1b\",\"type\":\"SaveTool\"}],\"root_ids\":[\"767d76c2-31de-4e72-9e94-302f58180966\"]},\"title\":\"Bokeh Application\",\"version\":\"0.12.0\"}};\n",
       "            var render_items = [{\"docid\":\"30a5f85d-82c9-40d3-8be6-1b0664dae231\",\"elementid\":\"1f1ea91a-ec61-4839-bf9f-cd9dd35dc939\",\"modelid\":\"767d76c2-31de-4e72-9e94-302f58180966\",\"notebook_comms_target\":\"b2c03a20-1591-4daf-9195-29303f2c10a0\"}];\n",
       "            \n",
       "            Bokeh.embed.embed_items(docs_json, render_items);\n",
       "        });\n",
       "      },\n",
       "      function(Bokeh) {\n",
       "      }\n",
       "    ];\n",
       "  \n",
       "    function run_inline_js() {\n",
       "      for (var i = 0; i < inline_js.length; i++) {\n",
       "        inline_js[i](window.Bokeh);\n",
       "      }\n",
       "    }\n",
       "  \n",
       "    if (window._bokeh_is_loading === 0) {\n",
       "      console.log(\"Bokeh: BokehJS loaded, going straight to plotting\");\n",
       "      run_inline_js();\n",
       "    } else {\n",
       "      load_libs(js_urls, function() {\n",
       "        console.log(\"Bokeh: BokehJS plotting callback run at\", now());\n",
       "        run_inline_js();\n",
       "      });\n",
       "    }\n",
       "  }(this));\n",
       "</script>"
      ]
     },
     "metadata": {},
     "output_type": "display_data"
    },
    {
     "data": {
      "text/html": [
       "<p><code>&lt;Bokeh Notebook handle for <strong>In[20]</strong>&gt;</code></p>"
      ],
      "text/plain": [
       "<bokeh.io._CommsHandle at 0x10f805950>"
      ]
     },
     "execution_count": 20,
     "metadata": {},
     "output_type": "execute_result"
    }
   ],
   "source": [
    "# Plotining using bokeh\n",
    "#TOOLS = [BoxSelectTool(), HoverTool()]\n",
    "#TOOLS = 'hover,box_zoom,box_select,crosshair,resize,reset,DecisionTreeRegressor_select,pan,save,poly_select,tap,wheel_zoom,undo'\n",
    "TOOLS = 'box_zoom,box_select,crosshair,resize,reset,lasso_select,pan,save,poly_select,tap,wheel_zoom,undo'\n",
    "p = figure(plot_width=500, plot_height=500, tools=TOOLS)\n",
    "p.scatter(Y, predicted,x=\"jjj\", marker=\"o\", color=\"#80B1D3\", line_width=3)\n",
    "p.title.align = \"center\"\n",
    "p.xaxis.axis_label = \"Measured\"\n",
    "p.xaxis.axis_label_text_color = \"#aa6666\"\n",
    "#p.xaxis.axis_label_standoff = 30\n",
    "p.xaxis.major_tick_line_color = \"firebrick\"\n",
    "p.xaxis.major_tick_line_width = 3\n",
    "p.xaxis.minor_tick_line_color = \"orange\"\n",
    "p.yaxis.axis_label = \"Predicted\"\n",
    "p.yaxis.axis_label_text_font_style = \"italic\"\n",
    "p.yaxis.axis_label_text_color = \"#aa6666\"\n",
    "p.background_fill_color = \"beige\"\n",
    "p.background_fill_alpha = 0.5\n",
    "#p.line([Y.min(), Y.max()], [Y.min(), Y.max()], line_dash=\"4 4\", line_width=2, color='red')\n",
    "\n",
    "# create a new plot with the toolbar below\n",
    "# line_dash=\"4 4\", line_width=2, color='red'\n",
    "p.line([Y.min(), Y.max()], [Y.min(), Y.max()], line_dash=\"4 4\", line_width=2, line_color=\"black\")\n",
    "show(p)"
   ]
  },
  {
   "cell_type": "code",
   "execution_count": 21,
   "metadata": {
    "collapsed": false
   },
   "outputs": [
    {
     "data": {
      "text/plain": [
       "<matplotlib.text.Text at 0x10f7fa150>"
      ]
     },
     "execution_count": 21,
     "metadata": {},
     "output_type": "execute_result"
    },
    {
     "data": {
      "image/png": "[encoded data removed]",
      "text/plain": [
       "<matplotlib.figure.Figure at 0x10f71bad0>"
      ]
     },
     "metadata": {},
     "output_type": "display_data"
    }
   ],
   "source": [
    "plt.scatter(predicted, (predicted - Y), c='r', s=30)\n",
    "plt.title(\"Residual plot on the training data\")\n",
    "plt.xlabel(\"Predicted\")\n",
    "plt.ylabel(\"Residuals\")"
   ]
  },
  {
   "cell_type": "code",
   "execution_count": 22,
   "metadata": {
    "collapsed": false
   },
   "outputs": [
    {
     "data": {
      "text/html": [
       "\n",
       "\n",
       "    <div class=\"bk-root\">\n",
       "        <div class=\"plotdiv\" id=\"42820751-b5ea-41a8-9a37-7e1bf844a5e7\"></div>\n",
       "    </div>\n",
       "<script type=\"text/javascript\">\n",
       "  \n",
       "  (function(global) {\n",
       "    function now() {\n",
       "      return new Date();\n",
       "    }\n",
       "  \n",
       "    if (typeof (window._bokeh_onload_callbacks) === \"undefined\") {\n",
       "      window._bokeh_onload_callbacks = [];\n",
       "    }\n",
       "  \n",
       "    function run_callbacks() {\n",
       "      window._bokeh_onload_callbacks.forEach(function(callback) { callback() });\n",
       "      delete window._bokeh_onload_callbacks\n",
       "      console.info(\"Bokeh: all callbacks have finished\");\n",
       "    }\n",
       "  \n",
       "    function load_libs(js_urls, callback) {\n",
       "      window._bokeh_onload_callbacks.push(callback);\n",
       "      if (window._bokeh_is_loading > 0) {\n",
       "        console.log(\"Bokeh: BokehJS is being loaded, scheduling callback at\", now());\n",
       "        return null;\n",
       "      }\n",
       "      if (js_urls == null || js_urls.length === 0) {\n",
       "        run_callbacks();\n",
       "        return null;\n",
       "      }\n",
       "      console.log(\"Bokeh: BokehJS not loaded, scheduling load and callback at\", now());\n",
       "      window._bokeh_is_loading = js_urls.length;\n",
       "      for (var i = 0; i < js_urls.length; i++) {\n",
       "        var url = js_urls[i];\n",
       "        var s = document.createElement('script');\n",
       "        s.src = url;\n",
       "        s.async = false;\n",
       "        s.onreadystatechange = s.onload = function() {\n",
       "          window._bokeh_is_loading--;\n",
       "          if (window._bokeh_is_loading === 0) {\n",
       "            console.log(\"Bokeh: all BokehJS libraries loaded\");\n",
       "            run_callbacks()\n",
       "          }\n",
       "        };\n",
       "        s.onerror = function() {\n",
       "          console.warn(\"failed to load library \" + url);\n",
       "        };\n",
       "        console.log(\"Bokeh: injecting script tag for BokehJS library: \", url);\n",
       "        document.getElementsByTagName(\"head\")[0].appendChild(s);\n",
       "      }\n",
       "    };var element = document.getElementById(\"42820751-b5ea-41a8-9a37-7e1bf844a5e7\");\n",
       "    if (element == null) {\n",
       "      console.log(\"Bokeh: ERROR: autoload.js configured with elementid '42820751-b5ea-41a8-9a37-7e1bf844a5e7' but no matching script tag was found. \")\n",
       "      return false;\n",
       "    }\n",
       "  \n",
       "    var js_urls = [];\n",
       "  \n",
       "    var inline_js = [\n",
       "      function(Bokeh) {\n",
       "        Bokeh.$(function() {\n",
       "            var docs_json = {\"4fc96156-4569-47eb-a779-642bf44d6a60\":{\"roots\":{\"references\":[{\"attributes\":{\"plot\":{\"id\":\"ff8c99d0-1418-4b86-9e32-57a1e06828c9\",\"subtype\":\"Figure\",\"type\":\"Plot\"}},\"id\":\"8c4308ef-276d-4bbd-a022-fba1f35d8701\",\"type\":\"UndoTool\"},{\"attributes\":{},\"id\":\"1e13aab7-673d-42f3-adec-7429f51b73de\",\"type\":\"BasicTicker\"},{\"attributes\":{\"fill_alpha\":{\"value\":0.5},\"fill_color\":{\"value\":\"lightgrey\"},\"level\":\"overlay\",\"line_alpha\":{\"value\":1.0},\"line_color\":{\"value\":\"black\"},\"line_dash\":[4,4],\"line_width\":{\"value\":2},\"plot\":null,\"xs_units\":\"screen\",\"ys_units\":\"screen\"},\"id\":\"75464d20-520f-4316-8503-224e8081ce93\",\"type\":\"PolyAnnotation\"},{\"attributes\":{\"axis_label\":\"Predicted\",\"axis_label_text_color\":{\"value\":\"#aa6666\"},\"formatter\":{\"id\":\"e9f29ca4-d7d0-4e29-83eb-ed1b0ea47f5b\",\"type\":\"BasicTickFormatter\"},\"major_tick_line_color\":{\"value\":\"firebrick\"},\"major_tick_line_width\":{\"value\":3},\"minor_tick_line_color\":{\"value\":\"orange\"},\"plot\":{\"id\":\"ff8c99d0-1418-4b86-9e32-57a1e06828c9\",\"subtype\":\"Figure\",\"type\":\"Plot\"},\"ticker\":{\"id\":\"1e13aab7-673d-42f3-adec-7429f51b73de\",\"type\":\"BasicTicker\"}},\"id\":\"0687672c-e809-4f00-b55a-952659857973\",\"type\":\"LinearAxis\"},{\"attributes\":{\"callback\":null,\"overlay\":{\"id\":\"75464d20-520f-4316-8503-224e8081ce93\",\"type\":\"PolyAnnotation\"},\"plot\":{\"id\":\"ff8c99d0-1418-4b86-9e32-57a1e06828c9\",\"subtype\":\"Figure\",\"type\":\"Plot\"}},\"id\":\"f1e8b636-21a0-4bb4-8b0f-45ac83b8f0f4\",\"type\":\"LassoSelectTool\"},{\"attributes\":{\"axis_label\":\"Residuals\",\"axis_label_text_color\":{\"value\":\"#aa6666\"},\"formatter\":{\"id\":\"c8891611-e04d-4adb-8d74-aab7b1b36ed8\",\"type\":\"BasicTickFormatter\"},\"plot\":{\"id\":\"ff8c99d0-1418-4b86-9e32-57a1e06828c9\",\"subtype\":\"Figure\",\"type\":\"Plot\"},\"ticker\":{\"id\":\"3100b8c3-eed7-43e7-950a-9ab14e1eb76a\",\"type\":\"BasicTicker\"}},\"id\":\"274885f3-8f16-40fc-a719-d78a21a7a470\",\"type\":\"LinearAxis\"},{\"attributes\":{\"align\":\"center\",\"plot\":null,\"text\":\"Residual plot on the training data\"},\"id\":\"1c50d921-eae6-4546-a2c6-2e0fa8fd9cdc\",\"type\":\"Title\"},{\"attributes\":{\"callback\":null,\"plot\":{\"id\":\"ff8c99d0-1418-4b86-9e32-57a1e06828c9\",\"subtype\":\"Figure\",\"type\":\"Plot\"}},\"id\":\"e3e6e94c-8b22-4215-95cb-4fd976adc85d\",\"type\":\"TapTool\"},{\"attributes\":{\"active_drag\":\"auto\",\"active_scroll\":\"auto\",\"active_tap\":\"auto\",\"tools\":[{\"id\":\"7095c237-85e2-46d8-9076-07e74a2aa6d9\",\"type\":\"BoxZoomTool\"},{\"id\":\"cac95390-46f8-4179-ab77-d60eed7aa0d6\",\"type\":\"BoxSelectTool\"},{\"id\":\"16cfd6b5-eb38-4fd6-a565-2992a171182d\",\"type\":\"CrosshairTool\"},{\"id\":\"80443b0b-00b8-4ea2-b694-dea89d7aad17\",\"type\":\"ResizeTool\"},{\"id\":\"c0855543-2b66-4f3e-9ca7-3e85f1efbff9\",\"type\":\"ResetTool\"},{\"id\":\"f1e8b636-21a0-4bb4-8b0f-45ac83b8f0f4\",\"type\":\"LassoSelectTool\"},{\"id\":\"ad4ff332-4ff9-450c-81aa-7265b319dd15\",\"type\":\"PanTool\"},{\"id\":\"e9124138-6697-4182-b2cc-ccc673bff44d\",\"type\":\"SaveTool\"},{\"id\":\"79831506-9e38-4576-93eb-5391d9325480\",\"type\":\"PolySelectTool\"},{\"id\":\"e3e6e94c-8b22-4215-95cb-4fd976adc85d\",\"type\":\"TapTool\"},{\"id\":\"45d625b7-61ee-4bae-904f-6da4551cea64\",\"type\":\"WheelZoomTool\"},{\"id\":\"8c4308ef-276d-4bbd-a022-fba1f35d8701\",\"type\":\"UndoTool\"}]},\"id\":\"726b451a-afd2-4e86-b825-d942e1a7224d\",\"type\":\"Toolbar\"},{\"attributes\":{\"callback\":null,\"column_names\":[\"x\",\"y\"],\"data\":{\"x\":[28.44193548387097,22.475147928994065,22.475147928994065,21.576433121019104,11.591379310344827,21.576433121019104,22.475147928994065,22.475147928994065,36.10937500000001,12.21029411764706,16.878260869565217,16.904999999999998,16.878260869565217,17.106249999999996,11.591379310344827,21.576433121019104,11.601923076923075,44.9076923076923,28.44193548387097,11.601923076923075,16.904999999999998,21.576433121019104,22.475147928994065,16.904999999999998,32.3551724137931,16.904999999999998,22.475147928994065,32.3551724137931,12.21029411764706,11.601923076923075,12.21029411764706,21.576433121019104,12.21029411764706,32.3551724137931,21.576433121019104,11.601923076923075,25.895698924731178,11.591379310344827,11.591379310344827,21.576433121019104,34.69591836734696,25.749206349206343,25.271014492753636,19.180246913580255,36.65384615384615,34.756250000000016,15.643999999999998,10.599999999999998,27.0913043478261,25.749206349206343,15.690909090909088,25.749206349206343,16.720512820512816,25.271014492753636,18.18378378378378,16.720512820512816,20.978571428571424,16.720512820512816,11.250819672131144,20.978571428571424,32.25384615384616,32.25384615384616,32.25384615384616,20.978571428571424,25.271014492753636,25.271014492753636,25.271014492753636,11.250819672131144,27.0913043478261,11.250819672131144,19.180246913580255,25.271014492753636,20.978571428571424,10.599999999999998,18.18378378378378,18.18378378378378,20.978571428571424,23.26153846153845,15.690909090909088,16.720512820512816,20.978571428571424,20.978571428571424,17.439344262295084,25.737647058823523,25.796774193548394,26.026229508196728,36.7,17.386956521739123,13.087179487179489,25.796774193548394,33.36419753086419,21.4125,47.23809523809524,25.737647058823523,23.400000000000002,20.5606557377049,25.737647058823523,46.51111111111111,23.400000000000002,20.5606557377049,46.51111111111111,35.39090909090908,13.087179487179489,23.616883116883116,20.5606557377049,25.737647058823523,22.467647058823538,21.4125,26.026229508196728,23.400000000000002,15.97659574468085,21.4125,21.4125,13.087179487179489,14.834482758620691,29.8325581395349,13.087179487179489,34.44090909090909,13.087179487179489,17.439344262295084,19.00666666666666,14.834482758620691,22.467647058823538,20.362385321100923,16.991999999999994,20.9221052631579,25.258536585365853,20.799999999999983,16.991999999999994,22.881159420289862,20.9221052631579,29.03406593406594,20.9221052631579,20.9221052631579,10.829545454545455,20.799999999999983,27.20408163265307,20.799999999999983,47.02,25.258536585365853,20.9221052631579,16.069117647058818,29.03406593406594,25.258536585365853,22.881159420289862,16.069117647058818,27.20408163265307,16.991999999999994,11.191891891891894,11.191891891891894,16.991999999999994,46.605555555555554,20.362385321100923,17.903092783505148,29.03406593406594,22.881159420289862,20.799999999999983,32.730000000000004,25.258536585365853,23.144262295081955,20.799999999999983,25.258536585365853,20.9221052631579,10.829545454545455,20.465263157894743,25.38541666666666,21.10681818181819,15.423529411764699,23.03768115942029,17.277142857142863,17.277142857142863,25.38541666666666,15.423529411764699,21.10681818181819,11.50363636363636,15.423529411764699,17.439999999999998,20.465263157894743,26.119444444444436,26.119444444444436,28.684328358208944,23.03768115942029,11.50363636363636,32.26153846153845,17.277142857142863,46.36785714285715,26.119444444444436,28.684328358208944,25.38541666666666,17.439999999999998,22.73175675675675,25.38541666666666,15.423529411764699,23.671052631578945,46.36785714285715,20.465263157894743,11.50363636363636,35.599999999999994,30.278260869565205,20.465263157894743,23.03768115942029,17.277142857142863,21.10681818181819,22.73175675675675,25.644067796610166,11.955769230769228,19.228124999999995,35.31153846153846,47.76333333333333,25.644067796610166,29.12985074626864,15.769230769230766,19.228124999999995,15.550000000000006,15.769230769230766,25.644067796610166,28.15270270270271,19.01573033707865,11.955769230769228,13.11428571428571,32.68222222222224,28.35454545454546,21.170940170940153,19.228124999999995,21.170940170940153,11.955769230769228,21.170940170940153,25.644067796610166,13.11428571428571,19.228124999999995,24.195000000000007,25.644067796610166,19.477272727272723,47.311764705882354,19.01573033707865,32.68222222222224,28.15270270270271,18.354444444444443,47.76333333333333,19.477272727272723,21.170940170940153,19.477272727272723,12.10952380952381,19.228124999999995,34.482692307692304,21.75625000000001,11.706451612903216,34.482692307692304,20.201515151515153,28.302777777777777,33.938709677419354,33.938709677419354,21.75625000000001,20.221839080459766,21.75625000000001,29.56923076923077,21.75625000000001,18.3962962962963,23.990909090909085,33.938709677419354,21.75625000000001,21.75625000000001,18.454999999999995,11.439655172413792,11.439655172413792,12.948780487804877,11.706451612903216,22.298809523809517,23.990909090909085,11.439655172413792,20.221839080459766,33.938709677419354,16.3264705882353,23.990909090909085,16.3264705882353,24.667500000000004,23.990909090909085,23.990909090909085,20.221839080459766,39.284210526315796,30.772222222222222,33.938709677419354,21.75625000000001,33.938709677419354,46.775,46.27777777777777,21.150746268656725,20.946315789473687,25.683076923076918,11.783582089552237,21.150746268656725,23.27794117647059,26.39829059829059,16.498750000000005,32.06097560975609,9.941935483870965,11.783582089552237,17.411864406779657,31.560869565217402,32.06097560975609,16.23452380952381,16.23452380952381,24.186585365853663,35.41250000000001,11.892000000000001,20.946315789473687,11.892000000000001,26.39829059829059,35.41250000000001,24.186585365853663,36.95384615384616,23.27794117647059,21.150746268656725,16.498750000000005,9.941935483870965,16.498750000000005,16.498750000000005,9.941935483870965,24.186585365853663,24.186585365853663,35.41250000000001,21.150746268656725,20.946315789473687,35.41250000000001,32.1875,10.247222222222222,24.653246753246762,35.57441860465116,10.247222222222222,18.36534653465346,25.28172043010752,18.87647058823529,10.247222222222222,18.87647058823529,45.79999999999999,14.24666666666667,19.520634920634922,10.247222222222222,25.28172043010752,12.772839506172842,14.464285714285714,14.952173913043476,32.925000000000004,19.520634920634922,25.58947368421053,34.917647058823526,46.45,14.952173913043476,19.520634920634922,46.45,19.520634920634922,18.87647058823529,14.952173913043476,19.520634920634922,18.36534653465346,18.36534653465346,24.653246753246762,12.772839506172842,10.247222222222222,19.361344537815125,12.772839506172842,25.28172043010752,14.952173913043476,24.653246753246762,34.54583333333334,24.20919540229885,13.592307692307697,15.599999999999996,26.00441176470588,35.030158730158746,26.00441176470588,20.653043478260862,19.000746268656723,10.724999999999998,20.653043478260862,26.00441176470588,26.00441176470588,18.01052631578947,21.382812500000004,20.653043478260862,12.819512195121943,23.669565217391288,19.063492063492056,26.04303797468354,26.083333333333332,24.20919540229885,15.599999999999996,30.2462962962963,19.063492063492056,26.00441176470588,24.20919540229885,26.04303797468354,20.653043478260862,30.2462962962963,18.01052631578947,18.01052631578947,20.653043478260862,45.83,26.083333333333332,20.653043478260862,34.54583333333334,20.653043478260862,18.01052631578947,19.063492063492056],\"y\":[1.7419354838709715,0.7751479289940661,0.47514792899406544,-1.3235668789808948,1.1913793103448267,-0.32356687898089476,1.875147928994064,-3.924852071005933,-5.19062499999999,-4.98970588235294,-10.221739130434784,-3.495000000000001,0.3782608695652172,-7.293750000000003,3.1913793103448267,-1.4235668789808962,1.901923076923076,-5.092307692307699,-2.058064516129029,-0.6980769230769255,-2.495000000000001,0.37643312101910453,2.1751479289940647,-1.8950000000000031,-1.0448275862068996,-1.5950000000000024,2.875147928994064,-0.8448275862069039,-0.8897058823529402,4.101923076923075,-1.3897058823529402,4.176433121019105,3.810294117647059,-3.0448275862068996,-2.423566878980896,-1.7980769230769251,-0.3043010752688211,4.391379310344827,-1.5086206896551726,-2.923566878980896,-2.5040816326530404,0.749206349206343,1.1710144927536348,2.580246913580254,3.7538461538461547,-1.4437499999999872,4.643999999999998,3.3999999999999977,4.291304347826099,-2.9507936507936563,1.2909090909090875,1.3492063492063444,-1.3794871794871852,2.771014492753636,-2.316216216216219,1.5205128205128169,3.5785714285714256,3.1205128205128165,2.5508196721311442,2.778571428571425,-3.1461538461538368,0.5538461538461625,-0.7461538461538382,-1.221428571428575,4.871014492753638,1.3710144927536376,0.2710144927536362,-1.4491803278688558,-2.008695652173902,-0.7491803278688565,1.480246913580256,-1.7289855072463638,0.3785714285714228,0.3999999999999986,0.683783783783781,-1.5162162162162183,-8.821428571428577,2.76153846153845,0.7909090909090875,5.820512820512816,1.4785714285714242,-1.721428571428575,-2.0606557377049164,1.1376470588235215,0.7967741935483943,1.526229508196728,-13.299999999999997,3.086956521739122,1.287179487179488,-5.203225806451606,4.66419753086419,5.212500000000002,3.738095238095241,0.7376470588235229,1.4000000000000021,0.6606557377049,3.6376470588235215,0.5111111111111128,0.5000000000000036,0.36065573770489934,3.4111111111111114,0.7909090909090821,-0.7128205128205121,-0.6831168831168846,-0.9393442622951014,1.3376470588235243,1.2676470588235382,-2.3874999999999993,-0.5737704918032733,-1.6999999999999993,6.37659574468085,2.012500000000003,2.012500000000003,3.5871794871794886,0.8344827586206911,3.3325581395348998,-0.7128205128205121,-0.25909090909091503,-3.212820512820512,-4.260655737704916,1.5066666666666606,-0.7655172413793085,1.567647058823539,-1.337614678899076,4.2919999999999945,2.422105263157899,1.5585365853658537,1.4999999999999822,4.2919999999999945,1.2811594202898604,-2.2778947368421,-0.5659340659340621,-0.2778947368421001,-2.8778947368421015,-6.270454545454546,-1.200000000000017,-9.295918367346928,1.9999999999999822,25.120000000000005,2.1585365853658516,0.7221052631578999,-1.330882352941181,-7.965934065934061,1.1585365853658516,-13.318840579710141,0.3691176470588182,-4.995918367346931,3.4919999999999938,-6.708108108108105,-2.108108108108107,5.2919999999999945,4.9055555555555515,1.9623853211009248,4.803092783505148,4.034065934065939,1.6811594202898625,4.799999999999983,-2.1699999999999946,0.05853658536585371,-1.655737704918046,-0.700000000000017,1.8585365853658544,2.0221052631579006,0.02954545454545432,-0.5347368421052572,-2.1145833333333393,3.6068181818181912,1.923529411764699,-5.662318840579708,2.477142857142862,-1.8228571428571385,-3.2145833333333407,2.3235294117646994,2.1068181818181912,0.20363636363635962,2.1235294117646983,-4.960000000000001,0.3652631578947414,7.919444444444437,3.219444444444438,8.084328358208943,-1.9623188405797087,-1.2963636363636404,-2.6384615384615486,-6.422857142857136,-3.6321428571428527,-2.8805555555555635,-1.4156716417910573,3.3854166666666607,1.839999999999998,-0.568243243243252,-4.714583333333341,1.1235294117646983,0.8710526315789444,-3.6321428571428527,-0.3347368421052579,5.2036363636363605,0.6999999999999957,-2.1217391304347935,0.5652631578947442,2.7376811594202906,-0.5228571428571378,-1.9931818181818102,2.33175675675675,2.4440677966101667,4.955769230769228,2.4281249999999943,-11.388461538461542,-2.2366666666666717,2.7440677966101674,5.229850746268642,-5.630769230769232,-2.4718750000000043,0.15000000000000568,0.4692307692307658,2.5440677966101646,4.252702702702713,-0.3842696629213478,0.05576923076922746,-4.68571428571429,1.1822222222222365,-5.445454545454538,0.37094017094015186,-0.5718750000000057,-1.229059829059846,6.955769230769228,-3.3290598290598474,6.244067796610167,-1.9857142857142893,1.0281249999999957,4.895000000000007,-1.4559322033898354,-1.2227272727272762,9.711764705882352,7.3157303370786515,-0.7177777777777621,-1.9472972972972897,-3.0455555555555556,2.3633333333333297,-0.6227272727272783,0.37094017094015186,-6.9227272727272755,1.7095238095238088,-2.5718750000000057,2.4826923076923038,0.05625000000000924,-6.693548387096783,-3.417307692307695,2.4015151515151523,0.30277777777777715,5.7387096774193544,-2.0612903225806463,2.85625000000001,5.221839080459766,-0.7437499999999915,-1.1307692307692285,1.7562500000000085,-0.7037037037037024,0.6909090909090843,7.338709677419352,0.6562500000000071,2.0562500000000092,-1.5450000000000053,-0.6603448275862078,4.239655172413792,-1.2512195121951226,-5.593548387096785,-5.201190476190483,1.7909090909090857,0.5396551724137915,1.0218390804597668,1.9387096774193537,1.8264705882352992,-0.7090909090909143,3.7264705882352995,0.667500000000004,-0.10909090909091645,-26.009090909090915,4.121839080459765,-4.515789473684201,4.172222222222221,-2.1612903225806477,-0.043749999999992184,4.038709677419355,-3.2250000000000014,2.2777777777777715,0.5507462686567237,1.3463157894736852,-2.7169230769230808,-7.316417910447765,-1.1492537313432756,2.3779411764705927,-2.001709401709409,2.0987500000000043,-0.639024390243911,-3.8580645161290352,3.2835820895522367,-5.088135593220343,-3.5391304347825994,0.4609756097560904,-1.5654761904761898,0.6345238095238113,3.4865853658536636,-4.387499999999989,-5.9079999999999995,1.3463157894736852,-3.007999999999999,4.39829059829059,-13.387499999999989,-0.8134146341463371,-11.546153846153842,-0.6220588235294073,0.8507462686567244,1.2987500000000054,-0.5580645161290345,-2.5012499999999953,0.09875000000000611,1.1419354838709648,2.186585365853663,-0.6134146341463378,-14.587499999999991,1.8507462686567244,-1.7536842105263126,-1.8874999999999886,0.5874999999999986,1.947222222222221,1.5532467532467606,-14.425581395348843,-3.6527777777777786,2.2653465346534603,-0.018279569892481362,-0.6235294117647108,0.0472222222222225,-1.0235294117647094,10.599999999999987,0.8466666666666693,-5.179365079365077,-1.2527777777777782,1.8817204301075208,-3.9271604938271576,-0.9357142857142868,-3.0478260869565243,4.425000000000004,1.1206349206349238,-6.910526315789468,-15.082352941176474,-3.549999999999997,-4.647826086956526,1.920634920634921,4.150000000000006,5.020634920634922,5.67647058823529,-1.2478260869565236,-10.079365079365079,1.6653465346534624,5.365346534653462,2.3532467532467614,-0.6271604938271587,5.247222222222222,-0.13865546218487523,-1.827160493827158,3.2817204301075193,6.852173913043476,0.05324675324676065,1.3458333333333385,3.609195402298848,-0.5076923076923023,1.4999999999999964,4.904411764705877,4.730158730158745,2.304411764705879,-0.7469565217391363,0.7007462686567223,2.224999999999998,-2.1469565217391384,3.2044117647058776,3.804411764705879,4.110526315789469,-3.6171874999999964,2.1530434782608623,5.819512195121943,1.0695652173912862,-1.0365079365079453,-4.7569620253164615,-5.016666666666669,0.4091954022988489,3.099999999999996,6.646296296296299,-4.136507936507943,1.804411764705879,2.0091954022988503,-1.8569620253164594,-1.546956521739137,-2.853703703703701,-1.289473684210531,-0.8894736842105289,-1.9469565217391391,-4.170000000000002,1.2833333333333314,2.1530434782608623,-1.8541666666666572,1.453043478260863,1.4105263157894683,-4.036507936507945]}},\"id\":\"3ea09a99-1893-43cf-b131-e14ad186e1ed\",\"type\":\"ColumnDataSource\"},{\"attributes\":{\"data_source\":{\"id\":\"3ea09a99-1893-43cf-b131-e14ad186e1ed\",\"type\":\"ColumnDataSource\"},\"glyph\":{\"id\":\"e011ffaf-5489-40b5-b4af-e81c972d25c6\",\"type\":\"Circle\"},\"hover_glyph\":null,\"nonselection_glyph\":{\"id\":\"8be5766a-fd4f-48fd-a740-45aa0281c6b4\",\"type\":\"Circle\"},\"selection_glyph\":null},\"id\":\"67c5a12e-b1e8-4543-a7b3-ccc8911ee517\",\"type\":\"GlyphRenderer\"},{\"attributes\":{\"callback\":null,\"overlay\":{\"id\":\"acb25f81-4238-441b-a2b9-985fc5110199\",\"type\":\"BoxAnnotation\"},\"plot\":{\"id\":\"ff8c99d0-1418-4b86-9e32-57a1e06828c9\",\"subtype\":\"Figure\",\"type\":\"Plot\"},\"renderers\":[{\"id\":\"67c5a12e-b1e8-4543-a7b3-ccc8911ee517\",\"type\":\"GlyphRenderer\"}]},\"id\":\"cac95390-46f8-4179-ab77-d60eed7aa0d6\",\"type\":\"BoxSelectTool\"},{\"attributes\":{\"plot\":{\"id\":\"ff8c99d0-1418-4b86-9e32-57a1e06828c9\",\"subtype\":\"Figure\",\"type\":\"Plot\"}},\"id\":\"c0855543-2b66-4f3e-9ca7-3e85f1efbff9\",\"type\":\"ResetTool\"},{\"attributes\":{\"background_fill_alpha\":{\"value\":0.5},\"background_fill_color\":{\"value\":\"beige\"},\"below\":[{\"id\":\"0687672c-e809-4f00-b55a-952659857973\",\"type\":\"LinearAxis\"}],\"left\":[{\"id\":\"274885f3-8f16-40fc-a719-d78a21a7a470\",\"type\":\"LinearAxis\"}],\"plot_height\":500,\"plot_width\":500,\"renderers\":[{\"id\":\"0687672c-e809-4f00-b55a-952659857973\",\"type\":\"LinearAxis\"},{\"id\":\"b7fe924a-ca44-4ab7-a549-0a9f7bf00a56\",\"type\":\"Grid\"},{\"id\":\"274885f3-8f16-40fc-a719-d78a21a7a470\",\"type\":\"LinearAxis\"},{\"id\":\"fe89e033-b2d4-472f-adac-c3d09796484b\",\"type\":\"Grid\"},{\"id\":\"375ca761-9d2c-409c-b5df-2a5a86b0bfb9\",\"type\":\"BoxAnnotation\"},{\"id\":\"acb25f81-4238-441b-a2b9-985fc5110199\",\"type\":\"BoxAnnotation\"},{\"id\":\"75464d20-520f-4316-8503-224e8081ce93\",\"type\":\"PolyAnnotation\"},{\"id\":\"d0415658-cc98-4c54-a3d6-5fdd40c99d1f\",\"type\":\"PolyAnnotation\"},{\"id\":\"67c5a12e-b1e8-4543-a7b3-ccc8911ee517\",\"type\":\"GlyphRenderer\"}],\"title\":{\"id\":\"1c50d921-eae6-4546-a2c6-2e0fa8fd9cdc\",\"type\":\"Title\"},\"tool_events\":{\"id\":\"de0d324e-bc4e-465d-a159-0104f2085062\",\"type\":\"ToolEvents\"},\"toolbar\":{\"id\":\"726b451a-afd2-4e86-b825-d942e1a7224d\",\"type\":\"Toolbar\"},\"x_range\":{\"id\":\"3d5741ef-c3f5-4a14-8599-461068624113\",\"type\":\"DataRange1d\"},\"y_range\":{\"id\":\"3368dfae-c63b-4049-8529-fefcca0edbfd\",\"type\":\"DataRange1d\"}},\"id\":\"ff8c99d0-1418-4b86-9e32-57a1e06828c9\",\"subtype\":\"Figure\",\"type\":\"Plot\"},{\"attributes\":{\"plot\":{\"id\":\"ff8c99d0-1418-4b86-9e32-57a1e06828c9\",\"subtype\":\"Figure\",\"type\":\"Plot\"}},\"id\":\"80443b0b-00b8-4ea2-b694-dea89d7aad17\",\"type\":\"ResizeTool\"},{\"attributes\":{\"dimension\":1,\"plot\":{\"id\":\"ff8c99d0-1418-4b86-9e32-57a1e06828c9\",\"subtype\":\"Figure\",\"type\":\"Plot\"},\"ticker\":{\"id\":\"3100b8c3-eed7-43e7-950a-9ab14e1eb76a\",\"type\":\"BasicTicker\"}},\"id\":\"fe89e033-b2d4-472f-adac-c3d09796484b\",\"type\":\"Grid\"},{\"attributes\":{},\"id\":\"3100b8c3-eed7-43e7-950a-9ab14e1eb76a\",\"type\":\"BasicTicker\"},{\"attributes\":{\"bottom_units\":\"screen\",\"fill_alpha\":{\"value\":0.5},\"fill_color\":{\"value\":\"lightgrey\"},\"left_units\":\"screen\",\"level\":\"overlay\",\"line_alpha\":{\"value\":1.0},\"line_color\":{\"value\":\"black\"},\"line_dash\":[4,4],\"line_width\":{\"value\":2},\"plot\":null,\"render_mode\":\"css\",\"right_units\":\"screen\",\"top_units\":\"screen\"},\"id\":\"375ca761-9d2c-409c-b5df-2a5a86b0bfb9\",\"type\":\"BoxAnnotation\"},{\"attributes\":{\"overlay\":{\"id\":\"375ca761-9d2c-409c-b5df-2a5a86b0bfb9\",\"type\":\"BoxAnnotation\"},\"plot\":{\"id\":\"ff8c99d0-1418-4b86-9e32-57a1e06828c9\",\"subtype\":\"Figure\",\"type\":\"Plot\"}},\"id\":\"7095c237-85e2-46d8-9076-07e74a2aa6d9\",\"type\":\"BoxZoomTool\"},{\"attributes\":{\"overlay\":{\"id\":\"d0415658-cc98-4c54-a3d6-5fdd40c99d1f\",\"type\":\"PolyAnnotation\"},\"plot\":{\"id\":\"ff8c99d0-1418-4b86-9e32-57a1e06828c9\",\"subtype\":\"Figure\",\"type\":\"Plot\"}},\"id\":\"79831506-9e38-4576-93eb-5391d9325480\",\"type\":\"PolySelectTool\"},{\"attributes\":{},\"id\":\"de0d324e-bc4e-465d-a159-0104f2085062\",\"type\":\"ToolEvents\"},{\"attributes\":{\"plot\":{\"id\":\"ff8c99d0-1418-4b86-9e32-57a1e06828c9\",\"subtype\":\"Figure\",\"type\":\"Plot\"}},\"id\":\"45d625b7-61ee-4bae-904f-6da4551cea64\",\"type\":\"WheelZoomTool\"},{\"attributes\":{\"plot\":{\"id\":\"ff8c99d0-1418-4b86-9e32-57a1e06828c9\",\"subtype\":\"Figure\",\"type\":\"Plot\"},\"ticker\":{\"id\":\"1e13aab7-673d-42f3-adec-7429f51b73de\",\"type\":\"BasicTicker\"}},\"id\":\"b7fe924a-ca44-4ab7-a549-0a9f7bf00a56\",\"type\":\"Grid\"},{\"attributes\":{\"plot\":{\"id\":\"ff8c99d0-1418-4b86-9e32-57a1e06828c9\",\"subtype\":\"Figure\",\"type\":\"Plot\"}},\"id\":\"ad4ff332-4ff9-450c-81aa-7265b319dd15\",\"type\":\"PanTool\"},{\"attributes\":{\"bottom_units\":\"screen\",\"fill_alpha\":{\"value\":0.5},\"fill_color\":{\"value\":\"lightgrey\"},\"left_units\":\"screen\",\"level\":\"overlay\",\"line_alpha\":{\"value\":1.0},\"line_color\":{\"value\":\"black\"},\"line_dash\":[4,4],\"line_width\":{\"value\":2},\"plot\":null,\"render_mode\":\"css\",\"right_units\":\"screen\",\"top_units\":\"screen\"},\"id\":\"acb25f81-4238-441b-a2b9-985fc5110199\",\"type\":\"BoxAnnotation\"},{\"attributes\":{},\"id\":\"c8891611-e04d-4adb-8d74-aab7b1b36ed8\",\"type\":\"BasicTickFormatter\"},{\"attributes\":{\"fill_alpha\":{\"value\":0.5},\"fill_color\":{\"value\":\"lightgrey\"},\"level\":\"overlay\",\"line_alpha\":{\"value\":1.0},\"line_color\":{\"value\":\"black\"},\"line_dash\":[4,4],\"line_width\":{\"value\":2},\"plot\":null,\"xs_units\":\"screen\",\"ys_units\":\"screen\"},\"id\":\"d0415658-cc98-4c54-a3d6-5fdd40c99d1f\",\"type\":\"PolyAnnotation\"},{\"attributes\":{},\"id\":\"e9f29ca4-d7d0-4e29-83eb-ed1b0ea47f5b\",\"type\":\"BasicTickFormatter\"},{\"attributes\":{\"fill_alpha\":{\"value\":0.1},\"fill_color\":{\"value\":\"#1f77b4\"},\"line_alpha\":{\"value\":0.1},\"line_color\":{\"value\":\"#1f77b4\"},\"line_width\":{\"value\":3},\"x\":{\"field\":\"x\"},\"y\":{\"field\":\"y\"}},\"id\":\"8be5766a-fd4f-48fd-a740-45aa0281c6b4\",\"type\":\"Circle\"},{\"attributes\":{\"plot\":{\"id\":\"ff8c99d0-1418-4b86-9e32-57a1e06828c9\",\"subtype\":\"Figure\",\"type\":\"Plot\"}},\"id\":\"16cfd6b5-eb38-4fd6-a565-2992a171182d\",\"type\":\"CrosshairTool\"},{\"attributes\":{\"callback\":null},\"id\":\"3368dfae-c63b-4049-8529-fefcca0edbfd\",\"type\":\"DataRange1d\"},{\"attributes\":{\"callback\":null},\"id\":\"3d5741ef-c3f5-4a14-8599-461068624113\",\"type\":\"DataRange1d\"},{\"attributes\":{\"fill_color\":{\"value\":\"#80B1D3\"},\"line_color\":{\"value\":\"#80B1D3\"},\"line_width\":{\"value\":3},\"x\":{\"field\":\"x\"},\"y\":{\"field\":\"y\"}},\"id\":\"e011ffaf-5489-40b5-b4af-e81c972d25c6\",\"type\":\"Circle\"},{\"attributes\":{\"plot\":{\"id\":\"ff8c99d0-1418-4b86-9e32-57a1e06828c9\",\"subtype\":\"Figure\",\"type\":\"Plot\"}},\"id\":\"e9124138-6697-4182-b2cc-ccc673bff44d\",\"type\":\"SaveTool\"}],\"root_ids\":[\"ff8c99d0-1418-4b86-9e32-57a1e06828c9\"]},\"title\":\"Bokeh Application\",\"version\":\"0.12.0\"}};\n",
       "            var render_items = [{\"docid\":\"4fc96156-4569-47eb-a779-642bf44d6a60\",\"elementid\":\"42820751-b5ea-41a8-9a37-7e1bf844a5e7\",\"modelid\":\"ff8c99d0-1418-4b86-9e32-57a1e06828c9\",\"notebook_comms_target\":\"e6c6e2b3-a63f-427e-91a4-ce2302182284\"}];\n",
       "            \n",
       "            Bokeh.embed.embed_items(docs_json, render_items);\n",
       "        });\n",
       "      },\n",
       "      function(Bokeh) {\n",
       "      }\n",
       "    ];\n",
       "  \n",
       "    function run_inline_js() {\n",
       "      for (var i = 0; i < inline_js.length; i++) {\n",
       "        inline_js[i](window.Bokeh);\n",
       "      }\n",
       "    }\n",
       "  \n",
       "    if (window._bokeh_is_loading === 0) {\n",
       "      console.log(\"Bokeh: BokehJS loaded, going straight to plotting\");\n",
       "      run_inline_js();\n",
       "    } else {\n",
       "      load_libs(js_urls, function() {\n",
       "        console.log(\"Bokeh: BokehJS plotting callback run at\", now());\n",
       "        run_inline_js();\n",
       "      });\n",
       "    }\n",
       "  }(this));\n",
       "</script>"
      ]
     },
     "metadata": {},
     "output_type": "display_data"
    },
    {
     "data": {
      "text/html": [
       "<p><code>&lt;Bokeh Notebook handle for <strong>In[22]</strong>&gt;</code></p>"
      ],
      "text/plain": [
       "<bokeh.io._CommsHandle at 0x10f835a50>"
      ]
     },
     "execution_count": 22,
     "metadata": {},
     "output_type": "execute_result"
    }
   ],
   "source": [
    "# Plotining using bokeh\n",
    "#TOOLS = 'hover,box_zoom,box_select,crosshair,resize,reset,DecisionTreeRegressor_select,pan,save,poly_select,tap,wheel_zoom,undo'\n",
    "TOOLS = 'box_zoom,box_select,crosshair,resize,reset,lasso_select,pan,save,poly_select,tap,wheel_zoom,undo'\n",
    "p = figure(plot_width=500, plot_height=500, title=\"Residual plot on the training data\", tools=TOOLS)\n",
    "p.scatter(predicted, (predicted - Y),x=\"jjj\", marker=\"o\", color=\"#80B1D3\", line_width=3)\n",
    "p.title.align = \"center\"\n",
    "p.xaxis.axis_label = \"Predicted\"\n",
    "p.xaxis.axis_label_text_color = \"#aa6666\"\n",
    "#p.xaxis.axis_label_standoff = 30\n",
    "p.xaxis.major_tick_line_color = \"firebrick\"\n",
    "p.xaxis.major_tick_line_width = 3\n",
    "p.xaxis.minor_tick_line_color = \"orange\"\n",
    "p.yaxis.axis_label = \"Residuals\"\n",
    "p.yaxis.axis_label_text_font_style = \"italic\"\n",
    "p.yaxis.axis_label_text_color = \"#aa6666\"\n",
    "p.background_fill_color = \"beige\"\n",
    "p.background_fill_alpha = 0.5\n",
    "#p.line([2,38], [0, 0], line_dash=\"4 4\", line_width=2, color='red')\n",
    "show(p)"
   ]
  },
  {
   "cell_type": "markdown",
   "metadata": {},
   "source": [
    "## Pipeline"
   ]
  },
  {
   "cell_type": "markdown",
   "metadata": {},
   "source": [
    "The best to deliver the model by pipeline the operation then at deployment can be done in one model."
   ]
  },
  {
   "cell_type": "markdown",
   "metadata": {
    "collapsed": true
   },
   "source": [
    "  I used two ways to check the pipeline so any one can be fine"
   ]
  },
  {
   "cell_type": "code",
   "execution_count": 23,
   "metadata": {
    "collapsed": false
   },
   "outputs": [
    {
     "name": "stdout",
     "output_type": "stream",
     "text": [
      "0.885022123063\n",
      "Scoring according to mean_squared_error\n",
      "[-14.615728   -10.83678701 -19.25519824 -27.45593003 -11.08389873\n",
      " -15.60146707 -17.57387582 -22.03650207 -14.49837686 -12.36808499]\n",
      "\n",
      " Mean      Standard deviation\n",
      "-16.53      4.96\n",
      "[ True  True  True  True  True  True  True  True  True  True  True  True\n",
      "  True]\n",
      "R-squared =  0.885022123063\n"
     ]
    }
   ],
   "source": [
    "# Use Pipeline\n",
    "# ANOVA \n",
    "from sklearn.pipeline import Pipeline\n",
    "from sklearn.feature_selection import SelectKBest, f_regression\n",
    "anova_filter = SelectKBest(f_regression, k=13)\n",
    "LR = AdaBoostRegressor(n_estimators = 5, loss = \"exponential\")\n",
    "\n",
    "anova_LinReg = Pipeline([ ('anova', anova_filter), ('LinReg', LR)])\n",
    "# You can set the parameters using the names issued\n",
    "# For instance, fit using a k of 10 in the SelectKBest\n",
    "anova_LinReg.set_params(anova__k=13).fit(new_data, Y)\n",
    "prediction = anova_LinReg.predict(new_data)\n",
    "print anova_LinReg.score(new_data, Y)                        \n",
    "# getting the selected features chosen by anova_filter\n",
    "results = cross_validation.cross_val_score(anova_LinReg, new_data, Y, cv=kfold, scoring=scoring)\n",
    "print 'Scoring according to mean_squared_error'\n",
    "print results\n",
    "print '\\n Mean      Standard deviation'\n",
    "print(\"%.2f      %.2f\" % (results.mean(), results.std()))\n",
    "print anova_LinReg.named_steps['anova'].get_support()\n",
    "r_squared = r2_score(Y, prediction, multioutput='variance_weighted')\n",
    "print 'R-squared = ',r_squared"
   ]
  },
  {
   "cell_type": "code",
   "execution_count": 24,
   "metadata": {
    "collapsed": false
   },
   "outputs": [
    {
     "name": "stdout",
     "output_type": "stream",
     "text": [
      "R-squared =  0.882610279721\n"
     ]
    }
   ],
   "source": [
    "# Using make_pipeline\n",
    "from sklearn.pipeline import make_pipeline\n",
    "\n",
    "# ANOVA SVM-C\n",
    "# 1) anova filter, take 3 best ranked features\n",
    "anova_filter = SelectKBest(f_regression, k=13)\n",
    "anova_AdaBoostDecisionTreeRegressor_NotProcessing = make_pipeline( anova_filter, LR)\n",
    "anova_AdaBoostDecisionTreeRegressor_NotProcessing.fit(new_data, Y)\n",
    "prediction = anova_AdaBoostDecisionTreeRegressor_NotProcessing.predict(new_data)\n",
    "r_squared = r2_score(Y, prediction, multioutput='variance_weighted')\n",
    "print 'R-squared = ',r_squared"
   ]
  },
  {
   "cell_type": "markdown",
   "metadata": {},
   "source": [
    "### Save the Pipeline model for developement"
   ]
  },
  {
   "cell_type": "code",
   "execution_count": 25,
   "metadata": {
    "collapsed": false
   },
   "outputs": [
    {
     "data": {
      "text/plain": [
       "['anova_AdaBoostDecisionTreeRegressor_NotProcessing.pkl',\n",
       " 'anova_AdaBoostDecisionTreeRegressor_NotProcessing.pkl_01.npy',\n",
       " 'anova_AdaBoostDecisionTreeRegressor_NotProcessing.pkl_02.npy',\n",
       " 'anova_AdaBoostDecisionTreeRegressor_NotProcessing.pkl_03.npy',\n",
       " 'anova_AdaBoostDecisionTreeRegressor_NotProcessing.pkl_04.npy',\n",
       " 'anova_AdaBoostDecisionTreeRegressor_NotProcessing.pkl_05.npy',\n",
       " 'anova_AdaBoostDecisionTreeRegressor_NotProcessing.pkl_06.npy',\n",
       " 'anova_AdaBoostDecisionTreeRegressor_NotProcessing.pkl_07.npy',\n",
       " 'anova_AdaBoostDecisionTreeRegressor_NotProcessing.pkl_08.npy',\n",
       " 'anova_AdaBoostDecisionTreeRegressor_NotProcessing.pkl_09.npy',\n",
       " 'anova_AdaBoostDecisionTreeRegressor_NotProcessing.pkl_10.npy',\n",
       " 'anova_AdaBoostDecisionTreeRegressor_NotProcessing.pkl_11.npy',\n",
       " 'anova_AdaBoostDecisionTreeRegressor_NotProcessing.pkl_12.npy',\n",
       " 'anova_AdaBoostDecisionTreeRegressor_NotProcessing.pkl_13.npy',\n",
       " 'anova_AdaBoostDecisionTreeRegressor_NotProcessing.pkl_14.npy',\n",
       " 'anova_AdaBoostDecisionTreeRegressor_NotProcessing.pkl_15.npy',\n",
       " 'anova_AdaBoostDecisionTreeRegressor_NotProcessing.pkl_16.npy',\n",
       " 'anova_AdaBoostDecisionTreeRegressor_NotProcessing.pkl_17.npy',\n",
       " 'anova_AdaBoostDecisionTreeRegressor_NotProcessing.pkl_18.npy',\n",
       " 'anova_AdaBoostDecisionTreeRegressor_NotProcessing.pkl_19.npy']"
      ]
     },
     "execution_count": 25,
     "metadata": {},
     "output_type": "execute_result"
    }
   ],
   "source": [
    "# save the model scaler to the desk\n",
    "from sklearn.externals import joblib\n",
    "joblib.dump(anova_AdaBoostDecisionTreeRegressor_NotProcessing, 'anova_AdaBoostDecisionTreeRegressor_NotProcessing.pkl') "
   ]
  },
  {
   "cell_type": "code",
   "execution_count": 27,
   "metadata": {
    "collapsed": false
   },
   "outputs": [
    {
     "name": "stdout",
     "output_type": "stream",
     "text": [
      " =================================================================>>>>> done\n",
      "R-squared =  0.882610279721\n"
     ]
    }
   ],
   "source": [
    "# Test the model if it is work\n",
    "anova_DecisionTreeRegressorTest = joblib.load('anova_AdaBoostDecisionTreeRegressor_NotProcessing.pkl')\n",
    "NewPred = anova_DecisionTreeRegressorTest.predict(new_data)\n",
    "print \" =================================================================>>>>> done\"\n",
    "r_squared = r2_score(Y, NewPred, multioutput='variance_weighted')\n",
    "print 'R-squared = ',r_squared"
   ]
  },
  {
   "cell_type": "code",
   "execution_count": 28,
   "metadata": {
    "collapsed": false
   },
   "outputs": [
    {
     "name": "stdout",
     "output_type": "stream",
     "text": [
      "Point of training data before normalization\n",
      "[   1.23247    0.         8.14       0.         0.538      6.142     91.7\n",
      "    3.9769     4.       307.        21.       396.9       18.72   ]\n",
      "\n",
      "The read target of the data =  15.2\n",
      "\n",
      "The Predicted target of the data =  [ 17.31898734]\n"
     ]
    }
   ],
   "source": [
    "# test on single data point, randomly choose point number 55\n",
    "print 'Point of training data before normalization\\n',new_data[55]\n",
    "print '\\nThe read target of the data = ', Y[55]\n",
    "NewPred = anova_DecisionTreeRegressorTest.predict([new_data[55]])\n",
    "print '\\nThe Predicted target of the data = ', NewPred"
   ]
  },
  {
   "cell_type": "markdown",
   "metadata": {},
   "source": [
    "## Conclusion "
   ]
  },
  {
   "cell_type": "code",
   "execution_count": null,
   "metadata": {
    "collapsed": true
   },
   "outputs": [],
   "source": []
  }
 ],
 "metadata": {
  "kernelspec": {
   "display_name": "Python 2",
   "language": "python",
   "name": "python2"
  },
  "language_info": {
   "codemirror_mode": {
    "name": "ipython",
    "version": 2
   },
   "file_extension": ".py",
   "mimetype": "text/x-python",
   "name": "python",
   "nbconvert_exporter": "python",
   "pygments_lexer": "ipython2",
   "version": "2.7.11"
  }
 },
 "nbformat": 4,
 "nbformat_minor": 0
}
