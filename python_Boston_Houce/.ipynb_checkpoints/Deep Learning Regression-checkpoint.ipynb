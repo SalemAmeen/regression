{
 "cells": [
  {
   "cell_type": "markdown",
   "metadata": {},
   "source": [
    "Salem Ameen, PhD student at Salford University\n",
    "\n",
    "### Boston House price\n",
    "\n",
    "Deep learning Regression"
   ]
  },
  {
   "cell_type": "markdown",
   "metadata": {},
   "source": [
    "# Import the Libraries"
   ]
  },
  {
   "cell_type": "markdown",
   "metadata": {},
   "source": [
    "General Library"
   ]
  },
  {
   "cell_type": "code",
   "execution_count": 1,
   "metadata": {
    "collapsed": false
   },
   "outputs": [
    {
     "data": {
      "text/html": [
       "\n",
       "    <div class=\"bk-root\">\n",
       "        <a href=\"http://bokeh.pydata.org\" target=\"_blank\" class=\"bk-logo bk-logo-small bk-logo-notebook\"></a>\n",
       "        <span id=\"a21cdeb8-d0fa-4a20-98d7-f1d5cc2201d6\">Loading BokehJS ...</span>\n",
       "    </div>"
      ]
     },
     "metadata": {},
     "output_type": "display_data"
    },
    {
     "data": {
      "application/javascript": [
       "\n",
       "(function(global) {\n",
       "  function now() {\n",
       "    return new Date();\n",
       "  }\n",
       "\n",
       "  if (typeof (window._bokeh_onload_callbacks) === \"undefined\") {\n",
       "    window._bokeh_onload_callbacks = [];\n",
       "  }\n",
       "\n",
       "  function run_callbacks() {\n",
       "    window._bokeh_onload_callbacks.forEach(function(callback) { callback() });\n",
       "    delete window._bokeh_onload_callbacks\n",
       "    console.info(\"Bokeh: all callbacks have finished\");\n",
       "  }\n",
       "\n",
       "  function load_libs(js_urls, callback) {\n",
       "    window._bokeh_onload_callbacks.push(callback);\n",
       "    if (window._bokeh_is_loading > 0) {\n",
       "      console.log(\"Bokeh: BokehJS is being loaded, scheduling callback at\", now());\n",
       "      return null;\n",
       "    }\n",
       "    if (js_urls == null || js_urls.length === 0) {\n",
       "      run_callbacks();\n",
       "      return null;\n",
       "    }\n",
       "    console.log(\"Bokeh: BokehJS not loaded, scheduling load and callback at\", now());\n",
       "    window._bokeh_is_loading = js_urls.length;\n",
       "    for (var i = 0; i < js_urls.length; i++) {\n",
       "      var url = js_urls[i];\n",
       "      var s = document.createElement('script');\n",
       "      s.src = url;\n",
       "      s.async = false;\n",
       "      s.onreadystatechange = s.onload = function() {\n",
       "        window._bokeh_is_loading--;\n",
       "        if (window._bokeh_is_loading === 0) {\n",
       "          console.log(\"Bokeh: all BokehJS libraries loaded\");\n",
       "          run_callbacks()\n",
       "        }\n",
       "      };\n",
       "      s.onerror = function() {\n",
       "        console.warn(\"failed to load library \" + url);\n",
       "      };\n",
       "      console.log(\"Bokeh: injecting script tag for BokehJS library: \", url);\n",
       "      document.getElementsByTagName(\"head\")[0].appendChild(s);\n",
       "    }\n",
       "  };\n",
       "\n",
       "  var js_urls = ['https://cdn.pydata.org/bokeh/release/bokeh-0.12.0.min.js', 'https://cdn.pydata.org/bokeh/release/bokeh-widgets-0.12.0.min.js', 'https://cdn.pydata.org/bokeh/release/bokeh-compiler-0.12.0.min.js'];\n",
       "\n",
       "  var inline_js = [\n",
       "    function(Bokeh) {\n",
       "      Bokeh.set_log_level(\"info\");\n",
       "    },\n",
       "    \n",
       "    function(Bokeh) {\n",
       "      Bokeh.$(\"#a21cdeb8-d0fa-4a20-98d7-f1d5cc2201d6\").text(\"BokehJS successfully loaded\");\n",
       "    },\n",
       "    function(Bokeh) {\n",
       "      console.log(\"Bokeh: injecting CSS: https://cdn.pydata.org/bokeh/release/bokeh-0.12.0.min.css\");\n",
       "      Bokeh.embed.inject_css(\"https://cdn.pydata.org/bokeh/release/bokeh-0.12.0.min.css\");\n",
       "      console.log(\"Bokeh: injecting CSS: https://cdn.pydata.org/bokeh/release/bokeh-widgets-0.12.0.min.css\");\n",
       "      Bokeh.embed.inject_css(\"https://cdn.pydata.org/bokeh/release/bokeh-widgets-0.12.0.min.css\");\n",
       "    }\n",
       "  ];\n",
       "\n",
       "  function run_inline_js() {\n",
       "    for (var i = 0; i < inline_js.length; i++) {\n",
       "      inline_js[i](window.Bokeh);\n",
       "    }\n",
       "  }\n",
       "\n",
       "  if (window._bokeh_is_loading === 0) {\n",
       "    console.log(\"Bokeh: BokehJS loaded, going straight to plotting\");\n",
       "    run_inline_js();\n",
       "  } else {\n",
       "    load_libs(js_urls, function() {\n",
       "      console.log(\"Bokeh: BokehJS plotting callback run at\", now());\n",
       "      run_inline_js();\n",
       "    });\n",
       "  }\n",
       "}(this));"
      ]
     },
     "metadata": {},
     "output_type": "display_data"
    }
   ],
   "source": [
    "import numpy as np\n",
    "import pandas\n",
    "from numpy import *\n",
    "import time\n",
    "import sys\n",
    "import pandas as pd\n",
    "import matplotlib.pyplot as plt\n",
    "from sklearn import feature_selection\n",
    " \n",
    "from sklearn.learning_curve import learning_curve, validation_curve\n",
    "from sklearn.cross_validation import cross_val_predict\n",
    "from sklearn import metrics, grid_search, cross_validation\n",
    "from IPython.display import set_matplotlib_formats\n",
    "from bokeh.plotting import figure, show, output_notebook\n",
    "from sklearn.grid_search import GridSearchCV, RandomizedSearchCV\n",
    "from sklearn.metrics import r2_score\n",
    "from bokeh.layouts import gridplot\n",
    "output_notebook()\n",
    "set_matplotlib_formats('png', 'pdf')\n",
    "%matplotlib inline\n",
    "plt.rcParams['figure.figsize'] = (6, 6)"
   ]
  },
  {
   "cell_type": "markdown",
   "metadata": {},
   "source": [
    "Deep Learning Library"
   ]
  },
  {
   "cell_type": "code",
   "execution_count": 2,
   "metadata": {
    "collapsed": false
   },
   "outputs": [
    {
     "name": "stderr",
     "output_type": "stream",
     "text": [
      "Using TensorFlow backend.\n"
     ]
    }
   ],
   "source": [
    "import numpy\n",
    "from keras.models import Sequential\n",
    "from keras.layers import Dense\n",
    "from keras.wrappers.scikit_learn import KerasRegressor\n",
    "from sklearn.cross_validation import cross_val_score\n",
    "from sklearn.cross_validation import KFold\n",
    "from sklearn.preprocessing import StandardScaler\n",
    "from sklearn.pipeline import Pipeline"
   ]
  },
  {
   "cell_type": "markdown",
   "metadata": {},
   "source": [
    "# Create the model"
   ]
  },
  {
   "cell_type": "code",
   "execution_count": 3,
   "metadata": {
    "collapsed": true
   },
   "outputs": [],
   "source": [
    "# define base mode\n",
    "def baseline_model():\n",
    "\t# create model\n",
    "\tmodel = Sequential()\n",
    "\tmodel.add(Dense(30, input_dim=13, init='normal', activation='relu'))\n",
    "\tmodel.add(Dense(1, init='normal'))\n",
    "\t# Compile model\n",
    "\tmodel.compile(loss='mean_squared_error', optimizer='adam')\n",
    "\treturn model"
   ]
  },
  {
   "cell_type": "markdown",
   "metadata": {},
   "source": [
    "# Load data"
   ]
  },
  {
   "cell_type": "markdown",
   "metadata": {},
   "source": [
    "In the previous file we have not change the data as there is no missing value or add any new parameters so it can be downloaded from the web directly. "
   ]
  },
  {
   "cell_type": "code",
   "execution_count": 4,
   "metadata": {
    "collapsed": false
   },
   "outputs": [],
   "source": [
    "url = 'https://archive.ics.uci.edu/ml/machine-learning-databases/housing/housing.data'\n",
    "feature_cols = ['CRIM', 'ZN', 'INDUS', 'CHAS', 'NOX', 'RM', 'AGE', 'DIS', 'RAD', 'TAX', 'PTRATIO', 'B', 'LSTAT', 'MEDV']\n",
    "data = pd.read_csv(url, sep='\\s+', names = feature_cols)"
   ]
  },
  {
   "cell_type": "code",
   "execution_count": 5,
   "metadata": {
    "collapsed": false
   },
   "outputs": [
    {
     "name": "stdout",
     "output_type": "stream",
     "text": [
      "Number of examples 506\n"
     ]
    }
   ],
   "source": [
    "from sklearn import preprocessing\n",
    "dataset = data.values\n",
    "X = dataset[:,0:13].astype(float)\n",
    "Y = dataset[:,13]\n",
    "print 'Number of examples',len(X)"
   ]
  },
  {
   "cell_type": "code",
   "execution_count": 6,
   "metadata": {
    "collapsed": false
   },
   "outputs": [
    {
     "name": "stdout",
     "output_type": "stream",
     "text": [
      "Number of training examples 404\n",
      "Number of validation examples 102\n"
     ]
    }
   ],
   "source": [
    "# Make developement dataset for genrilization and final testing\n",
    "from sklearn.cross_validation import train_test_split\n",
    "# Extracting 20% testing data\n",
    "X_train, X_test, y_train, y_test = train_test_split(\n",
    "    X, Y, test_size=0.20, random_state=0)\n",
    "X = X_train\n",
    "Y = y_train\n",
    "new_data      = X_train\n",
    "new_test_data = X_test\n",
    "print 'Number of training examples',len(X_train)\n",
    "print 'Number of validation examples',len(X_test)"
   ]
  },
  {
   "cell_type": "markdown",
   "metadata": {},
   "source": [
    "# deep learning model"
   ]
  },
  {
   "cell_type": "code",
   "execution_count": 7,
   "metadata": {
    "collapsed": true
   },
   "outputs": [],
   "source": [
    "# fix random seed for reproducibility\n",
    "seed = 7\n",
    "numpy.random.seed(seed)\n",
    "# evaluate model with standardized dataset\n",
    "model = KerasRegressor(build_fn=baseline_model, nb_epoch=100, batch_size=5, verbose=0)\n"
   ]
  },
  {
   "cell_type": "code",
   "execution_count": 8,
   "metadata": {
    "collapsed": false
   },
   "outputs": [
    {
     "name": "stdout",
     "output_type": "stream",
     "text": [
      "Results: 18.11 (4.80) MSE\n"
     ]
    }
   ],
   "source": [
    "kfold = KFold(n=len(X), n_folds=10, random_state=seed)\n",
    "results = cross_val_score(model, X, Y, cv=kfold)\n",
    "print(\"Results: %.2f (%.2f) MSE\" % (results.mean(), results.std()))"
   ]
  },
  {
   "cell_type": "code",
   "execution_count": 9,
   "metadata": {
    "collapsed": false
   },
   "outputs": [
    {
     "name": "stdout",
     "output_type": "stream",
     "text": [
      "R-squared =  0.777026693488\n"
     ]
    }
   ],
   "source": [
    "predicted = cross_val_predict(model, X, Y, cv=kfold)\n",
    "r_squared = r2_score(Y, predicted, multioutput='variance_weighted')\n",
    "print 'R-squared = ',r_squared"
   ]
  },
  {
   "cell_type": "markdown",
   "metadata": {},
   "source": [
    "# Ranking of the feature's importance to the target"
   ]
  },
  {
   "cell_type": "code",
   "execution_count": 10,
   "metadata": {
    "collapsed": false
   },
   "outputs": [
    {
     "name": "stdout",
     "output_type": "stream",
     "text": [
      "Feature Name      Score         Pvalue\n",
      "CRIM \t\t89.4861147577 \t1.17398708219e-19\n",
      "ZN \t\t75.257642299 \t5.71358415308e-17\n",
      "INDUS \t\t153.954883136 \t4.90025998175e-31\n",
      "CHAS \t\t15.9715124204 \t7.39062317052e-05\n",
      "NOX \t\t112.59148028 \t7.06504158625e-24\n",
      "RM \t\t471.846739876 \t2.48722887101e-74\n",
      "AGE \t\t83.4774592192 \t1.56998220919e-18\n",
      "DIS \t\t33.5795703259 \t1.20661172734e-08\n",
      "RAD \t\t85.9142776698 \t5.46593256965e-19\n",
      "TAX \t\t141.761356577 \t5.63773362769e-29\n",
      "PTRATIO \t\t175.105542876 \t1.60950947847e-34\n",
      "B \t\t63.0542291125 \t1.31811273408e-14\n",
      "LSTAT \t\t601.61787111 \t5.08110339439e-88\n",
      "MEDV \t\tinf \t0.0\n"
     ]
    }
   ],
   "source": [
    "# Randing the important features to the target\n",
    "model = feature_selection.SelectKBest(score_func=feature_selection.f_regression,k=4)\n",
    "results = model.fit(data[feature_cols], data['MEDV'])\n",
    "k=0\n",
    "print 'Feature Name      Score         Pvalue'\n",
    "for feat in feature_cols:\n",
    "    print feat,'\\t\\t',results.scores_[k],'\\t',results.pvalues_[k]\n",
    "    k=k+1\n"
   ]
  },
  {
   "cell_type": "markdown",
   "metadata": {},
   "source": [
    "# Set the parameters for cross validation"
   ]
  },
  {
   "cell_type": "code",
   "execution_count": 11,
   "metadata": {
    "collapsed": true
   },
   "outputs": [],
   "source": [
    "num_folds = 10\n",
    "num_instances = len(X)\n",
    "seed = 7\n",
    "kfold = cross_validation.KFold(n=num_instances, n_folds=num_folds, random_state=seed)"
   ]
  },
  {
   "cell_type": "markdown",
   "metadata": {},
   "source": [
    " # Set the parameters for bias-variance dilemma"
   ]
  },
  {
   "cell_type": "code",
   "execution_count": 12,
   "metadata": {
    "collapsed": false
   },
   "outputs": [],
   "source": [
    "def plot_learning_curve(estimator, title, X, y, ylim=None, cv=None,\n",
    "                        n_jobs=1, train_sizes=np.linspace(.1, 1.0, 5)):\n",
    "    plt.figure()\n",
    "    plt.title(title)\n",
    "    if ylim is not None:\n",
    "        plt.ylim(*ylim)\n",
    "    plt.xlabel(\"Training examples\")\n",
    "    plt.ylabel(\"Score\")\n",
    "    train_sizes, train_scores, test_scores = learning_curve(\n",
    "        estimator, X, y, cv=cv, n_jobs=n_jobs, train_sizes=train_sizes)\n",
    "    train_scores_mean = np.mean(train_scores, axis=1)\n",
    "    train_scores_std = np.std(train_scores, axis=1)\n",
    "    test_scores_mean = np.mean(test_scores, axis=1)\n",
    "    test_scores_std = np.std(test_scores, axis=1)\n",
    "    plt.grid()\n",
    "\n",
    "    plt.fill_between(train_sizes, train_scores_mean - train_scores_std,\n",
    "                     train_scores_mean + train_scores_std, alpha=0.1,\n",
    "                     color=\"r\")\n",
    "    plt.fill_between(train_sizes, test_scores_mean - test_scores_std,\n",
    "                     test_scores_mean + test_scores_std, alpha=0.1, color=\"g\")\n",
    "    plt.plot(train_sizes, train_scores_mean, 'o-', color=\"r\",\n",
    "             label=\"Training score\")\n",
    "    plt.plot(train_sizes, test_scores_mean, 'o-', color=\"g\",\n",
    "             label=\"Cross-validation score\")\n",
    "\n",
    "    plt.legend(loc=\"best\")\n",
    "    return plt"
   ]
  },
  {
   "cell_type": "markdown",
   "metadata": {},
   "source": [
    "# Preprocessing the data and save both the model and preprocessed data"
   ]
  },
  {
   "cell_type": "code",
   "execution_count": 13,
   "metadata": {
    "collapsed": true
   },
   "outputs": [],
   "source": [
    "# According to the nature of the data spasity and there is outliter RobustScaler class is recomandit \n",
    "# but when I tried both of them the result seems is same\n",
    "from sklearn.preprocessing import StandardScaler\n",
    "scaler = preprocessing.StandardScaler().fit(X_train)"
   ]
  },
  {
   "cell_type": "code",
   "execution_count": 14,
   "metadata": {
    "collapsed": true
   },
   "outputs": [],
   "source": [
    "X_train = scaler.transform(X_train)\n",
    "X_test = scaler.transform(X_test) # use same transform for testing data\n",
    "X = X_train"
   ]
  },
  {
   "cell_type": "code",
   "execution_count": 15,
   "metadata": {
    "collapsed": true
   },
   "outputs": [],
   "source": [
    "# save transformed data\n",
    "np.save('./data/X_train', X_train)\n",
    "np.save('./data/y_train', y_train)\n",
    "np.save('./data/X_test', X_test)\n",
    "np.save('./data/y_test', y_test)"
   ]
  },
  {
   "cell_type": "code",
   "execution_count": 16,
   "metadata": {
    "collapsed": false
   },
   "outputs": [
    {
     "data": {
      "text/plain": [
       "['scaler.pkl', 'scaler.pkl_01.npy', 'scaler.pkl_02.npy', 'scaler.pkl_03.npy']"
      ]
     },
     "execution_count": 16,
     "metadata": {},
     "output_type": "execute_result"
    }
   ],
   "source": [
    "# save the model scaler to the desk\n",
    "from sklearn.externals import joblib\n",
    "joblib.dump(scaler, 'scaler.pkl') "
   ]
  },
  {
   "cell_type": "code",
   "execution_count": 17,
   "metadata": {
    "collapsed": false
   },
   "outputs": [
    {
     "name": "stdout",
     "output_type": "stream",
     "text": [
      " =================================================================>>>>> done\n",
      "[[-0.40835869 -0.49960763 -1.12872913 ..., -0.71272928  0.18547577\n",
      "  -0.73610347]\n",
      " [ 0.71925111 -0.49960763  0.9988844  ...,  0.79267419  0.0831649\n",
      "  -0.4356916 ]\n",
      " [-0.40257488 -0.49960763  0.39610829 ..., -0.94082071  0.39472748\n",
      "  -0.30263246]\n",
      " ..., \n",
      " [-0.3982601   0.55937182 -0.85812418 ...,  0.56458276  0.41019833\n",
      "   0.06087961]\n",
      " [-0.39934279 -0.49960763 -0.07637654 ...,  0.0627816   0.30517724\n",
      "  -0.45626776]\n",
      " [-0.40088071 -0.49960763 -0.36702631 ...,  1.1120022   0.41166637\n",
      "  -0.05983383]]\n"
     ]
    }
   ],
   "source": [
    "# Test the model if it is work\n",
    "scalerTest = joblib.load('scaler.pkl')\n",
    "new_data_scaled = scalerTest.transform(new_test_data)\n",
    "print \" =================================================================>>>>> done\"\n",
    "print new_data_scaled"
   ]
  },
  {
   "cell_type": "markdown",
   "metadata": {},
   "source": [
    "# 1. model  with   Regression"
   ]
  },
  {
   "cell_type": "markdown",
   "metadata": {},
   "source": [
    "Deep learning or the Classification and Regression Trees (CART as they are know) use the training data to select the best points to split the data in order to minimize a cost metric. The default cost metric for regression Deep learning is the mean squared error, specified in the criterion parameter."
   ]
  },
  {
   "cell_type": "code",
   "execution_count": 18,
   "metadata": {
    "collapsed": false
   },
   "outputs": [
    {
     "data": {
      "text/plain": [
       "<keras.callbacks.History at 0x11d3c8950>"
      ]
     },
     "execution_count": 18,
     "metadata": {},
     "output_type": "execute_result"
    }
   ],
   "source": [
    "model = Sequential()\n",
    "model.add(Dense(30, input_dim=13, init='normal', activation='relu'))\n",
    "#model.add(Dropout(0.5))\n",
    "model.add(Dense(1, init='normal'))\n",
    "\n",
    "model.compile(loss='mean_squared_error', optimizer='adam')\n",
    "# Actual modelling\n",
    "model.fit(X, Y, verbose=0, batch_size=9, nb_epoch=100)"
   ]
  },
  {
   "cell_type": "markdown",
   "metadata": {},
   "source": [
    "## Coefficients Of Determination {Calculating R^2}\n",
    "\n",
    "R^2, Close to one is better"
   ]
  },
  {
   "cell_type": "code",
   "execution_count": 19,
   "metadata": {
    "collapsed": false
   },
   "outputs": [
    {
     "name": "stdout",
     "output_type": "stream",
     "text": [
      "R-squared =  0.892017718264\n"
     ]
    }
   ],
   "source": [
    "predicted = model.predict(X)\n",
    "r_squared = r2_score(Y, predicted, multioutput='variance_weighted')\n",
    "print 'R-squared = ',r_squared"
   ]
  },
  {
   "cell_type": "code",
   "execution_count": 20,
   "metadata": {
    "collapsed": false
   },
   "outputs": [],
   "source": [
    "prediction = predicted.ravel()"
   ]
  },
  {
   "cell_type": "code",
   "execution_count": 21,
   "metadata": {
    "collapsed": false
   },
   "outputs": [
    {
     "data": {
      "text/plain": [
       "(404, 1)"
      ]
     },
     "execution_count": 21,
     "metadata": {},
     "output_type": "execute_result"
    }
   ],
   "source": [
    "shape(predicted)"
   ]
  },
  {
   "cell_type": "code",
   "execution_count": 22,
   "metadata": {
    "collapsed": false
   },
   "outputs": [
    {
     "data": {
      "text/plain": [
       "(404,)"
      ]
     },
     "execution_count": 22,
     "metadata": {},
     "output_type": "execute_result"
    }
   ],
   "source": [
    "shape(prediction)"
   ]
  },
  {
   "cell_type": "code",
   "execution_count": 23,
   "metadata": {
    "collapsed": false
   },
   "outputs": [
    {
     "data": {
      "text/plain": [
       "(404,)"
      ]
     },
     "execution_count": 23,
     "metadata": {},
     "output_type": "execute_result"
    }
   ],
   "source": [
    "shape(Y)"
   ]
  },
  {
   "cell_type": "markdown",
   "metadata": {},
   "source": [
    "## Residual Plot"
   ]
  },
  {
   "cell_type": "code",
   "execution_count": 24,
   "metadata": {
    "collapsed": false
   },
   "outputs": [
    {
     "data": {
      "image/png": "[encoded data removed]",
      "text/plain": [
       "<matplotlib.figure.Figure at 0x11db40fd0>"
      ]
     },
     "metadata": {},
     "output_type": "display_data"
    }
   ],
   "source": [
    "fig, ax = plt.subplots()\n",
    "ax.scatter(Y, predicted)\n",
    "ax.plot([Y.min(), Y.max()], [Y.min(), Y.max()], 'k--', lw=4)\n",
    "ax.set_xlabel('Measured')\n",
    "ax.set_ylabel('Predicted')\n",
    "plt.show()"
   ]
  },
  {
   "cell_type": "code",
   "execution_count": 25,
   "metadata": {
    "collapsed": false
   },
   "outputs": [
    {
     "data": {
      "text/html": [
       "\n",
       "\n",
       "    <div class=\"bk-root\">\n",
       "        <div class=\"plotdiv\" id=\"2002f493-1cf9-487f-ac7f-3402939016a1\"></div>\n",
       "    </div>\n",
       "<script type=\"text/javascript\">\n",
       "  \n",
       "  (function(global) {\n",
       "    function now() {\n",
       "      return new Date();\n",
       "    }\n",
       "  \n",
       "    if (typeof (window._bokeh_onload_callbacks) === \"undefined\") {\n",
       "      window._bokeh_onload_callbacks = [];\n",
       "    }\n",
       "  \n",
       "    function run_callbacks() {\n",
       "      window._bokeh_onload_callbacks.forEach(function(callback) { callback() });\n",
       "      delete window._bokeh_onload_callbacks\n",
       "      console.info(\"Bokeh: all callbacks have finished\");\n",
       "    }\n",
       "  \n",
       "    function load_libs(js_urls, callback) {\n",
       "      window._bokeh_onload_callbacks.push(callback);\n",
       "      if (window._bokeh_is_loading > 0) {\n",
       "        console.log(\"Bokeh: BokehJS is being loaded, scheduling callback at\", now());\n",
       "        return null;\n",
       "      }\n",
       "      if (js_urls == null || js_urls.length === 0) {\n",
       "        run_callbacks();\n",
       "        return null;\n",
       "      }\n",
       "      console.log(\"Bokeh: BokehJS not loaded, scheduling load and callback at\", now());\n",
       "      window._bokeh_is_loading = js_urls.length;\n",
       "      for (var i = 0; i < js_urls.length; i++) {\n",
       "        var url = js_urls[i];\n",
       "        var s = document.createElement('script');\n",
       "        s.src = url;\n",
       "        s.async = false;\n",
       "        s.onreadystatechange = s.onload = function() {\n",
       "          window._bokeh_is_loading--;\n",
       "          if (window._bokeh_is_loading === 0) {\n",
       "            console.log(\"Bokeh: all BokehJS libraries loaded\");\n",
       "            run_callbacks()\n",
       "          }\n",
       "        };\n",
       "        s.onerror = function() {\n",
       "          console.warn(\"failed to load library \" + url);\n",
       "        };\n",
       "        console.log(\"Bokeh: injecting script tag for BokehJS library: \", url);\n",
       "        document.getElementsByTagName(\"head\")[0].appendChild(s);\n",
       "      }\n",
       "    };var element = document.getElementById(\"2002f493-1cf9-487f-ac7f-3402939016a1\");\n",
       "    if (element == null) {\n",
       "      console.log(\"Bokeh: ERROR: autoload.js configured with elementid '2002f493-1cf9-487f-ac7f-3402939016a1' but no matching script tag was found. \")\n",
       "      return false;\n",
       "    }\n",
       "  \n",
       "    var js_urls = [];\n",
       "  \n",
       "    var inline_js = [\n",
       "      function(Bokeh) {\n",
       "        Bokeh.$(function() {\n",
       "            var docs_json = {\"8186e975-4367-4c32-b649-b5fdb25991fa\":{\"roots\":{\"references\":[{\"attributes\":{\"align\":\"center\",\"plot\":null,\"text\":null},\"id\":\"a158ab8c-71d7-42b3-8890-797a4a1cb815\",\"type\":\"Title\"},{\"attributes\":{},\"id\":\"b89f2a78-02f9-4b03-80e5-7b133c916f1c\",\"type\":\"BasicTickFormatter\"},{\"attributes\":{\"plot\":{\"id\":\"7b6ecfac-0903-42ad-9212-bc7875d97316\",\"subtype\":\"Figure\",\"type\":\"Plot\"}},\"id\":\"46ae4463-ee25-461c-b7bb-76a583575b14\",\"type\":\"PanTool\"},{\"attributes\":{\"fill_alpha\":{\"value\":0.5},\"fill_color\":{\"value\":\"lightgrey\"},\"level\":\"overlay\",\"line_alpha\":{\"value\":1.0},\"line_color\":{\"value\":\"black\"},\"line_dash\":[4,4],\"line_width\":{\"value\":2},\"plot\":null,\"xs_units\":\"screen\",\"ys_units\":\"screen\"},\"id\":\"8829a35c-fbab-4241-80bc-beee982dc61b\",\"type\":\"PolyAnnotation\"},{\"attributes\":{\"fill_alpha\":{\"value\":0.1},\"fill_color\":{\"value\":\"#1f77b4\"},\"line_alpha\":{\"value\":0.1},\"line_color\":{\"value\":\"#1f77b4\"},\"line_width\":{\"value\":3},\"x\":{\"field\":\"x\"},\"y\":{\"field\":\"y\"}},\"id\":\"1ddd646c-57ad-4db9-8745-eefee0adcf3b\",\"type\":\"Circle\"},{\"attributes\":{\"plot\":{\"id\":\"7b6ecfac-0903-42ad-9212-bc7875d97316\",\"subtype\":\"Figure\",\"type\":\"Plot\"}},\"id\":\"1ecb668e-f113-4e94-a1ba-f51e7baccf64\",\"type\":\"UndoTool\"},{\"attributes\":{\"bottom_units\":\"screen\",\"fill_alpha\":{\"value\":0.5},\"fill_color\":{\"value\":\"lightgrey\"},\"left_units\":\"screen\",\"level\":\"overlay\",\"line_alpha\":{\"value\":1.0},\"line_color\":{\"value\":\"black\"},\"line_dash\":[4,4],\"line_width\":{\"value\":2},\"plot\":null,\"render_mode\":\"css\",\"right_units\":\"screen\",\"top_units\":\"screen\"},\"id\":\"4cf5d204-527c-4040-bb85-978503ddbd1c\",\"type\":\"BoxAnnotation\"},{\"attributes\":{\"callback\":null,\"plot\":{\"id\":\"7b6ecfac-0903-42ad-9212-bc7875d97316\",\"subtype\":\"Figure\",\"type\":\"Plot\"}},\"id\":\"b8235d97-f06b-4a68-8a1d-6471f775e764\",\"type\":\"TapTool\"},{\"attributes\":{\"plot\":{\"id\":\"7b6ecfac-0903-42ad-9212-bc7875d97316\",\"subtype\":\"Figure\",\"type\":\"Plot\"}},\"id\":\"3dfb9ae2-f19e-4000-8461-19744b0b57c3\",\"type\":\"CrosshairTool\"},{\"attributes\":{\"callback\":null,\"column_names\":[\"x\",\"y\"],\"data\":{\"x\":[26.7,21.7,22.0,22.9,10.4,21.9,20.6,26.4,41.3,17.2,27.1,20.4,16.5,24.4,8.4,23.0,9.7,50.0,30.5,12.3,19.4,21.2,20.3,18.8,33.4,18.5,19.6,33.2,13.1,7.5,13.6,17.4,8.4,35.4,24.0,13.4,26.2,7.2,13.1,24.5,37.2,25.0,24.1,16.6,32.9,36.2,11.0,7.2,22.8,28.7,14.4,24.4,18.1,22.5,20.5,15.2,17.4,13.6,8.7,18.2,35.4,31.7,33.0,22.2,20.4,23.9,25.0,12.7,29.1,12.0,17.7,27.0,20.6,10.2,17.5,19.7,29.8,20.5,14.9,10.9,19.5,22.7,19.5,24.6,25.0,24.5,50.0,14.3,11.8,31.0,28.7,16.2,43.5,25.0,22.0,19.9,22.1,46.0,22.9,20.2,43.1,34.6,13.8,24.3,21.5,24.4,21.2,23.8,26.6,25.1,9.6,19.4,19.4,9.5,14.0,26.5,13.8,34.7,16.3,21.7,17.5,15.6,20.9,21.7,12.7,18.5,23.7,19.3,12.7,21.6,23.2,29.6,21.2,23.8,17.1,22.0,36.5,18.8,21.9,23.1,20.2,17.4,37.0,24.1,36.2,15.7,32.2,13.5,17.9,13.3,11.7,41.7,18.4,13.1,25.0,21.2,16.0,34.9,25.2,24.8,21.5,23.4,18.9,10.8,21.0,27.5,17.5,13.5,28.7,14.8,19.1,28.6,13.1,19.0,11.3,13.3,22.4,20.1,18.2,22.9,20.6,25.0,12.8,34.9,23.7,50.0,29.0,30.1,22.0,15.6,23.3,30.1,14.3,22.8,50.0,20.8,6.3,34.9,32.4,19.9,20.3,17.8,23.1,20.4,23.2,7.0,16.8,46.7,50.0,22.9,23.9,21.4,21.7,15.4,15.3,23.1,23.9,19.4,11.9,17.8,31.5,33.8,20.8,19.8,22.4,5.0,24.5,19.4,15.1,18.2,19.3,27.1,20.7,37.6,11.7,33.4,30.1,21.4,45.4,20.1,20.8,26.4,10.4,21.8,32.0,21.7,18.4,37.9,17.8,28.0,28.2,36.0,18.9,15.0,22.5,30.7,20.0,19.1,23.3,26.6,21.1,19.7,20.0,12.1,7.2,14.2,17.3,27.5,22.2,10.9,19.2,32.0,14.5,24.7,12.6,24.0,24.1,50.0,16.1,43.8,26.6,36.1,21.8,29.9,50.0,44.0,20.6,19.6,28.4,19.1,22.3,20.9,28.4,14.4,32.7,13.8,8.5,22.5,35.1,31.6,17.8,15.6,20.7,39.8,17.8,19.6,14.9,22.0,48.8,25.0,48.5,23.9,20.3,15.2,10.5,19.0,16.4,8.8,22.0,24.8,50.0,19.3,22.7,37.3,31.6,8.3,23.1,50.0,13.9,16.1,25.3,19.5,10.2,19.9,35.2,13.4,24.7,11.5,23.4,16.7,15.4,18.0,28.5,18.4,32.5,50.0,50.0,19.6,17.6,42.3,14.5,13.2,16.2,29.6,16.7,13.0,22.3,13.4,5.0,19.5,14.6,22.0,8.1,24.6,33.2,20.6,14.1,14.1,21.1,30.3,23.7,21.4,18.3,8.5,22.8,22.8,22.2,13.9,25.0,18.5,7.0,22.6,20.1,30.8,31.1,23.8,12.5,23.6,23.2,24.2,22.2,27.9,22.2,33.1,19.3,18.9,22.6,50.0,24.8,18.5,36.4,19.2,16.6,23.1],\"y\":[31.581565856933594,21.886211395263672,27.83976936340332,18.95121192932129,10.768497467041016,21.79874610900879,22.405866622924805,26.30796241760254,34.33195877075195,12.702878952026367,18.36370849609375,18.69068145751953,15.228139877319336,22.060745239257812,6.370445728302002,19.153400421142578,12.645217895507812,49.62504196166992,28.81377410888672,12.823497772216797,19.24140167236328,20.421735763549805,21.769655227661133,21.021047592163086,35.413883209228516,15.109167098999023,17.94504737854004,33.85518264770508,17.199918746948242,7.660159587860107,17.182981491088867,21.02484130859375,8.891838073730469,35.63303756713867,22.636743545532227,12.535942077636719,25.07918357849121,6.671107769012451,8.430620193481445,20.38425636291504,34.6624641418457,27.66984748840332,26.682790756225586,15.424100875854492,32.283573150634766,31.925310134887695,12.392740249633789,9.414909362792969,28.27843475341797,24.979686737060547,10.78822135925293,25.823421478271484,15.44666862487793,25.430213928222656,20.999059677124023,16.61578369140625,17.280698776245117,14.266910552978516,8.405590057373047,17.353504180908203,36.21634292602539,34.099857330322266,30.79031753540039,20.255022048950195,20.937124252319336,23.893098831176758,24.068559646606445,16.359853744506836,31.007020950317383,12.29353141784668,19.241960525512695,30.70087432861328,19.707582473754883,11.255775451660156,17.28116798400879,14.906139373779297,22.53443717956543,21.10493278503418,15.197742462158203,11.003643035888672,20.30275535583496,22.353120803833008,17.240148544311523,25.021114349365234,24.21800422668457,27.835344314575195,43.15434646606445,15.78555679321289,8.714048385620117,35.91639709472656,32.93379592895508,18.4864444732666,42.12171173095703,24.11983299255371,26.340858459472656,18.934804916381836,25.956815719604492,42.674598693847656,24.03411293029785,17.017475128173828,39.3485107421875,38.41305160522461,10.585205078125,27.6497745513916,20.343448638916016,23.70240592956543,21.272485733032227,21.33778190612793,27.79740333557129,27.034465789794922,11.679752349853516,20.114810943603516,21.52849578857422,9.784469604492188,13.075363159179688,25.773942947387695,18.73773193359375,33.27939987182617,14.22398567199707,21.145219802856445,16.917692184448242,16.796220779418945,22.60338592529297,25.69219398498535,14.083898544311523,24.277921676635742,26.389238357543945,18.67595863342285,13.908462524414062,24.348106384277344,23.90290069580078,27.5568790435791,22.595355987548828,24.371360778808594,13.56962776184082,23.368410110473633,35.82988739013672,19.15766716003418,35.256629943847656,24.3731689453125,21.84920883178711,15.32392692565918,31.12369728088379,22.79826545715332,26.48238182067871,16.898466110229492,35.09303283691406,13.709569931030273,12.632335662841797,14.243961334228516,16.66724967956543,43.35050964355469,15.441770553588867,14.903644561767578,25.935657501220703,22.698726654052734,15.497518539428711,30.894670486450195,25.312788009643555,26.181245803833008,22.41797637939453,24.57502555847168,21.647676467895508,10.330755233764648,19.30673599243164,28.865694046020508,18.84980583190918,13.923879623413086,28.966230392456055,15.151288986206055,14.607156753540039,29.71480369567871,15.81098747253418,21.20838737487793,12.951528549194336,14.044940948486328,21.159130096435547,19.58241081237793,18.134790420532227,23.833086013793945,19.90673828125,24.279277801513672,12.33073616027832,34.793243408203125,21.678098678588867,48.577857971191406,29.257360458374023,31.838275909423828,19.723182678222656,15.921527862548828,24.740314483642578,28.099517822265625,14.411981582641602,27.08186149597168,41.405860900878906,18.7531795501709,8.561683654785156,33.97413635253906,30.749698638916016,19.167497634887695,21.142274856567383,18.222442626953125,24.01247215270996,18.182828903198242,22.8424072265625,7.378706455230713,19.113676071166992,40.871368408203125,40.0265998840332,21.33076286315918,29.186412811279297,18.921342849731445,20.6541690826416,14.729692459106445,20.506067276000977,19.665203094482422,24.150876998901367,18.588117599487305,16.957658767700195,15.230058670043945,33.61759567260742,35.905826568603516,23.590803146362305,18.360963821411133,24.880849838256836,8.161012649536133,20.544092178344727,21.225933074951172,17.66383171081543,17.545019149780273,19.34279441833496,27.306970596313477,20.180326461791992,40.873836517333984,14.452186584472656,31.481504440307617,30.06361961364746,22.975439071655273,44.44892501831055,25.95706558227539,22.840303421020508,21.291929244995117,7.1735358238220215,21.667892456054688,31.327486038208008,23.26428985595703,17.849042892456055,34.83880615234375,16.13545036315918,27.439979553222656,29.544458389282227,36.62974166870117,17.6358699798584,17.572542190551758,23.18193817138672,31.955495834350586,20.85108757019043,17.8765869140625,20.340312957763672,31.660564422607422,20.500017166137695,21.60635757446289,16.623950958251953,14.23951530456543,12.877466201782227,18.078397750854492,17.823331832885742,30.23354721069336,20.265966415405273,11.889472961425781,19.147192001342773,30.65962791442871,15.094808578491211,25.91810417175293,15.895719528198242,28.76540184020996,24.19997215270996,32.19780731201172,20.485458374023438,42.68217086791992,28.204071044921875,34.433128356933594,19.237520217895508,31.684280395507812,37.30937576293945,39.41139602661133,20.571916580200195,22.031333923339844,28.327512741088867,13.361898422241211,24.780845642089844,18.93039321899414,27.081300735473633,18.78183937072754,35.270565032958984,10.608829498291016,15.687723159790039,18.778675079345703,35.68091583251953,32.45901870727539,11.943477630615234,12.17082405090332,22.59208869934082,40.1329231262207,20.487808227539062,18.01625633239746,11.601104736328125,27.114768981933594,48.785274505615234,24.485631942749023,46.38917922973633,25.161359786987305,23.18716049194336,17.13046646118164,9.573219299316406,15.646841049194336,16.108543395996094,12.933895111083984,26.557750701904297,23.45085334777832,49.32131576538086,18.96329689025879,26.151947021484375,33.48933792114258,31.655790328979492,10.781631469726562,23.873937606811523,52.7458610534668,10.275760650634766,16.853052139282227,25.66536521911621,17.583276748657227,11.24325942993164,18.31928825378418,37.64835739135742,13.657609939575195,22.365755081176758,15.242446899414062,22.78687286376953,17.077192306518555,14.25155258178711,17.71432876586914,30.622827529907227,18.001691818237305,29.4666805267334,38.22708511352539,47.59607696533203,19.710521697998047,13.17685317993164,41.82951354980469,15.784526824951172,12.823162078857422,15.6400146484375,24.745540618896484,17.202964782714844,14.053932189941406,22.86233139038086,12.112184524536133,6.224026203155518,18.28926658630371,11.726652145385742,27.657426834106445,12.133378982543945,27.349435806274414,36.47421646118164,22.201114654541016,14.980228424072266,12.9366455078125,21.380456924438477,35.25016403198242,25.47625160217285,18.64700698852539,18.507400512695312,6.907334804534912,20.7726993560791,24.197351455688477,22.59770965576172,14.202163696289062,22.68150520324707,19.452905654907227,13.883106231689453,23.801746368408203,20.24762535095215,29.053693771362305,33.80711364746094,25.026918411254883,16.448951721191406,31.191564559936523,20.49208641052246,26.269851684570312,24.231691360473633,28.617868423461914,21.719568252563477,30.819082260131836,17.3980712890625,17.024646759033203,20.061431884765625,46.6295166015625,23.21647834777832,17.761110305786133,34.18562316894531,21.852964401245117,20.571653366088867,20.323177337646484]}},\"id\":\"f3d8a2e4-1ca3-4fad-a4f3-8086b5389cfe\",\"type\":\"ColumnDataSource\"},{\"attributes\":{\"fill_color\":{\"value\":\"#80B1D3\"},\"line_color\":{\"value\":\"#80B1D3\"},\"line_width\":{\"value\":3},\"x\":{\"field\":\"x\"},\"y\":{\"field\":\"y\"}},\"id\":\"d600f53b-534e-4c86-8f22-4788dc6704c9\",\"type\":\"Circle\"},{\"attributes\":{\"bottom_units\":\"screen\",\"fill_alpha\":{\"value\":0.5},\"fill_color\":{\"value\":\"lightgrey\"},\"left_units\":\"screen\",\"level\":\"overlay\",\"line_alpha\":{\"value\":1.0},\"line_color\":{\"value\":\"black\"},\"line_dash\":[4,4],\"line_width\":{\"value\":2},\"plot\":null,\"render_mode\":\"css\",\"right_units\":\"screen\",\"top_units\":\"screen\"},\"id\":\"42395847-097b-449f-a72a-bb15ef9c05ec\",\"type\":\"BoxAnnotation\"},{\"attributes\":{},\"id\":\"bc52add1-d5ef-4f97-9fed-9d1d9377060d\",\"type\":\"BasicTicker\"},{\"attributes\":{\"line_dash\":[4,4],\"line_width\":{\"value\":2},\"x\":{\"field\":\"x\"},\"y\":{\"field\":\"y\"}},\"id\":\"497d25d8-9636-4610-aba4-7f36de6ef223\",\"type\":\"Line\"},{\"attributes\":{\"axis_label\":\"Predicted\",\"axis_label_text_color\":{\"value\":\"#aa6666\"},\"formatter\":{\"id\":\"b89f2a78-02f9-4b03-80e5-7b133c916f1c\",\"type\":\"BasicTickFormatter\"},\"plot\":{\"id\":\"7b6ecfac-0903-42ad-9212-bc7875d97316\",\"subtype\":\"Figure\",\"type\":\"Plot\"},\"ticker\":{\"id\":\"6e85e3fc-0669-45f8-a374-0235d076798e\",\"type\":\"BasicTicker\"}},\"id\":\"290f01e9-9b0a-4d4f-a551-8a7bbbe8a8a3\",\"type\":\"LinearAxis\"},{\"attributes\":{\"plot\":{\"id\":\"7b6ecfac-0903-42ad-9212-bc7875d97316\",\"subtype\":\"Figure\",\"type\":\"Plot\"}},\"id\":\"c764be0b-e767-4556-96f5-54b8dc57be7d\",\"type\":\"ResetTool\"},{\"attributes\":{\"callback\":null},\"id\":\"83cbf2fd-d591-48e0-8d5d-e9a8209b9f1e\",\"type\":\"DataRange1d\"},{\"attributes\":{\"data_source\":{\"id\":\"4dd69691-0294-40f1-ac20-d816f5330f88\",\"type\":\"ColumnDataSource\"},\"glyph\":{\"id\":\"497d25d8-9636-4610-aba4-7f36de6ef223\",\"type\":\"Line\"},\"hover_glyph\":null,\"nonselection_glyph\":{\"id\":\"d6cef942-4798-4b94-9c28-6c7ef1f5c4d1\",\"type\":\"Line\"},\"selection_glyph\":null},\"id\":\"05c30077-3af7-4748-b7e6-1cffb30d373b\",\"type\":\"GlyphRenderer\"},{\"attributes\":{\"callback\":null,\"overlay\":{\"id\":\"4e626fc3-9cb9-4523-9c0b-af428a5b58d4\",\"type\":\"PolyAnnotation\"},\"plot\":{\"id\":\"7b6ecfac-0903-42ad-9212-bc7875d97316\",\"subtype\":\"Figure\",\"type\":\"Plot\"}},\"id\":\"8c082d7c-0467-447a-823a-a999da841c68\",\"type\":\"LassoSelectTool\"},{\"attributes\":{},\"id\":\"6e85e3fc-0669-45f8-a374-0235d076798e\",\"type\":\"BasicTicker\"},{\"attributes\":{\"callback\":null,\"overlay\":{\"id\":\"4cf5d204-527c-4040-bb85-978503ddbd1c\",\"type\":\"BoxAnnotation\"},\"plot\":{\"id\":\"7b6ecfac-0903-42ad-9212-bc7875d97316\",\"subtype\":\"Figure\",\"type\":\"Plot\"},\"renderers\":[{\"id\":\"390c0854-656e-42a5-b51a-8fd6ea184d79\",\"type\":\"GlyphRenderer\"},{\"id\":\"05c30077-3af7-4748-b7e6-1cffb30d373b\",\"type\":\"GlyphRenderer\"}]},\"id\":\"2e751723-eb67-44d9-bcbd-4b4eefc100f5\",\"type\":\"BoxSelectTool\"},{\"attributes\":{\"data_source\":{\"id\":\"f3d8a2e4-1ca3-4fad-a4f3-8086b5389cfe\",\"type\":\"ColumnDataSource\"},\"glyph\":{\"id\":\"d600f53b-534e-4c86-8f22-4788dc6704c9\",\"type\":\"Circle\"},\"hover_glyph\":null,\"nonselection_glyph\":{\"id\":\"1ddd646c-57ad-4db9-8745-eefee0adcf3b\",\"type\":\"Circle\"},\"selection_glyph\":null},\"id\":\"390c0854-656e-42a5-b51a-8fd6ea184d79\",\"type\":\"GlyphRenderer\"},{\"attributes\":{\"overlay\":{\"id\":\"42395847-097b-449f-a72a-bb15ef9c05ec\",\"type\":\"BoxAnnotation\"},\"plot\":{\"id\":\"7b6ecfac-0903-42ad-9212-bc7875d97316\",\"subtype\":\"Figure\",\"type\":\"Plot\"}},\"id\":\"bd443ae2-a22d-460f-812c-92fe33d90b7d\",\"type\":\"BoxZoomTool\"},{\"attributes\":{\"line_alpha\":{\"value\":0.1},\"line_color\":{\"value\":\"#1f77b4\"},\"line_dash\":[4,4],\"line_width\":{\"value\":2},\"x\":{\"field\":\"x\"},\"y\":{\"field\":\"y\"}},\"id\":\"d6cef942-4798-4b94-9c28-6c7ef1f5c4d1\",\"type\":\"Line\"},{\"attributes\":{\"callback\":null},\"id\":\"4fc6fd33-6ec9-4def-a26f-bddbdf555ba5\",\"type\":\"DataRange1d\"},{\"attributes\":{\"active_drag\":\"auto\",\"active_scroll\":\"auto\",\"active_tap\":\"auto\",\"tools\":[{\"id\":\"bd443ae2-a22d-460f-812c-92fe33d90b7d\",\"type\":\"BoxZoomTool\"},{\"id\":\"2e751723-eb67-44d9-bcbd-4b4eefc100f5\",\"type\":\"BoxSelectTool\"},{\"id\":\"3dfb9ae2-f19e-4000-8461-19744b0b57c3\",\"type\":\"CrosshairTool\"},{\"id\":\"1237f901-61ea-4a5a-9a99-f4466b4418b9\",\"type\":\"ResizeTool\"},{\"id\":\"c764be0b-e767-4556-96f5-54b8dc57be7d\",\"type\":\"ResetTool\"},{\"id\":\"8c082d7c-0467-447a-823a-a999da841c68\",\"type\":\"LassoSelectTool\"},{\"id\":\"46ae4463-ee25-461c-b7bb-76a583575b14\",\"type\":\"PanTool\"},{\"id\":\"fafbf490-c8de-4a40-963e-241914ac5c91\",\"type\":\"SaveTool\"},{\"id\":\"49fec7bd-4fc7-4777-b1e3-d20b4798a255\",\"type\":\"PolySelectTool\"},{\"id\":\"b8235d97-f06b-4a68-8a1d-6471f775e764\",\"type\":\"TapTool\"},{\"id\":\"066135eb-28ef-4e9d-a683-4a473e523ec2\",\"type\":\"WheelZoomTool\"},{\"id\":\"1ecb668e-f113-4e94-a1ba-f51e7baccf64\",\"type\":\"UndoTool\"}]},\"id\":\"f8ea477a-1ed6-437f-a23e-8ba71c04916a\",\"type\":\"Toolbar\"},{\"attributes\":{},\"id\":\"d4e28b88-d3fd-4498-b238-a978dde1d9c7\",\"type\":\"BasicTickFormatter\"},{\"attributes\":{\"plot\":{\"id\":\"7b6ecfac-0903-42ad-9212-bc7875d97316\",\"subtype\":\"Figure\",\"type\":\"Plot\"}},\"id\":\"066135eb-28ef-4e9d-a683-4a473e523ec2\",\"type\":\"WheelZoomTool\"},{\"attributes\":{\"plot\":{\"id\":\"7b6ecfac-0903-42ad-9212-bc7875d97316\",\"subtype\":\"Figure\",\"type\":\"Plot\"},\"ticker\":{\"id\":\"bc52add1-d5ef-4f97-9fed-9d1d9377060d\",\"type\":\"BasicTicker\"}},\"id\":\"ae99010c-3734-44ca-afe1-bc00d3188a73\",\"type\":\"Grid\"},{\"attributes\":{\"background_fill_alpha\":{\"value\":0.5},\"background_fill_color\":{\"value\":\"beige\"},\"below\":[{\"id\":\"794b50ae-6ebe-454f-9ee7-ccbbfc55388f\",\"type\":\"LinearAxis\"}],\"left\":[{\"id\":\"290f01e9-9b0a-4d4f-a551-8a7bbbe8a8a3\",\"type\":\"LinearAxis\"}],\"plot_height\":500,\"plot_width\":500,\"renderers\":[{\"id\":\"794b50ae-6ebe-454f-9ee7-ccbbfc55388f\",\"type\":\"LinearAxis\"},{\"id\":\"ae99010c-3734-44ca-afe1-bc00d3188a73\",\"type\":\"Grid\"},{\"id\":\"290f01e9-9b0a-4d4f-a551-8a7bbbe8a8a3\",\"type\":\"LinearAxis\"},{\"id\":\"3dfbd4d7-5f2b-42b5-aba0-ce77283cf749\",\"type\":\"Grid\"},{\"id\":\"42395847-097b-449f-a72a-bb15ef9c05ec\",\"type\":\"BoxAnnotation\"},{\"id\":\"4cf5d204-527c-4040-bb85-978503ddbd1c\",\"type\":\"BoxAnnotation\"},{\"id\":\"4e626fc3-9cb9-4523-9c0b-af428a5b58d4\",\"type\":\"PolyAnnotation\"},{\"id\":\"8829a35c-fbab-4241-80bc-beee982dc61b\",\"type\":\"PolyAnnotation\"},{\"id\":\"390c0854-656e-42a5-b51a-8fd6ea184d79\",\"type\":\"GlyphRenderer\"},{\"id\":\"05c30077-3af7-4748-b7e6-1cffb30d373b\",\"type\":\"GlyphRenderer\"}],\"title\":{\"id\":\"a158ab8c-71d7-42b3-8890-797a4a1cb815\",\"type\":\"Title\"},\"tool_events\":{\"id\":\"36713631-a243-4a7c-afcf-0aedec851b3b\",\"type\":\"ToolEvents\"},\"toolbar\":{\"id\":\"f8ea477a-1ed6-437f-a23e-8ba71c04916a\",\"type\":\"Toolbar\"},\"x_range\":{\"id\":\"83cbf2fd-d591-48e0-8d5d-e9a8209b9f1e\",\"type\":\"DataRange1d\"},\"y_range\":{\"id\":\"4fc6fd33-6ec9-4def-a26f-bddbdf555ba5\",\"type\":\"DataRange1d\"}},\"id\":\"7b6ecfac-0903-42ad-9212-bc7875d97316\",\"subtype\":\"Figure\",\"type\":\"Plot\"},{\"attributes\":{\"fill_alpha\":{\"value\":0.5},\"fill_color\":{\"value\":\"lightgrey\"},\"level\":\"overlay\",\"line_alpha\":{\"value\":1.0},\"line_color\":{\"value\":\"black\"},\"line_dash\":[4,4],\"line_width\":{\"value\":2},\"plot\":null,\"xs_units\":\"screen\",\"ys_units\":\"screen\"},\"id\":\"4e626fc3-9cb9-4523-9c0b-af428a5b58d4\",\"type\":\"PolyAnnotation\"},{\"attributes\":{\"overlay\":{\"id\":\"8829a35c-fbab-4241-80bc-beee982dc61b\",\"type\":\"PolyAnnotation\"},\"plot\":{\"id\":\"7b6ecfac-0903-42ad-9212-bc7875d97316\",\"subtype\":\"Figure\",\"type\":\"Plot\"}},\"id\":\"49fec7bd-4fc7-4777-b1e3-d20b4798a255\",\"type\":\"PolySelectTool\"},{\"attributes\":{\"plot\":{\"id\":\"7b6ecfac-0903-42ad-9212-bc7875d97316\",\"subtype\":\"Figure\",\"type\":\"Plot\"}},\"id\":\"1237f901-61ea-4a5a-9a99-f4466b4418b9\",\"type\":\"ResizeTool\"},{\"attributes\":{\"dimension\":1,\"plot\":{\"id\":\"7b6ecfac-0903-42ad-9212-bc7875d97316\",\"subtype\":\"Figure\",\"type\":\"Plot\"},\"ticker\":{\"id\":\"6e85e3fc-0669-45f8-a374-0235d076798e\",\"type\":\"BasicTicker\"}},\"id\":\"3dfbd4d7-5f2b-42b5-aba0-ce77283cf749\",\"type\":\"Grid\"},{\"attributes\":{\"callback\":null,\"column_names\":[\"y\",\"x\"],\"data\":{\"x\":[5.0,50.0],\"y\":[5.0,50.0]}},\"id\":\"4dd69691-0294-40f1-ac20-d816f5330f88\",\"type\":\"ColumnDataSource\"},{\"attributes\":{},\"id\":\"36713631-a243-4a7c-afcf-0aedec851b3b\",\"type\":\"ToolEvents\"},{\"attributes\":{\"plot\":{\"id\":\"7b6ecfac-0903-42ad-9212-bc7875d97316\",\"subtype\":\"Figure\",\"type\":\"Plot\"}},\"id\":\"fafbf490-c8de-4a40-963e-241914ac5c91\",\"type\":\"SaveTool\"},{\"attributes\":{\"axis_label\":\"Measured\",\"axis_label_text_color\":{\"value\":\"#aa6666\"},\"formatter\":{\"id\":\"d4e28b88-d3fd-4498-b238-a978dde1d9c7\",\"type\":\"BasicTickFormatter\"},\"major_tick_line_color\":{\"value\":\"firebrick\"},\"major_tick_line_width\":{\"value\":3},\"minor_tick_line_color\":{\"value\":\"orange\"},\"plot\":{\"id\":\"7b6ecfac-0903-42ad-9212-bc7875d97316\",\"subtype\":\"Figure\",\"type\":\"Plot\"},\"ticker\":{\"id\":\"bc52add1-d5ef-4f97-9fed-9d1d9377060d\",\"type\":\"BasicTicker\"}},\"id\":\"794b50ae-6ebe-454f-9ee7-ccbbfc55388f\",\"type\":\"LinearAxis\"}],\"root_ids\":[\"7b6ecfac-0903-42ad-9212-bc7875d97316\"]},\"title\":\"Bokeh Application\",\"version\":\"0.12.0\"}};\n",
       "            var render_items = [{\"docid\":\"8186e975-4367-4c32-b649-b5fdb25991fa\",\"elementid\":\"2002f493-1cf9-487f-ac7f-3402939016a1\",\"modelid\":\"7b6ecfac-0903-42ad-9212-bc7875d97316\",\"notebook_comms_target\":\"0c7db2dd-3572-4a38-ab28-7611a3ea5cec\"}];\n",
       "            \n",
       "            Bokeh.embed.embed_items(docs_json, render_items);\n",
       "        });\n",
       "      },\n",
       "      function(Bokeh) {\n",
       "      }\n",
       "    ];\n",
       "  \n",
       "    function run_inline_js() {\n",
       "      for (var i = 0; i < inline_js.length; i++) {\n",
       "        inline_js[i](window.Bokeh);\n",
       "      }\n",
       "    }\n",
       "  \n",
       "    if (window._bokeh_is_loading === 0) {\n",
       "      console.log(\"Bokeh: BokehJS loaded, going straight to plotting\");\n",
       "      run_inline_js();\n",
       "    } else {\n",
       "      load_libs(js_urls, function() {\n",
       "        console.log(\"Bokeh: BokehJS plotting callback run at\", now());\n",
       "        run_inline_js();\n",
       "      });\n",
       "    }\n",
       "  }(this));\n",
       "</script>"
      ]
     },
     "metadata": {},
     "output_type": "display_data"
    },
    {
     "data": {
      "text/html": [
       "<p><code>&lt;Bokeh Notebook handle for <strong>In[15]</strong>&gt;</code></p>"
      ],
      "text/plain": [
       "<bokeh.io._CommsHandle at 0x11e45fd10>"
      ]
     },
     "execution_count": 25,
     "metadata": {},
     "output_type": "execute_result"
    }
   ],
   "source": [
    "# Plotining using bokeh\n",
    "#TOOLS = [BoxSelectTool(), HoverTool()]\n",
    "#TOOLS = 'hover,box_zoom,box_select,crosshair,resize,reset,model_select,pan,save,poly_select,tap,wheel_zoom,undo'\n",
    "TOOLS = 'box_zoom,box_select,crosshair,resize,reset,lasso_select,pan,save,poly_select,tap,wheel_zoom,undo'\n",
    "p = figure(plot_width=500, plot_height=500, tools=TOOLS)\n",
    "p.scatter(Y, prediction,x=\"jjj\", marker=\"o\", color=\"#80B1D3\", line_width=3)\n",
    "p.title.align = \"center\"\n",
    "p.xaxis.axis_label = \"Measured\"\n",
    "p.xaxis.axis_label_text_color = \"#aa6666\"\n",
    "#p.xaxis.axis_label_standoff = 30\n",
    "p.xaxis.major_tick_line_color = \"firebrick\"\n",
    "p.xaxis.major_tick_line_width = 3\n",
    "p.xaxis.minor_tick_line_color = \"orange\"\n",
    "p.yaxis.axis_label = \"Predicted\"\n",
    "p.yaxis.axis_label_text_font_style = \"italic\"\n",
    "p.yaxis.axis_label_text_color = \"#aa6666\"\n",
    "p.background_fill_color = \"beige\"\n",
    "p.background_fill_alpha = 0.5\n",
    "#p.line([Y.min(), Y.max()], [Y.min(), Y.max()], line_dash=\"4 4\", line_width=2, color='red')\n",
    "\n",
    "# create a new plot with the toolbar below\n",
    "# line_dash=\"4 4\", line_width=2, color='red'\n",
    "p.line([Y.min(), Y.max()], [Y.min(), Y.max()], line_dash=\"4 4\", line_width=2, line_color=\"black\")\n",
    "show(p)"
   ]
  },
  {
   "cell_type": "code",
   "execution_count": 26,
   "metadata": {
    "collapsed": false
   },
   "outputs": [
    {
     "data": {
      "text/plain": [
       "<matplotlib.text.Text at 0x11e97d750>"
      ]
     },
     "execution_count": 26,
     "metadata": {},
     "output_type": "execute_result"
    },
    {
     "data": {
      "image/png": "[encoded data removed]",
      "text/plain": [
       "<matplotlib.figure.Figure at 0x11e44fad0>"
      ]
     },
     "metadata": {},
     "output_type": "display_data"
    }
   ],
   "source": [
    "plt.scatter(predicted, (predicted.T - Y), c='r', s=30)\n",
    "plt.title(\"Residual plot on the training data\")\n",
    "plt.xlabel(\"Predicted\")\n",
    "plt.ylabel(\"Residuals\")"
   ]
  },
  {
   "cell_type": "code",
   "execution_count": 27,
   "metadata": {
    "collapsed": false
   },
   "outputs": [
    {
     "data": {
      "text/html": [
       "\n",
       "\n",
       "    <div class=\"bk-root\">\n",
       "        <div class=\"plotdiv\" id=\"42390940-ad19-4395-bf2d-5a07341d6fa3\"></div>\n",
       "    </div>\n",
       "<script type=\"text/javascript\">\n",
       "  \n",
       "  (function(global) {\n",
       "    function now() {\n",
       "      return new Date();\n",
       "    }\n",
       "  \n",
       "    if (typeof (window._bokeh_onload_callbacks) === \"undefined\") {\n",
       "      window._bokeh_onload_callbacks = [];\n",
       "    }\n",
       "  \n",
       "    function run_callbacks() {\n",
       "      window._bokeh_onload_callbacks.forEach(function(callback) { callback() });\n",
       "      delete window._bokeh_onload_callbacks\n",
       "      console.info(\"Bokeh: all callbacks have finished\");\n",
       "    }\n",
       "  \n",
       "    function load_libs(js_urls, callback) {\n",
       "      window._bokeh_onload_callbacks.push(callback);\n",
       "      if (window._bokeh_is_loading > 0) {\n",
       "        console.log(\"Bokeh: BokehJS is being loaded, scheduling callback at\", now());\n",
       "        return null;\n",
       "      }\n",
       "      if (js_urls == null || js_urls.length === 0) {\n",
       "        run_callbacks();\n",
       "        return null;\n",
       "      }\n",
       "      console.log(\"Bokeh: BokehJS not loaded, scheduling load and callback at\", now());\n",
       "      window._bokeh_is_loading = js_urls.length;\n",
       "      for (var i = 0; i < js_urls.length; i++) {\n",
       "        var url = js_urls[i];\n",
       "        var s = document.createElement('script');\n",
       "        s.src = url;\n",
       "        s.async = false;\n",
       "        s.onreadystatechange = s.onload = function() {\n",
       "          window._bokeh_is_loading--;\n",
       "          if (window._bokeh_is_loading === 0) {\n",
       "            console.log(\"Bokeh: all BokehJS libraries loaded\");\n",
       "            run_callbacks()\n",
       "          }\n",
       "        };\n",
       "        s.onerror = function() {\n",
       "          console.warn(\"failed to load library \" + url);\n",
       "        };\n",
       "        console.log(\"Bokeh: injecting script tag for BokehJS library: \", url);\n",
       "        document.getElementsByTagName(\"head\")[0].appendChild(s);\n",
       "      }\n",
       "    };var element = document.getElementById(\"42390940-ad19-4395-bf2d-5a07341d6fa3\");\n",
       "    if (element == null) {\n",
       "      console.log(\"Bokeh: ERROR: autoload.js configured with elementid '42390940-ad19-4395-bf2d-5a07341d6fa3' but no matching script tag was found. \")\n",
       "      return false;\n",
       "    }\n",
       "  \n",
       "    var js_urls = [];\n",
       "  \n",
       "    var inline_js = [\n",
       "      function(Bokeh) {\n",
       "        Bokeh.$(function() {\n",
       "            var docs_json = {\"bef617e3-0345-4e93-9941-287152d1d063\":{\"roots\":{\"references\":[{\"attributes\":{\"active_drag\":\"auto\",\"active_scroll\":\"auto\",\"active_tap\":\"auto\",\"tools\":[{\"id\":\"10b0ffc9-de2d-4931-9720-f22477c5d1a6\",\"type\":\"BoxZoomTool\"},{\"id\":\"c240ad60-493b-41b2-8490-2976575cf1eb\",\"type\":\"BoxSelectTool\"},{\"id\":\"c4334ccc-91e1-4350-bdc8-813e949e89e0\",\"type\":\"CrosshairTool\"},{\"id\":\"9abbcaf5-8a5b-4ae0-9fa9-2389c45f6bf3\",\"type\":\"ResizeTool\"},{\"id\":\"f84ed00d-f4b8-49a9-80ef-d58b43a30275\",\"type\":\"ResetTool\"},{\"id\":\"04ca3955-a49a-434c-86bb-c1d2e673a782\",\"type\":\"LassoSelectTool\"},{\"id\":\"a21c774a-97e7-4495-9e05-ac968f46705a\",\"type\":\"PanTool\"},{\"id\":\"117eec6f-9597-48fa-b403-7a3da8327c64\",\"type\":\"SaveTool\"},{\"id\":\"a087a02a-ab26-4f3b-8759-50d4b46cdcbf\",\"type\":\"PolySelectTool\"},{\"id\":\"6ed21925-abdd-4dfe-b9fc-7c4a20e5604a\",\"type\":\"TapTool\"},{\"id\":\"e42b55a1-01f1-4643-8ade-33f8d5c1da7c\",\"type\":\"WheelZoomTool\"},{\"id\":\"7964a3f4-6973-48b6-a1cb-8fe57c8f586c\",\"type\":\"UndoTool\"}]},\"id\":\"4a75dc7e-06d4-413e-89d0-83fd3e7428ce\",\"type\":\"Toolbar\"},{\"attributes\":{},\"id\":\"a8eddeae-daaa-45ed-aa0f-6e525f3b2268\",\"type\":\"BasicTicker\"},{\"attributes\":{\"callback\":null,\"overlay\":{\"id\":\"718eefe9-9cbf-42b5-a911-c7a15a33357d\",\"type\":\"PolyAnnotation\"},\"plot\":{\"id\":\"b48c47e9-8444-41b5-8744-e72132718a2d\",\"subtype\":\"Figure\",\"type\":\"Plot\"}},\"id\":\"04ca3955-a49a-434c-86bb-c1d2e673a782\",\"type\":\"LassoSelectTool\"},{\"attributes\":{\"fill_color\":{\"value\":\"#80B1D3\"},\"line_color\":{\"value\":\"#80B1D3\"},\"line_width\":{\"value\":3},\"x\":{\"field\":\"x\"},\"y\":{\"field\":\"y\"}},\"id\":\"f286bd32-05ba-4c77-9bff-87343f365257\",\"type\":\"Circle\"},{\"attributes\":{\"plot\":{\"id\":\"b48c47e9-8444-41b5-8744-e72132718a2d\",\"subtype\":\"Figure\",\"type\":\"Plot\"}},\"id\":\"c4334ccc-91e1-4350-bdc8-813e949e89e0\",\"type\":\"CrosshairTool\"},{\"attributes\":{\"bottom_units\":\"screen\",\"fill_alpha\":{\"value\":0.5},\"fill_color\":{\"value\":\"lightgrey\"},\"left_units\":\"screen\",\"level\":\"overlay\",\"line_alpha\":{\"value\":1.0},\"line_color\":{\"value\":\"black\"},\"line_dash\":[4,4],\"line_width\":{\"value\":2},\"plot\":null,\"render_mode\":\"css\",\"right_units\":\"screen\",\"top_units\":\"screen\"},\"id\":\"7ec9cade-5aff-417c-84d6-19edf5e27c81\",\"type\":\"BoxAnnotation\"},{\"attributes\":{\"callback\":null},\"id\":\"877d686f-789a-434a-a7f8-2c9a4fc53dda\",\"type\":\"DataRange1d\"},{\"attributes\":{\"callback\":null,\"plot\":{\"id\":\"b48c47e9-8444-41b5-8744-e72132718a2d\",\"subtype\":\"Figure\",\"type\":\"Plot\"}},\"id\":\"6ed21925-abdd-4dfe-b9fc-7c4a20e5604a\",\"type\":\"TapTool\"},{\"attributes\":{\"dimension\":1,\"plot\":{\"id\":\"b48c47e9-8444-41b5-8744-e72132718a2d\",\"subtype\":\"Figure\",\"type\":\"Plot\"},\"ticker\":{\"id\":\"6e4468d6-0bc1-4ce4-a99e-3c2079b6b508\",\"type\":\"BasicTicker\"}},\"id\":\"9c9f37a6-4c5b-4aeb-9c72-0f34dca74ee5\",\"type\":\"Grid\"},{\"attributes\":{\"plot\":{\"id\":\"b48c47e9-8444-41b5-8744-e72132718a2d\",\"subtype\":\"Figure\",\"type\":\"Plot\"},\"ticker\":{\"id\":\"a8eddeae-daaa-45ed-aa0f-6e525f3b2268\",\"type\":\"BasicTicker\"}},\"id\":\"b5c9e2cf-e0e2-44f3-8d0c-d5faa210f32d\",\"type\":\"Grid\"},{\"attributes\":{},\"id\":\"ad6b73dc-934c-45b9-8c09-f17992a700a6\",\"type\":\"BasicTickFormatter\"},{\"attributes\":{\"background_fill_alpha\":{\"value\":0.5},\"background_fill_color\":{\"value\":\"beige\"},\"below\":[{\"id\":\"06d7a1de-e0e5-4248-9ff0-62290699b250\",\"type\":\"LinearAxis\"}],\"left\":[{\"id\":\"5fbe8908-a657-443a-b268-3b7978be53a8\",\"type\":\"LinearAxis\"}],\"plot_height\":500,\"plot_width\":500,\"renderers\":[{\"id\":\"06d7a1de-e0e5-4248-9ff0-62290699b250\",\"type\":\"LinearAxis\"},{\"id\":\"b5c9e2cf-e0e2-44f3-8d0c-d5faa210f32d\",\"type\":\"Grid\"},{\"id\":\"5fbe8908-a657-443a-b268-3b7978be53a8\",\"type\":\"LinearAxis\"},{\"id\":\"9c9f37a6-4c5b-4aeb-9c72-0f34dca74ee5\",\"type\":\"Grid\"},{\"id\":\"7ec9cade-5aff-417c-84d6-19edf5e27c81\",\"type\":\"BoxAnnotation\"},{\"id\":\"f3c8d8bb-7845-46bf-a109-01bb36ae5608\",\"type\":\"BoxAnnotation\"},{\"id\":\"718eefe9-9cbf-42b5-a911-c7a15a33357d\",\"type\":\"PolyAnnotation\"},{\"id\":\"4707363d-ee7d-4d69-bb6c-52a24a31e6cc\",\"type\":\"PolyAnnotation\"},{\"id\":\"4708fd1d-88ba-4a0b-8bcc-68770c348f91\",\"type\":\"GlyphRenderer\"}],\"title\":{\"id\":\"b424e2f4-8511-45d4-a4b4-c4c8274f44b5\",\"type\":\"Title\"},\"tool_events\":{\"id\":\"8dbf1785-3cb8-4517-b968-89248d0f7b0a\",\"type\":\"ToolEvents\"},\"toolbar\":{\"id\":\"4a75dc7e-06d4-413e-89d0-83fd3e7428ce\",\"type\":\"Toolbar\"},\"x_range\":{\"id\":\"fb27e2c3-95dd-42f2-8d43-56af97f20562\",\"type\":\"DataRange1d\"},\"y_range\":{\"id\":\"877d686f-789a-434a-a7f8-2c9a4fc53dda\",\"type\":\"DataRange1d\"}},\"id\":\"b48c47e9-8444-41b5-8744-e72132718a2d\",\"subtype\":\"Figure\",\"type\":\"Plot\"},{\"attributes\":{\"data_source\":{\"id\":\"56cbc476-7c53-44b7-beca-c00e6eade845\",\"type\":\"ColumnDataSource\"},\"glyph\":{\"id\":\"f286bd32-05ba-4c77-9bff-87343f365257\",\"type\":\"Circle\"},\"hover_glyph\":null,\"nonselection_glyph\":{\"id\":\"bdd36248-9da4-43cd-ab78-82ae1b57b213\",\"type\":\"Circle\"},\"selection_glyph\":null},\"id\":\"4708fd1d-88ba-4a0b-8bcc-68770c348f91\",\"type\":\"GlyphRenderer\"},{\"attributes\":{\"plot\":{\"id\":\"b48c47e9-8444-41b5-8744-e72132718a2d\",\"subtype\":\"Figure\",\"type\":\"Plot\"}},\"id\":\"117eec6f-9597-48fa-b403-7a3da8327c64\",\"type\":\"SaveTool\"},{\"attributes\":{\"overlay\":{\"id\":\"4707363d-ee7d-4d69-bb6c-52a24a31e6cc\",\"type\":\"PolyAnnotation\"},\"plot\":{\"id\":\"b48c47e9-8444-41b5-8744-e72132718a2d\",\"subtype\":\"Figure\",\"type\":\"Plot\"}},\"id\":\"a087a02a-ab26-4f3b-8759-50d4b46cdcbf\",\"type\":\"PolySelectTool\"},{\"attributes\":{\"callback\":null,\"column_names\":[\"x\",\"y\"],\"data\":{\"x\":[31.581565856933594,21.886211395263672,27.83976936340332,18.95121192932129,10.768497467041016,21.79874610900879,22.405866622924805,26.30796241760254,34.33195877075195,12.702878952026367,18.36370849609375,18.69068145751953,15.228139877319336,22.060745239257812,6.370445728302002,19.153400421142578,12.645217895507812,49.62504196166992,28.81377410888672,12.823497772216797,19.24140167236328,20.421735763549805,21.769655227661133,21.021047592163086,35.413883209228516,15.109167098999023,17.94504737854004,33.85518264770508,17.199918746948242,7.660159587860107,17.182981491088867,21.02484130859375,8.891838073730469,35.63303756713867,22.636743545532227,12.535942077636719,25.07918357849121,6.671107769012451,8.430620193481445,20.38425636291504,34.6624641418457,27.66984748840332,26.682790756225586,15.424100875854492,32.283573150634766,31.925310134887695,12.392740249633789,9.414909362792969,28.27843475341797,24.979686737060547,10.78822135925293,25.823421478271484,15.44666862487793,25.430213928222656,20.999059677124023,16.61578369140625,17.280698776245117,14.266910552978516,8.405590057373047,17.353504180908203,36.21634292602539,34.099857330322266,30.79031753540039,20.255022048950195,20.937124252319336,23.893098831176758,24.068559646606445,16.359853744506836,31.007020950317383,12.29353141784668,19.241960525512695,30.70087432861328,19.707582473754883,11.255775451660156,17.28116798400879,14.906139373779297,22.53443717956543,21.10493278503418,15.197742462158203,11.003643035888672,20.30275535583496,22.353120803833008,17.240148544311523,25.021114349365234,24.21800422668457,27.835344314575195,43.15434646606445,15.78555679321289,8.714048385620117,35.91639709472656,32.93379592895508,18.4864444732666,42.12171173095703,24.11983299255371,26.340858459472656,18.934804916381836,25.956815719604492,42.674598693847656,24.03411293029785,17.017475128173828,39.3485107421875,38.41305160522461,10.585205078125,27.6497745513916,20.343448638916016,23.70240592956543,21.272485733032227,21.33778190612793,27.79740333557129,27.034465789794922,11.679752349853516,20.114810943603516,21.52849578857422,9.784469604492188,13.075363159179688,25.773942947387695,18.73773193359375,33.27939987182617,14.22398567199707,21.145219802856445,16.917692184448242,16.796220779418945,22.60338592529297,25.69219398498535,14.083898544311523,24.277921676635742,26.389238357543945,18.67595863342285,13.908462524414062,24.348106384277344,23.90290069580078,27.5568790435791,22.595355987548828,24.371360778808594,13.56962776184082,23.368410110473633,35.82988739013672,19.15766716003418,35.256629943847656,24.3731689453125,21.84920883178711,15.32392692565918,31.12369728088379,22.79826545715332,26.48238182067871,16.898466110229492,35.09303283691406,13.709569931030273,12.632335662841797,14.243961334228516,16.66724967956543,43.35050964355469,15.441770553588867,14.903644561767578,25.935657501220703,22.698726654052734,15.497518539428711,30.894670486450195,25.312788009643555,26.181245803833008,22.41797637939453,24.57502555847168,21.647676467895508,10.330755233764648,19.30673599243164,28.865694046020508,18.84980583190918,13.923879623413086,28.966230392456055,15.151288986206055,14.607156753540039,29.71480369567871,15.81098747253418,21.20838737487793,12.951528549194336,14.044940948486328,21.159130096435547,19.58241081237793,18.134790420532227,23.833086013793945,19.90673828125,24.279277801513672,12.33073616027832,34.793243408203125,21.678098678588867,48.577857971191406,29.257360458374023,31.838275909423828,19.723182678222656,15.921527862548828,24.740314483642578,28.099517822265625,14.411981582641602,27.08186149597168,41.405860900878906,18.7531795501709,8.561683654785156,33.97413635253906,30.749698638916016,19.167497634887695,21.142274856567383,18.222442626953125,24.01247215270996,18.182828903198242,22.8424072265625,7.378706455230713,19.113676071166992,40.871368408203125,40.0265998840332,21.33076286315918,29.186412811279297,18.921342849731445,20.6541690826416,14.729692459106445,20.506067276000977,19.665203094482422,24.150876998901367,18.588117599487305,16.957658767700195,15.230058670043945,33.61759567260742,35.905826568603516,23.590803146362305,18.360963821411133,24.880849838256836,8.161012649536133,20.544092178344727,21.225933074951172,17.66383171081543,17.545019149780273,19.34279441833496,27.306970596313477,20.180326461791992,40.873836517333984,14.452186584472656,31.481504440307617,30.06361961364746,22.975439071655273,44.44892501831055,25.95706558227539,22.840303421020508,21.291929244995117,7.1735358238220215,21.667892456054688,31.327486038208008,23.26428985595703,17.849042892456055,34.83880615234375,16.13545036315918,27.439979553222656,29.544458389282227,36.62974166870117,17.6358699798584,17.572542190551758,23.18193817138672,31.955495834350586,20.85108757019043,17.8765869140625,20.340312957763672,31.660564422607422,20.500017166137695,21.60635757446289,16.623950958251953,14.23951530456543,12.877466201782227,18.078397750854492,17.823331832885742,30.23354721069336,20.265966415405273,11.889472961425781,19.147192001342773,30.65962791442871,15.094808578491211,25.91810417175293,15.895719528198242,28.76540184020996,24.19997215270996,32.19780731201172,20.485458374023438,42.68217086791992,28.204071044921875,34.433128356933594,19.237520217895508,31.684280395507812,37.30937576293945,39.41139602661133,20.571916580200195,22.031333923339844,28.327512741088867,13.361898422241211,24.780845642089844,18.93039321899414,27.081300735473633,18.78183937072754,35.270565032958984,10.608829498291016,15.687723159790039,18.778675079345703,35.68091583251953,32.45901870727539,11.943477630615234,12.17082405090332,22.59208869934082,40.1329231262207,20.487808227539062,18.01625633239746,11.601104736328125,27.114768981933594,48.785274505615234,24.485631942749023,46.38917922973633,25.161359786987305,23.18716049194336,17.13046646118164,9.573219299316406,15.646841049194336,16.108543395996094,12.933895111083984,26.557750701904297,23.45085334777832,49.32131576538086,18.96329689025879,26.151947021484375,33.48933792114258,31.655790328979492,10.781631469726562,23.873937606811523,52.7458610534668,10.275760650634766,16.853052139282227,25.66536521911621,17.583276748657227,11.24325942993164,18.31928825378418,37.64835739135742,13.657609939575195,22.365755081176758,15.242446899414062,22.78687286376953,17.077192306518555,14.25155258178711,17.71432876586914,30.622827529907227,18.001691818237305,29.4666805267334,38.22708511352539,47.59607696533203,19.710521697998047,13.17685317993164,41.82951354980469,15.784526824951172,12.823162078857422,15.6400146484375,24.745540618896484,17.202964782714844,14.053932189941406,22.86233139038086,12.112184524536133,6.224026203155518,18.28926658630371,11.726652145385742,27.657426834106445,12.133378982543945,27.349435806274414,36.47421646118164,22.201114654541016,14.980228424072266,12.9366455078125,21.380456924438477,35.25016403198242,25.47625160217285,18.64700698852539,18.507400512695312,6.907334804534912,20.7726993560791,24.197351455688477,22.59770965576172,14.202163696289062,22.68150520324707,19.452905654907227,13.883106231689453,23.801746368408203,20.24762535095215,29.053693771362305,33.80711364746094,25.026918411254883,16.448951721191406,31.191564559936523,20.49208641052246,26.269851684570312,24.231691360473633,28.617868423461914,21.719568252563477,30.819082260131836,17.3980712890625,17.024646759033203,20.061431884765625,46.6295166015625,23.21647834777832,17.761110305786133,34.18562316894531,21.852964401245117,20.571653366088867,20.323177337646484],\"y\":[4.8815658569335945,0.18621139526367259,5.83976936340332,-3.9487880706787095,0.36849746704101527,-0.10125389099120952,1.8058666229248033,-0.09203758239745952,-6.968041229248044,-4.497121047973632,-8.736291503906251,-1.7093185424804673,-1.271860122680664,-2.339254760742186,-2.0295542716979984,-3.846599578857422,2.945217895507813,-0.3749580383300781,-1.6862258911132812,0.5234977722167962,-0.15859832763671733,-0.7782642364501946,1.469655227661132,2.2210475921630852,2.013883209228517,-3.3908329010009766,-1.6549526214599624,0.6551826477050753,4.0999187469482425,0.16015958786010742,3.5829814910888675,3.6248413085937514,0.4918380737304684,0.2330375671386733,-1.3632564544677734,-0.8640579223632816,-1.1208164215087884,-0.528892230987549,-4.669379806518554,-4.115743637084961,-2.5375358581542997,2.6698474884033203,2.5827907562255845,-1.1758991241455092,-0.616426849365233,-4.2746898651123075,1.392740249633789,2.2149093627929686,5.478434753417968,-3.7203132629394524,-3.6117786407470707,1.4234214782714858,-2.6533313751220717,2.9302139282226562,0.49905967712402344,1.4157836914062507,-0.11930122375488139,0.666910552978516,-0.2944099426269524,-0.8464958190917962,0.816342926025392,2.3998573303222663,-2.2096824645996094,-1.944977951049804,0.5371242523193374,-0.006901168823240766,-0.9314403533935547,3.6598537445068366,1.9070209503173814,0.2935314178466797,1.541960525512696,3.7008743286132812,-0.8924175262451186,1.055775451660157,-0.21883201599121094,-4.793860626220702,-7.265562820434571,0.6049327850341797,0.29774246215820277,0.10364303588867152,0.8027553558349609,-0.3468791961669915,-2.2598514556884766,0.42111434936523295,-0.7819957733154297,3.3353443145751953,-6.845653533935547,1.48555679321289,-3.0859516143798835,4.9163970947265625,4.233795928955079,2.2864444732666023,-1.3782882690429688,-0.8801670074462891,4.340858459472656,-0.9651950836181626,3.8568157196044908,-3.3254013061523438,1.134112930297853,-3.182524871826171,-3.7514892578125014,3.813051605224608,-3.2147949218750007,3.349774551391601,-1.1565513610839844,-0.6975940704345689,0.07248573303222727,-2.462218093872071,1.1974033355712876,1.9344657897949205,2.079752349853516,0.714810943603517,2.12849578857422,0.2844696044921875,-0.9246368408203125,-0.7260570526123047,4.937731933593749,-1.420600128173831,-2.0760143280029304,-0.554780197143554,-0.5823078155517578,1.1962207794189457,1.7033859252929702,3.9921939849853523,1.3838985443115241,5.777921676635742,2.689238357543946,-0.6240413665771491,1.2084625244140632,2.7481063842773423,0.702900695800782,-2.0431209564209,1.3953559875488288,0.571360778808593,-3.530372238159181,1.3684101104736328,-0.6701126098632812,0.357667160034179,13.356629943847658,1.2731689453124986,1.64920883178711,-2.076073074340819,-5.876302719116211,-1.301734542846681,-9.717618179321292,1.198466110229493,2.8930328369140597,0.20956993103027344,-5.267664337158202,0.9439613342285149,4.96724967956543,1.6505096435546847,-2.9582294464111314,1.8036445617675785,0.9356575012207031,1.498726654052735,-0.5024814605712891,-4.005329513549803,0.1127880096435554,1.381245803833007,0.9179763793945312,1.175025558471681,2.7476764678955092,-0.4692447662353523,-1.6932640075683594,1.3656940460205078,1.3498058319091797,0.42387962341308594,0.2662303924560554,0.351288986206054,-4.492843246459962,1.1148036956787095,2.71098747253418,2.2083873748779297,1.6515285491943352,0.7449409484863274,-1.2408699035644517,-0.5175891876220717,-0.06520957946777273,0.9330860137939467,-0.6932617187500014,-0.7207221984863281,-0.4692638397216804,-0.10675659179687358,-2.021901321411132,-1.4221420288085938,0.25736045837402344,1.7382759094238267,-2.2768173217773438,0.3215278625488285,1.4403144836425774,-2.0004821777343764,0.11198158264160085,4.281861495971679,-8.594139099121094,-2.0468204498291023,2.2616836547851564,-0.9258636474609361,-1.650301361083983,-0.7325023651123033,0.8422748565673821,0.4224426269531243,0.9124721527099595,-2.2171710968017564,-0.3575927734374993,0.3787064552307129,2.3136760711669915,-5.828631591796878,-9.973400115966797,-1.569237136840819,5.286412811279298,-2.4786571502685533,-1.0458309173583977,-0.670307540893555,5.206067276000976,-3.4347969055175795,0.2508769989013686,-0.8118824005126939,5.057658767700195,-2.5699413299560554,2.117595672607422,2.1058265686035185,2.790803146362304,-1.439036178588868,2.4808498382568374,3.161012649536133,-3.9559078216552734,1.8259330749511733,2.56383171081543,-0.6549808502197259,0.04279441833496023,0.20697059631347514,-0.5196735382080071,3.273836517333983,2.752186584472657,-1.9184955596923814,-0.036380386352540484,1.5754390716552749,-0.9510749816894517,5.857065582275389,2.040303421020507,-5.108070755004881,-3.226464176177979,-0.1321075439453132,-0.6725139617919922,1.564289855957032,-0.5509571075439439,-3.0611938476562486,-1.664549636840821,-0.5600204467773438,1.3444583892822273,0.6297416687011719,-1.2641300201416001,2.572542190551758,0.6819381713867188,1.2554958343505866,0.8510875701904297,-1.2234130859375014,-2.959687042236329,5.0605644226074205,-0.5999828338623061,1.9063575744628913,-3.376049041748047,2.13951530456543,5.677466201782226,3.878397750854493,0.5233318328857415,2.7335472106933594,-1.9340335845947259,0.9894729614257809,-0.05280799865722585,-1.340372085571289,0.5948085784912109,1.2181041717529304,3.2957195281982425,4.765401840209961,0.09997215270995952,-17.80219268798828,4.385458374023436,-1.1178291320800753,1.6040710449218736,-1.6668716430664077,-2.562479782104493,1.784280395507814,-12.690624237060547,-4.588603973388672,-0.02808341979980611,2.4313339233398423,-0.07248725891113139,-5.7381015777587905,2.480845642089843,-1.969606781005858,-1.3186992645263658,4.381839370727539,2.5705650329589815,-3.191170501708985,7.187723159790039,-3.721324920654297,0.5809158325195298,0.8590187072753892,-5.856522369384766,-3.4291759490966793,1.892088699340821,0.33292312622070597,2.687808227539062,-1.5837436676025405,-3.2988952636718754,5.114768981933594,-0.014725494384762783,-0.5143680572509766,-2.110820770263672,1.261359786987306,2.8871604919433587,1.9304664611816413,-0.9267807006835938,-3.353158950805664,-0.29145660400390483,4.133895111083984,4.557750701904297,-1.3491466522216804,-0.6786842346191406,-0.33670310974121165,3.4519470214843757,-3.810662078857419,0.055790328979490766,2.481631469726562,0.773937606811522,2.745861053466797,-3.6242393493652347,0.7530521392822251,0.3653652191162102,-1.9167232513427734,1.0432594299316413,-1.580711746215819,2.448357391357419,0.25760993957519496,-2.3342449188232415,3.7424468994140625,-0.6131271362304673,0.3771923065185554,-1.148447418212891,-0.2856712341308594,2.1228275299072266,-0.3983081817626939,-3.0333194732666016,-11.77291488647461,-2.4039230346679688,0.11052169799804545,-4.423146820068361,-0.47048645019530966,1.2845268249511719,-0.3768379211425774,-0.5599853515624993,-4.854459381103517,0.5029647827148445,1.0539321899414062,0.5623313903808587,-1.2878154754638675,1.2240262031555176,-1.210733413696289,-2.8733478546142575,5.657426834106445,4.033378982543946,2.7494358062744126,3.274216461181638,1.6011146545410142,0.880228424072266,-1.1633544921874996,0.28045692443847514,4.950164031982421,1.7762516021728523,-2.752993011474608,0.2074005126953118,-1.592665195465088,-2.027300643920899,1.3973514556884759,0.39770965576171946,0.30216369628906214,-2.3184947967529297,0.9529056549072266,6.883106231689453,1.2017463684082017,0.14762535095214702,-1.746306228637696,2.707113647460936,1.226918411254882,3.9489517211914062,7.591564559936522,-2.7079135894775384,2.069851684570313,2.0316913604736335,0.7178684234619155,-0.4804317474365227,-2.2809177398681655,-1.9019287109375007,-1.8753532409667955,-2.5385681152343764,-3.3704833984375,-1.5835216522216804,-0.7388896942138672,-2.214376831054686,2.652964401245118,3.9716533660888658,-2.776822662353517]}},\"id\":\"56cbc476-7c53-44b7-beca-c00e6eade845\",\"type\":\"ColumnDataSource\"},{\"attributes\":{\"fill_alpha\":{\"value\":0.1},\"fill_color\":{\"value\":\"#1f77b4\"},\"line_alpha\":{\"value\":0.1},\"line_color\":{\"value\":\"#1f77b4\"},\"line_width\":{\"value\":3},\"x\":{\"field\":\"x\"},\"y\":{\"field\":\"y\"}},\"id\":\"bdd36248-9da4-43cd-ab78-82ae1b57b213\",\"type\":\"Circle\"},{\"attributes\":{},\"id\":\"6e4468d6-0bc1-4ce4-a99e-3c2079b6b508\",\"type\":\"BasicTicker\"},{\"attributes\":{\"overlay\":{\"id\":\"7ec9cade-5aff-417c-84d6-19edf5e27c81\",\"type\":\"BoxAnnotation\"},\"plot\":{\"id\":\"b48c47e9-8444-41b5-8744-e72132718a2d\",\"subtype\":\"Figure\",\"type\":\"Plot\"}},\"id\":\"10b0ffc9-de2d-4931-9720-f22477c5d1a6\",\"type\":\"BoxZoomTool\"},{\"attributes\":{\"axis_label\":\"Predicted\",\"axis_label_text_color\":{\"value\":\"#aa6666\"},\"formatter\":{\"id\":\"ad6b73dc-934c-45b9-8c09-f17992a700a6\",\"type\":\"BasicTickFormatter\"},\"major_tick_line_color\":{\"value\":\"firebrick\"},\"major_tick_line_width\":{\"value\":3},\"minor_tick_line_color\":{\"value\":\"orange\"},\"plot\":{\"id\":\"b48c47e9-8444-41b5-8744-e72132718a2d\",\"subtype\":\"Figure\",\"type\":\"Plot\"},\"ticker\":{\"id\":\"a8eddeae-daaa-45ed-aa0f-6e525f3b2268\",\"type\":\"BasicTicker\"}},\"id\":\"06d7a1de-e0e5-4248-9ff0-62290699b250\",\"type\":\"LinearAxis\"},{\"attributes\":{\"align\":\"center\",\"plot\":null,\"text\":\"Residual plot on the training data\"},\"id\":\"b424e2f4-8511-45d4-a4b4-c4c8274f44b5\",\"type\":\"Title\"},{\"attributes\":{\"fill_alpha\":{\"value\":0.5},\"fill_color\":{\"value\":\"lightgrey\"},\"level\":\"overlay\",\"line_alpha\":{\"value\":1.0},\"line_color\":{\"value\":\"black\"},\"line_dash\":[4,4],\"line_width\":{\"value\":2},\"plot\":null,\"xs_units\":\"screen\",\"ys_units\":\"screen\"},\"id\":\"4707363d-ee7d-4d69-bb6c-52a24a31e6cc\",\"type\":\"PolyAnnotation\"},{\"attributes\":{\"callback\":null,\"overlay\":{\"id\":\"f3c8d8bb-7845-46bf-a109-01bb36ae5608\",\"type\":\"BoxAnnotation\"},\"plot\":{\"id\":\"b48c47e9-8444-41b5-8744-e72132718a2d\",\"subtype\":\"Figure\",\"type\":\"Plot\"},\"renderers\":[{\"id\":\"4708fd1d-88ba-4a0b-8bcc-68770c348f91\",\"type\":\"GlyphRenderer\"}]},\"id\":\"c240ad60-493b-41b2-8490-2976575cf1eb\",\"type\":\"BoxSelectTool\"},{\"attributes\":{\"plot\":{\"id\":\"b48c47e9-8444-41b5-8744-e72132718a2d\",\"subtype\":\"Figure\",\"type\":\"Plot\"}},\"id\":\"9abbcaf5-8a5b-4ae0-9fa9-2389c45f6bf3\",\"type\":\"ResizeTool\"},{\"attributes\":{\"axis_label\":\"Residuals\",\"axis_label_text_color\":{\"value\":\"#aa6666\"},\"formatter\":{\"id\":\"2d119194-7a92-449a-b6c9-4b36963b71f8\",\"type\":\"BasicTickFormatter\"},\"plot\":{\"id\":\"b48c47e9-8444-41b5-8744-e72132718a2d\",\"subtype\":\"Figure\",\"type\":\"Plot\"},\"ticker\":{\"id\":\"6e4468d6-0bc1-4ce4-a99e-3c2079b6b508\",\"type\":\"BasicTicker\"}},\"id\":\"5fbe8908-a657-443a-b268-3b7978be53a8\",\"type\":\"LinearAxis\"},{\"attributes\":{\"callback\":null},\"id\":\"fb27e2c3-95dd-42f2-8d43-56af97f20562\",\"type\":\"DataRange1d\"},{\"attributes\":{\"plot\":{\"id\":\"b48c47e9-8444-41b5-8744-e72132718a2d\",\"subtype\":\"Figure\",\"type\":\"Plot\"}},\"id\":\"7964a3f4-6973-48b6-a1cb-8fe57c8f586c\",\"type\":\"UndoTool\"},{\"attributes\":{},\"id\":\"2d119194-7a92-449a-b6c9-4b36963b71f8\",\"type\":\"BasicTickFormatter\"},{\"attributes\":{\"plot\":{\"id\":\"b48c47e9-8444-41b5-8744-e72132718a2d\",\"subtype\":\"Figure\",\"type\":\"Plot\"}},\"id\":\"f84ed00d-f4b8-49a9-80ef-d58b43a30275\",\"type\":\"ResetTool\"},{\"attributes\":{\"bottom_units\":\"screen\",\"fill_alpha\":{\"value\":0.5},\"fill_color\":{\"value\":\"lightgrey\"},\"left_units\":\"screen\",\"level\":\"overlay\",\"line_alpha\":{\"value\":1.0},\"line_color\":{\"value\":\"black\"},\"line_dash\":[4,4],\"line_width\":{\"value\":2},\"plot\":null,\"render_mode\":\"css\",\"right_units\":\"screen\",\"top_units\":\"screen\"},\"id\":\"f3c8d8bb-7845-46bf-a109-01bb36ae5608\",\"type\":\"BoxAnnotation\"},{\"attributes\":{\"plot\":{\"id\":\"b48c47e9-8444-41b5-8744-e72132718a2d\",\"subtype\":\"Figure\",\"type\":\"Plot\"}},\"id\":\"e42b55a1-01f1-4643-8ade-33f8d5c1da7c\",\"type\":\"WheelZoomTool\"},{\"attributes\":{\"plot\":{\"id\":\"b48c47e9-8444-41b5-8744-e72132718a2d\",\"subtype\":\"Figure\",\"type\":\"Plot\"}},\"id\":\"a21c774a-97e7-4495-9e05-ac968f46705a\",\"type\":\"PanTool\"},{\"attributes\":{},\"id\":\"8dbf1785-3cb8-4517-b968-89248d0f7b0a\",\"type\":\"ToolEvents\"},{\"attributes\":{\"fill_alpha\":{\"value\":0.5},\"fill_color\":{\"value\":\"lightgrey\"},\"level\":\"overlay\",\"line_alpha\":{\"value\":1.0},\"line_color\":{\"value\":\"black\"},\"line_dash\":[4,4],\"line_width\":{\"value\":2},\"plot\":null,\"xs_units\":\"screen\",\"ys_units\":\"screen\"},\"id\":\"718eefe9-9cbf-42b5-a911-c7a15a33357d\",\"type\":\"PolyAnnotation\"}],\"root_ids\":[\"b48c47e9-8444-41b5-8744-e72132718a2d\"]},\"title\":\"Bokeh Application\",\"version\":\"0.12.0\"}};\n",
       "            var render_items = [{\"docid\":\"bef617e3-0345-4e93-9941-287152d1d063\",\"elementid\":\"42390940-ad19-4395-bf2d-5a07341d6fa3\",\"modelid\":\"b48c47e9-8444-41b5-8744-e72132718a2d\",\"notebook_comms_target\":\"ffa27f5a-407b-4c97-9555-63d481d44665\"}];\n",
       "            \n",
       "            Bokeh.embed.embed_items(docs_json, render_items);\n",
       "        });\n",
       "      },\n",
       "      function(Bokeh) {\n",
       "      }\n",
       "    ];\n",
       "  \n",
       "    function run_inline_js() {\n",
       "      for (var i = 0; i < inline_js.length; i++) {\n",
       "        inline_js[i](window.Bokeh);\n",
       "      }\n",
       "    }\n",
       "  \n",
       "    if (window._bokeh_is_loading === 0) {\n",
       "      console.log(\"Bokeh: BokehJS loaded, going straight to plotting\");\n",
       "      run_inline_js();\n",
       "    } else {\n",
       "      load_libs(js_urls, function() {\n",
       "        console.log(\"Bokeh: BokehJS plotting callback run at\", now());\n",
       "        run_inline_js();\n",
       "      });\n",
       "    }\n",
       "  }(this));\n",
       "</script>"
      ]
     },
     "metadata": {},
     "output_type": "display_data"
    },
    {
     "data": {
      "text/html": [
       "<p><code>&lt;Bokeh Notebook handle for <strong>In[15]</strong>&gt;</code></p>"
      ],
      "text/plain": [
       "<bokeh.io._CommsHandle at 0x11d7cce10>"
      ]
     },
     "execution_count": 27,
     "metadata": {},
     "output_type": "execute_result"
    }
   ],
   "source": [
    "# Plotining using bokeh\n",
    "#TOOLS = 'hover,box_zoom,box_select,crosshair,resize,reset,model_select,pan,save,poly_select,tap,wheel_zoom,undo'\n",
    "TOOLS = 'box_zoom,box_select,crosshair,resize,reset,lasso_select,pan,save,poly_select,tap,wheel_zoom,undo'\n",
    "p = figure(plot_width=500, plot_height=500, title=\"Residual plot on the training data\", tools=TOOLS)\n",
    "p.scatter(prediction, (prediction - Y),x=\"jjj\", marker=\"o\", color=\"#80B1D3\", line_width=3)\n",
    "p.title.align = \"center\"\n",
    "p.xaxis.axis_label = \"Predicted\"\n",
    "p.xaxis.axis_label_text_color = \"#aa6666\"\n",
    "#p.xaxis.axis_label_standoff = 30\n",
    "p.xaxis.major_tick_line_color = \"firebrick\"\n",
    "p.xaxis.major_tick_line_width = 3\n",
    "p.xaxis.minor_tick_line_color = \"orange\"\n",
    "p.yaxis.axis_label = \"Residuals\"\n",
    "p.yaxis.axis_label_text_font_style = \"italic\"\n",
    "p.yaxis.axis_label_text_color = \"#aa6666\"\n",
    "p.background_fill_color = \"beige\"\n",
    "p.background_fill_alpha = 0.5\n",
    "#p.line([2,38], [0, 0], line_dash=\"4 4\", line_width=2, color='red')\n",
    "show(p)"
   ]
  },
  {
   "cell_type": "code",
   "execution_count": 28,
   "metadata": {
    "collapsed": false
   },
   "outputs": [
    {
     "name": "stdout",
     "output_type": "stream",
     "text": [
      "Epoch 1/10\n",
      "404/404 [==============================] - 0s - loss: 9.2236     \n",
      "Epoch 2/10\n",
      "404/404 [==============================] - 0s - loss: 9.1894     \n",
      "Epoch 3/10\n",
      "404/404 [==============================] - 0s - loss: 9.1797     \n",
      "Epoch 4/10\n",
      "404/404 [==============================] - 0s - loss: 9.1589     \n",
      "Epoch 5/10\n",
      "404/404 [==============================] - 0s - loss: 9.1357     \n",
      "Epoch 6/10\n",
      "404/404 [==============================] - 0s - loss: 9.1318     \n",
      "Epoch 7/10\n",
      "404/404 [==============================] - 0s - loss: 9.1225     \n",
      "Epoch 8/10\n",
      "404/404 [==============================] - 0s - loss: 9.1162     \n",
      "Epoch 9/10\n",
      "404/404 [==============================] - 0s - loss: 9.0824     \n",
      "Epoch 10/10\n",
      "404/404 [==============================] - 0s - loss: 9.0677     \n",
      "R-squared =  0.893849454806\n"
     ]
    }
   ],
   "source": [
    "# Using make_pipeline\n",
    "from sklearn.pipeline import make_pipeline\n",
    "\n",
    "# ANOVA SVM-C\n",
    "# 1) anova filter, take 3 best ranked features\n",
    "DLRegressor = make_pipeline(scaler, model)\n",
    "DLRegressor.fit(new_data, Y)\n",
    "prediction = DLRegressor.predict(new_data)\n",
    "r_squared = r2_score(Y, prediction, multioutput='variance_weighted')\n",
    "print 'R-squared = ',r_squared"
   ]
  },
  {
   "cell_type": "markdown",
   "metadata": {},
   "source": [
    "### Save the Pipeline model for developement"
   ]
  },
  {
   "cell_type": "markdown",
   "metadata": {},
   "source": [
    "## I can save keras in pipleine"
   ]
  },
  {
   "cell_type": "code",
   "execution_count": 29,
   "metadata": {
    "collapsed": false
   },
   "outputs": [],
   "source": [
    "model.save_weights('Boston_House_Modelbest.hdf5',overwrite=True)"
   ]
  },
  {
   "cell_type": "code",
   "execution_count": 30,
   "metadata": {
    "collapsed": false
   },
   "outputs": [
    {
     "name": "stdout",
     "output_type": "stream",
     "text": [
      " =================================================================>>>>> done\n",
      "R-squared =  0.893849454806\n"
     ]
    }
   ],
   "source": [
    "# Test the model if it is work\n",
    "model.load_weights('Boston_House_Modelbest.hdf5')\n",
    "\n",
    "NewPred = model.predict(X)\n",
    "print \" =================================================================>>>>> done\"\n",
    "r_squared = r2_score(Y, NewPred, multioutput='variance_weighted')\n",
    "print 'R-squared = ',r_squared"
   ]
  },
  {
   "cell_type": "code",
   "execution_count": null,
   "metadata": {
    "collapsed": true
   },
   "outputs": [],
   "source": []
  },
  {
   "cell_type": "code",
   "execution_count": 31,
   "metadata": {
    "collapsed": false
   },
   "outputs": [
    {
     "name": "stdout",
     "output_type": "stream",
     "text": [
      "Point of training data before normalization\n",
      "[   1.23247    0.         8.14       0.         0.538      6.142     91.7\n",
      "    3.9769     4.       307.        21.       396.9       18.72   ]\n",
      "\n",
      "The read target of the data =  15.2\n"
     ]
    }
   ],
   "source": [
    "# test on single data point, randomly choose point number 55\n",
    "print 'Point of training data before normalization\\n',new_data[55]\n",
    "print '\\nThe read target of the data = ', Y[55]\n"
   ]
  },
  {
   "cell_type": "code",
   "execution_count": 32,
   "metadata": {
    "collapsed": false
   },
   "outputs": [
    {
     "data": {
      "text/plain": [
       "array([-0.26499632, -0.49960763, -0.42716074, -0.27288841, -0.15544911,\n",
       "       -0.23031098,  0.80766075,  0.09945033, -0.62464765, -0.56165616,\n",
       "        1.15762049,  0.43041207,  0.82494085])"
      ]
     },
     "execution_count": 32,
     "metadata": {},
     "output_type": "execute_result"
    }
   ],
   "source": [
    "X[55]"
   ]
  },
  {
   "cell_type": "code",
   "execution_count": 33,
   "metadata": {
    "collapsed": false
   },
   "outputs": [
    {
     "name": "stdout",
     "output_type": "stream",
     "text": [
      " =================================================================>>>>> done\n",
      "[[-0.26499632 -0.49960763 -0.42716074 -0.27288841 -0.15544911 -0.23031098\n",
      "   0.80766075  0.09945033 -0.62464765 -0.56165616  1.15762049  0.43041207\n",
      "   0.82494085]]\n"
     ]
    }
   ],
   "source": [
    "# Test the model if it is work\n",
    "scalerTest = joblib.load('scaler.pkl')\n",
    "new_data_scaled = scalerTest.transform(new_data[55].reshape(1, -1))\n",
    "print \" =================================================================>>>>> done\"\n",
    "print new_data_scaled"
   ]
  },
  {
   "cell_type": "code",
   "execution_count": 34,
   "metadata": {
    "collapsed": false
   },
   "outputs": [
    {
     "name": "stdout",
     "output_type": "stream",
     "text": [
      "\n",
      "The Predicted target of the data =  [[ 16.62416077]]\n"
     ]
    }
   ],
   "source": [
    "NewPred = model.predict(new_data_scaled, verbose=0)\n",
    "print '\\nThe Predicted target of the data = ', NewPred"
   ]
  },
  {
   "cell_type": "markdown",
   "metadata": {},
   "source": [
    "## Conclusion "
   ]
  }
 ],
 "metadata": {
  "kernelspec": {
   "display_name": "Python 2",
   "language": "python",
   "name": "python2"
  },
  "language_info": {
   "codemirror_mode": {
    "name": "ipython",
    "version": 2
   },
   "file_extension": ".py",
   "mimetype": "text/x-python",
   "name": "python",
   "nbconvert_exporter": "python",
   "pygments_lexer": "ipython2",
   "version": "2.7.11"
  }
 },
 "nbformat": 4,
 "nbformat_minor": 0
}
