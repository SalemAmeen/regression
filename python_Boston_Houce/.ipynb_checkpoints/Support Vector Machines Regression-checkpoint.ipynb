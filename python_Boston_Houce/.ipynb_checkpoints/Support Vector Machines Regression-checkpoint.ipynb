{
 "cells": [
  {
   "cell_type": "markdown",
   "metadata": {},
   "source": [
    "Salem Ameen, PhD student at Salford University\n",
    "\n",
    "### Boston House price\n",
    "\n",
    "Support Vector Machines Regression"
   ]
  },
  {
   "cell_type": "markdown",
   "metadata": {},
   "source": [
    "# Import the Libraries"
   ]
  },
  {
   "cell_type": "code",
   "execution_count": 1,
   "metadata": {
    "collapsed": false
   },
   "outputs": [
    {
     "data": {
      "text/html": [
       "\n",
       "    <div class=\"bk-root\">\n",
       "        <a href=\"http://bokeh.pydata.org\" target=\"_blank\" class=\"bk-logo bk-logo-small bk-logo-notebook\"></a>\n",
       "        <span id=\"1c37cdaa-5a14-49b3-9cdd-da560e50c10c\">Loading BokehJS ...</span>\n",
       "    </div>"
      ]
     },
     "metadata": {},
     "output_type": "display_data"
    },
    {
     "data": {
      "application/javascript": [
       "\n",
       "(function(global) {\n",
       "  function now() {\n",
       "    return new Date();\n",
       "  }\n",
       "\n",
       "  if (typeof (window._bokeh_onload_callbacks) === \"undefined\") {\n",
       "    window._bokeh_onload_callbacks = [];\n",
       "  }\n",
       "\n",
       "  function run_callbacks() {\n",
       "    window._bokeh_onload_callbacks.forEach(function(callback) { callback() });\n",
       "    delete window._bokeh_onload_callbacks\n",
       "    console.info(\"Bokeh: all callbacks have finished\");\n",
       "  }\n",
       "\n",
       "  function load_libs(js_urls, callback) {\n",
       "    window._bokeh_onload_callbacks.push(callback);\n",
       "    if (window._bokeh_is_loading > 0) {\n",
       "      console.log(\"Bokeh: BokehJS is being loaded, scheduling callback at\", now());\n",
       "      return null;\n",
       "    }\n",
       "    if (js_urls == null || js_urls.length === 0) {\n",
       "      run_callbacks();\n",
       "      return null;\n",
       "    }\n",
       "    console.log(\"Bokeh: BokehJS not loaded, scheduling load and callback at\", now());\n",
       "    window._bokeh_is_loading = js_urls.length;\n",
       "    for (var i = 0; i < js_urls.length; i++) {\n",
       "      var url = js_urls[i];\n",
       "      var s = document.createElement('script');\n",
       "      s.src = url;\n",
       "      s.async = false;\n",
       "      s.onreadystatechange = s.onload = function() {\n",
       "        window._bokeh_is_loading--;\n",
       "        if (window._bokeh_is_loading === 0) {\n",
       "          console.log(\"Bokeh: all BokehJS libraries loaded\");\n",
       "          run_callbacks()\n",
       "        }\n",
       "      };\n",
       "      s.onerror = function() {\n",
       "        console.warn(\"failed to load library \" + url);\n",
       "      };\n",
       "      console.log(\"Bokeh: injecting script tag for BokehJS library: \", url);\n",
       "      document.getElementsByTagName(\"head\")[0].appendChild(s);\n",
       "    }\n",
       "  };\n",
       "\n",
       "  var js_urls = ['https://cdn.pydata.org/bokeh/release/bokeh-0.12.0.min.js', 'https://cdn.pydata.org/bokeh/release/bokeh-widgets-0.12.0.min.js', 'https://cdn.pydata.org/bokeh/release/bokeh-compiler-0.12.0.min.js'];\n",
       "\n",
       "  var inline_js = [\n",
       "    function(Bokeh) {\n",
       "      Bokeh.set_log_level(\"info\");\n",
       "    },\n",
       "    \n",
       "    function(Bokeh) {\n",
       "      Bokeh.$(\"#1c37cdaa-5a14-49b3-9cdd-da560e50c10c\").text(\"BokehJS successfully loaded\");\n",
       "    },\n",
       "    function(Bokeh) {\n",
       "      console.log(\"Bokeh: injecting CSS: https://cdn.pydata.org/bokeh/release/bokeh-0.12.0.min.css\");\n",
       "      Bokeh.embed.inject_css(\"https://cdn.pydata.org/bokeh/release/bokeh-0.12.0.min.css\");\n",
       "      console.log(\"Bokeh: injecting CSS: https://cdn.pydata.org/bokeh/release/bokeh-widgets-0.12.0.min.css\");\n",
       "      Bokeh.embed.inject_css(\"https://cdn.pydata.org/bokeh/release/bokeh-widgets-0.12.0.min.css\");\n",
       "    }\n",
       "  ];\n",
       "\n",
       "  function run_inline_js() {\n",
       "    for (var i = 0; i < inline_js.length; i++) {\n",
       "      inline_js[i](window.Bokeh);\n",
       "    }\n",
       "  }\n",
       "\n",
       "  if (window._bokeh_is_loading === 0) {\n",
       "    console.log(\"Bokeh: BokehJS loaded, going straight to plotting\");\n",
       "    run_inline_js();\n",
       "  } else {\n",
       "    load_libs(js_urls, function() {\n",
       "      console.log(\"Bokeh: BokehJS plotting callback run at\", now());\n",
       "      run_inline_js();\n",
       "    });\n",
       "  }\n",
       "}(this));"
      ]
     },
     "metadata": {},
     "output_type": "display_data"
    }
   ],
   "source": [
    "import numpy as np\n",
    "import pandas\n",
    "from numpy import *\n",
    "import time\n",
    "import sys\n",
    "import pandas as pd\n",
    "import matplotlib.pyplot as plt\n",
    "from sklearn import feature_selection\n",
    "from sklearn.svm import SVR\n",
    "from sklearn.learning_curve import learning_curve, validation_curve\n",
    "from sklearn.cross_validation import cross_val_predict\n",
    "from sklearn import metrics, grid_search, cross_validation\n",
    "from IPython.display import set_matplotlib_formats\n",
    "from bokeh.plotting import figure, show, output_notebook\n",
    "from sklearn.grid_search import GridSearchCV, RandomizedSearchCV\n",
    "from sklearn.metrics import r2_score\n",
    "from bokeh.layouts import gridplot\n",
    "output_notebook()\n",
    "set_matplotlib_formats('png', 'pdf')\n",
    "%matplotlib inline\n",
    "plt.rcParams['figure.figsize'] = (6, 6)"
   ]
  },
  {
   "cell_type": "markdown",
   "metadata": {},
   "source": [
    "# Load data"
   ]
  },
  {
   "cell_type": "markdown",
   "metadata": {},
   "source": [
    "In the previous file we have not change the data as there is no missing value or add any new parameters so it can be downloaded from the web directly. "
   ]
  },
  {
   "cell_type": "code",
   "execution_count": 2,
   "metadata": {
    "collapsed": false
   },
   "outputs": [],
   "source": [
    "url = 'https://archive.ics.uci.edu/ml/machine-learning-databases/housing/housing.data'\n",
    "feature_cols = ['CRIM', 'ZN', 'INDUS', 'CHAS', 'NOX', 'RM', 'AGE', 'DIS', 'RAD', 'TAX', 'PTRATIO', 'B', 'LSTAT', 'MEDV']\n",
    "data = pd.read_csv(url, sep='\\s+', names = feature_cols)"
   ]
  },
  {
   "cell_type": "code",
   "execution_count": 3,
   "metadata": {
    "collapsed": false
   },
   "outputs": [
    {
     "name": "stdout",
     "output_type": "stream",
     "text": [
      "Number of examples 506\n"
     ]
    }
   ],
   "source": [
    "from sklearn import preprocessing\n",
    "dataset = data.values\n",
    "X = dataset[:,0:13].astype(float)\n",
    "Y = dataset[:,13]\n",
    "print 'Number of examples',len(X)"
   ]
  },
  {
   "cell_type": "code",
   "execution_count": 4,
   "metadata": {
    "collapsed": false
   },
   "outputs": [
    {
     "name": "stdout",
     "output_type": "stream",
     "text": [
      "Number of training examples 404\n",
      "Number of validation examples 102\n"
     ]
    }
   ],
   "source": [
    "# Make developement dataset for genrilization and final testing\n",
    "from sklearn.cross_validation import train_test_split\n",
    "# Extracting 20% testing data\n",
    "X_train, X_test, y_train, y_test = train_test_split(\n",
    "    X, Y, test_size=0.20, random_state=0)\n",
    "X = X_train\n",
    "Y = y_train\n",
    "new_data      = X_train\n",
    "new_test_data = X_test\n",
    "print 'Number of training examples',len(X_train)\n",
    "print 'Number of validation examples',len(X_test)"
   ]
  },
  {
   "cell_type": "markdown",
   "metadata": {},
   "source": [
    "Number of training data is very small so we need to use cross validation instead of spareate another validation data."
   ]
  },
  {
   "cell_type": "markdown",
   "metadata": {},
   "source": [
    "From the previous visulization the data has no missing value but has many outlier and some sparisty"
   ]
  },
  {
   "cell_type": "markdown",
   "metadata": {},
   "source": [
    "# Ranking of the feature's importance to the target"
   ]
  },
  {
   "cell_type": "code",
   "execution_count": 5,
   "metadata": {
    "collapsed": false
   },
   "outputs": [
    {
     "name": "stdout",
     "output_type": "stream",
     "text": [
      "CRIM \t0.140791208247\n",
      "ZN \t0.195815624077\n",
      "INDUS \t0.324435396193\n",
      "CHAS \t-0.00836366059986\n",
      "NOX \t0.117031701051\n",
      "RM \t0.568568405107\n",
      "AGE \t0.127517223942\n",
      "DIS \t0.0815882793367\n",
      "RAD \t0.173683208582\n",
      "TAX \t0.281285923372\n",
      "PTRATIO \t0.288805607946\n",
      "B \t0.087760389218\n",
      "LSTAT \t0.592373305788\n",
      "MEDV \t0.814729739705\n"
     ]
    }
   ],
   "source": [
    "# Using just correlation coefficient even in prevoius file we show them using data frame\n",
    "for col in feature_cols:\n",
    "    lm = SVR()\n",
    "    lm.fit(data[[col]], data['MEDV'])\n",
    "    print col,'\\t', lm.score(data[[col]], data['MEDV'])"
   ]
  },
  {
   "cell_type": "code",
   "execution_count": 6,
   "metadata": {
    "collapsed": false
   },
   "outputs": [
    {
     "name": "stdout",
     "output_type": "stream",
     "text": [
      "Feature Name      Score         Pvalue\n",
      "CRIM \t\t89.4861147577 \t1.17398708219e-19\n",
      "ZN \t\t75.257642299 \t5.71358415308e-17\n",
      "INDUS \t\t153.954883136 \t4.90025998175e-31\n",
      "CHAS \t\t15.9715124204 \t7.39062317052e-05\n",
      "NOX \t\t112.59148028 \t7.06504158625e-24\n",
      "RM \t\t471.846739876 \t2.48722887101e-74\n",
      "AGE \t\t83.4774592192 \t1.56998220919e-18\n",
      "DIS \t\t33.5795703259 \t1.20661172734e-08\n",
      "RAD \t\t85.9142776698 \t5.46593256965e-19\n",
      "TAX \t\t141.761356577 \t5.63773362769e-29\n",
      "PTRATIO \t\t175.105542876 \t1.60950947847e-34\n",
      "B \t\t63.0542291125 \t1.31811273408e-14\n",
      "LSTAT \t\t601.61787111 \t5.08110339439e-88\n",
      "MEDV \t\tinf \t0.0\n"
     ]
    }
   ],
   "source": [
    "# Randing the important features to the target\n",
    "model = feature_selection.SelectKBest(score_func=feature_selection.f_regression,k=4)\n",
    "results = model.fit(data[feature_cols], data['MEDV'])\n",
    "k=0\n",
    "print 'Feature Name      Score         Pvalue'\n",
    "for feat in feature_cols:\n",
    "    print feat,'\\t\\t',results.scores_[k],'\\t',results.pvalues_[k]\n",
    "    k=k+1\n"
   ]
  },
  {
   "cell_type": "markdown",
   "metadata": {},
   "source": [
    "# Set the parameters for cross validation"
   ]
  },
  {
   "cell_type": "code",
   "execution_count": 7,
   "metadata": {
    "collapsed": true
   },
   "outputs": [],
   "source": [
    "num_folds = 10\n",
    "num_instances = len(X)\n",
    "seed = 7\n",
    "kfold = cross_validation.KFold(n=num_instances, n_folds=num_folds, random_state=seed)"
   ]
  },
  {
   "cell_type": "markdown",
   "metadata": {},
   "source": [
    " # Set the parameters for bias-variance dilemma"
   ]
  },
  {
   "cell_type": "code",
   "execution_count": 8,
   "metadata": {
    "collapsed": false
   },
   "outputs": [],
   "source": [
    "def plot_learning_curve(estimator, title, X, y, ylim=None, cv=None,\n",
    "                        n_jobs=1, train_sizes=np.linspace(.1, 1.0, 5)):\n",
    "    plt.figure()\n",
    "    plt.title(title)\n",
    "    if ylim is not None:\n",
    "        plt.ylim(*ylim)\n",
    "    plt.xlabel(\"Training examples\")\n",
    "    plt.ylabel(\"Score\")\n",
    "    train_sizes, train_scores, test_scores = learning_curve(\n",
    "        estimator, X, y, cv=cv, n_jobs=n_jobs, train_sizes=train_sizes)\n",
    "    train_scores_mean = np.mean(train_scores, axis=1)\n",
    "    train_scores_std = np.std(train_scores, axis=1)\n",
    "    test_scores_mean = np.mean(test_scores, axis=1)\n",
    "    test_scores_std = np.std(test_scores, axis=1)\n",
    "    plt.grid()\n",
    "\n",
    "    plt.fill_between(train_sizes, train_scores_mean - train_scores_std,\n",
    "                     train_scores_mean + train_scores_std, alpha=0.1,\n",
    "                     color=\"r\")\n",
    "    plt.fill_between(train_sizes, test_scores_mean - test_scores_std,\n",
    "                     test_scores_mean + test_scores_std, alpha=0.1, color=\"g\")\n",
    "    plt.plot(train_sizes, train_scores_mean, 'o-', color=\"r\",\n",
    "             label=\"Training score\")\n",
    "    plt.plot(train_sizes, test_scores_mean, 'o-', color=\"g\",\n",
    "             label=\"Cross-validation score\")\n",
    "\n",
    "    plt.legend(loc=\"best\")\n",
    "    return plt"
   ]
  },
  {
   "cell_type": "markdown",
   "metadata": {},
   "source": [
    "# Preprocessing the data and save both the model and preprocessed data"
   ]
  },
  {
   "cell_type": "code",
   "execution_count": 9,
   "metadata": {
    "collapsed": true
   },
   "outputs": [],
   "source": [
    "# According to the nature of the data spasity and there is outliter RobustScaler class is recomandit \n",
    "# but when I tried both of them the result seems is same\n",
    "from sklearn.preprocessing import StandardScaler\n",
    "scaler = preprocessing.StandardScaler().fit(X_train)"
   ]
  },
  {
   "cell_type": "code",
   "execution_count": 10,
   "metadata": {
    "collapsed": true
   },
   "outputs": [],
   "source": [
    "X_train = scaler.transform(X_train)\n",
    "X_test = scaler.transform(X_test) # use same transform for testing data\n",
    "X = X_train"
   ]
  },
  {
   "cell_type": "code",
   "execution_count": 11,
   "metadata": {
    "collapsed": true
   },
   "outputs": [],
   "source": [
    "# save transformed data\n",
    "np.save('./data/X_train', X_train)\n",
    "np.save('./data/y_train', y_train)\n",
    "np.save('./data/X_test', X_test)\n",
    "np.save('./data/y_test', y_test)"
   ]
  },
  {
   "cell_type": "code",
   "execution_count": 12,
   "metadata": {
    "collapsed": false
   },
   "outputs": [
    {
     "data": {
      "text/plain": [
       "['scaler.pkl', 'scaler.pkl_01.npy', 'scaler.pkl_02.npy', 'scaler.pkl_03.npy']"
      ]
     },
     "execution_count": 12,
     "metadata": {},
     "output_type": "execute_result"
    }
   ],
   "source": [
    "# save the model scaler to the desk\n",
    "from sklearn.externals import joblib\n",
    "joblib.dump(scaler, 'scaler.pkl') "
   ]
  },
  {
   "cell_type": "code",
   "execution_count": 13,
   "metadata": {
    "collapsed": false
   },
   "outputs": [
    {
     "name": "stdout",
     "output_type": "stream",
     "text": [
      " =================================================================>>>>> done\n",
      "[[-0.40835869 -0.49960763 -1.12872913 ..., -0.71272928  0.18547577\n",
      "  -0.73610347]\n",
      " [ 0.71925111 -0.49960763  0.9988844  ...,  0.79267419  0.0831649\n",
      "  -0.4356916 ]\n",
      " [-0.40257488 -0.49960763  0.39610829 ..., -0.94082071  0.39472748\n",
      "  -0.30263246]\n",
      " ..., \n",
      " [-0.3982601   0.55937182 -0.85812418 ...,  0.56458276  0.41019833\n",
      "   0.06087961]\n",
      " [-0.39934279 -0.49960763 -0.07637654 ...,  0.0627816   0.30517724\n",
      "  -0.45626776]\n",
      " [-0.40088071 -0.49960763 -0.36702631 ...,  1.1120022   0.41166637\n",
      "  -0.05983383]]\n"
     ]
    }
   ],
   "source": [
    "# Test the model if it is work\n",
    "scalerTest = joblib.load('scaler.pkl')\n",
    "new_data_scaled = scalerTest.transform(new_test_data)\n",
    "print \" =================================================================>>>>> done\"\n",
    "print new_data_scaled"
   ]
  },
  {
   "cell_type": "markdown",
   "metadata": {},
   "source": [
    "# 1. SVR Regression"
   ]
  },
  {
   "cell_type": "markdown",
   "metadata": {},
   "source": [
    "Support Vector Machines (SVM) were developed for binary classification. The technique has been extended for the prediction real-valued problems called Support Vector Regression (SVR). Like the classification example, SVR is built upon the LIBSVM library."
   ]
  },
  {
   "cell_type": "markdown",
   "metadata": {},
   "source": [
    "## Validation curve"
   ]
  },
  {
   "cell_type": "markdown",
   "metadata": {},
   "source": [
    "choosing multiple hyperparameters of an estimator "
   ]
  },
  {
   "cell_type": "code",
   "execution_count": 14,
   "metadata": {
    "collapsed": false
   },
   "outputs": [
    {
     "data": {
      "text/plain": [
       "['kernel',\n",
       " 'C',\n",
       " 'verbose',\n",
       " 'degree',\n",
       " 'epsilon',\n",
       " 'shrinking',\n",
       " 'max_iter',\n",
       " 'tol',\n",
       " 'cache_size',\n",
       " 'coef0',\n",
       " 'gamma']"
      ]
     },
     "execution_count": 14,
     "metadata": {},
     "output_type": "execute_result"
    }
   ],
   "source": [
    "from sklearn.svm import SVR\n",
    "estimator = SVR()\n",
    "estimator.get_params().keys()"
   ]
  },
  {
   "cell_type": "code",
   "execution_count": 15,
   "metadata": {
    "collapsed": false
   },
   "outputs": [
    {
     "data": {
      "image/png": "[encoded data removed]",
      "text/plain": [
       "<matplotlib.figure.Figure at 0x115e0eb90>"
      ]
     },
     "metadata": {},
     "output_type": "display_data"
    }
   ],
   "source": [
    "# For parametr alpha\n",
    "#param_range = np.logspace(-10.0, 10.0)\n",
    "#param_range = np.linspace(1,50,100)\n",
    "param_range = np.arange(1,50) # generate integer numbers\n",
    "\n",
    "train_scores, test_scores = validation_curve(\n",
    "    SVR(), X, Y, param_name=\"C\", param_range=param_range,\n",
    "    cv=num_folds,  n_jobs=-1)\n",
    "train_scores_mean = np.mean(train_scores, axis=1)\n",
    "train_scores_std = np.std(train_scores, axis=1)\n",
    "test_scores_mean = np.mean(test_scores, axis=1)\n",
    "test_scores_std = np.std(test_scores, axis=1)\n",
    "\n",
    "plt.title(\"Validation Curve with SVR\")\n",
    "plt.xlabel(\"C\")\n",
    "plt.ylabel(\"Score\")\n",
    "plt.ylim(0.4, 1.0)\n",
    "plt.plot(param_range, train_scores_mean, label=\"Training score\", color=\"r\")\n",
    "plt.fill_between(param_range, train_scores_mean - train_scores_std,\n",
    "                 train_scores_mean + train_scores_std, alpha=0.2, color=\"r\")\n",
    "plt.plot(param_range, test_scores_mean, label=\"Cross-validation score\",\n",
    "             color=\"g\")\n",
    "plt.fill_between(param_range, test_scores_mean - test_scores_std,\n",
    "                 test_scores_mean + test_scores_std, alpha=0.2, color=\"g\")\n",
    "plt.legend(loc=\"best\")\n",
    "plt.show()"
   ]
  },
  {
   "cell_type": "markdown",
   "metadata": {},
   "source": [
    "more that 5 is the best of C"
   ]
  },
  {
   "cell_type": "code",
   "execution_count": 16,
   "metadata": {
    "collapsed": false
   },
   "outputs": [
    {
     "data": {
      "image/png": "[encoded data removed]",
      "text/plain": [
       "<matplotlib.figure.Figure at 0x115eccc10>"
      ]
     },
     "metadata": {},
     "output_type": "display_data"
    }
   ],
   "source": [
    "# For parametr alpha\n",
    "#param_range = np.logspace(-10.0, 10.0)\n",
    "#param_range = np.linspace(1,50,100)\n",
    "param_range = np.arange(0,10) # generate integer numbers\n",
    "\n",
    "train_scores, test_scores = validation_curve(\n",
    "    SVR(), X, Y, param_name=\"epsilon\", param_range=param_range,\n",
    "    cv=num_folds,  n_jobs=-1)\n",
    "train_scores_mean = np.mean(train_scores, axis=1)\n",
    "train_scores_std = np.std(train_scores, axis=1)\n",
    "test_scores_mean = np.mean(test_scores, axis=1)\n",
    "test_scores_std = np.std(test_scores, axis=1)\n",
    "\n",
    "plt.title(\"Validation Curve with SVR\")\n",
    "plt.xlabel(\"epsilon\")\n",
    "plt.ylabel(\"Score\")\n",
    "plt.ylim(0.4, 1.0)\n",
    "plt.plot(param_range, train_scores_mean, label=\"Training score\", color=\"r\")\n",
    "plt.fill_between(param_range, train_scores_mean - train_scores_std,\n",
    "                 train_scores_mean + train_scores_std, alpha=0.2, color=\"r\")\n",
    "plt.plot(param_range, test_scores_mean, label=\"Cross-validation score\",\n",
    "             color=\"g\")\n",
    "plt.fill_between(param_range, test_scores_mean - test_scores_std,\n",
    "                 test_scores_mean + test_scores_std, alpha=0.2, color=\"g\")\n",
    "plt.legend(loc=\"best\")\n",
    "plt.show()"
   ]
  },
  {
   "cell_type": "markdown",
   "metadata": {},
   "source": [
    "epsilon less than  1 is the best (default=0.1)"
   ]
  },
  {
   "cell_type": "markdown",
   "metadata": {},
   "source": [
    "## Grid search and/or Random search to determine best compination of parameters"
   ]
  },
  {
   "cell_type": "code",
   "execution_count": 17,
   "metadata": {
    "collapsed": false
   },
   "outputs": [
    {
     "name": "stdout",
     "output_type": "stream",
     "text": [
      "Hyperparameter optimization using GridSearchCV...\n",
      "Parameters with rank: 1\n",
      "Mean validation score: 0.8653 (std: 0.0777)\n",
      "Parameters: {'kernel': 'rbf', 'C': 50.0}\n",
      "\n",
      "Parameters with rank: 2\n",
      "Mean validation score: 0.8652 (std: 0.0778)\n",
      "Parameters: {'kernel': 'rbf', 'C': 49.505050505050505}\n",
      "\n",
      "Parameters with rank: 3\n",
      "Mean validation score: 0.8650 (std: 0.0779)\n",
      "Parameters: {'kernel': 'rbf', 'C': 49.01010101010101}\n",
      "\n",
      "Parameters with rank: 4\n",
      "Mean validation score: 0.8649 (std: 0.0779)\n",
      "Parameters: {'kernel': 'rbf', 'C': 48.515151515151516}\n",
      "\n",
      "Parameters with rank: 5\n",
      "Mean validation score: 0.8649 (std: 0.0779)\n",
      "Parameters: {'kernel': 'rbf', 'C': 48.020202020202021}\n",
      "\n",
      "+++++++++++++++++++++++++++++++++++++++++++++++\n",
      "Hyperparameter optimization using RandomizedSearchCV\n",
      "Parameters with rank: 1\n",
      "Mean validation score: 0.7261 (std: 0.1126)\n",
      "Parameters: {'kernel': 'linear', 'C': 10}\n",
      "\n",
      "Parameters with rank: 2\n",
      "Mean validation score: 0.7258 (std: 0.1126)\n",
      "Parameters: {'kernel': 'linear', 'C': 5}\n",
      "\n",
      "Parameters with rank: 3\n",
      "Mean validation score: 0.6924 (std: 0.0841)\n",
      "Parameters: {'kernel': 'rbf', 'C': 1}\n",
      "\n",
      "Parameters with rank: 4\n",
      "Mean validation score: 0.6421 (std: 0.3548)\n",
      "Parameters: {'kernel': 'poly', 'C': 5}\n",
      "\n",
      "Parameters with rank: 5\n",
      "Mean validation score: 0.6204 (std: 0.1804)\n",
      "Parameters: {'kernel': 'poly', 'C': 1}\n",
      "\n"
     ]
    }
   ],
   "source": [
    "# Utility function to report optimal parameters\n",
    "from operator import itemgetter\n",
    "def report(grid_scores, n_top=5):\n",
    "    params = None\n",
    "    top_scores = sorted(grid_scores, key=itemgetter(1), reverse=True)[:n_top]\n",
    "    for i, score in enumerate(top_scores):\n",
    "        print(\"Parameters with rank: {0}\".format(i + 1))\n",
    "        print(\"Mean validation score: {0:.4f} (std: {1:.4f})\".format(\n",
    "              score.mean_validation_score, np.std(score.cv_validation_scores)))\n",
    "        print(\"Parameters: {0}\".format(score.parameters))\n",
    "        print(\"\")\n",
    "        \n",
    "        if params == None:\n",
    "            params = score.parameters\n",
    "    \n",
    "    return params\n",
    "\n",
    "# The most common value for the max number of features to look at in each split is sqrt(# of features)\n",
    "sqrtfeat = np.sqrt(X.shape[1]) \n",
    "grid_test1 = { \"C\"      : np.linspace(1,50,100) ,\n",
    "                \"kernel\"      : [ \"linear\", \"rbf\", \"poly\", \"sigmoid\"]}\n",
    "\n",
    "# Large randomized test using max_depth to control tree size (5000 possible combinations)\n",
    "random_test1 = { \"C\"      : [1,5,10],\n",
    "                \"kernel\"      : [ \"linear\", \"rbf\", \"poly\", \"sigmoid\"]}\n",
    "\n",
    "\n",
    "forest = SVR()\n",
    "\n",
    "print \"Hyperparameter optimization using GridSearchCV...\"\n",
    "grid_search = GridSearchCV(forest, grid_test1, n_jobs=-1, cv=num_folds)\n",
    "grid_search.fit(X, Y)\n",
    "best_params_from_grid_search = report(grid_search.grid_scores_)\n",
    "print '+++++++++++++++++++++++++++++++++++++++++++++++'\n",
    "print \"Hyperparameter optimization using RandomizedSearchCV\"\n",
    "grid_search = RandomizedSearchCV(forest, random_test1, n_jobs=-1, cv=num_folds, n_iter=5)\n",
    "grid_search.fit(X, Y)\n",
    "best_params_from_rand_search1 = report(grid_search.grid_scores_)"
   ]
  },
  {
   "cell_type": "markdown",
   "metadata": {},
   "source": [
    "Parameters: {'kernel': 'rbf', 'C': 50.0}"
   ]
  },
  {
   "cell_type": "code",
   "execution_count": 18,
   "metadata": {
    "collapsed": false
   },
   "outputs": [
    {
     "data": {
      "image/png": "[encoded data removed]",
      "text/plain": [
       "<matplotlib.figure.Figure at 0x1061078d0>"
      ]
     },
     "metadata": {},
     "output_type": "display_data"
    }
   ],
   "source": [
    "# Value of gamma on rbf\n",
    "#param_range = np.logspace(-10.0, 10.0)\n",
    "param_range = np.linspace(0,10,100)\n",
    "#param_range = np.arange(0,10) # generate integer numbers\n",
    "\n",
    "train_scores, test_scores = validation_curve(\n",
    "    SVR(kernel=\"rbf\", C=50), X, Y, param_name=\"gamma\", param_range=param_range,\n",
    "    cv=num_folds,  n_jobs=-1)\n",
    "train_scores_mean = np.mean(train_scores, axis=1)\n",
    "train_scores_std = np.std(train_scores, axis=1)\n",
    "test_scores_mean = np.mean(test_scores, axis=1)\n",
    "test_scores_std = np.std(test_scores, axis=1)\n",
    "\n",
    "plt.title(\"Validation Curve with SVR\")\n",
    "plt.xlabel(\"gamma\")\n",
    "plt.ylabel(\"Score\")\n",
    "plt.ylim(0.4, 1.0)\n",
    "plt.plot(param_range, train_scores_mean, label=\"Training score\", color=\"r\")\n",
    "plt.fill_between(param_range, train_scores_mean - train_scores_std,\n",
    "                 train_scores_mean + train_scores_std, alpha=0.2, color=\"r\")\n",
    "plt.plot(param_range, test_scores_mean, label=\"Cross-validation score\",\n",
    "             color=\"g\")\n",
    "plt.fill_between(param_range, test_scores_mean - test_scores_std,\n",
    "                 test_scores_mean + test_scores_std, alpha=0.2, color=\"g\")\n",
    "plt.legend(loc=\"best\")\n",
    "plt.show()"
   ]
  },
  {
   "cell_type": "code",
   "execution_count": 19,
   "metadata": {
    "collapsed": false
   },
   "outputs": [
    {
     "name": "stdout",
     "output_type": "stream",
     "text": [
      "Hyperparameter optimization using GridSearchCV...\n",
      "Parameters with rank: 1\n",
      "Mean validation score: 0.8536 (std: 0.0715)\n",
      "Parameters: {'C': 20.0, 'gamma': 0.0}\n",
      "\n",
      "Parameters with rank: 2\n",
      "Mean validation score: 0.8524 (std: 0.0676)\n",
      "Parameters: {'C': 17.888888888888889, 'gamma': 0.0}\n",
      "\n",
      "Parameters with rank: 3\n",
      "Mean validation score: 0.8512 (std: 0.0642)\n",
      "Parameters: {'C': 15.777777777777779, 'gamma': 0.0}\n",
      "\n",
      "Parameters with rank: 4\n",
      "Mean validation score: 0.8500 (std: 0.0619)\n",
      "Parameters: {'C': 13.666666666666668, 'gamma': 0.0}\n",
      "\n",
      "Parameters with rank: 5\n",
      "Mean validation score: 0.8474 (std: 0.0606)\n",
      "Parameters: {'C': 11.555555555555555, 'gamma': 0.0}\n",
      "\n",
      "+++++++++++++++++++++++++++++++++++++++++++++++\n",
      "Hyperparameter optimization using RandomizedSearchCV\n",
      "Parameters with rank: 1\n",
      "Mean validation score: 0.8453 (std: 0.0606)\n",
      "Parameters: {'C': 10, 'gamma': 0}\n",
      "\n",
      "Parameters with rank: 2\n",
      "Mean validation score: 0.6924 (std: 0.0841)\n",
      "Parameters: {'C': 1, 'gamma': 0}\n",
      "\n",
      "Parameters with rank: 3\n",
      "Mean validation score: 0.5090 (std: 0.1214)\n",
      "Parameters: {'C': 5, 'gamma': 1}\n",
      "\n",
      "Parameters with rank: 4\n",
      "Mean validation score: 0.4238 (std: 0.1193)\n",
      "Parameters: {'C': 10, 'gamma': 2}\n",
      "\n",
      "Parameters with rank: 5\n",
      "Mean validation score: 0.1012 (std: 0.0534)\n",
      "Parameters: {'C': 1, 'gamma': 2}\n",
      "\n"
     ]
    }
   ],
   "source": [
    "# Utility function to report optimal parameters\n",
    "from operator import itemgetter\n",
    "def report(grid_scores, n_top=5):\n",
    "    params = None\n",
    "    top_scores = sorted(grid_scores, key=itemgetter(1), reverse=True)[:n_top]\n",
    "    for i, score in enumerate(top_scores):\n",
    "        print(\"Parameters with rank: {0}\".format(i + 1))\n",
    "        print(\"Mean validation score: {0:.4f} (std: {1:.4f})\".format(\n",
    "              score.mean_validation_score, np.std(score.cv_validation_scores)))\n",
    "        print(\"Parameters: {0}\".format(score.parameters))\n",
    "        print(\"\")\n",
    "        \n",
    "        if params == None:\n",
    "            params = score.parameters\n",
    "    \n",
    "    return params\n",
    "\n",
    "# The most common value for the max number of features to look at in each split is sqrt(# of features)\n",
    "sqrtfeat = np.sqrt(X.shape[1]) \n",
    "grid_test1 = { \"C\"        : np.linspace(1,20,10),\n",
    "             \"gamma\"      : np.linspace(0,20,10)}\n",
    "\n",
    "# Large randomized test using max_depth to control tree size (5000 possible combinations)\n",
    "random_test1 = { \"C\"         : [1,5,10,50],\n",
    "                \"gamma\"      : [0,1,2]}\n",
    "\n",
    "\n",
    "forest = SVR()\n",
    "\n",
    "print \"Hyperparameter optimization using GridSearchCV...\"\n",
    "grid_search = GridSearchCV(forest, grid_test1, n_jobs=-1, cv=num_folds)\n",
    "grid_search.fit(X, Y)\n",
    "best_params_from_grid_search = report(grid_search.grid_scores_)\n",
    "print '+++++++++++++++++++++++++++++++++++++++++++++++'\n",
    "print \"Hyperparameter optimization using RandomizedSearchCV\"\n",
    "grid_search = RandomizedSearchCV(forest, random_test1, n_jobs=-1, cv=num_folds, n_iter=5)\n",
    "grid_search.fit(X, Y)\n",
    "best_params_from_rand_search1 = report(grid_search.grid_scores_)"
   ]
  },
  {
   "cell_type": "markdown",
   "metadata": {},
   "source": [
    "## Learning Curve "
   ]
  },
  {
   "cell_type": "markdown",
   "metadata": {},
   "source": [
    "In essence, what we’re doing it training the exact same model with increasingly large fractions of our total training data, and plotting the error of the training and test sets at each step."
   ]
  },
  {
   "cell_type": "code",
   "execution_count": 20,
   "metadata": {
    "collapsed": false
   },
   "outputs": [
    {
     "data": {
      "image/png": "[encoded data removed]",
      "text/plain": [
       "<matplotlib.figure.Figure at 0x116830f50>"
      ]
     },
     "metadata": {},
     "output_type": "display_data"
    }
   ],
   "source": [
    "from sklearn.svm import SVR\n",
    "model = SVR(kernel = \"linear\", C = 5.0 )\n",
    "title = \"Learning Curves (SVR Refression)\"\n",
    "cv = cross_validation.ShuffleSplit(X.shape[0], n_iter=100,\n",
    "                                   test_size=0.2, random_state=0)\n",
    "plot_learning_curve(model, title, X, Y, ylim=(0.2, 1.01), cv=cv, n_jobs=-1)\n",
    "plt.show()"
   ]
  },
  {
   "cell_type": "code",
   "execution_count": 21,
   "metadata": {
    "collapsed": false
   },
   "outputs": [
    {
     "name": "stdout",
     "output_type": "stream",
     "text": [
      "train_sizes =  [ 50  80 110]\n",
      " training scores\n",
      " 50 training sizees\n",
      "0.807103404474 ± 0.0768200568304\n",
      " 80 training sizees\n",
      "0.771268738013 ± 0.0677685989562\n",
      " 110 training sizees\n",
      "0.764569355149 ± 0.0597482632636\n",
      "\n",
      " validation scores\n",
      " 50 validation scores\n",
      "0.612088975377 ± 0.196229649669\n",
      " 80 validation scores\n",
      "0.667758615345 ± 0.112171141479\n",
      " 110 validation scores\n",
      "0.687075806434 ± 0.106307339151\n"
     ]
    }
   ],
   "source": [
    "# More data from learning curve to show the process of building the model\n",
    "train_sizes, train_scores, valid_scores = learning_curve(\n",
    "     model, X, Y, train_sizes=[50, 80, 110], cv=cv, n_jobs=4)\n",
    "\n",
    "print 'train_sizes = ', train_sizes\n",
    "\n",
    "print ' training scores'\n",
    "print ' 50 training sizees'\n",
    "print train_scores[0].mean(),'±',train_scores[0].std()\n",
    "print ' 80 training sizees'\n",
    "print train_scores[1].mean(),'±',train_scores[1].std()\n",
    "print ' 110 training sizees'\n",
    "print train_scores[2].mean(),'±',train_scores[2].std()\n",
    "\n",
    "print '\\n validation scores'\n",
    "print ' 50 validation scores'\n",
    "print valid_scores[0].mean(),'±',valid_scores[0].std()\n",
    "print ' 80 validation scores'\n",
    "print valid_scores[1].mean(),'±',valid_scores[1].std()\n",
    "print ' 110 validation scores'\n",
    "print valid_scores[2].mean(),'±',valid_scores[2].std()"
   ]
  },
  {
   "cell_type": "markdown",
   "metadata": {},
   "source": [
    "## Cross validation"
   ]
  },
  {
   "cell_type": "code",
   "execution_count": 22,
   "metadata": {
    "collapsed": false
   },
   "outputs": [
    {
     "name": "stdout",
     "output_type": "stream",
     "text": [
      "Scoring according to mean_squared_error\n",
      "[-17.34647457 -11.1966587  -18.33681658 -21.7321057  -26.12339941\n",
      " -25.1270435  -42.27657344 -31.54406256 -23.20359565  -8.626275  ]\n",
      "\n",
      " Mean      Standard deviation\n",
      "-22.55      9.26\n"
     ]
    },
    {
     "data": {
      "text/plain": [
       "SVR(C=5.0, cache_size=200, coef0=0.0, degree=3, epsilon=0.1, gamma='auto',\n",
       "  kernel='linear', max_iter=-1, shrinking=True, tol=0.001, verbose=False)"
      ]
     },
     "execution_count": 22,
     "metadata": {},
     "output_type": "execute_result"
    }
   ],
   "source": [
    "scoring = 'mean_squared_error'\n",
    "results = cross_validation.cross_val_score(model, X, Y, cv=kfold, scoring=scoring)\n",
    "print 'Scoring according to mean_squared_error'\n",
    "print results\n",
    "print '\\n Mean      Standard deviation'\n",
    "print(\"%.2f      %.2f\" % (results.mean(), results.std()))\n",
    "## Fit the model\n",
    "model.fit(X,Y)\n"
   ]
  },
  {
   "cell_type": "markdown",
   "metadata": {},
   "source": [
    "## Coefficients Of Determination {Calculating R^2}\n",
    "\n",
    "R^2, Close to one is better"
   ]
  },
  {
   "cell_type": "code",
   "execution_count": 23,
   "metadata": {
    "collapsed": false
   },
   "outputs": [
    {
     "name": "stdout",
     "output_type": "stream",
     "text": [
      "R-squared =  0.735766160193\n"
     ]
    }
   ],
   "source": [
    "predicted = cross_val_predict(model, X, Y, cv=kfold)\n",
    "r_squared = r2_score(Y, predicted, multioutput='variance_weighted')\n",
    "print 'R-squared = ',r_squared"
   ]
  },
  {
   "cell_type": "markdown",
   "metadata": {},
   "source": [
    "## Residual Plot"
   ]
  },
  {
   "cell_type": "code",
   "execution_count": 24,
   "metadata": {
    "collapsed": false
   },
   "outputs": [
    {
     "data": {
      "image/png": "[encoded data removed]",
      "text/plain": [
       "<matplotlib.figure.Figure at 0x1168b9550>"
      ]
     },
     "metadata": {},
     "output_type": "display_data"
    }
   ],
   "source": [
    "predicted = cross_val_predict(model, X, Y, cv=kfold)\n",
    "fig, ax = plt.subplots()\n",
    "ax.scatter(Y, predicted)\n",
    "ax.plot([Y.min(), Y.max()], [Y.min(), Y.max()], 'k--', lw=4)\n",
    "ax.set_xlabel('Measured')\n",
    "ax.set_ylabel('Predicted')\n",
    "plt.show()"
   ]
  },
  {
   "cell_type": "code",
   "execution_count": 25,
   "metadata": {
    "collapsed": false
   },
   "outputs": [
    {
     "data": {
      "text/html": [
       "\n",
       "\n",
       "    <div class=\"bk-root\">\n",
       "        <div class=\"plotdiv\" id=\"3afef57d-0365-49bf-acf3-040891629b27\"></div>\n",
       "    </div>\n",
       "<script type=\"text/javascript\">\n",
       "  \n",
       "  (function(global) {\n",
       "    function now() {\n",
       "      return new Date();\n",
       "    }\n",
       "  \n",
       "    if (typeof (window._bokeh_onload_callbacks) === \"undefined\") {\n",
       "      window._bokeh_onload_callbacks = [];\n",
       "    }\n",
       "  \n",
       "    function run_callbacks() {\n",
       "      window._bokeh_onload_callbacks.forEach(function(callback) { callback() });\n",
       "      delete window._bokeh_onload_callbacks\n",
       "      console.info(\"Bokeh: all callbacks have finished\");\n",
       "    }\n",
       "  \n",
       "    function load_libs(js_urls, callback) {\n",
       "      window._bokeh_onload_callbacks.push(callback);\n",
       "      if (window._bokeh_is_loading > 0) {\n",
       "        console.log(\"Bokeh: BokehJS is being loaded, scheduling callback at\", now());\n",
       "        return null;\n",
       "      }\n",
       "      if (js_urls == null || js_urls.length === 0) {\n",
       "        run_callbacks();\n",
       "        return null;\n",
       "      }\n",
       "      console.log(\"Bokeh: BokehJS not loaded, scheduling load and callback at\", now());\n",
       "      window._bokeh_is_loading = js_urls.length;\n",
       "      for (var i = 0; i < js_urls.length; i++) {\n",
       "        var url = js_urls[i];\n",
       "        var s = document.createElement('script');\n",
       "        s.src = url;\n",
       "        s.async = false;\n",
       "        s.onreadystatechange = s.onload = function() {\n",
       "          window._bokeh_is_loading--;\n",
       "          if (window._bokeh_is_loading === 0) {\n",
       "            console.log(\"Bokeh: all BokehJS libraries loaded\");\n",
       "            run_callbacks()\n",
       "          }\n",
       "        };\n",
       "        s.onerror = function() {\n",
       "          console.warn(\"failed to load library \" + url);\n",
       "        };\n",
       "        console.log(\"Bokeh: injecting script tag for BokehJS library: \", url);\n",
       "        document.getElementsByTagName(\"head\")[0].appendChild(s);\n",
       "      }\n",
       "    };var element = document.getElementById(\"3afef57d-0365-49bf-acf3-040891629b27\");\n",
       "    if (element == null) {\n",
       "      console.log(\"Bokeh: ERROR: autoload.js configured with elementid '3afef57d-0365-49bf-acf3-040891629b27' but no matching script tag was found. \")\n",
       "      return false;\n",
       "    }\n",
       "  \n",
       "    var js_urls = [];\n",
       "  \n",
       "    var inline_js = [\n",
       "      function(Bokeh) {\n",
       "        Bokeh.$(function() {\n",
       "            var docs_json = {\"e3b135c8-e024-46ff-ae31-f651b24a0b27\":{\"roots\":{\"references\":[{\"attributes\":{\"plot\":{\"id\":\"e5af8fbb-590a-4058-b10d-51afcdc5895c\",\"subtype\":\"Figure\",\"type\":\"Plot\"}},\"id\":\"9de1168e-43c1-450a-a3c8-611cb3be68bc\",\"type\":\"PanTool\"},{\"attributes\":{\"axis_label\":\"Predicted\",\"axis_label_text_color\":{\"value\":\"#aa6666\"},\"formatter\":{\"id\":\"018f9283-aa0c-4666-83cd-e75110ed8afd\",\"type\":\"BasicTickFormatter\"},\"plot\":{\"id\":\"e5af8fbb-590a-4058-b10d-51afcdc5895c\",\"subtype\":\"Figure\",\"type\":\"Plot\"},\"ticker\":{\"id\":\"938c5f47-70fc-46bf-a26e-f800cc253d11\",\"type\":\"BasicTicker\"}},\"id\":\"78aa89df-f2e2-4429-80a0-bf5fe74b132c\",\"type\":\"LinearAxis\"},{\"attributes\":{\"callback\":null,\"column_names\":[\"x\",\"y\"],\"data\":{\"x\":[26.7,21.7,22.0,22.9,10.4,21.9,20.6,26.4,41.3,17.2,27.1,20.4,16.5,24.4,8.4,23.0,9.7,50.0,30.5,12.3,19.4,21.2,20.3,18.8,33.4,18.5,19.6,33.2,13.1,7.5,13.6,17.4,8.4,35.4,24.0,13.4,26.2,7.2,13.1,24.5,37.2,25.0,24.1,16.6,32.9,36.2,11.0,7.2,22.8,28.7,14.4,24.4,18.1,22.5,20.5,15.2,17.4,13.6,8.7,18.2,35.4,31.7,33.0,22.2,20.4,23.9,25.0,12.7,29.1,12.0,17.7,27.0,20.6,10.2,17.5,19.7,29.8,20.5,14.9,10.9,19.5,22.7,19.5,24.6,25.0,24.5,50.0,14.3,11.8,31.0,28.7,16.2,43.5,25.0,22.0,19.9,22.1,46.0,22.9,20.2,43.1,34.6,13.8,24.3,21.5,24.4,21.2,23.8,26.6,25.1,9.6,19.4,19.4,9.5,14.0,26.5,13.8,34.7,16.3,21.7,17.5,15.6,20.9,21.7,12.7,18.5,23.7,19.3,12.7,21.6,23.2,29.6,21.2,23.8,17.1,22.0,36.5,18.8,21.9,23.1,20.2,17.4,37.0,24.1,36.2,15.7,32.2,13.5,17.9,13.3,11.7,41.7,18.4,13.1,25.0,21.2,16.0,34.9,25.2,24.8,21.5,23.4,18.9,10.8,21.0,27.5,17.5,13.5,28.7,14.8,19.1,28.6,13.1,19.0,11.3,13.3,22.4,20.1,18.2,22.9,20.6,25.0,12.8,34.9,23.7,50.0,29.0,30.1,22.0,15.6,23.3,30.1,14.3,22.8,50.0,20.8,6.3,34.9,32.4,19.9,20.3,17.8,23.1,20.4,23.2,7.0,16.8,46.7,50.0,22.9,23.9,21.4,21.7,15.4,15.3,23.1,23.9,19.4,11.9,17.8,31.5,33.8,20.8,19.8,22.4,5.0,24.5,19.4,15.1,18.2,19.3,27.1,20.7,37.6,11.7,33.4,30.1,21.4,45.4,20.1,20.8,26.4,10.4,21.8,32.0,21.7,18.4,37.9,17.8,28.0,28.2,36.0,18.9,15.0,22.5,30.7,20.0,19.1,23.3,26.6,21.1,19.7,20.0,12.1,7.2,14.2,17.3,27.5,22.2,10.9,19.2,32.0,14.5,24.7,12.6,24.0,24.1,50.0,16.1,43.8,26.6,36.1,21.8,29.9,50.0,44.0,20.6,19.6,28.4,19.1,22.3,20.9,28.4,14.4,32.7,13.8,8.5,22.5,35.1,31.6,17.8,15.6,20.7,39.8,17.8,19.6,14.9,22.0,48.8,25.0,48.5,23.9,20.3,15.2,10.5,19.0,16.4,8.8,22.0,24.8,50.0,19.3,22.7,37.3,31.6,8.3,23.1,50.0,13.9,16.1,25.3,19.5,10.2,19.9,35.2,13.4,24.7,11.5,23.4,16.7,15.4,18.0,28.5,18.4,32.5,50.0,50.0,19.6,17.6,42.3,14.5,13.2,16.2,29.6,16.7,13.0,22.3,13.4,5.0,19.5,14.6,22.0,8.1,24.6,33.2,20.6,14.1,14.1,21.1,30.3,23.7,21.4,18.3,8.5,22.8,22.8,22.2,13.9,25.0,18.5,7.0,22.6,20.1,30.8,31.1,23.8,12.5,23.6,23.2,24.2,22.2,27.9,22.2,33.1,19.3,18.9,22.6,50.0,24.8,18.5,36.4,19.2,16.6,23.1],\"y\":[30.229000174167496,21.607242820985185,27.365047233127598,22.168752196086004,4.818260584965582,11.385826315815702,21.446028999455173,28.179216559296613,30.751863443707514,11.754986962548452,19.744976676374215,19.320202317226286,13.102396598561825,22.358549160921118,6.46857543653492,20.02748068445166,7.9540698241116345,43.33955172125219,29.616914663148805,11.602034208618853,16.88443963116945,20.741487282360083,21.769990502690014,19.58114801598944,33.578153371202085,13.67079188340366,20.009569688846888,34.027287679656716,18.866892328948218,13.950847625374223,15.123094906504367,20.642274038926104,15.396608744405306,31.672774412193615,23.2458355643467,15.564547884889137,25.171187166656384,9.813886932745401,14.945732795395655,20.714080540507616,31.219630953379063,27.568548519306606,25.559605436168013,15.30135441259067,31.367774125249927,28.030715774020862,13.504344823226068,7.808559704337757,26.78204411274961,24.42747090318292,6.106577860706905,27.081215792794982,17.814171425337182,28.487642325011528,19.61610662464667,16.449084692572207,17.783001702314994,12.672323452164594,8.369237654512435,18.622584337373205,33.07981888373379,31.702265426096623,24.587804155266774,19.997820780135836,22.029765619151163,25.684444428434624,20.939187605742376,15.88959347708503,30.856300855306976,9.761672939694586,19.3484830148228,28.62183635830813,18.560910547900406,15.506182708264566,17.838617868892435,14.551607126614627,24.49778457596046,23.099223778925108,16.394675117307905,10.620116468653176,19.892674218917993,22.93615478079358,16.5746725899338,24.71070193369863,24.162456613156472,28.85159574760344,35.05125020266106,15.841326306714347,12.32845222803172,33.61248745520944,29.63711110824847,19.168495939191203,37.6378761333887,27.432938774487077,28.64083308480123,16.63636684112607,24.542455394688027,38.3157446238434,27.475026538022824,15.504100407517164,35.78791307362445,36.03405656359945,15.554501262788426,25.360858356316292,21.44307567117687,25.0624316107303,20.817733151198574,21.319064008982853,26.44372663634128,27.612911579775794,13.278476191032304,25.40926827967719,21.404391441510487,12.829372933508983,15.883280932725015,24.542491158369586,18.130824320786736,29.8824326351681,7.265375907201019,22.535358980950758,17.029438713077088,15.884794658285971,23.80047806895163,20.824151147063645,12.687023946118853,23.617228298994306,27.961341080936,19.519672119134466,11.307619013820403,23.772770189822673,24.594448776122874,26.564170205168807,22.664293199561364,24.39660245560698,17.072093602433867,20.84470086976184,34.202555350905584,19.920585246807452,36.427501061529945,25.680894699311615,20.731409658102333,16.08084429750745,31.029353522624074,22.29009291701145,25.693060024669332,15.14217162037659,32.32190085244545,14.317501397489421,-0.286037188379634,19.981566884876255,11.193816378157749,37.41818344533504,15.594055864290453,14.245345443616703,26.02795247367508,22.77436343083091,17.697638549005468,30.57189923609895,26.41375844608298,27.15607004189158,22.96242649368817,24.244326359399427,21.968410891283153,10.9675472551922,21.24234489093637,4.909625333139218,18.096252013840726,10.493435028720878,26.95131402532067,15.369965206846173,15.48764859667729,28.446268821133827,12.528993078492054,20.772121503700674,12.176870469061779,14.767226308750875,22.011019813419853,19.991774089058143,14.33870138584204,21.348814169338432,16.407717662384588,23.834229401181123,12.443910406430344,33.63832973655465,16.013279312205942,41.49819459465023,29.333228054875022,32.25796932380645,20.947959422364356,15.889755494027778,24.994911254669063,27.27758197771524,13.948653156109817,25.879002658709023,35.82990004419301,13.93378078533934,12.639512683846196,32.26032937425792,32.79186450247132,17.47053612229307,21.382471654132615,18.413474770251828,23.816642966188503,18.610302399172618,25.774129709957755,-6.576592878817376,20.023634489996592,35.71115555327738,33.765618676564706,23.56797105518458,26.285048595424733,17.956266689434557,21.05852680410593,16.628763727689556,18.10316892608565,20.458779337556084,27.34344533452073,19.35777113483581,2.745075916229311,17.30273071006843,30.877598884036985,33.785606920082486,14.260991774130067,18.26714166551741,23.66637228113288,2.9586984712103934,21.500432331738313,23.55622285027533,14.636861663193589,17.389232967284045,21.65420842225698,25.964703945025352,23.702167649017333,35.390523425337705,13.17453879303515,28.020499234607726,25.910100440140575,20.50272409036782,36.87926213875609,21.997794158337513,22.400527968864928,19.649359017188537,8.448512774829329,18.334938362331876,31.580288891054643,23.980065051664972,17.75263508554643,31.165986633580467,23.276038989939845,27.74900632464849,30.003618471661934,34.6371405741436,21.421896132997112,23.825944125116646,21.952200983296116,31.205324933858968,20.70695049440675,18.171011467369496,21.739602567354574,28.839792781058357,21.68405252715988,21.683049769669132,15.446034892359027,17.680670179085975,16.982081157537745,16.21387364460611,17.29350012726773,29.560318377252564,22.94962513489472,17.89755967524792,20.01424770753801,31.766253772098416,14.272171941770084,25.107740422035025,17.184571103237737,28.59348469124647,27.719978230596976,16.181737989180114,18.444493920051443,35.32807203929675,24.298871457251906,32.291354282161265,19.689357615279476,29.58101479728409,26.875438783574488,36.166687207477764,24.960311234724657,20.103289423636607,27.069799171094395,15.102655072117274,24.777195306339024,20.5308184523306,28.681887386445478,10.892743525740133,30.66224576350482,5.668343354782877,14.620315029949808,17.82077829030776,33.20118320992768,30.41471932850832,11.79051800120794,13.986625481650655,22.127885248801782,33.76659141696461,17.514670200815434,19.271255853372796,14.523624420146298,25.260300320892977,40.258185237379436,24.613093155469123,40.436661400409726,24.38000977364394,21.447590865906356,12.106454083963687,11.674300491090307,12.513927074103819,18.557337807761805,1.4993284929516015,25.71339597832448,25.18158175963506,40.27169821188435,19.71964628954442,19.603227633061714,33.029056888029224,33.26444214237666,8.679315536653185,23.988461031135785,42.65487083968879,17.331598792418255,18.157514951828112,24.82983700631902,17.23500654752781,5.8889121433928775,18.79036095081892,33.79303020792518,15.844548982282141,22.159887966065725,12.757902148700047,24.107316515527756,18.135450985376764,17.816064962352065,18.9022582422251,32.49356774673445,19.88132361203707,28.137957625726052,28.933595320135538,38.763992409789495,17.574536553206613,16.57710308450442,37.383084666990406,17.683190019863673,10.955585060496015,14.717942546979627,23.552475462502354,19.622172611639474,16.85585036883674,26.91140066397739,11.9178852516808,5.59173918537169,19.094300624091353,10.332314312303602,27.638065896291508,4.6664692064308255,26.71213814788834,31.78451976342872,22.031406619343876,16.44763825569981,17.065727179130658,21.04560610505543,32.94311530461718,27.385137568413803,19.029753248450344,19.419101066323492,6.086768046078969,25.757553093739315,24.151024297085943,22.530101735605093,13.31127803321913,22.681048670383994,19.16844555343522,9.500757568337164,24.120174648034176,16.2286700226485,29.924415610056165,31.975603274447383,24.47147836818708,18.545875001368966,29.069127297452876,20.91969858576924,25.58599350877733,24.286918356176777,29.998594119770686,24.13341524101115,32.16172425167038,15.81016673869604,19.77139936720036,18.077776032507185,40.01595978503737,25.245753427954888,18.333252730127874,32.797811506631064,21.942928300978302,18.762697062093768,20.732679593328378]}},\"id\":\"bde14de5-9255-4352-bf1c-532cf40c59cb\",\"type\":\"ColumnDataSource\"},{\"attributes\":{\"callback\":null,\"overlay\":{\"id\":\"a53af2a2-9af5-49a2-a9bd-47dd93d38a3a\",\"type\":\"PolyAnnotation\"},\"plot\":{\"id\":\"e5af8fbb-590a-4058-b10d-51afcdc5895c\",\"subtype\":\"Figure\",\"type\":\"Plot\"}},\"id\":\"ae288ea8-7128-445e-8569-30246084f63e\",\"type\":\"LassoSelectTool\"},{\"attributes\":{\"line_alpha\":{\"value\":0.1},\"line_color\":{\"value\":\"#1f77b4\"},\"line_dash\":[4,4],\"line_width\":{\"value\":2},\"x\":{\"field\":\"x\"},\"y\":{\"field\":\"y\"}},\"id\":\"3e23e184-2fda-4c55-b83d-b3a6b58dadca\",\"type\":\"Line\"},{\"attributes\":{\"plot\":{\"id\":\"e5af8fbb-590a-4058-b10d-51afcdc5895c\",\"subtype\":\"Figure\",\"type\":\"Plot\"}},\"id\":\"00274eca-7f88-46be-97d4-3ef80c7bf16e\",\"type\":\"SaveTool\"},{\"attributes\":{\"callback\":null,\"column_names\":[\"y\",\"x\"],\"data\":{\"x\":[5.0,50.0],\"y\":[5.0,50.0]}},\"id\":\"5e512032-aef6-418e-9931-3497e86148fe\",\"type\":\"ColumnDataSource\"},{\"attributes\":{\"fill_alpha\":{\"value\":0.5},\"fill_color\":{\"value\":\"lightgrey\"},\"level\":\"overlay\",\"line_alpha\":{\"value\":1.0},\"line_color\":{\"value\":\"black\"},\"line_dash\":[4,4],\"line_width\":{\"value\":2},\"plot\":null,\"xs_units\":\"screen\",\"ys_units\":\"screen\"},\"id\":\"775a0178-27cd-4500-b750-0dc0618eebce\",\"type\":\"PolyAnnotation\"},{\"attributes\":{\"plot\":{\"id\":\"e5af8fbb-590a-4058-b10d-51afcdc5895c\",\"subtype\":\"Figure\",\"type\":\"Plot\"}},\"id\":\"9cd912a5-f4dd-4e6e-83cc-b56e50b5110d\",\"type\":\"ResizeTool\"},{\"attributes\":{\"background_fill_alpha\":{\"value\":0.5},\"background_fill_color\":{\"value\":\"beige\"},\"below\":[{\"id\":\"0488fc1e-d835-4838-9ad9-e3c868badb1e\",\"type\":\"LinearAxis\"}],\"left\":[{\"id\":\"78aa89df-f2e2-4429-80a0-bf5fe74b132c\",\"type\":\"LinearAxis\"}],\"plot_height\":500,\"plot_width\":500,\"renderers\":[{\"id\":\"0488fc1e-d835-4838-9ad9-e3c868badb1e\",\"type\":\"LinearAxis\"},{\"id\":\"021e4984-e826-4d0c-89b8-fd2a484da81c\",\"type\":\"Grid\"},{\"id\":\"78aa89df-f2e2-4429-80a0-bf5fe74b132c\",\"type\":\"LinearAxis\"},{\"id\":\"54be5ced-f02a-415a-b6ce-314d2a807036\",\"type\":\"Grid\"},{\"id\":\"472c6a3b-d89f-43da-8291-36149c78b2a3\",\"type\":\"BoxAnnotation\"},{\"id\":\"e36d0e11-6c9f-42d1-b408-46a08007ca5c\",\"type\":\"BoxAnnotation\"},{\"id\":\"a53af2a2-9af5-49a2-a9bd-47dd93d38a3a\",\"type\":\"PolyAnnotation\"},{\"id\":\"775a0178-27cd-4500-b750-0dc0618eebce\",\"type\":\"PolyAnnotation\"},{\"id\":\"a595ca7f-2ecf-40e6-b56d-657837e50b1f\",\"type\":\"GlyphRenderer\"},{\"id\":\"b8f1b9d5-c090-4ab6-8d48-138478c9ddc6\",\"type\":\"GlyphRenderer\"}],\"title\":{\"id\":\"90d7eace-084b-46c8-9555-f1b68a5becd8\",\"type\":\"Title\"},\"tool_events\":{\"id\":\"9468f638-3e65-42c9-859b-8577bd09702c\",\"type\":\"ToolEvents\"},\"toolbar\":{\"id\":\"b85c8571-1e0b-41de-9e9f-d028559e3a62\",\"type\":\"Toolbar\"},\"x_range\":{\"id\":\"94ad1899-b045-44df-85ac-70ef446072d4\",\"type\":\"DataRange1d\"},\"y_range\":{\"id\":\"c04e552a-70d6-4b79-b010-0b498574ea8e\",\"type\":\"DataRange1d\"}},\"id\":\"e5af8fbb-590a-4058-b10d-51afcdc5895c\",\"subtype\":\"Figure\",\"type\":\"Plot\"},{\"attributes\":{\"active_drag\":\"auto\",\"active_scroll\":\"auto\",\"active_tap\":\"auto\",\"tools\":[{\"id\":\"b256aed5-7e72-48bd-aecf-a85f8ce5ec9a\",\"type\":\"BoxZoomTool\"},{\"id\":\"a4022d56-8dc9-4870-bae9-15be039e311b\",\"type\":\"BoxSelectTool\"},{\"id\":\"b9064e77-f46d-400a-9684-5a47c49c854b\",\"type\":\"CrosshairTool\"},{\"id\":\"9cd912a5-f4dd-4e6e-83cc-b56e50b5110d\",\"type\":\"ResizeTool\"},{\"id\":\"2241f5ab-5731-473a-a38e-76edf8f22597\",\"type\":\"ResetTool\"},{\"id\":\"ae288ea8-7128-445e-8569-30246084f63e\",\"type\":\"LassoSelectTool\"},{\"id\":\"9de1168e-43c1-450a-a3c8-611cb3be68bc\",\"type\":\"PanTool\"},{\"id\":\"00274eca-7f88-46be-97d4-3ef80c7bf16e\",\"type\":\"SaveTool\"},{\"id\":\"8b2d8d15-2d73-4987-b5c8-74c5407608b9\",\"type\":\"PolySelectTool\"},{\"id\":\"d5bbf14c-3f91-4576-b43a-7e782d2de2da\",\"type\":\"TapTool\"},{\"id\":\"79af0c7e-733d-43df-9c9a-5acdf19aee49\",\"type\":\"WheelZoomTool\"},{\"id\":\"7a0efef3-ca9b-4e12-ae63-d49feb97c137\",\"type\":\"UndoTool\"}]},\"id\":\"b85c8571-1e0b-41de-9e9f-d028559e3a62\",\"type\":\"Toolbar\"},{\"attributes\":{},\"id\":\"938c5f47-70fc-46bf-a26e-f800cc253d11\",\"type\":\"BasicTicker\"},{\"attributes\":{\"callback\":null,\"plot\":{\"id\":\"e5af8fbb-590a-4058-b10d-51afcdc5895c\",\"subtype\":\"Figure\",\"type\":\"Plot\"}},\"id\":\"d5bbf14c-3f91-4576-b43a-7e782d2de2da\",\"type\":\"TapTool\"},{\"attributes\":{\"overlay\":{\"id\":\"472c6a3b-d89f-43da-8291-36149c78b2a3\",\"type\":\"BoxAnnotation\"},\"plot\":{\"id\":\"e5af8fbb-590a-4058-b10d-51afcdc5895c\",\"subtype\":\"Figure\",\"type\":\"Plot\"}},\"id\":\"b256aed5-7e72-48bd-aecf-a85f8ce5ec9a\",\"type\":\"BoxZoomTool\"},{\"attributes\":{\"fill_color\":{\"value\":\"#80B1D3\"},\"line_color\":{\"value\":\"#80B1D3\"},\"line_width\":{\"value\":3},\"x\":{\"field\":\"x\"},\"y\":{\"field\":\"y\"}},\"id\":\"f25b5e68-5b6d-442d-a456-7ba243905926\",\"type\":\"Circle\"},{\"attributes\":{\"align\":\"center\",\"plot\":null,\"text\":null},\"id\":\"90d7eace-084b-46c8-9555-f1b68a5becd8\",\"type\":\"Title\"},{\"attributes\":{\"plot\":{\"id\":\"e5af8fbb-590a-4058-b10d-51afcdc5895c\",\"subtype\":\"Figure\",\"type\":\"Plot\"}},\"id\":\"7a0efef3-ca9b-4e12-ae63-d49feb97c137\",\"type\":\"UndoTool\"},{\"attributes\":{\"plot\":{\"id\":\"e5af8fbb-590a-4058-b10d-51afcdc5895c\",\"subtype\":\"Figure\",\"type\":\"Plot\"}},\"id\":\"2241f5ab-5731-473a-a38e-76edf8f22597\",\"type\":\"ResetTool\"},{\"attributes\":{\"data_source\":{\"id\":\"bde14de5-9255-4352-bf1c-532cf40c59cb\",\"type\":\"ColumnDataSource\"},\"glyph\":{\"id\":\"f25b5e68-5b6d-442d-a456-7ba243905926\",\"type\":\"Circle\"},\"hover_glyph\":null,\"nonselection_glyph\":{\"id\":\"7c81816f-5ff5-4b95-b176-c3bb0667d32f\",\"type\":\"Circle\"},\"selection_glyph\":null},\"id\":\"a595ca7f-2ecf-40e6-b56d-657837e50b1f\",\"type\":\"GlyphRenderer\"},{\"attributes\":{\"bottom_units\":\"screen\",\"fill_alpha\":{\"value\":0.5},\"fill_color\":{\"value\":\"lightgrey\"},\"left_units\":\"screen\",\"level\":\"overlay\",\"line_alpha\":{\"value\":1.0},\"line_color\":{\"value\":\"black\"},\"line_dash\":[4,4],\"line_width\":{\"value\":2},\"plot\":null,\"render_mode\":\"css\",\"right_units\":\"screen\",\"top_units\":\"screen\"},\"id\":\"472c6a3b-d89f-43da-8291-36149c78b2a3\",\"type\":\"BoxAnnotation\"},{\"attributes\":{},\"id\":\"9468f638-3e65-42c9-859b-8577bd09702c\",\"type\":\"ToolEvents\"},{\"attributes\":{\"bottom_units\":\"screen\",\"fill_alpha\":{\"value\":0.5},\"fill_color\":{\"value\":\"lightgrey\"},\"left_units\":\"screen\",\"level\":\"overlay\",\"line_alpha\":{\"value\":1.0},\"line_color\":{\"value\":\"black\"},\"line_dash\":[4,4],\"line_width\":{\"value\":2},\"plot\":null,\"render_mode\":\"css\",\"right_units\":\"screen\",\"top_units\":\"screen\"},\"id\":\"e36d0e11-6c9f-42d1-b408-46a08007ca5c\",\"type\":\"BoxAnnotation\"},{\"attributes\":{\"axis_label\":\"Measured\",\"axis_label_text_color\":{\"value\":\"#aa6666\"},\"formatter\":{\"id\":\"932d411d-5126-4ae4-a6e1-d167e37734c4\",\"type\":\"BasicTickFormatter\"},\"major_tick_line_color\":{\"value\":\"firebrick\"},\"major_tick_line_width\":{\"value\":3},\"minor_tick_line_color\":{\"value\":\"orange\"},\"plot\":{\"id\":\"e5af8fbb-590a-4058-b10d-51afcdc5895c\",\"subtype\":\"Figure\",\"type\":\"Plot\"},\"ticker\":{\"id\":\"81681fad-203f-4688-94cb-edc475d43a27\",\"type\":\"BasicTicker\"}},\"id\":\"0488fc1e-d835-4838-9ad9-e3c868badb1e\",\"type\":\"LinearAxis\"},{\"attributes\":{\"overlay\":{\"id\":\"775a0178-27cd-4500-b750-0dc0618eebce\",\"type\":\"PolyAnnotation\"},\"plot\":{\"id\":\"e5af8fbb-590a-4058-b10d-51afcdc5895c\",\"subtype\":\"Figure\",\"type\":\"Plot\"}},\"id\":\"8b2d8d15-2d73-4987-b5c8-74c5407608b9\",\"type\":\"PolySelectTool\"},{\"attributes\":{\"plot\":{\"id\":\"e5af8fbb-590a-4058-b10d-51afcdc5895c\",\"subtype\":\"Figure\",\"type\":\"Plot\"}},\"id\":\"b9064e77-f46d-400a-9684-5a47c49c854b\",\"type\":\"CrosshairTool\"},{\"attributes\":{},\"id\":\"81681fad-203f-4688-94cb-edc475d43a27\",\"type\":\"BasicTicker\"},{\"attributes\":{\"fill_alpha\":{\"value\":0.1},\"fill_color\":{\"value\":\"#1f77b4\"},\"line_alpha\":{\"value\":0.1},\"line_color\":{\"value\":\"#1f77b4\"},\"line_width\":{\"value\":3},\"x\":{\"field\":\"x\"},\"y\":{\"field\":\"y\"}},\"id\":\"7c81816f-5ff5-4b95-b176-c3bb0667d32f\",\"type\":\"Circle\"},{\"attributes\":{},\"id\":\"932d411d-5126-4ae4-a6e1-d167e37734c4\",\"type\":\"BasicTickFormatter\"},{\"attributes\":{\"plot\":{\"id\":\"e5af8fbb-590a-4058-b10d-51afcdc5895c\",\"subtype\":\"Figure\",\"type\":\"Plot\"}},\"id\":\"79af0c7e-733d-43df-9c9a-5acdf19aee49\",\"type\":\"WheelZoomTool\"},{\"attributes\":{\"callback\":null},\"id\":\"c04e552a-70d6-4b79-b010-0b498574ea8e\",\"type\":\"DataRange1d\"},{\"attributes\":{\"dimension\":1,\"plot\":{\"id\":\"e5af8fbb-590a-4058-b10d-51afcdc5895c\",\"subtype\":\"Figure\",\"type\":\"Plot\"},\"ticker\":{\"id\":\"938c5f47-70fc-46bf-a26e-f800cc253d11\",\"type\":\"BasicTicker\"}},\"id\":\"54be5ced-f02a-415a-b6ce-314d2a807036\",\"type\":\"Grid\"},{\"attributes\":{\"callback\":null},\"id\":\"94ad1899-b045-44df-85ac-70ef446072d4\",\"type\":\"DataRange1d\"},{\"attributes\":{\"callback\":null,\"overlay\":{\"id\":\"e36d0e11-6c9f-42d1-b408-46a08007ca5c\",\"type\":\"BoxAnnotation\"},\"plot\":{\"id\":\"e5af8fbb-590a-4058-b10d-51afcdc5895c\",\"subtype\":\"Figure\",\"type\":\"Plot\"},\"renderers\":[{\"id\":\"a595ca7f-2ecf-40e6-b56d-657837e50b1f\",\"type\":\"GlyphRenderer\"},{\"id\":\"b8f1b9d5-c090-4ab6-8d48-138478c9ddc6\",\"type\":\"GlyphRenderer\"}]},\"id\":\"a4022d56-8dc9-4870-bae9-15be039e311b\",\"type\":\"BoxSelectTool\"},{\"attributes\":{\"fill_alpha\":{\"value\":0.5},\"fill_color\":{\"value\":\"lightgrey\"},\"level\":\"overlay\",\"line_alpha\":{\"value\":1.0},\"line_color\":{\"value\":\"black\"},\"line_dash\":[4,4],\"line_width\":{\"value\":2},\"plot\":null,\"xs_units\":\"screen\",\"ys_units\":\"screen\"},\"id\":\"a53af2a2-9af5-49a2-a9bd-47dd93d38a3a\",\"type\":\"PolyAnnotation\"},{\"attributes\":{\"plot\":{\"id\":\"e5af8fbb-590a-4058-b10d-51afcdc5895c\",\"subtype\":\"Figure\",\"type\":\"Plot\"},\"ticker\":{\"id\":\"81681fad-203f-4688-94cb-edc475d43a27\",\"type\":\"BasicTicker\"}},\"id\":\"021e4984-e826-4d0c-89b8-fd2a484da81c\",\"type\":\"Grid\"},{\"attributes\":{\"data_source\":{\"id\":\"5e512032-aef6-418e-9931-3497e86148fe\",\"type\":\"ColumnDataSource\"},\"glyph\":{\"id\":\"af7c9ede-fbc4-4a86-b86a-ee74d2b9cbfb\",\"type\":\"Line\"},\"hover_glyph\":null,\"nonselection_glyph\":{\"id\":\"3e23e184-2fda-4c55-b83d-b3a6b58dadca\",\"type\":\"Line\"},\"selection_glyph\":null},\"id\":\"b8f1b9d5-c090-4ab6-8d48-138478c9ddc6\",\"type\":\"GlyphRenderer\"},{\"attributes\":{},\"id\":\"018f9283-aa0c-4666-83cd-e75110ed8afd\",\"type\":\"BasicTickFormatter\"},{\"attributes\":{\"line_dash\":[4,4],\"line_width\":{\"value\":2},\"x\":{\"field\":\"x\"},\"y\":{\"field\":\"y\"}},\"id\":\"af7c9ede-fbc4-4a86-b86a-ee74d2b9cbfb\",\"type\":\"Line\"}],\"root_ids\":[\"e5af8fbb-590a-4058-b10d-51afcdc5895c\"]},\"title\":\"Bokeh Application\",\"version\":\"0.12.0\"}};\n",
       "            var render_items = [{\"docid\":\"e3b135c8-e024-46ff-ae31-f651b24a0b27\",\"elementid\":\"3afef57d-0365-49bf-acf3-040891629b27\",\"modelid\":\"e5af8fbb-590a-4058-b10d-51afcdc5895c\",\"notebook_comms_target\":\"d9668fdb-d27a-4269-834e-8e15170d8314\"}];\n",
       "            \n",
       "            Bokeh.embed.embed_items(docs_json, render_items);\n",
       "        });\n",
       "      },\n",
       "      function(Bokeh) {\n",
       "      }\n",
       "    ];\n",
       "  \n",
       "    function run_inline_js() {\n",
       "      for (var i = 0; i < inline_js.length; i++) {\n",
       "        inline_js[i](window.Bokeh);\n",
       "      }\n",
       "    }\n",
       "  \n",
       "    if (window._bokeh_is_loading === 0) {\n",
       "      console.log(\"Bokeh: BokehJS loaded, going straight to plotting\");\n",
       "      run_inline_js();\n",
       "    } else {\n",
       "      load_libs(js_urls, function() {\n",
       "        console.log(\"Bokeh: BokehJS plotting callback run at\", now());\n",
       "        run_inline_js();\n",
       "      });\n",
       "    }\n",
       "  }(this));\n",
       "</script>"
      ]
     },
     "metadata": {},
     "output_type": "display_data"
    },
    {
     "data": {
      "text/html": [
       "<p><code>&lt;Bokeh Notebook handle for <strong>In[25]</strong>&gt;</code></p>"
      ],
      "text/plain": [
       "<bokeh.io._CommsHandle at 0x114dbb550>"
      ]
     },
     "execution_count": 25,
     "metadata": {},
     "output_type": "execute_result"
    }
   ],
   "source": [
    "# Plotining using bokeh\n",
    "#TOOLS = [BoxSelectTool(), HoverTool()]\n",
    "#TOOLS = 'hover,box_zoom,box_select,crosshair,resize,reset,SVR_select,pan,save,poly_select,tap,wheel_zoom,undo'\n",
    "TOOLS = 'box_zoom,box_select,crosshair,resize,reset,lasso_select,pan,save,poly_select,tap,wheel_zoom,undo'\n",
    "p = figure(plot_width=500, plot_height=500, tools=TOOLS)\n",
    "p.scatter(Y, predicted,x=\"jjj\", marker=\"o\", color=\"#80B1D3\", line_width=3)\n",
    "p.title.align = \"center\"\n",
    "p.xaxis.axis_label = \"Measured\"\n",
    "p.xaxis.axis_label_text_color = \"#aa6666\"\n",
    "#p.xaxis.axis_label_standoff = 30\n",
    "p.xaxis.major_tick_line_color = \"firebrick\"\n",
    "p.xaxis.major_tick_line_width = 3\n",
    "p.xaxis.minor_tick_line_color = \"orange\"\n",
    "p.yaxis.axis_label = \"Predicted\"\n",
    "p.yaxis.axis_label_text_font_style = \"italic\"\n",
    "p.yaxis.axis_label_text_color = \"#aa6666\"\n",
    "p.background_fill_color = \"beige\"\n",
    "p.background_fill_alpha = 0.5\n",
    "#p.line([Y.min(), Y.max()], [Y.min(), Y.max()], line_dash=\"4 4\", line_width=2, color='red')\n",
    "\n",
    "# create a new plot with the toolbar below\n",
    "# line_dash=\"4 4\", line_width=2, color='red'\n",
    "p.line([Y.min(), Y.max()], [Y.min(), Y.max()], line_dash=\"4 4\", line_width=2, line_color=\"black\")\n",
    "show(p)"
   ]
  },
  {
   "cell_type": "code",
   "execution_count": 26,
   "metadata": {
    "collapsed": false
   },
   "outputs": [
    {
     "data": {
      "text/plain": [
       "<matplotlib.text.Text at 0x116866b90>"
      ]
     },
     "execution_count": 26,
     "metadata": {},
     "output_type": "execute_result"
    },
    {
     "data": {
      "image/png": "[encoded data removed]",
      "text/plain": [
       "<matplotlib.figure.Figure at 0x116841510>"
      ]
     },
     "metadata": {},
     "output_type": "display_data"
    }
   ],
   "source": [
    "plt.scatter(predicted, (predicted - Y), c='r', s=30)\n",
    "plt.title(\"Residual plot on the training data\")\n",
    "plt.xlabel(\"Predicted\")\n",
    "plt.ylabel(\"Residuals\")"
   ]
  },
  {
   "cell_type": "code",
   "execution_count": 27,
   "metadata": {
    "collapsed": false
   },
   "outputs": [
    {
     "data": {
      "text/html": [
       "\n",
       "\n",
       "    <div class=\"bk-root\">\n",
       "        <div class=\"plotdiv\" id=\"df4bde6a-5a7e-4995-9ceb-c8158cf53c41\"></div>\n",
       "    </div>\n",
       "<script type=\"text/javascript\">\n",
       "  \n",
       "  (function(global) {\n",
       "    function now() {\n",
       "      return new Date();\n",
       "    }\n",
       "  \n",
       "    if (typeof (window._bokeh_onload_callbacks) === \"undefined\") {\n",
       "      window._bokeh_onload_callbacks = [];\n",
       "    }\n",
       "  \n",
       "    function run_callbacks() {\n",
       "      window._bokeh_onload_callbacks.forEach(function(callback) { callback() });\n",
       "      delete window._bokeh_onload_callbacks\n",
       "      console.info(\"Bokeh: all callbacks have finished\");\n",
       "    }\n",
       "  \n",
       "    function load_libs(js_urls, callback) {\n",
       "      window._bokeh_onload_callbacks.push(callback);\n",
       "      if (window._bokeh_is_loading > 0) {\n",
       "        console.log(\"Bokeh: BokehJS is being loaded, scheduling callback at\", now());\n",
       "        return null;\n",
       "      }\n",
       "      if (js_urls == null || js_urls.length === 0) {\n",
       "        run_callbacks();\n",
       "        return null;\n",
       "      }\n",
       "      console.log(\"Bokeh: BokehJS not loaded, scheduling load and callback at\", now());\n",
       "      window._bokeh_is_loading = js_urls.length;\n",
       "      for (var i = 0; i < js_urls.length; i++) {\n",
       "        var url = js_urls[i];\n",
       "        var s = document.createElement('script');\n",
       "        s.src = url;\n",
       "        s.async = false;\n",
       "        s.onreadystatechange = s.onload = function() {\n",
       "          window._bokeh_is_loading--;\n",
       "          if (window._bokeh_is_loading === 0) {\n",
       "            console.log(\"Bokeh: all BokehJS libraries loaded\");\n",
       "            run_callbacks()\n",
       "          }\n",
       "        };\n",
       "        s.onerror = function() {\n",
       "          console.warn(\"failed to load library \" + url);\n",
       "        };\n",
       "        console.log(\"Bokeh: injecting script tag for BokehJS library: \", url);\n",
       "        document.getElementsByTagName(\"head\")[0].appendChild(s);\n",
       "      }\n",
       "    };var element = document.getElementById(\"df4bde6a-5a7e-4995-9ceb-c8158cf53c41\");\n",
       "    if (element == null) {\n",
       "      console.log(\"Bokeh: ERROR: autoload.js configured with elementid 'df4bde6a-5a7e-4995-9ceb-c8158cf53c41' but no matching script tag was found. \")\n",
       "      return false;\n",
       "    }\n",
       "  \n",
       "    var js_urls = [];\n",
       "  \n",
       "    var inline_js = [\n",
       "      function(Bokeh) {\n",
       "        Bokeh.$(function() {\n",
       "            var docs_json = {\"68b93fa7-eceb-4fde-b125-3c9a8bfb6005\":{\"roots\":{\"references\":[{\"attributes\":{\"plot\":{\"id\":\"cfefef21-1720-4463-afe0-fcb4f034fbed\",\"subtype\":\"Figure\",\"type\":\"Plot\"}},\"id\":\"1de190b6-36e6-40ac-9764-00c0b425dcf3\",\"type\":\"ResetTool\"},{\"attributes\":{\"plot\":{\"id\":\"cfefef21-1720-4463-afe0-fcb4f034fbed\",\"subtype\":\"Figure\",\"type\":\"Plot\"},\"ticker\":{\"id\":\"011b0a37-2087-4ae6-83af-9f9c8052dd3a\",\"type\":\"BasicTicker\"}},\"id\":\"0bd555f3-6cb9-499a-a381-af0594488f25\",\"type\":\"Grid\"},{\"attributes\":{\"overlay\":{\"id\":\"36c56efb-059c-45f1-a3ef-6ce8d4d36755\",\"type\":\"PolyAnnotation\"},\"plot\":{\"id\":\"cfefef21-1720-4463-afe0-fcb4f034fbed\",\"subtype\":\"Figure\",\"type\":\"Plot\"}},\"id\":\"92700c75-af7d-4cd5-a9a5-d35653c8bfff\",\"type\":\"PolySelectTool\"},{\"attributes\":{\"overlay\":{\"id\":\"30743acb-620f-4bf8-a73c-8f5393d36216\",\"type\":\"BoxAnnotation\"},\"plot\":{\"id\":\"cfefef21-1720-4463-afe0-fcb4f034fbed\",\"subtype\":\"Figure\",\"type\":\"Plot\"}},\"id\":\"b1bcadae-83c0-4161-982b-a73226f77e96\",\"type\":\"BoxZoomTool\"},{\"attributes\":{\"callback\":null},\"id\":\"229dda47-9c66-4522-a32f-099c6253a663\",\"type\":\"DataRange1d\"},{\"attributes\":{},\"id\":\"011b0a37-2087-4ae6-83af-9f9c8052dd3a\",\"type\":\"BasicTicker\"},{\"attributes\":{},\"id\":\"0df3b3ef-fdbc-4c88-8684-a234f52b55eb\",\"type\":\"BasicTicker\"},{\"attributes\":{\"callback\":null,\"column_names\":[\"x\",\"y\"],\"data\":{\"x\":[30.229000174167496,21.607242820985185,27.365047233127598,22.168752196086004,4.818260584965582,11.385826315815702,21.446028999455173,28.179216559296613,30.751863443707514,11.754986962548452,19.744976676374215,19.320202317226286,13.102396598561825,22.358549160921118,6.46857543653492,20.02748068445166,7.9540698241116345,43.33955172125219,29.616914663148805,11.602034208618853,16.88443963116945,20.741487282360083,21.769990502690014,19.58114801598944,33.578153371202085,13.67079188340366,20.009569688846888,34.027287679656716,18.866892328948218,13.950847625374223,15.123094906504367,20.642274038926104,15.396608744405306,31.672774412193615,23.2458355643467,15.564547884889137,25.171187166656384,9.813886932745401,14.945732795395655,20.714080540507616,31.219630953379063,27.568548519306606,25.559605436168013,15.30135441259067,31.367774125249927,28.030715774020862,13.504344823226068,7.808559704337757,26.78204411274961,24.42747090318292,6.106577860706905,27.081215792794982,17.814171425337182,28.487642325011528,19.61610662464667,16.449084692572207,17.783001702314994,12.672323452164594,8.369237654512435,18.622584337373205,33.07981888373379,31.702265426096623,24.587804155266774,19.997820780135836,22.029765619151163,25.684444428434624,20.939187605742376,15.88959347708503,30.856300855306976,9.761672939694586,19.3484830148228,28.62183635830813,18.560910547900406,15.506182708264566,17.838617868892435,14.551607126614627,24.49778457596046,23.099223778925108,16.394675117307905,10.620116468653176,19.892674218917993,22.93615478079358,16.5746725899338,24.71070193369863,24.162456613156472,28.85159574760344,35.05125020266106,15.841326306714347,12.32845222803172,33.61248745520944,29.63711110824847,19.168495939191203,37.6378761333887,27.432938774487077,28.64083308480123,16.63636684112607,24.542455394688027,38.3157446238434,27.475026538022824,15.504100407517164,35.78791307362445,36.03405656359945,15.554501262788426,25.360858356316292,21.44307567117687,25.0624316107303,20.817733151198574,21.319064008982853,26.44372663634128,27.612911579775794,13.278476191032304,25.40926827967719,21.404391441510487,12.829372933508983,15.883280932725015,24.542491158369586,18.130824320786736,29.8824326351681,7.265375907201019,22.535358980950758,17.029438713077088,15.884794658285971,23.80047806895163,20.824151147063645,12.687023946118853,23.617228298994306,27.961341080936,19.519672119134466,11.307619013820403,23.772770189822673,24.594448776122874,26.564170205168807,22.664293199561364,24.39660245560698,17.072093602433867,20.84470086976184,34.202555350905584,19.920585246807452,36.427501061529945,25.680894699311615,20.731409658102333,16.08084429750745,31.029353522624074,22.29009291701145,25.693060024669332,15.14217162037659,32.32190085244545,14.317501397489421,-0.286037188379634,19.981566884876255,11.193816378157749,37.41818344533504,15.594055864290453,14.245345443616703,26.02795247367508,22.77436343083091,17.697638549005468,30.57189923609895,26.41375844608298,27.15607004189158,22.96242649368817,24.244326359399427,21.968410891283153,10.9675472551922,21.24234489093637,4.909625333139218,18.096252013840726,10.493435028720878,26.95131402532067,15.369965206846173,15.48764859667729,28.446268821133827,12.528993078492054,20.772121503700674,12.176870469061779,14.767226308750875,22.011019813419853,19.991774089058143,14.33870138584204,21.348814169338432,16.407717662384588,23.834229401181123,12.443910406430344,33.63832973655465,16.013279312205942,41.49819459465023,29.333228054875022,32.25796932380645,20.947959422364356,15.889755494027778,24.994911254669063,27.27758197771524,13.948653156109817,25.879002658709023,35.82990004419301,13.93378078533934,12.639512683846196,32.26032937425792,32.79186450247132,17.47053612229307,21.382471654132615,18.413474770251828,23.816642966188503,18.610302399172618,25.774129709957755,-6.576592878817376,20.023634489996592,35.71115555327738,33.765618676564706,23.56797105518458,26.285048595424733,17.956266689434557,21.05852680410593,16.628763727689556,18.10316892608565,20.458779337556084,27.34344533452073,19.35777113483581,2.745075916229311,17.30273071006843,30.877598884036985,33.785606920082486,14.260991774130067,18.26714166551741,23.66637228113288,2.9586984712103934,21.500432331738313,23.55622285027533,14.636861663193589,17.389232967284045,21.65420842225698,25.964703945025352,23.702167649017333,35.390523425337705,13.17453879303515,28.020499234607726,25.910100440140575,20.50272409036782,36.87926213875609,21.997794158337513,22.400527968864928,19.649359017188537,8.448512774829329,18.334938362331876,31.580288891054643,23.980065051664972,17.75263508554643,31.165986633580467,23.276038989939845,27.74900632464849,30.003618471661934,34.6371405741436,21.421896132997112,23.825944125116646,21.952200983296116,31.205324933858968,20.70695049440675,18.171011467369496,21.739602567354574,28.839792781058357,21.68405252715988,21.683049769669132,15.446034892359027,17.680670179085975,16.982081157537745,16.21387364460611,17.29350012726773,29.560318377252564,22.94962513489472,17.89755967524792,20.01424770753801,31.766253772098416,14.272171941770084,25.107740422035025,17.184571103237737,28.59348469124647,27.719978230596976,16.181737989180114,18.444493920051443,35.32807203929675,24.298871457251906,32.291354282161265,19.689357615279476,29.58101479728409,26.875438783574488,36.166687207477764,24.960311234724657,20.103289423636607,27.069799171094395,15.102655072117274,24.777195306339024,20.5308184523306,28.681887386445478,10.892743525740133,30.66224576350482,5.668343354782877,14.620315029949808,17.82077829030776,33.20118320992768,30.41471932850832,11.79051800120794,13.986625481650655,22.127885248801782,33.76659141696461,17.514670200815434,19.271255853372796,14.523624420146298,25.260300320892977,40.258185237379436,24.613093155469123,40.436661400409726,24.38000977364394,21.447590865906356,12.106454083963687,11.674300491090307,12.513927074103819,18.557337807761805,1.4993284929516015,25.71339597832448,25.18158175963506,40.27169821188435,19.71964628954442,19.603227633061714,33.029056888029224,33.26444214237666,8.679315536653185,23.988461031135785,42.65487083968879,17.331598792418255,18.157514951828112,24.82983700631902,17.23500654752781,5.8889121433928775,18.79036095081892,33.79303020792518,15.844548982282141,22.159887966065725,12.757902148700047,24.107316515527756,18.135450985376764,17.816064962352065,18.9022582422251,32.49356774673445,19.88132361203707,28.137957625726052,28.933595320135538,38.763992409789495,17.574536553206613,16.57710308450442,37.383084666990406,17.683190019863673,10.955585060496015,14.717942546979627,23.552475462502354,19.622172611639474,16.85585036883674,26.91140066397739,11.9178852516808,5.59173918537169,19.094300624091353,10.332314312303602,27.638065896291508,4.6664692064308255,26.71213814788834,31.78451976342872,22.031406619343876,16.44763825569981,17.065727179130658,21.04560610505543,32.94311530461718,27.385137568413803,19.029753248450344,19.419101066323492,6.086768046078969,25.757553093739315,24.151024297085943,22.530101735605093,13.31127803321913,22.681048670383994,19.16844555343522,9.500757568337164,24.120174648034176,16.2286700226485,29.924415610056165,31.975603274447383,24.47147836818708,18.545875001368966,29.069127297452876,20.91969858576924,25.58599350877733,24.286918356176777,29.998594119770686,24.13341524101115,32.16172425167038,15.81016673869604,19.77139936720036,18.077776032507185,40.01595978503737,25.245753427954888,18.333252730127874,32.797811506631064,21.942928300978302,18.762697062093768,20.732679593328378],\"y\":[3.5290001741674963,-0.09275717901481428,5.365047233127598,-0.7312478039139947,-5.581739415034418,-10.514173684184296,0.8460289994551715,1.7792165592966143,-10.548136556292484,-5.445013037451547,-7.355023323625787,-1.0797976827737124,-3.3976034014381753,-2.0414508390788804,-1.9314245634650806,-2.9725193155483396,-1.7459301758883647,-6.660448278747808,-0.8830853368511953,-0.6979657913811472,-2.515560368830549,-0.4585127176399162,1.4699905026900133,0.7811480159894408,0.17815337120208596,-4.829208116596339,0.4095696888468865,0.8272876796567132,5.766892328948218,6.450847625374223,1.523094906504367,3.242274038926105,6.996608744405306,-3.727225587806384,-0.7541644356533013,2.164547884889137,-1.0288128333436148,2.613886932745401,1.845732795395655,-3.7859194594923835,-5.98036904662094,2.5685485193066064,1.4596054361680117,-1.2986455874093306,-1.5322258747500719,-8.16928422597914,2.5043448232260683,0.6085597043377566,3.982044112749609,-4.272529096817081,-8.293422139293096,2.6812157927949833,-0.2858285746628191,5.987642325011528,-0.8838933753533311,1.2490846925722074,0.38300170231499564,-0.9276765478354054,-0.3307623454875639,0.42258433737320544,-2.3201811162662054,0.002265426096624168,-8.412195844733226,-2.2021792198641634,1.629765619151165,1.7844444284346253,-4.060812394257624,3.1895934770850314,1.756300855306975,-2.238327060305414,1.6484830148228014,1.6218363583081299,-2.0390894520995957,5.306182708264567,0.3386178688924346,-5.148392873385372,-5.302215424039542,2.599223778925108,1.4946751173079047,-0.2798835313468242,0.3926742189179926,0.23615478079358,-2.925327410066199,0.11070193369862835,-0.837543386843528,4.35159574760344,-14.948749797338941,1.5413263067143461,0.5284522280317194,2.6124874552094397,0.9371111082484695,2.968495939191204,-5.862123866611299,2.432938774487077,6.64083308480123,-3.2636331588739296,2.442455394688025,-7.6842553761565995,4.575026538022826,-4.695899592482835,-7.3120869263755495,1.434056563599448,1.754501262788425,1.0608583563162917,-0.056924328823129144,0.6624316107303017,-0.38226684880142514,-2.480935991017148,-0.1562733636587197,2.5129115797757926,3.6784761910323045,6.00926827967719,2.0043914415104886,3.3293729335089832,1.8832809327250146,-1.957508841630414,4.330824320786736,-4.817567364831902,-9.034624092798982,0.8353589809507582,-0.4705612869229121,0.2847946582859713,2.9004780689516316,-0.875848852936354,-0.012976053881146754,5.117228298994306,4.261341080935999,0.21967211913446505,-1.392380986179596,2.1727701898226712,1.394448776122875,-3.0358297948311943,1.4642931995613644,0.5966024556069804,-0.027906397566134444,-1.1552991302381592,-2.297444649094416,1.120585246807451,14.527501061529946,2.5808946993116137,0.5314096581023335,-1.319155702492548,-5.970646477375926,-1.809907082988552,-10.50693997533067,-0.5578283796234089,0.12190085244544946,0.817501397489421,-18.186037188379633,6.681566884876254,-0.5061836218422506,-4.281816554664964,-2.805944135709545,1.1453454436167032,1.0279524736750787,1.5743634308309105,1.6976385490054682,-4.328100763901048,1.2137584460829807,2.3560700418915808,1.4624264936881701,0.8443263593994281,3.068410891283154,0.16754725519219882,0.24234489093636924,-22.590374666860782,0.5962520138407257,-3.006564971279122,-1.7486859746793293,0.569965206846172,-3.6123514033227107,-0.15373117886617393,-0.5710069215079461,1.7721215037006743,0.8768704690617781,1.467226308750874,-0.3889801865801452,-0.10822591094185796,-3.8612986141579597,-1.5511858306615665,-4.1922823376154135,-1.1657705988188773,-0.3560895935696564,-1.261670263445346,-7.6867206877940575,-8.50180540534977,0.33322805487502194,2.157969323806448,-1.052040577635644,0.2897554940277782,1.6949112546690621,-2.8224180222847615,-0.3513468438901839,3.0790026587090225,-14.17009995580699,-6.86621921466066,6.339512683846196,-2.6396706257420774,0.39186450247132143,-2.4294638777069295,1.0824716541326147,0.6134747702518268,0.7166429661885019,-1.789697600827381,2.574129709957756,-13.576592878817376,3.2236344899965914,-10.988844446722624,-16.234381323435294,0.6679710551845801,2.3850485954247347,-3.4437333105654417,-0.6414731958940685,1.2287637276895556,2.8031689260856503,-2.641220662443917,3.4434453345207316,-0.04222886516418711,-9.15492408377069,-0.4972692899315696,-0.6224011159630152,-0.014393079917510931,-6.539008225869933,-1.5328583344825901,1.266372281132881,-2.0413015287896066,-2.9995676682616867,4.156222850275331,-0.46313833680641103,-0.8107670327159546,2.3542084222569777,-1.1352960549746491,3.002167649017334,-2.209476574662297,1.4745387930351512,-5.379500765392272,-4.189899559859427,-0.8972759096321781,-8.520737861243909,1.8977941583375113,1.6005279688649274,-6.750640982811461,-1.9514872251706716,-3.465061637668125,-0.4197111089453571,2.280065051664973,-0.6473649144535685,-6.734013366419532,5.476038989939845,-0.2509936753515092,1.8036184716619346,-1.3628594258563993,2.5218961329971137,8.825944125116646,-0.547799016703884,0.5053249338589687,0.7069504944067511,-0.9289885326305054,-1.560397432645427,2.2397927810583553,0.58405252715988,1.9830497696691332,-4.553965107640973,5.580670179085976,9.782081157537746,2.013873644606111,-0.006499872732270262,2.060318377252564,0.7496251348947212,6.997559675247919,0.8142477075380121,-0.23374622790158384,-0.2278280582299157,0.40774042203502603,4.584571103237737,4.59348469124647,3.619978230596974,-33.818262010819886,2.344493920051441,-8.471927960703248,-2.3011285427480956,-3.8086457178387363,-2.1106423847205242,-0.3189852027159077,-23.124561216425512,-7.833312792522236,4.360311234724655,0.5032894236366054,-1.3302008289056033,-3.997344927882727,2.4771953063390235,-0.3691815476693989,0.2818873864454794,-3.507256474259867,-2.037754236495182,-8.131656645217124,6.120315029949808,-4.679221709692239,-1.898816790072324,-1.1852806714916824,-6.009481998792062,-1.6133745183493442,1.4278852488017826,-6.0334085830353885,-0.28532979918456647,-0.32874414662720497,-0.3763755798537023,3.260300320892977,-8.541814762620561,-0.386906844530877,-8.063338599590274,0.4800097736439426,1.1475908659063556,-3.0935459160363123,1.1743004910903068,-6.486072925896181,2.157337807761806,-7.300671507048399,3.713395978324481,0.3815817596350577,-9.728301788115651,0.4196462895444206,-3.0967723669382856,-4.270943111970773,1.6644421423766573,0.3793155366531842,0.8884610311357832,-7.34512916031121,3.4315987924182547,2.057514951828111,-0.47016299368097947,-2.26499345247219,-4.311087856607122,-1.1096390491810801,-1.4069697920748254,2.444548982282141,-2.5401120339342746,1.2579021487000475,0.7073165155277579,1.4354509853767645,2.416064962352065,0.9022582422250984,3.993567746734449,1.4813236120370732,-4.362042374273948,-21.066404679864462,-11.236007590210505,-2.0254634467933883,-1.0228969154955827,-4.916915333009591,3.183190019863673,-2.2444149395039847,-1.4820574530203725,-6.047524537497647,2.922172611639475,3.855850368836741,4.611400663977388,-1.4821147483191996,0.59173918537169,-0.4056993759086467,-4.267685687696398,5.638065896291508,-3.433530793569174,2.112138147888338,-1.415480236571284,1.4314066193438748,2.3476382556998114,2.965727179130658,-0.05439389494457103,2.6431153046171794,3.685137568413804,-2.3702467515496544,1.1191010663234913,-2.4132319539210307,2.957553093739314,1.3510242970859423,0.33010173560509415,-0.5887219667808701,-2.318951329616006,0.6684455534352196,2.500757568337164,1.5201746480341747,-3.8713299773515004,-0.8755843899438354,0.8756032744473821,0.6714783681870777,6.045875001368966,5.469127297452875,-2.2803014142307596,1.3859935087773323,2.0869183561767777,2.098594119770688,1.9334152410111507,-0.9382757483296231,-3.4898332613039607,0.871399367200361,-4.522223967492817,-9.984040214962633,0.44575342795488737,-0.16674726987212551,-3.602188493368935,2.7429283009783028,2.162697062093766,-2.367320406671624]}},\"id\":\"bfcb7378-56a4-4afa-956b-6d62ce364b8c\",\"type\":\"ColumnDataSource\"},{\"attributes\":{\"fill_alpha\":{\"value\":0.1},\"fill_color\":{\"value\":\"#1f77b4\"},\"line_alpha\":{\"value\":0.1},\"line_color\":{\"value\":\"#1f77b4\"},\"line_width\":{\"value\":3},\"x\":{\"field\":\"x\"},\"y\":{\"field\":\"y\"}},\"id\":\"b99351e5-78b6-4d4f-b7d3-46511f39784c\",\"type\":\"Circle\"},{\"attributes\":{\"bottom_units\":\"screen\",\"fill_alpha\":{\"value\":0.5},\"fill_color\":{\"value\":\"lightgrey\"},\"left_units\":\"screen\",\"level\":\"overlay\",\"line_alpha\":{\"value\":1.0},\"line_color\":{\"value\":\"black\"},\"line_dash\":[4,4],\"line_width\":{\"value\":2},\"plot\":null,\"render_mode\":\"css\",\"right_units\":\"screen\",\"top_units\":\"screen\"},\"id\":\"30743acb-620f-4bf8-a73c-8f5393d36216\",\"type\":\"BoxAnnotation\"},{\"attributes\":{\"dimension\":1,\"plot\":{\"id\":\"cfefef21-1720-4463-afe0-fcb4f034fbed\",\"subtype\":\"Figure\",\"type\":\"Plot\"},\"ticker\":{\"id\":\"0df3b3ef-fdbc-4c88-8684-a234f52b55eb\",\"type\":\"BasicTicker\"}},\"id\":\"b22554b5-fda5-4b0b-9e25-abfc89a0d9b9\",\"type\":\"Grid\"},{\"attributes\":{\"axis_label\":\"Predicted\",\"axis_label_text_color\":{\"value\":\"#aa6666\"},\"formatter\":{\"id\":\"5f25fef1-e4da-447f-b59d-b30b4026fdb8\",\"type\":\"BasicTickFormatter\"},\"major_tick_line_color\":{\"value\":\"firebrick\"},\"major_tick_line_width\":{\"value\":3},\"minor_tick_line_color\":{\"value\":\"orange\"},\"plot\":{\"id\":\"cfefef21-1720-4463-afe0-fcb4f034fbed\",\"subtype\":\"Figure\",\"type\":\"Plot\"},\"ticker\":{\"id\":\"011b0a37-2087-4ae6-83af-9f9c8052dd3a\",\"type\":\"BasicTicker\"}},\"id\":\"7808052a-d35d-4495-9e76-890455cd2016\",\"type\":\"LinearAxis\"},{\"attributes\":{\"data_source\":{\"id\":\"bfcb7378-56a4-4afa-956b-6d62ce364b8c\",\"type\":\"ColumnDataSource\"},\"glyph\":{\"id\":\"c65b66a7-9190-45c0-b7ee-7656914c859e\",\"type\":\"Circle\"},\"hover_glyph\":null,\"nonselection_glyph\":{\"id\":\"b99351e5-78b6-4d4f-b7d3-46511f39784c\",\"type\":\"Circle\"},\"selection_glyph\":null},\"id\":\"00a9b25f-5ea1-46f4-bae2-fee22e0a1376\",\"type\":\"GlyphRenderer\"},{\"attributes\":{\"callback\":null,\"overlay\":{\"id\":\"6138c4ba-a7c2-47ac-bf89-128b676e5eb7\",\"type\":\"PolyAnnotation\"},\"plot\":{\"id\":\"cfefef21-1720-4463-afe0-fcb4f034fbed\",\"subtype\":\"Figure\",\"type\":\"Plot\"}},\"id\":\"56d457aa-ab28-4ab3-873d-ebde2eece778\",\"type\":\"LassoSelectTool\"},{\"attributes\":{\"fill_alpha\":{\"value\":0.5},\"fill_color\":{\"value\":\"lightgrey\"},\"level\":\"overlay\",\"line_alpha\":{\"value\":1.0},\"line_color\":{\"value\":\"black\"},\"line_dash\":[4,4],\"line_width\":{\"value\":2},\"plot\":null,\"xs_units\":\"screen\",\"ys_units\":\"screen\"},\"id\":\"36c56efb-059c-45f1-a3ef-6ce8d4d36755\",\"type\":\"PolyAnnotation\"},{\"attributes\":{},\"id\":\"790a8e83-e0e7-4b46-8e40-d7b2d51ae81d\",\"type\":\"BasicTickFormatter\"},{\"attributes\":{\"plot\":{\"id\":\"cfefef21-1720-4463-afe0-fcb4f034fbed\",\"subtype\":\"Figure\",\"type\":\"Plot\"}},\"id\":\"e6a6a621-b090-43f5-acf7-aae783526262\",\"type\":\"UndoTool\"},{\"attributes\":{\"plot\":{\"id\":\"cfefef21-1720-4463-afe0-fcb4f034fbed\",\"subtype\":\"Figure\",\"type\":\"Plot\"}},\"id\":\"861583d8-e8d7-4949-88e4-cfd040b1f650\",\"type\":\"ResizeTool\"},{\"attributes\":{\"callback\":null},\"id\":\"87f151f3-8591-4347-afb8-c40d80064164\",\"type\":\"DataRange1d\"},{\"attributes\":{\"bottom_units\":\"screen\",\"fill_alpha\":{\"value\":0.5},\"fill_color\":{\"value\":\"lightgrey\"},\"left_units\":\"screen\",\"level\":\"overlay\",\"line_alpha\":{\"value\":1.0},\"line_color\":{\"value\":\"black\"},\"line_dash\":[4,4],\"line_width\":{\"value\":2},\"plot\":null,\"render_mode\":\"css\",\"right_units\":\"screen\",\"top_units\":\"screen\"},\"id\":\"2079d6cc-fc7f-452b-b394-a2a1644b75d4\",\"type\":\"BoxAnnotation\"},{\"attributes\":{},\"id\":\"5f25fef1-e4da-447f-b59d-b30b4026fdb8\",\"type\":\"BasicTickFormatter\"},{\"attributes\":{\"align\":\"center\",\"plot\":null,\"text\":\"Residual plot on the training data\"},\"id\":\"aa29018d-c410-4550-b89c-894d13ec31a4\",\"type\":\"Title\"},{\"attributes\":{\"plot\":{\"id\":\"cfefef21-1720-4463-afe0-fcb4f034fbed\",\"subtype\":\"Figure\",\"type\":\"Plot\"}},\"id\":\"7be86db0-4ffc-4d84-9387-098568608baf\",\"type\":\"PanTool\"},{\"attributes\":{},\"id\":\"30120e27-43e9-47f8-81f6-e0202049d8c8\",\"type\":\"ToolEvents\"},{\"attributes\":{\"axis_label\":\"Residuals\",\"axis_label_text_color\":{\"value\":\"#aa6666\"},\"formatter\":{\"id\":\"790a8e83-e0e7-4b46-8e40-d7b2d51ae81d\",\"type\":\"BasicTickFormatter\"},\"plot\":{\"id\":\"cfefef21-1720-4463-afe0-fcb4f034fbed\",\"subtype\":\"Figure\",\"type\":\"Plot\"},\"ticker\":{\"id\":\"0df3b3ef-fdbc-4c88-8684-a234f52b55eb\",\"type\":\"BasicTicker\"}},\"id\":\"b9da6cc6-f6c0-4af4-a400-3125173fecd4\",\"type\":\"LinearAxis\"},{\"attributes\":{\"active_drag\":\"auto\",\"active_scroll\":\"auto\",\"active_tap\":\"auto\",\"tools\":[{\"id\":\"b1bcadae-83c0-4161-982b-a73226f77e96\",\"type\":\"BoxZoomTool\"},{\"id\":\"8085252d-f334-4191-ae0a-e62f12ad473a\",\"type\":\"BoxSelectTool\"},{\"id\":\"14aad9f1-d5a3-46d2-a311-e4ff5dbf0cf8\",\"type\":\"CrosshairTool\"},{\"id\":\"861583d8-e8d7-4949-88e4-cfd040b1f650\",\"type\":\"ResizeTool\"},{\"id\":\"1de190b6-36e6-40ac-9764-00c0b425dcf3\",\"type\":\"ResetTool\"},{\"id\":\"56d457aa-ab28-4ab3-873d-ebde2eece778\",\"type\":\"LassoSelectTool\"},{\"id\":\"7be86db0-4ffc-4d84-9387-098568608baf\",\"type\":\"PanTool\"},{\"id\":\"500343df-8470-416a-a871-1751b0151737\",\"type\":\"SaveTool\"},{\"id\":\"92700c75-af7d-4cd5-a9a5-d35653c8bfff\",\"type\":\"PolySelectTool\"},{\"id\":\"d3a0eedc-1e4e-417f-9f4a-d55237b9e74d\",\"type\":\"TapTool\"},{\"id\":\"1c0f8d54-bc30-40ee-969a-cfe94a54a097\",\"type\":\"WheelZoomTool\"},{\"id\":\"e6a6a621-b090-43f5-acf7-aae783526262\",\"type\":\"UndoTool\"}]},\"id\":\"3f258ea5-88b5-428e-b3ef-48fc82ca7db9\",\"type\":\"Toolbar\"},{\"attributes\":{\"callback\":null,\"plot\":{\"id\":\"cfefef21-1720-4463-afe0-fcb4f034fbed\",\"subtype\":\"Figure\",\"type\":\"Plot\"}},\"id\":\"d3a0eedc-1e4e-417f-9f4a-d55237b9e74d\",\"type\":\"TapTool\"},{\"attributes\":{\"fill_color\":{\"value\":\"#80B1D3\"},\"line_color\":{\"value\":\"#80B1D3\"},\"line_width\":{\"value\":3},\"x\":{\"field\":\"x\"},\"y\":{\"field\":\"y\"}},\"id\":\"c65b66a7-9190-45c0-b7ee-7656914c859e\",\"type\":\"Circle\"},{\"attributes\":{\"plot\":{\"id\":\"cfefef21-1720-4463-afe0-fcb4f034fbed\",\"subtype\":\"Figure\",\"type\":\"Plot\"}},\"id\":\"500343df-8470-416a-a871-1751b0151737\",\"type\":\"SaveTool\"},{\"attributes\":{\"background_fill_alpha\":{\"value\":0.5},\"background_fill_color\":{\"value\":\"beige\"},\"below\":[{\"id\":\"7808052a-d35d-4495-9e76-890455cd2016\",\"type\":\"LinearAxis\"}],\"left\":[{\"id\":\"b9da6cc6-f6c0-4af4-a400-3125173fecd4\",\"type\":\"LinearAxis\"}],\"plot_height\":500,\"plot_width\":500,\"renderers\":[{\"id\":\"7808052a-d35d-4495-9e76-890455cd2016\",\"type\":\"LinearAxis\"},{\"id\":\"0bd555f3-6cb9-499a-a381-af0594488f25\",\"type\":\"Grid\"},{\"id\":\"b9da6cc6-f6c0-4af4-a400-3125173fecd4\",\"type\":\"LinearAxis\"},{\"id\":\"b22554b5-fda5-4b0b-9e25-abfc89a0d9b9\",\"type\":\"Grid\"},{\"id\":\"30743acb-620f-4bf8-a73c-8f5393d36216\",\"type\":\"BoxAnnotation\"},{\"id\":\"2079d6cc-fc7f-452b-b394-a2a1644b75d4\",\"type\":\"BoxAnnotation\"},{\"id\":\"6138c4ba-a7c2-47ac-bf89-128b676e5eb7\",\"type\":\"PolyAnnotation\"},{\"id\":\"36c56efb-059c-45f1-a3ef-6ce8d4d36755\",\"type\":\"PolyAnnotation\"},{\"id\":\"00a9b25f-5ea1-46f4-bae2-fee22e0a1376\",\"type\":\"GlyphRenderer\"}],\"title\":{\"id\":\"aa29018d-c410-4550-b89c-894d13ec31a4\",\"type\":\"Title\"},\"tool_events\":{\"id\":\"30120e27-43e9-47f8-81f6-e0202049d8c8\",\"type\":\"ToolEvents\"},\"toolbar\":{\"id\":\"3f258ea5-88b5-428e-b3ef-48fc82ca7db9\",\"type\":\"Toolbar\"},\"x_range\":{\"id\":\"229dda47-9c66-4522-a32f-099c6253a663\",\"type\":\"DataRange1d\"},\"y_range\":{\"id\":\"87f151f3-8591-4347-afb8-c40d80064164\",\"type\":\"DataRange1d\"}},\"id\":\"cfefef21-1720-4463-afe0-fcb4f034fbed\",\"subtype\":\"Figure\",\"type\":\"Plot\"},{\"attributes\":{\"plot\":{\"id\":\"cfefef21-1720-4463-afe0-fcb4f034fbed\",\"subtype\":\"Figure\",\"type\":\"Plot\"}},\"id\":\"1c0f8d54-bc30-40ee-969a-cfe94a54a097\",\"type\":\"WheelZoomTool\"},{\"attributes\":{\"fill_alpha\":{\"value\":0.5},\"fill_color\":{\"value\":\"lightgrey\"},\"level\":\"overlay\",\"line_alpha\":{\"value\":1.0},\"line_color\":{\"value\":\"black\"},\"line_dash\":[4,4],\"line_width\":{\"value\":2},\"plot\":null,\"xs_units\":\"screen\",\"ys_units\":\"screen\"},\"id\":\"6138c4ba-a7c2-47ac-bf89-128b676e5eb7\",\"type\":\"PolyAnnotation\"},{\"attributes\":{\"callback\":null,\"overlay\":{\"id\":\"2079d6cc-fc7f-452b-b394-a2a1644b75d4\",\"type\":\"BoxAnnotation\"},\"plot\":{\"id\":\"cfefef21-1720-4463-afe0-fcb4f034fbed\",\"subtype\":\"Figure\",\"type\":\"Plot\"},\"renderers\":[{\"id\":\"00a9b25f-5ea1-46f4-bae2-fee22e0a1376\",\"type\":\"GlyphRenderer\"}]},\"id\":\"8085252d-f334-4191-ae0a-e62f12ad473a\",\"type\":\"BoxSelectTool\"},{\"attributes\":{\"plot\":{\"id\":\"cfefef21-1720-4463-afe0-fcb4f034fbed\",\"subtype\":\"Figure\",\"type\":\"Plot\"}},\"id\":\"14aad9f1-d5a3-46d2-a311-e4ff5dbf0cf8\",\"type\":\"CrosshairTool\"}],\"root_ids\":[\"cfefef21-1720-4463-afe0-fcb4f034fbed\"]},\"title\":\"Bokeh Application\",\"version\":\"0.12.0\"}};\n",
       "            var render_items = [{\"docid\":\"68b93fa7-eceb-4fde-b125-3c9a8bfb6005\",\"elementid\":\"df4bde6a-5a7e-4995-9ceb-c8158cf53c41\",\"modelid\":\"cfefef21-1720-4463-afe0-fcb4f034fbed\",\"notebook_comms_target\":\"715f4bf6-38ce-41aa-855a-a351114b0889\"}];\n",
       "            \n",
       "            Bokeh.embed.embed_items(docs_json, render_items);\n",
       "        });\n",
       "      },\n",
       "      function(Bokeh) {\n",
       "      }\n",
       "    ];\n",
       "  \n",
       "    function run_inline_js() {\n",
       "      for (var i = 0; i < inline_js.length; i++) {\n",
       "        inline_js[i](window.Bokeh);\n",
       "      }\n",
       "    }\n",
       "  \n",
       "    if (window._bokeh_is_loading === 0) {\n",
       "      console.log(\"Bokeh: BokehJS loaded, going straight to plotting\");\n",
       "      run_inline_js();\n",
       "    } else {\n",
       "      load_libs(js_urls, function() {\n",
       "        console.log(\"Bokeh: BokehJS plotting callback run at\", now());\n",
       "        run_inline_js();\n",
       "      });\n",
       "    }\n",
       "  }(this));\n",
       "</script>"
      ]
     },
     "metadata": {},
     "output_type": "display_data"
    },
    {
     "data": {
      "text/html": [
       "<p><code>&lt;Bokeh Notebook handle for <strong>In[27]</strong>&gt;</code></p>"
      ],
      "text/plain": [
       "<bokeh.io._CommsHandle at 0x116a0e950>"
      ]
     },
     "execution_count": 27,
     "metadata": {},
     "output_type": "execute_result"
    }
   ],
   "source": [
    "# Plotining using bokeh\n",
    "#TOOLS = 'hover,box_zoom,box_select,crosshair,resize,reset,SVR_select,pan,save,poly_select,tap,wheel_zoom,undo'\n",
    "TOOLS = 'box_zoom,box_select,crosshair,resize,reset,lasso_select,pan,save,poly_select,tap,wheel_zoom,undo'\n",
    "p = figure(plot_width=500, plot_height=500, title=\"Residual plot on the training data\", tools=TOOLS)\n",
    "p.scatter(predicted, (predicted - Y),x=\"jjj\", marker=\"o\", color=\"#80B1D3\", line_width=3)\n",
    "p.title.align = \"center\"\n",
    "p.xaxis.axis_label = \"Predicted\"\n",
    "p.xaxis.axis_label_text_color = \"#aa6666\"\n",
    "#p.xaxis.axis_label_standoff = 30\n",
    "p.xaxis.major_tick_line_color = \"firebrick\"\n",
    "p.xaxis.major_tick_line_width = 3\n",
    "p.xaxis.minor_tick_line_color = \"orange\"\n",
    "p.yaxis.axis_label = \"Residuals\"\n",
    "p.yaxis.axis_label_text_font_style = \"italic\"\n",
    "p.yaxis.axis_label_text_color = \"#aa6666\"\n",
    "p.background_fill_color = \"beige\"\n",
    "p.background_fill_alpha = 0.5\n",
    "#p.line([2,38], [0, 0], line_dash=\"4 4\", line_width=2, color='red')\n",
    "show(p)"
   ]
  },
  {
   "cell_type": "markdown",
   "metadata": {},
   "source": [
    "## Pipeline"
   ]
  },
  {
   "cell_type": "markdown",
   "metadata": {},
   "source": [
    "The best to deliver the model by pipeline the operation then at deployment can be done in one model."
   ]
  },
  {
   "cell_type": "markdown",
   "metadata": {
    "collapsed": true
   },
   "source": [
    "  I used two ways to check the pipeline so any one can be fine"
   ]
  },
  {
   "cell_type": "code",
   "execution_count": 28,
   "metadata": {
    "collapsed": false
   },
   "outputs": [
    {
     "name": "stdout",
     "output_type": "stream",
     "text": [
      "0.750459157749\n",
      "Scoring according to mean_squared_error\n",
      "[-17.34638535 -11.19617926 -18.33721962 -21.73153755 -26.12327702\n",
      " -25.12586913 -42.27751661 -31.54242648 -23.20532519  -8.62710064]\n",
      "\n",
      " Mean      Standard deviation\n",
      "-22.55      9.26\n",
      "[ True  True  True  True  True  True  True  True  True  True  True  True\n",
      "  True]\n",
      "R-squared =  0.750459157749\n"
     ]
    }
   ],
   "source": [
    "# Use Pipeline\n",
    "# ANOVA \n",
    "from sklearn.pipeline import Pipeline\n",
    "from sklearn.feature_selection import SelectKBest, f_regression\n",
    "anova_filter = SelectKBest(f_regression, k=13)\n",
    "LR = SVR(kernel = \"linear\", C = 5.0 )\n",
    "anova_LinReg = Pipeline([('scaler_Input',scaler), ('anova', anova_filter), ('LinReg', LR)])\n",
    "# You can set the parameters using the names issued\n",
    "# For instance, fit using a k of 10 in the SelectKBest\n",
    "anova_LinReg.set_params(anova__k=13).fit(new_data, Y)\n",
    "prediction = anova_LinReg.predict(new_data)\n",
    "print anova_LinReg.score(new_data, Y)                        \n",
    "# getting the selected features chosen by anova_filter\n",
    "results = cross_validation.cross_val_score(anova_LinReg, new_data, Y, cv=kfold, scoring=scoring)\n",
    "print 'Scoring according to mean_squared_error'\n",
    "print results\n",
    "print '\\n Mean      Standard deviation'\n",
    "print(\"%.2f      %.2f\" % (results.mean(), results.std()))\n",
    "print anova_LinReg.named_steps['anova'].get_support()\n",
    "r_squared = r2_score(Y, prediction, multioutput='variance_weighted')\n",
    "print 'R-squared = ',r_squared"
   ]
  },
  {
   "cell_type": "code",
   "execution_count": 29,
   "metadata": {
    "collapsed": false
   },
   "outputs": [
    {
     "name": "stdout",
     "output_type": "stream",
     "text": [
      "R-squared =  0.750459157749\n"
     ]
    }
   ],
   "source": [
    "# Using make_pipeline\n",
    "from sklearn.pipeline import make_pipeline\n",
    "\n",
    "# ANOVA SVM-C\n",
    "# 1) anova filter, take 3 best ranked features\n",
    "anova_filter = SelectKBest(f_regression, k=13)\n",
    "anova_SVR = make_pipeline(scaler, anova_filter, LR)\n",
    "anova_SVR.fit(new_data, Y)\n",
    "prediction = anova_SVR.predict(new_data)\n",
    "r_squared = r2_score(Y, prediction, multioutput='variance_weighted')\n",
    "print 'R-squared = ',r_squared"
   ]
  },
  {
   "cell_type": "markdown",
   "metadata": {},
   "source": [
    "### Save the Pipeline model for developement"
   ]
  },
  {
   "cell_type": "code",
   "execution_count": 30,
   "metadata": {
    "collapsed": false
   },
   "outputs": [
    {
     "data": {
      "text/plain": [
       "['anova_SVR.pkl',\n",
       " 'anova_SVR.pkl_01.npy',\n",
       " 'anova_SVR.pkl_02.npy',\n",
       " 'anova_SVR.pkl_03.npy',\n",
       " 'anova_SVR.pkl_04.npy',\n",
       " 'anova_SVR.pkl_05.npy',\n",
       " 'anova_SVR.pkl_06.npy',\n",
       " 'anova_SVR.pkl_07.npy',\n",
       " 'anova_SVR.pkl_08.npy',\n",
       " 'anova_SVR.pkl_09.npy',\n",
       " 'anova_SVR.pkl_10.npy',\n",
       " 'anova_SVR.pkl_11.npy',\n",
       " 'anova_SVR.pkl_12.npy',\n",
       " 'anova_SVR.pkl_13.npy',\n",
       " 'anova_SVR.pkl_14.npy',\n",
       " 'anova_SVR.pkl_15.npy']"
      ]
     },
     "execution_count": 30,
     "metadata": {},
     "output_type": "execute_result"
    }
   ],
   "source": [
    "# save the model scaler to the desk\n",
    "from sklearn.externals import joblib\n",
    "joblib.dump(anova_SVR, 'anova_SVR.pkl') "
   ]
  },
  {
   "cell_type": "code",
   "execution_count": 31,
   "metadata": {
    "collapsed": false
   },
   "outputs": [
    {
     "name": "stdout",
     "output_type": "stream",
     "text": [
      " =================================================================>>>>> done\n",
      "R-squared =  0.750459157749\n"
     ]
    }
   ],
   "source": [
    "# Test the model if it is work\n",
    "anova_SVRTest = joblib.load('anova_SVR.pkl')\n",
    "NewPred = anova_SVRTest.predict(new_data)\n",
    "print \" =================================================================>>>>> done\"\n",
    "r_squared = r2_score(Y, NewPred, multioutput='variance_weighted')\n",
    "print 'R-squared = ',r_squared"
   ]
  },
  {
   "cell_type": "code",
   "execution_count": 32,
   "metadata": {
    "collapsed": false
   },
   "outputs": [
    {
     "name": "stdout",
     "output_type": "stream",
     "text": [
      "Point of training data before normalization\n",
      "[   1.23247    0.         8.14       0.         0.538      6.142     91.7\n",
      "    3.9769     4.       307.        21.       396.9       18.72   ]\n",
      "\n",
      "The read target of the data =  15.2\n",
      "\n",
      "The Predicted target of the data =  [ 16.60623004]\n"
     ]
    }
   ],
   "source": [
    "# test on single data point, randomly choose point number 55\n",
    "print 'Point of training data before normalization\\n',new_data[55]\n",
    "print '\\nThe read target of the data = ', Y[55]\n",
    "NewPred = anova_SVRTest.predict([new_data[55]])\n",
    "print '\\nThe Predicted target of the data = ', NewPred"
   ]
  },
  {
   "cell_type": "markdown",
   "metadata": {},
   "source": [
    "## Conclusion "
   ]
  }
 ],
 "metadata": {
  "kernelspec": {
   "display_name": "Python 2",
   "language": "python",
   "name": "python2"
  },
  "language_info": {
   "codemirror_mode": {
    "name": "ipython",
    "version": 2
   },
   "file_extension": ".py",
   "mimetype": "text/x-python",
   "name": "python",
   "nbconvert_exporter": "python",
   "pygments_lexer": "ipython2",
   "version": "2.7.11"
  }
 },
 "nbformat": 4,
 "nbformat_minor": 0
}
