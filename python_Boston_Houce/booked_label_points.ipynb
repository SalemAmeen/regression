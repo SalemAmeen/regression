{
 "cells": [
  {
   "cell_type": "code",
   "execution_count": 1,
   "metadata": {
    "collapsed": true
   },
   "outputs": [],
   "source": [
    "from collections import OrderedDict\n",
    "import numpy as np\n",
    "\n",
    "from bokeh.plotting import *\n",
    "from bokeh.models import HoverTool\n",
    "\n",
    "x = np.linspace(0, 4*np.pi, 200)\n",
    "y = np.sin(x)\n",
    "\n",
    "output_file(\"line_dots.html\", title=\"line.py example\")\n",
    "\n",
    "source = ColumnDataSource(\n",
    "    data=dict(\n",
    "        x=x,\n",
    "        y=y,\n",
    "        label=[\"%s X %s\" % (x_, y_) for x_, y_ in zip(x, y)]\n",
    "    )\n",
    ")\n",
    "TOOLS=\"crosshair,pan,wheel_zoom,box_zoom,reset,hover,previewsave\"\n",
    "p = figure(title=\"simple line example\", tools=TOOLS)\n",
    "p.line('x', 'y', color=\"#2222aa\", line_width=2, source=source)\n",
    "p.circle('x', 'y', color=\"#2222aa\", line_width=2, source=source)\n",
    "\n",
    "hover =p.select(dict(type=HoverTool))\n",
    "hover.tooltips = OrderedDict([\n",
    "    (\"index\", \"$index\"),\n",
    "    (\"(xx,yy)\", \"(@x, @y)\"),\n",
    "    (\"label\", \"@label\"),\n",
    "])\n",
    "\n",
    "show(p)"
   ]
  },
  {
   "cell_type": "code",
   "execution_count": null,
   "metadata": {
    "collapsed": true
   },
   "outputs": [],
   "source": []
  }
 ],
 "metadata": {
  "kernelspec": {
   "display_name": "Python 2",
   "language": "python",
   "name": "python2"
  },
  "language_info": {
   "codemirror_mode": {
    "name": "ipython",
    "version": 2
   },
   "file_extension": ".py",
   "mimetype": "text/x-python",
   "name": "python",
   "nbconvert_exporter": "python",
   "pygments_lexer": "ipython2",
   "version": "2.7.11"
  }
 },
 "nbformat": 4,
 "nbformat_minor": 0
}
