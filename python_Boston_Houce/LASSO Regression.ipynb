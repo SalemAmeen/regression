{
 "cells": [
  {
   "cell_type": "markdown",
   "metadata": {},
   "source": [
    "Salem Ameen, PhD student at Salford University\n",
    "\n",
    "### Boston House price\n",
    "\n",
    "LASSO Regression"
   ]
  },
  {
   "cell_type": "markdown",
   "metadata": {},
   "source": [
    "# Import the Libraries"
   ]
  },
  {
   "cell_type": "code",
   "execution_count": 1,
   "metadata": {
    "collapsed": false
   },
   "outputs": [
    {
     "data": {
      "text/html": [
       "\n",
       "    <div class=\"bk-root\">\n",
       "        <a href=\"http://bokeh.pydata.org\" target=\"_blank\" class=\"bk-logo bk-logo-small bk-logo-notebook\"></a>\n",
       "        <span id=\"323547bd-c254-4fb5-ba76-efe00f565c9d\">Loading BokehJS ...</span>\n",
       "    </div>"
      ]
     },
     "metadata": {},
     "output_type": "display_data"
    },
    {
     "data": {
      "application/javascript": [
       "\n",
       "(function(global) {\n",
       "  function now() {\n",
       "    return new Date();\n",
       "  }\n",
       "\n",
       "  if (typeof (window._bokeh_onload_callbacks) === \"undefined\") {\n",
       "    window._bokeh_onload_callbacks = [];\n",
       "  }\n",
       "\n",
       "  function run_callbacks() {\n",
       "    window._bokeh_onload_callbacks.forEach(function(callback) { callback() });\n",
       "    delete window._bokeh_onload_callbacks\n",
       "    console.info(\"Bokeh: all callbacks have finished\");\n",
       "  }\n",
       "\n",
       "  function load_libs(js_urls, callback) {\n",
       "    window._bokeh_onload_callbacks.push(callback);\n",
       "    if (window._bokeh_is_loading > 0) {\n",
       "      console.log(\"Bokeh: BokehJS is being loaded, scheduling callback at\", now());\n",
       "      return null;\n",
       "    }\n",
       "    if (js_urls == null || js_urls.length === 0) {\n",
       "      run_callbacks();\n",
       "      return null;\n",
       "    }\n",
       "    console.log(\"Bokeh: BokehJS not loaded, scheduling load and callback at\", now());\n",
       "    window._bokeh_is_loading = js_urls.length;\n",
       "    for (var i = 0; i < js_urls.length; i++) {\n",
       "      var url = js_urls[i];\n",
       "      var s = document.createElement('script');\n",
       "      s.src = url;\n",
       "      s.async = false;\n",
       "      s.onreadystatechange = s.onload = function() {\n",
       "        window._bokeh_is_loading--;\n",
       "        if (window._bokeh_is_loading === 0) {\n",
       "          console.log(\"Bokeh: all BokehJS libraries loaded\");\n",
       "          run_callbacks()\n",
       "        }\n",
       "      };\n",
       "      s.onerror = function() {\n",
       "        console.warn(\"failed to load library \" + url);\n",
       "      };\n",
       "      console.log(\"Bokeh: injecting script tag for BokehJS library: \", url);\n",
       "      document.getElementsByTagName(\"head\")[0].appendChild(s);\n",
       "    }\n",
       "  };\n",
       "\n",
       "  var js_urls = ['https://cdn.pydata.org/bokeh/release/bokeh-0.12.0.min.js', 'https://cdn.pydata.org/bokeh/release/bokeh-widgets-0.12.0.min.js', 'https://cdn.pydata.org/bokeh/release/bokeh-compiler-0.12.0.min.js'];\n",
       "\n",
       "  var inline_js = [\n",
       "    function(Bokeh) {\n",
       "      Bokeh.set_log_level(\"info\");\n",
       "    },\n",
       "    \n",
       "    function(Bokeh) {\n",
       "      Bokeh.$(\"#323547bd-c254-4fb5-ba76-efe00f565c9d\").text(\"BokehJS successfully loaded\");\n",
       "    },\n",
       "    function(Bokeh) {\n",
       "      console.log(\"Bokeh: injecting CSS: https://cdn.pydata.org/bokeh/release/bokeh-0.12.0.min.css\");\n",
       "      Bokeh.embed.inject_css(\"https://cdn.pydata.org/bokeh/release/bokeh-0.12.0.min.css\");\n",
       "      console.log(\"Bokeh: injecting CSS: https://cdn.pydata.org/bokeh/release/bokeh-widgets-0.12.0.min.css\");\n",
       "      Bokeh.embed.inject_css(\"https://cdn.pydata.org/bokeh/release/bokeh-widgets-0.12.0.min.css\");\n",
       "    }\n",
       "  ];\n",
       "\n",
       "  function run_inline_js() {\n",
       "    for (var i = 0; i < inline_js.length; i++) {\n",
       "      inline_js[i](window.Bokeh);\n",
       "    }\n",
       "  }\n",
       "\n",
       "  if (window._bokeh_is_loading === 0) {\n",
       "    console.log(\"Bokeh: BokehJS loaded, going straight to plotting\");\n",
       "    run_inline_js();\n",
       "  } else {\n",
       "    load_libs(js_urls, function() {\n",
       "      console.log(\"Bokeh: BokehJS plotting callback run at\", now());\n",
       "      run_inline_js();\n",
       "    });\n",
       "  }\n",
       "}(this));"
      ]
     },
     "metadata": {},
     "output_type": "display_data"
    }
   ],
   "source": [
    "import numpy as np\n",
    "import pandas\n",
    "from numpy import *\n",
    "import time\n",
    "import sys\n",
    "import pandas as pd\n",
    "import matplotlib.pyplot as plt\n",
    "from sklearn import feature_selection\n",
    "from sklearn.linear_model import Lasso\n",
    "from sklearn.learning_curve import learning_curve, validation_curve\n",
    "from sklearn.cross_validation import cross_val_predict\n",
    "from sklearn import metrics, grid_search, cross_validation\n",
    "from IPython.display import set_matplotlib_formats\n",
    "from bokeh.plotting import figure, show, output_notebook\n",
    "from sklearn.grid_search import GridSearchCV, RandomizedSearchCV\n",
    "from sklearn.metrics import r2_score\n",
    "from bokeh.layouts import gridplot\n",
    "output_notebook()\n",
    "set_matplotlib_formats('png', 'pdf')\n",
    "%matplotlib inline\n",
    "plt.rcParams['figure.figsize'] = (6, 6)"
   ]
  },
  {
   "cell_type": "markdown",
   "metadata": {},
   "source": [
    "# Load data"
   ]
  },
  {
   "cell_type": "markdown",
   "metadata": {},
   "source": [
    "In the previous file we have not change the data as there is no missing value or add any new parameters so it can be downloaded from the web directly. "
   ]
  },
  {
   "cell_type": "code",
   "execution_count": 2,
   "metadata": {
    "collapsed": false
   },
   "outputs": [],
   "source": [
    "url = 'https://archive.ics.uci.edu/ml/machine-learning-databases/housing/housing.data'\n",
    "feature_cols = ['CRIM', 'ZN', 'INDUS', 'CHAS', 'NOX', 'RM', 'AGE', 'DIS', 'RAD', 'TAX', 'PTRATIO', 'B', 'LSTAT', 'MEDV']\n",
    "data = pd.read_csv(url, sep='\\s+', names = feature_cols)"
   ]
  },
  {
   "cell_type": "code",
   "execution_count": 3,
   "metadata": {
    "collapsed": false
   },
   "outputs": [
    {
     "name": "stdout",
     "output_type": "stream",
     "text": [
      "Number of examples 506\n"
     ]
    }
   ],
   "source": [
    "from sklearn import preprocessing\n",
    "dataset = data.values\n",
    "X = dataset[:,0:13].astype(float)\n",
    "Y = dataset[:,13]\n",
    "print 'Number of examples',len(X)"
   ]
  },
  {
   "cell_type": "code",
   "execution_count": 4,
   "metadata": {
    "collapsed": false
   },
   "outputs": [
    {
     "name": "stdout",
     "output_type": "stream",
     "text": [
      "Number of training examples 404\n",
      "Number of validation examples 102\n"
     ]
    }
   ],
   "source": [
    "# Make developement dataset for genrilization and final testing\n",
    "from sklearn.cross_validation import train_test_split\n",
    "# Extracting 20% testing data\n",
    "X_train, X_test, y_train, y_test = train_test_split(\n",
    "    X, Y, test_size=0.20, random_state=0)\n",
    "X = X_train\n",
    "Y = y_train\n",
    "new_data      = X_train\n",
    "new_test_data = X_test\n",
    "print 'Number of training examples',len(X_train)\n",
    "print 'Number of validation examples',len(X_test)"
   ]
  },
  {
   "cell_type": "markdown",
   "metadata": {},
   "source": [
    "Number of training data is very small so we need to use cross validation instead of spareate another validation data."
   ]
  },
  {
   "cell_type": "markdown",
   "metadata": {},
   "source": [
    "From the previous visulization the data has no missing value but has many outlier and some sparisty"
   ]
  },
  {
   "cell_type": "markdown",
   "metadata": {},
   "source": [
    "# Ranking of the feature's importance to the target"
   ]
  },
  {
   "cell_type": "code",
   "execution_count": 5,
   "metadata": {
    "collapsed": false
   },
   "outputs": [
    {
     "name": "stdout",
     "output_type": "stream",
     "text": [
      "CRIM \t0.150620047343\n",
      "ZN \t0.129899024247\n",
      "INDUS \t0.233737843177\n",
      "CHAS \t0.0\n",
      "NOX \t0.0\n",
      "RM \t0.459483013271\n",
      "AGE \t0.142079764678\n",
      "DIS \t0.0597875537593\n",
      "RAD \t0.145482029899\n",
      "TAX \t0.21952550319\n",
      "PTRATIO \t0.255314977346\n",
      "B \t0.111194694202\n",
      "LSTAT \t0.543913547138\n",
      "MEDV \t0.999859681843\n"
     ]
    }
   ],
   "source": [
    "# Using just correlation coefficient even in prevoius file we show them using data frame\n",
    "for col in feature_cols:\n",
    "    lm = Lasso(fit_intercept=True)\n",
    "    lm.fit(data[[col]], data['MEDV'])\n",
    "    print col,'\\t', lm.score(data[[col]], data['MEDV'])"
   ]
  },
  {
   "cell_type": "code",
   "execution_count": 6,
   "metadata": {
    "collapsed": false
   },
   "outputs": [
    {
     "name": "stdout",
     "output_type": "stream",
     "text": [
      "Feature Name      Score         Pvalue\n",
      "CRIM \t\t89.4861147577 \t1.17398708219e-19\n",
      "ZN \t\t75.257642299 \t5.71358415308e-17\n",
      "INDUS \t\t153.954883136 \t4.90025998175e-31\n",
      "CHAS \t\t15.9715124204 \t7.39062317052e-05\n",
      "NOX \t\t112.59148028 \t7.06504158625e-24\n",
      "RM \t\t471.846739876 \t2.48722887101e-74\n",
      "AGE \t\t83.4774592192 \t1.56998220919e-18\n",
      "DIS \t\t33.5795703259 \t1.20661172734e-08\n",
      "RAD \t\t85.9142776698 \t5.46593256965e-19\n",
      "TAX \t\t141.761356577 \t5.63773362769e-29\n",
      "PTRATIO \t\t175.105542876 \t1.60950947847e-34\n",
      "B \t\t63.0542291125 \t1.31811273408e-14\n",
      "LSTAT \t\t601.61787111 \t5.08110339439e-88\n",
      "MEDV \t\t4.53962842439e+17 \t0.0\n"
     ]
    }
   ],
   "source": [
    "# Randing the important features to the target\n",
    "model = feature_selection.SelectKBest(score_func=feature_selection.f_regression,k=4)\n",
    "results = model.fit(data[feature_cols], data['MEDV'])\n",
    "k=0\n",
    "print 'Feature Name      Score         Pvalue'\n",
    "for feat in feature_cols:\n",
    "    print feat,'\\t\\t',results.scores_[k],'\\t',results.pvalues_[k]\n",
    "    k=k+1\n"
   ]
  },
  {
   "cell_type": "markdown",
   "metadata": {},
   "source": [
    "# Set the parameters for cross validation"
   ]
  },
  {
   "cell_type": "code",
   "execution_count": 7,
   "metadata": {
    "collapsed": true
   },
   "outputs": [],
   "source": [
    "num_folds = 10\n",
    "num_instances = len(X)\n",
    "seed = 7\n",
    "kfold = cross_validation.KFold(n=num_instances, n_folds=num_folds, random_state=seed)"
   ]
  },
  {
   "cell_type": "markdown",
   "metadata": {},
   "source": [
    " # Set the parameters for bias-variance dilemma"
   ]
  },
  {
   "cell_type": "code",
   "execution_count": 8,
   "metadata": {
    "collapsed": false
   },
   "outputs": [],
   "source": [
    "def plot_learning_curve(estimator, title, X, y, ylim=None, cv=None,\n",
    "                        n_jobs=1, train_sizes=np.linspace(.1, 1.0, 5)):\n",
    "    plt.figure()\n",
    "    plt.title(title)\n",
    "    if ylim is not None:\n",
    "        plt.ylim(*ylim)\n",
    "    plt.xlabel(\"Training examples\")\n",
    "    plt.ylabel(\"Score\")\n",
    "    train_sizes, train_scores, test_scores = learning_curve(\n",
    "        estimator, X, y, cv=cv, n_jobs=n_jobs, train_sizes=train_sizes)\n",
    "    train_scores_mean = np.mean(train_scores, axis=1)\n",
    "    train_scores_std = np.std(train_scores, axis=1)\n",
    "    test_scores_mean = np.mean(test_scores, axis=1)\n",
    "    test_scores_std = np.std(test_scores, axis=1)\n",
    "    plt.grid()\n",
    "\n",
    "    plt.fill_between(train_sizes, train_scores_mean - train_scores_std,\n",
    "                     train_scores_mean + train_scores_std, alpha=0.1,\n",
    "                     color=\"r\")\n",
    "    plt.fill_between(train_sizes, test_scores_mean - test_scores_std,\n",
    "                     test_scores_mean + test_scores_std, alpha=0.1, color=\"g\")\n",
    "    plt.plot(train_sizes, train_scores_mean, 'o-', color=\"r\",\n",
    "             label=\"Training score\")\n",
    "    plt.plot(train_sizes, test_scores_mean, 'o-', color=\"g\",\n",
    "             label=\"Cross-validation score\")\n",
    "\n",
    "    plt.legend(loc=\"best\")\n",
    "    return plt"
   ]
  },
  {
   "cell_type": "markdown",
   "metadata": {},
   "source": [
    "# Preprocessing the data and save both the model and preprocessed data"
   ]
  },
  {
   "cell_type": "code",
   "execution_count": 9,
   "metadata": {
    "collapsed": true
   },
   "outputs": [],
   "source": [
    "# According to the nature of the data spasity and there is outliter RobustScaler class is recomandit \n",
    "# but when I tried both of them the result seems is same\n",
    "from sklearn.preprocessing import StandardScaler\n",
    "scaler = preprocessing.StandardScaler().fit(X_train)"
   ]
  },
  {
   "cell_type": "code",
   "execution_count": 10,
   "metadata": {
    "collapsed": true
   },
   "outputs": [],
   "source": [
    "X_train = scaler.transform(X_train)\n",
    "X_test = scaler.transform(X_test) # use same transform for testing data\n",
    "X = X_train"
   ]
  },
  {
   "cell_type": "code",
   "execution_count": 11,
   "metadata": {
    "collapsed": true
   },
   "outputs": [],
   "source": [
    "# save transformed data\n",
    "np.save('./data/X_train', X_train)\n",
    "np.save('./data/y_train', y_train)\n",
    "np.save('./data/X_test', X_test)\n",
    "np.save('./data/y_test', y_test)"
   ]
  },
  {
   "cell_type": "code",
   "execution_count": 12,
   "metadata": {
    "collapsed": false
   },
   "outputs": [
    {
     "data": {
      "text/plain": [
       "['scaler.pkl', 'scaler.pkl_01.npy', 'scaler.pkl_02.npy', 'scaler.pkl_03.npy']"
      ]
     },
     "execution_count": 12,
     "metadata": {},
     "output_type": "execute_result"
    }
   ],
   "source": [
    "# save the model scaler to the desk\n",
    "from sklearn.externals import joblib\n",
    "joblib.dump(scaler, 'scaler.pkl') "
   ]
  },
  {
   "cell_type": "code",
   "execution_count": 13,
   "metadata": {
    "collapsed": false
   },
   "outputs": [
    {
     "name": "stdout",
     "output_type": "stream",
     "text": [
      " =================================================================>>>>> done\n",
      "[[-0.40835869 -0.49960763 -1.12872913 ..., -0.71272928  0.18547577\n",
      "  -0.73610347]\n",
      " [ 0.71925111 -0.49960763  0.9988844  ...,  0.79267419  0.0831649\n",
      "  -0.4356916 ]\n",
      " [-0.40257488 -0.49960763  0.39610829 ..., -0.94082071  0.39472748\n",
      "  -0.30263246]\n",
      " ..., \n",
      " [-0.3982601   0.55937182 -0.85812418 ...,  0.56458276  0.41019833\n",
      "   0.06087961]\n",
      " [-0.39934279 -0.49960763 -0.07637654 ...,  0.0627816   0.30517724\n",
      "  -0.45626776]\n",
      " [-0.40088071 -0.49960763 -0.36702631 ...,  1.1120022   0.41166637\n",
      "  -0.05983383]]\n"
     ]
    }
   ],
   "source": [
    "# Test the model if it is work\n",
    "scalerTest = joblib.load('scaler.pkl')\n",
    "new_data_scaled = scalerTest.transform(new_test_data)\n",
    "print \" =================================================================>>>>> done\"\n",
    "print new_data_scaled"
   ]
  },
  {
   "cell_type": "markdown",
   "metadata": {},
   "source": [
    "# 1. LASSO Regression"
   ]
  },
  {
   "cell_type": "markdown",
   "metadata": {},
   "source": [
    "The Least Absolute Shrinkage and Selection Operator (or LASSO for short) is a modification of linear regression, like Lasso regression, where the loss function is modified to minimize the complexity of the model measured as the sum absolute value of the coefficient values (also called the l1-norm)."
   ]
  },
  {
   "cell_type": "markdown",
   "metadata": {},
   "source": [
    "## Validation curve"
   ]
  },
  {
   "cell_type": "markdown",
   "metadata": {},
   "source": [
    "choosing multiple hyperparameters of an estimator "
   ]
  },
  {
   "cell_type": "code",
   "execution_count": 14,
   "metadata": {
    "collapsed": false
   },
   "outputs": [
    {
     "data": {
      "text/plain": [
       "['normalize',\n",
       " 'warm_start',\n",
       " 'selection',\n",
       " 'fit_intercept',\n",
       " 'positive',\n",
       " 'max_iter',\n",
       " 'precompute',\n",
       " 'random_state',\n",
       " 'tol',\n",
       " 'copy_X',\n",
       " 'alpha']"
      ]
     },
     "execution_count": 14,
     "metadata": {},
     "output_type": "execute_result"
    }
   ],
   "source": [
    "from sklearn.linear_model import Lasso,LassoCV\n",
    "estimator = Lasso()\n",
    "estimator.get_params().keys()"
   ]
  },
  {
   "cell_type": "code",
   "execution_count": 15,
   "metadata": {
    "collapsed": false
   },
   "outputs": [
    {
     "data": {
      "image/png": "[encoded data removed]",
      "text/plain": [
       "<matplotlib.figure.Figure at 0x115475990>"
      ]
     },
     "metadata": {},
     "output_type": "display_data"
    }
   ],
   "source": [
    "# For parametr alpha\n",
    "#param_range = np.logspace(-10.0, 10.0)\n",
    "#param_range = np.logspace(-7, 7, 3)\n",
    "param_range = np.linspace(1,5.0,10)\n",
    "\n",
    "train_scores, test_scores = validation_curve(\n",
    "    Lasso(), X, Y, param_name=\"alpha\", param_range=param_range,\n",
    "    cv=num_folds,  n_jobs=-1)\n",
    "train_scores_mean = np.mean(train_scores, axis=1)\n",
    "train_scores_std = np.std(train_scores, axis=1)\n",
    "test_scores_mean = np.mean(test_scores, axis=1)\n",
    "test_scores_std = np.std(test_scores, axis=1)\n",
    "\n",
    "plt.title(\"Validation Curve with Lasso\")\n",
    "plt.xlabel(\"alpha\")\n",
    "plt.ylabel(\"Score\")\n",
    "plt.ylim(0.4, 1.0)\n",
    "plt.plot(param_range, train_scores_mean, label=\"Training score\", color=\"r\")\n",
    "plt.fill_between(param_range, train_scores_mean - train_scores_std,\n",
    "                 train_scores_mean + train_scores_std, alpha=0.2, color=\"r\")\n",
    "plt.plot(param_range, test_scores_mean, label=\"Cross-validation score\",\n",
    "             color=\"g\")\n",
    "plt.fill_between(param_range, test_scores_mean - test_scores_std,\n",
    "                 test_scores_mean + test_scores_std, alpha=0.2, color=\"g\")\n",
    "plt.legend(loc=\"best\")\n",
    "plt.show()"
   ]
  },
  {
   "cell_type": "markdown",
   "metadata": {},
   "source": [
    "It looks alpha between 1 and 2 works well"
   ]
  },
  {
   "cell_type": "markdown",
   "metadata": {},
   "source": [
    "## Grid search and/or Random search to determine best compination of parameters"
   ]
  },
  {
   "cell_type": "code",
   "execution_count": 16,
   "metadata": {
    "collapsed": false
   },
   "outputs": [
    {
     "name": "stdout",
     "output_type": "stream",
     "text": [
      "Hyperparameter optimization using GridSearchCV...\n",
      "Parameters with rank: 1\n",
      "Mean validation score: 0.6814 (std: 0.0935)\n",
      "Parameters: {'precompute': False, 'alpha': 1.0}\n",
      "\n",
      "Parameters with rank: 2\n",
      "Mean validation score: 0.6814 (std: 0.0935)\n",
      "Parameters: {'precompute': True, 'alpha': 1.0}\n",
      "\n",
      "Parameters with rank: 3\n",
      "Mean validation score: 0.6617 (std: 0.0843)\n",
      "Parameters: {'precompute': False, 'alpha': 1.5}\n",
      "\n",
      "Parameters with rank: 4\n",
      "Mean validation score: 0.6617 (std: 0.0843)\n",
      "Parameters: {'precompute': True, 'alpha': 1.5}\n",
      "\n",
      "Parameters with rank: 5\n",
      "Mean validation score: 0.6306 (std: 0.0792)\n",
      "Parameters: {'precompute': False, 'alpha': 2.0}\n",
      "\n",
      "+++++++++++++++++++++++++++++++++++++++++++++++\n",
      "Hyperparameter optimization using RandomizedSearchCV\n",
      "Parameters with rank: 1\n",
      "Mean validation score: 0.6970 (std: 0.1087)\n",
      "Parameters: {'precompute': True, 'alpha': 0.52631578947368418}\n",
      "\n",
      "Parameters with rank: 2\n",
      "Mean validation score: 0.6889 (std: 0.0995)\n",
      "Parameters: {'precompute': False, 'alpha': 0.78947368421052633}\n",
      "\n",
      "Parameters with rank: 3\n",
      "Mean validation score: 0.6889 (std: 0.0995)\n",
      "Parameters: {'precompute': True, 'alpha': 0.78947368421052633}\n",
      "\n",
      "Parameters with rank: 4\n",
      "Mean validation score: 0.6575 (std: 0.0835)\n",
      "Parameters: {'precompute': False, 'alpha': 1.5789473684210527}\n",
      "\n",
      "Parameters with rank: 5\n",
      "Mean validation score: 0.6227 (std: 0.0782)\n",
      "Parameters: {'precompute': True, 'alpha': 2.1052631578947367}\n",
      "\n"
     ]
    }
   ],
   "source": [
    "# Utility function to report optimal parameters\n",
    "from operator import itemgetter\n",
    "def report(grid_scores, n_top=5):\n",
    "    params = None\n",
    "    top_scores = sorted(grid_scores, key=itemgetter(1), reverse=True)[:n_top]\n",
    "    for i, score in enumerate(top_scores):\n",
    "        print(\"Parameters with rank: {0}\".format(i + 1))\n",
    "        print(\"Mean validation score: {0:.4f} (std: {1:.4f})\".format(\n",
    "              score.mean_validation_score, np.std(score.cv_validation_scores)))\n",
    "        print(\"Parameters: {0}\".format(score.parameters))\n",
    "        print(\"\")\n",
    "        \n",
    "        if params == None:\n",
    "            params = score.parameters\n",
    "    \n",
    "    return params\n",
    "\n",
    "# The most common value for the max number of features to look at in each split is sqrt(# of features)\n",
    "sqrtfeat = np.sqrt(X.shape[1]) \n",
    "# Simple grid test (162 combinations)\n",
    "grid_test1 = { \"alpha\"      : [1.0, 1.5, 2.0, 2.5],\n",
    "               \"precompute\"         : [False, True] }\n",
    "\n",
    "# Large randomized test using max_depth to control tree size (5000 possible combinations)\n",
    "random_test1 = { \"alpha\"          : np.linspace(0,5.0,20),\n",
    "                 \"precompute\"         : [False, True] }\n",
    "\n",
    "\n",
    "forest = Lasso()\n",
    "\n",
    "print \"Hyperparameter optimization using GridSearchCV...\"\n",
    "grid_search = GridSearchCV(forest, grid_test1, n_jobs=-1, cv=num_folds)\n",
    "grid_search.fit(X, Y)\n",
    "best_params_from_grid_search = report(grid_search.grid_scores_)\n",
    "print '+++++++++++++++++++++++++++++++++++++++++++++++'\n",
    "print \"Hyperparameter optimization using RandomizedSearchCV\"\n",
    "grid_search = RandomizedSearchCV(forest, random_test1, n_jobs=-1, cv=num_folds, n_iter=5)\n",
    "grid_search.fit(X, Y)\n",
    "best_params_from_rand_search1 = report(grid_search.grid_scores_)"
   ]
  },
  {
   "cell_type": "markdown",
   "metadata": {},
   "source": [
    "Best parameters Parameters: {'precompute': False, 'alpha': 0.26315789473684209}\n"
   ]
  },
  {
   "cell_type": "markdown",
   "metadata": {},
   "source": [
    "## Learning Curve "
   ]
  },
  {
   "cell_type": "markdown",
   "metadata": {},
   "source": [
    "In essence, what we’re doing it training the exact same model with increasingly large fractions of our total training data, and plotting the error of the training and test sets at each step."
   ]
  },
  {
   "cell_type": "code",
   "execution_count": 17,
   "metadata": {
    "collapsed": false
   },
   "outputs": [
    {
     "data": {
      "image/png": "[encoded data removed]",
      "text/plain": [
       "<matplotlib.figure.Figure at 0x11548bd50>"
      ]
     },
     "metadata": {},
     "output_type": "display_data"
    }
   ],
   "source": [
    "from sklearn.linear_model import Lasso,LassoCV\n",
    "# 'alpha': 10.0, 'solver': 'lsqr'\n",
    "model = Lasso(alpha = 0.26315789473684209, precompute = False)\n",
    "title = \"Learning Curves (Lasso Refression)\"\n",
    "cv = cross_validation.ShuffleSplit(X.shape[0], n_iter=100,\n",
    "                                   test_size=0.2, random_state=0)\n",
    "plot_learning_curve(model, title, X, Y, ylim=(0.2, 1.01), cv=cv, n_jobs=-1)\n",
    "plt.show()"
   ]
  },
  {
   "cell_type": "code",
   "execution_count": 18,
   "metadata": {
    "collapsed": false
   },
   "outputs": [
    {
     "name": "stdout",
     "output_type": "stream",
     "text": [
      "train_sizes =  [ 50  80 110]\n",
      " training scores\n",
      " 50 training sizees\n",
      "0.827699386415 ± 0.0535419093835\n",
      " 80 training sizees\n",
      "0.791550044037 ± 0.0490269987723\n",
      " 110 training sizees\n",
      "0.781513755591 ± 0.0467354288917\n",
      "\n",
      " validation scores\n",
      " 50 validation scores\n",
      "0.641220988197 ± 0.121770553934\n",
      " 80 validation scores\n",
      "0.681936992935 ± 0.0888530883126\n",
      " 110 validation scores\n",
      "0.693469410382 ± 0.0821452243782\n"
     ]
    }
   ],
   "source": [
    "# More data from learning curve to show the process of building the model\n",
    "train_sizes, train_scores, valid_scores = learning_curve(\n",
    "     model, X, Y, train_sizes=[50, 80, 110], cv=cv, n_jobs=4)\n",
    "\n",
    "print 'train_sizes = ', train_sizes\n",
    "\n",
    "print ' training scores'\n",
    "print ' 50 training sizees'\n",
    "print train_scores[0].mean(),'±',train_scores[0].std()\n",
    "print ' 80 training sizees'\n",
    "print train_scores[1].mean(),'±',train_scores[1].std()\n",
    "print ' 110 training sizees'\n",
    "print train_scores[2].mean(),'±',train_scores[2].std()\n",
    "\n",
    "print '\\n validation scores'\n",
    "print ' 50 validation scores'\n",
    "print valid_scores[0].mean(),'±',valid_scores[0].std()\n",
    "print ' 80 validation scores'\n",
    "print valid_scores[1].mean(),'±',valid_scores[1].std()\n",
    "print ' 110 validation scores'\n",
    "print valid_scores[2].mean(),'±',valid_scores[2].std()"
   ]
  },
  {
   "cell_type": "markdown",
   "metadata": {},
   "source": [
    "## Cross validation"
   ]
  },
  {
   "cell_type": "code",
   "execution_count": 19,
   "metadata": {
    "collapsed": false
   },
   "outputs": [
    {
     "name": "stdout",
     "output_type": "stream",
     "text": [
      "Scoring according to mean_squared_error\n",
      "[-16.16437122 -15.11931572 -19.89191567 -24.88171221 -21.84801278\n",
      " -24.3188032  -41.6111056  -34.58638007 -22.54559079 -11.63220075]\n",
      "\n",
      " Mean      Standard deviation\n",
      "-23.26      8.57\n",
      "\n",
      " print intercept and coefficients\n",
      "22.6118811881\n",
      "[ -4.11412164e-01   2.00804580e-01  -6.12699947e-04   4.99504025e-01\n",
      "  -7.37529014e-01   2.85994774e+00  -0.00000000e+00  -1.02829035e+00\n",
      "   0.00000000e+00  -1.86589637e-01  -2.13617722e+00   5.17577589e-01\n",
      "  -3.59037275e+00]\n",
      "\n",
      "(feature, coefficients)\n",
      "[('CRIM', -0.41141216446164525), ('ZN', 0.2008045797576741), ('INDUS', -0.00061269994686468266), ('CHAS', 0.49950402470750871), ('NOX', -0.73752901389330072), ('RM', 2.8599477391337658), ('AGE', -0.0), ('DIS', -1.0282903453015473), ('RAD', 0.0), ('TAX', -0.18658963698556827), ('PTRATIO', -2.1361772186480104), ('B', 0.51757758892765826), ('LSTAT', -3.5903727515424655)]\n",
      "\n",
      " Predicted Target = 22.61 +(-0.41)X1 +(0.20)X2 +(-0.00)X3 +(0.50)X4+(-0.74)X4 +(2.86)X6 +(-0.00)X6 +(-1.03)X8+(0.00)X9+(-0.19)X10 +(-2.14)X11+(0.52)X12 +(-3.59)X13\n",
      "\n",
      " Predicted Target = 22.61 +(-0.41)CRIM +(0.20)ZN +(-0.00)INDUS +(0.50)CHAS+(-0.74)NOX +(2.86)RM +(-0.00)AGE +(-1.03)DIS+(0.00)RAD+(-0.19)TAX +(-2.14)PTRATIO +(0.52)B +(-3.59)LSTAT\n"
     ]
    }
   ],
   "source": [
    "scoring = 'mean_squared_error'\n",
    "results = cross_validation.cross_val_score(model, X, Y, cv=kfold, scoring=scoring)\n",
    "print 'Scoring according to mean_squared_error'\n",
    "print results\n",
    "print '\\n Mean      Standard deviation'\n",
    "print(\"%.2f      %.2f\" % (results.mean(), results.std()))\n",
    "## Fit the model\n",
    "model.fit(X,Y)\n",
    "print '\\n print intercept and coefficients'\n",
    "print model.intercept_\n",
    "print model.coef_\n",
    "# pair the feature names with the coefficients\n",
    "print '\\n(feature, coefficients)'\n",
    "print zip(feature_cols, model.coef_)\n",
    "# Linear qu. of the model\n",
    "\n",
    "print (\"\\n Predicted Target = %.2f +(%.2f)X1 +(%.2f)X2 +(%.2f)X3 +(%.2f)X4+(%.2f)X4 +(%.2f)X6 +(%.2f)X6 +(%.2f)X8+(%.2f)X9+(%.2f)X10 +(%.2f)X11+(%.2f)X12 +(%.2f)X13\"\n",
    "       % (model.intercept_, model.coef_[0], model.coef_[1],model.coef_[2],model.coef_[3],\n",
    "       model.coef_[4],model.coef_[5],model.coef_[6],model.coef_[7],\n",
    "      model.coef_[8], model.coef_[9],model.coef_[10],model.coef_[11],\n",
    "      model.coef_[12]))\n",
    "print (\"\\n Predicted Target = %.2f +(%.2f)%s +(%.2f)%s +(%.2f)%s +(%.2f)%s+(%.2f)%s +(%.2f)%s +(%.2f)%s +(%.2f)%s+(%.2f)%s+(%.2f)%s +(%.2f)%s +(%.2f)%s +(%.2f)%s\"\n",
    "       % (model.intercept_, model.coef_[0], feature_cols[0], model.coef_[1], feature_cols[1],\n",
    "          model.coef_[2], feature_cols[2],model.coef_[3], feature_cols[3],\n",
    "       model.coef_[4], feature_cols[4],model.coef_[5], feature_cols[5],model.coef_[6], feature_cols[6],\n",
    "          model.coef_[7], feature_cols[7],\n",
    "      model.coef_[8], feature_cols[8], model.coef_[9], feature_cols[9],\n",
    "          model.coef_[10], feature_cols[10],model.coef_[11], feature_cols[11],\n",
    "      model.coef_[12], feature_cols[12]))"
   ]
  },
  {
   "cell_type": "markdown",
   "metadata": {},
   "source": [
    "To be more precise these valrible is not the input feature as descripe on the dataset, those varibles in scaled virsion on the orginal onces. So, to be more correct I should assign to them another varibles but for easy to unserstand I kept them as they were."
   ]
  },
  {
   "cell_type": "markdown",
   "metadata": {},
   "source": [
    "## Coefficients Of Determination {Calculating R^2}\n",
    "\n",
    "R^2, Close to one is better"
   ]
  },
  {
   "cell_type": "code",
   "execution_count": 20,
   "metadata": {
    "collapsed": false
   },
   "outputs": [
    {
     "name": "stdout",
     "output_type": "stream",
     "text": [
      "R-squared =  0.727309248691\n"
     ]
    }
   ],
   "source": [
    "predicted = cross_val_predict(model, X, Y, cv=kfold)\n",
    "r_squared = r2_score(Y, predicted, multioutput='variance_weighted')\n",
    "print 'R-squared = ',r_squared"
   ]
  },
  {
   "cell_type": "markdown",
   "metadata": {},
   "source": [
    "## Residual Plot"
   ]
  },
  {
   "cell_type": "code",
   "execution_count": 21,
   "metadata": {
    "collapsed": false
   },
   "outputs": [
    {
     "data": {
      "image/png": "[encoded data removed]",
      "text/plain": [
       "<matplotlib.figure.Figure at 0x1155ba410>"
      ]
     },
     "metadata": {},
     "output_type": "display_data"
    }
   ],
   "source": [
    "predicted = cross_val_predict(model, X, Y, cv=kfold)\n",
    "fig, ax = plt.subplots()\n",
    "ax.scatter(Y, predicted)\n",
    "ax.plot([Y.min(), Y.max()], [Y.min(), Y.max()], 'k--', lw=4)\n",
    "ax.set_xlabel('Measured')\n",
    "ax.set_ylabel('Predicted')\n",
    "plt.show()"
   ]
  },
  {
   "cell_type": "code",
   "execution_count": 22,
   "metadata": {
    "collapsed": false
   },
   "outputs": [
    {
     "data": {
      "text/html": [
       "\n",
       "\n",
       "    <div class=\"bk-root\">\n",
       "        <div class=\"plotdiv\" id=\"9b4fd624-78e2-49b1-9e8e-e83ac08f5d88\"></div>\n",
       "    </div>\n",
       "<script type=\"text/javascript\">\n",
       "  \n",
       "  (function(global) {\n",
       "    function now() {\n",
       "      return new Date();\n",
       "    }\n",
       "  \n",
       "    if (typeof (window._bokeh_onload_callbacks) === \"undefined\") {\n",
       "      window._bokeh_onload_callbacks = [];\n",
       "    }\n",
       "  \n",
       "    function run_callbacks() {\n",
       "      window._bokeh_onload_callbacks.forEach(function(callback) { callback() });\n",
       "      delete window._bokeh_onload_callbacks\n",
       "      console.info(\"Bokeh: all callbacks have finished\");\n",
       "    }\n",
       "  \n",
       "    function load_libs(js_urls, callback) {\n",
       "      window._bokeh_onload_callbacks.push(callback);\n",
       "      if (window._bokeh_is_loading > 0) {\n",
       "        console.log(\"Bokeh: BokehJS is being loaded, scheduling callback at\", now());\n",
       "        return null;\n",
       "      }\n",
       "      if (js_urls == null || js_urls.length === 0) {\n",
       "        run_callbacks();\n",
       "        return null;\n",
       "      }\n",
       "      console.log(\"Bokeh: BokehJS not loaded, scheduling load and callback at\", now());\n",
       "      window._bokeh_is_loading = js_urls.length;\n",
       "      for (var i = 0; i < js_urls.length; i++) {\n",
       "        var url = js_urls[i];\n",
       "        var s = document.createElement('script');\n",
       "        s.src = url;\n",
       "        s.async = false;\n",
       "        s.onreadystatechange = s.onload = function() {\n",
       "          window._bokeh_is_loading--;\n",
       "          if (window._bokeh_is_loading === 0) {\n",
       "            console.log(\"Bokeh: all BokehJS libraries loaded\");\n",
       "            run_callbacks()\n",
       "          }\n",
       "        };\n",
       "        s.onerror = function() {\n",
       "          console.warn(\"failed to load library \" + url);\n",
       "        };\n",
       "        console.log(\"Bokeh: injecting script tag for BokehJS library: \", url);\n",
       "        document.getElementsByTagName(\"head\")[0].appendChild(s);\n",
       "      }\n",
       "    };var element = document.getElementById(\"9b4fd624-78e2-49b1-9e8e-e83ac08f5d88\");\n",
       "    if (element == null) {\n",
       "      console.log(\"Bokeh: ERROR: autoload.js configured with elementid '9b4fd624-78e2-49b1-9e8e-e83ac08f5d88' but no matching script tag was found. \")\n",
       "      return false;\n",
       "    }\n",
       "  \n",
       "    var js_urls = [];\n",
       "  \n",
       "    var inline_js = [\n",
       "      function(Bokeh) {\n",
       "        Bokeh.$(function() {\n",
       "            var docs_json = {\"539a6b4a-795a-4a92-82fc-b7ad10d6a3a8\":{\"roots\":{\"references\":[{\"attributes\":{\"callback\":null},\"id\":\"4603fe73-228b-4295-b30d-551e8064f52c\",\"type\":\"DataRange1d\"},{\"attributes\":{\"bottom_units\":\"screen\",\"fill_alpha\":{\"value\":0.5},\"fill_color\":{\"value\":\"lightgrey\"},\"left_units\":\"screen\",\"level\":\"overlay\",\"line_alpha\":{\"value\":1.0},\"line_color\":{\"value\":\"black\"},\"line_dash\":[4,4],\"line_width\":{\"value\":2},\"plot\":null,\"render_mode\":\"css\",\"right_units\":\"screen\",\"top_units\":\"screen\"},\"id\":\"ec5f9ce5-55c4-4416-b5b8-b8b5a2221f65\",\"type\":\"BoxAnnotation\"},{\"attributes\":{\"overlay\":{\"id\":\"bc95dcb2-2003-40bd-a9fd-a91128777ced\",\"type\":\"PolyAnnotation\"},\"plot\":{\"id\":\"a048bbc3-dd00-463d-965a-882e116b336a\",\"subtype\":\"Figure\",\"type\":\"Plot\"}},\"id\":\"f1bbb39d-aa05-4d0f-9d1d-af8c3316954c\",\"type\":\"PolySelectTool\"},{\"attributes\":{\"overlay\":{\"id\":\"450a3b43-f224-4d5f-bbb0-3c91d2a8efb4\",\"type\":\"BoxAnnotation\"},\"plot\":{\"id\":\"a048bbc3-dd00-463d-965a-882e116b336a\",\"subtype\":\"Figure\",\"type\":\"Plot\"}},\"id\":\"f7b0b8d2-c8d6-4102-9e0d-36e0c0a7ea6f\",\"type\":\"BoxZoomTool\"},{\"attributes\":{\"callback\":null,\"plot\":{\"id\":\"a048bbc3-dd00-463d-965a-882e116b336a\",\"subtype\":\"Figure\",\"type\":\"Plot\"}},\"id\":\"a02f1b0e-f7be-405d-a7d9-04d1d5a7fab7\",\"type\":\"TapTool\"},{\"attributes\":{\"callback\":null},\"id\":\"d2a18e59-792f-40a3-a1e2-e36e2e5bbdf1\",\"type\":\"DataRange1d\"},{\"attributes\":{\"align\":\"center\",\"plot\":null,\"text\":null},\"id\":\"bb97be4f-4c25-4618-9ad6-730fe394e165\",\"type\":\"Title\"},{\"attributes\":{\"plot\":{\"id\":\"a048bbc3-dd00-463d-965a-882e116b336a\",\"subtype\":\"Figure\",\"type\":\"Plot\"}},\"id\":\"e3a44895-d168-469a-8e11-584c6e979139\",\"type\":\"UndoTool\"},{\"attributes\":{\"plot\":{\"id\":\"a048bbc3-dd00-463d-965a-882e116b336a\",\"subtype\":\"Figure\",\"type\":\"Plot\"}},\"id\":\"f51386ac-227f-4084-a55d-162a70d7b1f7\",\"type\":\"CrosshairTool\"},{\"attributes\":{\"plot\":{\"id\":\"a048bbc3-dd00-463d-965a-882e116b336a\",\"subtype\":\"Figure\",\"type\":\"Plot\"}},\"id\":\"1686b5cf-6d98-4cd4-92a4-a7678cc92563\",\"type\":\"ResizeTool\"},{\"attributes\":{},\"id\":\"17441c37-e459-483f-8985-e395b1a7523b\",\"type\":\"ToolEvents\"},{\"attributes\":{\"data_source\":{\"id\":\"ae050eb1-040c-4751-91ee-8905312149d2\",\"type\":\"ColumnDataSource\"},\"glyph\":{\"id\":\"3e8fe267-158a-4772-865e-c807039f07ad\",\"type\":\"Line\"},\"hover_glyph\":null,\"nonselection_glyph\":{\"id\":\"83626ef8-1f30-4f0c-b9ec-a89467f82142\",\"type\":\"Line\"},\"selection_glyph\":null},\"id\":\"f53ea105-cfda-424c-b664-13976991d3dd\",\"type\":\"GlyphRenderer\"},{\"attributes\":{\"axis_label\":\"Predicted\",\"axis_label_text_color\":{\"value\":\"#aa6666\"},\"formatter\":{\"id\":\"f472d3b7-64e9-47a1-b2a9-8553e3e1ed17\",\"type\":\"BasicTickFormatter\"},\"plot\":{\"id\":\"a048bbc3-dd00-463d-965a-882e116b336a\",\"subtype\":\"Figure\",\"type\":\"Plot\"},\"ticker\":{\"id\":\"362a895b-ce3e-476b-ab30-f04a087dc943\",\"type\":\"BasicTicker\"}},\"id\":\"2086fb9b-5dab-4216-a378-58623d9c9ee3\",\"type\":\"LinearAxis\"},{\"attributes\":{\"fill_color\":{\"value\":\"#80B1D3\"},\"line_color\":{\"value\":\"#80B1D3\"},\"line_width\":{\"value\":3},\"x\":{\"field\":\"x\"},\"y\":{\"field\":\"y\"}},\"id\":\"752f2953-b249-46f0-8699-491be7cd47d0\",\"type\":\"Circle\"},{\"attributes\":{},\"id\":\"9a676cd7-155a-479b-9e60-bfd42926f7ac\",\"type\":\"BasicTicker\"},{\"attributes\":{\"plot\":{\"id\":\"a048bbc3-dd00-463d-965a-882e116b336a\",\"subtype\":\"Figure\",\"type\":\"Plot\"}},\"id\":\"b855f85a-29ab-4762-b02a-ae2fc80e83e3\",\"type\":\"PanTool\"},{\"attributes\":{},\"id\":\"362a895b-ce3e-476b-ab30-f04a087dc943\",\"type\":\"BasicTicker\"},{\"attributes\":{\"active_drag\":\"auto\",\"active_scroll\":\"auto\",\"active_tap\":\"auto\",\"tools\":[{\"id\":\"f7b0b8d2-c8d6-4102-9e0d-36e0c0a7ea6f\",\"type\":\"BoxZoomTool\"},{\"id\":\"00fc0994-8269-4992-8cf7-609a6518f981\",\"type\":\"BoxSelectTool\"},{\"id\":\"f51386ac-227f-4084-a55d-162a70d7b1f7\",\"type\":\"CrosshairTool\"},{\"id\":\"1686b5cf-6d98-4cd4-92a4-a7678cc92563\",\"type\":\"ResizeTool\"},{\"id\":\"2b13a8b4-97f0-49db-9cf9-e04d64dfbaa8\",\"type\":\"ResetTool\"},{\"id\":\"21f1bd26-0d45-41d3-9faf-43678f524833\",\"type\":\"LassoSelectTool\"},{\"id\":\"b855f85a-29ab-4762-b02a-ae2fc80e83e3\",\"type\":\"PanTool\"},{\"id\":\"9673b6df-d583-41ed-bd68-220445684720\",\"type\":\"SaveTool\"},{\"id\":\"f1bbb39d-aa05-4d0f-9d1d-af8c3316954c\",\"type\":\"PolySelectTool\"},{\"id\":\"a02f1b0e-f7be-405d-a7d9-04d1d5a7fab7\",\"type\":\"TapTool\"},{\"id\":\"1548c223-4b8c-4d4a-8911-cadb427ba898\",\"type\":\"WheelZoomTool\"},{\"id\":\"e3a44895-d168-469a-8e11-584c6e979139\",\"type\":\"UndoTool\"}]},\"id\":\"0f006e40-9669-419a-b919-9ee1a91ea3f9\",\"type\":\"Toolbar\"},{\"attributes\":{\"line_alpha\":{\"value\":0.1},\"line_color\":{\"value\":\"#1f77b4\"},\"line_dash\":[4,4],\"line_width\":{\"value\":2},\"x\":{\"field\":\"x\"},\"y\":{\"field\":\"y\"}},\"id\":\"83626ef8-1f30-4f0c-b9ec-a89467f82142\",\"type\":\"Line\"},{\"attributes\":{\"plot\":{\"id\":\"a048bbc3-dd00-463d-965a-882e116b336a\",\"subtype\":\"Figure\",\"type\":\"Plot\"}},\"id\":\"2b13a8b4-97f0-49db-9cf9-e04d64dfbaa8\",\"type\":\"ResetTool\"},{\"attributes\":{\"axis_label\":\"Measured\",\"axis_label_text_color\":{\"value\":\"#aa6666\"},\"formatter\":{\"id\":\"ac8d2086-9507-47e7-a3d6-aa3241a2f6da\",\"type\":\"BasicTickFormatter\"},\"major_tick_line_color\":{\"value\":\"firebrick\"},\"major_tick_line_width\":{\"value\":3},\"minor_tick_line_color\":{\"value\":\"orange\"},\"plot\":{\"id\":\"a048bbc3-dd00-463d-965a-882e116b336a\",\"subtype\":\"Figure\",\"type\":\"Plot\"},\"ticker\":{\"id\":\"9a676cd7-155a-479b-9e60-bfd42926f7ac\",\"type\":\"BasicTicker\"}},\"id\":\"5069f674-6ebe-415f-862f-e300b77c19e1\",\"type\":\"LinearAxis\"},{\"attributes\":{\"callback\":null,\"column_names\":[\"x\",\"y\"],\"data\":{\"x\":[26.7,21.7,22.0,22.9,10.4,21.9,20.6,26.4,41.3,17.2,27.1,20.4,16.5,24.4,8.4,23.0,9.7,50.0,30.5,12.3,19.4,21.2,20.3,18.8,33.4,18.5,19.6,33.2,13.1,7.5,13.6,17.4,8.4,35.4,24.0,13.4,26.2,7.2,13.1,24.5,37.2,25.0,24.1,16.6,32.9,36.2,11.0,7.2,22.8,28.7,14.4,24.4,18.1,22.5,20.5,15.2,17.4,13.6,8.7,18.2,35.4,31.7,33.0,22.2,20.4,23.9,25.0,12.7,29.1,12.0,17.7,27.0,20.6,10.2,17.5,19.7,29.8,20.5,14.9,10.9,19.5,22.7,19.5,24.6,25.0,24.5,50.0,14.3,11.8,31.0,28.7,16.2,43.5,25.0,22.0,19.9,22.1,46.0,22.9,20.2,43.1,34.6,13.8,24.3,21.5,24.4,21.2,23.8,26.6,25.1,9.6,19.4,19.4,9.5,14.0,26.5,13.8,34.7,16.3,21.7,17.5,15.6,20.9,21.7,12.7,18.5,23.7,19.3,12.7,21.6,23.2,29.6,21.2,23.8,17.1,22.0,36.5,18.8,21.9,23.1,20.2,17.4,37.0,24.1,36.2,15.7,32.2,13.5,17.9,13.3,11.7,41.7,18.4,13.1,25.0,21.2,16.0,34.9,25.2,24.8,21.5,23.4,18.9,10.8,21.0,27.5,17.5,13.5,28.7,14.8,19.1,28.6,13.1,19.0,11.3,13.3,22.4,20.1,18.2,22.9,20.6,25.0,12.8,34.9,23.7,50.0,29.0,30.1,22.0,15.6,23.3,30.1,14.3,22.8,50.0,20.8,6.3,34.9,32.4,19.9,20.3,17.8,23.1,20.4,23.2,7.0,16.8,46.7,50.0,22.9,23.9,21.4,21.7,15.4,15.3,23.1,23.9,19.4,11.9,17.8,31.5,33.8,20.8,19.8,22.4,5.0,24.5,19.4,15.1,18.2,19.3,27.1,20.7,37.6,11.7,33.4,30.1,21.4,45.4,20.1,20.8,26.4,10.4,21.8,32.0,21.7,18.4,37.9,17.8,28.0,28.2,36.0,18.9,15.0,22.5,30.7,20.0,19.1,23.3,26.6,21.1,19.7,20.0,12.1,7.2,14.2,17.3,27.5,22.2,10.9,19.2,32.0,14.5,24.7,12.6,24.0,24.1,50.0,16.1,43.8,26.6,36.1,21.8,29.9,50.0,44.0,20.6,19.6,28.4,19.1,22.3,20.9,28.4,14.4,32.7,13.8,8.5,22.5,35.1,31.6,17.8,15.6,20.7,39.8,17.8,19.6,14.9,22.0,48.8,25.0,48.5,23.9,20.3,15.2,10.5,19.0,16.4,8.8,22.0,24.8,50.0,19.3,22.7,37.3,31.6,8.3,23.1,50.0,13.9,16.1,25.3,19.5,10.2,19.9,35.2,13.4,24.7,11.5,23.4,16.7,15.4,18.0,28.5,18.4,32.5,50.0,50.0,19.6,17.6,42.3,14.5,13.2,16.2,29.6,16.7,13.0,22.3,13.4,5.0,19.5,14.6,22.0,8.1,24.6,33.2,20.6,14.1,14.1,21.1,30.3,23.7,21.4,18.3,8.5,22.8,22.8,22.2,13.9,25.0,18.5,7.0,22.6,20.1,30.8,31.1,23.8,12.5,23.6,23.2,24.2,22.2,27.9,22.2,33.1,19.3,18.9,22.6,50.0,24.8,18.5,36.4,19.2,16.6,23.1],\"y\":[30.89185425619952,22.123666490033393,27.51129696044798,24.190292980994258,7.331514752073819,13.793998481919392,22.071109954191083,27.97730745846753,33.508782114504214,11.417056380701489,21.409984171160474,20.71016483745375,13.746906180643935,22.89960628262447,6.329838538740923,21.34168789488158,8.515846691311513,41.749500501400675,31.288131375186047,11.461963442583423,18.24708299546346,21.24468062813999,23.23330511871681,18.848079332951624,31.97002902388379,15.124416700123838,20.90572841307268,33.52111027987115,19.019806422182626,14.319733917300251,17.52723138944324,23.52903989898082,15.781453272940942,30.326608367061596,24.119516973091635,16.562019898034336,25.747661883580378,10.863839506990008,14.983326181136276,20.53462445662988,31.197535174801878,28.561036788120173,26.10209169627639,16.53156424813298,31.779732685790528,29.053037646986198,14.131274145154268,6.678861172184019,28.823039316126017,26.37542078920952,3.9890783001657653,27.102160705626023,18.078624485373314,30.289848102978077,18.7749849545915,16.172170510780596,18.902533866550435,12.77179072939329,10.204462220314085,20.232438826580722,33.58293746144887,32.43161742058736,26.080524857940638,20.10160870089775,23.138389643181167,26.667360705546155,22.536450478453908,16.799815900911423,31.7483468557431,10.094971540780339,19.243802083414245,33.028127089132134,18.27600702806786,15.387332652381579,18.404574160699184,14.193837358587604,23.86166192009367,24.78782253567961,17.329340620806473,16.64582135897627,20.288830065656125,25.753744943578358,16.60894221875375,25.43272829293421,23.68428860535149,28.66934587112308,34.163639009903775,17.65863996732579,13.263104747002789,33.62256083681589,30.52649525287602,21.17309573812776,38.217452489041115,27.172909900108937,28.273706436306774,17.33034336952493,26.21805485495754,38.412655418027576,27.05483317622368,17.124297283916984,36.32168808923112,35.865248889773795,16.496169538496304,29.286462957991958,24.23820956780504,25.414639829552943,21.32769160264012,24.705777982825772,27.381859924512526,28.572229874796747,15.932090485254083,25.383786474796395,22.87754287266819,13.448748749544777,14.458272125171197,25.353525096756435,18.866175041329015,31.030233298775418,10.971990962360914,21.456970542128435,17.83930372810167,20.16267558311298,24.515291442373275,23.431577073192905,12.444331468547329,25.13536007303231,28.253754806196664,20.192247411732346,12.967522972828688,25.532738917540303,25.000317117444727,28.33244635841298,23.80768700214685,26.85283108219285,17.575758992276263,20.05921972457446,34.8465725953849,20.68431883786477,38.44959164290129,26.62731250907831,22.862095186166332,16.994969203405926,32.21579364556567,25.773467816772076,25.33641835787361,12.30511692425473,31.568197017631995,14.555832256609243,-0.7248352160443439,19.152758723335282,12.519322244338838,38.384831672478086,17.269326990957907,14.729812292282958,27.54800291576111,23.591254217837434,18.5353576466514,31.043112577291428,25.897368709281317,26.715196532571248,23.672114427000533,24.43991372139082,22.590601721457762,11.568866694046598,22.272538215883714,10.579208049590392,21.168161896504166,13.750763044230432,27.936340496642302,16.538363069895414,14.984607688232149,29.615766631001065,17.205144092968013,21.274489903645048,11.759385851926174,14.38543636124546,21.794906853593684,20.85126681473151,16.84600955728383,24.412629660510344,19.15143153066104,24.096890026044974,12.150314336390263,33.68788163704348,11.303242353512573,39.21654089422956,30.432403394058017,33.62196613570269,22.480806792209854,17.001557042686425,25.261181259038658,28.262204540275835,14.658712312492302,26.88563214177435,37.71329621750671,16.21520039162069,9.892057705533626,31.521210382748997,32.96060532886603,18.556796969036537,22.656565954796605,18.618813103465733,24.589006422472572,20.721683162495808,26.841188579424177,-0.7838573532449296,20.455631855480604,33.89382607860645,36.665478770839705,24.640664188878837,27.37276048848767,20.26070349472357,20.37563524159962,18.03907907557575,23.03137023400521,21.701180398079657,28.068811169373976,19.313148579775795,7.054194635496014,17.012677096035336,31.880229048535163,33.76844686584144,17.516470986890774,19.047141822450843,23.641917990370274,13.007330142989582,22.96941864622621,25.12780832258969,15.88342740981512,18.89675017750517,23.26938986242025,28.126283249219135,24.154178549252087,35.815374535356526,16.550232672900634,29.691812816242027,28.13689808987268,20.73739285748225,37.10755029847874,21.90797672098257,23.238120658164686,21.018552790226266,21.11112170320079,19.183618962480846,31.27425391668921,25.070851671958035,18.29773443104962,31.883039355485202,23.641991469718455,27.89877275062228,28.794515091218607,35.7171398465774,24.013904711293467,24.88723001849302,21.906595932951994,31.19426537846707,20.879270388484432,18.74815732784845,22.666057070967238,28.95899226727672,20.96564134363695,22.461585564507526,16.149472273223854,17.707811323443202,17.37904343008186,17.139392883456033,15.336068762225688,30.268493219337508,24.486738433535603,18.108536030328906,21.121679133840548,31.929476949719856,15.032940456421182,25.244148910148457,18.19215481233853,30.810772919754985,28.632146692305668,18.46306202113657,19.58466578098499,35.30757974396116,26.75344106311566,30.597035151542755,19.919618115715828,30.493066964194174,28.450608232987854,34.52878188939329,24.676961961959332,20.54453690579081,28.29168979044935,15.703058160595713,27.167400479296454,22.538393462192133,26.855801489778113,10.391376874734952,32.227463687956075,3.772013206876096,14.467771043694162,18.108589800307023,32.874393056301784,30.812044559525788,12.490702926912821,14.724482682892589,23.479203837309957,32.731475206364266,18.08052166541746,20.56112293495169,16.15806601056726,26.080123180908785,39.491104001828276,25.604484231872128,37.26488538052293,25.049604003304214,20.88427943584329,15.197598816493937,12.449466982536814,14.595464357394874,18.771846372419155,2.489359150047054,26.936198323472777,25.57892844315753,38.70085756073817,21.084947791631294,20.954695415054122,30.52425672595472,32.47117291966609,10.646714958552217,24.981232939676463,41.80144232056674,16.34306863401511,17.731361822226045,26.049987572181777,17.87772348923368,5.663581771587456,18.337223875005257,32.78125924377562,17.35281273491616,22.485984603307923,12.752456226191615,25.03687919958845,18.819595901911555,17.471203034930397,19.67191045110325,30.32237156674826,20.882115217161175,29.03353904261767,29.47799355083879,40.20283438845344,21.119249589879413,18.54165520644257,36.968774232402936,19.159148367435648,10.936749208267761,15.90928773070978,23.568197479563604,18.520474930333048,16.75648414995573,27.17225391766449,12.782816735892407,6.890066477524712,19.197994669389953,11.682888948768088,28.792655771489784,7.830114090204248,28.378004359137364,32.33154271108405,22.23824683782371,16.853012739241482,17.995745454382142,21.749976062314104,33.601839948295535,28.28541837018937,19.556428258055387,21.165052129268403,7.931136060286285,27.14264480136591,25.200116227640052,23.71034732744374,14.991865327924856,26.770393462503733,20.114847906661506,12.233529861464394,25.739658558447392,19.86831985992918,28.9768792131273,31.90697541080953,26.03461305505779,17.80076997782117,30.93643441929212,20.773378587333315,25.960887533804982,25.37767639612101,28.303751761469684,25.141529725297758,32.46575310128983,16.106586311910196,21.70250811610392,18.935424737263553,38.66139505314828,26.435879689335387,19.985273215830503,34.317208065112375,24.365723896901034,19.368489630760138,22.168334041714584]}},\"id\":\"91cc899d-995b-4b95-9b5f-73cdc85aa016\",\"type\":\"ColumnDataSource\"},{\"attributes\":{},\"id\":\"ac8d2086-9507-47e7-a3d6-aa3241a2f6da\",\"type\":\"BasicTickFormatter\"},{\"attributes\":{\"plot\":{\"id\":\"a048bbc3-dd00-463d-965a-882e116b336a\",\"subtype\":\"Figure\",\"type\":\"Plot\"}},\"id\":\"9673b6df-d583-41ed-bd68-220445684720\",\"type\":\"SaveTool\"},{\"attributes\":{\"fill_alpha\":{\"value\":0.1},\"fill_color\":{\"value\":\"#1f77b4\"},\"line_alpha\":{\"value\":0.1},\"line_color\":{\"value\":\"#1f77b4\"},\"line_width\":{\"value\":3},\"x\":{\"field\":\"x\"},\"y\":{\"field\":\"y\"}},\"id\":\"da1aad63-f1a7-41c2-91c3-006c5197433a\",\"type\":\"Circle\"},{\"attributes\":{\"background_fill_alpha\":{\"value\":0.5},\"background_fill_color\":{\"value\":\"beige\"},\"below\":[{\"id\":\"5069f674-6ebe-415f-862f-e300b77c19e1\",\"type\":\"LinearAxis\"}],\"left\":[{\"id\":\"2086fb9b-5dab-4216-a378-58623d9c9ee3\",\"type\":\"LinearAxis\"}],\"plot_height\":500,\"plot_width\":500,\"renderers\":[{\"id\":\"5069f674-6ebe-415f-862f-e300b77c19e1\",\"type\":\"LinearAxis\"},{\"id\":\"07ecbdd0-7be2-426d-b41f-b0b68dfc3e7c\",\"type\":\"Grid\"},{\"id\":\"2086fb9b-5dab-4216-a378-58623d9c9ee3\",\"type\":\"LinearAxis\"},{\"id\":\"a7d23881-fcc1-4aa3-aca1-367b2947cbf7\",\"type\":\"Grid\"},{\"id\":\"450a3b43-f224-4d5f-bbb0-3c91d2a8efb4\",\"type\":\"BoxAnnotation\"},{\"id\":\"ec5f9ce5-55c4-4416-b5b8-b8b5a2221f65\",\"type\":\"BoxAnnotation\"},{\"id\":\"538ffddd-700b-4f62-8b17-1dd2d3f8d4b4\",\"type\":\"PolyAnnotation\"},{\"id\":\"bc95dcb2-2003-40bd-a9fd-a91128777ced\",\"type\":\"PolyAnnotation\"},{\"id\":\"8451d13a-3fdf-4515-a676-18509b4ebc49\",\"type\":\"GlyphRenderer\"},{\"id\":\"f53ea105-cfda-424c-b664-13976991d3dd\",\"type\":\"GlyphRenderer\"}],\"title\":{\"id\":\"bb97be4f-4c25-4618-9ad6-730fe394e165\",\"type\":\"Title\"},\"tool_events\":{\"id\":\"17441c37-e459-483f-8985-e395b1a7523b\",\"type\":\"ToolEvents\"},\"toolbar\":{\"id\":\"0f006e40-9669-419a-b919-9ee1a91ea3f9\",\"type\":\"Toolbar\"},\"x_range\":{\"id\":\"d2a18e59-792f-40a3-a1e2-e36e2e5bbdf1\",\"type\":\"DataRange1d\"},\"y_range\":{\"id\":\"4603fe73-228b-4295-b30d-551e8064f52c\",\"type\":\"DataRange1d\"}},\"id\":\"a048bbc3-dd00-463d-965a-882e116b336a\",\"subtype\":\"Figure\",\"type\":\"Plot\"},{\"attributes\":{\"callback\":null,\"column_names\":[\"y\",\"x\"],\"data\":{\"x\":[5.0,50.0],\"y\":[5.0,50.0]}},\"id\":\"ae050eb1-040c-4751-91ee-8905312149d2\",\"type\":\"ColumnDataSource\"},{\"attributes\":{\"bottom_units\":\"screen\",\"fill_alpha\":{\"value\":0.5},\"fill_color\":{\"value\":\"lightgrey\"},\"left_units\":\"screen\",\"level\":\"overlay\",\"line_alpha\":{\"value\":1.0},\"line_color\":{\"value\":\"black\"},\"line_dash\":[4,4],\"line_width\":{\"value\":2},\"plot\":null,\"render_mode\":\"css\",\"right_units\":\"screen\",\"top_units\":\"screen\"},\"id\":\"450a3b43-f224-4d5f-bbb0-3c91d2a8efb4\",\"type\":\"BoxAnnotation\"},{\"attributes\":{\"callback\":null,\"overlay\":{\"id\":\"ec5f9ce5-55c4-4416-b5b8-b8b5a2221f65\",\"type\":\"BoxAnnotation\"},\"plot\":{\"id\":\"a048bbc3-dd00-463d-965a-882e116b336a\",\"subtype\":\"Figure\",\"type\":\"Plot\"},\"renderers\":[{\"id\":\"8451d13a-3fdf-4515-a676-18509b4ebc49\",\"type\":\"GlyphRenderer\"},{\"id\":\"f53ea105-cfda-424c-b664-13976991d3dd\",\"type\":\"GlyphRenderer\"}]},\"id\":\"00fc0994-8269-4992-8cf7-609a6518f981\",\"type\":\"BoxSelectTool\"},{\"attributes\":{\"data_source\":{\"id\":\"91cc899d-995b-4b95-9b5f-73cdc85aa016\",\"type\":\"ColumnDataSource\"},\"glyph\":{\"id\":\"752f2953-b249-46f0-8699-491be7cd47d0\",\"type\":\"Circle\"},\"hover_glyph\":null,\"nonselection_glyph\":{\"id\":\"da1aad63-f1a7-41c2-91c3-006c5197433a\",\"type\":\"Circle\"},\"selection_glyph\":null},\"id\":\"8451d13a-3fdf-4515-a676-18509b4ebc49\",\"type\":\"GlyphRenderer\"},{\"attributes\":{\"fill_alpha\":{\"value\":0.5},\"fill_color\":{\"value\":\"lightgrey\"},\"level\":\"overlay\",\"line_alpha\":{\"value\":1.0},\"line_color\":{\"value\":\"black\"},\"line_dash\":[4,4],\"line_width\":{\"value\":2},\"plot\":null,\"xs_units\":\"screen\",\"ys_units\":\"screen\"},\"id\":\"bc95dcb2-2003-40bd-a9fd-a91128777ced\",\"type\":\"PolyAnnotation\"},{\"attributes\":{},\"id\":\"f472d3b7-64e9-47a1-b2a9-8553e3e1ed17\",\"type\":\"BasicTickFormatter\"},{\"attributes\":{\"fill_alpha\":{\"value\":0.5},\"fill_color\":{\"value\":\"lightgrey\"},\"level\":\"overlay\",\"line_alpha\":{\"value\":1.0},\"line_color\":{\"value\":\"black\"},\"line_dash\":[4,4],\"line_width\":{\"value\":2},\"plot\":null,\"xs_units\":\"screen\",\"ys_units\":\"screen\"},\"id\":\"538ffddd-700b-4f62-8b17-1dd2d3f8d4b4\",\"type\":\"PolyAnnotation\"},{\"attributes\":{\"line_dash\":[4,4],\"line_width\":{\"value\":2},\"x\":{\"field\":\"x\"},\"y\":{\"field\":\"y\"}},\"id\":\"3e8fe267-158a-4772-865e-c807039f07ad\",\"type\":\"Line\"},{\"attributes\":{\"callback\":null,\"overlay\":{\"id\":\"538ffddd-700b-4f62-8b17-1dd2d3f8d4b4\",\"type\":\"PolyAnnotation\"},\"plot\":{\"id\":\"a048bbc3-dd00-463d-965a-882e116b336a\",\"subtype\":\"Figure\",\"type\":\"Plot\"}},\"id\":\"21f1bd26-0d45-41d3-9faf-43678f524833\",\"type\":\"LassoSelectTool\"},{\"attributes\":{\"plot\":{\"id\":\"a048bbc3-dd00-463d-965a-882e116b336a\",\"subtype\":\"Figure\",\"type\":\"Plot\"}},\"id\":\"1548c223-4b8c-4d4a-8911-cadb427ba898\",\"type\":\"WheelZoomTool\"},{\"attributes\":{\"dimension\":1,\"plot\":{\"id\":\"a048bbc3-dd00-463d-965a-882e116b336a\",\"subtype\":\"Figure\",\"type\":\"Plot\"},\"ticker\":{\"id\":\"362a895b-ce3e-476b-ab30-f04a087dc943\",\"type\":\"BasicTicker\"}},\"id\":\"a7d23881-fcc1-4aa3-aca1-367b2947cbf7\",\"type\":\"Grid\"},{\"attributes\":{\"plot\":{\"id\":\"a048bbc3-dd00-463d-965a-882e116b336a\",\"subtype\":\"Figure\",\"type\":\"Plot\"},\"ticker\":{\"id\":\"9a676cd7-155a-479b-9e60-bfd42926f7ac\",\"type\":\"BasicTicker\"}},\"id\":\"07ecbdd0-7be2-426d-b41f-b0b68dfc3e7c\",\"type\":\"Grid\"}],\"root_ids\":[\"a048bbc3-dd00-463d-965a-882e116b336a\"]},\"title\":\"Bokeh Application\",\"version\":\"0.12.0\"}};\n",
       "            var render_items = [{\"docid\":\"539a6b4a-795a-4a92-82fc-b7ad10d6a3a8\",\"elementid\":\"9b4fd624-78e2-49b1-9e8e-e83ac08f5d88\",\"modelid\":\"a048bbc3-dd00-463d-965a-882e116b336a\",\"notebook_comms_target\":\"71fd7bf7-7607-456e-b298-6c749dfd8130\"}];\n",
       "            \n",
       "            Bokeh.embed.embed_items(docs_json, render_items);\n",
       "        });\n",
       "      },\n",
       "      function(Bokeh) {\n",
       "      }\n",
       "    ];\n",
       "  \n",
       "    function run_inline_js() {\n",
       "      for (var i = 0; i < inline_js.length; i++) {\n",
       "        inline_js[i](window.Bokeh);\n",
       "      }\n",
       "    }\n",
       "  \n",
       "    if (window._bokeh_is_loading === 0) {\n",
       "      console.log(\"Bokeh: BokehJS loaded, going straight to plotting\");\n",
       "      run_inline_js();\n",
       "    } else {\n",
       "      load_libs(js_urls, function() {\n",
       "        console.log(\"Bokeh: BokehJS plotting callback run at\", now());\n",
       "        run_inline_js();\n",
       "      });\n",
       "    }\n",
       "  }(this));\n",
       "</script>"
      ]
     },
     "metadata": {},
     "output_type": "display_data"
    },
    {
     "data": {
      "text/html": [
       "<p><code>&lt;Bokeh Notebook handle for <strong>In[22]</strong>&gt;</code></p>"
      ],
      "text/plain": [
       "<bokeh.io._CommsHandle at 0x115598d50>"
      ]
     },
     "execution_count": 22,
     "metadata": {},
     "output_type": "execute_result"
    }
   ],
   "source": [
    "# Plotining using bokeh\n",
    "#TOOLS = [BoxSelectTool(), HoverTool()]\n",
    "#TOOLS = 'hover,box_zoom,box_select,crosshair,resize,reset,lasso_select,pan,save,poly_select,tap,wheel_zoom,undo'\n",
    "TOOLS = 'box_zoom,box_select,crosshair,resize,reset,lasso_select,pan,save,poly_select,tap,wheel_zoom,undo'\n",
    "p = figure(plot_width=500, plot_height=500, tools=TOOLS)\n",
    "p.scatter(Y, predicted,x=\"jjj\", marker=\"o\", color=\"#80B1D3\", line_width=3)\n",
    "p.title.align = \"center\"\n",
    "p.xaxis.axis_label = \"Measured\"\n",
    "p.xaxis.axis_label_text_color = \"#aa6666\"\n",
    "#p.xaxis.axis_label_standoff = 30\n",
    "p.xaxis.major_tick_line_color = \"firebrick\"\n",
    "p.xaxis.major_tick_line_width = 3\n",
    "p.xaxis.minor_tick_line_color = \"orange\"\n",
    "p.yaxis.axis_label = \"Predicted\"\n",
    "p.yaxis.axis_label_text_font_style = \"italic\"\n",
    "p.yaxis.axis_label_text_color = \"#aa6666\"\n",
    "p.background_fill_color = \"beige\"\n",
    "p.background_fill_alpha = 0.5\n",
    "#p.line([Y.min(), Y.max()], [Y.min(), Y.max()], line_dash=\"4 4\", line_width=2, color='red')\n",
    "\n",
    "# create a new plot with the toolbar below\n",
    "# line_dash=\"4 4\", line_width=2, color='red'\n",
    "p.line([Y.min(), Y.max()], [Y.min(), Y.max()], line_dash=\"4 4\", line_width=2, line_color=\"black\")\n",
    "show(p)"
   ]
  },
  {
   "cell_type": "code",
   "execution_count": 23,
   "metadata": {
    "collapsed": false
   },
   "outputs": [
    {
     "data": {
      "text/plain": [
       "<matplotlib.text.Text at 0x1181e4710>"
      ]
     },
     "execution_count": 23,
     "metadata": {},
     "output_type": "execute_result"
    },
    {
     "data": {
      "image/png": "[encoded data removed]",
      "text/plain": [
       "<matplotlib.figure.Figure at 0x118225110>"
      ]
     },
     "metadata": {},
     "output_type": "display_data"
    }
   ],
   "source": [
    "plt.scatter(predicted, (predicted - Y), c='r', s=30)\n",
    "plt.title(\"Residual plot on the training data\")\n",
    "plt.xlabel(\"Predicted\")\n",
    "plt.ylabel(\"Residuals\")"
   ]
  },
  {
   "cell_type": "code",
   "execution_count": 24,
   "metadata": {
    "collapsed": false
   },
   "outputs": [
    {
     "data": {
      "text/html": [
       "\n",
       "\n",
       "    <div class=\"bk-root\">\n",
       "        <div class=\"plotdiv\" id=\"e5adacfb-2cc7-464d-a020-b66d6b43f7c0\"></div>\n",
       "    </div>\n",
       "<script type=\"text/javascript\">\n",
       "  \n",
       "  (function(global) {\n",
       "    function now() {\n",
       "      return new Date();\n",
       "    }\n",
       "  \n",
       "    if (typeof (window._bokeh_onload_callbacks) === \"undefined\") {\n",
       "      window._bokeh_onload_callbacks = [];\n",
       "    }\n",
       "  \n",
       "    function run_callbacks() {\n",
       "      window._bokeh_onload_callbacks.forEach(function(callback) { callback() });\n",
       "      delete window._bokeh_onload_callbacks\n",
       "      console.info(\"Bokeh: all callbacks have finished\");\n",
       "    }\n",
       "  \n",
       "    function load_libs(js_urls, callback) {\n",
       "      window._bokeh_onload_callbacks.push(callback);\n",
       "      if (window._bokeh_is_loading > 0) {\n",
       "        console.log(\"Bokeh: BokehJS is being loaded, scheduling callback at\", now());\n",
       "        return null;\n",
       "      }\n",
       "      if (js_urls == null || js_urls.length === 0) {\n",
       "        run_callbacks();\n",
       "        return null;\n",
       "      }\n",
       "      console.log(\"Bokeh: BokehJS not loaded, scheduling load and callback at\", now());\n",
       "      window._bokeh_is_loading = js_urls.length;\n",
       "      for (var i = 0; i < js_urls.length; i++) {\n",
       "        var url = js_urls[i];\n",
       "        var s = document.createElement('script');\n",
       "        s.src = url;\n",
       "        s.async = false;\n",
       "        s.onreadystatechange = s.onload = function() {\n",
       "          window._bokeh_is_loading--;\n",
       "          if (window._bokeh_is_loading === 0) {\n",
       "            console.log(\"Bokeh: all BokehJS libraries loaded\");\n",
       "            run_callbacks()\n",
       "          }\n",
       "        };\n",
       "        s.onerror = function() {\n",
       "          console.warn(\"failed to load library \" + url);\n",
       "        };\n",
       "        console.log(\"Bokeh: injecting script tag for BokehJS library: \", url);\n",
       "        document.getElementsByTagName(\"head\")[0].appendChild(s);\n",
       "      }\n",
       "    };var element = document.getElementById(\"e5adacfb-2cc7-464d-a020-b66d6b43f7c0\");\n",
       "    if (element == null) {\n",
       "      console.log(\"Bokeh: ERROR: autoload.js configured with elementid 'e5adacfb-2cc7-464d-a020-b66d6b43f7c0' but no matching script tag was found. \")\n",
       "      return false;\n",
       "    }\n",
       "  \n",
       "    var js_urls = [];\n",
       "  \n",
       "    var inline_js = [\n",
       "      function(Bokeh) {\n",
       "        Bokeh.$(function() {\n",
       "            var docs_json = {\"a883acc1-2dec-427e-9b45-3f323797fa05\":{\"roots\":{\"references\":[{\"attributes\":{\"callback\":null,\"column_names\":[\"x\",\"y\"],\"data\":{\"x\":[30.89185425619952,22.123666490033393,27.51129696044798,24.190292980994258,7.331514752073819,13.793998481919392,22.071109954191083,27.97730745846753,33.508782114504214,11.417056380701489,21.409984171160474,20.71016483745375,13.746906180643935,22.89960628262447,6.329838538740923,21.34168789488158,8.515846691311513,41.749500501400675,31.288131375186047,11.461963442583423,18.24708299546346,21.24468062813999,23.23330511871681,18.848079332951624,31.97002902388379,15.124416700123838,20.90572841307268,33.52111027987115,19.019806422182626,14.319733917300251,17.52723138944324,23.52903989898082,15.781453272940942,30.326608367061596,24.119516973091635,16.562019898034336,25.747661883580378,10.863839506990008,14.983326181136276,20.53462445662988,31.197535174801878,28.561036788120173,26.10209169627639,16.53156424813298,31.779732685790528,29.053037646986198,14.131274145154268,6.678861172184019,28.823039316126017,26.37542078920952,3.9890783001657653,27.102160705626023,18.078624485373314,30.289848102978077,18.7749849545915,16.172170510780596,18.902533866550435,12.77179072939329,10.204462220314085,20.232438826580722,33.58293746144887,32.43161742058736,26.080524857940638,20.10160870089775,23.138389643181167,26.667360705546155,22.536450478453908,16.799815900911423,31.7483468557431,10.094971540780339,19.243802083414245,33.028127089132134,18.27600702806786,15.387332652381579,18.404574160699184,14.193837358587604,23.86166192009367,24.78782253567961,17.329340620806473,16.64582135897627,20.288830065656125,25.753744943578358,16.60894221875375,25.43272829293421,23.68428860535149,28.66934587112308,34.163639009903775,17.65863996732579,13.263104747002789,33.62256083681589,30.52649525287602,21.17309573812776,38.217452489041115,27.172909900108937,28.273706436306774,17.33034336952493,26.21805485495754,38.412655418027576,27.05483317622368,17.124297283916984,36.32168808923112,35.865248889773795,16.496169538496304,29.286462957991958,24.23820956780504,25.414639829552943,21.32769160264012,24.705777982825772,27.381859924512526,28.572229874796747,15.932090485254083,25.383786474796395,22.87754287266819,13.448748749544777,14.458272125171197,25.353525096756435,18.866175041329015,31.030233298775418,10.971990962360914,21.456970542128435,17.83930372810167,20.16267558311298,24.515291442373275,23.431577073192905,12.444331468547329,25.13536007303231,28.253754806196664,20.192247411732346,12.967522972828688,25.532738917540303,25.000317117444727,28.33244635841298,23.80768700214685,26.85283108219285,17.575758992276263,20.05921972457446,34.8465725953849,20.68431883786477,38.44959164290129,26.62731250907831,22.862095186166332,16.994969203405926,32.21579364556567,25.773467816772076,25.33641835787361,12.30511692425473,31.568197017631995,14.555832256609243,-0.7248352160443439,19.152758723335282,12.519322244338838,38.384831672478086,17.269326990957907,14.729812292282958,27.54800291576111,23.591254217837434,18.5353576466514,31.043112577291428,25.897368709281317,26.715196532571248,23.672114427000533,24.43991372139082,22.590601721457762,11.568866694046598,22.272538215883714,10.579208049590392,21.168161896504166,13.750763044230432,27.936340496642302,16.538363069895414,14.984607688232149,29.615766631001065,17.205144092968013,21.274489903645048,11.759385851926174,14.38543636124546,21.794906853593684,20.85126681473151,16.84600955728383,24.412629660510344,19.15143153066104,24.096890026044974,12.150314336390263,33.68788163704348,11.303242353512573,39.21654089422956,30.432403394058017,33.62196613570269,22.480806792209854,17.001557042686425,25.261181259038658,28.262204540275835,14.658712312492302,26.88563214177435,37.71329621750671,16.21520039162069,9.892057705533626,31.521210382748997,32.96060532886603,18.556796969036537,22.656565954796605,18.618813103465733,24.589006422472572,20.721683162495808,26.841188579424177,-0.7838573532449296,20.455631855480604,33.89382607860645,36.665478770839705,24.640664188878837,27.37276048848767,20.26070349472357,20.37563524159962,18.03907907557575,23.03137023400521,21.701180398079657,28.068811169373976,19.313148579775795,7.054194635496014,17.012677096035336,31.880229048535163,33.76844686584144,17.516470986890774,19.047141822450843,23.641917990370274,13.007330142989582,22.96941864622621,25.12780832258969,15.88342740981512,18.89675017750517,23.26938986242025,28.126283249219135,24.154178549252087,35.815374535356526,16.550232672900634,29.691812816242027,28.13689808987268,20.73739285748225,37.10755029847874,21.90797672098257,23.238120658164686,21.018552790226266,21.11112170320079,19.183618962480846,31.27425391668921,25.070851671958035,18.29773443104962,31.883039355485202,23.641991469718455,27.89877275062228,28.794515091218607,35.7171398465774,24.013904711293467,24.88723001849302,21.906595932951994,31.19426537846707,20.879270388484432,18.74815732784845,22.666057070967238,28.95899226727672,20.96564134363695,22.461585564507526,16.149472273223854,17.707811323443202,17.37904343008186,17.139392883456033,15.336068762225688,30.268493219337508,24.486738433535603,18.108536030328906,21.121679133840548,31.929476949719856,15.032940456421182,25.244148910148457,18.19215481233853,30.810772919754985,28.632146692305668,18.46306202113657,19.58466578098499,35.30757974396116,26.75344106311566,30.597035151542755,19.919618115715828,30.493066964194174,28.450608232987854,34.52878188939329,24.676961961959332,20.54453690579081,28.29168979044935,15.703058160595713,27.167400479296454,22.538393462192133,26.855801489778113,10.391376874734952,32.227463687956075,3.772013206876096,14.467771043694162,18.108589800307023,32.874393056301784,30.812044559525788,12.490702926912821,14.724482682892589,23.479203837309957,32.731475206364266,18.08052166541746,20.56112293495169,16.15806601056726,26.080123180908785,39.491104001828276,25.604484231872128,37.26488538052293,25.049604003304214,20.88427943584329,15.197598816493937,12.449466982536814,14.595464357394874,18.771846372419155,2.489359150047054,26.936198323472777,25.57892844315753,38.70085756073817,21.084947791631294,20.954695415054122,30.52425672595472,32.47117291966609,10.646714958552217,24.981232939676463,41.80144232056674,16.34306863401511,17.731361822226045,26.049987572181777,17.87772348923368,5.663581771587456,18.337223875005257,32.78125924377562,17.35281273491616,22.485984603307923,12.752456226191615,25.03687919958845,18.819595901911555,17.471203034930397,19.67191045110325,30.32237156674826,20.882115217161175,29.03353904261767,29.47799355083879,40.20283438845344,21.119249589879413,18.54165520644257,36.968774232402936,19.159148367435648,10.936749208267761,15.90928773070978,23.568197479563604,18.520474930333048,16.75648414995573,27.17225391766449,12.782816735892407,6.890066477524712,19.197994669389953,11.682888948768088,28.792655771489784,7.830114090204248,28.378004359137364,32.33154271108405,22.23824683782371,16.853012739241482,17.995745454382142,21.749976062314104,33.601839948295535,28.28541837018937,19.556428258055387,21.165052129268403,7.931136060286285,27.14264480136591,25.200116227640052,23.71034732744374,14.991865327924856,26.770393462503733,20.114847906661506,12.233529861464394,25.739658558447392,19.86831985992918,28.9768792131273,31.90697541080953,26.03461305505779,17.80076997782117,30.93643441929212,20.773378587333315,25.960887533804982,25.37767639612101,28.303751761469684,25.141529725297758,32.46575310128983,16.106586311910196,21.70250811610392,18.935424737263553,38.66139505314828,26.435879689335387,19.985273215830503,34.317208065112375,24.365723896901034,19.368489630760138,22.168334041714584],\"y\":[4.19185425619952,0.4236664900333942,5.511296960447979,1.2902929809942592,-3.0684852479261817,-8.106001518080607,1.471109954191082,1.57730745846753,-7.791217885495783,-5.782943619298511,-5.6900158288395275,0.3101648374537511,-2.7530938193560655,-1.5003937173755268,-2.0701614612590777,-1.6583121051184193,-1.1841533086884866,-8.250499498599325,0.7881313751860475,-0.8380365574165776,-1.152917004536537,0.04468062813998941,2.9333051187168095,0.048079332951623144,-1.4299709761162092,-3.375583299876162,1.3057284130726785,0.3211102798711494,5.919806422182626,6.819733917300251,3.927231389443241,6.129039898980821,7.3814532729409414,-5.073391632938403,0.11951697309163478,3.1620198980343357,-0.4523381164196216,3.6638395069900076,1.883326181136276,-3.9653755433701185,-6.002464825198125,3.561036788120173,2.0020916962763877,-0.06843575186702111,-1.120267314209471,-7.146962353013805,3.1312741451542685,-0.5211388278159808,6.023039316126017,-2.3245792107904784,-10.410921699834235,2.7021607056260244,-0.021375514626686964,7.789848102978077,-1.725015045408501,0.9721705107805967,1.5025338665504364,-0.8282092706067097,1.5044622203140854,2.032438826580723,-1.8170625385511272,0.7316174205873587,-6.919475142059362,-2.09839129910225,2.7383896431811685,2.7673607055461567,-2.463549521546092,4.099815900911423,2.6483468557430996,-1.9050284592196611,1.5438020834142456,6.028127089132134,-2.3239929719321424,5.1873326523815795,0.904574160699184,-5.506162641412395,-5.93833807990633,4.287822535679609,2.4293406208064727,5.74582135897627,0.7888300656561249,3.0537449435783586,-2.89105778124625,0.8327282929342097,-1.3157113946485097,4.169345871123081,-15.836360990096225,3.3586399673257894,1.463104747002788,2.622560836815893,1.8264952528760219,4.9730957381277605,-5.282547510958885,2.1729099001089374,6.2737064363067745,-2.5696566304750696,4.118054854957538,-7.587344581972424,4.154833176223683,-3.075702716083015,-6.778311910768885,1.265248889773794,2.696169538496303,4.986462957991957,2.7382095678050398,1.0146398295529444,0.12769160264011958,0.9057779828257715,0.7818599245125242,3.4722298747967457,6.332090485254083,5.983786474796396,3.4775428726681916,3.9487487495447766,0.458272125171197,-1.1464749032435648,5.066175041329014,-3.669766701224585,-5.328009037639086,-0.2430294578715646,0.33930372810166887,4.562675583112979,3.6152914423732767,1.7315770731929057,-0.2556685314526703,6.6353600730323095,4.553754806196665,0.8922474117323453,0.2675229728286883,3.932738917540302,1.8003171174447274,-1.2675536415870212,2.60768700214685,3.0528310821928493,0.47575899227626195,-1.9407802754255385,-1.6534274046151012,1.8843188378647682,16.54959164290129,3.527312509078307,2.662095186166333,-0.4050307965940725,-4.784206354434332,1.6734678167720745,-10.863581642126391,-3.3948830757452697,-0.6318029823680078,1.0558322566092428,-18.624835216044342,5.852758723335281,0.8193222443388386,-3.315168327521917,-1.1306730090420913,1.629812292282958,2.54800291576111,2.391254217837435,2.5353576466513985,-3.8568874227085708,0.6973687092813172,1.9151965325712474,2.1721144270005333,1.0399137213908212,3.6906017214577638,0.7688666940465971,1.2725382158837135,-16.92079195040961,3.6681618965041665,0.25076304423043183,-0.7636595033576974,1.7383630698954136,-4.115392311767852,1.015766631001064,4.105144092968013,2.2744899036450477,0.4593858519261733,1.0854363612454598,-0.6050931464063147,0.7512668147315082,-1.3539904427161709,1.5126296605103455,-1.4485684693389622,-0.9031099739550257,-0.6496856636097377,-1.2121183629565166,-12.396757646487426,-10.78345910577044,1.4324033940580172,3.521966135702691,0.48080679220985445,1.4015570426864254,1.961181259038657,-1.8377954597241661,0.35871231249230107,4.085632141774351,-12.28670378249329,-4.58479960837931,3.592057705533626,-3.3787896172510017,0.560605328866032,-1.343203030963462,2.3565659547966042,0.8188131034657324,1.4890064224725705,0.32168316249580897,3.6411885794241776,-7.7838573532449296,3.6556318554806033,-12.806173921393551,-13.334521229160295,1.7406641888788386,3.4727604884876726,-1.1392965052764303,-1.3243647584003782,2.639079075575749,7.731370234005208,-1.3988196019203443,4.168811169373978,-0.08685142022420322,-4.8458053645039865,-0.7873229039646645,0.38022904853516337,-0.03155313415855687,-3.283529013109227,-0.7528581775491574,1.2419179903702755,8.007330142989582,-1.5305813537737905,5.727808322589691,0.7834274098151202,0.6967501775051694,3.9693898624202504,1.0262832492191336,3.454178549252088,-1.7846254646434758,4.850232672900635,-3.708187183757971,-1.963101910127321,-0.66260714251775,-8.292449701521257,1.8079767209825697,2.438120658164685,-5.381447209773732,10.71112170320079,-2.6163810375191545,-0.7257460833107885,3.370851671958036,-0.1022655689503793,-6.016960644514796,5.8419914697184545,-0.10122724937772176,0.5945150912186072,-0.28286015342259674,5.113904711293468,9.887230018493021,-0.5934040670480059,0.49426537846706964,0.8792703884844322,-0.35184267215155174,-0.633942929032763,2.3589922672767187,-0.13435865636305167,2.761585564507527,-3.8505277267761464,5.607811323443203,10.179043430081862,2.9393928834560334,-1.9639312377743128,2.7684932193375076,2.2867384335356036,7.208536030328906,1.9216791338405486,-0.07052305028014416,0.5329404564211817,0.5441489101484578,5.59215481233853,6.810772919754985,4.532146692305666,-31.53693797886343,3.48466578098499,-8.492420256038834,0.15344106311565753,-5.502964848457246,-1.8803818842841729,0.5930669641941755,-21.549391767012146,-9.471218110606713,4.076961961959331,0.9445369057908088,-0.1083102095506483,-3.3969418394042883,4.867400479296453,1.638393462192134,-1.5441985102218858,-4.008623125265048,-0.4725363120439283,-10.027986793123905,5.967771043694162,-4.391410199692977,-2.2256069436982173,-0.7879554404742137,-5.30929707308718,-0.8755173171074109,2.7792038373099572,-7.068524793635731,0.28052166541746004,0.961122934951689,1.2580660105672603,4.080123180908785,-9.308895998171721,0.604484231872128,-11.235114619477073,1.1496040033042156,0.584279435843289,-0.002401183506062665,1.9494669825368138,-4.404535642605126,2.3718463724191565,-6.3106408499529465,4.936198323472777,0.778928443157529,-11.299142439261828,1.7849477916312928,-1.7453045849458775,-6.775743274045276,0.8711729196660869,2.346714958552216,1.8812329396764618,-8.198557679433257,2.443068634015111,1.6313618222260438,0.7499875721817766,-1.6222765107663193,-4.536418228412543,-1.5627761249947412,-2.4187407562243806,3.9528127349161597,-2.2140153966920764,1.2524562261916152,1.6368791995884528,2.1195959019115556,2.071203034930397,1.6719104511032512,1.8223715667482594,2.4821152171611764,-3.4664609573823313,-20.52200644916121,-9.79716561154656,1.5192495898794114,0.9416552064425687,-5.331225767597061,4.659148367435648,-2.263250791732238,-0.29071226929021954,-6.031802520436397,1.8204749303330487,3.7564841499557318,4.872253917664491,-0.6171832641075934,1.8900664775247122,-0.3020053306100472,-2.9171110512319114,6.792655771489784,-0.269885909795752,3.7780043591373627,-0.8684572889159554,1.6382468378237078,2.7530127392414823,3.8957454543821424,0.6499760623141029,3.301839948295534,4.58541837018937,-1.8435717419446114,2.8650521292684026,-0.5688639397137152,4.3426448013659105,2.4001162276400514,1.5103473274437391,1.0918653279248556,1.7703934625037334,1.614847906661506,5.233529861464394,3.1396585584473904,-0.2316801400708215,-1.8231207868726997,0.8069754108095282,2.234613055057789,5.300769977821169,7.336434419292118,-2.426621412666684,1.7608875338049828,3.1776763961210115,0.4037517614696853,2.941529725297759,-0.6342468987101739,-3.193413688089805,2.8025081161039225,-3.6645752627364487,-11.338604946851717,1.6358796893353862,1.485273215830503,-2.0827919348876236,5.165723896901035,2.7684896307601363,-0.9316659582854179]}},\"id\":\"496d4a6f-207c-4a0e-b17c-fd7935e1c6c1\",\"type\":\"ColumnDataSource\"},{\"attributes\":{\"align\":\"center\",\"plot\":null,\"text\":\"Residual plot on the training data\"},\"id\":\"415555c9-f163-46df-b1c0-d6ef955f24f5\",\"type\":\"Title\"},{\"attributes\":{},\"id\":\"c06aa2fc-73cf-4dac-8f26-79020b0ec5b0\",\"type\":\"BasicTicker\"},{\"attributes\":{\"bottom_units\":\"screen\",\"fill_alpha\":{\"value\":0.5},\"fill_color\":{\"value\":\"lightgrey\"},\"left_units\":\"screen\",\"level\":\"overlay\",\"line_alpha\":{\"value\":1.0},\"line_color\":{\"value\":\"black\"},\"line_dash\":[4,4],\"line_width\":{\"value\":2},\"plot\":null,\"render_mode\":\"css\",\"right_units\":\"screen\",\"top_units\":\"screen\"},\"id\":\"4cd71e36-45e2-4b66-9fab-3b79c9f4015e\",\"type\":\"BoxAnnotation\"},{\"attributes\":{\"plot\":{\"id\":\"357db230-4ac1-405d-b6d4-4b4be632ea23\",\"subtype\":\"Figure\",\"type\":\"Plot\"}},\"id\":\"f4cb69af-d8c4-4040-ba4c-dcf2407e71af\",\"type\":\"CrosshairTool\"},{\"attributes\":{\"plot\":{\"id\":\"357db230-4ac1-405d-b6d4-4b4be632ea23\",\"subtype\":\"Figure\",\"type\":\"Plot\"}},\"id\":\"791e124e-4336-4134-ab77-9a255286265c\",\"type\":\"WheelZoomTool\"},{\"attributes\":{\"plot\":{\"id\":\"357db230-4ac1-405d-b6d4-4b4be632ea23\",\"subtype\":\"Figure\",\"type\":\"Plot\"}},\"id\":\"2931b176-d687-4380-8b9c-87e1ba7c3155\",\"type\":\"ResetTool\"},{\"attributes\":{\"fill_alpha\":{\"value\":0.5},\"fill_color\":{\"value\":\"lightgrey\"},\"level\":\"overlay\",\"line_alpha\":{\"value\":1.0},\"line_color\":{\"value\":\"black\"},\"line_dash\":[4,4],\"line_width\":{\"value\":2},\"plot\":null,\"xs_units\":\"screen\",\"ys_units\":\"screen\"},\"id\":\"e74e9fab-1daa-4f0c-bb37-8e1d8414afc7\",\"type\":\"PolyAnnotation\"},{\"attributes\":{\"axis_label\":\"Residuals\",\"axis_label_text_color\":{\"value\":\"#aa6666\"},\"formatter\":{\"id\":\"b844eb8a-cb4d-44de-9ed0-d874dbdb8d0c\",\"type\":\"BasicTickFormatter\"},\"plot\":{\"id\":\"357db230-4ac1-405d-b6d4-4b4be632ea23\",\"subtype\":\"Figure\",\"type\":\"Plot\"},\"ticker\":{\"id\":\"c06aa2fc-73cf-4dac-8f26-79020b0ec5b0\",\"type\":\"BasicTicker\"}},\"id\":\"cd78e5de-1eec-4b02-aa8a-f240429ce85e\",\"type\":\"LinearAxis\"},{\"attributes\":{\"callback\":null},\"id\":\"e63de3c4-ff7e-43bd-b9df-24f5b6e645ab\",\"type\":\"DataRange1d\"},{\"attributes\":{\"plot\":{\"id\":\"357db230-4ac1-405d-b6d4-4b4be632ea23\",\"subtype\":\"Figure\",\"type\":\"Plot\"}},\"id\":\"f80e50cf-a506-4463-a476-d36dea74bea0\",\"type\":\"ResizeTool\"},{\"attributes\":{\"callback\":null,\"overlay\":{\"id\":\"8bdbe52f-204d-41e8-aab9-a6cc0468c934\",\"type\":\"PolyAnnotation\"},\"plot\":{\"id\":\"357db230-4ac1-405d-b6d4-4b4be632ea23\",\"subtype\":\"Figure\",\"type\":\"Plot\"}},\"id\":\"82df0f48-3284-45dd-8d9c-6fc92b68e7a5\",\"type\":\"LassoSelectTool\"},{\"attributes\":{},\"id\":\"9bf6ebea-fb43-4cba-a445-b0c72250dc71\",\"type\":\"BasicTickFormatter\"},{\"attributes\":{\"dimension\":1,\"plot\":{\"id\":\"357db230-4ac1-405d-b6d4-4b4be632ea23\",\"subtype\":\"Figure\",\"type\":\"Plot\"},\"ticker\":{\"id\":\"c06aa2fc-73cf-4dac-8f26-79020b0ec5b0\",\"type\":\"BasicTicker\"}},\"id\":\"dd98659b-a013-4c4f-914d-bcafdcd24593\",\"type\":\"Grid\"},{\"attributes\":{\"overlay\":{\"id\":\"8ca35812-bf54-4e83-86a0-acab59607b9c\",\"type\":\"BoxAnnotation\"},\"plot\":{\"id\":\"357db230-4ac1-405d-b6d4-4b4be632ea23\",\"subtype\":\"Figure\",\"type\":\"Plot\"}},\"id\":\"5259922f-12c1-4fb1-aaec-87b517bab6ce\",\"type\":\"BoxZoomTool\"},{\"attributes\":{\"plot\":{\"id\":\"357db230-4ac1-405d-b6d4-4b4be632ea23\",\"subtype\":\"Figure\",\"type\":\"Plot\"}},\"id\":\"03be0eaf-b254-461a-a1b9-45171744d10d\",\"type\":\"PanTool\"},{\"attributes\":{\"callback\":null},\"id\":\"c0602a3d-6a9c-41f1-bda0-24064584abeb\",\"type\":\"DataRange1d\"},{\"attributes\":{\"callback\":null,\"overlay\":{\"id\":\"4cd71e36-45e2-4b66-9fab-3b79c9f4015e\",\"type\":\"BoxAnnotation\"},\"plot\":{\"id\":\"357db230-4ac1-405d-b6d4-4b4be632ea23\",\"subtype\":\"Figure\",\"type\":\"Plot\"},\"renderers\":[{\"id\":\"409bf3e8-547f-4f72-9598-be2c14ae1488\",\"type\":\"GlyphRenderer\"}]},\"id\":\"369e0bf3-1abf-4dfc-81b7-63b6287ce56f\",\"type\":\"BoxSelectTool\"},{\"attributes\":{\"fill_alpha\":{\"value\":0.1},\"fill_color\":{\"value\":\"#1f77b4\"},\"line_alpha\":{\"value\":0.1},\"line_color\":{\"value\":\"#1f77b4\"},\"line_width\":{\"value\":3},\"x\":{\"field\":\"x\"},\"y\":{\"field\":\"y\"}},\"id\":\"29060523-c497-4e8e-b313-40d2f8c76c42\",\"type\":\"Circle\"},{\"attributes\":{\"overlay\":{\"id\":\"e74e9fab-1daa-4f0c-bb37-8e1d8414afc7\",\"type\":\"PolyAnnotation\"},\"plot\":{\"id\":\"357db230-4ac1-405d-b6d4-4b4be632ea23\",\"subtype\":\"Figure\",\"type\":\"Plot\"}},\"id\":\"62c4573a-7ddd-4a0e-8e27-c4311efbcf6d\",\"type\":\"PolySelectTool\"},{\"attributes\":{\"fill_color\":{\"value\":\"#80B1D3\"},\"line_color\":{\"value\":\"#80B1D3\"},\"line_width\":{\"value\":3},\"x\":{\"field\":\"x\"},\"y\":{\"field\":\"y\"}},\"id\":\"65083510-6cb1-4ae2-a543-de15ffdde539\",\"type\":\"Circle\"},{\"attributes\":{\"plot\":{\"id\":\"357db230-4ac1-405d-b6d4-4b4be632ea23\",\"subtype\":\"Figure\",\"type\":\"Plot\"}},\"id\":\"70f127fa-0a6b-4596-b7f9-ebce3edf10ad\",\"type\":\"SaveTool\"},{\"attributes\":{\"axis_label\":\"Predicted\",\"axis_label_text_color\":{\"value\":\"#aa6666\"},\"formatter\":{\"id\":\"9bf6ebea-fb43-4cba-a445-b0c72250dc71\",\"type\":\"BasicTickFormatter\"},\"major_tick_line_color\":{\"value\":\"firebrick\"},\"major_tick_line_width\":{\"value\":3},\"minor_tick_line_color\":{\"value\":\"orange\"},\"plot\":{\"id\":\"357db230-4ac1-405d-b6d4-4b4be632ea23\",\"subtype\":\"Figure\",\"type\":\"Plot\"},\"ticker\":{\"id\":\"1de01083-d121-4e6c-9383-e75cb9f8f38b\",\"type\":\"BasicTicker\"}},\"id\":\"4a0d3aea-93e9-4c35-a32d-8675a427a94a\",\"type\":\"LinearAxis\"},{\"attributes\":{\"background_fill_alpha\":{\"value\":0.5},\"background_fill_color\":{\"value\":\"beige\"},\"below\":[{\"id\":\"4a0d3aea-93e9-4c35-a32d-8675a427a94a\",\"type\":\"LinearAxis\"}],\"left\":[{\"id\":\"cd78e5de-1eec-4b02-aa8a-f240429ce85e\",\"type\":\"LinearAxis\"}],\"plot_height\":500,\"plot_width\":500,\"renderers\":[{\"id\":\"4a0d3aea-93e9-4c35-a32d-8675a427a94a\",\"type\":\"LinearAxis\"},{\"id\":\"bde46e43-9948-498b-af58-652fab55c5fc\",\"type\":\"Grid\"},{\"id\":\"cd78e5de-1eec-4b02-aa8a-f240429ce85e\",\"type\":\"LinearAxis\"},{\"id\":\"dd98659b-a013-4c4f-914d-bcafdcd24593\",\"type\":\"Grid\"},{\"id\":\"8ca35812-bf54-4e83-86a0-acab59607b9c\",\"type\":\"BoxAnnotation\"},{\"id\":\"4cd71e36-45e2-4b66-9fab-3b79c9f4015e\",\"type\":\"BoxAnnotation\"},{\"id\":\"8bdbe52f-204d-41e8-aab9-a6cc0468c934\",\"type\":\"PolyAnnotation\"},{\"id\":\"e74e9fab-1daa-4f0c-bb37-8e1d8414afc7\",\"type\":\"PolyAnnotation\"},{\"id\":\"409bf3e8-547f-4f72-9598-be2c14ae1488\",\"type\":\"GlyphRenderer\"}],\"title\":{\"id\":\"415555c9-f163-46df-b1c0-d6ef955f24f5\",\"type\":\"Title\"},\"tool_events\":{\"id\":\"41448791-78a7-4fc6-b253-e3bb80b642b7\",\"type\":\"ToolEvents\"},\"toolbar\":{\"id\":\"2d8195ef-6be1-49a5-8c7a-03ac880cbaf2\",\"type\":\"Toolbar\"},\"x_range\":{\"id\":\"c0602a3d-6a9c-41f1-bda0-24064584abeb\",\"type\":\"DataRange1d\"},\"y_range\":{\"id\":\"e63de3c4-ff7e-43bd-b9df-24f5b6e645ab\",\"type\":\"DataRange1d\"}},\"id\":\"357db230-4ac1-405d-b6d4-4b4be632ea23\",\"subtype\":\"Figure\",\"type\":\"Plot\"},{\"attributes\":{\"callback\":null,\"plot\":{\"id\":\"357db230-4ac1-405d-b6d4-4b4be632ea23\",\"subtype\":\"Figure\",\"type\":\"Plot\"}},\"id\":\"dcf3cc40-8301-4d4b-a43e-2968bb44abd1\",\"type\":\"TapTool\"},{\"attributes\":{},\"id\":\"1de01083-d121-4e6c-9383-e75cb9f8f38b\",\"type\":\"BasicTicker\"},{\"attributes\":{\"plot\":{\"id\":\"357db230-4ac1-405d-b6d4-4b4be632ea23\",\"subtype\":\"Figure\",\"type\":\"Plot\"}},\"id\":\"98039338-7277-4644-a266-9a9e27ea016d\",\"type\":\"UndoTool\"},{\"attributes\":{\"fill_alpha\":{\"value\":0.5},\"fill_color\":{\"value\":\"lightgrey\"},\"level\":\"overlay\",\"line_alpha\":{\"value\":1.0},\"line_color\":{\"value\":\"black\"},\"line_dash\":[4,4],\"line_width\":{\"value\":2},\"plot\":null,\"xs_units\":\"screen\",\"ys_units\":\"screen\"},\"id\":\"8bdbe52f-204d-41e8-aab9-a6cc0468c934\",\"type\":\"PolyAnnotation\"},{\"attributes\":{\"bottom_units\":\"screen\",\"fill_alpha\":{\"value\":0.5},\"fill_color\":{\"value\":\"lightgrey\"},\"left_units\":\"screen\",\"level\":\"overlay\",\"line_alpha\":{\"value\":1.0},\"line_color\":{\"value\":\"black\"},\"line_dash\":[4,4],\"line_width\":{\"value\":2},\"plot\":null,\"render_mode\":\"css\",\"right_units\":\"screen\",\"top_units\":\"screen\"},\"id\":\"8ca35812-bf54-4e83-86a0-acab59607b9c\",\"type\":\"BoxAnnotation\"},{\"attributes\":{\"plot\":{\"id\":\"357db230-4ac1-405d-b6d4-4b4be632ea23\",\"subtype\":\"Figure\",\"type\":\"Plot\"},\"ticker\":{\"id\":\"1de01083-d121-4e6c-9383-e75cb9f8f38b\",\"type\":\"BasicTicker\"}},\"id\":\"bde46e43-9948-498b-af58-652fab55c5fc\",\"type\":\"Grid\"},{\"attributes\":{\"active_drag\":\"auto\",\"active_scroll\":\"auto\",\"active_tap\":\"auto\",\"tools\":[{\"id\":\"5259922f-12c1-4fb1-aaec-87b517bab6ce\",\"type\":\"BoxZoomTool\"},{\"id\":\"369e0bf3-1abf-4dfc-81b7-63b6287ce56f\",\"type\":\"BoxSelectTool\"},{\"id\":\"f4cb69af-d8c4-4040-ba4c-dcf2407e71af\",\"type\":\"CrosshairTool\"},{\"id\":\"f80e50cf-a506-4463-a476-d36dea74bea0\",\"type\":\"ResizeTool\"},{\"id\":\"2931b176-d687-4380-8b9c-87e1ba7c3155\",\"type\":\"ResetTool\"},{\"id\":\"82df0f48-3284-45dd-8d9c-6fc92b68e7a5\",\"type\":\"LassoSelectTool\"},{\"id\":\"03be0eaf-b254-461a-a1b9-45171744d10d\",\"type\":\"PanTool\"},{\"id\":\"70f127fa-0a6b-4596-b7f9-ebce3edf10ad\",\"type\":\"SaveTool\"},{\"id\":\"62c4573a-7ddd-4a0e-8e27-c4311efbcf6d\",\"type\":\"PolySelectTool\"},{\"id\":\"dcf3cc40-8301-4d4b-a43e-2968bb44abd1\",\"type\":\"TapTool\"},{\"id\":\"791e124e-4336-4134-ab77-9a255286265c\",\"type\":\"WheelZoomTool\"},{\"id\":\"98039338-7277-4644-a266-9a9e27ea016d\",\"type\":\"UndoTool\"}]},\"id\":\"2d8195ef-6be1-49a5-8c7a-03ac880cbaf2\",\"type\":\"Toolbar\"},{\"attributes\":{},\"id\":\"41448791-78a7-4fc6-b253-e3bb80b642b7\",\"type\":\"ToolEvents\"},{\"attributes\":{\"data_source\":{\"id\":\"496d4a6f-207c-4a0e-b17c-fd7935e1c6c1\",\"type\":\"ColumnDataSource\"},\"glyph\":{\"id\":\"65083510-6cb1-4ae2-a543-de15ffdde539\",\"type\":\"Circle\"},\"hover_glyph\":null,\"nonselection_glyph\":{\"id\":\"29060523-c497-4e8e-b313-40d2f8c76c42\",\"type\":\"Circle\"},\"selection_glyph\":null},\"id\":\"409bf3e8-547f-4f72-9598-be2c14ae1488\",\"type\":\"GlyphRenderer\"},{\"attributes\":{},\"id\":\"b844eb8a-cb4d-44de-9ed0-d874dbdb8d0c\",\"type\":\"BasicTickFormatter\"}],\"root_ids\":[\"357db230-4ac1-405d-b6d4-4b4be632ea23\"]},\"title\":\"Bokeh Application\",\"version\":\"0.12.0\"}};\n",
       "            var render_items = [{\"docid\":\"a883acc1-2dec-427e-9b45-3f323797fa05\",\"elementid\":\"e5adacfb-2cc7-464d-a020-b66d6b43f7c0\",\"modelid\":\"357db230-4ac1-405d-b6d4-4b4be632ea23\",\"notebook_comms_target\":\"c87e8bd9-f001-4309-834b-a88b49fed316\"}];\n",
       "            \n",
       "            Bokeh.embed.embed_items(docs_json, render_items);\n",
       "        });\n",
       "      },\n",
       "      function(Bokeh) {\n",
       "      }\n",
       "    ];\n",
       "  \n",
       "    function run_inline_js() {\n",
       "      for (var i = 0; i < inline_js.length; i++) {\n",
       "        inline_js[i](window.Bokeh);\n",
       "      }\n",
       "    }\n",
       "  \n",
       "    if (window._bokeh_is_loading === 0) {\n",
       "      console.log(\"Bokeh: BokehJS loaded, going straight to plotting\");\n",
       "      run_inline_js();\n",
       "    } else {\n",
       "      load_libs(js_urls, function() {\n",
       "        console.log(\"Bokeh: BokehJS plotting callback run at\", now());\n",
       "        run_inline_js();\n",
       "      });\n",
       "    }\n",
       "  }(this));\n",
       "</script>"
      ]
     },
     "metadata": {},
     "output_type": "display_data"
    },
    {
     "data": {
      "text/html": [
       "<p><code>&lt;Bokeh Notebook handle for <strong>In[24]</strong>&gt;</code></p>"
      ],
      "text/plain": [
       "<bokeh.io._CommsHandle at 0x118225390>"
      ]
     },
     "execution_count": 24,
     "metadata": {},
     "output_type": "execute_result"
    }
   ],
   "source": [
    "# Plotining using bokeh\n",
    "#TOOLS = 'hover,box_zoom,box_select,crosshair,resize,reset,lasso_select,pan,save,poly_select,tap,wheel_zoom,undo'\n",
    "TOOLS = 'box_zoom,box_select,crosshair,resize,reset,lasso_select,pan,save,poly_select,tap,wheel_zoom,undo'\n",
    "p = figure(plot_width=500, plot_height=500, title=\"Residual plot on the training data\", tools=TOOLS)\n",
    "p.scatter(predicted, (predicted - Y),x=\"jjj\", marker=\"o\", color=\"#80B1D3\", line_width=3)\n",
    "p.title.align = \"center\"\n",
    "p.xaxis.axis_label = \"Predicted\"\n",
    "p.xaxis.axis_label_text_color = \"#aa6666\"\n",
    "#p.xaxis.axis_label_standoff = 30\n",
    "p.xaxis.major_tick_line_color = \"firebrick\"\n",
    "p.xaxis.major_tick_line_width = 3\n",
    "p.xaxis.minor_tick_line_color = \"orange\"\n",
    "p.yaxis.axis_label = \"Residuals\"\n",
    "p.yaxis.axis_label_text_font_style = \"italic\"\n",
    "p.yaxis.axis_label_text_color = \"#aa6666\"\n",
    "p.background_fill_color = \"beige\"\n",
    "p.background_fill_alpha = 0.5\n",
    "#p.line([2,38], [0, 0], line_dash=\"4 4\", line_width=2, color='red')\n",
    "show(p)"
   ]
  },
  {
   "cell_type": "markdown",
   "metadata": {},
   "source": [
    "## Pipeline"
   ]
  },
  {
   "cell_type": "markdown",
   "metadata": {},
   "source": [
    "The best to deliver the model by pipeline the operation then at deployment can be done in one model."
   ]
  },
  {
   "cell_type": "markdown",
   "metadata": {
    "collapsed": true
   },
   "source": [
    "  I used two ways to check the pipeline so any one can be fine"
   ]
  },
  {
   "cell_type": "code",
   "execution_count": 25,
   "metadata": {
    "collapsed": false
   },
   "outputs": [
    {
     "name": "stdout",
     "output_type": "stream",
     "text": [
      "0.753139956886\n",
      "Scoring according to mean_squared_error\n",
      "[-16.13103463 -15.12849841 -19.86391931 -24.89255139 -21.82933675\n",
      " -23.23258451 -41.65788577 -34.57007854 -22.51270839 -11.62995874]\n",
      "\n",
      " Mean      Standard deviation\n",
      "-23.14      8.57\n",
      "[ True  True  True  True  True  True  True  True  True  True  True  True\n",
      "  True]\n",
      "R-squared =  0.753139956886\n"
     ]
    }
   ],
   "source": [
    "# Use Pipeline\n",
    "# ANOVA \n",
    "from sklearn.pipeline import Pipeline\n",
    "from sklearn.feature_selection import SelectKBest, f_regression\n",
    "anova_filter = SelectKBest(f_regression, k=13)\n",
    "LR = Lasso(alpha = 0.26315789473684209, precompute = False)\n",
    "anova_LinReg = Pipeline([('scaler_Input',scaler), ('anova', anova_filter), ('LinReg', LR)])\n",
    "# You can set the parameters using the names issued\n",
    "# For instance, fit using a k of 10 in the SelectKBest\n",
    "anova_LinReg.set_params(anova__k=13).fit(new_data, Y)\n",
    "prediction = anova_LinReg.predict(new_data)\n",
    "print anova_LinReg.score(new_data, Y)                        \n",
    "# getting the selected features chosen by anova_filter\n",
    "results = cross_validation.cross_val_score(anova_LinReg, new_data, Y, cv=kfold, scoring=scoring)\n",
    "print 'Scoring according to mean_squared_error'\n",
    "print results\n",
    "print '\\n Mean      Standard deviation'\n",
    "print(\"%.2f      %.2f\" % (results.mean(), results.std()))\n",
    "print anova_LinReg.named_steps['anova'].get_support()\n",
    "r_squared = r2_score(Y, prediction, multioutput='variance_weighted')\n",
    "print 'R-squared = ',r_squared"
   ]
  },
  {
   "cell_type": "code",
   "execution_count": 26,
   "metadata": {
    "collapsed": false
   },
   "outputs": [
    {
     "name": "stdout",
     "output_type": "stream",
     "text": [
      "R-squared =  0.753139956886\n"
     ]
    }
   ],
   "source": [
    "# Using make_pipeline\n",
    "from sklearn.pipeline import make_pipeline\n",
    "\n",
    "# ANOVA SVM-C\n",
    "# 1) anova filter, take 3 best ranked features\n",
    "anova_filter = SelectKBest(f_regression, k=13)\n",
    "anova_Lasso = make_pipeline(scaler, anova_filter, LR)\n",
    "anova_Lasso.fit(new_data, Y)\n",
    "prediction = anova_Lasso.predict(new_data)\n",
    "r_squared = r2_score(Y, prediction, multioutput='variance_weighted')\n",
    "print 'R-squared = ',r_squared"
   ]
  },
  {
   "cell_type": "markdown",
   "metadata": {},
   "source": [
    "### Save the Pipeline model for developement"
   ]
  },
  {
   "cell_type": "code",
   "execution_count": 27,
   "metadata": {
    "collapsed": false
   },
   "outputs": [
    {
     "data": {
      "text/plain": [
       "['anova_Lasso.pkl',\n",
       " 'anova_Lasso.pkl_01.npy',\n",
       " 'anova_Lasso.pkl_02.npy',\n",
       " 'anova_Lasso.pkl_03.npy',\n",
       " 'anova_Lasso.pkl_04.npy',\n",
       " 'anova_Lasso.pkl_05.npy',\n",
       " 'anova_Lasso.pkl_06.npy',\n",
       " 'anova_Lasso.pkl_07.npy']"
      ]
     },
     "execution_count": 27,
     "metadata": {},
     "output_type": "execute_result"
    }
   ],
   "source": [
    "# save the model scaler to the desk\n",
    "from sklearn.externals import joblib\n",
    "joblib.dump(anova_Lasso, 'anova_Lasso.pkl') "
   ]
  },
  {
   "cell_type": "code",
   "execution_count": 28,
   "metadata": {
    "collapsed": false
   },
   "outputs": [
    {
     "name": "stdout",
     "output_type": "stream",
     "text": [
      " =================================================================>>>>> done\n",
      "R-squared =  0.753139956886\n"
     ]
    }
   ],
   "source": [
    "# Test the model if it is work\n",
    "anova_LassoTest = joblib.load('anova_Lasso.pkl')\n",
    "NewPred = anova_LassoTest.predict(new_data)\n",
    "print \" =================================================================>>>>> done\"\n",
    "r_squared = r2_score(Y, NewPred, multioutput='variance_weighted')\n",
    "print 'R-squared = ',r_squared"
   ]
  },
  {
   "cell_type": "code",
   "execution_count": 29,
   "metadata": {
    "collapsed": false
   },
   "outputs": [
    {
     "name": "stdout",
     "output_type": "stream",
     "text": [
      "Point of training data before normalization\n",
      "[   1.23247    0.         8.14       0.         0.538      6.142     91.7\n",
      "    3.9769     4.       307.        21.       396.9       18.72   ]\n",
      "\n",
      "The read target of the data =  15.2\n",
      "\n",
      "The Predicted target of the data =  [ 16.73108349]\n"
     ]
    }
   ],
   "source": [
    "# test on single data point, randomly choose point number 55\n",
    "print 'Point of training data before normalization\\n',new_data[55]\n",
    "print '\\nThe read target of the data = ', Y[55]\n",
    "NewPred = anova_LassoTest.predict([new_data[55]])\n",
    "print '\\nThe Predicted target of the data = ', NewPred"
   ]
  },
  {
   "cell_type": "markdown",
   "metadata": {},
   "source": [
    "## Conclusion "
   ]
  }
 ],
 "metadata": {
  "kernelspec": {
   "display_name": "Python 2",
   "language": "python",
   "name": "python2"
  },
  "language_info": {
   "codemirror_mode": {
    "name": "ipython",
    "version": 2
   },
   "file_extension": ".py",
   "mimetype": "text/x-python",
   "name": "python",
   "nbconvert_exporter": "python",
   "pygments_lexer": "ipython2",
   "version": "2.7.11"
  }
 },
 "nbformat": 4,
 "nbformat_minor": 0
}
