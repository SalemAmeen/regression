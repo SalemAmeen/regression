{
 "cells": [
  {
   "cell_type": "markdown",
   "metadata": {},
   "source": [
    "Salem Ameen, PhD student at Salford University\n",
    "\n",
    "### Boston House price\n",
    "\n",
    "Decision trees Regression"
   ]
  },
  {
   "cell_type": "markdown",
   "metadata": {},
   "source": [
    "# Import the Libraries"
   ]
  },
  {
   "cell_type": "code",
   "execution_count": 1,
   "metadata": {
    "collapsed": false
   },
   "outputs": [
    {
     "data": {
      "text/html": [
       "\n",
       "    <div class=\"bk-root\">\n",
       "        <a href=\"http://bokeh.pydata.org\" target=\"_blank\" class=\"bk-logo bk-logo-small bk-logo-notebook\"></a>\n",
       "        <span id=\"d25e9153-8cc9-4fa0-8773-746a29f655e4\">Loading BokehJS ...</span>\n",
       "    </div>"
      ]
     },
     "metadata": {},
     "output_type": "display_data"
    },
    {
     "data": {
      "application/javascript": [
       "\n",
       "(function(global) {\n",
       "  function now() {\n",
       "    return new Date();\n",
       "  }\n",
       "\n",
       "  if (typeof (window._bokeh_onload_callbacks) === \"undefined\") {\n",
       "    window._bokeh_onload_callbacks = [];\n",
       "  }\n",
       "\n",
       "  function run_callbacks() {\n",
       "    window._bokeh_onload_callbacks.forEach(function(callback) { callback() });\n",
       "    delete window._bokeh_onload_callbacks\n",
       "    console.info(\"Bokeh: all callbacks have finished\");\n",
       "  }\n",
       "\n",
       "  function load_libs(js_urls, callback) {\n",
       "    window._bokeh_onload_callbacks.push(callback);\n",
       "    if (window._bokeh_is_loading > 0) {\n",
       "      console.log(\"Bokeh: BokehJS is being loaded, scheduling callback at\", now());\n",
       "      return null;\n",
       "    }\n",
       "    if (js_urls == null || js_urls.length === 0) {\n",
       "      run_callbacks();\n",
       "      return null;\n",
       "    }\n",
       "    console.log(\"Bokeh: BokehJS not loaded, scheduling load and callback at\", now());\n",
       "    window._bokeh_is_loading = js_urls.length;\n",
       "    for (var i = 0; i < js_urls.length; i++) {\n",
       "      var url = js_urls[i];\n",
       "      var s = document.createElement('script');\n",
       "      s.src = url;\n",
       "      s.async = false;\n",
       "      s.onreadystatechange = s.onload = function() {\n",
       "        window._bokeh_is_loading--;\n",
       "        if (window._bokeh_is_loading === 0) {\n",
       "          console.log(\"Bokeh: all BokehJS libraries loaded\");\n",
       "          run_callbacks()\n",
       "        }\n",
       "      };\n",
       "      s.onerror = function() {\n",
       "        console.warn(\"failed to load library \" + url);\n",
       "      };\n",
       "      console.log(\"Bokeh: injecting script tag for BokehJS library: \", url);\n",
       "      document.getElementsByTagName(\"head\")[0].appendChild(s);\n",
       "    }\n",
       "  };\n",
       "\n",
       "  var js_urls = ['https://cdn.pydata.org/bokeh/release/bokeh-0.12.0.min.js', 'https://cdn.pydata.org/bokeh/release/bokeh-widgets-0.12.0.min.js', 'https://cdn.pydata.org/bokeh/release/bokeh-compiler-0.12.0.min.js'];\n",
       "\n",
       "  var inline_js = [\n",
       "    function(Bokeh) {\n",
       "      Bokeh.set_log_level(\"info\");\n",
       "    },\n",
       "    \n",
       "    function(Bokeh) {\n",
       "      Bokeh.$(\"#d25e9153-8cc9-4fa0-8773-746a29f655e4\").text(\"BokehJS successfully loaded\");\n",
       "    },\n",
       "    function(Bokeh) {\n",
       "      console.log(\"Bokeh: injecting CSS: https://cdn.pydata.org/bokeh/release/bokeh-0.12.0.min.css\");\n",
       "      Bokeh.embed.inject_css(\"https://cdn.pydata.org/bokeh/release/bokeh-0.12.0.min.css\");\n",
       "      console.log(\"Bokeh: injecting CSS: https://cdn.pydata.org/bokeh/release/bokeh-widgets-0.12.0.min.css\");\n",
       "      Bokeh.embed.inject_css(\"https://cdn.pydata.org/bokeh/release/bokeh-widgets-0.12.0.min.css\");\n",
       "    }\n",
       "  ];\n",
       "\n",
       "  function run_inline_js() {\n",
       "    for (var i = 0; i < inline_js.length; i++) {\n",
       "      inline_js[i](window.Bokeh);\n",
       "    }\n",
       "  }\n",
       "\n",
       "  if (window._bokeh_is_loading === 0) {\n",
       "    console.log(\"Bokeh: BokehJS loaded, going straight to plotting\");\n",
       "    run_inline_js();\n",
       "  } else {\n",
       "    load_libs(js_urls, function() {\n",
       "      console.log(\"Bokeh: BokehJS plotting callback run at\", now());\n",
       "      run_inline_js();\n",
       "    });\n",
       "  }\n",
       "}(this));"
      ]
     },
     "metadata": {},
     "output_type": "display_data"
    }
   ],
   "source": [
    "import numpy as np\n",
    "import pandas\n",
    "from numpy import *\n",
    "import time\n",
    "import sys\n",
    "import pandas as pd\n",
    "import matplotlib.pyplot as plt\n",
    "from sklearn import feature_selection\n",
    "from sklearn.tree import DecisionTreeRegressor\n",
    "from sklearn.learning_curve import learning_curve, validation_curve\n",
    "from sklearn.cross_validation import cross_val_predict\n",
    "from sklearn import metrics, grid_search, cross_validation\n",
    "from IPython.display import set_matplotlib_formats\n",
    "from bokeh.plotting import figure, show, output_notebook\n",
    "from sklearn.grid_search import GridSearchCV, RandomizedSearchCV\n",
    "from sklearn.metrics import r2_score\n",
    "from bokeh.layouts import gridplot\n",
    "output_notebook()\n",
    "set_matplotlib_formats('png', 'pdf')\n",
    "%matplotlib inline\n",
    "plt.rcParams['figure.figsize'] = (6, 6)"
   ]
  },
  {
   "cell_type": "markdown",
   "metadata": {},
   "source": [
    "# Load data"
   ]
  },
  {
   "cell_type": "markdown",
   "metadata": {},
   "source": [
    "In the previous file we have not change the data as there is no missing value or add any new parameters so it can be downloaded from the web directly. "
   ]
  },
  {
   "cell_type": "code",
   "execution_count": 2,
   "metadata": {
    "collapsed": false
   },
   "outputs": [],
   "source": [
    "url = 'https://archive.ics.uci.edu/ml/machine-learning-databases/housing/housing.data'\n",
    "feature_cols = ['CRIM', 'ZN', 'INDUS', 'CHAS', 'NOX', 'RM', 'AGE', 'DIS', 'RAD', 'TAX', 'PTRATIO', 'B', 'LSTAT', 'MEDV']\n",
    "data = pd.read_csv(url, sep='\\s+', names = feature_cols)"
   ]
  },
  {
   "cell_type": "code",
   "execution_count": 3,
   "metadata": {
    "collapsed": false
   },
   "outputs": [
    {
     "name": "stdout",
     "output_type": "stream",
     "text": [
      "Number of examples 506\n"
     ]
    }
   ],
   "source": [
    "from sklearn import preprocessing\n",
    "dataset = data.values\n",
    "X = dataset[:,0:13].astype(float)\n",
    "Y = dataset[:,13]\n",
    "print 'Number of examples',len(X)"
   ]
  },
  {
   "cell_type": "code",
   "execution_count": 4,
   "metadata": {
    "collapsed": false
   },
   "outputs": [
    {
     "name": "stdout",
     "output_type": "stream",
     "text": [
      "Number of training examples 404\n",
      "Number of validation examples 102\n"
     ]
    }
   ],
   "source": [
    "# Make developement dataset for genrilization and final testing\n",
    "from sklearn.cross_validation import train_test_split\n",
    "# Extracting 20% testing data\n",
    "X_train, X_test, y_train, y_test = train_test_split(\n",
    "    X, Y, test_size=0.20, random_state=0)\n",
    "X = X_train\n",
    "Y = y_train\n",
    "new_data      = X_train\n",
    "new_test_data = X_test\n",
    "print 'Number of training examples',len(X_train)\n",
    "print 'Number of validation examples',len(X_test)"
   ]
  },
  {
   "cell_type": "markdown",
   "metadata": {},
   "source": [
    "Number of training data is very small so we need to use cross validation instead of spareate another validation data."
   ]
  },
  {
   "cell_type": "markdown",
   "metadata": {},
   "source": [
    "From the previous visulization the data has no missing value but has many outlier and some sparisty"
   ]
  },
  {
   "cell_type": "markdown",
   "metadata": {},
   "source": [
    "# Ranking of the feature's importance to the target"
   ]
  },
  {
   "cell_type": "code",
   "execution_count": 5,
   "metadata": {
    "collapsed": false
   },
   "outputs": [
    {
     "name": "stdout",
     "output_type": "stream",
     "text": [
      "CRIM \t0.990920443914\n",
      "ZN \t0.243089199298\n",
      "INDUS \t0.545912632909\n",
      "CHAS \t0.0307161297088\n",
      "NOX \t0.716973504561\n",
      "RM \t0.947370943302\n",
      "AGE \t0.699593401735\n",
      "DIS \t0.951624764899\n",
      "RAD \t0.228654187056\n",
      "TAX \t0.428503655041\n",
      "PTRATIO \t0.420389324837\n",
      "B \t0.799151046373\n",
      "LSTAT \t0.959008812687\n",
      "MEDV \t1.0\n"
     ]
    }
   ],
   "source": [
    "# Using just correlation coefficient even in prevoius file we show them using data frame\n",
    "for col in feature_cols:\n",
    "    lm = DecisionTreeRegressor()\n",
    "    lm.fit(data[[col]], data['MEDV'])\n",
    "    print col,'\\t', lm.score(data[[col]], data['MEDV'])"
   ]
  },
  {
   "cell_type": "code",
   "execution_count": 6,
   "metadata": {
    "collapsed": false
   },
   "outputs": [
    {
     "name": "stdout",
     "output_type": "stream",
     "text": [
      "Feature Name      Score         Pvalue\n",
      "CRIM \t\t89.4861147577 \t1.17398708219e-19\n",
      "ZN \t\t75.257642299 \t5.71358415308e-17\n",
      "INDUS \t\t153.954883136 \t4.90025998175e-31\n",
      "CHAS \t\t15.9715124204 \t7.39062317052e-05\n",
      "NOX \t\t112.59148028 \t7.06504158625e-24\n",
      "RM \t\t471.846739876 \t2.48722887101e-74\n",
      "AGE \t\t83.4774592192 \t1.56998220919e-18\n",
      "DIS \t\t33.5795703259 \t1.20661172734e-08\n",
      "RAD \t\t85.9142776698 \t5.46593256965e-19\n",
      "TAX \t\t141.761356577 \t5.63773362769e-29\n",
      "PTRATIO \t\t175.105542876 \t1.60950947847e-34\n",
      "B \t\t63.0542291125 \t1.31811273408e-14\n",
      "LSTAT \t\t601.61787111 \t5.08110339439e-88\n",
      "MEDV \t\tinf \t0.0\n"
     ]
    }
   ],
   "source": [
    "# Randing the important features to the target\n",
    "model = feature_selection.SelectKBest(score_func=feature_selection.f_regression,k=4)\n",
    "results = model.fit(data[feature_cols], data['MEDV'])\n",
    "k=0\n",
    "print 'Feature Name      Score         Pvalue'\n",
    "for feat in feature_cols:\n",
    "    print feat,'\\t\\t',results.scores_[k],'\\t',results.pvalues_[k]\n",
    "    k=k+1\n"
   ]
  },
  {
   "cell_type": "markdown",
   "metadata": {},
   "source": [
    "# Set the parameters for cross validation"
   ]
  },
  {
   "cell_type": "code",
   "execution_count": 7,
   "metadata": {
    "collapsed": true
   },
   "outputs": [],
   "source": [
    "num_folds = 10\n",
    "num_instances = len(X)\n",
    "seed = 7\n",
    "kfold = cross_validation.KFold(n=num_instances, n_folds=num_folds, random_state=seed)"
   ]
  },
  {
   "cell_type": "markdown",
   "metadata": {},
   "source": [
    " # Set the parameters for bias-variance dilemma"
   ]
  },
  {
   "cell_type": "code",
   "execution_count": 8,
   "metadata": {
    "collapsed": false
   },
   "outputs": [],
   "source": [
    "def plot_learning_curve(estimator, title, X, y, ylim=None, cv=None,\n",
    "                        n_jobs=1, train_sizes=np.linspace(.1, 1.0, 5)):\n",
    "    plt.figure()\n",
    "    plt.title(title)\n",
    "    if ylim is not None:\n",
    "        plt.ylim(*ylim)\n",
    "    plt.xlabel(\"Training examples\")\n",
    "    plt.ylabel(\"Score\")\n",
    "    train_sizes, train_scores, test_scores = learning_curve(\n",
    "        estimator, X, y, cv=cv, n_jobs=n_jobs, train_sizes=train_sizes)\n",
    "    train_scores_mean = np.mean(train_scores, axis=1)\n",
    "    train_scores_std = np.std(train_scores, axis=1)\n",
    "    test_scores_mean = np.mean(test_scores, axis=1)\n",
    "    test_scores_std = np.std(test_scores, axis=1)\n",
    "    plt.grid()\n",
    "\n",
    "    plt.fill_between(train_sizes, train_scores_mean - train_scores_std,\n",
    "                     train_scores_mean + train_scores_std, alpha=0.1,\n",
    "                     color=\"r\")\n",
    "    plt.fill_between(train_sizes, test_scores_mean - test_scores_std,\n",
    "                     test_scores_mean + test_scores_std, alpha=0.1, color=\"g\")\n",
    "    plt.plot(train_sizes, train_scores_mean, 'o-', color=\"r\",\n",
    "             label=\"Training score\")\n",
    "    plt.plot(train_sizes, test_scores_mean, 'o-', color=\"g\",\n",
    "             label=\"Cross-validation score\")\n",
    "\n",
    "    plt.legend(loc=\"best\")\n",
    "    return plt"
   ]
  },
  {
   "cell_type": "markdown",
   "metadata": {},
   "source": [
    "# Preprocessing the data and save both the model and preprocessed data"
   ]
  },
  {
   "cell_type": "code",
   "execution_count": 9,
   "metadata": {
    "collapsed": true
   },
   "outputs": [],
   "source": [
    "# According to the nature of the data spasity and there is outliter RobustScaler class is recomandit \n",
    "# but when I tried both of them the result seems is same\n",
    "from sklearn.preprocessing import StandardScaler\n",
    "scaler = preprocessing.StandardScaler().fit(X_train)"
   ]
  },
  {
   "cell_type": "code",
   "execution_count": 10,
   "metadata": {
    "collapsed": true
   },
   "outputs": [],
   "source": [
    "X_train = scaler.transform(X_train)\n",
    "X_test = scaler.transform(X_test) # use same transform for testing data\n",
    "X = X_train"
   ]
  },
  {
   "cell_type": "code",
   "execution_count": 11,
   "metadata": {
    "collapsed": true
   },
   "outputs": [],
   "source": [
    "# save transformed data\n",
    "np.save('./data/X_train', X_train)\n",
    "np.save('./data/y_train', y_train)\n",
    "np.save('./data/X_test', X_test)\n",
    "np.save('./data/y_test', y_test)"
   ]
  },
  {
   "cell_type": "code",
   "execution_count": 12,
   "metadata": {
    "collapsed": false
   },
   "outputs": [
    {
     "data": {
      "text/plain": [
       "['scaler.pkl', 'scaler.pkl_01.npy', 'scaler.pkl_02.npy', 'scaler.pkl_03.npy']"
      ]
     },
     "execution_count": 12,
     "metadata": {},
     "output_type": "execute_result"
    }
   ],
   "source": [
    "# save the model scaler to the desk\n",
    "from sklearn.externals import joblib\n",
    "joblib.dump(scaler, 'scaler.pkl') "
   ]
  },
  {
   "cell_type": "code",
   "execution_count": 13,
   "metadata": {
    "collapsed": false
   },
   "outputs": [
    {
     "name": "stdout",
     "output_type": "stream",
     "text": [
      " =================================================================>>>>> done\n",
      "[[-0.40835869 -0.49960763 -1.12872913 ..., -0.71272928  0.18547577\n",
      "  -0.73610347]\n",
      " [ 0.71925111 -0.49960763  0.9988844  ...,  0.79267419  0.0831649\n",
      "  -0.4356916 ]\n",
      " [-0.40257488 -0.49960763  0.39610829 ..., -0.94082071  0.39472748\n",
      "  -0.30263246]\n",
      " ..., \n",
      " [-0.3982601   0.55937182 -0.85812418 ...,  0.56458276  0.41019833\n",
      "   0.06087961]\n",
      " [-0.39934279 -0.49960763 -0.07637654 ...,  0.0627816   0.30517724\n",
      "  -0.45626776]\n",
      " [-0.40088071 -0.49960763 -0.36702631 ...,  1.1120022   0.41166637\n",
      "  -0.05983383]]\n"
     ]
    }
   ],
   "source": [
    "# Test the model if it is work\n",
    "scalerTest = joblib.load('scaler.pkl')\n",
    "new_data_scaled = scalerTest.transform(new_test_data)\n",
    "print \" =================================================================>>>>> done\"\n",
    "print new_data_scaled"
   ]
  },
  {
   "cell_type": "markdown",
   "metadata": {},
   "source": [
    "# 1. DecisionTreeRegressor  with   Regression"
   ]
  },
  {
   "cell_type": "markdown",
   "metadata": {},
   "source": [
    "Decision trees or the Classification and Regression Trees (CART as they are know) use the training data to select the best points to split the data in order to minimize a cost metric. The default cost metric for regression decision trees is the mean squared error, specified in the criterion parameter."
   ]
  },
  {
   "cell_type": "markdown",
   "metadata": {},
   "source": [
    "## Validation curve"
   ]
  },
  {
   "cell_type": "markdown",
   "metadata": {},
   "source": [
    "choosing multiple hyperparameters of an estimator "
   ]
  },
  {
   "cell_type": "code",
   "execution_count": 14,
   "metadata": {
    "collapsed": false
   },
   "outputs": [
    {
     "data": {
      "text/plain": [
       "['presort',\n",
       " 'splitter',\n",
       " 'max_leaf_nodes',\n",
       " 'min_samples_leaf',\n",
       " 'min_samples_split',\n",
       " 'min_weight_fraction_leaf',\n",
       " 'criterion',\n",
       " 'random_state',\n",
       " 'max_features',\n",
       " 'max_depth']"
      ]
     },
     "execution_count": 14,
     "metadata": {},
     "output_type": "execute_result"
    }
   ],
   "source": [
    "from sklearn.tree import DecisionTreeRegressor\n",
    "estimator = DecisionTreeRegressor()\n",
    "estimator.get_params().keys()"
   ]
  },
  {
   "cell_type": "code",
   "execution_count": 15,
   "metadata": {
    "collapsed": false
   },
   "outputs": [
    {
     "data": {
      "image/png": "[encoded data removed]",
      "text/plain": [
       "<matplotlib.figure.Figure at 0x10e0d2390>"
      ]
     },
     "metadata": {},
     "output_type": "display_data"
    }
   ],
   "source": [
    "# For parametr alpha\n",
    "#param_range = np.logspace(-10.0, 10.0)\n",
    "#param_range = np.linspace(1,50,100)\n",
    "param_range = np.arange(1,50) # generate integer numbers\n",
    "\n",
    "train_scores, test_scores = validation_curve(\n",
    "    DecisionTreeRegressor(), X, Y, param_name=\"max_depth\", param_range=param_range,\n",
    "    cv=num_folds,  n_jobs=-1)\n",
    "train_scores_mean = np.mean(train_scores, axis=1)\n",
    "train_scores_std = np.std(train_scores, axis=1)\n",
    "test_scores_mean = np.mean(test_scores, axis=1)\n",
    "test_scores_std = np.std(test_scores, axis=1)\n",
    "\n",
    "plt.title(\"Validation Curve with DecisionTreeRegressor\")\n",
    "plt.xlabel(\"max_depth\")\n",
    "plt.ylabel(\"Score\")\n",
    "plt.ylim(0.4, 1.0)\n",
    "plt.plot(param_range, train_scores_mean, label=\"Training score\", color=\"r\")\n",
    "plt.fill_between(param_range, train_scores_mean - train_scores_std,\n",
    "                 train_scores_mean + train_scores_std, alpha=0.2, color=\"r\")\n",
    "plt.plot(param_range, test_scores_mean, label=\"Cross-validation score\",\n",
    "             color=\"g\")\n",
    "plt.fill_between(param_range, test_scores_mean - test_scores_std,\n",
    "                 test_scores_mean + test_scores_std, alpha=0.2, color=\"g\")\n",
    "plt.legend(loc=\"best\")\n",
    "plt.show()"
   ]
  },
  {
   "cell_type": "markdown",
   "metadata": {},
   "source": [
    "more that 5 is the best of number of K"
   ]
  },
  {
   "cell_type": "code",
   "execution_count": 16,
   "metadata": {
    "collapsed": false
   },
   "outputs": [
    {
     "data": {
      "image/png": "[encoded data removed]",
      "text/plain": [
       "<matplotlib.figure.Figure at 0x10e0a1e90>"
      ]
     },
     "metadata": {},
     "output_type": "display_data"
    }
   ],
   "source": [
    "# For parametr alpha\n",
    "#param_range = np.logspace(-10.0, 10.0)\n",
    "#param_range = np.linspace(1,50,100)\n",
    "param_range = np.arange(1,10) # generate integer numbers\n",
    "\n",
    "train_scores, test_scores = validation_curve(\n",
    "    DecisionTreeRegressor(), X, Y, param_name=\"min_samples_split\", param_range=param_range,\n",
    "    cv=num_folds,  n_jobs=-1)\n",
    "train_scores_mean = np.mean(train_scores, axis=1)\n",
    "train_scores_std = np.std(train_scores, axis=1)\n",
    "test_scores_mean = np.mean(test_scores, axis=1)\n",
    "test_scores_std = np.std(test_scores, axis=1)\n",
    "\n",
    "plt.title(\"Validation Curve with DecisionTreeRegressor\")\n",
    "plt.xlabel(\"min_samples_split\")\n",
    "plt.ylabel(\"Score\")\n",
    "plt.ylim(0.4, 1.0)\n",
    "plt.plot(param_range, train_scores_mean, label=\"Training score\", color=\"r\")\n",
    "plt.fill_between(param_range, train_scores_mean - train_scores_std,\n",
    "                 train_scores_mean + train_scores_std, alpha=0.2, color=\"r\")\n",
    "plt.plot(param_range, test_scores_mean, label=\"Cross-validation score\",\n",
    "             color=\"g\")\n",
    "plt.fill_between(param_range, test_scores_mean - test_scores_std,\n",
    "                 test_scores_mean + test_scores_std, alpha=0.2, color=\"g\")\n",
    "plt.legend(loc=\"best\")\n",
    "plt.show()"
   ]
  },
  {
   "cell_type": "markdown",
   "metadata": {},
   "source": [
    "min_samples_split =2 (The defualt) is the best"
   ]
  },
  {
   "cell_type": "code",
   "execution_count": 17,
   "metadata": {
    "collapsed": false
   },
   "outputs": [
    {
     "data": {
      "image/png": "[encoded data removed]",
      "text/plain": [
       "<matplotlib.figure.Figure at 0x10f22cf90>"
      ]
     },
     "metadata": {},
     "output_type": "display_data"
    }
   ],
   "source": [
    "# For parametr alpha\n",
    "#param_range = np.logspace(-10.0, 10.0)\n",
    "#param_range = np.linspace(1,50,100)\n",
    "param_range = np.arange(1,10) # generate integer numbers\n",
    "\n",
    "train_scores, test_scores = validation_curve(\n",
    "    DecisionTreeRegressor(), X, Y, param_name=\"min_samples_leaf\", param_range=param_range,\n",
    "    cv=num_folds,  n_jobs=-1)\n",
    "train_scores_mean = np.mean(train_scores, axis=1)\n",
    "train_scores_std = np.std(train_scores, axis=1)\n",
    "test_scores_mean = np.mean(test_scores, axis=1)\n",
    "test_scores_std = np.std(test_scores, axis=1)\n",
    "\n",
    "plt.title(\"Validation Curve with DecisionTreeRegressor\")\n",
    "plt.xlabel(\"min_samples_leaf\")\n",
    "plt.ylabel(\"Score\")\n",
    "plt.ylim(0.4, 1.0)\n",
    "plt.plot(param_range, train_scores_mean, label=\"Training score\", color=\"r\")\n",
    "plt.fill_between(param_range, train_scores_mean - train_scores_std,\n",
    "                 train_scores_mean + train_scores_std, alpha=0.2, color=\"r\")\n",
    "plt.plot(param_range, test_scores_mean, label=\"Cross-validation score\",\n",
    "             color=\"g\")\n",
    "plt.fill_between(param_range, test_scores_mean - test_scores_std,\n",
    "                 test_scores_mean + test_scores_std, alpha=0.2, color=\"g\")\n",
    "plt.legend(loc=\"best\")\n",
    "plt.show()"
   ]
  },
  {
   "cell_type": "markdown",
   "metadata": {},
   "source": [
    "min_samples_leaf = 2 is the best"
   ]
  },
  {
   "cell_type": "markdown",
   "metadata": {},
   "source": [
    "## Grid search and/or Random search to determine best compination of parameters"
   ]
  },
  {
   "cell_type": "code",
   "execution_count": 18,
   "metadata": {
    "collapsed": false
   },
   "outputs": [
    {
     "name": "stdout",
     "output_type": "stream",
     "text": [
      "Hyperparameter optimization using GridSearchCV...\n",
      "Parameters with rank: 1\n",
      "Mean validation score: 0.8144 (std: 0.0832)\n",
      "Parameters: {'min_samples_split': 1, 'max_depth': 8, 'min_samples_leaf': 1}\n",
      "\n",
      "Parameters with rank: 2\n",
      "Mean validation score: 0.8117 (std: 0.0870)\n",
      "Parameters: {'min_samples_split': 1, 'max_depth': 5, 'min_samples_leaf': 1}\n",
      "\n",
      "Parameters with rank: 3\n",
      "Mean validation score: 0.8094 (std: 0.0902)\n",
      "Parameters: {'min_samples_split': 3, 'max_depth': 6, 'min_samples_leaf': 1}\n",
      "\n",
      "Parameters with rank: 4\n",
      "Mean validation score: 0.8065 (std: 0.0871)\n",
      "Parameters: {'min_samples_split': 3, 'max_depth': 13, 'min_samples_leaf': 1}\n",
      "\n",
      "Parameters with rank: 5\n",
      "Mean validation score: 0.8040 (std: 0.0778)\n",
      "Parameters: {'min_samples_split': 3, 'max_depth': 12, 'min_samples_leaf': 1}\n",
      "\n",
      "+++++++++++++++++++++++++++++++++++++++++++++++\n",
      "Hyperparameter optimization using RandomizedSearchCV\n",
      "Parameters with rank: 1\n",
      "Mean validation score: 0.8012 (std: 0.0890)\n",
      "Parameters: {'min_samples_split': 2, 'max_depth': 10, 'min_samples_leaf': 1}\n",
      "\n",
      "Parameters with rank: 2\n",
      "Mean validation score: 0.7464 (std: 0.2220)\n",
      "Parameters: {'min_samples_split': 1, 'max_depth': 10, 'min_samples_leaf': 1}\n",
      "\n",
      "Parameters with rank: 3\n",
      "Mean validation score: 0.7348 (std: 0.2314)\n",
      "Parameters: {'min_samples_split': 2, 'max_depth': 10, 'min_samples_leaf': 2}\n",
      "\n",
      "Parameters with rank: 4\n",
      "Mean validation score: 0.7320 (std: 0.2301)\n",
      "Parameters: {'min_samples_split': 1, 'max_depth': 10, 'min_samples_leaf': 2}\n",
      "\n",
      "Parameters with rank: 5\n",
      "Mean validation score: 0.3291 (std: 0.1603)\n",
      "Parameters: {'min_samples_split': 2, 'max_depth': 1, 'min_samples_leaf': 1}\n",
      "\n"
     ]
    }
   ],
   "source": [
    "# Utility function to report optimal parameters\n",
    "from operator import itemgetter\n",
    "def report(grid_scores, n_top=5):\n",
    "    params = None\n",
    "    top_scores = sorted(grid_scores, key=itemgetter(1), reverse=True)[:n_top]\n",
    "    for i, score in enumerate(top_scores):\n",
    "        print(\"Parameters with rank: {0}\".format(i + 1))\n",
    "        print(\"Mean validation score: {0:.4f} (std: {1:.4f})\".format(\n",
    "              score.mean_validation_score, np.std(score.cv_validation_scores)))\n",
    "        print(\"Parameters: {0}\".format(score.parameters))\n",
    "        print(\"\")\n",
    "        \n",
    "        if params == None:\n",
    "            params = score.parameters\n",
    "    \n",
    "    return params\n",
    "\n",
    "# The most common value for the max number of features to look at in each split is sqrt(# of features)\n",
    "sqrtfeat = np.sqrt(X.shape[1]) \n",
    "grid_test1 = { \"max_depth\"      : np.arange(1,15),\n",
    "             \"min_samples_split\"      : np.arange(1,4),\n",
    "             \"min_samples_leaf\"    : np.arange(1,3)}\n",
    "\n",
    "# Large randomized test using max_depth to control tree size (5000 possible combinations)\n",
    "random_test1 = { \"max_depth\"      : [1,10],\n",
    "                \"min_samples_split\"      : [ 1,2],\n",
    "               \"min_samples_leaf\"   : [1,2]}\n",
    "\n",
    "\n",
    "forest =  DecisionTreeRegressor()\n",
    "\n",
    "print \"Hyperparameter optimization using GridSearchCV...\"\n",
    "grid_search = GridSearchCV(forest, grid_test1, n_jobs=-1, cv=num_folds)\n",
    "grid_search.fit(X, Y)\n",
    "best_params_from_grid_search = report(grid_search.grid_scores_)\n",
    "print '+++++++++++++++++++++++++++++++++++++++++++++++'\n",
    "print \"Hyperparameter optimization using RandomizedSearchCV\"\n",
    "grid_search = RandomizedSearchCV(forest, random_test1, n_jobs=-1, cv=num_folds, n_iter=5)\n",
    "grid_search.fit(X, Y)\n",
    "best_params_from_rand_search1 = report(grid_search.grid_scores_)"
   ]
  },
  {
   "cell_type": "markdown",
   "metadata": {},
   "source": [
    "Best 'min_samples_split': 3, 'max_depth': 7, 'min_samples_leaf': 1"
   ]
  },
  {
   "cell_type": "markdown",
   "metadata": {},
   "source": [
    "## Learning Curve "
   ]
  },
  {
   "cell_type": "markdown",
   "metadata": {},
   "source": [
    "In essence, what we’re doing it training the exact same model with increasingly large fractions of our total training data, and plotting the error of the training and test sets at each step."
   ]
  },
  {
   "cell_type": "code",
   "execution_count": 19,
   "metadata": {
    "collapsed": false
   },
   "outputs": [
    {
     "data": {
      "image/png": "[encoded data removed]",
      "text/plain": [
       "<matplotlib.figure.Figure at 0x10e0b8290>"
      ]
     },
     "metadata": {},
     "output_type": "display_data"
    }
   ],
   "source": [
    "from sklearn.tree import DecisionTreeRegressor\n",
    "\n",
    "model =  DecisionTreeRegressor(min_samples_split = 3, max_depth = 7, min_samples_leaf =1 )\n",
    "title = \"Learning Curves (  DecisionTreeRegressor Refression)\"\n",
    "cv = cross_validation.ShuffleSplit(X.shape[0], n_iter=100,\n",
    "                                   test_size=0.2, random_state=0)\n",
    "plot_learning_curve(model, title, X, Y, ylim=(0.2, 1.01), cv=cv, n_jobs=-1)\n",
    "plt.show()"
   ]
  },
  {
   "cell_type": "code",
   "execution_count": 20,
   "metadata": {
    "collapsed": false
   },
   "outputs": [
    {
     "name": "stdout",
     "output_type": "stream",
     "text": [
      "train_sizes =  [ 50  80 110]\n",
      " training scores\n",
      " 50 training sizees\n",
      "0.994905013484 ± 0.00389669477319\n",
      " 80 training sizees\n",
      "0.993770613371 ± 0.00343234432726\n",
      " 110 training sizees\n",
      "0.991332515202 ± 0.00432820772575\n",
      "\n",
      " validation scores\n",
      " 50 validation scores\n",
      "0.590354501974 ± 0.135458058473\n",
      " 80 validation scores\n",
      "0.625522919998 ± 0.135077842294\n",
      " 110 validation scores\n",
      "0.684473077586 ± 0.109019047514\n"
     ]
    }
   ],
   "source": [
    "# More data from learning curve to show the process of building the model\n",
    "train_sizes, train_scores, valid_scores = learning_curve(\n",
    "     model, X, Y, train_sizes=[50, 80, 110], cv=cv, n_jobs=4)\n",
    "\n",
    "print 'train_sizes = ', train_sizes\n",
    "\n",
    "print ' training scores'\n",
    "print ' 50 training sizees'\n",
    "print train_scores[0].mean(),'±',train_scores[0].std()\n",
    "print ' 80 training sizees'\n",
    "print train_scores[1].mean(),'±',train_scores[1].std()\n",
    "print ' 110 training sizees'\n",
    "print train_scores[2].mean(),'±',train_scores[2].std()\n",
    "\n",
    "print '\\n validation scores'\n",
    "print ' 50 validation scores'\n",
    "print valid_scores[0].mean(),'±',valid_scores[0].std()\n",
    "print ' 80 validation scores'\n",
    "print valid_scores[1].mean(),'±',valid_scores[1].std()\n",
    "print ' 110 validation scores'\n",
    "print valid_scores[2].mean(),'±',valid_scores[2].std()"
   ]
  },
  {
   "cell_type": "markdown",
   "metadata": {},
   "source": [
    "## Cross validation"
   ]
  },
  {
   "cell_type": "code",
   "execution_count": 21,
   "metadata": {
    "collapsed": false
   },
   "outputs": [
    {
     "name": "stdout",
     "output_type": "stream",
     "text": [
      "Scoring according to mean_squared_error\n",
      "[-24.90527229 -10.91084448  -8.00061634 -13.80910898  -9.09227417\n",
      " -13.20297189 -26.71631482  -7.1522162  -18.8389037  -28.49545459]\n",
      "\n",
      " Mean      Standard deviation\n",
      "-16.11      7.66\n"
     ]
    },
    {
     "data": {
      "text/plain": [
       "DecisionTreeRegressor(criterion='mse', max_depth=7, max_features=None,\n",
       "           max_leaf_nodes=None, min_samples_leaf=1, min_samples_split=3,\n",
       "           min_weight_fraction_leaf=0.0, presort=False, random_state=None,\n",
       "           splitter='best')"
      ]
     },
     "execution_count": 21,
     "metadata": {},
     "output_type": "execute_result"
    }
   ],
   "source": [
    "scoring = 'mean_squared_error'\n",
    "results = cross_validation.cross_val_score(model, X, Y, cv=kfold, scoring=scoring)\n",
    "print 'Scoring according to mean_squared_error'\n",
    "print results\n",
    "print '\\n Mean      Standard deviation'\n",
    "print(\"%.2f      %.2f\" % (results.mean(), results.std()))\n",
    "## Fit the model\n",
    "model.fit(X,Y)\n"
   ]
  },
  {
   "cell_type": "markdown",
   "metadata": {},
   "source": [
    "## Coefficients Of Determination {Calculating R^2}\n",
    "\n",
    "R^2, Close to one is better"
   ]
  },
  {
   "cell_type": "code",
   "execution_count": 22,
   "metadata": {
    "collapsed": false
   },
   "outputs": [
    {
     "name": "stdout",
     "output_type": "stream",
     "text": [
      "R-squared =  0.790042845953\n"
     ]
    }
   ],
   "source": [
    "predicted = cross_val_predict(model, X, Y, cv=kfold)\n",
    "r_squared = r2_score(Y, predicted, multioutput='variance_weighted')\n",
    "print 'R-squared = ',r_squared"
   ]
  },
  {
   "cell_type": "markdown",
   "metadata": {},
   "source": [
    "## Residual Plot"
   ]
  },
  {
   "cell_type": "code",
   "execution_count": 23,
   "metadata": {
    "collapsed": false
   },
   "outputs": [
    {
     "data": {
      "image/png": "[encoded data removed]",
      "text/plain": [
       "<matplotlib.figure.Figure at 0x10f292810>"
      ]
     },
     "metadata": {},
     "output_type": "display_data"
    }
   ],
   "source": [
    "predicted = cross_val_predict(model, X, Y, cv=kfold)\n",
    "fig, ax = plt.subplots()\n",
    "ax.scatter(Y, predicted)\n",
    "ax.plot([Y.min(), Y.max()], [Y.min(), Y.max()], 'k--', lw=4)\n",
    "ax.set_xlabel('Measured')\n",
    "ax.set_ylabel('Predicted')\n",
    "plt.show()"
   ]
  },
  {
   "cell_type": "code",
   "execution_count": 24,
   "metadata": {
    "collapsed": false
   },
   "outputs": [
    {
     "data": {
      "text/html": [
       "\n",
       "\n",
       "    <div class=\"bk-root\">\n",
       "        <div class=\"plotdiv\" id=\"8b265943-0562-4821-b857-a4a8af484f8d\"></div>\n",
       "    </div>\n",
       "<script type=\"text/javascript\">\n",
       "  \n",
       "  (function(global) {\n",
       "    function now() {\n",
       "      return new Date();\n",
       "    }\n",
       "  \n",
       "    if (typeof (window._bokeh_onload_callbacks) === \"undefined\") {\n",
       "      window._bokeh_onload_callbacks = [];\n",
       "    }\n",
       "  \n",
       "    function run_callbacks() {\n",
       "      window._bokeh_onload_callbacks.forEach(function(callback) { callback() });\n",
       "      delete window._bokeh_onload_callbacks\n",
       "      console.info(\"Bokeh: all callbacks have finished\");\n",
       "    }\n",
       "  \n",
       "    function load_libs(js_urls, callback) {\n",
       "      window._bokeh_onload_callbacks.push(callback);\n",
       "      if (window._bokeh_is_loading > 0) {\n",
       "        console.log(\"Bokeh: BokehJS is being loaded, scheduling callback at\", now());\n",
       "        return null;\n",
       "      }\n",
       "      if (js_urls == null || js_urls.length === 0) {\n",
       "        run_callbacks();\n",
       "        return null;\n",
       "      }\n",
       "      console.log(\"Bokeh: BokehJS not loaded, scheduling load and callback at\", now());\n",
       "      window._bokeh_is_loading = js_urls.length;\n",
       "      for (var i = 0; i < js_urls.length; i++) {\n",
       "        var url = js_urls[i];\n",
       "        var s = document.createElement('script');\n",
       "        s.src = url;\n",
       "        s.async = false;\n",
       "        s.onreadystatechange = s.onload = function() {\n",
       "          window._bokeh_is_loading--;\n",
       "          if (window._bokeh_is_loading === 0) {\n",
       "            console.log(\"Bokeh: all BokehJS libraries loaded\");\n",
       "            run_callbacks()\n",
       "          }\n",
       "        };\n",
       "        s.onerror = function() {\n",
       "          console.warn(\"failed to load library \" + url);\n",
       "        };\n",
       "        console.log(\"Bokeh: injecting script tag for BokehJS library: \", url);\n",
       "        document.getElementsByTagName(\"head\")[0].appendChild(s);\n",
       "      }\n",
       "    };var element = document.getElementById(\"8b265943-0562-4821-b857-a4a8af484f8d\");\n",
       "    if (element == null) {\n",
       "      console.log(\"Bokeh: ERROR: autoload.js configured with elementid '8b265943-0562-4821-b857-a4a8af484f8d' but no matching script tag was found. \")\n",
       "      return false;\n",
       "    }\n",
       "  \n",
       "    var js_urls = [];\n",
       "  \n",
       "    var inline_js = [\n",
       "      function(Bokeh) {\n",
       "        Bokeh.$(function() {\n",
       "            var docs_json = {\"5e5fc4dc-a34a-49f9-af8d-d3482783de40\":{\"roots\":{\"references\":[{\"attributes\":{\"bottom_units\":\"screen\",\"fill_alpha\":{\"value\":0.5},\"fill_color\":{\"value\":\"lightgrey\"},\"left_units\":\"screen\",\"level\":\"overlay\",\"line_alpha\":{\"value\":1.0},\"line_color\":{\"value\":\"black\"},\"line_dash\":[4,4],\"line_width\":{\"value\":2},\"plot\":null,\"render_mode\":\"css\",\"right_units\":\"screen\",\"top_units\":\"screen\"},\"id\":\"f7d01e93-e60f-444b-bbc1-206a7d8d9725\",\"type\":\"BoxAnnotation\"},{\"attributes\":{\"callback\":null,\"column_names\":[\"x\",\"y\"],\"data\":{\"x\":[26.7,21.7,22.0,22.9,10.4,21.9,20.6,26.4,41.3,17.2,27.1,20.4,16.5,24.4,8.4,23.0,9.7,50.0,30.5,12.3,19.4,21.2,20.3,18.8,33.4,18.5,19.6,33.2,13.1,7.5,13.6,17.4,8.4,35.4,24.0,13.4,26.2,7.2,13.1,24.5,37.2,25.0,24.1,16.6,32.9,36.2,11.0,7.2,22.8,28.7,14.4,24.4,18.1,22.5,20.5,15.2,17.4,13.6,8.7,18.2,35.4,31.7,33.0,22.2,20.4,23.9,25.0,12.7,29.1,12.0,17.7,27.0,20.6,10.2,17.5,19.7,29.8,20.5,14.9,10.9,19.5,22.7,19.5,24.6,25.0,24.5,50.0,14.3,11.8,31.0,28.7,16.2,43.5,25.0,22.0,19.9,22.1,46.0,22.9,20.2,43.1,34.6,13.8,24.3,21.5,24.4,21.2,23.8,26.6,25.1,9.6,19.4,19.4,9.5,14.0,26.5,13.8,34.7,16.3,21.7,17.5,15.6,20.9,21.7,12.7,18.5,23.7,19.3,12.7,21.6,23.2,29.6,21.2,23.8,17.1,22.0,36.5,18.8,21.9,23.1,20.2,17.4,37.0,24.1,36.2,15.7,32.2,13.5,17.9,13.3,11.7,41.7,18.4,13.1,25.0,21.2,16.0,34.9,25.2,24.8,21.5,23.4,18.9,10.8,21.0,27.5,17.5,13.5,28.7,14.8,19.1,28.6,13.1,19.0,11.3,13.3,22.4,20.1,18.2,22.9,20.6,25.0,12.8,34.9,23.7,50.0,29.0,30.1,22.0,15.6,23.3,30.1,14.3,22.8,50.0,20.8,6.3,34.9,32.4,19.9,20.3,17.8,23.1,20.4,23.2,7.0,16.8,46.7,50.0,22.9,23.9,21.4,21.7,15.4,15.3,23.1,23.9,19.4,11.9,17.8,31.5,33.8,20.8,19.8,22.4,5.0,24.5,19.4,15.1,18.2,19.3,27.1,20.7,37.6,11.7,33.4,30.1,21.4,45.4,20.1,20.8,26.4,10.4,21.8,32.0,21.7,18.4,37.9,17.8,28.0,28.2,36.0,18.9,15.0,22.5,30.7,20.0,19.1,23.3,26.6,21.1,19.7,20.0,12.1,7.2,14.2,17.3,27.5,22.2,10.9,19.2,32.0,14.5,24.7,12.6,24.0,24.1,50.0,16.1,43.8,26.6,36.1,21.8,29.9,50.0,44.0,20.6,19.6,28.4,19.1,22.3,20.9,28.4,14.4,32.7,13.8,8.5,22.5,35.1,31.6,17.8,15.6,20.7,39.8,17.8,19.6,14.9,22.0,48.8,25.0,48.5,23.9,20.3,15.2,10.5,19.0,16.4,8.8,22.0,24.8,50.0,19.3,22.7,37.3,31.6,8.3,23.1,50.0,13.9,16.1,25.3,19.5,10.2,19.9,35.2,13.4,24.7,11.5,23.4,16.7,15.4,18.0,28.5,18.4,32.5,50.0,50.0,19.6,17.6,42.3,14.5,13.2,16.2,29.6,16.7,13.0,22.3,13.4,5.0,19.5,14.6,22.0,8.1,24.6,33.2,20.6,14.1,14.1,21.1,30.3,23.7,21.4,18.3,8.5,22.8,22.8,22.2,13.9,25.0,18.5,7.0,22.6,20.1,30.8,31.1,23.8,12.5,23.6,23.2,24.2,22.2,27.9,22.2,33.1,19.3,18.9,22.6,50.0,24.8,18.5,36.4,19.2,16.6,23.1],\"y\":[28.7375,20.821428571428577,33.38461538461539,20.821428571428577,8.700000000000001,21.654545454545453,21.51818181818182,23.81111111111111,23.75,17.9,14.387499999999998,19.1,14.387499999999998,22.116666666666664,8.700000000000001,18.82272727272728,8.700000000000001,49.25,29.766666666666666,7.375,16.6,20.821428571428577,18.82272727272728,21.0,37.599999999999994,22.116666666666664,21.51818181818182,37.599999999999994,11.742857142857144,8.700000000000001,21.0,15.299999999999999,10.4,35.66666666666667,20.821428571428577,16.554545454545455,26.16875,8.700000000000001,11.0,20.821428571428577,23.75,22.98181818181818,24.05,17.68,35.8,34.43076923076923,9.732000000000001,6.275,32.4,24.05,16.2,27.533333333333335,18.2,22.98181818181818,19.1,12.7,21.724999999999998,12.7,9.732000000000001,17.68,31.20000000000001,34.43076923076923,26.35,21.724999999999998,24.05,27.533333333333335,27.5,11.7,30.46666666666667,9.732000000000001,20.315789473684212,24.05,21.724999999999998,13.525000000000002,18.800000000000004,18.800000000000004,21.724999999999998,23.549999999999997,14.316666666666666,20.315789473684212,20.39375,20.315789473684212,18.94666666666667,23.374074074074073,25.25,27.450000000000003,46.05,15.719999999999999,13.525000000000002,33.8,30.425000000000004,19.763157894736846,50.0,23.374074074074073,25.25,21.616666666666664,23.374074074074073,43.9,25.25,22.025,48.65,30.425000000000004,17.8,50.0,18.7,23.374074074074073,22.425000000000004,19.766666666666662,28.46666666666667,25.25,13.525000000000002,19.700000000000003,19.766666666666662,13.525000000000002,17.8,25.8,15.800000000000002,30.425000000000004,17.9,18.94666666666667,19.766666666666662,14.633333333333335,19.700000000000003,20.852777777777774,14.2,22.836842105263155,23.763636363636362,20.852777777777774,16.845454545454547,22.836842105263155,20.573076923076922,33.976,22.836842105263155,22.836842105263155,11.136842105263156,20.852777777777774,33.4,19.59166666666667,37.6,23.763636363636362,20.852777777777774,16.845454545454547,33.976,29.766666666666666,28.0,19.59166666666667,29.35,13.399999999999999,16.75,11.136842105263156,14.1,37.6,16.845454545454547,14.2,25.25,22.836842105263155,19.55454545454545,33.976,23.763636363636362,22.836842105263155,19.59166666666667,23.763636363636362,20.852777777777774,8.986666666666668,25.05,23.1,21.156249999999996,14.9,27.1,13.333333333333334,15.633333333333333,26.174999999999997,15.633333333333333,22.805,11.925,14.466666666666667,19.433333333333334,19.70731707317073,20.3,23.802941176470586,20.3,22.805,11.925,34.61176470588235,13.333333333333334,50.0,26.174999999999997,31.97,20.3,17.099999999999998,21.156249999999996,27.1,17.099999999999998,27.1,49.4,19.70731707317073,11.925,31.97,30.3,19.70731707317073,20.24285714285714,19.433333333333334,21.156249999999996,22.805,23.384375000000002,9.306896551724137,20.916129032258063,43.339999999999996,43.339999999999996,23.384375000000002,24.3,20.916129032258063,20.916129032258063,14.566666666666668,21.017391304347825,23.384375000000002,30.04444444444444,18.968750000000004,12.86,13.2,31.65,30.85,20.916129032258063,18.968750000000004,29.25,9.306896551724137,18.857894736842105,23.384375000000002,14.133333333333333,20.916129032258063,21.017391304347825,23.384375000000002,21.017391304347825,41.7,14.533333333333333,36.18181818181818,32.32,17.35,43.339999999999996,22.0,18.857894736842105,36.2,14.133333333333333,18.857894736842105,32.371428571428574,20.24285714285714,14.56842105263158,35.739999999999995,10.4,24.294736842105266,28.266666666666666,45.65,17.233333333333334,45.65,20.24285714285714,10.4,21.255102040816325,19.366666666666667,22.966666666666665,29.76666666666667,20.24285714285714,20.24285714285714,22.2,9.792,9.792,14.56842105263158,19.22857142857143,24.294736842105266,22.966666666666665,9.792,21.255102040816325,30.5,15.399999999999999,24.545,14.56842105263158,30.5,22.966666666666665,25.9,21.255102040816325,50.0,33.67142857142857,33.26666666666667,21.255102040816325,24.294736842105266,50.0,44.01666666666667,19.269230769230774,19.269230769230774,26.053333333333335,18.080000000000002,23.566666666666666,20.995238095238093,26.053333333333335,16.5,33.26666666666667,6.75,12.45,19.366666666666664,30.72,26.333333333333332,14.516666666666667,14.516666666666667,23.270588235294117,44.01666666666667,13.6,19.269230769230774,13.333333333333334,26.053333333333335,50.0,24.412499999999998,50.0,23.270588235294117,21.7,16.307692307692307,9.277777777777777,13.333333333333334,16.307692307692307,6.75,23.270588235294117,23.270588235294117,50.0,21.096153846153843,19.269230769230774,34.76923076923077,34.06896551724138,10.280000000000001,23.590625000000003,48.8,11.95,16.533333333333335,23.590625000000003,18.700000000000003,7.815384615384617,13.2,43.9,16.533333333333335,20.66388888888889,12.074999999999998,20.66388888888889,20.704761904761902,10.280000000000001,13.45,34.06896551724138,20.704761904761902,23.590625000000003,45.65,48.8,19.336363636363632,19.336363636363632,43.3,20.704761904761902,12.7,14.74,23.25,16.533333333333335,12.074999999999998,23.590625000000003,7.0,7.815384615384617,20.704761904761902,17.8,36.2,7.0,23.590625000000003,32.69166666666667,22.17647058823529,13.049999999999999,11.0,21.8,22.4,23.442307692307693,22.17647058823529,19.06,9.146153846153847,19.314285714285713,23.442307692307693,23.442307692307693,14.775,20.202941176470592,19.314285714285713,14.965,19.314285714285713,20.202941176470592,26.914285714285715,30.28571428571429,20.202941176470592,18.5,32.69166666666667,20.202941176470592,23.442307692307693,22.17647058823529,26.914285714285715,24.82,30.28571428571429,22.15,27.1,20.202941176470592,49.25,23.442307692307693,21.058333333333334,32.69166666666667,20.202941176470592,19.666666666666668,20.202941176470592]}},\"id\":\"5812af94-abf6-4885-9a7a-374dd4582474\",\"type\":\"ColumnDataSource\"},{\"attributes\":{\"plot\":{\"id\":\"53b9567c-794b-427b-a134-111a1f27c6ea\",\"subtype\":\"Figure\",\"type\":\"Plot\"}},\"id\":\"9be220be-3043-421e-af9d-6b9ddebbd5c1\",\"type\":\"ResizeTool\"},{\"attributes\":{\"active_drag\":\"auto\",\"active_scroll\":\"auto\",\"active_tap\":\"auto\",\"tools\":[{\"id\":\"855fea8a-8f53-48bc-ba12-238f6cd0606c\",\"type\":\"BoxZoomTool\"},{\"id\":\"8100f19f-ef96-4be8-a244-97b13db97cfd\",\"type\":\"BoxSelectTool\"},{\"id\":\"580f1b32-7d3a-40e0-9202-30589d2e12c9\",\"type\":\"CrosshairTool\"},{\"id\":\"9be220be-3043-421e-af9d-6b9ddebbd5c1\",\"type\":\"ResizeTool\"},{\"id\":\"57a1437e-ebbf-40e9-bf33-d5f0979006ce\",\"type\":\"ResetTool\"},{\"id\":\"bc568ecd-e1dd-499c-b8de-0201ddb3d969\",\"type\":\"LassoSelectTool\"},{\"id\":\"27e928b4-eca3-4d99-96bb-8a0e0df7d9d3\",\"type\":\"PanTool\"},{\"id\":\"60dcff51-a0b3-4678-ab3e-229ee438d78c\",\"type\":\"SaveTool\"},{\"id\":\"d0fc65dd-9897-461a-ae71-f8f128e8c7dc\",\"type\":\"PolySelectTool\"},{\"id\":\"d4fca3a8-21ee-4260-888f-42a859a52c4a\",\"type\":\"TapTool\"},{\"id\":\"f9f4ed9b-81e4-4e62-b581-9ad824adebc2\",\"type\":\"WheelZoomTool\"},{\"id\":\"48cd080a-a62f-461c-b9ad-81b5a731c536\",\"type\":\"UndoTool\"}]},\"id\":\"6c30e09d-0a35-4fca-bbaa-ba90186ec571\",\"type\":\"Toolbar\"},{\"attributes\":{\"data_source\":{\"id\":\"5812af94-abf6-4885-9a7a-374dd4582474\",\"type\":\"ColumnDataSource\"},\"glyph\":{\"id\":\"9b5e7da6-aff0-42c4-88d2-32a6e71fa667\",\"type\":\"Circle\"},\"hover_glyph\":null,\"nonselection_glyph\":{\"id\":\"1a34c1dc-9b60-452c-8b2c-51df845841e0\",\"type\":\"Circle\"},\"selection_glyph\":null},\"id\":\"cc51e8e6-7eb9-48c2-a972-b3f3bd5464de\",\"type\":\"GlyphRenderer\"},{\"attributes\":{},\"id\":\"9c9521cd-4b59-4b80-9399-c2043909558f\",\"type\":\"ToolEvents\"},{\"attributes\":{\"callback\":null},\"id\":\"b1342657-ffb6-48a1-ab8b-d838ddd21bbf\",\"type\":\"DataRange1d\"},{\"attributes\":{\"plot\":{\"id\":\"53b9567c-794b-427b-a134-111a1f27c6ea\",\"subtype\":\"Figure\",\"type\":\"Plot\"}},\"id\":\"57a1437e-ebbf-40e9-bf33-d5f0979006ce\",\"type\":\"ResetTool\"},{\"attributes\":{\"data_source\":{\"id\":\"59b9eebb-7720-4bf4-a9c3-54d37b264bc6\",\"type\":\"ColumnDataSource\"},\"glyph\":{\"id\":\"4bf98c2c-8901-4bac-b924-b3bc284f5f35\",\"type\":\"Line\"},\"hover_glyph\":null,\"nonselection_glyph\":{\"id\":\"260847bb-0f1d-4566-b45a-ae35837f0ae2\",\"type\":\"Line\"},\"selection_glyph\":null},\"id\":\"34cd56f7-9d43-48e3-aaf7-9df63526e734\",\"type\":\"GlyphRenderer\"},{\"attributes\":{\"dimension\":1,\"plot\":{\"id\":\"53b9567c-794b-427b-a134-111a1f27c6ea\",\"subtype\":\"Figure\",\"type\":\"Plot\"},\"ticker\":{\"id\":\"01c64407-3243-4c65-9ed0-abd80721db92\",\"type\":\"BasicTicker\"}},\"id\":\"0685cd54-ec32-4cb0-868e-0d2d4a6f82d3\",\"type\":\"Grid\"},{\"attributes\":{},\"id\":\"3886a79f-b98b-4495-a51e-2a47868c3233\",\"type\":\"BasicTickFormatter\"},{\"attributes\":{\"callback\":null},\"id\":\"1b020eb5-8697-486f-b3fe-6bbf79748600\",\"type\":\"DataRange1d\"},{\"attributes\":{},\"id\":\"01c64407-3243-4c65-9ed0-abd80721db92\",\"type\":\"BasicTicker\"},{\"attributes\":{\"fill_color\":{\"value\":\"#80B1D3\"},\"line_color\":{\"value\":\"#80B1D3\"},\"line_width\":{\"value\":3},\"x\":{\"field\":\"x\"},\"y\":{\"field\":\"y\"}},\"id\":\"9b5e7da6-aff0-42c4-88d2-32a6e71fa667\",\"type\":\"Circle\"},{\"attributes\":{},\"id\":\"43c8478c-c5f0-4896-9609-5a0558360cfa\",\"type\":\"BasicTickFormatter\"},{\"attributes\":{\"background_fill_alpha\":{\"value\":0.5},\"background_fill_color\":{\"value\":\"beige\"},\"below\":[{\"id\":\"37e5bf63-2f94-49c8-b56a-f9a8fbf543ee\",\"type\":\"LinearAxis\"}],\"left\":[{\"id\":\"6c42a5c2-1d84-4ffd-aa2b-00162f9c9235\",\"type\":\"LinearAxis\"}],\"plot_height\":500,\"plot_width\":500,\"renderers\":[{\"id\":\"37e5bf63-2f94-49c8-b56a-f9a8fbf543ee\",\"type\":\"LinearAxis\"},{\"id\":\"22e3b282-67e8-4f94-9796-3e0b4313575e\",\"type\":\"Grid\"},{\"id\":\"6c42a5c2-1d84-4ffd-aa2b-00162f9c9235\",\"type\":\"LinearAxis\"},{\"id\":\"0685cd54-ec32-4cb0-868e-0d2d4a6f82d3\",\"type\":\"Grid\"},{\"id\":\"77fdb521-bc4d-46a7-b054-094764b961c5\",\"type\":\"BoxAnnotation\"},{\"id\":\"f7d01e93-e60f-444b-bbc1-206a7d8d9725\",\"type\":\"BoxAnnotation\"},{\"id\":\"59ff5f96-03af-4872-ab93-e7f125df5ebc\",\"type\":\"PolyAnnotation\"},{\"id\":\"5a590ddb-b9f6-4c00-b5c2-63a1a5f1baf8\",\"type\":\"PolyAnnotation\"},{\"id\":\"cc51e8e6-7eb9-48c2-a972-b3f3bd5464de\",\"type\":\"GlyphRenderer\"},{\"id\":\"34cd56f7-9d43-48e3-aaf7-9df63526e734\",\"type\":\"GlyphRenderer\"}],\"title\":{\"id\":\"4c52f3f9-9644-4b43-a4b1-e0d76c36d269\",\"type\":\"Title\"},\"tool_events\":{\"id\":\"9c9521cd-4b59-4b80-9399-c2043909558f\",\"type\":\"ToolEvents\"},\"toolbar\":{\"id\":\"6c30e09d-0a35-4fca-bbaa-ba90186ec571\",\"type\":\"Toolbar\"},\"x_range\":{\"id\":\"1b020eb5-8697-486f-b3fe-6bbf79748600\",\"type\":\"DataRange1d\"},\"y_range\":{\"id\":\"b1342657-ffb6-48a1-ab8b-d838ddd21bbf\",\"type\":\"DataRange1d\"}},\"id\":\"53b9567c-794b-427b-a134-111a1f27c6ea\",\"subtype\":\"Figure\",\"type\":\"Plot\"},{\"attributes\":{\"callback\":null,\"overlay\":{\"id\":\"f7d01e93-e60f-444b-bbc1-206a7d8d9725\",\"type\":\"BoxAnnotation\"},\"plot\":{\"id\":\"53b9567c-794b-427b-a134-111a1f27c6ea\",\"subtype\":\"Figure\",\"type\":\"Plot\"},\"renderers\":[{\"id\":\"cc51e8e6-7eb9-48c2-a972-b3f3bd5464de\",\"type\":\"GlyphRenderer\"},{\"id\":\"34cd56f7-9d43-48e3-aaf7-9df63526e734\",\"type\":\"GlyphRenderer\"}]},\"id\":\"8100f19f-ef96-4be8-a244-97b13db97cfd\",\"type\":\"BoxSelectTool\"},{\"attributes\":{\"align\":\"center\",\"plot\":null,\"text\":null},\"id\":\"4c52f3f9-9644-4b43-a4b1-e0d76c36d269\",\"type\":\"Title\"},{\"attributes\":{\"overlay\":{\"id\":\"77fdb521-bc4d-46a7-b054-094764b961c5\",\"type\":\"BoxAnnotation\"},\"plot\":{\"id\":\"53b9567c-794b-427b-a134-111a1f27c6ea\",\"subtype\":\"Figure\",\"type\":\"Plot\"}},\"id\":\"855fea8a-8f53-48bc-ba12-238f6cd0606c\",\"type\":\"BoxZoomTool\"},{\"attributes\":{\"plot\":{\"id\":\"53b9567c-794b-427b-a134-111a1f27c6ea\",\"subtype\":\"Figure\",\"type\":\"Plot\"}},\"id\":\"580f1b32-7d3a-40e0-9202-30589d2e12c9\",\"type\":\"CrosshairTool\"},{\"attributes\":{\"plot\":{\"id\":\"53b9567c-794b-427b-a134-111a1f27c6ea\",\"subtype\":\"Figure\",\"type\":\"Plot\"}},\"id\":\"27e928b4-eca3-4d99-96bb-8a0e0df7d9d3\",\"type\":\"PanTool\"},{\"attributes\":{},\"id\":\"9202d167-b008-4184-8995-50fdc7ca47fa\",\"type\":\"BasicTicker\"},{\"attributes\":{\"line_dash\":[4,4],\"line_width\":{\"value\":2},\"x\":{\"field\":\"x\"},\"y\":{\"field\":\"y\"}},\"id\":\"4bf98c2c-8901-4bac-b924-b3bc284f5f35\",\"type\":\"Line\"},{\"attributes\":{\"plot\":{\"id\":\"53b9567c-794b-427b-a134-111a1f27c6ea\",\"subtype\":\"Figure\",\"type\":\"Plot\"}},\"id\":\"60dcff51-a0b3-4678-ab3e-229ee438d78c\",\"type\":\"SaveTool\"},{\"attributes\":{\"axis_label\":\"Predicted\",\"axis_label_text_color\":{\"value\":\"#aa6666\"},\"formatter\":{\"id\":\"43c8478c-c5f0-4896-9609-5a0558360cfa\",\"type\":\"BasicTickFormatter\"},\"plot\":{\"id\":\"53b9567c-794b-427b-a134-111a1f27c6ea\",\"subtype\":\"Figure\",\"type\":\"Plot\"},\"ticker\":{\"id\":\"01c64407-3243-4c65-9ed0-abd80721db92\",\"type\":\"BasicTicker\"}},\"id\":\"6c42a5c2-1d84-4ffd-aa2b-00162f9c9235\",\"type\":\"LinearAxis\"},{\"attributes\":{\"axis_label\":\"Measured\",\"axis_label_text_color\":{\"value\":\"#aa6666\"},\"formatter\":{\"id\":\"3886a79f-b98b-4495-a51e-2a47868c3233\",\"type\":\"BasicTickFormatter\"},\"major_tick_line_color\":{\"value\":\"firebrick\"},\"major_tick_line_width\":{\"value\":3},\"minor_tick_line_color\":{\"value\":\"orange\"},\"plot\":{\"id\":\"53b9567c-794b-427b-a134-111a1f27c6ea\",\"subtype\":\"Figure\",\"type\":\"Plot\"},\"ticker\":{\"id\":\"9202d167-b008-4184-8995-50fdc7ca47fa\",\"type\":\"BasicTicker\"}},\"id\":\"37e5bf63-2f94-49c8-b56a-f9a8fbf543ee\",\"type\":\"LinearAxis\"},{\"attributes\":{\"plot\":{\"id\":\"53b9567c-794b-427b-a134-111a1f27c6ea\",\"subtype\":\"Figure\",\"type\":\"Plot\"}},\"id\":\"48cd080a-a62f-461c-b9ad-81b5a731c536\",\"type\":\"UndoTool\"},{\"attributes\":{\"fill_alpha\":{\"value\":0.5},\"fill_color\":{\"value\":\"lightgrey\"},\"level\":\"overlay\",\"line_alpha\":{\"value\":1.0},\"line_color\":{\"value\":\"black\"},\"line_dash\":[4,4],\"line_width\":{\"value\":2},\"plot\":null,\"xs_units\":\"screen\",\"ys_units\":\"screen\"},\"id\":\"59ff5f96-03af-4872-ab93-e7f125df5ebc\",\"type\":\"PolyAnnotation\"},{\"attributes\":{\"bottom_units\":\"screen\",\"fill_alpha\":{\"value\":0.5},\"fill_color\":{\"value\":\"lightgrey\"},\"left_units\":\"screen\",\"level\":\"overlay\",\"line_alpha\":{\"value\":1.0},\"line_color\":{\"value\":\"black\"},\"line_dash\":[4,4],\"line_width\":{\"value\":2},\"plot\":null,\"render_mode\":\"css\",\"right_units\":\"screen\",\"top_units\":\"screen\"},\"id\":\"77fdb521-bc4d-46a7-b054-094764b961c5\",\"type\":\"BoxAnnotation\"},{\"attributes\":{\"plot\":{\"id\":\"53b9567c-794b-427b-a134-111a1f27c6ea\",\"subtype\":\"Figure\",\"type\":\"Plot\"},\"ticker\":{\"id\":\"9202d167-b008-4184-8995-50fdc7ca47fa\",\"type\":\"BasicTicker\"}},\"id\":\"22e3b282-67e8-4f94-9796-3e0b4313575e\",\"type\":\"Grid\"},{\"attributes\":{\"callback\":null,\"overlay\":{\"id\":\"59ff5f96-03af-4872-ab93-e7f125df5ebc\",\"type\":\"PolyAnnotation\"},\"plot\":{\"id\":\"53b9567c-794b-427b-a134-111a1f27c6ea\",\"subtype\":\"Figure\",\"type\":\"Plot\"}},\"id\":\"bc568ecd-e1dd-499c-b8de-0201ddb3d969\",\"type\":\"LassoSelectTool\"},{\"attributes\":{\"line_alpha\":{\"value\":0.1},\"line_color\":{\"value\":\"#1f77b4\"},\"line_dash\":[4,4],\"line_width\":{\"value\":2},\"x\":{\"field\":\"x\"},\"y\":{\"field\":\"y\"}},\"id\":\"260847bb-0f1d-4566-b45a-ae35837f0ae2\",\"type\":\"Line\"},{\"attributes\":{\"callback\":null,\"column_names\":[\"y\",\"x\"],\"data\":{\"x\":[5.0,50.0],\"y\":[5.0,50.0]}},\"id\":\"59b9eebb-7720-4bf4-a9c3-54d37b264bc6\",\"type\":\"ColumnDataSource\"},{\"attributes\":{\"fill_alpha\":{\"value\":0.5},\"fill_color\":{\"value\":\"lightgrey\"},\"level\":\"overlay\",\"line_alpha\":{\"value\":1.0},\"line_color\":{\"value\":\"black\"},\"line_dash\":[4,4],\"line_width\":{\"value\":2},\"plot\":null,\"xs_units\":\"screen\",\"ys_units\":\"screen\"},\"id\":\"5a590ddb-b9f6-4c00-b5c2-63a1a5f1baf8\",\"type\":\"PolyAnnotation\"},{\"attributes\":{\"overlay\":{\"id\":\"5a590ddb-b9f6-4c00-b5c2-63a1a5f1baf8\",\"type\":\"PolyAnnotation\"},\"plot\":{\"id\":\"53b9567c-794b-427b-a134-111a1f27c6ea\",\"subtype\":\"Figure\",\"type\":\"Plot\"}},\"id\":\"d0fc65dd-9897-461a-ae71-f8f128e8c7dc\",\"type\":\"PolySelectTool\"},{\"attributes\":{\"plot\":{\"id\":\"53b9567c-794b-427b-a134-111a1f27c6ea\",\"subtype\":\"Figure\",\"type\":\"Plot\"}},\"id\":\"f9f4ed9b-81e4-4e62-b581-9ad824adebc2\",\"type\":\"WheelZoomTool\"},{\"attributes\":{\"callback\":null,\"plot\":{\"id\":\"53b9567c-794b-427b-a134-111a1f27c6ea\",\"subtype\":\"Figure\",\"type\":\"Plot\"}},\"id\":\"d4fca3a8-21ee-4260-888f-42a859a52c4a\",\"type\":\"TapTool\"},{\"attributes\":{\"fill_alpha\":{\"value\":0.1},\"fill_color\":{\"value\":\"#1f77b4\"},\"line_alpha\":{\"value\":0.1},\"line_color\":{\"value\":\"#1f77b4\"},\"line_width\":{\"value\":3},\"x\":{\"field\":\"x\"},\"y\":{\"field\":\"y\"}},\"id\":\"1a34c1dc-9b60-452c-8b2c-51df845841e0\",\"type\":\"Circle\"}],\"root_ids\":[\"53b9567c-794b-427b-a134-111a1f27c6ea\"]},\"title\":\"Bokeh Application\",\"version\":\"0.12.0\"}};\n",
       "            var render_items = [{\"docid\":\"5e5fc4dc-a34a-49f9-af8d-d3482783de40\",\"elementid\":\"8b265943-0562-4821-b857-a4a8af484f8d\",\"modelid\":\"53b9567c-794b-427b-a134-111a1f27c6ea\",\"notebook_comms_target\":\"5f83adb6-9956-49e0-907e-d54e87f688f2\"}];\n",
       "            \n",
       "            Bokeh.embed.embed_items(docs_json, render_items);\n",
       "        });\n",
       "      },\n",
       "      function(Bokeh) {\n",
       "      }\n",
       "    ];\n",
       "  \n",
       "    function run_inline_js() {\n",
       "      for (var i = 0; i < inline_js.length; i++) {\n",
       "        inline_js[i](window.Bokeh);\n",
       "      }\n",
       "    }\n",
       "  \n",
       "    if (window._bokeh_is_loading === 0) {\n",
       "      console.log(\"Bokeh: BokehJS loaded, going straight to plotting\");\n",
       "      run_inline_js();\n",
       "    } else {\n",
       "      load_libs(js_urls, function() {\n",
       "        console.log(\"Bokeh: BokehJS plotting callback run at\", now());\n",
       "        run_inline_js();\n",
       "      });\n",
       "    }\n",
       "  }(this));\n",
       "</script>"
      ]
     },
     "metadata": {},
     "output_type": "display_data"
    },
    {
     "data": {
      "text/html": [
       "<p><code>&lt;Bokeh Notebook handle for <strong>In[24]</strong>&gt;</code></p>"
      ],
      "text/plain": [
       "<bokeh.io._CommsHandle at 0x10e190150>"
      ]
     },
     "execution_count": 24,
     "metadata": {},
     "output_type": "execute_result"
    }
   ],
   "source": [
    "# Plotining using bokeh\n",
    "#TOOLS = [BoxSelectTool(), HoverTool()]\n",
    "#TOOLS = 'hover,box_zoom,box_select,crosshair,resize,reset,DecisionTreeRegressor_select,pan,save,poly_select,tap,wheel_zoom,undo'\n",
    "TOOLS = 'box_zoom,box_select,crosshair,resize,reset,lasso_select,pan,save,poly_select,tap,wheel_zoom,undo'\n",
    "p = figure(plot_width=500, plot_height=500, tools=TOOLS)\n",
    "p.scatter(Y, predicted,x=\"jjj\", marker=\"o\", color=\"#80B1D3\", line_width=3)\n",
    "p.title.align = \"center\"\n",
    "p.xaxis.axis_label = \"Measured\"\n",
    "p.xaxis.axis_label_text_color = \"#aa6666\"\n",
    "#p.xaxis.axis_label_standoff = 30\n",
    "p.xaxis.major_tick_line_color = \"firebrick\"\n",
    "p.xaxis.major_tick_line_width = 3\n",
    "p.xaxis.minor_tick_line_color = \"orange\"\n",
    "p.yaxis.axis_label = \"Predicted\"\n",
    "p.yaxis.axis_label_text_font_style = \"italic\"\n",
    "p.yaxis.axis_label_text_color = \"#aa6666\"\n",
    "p.background_fill_color = \"beige\"\n",
    "p.background_fill_alpha = 0.5\n",
    "#p.line([Y.min(), Y.max()], [Y.min(), Y.max()], line_dash=\"4 4\", line_width=2, color='red')\n",
    "\n",
    "# create a new plot with the toolbar below\n",
    "# line_dash=\"4 4\", line_width=2, color='red'\n",
    "p.line([Y.min(), Y.max()], [Y.min(), Y.max()], line_dash=\"4 4\", line_width=2, line_color=\"black\")\n",
    "show(p)"
   ]
  },
  {
   "cell_type": "code",
   "execution_count": 25,
   "metadata": {
    "collapsed": false
   },
   "outputs": [
    {
     "data": {
      "text/plain": [
       "<matplotlib.text.Text at 0x10e0db4d0>"
      ]
     },
     "execution_count": 25,
     "metadata": {},
     "output_type": "execute_result"
    },
    {
     "data": {
      "image/png": "[encoded data removed]",
      "text/plain": [
       "<matplotlib.figure.Figure at 0x10e1e2dd0>"
      ]
     },
     "metadata": {},
     "output_type": "display_data"
    }
   ],
   "source": [
    "plt.scatter(predicted, (predicted - Y), c='r', s=30)\n",
    "plt.title(\"Residual plot on the training data\")\n",
    "plt.xlabel(\"Predicted\")\n",
    "plt.ylabel(\"Residuals\")"
   ]
  },
  {
   "cell_type": "code",
   "execution_count": 26,
   "metadata": {
    "collapsed": false
   },
   "outputs": [
    {
     "data": {
      "text/html": [
       "\n",
       "\n",
       "    <div class=\"bk-root\">\n",
       "        <div class=\"plotdiv\" id=\"3a7ea9d4-af6e-4d63-8c4c-ca91464043c0\"></div>\n",
       "    </div>\n",
       "<script type=\"text/javascript\">\n",
       "  \n",
       "  (function(global) {\n",
       "    function now() {\n",
       "      return new Date();\n",
       "    }\n",
       "  \n",
       "    if (typeof (window._bokeh_onload_callbacks) === \"undefined\") {\n",
       "      window._bokeh_onload_callbacks = [];\n",
       "    }\n",
       "  \n",
       "    function run_callbacks() {\n",
       "      window._bokeh_onload_callbacks.forEach(function(callback) { callback() });\n",
       "      delete window._bokeh_onload_callbacks\n",
       "      console.info(\"Bokeh: all callbacks have finished\");\n",
       "    }\n",
       "  \n",
       "    function load_libs(js_urls, callback) {\n",
       "      window._bokeh_onload_callbacks.push(callback);\n",
       "      if (window._bokeh_is_loading > 0) {\n",
       "        console.log(\"Bokeh: BokehJS is being loaded, scheduling callback at\", now());\n",
       "        return null;\n",
       "      }\n",
       "      if (js_urls == null || js_urls.length === 0) {\n",
       "        run_callbacks();\n",
       "        return null;\n",
       "      }\n",
       "      console.log(\"Bokeh: BokehJS not loaded, scheduling load and callback at\", now());\n",
       "      window._bokeh_is_loading = js_urls.length;\n",
       "      for (var i = 0; i < js_urls.length; i++) {\n",
       "        var url = js_urls[i];\n",
       "        var s = document.createElement('script');\n",
       "        s.src = url;\n",
       "        s.async = false;\n",
       "        s.onreadystatechange = s.onload = function() {\n",
       "          window._bokeh_is_loading--;\n",
       "          if (window._bokeh_is_loading === 0) {\n",
       "            console.log(\"Bokeh: all BokehJS libraries loaded\");\n",
       "            run_callbacks()\n",
       "          }\n",
       "        };\n",
       "        s.onerror = function() {\n",
       "          console.warn(\"failed to load library \" + url);\n",
       "        };\n",
       "        console.log(\"Bokeh: injecting script tag for BokehJS library: \", url);\n",
       "        document.getElementsByTagName(\"head\")[0].appendChild(s);\n",
       "      }\n",
       "    };var element = document.getElementById(\"3a7ea9d4-af6e-4d63-8c4c-ca91464043c0\");\n",
       "    if (element == null) {\n",
       "      console.log(\"Bokeh: ERROR: autoload.js configured with elementid '3a7ea9d4-af6e-4d63-8c4c-ca91464043c0' but no matching script tag was found. \")\n",
       "      return false;\n",
       "    }\n",
       "  \n",
       "    var js_urls = [];\n",
       "  \n",
       "    var inline_js = [\n",
       "      function(Bokeh) {\n",
       "        Bokeh.$(function() {\n",
       "            var docs_json = {\"d79bde84-bb8d-4983-9e0d-4ca480bfe983\":{\"roots\":{\"references\":[{\"attributes\":{\"fill_color\":{\"value\":\"#80B1D3\"},\"line_color\":{\"value\":\"#80B1D3\"},\"line_width\":{\"value\":3},\"x\":{\"field\":\"x\"},\"y\":{\"field\":\"y\"}},\"id\":\"11af6e76-505e-4f49-9ebb-5b28e3c44c2c\",\"type\":\"Circle\"},{\"attributes\":{\"active_drag\":\"auto\",\"active_scroll\":\"auto\",\"active_tap\":\"auto\",\"tools\":[{\"id\":\"4b682baa-a838-43f6-aeb3-0ef3a00a894a\",\"type\":\"BoxZoomTool\"},{\"id\":\"5437c7c2-7f56-481b-99c6-26d79c26ea1e\",\"type\":\"BoxSelectTool\"},{\"id\":\"123613b6-7626-4272-ab12-a4fcedd6eb5b\",\"type\":\"CrosshairTool\"},{\"id\":\"4ea50177-e257-42d9-a0d1-6cd9aba7e724\",\"type\":\"ResizeTool\"},{\"id\":\"025ebbeb-cbe2-4a53-ac1b-47190a6de9f7\",\"type\":\"ResetTool\"},{\"id\":\"f64bf7bb-1257-413c-8b68-6f57fa41113a\",\"type\":\"LassoSelectTool\"},{\"id\":\"44663155-dc66-44a0-9520-fe8f8fe41c39\",\"type\":\"PanTool\"},{\"id\":\"a1821312-a16c-40d4-81c8-6a20f6556bbe\",\"type\":\"SaveTool\"},{\"id\":\"282f0222-45b4-40a9-a801-6d38317e5749\",\"type\":\"PolySelectTool\"},{\"id\":\"1cd68754-bebc-4280-a821-10b1e990a3b3\",\"type\":\"TapTool\"},{\"id\":\"122ab7f3-515c-47d6-a502-ba70d41acb79\",\"type\":\"WheelZoomTool\"},{\"id\":\"520d8ee5-99e6-4520-80cb-999c1e8e1275\",\"type\":\"UndoTool\"}]},\"id\":\"ef9248d7-f894-48cf-8bec-151bb0b58da2\",\"type\":\"Toolbar\"},{\"attributes\":{\"plot\":{\"id\":\"96bce3f1-d60d-4d9c-8d1e-45cb136274e8\",\"subtype\":\"Figure\",\"type\":\"Plot\"},\"ticker\":{\"id\":\"b74f1c50-9569-48bb-85f2-bd06715b4ce1\",\"type\":\"BasicTicker\"}},\"id\":\"f29f3409-e6a2-467c-88c4-c8bbe971c98b\",\"type\":\"Grid\"},{\"attributes\":{\"plot\":{\"id\":\"96bce3f1-d60d-4d9c-8d1e-45cb136274e8\",\"subtype\":\"Figure\",\"type\":\"Plot\"}},\"id\":\"123613b6-7626-4272-ab12-a4fcedd6eb5b\",\"type\":\"CrosshairTool\"},{\"attributes\":{\"bottom_units\":\"screen\",\"fill_alpha\":{\"value\":0.5},\"fill_color\":{\"value\":\"lightgrey\"},\"left_units\":\"screen\",\"level\":\"overlay\",\"line_alpha\":{\"value\":1.0},\"line_color\":{\"value\":\"black\"},\"line_dash\":[4,4],\"line_width\":{\"value\":2},\"plot\":null,\"render_mode\":\"css\",\"right_units\":\"screen\",\"top_units\":\"screen\"},\"id\":\"6d2b7284-3d8e-4bc9-9d75-f8b7ee6df02d\",\"type\":\"BoxAnnotation\"},{\"attributes\":{\"callback\":null,\"overlay\":{\"id\":\"e68147f9-4aec-4ce3-b50a-4fc8ab1a3f60\",\"type\":\"PolyAnnotation\"},\"plot\":{\"id\":\"96bce3f1-d60d-4d9c-8d1e-45cb136274e8\",\"subtype\":\"Figure\",\"type\":\"Plot\"}},\"id\":\"f64bf7bb-1257-413c-8b68-6f57fa41113a\",\"type\":\"LassoSelectTool\"},{\"attributes\":{\"plot\":{\"id\":\"96bce3f1-d60d-4d9c-8d1e-45cb136274e8\",\"subtype\":\"Figure\",\"type\":\"Plot\"}},\"id\":\"025ebbeb-cbe2-4a53-ac1b-47190a6de9f7\",\"type\":\"ResetTool\"},{\"attributes\":{\"fill_alpha\":{\"value\":0.1},\"fill_color\":{\"value\":\"#1f77b4\"},\"line_alpha\":{\"value\":0.1},\"line_color\":{\"value\":\"#1f77b4\"},\"line_width\":{\"value\":3},\"x\":{\"field\":\"x\"},\"y\":{\"field\":\"y\"}},\"id\":\"6bc62411-4cd8-499f-b2ef-69772c29111e\",\"type\":\"Circle\"},{\"attributes\":{\"callback\":null,\"overlay\":{\"id\":\"f58b380f-2e21-46fb-ac59-b84022675bef\",\"type\":\"BoxAnnotation\"},\"plot\":{\"id\":\"96bce3f1-d60d-4d9c-8d1e-45cb136274e8\",\"subtype\":\"Figure\",\"type\":\"Plot\"},\"renderers\":[{\"id\":\"effd8c09-028f-4e4d-bfdd-adc82e664b2a\",\"type\":\"GlyphRenderer\"}]},\"id\":\"5437c7c2-7f56-481b-99c6-26d79c26ea1e\",\"type\":\"BoxSelectTool\"},{\"attributes\":{\"plot\":{\"id\":\"96bce3f1-d60d-4d9c-8d1e-45cb136274e8\",\"subtype\":\"Figure\",\"type\":\"Plot\"}},\"id\":\"a1821312-a16c-40d4-81c8-6a20f6556bbe\",\"type\":\"SaveTool\"},{\"attributes\":{\"bottom_units\":\"screen\",\"fill_alpha\":{\"value\":0.5},\"fill_color\":{\"value\":\"lightgrey\"},\"left_units\":\"screen\",\"level\":\"overlay\",\"line_alpha\":{\"value\":1.0},\"line_color\":{\"value\":\"black\"},\"line_dash\":[4,4],\"line_width\":{\"value\":2},\"plot\":null,\"render_mode\":\"css\",\"right_units\":\"screen\",\"top_units\":\"screen\"},\"id\":\"f58b380f-2e21-46fb-ac59-b84022675bef\",\"type\":\"BoxAnnotation\"},{\"attributes\":{},\"id\":\"53516103-98a1-4d36-a104-74b5fb171561\",\"type\":\"BasicTickFormatter\"},{\"attributes\":{\"callback\":null,\"plot\":{\"id\":\"96bce3f1-d60d-4d9c-8d1e-45cb136274e8\",\"subtype\":\"Figure\",\"type\":\"Plot\"}},\"id\":\"1cd68754-bebc-4280-a821-10b1e990a3b3\",\"type\":\"TapTool\"},{\"attributes\":{\"fill_alpha\":{\"value\":0.5},\"fill_color\":{\"value\":\"lightgrey\"},\"level\":\"overlay\",\"line_alpha\":{\"value\":1.0},\"line_color\":{\"value\":\"black\"},\"line_dash\":[4,4],\"line_width\":{\"value\":2},\"plot\":null,\"xs_units\":\"screen\",\"ys_units\":\"screen\"},\"id\":\"d0ec5980-d877-4b25-84cc-5a3094c2b9e6\",\"type\":\"PolyAnnotation\"},{\"attributes\":{\"callback\":null,\"column_names\":[\"x\",\"y\"],\"data\":{\"x\":[28.7375,20.821428571428577,33.38461538461539,20.821428571428577,8.700000000000001,21.654545454545453,21.51818181818182,23.81111111111111,23.75,17.9,14.387499999999998,19.1,14.387499999999998,22.116666666666664,8.700000000000001,18.82272727272728,8.700000000000001,49.25,29.766666666666666,7.375,16.6,20.821428571428577,18.82272727272728,21.0,37.599999999999994,22.116666666666664,21.51818181818182,37.599999999999994,11.742857142857144,8.700000000000001,21.0,15.299999999999999,10.4,35.66666666666667,20.821428571428577,16.554545454545455,26.16875,8.700000000000001,11.0,20.821428571428577,23.75,22.98181818181818,24.05,17.68,35.8,34.43076923076923,9.732000000000001,6.275,32.4,24.05,16.2,27.533333333333335,18.2,22.98181818181818,19.1,12.7,21.724999999999998,12.7,9.732000000000001,17.68,31.20000000000001,34.43076923076923,26.35,21.724999999999998,24.05,27.533333333333335,27.5,11.7,30.46666666666667,9.732000000000001,20.315789473684212,24.05,21.724999999999998,13.525000000000002,18.800000000000004,18.800000000000004,21.724999999999998,23.549999999999997,14.316666666666666,20.315789473684212,20.39375,20.315789473684212,18.94666666666667,23.374074074074073,25.25,27.450000000000003,46.05,15.719999999999999,13.525000000000002,33.8,30.425000000000004,19.763157894736846,50.0,23.374074074074073,25.25,21.616666666666664,23.374074074074073,43.9,25.25,22.025,48.65,30.425000000000004,17.8,50.0,18.7,23.374074074074073,22.425000000000004,19.766666666666662,28.46666666666667,25.25,13.525000000000002,19.700000000000003,19.766666666666662,13.525000000000002,17.8,25.8,15.800000000000002,30.425000000000004,17.9,18.94666666666667,19.766666666666662,14.633333333333335,19.700000000000003,20.852777777777774,14.2,22.836842105263155,23.763636363636362,20.852777777777774,16.845454545454547,22.836842105263155,20.573076923076922,33.976,22.836842105263155,22.836842105263155,11.136842105263156,20.852777777777774,33.4,19.59166666666667,37.6,23.763636363636362,20.852777777777774,16.845454545454547,33.976,29.766666666666666,28.0,19.59166666666667,29.35,13.399999999999999,16.75,11.136842105263156,14.1,37.6,16.845454545454547,14.2,25.25,22.836842105263155,19.55454545454545,33.976,23.763636363636362,22.836842105263155,19.59166666666667,23.763636363636362,20.852777777777774,8.986666666666668,25.05,23.1,21.156249999999996,14.9,27.1,13.333333333333334,15.633333333333333,26.174999999999997,15.633333333333333,22.805,11.925,14.466666666666667,19.433333333333334,19.70731707317073,20.3,23.802941176470586,20.3,22.805,11.925,34.61176470588235,13.333333333333334,50.0,26.174999999999997,31.97,20.3,17.099999999999998,21.156249999999996,27.1,17.099999999999998,27.1,49.4,19.70731707317073,11.925,31.97,30.3,19.70731707317073,20.24285714285714,19.433333333333334,21.156249999999996,22.805,23.384375000000002,9.306896551724137,20.916129032258063,43.339999999999996,43.339999999999996,23.384375000000002,24.3,20.916129032258063,20.916129032258063,14.566666666666668,21.017391304347825,23.384375000000002,30.04444444444444,18.968750000000004,12.86,13.2,31.65,30.85,20.916129032258063,18.968750000000004,29.25,9.306896551724137,18.857894736842105,23.384375000000002,14.133333333333333,20.916129032258063,21.017391304347825,23.384375000000002,21.017391304347825,41.7,14.533333333333333,36.18181818181818,32.32,17.35,43.339999999999996,22.0,18.857894736842105,36.2,14.133333333333333,18.857894736842105,32.371428571428574,20.24285714285714,14.56842105263158,35.739999999999995,10.4,24.294736842105266,28.266666666666666,45.65,17.233333333333334,45.65,20.24285714285714,10.4,21.255102040816325,19.366666666666667,22.966666666666665,29.76666666666667,20.24285714285714,20.24285714285714,22.2,9.792,9.792,14.56842105263158,19.22857142857143,24.294736842105266,22.966666666666665,9.792,21.255102040816325,30.5,15.399999999999999,24.545,14.56842105263158,30.5,22.966666666666665,25.9,21.255102040816325,50.0,33.67142857142857,33.26666666666667,21.255102040816325,24.294736842105266,50.0,44.01666666666667,19.269230769230774,19.269230769230774,26.053333333333335,18.080000000000002,23.566666666666666,20.995238095238093,26.053333333333335,16.5,33.26666666666667,6.75,12.45,19.366666666666664,30.72,26.333333333333332,14.516666666666667,14.516666666666667,23.270588235294117,44.01666666666667,13.6,19.269230769230774,13.333333333333334,26.053333333333335,50.0,24.412499999999998,50.0,23.270588235294117,21.7,16.307692307692307,9.277777777777777,13.333333333333334,16.307692307692307,6.75,23.270588235294117,23.270588235294117,50.0,21.096153846153843,19.269230769230774,34.76923076923077,34.06896551724138,10.280000000000001,23.590625000000003,48.8,11.95,16.533333333333335,23.590625000000003,18.700000000000003,7.815384615384617,13.2,43.9,16.533333333333335,20.66388888888889,12.074999999999998,20.66388888888889,20.704761904761902,10.280000000000001,13.45,34.06896551724138,20.704761904761902,23.590625000000003,45.65,48.8,19.336363636363632,19.336363636363632,43.3,20.704761904761902,12.7,14.74,23.25,16.533333333333335,12.074999999999998,23.590625000000003,7.0,7.815384615384617,20.704761904761902,17.8,36.2,7.0,23.590625000000003,32.69166666666667,22.17647058823529,13.049999999999999,11.0,21.8,22.4,23.442307692307693,22.17647058823529,19.06,9.146153846153847,19.314285714285713,23.442307692307693,23.442307692307693,14.775,20.202941176470592,19.314285714285713,14.965,19.314285714285713,20.202941176470592,26.914285714285715,30.28571428571429,20.202941176470592,18.5,32.69166666666667,20.202941176470592,23.442307692307693,22.17647058823529,26.914285714285715,24.82,30.28571428571429,22.15,27.1,20.202941176470592,49.25,23.442307692307693,21.058333333333334,32.69166666666667,20.202941176470592,19.666666666666668,20.202941176470592],\"y\":[2.0375000000000014,-0.8785714285714228,11.384615384615387,-2.078571428571422,-1.6999999999999993,-0.24545454545454604,0.918181818181818,-2.5888888888888886,-17.549999999999997,0.6999999999999993,-12.712500000000004,-1.2999999999999972,-2.1125000000000025,-2.283333333333335,0.3000000000000007,-4.177272727272719,-0.9999999999999982,-0.75,-0.7333333333333343,-4.925000000000001,-2.799999999999997,-0.3785714285714228,-1.4772727272727195,2.1999999999999993,4.199999999999996,3.6166666666666636,1.918181818181818,4.3999999999999915,-1.3571428571428559,1.200000000000001,7.4,-2.0999999999999996,2.0,0.2666666666666728,-3.1785714285714235,3.1545454545454543,-0.03125,1.5000000000000009,-2.0999999999999996,-3.6785714285714235,-13.450000000000003,-2.0181818181818194,-0.05000000000000071,1.0799999999999983,2.8999999999999986,-1.7692307692307736,-1.267999999999999,-0.9249999999999998,9.599999999999998,-4.649999999999999,1.799999999999999,3.1333333333333364,0.09999999999999787,0.4818181818181806,-1.3999999999999986,-2.5,4.324999999999999,-0.9000000000000004,1.0320000000000018,-0.5199999999999996,-4.199999999999989,2.73076923076923,-6.649999999999999,-0.4750000000000014,3.650000000000002,3.6333333333333364,2.5,-1.0,1.3666666666666671,-2.267999999999999,2.615789473684213,-2.9499999999999993,1.1249999999999964,3.325000000000003,1.3000000000000043,-0.899999999999995,-8.075000000000003,3.049999999999997,-0.5833333333333339,9.415789473684212,0.8937500000000007,-2.384210526315787,-0.553333333333331,-1.225925925925928,0.25,2.950000000000003,-3.950000000000003,1.4199999999999982,1.7250000000000014,2.799999999999997,1.725000000000005,3.5631578947368467,6.5,-1.6259259259259267,3.25,1.716666666666665,1.274074074074072,-2.1000000000000014,2.3500000000000014,1.8249999999999993,5.549999999999997,-4.174999999999997,4.0,25.7,-2.8000000000000007,-1.0259259259259252,1.225000000000005,-4.0333333333333385,1.8666666666666671,0.14999999999999858,3.9250000000000025,0.30000000000000426,0.3666666666666636,4.025000000000002,3.8000000000000007,-0.6999999999999993,2.0000000000000018,-4.274999999999999,1.5999999999999979,-2.7533333333333303,2.266666666666662,-0.966666666666665,-1.1999999999999957,-0.847222222222225,1.5,4.336842105263155,0.0636363636363626,1.5527777777777736,4.145454545454548,1.236842105263154,-2.6269230769230774,4.375999999999998,1.636842105263156,-0.9631578947368453,-5.963157894736845,-1.1472222222222257,-3.1000000000000014,0.7916666666666679,15.700000000000003,0.6636363636363605,0.652777777777775,-0.5545454545454511,-3.024000000000001,5.666666666666664,-8.200000000000003,3.8916666666666693,-2.8500000000000014,-0.10000000000000142,-1.1499999999999986,-2.1631578947368446,2.4000000000000004,-4.100000000000001,-1.5545454545454511,1.0999999999999996,0.25,1.636842105263156,3.554545454545451,-0.9239999999999995,-1.4363636363636374,-1.9631578947368453,-1.9083333333333314,0.3636363636363633,1.9527777777777757,-1.8133333333333326,4.050000000000001,-4.399999999999999,3.6562499999999964,1.4000000000000004,-1.5999999999999979,-1.4666666666666668,-3.4666666666666686,-2.4250000000000043,2.533333333333333,3.8049999999999997,0.625,1.166666666666666,-2.966666666666665,-0.39268292682927,2.1000000000000014,0.9029411764705877,-0.3000000000000007,-2.1950000000000003,-0.875,-0.2882352941176478,-10.366666666666665,0.0,-2.825000000000003,1.8699999999999974,-1.6999999999999993,1.4999999999999982,-2.1437500000000043,-3.0,2.799999999999997,4.300000000000001,-0.6000000000000014,-1.0926829268292693,5.625000000000001,-2.9299999999999997,-2.099999999999998,-0.19268292682926713,-0.05714285714286049,1.6333333333333329,-1.943750000000005,2.405000000000001,0.18437500000000284,2.3068965517241367,4.116129032258062,-3.3600000000000065,-6.660000000000004,0.48437500000000355,0.40000000000000213,-0.48387096774193594,-0.7838709677419367,-0.8333333333333321,5.717391304347824,0.2843750000000007,6.144444444444442,-0.431249999999995,0.9599999999999991,-4.600000000000001,0.14999999999999858,-2.9499999999999957,0.11612903225806193,-0.8312499999999972,6.850000000000001,4.306896551724137,-5.6421052631578945,3.9843750000000036,-0.9666666666666668,2.7161290322580633,1.7173913043478244,-3.7156249999999993,0.3173913043478258,4.100000000000001,2.833333333333334,2.7818181818181813,2.219999999999999,-4.049999999999997,-2.0600000000000023,1.8999999999999986,-1.9421052631578952,9.800000000000004,3.7333333333333325,-2.9421052631578952,0.37142857142857366,-1.457142857142859,-3.8315789473684188,-2.1600000000000037,-7.4,-3.705263157894734,0.06666666666666643,9.649999999999999,-1.6666666666666643,30.65,-2.25714285714286,-20.299999999999997,1.2551020408163254,0.2666666666666657,-0.3333333333333357,3.166666666666668,-0.8571428571428612,0.5428571428571409,2.1999999999999993,-2.308,2.5919999999999996,0.36842105263158054,1.9285714285714306,-3.205263157894734,0.7666666666666657,-1.1080000000000005,2.055102040816326,-1.5,0.8999999999999986,-0.15499999999999758,1.9684210526315802,6.5,-1.1333333333333364,-24.1,5.155102040816324,6.200000000000003,7.071428571428569,-2.8333333333333286,-0.5448979591836753,-5.605263157894733,0.0,0.016666666666672825,-1.3307692307692278,-0.3307692307692278,-2.346666666666664,-1.0199999999999996,1.2666666666666657,0.0952380952380949,-2.346666666666664,2.0999999999999996,0.56666666666667,-7.050000000000001,3.9499999999999993,-3.1333333333333364,-4.380000000000003,-5.266666666666669,-3.283333333333333,-1.0833333333333321,2.5705882352941174,4.216666666666676,-4.200000000000001,-0.3307692307692278,-1.5666666666666664,4.053333333333335,1.2000000000000028,-0.5875000000000021,1.5,-0.6294117647058819,1.3999999999999986,1.1076923076923073,-1.2222222222222232,-5.666666666666666,-0.09230769230769198,-2.0500000000000007,1.2705882352941167,-1.529411764705884,0.0,1.7961538461538424,-3.4307692307692257,-2.5307692307692307,2.4689655172413794,1.9800000000000004,0.4906250000000014,-1.2000000000000028,-1.950000000000001,0.43333333333333357,-1.7093749999999979,-0.7999999999999972,-2.3846153846153824,-6.699999999999999,8.699999999999996,3.1333333333333346,-4.036111111111108,0.5749999999999975,-2.736111111111107,4.004761904761903,-5.119999999999999,-4.550000000000001,5.568965517241381,2.3047619047619037,-8.909374999999997,-4.350000000000001,-1.2000000000000028,-0.263636363636369,1.736363636363631,1.0,6.204761904761902,-0.5,-1.459999999999999,-6.350000000000001,-0.1666666666666643,-0.9250000000000025,1.2906250000000021,-6.4,2.815384615384617,1.2047619047619023,3.200000000000001,14.200000000000003,-1.0999999999999996,-1.0093749999999986,-0.5083333333333329,1.5764705882352885,-1.0500000000000007,-3.0999999999999996,0.6999999999999993,-7.900000000000002,-0.2576923076923059,0.7764705882352914,0.759999999999998,0.6461538461538474,-3.4857142857142875,0.6423076923076927,1.2423076923076941,0.875,-4.797058823529408,0.8142857142857132,7.965,-3.2857142857142883,0.10294117647059053,-3.885714285714286,-0.8142857142857132,-3.5970588235294088,6.0,9.091666666666669,-2.9970588235294073,-0.7576923076923059,-0.02352941176470935,-0.985714285714284,2.620000000000001,-2.814285714285713,2.849999999999998,8.200000000000003,-2.3970588235294095,-0.75,-1.3576923076923073,2.5583333333333336,-3.7083333333333286,1.0029411764705927,3.0666666666666664,-2.8970588235294095]}},\"id\":\"6e6587ea-e4e2-42a4-866a-c3b6c395b5ff\",\"type\":\"ColumnDataSource\"},{\"attributes\":{\"plot\":{\"id\":\"96bce3f1-d60d-4d9c-8d1e-45cb136274e8\",\"subtype\":\"Figure\",\"type\":\"Plot\"}},\"id\":\"520d8ee5-99e6-4520-80cb-999c1e8e1275\",\"type\":\"UndoTool\"},{\"attributes\":{\"plot\":{\"id\":\"96bce3f1-d60d-4d9c-8d1e-45cb136274e8\",\"subtype\":\"Figure\",\"type\":\"Plot\"}},\"id\":\"122ab7f3-515c-47d6-a502-ba70d41acb79\",\"type\":\"WheelZoomTool\"},{\"attributes\":{\"background_fill_alpha\":{\"value\":0.5},\"background_fill_color\":{\"value\":\"beige\"},\"below\":[{\"id\":\"6d60879a-737b-4c65-97cd-4277278ac1f5\",\"type\":\"LinearAxis\"}],\"left\":[{\"id\":\"6a089221-e5c4-4e87-a2fe-561c2006d9ef\",\"type\":\"LinearAxis\"}],\"plot_height\":500,\"plot_width\":500,\"renderers\":[{\"id\":\"6d60879a-737b-4c65-97cd-4277278ac1f5\",\"type\":\"LinearAxis\"},{\"id\":\"f29f3409-e6a2-467c-88c4-c8bbe971c98b\",\"type\":\"Grid\"},{\"id\":\"6a089221-e5c4-4e87-a2fe-561c2006d9ef\",\"type\":\"LinearAxis\"},{\"id\":\"191582e3-8801-47ab-a321-280e9c114f5b\",\"type\":\"Grid\"},{\"id\":\"6d2b7284-3d8e-4bc9-9d75-f8b7ee6df02d\",\"type\":\"BoxAnnotation\"},{\"id\":\"f58b380f-2e21-46fb-ac59-b84022675bef\",\"type\":\"BoxAnnotation\"},{\"id\":\"e68147f9-4aec-4ce3-b50a-4fc8ab1a3f60\",\"type\":\"PolyAnnotation\"},{\"id\":\"d0ec5980-d877-4b25-84cc-5a3094c2b9e6\",\"type\":\"PolyAnnotation\"},{\"id\":\"effd8c09-028f-4e4d-bfdd-adc82e664b2a\",\"type\":\"GlyphRenderer\"}],\"title\":{\"id\":\"f11f677a-7974-4427-bb0d-0eead5b9ec25\",\"type\":\"Title\"},\"tool_events\":{\"id\":\"deb9ac03-5d7e-41fa-a4d4-740a151541e4\",\"type\":\"ToolEvents\"},\"toolbar\":{\"id\":\"ef9248d7-f894-48cf-8bec-151bb0b58da2\",\"type\":\"Toolbar\"},\"x_range\":{\"id\":\"5af69fab-c5ec-4aca-a6e3-e4d73ff8060e\",\"type\":\"DataRange1d\"},\"y_range\":{\"id\":\"09912424-32fc-4c8c-a9f3-d33b0915a613\",\"type\":\"DataRange1d\"}},\"id\":\"96bce3f1-d60d-4d9c-8d1e-45cb136274e8\",\"subtype\":\"Figure\",\"type\":\"Plot\"},{\"attributes\":{\"overlay\":{\"id\":\"d0ec5980-d877-4b25-84cc-5a3094c2b9e6\",\"type\":\"PolyAnnotation\"},\"plot\":{\"id\":\"96bce3f1-d60d-4d9c-8d1e-45cb136274e8\",\"subtype\":\"Figure\",\"type\":\"Plot\"}},\"id\":\"282f0222-45b4-40a9-a801-6d38317e5749\",\"type\":\"PolySelectTool\"},{\"attributes\":{},\"id\":\"deb9ac03-5d7e-41fa-a4d4-740a151541e4\",\"type\":\"ToolEvents\"},{\"attributes\":{\"dimension\":1,\"plot\":{\"id\":\"96bce3f1-d60d-4d9c-8d1e-45cb136274e8\",\"subtype\":\"Figure\",\"type\":\"Plot\"},\"ticker\":{\"id\":\"569d230a-65b7-4307-8ae4-1052b253e95e\",\"type\":\"BasicTicker\"}},\"id\":\"191582e3-8801-47ab-a321-280e9c114f5b\",\"type\":\"Grid\"},{\"attributes\":{\"data_source\":{\"id\":\"6e6587ea-e4e2-42a4-866a-c3b6c395b5ff\",\"type\":\"ColumnDataSource\"},\"glyph\":{\"id\":\"11af6e76-505e-4f49-9ebb-5b28e3c44c2c\",\"type\":\"Circle\"},\"hover_glyph\":null,\"nonselection_glyph\":{\"id\":\"6bc62411-4cd8-499f-b2ef-69772c29111e\",\"type\":\"Circle\"},\"selection_glyph\":null},\"id\":\"effd8c09-028f-4e4d-bfdd-adc82e664b2a\",\"type\":\"GlyphRenderer\"},{\"attributes\":{\"axis_label\":\"Residuals\",\"axis_label_text_color\":{\"value\":\"#aa6666\"},\"formatter\":{\"id\":\"e166f629-6d73-4341-8c62-c6b5c0e6b447\",\"type\":\"BasicTickFormatter\"},\"plot\":{\"id\":\"96bce3f1-d60d-4d9c-8d1e-45cb136274e8\",\"subtype\":\"Figure\",\"type\":\"Plot\"},\"ticker\":{\"id\":\"569d230a-65b7-4307-8ae4-1052b253e95e\",\"type\":\"BasicTicker\"}},\"id\":\"6a089221-e5c4-4e87-a2fe-561c2006d9ef\",\"type\":\"LinearAxis\"},{\"attributes\":{\"align\":\"center\",\"plot\":null,\"text\":\"Residual plot on the training data\"},\"id\":\"f11f677a-7974-4427-bb0d-0eead5b9ec25\",\"type\":\"Title\"},{\"attributes\":{\"overlay\":{\"id\":\"6d2b7284-3d8e-4bc9-9d75-f8b7ee6df02d\",\"type\":\"BoxAnnotation\"},\"plot\":{\"id\":\"96bce3f1-d60d-4d9c-8d1e-45cb136274e8\",\"subtype\":\"Figure\",\"type\":\"Plot\"}},\"id\":\"4b682baa-a838-43f6-aeb3-0ef3a00a894a\",\"type\":\"BoxZoomTool\"},{\"attributes\":{\"callback\":null},\"id\":\"09912424-32fc-4c8c-a9f3-d33b0915a613\",\"type\":\"DataRange1d\"},{\"attributes\":{\"plot\":{\"id\":\"96bce3f1-d60d-4d9c-8d1e-45cb136274e8\",\"subtype\":\"Figure\",\"type\":\"Plot\"}},\"id\":\"4ea50177-e257-42d9-a0d1-6cd9aba7e724\",\"type\":\"ResizeTool\"},{\"attributes\":{},\"id\":\"569d230a-65b7-4307-8ae4-1052b253e95e\",\"type\":\"BasicTicker\"},{\"attributes\":{\"callback\":null},\"id\":\"5af69fab-c5ec-4aca-a6e3-e4d73ff8060e\",\"type\":\"DataRange1d\"},{\"attributes\":{},\"id\":\"e166f629-6d73-4341-8c62-c6b5c0e6b447\",\"type\":\"BasicTickFormatter\"},{\"attributes\":{},\"id\":\"b74f1c50-9569-48bb-85f2-bd06715b4ce1\",\"type\":\"BasicTicker\"},{\"attributes\":{\"plot\":{\"id\":\"96bce3f1-d60d-4d9c-8d1e-45cb136274e8\",\"subtype\":\"Figure\",\"type\":\"Plot\"}},\"id\":\"44663155-dc66-44a0-9520-fe8f8fe41c39\",\"type\":\"PanTool\"},{\"attributes\":{\"axis_label\":\"Predicted\",\"axis_label_text_color\":{\"value\":\"#aa6666\"},\"formatter\":{\"id\":\"53516103-98a1-4d36-a104-74b5fb171561\",\"type\":\"BasicTickFormatter\"},\"major_tick_line_color\":{\"value\":\"firebrick\"},\"major_tick_line_width\":{\"value\":3},\"minor_tick_line_color\":{\"value\":\"orange\"},\"plot\":{\"id\":\"96bce3f1-d60d-4d9c-8d1e-45cb136274e8\",\"subtype\":\"Figure\",\"type\":\"Plot\"},\"ticker\":{\"id\":\"b74f1c50-9569-48bb-85f2-bd06715b4ce1\",\"type\":\"BasicTicker\"}},\"id\":\"6d60879a-737b-4c65-97cd-4277278ac1f5\",\"type\":\"LinearAxis\"},{\"attributes\":{\"fill_alpha\":{\"value\":0.5},\"fill_color\":{\"value\":\"lightgrey\"},\"level\":\"overlay\",\"line_alpha\":{\"value\":1.0},\"line_color\":{\"value\":\"black\"},\"line_dash\":[4,4],\"line_width\":{\"value\":2},\"plot\":null,\"xs_units\":\"screen\",\"ys_units\":\"screen\"},\"id\":\"e68147f9-4aec-4ce3-b50a-4fc8ab1a3f60\",\"type\":\"PolyAnnotation\"}],\"root_ids\":[\"96bce3f1-d60d-4d9c-8d1e-45cb136274e8\"]},\"title\":\"Bokeh Application\",\"version\":\"0.12.0\"}};\n",
       "            var render_items = [{\"docid\":\"d79bde84-bb8d-4983-9e0d-4ca480bfe983\",\"elementid\":\"3a7ea9d4-af6e-4d63-8c4c-ca91464043c0\",\"modelid\":\"96bce3f1-d60d-4d9c-8d1e-45cb136274e8\",\"notebook_comms_target\":\"23cc0bc5-47bf-4514-a5c2-749315d64e01\"}];\n",
       "            \n",
       "            Bokeh.embed.embed_items(docs_json, render_items);\n",
       "        });\n",
       "      },\n",
       "      function(Bokeh) {\n",
       "      }\n",
       "    ];\n",
       "  \n",
       "    function run_inline_js() {\n",
       "      for (var i = 0; i < inline_js.length; i++) {\n",
       "        inline_js[i](window.Bokeh);\n",
       "      }\n",
       "    }\n",
       "  \n",
       "    if (window._bokeh_is_loading === 0) {\n",
       "      console.log(\"Bokeh: BokehJS loaded, going straight to plotting\");\n",
       "      run_inline_js();\n",
       "    } else {\n",
       "      load_libs(js_urls, function() {\n",
       "        console.log(\"Bokeh: BokehJS plotting callback run at\", now());\n",
       "        run_inline_js();\n",
       "      });\n",
       "    }\n",
       "  }(this));\n",
       "</script>"
      ]
     },
     "metadata": {},
     "output_type": "display_data"
    },
    {
     "data": {
      "text/html": [
       "<p><code>&lt;Bokeh Notebook handle for <strong>In[26]</strong>&gt;</code></p>"
      ],
      "text/plain": [
       "<bokeh.io._CommsHandle at 0x10f38ff50>"
      ]
     },
     "execution_count": 26,
     "metadata": {},
     "output_type": "execute_result"
    }
   ],
   "source": [
    "# Plotining using bokeh\n",
    "#TOOLS = 'hover,box_zoom,box_select,crosshair,resize,reset,DecisionTreeRegressor_select,pan,save,poly_select,tap,wheel_zoom,undo'\n",
    "TOOLS = 'box_zoom,box_select,crosshair,resize,reset,lasso_select,pan,save,poly_select,tap,wheel_zoom,undo'\n",
    "p = figure(plot_width=500, plot_height=500, title=\"Residual plot on the training data\", tools=TOOLS)\n",
    "p.scatter(predicted, (predicted - Y),x=\"jjj\", marker=\"o\", color=\"#80B1D3\", line_width=3)\n",
    "p.title.align = \"center\"\n",
    "p.xaxis.axis_label = \"Predicted\"\n",
    "p.xaxis.axis_label_text_color = \"#aa6666\"\n",
    "#p.xaxis.axis_label_standoff = 30\n",
    "p.xaxis.major_tick_line_color = \"firebrick\"\n",
    "p.xaxis.major_tick_line_width = 3\n",
    "p.xaxis.minor_tick_line_color = \"orange\"\n",
    "p.yaxis.axis_label = \"Residuals\"\n",
    "p.yaxis.axis_label_text_font_style = \"italic\"\n",
    "p.yaxis.axis_label_text_color = \"#aa6666\"\n",
    "p.background_fill_color = \"beige\"\n",
    "p.background_fill_alpha = 0.5\n",
    "#p.line([2,38], [0, 0], line_dash=\"4 4\", line_width=2, color='red')\n",
    "show(p)"
   ]
  },
  {
   "cell_type": "markdown",
   "metadata": {},
   "source": [
    "## Pipeline"
   ]
  },
  {
   "cell_type": "markdown",
   "metadata": {},
   "source": [
    "The best to deliver the model by pipeline the operation then at deployment can be done in one model."
   ]
  },
  {
   "cell_type": "markdown",
   "metadata": {
    "collapsed": true
   },
   "source": [
    "  I used two ways to check the pipeline so any one can be fine"
   ]
  },
  {
   "cell_type": "code",
   "execution_count": 27,
   "metadata": {
    "collapsed": false
   },
   "outputs": [
    {
     "name": "stdout",
     "output_type": "stream",
     "text": [
      "0.967490288899\n",
      "Scoring according to mean_squared_error\n",
      "[-29.00735224 -11.06425912 -24.06707727 -14.24575533  -8.5471075\n",
      " -13.65032745 -52.96125816  -8.4952062  -13.01082731 -12.2584753 ]\n",
      "\n",
      " Mean      Standard deviation\n",
      "-18.73      13.01\n",
      "[ True  True  True  True  True  True  True  True  True  True  True  True\n",
      "  True]\n",
      "R-squared =  0.967490288899\n"
     ]
    }
   ],
   "source": [
    "# Use Pipeline\n",
    "# ANOVA \n",
    "from sklearn.pipeline import Pipeline\n",
    "from sklearn.feature_selection import SelectKBest, f_regression\n",
    "anova_filter = SelectKBest(f_regression, k=13)\n",
    "LR =  DecisionTreeRegressor(min_samples_split = 3, max_depth = 7, min_samples_leaf =1 )\n",
    "\n",
    "anova_LinReg = Pipeline([('scaler_Input',scaler), ('anova', anova_filter), ('LinReg', LR)])\n",
    "# You can set the parameters using the names issued\n",
    "# For instance, fit using a k of 10 in the SelectKBest\n",
    "anova_LinReg.set_params(anova__k=13).fit(new_data, Y)\n",
    "prediction = anova_LinReg.predict(new_data)\n",
    "print anova_LinReg.score(new_data, Y)                        \n",
    "# getting the selected features chosen by anova_filter\n",
    "results = cross_validation.cross_val_score(anova_LinReg, new_data, Y, cv=kfold, scoring=scoring)\n",
    "print 'Scoring according to mean_squared_error'\n",
    "print results\n",
    "print '\\n Mean      Standard deviation'\n",
    "print(\"%.2f      %.2f\" % (results.mean(), results.std()))\n",
    "print anova_LinReg.named_steps['anova'].get_support()\n",
    "r_squared = r2_score(Y, prediction, multioutput='variance_weighted')\n",
    "print 'R-squared = ',r_squared"
   ]
  },
  {
   "cell_type": "code",
   "execution_count": 28,
   "metadata": {
    "collapsed": false
   },
   "outputs": [
    {
     "name": "stdout",
     "output_type": "stream",
     "text": [
      "R-squared =  0.967490288899\n"
     ]
    }
   ],
   "source": [
    "# Using make_pipeline\n",
    "from sklearn.pipeline import make_pipeline\n",
    "\n",
    "# ANOVA SVM-C\n",
    "# 1) anova filter, take 3 best ranked features\n",
    "anova_filter = SelectKBest(f_regression, k=13)\n",
    "anova_DTRegressor = make_pipeline(scaler, anova_filter, LR)\n",
    "anova_DTRegressor.fit(new_data, Y)\n",
    "prediction = anova_DTRegressor.predict(new_data)\n",
    "r_squared = r2_score(Y, prediction, multioutput='variance_weighted')\n",
    "print 'R-squared = ',r_squared"
   ]
  },
  {
   "cell_type": "markdown",
   "metadata": {},
   "source": [
    "### Save the Pipeline model for developement"
   ]
  },
  {
   "cell_type": "code",
   "execution_count": 29,
   "metadata": {
    "collapsed": false
   },
   "outputs": [
    {
     "data": {
      "text/plain": [
       "['anova_DTRegressor.pkl',\n",
       " 'anova_DTRegressor.pkl_01.npy',\n",
       " 'anova_DTRegressor.pkl_02.npy',\n",
       " 'anova_DTRegressor.pkl_03.npy',\n",
       " 'anova_DTRegressor.pkl_04.npy',\n",
       " 'anova_DTRegressor.pkl_05.npy',\n",
       " 'anova_DTRegressor.pkl_06.npy',\n",
       " 'anova_DTRegressor.pkl_07.npy',\n",
       " 'anova_DTRegressor.pkl_08.npy']"
      ]
     },
     "execution_count": 29,
     "metadata": {},
     "output_type": "execute_result"
    }
   ],
   "source": [
    "# save the model scaler to the desk\n",
    "from sklearn.externals import joblib\n",
    "joblib.dump(anova_DTRegressor, 'anova_DTRegressor.pkl') "
   ]
  },
  {
   "cell_type": "code",
   "execution_count": 30,
   "metadata": {
    "collapsed": false
   },
   "outputs": [
    {
     "name": "stdout",
     "output_type": "stream",
     "text": [
      " =================================================================>>>>> done\n",
      "R-squared =  0.967490288899\n"
     ]
    }
   ],
   "source": [
    "# Test the model if it is work\n",
    "anova_DecisionTreeRegressorTest = joblib.load('anova_DTRegressor.pkl')\n",
    "NewPred = anova_DecisionTreeRegressorTest.predict(new_data)\n",
    "print \" =================================================================>>>>> done\"\n",
    "r_squared = r2_score(Y, NewPred, multioutput='variance_weighted')\n",
    "print 'R-squared = ',r_squared"
   ]
  },
  {
   "cell_type": "code",
   "execution_count": 31,
   "metadata": {
    "collapsed": false
   },
   "outputs": [
    {
     "name": "stdout",
     "output_type": "stream",
     "text": [
      "Point of training data before normalization\n",
      "[   1.23247    0.         8.14       0.         0.538      6.142     91.7\n",
      "    3.9769     4.       307.        21.       396.9       18.72   ]\n",
      "\n",
      "The read target of the data =  15.2\n",
      "\n",
      "The Predicted target of the data =  [ 14.13333333]\n"
     ]
    }
   ],
   "source": [
    "# test on single data point, randomly choose point number 55\n",
    "print 'Point of training data before normalization\\n',new_data[55]\n",
    "print '\\nThe read target of the data = ', Y[55]\n",
    "NewPred = anova_DecisionTreeRegressorTest.predict([new_data[55]])\n",
    "print '\\nThe Predicted target of the data = ', NewPred"
   ]
  },
  {
   "cell_type": "markdown",
   "metadata": {},
   "source": [
    "## Conclusion "
   ]
  }
 ],
 "metadata": {
  "kernelspec": {
   "display_name": "Python 2",
   "language": "python",
   "name": "python2"
  },
  "language_info": {
   "codemirror_mode": {
    "name": "ipython",
    "version": 2
   },
   "file_extension": ".py",
   "mimetype": "text/x-python",
   "name": "python",
   "nbconvert_exporter": "python",
   "pygments_lexer": "ipython2",
   "version": "2.7.11"
  }
 },
 "nbformat": 4,
 "nbformat_minor": 0
}
