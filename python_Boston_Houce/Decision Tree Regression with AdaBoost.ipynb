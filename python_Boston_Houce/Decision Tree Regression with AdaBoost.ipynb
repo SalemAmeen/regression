{
 "cells": [
  {
   "cell_type": "markdown",
   "metadata": {},
   "source": [
    "Salem Ameen, PhD student at Salford University\n",
    "\n",
    "### Boston House price\n",
    "\n",
    "Decision trees Regression"
   ]
  },
  {
   "cell_type": "markdown",
   "metadata": {},
   "source": [
    "# Import the Libraries"
   ]
  },
  {
   "cell_type": "code",
   "execution_count": 1,
   "metadata": {
    "collapsed": false
   },
   "outputs": [
    {
     "data": {
      "text/html": [
       "\n",
       "    <div class=\"bk-root\">\n",
       "        <a href=\"http://bokeh.pydata.org\" target=\"_blank\" class=\"bk-logo bk-logo-small bk-logo-notebook\"></a>\n",
       "        <span id=\"d840ea0d-22f7-405b-bf10-cf5bf24b4d4d\">Loading BokehJS ...</span>\n",
       "    </div>"
      ]
     },
     "metadata": {},
     "output_type": "display_data"
    },
    {
     "data": {
      "application/javascript": [
       "\n",
       "(function(global) {\n",
       "  function now() {\n",
       "    return new Date();\n",
       "  }\n",
       "\n",
       "  if (typeof (window._bokeh_onload_callbacks) === \"undefined\") {\n",
       "    window._bokeh_onload_callbacks = [];\n",
       "  }\n",
       "\n",
       "  function run_callbacks() {\n",
       "    window._bokeh_onload_callbacks.forEach(function(callback) { callback() });\n",
       "    delete window._bokeh_onload_callbacks\n",
       "    console.info(\"Bokeh: all callbacks have finished\");\n",
       "  }\n",
       "\n",
       "  function load_libs(js_urls, callback) {\n",
       "    window._bokeh_onload_callbacks.push(callback);\n",
       "    if (window._bokeh_is_loading > 0) {\n",
       "      console.log(\"Bokeh: BokehJS is being loaded, scheduling callback at\", now());\n",
       "      return null;\n",
       "    }\n",
       "    if (js_urls == null || js_urls.length === 0) {\n",
       "      run_callbacks();\n",
       "      return null;\n",
       "    }\n",
       "    console.log(\"Bokeh: BokehJS not loaded, scheduling load and callback at\", now());\n",
       "    window._bokeh_is_loading = js_urls.length;\n",
       "    for (var i = 0; i < js_urls.length; i++) {\n",
       "      var url = js_urls[i];\n",
       "      var s = document.createElement('script');\n",
       "      s.src = url;\n",
       "      s.async = false;\n",
       "      s.onreadystatechange = s.onload = function() {\n",
       "        window._bokeh_is_loading--;\n",
       "        if (window._bokeh_is_loading === 0) {\n",
       "          console.log(\"Bokeh: all BokehJS libraries loaded\");\n",
       "          run_callbacks()\n",
       "        }\n",
       "      };\n",
       "      s.onerror = function() {\n",
       "        console.warn(\"failed to load library \" + url);\n",
       "      };\n",
       "      console.log(\"Bokeh: injecting script tag for BokehJS library: \", url);\n",
       "      document.getElementsByTagName(\"head\")[0].appendChild(s);\n",
       "    }\n",
       "  };\n",
       "\n",
       "  var js_urls = ['https://cdn.pydata.org/bokeh/release/bokeh-0.12.0.min.js', 'https://cdn.pydata.org/bokeh/release/bokeh-widgets-0.12.0.min.js', 'https://cdn.pydata.org/bokeh/release/bokeh-compiler-0.12.0.min.js'];\n",
       "\n",
       "  var inline_js = [\n",
       "    function(Bokeh) {\n",
       "      Bokeh.set_log_level(\"info\");\n",
       "    },\n",
       "    \n",
       "    function(Bokeh) {\n",
       "      Bokeh.$(\"#d840ea0d-22f7-405b-bf10-cf5bf24b4d4d\").text(\"BokehJS successfully loaded\");\n",
       "    },\n",
       "    function(Bokeh) {\n",
       "      console.log(\"Bokeh: injecting CSS: https://cdn.pydata.org/bokeh/release/bokeh-0.12.0.min.css\");\n",
       "      Bokeh.embed.inject_css(\"https://cdn.pydata.org/bokeh/release/bokeh-0.12.0.min.css\");\n",
       "      console.log(\"Bokeh: injecting CSS: https://cdn.pydata.org/bokeh/release/bokeh-widgets-0.12.0.min.css\");\n",
       "      Bokeh.embed.inject_css(\"https://cdn.pydata.org/bokeh/release/bokeh-widgets-0.12.0.min.css\");\n",
       "    }\n",
       "  ];\n",
       "\n",
       "  function run_inline_js() {\n",
       "    for (var i = 0; i < inline_js.length; i++) {\n",
       "      inline_js[i](window.Bokeh);\n",
       "    }\n",
       "  }\n",
       "\n",
       "  if (window._bokeh_is_loading === 0) {\n",
       "    console.log(\"Bokeh: BokehJS loaded, going straight to plotting\");\n",
       "    run_inline_js();\n",
       "  } else {\n",
       "    load_libs(js_urls, function() {\n",
       "      console.log(\"Bokeh: BokehJS plotting callback run at\", now());\n",
       "      run_inline_js();\n",
       "    });\n",
       "  }\n",
       "}(this));"
      ]
     },
     "metadata": {},
     "output_type": "display_data"
    }
   ],
   "source": [
    "import numpy as np\n",
    "import pandas\n",
    "from numpy import *\n",
    "import time\n",
    "import sys\n",
    "import pandas as pd\n",
    "import matplotlib.pyplot as plt\n",
    "from sklearn import feature_selection\n",
    "from sklearn.tree import DecisionTreeRegressor\n",
    "from sklearn.learning_curve import learning_curve, validation_curve\n",
    "from sklearn.cross_validation import cross_val_predict\n",
    "from sklearn import metrics, grid_search, cross_validation\n",
    "from IPython.display import set_matplotlib_formats\n",
    "from bokeh.plotting import figure, show, output_notebook\n",
    "from sklearn.grid_search import GridSearchCV, RandomizedSearchCV\n",
    "from sklearn.metrics import r2_score\n",
    "from bokeh.layouts import gridplot\n",
    "output_notebook()\n",
    "set_matplotlib_formats('png', 'pdf')\n",
    "%matplotlib inline\n",
    "plt.rcParams['figure.figsize'] = (6, 6)"
   ]
  },
  {
   "cell_type": "markdown",
   "metadata": {},
   "source": [
    "# Load data"
   ]
  },
  {
   "cell_type": "markdown",
   "metadata": {},
   "source": [
    "In the previous file we have not change the data as there is no missing value or add any new parameters so it can be downloaded from the web directly. "
   ]
  },
  {
   "cell_type": "code",
   "execution_count": 2,
   "metadata": {
    "collapsed": false
   },
   "outputs": [],
   "source": [
    "url = 'https://archive.ics.uci.edu/ml/machine-learning-databases/housing/housing.data'\n",
    "feature_cols = ['CRIM', 'ZN', 'INDUS', 'CHAS', 'NOX', 'RM', 'AGE', 'DIS', 'RAD', 'TAX', 'PTRATIO', 'B', 'LSTAT', 'MEDV']\n",
    "data = pd.read_csv(url, sep='\\s+', names = feature_cols)"
   ]
  },
  {
   "cell_type": "code",
   "execution_count": 3,
   "metadata": {
    "collapsed": false
   },
   "outputs": [
    {
     "name": "stdout",
     "output_type": "stream",
     "text": [
      "Number of examples 506\n"
     ]
    }
   ],
   "source": [
    "from sklearn import preprocessing\n",
    "dataset = data.values\n",
    "X = dataset[:,0:13].astype(float)\n",
    "Y = dataset[:,13]\n",
    "print 'Number of examples',len(X)"
   ]
  },
  {
   "cell_type": "code",
   "execution_count": 4,
   "metadata": {
    "collapsed": false
   },
   "outputs": [
    {
     "name": "stdout",
     "output_type": "stream",
     "text": [
      "Number of training examples 404\n",
      "Number of validation examples 102\n"
     ]
    }
   ],
   "source": [
    "# Make developement dataset for genrilization and final testing\n",
    "from sklearn.cross_validation import train_test_split\n",
    "# Extracting 20% testing data\n",
    "X_train, X_test, y_train, y_test = train_test_split(\n",
    "    X, Y, test_size=0.20, random_state=0)\n",
    "X = X_train\n",
    "Y = y_train\n",
    "new_data      = X_train\n",
    "new_test_data = X_test\n",
    "print 'Number of training examples',len(X_train)\n",
    "print 'Number of validation examples',len(X_test)"
   ]
  },
  {
   "cell_type": "markdown",
   "metadata": {},
   "source": [
    "Number of training data is very small so we need to use cross validation instead of spareate another validation data."
   ]
  },
  {
   "cell_type": "markdown",
   "metadata": {},
   "source": [
    "From the previous visulization the data has no missing value but has many outlier and some sparisty"
   ]
  },
  {
   "cell_type": "markdown",
   "metadata": {},
   "source": [
    "# Ranking of the feature's importance to the target"
   ]
  },
  {
   "cell_type": "code",
   "execution_count": 5,
   "metadata": {
    "collapsed": false
   },
   "outputs": [
    {
     "name": "stdout",
     "output_type": "stream",
     "text": [
      "CRIM \t0.990920443914\n",
      "ZN \t0.243089199298\n",
      "INDUS \t0.545912632909\n",
      "CHAS \t0.0307161297088\n",
      "NOX \t0.716973504561\n",
      "RM \t0.947370943302\n",
      "AGE \t0.699593401735\n",
      "DIS \t0.951624764899\n",
      "RAD \t0.228654187056\n",
      "TAX \t0.428503655041\n",
      "PTRATIO \t0.420389324837\n",
      "B \t0.799151046373\n",
      "LSTAT \t0.959008812687\n",
      "MEDV \t1.0\n"
     ]
    }
   ],
   "source": [
    "# Using just correlation coefficient even in prevoius file we show them using data frame\n",
    "for col in feature_cols:\n",
    "    lm = DecisionTreeRegressor()\n",
    "    lm.fit(data[[col]], data['MEDV'])\n",
    "    print col,'\\t', lm.score(data[[col]], data['MEDV'])"
   ]
  },
  {
   "cell_type": "code",
   "execution_count": 6,
   "metadata": {
    "collapsed": false
   },
   "outputs": [
    {
     "name": "stdout",
     "output_type": "stream",
     "text": [
      "Feature Name      Score         Pvalue\n",
      "CRIM \t\t89.4861147577 \t1.17398708219e-19\n",
      "ZN \t\t75.257642299 \t5.71358415308e-17\n",
      "INDUS \t\t153.954883136 \t4.90025998175e-31\n",
      "CHAS \t\t15.9715124204 \t7.39062317052e-05\n",
      "NOX \t\t112.59148028 \t7.06504158625e-24\n",
      "RM \t\t471.846739876 \t2.48722887101e-74\n",
      "AGE \t\t83.4774592192 \t1.56998220919e-18\n",
      "DIS \t\t33.5795703259 \t1.20661172734e-08\n",
      "RAD \t\t85.9142776698 \t5.46593256965e-19\n",
      "TAX \t\t141.761356577 \t5.63773362769e-29\n",
      "PTRATIO \t\t175.105542876 \t1.60950947847e-34\n",
      "B \t\t63.0542291125 \t1.31811273408e-14\n",
      "LSTAT \t\t601.61787111 \t5.08110339439e-88\n",
      "MEDV \t\tinf \t0.0\n"
     ]
    }
   ],
   "source": [
    "# Randing the important features to the target\n",
    "model = feature_selection.SelectKBest(score_func=feature_selection.f_regression,k=4)\n",
    "results = model.fit(data[feature_cols], data['MEDV'])\n",
    "k=0\n",
    "print 'Feature Name      Score         Pvalue'\n",
    "for feat in feature_cols:\n",
    "    print feat,'\\t\\t',results.scores_[k],'\\t',results.pvalues_[k]\n",
    "    k=k+1\n"
   ]
  },
  {
   "cell_type": "markdown",
   "metadata": {},
   "source": [
    "# Set the parameters for cross validation"
   ]
  },
  {
   "cell_type": "code",
   "execution_count": 7,
   "metadata": {
    "collapsed": true
   },
   "outputs": [],
   "source": [
    "num_folds = 10\n",
    "num_instances = len(X)\n",
    "seed = 7\n",
    "kfold = cross_validation.KFold(n=num_instances, n_folds=num_folds, random_state=seed)"
   ]
  },
  {
   "cell_type": "markdown",
   "metadata": {},
   "source": [
    " # Set the parameters for bias-variance dilemma"
   ]
  },
  {
   "cell_type": "code",
   "execution_count": 8,
   "metadata": {
    "collapsed": false
   },
   "outputs": [],
   "source": [
    "def plot_learning_curve(estimator, title, X, y, ylim=None, cv=None,\n",
    "                        n_jobs=1, train_sizes=np.linspace(.1, 1.0, 5)):\n",
    "    plt.figure()\n",
    "    plt.title(title)\n",
    "    if ylim is not None:\n",
    "        plt.ylim(*ylim)\n",
    "    plt.xlabel(\"Training examples\")\n",
    "    plt.ylabel(\"Score\")\n",
    "    train_sizes, train_scores, test_scores = learning_curve(\n",
    "        estimator, X, y, cv=cv, n_jobs=n_jobs, train_sizes=train_sizes)\n",
    "    train_scores_mean = np.mean(train_scores, axis=1)\n",
    "    train_scores_std = np.std(train_scores, axis=1)\n",
    "    test_scores_mean = np.mean(test_scores, axis=1)\n",
    "    test_scores_std = np.std(test_scores, axis=1)\n",
    "    plt.grid()\n",
    "\n",
    "    plt.fill_between(train_sizes, train_scores_mean - train_scores_std,\n",
    "                     train_scores_mean + train_scores_std, alpha=0.1,\n",
    "                     color=\"r\")\n",
    "    plt.fill_between(train_sizes, test_scores_mean - test_scores_std,\n",
    "                     test_scores_mean + test_scores_std, alpha=0.1, color=\"g\")\n",
    "    plt.plot(train_sizes, train_scores_mean, 'o-', color=\"r\",\n",
    "             label=\"Training score\")\n",
    "    plt.plot(train_sizes, test_scores_mean, 'o-', color=\"g\",\n",
    "             label=\"Cross-validation score\")\n",
    "\n",
    "    plt.legend(loc=\"best\")\n",
    "    return plt"
   ]
  },
  {
   "cell_type": "markdown",
   "metadata": {},
   "source": [
    "# Preprocessing the data and save both the model and preprocessed data"
   ]
  },
  {
   "cell_type": "code",
   "execution_count": 9,
   "metadata": {
    "collapsed": true
   },
   "outputs": [],
   "source": [
    "# According to the nature of the data spasity and there is outliter RobustScaler class is recomandit \n",
    "# but when I tried both of them the result seems is same\n",
    "from sklearn.preprocessing import StandardScaler\n",
    "scaler = preprocessing.StandardScaler().fit(X_train)"
   ]
  },
  {
   "cell_type": "code",
   "execution_count": 10,
   "metadata": {
    "collapsed": true
   },
   "outputs": [],
   "source": [
    "X_train = scaler.transform(X_train)\n",
    "X_test = scaler.transform(X_test) # use same transform for testing data\n",
    "X = X_train"
   ]
  },
  {
   "cell_type": "code",
   "execution_count": 11,
   "metadata": {
    "collapsed": true
   },
   "outputs": [],
   "source": [
    "# save transformed data\n",
    "np.save('./data/X_train', X_train)\n",
    "np.save('./data/y_train', y_train)\n",
    "np.save('./data/X_test', X_test)\n",
    "np.save('./data/y_test', y_test)"
   ]
  },
  {
   "cell_type": "code",
   "execution_count": 12,
   "metadata": {
    "collapsed": false
   },
   "outputs": [
    {
     "data": {
      "text/plain": [
       "['scaler.pkl', 'scaler.pkl_01.npy', 'scaler.pkl_02.npy', 'scaler.pkl_03.npy']"
      ]
     },
     "execution_count": 12,
     "metadata": {},
     "output_type": "execute_result"
    }
   ],
   "source": [
    "# save the model scaler to the desk\n",
    "from sklearn.externals import joblib\n",
    "joblib.dump(scaler, 'scaler.pkl') "
   ]
  },
  {
   "cell_type": "code",
   "execution_count": 13,
   "metadata": {
    "collapsed": false
   },
   "outputs": [
    {
     "name": "stdout",
     "output_type": "stream",
     "text": [
      " =================================================================>>>>> done\n",
      "[[-0.40835869 -0.49960763 -1.12872913 ..., -0.71272928  0.18547577\n",
      "  -0.73610347]\n",
      " [ 0.71925111 -0.49960763  0.9988844  ...,  0.79267419  0.0831649\n",
      "  -0.4356916 ]\n",
      " [-0.40257488 -0.49960763  0.39610829 ..., -0.94082071  0.39472748\n",
      "  -0.30263246]\n",
      " ..., \n",
      " [-0.3982601   0.55937182 -0.85812418 ...,  0.56458276  0.41019833\n",
      "   0.06087961]\n",
      " [-0.39934279 -0.49960763 -0.07637654 ...,  0.0627816   0.30517724\n",
      "  -0.45626776]\n",
      " [-0.40088071 -0.49960763 -0.36702631 ...,  1.1120022   0.41166637\n",
      "  -0.05983383]]\n"
     ]
    }
   ],
   "source": [
    "# Test the model if it is work\n",
    "scalerTest = joblib.load('scaler.pkl')\n",
    "new_data_scaled = scalerTest.transform(new_test_data)\n",
    "print \" =================================================================>>>>> done\"\n",
    "print new_data_scaled"
   ]
  },
  {
   "cell_type": "markdown",
   "metadata": {},
   "source": [
    "# 1. DecisionTreeRegressor  with AdaBoost Regression"
   ]
  },
  {
   "cell_type": "markdown",
   "metadata": {},
   "source": [
    "Decision trees or the Classification and Regression Trees (CART as they are know) use the training data to select the best points to split the data in order to minimize a cost metric. The default cost metric for regression decision trees is the mean squared error, specified in the criterion parameter."
   ]
  },
  {
   "cell_type": "markdown",
   "metadata": {},
   "source": [
    "## Validation curve"
   ]
  },
  {
   "cell_type": "markdown",
   "metadata": {},
   "source": [
    "choosing multiple hyperparameters of an estimator "
   ]
  },
  {
   "cell_type": "code",
   "execution_count": 14,
   "metadata": {
    "collapsed": false
   },
   "outputs": [
    {
     "data": {
      "text/plain": [
       "['presort',\n",
       " 'splitter',\n",
       " 'max_leaf_nodes',\n",
       " 'min_samples_leaf',\n",
       " 'min_samples_split',\n",
       " 'min_weight_fraction_leaf',\n",
       " 'criterion',\n",
       " 'random_state',\n",
       " 'max_features',\n",
       " 'max_depth']"
      ]
     },
     "execution_count": 14,
     "metadata": {},
     "output_type": "execute_result"
    }
   ],
   "source": [
    "from sklearn.tree import DecisionTreeRegressor\n",
    "estimator = DecisionTreeRegressor()\n",
    "estimator.get_params().keys()"
   ]
  },
  {
   "cell_type": "code",
   "execution_count": 15,
   "metadata": {
    "collapsed": false
   },
   "outputs": [
    {
     "data": {
      "text/plain": [
       "['loss',\n",
       " 'base_estimator__min_samples_split',\n",
       " 'base_estimator__max_depth',\n",
       " 'learning_rate',\n",
       " 'base_estimator',\n",
       " 'base_estimator__criterion',\n",
       " 'base_estimator__max_features',\n",
       " 'base_estimator__random_state',\n",
       " 'n_estimators',\n",
       " 'base_estimator__min_weight_fraction_leaf',\n",
       " 'random_state',\n",
       " 'base_estimator__splitter',\n",
       " 'base_estimator__max_leaf_nodes',\n",
       " 'base_estimator__min_samples_leaf',\n",
       " 'base_estimator__presort']"
      ]
     },
     "execution_count": 15,
     "metadata": {},
     "output_type": "execute_result"
    }
   ],
   "source": [
    "from sklearn.tree import DecisionTreeRegressor\n",
    "from sklearn.ensemble import AdaBoostRegressor\n",
    "estimator = AdaBoostRegressor(DecisionTreeRegressor())\n",
    "estimator.get_params().keys()"
   ]
  },
  {
   "cell_type": "code",
   "execution_count": 16,
   "metadata": {
    "collapsed": false
   },
   "outputs": [
    {
     "data": {
      "image/png": "[encoded data removed]",
      "text/plain": [
       "<matplotlib.figure.Figure at 0x10dfba850>"
      ]
     },
     "metadata": {},
     "output_type": "display_data"
    }
   ],
   "source": [
    "# For parametr alpha\n",
    "#param_range = np.logspace(-10.0, 10.0)\n",
    "#param_range = np.linspace(1,50,100)\n",
    "param_range = np.arange(1,50) # generate integer numbers\n",
    "\n",
    "train_scores, test_scores = validation_curve(\n",
    "    DecisionTreeRegressor(), X, Y, param_name=\"max_depth\", param_range=param_range,\n",
    "    cv=num_folds,  n_jobs=-1)\n",
    "train_scores_mean = np.mean(train_scores, axis=1)\n",
    "train_scores_std = np.std(train_scores, axis=1)\n",
    "test_scores_mean = np.mean(test_scores, axis=1)\n",
    "test_scores_std = np.std(test_scores, axis=1)\n",
    "\n",
    "plt.title(\"Validation Curve with DecisionTreeRegressor\")\n",
    "plt.xlabel(\"max_depth\")\n",
    "plt.ylabel(\"Score\")\n",
    "plt.ylim(0.4, 1.0)\n",
    "plt.plot(param_range, train_scores_mean, label=\"Training score\", color=\"r\")\n",
    "plt.fill_between(param_range, train_scores_mean - train_scores_std,\n",
    "                 train_scores_mean + train_scores_std, alpha=0.2, color=\"r\")\n",
    "plt.plot(param_range, test_scores_mean, label=\"Cross-validation score\",\n",
    "             color=\"g\")\n",
    "plt.fill_between(param_range, test_scores_mean - test_scores_std,\n",
    "                 test_scores_mean + test_scores_std, alpha=0.2, color=\"g\")\n",
    "plt.legend(loc=\"best\")\n",
    "plt.show()"
   ]
  },
  {
   "cell_type": "markdown",
   "metadata": {},
   "source": [
    "more that 5 is the best of number of K"
   ]
  },
  {
   "cell_type": "code",
   "execution_count": 17,
   "metadata": {
    "collapsed": false
   },
   "outputs": [
    {
     "data": {
      "image/png": "[encoded data removed]",
      "text/plain": [
       "<matplotlib.figure.Figure at 0x10f467f50>"
      ]
     },
     "metadata": {},
     "output_type": "display_data"
    }
   ],
   "source": [
    "# For parametr alpha\n",
    "#param_range = np.logspace(-10.0, 10.0)\n",
    "#param_range = np.linspace(1,50,100)\n",
    "param_range = np.arange(1,10) # generate integer numbers\n",
    "\n",
    "train_scores, test_scores = validation_curve(\n",
    "    DecisionTreeRegressor(), X, Y, param_name=\"min_samples_split\", param_range=param_range,\n",
    "    cv=num_folds,  n_jobs=-1)\n",
    "train_scores_mean = np.mean(train_scores, axis=1)\n",
    "train_scores_std = np.std(train_scores, axis=1)\n",
    "test_scores_mean = np.mean(test_scores, axis=1)\n",
    "test_scores_std = np.std(test_scores, axis=1)\n",
    "\n",
    "plt.title(\"Validation Curve with DecisionTreeRegressor\")\n",
    "plt.xlabel(\"min_samples_split\")\n",
    "plt.ylabel(\"Score\")\n",
    "plt.ylim(0.4, 1.0)\n",
    "plt.plot(param_range, train_scores_mean, label=\"Training score\", color=\"r\")\n",
    "plt.fill_between(param_range, train_scores_mean - train_scores_std,\n",
    "                 train_scores_mean + train_scores_std, alpha=0.2, color=\"r\")\n",
    "plt.plot(param_range, test_scores_mean, label=\"Cross-validation score\",\n",
    "             color=\"g\")\n",
    "plt.fill_between(param_range, test_scores_mean - test_scores_std,\n",
    "                 test_scores_mean + test_scores_std, alpha=0.2, color=\"g\")\n",
    "plt.legend(loc=\"best\")\n",
    "plt.show()"
   ]
  },
  {
   "cell_type": "markdown",
   "metadata": {},
   "source": [
    "min_samples_split =2 (The defualt) is the best"
   ]
  },
  {
   "cell_type": "code",
   "execution_count": 18,
   "metadata": {
    "collapsed": false
   },
   "outputs": [
    {
     "data": {
      "image/png": "[encoded data removed]",
      "text/plain": [
       "<matplotlib.figure.Figure at 0x10f4a46d0>"
      ]
     },
     "metadata": {},
     "output_type": "display_data"
    }
   ],
   "source": [
    "# For parametr alpha\n",
    "#param_range = np.logspace(-10.0, 10.0)\n",
    "#param_range = np.linspace(1,50,100)\n",
    "param_range = np.arange(1,10) # generate integer numbers\n",
    "\n",
    "train_scores, test_scores = validation_curve(\n",
    "    DecisionTreeRegressor(), X, Y, param_name=\"min_samples_leaf\", param_range=param_range,\n",
    "    cv=num_folds,  n_jobs=-1)\n",
    "train_scores_mean = np.mean(train_scores, axis=1)\n",
    "train_scores_std = np.std(train_scores, axis=1)\n",
    "test_scores_mean = np.mean(test_scores, axis=1)\n",
    "test_scores_std = np.std(test_scores, axis=1)\n",
    "\n",
    "plt.title(\"Validation Curve with DecisionTreeRegressor\")\n",
    "plt.xlabel(\"min_samples_leaf\")\n",
    "plt.ylabel(\"Score\")\n",
    "plt.ylim(0.4, 1.0)\n",
    "plt.plot(param_range, train_scores_mean, label=\"Training score\", color=\"r\")\n",
    "plt.fill_between(param_range, train_scores_mean - train_scores_std,\n",
    "                 train_scores_mean + train_scores_std, alpha=0.2, color=\"r\")\n",
    "plt.plot(param_range, test_scores_mean, label=\"Cross-validation score\",\n",
    "             color=\"g\")\n",
    "plt.fill_between(param_range, test_scores_mean - test_scores_std,\n",
    "                 test_scores_mean + test_scores_std, alpha=0.2, color=\"g\")\n",
    "plt.legend(loc=\"best\")\n",
    "plt.show()"
   ]
  },
  {
   "cell_type": "markdown",
   "metadata": {},
   "source": [
    "min_samples_leaf = 2 is the best"
   ]
  },
  {
   "cell_type": "markdown",
   "metadata": {},
   "source": [
    "## Grid search and/or Random search to determine best compination of parameters"
   ]
  },
  {
   "cell_type": "code",
   "execution_count": 19,
   "metadata": {
    "collapsed": false
   },
   "outputs": [
    {
     "name": "stdout",
     "output_type": "stream",
     "text": [
      "Hyperparameter optimization using GridSearchCV...\n",
      "Parameters with rank: 1\n",
      "Mean validation score: 0.8227 (std: 0.1063)\n",
      "Parameters: {'n_estimators': 8, 'loss': 'linear'}\n",
      "\n",
      "Parameters with rank: 2\n",
      "Mean validation score: 0.8202 (std: 0.1180)\n",
      "Parameters: {'n_estimators': 8, 'loss': 'square'}\n",
      "\n",
      "Parameters with rank: 3\n",
      "Mean validation score: 0.8178 (std: 0.1108)\n",
      "Parameters: {'n_estimators': 9, 'loss': 'linear'}\n",
      "\n",
      "Parameters with rank: 4\n",
      "Mean validation score: 0.8103 (std: 0.0909)\n",
      "Parameters: {'n_estimators': 8, 'loss': 'exponential'}\n",
      "\n",
      "Parameters with rank: 5\n",
      "Mean validation score: 0.8052 (std: 0.0935)\n",
      "Parameters: {'n_estimators': 7, 'loss': 'square'}\n",
      "\n",
      "+++++++++++++++++++++++++++++++++++++++++++++++\n",
      "Hyperparameter optimization using RandomizedSearchCV\n",
      "Parameters with rank: 1\n",
      "Mean validation score: 0.8468 (std: 0.0957)\n",
      "Parameters: {'n_estimators': 100, 'loss': 'square'}\n",
      "\n",
      "Parameters with rank: 2\n",
      "Mean validation score: 0.8435 (std: 0.0935)\n",
      "Parameters: {'n_estimators': 20, 'loss': 'square'}\n",
      "\n",
      "Parameters with rank: 3\n",
      "Mean validation score: 0.8162 (std: 0.1297)\n",
      "Parameters: {'n_estimators': 10, 'loss': 'linear'}\n",
      "\n",
      "Parameters with rank: 4\n",
      "Mean validation score: 0.7018 (std: 0.0992)\n",
      "Parameters: {'n_estimators': 1, 'loss': 'linear'}\n",
      "\n",
      "Parameters with rank: 5\n",
      "Mean validation score: 0.6801 (std: 0.1947)\n",
      "Parameters: {'n_estimators': 1, 'loss': 'square'}\n",
      "\n"
     ]
    }
   ],
   "source": [
    "# Utility function to report optimal parameters\n",
    "from operator import itemgetter\n",
    "def report(grid_scores, n_top=5):\n",
    "    params = None\n",
    "    top_scores = sorted(grid_scores, key=itemgetter(1), reverse=True)[:n_top]\n",
    "    for i, score in enumerate(top_scores):\n",
    "        print(\"Parameters with rank: {0}\".format(i + 1))\n",
    "        print(\"Mean validation score: {0:.4f} (std: {1:.4f})\".format(\n",
    "              score.mean_validation_score, np.std(score.cv_validation_scores)))\n",
    "        print(\"Parameters: {0}\".format(score.parameters))\n",
    "        print(\"\")\n",
    "        \n",
    "        if params == None:\n",
    "            params = score.parameters\n",
    "    \n",
    "    return params\n",
    "\n",
    "# The most common value for the max number of features to look at in each split is sqrt(# of features)\n",
    "sqrtfeat = np.sqrt(X.shape[1]) \n",
    "grid_test1 = { \"n_estimators\"      : np.arange(1,10),\n",
    "             \"loss\"      : [ \"linear\", \"square\", \"exponential\"]}\n",
    "\n",
    "# Large randomized test using max_depth to control tree size (5000 possible combinations)\n",
    "random_test1 = { \"n_estimators\"      : [1,10,20,100,200, 300, 400, 500],\n",
    "                \"loss\"      : [ \"linear\", \"square\", \"exponential\"]}\n",
    "\n",
    "\n",
    "forest = AdaBoostRegressor()\n",
    "\n",
    "print \"Hyperparameter optimization using GridSearchCV...\"\n",
    "grid_search = GridSearchCV(forest, grid_test1, n_jobs=-1, cv=num_folds)\n",
    "grid_search.fit(X, Y)\n",
    "best_params_from_grid_search = report(grid_search.grid_scores_)\n",
    "print '+++++++++++++++++++++++++++++++++++++++++++++++'\n",
    "print \"Hyperparameter optimization using RandomizedSearchCV\"\n",
    "grid_search = RandomizedSearchCV(forest, random_test1, n_jobs=-1, cv=num_folds, n_iter=5)\n",
    "grid_search.fit(X, Y)\n",
    "best_params_from_rand_search1 = report(grid_search.grid_scores_)"
   ]
  },
  {
   "cell_type": "markdown",
   "metadata": {},
   "source": [
    "Best parameters Parameters: Parameters: {'max_features': None, 'max_depth': 19, 'min_samples_leaf': 1}\n"
   ]
  },
  {
   "cell_type": "markdown",
   "metadata": {},
   "source": [
    "## Learning Curve "
   ]
  },
  {
   "cell_type": "markdown",
   "metadata": {},
   "source": [
    "In essence, what we’re doing it training the exact same model with increasingly large fractions of our total training data, and plotting the error of the training and test sets at each step."
   ]
  },
  {
   "cell_type": "code",
   "execution_count": 20,
   "metadata": {
    "collapsed": false
   },
   "outputs": [
    {
     "data": {
      "image/png": "[encoded data removed]",
      "text/plain": [
       "<matplotlib.figure.Figure at 0x10f4ae450>"
      ]
     },
     "metadata": {},
     "output_type": "display_data"
    }
   ],
   "source": [
    "from sklearn.tree import DecisionTreeRegressor\n",
    "model = AdaBoostRegressor(n_estimators = 5, loss = \"exponential\")\n",
    "title = \"Learning Curves (Ada DecisionTreeRegressor Refression)\"\n",
    "cv = cross_validation.ShuffleSplit(X.shape[0], n_iter=100,\n",
    "                                   test_size=0.2, random_state=0)\n",
    "plot_learning_curve(model, title, X, Y, ylim=(0.2, 1.01), cv=cv, n_jobs=-1)\n",
    "plt.show()"
   ]
  },
  {
   "cell_type": "code",
   "execution_count": 21,
   "metadata": {
    "collapsed": false
   },
   "outputs": [
    {
     "name": "stdout",
     "output_type": "stream",
     "text": [
      "train_sizes =  [ 50  80 110]\n",
      " training scores\n",
      " 50 training sizees\n",
      "0.944682535636 ± 0.041831522451\n",
      " 80 training sizees\n",
      "0.937905822956 ± 0.0161070968458\n",
      " 110 training sizees\n",
      "0.922813846965 ± 0.0217347629164\n",
      "\n",
      " validation scores\n",
      " 50 validation scores\n",
      "0.655539984894 ± 0.183950016299\n",
      " 80 validation scores\n",
      "0.703791075995 ± 0.102498248429\n",
      " 110 validation scores\n",
      "0.746719843809 ± 0.0860590083896\n"
     ]
    }
   ],
   "source": [
    "# More data from learning curve to show the process of building the model\n",
    "train_sizes, train_scores, valid_scores = learning_curve(\n",
    "     model, X, Y, train_sizes=[50, 80, 110], cv=cv, n_jobs=4)\n",
    "\n",
    "print 'train_sizes = ', train_sizes\n",
    "\n",
    "print ' training scores'\n",
    "print ' 50 training sizees'\n",
    "print train_scores[0].mean(),'±',train_scores[0].std()\n",
    "print ' 80 training sizees'\n",
    "print train_scores[1].mean(),'±',train_scores[1].std()\n",
    "print ' 110 training sizees'\n",
    "print train_scores[2].mean(),'±',train_scores[2].std()\n",
    "\n",
    "print '\\n validation scores'\n",
    "print ' 50 validation scores'\n",
    "print valid_scores[0].mean(),'±',valid_scores[0].std()\n",
    "print ' 80 validation scores'\n",
    "print valid_scores[1].mean(),'±',valid_scores[1].std()\n",
    "print ' 110 validation scores'\n",
    "print valid_scores[2].mean(),'±',valid_scores[2].std()"
   ]
  },
  {
   "cell_type": "markdown",
   "metadata": {},
   "source": [
    "## Cross validation"
   ]
  },
  {
   "cell_type": "code",
   "execution_count": 22,
   "metadata": {
    "collapsed": false
   },
   "outputs": [
    {
     "name": "stdout",
     "output_type": "stream",
     "text": [
      "Scoring according to mean_squared_error\n",
      "[-12.31939668 -12.76490318 -10.7818172  -24.44293793 -14.01880716\n",
      " -16.78116218  -7.29153383 -21.53216162 -29.05007481  -8.672797  ]\n",
      "\n",
      " Mean      Standard deviation\n",
      "-15.77      6.76\n"
     ]
    },
    {
     "data": {
      "text/plain": [
       "AdaBoostRegressor(base_estimator=None, learning_rate=1.0, loss='exponential',\n",
       "         n_estimators=5, random_state=None)"
      ]
     },
     "execution_count": 22,
     "metadata": {},
     "output_type": "execute_result"
    }
   ],
   "source": [
    "scoring = 'mean_squared_error'\n",
    "results = cross_validation.cross_val_score(model, X, Y, cv=kfold, scoring=scoring)\n",
    "print 'Scoring according to mean_squared_error'\n",
    "print results\n",
    "print '\\n Mean      Standard deviation'\n",
    "print(\"%.2f      %.2f\" % (results.mean(), results.std()))\n",
    "## Fit the model\n",
    "model.fit(X,Y)\n"
   ]
  },
  {
   "cell_type": "markdown",
   "metadata": {},
   "source": [
    "## Coefficients Of Determination {Calculating R^2}\n",
    "\n",
    "R^2, Close to one is better"
   ]
  },
  {
   "cell_type": "code",
   "execution_count": 23,
   "metadata": {
    "collapsed": false
   },
   "outputs": [
    {
     "name": "stdout",
     "output_type": "stream",
     "text": [
      "R-squared =  0.80225358529\n"
     ]
    }
   ],
   "source": [
    "predicted = cross_val_predict(model, X, Y, cv=kfold)\n",
    "r_squared = r2_score(Y, predicted, multioutput='variance_weighted')\n",
    "print 'R-squared = ',r_squared"
   ]
  },
  {
   "cell_type": "markdown",
   "metadata": {},
   "source": [
    "## Residual Plot"
   ]
  },
  {
   "cell_type": "code",
   "execution_count": 24,
   "metadata": {
    "collapsed": false
   },
   "outputs": [
    {
     "data": {
      "image/png": "[encoded data removed]",
      "text/plain": [
       "<matplotlib.figure.Figure at 0x105cc8f50>"
      ]
     },
     "metadata": {},
     "output_type": "display_data"
    }
   ],
   "source": [
    "predicted = cross_val_predict(model, X, Y, cv=kfold)\n",
    "fig, ax = plt.subplots()\n",
    "ax.scatter(Y, predicted)\n",
    "ax.plot([Y.min(), Y.max()], [Y.min(), Y.max()], 'k--', lw=4)\n",
    "ax.set_xlabel('Measured')\n",
    "ax.set_ylabel('Predicted')\n",
    "plt.show()"
   ]
  },
  {
   "cell_type": "code",
   "execution_count": 25,
   "metadata": {
    "collapsed": false
   },
   "outputs": [
    {
     "data": {
      "text/html": [
       "\n",
       "\n",
       "    <div class=\"bk-root\">\n",
       "        <div class=\"plotdiv\" id=\"4be2b27f-e03a-4b1b-85d7-04274cead5c7\"></div>\n",
       "    </div>\n",
       "<script type=\"text/javascript\">\n",
       "  \n",
       "  (function(global) {\n",
       "    function now() {\n",
       "      return new Date();\n",
       "    }\n",
       "  \n",
       "    if (typeof (window._bokeh_onload_callbacks) === \"undefined\") {\n",
       "      window._bokeh_onload_callbacks = [];\n",
       "    }\n",
       "  \n",
       "    function run_callbacks() {\n",
       "      window._bokeh_onload_callbacks.forEach(function(callback) { callback() });\n",
       "      delete window._bokeh_onload_callbacks\n",
       "      console.info(\"Bokeh: all callbacks have finished\");\n",
       "    }\n",
       "  \n",
       "    function load_libs(js_urls, callback) {\n",
       "      window._bokeh_onload_callbacks.push(callback);\n",
       "      if (window._bokeh_is_loading > 0) {\n",
       "        console.log(\"Bokeh: BokehJS is being loaded, scheduling callback at\", now());\n",
       "        return null;\n",
       "      }\n",
       "      if (js_urls == null || js_urls.length === 0) {\n",
       "        run_callbacks();\n",
       "        return null;\n",
       "      }\n",
       "      console.log(\"Bokeh: BokehJS not loaded, scheduling load and callback at\", now());\n",
       "      window._bokeh_is_loading = js_urls.length;\n",
       "      for (var i = 0; i < js_urls.length; i++) {\n",
       "        var url = js_urls[i];\n",
       "        var s = document.createElement('script');\n",
       "        s.src = url;\n",
       "        s.async = false;\n",
       "        s.onreadystatechange = s.onload = function() {\n",
       "          window._bokeh_is_loading--;\n",
       "          if (window._bokeh_is_loading === 0) {\n",
       "            console.log(\"Bokeh: all BokehJS libraries loaded\");\n",
       "            run_callbacks()\n",
       "          }\n",
       "        };\n",
       "        s.onerror = function() {\n",
       "          console.warn(\"failed to load library \" + url);\n",
       "        };\n",
       "        console.log(\"Bokeh: injecting script tag for BokehJS library: \", url);\n",
       "        document.getElementsByTagName(\"head\")[0].appendChild(s);\n",
       "      }\n",
       "    };var element = document.getElementById(\"4be2b27f-e03a-4b1b-85d7-04274cead5c7\");\n",
       "    if (element == null) {\n",
       "      console.log(\"Bokeh: ERROR: autoload.js configured with elementid '4be2b27f-e03a-4b1b-85d7-04274cead5c7' but no matching script tag was found. \")\n",
       "      return false;\n",
       "    }\n",
       "  \n",
       "    var js_urls = [];\n",
       "  \n",
       "    var inline_js = [\n",
       "      function(Bokeh) {\n",
       "        Bokeh.$(function() {\n",
       "            var docs_json = {\"93fe0396-9a97-46f9-9972-1af9146ff970\":{\"roots\":{\"references\":[{\"attributes\":{\"line_dash\":[4,4],\"line_width\":{\"value\":2},\"x\":{\"field\":\"x\"},\"y\":{\"field\":\"y\"}},\"id\":\"4a52b8fd-5a32-4d8e-bb76-2e4011e9e11f\",\"type\":\"Line\"},{\"attributes\":{\"callback\":null,\"overlay\":{\"id\":\"b9fc3ed9-9df5-40d0-b35d-ac733eca9536\",\"type\":\"BoxAnnotation\"},\"plot\":{\"id\":\"7f826b57-c484-4691-bdad-0512a02367c8\",\"subtype\":\"Figure\",\"type\":\"Plot\"},\"renderers\":[{\"id\":\"2322b7bc-2c59-4217-864b-8ff7a6eb0346\",\"type\":\"GlyphRenderer\"},{\"id\":\"f9df178f-9d27-4032-a869-ffb1b254fe41\",\"type\":\"GlyphRenderer\"}]},\"id\":\"8edd0e1d-2ac4-4c00-8747-69cc8c6459d4\",\"type\":\"BoxSelectTool\"},{\"attributes\":{\"align\":\"center\",\"plot\":null,\"text\":null},\"id\":\"ca1f05fa-e6b8-4191-b97e-178b6cd35fd0\",\"type\":\"Title\"},{\"attributes\":{\"overlay\":{\"id\":\"5b6f8425-64ce-463e-9127-d30228182412\",\"type\":\"BoxAnnotation\"},\"plot\":{\"id\":\"7f826b57-c484-4691-bdad-0512a02367c8\",\"subtype\":\"Figure\",\"type\":\"Plot\"}},\"id\":\"3e12de34-c740-4a36-b1c1-e2e8f6b744e7\",\"type\":\"BoxZoomTool\"},{\"attributes\":{},\"id\":\"5e5c0ecb-89f1-4847-8bc3-e7a5f9384ec7\",\"type\":\"BasicTicker\"},{\"attributes\":{},\"id\":\"e0d944a6-53cc-44e0-b2ad-7fe1a639d01f\",\"type\":\"ToolEvents\"},{\"attributes\":{\"line_alpha\":{\"value\":0.1},\"line_color\":{\"value\":\"#1f77b4\"},\"line_dash\":[4,4],\"line_width\":{\"value\":2},\"x\":{\"field\":\"x\"},\"y\":{\"field\":\"y\"}},\"id\":\"d1a4932a-87e9-4113-aeb2-67a43f93b2a8\",\"type\":\"Line\"},{\"attributes\":{\"plot\":{\"id\":\"7f826b57-c484-4691-bdad-0512a02367c8\",\"subtype\":\"Figure\",\"type\":\"Plot\"}},\"id\":\"051858f5-b3d2-456c-95bb-26213b24fbc2\",\"type\":\"UndoTool\"},{\"attributes\":{\"callback\":null,\"column_names\":[\"x\",\"y\"],\"data\":{\"x\":[26.7,21.7,22.0,22.9,10.4,21.9,20.6,26.4,41.3,17.2,27.1,20.4,16.5,24.4,8.4,23.0,9.7,50.0,30.5,12.3,19.4,21.2,20.3,18.8,33.4,18.5,19.6,33.2,13.1,7.5,13.6,17.4,8.4,35.4,24.0,13.4,26.2,7.2,13.1,24.5,37.2,25.0,24.1,16.6,32.9,36.2,11.0,7.2,22.8,28.7,14.4,24.4,18.1,22.5,20.5,15.2,17.4,13.6,8.7,18.2,35.4,31.7,33.0,22.2,20.4,23.9,25.0,12.7,29.1,12.0,17.7,27.0,20.6,10.2,17.5,19.7,29.8,20.5,14.9,10.9,19.5,22.7,19.5,24.6,25.0,24.5,50.0,14.3,11.8,31.0,28.7,16.2,43.5,25.0,22.0,19.9,22.1,46.0,22.9,20.2,43.1,34.6,13.8,24.3,21.5,24.4,21.2,23.8,26.6,25.1,9.6,19.4,19.4,9.5,14.0,26.5,13.8,34.7,16.3,21.7,17.5,15.6,20.9,21.7,12.7,18.5,23.7,19.3,12.7,21.6,23.2,29.6,21.2,23.8,17.1,22.0,36.5,18.8,21.9,23.1,20.2,17.4,37.0,24.1,36.2,15.7,32.2,13.5,17.9,13.3,11.7,41.7,18.4,13.1,25.0,21.2,16.0,34.9,25.2,24.8,21.5,23.4,18.9,10.8,21.0,27.5,17.5,13.5,28.7,14.8,19.1,28.6,13.1,19.0,11.3,13.3,22.4,20.1,18.2,22.9,20.6,25.0,12.8,34.9,23.7,50.0,29.0,30.1,22.0,15.6,23.3,30.1,14.3,22.8,50.0,20.8,6.3,34.9,32.4,19.9,20.3,17.8,23.1,20.4,23.2,7.0,16.8,46.7,50.0,22.9,23.9,21.4,21.7,15.4,15.3,23.1,23.9,19.4,11.9,17.8,31.5,33.8,20.8,19.8,22.4,5.0,24.5,19.4,15.1,18.2,19.3,27.1,20.7,37.6,11.7,33.4,30.1,21.4,45.4,20.1,20.8,26.4,10.4,21.8,32.0,21.7,18.4,37.9,17.8,28.0,28.2,36.0,18.9,15.0,22.5,30.7,20.0,19.1,23.3,26.6,21.1,19.7,20.0,12.1,7.2,14.2,17.3,27.5,22.2,10.9,19.2,32.0,14.5,24.7,12.6,24.0,24.1,50.0,16.1,43.8,26.6,36.1,21.8,29.9,50.0,44.0,20.6,19.6,28.4,19.1,22.3,20.9,28.4,14.4,32.7,13.8,8.5,22.5,35.1,31.6,17.8,15.6,20.7,39.8,17.8,19.6,14.9,22.0,48.8,25.0,48.5,23.9,20.3,15.2,10.5,19.0,16.4,8.8,22.0,24.8,50.0,19.3,22.7,37.3,31.6,8.3,23.1,50.0,13.9,16.1,25.3,19.5,10.2,19.9,35.2,13.4,24.7,11.5,23.4,16.7,15.4,18.0,28.5,18.4,32.5,50.0,50.0,19.6,17.6,42.3,14.5,13.2,16.2,29.6,16.7,13.0,22.3,13.4,5.0,19.5,14.6,22.0,8.1,24.6,33.2,20.6,14.1,14.1,21.1,30.3,23.7,21.4,18.3,8.5,22.8,22.8,22.2,13.9,25.0,18.5,7.0,22.6,20.1,30.8,31.1,23.8,12.5,23.6,23.2,24.2,22.2,27.9,22.2,33.1,19.3,18.9,22.6,50.0,24.8,18.5,36.4,19.2,16.6,23.1],\"y\":[30.157142857142862,20.729411764705887,25.72941176470588,20.43191489361703,11.083333333333334,20.43191489361703,24.63131313131313,24.63131313131313,27.060759493670876,11.083333333333334,17.189285714285713,19.330578512396702,17.189285714285713,20.231944444444448,11.083333333333334,20.43191489361703,11.083333333333334,47.54999999999999,25.466666666666665,11.083333333333334,17.889743589743595,20.43191489361703,20.729411764705887,17.189285714285713,32.84651162790699,17.889743589743595,24.63131313131313,32.84651162790699,11.709459459459458,11.083333333333334,12.767532467532467,19.330578512396702,11.709459459459458,33.160606060606064,20.43191489361703,14.775,25.466666666666665,11.083333333333334,11.083333333333334,20.43191489361703,32.84651162790699,26.550909090909073,26.550909090909073,18.711475409836062,33.72325581395348,33.72325581395348,11.947560975609756,11.543548387096772,26.550909090909073,28.286764705882366,12.425999999999995,28.286764705882366,17.554166666666656,26.550909090909073,17.661111111111115,17.661111111111115,20.75038759689923,17.661111111111115,11.543548387096772,19.70441176470587,28.840425531914885,33.72325581395348,27.592857142857138,20.75038759689923,26.550909090909073,26.550909090909073,26.550909090909073,11.947560975609756,26.550909090909073,12.425999999999995,18.711475409836062,26.550909090909073,19.70441176470587,11.543548387096772,19.70441176470587,17.661111111111115,19.661538461538463,22.631944444444443,12.425999999999995,15.629411764705882,20.75038759689923,20.75038759689923,17.098630136986298,26.75684210526315,23.96666666666667,25.916091954022978,35.50588235294118,17.098630136986298,13.509836065573769,23.139999999999997,35.50588235294118,22.538775510204083,45.83181818181818,25.916091954022978,23.96666666666667,20.056481481481487,25.916091954022978,45.81,25.035220125786157,20.819387755102042,45.83181818181818,39.35692307692306,14.115624999999998,26.75684210526315,19.425925925925938,25.916091954022978,20.819387755102042,20.819387755102042,25.916091954022978,23.96666666666667,13.509836065573769,22.538775510204083,20.819387755102042,13.509836065573769,14.115624999999998,25.035220125786157,13.509836065573769,37.104545454545466,11.830158730158725,17.385294117647057,20.056481481481487,14.115624999999998,23.96666666666667,20.775657894736824,17.455813953488367,20.84343434343435,23.902564102564106,20.775657894736824,16.52272727272727,22.914035087719295,20.84343434343435,32.742857142857126,20.84343434343435,20.84343434343435,14.310000000000002,20.775657894736824,30.033333333333335,19.647619047619045,36.873913043478254,23.902564102564106,20.775657894736824,17.28139534883722,29.719047619047625,27.99298245614035,20.84343434343435,17.455813953488367,32.742857142857126,17.455813953488367,10.436734693877552,10.436734693877552,16.52272727272727,41.25,17.455813953488367,17.455813953488367,32.742857142857126,20.84343434343435,20.775657894736824,32.742857142857126,23.902564102564106,22.914035087719295,17.857575757575763,22.914035087719295,20.84343434343435,10.436734693877552,21.0840579710145,28.408421052631567,20.544262295081968,16.445283018867922,24.018421052631584,18.339534883720933,18.339534883720933,28.3391891891892,16.516666666666676,21.0840579710145,10.555555555555557,11.938888888888888,18.339534883720933,20.544262295081968,22.812582781456964,25.967816091954038,25.967816091954038,22.812582781456964,10.555555555555557,32.65714285714285,18.339534883720933,46.96999999999999,25.857272727272722,28.3391891891892,22.812582781456964,18.339534883720933,21.0840579710145,25.967816091954038,16.754347826086956,22.812582781456964,46.96999999999999,18.339534883720933,10.555555555555557,32.65714285714285,28.408421052631567,20.544262295081968,22.812582781456964,18.339534883720933,20.544262295081968,22.812582781456964,25.84655172413792,11.815686274509805,20.75680000000001,44.75000000000001,47.26666666666667,25.84655172413792,34.3875,20.722388059701494,20.75680000000001,11.94333333333333,20.40654205607476,25.84655172413792,25.84655172413792,20.40654205607476,11.815686274509805,14.457142857142857,34.900000000000006,30.015384615384615,21.510344827586206,20.722388059701494,23.96694214876032,11.815686274509805,23.96694214876032,25.84655172413792,13.377922077922078,20.75680000000001,21.510344827586206,25.84655172413792,20.75680000000001,47.26666666666667,20.40654205607476,34.3875,26.697560975609747,17.413636363636364,47.26666666666667,20.890476190476196,20.75680000000001,20.75680000000001,13.377922077922078,20.75680000000001,28.171014492753624,21.69136690647481,12.322413793103449,32.675,17.90188679245282,26.178571428571416,26.178571428571416,33.11818181818182,21.69136690647481,29.8,21.69136690647481,17.90188679245282,21.69136690647481,17.510294117647064,25.451000000000008,26.894117647058824,21.69136690647481,21.69136690647481,17.394339622641517,12.052000000000005,12.052000000000005,12.322413793103449,12.322413793103449,22.556701030927837,25.451000000000008,12.052000000000005,20.95064935064935,26.178571428571416,17.510294117647064,25.451000000000008,17.510294117647064,26.894117647058824,25.451000000000008,41.379999999999995,20.95064935064935,46.45714285714286,28.171014492753624,32.26744186046512,21.69136690647481,26.178571428571416,47.1,38.88333333333333,21.818461538461545,18.800925925925927,25.30298507462688,15.63877551020408,21.818461538461545,24.351250000000004,25.98584905660377,16.2875,32.33269230769231,10.31320754716981,12.609090909090911,18.800925925925927,32.33269230769231,28.66363636363637,15.1,15.1,25.086274509803918,32.4829268292683,12.764705882352942,18.800925925925927,12.764705882352942,25.98584905660377,32.4829268292683,25.086274509803918,43.75333333333333,25.086274509803918,20.22600000000001,15.63877551020408,11.693975903614465,15.63877551020408,16.2875,10.31320754716981,25.30298507462688,25.086274509803918,32.4829268292683,20.22600000000001,18.800925925925927,33.294000000000025,31.92073170731709,12.633750000000001,24.96666666666667,45.491304347826095,12.633750000000001,16.730985915492962,24.96666666666667,17.944067796610174,12.633750000000001,16.730985915492962,44.292307692307695,16.730985915492962,21.42534246575342,12.633750000000001,22.795530726256978,12.66578947368421,12.633750000000001,16.730985915492962,31.92073170731709,21.66813186813187,28.091011235955044,42.45833333333334,46.518181818181816,18.97083333333333,21.42534246575342,44.292307692307695,21.42534246575342,16.730985915492962,16.142857142857142,22.795530726256978,16.730985915492962,16.730985915492962,24.96666666666667,12.938028169014087,12.633750000000001,21.42534246575342,16.142857142857142,24.717021276595744,12.938028169014087,25.99411764705882,34.04117647058823,22.50126582278482,13.847058823529405,14.229032258064517,25.293478260869573,29.123076923076916,26.109210526315803,20.421212121212136,19.781081081081076,11.437313432835824,25.293478260869573,25.71551724137931,25.71551724137931,17.464516129032262,20.97619047619049,21.3,13.23118279569892,22.50126582278482,20.97619047619049,31.782608695652183,29.169999999999998,20.97619047619049,13.23118279569892,26.784210526315785,20.97619047619049,25.71551724137931,22.50126582278482,26.784210526315785,20.97619047619049,31.782608695652183,17.61428571428571,17.61428571428571,20.97619047619049,46.428124999999994,31.782608695652183,20.97619047619049,34.04117647058823,20.97619047619049,17.61428571428571,20.97619047619049]}},\"id\":\"c8dc058e-fcaa-4e32-beae-acd3d1bd3f6e\",\"type\":\"ColumnDataSource\"},{\"attributes\":{\"callback\":null},\"id\":\"70c8b774-4312-4d78-a6e2-fe38bb78e2f5\",\"type\":\"DataRange1d\"},{\"attributes\":{\"axis_label\":\"Predicted\",\"axis_label_text_color\":{\"value\":\"#aa6666\"},\"formatter\":{\"id\":\"8903db77-a5f4-4728-9996-d625493f6ac0\",\"type\":\"BasicTickFormatter\"},\"plot\":{\"id\":\"7f826b57-c484-4691-bdad-0512a02367c8\",\"subtype\":\"Figure\",\"type\":\"Plot\"},\"ticker\":{\"id\":\"a9e98c48-6d72-4b5c-8f7e-53faa7170c18\",\"type\":\"BasicTicker\"}},\"id\":\"82428428-8d98-4098-8da5-eb7425205bfc\",\"type\":\"LinearAxis\"},{\"attributes\":{\"callback\":null},\"id\":\"2eaa5e13-f899-42c7-ad20-ed08d0cab911\",\"type\":\"DataRange1d\"},{\"attributes\":{\"fill_color\":{\"value\":\"#80B1D3\"},\"line_color\":{\"value\":\"#80B1D3\"},\"line_width\":{\"value\":3},\"x\":{\"field\":\"x\"},\"y\":{\"field\":\"y\"}},\"id\":\"548eb017-85f1-447a-bcd9-b9043b4e5b07\",\"type\":\"Circle\"},{\"attributes\":{\"plot\":{\"id\":\"7f826b57-c484-4691-bdad-0512a02367c8\",\"subtype\":\"Figure\",\"type\":\"Plot\"},\"ticker\":{\"id\":\"5e5c0ecb-89f1-4847-8bc3-e7a5f9384ec7\",\"type\":\"BasicTicker\"}},\"id\":\"fb8a7c2e-4c89-4b7c-9c6d-7cca5eb79478\",\"type\":\"Grid\"},{\"attributes\":{\"axis_label\":\"Measured\",\"axis_label_text_color\":{\"value\":\"#aa6666\"},\"formatter\":{\"id\":\"204fbc14-83b4-4720-a293-0dcfb1881f47\",\"type\":\"BasicTickFormatter\"},\"major_tick_line_color\":{\"value\":\"firebrick\"},\"major_tick_line_width\":{\"value\":3},\"minor_tick_line_color\":{\"value\":\"orange\"},\"plot\":{\"id\":\"7f826b57-c484-4691-bdad-0512a02367c8\",\"subtype\":\"Figure\",\"type\":\"Plot\"},\"ticker\":{\"id\":\"5e5c0ecb-89f1-4847-8bc3-e7a5f9384ec7\",\"type\":\"BasicTicker\"}},\"id\":\"f2488e79-bf20-467a-a247-740e0244a6d5\",\"type\":\"LinearAxis\"},{\"attributes\":{\"plot\":{\"id\":\"7f826b57-c484-4691-bdad-0512a02367c8\",\"subtype\":\"Figure\",\"type\":\"Plot\"}},\"id\":\"d8d84b28-f208-4219-9a44-e9d3c90d2c48\",\"type\":\"WheelZoomTool\"},{\"attributes\":{\"bottom_units\":\"screen\",\"fill_alpha\":{\"value\":0.5},\"fill_color\":{\"value\":\"lightgrey\"},\"left_units\":\"screen\",\"level\":\"overlay\",\"line_alpha\":{\"value\":1.0},\"line_color\":{\"value\":\"black\"},\"line_dash\":[4,4],\"line_width\":{\"value\":2},\"plot\":null,\"render_mode\":\"css\",\"right_units\":\"screen\",\"top_units\":\"screen\"},\"id\":\"b9fc3ed9-9df5-40d0-b35d-ac733eca9536\",\"type\":\"BoxAnnotation\"},{\"attributes\":{\"plot\":{\"id\":\"7f826b57-c484-4691-bdad-0512a02367c8\",\"subtype\":\"Figure\",\"type\":\"Plot\"}},\"id\":\"f2a17d4b-eb81-4001-800f-cf4049eb5068\",\"type\":\"SaveTool\"},{\"attributes\":{\"fill_alpha\":{\"value\":0.5},\"fill_color\":{\"value\":\"lightgrey\"},\"level\":\"overlay\",\"line_alpha\":{\"value\":1.0},\"line_color\":{\"value\":\"black\"},\"line_dash\":[4,4],\"line_width\":{\"value\":2},\"plot\":null,\"xs_units\":\"screen\",\"ys_units\":\"screen\"},\"id\":\"237c9ee9-5573-441c-98dc-d1b5a0a66f61\",\"type\":\"PolyAnnotation\"},{\"attributes\":{},\"id\":\"a9e98c48-6d72-4b5c-8f7e-53faa7170c18\",\"type\":\"BasicTicker\"},{\"attributes\":{\"active_drag\":\"auto\",\"active_scroll\":\"auto\",\"active_tap\":\"auto\",\"tools\":[{\"id\":\"3e12de34-c740-4a36-b1c1-e2e8f6b744e7\",\"type\":\"BoxZoomTool\"},{\"id\":\"8edd0e1d-2ac4-4c00-8747-69cc8c6459d4\",\"type\":\"BoxSelectTool\"},{\"id\":\"4b42da7e-ecb0-405c-86eb-1cac2ab10148\",\"type\":\"CrosshairTool\"},{\"id\":\"f2a66c41-10d7-4680-b771-da18b92e1f5d\",\"type\":\"ResizeTool\"},{\"id\":\"b7f45d4d-42d6-4530-9b5f-e83e2b9ed615\",\"type\":\"ResetTool\"},{\"id\":\"d168c31a-9b82-494c-86d0-289856af5554\",\"type\":\"LassoSelectTool\"},{\"id\":\"58ef885d-b864-4a3d-95ea-4e90598ec9e0\",\"type\":\"PanTool\"},{\"id\":\"f2a17d4b-eb81-4001-800f-cf4049eb5068\",\"type\":\"SaveTool\"},{\"id\":\"ccf522c1-54ee-498b-a945-d33c537d457e\",\"type\":\"PolySelectTool\"},{\"id\":\"3307a1d5-7b3d-462d-8616-157e8748a748\",\"type\":\"TapTool\"},{\"id\":\"d8d84b28-f208-4219-9a44-e9d3c90d2c48\",\"type\":\"WheelZoomTool\"},{\"id\":\"051858f5-b3d2-456c-95bb-26213b24fbc2\",\"type\":\"UndoTool\"}]},\"id\":\"e3ce8636-816f-470d-bd59-ea594ef43d11\",\"type\":\"Toolbar\"},{\"attributes\":{\"data_source\":{\"id\":\"c8dc058e-fcaa-4e32-beae-acd3d1bd3f6e\",\"type\":\"ColumnDataSource\"},\"glyph\":{\"id\":\"548eb017-85f1-447a-bcd9-b9043b4e5b07\",\"type\":\"Circle\"},\"hover_glyph\":null,\"nonselection_glyph\":{\"id\":\"ff7da0e8-42a0-4d6b-82e1-02831abb923b\",\"type\":\"Circle\"},\"selection_glyph\":null},\"id\":\"2322b7bc-2c59-4217-864b-8ff7a6eb0346\",\"type\":\"GlyphRenderer\"},{\"attributes\":{},\"id\":\"204fbc14-83b4-4720-a293-0dcfb1881f47\",\"type\":\"BasicTickFormatter\"},{\"attributes\":{\"fill_alpha\":{\"value\":0.5},\"fill_color\":{\"value\":\"lightgrey\"},\"level\":\"overlay\",\"line_alpha\":{\"value\":1.0},\"line_color\":{\"value\":\"black\"},\"line_dash\":[4,4],\"line_width\":{\"value\":2},\"plot\":null,\"xs_units\":\"screen\",\"ys_units\":\"screen\"},\"id\":\"f08a5dfc-e563-43c3-98f2-52c8e43b31c3\",\"type\":\"PolyAnnotation\"},{\"attributes\":{\"callback\":null,\"plot\":{\"id\":\"7f826b57-c484-4691-bdad-0512a02367c8\",\"subtype\":\"Figure\",\"type\":\"Plot\"}},\"id\":\"3307a1d5-7b3d-462d-8616-157e8748a748\",\"type\":\"TapTool\"},{\"attributes\":{\"callback\":null,\"column_names\":[\"y\",\"x\"],\"data\":{\"x\":[5.0,50.0],\"y\":[5.0,50.0]}},\"id\":\"9f16a481-4624-499f-a151-9c822f5d27df\",\"type\":\"ColumnDataSource\"},{\"attributes\":{\"fill_alpha\":{\"value\":0.1},\"fill_color\":{\"value\":\"#1f77b4\"},\"line_alpha\":{\"value\":0.1},\"line_color\":{\"value\":\"#1f77b4\"},\"line_width\":{\"value\":3},\"x\":{\"field\":\"x\"},\"y\":{\"field\":\"y\"}},\"id\":\"ff7da0e8-42a0-4d6b-82e1-02831abb923b\",\"type\":\"Circle\"},{\"attributes\":{\"plot\":{\"id\":\"7f826b57-c484-4691-bdad-0512a02367c8\",\"subtype\":\"Figure\",\"type\":\"Plot\"}},\"id\":\"58ef885d-b864-4a3d-95ea-4e90598ec9e0\",\"type\":\"PanTool\"},{\"attributes\":{\"dimension\":1,\"plot\":{\"id\":\"7f826b57-c484-4691-bdad-0512a02367c8\",\"subtype\":\"Figure\",\"type\":\"Plot\"},\"ticker\":{\"id\":\"a9e98c48-6d72-4b5c-8f7e-53faa7170c18\",\"type\":\"BasicTicker\"}},\"id\":\"a49c2037-2ad3-4547-af23-9263c0ac63ae\",\"type\":\"Grid\"},{\"attributes\":{\"callback\":null,\"overlay\":{\"id\":\"237c9ee9-5573-441c-98dc-d1b5a0a66f61\",\"type\":\"PolyAnnotation\"},\"plot\":{\"id\":\"7f826b57-c484-4691-bdad-0512a02367c8\",\"subtype\":\"Figure\",\"type\":\"Plot\"}},\"id\":\"d168c31a-9b82-494c-86d0-289856af5554\",\"type\":\"LassoSelectTool\"},{\"attributes\":{},\"id\":\"8903db77-a5f4-4728-9996-d625493f6ac0\",\"type\":\"BasicTickFormatter\"},{\"attributes\":{\"bottom_units\":\"screen\",\"fill_alpha\":{\"value\":0.5},\"fill_color\":{\"value\":\"lightgrey\"},\"left_units\":\"screen\",\"level\":\"overlay\",\"line_alpha\":{\"value\":1.0},\"line_color\":{\"value\":\"black\"},\"line_dash\":[4,4],\"line_width\":{\"value\":2},\"plot\":null,\"render_mode\":\"css\",\"right_units\":\"screen\",\"top_units\":\"screen\"},\"id\":\"5b6f8425-64ce-463e-9127-d30228182412\",\"type\":\"BoxAnnotation\"},{\"attributes\":{\"plot\":{\"id\":\"7f826b57-c484-4691-bdad-0512a02367c8\",\"subtype\":\"Figure\",\"type\":\"Plot\"}},\"id\":\"4b42da7e-ecb0-405c-86eb-1cac2ab10148\",\"type\":\"CrosshairTool\"},{\"attributes\":{\"background_fill_alpha\":{\"value\":0.5},\"background_fill_color\":{\"value\":\"beige\"},\"below\":[{\"id\":\"f2488e79-bf20-467a-a247-740e0244a6d5\",\"type\":\"LinearAxis\"}],\"left\":[{\"id\":\"82428428-8d98-4098-8da5-eb7425205bfc\",\"type\":\"LinearAxis\"}],\"plot_height\":500,\"plot_width\":500,\"renderers\":[{\"id\":\"f2488e79-bf20-467a-a247-740e0244a6d5\",\"type\":\"LinearAxis\"},{\"id\":\"fb8a7c2e-4c89-4b7c-9c6d-7cca5eb79478\",\"type\":\"Grid\"},{\"id\":\"82428428-8d98-4098-8da5-eb7425205bfc\",\"type\":\"LinearAxis\"},{\"id\":\"a49c2037-2ad3-4547-af23-9263c0ac63ae\",\"type\":\"Grid\"},{\"id\":\"5b6f8425-64ce-463e-9127-d30228182412\",\"type\":\"BoxAnnotation\"},{\"id\":\"b9fc3ed9-9df5-40d0-b35d-ac733eca9536\",\"type\":\"BoxAnnotation\"},{\"id\":\"237c9ee9-5573-441c-98dc-d1b5a0a66f61\",\"type\":\"PolyAnnotation\"},{\"id\":\"f08a5dfc-e563-43c3-98f2-52c8e43b31c3\",\"type\":\"PolyAnnotation\"},{\"id\":\"2322b7bc-2c59-4217-864b-8ff7a6eb0346\",\"type\":\"GlyphRenderer\"},{\"id\":\"f9df178f-9d27-4032-a869-ffb1b254fe41\",\"type\":\"GlyphRenderer\"}],\"title\":{\"id\":\"ca1f05fa-e6b8-4191-b97e-178b6cd35fd0\",\"type\":\"Title\"},\"tool_events\":{\"id\":\"e0d944a6-53cc-44e0-b2ad-7fe1a639d01f\",\"type\":\"ToolEvents\"},\"toolbar\":{\"id\":\"e3ce8636-816f-470d-bd59-ea594ef43d11\",\"type\":\"Toolbar\"},\"x_range\":{\"id\":\"70c8b774-4312-4d78-a6e2-fe38bb78e2f5\",\"type\":\"DataRange1d\"},\"y_range\":{\"id\":\"2eaa5e13-f899-42c7-ad20-ed08d0cab911\",\"type\":\"DataRange1d\"}},\"id\":\"7f826b57-c484-4691-bdad-0512a02367c8\",\"subtype\":\"Figure\",\"type\":\"Plot\"},{\"attributes\":{\"plot\":{\"id\":\"7f826b57-c484-4691-bdad-0512a02367c8\",\"subtype\":\"Figure\",\"type\":\"Plot\"}},\"id\":\"b7f45d4d-42d6-4530-9b5f-e83e2b9ed615\",\"type\":\"ResetTool\"},{\"attributes\":{\"data_source\":{\"id\":\"9f16a481-4624-499f-a151-9c822f5d27df\",\"type\":\"ColumnDataSource\"},\"glyph\":{\"id\":\"4a52b8fd-5a32-4d8e-bb76-2e4011e9e11f\",\"type\":\"Line\"},\"hover_glyph\":null,\"nonselection_glyph\":{\"id\":\"d1a4932a-87e9-4113-aeb2-67a43f93b2a8\",\"type\":\"Line\"},\"selection_glyph\":null},\"id\":\"f9df178f-9d27-4032-a869-ffb1b254fe41\",\"type\":\"GlyphRenderer\"},{\"attributes\":{\"plot\":{\"id\":\"7f826b57-c484-4691-bdad-0512a02367c8\",\"subtype\":\"Figure\",\"type\":\"Plot\"}},\"id\":\"f2a66c41-10d7-4680-b771-da18b92e1f5d\",\"type\":\"ResizeTool\"},{\"attributes\":{\"overlay\":{\"id\":\"f08a5dfc-e563-43c3-98f2-52c8e43b31c3\",\"type\":\"PolyAnnotation\"},\"plot\":{\"id\":\"7f826b57-c484-4691-bdad-0512a02367c8\",\"subtype\":\"Figure\",\"type\":\"Plot\"}},\"id\":\"ccf522c1-54ee-498b-a945-d33c537d457e\",\"type\":\"PolySelectTool\"}],\"root_ids\":[\"7f826b57-c484-4691-bdad-0512a02367c8\"]},\"title\":\"Bokeh Application\",\"version\":\"0.12.0\"}};\n",
       "            var render_items = [{\"docid\":\"93fe0396-9a97-46f9-9972-1af9146ff970\",\"elementid\":\"4be2b27f-e03a-4b1b-85d7-04274cead5c7\",\"modelid\":\"7f826b57-c484-4691-bdad-0512a02367c8\",\"notebook_comms_target\":\"bb1a38cf-f3d1-4826-94de-1624b0c45dd8\"}];\n",
       "            \n",
       "            Bokeh.embed.embed_items(docs_json, render_items);\n",
       "        });\n",
       "      },\n",
       "      function(Bokeh) {\n",
       "      }\n",
       "    ];\n",
       "  \n",
       "    function run_inline_js() {\n",
       "      for (var i = 0; i < inline_js.length; i++) {\n",
       "        inline_js[i](window.Bokeh);\n",
       "      }\n",
       "    }\n",
       "  \n",
       "    if (window._bokeh_is_loading === 0) {\n",
       "      console.log(\"Bokeh: BokehJS loaded, going straight to plotting\");\n",
       "      run_inline_js();\n",
       "    } else {\n",
       "      load_libs(js_urls, function() {\n",
       "        console.log(\"Bokeh: BokehJS plotting callback run at\", now());\n",
       "        run_inline_js();\n",
       "      });\n",
       "    }\n",
       "  }(this));\n",
       "</script>"
      ]
     },
     "metadata": {},
     "output_type": "display_data"
    },
    {
     "data": {
      "text/html": [
       "<p><code>&lt;Bokeh Notebook handle for <strong>In[25]</strong>&gt;</code></p>"
      ],
      "text/plain": [
       "<bokeh.io._CommsHandle at 0x10f56f110>"
      ]
     },
     "execution_count": 25,
     "metadata": {},
     "output_type": "execute_result"
    }
   ],
   "source": [
    "# Plotining using bokeh\n",
    "#TOOLS = [BoxSelectTool(), HoverTool()]\n",
    "#TOOLS = 'hover,box_zoom,box_select,crosshair,resize,reset,DecisionTreeRegressor_select,pan,save,poly_select,tap,wheel_zoom,undo'\n",
    "TOOLS = 'box_zoom,box_select,crosshair,resize,reset,lasso_select,pan,save,poly_select,tap,wheel_zoom,undo'\n",
    "p = figure(plot_width=500, plot_height=500, tools=TOOLS)\n",
    "p.scatter(Y, predicted,x=\"jjj\", marker=\"o\", color=\"#80B1D3\", line_width=3)\n",
    "p.title.align = \"center\"\n",
    "p.xaxis.axis_label = \"Measured\"\n",
    "p.xaxis.axis_label_text_color = \"#aa6666\"\n",
    "#p.xaxis.axis_label_standoff = 30\n",
    "p.xaxis.major_tick_line_color = \"firebrick\"\n",
    "p.xaxis.major_tick_line_width = 3\n",
    "p.xaxis.minor_tick_line_color = \"orange\"\n",
    "p.yaxis.axis_label = \"Predicted\"\n",
    "p.yaxis.axis_label_text_font_style = \"italic\"\n",
    "p.yaxis.axis_label_text_color = \"#aa6666\"\n",
    "p.background_fill_color = \"beige\"\n",
    "p.background_fill_alpha = 0.5\n",
    "#p.line([Y.min(), Y.max()], [Y.min(), Y.max()], line_dash=\"4 4\", line_width=2, color='red')\n",
    "\n",
    "# create a new plot with the toolbar below\n",
    "# line_dash=\"4 4\", line_width=2, color='red'\n",
    "p.line([Y.min(), Y.max()], [Y.min(), Y.max()], line_dash=\"4 4\", line_width=2, line_color=\"black\")\n",
    "show(p)"
   ]
  },
  {
   "cell_type": "code",
   "execution_count": 26,
   "metadata": {
    "collapsed": false
   },
   "outputs": [
    {
     "data": {
      "text/plain": [
       "<matplotlib.text.Text at 0x10f637710>"
      ]
     },
     "execution_count": 26,
     "metadata": {},
     "output_type": "execute_result"
    },
    {
     "data": {
      "image/png": "[encoded data removed]",
      "text/plain": [
       "<matplotlib.figure.Figure at 0x10f5a66d0>"
      ]
     },
     "metadata": {},
     "output_type": "display_data"
    }
   ],
   "source": [
    "plt.scatter(predicted, (predicted - Y), c='r', s=30)\n",
    "plt.title(\"Residual plot on the training data\")\n",
    "plt.xlabel(\"Predicted\")\n",
    "plt.ylabel(\"Residuals\")"
   ]
  },
  {
   "cell_type": "code",
   "execution_count": 27,
   "metadata": {
    "collapsed": false
   },
   "outputs": [
    {
     "data": {
      "text/html": [
       "\n",
       "\n",
       "    <div class=\"bk-root\">\n",
       "        <div class=\"plotdiv\" id=\"a8cf5557-44a3-450b-95cf-40cf0fdd5ad8\"></div>\n",
       "    </div>\n",
       "<script type=\"text/javascript\">\n",
       "  \n",
       "  (function(global) {\n",
       "    function now() {\n",
       "      return new Date();\n",
       "    }\n",
       "  \n",
       "    if (typeof (window._bokeh_onload_callbacks) === \"undefined\") {\n",
       "      window._bokeh_onload_callbacks = [];\n",
       "    }\n",
       "  \n",
       "    function run_callbacks() {\n",
       "      window._bokeh_onload_callbacks.forEach(function(callback) { callback() });\n",
       "      delete window._bokeh_onload_callbacks\n",
       "      console.info(\"Bokeh: all callbacks have finished\");\n",
       "    }\n",
       "  \n",
       "    function load_libs(js_urls, callback) {\n",
       "      window._bokeh_onload_callbacks.push(callback);\n",
       "      if (window._bokeh_is_loading > 0) {\n",
       "        console.log(\"Bokeh: BokehJS is being loaded, scheduling callback at\", now());\n",
       "        return null;\n",
       "      }\n",
       "      if (js_urls == null || js_urls.length === 0) {\n",
       "        run_callbacks();\n",
       "        return null;\n",
       "      }\n",
       "      console.log(\"Bokeh: BokehJS not loaded, scheduling load and callback at\", now());\n",
       "      window._bokeh_is_loading = js_urls.length;\n",
       "      for (var i = 0; i < js_urls.length; i++) {\n",
       "        var url = js_urls[i];\n",
       "        var s = document.createElement('script');\n",
       "        s.src = url;\n",
       "        s.async = false;\n",
       "        s.onreadystatechange = s.onload = function() {\n",
       "          window._bokeh_is_loading--;\n",
       "          if (window._bokeh_is_loading === 0) {\n",
       "            console.log(\"Bokeh: all BokehJS libraries loaded\");\n",
       "            run_callbacks()\n",
       "          }\n",
       "        };\n",
       "        s.onerror = function() {\n",
       "          console.warn(\"failed to load library \" + url);\n",
       "        };\n",
       "        console.log(\"Bokeh: injecting script tag for BokehJS library: \", url);\n",
       "        document.getElementsByTagName(\"head\")[0].appendChild(s);\n",
       "      }\n",
       "    };var element = document.getElementById(\"a8cf5557-44a3-450b-95cf-40cf0fdd5ad8\");\n",
       "    if (element == null) {\n",
       "      console.log(\"Bokeh: ERROR: autoload.js configured with elementid 'a8cf5557-44a3-450b-95cf-40cf0fdd5ad8' but no matching script tag was found. \")\n",
       "      return false;\n",
       "    }\n",
       "  \n",
       "    var js_urls = [];\n",
       "  \n",
       "    var inline_js = [\n",
       "      function(Bokeh) {\n",
       "        Bokeh.$(function() {\n",
       "            var docs_json = {\"45caceb8-5faf-4c06-b12b-be1cdb4d02f9\":{\"roots\":{\"references\":[{\"attributes\":{\"align\":\"center\",\"plot\":null,\"text\":\"Residual plot on the training data\"},\"id\":\"51a8da36-833e-49e0-97f5-c3a161cc61cf\",\"type\":\"Title\"},{\"attributes\":{\"fill_alpha\":{\"value\":0.1},\"fill_color\":{\"value\":\"#1f77b4\"},\"line_alpha\":{\"value\":0.1},\"line_color\":{\"value\":\"#1f77b4\"},\"line_width\":{\"value\":3},\"x\":{\"field\":\"x\"},\"y\":{\"field\":\"y\"}},\"id\":\"4de67976-b2c2-49e9-8dd2-a0ec02406dc7\",\"type\":\"Circle\"},{\"attributes\":{\"fill_alpha\":{\"value\":0.5},\"fill_color\":{\"value\":\"lightgrey\"},\"level\":\"overlay\",\"line_alpha\":{\"value\":1.0},\"line_color\":{\"value\":\"black\"},\"line_dash\":[4,4],\"line_width\":{\"value\":2},\"plot\":null,\"xs_units\":\"screen\",\"ys_units\":\"screen\"},\"id\":\"d53b1eef-e727-42ca-af99-1fc0e73b8176\",\"type\":\"PolyAnnotation\"},{\"attributes\":{\"dimension\":1,\"plot\":{\"id\":\"30db30c2-b659-4691-809c-fe7e7a3e476d\",\"subtype\":\"Figure\",\"type\":\"Plot\"},\"ticker\":{\"id\":\"abf36596-1622-49d7-96ab-34c640c9a641\",\"type\":\"BasicTicker\"}},\"id\":\"11e51f2d-f184-40d7-a964-e363852913dc\",\"type\":\"Grid\"},{\"attributes\":{\"overlay\":{\"id\":\"43e1f896-dcbc-468d-9277-d5f6bd906ee7\",\"type\":\"BoxAnnotation\"},\"plot\":{\"id\":\"30db30c2-b659-4691-809c-fe7e7a3e476d\",\"subtype\":\"Figure\",\"type\":\"Plot\"}},\"id\":\"0d8265b8-b940-4730-86aa-a6b4a94f24d2\",\"type\":\"BoxZoomTool\"},{\"attributes\":{\"callback\":null,\"overlay\":{\"id\":\"33649b1e-5b9d-4814-a3bb-072461154e22\",\"type\":\"BoxAnnotation\"},\"plot\":{\"id\":\"30db30c2-b659-4691-809c-fe7e7a3e476d\",\"subtype\":\"Figure\",\"type\":\"Plot\"},\"renderers\":[{\"id\":\"e8f0c828-a364-4156-b72d-deb29e1a2d12\",\"type\":\"GlyphRenderer\"}]},\"id\":\"195dee83-f906-416a-a956-31aca81f68bc\",\"type\":\"BoxSelectTool\"},{\"attributes\":{\"data_source\":{\"id\":\"9eb85a49-c540-4b83-9c43-8df9ff4339b6\",\"type\":\"ColumnDataSource\"},\"glyph\":{\"id\":\"e3eee4c6-5a67-4a84-96b0-8db7576df063\",\"type\":\"Circle\"},\"hover_glyph\":null,\"nonselection_glyph\":{\"id\":\"4de67976-b2c2-49e9-8dd2-a0ec02406dc7\",\"type\":\"Circle\"},\"selection_glyph\":null},\"id\":\"e8f0c828-a364-4156-b72d-deb29e1a2d12\",\"type\":\"GlyphRenderer\"},{\"attributes\":{\"plot\":{\"id\":\"30db30c2-b659-4691-809c-fe7e7a3e476d\",\"subtype\":\"Figure\",\"type\":\"Plot\"},\"ticker\":{\"id\":\"7166b098-25ed-43a0-b6bd-7afd753b7416\",\"type\":\"BasicTicker\"}},\"id\":\"58f3f3b7-f7c1-411a-947d-17091999e6c2\",\"type\":\"Grid\"},{\"attributes\":{\"plot\":{\"id\":\"30db30c2-b659-4691-809c-fe7e7a3e476d\",\"subtype\":\"Figure\",\"type\":\"Plot\"}},\"id\":\"967b499b-4cba-4ccf-819a-62d9f4265393\",\"type\":\"ResetTool\"},{\"attributes\":{\"callback\":null},\"id\":\"7a130a7a-101a-4bab-b3f7-bf0f5606c9f8\",\"type\":\"DataRange1d\"},{\"attributes\":{\"callback\":null,\"column_names\":[\"x\",\"y\"],\"data\":{\"x\":[30.157142857142862,20.729411764705887,25.72941176470588,20.43191489361703,11.083333333333334,20.43191489361703,24.63131313131313,24.63131313131313,27.060759493670876,11.083333333333334,17.189285714285713,19.330578512396702,17.189285714285713,20.231944444444448,11.083333333333334,20.43191489361703,11.083333333333334,47.54999999999999,25.466666666666665,11.083333333333334,17.889743589743595,20.43191489361703,20.729411764705887,17.189285714285713,32.84651162790699,17.889743589743595,24.63131313131313,32.84651162790699,11.709459459459458,11.083333333333334,12.767532467532467,19.330578512396702,11.709459459459458,33.160606060606064,20.43191489361703,14.775,25.466666666666665,11.083333333333334,11.083333333333334,20.43191489361703,32.84651162790699,26.550909090909073,26.550909090909073,18.711475409836062,33.72325581395348,33.72325581395348,11.947560975609756,11.543548387096772,26.550909090909073,28.286764705882366,12.425999999999995,28.286764705882366,17.554166666666656,26.550909090909073,17.661111111111115,17.661111111111115,20.75038759689923,17.661111111111115,11.543548387096772,19.70441176470587,28.840425531914885,33.72325581395348,27.592857142857138,20.75038759689923,26.550909090909073,26.550909090909073,26.550909090909073,11.947560975609756,26.550909090909073,12.425999999999995,18.711475409836062,26.550909090909073,19.70441176470587,11.543548387096772,19.70441176470587,17.661111111111115,19.661538461538463,22.631944444444443,12.425999999999995,15.629411764705882,20.75038759689923,20.75038759689923,17.098630136986298,26.75684210526315,23.96666666666667,25.916091954022978,35.50588235294118,17.098630136986298,13.509836065573769,23.139999999999997,35.50588235294118,22.538775510204083,45.83181818181818,25.916091954022978,23.96666666666667,20.056481481481487,25.916091954022978,45.81,25.035220125786157,20.819387755102042,45.83181818181818,39.35692307692306,14.115624999999998,26.75684210526315,19.425925925925938,25.916091954022978,20.819387755102042,20.819387755102042,25.916091954022978,23.96666666666667,13.509836065573769,22.538775510204083,20.819387755102042,13.509836065573769,14.115624999999998,25.035220125786157,13.509836065573769,37.104545454545466,11.830158730158725,17.385294117647057,20.056481481481487,14.115624999999998,23.96666666666667,20.775657894736824,17.455813953488367,20.84343434343435,23.902564102564106,20.775657894736824,16.52272727272727,22.914035087719295,20.84343434343435,32.742857142857126,20.84343434343435,20.84343434343435,14.310000000000002,20.775657894736824,30.033333333333335,19.647619047619045,36.873913043478254,23.902564102564106,20.775657894736824,17.28139534883722,29.719047619047625,27.99298245614035,20.84343434343435,17.455813953488367,32.742857142857126,17.455813953488367,10.436734693877552,10.436734693877552,16.52272727272727,41.25,17.455813953488367,17.455813953488367,32.742857142857126,20.84343434343435,20.775657894736824,32.742857142857126,23.902564102564106,22.914035087719295,17.857575757575763,22.914035087719295,20.84343434343435,10.436734693877552,21.0840579710145,28.408421052631567,20.544262295081968,16.445283018867922,24.018421052631584,18.339534883720933,18.339534883720933,28.3391891891892,16.516666666666676,21.0840579710145,10.555555555555557,11.938888888888888,18.339534883720933,20.544262295081968,22.812582781456964,25.967816091954038,25.967816091954038,22.812582781456964,10.555555555555557,32.65714285714285,18.339534883720933,46.96999999999999,25.857272727272722,28.3391891891892,22.812582781456964,18.339534883720933,21.0840579710145,25.967816091954038,16.754347826086956,22.812582781456964,46.96999999999999,18.339534883720933,10.555555555555557,32.65714285714285,28.408421052631567,20.544262295081968,22.812582781456964,18.339534883720933,20.544262295081968,22.812582781456964,25.84655172413792,11.815686274509805,20.75680000000001,44.75000000000001,47.26666666666667,25.84655172413792,34.3875,20.722388059701494,20.75680000000001,11.94333333333333,20.40654205607476,25.84655172413792,25.84655172413792,20.40654205607476,11.815686274509805,14.457142857142857,34.900000000000006,30.015384615384615,21.510344827586206,20.722388059701494,23.96694214876032,11.815686274509805,23.96694214876032,25.84655172413792,13.377922077922078,20.75680000000001,21.510344827586206,25.84655172413792,20.75680000000001,47.26666666666667,20.40654205607476,34.3875,26.697560975609747,17.413636363636364,47.26666666666667,20.890476190476196,20.75680000000001,20.75680000000001,13.377922077922078,20.75680000000001,28.171014492753624,21.69136690647481,12.322413793103449,32.675,17.90188679245282,26.178571428571416,26.178571428571416,33.11818181818182,21.69136690647481,29.8,21.69136690647481,17.90188679245282,21.69136690647481,17.510294117647064,25.451000000000008,26.894117647058824,21.69136690647481,21.69136690647481,17.394339622641517,12.052000000000005,12.052000000000005,12.322413793103449,12.322413793103449,22.556701030927837,25.451000000000008,12.052000000000005,20.95064935064935,26.178571428571416,17.510294117647064,25.451000000000008,17.510294117647064,26.894117647058824,25.451000000000008,41.379999999999995,20.95064935064935,46.45714285714286,28.171014492753624,32.26744186046512,21.69136690647481,26.178571428571416,47.1,38.88333333333333,21.818461538461545,18.800925925925927,25.30298507462688,15.63877551020408,21.818461538461545,24.351250000000004,25.98584905660377,16.2875,32.33269230769231,10.31320754716981,12.609090909090911,18.800925925925927,32.33269230769231,28.66363636363637,15.1,15.1,25.086274509803918,32.4829268292683,12.764705882352942,18.800925925925927,12.764705882352942,25.98584905660377,32.4829268292683,25.086274509803918,43.75333333333333,25.086274509803918,20.22600000000001,15.63877551020408,11.693975903614465,15.63877551020408,16.2875,10.31320754716981,25.30298507462688,25.086274509803918,32.4829268292683,20.22600000000001,18.800925925925927,33.294000000000025,31.92073170731709,12.633750000000001,24.96666666666667,45.491304347826095,12.633750000000001,16.730985915492962,24.96666666666667,17.944067796610174,12.633750000000001,16.730985915492962,44.292307692307695,16.730985915492962,21.42534246575342,12.633750000000001,22.795530726256978,12.66578947368421,12.633750000000001,16.730985915492962,31.92073170731709,21.66813186813187,28.091011235955044,42.45833333333334,46.518181818181816,18.97083333333333,21.42534246575342,44.292307692307695,21.42534246575342,16.730985915492962,16.142857142857142,22.795530726256978,16.730985915492962,16.730985915492962,24.96666666666667,12.938028169014087,12.633750000000001,21.42534246575342,16.142857142857142,24.717021276595744,12.938028169014087,25.99411764705882,34.04117647058823,22.50126582278482,13.847058823529405,14.229032258064517,25.293478260869573,29.123076923076916,26.109210526315803,20.421212121212136,19.781081081081076,11.437313432835824,25.293478260869573,25.71551724137931,25.71551724137931,17.464516129032262,20.97619047619049,21.3,13.23118279569892,22.50126582278482,20.97619047619049,31.782608695652183,29.169999999999998,20.97619047619049,13.23118279569892,26.784210526315785,20.97619047619049,25.71551724137931,22.50126582278482,26.784210526315785,20.97619047619049,31.782608695652183,17.61428571428571,17.61428571428571,20.97619047619049,46.428124999999994,31.782608695652183,20.97619047619049,34.04117647058823,20.97619047619049,17.61428571428571,20.97619047619049],\"y\":[3.4571428571428626,-0.9705882352941124,3.7294117647058798,-2.4680851063829685,0.6833333333333336,-1.4680851063829685,4.03131313131313,-1.768686868686867,-14.239240506329121,-6.116666666666665,-9.910714285714288,-1.0694214876032966,0.6892857142857132,-4.168055555555551,2.6833333333333336,-2.56808510638297,1.3833333333333346,-2.45000000000001,-5.033333333333335,-1.2166666666666668,-1.5102564102564031,-0.7680851063829692,0.42941176470588616,-1.6107142857142875,-0.5534883720930068,-0.6102564102564045,5.03131313131313,-0.3534883720930111,-1.3905405405405418,3.583333333333334,-0.8324675324675326,1.9305785123967034,3.3094594594594575,-2.239393939393935,-3.56808510638297,1.375,-0.7333333333333343,3.8833333333333337,-2.0166666666666657,-4.06808510638297,-4.353488372093011,1.550909090909073,2.4509090909090716,2.1114754098360606,0.8232558139534802,-2.476744186046524,0.9475609756097558,4.343548387096772,3.7509090909090723,-0.4132352941176336,-1.9740000000000055,3.886764705882367,-0.5458333333333449,4.050909090909073,-2.838888888888885,2.4611111111111157,3.350387596899232,4.061111111111115,2.8435483870967726,1.5044117647058712,-6.559574468085113,2.0232558139534795,-5.407142857142862,-1.4496124031007689,6.1509090909090745,2.6509090909090745,1.550909090909073,-0.7524390243902435,-2.5490909090909284,0.4259999999999948,1.0114754098360628,-0.44909090909092697,-0.8955882352941309,1.3435483870967726,2.2044117647058705,-2.0388888888888843,-10.138461538461538,2.131944444444443,-2.4740000000000055,4.7294117647058815,1.2503875968992304,-1.9496124031007689,-2.401369863013702,2.1568421052631486,-1.0333333333333314,1.4160919540229777,-14.494117647058822,2.798630136986297,1.7098360655737679,-7.860000000000003,6.805882352941179,6.3387755102040835,2.3318181818181785,0.9160919540229777,1.9666666666666686,0.15648148148148877,3.8160919540229763,-0.18999999999999773,2.1352201257861587,0.6193877551020428,2.731818181818177,4.756923076923059,0.31562499999999716,2.4568421052631493,-2.074074074074062,1.5160919540229791,-0.3806122448979572,-2.9806122448979586,-0.6839080459770237,-1.1333333333333329,3.909836065573769,3.138775510204084,1.4193877551020435,4.009836065573769,0.11562499999999787,-1.4647798742138427,-0.2901639344262321,2.404545454545463,-4.469841269841275,-4.314705882352943,2.5564814814814874,-1.4843750000000018,3.06666666666667,-0.9243421052631753,4.755813953488367,2.3434343434343496,0.20256410256410717,1.4756578947368233,3.8227272727272705,1.3140350877192937,-2.3565656565656496,3.1428571428571246,-0.35656565656564965,-2.956565656565651,-2.789999999999999,-1.224342105263176,-6.466666666666665,0.8476190476190446,14.973913043478255,0.802564102564105,0.5756578947368247,-0.11860465116278007,-7.280952380952375,3.8929824561403485,-15.356565656565653,1.7558139534883672,0.5428571428571232,3.9558139534883665,-7.463265306122446,-2.8632653061224485,4.8227272727272705,-0.45000000000000284,-0.9441860465116321,4.355813953488367,7.742857142857126,-0.35656565656564965,4.775657894736824,-2.1571428571428726,-1.2974358974358928,-1.8859649122807056,-3.6424242424242372,-0.4859649122807035,1.943434343434351,-0.36326530612244845,0.08405797101449863,0.9084210526315672,3.0442622950819676,2.945283018867922,-4.681578947368415,3.5395348837209326,-0.7604651162790681,-0.2608108108108027,3.4166666666666767,2.0840579710144986,-0.7444444444444436,-1.3611111111111125,-4.060465116279065,0.44426229508196613,4.612582781456965,3.0678160919540396,5.367816091954037,-2.187417218543036,-2.2444444444444436,-2.2428571428571473,-5.360465116279066,-3.0300000000000082,-3.142727272727278,-1.7608108108108027,0.8125827814569639,2.7395348837209337,-2.215942028985502,-4.132183908045963,2.4543478260869556,0.012582781456963232,-3.0300000000000082,-2.4604651162790674,4.255555555555557,-2.2428571428571473,-3.9915789473684313,0.644262295081969,2.5125827814569632,0.5395348837209326,-2.555737704918034,2.4125827814569654,2.6465517241379217,4.815686274509805,3.9568000000000083,-1.9499999999999957,-2.733333333333327,2.9465517241379224,10.487500000000004,-0.6776119402985046,-0.9431999999999903,-3.4566666666666706,5.106542056074758,2.7465517241379196,1.9465517241379224,1.0065420560747604,-0.08431372549019578,-3.3428571428571434,3.4000000000000057,-3.784615384615382,0.710344827586205,0.9223880597014933,1.5669421487603223,6.815686274509805,-0.5330578512396791,6.446551724137922,-1.722077922077922,2.5568000000000097,2.210344827586205,-1.2534482758620804,0.05680000000000973,9.666666666666671,8.70654205607476,0.9875000000000043,-3.4024390243902545,-3.9863636363636346,1.8666666666666742,0.7904761904761948,-0.04319999999999169,-5.64319999999999,2.977922077922077,-1.0431999999999917,-3.828985507246376,-0.008633093525190816,-6.07758620689655,-5.225000000000001,0.10188679245282017,-1.8214285714285836,-2.021428571428583,-2.8818181818181827,2.79136690647481,14.8,-0.8086330935251915,-12.798113207547178,1.6913669064748085,-1.5897058823529377,2.151000000000007,0.2941176470588225,0.591366906474807,1.9913669064748092,-2.6056603773584825,-0.047999999999994714,4.852000000000005,-1.8775862068965505,-4.977586206896552,-4.943298969072163,3.2510000000000083,1.1520000000000046,1.7506493506493506,-5.821428571428584,3.0102941176470637,0.7510000000000083,4.910294117647064,2.894117647058824,1.3510000000000062,-8.620000000000005,4.850649350649348,2.6571428571428655,1.5710144927536227,-3.832558139534882,-0.10863309352519224,-3.721428571428582,-2.8999999999999986,-5.116666666666667,1.2184615384615434,-0.799074074074074,-3.09701492537312,-3.461224489795921,-0.4815384615384559,3.4512500000000053,-2.41415094339623,1.887500000000001,-0.36730769230769056,-3.4867924528301906,4.109090909090911,-3.6990740740740726,-2.767307692307689,-2.9363636363636303,-2.700000000000001,-0.5,4.386274509803918,-7.317073170731696,-5.035294117647059,-0.799074074074074,-2.1352941176470583,3.9858490566037688,-16.317073170731696,0.08627450980391771,-4.74666666666667,1.1862745098039191,-0.07399999999999096,0.43877551020408134,1.193975903614465,-3.3612244897959194,-0.11249999999999716,1.5132075471698094,3.3029850746268785,0.286274509803917,-17.5170731707317,0.926000000000009,-3.899074074074072,-4.005999999999972,0.320731707317087,4.33375,1.8666666666666671,-4.508695652173905,-1.2662499999999994,0.6309859154929605,-0.33333333333333215,-1.5559322033898262,2.4337500000000016,-3.1690140845070367,9.092307692307692,3.3309859154929615,-3.274657534246579,1.133750000000001,-0.6044692737430211,-4.034210526315789,-2.7662499999999994,-1.2690140845070381,3.4207317073170884,3.2681318681318707,-4.408988764044956,-7.541666666666657,-3.481818181818184,-0.62916666666667,3.825342465753419,1.9923076923076977,6.92534246575342,3.5309859154929626,-0.05714285714285694,-6.804469273743024,0.03098591549296259,3.730985915492962,2.666666666666668,-0.4619718309859131,7.633750000000001,1.9253424657534204,1.5428571428571427,2.7170212765957444,4.838028169014088,1.3941176470588204,0.8411764705882305,1.9012658227848185,-0.25294117647059444,0.1290322580645178,4.193478260869572,-1.1769230769230852,2.4092105263158032,-0.9787878787878626,1.4810810810810757,2.9373134328358237,2.4934782608695727,2.915517241379309,3.5155172413793103,3.5645161290322616,-4.023809523809511,2.8000000000000007,6.2311827956989205,-0.09873417721518152,0.8761904761904873,0.982608695652182,-1.9300000000000033,-2.823809523809512,0.7311827956989205,3.184210526315784,-2.2238095238095106,1.5155172413793103,0.3012658227848206,-1.115789473684213,-1.2238095238095106,-1.3173913043478187,-1.6857142857142904,-1.2857142857142883,-1.6238095238095127,-3.5718750000000057,6.982608695652182,2.4761904761904887,-2.358823529411765,1.7761904761904894,1.014285714285709,-2.1238095238095127]}},\"id\":\"9eb85a49-c540-4b83-9c43-8df9ff4339b6\",\"type\":\"ColumnDataSource\"},{\"attributes\":{\"fill_alpha\":{\"value\":0.5},\"fill_color\":{\"value\":\"lightgrey\"},\"level\":\"overlay\",\"line_alpha\":{\"value\":1.0},\"line_color\":{\"value\":\"black\"},\"line_dash\":[4,4],\"line_width\":{\"value\":2},\"plot\":null,\"xs_units\":\"screen\",\"ys_units\":\"screen\"},\"id\":\"1556bd2e-7296-4347-a4bc-09788098efae\",\"type\":\"PolyAnnotation\"},{\"attributes\":{\"plot\":{\"id\":\"30db30c2-b659-4691-809c-fe7e7a3e476d\",\"subtype\":\"Figure\",\"type\":\"Plot\"}},\"id\":\"841a96e6-2053-4f76-8dd2-1b702d9efe0a\",\"type\":\"SaveTool\"},{\"attributes\":{\"callback\":null,\"overlay\":{\"id\":\"d53b1eef-e727-42ca-af99-1fc0e73b8176\",\"type\":\"PolyAnnotation\"},\"plot\":{\"id\":\"30db30c2-b659-4691-809c-fe7e7a3e476d\",\"subtype\":\"Figure\",\"type\":\"Plot\"}},\"id\":\"5c5bd52d-5a44-45cf-922d-aeb85699afa0\",\"type\":\"LassoSelectTool\"},{\"attributes\":{\"background_fill_alpha\":{\"value\":0.5},\"background_fill_color\":{\"value\":\"beige\"},\"below\":[{\"id\":\"8837da69-91cd-4870-826a-dac84b9987c6\",\"type\":\"LinearAxis\"}],\"left\":[{\"id\":\"254b8e21-cd68-4750-bf6a-6386344f846e\",\"type\":\"LinearAxis\"}],\"plot_height\":500,\"plot_width\":500,\"renderers\":[{\"id\":\"8837da69-91cd-4870-826a-dac84b9987c6\",\"type\":\"LinearAxis\"},{\"id\":\"58f3f3b7-f7c1-411a-947d-17091999e6c2\",\"type\":\"Grid\"},{\"id\":\"254b8e21-cd68-4750-bf6a-6386344f846e\",\"type\":\"LinearAxis\"},{\"id\":\"11e51f2d-f184-40d7-a964-e363852913dc\",\"type\":\"Grid\"},{\"id\":\"43e1f896-dcbc-468d-9277-d5f6bd906ee7\",\"type\":\"BoxAnnotation\"},{\"id\":\"33649b1e-5b9d-4814-a3bb-072461154e22\",\"type\":\"BoxAnnotation\"},{\"id\":\"d53b1eef-e727-42ca-af99-1fc0e73b8176\",\"type\":\"PolyAnnotation\"},{\"id\":\"1556bd2e-7296-4347-a4bc-09788098efae\",\"type\":\"PolyAnnotation\"},{\"id\":\"e8f0c828-a364-4156-b72d-deb29e1a2d12\",\"type\":\"GlyphRenderer\"}],\"title\":{\"id\":\"51a8da36-833e-49e0-97f5-c3a161cc61cf\",\"type\":\"Title\"},\"tool_events\":{\"id\":\"1527774a-05bf-40bd-afc3-a85811f76dd7\",\"type\":\"ToolEvents\"},\"toolbar\":{\"id\":\"79ac379c-a9b8-42c1-a030-8864ddc6c040\",\"type\":\"Toolbar\"},\"x_range\":{\"id\":\"a3aa4d18-8891-4773-a2dd-dc739da1bcbb\",\"type\":\"DataRange1d\"},\"y_range\":{\"id\":\"7a130a7a-101a-4bab-b3f7-bf0f5606c9f8\",\"type\":\"DataRange1d\"}},\"id\":\"30db30c2-b659-4691-809c-fe7e7a3e476d\",\"subtype\":\"Figure\",\"type\":\"Plot\"},{\"attributes\":{\"axis_label\":\"Predicted\",\"axis_label_text_color\":{\"value\":\"#aa6666\"},\"formatter\":{\"id\":\"196a6658-c199-41cc-bbc6-5eca4a2cfdc8\",\"type\":\"BasicTickFormatter\"},\"major_tick_line_color\":{\"value\":\"firebrick\"},\"major_tick_line_width\":{\"value\":3},\"minor_tick_line_color\":{\"value\":\"orange\"},\"plot\":{\"id\":\"30db30c2-b659-4691-809c-fe7e7a3e476d\",\"subtype\":\"Figure\",\"type\":\"Plot\"},\"ticker\":{\"id\":\"7166b098-25ed-43a0-b6bd-7afd753b7416\",\"type\":\"BasicTicker\"}},\"id\":\"8837da69-91cd-4870-826a-dac84b9987c6\",\"type\":\"LinearAxis\"},{\"attributes\":{\"callback\":null},\"id\":\"a3aa4d18-8891-4773-a2dd-dc739da1bcbb\",\"type\":\"DataRange1d\"},{\"attributes\":{\"bottom_units\":\"screen\",\"fill_alpha\":{\"value\":0.5},\"fill_color\":{\"value\":\"lightgrey\"},\"left_units\":\"screen\",\"level\":\"overlay\",\"line_alpha\":{\"value\":1.0},\"line_color\":{\"value\":\"black\"},\"line_dash\":[4,4],\"line_width\":{\"value\":2},\"plot\":null,\"render_mode\":\"css\",\"right_units\":\"screen\",\"top_units\":\"screen\"},\"id\":\"33649b1e-5b9d-4814-a3bb-072461154e22\",\"type\":\"BoxAnnotation\"},{\"attributes\":{\"plot\":{\"id\":\"30db30c2-b659-4691-809c-fe7e7a3e476d\",\"subtype\":\"Figure\",\"type\":\"Plot\"}},\"id\":\"6c594960-733f-4b88-a447-32bb8088baef\",\"type\":\"CrosshairTool\"},{\"attributes\":{\"fill_color\":{\"value\":\"#80B1D3\"},\"line_color\":{\"value\":\"#80B1D3\"},\"line_width\":{\"value\":3},\"x\":{\"field\":\"x\"},\"y\":{\"field\":\"y\"}},\"id\":\"e3eee4c6-5a67-4a84-96b0-8db7576df063\",\"type\":\"Circle\"},{\"attributes\":{\"plot\":{\"id\":\"30db30c2-b659-4691-809c-fe7e7a3e476d\",\"subtype\":\"Figure\",\"type\":\"Plot\"}},\"id\":\"47aadad3-70fc-428e-bacb-c4497e217790\",\"type\":\"ResizeTool\"},{\"attributes\":{\"bottom_units\":\"screen\",\"fill_alpha\":{\"value\":0.5},\"fill_color\":{\"value\":\"lightgrey\"},\"left_units\":\"screen\",\"level\":\"overlay\",\"line_alpha\":{\"value\":1.0},\"line_color\":{\"value\":\"black\"},\"line_dash\":[4,4],\"line_width\":{\"value\":2},\"plot\":null,\"render_mode\":\"css\",\"right_units\":\"screen\",\"top_units\":\"screen\"},\"id\":\"43e1f896-dcbc-468d-9277-d5f6bd906ee7\",\"type\":\"BoxAnnotation\"},{\"attributes\":{},\"id\":\"abf36596-1622-49d7-96ab-34c640c9a641\",\"type\":\"BasicTicker\"},{\"attributes\":{\"plot\":{\"id\":\"30db30c2-b659-4691-809c-fe7e7a3e476d\",\"subtype\":\"Figure\",\"type\":\"Plot\"}},\"id\":\"24ae82c4-6a1b-4003-baf0-e5e531f2b062\",\"type\":\"WheelZoomTool\"},{\"attributes\":{\"callback\":null,\"plot\":{\"id\":\"30db30c2-b659-4691-809c-fe7e7a3e476d\",\"subtype\":\"Figure\",\"type\":\"Plot\"}},\"id\":\"14f0193d-8082-4f33-8c34-ff46a9a495c0\",\"type\":\"TapTool\"},{\"attributes\":{\"plot\":{\"id\":\"30db30c2-b659-4691-809c-fe7e7a3e476d\",\"subtype\":\"Figure\",\"type\":\"Plot\"}},\"id\":\"ceb31b38-ccea-4721-b020-a0dde2dbafc2\",\"type\":\"UndoTool\"},{\"attributes\":{},\"id\":\"befdf45d-04f9-4519-88c1-ce88610e3a6d\",\"type\":\"BasicTickFormatter\"},{\"attributes\":{},\"id\":\"1527774a-05bf-40bd-afc3-a85811f76dd7\",\"type\":\"ToolEvents\"},{\"attributes\":{\"plot\":{\"id\":\"30db30c2-b659-4691-809c-fe7e7a3e476d\",\"subtype\":\"Figure\",\"type\":\"Plot\"}},\"id\":\"5f556775-61d9-440e-8422-6325e56def7a\",\"type\":\"PanTool\"},{\"attributes\":{},\"id\":\"7166b098-25ed-43a0-b6bd-7afd753b7416\",\"type\":\"BasicTicker\"},{\"attributes\":{},\"id\":\"196a6658-c199-41cc-bbc6-5eca4a2cfdc8\",\"type\":\"BasicTickFormatter\"},{\"attributes\":{\"axis_label\":\"Residuals\",\"axis_label_text_color\":{\"value\":\"#aa6666\"},\"formatter\":{\"id\":\"befdf45d-04f9-4519-88c1-ce88610e3a6d\",\"type\":\"BasicTickFormatter\"},\"plot\":{\"id\":\"30db30c2-b659-4691-809c-fe7e7a3e476d\",\"subtype\":\"Figure\",\"type\":\"Plot\"},\"ticker\":{\"id\":\"abf36596-1622-49d7-96ab-34c640c9a641\",\"type\":\"BasicTicker\"}},\"id\":\"254b8e21-cd68-4750-bf6a-6386344f846e\",\"type\":\"LinearAxis\"},{\"attributes\":{\"active_drag\":\"auto\",\"active_scroll\":\"auto\",\"active_tap\":\"auto\",\"tools\":[{\"id\":\"0d8265b8-b940-4730-86aa-a6b4a94f24d2\",\"type\":\"BoxZoomTool\"},{\"id\":\"195dee83-f906-416a-a956-31aca81f68bc\",\"type\":\"BoxSelectTool\"},{\"id\":\"6c594960-733f-4b88-a447-32bb8088baef\",\"type\":\"CrosshairTool\"},{\"id\":\"47aadad3-70fc-428e-bacb-c4497e217790\",\"type\":\"ResizeTool\"},{\"id\":\"967b499b-4cba-4ccf-819a-62d9f4265393\",\"type\":\"ResetTool\"},{\"id\":\"5c5bd52d-5a44-45cf-922d-aeb85699afa0\",\"type\":\"LassoSelectTool\"},{\"id\":\"5f556775-61d9-440e-8422-6325e56def7a\",\"type\":\"PanTool\"},{\"id\":\"841a96e6-2053-4f76-8dd2-1b702d9efe0a\",\"type\":\"SaveTool\"},{\"id\":\"e28d7cc0-92d7-4085-bb3a-8fec6e497723\",\"type\":\"PolySelectTool\"},{\"id\":\"14f0193d-8082-4f33-8c34-ff46a9a495c0\",\"type\":\"TapTool\"},{\"id\":\"24ae82c4-6a1b-4003-baf0-e5e531f2b062\",\"type\":\"WheelZoomTool\"},{\"id\":\"ceb31b38-ccea-4721-b020-a0dde2dbafc2\",\"type\":\"UndoTool\"}]},\"id\":\"79ac379c-a9b8-42c1-a030-8864ddc6c040\",\"type\":\"Toolbar\"},{\"attributes\":{\"overlay\":{\"id\":\"1556bd2e-7296-4347-a4bc-09788098efae\",\"type\":\"PolyAnnotation\"},\"plot\":{\"id\":\"30db30c2-b659-4691-809c-fe7e7a3e476d\",\"subtype\":\"Figure\",\"type\":\"Plot\"}},\"id\":\"e28d7cc0-92d7-4085-bb3a-8fec6e497723\",\"type\":\"PolySelectTool\"}],\"root_ids\":[\"30db30c2-b659-4691-809c-fe7e7a3e476d\"]},\"title\":\"Bokeh Application\",\"version\":\"0.12.0\"}};\n",
       "            var render_items = [{\"docid\":\"45caceb8-5faf-4c06-b12b-be1cdb4d02f9\",\"elementid\":\"a8cf5557-44a3-450b-95cf-40cf0fdd5ad8\",\"modelid\":\"30db30c2-b659-4691-809c-fe7e7a3e476d\",\"notebook_comms_target\":\"98a0be1a-b628-4a90-a29e-7b0ffffc1182\"}];\n",
       "            \n",
       "            Bokeh.embed.embed_items(docs_json, render_items);\n",
       "        });\n",
       "      },\n",
       "      function(Bokeh) {\n",
       "      }\n",
       "    ];\n",
       "  \n",
       "    function run_inline_js() {\n",
       "      for (var i = 0; i < inline_js.length; i++) {\n",
       "        inline_js[i](window.Bokeh);\n",
       "      }\n",
       "    }\n",
       "  \n",
       "    if (window._bokeh_is_loading === 0) {\n",
       "      console.log(\"Bokeh: BokehJS loaded, going straight to plotting\");\n",
       "      run_inline_js();\n",
       "    } else {\n",
       "      load_libs(js_urls, function() {\n",
       "        console.log(\"Bokeh: BokehJS plotting callback run at\", now());\n",
       "        run_inline_js();\n",
       "      });\n",
       "    }\n",
       "  }(this));\n",
       "</script>"
      ]
     },
     "metadata": {},
     "output_type": "display_data"
    },
    {
     "data": {
      "text/html": [
       "<p><code>&lt;Bokeh Notebook handle for <strong>In[27]</strong>&gt;</code></p>"
      ],
      "text/plain": [
       "<bokeh.io._CommsHandle at 0x10f9338d0>"
      ]
     },
     "execution_count": 27,
     "metadata": {},
     "output_type": "execute_result"
    }
   ],
   "source": [
    "# Plotining using bokeh\n",
    "#TOOLS = 'hover,box_zoom,box_select,crosshair,resize,reset,DecisionTreeRegressor_select,pan,save,poly_select,tap,wheel_zoom,undo'\n",
    "TOOLS = 'box_zoom,box_select,crosshair,resize,reset,lasso_select,pan,save,poly_select,tap,wheel_zoom,undo'\n",
    "p = figure(plot_width=500, plot_height=500, title=\"Residual plot on the training data\", tools=TOOLS)\n",
    "p.scatter(predicted, (predicted - Y),x=\"jjj\", marker=\"o\", color=\"#80B1D3\", line_width=3)\n",
    "p.title.align = \"center\"\n",
    "p.xaxis.axis_label = \"Predicted\"\n",
    "p.xaxis.axis_label_text_color = \"#aa6666\"\n",
    "#p.xaxis.axis_label_standoff = 30\n",
    "p.xaxis.major_tick_line_color = \"firebrick\"\n",
    "p.xaxis.major_tick_line_width = 3\n",
    "p.xaxis.minor_tick_line_color = \"orange\"\n",
    "p.yaxis.axis_label = \"Residuals\"\n",
    "p.yaxis.axis_label_text_font_style = \"italic\"\n",
    "p.yaxis.axis_label_text_color = \"#aa6666\"\n",
    "p.background_fill_color = \"beige\"\n",
    "p.background_fill_alpha = 0.5\n",
    "#p.line([2,38], [0, 0], line_dash=\"4 4\", line_width=2, color='red')\n",
    "show(p)"
   ]
  },
  {
   "cell_type": "markdown",
   "metadata": {},
   "source": [
    "## Pipeline"
   ]
  },
  {
   "cell_type": "markdown",
   "metadata": {},
   "source": [
    "The best to deliver the model by pipeline the operation then at deployment can be done in one model."
   ]
  },
  {
   "cell_type": "markdown",
   "metadata": {
    "collapsed": true
   },
   "source": [
    "  I used two ways to check the pipeline so any one can be fine"
   ]
  },
  {
   "cell_type": "code",
   "execution_count": 28,
   "metadata": {
    "collapsed": false
   },
   "outputs": [
    {
     "name": "stdout",
     "output_type": "stream",
     "text": [
      "0.88881358373\n",
      "Scoring according to mean_squared_error\n",
      "[-13.2547987  -14.28337693 -11.95077264 -25.73695984 -12.14023141\n",
      " -12.61797647 -23.20531497 -34.92984294 -13.76022535  -7.45195363]\n",
      "\n",
      " Mean      Standard deviation\n",
      "-16.93      7.92\n",
      "[ True  True  True  True  True  True  True  True  True  True  True  True\n",
      "  True]\n",
      "R-squared =  0.88881358373\n"
     ]
    }
   ],
   "source": [
    "# Use Pipeline\n",
    "# ANOVA \n",
    "from sklearn.pipeline import Pipeline\n",
    "from sklearn.feature_selection import SelectKBest, f_regression\n",
    "anova_filter = SelectKBest(f_regression, k=13)\n",
    "LR = AdaBoostRegressor(n_estimators = 5, loss = \"exponential\")\n",
    "\n",
    "anova_LinReg = Pipeline([('scaler_Input',scaler), ('anova', anova_filter), ('LinReg', LR)])\n",
    "# You can set the parameters using the names issued\n",
    "# For instance, fit using a k of 10 in the SelectKBest\n",
    "anova_LinReg.set_params(anova__k=13).fit(new_data, Y)\n",
    "prediction = anova_LinReg.predict(new_data)\n",
    "print anova_LinReg.score(new_data, Y)                        \n",
    "# getting the selected features chosen by anova_filter\n",
    "results = cross_validation.cross_val_score(anova_LinReg, new_data, Y, cv=kfold, scoring=scoring)\n",
    "print 'Scoring according to mean_squared_error'\n",
    "print results\n",
    "print '\\n Mean      Standard deviation'\n",
    "print(\"%.2f      %.2f\" % (results.mean(), results.std()))\n",
    "print anova_LinReg.named_steps['anova'].get_support()\n",
    "r_squared = r2_score(Y, prediction, multioutput='variance_weighted')\n",
    "print 'R-squared = ',r_squared"
   ]
  },
  {
   "cell_type": "code",
   "execution_count": 29,
   "metadata": {
    "collapsed": false
   },
   "outputs": [
    {
     "name": "stdout",
     "output_type": "stream",
     "text": [
      "R-squared =  0.892157017138\n"
     ]
    }
   ],
   "source": [
    "# Using make_pipeline\n",
    "from sklearn.pipeline import make_pipeline\n",
    "\n",
    "# ANOVA SVM-C\n",
    "# 1) anova filter, take 3 best ranked features\n",
    "anova_filter = SelectKBest(f_regression, k=13)\n",
    "anova_AdaBoostDecisionTreeRegressor = make_pipeline(scaler, anova_filter, LR)\n",
    "anova_AdaBoostDecisionTreeRegressor.fit(new_data, Y)\n",
    "prediction = anova_AdaBoostDecisionTreeRegressor.predict(new_data)\n",
    "r_squared = r2_score(Y, prediction, multioutput='variance_weighted')\n",
    "print 'R-squared = ',r_squared"
   ]
  },
  {
   "cell_type": "markdown",
   "metadata": {},
   "source": [
    "### Save the Pipeline model for developement"
   ]
  },
  {
   "cell_type": "code",
   "execution_count": 30,
   "metadata": {
    "collapsed": false
   },
   "outputs": [
    {
     "data": {
      "text/plain": [
       "['anova_AdaBoostDecisionTreeRegressor.pkl',\n",
       " 'anova_AdaBoostDecisionTreeRegressor.pkl_01.npy',\n",
       " 'anova_AdaBoostDecisionTreeRegressor.pkl_02.npy',\n",
       " 'anova_AdaBoostDecisionTreeRegressor.pkl_03.npy',\n",
       " 'anova_AdaBoostDecisionTreeRegressor.pkl_04.npy',\n",
       " 'anova_AdaBoostDecisionTreeRegressor.pkl_05.npy',\n",
       " 'anova_AdaBoostDecisionTreeRegressor.pkl_06.npy',\n",
       " 'anova_AdaBoostDecisionTreeRegressor.pkl_07.npy',\n",
       " 'anova_AdaBoostDecisionTreeRegressor.pkl_08.npy',\n",
       " 'anova_AdaBoostDecisionTreeRegressor.pkl_09.npy',\n",
       " 'anova_AdaBoostDecisionTreeRegressor.pkl_10.npy',\n",
       " 'anova_AdaBoostDecisionTreeRegressor.pkl_11.npy',\n",
       " 'anova_AdaBoostDecisionTreeRegressor.pkl_12.npy',\n",
       " 'anova_AdaBoostDecisionTreeRegressor.pkl_13.npy',\n",
       " 'anova_AdaBoostDecisionTreeRegressor.pkl_14.npy',\n",
       " 'anova_AdaBoostDecisionTreeRegressor.pkl_15.npy',\n",
       " 'anova_AdaBoostDecisionTreeRegressor.pkl_16.npy',\n",
       " 'anova_AdaBoostDecisionTreeRegressor.pkl_17.npy',\n",
       " 'anova_AdaBoostDecisionTreeRegressor.pkl_18.npy',\n",
       " 'anova_AdaBoostDecisionTreeRegressor.pkl_19.npy',\n",
       " 'anova_AdaBoostDecisionTreeRegressor.pkl_20.npy',\n",
       " 'anova_AdaBoostDecisionTreeRegressor.pkl_21.npy',\n",
       " 'anova_AdaBoostDecisionTreeRegressor.pkl_22.npy']"
      ]
     },
     "execution_count": 30,
     "metadata": {},
     "output_type": "execute_result"
    }
   ],
   "source": [
    "# save the model scaler to the desk\n",
    "from sklearn.externals import joblib\n",
    "joblib.dump(anova_AdaBoostDecisionTreeRegressor, 'anova_AdaBoostDecisionTreeRegressor.pkl') "
   ]
  },
  {
   "cell_type": "code",
   "execution_count": 31,
   "metadata": {
    "collapsed": false
   },
   "outputs": [
    {
     "name": "stdout",
     "output_type": "stream",
     "text": [
      " =================================================================>>>>> done\n",
      "R-squared =  0.892157017138\n"
     ]
    }
   ],
   "source": [
    "# Test the model if it is work\n",
    "anova_DecisionTreeRegressorTest = joblib.load('anova_AdaBoostDecisionTreeRegressor.pkl')\n",
    "NewPred = anova_DecisionTreeRegressorTest.predict(new_data)\n",
    "print \" =================================================================>>>>> done\"\n",
    "r_squared = r2_score(Y, NewPred, multioutput='variance_weighted')\n",
    "print 'R-squared = ',r_squared"
   ]
  },
  {
   "cell_type": "code",
   "execution_count": 32,
   "metadata": {
    "collapsed": false
   },
   "outputs": [
    {
     "name": "stdout",
     "output_type": "stream",
     "text": [
      "Point of training data before normalization\n",
      "[   1.23247    0.         8.14       0.         0.538      6.142     91.7\n",
      "    3.9769     4.       307.        21.       396.9       18.72   ]\n",
      "\n",
      "The read target of the data =  15.2\n",
      "\n",
      "The Predicted target of the data =  [ 18.0253012]\n"
     ]
    }
   ],
   "source": [
    "# test on single data point, randomly choose point number 55\n",
    "print 'Point of training data before normalization\\n',new_data[55]\n",
    "print '\\nThe read target of the data = ', Y[55]\n",
    "NewPred = anova_DecisionTreeRegressorTest.predict([new_data[55]])\n",
    "print '\\nThe Predicted target of the data = ', NewPred"
   ]
  },
  {
   "cell_type": "markdown",
   "metadata": {},
   "source": [
    "## Conclusion "
   ]
  }
 ],
 "metadata": {
  "kernelspec": {
   "display_name": "Python 2",
   "language": "python",
   "name": "python2"
  },
  "language_info": {
   "codemirror_mode": {
    "name": "ipython",
    "version": 2
   },
   "file_extension": ".py",
   "mimetype": "text/x-python",
   "name": "python",
   "nbconvert_exporter": "python",
   "pygments_lexer": "ipython2",
   "version": "2.7.11"
  }
 },
 "nbformat": 4,
 "nbformat_minor": 0
}
