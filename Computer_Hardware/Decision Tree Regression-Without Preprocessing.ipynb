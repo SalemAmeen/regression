{
 "cells": [
  {
   "cell_type": "markdown",
   "metadata": {},
   "source": [
    "Salem Ameen, PhD student at Salford University\n",
    "\n",
    "### COMPUTER HARDWARE\n",
    "\n",
    "\n",
    "Decision trees Regression"
   ]
  },
  {
   "cell_type": "markdown",
   "metadata": {},
   "source": [
    "# Import the Libraries"
   ]
  },
  {
   "cell_type": "code",
   "execution_count": 1,
   "metadata": {
    "collapsed": false
   },
   "outputs": [
    {
     "data": {
      "text/html": [
       "\n",
       "    <div class=\"bk-root\">\n",
       "        <a href=\"http://bokeh.pydata.org\" target=\"_blank\" class=\"bk-logo bk-logo-small bk-logo-notebook\"></a>\n",
       "        <span id=\"402d2b91-d1af-46fd-87d3-0f1e480f6566\">Loading BokehJS ...</span>\n",
       "    </div>"
      ]
     },
     "metadata": {},
     "output_type": "display_data"
    },
    {
     "data": {
      "application/javascript": [
       "\n",
       "(function(global) {\n",
       "  function now() {\n",
       "    return new Date();\n",
       "  }\n",
       "\n",
       "  var force = \"1\";\n",
       "\n",
       "  if (typeof (window._bokeh_onload_callbacks) === \"undefined\" || force !== \"\") {\n",
       "    window._bokeh_onload_callbacks = [];\n",
       "    window._bokeh_is_loading = undefined;\n",
       "  }\n",
       "\n",
       "\n",
       "  \n",
       "  if (typeof (window._bokeh_timeout) === \"undefined\" || force !== \"\") {\n",
       "    window._bokeh_timeout = Date.now() + 5000;\n",
       "    window._bokeh_failed_load = false;\n",
       "  }\n",
       "\n",
       "  var NB_LOAD_WARNING = {'data': {'text/html':\n",
       "     \"<div style='background-color: #fdd'>\\n\"+\n",
       "     \"<p>\\n\"+\n",
       "     \"BokehJS does not appear to have successfully loaded. If loading BokehJS from CDN, this \\n\"+\n",
       "     \"may be due to a slow or bad network connection. Possible fixes:\\n\"+\n",
       "     \"</p>\\n\"+\n",
       "     \"<ul>\\n\"+\n",
       "     \"<li>re-rerun `output_notebook()` to attempt to load from CDN again, or</li>\\n\"+\n",
       "     \"<li>use INLINE resources instead, as so:</li>\\n\"+\n",
       "     \"</ul>\\n\"+\n",
       "     \"<code>\\n\"+\n",
       "     \"from bokeh.resources import INLINE\\n\"+\n",
       "     \"output_notebook(resources=INLINE)\\n\"+\n",
       "     \"</code>\\n\"+\n",
       "     \"</div>\"}};\n",
       "\n",
       "  function display_loaded() {\n",
       "    if (window.Bokeh !== undefined) {\n",
       "      Bokeh.$(\"#402d2b91-d1af-46fd-87d3-0f1e480f6566\").text(\"BokehJS successfully loaded.\");\n",
       "    } else if (Date.now() < window._bokeh_timeout) {\n",
       "      setTimeout(display_loaded, 100)\n",
       "    }\n",
       "  }\n",
       "\n",
       "  function run_callbacks() {\n",
       "    window._bokeh_onload_callbacks.forEach(function(callback) { callback() });\n",
       "    delete window._bokeh_onload_callbacks\n",
       "    console.info(\"Bokeh: all callbacks have finished\");\n",
       "  }\n",
       "\n",
       "  function load_libs(js_urls, callback) {\n",
       "    window._bokeh_onload_callbacks.push(callback);\n",
       "    if (window._bokeh_is_loading > 0) {\n",
       "      console.log(\"Bokeh: BokehJS is being loaded, scheduling callback at\", now());\n",
       "      return null;\n",
       "    }\n",
       "    if (js_urls == null || js_urls.length === 0) {\n",
       "      run_callbacks();\n",
       "      return null;\n",
       "    }\n",
       "    console.log(\"Bokeh: BokehJS not loaded, scheduling load and callback at\", now());\n",
       "    window._bokeh_is_loading = js_urls.length;\n",
       "    for (var i = 0; i < js_urls.length; i++) {\n",
       "      var url = js_urls[i];\n",
       "      var s = document.createElement('script');\n",
       "      s.src = url;\n",
       "      s.async = false;\n",
       "      s.onreadystatechange = s.onload = function() {\n",
       "        window._bokeh_is_loading--;\n",
       "        if (window._bokeh_is_loading === 0) {\n",
       "          console.log(\"Bokeh: all BokehJS libraries loaded\");\n",
       "          run_callbacks()\n",
       "        }\n",
       "      };\n",
       "      s.onerror = function() {\n",
       "        console.warn(\"failed to load library \" + url);\n",
       "      };\n",
       "      console.log(\"Bokeh: injecting script tag for BokehJS library: \", url);\n",
       "      document.getElementsByTagName(\"head\")[0].appendChild(s);\n",
       "    }\n",
       "  };var element = document.getElementById(\"402d2b91-d1af-46fd-87d3-0f1e480f6566\");\n",
       "  if (element == null) {\n",
       "    console.log(\"Bokeh: ERROR: autoload.js configured with elementid '402d2b91-d1af-46fd-87d3-0f1e480f6566' but no matching script tag was found. \")\n",
       "    return false;\n",
       "  }\n",
       "\n",
       "  var js_urls = ['https://cdn.pydata.org/bokeh/release/bokeh-0.12.2.min.js', 'https://cdn.pydata.org/bokeh/release/bokeh-widgets-0.12.2.min.js', 'https://cdn.pydata.org/bokeh/release/bokeh-compiler-0.12.2.min.js'];\n",
       "\n",
       "  var inline_js = [\n",
       "    function(Bokeh) {\n",
       "      Bokeh.set_log_level(\"info\");\n",
       "    },\n",
       "    \n",
       "    function(Bokeh) {\n",
       "      \n",
       "      Bokeh.$(\"#402d2b91-d1af-46fd-87d3-0f1e480f6566\").text(\"BokehJS is loading...\");\n",
       "    },\n",
       "    function(Bokeh) {\n",
       "      console.log(\"Bokeh: injecting CSS: https://cdn.pydata.org/bokeh/release/bokeh-0.12.2.min.css\");\n",
       "      Bokeh.embed.inject_css(\"https://cdn.pydata.org/bokeh/release/bokeh-0.12.2.min.css\");\n",
       "      console.log(\"Bokeh: injecting CSS: https://cdn.pydata.org/bokeh/release/bokeh-widgets-0.12.2.min.css\");\n",
       "      Bokeh.embed.inject_css(\"https://cdn.pydata.org/bokeh/release/bokeh-widgets-0.12.2.min.css\");\n",
       "    }\n",
       "  ];\n",
       "\n",
       "  function run_inline_js() {\n",
       "    \n",
       "    if ((window.Bokeh !== undefined) || (force === \"1\")) {\n",
       "      for (var i = 0; i < inline_js.length; i++) {\n",
       "        inline_js[i](window.Bokeh);\n",
       "      }if (force === \"1\") {\n",
       "        display_loaded();\n",
       "      }} else if (Date.now() < window._bokeh_timeout) {\n",
       "      setTimeout(run_inline_js, 100);\n",
       "    } else if (!window._bokeh_failed_load) {\n",
       "      console.log(\"Bokeh: BokehJS failed to load within specified timeout.\");\n",
       "      window._bokeh_failed_load = true;\n",
       "    } else if (!force) {\n",
       "      var cell = $(\"#402d2b91-d1af-46fd-87d3-0f1e480f6566\").parents('.cell').data().cell;\n",
       "      cell.output_area.append_execute_result(NB_LOAD_WARNING)\n",
       "    }\n",
       "\n",
       "  }\n",
       "\n",
       "  if (window._bokeh_is_loading === 0) {\n",
       "    console.log(\"Bokeh: BokehJS loaded, going straight to plotting\");\n",
       "    run_inline_js();\n",
       "  } else {\n",
       "    load_libs(js_urls, function() {\n",
       "      console.log(\"Bokeh: BokehJS plotting callback run at\", now());\n",
       "      run_inline_js();\n",
       "    });\n",
       "  }\n",
       "}(this));"
      ]
     },
     "metadata": {},
     "output_type": "display_data"
    }
   ],
   "source": [
    "import numpy as np\n",
    "import pandas\n",
    "from numpy import *\n",
    "import time\n",
    "import sys\n",
    "import pandas as pd\n",
    "import matplotlib.pyplot as plt\n",
    "from sklearn import feature_selection\n",
    "from sklearn.tree import DecisionTreeRegressor\n",
    "from sklearn.learning_curve import learning_curve, validation_curve\n",
    "from sklearn.cross_validation import cross_val_predict\n",
    "from sklearn import metrics, grid_search, cross_validation\n",
    "from IPython.display import set_matplotlib_formats\n",
    "from bokeh.plotting import figure, show, output_notebook\n",
    "from sklearn.grid_search import GridSearchCV, RandomizedSearchCV\n",
    "from sklearn.metrics import r2_score\n",
    "from bokeh.layouts import gridplot\n",
    "output_notebook()\n",
    "set_matplotlib_formats('png', 'pdf')\n",
    "%matplotlib inline\n",
    "plt.rcParams['figure.figsize'] = (6, 6)"
   ]
  },
  {
   "cell_type": "markdown",
   "metadata": {},
   "source": [
    "# Load data"
   ]
  },
  {
   "cell_type": "markdown",
   "metadata": {},
   "source": [
    "In the previous file we have not change the data as there is no missing value or add any new parameters so it can be downloaded from the web directly. "
   ]
  },
  {
   "cell_type": "code",
   "execution_count": 2,
   "metadata": {
    "collapsed": false
   },
   "outputs": [
    {
     "name": "stdout",
     "output_type": "stream",
     "text": [
      "Number of examples 209\n"
     ]
    }
   ],
   "source": [
    "url = 'http://archive.ics.uci.edu/ml/machine-learning-databases/cpu-performance/machine.data'\n",
    "names = ['vendor', 'Model', 'MYCT', 'MMIN', 'MMAX', 'CACH', 'CHMIN','CHMAX','PRP','ERP']\n",
    "feature_names = ['MYCT', 'MMIN', 'MMAX', 'CACH', 'CHMIN','CHMAX','PRP','ERP']\n",
    "feature_cols = ['MYCT', 'MMIN', 'MMAX', 'CACH', 'CHMIN','CHMAX','PRP','ERP']\n",
    "data = pd.read_csv(url, sep=',', names = names)\n",
    "data = data.drop('vendor',1)\n",
    "data = data.drop('Model',1)\n",
    "\n",
    "from sklearn import preprocessing\n",
    "\n",
    "def number_encode_features(df):\n",
    "    result = df.copy()\n",
    "    encoders = {}\n",
    "    for column in result.columns:\n",
    "        if result.dtypes[column] == np.object:\n",
    "            encoders[column] = preprocessing.LabelEncoder()\n",
    "            result[column] = encoders[column].fit_transform(result[column])\n",
    "    return result, encoders\n",
    "\n",
    "data, _ = number_encode_features(data)\n",
    "\n",
    "dataset = data.values\n",
    "X = dataset[:,0:7]\n",
    "Y = dataset[:,7]\n",
    "print 'Number of examples',len(X)"
   ]
  },
  {
   "cell_type": "code",
   "execution_count": 3,
   "metadata": {
    "collapsed": false
   },
   "outputs": [
    {
     "name": "stdout",
     "output_type": "stream",
     "text": [
      "Number of training examples 167\n",
      "Number of validation examples 42\n"
     ]
    }
   ],
   "source": [
    "# Make developement dataset for genrilization and final testing\n",
    "from sklearn.cross_validation import train_test_split\n",
    "# Extracting 20% testing data\n",
    "X_train, X_test, y_train, y_test = train_test_split(\n",
    "    X, Y, test_size=0.20, random_state=0)\n",
    "X = X_train\n",
    "Y = y_train\n",
    "new_data      = X_train\n",
    "new_test_data = X_test\n",
    "print 'Number of training examples',len(X_train)\n",
    "print 'Number of validation examples',len(X_test)"
   ]
  },
  {
   "cell_type": "markdown",
   "metadata": {},
   "source": [
    "Number of training data is very small so we need to use cross validation instead of spareate another validation data."
   ]
  },
  {
   "cell_type": "markdown",
   "metadata": {},
   "source": [
    "From the previous visulization the data has no missing value but has many outlier and some sparisty"
   ]
  },
  {
   "cell_type": "markdown",
   "metadata": {},
   "source": [
    "# Ranking of the feature's importance to the target"
   ]
  },
  {
   "cell_type": "code",
   "execution_count": 4,
   "metadata": {
    "collapsed": false
   },
   "outputs": [
    {
     "name": "stdout",
     "output_type": "stream",
     "text": [
      "MYCT \t0.790172717739\n",
      "MMIN \t0.696943738275\n",
      "MMAX \t0.915780146338\n",
      "CACH \t0.64822709538\n",
      "CHMIN \t0.61750680672\n",
      "CHMAX \t0.533228200731\n",
      "PRP \t0.992114126713\n",
      "ERP \t1.0\n"
     ]
    }
   ],
   "source": [
    "# Using just correlation coefficient even in prevoius file we show them using data frame\n",
    "for col in feature_cols:\n",
    "    lm = DecisionTreeRegressor()\n",
    "    lm.fit(data[[col]], data['ERP'])\n",
    "    print col,'\\t', lm.score(data[[col]], data['ERP'])"
   ]
  },
  {
   "cell_type": "code",
   "execution_count": 5,
   "metadata": {
    "collapsed": false
   },
   "outputs": [
    {
     "name": "stdout",
     "output_type": "stream",
     "text": [
      "Feature Name      Score         Pvalue\n",
      "MYCT \t\t18.7784506906 \t2.28953652773e-05\n",
      "MMIN \t\t422.636024187 \t6.7010130085e-52\n",
      "MMAX \t\t895.035239011 \t4.20559221576e-77\n",
      "CACH \t\t150.332889484 \t2.4462451136e-26\n",
      "CHMIN \t\t123.042583867 \t9.66488661491e-23\n",
      "CHMAX \t\t111.779441433 \t3.62169179267e-21\n",
      "PRP \t\t2932.57297327 \t3.42704839853e-124\n",
      "ERP \t\tinf \t0.0\n"
     ]
    }
   ],
   "source": [
    "# Randing the important features to the target\n",
    "model = feature_selection.SelectKBest(score_func=feature_selection.f_regression,k=4)\n",
    "results = model.fit(data[feature_cols], data['ERP'])\n",
    "k=0\n",
    "print 'Feature Name      Score         Pvalue'\n",
    "for feat in feature_cols:\n",
    "    print feat,'\\t\\t',results.scores_[k],'\\t',results.pvalues_[k]\n",
    "    k=k+1\n"
   ]
  },
  {
   "cell_type": "markdown",
   "metadata": {},
   "source": [
    "# Set the parameters for cross validation"
   ]
  },
  {
   "cell_type": "code",
   "execution_count": 6,
   "metadata": {
    "collapsed": true
   },
   "outputs": [],
   "source": [
    "num_folds = 10\n",
    "num_instances = len(X)\n",
    "seed = 7\n",
    "kfold = cross_validation.KFold(n=num_instances, n_folds=num_folds, random_state=seed)"
   ]
  },
  {
   "cell_type": "markdown",
   "metadata": {},
   "source": [
    " # Set the parameters for bias-variance dilemma"
   ]
  },
  {
   "cell_type": "code",
   "execution_count": 7,
   "metadata": {
    "collapsed": false
   },
   "outputs": [],
   "source": [
    "def plot_learning_curve(estimator, title, X, y, ylim=None, cv=None,\n",
    "                        n_jobs=1, train_sizes=np.linspace(.1, 1.0, 5)):\n",
    "    plt.figure()\n",
    "    plt.title(title)\n",
    "    if ylim is not None:\n",
    "        plt.ylim(*ylim)\n",
    "    plt.xlabel(\"Training examples\")\n",
    "    plt.ylabel(\"Score\")\n",
    "    train_sizes, train_scores, test_scores = learning_curve(\n",
    "        estimator, X, y, cv=cv, n_jobs=n_jobs, train_sizes=train_sizes)\n",
    "    train_scores_mean = np.mean(train_scores, axis=1)\n",
    "    train_scores_std = np.std(train_scores, axis=1)\n",
    "    test_scores_mean = np.mean(test_scores, axis=1)\n",
    "    test_scores_std = np.std(test_scores, axis=1)\n",
    "    plt.grid()\n",
    "\n",
    "    plt.fill_between(train_sizes, train_scores_mean - train_scores_std,\n",
    "                     train_scores_mean + train_scores_std, alpha=0.1,\n",
    "                     color=\"r\")\n",
    "    plt.fill_between(train_sizes, test_scores_mean - test_scores_std,\n",
    "                     test_scores_mean + test_scores_std, alpha=0.1, color=\"g\")\n",
    "    plt.plot(train_sizes, train_scores_mean, 'o-', color=\"r\",\n",
    "             label=\"Training score\")\n",
    "    plt.plot(train_sizes, test_scores_mean, 'o-', color=\"g\",\n",
    "             label=\"Cross-validation score\")\n",
    "\n",
    "    plt.legend(loc=\"best\")\n",
    "    return plt"
   ]
  },
  {
   "cell_type": "markdown",
   "metadata": {},
   "source": [
    "# 1. DecisionTreeRegressor  with   Regression"
   ]
  },
  {
   "cell_type": "markdown",
   "metadata": {},
   "source": [
    "Decision trees or the Classification and Regression Trees (CART as they are know) use the training data to select the best points to split the data in order to minimize a cost metric. The default cost metric for regression decision trees is the mean squared error, specified in the criterion parameter."
   ]
  },
  {
   "cell_type": "markdown",
   "metadata": {},
   "source": [
    "## Validation curve"
   ]
  },
  {
   "cell_type": "markdown",
   "metadata": {},
   "source": [
    "choosing multiple hyperparameters of an estimator "
   ]
  },
  {
   "cell_type": "code",
   "execution_count": 8,
   "metadata": {
    "collapsed": false
   },
   "outputs": [
    {
     "data": {
      "text/plain": [
       "['presort',\n",
       " 'splitter',\n",
       " 'max_leaf_nodes',\n",
       " 'min_samples_leaf',\n",
       " 'min_samples_split',\n",
       " 'min_weight_fraction_leaf',\n",
       " 'criterion',\n",
       " 'random_state',\n",
       " 'max_features',\n",
       " 'max_depth']"
      ]
     },
     "execution_count": 8,
     "metadata": {},
     "output_type": "execute_result"
    }
   ],
   "source": [
    "from sklearn.tree import DecisionTreeRegressor\n",
    "estimator = DecisionTreeRegressor()\n",
    "estimator.get_params().keys()"
   ]
  },
  {
   "cell_type": "code",
   "execution_count": 9,
   "metadata": {
    "collapsed": false
   },
   "outputs": [
    {
     "data": {
      "image/png": "[encoded data removed]",
      "text/plain": [
       "<matplotlib.figure.Figure at 0x7f9d790b56d0>"
      ]
     },
     "metadata": {},
     "output_type": "display_data"
    }
   ],
   "source": [
    "# For parametr alpha\n",
    "#param_range = np.logspace(-10.0, 10.0)\n",
    "#param_range = np.linspace(1,50,100)\n",
    "param_range = np.arange(1,50) # generate integer numbers\n",
    "\n",
    "train_scores, test_scores = validation_curve(\n",
    "    DecisionTreeRegressor(), X, Y, param_name=\"max_depth\", param_range=param_range,\n",
    "    cv=num_folds,  n_jobs=-1)\n",
    "train_scores_mean = np.mean(train_scores, axis=1)\n",
    "train_scores_std = np.std(train_scores, axis=1)\n",
    "test_scores_mean = np.mean(test_scores, axis=1)\n",
    "test_scores_std = np.std(test_scores, axis=1)\n",
    "\n",
    "plt.title(\"Validation Curve with DecisionTreeRegressor\")\n",
    "plt.xlabel(\"max_depth\")\n",
    "plt.ylabel(\"Score\")\n",
    "plt.ylim(0.4, 1.0)\n",
    "plt.plot(param_range, train_scores_mean, label=\"Training score\", color=\"r\")\n",
    "plt.fill_between(param_range, train_scores_mean - train_scores_std,\n",
    "                 train_scores_mean + train_scores_std, alpha=0.2, color=\"r\")\n",
    "plt.plot(param_range, test_scores_mean, label=\"Cross-validation score\",\n",
    "             color=\"g\")\n",
    "plt.fill_between(param_range, test_scores_mean - test_scores_std,\n",
    "                 test_scores_mean + test_scores_std, alpha=0.2, color=\"g\")\n",
    "plt.legend(loc=\"best\")\n",
    "plt.show()"
   ]
  },
  {
   "cell_type": "markdown",
   "metadata": {},
   "source": [
    "more that 5 is the best of number of K"
   ]
  },
  {
   "cell_type": "code",
   "execution_count": 10,
   "metadata": {
    "collapsed": false
   },
   "outputs": [
    {
     "data": {
      "image/png": "[encoded data removed]",
      "text/plain": [
       "<matplotlib.figure.Figure at 0x7f9d75331710>"
      ]
     },
     "metadata": {},
     "output_type": "display_data"
    }
   ],
   "source": [
    "# For parametr alpha\n",
    "#param_range = np.logspace(-10.0, 10.0)\n",
    "#param_range = np.linspace(1,50,100)\n",
    "param_range = np.arange(1,10) # generate integer numbers\n",
    "\n",
    "train_scores, test_scores = validation_curve(\n",
    "    DecisionTreeRegressor(), X, Y, param_name=\"min_samples_split\", param_range=param_range,\n",
    "    cv=num_folds,  n_jobs=-1)\n",
    "train_scores_mean = np.mean(train_scores, axis=1)\n",
    "train_scores_std = np.std(train_scores, axis=1)\n",
    "test_scores_mean = np.mean(test_scores, axis=1)\n",
    "test_scores_std = np.std(test_scores, axis=1)\n",
    "\n",
    "plt.title(\"Validation Curve with DecisionTreeRegressor\")\n",
    "plt.xlabel(\"min_samples_split\")\n",
    "plt.ylabel(\"Score\")\n",
    "plt.ylim(0.4, 1.0)\n",
    "plt.plot(param_range, train_scores_mean, label=\"Training score\", color=\"r\")\n",
    "plt.fill_between(param_range, train_scores_mean - train_scores_std,\n",
    "                 train_scores_mean + train_scores_std, alpha=0.2, color=\"r\")\n",
    "plt.plot(param_range, test_scores_mean, label=\"Cross-validation score\",\n",
    "             color=\"g\")\n",
    "plt.fill_between(param_range, test_scores_mean - test_scores_std,\n",
    "                 test_scores_mean + test_scores_std, alpha=0.2, color=\"g\")\n",
    "plt.legend(loc=\"best\")\n",
    "plt.show()"
   ]
  },
  {
   "cell_type": "markdown",
   "metadata": {},
   "source": [
    "min_samples_split =2 (The defualt) is the best"
   ]
  },
  {
   "cell_type": "code",
   "execution_count": 11,
   "metadata": {
    "collapsed": false
   },
   "outputs": [
    {
     "data": {
      "image/png": "[encoded data removed]",
      "text/plain": [
       "<matplotlib.figure.Figure at 0x7f9d790c8d50>"
      ]
     },
     "metadata": {},
     "output_type": "display_data"
    }
   ],
   "source": [
    "# For parametr alpha\n",
    "#param_range = np.logspace(-10.0, 10.0)\n",
    "#param_range = np.linspace(1,50,100)\n",
    "param_range = np.arange(1,10) # generate integer numbers\n",
    "\n",
    "train_scores, test_scores = validation_curve(\n",
    "    DecisionTreeRegressor(), X, Y, param_name=\"min_samples_leaf\", param_range=param_range,\n",
    "    cv=num_folds,  n_jobs=-1)\n",
    "train_scores_mean = np.mean(train_scores, axis=1)\n",
    "train_scores_std = np.std(train_scores, axis=1)\n",
    "test_scores_mean = np.mean(test_scores, axis=1)\n",
    "test_scores_std = np.std(test_scores, axis=1)\n",
    "\n",
    "plt.title(\"Validation Curve with DecisionTreeRegressor\")\n",
    "plt.xlabel(\"min_samples_leaf\")\n",
    "plt.ylabel(\"Score\")\n",
    "plt.ylim(0.4, 1.0)\n",
    "plt.plot(param_range, train_scores_mean, label=\"Training score\", color=\"r\")\n",
    "plt.fill_between(param_range, train_scores_mean - train_scores_std,\n",
    "                 train_scores_mean + train_scores_std, alpha=0.2, color=\"r\")\n",
    "plt.plot(param_range, test_scores_mean, label=\"Cross-validation score\",\n",
    "             color=\"g\")\n",
    "plt.fill_between(param_range, test_scores_mean - test_scores_std,\n",
    "                 test_scores_mean + test_scores_std, alpha=0.2, color=\"g\")\n",
    "plt.legend(loc=\"best\")\n",
    "plt.show()"
   ]
  },
  {
   "cell_type": "markdown",
   "metadata": {},
   "source": [
    "min_samples_leaf = 2 is the best"
   ]
  },
  {
   "cell_type": "markdown",
   "metadata": {},
   "source": [
    "## Grid search and/or Random search to determine best compination of parameters"
   ]
  },
  {
   "cell_type": "code",
   "execution_count": 12,
   "metadata": {
    "collapsed": false
   },
   "outputs": [
    {
     "name": "stdout",
     "output_type": "stream",
     "text": [
      "Hyperparameter optimization using GridSearchCV...\n",
      "Parameters with rank: 1\n",
      "Mean validation score: 0.9401 (std: 0.0595)\n",
      "Parameters: {'min_samples_split': 1, 'max_depth': 13, 'min_samples_leaf': 1}\n",
      "\n",
      "Parameters with rank: 2\n",
      "Mean validation score: 0.9386 (std: 0.0503)\n",
      "Parameters: {'min_samples_split': 1, 'max_depth': 10, 'min_samples_leaf': 1}\n",
      "\n",
      "Parameters with rank: 3\n",
      "Mean validation score: 0.9357 (std: 0.0318)\n",
      "Parameters: {'min_samples_split': 2, 'max_depth': 9, 'min_samples_leaf': 1}\n",
      "\n",
      "Parameters with rank: 4\n",
      "Mean validation score: 0.9350 (std: 0.0481)\n",
      "Parameters: {'min_samples_split': 3, 'max_depth': 13, 'min_samples_leaf': 1}\n",
      "\n",
      "Parameters with rank: 5\n",
      "Mean validation score: 0.9333 (std: 0.0532)\n",
      "Parameters: {'min_samples_split': 1, 'max_depth': 14, 'min_samples_leaf': 1}\n",
      "\n",
      "+++++++++++++++++++++++++++++++++++++++++++++++\n",
      "Hyperparameter optimization using RandomizedSearchCV\n",
      "Parameters with rank: 1\n",
      "Mean validation score: 0.9146 (std: 0.0799)\n",
      "Parameters: {'min_samples_split': 2, 'max_depth': 10, 'min_samples_leaf': 2}\n",
      "\n",
      "Parameters with rank: 2\n",
      "Mean validation score: 0.9081 (std: 0.1316)\n",
      "Parameters: {'min_samples_split': 1, 'max_depth': 10, 'min_samples_leaf': 1}\n",
      "\n",
      "Parameters with rank: 3\n",
      "Mean validation score: 0.2745 (std: 0.4303)\n",
      "Parameters: {'min_samples_split': 1, 'max_depth': 1, 'min_samples_leaf': 1}\n",
      "\n",
      "Parameters with rank: 4\n",
      "Mean validation score: 0.2745 (std: 0.4303)\n",
      "Parameters: {'min_samples_split': 1, 'max_depth': 1, 'min_samples_leaf': 2}\n",
      "\n",
      "Parameters with rank: 5\n",
      "Mean validation score: 0.2059 (std: 0.4210)\n",
      "Parameters: {'min_samples_split': 2, 'max_depth': 1, 'min_samples_leaf': 1}\n",
      "\n"
     ]
    }
   ],
   "source": [
    "# Utility function to report optimal parameters\n",
    "from operator import itemgetter\n",
    "def report(grid_scores, n_top=5):\n",
    "    params = None\n",
    "    top_scores = sorted(grid_scores, key=itemgetter(1), reverse=True)[:n_top]\n",
    "    for i, score in enumerate(top_scores):\n",
    "        print(\"Parameters with rank: {0}\".format(i + 1))\n",
    "        print(\"Mean validation score: {0:.4f} (std: {1:.4f})\".format(\n",
    "              score.mean_validation_score, np.std(score.cv_validation_scores)))\n",
    "        print(\"Parameters: {0}\".format(score.parameters))\n",
    "        print(\"\")\n",
    "        \n",
    "        if params == None:\n",
    "            params = score.parameters\n",
    "    \n",
    "    return params\n",
    "\n",
    "# The most common value for the max number of features to look at in each split is sqrt(# of features)\n",
    "sqrtfeat = np.sqrt(X.shape[1]) \n",
    "grid_test1 = { \"max_depth\"      : np.arange(1,15),\n",
    "             \"min_samples_split\"      : np.arange(1,4),\n",
    "             \"min_samples_leaf\"    : np.arange(1,3)}\n",
    "\n",
    "# Large randomized test using max_depth to control tree size (5000 possible combinations)\n",
    "random_test1 = { \"max_depth\"      : [1,10],\n",
    "                \"min_samples_split\"      : [ 1,2],\n",
    "               \"min_samples_leaf\"   : [1,2]}\n",
    "\n",
    "\n",
    "forest =  DecisionTreeRegressor()\n",
    "\n",
    "print \"Hyperparameter optimization using GridSearchCV...\"\n",
    "grid_search = GridSearchCV(forest, grid_test1, n_jobs=-1, cv=num_folds)\n",
    "grid_search.fit(X, Y)\n",
    "best_params_from_grid_search = report(grid_search.grid_scores_)\n",
    "print '+++++++++++++++++++++++++++++++++++++++++++++++'\n",
    "print \"Hyperparameter optimization using RandomizedSearchCV\"\n",
    "grid_search = RandomizedSearchCV(forest, random_test1, n_jobs=-1, cv=num_folds, n_iter=5)\n",
    "grid_search.fit(X, Y)\n",
    "best_params_from_rand_search1 = report(grid_search.grid_scores_)"
   ]
  },
  {
   "cell_type": "markdown",
   "metadata": {},
   "source": [
    "Best 'min_samples_split': 3, 'max_depth': 7, 'min_samples_leaf': 1"
   ]
  },
  {
   "cell_type": "markdown",
   "metadata": {},
   "source": [
    "## Learning Curve "
   ]
  },
  {
   "cell_type": "markdown",
   "metadata": {},
   "source": [
    "In essence, what we’re doing it training the exact same model with increasingly large fractions of our total training data, and plotting the error of the training and test sets at each step."
   ]
  },
  {
   "cell_type": "code",
   "execution_count": 13,
   "metadata": {
    "collapsed": false
   },
   "outputs": [
    {
     "data": {
      "image/png": "[encoded data removed]",
      "text/plain": [
       "<matplotlib.figure.Figure at 0x7f9d790c9550>"
      ]
     },
     "metadata": {},
     "output_type": "display_data"
    }
   ],
   "source": [
    "from sklearn.tree import DecisionTreeRegressor\n",
    "\n",
    "model =  DecisionTreeRegressor(min_samples_split = 3, max_depth = 7, min_samples_leaf =1 )\n",
    "title = \"Learning Curves (  DecisionTreeRegressor Refression)\"\n",
    "cv = cross_validation.ShuffleSplit(X.shape[0], n_iter=100,\n",
    "                                   test_size=0.2, random_state=0)\n",
    "plot_learning_curve(model, title, X, Y, ylim=(0.2, 1.01), cv=cv, n_jobs=-1)\n",
    "plt.show()"
   ]
  },
  {
   "cell_type": "code",
   "execution_count": 14,
   "metadata": {
    "collapsed": false
   },
   "outputs": [
    {
     "name": "stdout",
     "output_type": "stream",
     "text": [
      "train_sizes =  [ 50  80 110]\n",
      " training scores\n",
      " 50 training sizees\n",
      "0.990380607905 ± 0.0168647149315\n",
      " 80 training sizees\n",
      "0.991658476587 ± 0.0123965346321\n",
      " 110 training sizees\n",
      "0.993775091724 ± 0.00997114505126\n",
      "\n",
      " validation scores\n",
      " 50 validation scores\n",
      "0.723030461916 ± 0.374815632023\n",
      " 80 validation scores\n",
      "0.844628570402 ± 0.165929464398\n",
      " 110 validation scores\n",
      "0.877085666536 ± 0.101883771789\n"
     ]
    }
   ],
   "source": [
    "# More data from learning curve to show the process of building the model\n",
    "train_sizes, train_scores, valid_scores = learning_curve(\n",
    "     model, X, Y, train_sizes=[50, 80, 110], cv=cv, n_jobs=4)\n",
    "\n",
    "print 'train_sizes = ', train_sizes\n",
    "\n",
    "print ' training scores'\n",
    "print ' 50 training sizees'\n",
    "print train_scores[0].mean(),'±',train_scores[0].std()\n",
    "print ' 80 training sizees'\n",
    "print train_scores[1].mean(),'±',train_scores[1].std()\n",
    "print ' 110 training sizees'\n",
    "print train_scores[2].mean(),'±',train_scores[2].std()\n",
    "\n",
    "print '\\n validation scores'\n",
    "print ' 50 validation scores'\n",
    "print valid_scores[0].mean(),'±',valid_scores[0].std()\n",
    "print ' 80 validation scores'\n",
    "print valid_scores[1].mean(),'±',valid_scores[1].std()\n",
    "print ' 110 validation scores'\n",
    "print valid_scores[2].mean(),'±',valid_scores[2].std()"
   ]
  },
  {
   "cell_type": "markdown",
   "metadata": {},
   "source": [
    "## Cross validation"
   ]
  },
  {
   "cell_type": "code",
   "execution_count": 15,
   "metadata": {
    "collapsed": false
   },
   "outputs": [
    {
     "name": "stdout",
     "output_type": "stream",
     "text": [
      "Scoring according to mean_squared_error\n",
      "[-14997.29542066   -262.76068423   -332.77854167   -308.01262028\n",
      "  -2251.8790719    -270.06432334   -266.75781531   -226.57023534\n",
      "  -1064.75368167  -6201.64356233]\n",
      "\n",
      " Mean      Standard deviation\n",
      "-2618.25      4488.89\n"
     ]
    },
    {
     "data": {
      "text/plain": [
       "DecisionTreeRegressor(criterion='mse', max_depth=7, max_features=None,\n",
       "           max_leaf_nodes=None, min_samples_leaf=1, min_samples_split=3,\n",
       "           min_weight_fraction_leaf=0.0, presort=False, random_state=None,\n",
       "           splitter='best')"
      ]
     },
     "execution_count": 15,
     "metadata": {},
     "output_type": "execute_result"
    }
   ],
   "source": [
    "scoring = 'mean_squared_error'\n",
    "results = cross_validation.cross_val_score(model, X, Y, cv=kfold, scoring=scoring)\n",
    "print 'Scoring according to mean_squared_error'\n",
    "print results\n",
    "print '\\n Mean      Standard deviation'\n",
    "print(\"%.2f      %.2f\" % (results.mean(), results.std()))\n",
    "## Fit the model\n",
    "model.fit(X,Y)\n"
   ]
  },
  {
   "cell_type": "markdown",
   "metadata": {},
   "source": [
    "## Coefficients Of Determination {Calculating R^2}\n",
    "\n",
    "R^2, Close to one is better"
   ]
  },
  {
   "cell_type": "code",
   "execution_count": 16,
   "metadata": {
    "collapsed": false
   },
   "outputs": [
    {
     "name": "stdout",
     "output_type": "stream",
     "text": [
      "R-squared =  0.930196115366\n"
     ]
    }
   ],
   "source": [
    "predicted = cross_val_predict(model, X, Y, cv=kfold)\n",
    "r_squared = r2_score(Y, predicted, multioutput='variance_weighted')\n",
    "print 'R-squared = ',r_squared"
   ]
  },
  {
   "cell_type": "markdown",
   "metadata": {},
   "source": [
    "## Residual Plot"
   ]
  },
  {
   "cell_type": "code",
   "execution_count": 17,
   "metadata": {
    "collapsed": false
   },
   "outputs": [
    {
     "data": {
      "image/png": "[encoded data removed]",
      "text/plain": [
       "<matplotlib.figure.Figure at 0x7f9d753a2610>"
      ]
     },
     "metadata": {},
     "output_type": "display_data"
    }
   ],
   "source": [
    "predicted = cross_val_predict(model, X, Y, cv=kfold)\n",
    "fig, ax = plt.subplots()\n",
    "ax.scatter(Y, predicted)\n",
    "ax.plot([Y.min(), Y.max()], [Y.min(), Y.max()], 'k--', lw=4)\n",
    "ax.set_xlabel('Measured')\n",
    "ax.set_ylabel('Predicted')\n",
    "plt.show()"
   ]
  },
  {
   "cell_type": "code",
   "execution_count": 18,
   "metadata": {
    "collapsed": false
   },
   "outputs": [
    {
     "data": {
      "text/html": [
       "\n",
       "\n",
       "    <div class=\"bk-root\">\n",
       "        <div class=\"plotdiv\" id=\"d22dff02-1f34-427a-a70e-4cf5eccffcdc\"></div>\n",
       "    </div>\n",
       "<script type=\"text/javascript\">\n",
       "  \n",
       "  (function(global) {\n",
       "    function now() {\n",
       "      return new Date();\n",
       "    }\n",
       "  \n",
       "    var force = \"\";\n",
       "  \n",
       "    if (typeof (window._bokeh_onload_callbacks) === \"undefined\" || force !== \"\") {\n",
       "      window._bokeh_onload_callbacks = [];\n",
       "      window._bokeh_is_loading = undefined;\n",
       "    }\n",
       "  \n",
       "  \n",
       "    \n",
       "    if (typeof (window._bokeh_timeout) === \"undefined\" || force !== \"\") {\n",
       "      window._bokeh_timeout = Date.now() + 0;\n",
       "      window._bokeh_failed_load = false;\n",
       "    }\n",
       "  \n",
       "    var NB_LOAD_WARNING = {'data': {'text/html':\n",
       "       \"<div style='background-color: #fdd'>\\n\"+\n",
       "       \"<p>\\n\"+\n",
       "       \"BokehJS does not appear to have successfully loaded. If loading BokehJS from CDN, this \\n\"+\n",
       "       \"may be due to a slow or bad network connection. Possible fixes:\\n\"+\n",
       "       \"</p>\\n\"+\n",
       "       \"<ul>\\n\"+\n",
       "       \"<li>re-rerun `output_notebook()` to attempt to load from CDN again, or</li>\\n\"+\n",
       "       \"<li>use INLINE resources instead, as so:</li>\\n\"+\n",
       "       \"</ul>\\n\"+\n",
       "       \"<code>\\n\"+\n",
       "       \"from bokeh.resources import INLINE\\n\"+\n",
       "       \"output_notebook(resources=INLINE)\\n\"+\n",
       "       \"</code>\\n\"+\n",
       "       \"</div>\"}};\n",
       "  \n",
       "    function display_loaded() {\n",
       "      if (window.Bokeh !== undefined) {\n",
       "        Bokeh.$(\"#d22dff02-1f34-427a-a70e-4cf5eccffcdc\").text(\"BokehJS successfully loaded.\");\n",
       "      } else if (Date.now() < window._bokeh_timeout) {\n",
       "        setTimeout(display_loaded, 100)\n",
       "      }\n",
       "    }\n",
       "  \n",
       "    function run_callbacks() {\n",
       "      window._bokeh_onload_callbacks.forEach(function(callback) { callback() });\n",
       "      delete window._bokeh_onload_callbacks\n",
       "      console.info(\"Bokeh: all callbacks have finished\");\n",
       "    }\n",
       "  \n",
       "    function load_libs(js_urls, callback) {\n",
       "      window._bokeh_onload_callbacks.push(callback);\n",
       "      if (window._bokeh_is_loading > 0) {\n",
       "        console.log(\"Bokeh: BokehJS is being loaded, scheduling callback at\", now());\n",
       "        return null;\n",
       "      }\n",
       "      if (js_urls == null || js_urls.length === 0) {\n",
       "        run_callbacks();\n",
       "        return null;\n",
       "      }\n",
       "      console.log(\"Bokeh: BokehJS not loaded, scheduling load and callback at\", now());\n",
       "      window._bokeh_is_loading = js_urls.length;\n",
       "      for (var i = 0; i < js_urls.length; i++) {\n",
       "        var url = js_urls[i];\n",
       "        var s = document.createElement('script');\n",
       "        s.src = url;\n",
       "        s.async = false;\n",
       "        s.onreadystatechange = s.onload = function() {\n",
       "          window._bokeh_is_loading--;\n",
       "          if (window._bokeh_is_loading === 0) {\n",
       "            console.log(\"Bokeh: all BokehJS libraries loaded\");\n",
       "            run_callbacks()\n",
       "          }\n",
       "        };\n",
       "        s.onerror = function() {\n",
       "          console.warn(\"failed to load library \" + url);\n",
       "        };\n",
       "        console.log(\"Bokeh: injecting script tag for BokehJS library: \", url);\n",
       "        document.getElementsByTagName(\"head\")[0].appendChild(s);\n",
       "      }\n",
       "    };var element = document.getElementById(\"d22dff02-1f34-427a-a70e-4cf5eccffcdc\");\n",
       "    if (element == null) {\n",
       "      console.log(\"Bokeh: ERROR: autoload.js configured with elementid 'd22dff02-1f34-427a-a70e-4cf5eccffcdc' but no matching script tag was found. \")\n",
       "      return false;\n",
       "    }\n",
       "  \n",
       "    var js_urls = [];\n",
       "  \n",
       "    var inline_js = [\n",
       "      function(Bokeh) {\n",
       "        Bokeh.$(function() {\n",
       "            var docs_json = {\"673fa4cf-31e4-41ef-87ca-81a9badfe29e\":{\"roots\":{\"references\":[{\"attributes\":{\"callback\":null},\"id\":\"caffb1da-547d-4daa-876f-2c5deef05bb7\",\"type\":\"DataRange1d\"},{\"attributes\":{\"line_dash\":[4,4],\"line_width\":{\"value\":2},\"x\":{\"field\":\"x\"},\"y\":{\"field\":\"y\"}},\"id\":\"feb54caa-0e1c-452d-b600-c199f071825c\",\"type\":\"Line\"},{\"attributes\":{\"fill_alpha\":{\"value\":0.5},\"fill_color\":{\"value\":\"lightgrey\"},\"level\":\"overlay\",\"line_alpha\":{\"value\":1.0},\"line_color\":{\"value\":\"black\"},\"line_dash\":[4,4],\"line_width\":{\"value\":2},\"plot\":null,\"xs_units\":\"screen\",\"ys_units\":\"screen\"},\"id\":\"66b9c461-dbe1-472f-b397-4bcc65a40707\",\"type\":\"PolyAnnotation\"},{\"attributes\":{},\"id\":\"7f4e2357-21de-4e4a-beae-38fbf6ee820e\",\"type\":\"ToolEvents\"},{\"attributes\":{\"fill_color\":{\"value\":\"#80B1D3\"},\"line_color\":{\"value\":\"#80B1D3\"},\"line_width\":{\"value\":3},\"x\":{\"field\":\"x\"},\"y\":{\"field\":\"y\"}},\"id\":\"6803bb5d-36e8-4a3b-b6b2-00632508b8ff\",\"type\":\"Circle\"},{\"attributes\":{\"plot\":{\"id\":\"8eca28b8-fadb-46fc-87a3-4580c37cdfb6\",\"subtype\":\"Figure\",\"type\":\"Plot\"}},\"id\":\"7950084f-eff9-4a6d-af01-29897bc24500\",\"type\":\"UndoTool\"},{\"attributes\":{\"dimension\":1,\"plot\":{\"id\":\"8eca28b8-fadb-46fc-87a3-4580c37cdfb6\",\"subtype\":\"Figure\",\"type\":\"Plot\"},\"ticker\":{\"id\":\"7735e160-896f-4f0f-a210-26bad7d43671\",\"type\":\"BasicTicker\"}},\"id\":\"5ab7f468-5d8c-4cfa-b7ee-36e031a85f84\",\"type\":\"Grid\"},{\"attributes\":{\"background_fill_alpha\":{\"value\":0.5},\"background_fill_color\":{\"value\":\"beige\"},\"below\":[{\"id\":\"d7299752-c49c-43f3-a250-0d0aabbf98d5\",\"type\":\"LinearAxis\"}],\"left\":[{\"id\":\"a95fe0fd-0826-4a4a-a3c6-5ffdce7f93e8\",\"type\":\"LinearAxis\"}],\"plot_height\":500,\"plot_width\":500,\"renderers\":[{\"id\":\"d7299752-c49c-43f3-a250-0d0aabbf98d5\",\"type\":\"LinearAxis\"},{\"id\":\"6a57eb37-b1b6-4416-90ee-2dbb21c5045f\",\"type\":\"Grid\"},{\"id\":\"a95fe0fd-0826-4a4a-a3c6-5ffdce7f93e8\",\"type\":\"LinearAxis\"},{\"id\":\"5ab7f468-5d8c-4cfa-b7ee-36e031a85f84\",\"type\":\"Grid\"},{\"id\":\"1a31594c-87f7-4096-8343-3d1d9d9a75a1\",\"type\":\"BoxAnnotation\"},{\"id\":\"290c23f0-cbd9-49cd-9ed4-70a47e53dcf9\",\"type\":\"BoxAnnotation\"},{\"id\":\"66b9c461-dbe1-472f-b397-4bcc65a40707\",\"type\":\"PolyAnnotation\"},{\"id\":\"d03a837c-6237-4a16-a16b-b21c9a796d77\",\"type\":\"PolyAnnotation\"},{\"id\":\"8136a01a-2fc0-4efa-8c14-8edf8a997bc7\",\"type\":\"GlyphRenderer\"},{\"id\":\"49f682e0-2382-47ae-a652-e1b43c2fcc9c\",\"type\":\"GlyphRenderer\"}],\"title\":{\"id\":\"770b0cd3-7959-4413-923c-41cb78e83af5\",\"type\":\"Title\"},\"tool_events\":{\"id\":\"7f4e2357-21de-4e4a-beae-38fbf6ee820e\",\"type\":\"ToolEvents\"},\"toolbar\":{\"id\":\"c60a2265-047a-4b89-ad62-511642cdc3c3\",\"type\":\"Toolbar\"},\"x_range\":{\"id\":\"caffb1da-547d-4daa-876f-2c5deef05bb7\",\"type\":\"DataRange1d\"},\"y_range\":{\"id\":\"3324e983-f9e9-4ff1-a958-98a473f45ab0\",\"type\":\"DataRange1d\"}},\"id\":\"8eca28b8-fadb-46fc-87a3-4580c37cdfb6\",\"subtype\":\"Figure\",\"type\":\"Plot\"},{\"attributes\":{\"bottom_units\":\"screen\",\"fill_alpha\":{\"value\":0.5},\"fill_color\":{\"value\":\"lightgrey\"},\"left_units\":\"screen\",\"level\":\"overlay\",\"line_alpha\":{\"value\":1.0},\"line_color\":{\"value\":\"black\"},\"line_dash\":[4,4],\"line_width\":{\"value\":2},\"plot\":null,\"render_mode\":\"css\",\"right_units\":\"screen\",\"top_units\":\"screen\"},\"id\":\"1a31594c-87f7-4096-8343-3d1d9d9a75a1\",\"type\":\"BoxAnnotation\"},{\"attributes\":{\"line_alpha\":{\"value\":0.1},\"line_color\":{\"value\":\"#1f77b4\"},\"line_dash\":[4,4],\"line_width\":{\"value\":2},\"x\":{\"field\":\"x\"},\"y\":{\"field\":\"y\"}},\"id\":\"b58a7539-60e5-4dfc-9025-64cc2294637e\",\"type\":\"Line\"},{\"attributes\":{\"callback\":null,\"column_names\":[\"x\",\"y\"],\"data\":{\"x\":[20,53,132,25,88,54,75,17,28,35,80,360,749,41,26,44,82,28,275,18,27,34,28,102,34,42,426,57,124,19,128,30,281,19,19,86,45,29,28,22,220,126,15,22,31,81,35,18,24,37,95,19,253,34,24,182,74,23,78,23,24,24,47,270,113,253,82,20,47,978,34,31,199,171,33,361,113,117,74,33,38,36,28,41,117,267,45,18,21,37,190,47,381,28,25,116,26,20,35,181,29,24,65,18,136,34,157,253,101,25,74,28,46,53,29,44,46,36,41,82,138,28,42,62,266,102,25,44,31,74,142,41,43,119,27,15,73,64,53,76,120,24,20,50,21,80,30,341,24,919,30,56,34,53,175,47,32,23,39,1238,20,227,20,382,26,28,67],\"y\":[20.6,53.25,132.33333333333334,22.666666666666668,75.66666666666667,67.0,118.375,18.428571428571427,25.72222222222222,35.0,194.5,341.0,426.0,42.25,25.72222222222222,42.25,75.66666666666667,26.5,253.0,17.375,26.5,37.714285714285715,26.5,157.0,37.714285714285715,37.714285714285715,381.5,52.25,194.5,17.375,134.8,30.615384615384617,253.0,21.6,17.714285714285715,73.28571428571429,35.6,29.90909090909091,25.941176470588236,20.4,266.0,173.5,17.714285714285715,24.5,29.666666666666668,77.5,43.23529411764706,17.714285714285715,25.941176470588236,43.23529411764706,84.0,18.142857142857142,240.0,34.857142857142854,26.3125,240.0,82.8,20.0,71.25,20.0,26.3125,26.3125,42.04761904761905,267.0,133.66666666666666,240.0,112.25,20.0,40.48,1238.0,40.48,29.666666666666668,124.0,175.0,29.333333333333332,268.5,173.5,110.2,75.33333333333333,29.333333333333332,40.48,40.48,29.333333333333332,40.48,110.2,270.0,42.4,17.555555555555557,21.384615384615383,42.4,128.75,54.75,360.5,26.681818181818183,26.681818181818183,128.75,26.681818181818183,21.384615384615383,26.681818181818183,227.0,31.1,21.384615384615383,54.75,18.285714285714285,129.83333333333334,40.041666666666664,190.0,253.0,109.875,25.88235294117647,75.33333333333333,25.88235294117647,73.66666666666667,80.5,29.90909090909091,40.041666666666664,73.66666666666667,40.041666666666664,40.041666666666664,85.33333333333333,120.42857142857143,25.8125,45.25,37.375,278.0,102.0,25.8125,45.25,29.727272727272727,72.5,120.42857142857143,45.25,51.63636363636363,120.42857142857143,25.8125,17.88888888888889,78.0,78.0,53.0,82.0,112.83333333333333,26.75,21.571428571428573,63.5,21.571428571428573,53.2,26.75,227.0,26.75,863.5,30.615384615384617,49.8,39.84,49.8,181.5,39.84,30.46153846153846,21.333333333333332,39.84,749.0,21.333333333333332,341.0,21.333333333333332,360.5,26.5,26.5,49.8]}},\"id\":\"5f3c6e4e-64b4-4b3e-8164-1d1863fc0a0e\",\"type\":\"ColumnDataSource\"},{\"attributes\":{},\"id\":\"7735e160-896f-4f0f-a210-26bad7d43671\",\"type\":\"BasicTicker\"},{\"attributes\":{\"callback\":null,\"plot\":{\"id\":\"8eca28b8-fadb-46fc-87a3-4580c37cdfb6\",\"subtype\":\"Figure\",\"type\":\"Plot\"}},\"id\":\"298ef154-a984-4a1c-ab7b-e1fe95ab814b\",\"type\":\"TapTool\"},{\"attributes\":{\"align\":\"center\",\"plot\":null,\"text\":null},\"id\":\"770b0cd3-7959-4413-923c-41cb78e83af5\",\"type\":\"Title\"},{\"attributes\":{\"overlay\":{\"id\":\"1a31594c-87f7-4096-8343-3d1d9d9a75a1\",\"type\":\"BoxAnnotation\"},\"plot\":{\"id\":\"8eca28b8-fadb-46fc-87a3-4580c37cdfb6\",\"subtype\":\"Figure\",\"type\":\"Plot\"}},\"id\":\"b58b6cc7-461d-4da4-bc41-af80e3a53f6e\",\"type\":\"BoxZoomTool\"},{\"attributes\":{\"callback\":null,\"overlay\":{\"id\":\"290c23f0-cbd9-49cd-9ed4-70a47e53dcf9\",\"type\":\"BoxAnnotation\"},\"plot\":{\"id\":\"8eca28b8-fadb-46fc-87a3-4580c37cdfb6\",\"subtype\":\"Figure\",\"type\":\"Plot\"},\"renderers\":[{\"id\":\"8136a01a-2fc0-4efa-8c14-8edf8a997bc7\",\"type\":\"GlyphRenderer\"},{\"id\":\"49f682e0-2382-47ae-a652-e1b43c2fcc9c\",\"type\":\"GlyphRenderer\"}]},\"id\":\"680a54e0-98bd-4818-a336-53a0d1f96ab4\",\"type\":\"BoxSelectTool\"},{\"attributes\":{},\"id\":\"a6fa702b-086d-4b18-829b-41d99bb358ac\",\"type\":\"BasicTicker\"},{\"attributes\":{\"callback\":null,\"column_names\":[\"y\",\"x\"],\"data\":{\"x\":[15,1238],\"y\":[15,1238]}},\"id\":\"f02aaf67-c301-48ab-a21b-e2b5502166e6\",\"type\":\"ColumnDataSource\"},{\"attributes\":{\"plot\":{\"id\":\"8eca28b8-fadb-46fc-87a3-4580c37cdfb6\",\"subtype\":\"Figure\",\"type\":\"Plot\"}},\"id\":\"d54b3a05-6ea6-4f46-be94-ba4f2233fa88\",\"type\":\"SaveTool\"},{\"attributes\":{\"plot\":{\"id\":\"8eca28b8-fadb-46fc-87a3-4580c37cdfb6\",\"subtype\":\"Figure\",\"type\":\"Plot\"}},\"id\":\"a4298625-ab72-4650-8c75-a7ea0cbb955b\",\"type\":\"CrosshairTool\"},{\"attributes\":{\"fill_alpha\":{\"value\":0.5},\"fill_color\":{\"value\":\"lightgrey\"},\"level\":\"overlay\",\"line_alpha\":{\"value\":1.0},\"line_color\":{\"value\":\"black\"},\"line_dash\":[4,4],\"line_width\":{\"value\":2},\"plot\":null,\"xs_units\":\"screen\",\"ys_units\":\"screen\"},\"id\":\"d03a837c-6237-4a16-a16b-b21c9a796d77\",\"type\":\"PolyAnnotation\"},{\"attributes\":{\"plot\":{\"id\":\"8eca28b8-fadb-46fc-87a3-4580c37cdfb6\",\"subtype\":\"Figure\",\"type\":\"Plot\"}},\"id\":\"d6369b4f-a210-4405-b44e-55b0ee97ae66\",\"type\":\"WheelZoomTool\"},{\"attributes\":{\"axis_label\":\"Measured\",\"axis_label_text_color\":{\"value\":\"#aa6666\"},\"formatter\":{\"id\":\"81db2ab4-700d-4536-93fe-94d25332a081\",\"type\":\"BasicTickFormatter\"},\"major_tick_line_color\":{\"value\":\"firebrick\"},\"major_tick_line_width\":{\"value\":3},\"minor_tick_line_color\":{\"value\":\"orange\"},\"plot\":{\"id\":\"8eca28b8-fadb-46fc-87a3-4580c37cdfb6\",\"subtype\":\"Figure\",\"type\":\"Plot\"},\"ticker\":{\"id\":\"a6fa702b-086d-4b18-829b-41d99bb358ac\",\"type\":\"BasicTicker\"}},\"id\":\"d7299752-c49c-43f3-a250-0d0aabbf98d5\",\"type\":\"LinearAxis\"},{\"attributes\":{\"bottom_units\":\"screen\",\"fill_alpha\":{\"value\":0.5},\"fill_color\":{\"value\":\"lightgrey\"},\"left_units\":\"screen\",\"level\":\"overlay\",\"line_alpha\":{\"value\":1.0},\"line_color\":{\"value\":\"black\"},\"line_dash\":[4,4],\"line_width\":{\"value\":2},\"plot\":null,\"render_mode\":\"css\",\"right_units\":\"screen\",\"top_units\":\"screen\"},\"id\":\"290c23f0-cbd9-49cd-9ed4-70a47e53dcf9\",\"type\":\"BoxAnnotation\"},{\"attributes\":{},\"id\":\"81db2ab4-700d-4536-93fe-94d25332a081\",\"type\":\"BasicTickFormatter\"},{\"attributes\":{\"overlay\":{\"id\":\"d03a837c-6237-4a16-a16b-b21c9a796d77\",\"type\":\"PolyAnnotation\"},\"plot\":{\"id\":\"8eca28b8-fadb-46fc-87a3-4580c37cdfb6\",\"subtype\":\"Figure\",\"type\":\"Plot\"}},\"id\":\"127de1f6-3de1-424e-b5bc-7db934355396\",\"type\":\"PolySelectTool\"},{\"attributes\":{\"plot\":{\"id\":\"8eca28b8-fadb-46fc-87a3-4580c37cdfb6\",\"subtype\":\"Figure\",\"type\":\"Plot\"}},\"id\":\"1c2c736a-24f5-4cc6-80df-a2ff86b5ee8e\",\"type\":\"PanTool\"},{\"attributes\":{\"active_drag\":\"auto\",\"active_scroll\":\"auto\",\"active_tap\":\"auto\",\"tools\":[{\"id\":\"b58b6cc7-461d-4da4-bc41-af80e3a53f6e\",\"type\":\"BoxZoomTool\"},{\"id\":\"680a54e0-98bd-4818-a336-53a0d1f96ab4\",\"type\":\"BoxSelectTool\"},{\"id\":\"a4298625-ab72-4650-8c75-a7ea0cbb955b\",\"type\":\"CrosshairTool\"},{\"id\":\"c3a38300-74d7-4a41-bf30-85da08c858d7\",\"type\":\"ResizeTool\"},{\"id\":\"ed48c4f4-e300-4ed2-a00a-6b6f78b14210\",\"type\":\"ResetTool\"},{\"id\":\"fe24186e-7692-45e4-bd52-f458d4b38302\",\"type\":\"LassoSelectTool\"},{\"id\":\"1c2c736a-24f5-4cc6-80df-a2ff86b5ee8e\",\"type\":\"PanTool\"},{\"id\":\"d54b3a05-6ea6-4f46-be94-ba4f2233fa88\",\"type\":\"SaveTool\"},{\"id\":\"127de1f6-3de1-424e-b5bc-7db934355396\",\"type\":\"PolySelectTool\"},{\"id\":\"298ef154-a984-4a1c-ab7b-e1fe95ab814b\",\"type\":\"TapTool\"},{\"id\":\"d6369b4f-a210-4405-b44e-55b0ee97ae66\",\"type\":\"WheelZoomTool\"},{\"id\":\"7950084f-eff9-4a6d-af01-29897bc24500\",\"type\":\"UndoTool\"}]},\"id\":\"c60a2265-047a-4b89-ad62-511642cdc3c3\",\"type\":\"Toolbar\"},{\"attributes\":{\"callback\":null,\"overlay\":{\"id\":\"66b9c461-dbe1-472f-b397-4bcc65a40707\",\"type\":\"PolyAnnotation\"},\"plot\":{\"id\":\"8eca28b8-fadb-46fc-87a3-4580c37cdfb6\",\"subtype\":\"Figure\",\"type\":\"Plot\"}},\"id\":\"fe24186e-7692-45e4-bd52-f458d4b38302\",\"type\":\"LassoSelectTool\"},{\"attributes\":{},\"id\":\"6e8c34ac-3f44-4ed0-8f41-df2b1d7d92c1\",\"type\":\"BasicTickFormatter\"},{\"attributes\":{\"fill_alpha\":{\"value\":0.1},\"fill_color\":{\"value\":\"#1f77b4\"},\"line_alpha\":{\"value\":0.1},\"line_color\":{\"value\":\"#1f77b4\"},\"line_width\":{\"value\":3},\"x\":{\"field\":\"x\"},\"y\":{\"field\":\"y\"}},\"id\":\"0d4de0a7-ea89-4dcf-a78f-de937c006269\",\"type\":\"Circle\"},{\"attributes\":{\"data_source\":{\"id\":\"f02aaf67-c301-48ab-a21b-e2b5502166e6\",\"type\":\"ColumnDataSource\"},\"glyph\":{\"id\":\"feb54caa-0e1c-452d-b600-c199f071825c\",\"type\":\"Line\"},\"hover_glyph\":null,\"nonselection_glyph\":{\"id\":\"b58a7539-60e5-4dfc-9025-64cc2294637e\",\"type\":\"Line\"},\"selection_glyph\":null},\"id\":\"49f682e0-2382-47ae-a652-e1b43c2fcc9c\",\"type\":\"GlyphRenderer\"},{\"attributes\":{\"data_source\":{\"id\":\"5f3c6e4e-64b4-4b3e-8164-1d1863fc0a0e\",\"type\":\"ColumnDataSource\"},\"glyph\":{\"id\":\"6803bb5d-36e8-4a3b-b6b2-00632508b8ff\",\"type\":\"Circle\"},\"hover_glyph\":null,\"nonselection_glyph\":{\"id\":\"0d4de0a7-ea89-4dcf-a78f-de937c006269\",\"type\":\"Circle\"},\"selection_glyph\":null},\"id\":\"8136a01a-2fc0-4efa-8c14-8edf8a997bc7\",\"type\":\"GlyphRenderer\"},{\"attributes\":{\"plot\":{\"id\":\"8eca28b8-fadb-46fc-87a3-4580c37cdfb6\",\"subtype\":\"Figure\",\"type\":\"Plot\"}},\"id\":\"ed48c4f4-e300-4ed2-a00a-6b6f78b14210\",\"type\":\"ResetTool\"},{\"attributes\":{\"callback\":null},\"id\":\"3324e983-f9e9-4ff1-a958-98a473f45ab0\",\"type\":\"DataRange1d\"},{\"attributes\":{\"axis_label\":\"Predicted\",\"axis_label_text_color\":{\"value\":\"#aa6666\"},\"formatter\":{\"id\":\"6e8c34ac-3f44-4ed0-8f41-df2b1d7d92c1\",\"type\":\"BasicTickFormatter\"},\"plot\":{\"id\":\"8eca28b8-fadb-46fc-87a3-4580c37cdfb6\",\"subtype\":\"Figure\",\"type\":\"Plot\"},\"ticker\":{\"id\":\"7735e160-896f-4f0f-a210-26bad7d43671\",\"type\":\"BasicTicker\"}},\"id\":\"a95fe0fd-0826-4a4a-a3c6-5ffdce7f93e8\",\"type\":\"LinearAxis\"},{\"attributes\":{\"plot\":{\"id\":\"8eca28b8-fadb-46fc-87a3-4580c37cdfb6\",\"subtype\":\"Figure\",\"type\":\"Plot\"}},\"id\":\"c3a38300-74d7-4a41-bf30-85da08c858d7\",\"type\":\"ResizeTool\"},{\"attributes\":{\"plot\":{\"id\":\"8eca28b8-fadb-46fc-87a3-4580c37cdfb6\",\"subtype\":\"Figure\",\"type\":\"Plot\"},\"ticker\":{\"id\":\"a6fa702b-086d-4b18-829b-41d99bb358ac\",\"type\":\"BasicTicker\"}},\"id\":\"6a57eb37-b1b6-4416-90ee-2dbb21c5045f\",\"type\":\"Grid\"}],\"root_ids\":[\"8eca28b8-fadb-46fc-87a3-4580c37cdfb6\"]},\"title\":\"Bokeh Application\",\"version\":\"0.12.2\"}};\n",
       "            var render_items = [{\"docid\":\"673fa4cf-31e4-41ef-87ca-81a9badfe29e\",\"elementid\":\"d22dff02-1f34-427a-a70e-4cf5eccffcdc\",\"modelid\":\"8eca28b8-fadb-46fc-87a3-4580c37cdfb6\"}];\n",
       "            \n",
       "            Bokeh.embed.embed_items(docs_json, render_items);\n",
       "        });\n",
       "      },\n",
       "      function(Bokeh) {\n",
       "      }\n",
       "    ];\n",
       "  \n",
       "    function run_inline_js() {\n",
       "      \n",
       "      if ((window.Bokeh !== undefined) || (force === \"1\")) {\n",
       "        for (var i = 0; i < inline_js.length; i++) {\n",
       "          inline_js[i](window.Bokeh);\n",
       "        }if (force === \"1\") {\n",
       "          display_loaded();\n",
       "        }} else if (Date.now() < window._bokeh_timeout) {\n",
       "        setTimeout(run_inline_js, 100);\n",
       "      } else if (!window._bokeh_failed_load) {\n",
       "        console.log(\"Bokeh: BokehJS failed to load within specified timeout.\");\n",
       "        window._bokeh_failed_load = true;\n",
       "      } else if (!force) {\n",
       "        var cell = $(\"#d22dff02-1f34-427a-a70e-4cf5eccffcdc\").parents('.cell').data().cell;\n",
       "        cell.output_area.append_execute_result(NB_LOAD_WARNING)\n",
       "      }\n",
       "  \n",
       "    }\n",
       "  \n",
       "    if (window._bokeh_is_loading === 0) {\n",
       "      console.log(\"Bokeh: BokehJS loaded, going straight to plotting\");\n",
       "      run_inline_js();\n",
       "    } else {\n",
       "      load_libs(js_urls, function() {\n",
       "        console.log(\"Bokeh: BokehJS plotting callback run at\", now());\n",
       "        run_inline_js();\n",
       "      });\n",
       "    }\n",
       "  }(this));\n",
       "</script>"
      ]
     },
     "metadata": {},
     "output_type": "display_data"
    }
   ],
   "source": [
    "# Plotining using bokeh\n",
    "#TOOLS = [BoxSelectTool(), HoverTool()]\n",
    "#TOOLS = 'hover,box_zoom,box_select,crosshair,resize,reset,DecisionTreeRegressor_select,pan,save,poly_select,tap,wheel_zoom,undo'\n",
    "TOOLS = 'box_zoom,box_select,crosshair,resize,reset,lasso_select,pan,save,poly_select,tap,wheel_zoom,undo'\n",
    "p = figure(plot_width=500, plot_height=500, tools=TOOLS)\n",
    "p.scatter(Y, predicted,x=\"jjj\", marker=\"o\", color=\"#80B1D3\", line_width=3)\n",
    "p.title.align = \"center\"\n",
    "p.xaxis.axis_label = \"Measured\"\n",
    "p.xaxis.axis_label_text_color = \"#aa6666\"\n",
    "#p.xaxis.axis_label_standoff = 30\n",
    "p.xaxis.major_tick_line_color = \"firebrick\"\n",
    "p.xaxis.major_tick_line_width = 3\n",
    "p.xaxis.minor_tick_line_color = \"orange\"\n",
    "p.yaxis.axis_label = \"Predicted\"\n",
    "p.yaxis.axis_label_text_font_style = \"italic\"\n",
    "p.yaxis.axis_label_text_color = \"#aa6666\"\n",
    "p.background_fill_color = \"beige\"\n",
    "p.background_fill_alpha = 0.5\n",
    "#p.line([Y.min(), Y.max()], [Y.min(), Y.max()], line_dash=\"4 4\", line_width=2, color='red')\n",
    "\n",
    "# create a new plot with the toolbar below\n",
    "# line_dash=\"4 4\", line_width=2, color='red'\n",
    "p.line([Y.min(), Y.max()], [Y.min(), Y.max()], line_dash=\"4 4\", line_width=2, line_color=\"black\")\n",
    "show(p)"
   ]
  },
  {
   "cell_type": "code",
   "execution_count": 19,
   "metadata": {
    "collapsed": false
   },
   "outputs": [
    {
     "data": {
      "text/plain": [
       "<matplotlib.text.Text at 0x7f9d75341310>"
      ]
     },
     "execution_count": 19,
     "metadata": {},
     "output_type": "execute_result"
    },
    {
     "data": {
      "image/png": "[encoded data removed]",
      "text/plain": [
       "<matplotlib.figure.Figure at 0x7f9d790edb90>"
      ]
     },
     "metadata": {},
     "output_type": "display_data"
    }
   ],
   "source": [
    "plt.scatter(predicted, (predicted - Y), c='r', s=30)\n",
    "plt.title(\"Residual plot on the training data\")\n",
    "plt.xlabel(\"Predicted\")\n",
    "plt.ylabel(\"Residuals\")"
   ]
  },
  {
   "cell_type": "code",
   "execution_count": 20,
   "metadata": {
    "collapsed": false
   },
   "outputs": [
    {
     "data": {
      "text/html": [
       "\n",
       "\n",
       "    <div class=\"bk-root\">\n",
       "        <div class=\"plotdiv\" id=\"c64de95c-dadb-4285-9d1b-4b1f214af8fa\"></div>\n",
       "    </div>\n",
       "<script type=\"text/javascript\">\n",
       "  \n",
       "  (function(global) {\n",
       "    function now() {\n",
       "      return new Date();\n",
       "    }\n",
       "  \n",
       "    var force = \"\";\n",
       "  \n",
       "    if (typeof (window._bokeh_onload_callbacks) === \"undefined\" || force !== \"\") {\n",
       "      window._bokeh_onload_callbacks = [];\n",
       "      window._bokeh_is_loading = undefined;\n",
       "    }\n",
       "  \n",
       "  \n",
       "    \n",
       "    if (typeof (window._bokeh_timeout) === \"undefined\" || force !== \"\") {\n",
       "      window._bokeh_timeout = Date.now() + 0;\n",
       "      window._bokeh_failed_load = false;\n",
       "    }\n",
       "  \n",
       "    var NB_LOAD_WARNING = {'data': {'text/html':\n",
       "       \"<div style='background-color: #fdd'>\\n\"+\n",
       "       \"<p>\\n\"+\n",
       "       \"BokehJS does not appear to have successfully loaded. If loading BokehJS from CDN, this \\n\"+\n",
       "       \"may be due to a slow or bad network connection. Possible fixes:\\n\"+\n",
       "       \"</p>\\n\"+\n",
       "       \"<ul>\\n\"+\n",
       "       \"<li>re-rerun `output_notebook()` to attempt to load from CDN again, or</li>\\n\"+\n",
       "       \"<li>use INLINE resources instead, as so:</li>\\n\"+\n",
       "       \"</ul>\\n\"+\n",
       "       \"<code>\\n\"+\n",
       "       \"from bokeh.resources import INLINE\\n\"+\n",
       "       \"output_notebook(resources=INLINE)\\n\"+\n",
       "       \"</code>\\n\"+\n",
       "       \"</div>\"}};\n",
       "  \n",
       "    function display_loaded() {\n",
       "      if (window.Bokeh !== undefined) {\n",
       "        Bokeh.$(\"#c64de95c-dadb-4285-9d1b-4b1f214af8fa\").text(\"BokehJS successfully loaded.\");\n",
       "      } else if (Date.now() < window._bokeh_timeout) {\n",
       "        setTimeout(display_loaded, 100)\n",
       "      }\n",
       "    }\n",
       "  \n",
       "    function run_callbacks() {\n",
       "      window._bokeh_onload_callbacks.forEach(function(callback) { callback() });\n",
       "      delete window._bokeh_onload_callbacks\n",
       "      console.info(\"Bokeh: all callbacks have finished\");\n",
       "    }\n",
       "  \n",
       "    function load_libs(js_urls, callback) {\n",
       "      window._bokeh_onload_callbacks.push(callback);\n",
       "      if (window._bokeh_is_loading > 0) {\n",
       "        console.log(\"Bokeh: BokehJS is being loaded, scheduling callback at\", now());\n",
       "        return null;\n",
       "      }\n",
       "      if (js_urls == null || js_urls.length === 0) {\n",
       "        run_callbacks();\n",
       "        return null;\n",
       "      }\n",
       "      console.log(\"Bokeh: BokehJS not loaded, scheduling load and callback at\", now());\n",
       "      window._bokeh_is_loading = js_urls.length;\n",
       "      for (var i = 0; i < js_urls.length; i++) {\n",
       "        var url = js_urls[i];\n",
       "        var s = document.createElement('script');\n",
       "        s.src = url;\n",
       "        s.async = false;\n",
       "        s.onreadystatechange = s.onload = function() {\n",
       "          window._bokeh_is_loading--;\n",
       "          if (window._bokeh_is_loading === 0) {\n",
       "            console.log(\"Bokeh: all BokehJS libraries loaded\");\n",
       "            run_callbacks()\n",
       "          }\n",
       "        };\n",
       "        s.onerror = function() {\n",
       "          console.warn(\"failed to load library \" + url);\n",
       "        };\n",
       "        console.log(\"Bokeh: injecting script tag for BokehJS library: \", url);\n",
       "        document.getElementsByTagName(\"head\")[0].appendChild(s);\n",
       "      }\n",
       "    };var element = document.getElementById(\"c64de95c-dadb-4285-9d1b-4b1f214af8fa\");\n",
       "    if (element == null) {\n",
       "      console.log(\"Bokeh: ERROR: autoload.js configured with elementid 'c64de95c-dadb-4285-9d1b-4b1f214af8fa' but no matching script tag was found. \")\n",
       "      return false;\n",
       "    }\n",
       "  \n",
       "    var js_urls = [];\n",
       "  \n",
       "    var inline_js = [\n",
       "      function(Bokeh) {\n",
       "        Bokeh.$(function() {\n",
       "            var docs_json = {\"13a7efda-0061-41d9-93d4-34797ee98195\":{\"roots\":{\"references\":[{\"attributes\":{},\"id\":\"b15a04ac-32bd-4d41-9cb3-a70b60e6c790\",\"type\":\"ToolEvents\"},{\"attributes\":{},\"id\":\"ff906793-8382-4118-b840-ae46bab084ff\",\"type\":\"BasicTickFormatter\"},{\"attributes\":{\"active_drag\":\"auto\",\"active_scroll\":\"auto\",\"active_tap\":\"auto\",\"tools\":[{\"id\":\"524f60e7-aa0b-4da0-b320-137deea163ef\",\"type\":\"BoxZoomTool\"},{\"id\":\"12e7e721-19c5-45ef-8cf4-274750afe71c\",\"type\":\"BoxSelectTool\"},{\"id\":\"44b7c6a2-6498-423d-9e9c-407366412fb0\",\"type\":\"CrosshairTool\"},{\"id\":\"10f8b49a-c36f-4fd1-aee1-49b6d47809af\",\"type\":\"ResizeTool\"},{\"id\":\"747b434d-5ce9-46b7-8954-12b93779ad67\",\"type\":\"ResetTool\"},{\"id\":\"20a37194-1970-4272-b413-c1c2c779ff1a\",\"type\":\"LassoSelectTool\"},{\"id\":\"0345521d-f888-4c07-bd37-71999762e2e2\",\"type\":\"PanTool\"},{\"id\":\"0d32954f-3cb5-4910-98bf-bc4537d92137\",\"type\":\"SaveTool\"},{\"id\":\"1848bed7-b2c1-43e0-b6ad-fae3c0425cb8\",\"type\":\"PolySelectTool\"},{\"id\":\"f34bcc42-719b-40bc-8593-621b841d4bcc\",\"type\":\"TapTool\"},{\"id\":\"4ea54f89-776b-4a2a-956c-6fbdfd87c791\",\"type\":\"WheelZoomTool\"},{\"id\":\"0f820323-f35e-41bc-af1a-acc18ff2a25c\",\"type\":\"UndoTool\"}]},\"id\":\"b8fd37ef-779f-4c19-b9d7-390c2718a6bf\",\"type\":\"Toolbar\"},{\"attributes\":{},\"id\":\"20c5426f-8489-4de0-b347-c26e2dd295ea\",\"type\":\"BasicTickFormatter\"},{\"attributes\":{\"data_source\":{\"id\":\"02ef12dd-f2d6-4978-b0c3-3a097299ac07\",\"type\":\"ColumnDataSource\"},\"glyph\":{\"id\":\"51fa2ed3-321d-41a2-be67-071b748dc550\",\"type\":\"Circle\"},\"hover_glyph\":null,\"nonselection_glyph\":{\"id\":\"e49b9a4d-5fb3-448c-beb7-9c5db578d557\",\"type\":\"Circle\"},\"selection_glyph\":null},\"id\":\"10dbb503-8577-426d-ae35-71f125c1eb17\",\"type\":\"GlyphRenderer\"},{\"attributes\":{\"plot\":{\"id\":\"e229b939-d126-49ff-b1f4-88638a47ce69\",\"subtype\":\"Figure\",\"type\":\"Plot\"}},\"id\":\"0d32954f-3cb5-4910-98bf-bc4537d92137\",\"type\":\"SaveTool\"},{\"attributes\":{\"plot\":{\"id\":\"e229b939-d126-49ff-b1f4-88638a47ce69\",\"subtype\":\"Figure\",\"type\":\"Plot\"}},\"id\":\"44b7c6a2-6498-423d-9e9c-407366412fb0\",\"type\":\"CrosshairTool\"},{\"attributes\":{\"callback\":null},\"id\":\"fe998a8a-09f7-4b86-ae57-52cf06297d04\",\"type\":\"DataRange1d\"},{\"attributes\":{\"fill_alpha\":{\"value\":0.1},\"fill_color\":{\"value\":\"#1f77b4\"},\"line_alpha\":{\"value\":0.1},\"line_color\":{\"value\":\"#1f77b4\"},\"line_width\":{\"value\":3},\"x\":{\"field\":\"x\"},\"y\":{\"field\":\"y\"}},\"id\":\"e49b9a4d-5fb3-448c-beb7-9c5db578d557\",\"type\":\"Circle\"},{\"attributes\":{\"plot\":{\"id\":\"e229b939-d126-49ff-b1f4-88638a47ce69\",\"subtype\":\"Figure\",\"type\":\"Plot\"}},\"id\":\"4ea54f89-776b-4a2a-956c-6fbdfd87c791\",\"type\":\"WheelZoomTool\"},{\"attributes\":{\"plot\":{\"id\":\"e229b939-d126-49ff-b1f4-88638a47ce69\",\"subtype\":\"Figure\",\"type\":\"Plot\"}},\"id\":\"747b434d-5ce9-46b7-8954-12b93779ad67\",\"type\":\"ResetTool\"},{\"attributes\":{\"fill_alpha\":{\"value\":0.5},\"fill_color\":{\"value\":\"lightgrey\"},\"level\":\"overlay\",\"line_alpha\":{\"value\":1.0},\"line_color\":{\"value\":\"black\"},\"line_dash\":[4,4],\"line_width\":{\"value\":2},\"plot\":null,\"xs_units\":\"screen\",\"ys_units\":\"screen\"},\"id\":\"8774aaff-504f-46a0-aff9-04ff86420ee1\",\"type\":\"PolyAnnotation\"},{\"attributes\":{},\"id\":\"c7937633-0aee-4188-8d88-a6869a9ff0c2\",\"type\":\"BasicTicker\"},{\"attributes\":{\"fill_alpha\":{\"value\":0.5},\"fill_color\":{\"value\":\"lightgrey\"},\"level\":\"overlay\",\"line_alpha\":{\"value\":1.0},\"line_color\":{\"value\":\"black\"},\"line_dash\":[4,4],\"line_width\":{\"value\":2},\"plot\":null,\"xs_units\":\"screen\",\"ys_units\":\"screen\"},\"id\":\"c546b70c-b79d-49fe-bbbf-6f05509d3796\",\"type\":\"PolyAnnotation\"},{\"attributes\":{\"callback\":null,\"column_names\":[\"x\",\"y\"],\"data\":{\"x\":[20.6,53.25,132.33333333333334,22.666666666666668,75.66666666666667,67.0,118.375,18.428571428571427,25.72222222222222,35.0,194.5,341.0,426.0,42.25,25.72222222222222,42.25,75.66666666666667,26.5,253.0,17.375,26.5,37.714285714285715,26.5,157.0,37.714285714285715,37.714285714285715,381.5,52.25,194.5,17.375,134.8,30.615384615384617,253.0,21.6,17.714285714285715,73.28571428571429,35.6,29.90909090909091,25.941176470588236,20.4,266.0,173.5,17.714285714285715,24.5,29.666666666666668,77.5,43.23529411764706,17.714285714285715,25.941176470588236,43.23529411764706,84.0,18.142857142857142,240.0,34.857142857142854,26.3125,240.0,82.8,20.0,71.25,20.0,26.3125,26.3125,42.04761904761905,267.0,133.66666666666666,240.0,112.25,20.0,40.48,1238.0,40.48,29.666666666666668,124.0,175.0,29.333333333333332,268.5,173.5,110.2,75.33333333333333,29.333333333333332,40.48,40.48,29.333333333333332,40.48,110.2,270.0,42.4,17.555555555555557,21.384615384615383,42.4,128.75,54.75,360.5,26.681818181818183,26.681818181818183,128.75,26.681818181818183,21.384615384615383,26.681818181818183,227.0,31.1,21.384615384615383,54.75,18.285714285714285,129.83333333333334,40.041666666666664,190.0,253.0,109.875,25.88235294117647,75.33333333333333,25.88235294117647,73.66666666666667,80.5,29.90909090909091,40.041666666666664,73.66666666666667,40.041666666666664,40.041666666666664,85.33333333333333,120.42857142857143,25.8125,45.25,37.375,278.0,102.0,25.8125,45.25,29.727272727272727,72.5,120.42857142857143,45.25,51.63636363636363,120.42857142857143,25.8125,17.88888888888889,78.0,78.0,53.0,82.0,112.83333333333333,26.75,21.571428571428573,63.5,21.571428571428573,53.2,26.75,227.0,26.75,863.5,30.615384615384617,49.8,39.84,49.8,181.5,39.84,30.46153846153846,21.333333333333332,39.84,749.0,21.333333333333332,341.0,21.333333333333332,360.5,26.5,26.5,49.8],\"y\":[0.6000000000000014,0.25,0.3333333333333428,-2.333333333333332,-12.333333333333329,13.0,43.375,1.428571428571427,-2.2777777777777786,0.0,114.5,-19.0,-323.0,1.25,-0.27777777777777857,-1.75,-6.333333333333329,-1.5,-22.0,-0.625,-0.5,3.7142857142857153,-1.5,55.0,3.7142857142857153,-4.285714285714285,-44.5,-4.75,70.5,-1.625,6.800000000000011,0.6153846153846168,-28.0,2.6000000000000014,-1.2857142857142847,-12.714285714285708,-9.399999999999999,0.9090909090909101,-2.0588235294117645,-1.6000000000000014,46.0,47.5,2.7142857142857153,2.5,-1.3333333333333321,-3.5,8.235294117647058,-0.2857142857142847,1.9411764705882355,6.235294117647058,-11.0,-0.8571428571428577,-13.0,0.8571428571428541,2.3125,58.0,8.799999999999997,-3.0,-6.75,-3.0,2.3125,2.3125,-4.952380952380949,-3.0,20.666666666666657,-13.0,30.25,0.0,-6.520000000000003,260.0,6.479999999999997,-1.3333333333333321,-75.0,4.0,-3.666666666666668,-92.5,60.5,-6.799999999999997,1.3333333333333286,-3.666666666666668,2.479999999999997,4.479999999999997,1.3333333333333321,-0.5200000000000031,-6.799999999999997,3.0,-2.6000000000000014,-0.44444444444444287,0.38461538461538325,5.399999999999999,-61.25,7.75,-20.5,-1.3181818181818166,1.6818181818181834,12.75,0.6818181818181834,1.3846153846153832,-8.318181818181817,46.0,2.1000000000000014,-2.6153846153846168,-10.25,0.2857142857142847,-6.166666666666657,6.041666666666664,33.0,0.0,8.875,0.882352941176471,1.3333333333333286,-2.117647058823529,27.66666666666667,27.5,0.9090909090909101,-3.9583333333333357,27.66666666666667,4.041666666666664,-0.9583333333333357,3.3333333333333286,-17.57142857142857,-2.1875,3.25,-24.625,12.0,0.0,0.8125,1.25,-1.2727272727272734,-1.5,-21.57142857142857,4.25,8.636363636363633,1.4285714285714306,-1.1875,2.8888888888888893,5.0,14.0,0.0,6.0,-7.166666666666671,2.75,1.571428571428573,13.5,0.571428571428573,-26.799999999999997,-3.25,-114.0,2.75,-55.5,0.6153846153846168,-6.200000000000003,5.840000000000003,-3.200000000000003,6.5,-7.159999999999997,-1.53846153846154,-1.6666666666666679,0.8400000000000034,-489.0,1.3333333333333321,114.0,1.3333333333333321,-21.5,0.5,-1.5,-17.200000000000003]}},\"id\":\"02ef12dd-f2d6-4978-b0c3-3a097299ac07\",\"type\":\"ColumnDataSource\"},{\"attributes\":{\"axis_label\":\"Predicted\",\"axis_label_text_color\":{\"value\":\"#aa6666\"},\"formatter\":{\"id\":\"ff906793-8382-4118-b840-ae46bab084ff\",\"type\":\"BasicTickFormatter\"},\"major_tick_line_color\":{\"value\":\"firebrick\"},\"major_tick_line_width\":{\"value\":3},\"minor_tick_line_color\":{\"value\":\"orange\"},\"plot\":{\"id\":\"e229b939-d126-49ff-b1f4-88638a47ce69\",\"subtype\":\"Figure\",\"type\":\"Plot\"},\"ticker\":{\"id\":\"c7937633-0aee-4188-8d88-a6869a9ff0c2\",\"type\":\"BasicTicker\"}},\"id\":\"6d9a15da-98f8-4462-98f2-493e56056fac\",\"type\":\"LinearAxis\"},{\"attributes\":{\"overlay\":{\"id\":\"8774aaff-504f-46a0-aff9-04ff86420ee1\",\"type\":\"PolyAnnotation\"},\"plot\":{\"id\":\"e229b939-d126-49ff-b1f4-88638a47ce69\",\"subtype\":\"Figure\",\"type\":\"Plot\"}},\"id\":\"1848bed7-b2c1-43e0-b6ad-fae3c0425cb8\",\"type\":\"PolySelectTool\"},{\"attributes\":{\"plot\":{\"id\":\"e229b939-d126-49ff-b1f4-88638a47ce69\",\"subtype\":\"Figure\",\"type\":\"Plot\"}},\"id\":\"0345521d-f888-4c07-bd37-71999762e2e2\",\"type\":\"PanTool\"},{\"attributes\":{\"plot\":{\"id\":\"e229b939-d126-49ff-b1f4-88638a47ce69\",\"subtype\":\"Figure\",\"type\":\"Plot\"},\"ticker\":{\"id\":\"c7937633-0aee-4188-8d88-a6869a9ff0c2\",\"type\":\"BasicTicker\"}},\"id\":\"20c97ef8-fcf3-4789-89fc-dbfae7ee83ba\",\"type\":\"Grid\"},{\"attributes\":{\"align\":\"center\",\"plot\":null,\"text\":\"Residual plot on the training data\"},\"id\":\"9818f3fc-f152-4265-93ed-5b6c0649fcbd\",\"type\":\"Title\"},{\"attributes\":{\"callback\":null,\"overlay\":{\"id\":\"c546b70c-b79d-49fe-bbbf-6f05509d3796\",\"type\":\"PolyAnnotation\"},\"plot\":{\"id\":\"e229b939-d126-49ff-b1f4-88638a47ce69\",\"subtype\":\"Figure\",\"type\":\"Plot\"}},\"id\":\"20a37194-1970-4272-b413-c1c2c779ff1a\",\"type\":\"LassoSelectTool\"},{\"attributes\":{\"callback\":null},\"id\":\"38e58043-ff46-4ca2-b6eb-7d5035815e26\",\"type\":\"DataRange1d\"},{\"attributes\":{\"overlay\":{\"id\":\"faa4fdc7-deb7-477e-9a3a-d1842a449022\",\"type\":\"BoxAnnotation\"},\"plot\":{\"id\":\"e229b939-d126-49ff-b1f4-88638a47ce69\",\"subtype\":\"Figure\",\"type\":\"Plot\"}},\"id\":\"524f60e7-aa0b-4da0-b320-137deea163ef\",\"type\":\"BoxZoomTool\"},{\"attributes\":{\"bottom_units\":\"screen\",\"fill_alpha\":{\"value\":0.5},\"fill_color\":{\"value\":\"lightgrey\"},\"left_units\":\"screen\",\"level\":\"overlay\",\"line_alpha\":{\"value\":1.0},\"line_color\":{\"value\":\"black\"},\"line_dash\":[4,4],\"line_width\":{\"value\":2},\"plot\":null,\"render_mode\":\"css\",\"right_units\":\"screen\",\"top_units\":\"screen\"},\"id\":\"faa4fdc7-deb7-477e-9a3a-d1842a449022\",\"type\":\"BoxAnnotation\"},{\"attributes\":{\"bottom_units\":\"screen\",\"fill_alpha\":{\"value\":0.5},\"fill_color\":{\"value\":\"lightgrey\"},\"left_units\":\"screen\",\"level\":\"overlay\",\"line_alpha\":{\"value\":1.0},\"line_color\":{\"value\":\"black\"},\"line_dash\":[4,4],\"line_width\":{\"value\":2},\"plot\":null,\"render_mode\":\"css\",\"right_units\":\"screen\",\"top_units\":\"screen\"},\"id\":\"535dd27f-6158-4fce-b75e-557094e314b0\",\"type\":\"BoxAnnotation\"},{\"attributes\":{\"axis_label\":\"Residuals\",\"axis_label_text_color\":{\"value\":\"#aa6666\"},\"formatter\":{\"id\":\"20c5426f-8489-4de0-b347-c26e2dd295ea\",\"type\":\"BasicTickFormatter\"},\"plot\":{\"id\":\"e229b939-d126-49ff-b1f4-88638a47ce69\",\"subtype\":\"Figure\",\"type\":\"Plot\"},\"ticker\":{\"id\":\"fefb6d38-dc9a-4319-ab42-8c99633931dd\",\"type\":\"BasicTicker\"}},\"id\":\"1771bbf8-f010-4da8-a1b7-b392414c367a\",\"type\":\"LinearAxis\"},{\"attributes\":{\"background_fill_alpha\":{\"value\":0.5},\"background_fill_color\":{\"value\":\"beige\"},\"below\":[{\"id\":\"6d9a15da-98f8-4462-98f2-493e56056fac\",\"type\":\"LinearAxis\"}],\"left\":[{\"id\":\"1771bbf8-f010-4da8-a1b7-b392414c367a\",\"type\":\"LinearAxis\"}],\"plot_height\":500,\"plot_width\":500,\"renderers\":[{\"id\":\"6d9a15da-98f8-4462-98f2-493e56056fac\",\"type\":\"LinearAxis\"},{\"id\":\"20c97ef8-fcf3-4789-89fc-dbfae7ee83ba\",\"type\":\"Grid\"},{\"id\":\"1771bbf8-f010-4da8-a1b7-b392414c367a\",\"type\":\"LinearAxis\"},{\"id\":\"8fe988fb-4e8f-42b4-ba7a-3f29726e7144\",\"type\":\"Grid\"},{\"id\":\"faa4fdc7-deb7-477e-9a3a-d1842a449022\",\"type\":\"BoxAnnotation\"},{\"id\":\"535dd27f-6158-4fce-b75e-557094e314b0\",\"type\":\"BoxAnnotation\"},{\"id\":\"c546b70c-b79d-49fe-bbbf-6f05509d3796\",\"type\":\"PolyAnnotation\"},{\"id\":\"8774aaff-504f-46a0-aff9-04ff86420ee1\",\"type\":\"PolyAnnotation\"},{\"id\":\"10dbb503-8577-426d-ae35-71f125c1eb17\",\"type\":\"GlyphRenderer\"}],\"title\":{\"id\":\"9818f3fc-f152-4265-93ed-5b6c0649fcbd\",\"type\":\"Title\"},\"tool_events\":{\"id\":\"b15a04ac-32bd-4d41-9cb3-a70b60e6c790\",\"type\":\"ToolEvents\"},\"toolbar\":{\"id\":\"b8fd37ef-779f-4c19-b9d7-390c2718a6bf\",\"type\":\"Toolbar\"},\"x_range\":{\"id\":\"fe998a8a-09f7-4b86-ae57-52cf06297d04\",\"type\":\"DataRange1d\"},\"y_range\":{\"id\":\"38e58043-ff46-4ca2-b6eb-7d5035815e26\",\"type\":\"DataRange1d\"}},\"id\":\"e229b939-d126-49ff-b1f4-88638a47ce69\",\"subtype\":\"Figure\",\"type\":\"Plot\"},{\"attributes\":{},\"id\":\"fefb6d38-dc9a-4319-ab42-8c99633931dd\",\"type\":\"BasicTicker\"},{\"attributes\":{\"dimension\":1,\"plot\":{\"id\":\"e229b939-d126-49ff-b1f4-88638a47ce69\",\"subtype\":\"Figure\",\"type\":\"Plot\"},\"ticker\":{\"id\":\"fefb6d38-dc9a-4319-ab42-8c99633931dd\",\"type\":\"BasicTicker\"}},\"id\":\"8fe988fb-4e8f-42b4-ba7a-3f29726e7144\",\"type\":\"Grid\"},{\"attributes\":{\"callback\":null,\"overlay\":{\"id\":\"535dd27f-6158-4fce-b75e-557094e314b0\",\"type\":\"BoxAnnotation\"},\"plot\":{\"id\":\"e229b939-d126-49ff-b1f4-88638a47ce69\",\"subtype\":\"Figure\",\"type\":\"Plot\"},\"renderers\":[{\"id\":\"10dbb503-8577-426d-ae35-71f125c1eb17\",\"type\":\"GlyphRenderer\"}]},\"id\":\"12e7e721-19c5-45ef-8cf4-274750afe71c\",\"type\":\"BoxSelectTool\"},{\"attributes\":{\"callback\":null,\"plot\":{\"id\":\"e229b939-d126-49ff-b1f4-88638a47ce69\",\"subtype\":\"Figure\",\"type\":\"Plot\"}},\"id\":\"f34bcc42-719b-40bc-8593-621b841d4bcc\",\"type\":\"TapTool\"},{\"attributes\":{\"plot\":{\"id\":\"e229b939-d126-49ff-b1f4-88638a47ce69\",\"subtype\":\"Figure\",\"type\":\"Plot\"}},\"id\":\"10f8b49a-c36f-4fd1-aee1-49b6d47809af\",\"type\":\"ResizeTool\"},{\"attributes\":{\"plot\":{\"id\":\"e229b939-d126-49ff-b1f4-88638a47ce69\",\"subtype\":\"Figure\",\"type\":\"Plot\"}},\"id\":\"0f820323-f35e-41bc-af1a-acc18ff2a25c\",\"type\":\"UndoTool\"},{\"attributes\":{\"fill_color\":{\"value\":\"#80B1D3\"},\"line_color\":{\"value\":\"#80B1D3\"},\"line_width\":{\"value\":3},\"x\":{\"field\":\"x\"},\"y\":{\"field\":\"y\"}},\"id\":\"51fa2ed3-321d-41a2-be67-071b748dc550\",\"type\":\"Circle\"}],\"root_ids\":[\"e229b939-d126-49ff-b1f4-88638a47ce69\"]},\"title\":\"Bokeh Application\",\"version\":\"0.12.2\"}};\n",
       "            var render_items = [{\"docid\":\"13a7efda-0061-41d9-93d4-34797ee98195\",\"elementid\":\"c64de95c-dadb-4285-9d1b-4b1f214af8fa\",\"modelid\":\"e229b939-d126-49ff-b1f4-88638a47ce69\"}];\n",
       "            \n",
       "            Bokeh.embed.embed_items(docs_json, render_items);\n",
       "        });\n",
       "      },\n",
       "      function(Bokeh) {\n",
       "      }\n",
       "    ];\n",
       "  \n",
       "    function run_inline_js() {\n",
       "      \n",
       "      if ((window.Bokeh !== undefined) || (force === \"1\")) {\n",
       "        for (var i = 0; i < inline_js.length; i++) {\n",
       "          inline_js[i](window.Bokeh);\n",
       "        }if (force === \"1\") {\n",
       "          display_loaded();\n",
       "        }} else if (Date.now() < window._bokeh_timeout) {\n",
       "        setTimeout(run_inline_js, 100);\n",
       "      } else if (!window._bokeh_failed_load) {\n",
       "        console.log(\"Bokeh: BokehJS failed to load within specified timeout.\");\n",
       "        window._bokeh_failed_load = true;\n",
       "      } else if (!force) {\n",
       "        var cell = $(\"#c64de95c-dadb-4285-9d1b-4b1f214af8fa\").parents('.cell').data().cell;\n",
       "        cell.output_area.append_execute_result(NB_LOAD_WARNING)\n",
       "      }\n",
       "  \n",
       "    }\n",
       "  \n",
       "    if (window._bokeh_is_loading === 0) {\n",
       "      console.log(\"Bokeh: BokehJS loaded, going straight to plotting\");\n",
       "      run_inline_js();\n",
       "    } else {\n",
       "      load_libs(js_urls, function() {\n",
       "        console.log(\"Bokeh: BokehJS plotting callback run at\", now());\n",
       "        run_inline_js();\n",
       "      });\n",
       "    }\n",
       "  }(this));\n",
       "</script>"
      ]
     },
     "metadata": {},
     "output_type": "display_data"
    }
   ],
   "source": [
    "# Plotining using bokeh\n",
    "#TOOLS = 'hover,box_zoom,box_select,crosshair,resize,reset,DecisionTreeRegressor_select,pan,save,poly_select,tap,wheel_zoom,undo'\n",
    "TOOLS = 'box_zoom,box_select,crosshair,resize,reset,lasso_select,pan,save,poly_select,tap,wheel_zoom,undo'\n",
    "p = figure(plot_width=500, plot_height=500, title=\"Residual plot on the training data\", tools=TOOLS)\n",
    "p.scatter(predicted, (predicted - Y),x=\"jjj\", marker=\"o\", color=\"#80B1D3\", line_width=3)\n",
    "p.title.align = \"center\"\n",
    "p.xaxis.axis_label = \"Predicted\"\n",
    "p.xaxis.axis_label_text_color = \"#aa6666\"\n",
    "#p.xaxis.axis_label_standoff = 30\n",
    "p.xaxis.major_tick_line_color = \"firebrick\"\n",
    "p.xaxis.major_tick_line_width = 3\n",
    "p.xaxis.minor_tick_line_color = \"orange\"\n",
    "p.yaxis.axis_label = \"Residuals\"\n",
    "p.yaxis.axis_label_text_font_style = \"italic\"\n",
    "p.yaxis.axis_label_text_color = \"#aa6666\"\n",
    "p.background_fill_color = \"beige\"\n",
    "p.background_fill_alpha = 0.5\n",
    "#p.line([2,38], [0, 0], line_dash=\"4 4\", line_width=2, color='red')\n",
    "show(p)"
   ]
  },
  {
   "cell_type": "markdown",
   "metadata": {},
   "source": [
    "## Pipeline"
   ]
  },
  {
   "cell_type": "markdown",
   "metadata": {},
   "source": [
    "The best to deliver the model by pipeline the operation then at deployment can be done in one model."
   ]
  },
  {
   "cell_type": "markdown",
   "metadata": {
    "collapsed": true
   },
   "source": [
    "  I used two ways to check the pipeline so any one can be fine"
   ]
  },
  {
   "cell_type": "code",
   "execution_count": 21,
   "metadata": {
    "collapsed": false
   },
   "outputs": [
    {
     "name": "stdout",
     "output_type": "stream",
     "text": [
      "0.999168793744\n",
      "Scoring according to mean_squared_error\n",
      "[-7068.35424419  -782.99597835  -139.677302    -303.9021791  -4825.92848366\n",
      "  -270.06432334  -282.77252119  -226.57023534 -1082.64430667 -6107.89356233]\n",
      "\n",
      " Mean      Standard deviation\n",
      "-2109.08      2611.07\n",
      "[ True  True  True  True  True  True  True]\n",
      "R-squared =  0.999168793744\n"
     ]
    }
   ],
   "source": [
    "# Use Pipeline\n",
    "# ANOVA \n",
    "from sklearn.pipeline import Pipeline\n",
    "from sklearn.feature_selection import SelectKBest, f_regression\n",
    "anova_filter = SelectKBest(f_regression, k=7)\n",
    "LR =  DecisionTreeRegressor(min_samples_split = 3, max_depth = 7, min_samples_leaf =1 )\n",
    "\n",
    "anova_LinReg = Pipeline([ ('anova', anova_filter), ('LinReg', LR)])\n",
    "# You can set the parameters using the names issued\n",
    "# For instance, fit using a k of 10 in the SelectKBest\n",
    "anova_LinReg.set_params(anova__k=7).fit(new_data, Y)\n",
    "prediction = anova_LinReg.predict(new_data)\n",
    "print anova_LinReg.score(new_data, Y)                        \n",
    "# getting the selected features chosen by anova_filter\n",
    "results = cross_validation.cross_val_score(anova_LinReg, new_data, Y, cv=kfold, scoring=scoring)\n",
    "print 'Scoring according to mean_squared_error'\n",
    "print results\n",
    "print '\\n Mean      Standard deviation'\n",
    "print(\"%.2f      %.2f\" % (results.mean(), results.std()))\n",
    "print anova_LinReg.named_steps['anova'].get_support()\n",
    "r_squared = r2_score(Y, prediction, multioutput='variance_weighted')\n",
    "print 'R-squared = ',r_squared"
   ]
  },
  {
   "cell_type": "code",
   "execution_count": 22,
   "metadata": {
    "collapsed": false
   },
   "outputs": [
    {
     "name": "stdout",
     "output_type": "stream",
     "text": [
      "R-squared =  0.999168793744\n"
     ]
    }
   ],
   "source": [
    "# Using make_pipeline\n",
    "from sklearn.pipeline import make_pipeline\n",
    "\n",
    "# ANOVA SVM-C\n",
    "# 1) anova filter, take 3 best ranked features\n",
    "anova_filter = SelectKBest(f_regression, k=7)\n",
    "anova_DTRegressorNoPreprocessing = make_pipeline( anova_filter, LR)\n",
    "anova_DTRegressorNoPreprocessing.fit(new_data, Y)\n",
    "prediction = anova_DTRegressorNoPreprocessing.predict(new_data)\n",
    "r_squared = r2_score(Y, prediction, multioutput='variance_weighted')\n",
    "print 'R-squared = ',r_squared"
   ]
  },
  {
   "cell_type": "markdown",
   "metadata": {},
   "source": [
    "### Save the Pipeline model for developement"
   ]
  },
  {
   "cell_type": "code",
   "execution_count": 23,
   "metadata": {
    "collapsed": false
   },
   "outputs": [
    {
     "data": {
      "text/plain": [
       "['anova_DTRegressorNoPreprocessing.pkl',\n",
       " 'anova_DTRegressorNoPreprocessing.pkl_01.npy',\n",
       " 'anova_DTRegressorNoPreprocessing.pkl_02.npy',\n",
       " 'anova_DTRegressorNoPreprocessing.pkl_03.npy',\n",
       " 'anova_DTRegressorNoPreprocessing.pkl_04.npy',\n",
       " 'anova_DTRegressorNoPreprocessing.pkl_05.npy']"
      ]
     },
     "execution_count": 23,
     "metadata": {},
     "output_type": "execute_result"
    }
   ],
   "source": [
    "# save the model scaler to the desk\n",
    "from sklearn.externals import joblib\n",
    "joblib.dump(anova_DTRegressorNoPreprocessing, 'anova_DTRegressorNoPreprocessing.pkl') "
   ]
  },
  {
   "cell_type": "code",
   "execution_count": 24,
   "metadata": {
    "collapsed": false
   },
   "outputs": [
    {
     "name": "stdout",
     "output_type": "stream",
     "text": [
      " =================================================================>>>>> done\n",
      "R-squared =  0.999168793744\n"
     ]
    }
   ],
   "source": [
    "# Test the model if it is work\n",
    "anova_DecisionTreeRegressorTest = joblib.load('anova_DTRegressorNoPreprocessing.pkl')\n",
    "NewPred = anova_DecisionTreeRegressorTest.predict(new_data)\n",
    "print \" =================================================================>>>>> done\"\n",
    "r_squared = r2_score(Y, NewPred, multioutput='variance_weighted')\n",
    "print 'R-squared = ',r_squared"
   ]
  },
  {
   "cell_type": "code",
   "execution_count": 25,
   "metadata": {
    "collapsed": false
   },
   "outputs": [
    {
     "name": "stdout",
     "output_type": "stream",
     "text": [
      "Point of training data before normalization\n",
      "[   50  2000 32000    24     6    26   114]\n",
      "\n",
      "The read target of the data =  182\n",
      "\n",
      "The Predicted target of the data =  [ 181.5]\n"
     ]
    }
   ],
   "source": [
    "# test on single data point, randomly choose point number 55\n",
    "print 'Point of training data before normalization\\n',new_data[55]\n",
    "print '\\nThe read target of the data = ', Y[55]\n",
    "NewPred = anova_DecisionTreeRegressorTest.predict([new_data[55]])\n",
    "print '\\nThe Predicted target of the data = ', NewPred"
   ]
  },
  {
   "cell_type": "markdown",
   "metadata": {},
   "source": [
    "## Conclusion "
   ]
  },
  {
   "cell_type": "code",
   "execution_count": null,
   "metadata": {
    "collapsed": true
   },
   "outputs": [],
   "source": []
  }
 ],
 "metadata": {
  "kernelspec": {
   "display_name": "Python 2",
   "language": "python",
   "name": "python2"
  },
  "language_info": {
   "codemirror_mode": {
    "name": "ipython",
    "version": 2
   },
   "file_extension": ".py",
   "mimetype": "text/x-python",
   "name": "python",
   "nbconvert_exporter": "python",
   "pygments_lexer": "ipython2",
   "version": "2.7.12"
  }
 },
 "nbformat": 4,
 "nbformat_minor": 0
}
