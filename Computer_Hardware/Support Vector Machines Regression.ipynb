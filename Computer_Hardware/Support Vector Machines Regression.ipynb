{
 "cells": [
  {
   "cell_type": "markdown",
   "metadata": {},
   "source": [
    "Salem Ameen, PhD student at Salford University\n",
    "\n",
    "### COMPUTER HARDWARE\n",
    "\n",
    "Support Vector Machines Regression"
   ]
  },
  {
   "cell_type": "markdown",
   "metadata": {},
   "source": [
    "# Import the Libraries"
   ]
  },
  {
   "cell_type": "code",
   "execution_count": 1,
   "metadata": {
    "collapsed": false
   },
   "outputs": [
    {
     "data": {
      "text/html": [
       "\n",
       "    <div class=\"bk-root\">\n",
       "        <a href=\"http://bokeh.pydata.org\" target=\"_blank\" class=\"bk-logo bk-logo-small bk-logo-notebook\"></a>\n",
       "        <span id=\"9f5ce552-5a42-4f2e-9d6f-faf9f9ee868e\">Loading BokehJS ...</span>\n",
       "    </div>"
      ]
     },
     "metadata": {},
     "output_type": "display_data"
    },
    {
     "data": {
      "application/javascript": [
       "\n",
       "(function(global) {\n",
       "  function now() {\n",
       "    return new Date();\n",
       "  }\n",
       "\n",
       "  var force = \"1\";\n",
       "\n",
       "  if (typeof (window._bokeh_onload_callbacks) === \"undefined\" || force !== \"\") {\n",
       "    window._bokeh_onload_callbacks = [];\n",
       "    window._bokeh_is_loading = undefined;\n",
       "  }\n",
       "\n",
       "\n",
       "  \n",
       "  if (typeof (window._bokeh_timeout) === \"undefined\" || force !== \"\") {\n",
       "    window._bokeh_timeout = Date.now() + 5000;\n",
       "    window._bokeh_failed_load = false;\n",
       "  }\n",
       "\n",
       "  var NB_LOAD_WARNING = {'data': {'text/html':\n",
       "     \"<div style='background-color: #fdd'>\\n\"+\n",
       "     \"<p>\\n\"+\n",
       "     \"BokehJS does not appear to have successfully loaded. If loading BokehJS from CDN, this \\n\"+\n",
       "     \"may be due to a slow or bad network connection. Possible fixes:\\n\"+\n",
       "     \"</p>\\n\"+\n",
       "     \"<ul>\\n\"+\n",
       "     \"<li>re-rerun `output_notebook()` to attempt to load from CDN again, or</li>\\n\"+\n",
       "     \"<li>use INLINE resources instead, as so:</li>\\n\"+\n",
       "     \"</ul>\\n\"+\n",
       "     \"<code>\\n\"+\n",
       "     \"from bokeh.resources import INLINE\\n\"+\n",
       "     \"output_notebook(resources=INLINE)\\n\"+\n",
       "     \"</code>\\n\"+\n",
       "     \"</div>\"}};\n",
       "\n",
       "  function display_loaded() {\n",
       "    if (window.Bokeh !== undefined) {\n",
       "      Bokeh.$(\"#9f5ce552-5a42-4f2e-9d6f-faf9f9ee868e\").text(\"BokehJS successfully loaded.\");\n",
       "    } else if (Date.now() < window._bokeh_timeout) {\n",
       "      setTimeout(display_loaded, 100)\n",
       "    }\n",
       "  }\n",
       "\n",
       "  function run_callbacks() {\n",
       "    window._bokeh_onload_callbacks.forEach(function(callback) { callback() });\n",
       "    delete window._bokeh_onload_callbacks\n",
       "    console.info(\"Bokeh: all callbacks have finished\");\n",
       "  }\n",
       "\n",
       "  function load_libs(js_urls, callback) {\n",
       "    window._bokeh_onload_callbacks.push(callback);\n",
       "    if (window._bokeh_is_loading > 0) {\n",
       "      console.log(\"Bokeh: BokehJS is being loaded, scheduling callback at\", now());\n",
       "      return null;\n",
       "    }\n",
       "    if (js_urls == null || js_urls.length === 0) {\n",
       "      run_callbacks();\n",
       "      return null;\n",
       "    }\n",
       "    console.log(\"Bokeh: BokehJS not loaded, scheduling load and callback at\", now());\n",
       "    window._bokeh_is_loading = js_urls.length;\n",
       "    for (var i = 0; i < js_urls.length; i++) {\n",
       "      var url = js_urls[i];\n",
       "      var s = document.createElement('script');\n",
       "      s.src = url;\n",
       "      s.async = false;\n",
       "      s.onreadystatechange = s.onload = function() {\n",
       "        window._bokeh_is_loading--;\n",
       "        if (window._bokeh_is_loading === 0) {\n",
       "          console.log(\"Bokeh: all BokehJS libraries loaded\");\n",
       "          run_callbacks()\n",
       "        }\n",
       "      };\n",
       "      s.onerror = function() {\n",
       "        console.warn(\"failed to load library \" + url);\n",
       "      };\n",
       "      console.log(\"Bokeh: injecting script tag for BokehJS library: \", url);\n",
       "      document.getElementsByTagName(\"head\")[0].appendChild(s);\n",
       "    }\n",
       "  };var element = document.getElementById(\"9f5ce552-5a42-4f2e-9d6f-faf9f9ee868e\");\n",
       "  if (element == null) {\n",
       "    console.log(\"Bokeh: ERROR: autoload.js configured with elementid '9f5ce552-5a42-4f2e-9d6f-faf9f9ee868e' but no matching script tag was found. \")\n",
       "    return false;\n",
       "  }\n",
       "\n",
       "  var js_urls = ['https://cdn.pydata.org/bokeh/release/bokeh-0.12.2.min.js', 'https://cdn.pydata.org/bokeh/release/bokeh-widgets-0.12.2.min.js', 'https://cdn.pydata.org/bokeh/release/bokeh-compiler-0.12.2.min.js'];\n",
       "\n",
       "  var inline_js = [\n",
       "    function(Bokeh) {\n",
       "      Bokeh.set_log_level(\"info\");\n",
       "    },\n",
       "    \n",
       "    function(Bokeh) {\n",
       "      \n",
       "      Bokeh.$(\"#9f5ce552-5a42-4f2e-9d6f-faf9f9ee868e\").text(\"BokehJS is loading...\");\n",
       "    },\n",
       "    function(Bokeh) {\n",
       "      console.log(\"Bokeh: injecting CSS: https://cdn.pydata.org/bokeh/release/bokeh-0.12.2.min.css\");\n",
       "      Bokeh.embed.inject_css(\"https://cdn.pydata.org/bokeh/release/bokeh-0.12.2.min.css\");\n",
       "      console.log(\"Bokeh: injecting CSS: https://cdn.pydata.org/bokeh/release/bokeh-widgets-0.12.2.min.css\");\n",
       "      Bokeh.embed.inject_css(\"https://cdn.pydata.org/bokeh/release/bokeh-widgets-0.12.2.min.css\");\n",
       "    }\n",
       "  ];\n",
       "\n",
       "  function run_inline_js() {\n",
       "    \n",
       "    if ((window.Bokeh !== undefined) || (force === \"1\")) {\n",
       "      for (var i = 0; i < inline_js.length; i++) {\n",
       "        inline_js[i](window.Bokeh);\n",
       "      }if (force === \"1\") {\n",
       "        display_loaded();\n",
       "      }} else if (Date.now() < window._bokeh_timeout) {\n",
       "      setTimeout(run_inline_js, 100);\n",
       "    } else if (!window._bokeh_failed_load) {\n",
       "      console.log(\"Bokeh: BokehJS failed to load within specified timeout.\");\n",
       "      window._bokeh_failed_load = true;\n",
       "    } else if (!force) {\n",
       "      var cell = $(\"#9f5ce552-5a42-4f2e-9d6f-faf9f9ee868e\").parents('.cell').data().cell;\n",
       "      cell.output_area.append_execute_result(NB_LOAD_WARNING)\n",
       "    }\n",
       "\n",
       "  }\n",
       "\n",
       "  if (window._bokeh_is_loading === 0) {\n",
       "    console.log(\"Bokeh: BokehJS loaded, going straight to plotting\");\n",
       "    run_inline_js();\n",
       "  } else {\n",
       "    load_libs(js_urls, function() {\n",
       "      console.log(\"Bokeh: BokehJS plotting callback run at\", now());\n",
       "      run_inline_js();\n",
       "    });\n",
       "  }\n",
       "}(this));"
      ]
     },
     "metadata": {},
     "output_type": "display_data"
    }
   ],
   "source": [
    "import numpy as np\n",
    "import pandas\n",
    "from numpy import *\n",
    "import time\n",
    "import sys\n",
    "import pandas as pd\n",
    "import matplotlib.pyplot as plt\n",
    "from sklearn import feature_selection\n",
    "from sklearn.svm import SVR\n",
    "from sklearn.learning_curve import learning_curve, validation_curve\n",
    "from sklearn.cross_validation import cross_val_predict\n",
    "from sklearn import metrics, grid_search, cross_validation\n",
    "from IPython.display import set_matplotlib_formats\n",
    "from bokeh.plotting import figure, show, output_notebook\n",
    "from sklearn.grid_search import GridSearchCV, RandomizedSearchCV\n",
    "from sklearn.metrics import r2_score\n",
    "from bokeh.layouts import gridplot\n",
    "output_notebook()\n",
    "set_matplotlib_formats('png', 'pdf')\n",
    "%matplotlib inline\n",
    "plt.rcParams['figure.figsize'] = (6, 6)"
   ]
  },
  {
   "cell_type": "markdown",
   "metadata": {},
   "source": [
    "# Load data"
   ]
  },
  {
   "cell_type": "markdown",
   "metadata": {},
   "source": [
    "In the previous file we have not change the data as there is no missing value or add any new parameters so it can be downloaded from the web directly. "
   ]
  },
  {
   "cell_type": "code",
   "execution_count": 2,
   "metadata": {
    "collapsed": false
   },
   "outputs": [
    {
     "name": "stdout",
     "output_type": "stream",
     "text": [
      "Number of examples 209\n"
     ]
    }
   ],
   "source": [
    "url = 'http://archive.ics.uci.edu/ml/machine-learning-databases/cpu-performance/machine.data'\n",
    "names = ['vendor', 'Model', 'MYCT', 'MMIN', 'MMAX', 'CACH', 'CHMIN','CHMAX','PRP','ERP']\n",
    "feature_names = ['MYCT', 'MMIN', 'MMAX', 'CACH', 'CHMIN','CHMAX','PRP','ERP']\n",
    "feature_cols = ['MYCT', 'MMIN', 'MMAX', 'CACH', 'CHMIN','CHMAX','PRP','ERP']\n",
    "data = pd.read_csv(url, sep=',', names = names)\n",
    "data = data.drop('vendor',1)\n",
    "data = data.drop('Model',1)\n",
    "\n",
    "from sklearn import preprocessing\n",
    "\n",
    "def number_encode_features(df):\n",
    "    result = df.copy()\n",
    "    encoders = {}\n",
    "    for column in result.columns:\n",
    "        if result.dtypes[column] == np.object:\n",
    "            encoders[column] = preprocessing.LabelEncoder()\n",
    "            result[column] = encoders[column].fit_transform(result[column])\n",
    "    return result, encoders\n",
    "\n",
    "data, _ = number_encode_features(data)\n",
    "\n",
    "dataset = data.values\n",
    "X = dataset[:,0:7]\n",
    "Y = dataset[:,7]\n",
    "print 'Number of examples',len(X)"
   ]
  },
  {
   "cell_type": "code",
   "execution_count": 3,
   "metadata": {
    "collapsed": false
   },
   "outputs": [
    {
     "name": "stdout",
     "output_type": "stream",
     "text": [
      "Number of training examples 167\n",
      "Number of validation examples 42\n"
     ]
    }
   ],
   "source": [
    "# Make developement dataset for genrilization and final testing\n",
    "from sklearn.cross_validation import train_test_split\n",
    "# Extracting 20% testing data\n",
    "X_train, X_test, y_train, y_test = train_test_split(\n",
    "    X, Y, test_size=0.20, random_state=0)\n",
    "X = X_train\n",
    "Y = y_train\n",
    "new_data      = X_train\n",
    "new_test_data = X_test\n",
    "print 'Number of training examples',len(X_train)\n",
    "print 'Number of validation examples',len(X_test)"
   ]
  },
  {
   "cell_type": "markdown",
   "metadata": {},
   "source": [
    "Number of training data is very small so we need to use cross validation instead of spareate another validation data."
   ]
  },
  {
   "cell_type": "markdown",
   "metadata": {},
   "source": [
    "From the previous visulization the data has no missing value but has many outlier and some sparisty"
   ]
  },
  {
   "cell_type": "markdown",
   "metadata": {},
   "source": [
    "# Ranking of the feature's importance to the target"
   ]
  },
  {
   "cell_type": "code",
   "execution_count": 4,
   "metadata": {
    "collapsed": false
   },
   "outputs": [
    {
     "name": "stdout",
     "output_type": "stream",
     "text": [
      "MYCT \t-0.0952884541289\n",
      "MMIN \t-0.0439899911117\n",
      "MMAX \t-0.0318794452305\n",
      "CACH \t-0.0245181702581\n",
      "CHMIN \t-0.0205743284055\n",
      "CHMAX \t-0.0815895990149\n",
      "PRP \t-0.109482454803\n",
      "ERP \t-0.109566695237\n"
     ]
    }
   ],
   "source": [
    "# Using just correlation coefficient even in prevoius file we show them using data frame\n",
    "for col in feature_cols:\n",
    "    lm = SVR()\n",
    "    lm.fit(data[[col]], data['ERP'])\n",
    "    print col,'\\t', lm.score(data[[col]], data['ERP'])"
   ]
  },
  {
   "cell_type": "code",
   "execution_count": 5,
   "metadata": {
    "collapsed": false
   },
   "outputs": [
    {
     "name": "stdout",
     "output_type": "stream",
     "text": [
      "Feature Name      Score         Pvalue\n",
      "MYCT \t\t18.7784506906 \t2.28953652773e-05\n",
      "MMIN \t\t422.636024187 \t6.7010130085e-52\n",
      "MMAX \t\t895.035239011 \t4.20559221576e-77\n",
      "CACH \t\t150.332889484 \t2.4462451136e-26\n",
      "CHMIN \t\t123.042583867 \t9.66488661491e-23\n",
      "CHMAX \t\t111.779441433 \t3.62169179267e-21\n",
      "PRP \t\t2932.57297327 \t3.42704839853e-124\n",
      "ERP \t\tinf \t0.0\n"
     ]
    }
   ],
   "source": [
    "# Randing the important features to the target\n",
    "model = feature_selection.SelectKBest(score_func=feature_selection.f_regression,k=4)\n",
    "results = model.fit(data[feature_cols], data['ERP'])\n",
    "k=0\n",
    "print 'Feature Name      Score         Pvalue'\n",
    "for feat in feature_cols:\n",
    "    print feat,'\\t\\t',results.scores_[k],'\\t',results.pvalues_[k]\n",
    "    k=k+1\n"
   ]
  },
  {
   "cell_type": "markdown",
   "metadata": {},
   "source": [
    "# Set the parameters for cross validation"
   ]
  },
  {
   "cell_type": "code",
   "execution_count": 6,
   "metadata": {
    "collapsed": true
   },
   "outputs": [],
   "source": [
    "num_folds = 10\n",
    "num_instances = len(X)\n",
    "seed = 7\n",
    "kfold = cross_validation.KFold(n=num_instances, n_folds=num_folds, random_state=seed)"
   ]
  },
  {
   "cell_type": "markdown",
   "metadata": {},
   "source": [
    " # Set the parameters for bias-variance dilemma"
   ]
  },
  {
   "cell_type": "code",
   "execution_count": 7,
   "metadata": {
    "collapsed": false
   },
   "outputs": [],
   "source": [
    "def plot_learning_curve(estimator, title, X, y, ylim=None, cv=None,\n",
    "                        n_jobs=1, train_sizes=np.linspace(.1, 1.0, 5)):\n",
    "    plt.figure()\n",
    "    plt.title(title)\n",
    "    if ylim is not None:\n",
    "        plt.ylim(*ylim)\n",
    "    plt.xlabel(\"Training examples\")\n",
    "    plt.ylabel(\"Score\")\n",
    "    train_sizes, train_scores, test_scores = learning_curve(\n",
    "        estimator, X, y, cv=cv, n_jobs=n_jobs, train_sizes=train_sizes)\n",
    "    train_scores_mean = np.mean(train_scores, axis=1)\n",
    "    train_scores_std = np.std(train_scores, axis=1)\n",
    "    test_scores_mean = np.mean(test_scores, axis=1)\n",
    "    test_scores_std = np.std(test_scores, axis=1)\n",
    "    plt.grid()\n",
    "\n",
    "    plt.fill_between(train_sizes, train_scores_mean - train_scores_std,\n",
    "                     train_scores_mean + train_scores_std, alpha=0.1,\n",
    "                     color=\"r\")\n",
    "    plt.fill_between(train_sizes, test_scores_mean - test_scores_std,\n",
    "                     test_scores_mean + test_scores_std, alpha=0.1, color=\"g\")\n",
    "    plt.plot(train_sizes, train_scores_mean, 'o-', color=\"r\",\n",
    "             label=\"Training score\")\n",
    "    plt.plot(train_sizes, test_scores_mean, 'o-', color=\"g\",\n",
    "             label=\"Cross-validation score\")\n",
    "\n",
    "    plt.legend(loc=\"best\")\n",
    "    return plt"
   ]
  },
  {
   "cell_type": "markdown",
   "metadata": {},
   "source": [
    "# Preprocessing the data and save both the model and preprocessed data"
   ]
  },
  {
   "cell_type": "code",
   "execution_count": 8,
   "metadata": {
    "collapsed": false
   },
   "outputs": [
    {
     "name": "stderr",
     "output_type": "stream",
     "text": [
      "/home/salm/anaconda2/lib/python2.7/site-packages/sklearn/utils/validation.py:420: DataConversionWarning: Data with input dtype int64 was converted to float64 by StandardScaler.\n",
      "  warnings.warn(msg, DataConversionWarning)\n"
     ]
    }
   ],
   "source": [
    "# According to the nature of the data spasity and there is outliter RobustScaler class is recomandit \n",
    "# but when I tried both of them the result seems is same\n",
    "from sklearn.preprocessing import StandardScaler\n",
    "scaler = preprocessing.StandardScaler().fit(X_train)"
   ]
  },
  {
   "cell_type": "code",
   "execution_count": 9,
   "metadata": {
    "collapsed": false
   },
   "outputs": [
    {
     "name": "stderr",
     "output_type": "stream",
     "text": [
      "/home/salm/anaconda2/lib/python2.7/site-packages/sklearn/utils/validation.py:420: DataConversionWarning: Data with input dtype int64 was converted to float64 by StandardScaler.\n",
      "  warnings.warn(msg, DataConversionWarning)\n",
      "/home/salm/anaconda2/lib/python2.7/site-packages/sklearn/utils/validation.py:420: DataConversionWarning: Data with input dtype int64 was converted to float64 by StandardScaler.\n",
      "  warnings.warn(msg, DataConversionWarning)\n"
     ]
    }
   ],
   "source": [
    "X_train = scaler.transform(X_train)\n",
    "X_test = scaler.transform(X_test) # use same transform for testing data\n",
    "X = X_train"
   ]
  },
  {
   "cell_type": "code",
   "execution_count": 10,
   "metadata": {
    "collapsed": true
   },
   "outputs": [],
   "source": [
    "# save transformed data\n",
    "np.save('./data/X_train', X_train)\n",
    "np.save('./data/y_train', y_train)\n",
    "np.save('./data/X_test', X_test)\n",
    "np.save('./data/y_test', y_test)"
   ]
  },
  {
   "cell_type": "code",
   "execution_count": 11,
   "metadata": {
    "collapsed": false
   },
   "outputs": [
    {
     "data": {
      "text/plain": [
       "['scaler.pkl', 'scaler.pkl_01.npy', 'scaler.pkl_02.npy', 'scaler.pkl_03.npy']"
      ]
     },
     "execution_count": 11,
     "metadata": {},
     "output_type": "execute_result"
    }
   ],
   "source": [
    "# save the model scaler to the desk\n",
    "from sklearn.externals import joblib\n",
    "joblib.dump(scaler, 'scaler.pkl') "
   ]
  },
  {
   "cell_type": "code",
   "execution_count": 12,
   "metadata": {
    "collapsed": false
   },
   "outputs": [
    {
     "name": "stdout",
     "output_type": "stream",
     "text": [
      " =================================================================>>>>> done\n",
      "[[-0.59364305 -0.20866821 -0.31349377  0.98611582 -0.51650809 -0.39068313\n",
      "  -0.09019932]\n",
      " [ 0.43869005 -0.4699337  -0.72397006 -0.63206819 -0.38024134 -0.53321526\n",
      "  -0.54180082]\n",
      " [-0.6318776  -0.04668361 -0.10989753  0.11478597  0.98242613  0.17944539\n",
      "  -0.26252094]\n",
      " [-0.72364055  1.35892472  1.65679241  0.96122068  0.43735914  0.46450965\n",
      "   1.25272091]\n",
      " [-0.55540849  0.31386277  0.01488726 -0.43290708  0.16482565 -0.39068313\n",
      "  -0.19121544]\n",
      " [ 0.43869005 -0.4699337  -0.80606531 -0.63206819 -0.51650809 -0.60448133\n",
      "  -0.54180082]\n",
      " [-0.13482833 -0.20866821  0.34326829 -0.23374597 -0.51650809 -0.4619492\n",
      "  -0.24469457]\n",
      " [ 4.91213348 -0.53054729 -0.88816057 -0.63206819 -0.65277484 -0.67574739\n",
      "  -0.56556931]\n",
      " [-0.28776657 -0.20866821  1.65679241  0.16457625 -0.51650809  1.24843637\n",
      "   0.2009648 ]\n",
      " [-0.63952452  0.31386277  1.00003035  0.16457625  0.43735914  0.17944539\n",
      "   0.63473992]\n",
      " [-0.31453076 -0.4699337  -0.31349377 -0.40801194 -0.2439746  -0.248151\n",
      "  -0.20904182]\n",
      " [-0.70834672  3.44904862  1.65679241  5.74108728  1.52749312  0.17944539\n",
      "   2.39360889]\n",
      " [-0.28776657 -0.4699337   0.34326829 -0.23374597 -0.51650809 -0.56884829\n",
      "   0.18313842]\n",
      " [-0.5974665   1.35892472  0.34326829  0.96122068  0.98242613  0.17944539\n",
      "   0.48024467]\n",
      " [-0.72364055  3.44904862  1.65679241  0.96122068  0.43735914  0.17944539\n",
      "   2.12621327]\n",
      " [-0.28776657 -0.20866821 -0.6418748  -0.63206819 -0.10770785 -0.39068313\n",
      "  -0.39918982]\n",
      " [-0.44835172 -0.4699337  -0.31349377  0.16457625 -0.38024134 -0.39068313\n",
      "  -0.36353707]\n",
      " [-0.6318776  -0.4699337  -0.6418748  -0.43290708 -0.51650809 -0.49758223\n",
      "  -0.46455319]\n",
      " [-0.47893937 -0.66431522 -0.88816057 -0.63206819 -0.2439746  -0.31941706\n",
      "  -0.53585869]\n",
      " [-0.2762962  -0.4699337  -0.80606531 -0.63206819  0.0285589  -0.10561887\n",
      "  -0.45266894]\n",
      " [-0.05835922 -0.4699337  -0.80606531 -0.63206819 -0.51650809 -0.60448133\n",
      "  -0.48832169]\n",
      " [-0.05835922 -0.59743125  0.34326829 -0.63206819 -0.10770785  0.46450965\n",
      "  -0.42890044]\n",
      " [-0.73511091  3.44904862  1.65679241  0.96122068  1.52749312  0.46450965\n",
      "   2.26882427]\n",
      " [-0.40247025 -0.4699337   0.01488726 -0.23374597 -0.51650809 -0.60448133\n",
      "  -0.28034732]\n",
      " [-0.28776657 -0.20866821 -0.6418748  -0.43290708 -0.51650809  0.03691326\n",
      "  -0.50614807]\n",
      " [-0.6318776  -0.20866821  0.34326829 -0.33332653 -0.2439746  -0.10561887\n",
      "  -0.36947919]\n",
      " [-0.6318776  -0.20866821 -0.6418748  -0.63206819 -0.2439746  -0.4619492\n",
      "  -0.47643744]\n",
      " [ 2.23571434 -0.53054729 -0.80606531 -0.63206819 -0.65277484 -0.67574739\n",
      "  -0.51803232]\n",
      " [-0.5018801  -0.4699337  -0.80606531 -0.63206819 -0.51650809 -0.4619492\n",
      "  -0.56556931]\n",
      " [-0.42158753 -0.20866821 -0.47768428 -0.23374597  0.16482565 -0.10561887\n",
      "  -0.44078469]\n",
      " [ 0.32398638 -0.53054729  0.01488726 -0.48269736  0.16482565  0.17944539\n",
      "  -0.33976857]\n",
      " [-0.54776157 -0.20866821 -0.31349377 -0.23374597  0.16482565 -0.39068313\n",
      "  -0.0129517 ]\n",
      " [-0.38335297 -0.20866821 -0.31349377 -0.23374597 -0.51650809 -0.56884829\n",
      "  -0.33976857]\n",
      " [-0.53629121  0.05259728 -0.31349377 -0.43290708 -0.2439746   1.03463817\n",
      "  -0.25657882]\n",
      " [-0.62423069  0.31386277  0.34326829  0.16457625 -0.10770785 -0.248151\n",
      "   0.13560143]\n",
      " [-0.59364305 -0.20866821  0.34326829  0.96122068  0.0285589  -0.39068313\n",
      "  -0.19715757]\n",
      " [-0.21129745 -0.59743125 -0.6418748  -0.58227791 -0.51650809 -0.49758223\n",
      "  -0.45861107]\n",
      " [-0.727464   -0.20866821  0.01488726 -0.43290708 -0.51650809 -0.53321526\n",
      "  -0.34571069]\n",
      " [-0.18453326 -0.59429607 -0.80606531 -0.43290708 -0.10770785 -0.1412519\n",
      "  -0.52397444]\n",
      " [-0.6318776  -0.20866821  0.34326829 -0.03458486  0.16482565 -0.10561887\n",
      "  -0.31600007]\n",
      " [-0.72364055  1.35892472  1.00003035  0.16457625  0.43735914 -0.10561887\n",
      "   0.3911128 ]\n",
      " [-0.2762962  -0.13028856 -0.46126523 -0.63206819  0.16482565  1.6047667\n",
      "  -0.27440519]]\n"
     ]
    },
    {
     "name": "stderr",
     "output_type": "stream",
     "text": [
      "/home/salm/anaconda2/lib/python2.7/site-packages/sklearn/utils/validation.py:420: DataConversionWarning: Data with input dtype int64 was converted to float64 by StandardScaler.\n",
      "  warnings.warn(msg, DataConversionWarning)\n"
     ]
    }
   ],
   "source": [
    "# Test the model if it is work\n",
    "scalerTest = joblib.load('scaler.pkl')\n",
    "new_data_scaled = scalerTest.transform(new_test_data)\n",
    "print \" =================================================================>>>>> done\"\n",
    "print new_data_scaled"
   ]
  },
  {
   "cell_type": "markdown",
   "metadata": {},
   "source": [
    "# 1. SVR Regression"
   ]
  },
  {
   "cell_type": "markdown",
   "metadata": {},
   "source": [
    "Support Vector Machines (SVM) were developed for binary classification. The technique has been extended for the prediction real-valued problems called Support Vector Regression (SVR). Like the classification example, SVR is built upon the LIBSVM library."
   ]
  },
  {
   "cell_type": "markdown",
   "metadata": {},
   "source": [
    "## Validation curve"
   ]
  },
  {
   "cell_type": "markdown",
   "metadata": {},
   "source": [
    "choosing multiple hyperparameters of an estimator "
   ]
  },
  {
   "cell_type": "code",
   "execution_count": 13,
   "metadata": {
    "collapsed": false
   },
   "outputs": [
    {
     "data": {
      "text/plain": [
       "['kernel',\n",
       " 'C',\n",
       " 'verbose',\n",
       " 'degree',\n",
       " 'epsilon',\n",
       " 'shrinking',\n",
       " 'max_iter',\n",
       " 'tol',\n",
       " 'cache_size',\n",
       " 'coef0',\n",
       " 'gamma']"
      ]
     },
     "execution_count": 13,
     "metadata": {},
     "output_type": "execute_result"
    }
   ],
   "source": [
    "from sklearn.svm import SVR\n",
    "estimator = SVR()\n",
    "estimator.get_params().keys()"
   ]
  },
  {
   "cell_type": "code",
   "execution_count": 14,
   "metadata": {
    "collapsed": false
   },
   "outputs": [
    {
     "data": {
      "image/png": "[encoded data removed]",
      "text/plain": [
       "<matplotlib.figure.Figure at 0x7f8308808150>"
      ]
     },
     "metadata": {},
     "output_type": "display_data"
    }
   ],
   "source": [
    "# For parametr alpha\n",
    "#param_range = np.logspace(-10.0, 10.0)\n",
    "#param_range = np.linspace(1,50,100)\n",
    "param_range = np.arange(1,50) # generate integer numbers\n",
    "\n",
    "train_scores, test_scores = validation_curve(\n",
    "    SVR(), X, Y, param_name=\"C\", param_range=param_range,\n",
    "    cv=num_folds,  n_jobs=-1)\n",
    "train_scores_mean = np.mean(train_scores, axis=1)\n",
    "train_scores_std = np.std(train_scores, axis=1)\n",
    "test_scores_mean = np.mean(test_scores, axis=1)\n",
    "test_scores_std = np.std(test_scores, axis=1)\n",
    "\n",
    "plt.title(\"Validation Curve with SVR\")\n",
    "plt.xlabel(\"C\")\n",
    "plt.ylabel(\"Score\")\n",
    "plt.ylim(0.4, 1.0)\n",
    "plt.plot(param_range, train_scores_mean, label=\"Training score\", color=\"r\")\n",
    "plt.fill_between(param_range, train_scores_mean - train_scores_std,\n",
    "                 train_scores_mean + train_scores_std, alpha=0.2, color=\"r\")\n",
    "plt.plot(param_range, test_scores_mean, label=\"Cross-validation score\",\n",
    "             color=\"g\")\n",
    "plt.fill_between(param_range, test_scores_mean - test_scores_std,\n",
    "                 test_scores_mean + test_scores_std, alpha=0.2, color=\"g\")\n",
    "plt.legend(loc=\"best\")\n",
    "plt.show()"
   ]
  },
  {
   "cell_type": "markdown",
   "metadata": {},
   "source": [
    "more that 5 is the best of C"
   ]
  },
  {
   "cell_type": "code",
   "execution_count": 15,
   "metadata": {
    "collapsed": false
   },
   "outputs": [
    {
     "data": {
      "image/png": "[encoded data removed]",
      "text/plain": [
       "<matplotlib.figure.Figure at 0x7f8304213690>"
      ]
     },
     "metadata": {},
     "output_type": "display_data"
    }
   ],
   "source": [
    "# For parametr alpha\n",
    "#param_range = np.logspace(-10.0, 10.0)\n",
    "#param_range = np.linspace(1,50,100)\n",
    "param_range = np.arange(0,10) # generate integer numbers\n",
    "\n",
    "train_scores, test_scores = validation_curve(\n",
    "    SVR(), X, Y, param_name=\"epsilon\", param_range=param_range,\n",
    "    cv=num_folds,  n_jobs=-1)\n",
    "train_scores_mean = np.mean(train_scores, axis=1)\n",
    "train_scores_std = np.std(train_scores, axis=1)\n",
    "test_scores_mean = np.mean(test_scores, axis=1)\n",
    "test_scores_std = np.std(test_scores, axis=1)\n",
    "\n",
    "plt.title(\"Validation Curve with SVR\")\n",
    "plt.xlabel(\"epsilon\")\n",
    "plt.ylabel(\"Score\")\n",
    "plt.ylim(0.4, 1.0)\n",
    "plt.plot(param_range, train_scores_mean, label=\"Training score\", color=\"r\")\n",
    "plt.fill_between(param_range, train_scores_mean - train_scores_std,\n",
    "                 train_scores_mean + train_scores_std, alpha=0.2, color=\"r\")\n",
    "plt.plot(param_range, test_scores_mean, label=\"Cross-validation score\",\n",
    "             color=\"g\")\n",
    "plt.fill_between(param_range, test_scores_mean - test_scores_std,\n",
    "                 test_scores_mean + test_scores_std, alpha=0.2, color=\"g\")\n",
    "plt.legend(loc=\"best\")\n",
    "plt.show()"
   ]
  },
  {
   "cell_type": "markdown",
   "metadata": {},
   "source": [
    "epsilon less than  1 is the best (default=0.1)"
   ]
  },
  {
   "cell_type": "markdown",
   "metadata": {},
   "source": [
    "## Grid search and/or Random search to determine best compination of parameters"
   ]
  },
  {
   "cell_type": "code",
   "execution_count": 16,
   "metadata": {
    "collapsed": false
   },
   "outputs": [
    {
     "name": "stdout",
     "output_type": "stream",
     "text": [
      "Hyperparameter optimization using GridSearchCV...\n",
      "Parameters with rank: 1\n",
      "Mean validation score: 0.9098 (std: 0.0475)\n",
      "Parameters: {'kernel': 'linear', 'C': 5.454545454545455}\n",
      "\n",
      "Parameters with rank: 2\n",
      "Mean validation score: 0.9094 (std: 0.0493)\n",
      "Parameters: {'kernel': 'linear', 'C': 4.9595959595959602}\n",
      "\n",
      "Parameters with rank: 3\n",
      "Mean validation score: 0.9092 (std: 0.0460)\n",
      "Parameters: {'kernel': 'linear', 'C': 6.4444444444444446}\n",
      "\n",
      "Parameters with rank: 4\n",
      "Mean validation score: 0.9092 (std: 0.0469)\n",
      "Parameters: {'kernel': 'linear', 'C': 5.9494949494949498}\n",
      "\n",
      "Parameters with rank: 5\n",
      "Mean validation score: 0.9085 (std: 0.0520)\n",
      "Parameters: {'kernel': 'linear', 'C': 4.4646464646464654}\n",
      "\n",
      "+++++++++++++++++++++++++++++++++++++++++++++++\n",
      "Hyperparameter optimization using RandomizedSearchCV\n",
      "Parameters with rank: 1\n",
      "Mean validation score: 0.5287 (std: 0.3623)\n",
      "Parameters: {'kernel': 'rbf', 'C': 10}\n",
      "\n",
      "Parameters with rank: 2\n",
      "Mean validation score: 0.0702 (std: 0.1614)\n",
      "Parameters: {'kernel': 'rbf', 'C': 1}\n",
      "\n",
      "Parameters with rank: 3\n",
      "Mean validation score: -0.1922 (std: 0.0845)\n",
      "Parameters: {'kernel': 'sigmoid', 'C': 1}\n",
      "\n",
      "Parameters with rank: 4\n",
      "Mean validation score: -0.1922 (std: 0.0845)\n",
      "Parameters: {'kernel': 'sigmoid', 'C': 5}\n",
      "\n",
      "Parameters with rank: 5\n",
      "Mean validation score: -0.1922 (std: 0.0845)\n",
      "Parameters: {'kernel': 'sigmoid', 'C': 10}\n",
      "\n"
     ]
    }
   ],
   "source": [
    "# Utility function to report optimal parameters\n",
    "from operator import itemgetter\n",
    "def report(grid_scores, n_top=5):\n",
    "    params = None\n",
    "    top_scores = sorted(grid_scores, key=itemgetter(1), reverse=True)[:n_top]\n",
    "    for i, score in enumerate(top_scores):\n",
    "        print(\"Parameters with rank: {0}\".format(i + 1))\n",
    "        print(\"Mean validation score: {0:.4f} (std: {1:.4f})\".format(\n",
    "              score.mean_validation_score, np.std(score.cv_validation_scores)))\n",
    "        print(\"Parameters: {0}\".format(score.parameters))\n",
    "        print(\"\")\n",
    "        \n",
    "        if params == None:\n",
    "            params = score.parameters\n",
    "    \n",
    "    return params\n",
    "\n",
    "# The most common value for the max number of features to look at in each split is sqrt(# of features)\n",
    "sqrtfeat = np.sqrt(X.shape[1]) \n",
    "grid_test1 = { \"C\"      : np.linspace(1,50,100) ,\n",
    "                \"kernel\"      : [ \"linear\", \"rbf\", \"poly\", \"sigmoid\"]}\n",
    "\n",
    "# Large randomized test using max_depth to control tree size (5000 possible combinations)\n",
    "random_test1 = { \"C\"      : [1,5,10],\n",
    "                \"kernel\"      : [ \"linear\", \"rbf\", \"poly\", \"sigmoid\"]}\n",
    "\n",
    "\n",
    "forest = SVR()\n",
    "\n",
    "print \"Hyperparameter optimization using GridSearchCV...\"\n",
    "grid_search = GridSearchCV(forest, grid_test1, n_jobs=-1, cv=num_folds)\n",
    "grid_search.fit(X, Y)\n",
    "best_params_from_grid_search = report(grid_search.grid_scores_)\n",
    "print '+++++++++++++++++++++++++++++++++++++++++++++++'\n",
    "print \"Hyperparameter optimization using RandomizedSearchCV\"\n",
    "grid_search = RandomizedSearchCV(forest, random_test1, n_jobs=-1, cv=num_folds, n_iter=5)\n",
    "grid_search.fit(X, Y)\n",
    "best_params_from_rand_search1 = report(grid_search.grid_scores_)"
   ]
  },
  {
   "cell_type": "markdown",
   "metadata": {},
   "source": [
    "Parameters: {'kernel': 'rbf', 'C': 50.0}"
   ]
  },
  {
   "cell_type": "code",
   "execution_count": 17,
   "metadata": {
    "collapsed": false
   },
   "outputs": [
    {
     "data": {
      "image/png": "[encoded data removed]",
      "text/plain": [
       "<matplotlib.figure.Figure at 0x7f830420e250>"
      ]
     },
     "metadata": {},
     "output_type": "display_data"
    }
   ],
   "source": [
    "# Value of gamma on rbf\n",
    "#param_range = np.logspace(-10.0, 10.0)\n",
    "param_range = np.linspace(0,10,100)\n",
    "#param_range = np.arange(0,10) # generate integer numbers\n",
    "\n",
    "train_scores, test_scores = validation_curve(\n",
    "    SVR(kernel=\"rbf\", C=50), X, Y, param_name=\"gamma\", param_range=param_range,\n",
    "    cv=num_folds,  n_jobs=-1)\n",
    "train_scores_mean = np.mean(train_scores, axis=1)\n",
    "train_scores_std = np.std(train_scores, axis=1)\n",
    "test_scores_mean = np.mean(test_scores, axis=1)\n",
    "test_scores_std = np.std(test_scores, axis=1)\n",
    "\n",
    "plt.title(\"Validation Curve with SVR\")\n",
    "plt.xlabel(\"gamma\")\n",
    "plt.ylabel(\"Score\")\n",
    "plt.ylim(0.4, 1.0)\n",
    "plt.plot(param_range, train_scores_mean, label=\"Training score\", color=\"r\")\n",
    "plt.fill_between(param_range, train_scores_mean - train_scores_std,\n",
    "                 train_scores_mean + train_scores_std, alpha=0.2, color=\"r\")\n",
    "plt.plot(param_range, test_scores_mean, label=\"Cross-validation score\",\n",
    "             color=\"g\")\n",
    "plt.fill_between(param_range, test_scores_mean - test_scores_std,\n",
    "                 test_scores_mean + test_scores_std, alpha=0.2, color=\"g\")\n",
    "plt.legend(loc=\"best\")\n",
    "plt.show()"
   ]
  },
  {
   "cell_type": "code",
   "execution_count": 18,
   "metadata": {
    "collapsed": false
   },
   "outputs": [
    {
     "name": "stdout",
     "output_type": "stream",
     "text": [
      "Hyperparameter optimization using GridSearchCV...\n",
      "Parameters with rank: 1\n",
      "Mean validation score: 0.6225 (std: 0.3573)\n",
      "Parameters: {'C': 20.0, 'gamma': 0.0}\n",
      "\n",
      "Parameters with rank: 2\n",
      "Mean validation score: 0.6066 (std: 0.3607)\n",
      "Parameters: {'C': 17.888888888888889, 'gamma': 0.0}\n",
      "\n",
      "Parameters with rank: 3\n",
      "Mean validation score: 0.5888 (std: 0.3634)\n",
      "Parameters: {'C': 15.777777777777779, 'gamma': 0.0}\n",
      "\n",
      "Parameters with rank: 4\n",
      "Mean validation score: 0.5703 (std: 0.3647)\n",
      "Parameters: {'C': 13.666666666666668, 'gamma': 0.0}\n",
      "\n",
      "Parameters with rank: 5\n",
      "Mean validation score: 0.5488 (std: 0.3644)\n",
      "Parameters: {'C': 11.555555555555555, 'gamma': 0.0}\n",
      "\n",
      "+++++++++++++++++++++++++++++++++++++++++++++++\n",
      "Hyperparameter optimization using RandomizedSearchCV\n",
      "Parameters with rank: 1\n",
      "Mean validation score: 0.7038 (std: 0.3226)\n",
      "Parameters: {'C': 50, 'gamma': 0}\n",
      "\n",
      "Parameters with rank: 2\n",
      "Mean validation score: 0.5287 (std: 0.3623)\n",
      "Parameters: {'C': 10, 'gamma': 0}\n",
      "\n",
      "Parameters with rank: 3\n",
      "Mean validation score: 0.1749 (std: 0.2101)\n",
      "Parameters: {'C': 10, 'gamma': 2}\n",
      "\n",
      "Parameters with rank: 4\n",
      "Mean validation score: 0.1727 (std: 0.2141)\n",
      "Parameters: {'C': 5, 'gamma': 1}\n",
      "\n",
      "Parameters with rank: 5\n",
      "Mean validation score: 0.0702 (std: 0.1614)\n",
      "Parameters: {'C': 1, 'gamma': 0}\n",
      "\n"
     ]
    }
   ],
   "source": [
    "# Utility function to report optimal parameters\n",
    "from operator import itemgetter\n",
    "def report(grid_scores, n_top=5):\n",
    "    params = None\n",
    "    top_scores = sorted(grid_scores, key=itemgetter(1), reverse=True)[:n_top]\n",
    "    for i, score in enumerate(top_scores):\n",
    "        print(\"Parameters with rank: {0}\".format(i + 1))\n",
    "        print(\"Mean validation score: {0:.4f} (std: {1:.4f})\".format(\n",
    "              score.mean_validation_score, np.std(score.cv_validation_scores)))\n",
    "        print(\"Parameters: {0}\".format(score.parameters))\n",
    "        print(\"\")\n",
    "        \n",
    "        if params == None:\n",
    "            params = score.parameters\n",
    "    \n",
    "    return params\n",
    "\n",
    "# The most common value for the max number of features to look at in each split is sqrt(# of features)\n",
    "sqrtfeat = np.sqrt(X.shape[1]) \n",
    "grid_test1 = { \"C\"        : np.linspace(1,20,10),\n",
    "             \"gamma\"      : np.linspace(0,20,10)}\n",
    "\n",
    "# Large randomized test using max_depth to control tree size (5000 possible combinations)\n",
    "random_test1 = { \"C\"         : [1,5,10,50],\n",
    "                \"gamma\"      : [0,1,2]}\n",
    "\n",
    "\n",
    "forest = SVR()\n",
    "\n",
    "print \"Hyperparameter optimization using GridSearchCV...\"\n",
    "grid_search = GridSearchCV(forest, grid_test1, n_jobs=-1, cv=num_folds)\n",
    "grid_search.fit(X, Y)\n",
    "best_params_from_grid_search = report(grid_search.grid_scores_)\n",
    "print '+++++++++++++++++++++++++++++++++++++++++++++++'\n",
    "print \"Hyperparameter optimization using RandomizedSearchCV\"\n",
    "grid_search = RandomizedSearchCV(forest, random_test1, n_jobs=-1, cv=num_folds, n_iter=5)\n",
    "grid_search.fit(X, Y)\n",
    "best_params_from_rand_search1 = report(grid_search.grid_scores_)"
   ]
  },
  {
   "cell_type": "markdown",
   "metadata": {},
   "source": [
    "## Learning Curve "
   ]
  },
  {
   "cell_type": "markdown",
   "metadata": {},
   "source": [
    "In essence, what we’re doing it training the exact same model with increasingly large fractions of our total training data, and plotting the error of the training and test sets at each step."
   ]
  },
  {
   "cell_type": "code",
   "execution_count": 19,
   "metadata": {
    "collapsed": false
   },
   "outputs": [
    {
     "data": {
      "image/png": "[encoded data removed]",
      "text/plain": [
       "<matplotlib.figure.Figure at 0x7f8305a64d10>"
      ]
     },
     "metadata": {},
     "output_type": "display_data"
    }
   ],
   "source": [
    "from sklearn.svm import SVR\n",
    "model = SVR(kernel = \"linear\", C = 5.0 )\n",
    "title = \"Learning Curves (SVR Refression)\"\n",
    "cv = cross_validation.ShuffleSplit(X.shape[0], n_iter=100,\n",
    "                                   test_size=0.2, random_state=0)\n",
    "plot_learning_curve(model, title, X, Y, ylim=(0.2, 1.01), cv=cv, n_jobs=-1)\n",
    "plt.show()"
   ]
  },
  {
   "cell_type": "code",
   "execution_count": 20,
   "metadata": {
    "collapsed": false
   },
   "outputs": [
    {
     "name": "stdout",
     "output_type": "stream",
     "text": [
      "train_sizes =  [ 50  80 110]\n",
      " training scores\n",
      " 50 training sizees\n",
      "0.882850383628 ± 0.0528233190452\n",
      " 80 training sizees\n",
      "0.880139992056 ± 0.0274052957226\n",
      " 110 training sizees\n",
      "0.884366756203 ± 0.0154933203934\n",
      "\n",
      " validation scores\n",
      " 50 validation scores\n",
      "0.864873888385 ± 0.0937111459404\n",
      " 80 validation scores\n",
      "0.892592389417 ± 0.0720117811835\n",
      " 110 validation scores\n",
      "0.900667917413 ± 0.0623945051066\n"
     ]
    }
   ],
   "source": [
    "# More data from learning curve to show the process of building the model\n",
    "train_sizes, train_scores, valid_scores = learning_curve(\n",
    "     model, X, Y, train_sizes=[50, 80, 110], cv=cv, n_jobs=4)\n",
    "\n",
    "print 'train_sizes = ', train_sizes\n",
    "\n",
    "print ' training scores'\n",
    "print ' 50 training sizees'\n",
    "print train_scores[0].mean(),'±',train_scores[0].std()\n",
    "print ' 80 training sizees'\n",
    "print train_scores[1].mean(),'±',train_scores[1].std()\n",
    "print ' 110 training sizees'\n",
    "print train_scores[2].mean(),'±',train_scores[2].std()\n",
    "\n",
    "print '\\n validation scores'\n",
    "print ' 50 validation scores'\n",
    "print valid_scores[0].mean(),'±',valid_scores[0].std()\n",
    "print ' 80 validation scores'\n",
    "print valid_scores[1].mean(),'±',valid_scores[1].std()\n",
    "print ' 110 validation scores'\n",
    "print valid_scores[2].mean(),'±',valid_scores[2].std()"
   ]
  },
  {
   "cell_type": "markdown",
   "metadata": {},
   "source": [
    "## Cross validation"
   ]
  },
  {
   "cell_type": "code",
   "execution_count": 21,
   "metadata": {
    "collapsed": false
   },
   "outputs": [
    {
     "name": "stdout",
     "output_type": "stream",
     "text": [
      "Scoring according to mean_squared_error\n",
      "[ -3154.01174935   -589.98023517   -301.97597352   -364.67730248\n",
      "  -7288.5524296    -191.77270852   -150.578521     -344.07138739\n",
      "  -8216.21976719 -12559.3144327 ]\n",
      "\n",
      " Mean      Standard deviation\n",
      "-3316.12      4231.99\n"
     ]
    },
    {
     "data": {
      "text/plain": [
       "SVR(C=5.0, cache_size=200, coef0=0.0, degree=3, epsilon=0.1, gamma='auto',\n",
       "  kernel='linear', max_iter=-1, shrinking=True, tol=0.001, verbose=False)"
      ]
     },
     "execution_count": 21,
     "metadata": {},
     "output_type": "execute_result"
    }
   ],
   "source": [
    "scoring = 'mean_squared_error'\n",
    "results = cross_validation.cross_val_score(model, X, Y, cv=kfold, scoring=scoring)\n",
    "print 'Scoring according to mean_squared_error'\n",
    "print results\n",
    "print '\\n Mean      Standard deviation'\n",
    "print(\"%.2f      %.2f\" % (results.mean(), results.std()))\n",
    "## Fit the model\n",
    "model.fit(X,Y)\n"
   ]
  },
  {
   "cell_type": "markdown",
   "metadata": {},
   "source": [
    "## Coefficients Of Determination {Calculating R^2}\n",
    "\n",
    "R^2, Close to one is better"
   ]
  },
  {
   "cell_type": "code",
   "execution_count": 22,
   "metadata": {
    "collapsed": false
   },
   "outputs": [
    {
     "name": "stdout",
     "output_type": "stream",
     "text": [
      "R-squared =  0.8771779743\n"
     ]
    }
   ],
   "source": [
    "predicted = cross_val_predict(model, X, Y, cv=kfold)\n",
    "r_squared = r2_score(Y, predicted, multioutput='variance_weighted')\n",
    "print 'R-squared = ',r_squared"
   ]
  },
  {
   "cell_type": "markdown",
   "metadata": {},
   "source": [
    "## Residual Plot"
   ]
  },
  {
   "cell_type": "code",
   "execution_count": 23,
   "metadata": {
    "collapsed": false
   },
   "outputs": [
    {
     "data": {
      "image/png": "[encoded data removed]",
      "text/plain": [
       "<matplotlib.figure.Figure at 0x7f83087ead50>"
      ]
     },
     "metadata": {},
     "output_type": "display_data"
    }
   ],
   "source": [
    "predicted = cross_val_predict(model, X, Y, cv=kfold)\n",
    "fig, ax = plt.subplots()\n",
    "ax.scatter(Y, predicted)\n",
    "ax.plot([Y.min(), Y.max()], [Y.min(), Y.max()], 'k--', lw=4)\n",
    "ax.set_xlabel('Measured')\n",
    "ax.set_ylabel('Predicted')\n",
    "plt.show()"
   ]
  },
  {
   "cell_type": "code",
   "execution_count": 24,
   "metadata": {
    "collapsed": false
   },
   "outputs": [
    {
     "data": {
      "text/html": [
       "\n",
       "\n",
       "    <div class=\"bk-root\">\n",
       "        <div class=\"plotdiv\" id=\"c174e37f-72cd-48a0-b79c-afca50d2f927\"></div>\n",
       "    </div>\n",
       "<script type=\"text/javascript\">\n",
       "  \n",
       "  (function(global) {\n",
       "    function now() {\n",
       "      return new Date();\n",
       "    }\n",
       "  \n",
       "    var force = \"\";\n",
       "  \n",
       "    if (typeof (window._bokeh_onload_callbacks) === \"undefined\" || force !== \"\") {\n",
       "      window._bokeh_onload_callbacks = [];\n",
       "      window._bokeh_is_loading = undefined;\n",
       "    }\n",
       "  \n",
       "  \n",
       "    \n",
       "    if (typeof (window._bokeh_timeout) === \"undefined\" || force !== \"\") {\n",
       "      window._bokeh_timeout = Date.now() + 0;\n",
       "      window._bokeh_failed_load = false;\n",
       "    }\n",
       "  \n",
       "    var NB_LOAD_WARNING = {'data': {'text/html':\n",
       "       \"<div style='background-color: #fdd'>\\n\"+\n",
       "       \"<p>\\n\"+\n",
       "       \"BokehJS does not appear to have successfully loaded. If loading BokehJS from CDN, this \\n\"+\n",
       "       \"may be due to a slow or bad network connection. Possible fixes:\\n\"+\n",
       "       \"</p>\\n\"+\n",
       "       \"<ul>\\n\"+\n",
       "       \"<li>re-rerun `output_notebook()` to attempt to load from CDN again, or</li>\\n\"+\n",
       "       \"<li>use INLINE resources instead, as so:</li>\\n\"+\n",
       "       \"</ul>\\n\"+\n",
       "       \"<code>\\n\"+\n",
       "       \"from bokeh.resources import INLINE\\n\"+\n",
       "       \"output_notebook(resources=INLINE)\\n\"+\n",
       "       \"</code>\\n\"+\n",
       "       \"</div>\"}};\n",
       "  \n",
       "    function display_loaded() {\n",
       "      if (window.Bokeh !== undefined) {\n",
       "        Bokeh.$(\"#c174e37f-72cd-48a0-b79c-afca50d2f927\").text(\"BokehJS successfully loaded.\");\n",
       "      } else if (Date.now() < window._bokeh_timeout) {\n",
       "        setTimeout(display_loaded, 100)\n",
       "      }\n",
       "    }\n",
       "  \n",
       "    function run_callbacks() {\n",
       "      window._bokeh_onload_callbacks.forEach(function(callback) { callback() });\n",
       "      delete window._bokeh_onload_callbacks\n",
       "      console.info(\"Bokeh: all callbacks have finished\");\n",
       "    }\n",
       "  \n",
       "    function load_libs(js_urls, callback) {\n",
       "      window._bokeh_onload_callbacks.push(callback);\n",
       "      if (window._bokeh_is_loading > 0) {\n",
       "        console.log(\"Bokeh: BokehJS is being loaded, scheduling callback at\", now());\n",
       "        return null;\n",
       "      }\n",
       "      if (js_urls == null || js_urls.length === 0) {\n",
       "        run_callbacks();\n",
       "        return null;\n",
       "      }\n",
       "      console.log(\"Bokeh: BokehJS not loaded, scheduling load and callback at\", now());\n",
       "      window._bokeh_is_loading = js_urls.length;\n",
       "      for (var i = 0; i < js_urls.length; i++) {\n",
       "        var url = js_urls[i];\n",
       "        var s = document.createElement('script');\n",
       "        s.src = url;\n",
       "        s.async = false;\n",
       "        s.onreadystatechange = s.onload = function() {\n",
       "          window._bokeh_is_loading--;\n",
       "          if (window._bokeh_is_loading === 0) {\n",
       "            console.log(\"Bokeh: all BokehJS libraries loaded\");\n",
       "            run_callbacks()\n",
       "          }\n",
       "        };\n",
       "        s.onerror = function() {\n",
       "          console.warn(\"failed to load library \" + url);\n",
       "        };\n",
       "        console.log(\"Bokeh: injecting script tag for BokehJS library: \", url);\n",
       "        document.getElementsByTagName(\"head\")[0].appendChild(s);\n",
       "      }\n",
       "    };var element = document.getElementById(\"c174e37f-72cd-48a0-b79c-afca50d2f927\");\n",
       "    if (element == null) {\n",
       "      console.log(\"Bokeh: ERROR: autoload.js configured with elementid 'c174e37f-72cd-48a0-b79c-afca50d2f927' but no matching script tag was found. \")\n",
       "      return false;\n",
       "    }\n",
       "  \n",
       "    var js_urls = [];\n",
       "  \n",
       "    var inline_js = [\n",
       "      function(Bokeh) {\n",
       "        Bokeh.$(function() {\n",
       "            var docs_json = {\"33f3f4ce-7463-4c1d-9c1d-ee7dfaeb1c04\":{\"roots\":{\"references\":[{\"attributes\":{\"data_source\":{\"id\":\"0a3c2ff2-39b7-4f9f-bd67-5f09c19b61ee\",\"type\":\"ColumnDataSource\"},\"glyph\":{\"id\":\"8d9b5cc5-0d5c-440f-b964-7cf45cb446b4\",\"type\":\"Line\"},\"hover_glyph\":null,\"nonselection_glyph\":{\"id\":\"d1aeb9ab-4ff7-4459-82ca-e05dbe49de9b\",\"type\":\"Line\"},\"selection_glyph\":null},\"id\":\"91f7cfb9-02a8-4a37-95fc-8271802536a6\",\"type\":\"GlyphRenderer\"},{\"attributes\":{\"plot\":{\"id\":\"feaf937a-01be-40ac-a034-9d8b268bf761\",\"subtype\":\"Figure\",\"type\":\"Plot\"}},\"id\":\"5e57544d-73b0-4bbf-abf6-27fec8b5df0f\",\"type\":\"CrosshairTool\"},{\"attributes\":{\"overlay\":{\"id\":\"f6a21615-dafc-481d-b2ac-0f523980de13\",\"type\":\"PolyAnnotation\"},\"plot\":{\"id\":\"feaf937a-01be-40ac-a034-9d8b268bf761\",\"subtype\":\"Figure\",\"type\":\"Plot\"}},\"id\":\"9d3af28c-0b86-4080-af2a-c48569dc65aa\",\"type\":\"PolySelectTool\"},{\"attributes\":{\"callback\":null},\"id\":\"f8306677-8a3b-45b2-b6cc-d7b21e91f26a\",\"type\":\"DataRange1d\"},{\"attributes\":{\"fill_color\":{\"value\":\"#80B1D3\"},\"line_color\":{\"value\":\"#80B1D3\"},\"line_width\":{\"value\":3},\"x\":{\"field\":\"x\"},\"y\":{\"field\":\"y\"}},\"id\":\"94243c04-9b97-490f-a595-97267721e263\",\"type\":\"Circle\"},{\"attributes\":{\"bottom_units\":\"screen\",\"fill_alpha\":{\"value\":0.5},\"fill_color\":{\"value\":\"lightgrey\"},\"left_units\":\"screen\",\"level\":\"overlay\",\"line_alpha\":{\"value\":1.0},\"line_color\":{\"value\":\"black\"},\"line_dash\":[4,4],\"line_width\":{\"value\":2},\"plot\":null,\"render_mode\":\"css\",\"right_units\":\"screen\",\"top_units\":\"screen\"},\"id\":\"ff0b6b84-1c25-40f5-9923-2b1dada4daf6\",\"type\":\"BoxAnnotation\"},{\"attributes\":{\"callback\":null},\"id\":\"82141b6c-c99f-4a19-ada8-1a2af0821522\",\"type\":\"DataRange1d\"},{\"attributes\":{\"align\":\"center\",\"plot\":null,\"text\":null},\"id\":\"fb0f2619-fe7c-40cf-8376-22f9883f51d8\",\"type\":\"Title\"},{\"attributes\":{\"fill_alpha\":{\"value\":0.5},\"fill_color\":{\"value\":\"lightgrey\"},\"level\":\"overlay\",\"line_alpha\":{\"value\":1.0},\"line_color\":{\"value\":\"black\"},\"line_dash\":[4,4],\"line_width\":{\"value\":2},\"plot\":null,\"xs_units\":\"screen\",\"ys_units\":\"screen\"},\"id\":\"2b51dc6d-af1a-4e15-ac22-01844649f1a4\",\"type\":\"PolyAnnotation\"},{\"attributes\":{\"line_dash\":[4,4],\"line_width\":{\"value\":2},\"x\":{\"field\":\"x\"},\"y\":{\"field\":\"y\"}},\"id\":\"8d9b5cc5-0d5c-440f-b964-7cf45cb446b4\",\"type\":\"Line\"},{\"attributes\":{\"bottom_units\":\"screen\",\"fill_alpha\":{\"value\":0.5},\"fill_color\":{\"value\":\"lightgrey\"},\"left_units\":\"screen\",\"level\":\"overlay\",\"line_alpha\":{\"value\":1.0},\"line_color\":{\"value\":\"black\"},\"line_dash\":[4,4],\"line_width\":{\"value\":2},\"plot\":null,\"render_mode\":\"css\",\"right_units\":\"screen\",\"top_units\":\"screen\"},\"id\":\"34502bb4-1e2e-40be-a1ee-29cc3acc4f0f\",\"type\":\"BoxAnnotation\"},{\"attributes\":{\"line_alpha\":{\"value\":0.1},\"line_color\":{\"value\":\"#1f77b4\"},\"line_dash\":[4,4],\"line_width\":{\"value\":2},\"x\":{\"field\":\"x\"},\"y\":{\"field\":\"y\"}},\"id\":\"d1aeb9ab-4ff7-4459-82ca-e05dbe49de9b\",\"type\":\"Line\"},{\"attributes\":{\"callback\":null,\"overlay\":{\"id\":\"2b51dc6d-af1a-4e15-ac22-01844649f1a4\",\"type\":\"PolyAnnotation\"},\"plot\":{\"id\":\"feaf937a-01be-40ac-a034-9d8b268bf761\",\"subtype\":\"Figure\",\"type\":\"Plot\"}},\"id\":\"0e7faca2-5a2a-4ff5-8968-c66a9b4eebbc\",\"type\":\"LassoSelectTool\"},{\"attributes\":{\"callback\":null,\"column_names\":[\"x\",\"y\"],\"data\":{\"x\":[20,53,132,25,88,54,75,17,28,35,80,360,749,41,26,44,82,28,275,18,27,34,28,102,34,42,426,57,124,19,128,30,281,19,19,86,45,29,28,22,220,126,15,22,31,81,35,18,24,37,95,19,253,34,24,182,74,23,78,23,24,24,47,270,113,253,82,20,47,978,34,31,199,171,33,361,113,117,74,33,38,36,28,41,117,267,45,18,21,37,190,47,381,28,25,116,26,20,35,181,29,24,65,18,136,34,157,253,101,25,74,28,46,53,29,44,46,36,41,82,138,28,42,62,266,102,25,44,31,74,142,41,43,119,27,15,73,64,53,76,120,24,20,50,21,80,30,341,24,919,30,56,34,53,175,47,32,23,39,1238,20,227,20,382,26,28,67],\"y\":[12.818618133929078,54.220922233185284,144.88508468981263,30.848662639060052,88.75130462493343,63.56267952904457,89.48434050489372,11.438658309775732,24.537328615521645,30.8668303292137,106.2963229103174,357.3113135907007,520.3456649768555,37.485931661091975,27.453815631536685,45.36730664375187,84.28803719398826,29.84996240995946,248.96715799631014,13.920035191879933,26.724925282670554,35.990588230482196,21.350433512519217,142.9748170582883,34.189655809745425,49.06534287865442,394.2555574406821,60.478693850110986,125.12721313041264,-0.18690815563870444,138.1067025821549,19.975245589243087,203.93881938171478,14.054754579678317,-0.8527437498914594,90.33189520722748,53.68317397048502,25.211953737757284,42.22701628368869,4.315545657624085,242.1612845136038,175.24443589571834,-5.56839981865015,11.451521360935814,32.17991490186416,102.9622942846447,35.51860251049966,11.99761910682281,13.782647662315014,33.55587239898893,100.38936064961386,18.68243045279064,226.74256181127663,35.68194289516138,12.48209794032823,157.066044230913,76.15878529061297,20.759759934662625,77.37493027929182,26.84446575812227,8.452972263110382,10.235253629058704,53.99630238167762,280.11563540610894,152.17676658084278,212.48431088368994,111.96268304609809,28.447621112340336,49.14127409745465,628.4116860530313,35.110732489075986,31.81198174886689,169.07246128748164,197.22074533787753,33.52900561922375,367.07427536217983,113.25853363935046,117.7773450991568,71.71168226455615,29.82114115139671,39.78730357277803,34.78325104046087,26.768686700154362,44.964135961334044,122.35202265405997,265.3944705711601,59.8611046410969,17.2706509986715,9.14693599771357,27.54614958079236,189.95305751506118,51.979363504983944,333.4842146956973,21.1204104462403,21.234982303086454,119.83081412455654,11.521114865427677,12.33366462484527,24.960964116383877,176.21103671113775,22.17474882293608,21.022268889880664,67.08547006060367,14.808782738946562,177.09188162078874,32.6865406133426,171.69502037958688,240.57432641092652,103.58392625552797,25.782813540791764,74.56206820158381,27.14167337900281,38.384425974990776,70.47460146473115,29.46206510628616,49.68635734142264,41.84785082269847,34.03351786695511,33.29697688002851,81.39082324019762,146.24759351371603,37.072611512693804,45.48636992802594,62.37132567290031,252.31535242323235,172.673737751582,18.72701379989418,45.21670341141695,25.60907621903037,75.06132626703808,136.85145931885796,42.90041824437703,45.9860577875419,122.28465831877797,20.734794442168152,-0.699788004259716,72.57739976624471,66.14429113389716,61.70250184462668,82.06811556377794,137.1511614663764,10.594036057181498,9.023274278863411,52.90217325509392,22.36645760211688,89.78663617736298,30.898624267281072,324.2120692178844,27.305986930910123,558.430499295802,20.44356352614514,64.64142378623478,33.88070436456542,53.52502278207029,157.41400044897955,50.79935468495548,26.936042247999637,5.231191500609384,45.13393399166256,793.5077835941274,20.91237606429233,228.3178580637748,8.131054822293947,333.3550617466222,21.106071411157345,29.302403196951282,59.086928662136074]}},\"id\":\"0cec5872-ca9c-436e-9e0b-d5dd9e48e657\",\"type\":\"ColumnDataSource\"},{\"attributes\":{},\"id\":\"388ca851-48e5-4f67-b491-68a922d5ecea\",\"type\":\"ToolEvents\"},{\"attributes\":{\"plot\":{\"id\":\"feaf937a-01be-40ac-a034-9d8b268bf761\",\"subtype\":\"Figure\",\"type\":\"Plot\"}},\"id\":\"acd175e2-4b95-4925-9725-a915a8736a6e\",\"type\":\"UndoTool\"},{\"attributes\":{\"data_source\":{\"id\":\"0cec5872-ca9c-436e-9e0b-d5dd9e48e657\",\"type\":\"ColumnDataSource\"},\"glyph\":{\"id\":\"94243c04-9b97-490f-a595-97267721e263\",\"type\":\"Circle\"},\"hover_glyph\":null,\"nonselection_glyph\":{\"id\":\"7111e4dc-b02d-45a4-8a44-779aef82762a\",\"type\":\"Circle\"},\"selection_glyph\":null},\"id\":\"c1cbdb25-b685-4550-928d-8cdaaf0ab7eb\",\"type\":\"GlyphRenderer\"},{\"attributes\":{\"plot\":{\"id\":\"feaf937a-01be-40ac-a034-9d8b268bf761\",\"subtype\":\"Figure\",\"type\":\"Plot\"}},\"id\":\"5fb87cce-daef-4ca4-823d-b00b68720e81\",\"type\":\"PanTool\"},{\"attributes\":{},\"id\":\"b2103472-4330-4e87-ba04-f51242756b1d\",\"type\":\"BasicTickFormatter\"},{\"attributes\":{\"dimension\":1,\"plot\":{\"id\":\"feaf937a-01be-40ac-a034-9d8b268bf761\",\"subtype\":\"Figure\",\"type\":\"Plot\"},\"ticker\":{\"id\":\"4330ab9c-7ae2-4ff5-93d7-d16e1e28e770\",\"type\":\"BasicTicker\"}},\"id\":\"77d50da3-f1de-453d-9fad-c3b17bde4d6a\",\"type\":\"Grid\"},{\"attributes\":{\"callback\":null,\"overlay\":{\"id\":\"34502bb4-1e2e-40be-a1ee-29cc3acc4f0f\",\"type\":\"BoxAnnotation\"},\"plot\":{\"id\":\"feaf937a-01be-40ac-a034-9d8b268bf761\",\"subtype\":\"Figure\",\"type\":\"Plot\"},\"renderers\":[{\"id\":\"c1cbdb25-b685-4550-928d-8cdaaf0ab7eb\",\"type\":\"GlyphRenderer\"},{\"id\":\"91f7cfb9-02a8-4a37-95fc-8271802536a6\",\"type\":\"GlyphRenderer\"}]},\"id\":\"6dc2ee45-963e-4d95-a9d7-e481aa212ee9\",\"type\":\"BoxSelectTool\"},{\"attributes\":{\"fill_alpha\":{\"value\":0.5},\"fill_color\":{\"value\":\"lightgrey\"},\"level\":\"overlay\",\"line_alpha\":{\"value\":1.0},\"line_color\":{\"value\":\"black\"},\"line_dash\":[4,4],\"line_width\":{\"value\":2},\"plot\":null,\"xs_units\":\"screen\",\"ys_units\":\"screen\"},\"id\":\"f6a21615-dafc-481d-b2ac-0f523980de13\",\"type\":\"PolyAnnotation\"},{\"attributes\":{},\"id\":\"4330ab9c-7ae2-4ff5-93d7-d16e1e28e770\",\"type\":\"BasicTicker\"},{\"attributes\":{\"callback\":null,\"plot\":{\"id\":\"feaf937a-01be-40ac-a034-9d8b268bf761\",\"subtype\":\"Figure\",\"type\":\"Plot\"}},\"id\":\"4aa43cf7-90ab-4dbe-8d68-47ceb42564b1\",\"type\":\"TapTool\"},{\"attributes\":{\"plot\":{\"id\":\"feaf937a-01be-40ac-a034-9d8b268bf761\",\"subtype\":\"Figure\",\"type\":\"Plot\"},\"ticker\":{\"id\":\"90fedebd-9f7e-45c9-945f-f3dc4871d244\",\"type\":\"BasicTicker\"}},\"id\":\"09a855c8-8bc7-4980-b922-30249f13a733\",\"type\":\"Grid\"},{\"attributes\":{\"background_fill_alpha\":{\"value\":0.5},\"background_fill_color\":{\"value\":\"beige\"},\"below\":[{\"id\":\"84fe624a-023c-4f81-9006-1678e4d0cb63\",\"type\":\"LinearAxis\"}],\"left\":[{\"id\":\"3fbd80a8-2ae5-46b7-80ea-a64d65a6eba6\",\"type\":\"LinearAxis\"}],\"plot_height\":500,\"plot_width\":500,\"renderers\":[{\"id\":\"84fe624a-023c-4f81-9006-1678e4d0cb63\",\"type\":\"LinearAxis\"},{\"id\":\"09a855c8-8bc7-4980-b922-30249f13a733\",\"type\":\"Grid\"},{\"id\":\"3fbd80a8-2ae5-46b7-80ea-a64d65a6eba6\",\"type\":\"LinearAxis\"},{\"id\":\"77d50da3-f1de-453d-9fad-c3b17bde4d6a\",\"type\":\"Grid\"},{\"id\":\"ff0b6b84-1c25-40f5-9923-2b1dada4daf6\",\"type\":\"BoxAnnotation\"},{\"id\":\"34502bb4-1e2e-40be-a1ee-29cc3acc4f0f\",\"type\":\"BoxAnnotation\"},{\"id\":\"2b51dc6d-af1a-4e15-ac22-01844649f1a4\",\"type\":\"PolyAnnotation\"},{\"id\":\"f6a21615-dafc-481d-b2ac-0f523980de13\",\"type\":\"PolyAnnotation\"},{\"id\":\"c1cbdb25-b685-4550-928d-8cdaaf0ab7eb\",\"type\":\"GlyphRenderer\"},{\"id\":\"91f7cfb9-02a8-4a37-95fc-8271802536a6\",\"type\":\"GlyphRenderer\"}],\"title\":{\"id\":\"fb0f2619-fe7c-40cf-8376-22f9883f51d8\",\"type\":\"Title\"},\"tool_events\":{\"id\":\"388ca851-48e5-4f67-b491-68a922d5ecea\",\"type\":\"ToolEvents\"},\"toolbar\":{\"id\":\"a1d291c5-cad8-417e-a2a0-0e696953dbf7\",\"type\":\"Toolbar\"},\"x_range\":{\"id\":\"82141b6c-c99f-4a19-ada8-1a2af0821522\",\"type\":\"DataRange1d\"},\"y_range\":{\"id\":\"f8306677-8a3b-45b2-b6cc-d7b21e91f26a\",\"type\":\"DataRange1d\"}},\"id\":\"feaf937a-01be-40ac-a034-9d8b268bf761\",\"subtype\":\"Figure\",\"type\":\"Plot\"},{\"attributes\":{\"callback\":null,\"column_names\":[\"y\",\"x\"],\"data\":{\"x\":[15,1238],\"y\":[15,1238]}},\"id\":\"0a3c2ff2-39b7-4f9f-bd67-5f09c19b61ee\",\"type\":\"ColumnDataSource\"},{\"attributes\":{\"axis_label\":\"Predicted\",\"axis_label_text_color\":{\"value\":\"#aa6666\"},\"formatter\":{\"id\":\"fa4735e2-0c47-405d-83da-892dfbedff7f\",\"type\":\"BasicTickFormatter\"},\"plot\":{\"id\":\"feaf937a-01be-40ac-a034-9d8b268bf761\",\"subtype\":\"Figure\",\"type\":\"Plot\"},\"ticker\":{\"id\":\"4330ab9c-7ae2-4ff5-93d7-d16e1e28e770\",\"type\":\"BasicTicker\"}},\"id\":\"3fbd80a8-2ae5-46b7-80ea-a64d65a6eba6\",\"type\":\"LinearAxis\"},{\"attributes\":{\"fill_alpha\":{\"value\":0.1},\"fill_color\":{\"value\":\"#1f77b4\"},\"line_alpha\":{\"value\":0.1},\"line_color\":{\"value\":\"#1f77b4\"},\"line_width\":{\"value\":3},\"x\":{\"field\":\"x\"},\"y\":{\"field\":\"y\"}},\"id\":\"7111e4dc-b02d-45a4-8a44-779aef82762a\",\"type\":\"Circle\"},{\"attributes\":{\"plot\":{\"id\":\"feaf937a-01be-40ac-a034-9d8b268bf761\",\"subtype\":\"Figure\",\"type\":\"Plot\"}},\"id\":\"fafe2aad-23b1-4865-81c9-f6e6f2e4754c\",\"type\":\"SaveTool\"},{\"attributes\":{\"overlay\":{\"id\":\"ff0b6b84-1c25-40f5-9923-2b1dada4daf6\",\"type\":\"BoxAnnotation\"},\"plot\":{\"id\":\"feaf937a-01be-40ac-a034-9d8b268bf761\",\"subtype\":\"Figure\",\"type\":\"Plot\"}},\"id\":\"e7875827-2615-4552-bcfa-b3525590b0e3\",\"type\":\"BoxZoomTool\"},{\"attributes\":{\"plot\":{\"id\":\"feaf937a-01be-40ac-a034-9d8b268bf761\",\"subtype\":\"Figure\",\"type\":\"Plot\"}},\"id\":\"74958593-06f0-43c3-ad64-b9e6d8c7659f\",\"type\":\"ResetTool\"},{\"attributes\":{},\"id\":\"fa4735e2-0c47-405d-83da-892dfbedff7f\",\"type\":\"BasicTickFormatter\"},{\"attributes\":{\"plot\":{\"id\":\"feaf937a-01be-40ac-a034-9d8b268bf761\",\"subtype\":\"Figure\",\"type\":\"Plot\"}},\"id\":\"d2e87002-1140-4cfc-827c-60404f035872\",\"type\":\"WheelZoomTool\"},{\"attributes\":{\"active_drag\":\"auto\",\"active_scroll\":\"auto\",\"active_tap\":\"auto\",\"tools\":[{\"id\":\"e7875827-2615-4552-bcfa-b3525590b0e3\",\"type\":\"BoxZoomTool\"},{\"id\":\"6dc2ee45-963e-4d95-a9d7-e481aa212ee9\",\"type\":\"BoxSelectTool\"},{\"id\":\"5e57544d-73b0-4bbf-abf6-27fec8b5df0f\",\"type\":\"CrosshairTool\"},{\"id\":\"14bf68b9-0309-4870-b0d3-d732af94cc34\",\"type\":\"ResizeTool\"},{\"id\":\"74958593-06f0-43c3-ad64-b9e6d8c7659f\",\"type\":\"ResetTool\"},{\"id\":\"0e7faca2-5a2a-4ff5-8968-c66a9b4eebbc\",\"type\":\"LassoSelectTool\"},{\"id\":\"5fb87cce-daef-4ca4-823d-b00b68720e81\",\"type\":\"PanTool\"},{\"id\":\"fafe2aad-23b1-4865-81c9-f6e6f2e4754c\",\"type\":\"SaveTool\"},{\"id\":\"9d3af28c-0b86-4080-af2a-c48569dc65aa\",\"type\":\"PolySelectTool\"},{\"id\":\"4aa43cf7-90ab-4dbe-8d68-47ceb42564b1\",\"type\":\"TapTool\"},{\"id\":\"d2e87002-1140-4cfc-827c-60404f035872\",\"type\":\"WheelZoomTool\"},{\"id\":\"acd175e2-4b95-4925-9725-a915a8736a6e\",\"type\":\"UndoTool\"}]},\"id\":\"a1d291c5-cad8-417e-a2a0-0e696953dbf7\",\"type\":\"Toolbar\"},{\"attributes\":{},\"id\":\"90fedebd-9f7e-45c9-945f-f3dc4871d244\",\"type\":\"BasicTicker\"},{\"attributes\":{\"plot\":{\"id\":\"feaf937a-01be-40ac-a034-9d8b268bf761\",\"subtype\":\"Figure\",\"type\":\"Plot\"}},\"id\":\"14bf68b9-0309-4870-b0d3-d732af94cc34\",\"type\":\"ResizeTool\"},{\"attributes\":{\"axis_label\":\"Measured\",\"axis_label_text_color\":{\"value\":\"#aa6666\"},\"formatter\":{\"id\":\"b2103472-4330-4e87-ba04-f51242756b1d\",\"type\":\"BasicTickFormatter\"},\"major_tick_line_color\":{\"value\":\"firebrick\"},\"major_tick_line_width\":{\"value\":3},\"minor_tick_line_color\":{\"value\":\"orange\"},\"plot\":{\"id\":\"feaf937a-01be-40ac-a034-9d8b268bf761\",\"subtype\":\"Figure\",\"type\":\"Plot\"},\"ticker\":{\"id\":\"90fedebd-9f7e-45c9-945f-f3dc4871d244\",\"type\":\"BasicTicker\"}},\"id\":\"84fe624a-023c-4f81-9006-1678e4d0cb63\",\"type\":\"LinearAxis\"}],\"root_ids\":[\"feaf937a-01be-40ac-a034-9d8b268bf761\"]},\"title\":\"Bokeh Application\",\"version\":\"0.12.2\"}};\n",
       "            var render_items = [{\"docid\":\"33f3f4ce-7463-4c1d-9c1d-ee7dfaeb1c04\",\"elementid\":\"c174e37f-72cd-48a0-b79c-afca50d2f927\",\"modelid\":\"feaf937a-01be-40ac-a034-9d8b268bf761\"}];\n",
       "            \n",
       "            Bokeh.embed.embed_items(docs_json, render_items);\n",
       "        });\n",
       "      },\n",
       "      function(Bokeh) {\n",
       "      }\n",
       "    ];\n",
       "  \n",
       "    function run_inline_js() {\n",
       "      \n",
       "      if ((window.Bokeh !== undefined) || (force === \"1\")) {\n",
       "        for (var i = 0; i < inline_js.length; i++) {\n",
       "          inline_js[i](window.Bokeh);\n",
       "        }if (force === \"1\") {\n",
       "          display_loaded();\n",
       "        }} else if (Date.now() < window._bokeh_timeout) {\n",
       "        setTimeout(run_inline_js, 100);\n",
       "      } else if (!window._bokeh_failed_load) {\n",
       "        console.log(\"Bokeh: BokehJS failed to load within specified timeout.\");\n",
       "        window._bokeh_failed_load = true;\n",
       "      } else if (!force) {\n",
       "        var cell = $(\"#c174e37f-72cd-48a0-b79c-afca50d2f927\").parents('.cell').data().cell;\n",
       "        cell.output_area.append_execute_result(NB_LOAD_WARNING)\n",
       "      }\n",
       "  \n",
       "    }\n",
       "  \n",
       "    if (window._bokeh_is_loading === 0) {\n",
       "      console.log(\"Bokeh: BokehJS loaded, going straight to plotting\");\n",
       "      run_inline_js();\n",
       "    } else {\n",
       "      load_libs(js_urls, function() {\n",
       "        console.log(\"Bokeh: BokehJS plotting callback run at\", now());\n",
       "        run_inline_js();\n",
       "      });\n",
       "    }\n",
       "  }(this));\n",
       "</script>"
      ]
     },
     "metadata": {},
     "output_type": "display_data"
    }
   ],
   "source": [
    "# Plotining using bokeh\n",
    "#TOOLS = [BoxSelectTool(), HoverTool()]\n",
    "#TOOLS = 'hover,box_zoom,box_select,crosshair,resize,reset,SVR_select,pan,save,poly_select,tap,wheel_zoom,undo'\n",
    "TOOLS = 'box_zoom,box_select,crosshair,resize,reset,lasso_select,pan,save,poly_select,tap,wheel_zoom,undo'\n",
    "p = figure(plot_width=500, plot_height=500, tools=TOOLS)\n",
    "p.scatter(Y, predicted,x=\"jjj\", marker=\"o\", color=\"#80B1D3\", line_width=3)\n",
    "p.title.align = \"center\"\n",
    "p.xaxis.axis_label = \"Measured\"\n",
    "p.xaxis.axis_label_text_color = \"#aa6666\"\n",
    "#p.xaxis.axis_label_standoff = 30\n",
    "p.xaxis.major_tick_line_color = \"firebrick\"\n",
    "p.xaxis.major_tick_line_width = 3\n",
    "p.xaxis.minor_tick_line_color = \"orange\"\n",
    "p.yaxis.axis_label = \"Predicted\"\n",
    "p.yaxis.axis_label_text_font_style = \"italic\"\n",
    "p.yaxis.axis_label_text_color = \"#aa6666\"\n",
    "p.background_fill_color = \"beige\"\n",
    "p.background_fill_alpha = 0.5\n",
    "#p.line([Y.min(), Y.max()], [Y.min(), Y.max()], line_dash=\"4 4\", line_width=2, color='red')\n",
    "\n",
    "# create a new plot with the toolbar below\n",
    "# line_dash=\"4 4\", line_width=2, color='red'\n",
    "p.line([Y.min(), Y.max()], [Y.min(), Y.max()], line_dash=\"4 4\", line_width=2, line_color=\"black\")\n",
    "show(p)"
   ]
  },
  {
   "cell_type": "code",
   "execution_count": 25,
   "metadata": {
    "collapsed": false
   },
   "outputs": [
    {
     "data": {
      "text/plain": [
       "<matplotlib.text.Text at 0x7f83041f7690>"
      ]
     },
     "execution_count": 25,
     "metadata": {},
     "output_type": "execute_result"
    },
    {
     "data": {
      "image/png": "[encoded data removed]",
      "text/plain": [
       "<matplotlib.figure.Figure at 0x7f83041e8ed0>"
      ]
     },
     "metadata": {},
     "output_type": "display_data"
    }
   ],
   "source": [
    "plt.scatter(predicted, (predicted - Y), c='r', s=30)\n",
    "plt.title(\"Residual plot on the training data\")\n",
    "plt.xlabel(\"Predicted\")\n",
    "plt.ylabel(\"Residuals\")"
   ]
  },
  {
   "cell_type": "code",
   "execution_count": 26,
   "metadata": {
    "collapsed": false
   },
   "outputs": [
    {
     "data": {
      "text/html": [
       "\n",
       "\n",
       "    <div class=\"bk-root\">\n",
       "        <div class=\"plotdiv\" id=\"573a1c19-af63-434f-9156-c83600e6f0d7\"></div>\n",
       "    </div>\n",
       "<script type=\"text/javascript\">\n",
       "  \n",
       "  (function(global) {\n",
       "    function now() {\n",
       "      return new Date();\n",
       "    }\n",
       "  \n",
       "    var force = \"\";\n",
       "  \n",
       "    if (typeof (window._bokeh_onload_callbacks) === \"undefined\" || force !== \"\") {\n",
       "      window._bokeh_onload_callbacks = [];\n",
       "      window._bokeh_is_loading = undefined;\n",
       "    }\n",
       "  \n",
       "  \n",
       "    \n",
       "    if (typeof (window._bokeh_timeout) === \"undefined\" || force !== \"\") {\n",
       "      window._bokeh_timeout = Date.now() + 0;\n",
       "      window._bokeh_failed_load = false;\n",
       "    }\n",
       "  \n",
       "    var NB_LOAD_WARNING = {'data': {'text/html':\n",
       "       \"<div style='background-color: #fdd'>\\n\"+\n",
       "       \"<p>\\n\"+\n",
       "       \"BokehJS does not appear to have successfully loaded. If loading BokehJS from CDN, this \\n\"+\n",
       "       \"may be due to a slow or bad network connection. Possible fixes:\\n\"+\n",
       "       \"</p>\\n\"+\n",
       "       \"<ul>\\n\"+\n",
       "       \"<li>re-rerun `output_notebook()` to attempt to load from CDN again, or</li>\\n\"+\n",
       "       \"<li>use INLINE resources instead, as so:</li>\\n\"+\n",
       "       \"</ul>\\n\"+\n",
       "       \"<code>\\n\"+\n",
       "       \"from bokeh.resources import INLINE\\n\"+\n",
       "       \"output_notebook(resources=INLINE)\\n\"+\n",
       "       \"</code>\\n\"+\n",
       "       \"</div>\"}};\n",
       "  \n",
       "    function display_loaded() {\n",
       "      if (window.Bokeh !== undefined) {\n",
       "        Bokeh.$(\"#573a1c19-af63-434f-9156-c83600e6f0d7\").text(\"BokehJS successfully loaded.\");\n",
       "      } else if (Date.now() < window._bokeh_timeout) {\n",
       "        setTimeout(display_loaded, 100)\n",
       "      }\n",
       "    }\n",
       "  \n",
       "    function run_callbacks() {\n",
       "      window._bokeh_onload_callbacks.forEach(function(callback) { callback() });\n",
       "      delete window._bokeh_onload_callbacks\n",
       "      console.info(\"Bokeh: all callbacks have finished\");\n",
       "    }\n",
       "  \n",
       "    function load_libs(js_urls, callback) {\n",
       "      window._bokeh_onload_callbacks.push(callback);\n",
       "      if (window._bokeh_is_loading > 0) {\n",
       "        console.log(\"Bokeh: BokehJS is being loaded, scheduling callback at\", now());\n",
       "        return null;\n",
       "      }\n",
       "      if (js_urls == null || js_urls.length === 0) {\n",
       "        run_callbacks();\n",
       "        return null;\n",
       "      }\n",
       "      console.log(\"Bokeh: BokehJS not loaded, scheduling load and callback at\", now());\n",
       "      window._bokeh_is_loading = js_urls.length;\n",
       "      for (var i = 0; i < js_urls.length; i++) {\n",
       "        var url = js_urls[i];\n",
       "        var s = document.createElement('script');\n",
       "        s.src = url;\n",
       "        s.async = false;\n",
       "        s.onreadystatechange = s.onload = function() {\n",
       "          window._bokeh_is_loading--;\n",
       "          if (window._bokeh_is_loading === 0) {\n",
       "            console.log(\"Bokeh: all BokehJS libraries loaded\");\n",
       "            run_callbacks()\n",
       "          }\n",
       "        };\n",
       "        s.onerror = function() {\n",
       "          console.warn(\"failed to load library \" + url);\n",
       "        };\n",
       "        console.log(\"Bokeh: injecting script tag for BokehJS library: \", url);\n",
       "        document.getElementsByTagName(\"head\")[0].appendChild(s);\n",
       "      }\n",
       "    };var element = document.getElementById(\"573a1c19-af63-434f-9156-c83600e6f0d7\");\n",
       "    if (element == null) {\n",
       "      console.log(\"Bokeh: ERROR: autoload.js configured with elementid '573a1c19-af63-434f-9156-c83600e6f0d7' but no matching script tag was found. \")\n",
       "      return false;\n",
       "    }\n",
       "  \n",
       "    var js_urls = [];\n",
       "  \n",
       "    var inline_js = [\n",
       "      function(Bokeh) {\n",
       "        Bokeh.$(function() {\n",
       "            var docs_json = {\"83086dc0-e9fe-424c-afa8-1293e8d3e9e2\":{\"roots\":{\"references\":[{\"attributes\":{\"overlay\":{\"id\":\"284b4b57-64c6-45ce-b7a4-cb9aaa08f41e\",\"type\":\"PolyAnnotation\"},\"plot\":{\"id\":\"ac4d76e5-cba2-4070-b3a0-c26e3370b2f6\",\"subtype\":\"Figure\",\"type\":\"Plot\"}},\"id\":\"27e2d92d-b78e-4af3-b001-4364f1f5a652\",\"type\":\"PolySelectTool\"},{\"attributes\":{},\"id\":\"03bc1a52-8ff0-42a0-b4da-c28aa28471b0\",\"type\":\"BasicTicker\"},{\"attributes\":{\"fill_color\":{\"value\":\"#80B1D3\"},\"line_color\":{\"value\":\"#80B1D3\"},\"line_width\":{\"value\":3},\"x\":{\"field\":\"x\"},\"y\":{\"field\":\"y\"}},\"id\":\"3e4c180f-6f19-4917-ab26-1817de2abc9a\",\"type\":\"Circle\"},{\"attributes\":{\"background_fill_alpha\":{\"value\":0.5},\"background_fill_color\":{\"value\":\"beige\"},\"below\":[{\"id\":\"863dc2e7-2a9f-4242-88d6-a3d4073ef8cd\",\"type\":\"LinearAxis\"}],\"left\":[{\"id\":\"8448c9f3-e85a-4d24-a21b-25dd7ec51a0b\",\"type\":\"LinearAxis\"}],\"plot_height\":500,\"plot_width\":500,\"renderers\":[{\"id\":\"863dc2e7-2a9f-4242-88d6-a3d4073ef8cd\",\"type\":\"LinearAxis\"},{\"id\":\"3a15e514-82c0-49ce-9c5c-da9ee95feabb\",\"type\":\"Grid\"},{\"id\":\"8448c9f3-e85a-4d24-a21b-25dd7ec51a0b\",\"type\":\"LinearAxis\"},{\"id\":\"b0a42a1e-1e64-4f87-abf5-0be62699f073\",\"type\":\"Grid\"},{\"id\":\"a330526d-f1a8-4439-a895-086638b4a24a\",\"type\":\"BoxAnnotation\"},{\"id\":\"3981b9a6-0b43-4eb5-a915-881516522296\",\"type\":\"BoxAnnotation\"},{\"id\":\"14c49cfa-55be-4ce5-a273-b142bb3ee541\",\"type\":\"PolyAnnotation\"},{\"id\":\"284b4b57-64c6-45ce-b7a4-cb9aaa08f41e\",\"type\":\"PolyAnnotation\"},{\"id\":\"b198259a-ebf8-490d-9428-1fccc98b5f84\",\"type\":\"GlyphRenderer\"}],\"title\":{\"id\":\"f888c147-fa9a-4621-80c9-89d45fdd9ae0\",\"type\":\"Title\"},\"tool_events\":{\"id\":\"ac758edd-4abb-4776-be9a-3845a1876187\",\"type\":\"ToolEvents\"},\"toolbar\":{\"id\":\"f8700e46-017b-4e97-bd6b-fecf51197f92\",\"type\":\"Toolbar\"},\"x_range\":{\"id\":\"77c417dc-cfb0-4f59-afe8-58c199c12e71\",\"type\":\"DataRange1d\"},\"y_range\":{\"id\":\"25856300-544c-495b-b655-3b42e2aeb9a9\",\"type\":\"DataRange1d\"}},\"id\":\"ac4d76e5-cba2-4070-b3a0-c26e3370b2f6\",\"subtype\":\"Figure\",\"type\":\"Plot\"},{\"attributes\":{\"axis_label\":\"Residuals\",\"axis_label_text_color\":{\"value\":\"#aa6666\"},\"formatter\":{\"id\":\"fbc3e857-7c95-433e-88af-efc06993d590\",\"type\":\"BasicTickFormatter\"},\"plot\":{\"id\":\"ac4d76e5-cba2-4070-b3a0-c26e3370b2f6\",\"subtype\":\"Figure\",\"type\":\"Plot\"},\"ticker\":{\"id\":\"6c6d456c-ddc7-4b66-9659-87f1fe58cee4\",\"type\":\"BasicTicker\"}},\"id\":\"8448c9f3-e85a-4d24-a21b-25dd7ec51a0b\",\"type\":\"LinearAxis\"},{\"attributes\":{\"bottom_units\":\"screen\",\"fill_alpha\":{\"value\":0.5},\"fill_color\":{\"value\":\"lightgrey\"},\"left_units\":\"screen\",\"level\":\"overlay\",\"line_alpha\":{\"value\":1.0},\"line_color\":{\"value\":\"black\"},\"line_dash\":[4,4],\"line_width\":{\"value\":2},\"plot\":null,\"render_mode\":\"css\",\"right_units\":\"screen\",\"top_units\":\"screen\"},\"id\":\"3981b9a6-0b43-4eb5-a915-881516522296\",\"type\":\"BoxAnnotation\"},{\"attributes\":{\"callback\":null,\"column_names\":[\"x\",\"y\"],\"data\":{\"x\":[12.818618133929078,54.220922233185284,144.88508468981263,30.848662639060052,88.75130462493343,63.56267952904457,89.48434050489372,11.438658309775732,24.537328615521645,30.8668303292137,106.2963229103174,357.3113135907007,520.3456649768555,37.485931661091975,27.453815631536685,45.36730664375187,84.28803719398826,29.84996240995946,248.96715799631014,13.920035191879933,26.724925282670554,35.990588230482196,21.350433512519217,142.9748170582883,34.189655809745425,49.06534287865442,394.2555574406821,60.478693850110986,125.12721313041264,-0.18690815563870444,138.1067025821549,19.975245589243087,203.93881938171478,14.054754579678317,-0.8527437498914594,90.33189520722748,53.68317397048502,25.211953737757284,42.22701628368869,4.315545657624085,242.1612845136038,175.24443589571834,-5.56839981865015,11.451521360935814,32.17991490186416,102.9622942846447,35.51860251049966,11.99761910682281,13.782647662315014,33.55587239898893,100.38936064961386,18.68243045279064,226.74256181127663,35.68194289516138,12.48209794032823,157.066044230913,76.15878529061297,20.759759934662625,77.37493027929182,26.84446575812227,8.452972263110382,10.235253629058704,53.99630238167762,280.11563540610894,152.17676658084278,212.48431088368994,111.96268304609809,28.447621112340336,49.14127409745465,628.4116860530313,35.110732489075986,31.81198174886689,169.07246128748164,197.22074533787753,33.52900561922375,367.07427536217983,113.25853363935046,117.7773450991568,71.71168226455615,29.82114115139671,39.78730357277803,34.78325104046087,26.768686700154362,44.964135961334044,122.35202265405997,265.3944705711601,59.8611046410969,17.2706509986715,9.14693599771357,27.54614958079236,189.95305751506118,51.979363504983944,333.4842146956973,21.1204104462403,21.234982303086454,119.83081412455654,11.521114865427677,12.33366462484527,24.960964116383877,176.21103671113775,22.17474882293608,21.022268889880664,67.08547006060367,14.808782738946562,177.09188162078874,32.6865406133426,171.69502037958688,240.57432641092652,103.58392625552797,25.782813540791764,74.56206820158381,27.14167337900281,38.384425974990776,70.47460146473115,29.46206510628616,49.68635734142264,41.84785082269847,34.03351786695511,33.29697688002851,81.39082324019762,146.24759351371603,37.072611512693804,45.48636992802594,62.37132567290031,252.31535242323235,172.673737751582,18.72701379989418,45.21670341141695,25.60907621903037,75.06132626703808,136.85145931885796,42.90041824437703,45.9860577875419,122.28465831877797,20.734794442168152,-0.699788004259716,72.57739976624471,66.14429113389716,61.70250184462668,82.06811556377794,137.1511614663764,10.594036057181498,9.023274278863411,52.90217325509392,22.36645760211688,89.78663617736298,30.898624267281072,324.2120692178844,27.305986930910123,558.430499295802,20.44356352614514,64.64142378623478,33.88070436456542,53.52502278207029,157.41400044897955,50.79935468495548,26.936042247999637,5.231191500609384,45.13393399166256,793.5077835941274,20.91237606429233,228.3178580637748,8.131054822293947,333.3550617466222,21.106071411157345,29.302403196951282,59.086928662136074],\"y\":[-7.181381866070922,1.2209222331852843,12.88508468981263,5.848662639060052,0.7513046249334252,9.562679529044573,14.484340504893723,-5.561341690224268,-3.462671384478355,-4.133169670786302,26.2963229103174,-2.6886864092992937,-228.65433502314454,-3.514068338908025,1.4538156315366848,1.367306643751867,2.2880371939882593,1.8499624099594598,-26.032842003689865,-4.079964808120067,-0.27507471732944566,1.9905882304821958,-6.649566487480783,40.974817058288295,0.18965580974542462,7.06534287865442,-31.744442559317918,3.478693850110986,1.1272131304126418,-19.186908155638704,10.106702582154895,-10.024754410756913,-77.06118061828522,-4.945245420321683,-19.85274374989146,4.3318952072274755,8.683173970485022,-3.788046262242716,14.227016283688691,-17.684454342375915,22.16128451360379,49.24443589571834,-20.56839981865015,-10.548478639064186,1.1799149018641586,21.9622942846447,0.5186025104996617,-6.00238089317719,-10.217352337684986,-3.4441276010110684,5.389360649613863,-0.31756954720935937,-26.25743818872337,1.6819428951613773,-11.51790205967177,-24.933955769086992,2.1587852906129683,-2.2402400653373746,-0.6250697207081828,3.8444657581222685,-15.547027736889618,-13.764746370941296,6.996302381677623,10.115635406108936,39.17676658084278,-40.51568911631006,29.962683046098093,8.447621112340336,2.141274097454648,-349.5883139469687,1.1107324890759855,0.8119817488668915,-29.927538712518356,26.22074533787753,0.5290056192237529,6.074275362179833,0.2585336393504605,0.777345099156804,-2.2883177354438544,-3.1788588486032907,1.787303572778029,-1.2167489595391316,-1.2313132998456382,3.964135961334044,5.352022654059965,-1.6055294288398727,14.861104641096901,-0.7293490013285009,-11.85306400228643,-9.45385041920764,-0.04694248493882469,4.979363504983944,-47.51578530430271,-6.8795895537597005,-3.765017696913546,3.8308141245565395,-14.478885134572323,-7.6663353751547305,-10.039035883616123,-4.788963288862249,-6.825251177063919,-2.977731110119336,2.0854700606036687,-3.1912172610534384,41.09188162078874,-1.3134593866573994,14.695020379586879,-12.425673589073483,2.5839262555279703,0.7828135407917642,0.5620682015838128,-0.8583266209971896,-7.615574025009224,17.47460146473115,0.46206510628616115,5.686357341422642,-4.152149177301531,-1.9664821330448916,-7.7030231199714905,-0.6091767598023807,8.247593513716026,9.072611512693804,3.486369928025937,0.37132567290031204,-13.684647576767645,70.673737751582,-6.272986200105819,1.216703411416951,-5.390923780969629,1.0613262670380834,-5.148540681142038,1.900418244377029,2.9860577875419025,3.2846583187779714,-6.265205557831848,-15.699788004259716,-0.4226002337552899,2.1442911338971555,8.702501844626681,6.068115563777937,17.151161466376408,-13.405963942818502,-10.976725721136589,2.9021732550939205,1.3664576021168813,9.786636177362979,0.8986242672810718,-16.78793078211561,3.305986930910123,-360.56950070419805,-9.556436473854859,8.641423786234782,-0.11929563543458244,0.5250227820702875,-17.58599955102045,3.799354684955482,-5.063957752000363,-17.768808499390616,6.133933991662559,-444.49221640587257,0.9123760642923315,1.3178580637747928,-11.868945177706053,-48.6449382533778,-4.893928588842655,1.302403196951282,-7.913071337863926]}},\"id\":\"db5e2af3-b022-4c6b-89e4-95d4fd33cc75\",\"type\":\"ColumnDataSource\"},{\"attributes\":{\"callback\":null,\"overlay\":{\"id\":\"14c49cfa-55be-4ce5-a273-b142bb3ee541\",\"type\":\"PolyAnnotation\"},\"plot\":{\"id\":\"ac4d76e5-cba2-4070-b3a0-c26e3370b2f6\",\"subtype\":\"Figure\",\"type\":\"Plot\"}},\"id\":\"af570d7e-ae80-46a8-94f9-ed923e7e35b0\",\"type\":\"LassoSelectTool\"},{\"attributes\":{\"plot\":{\"id\":\"ac4d76e5-cba2-4070-b3a0-c26e3370b2f6\",\"subtype\":\"Figure\",\"type\":\"Plot\"}},\"id\":\"9789b652-91dd-4316-b01d-530e1f1e251d\",\"type\":\"WheelZoomTool\"},{\"attributes\":{\"align\":\"center\",\"plot\":null,\"text\":\"Residual plot on the training data\"},\"id\":\"f888c147-fa9a-4621-80c9-89d45fdd9ae0\",\"type\":\"Title\"},{\"attributes\":{\"plot\":{\"id\":\"ac4d76e5-cba2-4070-b3a0-c26e3370b2f6\",\"subtype\":\"Figure\",\"type\":\"Plot\"}},\"id\":\"6e8eae0e-6e97-47bf-b744-7d78facb0a5e\",\"type\":\"ResetTool\"},{\"attributes\":{\"callback\":null,\"plot\":{\"id\":\"ac4d76e5-cba2-4070-b3a0-c26e3370b2f6\",\"subtype\":\"Figure\",\"type\":\"Plot\"}},\"id\":\"5f5efe56-1156-41f2-966b-e65ba00505f5\",\"type\":\"TapTool\"},{\"attributes\":{\"active_drag\":\"auto\",\"active_scroll\":\"auto\",\"active_tap\":\"auto\",\"tools\":[{\"id\":\"e50027c9-3185-41b5-b89c-abda2dd320f3\",\"type\":\"BoxZoomTool\"},{\"id\":\"8491af09-b97b-4a90-8b97-9e326f6fcc78\",\"type\":\"BoxSelectTool\"},{\"id\":\"ca77c059-7039-4bd7-9128-4909b6197564\",\"type\":\"CrosshairTool\"},{\"id\":\"08fb67ef-bce0-4448-878b-d73367b51bf5\",\"type\":\"ResizeTool\"},{\"id\":\"6e8eae0e-6e97-47bf-b744-7d78facb0a5e\",\"type\":\"ResetTool\"},{\"id\":\"af570d7e-ae80-46a8-94f9-ed923e7e35b0\",\"type\":\"LassoSelectTool\"},{\"id\":\"6fdf24ba-6d3e-45b5-8999-54d3e67cc694\",\"type\":\"PanTool\"},{\"id\":\"affd4c04-3236-4046-bc0e-c987952bdb4c\",\"type\":\"SaveTool\"},{\"id\":\"27e2d92d-b78e-4af3-b001-4364f1f5a652\",\"type\":\"PolySelectTool\"},{\"id\":\"5f5efe56-1156-41f2-966b-e65ba00505f5\",\"type\":\"TapTool\"},{\"id\":\"9789b652-91dd-4316-b01d-530e1f1e251d\",\"type\":\"WheelZoomTool\"},{\"id\":\"742b4eed-73d6-44aa-a167-b3078ae4e6a7\",\"type\":\"UndoTool\"}]},\"id\":\"f8700e46-017b-4e97-bd6b-fecf51197f92\",\"type\":\"Toolbar\"},{\"attributes\":{},\"id\":\"fbc3e857-7c95-433e-88af-efc06993d590\",\"type\":\"BasicTickFormatter\"},{\"attributes\":{},\"id\":\"ac758edd-4abb-4776-be9a-3845a1876187\",\"type\":\"ToolEvents\"},{\"attributes\":{\"fill_alpha\":{\"value\":0.5},\"fill_color\":{\"value\":\"lightgrey\"},\"level\":\"overlay\",\"line_alpha\":{\"value\":1.0},\"line_color\":{\"value\":\"black\"},\"line_dash\":[4,4],\"line_width\":{\"value\":2},\"plot\":null,\"xs_units\":\"screen\",\"ys_units\":\"screen\"},\"id\":\"284b4b57-64c6-45ce-b7a4-cb9aaa08f41e\",\"type\":\"PolyAnnotation\"},{\"attributes\":{\"callback\":null},\"id\":\"25856300-544c-495b-b655-3b42e2aeb9a9\",\"type\":\"DataRange1d\"},{\"attributes\":{\"plot\":{\"id\":\"ac4d76e5-cba2-4070-b3a0-c26e3370b2f6\",\"subtype\":\"Figure\",\"type\":\"Plot\"}},\"id\":\"ca77c059-7039-4bd7-9128-4909b6197564\",\"type\":\"CrosshairTool\"},{\"attributes\":{\"bottom_units\":\"screen\",\"fill_alpha\":{\"value\":0.5},\"fill_color\":{\"value\":\"lightgrey\"},\"left_units\":\"screen\",\"level\":\"overlay\",\"line_alpha\":{\"value\":1.0},\"line_color\":{\"value\":\"black\"},\"line_dash\":[4,4],\"line_width\":{\"value\":2},\"plot\":null,\"render_mode\":\"css\",\"right_units\":\"screen\",\"top_units\":\"screen\"},\"id\":\"a330526d-f1a8-4439-a895-086638b4a24a\",\"type\":\"BoxAnnotation\"},{\"attributes\":{\"plot\":{\"id\":\"ac4d76e5-cba2-4070-b3a0-c26e3370b2f6\",\"subtype\":\"Figure\",\"type\":\"Plot\"}},\"id\":\"08fb67ef-bce0-4448-878b-d73367b51bf5\",\"type\":\"ResizeTool\"},{\"attributes\":{},\"id\":\"597af81b-be17-4134-8d2e-db22447632e9\",\"type\":\"BasicTickFormatter\"},{\"attributes\":{\"overlay\":{\"id\":\"a330526d-f1a8-4439-a895-086638b4a24a\",\"type\":\"BoxAnnotation\"},\"plot\":{\"id\":\"ac4d76e5-cba2-4070-b3a0-c26e3370b2f6\",\"subtype\":\"Figure\",\"type\":\"Plot\"}},\"id\":\"e50027c9-3185-41b5-b89c-abda2dd320f3\",\"type\":\"BoxZoomTool\"},{\"attributes\":{\"callback\":null},\"id\":\"77c417dc-cfb0-4f59-afe8-58c199c12e71\",\"type\":\"DataRange1d\"},{\"attributes\":{\"plot\":{\"id\":\"ac4d76e5-cba2-4070-b3a0-c26e3370b2f6\",\"subtype\":\"Figure\",\"type\":\"Plot\"}},\"id\":\"742b4eed-73d6-44aa-a167-b3078ae4e6a7\",\"type\":\"UndoTool\"},{\"attributes\":{\"dimension\":1,\"plot\":{\"id\":\"ac4d76e5-cba2-4070-b3a0-c26e3370b2f6\",\"subtype\":\"Figure\",\"type\":\"Plot\"},\"ticker\":{\"id\":\"6c6d456c-ddc7-4b66-9659-87f1fe58cee4\",\"type\":\"BasicTicker\"}},\"id\":\"b0a42a1e-1e64-4f87-abf5-0be62699f073\",\"type\":\"Grid\"},{\"attributes\":{\"plot\":{\"id\":\"ac4d76e5-cba2-4070-b3a0-c26e3370b2f6\",\"subtype\":\"Figure\",\"type\":\"Plot\"},\"ticker\":{\"id\":\"03bc1a52-8ff0-42a0-b4da-c28aa28471b0\",\"type\":\"BasicTicker\"}},\"id\":\"3a15e514-82c0-49ce-9c5c-da9ee95feabb\",\"type\":\"Grid\"},{\"attributes\":{\"plot\":{\"id\":\"ac4d76e5-cba2-4070-b3a0-c26e3370b2f6\",\"subtype\":\"Figure\",\"type\":\"Plot\"}},\"id\":\"6fdf24ba-6d3e-45b5-8999-54d3e67cc694\",\"type\":\"PanTool\"},{\"attributes\":{\"fill_alpha\":{\"value\":0.1},\"fill_color\":{\"value\":\"#1f77b4\"},\"line_alpha\":{\"value\":0.1},\"line_color\":{\"value\":\"#1f77b4\"},\"line_width\":{\"value\":3},\"x\":{\"field\":\"x\"},\"y\":{\"field\":\"y\"}},\"id\":\"060998fa-1c79-4bf6-af21-47904ee5216e\",\"type\":\"Circle\"},{\"attributes\":{},\"id\":\"6c6d456c-ddc7-4b66-9659-87f1fe58cee4\",\"type\":\"BasicTicker\"},{\"attributes\":{\"fill_alpha\":{\"value\":0.5},\"fill_color\":{\"value\":\"lightgrey\"},\"level\":\"overlay\",\"line_alpha\":{\"value\":1.0},\"line_color\":{\"value\":\"black\"},\"line_dash\":[4,4],\"line_width\":{\"value\":2},\"plot\":null,\"xs_units\":\"screen\",\"ys_units\":\"screen\"},\"id\":\"14c49cfa-55be-4ce5-a273-b142bb3ee541\",\"type\":\"PolyAnnotation\"},{\"attributes\":{\"axis_label\":\"Predicted\",\"axis_label_text_color\":{\"value\":\"#aa6666\"},\"formatter\":{\"id\":\"597af81b-be17-4134-8d2e-db22447632e9\",\"type\":\"BasicTickFormatter\"},\"major_tick_line_color\":{\"value\":\"firebrick\"},\"major_tick_line_width\":{\"value\":3},\"minor_tick_line_color\":{\"value\":\"orange\"},\"plot\":{\"id\":\"ac4d76e5-cba2-4070-b3a0-c26e3370b2f6\",\"subtype\":\"Figure\",\"type\":\"Plot\"},\"ticker\":{\"id\":\"03bc1a52-8ff0-42a0-b4da-c28aa28471b0\",\"type\":\"BasicTicker\"}},\"id\":\"863dc2e7-2a9f-4242-88d6-a3d4073ef8cd\",\"type\":\"LinearAxis\"},{\"attributes\":{\"data_source\":{\"id\":\"db5e2af3-b022-4c6b-89e4-95d4fd33cc75\",\"type\":\"ColumnDataSource\"},\"glyph\":{\"id\":\"3e4c180f-6f19-4917-ab26-1817de2abc9a\",\"type\":\"Circle\"},\"hover_glyph\":null,\"nonselection_glyph\":{\"id\":\"060998fa-1c79-4bf6-af21-47904ee5216e\",\"type\":\"Circle\"},\"selection_glyph\":null},\"id\":\"b198259a-ebf8-490d-9428-1fccc98b5f84\",\"type\":\"GlyphRenderer\"},{\"attributes\":{\"callback\":null,\"overlay\":{\"id\":\"3981b9a6-0b43-4eb5-a915-881516522296\",\"type\":\"BoxAnnotation\"},\"plot\":{\"id\":\"ac4d76e5-cba2-4070-b3a0-c26e3370b2f6\",\"subtype\":\"Figure\",\"type\":\"Plot\"},\"renderers\":[{\"id\":\"b198259a-ebf8-490d-9428-1fccc98b5f84\",\"type\":\"GlyphRenderer\"}]},\"id\":\"8491af09-b97b-4a90-8b97-9e326f6fcc78\",\"type\":\"BoxSelectTool\"},{\"attributes\":{\"plot\":{\"id\":\"ac4d76e5-cba2-4070-b3a0-c26e3370b2f6\",\"subtype\":\"Figure\",\"type\":\"Plot\"}},\"id\":\"affd4c04-3236-4046-bc0e-c987952bdb4c\",\"type\":\"SaveTool\"}],\"root_ids\":[\"ac4d76e5-cba2-4070-b3a0-c26e3370b2f6\"]},\"title\":\"Bokeh Application\",\"version\":\"0.12.2\"}};\n",
       "            var render_items = [{\"docid\":\"83086dc0-e9fe-424c-afa8-1293e8d3e9e2\",\"elementid\":\"573a1c19-af63-434f-9156-c83600e6f0d7\",\"modelid\":\"ac4d76e5-cba2-4070-b3a0-c26e3370b2f6\"}];\n",
       "            \n",
       "            Bokeh.embed.embed_items(docs_json, render_items);\n",
       "        });\n",
       "      },\n",
       "      function(Bokeh) {\n",
       "      }\n",
       "    ];\n",
       "  \n",
       "    function run_inline_js() {\n",
       "      \n",
       "      if ((window.Bokeh !== undefined) || (force === \"1\")) {\n",
       "        for (var i = 0; i < inline_js.length; i++) {\n",
       "          inline_js[i](window.Bokeh);\n",
       "        }if (force === \"1\") {\n",
       "          display_loaded();\n",
       "        }} else if (Date.now() < window._bokeh_timeout) {\n",
       "        setTimeout(run_inline_js, 100);\n",
       "      } else if (!window._bokeh_failed_load) {\n",
       "        console.log(\"Bokeh: BokehJS failed to load within specified timeout.\");\n",
       "        window._bokeh_failed_load = true;\n",
       "      } else if (!force) {\n",
       "        var cell = $(\"#573a1c19-af63-434f-9156-c83600e6f0d7\").parents('.cell').data().cell;\n",
       "        cell.output_area.append_execute_result(NB_LOAD_WARNING)\n",
       "      }\n",
       "  \n",
       "    }\n",
       "  \n",
       "    if (window._bokeh_is_loading === 0) {\n",
       "      console.log(\"Bokeh: BokehJS loaded, going straight to plotting\");\n",
       "      run_inline_js();\n",
       "    } else {\n",
       "      load_libs(js_urls, function() {\n",
       "        console.log(\"Bokeh: BokehJS plotting callback run at\", now());\n",
       "        run_inline_js();\n",
       "      });\n",
       "    }\n",
       "  }(this));\n",
       "</script>"
      ]
     },
     "metadata": {},
     "output_type": "display_data"
    }
   ],
   "source": [
    "# Plotining using bokeh\n",
    "#TOOLS = 'hover,box_zoom,box_select,crosshair,resize,reset,SVR_select,pan,save,poly_select,tap,wheel_zoom,undo'\n",
    "TOOLS = 'box_zoom,box_select,crosshair,resize,reset,lasso_select,pan,save,poly_select,tap,wheel_zoom,undo'\n",
    "p = figure(plot_width=500, plot_height=500, title=\"Residual plot on the training data\", tools=TOOLS)\n",
    "p.scatter(predicted, (predicted - Y),x=\"jjj\", marker=\"o\", color=\"#80B1D3\", line_width=3)\n",
    "p.title.align = \"center\"\n",
    "p.xaxis.axis_label = \"Predicted\"\n",
    "p.xaxis.axis_label_text_color = \"#aa6666\"\n",
    "#p.xaxis.axis_label_standoff = 30\n",
    "p.xaxis.major_tick_line_color = \"firebrick\"\n",
    "p.xaxis.major_tick_line_width = 3\n",
    "p.xaxis.minor_tick_line_color = \"orange\"\n",
    "p.yaxis.axis_label = \"Residuals\"\n",
    "p.yaxis.axis_label_text_font_style = \"italic\"\n",
    "p.yaxis.axis_label_text_color = \"#aa6666\"\n",
    "p.background_fill_color = \"beige\"\n",
    "p.background_fill_alpha = 0.5\n",
    "#p.line([2,38], [0, 0], line_dash=\"4 4\", line_width=2, color='red')\n",
    "show(p)"
   ]
  },
  {
   "cell_type": "markdown",
   "metadata": {},
   "source": [
    "## Pipeline"
   ]
  },
  {
   "cell_type": "markdown",
   "metadata": {},
   "source": [
    "The best to deliver the model by pipeline the operation then at deployment can be done in one model."
   ]
  },
  {
   "cell_type": "markdown",
   "metadata": {
    "collapsed": true
   },
   "source": [
    "  I used two ways to check the pipeline so any one can be fine"
   ]
  },
  {
   "cell_type": "code",
   "execution_count": 27,
   "metadata": {
    "collapsed": false
   },
   "outputs": [
    {
     "name": "stdout",
     "output_type": "stream",
     "text": [
      "0.88657531221\n",
      "Scoring according to mean_squared_error\n",
      "[ -3168.05312545   -574.87430071   -278.83443421   -362.35626685\n",
      "  -6944.95982067   -189.17373052   -149.27912442   -336.94103129\n",
      "  -7949.14047126 -12367.38413014]\n",
      "\n",
      " Mean      Standard deviation\n",
      "-3232.10      4131.06\n",
      "[ True  True  True  True  True  True  True]\n",
      "R-squared =  0.88657531221\n"
     ]
    },
    {
     "name": "stderr",
     "output_type": "stream",
     "text": [
      "/home/salm/anaconda2/lib/python2.7/site-packages/sklearn/utils/validation.py:420: DataConversionWarning: Data with input dtype int64 was converted to float64 by StandardScaler.\n",
      "  warnings.warn(msg, DataConversionWarning)\n",
      "/home/salm/anaconda2/lib/python2.7/site-packages/sklearn/utils/validation.py:420: DataConversionWarning: Data with input dtype int64 was converted to float64 by StandardScaler.\n",
      "  warnings.warn(msg, DataConversionWarning)\n",
      "/home/salm/anaconda2/lib/python2.7/site-packages/sklearn/utils/validation.py:420: DataConversionWarning: Data with input dtype int64 was converted to float64 by StandardScaler.\n",
      "  warnings.warn(msg, DataConversionWarning)\n",
      "/home/salm/anaconda2/lib/python2.7/site-packages/sklearn/utils/validation.py:420: DataConversionWarning: Data with input dtype int64 was converted to float64 by StandardScaler.\n",
      "  warnings.warn(msg, DataConversionWarning)\n",
      "/home/salm/anaconda2/lib/python2.7/site-packages/sklearn/utils/validation.py:420: DataConversionWarning: Data with input dtype int64 was converted to float64 by StandardScaler.\n",
      "  warnings.warn(msg, DataConversionWarning)\n",
      "/home/salm/anaconda2/lib/python2.7/site-packages/sklearn/utils/validation.py:420: DataConversionWarning: Data with input dtype int64 was converted to float64 by StandardScaler.\n",
      "  warnings.warn(msg, DataConversionWarning)\n",
      "/home/salm/anaconda2/lib/python2.7/site-packages/sklearn/utils/validation.py:420: DataConversionWarning: Data with input dtype int64 was converted to float64 by StandardScaler.\n",
      "  warnings.warn(msg, DataConversionWarning)\n",
      "/home/salm/anaconda2/lib/python2.7/site-packages/sklearn/utils/validation.py:420: DataConversionWarning: Data with input dtype int64 was converted to float64 by StandardScaler.\n",
      "  warnings.warn(msg, DataConversionWarning)\n",
      "/home/salm/anaconda2/lib/python2.7/site-packages/sklearn/utils/validation.py:420: DataConversionWarning: Data with input dtype int64 was converted to float64 by StandardScaler.\n",
      "  warnings.warn(msg, DataConversionWarning)\n",
      "/home/salm/anaconda2/lib/python2.7/site-packages/sklearn/utils/validation.py:420: DataConversionWarning: Data with input dtype int64 was converted to float64 by StandardScaler.\n",
      "  warnings.warn(msg, DataConversionWarning)\n",
      "/home/salm/anaconda2/lib/python2.7/site-packages/sklearn/utils/validation.py:420: DataConversionWarning: Data with input dtype int64 was converted to float64 by StandardScaler.\n",
      "  warnings.warn(msg, DataConversionWarning)\n",
      "/home/salm/anaconda2/lib/python2.7/site-packages/sklearn/utils/validation.py:420: DataConversionWarning: Data with input dtype int64 was converted to float64 by StandardScaler.\n",
      "  warnings.warn(msg, DataConversionWarning)\n",
      "/home/salm/anaconda2/lib/python2.7/site-packages/sklearn/utils/validation.py:420: DataConversionWarning: Data with input dtype int64 was converted to float64 by StandardScaler.\n",
      "  warnings.warn(msg, DataConversionWarning)\n",
      "/home/salm/anaconda2/lib/python2.7/site-packages/sklearn/utils/validation.py:420: DataConversionWarning: Data with input dtype int64 was converted to float64 by StandardScaler.\n",
      "  warnings.warn(msg, DataConversionWarning)\n",
      "/home/salm/anaconda2/lib/python2.7/site-packages/sklearn/utils/validation.py:420: DataConversionWarning: Data with input dtype int64 was converted to float64 by StandardScaler.\n",
      "  warnings.warn(msg, DataConversionWarning)\n",
      "/home/salm/anaconda2/lib/python2.7/site-packages/sklearn/utils/validation.py:420: DataConversionWarning: Data with input dtype int64 was converted to float64 by StandardScaler.\n",
      "  warnings.warn(msg, DataConversionWarning)\n",
      "/home/salm/anaconda2/lib/python2.7/site-packages/sklearn/utils/validation.py:420: DataConversionWarning: Data with input dtype int64 was converted to float64 by StandardScaler.\n",
      "  warnings.warn(msg, DataConversionWarning)\n",
      "/home/salm/anaconda2/lib/python2.7/site-packages/sklearn/utils/validation.py:420: DataConversionWarning: Data with input dtype int64 was converted to float64 by StandardScaler.\n",
      "  warnings.warn(msg, DataConversionWarning)\n",
      "/home/salm/anaconda2/lib/python2.7/site-packages/sklearn/utils/validation.py:420: DataConversionWarning: Data with input dtype int64 was converted to float64 by StandardScaler.\n",
      "  warnings.warn(msg, DataConversionWarning)\n",
      "/home/salm/anaconda2/lib/python2.7/site-packages/sklearn/utils/validation.py:420: DataConversionWarning: Data with input dtype int64 was converted to float64 by StandardScaler.\n",
      "  warnings.warn(msg, DataConversionWarning)\n",
      "/home/salm/anaconda2/lib/python2.7/site-packages/sklearn/utils/validation.py:420: DataConversionWarning: Data with input dtype int64 was converted to float64 by StandardScaler.\n",
      "  warnings.warn(msg, DataConversionWarning)\n",
      "/home/salm/anaconda2/lib/python2.7/site-packages/sklearn/utils/validation.py:420: DataConversionWarning: Data with input dtype int64 was converted to float64 by StandardScaler.\n",
      "  warnings.warn(msg, DataConversionWarning)\n",
      "/home/salm/anaconda2/lib/python2.7/site-packages/sklearn/utils/validation.py:420: DataConversionWarning: Data with input dtype int64 was converted to float64 by StandardScaler.\n",
      "  warnings.warn(msg, DataConversionWarning)\n",
      "/home/salm/anaconda2/lib/python2.7/site-packages/sklearn/utils/validation.py:420: DataConversionWarning: Data with input dtype int64 was converted to float64 by StandardScaler.\n",
      "  warnings.warn(msg, DataConversionWarning)\n",
      "/home/salm/anaconda2/lib/python2.7/site-packages/sklearn/utils/validation.py:420: DataConversionWarning: Data with input dtype int64 was converted to float64 by StandardScaler.\n",
      "  warnings.warn(msg, DataConversionWarning)\n",
      "/home/salm/anaconda2/lib/python2.7/site-packages/sklearn/utils/validation.py:420: DataConversionWarning: Data with input dtype int64 was converted to float64 by StandardScaler.\n",
      "  warnings.warn(msg, DataConversionWarning)\n",
      "/home/salm/anaconda2/lib/python2.7/site-packages/sklearn/utils/validation.py:420: DataConversionWarning: Data with input dtype int64 was converted to float64 by StandardScaler.\n",
      "  warnings.warn(msg, DataConversionWarning)\n",
      "/home/salm/anaconda2/lib/python2.7/site-packages/sklearn/utils/validation.py:420: DataConversionWarning: Data with input dtype int64 was converted to float64 by StandardScaler.\n",
      "  warnings.warn(msg, DataConversionWarning)\n",
      "/home/salm/anaconda2/lib/python2.7/site-packages/sklearn/utils/validation.py:420: DataConversionWarning: Data with input dtype int64 was converted to float64 by StandardScaler.\n",
      "  warnings.warn(msg, DataConversionWarning)\n",
      "/home/salm/anaconda2/lib/python2.7/site-packages/sklearn/utils/validation.py:420: DataConversionWarning: Data with input dtype int64 was converted to float64 by StandardScaler.\n",
      "  warnings.warn(msg, DataConversionWarning)\n",
      "/home/salm/anaconda2/lib/python2.7/site-packages/sklearn/utils/validation.py:420: DataConversionWarning: Data with input dtype int64 was converted to float64 by StandardScaler.\n",
      "  warnings.warn(msg, DataConversionWarning)\n",
      "/home/salm/anaconda2/lib/python2.7/site-packages/sklearn/utils/validation.py:420: DataConversionWarning: Data with input dtype int64 was converted to float64 by StandardScaler.\n",
      "  warnings.warn(msg, DataConversionWarning)\n",
      "/home/salm/anaconda2/lib/python2.7/site-packages/sklearn/utils/validation.py:420: DataConversionWarning: Data with input dtype int64 was converted to float64 by StandardScaler.\n",
      "  warnings.warn(msg, DataConversionWarning)\n",
      "/home/salm/anaconda2/lib/python2.7/site-packages/sklearn/utils/validation.py:420: DataConversionWarning: Data with input dtype int64 was converted to float64 by StandardScaler.\n",
      "  warnings.warn(msg, DataConversionWarning)\n"
     ]
    }
   ],
   "source": [
    "# Use Pipeline\n",
    "# ANOVA \n",
    "from sklearn.pipeline import Pipeline\n",
    "from sklearn.feature_selection import SelectKBest, f_regression\n",
    "anova_filter = SelectKBest(f_regression, k=7)\n",
    "LR = SVR(kernel = \"linear\", C = 5.0 )\n",
    "anova_LinReg = Pipeline([('scaler_Input',scaler), ('anova', anova_filter), ('LinReg', LR)])\n",
    "# You can set the parameters using the names issued\n",
    "# For instance, fit using a k of 10 in the SelectKBest\n",
    "anova_LinReg.set_params(anova__k=7).fit(new_data, Y)\n",
    "prediction = anova_LinReg.predict(new_data)\n",
    "print anova_LinReg.score(new_data, Y)                        \n",
    "# getting the selected features chosen by anova_filter\n",
    "results = cross_validation.cross_val_score(anova_LinReg, new_data, Y, cv=kfold, scoring=scoring)\n",
    "print 'Scoring according to mean_squared_error'\n",
    "print results\n",
    "print '\\n Mean      Standard deviation'\n",
    "print(\"%.2f      %.2f\" % (results.mean(), results.std()))\n",
    "print anova_LinReg.named_steps['anova'].get_support()\n",
    "r_squared = r2_score(Y, prediction, multioutput='variance_weighted')\n",
    "print 'R-squared = ',r_squared"
   ]
  },
  {
   "cell_type": "code",
   "execution_count": 28,
   "metadata": {
    "collapsed": false
   },
   "outputs": [
    {
     "name": "stdout",
     "output_type": "stream",
     "text": [
      "R-squared =  0.88657531221\n"
     ]
    },
    {
     "name": "stderr",
     "output_type": "stream",
     "text": [
      "/home/salm/anaconda2/lib/python2.7/site-packages/sklearn/utils/validation.py:420: DataConversionWarning: Data with input dtype int64 was converted to float64 by StandardScaler.\n",
      "  warnings.warn(msg, DataConversionWarning)\n",
      "/home/salm/anaconda2/lib/python2.7/site-packages/sklearn/utils/validation.py:420: DataConversionWarning: Data with input dtype int64 was converted to float64 by StandardScaler.\n",
      "  warnings.warn(msg, DataConversionWarning)\n",
      "/home/salm/anaconda2/lib/python2.7/site-packages/sklearn/utils/validation.py:420: DataConversionWarning: Data with input dtype int64 was converted to float64 by StandardScaler.\n",
      "  warnings.warn(msg, DataConversionWarning)\n"
     ]
    }
   ],
   "source": [
    "# Using make_pipeline\n",
    "from sklearn.pipeline import make_pipeline\n",
    "\n",
    "# ANOVA SVM-C\n",
    "# 1) anova filter, take 3 best ranked features\n",
    "anova_filter = SelectKBest(f_regression, k=7)\n",
    "anova_SVR = make_pipeline(scaler, anova_filter, LR)\n",
    "anova_SVR.fit(new_data, Y)\n",
    "prediction = anova_SVR.predict(new_data)\n",
    "r_squared = r2_score(Y, prediction, multioutput='variance_weighted')\n",
    "print 'R-squared = ',r_squared"
   ]
  },
  {
   "cell_type": "markdown",
   "metadata": {},
   "source": [
    "### Save the Pipeline model for developement"
   ]
  },
  {
   "cell_type": "code",
   "execution_count": 29,
   "metadata": {
    "collapsed": false
   },
   "outputs": [
    {
     "data": {
      "text/plain": [
       "['anova_SVR.pkl',\n",
       " 'anova_SVR.pkl_01.npy',\n",
       " 'anova_SVR.pkl_02.npy',\n",
       " 'anova_SVR.pkl_03.npy',\n",
       " 'anova_SVR.pkl_04.npy',\n",
       " 'anova_SVR.pkl_05.npy',\n",
       " 'anova_SVR.pkl_06.npy',\n",
       " 'anova_SVR.pkl_07.npy',\n",
       " 'anova_SVR.pkl_08.npy',\n",
       " 'anova_SVR.pkl_09.npy',\n",
       " 'anova_SVR.pkl_10.npy',\n",
       " 'anova_SVR.pkl_11.npy',\n",
       " 'anova_SVR.pkl_12.npy',\n",
       " 'anova_SVR.pkl_13.npy',\n",
       " 'anova_SVR.pkl_14.npy',\n",
       " 'anova_SVR.pkl_15.npy']"
      ]
     },
     "execution_count": 29,
     "metadata": {},
     "output_type": "execute_result"
    }
   ],
   "source": [
    "# save the model scaler to the desk\n",
    "from sklearn.externals import joblib\n",
    "joblib.dump(anova_SVR, 'anova_SVR.pkl') "
   ]
  },
  {
   "cell_type": "code",
   "execution_count": 30,
   "metadata": {
    "collapsed": false
   },
   "outputs": [
    {
     "name": "stdout",
     "output_type": "stream",
     "text": [
      " =================================================================>>>>> done\n",
      "R-squared =  0.88657531221\n"
     ]
    },
    {
     "name": "stderr",
     "output_type": "stream",
     "text": [
      "/home/salm/anaconda2/lib/python2.7/site-packages/sklearn/utils/validation.py:420: DataConversionWarning: Data with input dtype int64 was converted to float64 by StandardScaler.\n",
      "  warnings.warn(msg, DataConversionWarning)\n"
     ]
    }
   ],
   "source": [
    "# Test the model if it is work\n",
    "anova_SVRTest = joblib.load('anova_SVR.pkl')\n",
    "NewPred = anova_SVRTest.predict(new_data)\n",
    "print \" =================================================================>>>>> done\"\n",
    "r_squared = r2_score(Y, NewPred, multioutput='variance_weighted')\n",
    "print 'R-squared = ',r_squared"
   ]
  },
  {
   "cell_type": "code",
   "execution_count": 31,
   "metadata": {
    "collapsed": false
   },
   "outputs": [
    {
     "name": "stdout",
     "output_type": "stream",
     "text": [
      "Point of training data before normalization\n",
      "[   50  2000 32000    24     6    26   114]\n",
      "\n",
      "The read target of the data =  182\n",
      "\n",
      "The Predicted target of the data =  [ 158.03503769]\n"
     ]
    }
   ],
   "source": [
    "# test on single data point, randomly choose point number 55\n",
    "print 'Point of training data before normalization\\n',new_data[55]\n",
    "print '\\nThe read target of the data = ', Y[55]\n",
    "NewPred = anova_SVRTest.predict([new_data[55]])\n",
    "print '\\nThe Predicted target of the data = ', NewPred"
   ]
  },
  {
   "cell_type": "markdown",
   "metadata": {},
   "source": [
    "## Conclusion "
   ]
  }
 ],
 "metadata": {
  "kernelspec": {
   "display_name": "Python 2",
   "language": "python",
   "name": "python2"
  },
  "language_info": {
   "codemirror_mode": {
    "name": "ipython",
    "version": 2
   },
   "file_extension": ".py",
   "mimetype": "text/x-python",
   "name": "python",
   "nbconvert_exporter": "python",
   "pygments_lexer": "ipython2",
   "version": "2.7.12"
  }
 },
 "nbformat": 4,
 "nbformat_minor": 0
}
