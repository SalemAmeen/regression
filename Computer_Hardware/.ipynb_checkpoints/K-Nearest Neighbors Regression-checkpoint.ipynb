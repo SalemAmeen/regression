{
 "cells": [
  {
   "cell_type": "markdown",
   "metadata": {},
   "source": [
    "Salem Ameen, PhD student at Salford University\n",
    "\n",
    "### COMPUTER HARDWARE\n",
    "\n",
    "\n",
    "K-Nearest Neighbors Regression"
   ]
  },
  {
   "cell_type": "markdown",
   "metadata": {},
   "source": [
    "# Import the Libraries"
   ]
  },
  {
   "cell_type": "code",
   "execution_count": 1,
   "metadata": {
    "collapsed": false
   },
   "outputs": [
    {
     "data": {
      "text/html": [
       "\n",
       "    <div class=\"bk-root\">\n",
       "        <a href=\"http://bokeh.pydata.org\" target=\"_blank\" class=\"bk-logo bk-logo-small bk-logo-notebook\"></a>\n",
       "        <span id=\"c6a9c513-8751-437f-bf35-2dd7aa6360c5\">Loading BokehJS ...</span>\n",
       "    </div>"
      ]
     },
     "metadata": {},
     "output_type": "display_data"
    },
    {
     "data": {
      "application/javascript": [
       "\n",
       "(function(global) {\n",
       "  function now() {\n",
       "    return new Date();\n",
       "  }\n",
       "\n",
       "  var force = \"1\";\n",
       "\n",
       "  if (typeof (window._bokeh_onload_callbacks) === \"undefined\" || force !== \"\") {\n",
       "    window._bokeh_onload_callbacks = [];\n",
       "    window._bokeh_is_loading = undefined;\n",
       "  }\n",
       "\n",
       "\n",
       "  \n",
       "  if (typeof (window._bokeh_timeout) === \"undefined\" || force !== \"\") {\n",
       "    window._bokeh_timeout = Date.now() + 5000;\n",
       "    window._bokeh_failed_load = false;\n",
       "  }\n",
       "\n",
       "  var NB_LOAD_WARNING = {'data': {'text/html':\n",
       "     \"<div style='background-color: #fdd'>\\n\"+\n",
       "     \"<p>\\n\"+\n",
       "     \"BokehJS does not appear to have successfully loaded. If loading BokehJS from CDN, this \\n\"+\n",
       "     \"may be due to a slow or bad network connection. Possible fixes:\\n\"+\n",
       "     \"</p>\\n\"+\n",
       "     \"<ul>\\n\"+\n",
       "     \"<li>re-rerun `output_notebook()` to attempt to load from CDN again, or</li>\\n\"+\n",
       "     \"<li>use INLINE resources instead, as so:</li>\\n\"+\n",
       "     \"</ul>\\n\"+\n",
       "     \"<code>\\n\"+\n",
       "     \"from bokeh.resources import INLINE\\n\"+\n",
       "     \"output_notebook(resources=INLINE)\\n\"+\n",
       "     \"</code>\\n\"+\n",
       "     \"</div>\"}};\n",
       "\n",
       "  function display_loaded() {\n",
       "    if (window.Bokeh !== undefined) {\n",
       "      Bokeh.$(\"#c6a9c513-8751-437f-bf35-2dd7aa6360c5\").text(\"BokehJS successfully loaded.\");\n",
       "    } else if (Date.now() < window._bokeh_timeout) {\n",
       "      setTimeout(display_loaded, 100)\n",
       "    }\n",
       "  }\n",
       "\n",
       "  function run_callbacks() {\n",
       "    window._bokeh_onload_callbacks.forEach(function(callback) { callback() });\n",
       "    delete window._bokeh_onload_callbacks\n",
       "    console.info(\"Bokeh: all callbacks have finished\");\n",
       "  }\n",
       "\n",
       "  function load_libs(js_urls, callback) {\n",
       "    window._bokeh_onload_callbacks.push(callback);\n",
       "    if (window._bokeh_is_loading > 0) {\n",
       "      console.log(\"Bokeh: BokehJS is being loaded, scheduling callback at\", now());\n",
       "      return null;\n",
       "    }\n",
       "    if (js_urls == null || js_urls.length === 0) {\n",
       "      run_callbacks();\n",
       "      return null;\n",
       "    }\n",
       "    console.log(\"Bokeh: BokehJS not loaded, scheduling load and callback at\", now());\n",
       "    window._bokeh_is_loading = js_urls.length;\n",
       "    for (var i = 0; i < js_urls.length; i++) {\n",
       "      var url = js_urls[i];\n",
       "      var s = document.createElement('script');\n",
       "      s.src = url;\n",
       "      s.async = false;\n",
       "      s.onreadystatechange = s.onload = function() {\n",
       "        window._bokeh_is_loading--;\n",
       "        if (window._bokeh_is_loading === 0) {\n",
       "          console.log(\"Bokeh: all BokehJS libraries loaded\");\n",
       "          run_callbacks()\n",
       "        }\n",
       "      };\n",
       "      s.onerror = function() {\n",
       "        console.warn(\"failed to load library \" + url);\n",
       "      };\n",
       "      console.log(\"Bokeh: injecting script tag for BokehJS library: \", url);\n",
       "      document.getElementsByTagName(\"head\")[0].appendChild(s);\n",
       "    }\n",
       "  };var element = document.getElementById(\"c6a9c513-8751-437f-bf35-2dd7aa6360c5\");\n",
       "  if (element == null) {\n",
       "    console.log(\"Bokeh: ERROR: autoload.js configured with elementid 'c6a9c513-8751-437f-bf35-2dd7aa6360c5' but no matching script tag was found. \")\n",
       "    return false;\n",
       "  }\n",
       "\n",
       "  var js_urls = ['https://cdn.pydata.org/bokeh/release/bokeh-0.12.2.min.js', 'https://cdn.pydata.org/bokeh/release/bokeh-widgets-0.12.2.min.js', 'https://cdn.pydata.org/bokeh/release/bokeh-compiler-0.12.2.min.js'];\n",
       "\n",
       "  var inline_js = [\n",
       "    function(Bokeh) {\n",
       "      Bokeh.set_log_level(\"info\");\n",
       "    },\n",
       "    \n",
       "    function(Bokeh) {\n",
       "      \n",
       "      Bokeh.$(\"#c6a9c513-8751-437f-bf35-2dd7aa6360c5\").text(\"BokehJS is loading...\");\n",
       "    },\n",
       "    function(Bokeh) {\n",
       "      console.log(\"Bokeh: injecting CSS: https://cdn.pydata.org/bokeh/release/bokeh-0.12.2.min.css\");\n",
       "      Bokeh.embed.inject_css(\"https://cdn.pydata.org/bokeh/release/bokeh-0.12.2.min.css\");\n",
       "      console.log(\"Bokeh: injecting CSS: https://cdn.pydata.org/bokeh/release/bokeh-widgets-0.12.2.min.css\");\n",
       "      Bokeh.embed.inject_css(\"https://cdn.pydata.org/bokeh/release/bokeh-widgets-0.12.2.min.css\");\n",
       "    }\n",
       "  ];\n",
       "\n",
       "  function run_inline_js() {\n",
       "    \n",
       "    if ((window.Bokeh !== undefined) || (force === \"1\")) {\n",
       "      for (var i = 0; i < inline_js.length; i++) {\n",
       "        inline_js[i](window.Bokeh);\n",
       "      }if (force === \"1\") {\n",
       "        display_loaded();\n",
       "      }} else if (Date.now() < window._bokeh_timeout) {\n",
       "      setTimeout(run_inline_js, 100);\n",
       "    } else if (!window._bokeh_failed_load) {\n",
       "      console.log(\"Bokeh: BokehJS failed to load within specified timeout.\");\n",
       "      window._bokeh_failed_load = true;\n",
       "    } else if (!force) {\n",
       "      var cell = $(\"#c6a9c513-8751-437f-bf35-2dd7aa6360c5\").parents('.cell').data().cell;\n",
       "      cell.output_area.append_execute_result(NB_LOAD_WARNING)\n",
       "    }\n",
       "\n",
       "  }\n",
       "\n",
       "  if (window._bokeh_is_loading === 0) {\n",
       "    console.log(\"Bokeh: BokehJS loaded, going straight to plotting\");\n",
       "    run_inline_js();\n",
       "  } else {\n",
       "    load_libs(js_urls, function() {\n",
       "      console.log(\"Bokeh: BokehJS plotting callback run at\", now());\n",
       "      run_inline_js();\n",
       "    });\n",
       "  }\n",
       "}(this));"
      ]
     },
     "metadata": {},
     "output_type": "display_data"
    }
   ],
   "source": [
    "import numpy as np\n",
    "import pandas\n",
    "from numpy import *\n",
    "import time\n",
    "import sys\n",
    "import pandas as pd\n",
    "import matplotlib.pyplot as plt\n",
    "from sklearn import feature_selection\n",
    "from sklearn.neighbors import KNeighborsRegressor\n",
    "from sklearn.learning_curve import learning_curve, validation_curve\n",
    "from sklearn.cross_validation import cross_val_predict\n",
    "from sklearn import metrics, grid_search, cross_validation\n",
    "from IPython.display import set_matplotlib_formats\n",
    "from bokeh.plotting import figure, show, output_notebook\n",
    "from sklearn.grid_search import GridSearchCV, RandomizedSearchCV\n",
    "from sklearn.metrics import r2_score\n",
    "from bokeh.layouts import gridplot\n",
    "output_notebook()\n",
    "set_matplotlib_formats('png', 'pdf')\n",
    "%matplotlib inline\n",
    "plt.rcParams['figure.figsize'] = (6, 6)"
   ]
  },
  {
   "cell_type": "markdown",
   "metadata": {},
   "source": [
    "# Load data"
   ]
  },
  {
   "cell_type": "markdown",
   "metadata": {},
   "source": [
    "In the previous file we have not change the data as there is no missing value or add any new parameters so it can be downloaded from the web directly. "
   ]
  },
  {
   "cell_type": "code",
   "execution_count": 2,
   "metadata": {
    "collapsed": false
   },
   "outputs": [
    {
     "name": "stdout",
     "output_type": "stream",
     "text": [
      "Number of examples 209\n"
     ]
    }
   ],
   "source": [
    "url = 'http://archive.ics.uci.edu/ml/machine-learning-databases/cpu-performance/machine.data'\n",
    "names = ['vendor', 'Model', 'MYCT', 'MMIN', 'MMAX', 'CACH', 'CHMIN','CHMAX','PRP','ERP']\n",
    "feature_names = ['MYCT', 'MMIN', 'MMAX', 'CACH', 'CHMIN','CHMAX','PRP','ERP']\n",
    "feature_cols = ['MYCT', 'MMIN', 'MMAX', 'CACH', 'CHMIN','CHMAX','PRP','ERP']\n",
    "data = pd.read_csv(url, sep=',', names = names)\n",
    "data = data.drop('vendor',1)\n",
    "data = data.drop('Model',1)\n",
    "\n",
    "from sklearn import preprocessing\n",
    "\n",
    "def number_encode_features(df):\n",
    "    result = df.copy()\n",
    "    encoders = {}\n",
    "    for column in result.columns:\n",
    "        if result.dtypes[column] == np.object:\n",
    "            encoders[column] = preprocessing.LabelEncoder()\n",
    "            result[column] = encoders[column].fit_transform(result[column])\n",
    "    return result, encoders\n",
    "\n",
    "data, _ = number_encode_features(data)\n",
    "\n",
    "dataset = data.values\n",
    "X = dataset[:,0:7]\n",
    "Y = dataset[:,7]\n",
    "print 'Number of examples',len(X)"
   ]
  },
  {
   "cell_type": "code",
   "execution_count": 3,
   "metadata": {
    "collapsed": false
   },
   "outputs": [
    {
     "name": "stdout",
     "output_type": "stream",
     "text": [
      "Number of training examples 167\n",
      "Number of validation examples 42\n"
     ]
    }
   ],
   "source": [
    "# Make developement dataset for genrilization and final testing\n",
    "from sklearn.cross_validation import train_test_split\n",
    "# Extracting 20% testing data\n",
    "X_train, X_test, y_train, y_test = train_test_split(\n",
    "    X, Y, test_size=0.20, random_state=0)\n",
    "X = X_train\n",
    "Y = y_train\n",
    "new_data      = X_train\n",
    "new_test_data = X_test\n",
    "print 'Number of training examples',len(X_train)\n",
    "print 'Number of validation examples',len(X_test)"
   ]
  },
  {
   "cell_type": "markdown",
   "metadata": {},
   "source": [
    "Number of training data is very small so we need to use cross validation instead of spareate another validation data."
   ]
  },
  {
   "cell_type": "markdown",
   "metadata": {},
   "source": [
    "From the previous visulization the data has no missing value but has many outlier and some sparisty"
   ]
  },
  {
   "cell_type": "markdown",
   "metadata": {},
   "source": [
    "# Ranking of the feature's importance to the target"
   ]
  },
  {
   "cell_type": "code",
   "execution_count": 4,
   "metadata": {
    "collapsed": false
   },
   "outputs": [
    {
     "name": "stdout",
     "output_type": "stream",
     "text": [
      "MYCT \t0.678912216212\n",
      "MMIN \t0.54769920598\n",
      "MMAX \t0.90000408347\n",
      "CACH \t0.501295385927\n",
      "CHMIN \t0.474715154041\n",
      "CHMAX \t0.37337723759\n",
      "PRP \t0.909260800348\n",
      "ERP \t0.972854498294\n"
     ]
    }
   ],
   "source": [
    "# Using just correlation coefficient even in prevoius file we show them using data frame\n",
    "for col in feature_cols:\n",
    "    lm = KNeighborsRegressor()\n",
    "    lm.fit(data[[col]], data['ERP'])\n",
    "    print col,'\\t', lm.score(data[[col]], data['ERP'])"
   ]
  },
  {
   "cell_type": "code",
   "execution_count": 5,
   "metadata": {
    "collapsed": false
   },
   "outputs": [
    {
     "name": "stdout",
     "output_type": "stream",
     "text": [
      "Feature Name      Score         Pvalue\n",
      "MYCT \t\t18.7784506906 \t2.28953652773e-05\n",
      "MMIN \t\t422.636024187 \t6.7010130085e-52\n",
      "MMAX \t\t895.035239011 \t4.20559221576e-77\n",
      "CACH \t\t150.332889484 \t2.4462451136e-26\n",
      "CHMIN \t\t123.042583867 \t9.66488661491e-23\n",
      "CHMAX \t\t111.779441433 \t3.62169179267e-21\n",
      "PRP \t\t2932.57297327 \t3.42704839853e-124\n",
      "ERP \t\tinf \t0.0\n"
     ]
    }
   ],
   "source": [
    "# Randing the important features to the target\n",
    "model = feature_selection.SelectKBest(score_func=feature_selection.f_regression,k=4)\n",
    "results = model.fit(data[feature_cols], data['ERP'])\n",
    "k=0\n",
    "print 'Feature Name      Score         Pvalue'\n",
    "for feat in feature_cols:\n",
    "    print feat,'\\t\\t',results.scores_[k],'\\t',results.pvalues_[k]\n",
    "    k=k+1\n"
   ]
  },
  {
   "cell_type": "markdown",
   "metadata": {},
   "source": [
    "# Set the parameters for cross validation"
   ]
  },
  {
   "cell_type": "code",
   "execution_count": 6,
   "metadata": {
    "collapsed": true
   },
   "outputs": [],
   "source": [
    "num_folds = 10\n",
    "num_instances = len(X)\n",
    "seed = 7\n",
    "kfold = cross_validation.KFold(n=num_instances, n_folds=num_folds, random_state=seed)"
   ]
  },
  {
   "cell_type": "markdown",
   "metadata": {},
   "source": [
    " # Set the parameters for bias-variance dilemma"
   ]
  },
  {
   "cell_type": "code",
   "execution_count": 7,
   "metadata": {
    "collapsed": false
   },
   "outputs": [],
   "source": [
    "def plot_learning_curve(estimator, title, X, y, ylim=None, cv=None,\n",
    "                        n_jobs=1, train_sizes=np.linspace(.1, 1.0, 5)):\n",
    "    plt.figure()\n",
    "    plt.title(title)\n",
    "    if ylim is not None:\n",
    "        plt.ylim(*ylim)\n",
    "    plt.xlabel(\"Training examples\")\n",
    "    plt.ylabel(\"Score\")\n",
    "    train_sizes, train_scores, test_scores = learning_curve(\n",
    "        estimator, X, y, cv=cv, n_jobs=n_jobs, train_sizes=train_sizes)\n",
    "    train_scores_mean = np.mean(train_scores, axis=1)\n",
    "    train_scores_std = np.std(train_scores, axis=1)\n",
    "    test_scores_mean = np.mean(test_scores, axis=1)\n",
    "    test_scores_std = np.std(test_scores, axis=1)\n",
    "    plt.grid()\n",
    "\n",
    "    plt.fill_between(train_sizes, train_scores_mean - train_scores_std,\n",
    "                     train_scores_mean + train_scores_std, alpha=0.1,\n",
    "                     color=\"r\")\n",
    "    plt.fill_between(train_sizes, test_scores_mean - test_scores_std,\n",
    "                     test_scores_mean + test_scores_std, alpha=0.1, color=\"g\")\n",
    "    plt.plot(train_sizes, train_scores_mean, 'o-', color=\"r\",\n",
    "             label=\"Training score\")\n",
    "    plt.plot(train_sizes, test_scores_mean, 'o-', color=\"g\",\n",
    "             label=\"Cross-validation score\")\n",
    "\n",
    "    plt.legend(loc=\"best\")\n",
    "    return plt"
   ]
  },
  {
   "cell_type": "markdown",
   "metadata": {},
   "source": [
    "# Preprocessing the data and save both the model and preprocessed data"
   ]
  },
  {
   "cell_type": "code",
   "execution_count": 8,
   "metadata": {
    "collapsed": false
   },
   "outputs": [
    {
     "name": "stderr",
     "output_type": "stream",
     "text": [
      "/home/salm/anaconda2/lib/python2.7/site-packages/sklearn/utils/validation.py:420: DataConversionWarning: Data with input dtype int64 was converted to float64 by StandardScaler.\n",
      "  warnings.warn(msg, DataConversionWarning)\n"
     ]
    }
   ],
   "source": [
    "# According to the nature of the data spasity and there is outliter RobustScaler class is recomandit \n",
    "# but when I tried both of them the result seems is same\n",
    "from sklearn.preprocessing import StandardScaler\n",
    "scaler = preprocessing.StandardScaler().fit(X_train)"
   ]
  },
  {
   "cell_type": "code",
   "execution_count": 9,
   "metadata": {
    "collapsed": false
   },
   "outputs": [
    {
     "name": "stderr",
     "output_type": "stream",
     "text": [
      "/home/salm/anaconda2/lib/python2.7/site-packages/sklearn/utils/validation.py:420: DataConversionWarning: Data with input dtype int64 was converted to float64 by StandardScaler.\n",
      "  warnings.warn(msg, DataConversionWarning)\n",
      "/home/salm/anaconda2/lib/python2.7/site-packages/sklearn/utils/validation.py:420: DataConversionWarning: Data with input dtype int64 was converted to float64 by StandardScaler.\n",
      "  warnings.warn(msg, DataConversionWarning)\n"
     ]
    }
   ],
   "source": [
    "X_train = scaler.transform(X_train)\n",
    "X_test = scaler.transform(X_test) # use same transform for testing data\n",
    "X = X_train"
   ]
  },
  {
   "cell_type": "code",
   "execution_count": 10,
   "metadata": {
    "collapsed": true
   },
   "outputs": [],
   "source": [
    "# save transformed data\n",
    "np.save('./data/X_train', X_train)\n",
    "np.save('./data/y_train', y_train)\n",
    "np.save('./data/X_test', X_test)\n",
    "np.save('./data/y_test', y_test)"
   ]
  },
  {
   "cell_type": "code",
   "execution_count": 11,
   "metadata": {
    "collapsed": false
   },
   "outputs": [
    {
     "data": {
      "text/plain": [
       "['scaler.pkl', 'scaler.pkl_01.npy', 'scaler.pkl_02.npy', 'scaler.pkl_03.npy']"
      ]
     },
     "execution_count": 11,
     "metadata": {},
     "output_type": "execute_result"
    }
   ],
   "source": [
    "# save the model scaler to the desk\n",
    "from sklearn.externals import joblib\n",
    "joblib.dump(scaler, 'scaler.pkl') "
   ]
  },
  {
   "cell_type": "code",
   "execution_count": 12,
   "metadata": {
    "collapsed": false
   },
   "outputs": [
    {
     "name": "stdout",
     "output_type": "stream",
     "text": [
      " =================================================================>>>>> done\n",
      "[[-0.59364305 -0.20866821 -0.31349377  0.98611582 -0.51650809 -0.39068313\n",
      "  -0.09019932]\n",
      " [ 0.43869005 -0.4699337  -0.72397006 -0.63206819 -0.38024134 -0.53321526\n",
      "  -0.54180082]\n",
      " [-0.6318776  -0.04668361 -0.10989753  0.11478597  0.98242613  0.17944539\n",
      "  -0.26252094]\n",
      " [-0.72364055  1.35892472  1.65679241  0.96122068  0.43735914  0.46450965\n",
      "   1.25272091]\n",
      " [-0.55540849  0.31386277  0.01488726 -0.43290708  0.16482565 -0.39068313\n",
      "  -0.19121544]\n",
      " [ 0.43869005 -0.4699337  -0.80606531 -0.63206819 -0.51650809 -0.60448133\n",
      "  -0.54180082]\n",
      " [-0.13482833 -0.20866821  0.34326829 -0.23374597 -0.51650809 -0.4619492\n",
      "  -0.24469457]\n",
      " [ 4.91213348 -0.53054729 -0.88816057 -0.63206819 -0.65277484 -0.67574739\n",
      "  -0.56556931]\n",
      " [-0.28776657 -0.20866821  1.65679241  0.16457625 -0.51650809  1.24843637\n",
      "   0.2009648 ]\n",
      " [-0.63952452  0.31386277  1.00003035  0.16457625  0.43735914  0.17944539\n",
      "   0.63473992]\n",
      " [-0.31453076 -0.4699337  -0.31349377 -0.40801194 -0.2439746  -0.248151\n",
      "  -0.20904182]\n",
      " [-0.70834672  3.44904862  1.65679241  5.74108728  1.52749312  0.17944539\n",
      "   2.39360889]\n",
      " [-0.28776657 -0.4699337   0.34326829 -0.23374597 -0.51650809 -0.56884829\n",
      "   0.18313842]\n",
      " [-0.5974665   1.35892472  0.34326829  0.96122068  0.98242613  0.17944539\n",
      "   0.48024467]\n",
      " [-0.72364055  3.44904862  1.65679241  0.96122068  0.43735914  0.17944539\n",
      "   2.12621327]\n",
      " [-0.28776657 -0.20866821 -0.6418748  -0.63206819 -0.10770785 -0.39068313\n",
      "  -0.39918982]\n",
      " [-0.44835172 -0.4699337  -0.31349377  0.16457625 -0.38024134 -0.39068313\n",
      "  -0.36353707]\n",
      " [-0.6318776  -0.4699337  -0.6418748  -0.43290708 -0.51650809 -0.49758223\n",
      "  -0.46455319]\n",
      " [-0.47893937 -0.66431522 -0.88816057 -0.63206819 -0.2439746  -0.31941706\n",
      "  -0.53585869]\n",
      " [-0.2762962  -0.4699337  -0.80606531 -0.63206819  0.0285589  -0.10561887\n",
      "  -0.45266894]\n",
      " [-0.05835922 -0.4699337  -0.80606531 -0.63206819 -0.51650809 -0.60448133\n",
      "  -0.48832169]\n",
      " [-0.05835922 -0.59743125  0.34326829 -0.63206819 -0.10770785  0.46450965\n",
      "  -0.42890044]\n",
      " [-0.73511091  3.44904862  1.65679241  0.96122068  1.52749312  0.46450965\n",
      "   2.26882427]\n",
      " [-0.40247025 -0.4699337   0.01488726 -0.23374597 -0.51650809 -0.60448133\n",
      "  -0.28034732]\n",
      " [-0.28776657 -0.20866821 -0.6418748  -0.43290708 -0.51650809  0.03691326\n",
      "  -0.50614807]\n",
      " [-0.6318776  -0.20866821  0.34326829 -0.33332653 -0.2439746  -0.10561887\n",
      "  -0.36947919]\n",
      " [-0.6318776  -0.20866821 -0.6418748  -0.63206819 -0.2439746  -0.4619492\n",
      "  -0.47643744]\n",
      " [ 2.23571434 -0.53054729 -0.80606531 -0.63206819 -0.65277484 -0.67574739\n",
      "  -0.51803232]\n",
      " [-0.5018801  -0.4699337  -0.80606531 -0.63206819 -0.51650809 -0.4619492\n",
      "  -0.56556931]\n",
      " [-0.42158753 -0.20866821 -0.47768428 -0.23374597  0.16482565 -0.10561887\n",
      "  -0.44078469]\n",
      " [ 0.32398638 -0.53054729  0.01488726 -0.48269736  0.16482565  0.17944539\n",
      "  -0.33976857]\n",
      " [-0.54776157 -0.20866821 -0.31349377 -0.23374597  0.16482565 -0.39068313\n",
      "  -0.0129517 ]\n",
      " [-0.38335297 -0.20866821 -0.31349377 -0.23374597 -0.51650809 -0.56884829\n",
      "  -0.33976857]\n",
      " [-0.53629121  0.05259728 -0.31349377 -0.43290708 -0.2439746   1.03463817\n",
      "  -0.25657882]\n",
      " [-0.62423069  0.31386277  0.34326829  0.16457625 -0.10770785 -0.248151\n",
      "   0.13560143]\n",
      " [-0.59364305 -0.20866821  0.34326829  0.96122068  0.0285589  -0.39068313\n",
      "  -0.19715757]\n",
      " [-0.21129745 -0.59743125 -0.6418748  -0.58227791 -0.51650809 -0.49758223\n",
      "  -0.45861107]\n",
      " [-0.727464   -0.20866821  0.01488726 -0.43290708 -0.51650809 -0.53321526\n",
      "  -0.34571069]\n",
      " [-0.18453326 -0.59429607 -0.80606531 -0.43290708 -0.10770785 -0.1412519\n",
      "  -0.52397444]\n",
      " [-0.6318776  -0.20866821  0.34326829 -0.03458486  0.16482565 -0.10561887\n",
      "  -0.31600007]\n",
      " [-0.72364055  1.35892472  1.00003035  0.16457625  0.43735914 -0.10561887\n",
      "   0.3911128 ]\n",
      " [-0.2762962  -0.13028856 -0.46126523 -0.63206819  0.16482565  1.6047667\n",
      "  -0.27440519]]\n"
     ]
    },
    {
     "name": "stderr",
     "output_type": "stream",
     "text": [
      "/home/salm/anaconda2/lib/python2.7/site-packages/sklearn/utils/validation.py:420: DataConversionWarning: Data with input dtype int64 was converted to float64 by StandardScaler.\n",
      "  warnings.warn(msg, DataConversionWarning)\n"
     ]
    }
   ],
   "source": [
    "# Test the model if it is work\n",
    "scalerTest = joblib.load('scaler.pkl')\n",
    "new_data_scaled = scalerTest.transform(new_test_data)\n",
    "print \" =================================================================>>>>> done\"\n",
    "print new_data_scaled"
   ]
  },
  {
   "cell_type": "markdown",
   "metadata": {},
   "source": [
    "# 1. KNeighborsRegressor Regression"
   ]
  },
  {
   "cell_type": "markdown",
   "metadata": {},
   "source": [
    "K-Nearest Neighbors (or KNN) locates the K most similar instances in the training dataset for a new data instance. From the K neighbors, a mean or median output variable is taken as the prediction. Of note is the distance metric used (the metric argument). The Minkowski distance is used by default, which is a generalization of both the Euclidean distance (used when all inputs have the same scale) and Manhattan distance (for when the scales of the input variables differ)."
   ]
  },
  {
   "cell_type": "markdown",
   "metadata": {},
   "source": [
    "## Validation curve"
   ]
  },
  {
   "cell_type": "markdown",
   "metadata": {},
   "source": [
    "choosing multiple hyperparameters of an estimator "
   ]
  },
  {
   "cell_type": "code",
   "execution_count": 13,
   "metadata": {
    "collapsed": false
   },
   "outputs": [
    {
     "data": {
      "text/plain": [
       "['n_neighbors',\n",
       " 'n_jobs',\n",
       " 'algorithm',\n",
       " 'metric',\n",
       " 'metric_params',\n",
       " 'p',\n",
       " 'weights',\n",
       " 'leaf_size']"
      ]
     },
     "execution_count": 13,
     "metadata": {},
     "output_type": "execute_result"
    }
   ],
   "source": [
    "from sklearn.neighbors import KNeighborsRegressor\n",
    "estimator = KNeighborsRegressor()\n",
    "estimator.get_params().keys()"
   ]
  },
  {
   "cell_type": "code",
   "execution_count": 14,
   "metadata": {
    "collapsed": false
   },
   "outputs": [
    {
     "name": "stdout",
     "output_type": "stream",
     "text": [
      "[3 4 5 6]\n"
     ]
    }
   ],
   "source": [
    "print  np.arange(3,7)\n",
    "\n",
    " \n"
   ]
  },
  {
   "cell_type": "code",
   "execution_count": 15,
   "metadata": {
    "collapsed": false
   },
   "outputs": [
    {
     "data": {
      "image/png": "[encoded data removed]",
      "text/plain": [
       "<matplotlib.figure.Figure at 0x7f5567aae710>"
      ]
     },
     "metadata": {},
     "output_type": "display_data"
    }
   ],
   "source": [
    "# For parametr alpha\n",
    "#param_range = np.logspace(-10.0, 10.0)\n",
    "#param_range = np.linspace(1,50,100)\n",
    "param_range = np.arange(1,50) # generate integer numbers\n",
    "\n",
    "train_scores, test_scores = validation_curve(\n",
    "    KNeighborsRegressor(), X, Y, param_name=\"n_neighbors\", param_range=param_range,\n",
    "    cv=num_folds,  n_jobs=-1)\n",
    "train_scores_mean = np.mean(train_scores, axis=1)\n",
    "train_scores_std = np.std(train_scores, axis=1)\n",
    "test_scores_mean = np.mean(test_scores, axis=1)\n",
    "test_scores_std = np.std(test_scores, axis=1)\n",
    "\n",
    "plt.title(\"Validation Curve with KNeighborsRegressor\")\n",
    "plt.xlabel(\"n_neighbors\")\n",
    "plt.ylabel(\"Score\")\n",
    "plt.ylim(0.4, 1.0)\n",
    "plt.plot(param_range, train_scores_mean, label=\"Training score\", color=\"r\")\n",
    "plt.fill_between(param_range, train_scores_mean - train_scores_std,\n",
    "                 train_scores_mean + train_scores_std, alpha=0.2, color=\"r\")\n",
    "plt.plot(param_range, test_scores_mean, label=\"Cross-validation score\",\n",
    "             color=\"g\")\n",
    "plt.fill_between(param_range, test_scores_mean - test_scores_std,\n",
    "                 test_scores_mean + test_scores_std, alpha=0.2, color=\"g\")\n",
    "plt.legend(loc=\"best\")\n",
    "plt.show()"
   ]
  },
  {
   "cell_type": "markdown",
   "metadata": {},
   "source": [
    "Less that 10 is the best of number of K"
   ]
  },
  {
   "cell_type": "code",
   "execution_count": 16,
   "metadata": {
    "collapsed": false
   },
   "outputs": [
    {
     "data": {
      "image/png": "[encoded data removed]",
      "text/plain": [
       "<matplotlib.figure.Figure at 0x7f5567aaed90>"
      ]
     },
     "metadata": {},
     "output_type": "display_data"
    }
   ],
   "source": [
    "# For parametr alpha\n",
    "#param_range = np.logspace(-10.0, 10.0)\n",
    "#param_range = np.linspace(1,50,100)\n",
    "param_range = np.arange(1,100) # generate integer numbers\n",
    "\n",
    "train_scores, test_scores = validation_curve(\n",
    "    KNeighborsRegressor(), X, Y, param_name=\"leaf_size\", param_range=param_range,\n",
    "    cv=num_folds,  n_jobs=-1)\n",
    "train_scores_mean = np.mean(train_scores, axis=1)\n",
    "train_scores_std = np.std(train_scores, axis=1)\n",
    "test_scores_mean = np.mean(test_scores, axis=1)\n",
    "test_scores_std = np.std(test_scores, axis=1)\n",
    "\n",
    "plt.title(\"Validation Curve with KNeighborsRegressor\")\n",
    "plt.xlabel(\"leaf_size\")\n",
    "plt.ylabel(\"Score\")\n",
    "plt.ylim(0.4, 1.0)\n",
    "plt.plot(param_range, train_scores_mean, label=\"Training score\", color=\"r\")\n",
    "plt.fill_between(param_range, train_scores_mean - train_scores_std,\n",
    "                 train_scores_mean + train_scores_std, alpha=0.2, color=\"r\")\n",
    "plt.plot(param_range, test_scores_mean, label=\"Cross-validation score\",\n",
    "             color=\"g\")\n",
    "plt.fill_between(param_range, test_scores_mean - test_scores_std,\n",
    "                 test_scores_mean + test_scores_std, alpha=0.2, color=\"g\")\n",
    "plt.legend(loc=\"best\")\n",
    "plt.show()"
   ]
  },
  {
   "cell_type": "markdown",
   "metadata": {},
   "source": [
    "leaf_size does not effect so will keep the defulte one which is 30"
   ]
  },
  {
   "cell_type": "markdown",
   "metadata": {},
   "source": [
    "## Grid search and/or Random search to determine best compination of parameters"
   ]
  },
  {
   "cell_type": "code",
   "execution_count": 17,
   "metadata": {
    "collapsed": false
   },
   "outputs": [
    {
     "name": "stdout",
     "output_type": "stream",
     "text": [
      "Hyperparameter optimization using GridSearchCV...\n",
      "Parameters with rank: 1\n",
      "Mean validation score: 0.9187 (std: 0.0889)\n",
      "Parameters: {'n_neighbors': 1, 'algorithm': 'auto'}\n",
      "\n",
      "Parameters with rank: 2\n",
      "Mean validation score: 0.9187 (std: 0.0889)\n",
      "Parameters: {'n_neighbors': 1, 'algorithm': 'ball_tree'}\n",
      "\n",
      "Parameters with rank: 3\n",
      "Mean validation score: 0.9187 (std: 0.0889)\n",
      "Parameters: {'n_neighbors': 1, 'algorithm': 'kd_tree'}\n",
      "\n",
      "Parameters with rank: 4\n",
      "Mean validation score: 0.9187 (std: 0.0889)\n",
      "Parameters: {'n_neighbors': 1, 'algorithm': 'brute'}\n",
      "\n",
      "Parameters with rank: 5\n",
      "Mean validation score: 0.8647 (std: 0.1133)\n",
      "Parameters: {'n_neighbors': 5, 'algorithm': 'auto'}\n",
      "\n",
      "+++++++++++++++++++++++++++++++++++++++++++++++\n",
      "Hyperparameter optimization using RandomizedSearchCV\n",
      "Parameters with rank: 1\n",
      "Mean validation score: 0.9187 (std: 0.0889)\n",
      "Parameters: {'n_neighbors': 1, 'algorithm': 'kd_tree'}\n",
      "\n"
     ]
    }
   ],
   "source": [
    "# Utility function to report optimal parameters\n",
    "from operator import itemgetter\n",
    "def report(grid_scores, n_top=5):\n",
    "    params = None\n",
    "    top_scores = sorted(grid_scores, key=itemgetter(1), reverse=True)[:n_top]\n",
    "    for i, score in enumerate(top_scores):\n",
    "        print(\"Parameters with rank: {0}\".format(i + 1))\n",
    "        print(\"Mean validation score: {0:.4f} (std: {1:.4f})\".format(\n",
    "              score.mean_validation_score, np.std(score.cv_validation_scores)))\n",
    "        print(\"Parameters: {0}\".format(score.parameters))\n",
    "        print(\"\")\n",
    "        \n",
    "        if params == None:\n",
    "            params = score.parameters\n",
    "    \n",
    "    return params\n",
    "\n",
    "# The most common value for the max number of features to look at in each split is sqrt(# of features)\n",
    "sqrtfeat = np.sqrt(X.shape[1]) \n",
    "# Simple grid test (162 combinations)\n",
    "grid_test1 = { \"n_neighbors\"      : [1,5,10],\n",
    "                \"algorithm\"      : [\"auto\", \"ball_tree\", \"kd_tree\", \"brute\"]}\n",
    "\n",
    "# Large randomized test using max_depth to control tree size (5000 possible combinations)\n",
    "random_test1 = { \"n_neighbors\"      : np.arange(1,2),\n",
    "                \"algorithm\"      : [\"auto\", \"ball_tree\", \"kd_tree\", \"brute\"]}\n",
    "\n",
    "\n",
    "forest = KNeighborsRegressor()\n",
    "\n",
    "print \"Hyperparameter optimization using GridSearchCV...\"\n",
    "grid_search = GridSearchCV(forest, grid_test1, n_jobs=-1, cv=num_folds)\n",
    "grid_search.fit(X, Y)\n",
    "best_params_from_grid_search = report(grid_search.grid_scores_)\n",
    "print '+++++++++++++++++++++++++++++++++++++++++++++++'\n",
    "print \"Hyperparameter optimization using RandomizedSearchCV\"\n",
    "grid_search = RandomizedSearchCV(forest, random_test1, n_jobs=-1, cv=num_folds, n_iter=1)\n",
    "grid_search.fit(X, Y)\n",
    "best_params_from_rand_search1 = report(grid_search.grid_scores_)"
   ]
  },
  {
   "cell_type": "markdown",
   "metadata": {},
   "source": [
    "Best parameters Parameters: Parameters: Parameters: {'n_neighbors': 4, 'algorithm': 'kd_tree'}\n",
    "\n"
   ]
  },
  {
   "cell_type": "markdown",
   "metadata": {},
   "source": [
    "## Learning Curve "
   ]
  },
  {
   "cell_type": "markdown",
   "metadata": {},
   "source": [
    "In essence, what we’re doing it training the exact same model with increasingly large fractions of our total training data, and plotting the error of the training and test sets at each step."
   ]
  },
  {
   "cell_type": "code",
   "execution_count": 18,
   "metadata": {
    "collapsed": false
   },
   "outputs": [
    {
     "data": {
      "image/png": "[encoded data removed]",
      "text/plain": [
       "<matplotlib.figure.Figure at 0x7f55643ec590>"
      ]
     },
     "metadata": {},
     "output_type": "display_data"
    }
   ],
   "source": [
    "from sklearn.neighbors import KNeighborsRegressor\n",
    "model = KNeighborsRegressor(n_neighbors = 4, algorithm = 'kd_tree')\n",
    "title = \"Learning Curves (KNeighborsRegressor Refression)\"\n",
    "cv = cross_validation.ShuffleSplit(X.shape[0], n_iter=100,\n",
    "                                   test_size=0.2, random_state=0)\n",
    "plot_learning_curve(model, title, X, Y, ylim=(0.2, 1.01), cv=cv, n_jobs=-1)\n",
    "plt.show()"
   ]
  },
  {
   "cell_type": "code",
   "execution_count": 19,
   "metadata": {
    "collapsed": false
   },
   "outputs": [
    {
     "name": "stdout",
     "output_type": "stream",
     "text": [
      "train_sizes =  [ 50  80 110]\n",
      " training scores\n",
      " 50 training sizees\n",
      "0.809636856502 ± 0.0849515684951\n",
      " 80 training sizees\n",
      "0.844932394908 ± 0.0607141701214\n",
      " 110 training sizees\n",
      "0.858976253579 ± 0.0444691268852\n",
      "\n",
      " validation scores\n",
      " 50 validation scores\n",
      "0.714406166781 ± 0.169893029574\n",
      " 80 validation scores\n",
      "0.79636911845 ± 0.131696875082\n",
      " 110 validation scores\n",
      "0.829704167136 ± 0.11203623794\n"
     ]
    }
   ],
   "source": [
    "# More data from learning curve to show the process of building the model\n",
    "train_sizes, train_scores, valid_scores = learning_curve(\n",
    "     model, X, Y, train_sizes=[50, 80, 110], cv=cv, n_jobs=4)\n",
    "\n",
    "print 'train_sizes = ', train_sizes\n",
    "\n",
    "print ' training scores'\n",
    "print ' 50 training sizees'\n",
    "print train_scores[0].mean(),'±',train_scores[0].std()\n",
    "print ' 80 training sizees'\n",
    "print train_scores[1].mean(),'±',train_scores[1].std()\n",
    "print ' 110 training sizees'\n",
    "print train_scores[2].mean(),'±',train_scores[2].std()\n",
    "\n",
    "print '\\n validation scores'\n",
    "print ' 50 validation scores'\n",
    "print valid_scores[0].mean(),'±',valid_scores[0].std()\n",
    "print ' 80 validation scores'\n",
    "print valid_scores[1].mean(),'±',valid_scores[1].std()\n",
    "print ' 110 validation scores'\n",
    "print valid_scores[2].mean(),'±',valid_scores[2].std()"
   ]
  },
  {
   "cell_type": "markdown",
   "metadata": {},
   "source": [
    "## Cross validation"
   ]
  },
  {
   "cell_type": "code",
   "execution_count": 20,
   "metadata": {
    "collapsed": false
   },
   "outputs": [
    {
     "name": "stdout",
     "output_type": "stream",
     "text": [
      "Scoring according to mean_squared_error\n",
      "[ -9334.55882353  -1452.93382353    -58.59926471    -97.63970588\n",
      "  -8009.94485294   -451.55514706   -185.63602941   -145.82421875\n",
      "  -5378.1796875  -37227.29296875]\n",
      "\n",
      " Mean      Standard deviation\n",
      "-6234.22      10861.94\n"
     ]
    },
    {
     "data": {
      "text/plain": [
       "KNeighborsRegressor(algorithm='kd_tree', leaf_size=30, metric='minkowski',\n",
       "          metric_params=None, n_jobs=1, n_neighbors=4, p=2,\n",
       "          weights='uniform')"
      ]
     },
     "execution_count": 20,
     "metadata": {},
     "output_type": "execute_result"
    }
   ],
   "source": [
    "scoring = 'mean_squared_error'\n",
    "results = cross_validation.cross_val_score(model, X, Y, cv=kfold, scoring=scoring)\n",
    "print 'Scoring according to mean_squared_error'\n",
    "print results\n",
    "print '\\n Mean      Standard deviation'\n",
    "print(\"%.2f      %.2f\" % (results.mean(), results.std()))\n",
    "## Fit the model\n",
    "model.fit(X,Y)\n"
   ]
  },
  {
   "cell_type": "markdown",
   "metadata": {},
   "source": [
    "## Coefficients Of Determination {Calculating R^2}\n",
    "\n",
    "R^2, Close to one is better"
   ]
  },
  {
   "cell_type": "code",
   "execution_count": 21,
   "metadata": {
    "collapsed": false
   },
   "outputs": [
    {
     "name": "stdout",
     "output_type": "stream",
     "text": [
      "R-squared =  0.769787254178\n"
     ]
    }
   ],
   "source": [
    "predicted = cross_val_predict(model, X, Y, cv=kfold)\n",
    "r_squared = r2_score(Y, predicted, multioutput='variance_weighted')\n",
    "print 'R-squared = ',r_squared"
   ]
  },
  {
   "cell_type": "markdown",
   "metadata": {},
   "source": [
    "## Residual Plot"
   ]
  },
  {
   "cell_type": "code",
   "execution_count": 22,
   "metadata": {
    "collapsed": false
   },
   "outputs": [
    {
     "data": {
      "image/png": "[encoded data removed]",
      "text/plain": [
       "<matplotlib.figure.Figure at 0x7f55643dff10>"
      ]
     },
     "metadata": {},
     "output_type": "display_data"
    }
   ],
   "source": [
    "predicted = cross_val_predict(model, X, Y, cv=kfold)\n",
    "fig, ax = plt.subplots()\n",
    "ax.scatter(Y, predicted)\n",
    "ax.plot([Y.min(), Y.max()], [Y.min(), Y.max()], 'k--', lw=4)\n",
    "ax.set_xlabel('Measured')\n",
    "ax.set_ylabel('Predicted')\n",
    "plt.show()"
   ]
  },
  {
   "cell_type": "code",
   "execution_count": 23,
   "metadata": {
    "collapsed": false
   },
   "outputs": [
    {
     "data": {
      "text/html": [
       "\n",
       "\n",
       "    <div class=\"bk-root\">\n",
       "        <div class=\"plotdiv\" id=\"a678946d-5ce9-4268-83de-ad584fc1f802\"></div>\n",
       "    </div>\n",
       "<script type=\"text/javascript\">\n",
       "  \n",
       "  (function(global) {\n",
       "    function now() {\n",
       "      return new Date();\n",
       "    }\n",
       "  \n",
       "    var force = \"\";\n",
       "  \n",
       "    if (typeof (window._bokeh_onload_callbacks) === \"undefined\" || force !== \"\") {\n",
       "      window._bokeh_onload_callbacks = [];\n",
       "      window._bokeh_is_loading = undefined;\n",
       "    }\n",
       "  \n",
       "  \n",
       "    \n",
       "    if (typeof (window._bokeh_timeout) === \"undefined\" || force !== \"\") {\n",
       "      window._bokeh_timeout = Date.now() + 0;\n",
       "      window._bokeh_failed_load = false;\n",
       "    }\n",
       "  \n",
       "    var NB_LOAD_WARNING = {'data': {'text/html':\n",
       "       \"<div style='background-color: #fdd'>\\n\"+\n",
       "       \"<p>\\n\"+\n",
       "       \"BokehJS does not appear to have successfully loaded. If loading BokehJS from CDN, this \\n\"+\n",
       "       \"may be due to a slow or bad network connection. Possible fixes:\\n\"+\n",
       "       \"</p>\\n\"+\n",
       "       \"<ul>\\n\"+\n",
       "       \"<li>re-rerun `output_notebook()` to attempt to load from CDN again, or</li>\\n\"+\n",
       "       \"<li>use INLINE resources instead, as so:</li>\\n\"+\n",
       "       \"</ul>\\n\"+\n",
       "       \"<code>\\n\"+\n",
       "       \"from bokeh.resources import INLINE\\n\"+\n",
       "       \"output_notebook(resources=INLINE)\\n\"+\n",
       "       \"</code>\\n\"+\n",
       "       \"</div>\"}};\n",
       "  \n",
       "    function display_loaded() {\n",
       "      if (window.Bokeh !== undefined) {\n",
       "        Bokeh.$(\"#a678946d-5ce9-4268-83de-ad584fc1f802\").text(\"BokehJS successfully loaded.\");\n",
       "      } else if (Date.now() < window._bokeh_timeout) {\n",
       "        setTimeout(display_loaded, 100)\n",
       "      }\n",
       "    }\n",
       "  \n",
       "    function run_callbacks() {\n",
       "      window._bokeh_onload_callbacks.forEach(function(callback) { callback() });\n",
       "      delete window._bokeh_onload_callbacks\n",
       "      console.info(\"Bokeh: all callbacks have finished\");\n",
       "    }\n",
       "  \n",
       "    function load_libs(js_urls, callback) {\n",
       "      window._bokeh_onload_callbacks.push(callback);\n",
       "      if (window._bokeh_is_loading > 0) {\n",
       "        console.log(\"Bokeh: BokehJS is being loaded, scheduling callback at\", now());\n",
       "        return null;\n",
       "      }\n",
       "      if (js_urls == null || js_urls.length === 0) {\n",
       "        run_callbacks();\n",
       "        return null;\n",
       "      }\n",
       "      console.log(\"Bokeh: BokehJS not loaded, scheduling load and callback at\", now());\n",
       "      window._bokeh_is_loading = js_urls.length;\n",
       "      for (var i = 0; i < js_urls.length; i++) {\n",
       "        var url = js_urls[i];\n",
       "        var s = document.createElement('script');\n",
       "        s.src = url;\n",
       "        s.async = false;\n",
       "        s.onreadystatechange = s.onload = function() {\n",
       "          window._bokeh_is_loading--;\n",
       "          if (window._bokeh_is_loading === 0) {\n",
       "            console.log(\"Bokeh: all BokehJS libraries loaded\");\n",
       "            run_callbacks()\n",
       "          }\n",
       "        };\n",
       "        s.onerror = function() {\n",
       "          console.warn(\"failed to load library \" + url);\n",
       "        };\n",
       "        console.log(\"Bokeh: injecting script tag for BokehJS library: \", url);\n",
       "        document.getElementsByTagName(\"head\")[0].appendChild(s);\n",
       "      }\n",
       "    };var element = document.getElementById(\"a678946d-5ce9-4268-83de-ad584fc1f802\");\n",
       "    if (element == null) {\n",
       "      console.log(\"Bokeh: ERROR: autoload.js configured with elementid 'a678946d-5ce9-4268-83de-ad584fc1f802' but no matching script tag was found. \")\n",
       "      return false;\n",
       "    }\n",
       "  \n",
       "    var js_urls = [];\n",
       "  \n",
       "    var inline_js = [\n",
       "      function(Bokeh) {\n",
       "        Bokeh.$(function() {\n",
       "            var docs_json = {\"b7bfb4fa-6236-49c3-8495-2a69d4fc8418\":{\"roots\":{\"references\":[{\"attributes\":{\"bottom_units\":\"screen\",\"fill_alpha\":{\"value\":0.5},\"fill_color\":{\"value\":\"lightgrey\"},\"left_units\":\"screen\",\"level\":\"overlay\",\"line_alpha\":{\"value\":1.0},\"line_color\":{\"value\":\"black\"},\"line_dash\":[4,4],\"line_width\":{\"value\":2},\"plot\":null,\"render_mode\":\"css\",\"right_units\":\"screen\",\"top_units\":\"screen\"},\"id\":\"480e75c0-778a-4c4d-96b7-a7e90cc9f6e4\",\"type\":\"BoxAnnotation\"},{\"attributes\":{\"overlay\":{\"id\":\"f3f5b4dd-8be9-428a-a915-9a4006907306\",\"type\":\"PolyAnnotation\"},\"plot\":{\"id\":\"d4e5bd15-f126-4f45-b7dc-3317cea28e9a\",\"subtype\":\"Figure\",\"type\":\"Plot\"}},\"id\":\"034e3c42-35f2-40cd-aa8c-18437af16dbf\",\"type\":\"PolySelectTool\"},{\"attributes\":{\"plot\":{\"id\":\"d4e5bd15-f126-4f45-b7dc-3317cea28e9a\",\"subtype\":\"Figure\",\"type\":\"Plot\"},\"ticker\":{\"id\":\"bcf6d76f-d84b-489a-944f-7ed2e9410254\",\"type\":\"BasicTicker\"}},\"id\":\"7717dbee-501a-48e6-acc8-4c5667ee134d\",\"type\":\"Grid\"},{\"attributes\":{\"plot\":{\"id\":\"d4e5bd15-f126-4f45-b7dc-3317cea28e9a\",\"subtype\":\"Figure\",\"type\":\"Plot\"}},\"id\":\"f3b2260f-4de2-4032-ba6b-cb267350a308\",\"type\":\"SaveTool\"},{\"attributes\":{\"callback\":null,\"overlay\":{\"id\":\"480e75c0-778a-4c4d-96b7-a7e90cc9f6e4\",\"type\":\"BoxAnnotation\"},\"plot\":{\"id\":\"d4e5bd15-f126-4f45-b7dc-3317cea28e9a\",\"subtype\":\"Figure\",\"type\":\"Plot\"},\"renderers\":[{\"id\":\"e423daa4-3270-4e65-b9c2-45cf99d9de24\",\"type\":\"GlyphRenderer\"},{\"id\":\"aa8e75a6-8a84-4758-83d9-69aefb8ce909\",\"type\":\"GlyphRenderer\"}]},\"id\":\"156aaf03-6810-48ee-a348-f9b0f1fc3a2f\",\"type\":\"BoxSelectTool\"},{\"attributes\":{\"line_dash\":[4,4],\"line_width\":{\"value\":2},\"x\":{\"field\":\"x\"},\"y\":{\"field\":\"y\"}},\"id\":\"742a3de5-4507-4964-9bc6-32c7cd8803c4\",\"type\":\"Line\"},{\"attributes\":{\"plot\":{\"id\":\"d4e5bd15-f126-4f45-b7dc-3317cea28e9a\",\"subtype\":\"Figure\",\"type\":\"Plot\"}},\"id\":\"78367c82-749c-4b0e-8045-877539d29331\",\"type\":\"WheelZoomTool\"},{\"attributes\":{\"callback\":null},\"id\":\"88d47b29-3981-4ca1-87ad-617273eb232d\",\"type\":\"DataRange1d\"},{\"attributes\":{\"callback\":null,\"plot\":{\"id\":\"d4e5bd15-f126-4f45-b7dc-3317cea28e9a\",\"subtype\":\"Figure\",\"type\":\"Plot\"}},\"id\":\"98c4032e-ff73-44df-b7a2-ea470709a418\",\"type\":\"TapTool\"},{\"attributes\":{\"axis_label\":\"Measured\",\"axis_label_text_color\":{\"value\":\"#aa6666\"},\"formatter\":{\"id\":\"7c167300-7955-42be-a5f3-5ed9309e5668\",\"type\":\"BasicTickFormatter\"},\"major_tick_line_color\":{\"value\":\"firebrick\"},\"major_tick_line_width\":{\"value\":3},\"minor_tick_line_color\":{\"value\":\"orange\"},\"plot\":{\"id\":\"d4e5bd15-f126-4f45-b7dc-3317cea28e9a\",\"subtype\":\"Figure\",\"type\":\"Plot\"},\"ticker\":{\"id\":\"bcf6d76f-d84b-489a-944f-7ed2e9410254\",\"type\":\"BasicTicker\"}},\"id\":\"ffd9347a-e328-452d-8ec8-42c3b58b8b55\",\"type\":\"LinearAxis\"},{\"attributes\":{\"data_source\":{\"id\":\"87752552-d9d8-415c-9896-0560466c9403\",\"type\":\"ColumnDataSource\"},\"glyph\":{\"id\":\"742a3de5-4507-4964-9bc6-32c7cd8803c4\",\"type\":\"Line\"},\"hover_glyph\":null,\"nonselection_glyph\":{\"id\":\"0437b6ab-9d7f-46d0-b013-3760cb262ed1\",\"type\":\"Line\"},\"selection_glyph\":null},\"id\":\"aa8e75a6-8a84-4758-83d9-69aefb8ce909\",\"type\":\"GlyphRenderer\"},{\"attributes\":{\"fill_alpha\":{\"value\":0.5},\"fill_color\":{\"value\":\"lightgrey\"},\"level\":\"overlay\",\"line_alpha\":{\"value\":1.0},\"line_color\":{\"value\":\"black\"},\"line_dash\":[4,4],\"line_width\":{\"value\":2},\"plot\":null,\"xs_units\":\"screen\",\"ys_units\":\"screen\"},\"id\":\"0f396717-78de-4434-a263-2e39e5c16686\",\"type\":\"PolyAnnotation\"},{\"attributes\":{},\"id\":\"7c167300-7955-42be-a5f3-5ed9309e5668\",\"type\":\"BasicTickFormatter\"},{\"attributes\":{},\"id\":\"bcf6d76f-d84b-489a-944f-7ed2e9410254\",\"type\":\"BasicTicker\"},{\"attributes\":{\"bottom_units\":\"screen\",\"fill_alpha\":{\"value\":0.5},\"fill_color\":{\"value\":\"lightgrey\"},\"left_units\":\"screen\",\"level\":\"overlay\",\"line_alpha\":{\"value\":1.0},\"line_color\":{\"value\":\"black\"},\"line_dash\":[4,4],\"line_width\":{\"value\":2},\"plot\":null,\"render_mode\":\"css\",\"right_units\":\"screen\",\"top_units\":\"screen\"},\"id\":\"ee2bbf29-2d2e-40ad-964b-47f182b779d9\",\"type\":\"BoxAnnotation\"},{\"attributes\":{\"fill_alpha\":{\"value\":0.5},\"fill_color\":{\"value\":\"lightgrey\"},\"level\":\"overlay\",\"line_alpha\":{\"value\":1.0},\"line_color\":{\"value\":\"black\"},\"line_dash\":[4,4],\"line_width\":{\"value\":2},\"plot\":null,\"xs_units\":\"screen\",\"ys_units\":\"screen\"},\"id\":\"f3f5b4dd-8be9-428a-a915-9a4006907306\",\"type\":\"PolyAnnotation\"},{\"attributes\":{\"plot\":{\"id\":\"d4e5bd15-f126-4f45-b7dc-3317cea28e9a\",\"subtype\":\"Figure\",\"type\":\"Plot\"}},\"id\":\"78678852-e12d-42b5-afd4-b00b7451b3b3\",\"type\":\"ResetTool\"},{\"attributes\":{\"plot\":{\"id\":\"d4e5bd15-f126-4f45-b7dc-3317cea28e9a\",\"subtype\":\"Figure\",\"type\":\"Plot\"}},\"id\":\"a4c2faae-9d56-499f-8be0-26b7de58ac55\",\"type\":\"UndoTool\"},{\"attributes\":{\"plot\":{\"id\":\"d4e5bd15-f126-4f45-b7dc-3317cea28e9a\",\"subtype\":\"Figure\",\"type\":\"Plot\"}},\"id\":\"6d961cd0-dd7f-42c0-91e0-f48c83dab410\",\"type\":\"ResizeTool\"},{\"attributes\":{\"align\":\"center\",\"plot\":null,\"text\":null},\"id\":\"47883b8b-2b6e-47eb-acb0-db1a6de58ba4\",\"type\":\"Title\"},{\"attributes\":{\"callback\":null,\"column_names\":[\"x\",\"y\"],\"data\":{\"x\":[20,53,132,25,88,54,75,17,28,35,80,360,749,41,26,44,82,28,275,18,27,34,28,102,34,42,426,57,124,19,128,30,281,19,19,86,45,29,28,22,220,126,15,22,31,81,35,18,24,37,95,19,253,34,24,182,74,23,78,23,24,24,47,270,113,253,82,20,47,978,34,31,199,171,33,361,113,117,74,33,38,36,28,41,117,267,45,18,21,37,190,47,381,28,25,116,26,20,35,181,29,24,65,18,136,34,157,253,101,25,74,28,46,53,29,44,46,36,41,82,138,28,42,62,266,102,25,44,31,74,142,41,43,119,27,15,73,64,53,76,120,24,20,50,21,80,30,341,24,919,30,56,34,53,175,47,32,23,39,1238,20,227,20,382,26,28,67],\"y\":[23.25,49.5,129.75,22.0,71.75,42.0,69.75,23.0,28.25,41.25,107.0,285.0,359.5,38.75,25.5,42.5,73.75,24.75,264.0,22.25,30.5,32.5,28.75,142.25,32.5,39.75,348.5,53.5,131.0,23.5,129.25,33.5,151.5,25.0,23.25,76.0,25.25,33.75,25.0,23.5,218.0,127.25,23.75,25.0,27.5,96.75,35.75,22.75,24.25,38.75,86.25,23.75,251.5,34.0,23.5,145.5,73.75,24.75,74.0,22.5,23.5,23.5,42.5,265.25,123.75,253.5,93.0,18.25,44.75,619.0,34.0,28.25,129.5,167.25,51.25,336.0,76.75,109.0,73.75,34.5,39.5,27.75,29.25,40.25,112.5,266.0,37.75,21.75,24.25,40.0,124.75,28.0,333.0,30.0,25.25,91.25,25.25,23.5,38.75,180.75,33.75,23.25,68.5,20.25,141.75,34.0,103.5,248.0,91.75,20.5,78.0,23.5,42.75,49.0,25.5,41.0,45.5,31.0,39.25,73.75,126.0,26.75,38.25,63.0,266.25,143.25,23.25,41.0,30.0,76.0,123.5,39.25,37.0,117.5,28.5,23.0,79.0,41.0,44.75,73.0,108.25,24.25,24.25,32.25,25.25,107.0,41.5,289.75,23.75,633.75,30.25,55.25,34.0,49.5,131.75,37.25,32.75,26.25,39.0,479.25,19.75,131.25,23.75,290.25,27.75,34.0,49.5]}},\"id\":\"909f769e-1eb4-41b3-ab71-ca4a4c457ef1\",\"type\":\"ColumnDataSource\"},{\"attributes\":{\"overlay\":{\"id\":\"ee2bbf29-2d2e-40ad-964b-47f182b779d9\",\"type\":\"BoxAnnotation\"},\"plot\":{\"id\":\"d4e5bd15-f126-4f45-b7dc-3317cea28e9a\",\"subtype\":\"Figure\",\"type\":\"Plot\"}},\"id\":\"cc826475-6130-421d-b938-f84c4c170163\",\"type\":\"BoxZoomTool\"},{\"attributes\":{\"callback\":null,\"overlay\":{\"id\":\"0f396717-78de-4434-a263-2e39e5c16686\",\"type\":\"PolyAnnotation\"},\"plot\":{\"id\":\"d4e5bd15-f126-4f45-b7dc-3317cea28e9a\",\"subtype\":\"Figure\",\"type\":\"Plot\"}},\"id\":\"01086b25-b0d3-4e3d-9a9f-383f939819a7\",\"type\":\"LassoSelectTool\"},{\"attributes\":{\"active_drag\":\"auto\",\"active_scroll\":\"auto\",\"active_tap\":\"auto\",\"tools\":[{\"id\":\"cc826475-6130-421d-b938-f84c4c170163\",\"type\":\"BoxZoomTool\"},{\"id\":\"156aaf03-6810-48ee-a348-f9b0f1fc3a2f\",\"type\":\"BoxSelectTool\"},{\"id\":\"29bca96d-4e88-4f3e-a2bb-47a0c31218e0\",\"type\":\"CrosshairTool\"},{\"id\":\"6d961cd0-dd7f-42c0-91e0-f48c83dab410\",\"type\":\"ResizeTool\"},{\"id\":\"78678852-e12d-42b5-afd4-b00b7451b3b3\",\"type\":\"ResetTool\"},{\"id\":\"01086b25-b0d3-4e3d-9a9f-383f939819a7\",\"type\":\"LassoSelectTool\"},{\"id\":\"49ca63f8-f620-4200-8b83-fac2015305ee\",\"type\":\"PanTool\"},{\"id\":\"f3b2260f-4de2-4032-ba6b-cb267350a308\",\"type\":\"SaveTool\"},{\"id\":\"034e3c42-35f2-40cd-aa8c-18437af16dbf\",\"type\":\"PolySelectTool\"},{\"id\":\"98c4032e-ff73-44df-b7a2-ea470709a418\",\"type\":\"TapTool\"},{\"id\":\"78367c82-749c-4b0e-8045-877539d29331\",\"type\":\"WheelZoomTool\"},{\"id\":\"a4c2faae-9d56-499f-8be0-26b7de58ac55\",\"type\":\"UndoTool\"}]},\"id\":\"50a1b1eb-2dda-49b9-97ee-596d98d07f2f\",\"type\":\"Toolbar\"},{\"attributes\":{\"plot\":{\"id\":\"d4e5bd15-f126-4f45-b7dc-3317cea28e9a\",\"subtype\":\"Figure\",\"type\":\"Plot\"}},\"id\":\"29bca96d-4e88-4f3e-a2bb-47a0c31218e0\",\"type\":\"CrosshairTool\"},{\"attributes\":{\"data_source\":{\"id\":\"909f769e-1eb4-41b3-ab71-ca4a4c457ef1\",\"type\":\"ColumnDataSource\"},\"glyph\":{\"id\":\"af16a5ca-94b5-46ba-81b8-30e4c8d8eb3c\",\"type\":\"Circle\"},\"hover_glyph\":null,\"nonselection_glyph\":{\"id\":\"c5ea0d63-60a2-479e-a16e-576ccb4a23b8\",\"type\":\"Circle\"},\"selection_glyph\":null},\"id\":\"e423daa4-3270-4e65-b9c2-45cf99d9de24\",\"type\":\"GlyphRenderer\"},{\"attributes\":{\"background_fill_alpha\":{\"value\":0.5},\"background_fill_color\":{\"value\":\"beige\"},\"below\":[{\"id\":\"ffd9347a-e328-452d-8ec8-42c3b58b8b55\",\"type\":\"LinearAxis\"}],\"left\":[{\"id\":\"8e07254f-80b3-4e4b-aeb0-405d66bf43b8\",\"type\":\"LinearAxis\"}],\"plot_height\":500,\"plot_width\":500,\"renderers\":[{\"id\":\"ffd9347a-e328-452d-8ec8-42c3b58b8b55\",\"type\":\"LinearAxis\"},{\"id\":\"7717dbee-501a-48e6-acc8-4c5667ee134d\",\"type\":\"Grid\"},{\"id\":\"8e07254f-80b3-4e4b-aeb0-405d66bf43b8\",\"type\":\"LinearAxis\"},{\"id\":\"c7cadf78-b71e-432a-8f7d-38db31fab3dc\",\"type\":\"Grid\"},{\"id\":\"ee2bbf29-2d2e-40ad-964b-47f182b779d9\",\"type\":\"BoxAnnotation\"},{\"id\":\"480e75c0-778a-4c4d-96b7-a7e90cc9f6e4\",\"type\":\"BoxAnnotation\"},{\"id\":\"0f396717-78de-4434-a263-2e39e5c16686\",\"type\":\"PolyAnnotation\"},{\"id\":\"f3f5b4dd-8be9-428a-a915-9a4006907306\",\"type\":\"PolyAnnotation\"},{\"id\":\"e423daa4-3270-4e65-b9c2-45cf99d9de24\",\"type\":\"GlyphRenderer\"},{\"id\":\"aa8e75a6-8a84-4758-83d9-69aefb8ce909\",\"type\":\"GlyphRenderer\"}],\"title\":{\"id\":\"47883b8b-2b6e-47eb-acb0-db1a6de58ba4\",\"type\":\"Title\"},\"tool_events\":{\"id\":\"0c87ae4c-b0e6-4a27-8fd9-0ea20ba837bc\",\"type\":\"ToolEvents\"},\"toolbar\":{\"id\":\"50a1b1eb-2dda-49b9-97ee-596d98d07f2f\",\"type\":\"Toolbar\"},\"x_range\":{\"id\":\"88d47b29-3981-4ca1-87ad-617273eb232d\",\"type\":\"DataRange1d\"},\"y_range\":{\"id\":\"42bc167d-82fe-4ef7-b631-13981e418fda\",\"type\":\"DataRange1d\"}},\"id\":\"d4e5bd15-f126-4f45-b7dc-3317cea28e9a\",\"subtype\":\"Figure\",\"type\":\"Plot\"},{\"attributes\":{\"callback\":null},\"id\":\"42bc167d-82fe-4ef7-b631-13981e418fda\",\"type\":\"DataRange1d\"},{\"attributes\":{\"fill_alpha\":{\"value\":0.1},\"fill_color\":{\"value\":\"#1f77b4\"},\"line_alpha\":{\"value\":0.1},\"line_color\":{\"value\":\"#1f77b4\"},\"line_width\":{\"value\":3},\"x\":{\"field\":\"x\"},\"y\":{\"field\":\"y\"}},\"id\":\"c5ea0d63-60a2-479e-a16e-576ccb4a23b8\",\"type\":\"Circle\"},{\"attributes\":{\"axis_label\":\"Predicted\",\"axis_label_text_color\":{\"value\":\"#aa6666\"},\"formatter\":{\"id\":\"6f1d1847-7b43-4a5a-9efe-8e07a6133ed4\",\"type\":\"BasicTickFormatter\"},\"plot\":{\"id\":\"d4e5bd15-f126-4f45-b7dc-3317cea28e9a\",\"subtype\":\"Figure\",\"type\":\"Plot\"},\"ticker\":{\"id\":\"27643181-f669-434a-90f8-3804e94ddfbd\",\"type\":\"BasicTicker\"}},\"id\":\"8e07254f-80b3-4e4b-aeb0-405d66bf43b8\",\"type\":\"LinearAxis\"},{\"attributes\":{\"plot\":{\"id\":\"d4e5bd15-f126-4f45-b7dc-3317cea28e9a\",\"subtype\":\"Figure\",\"type\":\"Plot\"}},\"id\":\"49ca63f8-f620-4200-8b83-fac2015305ee\",\"type\":\"PanTool\"},{\"attributes\":{},\"id\":\"27643181-f669-434a-90f8-3804e94ddfbd\",\"type\":\"BasicTicker\"},{\"attributes\":{\"line_alpha\":{\"value\":0.1},\"line_color\":{\"value\":\"#1f77b4\"},\"line_dash\":[4,4],\"line_width\":{\"value\":2},\"x\":{\"field\":\"x\"},\"y\":{\"field\":\"y\"}},\"id\":\"0437b6ab-9d7f-46d0-b013-3760cb262ed1\",\"type\":\"Line\"},{\"attributes\":{},\"id\":\"6f1d1847-7b43-4a5a-9efe-8e07a6133ed4\",\"type\":\"BasicTickFormatter\"},{\"attributes\":{\"dimension\":1,\"plot\":{\"id\":\"d4e5bd15-f126-4f45-b7dc-3317cea28e9a\",\"subtype\":\"Figure\",\"type\":\"Plot\"},\"ticker\":{\"id\":\"27643181-f669-434a-90f8-3804e94ddfbd\",\"type\":\"BasicTicker\"}},\"id\":\"c7cadf78-b71e-432a-8f7d-38db31fab3dc\",\"type\":\"Grid\"},{\"attributes\":{\"fill_color\":{\"value\":\"#80B1D3\"},\"line_color\":{\"value\":\"#80B1D3\"},\"line_width\":{\"value\":3},\"x\":{\"field\":\"x\"},\"y\":{\"field\":\"y\"}},\"id\":\"af16a5ca-94b5-46ba-81b8-30e4c8d8eb3c\",\"type\":\"Circle\"},{\"attributes\":{},\"id\":\"0c87ae4c-b0e6-4a27-8fd9-0ea20ba837bc\",\"type\":\"ToolEvents\"},{\"attributes\":{\"callback\":null,\"column_names\":[\"y\",\"x\"],\"data\":{\"x\":[15,1238],\"y\":[15,1238]}},\"id\":\"87752552-d9d8-415c-9896-0560466c9403\",\"type\":\"ColumnDataSource\"}],\"root_ids\":[\"d4e5bd15-f126-4f45-b7dc-3317cea28e9a\"]},\"title\":\"Bokeh Application\",\"version\":\"0.12.2\"}};\n",
       "            var render_items = [{\"docid\":\"b7bfb4fa-6236-49c3-8495-2a69d4fc8418\",\"elementid\":\"a678946d-5ce9-4268-83de-ad584fc1f802\",\"modelid\":\"d4e5bd15-f126-4f45-b7dc-3317cea28e9a\"}];\n",
       "            \n",
       "            Bokeh.embed.embed_items(docs_json, render_items);\n",
       "        });\n",
       "      },\n",
       "      function(Bokeh) {\n",
       "      }\n",
       "    ];\n",
       "  \n",
       "    function run_inline_js() {\n",
       "      \n",
       "      if ((window.Bokeh !== undefined) || (force === \"1\")) {\n",
       "        for (var i = 0; i < inline_js.length; i++) {\n",
       "          inline_js[i](window.Bokeh);\n",
       "        }if (force === \"1\") {\n",
       "          display_loaded();\n",
       "        }} else if (Date.now() < window._bokeh_timeout) {\n",
       "        setTimeout(run_inline_js, 100);\n",
       "      } else if (!window._bokeh_failed_load) {\n",
       "        console.log(\"Bokeh: BokehJS failed to load within specified timeout.\");\n",
       "        window._bokeh_failed_load = true;\n",
       "      } else if (!force) {\n",
       "        var cell = $(\"#a678946d-5ce9-4268-83de-ad584fc1f802\").parents('.cell').data().cell;\n",
       "        cell.output_area.append_execute_result(NB_LOAD_WARNING)\n",
       "      }\n",
       "  \n",
       "    }\n",
       "  \n",
       "    if (window._bokeh_is_loading === 0) {\n",
       "      console.log(\"Bokeh: BokehJS loaded, going straight to plotting\");\n",
       "      run_inline_js();\n",
       "    } else {\n",
       "      load_libs(js_urls, function() {\n",
       "        console.log(\"Bokeh: BokehJS plotting callback run at\", now());\n",
       "        run_inline_js();\n",
       "      });\n",
       "    }\n",
       "  }(this));\n",
       "</script>"
      ]
     },
     "metadata": {},
     "output_type": "display_data"
    }
   ],
   "source": [
    "# Plotining using bokeh\n",
    "#TOOLS = [BoxSelectTool(), HoverTool()]\n",
    "#TOOLS = 'hover,box_zoom,box_select,crosshair,resize,reset,KNeighborsRegressor_select,pan,save,poly_select,tap,wheel_zoom,undo'\n",
    "TOOLS = 'box_zoom,box_select,crosshair,resize,reset,lasso_select,pan,save,poly_select,tap,wheel_zoom,undo'\n",
    "p = figure(plot_width=500, plot_height=500, tools=TOOLS)\n",
    "p.scatter(Y, predicted,x=\"jjj\", marker=\"o\", color=\"#80B1D3\", line_width=3)\n",
    "p.title.align = \"center\"\n",
    "p.xaxis.axis_label = \"Measured\"\n",
    "p.xaxis.axis_label_text_color = \"#aa6666\"\n",
    "#p.xaxis.axis_label_standoff = 30\n",
    "p.xaxis.major_tick_line_color = \"firebrick\"\n",
    "p.xaxis.major_tick_line_width = 3\n",
    "p.xaxis.minor_tick_line_color = \"orange\"\n",
    "p.yaxis.axis_label = \"Predicted\"\n",
    "p.yaxis.axis_label_text_font_style = \"italic\"\n",
    "p.yaxis.axis_label_text_color = \"#aa6666\"\n",
    "p.background_fill_color = \"beige\"\n",
    "p.background_fill_alpha = 0.5\n",
    "#p.line([Y.min(), Y.max()], [Y.min(), Y.max()], line_dash=\"4 4\", line_width=2, color='red')\n",
    "\n",
    "# create a new plot with the toolbar below\n",
    "# line_dash=\"4 4\", line_width=2, color='red'\n",
    "p.line([Y.min(), Y.max()], [Y.min(), Y.max()], line_dash=\"4 4\", line_width=2, line_color=\"black\")\n",
    "show(p)"
   ]
  },
  {
   "cell_type": "code",
   "execution_count": 24,
   "metadata": {
    "collapsed": false
   },
   "outputs": [
    {
     "data": {
      "text/plain": [
       "<matplotlib.text.Text at 0x7f55643df450>"
      ]
     },
     "execution_count": 24,
     "metadata": {},
     "output_type": "execute_result"
    },
    {
     "data": {
      "image/png": "[encoded data removed]",
      "text/plain": [
       "<matplotlib.figure.Figure at 0x7f556448edd0>"
      ]
     },
     "metadata": {},
     "output_type": "display_data"
    }
   ],
   "source": [
    "plt.scatter(predicted, (predicted - Y), c='r', s=30)\n",
    "plt.title(\"Residual plot on the training data\")\n",
    "plt.xlabel(\"Predicted\")\n",
    "plt.ylabel(\"Residuals\")"
   ]
  },
  {
   "cell_type": "code",
   "execution_count": 25,
   "metadata": {
    "collapsed": false
   },
   "outputs": [
    {
     "data": {
      "text/html": [
       "\n",
       "\n",
       "    <div class=\"bk-root\">\n",
       "        <div class=\"plotdiv\" id=\"a1f0f2c1-e0f1-498e-a607-4ccee5b0e80c\"></div>\n",
       "    </div>\n",
       "<script type=\"text/javascript\">\n",
       "  \n",
       "  (function(global) {\n",
       "    function now() {\n",
       "      return new Date();\n",
       "    }\n",
       "  \n",
       "    var force = \"\";\n",
       "  \n",
       "    if (typeof (window._bokeh_onload_callbacks) === \"undefined\" || force !== \"\") {\n",
       "      window._bokeh_onload_callbacks = [];\n",
       "      window._bokeh_is_loading = undefined;\n",
       "    }\n",
       "  \n",
       "  \n",
       "    \n",
       "    if (typeof (window._bokeh_timeout) === \"undefined\" || force !== \"\") {\n",
       "      window._bokeh_timeout = Date.now() + 0;\n",
       "      window._bokeh_failed_load = false;\n",
       "    }\n",
       "  \n",
       "    var NB_LOAD_WARNING = {'data': {'text/html':\n",
       "       \"<div style='background-color: #fdd'>\\n\"+\n",
       "       \"<p>\\n\"+\n",
       "       \"BokehJS does not appear to have successfully loaded. If loading BokehJS from CDN, this \\n\"+\n",
       "       \"may be due to a slow or bad network connection. Possible fixes:\\n\"+\n",
       "       \"</p>\\n\"+\n",
       "       \"<ul>\\n\"+\n",
       "       \"<li>re-rerun `output_notebook()` to attempt to load from CDN again, or</li>\\n\"+\n",
       "       \"<li>use INLINE resources instead, as so:</li>\\n\"+\n",
       "       \"</ul>\\n\"+\n",
       "       \"<code>\\n\"+\n",
       "       \"from bokeh.resources import INLINE\\n\"+\n",
       "       \"output_notebook(resources=INLINE)\\n\"+\n",
       "       \"</code>\\n\"+\n",
       "       \"</div>\"}};\n",
       "  \n",
       "    function display_loaded() {\n",
       "      if (window.Bokeh !== undefined) {\n",
       "        Bokeh.$(\"#a1f0f2c1-e0f1-498e-a607-4ccee5b0e80c\").text(\"BokehJS successfully loaded.\");\n",
       "      } else if (Date.now() < window._bokeh_timeout) {\n",
       "        setTimeout(display_loaded, 100)\n",
       "      }\n",
       "    }\n",
       "  \n",
       "    function run_callbacks() {\n",
       "      window._bokeh_onload_callbacks.forEach(function(callback) { callback() });\n",
       "      delete window._bokeh_onload_callbacks\n",
       "      console.info(\"Bokeh: all callbacks have finished\");\n",
       "    }\n",
       "  \n",
       "    function load_libs(js_urls, callback) {\n",
       "      window._bokeh_onload_callbacks.push(callback);\n",
       "      if (window._bokeh_is_loading > 0) {\n",
       "        console.log(\"Bokeh: BokehJS is being loaded, scheduling callback at\", now());\n",
       "        return null;\n",
       "      }\n",
       "      if (js_urls == null || js_urls.length === 0) {\n",
       "        run_callbacks();\n",
       "        return null;\n",
       "      }\n",
       "      console.log(\"Bokeh: BokehJS not loaded, scheduling load and callback at\", now());\n",
       "      window._bokeh_is_loading = js_urls.length;\n",
       "      for (var i = 0; i < js_urls.length; i++) {\n",
       "        var url = js_urls[i];\n",
       "        var s = document.createElement('script');\n",
       "        s.src = url;\n",
       "        s.async = false;\n",
       "        s.onreadystatechange = s.onload = function() {\n",
       "          window._bokeh_is_loading--;\n",
       "          if (window._bokeh_is_loading === 0) {\n",
       "            console.log(\"Bokeh: all BokehJS libraries loaded\");\n",
       "            run_callbacks()\n",
       "          }\n",
       "        };\n",
       "        s.onerror = function() {\n",
       "          console.warn(\"failed to load library \" + url);\n",
       "        };\n",
       "        console.log(\"Bokeh: injecting script tag for BokehJS library: \", url);\n",
       "        document.getElementsByTagName(\"head\")[0].appendChild(s);\n",
       "      }\n",
       "    };var element = document.getElementById(\"a1f0f2c1-e0f1-498e-a607-4ccee5b0e80c\");\n",
       "    if (element == null) {\n",
       "      console.log(\"Bokeh: ERROR: autoload.js configured with elementid 'a1f0f2c1-e0f1-498e-a607-4ccee5b0e80c' but no matching script tag was found. \")\n",
       "      return false;\n",
       "    }\n",
       "  \n",
       "    var js_urls = [];\n",
       "  \n",
       "    var inline_js = [\n",
       "      function(Bokeh) {\n",
       "        Bokeh.$(function() {\n",
       "            var docs_json = {\"7add9685-f738-4e9d-b674-eb8430bb66e5\":{\"roots\":{\"references\":[{\"attributes\":{\"plot\":{\"id\":\"63c31a99-185f-48ef-85c4-1c3f111543a2\",\"subtype\":\"Figure\",\"type\":\"Plot\"}},\"id\":\"ec85de12-a693-485e-8920-43d54b9d2566\",\"type\":\"ResizeTool\"},{\"attributes\":{\"align\":\"center\",\"plot\":null,\"text\":\"Residual plot on the training data\"},\"id\":\"1a9bb2a7-d18c-4b63-bc2e-4d65440df9d3\",\"type\":\"Title\"},{\"attributes\":{},\"id\":\"a0d9295a-8a55-450f-9cf2-c88181a0c206\",\"type\":\"BasicTicker\"},{\"attributes\":{\"bottom_units\":\"screen\",\"fill_alpha\":{\"value\":0.5},\"fill_color\":{\"value\":\"lightgrey\"},\"left_units\":\"screen\",\"level\":\"overlay\",\"line_alpha\":{\"value\":1.0},\"line_color\":{\"value\":\"black\"},\"line_dash\":[4,4],\"line_width\":{\"value\":2},\"plot\":null,\"render_mode\":\"css\",\"right_units\":\"screen\",\"top_units\":\"screen\"},\"id\":\"295bf318-80f6-48dc-a2d2-73c9e8724f2c\",\"type\":\"BoxAnnotation\"},{\"attributes\":{\"plot\":{\"id\":\"63c31a99-185f-48ef-85c4-1c3f111543a2\",\"subtype\":\"Figure\",\"type\":\"Plot\"}},\"id\":\"cc59d6cd-4e2b-4059-b44b-dc9951e7d2b4\",\"type\":\"UndoTool\"},{\"attributes\":{},\"id\":\"4e786121-8caa-4f2f-b0ed-1b9a5b2a8e38\",\"type\":\"BasicTicker\"},{\"attributes\":{\"fill_color\":{\"value\":\"#80B1D3\"},\"line_color\":{\"value\":\"#80B1D3\"},\"line_width\":{\"value\":3},\"x\":{\"field\":\"x\"},\"y\":{\"field\":\"y\"}},\"id\":\"a632d210-11ec-418f-81f9-607c11bbcbf2\",\"type\":\"Circle\"},{\"attributes\":{\"plot\":{\"id\":\"63c31a99-185f-48ef-85c4-1c3f111543a2\",\"subtype\":\"Figure\",\"type\":\"Plot\"}},\"id\":\"7316fb73-aeff-48f2-b89e-5982ec6c8a20\",\"type\":\"PanTool\"},{\"attributes\":{\"callback\":null,\"overlay\":{\"id\":\"295bf318-80f6-48dc-a2d2-73c9e8724f2c\",\"type\":\"BoxAnnotation\"},\"plot\":{\"id\":\"63c31a99-185f-48ef-85c4-1c3f111543a2\",\"subtype\":\"Figure\",\"type\":\"Plot\"},\"renderers\":[{\"id\":\"02b4b7de-303e-4164-8b8d-6a2effedcf6e\",\"type\":\"GlyphRenderer\"}]},\"id\":\"2e81e957-9821-4fe9-9481-079ad8fea36a\",\"type\":\"BoxSelectTool\"},{\"attributes\":{\"active_drag\":\"auto\",\"active_scroll\":\"auto\",\"active_tap\":\"auto\",\"tools\":[{\"id\":\"9dfabf66-da73-42ce-8320-75a038cb2d51\",\"type\":\"BoxZoomTool\"},{\"id\":\"2e81e957-9821-4fe9-9481-079ad8fea36a\",\"type\":\"BoxSelectTool\"},{\"id\":\"00d14b17-e885-4767-8e1c-2deb2d033fa4\",\"type\":\"CrosshairTool\"},{\"id\":\"ec85de12-a693-485e-8920-43d54b9d2566\",\"type\":\"ResizeTool\"},{\"id\":\"a031f8b8-23aa-4448-bdcf-b476f8c4c2dc\",\"type\":\"ResetTool\"},{\"id\":\"954ecbc5-ae95-411e-a2e6-5482c72b1dc8\",\"type\":\"LassoSelectTool\"},{\"id\":\"7316fb73-aeff-48f2-b89e-5982ec6c8a20\",\"type\":\"PanTool\"},{\"id\":\"d9ac3f92-0e2f-472e-8f84-9dd3a96a4af5\",\"type\":\"SaveTool\"},{\"id\":\"0f783896-44a6-47cf-925c-e3d1a0c31135\",\"type\":\"PolySelectTool\"},{\"id\":\"b79c2d71-2b34-4b5f-aaba-12f9644ee452\",\"type\":\"TapTool\"},{\"id\":\"7cef9bdb-d53e-4185-a2d9-f090d5d919c0\",\"type\":\"WheelZoomTool\"},{\"id\":\"cc59d6cd-4e2b-4059-b44b-dc9951e7d2b4\",\"type\":\"UndoTool\"}]},\"id\":\"51567ce9-0348-456c-8b67-9b7618cb425d\",\"type\":\"Toolbar\"},{\"attributes\":{\"plot\":{\"id\":\"63c31a99-185f-48ef-85c4-1c3f111543a2\",\"subtype\":\"Figure\",\"type\":\"Plot\"}},\"id\":\"a031f8b8-23aa-4448-bdcf-b476f8c4c2dc\",\"type\":\"ResetTool\"},{\"attributes\":{\"data_source\":{\"id\":\"df56d3af-d5e6-4add-866a-c80c50672c83\",\"type\":\"ColumnDataSource\"},\"glyph\":{\"id\":\"a632d210-11ec-418f-81f9-607c11bbcbf2\",\"type\":\"Circle\"},\"hover_glyph\":null,\"nonselection_glyph\":{\"id\":\"38a186b3-4875-425d-8102-dcee06e02bde\",\"type\":\"Circle\"},\"selection_glyph\":null},\"id\":\"02b4b7de-303e-4164-8b8d-6a2effedcf6e\",\"type\":\"GlyphRenderer\"},{\"attributes\":{\"background_fill_alpha\":{\"value\":0.5},\"background_fill_color\":{\"value\":\"beige\"},\"below\":[{\"id\":\"8d6717fc-d45d-49a5-ac56-be8edc76e606\",\"type\":\"LinearAxis\"}],\"left\":[{\"id\":\"56e4c823-088d-4cf5-9abd-cb8cecc50a25\",\"type\":\"LinearAxis\"}],\"plot_height\":500,\"plot_width\":500,\"renderers\":[{\"id\":\"8d6717fc-d45d-49a5-ac56-be8edc76e606\",\"type\":\"LinearAxis\"},{\"id\":\"b6b25ca2-0bd2-4a41-b7cd-1ee7612c0dc4\",\"type\":\"Grid\"},{\"id\":\"56e4c823-088d-4cf5-9abd-cb8cecc50a25\",\"type\":\"LinearAxis\"},{\"id\":\"f14502b3-6430-4cc3-b237-17e8e21f62dc\",\"type\":\"Grid\"},{\"id\":\"07be042b-e4d2-4d7e-96ad-64f3221bafc8\",\"type\":\"BoxAnnotation\"},{\"id\":\"295bf318-80f6-48dc-a2d2-73c9e8724f2c\",\"type\":\"BoxAnnotation\"},{\"id\":\"3360b7f5-cec6-485a-bd7c-3d0b8882231b\",\"type\":\"PolyAnnotation\"},{\"id\":\"fd940081-429d-43bb-aa1b-e7dd5c168a09\",\"type\":\"PolyAnnotation\"},{\"id\":\"02b4b7de-303e-4164-8b8d-6a2effedcf6e\",\"type\":\"GlyphRenderer\"}],\"title\":{\"id\":\"1a9bb2a7-d18c-4b63-bc2e-4d65440df9d3\",\"type\":\"Title\"},\"tool_events\":{\"id\":\"10aecf5d-6d3d-44bf-9432-2f6d1051f4ba\",\"type\":\"ToolEvents\"},\"toolbar\":{\"id\":\"51567ce9-0348-456c-8b67-9b7618cb425d\",\"type\":\"Toolbar\"},\"x_range\":{\"id\":\"3a8aa365-c041-44d1-ac4f-b6a66ef0cc15\",\"type\":\"DataRange1d\"},\"y_range\":{\"id\":\"4687c6f1-0613-4f09-99b9-d5eccf13de05\",\"type\":\"DataRange1d\"}},\"id\":\"63c31a99-185f-48ef-85c4-1c3f111543a2\",\"subtype\":\"Figure\",\"type\":\"Plot\"},{\"attributes\":{\"callback\":null},\"id\":\"3a8aa365-c041-44d1-ac4f-b6a66ef0cc15\",\"type\":\"DataRange1d\"},{\"attributes\":{\"plot\":{\"id\":\"63c31a99-185f-48ef-85c4-1c3f111543a2\",\"subtype\":\"Figure\",\"type\":\"Plot\"}},\"id\":\"d9ac3f92-0e2f-472e-8f84-9dd3a96a4af5\",\"type\":\"SaveTool\"},{\"attributes\":{},\"id\":\"10aecf5d-6d3d-44bf-9432-2f6d1051f4ba\",\"type\":\"ToolEvents\"},{\"attributes\":{\"fill_alpha\":{\"value\":0.5},\"fill_color\":{\"value\":\"lightgrey\"},\"level\":\"overlay\",\"line_alpha\":{\"value\":1.0},\"line_color\":{\"value\":\"black\"},\"line_dash\":[4,4],\"line_width\":{\"value\":2},\"plot\":null,\"xs_units\":\"screen\",\"ys_units\":\"screen\"},\"id\":\"3360b7f5-cec6-485a-bd7c-3d0b8882231b\",\"type\":\"PolyAnnotation\"},{\"attributes\":{\"callback\":null},\"id\":\"4687c6f1-0613-4f09-99b9-d5eccf13de05\",\"type\":\"DataRange1d\"},{\"attributes\":{\"axis_label\":\"Residuals\",\"axis_label_text_color\":{\"value\":\"#aa6666\"},\"formatter\":{\"id\":\"4435d4e7-bd90-43b6-9e59-3a64dd774f45\",\"type\":\"BasicTickFormatter\"},\"plot\":{\"id\":\"63c31a99-185f-48ef-85c4-1c3f111543a2\",\"subtype\":\"Figure\",\"type\":\"Plot\"},\"ticker\":{\"id\":\"a0d9295a-8a55-450f-9cf2-c88181a0c206\",\"type\":\"BasicTicker\"}},\"id\":\"56e4c823-088d-4cf5-9abd-cb8cecc50a25\",\"type\":\"LinearAxis\"},{\"attributes\":{\"callback\":null,\"column_names\":[\"x\",\"y\"],\"data\":{\"x\":[23.25,49.5,129.75,22.0,71.75,42.0,69.75,23.0,28.25,41.25,107.0,285.0,359.5,38.75,25.5,42.5,73.75,24.75,264.0,22.25,30.5,32.5,28.75,142.25,32.5,39.75,348.5,53.5,131.0,23.5,129.25,33.5,151.5,25.0,23.25,76.0,25.25,33.75,25.0,23.5,218.0,127.25,23.75,25.0,27.5,96.75,35.75,22.75,24.25,38.75,86.25,23.75,251.5,34.0,23.5,145.5,73.75,24.75,74.0,22.5,23.5,23.5,42.5,265.25,123.75,253.5,93.0,18.25,44.75,619.0,34.0,28.25,129.5,167.25,51.25,336.0,76.75,109.0,73.75,34.5,39.5,27.75,29.25,40.25,112.5,266.0,37.75,21.75,24.25,40.0,124.75,28.0,333.0,30.0,25.25,91.25,25.25,23.5,38.75,180.75,33.75,23.25,68.5,20.25,141.75,34.0,103.5,248.0,91.75,20.5,78.0,23.5,42.75,49.0,25.5,41.0,45.5,31.0,39.25,73.75,126.0,26.75,38.25,63.0,266.25,143.25,23.25,41.0,30.0,76.0,123.5,39.25,37.0,117.5,28.5,23.0,79.0,41.0,44.75,73.0,108.25,24.25,24.25,32.25,25.25,107.0,41.5,289.75,23.75,633.75,30.25,55.25,34.0,49.5,131.75,37.25,32.75,26.25,39.0,479.25,19.75,131.25,23.75,290.25,27.75,34.0,49.5],\"y\":[3.25,-3.5,-2.25,-3.0,-16.25,-12.0,-5.25,6.0,0.25,6.25,27.0,-75.0,-389.5,-2.25,-0.5,-1.5,-8.25,-3.25,-11.0,4.25,3.5,-1.5,0.75,40.25,-1.5,-2.25,-77.5,-3.5,7.0,4.5,1.25,3.5,-129.5,6.0,4.25,-10.0,-19.75,4.75,-3.0,1.5,-2.0,1.25,8.75,3.0,-3.5,15.75,0.75,4.75,0.25,1.75,-8.75,4.75,-1.5,0.0,-0.5,-36.5,-0.25,1.75,-4.0,-0.5,-0.5,-0.5,-4.5,-4.75,10.75,0.5,11.0,-1.75,-2.25,-359.0,0.0,-2.75,-69.5,-3.75,18.25,-25.0,-36.25,-8.0,-0.25,1.5,1.5,-8.25,1.25,-0.75,-4.5,-1.0,-7.25,3.75,3.25,3.0,-65.25,-19.0,-48.0,2.0,0.25,-24.75,-0.75,3.5,3.75,-0.25,4.75,-0.75,3.5,2.25,5.75,0.0,-53.5,-5.0,-9.25,-4.5,4.0,-4.5,-3.25,-4.0,-3.5,-3.0,-0.5,-5.0,-1.75,-8.25,-12.0,-1.25,-3.75,1.0,0.25,41.25,-1.75,-3.0,-1.0,2.0,-18.5,-1.75,-6.0,-1.5,1.5,8.0,6.0,-23.0,-8.25,-3.0,-11.75,0.25,4.25,-17.75,4.25,27.0,11.5,-51.25,-0.25,-285.25,0.25,-0.75,0.0,-3.5,-43.25,-9.75,0.75,3.25,0.0,-758.75,-0.25,-95.75,3.75,-91.75,1.75,6.0,-17.5]}},\"id\":\"df56d3af-d5e6-4add-866a-c80c50672c83\",\"type\":\"ColumnDataSource\"},{\"attributes\":{\"plot\":{\"id\":\"63c31a99-185f-48ef-85c4-1c3f111543a2\",\"subtype\":\"Figure\",\"type\":\"Plot\"}},\"id\":\"00d14b17-e885-4767-8e1c-2deb2d033fa4\",\"type\":\"CrosshairTool\"},{\"attributes\":{\"axis_label\":\"Predicted\",\"axis_label_text_color\":{\"value\":\"#aa6666\"},\"formatter\":{\"id\":\"a86cb05f-8c59-4a9a-b1a6-e4f0a9032a59\",\"type\":\"BasicTickFormatter\"},\"major_tick_line_color\":{\"value\":\"firebrick\"},\"major_tick_line_width\":{\"value\":3},\"minor_tick_line_color\":{\"value\":\"orange\"},\"plot\":{\"id\":\"63c31a99-185f-48ef-85c4-1c3f111543a2\",\"subtype\":\"Figure\",\"type\":\"Plot\"},\"ticker\":{\"id\":\"4e786121-8caa-4f2f-b0ed-1b9a5b2a8e38\",\"type\":\"BasicTicker\"}},\"id\":\"8d6717fc-d45d-49a5-ac56-be8edc76e606\",\"type\":\"LinearAxis\"},{\"attributes\":{\"overlay\":{\"id\":\"07be042b-e4d2-4d7e-96ad-64f3221bafc8\",\"type\":\"BoxAnnotation\"},\"plot\":{\"id\":\"63c31a99-185f-48ef-85c4-1c3f111543a2\",\"subtype\":\"Figure\",\"type\":\"Plot\"}},\"id\":\"9dfabf66-da73-42ce-8320-75a038cb2d51\",\"type\":\"BoxZoomTool\"},{\"attributes\":{\"plot\":{\"id\":\"63c31a99-185f-48ef-85c4-1c3f111543a2\",\"subtype\":\"Figure\",\"type\":\"Plot\"}},\"id\":\"7cef9bdb-d53e-4185-a2d9-f090d5d919c0\",\"type\":\"WheelZoomTool\"},{\"attributes\":{},\"id\":\"a86cb05f-8c59-4a9a-b1a6-e4f0a9032a59\",\"type\":\"BasicTickFormatter\"},{\"attributes\":{\"fill_alpha\":{\"value\":0.1},\"fill_color\":{\"value\":\"#1f77b4\"},\"line_alpha\":{\"value\":0.1},\"line_color\":{\"value\":\"#1f77b4\"},\"line_width\":{\"value\":3},\"x\":{\"field\":\"x\"},\"y\":{\"field\":\"y\"}},\"id\":\"38a186b3-4875-425d-8102-dcee06e02bde\",\"type\":\"Circle\"},{\"attributes\":{\"callback\":null,\"overlay\":{\"id\":\"3360b7f5-cec6-485a-bd7c-3d0b8882231b\",\"type\":\"PolyAnnotation\"},\"plot\":{\"id\":\"63c31a99-185f-48ef-85c4-1c3f111543a2\",\"subtype\":\"Figure\",\"type\":\"Plot\"}},\"id\":\"954ecbc5-ae95-411e-a2e6-5482c72b1dc8\",\"type\":\"LassoSelectTool\"},{\"attributes\":{\"overlay\":{\"id\":\"fd940081-429d-43bb-aa1b-e7dd5c168a09\",\"type\":\"PolyAnnotation\"},\"plot\":{\"id\":\"63c31a99-185f-48ef-85c4-1c3f111543a2\",\"subtype\":\"Figure\",\"type\":\"Plot\"}},\"id\":\"0f783896-44a6-47cf-925c-e3d1a0c31135\",\"type\":\"PolySelectTool\"},{\"attributes\":{},\"id\":\"4435d4e7-bd90-43b6-9e59-3a64dd774f45\",\"type\":\"BasicTickFormatter\"},{\"attributes\":{\"bottom_units\":\"screen\",\"fill_alpha\":{\"value\":0.5},\"fill_color\":{\"value\":\"lightgrey\"},\"left_units\":\"screen\",\"level\":\"overlay\",\"line_alpha\":{\"value\":1.0},\"line_color\":{\"value\":\"black\"},\"line_dash\":[4,4],\"line_width\":{\"value\":2},\"plot\":null,\"render_mode\":\"css\",\"right_units\":\"screen\",\"top_units\":\"screen\"},\"id\":\"07be042b-e4d2-4d7e-96ad-64f3221bafc8\",\"type\":\"BoxAnnotation\"},{\"attributes\":{\"plot\":{\"id\":\"63c31a99-185f-48ef-85c4-1c3f111543a2\",\"subtype\":\"Figure\",\"type\":\"Plot\"},\"ticker\":{\"id\":\"4e786121-8caa-4f2f-b0ed-1b9a5b2a8e38\",\"type\":\"BasicTicker\"}},\"id\":\"b6b25ca2-0bd2-4a41-b7cd-1ee7612c0dc4\",\"type\":\"Grid\"},{\"attributes\":{\"dimension\":1,\"plot\":{\"id\":\"63c31a99-185f-48ef-85c4-1c3f111543a2\",\"subtype\":\"Figure\",\"type\":\"Plot\"},\"ticker\":{\"id\":\"a0d9295a-8a55-450f-9cf2-c88181a0c206\",\"type\":\"BasicTicker\"}},\"id\":\"f14502b3-6430-4cc3-b237-17e8e21f62dc\",\"type\":\"Grid\"},{\"attributes\":{\"fill_alpha\":{\"value\":0.5},\"fill_color\":{\"value\":\"lightgrey\"},\"level\":\"overlay\",\"line_alpha\":{\"value\":1.0},\"line_color\":{\"value\":\"black\"},\"line_dash\":[4,4],\"line_width\":{\"value\":2},\"plot\":null,\"xs_units\":\"screen\",\"ys_units\":\"screen\"},\"id\":\"fd940081-429d-43bb-aa1b-e7dd5c168a09\",\"type\":\"PolyAnnotation\"},{\"attributes\":{\"callback\":null,\"plot\":{\"id\":\"63c31a99-185f-48ef-85c4-1c3f111543a2\",\"subtype\":\"Figure\",\"type\":\"Plot\"}},\"id\":\"b79c2d71-2b34-4b5f-aaba-12f9644ee452\",\"type\":\"TapTool\"}],\"root_ids\":[\"63c31a99-185f-48ef-85c4-1c3f111543a2\"]},\"title\":\"Bokeh Application\",\"version\":\"0.12.2\"}};\n",
       "            var render_items = [{\"docid\":\"7add9685-f738-4e9d-b674-eb8430bb66e5\",\"elementid\":\"a1f0f2c1-e0f1-498e-a607-4ccee5b0e80c\",\"modelid\":\"63c31a99-185f-48ef-85c4-1c3f111543a2\"}];\n",
       "            \n",
       "            Bokeh.embed.embed_items(docs_json, render_items);\n",
       "        });\n",
       "      },\n",
       "      function(Bokeh) {\n",
       "      }\n",
       "    ];\n",
       "  \n",
       "    function run_inline_js() {\n",
       "      \n",
       "      if ((window.Bokeh !== undefined) || (force === \"1\")) {\n",
       "        for (var i = 0; i < inline_js.length; i++) {\n",
       "          inline_js[i](window.Bokeh);\n",
       "        }if (force === \"1\") {\n",
       "          display_loaded();\n",
       "        }} else if (Date.now() < window._bokeh_timeout) {\n",
       "        setTimeout(run_inline_js, 100);\n",
       "      } else if (!window._bokeh_failed_load) {\n",
       "        console.log(\"Bokeh: BokehJS failed to load within specified timeout.\");\n",
       "        window._bokeh_failed_load = true;\n",
       "      } else if (!force) {\n",
       "        var cell = $(\"#a1f0f2c1-e0f1-498e-a607-4ccee5b0e80c\").parents('.cell').data().cell;\n",
       "        cell.output_area.append_execute_result(NB_LOAD_WARNING)\n",
       "      }\n",
       "  \n",
       "    }\n",
       "  \n",
       "    if (window._bokeh_is_loading === 0) {\n",
       "      console.log(\"Bokeh: BokehJS loaded, going straight to plotting\");\n",
       "      run_inline_js();\n",
       "    } else {\n",
       "      load_libs(js_urls, function() {\n",
       "        console.log(\"Bokeh: BokehJS plotting callback run at\", now());\n",
       "        run_inline_js();\n",
       "      });\n",
       "    }\n",
       "  }(this));\n",
       "</script>"
      ]
     },
     "metadata": {},
     "output_type": "display_data"
    }
   ],
   "source": [
    "# Plotining using bokeh\n",
    "#TOOLS = 'hover,box_zoom,box_select,crosshair,resize,reset,KNeighborsRegressor_select,pan,save,poly_select,tap,wheel_zoom,undo'\n",
    "TOOLS = 'box_zoom,box_select,crosshair,resize,reset,lasso_select,pan,save,poly_select,tap,wheel_zoom,undo'\n",
    "p = figure(plot_width=500, plot_height=500, title=\"Residual plot on the training data\", tools=TOOLS)\n",
    "p.scatter(predicted, (predicted - Y),x=\"jjj\", marker=\"o\", color=\"#80B1D3\", line_width=3)\n",
    "p.title.align = \"center\"\n",
    "p.xaxis.axis_label = \"Predicted\"\n",
    "p.xaxis.axis_label_text_color = \"#aa6666\"\n",
    "#p.xaxis.axis_label_standoff = 30\n",
    "p.xaxis.major_tick_line_color = \"firebrick\"\n",
    "p.xaxis.major_tick_line_width = 3\n",
    "p.xaxis.minor_tick_line_color = \"orange\"\n",
    "p.yaxis.axis_label = \"Residuals\"\n",
    "p.yaxis.axis_label_text_font_style = \"italic\"\n",
    "p.yaxis.axis_label_text_color = \"#aa6666\"\n",
    "p.background_fill_color = \"beige\"\n",
    "p.background_fill_alpha = 0.5\n",
    "#p.line([2,38], [0, 0], line_dash=\"4 4\", line_width=2, color='red')\n",
    "show(p)"
   ]
  },
  {
   "cell_type": "markdown",
   "metadata": {},
   "source": [
    "## Pipeline"
   ]
  },
  {
   "cell_type": "markdown",
   "metadata": {},
   "source": [
    "The best to deliver the model by pipeline the operation then at deployment can be done in one model."
   ]
  },
  {
   "cell_type": "markdown",
   "metadata": {
    "collapsed": true
   },
   "source": [
    "  I used two ways to check the pipeline so any one can be fine"
   ]
  },
  {
   "cell_type": "code",
   "execution_count": 26,
   "metadata": {
    "collapsed": false
   },
   "outputs": [
    {
     "name": "stdout",
     "output_type": "stream",
     "text": [
      "0.893452725842\n",
      "Scoring according to mean_squared_error\n",
      "[ -9319.82720588  -1452.93382353    -58.72794118    -97.93382353\n",
      "  -1562.41176471   -451.55514706   -185.63602941   -145.82421875\n",
      "  -5378.91015625 -37235.7421875 ]\n",
      "\n",
      " Mean      Standard deviation\n",
      "-5588.95      10930.48\n",
      "[ True  True  True  True  True  True  True]\n",
      "R-squared =  0.893452725842\n"
     ]
    },
    {
     "name": "stderr",
     "output_type": "stream",
     "text": [
      "/home/salm/anaconda2/lib/python2.7/site-packages/sklearn/utils/validation.py:420: DataConversionWarning: Data with input dtype int64 was converted to float64 by StandardScaler.\n",
      "  warnings.warn(msg, DataConversionWarning)\n",
      "/home/salm/anaconda2/lib/python2.7/site-packages/sklearn/utils/validation.py:420: DataConversionWarning: Data with input dtype int64 was converted to float64 by StandardScaler.\n",
      "  warnings.warn(msg, DataConversionWarning)\n",
      "/home/salm/anaconda2/lib/python2.7/site-packages/sklearn/utils/validation.py:420: DataConversionWarning: Data with input dtype int64 was converted to float64 by StandardScaler.\n",
      "  warnings.warn(msg, DataConversionWarning)\n",
      "/home/salm/anaconda2/lib/python2.7/site-packages/sklearn/utils/validation.py:420: DataConversionWarning: Data with input dtype int64 was converted to float64 by StandardScaler.\n",
      "  warnings.warn(msg, DataConversionWarning)\n",
      "/home/salm/anaconda2/lib/python2.7/site-packages/sklearn/utils/validation.py:420: DataConversionWarning: Data with input dtype int64 was converted to float64 by StandardScaler.\n",
      "  warnings.warn(msg, DataConversionWarning)\n",
      "/home/salm/anaconda2/lib/python2.7/site-packages/sklearn/utils/validation.py:420: DataConversionWarning: Data with input dtype int64 was converted to float64 by StandardScaler.\n",
      "  warnings.warn(msg, DataConversionWarning)\n",
      "/home/salm/anaconda2/lib/python2.7/site-packages/sklearn/utils/validation.py:420: DataConversionWarning: Data with input dtype int64 was converted to float64 by StandardScaler.\n",
      "  warnings.warn(msg, DataConversionWarning)\n",
      "/home/salm/anaconda2/lib/python2.7/site-packages/sklearn/utils/validation.py:420: DataConversionWarning: Data with input dtype int64 was converted to float64 by StandardScaler.\n",
      "  warnings.warn(msg, DataConversionWarning)\n",
      "/home/salm/anaconda2/lib/python2.7/site-packages/sklearn/utils/validation.py:420: DataConversionWarning: Data with input dtype int64 was converted to float64 by StandardScaler.\n",
      "  warnings.warn(msg, DataConversionWarning)\n",
      "/home/salm/anaconda2/lib/python2.7/site-packages/sklearn/utils/validation.py:420: DataConversionWarning: Data with input dtype int64 was converted to float64 by StandardScaler.\n",
      "  warnings.warn(msg, DataConversionWarning)\n",
      "/home/salm/anaconda2/lib/python2.7/site-packages/sklearn/utils/validation.py:420: DataConversionWarning: Data with input dtype int64 was converted to float64 by StandardScaler.\n",
      "  warnings.warn(msg, DataConversionWarning)\n",
      "/home/salm/anaconda2/lib/python2.7/site-packages/sklearn/utils/validation.py:420: DataConversionWarning: Data with input dtype int64 was converted to float64 by StandardScaler.\n",
      "  warnings.warn(msg, DataConversionWarning)\n",
      "/home/salm/anaconda2/lib/python2.7/site-packages/sklearn/utils/validation.py:420: DataConversionWarning: Data with input dtype int64 was converted to float64 by StandardScaler.\n",
      "  warnings.warn(msg, DataConversionWarning)\n",
      "/home/salm/anaconda2/lib/python2.7/site-packages/sklearn/utils/validation.py:420: DataConversionWarning: Data with input dtype int64 was converted to float64 by StandardScaler.\n",
      "  warnings.warn(msg, DataConversionWarning)\n",
      "/home/salm/anaconda2/lib/python2.7/site-packages/sklearn/utils/validation.py:420: DataConversionWarning: Data with input dtype int64 was converted to float64 by StandardScaler.\n",
      "  warnings.warn(msg, DataConversionWarning)\n",
      "/home/salm/anaconda2/lib/python2.7/site-packages/sklearn/utils/validation.py:420: DataConversionWarning: Data with input dtype int64 was converted to float64 by StandardScaler.\n",
      "  warnings.warn(msg, DataConversionWarning)\n",
      "/home/salm/anaconda2/lib/python2.7/site-packages/sklearn/utils/validation.py:420: DataConversionWarning: Data with input dtype int64 was converted to float64 by StandardScaler.\n",
      "  warnings.warn(msg, DataConversionWarning)\n",
      "/home/salm/anaconda2/lib/python2.7/site-packages/sklearn/utils/validation.py:420: DataConversionWarning: Data with input dtype int64 was converted to float64 by StandardScaler.\n",
      "  warnings.warn(msg, DataConversionWarning)\n",
      "/home/salm/anaconda2/lib/python2.7/site-packages/sklearn/utils/validation.py:420: DataConversionWarning: Data with input dtype int64 was converted to float64 by StandardScaler.\n",
      "  warnings.warn(msg, DataConversionWarning)\n",
      "/home/salm/anaconda2/lib/python2.7/site-packages/sklearn/utils/validation.py:420: DataConversionWarning: Data with input dtype int64 was converted to float64 by StandardScaler.\n",
      "  warnings.warn(msg, DataConversionWarning)\n",
      "/home/salm/anaconda2/lib/python2.7/site-packages/sklearn/utils/validation.py:420: DataConversionWarning: Data with input dtype int64 was converted to float64 by StandardScaler.\n",
      "  warnings.warn(msg, DataConversionWarning)\n",
      "/home/salm/anaconda2/lib/python2.7/site-packages/sklearn/utils/validation.py:420: DataConversionWarning: Data with input dtype int64 was converted to float64 by StandardScaler.\n",
      "  warnings.warn(msg, DataConversionWarning)\n",
      "/home/salm/anaconda2/lib/python2.7/site-packages/sklearn/utils/validation.py:420: DataConversionWarning: Data with input dtype int64 was converted to float64 by StandardScaler.\n",
      "  warnings.warn(msg, DataConversionWarning)\n",
      "/home/salm/anaconda2/lib/python2.7/site-packages/sklearn/utils/validation.py:420: DataConversionWarning: Data with input dtype int64 was converted to float64 by StandardScaler.\n",
      "  warnings.warn(msg, DataConversionWarning)\n",
      "/home/salm/anaconda2/lib/python2.7/site-packages/sklearn/utils/validation.py:420: DataConversionWarning: Data with input dtype int64 was converted to float64 by StandardScaler.\n",
      "  warnings.warn(msg, DataConversionWarning)\n",
      "/home/salm/anaconda2/lib/python2.7/site-packages/sklearn/utils/validation.py:420: DataConversionWarning: Data with input dtype int64 was converted to float64 by StandardScaler.\n",
      "  warnings.warn(msg, DataConversionWarning)\n",
      "/home/salm/anaconda2/lib/python2.7/site-packages/sklearn/utils/validation.py:420: DataConversionWarning: Data with input dtype int64 was converted to float64 by StandardScaler.\n",
      "  warnings.warn(msg, DataConversionWarning)\n",
      "/home/salm/anaconda2/lib/python2.7/site-packages/sklearn/utils/validation.py:420: DataConversionWarning: Data with input dtype int64 was converted to float64 by StandardScaler.\n",
      "  warnings.warn(msg, DataConversionWarning)\n",
      "/home/salm/anaconda2/lib/python2.7/site-packages/sklearn/utils/validation.py:420: DataConversionWarning: Data with input dtype int64 was converted to float64 by StandardScaler.\n",
      "  warnings.warn(msg, DataConversionWarning)\n",
      "/home/salm/anaconda2/lib/python2.7/site-packages/sklearn/utils/validation.py:420: DataConversionWarning: Data with input dtype int64 was converted to float64 by StandardScaler.\n",
      "  warnings.warn(msg, DataConversionWarning)\n",
      "/home/salm/anaconda2/lib/python2.7/site-packages/sklearn/utils/validation.py:420: DataConversionWarning: Data with input dtype int64 was converted to float64 by StandardScaler.\n",
      "  warnings.warn(msg, DataConversionWarning)\n",
      "/home/salm/anaconda2/lib/python2.7/site-packages/sklearn/utils/validation.py:420: DataConversionWarning: Data with input dtype int64 was converted to float64 by StandardScaler.\n",
      "  warnings.warn(msg, DataConversionWarning)\n",
      "/home/salm/anaconda2/lib/python2.7/site-packages/sklearn/utils/validation.py:420: DataConversionWarning: Data with input dtype int64 was converted to float64 by StandardScaler.\n",
      "  warnings.warn(msg, DataConversionWarning)\n",
      "/home/salm/anaconda2/lib/python2.7/site-packages/sklearn/utils/validation.py:420: DataConversionWarning: Data with input dtype int64 was converted to float64 by StandardScaler.\n",
      "  warnings.warn(msg, DataConversionWarning)\n"
     ]
    }
   ],
   "source": [
    "# Use Pipeline\n",
    "# ANOVA \n",
    "from sklearn.pipeline import Pipeline\n",
    "from sklearn.feature_selection import SelectKBest, f_regression\n",
    "anova_filter = SelectKBest(f_regression, k=7)\n",
    "LR = KNeighborsRegressor(n_neighbors = 4, algorithm = 'kd_tree')\n",
    "anova_LinReg = Pipeline([('scaler_Input',scaler), ('anova', anova_filter), ('LinReg', LR)])\n",
    "# You can set the parameters using the names issued\n",
    "# For instance, fit using a k of 10 in the SelectKBest\n",
    "anova_LinReg.set_params(anova__k=7).fit(new_data, Y)\n",
    "prediction = anova_LinReg.predict(new_data)\n",
    "print anova_LinReg.score(new_data, Y)                        \n",
    "# getting the selected features chosen by anova_filter\n",
    "results = cross_validation.cross_val_score(anova_LinReg, new_data, Y, cv=kfold, scoring=scoring)\n",
    "print 'Scoring according to mean_squared_error'\n",
    "print results\n",
    "print '\\n Mean      Standard deviation'\n",
    "print(\"%.2f      %.2f\" % (results.mean(), results.std()))\n",
    "print anova_LinReg.named_steps['anova'].get_support()\n",
    "r_squared = r2_score(Y, prediction, multioutput='variance_weighted')\n",
    "print 'R-squared = ',r_squared"
   ]
  },
  {
   "cell_type": "code",
   "execution_count": 27,
   "metadata": {
    "collapsed": false
   },
   "outputs": [
    {
     "name": "stdout",
     "output_type": "stream",
     "text": [
      "R-squared =  0.893452725842\n"
     ]
    },
    {
     "name": "stderr",
     "output_type": "stream",
     "text": [
      "/home/salm/anaconda2/lib/python2.7/site-packages/sklearn/utils/validation.py:420: DataConversionWarning: Data with input dtype int64 was converted to float64 by StandardScaler.\n",
      "  warnings.warn(msg, DataConversionWarning)\n",
      "/home/salm/anaconda2/lib/python2.7/site-packages/sklearn/utils/validation.py:420: DataConversionWarning: Data with input dtype int64 was converted to float64 by StandardScaler.\n",
      "  warnings.warn(msg, DataConversionWarning)\n",
      "/home/salm/anaconda2/lib/python2.7/site-packages/sklearn/utils/validation.py:420: DataConversionWarning: Data with input dtype int64 was converted to float64 by StandardScaler.\n",
      "  warnings.warn(msg, DataConversionWarning)\n"
     ]
    }
   ],
   "source": [
    "# Using make_pipeline\n",
    "from sklearn.pipeline import make_pipeline\n",
    "\n",
    "# ANOVA SVM-C\n",
    "# 1) anova filter, take 3 best ranked features\n",
    "anova_filter = SelectKBest(f_regression, k=7)\n",
    "anova_KNeighborsRegressor = make_pipeline(scaler, anova_filter, LR)\n",
    "anova_KNeighborsRegressor.fit(new_data, Y)\n",
    "prediction = anova_KNeighborsRegressor.predict(new_data)\n",
    "r_squared = r2_score(Y, prediction, multioutput='variance_weighted')\n",
    "print 'R-squared = ',r_squared"
   ]
  },
  {
   "cell_type": "markdown",
   "metadata": {},
   "source": [
    "### Save the Pipeline model for developement"
   ]
  },
  {
   "cell_type": "code",
   "execution_count": 28,
   "metadata": {
    "collapsed": false
   },
   "outputs": [
    {
     "data": {
      "text/plain": [
       "['anova_KNeighborsRegressor.pkl',\n",
       " 'anova_KNeighborsRegressor.pkl_01.npy',\n",
       " 'anova_KNeighborsRegressor.pkl_02.npy',\n",
       " 'anova_KNeighborsRegressor.pkl_03.npy',\n",
       " 'anova_KNeighborsRegressor.pkl_04.npy',\n",
       " 'anova_KNeighborsRegressor.pkl_05.npy',\n",
       " 'anova_KNeighborsRegressor.pkl_06.npy',\n",
       " 'anova_KNeighborsRegressor.pkl_07.npy',\n",
       " 'anova_KNeighborsRegressor.pkl_08.npy',\n",
       " 'anova_KNeighborsRegressor.pkl_09.npy',\n",
       " 'anova_KNeighborsRegressor.pkl_10.npy',\n",
       " 'anova_KNeighborsRegressor.pkl_11.npy',\n",
       " 'anova_KNeighborsRegressor.pkl_12.npy',\n",
       " 'anova_KNeighborsRegressor.pkl_13.npy']"
      ]
     },
     "execution_count": 28,
     "metadata": {},
     "output_type": "execute_result"
    }
   ],
   "source": [
    "# save the model scaler to the desk\n",
    "from sklearn.externals import joblib\n",
    "joblib.dump(anova_KNeighborsRegressor, 'anova_KNeighborsRegressor.pkl') "
   ]
  },
  {
   "cell_type": "code",
   "execution_count": 29,
   "metadata": {
    "collapsed": false
   },
   "outputs": [
    {
     "name": "stdout",
     "output_type": "stream",
     "text": [
      " =================================================================>>>>> done\n",
      "R-squared =  0.893452725842\n"
     ]
    },
    {
     "name": "stderr",
     "output_type": "stream",
     "text": [
      "/home/salm/anaconda2/lib/python2.7/site-packages/sklearn/utils/validation.py:420: DataConversionWarning: Data with input dtype int64 was converted to float64 by StandardScaler.\n",
      "  warnings.warn(msg, DataConversionWarning)\n"
     ]
    }
   ],
   "source": [
    "# Test the model if it is work\n",
    "anova_KNeighborsRegressorTest = joblib.load('anova_KNeighborsRegressor.pkl')\n",
    "NewPred = anova_KNeighborsRegressorTest.predict(new_data)\n",
    "print \" =================================================================>>>>> done\"\n",
    "r_squared = r2_score(Y, NewPred, multioutput='variance_weighted')\n",
    "print 'R-squared = ',r_squared"
   ]
  },
  {
   "cell_type": "code",
   "execution_count": 30,
   "metadata": {
    "collapsed": false
   },
   "outputs": [
    {
     "name": "stdout",
     "output_type": "stream",
     "text": [
      "Point of training data before normalization\n",
      "[   50  2000 32000    24     6    26   114]\n",
      "\n",
      "The read target of the data =  182\n",
      "\n",
      "The Predicted target of the data =  [ 156.5]\n"
     ]
    }
   ],
   "source": [
    "# test on single data point, randomly choose point number 55\n",
    "print 'Point of training data before normalization\\n',new_data[55]\n",
    "print '\\nThe read target of the data = ', Y[55]\n",
    "NewPred = anova_KNeighborsRegressorTest.predict([new_data[55]])\n",
    "print '\\nThe Predicted target of the data = ', NewPred"
   ]
  },
  {
   "cell_type": "markdown",
   "metadata": {},
   "source": [
    "## Conclusion "
   ]
  }
 ],
 "metadata": {
  "kernelspec": {
   "display_name": "Python 2",
   "language": "python",
   "name": "python2"
  },
  "language_info": {
   "codemirror_mode": {
    "name": "ipython",
    "version": 2
   },
   "file_extension": ".py",
   "mimetype": "text/x-python",
   "name": "python",
   "nbconvert_exporter": "python",
   "pygments_lexer": "ipython2",
   "version": "2.7.12"
  }
 },
 "nbformat": 4,
 "nbformat_minor": 0
}
