{
 "cells": [
  {
   "cell_type": "markdown",
   "metadata": {},
   "source": [
    "Salem Ameen, PhD student at Salford University\n",
    "\n",
    "### COMPUTER HARDWARE\n",
    "\n",
    "Kernel KernelRidge regression"
   ]
  },
  {
   "cell_type": "markdown",
   "metadata": {},
   "source": [
    "# Import the Libraries"
   ]
  },
  {
   "cell_type": "code",
   "execution_count": 1,
   "metadata": {
    "collapsed": false
   },
   "outputs": [
    {
     "data": {
      "text/html": [
       "\n",
       "    <div class=\"bk-root\">\n",
       "        <a href=\"http://bokeh.pydata.org\" target=\"_blank\" class=\"bk-logo bk-logo-small bk-logo-notebook\"></a>\n",
       "        <span id=\"6610f27c-34d0-4960-add7-37c14ac07d6b\">Loading BokehJS ...</span>\n",
       "    </div>"
      ]
     },
     "metadata": {},
     "output_type": "display_data"
    },
    {
     "data": {
      "application/javascript": [
       "\n",
       "(function(global) {\n",
       "  function now() {\n",
       "    return new Date();\n",
       "  }\n",
       "\n",
       "  var force = \"1\";\n",
       "\n",
       "  if (typeof (window._bokeh_onload_callbacks) === \"undefined\" || force !== \"\") {\n",
       "    window._bokeh_onload_callbacks = [];\n",
       "    window._bokeh_is_loading = undefined;\n",
       "  }\n",
       "\n",
       "\n",
       "  \n",
       "  if (typeof (window._bokeh_timeout) === \"undefined\" || force !== \"\") {\n",
       "    window._bokeh_timeout = Date.now() + 5000;\n",
       "    window._bokeh_failed_load = false;\n",
       "  }\n",
       "\n",
       "  var NB_LOAD_WARNING = {'data': {'text/html':\n",
       "     \"<div style='background-color: #fdd'>\\n\"+\n",
       "     \"<p>\\n\"+\n",
       "     \"BokehJS does not appear to have successfully loaded. If loading BokehJS from CDN, this \\n\"+\n",
       "     \"may be due to a slow or bad network connection. Possible fixes:\\n\"+\n",
       "     \"</p>\\n\"+\n",
       "     \"<ul>\\n\"+\n",
       "     \"<li>re-rerun `output_notebook()` to attempt to load from CDN again, or</li>\\n\"+\n",
       "     \"<li>use INLINE resources instead, as so:</li>\\n\"+\n",
       "     \"</ul>\\n\"+\n",
       "     \"<code>\\n\"+\n",
       "     \"from bokeh.resources import INLINE\\n\"+\n",
       "     \"output_notebook(resources=INLINE)\\n\"+\n",
       "     \"</code>\\n\"+\n",
       "     \"</div>\"}};\n",
       "\n",
       "  function display_loaded() {\n",
       "    if (window.Bokeh !== undefined) {\n",
       "      Bokeh.$(\"#6610f27c-34d0-4960-add7-37c14ac07d6b\").text(\"BokehJS successfully loaded.\");\n",
       "    } else if (Date.now() < window._bokeh_timeout) {\n",
       "      setTimeout(display_loaded, 100)\n",
       "    }\n",
       "  }\n",
       "\n",
       "  function run_callbacks() {\n",
       "    window._bokeh_onload_callbacks.forEach(function(callback) { callback() });\n",
       "    delete window._bokeh_onload_callbacks\n",
       "    console.info(\"Bokeh: all callbacks have finished\");\n",
       "  }\n",
       "\n",
       "  function load_libs(js_urls, callback) {\n",
       "    window._bokeh_onload_callbacks.push(callback);\n",
       "    if (window._bokeh_is_loading > 0) {\n",
       "      console.log(\"Bokeh: BokehJS is being loaded, scheduling callback at\", now());\n",
       "      return null;\n",
       "    }\n",
       "    if (js_urls == null || js_urls.length === 0) {\n",
       "      run_callbacks();\n",
       "      return null;\n",
       "    }\n",
       "    console.log(\"Bokeh: BokehJS not loaded, scheduling load and callback at\", now());\n",
       "    window._bokeh_is_loading = js_urls.length;\n",
       "    for (var i = 0; i < js_urls.length; i++) {\n",
       "      var url = js_urls[i];\n",
       "      var s = document.createElement('script');\n",
       "      s.src = url;\n",
       "      s.async = false;\n",
       "      s.onreadystatechange = s.onload = function() {\n",
       "        window._bokeh_is_loading--;\n",
       "        if (window._bokeh_is_loading === 0) {\n",
       "          console.log(\"Bokeh: all BokehJS libraries loaded\");\n",
       "          run_callbacks()\n",
       "        }\n",
       "      };\n",
       "      s.onerror = function() {\n",
       "        console.warn(\"failed to load library \" + url);\n",
       "      };\n",
       "      console.log(\"Bokeh: injecting script tag for BokehJS library: \", url);\n",
       "      document.getElementsByTagName(\"head\")[0].appendChild(s);\n",
       "    }\n",
       "  };var element = document.getElementById(\"6610f27c-34d0-4960-add7-37c14ac07d6b\");\n",
       "  if (element == null) {\n",
       "    console.log(\"Bokeh: ERROR: autoload.js configured with elementid '6610f27c-34d0-4960-add7-37c14ac07d6b' but no matching script tag was found. \")\n",
       "    return false;\n",
       "  }\n",
       "\n",
       "  var js_urls = ['https://cdn.pydata.org/bokeh/release/bokeh-0.12.2.min.js', 'https://cdn.pydata.org/bokeh/release/bokeh-widgets-0.12.2.min.js', 'https://cdn.pydata.org/bokeh/release/bokeh-compiler-0.12.2.min.js'];\n",
       "\n",
       "  var inline_js = [\n",
       "    function(Bokeh) {\n",
       "      Bokeh.set_log_level(\"info\");\n",
       "    },\n",
       "    \n",
       "    function(Bokeh) {\n",
       "      \n",
       "      Bokeh.$(\"#6610f27c-34d0-4960-add7-37c14ac07d6b\").text(\"BokehJS is loading...\");\n",
       "    },\n",
       "    function(Bokeh) {\n",
       "      console.log(\"Bokeh: injecting CSS: https://cdn.pydata.org/bokeh/release/bokeh-0.12.2.min.css\");\n",
       "      Bokeh.embed.inject_css(\"https://cdn.pydata.org/bokeh/release/bokeh-0.12.2.min.css\");\n",
       "      console.log(\"Bokeh: injecting CSS: https://cdn.pydata.org/bokeh/release/bokeh-widgets-0.12.2.min.css\");\n",
       "      Bokeh.embed.inject_css(\"https://cdn.pydata.org/bokeh/release/bokeh-widgets-0.12.2.min.css\");\n",
       "    }\n",
       "  ];\n",
       "\n",
       "  function run_inline_js() {\n",
       "    \n",
       "    if ((window.Bokeh !== undefined) || (force === \"1\")) {\n",
       "      for (var i = 0; i < inline_js.length; i++) {\n",
       "        inline_js[i](window.Bokeh);\n",
       "      }if (force === \"1\") {\n",
       "        display_loaded();\n",
       "      }} else if (Date.now() < window._bokeh_timeout) {\n",
       "      setTimeout(run_inline_js, 100);\n",
       "    } else if (!window._bokeh_failed_load) {\n",
       "      console.log(\"Bokeh: BokehJS failed to load within specified timeout.\");\n",
       "      window._bokeh_failed_load = true;\n",
       "    } else if (!force) {\n",
       "      var cell = $(\"#6610f27c-34d0-4960-add7-37c14ac07d6b\").parents('.cell').data().cell;\n",
       "      cell.output_area.append_execute_result(NB_LOAD_WARNING)\n",
       "    }\n",
       "\n",
       "  }\n",
       "\n",
       "  if (window._bokeh_is_loading === 0) {\n",
       "    console.log(\"Bokeh: BokehJS loaded, going straight to plotting\");\n",
       "    run_inline_js();\n",
       "  } else {\n",
       "    load_libs(js_urls, function() {\n",
       "      console.log(\"Bokeh: BokehJS plotting callback run at\", now());\n",
       "      run_inline_js();\n",
       "    });\n",
       "  }\n",
       "}(this));"
      ]
     },
     "metadata": {},
     "output_type": "display_data"
    }
   ],
   "source": [
    "import numpy as np\n",
    "import pandas\n",
    "from numpy import *\n",
    "import time\n",
    "import sys\n",
    "import pandas as pd\n",
    "import matplotlib.pyplot as plt\n",
    "from sklearn import feature_selection\n",
    "from sklearn.kernel_ridge import KernelRidge\n",
    "from sklearn.learning_curve import learning_curve, validation_curve\n",
    "from sklearn.cross_validation import cross_val_predict\n",
    "from sklearn import metrics, grid_search, cross_validation\n",
    "from IPython.display import set_matplotlib_formats\n",
    "from bokeh.plotting import figure, show, output_notebook\n",
    "from sklearn.grid_search import GridSearchCV, RandomizedSearchCV\n",
    "from sklearn.metrics import r2_score\n",
    "from bokeh.layouts import gridplot\n",
    "output_notebook()\n",
    "set_matplotlib_formats('png', 'pdf')\n",
    "%matplotlib inline\n",
    "plt.rcParams['figure.figsize'] = (6, 6)"
   ]
  },
  {
   "cell_type": "markdown",
   "metadata": {},
   "source": [
    "# Load data"
   ]
  },
  {
   "cell_type": "markdown",
   "metadata": {},
   "source": [
    "In the previous file we have not change the data as there is no missing value or add any new parameters so it can be downloaded from the web directly. "
   ]
  },
  {
   "cell_type": "code",
   "execution_count": 2,
   "metadata": {
    "collapsed": false
   },
   "outputs": [
    {
     "name": "stdout",
     "output_type": "stream",
     "text": [
      "Number of examples 209\n"
     ]
    }
   ],
   "source": [
    "url = 'http://archive.ics.uci.edu/ml/machine-learning-databases/cpu-performance/machine.data'\n",
    "names = ['vendor', 'Model', 'MYCT', 'MMIN', 'MMAX', 'CACH', 'CHMIN','CHMAX','PRP','ERP']\n",
    "feature_names = ['MYCT', 'MMIN', 'MMAX', 'CACH', 'CHMIN','CHMAX','PRP','ERP']\n",
    "feature_cols = ['MYCT', 'MMIN', 'MMAX', 'CACH', 'CHMIN','CHMAX','PRP','ERP']\n",
    "data = pd.read_csv(url, sep=',', names = names)\n",
    "data = data.drop('vendor',1)\n",
    "data = data.drop('Model',1)\n",
    "\n",
    "from sklearn import preprocessing\n",
    "\n",
    "def number_encode_features(df):\n",
    "    result = df.copy()\n",
    "    encoders = {}\n",
    "    for column in result.columns:\n",
    "        if result.dtypes[column] == np.object:\n",
    "            encoders[column] = preprocessing.LabelEncoder()\n",
    "            result[column] = encoders[column].fit_transform(result[column])\n",
    "    return result, encoders\n",
    "\n",
    "data, _ = number_encode_features(data)\n",
    "\n",
    "dataset = data.values\n",
    "X = dataset[:,0:7]\n",
    "Y = dataset[:,7]\n",
    "print 'Number of examples',len(X)"
   ]
  },
  {
   "cell_type": "code",
   "execution_count": 3,
   "metadata": {
    "collapsed": false
   },
   "outputs": [
    {
     "name": "stdout",
     "output_type": "stream",
     "text": [
      "Number of training examples 167\n",
      "Number of validation examples 42\n"
     ]
    }
   ],
   "source": [
    "# Make developement dataset for genrilization and final testing\n",
    "from sklearn.cross_validation import train_test_split\n",
    "# Extracting 20% testing data\n",
    "X_train, X_test, y_train, y_test = train_test_split(\n",
    "    X, Y, test_size=0.20, random_state=0)\n",
    "X = X_train\n",
    "Y = y_train\n",
    "new_data      = X_train\n",
    "new_test_data = X_test\n",
    "print 'Number of training examples',len(X_train)\n",
    "print 'Number of validation examples',len(X_test)"
   ]
  },
  {
   "cell_type": "markdown",
   "metadata": {},
   "source": [
    "Number of training data is very small so we need to use cross validation instead of spareate another validation data."
   ]
  },
  {
   "cell_type": "markdown",
   "metadata": {},
   "source": [
    "From the previous visulization the data has no missing value but has many outlier and some sparisty"
   ]
  },
  {
   "cell_type": "markdown",
   "metadata": {},
   "source": [
    "# Ranking of the feature's importance to the target"
   ]
  },
  {
   "cell_type": "code",
   "execution_count": 4,
   "metadata": {
    "collapsed": false
   },
   "outputs": [
    {
     "name": "stdout",
     "output_type": "stream",
     "text": [
      "MYCT \t-0.384898204727\n",
      "MMIN \t0.670395650141\n",
      "MMAX \t0.777255606295\n",
      "CACH \t0.379164461195\n",
      "CHMIN \t0.339602577431\n",
      "CHMAX \t0.316422581121\n",
      "PRP \t0.934031762454\n",
      "ERP \t1.0\n"
     ]
    }
   ],
   "source": [
    "# Using just correlation coefficient even in prevoius file we show them using data frame\n",
    "for col in feature_cols:\n",
    "    lm = KernelRidge()\n",
    "    lm.fit(data[[col]], data['ERP'])\n",
    "    print col,'\\t', lm.score(data[[col]], data['ERP'])"
   ]
  },
  {
   "cell_type": "code",
   "execution_count": 5,
   "metadata": {
    "collapsed": false
   },
   "outputs": [
    {
     "name": "stdout",
     "output_type": "stream",
     "text": [
      "Feature Name      Score         Pvalue\n",
      "MYCT \t\t18.7784506906 \t2.28953652773e-05\n",
      "MMIN \t\t422.636024187 \t6.7010130085e-52\n",
      "MMAX \t\t895.035239011 \t4.20559221576e-77\n",
      "CACH \t\t150.332889484 \t2.4462451136e-26\n",
      "CHMIN \t\t123.042583867 \t9.66488661491e-23\n",
      "CHMAX \t\t111.779441433 \t3.62169179267e-21\n",
      "PRP \t\t2932.57297327 \t3.42704839853e-124\n",
      "ERP \t\tinf \t0.0\n"
     ]
    }
   ],
   "source": [
    "# Randing the important features to the target\n",
    "model = feature_selection.SelectKBest(score_func=feature_selection.f_regression,k=4)\n",
    "results = model.fit(data[feature_cols], data['ERP'])\n",
    "k=0\n",
    "print 'Feature Name      Score         Pvalue'\n",
    "for feat in feature_cols:\n",
    "    print feat,'\\t\\t',results.scores_[k],'\\t',results.pvalues_[k]\n",
    "    k=k+1\n"
   ]
  },
  {
   "cell_type": "markdown",
   "metadata": {},
   "source": [
    "# Set the parameters for cross validation"
   ]
  },
  {
   "cell_type": "code",
   "execution_count": 6,
   "metadata": {
    "collapsed": true
   },
   "outputs": [],
   "source": [
    "num_folds = 10\n",
    "num_instances = len(X)\n",
    "seed = 7\n",
    "kfold = cross_validation.KFold(n=num_instances, n_folds=num_folds, random_state=seed)"
   ]
  },
  {
   "cell_type": "markdown",
   "metadata": {},
   "source": [
    " # Set the parameters for bias-variance dilemma"
   ]
  },
  {
   "cell_type": "code",
   "execution_count": 7,
   "metadata": {
    "collapsed": false
   },
   "outputs": [],
   "source": [
    "def plot_learning_curve(estimator, title, X, y, ylim=None, cv=None,\n",
    "                        n_jobs=1, train_sizes=np.linspace(.1, 1.0, 5)):\n",
    "    plt.figure()\n",
    "    plt.title(title)\n",
    "    if ylim is not None:\n",
    "        plt.ylim(*ylim)\n",
    "    plt.xlabel(\"Training examples\")\n",
    "    plt.ylabel(\"Score\")\n",
    "    train_sizes, train_scores, test_scores = learning_curve(\n",
    "        estimator, X, y, cv=cv, n_jobs=n_jobs, train_sizes=train_sizes)\n",
    "    train_scores_mean = np.mean(train_scores, axis=1)\n",
    "    train_scores_std = np.std(train_scores, axis=1)\n",
    "    test_scores_mean = np.mean(test_scores, axis=1)\n",
    "    test_scores_std = np.std(test_scores, axis=1)\n",
    "    plt.grid()\n",
    "\n",
    "    plt.fill_between(train_sizes, train_scores_mean - train_scores_std,\n",
    "                     train_scores_mean + train_scores_std, alpha=0.1,\n",
    "                     color=\"r\")\n",
    "    plt.fill_between(train_sizes, test_scores_mean - test_scores_std,\n",
    "                     test_scores_mean + test_scores_std, alpha=0.1, color=\"g\")\n",
    "    plt.plot(train_sizes, train_scores_mean, 'o-', color=\"r\",\n",
    "             label=\"Training score\")\n",
    "    plt.plot(train_sizes, test_scores_mean, 'o-', color=\"g\",\n",
    "             label=\"Cross-validation score\")\n",
    "\n",
    "    plt.legend(loc=\"best\")\n",
    "    return plt"
   ]
  },
  {
   "cell_type": "markdown",
   "metadata": {},
   "source": [
    "# Preprocessing the data and save both the model and preprocessed data"
   ]
  },
  {
   "cell_type": "code",
   "execution_count": 8,
   "metadata": {
    "collapsed": false
   },
   "outputs": [
    {
     "name": "stderr",
     "output_type": "stream",
     "text": [
      "/home/salm/anaconda2/lib/python2.7/site-packages/sklearn/utils/validation.py:420: DataConversionWarning: Data with input dtype int64 was converted to float64 by StandardScaler.\n",
      "  warnings.warn(msg, DataConversionWarning)\n"
     ]
    }
   ],
   "source": [
    "# According to the nature of the data spasity and there is outliter RobustScaler class is recomandit \n",
    "# but when I tried both of them the result seems is same\n",
    "from sklearn.preprocessing import StandardScaler\n",
    "scaler = preprocessing.StandardScaler().fit(X_train)"
   ]
  },
  {
   "cell_type": "code",
   "execution_count": 9,
   "metadata": {
    "collapsed": false
   },
   "outputs": [
    {
     "name": "stderr",
     "output_type": "stream",
     "text": [
      "/home/salm/anaconda2/lib/python2.7/site-packages/sklearn/utils/validation.py:420: DataConversionWarning: Data with input dtype int64 was converted to float64 by StandardScaler.\n",
      "  warnings.warn(msg, DataConversionWarning)\n",
      "/home/salm/anaconda2/lib/python2.7/site-packages/sklearn/utils/validation.py:420: DataConversionWarning: Data with input dtype int64 was converted to float64 by StandardScaler.\n",
      "  warnings.warn(msg, DataConversionWarning)\n"
     ]
    }
   ],
   "source": [
    "X_train = scaler.transform(X_train)\n",
    "X_test = scaler.transform(X_test) # use same transform for testing data\n",
    "X = X_train"
   ]
  },
  {
   "cell_type": "code",
   "execution_count": 10,
   "metadata": {
    "collapsed": true
   },
   "outputs": [],
   "source": [
    "# save transformed data\n",
    "np.save('./data/X_train', X_train)\n",
    "np.save('./data/y_train', y_train)\n",
    "np.save('./data/X_test', X_test)\n",
    "np.save('./data/y_test', y_test)"
   ]
  },
  {
   "cell_type": "code",
   "execution_count": 11,
   "metadata": {
    "collapsed": false
   },
   "outputs": [
    {
     "data": {
      "text/plain": [
       "['scaler.pkl', 'scaler.pkl_01.npy', 'scaler.pkl_02.npy', 'scaler.pkl_03.npy']"
      ]
     },
     "execution_count": 11,
     "metadata": {},
     "output_type": "execute_result"
    }
   ],
   "source": [
    "# save the model scaler to the desk\n",
    "from sklearn.externals import joblib\n",
    "joblib.dump(scaler, 'scaler.pkl') "
   ]
  },
  {
   "cell_type": "code",
   "execution_count": 12,
   "metadata": {
    "collapsed": false
   },
   "outputs": [
    {
     "name": "stdout",
     "output_type": "stream",
     "text": [
      " =================================================================>>>>> done\n",
      "[[-0.59364305 -0.20866821 -0.31349377  0.98611582 -0.51650809 -0.39068313\n",
      "  -0.09019932]\n",
      " [ 0.43869005 -0.4699337  -0.72397006 -0.63206819 -0.38024134 -0.53321526\n",
      "  -0.54180082]\n",
      " [-0.6318776  -0.04668361 -0.10989753  0.11478597  0.98242613  0.17944539\n",
      "  -0.26252094]\n",
      " [-0.72364055  1.35892472  1.65679241  0.96122068  0.43735914  0.46450965\n",
      "   1.25272091]\n",
      " [-0.55540849  0.31386277  0.01488726 -0.43290708  0.16482565 -0.39068313\n",
      "  -0.19121544]\n",
      " [ 0.43869005 -0.4699337  -0.80606531 -0.63206819 -0.51650809 -0.60448133\n",
      "  -0.54180082]\n",
      " [-0.13482833 -0.20866821  0.34326829 -0.23374597 -0.51650809 -0.4619492\n",
      "  -0.24469457]\n",
      " [ 4.91213348 -0.53054729 -0.88816057 -0.63206819 -0.65277484 -0.67574739\n",
      "  -0.56556931]\n",
      " [-0.28776657 -0.20866821  1.65679241  0.16457625 -0.51650809  1.24843637\n",
      "   0.2009648 ]\n",
      " [-0.63952452  0.31386277  1.00003035  0.16457625  0.43735914  0.17944539\n",
      "   0.63473992]\n",
      " [-0.31453076 -0.4699337  -0.31349377 -0.40801194 -0.2439746  -0.248151\n",
      "  -0.20904182]\n",
      " [-0.70834672  3.44904862  1.65679241  5.74108728  1.52749312  0.17944539\n",
      "   2.39360889]\n",
      " [-0.28776657 -0.4699337   0.34326829 -0.23374597 -0.51650809 -0.56884829\n",
      "   0.18313842]\n",
      " [-0.5974665   1.35892472  0.34326829  0.96122068  0.98242613  0.17944539\n",
      "   0.48024467]\n",
      " [-0.72364055  3.44904862  1.65679241  0.96122068  0.43735914  0.17944539\n",
      "   2.12621327]\n",
      " [-0.28776657 -0.20866821 -0.6418748  -0.63206819 -0.10770785 -0.39068313\n",
      "  -0.39918982]\n",
      " [-0.44835172 -0.4699337  -0.31349377  0.16457625 -0.38024134 -0.39068313\n",
      "  -0.36353707]\n",
      " [-0.6318776  -0.4699337  -0.6418748  -0.43290708 -0.51650809 -0.49758223\n",
      "  -0.46455319]\n",
      " [-0.47893937 -0.66431522 -0.88816057 -0.63206819 -0.2439746  -0.31941706\n",
      "  -0.53585869]\n",
      " [-0.2762962  -0.4699337  -0.80606531 -0.63206819  0.0285589  -0.10561887\n",
      "  -0.45266894]\n",
      " [-0.05835922 -0.4699337  -0.80606531 -0.63206819 -0.51650809 -0.60448133\n",
      "  -0.48832169]\n",
      " [-0.05835922 -0.59743125  0.34326829 -0.63206819 -0.10770785  0.46450965\n",
      "  -0.42890044]\n",
      " [-0.73511091  3.44904862  1.65679241  0.96122068  1.52749312  0.46450965\n",
      "   2.26882427]\n",
      " [-0.40247025 -0.4699337   0.01488726 -0.23374597 -0.51650809 -0.60448133\n",
      "  -0.28034732]\n",
      " [-0.28776657 -0.20866821 -0.6418748  -0.43290708 -0.51650809  0.03691326\n",
      "  -0.50614807]\n",
      " [-0.6318776  -0.20866821  0.34326829 -0.33332653 -0.2439746  -0.10561887\n",
      "  -0.36947919]\n",
      " [-0.6318776  -0.20866821 -0.6418748  -0.63206819 -0.2439746  -0.4619492\n",
      "  -0.47643744]\n",
      " [ 2.23571434 -0.53054729 -0.80606531 -0.63206819 -0.65277484 -0.67574739\n",
      "  -0.51803232]\n",
      " [-0.5018801  -0.4699337  -0.80606531 -0.63206819 -0.51650809 -0.4619492\n",
      "  -0.56556931]\n",
      " [-0.42158753 -0.20866821 -0.47768428 -0.23374597  0.16482565 -0.10561887\n",
      "  -0.44078469]\n",
      " [ 0.32398638 -0.53054729  0.01488726 -0.48269736  0.16482565  0.17944539\n",
      "  -0.33976857]\n",
      " [-0.54776157 -0.20866821 -0.31349377 -0.23374597  0.16482565 -0.39068313\n",
      "  -0.0129517 ]\n",
      " [-0.38335297 -0.20866821 -0.31349377 -0.23374597 -0.51650809 -0.56884829\n",
      "  -0.33976857]\n",
      " [-0.53629121  0.05259728 -0.31349377 -0.43290708 -0.2439746   1.03463817\n",
      "  -0.25657882]\n",
      " [-0.62423069  0.31386277  0.34326829  0.16457625 -0.10770785 -0.248151\n",
      "   0.13560143]\n",
      " [-0.59364305 -0.20866821  0.34326829  0.96122068  0.0285589  -0.39068313\n",
      "  -0.19715757]\n",
      " [-0.21129745 -0.59743125 -0.6418748  -0.58227791 -0.51650809 -0.49758223\n",
      "  -0.45861107]\n",
      " [-0.727464   -0.20866821  0.01488726 -0.43290708 -0.51650809 -0.53321526\n",
      "  -0.34571069]\n",
      " [-0.18453326 -0.59429607 -0.80606531 -0.43290708 -0.10770785 -0.1412519\n",
      "  -0.52397444]\n",
      " [-0.6318776  -0.20866821  0.34326829 -0.03458486  0.16482565 -0.10561887\n",
      "  -0.31600007]\n",
      " [-0.72364055  1.35892472  1.00003035  0.16457625  0.43735914 -0.10561887\n",
      "   0.3911128 ]\n",
      " [-0.2762962  -0.13028856 -0.46126523 -0.63206819  0.16482565  1.6047667\n",
      "  -0.27440519]]\n"
     ]
    },
    {
     "name": "stderr",
     "output_type": "stream",
     "text": [
      "/home/salm/anaconda2/lib/python2.7/site-packages/sklearn/utils/validation.py:420: DataConversionWarning: Data with input dtype int64 was converted to float64 by StandardScaler.\n",
      "  warnings.warn(msg, DataConversionWarning)\n"
     ]
    }
   ],
   "source": [
    "# Test the model if it is work\n",
    "scalerTest = joblib.load('scaler.pkl')\n",
    "new_data_scaled = scalerTest.transform(new_test_data)\n",
    "print \" =================================================================>>>>> done\"\n",
    "print new_data_scaled"
   ]
  },
  {
   "cell_type": "markdown",
   "metadata": {},
   "source": [
    "# 1. KernelRidge Regression"
   ]
  },
  {
   "cell_type": "markdown",
   "metadata": {},
   "source": [
    "Kernel KernelRidge regression (KRR) combines KernelRidge regression (linear least squares with l2-norm regularization) with the kernel trick. It thus learns a linear function in the space induced by the respective kernel and the data. For non-linear kernels, this corresponds to a non-linear function in the original space.\n"
   ]
  },
  {
   "cell_type": "markdown",
   "metadata": {},
   "source": [
    "## Validation curve"
   ]
  },
  {
   "cell_type": "markdown",
   "metadata": {},
   "source": [
    "choosing multiple hyperparameters of an estimator "
   ]
  },
  {
   "cell_type": "code",
   "execution_count": 13,
   "metadata": {
    "collapsed": false
   },
   "outputs": [
    {
     "data": {
      "text/plain": [
       "['kernel', 'degree', 'kernel_params', 'alpha', 'coef0', 'gamma']"
      ]
     },
     "execution_count": 13,
     "metadata": {},
     "output_type": "execute_result"
    }
   ],
   "source": [
    "from sklearn.kernel_ridge import KernelRidge\n",
    "estimator = KernelRidge()\n",
    "estimator.get_params().keys()"
   ]
  },
  {
   "cell_type": "code",
   "execution_count": 14,
   "metadata": {
    "collapsed": false
   },
   "outputs": [
    {
     "data": {
      "image/png": "[encoded data removed]",
      "text/plain": [
       "<matplotlib.figure.Figure at 0x7f3ebd0d7810>"
      ]
     },
     "metadata": {},
     "output_type": "display_data"
    }
   ],
   "source": [
    "# For parametr gamma\n",
    "#param_range = np.logspace(-10.0, 10.0)\n",
    "#param_range = np.logspace(-20, 2, 50)\n",
    "param_range = np.linspace(0.00000000001,0.5,10)\n",
    "\n",
    "train_scores, test_scores = validation_curve(\n",
    "    KernelRidge(kernel='rbf'), X, Y, param_name=\"gamma\", param_range=param_range,\n",
    "    cv=num_folds,  n_jobs=-1)\n",
    "train_scores_mean = np.mean(train_scores, axis=1)\n",
    "train_scores_std = np.std(train_scores, axis=1)\n",
    "test_scores_mean = np.mean(test_scores, axis=1)\n",
    "test_scores_std = np.std(test_scores, axis=1)\n",
    "\n",
    "plt.title(\"Validation Curve with KernelRidge\")\n",
    "plt.xlabel(\"gamma\")\n",
    "plt.ylabel(\"Score\")\n",
    "plt.ylim(0, 1.0)\n",
    "plt.plot(param_range, train_scores_mean, label=\"Training score\", color=\"r\")\n",
    "plt.fill_between(param_range, train_scores_mean - train_scores_std,\n",
    "                 train_scores_mean + train_scores_std, alpha=0.2, color=\"r\")\n",
    "plt.plot(param_range, test_scores_mean, label=\"Cross-validation score\",\n",
    "             color=\"g\")\n",
    "plt.fill_between(param_range, test_scores_mean - test_scores_std,\n",
    "                 test_scores_mean + test_scores_std, alpha=0.2, color=\"g\")\n",
    "plt.legend(loc=\"best\")\n",
    "plt.show()"
   ]
  },
  {
   "cell_type": "markdown",
   "metadata": {},
   "source": [
    "It looks gamma between 0 and 0.1 works well"
   ]
  },
  {
   "cell_type": "code",
   "execution_count": 15,
   "metadata": {
    "collapsed": false
   },
   "outputs": [
    {
     "data": {
      "image/png": "[encoded data removed]",
      "text/plain": [
       "<matplotlib.figure.Figure at 0x7f3ebd0d7390>"
      ]
     },
     "metadata": {},
     "output_type": "display_data"
    }
   ],
   "source": [
    "# For parametr alpha\n",
    "#param_range = np.logspace(-10.0, 10.0)\n",
    "#param_range = np.logspace(-20, 2, 50)\n",
    "param_range = np.linspace(0,0.2,100)\n",
    "\n",
    "train_scores, test_scores = validation_curve(\n",
    "    KernelRidge(kernel='rbf'), X, Y, param_name=\"alpha\", param_range=param_range,\n",
    "    cv=num_folds,  n_jobs=-1)\n",
    "train_scores_mean = np.mean(train_scores, axis=1)\n",
    "train_scores_std = np.std(train_scores, axis=1)\n",
    "test_scores_mean = np.mean(test_scores, axis=1)\n",
    "test_scores_std = np.std(test_scores, axis=1)\n",
    "\n",
    "plt.title(\"Validation Curve with KernelRidge\")\n",
    "plt.xlabel(\"alpha\")\n",
    "plt.ylabel(\"Score\")\n",
    "plt.ylim(0.2, 1.0)\n",
    "plt.plot(param_range, train_scores_mean, label=\"Training score\", color=\"r\")\n",
    "plt.fill_between(param_range, train_scores_mean - train_scores_std,\n",
    "                 train_scores_mean + train_scores_std, alpha=0.2, color=\"r\")\n",
    "plt.plot(param_range, test_scores_mean, label=\"Cross-validation score\",\n",
    "             color=\"g\")\n",
    "plt.fill_between(param_range, test_scores_mean - test_scores_std,\n",
    "                 test_scores_mean + test_scores_std, alpha=0.2, color=\"g\")\n",
    "plt.legend(loc=\"best\")\n",
    "plt.show()"
   ]
  },
  {
   "cell_type": "markdown",
   "metadata": {},
   "source": [
    "It looks very small alpha works fine"
   ]
  },
  {
   "cell_type": "markdown",
   "metadata": {},
   "source": [
    "## Grid search and/or Random search to determine best compination of parameters"
   ]
  },
  {
   "cell_type": "code",
   "execution_count": 16,
   "metadata": {
    "collapsed": false
   },
   "outputs": [
    {
     "name": "stdout",
     "output_type": "stream",
     "text": [
      "Hyperparameter optimization using GridSearchCV...\n",
      "Parameters with rank: 1\n",
      "Mean validation score: 0.9778 (std: 0.0498)\n",
      "Parameters: {'alpha': 0.010526315789483159, 'gamma': 0.01052631579894737}\n",
      "\n",
      "Parameters with rank: 2\n",
      "Mean validation score: 0.9747 (std: 0.0544)\n",
      "Parameters: {'alpha': 0.021052631578956316, 'gamma': 0.01052631579894737}\n",
      "\n",
      "Parameters with rank: 3\n",
      "Mean validation score: 0.9722 (std: 0.0577)\n",
      "Parameters: {'alpha': 0.031578947368429471, 'gamma': 0.01052631579894737}\n",
      "\n",
      "Parameters with rank: 4\n",
      "Mean validation score: 0.9701 (std: 0.0603)\n",
      "Parameters: {'alpha': 0.042105263157902632, 'gamma': 0.01052631579894737}\n",
      "\n",
      "Parameters with rank: 5\n",
      "Mean validation score: 0.9681 (std: 0.0626)\n",
      "Parameters: {'alpha': 0.052631578947375794, 'gamma': 0.01052631579894737}\n",
      "\n",
      "+++++++++++++++++++++++++++++++++++++++++++++++\n",
      "Hyperparameter optimization using RandomizedSearchCV\n",
      "Parameters with rank: 1\n",
      "Mean validation score: 0.9866 (std: 0.0090)\n",
      "Parameters: {'alpha': 1e-06, 'gamma': 3e-05}\n",
      "\n",
      "Parameters with rank: 2\n",
      "Mean validation score: 0.8699 (std: 0.1181)\n",
      "Parameters: {'alpha': 1e-06, 'gamma': 2e-07}\n",
      "\n",
      "Parameters with rank: 3\n",
      "Mean validation score: 0.4047 (std: 0.1124)\n",
      "Parameters: {'alpha': 0.1, 'gamma': 3e-05}\n",
      "\n",
      "Parameters with rank: 4\n",
      "Mean validation score: 0.0975 (std: 0.1877)\n",
      "Parameters: {'alpha': 1e-06, 'gamma': 1e-10}\n",
      "\n",
      "Parameters with rank: 5\n",
      "Mean validation score: -0.1623 (std: 0.2892)\n",
      "Parameters: {'alpha': 0.1, 'gamma': 1e-10}\n",
      "\n"
     ]
    }
   ],
   "source": [
    "# Utility function to report optimal parameters\n",
    "from operator import itemgetter\n",
    "def report(grid_scores, n_top=5):\n",
    "    params = None\n",
    "    top_scores = sorted(grid_scores, key=itemgetter(1), reverse=True)[:n_top]\n",
    "    for i, score in enumerate(top_scores):\n",
    "        print(\"Parameters with rank: {0}\".format(i + 1))\n",
    "        print(\"Mean validation score: {0:.4f} (std: {1:.4f})\".format(\n",
    "              score.mean_validation_score, np.std(score.cv_validation_scores)))\n",
    "        print(\"Parameters: {0}\".format(score.parameters))\n",
    "        print(\"\")\n",
    "        \n",
    "        if params == None:\n",
    "            params = score.parameters\n",
    "    \n",
    "    return params\n",
    "\n",
    "# The most common value for the max number of features to look at in each split is sqrt(# of features)\n",
    "sqrtfeat = np.sqrt(X.shape[1]) \n",
    "# Simple grid test (162 combinations)\n",
    "grid_test1 = { \"gamma\"      : np.linspace(0.00000000001,0.2,20),\n",
    "               \"alpha\"         :  np.linspace(0.00000000000001,0.2,20) }\n",
    "\n",
    "# Large randomized test using max_depth to control tree size (5000 possible combinations)\n",
    "random_test1 = { \"gamma\"          : [0.0000000001, 0.0000002, 0.00003],\n",
    "                 \"alpha\"         : [0.000001, 0.1] }\n",
    "\n",
    "\n",
    "forest = KernelRidge(kernel='rbf')\n",
    "\n",
    "print \"Hyperparameter optimization using GridSearchCV...\"\n",
    "grid_search = GridSearchCV(forest, grid_test1, n_jobs=-1, cv=num_folds)\n",
    "grid_search.fit(X, Y)\n",
    "best_params_from_grid_search = report(grid_search.grid_scores_)\n",
    "print '+++++++++++++++++++++++++++++++++++++++++++++++'\n",
    "print \"Hyperparameter optimization using RandomizedSearchCV\"\n",
    "grid_search = RandomizedSearchCV(forest, random_test1, n_jobs=-1, cv=num_folds, n_iter=5)\n",
    "grid_search.fit(X, Y)\n",
    "best_params_from_rand_search1 = report(grid_search.grid_scores_)"
   ]
  },
  {
   "cell_type": "markdown",
   "metadata": {},
   "source": [
    "## Learning Curve "
   ]
  },
  {
   "cell_type": "markdown",
   "metadata": {},
   "source": [
    "In essence, what we’re doing it training the exact same model with increasingly large fractions of our total training data, and plotting the error of the training and test sets at each step."
   ]
  },
  {
   "cell_type": "code",
   "execution_count": 17,
   "metadata": {
    "collapsed": false
   },
   "outputs": [
    {
     "data": {
      "image/png": "[encoded data removed]",
      "text/plain": [
       "<matplotlib.figure.Figure at 0x7f3e7aeb2090>"
      ]
     },
     "metadata": {},
     "output_type": "display_data"
    }
   ],
   "source": [
    "from sklearn.kernel_ridge import KernelRidge\n",
    "# 'alpha': 10.0, 'solver': 'lsqr'\n",
    "model = KernelRidge(kernel='rbf', gamma=0.052, alpha =  0.0216)\n",
    "title = \"Learning Curves (KernelRidge Refression)\"\n",
    "cv = cross_validation.ShuffleSplit(X.shape[0], n_iter=100,\n",
    "                                   test_size=0.2, random_state=0)\n",
    "plot_learning_curve(model, title, X, Y, ylim=(0.2, 1.01), cv=cv, n_jobs=-1)\n",
    "plt.show()"
   ]
  },
  {
   "cell_type": "code",
   "execution_count": 18,
   "metadata": {
    "collapsed": false
   },
   "outputs": [
    {
     "name": "stdout",
     "output_type": "stream",
     "text": [
      "train_sizes =  [ 50  80 110]\n",
      " training scores\n",
      " 50 training sizees\n",
      "0.998939400012 ± 0.000726182171479\n",
      " 80 training sizees\n",
      "0.999240740322 ± 0.000317413082535\n",
      " 110 training sizees\n",
      "0.999338657124 ± 0.000164864277494\n",
      "\n",
      " validation scores\n",
      " 50 validation scores\n",
      "0.607130117031 ± 0.364968142026\n",
      " 80 validation scores\n",
      "0.720981491029 ± 0.337867020724\n",
      " 110 validation scores\n",
      "0.800548897005 ± 0.297373838967\n"
     ]
    }
   ],
   "source": [
    "# More data from learning curve to show the process of building the model\n",
    "train_sizes, train_scores, valid_scores = learning_curve(\n",
    "     model, X, Y, train_sizes=[50, 80, 110], cv=cv, n_jobs=4)\n",
    "\n",
    "print 'train_sizes = ', train_sizes\n",
    "\n",
    "print ' training scores'\n",
    "print ' 50 training sizees'\n",
    "print train_scores[0].mean(),'±',train_scores[0].std()\n",
    "print ' 80 training sizees'\n",
    "print train_scores[1].mean(),'±',train_scores[1].std()\n",
    "print ' 110 training sizees'\n",
    "print train_scores[2].mean(),'±',train_scores[2].std()\n",
    "\n",
    "print '\\n validation scores'\n",
    "print ' 50 validation scores'\n",
    "print valid_scores[0].mean(),'±',valid_scores[0].std()\n",
    "print ' 80 validation scores'\n",
    "print valid_scores[1].mean(),'±',valid_scores[1].std()\n",
    "print ' 110 validation scores'\n",
    "print valid_scores[2].mean(),'±',valid_scores[2].std()"
   ]
  },
  {
   "cell_type": "markdown",
   "metadata": {},
   "source": [
    "## Cross validation"
   ]
  },
  {
   "cell_type": "code",
   "execution_count": 19,
   "metadata": {
    "collapsed": false
   },
   "outputs": [
    {
     "name": "stdout",
     "output_type": "stream",
     "text": [
      "Scoring according to mean_squared_error\n",
      "[ -3.94184028e+03  -5.26558469e+02  -3.74166383e+00  -3.24795381e+01\n",
      "  -3.16360102e+03  -7.83626053e+01  -1.62425654e+01  -1.48622072e+01\n",
      "  -1.09273731e+02  -7.38003615e+04]\n",
      "\n",
      " Mean      Standard deviation\n",
      "-8168.73      21920.44\n"
     ]
    },
    {
     "data": {
      "text/plain": [
       "KernelRidge(alpha=0.0216, coef0=1, degree=3, gamma=0.052, kernel='rbf',\n",
       "      kernel_params=None)"
      ]
     },
     "execution_count": 19,
     "metadata": {},
     "output_type": "execute_result"
    }
   ],
   "source": [
    "scoring = 'mean_squared_error'\n",
    "results = cross_validation.cross_val_score(model, X, Y, cv=kfold, scoring=scoring)\n",
    "print 'Scoring according to mean_squared_error'\n",
    "print results\n",
    "print '\\n Mean      Standard deviation'\n",
    "print(\"%.2f      %.2f\" % (results.mean(), results.std()))\n",
    "## Fit the model\n",
    "model.fit(X,Y)\n"
   ]
  },
  {
   "cell_type": "markdown",
   "metadata": {},
   "source": [
    "To be more precise these valrible is not the input feature as descripe on the dataset, those varibles in scaled virsion on the orginal onces. So, to be more correct I should assign to them another varibles but for easy to unserstand I kept them as they were."
   ]
  },
  {
   "cell_type": "markdown",
   "metadata": {},
   "source": [
    "## Coefficients Of Determination {Calculating R^2}\n",
    "\n",
    "R^2, Close to one is better"
   ]
  },
  {
   "cell_type": "code",
   "execution_count": 20,
   "metadata": {
    "collapsed": false
   },
   "outputs": [
    {
     "name": "stdout",
     "output_type": "stream",
     "text": [
      "R-squared =  0.702404112008\n"
     ]
    }
   ],
   "source": [
    "predicted = cross_val_predict(model, X, Y, cv=kfold)\n",
    "r_squared = r2_score(Y, predicted, multioutput='variance_weighted')\n",
    "print 'R-squared = ',r_squared"
   ]
  },
  {
   "cell_type": "markdown",
   "metadata": {},
   "source": [
    "## Residual Plot"
   ]
  },
  {
   "cell_type": "code",
   "execution_count": 21,
   "metadata": {
    "collapsed": false
   },
   "outputs": [
    {
     "data": {
      "image/png": "[encoded data removed]",
      "text/plain": [
       "<matplotlib.figure.Figure at 0x7f3e7ae8b710>"
      ]
     },
     "metadata": {},
     "output_type": "display_data"
    }
   ],
   "source": [
    "predicted = cross_val_predict(model, X, Y, cv=kfold)\n",
    "fig, ax = plt.subplots()\n",
    "ax.scatter(Y, predicted)\n",
    "ax.plot([Y.min(), Y.max()], [Y.min(), Y.max()], 'k--', lw=4)\n",
    "ax.set_xlabel('Measured')\n",
    "ax.set_ylabel('Predicted')\n",
    "plt.show()"
   ]
  },
  {
   "cell_type": "code",
   "execution_count": 22,
   "metadata": {
    "collapsed": false
   },
   "outputs": [
    {
     "data": {
      "text/html": [
       "\n",
       "\n",
       "    <div class=\"bk-root\">\n",
       "        <div class=\"plotdiv\" id=\"6a801e0a-0ac8-4b67-960d-c8441edf1ee8\"></div>\n",
       "    </div>\n",
       "<script type=\"text/javascript\">\n",
       "  \n",
       "  (function(global) {\n",
       "    function now() {\n",
       "      return new Date();\n",
       "    }\n",
       "  \n",
       "    var force = \"\";\n",
       "  \n",
       "    if (typeof (window._bokeh_onload_callbacks) === \"undefined\" || force !== \"\") {\n",
       "      window._bokeh_onload_callbacks = [];\n",
       "      window._bokeh_is_loading = undefined;\n",
       "    }\n",
       "  \n",
       "  \n",
       "    \n",
       "    if (typeof (window._bokeh_timeout) === \"undefined\" || force !== \"\") {\n",
       "      window._bokeh_timeout = Date.now() + 0;\n",
       "      window._bokeh_failed_load = false;\n",
       "    }\n",
       "  \n",
       "    var NB_LOAD_WARNING = {'data': {'text/html':\n",
       "       \"<div style='background-color: #fdd'>\\n\"+\n",
       "       \"<p>\\n\"+\n",
       "       \"BokehJS does not appear to have successfully loaded. If loading BokehJS from CDN, this \\n\"+\n",
       "       \"may be due to a slow or bad network connection. Possible fixes:\\n\"+\n",
       "       \"</p>\\n\"+\n",
       "       \"<ul>\\n\"+\n",
       "       \"<li>re-rerun `output_notebook()` to attempt to load from CDN again, or</li>\\n\"+\n",
       "       \"<li>use INLINE resources instead, as so:</li>\\n\"+\n",
       "       \"</ul>\\n\"+\n",
       "       \"<code>\\n\"+\n",
       "       \"from bokeh.resources import INLINE\\n\"+\n",
       "       \"output_notebook(resources=INLINE)\\n\"+\n",
       "       \"</code>\\n\"+\n",
       "       \"</div>\"}};\n",
       "  \n",
       "    function display_loaded() {\n",
       "      if (window.Bokeh !== undefined) {\n",
       "        Bokeh.$(\"#6a801e0a-0ac8-4b67-960d-c8441edf1ee8\").text(\"BokehJS successfully loaded.\");\n",
       "      } else if (Date.now() < window._bokeh_timeout) {\n",
       "        setTimeout(display_loaded, 100)\n",
       "      }\n",
       "    }\n",
       "  \n",
       "    function run_callbacks() {\n",
       "      window._bokeh_onload_callbacks.forEach(function(callback) { callback() });\n",
       "      delete window._bokeh_onload_callbacks\n",
       "      console.info(\"Bokeh: all callbacks have finished\");\n",
       "    }\n",
       "  \n",
       "    function load_libs(js_urls, callback) {\n",
       "      window._bokeh_onload_callbacks.push(callback);\n",
       "      if (window._bokeh_is_loading > 0) {\n",
       "        console.log(\"Bokeh: BokehJS is being loaded, scheduling callback at\", now());\n",
       "        return null;\n",
       "      }\n",
       "      if (js_urls == null || js_urls.length === 0) {\n",
       "        run_callbacks();\n",
       "        return null;\n",
       "      }\n",
       "      console.log(\"Bokeh: BokehJS not loaded, scheduling load and callback at\", now());\n",
       "      window._bokeh_is_loading = js_urls.length;\n",
       "      for (var i = 0; i < js_urls.length; i++) {\n",
       "        var url = js_urls[i];\n",
       "        var s = document.createElement('script');\n",
       "        s.src = url;\n",
       "        s.async = false;\n",
       "        s.onreadystatechange = s.onload = function() {\n",
       "          window._bokeh_is_loading--;\n",
       "          if (window._bokeh_is_loading === 0) {\n",
       "            console.log(\"Bokeh: all BokehJS libraries loaded\");\n",
       "            run_callbacks()\n",
       "          }\n",
       "        };\n",
       "        s.onerror = function() {\n",
       "          console.warn(\"failed to load library \" + url);\n",
       "        };\n",
       "        console.log(\"Bokeh: injecting script tag for BokehJS library: \", url);\n",
       "        document.getElementsByTagName(\"head\")[0].appendChild(s);\n",
       "      }\n",
       "    };var element = document.getElementById(\"6a801e0a-0ac8-4b67-960d-c8441edf1ee8\");\n",
       "    if (element == null) {\n",
       "      console.log(\"Bokeh: ERROR: autoload.js configured with elementid '6a801e0a-0ac8-4b67-960d-c8441edf1ee8' but no matching script tag was found. \")\n",
       "      return false;\n",
       "    }\n",
       "  \n",
       "    var js_urls = [];\n",
       "  \n",
       "    var inline_js = [\n",
       "      function(Bokeh) {\n",
       "        Bokeh.$(function() {\n",
       "            var docs_json = {\"ff0228e4-2bef-4d02-8ee4-971f526d7358\":{\"roots\":{\"references\":[{\"attributes\":{\"callback\":null,\"column_names\":[\"y\",\"x\"],\"data\":{\"x\":[15,1238],\"y\":[15,1238]}},\"id\":\"ec82d520-d6eb-418d-a5e5-12ae24e3da04\",\"type\":\"ColumnDataSource\"},{\"attributes\":{\"plot\":{\"id\":\"85ecaee7-95df-4ca9-919b-4fb573530428\",\"subtype\":\"Figure\",\"type\":\"Plot\"}},\"id\":\"37ed140c-498b-40dc-9e24-96a10e3f85d4\",\"type\":\"UndoTool\"},{\"attributes\":{\"plot\":{\"id\":\"85ecaee7-95df-4ca9-919b-4fb573530428\",\"subtype\":\"Figure\",\"type\":\"Plot\"}},\"id\":\"adb5f829-e56d-4fe7-9311-c7f81c16ad82\",\"type\":\"PanTool\"},{\"attributes\":{\"plot\":{\"id\":\"85ecaee7-95df-4ca9-919b-4fb573530428\",\"subtype\":\"Figure\",\"type\":\"Plot\"}},\"id\":\"a9bb136b-bf66-40bf-91ae-f59af402b50e\",\"type\":\"WheelZoomTool\"},{\"attributes\":{\"axis_label\":\"Predicted\",\"axis_label_text_color\":{\"value\":\"#aa6666\"},\"formatter\":{\"id\":\"63cb878d-65b8-4653-a7e3-1c0658e3e27e\",\"type\":\"BasicTickFormatter\"},\"plot\":{\"id\":\"85ecaee7-95df-4ca9-919b-4fb573530428\",\"subtype\":\"Figure\",\"type\":\"Plot\"},\"ticker\":{\"id\":\"beb0542f-644e-40d1-abff-04f5a574e9ee\",\"type\":\"BasicTicker\"}},\"id\":\"8d4f47d5-e11a-4ada-bf97-89273ddfdc3d\",\"type\":\"LinearAxis\"},{\"attributes\":{\"callback\":null,\"overlay\":{\"id\":\"ca7ad75c-881d-489b-869e-fad49303b2de\",\"type\":\"BoxAnnotation\"},\"plot\":{\"id\":\"85ecaee7-95df-4ca9-919b-4fb573530428\",\"subtype\":\"Figure\",\"type\":\"Plot\"},\"renderers\":[{\"id\":\"1d0991fa-519c-41cb-bf75-90efb6b4bd43\",\"type\":\"GlyphRenderer\"},{\"id\":\"f0d40571-f332-44e4-ab52-a3485dd7c31a\",\"type\":\"GlyphRenderer\"}]},\"id\":\"daa79800-043c-49c1-a239-ac95c75da729\",\"type\":\"BoxSelectTool\"},{\"attributes\":{\"plot\":{\"id\":\"85ecaee7-95df-4ca9-919b-4fb573530428\",\"subtype\":\"Figure\",\"type\":\"Plot\"}},\"id\":\"6625e0e3-3306-4b7e-bf99-934c5d83f187\",\"type\":\"SaveTool\"},{\"attributes\":{},\"id\":\"63cb878d-65b8-4653-a7e3-1c0658e3e27e\",\"type\":\"BasicTickFormatter\"},{\"attributes\":{\"line_dash\":[4,4],\"line_width\":{\"value\":2},\"x\":{\"field\":\"x\"},\"y\":{\"field\":\"y\"}},\"id\":\"c9adf44e-2a74-4dbd-b76e-2f04ac602f2b\",\"type\":\"Line\"},{\"attributes\":{\"data_source\":{\"id\":\"f60d6a64-693b-4b78-8549-03d387de05db\",\"type\":\"ColumnDataSource\"},\"glyph\":{\"id\":\"7e66990a-675a-4db1-944a-9ac2d3cb8398\",\"type\":\"Circle\"},\"hover_glyph\":null,\"nonselection_glyph\":{\"id\":\"f993b943-15cd-4575-9a1b-6455d785086a\",\"type\":\"Circle\"},\"selection_glyph\":null},\"id\":\"1d0991fa-519c-41cb-bf75-90efb6b4bd43\",\"type\":\"GlyphRenderer\"},{\"attributes\":{\"bottom_units\":\"screen\",\"fill_alpha\":{\"value\":0.5},\"fill_color\":{\"value\":\"lightgrey\"},\"left_units\":\"screen\",\"level\":\"overlay\",\"line_alpha\":{\"value\":1.0},\"line_color\":{\"value\":\"black\"},\"line_dash\":[4,4],\"line_width\":{\"value\":2},\"plot\":null,\"render_mode\":\"css\",\"right_units\":\"screen\",\"top_units\":\"screen\"},\"id\":\"fe4b12d4-88fe-44df-a367-a7b045c99126\",\"type\":\"BoxAnnotation\"},{\"attributes\":{\"plot\":{\"id\":\"85ecaee7-95df-4ca9-919b-4fb573530428\",\"subtype\":\"Figure\",\"type\":\"Plot\"}},\"id\":\"86e51d01-3bbc-41bf-a51d-eed921064ebd\",\"type\":\"CrosshairTool\"},{\"attributes\":{},\"id\":\"beb0542f-644e-40d1-abff-04f5a574e9ee\",\"type\":\"BasicTicker\"},{\"attributes\":{\"callback\":null},\"id\":\"f7621c4e-4764-417e-b0d2-7fde0b4144e2\",\"type\":\"DataRange1d\"},{\"attributes\":{\"overlay\":{\"id\":\"0f4b821a-90f0-49c9-a7f0-ae0ed5a352d3\",\"type\":\"PolyAnnotation\"},\"plot\":{\"id\":\"85ecaee7-95df-4ca9-919b-4fb573530428\",\"subtype\":\"Figure\",\"type\":\"Plot\"}},\"id\":\"6e12a777-7aa4-4661-ba58-c56a7ae93b97\",\"type\":\"PolySelectTool\"},{\"attributes\":{},\"id\":\"f01cffea-9731-4ca7-ab46-2880f0e33421\",\"type\":\"ToolEvents\"},{\"attributes\":{\"active_drag\":\"auto\",\"active_scroll\":\"auto\",\"active_tap\":\"auto\",\"tools\":[{\"id\":\"c80782d1-df9f-4755-b015-93100a3ead9f\",\"type\":\"BoxZoomTool\"},{\"id\":\"daa79800-043c-49c1-a239-ac95c75da729\",\"type\":\"BoxSelectTool\"},{\"id\":\"86e51d01-3bbc-41bf-a51d-eed921064ebd\",\"type\":\"CrosshairTool\"},{\"id\":\"aba69bdc-398c-435a-8bba-030586774e3c\",\"type\":\"ResizeTool\"},{\"id\":\"4c405467-8d16-4e32-85e1-0ae3d5e47d24\",\"type\":\"ResetTool\"},{\"id\":\"e95baf7c-8ce8-406d-8fae-6ba2102df653\",\"type\":\"LassoSelectTool\"},{\"id\":\"adb5f829-e56d-4fe7-9311-c7f81c16ad82\",\"type\":\"PanTool\"},{\"id\":\"6625e0e3-3306-4b7e-bf99-934c5d83f187\",\"type\":\"SaveTool\"},{\"id\":\"6e12a777-7aa4-4661-ba58-c56a7ae93b97\",\"type\":\"PolySelectTool\"},{\"id\":\"b72a8c5c-fd87-47f0-b646-0af118621c7e\",\"type\":\"TapTool\"},{\"id\":\"a9bb136b-bf66-40bf-91ae-f59af402b50e\",\"type\":\"WheelZoomTool\"},{\"id\":\"37ed140c-498b-40dc-9e24-96a10e3f85d4\",\"type\":\"UndoTool\"}]},\"id\":\"f594236b-cea5-469a-ad9f-6401ef8b6de7\",\"type\":\"Toolbar\"},{\"attributes\":{\"bottom_units\":\"screen\",\"fill_alpha\":{\"value\":0.5},\"fill_color\":{\"value\":\"lightgrey\"},\"left_units\":\"screen\",\"level\":\"overlay\",\"line_alpha\":{\"value\":1.0},\"line_color\":{\"value\":\"black\"},\"line_dash\":[4,4],\"line_width\":{\"value\":2},\"plot\":null,\"render_mode\":\"css\",\"right_units\":\"screen\",\"top_units\":\"screen\"},\"id\":\"ca7ad75c-881d-489b-869e-fad49303b2de\",\"type\":\"BoxAnnotation\"},{\"attributes\":{\"fill_alpha\":{\"value\":0.5},\"fill_color\":{\"value\":\"lightgrey\"},\"level\":\"overlay\",\"line_alpha\":{\"value\":1.0},\"line_color\":{\"value\":\"black\"},\"line_dash\":[4,4],\"line_width\":{\"value\":2},\"plot\":null,\"xs_units\":\"screen\",\"ys_units\":\"screen\"},\"id\":\"a5bde198-8138-43b1-a587-fe16a06910b3\",\"type\":\"PolyAnnotation\"},{\"attributes\":{},\"id\":\"72cf8807-1901-46a1-944d-3843438114ba\",\"type\":\"BasicTickFormatter\"},{\"attributes\":{\"background_fill_alpha\":{\"value\":0.5},\"background_fill_color\":{\"value\":\"beige\"},\"below\":[{\"id\":\"70fd7bcc-1b45-427f-b806-0ba31294cc33\",\"type\":\"LinearAxis\"}],\"left\":[{\"id\":\"8d4f47d5-e11a-4ada-bf97-89273ddfdc3d\",\"type\":\"LinearAxis\"}],\"plot_height\":500,\"plot_width\":500,\"renderers\":[{\"id\":\"70fd7bcc-1b45-427f-b806-0ba31294cc33\",\"type\":\"LinearAxis\"},{\"id\":\"98f8cf4e-b7e8-45c3-89d5-471a38f29c0a\",\"type\":\"Grid\"},{\"id\":\"8d4f47d5-e11a-4ada-bf97-89273ddfdc3d\",\"type\":\"LinearAxis\"},{\"id\":\"9984ce78-d440-4ed9-88da-8da1a2755138\",\"type\":\"Grid\"},{\"id\":\"fe4b12d4-88fe-44df-a367-a7b045c99126\",\"type\":\"BoxAnnotation\"},{\"id\":\"ca7ad75c-881d-489b-869e-fad49303b2de\",\"type\":\"BoxAnnotation\"},{\"id\":\"a5bde198-8138-43b1-a587-fe16a06910b3\",\"type\":\"PolyAnnotation\"},{\"id\":\"0f4b821a-90f0-49c9-a7f0-ae0ed5a352d3\",\"type\":\"PolyAnnotation\"},{\"id\":\"1d0991fa-519c-41cb-bf75-90efb6b4bd43\",\"type\":\"GlyphRenderer\"},{\"id\":\"f0d40571-f332-44e4-ab52-a3485dd7c31a\",\"type\":\"GlyphRenderer\"}],\"title\":{\"id\":\"85b8a8b7-a440-403e-82c8-cbc78bc009d7\",\"type\":\"Title\"},\"tool_events\":{\"id\":\"f01cffea-9731-4ca7-ab46-2880f0e33421\",\"type\":\"ToolEvents\"},\"toolbar\":{\"id\":\"f594236b-cea5-469a-ad9f-6401ef8b6de7\",\"type\":\"Toolbar\"},\"x_range\":{\"id\":\"f7621c4e-4764-417e-b0d2-7fde0b4144e2\",\"type\":\"DataRange1d\"},\"y_range\":{\"id\":\"59caa2fa-5738-4b92-9b84-832562866297\",\"type\":\"DataRange1d\"}},\"id\":\"85ecaee7-95df-4ca9-919b-4fb573530428\",\"subtype\":\"Figure\",\"type\":\"Plot\"},{\"attributes\":{\"callback\":null,\"plot\":{\"id\":\"85ecaee7-95df-4ca9-919b-4fb573530428\",\"subtype\":\"Figure\",\"type\":\"Plot\"}},\"id\":\"b72a8c5c-fd87-47f0-b646-0af118621c7e\",\"type\":\"TapTool\"},{\"attributes\":{\"axis_label\":\"Measured\",\"axis_label_text_color\":{\"value\":\"#aa6666\"},\"formatter\":{\"id\":\"72cf8807-1901-46a1-944d-3843438114ba\",\"type\":\"BasicTickFormatter\"},\"major_tick_line_color\":{\"value\":\"firebrick\"},\"major_tick_line_width\":{\"value\":3},\"minor_tick_line_color\":{\"value\":\"orange\"},\"plot\":{\"id\":\"85ecaee7-95df-4ca9-919b-4fb573530428\",\"subtype\":\"Figure\",\"type\":\"Plot\"},\"ticker\":{\"id\":\"3d7b38cd-7a94-4afa-895e-5d12a9eb4854\",\"type\":\"BasicTicker\"}},\"id\":\"70fd7bcc-1b45-427f-b806-0ba31294cc33\",\"type\":\"LinearAxis\"},{\"attributes\":{\"fill_alpha\":{\"value\":0.5},\"fill_color\":{\"value\":\"lightgrey\"},\"level\":\"overlay\",\"line_alpha\":{\"value\":1.0},\"line_color\":{\"value\":\"black\"},\"line_dash\":[4,4],\"line_width\":{\"value\":2},\"plot\":null,\"xs_units\":\"screen\",\"ys_units\":\"screen\"},\"id\":\"0f4b821a-90f0-49c9-a7f0-ae0ed5a352d3\",\"type\":\"PolyAnnotation\"},{\"attributes\":{\"plot\":{\"id\":\"85ecaee7-95df-4ca9-919b-4fb573530428\",\"subtype\":\"Figure\",\"type\":\"Plot\"}},\"id\":\"4c405467-8d16-4e32-85e1-0ae3d5e47d24\",\"type\":\"ResetTool\"},{\"attributes\":{\"callback\":null,\"overlay\":{\"id\":\"a5bde198-8138-43b1-a587-fe16a06910b3\",\"type\":\"PolyAnnotation\"},\"plot\":{\"id\":\"85ecaee7-95df-4ca9-919b-4fb573530428\",\"subtype\":\"Figure\",\"type\":\"Plot\"}},\"id\":\"e95baf7c-8ce8-406d-8fae-6ba2102df653\",\"type\":\"LassoSelectTool\"},{\"attributes\":{\"plot\":{\"id\":\"85ecaee7-95df-4ca9-919b-4fb573530428\",\"subtype\":\"Figure\",\"type\":\"Plot\"},\"ticker\":{\"id\":\"3d7b38cd-7a94-4afa-895e-5d12a9eb4854\",\"type\":\"BasicTicker\"}},\"id\":\"98f8cf4e-b7e8-45c3-89d5-471a38f29c0a\",\"type\":\"Grid\"},{\"attributes\":{\"dimension\":1,\"plot\":{\"id\":\"85ecaee7-95df-4ca9-919b-4fb573530428\",\"subtype\":\"Figure\",\"type\":\"Plot\"},\"ticker\":{\"id\":\"beb0542f-644e-40d1-abff-04f5a574e9ee\",\"type\":\"BasicTicker\"}},\"id\":\"9984ce78-d440-4ed9-88da-8da1a2755138\",\"type\":\"Grid\"},{\"attributes\":{},\"id\":\"3d7b38cd-7a94-4afa-895e-5d12a9eb4854\",\"type\":\"BasicTicker\"},{\"attributes\":{\"align\":\"center\",\"plot\":null,\"text\":null},\"id\":\"85b8a8b7-a440-403e-82c8-cbc78bc009d7\",\"type\":\"Title\"},{\"attributes\":{\"callback\":null,\"column_names\":[\"x\",\"y\"],\"data\":{\"x\":[20,53,132,25,88,54,75,17,28,35,80,360,749,41,26,44,82,28,275,18,27,34,28,102,34,42,426,57,124,19,128,30,281,19,19,86,45,29,28,22,220,126,15,22,31,81,35,18,24,37,95,19,253,34,24,182,74,23,78,23,24,24,47,270,113,253,82,20,47,978,34,31,199,171,33,361,113,117,74,33,38,36,28,41,117,267,45,18,21,37,190,47,381,28,25,116,26,20,35,181,29,24,65,18,136,34,157,253,101,25,74,28,46,53,29,44,46,36,41,82,138,28,42,62,266,102,25,44,31,74,142,41,43,119,27,15,73,64,53,76,120,24,20,50,21,80,30,341,24,919,30,56,34,53,175,47,32,23,39,1238,20,227,20,382,26,28,67],\"y\":[20.637294719130182,52.702588978383574,131.70967092255376,23.580671447522946,87.12648601321825,55.932931982112564,70.0468111494954,19.620522349357486,29.016359024490498,35.48136716680574,74.77100068778475,352.57957444081325,490.37183341560916,41.17042041244429,26.220684653735248,44.160485721260784,82.69934195232281,26.487929243152948,265.11069605287753,19.839802268843407,25.76666755173619,32.915920737715055,28.410070768244935,104.20122665196024,32.89715773622024,41.95249568792832,429.7423261588975,59.17756511212772,150.6996161708392,17.73104037109883,125.28530809875888,30.75040420307903,191.0223955485905,20.40266690334701,18.421651961374778,87.8951322850096,42.02518644458462,28.691961118598783,24.174606448022757,20.87875964911666,215.7182817394874,124.7214598929969,14.109084200498387,21.87688725125838,29.932010179018675,81.75712890135162,37.351864929876115,19.595222885674843,23.97997227717451,37.61446691163894,96.9754916564466,20.545496911041255,245.96630329412633,33.241072687719765,23.776891318802996,167.64402927093028,75.34082617785145,22.356997728242504,80.45871759169142,23.26827179325369,23.024535624133648,23.116361644348046,48.61762645178982,277.28362146217023,110.36378813896408,240.48177865419092,86.66119829269837,13.48386061364559,48.808823901512085,780.5750313726409,33.71319888058473,30.366095987376383,82.21566704716562,175.00162986836892,38.805980850325724,393.60091400238866,110.91867854926812,122.81840089512386,75.77368578931112,32.49520919261491,38.11010074301285,36.18972221139347,29.02673953990984,41.96409336614775,119.47031440743501,276.0041443239154,47.96180007564965,16.85154596449695,20.222426562919395,37.669752550943485,198.67673221086363,42.745119814707095,350.9047826263152,27.724702983917155,25.091818103394758,101.40815665846185,26.076331411979027,20.066349330322623,35.125502897529714,186.17579782377857,28.126420557518486,23.500631786005897,62.31155163469481,20.481279449513494,147.39990768355767,33.07850263425473,157.6874713870883,253.65657121907475,89.841187997482,24.80175918576657,74.99722030363051,26.667908905904483,46.53373878609369,52.81670521643946,30.57484428891314,43.35771728732681,46.65596716087106,36.23864561017052,40.94828784474049,82.32790648638218,147.5809171249049,27.35637486110707,42.77286381818959,64.25730238363133,274.1057913071964,95.33665012721991,25.124830993822997,43.87593862307108,31.878609064238447,73.92592803092566,145.77261121016943,42.10688100377962,43.48800672385681,122.62932448233954,27.08004571210438,15.561111307416098,64.7862253588107,66.12961934824831,57.238225039938726,76.94239483517453,123.73132316498967,23.7743836180083,19.779786506734624,53.19754890854763,20.07604137791411,74.43408838539759,28.669394566222124,324.56753031508714,24.496907727442874,882.5683887926411,28.648158147366843,57.17855399866832,32.89526794473436,54.34169196728173,163.13635929380695,47.27918777308665,31.414142104832443,21.26582889804775,42.065517069900324,151.70744910883525,21.21831136993518,236.6929406823231,18.91050507521654,359.6770920540049,26.13824850813073,27.445646890077356,71.58627485676078]}},\"id\":\"f60d6a64-693b-4b78-8549-03d387de05db\",\"type\":\"ColumnDataSource\"},{\"attributes\":{\"data_source\":{\"id\":\"ec82d520-d6eb-418d-a5e5-12ae24e3da04\",\"type\":\"ColumnDataSource\"},\"glyph\":{\"id\":\"c9adf44e-2a74-4dbd-b76e-2f04ac602f2b\",\"type\":\"Line\"},\"hover_glyph\":null,\"nonselection_glyph\":{\"id\":\"edd7032c-7dd9-40a2-968a-adab27f29efc\",\"type\":\"Line\"},\"selection_glyph\":null},\"id\":\"f0d40571-f332-44e4-ab52-a3485dd7c31a\",\"type\":\"GlyphRenderer\"},{\"attributes\":{\"callback\":null},\"id\":\"59caa2fa-5738-4b92-9b84-832562866297\",\"type\":\"DataRange1d\"},{\"attributes\":{\"line_alpha\":{\"value\":0.1},\"line_color\":{\"value\":\"#1f77b4\"},\"line_dash\":[4,4],\"line_width\":{\"value\":2},\"x\":{\"field\":\"x\"},\"y\":{\"field\":\"y\"}},\"id\":\"edd7032c-7dd9-40a2-968a-adab27f29efc\",\"type\":\"Line\"},{\"attributes\":{\"plot\":{\"id\":\"85ecaee7-95df-4ca9-919b-4fb573530428\",\"subtype\":\"Figure\",\"type\":\"Plot\"}},\"id\":\"aba69bdc-398c-435a-8bba-030586774e3c\",\"type\":\"ResizeTool\"},{\"attributes\":{\"overlay\":{\"id\":\"fe4b12d4-88fe-44df-a367-a7b045c99126\",\"type\":\"BoxAnnotation\"},\"plot\":{\"id\":\"85ecaee7-95df-4ca9-919b-4fb573530428\",\"subtype\":\"Figure\",\"type\":\"Plot\"}},\"id\":\"c80782d1-df9f-4755-b015-93100a3ead9f\",\"type\":\"BoxZoomTool\"},{\"attributes\":{\"fill_alpha\":{\"value\":0.1},\"fill_color\":{\"value\":\"#1f77b4\"},\"line_alpha\":{\"value\":0.1},\"line_color\":{\"value\":\"#1f77b4\"},\"line_width\":{\"value\":3},\"x\":{\"field\":\"x\"},\"y\":{\"field\":\"y\"}},\"id\":\"f993b943-15cd-4575-9a1b-6455d785086a\",\"type\":\"Circle\"},{\"attributes\":{\"fill_color\":{\"value\":\"#80B1D3\"},\"line_color\":{\"value\":\"#80B1D3\"},\"line_width\":{\"value\":3},\"x\":{\"field\":\"x\"},\"y\":{\"field\":\"y\"}},\"id\":\"7e66990a-675a-4db1-944a-9ac2d3cb8398\",\"type\":\"Circle\"}],\"root_ids\":[\"85ecaee7-95df-4ca9-919b-4fb573530428\"]},\"title\":\"Bokeh Application\",\"version\":\"0.12.2\"}};\n",
       "            var render_items = [{\"docid\":\"ff0228e4-2bef-4d02-8ee4-971f526d7358\",\"elementid\":\"6a801e0a-0ac8-4b67-960d-c8441edf1ee8\",\"modelid\":\"85ecaee7-95df-4ca9-919b-4fb573530428\"}];\n",
       "            \n",
       "            Bokeh.embed.embed_items(docs_json, render_items);\n",
       "        });\n",
       "      },\n",
       "      function(Bokeh) {\n",
       "      }\n",
       "    ];\n",
       "  \n",
       "    function run_inline_js() {\n",
       "      \n",
       "      if ((window.Bokeh !== undefined) || (force === \"1\")) {\n",
       "        for (var i = 0; i < inline_js.length; i++) {\n",
       "          inline_js[i](window.Bokeh);\n",
       "        }if (force === \"1\") {\n",
       "          display_loaded();\n",
       "        }} else if (Date.now() < window._bokeh_timeout) {\n",
       "        setTimeout(run_inline_js, 100);\n",
       "      } else if (!window._bokeh_failed_load) {\n",
       "        console.log(\"Bokeh: BokehJS failed to load within specified timeout.\");\n",
       "        window._bokeh_failed_load = true;\n",
       "      } else if (!force) {\n",
       "        var cell = $(\"#6a801e0a-0ac8-4b67-960d-c8441edf1ee8\").parents('.cell').data().cell;\n",
       "        cell.output_area.append_execute_result(NB_LOAD_WARNING)\n",
       "      }\n",
       "  \n",
       "    }\n",
       "  \n",
       "    if (window._bokeh_is_loading === 0) {\n",
       "      console.log(\"Bokeh: BokehJS loaded, going straight to plotting\");\n",
       "      run_inline_js();\n",
       "    } else {\n",
       "      load_libs(js_urls, function() {\n",
       "        console.log(\"Bokeh: BokehJS plotting callback run at\", now());\n",
       "        run_inline_js();\n",
       "      });\n",
       "    }\n",
       "  }(this));\n",
       "</script>"
      ]
     },
     "metadata": {},
     "output_type": "display_data"
    }
   ],
   "source": [
    "# Plotining using bokeh\n",
    "#TOOLS = [BoxSelectTool(), HoverTool()]\n",
    "#TOOLS = 'hover,box_zoom,box_select,crosshair,resize,reset,lasso_select,pan,save,poly_select,tap,wheel_zoom,undo'\n",
    "TOOLS = 'box_zoom,box_select,crosshair,resize,reset,lasso_select,pan,save,poly_select,tap,wheel_zoom,undo'\n",
    "p = figure(plot_width=500, plot_height=500, tools=TOOLS)\n",
    "p.scatter(Y, predicted,x=\"jjj\", marker=\"o\", color=\"#80B1D3\", line_width=3)\n",
    "p.title.align = \"center\"\n",
    "p.xaxis.axis_label = \"Measured\"\n",
    "p.xaxis.axis_label_text_color = \"#aa6666\"\n",
    "#p.xaxis.axis_label_standoff = 30\n",
    "p.xaxis.major_tick_line_color = \"firebrick\"\n",
    "p.xaxis.major_tick_line_width = 3\n",
    "p.xaxis.minor_tick_line_color = \"orange\"\n",
    "p.yaxis.axis_label = \"Predicted\"\n",
    "p.yaxis.axis_label_text_font_style = \"italic\"\n",
    "p.yaxis.axis_label_text_color = \"#aa6666\"\n",
    "p.background_fill_color = \"beige\"\n",
    "p.background_fill_alpha = 0.5\n",
    "#p.line([Y.min(), Y.max()], [Y.min(), Y.max()], line_dash=\"4 4\", line_width=2, color='red')\n",
    "\n",
    "# create a new plot with the toolbar below\n",
    "# line_dash=\"4 4\", line_width=2, color='red'\n",
    "p.line([Y.min(), Y.max()], [Y.min(), Y.max()], line_dash=\"4 4\", line_width=2, line_color=\"black\")\n",
    "show(p)"
   ]
  },
  {
   "cell_type": "code",
   "execution_count": 23,
   "metadata": {
    "collapsed": false
   },
   "outputs": [
    {
     "data": {
      "text/plain": [
       "<matplotlib.text.Text at 0x7f3e7afebc90>"
      ]
     },
     "execution_count": 23,
     "metadata": {},
     "output_type": "execute_result"
    },
    {
     "data": {
      "image/png": "[encoded data removed]",
      "text/plain": [
       "<matplotlib.figure.Figure at 0x7f3e7aec0a10>"
      ]
     },
     "metadata": {},
     "output_type": "display_data"
    }
   ],
   "source": [
    "plt.scatter(predicted, (predicted - Y), c='r', s=30)\n",
    "plt.title(\"Residual plot on the training data\")\n",
    "plt.xlabel(\"Predicted\")\n",
    "plt.ylabel(\"Residuals\")"
   ]
  },
  {
   "cell_type": "code",
   "execution_count": 24,
   "metadata": {
    "collapsed": false
   },
   "outputs": [
    {
     "data": {
      "text/html": [
       "\n",
       "\n",
       "    <div class=\"bk-root\">\n",
       "        <div class=\"plotdiv\" id=\"55093cdd-5706-4350-8d1f-266fa86c9e04\"></div>\n",
       "    </div>\n",
       "<script type=\"text/javascript\">\n",
       "  \n",
       "  (function(global) {\n",
       "    function now() {\n",
       "      return new Date();\n",
       "    }\n",
       "  \n",
       "    var force = \"\";\n",
       "  \n",
       "    if (typeof (window._bokeh_onload_callbacks) === \"undefined\" || force !== \"\") {\n",
       "      window._bokeh_onload_callbacks = [];\n",
       "      window._bokeh_is_loading = undefined;\n",
       "    }\n",
       "  \n",
       "  \n",
       "    \n",
       "    if (typeof (window._bokeh_timeout) === \"undefined\" || force !== \"\") {\n",
       "      window._bokeh_timeout = Date.now() + 0;\n",
       "      window._bokeh_failed_load = false;\n",
       "    }\n",
       "  \n",
       "    var NB_LOAD_WARNING = {'data': {'text/html':\n",
       "       \"<div style='background-color: #fdd'>\\n\"+\n",
       "       \"<p>\\n\"+\n",
       "       \"BokehJS does not appear to have successfully loaded. If loading BokehJS from CDN, this \\n\"+\n",
       "       \"may be due to a slow or bad network connection. Possible fixes:\\n\"+\n",
       "       \"</p>\\n\"+\n",
       "       \"<ul>\\n\"+\n",
       "       \"<li>re-rerun `output_notebook()` to attempt to load from CDN again, or</li>\\n\"+\n",
       "       \"<li>use INLINE resources instead, as so:</li>\\n\"+\n",
       "       \"</ul>\\n\"+\n",
       "       \"<code>\\n\"+\n",
       "       \"from bokeh.resources import INLINE\\n\"+\n",
       "       \"output_notebook(resources=INLINE)\\n\"+\n",
       "       \"</code>\\n\"+\n",
       "       \"</div>\"}};\n",
       "  \n",
       "    function display_loaded() {\n",
       "      if (window.Bokeh !== undefined) {\n",
       "        Bokeh.$(\"#55093cdd-5706-4350-8d1f-266fa86c9e04\").text(\"BokehJS successfully loaded.\");\n",
       "      } else if (Date.now() < window._bokeh_timeout) {\n",
       "        setTimeout(display_loaded, 100)\n",
       "      }\n",
       "    }\n",
       "  \n",
       "    function run_callbacks() {\n",
       "      window._bokeh_onload_callbacks.forEach(function(callback) { callback() });\n",
       "      delete window._bokeh_onload_callbacks\n",
       "      console.info(\"Bokeh: all callbacks have finished\");\n",
       "    }\n",
       "  \n",
       "    function load_libs(js_urls, callback) {\n",
       "      window._bokeh_onload_callbacks.push(callback);\n",
       "      if (window._bokeh_is_loading > 0) {\n",
       "        console.log(\"Bokeh: BokehJS is being loaded, scheduling callback at\", now());\n",
       "        return null;\n",
       "      }\n",
       "      if (js_urls == null || js_urls.length === 0) {\n",
       "        run_callbacks();\n",
       "        return null;\n",
       "      }\n",
       "      console.log(\"Bokeh: BokehJS not loaded, scheduling load and callback at\", now());\n",
       "      window._bokeh_is_loading = js_urls.length;\n",
       "      for (var i = 0; i < js_urls.length; i++) {\n",
       "        var url = js_urls[i];\n",
       "        var s = document.createElement('script');\n",
       "        s.src = url;\n",
       "        s.async = false;\n",
       "        s.onreadystatechange = s.onload = function() {\n",
       "          window._bokeh_is_loading--;\n",
       "          if (window._bokeh_is_loading === 0) {\n",
       "            console.log(\"Bokeh: all BokehJS libraries loaded\");\n",
       "            run_callbacks()\n",
       "          }\n",
       "        };\n",
       "        s.onerror = function() {\n",
       "          console.warn(\"failed to load library \" + url);\n",
       "        };\n",
       "        console.log(\"Bokeh: injecting script tag for BokehJS library: \", url);\n",
       "        document.getElementsByTagName(\"head\")[0].appendChild(s);\n",
       "      }\n",
       "    };var element = document.getElementById(\"55093cdd-5706-4350-8d1f-266fa86c9e04\");\n",
       "    if (element == null) {\n",
       "      console.log(\"Bokeh: ERROR: autoload.js configured with elementid '55093cdd-5706-4350-8d1f-266fa86c9e04' but no matching script tag was found. \")\n",
       "      return false;\n",
       "    }\n",
       "  \n",
       "    var js_urls = [];\n",
       "  \n",
       "    var inline_js = [\n",
       "      function(Bokeh) {\n",
       "        Bokeh.$(function() {\n",
       "            var docs_json = {\"e849103a-d58c-415b-b3e8-87ded6cbfeec\":{\"roots\":{\"references\":[{\"attributes\":{\"plot\":{\"id\":\"ada6e819-c690-44f2-a205-cbf045e27bee\",\"subtype\":\"Figure\",\"type\":\"Plot\"}},\"id\":\"554f9038-7997-4238-808e-5d8bad0559e4\",\"type\":\"UndoTool\"},{\"attributes\":{\"callback\":null,\"overlay\":{\"id\":\"033fcdeb-40f3-4f03-9910-f9c575f3ba2c\",\"type\":\"PolyAnnotation\"},\"plot\":{\"id\":\"ada6e819-c690-44f2-a205-cbf045e27bee\",\"subtype\":\"Figure\",\"type\":\"Plot\"}},\"id\":\"d6fcaee1-f441-4af1-b285-2289a384eb11\",\"type\":\"LassoSelectTool\"},{\"attributes\":{},\"id\":\"531dc00d-870e-43c4-bf8c-26a78de8fb42\",\"type\":\"BasicTicker\"},{\"attributes\":{\"dimension\":1,\"plot\":{\"id\":\"ada6e819-c690-44f2-a205-cbf045e27bee\",\"subtype\":\"Figure\",\"type\":\"Plot\"},\"ticker\":{\"id\":\"d6fb3733-517a-4626-b4ab-c75a1e2718ac\",\"type\":\"BasicTicker\"}},\"id\":\"cddd2dc8-860f-4471-86ca-1961eeb11b7e\",\"type\":\"Grid\"},{\"attributes\":{\"fill_alpha\":{\"value\":0.1},\"fill_color\":{\"value\":\"#1f77b4\"},\"line_alpha\":{\"value\":0.1},\"line_color\":{\"value\":\"#1f77b4\"},\"line_width\":{\"value\":3},\"x\":{\"field\":\"x\"},\"y\":{\"field\":\"y\"}},\"id\":\"96275f8b-875e-49b4-9cb8-ed52d4b44573\",\"type\":\"Circle\"},{\"attributes\":{\"plot\":{\"id\":\"ada6e819-c690-44f2-a205-cbf045e27bee\",\"subtype\":\"Figure\",\"type\":\"Plot\"}},\"id\":\"3febf518-0667-4770-abc5-1a314fbb8291\",\"type\":\"PanTool\"},{\"attributes\":{\"bottom_units\":\"screen\",\"fill_alpha\":{\"value\":0.5},\"fill_color\":{\"value\":\"lightgrey\"},\"left_units\":\"screen\",\"level\":\"overlay\",\"line_alpha\":{\"value\":1.0},\"line_color\":{\"value\":\"black\"},\"line_dash\":[4,4],\"line_width\":{\"value\":2},\"plot\":null,\"render_mode\":\"css\",\"right_units\":\"screen\",\"top_units\":\"screen\"},\"id\":\"7a39ee89-6edf-45b5-b221-c8bc3f071da0\",\"type\":\"BoxAnnotation\"},{\"attributes\":{\"plot\":{\"id\":\"ada6e819-c690-44f2-a205-cbf045e27bee\",\"subtype\":\"Figure\",\"type\":\"Plot\"}},\"id\":\"1f226376-8e02-4ab6-bdc7-8a12dae50dfe\",\"type\":\"WheelZoomTool\"},{\"attributes\":{\"callback\":null,\"overlay\":{\"id\":\"7a39ee89-6edf-45b5-b221-c8bc3f071da0\",\"type\":\"BoxAnnotation\"},\"plot\":{\"id\":\"ada6e819-c690-44f2-a205-cbf045e27bee\",\"subtype\":\"Figure\",\"type\":\"Plot\"},\"renderers\":[{\"id\":\"5ca9f5bc-77d1-40e7-a21c-d6088ea134c7\",\"type\":\"GlyphRenderer\"}]},\"id\":\"c176d05b-9146-406d-b1d4-8ec8238a922b\",\"type\":\"BoxSelectTool\"},{\"attributes\":{\"fill_color\":{\"value\":\"#80B1D3\"},\"line_color\":{\"value\":\"#80B1D3\"},\"line_width\":{\"value\":3},\"x\":{\"field\":\"x\"},\"y\":{\"field\":\"y\"}},\"id\":\"9ca5700f-a2aa-4ec2-94e7-da80a20a42c9\",\"type\":\"Circle\"},{\"attributes\":{\"callback\":null},\"id\":\"ba1c2d27-8bd3-4cb2-b969-9ee3ff7c7a37\",\"type\":\"DataRange1d\"},{\"attributes\":{\"data_source\":{\"id\":\"8c50278b-3609-40f9-bd6c-5621c7b9adda\",\"type\":\"ColumnDataSource\"},\"glyph\":{\"id\":\"9ca5700f-a2aa-4ec2-94e7-da80a20a42c9\",\"type\":\"Circle\"},\"hover_glyph\":null,\"nonselection_glyph\":{\"id\":\"96275f8b-875e-49b4-9cb8-ed52d4b44573\",\"type\":\"Circle\"},\"selection_glyph\":null},\"id\":\"5ca9f5bc-77d1-40e7-a21c-d6088ea134c7\",\"type\":\"GlyphRenderer\"},{\"attributes\":{\"plot\":{\"id\":\"ada6e819-c690-44f2-a205-cbf045e27bee\",\"subtype\":\"Figure\",\"type\":\"Plot\"},\"ticker\":{\"id\":\"531dc00d-870e-43c4-bf8c-26a78de8fb42\",\"type\":\"BasicTicker\"}},\"id\":\"76287491-d1e2-48eb-b03d-5e8706b129ae\",\"type\":\"Grid\"},{\"attributes\":{\"overlay\":{\"id\":\"62d4c698-ca91-441e-a592-09b868a115ea\",\"type\":\"BoxAnnotation\"},\"plot\":{\"id\":\"ada6e819-c690-44f2-a205-cbf045e27bee\",\"subtype\":\"Figure\",\"type\":\"Plot\"}},\"id\":\"799cb2b4-3f77-4847-98ab-94d0a08f3003\",\"type\":\"BoxZoomTool\"},{\"attributes\":{\"plot\":{\"id\":\"ada6e819-c690-44f2-a205-cbf045e27bee\",\"subtype\":\"Figure\",\"type\":\"Plot\"}},\"id\":\"52da567e-fa1f-4e68-aa54-743bd6ed2f94\",\"type\":\"ResetTool\"},{\"attributes\":{},\"id\":\"10c4f353-5767-46d7-b2db-5f3a38d590fc\",\"type\":\"BasicTickFormatter\"},{\"attributes\":{\"fill_alpha\":{\"value\":0.5},\"fill_color\":{\"value\":\"lightgrey\"},\"level\":\"overlay\",\"line_alpha\":{\"value\":1.0},\"line_color\":{\"value\":\"black\"},\"line_dash\":[4,4],\"line_width\":{\"value\":2},\"plot\":null,\"xs_units\":\"screen\",\"ys_units\":\"screen\"},\"id\":\"033fcdeb-40f3-4f03-9910-f9c575f3ba2c\",\"type\":\"PolyAnnotation\"},{\"attributes\":{\"align\":\"center\",\"plot\":null,\"text\":\"Residual plot on the training data\"},\"id\":\"06b1a15f-2eca-45fe-87ed-9438784ec55d\",\"type\":\"Title\"},{\"attributes\":{\"bottom_units\":\"screen\",\"fill_alpha\":{\"value\":0.5},\"fill_color\":{\"value\":\"lightgrey\"},\"left_units\":\"screen\",\"level\":\"overlay\",\"line_alpha\":{\"value\":1.0},\"line_color\":{\"value\":\"black\"},\"line_dash\":[4,4],\"line_width\":{\"value\":2},\"plot\":null,\"render_mode\":\"css\",\"right_units\":\"screen\",\"top_units\":\"screen\"},\"id\":\"62d4c698-ca91-441e-a592-09b868a115ea\",\"type\":\"BoxAnnotation\"},{\"attributes\":{},\"id\":\"d6fb3733-517a-4626-b4ab-c75a1e2718ac\",\"type\":\"BasicTicker\"},{\"attributes\":{\"overlay\":{\"id\":\"c845d411-f4b3-4d2f-98ab-0b99c637b789\",\"type\":\"PolyAnnotation\"},\"plot\":{\"id\":\"ada6e819-c690-44f2-a205-cbf045e27bee\",\"subtype\":\"Figure\",\"type\":\"Plot\"}},\"id\":\"70b4d5e2-c476-488d-89a6-d91c0dafaa0a\",\"type\":\"PolySelectTool\"},{\"attributes\":{\"plot\":{\"id\":\"ada6e819-c690-44f2-a205-cbf045e27bee\",\"subtype\":\"Figure\",\"type\":\"Plot\"}},\"id\":\"ea611ae3-f0ab-47fb-9d63-210ded9a980a\",\"type\":\"SaveTool\"},{\"attributes\":{\"callback\":null,\"plot\":{\"id\":\"ada6e819-c690-44f2-a205-cbf045e27bee\",\"subtype\":\"Figure\",\"type\":\"Plot\"}},\"id\":\"ca20328a-568f-47bf-bbd9-a3a3f3f6b0c2\",\"type\":\"TapTool\"},{\"attributes\":{},\"id\":\"412c6425-19c6-473f-89c3-da46c703b553\",\"type\":\"BasicTickFormatter\"},{\"attributes\":{\"callback\":null},\"id\":\"dda3e7c8-25c2-47fd-abeb-6b9096413e5c\",\"type\":\"DataRange1d\"},{\"attributes\":{\"plot\":{\"id\":\"ada6e819-c690-44f2-a205-cbf045e27bee\",\"subtype\":\"Figure\",\"type\":\"Plot\"}},\"id\":\"41ed274d-a5ea-4fd0-a16d-d9568782a9dc\",\"type\":\"CrosshairTool\"},{\"attributes\":{\"callback\":null,\"column_names\":[\"x\",\"y\"],\"data\":{\"x\":[20.637294719130182,52.702588978383574,131.70967092255376,23.580671447522946,87.12648601321825,55.932931982112564,70.0468111494954,19.620522349357486,29.016359024490498,35.48136716680574,74.77100068778475,352.57957444081325,490.37183341560916,41.17042041244429,26.220684653735248,44.160485721260784,82.69934195232281,26.487929243152948,265.11069605287753,19.839802268843407,25.76666755173619,32.915920737715055,28.410070768244935,104.20122665196024,32.89715773622024,41.95249568792832,429.7423261588975,59.17756511212772,150.6996161708392,17.73104037109883,125.28530809875888,30.75040420307903,191.0223955485905,20.40266690334701,18.421651961374778,87.8951322850096,42.02518644458462,28.691961118598783,24.174606448022757,20.87875964911666,215.7182817394874,124.7214598929969,14.109084200498387,21.87688725125838,29.932010179018675,81.75712890135162,37.351864929876115,19.595222885674843,23.97997227717451,37.61446691163894,96.9754916564466,20.545496911041255,245.96630329412633,33.241072687719765,23.776891318802996,167.64402927093028,75.34082617785145,22.356997728242504,80.45871759169142,23.26827179325369,23.024535624133648,23.116361644348046,48.61762645178982,277.28362146217023,110.36378813896408,240.48177865419092,86.66119829269837,13.48386061364559,48.808823901512085,780.5750313726409,33.71319888058473,30.366095987376383,82.21566704716562,175.00162986836892,38.805980850325724,393.60091400238866,110.91867854926812,122.81840089512386,75.77368578931112,32.49520919261491,38.11010074301285,36.18972221139347,29.02673953990984,41.96409336614775,119.47031440743501,276.0041443239154,47.96180007564965,16.85154596449695,20.222426562919395,37.669752550943485,198.67673221086363,42.745119814707095,350.9047826263152,27.724702983917155,25.091818103394758,101.40815665846185,26.076331411979027,20.066349330322623,35.125502897529714,186.17579782377857,28.126420557518486,23.500631786005897,62.31155163469481,20.481279449513494,147.39990768355767,33.07850263425473,157.6874713870883,253.65657121907475,89.841187997482,24.80175918576657,74.99722030363051,26.667908905904483,46.53373878609369,52.81670521643946,30.57484428891314,43.35771728732681,46.65596716087106,36.23864561017052,40.94828784474049,82.32790648638218,147.5809171249049,27.35637486110707,42.77286381818959,64.25730238363133,274.1057913071964,95.33665012721991,25.124830993822997,43.87593862307108,31.878609064238447,73.92592803092566,145.77261121016943,42.10688100377962,43.48800672385681,122.62932448233954,27.08004571210438,15.561111307416098,64.7862253588107,66.12961934824831,57.238225039938726,76.94239483517453,123.73132316498967,23.7743836180083,19.779786506734624,53.19754890854763,20.07604137791411,74.43408838539759,28.669394566222124,324.56753031508714,24.496907727442874,882.5683887926411,28.648158147366843,57.17855399866832,32.89526794473436,54.34169196728173,163.13635929380695,47.27918777308665,31.414142104832443,21.26582889804775,42.065517069900324,151.70744910883525,21.21831136993518,236.6929406823231,18.91050507521654,359.6770920540049,26.13824850813073,27.445646890077356,71.58627485676078],\"y\":[0.6372947191301819,-0.2974110216164263,-0.2903290774462448,-1.4193285524770545,-0.8735139867817452,1.9329319821125637,-4.953188850504603,2.6205223493574863,1.016359024490498,0.48136716680573954,-5.228999312215251,-7.420425559186754,-258.62816658439084,0.17042041244428674,0.2206846537352476,0.16048572126078398,0.6993419523228113,-1.5120707568470522,-9.889303947122471,1.8398022688434068,-1.233332448263809,-1.0840792622849449,0.4100707682449354,2.2012266519602406,-1.1028422637797632,-0.04750431207168049,3.7423261588975265,2.1775651121277235,26.699616170839192,-1.2689596289011718,-2.7146919012411246,0.7504042030790288,-89.97760445140949,1.4026669033470114,-0.5783480386252222,1.8951322850095949,-2.9748135554153805,-0.3080388814012167,-3.8253935519772426,-1.1212403508833404,-4.281718260512605,-1.2785401070030957,-0.890915799501613,-0.12311274874161882,-1.0679898209813246,0.7571289013516207,2.3518649298761147,1.5952228856748434,-0.020027722825489036,0.6144669116389423,1.975491656446593,1.5454969110412549,-7.033696705873666,-0.7589273122802354,-0.22310868119700444,-14.355970729069725,1.3408261778514543,-0.6430022717574957,2.458717591691425,0.2682717932536889,-0.9754643758663519,-0.8836383556519536,1.6176264517898176,7.283621462170231,-2.6362118610359175,-12.518221345809081,4.661198292698373,-6.516139386354411,1.8088239015120848,-197.42496862735914,-0.28680111941527286,-0.6339040126236171,-116.78433295283438,4.001629868368923,5.805980850325724,32.60091400238866,-2.0813214507318776,5.818400895123858,1.7736857893111164,-0.504790807385092,0.11010074301285044,0.18972221139347312,1.0267395399098405,0.9640933661477504,2.470314407435012,9.004144323915398,2.9618000756496485,-1.1484540355030504,-0.7775734370806049,0.6697525509434854,8.676732210863634,-4.254880185292905,-30.095217373684818,-0.2752970160828454,0.0918181033947576,-14.591843341538151,0.0763314119790266,0.06634933032262325,0.12550289752971366,5.1757978237785665,-0.873579442481514,-0.4993682139941029,-2.6884483653051916,2.4812794495134938,11.399907683557672,-0.9214973657452674,0.6874713870882943,0.656571219074749,-11.158812002518005,-0.19824081423342932,0.9972203036305132,-1.3320910940955173,0.5337387860936929,-0.18329478356054096,1.574844288913141,-0.6422827126731931,0.6559671608710573,0.2386456101705221,-0.05171215525950856,0.3279064863821759,9.580917124904886,-0.6436251388929293,0.7728638181895917,2.257302383631327,8.105791307196398,-6.663349872780088,0.12483099382299656,-0.12406137692892116,0.8786090642384465,-0.074071969074339,3.77261121016943,1.1068810037796197,0.4880067238568131,3.629324482339541,0.08004571210437916,0.5611113074160983,-8.213774641189303,2.129619348248312,4.238225039938726,0.9423948351745253,3.731323164989675,-0.2256163819916992,-0.22021349326537631,3.197548908547631,-0.9239586220858911,-5.565911614602413,-1.330605433777876,-16.43246968491286,0.49690772744287415,-36.431611207358856,-1.3518418526331573,1.1785539986683204,-1.104732055265643,1.341691967281733,-11.863640706193053,0.27918777308664744,-0.5858578951675568,-1.7341711019522492,3.0655170699003236,-1086.2925508911649,1.2183113699351793,9.692940682323098,-1.0894949247834589,-22.322907945995098,0.13824850813072942,-0.5543531099226442,4.586274856760781]}},\"id\":\"8c50278b-3609-40f9-bd6c-5621c7b9adda\",\"type\":\"ColumnDataSource\"},{\"attributes\":{\"fill_alpha\":{\"value\":0.5},\"fill_color\":{\"value\":\"lightgrey\"},\"level\":\"overlay\",\"line_alpha\":{\"value\":1.0},\"line_color\":{\"value\":\"black\"},\"line_dash\":[4,4],\"line_width\":{\"value\":2},\"plot\":null,\"xs_units\":\"screen\",\"ys_units\":\"screen\"},\"id\":\"c845d411-f4b3-4d2f-98ab-0b99c637b789\",\"type\":\"PolyAnnotation\"},{\"attributes\":{\"background_fill_alpha\":{\"value\":0.5},\"background_fill_color\":{\"value\":\"beige\"},\"below\":[{\"id\":\"8f6162dd-6cc8-4d98-962a-a2cf2a5d173a\",\"type\":\"LinearAxis\"}],\"left\":[{\"id\":\"10d8fc48-5dfe-48e6-a9c9-b283daf86f9a\",\"type\":\"LinearAxis\"}],\"plot_height\":500,\"plot_width\":500,\"renderers\":[{\"id\":\"8f6162dd-6cc8-4d98-962a-a2cf2a5d173a\",\"type\":\"LinearAxis\"},{\"id\":\"76287491-d1e2-48eb-b03d-5e8706b129ae\",\"type\":\"Grid\"},{\"id\":\"10d8fc48-5dfe-48e6-a9c9-b283daf86f9a\",\"type\":\"LinearAxis\"},{\"id\":\"cddd2dc8-860f-4471-86ca-1961eeb11b7e\",\"type\":\"Grid\"},{\"id\":\"62d4c698-ca91-441e-a592-09b868a115ea\",\"type\":\"BoxAnnotation\"},{\"id\":\"7a39ee89-6edf-45b5-b221-c8bc3f071da0\",\"type\":\"BoxAnnotation\"},{\"id\":\"033fcdeb-40f3-4f03-9910-f9c575f3ba2c\",\"type\":\"PolyAnnotation\"},{\"id\":\"c845d411-f4b3-4d2f-98ab-0b99c637b789\",\"type\":\"PolyAnnotation\"},{\"id\":\"5ca9f5bc-77d1-40e7-a21c-d6088ea134c7\",\"type\":\"GlyphRenderer\"}],\"title\":{\"id\":\"06b1a15f-2eca-45fe-87ed-9438784ec55d\",\"type\":\"Title\"},\"tool_events\":{\"id\":\"6d84c2ed-0fa5-4353-9d92-69a987a0d69f\",\"type\":\"ToolEvents\"},\"toolbar\":{\"id\":\"a43a25b8-e6dc-4672-9b8f-730a90a098dd\",\"type\":\"Toolbar\"},\"x_range\":{\"id\":\"ba1c2d27-8bd3-4cb2-b969-9ee3ff7c7a37\",\"type\":\"DataRange1d\"},\"y_range\":{\"id\":\"dda3e7c8-25c2-47fd-abeb-6b9096413e5c\",\"type\":\"DataRange1d\"}},\"id\":\"ada6e819-c690-44f2-a205-cbf045e27bee\",\"subtype\":\"Figure\",\"type\":\"Plot\"},{\"attributes\":{},\"id\":\"6d84c2ed-0fa5-4353-9d92-69a987a0d69f\",\"type\":\"ToolEvents\"},{\"attributes\":{\"axis_label\":\"Residuals\",\"axis_label_text_color\":{\"value\":\"#aa6666\"},\"formatter\":{\"id\":\"10c4f353-5767-46d7-b2db-5f3a38d590fc\",\"type\":\"BasicTickFormatter\"},\"plot\":{\"id\":\"ada6e819-c690-44f2-a205-cbf045e27bee\",\"subtype\":\"Figure\",\"type\":\"Plot\"},\"ticker\":{\"id\":\"d6fb3733-517a-4626-b4ab-c75a1e2718ac\",\"type\":\"BasicTicker\"}},\"id\":\"10d8fc48-5dfe-48e6-a9c9-b283daf86f9a\",\"type\":\"LinearAxis\"},{\"attributes\":{\"axis_label\":\"Predicted\",\"axis_label_text_color\":{\"value\":\"#aa6666\"},\"formatter\":{\"id\":\"412c6425-19c6-473f-89c3-da46c703b553\",\"type\":\"BasicTickFormatter\"},\"major_tick_line_color\":{\"value\":\"firebrick\"},\"major_tick_line_width\":{\"value\":3},\"minor_tick_line_color\":{\"value\":\"orange\"},\"plot\":{\"id\":\"ada6e819-c690-44f2-a205-cbf045e27bee\",\"subtype\":\"Figure\",\"type\":\"Plot\"},\"ticker\":{\"id\":\"531dc00d-870e-43c4-bf8c-26a78de8fb42\",\"type\":\"BasicTicker\"}},\"id\":\"8f6162dd-6cc8-4d98-962a-a2cf2a5d173a\",\"type\":\"LinearAxis\"},{\"attributes\":{\"active_drag\":\"auto\",\"active_scroll\":\"auto\",\"active_tap\":\"auto\",\"tools\":[{\"id\":\"799cb2b4-3f77-4847-98ab-94d0a08f3003\",\"type\":\"BoxZoomTool\"},{\"id\":\"c176d05b-9146-406d-b1d4-8ec8238a922b\",\"type\":\"BoxSelectTool\"},{\"id\":\"41ed274d-a5ea-4fd0-a16d-d9568782a9dc\",\"type\":\"CrosshairTool\"},{\"id\":\"256f5068-0849-40ba-ba75-df26d34c99da\",\"type\":\"ResizeTool\"},{\"id\":\"52da567e-fa1f-4e68-aa54-743bd6ed2f94\",\"type\":\"ResetTool\"},{\"id\":\"d6fcaee1-f441-4af1-b285-2289a384eb11\",\"type\":\"LassoSelectTool\"},{\"id\":\"3febf518-0667-4770-abc5-1a314fbb8291\",\"type\":\"PanTool\"},{\"id\":\"ea611ae3-f0ab-47fb-9d63-210ded9a980a\",\"type\":\"SaveTool\"},{\"id\":\"70b4d5e2-c476-488d-89a6-d91c0dafaa0a\",\"type\":\"PolySelectTool\"},{\"id\":\"ca20328a-568f-47bf-bbd9-a3a3f3f6b0c2\",\"type\":\"TapTool\"},{\"id\":\"1f226376-8e02-4ab6-bdc7-8a12dae50dfe\",\"type\":\"WheelZoomTool\"},{\"id\":\"554f9038-7997-4238-808e-5d8bad0559e4\",\"type\":\"UndoTool\"}]},\"id\":\"a43a25b8-e6dc-4672-9b8f-730a90a098dd\",\"type\":\"Toolbar\"},{\"attributes\":{\"plot\":{\"id\":\"ada6e819-c690-44f2-a205-cbf045e27bee\",\"subtype\":\"Figure\",\"type\":\"Plot\"}},\"id\":\"256f5068-0849-40ba-ba75-df26d34c99da\",\"type\":\"ResizeTool\"}],\"root_ids\":[\"ada6e819-c690-44f2-a205-cbf045e27bee\"]},\"title\":\"Bokeh Application\",\"version\":\"0.12.2\"}};\n",
       "            var render_items = [{\"docid\":\"e849103a-d58c-415b-b3e8-87ded6cbfeec\",\"elementid\":\"55093cdd-5706-4350-8d1f-266fa86c9e04\",\"modelid\":\"ada6e819-c690-44f2-a205-cbf045e27bee\"}];\n",
       "            \n",
       "            Bokeh.embed.embed_items(docs_json, render_items);\n",
       "        });\n",
       "      },\n",
       "      function(Bokeh) {\n",
       "      }\n",
       "    ];\n",
       "  \n",
       "    function run_inline_js() {\n",
       "      \n",
       "      if ((window.Bokeh !== undefined) || (force === \"1\")) {\n",
       "        for (var i = 0; i < inline_js.length; i++) {\n",
       "          inline_js[i](window.Bokeh);\n",
       "        }if (force === \"1\") {\n",
       "          display_loaded();\n",
       "        }} else if (Date.now() < window._bokeh_timeout) {\n",
       "        setTimeout(run_inline_js, 100);\n",
       "      } else if (!window._bokeh_failed_load) {\n",
       "        console.log(\"Bokeh: BokehJS failed to load within specified timeout.\");\n",
       "        window._bokeh_failed_load = true;\n",
       "      } else if (!force) {\n",
       "        var cell = $(\"#55093cdd-5706-4350-8d1f-266fa86c9e04\").parents('.cell').data().cell;\n",
       "        cell.output_area.append_execute_result(NB_LOAD_WARNING)\n",
       "      }\n",
       "  \n",
       "    }\n",
       "  \n",
       "    if (window._bokeh_is_loading === 0) {\n",
       "      console.log(\"Bokeh: BokehJS loaded, going straight to plotting\");\n",
       "      run_inline_js();\n",
       "    } else {\n",
       "      load_libs(js_urls, function() {\n",
       "        console.log(\"Bokeh: BokehJS plotting callback run at\", now());\n",
       "        run_inline_js();\n",
       "      });\n",
       "    }\n",
       "  }(this));\n",
       "</script>"
      ]
     },
     "metadata": {},
     "output_type": "display_data"
    }
   ],
   "source": [
    "# Plotining using bokeh\n",
    "#TOOLS = 'hover,box_zoom,box_select,crosshair,resize,reset,lasso_select,pan,save,poly_select,tap,wheel_zoom,undo'\n",
    "TOOLS = 'box_zoom,box_select,crosshair,resize,reset,lasso_select,pan,save,poly_select,tap,wheel_zoom,undo'\n",
    "p = figure(plot_width=500, plot_height=500, title=\"Residual plot on the training data\", tools=TOOLS)\n",
    "p.scatter(predicted, (predicted - Y),x=\"jjj\", marker=\"o\", color=\"#80B1D3\", line_width=3)\n",
    "p.title.align = \"center\"\n",
    "p.xaxis.axis_label = \"Predicted\"\n",
    "p.xaxis.axis_label_text_color = \"#aa6666\"\n",
    "#p.xaxis.axis_label_standoff = 30\n",
    "p.xaxis.major_tick_line_color = \"firebrick\"\n",
    "p.xaxis.major_tick_line_width = 3\n",
    "p.xaxis.minor_tick_line_color = \"orange\"\n",
    "p.yaxis.axis_label = \"Residuals\"\n",
    "p.yaxis.axis_label_text_font_style = \"italic\"\n",
    "p.yaxis.axis_label_text_color = \"#aa6666\"\n",
    "p.background_fill_color = \"beige\"\n",
    "p.background_fill_alpha = 0.5\n",
    "#p.line([2,38], [0, 0], line_dash=\"4 4\", line_width=2, color='red')\n",
    "show(p)"
   ]
  },
  {
   "cell_type": "markdown",
   "metadata": {},
   "source": [
    "## Pipeline"
   ]
  },
  {
   "cell_type": "markdown",
   "metadata": {},
   "source": [
    "The best to deliver the model by pipeline the operation then at deployment can be done in one model."
   ]
  },
  {
   "cell_type": "markdown",
   "metadata": {
    "collapsed": true
   },
   "source": [
    "  I used two ways to check the pipeline so any one can be fine"
   ]
  },
  {
   "cell_type": "code",
   "execution_count": 25,
   "metadata": {
    "collapsed": false
   },
   "outputs": [
    {
     "name": "stdout",
     "output_type": "stream",
     "text": [
      "0.999437111814\n",
      "Scoring according to mean_squared_error\n",
      "[ -4.10427732e+03  -5.65758750e+02  -3.50691535e+00  -3.36686905e+01\n",
      "  -4.08006891e+03  -7.79649563e+01  -1.63293314e+01  -1.47112239e+01\n",
      "  -2.08511529e+02  -8.38191211e+04]\n",
      "\n",
      " Mean      Standard deviation\n",
      "-9292.39      24891.81\n",
      "[ True  True  True  True  True  True  True]\n",
      "R-squared =  0.999437111814\n"
     ]
    },
    {
     "name": "stderr",
     "output_type": "stream",
     "text": [
      "/home/salm/anaconda2/lib/python2.7/site-packages/sklearn/utils/validation.py:420: DataConversionWarning: Data with input dtype int64 was converted to float64 by StandardScaler.\n",
      "  warnings.warn(msg, DataConversionWarning)\n",
      "/home/salm/anaconda2/lib/python2.7/site-packages/sklearn/utils/validation.py:420: DataConversionWarning: Data with input dtype int64 was converted to float64 by StandardScaler.\n",
      "  warnings.warn(msg, DataConversionWarning)\n",
      "/home/salm/anaconda2/lib/python2.7/site-packages/sklearn/utils/validation.py:420: DataConversionWarning: Data with input dtype int64 was converted to float64 by StandardScaler.\n",
      "  warnings.warn(msg, DataConversionWarning)\n",
      "/home/salm/anaconda2/lib/python2.7/site-packages/sklearn/utils/validation.py:420: DataConversionWarning: Data with input dtype int64 was converted to float64 by StandardScaler.\n",
      "  warnings.warn(msg, DataConversionWarning)\n",
      "/home/salm/anaconda2/lib/python2.7/site-packages/sklearn/utils/validation.py:420: DataConversionWarning: Data with input dtype int64 was converted to float64 by StandardScaler.\n",
      "  warnings.warn(msg, DataConversionWarning)\n",
      "/home/salm/anaconda2/lib/python2.7/site-packages/sklearn/utils/validation.py:420: DataConversionWarning: Data with input dtype int64 was converted to float64 by StandardScaler.\n",
      "  warnings.warn(msg, DataConversionWarning)\n",
      "/home/salm/anaconda2/lib/python2.7/site-packages/sklearn/utils/validation.py:420: DataConversionWarning: Data with input dtype int64 was converted to float64 by StandardScaler.\n",
      "  warnings.warn(msg, DataConversionWarning)\n",
      "/home/salm/anaconda2/lib/python2.7/site-packages/sklearn/utils/validation.py:420: DataConversionWarning: Data with input dtype int64 was converted to float64 by StandardScaler.\n",
      "  warnings.warn(msg, DataConversionWarning)\n",
      "/home/salm/anaconda2/lib/python2.7/site-packages/sklearn/utils/validation.py:420: DataConversionWarning: Data with input dtype int64 was converted to float64 by StandardScaler.\n",
      "  warnings.warn(msg, DataConversionWarning)\n",
      "/home/salm/anaconda2/lib/python2.7/site-packages/sklearn/utils/validation.py:420: DataConversionWarning: Data with input dtype int64 was converted to float64 by StandardScaler.\n",
      "  warnings.warn(msg, DataConversionWarning)\n",
      "/home/salm/anaconda2/lib/python2.7/site-packages/sklearn/utils/validation.py:420: DataConversionWarning: Data with input dtype int64 was converted to float64 by StandardScaler.\n",
      "  warnings.warn(msg, DataConversionWarning)\n",
      "/home/salm/anaconda2/lib/python2.7/site-packages/sklearn/utils/validation.py:420: DataConversionWarning: Data with input dtype int64 was converted to float64 by StandardScaler.\n",
      "  warnings.warn(msg, DataConversionWarning)\n",
      "/home/salm/anaconda2/lib/python2.7/site-packages/sklearn/utils/validation.py:420: DataConversionWarning: Data with input dtype int64 was converted to float64 by StandardScaler.\n",
      "  warnings.warn(msg, DataConversionWarning)\n",
      "/home/salm/anaconda2/lib/python2.7/site-packages/sklearn/utils/validation.py:420: DataConversionWarning: Data with input dtype int64 was converted to float64 by StandardScaler.\n",
      "  warnings.warn(msg, DataConversionWarning)\n",
      "/home/salm/anaconda2/lib/python2.7/site-packages/sklearn/utils/validation.py:420: DataConversionWarning: Data with input dtype int64 was converted to float64 by StandardScaler.\n",
      "  warnings.warn(msg, DataConversionWarning)\n",
      "/home/salm/anaconda2/lib/python2.7/site-packages/sklearn/utils/validation.py:420: DataConversionWarning: Data with input dtype int64 was converted to float64 by StandardScaler.\n",
      "  warnings.warn(msg, DataConversionWarning)\n",
      "/home/salm/anaconda2/lib/python2.7/site-packages/sklearn/utils/validation.py:420: DataConversionWarning: Data with input dtype int64 was converted to float64 by StandardScaler.\n",
      "  warnings.warn(msg, DataConversionWarning)\n",
      "/home/salm/anaconda2/lib/python2.7/site-packages/sklearn/utils/validation.py:420: DataConversionWarning: Data with input dtype int64 was converted to float64 by StandardScaler.\n",
      "  warnings.warn(msg, DataConversionWarning)\n",
      "/home/salm/anaconda2/lib/python2.7/site-packages/sklearn/utils/validation.py:420: DataConversionWarning: Data with input dtype int64 was converted to float64 by StandardScaler.\n",
      "  warnings.warn(msg, DataConversionWarning)\n",
      "/home/salm/anaconda2/lib/python2.7/site-packages/sklearn/utils/validation.py:420: DataConversionWarning: Data with input dtype int64 was converted to float64 by StandardScaler.\n",
      "  warnings.warn(msg, DataConversionWarning)\n",
      "/home/salm/anaconda2/lib/python2.7/site-packages/sklearn/utils/validation.py:420: DataConversionWarning: Data with input dtype int64 was converted to float64 by StandardScaler.\n",
      "  warnings.warn(msg, DataConversionWarning)\n",
      "/home/salm/anaconda2/lib/python2.7/site-packages/sklearn/utils/validation.py:420: DataConversionWarning: Data with input dtype int64 was converted to float64 by StandardScaler.\n",
      "  warnings.warn(msg, DataConversionWarning)\n",
      "/home/salm/anaconda2/lib/python2.7/site-packages/sklearn/utils/validation.py:420: DataConversionWarning: Data with input dtype int64 was converted to float64 by StandardScaler.\n",
      "  warnings.warn(msg, DataConversionWarning)\n",
      "/home/salm/anaconda2/lib/python2.7/site-packages/sklearn/utils/validation.py:420: DataConversionWarning: Data with input dtype int64 was converted to float64 by StandardScaler.\n",
      "  warnings.warn(msg, DataConversionWarning)\n",
      "/home/salm/anaconda2/lib/python2.7/site-packages/sklearn/utils/validation.py:420: DataConversionWarning: Data with input dtype int64 was converted to float64 by StandardScaler.\n",
      "  warnings.warn(msg, DataConversionWarning)\n",
      "/home/salm/anaconda2/lib/python2.7/site-packages/sklearn/utils/validation.py:420: DataConversionWarning: Data with input dtype int64 was converted to float64 by StandardScaler.\n",
      "  warnings.warn(msg, DataConversionWarning)\n",
      "/home/salm/anaconda2/lib/python2.7/site-packages/sklearn/utils/validation.py:420: DataConversionWarning: Data with input dtype int64 was converted to float64 by StandardScaler.\n",
      "  warnings.warn(msg, DataConversionWarning)\n",
      "/home/salm/anaconda2/lib/python2.7/site-packages/sklearn/utils/validation.py:420: DataConversionWarning: Data with input dtype int64 was converted to float64 by StandardScaler.\n",
      "  warnings.warn(msg, DataConversionWarning)\n",
      "/home/salm/anaconda2/lib/python2.7/site-packages/sklearn/utils/validation.py:420: DataConversionWarning: Data with input dtype int64 was converted to float64 by StandardScaler.\n",
      "  warnings.warn(msg, DataConversionWarning)\n",
      "/home/salm/anaconda2/lib/python2.7/site-packages/sklearn/utils/validation.py:420: DataConversionWarning: Data with input dtype int64 was converted to float64 by StandardScaler.\n",
      "  warnings.warn(msg, DataConversionWarning)\n",
      "/home/salm/anaconda2/lib/python2.7/site-packages/sklearn/utils/validation.py:420: DataConversionWarning: Data with input dtype int64 was converted to float64 by StandardScaler.\n",
      "  warnings.warn(msg, DataConversionWarning)\n",
      "/home/salm/anaconda2/lib/python2.7/site-packages/sklearn/utils/validation.py:420: DataConversionWarning: Data with input dtype int64 was converted to float64 by StandardScaler.\n",
      "  warnings.warn(msg, DataConversionWarning)\n",
      "/home/salm/anaconda2/lib/python2.7/site-packages/sklearn/utils/validation.py:420: DataConversionWarning: Data with input dtype int64 was converted to float64 by StandardScaler.\n",
      "  warnings.warn(msg, DataConversionWarning)\n",
      "/home/salm/anaconda2/lib/python2.7/site-packages/sklearn/utils/validation.py:420: DataConversionWarning: Data with input dtype int64 was converted to float64 by StandardScaler.\n",
      "  warnings.warn(msg, DataConversionWarning)\n"
     ]
    }
   ],
   "source": [
    "# Use Pipeline\n",
    "# ANOVA \n",
    "from sklearn.pipeline import Pipeline\n",
    "from sklearn.feature_selection import SelectKBest, f_regression\n",
    "anova_filter = SelectKBest(f_regression, k=7)\n",
    "LRR = KernelRidge(kernel='rbf', gamma=0.052, alpha =  0.0216)\n",
    "anova_LinReg = Pipeline([('scaler_Input',scaler), ('anova', anova_filter), ('LinReg', LRR)])\n",
    "# You can set the parameters using the names issued\n",
    "# For instance, fit using a k of 10 in the SelectKBest\n",
    "anova_LinReg.set_params(anova__k=7).fit(new_data, Y)\n",
    "prediction = anova_LinReg.predict(new_data)\n",
    "print anova_LinReg.score(new_data, Y)                        \n",
    "# getting the selected features chosen by anova_filter\n",
    "results = cross_validation.cross_val_score(anova_LinReg, new_data, Y, cv=kfold, scoring=scoring)\n",
    "print 'Scoring according to mean_squared_error'\n",
    "print results\n",
    "print '\\n Mean      Standard deviation'\n",
    "print(\"%.2f      %.2f\" % (results.mean(), results.std()))\n",
    "print anova_LinReg.named_steps['anova'].get_support()\n",
    "r_squared = r2_score(Y, prediction, multioutput='variance_weighted')\n",
    "print 'R-squared = ',r_squared"
   ]
  },
  {
   "cell_type": "code",
   "execution_count": 26,
   "metadata": {
    "collapsed": false
   },
   "outputs": [
    {
     "name": "stdout",
     "output_type": "stream",
     "text": [
      "R-squared =  0.999437111814\n"
     ]
    },
    {
     "name": "stderr",
     "output_type": "stream",
     "text": [
      "/home/salm/anaconda2/lib/python2.7/site-packages/sklearn/utils/validation.py:420: DataConversionWarning: Data with input dtype int64 was converted to float64 by StandardScaler.\n",
      "  warnings.warn(msg, DataConversionWarning)\n",
      "/home/salm/anaconda2/lib/python2.7/site-packages/sklearn/utils/validation.py:420: DataConversionWarning: Data with input dtype int64 was converted to float64 by StandardScaler.\n",
      "  warnings.warn(msg, DataConversionWarning)\n",
      "/home/salm/anaconda2/lib/python2.7/site-packages/sklearn/utils/validation.py:420: DataConversionWarning: Data with input dtype int64 was converted to float64 by StandardScaler.\n",
      "  warnings.warn(msg, DataConversionWarning)\n"
     ]
    }
   ],
   "source": [
    "# Using make_pipeline\n",
    "from sklearn.pipeline import make_pipeline\n",
    "\n",
    "# ANOVA SVM-C\n",
    "# 1) anova filter, take 3 best ranked features\n",
    "anova_filter = SelectKBest(f_regression, k=7)\n",
    "anova_KernelRidge = make_pipeline(scaler, anova_filter, LRR)\n",
    "anova_KernelRidge.fit(new_data, Y)\n",
    "prediction = anova_KernelRidge.predict(new_data)\n",
    "r_squared = r2_score(Y, prediction, multioutput='variance_weighted')\n",
    "print 'R-squared = ',r_squared"
   ]
  },
  {
   "cell_type": "markdown",
   "metadata": {},
   "source": [
    "### Save the Pipeline model for developement"
   ]
  },
  {
   "cell_type": "code",
   "execution_count": 27,
   "metadata": {
    "collapsed": false
   },
   "outputs": [
    {
     "data": {
      "text/plain": [
       "['anova_KernelRidge.pkl',\n",
       " 'anova_KernelRidge.pkl_01.npy',\n",
       " 'anova_KernelRidge.pkl_02.npy',\n",
       " 'anova_KernelRidge.pkl_03.npy',\n",
       " 'anova_KernelRidge.pkl_04.npy',\n",
       " 'anova_KernelRidge.pkl_05.npy',\n",
       " 'anova_KernelRidge.pkl_06.npy',\n",
       " 'anova_KernelRidge.pkl_07.npy']"
      ]
     },
     "execution_count": 27,
     "metadata": {},
     "output_type": "execute_result"
    }
   ],
   "source": [
    "# save the model scaler to the desk\n",
    "from sklearn.externals import joblib\n",
    "joblib.dump(anova_KernelRidge, 'anova_KernelRidge.pkl') "
   ]
  },
  {
   "cell_type": "code",
   "execution_count": 28,
   "metadata": {
    "collapsed": false
   },
   "outputs": [
    {
     "name": "stdout",
     "output_type": "stream",
     "text": [
      " =================================================================>>>>> done\n",
      "R-squared =  0.999437111814\n"
     ]
    },
    {
     "name": "stderr",
     "output_type": "stream",
     "text": [
      "/home/salm/anaconda2/lib/python2.7/site-packages/sklearn/utils/validation.py:420: DataConversionWarning: Data with input dtype int64 was converted to float64 by StandardScaler.\n",
      "  warnings.warn(msg, DataConversionWarning)\n"
     ]
    }
   ],
   "source": [
    "# Test the model if it is work\n",
    "anova_KernelRidgeTest = joblib.load('anova_KernelRidge.pkl')\n",
    "NewPred = anova_KernelRidgeTest.predict(new_data)\n",
    "print \" =================================================================>>>>> done\"\n",
    "r_squared = r2_score(Y, NewPred, multioutput='variance_weighted')\n",
    "print 'R-squared = ',r_squared"
   ]
  },
  {
   "cell_type": "code",
   "execution_count": 29,
   "metadata": {
    "collapsed": false
   },
   "outputs": [
    {
     "name": "stdout",
     "output_type": "stream",
     "text": [
      "Point of training data before normalization\n",
      "[   50  2000 32000    24     6    26   114]\n",
      "\n",
      "The read target of the data =  182\n",
      "\n",
      "The Predicted target of the data =  [ 174.42149835]\n"
     ]
    }
   ],
   "source": [
    "# test on single data point, randomly choose point number 55\n",
    "print 'Point of training data before normalization\\n',new_data[55]\n",
    "print '\\nThe read target of the data = ', Y[55]\n",
    "NewPred = anova_KernelRidgeTest.predict([new_data[55]])\n",
    "print '\\nThe Predicted target of the data = ', NewPred"
   ]
  },
  {
   "cell_type": "markdown",
   "metadata": {},
   "source": [
    "## Conclusion "
   ]
  }
 ],
 "metadata": {
  "kernelspec": {
   "display_name": "Python 2",
   "language": "python",
   "name": "python2"
  },
  "language_info": {
   "codemirror_mode": {
    "name": "ipython",
    "version": 2
   },
   "file_extension": ".py",
   "mimetype": "text/x-python",
   "name": "python",
   "nbconvert_exporter": "python",
   "pygments_lexer": "ipython2",
   "version": "2.7.12"
  }
 },
 "nbformat": 4,
 "nbformat_minor": 0
}
