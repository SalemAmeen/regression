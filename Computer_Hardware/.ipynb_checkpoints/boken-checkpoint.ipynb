{
 "cells": [
  {
   "cell_type": "markdown",
   "metadata": {},
   "source": [
    "https://github.com/bokeh/bokeh/blob/master/examples/plotting/notebook/glyphs.ipynb"
   ]
  },
  {
   "cell_type": "code",
   "execution_count": 4,
   "metadata": {
    "collapsed": false
   },
   "outputs": [
    {
     "data": {
      "text/html": [
       "\n",
       "    <div class=\"bk-root\">\n",
       "        <a href=\"http://bokeh.pydata.org\" target=\"_blank\" class=\"bk-logo bk-logo-small bk-logo-notebook\"></a>\n",
       "        <span id=\"f3bf3629-41a0-4069-8639-6840c997fd20\">Loading BokehJS ...</span>\n",
       "    </div>"
      ]
     },
     "metadata": {},
     "output_type": "display_data"
    },
    {
     "data": {
      "application/javascript": [
       "\n",
       "(function(global) {\n",
       "  function now() {\n",
       "    return new Date();\n",
       "  }\n",
       "\n",
       "  if (typeof (window._bokeh_onload_callbacks) === \"undefined\") {\n",
       "    window._bokeh_onload_callbacks = [];\n",
       "  }\n",
       "\n",
       "  function run_callbacks() {\n",
       "    window._bokeh_onload_callbacks.forEach(function(callback) { callback() });\n",
       "    delete window._bokeh_onload_callbacks\n",
       "    console.info(\"Bokeh: all callbacks have finished\");\n",
       "  }\n",
       "\n",
       "  function load_libs(js_urls, callback) {\n",
       "    window._bokeh_onload_callbacks.push(callback);\n",
       "    if (window._bokeh_is_loading > 0) {\n",
       "      console.log(\"Bokeh: BokehJS is being loaded, scheduling callback at\", now());\n",
       "      return null;\n",
       "    }\n",
       "    if (js_urls == null || js_urls.length === 0) {\n",
       "      run_callbacks();\n",
       "      return null;\n",
       "    }\n",
       "    console.log(\"Bokeh: BokehJS not loaded, scheduling load and callback at\", now());\n",
       "    window._bokeh_is_loading = js_urls.length;\n",
       "    for (var i = 0; i < js_urls.length; i++) {\n",
       "      var url = js_urls[i];\n",
       "      var s = document.createElement('script');\n",
       "      s.src = url;\n",
       "      s.async = false;\n",
       "      s.onreadystatechange = s.onload = function() {\n",
       "        window._bokeh_is_loading--;\n",
       "        if (window._bokeh_is_loading === 0) {\n",
       "          console.log(\"Bokeh: all BokehJS libraries loaded\");\n",
       "          run_callbacks()\n",
       "        }\n",
       "      };\n",
       "      s.onerror = function() {\n",
       "        console.warn(\"failed to load library \" + url);\n",
       "      };\n",
       "      console.log(\"Bokeh: injecting script tag for BokehJS library: \", url);\n",
       "      document.getElementsByTagName(\"head\")[0].appendChild(s);\n",
       "    }\n",
       "  };\n",
       "\n",
       "  var js_urls = ['https://cdn.pydata.org/bokeh/release/bokeh-0.12.0.min.js', 'https://cdn.pydata.org/bokeh/release/bokeh-widgets-0.12.0.min.js', 'https://cdn.pydata.org/bokeh/release/bokeh-compiler-0.12.0.min.js'];\n",
       "\n",
       "  var inline_js = [\n",
       "    function(Bokeh) {\n",
       "      Bokeh.set_log_level(\"info\");\n",
       "    },\n",
       "    \n",
       "    function(Bokeh) {\n",
       "      Bokeh.$(\"#f3bf3629-41a0-4069-8639-6840c997fd20\").text(\"BokehJS successfully loaded\");\n",
       "    },\n",
       "    function(Bokeh) {\n",
       "      console.log(\"Bokeh: injecting CSS: https://cdn.pydata.org/bokeh/release/bokeh-0.12.0.min.css\");\n",
       "      Bokeh.embed.inject_css(\"https://cdn.pydata.org/bokeh/release/bokeh-0.12.0.min.css\");\n",
       "      console.log(\"Bokeh: injecting CSS: https://cdn.pydata.org/bokeh/release/bokeh-widgets-0.12.0.min.css\");\n",
       "      Bokeh.embed.inject_css(\"https://cdn.pydata.org/bokeh/release/bokeh-widgets-0.12.0.min.css\");\n",
       "    }\n",
       "  ];\n",
       "\n",
       "  function run_inline_js() {\n",
       "    for (var i = 0; i < inline_js.length; i++) {\n",
       "      inline_js[i](window.Bokeh);\n",
       "    }\n",
       "  }\n",
       "\n",
       "  if (window._bokeh_is_loading === 0) {\n",
       "    console.log(\"Bokeh: BokehJS loaded, going straight to plotting\");\n",
       "    run_inline_js();\n",
       "  } else {\n",
       "    load_libs(js_urls, function() {\n",
       "      console.log(\"Bokeh: BokehJS plotting callback run at\", now());\n",
       "      run_inline_js();\n",
       "    });\n",
       "  }\n",
       "}(this));"
      ]
     },
     "metadata": {},
     "output_type": "display_data"
    }
   ],
   "source": [
    "import numpy as np\n",
    "from bokeh.plotting import figure, show, output_notebook\n",
    "from bokeh.layouts import gridplot\n",
    "output_notebook()"
   ]
  },
  {
   "cell_type": "code",
   "execution_count": 5,
   "metadata": {
    "collapsed": true
   },
   "outputs": [],
   "source": [
    "N = 9\n",
    "x = np.linspace(-2, 2, N)\n",
    "y = x**2\n",
    "sizes = np.linspace(10, 20, N)\n",
    "xpts = np.array([-.09, -.12, .0, .12, .09])\n",
    "ypts = np.array([-.1, .02, .1, .02, -.1])\n",
    "figures = []\n"
   ]
  },
  {
   "cell_type": "code",
   "execution_count": 6,
   "metadata": {
    "collapsed": true
   },
   "outputs": [],
   "source": [
    "p = figure(title=\"annular_wedge\")\n",
    "p.annular_wedge(x, y, 10, 20, 0.6, 4.1, color=\"#8888ee\",\n",
    "    inner_radius_units=\"screen\", outer_radius_units=\"screen\")\n",
    "figures.append(p)"
   ]
  },
  {
   "cell_type": "code",
   "execution_count": 7,
   "metadata": {
    "collapsed": true
   },
   "outputs": [],
   "source": [
    "p = figure(title=\"annulus\")\n",
    "p.annulus(x, y, 10, 20, color=\"#7FC97F\",\n",
    "    inner_radius_units=\"screen\", outer_radius_units = \"screen\")\n",
    "figures.append(p)"
   ]
  },
  {
   "cell_type": "code",
   "execution_count": 8,
   "metadata": {
    "collapsed": true
   },
   "outputs": [],
   "source": [
    "p = figure(title=\"arc\")\n",
    "p.arc(x, y, 20, 0.6, 4.1,\n",
    "    radius_units=\"screen\", color=\"#BEAED4\", line_width=3)\n",
    "figures.append(p)"
   ]
  },
  {
   "cell_type": "code",
   "execution_count": 9,
   "metadata": {
    "collapsed": true
   },
   "outputs": [],
   "source": [
    "p = figure(title=\"bezier\")\n",
    "p.bezier(x, y, x+0.2, y, x+0.1, y+0.1, x-0.1, y-0.1,\n",
    "    color=\"#D95F02\", line_width=2)\n",
    "figures.append(p)"
   ]
  },
  {
   "cell_type": "code",
   "execution_count": 10,
   "metadata": {
    "collapsed": true
   },
   "outputs": [],
   "source": [
    "p = figure(title=\"circle\")\n",
    "p.circle(x, y, radius=0.1, color=\"#3288BD\")\n",
    "figures.append(p)"
   ]
  },
  {
   "cell_type": "code",
   "execution_count": 11,
   "metadata": {
    "collapsed": true
   },
   "outputs": [],
   "source": [
    "p = figure(title=\"ellipse\")\n",
    "p.ellipse(x, y, 15, 25, angle=-0.7, color=\"#1D91C0\",\n",
    "    width_units=\"screen\", height_units=\"screen\")\n",
    "figures.append(p)"
   ]
  },
  {
   "cell_type": "code",
   "execution_count": 12,
   "metadata": {
    "collapsed": true
   },
   "outputs": [],
   "source": [
    "p = figure(title=\"line\")\n",
    "p.line(x, y, color=\"#F46D43\")\n",
    "figures.append(p)"
   ]
  },
  {
   "cell_type": "code",
   "execution_count": 13,
   "metadata": {
    "collapsed": true
   },
   "outputs": [],
   "source": [
    "p = figure(title=\"multi_line\")\n",
    "p.multi_line([xpts+xx for xx in x], [ypts+yy for yy in y], color=\"#8073AC\", line_width=2)\n",
    "figures.append(p)"
   ]
  },
  {
   "cell_type": "code",
   "execution_count": null,
   "metadata": {
    "collapsed": true
   },
   "outputs": [],
   "source": [
    "p = figure(title=\"oval\")\n",
    "p.oval(x, y, 15, 25, angle=-0.7, color=\"#1D91C0\", \n",
    "    width_units=\"screen\", height_units=\"screen\")\n",
    "figures.append(p)"
   ]
  },
  {
   "cell_type": "code",
   "execution_count": null,
   "metadata": {
    "collapsed": true
   },
   "outputs": [],
   "source": [
    "p = figure(title=\"patch\")\n",
    "p.patch(x, y, color=\"#A6CEE3\")\n",
    "figures.append(p)"
   ]
  },
  {
   "cell_type": "code",
   "execution_count": null,
   "metadata": {
    "collapsed": true
   },
   "outputs": [],
   "source": [
    "p = figure(title=\"patches\")\n",
    "p.patches([xpts+xx for xx in x], [ypts+yy for yy in y], color=\"#FB9A99\")\n",
    "figures.append(p)"
   ]
  },
  {
   "cell_type": "code",
   "execution_count": null,
   "metadata": {
    "collapsed": true
   },
   "outputs": [],
   "source": [
    "p = figure(title=\"quad\")\n",
    "p.quad(x, x-0.1, y, y-0.1, color=\"#B3DE69\")\n",
    "figures.append(p)"
   ]
  },
  {
   "cell_type": "code",
   "execution_count": null,
   "metadata": {
    "collapsed": true
   },
   "outputs": [],
   "source": [
    "p = figure(title=\"quadratic\")\n",
    "p.quadratic(x, y, x+0.2, y, x+0.1, y+0.1, color=\"#4DAF4A\", line_width=3)\n",
    "figures.append(p)"
   ]
  },
  {
   "cell_type": "code",
   "execution_count": null,
   "metadata": {
    "collapsed": true
   },
   "outputs": [],
   "source": [
    "p = figure(title=\"ray\")\n",
    "p.ray(x, y, 45, -0.7, color=\"#FB8072\", line_width=2)\n",
    "figures.append(p)"
   ]
  },
  {
   "cell_type": "code",
   "execution_count": null,
   "metadata": {
    "collapsed": true
   },
   "outputs": [],
   "source": [
    "p = figure(title=\"rect\")\n",
    "p.rect(x, y, 10, 20, color=\"#CAB2D6\", width_units=\"screen\", height_units=\"screen\")\n",
    "figures.append(p)"
   ]
  },
  {
   "cell_type": "code",
   "execution_count": null,
   "metadata": {
    "collapsed": true
   },
   "outputs": [],
   "source": [
    "p = figure(title=\"segment\")\n",
    "p.segment(x, y, x-0.1, y-0.1, color=\"#F4A582\", line_width=3)\n",
    "figures.append(p)"
   ]
  },
  {
   "cell_type": "code",
   "execution_count": null,
   "metadata": {
    "collapsed": true
   },
   "outputs": [],
   "source": [
    "p = figure(title=\"square\")\n",
    "p.square(x, y, size=sizes, color=\"#74ADD1\")\n",
    "figures.append(p)"
   ]
  },
  {
   "cell_type": "code",
   "execution_count": null,
   "metadata": {
    "collapsed": true
   },
   "outputs": [],
   "source": [
    "p = figure(title=\"wedge\")\n",
    "p.wedge(x, y, 15, 0.6, 4.1, radius_units=\"screen\", color=\"#B3DE69\")\n",
    "figures.append(p)"
   ]
  },
  {
   "cell_type": "code",
   "execution_count": null,
   "metadata": {
    "collapsed": true
   },
   "outputs": [],
   "source": [
    "p = figure(title=\"circle_x\")\n",
    "p.scatter(x, y, marker=\"circle_x\", size=sizes, color=\"#DD1C77\", fill_color=None)\n",
    "figures.append(p)"
   ]
  },
  {
   "cell_type": "code",
   "execution_count": null,
   "metadata": {
    "collapsed": true
   },
   "outputs": [],
   "source": [
    "p = figure(title=\"triangle\")\n",
    "p.scatter(x, y, marker=\"triangle\", size=sizes, color=\"#99D594\", line_width=2)\n",
    "figures.append(p)"
   ]
  },
  {
   "cell_type": "code",
   "execution_count": null,
   "metadata": {
    "collapsed": true
   },
   "outputs": [],
   "source": [
    "p = figure(title=\"circle\")\n",
    "p.scatter(x, y, marker=\"o\", size=sizes, color=\"#80B1D3\", line_width=3)\n",
    "figures.append(p)"
   ]
  },
  {
   "cell_type": "code",
   "execution_count": null,
   "metadata": {
    "collapsed": true
   },
   "outputs": [],
   "source": [
    "p = figure(title=\"cross\")\n",
    "p.scatter(x, y, marker=\"cross\", size=sizes, color=\"#E6550D\", line_width=2)\n",
    "figures.append(p)"
   ]
  },
  {
   "cell_type": "code",
   "execution_count": null,
   "metadata": {
    "collapsed": true
   },
   "outputs": [],
   "source": [
    "p = figure(title=\"diamond\")\n",
    "p.scatter(x, y, marker=\"diamond\", size=sizes, color=\"#1C9099\", line_width=2)\n",
    "figures.append(p)"
   ]
  },
  {
   "cell_type": "code",
   "execution_count": null,
   "metadata": {
    "collapsed": true
   },
   "outputs": [],
   "source": [
    "p = figure(title=\"inverted_triangle\")\n",
    "p.scatter(x, y, marker=\"inverted_triangle\", size=sizes, color=\"#DE2D26\")\n",
    "figures.append(p)"
   ]
  },
  {
   "cell_type": "code",
   "execution_count": null,
   "metadata": {
    "collapsed": true
   },
   "outputs": [],
   "source": [
    "p = figure(title=\"square_x\")\n",
    "p.scatter(x, y, marker=\"square_x\", size=sizes, color=\"#FDAE6B\",\n",
    "    fill_color=None, line_width=2)\n",
    "figures.append(p)"
   ]
  },
  {
   "cell_type": "code",
   "execution_count": null,
   "metadata": {
    "collapsed": true
   },
   "outputs": [],
   "source": [
    "p = figure(title=\"asterisk\")\n",
    "p.scatter(x, y, marker=\"asterisk\", size=sizes, color=\"#F0027F\", \n",
    "    line_width=2)\n",
    "figures.append(p)"
   ]
  },
  {
   "cell_type": "code",
   "execution_count": null,
   "metadata": {
    "collapsed": true
   },
   "outputs": [],
   "source": [
    "p = figure(title=\"square_cross\")\n",
    "p.scatter(x, y, marker=\"square_cross\", size=sizes, color=\"#7FC97F\",\n",
    "    fill_color=None, line_width=2)\n",
    "figures.append(p)"
   ]
  },
  {
   "cell_type": "code",
   "execution_count": null,
   "metadata": {
    "collapsed": true
   },
   "outputs": [],
   "source": [
    "p = figure(title=\"diamond_cross\")\n",
    "p.scatter(x, y, marker=\"diamond_cross\", size=sizes, color=\"#386CB0\",\n",
    "    fill_color=None, line_width=2)\n",
    "figures.append(p)"
   ]
  },
  {
   "cell_type": "code",
   "execution_count": null,
   "metadata": {
    "collapsed": true
   },
   "outputs": [],
   "source": [
    "p = figure(title=\"circle_cross\")\n",
    "p.scatter(x, y, marker=\"circle_cross\", size=sizes, color=\"#FB8072\",\n",
    "    fill_color=None, line_width=2)\n",
    "figures.append(p)"
   ]
  },
  {
   "cell_type": "code",
   "execution_count": 14,
   "metadata": {
    "collapsed": false
   },
   "outputs": [
    {
     "data": {
      "text/html": [
       "\n",
       "\n",
       "    <div class=\"bk-root\">\n",
       "        <div class=\"plotdiv\" id=\"897e8d56-c5ad-484a-867c-a1c797377e8d\"></div>\n",
       "    </div>\n",
       "<script type=\"text/javascript\">\n",
       "  \n",
       "  (function(global) {\n",
       "    function now() {\n",
       "      return new Date();\n",
       "    }\n",
       "  \n",
       "    if (typeof (window._bokeh_onload_callbacks) === \"undefined\") {\n",
       "      window._bokeh_onload_callbacks = [];\n",
       "    }\n",
       "  \n",
       "    function run_callbacks() {\n",
       "      window._bokeh_onload_callbacks.forEach(function(callback) { callback() });\n",
       "      delete window._bokeh_onload_callbacks\n",
       "      console.info(\"Bokeh: all callbacks have finished\");\n",
       "    }\n",
       "  \n",
       "    function load_libs(js_urls, callback) {\n",
       "      window._bokeh_onload_callbacks.push(callback);\n",
       "      if (window._bokeh_is_loading > 0) {\n",
       "        console.log(\"Bokeh: BokehJS is being loaded, scheduling callback at\", now());\n",
       "        return null;\n",
       "      }\n",
       "      if (js_urls == null || js_urls.length === 0) {\n",
       "        run_callbacks();\n",
       "        return null;\n",
       "      }\n",
       "      console.log(\"Bokeh: BokehJS not loaded, scheduling load and callback at\", now());\n",
       "      window._bokeh_is_loading = js_urls.length;\n",
       "      for (var i = 0; i < js_urls.length; i++) {\n",
       "        var url = js_urls[i];\n",
       "        var s = document.createElement('script');\n",
       "        s.src = url;\n",
       "        s.async = false;\n",
       "        s.onreadystatechange = s.onload = function() {\n",
       "          window._bokeh_is_loading--;\n",
       "          if (window._bokeh_is_loading === 0) {\n",
       "            console.log(\"Bokeh: all BokehJS libraries loaded\");\n",
       "            run_callbacks()\n",
       "          }\n",
       "        };\n",
       "        s.onerror = function() {\n",
       "          console.warn(\"failed to load library \" + url);\n",
       "        };\n",
       "        console.log(\"Bokeh: injecting script tag for BokehJS library: \", url);\n",
       "        document.getElementsByTagName(\"head\")[0].appendChild(s);\n",
       "      }\n",
       "    };var element = document.getElementById(\"897e8d56-c5ad-484a-867c-a1c797377e8d\");\n",
       "    if (element == null) {\n",
       "      console.log(\"Bokeh: ERROR: autoload.js configured with elementid '897e8d56-c5ad-484a-867c-a1c797377e8d' but no matching script tag was found. \")\n",
       "      return false;\n",
       "    }\n",
       "  \n",
       "    var js_urls = [];\n",
       "  \n",
       "    var inline_js = [\n",
       "      function(Bokeh) {\n",
       "        Bokeh.$(function() {\n",
       "            var docs_json = {\"f3b286e0-38d4-441d-a495-0515f8852ed3\":{\"roots\":{\"references\":[{\"attributes\":{\"callback\":null},\"id\":\"7a608cee-b666-445b-bca3-85fba4915515\",\"type\":\"DataRange1d\"},{\"attributes\":{},\"id\":\"779a8c7c-abe9-45f6-8f72-eda8609e4d2f\",\"type\":\"BasicTickFormatter\"},{\"attributes\":{\"plot\":{\"id\":\"56210502-35e5-433d-99d6-1076c1d7a765\",\"subtype\":\"Figure\",\"type\":\"Plot\"}},\"id\":\"67ae70c6-7c08-4fe9-bed3-1f1bf2d67776\",\"type\":\"PanTool\"},{\"attributes\":{\"data_source\":{\"id\":\"062470a6-9db5-4074-a6fa-7c34ad7353ef\",\"type\":\"ColumnDataSource\"},\"glyph\":{\"id\":\"4dcaee26-b2ae-487b-8992-22aa5186a149\",\"type\":\"Bezier\"},\"hover_glyph\":null,\"nonselection_glyph\":{\"id\":\"bda72ecd-ae82-435b-a9af-ce6055f4a33b\",\"type\":\"Bezier\"},\"selection_glyph\":null},\"id\":\"ae5accbb-3e04-47ee-8f2f-b251358769a2\",\"type\":\"GlyphRenderer\"},{\"attributes\":{\"formatter\":{\"id\":\"0d1faa7e-fb3e-40b7-8de0-4c367d1c7ced\",\"type\":\"BasicTickFormatter\"},\"plot\":{\"id\":\"fa50c9a9-85f2-4d7b-9f9a-2e84e87f22eb\",\"subtype\":\"Figure\",\"type\":\"Plot\"},\"ticker\":{\"id\":\"627740ab-abb9-4649-b01c-3583d425fa23\",\"type\":\"BasicTicker\"}},\"id\":\"5e01c153-e2ea-431a-b79f-bda0c760e153\",\"type\":\"LinearAxis\"},{\"attributes\":{},\"id\":\"7748c9e8-9c8f-4607-a317-7056865af9e8\",\"type\":\"BasicTicker\"},{\"attributes\":{},\"id\":\"7c64674d-a169-4d83-8a0c-a996c33ce67d\",\"type\":\"BasicTicker\"},{\"attributes\":{\"dimension\":1,\"plot\":{\"id\":\"485e47f4-02ad-4424-813f-3c93c2aebea4\",\"subtype\":\"Figure\",\"type\":\"Plot\"},\"ticker\":{\"id\":\"33b4f4bb-66c0-47b6-b64c-5f604e2a4cf9\",\"type\":\"BasicTicker\"}},\"id\":\"3e02170f-0771-43af-8b66-762b3a474d07\",\"type\":\"Grid\"},{\"attributes\":{\"callback\":null,\"column_names\":[\"y\",\"x\"],\"data\":{\"x\":[-2.0,-1.5,-1.0,-0.5,0.0,0.5,1.0,1.5,2.0],\"y\":[4.0,2.25,1.0,0.25,0.0,0.25,1.0,2.25,4.0]}},\"id\":\"393046eb-e575-4cf7-8f64-d1380fc0b128\",\"type\":\"ColumnDataSource\"},{\"attributes\":{\"plot\":{\"id\":\"9d599e10-16e4-45c9-8df6-d54284f42a21\",\"subtype\":\"Figure\",\"type\":\"Plot\"}},\"id\":\"f98e573d-b11a-40b1-93d3-220a3f649b48\",\"type\":\"SaveTool\"},{\"attributes\":{\"plot\":{\"id\":\"4fb1fe88-24e7-4bc7-8ce5-a0cb5ba0add9\",\"subtype\":\"Figure\",\"type\":\"Plot\"}},\"id\":\"87ac49b4-97c0-4d97-b3e9-3db4598a88e4\",\"type\":\"PanTool\"},{\"attributes\":{\"plot\":{\"id\":\"39bd5d42-4f82-4b58-bfaf-0f9e38c9366e\",\"subtype\":\"Figure\",\"type\":\"Plot\"}},\"id\":\"92708e5a-51a2-43c5-92ac-ab839fea6c66\",\"type\":\"SaveTool\"},{\"attributes\":{\"callback\":null},\"id\":\"04997d95-d14d-423f-b84d-8a33cee2e072\",\"type\":\"DataRange1d\"},{\"attributes\":{\"line_alpha\":{\"value\":0.1},\"line_color\":{\"value\":\"#1f77b4\"},\"line_width\":{\"value\":2},\"xs\":{\"field\":\"xs\"},\"ys\":{\"field\":\"ys\"}},\"id\":\"475e9395-a9e3-49df-88e7-b6291f829822\",\"type\":\"MultiLine\"},{\"attributes\":{\"formatter\":{\"id\":\"813b17e2-6099-4374-abd8-fcf2c6489e1f\",\"type\":\"BasicTickFormatter\"},\"plot\":{\"id\":\"39bd5d42-4f82-4b58-bfaf-0f9e38c9366e\",\"subtype\":\"Figure\",\"type\":\"Plot\"},\"ticker\":{\"id\":\"c049b7be-d159-4b0b-967b-d543ae512094\",\"type\":\"BasicTicker\"}},\"id\":\"1ac50154-3ea0-4b02-a8b8-cc2fdbc3d510\",\"type\":\"LinearAxis\"},{\"attributes\":{\"children\":[{\"id\":\"5902f611-c963-402a-8a9d-f4cd70e18e0e\",\"type\":\"Row\"},{\"id\":\"9c4b9c5f-11c8-434b-86c9-a8b4a61634a1\",\"type\":\"Row\"},{\"id\":\"03728594-f6cb-4fb1-96a4-500b04a9b7dd\",\"type\":\"Row\"}]},\"id\":\"5ec43798-88e1-4e88-b5c4-47aa904be72e\",\"type\":\"Column\"},{\"attributes\":{\"dimension\":1,\"plot\":{\"id\":\"56210502-35e5-433d-99d6-1076c1d7a765\",\"subtype\":\"Figure\",\"type\":\"Plot\"},\"ticker\":{\"id\":\"60ad2d9d-4474-4307-b6c0-65788b855257\",\"type\":\"BasicTicker\"}},\"id\":\"28bde101-c839-40a1-b270-9b731e67d25e\",\"type\":\"Grid\"},{\"attributes\":{},\"id\":\"882a313a-d196-4c78-92d8-1eabe6a087cf\",\"type\":\"ToolEvents\"},{\"attributes\":{\"plot\":{\"id\":\"56210502-35e5-433d-99d6-1076c1d7a765\",\"subtype\":\"Figure\",\"type\":\"Plot\"}},\"id\":\"1fafa288-bc9e-4002-9c83-c5ab3e10da7d\",\"type\":\"ResetTool\"},{\"attributes\":{\"plot\":{\"id\":\"39bd5d42-4f82-4b58-bfaf-0f9e38c9366e\",\"subtype\":\"Figure\",\"type\":\"Plot\"}},\"id\":\"e43c9a96-0e30-43cb-9021-922a4460cf74\",\"type\":\"ResetTool\"},{\"attributes\":{\"active_drag\":\"auto\",\"active_scroll\":\"auto\",\"active_tap\":\"auto\",\"tools\":[{\"id\":\"db8a1d7b-aef6-4eae-8170-8a288b2385dc\",\"type\":\"PanTool\"},{\"id\":\"73aae8e0-1dee-40f3-a292-1b47e000ee6e\",\"type\":\"WheelZoomTool\"},{\"id\":\"06a19e33-4bea-4502-abbb-99a018452ab2\",\"type\":\"BoxZoomTool\"},{\"id\":\"92708e5a-51a2-43c5-92ac-ab839fea6c66\",\"type\":\"SaveTool\"},{\"id\":\"e43c9a96-0e30-43cb-9021-922a4460cf74\",\"type\":\"ResetTool\"},{\"id\":\"14d556d7-3bb8-413b-9627-0f3b99ef3a82\",\"type\":\"HelpTool\"}]},\"id\":\"c3e2f3c1-79a0-495e-931f-766dc8ca62c9\",\"type\":\"Toolbar\"},{\"attributes\":{\"overlay\":{\"id\":\"b7e5ce2e-ab74-4421-b8d7-13dc8aad6b93\",\"type\":\"BoxAnnotation\"},\"plot\":{\"id\":\"56210502-35e5-433d-99d6-1076c1d7a765\",\"subtype\":\"Figure\",\"type\":\"Plot\"}},\"id\":\"583f54fd-8494-4d5c-9f08-7f65fddf1c6a\",\"type\":\"BoxZoomTool\"},{\"attributes\":{\"plot\":null,\"text\":\"circle\"},\"id\":\"a3a7f6d4-3066-436a-8ecc-2c7856cae6d8\",\"type\":\"Title\"},{\"attributes\":{\"active_drag\":\"auto\",\"active_scroll\":\"auto\",\"active_tap\":\"auto\",\"tools\":[{\"id\":\"887e18ef-6bbc-4c11-b522-d0c9f489bd27\",\"type\":\"PanTool\"},{\"id\":\"b9d8528a-6cbe-4a26-bb22-3eff9d49be2a\",\"type\":\"WheelZoomTool\"},{\"id\":\"f931780a-7f4f-4f5f-9050-bddf0ebe7bef\",\"type\":\"BoxZoomTool\"},{\"id\":\"f98e573d-b11a-40b1-93d3-220a3f649b48\",\"type\":\"SaveTool\"},{\"id\":\"9644efe0-0b36-4f50-a025-31f6b76de8d2\",\"type\":\"ResetTool\"},{\"id\":\"49eeae45-05c0-41b4-8c5e-1f6864a078d4\",\"type\":\"HelpTool\"}]},\"id\":\"3f33a031-3ce3-4940-9d3a-fd8e4ceb1508\",\"type\":\"Toolbar\"},{\"attributes\":{\"formatter\":{\"id\":\"5275d9f4-5090-4634-b45a-ad6fcb1881fe\",\"type\":\"BasicTickFormatter\"},\"plot\":{\"id\":\"9d599e10-16e4-45c9-8df6-d54284f42a21\",\"subtype\":\"Figure\",\"type\":\"Plot\"},\"ticker\":{\"id\":\"cb012157-c232-4b86-8403-ebe3dcddb93a\",\"type\":\"BasicTicker\"}},\"id\":\"90d0ea3a-63b4-407d-83fe-24bd9f7c79e1\",\"type\":\"LinearAxis\"},{\"attributes\":{\"callback\":null},\"id\":\"29b5768c-70ac-4579-b9e1-17a2dda579f0\",\"type\":\"DataRange1d\"},{\"attributes\":{},\"id\":\"cb012157-c232-4b86-8403-ebe3dcddb93a\",\"type\":\"BasicTicker\"},{\"attributes\":{},\"id\":\"627740ab-abb9-4649-b01c-3583d425fa23\",\"type\":\"BasicTicker\"},{\"attributes\":{\"callback\":null,\"column_names\":[\"y\",\"x\"],\"data\":{\"x\":[-2.0,-1.5,-1.0,-0.5,0.0,0.5,1.0,1.5,2.0],\"y\":[4.0,2.25,1.0,0.25,0.0,0.25,1.0,2.25,4.0]}},\"id\":\"c8e9db9e-e60f-4ce1-bb6c-1655001b089e\",\"type\":\"ColumnDataSource\"},{\"attributes\":{\"plot\":{\"id\":\"39bd5d42-4f82-4b58-bfaf-0f9e38c9366e\",\"subtype\":\"Figure\",\"type\":\"Plot\"}},\"id\":\"db8a1d7b-aef6-4eae-8170-8a288b2385dc\",\"type\":\"PanTool\"},{\"attributes\":{\"formatter\":{\"id\":\"779a8c7c-abe9-45f6-8f72-eda8609e4d2f\",\"type\":\"BasicTickFormatter\"},\"plot\":{\"id\":\"4fb1fe88-24e7-4bc7-8ce5-a0cb5ba0add9\",\"subtype\":\"Figure\",\"type\":\"Plot\"},\"ticker\":{\"id\":\"56d15ea3-cff4-4e2b-8ed4-5afbda793492\",\"type\":\"BasicTicker\"}},\"id\":\"17eb5524-10f0-4529-91e9-5ae49fe13c71\",\"type\":\"LinearAxis\"},{\"attributes\":{\"plot\":{\"id\":\"5a28de21-d0d2-45bb-b697-a6eee73e2697\",\"subtype\":\"Figure\",\"type\":\"Plot\"}},\"id\":\"2bbf4272-a880-4d4e-9efe-b3b933428463\",\"type\":\"WheelZoomTool\"},{\"attributes\":{},\"id\":\"7c60562c-a9fb-4d29-ac08-0b5873188f93\",\"type\":\"BasicTickFormatter\"},{\"attributes\":{\"plot\":{\"id\":\"037fb05e-1150-4981-b5a2-8486bcf3f069\",\"subtype\":\"Figure\",\"type\":\"Plot\"},\"ticker\":{\"id\":\"f97d8f47-f0ab-4599-806c-acf7db4adab0\",\"type\":\"BasicTicker\"}},\"id\":\"885e2f5c-7636-40e0-8715-57aa74c55076\",\"type\":\"Grid\"},{\"attributes\":{\"data_source\":{\"id\":\"9eed1bf4-608a-4092-a9e8-10652bbd36fb\",\"type\":\"ColumnDataSource\"},\"glyph\":{\"id\":\"d59cd088-77fd-463f-ad07-a61738281565\",\"type\":\"Arc\"},\"hover_glyph\":null,\"nonselection_glyph\":{\"id\":\"028581f6-1f75-4303-a3fb-ccc819855c9f\",\"type\":\"Arc\"},\"selection_glyph\":null},\"id\":\"d944de67-9d08-425e-8dae-099e086da127\",\"type\":\"GlyphRenderer\"},{\"attributes\":{\"plot\":{\"id\":\"037fb05e-1150-4981-b5a2-8486bcf3f069\",\"subtype\":\"Figure\",\"type\":\"Plot\"}},\"id\":\"dd74304e-91d4-4df2-986f-2c9ee7fb0072\",\"type\":\"WheelZoomTool\"},{\"attributes\":{\"plot\":{\"id\":\"fa50c9a9-85f2-4d7b-9f9a-2e84e87f22eb\",\"subtype\":\"Figure\",\"type\":\"Plot\"},\"ticker\":{\"id\":\"627740ab-abb9-4649-b01c-3583d425fa23\",\"type\":\"BasicTicker\"}},\"id\":\"f5baaf3f-845c-42a9-aabc-40f1a8050294\",\"type\":\"Grid\"},{\"attributes\":{},\"id\":\"e0911a41-3758-4a44-aa55-9aaa2aa41dad\",\"type\":\"BasicTicker\"},{\"attributes\":{\"callback\":null},\"id\":\"d0e817d5-3aa6-4905-af53-cb5f5d6b057f\",\"type\":\"DataRange1d\"},{\"attributes\":{\"plot\":{\"id\":\"5a28de21-d0d2-45bb-b697-a6eee73e2697\",\"subtype\":\"Figure\",\"type\":\"Plot\"}},\"id\":\"29a6daa2-4ce6-48c9-b50f-82d90a53d6b0\",\"type\":\"SaveTool\"},{\"attributes\":{\"children\":[{\"id\":\"485e47f4-02ad-4424-813f-3c93c2aebea4\",\"subtype\":\"Figure\",\"type\":\"Plot\"},{\"id\":\"39bd5d42-4f82-4b58-bfaf-0f9e38c9366e\",\"subtype\":\"Figure\",\"type\":\"Plot\"},{\"id\":\"fa50c9a9-85f2-4d7b-9f9a-2e84e87f22eb\",\"subtype\":\"Figure\",\"type\":\"Plot\"}]},\"id\":\"5902f611-c963-402a-8a9d-f4cd70e18e0e\",\"type\":\"Row\"},{\"attributes\":{\"line_color\":{\"value\":\"#8073AC\"},\"line_width\":{\"value\":2},\"xs\":{\"field\":\"xs\"},\"ys\":{\"field\":\"ys\"}},\"id\":\"1599ce21-6f46-449b-9d44-00810b65f210\",\"type\":\"MultiLine\"},{\"attributes\":{\"callback\":null,\"column_names\":[\"y\",\"x\"],\"data\":{\"x\":[-2.0,-1.5,-1.0,-0.5,0.0,0.5,1.0,1.5,2.0],\"y\":[4.0,2.25,1.0,0.25,0.0,0.25,1.0,2.25,4.0]}},\"id\":\"0662ab1f-5e6f-48d4-9ff6-9e3bce2b873b\",\"type\":\"ColumnDataSource\"},{\"attributes\":{\"dimension\":1,\"plot\":{\"id\":\"9d599e10-16e4-45c9-8df6-d54284f42a21\",\"subtype\":\"Figure\",\"type\":\"Plot\"},\"ticker\":{\"id\":\"7748c9e8-9c8f-4607-a317-7056865af9e8\",\"type\":\"BasicTicker\"}},\"id\":\"b00a8b81-0a90-4592-a670-312bf1c48af5\",\"type\":\"Grid\"},{\"attributes\":{\"plot\":{\"id\":\"485e47f4-02ad-4424-813f-3c93c2aebea4\",\"subtype\":\"Figure\",\"type\":\"Plot\"}},\"id\":\"4c7f580e-121a-4e04-ac9c-a089dd796f96\",\"type\":\"PanTool\"},{\"attributes\":{},\"id\":\"63d9a8ad-591a-41a9-9933-eb0f8f7cf996\",\"type\":\"ToolEvents\"},{\"attributes\":{},\"id\":\"2b3a39b4-545c-4034-92e7-3479f7a5dba5\",\"type\":\"ToolEvents\"},{\"attributes\":{\"below\":[{\"id\":\"70de857c-4e59-451c-a990-e622a0d1b918\",\"type\":\"LinearAxis\"}],\"left\":[{\"id\":\"17eb5524-10f0-4529-91e9-5ae49fe13c71\",\"type\":\"LinearAxis\"}],\"plot_height\":200,\"plot_width\":200,\"renderers\":[{\"id\":\"70de857c-4e59-451c-a990-e622a0d1b918\",\"type\":\"LinearAxis\"},{\"id\":\"e942b624-193e-481c-a015-c971a6f9a3bf\",\"type\":\"Grid\"},{\"id\":\"17eb5524-10f0-4529-91e9-5ae49fe13c71\",\"type\":\"LinearAxis\"},{\"id\":\"015dfc71-0666-4c69-b1ea-8c11c510d36e\",\"type\":\"Grid\"},{\"id\":\"12bc8a3d-4703-4a11-a04b-faefcbf86ee5\",\"type\":\"BoxAnnotation\"},{\"id\":\"04c66cd4-991f-40ee-b892-d07310bfdda0\",\"type\":\"GlyphRenderer\"}],\"title\":{\"id\":\"b9fb4754-a4c7-4563-a492-57b4c8c0ea8e\",\"type\":\"Title\"},\"tool_events\":{\"id\":\"fbf6dc02-e2b1-4e46-a998-72cd851f9a4c\",\"type\":\"ToolEvents\"},\"toolbar\":{\"id\":\"f43a97d0-9cd1-484f-93f2-819a6b5ad965\",\"type\":\"Toolbar\"},\"toolbar_location\":null,\"x_range\":{\"id\":\"c45f1dc2-5747-4aec-8e83-979a4ad46966\",\"type\":\"DataRange1d\"},\"y_range\":{\"id\":\"0fcec651-2f28-41cc-aa72-6927e6444ecb\",\"type\":\"DataRange1d\"}},\"id\":\"4fb1fe88-24e7-4bc7-8ce5-a0cb5ba0add9\",\"subtype\":\"Figure\",\"type\":\"Plot\"},{\"attributes\":{\"callback\":null},\"id\":\"64710022-386a-4733-8246-f64689e5bda9\",\"type\":\"DataRange1d\"},{\"attributes\":{\"plot\":{\"id\":\"5a28de21-d0d2-45bb-b697-a6eee73e2697\",\"subtype\":\"Figure\",\"type\":\"Plot\"},\"ticker\":{\"id\":\"4037d379-07d9-444a-8a9a-c995c97989b2\",\"type\":\"BasicTicker\"}},\"id\":\"f8da2930-93dc-41d5-bf53-aa38cfc04e8b\",\"type\":\"Grid\"},{\"attributes\":{\"plot\":{\"id\":\"9d599e10-16e4-45c9-8df6-d54284f42a21\",\"subtype\":\"Figure\",\"type\":\"Plot\"}},\"id\":\"9644efe0-0b36-4f50-a025-31f6b76de8d2\",\"type\":\"ResetTool\"},{\"attributes\":{\"plot\":{\"id\":\"fa50c9a9-85f2-4d7b-9f9a-2e84e87f22eb\",\"subtype\":\"Figure\",\"type\":\"Plot\"}},\"id\":\"5273edc2-dd2a-4529-b84e-8842b4bef8f2\",\"type\":\"WheelZoomTool\"},{\"attributes\":{},\"id\":\"7165005d-cb1a-4400-86ec-780246263c93\",\"type\":\"BasicTickFormatter\"},{\"attributes\":{\"plot\":{\"id\":\"037fb05e-1150-4981-b5a2-8486bcf3f069\",\"subtype\":\"Figure\",\"type\":\"Plot\"}},\"id\":\"022adef8-b5fc-4d60-8aef-2e4bb7d80720\",\"type\":\"SaveTool\"},{\"attributes\":{\"fill_color\":{\"value\":\"#7FC97F\"},\"inner_radius\":{\"units\":\"screen\",\"value\":10},\"line_color\":{\"value\":\"#7FC97F\"},\"outer_radius\":{\"units\":\"screen\",\"value\":20},\"x\":{\"field\":\"x\"},\"y\":{\"field\":\"y\"}},\"id\":\"5a61a6ee-cf25-47c9-a977-13e7f257ef29\",\"type\":\"Annulus\"},{\"attributes\":{},\"id\":\"78833720-14ef-4694-a9be-1a982d7ce511\",\"type\":\"BasicTickFormatter\"},{\"attributes\":{\"active_drag\":\"auto\",\"active_scroll\":\"auto\",\"active_tap\":\"auto\",\"tools\":[{\"id\":\"87ac49b4-97c0-4d97-b3e9-3db4598a88e4\",\"type\":\"PanTool\"},{\"id\":\"c1b0afcf-32bc-4d16-8c9a-614e308b97ec\",\"type\":\"WheelZoomTool\"},{\"id\":\"1c8a6073-57e5-470c-a2e3-a87053d2f83c\",\"type\":\"BoxZoomTool\"},{\"id\":\"8259b923-4ae2-41bd-8d69-db6eb0d2d61b\",\"type\":\"SaveTool\"},{\"id\":\"082782b0-9b03-4ec2-a184-c404185f37f3\",\"type\":\"ResetTool\"},{\"id\":\"6092e771-0f8a-41a1-a48a-6262b31518b5\",\"type\":\"HelpTool\"}]},\"id\":\"f43a97d0-9cd1-484f-93f2-819a6b5ad965\",\"type\":\"Toolbar\"},{\"attributes\":{\"callback\":null},\"id\":\"82160c97-f437-43db-abf9-91aaa70e8242\",\"type\":\"DataRange1d\"},{\"attributes\":{\"plot\":{\"id\":\"037fb05e-1150-4981-b5a2-8486bcf3f069\",\"subtype\":\"Figure\",\"type\":\"Plot\"}},\"id\":\"c6c19384-410e-4264-9a68-3a60ff5d18a5\",\"type\":\"PanTool\"},{\"attributes\":{\"dimension\":1,\"plot\":{\"id\":\"5a28de21-d0d2-45bb-b697-a6eee73e2697\",\"subtype\":\"Figure\",\"type\":\"Plot\"},\"ticker\":{\"id\":\"6ad8a375-1d4c-4102-9f19-d8bcd368a4d8\",\"type\":\"BasicTicker\"}},\"id\":\"ec31400d-7737-4620-8526-723011912849\",\"type\":\"Grid\"},{\"attributes\":{},\"id\":\"33b4f4bb-66c0-47b6-b64c-5f604e2a4cf9\",\"type\":\"BasicTicker\"},{\"attributes\":{\"callback\":null,\"column_names\":[\"ys\",\"xs\"],\"data\":{\"xs\":[[-2.09,-2.12,-2.0,-1.88,-1.91],[-1.59,-1.62,-1.5,-1.38,-1.41],[-1.09,-1.12,-1.0,-0.88,-0.91],[-0.59,-0.62,-0.5,-0.38,-0.41000000000000003],[-0.09,-0.12,0.0,0.12,0.09],[0.41000000000000003,0.38,0.5,0.62,0.59],[0.91,0.88,1.0,1.12,1.09],[1.41,1.38,1.5,1.62,1.59],[1.91,1.88,2.0,2.12,2.09]],\"ys\":[[3.9,4.02,4.1,4.02,3.9],[2.15,2.27,2.35,2.27,2.15],[0.9,1.02,1.1,1.02,0.9],[0.15,0.27,0.35,0.27,0.15],[-0.1,0.02,0.1,0.02,-0.1],[0.15,0.27,0.35,0.27,0.15],[0.9,1.02,1.1,1.02,0.9],[2.15,2.27,2.35,2.27,2.15],[3.9,4.02,4.1,4.02,3.9]]}},\"id\":\"a4705cc7-0014-4982-867f-42928f43a104\",\"type\":\"ColumnDataSource\"},{\"attributes\":{\"plot\":{\"id\":\"fa50c9a9-85f2-4d7b-9f9a-2e84e87f22eb\",\"subtype\":\"Figure\",\"type\":\"Plot\"}},\"id\":\"b6440b84-d62d-49e2-8e0d-72e3d03e81fb\",\"type\":\"PanTool\"},{\"attributes\":{\"active_drag\":\"auto\",\"active_scroll\":\"auto\",\"active_tap\":\"auto\",\"tools\":[{\"id\":\"b6440b84-d62d-49e2-8e0d-72e3d03e81fb\",\"type\":\"PanTool\"},{\"id\":\"5273edc2-dd2a-4529-b84e-8842b4bef8f2\",\"type\":\"WheelZoomTool\"},{\"id\":\"85e4884c-4816-4772-8bc3-ce482b24cd20\",\"type\":\"BoxZoomTool\"},{\"id\":\"da1e18ac-9346-4d42-aebc-15bbc80e54ce\",\"type\":\"SaveTool\"},{\"id\":\"d5b14439-bfa5-4081-811a-7b2ca9d0703f\",\"type\":\"ResetTool\"},{\"id\":\"67dd5399-f18a-428e-909b-a0f1abe18dd0\",\"type\":\"HelpTool\"}]},\"id\":\"03ed93e9-c9a7-45d7-898b-ba36cdddaf22\",\"type\":\"Toolbar\"},{\"attributes\":{\"plot\":{\"id\":\"56210502-35e5-433d-99d6-1076c1d7a765\",\"subtype\":\"Figure\",\"type\":\"Plot\"}},\"id\":\"9bbefbeb-8aef-46e7-b546-51c53135825e\",\"type\":\"HelpTool\"},{\"attributes\":{\"plot\":{\"id\":\"56210502-35e5-433d-99d6-1076c1d7a765\",\"subtype\":\"Figure\",\"type\":\"Plot\"}},\"id\":\"496c63c3-093c-4442-971f-626350bb4d48\",\"type\":\"SaveTool\"},{\"attributes\":{},\"id\":\"2bc3c1cb-30c4-439a-8187-64e7ffe7feea\",\"type\":\"BasicTicker\"},{\"attributes\":{\"data_source\":{\"id\":\"f46d5f31-9bde-41e5-9f9a-b9b9ac08b1b2\",\"type\":\"ColumnDataSource\"},\"glyph\":{\"id\":\"5d26b09c-1a2d-4886-9e9d-8cdb6319b3a9\",\"type\":\"Line\"},\"hover_glyph\":null,\"nonselection_glyph\":{\"id\":\"2bf46a9f-d6a6-4f97-b632-a43942e00e82\",\"type\":\"Line\"},\"selection_glyph\":null},\"id\":\"cd92f167-a09e-481c-a833-8013b7fa79c7\",\"type\":\"GlyphRenderer\"},{\"attributes\":{},\"id\":\"38c2bd92-e210-4180-96a7-a8be27b0e5f8\",\"type\":\"ToolEvents\"},{\"attributes\":{},\"id\":\"f71d6dbc-7b34-47e0-b998-38231a7d3154\",\"type\":\"ToolEvents\"},{\"attributes\":{\"plot\":{\"id\":\"fa50c9a9-85f2-4d7b-9f9a-2e84e87f22eb\",\"subtype\":\"Figure\",\"type\":\"Plot\"}},\"id\":\"da1e18ac-9346-4d42-aebc-15bbc80e54ce\",\"type\":\"SaveTool\"},{\"attributes\":{\"plot\":null,\"text\":\"annulus\"},\"id\":\"8c7b0313-3cca-4763-9f43-615067b43d65\",\"type\":\"Title\"},{\"attributes\":{\"bottom_units\":\"screen\",\"fill_alpha\":{\"value\":0.5},\"fill_color\":{\"value\":\"lightgrey\"},\"left_units\":\"screen\",\"level\":\"overlay\",\"line_alpha\":{\"value\":1.0},\"line_color\":{\"value\":\"black\"},\"line_dash\":[4,4],\"line_width\":{\"value\":2},\"plot\":null,\"render_mode\":\"css\",\"right_units\":\"screen\",\"top_units\":\"screen\"},\"id\":\"12679ba2-f866-4d91-92d2-ef18cd7a2407\",\"type\":\"BoxAnnotation\"},{\"attributes\":{\"overlay\":{\"id\":\"ca649049-27a4-4cef-a8a4-8e9ebffecf29\",\"type\":\"BoxAnnotation\"},\"plot\":{\"id\":\"037fb05e-1150-4981-b5a2-8486bcf3f069\",\"subtype\":\"Figure\",\"type\":\"Plot\"}},\"id\":\"84036234-b11f-454b-89c2-1010ddbb42fa\",\"type\":\"BoxZoomTool\"},{\"attributes\":{\"callback\":null},\"id\":\"c45f1dc2-5747-4aec-8e83-979a4ad46966\",\"type\":\"DataRange1d\"},{\"attributes\":{\"callback\":null,\"column_names\":[\"y\",\"x\"],\"data\":{\"x\":[-2.0,-1.5,-1.0,-0.5,0.0,0.5,1.0,1.5,2.0],\"y\":[4.0,2.25,1.0,0.25,0.0,0.25,1.0,2.25,4.0]}},\"id\":\"9eed1bf4-608a-4092-a9e8-10652bbd36fb\",\"type\":\"ColumnDataSource\"},{\"attributes\":{},\"id\":\"b445349f-604a-4f61-aa38-aa28b8b48fcc\",\"type\":\"BasicTickFormatter\"},{\"attributes\":{\"dimension\":1,\"plot\":{\"id\":\"037fb05e-1150-4981-b5a2-8486bcf3f069\",\"subtype\":\"Figure\",\"type\":\"Plot\"},\"ticker\":{\"id\":\"8451b223-9d0b-4982-a25f-c4218819409b\",\"type\":\"BasicTicker\"}},\"id\":\"7c6d1efa-225d-4868-96f9-86e0e58e71d6\",\"type\":\"Grid\"},{\"attributes\":{\"data_source\":{\"id\":\"0662ab1f-5e6f-48d4-9ff6-9e3bce2b873b\",\"type\":\"ColumnDataSource\"},\"glyph\":{\"id\":\"2e8f21de-7268-4037-9a01-b1fbd68e7525\",\"type\":\"Circle\"},\"hover_glyph\":null,\"nonselection_glyph\":{\"id\":\"8da0c4a7-f99e-462e-866c-2586056b31af\",\"type\":\"Circle\"},\"selection_glyph\":null},\"id\":\"949c4bfa-81ff-4ded-a7c5-045dab9e5743\",\"type\":\"GlyphRenderer\"},{\"attributes\":{\"callback\":null},\"id\":\"42a7b897-12ed-4237-8709-573cc4999897\",\"type\":\"DataRange1d\"},{\"attributes\":{\"formatter\":{\"id\":\"09b7891d-de9a-4d85-9150-9309d5326e9f\",\"type\":\"BasicTickFormatter\"},\"plot\":{\"id\":\"4fb1fe88-24e7-4bc7-8ce5-a0cb5ba0add9\",\"subtype\":\"Figure\",\"type\":\"Plot\"},\"ticker\":{\"id\":\"6d6a7e8a-1911-4e1f-992e-99e9fc3d7b9a\",\"type\":\"BasicTicker\"}},\"id\":\"70de857c-4e59-451c-a990-e622a0d1b918\",\"type\":\"LinearAxis\"},{\"attributes\":{\"formatter\":{\"id\":\"81c9e862-07e5-48b1-9243-3c326281e1d7\",\"type\":\"BasicTickFormatter\"},\"plot\":{\"id\":\"fa50c9a9-85f2-4d7b-9f9a-2e84e87f22eb\",\"subtype\":\"Figure\",\"type\":\"Plot\"},\"ticker\":{\"id\":\"2bc3c1cb-30c4-439a-8187-64e7ffe7feea\",\"type\":\"BasicTicker\"}},\"id\":\"e6a2f610-c74d-400c-9d72-77eb24f35c0b\",\"type\":\"LinearAxis\"},{\"attributes\":{\"callback\":null},\"id\":\"05874aaa-d519-4ab6-b18d-9f91f95858f7\",\"type\":\"DataRange1d\"},{\"attributes\":{\"below\":[{\"id\":\"90d0ea3a-63b4-407d-83fe-24bd9f7c79e1\",\"type\":\"LinearAxis\"}],\"left\":[{\"id\":\"b2c20b81-b23a-41a1-a70c-af1f1f1c86a2\",\"type\":\"LinearAxis\"}],\"plot_height\":200,\"plot_width\":200,\"renderers\":[{\"id\":\"90d0ea3a-63b4-407d-83fe-24bd9f7c79e1\",\"type\":\"LinearAxis\"},{\"id\":\"ef257ddd-6238-4d6e-a361-e7d581e507d8\",\"type\":\"Grid\"},{\"id\":\"b2c20b81-b23a-41a1-a70c-af1f1f1c86a2\",\"type\":\"LinearAxis\"},{\"id\":\"b00a8b81-0a90-4592-a670-312bf1c48af5\",\"type\":\"Grid\"},{\"id\":\"5444e521-b334-4af8-a8a5-cffc159847e4\",\"type\":\"BoxAnnotation\"},{\"id\":\"ae5accbb-3e04-47ee-8f2f-b251358769a2\",\"type\":\"GlyphRenderer\"}],\"title\":{\"id\":\"be72e86b-0166-49ea-9aef-0433bf3379f1\",\"type\":\"Title\"},\"tool_events\":{\"id\":\"63d9a8ad-591a-41a9-9933-eb0f8f7cf996\",\"type\":\"ToolEvents\"},\"toolbar\":{\"id\":\"3f33a031-3ce3-4940-9d3a-fd8e4ceb1508\",\"type\":\"Toolbar\"},\"toolbar_location\":null,\"x_range\":{\"id\":\"27bd757d-6b5b-4072-826d-d8a598bccc39\",\"type\":\"DataRange1d\"},\"y_range\":{\"id\":\"42a7b897-12ed-4237-8709-573cc4999897\",\"type\":\"DataRange1d\"}},\"id\":\"9d599e10-16e4-45c9-8df6-d54284f42a21\",\"subtype\":\"Figure\",\"type\":\"Plot\"},{\"attributes\":{\"plot\":{\"id\":\"4fb1fe88-24e7-4bc7-8ce5-a0cb5ba0add9\",\"subtype\":\"Figure\",\"type\":\"Plot\"}},\"id\":\"082782b0-9b03-4ec2-a184-c404185f37f3\",\"type\":\"ResetTool\"},{\"attributes\":{\"end_angle\":{\"units\":\"rad\",\"value\":4.1},\"fill_color\":{\"value\":\"#8888ee\"},\"inner_radius\":{\"units\":\"screen\",\"value\":10},\"line_color\":{\"value\":\"#8888ee\"},\"outer_radius\":{\"units\":\"screen\",\"value\":20},\"start_angle\":{\"units\":\"rad\",\"value\":0.6},\"x\":{\"field\":\"x\"},\"y\":{\"field\":\"y\"}},\"id\":\"df36bfee-bf16-4f68-b6e1-4311e3fd3f4f\",\"type\":\"AnnularWedge\"},{\"attributes\":{\"callback\":null,\"column_names\":[\"y\",\"x\"],\"data\":{\"x\":[-2.0,-1.5,-1.0,-0.5,0.0,0.5,1.0,1.5,2.0],\"y\":[4.0,2.25,1.0,0.25,0.0,0.25,1.0,2.25,4.0]}},\"id\":\"ed3ded0f-eb35-415c-a840-7a96ee476880\",\"type\":\"ColumnDataSource\"},{\"attributes\":{\"plot\":{\"id\":\"9d599e10-16e4-45c9-8df6-d54284f42a21\",\"subtype\":\"Figure\",\"type\":\"Plot\"}},\"id\":\"887e18ef-6bbc-4c11-b522-d0c9f489bd27\",\"type\":\"PanTool\"},{\"attributes\":{\"plot\":{\"id\":\"9d599e10-16e4-45c9-8df6-d54284f42a21\",\"subtype\":\"Figure\",\"type\":\"Plot\"}},\"id\":\"b9d8528a-6cbe-4a26-bb22-3eff9d49be2a\",\"type\":\"WheelZoomTool\"},{\"attributes\":{\"cx0\":{\"field\":\"cx0\"},\"cx1\":{\"field\":\"cx1\"},\"cy0\":{\"field\":\"cy0\"},\"cy1\":{\"field\":\"cy1\"},\"line_alpha\":{\"value\":0.1},\"line_color\":{\"value\":\"#1f77b4\"},\"line_width\":{\"value\":2},\"x0\":{\"field\":\"x0\"},\"x1\":{\"field\":\"x1\"},\"y0\":{\"field\":\"y0\"},\"y1\":{\"field\":\"y1\"}},\"id\":\"bda72ecd-ae82-435b-a9af-ce6055f4a33b\",\"type\":\"Bezier\"},{\"attributes\":{\"line_alpha\":{\"value\":0.1},\"line_color\":{\"value\":\"#1f77b4\"},\"x\":{\"field\":\"x\"},\"y\":{\"field\":\"y\"}},\"id\":\"2bf46a9f-d6a6-4f97-b632-a43942e00e82\",\"type\":\"Line\"},{\"attributes\":{\"plot\":{\"id\":\"39bd5d42-4f82-4b58-bfaf-0f9e38c9366e\",\"subtype\":\"Figure\",\"type\":\"Plot\"},\"ticker\":{\"id\":\"7c64674d-a169-4d83-8a0c-a996c33ce67d\",\"type\":\"BasicTicker\"}},\"id\":\"34b6272b-6911-4ef5-a103-555dbc2c8a3f\",\"type\":\"Grid\"},{\"attributes\":{\"end_angle\":{\"units\":\"rad\",\"value\":4.1},\"fill_alpha\":{\"value\":0.1},\"fill_color\":{\"value\":\"#1f77b4\"},\"inner_radius\":{\"units\":\"screen\",\"value\":10},\"line_alpha\":{\"value\":0.1},\"line_color\":{\"value\":\"#1f77b4\"},\"outer_radius\":{\"units\":\"screen\",\"value\":20},\"start_angle\":{\"units\":\"rad\",\"value\":0.6},\"x\":{\"field\":\"x\"},\"y\":{\"field\":\"y\"}},\"id\":\"0c8fa112-45ec-468d-9179-a97810bd63cb\",\"type\":\"AnnularWedge\"},{\"attributes\":{\"bottom_units\":\"screen\",\"fill_alpha\":{\"value\":0.5},\"fill_color\":{\"value\":\"lightgrey\"},\"left_units\":\"screen\",\"level\":\"overlay\",\"line_alpha\":{\"value\":1.0},\"line_color\":{\"value\":\"black\"},\"line_dash\":[4,4],\"line_width\":{\"value\":2},\"plot\":null,\"render_mode\":\"css\",\"right_units\":\"screen\",\"top_units\":\"screen\"},\"id\":\"12bc8a3d-4703-4a11-a04b-faefcbf86ee5\",\"type\":\"BoxAnnotation\"},{\"attributes\":{\"formatter\":{\"id\":\"03e70e9b-6d30-49e1-a898-4e14c41f4f3a\",\"type\":\"BasicTickFormatter\"},\"plot\":{\"id\":\"485e47f4-02ad-4424-813f-3c93c2aebea4\",\"subtype\":\"Figure\",\"type\":\"Plot\"},\"ticker\":{\"id\":\"33b4f4bb-66c0-47b6-b64c-5f604e2a4cf9\",\"type\":\"BasicTicker\"}},\"id\":\"09ca0a33-21c8-4dcc-87f5-07d14a0f8332\",\"type\":\"LinearAxis\"},{\"attributes\":{},\"id\":\"daa96d89-860f-4d29-ac79-d9af073e6177\",\"type\":\"BasicTickFormatter\"},{\"attributes\":{\"bottom_units\":\"screen\",\"fill_alpha\":{\"value\":0.5},\"fill_color\":{\"value\":\"lightgrey\"},\"left_units\":\"screen\",\"level\":\"overlay\",\"line_alpha\":{\"value\":1.0},\"line_color\":{\"value\":\"black\"},\"line_dash\":[4,4],\"line_width\":{\"value\":2},\"plot\":null,\"render_mode\":\"css\",\"right_units\":\"screen\",\"top_units\":\"screen\"},\"id\":\"b7e5ce2e-ab74-4421-b8d7-13dc8aad6b93\",\"type\":\"BoxAnnotation\"},{\"attributes\":{\"plot\":null,\"text\":\"multi_line\"},\"id\":\"2962139a-7566-4237-82a4-ddec008024a5\",\"type\":\"Title\"},{\"attributes\":{\"overlay\":{\"id\":\"12679ba2-f866-4d91-92d2-ef18cd7a2407\",\"type\":\"BoxAnnotation\"},\"plot\":{\"id\":\"485e47f4-02ad-4424-813f-3c93c2aebea4\",\"subtype\":\"Figure\",\"type\":\"Plot\"}},\"id\":\"b7a972d8-b454-41fd-8e34-b683fe6a76f7\",\"type\":\"BoxZoomTool\"},{\"attributes\":{\"plot\":null,\"text\":\"annular_wedge\"},\"id\":\"653f40cf-8560-4d1e-a1af-2abe6d82bafd\",\"type\":\"Title\"},{\"attributes\":{\"children\":[{\"id\":\"5907c755-bb2b-4b3b-a86c-ee8647ce8279\",\"type\":\"ToolbarBox\"},{\"id\":\"5ec43798-88e1-4e88-b5c4-47aa904be72e\",\"type\":\"Column\"}]},\"id\":\"664f3bc1-a5bf-4178-b0eb-899d4666ca0c\",\"type\":\"Column\"},{\"attributes\":{\"children\":[{\"id\":\"9d599e10-16e4-45c9-8df6-d54284f42a21\",\"subtype\":\"Figure\",\"type\":\"Plot\"},{\"id\":\"5a28de21-d0d2-45bb-b697-a6eee73e2697\",\"subtype\":\"Figure\",\"type\":\"Plot\"},{\"id\":\"4fb1fe88-24e7-4bc7-8ce5-a0cb5ba0add9\",\"subtype\":\"Figure\",\"type\":\"Plot\"}]},\"id\":\"9c4b9c5f-11c8-434b-86c9-a8b4a61634a1\",\"type\":\"Row\"},{\"attributes\":{\"plot\":null,\"text\":\"line\"},\"id\":\"e2b9e5ea-092b-4d2d-b80b-992ee494123d\",\"type\":\"Title\"},{\"attributes\":{\"fill_alpha\":{\"value\":0.1},\"fill_color\":{\"value\":\"#1f77b4\"},\"line_alpha\":{\"value\":0.1},\"line_color\":{\"value\":\"#1f77b4\"},\"radius\":{\"units\":\"data\",\"value\":0.1},\"x\":{\"field\":\"x\"},\"y\":{\"field\":\"y\"}},\"id\":\"8da0c4a7-f99e-462e-866c-2586056b31af\",\"type\":\"Circle\"},{\"attributes\":{\"data_source\":{\"id\":\"393046eb-e575-4cf7-8f64-d1380fc0b128\",\"type\":\"ColumnDataSource\"},\"glyph\":{\"id\":\"adb9cd22-19f6-4da8-9d28-191948393a4d\",\"type\":\"Ellipse\"},\"hover_glyph\":null,\"nonselection_glyph\":{\"id\":\"ca007140-4294-49de-b50d-b516ddfdaab1\",\"type\":\"Ellipse\"},\"selection_glyph\":null},\"id\":\"04c66cd4-991f-40ee-b892-d07310bfdda0\",\"type\":\"GlyphRenderer\"},{\"attributes\":{\"plot\":{\"id\":\"9d599e10-16e4-45c9-8df6-d54284f42a21\",\"subtype\":\"Figure\",\"type\":\"Plot\"}},\"id\":\"49eeae45-05c0-41b4-8c5e-1f6864a078d4\",\"type\":\"HelpTool\"},{\"attributes\":{\"plot\":{\"id\":\"39bd5d42-4f82-4b58-bfaf-0f9e38c9366e\",\"subtype\":\"Figure\",\"type\":\"Plot\"}},\"id\":\"14d556d7-3bb8-413b-9627-0f3b99ef3a82\",\"type\":\"HelpTool\"},{\"attributes\":{\"active_drag\":\"auto\",\"active_scroll\":\"auto\",\"active_tap\":\"auto\",\"tools\":[{\"id\":\"4c7f580e-121a-4e04-ac9c-a089dd796f96\",\"type\":\"PanTool\"},{\"id\":\"ca5b4b8b-5f88-40ee-8a81-4a7d9d0eaa6f\",\"type\":\"WheelZoomTool\"},{\"id\":\"b7a972d8-b454-41fd-8e34-b683fe6a76f7\",\"type\":\"BoxZoomTool\"},{\"id\":\"c5659330-daf2-493e-9d75-c5365eaeb6d0\",\"type\":\"SaveTool\"},{\"id\":\"29687baa-ce38-4594-89b7-f6fb786465ee\",\"type\":\"ResetTool\"},{\"id\":\"28659b9c-56a8-46f4-a007-40b070482ef3\",\"type\":\"HelpTool\"}]},\"id\":\"e0a7fd65-0832-4bc3-b89e-5e54a5814d9e\",\"type\":\"Toolbar\"},{\"attributes\":{\"formatter\":{\"id\":\"7165005d-cb1a-4400-86ec-780246263c93\",\"type\":\"BasicTickFormatter\"},\"plot\":{\"id\":\"5a28de21-d0d2-45bb-b697-a6eee73e2697\",\"subtype\":\"Figure\",\"type\":\"Plot\"},\"ticker\":{\"id\":\"4037d379-07d9-444a-8a9a-c995c97989b2\",\"type\":\"BasicTicker\"}},\"id\":\"f3801693-9a99-4271-997d-4bfe7882c699\",\"type\":\"LinearAxis\"},{\"attributes\":{\"overlay\":{\"id\":\"5444e521-b334-4af8-a8a5-cffc159847e4\",\"type\":\"BoxAnnotation\"},\"plot\":{\"id\":\"9d599e10-16e4-45c9-8df6-d54284f42a21\",\"subtype\":\"Figure\",\"type\":\"Plot\"}},\"id\":\"f931780a-7f4f-4f5f-9050-bddf0ebe7bef\",\"type\":\"BoxZoomTool\"},{\"attributes\":{\"callback\":null},\"id\":\"5c45da0f-a0ff-4e5a-bc00-035a2676b453\",\"type\":\"DataRange1d\"},{\"attributes\":{\"below\":[{\"id\":\"5e01c153-e2ea-431a-b79f-bda0c760e153\",\"type\":\"LinearAxis\"}],\"left\":[{\"id\":\"e6a2f610-c74d-400c-9d72-77eb24f35c0b\",\"type\":\"LinearAxis\"}],\"plot_height\":200,\"plot_width\":200,\"renderers\":[{\"id\":\"5e01c153-e2ea-431a-b79f-bda0c760e153\",\"type\":\"LinearAxis\"},{\"id\":\"f5baaf3f-845c-42a9-aabc-40f1a8050294\",\"type\":\"Grid\"},{\"id\":\"e6a2f610-c74d-400c-9d72-77eb24f35c0b\",\"type\":\"LinearAxis\"},{\"id\":\"a258c26b-645f-42d7-96ff-1f57efde27d3\",\"type\":\"Grid\"},{\"id\":\"4d7d5734-14c5-4cd4-9cea-88b65d3f7f61\",\"type\":\"BoxAnnotation\"},{\"id\":\"d944de67-9d08-425e-8dae-099e086da127\",\"type\":\"GlyphRenderer\"}],\"title\":{\"id\":\"87e994ad-5d23-4bf5-80f2-c98a16207eaa\",\"type\":\"Title\"},\"tool_events\":{\"id\":\"f71d6dbc-7b34-47e0-b998-38231a7d3154\",\"type\":\"ToolEvents\"},\"toolbar\":{\"id\":\"03ed93e9-c9a7-45d7-898b-ba36cdddaf22\",\"type\":\"Toolbar\"},\"toolbar_location\":null,\"x_range\":{\"id\":\"29b5768c-70ac-4579-b9e1-17a2dda579f0\",\"type\":\"DataRange1d\"},\"y_range\":{\"id\":\"a3ffc992-9465-4b37-a56c-d005971fa913\",\"type\":\"DataRange1d\"}},\"id\":\"fa50c9a9-85f2-4d7b-9f9a-2e84e87f22eb\",\"subtype\":\"Figure\",\"type\":\"Plot\"},{\"attributes\":{\"data_source\":{\"id\":\"ed3ded0f-eb35-415c-a840-7a96ee476880\",\"type\":\"ColumnDataSource\"},\"glyph\":{\"id\":\"df36bfee-bf16-4f68-b6e1-4311e3fd3f4f\",\"type\":\"AnnularWedge\"},\"hover_glyph\":null,\"nonselection_glyph\":{\"id\":\"0c8fa112-45ec-468d-9179-a97810bd63cb\",\"type\":\"AnnularWedge\"},\"selection_glyph\":null},\"id\":\"55fdc67e-5155-469d-93bb-f5ad992848df\",\"type\":\"GlyphRenderer\"},{\"attributes\":{\"formatter\":{\"id\":\"1c7a9709-1d68-47b6-a840-353bdaf60b25\",\"type\":\"BasicTickFormatter\"},\"plot\":{\"id\":\"56210502-35e5-433d-99d6-1076c1d7a765\",\"subtype\":\"Figure\",\"type\":\"Plot\"},\"ticker\":{\"id\":\"e0911a41-3758-4a44-aa55-9aaa2aa41dad\",\"type\":\"BasicTicker\"}},\"id\":\"58962607-84a9-4e0d-8b6a-ffaa32e9de33\",\"type\":\"LinearAxis\"},{\"attributes\":{},\"id\":\"6d6a7e8a-1911-4e1f-992e-99e9fc3d7b9a\",\"type\":\"BasicTicker\"},{\"attributes\":{\"callback\":null},\"id\":\"a3ffc992-9465-4b37-a56c-d005971fa913\",\"type\":\"DataRange1d\"},{\"attributes\":{\"active_drag\":\"auto\",\"active_scroll\":\"auto\",\"active_tap\":\"auto\",\"tools\":[{\"id\":\"67ae70c6-7c08-4fe9-bed3-1f1bf2d67776\",\"type\":\"PanTool\"},{\"id\":\"f6427d1c-4a96-4aa5-acc9-4cf3bf77266c\",\"type\":\"WheelZoomTool\"},{\"id\":\"583f54fd-8494-4d5c-9f08-7f65fddf1c6a\",\"type\":\"BoxZoomTool\"},{\"id\":\"496c63c3-093c-4442-971f-626350bb4d48\",\"type\":\"SaveTool\"},{\"id\":\"1fafa288-bc9e-4002-9c83-c5ab3e10da7d\",\"type\":\"ResetTool\"},{\"id\":\"9bbefbeb-8aef-46e7-b546-51c53135825e\",\"type\":\"HelpTool\"}]},\"id\":\"eac894db-286f-4f4c-8cb8-c27b5d1da327\",\"type\":\"Toolbar\"},{\"attributes\":{},\"id\":\"81c9e862-07e5-48b1-9243-3c326281e1d7\",\"type\":\"BasicTickFormatter\"},{\"attributes\":{\"below\":[{\"id\":\"0f721d0c-9ccd-4664-a303-71589ddec764\",\"type\":\"LinearAxis\"}],\"left\":[{\"id\":\"f8997cc5-627b-4df2-a6f6-5940a4404696\",\"type\":\"LinearAxis\"}],\"plot_height\":200,\"plot_width\":200,\"renderers\":[{\"id\":\"0f721d0c-9ccd-4664-a303-71589ddec764\",\"type\":\"LinearAxis\"},{\"id\":\"885e2f5c-7636-40e0-8715-57aa74c55076\",\"type\":\"Grid\"},{\"id\":\"f8997cc5-627b-4df2-a6f6-5940a4404696\",\"type\":\"LinearAxis\"},{\"id\":\"7c6d1efa-225d-4868-96f9-86e0e58e71d6\",\"type\":\"Grid\"},{\"id\":\"ca649049-27a4-4cef-a8a4-8e9ebffecf29\",\"type\":\"BoxAnnotation\"},{\"id\":\"1dc9d312-2fd7-43b5-aa5a-0b944763be80\",\"type\":\"GlyphRenderer\"}],\"title\":{\"id\":\"2962139a-7566-4237-82a4-ddec008024a5\",\"type\":\"Title\"},\"tool_events\":{\"id\":\"882a313a-d196-4c78-92d8-1eabe6a087cf\",\"type\":\"ToolEvents\"},\"toolbar\":{\"id\":\"89c311ac-c082-492d-9013-a70f7c7051ab\",\"type\":\"Toolbar\"},\"toolbar_location\":null,\"x_range\":{\"id\":\"9bf05f5a-1b8a-4eae-a159-bdf4b49c3f4b\",\"type\":\"DataRange1d\"},\"y_range\":{\"id\":\"82160c97-f437-43db-abf9-91aaa70e8242\",\"type\":\"DataRange1d\"}},\"id\":\"037fb05e-1150-4981-b5a2-8486bcf3f069\",\"subtype\":\"Figure\",\"type\":\"Plot\"},{\"attributes\":{\"formatter\":{\"id\":\"b445349f-604a-4f61-aa38-aa28b8b48fcc\",\"type\":\"BasicTickFormatter\"},\"plot\":{\"id\":\"56210502-35e5-433d-99d6-1076c1d7a765\",\"subtype\":\"Figure\",\"type\":\"Plot\"},\"ticker\":{\"id\":\"60ad2d9d-4474-4307-b6c0-65788b855257\",\"type\":\"BasicTicker\"}},\"id\":\"f0359b97-e707-4e68-b7e8-d33d46538d4d\",\"type\":\"LinearAxis\"},{\"attributes\":{},\"id\":\"0d1faa7e-fb3e-40b7-8de0-4c367d1c7ced\",\"type\":\"BasicTickFormatter\"},{\"attributes\":{},\"id\":\"5275d9f4-5090-4634-b45a-ad6fcb1881fe\",\"type\":\"BasicTickFormatter\"},{\"attributes\":{\"plot\":null,\"text\":\"arc\"},\"id\":\"87e994ad-5d23-4bf5-80f2-c98a16207eaa\",\"type\":\"Title\"},{\"attributes\":{\"end_angle\":{\"units\":\"rad\",\"value\":4.1},\"line_color\":{\"value\":\"#BEAED4\"},\"line_width\":{\"value\":3},\"radius\":{\"units\":\"screen\",\"value\":20},\"start_angle\":{\"units\":\"rad\",\"value\":0.6},\"x\":{\"field\":\"x\"},\"y\":{\"field\":\"y\"}},\"id\":\"d59cd088-77fd-463f-ad07-a61738281565\",\"type\":\"Arc\"},{\"attributes\":{\"callback\":null,\"column_names\":[\"y\",\"x\"],\"data\":{\"x\":[-2.0,-1.5,-1.0,-0.5,0.0,0.5,1.0,1.5,2.0],\"y\":[4.0,2.25,1.0,0.25,0.0,0.25,1.0,2.25,4.0]}},\"id\":\"f46d5f31-9bde-41e5-9f9a-b9b9ac08b1b2\",\"type\":\"ColumnDataSource\"},{\"attributes\":{\"plot\":{\"id\":\"4fb1fe88-24e7-4bc7-8ce5-a0cb5ba0add9\",\"subtype\":\"Figure\",\"type\":\"Plot\"}},\"id\":\"8259b923-4ae2-41bd-8d69-db6eb0d2d61b\",\"type\":\"SaveTool\"},{\"attributes\":{\"bottom_units\":\"screen\",\"fill_alpha\":{\"value\":0.5},\"fill_color\":{\"value\":\"lightgrey\"},\"left_units\":\"screen\",\"level\":\"overlay\",\"line_alpha\":{\"value\":1.0},\"line_color\":{\"value\":\"black\"},\"line_dash\":[4,4],\"line_width\":{\"value\":2},\"plot\":null,\"render_mode\":\"css\",\"right_units\":\"screen\",\"top_units\":\"screen\"},\"id\":\"4d7d5734-14c5-4cd4-9cea-88b65d3f7f61\",\"type\":\"BoxAnnotation\"},{\"attributes\":{\"bottom_units\":\"screen\",\"fill_alpha\":{\"value\":0.5},\"fill_color\":{\"value\":\"lightgrey\"},\"left_units\":\"screen\",\"level\":\"overlay\",\"line_alpha\":{\"value\":1.0},\"line_color\":{\"value\":\"black\"},\"line_dash\":[4,4],\"line_width\":{\"value\":2},\"plot\":null,\"render_mode\":\"css\",\"right_units\":\"screen\",\"top_units\":\"screen\"},\"id\":\"5444e521-b334-4af8-a8a5-cffc159847e4\",\"type\":\"BoxAnnotation\"},{\"attributes\":{},\"id\":\"60ad2d9d-4474-4307-b6c0-65788b855257\",\"type\":\"BasicTicker\"},{\"attributes\":{\"plot\":{\"id\":\"037fb05e-1150-4981-b5a2-8486bcf3f069\",\"subtype\":\"Figure\",\"type\":\"Plot\"}},\"id\":\"2035e5d2-2f0b-45c6-b65c-21ed82ba3c30\",\"type\":\"ResetTool\"},{\"attributes\":{\"plot\":{\"id\":\"9d599e10-16e4-45c9-8df6-d54284f42a21\",\"subtype\":\"Figure\",\"type\":\"Plot\"},\"ticker\":{\"id\":\"cb012157-c232-4b86-8403-ebe3dcddb93a\",\"type\":\"BasicTicker\"}},\"id\":\"ef257ddd-6238-4d6e-a361-e7d581e507d8\",\"type\":\"Grid\"},{\"attributes\":{\"plot\":{\"id\":\"56210502-35e5-433d-99d6-1076c1d7a765\",\"subtype\":\"Figure\",\"type\":\"Plot\"},\"ticker\":{\"id\":\"e0911a41-3758-4a44-aa55-9aaa2aa41dad\",\"type\":\"BasicTicker\"}},\"id\":\"07f25507-4e76-43ca-b51f-3d1028309051\",\"type\":\"Grid\"},{\"attributes\":{\"plot\":{\"id\":\"4fb1fe88-24e7-4bc7-8ce5-a0cb5ba0add9\",\"subtype\":\"Figure\",\"type\":\"Plot\"}},\"id\":\"6092e771-0f8a-41a1-a48a-6262b31518b5\",\"type\":\"HelpTool\"},{\"attributes\":{\"plot\":{\"id\":\"4fb1fe88-24e7-4bc7-8ce5-a0cb5ba0add9\",\"subtype\":\"Figure\",\"type\":\"Plot\"},\"ticker\":{\"id\":\"6d6a7e8a-1911-4e1f-992e-99e9fc3d7b9a\",\"type\":\"BasicTicker\"}},\"id\":\"e942b624-193e-481c-a015-c971a6f9a3bf\",\"type\":\"Grid\"},{\"attributes\":{\"cx0\":{\"field\":\"cx0\"},\"cx1\":{\"field\":\"cx1\"},\"cy0\":{\"field\":\"cy0\"},\"cy1\":{\"field\":\"cy1\"},\"line_color\":{\"value\":\"#D95F02\"},\"line_width\":{\"value\":2},\"x0\":{\"field\":\"x0\"},\"x1\":{\"field\":\"x1\"},\"y0\":{\"field\":\"y0\"},\"y1\":{\"field\":\"y1\"}},\"id\":\"4dcaee26-b2ae-487b-8992-22aa5186a149\",\"type\":\"Bezier\"},{\"attributes\":{},\"id\":\"f97d8f47-f0ab-4599-806c-acf7db4adab0\",\"type\":\"BasicTicker\"},{\"attributes\":{\"plot\":{\"id\":\"485e47f4-02ad-4424-813f-3c93c2aebea4\",\"subtype\":\"Figure\",\"type\":\"Plot\"},\"ticker\":{\"id\":\"dcdc2a24-eb4d-40cc-99f5-4ad52513444e\",\"type\":\"BasicTicker\"}},\"id\":\"0bdb5c46-1c48-4749-a657-69b78f97d503\",\"type\":\"Grid\"},{\"attributes\":{\"overlay\":{\"id\":\"4d7d5734-14c5-4cd4-9cea-88b65d3f7f61\",\"type\":\"BoxAnnotation\"},\"plot\":{\"id\":\"fa50c9a9-85f2-4d7b-9f9a-2e84e87f22eb\",\"subtype\":\"Figure\",\"type\":\"Plot\"}},\"id\":\"85e4884c-4816-4772-8bc3-ce482b24cd20\",\"type\":\"BoxZoomTool\"},{\"attributes\":{\"formatter\":{\"id\":\"5b3e9873-247d-47d3-ae61-14200a611922\",\"type\":\"BasicTickFormatter\"},\"plot\":{\"id\":\"9d599e10-16e4-45c9-8df6-d54284f42a21\",\"subtype\":\"Figure\",\"type\":\"Plot\"},\"ticker\":{\"id\":\"7748c9e8-9c8f-4607-a317-7056865af9e8\",\"type\":\"BasicTicker\"}},\"id\":\"b2c20b81-b23a-41a1-a70c-af1f1f1c86a2\",\"type\":\"LinearAxis\"},{\"attributes\":{\"plot\":null,\"text\":\"bezier\"},\"id\":\"be72e86b-0166-49ea-9aef-0433bf3379f1\",\"type\":\"Title\"},{\"attributes\":{\"formatter\":{\"id\":\"78833720-14ef-4694-a9be-1a982d7ce511\",\"type\":\"BasicTickFormatter\"},\"plot\":{\"id\":\"5a28de21-d0d2-45bb-b697-a6eee73e2697\",\"subtype\":\"Figure\",\"type\":\"Plot\"},\"ticker\":{\"id\":\"6ad8a375-1d4c-4102-9f19-d8bcd368a4d8\",\"type\":\"BasicTicker\"}},\"id\":\"d0cf0270-5960-4a66-9479-630092c7a2ff\",\"type\":\"LinearAxis\"},{\"attributes\":{\"callback\":null},\"id\":\"27bd757d-6b5b-4072-826d-d8a598bccc39\",\"type\":\"DataRange1d\"},{\"attributes\":{\"callback\":null},\"id\":\"2c95d6e9-570a-4e78-a430-3582a41b8672\",\"type\":\"DataRange1d\"},{\"attributes\":{\"plot\":{\"id\":\"5a28de21-d0d2-45bb-b697-a6eee73e2697\",\"subtype\":\"Figure\",\"type\":\"Plot\"}},\"id\":\"bcd16a1a-d911-4f67-922f-2861c93fe5c9\",\"type\":\"ResetTool\"},{\"attributes\":{},\"id\":\"8afbcd17-0a71-4d05-b69e-80c624cf358c\",\"type\":\"BasicTickFormatter\"},{\"attributes\":{\"callback\":null,\"column_names\":[\"cx0\",\"cy1\",\"cy0\",\"cx1\",\"y1\",\"y0\",\"x0\",\"x1\"],\"data\":{\"cx0\":[-1.9,-1.4,-0.9,-0.4,0.1,0.6,1.1,1.6,2.1],\"cx1\":[-2.1,-1.6,-1.1,-0.6,-0.1,0.4,0.9,1.4,1.9],\"cy0\":[4.1,2.35,1.1,0.35,0.1,0.35,1.1,2.35,4.1],\"cy1\":[3.9,2.15,0.9,0.15,-0.1,0.15,0.9,2.15,3.9],\"x0\":[-2.0,-1.5,-1.0,-0.5,0.0,0.5,1.0,1.5,2.0],\"x1\":[-1.8,-1.3,-0.8,-0.3,0.2,0.7,1.2,1.7,2.2],\"y0\":[4.0,2.25,1.0,0.25,0.0,0.25,1.0,2.25,4.0],\"y1\":[4.0,2.25,1.0,0.25,0.0,0.25,1.0,2.25,4.0]}},\"id\":\"062470a6-9db5-4074-a6fa-7c34ad7353ef\",\"type\":\"ColumnDataSource\"},{\"attributes\":{},\"id\":\"6ad8a375-1d4c-4102-9f19-d8bcd368a4d8\",\"type\":\"BasicTicker\"},{\"attributes\":{},\"id\":\"4037d379-07d9-444a-8a9a-c995c97989b2\",\"type\":\"BasicTicker\"},{\"attributes\":{\"formatter\":{\"id\":\"7c60562c-a9fb-4d29-ac08-0b5873188f93\",\"type\":\"BasicTickFormatter\"},\"plot\":{\"id\":\"037fb05e-1150-4981-b5a2-8486bcf3f069\",\"subtype\":\"Figure\",\"type\":\"Plot\"},\"ticker\":{\"id\":\"8451b223-9d0b-4982-a25f-c4218819409b\",\"type\":\"BasicTicker\"}},\"id\":\"f8997cc5-627b-4df2-a6f6-5940a4404696\",\"type\":\"LinearAxis\"},{\"attributes\":{\"plot\":{\"id\":\"5a28de21-d0d2-45bb-b697-a6eee73e2697\",\"subtype\":\"Figure\",\"type\":\"Plot\"}},\"id\":\"dfbac2ea-00b2-43c4-aff0-5800e9362399\",\"type\":\"PanTool\"},{\"attributes\":{},\"id\":\"5b3e9873-247d-47d3-ae61-14200a611922\",\"type\":\"BasicTickFormatter\"},{\"attributes\":{\"overlay\":{\"id\":\"12bc8a3d-4703-4a11-a04b-faefcbf86ee5\",\"type\":\"BoxAnnotation\"},\"plot\":{\"id\":\"4fb1fe88-24e7-4bc7-8ce5-a0cb5ba0add9\",\"subtype\":\"Figure\",\"type\":\"Plot\"}},\"id\":\"1c8a6073-57e5-470c-a2e3-a87053d2f83c\",\"type\":\"BoxZoomTool\"},{\"attributes\":{\"bottom_units\":\"screen\",\"fill_alpha\":{\"value\":0.5},\"fill_color\":{\"value\":\"lightgrey\"},\"left_units\":\"screen\",\"level\":\"overlay\",\"line_alpha\":{\"value\":1.0},\"line_color\":{\"value\":\"black\"},\"line_dash\":[4,4],\"line_width\":{\"value\":2},\"plot\":null,\"render_mode\":\"css\",\"right_units\":\"screen\",\"top_units\":\"screen\"},\"id\":\"e72d94ff-c8c0-4d64-af14-e8949f205508\",\"type\":\"BoxAnnotation\"},{\"attributes\":{\"children\":[{\"id\":\"56210502-35e5-433d-99d6-1076c1d7a765\",\"subtype\":\"Figure\",\"type\":\"Plot\"},{\"id\":\"037fb05e-1150-4981-b5a2-8486bcf3f069\",\"subtype\":\"Figure\",\"type\":\"Plot\"}]},\"id\":\"03728594-f6cb-4fb1-96a4-500b04a9b7dd\",\"type\":\"Row\"},{\"attributes\":{},\"id\":\"56d15ea3-cff4-4e2b-8ed4-5afbda793492\",\"type\":\"BasicTicker\"},{\"attributes\":{},\"id\":\"8243d12d-28e4-4107-b0d8-4b689da9c20c\",\"type\":\"BasicTickFormatter\"},{\"attributes\":{\"callback\":null},\"id\":\"6cc398af-e681-4e9b-8d9c-d3096eff1dbc\",\"type\":\"DataRange1d\"},{\"attributes\":{\"below\":[{\"id\":\"d25a8279-fbbc-4de9-820e-d9b1a569f7cb\",\"type\":\"LinearAxis\"}],\"left\":[{\"id\":\"09ca0a33-21c8-4dcc-87f5-07d14a0f8332\",\"type\":\"LinearAxis\"}],\"plot_height\":200,\"plot_width\":200,\"renderers\":[{\"id\":\"d25a8279-fbbc-4de9-820e-d9b1a569f7cb\",\"type\":\"LinearAxis\"},{\"id\":\"0bdb5c46-1c48-4749-a657-69b78f97d503\",\"type\":\"Grid\"},{\"id\":\"09ca0a33-21c8-4dcc-87f5-07d14a0f8332\",\"type\":\"LinearAxis\"},{\"id\":\"3e02170f-0771-43af-8b66-762b3a474d07\",\"type\":\"Grid\"},{\"id\":\"12679ba2-f866-4d91-92d2-ef18cd7a2407\",\"type\":\"BoxAnnotation\"},{\"id\":\"55fdc67e-5155-469d-93bb-f5ad992848df\",\"type\":\"GlyphRenderer\"}],\"title\":{\"id\":\"653f40cf-8560-4d1e-a1af-2abe6d82bafd\",\"type\":\"Title\"},\"tool_events\":{\"id\":\"38c2bd92-e210-4180-96a7-a8be27b0e5f8\",\"type\":\"ToolEvents\"},\"toolbar\":{\"id\":\"e0a7fd65-0832-4bc3-b89e-5e54a5814d9e\",\"type\":\"Toolbar\"},\"toolbar_location\":null,\"x_range\":{\"id\":\"05874aaa-d519-4ab6-b18d-9f91f95858f7\",\"type\":\"DataRange1d\"},\"y_range\":{\"id\":\"64710022-386a-4733-8246-f64689e5bda9\",\"type\":\"DataRange1d\"}},\"id\":\"485e47f4-02ad-4424-813f-3c93c2aebea4\",\"subtype\":\"Figure\",\"type\":\"Plot\"},{\"attributes\":{\"active_drag\":\"auto\",\"active_scroll\":\"auto\",\"active_tap\":\"auto\",\"tools\":[{\"id\":\"c6c19384-410e-4264-9a68-3a60ff5d18a5\",\"type\":\"PanTool\"},{\"id\":\"dd74304e-91d4-4df2-986f-2c9ee7fb0072\",\"type\":\"WheelZoomTool\"},{\"id\":\"84036234-b11f-454b-89c2-1010ddbb42fa\",\"type\":\"BoxZoomTool\"},{\"id\":\"022adef8-b5fc-4d60-8aef-2e4bb7d80720\",\"type\":\"SaveTool\"},{\"id\":\"2035e5d2-2f0b-45c6-b65c-21ed82ba3c30\",\"type\":\"ResetTool\"},{\"id\":\"f2a83ce2-8664-42c7-80b4-7853a9ed7291\",\"type\":\"HelpTool\"}]},\"id\":\"89c311ac-c082-492d-9013-a70f7c7051ab\",\"type\":\"Toolbar\"},{\"attributes\":{\"plot\":{\"id\":\"037fb05e-1150-4981-b5a2-8486bcf3f069\",\"subtype\":\"Figure\",\"type\":\"Plot\"}},\"id\":\"f2a83ce2-8664-42c7-80b4-7853a9ed7291\",\"type\":\"HelpTool\"},{\"attributes\":{\"overlay\":{\"id\":\"3dfaa98f-4296-434d-86ff-a2c5a7fdf847\",\"type\":\"BoxAnnotation\"},\"plot\":{\"id\":\"39bd5d42-4f82-4b58-bfaf-0f9e38c9366e\",\"subtype\":\"Figure\",\"type\":\"Plot\"}},\"id\":\"06a19e33-4bea-4502-abbb-99a018452ab2\",\"type\":\"BoxZoomTool\"},{\"attributes\":{\"dimension\":1,\"plot\":{\"id\":\"fa50c9a9-85f2-4d7b-9f9a-2e84e87f22eb\",\"subtype\":\"Figure\",\"type\":\"Plot\"},\"ticker\":{\"id\":\"2bc3c1cb-30c4-439a-8187-64e7ffe7feea\",\"type\":\"BasicTicker\"}},\"id\":\"a258c26b-645f-42d7-96ff-1f57efde27d3\",\"type\":\"Grid\"},{\"attributes\":{},\"id\":\"813b17e2-6099-4374-abd8-fcf2c6489e1f\",\"type\":\"BasicTickFormatter\"},{\"attributes\":{\"end_angle\":{\"units\":\"rad\",\"value\":4.1},\"line_alpha\":{\"value\":0.1},\"line_color\":{\"value\":\"#1f77b4\"},\"line_width\":{\"value\":3},\"radius\":{\"units\":\"screen\",\"value\":20},\"start_angle\":{\"units\":\"rad\",\"value\":0.6},\"x\":{\"field\":\"x\"},\"y\":{\"field\":\"y\"}},\"id\":\"028581f6-1f75-4303-a3fb-ccc819855c9f\",\"type\":\"Arc\"},{\"attributes\":{},\"id\":\"8451b223-9d0b-4982-a25f-c4218819409b\",\"type\":\"BasicTicker\"},{\"attributes\":{\"formatter\":{\"id\":\"8243d12d-28e4-4107-b0d8-4b689da9c20c\",\"type\":\"BasicTickFormatter\"},\"plot\":{\"id\":\"485e47f4-02ad-4424-813f-3c93c2aebea4\",\"subtype\":\"Figure\",\"type\":\"Plot\"},\"ticker\":{\"id\":\"dcdc2a24-eb4d-40cc-99f5-4ad52513444e\",\"type\":\"BasicTicker\"}},\"id\":\"d25a8279-fbbc-4de9-820e-d9b1a569f7cb\",\"type\":\"LinearAxis\"},{\"attributes\":{\"plot\":{\"id\":\"fa50c9a9-85f2-4d7b-9f9a-2e84e87f22eb\",\"subtype\":\"Figure\",\"type\":\"Plot\"}},\"id\":\"67dd5399-f18a-428e-909b-a0f1abe18dd0\",\"type\":\"HelpTool\"},{\"attributes\":{\"below\":[{\"id\":\"58962607-84a9-4e0d-8b6a-ffaa32e9de33\",\"type\":\"LinearAxis\"}],\"left\":[{\"id\":\"f0359b97-e707-4e68-b7e8-d33d46538d4d\",\"type\":\"LinearAxis\"}],\"plot_height\":200,\"plot_width\":200,\"renderers\":[{\"id\":\"58962607-84a9-4e0d-8b6a-ffaa32e9de33\",\"type\":\"LinearAxis\"},{\"id\":\"07f25507-4e76-43ca-b51f-3d1028309051\",\"type\":\"Grid\"},{\"id\":\"f0359b97-e707-4e68-b7e8-d33d46538d4d\",\"type\":\"LinearAxis\"},{\"id\":\"28bde101-c839-40a1-b270-9b731e67d25e\",\"type\":\"Grid\"},{\"id\":\"b7e5ce2e-ab74-4421-b8d7-13dc8aad6b93\",\"type\":\"BoxAnnotation\"},{\"id\":\"cd92f167-a09e-481c-a833-8013b7fa79c7\",\"type\":\"GlyphRenderer\"}],\"title\":{\"id\":\"e2b9e5ea-092b-4d2d-b80b-992ee494123d\",\"type\":\"Title\"},\"tool_events\":{\"id\":\"d3707a23-a437-4221-9678-a12cf587d337\",\"type\":\"ToolEvents\"},\"toolbar\":{\"id\":\"eac894db-286f-4f4c-8cb8-c27b5d1da327\",\"type\":\"Toolbar\"},\"toolbar_location\":null,\"x_range\":{\"id\":\"5c45da0f-a0ff-4e5a-bc00-035a2676b453\",\"type\":\"DataRange1d\"},\"y_range\":{\"id\":\"7a608cee-b666-445b-bca3-85fba4915515\",\"type\":\"DataRange1d\"}},\"id\":\"56210502-35e5-433d-99d6-1076c1d7a765\",\"subtype\":\"Figure\",\"type\":\"Plot\"},{\"attributes\":{\"fill_color\":{\"value\":\"#3288BD\"},\"line_color\":{\"value\":\"#3288BD\"},\"radius\":{\"units\":\"data\",\"value\":0.1},\"x\":{\"field\":\"x\"},\"y\":{\"field\":\"y\"}},\"id\":\"2e8f21de-7268-4037-9a01-b1fbd68e7525\",\"type\":\"Circle\"},{\"attributes\":{\"plot\":{\"id\":\"56210502-35e5-433d-99d6-1076c1d7a765\",\"subtype\":\"Figure\",\"type\":\"Plot\"}},\"id\":\"f6427d1c-4a96-4aa5-acc9-4cf3bf77266c\",\"type\":\"WheelZoomTool\"},{\"attributes\":{\"angle\":{\"units\":\"rad\",\"value\":-0.7},\"fill_alpha\":{\"value\":0.1},\"fill_color\":{\"value\":\"#1f77b4\"},\"height\":{\"units\":\"screen\",\"value\":25},\"line_alpha\":{\"value\":0.1},\"line_color\":{\"value\":\"#1f77b4\"},\"width\":{\"units\":\"screen\",\"value\":15},\"x\":{\"field\":\"x\"},\"y\":{\"field\":\"y\"}},\"id\":\"ca007140-4294-49de-b50d-b516ddfdaab1\",\"type\":\"Ellipse\"},{\"attributes\":{},\"id\":\"03e70e9b-6d30-49e1-a898-4e14c41f4f3a\",\"type\":\"BasicTickFormatter\"},{\"attributes\":{\"plot\":{\"id\":\"485e47f4-02ad-4424-813f-3c93c2aebea4\",\"subtype\":\"Figure\",\"type\":\"Plot\"}},\"id\":\"c5659330-daf2-493e-9d75-c5365eaeb6d0\",\"type\":\"SaveTool\"},{\"attributes\":{\"fill_alpha\":{\"value\":0.1},\"fill_color\":{\"value\":\"#1f77b4\"},\"inner_radius\":{\"units\":\"screen\",\"value\":10},\"line_alpha\":{\"value\":0.1},\"line_color\":{\"value\":\"#1f77b4\"},\"outer_radius\":{\"units\":\"screen\",\"value\":20},\"x\":{\"field\":\"x\"},\"y\":{\"field\":\"y\"}},\"id\":\"9c41da5b-0676-4947-a554-39051a8dab1a\",\"type\":\"Annulus\"},{\"attributes\":{\"callback\":null},\"id\":\"9bf05f5a-1b8a-4eae-a159-bdf4b49c3f4b\",\"type\":\"DataRange1d\"},{\"attributes\":{},\"id\":\"dcdc2a24-eb4d-40cc-99f5-4ad52513444e\",\"type\":\"BasicTicker\"},{\"attributes\":{},\"id\":\"1c7a9709-1d68-47b6-a840-353bdaf60b25\",\"type\":\"BasicTickFormatter\"},{\"attributes\":{},\"id\":\"fbf6dc02-e2b1-4e46-a998-72cd851f9a4c\",\"type\":\"ToolEvents\"},{\"attributes\":{\"line_color\":{\"value\":\"#F46D43\"},\"x\":{\"field\":\"x\"},\"y\":{\"field\":\"y\"}},\"id\":\"5d26b09c-1a2d-4886-9e9d-8cdb6319b3a9\",\"type\":\"Line\"},{\"attributes\":{\"formatter\":{\"id\":\"8afbcd17-0a71-4d05-b69e-80c624cf358c\",\"type\":\"BasicTickFormatter\"},\"plot\":{\"id\":\"037fb05e-1150-4981-b5a2-8486bcf3f069\",\"subtype\":\"Figure\",\"type\":\"Plot\"},\"ticker\":{\"id\":\"f97d8f47-f0ab-4599-806c-acf7db4adab0\",\"type\":\"BasicTicker\"}},\"id\":\"0f721d0c-9ccd-4664-a303-71589ddec764\",\"type\":\"LinearAxis\"},{\"attributes\":{},\"id\":\"d3707a23-a437-4221-9678-a12cf587d337\",\"type\":\"ToolEvents\"},{\"attributes\":{\"data_source\":{\"id\":\"a4705cc7-0014-4982-867f-42928f43a104\",\"type\":\"ColumnDataSource\"},\"glyph\":{\"id\":\"1599ce21-6f46-449b-9d44-00810b65f210\",\"type\":\"MultiLine\"},\"hover_glyph\":null,\"nonselection_glyph\":{\"id\":\"475e9395-a9e3-49df-88e7-b6291f829822\",\"type\":\"MultiLine\"},\"selection_glyph\":null},\"id\":\"1dc9d312-2fd7-43b5-aa5a-0b944763be80\",\"type\":\"GlyphRenderer\"},{\"attributes\":{\"formatter\":{\"id\":\"daa96d89-860f-4d29-ac79-d9af073e6177\",\"type\":\"BasicTickFormatter\"},\"plot\":{\"id\":\"39bd5d42-4f82-4b58-bfaf-0f9e38c9366e\",\"subtype\":\"Figure\",\"type\":\"Plot\"},\"ticker\":{\"id\":\"7c64674d-a169-4d83-8a0c-a996c33ce67d\",\"type\":\"BasicTicker\"}},\"id\":\"60948166-3c81-480b-8175-0ead7635bdbc\",\"type\":\"LinearAxis\"},{\"attributes\":{\"dimension\":1,\"plot\":{\"id\":\"4fb1fe88-24e7-4bc7-8ce5-a0cb5ba0add9\",\"subtype\":\"Figure\",\"type\":\"Plot\"},\"ticker\":{\"id\":\"56d15ea3-cff4-4e2b-8ed4-5afbda793492\",\"type\":\"BasicTicker\"}},\"id\":\"015dfc71-0666-4c69-b1ea-8c11c510d36e\",\"type\":\"Grid\"},{\"attributes\":{\"plot\":{\"id\":\"4fb1fe88-24e7-4bc7-8ce5-a0cb5ba0add9\",\"subtype\":\"Figure\",\"type\":\"Plot\"}},\"id\":\"c1b0afcf-32bc-4d16-8c9a-614e308b97ec\",\"type\":\"WheelZoomTool\"},{\"attributes\":{},\"id\":\"c049b7be-d159-4b0b-967b-d543ae512094\",\"type\":\"BasicTicker\"},{\"attributes\":{\"plot\":{\"id\":\"5a28de21-d0d2-45bb-b697-a6eee73e2697\",\"subtype\":\"Figure\",\"type\":\"Plot\"}},\"id\":\"7b0ac0a1-68e8-4880-9661-ae9def946478\",\"type\":\"HelpTool\"},{\"attributes\":{\"dimension\":1,\"plot\":{\"id\":\"39bd5d42-4f82-4b58-bfaf-0f9e38c9366e\",\"subtype\":\"Figure\",\"type\":\"Plot\"},\"ticker\":{\"id\":\"c049b7be-d159-4b0b-967b-d543ae512094\",\"type\":\"BasicTicker\"}},\"id\":\"cc7586c5-9bc5-4368-81ae-c3399b5b3e47\",\"type\":\"Grid\"},{\"attributes\":{\"plot\":{\"id\":\"485e47f4-02ad-4424-813f-3c93c2aebea4\",\"subtype\":\"Figure\",\"type\":\"Plot\"}},\"id\":\"28659b9c-56a8-46f4-a007-40b070482ef3\",\"type\":\"HelpTool\"},{\"attributes\":{\"bottom_units\":\"screen\",\"fill_alpha\":{\"value\":0.5},\"fill_color\":{\"value\":\"lightgrey\"},\"left_units\":\"screen\",\"level\":\"overlay\",\"line_alpha\":{\"value\":1.0},\"line_color\":{\"value\":\"black\"},\"line_dash\":[4,4],\"line_width\":{\"value\":2},\"plot\":null,\"render_mode\":\"css\",\"right_units\":\"screen\",\"top_units\":\"screen\"},\"id\":\"ca649049-27a4-4cef-a8a4-8e9ebffecf29\",\"type\":\"BoxAnnotation\"},{\"attributes\":{},\"id\":\"3c1d7a72-288a-4b5d-84fa-1c7252239386\",\"type\":\"ToolEvents\"},{\"attributes\":{\"plot\":{\"id\":\"fa50c9a9-85f2-4d7b-9f9a-2e84e87f22eb\",\"subtype\":\"Figure\",\"type\":\"Plot\"}},\"id\":\"d5b14439-bfa5-4081-811a-7b2ca9d0703f\",\"type\":\"ResetTool\"},{\"attributes\":{\"angle\":{\"units\":\"rad\",\"value\":-0.7},\"fill_color\":{\"value\":\"#1D91C0\"},\"height\":{\"units\":\"screen\",\"value\":25},\"line_color\":{\"value\":\"#1D91C0\"},\"width\":{\"units\":\"screen\",\"value\":15},\"x\":{\"field\":\"x\"},\"y\":{\"field\":\"y\"}},\"id\":\"adb9cd22-19f6-4da8-9d28-191948393a4d\",\"type\":\"Ellipse\"},{\"attributes\":{\"plot\":null,\"text\":\"ellipse\"},\"id\":\"b9fb4754-a4c7-4563-a492-57b4c8c0ea8e\",\"type\":\"Title\"},{\"attributes\":{\"data_source\":{\"id\":\"c8e9db9e-e60f-4ce1-bb6c-1655001b089e\",\"type\":\"ColumnDataSource\"},\"glyph\":{\"id\":\"5a61a6ee-cf25-47c9-a977-13e7f257ef29\",\"type\":\"Annulus\"},\"hover_glyph\":null,\"nonselection_glyph\":{\"id\":\"9c41da5b-0676-4947-a554-39051a8dab1a\",\"type\":\"Annulus\"},\"selection_glyph\":null},\"id\":\"8e15e206-34ad-40f8-b1c1-d56a4159248f\",\"type\":\"GlyphRenderer\"},{\"attributes\":{\"callback\":null},\"id\":\"0fcec651-2f28-41cc-aa72-6927e6444ecb\",\"type\":\"DataRange1d\"},{\"attributes\":{\"below\":[{\"id\":\"f3801693-9a99-4271-997d-4bfe7882c699\",\"type\":\"LinearAxis\"}],\"left\":[{\"id\":\"d0cf0270-5960-4a66-9479-630092c7a2ff\",\"type\":\"LinearAxis\"}],\"plot_height\":200,\"plot_width\":200,\"renderers\":[{\"id\":\"f3801693-9a99-4271-997d-4bfe7882c699\",\"type\":\"LinearAxis\"},{\"id\":\"f8da2930-93dc-41d5-bf53-aa38cfc04e8b\",\"type\":\"Grid\"},{\"id\":\"d0cf0270-5960-4a66-9479-630092c7a2ff\",\"type\":\"LinearAxis\"},{\"id\":\"ec31400d-7737-4620-8526-723011912849\",\"type\":\"Grid\"},{\"id\":\"e72d94ff-c8c0-4d64-af14-e8949f205508\",\"type\":\"BoxAnnotation\"},{\"id\":\"949c4bfa-81ff-4ded-a7c5-045dab9e5743\",\"type\":\"GlyphRenderer\"}],\"title\":{\"id\":\"a3a7f6d4-3066-436a-8ecc-2c7856cae6d8\",\"type\":\"Title\"},\"tool_events\":{\"id\":\"2b3a39b4-545c-4034-92e7-3479f7a5dba5\",\"type\":\"ToolEvents\"},\"toolbar\":{\"id\":\"ce38333f-30a5-4137-ba0c-2c1ffc01eee2\",\"type\":\"Toolbar\"},\"toolbar_location\":null,\"x_range\":{\"id\":\"6cc398af-e681-4e9b-8d9c-d3096eff1dbc\",\"type\":\"DataRange1d\"},\"y_range\":{\"id\":\"2c95d6e9-570a-4e78-a430-3582a41b8672\",\"type\":\"DataRange1d\"}},\"id\":\"5a28de21-d0d2-45bb-b697-a6eee73e2697\",\"subtype\":\"Figure\",\"type\":\"Plot\"},{\"attributes\":{\"plot\":{\"id\":\"485e47f4-02ad-4424-813f-3c93c2aebea4\",\"subtype\":\"Figure\",\"type\":\"Plot\"}},\"id\":\"29687baa-ce38-4594-89b7-f6fb786465ee\",\"type\":\"ResetTool\"},{\"attributes\":{\"plot\":{\"id\":\"485e47f4-02ad-4424-813f-3c93c2aebea4\",\"subtype\":\"Figure\",\"type\":\"Plot\"}},\"id\":\"ca5b4b8b-5f88-40ee-8a81-4a7d9d0eaa6f\",\"type\":\"WheelZoomTool\"},{\"attributes\":{\"overlay\":{\"id\":\"e72d94ff-c8c0-4d64-af14-e8949f205508\",\"type\":\"BoxAnnotation\"},\"plot\":{\"id\":\"5a28de21-d0d2-45bb-b697-a6eee73e2697\",\"subtype\":\"Figure\",\"type\":\"Plot\"}},\"id\":\"b4aedfa9-03ae-468b-9f35-534cd66fb44f\",\"type\":\"BoxZoomTool\"},{\"attributes\":{\"bottom_units\":\"screen\",\"fill_alpha\":{\"value\":0.5},\"fill_color\":{\"value\":\"lightgrey\"},\"left_units\":\"screen\",\"level\":\"overlay\",\"line_alpha\":{\"value\":1.0},\"line_color\":{\"value\":\"black\"},\"line_dash\":[4,4],\"line_width\":{\"value\":2},\"plot\":null,\"render_mode\":\"css\",\"right_units\":\"screen\",\"top_units\":\"screen\"},\"id\":\"3dfaa98f-4296-434d-86ff-a2c5a7fdf847\",\"type\":\"BoxAnnotation\"},{\"attributes\":{\"below\":[{\"id\":\"60948166-3c81-480b-8175-0ead7635bdbc\",\"type\":\"LinearAxis\"}],\"left\":[{\"id\":\"1ac50154-3ea0-4b02-a8b8-cc2fdbc3d510\",\"type\":\"LinearAxis\"}],\"plot_height\":200,\"plot_width\":200,\"renderers\":[{\"id\":\"60948166-3c81-480b-8175-0ead7635bdbc\",\"type\":\"LinearAxis\"},{\"id\":\"34b6272b-6911-4ef5-a103-555dbc2c8a3f\",\"type\":\"Grid\"},{\"id\":\"1ac50154-3ea0-4b02-a8b8-cc2fdbc3d510\",\"type\":\"LinearAxis\"},{\"id\":\"cc7586c5-9bc5-4368-81ae-c3399b5b3e47\",\"type\":\"Grid\"},{\"id\":\"3dfaa98f-4296-434d-86ff-a2c5a7fdf847\",\"type\":\"BoxAnnotation\"},{\"id\":\"8e15e206-34ad-40f8-b1c1-d56a4159248f\",\"type\":\"GlyphRenderer\"}],\"title\":{\"id\":\"8c7b0313-3cca-4763-9f43-615067b43d65\",\"type\":\"Title\"},\"tool_events\":{\"id\":\"3c1d7a72-288a-4b5d-84fa-1c7252239386\",\"type\":\"ToolEvents\"},\"toolbar\":{\"id\":\"c3e2f3c1-79a0-495e-931f-766dc8ca62c9\",\"type\":\"Toolbar\"},\"toolbar_location\":null,\"x_range\":{\"id\":\"04997d95-d14d-423f-b84d-8a33cee2e072\",\"type\":\"DataRange1d\"},\"y_range\":{\"id\":\"d0e817d5-3aa6-4905-af53-cb5f5d6b057f\",\"type\":\"DataRange1d\"}},\"id\":\"39bd5d42-4f82-4b58-bfaf-0f9e38c9366e\",\"subtype\":\"Figure\",\"type\":\"Plot\"},{\"attributes\":{},\"id\":\"09b7891d-de9a-4d85-9150-9309d5326e9f\",\"type\":\"BasicTickFormatter\"},{\"attributes\":{\"sizing_mode\":\"scale_width\",\"toolbar_location\":\"above\",\"tools\":[{\"id\":\"4c7f580e-121a-4e04-ac9c-a089dd796f96\",\"type\":\"PanTool\"},{\"id\":\"ca5b4b8b-5f88-40ee-8a81-4a7d9d0eaa6f\",\"type\":\"WheelZoomTool\"},{\"id\":\"b7a972d8-b454-41fd-8e34-b683fe6a76f7\",\"type\":\"BoxZoomTool\"},{\"id\":\"c5659330-daf2-493e-9d75-c5365eaeb6d0\",\"type\":\"SaveTool\"},{\"id\":\"29687baa-ce38-4594-89b7-f6fb786465ee\",\"type\":\"ResetTool\"},{\"id\":\"28659b9c-56a8-46f4-a007-40b070482ef3\",\"type\":\"HelpTool\"},{\"id\":\"db8a1d7b-aef6-4eae-8170-8a288b2385dc\",\"type\":\"PanTool\"},{\"id\":\"73aae8e0-1dee-40f3-a292-1b47e000ee6e\",\"type\":\"WheelZoomTool\"},{\"id\":\"06a19e33-4bea-4502-abbb-99a018452ab2\",\"type\":\"BoxZoomTool\"},{\"id\":\"92708e5a-51a2-43c5-92ac-ab839fea6c66\",\"type\":\"SaveTool\"},{\"id\":\"e43c9a96-0e30-43cb-9021-922a4460cf74\",\"type\":\"ResetTool\"},{\"id\":\"14d556d7-3bb8-413b-9627-0f3b99ef3a82\",\"type\":\"HelpTool\"},{\"id\":\"b6440b84-d62d-49e2-8e0d-72e3d03e81fb\",\"type\":\"PanTool\"},{\"id\":\"5273edc2-dd2a-4529-b84e-8842b4bef8f2\",\"type\":\"WheelZoomTool\"},{\"id\":\"85e4884c-4816-4772-8bc3-ce482b24cd20\",\"type\":\"BoxZoomTool\"},{\"id\":\"da1e18ac-9346-4d42-aebc-15bbc80e54ce\",\"type\":\"SaveTool\"},{\"id\":\"d5b14439-bfa5-4081-811a-7b2ca9d0703f\",\"type\":\"ResetTool\"},{\"id\":\"67dd5399-f18a-428e-909b-a0f1abe18dd0\",\"type\":\"HelpTool\"},{\"id\":\"887e18ef-6bbc-4c11-b522-d0c9f489bd27\",\"type\":\"PanTool\"},{\"id\":\"b9d8528a-6cbe-4a26-bb22-3eff9d49be2a\",\"type\":\"WheelZoomTool\"},{\"id\":\"f931780a-7f4f-4f5f-9050-bddf0ebe7bef\",\"type\":\"BoxZoomTool\"},{\"id\":\"f98e573d-b11a-40b1-93d3-220a3f649b48\",\"type\":\"SaveTool\"},{\"id\":\"9644efe0-0b36-4f50-a025-31f6b76de8d2\",\"type\":\"ResetTool\"},{\"id\":\"49eeae45-05c0-41b4-8c5e-1f6864a078d4\",\"type\":\"HelpTool\"},{\"id\":\"dfbac2ea-00b2-43c4-aff0-5800e9362399\",\"type\":\"PanTool\"},{\"id\":\"2bbf4272-a880-4d4e-9efe-b3b933428463\",\"type\":\"WheelZoomTool\"},{\"id\":\"b4aedfa9-03ae-468b-9f35-534cd66fb44f\",\"type\":\"BoxZoomTool\"},{\"id\":\"29a6daa2-4ce6-48c9-b50f-82d90a53d6b0\",\"type\":\"SaveTool\"},{\"id\":\"bcd16a1a-d911-4f67-922f-2861c93fe5c9\",\"type\":\"ResetTool\"},{\"id\":\"7b0ac0a1-68e8-4880-9661-ae9def946478\",\"type\":\"HelpTool\"},{\"id\":\"87ac49b4-97c0-4d97-b3e9-3db4598a88e4\",\"type\":\"PanTool\"},{\"id\":\"c1b0afcf-32bc-4d16-8c9a-614e308b97ec\",\"type\":\"WheelZoomTool\"},{\"id\":\"1c8a6073-57e5-470c-a2e3-a87053d2f83c\",\"type\":\"BoxZoomTool\"},{\"id\":\"8259b923-4ae2-41bd-8d69-db6eb0d2d61b\",\"type\":\"SaveTool\"},{\"id\":\"082782b0-9b03-4ec2-a184-c404185f37f3\",\"type\":\"ResetTool\"},{\"id\":\"6092e771-0f8a-41a1-a48a-6262b31518b5\",\"type\":\"HelpTool\"},{\"id\":\"67ae70c6-7c08-4fe9-bed3-1f1bf2d67776\",\"type\":\"PanTool\"},{\"id\":\"f6427d1c-4a96-4aa5-acc9-4cf3bf77266c\",\"type\":\"WheelZoomTool\"},{\"id\":\"583f54fd-8494-4d5c-9f08-7f65fddf1c6a\",\"type\":\"BoxZoomTool\"},{\"id\":\"496c63c3-093c-4442-971f-626350bb4d48\",\"type\":\"SaveTool\"},{\"id\":\"1fafa288-bc9e-4002-9c83-c5ab3e10da7d\",\"type\":\"ResetTool\"},{\"id\":\"9bbefbeb-8aef-46e7-b546-51c53135825e\",\"type\":\"HelpTool\"},{\"id\":\"c6c19384-410e-4264-9a68-3a60ff5d18a5\",\"type\":\"PanTool\"},{\"id\":\"dd74304e-91d4-4df2-986f-2c9ee7fb0072\",\"type\":\"WheelZoomTool\"},{\"id\":\"84036234-b11f-454b-89c2-1010ddbb42fa\",\"type\":\"BoxZoomTool\"},{\"id\":\"022adef8-b5fc-4d60-8aef-2e4bb7d80720\",\"type\":\"SaveTool\"},{\"id\":\"2035e5d2-2f0b-45c6-b65c-21ed82ba3c30\",\"type\":\"ResetTool\"},{\"id\":\"f2a83ce2-8664-42c7-80b4-7853a9ed7291\",\"type\":\"HelpTool\"}]},\"id\":\"5907c755-bb2b-4b3b-a86c-ee8647ce8279\",\"type\":\"ToolbarBox\"},{\"attributes\":{\"active_drag\":\"auto\",\"active_scroll\":\"auto\",\"active_tap\":\"auto\",\"tools\":[{\"id\":\"dfbac2ea-00b2-43c4-aff0-5800e9362399\",\"type\":\"PanTool\"},{\"id\":\"2bbf4272-a880-4d4e-9efe-b3b933428463\",\"type\":\"WheelZoomTool\"},{\"id\":\"b4aedfa9-03ae-468b-9f35-534cd66fb44f\",\"type\":\"BoxZoomTool\"},{\"id\":\"29a6daa2-4ce6-48c9-b50f-82d90a53d6b0\",\"type\":\"SaveTool\"},{\"id\":\"bcd16a1a-d911-4f67-922f-2861c93fe5c9\",\"type\":\"ResetTool\"},{\"id\":\"7b0ac0a1-68e8-4880-9661-ae9def946478\",\"type\":\"HelpTool\"}]},\"id\":\"ce38333f-30a5-4137-ba0c-2c1ffc01eee2\",\"type\":\"Toolbar\"},{\"attributes\":{\"plot\":{\"id\":\"39bd5d42-4f82-4b58-bfaf-0f9e38c9366e\",\"subtype\":\"Figure\",\"type\":\"Plot\"}},\"id\":\"73aae8e0-1dee-40f3-a292-1b47e000ee6e\",\"type\":\"WheelZoomTool\"}],\"root_ids\":[\"664f3bc1-a5bf-4178-b0eb-899d4666ca0c\"]},\"title\":\"Bokeh Application\",\"version\":\"0.12.0\"}};\n",
       "            var render_items = [{\"docid\":\"f3b286e0-38d4-441d-a495-0515f8852ed3\",\"elementid\":\"897e8d56-c5ad-484a-867c-a1c797377e8d\",\"modelid\":\"664f3bc1-a5bf-4178-b0eb-899d4666ca0c\",\"notebook_comms_target\":\"ce4bb3c9-6fca-47ea-b4e3-59dbd203eb50\"}];\n",
       "            \n",
       "            Bokeh.embed.embed_items(docs_json, render_items);\n",
       "        });\n",
       "      },\n",
       "      function(Bokeh) {\n",
       "      }\n",
       "    ];\n",
       "  \n",
       "    function run_inline_js() {\n",
       "      for (var i = 0; i < inline_js.length; i++) {\n",
       "        inline_js[i](window.Bokeh);\n",
       "      }\n",
       "    }\n",
       "  \n",
       "    if (window._bokeh_is_loading === 0) {\n",
       "      console.log(\"Bokeh: BokehJS loaded, going straight to plotting\");\n",
       "      run_inline_js();\n",
       "    } else {\n",
       "      load_libs(js_urls, function() {\n",
       "        console.log(\"Bokeh: BokehJS plotting callback run at\", now());\n",
       "        run_inline_js();\n",
       "      });\n",
       "    }\n",
       "  }(this));\n",
       "</script>"
      ]
     },
     "metadata": {},
     "output_type": "display_data"
    },
    {
     "data": {
      "text/html": [
       "<p><code>&lt;Bokeh Notebook handle for <strong>In[14]</strong>&gt;</code></p>"
      ],
      "text/plain": [
       "<bokeh.io._CommsHandle at 0x10f40f7d0>"
      ]
     },
     "execution_count": 14,
     "metadata": {},
     "output_type": "execute_result"
    }
   ],
   "source": [
    "show(gridplot(figures, ncols=3, plot_width=200, plot_height=200))\n"
   ]
  },
  {
   "cell_type": "code",
   "execution_count": null,
   "metadata": {
    "collapsed": true
   },
   "outputs": [],
   "source": []
  }
 ],
 "metadata": {
  "kernelspec": {
   "display_name": "Python 2",
   "language": "python",
   "name": "python2"
  },
  "language_info": {
   "codemirror_mode": {
    "name": "ipython",
    "version": 2
   },
   "file_extension": ".py",
   "mimetype": "text/x-python",
   "name": "python",
   "nbconvert_exporter": "python",
   "pygments_lexer": "ipython2",
   "version": "2.7.11"
  }
 },
 "nbformat": 4,
 "nbformat_minor": 0
}
