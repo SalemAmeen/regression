{
 "cells": [
  {
   "cell_type": "markdown",
   "metadata": {},
   "source": [
    "Salem Ameen, PhD student at Salford University\n",
    "\n",
    "###  Computer Hardware Data Set \n",
    "\n",
    "Bayesian Ridge Regression"
   ]
  },
  {
   "cell_type": "markdown",
   "metadata": {},
   "source": [
    "# Import the Libraries"
   ]
  },
  {
   "cell_type": "code",
   "execution_count": 44,
   "metadata": {
    "collapsed": false
   },
   "outputs": [
    {
     "data": {
      "text/html": [
       "\n",
       "    <div class=\"bk-root\">\n",
       "        <a href=\"http://bokeh.pydata.org\" target=\"_blank\" class=\"bk-logo bk-logo-small bk-logo-notebook\"></a>\n",
       "        <span id=\"5c6a7eec-de2e-402e-b25b-e32f64559c06\">Loading BokehJS ...</span>\n",
       "    </div>"
      ]
     },
     "metadata": {},
     "output_type": "display_data"
    },
    {
     "data": {
      "application/javascript": [
       "\n",
       "(function(global) {\n",
       "  function now() {\n",
       "    return new Date();\n",
       "  }\n",
       "\n",
       "  var force = \"1\";\n",
       "\n",
       "  if (typeof (window._bokeh_onload_callbacks) === \"undefined\" || force !== \"\") {\n",
       "    window._bokeh_onload_callbacks = [];\n",
       "    window._bokeh_is_loading = undefined;\n",
       "  }\n",
       "\n",
       "\n",
       "  \n",
       "  if (typeof (window._bokeh_timeout) === \"undefined\" || force !== \"\") {\n",
       "    window._bokeh_timeout = Date.now() + 5000;\n",
       "    window._bokeh_failed_load = false;\n",
       "  }\n",
       "\n",
       "  var NB_LOAD_WARNING = {'data': {'text/html':\n",
       "     \"<div style='background-color: #fdd'>\\n\"+\n",
       "     \"<p>\\n\"+\n",
       "     \"BokehJS does not appear to have successfully loaded. If loading BokehJS from CDN, this \\n\"+\n",
       "     \"may be due to a slow or bad network connection. Possible fixes:\\n\"+\n",
       "     \"</p>\\n\"+\n",
       "     \"<ul>\\n\"+\n",
       "     \"<li>re-rerun `output_notebook()` to attempt to load from CDN again, or</li>\\n\"+\n",
       "     \"<li>use INLINE resources instead, as so:</li>\\n\"+\n",
       "     \"</ul>\\n\"+\n",
       "     \"<code>\\n\"+\n",
       "     \"from bokeh.resources import INLINE\\n\"+\n",
       "     \"output_notebook(resources=INLINE)\\n\"+\n",
       "     \"</code>\\n\"+\n",
       "     \"</div>\"}};\n",
       "\n",
       "  function display_loaded() {\n",
       "    if (window.Bokeh !== undefined) {\n",
       "      Bokeh.$(\"#5c6a7eec-de2e-402e-b25b-e32f64559c06\").text(\"BokehJS successfully loaded.\");\n",
       "    } else if (Date.now() < window._bokeh_timeout) {\n",
       "      setTimeout(display_loaded, 100)\n",
       "    }\n",
       "  }\n",
       "\n",
       "  function run_callbacks() {\n",
       "    window._bokeh_onload_callbacks.forEach(function(callback) { callback() });\n",
       "    delete window._bokeh_onload_callbacks\n",
       "    console.info(\"Bokeh: all callbacks have finished\");\n",
       "  }\n",
       "\n",
       "  function load_libs(js_urls, callback) {\n",
       "    window._bokeh_onload_callbacks.push(callback);\n",
       "    if (window._bokeh_is_loading > 0) {\n",
       "      console.log(\"Bokeh: BokehJS is being loaded, scheduling callback at\", now());\n",
       "      return null;\n",
       "    }\n",
       "    if (js_urls == null || js_urls.length === 0) {\n",
       "      run_callbacks();\n",
       "      return null;\n",
       "    }\n",
       "    console.log(\"Bokeh: BokehJS not loaded, scheduling load and callback at\", now());\n",
       "    window._bokeh_is_loading = js_urls.length;\n",
       "    for (var i = 0; i < js_urls.length; i++) {\n",
       "      var url = js_urls[i];\n",
       "      var s = document.createElement('script');\n",
       "      s.src = url;\n",
       "      s.async = false;\n",
       "      s.onreadystatechange = s.onload = function() {\n",
       "        window._bokeh_is_loading--;\n",
       "        if (window._bokeh_is_loading === 0) {\n",
       "          console.log(\"Bokeh: all BokehJS libraries loaded\");\n",
       "          run_callbacks()\n",
       "        }\n",
       "      };\n",
       "      s.onerror = function() {\n",
       "        console.warn(\"failed to load library \" + url);\n",
       "      };\n",
       "      console.log(\"Bokeh: injecting script tag for BokehJS library: \", url);\n",
       "      document.getElementsByTagName(\"head\")[0].appendChild(s);\n",
       "    }\n",
       "  };var element = document.getElementById(\"5c6a7eec-de2e-402e-b25b-e32f64559c06\");\n",
       "  if (element == null) {\n",
       "    console.log(\"Bokeh: ERROR: autoload.js configured with elementid '5c6a7eec-de2e-402e-b25b-e32f64559c06' but no matching script tag was found. \")\n",
       "    return false;\n",
       "  }\n",
       "\n",
       "  var js_urls = ['https://cdn.pydata.org/bokeh/release/bokeh-0.12.2.min.js', 'https://cdn.pydata.org/bokeh/release/bokeh-widgets-0.12.2.min.js', 'https://cdn.pydata.org/bokeh/release/bokeh-compiler-0.12.2.min.js'];\n",
       "\n",
       "  var inline_js = [\n",
       "    function(Bokeh) {\n",
       "      Bokeh.set_log_level(\"info\");\n",
       "    },\n",
       "    \n",
       "    function(Bokeh) {\n",
       "      \n",
       "      Bokeh.$(\"#5c6a7eec-de2e-402e-b25b-e32f64559c06\").text(\"BokehJS is loading...\");\n",
       "    },\n",
       "    function(Bokeh) {\n",
       "      console.log(\"Bokeh: injecting CSS: https://cdn.pydata.org/bokeh/release/bokeh-0.12.2.min.css\");\n",
       "      Bokeh.embed.inject_css(\"https://cdn.pydata.org/bokeh/release/bokeh-0.12.2.min.css\");\n",
       "      console.log(\"Bokeh: injecting CSS: https://cdn.pydata.org/bokeh/release/bokeh-widgets-0.12.2.min.css\");\n",
       "      Bokeh.embed.inject_css(\"https://cdn.pydata.org/bokeh/release/bokeh-widgets-0.12.2.min.css\");\n",
       "    }\n",
       "  ];\n",
       "\n",
       "  function run_inline_js() {\n",
       "    \n",
       "    if ((window.Bokeh !== undefined) || (force === \"1\")) {\n",
       "      for (var i = 0; i < inline_js.length; i++) {\n",
       "        inline_js[i](window.Bokeh);\n",
       "      }if (force === \"1\") {\n",
       "        display_loaded();\n",
       "      }} else if (Date.now() < window._bokeh_timeout) {\n",
       "      setTimeout(run_inline_js, 100);\n",
       "    } else if (!window._bokeh_failed_load) {\n",
       "      console.log(\"Bokeh: BokehJS failed to load within specified timeout.\");\n",
       "      window._bokeh_failed_load = true;\n",
       "    } else if (!force) {\n",
       "      var cell = $(\"#5c6a7eec-de2e-402e-b25b-e32f64559c06\").parents('.cell').data().cell;\n",
       "      cell.output_area.append_execute_result(NB_LOAD_WARNING)\n",
       "    }\n",
       "\n",
       "  }\n",
       "\n",
       "  if (window._bokeh_is_loading === 0) {\n",
       "    console.log(\"Bokeh: BokehJS loaded, going straight to plotting\");\n",
       "    run_inline_js();\n",
       "  } else {\n",
       "    load_libs(js_urls, function() {\n",
       "      console.log(\"Bokeh: BokehJS plotting callback run at\", now());\n",
       "      run_inline_js();\n",
       "    });\n",
       "  }\n",
       "}(this));"
      ]
     },
     "metadata": {},
     "output_type": "display_data"
    }
   ],
   "source": [
    "import numpy as np\n",
    "import pandas\n",
    "from numpy import *\n",
    "import time\n",
    "import sys\n",
    "import pandas as pd\n",
    "import matplotlib.pyplot as plt\n",
    "from sklearn import feature_selection\n",
    "from sklearn.linear_model import BayesianRidge\n",
    "from sklearn.learning_curve import learning_curve, validation_curve\n",
    "from sklearn.cross_validation import cross_val_predict\n",
    "from sklearn import metrics, grid_search, cross_validation\n",
    "from IPython.display import set_matplotlib_formats\n",
    "from bokeh.plotting import figure, show, output_notebook\n",
    "from sklearn.grid_search import GridSearchCV, RandomizedSearchCV\n",
    "from sklearn.metrics import r2_score\n",
    "from bokeh.layouts import gridplot\n",
    "output_notebook()\n",
    "set_matplotlib_formats('png', 'pdf')\n",
    "%matplotlib inline\n",
    "plt.rcParams['figure.figsize'] = (6, 6)"
   ]
  },
  {
   "cell_type": "markdown",
   "metadata": {},
   "source": [
    "# Load data"
   ]
  },
  {
   "cell_type": "markdown",
   "metadata": {},
   "source": [
    "In the previous file we have not change the data as there is no missing value or add any new parameters so it can be downloaded from the web directly. "
   ]
  },
  {
   "cell_type": "code",
   "execution_count": 45,
   "metadata": {
    "collapsed": false
   },
   "outputs": [
    {
     "name": "stdout",
     "output_type": "stream",
     "text": [
      "Number of examples 209\n"
     ]
    }
   ],
   "source": [
    "url = 'http://archive.ics.uci.edu/ml/machine-learning-databases/cpu-performance/machine.data'\n",
    "names = ['vendor', 'Model', 'MYCT', 'MMIN', 'MMAX', 'CACH', 'CHMIN','CHMAX','PRP','ERP']\n",
    "feature_names = ['MYCT', 'MMIN', 'MMAX', 'CACH', 'CHMIN','CHMAX','PRP','ERP']\n",
    "feature_cols = ['MYCT', 'MMIN', 'MMAX', 'CACH', 'CHMIN','CHMAX','PRP','ERP']\n",
    "data = pd.read_csv(url, sep=',', names = names)\n",
    "data = data.drop('vendor',1)\n",
    "data = data.drop('Model',1)\n",
    "\n",
    "from sklearn import preprocessing\n",
    "\n",
    "def number_encode_features(df):\n",
    "    result = df.copy()\n",
    "    encoders = {}\n",
    "    for column in result.columns:\n",
    "        if result.dtypes[column] == np.object:\n",
    "            encoders[column] = preprocessing.LabelEncoder()\n",
    "            result[column] = encoders[column].fit_transform(result[column])\n",
    "    return result, encoders\n",
    "\n",
    "data, _ = number_encode_features(data)\n",
    "\n",
    "dataset = data.values\n",
    "X = dataset[:,0:7]\n",
    "Y = dataset[:,7]\n",
    "print 'Number of examples',len(X)\n"
   ]
  },
  {
   "cell_type": "code",
   "execution_count": 46,
   "metadata": {
    "collapsed": false
   },
   "outputs": [
    {
     "data": {
      "text/plain": [
       "(209, 8)"
      ]
     },
     "execution_count": 46,
     "metadata": {},
     "output_type": "execute_result"
    }
   ],
   "source": [
    "dataset.shape"
   ]
  },
  {
   "cell_type": "code",
   "execution_count": 47,
   "metadata": {
    "collapsed": false
   },
   "outputs": [
    {
     "name": "stdout",
     "output_type": "stream",
     "text": [
      "Number of training examples 167\n",
      "Number of validation examples 42\n"
     ]
    }
   ],
   "source": [
    "# Make developement dataset for genrilization and final testing\n",
    "from sklearn.cross_validation import train_test_split\n",
    "# Extracting 20% testing data\n",
    "X_train, X_test, y_train, y_test = train_test_split(\n",
    "    X, Y, test_size=0.20, random_state=0)\n",
    "X = X_train\n",
    "Y = y_train\n",
    "new_data      = X_train\n",
    "new_test_data = X_test\n",
    "print 'Number of training examples',len(X_train)\n",
    "print 'Number of validation examples',len(X_test)"
   ]
  },
  {
   "cell_type": "markdown",
   "metadata": {},
   "source": [
    "Number of training data is very small so we need to use cross validation instead of spareate another validation data."
   ]
  },
  {
   "cell_type": "markdown",
   "metadata": {},
   "source": [
    "From the previous visulization the data has no missing value but has many outlier and some sparisty"
   ]
  },
  {
   "cell_type": "markdown",
   "metadata": {},
   "source": [
    "# Ranking of the feature's importance to the target"
   ]
  },
  {
   "cell_type": "code",
   "execution_count": 48,
   "metadata": {
    "collapsed": false
   },
   "outputs": [
    {
     "name": "stdout",
     "output_type": "stream",
     "text": [
      "MYCT \t0.082939667278\n",
      "MMIN \t0.671234942388\n",
      "MMAX \t0.812164741889\n",
      "CACH \t0.420689798646\n",
      "CHMIN \t0.372783817938\n",
      "CHMAX \t0.350620417309\n",
      "PRP \t0.934067359004\n",
      "ERP \t1.0\n"
     ]
    }
   ],
   "source": [
    "# Using just correlation coefficient even in prevoius file we show them using data frame\n",
    "for col in feature_cols:\n",
    "    lm = BayesianRidge(fit_intercept=True)\n",
    "    lm.fit(data[[col]], data['ERP'])\n",
    "    print col,'\\t', lm.score(data[[col]], data['ERP'])"
   ]
  },
  {
   "cell_type": "code",
   "execution_count": 49,
   "metadata": {
    "collapsed": false
   },
   "outputs": [
    {
     "name": "stdout",
     "output_type": "stream",
     "text": [
      "Feature Name      Score         Pvalue\n",
      "MYCT \t\t18.7784506906 \t2.28953652773e-05\n",
      "MMIN \t\t422.636024187 \t6.7010130085e-52\n",
      "MMAX \t\t895.035239011 \t4.20559221576e-77\n",
      "CACH \t\t150.332889484 \t2.4462451136e-26\n",
      "CHMIN \t\t123.042583867 \t9.66488661491e-23\n",
      "CHMAX \t\t111.779441433 \t3.62169179267e-21\n",
      "PRP \t\t2932.57297327 \t3.42704839853e-124\n",
      "ERP \t\tinf \t0.0\n"
     ]
    }
   ],
   "source": [
    "# Randing the important features to the target\n",
    "model = feature_selection.SelectKBest(score_func=feature_selection.f_regression,k=4)\n",
    "results = model.fit(data[feature_cols], data['ERP'])\n",
    "k=0\n",
    "print 'Feature Name      Score         Pvalue'\n",
    "for feat in feature_cols:\n",
    "    print feat,'\\t\\t',results.scores_[k],'\\t',results.pvalues_[k]\n",
    "    k=k+1\n"
   ]
  },
  {
   "cell_type": "markdown",
   "metadata": {},
   "source": [
    "# Set the parameters for cross validation"
   ]
  },
  {
   "cell_type": "code",
   "execution_count": 50,
   "metadata": {
    "collapsed": true
   },
   "outputs": [],
   "source": [
    "num_folds = 10\n",
    "num_instances = len(X)\n",
    "seed = 7\n",
    "kfold = cross_validation.KFold(n=num_instances, n_folds=num_folds, random_state=seed)"
   ]
  },
  {
   "cell_type": "markdown",
   "metadata": {},
   "source": [
    " # Set the parameters for bias-variance dilemma"
   ]
  },
  {
   "cell_type": "code",
   "execution_count": 51,
   "metadata": {
    "collapsed": false
   },
   "outputs": [],
   "source": [
    "def plot_learning_curve(estimator, title, X, y, ylim=None, cv=None,\n",
    "                        n_jobs=1, train_sizes=np.linspace(.1, 1.0, 5)):\n",
    "    plt.figure()\n",
    "    plt.title(title)\n",
    "    if ylim is not None:\n",
    "        plt.ylim(*ylim)\n",
    "    plt.xlabel(\"Training examples\")\n",
    "    plt.ylabel(\"Score\")\n",
    "    train_sizes, train_scores, test_scores = learning_curve(\n",
    "        estimator, X, y, cv=cv, n_jobs=n_jobs, train_sizes=train_sizes)\n",
    "    train_scores_mean = np.mean(train_scores, axis=1)\n",
    "    train_scores_std = np.std(train_scores, axis=1)\n",
    "    test_scores_mean = np.mean(test_scores, axis=1)\n",
    "    test_scores_std = np.std(test_scores, axis=1)\n",
    "    plt.grid()\n",
    "\n",
    "    plt.fill_between(train_sizes, train_scores_mean - train_scores_std,\n",
    "                     train_scores_mean + train_scores_std, alpha=0.1,\n",
    "                     color=\"r\")\n",
    "    plt.fill_between(train_sizes, test_scores_mean - test_scores_std,\n",
    "                     test_scores_mean + test_scores_std, alpha=0.1, color=\"g\")\n",
    "    plt.plot(train_sizes, train_scores_mean, 'o-', color=\"r\",\n",
    "             label=\"Training score\")\n",
    "    plt.plot(train_sizes, test_scores_mean, 'o-', color=\"g\",\n",
    "             label=\"Cross-validation score\")\n",
    "\n",
    "    plt.legend(loc=\"best\")\n",
    "    return plt"
   ]
  },
  {
   "cell_type": "markdown",
   "metadata": {},
   "source": [
    "# Preprocessing the data and save both the model and preprocessed data"
   ]
  },
  {
   "cell_type": "code",
   "execution_count": 52,
   "metadata": {
    "collapsed": false
   },
   "outputs": [
    {
     "name": "stderr",
     "output_type": "stream",
     "text": [
      "/home/salm/anaconda2/lib/python2.7/site-packages/sklearn/utils/validation.py:420: DataConversionWarning: Data with input dtype int64 was converted to float64 by StandardScaler.\n",
      "  warnings.warn(msg, DataConversionWarning)\n"
     ]
    }
   ],
   "source": [
    "# According to the nature of the data spasity and there is outliter RobustScaler class is recomandit \n",
    "# but when I tried both of them the result seems is same\n",
    "from sklearn.preprocessing import StandardScaler\n",
    "scaler = preprocessing.StandardScaler().fit(X_train)"
   ]
  },
  {
   "cell_type": "code",
   "execution_count": 53,
   "metadata": {
    "collapsed": false
   },
   "outputs": [
    {
     "name": "stderr",
     "output_type": "stream",
     "text": [
      "/home/salm/anaconda2/lib/python2.7/site-packages/sklearn/utils/validation.py:420: DataConversionWarning: Data with input dtype int64 was converted to float64 by StandardScaler.\n",
      "  warnings.warn(msg, DataConversionWarning)\n",
      "/home/salm/anaconda2/lib/python2.7/site-packages/sklearn/utils/validation.py:420: DataConversionWarning: Data with input dtype int64 was converted to float64 by StandardScaler.\n",
      "  warnings.warn(msg, DataConversionWarning)\n"
     ]
    }
   ],
   "source": [
    "X_train = scaler.transform(X_train)\n",
    "X_test = scaler.transform(X_test) # use same transform for testing data\n",
    "X = X_train"
   ]
  },
  {
   "cell_type": "code",
   "execution_count": 54,
   "metadata": {
    "collapsed": true
   },
   "outputs": [],
   "source": [
    "# save transformed data\n",
    "np.save('./data/X_train', X_train)\n",
    "np.save('./data/y_train', y_train)\n",
    "np.save('./data/X_test', X_test)\n",
    "np.save('./data/y_test', y_test)"
   ]
  },
  {
   "cell_type": "code",
   "execution_count": 55,
   "metadata": {
    "collapsed": false
   },
   "outputs": [
    {
     "data": {
      "text/plain": [
       "['scaler.pkl', 'scaler.pkl_01.npy', 'scaler.pkl_02.npy', 'scaler.pkl_03.npy']"
      ]
     },
     "execution_count": 55,
     "metadata": {},
     "output_type": "execute_result"
    }
   ],
   "source": [
    "# save the model scaler to the desk\n",
    "from sklearn.externals import joblib\n",
    "joblib.dump(scaler, 'scaler.pkl') "
   ]
  },
  {
   "cell_type": "code",
   "execution_count": 56,
   "metadata": {
    "collapsed": false
   },
   "outputs": [
    {
     "name": "stdout",
     "output_type": "stream",
     "text": [
      " =================================================================>>>>> done\n",
      "[[-0.59364305 -0.20866821 -0.31349377  0.98611582 -0.51650809 -0.39068313\n",
      "  -0.09019932]\n",
      " [ 0.43869005 -0.4699337  -0.72397006 -0.63206819 -0.38024134 -0.53321526\n",
      "  -0.54180082]\n",
      " [-0.6318776  -0.04668361 -0.10989753  0.11478597  0.98242613  0.17944539\n",
      "  -0.26252094]\n",
      " [-0.72364055  1.35892472  1.65679241  0.96122068  0.43735914  0.46450965\n",
      "   1.25272091]\n",
      " [-0.55540849  0.31386277  0.01488726 -0.43290708  0.16482565 -0.39068313\n",
      "  -0.19121544]\n",
      " [ 0.43869005 -0.4699337  -0.80606531 -0.63206819 -0.51650809 -0.60448133\n",
      "  -0.54180082]\n",
      " [-0.13482833 -0.20866821  0.34326829 -0.23374597 -0.51650809 -0.4619492\n",
      "  -0.24469457]\n",
      " [ 4.91213348 -0.53054729 -0.88816057 -0.63206819 -0.65277484 -0.67574739\n",
      "  -0.56556931]\n",
      " [-0.28776657 -0.20866821  1.65679241  0.16457625 -0.51650809  1.24843637\n",
      "   0.2009648 ]\n",
      " [-0.63952452  0.31386277  1.00003035  0.16457625  0.43735914  0.17944539\n",
      "   0.63473992]\n",
      " [-0.31453076 -0.4699337  -0.31349377 -0.40801194 -0.2439746  -0.248151\n",
      "  -0.20904182]\n",
      " [-0.70834672  3.44904862  1.65679241  5.74108728  1.52749312  0.17944539\n",
      "   2.39360889]\n",
      " [-0.28776657 -0.4699337   0.34326829 -0.23374597 -0.51650809 -0.56884829\n",
      "   0.18313842]\n",
      " [-0.5974665   1.35892472  0.34326829  0.96122068  0.98242613  0.17944539\n",
      "   0.48024467]\n",
      " [-0.72364055  3.44904862  1.65679241  0.96122068  0.43735914  0.17944539\n",
      "   2.12621327]\n",
      " [-0.28776657 -0.20866821 -0.6418748  -0.63206819 -0.10770785 -0.39068313\n",
      "  -0.39918982]\n",
      " [-0.44835172 -0.4699337  -0.31349377  0.16457625 -0.38024134 -0.39068313\n",
      "  -0.36353707]\n",
      " [-0.6318776  -0.4699337  -0.6418748  -0.43290708 -0.51650809 -0.49758223\n",
      "  -0.46455319]\n",
      " [-0.47893937 -0.66431522 -0.88816057 -0.63206819 -0.2439746  -0.31941706\n",
      "  -0.53585869]\n",
      " [-0.2762962  -0.4699337  -0.80606531 -0.63206819  0.0285589  -0.10561887\n",
      "  -0.45266894]\n",
      " [-0.05835922 -0.4699337  -0.80606531 -0.63206819 -0.51650809 -0.60448133\n",
      "  -0.48832169]\n",
      " [-0.05835922 -0.59743125  0.34326829 -0.63206819 -0.10770785  0.46450965\n",
      "  -0.42890044]\n",
      " [-0.73511091  3.44904862  1.65679241  0.96122068  1.52749312  0.46450965\n",
      "   2.26882427]\n",
      " [-0.40247025 -0.4699337   0.01488726 -0.23374597 -0.51650809 -0.60448133\n",
      "  -0.28034732]\n",
      " [-0.28776657 -0.20866821 -0.6418748  -0.43290708 -0.51650809  0.03691326\n",
      "  -0.50614807]\n",
      " [-0.6318776  -0.20866821  0.34326829 -0.33332653 -0.2439746  -0.10561887\n",
      "  -0.36947919]\n",
      " [-0.6318776  -0.20866821 -0.6418748  -0.63206819 -0.2439746  -0.4619492\n",
      "  -0.47643744]\n",
      " [ 2.23571434 -0.53054729 -0.80606531 -0.63206819 -0.65277484 -0.67574739\n",
      "  -0.51803232]\n",
      " [-0.5018801  -0.4699337  -0.80606531 -0.63206819 -0.51650809 -0.4619492\n",
      "  -0.56556931]\n",
      " [-0.42158753 -0.20866821 -0.47768428 -0.23374597  0.16482565 -0.10561887\n",
      "  -0.44078469]\n",
      " [ 0.32398638 -0.53054729  0.01488726 -0.48269736  0.16482565  0.17944539\n",
      "  -0.33976857]\n",
      " [-0.54776157 -0.20866821 -0.31349377 -0.23374597  0.16482565 -0.39068313\n",
      "  -0.0129517 ]\n",
      " [-0.38335297 -0.20866821 -0.31349377 -0.23374597 -0.51650809 -0.56884829\n",
      "  -0.33976857]\n",
      " [-0.53629121  0.05259728 -0.31349377 -0.43290708 -0.2439746   1.03463817\n",
      "  -0.25657882]\n",
      " [-0.62423069  0.31386277  0.34326829  0.16457625 -0.10770785 -0.248151\n",
      "   0.13560143]\n",
      " [-0.59364305 -0.20866821  0.34326829  0.96122068  0.0285589  -0.39068313\n",
      "  -0.19715757]\n",
      " [-0.21129745 -0.59743125 -0.6418748  -0.58227791 -0.51650809 -0.49758223\n",
      "  -0.45861107]\n",
      " [-0.727464   -0.20866821  0.01488726 -0.43290708 -0.51650809 -0.53321526\n",
      "  -0.34571069]\n",
      " [-0.18453326 -0.59429607 -0.80606531 -0.43290708 -0.10770785 -0.1412519\n",
      "  -0.52397444]\n",
      " [-0.6318776  -0.20866821  0.34326829 -0.03458486  0.16482565 -0.10561887\n",
      "  -0.31600007]\n",
      " [-0.72364055  1.35892472  1.00003035  0.16457625  0.43735914 -0.10561887\n",
      "   0.3911128 ]\n",
      " [-0.2762962  -0.13028856 -0.46126523 -0.63206819  0.16482565  1.6047667\n",
      "  -0.27440519]]\n"
     ]
    },
    {
     "name": "stderr",
     "output_type": "stream",
     "text": [
      "/home/salm/anaconda2/lib/python2.7/site-packages/sklearn/utils/validation.py:420: DataConversionWarning: Data with input dtype int64 was converted to float64 by StandardScaler.\n",
      "  warnings.warn(msg, DataConversionWarning)\n"
     ]
    }
   ],
   "source": [
    "# Test the model if it is work\n",
    "scalerTest = joblib.load('scaler.pkl')\n",
    "new_data_scaled = scalerTest.transform(new_test_data)\n",
    "print \" =================================================================>>>>> done\"\n",
    "print new_data_scaled"
   ]
  },
  {
   "cell_type": "markdown",
   "metadata": {},
   "source": [
    "# 1. BayesianRidge Regression"
   ]
  },
  {
   "cell_type": "markdown",
   "metadata": {},
   "source": [
    "The Least Absolute Shrinkage and Selection Operator (or BayesianRidge for short) is a modification of linear regression, like BayesianRidge regression, where the loss function is modified to minimize the complexity of the model measured as the sum absolute value of the coefficient values (also called the l1-norm)."
   ]
  },
  {
   "cell_type": "markdown",
   "metadata": {},
   "source": [
    "## Validation curve"
   ]
  },
  {
   "cell_type": "markdown",
   "metadata": {},
   "source": [
    "choosing multiple hyperparameters of an estimator "
   ]
  },
  {
   "cell_type": "code",
   "execution_count": 57,
   "metadata": {
    "collapsed": false
   },
   "outputs": [
    {
     "data": {
      "text/plain": [
       "['normalize',\n",
       " 'n_iter',\n",
       " 'verbose',\n",
       " 'lambda_1',\n",
       " 'lambda_2',\n",
       " 'fit_intercept',\n",
       " 'alpha_2',\n",
       " 'tol',\n",
       " 'alpha_1',\n",
       " 'copy_X',\n",
       " 'compute_score']"
      ]
     },
     "execution_count": 57,
     "metadata": {},
     "output_type": "execute_result"
    }
   ],
   "source": [
    "from sklearn.linear_model import BayesianRidge\n",
    "estimator = BayesianRidge()\n",
    "estimator.get_params().keys()"
   ]
  },
  {
   "cell_type": "code",
   "execution_count": 58,
   "metadata": {
    "collapsed": false
   },
   "outputs": [
    {
     "data": {
      "application/pdf": "[encoded data removed]",
      "image/png": "[encoded data removed]",
      "text/plain": [
       "<matplotlib.figure.Figure at 0x7f08340df790>"
      ]
     },
     "metadata": {},
     "output_type": "display_data"
    }
   ],
   "source": [
    "# For parametr alpha\n",
    "#param_range = np.logspace(-10.0, 10.0)\n",
    "#param_range = np.logspace(-7, 7, 3)\n",
    "param_range = np.linspace(0,1000,100)\n",
    "\n",
    "train_scores, test_scores = validation_curve(\n",
    "    BayesianRidge(), X, Y, param_name=\"alpha_1\", param_range=param_range,\n",
    "    cv=num_folds,  n_jobs=-1)\n",
    "train_scores_mean = np.mean(train_scores, axis=1)\n",
    "train_scores_std = np.std(train_scores, axis=1)\n",
    "test_scores_mean = np.mean(test_scores, axis=1)\n",
    "test_scores_std = np.std(test_scores, axis=1)\n",
    "\n",
    "plt.title(\"Validation Curve with BayesianRidge\")\n",
    "plt.xlabel(\"lambda_2\")\n",
    "plt.ylabel(\"Score\")\n",
    "plt.ylim(0.4, 1.0)\n",
    "plt.plot(param_range, train_scores_mean, label=\"Training score\", color=\"r\")\n",
    "plt.fill_between(param_range, train_scores_mean - train_scores_std,\n",
    "                 train_scores_mean + train_scores_std, alpha=0.2, color=\"r\")\n",
    "plt.plot(param_range, test_scores_mean, label=\"Cross-validation score\",\n",
    "             color=\"g\")\n",
    "plt.fill_between(param_range, test_scores_mean - test_scores_std,\n",
    "                 test_scores_mean + test_scores_std, alpha=0.2, color=\"g\")\n",
    "plt.legend(loc=\"best\")\n",
    "plt.show()"
   ]
  },
  {
   "cell_type": "markdown",
   "metadata": {},
   "source": [
    "It turns out changing alpha_1, alpha_2, lambda_1 and lambda_2 does not change the performance so in next step the search will find the best cominations between them."
   ]
  },
  {
   "cell_type": "markdown",
   "metadata": {},
   "source": [
    "## Grid search and/or Random search to determine best compination of parameters"
   ]
  },
  {
   "cell_type": "code",
   "execution_count": 59,
   "metadata": {
    "collapsed": false
   },
   "outputs": [
    {
     "name": "stdout",
     "output_type": "stream",
     "text": [
      "Hyperparameter optimization using GridSearchCV...\n",
      "Parameters with rank: 1\n",
      "Mean validation score: 0.8646 (std: 0.1240)\n",
      "Parameters: {'alpha_2': 1.0, 'lambda_1': 1.0, 'lambda_2': 0, 'alpha_1': -1.0}\n",
      "\n",
      "Parameters with rank: 2\n",
      "Mean validation score: 0.8646 (std: 0.1240)\n",
      "Parameters: {'alpha_2': 1.0, 'lambda_1': 1.0, 'lambda_2': 1e-06, 'alpha_1': -1.0}\n",
      "\n",
      "Parameters with rank: 3\n",
      "Mean validation score: 0.8646 (std: 0.1240)\n",
      "Parameters: {'alpha_2': 1e-06, 'lambda_1': 1.0, 'lambda_2': 0, 'alpha_1': -1.0}\n",
      "\n",
      "Parameters with rank: 4\n",
      "Mean validation score: 0.8646 (std: 0.1240)\n",
      "Parameters: {'alpha_2': 0, 'lambda_1': 1.0, 'lambda_2': 0, 'alpha_1': -1.0}\n",
      "\n",
      "Parameters with rank: 5\n",
      "Mean validation score: 0.8646 (std: 0.1240)\n",
      "Parameters: {'alpha_2': 1e-06, 'lambda_1': 1.0, 'lambda_2': 1e-06, 'alpha_1': -1.0}\n",
      "\n",
      "+++++++++++++++++++++++++++++++++++++++++++++++\n",
      "Hyperparameter optimization using RandomizedSearchCV\n",
      "Parameters with rank: 1\n",
      "Mean validation score: 0.8645 (std: 0.1241)\n",
      "Parameters: {'alpha_2': 0.51515151515151525, 'lambda_1': 0.92929292929292939, 'lambda_2': 0.080808080808080815, 'alpha_1': 0.73737373737373746}\n",
      "\n",
      "Parameters with rank: 2\n",
      "Mean validation score: 0.8645 (std: 0.1241)\n",
      "Parameters: {'alpha_2': 0.8282828282828284, 'lambda_1': 0.83838383838383845, 'lambda_2': 0.080808080808080815, 'alpha_1': 0.16161616161616163}\n",
      "\n",
      "Parameters with rank: 3\n",
      "Mean validation score: 0.8645 (std: 0.1242)\n",
      "Parameters: {'alpha_2': 0.81818181818181823, 'lambda_1': 0.83838383838383845, 'lambda_2': 0.37373737373737376, 'alpha_1': 0.93939393939393945}\n",
      "\n",
      "Parameters with rank: 4\n",
      "Mean validation score: 0.8644 (std: 0.1242)\n",
      "Parameters: {'alpha_2': 0.10101010101010102, 'lambda_1': 0.66666666666666674, 'lambda_2': 0.73737373737373746, 'alpha_1': 0.21212121212121213}\n",
      "\n",
      "Parameters with rank: 5\n",
      "Mean validation score: 0.8644 (std: 0.1243)\n",
      "Parameters: {'alpha_2': 0.94949494949494961, 'lambda_1': 0.65656565656565657, 'lambda_2': 0.51515151515151525, 'alpha_1': 0.38383838383838387}\n",
      "\n"
     ]
    }
   ],
   "source": [
    "# Utility function to report optimal parameters\n",
    "from operator import itemgetter\n",
    "def report(grid_scores, n_top=5):\n",
    "    params = None\n",
    "    top_scores = sorted(grid_scores, key=itemgetter(1), reverse=True)[:n_top]\n",
    "    for i, score in enumerate(top_scores):\n",
    "        print(\"Parameters with rank: {0}\".format(i + 1))\n",
    "        print(\"Mean validation score: {0:.4f} (std: {1:.4f})\".format(\n",
    "              score.mean_validation_score, np.std(score.cv_validation_scores)))\n",
    "        print(\"Parameters: {0}\".format(score.parameters))\n",
    "        print(\"\")\n",
    "        \n",
    "        if params == None:\n",
    "            params = score.parameters\n",
    "    \n",
    "    return params\n",
    "\n",
    "# The most common value for the max number of features to look at in each split is sqrt(# of features)\n",
    "sqrtfeat = np.sqrt(X.shape[1]) \n",
    "# Simple grid test (162 combinations)\n",
    "grid_test1 = { \"alpha_1\"      : [-1.0,0, 0.000001, 1.0],\n",
    "                \"alpha_2\"      : [-1.0,0,0.000001, 1.0],\n",
    "               \"lambda_1\"      : [-1.0,0,0.000001, 1.0],\n",
    "               \"lambda_2\"      : [-1.0,0,0.000001, 1.0]}\n",
    "\n",
    "# Large randomized test using max_depth to control tree size (5000 possible combinations)\n",
    "random_test1 = { \"alpha_1\"          : np.linspace(0,1.0,100),\n",
    "                  \"alpha_2\"      : np.linspace(0,1.0,100),\n",
    "                  \"lambda_1\"      : np.linspace(0,1.0,100),\n",
    "                  \"lambda_2\"      : np.linspace(0,1.0,100)}\n",
    "\n",
    "\n",
    "forest = BayesianRidge()\n",
    "\n",
    "print \"Hyperparameter optimization using GridSearchCV...\"\n",
    "grid_search = GridSearchCV(forest, grid_test1, n_jobs=-1, cv=num_folds)\n",
    "grid_search.fit(X, Y)\n",
    "best_params_from_grid_search = report(grid_search.grid_scores_)\n",
    "print '+++++++++++++++++++++++++++++++++++++++++++++++'\n",
    "print \"Hyperparameter optimization using RandomizedSearchCV\"\n",
    "grid_search = RandomizedSearchCV(forest, random_test1, n_jobs=-1, cv=num_folds, n_iter=5)\n",
    "grid_search.fit(X, Y)\n",
    "best_params_from_rand_search1 = report(grid_search.grid_scores_)"
   ]
  },
  {
   "cell_type": "markdown",
   "metadata": {},
   "source": [
    "Best parameters Parameters: Parameters: {'alpha_2': 1.0, 'lambda_1': 1.0, 'lambda_2': -1.0, 'alpha_1': -1.0}\n",
    "\n"
   ]
  },
  {
   "cell_type": "markdown",
   "metadata": {},
   "source": [
    "## Learning Curve "
   ]
  },
  {
   "cell_type": "markdown",
   "metadata": {},
   "source": [
    "In essence, what we’re doing it training the exact same model with increasingly large fractions of our total training data, and plotting the error of the training and test sets at each step."
   ]
  },
  {
   "cell_type": "code",
   "execution_count": 60,
   "metadata": {
    "collapsed": false
   },
   "outputs": [
    {
     "data": {
      "application/pdf": "[encoded data removed]",
      "image/png": "[encoded data removed]",
      "text/plain": [
       "<matplotlib.figure.Figure at 0x7f082dcb6d90>"
      ]
     },
     "metadata": {},
     "output_type": "display_data"
    }
   ],
   "source": [
    "from sklearn.linear_model import BayesianRidge\n",
    "model = BayesianRidge(lambda_1 = 1.0, lambda_2 = -1.0, alpha_1 = -1.0, alpha_2=-1.0)\n",
    "title = \"Learning Curves (BayesianRidge Refression)\"\n",
    "cv = cross_validation.ShuffleSplit(X.shape[0], n_iter=100,\n",
    "                                   test_size=0.2, random_state=0)\n",
    "plot_learning_curve(model, title, X, Y, ylim=(0.2, 1.01), cv=cv, n_jobs=-1)\n",
    "plt.show()"
   ]
  },
  {
   "cell_type": "code",
   "execution_count": 61,
   "metadata": {
    "collapsed": false
   },
   "outputs": [
    {
     "name": "stdout",
     "output_type": "stream",
     "text": [
      "train_sizes =  [ 50  80 110]\n",
      " training scores\n",
      " 50 training sizees\n",
      "-0.0142755149077 ± 0.0054888820969\n",
      " 80 training sizees\n",
      "-0.0161978654328 ± 0.00305184432181\n",
      " 110 training sizees\n",
      "-0.00914381056537 ± 0.00627381425144\n",
      "\n",
      " validation scores\n",
      " 50 validation scores\n",
      "-0.142293632532 ± 0.320173441899\n",
      " 80 validation scores\n",
      "-0.117880043177 ± 0.187599091956\n",
      " 110 validation scores\n",
      "-0.108001084529 ± 0.16250282452\n"
     ]
    }
   ],
   "source": [
    "# More data from learning curve to show the process of building the model\n",
    "train_sizes, train_scores, valid_scores = learning_curve(\n",
    "     model, X, Y, train_sizes=[50, 80, 110], cv=cv, n_jobs=4)\n",
    "\n",
    "print 'train_sizes = ', train_sizes\n",
    "\n",
    "print ' training scores'\n",
    "print ' 50 training sizees'\n",
    "print train_scores[0].mean(),'±',train_scores[0].std()\n",
    "print ' 80 training sizees'\n",
    "print train_scores[1].mean(),'±',train_scores[1].std()\n",
    "print ' 110 training sizees'\n",
    "print train_scores[2].mean(),'±',train_scores[2].std()\n",
    "\n",
    "print '\\n validation scores'\n",
    "print ' 50 validation scores'\n",
    "print valid_scores[0].mean(),'±',valid_scores[0].std()\n",
    "print ' 80 validation scores'\n",
    "print valid_scores[1].mean(),'±',valid_scores[1].std()\n",
    "print ' 110 validation scores'\n",
    "print valid_scores[2].mean(),'±',valid_scores[2].std()"
   ]
  },
  {
   "cell_type": "markdown",
   "metadata": {},
   "source": [
    "## Cross validation"
   ]
  },
  {
   "cell_type": "code",
   "execution_count": 62,
   "metadata": {
    "collapsed": false
   },
   "outputs": [
    {
     "name": "stdout",
     "output_type": "stream",
     "text": [
      "Scoring according to mean_squared_error\n",
      "[-31876.9043186  -13521.46119259  -5227.94765961  -7714.74125553\n",
      " -53802.48408726 -10574.56920101  -4604.46332996  -4350.16447145\n",
      " -49546.87708924 -88357.99674755]\n",
      "\n",
      " Mean      Standard deviation\n",
      "-26957.76      27068.97\n",
      "\n",
      " print intercept and coefficients\n",
      "100.94011976\n",
      "[ 0.07325267 -0.19891526 -0.22287485 -0.15031276 -0.14718286 -0.15101505\n",
      " -0.23723256]\n",
      "\n",
      "(feature, coefficients)\n",
      "[('MYCT', 0.073252672793530593), ('MMIN', -0.1989152598858886), ('MMAX', -0.22287485244510413), ('CACH', -0.15031275929944066), ('CHMIN', -0.14718285876664633), ('CHMAX', -0.15101504919111042), ('PRP', -0.23723255581410765)]\n",
      "\n",
      " Predicted Target = 100.94 +(0.07)X1 +(-0.20)X2 +(-0.22)X3 +(-0.15)X4+(-0.15)X4 \n",
      "\n",
      " Predicted Target = 100.94 +(0.07)MYCT +(-0.20)MMIN +(-0.22)MMAX +(-0.15)CACH+(-0.15)CHMIN\n"
     ]
    }
   ],
   "source": [
    "scoring = 'mean_squared_error'\n",
    "results = cross_validation.cross_val_score(model, X, Y, cv=kfold, scoring=scoring)\n",
    "print 'Scoring according to mean_squared_error'\n",
    "print results\n",
    "print '\\n Mean      Standard deviation'\n",
    "print(\"%.2f      %.2f\" % (results.mean(), results.std()))\n",
    "## Fit the model\n",
    "model.fit(X,Y)\n",
    "print '\\n print intercept and coefficients'\n",
    "print model.intercept_\n",
    "print model.coef_\n",
    "# pair the feature names with the coefficients\n",
    "print '\\n(feature, coefficients)'\n",
    "print zip(feature_cols, model.coef_)\n",
    "# Linear qu. of the model\n",
    "\n",
    "print (\"\\n Predicted Target = %.2f +(%.2f)X1 +(%.2f)X2 +(%.2f)X3 +(%.2f)X4+(%.2f)X4 \"\n",
    "       % (model.intercept_, model.coef_[0], model.coef_[1],model.coef_[2],model.coef_[3],\n",
    "       model.coef_[4]))\n",
    "print (\"\\n Predicted Target = %.2f +(%.2f)%s +(%.2f)%s +(%.2f)%s +(%.2f)%s+(%.2f)%s\"\n",
    "       % (model.intercept_, model.coef_[0], feature_cols[0], model.coef_[1], feature_cols[1],\n",
    "          model.coef_[2], feature_cols[2],model.coef_[3], feature_cols[3],\n",
    "       model.coef_[4], feature_cols[4]))"
   ]
  },
  {
   "cell_type": "markdown",
   "metadata": {},
   "source": [
    "To be more precise these valrible is not the input feature as descripe on the dataset, those varibles in scaled virsion on the orginal onces. So, to be more correct I should assign to them another varibles but for easy to unserstand I kept them as they were."
   ]
  },
  {
   "cell_type": "markdown",
   "metadata": {},
   "source": [
    "## Coefficients Of Determination {Calculating R^2}\n",
    "\n",
    "R^2, Close to one is better"
   ]
  },
  {
   "cell_type": "code",
   "execution_count": 63,
   "metadata": {
    "collapsed": false
   },
   "outputs": [
    {
     "name": "stdout",
     "output_type": "stream",
     "text": [
      "R-squared =  -0.00512160255724\n"
     ]
    }
   ],
   "source": [
    "predicted = cross_val_predict(model, X, Y, cv=kfold)\n",
    "r_squared = r2_score(Y, predicted, multioutput='variance_weighted')\n",
    "print 'R-squared = ',r_squared"
   ]
  },
  {
   "cell_type": "markdown",
   "metadata": {},
   "source": [
    "## Residual Plot"
   ]
  },
  {
   "cell_type": "code",
   "execution_count": 64,
   "metadata": {
    "collapsed": false
   },
   "outputs": [
    {
     "data": {
      "application/pdf": "[encoded data removed]",
      "image/png": "[encoded data removed]",
      "text/plain": [
       "<matplotlib.figure.Figure at 0x7f082dcb0f50>"
      ]
     },
     "metadata": {},
     "output_type": "display_data"
    }
   ],
   "source": [
    "predicted = cross_val_predict(model, X, Y, cv=kfold)\n",
    "fig, ax = plt.subplots()\n",
    "ax.scatter(Y, predicted)\n",
    "ax.plot([Y.min(), Y.max()], [Y.min(), Y.max()], 'k--', lw=4)\n",
    "ax.set_xlabel('Measured')\n",
    "ax.set_ylabel('Predicted')\n",
    "plt.show()"
   ]
  },
  {
   "cell_type": "code",
   "execution_count": 65,
   "metadata": {
    "collapsed": false
   },
   "outputs": [
    {
     "data": {
      "text/html": [
       "\n",
       "\n",
       "    <div class=\"bk-root\">\n",
       "        <div class=\"plotdiv\" id=\"f0276fe1-c6a0-458b-985d-6d09cd6e6859\"></div>\n",
       "    </div>\n",
       "<script type=\"text/javascript\">\n",
       "  \n",
       "  (function(global) {\n",
       "    function now() {\n",
       "      return new Date();\n",
       "    }\n",
       "  \n",
       "    var force = \"\";\n",
       "  \n",
       "    if (typeof (window._bokeh_onload_callbacks) === \"undefined\" || force !== \"\") {\n",
       "      window._bokeh_onload_callbacks = [];\n",
       "      window._bokeh_is_loading = undefined;\n",
       "    }\n",
       "  \n",
       "  \n",
       "    \n",
       "    if (typeof (window._bokeh_timeout) === \"undefined\" || force !== \"\") {\n",
       "      window._bokeh_timeout = Date.now() + 0;\n",
       "      window._bokeh_failed_load = false;\n",
       "    }\n",
       "  \n",
       "    var NB_LOAD_WARNING = {'data': {'text/html':\n",
       "       \"<div style='background-color: #fdd'>\\n\"+\n",
       "       \"<p>\\n\"+\n",
       "       \"BokehJS does not appear to have successfully loaded. If loading BokehJS from CDN, this \\n\"+\n",
       "       \"may be due to a slow or bad network connection. Possible fixes:\\n\"+\n",
       "       \"</p>\\n\"+\n",
       "       \"<ul>\\n\"+\n",
       "       \"<li>re-rerun `output_notebook()` to attempt to load from CDN again, or</li>\\n\"+\n",
       "       \"<li>use INLINE resources instead, as so:</li>\\n\"+\n",
       "       \"</ul>\\n\"+\n",
       "       \"<code>\\n\"+\n",
       "       \"from bokeh.resources import INLINE\\n\"+\n",
       "       \"output_notebook(resources=INLINE)\\n\"+\n",
       "       \"</code>\\n\"+\n",
       "       \"</div>\"}};\n",
       "  \n",
       "    function display_loaded() {\n",
       "      if (window.Bokeh !== undefined) {\n",
       "        Bokeh.$(\"#f0276fe1-c6a0-458b-985d-6d09cd6e6859\").text(\"BokehJS successfully loaded.\");\n",
       "      } else if (Date.now() < window._bokeh_timeout) {\n",
       "        setTimeout(display_loaded, 100)\n",
       "      }\n",
       "    }\n",
       "  \n",
       "    function run_callbacks() {\n",
       "      window._bokeh_onload_callbacks.forEach(function(callback) { callback() });\n",
       "      delete window._bokeh_onload_callbacks\n",
       "      console.info(\"Bokeh: all callbacks have finished\");\n",
       "    }\n",
       "  \n",
       "    function load_libs(js_urls, callback) {\n",
       "      window._bokeh_onload_callbacks.push(callback);\n",
       "      if (window._bokeh_is_loading > 0) {\n",
       "        console.log(\"Bokeh: BokehJS is being loaded, scheduling callback at\", now());\n",
       "        return null;\n",
       "      }\n",
       "      if (js_urls == null || js_urls.length === 0) {\n",
       "        run_callbacks();\n",
       "        return null;\n",
       "      }\n",
       "      console.log(\"Bokeh: BokehJS not loaded, scheduling load and callback at\", now());\n",
       "      window._bokeh_is_loading = js_urls.length;\n",
       "      for (var i = 0; i < js_urls.length; i++) {\n",
       "        var url = js_urls[i];\n",
       "        var s = document.createElement('script');\n",
       "        s.src = url;\n",
       "        s.async = false;\n",
       "        s.onreadystatechange = s.onload = function() {\n",
       "          window._bokeh_is_loading--;\n",
       "          if (window._bokeh_is_loading === 0) {\n",
       "            console.log(\"Bokeh: all BokehJS libraries loaded\");\n",
       "            run_callbacks()\n",
       "          }\n",
       "        };\n",
       "        s.onerror = function() {\n",
       "          console.warn(\"failed to load library \" + url);\n",
       "        };\n",
       "        console.log(\"Bokeh: injecting script tag for BokehJS library: \", url);\n",
       "        document.getElementsByTagName(\"head\")[0].appendChild(s);\n",
       "      }\n",
       "    };var element = document.getElementById(\"f0276fe1-c6a0-458b-985d-6d09cd6e6859\");\n",
       "    if (element == null) {\n",
       "      console.log(\"Bokeh: ERROR: autoload.js configured with elementid 'f0276fe1-c6a0-458b-985d-6d09cd6e6859' but no matching script tag was found. \")\n",
       "      return false;\n",
       "    }\n",
       "  \n",
       "    var js_urls = [];\n",
       "  \n",
       "    var inline_js = [\n",
       "      function(Bokeh) {\n",
       "        Bokeh.$(function() {\n",
       "            var docs_json = {\"c0ca0f58-d685-4165-a781-5a923b6dd473\":{\"roots\":{\"references\":[{\"attributes\":{\"fill_alpha\":{\"value\":0.5},\"fill_color\":{\"value\":\"lightgrey\"},\"level\":\"overlay\",\"line_alpha\":{\"value\":1.0},\"line_color\":{\"value\":\"black\"},\"line_dash\":[4,4],\"line_width\":{\"value\":2},\"plot\":null,\"xs_units\":\"screen\",\"ys_units\":\"screen\"},\"id\":\"ca8e9b76-4359-423a-9186-8c7a994e1aad\",\"type\":\"PolyAnnotation\"},{\"attributes\":{\"background_fill_alpha\":{\"value\":0.5},\"background_fill_color\":{\"value\":\"beige\"},\"below\":[{\"id\":\"35384aa8-7df6-44ca-93cd-808448916f9c\",\"type\":\"LinearAxis\"}],\"left\":[{\"id\":\"f9e2e029-651b-4089-841b-129e6b9b7496\",\"type\":\"LinearAxis\"}],\"plot_height\":500,\"plot_width\":500,\"renderers\":[{\"id\":\"35384aa8-7df6-44ca-93cd-808448916f9c\",\"type\":\"LinearAxis\"},{\"id\":\"a82344d4-6134-49e1-8952-93edd0731053\",\"type\":\"Grid\"},{\"id\":\"f9e2e029-651b-4089-841b-129e6b9b7496\",\"type\":\"LinearAxis\"},{\"id\":\"8543c08c-145f-41ed-b4ad-30f277cb5094\",\"type\":\"Grid\"},{\"id\":\"b941b310-18d5-46f0-904e-035663709f11\",\"type\":\"BoxAnnotation\"},{\"id\":\"7194488b-d80b-4a61-a4f7-3b30f17f8ecd\",\"type\":\"BoxAnnotation\"},{\"id\":\"ca8e9b76-4359-423a-9186-8c7a994e1aad\",\"type\":\"PolyAnnotation\"},{\"id\":\"694bcf1f-0f41-4ba5-b43e-73241bab6186\",\"type\":\"PolyAnnotation\"},{\"id\":\"74d398e1-ce1d-4987-905c-38b60a48c5e7\",\"type\":\"GlyphRenderer\"},{\"id\":\"784aa949-3d8f-4809-afd8-6f3311f596d7\",\"type\":\"GlyphRenderer\"}],\"title\":{\"id\":\"79aa0bdc-afb1-4b10-bb96-43458bb285a0\",\"type\":\"Title\"},\"tool_events\":{\"id\":\"10867fe8-c2f0-4f04-92e3-9a4a826af8f2\",\"type\":\"ToolEvents\"},\"toolbar\":{\"id\":\"6f0f9b3e-44cb-49d8-9128-3601514de42a\",\"type\":\"Toolbar\"},\"x_range\":{\"id\":\"d0da39f4-b757-456c-a28b-580eb135896a\",\"type\":\"DataRange1d\"},\"y_range\":{\"id\":\"d80e0c5a-4193-47f5-a015-32b9aef4e418\",\"type\":\"DataRange1d\"}},\"id\":\"41157e03-4dc3-4d3d-bf4f-d695c8d9bac1\",\"subtype\":\"Figure\",\"type\":\"Plot\"},{\"attributes\":{\"callback\":null,\"column_names\":[\"x\",\"y\"],\"data\":{\"x\":[20,53,132,25,88,54,75,17,28,35,80,360,749,41,26,44,82,28,275,18,27,34,28,102,34,42,426,57,124,19,128,30,281,19,19,86,45,29,28,22,220,126,15,22,31,81,35,18,24,37,95,19,253,34,24,182,74,23,78,23,24,24,47,270,113,253,82,20,47,978,34,31,199,171,33,361,113,117,74,33,38,36,28,41,117,267,45,18,21,37,190,47,381,28,25,116,26,20,35,181,29,24,65,18,136,34,157,253,101,25,74,28,46,53,29,44,46,36,41,82,138,28,42,62,266,102,25,44,31,74,142,41,43,119,27,15,73,64,53,76,120,24,20,50,21,80,30,341,24,919,30,56,34,53,175,47,32,23,39,1238,20,227,20,382,26,28,67],\"y\":[100.41724111354192,99.90147082939494,99.15547448763284,100.03803004965208,99.62729405973381,99.89454503158844,99.48096615180926,100.53045572968789,100.24629080693158,100.10007093399996,99.28824420612587,97.11764487522316,96.84637719111629,100.03469402905857,100.42833643108598,99.96572231034305,99.75300121408495,102.24553590350286,99.71691124223803,102.37688435768858,101.87901704392038,102.18662032896044,102.02309675016808,100.46059877408817,102.1980121924726,101.79190164948194,98.16546553318685,101.24560753091481,100.23347424146804,102.10609401242692,100.74052237859581,101.93852500014253,99.9478808937623,102.31856200453956,105.37715428447329,106.05374339731381,105.65926776318565,105.59418706853207,105.40520728966818,105.41587349667118,107.11586603576873,106.78531603308441,105.28200954714612,105.39493265561727,105.63541769033623,106.25790998541409,105.82164530026789,105.21092465551722,105.45287769079462,105.62618540227184,106.15274139407049,101.4370072882709,103.6222284559084,100.95591079307778,101.1048252524532,102.74436291771916,101.82774287580638,101.05763871157052,101.86217105727094,101.41467450995044,101.06513018307086,101.07832074101269,101.7233861705348,104.06674148885863,102.78361290517029,103.51670399237386,102.24610489466903,100.4831885420432,96.45470060414804,89.15710255105166,97.2342178769196,96.75961727779851,93.42081785661246,94.59035115003063,95.77750451318147,92.3851799857975,95.51868708781109,95.50892337344278,96.27740057228165,96.59854734092949,96.76434161235534,96.92689951719375,96.77637190675084,96.56387406292501,95.54892617714206,104.1590902753689,102.54847702667796,101.76995032660335,101.55546014388194,101.7684941295532,103.85309734351205,101.74883847760186,105.10291767908268,101.86364439792013,101.61630700224958,102.77544839836153,101.6578260115635,101.64292584035215,101.80355421854819,103.28904962215195,101.7619760926887,101.541908292103,104.10130527573891,102.77463537699279,105.59677575650585,103.13888378997936,105.64517621510866,106.31468347782588,104.61673466549117,103.23680171289276,104.14045884017041,103.37684874852518,103.77518248990017,104.12546050350299,103.88245476055086,103.85284341609899,103.82490949942228,103.52607863967918,103.71019975867598,103.1951191623526,103.4837983761508,103.00606656150039,103.07450743027297,103.15552943717545,103.76810194158331,103.57987820854626,102.98561555747361,103.09471397934351,103.05633255916354,103.29174588875331,103.4519369684872,103.07901368008578,103.0927038573261,103.37860912869212,102.97092563337768,100.26709871272207,98.52565342051724,99.37362467460517,99.18859726668101,99.08153700985014,97.9813009345911,99.91255038407583,99.74336303762549,99.42635925457657,99.88778941949316,98.25826656937282,99.25768680000964,94.6315245696801,99.72020639394415,92.42264788424211,99.61811982669883,95.23646541257664,93.01904437729692,94.56211696921821,96.52741382902718,94.75770898784457,94.1497566439921,93.54201730271204,94.53979393358257,110.50254439780895,92.37421869271205,99.17153064329233,93.61777111905161,101.2688462051474,93.65298090126416,92.89285581823887,94.73778770292174]}},\"id\":\"7a72f6e4-7058-4d02-a9fa-f59965e01c36\",\"type\":\"ColumnDataSource\"},{\"attributes\":{\"callback\":null,\"plot\":{\"id\":\"41157e03-4dc3-4d3d-bf4f-d695c8d9bac1\",\"subtype\":\"Figure\",\"type\":\"Plot\"}},\"id\":\"1d71a851-5ce0-4a46-9f47-f06206eef355\",\"type\":\"TapTool\"},{\"attributes\":{\"fill_alpha\":{\"value\":0.5},\"fill_color\":{\"value\":\"lightgrey\"},\"level\":\"overlay\",\"line_alpha\":{\"value\":1.0},\"line_color\":{\"value\":\"black\"},\"line_dash\":[4,4],\"line_width\":{\"value\":2},\"plot\":null,\"xs_units\":\"screen\",\"ys_units\":\"screen\"},\"id\":\"694bcf1f-0f41-4ba5-b43e-73241bab6186\",\"type\":\"PolyAnnotation\"},{\"attributes\":{\"active_drag\":\"auto\",\"active_scroll\":\"auto\",\"active_tap\":\"auto\",\"tools\":[{\"id\":\"f214aa9c-6dea-4175-8305-fd3e666e4147\",\"type\":\"BoxZoomTool\"},{\"id\":\"01e12079-3179-45f8-829e-575e933238b3\",\"type\":\"BoxSelectTool\"},{\"id\":\"ec3c4250-0449-4d31-9c87-74bfd9725a8e\",\"type\":\"CrosshairTool\"},{\"id\":\"61c00b12-ffdd-4efa-9c68-b0d6357d266d\",\"type\":\"ResizeTool\"},{\"id\":\"3ec7088f-d824-48a0-83e2-1e6eac699e8b\",\"type\":\"ResetTool\"},{\"id\":\"8b504f2a-9ed3-47a3-8678-1679d7b068ee\",\"type\":\"LassoSelectTool\"},{\"id\":\"fd11ccaf-1240-489e-b148-a64d1b96246e\",\"type\":\"PanTool\"},{\"id\":\"26ab71b8-94e1-4d8b-8f44-535c272ebdea\",\"type\":\"SaveTool\"},{\"id\":\"767d3307-d0cd-4e32-8bae-b28fc16ec4e3\",\"type\":\"PolySelectTool\"},{\"id\":\"1d71a851-5ce0-4a46-9f47-f06206eef355\",\"type\":\"TapTool\"},{\"id\":\"4e029d07-fde1-4347-96bb-69a985bd7785\",\"type\":\"WheelZoomTool\"},{\"id\":\"00539c70-7ea1-4ff2-9361-bba68ce63267\",\"type\":\"UndoTool\"}]},\"id\":\"6f0f9b3e-44cb-49d8-9128-3601514de42a\",\"type\":\"Toolbar\"},{\"attributes\":{\"plot\":{\"id\":\"41157e03-4dc3-4d3d-bf4f-d695c8d9bac1\",\"subtype\":\"Figure\",\"type\":\"Plot\"}},\"id\":\"00539c70-7ea1-4ff2-9361-bba68ce63267\",\"type\":\"UndoTool\"},{\"attributes\":{\"bottom_units\":\"screen\",\"fill_alpha\":{\"value\":0.5},\"fill_color\":{\"value\":\"lightgrey\"},\"left_units\":\"screen\",\"level\":\"overlay\",\"line_alpha\":{\"value\":1.0},\"line_color\":{\"value\":\"black\"},\"line_dash\":[4,4],\"line_width\":{\"value\":2},\"plot\":null,\"render_mode\":\"css\",\"right_units\":\"screen\",\"top_units\":\"screen\"},\"id\":\"b941b310-18d5-46f0-904e-035663709f11\",\"type\":\"BoxAnnotation\"},{\"attributes\":{},\"id\":\"c830caf4-bab9-4c54-8895-f9cb21078ee3\",\"type\":\"BasicTicker\"},{\"attributes\":{\"data_source\":{\"id\":\"7a72f6e4-7058-4d02-a9fa-f59965e01c36\",\"type\":\"ColumnDataSource\"},\"glyph\":{\"id\":\"e6fe9fd0-d7ad-4146-9035-ace2c919013d\",\"type\":\"Circle\"},\"hover_glyph\":null,\"nonselection_glyph\":{\"id\":\"32406adf-8d1e-469a-91b8-bbf41f0806a8\",\"type\":\"Circle\"},\"selection_glyph\":null},\"id\":\"74d398e1-ce1d-4987-905c-38b60a48c5e7\",\"type\":\"GlyphRenderer\"},{\"attributes\":{\"overlay\":{\"id\":\"694bcf1f-0f41-4ba5-b43e-73241bab6186\",\"type\":\"PolyAnnotation\"},\"plot\":{\"id\":\"41157e03-4dc3-4d3d-bf4f-d695c8d9bac1\",\"subtype\":\"Figure\",\"type\":\"Plot\"}},\"id\":\"767d3307-d0cd-4e32-8bae-b28fc16ec4e3\",\"type\":\"PolySelectTool\"},{\"attributes\":{\"callback\":null,\"overlay\":{\"id\":\"7194488b-d80b-4a61-a4f7-3b30f17f8ecd\",\"type\":\"BoxAnnotation\"},\"plot\":{\"id\":\"41157e03-4dc3-4d3d-bf4f-d695c8d9bac1\",\"subtype\":\"Figure\",\"type\":\"Plot\"},\"renderers\":[{\"id\":\"74d398e1-ce1d-4987-905c-38b60a48c5e7\",\"type\":\"GlyphRenderer\"},{\"id\":\"784aa949-3d8f-4809-afd8-6f3311f596d7\",\"type\":\"GlyphRenderer\"}]},\"id\":\"01e12079-3179-45f8-829e-575e933238b3\",\"type\":\"BoxSelectTool\"},{\"attributes\":{\"line_dash\":[4,4],\"line_width\":{\"value\":2},\"x\":{\"field\":\"x\"},\"y\":{\"field\":\"y\"}},\"id\":\"3aa45593-c993-4b19-bb92-8ecfb21674f6\",\"type\":\"Line\"},{\"attributes\":{},\"id\":\"b1e9dc20-0723-47d8-9285-5e5a623f8cd2\",\"type\":\"BasicTickFormatter\"},{\"attributes\":{\"plot\":{\"id\":\"41157e03-4dc3-4d3d-bf4f-d695c8d9bac1\",\"subtype\":\"Figure\",\"type\":\"Plot\"}},\"id\":\"61c00b12-ffdd-4efa-9c68-b0d6357d266d\",\"type\":\"ResizeTool\"},{\"attributes\":{\"plot\":{\"id\":\"41157e03-4dc3-4d3d-bf4f-d695c8d9bac1\",\"subtype\":\"Figure\",\"type\":\"Plot\"}},\"id\":\"ec3c4250-0449-4d31-9c87-74bfd9725a8e\",\"type\":\"CrosshairTool\"},{\"attributes\":{\"axis_label\":\"Predicted\",\"axis_label_text_color\":{\"value\":\"#aa6666\"},\"formatter\":{\"id\":\"b1e9dc20-0723-47d8-9285-5e5a623f8cd2\",\"type\":\"BasicTickFormatter\"},\"plot\":{\"id\":\"41157e03-4dc3-4d3d-bf4f-d695c8d9bac1\",\"subtype\":\"Figure\",\"type\":\"Plot\"},\"ticker\":{\"id\":\"c830caf4-bab9-4c54-8895-f9cb21078ee3\",\"type\":\"BasicTicker\"}},\"id\":\"f9e2e029-651b-4089-841b-129e6b9b7496\",\"type\":\"LinearAxis\"},{\"attributes\":{\"plot\":{\"id\":\"41157e03-4dc3-4d3d-bf4f-d695c8d9bac1\",\"subtype\":\"Figure\",\"type\":\"Plot\"}},\"id\":\"3ec7088f-d824-48a0-83e2-1e6eac699e8b\",\"type\":\"ResetTool\"},{\"attributes\":{},\"id\":\"ae84e84a-6367-4a50-b8df-171fcd5cc376\",\"type\":\"BasicTickFormatter\"},{\"attributes\":{\"callback\":null},\"id\":\"d80e0c5a-4193-47f5-a015-32b9aef4e418\",\"type\":\"DataRange1d\"},{\"attributes\":{\"callback\":null,\"column_names\":[\"y\",\"x\"],\"data\":{\"x\":[15,1238],\"y\":[15,1238]}},\"id\":\"a000134a-3e8a-4064-b1dc-213797c14e6f\",\"type\":\"ColumnDataSource\"},{\"attributes\":{},\"id\":\"bd6131f6-0f76-42d0-941a-d0ea421e88a7\",\"type\":\"BasicTicker\"},{\"attributes\":{\"fill_color\":{\"value\":\"#80B1D3\"},\"line_color\":{\"value\":\"#80B1D3\"},\"line_width\":{\"value\":3},\"x\":{\"field\":\"x\"},\"y\":{\"field\":\"y\"}},\"id\":\"e6fe9fd0-d7ad-4146-9035-ace2c919013d\",\"type\":\"Circle\"},{\"attributes\":{\"align\":\"center\",\"plot\":null,\"text\":null},\"id\":\"79aa0bdc-afb1-4b10-bb96-43458bb285a0\",\"type\":\"Title\"},{\"attributes\":{\"callback\":null},\"id\":\"d0da39f4-b757-456c-a28b-580eb135896a\",\"type\":\"DataRange1d\"},{\"attributes\":{\"dimension\":1,\"plot\":{\"id\":\"41157e03-4dc3-4d3d-bf4f-d695c8d9bac1\",\"subtype\":\"Figure\",\"type\":\"Plot\"},\"ticker\":{\"id\":\"c830caf4-bab9-4c54-8895-f9cb21078ee3\",\"type\":\"BasicTicker\"}},\"id\":\"8543c08c-145f-41ed-b4ad-30f277cb5094\",\"type\":\"Grid\"},{\"attributes\":{\"plot\":{\"id\":\"41157e03-4dc3-4d3d-bf4f-d695c8d9bac1\",\"subtype\":\"Figure\",\"type\":\"Plot\"},\"ticker\":{\"id\":\"bd6131f6-0f76-42d0-941a-d0ea421e88a7\",\"type\":\"BasicTicker\"}},\"id\":\"a82344d4-6134-49e1-8952-93edd0731053\",\"type\":\"Grid\"},{\"attributes\":{\"fill_alpha\":{\"value\":0.1},\"fill_color\":{\"value\":\"#1f77b4\"},\"line_alpha\":{\"value\":0.1},\"line_color\":{\"value\":\"#1f77b4\"},\"line_width\":{\"value\":3},\"x\":{\"field\":\"x\"},\"y\":{\"field\":\"y\"}},\"id\":\"32406adf-8d1e-469a-91b8-bbf41f0806a8\",\"type\":\"Circle\"},{\"attributes\":{\"callback\":null,\"overlay\":{\"id\":\"ca8e9b76-4359-423a-9186-8c7a994e1aad\",\"type\":\"PolyAnnotation\"},\"plot\":{\"id\":\"41157e03-4dc3-4d3d-bf4f-d695c8d9bac1\",\"subtype\":\"Figure\",\"type\":\"Plot\"}},\"id\":\"8b504f2a-9ed3-47a3-8678-1679d7b068ee\",\"type\":\"LassoSelectTool\"},{\"attributes\":{},\"id\":\"10867fe8-c2f0-4f04-92e3-9a4a826af8f2\",\"type\":\"ToolEvents\"},{\"attributes\":{\"axis_label\":\"Measured\",\"axis_label_text_color\":{\"value\":\"#aa6666\"},\"formatter\":{\"id\":\"ae84e84a-6367-4a50-b8df-171fcd5cc376\",\"type\":\"BasicTickFormatter\"},\"major_tick_line_color\":{\"value\":\"firebrick\"},\"major_tick_line_width\":{\"value\":3},\"minor_tick_line_color\":{\"value\":\"orange\"},\"plot\":{\"id\":\"41157e03-4dc3-4d3d-bf4f-d695c8d9bac1\",\"subtype\":\"Figure\",\"type\":\"Plot\"},\"ticker\":{\"id\":\"bd6131f6-0f76-42d0-941a-d0ea421e88a7\",\"type\":\"BasicTicker\"}},\"id\":\"35384aa8-7df6-44ca-93cd-808448916f9c\",\"type\":\"LinearAxis\"},{\"attributes\":{\"data_source\":{\"id\":\"a000134a-3e8a-4064-b1dc-213797c14e6f\",\"type\":\"ColumnDataSource\"},\"glyph\":{\"id\":\"3aa45593-c993-4b19-bb92-8ecfb21674f6\",\"type\":\"Line\"},\"hover_glyph\":null,\"nonselection_glyph\":{\"id\":\"75548719-3bd8-4193-9654-bdf4cb44ee67\",\"type\":\"Line\"},\"selection_glyph\":null},\"id\":\"784aa949-3d8f-4809-afd8-6f3311f596d7\",\"type\":\"GlyphRenderer\"},{\"attributes\":{\"line_alpha\":{\"value\":0.1},\"line_color\":{\"value\":\"#1f77b4\"},\"line_dash\":[4,4],\"line_width\":{\"value\":2},\"x\":{\"field\":\"x\"},\"y\":{\"field\":\"y\"}},\"id\":\"75548719-3bd8-4193-9654-bdf4cb44ee67\",\"type\":\"Line\"},{\"attributes\":{\"overlay\":{\"id\":\"b941b310-18d5-46f0-904e-035663709f11\",\"type\":\"BoxAnnotation\"},\"plot\":{\"id\":\"41157e03-4dc3-4d3d-bf4f-d695c8d9bac1\",\"subtype\":\"Figure\",\"type\":\"Plot\"}},\"id\":\"f214aa9c-6dea-4175-8305-fd3e666e4147\",\"type\":\"BoxZoomTool\"},{\"attributes\":{\"plot\":{\"id\":\"41157e03-4dc3-4d3d-bf4f-d695c8d9bac1\",\"subtype\":\"Figure\",\"type\":\"Plot\"}},\"id\":\"26ab71b8-94e1-4d8b-8f44-535c272ebdea\",\"type\":\"SaveTool\"},{\"attributes\":{\"plot\":{\"id\":\"41157e03-4dc3-4d3d-bf4f-d695c8d9bac1\",\"subtype\":\"Figure\",\"type\":\"Plot\"}},\"id\":\"4e029d07-fde1-4347-96bb-69a985bd7785\",\"type\":\"WheelZoomTool\"},{\"attributes\":{\"bottom_units\":\"screen\",\"fill_alpha\":{\"value\":0.5},\"fill_color\":{\"value\":\"lightgrey\"},\"left_units\":\"screen\",\"level\":\"overlay\",\"line_alpha\":{\"value\":1.0},\"line_color\":{\"value\":\"black\"},\"line_dash\":[4,4],\"line_width\":{\"value\":2},\"plot\":null,\"render_mode\":\"css\",\"right_units\":\"screen\",\"top_units\":\"screen\"},\"id\":\"7194488b-d80b-4a61-a4f7-3b30f17f8ecd\",\"type\":\"BoxAnnotation\"},{\"attributes\":{\"plot\":{\"id\":\"41157e03-4dc3-4d3d-bf4f-d695c8d9bac1\",\"subtype\":\"Figure\",\"type\":\"Plot\"}},\"id\":\"fd11ccaf-1240-489e-b148-a64d1b96246e\",\"type\":\"PanTool\"}],\"root_ids\":[\"41157e03-4dc3-4d3d-bf4f-d695c8d9bac1\"]},\"title\":\"Bokeh Application\",\"version\":\"0.12.2\"}};\n",
       "            var render_items = [{\"docid\":\"c0ca0f58-d685-4165-a781-5a923b6dd473\",\"elementid\":\"f0276fe1-c6a0-458b-985d-6d09cd6e6859\",\"modelid\":\"41157e03-4dc3-4d3d-bf4f-d695c8d9bac1\"}];\n",
       "            \n",
       "            Bokeh.embed.embed_items(docs_json, render_items);\n",
       "        });\n",
       "      },\n",
       "      function(Bokeh) {\n",
       "      }\n",
       "    ];\n",
       "  \n",
       "    function run_inline_js() {\n",
       "      \n",
       "      if ((window.Bokeh !== undefined) || (force === \"1\")) {\n",
       "        for (var i = 0; i < inline_js.length; i++) {\n",
       "          inline_js[i](window.Bokeh);\n",
       "        }if (force === \"1\") {\n",
       "          display_loaded();\n",
       "        }} else if (Date.now() < window._bokeh_timeout) {\n",
       "        setTimeout(run_inline_js, 100);\n",
       "      } else if (!window._bokeh_failed_load) {\n",
       "        console.log(\"Bokeh: BokehJS failed to load within specified timeout.\");\n",
       "        window._bokeh_failed_load = true;\n",
       "      } else if (!force) {\n",
       "        var cell = $(\"#f0276fe1-c6a0-458b-985d-6d09cd6e6859\").parents('.cell').data().cell;\n",
       "        cell.output_area.append_execute_result(NB_LOAD_WARNING)\n",
       "      }\n",
       "  \n",
       "    }\n",
       "  \n",
       "    if (window._bokeh_is_loading === 0) {\n",
       "      console.log(\"Bokeh: BokehJS loaded, going straight to plotting\");\n",
       "      run_inline_js();\n",
       "    } else {\n",
       "      load_libs(js_urls, function() {\n",
       "        console.log(\"Bokeh: BokehJS plotting callback run at\", now());\n",
       "        run_inline_js();\n",
       "      });\n",
       "    }\n",
       "  }(this));\n",
       "</script>"
      ]
     },
     "metadata": {},
     "output_type": "display_data"
    }
   ],
   "source": [
    "# Plotining using bokeh\n",
    "#TOOLS = [BoxSelectTool(), HoverTool()]\n",
    "#TOOLS = 'hover,box_zoom,box_select,crosshair,resize,reset,BayesianRidge_select,pan,save,poly_select,tap,wheel_zoom,undo'\n",
    "TOOLS = 'box_zoom,box_select,crosshair,resize,reset,lasso_select,pan,save,poly_select,tap,wheel_zoom,undo'\n",
    "p = figure(plot_width=500, plot_height=500, tools=TOOLS)\n",
    "p.scatter(Y, predicted,x=\"jjj\", marker=\"o\", color=\"#80B1D3\", line_width=3)\n",
    "p.title.align = \"center\"\n",
    "p.xaxis.axis_label = \"Measured\"\n",
    "p.xaxis.axis_label_text_color = \"#aa6666\"\n",
    "#p.xaxis.axis_label_standoff = 30\n",
    "p.xaxis.major_tick_line_color = \"firebrick\"\n",
    "p.xaxis.major_tick_line_width = 3\n",
    "p.xaxis.minor_tick_line_color = \"orange\"\n",
    "p.yaxis.axis_label = \"Predicted\"\n",
    "p.yaxis.axis_label_text_font_style = \"italic\"\n",
    "p.yaxis.axis_label_text_color = \"#aa6666\"\n",
    "p.background_fill_color = \"beige\"\n",
    "p.background_fill_alpha = 0.5\n",
    "#p.line([Y.min(), Y.max()], [Y.min(), Y.max()], line_dash=\"4 4\", line_width=2, color='red')\n",
    "\n",
    "# create a new plot with the toolbar below\n",
    "# line_dash=\"4 4\", line_width=2, color='red'\n",
    "p.line([Y.min(), Y.max()], [Y.min(), Y.max()], line_dash=\"4 4\", line_width=2, line_color=\"black\")\n",
    "show(p)"
   ]
  },
  {
   "cell_type": "code",
   "execution_count": 66,
   "metadata": {
    "collapsed": false
   },
   "outputs": [
    {
     "data": {
      "text/plain": [
       "<matplotlib.text.Text at 0x7f082dd02090>"
      ]
     },
     "execution_count": 66,
     "metadata": {},
     "output_type": "execute_result"
    },
    {
     "data": {
      "application/pdf": "[encoded data removed]",
      "image/png": "[encoded data removed]",
      "text/plain": [
       "<matplotlib.figure.Figure at 0x7f082dc8d550>"
      ]
     },
     "metadata": {},
     "output_type": "display_data"
    }
   ],
   "source": [
    "plt.scatter(predicted, (predicted - Y), c='r', s=30)\n",
    "plt.title(\"Residual plot on the training data\")\n",
    "plt.xlabel(\"Predicted\")\n",
    "plt.ylabel(\"Residuals\")"
   ]
  },
  {
   "cell_type": "code",
   "execution_count": 67,
   "metadata": {
    "collapsed": false
   },
   "outputs": [
    {
     "data": {
      "text/html": [
       "\n",
       "\n",
       "    <div class=\"bk-root\">\n",
       "        <div class=\"plotdiv\" id=\"e0f990af-ce11-4cac-8a7f-09095b6ac1ed\"></div>\n",
       "    </div>\n",
       "<script type=\"text/javascript\">\n",
       "  \n",
       "  (function(global) {\n",
       "    function now() {\n",
       "      return new Date();\n",
       "    }\n",
       "  \n",
       "    var force = \"\";\n",
       "  \n",
       "    if (typeof (window._bokeh_onload_callbacks) === \"undefined\" || force !== \"\") {\n",
       "      window._bokeh_onload_callbacks = [];\n",
       "      window._bokeh_is_loading = undefined;\n",
       "    }\n",
       "  \n",
       "  \n",
       "    \n",
       "    if (typeof (window._bokeh_timeout) === \"undefined\" || force !== \"\") {\n",
       "      window._bokeh_timeout = Date.now() + 0;\n",
       "      window._bokeh_failed_load = false;\n",
       "    }\n",
       "  \n",
       "    var NB_LOAD_WARNING = {'data': {'text/html':\n",
       "       \"<div style='background-color: #fdd'>\\n\"+\n",
       "       \"<p>\\n\"+\n",
       "       \"BokehJS does not appear to have successfully loaded. If loading BokehJS from CDN, this \\n\"+\n",
       "       \"may be due to a slow or bad network connection. Possible fixes:\\n\"+\n",
       "       \"</p>\\n\"+\n",
       "       \"<ul>\\n\"+\n",
       "       \"<li>re-rerun `output_notebook()` to attempt to load from CDN again, or</li>\\n\"+\n",
       "       \"<li>use INLINE resources instead, as so:</li>\\n\"+\n",
       "       \"</ul>\\n\"+\n",
       "       \"<code>\\n\"+\n",
       "       \"from bokeh.resources import INLINE\\n\"+\n",
       "       \"output_notebook(resources=INLINE)\\n\"+\n",
       "       \"</code>\\n\"+\n",
       "       \"</div>\"}};\n",
       "  \n",
       "    function display_loaded() {\n",
       "      if (window.Bokeh !== undefined) {\n",
       "        Bokeh.$(\"#e0f990af-ce11-4cac-8a7f-09095b6ac1ed\").text(\"BokehJS successfully loaded.\");\n",
       "      } else if (Date.now() < window._bokeh_timeout) {\n",
       "        setTimeout(display_loaded, 100)\n",
       "      }\n",
       "    }\n",
       "  \n",
       "    function run_callbacks() {\n",
       "      window._bokeh_onload_callbacks.forEach(function(callback) { callback() });\n",
       "      delete window._bokeh_onload_callbacks\n",
       "      console.info(\"Bokeh: all callbacks have finished\");\n",
       "    }\n",
       "  \n",
       "    function load_libs(js_urls, callback) {\n",
       "      window._bokeh_onload_callbacks.push(callback);\n",
       "      if (window._bokeh_is_loading > 0) {\n",
       "        console.log(\"Bokeh: BokehJS is being loaded, scheduling callback at\", now());\n",
       "        return null;\n",
       "      }\n",
       "      if (js_urls == null || js_urls.length === 0) {\n",
       "        run_callbacks();\n",
       "        return null;\n",
       "      }\n",
       "      console.log(\"Bokeh: BokehJS not loaded, scheduling load and callback at\", now());\n",
       "      window._bokeh_is_loading = js_urls.length;\n",
       "      for (var i = 0; i < js_urls.length; i++) {\n",
       "        var url = js_urls[i];\n",
       "        var s = document.createElement('script');\n",
       "        s.src = url;\n",
       "        s.async = false;\n",
       "        s.onreadystatechange = s.onload = function() {\n",
       "          window._bokeh_is_loading--;\n",
       "          if (window._bokeh_is_loading === 0) {\n",
       "            console.log(\"Bokeh: all BokehJS libraries loaded\");\n",
       "            run_callbacks()\n",
       "          }\n",
       "        };\n",
       "        s.onerror = function() {\n",
       "          console.warn(\"failed to load library \" + url);\n",
       "        };\n",
       "        console.log(\"Bokeh: injecting script tag for BokehJS library: \", url);\n",
       "        document.getElementsByTagName(\"head\")[0].appendChild(s);\n",
       "      }\n",
       "    };var element = document.getElementById(\"e0f990af-ce11-4cac-8a7f-09095b6ac1ed\");\n",
       "    if (element == null) {\n",
       "      console.log(\"Bokeh: ERROR: autoload.js configured with elementid 'e0f990af-ce11-4cac-8a7f-09095b6ac1ed' but no matching script tag was found. \")\n",
       "      return false;\n",
       "    }\n",
       "  \n",
       "    var js_urls = [];\n",
       "  \n",
       "    var inline_js = [\n",
       "      function(Bokeh) {\n",
       "        Bokeh.$(function() {\n",
       "            var docs_json = {\"eec9460e-73d9-47dc-a2a8-e5dd8e574a60\":{\"roots\":{\"references\":[{\"attributes\":{},\"id\":\"1176b599-b6d8-4652-8f4b-57fcf0bd736b\",\"type\":\"BasicTickFormatter\"},{\"attributes\":{\"callback\":null,\"column_names\":[\"x\",\"y\"],\"data\":{\"x\":[100.41724111354192,99.90147082939494,99.15547448763284,100.03803004965208,99.62729405973381,99.89454503158844,99.48096615180926,100.53045572968789,100.24629080693158,100.10007093399996,99.28824420612587,97.11764487522316,96.84637719111629,100.03469402905857,100.42833643108598,99.96572231034305,99.75300121408495,102.24553590350286,99.71691124223803,102.37688435768858,101.87901704392038,102.18662032896044,102.02309675016808,100.46059877408817,102.1980121924726,101.79190164948194,98.16546553318685,101.24560753091481,100.23347424146804,102.10609401242692,100.74052237859581,101.93852500014253,99.9478808937623,102.31856200453956,105.37715428447329,106.05374339731381,105.65926776318565,105.59418706853207,105.40520728966818,105.41587349667118,107.11586603576873,106.78531603308441,105.28200954714612,105.39493265561727,105.63541769033623,106.25790998541409,105.82164530026789,105.21092465551722,105.45287769079462,105.62618540227184,106.15274139407049,101.4370072882709,103.6222284559084,100.95591079307778,101.1048252524532,102.74436291771916,101.82774287580638,101.05763871157052,101.86217105727094,101.41467450995044,101.06513018307086,101.07832074101269,101.7233861705348,104.06674148885863,102.78361290517029,103.51670399237386,102.24610489466903,100.4831885420432,96.45470060414804,89.15710255105166,97.2342178769196,96.75961727779851,93.42081785661246,94.59035115003063,95.77750451318147,92.3851799857975,95.51868708781109,95.50892337344278,96.27740057228165,96.59854734092949,96.76434161235534,96.92689951719375,96.77637190675084,96.56387406292501,95.54892617714206,104.1590902753689,102.54847702667796,101.76995032660335,101.55546014388194,101.7684941295532,103.85309734351205,101.74883847760186,105.10291767908268,101.86364439792013,101.61630700224958,102.77544839836153,101.6578260115635,101.64292584035215,101.80355421854819,103.28904962215195,101.7619760926887,101.541908292103,104.10130527573891,102.77463537699279,105.59677575650585,103.13888378997936,105.64517621510866,106.31468347782588,104.61673466549117,103.23680171289276,104.14045884017041,103.37684874852518,103.77518248990017,104.12546050350299,103.88245476055086,103.85284341609899,103.82490949942228,103.52607863967918,103.71019975867598,103.1951191623526,103.4837983761508,103.00606656150039,103.07450743027297,103.15552943717545,103.76810194158331,103.57987820854626,102.98561555747361,103.09471397934351,103.05633255916354,103.29174588875331,103.4519369684872,103.07901368008578,103.0927038573261,103.37860912869212,102.97092563337768,100.26709871272207,98.52565342051724,99.37362467460517,99.18859726668101,99.08153700985014,97.9813009345911,99.91255038407583,99.74336303762549,99.42635925457657,99.88778941949316,98.25826656937282,99.25768680000964,94.6315245696801,99.72020639394415,92.42264788424211,99.61811982669883,95.23646541257664,93.01904437729692,94.56211696921821,96.52741382902718,94.75770898784457,94.1497566439921,93.54201730271204,94.53979393358257,110.50254439780895,92.37421869271205,99.17153064329233,93.61777111905161,101.2688462051474,93.65298090126416,92.89285581823887,94.73778770292174],\"y\":[80.41724111354192,46.90147082939494,-32.844525512367156,75.03803004965208,11.627294059733813,45.894545031588436,24.480966151809255,83.53045572968789,72.24629080693158,65.10007093399996,19.288244206125867,-262.88235512477684,-652.1536228088837,59.03469402905857,74.42833643108598,55.965722310343054,17.753001214084946,74.24553590350286,-175.28308875776196,84.37688435768858,74.87901704392038,68.18662032896044,74.02309675016808,-1.5394012259118313,68.1980121924726,59.79190164948194,-327.8345344668131,44.24560753091481,-23.766525758531955,83.10609401242692,-27.259477621404187,71.93852500014253,-181.05211910623768,83.31856200453956,86.37715428447329,20.05374339731381,60.65926776318565,76.59418706853207,77.40520728966818,83.41587349667118,-112.88413396423127,-19.214683966915587,90.28200954714612,83.39493265561727,74.63541769033623,25.257909985414088,70.82164530026789,87.21092465551722,81.45287769079462,68.62618540227184,11.152741394070489,82.4370072882709,-149.37777154409162,66.95591079307778,77.1048252524532,-79.25563708228084,27.82774287580638,78.05763871157052,23.862171057270942,78.41467450995044,77.06513018307086,77.07832074101269,54.723386170534795,-165.9332585111414,-10.216387094829713,-149.48329600762614,20.24610489466903,80.4831885420432,49.454700604148044,-888.8428974489483,63.2342178769196,65.75961727779851,-105.57918214338754,-76.40964884996937,62.77750451318147,-268.6148200142025,-17.481312912188912,-21.491076626557216,22.27740057228165,63.598547340929485,58.76434161235534,60.926899517193746,68.77637190675084,55.56387406292501,-21.451073822857936,-162.8409097246311,57.54847702667796,83.76995032660335,80.55546014388194,64.7684941295532,-86.14690265648795,54.748838477601865,-275.8970823209173,73.86364439792013,76.61630700224958,-13.224551601638467,75.6578260115635,81.64292584035215,66.80355421854819,-77.71095037784805,72.7619760926887,77.541908292103,39.10130527573891,84.77463537699279,-30.40322424349415,69.13888378997936,-51.35482378489134,-146.6853165221741,3.6167346654911654,78.23680171289276,30.14045884017041,75.37684874852518,57.775182489900175,51.12546050350299,74.88245476055086,59.85284341609899,57.824909499422276,67.52607863967918,62.710199758675984,21.195119162352597,-34.5162016238492,75.00606656150039,61.07450743027297,41.155529437175446,-162.23189805841668,1.579878208546262,77.98561555747361,59.09471397934351,72.05633255916354,29.29174588875331,-38.5480630315128,62.07901368008578,60.0927038573261,-15.62139087130788,75.97092563337768,85.26709871272207,25.525653420517244,35.37362467460517,46.188597266681015,23.081537009850138,-22.018699065408896,75.91255038407583,79.74336303762549,49.42635925457657,78.88778941949316,18.25826656937282,69.25768680000964,-246.3684754303199,75.72020639394415,-826.5773521157579,69.61811982669883,39.236465412576635,59.01904437729692,41.56211696921821,-78.47258617097282,47.757708987844566,62.149756643992106,70.54201730271204,55.53979393358257,-1127.4974556021912,72.37421869271205,-127.82846935670767,73.61777111905161,-280.7311537948526,67.65298090126416,64.89285581823887,27.737787702921736]}},\"id\":\"f70de334-08ee-43e0-a486-143f4e032067\",\"type\":\"ColumnDataSource\"},{\"attributes\":{\"axis_label\":\"Residuals\",\"axis_label_text_color\":{\"value\":\"#aa6666\"},\"formatter\":{\"id\":\"1176b599-b6d8-4652-8f4b-57fcf0bd736b\",\"type\":\"BasicTickFormatter\"},\"plot\":{\"id\":\"e27f5638-58ca-482b-a111-483fb022f7c3\",\"subtype\":\"Figure\",\"type\":\"Plot\"},\"ticker\":{\"id\":\"80438bb4-d1ed-4540-bb02-d0f09f1c6485\",\"type\":\"BasicTicker\"}},\"id\":\"c0105b3e-9905-41f5-b565-588ed352bd03\",\"type\":\"LinearAxis\"},{\"attributes\":{\"callback\":null},\"id\":\"b0ecfd47-72bc-43d0-87d8-df6464e712ee\",\"type\":\"DataRange1d\"},{\"attributes\":{\"active_drag\":\"auto\",\"active_scroll\":\"auto\",\"active_tap\":\"auto\",\"tools\":[{\"id\":\"4507e984-d8a9-42f4-886c-b043d9e604ee\",\"type\":\"BoxZoomTool\"},{\"id\":\"f07227ef-f8b1-4ab1-a888-c8e6f7286d38\",\"type\":\"BoxSelectTool\"},{\"id\":\"2ff80cb0-4189-4289-92c3-ad7ab5577459\",\"type\":\"CrosshairTool\"},{\"id\":\"de8a6f0b-dd8f-46ec-bdf6-94919f823667\",\"type\":\"ResizeTool\"},{\"id\":\"c07da816-7304-4f51-9851-9e3da14eae5c\",\"type\":\"ResetTool\"},{\"id\":\"75d7f555-eb39-4fe8-ab10-970074b05c7a\",\"type\":\"LassoSelectTool\"},{\"id\":\"91facf56-0c14-43b5-b771-c8997ae810cd\",\"type\":\"PanTool\"},{\"id\":\"c2856c72-7e1f-4e28-a064-46d8ca17a43c\",\"type\":\"SaveTool\"},{\"id\":\"b6ddde9f-7be2-4384-894b-1b2a461cf5b9\",\"type\":\"PolySelectTool\"},{\"id\":\"00dadfa0-41dc-4659-900f-dba5a939d4ae\",\"type\":\"TapTool\"},{\"id\":\"9ee24212-ec6c-4c0d-96c0-cee89cbf0b47\",\"type\":\"WheelZoomTool\"},{\"id\":\"99f4f89b-6237-4c37-a3b9-dec63fa5f486\",\"type\":\"UndoTool\"}]},\"id\":\"9fd05302-d8d5-4d8d-be24-eda5c4f9e071\",\"type\":\"Toolbar\"},{\"attributes\":{\"callback\":null,\"overlay\":{\"id\":\"80c17f95-3a22-4f18-b363-72f48a8e4cc2\",\"type\":\"PolyAnnotation\"},\"plot\":{\"id\":\"e27f5638-58ca-482b-a111-483fb022f7c3\",\"subtype\":\"Figure\",\"type\":\"Plot\"}},\"id\":\"75d7f555-eb39-4fe8-ab10-970074b05c7a\",\"type\":\"LassoSelectTool\"},{\"attributes\":{\"fill_alpha\":{\"value\":0.5},\"fill_color\":{\"value\":\"lightgrey\"},\"level\":\"overlay\",\"line_alpha\":{\"value\":1.0},\"line_color\":{\"value\":\"black\"},\"line_dash\":[4,4],\"line_width\":{\"value\":2},\"plot\":null,\"xs_units\":\"screen\",\"ys_units\":\"screen\"},\"id\":\"80c17f95-3a22-4f18-b363-72f48a8e4cc2\",\"type\":\"PolyAnnotation\"},{\"attributes\":{\"plot\":{\"id\":\"e27f5638-58ca-482b-a111-483fb022f7c3\",\"subtype\":\"Figure\",\"type\":\"Plot\"},\"ticker\":{\"id\":\"d8e1901a-742a-4471-bfd9-d8c3c3631743\",\"type\":\"BasicTicker\"}},\"id\":\"f1d4bfa2-50fc-4209-97ac-e5bcba7e7a1f\",\"type\":\"Grid\"},{\"attributes\":{\"callback\":null,\"plot\":{\"id\":\"e27f5638-58ca-482b-a111-483fb022f7c3\",\"subtype\":\"Figure\",\"type\":\"Plot\"}},\"id\":\"00dadfa0-41dc-4659-900f-dba5a939d4ae\",\"type\":\"TapTool\"},{\"attributes\":{},\"id\":\"80438bb4-d1ed-4540-bb02-d0f09f1c6485\",\"type\":\"BasicTicker\"},{\"attributes\":{\"bottom_units\":\"screen\",\"fill_alpha\":{\"value\":0.5},\"fill_color\":{\"value\":\"lightgrey\"},\"left_units\":\"screen\",\"level\":\"overlay\",\"line_alpha\":{\"value\":1.0},\"line_color\":{\"value\":\"black\"},\"line_dash\":[4,4],\"line_width\":{\"value\":2},\"plot\":null,\"render_mode\":\"css\",\"right_units\":\"screen\",\"top_units\":\"screen\"},\"id\":\"51bdc6c1-e552-4c76-b2e8-3c795e71a7b6\",\"type\":\"BoxAnnotation\"},{\"attributes\":{},\"id\":\"d8e1901a-742a-4471-bfd9-d8c3c3631743\",\"type\":\"BasicTicker\"},{\"attributes\":{},\"id\":\"71be482b-f0ca-41bd-ba61-1dba869efaac\",\"type\":\"ToolEvents\"},{\"attributes\":{\"plot\":{\"id\":\"e27f5638-58ca-482b-a111-483fb022f7c3\",\"subtype\":\"Figure\",\"type\":\"Plot\"}},\"id\":\"c2856c72-7e1f-4e28-a064-46d8ca17a43c\",\"type\":\"SaveTool\"},{\"attributes\":{\"background_fill_alpha\":{\"value\":0.5},\"background_fill_color\":{\"value\":\"beige\"},\"below\":[{\"id\":\"8411c964-31c1-4bdb-9e8c-2d54c4a6da0f\",\"type\":\"LinearAxis\"}],\"left\":[{\"id\":\"c0105b3e-9905-41f5-b565-588ed352bd03\",\"type\":\"LinearAxis\"}],\"plot_height\":500,\"plot_width\":500,\"renderers\":[{\"id\":\"8411c964-31c1-4bdb-9e8c-2d54c4a6da0f\",\"type\":\"LinearAxis\"},{\"id\":\"f1d4bfa2-50fc-4209-97ac-e5bcba7e7a1f\",\"type\":\"Grid\"},{\"id\":\"c0105b3e-9905-41f5-b565-588ed352bd03\",\"type\":\"LinearAxis\"},{\"id\":\"25e4c874-0aa1-4a4e-b262-ca7832136c40\",\"type\":\"Grid\"},{\"id\":\"71adf2fd-649f-4322-be2f-36309facd336\",\"type\":\"BoxAnnotation\"},{\"id\":\"51bdc6c1-e552-4c76-b2e8-3c795e71a7b6\",\"type\":\"BoxAnnotation\"},{\"id\":\"80c17f95-3a22-4f18-b363-72f48a8e4cc2\",\"type\":\"PolyAnnotation\"},{\"id\":\"9470ad82-4738-4afb-939e-cc9e956ddee7\",\"type\":\"PolyAnnotation\"},{\"id\":\"2fa49f18-cbb3-4a4a-8e2a-d102fe399cbf\",\"type\":\"GlyphRenderer\"}],\"title\":{\"id\":\"5559d73f-e542-484c-9f70-2480e1c97eb6\",\"type\":\"Title\"},\"tool_events\":{\"id\":\"71be482b-f0ca-41bd-ba61-1dba869efaac\",\"type\":\"ToolEvents\"},\"toolbar\":{\"id\":\"9fd05302-d8d5-4d8d-be24-eda5c4f9e071\",\"type\":\"Toolbar\"},\"x_range\":{\"id\":\"654b1a26-a39f-44f1-972e-555d52912e57\",\"type\":\"DataRange1d\"},\"y_range\":{\"id\":\"b0ecfd47-72bc-43d0-87d8-df6464e712ee\",\"type\":\"DataRange1d\"}},\"id\":\"e27f5638-58ca-482b-a111-483fb022f7c3\",\"subtype\":\"Figure\",\"type\":\"Plot\"},{\"attributes\":{\"bottom_units\":\"screen\",\"fill_alpha\":{\"value\":0.5},\"fill_color\":{\"value\":\"lightgrey\"},\"left_units\":\"screen\",\"level\":\"overlay\",\"line_alpha\":{\"value\":1.0},\"line_color\":{\"value\":\"black\"},\"line_dash\":[4,4],\"line_width\":{\"value\":2},\"plot\":null,\"render_mode\":\"css\",\"right_units\":\"screen\",\"top_units\":\"screen\"},\"id\":\"71adf2fd-649f-4322-be2f-36309facd336\",\"type\":\"BoxAnnotation\"},{\"attributes\":{\"axis_label\":\"Predicted\",\"axis_label_text_color\":{\"value\":\"#aa6666\"},\"formatter\":{\"id\":\"f69f4c68-b2be-4c35-a6a8-eb6e596900f9\",\"type\":\"BasicTickFormatter\"},\"major_tick_line_color\":{\"value\":\"firebrick\"},\"major_tick_line_width\":{\"value\":3},\"minor_tick_line_color\":{\"value\":\"orange\"},\"plot\":{\"id\":\"e27f5638-58ca-482b-a111-483fb022f7c3\",\"subtype\":\"Figure\",\"type\":\"Plot\"},\"ticker\":{\"id\":\"d8e1901a-742a-4471-bfd9-d8c3c3631743\",\"type\":\"BasicTicker\"}},\"id\":\"8411c964-31c1-4bdb-9e8c-2d54c4a6da0f\",\"type\":\"LinearAxis\"},{\"attributes\":{\"align\":\"center\",\"plot\":null,\"text\":\"Residual plot on the training data\"},\"id\":\"5559d73f-e542-484c-9f70-2480e1c97eb6\",\"type\":\"Title\"},{\"attributes\":{\"callback\":null,\"overlay\":{\"id\":\"51bdc6c1-e552-4c76-b2e8-3c795e71a7b6\",\"type\":\"BoxAnnotation\"},\"plot\":{\"id\":\"e27f5638-58ca-482b-a111-483fb022f7c3\",\"subtype\":\"Figure\",\"type\":\"Plot\"},\"renderers\":[{\"id\":\"2fa49f18-cbb3-4a4a-8e2a-d102fe399cbf\",\"type\":\"GlyphRenderer\"}]},\"id\":\"f07227ef-f8b1-4ab1-a888-c8e6f7286d38\",\"type\":\"BoxSelectTool\"},{\"attributes\":{\"fill_color\":{\"value\":\"#80B1D3\"},\"line_color\":{\"value\":\"#80B1D3\"},\"line_width\":{\"value\":3},\"x\":{\"field\":\"x\"},\"y\":{\"field\":\"y\"}},\"id\":\"51426c1f-b2cc-4652-91aa-e3b63735129c\",\"type\":\"Circle\"},{\"attributes\":{\"fill_alpha\":{\"value\":0.1},\"fill_color\":{\"value\":\"#1f77b4\"},\"line_alpha\":{\"value\":0.1},\"line_color\":{\"value\":\"#1f77b4\"},\"line_width\":{\"value\":3},\"x\":{\"field\":\"x\"},\"y\":{\"field\":\"y\"}},\"id\":\"f882f6f6-90eb-4785-b081-d05bb0ef3fbd\",\"type\":\"Circle\"},{\"attributes\":{\"overlay\":{\"id\":\"9470ad82-4738-4afb-939e-cc9e956ddee7\",\"type\":\"PolyAnnotation\"},\"plot\":{\"id\":\"e27f5638-58ca-482b-a111-483fb022f7c3\",\"subtype\":\"Figure\",\"type\":\"Plot\"}},\"id\":\"b6ddde9f-7be2-4384-894b-1b2a461cf5b9\",\"type\":\"PolySelectTool\"},{\"attributes\":{\"overlay\":{\"id\":\"71adf2fd-649f-4322-be2f-36309facd336\",\"type\":\"BoxAnnotation\"},\"plot\":{\"id\":\"e27f5638-58ca-482b-a111-483fb022f7c3\",\"subtype\":\"Figure\",\"type\":\"Plot\"}},\"id\":\"4507e984-d8a9-42f4-886c-b043d9e604ee\",\"type\":\"BoxZoomTool\"},{\"attributes\":{\"dimension\":1,\"plot\":{\"id\":\"e27f5638-58ca-482b-a111-483fb022f7c3\",\"subtype\":\"Figure\",\"type\":\"Plot\"},\"ticker\":{\"id\":\"80438bb4-d1ed-4540-bb02-d0f09f1c6485\",\"type\":\"BasicTicker\"}},\"id\":\"25e4c874-0aa1-4a4e-b262-ca7832136c40\",\"type\":\"Grid\"},{\"attributes\":{\"fill_alpha\":{\"value\":0.5},\"fill_color\":{\"value\":\"lightgrey\"},\"level\":\"overlay\",\"line_alpha\":{\"value\":1.0},\"line_color\":{\"value\":\"black\"},\"line_dash\":[4,4],\"line_width\":{\"value\":2},\"plot\":null,\"xs_units\":\"screen\",\"ys_units\":\"screen\"},\"id\":\"9470ad82-4738-4afb-939e-cc9e956ddee7\",\"type\":\"PolyAnnotation\"},{\"attributes\":{\"plot\":{\"id\":\"e27f5638-58ca-482b-a111-483fb022f7c3\",\"subtype\":\"Figure\",\"type\":\"Plot\"}},\"id\":\"2ff80cb0-4189-4289-92c3-ad7ab5577459\",\"type\":\"CrosshairTool\"},{\"attributes\":{},\"id\":\"f69f4c68-b2be-4c35-a6a8-eb6e596900f9\",\"type\":\"BasicTickFormatter\"},{\"attributes\":{\"plot\":{\"id\":\"e27f5638-58ca-482b-a111-483fb022f7c3\",\"subtype\":\"Figure\",\"type\":\"Plot\"}},\"id\":\"99f4f89b-6237-4c37-a3b9-dec63fa5f486\",\"type\":\"UndoTool\"},{\"attributes\":{\"plot\":{\"id\":\"e27f5638-58ca-482b-a111-483fb022f7c3\",\"subtype\":\"Figure\",\"type\":\"Plot\"}},\"id\":\"91facf56-0c14-43b5-b771-c8997ae810cd\",\"type\":\"PanTool\"},{\"attributes\":{\"data_source\":{\"id\":\"f70de334-08ee-43e0-a486-143f4e032067\",\"type\":\"ColumnDataSource\"},\"glyph\":{\"id\":\"51426c1f-b2cc-4652-91aa-e3b63735129c\",\"type\":\"Circle\"},\"hover_glyph\":null,\"nonselection_glyph\":{\"id\":\"f882f6f6-90eb-4785-b081-d05bb0ef3fbd\",\"type\":\"Circle\"},\"selection_glyph\":null},\"id\":\"2fa49f18-cbb3-4a4a-8e2a-d102fe399cbf\",\"type\":\"GlyphRenderer\"},{\"attributes\":{\"plot\":{\"id\":\"e27f5638-58ca-482b-a111-483fb022f7c3\",\"subtype\":\"Figure\",\"type\":\"Plot\"}},\"id\":\"de8a6f0b-dd8f-46ec-bdf6-94919f823667\",\"type\":\"ResizeTool\"},{\"attributes\":{\"plot\":{\"id\":\"e27f5638-58ca-482b-a111-483fb022f7c3\",\"subtype\":\"Figure\",\"type\":\"Plot\"}},\"id\":\"c07da816-7304-4f51-9851-9e3da14eae5c\",\"type\":\"ResetTool\"},{\"attributes\":{\"plot\":{\"id\":\"e27f5638-58ca-482b-a111-483fb022f7c3\",\"subtype\":\"Figure\",\"type\":\"Plot\"}},\"id\":\"9ee24212-ec6c-4c0d-96c0-cee89cbf0b47\",\"type\":\"WheelZoomTool\"},{\"attributes\":{\"callback\":null},\"id\":\"654b1a26-a39f-44f1-972e-555d52912e57\",\"type\":\"DataRange1d\"}],\"root_ids\":[\"e27f5638-58ca-482b-a111-483fb022f7c3\"]},\"title\":\"Bokeh Application\",\"version\":\"0.12.2\"}};\n",
       "            var render_items = [{\"docid\":\"eec9460e-73d9-47dc-a2a8-e5dd8e574a60\",\"elementid\":\"e0f990af-ce11-4cac-8a7f-09095b6ac1ed\",\"modelid\":\"e27f5638-58ca-482b-a111-483fb022f7c3\"}];\n",
       "            \n",
       "            Bokeh.embed.embed_items(docs_json, render_items);\n",
       "        });\n",
       "      },\n",
       "      function(Bokeh) {\n",
       "      }\n",
       "    ];\n",
       "  \n",
       "    function run_inline_js() {\n",
       "      \n",
       "      if ((window.Bokeh !== undefined) || (force === \"1\")) {\n",
       "        for (var i = 0; i < inline_js.length; i++) {\n",
       "          inline_js[i](window.Bokeh);\n",
       "        }if (force === \"1\") {\n",
       "          display_loaded();\n",
       "        }} else if (Date.now() < window._bokeh_timeout) {\n",
       "        setTimeout(run_inline_js, 100);\n",
       "      } else if (!window._bokeh_failed_load) {\n",
       "        console.log(\"Bokeh: BokehJS failed to load within specified timeout.\");\n",
       "        window._bokeh_failed_load = true;\n",
       "      } else if (!force) {\n",
       "        var cell = $(\"#e0f990af-ce11-4cac-8a7f-09095b6ac1ed\").parents('.cell').data().cell;\n",
       "        cell.output_area.append_execute_result(NB_LOAD_WARNING)\n",
       "      }\n",
       "  \n",
       "    }\n",
       "  \n",
       "    if (window._bokeh_is_loading === 0) {\n",
       "      console.log(\"Bokeh: BokehJS loaded, going straight to plotting\");\n",
       "      run_inline_js();\n",
       "    } else {\n",
       "      load_libs(js_urls, function() {\n",
       "        console.log(\"Bokeh: BokehJS plotting callback run at\", now());\n",
       "        run_inline_js();\n",
       "      });\n",
       "    }\n",
       "  }(this));\n",
       "</script>"
      ]
     },
     "metadata": {},
     "output_type": "display_data"
    }
   ],
   "source": [
    "# Plotining using bokeh\n",
    "#TOOLS = 'hover,box_zoom,box_select,crosshair,resize,reset,BayesianRidge_select,pan,save,poly_select,tap,wheel_zoom,undo'\n",
    "TOOLS = 'box_zoom,box_select,crosshair,resize,reset,lasso_select,pan,save,poly_select,tap,wheel_zoom,undo'\n",
    "p = figure(plot_width=500, plot_height=500, title=\"Residual plot on the training data\", tools=TOOLS)\n",
    "p.scatter(predicted, (predicted - Y),x=\"jjj\", marker=\"o\", color=\"#80B1D3\", line_width=3)\n",
    "p.title.align = \"center\"\n",
    "p.xaxis.axis_label = \"Predicted\"\n",
    "p.xaxis.axis_label_text_color = \"#aa6666\"\n",
    "#p.xaxis.axis_label_standoff = 30\n",
    "p.xaxis.major_tick_line_color = \"firebrick\"\n",
    "p.xaxis.major_tick_line_width = 3\n",
    "p.xaxis.minor_tick_line_color = \"orange\"\n",
    "p.yaxis.axis_label = \"Residuals\"\n",
    "p.yaxis.axis_label_text_font_style = \"italic\"\n",
    "p.yaxis.axis_label_text_color = \"#aa6666\"\n",
    "p.background_fill_color = \"beige\"\n",
    "p.background_fill_alpha = 0.5\n",
    "#p.line([2,38], [0, 0], line_dash=\"4 4\", line_width=2, color='red')\n",
    "show(p)"
   ]
  },
  {
   "cell_type": "markdown",
   "metadata": {},
   "source": [
    "## Pipeline"
   ]
  },
  {
   "cell_type": "markdown",
   "metadata": {},
   "source": [
    "The best to deliver the model by pipeline the operation then at deployment can be done in one model."
   ]
  },
  {
   "cell_type": "markdown",
   "metadata": {
    "collapsed": true
   },
   "source": [
    "  I used two ways to check the pipeline so any one can be fine"
   ]
  },
  {
   "cell_type": "code",
   "execution_count": 68,
   "metadata": {
    "collapsed": false
   },
   "outputs": [
    {
     "name": "stdout",
     "output_type": "stream",
     "text": [
      "0.0248197533158\n",
      "Scoring according to mean_squared_error\n",
      "[-31697.82891079 -13492.7734814   -5303.01613962  -7714.8151411\n",
      " -51024.26253937 -10844.22711373  -4772.89134987  -4301.95732383\n",
      " -50277.44214735  -5846.90998284]\n",
      "\n",
      " Mean      Standard deviation\n",
      "-18527.61      17793.51\n",
      "[ True  True  True  True  True  True  True]\n",
      "R-squared =  0.0248197533158\n"
     ]
    },
    {
     "name": "stderr",
     "output_type": "stream",
     "text": [
      "/home/salm/anaconda2/lib/python2.7/site-packages/sklearn/utils/validation.py:420: DataConversionWarning: Data with input dtype int64 was converted to float64 by StandardScaler.\n",
      "  warnings.warn(msg, DataConversionWarning)\n",
      "/home/salm/anaconda2/lib/python2.7/site-packages/sklearn/utils/validation.py:420: DataConversionWarning: Data with input dtype int64 was converted to float64 by StandardScaler.\n",
      "  warnings.warn(msg, DataConversionWarning)\n",
      "/home/salm/anaconda2/lib/python2.7/site-packages/sklearn/utils/validation.py:420: DataConversionWarning: Data with input dtype int64 was converted to float64 by StandardScaler.\n",
      "  warnings.warn(msg, DataConversionWarning)\n",
      "/home/salm/anaconda2/lib/python2.7/site-packages/sklearn/utils/validation.py:420: DataConversionWarning: Data with input dtype int64 was converted to float64 by StandardScaler.\n",
      "  warnings.warn(msg, DataConversionWarning)\n",
      "/home/salm/anaconda2/lib/python2.7/site-packages/sklearn/utils/validation.py:420: DataConversionWarning: Data with input dtype int64 was converted to float64 by StandardScaler.\n",
      "  warnings.warn(msg, DataConversionWarning)\n",
      "/home/salm/anaconda2/lib/python2.7/site-packages/sklearn/utils/validation.py:420: DataConversionWarning: Data with input dtype int64 was converted to float64 by StandardScaler.\n",
      "  warnings.warn(msg, DataConversionWarning)\n",
      "/home/salm/anaconda2/lib/python2.7/site-packages/sklearn/utils/validation.py:420: DataConversionWarning: Data with input dtype int64 was converted to float64 by StandardScaler.\n",
      "  warnings.warn(msg, DataConversionWarning)\n",
      "/home/salm/anaconda2/lib/python2.7/site-packages/sklearn/utils/validation.py:420: DataConversionWarning: Data with input dtype int64 was converted to float64 by StandardScaler.\n",
      "  warnings.warn(msg, DataConversionWarning)\n",
      "/home/salm/anaconda2/lib/python2.7/site-packages/sklearn/utils/validation.py:420: DataConversionWarning: Data with input dtype int64 was converted to float64 by StandardScaler.\n",
      "  warnings.warn(msg, DataConversionWarning)\n",
      "/home/salm/anaconda2/lib/python2.7/site-packages/sklearn/utils/validation.py:420: DataConversionWarning: Data with input dtype int64 was converted to float64 by StandardScaler.\n",
      "  warnings.warn(msg, DataConversionWarning)\n",
      "/home/salm/anaconda2/lib/python2.7/site-packages/sklearn/utils/validation.py:420: DataConversionWarning: Data with input dtype int64 was converted to float64 by StandardScaler.\n",
      "  warnings.warn(msg, DataConversionWarning)\n",
      "/home/salm/anaconda2/lib/python2.7/site-packages/sklearn/utils/validation.py:420: DataConversionWarning: Data with input dtype int64 was converted to float64 by StandardScaler.\n",
      "  warnings.warn(msg, DataConversionWarning)\n",
      "/home/salm/anaconda2/lib/python2.7/site-packages/sklearn/utils/validation.py:420: DataConversionWarning: Data with input dtype int64 was converted to float64 by StandardScaler.\n",
      "  warnings.warn(msg, DataConversionWarning)\n",
      "/home/salm/anaconda2/lib/python2.7/site-packages/sklearn/utils/validation.py:420: DataConversionWarning: Data with input dtype int64 was converted to float64 by StandardScaler.\n",
      "  warnings.warn(msg, DataConversionWarning)\n",
      "/home/salm/anaconda2/lib/python2.7/site-packages/sklearn/utils/validation.py:420: DataConversionWarning: Data with input dtype int64 was converted to float64 by StandardScaler.\n",
      "  warnings.warn(msg, DataConversionWarning)\n",
      "/home/salm/anaconda2/lib/python2.7/site-packages/sklearn/utils/validation.py:420: DataConversionWarning: Data with input dtype int64 was converted to float64 by StandardScaler.\n",
      "  warnings.warn(msg, DataConversionWarning)\n",
      "/home/salm/anaconda2/lib/python2.7/site-packages/sklearn/utils/validation.py:420: DataConversionWarning: Data with input dtype int64 was converted to float64 by StandardScaler.\n",
      "  warnings.warn(msg, DataConversionWarning)\n",
      "/home/salm/anaconda2/lib/python2.7/site-packages/sklearn/utils/validation.py:420: DataConversionWarning: Data with input dtype int64 was converted to float64 by StandardScaler.\n",
      "  warnings.warn(msg, DataConversionWarning)\n",
      "/home/salm/anaconda2/lib/python2.7/site-packages/sklearn/utils/validation.py:420: DataConversionWarning: Data with input dtype int64 was converted to float64 by StandardScaler.\n",
      "  warnings.warn(msg, DataConversionWarning)\n",
      "/home/salm/anaconda2/lib/python2.7/site-packages/sklearn/utils/validation.py:420: DataConversionWarning: Data with input dtype int64 was converted to float64 by StandardScaler.\n",
      "  warnings.warn(msg, DataConversionWarning)\n",
      "/home/salm/anaconda2/lib/python2.7/site-packages/sklearn/utils/validation.py:420: DataConversionWarning: Data with input dtype int64 was converted to float64 by StandardScaler.\n",
      "  warnings.warn(msg, DataConversionWarning)\n",
      "/home/salm/anaconda2/lib/python2.7/site-packages/sklearn/utils/validation.py:420: DataConversionWarning: Data with input dtype int64 was converted to float64 by StandardScaler.\n",
      "  warnings.warn(msg, DataConversionWarning)\n",
      "/home/salm/anaconda2/lib/python2.7/site-packages/sklearn/utils/validation.py:420: DataConversionWarning: Data with input dtype int64 was converted to float64 by StandardScaler.\n",
      "  warnings.warn(msg, DataConversionWarning)\n",
      "/home/salm/anaconda2/lib/python2.7/site-packages/sklearn/utils/validation.py:420: DataConversionWarning: Data with input dtype int64 was converted to float64 by StandardScaler.\n",
      "  warnings.warn(msg, DataConversionWarning)\n",
      "/home/salm/anaconda2/lib/python2.7/site-packages/sklearn/utils/validation.py:420: DataConversionWarning: Data with input dtype int64 was converted to float64 by StandardScaler.\n",
      "  warnings.warn(msg, DataConversionWarning)\n",
      "/home/salm/anaconda2/lib/python2.7/site-packages/sklearn/utils/validation.py:420: DataConversionWarning: Data with input dtype int64 was converted to float64 by StandardScaler.\n",
      "  warnings.warn(msg, DataConversionWarning)\n",
      "/home/salm/anaconda2/lib/python2.7/site-packages/sklearn/utils/validation.py:420: DataConversionWarning: Data with input dtype int64 was converted to float64 by StandardScaler.\n",
      "  warnings.warn(msg, DataConversionWarning)\n",
      "/home/salm/anaconda2/lib/python2.7/site-packages/sklearn/utils/validation.py:420: DataConversionWarning: Data with input dtype int64 was converted to float64 by StandardScaler.\n",
      "  warnings.warn(msg, DataConversionWarning)\n",
      "/home/salm/anaconda2/lib/python2.7/site-packages/sklearn/utils/validation.py:420: DataConversionWarning: Data with input dtype int64 was converted to float64 by StandardScaler.\n",
      "  warnings.warn(msg, DataConversionWarning)\n",
      "/home/salm/anaconda2/lib/python2.7/site-packages/sklearn/utils/validation.py:420: DataConversionWarning: Data with input dtype int64 was converted to float64 by StandardScaler.\n",
      "  warnings.warn(msg, DataConversionWarning)\n",
      "/home/salm/anaconda2/lib/python2.7/site-packages/sklearn/utils/validation.py:420: DataConversionWarning: Data with input dtype int64 was converted to float64 by StandardScaler.\n",
      "  warnings.warn(msg, DataConversionWarning)\n",
      "/home/salm/anaconda2/lib/python2.7/site-packages/sklearn/utils/validation.py:420: DataConversionWarning: Data with input dtype int64 was converted to float64 by StandardScaler.\n",
      "  warnings.warn(msg, DataConversionWarning)\n",
      "/home/salm/anaconda2/lib/python2.7/site-packages/sklearn/utils/validation.py:420: DataConversionWarning: Data with input dtype int64 was converted to float64 by StandardScaler.\n",
      "  warnings.warn(msg, DataConversionWarning)\n",
      "/home/salm/anaconda2/lib/python2.7/site-packages/sklearn/utils/validation.py:420: DataConversionWarning: Data with input dtype int64 was converted to float64 by StandardScaler.\n",
      "  warnings.warn(msg, DataConversionWarning)\n"
     ]
    }
   ],
   "source": [
    "# Use Pipeline\n",
    "# ANOVA \n",
    "from sklearn.pipeline import Pipeline\n",
    "from sklearn.feature_selection import SelectKBest, f_regression\n",
    "anova_filter = SelectKBest(f_regression, k=7)\n",
    "LR = BayesianRidge(lambda_1 = 1.0, lambda_2 = -1.0, alpha_1 = -1.0, alpha_2=-1.0)\n",
    "anova_LinReg = Pipeline([('scaler_Input',scaler), ('anova', anova_filter), ('LinReg', LR)])\n",
    "# You can set the parameters using the names issued\n",
    "# For instance, fit using a k of 10 in the SelectKBest\n",
    "anova_LinReg.set_params(anova__k=7).fit(new_data, Y)\n",
    "prediction = anova_LinReg.predict(new_data)\n",
    "print anova_LinReg.score(new_data, Y)                        \n",
    "# getting the selected features chosen by anova_filter\n",
    "results = cross_validation.cross_val_score(anova_LinReg, new_data, Y, cv=kfold, scoring=scoring)\n",
    "print 'Scoring according to mean_squared_error'\n",
    "print results\n",
    "print '\\n Mean      Standard deviation'\n",
    "print(\"%.2f      %.2f\" % (results.mean(), results.std()))\n",
    "print anova_LinReg.named_steps['anova'].get_support()\n",
    "r_squared = r2_score(Y, prediction, multioutput='variance_weighted')\n",
    "print 'R-squared = ',r_squared"
   ]
  },
  {
   "cell_type": "code",
   "execution_count": 69,
   "metadata": {
    "collapsed": false
   },
   "outputs": [
    {
     "name": "stdout",
     "output_type": "stream",
     "text": [
      "R-squared =  0.0248197533158\n"
     ]
    },
    {
     "name": "stderr",
     "output_type": "stream",
     "text": [
      "/home/salm/anaconda2/lib/python2.7/site-packages/sklearn/utils/validation.py:420: DataConversionWarning: Data with input dtype int64 was converted to float64 by StandardScaler.\n",
      "  warnings.warn(msg, DataConversionWarning)\n",
      "/home/salm/anaconda2/lib/python2.7/site-packages/sklearn/utils/validation.py:420: DataConversionWarning: Data with input dtype int64 was converted to float64 by StandardScaler.\n",
      "  warnings.warn(msg, DataConversionWarning)\n",
      "/home/salm/anaconda2/lib/python2.7/site-packages/sklearn/utils/validation.py:420: DataConversionWarning: Data with input dtype int64 was converted to float64 by StandardScaler.\n",
      "  warnings.warn(msg, DataConversionWarning)\n"
     ]
    }
   ],
   "source": [
    "# Using make_pipeline\n",
    "from sklearn.pipeline import make_pipeline\n",
    "\n",
    "# ANOVA SVM-C\n",
    "# 1) anova filter, take 3 best ranked features\n",
    "anova_filter = SelectKBest(f_regression, k=7)\n",
    "anova_BayesianRidge = make_pipeline(scaler, anova_filter, LR)\n",
    "anova_BayesianRidge.fit(new_data, Y)\n",
    "prediction = anova_BayesianRidge.predict(new_data)\n",
    "r_squared = r2_score(Y, prediction, multioutput='variance_weighted')\n",
    "print 'R-squared = ',r_squared"
   ]
  },
  {
   "cell_type": "markdown",
   "metadata": {},
   "source": [
    "### Save the Pipeline model for developement"
   ]
  },
  {
   "cell_type": "code",
   "execution_count": 70,
   "metadata": {
    "collapsed": false
   },
   "outputs": [
    {
     "data": {
      "text/plain": [
       "['anova_BayesianRidge.pkl',\n",
       " 'anova_BayesianRidge.pkl_01.npy',\n",
       " 'anova_BayesianRidge.pkl_02.npy',\n",
       " 'anova_BayesianRidge.pkl_03.npy',\n",
       " 'anova_BayesianRidge.pkl_04.npy',\n",
       " 'anova_BayesianRidge.pkl_05.npy',\n",
       " 'anova_BayesianRidge.pkl_06.npy']"
      ]
     },
     "execution_count": 70,
     "metadata": {},
     "output_type": "execute_result"
    }
   ],
   "source": [
    "# save the model scaler to the desk\n",
    "from sklearn.externals import joblib\n",
    "joblib.dump(anova_BayesianRidge, 'anova_BayesianRidge.pkl') "
   ]
  },
  {
   "cell_type": "code",
   "execution_count": 71,
   "metadata": {
    "collapsed": false
   },
   "outputs": [
    {
     "name": "stdout",
     "output_type": "stream",
     "text": [
      " =================================================================>>>>> done\n",
      "R-squared =  0.0248197533158\n"
     ]
    },
    {
     "name": "stderr",
     "output_type": "stream",
     "text": [
      "/home/salm/anaconda2/lib/python2.7/site-packages/sklearn/utils/validation.py:420: DataConversionWarning: Data with input dtype int64 was converted to float64 by StandardScaler.\n",
      "  warnings.warn(msg, DataConversionWarning)\n"
     ]
    }
   ],
   "source": [
    "# Test the model if it is work\n",
    "anova_BayesianRidgeTest = joblib.load('anova_BayesianRidge.pkl')\n",
    "NewPred = anova_BayesianRidgeTest.predict(new_data)\n",
    "print \" =================================================================>>>>> done\"\n",
    "r_squared = r2_score(Y, NewPred, multioutput='variance_weighted')\n",
    "print 'R-squared = ',r_squared"
   ]
  },
  {
   "cell_type": "code",
   "execution_count": 72,
   "metadata": {
    "collapsed": false
   },
   "outputs": [
    {
     "name": "stdout",
     "output_type": "stream",
     "text": [
      "Point of training data before normalization\n",
      "[   50  2000 32000    24     6    26   114]\n",
      "\n",
      "The read target of the data =  182\n",
      "\n",
      "The Predicted target of the data =  [ 101.94775045]\n"
     ]
    }
   ],
   "source": [
    "# test on single data point, randomly choose point number 55\n",
    "print 'Point of training data before normalization\\n',new_data[55]\n",
    "print '\\nThe read target of the data = ', Y[55]\n",
    "NewPred = anova_BayesianRidgeTest.predict([new_data[55]])\n",
    "print '\\nThe Predicted target of the data = ', NewPred"
   ]
  },
  {
   "cell_type": "markdown",
   "metadata": {},
   "source": [
    "## Conclusion "
   ]
  },
  {
   "cell_type": "code",
   "execution_count": null,
   "metadata": {
    "collapsed": true
   },
   "outputs": [],
   "source": []
  }
 ],
 "metadata": {
  "kernelspec": {
   "display_name": "Python 2",
   "language": "python",
   "name": "python2"
  },
  "language_info": {
   "codemirror_mode": {
    "name": "ipython",
    "version": 2
   },
   "file_extension": ".py",
   "mimetype": "text/x-python",
   "name": "python",
   "nbconvert_exporter": "python",
   "pygments_lexer": "ipython2",
   "version": "2.7.12"
  }
 },
 "nbformat": 4,
 "nbformat_minor": 0
}
