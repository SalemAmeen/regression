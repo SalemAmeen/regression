{
 "cells": [
  {
   "cell_type": "markdown",
   "metadata": {},
   "source": [
    "Salem Ameen, PhD student at Salford University\n",
    "\n",
    "### COMPUTER HARDWARE\n",
    "\n",
    "Deep learning Regression"
   ]
  },
  {
   "cell_type": "markdown",
   "metadata": {},
   "source": [
    "# Import the Libraries"
   ]
  },
  {
   "cell_type": "markdown",
   "metadata": {},
   "source": [
    "General Library"
   ]
  },
  {
   "cell_type": "code",
   "execution_count": 1,
   "metadata": {
    "collapsed": false
   },
   "outputs": [
    {
     "data": {
      "text/html": [
       "\n",
       "    <div class=\"bk-root\">\n",
       "        <a href=\"http://bokeh.pydata.org\" target=\"_blank\" class=\"bk-logo bk-logo-small bk-logo-notebook\"></a>\n",
       "        <span id=\"90cd8938-6f59-464e-bde4-a9e377e4920f\">Loading BokehJS ...</span>\n",
       "    </div>"
      ]
     },
     "metadata": {},
     "output_type": "display_data"
    },
    {
     "data": {
      "application/javascript": [
       "\n",
       "(function(global) {\n",
       "  function now() {\n",
       "    return new Date();\n",
       "  }\n",
       "\n",
       "  var force = \"1\";\n",
       "\n",
       "  if (typeof (window._bokeh_onload_callbacks) === \"undefined\" || force !== \"\") {\n",
       "    window._bokeh_onload_callbacks = [];\n",
       "    window._bokeh_is_loading = undefined;\n",
       "  }\n",
       "\n",
       "\n",
       "  \n",
       "  if (typeof (window._bokeh_timeout) === \"undefined\" || force !== \"\") {\n",
       "    window._bokeh_timeout = Date.now() + 5000;\n",
       "    window._bokeh_failed_load = false;\n",
       "  }\n",
       "\n",
       "  var NB_LOAD_WARNING = {'data': {'text/html':\n",
       "     \"<div style='background-color: #fdd'>\\n\"+\n",
       "     \"<p>\\n\"+\n",
       "     \"BokehJS does not appear to have successfully loaded. If loading BokehJS from CDN, this \\n\"+\n",
       "     \"may be due to a slow or bad network connection. Possible fixes:\\n\"+\n",
       "     \"</p>\\n\"+\n",
       "     \"<ul>\\n\"+\n",
       "     \"<li>re-rerun `output_notebook()` to attempt to load from CDN again, or</li>\\n\"+\n",
       "     \"<li>use INLINE resources instead, as so:</li>\\n\"+\n",
       "     \"</ul>\\n\"+\n",
       "     \"<code>\\n\"+\n",
       "     \"from bokeh.resources import INLINE\\n\"+\n",
       "     \"output_notebook(resources=INLINE)\\n\"+\n",
       "     \"</code>\\n\"+\n",
       "     \"</div>\"}};\n",
       "\n",
       "  function display_loaded() {\n",
       "    if (window.Bokeh !== undefined) {\n",
       "      Bokeh.$(\"#90cd8938-6f59-464e-bde4-a9e377e4920f\").text(\"BokehJS successfully loaded.\");\n",
       "    } else if (Date.now() < window._bokeh_timeout) {\n",
       "      setTimeout(display_loaded, 100)\n",
       "    }\n",
       "  }\n",
       "\n",
       "  function run_callbacks() {\n",
       "    window._bokeh_onload_callbacks.forEach(function(callback) { callback() });\n",
       "    delete window._bokeh_onload_callbacks\n",
       "    console.info(\"Bokeh: all callbacks have finished\");\n",
       "  }\n",
       "\n",
       "  function load_libs(js_urls, callback) {\n",
       "    window._bokeh_onload_callbacks.push(callback);\n",
       "    if (window._bokeh_is_loading > 0) {\n",
       "      console.log(\"Bokeh: BokehJS is being loaded, scheduling callback at\", now());\n",
       "      return null;\n",
       "    }\n",
       "    if (js_urls == null || js_urls.length === 0) {\n",
       "      run_callbacks();\n",
       "      return null;\n",
       "    }\n",
       "    console.log(\"Bokeh: BokehJS not loaded, scheduling load and callback at\", now());\n",
       "    window._bokeh_is_loading = js_urls.length;\n",
       "    for (var i = 0; i < js_urls.length; i++) {\n",
       "      var url = js_urls[i];\n",
       "      var s = document.createElement('script');\n",
       "      s.src = url;\n",
       "      s.async = false;\n",
       "      s.onreadystatechange = s.onload = function() {\n",
       "        window._bokeh_is_loading--;\n",
       "        if (window._bokeh_is_loading === 0) {\n",
       "          console.log(\"Bokeh: all BokehJS libraries loaded\");\n",
       "          run_callbacks()\n",
       "        }\n",
       "      };\n",
       "      s.onerror = function() {\n",
       "        console.warn(\"failed to load library \" + url);\n",
       "      };\n",
       "      console.log(\"Bokeh: injecting script tag for BokehJS library: \", url);\n",
       "      document.getElementsByTagName(\"head\")[0].appendChild(s);\n",
       "    }\n",
       "  };var element = document.getElementById(\"90cd8938-6f59-464e-bde4-a9e377e4920f\");\n",
       "  if (element == null) {\n",
       "    console.log(\"Bokeh: ERROR: autoload.js configured with elementid '90cd8938-6f59-464e-bde4-a9e377e4920f' but no matching script tag was found. \")\n",
       "    return false;\n",
       "  }\n",
       "\n",
       "  var js_urls = ['https://cdn.pydata.org/bokeh/release/bokeh-0.12.2.min.js', 'https://cdn.pydata.org/bokeh/release/bokeh-widgets-0.12.2.min.js', 'https://cdn.pydata.org/bokeh/release/bokeh-compiler-0.12.2.min.js'];\n",
       "\n",
       "  var inline_js = [\n",
       "    function(Bokeh) {\n",
       "      Bokeh.set_log_level(\"info\");\n",
       "    },\n",
       "    \n",
       "    function(Bokeh) {\n",
       "      \n",
       "      Bokeh.$(\"#90cd8938-6f59-464e-bde4-a9e377e4920f\").text(\"BokehJS is loading...\");\n",
       "    },\n",
       "    function(Bokeh) {\n",
       "      console.log(\"Bokeh: injecting CSS: https://cdn.pydata.org/bokeh/release/bokeh-0.12.2.min.css\");\n",
       "      Bokeh.embed.inject_css(\"https://cdn.pydata.org/bokeh/release/bokeh-0.12.2.min.css\");\n",
       "      console.log(\"Bokeh: injecting CSS: https://cdn.pydata.org/bokeh/release/bokeh-widgets-0.12.2.min.css\");\n",
       "      Bokeh.embed.inject_css(\"https://cdn.pydata.org/bokeh/release/bokeh-widgets-0.12.2.min.css\");\n",
       "    }\n",
       "  ];\n",
       "\n",
       "  function run_inline_js() {\n",
       "    \n",
       "    if ((window.Bokeh !== undefined) || (force === \"1\")) {\n",
       "      for (var i = 0; i < inline_js.length; i++) {\n",
       "        inline_js[i](window.Bokeh);\n",
       "      }if (force === \"1\") {\n",
       "        display_loaded();\n",
       "      }} else if (Date.now() < window._bokeh_timeout) {\n",
       "      setTimeout(run_inline_js, 100);\n",
       "    } else if (!window._bokeh_failed_load) {\n",
       "      console.log(\"Bokeh: BokehJS failed to load within specified timeout.\");\n",
       "      window._bokeh_failed_load = true;\n",
       "    } else if (!force) {\n",
       "      var cell = $(\"#90cd8938-6f59-464e-bde4-a9e377e4920f\").parents('.cell').data().cell;\n",
       "      cell.output_area.append_execute_result(NB_LOAD_WARNING)\n",
       "    }\n",
       "\n",
       "  }\n",
       "\n",
       "  if (window._bokeh_is_loading === 0) {\n",
       "    console.log(\"Bokeh: BokehJS loaded, going straight to plotting\");\n",
       "    run_inline_js();\n",
       "  } else {\n",
       "    load_libs(js_urls, function() {\n",
       "      console.log(\"Bokeh: BokehJS plotting callback run at\", now());\n",
       "      run_inline_js();\n",
       "    });\n",
       "  }\n",
       "}(this));"
      ]
     },
     "metadata": {},
     "output_type": "display_data"
    }
   ],
   "source": [
    "import numpy as np\n",
    "import pandas\n",
    "from numpy import *\n",
    "import time\n",
    "import sys\n",
    "import pandas as pd\n",
    "import matplotlib.pyplot as plt\n",
    "from sklearn import feature_selection\n",
    " \n",
    "from sklearn.learning_curve import learning_curve, validation_curve\n",
    "from sklearn.cross_validation import cross_val_predict\n",
    "from sklearn import metrics, grid_search, cross_validation\n",
    "from IPython.display import set_matplotlib_formats\n",
    "from bokeh.plotting import figure, show, output_notebook\n",
    "from sklearn.grid_search import GridSearchCV, RandomizedSearchCV\n",
    "from sklearn.metrics import r2_score\n",
    "from bokeh.layouts import gridplot\n",
    "output_notebook()\n",
    "set_matplotlib_formats('png', 'pdf')\n",
    "%matplotlib inline\n",
    "plt.rcParams['figure.figsize'] = (6, 6)"
   ]
  },
  {
   "cell_type": "markdown",
   "metadata": {},
   "source": [
    "Deep Learning Library"
   ]
  },
  {
   "cell_type": "code",
   "execution_count": 2,
   "metadata": {
    "collapsed": false
   },
   "outputs": [
    {
     "name": "stderr",
     "output_type": "stream",
     "text": [
      "Using Theano backend.\n",
      "Using gpu device 0: GeForce GTX TITAN X (CNMeM is disabled, cuDNN 5005)\n"
     ]
    }
   ],
   "source": [
    "import numpy\n",
    "from keras.models import Sequential\n",
    "from keras.layers import Dense\n",
    "from keras.wrappers.scikit_learn import KerasRegressor\n",
    "from sklearn.cross_validation import cross_val_score\n",
    "from sklearn.cross_validation import KFold\n",
    "from sklearn.preprocessing import StandardScaler\n",
    "from sklearn.pipeline import Pipeline"
   ]
  },
  {
   "cell_type": "markdown",
   "metadata": {},
   "source": [
    "# Create the model"
   ]
  },
  {
   "cell_type": "code",
   "execution_count": 3,
   "metadata": {
    "collapsed": true
   },
   "outputs": [],
   "source": [
    "# define base mode\n",
    "def baseline_model():\n",
    "\t# create model\n",
    "\tmodel = Sequential()\n",
    "\tmodel.add(Dense(30, input_dim=7, init='normal', activation='relu'))\n",
    "\tmodel.add(Dense(1, init='normal'))\n",
    "\t# Compile model\n",
    "\tmodel.compile(loss='mean_squared_error', optimizer='adam')\n",
    "\treturn model"
   ]
  },
  {
   "cell_type": "markdown",
   "metadata": {},
   "source": [
    "# Load data"
   ]
  },
  {
   "cell_type": "markdown",
   "metadata": {},
   "source": [
    "In the previous file we have not change the data as there is no missing value or add any new parameters so it can be downloaded from the web directly. "
   ]
  },
  {
   "cell_type": "code",
   "execution_count": 4,
   "metadata": {
    "collapsed": false
   },
   "outputs": [
    {
     "name": "stdout",
     "output_type": "stream",
     "text": [
      "Number of examples 209\n"
     ]
    }
   ],
   "source": [
    "url = 'http://archive.ics.uci.edu/ml/machine-learning-databases/cpu-performance/machine.data'\n",
    "names = ['vendor', 'Model', 'MYCT', 'MMIN', 'MMAX', 'CACH', 'CHMIN','CHMAX','PRP','ERP']\n",
    "feature_names = ['MYCT', 'MMIN', 'MMAX', 'CACH', 'CHMIN','CHMAX','PRP','ERP']\n",
    "feature_cols = ['MYCT', 'MMIN', 'MMAX', 'CACH', 'CHMIN','CHMAX','PRP','ERP']\n",
    "data = pd.read_csv(url, sep=',', names = names)\n",
    "data = data.drop('vendor',1)\n",
    "data = data.drop('Model',1)\n",
    "\n",
    "from sklearn import preprocessing\n",
    "\n",
    "def number_encode_features(df):\n",
    "    result = df.copy()\n",
    "    encoders = {}\n",
    "    for column in result.columns:\n",
    "        if result.dtypes[column] == np.object:\n",
    "            encoders[column] = preprocessing.LabelEncoder()\n",
    "            result[column] = encoders[column].fit_transform(result[column])\n",
    "    return result, encoders\n",
    "\n",
    "data, _ = number_encode_features(data)\n",
    "\n",
    "dataset = data.values\n",
    "X = dataset[:,0:7]\n",
    "Y = dataset[:,7]\n",
    "print 'Number of examples',len(X)"
   ]
  },
  {
   "cell_type": "code",
   "execution_count": 5,
   "metadata": {
    "collapsed": false
   },
   "outputs": [
    {
     "name": "stdout",
     "output_type": "stream",
     "text": [
      "Number of training examples 167\n",
      "Number of validation examples 42\n"
     ]
    }
   ],
   "source": [
    "# Make developement dataset for genrilization and final testing\n",
    "from sklearn.cross_validation import train_test_split\n",
    "# Extracting 20% testing data\n",
    "X_train, X_test, y_train, y_test = train_test_split(\n",
    "    X, Y, test_size=0.20, random_state=0)\n",
    "X = X_train\n",
    "Y = y_train\n",
    "new_data      = X_train\n",
    "new_test_data = X_test\n",
    "print 'Number of training examples',len(X_train)\n",
    "print 'Number of validation examples',len(X_test)"
   ]
  },
  {
   "cell_type": "markdown",
   "metadata": {},
   "source": [
    "# deep learning model"
   ]
  },
  {
   "cell_type": "code",
   "execution_count": 6,
   "metadata": {
    "collapsed": true
   },
   "outputs": [],
   "source": [
    "# fix random seed for reproducibility\n",
    "seed = 7\n",
    "numpy.random.seed(seed)\n",
    "# evaluate model with standardized dataset\n",
    "model = KerasRegressor(build_fn=baseline_model, nb_epoch=100, batch_size=5, verbose=0)\n"
   ]
  },
  {
   "cell_type": "code",
   "execution_count": 7,
   "metadata": {
    "collapsed": false
   },
   "outputs": [
    {
     "name": "stdout",
     "output_type": "stream",
     "text": [
      "Results: 2498.67 (2536.90) MSE\n"
     ]
    }
   ],
   "source": [
    "kfold = KFold(n=len(X), n_folds=10, random_state=seed)\n",
    "results = cross_val_score(model, X, Y, cv=kfold)\n",
    "print(\"Results: %.2f (%.2f) MSE\" % (results.mean(), results.std()))"
   ]
  },
  {
   "cell_type": "code",
   "execution_count": 8,
   "metadata": {
    "collapsed": false
   },
   "outputs": [
    {
     "name": "stdout",
     "output_type": "stream",
     "text": [
      "R-squared =  0.848678944032\n"
     ]
    }
   ],
   "source": [
    "predicted = cross_val_predict(model, X, Y, cv=kfold)\n",
    "r_squared = r2_score(Y, predicted, multioutput='variance_weighted')\n",
    "print 'R-squared = ',r_squared"
   ]
  },
  {
   "cell_type": "markdown",
   "metadata": {},
   "source": [
    "# Ranking of the feature's importance to the target"
   ]
  },
  {
   "cell_type": "code",
   "execution_count": 9,
   "metadata": {
    "collapsed": false
   },
   "outputs": [
    {
     "name": "stdout",
     "output_type": "stream",
     "text": [
      "Feature Name      Score         Pvalue\n",
      "MYCT \t\t18.7784506906 \t2.28953652773e-05\n",
      "MMIN \t\t422.636024187 \t6.7010130085e-52\n",
      "MMAX \t\t895.035239011 \t4.20559221576e-77\n",
      "CACH \t\t150.332889484 \t2.4462451136e-26\n",
      "CHMIN \t\t123.042583867 \t9.66488661491e-23\n",
      "CHMAX \t\t111.779441433 \t3.62169179267e-21\n",
      "PRP \t\t2932.57297327 \t3.42704839853e-124\n",
      "ERP \t\tinf \t0.0\n"
     ]
    }
   ],
   "source": [
    "# Randing the important features to the target\n",
    "model = feature_selection.SelectKBest(score_func=feature_selection.f_regression,k=4)\n",
    "results = model.fit(data[feature_cols], data['ERP'])\n",
    "k=0\n",
    "print 'Feature Name      Score         Pvalue'\n",
    "for feat in feature_cols:\n",
    "    print feat,'\\t\\t',results.scores_[k],'\\t',results.pvalues_[k]\n",
    "    k=k+1\n"
   ]
  },
  {
   "cell_type": "markdown",
   "metadata": {},
   "source": [
    "# Set the parameters for cross validation"
   ]
  },
  {
   "cell_type": "code",
   "execution_count": 10,
   "metadata": {
    "collapsed": true
   },
   "outputs": [],
   "source": [
    "num_folds = 10\n",
    "num_instances = len(X)\n",
    "seed = 7\n",
    "kfold = cross_validation.KFold(n=num_instances, n_folds=num_folds, random_state=seed)"
   ]
  },
  {
   "cell_type": "markdown",
   "metadata": {},
   "source": [
    " # Set the parameters for bias-variance dilemma"
   ]
  },
  {
   "cell_type": "code",
   "execution_count": 11,
   "metadata": {
    "collapsed": false
   },
   "outputs": [],
   "source": [
    "def plot_learning_curve(estimator, title, X, y, ylim=None, cv=None,\n",
    "                        n_jobs=1, train_sizes=np.linspace(.1, 1.0, 5)):\n",
    "    plt.figure()\n",
    "    plt.title(title)\n",
    "    if ylim is not None:\n",
    "        plt.ylim(*ylim)\n",
    "    plt.xlabel(\"Training examples\")\n",
    "    plt.ylabel(\"Score\")\n",
    "    train_sizes, train_scores, test_scores = learning_curve(\n",
    "        estimator, X, y, cv=cv, n_jobs=n_jobs, train_sizes=train_sizes)\n",
    "    train_scores_mean = np.mean(train_scores, axis=1)\n",
    "    train_scores_std = np.std(train_scores, axis=1)\n",
    "    test_scores_mean = np.mean(test_scores, axis=1)\n",
    "    test_scores_std = np.std(test_scores, axis=1)\n",
    "    plt.grid()\n",
    "\n",
    "    plt.fill_between(train_sizes, train_scores_mean - train_scores_std,\n",
    "                     train_scores_mean + train_scores_std, alpha=0.1,\n",
    "                     color=\"r\")\n",
    "    plt.fill_between(train_sizes, test_scores_mean - test_scores_std,\n",
    "                     test_scores_mean + test_scores_std, alpha=0.1, color=\"g\")\n",
    "    plt.plot(train_sizes, train_scores_mean, 'o-', color=\"r\",\n",
    "             label=\"Training score\")\n",
    "    plt.plot(train_sizes, test_scores_mean, 'o-', color=\"g\",\n",
    "             label=\"Cross-validation score\")\n",
    "\n",
    "    plt.legend(loc=\"best\")\n",
    "    return plt"
   ]
  },
  {
   "cell_type": "markdown",
   "metadata": {},
   "source": [
    "# Preprocessing the data and save both the model and preprocessed data"
   ]
  },
  {
   "cell_type": "code",
   "execution_count": 12,
   "metadata": {
    "collapsed": false
   },
   "outputs": [
    {
     "name": "stderr",
     "output_type": "stream",
     "text": [
      "/home/salm/anaconda2/lib/python2.7/site-packages/sklearn/utils/validation.py:420: DataConversionWarning: Data with input dtype int64 was converted to float64 by StandardScaler.\n",
      "  warnings.warn(msg, DataConversionWarning)\n"
     ]
    }
   ],
   "source": [
    "# According to the nature of the data spasity and there is outliter RobustScaler class is recomandit \n",
    "# but when I tried both of them the result seems is same\n",
    "from sklearn.preprocessing import StandardScaler\n",
    "scaler = preprocessing.StandardScaler().fit(X_train)"
   ]
  },
  {
   "cell_type": "code",
   "execution_count": 13,
   "metadata": {
    "collapsed": false
   },
   "outputs": [
    {
     "name": "stderr",
     "output_type": "stream",
     "text": [
      "/home/salm/anaconda2/lib/python2.7/site-packages/sklearn/utils/validation.py:420: DataConversionWarning: Data with input dtype int64 was converted to float64 by StandardScaler.\n",
      "  warnings.warn(msg, DataConversionWarning)\n",
      "/home/salm/anaconda2/lib/python2.7/site-packages/sklearn/utils/validation.py:420: DataConversionWarning: Data with input dtype int64 was converted to float64 by StandardScaler.\n",
      "  warnings.warn(msg, DataConversionWarning)\n"
     ]
    }
   ],
   "source": [
    "X_train = scaler.transform(X_train)\n",
    "X_test = scaler.transform(X_test) # use same transform for testing data\n",
    "X = X_train"
   ]
  },
  {
   "cell_type": "code",
   "execution_count": 14,
   "metadata": {
    "collapsed": true
   },
   "outputs": [],
   "source": [
    "# save transformed data\n",
    "np.save('./data/X_train', X_train)\n",
    "np.save('./data/y_train', y_train)\n",
    "np.save('./data/X_test', X_test)\n",
    "np.save('./data/y_test', y_test)"
   ]
  },
  {
   "cell_type": "code",
   "execution_count": 15,
   "metadata": {
    "collapsed": false
   },
   "outputs": [
    {
     "data": {
      "text/plain": [
       "['scaler.pkl', 'scaler.pkl_01.npy', 'scaler.pkl_02.npy', 'scaler.pkl_03.npy']"
      ]
     },
     "execution_count": 15,
     "metadata": {},
     "output_type": "execute_result"
    }
   ],
   "source": [
    "# save the model scaler to the desk\n",
    "from sklearn.externals import joblib\n",
    "joblib.dump(scaler, 'scaler.pkl') "
   ]
  },
  {
   "cell_type": "code",
   "execution_count": 16,
   "metadata": {
    "collapsed": false
   },
   "outputs": [
    {
     "name": "stdout",
     "output_type": "stream",
     "text": [
      " =================================================================>>>>> done\n",
      "[[-0.59364305 -0.20866821 -0.31349377  0.98611582 -0.51650809 -0.39068313\n",
      "  -0.09019932]\n",
      " [ 0.43869005 -0.4699337  -0.72397006 -0.63206819 -0.38024134 -0.53321526\n",
      "  -0.54180082]\n",
      " [-0.6318776  -0.04668361 -0.10989753  0.11478597  0.98242613  0.17944539\n",
      "  -0.26252094]\n",
      " [-0.72364055  1.35892472  1.65679241  0.96122068  0.43735914  0.46450965\n",
      "   1.25272091]\n",
      " [-0.55540849  0.31386277  0.01488726 -0.43290708  0.16482565 -0.39068313\n",
      "  -0.19121544]\n",
      " [ 0.43869005 -0.4699337  -0.80606531 -0.63206819 -0.51650809 -0.60448133\n",
      "  -0.54180082]\n",
      " [-0.13482833 -0.20866821  0.34326829 -0.23374597 -0.51650809 -0.4619492\n",
      "  -0.24469457]\n",
      " [ 4.91213348 -0.53054729 -0.88816057 -0.63206819 -0.65277484 -0.67574739\n",
      "  -0.56556931]\n",
      " [-0.28776657 -0.20866821  1.65679241  0.16457625 -0.51650809  1.24843637\n",
      "   0.2009648 ]\n",
      " [-0.63952452  0.31386277  1.00003035  0.16457625  0.43735914  0.17944539\n",
      "   0.63473992]\n",
      " [-0.31453076 -0.4699337  -0.31349377 -0.40801194 -0.2439746  -0.248151\n",
      "  -0.20904182]\n",
      " [-0.70834672  3.44904862  1.65679241  5.74108728  1.52749312  0.17944539\n",
      "   2.39360889]\n",
      " [-0.28776657 -0.4699337   0.34326829 -0.23374597 -0.51650809 -0.56884829\n",
      "   0.18313842]\n",
      " [-0.5974665   1.35892472  0.34326829  0.96122068  0.98242613  0.17944539\n",
      "   0.48024467]\n",
      " [-0.72364055  3.44904862  1.65679241  0.96122068  0.43735914  0.17944539\n",
      "   2.12621327]\n",
      " [-0.28776657 -0.20866821 -0.6418748  -0.63206819 -0.10770785 -0.39068313\n",
      "  -0.39918982]\n",
      " [-0.44835172 -0.4699337  -0.31349377  0.16457625 -0.38024134 -0.39068313\n",
      "  -0.36353707]\n",
      " [-0.6318776  -0.4699337  -0.6418748  -0.43290708 -0.51650809 -0.49758223\n",
      "  -0.46455319]\n",
      " [-0.47893937 -0.66431522 -0.88816057 -0.63206819 -0.2439746  -0.31941706\n",
      "  -0.53585869]\n",
      " [-0.2762962  -0.4699337  -0.80606531 -0.63206819  0.0285589  -0.10561887\n",
      "  -0.45266894]\n",
      " [-0.05835922 -0.4699337  -0.80606531 -0.63206819 -0.51650809 -0.60448133\n",
      "  -0.48832169]\n",
      " [-0.05835922 -0.59743125  0.34326829 -0.63206819 -0.10770785  0.46450965\n",
      "  -0.42890044]\n",
      " [-0.73511091  3.44904862  1.65679241  0.96122068  1.52749312  0.46450965\n",
      "   2.26882427]\n",
      " [-0.40247025 -0.4699337   0.01488726 -0.23374597 -0.51650809 -0.60448133\n",
      "  -0.28034732]\n",
      " [-0.28776657 -0.20866821 -0.6418748  -0.43290708 -0.51650809  0.03691326\n",
      "  -0.50614807]\n",
      " [-0.6318776  -0.20866821  0.34326829 -0.33332653 -0.2439746  -0.10561887\n",
      "  -0.36947919]\n",
      " [-0.6318776  -0.20866821 -0.6418748  -0.63206819 -0.2439746  -0.4619492\n",
      "  -0.47643744]\n",
      " [ 2.23571434 -0.53054729 -0.80606531 -0.63206819 -0.65277484 -0.67574739\n",
      "  -0.51803232]\n",
      " [-0.5018801  -0.4699337  -0.80606531 -0.63206819 -0.51650809 -0.4619492\n",
      "  -0.56556931]\n",
      " [-0.42158753 -0.20866821 -0.47768428 -0.23374597  0.16482565 -0.10561887\n",
      "  -0.44078469]\n",
      " [ 0.32398638 -0.53054729  0.01488726 -0.48269736  0.16482565  0.17944539\n",
      "  -0.33976857]\n",
      " [-0.54776157 -0.20866821 -0.31349377 -0.23374597  0.16482565 -0.39068313\n",
      "  -0.0129517 ]\n",
      " [-0.38335297 -0.20866821 -0.31349377 -0.23374597 -0.51650809 -0.56884829\n",
      "  -0.33976857]\n",
      " [-0.53629121  0.05259728 -0.31349377 -0.43290708 -0.2439746   1.03463817\n",
      "  -0.25657882]\n",
      " [-0.62423069  0.31386277  0.34326829  0.16457625 -0.10770785 -0.248151\n",
      "   0.13560143]\n",
      " [-0.59364305 -0.20866821  0.34326829  0.96122068  0.0285589  -0.39068313\n",
      "  -0.19715757]\n",
      " [-0.21129745 -0.59743125 -0.6418748  -0.58227791 -0.51650809 -0.49758223\n",
      "  -0.45861107]\n",
      " [-0.727464   -0.20866821  0.01488726 -0.43290708 -0.51650809 -0.53321526\n",
      "  -0.34571069]\n",
      " [-0.18453326 -0.59429607 -0.80606531 -0.43290708 -0.10770785 -0.1412519\n",
      "  -0.52397444]\n",
      " [-0.6318776  -0.20866821  0.34326829 -0.03458486  0.16482565 -0.10561887\n",
      "  -0.31600007]\n",
      " [-0.72364055  1.35892472  1.00003035  0.16457625  0.43735914 -0.10561887\n",
      "   0.3911128 ]\n",
      " [-0.2762962  -0.13028856 -0.46126523 -0.63206819  0.16482565  1.6047667\n",
      "  -0.27440519]]\n"
     ]
    },
    {
     "name": "stderr",
     "output_type": "stream",
     "text": [
      "/home/salm/anaconda2/lib/python2.7/site-packages/sklearn/utils/validation.py:420: DataConversionWarning: Data with input dtype int64 was converted to float64 by StandardScaler.\n",
      "  warnings.warn(msg, DataConversionWarning)\n"
     ]
    }
   ],
   "source": [
    "# Test the model if it is work\n",
    "scalerTest = joblib.load('scaler.pkl')\n",
    "new_data_scaled = scalerTest.transform(new_test_data)\n",
    "print \" =================================================================>>>>> done\"\n",
    "print new_data_scaled"
   ]
  },
  {
   "cell_type": "markdown",
   "metadata": {},
   "source": [
    "# 1. model  with   Regression"
   ]
  },
  {
   "cell_type": "markdown",
   "metadata": {},
   "source": [
    "Deep learning or the Classification and Regression Trees (CART as they are know) use the training data to select the best points to split the data in order to minimize a cost metric. The default cost metric for regression Deep learning is the mean squared error, specified in the criterion parameter."
   ]
  },
  {
   "cell_type": "code",
   "execution_count": 17,
   "metadata": {
    "collapsed": false
   },
   "outputs": [
    {
     "name": "stdout",
     "output_type": "stream",
     "text": [
      "Epoch 1/200\n",
      "167/167 [==============================] - 0s - loss: 36622.1613     \n",
      "Epoch 2/200\n",
      "167/167 [==============================] - 0s - loss: 36556.4781     \n",
      "Epoch 3/200\n",
      "167/167 [==============================] - 0s - loss: 36483.7914     \n",
      "Epoch 4/200\n",
      "167/167 [==============================] - 0s - loss: 36367.5990     \n",
      "Epoch 5/200\n",
      "167/167 [==============================] - 0s - loss: 36188.4489     \n",
      "Epoch 6/200\n",
      "167/167 [==============================] - 0s - loss: 35950.9282     \n",
      "Epoch 7/200\n",
      "167/167 [==============================] - 0s - loss: 35606.7005     \n",
      "Epoch 8/200\n",
      "167/167 [==============================] - 0s - loss: 35198.6244     \n",
      "Epoch 9/200\n",
      "167/167 [==============================] - 0s - loss: 34684.0963     \n",
      "Epoch 10/200\n",
      "167/167 [==============================] - 0s - loss: 34122.3021     \n",
      "Epoch 11/200\n",
      "167/167 [==============================] - 0s - loss: 33444.4588     \n",
      "Epoch 12/200\n",
      "167/167 [==============================] - 0s - loss: 32758.0859     \n",
      "Epoch 13/200\n",
      "167/167 [==============================] - 0s - loss: 31960.7773     \n",
      "Epoch 14/200\n",
      "167/167 [==============================] - 0s - loss: 31155.2285     \n",
      "Epoch 15/200\n",
      "167/167 [==============================] - 0s - loss: 30254.5093     \n",
      "Epoch 16/200\n",
      "167/167 [==============================] - 0s - loss: 29388.1997     \n",
      "Epoch 17/200\n",
      "167/167 [==============================] - 0s - loss: 28462.8493     \n",
      "Epoch 18/200\n",
      "167/167 [==============================] - 0s - loss: 27472.2374     \n",
      "Epoch 19/200\n",
      "167/167 [==============================] - 0s - loss: 26430.5173     \n",
      "Epoch 20/200\n",
      "167/167 [==============================] - 0s - loss: 25456.4010     \n",
      "Epoch 21/200\n",
      "167/167 [==============================] - 0s - loss: 24518.8970     \n",
      "Epoch 22/200\n",
      "167/167 [==============================] - 0s - loss: 23468.9886     \n",
      "Epoch 23/200\n",
      "167/167 [==============================] - 0s - loss: 22363.2796     \n",
      "Epoch 24/200\n",
      "167/167 [==============================] - 0s - loss: 21369.9354     \n",
      "Epoch 25/200\n",
      "167/167 [==============================] - 0s - loss: 20337.9673     \n",
      "Epoch 26/200\n",
      "167/167 [==============================] - 0s - loss: 19254.4425     \n",
      "Epoch 27/200\n",
      "167/167 [==============================] - 0s - loss: 18299.0605     \n",
      "Epoch 28/200\n",
      "167/167 [==============================] - 0s - loss: 17380.6598     \n",
      "Epoch 29/200\n",
      "167/167 [==============================] - 0s - loss: 16359.7479     \n",
      "Epoch 30/200\n",
      "167/167 [==============================] - 0s - loss: 15552.5403     \n",
      "Epoch 31/200\n",
      "167/167 [==============================] - 0s - loss: 14620.1470     \n",
      "Epoch 32/200\n",
      "167/167 [==============================] - 0s - loss: 13817.9641     \n",
      "Epoch 33/200\n",
      "167/167 [==============================] - 0s - loss: 12979.0181     \n",
      "Epoch 34/200\n",
      "167/167 [==============================] - 0s - loss: 12350.6107     \n",
      "Epoch 35/200\n",
      "167/167 [==============================] - 0s - loss: 11477.8502     \n",
      "Epoch 36/200\n",
      "167/167 [==============================] - 0s - loss: 10795.9547     \n",
      "Epoch 37/200\n",
      "167/167 [==============================] - 0s - loss: 10149.7324     \n",
      "Epoch 38/200\n",
      "167/167 [==============================] - 0s - loss: 9547.3244     \n",
      "Epoch 39/200\n",
      "167/167 [==============================] - 0s - loss: 8932.1726     \n",
      "Epoch 40/200\n",
      "167/167 [==============================] - 0s - loss: 8493.6009     \n",
      "Epoch 41/200\n",
      "167/167 [==============================] - 0s - loss: 7884.8999     \n",
      "Epoch 42/200\n",
      "167/167 [==============================] - 0s - loss: 7435.3752     \n",
      "Epoch 43/200\n",
      "167/167 [==============================] - 0s - loss: 7014.1631     \n",
      "Epoch 44/200\n",
      "167/167 [==============================] - 0s - loss: 6647.2882     \n",
      "Epoch 45/200\n",
      "167/167 [==============================] - 0s - loss: 6236.4826     \n",
      "Epoch 46/200\n",
      "167/167 [==============================] - 0s - loss: 5895.7959     \n",
      "Epoch 47/200\n",
      "167/167 [==============================] - 0s - loss: 5620.9500     \n",
      "Epoch 48/200\n",
      "167/167 [==============================] - 0s - loss: 5315.2992     \n",
      "Epoch 49/200\n",
      "167/167 [==============================] - 0s - loss: 5035.7518     \n",
      "Epoch 50/200\n",
      "167/167 [==============================] - 0s - loss: 4797.1835     \n",
      "Epoch 51/200\n",
      "167/167 [==============================] - 0s - loss: 4589.9361     \n",
      "Epoch 52/200\n",
      "167/167 [==============================] - 0s - loss: 4400.8476     \n",
      "Epoch 53/200\n",
      "167/167 [==============================] - 0s - loss: 4211.1648     \n",
      "Epoch 54/200\n",
      "167/167 [==============================] - 0s - loss: 4044.8490     \n",
      "Epoch 55/200\n",
      "167/167 [==============================] - 0s - loss: 3894.0970     \n",
      "Epoch 56/200\n",
      "167/167 [==============================] - 0s - loss: 3775.7857     \n",
      "Epoch 57/200\n",
      "167/167 [==============================] - 0s - loss: 3629.8042     \n",
      "Epoch 58/200\n",
      "167/167 [==============================] - 0s - loss: 3541.0559     \n",
      "Epoch 59/200\n",
      "167/167 [==============================] - 0s - loss: 3432.9977     \n",
      "Epoch 60/200\n",
      "167/167 [==============================] - 0s - loss: 3319.2574     \n",
      "Epoch 61/200\n",
      "167/167 [==============================] - 0s - loss: 3244.9853     \n",
      "Epoch 62/200\n",
      "167/167 [==============================] - 0s - loss: 3162.2722     \n",
      "Epoch 63/200\n",
      "167/167 [==============================] - 0s - loss: 3058.8722     \n",
      "Epoch 64/200\n",
      "167/167 [==============================] - 0s - loss: 2994.9522     \n",
      "Epoch 65/200\n",
      "167/167 [==============================] - 0s - loss: 2915.0911     \n",
      "Epoch 66/200\n",
      "167/167 [==============================] - 0s - loss: 2869.2129     \n",
      "Epoch 67/200\n",
      "167/167 [==============================] - 0s - loss: 2805.3602     \n",
      "Epoch 68/200\n",
      "167/167 [==============================] - 0s - loss: 2745.8594     \n",
      "Epoch 69/200\n",
      "167/167 [==============================] - 0s - loss: 2684.1779     \n",
      "Epoch 70/200\n",
      "167/167 [==============================] - 0s - loss: 2635.3053     \n",
      "Epoch 71/200\n",
      "167/167 [==============================] - 0s - loss: 2576.1291     \n",
      "Epoch 72/200\n",
      "167/167 [==============================] - 0s - loss: 2537.7810     \n",
      "Epoch 73/200\n",
      "167/167 [==============================] - 0s - loss: 2487.9102     \n",
      "Epoch 74/200\n",
      "167/167 [==============================] - 0s - loss: 2418.4526     \n",
      "Epoch 75/200\n",
      "167/167 [==============================] - 0s - loss: 2376.5886     \n",
      "Epoch 76/200\n",
      "167/167 [==============================] - 0s - loss: 2331.4737     \n",
      "Epoch 77/200\n",
      "167/167 [==============================] - 0s - loss: 2289.5265     \n",
      "Epoch 78/200\n",
      "167/167 [==============================] - 0s - loss: 2256.1234     \n",
      "Epoch 79/200\n",
      "167/167 [==============================] - 0s - loss: 2201.7372     \n",
      "Epoch 80/200\n",
      "167/167 [==============================] - 0s - loss: 2183.4642     \n",
      "Epoch 81/200\n",
      "167/167 [==============================] - 0s - loss: 2130.2545     \n",
      "Epoch 82/200\n",
      "167/167 [==============================] - 0s - loss: 2094.3400     \n",
      "Epoch 83/200\n",
      "167/167 [==============================] - 0s - loss: 2047.6194     \n",
      "Epoch 84/200\n",
      "167/167 [==============================] - 0s - loss: 2010.3452     \n",
      "Epoch 85/200\n",
      "167/167 [==============================] - 0s - loss: 1970.9668     \n",
      "Epoch 86/200\n",
      "167/167 [==============================] - 0s - loss: 1935.7781     \n",
      "Epoch 87/200\n",
      "167/167 [==============================] - 0s - loss: 1905.7979     \n",
      "Epoch 88/200\n",
      "167/167 [==============================] - 0s - loss: 1870.0255     \n",
      "Epoch 89/200\n",
      "167/167 [==============================] - 0s - loss: 1839.8572     \n",
      "Epoch 90/200\n",
      "167/167 [==============================] - 0s - loss: 1799.5871     \n",
      "Epoch 91/200\n",
      "167/167 [==============================] - 0s - loss: 1767.7390     \n",
      "Epoch 92/200\n",
      "167/167 [==============================] - 0s - loss: 1730.2137     \n",
      "Epoch 93/200\n",
      "167/167 [==============================] - 0s - loss: 1702.5404     \n",
      "Epoch 94/200\n",
      "167/167 [==============================] - 0s - loss: 1681.5638     \n",
      "Epoch 95/200\n",
      "167/167 [==============================] - 0s - loss: 1645.0714     \n",
      "Epoch 96/200\n",
      "167/167 [==============================] - 0s - loss: 1608.4058     \n",
      "Epoch 97/200\n",
      "167/167 [==============================] - 0s - loss: 1600.5712     \n",
      "Epoch 98/200\n",
      "167/167 [==============================] - 0s - loss: 1544.5360     \n",
      "Epoch 99/200\n",
      "167/167 [==============================] - 0s - loss: 1509.8865     \n",
      "Epoch 100/200\n",
      "167/167 [==============================] - 0s - loss: 1492.6222     \n",
      "Epoch 101/200\n",
      "167/167 [==============================] - 0s - loss: 1456.2990     \n",
      "Epoch 102/200\n",
      "167/167 [==============================] - 0s - loss: 1433.8630     \n",
      "Epoch 103/200\n",
      "167/167 [==============================] - 0s - loss: 1408.0060     \n",
      "Epoch 104/200\n",
      "167/167 [==============================] - 0s - loss: 1383.9886     \n",
      "Epoch 105/200\n",
      "167/167 [==============================] - 0s - loss: 1364.5544     \n",
      "Epoch 106/200\n",
      "167/167 [==============================] - 0s - loss: 1333.4884     \n",
      "Epoch 107/200\n",
      "167/167 [==============================] - 0s - loss: 1310.1577     \n",
      "Epoch 108/200\n",
      "167/167 [==============================] - 0s - loss: 1289.5338     \n",
      "Epoch 109/200\n",
      "167/167 [==============================] - 0s - loss: 1261.4051     \n",
      "Epoch 110/200\n",
      "167/167 [==============================] - 0s - loss: 1234.8050     \n",
      "Epoch 111/200\n",
      "167/167 [==============================] - 0s - loss: 1213.8490     \n",
      "Epoch 112/200\n",
      "167/167 [==============================] - 0s - loss: 1195.6169     \n",
      "Epoch 113/200\n",
      "167/167 [==============================] - 0s - loss: 1170.9111     \n",
      "Epoch 114/200\n",
      "167/167 [==============================] - 0s - loss: 1153.4702     \n",
      "Epoch 115/200\n",
      "167/167 [==============================] - 0s - loss: 1130.9368     \n",
      "Epoch 116/200\n",
      "167/167 [==============================] - 0s - loss: 1109.9968     \n",
      "Epoch 117/200\n",
      "167/167 [==============================] - 0s - loss: 1106.4418     \n",
      "Epoch 118/200\n",
      "167/167 [==============================] - 0s - loss: 1081.9786     \n",
      "Epoch 119/200\n",
      "167/167 [==============================] - 0s - loss: 1053.5592     \n",
      "Epoch 120/200\n",
      "167/167 [==============================] - 0s - loss: 1041.1786     \n",
      "Epoch 121/200\n",
      "167/167 [==============================] - 0s - loss: 1022.1804     \n",
      "Epoch 122/200\n",
      "167/167 [==============================] - 0s - loss: 1006.1053     \n",
      "Epoch 123/200\n",
      "167/167 [==============================] - 0s - loss: 990.1859      \n",
      "Epoch 124/200\n",
      "167/167 [==============================] - 0s - loss: 972.0523     \n",
      "Epoch 125/200\n",
      "167/167 [==============================] - 0s - loss: 956.7433     \n",
      "Epoch 126/200\n",
      "167/167 [==============================] - 0s - loss: 945.7203     \n",
      "Epoch 127/200\n",
      "167/167 [==============================] - 0s - loss: 927.7936     \n",
      "Epoch 128/200\n",
      "167/167 [==============================] - 0s - loss: 918.2381     \n",
      "Epoch 129/200\n",
      "167/167 [==============================] - 0s - loss: 897.9192     \n",
      "Epoch 130/200\n",
      "167/167 [==============================] - 0s - loss: 887.5244     \n",
      "Epoch 131/200\n",
      "167/167 [==============================] - 0s - loss: 867.5450     \n",
      "Epoch 132/200\n",
      "167/167 [==============================] - 0s - loss: 854.7045     \n",
      "Epoch 133/200\n",
      "167/167 [==============================] - 0s - loss: 850.3473     \n",
      "Epoch 134/200\n",
      "167/167 [==============================] - 0s - loss: 831.0430     \n",
      "Epoch 135/200\n",
      "167/167 [==============================] - 0s - loss: 817.4675     \n",
      "Epoch 136/200\n",
      "167/167 [==============================] - 0s - loss: 813.6102     \n",
      "Epoch 137/200\n",
      "167/167 [==============================] - 0s - loss: 801.2396     \n",
      "Epoch 138/200\n",
      "167/167 [==============================] - 0s - loss: 783.0232     \n",
      "Epoch 139/200\n",
      "167/167 [==============================] - 0s - loss: 773.2180     \n",
      "Epoch 140/200\n",
      "167/167 [==============================] - 0s - loss: 763.6878     \n",
      "Epoch 141/200\n",
      "167/167 [==============================] - 0s - loss: 756.3939     \n",
      "Epoch 142/200\n",
      "167/167 [==============================] - 0s - loss: 741.6399     \n",
      "Epoch 143/200\n",
      "167/167 [==============================] - 0s - loss: 735.2591     \n",
      "Epoch 144/200\n",
      "167/167 [==============================] - 0s - loss: 724.3786     \n",
      "Epoch 145/200\n",
      "167/167 [==============================] - 0s - loss: 721.6553     \n",
      "Epoch 146/200\n",
      "167/167 [==============================] - 0s - loss: 712.8759     \n",
      "Epoch 147/200\n",
      "167/167 [==============================] - 0s - loss: 692.8464     \n",
      "Epoch 148/200\n",
      "167/167 [==============================] - 0s - loss: 691.7334     \n",
      "Epoch 149/200\n",
      "167/167 [==============================] - 0s - loss: 679.2023     \n",
      "Epoch 150/200\n",
      "167/167 [==============================] - 0s - loss: 668.6201     \n",
      "Epoch 151/200\n",
      "167/167 [==============================] - 0s - loss: 660.6548     \n",
      "Epoch 152/200\n",
      "167/167 [==============================] - 0s - loss: 663.4605     \n",
      "Epoch 153/200\n",
      "167/167 [==============================] - 0s - loss: 645.8033     \n",
      "Epoch 154/200\n",
      "167/167 [==============================] - 0s - loss: 638.8798     \n",
      "Epoch 155/200\n",
      "167/167 [==============================] - 0s - loss: 634.4927     \n",
      "Epoch 156/200\n",
      "167/167 [==============================] - 0s - loss: 625.3695     \n",
      "Epoch 157/200\n",
      "167/167 [==============================] - 0s - loss: 621.1114     \n",
      "Epoch 158/200\n",
      "167/167 [==============================] - 0s - loss: 611.2181     \n",
      "Epoch 159/200\n",
      "167/167 [==============================] - 0s - loss: 615.7586     \n",
      "Epoch 160/200\n",
      "167/167 [==============================] - 0s - loss: 600.2520     \n",
      "Epoch 161/200\n",
      "167/167 [==============================] - 0s - loss: 595.2306     \n",
      "Epoch 162/200\n",
      "167/167 [==============================] - 0s - loss: 593.3053     \n",
      "Epoch 163/200\n",
      "167/167 [==============================] - 0s - loss: 589.5720     \n",
      "Epoch 164/200\n",
      "167/167 [==============================] - 0s - loss: 579.9661     \n",
      "Epoch 165/200\n",
      "167/167 [==============================] - 0s - loss: 574.5864     \n",
      "Epoch 166/200\n",
      "167/167 [==============================] - 0s - loss: 568.2024     \n",
      "Epoch 167/200\n",
      "167/167 [==============================] - 0s - loss: 569.4382     \n",
      "Epoch 168/200\n",
      "167/167 [==============================] - 0s - loss: 560.4936     \n",
      "Epoch 169/200\n",
      "167/167 [==============================] - 0s - loss: 554.5748     \n",
      "Epoch 170/200\n",
      "167/167 [==============================] - 0s - loss: 551.7653     \n",
      "Epoch 171/200\n",
      "167/167 [==============================] - 0s - loss: 548.6210     \n",
      "Epoch 172/200\n",
      "167/167 [==============================] - 0s - loss: 543.0784     \n",
      "Epoch 173/200\n",
      "167/167 [==============================] - 0s - loss: 544.7859     \n",
      "Epoch 174/200\n",
      "167/167 [==============================] - 0s - loss: 537.8709     \n",
      "Epoch 175/200\n",
      "167/167 [==============================] - 0s - loss: 532.6177     \n",
      "Epoch 176/200\n",
      "167/167 [==============================] - 0s - loss: 528.7749     \n",
      "Epoch 177/200\n",
      "167/167 [==============================] - 0s - loss: 525.9222     \n",
      "Epoch 178/200\n",
      "167/167 [==============================] - 0s - loss: 521.9041     \n",
      "Epoch 179/200\n",
      "167/167 [==============================] - 0s - loss: 522.1794     \n",
      "Epoch 180/200\n",
      "167/167 [==============================] - 0s - loss: 522.7910     \n",
      "Epoch 181/200\n",
      "167/167 [==============================] - 0s - loss: 514.5881     \n",
      "Epoch 182/200\n",
      "167/167 [==============================] - 0s - loss: 514.3557     \n",
      "Epoch 183/200\n",
      "167/167 [==============================] - 0s - loss: 510.8793     \n",
      "Epoch 184/200\n",
      "167/167 [==============================] - 0s - loss: 505.2062     \n",
      "Epoch 185/200\n",
      "167/167 [==============================] - 0s - loss: 500.1013     \n",
      "Epoch 186/200\n",
      "167/167 [==============================] - 0s - loss: 498.5754     \n",
      "Epoch 187/200\n",
      "167/167 [==============================] - 0s - loss: 495.9185     \n",
      "Epoch 188/200\n",
      "167/167 [==============================] - 0s - loss: 501.5586     \n",
      "Epoch 189/200\n",
      "167/167 [==============================] - 0s - loss: 496.1798     \n",
      "Epoch 190/200\n",
      "167/167 [==============================] - 0s - loss: 493.7068     \n",
      "Epoch 191/200\n",
      "167/167 [==============================] - 0s - loss: 488.9535     \n",
      "Epoch 192/200\n",
      "167/167 [==============================] - 0s - loss: 485.2831     \n",
      "Epoch 193/200\n",
      "167/167 [==============================] - 0s - loss: 483.9756     \n",
      "Epoch 194/200\n",
      "167/167 [==============================] - 0s - loss: 479.2041     \n",
      "Epoch 195/200\n",
      "167/167 [==============================] - 0s - loss: 477.2728     \n",
      "Epoch 196/200\n",
      "167/167 [==============================] - 0s - loss: 475.6780     \n",
      "Epoch 197/200\n",
      "167/167 [==============================] - 0s - loss: 471.5768     \n",
      "Epoch 198/200\n",
      "167/167 [==============================] - 0s - loss: 471.0113     \n",
      "Epoch 199/200\n",
      "167/167 [==============================] - 0s - loss: 472.5635     \n",
      "Epoch 200/200\n",
      "167/167 [==============================] - 0s - loss: 465.8336     \n"
     ]
    },
    {
     "data": {
      "text/plain": [
       "<keras.callbacks.History at 0x7fad91737b50>"
      ]
     },
     "execution_count": 17,
     "metadata": {},
     "output_type": "execute_result"
    }
   ],
   "source": [
    "from keras.layers import Dropout\n",
    "model = Sequential()\n",
    "model.add(Dense(40, input_dim=7, init='normal', activation='relu'))\n",
    "#model.add(Dropout(0.5))\n",
    "model.add(Dense(1, init='normal'))\n",
    "\n",
    "model.compile(loss='mean_squared_error', optimizer='adam')\n",
    "# Actual modelling\n",
    "model.fit(X, Y, verbose=1, batch_size=5, nb_epoch=200)"
   ]
  },
  {
   "cell_type": "markdown",
   "metadata": {},
   "source": [
    "## Coefficients Of Determination {Calculating R^2}\n",
    "\n",
    "R^2, Close to one is better"
   ]
  },
  {
   "cell_type": "code",
   "execution_count": 18,
   "metadata": {
    "collapsed": false
   },
   "outputs": [
    {
     "name": "stdout",
     "output_type": "stream",
     "text": [
      "R-squared =  0.982512359525\n"
     ]
    }
   ],
   "source": [
    "predicted = model.predict(X)\n",
    "r_squared = r2_score(Y, predicted, multioutput='variance_weighted')\n",
    "print 'R-squared = ',r_squared"
   ]
  },
  {
   "cell_type": "code",
   "execution_count": 19,
   "metadata": {
    "collapsed": false
   },
   "outputs": [],
   "source": [
    "prediction = predicted.ravel()"
   ]
  },
  {
   "cell_type": "code",
   "execution_count": 20,
   "metadata": {
    "collapsed": false
   },
   "outputs": [
    {
     "data": {
      "text/plain": [
       "(167, 1)"
      ]
     },
     "execution_count": 20,
     "metadata": {},
     "output_type": "execute_result"
    }
   ],
   "source": [
    "shape(predicted)"
   ]
  },
  {
   "cell_type": "code",
   "execution_count": 21,
   "metadata": {
    "collapsed": false
   },
   "outputs": [
    {
     "data": {
      "text/plain": [
       "(167,)"
      ]
     },
     "execution_count": 21,
     "metadata": {},
     "output_type": "execute_result"
    }
   ],
   "source": [
    "shape(prediction)"
   ]
  },
  {
   "cell_type": "code",
   "execution_count": 22,
   "metadata": {
    "collapsed": false
   },
   "outputs": [
    {
     "data": {
      "text/plain": [
       "(167,)"
      ]
     },
     "execution_count": 22,
     "metadata": {},
     "output_type": "execute_result"
    }
   ],
   "source": [
    "shape(Y)"
   ]
  },
  {
   "cell_type": "markdown",
   "metadata": {},
   "source": [
    "## Residual Plot"
   ]
  },
  {
   "cell_type": "code",
   "execution_count": 23,
   "metadata": {
    "collapsed": false
   },
   "outputs": [
    {
     "data": {
      "image/png": "[encoded data removed]",
      "text/plain": [
       "<matplotlib.figure.Figure at 0x7fad90c79590>"
      ]
     },
     "metadata": {},
     "output_type": "display_data"
    }
   ],
   "source": [
    "fig, ax = plt.subplots()\n",
    "ax.scatter(Y, predicted)\n",
    "ax.plot([Y.min(), Y.max()], [Y.min(), Y.max()], 'k--', lw=4)\n",
    "ax.set_xlabel('Measured')\n",
    "ax.set_ylabel('Predicted')\n",
    "plt.show()"
   ]
  },
  {
   "cell_type": "code",
   "execution_count": 24,
   "metadata": {
    "collapsed": false
   },
   "outputs": [
    {
     "data": {
      "text/html": [
       "\n",
       "\n",
       "    <div class=\"bk-root\">\n",
       "        <div class=\"plotdiv\" id=\"63b9b86c-dd10-4d3c-be45-44eeb815c776\"></div>\n",
       "    </div>\n",
       "<script type=\"text/javascript\">\n",
       "  \n",
       "  (function(global) {\n",
       "    function now() {\n",
       "      return new Date();\n",
       "    }\n",
       "  \n",
       "    var force = \"\";\n",
       "  \n",
       "    if (typeof (window._bokeh_onload_callbacks) === \"undefined\" || force !== \"\") {\n",
       "      window._bokeh_onload_callbacks = [];\n",
       "      window._bokeh_is_loading = undefined;\n",
       "    }\n",
       "  \n",
       "  \n",
       "    \n",
       "    if (typeof (window._bokeh_timeout) === \"undefined\" || force !== \"\") {\n",
       "      window._bokeh_timeout = Date.now() + 0;\n",
       "      window._bokeh_failed_load = false;\n",
       "    }\n",
       "  \n",
       "    var NB_LOAD_WARNING = {'data': {'text/html':\n",
       "       \"<div style='background-color: #fdd'>\\n\"+\n",
       "       \"<p>\\n\"+\n",
       "       \"BokehJS does not appear to have successfully loaded. If loading BokehJS from CDN, this \\n\"+\n",
       "       \"may be due to a slow or bad network connection. Possible fixes:\\n\"+\n",
       "       \"</p>\\n\"+\n",
       "       \"<ul>\\n\"+\n",
       "       \"<li>re-rerun `output_notebook()` to attempt to load from CDN again, or</li>\\n\"+\n",
       "       \"<li>use INLINE resources instead, as so:</li>\\n\"+\n",
       "       \"</ul>\\n\"+\n",
       "       \"<code>\\n\"+\n",
       "       \"from bokeh.resources import INLINE\\n\"+\n",
       "       \"output_notebook(resources=INLINE)\\n\"+\n",
       "       \"</code>\\n\"+\n",
       "       \"</div>\"}};\n",
       "  \n",
       "    function display_loaded() {\n",
       "      if (window.Bokeh !== undefined) {\n",
       "        Bokeh.$(\"#63b9b86c-dd10-4d3c-be45-44eeb815c776\").text(\"BokehJS successfully loaded.\");\n",
       "      } else if (Date.now() < window._bokeh_timeout) {\n",
       "        setTimeout(display_loaded, 100)\n",
       "      }\n",
       "    }\n",
       "  \n",
       "    function run_callbacks() {\n",
       "      window._bokeh_onload_callbacks.forEach(function(callback) { callback() });\n",
       "      delete window._bokeh_onload_callbacks\n",
       "      console.info(\"Bokeh: all callbacks have finished\");\n",
       "    }\n",
       "  \n",
       "    function load_libs(js_urls, callback) {\n",
       "      window._bokeh_onload_callbacks.push(callback);\n",
       "      if (window._bokeh_is_loading > 0) {\n",
       "        console.log(\"Bokeh: BokehJS is being loaded, scheduling callback at\", now());\n",
       "        return null;\n",
       "      }\n",
       "      if (js_urls == null || js_urls.length === 0) {\n",
       "        run_callbacks();\n",
       "        return null;\n",
       "      }\n",
       "      console.log(\"Bokeh: BokehJS not loaded, scheduling load and callback at\", now());\n",
       "      window._bokeh_is_loading = js_urls.length;\n",
       "      for (var i = 0; i < js_urls.length; i++) {\n",
       "        var url = js_urls[i];\n",
       "        var s = document.createElement('script');\n",
       "        s.src = url;\n",
       "        s.async = false;\n",
       "        s.onreadystatechange = s.onload = function() {\n",
       "          window._bokeh_is_loading--;\n",
       "          if (window._bokeh_is_loading === 0) {\n",
       "            console.log(\"Bokeh: all BokehJS libraries loaded\");\n",
       "            run_callbacks()\n",
       "          }\n",
       "        };\n",
       "        s.onerror = function() {\n",
       "          console.warn(\"failed to load library \" + url);\n",
       "        };\n",
       "        console.log(\"Bokeh: injecting script tag for BokehJS library: \", url);\n",
       "        document.getElementsByTagName(\"head\")[0].appendChild(s);\n",
       "      }\n",
       "    };var element = document.getElementById(\"63b9b86c-dd10-4d3c-be45-44eeb815c776\");\n",
       "    if (element == null) {\n",
       "      console.log(\"Bokeh: ERROR: autoload.js configured with elementid '63b9b86c-dd10-4d3c-be45-44eeb815c776' but no matching script tag was found. \")\n",
       "      return false;\n",
       "    }\n",
       "  \n",
       "    var js_urls = [];\n",
       "  \n",
       "    var inline_js = [\n",
       "      function(Bokeh) {\n",
       "        Bokeh.$(function() {\n",
       "            var docs_json = {\"86ac2c4a-0944-45d5-a49e-838d14069f54\":{\"roots\":{\"references\":[{\"attributes\":{\"plot\":{\"id\":\"e04234ff-8e7f-44e7-9f29-fae1736812f3\",\"subtype\":\"Figure\",\"type\":\"Plot\"}},\"id\":\"0eba6e09-22b3-46be-a62d-72a318a84b3f\",\"type\":\"UndoTool\"},{\"attributes\":{\"plot\":{\"id\":\"e04234ff-8e7f-44e7-9f29-fae1736812f3\",\"subtype\":\"Figure\",\"type\":\"Plot\"}},\"id\":\"deae3ba8-2bb0-4d2b-b7a4-b166427cf988\",\"type\":\"ResetTool\"},{\"attributes\":{},\"id\":\"30f09c89-cf0d-42a1-9c7b-b62a08edd615\",\"type\":\"BasicTicker\"},{\"attributes\":{\"active_drag\":\"auto\",\"active_scroll\":\"auto\",\"active_tap\":\"auto\",\"tools\":[{\"id\":\"c4a8b99a-f9ea-443d-a551-e54bc42c33b0\",\"type\":\"BoxZoomTool\"},{\"id\":\"4320905e-503b-41f8-911c-9a22325ad347\",\"type\":\"BoxSelectTool\"},{\"id\":\"459daee3-ec8e-4ed9-8b51-8f2b28df4c38\",\"type\":\"CrosshairTool\"},{\"id\":\"8c9bcf2a-60ae-4984-932c-80314d40a53c\",\"type\":\"ResizeTool\"},{\"id\":\"deae3ba8-2bb0-4d2b-b7a4-b166427cf988\",\"type\":\"ResetTool\"},{\"id\":\"cc80e641-0223-4c31-bb2d-b3876a8387d2\",\"type\":\"LassoSelectTool\"},{\"id\":\"91701618-8b39-45fd-83ce-48a263404554\",\"type\":\"PanTool\"},{\"id\":\"53f69476-814a-4c82-8829-728beacf4af2\",\"type\":\"SaveTool\"},{\"id\":\"f1da7916-b400-4618-90d1-ba9b931104ad\",\"type\":\"PolySelectTool\"},{\"id\":\"a18120f2-37d5-4f96-a522-53ea69b16ef6\",\"type\":\"TapTool\"},{\"id\":\"6d5e0a61-db72-46ee-9131-ada01c5ac3bf\",\"type\":\"WheelZoomTool\"},{\"id\":\"0eba6e09-22b3-46be-a62d-72a318a84b3f\",\"type\":\"UndoTool\"}]},\"id\":\"d7c85d97-ddc5-4a67-ac1b-4e52a92345e1\",\"type\":\"Toolbar\"},{\"attributes\":{\"data_source\":{\"id\":\"513d9a59-0c73-44f5-8bd7-5a449a8181fc\",\"type\":\"ColumnDataSource\"},\"glyph\":{\"id\":\"a777c6d4-5591-4a54-9f38-6e82728abfc1\",\"type\":\"Line\"},\"hover_glyph\":null,\"nonselection_glyph\":{\"id\":\"3fea61df-ba03-458b-b579-006b900a10b0\",\"type\":\"Line\"},\"selection_glyph\":null},\"id\":\"c7c5a2eb-37b6-49c9-a6b2-e1bab1c1c7d7\",\"type\":\"GlyphRenderer\"},{\"attributes\":{\"callback\":null},\"id\":\"2e5ea8cd-508a-4fda-94f6-1b946e7a5e3a\",\"type\":\"DataRange1d\"},{\"attributes\":{\"axis_label\":\"Measured\",\"axis_label_text_color\":{\"value\":\"#aa6666\"},\"formatter\":{\"id\":\"15609061-8757-4dfe-b990-9d485c6d9d0f\",\"type\":\"BasicTickFormatter\"},\"major_tick_line_color\":{\"value\":\"firebrick\"},\"major_tick_line_width\":{\"value\":3},\"minor_tick_line_color\":{\"value\":\"orange\"},\"plot\":{\"id\":\"e04234ff-8e7f-44e7-9f29-fae1736812f3\",\"subtype\":\"Figure\",\"type\":\"Plot\"},\"ticker\":{\"id\":\"4fb86fd8-d2a6-4bb4-b2f7-cb47c4e2ea9c\",\"type\":\"BasicTicker\"}},\"id\":\"839806c0-ce97-4a7e-8464-e1e7b6cbb95b\",\"type\":\"LinearAxis\"},{\"attributes\":{\"align\":\"center\",\"plot\":null,\"text\":null},\"id\":\"0e79aca3-ce99-4fdc-8e41-3216c8360828\",\"type\":\"Title\"},{\"attributes\":{},\"id\":\"5219f912-5ee7-49b5-8fc9-1d16ead1713e\",\"type\":\"BasicTickFormatter\"},{\"attributes\":{\"fill_alpha\":{\"value\":0.5},\"fill_color\":{\"value\":\"lightgrey\"},\"level\":\"overlay\",\"line_alpha\":{\"value\":1.0},\"line_color\":{\"value\":\"black\"},\"line_dash\":[4,4],\"line_width\":{\"value\":2},\"plot\":null,\"xs_units\":\"screen\",\"ys_units\":\"screen\"},\"id\":\"ea388edb-8eed-476f-9b85-afc3e953e6e0\",\"type\":\"PolyAnnotation\"},{\"attributes\":{\"bottom_units\":\"screen\",\"fill_alpha\":{\"value\":0.5},\"fill_color\":{\"value\":\"lightgrey\"},\"left_units\":\"screen\",\"level\":\"overlay\",\"line_alpha\":{\"value\":1.0},\"line_color\":{\"value\":\"black\"},\"line_dash\":[4,4],\"line_width\":{\"value\":2},\"plot\":null,\"render_mode\":\"css\",\"right_units\":\"screen\",\"top_units\":\"screen\"},\"id\":\"319ba159-00dd-4b87-8826-36edbb242d0c\",\"type\":\"BoxAnnotation\"},{\"attributes\":{\"plot\":{\"id\":\"e04234ff-8e7f-44e7-9f29-fae1736812f3\",\"subtype\":\"Figure\",\"type\":\"Plot\"}},\"id\":\"6d5e0a61-db72-46ee-9131-ada01c5ac3bf\",\"type\":\"WheelZoomTool\"},{\"attributes\":{\"plot\":{\"id\":\"e04234ff-8e7f-44e7-9f29-fae1736812f3\",\"subtype\":\"Figure\",\"type\":\"Plot\"},\"ticker\":{\"id\":\"4fb86fd8-d2a6-4bb4-b2f7-cb47c4e2ea9c\",\"type\":\"BasicTicker\"}},\"id\":\"0972099b-9871-420b-b0af-7ab6c0cb1923\",\"type\":\"Grid\"},{\"attributes\":{\"line_dash\":[4,4],\"line_width\":{\"value\":2},\"x\":{\"field\":\"x\"},\"y\":{\"field\":\"y\"}},\"id\":\"a777c6d4-5591-4a54-9f38-6e82728abfc1\",\"type\":\"Line\"},{\"attributes\":{\"callback\":null,\"overlay\":{\"id\":\"8242b36e-b720-41b7-98af-e5da8428de5f\",\"type\":\"PolyAnnotation\"},\"plot\":{\"id\":\"e04234ff-8e7f-44e7-9f29-fae1736812f3\",\"subtype\":\"Figure\",\"type\":\"Plot\"}},\"id\":\"cc80e641-0223-4c31-bb2d-b3876a8387d2\",\"type\":\"LassoSelectTool\"},{\"attributes\":{\"overlay\":{\"id\":\"ea388edb-8eed-476f-9b85-afc3e953e6e0\",\"type\":\"PolyAnnotation\"},\"plot\":{\"id\":\"e04234ff-8e7f-44e7-9f29-fae1736812f3\",\"subtype\":\"Figure\",\"type\":\"Plot\"}},\"id\":\"f1da7916-b400-4618-90d1-ba9b931104ad\",\"type\":\"PolySelectTool\"},{\"attributes\":{\"data_source\":{\"id\":\"776d27d4-454f-46b5-a227-1f14f432bf5c\",\"type\":\"ColumnDataSource\"},\"glyph\":{\"id\":\"08cbf369-923b-4df2-8bf6-63ff5411b2bf\",\"type\":\"Circle\"},\"hover_glyph\":null,\"nonselection_glyph\":{\"id\":\"87f15458-b9f4-443a-a0e0-d46b1363fa68\",\"type\":\"Circle\"},\"selection_glyph\":null},\"id\":\"f7b878f7-3216-435c-8333-48f8b4406f0d\",\"type\":\"GlyphRenderer\"},{\"attributes\":{\"dimension\":1,\"plot\":{\"id\":\"e04234ff-8e7f-44e7-9f29-fae1736812f3\",\"subtype\":\"Figure\",\"type\":\"Plot\"},\"ticker\":{\"id\":\"30f09c89-cf0d-42a1-9c7b-b62a08edd615\",\"type\":\"BasicTicker\"}},\"id\":\"b9358cf7-edae-4b53-b323-90bb0449528f\",\"type\":\"Grid\"},{\"attributes\":{\"callback\":null,\"plot\":{\"id\":\"e04234ff-8e7f-44e7-9f29-fae1736812f3\",\"subtype\":\"Figure\",\"type\":\"Plot\"}},\"id\":\"a18120f2-37d5-4f96-a522-53ea69b16ef6\",\"type\":\"TapTool\"},{\"attributes\":{\"background_fill_alpha\":{\"value\":0.5},\"background_fill_color\":{\"value\":\"beige\"},\"below\":[{\"id\":\"839806c0-ce97-4a7e-8464-e1e7b6cbb95b\",\"type\":\"LinearAxis\"}],\"left\":[{\"id\":\"c73eacf2-e7a7-4a0e-b4be-44cfa4a9ee6f\",\"type\":\"LinearAxis\"}],\"plot_height\":500,\"plot_width\":500,\"renderers\":[{\"id\":\"839806c0-ce97-4a7e-8464-e1e7b6cbb95b\",\"type\":\"LinearAxis\"},{\"id\":\"0972099b-9871-420b-b0af-7ab6c0cb1923\",\"type\":\"Grid\"},{\"id\":\"c73eacf2-e7a7-4a0e-b4be-44cfa4a9ee6f\",\"type\":\"LinearAxis\"},{\"id\":\"b9358cf7-edae-4b53-b323-90bb0449528f\",\"type\":\"Grid\"},{\"id\":\"319ba159-00dd-4b87-8826-36edbb242d0c\",\"type\":\"BoxAnnotation\"},{\"id\":\"ed65de40-d6bf-4844-ae59-061868617900\",\"type\":\"BoxAnnotation\"},{\"id\":\"8242b36e-b720-41b7-98af-e5da8428de5f\",\"type\":\"PolyAnnotation\"},{\"id\":\"ea388edb-8eed-476f-9b85-afc3e953e6e0\",\"type\":\"PolyAnnotation\"},{\"id\":\"f7b878f7-3216-435c-8333-48f8b4406f0d\",\"type\":\"GlyphRenderer\"},{\"id\":\"c7c5a2eb-37b6-49c9-a6b2-e1bab1c1c7d7\",\"type\":\"GlyphRenderer\"}],\"title\":{\"id\":\"0e79aca3-ce99-4fdc-8e41-3216c8360828\",\"type\":\"Title\"},\"tool_events\":{\"id\":\"8defe06e-63a4-41d0-a43b-be2d4af04b7a\",\"type\":\"ToolEvents\"},\"toolbar\":{\"id\":\"d7c85d97-ddc5-4a67-ac1b-4e52a92345e1\",\"type\":\"Toolbar\"},\"x_range\":{\"id\":\"2e5ea8cd-508a-4fda-94f6-1b946e7a5e3a\",\"type\":\"DataRange1d\"},\"y_range\":{\"id\":\"01e95402-744d-49ce-9136-857e0e57427b\",\"type\":\"DataRange1d\"}},\"id\":\"e04234ff-8e7f-44e7-9f29-fae1736812f3\",\"subtype\":\"Figure\",\"type\":\"Plot\"},{\"attributes\":{\"plot\":{\"id\":\"e04234ff-8e7f-44e7-9f29-fae1736812f3\",\"subtype\":\"Figure\",\"type\":\"Plot\"}},\"id\":\"53f69476-814a-4c82-8829-728beacf4af2\",\"type\":\"SaveTool\"},{\"attributes\":{\"fill_alpha\":{\"value\":0.5},\"fill_color\":{\"value\":\"lightgrey\"},\"level\":\"overlay\",\"line_alpha\":{\"value\":1.0},\"line_color\":{\"value\":\"black\"},\"line_dash\":[4,4],\"line_width\":{\"value\":2},\"plot\":null,\"xs_units\":\"screen\",\"ys_units\":\"screen\"},\"id\":\"8242b36e-b720-41b7-98af-e5da8428de5f\",\"type\":\"PolyAnnotation\"},{\"attributes\":{\"axis_label\":\"Predicted\",\"axis_label_text_color\":{\"value\":\"#aa6666\"},\"formatter\":{\"id\":\"5219f912-5ee7-49b5-8fc9-1d16ead1713e\",\"type\":\"BasicTickFormatter\"},\"plot\":{\"id\":\"e04234ff-8e7f-44e7-9f29-fae1736812f3\",\"subtype\":\"Figure\",\"type\":\"Plot\"},\"ticker\":{\"id\":\"30f09c89-cf0d-42a1-9c7b-b62a08edd615\",\"type\":\"BasicTicker\"}},\"id\":\"c73eacf2-e7a7-4a0e-b4be-44cfa4a9ee6f\",\"type\":\"LinearAxis\"},{\"attributes\":{\"bottom_units\":\"screen\",\"fill_alpha\":{\"value\":0.5},\"fill_color\":{\"value\":\"lightgrey\"},\"left_units\":\"screen\",\"level\":\"overlay\",\"line_alpha\":{\"value\":1.0},\"line_color\":{\"value\":\"black\"},\"line_dash\":[4,4],\"line_width\":{\"value\":2},\"plot\":null,\"render_mode\":\"css\",\"right_units\":\"screen\",\"top_units\":\"screen\"},\"id\":\"ed65de40-d6bf-4844-ae59-061868617900\",\"type\":\"BoxAnnotation\"},{\"attributes\":{\"fill_color\":{\"value\":\"#80B1D3\"},\"line_color\":{\"value\":\"#80B1D3\"},\"line_width\":{\"value\":3},\"x\":{\"field\":\"x\"},\"y\":{\"field\":\"y\"}},\"id\":\"08cbf369-923b-4df2-8bf6-63ff5411b2bf\",\"type\":\"Circle\"},{\"attributes\":{\"line_alpha\":{\"value\":0.1},\"line_color\":{\"value\":\"#1f77b4\"},\"line_dash\":[4,4],\"line_width\":{\"value\":2},\"x\":{\"field\":\"x\"},\"y\":{\"field\":\"y\"}},\"id\":\"3fea61df-ba03-458b-b579-006b900a10b0\",\"type\":\"Line\"},{\"attributes\":{},\"id\":\"4fb86fd8-d2a6-4bb4-b2f7-cb47c4e2ea9c\",\"type\":\"BasicTicker\"},{\"attributes\":{\"callback\":null,\"column_names\":[\"x\",\"y\"],\"data\":{\"x\":[20,53,132,25,88,54,75,17,28,35,80,360,749,41,26,44,82,28,275,18,27,34,28,102,34,42,426,57,124,19,128,30,281,19,19,86,45,29,28,22,220,126,15,22,31,81,35,18,24,37,95,19,253,34,24,182,74,23,78,23,24,24,47,270,113,253,82,20,47,978,34,31,199,171,33,361,113,117,74,33,38,36,28,41,117,267,45,18,21,37,190,47,381,28,25,116,26,20,35,181,29,24,65,18,136,34,157,253,101,25,74,28,46,53,29,44,46,36,41,82,138,28,42,62,266,102,25,44,31,74,142,41,43,119,27,15,73,64,53,76,120,24,20,50,21,80,30,341,24,919,30,56,34,53,175,47,32,23,39,1238,20,227,20,382,26,28,67],\"y\":[32.07588577270508,32.09952926635742,141.70115661621094,12.509891510009766,72.8285903930664,33.463401794433594,75.87440490722656,20.467500686645508,40.067955017089844,38.05021667480469,60.80686950683594,404.9606628417969,690.6768798828125,36.73493194580078,20.03458023071289,32.71116256713867,75.50982666015625,19.434465408325195,273.22406005859375,18.94425392150879,29.11664581298828,28.225595474243164,39.070804595947266,83.79254913330078,28.92857551574707,36.391265869140625,504.7098693847656,50.166908264160156,127.02404022216797,38.824649810791016,151.09121704101562,38.156944274902344,237.8549041748047,28.827083587646484,37.656517028808594,83.2459487915039,31.87458610534668,35.247528076171875,11.432004928588867,37.42020797729492,264.3011474609375,160.32106018066406,37.068050384521484,37.997859954833984,26.720232009887695,75.29429626464844,18.175308227539062,22.9581356048584,38.605831146240234,41.02602767944336,95.41436767578125,11.208556175231934,269.3138427734375,28.459922790527344,41.49311447143555,184.3853302001953,62.76468276977539,34.90652084350586,77.1693115234375,14.366701126098633,43.07708740234375,42.476318359375,23.526063919067383,321.0450744628906,141.38473510742188,258.7670593261719,91.02681732177734,6.65962553024292,34.78752136230469,953.9707641601562,32.66852569580078,27.321001052856445,219.65089416503906,178.76828002929688,45.776092529296875,455.3492431640625,122.633544921875,105.01395416259766,58.009300231933594,24.013423919677734,37.94822311401367,40.449344635009766,30.348217010498047,32.11614990234375,121.19746398925781,305.9460754394531,43.51033401489258,12.547215461730957,36.680423736572266,41.911834716796875,172.27635192871094,35.4856071472168,431.600341796875,26.195722579956055,31.279409408569336,108.45572662353516,41.01897048950195,30.620098114013672,39.19851303100586,220.55813598632812,33.00889587402344,34.29342269897461,46.451873779296875,15.841618537902832,158.47618103027344,29.39723014831543,171.4294891357422,283.40423583984375,92.70172119140625,36.34728240966797,61.14181900024414,34.21435546875,36.68741989135742,27.86016845703125,14.080726623535156,36.131404876708984,33.270530700683594,42.97443771362305,40.99214553833008,73.48125457763672,137.1764678955078,33.60357666015625,36.13155746459961,53.05377197265625,289.35406494140625,113.87456512451172,38.60449981689453,37.24198913574219,29.31943130493164,39.16562271118164,145.4333953857422,37.9937629699707,33.586395263671875,111.44281768798828,38.9178581237793,37.31303787231445,93.51942443847656,46.76654815673828,35.37102508544922,53.035160064697266,115.11306762695312,42.19401550292969,26.21364402770996,36.16120529174805,32.0462646484375,43.05866241455078,5.966873645782471,350.7664794921875,27.65427589416504,861.6447143554688,33.548187255859375,30.842708587646484,29.16290283203125,31.948957443237305,182.86807250976562,26.78738784790039,28.49322509765625,39.444156646728516,18.096240997314453,1129.7054443359375,15.020798683166504,222.97108459472656,32.21329116821289,374.73486328125,32.10934829711914,24.614809036254883,27.306806564331055]}},\"id\":\"776d27d4-454f-46b5-a227-1f14f432bf5c\",\"type\":\"ColumnDataSource\"},{\"attributes\":{\"plot\":{\"id\":\"e04234ff-8e7f-44e7-9f29-fae1736812f3\",\"subtype\":\"Figure\",\"type\":\"Plot\"}},\"id\":\"459daee3-ec8e-4ed9-8b51-8f2b28df4c38\",\"type\":\"CrosshairTool\"},{\"attributes\":{},\"id\":\"8defe06e-63a4-41d0-a43b-be2d4af04b7a\",\"type\":\"ToolEvents\"},{\"attributes\":{\"fill_alpha\":{\"value\":0.1},\"fill_color\":{\"value\":\"#1f77b4\"},\"line_alpha\":{\"value\":0.1},\"line_color\":{\"value\":\"#1f77b4\"},\"line_width\":{\"value\":3},\"x\":{\"field\":\"x\"},\"y\":{\"field\":\"y\"}},\"id\":\"87f15458-b9f4-443a-a0e0-d46b1363fa68\",\"type\":\"Circle\"},{\"attributes\":{\"callback\":null,\"column_names\":[\"y\",\"x\"],\"data\":{\"x\":[15,1238],\"y\":[15,1238]}},\"id\":\"513d9a59-0c73-44f5-8bd7-5a449a8181fc\",\"type\":\"ColumnDataSource\"},{\"attributes\":{\"plot\":{\"id\":\"e04234ff-8e7f-44e7-9f29-fae1736812f3\",\"subtype\":\"Figure\",\"type\":\"Plot\"}},\"id\":\"8c9bcf2a-60ae-4984-932c-80314d40a53c\",\"type\":\"ResizeTool\"},{\"attributes\":{\"overlay\":{\"id\":\"319ba159-00dd-4b87-8826-36edbb242d0c\",\"type\":\"BoxAnnotation\"},\"plot\":{\"id\":\"e04234ff-8e7f-44e7-9f29-fae1736812f3\",\"subtype\":\"Figure\",\"type\":\"Plot\"}},\"id\":\"c4a8b99a-f9ea-443d-a551-e54bc42c33b0\",\"type\":\"BoxZoomTool\"},{\"attributes\":{\"plot\":{\"id\":\"e04234ff-8e7f-44e7-9f29-fae1736812f3\",\"subtype\":\"Figure\",\"type\":\"Plot\"}},\"id\":\"91701618-8b39-45fd-83ce-48a263404554\",\"type\":\"PanTool\"},{\"attributes\":{},\"id\":\"15609061-8757-4dfe-b990-9d485c6d9d0f\",\"type\":\"BasicTickFormatter\"},{\"attributes\":{\"callback\":null,\"overlay\":{\"id\":\"ed65de40-d6bf-4844-ae59-061868617900\",\"type\":\"BoxAnnotation\"},\"plot\":{\"id\":\"e04234ff-8e7f-44e7-9f29-fae1736812f3\",\"subtype\":\"Figure\",\"type\":\"Plot\"},\"renderers\":[{\"id\":\"f7b878f7-3216-435c-8333-48f8b4406f0d\",\"type\":\"GlyphRenderer\"},{\"id\":\"c7c5a2eb-37b6-49c9-a6b2-e1bab1c1c7d7\",\"type\":\"GlyphRenderer\"}]},\"id\":\"4320905e-503b-41f8-911c-9a22325ad347\",\"type\":\"BoxSelectTool\"},{\"attributes\":{\"callback\":null},\"id\":\"01e95402-744d-49ce-9136-857e0e57427b\",\"type\":\"DataRange1d\"}],\"root_ids\":[\"e04234ff-8e7f-44e7-9f29-fae1736812f3\"]},\"title\":\"Bokeh Application\",\"version\":\"0.12.2\"}};\n",
       "            var render_items = [{\"docid\":\"86ac2c4a-0944-45d5-a49e-838d14069f54\",\"elementid\":\"63b9b86c-dd10-4d3c-be45-44eeb815c776\",\"modelid\":\"e04234ff-8e7f-44e7-9f29-fae1736812f3\"}];\n",
       "            \n",
       "            Bokeh.embed.embed_items(docs_json, render_items);\n",
       "        });\n",
       "      },\n",
       "      function(Bokeh) {\n",
       "      }\n",
       "    ];\n",
       "  \n",
       "    function run_inline_js() {\n",
       "      \n",
       "      if ((window.Bokeh !== undefined) || (force === \"1\")) {\n",
       "        for (var i = 0; i < inline_js.length; i++) {\n",
       "          inline_js[i](window.Bokeh);\n",
       "        }if (force === \"1\") {\n",
       "          display_loaded();\n",
       "        }} else if (Date.now() < window._bokeh_timeout) {\n",
       "        setTimeout(run_inline_js, 100);\n",
       "      } else if (!window._bokeh_failed_load) {\n",
       "        console.log(\"Bokeh: BokehJS failed to load within specified timeout.\");\n",
       "        window._bokeh_failed_load = true;\n",
       "      } else if (!force) {\n",
       "        var cell = $(\"#63b9b86c-dd10-4d3c-be45-44eeb815c776\").parents('.cell').data().cell;\n",
       "        cell.output_area.append_execute_result(NB_LOAD_WARNING)\n",
       "      }\n",
       "  \n",
       "    }\n",
       "  \n",
       "    if (window._bokeh_is_loading === 0) {\n",
       "      console.log(\"Bokeh: BokehJS loaded, going straight to plotting\");\n",
       "      run_inline_js();\n",
       "    } else {\n",
       "      load_libs(js_urls, function() {\n",
       "        console.log(\"Bokeh: BokehJS plotting callback run at\", now());\n",
       "        run_inline_js();\n",
       "      });\n",
       "    }\n",
       "  }(this));\n",
       "</script>"
      ]
     },
     "metadata": {},
     "output_type": "display_data"
    }
   ],
   "source": [
    "# Plotining using bokeh\n",
    "#TOOLS = [BoxSelectTool(), HoverTool()]\n",
    "#TOOLS = 'hover,box_zoom,box_select,crosshair,resize,reset,model_select,pan,save,poly_select,tap,wheel_zoom,undo'\n",
    "TOOLS = 'box_zoom,box_select,crosshair,resize,reset,lasso_select,pan,save,poly_select,tap,wheel_zoom,undo'\n",
    "p = figure(plot_width=500, plot_height=500, tools=TOOLS)\n",
    "p.scatter(Y, prediction,x=\"jjj\", marker=\"o\", color=\"#80B1D3\", line_width=3)\n",
    "p.title.align = \"center\"\n",
    "p.xaxis.axis_label = \"Measured\"\n",
    "p.xaxis.axis_label_text_color = \"#aa6666\"\n",
    "#p.xaxis.axis_label_standoff = 30\n",
    "p.xaxis.major_tick_line_color = \"firebrick\"\n",
    "p.xaxis.major_tick_line_width = 3\n",
    "p.xaxis.minor_tick_line_color = \"orange\"\n",
    "p.yaxis.axis_label = \"Predicted\"\n",
    "p.yaxis.axis_label_text_font_style = \"italic\"\n",
    "p.yaxis.axis_label_text_color = \"#aa6666\"\n",
    "p.background_fill_color = \"beige\"\n",
    "p.background_fill_alpha = 0.5\n",
    "#p.line([Y.min(), Y.max()], [Y.min(), Y.max()], line_dash=\"4 4\", line_width=2, color='red')\n",
    "\n",
    "# create a new plot with the toolbar below\n",
    "# line_dash=\"4 4\", line_width=2, color='red'\n",
    "p.line([Y.min(), Y.max()], [Y.min(), Y.max()], line_dash=\"4 4\", line_width=2, line_color=\"black\")\n",
    "show(p)"
   ]
  },
  {
   "cell_type": "code",
   "execution_count": 25,
   "metadata": {
    "collapsed": false
   },
   "outputs": [
    {
     "data": {
      "text/plain": [
       "<matplotlib.text.Text at 0x7fad980c6410>"
      ]
     },
     "execution_count": 25,
     "metadata": {},
     "output_type": "execute_result"
    },
    {
     "data": {
      "image/png": "[encoded data removed]",
      "text/plain": [
       "<matplotlib.figure.Figure at 0x7fad913f5d90>"
      ]
     },
     "metadata": {},
     "output_type": "display_data"
    }
   ],
   "source": [
    "plt.scatter(predicted, (predicted.T - Y), c='r', s=30)\n",
    "plt.title(\"Residual plot on the training data\")\n",
    "plt.xlabel(\"Predicted\")\n",
    "plt.ylabel(\"Residuals\")"
   ]
  },
  {
   "cell_type": "code",
   "execution_count": 26,
   "metadata": {
    "collapsed": false
   },
   "outputs": [
    {
     "data": {
      "text/html": [
       "\n",
       "\n",
       "    <div class=\"bk-root\">\n",
       "        <div class=\"plotdiv\" id=\"cfcea439-8069-46ba-b687-dbbcd0ad6f94\"></div>\n",
       "    </div>\n",
       "<script type=\"text/javascript\">\n",
       "  \n",
       "  (function(global) {\n",
       "    function now() {\n",
       "      return new Date();\n",
       "    }\n",
       "  \n",
       "    var force = \"\";\n",
       "  \n",
       "    if (typeof (window._bokeh_onload_callbacks) === \"undefined\" || force !== \"\") {\n",
       "      window._bokeh_onload_callbacks = [];\n",
       "      window._bokeh_is_loading = undefined;\n",
       "    }\n",
       "  \n",
       "  \n",
       "    \n",
       "    if (typeof (window._bokeh_timeout) === \"undefined\" || force !== \"\") {\n",
       "      window._bokeh_timeout = Date.now() + 0;\n",
       "      window._bokeh_failed_load = false;\n",
       "    }\n",
       "  \n",
       "    var NB_LOAD_WARNING = {'data': {'text/html':\n",
       "       \"<div style='background-color: #fdd'>\\n\"+\n",
       "       \"<p>\\n\"+\n",
       "       \"BokehJS does not appear to have successfully loaded. If loading BokehJS from CDN, this \\n\"+\n",
       "       \"may be due to a slow or bad network connection. Possible fixes:\\n\"+\n",
       "       \"</p>\\n\"+\n",
       "       \"<ul>\\n\"+\n",
       "       \"<li>re-rerun `output_notebook()` to attempt to load from CDN again, or</li>\\n\"+\n",
       "       \"<li>use INLINE resources instead, as so:</li>\\n\"+\n",
       "       \"</ul>\\n\"+\n",
       "       \"<code>\\n\"+\n",
       "       \"from bokeh.resources import INLINE\\n\"+\n",
       "       \"output_notebook(resources=INLINE)\\n\"+\n",
       "       \"</code>\\n\"+\n",
       "       \"</div>\"}};\n",
       "  \n",
       "    function display_loaded() {\n",
       "      if (window.Bokeh !== undefined) {\n",
       "        Bokeh.$(\"#cfcea439-8069-46ba-b687-dbbcd0ad6f94\").text(\"BokehJS successfully loaded.\");\n",
       "      } else if (Date.now() < window._bokeh_timeout) {\n",
       "        setTimeout(display_loaded, 100)\n",
       "      }\n",
       "    }\n",
       "  \n",
       "    function run_callbacks() {\n",
       "      window._bokeh_onload_callbacks.forEach(function(callback) { callback() });\n",
       "      delete window._bokeh_onload_callbacks\n",
       "      console.info(\"Bokeh: all callbacks have finished\");\n",
       "    }\n",
       "  \n",
       "    function load_libs(js_urls, callback) {\n",
       "      window._bokeh_onload_callbacks.push(callback);\n",
       "      if (window._bokeh_is_loading > 0) {\n",
       "        console.log(\"Bokeh: BokehJS is being loaded, scheduling callback at\", now());\n",
       "        return null;\n",
       "      }\n",
       "      if (js_urls == null || js_urls.length === 0) {\n",
       "        run_callbacks();\n",
       "        return null;\n",
       "      }\n",
       "      console.log(\"Bokeh: BokehJS not loaded, scheduling load and callback at\", now());\n",
       "      window._bokeh_is_loading = js_urls.length;\n",
       "      for (var i = 0; i < js_urls.length; i++) {\n",
       "        var url = js_urls[i];\n",
       "        var s = document.createElement('script');\n",
       "        s.src = url;\n",
       "        s.async = false;\n",
       "        s.onreadystatechange = s.onload = function() {\n",
       "          window._bokeh_is_loading--;\n",
       "          if (window._bokeh_is_loading === 0) {\n",
       "            console.log(\"Bokeh: all BokehJS libraries loaded\");\n",
       "            run_callbacks()\n",
       "          }\n",
       "        };\n",
       "        s.onerror = function() {\n",
       "          console.warn(\"failed to load library \" + url);\n",
       "        };\n",
       "        console.log(\"Bokeh: injecting script tag for BokehJS library: \", url);\n",
       "        document.getElementsByTagName(\"head\")[0].appendChild(s);\n",
       "      }\n",
       "    };var element = document.getElementById(\"cfcea439-8069-46ba-b687-dbbcd0ad6f94\");\n",
       "    if (element == null) {\n",
       "      console.log(\"Bokeh: ERROR: autoload.js configured with elementid 'cfcea439-8069-46ba-b687-dbbcd0ad6f94' but no matching script tag was found. \")\n",
       "      return false;\n",
       "    }\n",
       "  \n",
       "    var js_urls = [];\n",
       "  \n",
       "    var inline_js = [\n",
       "      function(Bokeh) {\n",
       "        Bokeh.$(function() {\n",
       "            var docs_json = {\"973f531e-1b80-45bb-a7f1-295fa5133d05\":{\"roots\":{\"references\":[{\"attributes\":{},\"id\":\"47bb5001-c96a-4ec1-87dc-a9b868d7cce3\",\"type\":\"BasicTicker\"},{\"attributes\":{},\"id\":\"8078565f-dd98-47f1-bfcb-a5c80a9d491d\",\"type\":\"ToolEvents\"},{\"attributes\":{\"callback\":null},\"id\":\"39b4c615-3d76-4376-8aad-10f7a4b853a2\",\"type\":\"DataRange1d\"},{\"attributes\":{\"plot\":{\"id\":\"df643ca3-9b12-496d-9861-29f9a31176b0\",\"subtype\":\"Figure\",\"type\":\"Plot\"}},\"id\":\"8505d134-46bc-4b49-bd1b-7ece5f1efcdc\",\"type\":\"CrosshairTool\"},{\"attributes\":{\"callback\":null,\"overlay\":{\"id\":\"0232a479-c9a5-4567-9060-53aa962baf38\",\"type\":\"PolyAnnotation\"},\"plot\":{\"id\":\"df643ca3-9b12-496d-9861-29f9a31176b0\",\"subtype\":\"Figure\",\"type\":\"Plot\"}},\"id\":\"1a68d8a8-c53a-4a7b-9044-63b6e54ebe44\",\"type\":\"LassoSelectTool\"},{\"attributes\":{\"align\":\"center\",\"plot\":null,\"text\":\"Residual plot on the training data\"},\"id\":\"c96caf63-d1c1-4067-8866-954392e78924\",\"type\":\"Title\"},{\"attributes\":{\"overlay\":{\"id\":\"1ad52109-29f7-47b6-8f77-68e54714a28d\",\"type\":\"BoxAnnotation\"},\"plot\":{\"id\":\"df643ca3-9b12-496d-9861-29f9a31176b0\",\"subtype\":\"Figure\",\"type\":\"Plot\"}},\"id\":\"9d655c36-b814-4bb5-a5f0-5a4255d0ee7e\",\"type\":\"BoxZoomTool\"},{\"attributes\":{\"callback\":null},\"id\":\"43efb792-8b80-44be-92a5-714072e48917\",\"type\":\"DataRange1d\"},{\"attributes\":{\"data_source\":{\"id\":\"ec3fb18e-46c5-46d8-89f0-e6e5bb97a5d6\",\"type\":\"ColumnDataSource\"},\"glyph\":{\"id\":\"7a942f30-dca0-47e6-b595-83bcea47bb70\",\"type\":\"Circle\"},\"hover_glyph\":null,\"nonselection_glyph\":{\"id\":\"901ffb61-a8d0-4caf-a8d1-837533465329\",\"type\":\"Circle\"},\"selection_glyph\":null},\"id\":\"37b04157-b248-4c0b-996e-bbb8deafc98e\",\"type\":\"GlyphRenderer\"},{\"attributes\":{\"axis_label\":\"Predicted\",\"axis_label_text_color\":{\"value\":\"#aa6666\"},\"formatter\":{\"id\":\"de9b1326-171c-49a7-b500-ffedaf4d825c\",\"type\":\"BasicTickFormatter\"},\"major_tick_line_color\":{\"value\":\"firebrick\"},\"major_tick_line_width\":{\"value\":3},\"minor_tick_line_color\":{\"value\":\"orange\"},\"plot\":{\"id\":\"df643ca3-9b12-496d-9861-29f9a31176b0\",\"subtype\":\"Figure\",\"type\":\"Plot\"},\"ticker\":{\"id\":\"103bdf0d-58e2-44a9-8a71-de797921a273\",\"type\":\"BasicTicker\"}},\"id\":\"aba63ca6-8050-4cd4-8507-6b732dce79a0\",\"type\":\"LinearAxis\"},{\"attributes\":{\"dimension\":1,\"plot\":{\"id\":\"df643ca3-9b12-496d-9861-29f9a31176b0\",\"subtype\":\"Figure\",\"type\":\"Plot\"},\"ticker\":{\"id\":\"47bb5001-c96a-4ec1-87dc-a9b868d7cce3\",\"type\":\"BasicTicker\"}},\"id\":\"b4df211b-e316-4073-b20d-685ad7c5a18c\",\"type\":\"Grid\"},{\"attributes\":{\"plot\":{\"id\":\"df643ca3-9b12-496d-9861-29f9a31176b0\",\"subtype\":\"Figure\",\"type\":\"Plot\"}},\"id\":\"d682462c-25e1-432b-9d8a-802c7da5c02d\",\"type\":\"ResizeTool\"},{\"attributes\":{\"callback\":null,\"plot\":{\"id\":\"df643ca3-9b12-496d-9861-29f9a31176b0\",\"subtype\":\"Figure\",\"type\":\"Plot\"}},\"id\":\"cd6b70fb-65fe-4975-b10d-e1e348e48d28\",\"type\":\"TapTool\"},{\"attributes\":{\"fill_alpha\":{\"value\":0.1},\"fill_color\":{\"value\":\"#1f77b4\"},\"line_alpha\":{\"value\":0.1},\"line_color\":{\"value\":\"#1f77b4\"},\"line_width\":{\"value\":3},\"x\":{\"field\":\"x\"},\"y\":{\"field\":\"y\"}},\"id\":\"901ffb61-a8d0-4caf-a8d1-837533465329\",\"type\":\"Circle\"},{\"attributes\":{\"bottom_units\":\"screen\",\"fill_alpha\":{\"value\":0.5},\"fill_color\":{\"value\":\"lightgrey\"},\"left_units\":\"screen\",\"level\":\"overlay\",\"line_alpha\":{\"value\":1.0},\"line_color\":{\"value\":\"black\"},\"line_dash\":[4,4],\"line_width\":{\"value\":2},\"plot\":null,\"render_mode\":\"css\",\"right_units\":\"screen\",\"top_units\":\"screen\"},\"id\":\"faa1addd-ee9d-48de-9ab8-676e1ced6fc7\",\"type\":\"BoxAnnotation\"},{\"attributes\":{\"plot\":{\"id\":\"df643ca3-9b12-496d-9861-29f9a31176b0\",\"subtype\":\"Figure\",\"type\":\"Plot\"}},\"id\":\"210f6479-8dcd-4394-b646-1115da6fb276\",\"type\":\"UndoTool\"},{\"attributes\":{\"plot\":{\"id\":\"df643ca3-9b12-496d-9861-29f9a31176b0\",\"subtype\":\"Figure\",\"type\":\"Plot\"}},\"id\":\"69cebd24-7088-49f2-9920-3a8277aa261b\",\"type\":\"PanTool\"},{\"attributes\":{\"bottom_units\":\"screen\",\"fill_alpha\":{\"value\":0.5},\"fill_color\":{\"value\":\"lightgrey\"},\"left_units\":\"screen\",\"level\":\"overlay\",\"line_alpha\":{\"value\":1.0},\"line_color\":{\"value\":\"black\"},\"line_dash\":[4,4],\"line_width\":{\"value\":2},\"plot\":null,\"render_mode\":\"css\",\"right_units\":\"screen\",\"top_units\":\"screen\"},\"id\":\"1ad52109-29f7-47b6-8f77-68e54714a28d\",\"type\":\"BoxAnnotation\"},{\"attributes\":{\"axis_label\":\"Residuals\",\"axis_label_text_color\":{\"value\":\"#aa6666\"},\"formatter\":{\"id\":\"d466d1ed-6908-4430-abce-c3337d2edf2b\",\"type\":\"BasicTickFormatter\"},\"plot\":{\"id\":\"df643ca3-9b12-496d-9861-29f9a31176b0\",\"subtype\":\"Figure\",\"type\":\"Plot\"},\"ticker\":{\"id\":\"47bb5001-c96a-4ec1-87dc-a9b868d7cce3\",\"type\":\"BasicTicker\"}},\"id\":\"7dac95b4-b3c3-43d7-8b41-8600a9242b97\",\"type\":\"LinearAxis\"},{\"attributes\":{\"fill_alpha\":{\"value\":0.5},\"fill_color\":{\"value\":\"lightgrey\"},\"level\":\"overlay\",\"line_alpha\":{\"value\":1.0},\"line_color\":{\"value\":\"black\"},\"line_dash\":[4,4],\"line_width\":{\"value\":2},\"plot\":null,\"xs_units\":\"screen\",\"ys_units\":\"screen\"},\"id\":\"0232a479-c9a5-4567-9060-53aa962baf38\",\"type\":\"PolyAnnotation\"},{\"attributes\":{},\"id\":\"de9b1326-171c-49a7-b500-ffedaf4d825c\",\"type\":\"BasicTickFormatter\"},{\"attributes\":{},\"id\":\"103bdf0d-58e2-44a9-8a71-de797921a273\",\"type\":\"BasicTicker\"},{\"attributes\":{},\"id\":\"d466d1ed-6908-4430-abce-c3337d2edf2b\",\"type\":\"BasicTickFormatter\"},{\"attributes\":{\"plot\":{\"id\":\"df643ca3-9b12-496d-9861-29f9a31176b0\",\"subtype\":\"Figure\",\"type\":\"Plot\"},\"ticker\":{\"id\":\"103bdf0d-58e2-44a9-8a71-de797921a273\",\"type\":\"BasicTicker\"}},\"id\":\"56d2143f-c3f0-49de-b985-07f90c82b25f\",\"type\":\"Grid\"},{\"attributes\":{\"background_fill_alpha\":{\"value\":0.5},\"background_fill_color\":{\"value\":\"beige\"},\"below\":[{\"id\":\"aba63ca6-8050-4cd4-8507-6b732dce79a0\",\"type\":\"LinearAxis\"}],\"left\":[{\"id\":\"7dac95b4-b3c3-43d7-8b41-8600a9242b97\",\"type\":\"LinearAxis\"}],\"plot_height\":500,\"plot_width\":500,\"renderers\":[{\"id\":\"aba63ca6-8050-4cd4-8507-6b732dce79a0\",\"type\":\"LinearAxis\"},{\"id\":\"56d2143f-c3f0-49de-b985-07f90c82b25f\",\"type\":\"Grid\"},{\"id\":\"7dac95b4-b3c3-43d7-8b41-8600a9242b97\",\"type\":\"LinearAxis\"},{\"id\":\"b4df211b-e316-4073-b20d-685ad7c5a18c\",\"type\":\"Grid\"},{\"id\":\"1ad52109-29f7-47b6-8f77-68e54714a28d\",\"type\":\"BoxAnnotation\"},{\"id\":\"faa1addd-ee9d-48de-9ab8-676e1ced6fc7\",\"type\":\"BoxAnnotation\"},{\"id\":\"0232a479-c9a5-4567-9060-53aa962baf38\",\"type\":\"PolyAnnotation\"},{\"id\":\"44041b72-76ac-4f1d-ad9f-40fd279482d5\",\"type\":\"PolyAnnotation\"},{\"id\":\"37b04157-b248-4c0b-996e-bbb8deafc98e\",\"type\":\"GlyphRenderer\"}],\"title\":{\"id\":\"c96caf63-d1c1-4067-8866-954392e78924\",\"type\":\"Title\"},\"tool_events\":{\"id\":\"8078565f-dd98-47f1-bfcb-a5c80a9d491d\",\"type\":\"ToolEvents\"},\"toolbar\":{\"id\":\"1fda3937-78de-424b-abb1-38212ff5ad85\",\"type\":\"Toolbar\"},\"x_range\":{\"id\":\"43efb792-8b80-44be-92a5-714072e48917\",\"type\":\"DataRange1d\"},\"y_range\":{\"id\":\"39b4c615-3d76-4376-8aad-10f7a4b853a2\",\"type\":\"DataRange1d\"}},\"id\":\"df643ca3-9b12-496d-9861-29f9a31176b0\",\"subtype\":\"Figure\",\"type\":\"Plot\"},{\"attributes\":{\"callback\":null,\"column_names\":[\"x\",\"y\"],\"data\":{\"x\":[32.07588577270508,32.09952926635742,141.70115661621094,12.509891510009766,72.8285903930664,33.463401794433594,75.87440490722656,20.467500686645508,40.067955017089844,38.05021667480469,60.80686950683594,404.9606628417969,690.6768798828125,36.73493194580078,20.03458023071289,32.71116256713867,75.50982666015625,19.434465408325195,273.22406005859375,18.94425392150879,29.11664581298828,28.225595474243164,39.070804595947266,83.79254913330078,28.92857551574707,36.391265869140625,504.7098693847656,50.166908264160156,127.02404022216797,38.824649810791016,151.09121704101562,38.156944274902344,237.8549041748047,28.827083587646484,37.656517028808594,83.2459487915039,31.87458610534668,35.247528076171875,11.432004928588867,37.42020797729492,264.3011474609375,160.32106018066406,37.068050384521484,37.997859954833984,26.720232009887695,75.29429626464844,18.175308227539062,22.9581356048584,38.605831146240234,41.02602767944336,95.41436767578125,11.208556175231934,269.3138427734375,28.459922790527344,41.49311447143555,184.3853302001953,62.76468276977539,34.90652084350586,77.1693115234375,14.366701126098633,43.07708740234375,42.476318359375,23.526063919067383,321.0450744628906,141.38473510742188,258.7670593261719,91.02681732177734,6.65962553024292,34.78752136230469,953.9707641601562,32.66852569580078,27.321001052856445,219.65089416503906,178.76828002929688,45.776092529296875,455.3492431640625,122.633544921875,105.01395416259766,58.009300231933594,24.013423919677734,37.94822311401367,40.449344635009766,30.348217010498047,32.11614990234375,121.19746398925781,305.9460754394531,43.51033401489258,12.547215461730957,36.680423736572266,41.911834716796875,172.27635192871094,35.4856071472168,431.600341796875,26.195722579956055,31.279409408569336,108.45572662353516,41.01897048950195,30.620098114013672,39.19851303100586,220.55813598632812,33.00889587402344,34.29342269897461,46.451873779296875,15.841618537902832,158.47618103027344,29.39723014831543,171.4294891357422,283.40423583984375,92.70172119140625,36.34728240966797,61.14181900024414,34.21435546875,36.68741989135742,27.86016845703125,14.080726623535156,36.131404876708984,33.270530700683594,42.97443771362305,40.99214553833008,73.48125457763672,137.1764678955078,33.60357666015625,36.13155746459961,53.05377197265625,289.35406494140625,113.87456512451172,38.60449981689453,37.24198913574219,29.31943130493164,39.16562271118164,145.4333953857422,37.9937629699707,33.586395263671875,111.44281768798828,38.9178581237793,37.31303787231445,93.51942443847656,46.76654815673828,35.37102508544922,53.035160064697266,115.11306762695312,42.19401550292969,26.21364402770996,36.16120529174805,32.0462646484375,43.05866241455078,5.966873645782471,350.7664794921875,27.65427589416504,861.6447143554688,33.548187255859375,30.842708587646484,29.16290283203125,31.948957443237305,182.86807250976562,26.78738784790039,28.49322509765625,39.444156646728516,18.096240997314453,1129.7054443359375,15.020798683166504,222.97108459472656,32.21329116821289,374.73486328125,32.10934829711914,24.614809036254883,27.306806564331055],\"y\":[12.075885772705078,-20.900470733642578,9.701156616210938,-12.490108489990234,-15.171409606933594,-20.536598205566406,0.8744049072265625,3.467500686645508,12.067955017089844,3.0502166748046875,-19.193130493164062,44.960662841796875,-58.3231201171875,-4.265068054199219,-5.965419769287109,-11.288837432861328,-6.49017333984375,-8.565534591674805,-1.77593994140625,0.9442539215087891,2.1166458129882812,-5.774404525756836,11.070804595947266,-18.20745086669922,-5.07142448425293,-5.608734130859375,78.70986938476562,-6.833091735839844,3.0240402221679688,19.824649810791016,23.091217041015625,8.156944274902344,-43.14509582519531,9.827083587646484,18.656517028808594,-2.7540512084960938,-13.12541389465332,6.247528076171875,-16.567995071411133,15.420207977294922,44.3011474609375,34.32106018066406,22.068050384521484,15.997859954833984,-4.279767990112305,-5.7057037353515625,-16.824691772460938,4.958135604858398,14.605831146240234,4.026027679443359,0.41436767578125,-7.791443824768066,16.3138427734375,-5.540077209472656,17.493114471435547,2.3853302001953125,-11.23531723022461,11.90652084350586,-0.8306884765625,-8.633298873901367,19.07708740234375,18.476318359375,-23.473936080932617,51.045074462890625,28.384735107421875,5.767059326171875,9.026817321777344,-13.34037446975708,-12.212478637695312,-24.02923583984375,-1.3314743041992188,-3.6789989471435547,20.650894165039062,7.768280029296875,12.776092529296875,94.3492431640625,9.633544921875,-11.986045837402344,-15.990699768066406,-8.986576080322266,-0.051776885986328125,4.449344635009766,2.348217010498047,-8.88385009765625,4.1974639892578125,38.946075439453125,-1.4896659851074219,-5.452784538269043,15.680423736572266,4.911834716796875,-17.723648071289062,-11.514392852783203,50.600341796875,-1.8042774200439453,6.279409408569336,-7.544273376464844,15.018970489501953,10.620098114013672,4.198513031005859,39.558135986328125,4.0088958740234375,10.29342269897461,-18.548126220703125,-2.158381462097168,22.476181030273438,-4.60276985168457,14.429489135742188,30.40423583984375,-8.29827880859375,11.347282409667969,-12.85818099975586,6.21435546875,-9.312580108642578,-25.13983154296875,-14.919273376464844,-7.868595123291016,-12.729469299316406,6.974437713623047,-0.007854461669921875,-8.518745422363281,-0.8235321044921875,5.60357666015625,-5.868442535400391,-8.94622802734375,23.35406494140625,11.874565124511719,13.604499816894531,-6.7580108642578125,-1.6805686950683594,-34.83437728881836,3.4333953857421875,-3.006237030029297,-9.413604736328125,-7.557182312011719,11.917858123779297,22.313037872314453,20.519424438476562,-17.23345184326172,-17.62897491455078,-22.964839935302734,-4.886932373046875,18.194015502929688,6.213644027709961,-13.838794708251953,11.0462646484375,-36.94133758544922,-24.03312635421753,9.7664794921875,3.654275894165039,-57.35528564453125,3.548187255859375,-25.157291412353516,-4.83709716796875,-21.051042556762695,7.868072509765625,-20.21261215209961,-3.50677490234375,16.444156646728516,-20.903759002685547,-108.2945556640625,-4.979201316833496,-4.0289154052734375,12.21329116821289,-7.26513671875,6.109348297119141,-3.385190963745117,-39.693193435668945]}},\"id\":\"ec3fb18e-46c5-46d8-89f0-e6e5bb97a5d6\",\"type\":\"ColumnDataSource\"},{\"attributes\":{\"fill_alpha\":{\"value\":0.5},\"fill_color\":{\"value\":\"lightgrey\"},\"level\":\"overlay\",\"line_alpha\":{\"value\":1.0},\"line_color\":{\"value\":\"black\"},\"line_dash\":[4,4],\"line_width\":{\"value\":2},\"plot\":null,\"xs_units\":\"screen\",\"ys_units\":\"screen\"},\"id\":\"44041b72-76ac-4f1d-ad9f-40fd279482d5\",\"type\":\"PolyAnnotation\"},{\"attributes\":{\"plot\":{\"id\":\"df643ca3-9b12-496d-9861-29f9a31176b0\",\"subtype\":\"Figure\",\"type\":\"Plot\"}},\"id\":\"7aa8a6e0-5201-4fa7-a1b1-d79cff438c00\",\"type\":\"SaveTool\"},{\"attributes\":{\"callback\":null,\"overlay\":{\"id\":\"faa1addd-ee9d-48de-9ab8-676e1ced6fc7\",\"type\":\"BoxAnnotation\"},\"plot\":{\"id\":\"df643ca3-9b12-496d-9861-29f9a31176b0\",\"subtype\":\"Figure\",\"type\":\"Plot\"},\"renderers\":[{\"id\":\"37b04157-b248-4c0b-996e-bbb8deafc98e\",\"type\":\"GlyphRenderer\"}]},\"id\":\"51c65d81-3304-4b5e-931f-b0f80bbb76c3\",\"type\":\"BoxSelectTool\"},{\"attributes\":{\"active_drag\":\"auto\",\"active_scroll\":\"auto\",\"active_tap\":\"auto\",\"tools\":[{\"id\":\"9d655c36-b814-4bb5-a5f0-5a4255d0ee7e\",\"type\":\"BoxZoomTool\"},{\"id\":\"51c65d81-3304-4b5e-931f-b0f80bbb76c3\",\"type\":\"BoxSelectTool\"},{\"id\":\"8505d134-46bc-4b49-bd1b-7ece5f1efcdc\",\"type\":\"CrosshairTool\"},{\"id\":\"d682462c-25e1-432b-9d8a-802c7da5c02d\",\"type\":\"ResizeTool\"},{\"id\":\"3e27d6ca-632a-492b-aea3-75ac8588cc1b\",\"type\":\"ResetTool\"},{\"id\":\"1a68d8a8-c53a-4a7b-9044-63b6e54ebe44\",\"type\":\"LassoSelectTool\"},{\"id\":\"69cebd24-7088-49f2-9920-3a8277aa261b\",\"type\":\"PanTool\"},{\"id\":\"7aa8a6e0-5201-4fa7-a1b1-d79cff438c00\",\"type\":\"SaveTool\"},{\"id\":\"4e24a9e3-c021-47df-bc11-bc6a0851bd5a\",\"type\":\"PolySelectTool\"},{\"id\":\"cd6b70fb-65fe-4975-b10d-e1e348e48d28\",\"type\":\"TapTool\"},{\"id\":\"d04b21cb-120b-464a-9f5f-916944da3ea0\",\"type\":\"WheelZoomTool\"},{\"id\":\"210f6479-8dcd-4394-b646-1115da6fb276\",\"type\":\"UndoTool\"}]},\"id\":\"1fda3937-78de-424b-abb1-38212ff5ad85\",\"type\":\"Toolbar\"},{\"attributes\":{\"plot\":{\"id\":\"df643ca3-9b12-496d-9861-29f9a31176b0\",\"subtype\":\"Figure\",\"type\":\"Plot\"}},\"id\":\"3e27d6ca-632a-492b-aea3-75ac8588cc1b\",\"type\":\"ResetTool\"},{\"attributes\":{\"overlay\":{\"id\":\"44041b72-76ac-4f1d-ad9f-40fd279482d5\",\"type\":\"PolyAnnotation\"},\"plot\":{\"id\":\"df643ca3-9b12-496d-9861-29f9a31176b0\",\"subtype\":\"Figure\",\"type\":\"Plot\"}},\"id\":\"4e24a9e3-c021-47df-bc11-bc6a0851bd5a\",\"type\":\"PolySelectTool\"},{\"attributes\":{\"fill_color\":{\"value\":\"#80B1D3\"},\"line_color\":{\"value\":\"#80B1D3\"},\"line_width\":{\"value\":3},\"x\":{\"field\":\"x\"},\"y\":{\"field\":\"y\"}},\"id\":\"7a942f30-dca0-47e6-b595-83bcea47bb70\",\"type\":\"Circle\"},{\"attributes\":{\"plot\":{\"id\":\"df643ca3-9b12-496d-9861-29f9a31176b0\",\"subtype\":\"Figure\",\"type\":\"Plot\"}},\"id\":\"d04b21cb-120b-464a-9f5f-916944da3ea0\",\"type\":\"WheelZoomTool\"}],\"root_ids\":[\"df643ca3-9b12-496d-9861-29f9a31176b0\"]},\"title\":\"Bokeh Application\",\"version\":\"0.12.2\"}};\n",
       "            var render_items = [{\"docid\":\"973f531e-1b80-45bb-a7f1-295fa5133d05\",\"elementid\":\"cfcea439-8069-46ba-b687-dbbcd0ad6f94\",\"modelid\":\"df643ca3-9b12-496d-9861-29f9a31176b0\"}];\n",
       "            \n",
       "            Bokeh.embed.embed_items(docs_json, render_items);\n",
       "        });\n",
       "      },\n",
       "      function(Bokeh) {\n",
       "      }\n",
       "    ];\n",
       "  \n",
       "    function run_inline_js() {\n",
       "      \n",
       "      if ((window.Bokeh !== undefined) || (force === \"1\")) {\n",
       "        for (var i = 0; i < inline_js.length; i++) {\n",
       "          inline_js[i](window.Bokeh);\n",
       "        }if (force === \"1\") {\n",
       "          display_loaded();\n",
       "        }} else if (Date.now() < window._bokeh_timeout) {\n",
       "        setTimeout(run_inline_js, 100);\n",
       "      } else if (!window._bokeh_failed_load) {\n",
       "        console.log(\"Bokeh: BokehJS failed to load within specified timeout.\");\n",
       "        window._bokeh_failed_load = true;\n",
       "      } else if (!force) {\n",
       "        var cell = $(\"#cfcea439-8069-46ba-b687-dbbcd0ad6f94\").parents('.cell').data().cell;\n",
       "        cell.output_area.append_execute_result(NB_LOAD_WARNING)\n",
       "      }\n",
       "  \n",
       "    }\n",
       "  \n",
       "    if (window._bokeh_is_loading === 0) {\n",
       "      console.log(\"Bokeh: BokehJS loaded, going straight to plotting\");\n",
       "      run_inline_js();\n",
       "    } else {\n",
       "      load_libs(js_urls, function() {\n",
       "        console.log(\"Bokeh: BokehJS plotting callback run at\", now());\n",
       "        run_inline_js();\n",
       "      });\n",
       "    }\n",
       "  }(this));\n",
       "</script>"
      ]
     },
     "metadata": {},
     "output_type": "display_data"
    }
   ],
   "source": [
    "# Plotining using bokeh\n",
    "#TOOLS = 'hover,box_zoom,box_select,crosshair,resize,reset,model_select,pan,save,poly_select,tap,wheel_zoom,undo'\n",
    "TOOLS = 'box_zoom,box_select,crosshair,resize,reset,lasso_select,pan,save,poly_select,tap,wheel_zoom,undo'\n",
    "p = figure(plot_width=500, plot_height=500, title=\"Residual plot on the training data\", tools=TOOLS)\n",
    "p.scatter(prediction, (prediction - Y),x=\"jjj\", marker=\"o\", color=\"#80B1D3\", line_width=3)\n",
    "p.title.align = \"center\"\n",
    "p.xaxis.axis_label = \"Predicted\"\n",
    "p.xaxis.axis_label_text_color = \"#aa6666\"\n",
    "#p.xaxis.axis_label_standoff = 30\n",
    "p.xaxis.major_tick_line_color = \"firebrick\"\n",
    "p.xaxis.major_tick_line_width = 3\n",
    "p.xaxis.minor_tick_line_color = \"orange\"\n",
    "p.yaxis.axis_label = \"Residuals\"\n",
    "p.yaxis.axis_label_text_font_style = \"italic\"\n",
    "p.yaxis.axis_label_text_color = \"#aa6666\"\n",
    "p.background_fill_color = \"beige\"\n",
    "p.background_fill_alpha = 0.5\n",
    "#p.line([2,38], [0, 0], line_dash=\"4 4\", line_width=2, color='red')\n",
    "show(p)"
   ]
  },
  {
   "cell_type": "code",
   "execution_count": 27,
   "metadata": {
    "collapsed": false
   },
   "outputs": [
    {
     "name": "stdout",
     "output_type": "stream",
     "text": [
      "Epoch 1/10\n",
      "167/167 [==============================] - 0s - loss: 463.4162     \n",
      "Epoch 2/10\n",
      "167/167 [==============================] - 0s - loss: 462.7962     \n",
      "Epoch 3/10\n",
      "167/167 [==============================] - 0s - loss: 463.1456     \n",
      "Epoch 4/10\n",
      "167/167 [==============================] - 0s - loss: 462.4149     \n",
      "Epoch 5/10\n",
      "167/167 [==============================] - 0s - loss: 462.0293     \n",
      "Epoch 6/10\n",
      "167/167 [==============================] - 0s - loss: 461.8290     \n",
      "Epoch 7/10\n",
      "167/167 [==============================] - 0s - loss: 461.3111     \n",
      "Epoch 8/10\n",
      "167/167 [==============================] - 0s - loss: 460.8929     \n",
      "Epoch 9/10\n",
      "167/167 [==============================] - 0s - loss: 460.5826     \n",
      "Epoch 10/10\n",
      "167/167 [==============================] - 0s - loss: 460.4377     \n",
      "R-squared =  0.982620112842\n"
     ]
    },
    {
     "name": "stderr",
     "output_type": "stream",
     "text": [
      "/home/salm/anaconda2/lib/python2.7/site-packages/sklearn/utils/validation.py:420: DataConversionWarning: Data with input dtype int64 was converted to float64 by StandardScaler.\n",
      "  warnings.warn(msg, DataConversionWarning)\n",
      "/home/salm/anaconda2/lib/python2.7/site-packages/sklearn/utils/validation.py:420: DataConversionWarning: Data with input dtype int64 was converted to float64 by StandardScaler.\n",
      "  warnings.warn(msg, DataConversionWarning)\n",
      "/home/salm/anaconda2/lib/python2.7/site-packages/sklearn/utils/validation.py:420: DataConversionWarning: Data with input dtype int64 was converted to float64 by StandardScaler.\n",
      "  warnings.warn(msg, DataConversionWarning)\n"
     ]
    }
   ],
   "source": [
    "# Using make_pipeline\n",
    "from sklearn.pipeline import make_pipeline\n",
    "\n",
    "# ANOVA SVM-C\n",
    "# 1) anova filter, take 3 best ranked features\n",
    "DLRegressor = make_pipeline(scaler, model)\n",
    "DLRegressor.fit(new_data, Y)\n",
    "prediction = DLRegressor.predict(new_data)\n",
    "r_squared = r2_score(Y, prediction, multioutput='variance_weighted')\n",
    "print 'R-squared = ',r_squared"
   ]
  },
  {
   "cell_type": "markdown",
   "metadata": {},
   "source": [
    "### Save the Pipeline model for developement"
   ]
  },
  {
   "cell_type": "markdown",
   "metadata": {},
   "source": [
    "## I can save keras in pipleine"
   ]
  },
  {
   "cell_type": "code",
   "execution_count": 28,
   "metadata": {
    "collapsed": false
   },
   "outputs": [],
   "source": [
    "model.save_weights('Boston_House_Modelbest.hdf5',overwrite=True)"
   ]
  },
  {
   "cell_type": "code",
   "execution_count": 29,
   "metadata": {
    "collapsed": false
   },
   "outputs": [
    {
     "name": "stdout",
     "output_type": "stream",
     "text": [
      " =================================================================>>>>> done\n",
      "R-squared =  0.982620112842\n"
     ]
    }
   ],
   "source": [
    "# Test the model if it is work\n",
    "model.load_weights('Boston_House_Modelbest.hdf5')\n",
    "\n",
    "NewPred = model.predict(X)\n",
    "print \" =================================================================>>>>> done\"\n",
    "r_squared = r2_score(Y, NewPred, multioutput='variance_weighted')\n",
    "print 'R-squared = ',r_squared"
   ]
  },
  {
   "cell_type": "code",
   "execution_count": null,
   "metadata": {
    "collapsed": true
   },
   "outputs": [],
   "source": []
  },
  {
   "cell_type": "code",
   "execution_count": 30,
   "metadata": {
    "collapsed": false
   },
   "outputs": [
    {
     "name": "stdout",
     "output_type": "stream",
     "text": [
      "Point of training data before normalization\n",
      "[   50  2000 32000    24     6    26   114]\n",
      "\n",
      "The read target of the data =  182\n"
     ]
    }
   ],
   "source": [
    "# test on single data point, randomly choose point number 55\n",
    "print 'Point of training data before normalization\\n',new_data[55]\n",
    "print '\\nThe read target of the data = ', Y[55]\n"
   ]
  },
  {
   "cell_type": "code",
   "execution_count": 31,
   "metadata": {
    "collapsed": false
   },
   "outputs": [
    {
     "data": {
      "text/plain": [
       "array([-0.6318776 , -0.20866821,  1.65679241, -0.03458486,  0.16482565,\n",
       "        0.25071146,  0.04052743])"
      ]
     },
     "execution_count": 31,
     "metadata": {},
     "output_type": "execute_result"
    }
   ],
   "source": [
    "X[55]"
   ]
  },
  {
   "cell_type": "code",
   "execution_count": 32,
   "metadata": {
    "collapsed": false
   },
   "outputs": [
    {
     "name": "stdout",
     "output_type": "stream",
     "text": [
      " =================================================================>>>>> done\n",
      "[[-0.6318776  -0.20866821  1.65679241 -0.03458486  0.16482565  0.25071146\n",
      "   0.04052743]]\n"
     ]
    },
    {
     "name": "stderr",
     "output_type": "stream",
     "text": [
      "/home/salm/anaconda2/lib/python2.7/site-packages/sklearn/utils/validation.py:420: DataConversionWarning: Data with input dtype int64 was converted to float64 by StandardScaler.\n",
      "  warnings.warn(msg, DataConversionWarning)\n"
     ]
    }
   ],
   "source": [
    "# Test the model if it is work\n",
    "scalerTest = joblib.load('scaler.pkl')\n",
    "new_data_scaled = scalerTest.transform(new_data[55].reshape(1, -1))\n",
    "print \" =================================================================>>>>> done\"\n",
    "print new_data_scaled"
   ]
  },
  {
   "cell_type": "code",
   "execution_count": 33,
   "metadata": {
    "collapsed": false
   },
   "outputs": [
    {
     "name": "stdout",
     "output_type": "stream",
     "text": [
      "\n",
      "The Predicted target of the data =  [[ 184.27151489]]\n"
     ]
    }
   ],
   "source": [
    "NewPred = model.predict(new_data_scaled, verbose=0)\n",
    "print '\\nThe Predicted target of the data = ', NewPred"
   ]
  },
  {
   "cell_type": "markdown",
   "metadata": {},
   "source": [
    "## Conclusion "
   ]
  }
 ],
 "metadata": {
  "kernelspec": {
   "display_name": "Python 2",
   "language": "python",
   "name": "python2"
  },
  "language_info": {
   "codemirror_mode": {
    "name": "ipython",
    "version": 2
   },
   "file_extension": ".py",
   "mimetype": "text/x-python",
   "name": "python",
   "nbconvert_exporter": "python",
   "pygments_lexer": "ipython2",
   "version": "2.7.12"
  }
 },
 "nbformat": 4,
 "nbformat_minor": 0
}
