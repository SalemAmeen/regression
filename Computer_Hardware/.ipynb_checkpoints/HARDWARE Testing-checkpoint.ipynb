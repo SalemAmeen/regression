{
 "cells": [
  {
   "cell_type": "markdown",
   "metadata": {},
   "source": [
    "Load the testing data (Unseen data)"
   ]
  },
  {
   "cell_type": "code",
   "execution_count": 1,
   "metadata": {
    "collapsed": false
   },
   "outputs": [
    {
     "name": "stderr",
     "output_type": "stream",
     "text": [
      "Using Theano backend.\n",
      "Using gpu device 0: GeForce GTX TITAN X (CNMeM is disabled, cuDNN 5005)\n"
     ]
    },
    {
     "data": {
      "text/html": [
       "\n",
       "    <div class=\"bk-root\">\n",
       "        <a href=\"http://bokeh.pydata.org\" target=\"_blank\" class=\"bk-logo bk-logo-small bk-logo-notebook\"></a>\n",
       "        <span id=\"54347e79-2880-4943-a638-15b552301972\">Loading BokehJS ...</span>\n",
       "    </div>"
      ]
     },
     "metadata": {},
     "output_type": "display_data"
    },
    {
     "data": {
      "application/javascript": [
       "\n",
       "(function(global) {\n",
       "  function now() {\n",
       "    return new Date();\n",
       "  }\n",
       "\n",
       "  var force = \"1\";\n",
       "\n",
       "  if (typeof (window._bokeh_onload_callbacks) === \"undefined\" || force !== \"\") {\n",
       "    window._bokeh_onload_callbacks = [];\n",
       "    window._bokeh_is_loading = undefined;\n",
       "  }\n",
       "\n",
       "\n",
       "  \n",
       "  if (typeof (window._bokeh_timeout) === \"undefined\" || force !== \"\") {\n",
       "    window._bokeh_timeout = Date.now() + 5000;\n",
       "    window._bokeh_failed_load = false;\n",
       "  }\n",
       "\n",
       "  var NB_LOAD_WARNING = {'data': {'text/html':\n",
       "     \"<div style='background-color: #fdd'>\\n\"+\n",
       "     \"<p>\\n\"+\n",
       "     \"BokehJS does not appear to have successfully loaded. If loading BokehJS from CDN, this \\n\"+\n",
       "     \"may be due to a slow or bad network connection. Possible fixes:\\n\"+\n",
       "     \"</p>\\n\"+\n",
       "     \"<ul>\\n\"+\n",
       "     \"<li>re-rerun `output_notebook()` to attempt to load from CDN again, or</li>\\n\"+\n",
       "     \"<li>use INLINE resources instead, as so:</li>\\n\"+\n",
       "     \"</ul>\\n\"+\n",
       "     \"<code>\\n\"+\n",
       "     \"from bokeh.resources import INLINE\\n\"+\n",
       "     \"output_notebook(resources=INLINE)\\n\"+\n",
       "     \"</code>\\n\"+\n",
       "     \"</div>\"}};\n",
       "\n",
       "  function display_loaded() {\n",
       "    if (window.Bokeh !== undefined) {\n",
       "      Bokeh.$(\"#54347e79-2880-4943-a638-15b552301972\").text(\"BokehJS successfully loaded.\");\n",
       "    } else if (Date.now() < window._bokeh_timeout) {\n",
       "      setTimeout(display_loaded, 100)\n",
       "    }\n",
       "  }\n",
       "\n",
       "  function run_callbacks() {\n",
       "    window._bokeh_onload_callbacks.forEach(function(callback) { callback() });\n",
       "    delete window._bokeh_onload_callbacks\n",
       "    console.info(\"Bokeh: all callbacks have finished\");\n",
       "  }\n",
       "\n",
       "  function load_libs(js_urls, callback) {\n",
       "    window._bokeh_onload_callbacks.push(callback);\n",
       "    if (window._bokeh_is_loading > 0) {\n",
       "      console.log(\"Bokeh: BokehJS is being loaded, scheduling callback at\", now());\n",
       "      return null;\n",
       "    }\n",
       "    if (js_urls == null || js_urls.length === 0) {\n",
       "      run_callbacks();\n",
       "      return null;\n",
       "    }\n",
       "    console.log(\"Bokeh: BokehJS not loaded, scheduling load and callback at\", now());\n",
       "    window._bokeh_is_loading = js_urls.length;\n",
       "    for (var i = 0; i < js_urls.length; i++) {\n",
       "      var url = js_urls[i];\n",
       "      var s = document.createElement('script');\n",
       "      s.src = url;\n",
       "      s.async = false;\n",
       "      s.onreadystatechange = s.onload = function() {\n",
       "        window._bokeh_is_loading--;\n",
       "        if (window._bokeh_is_loading === 0) {\n",
       "          console.log(\"Bokeh: all BokehJS libraries loaded\");\n",
       "          run_callbacks()\n",
       "        }\n",
       "      };\n",
       "      s.onerror = function() {\n",
       "        console.warn(\"failed to load library \" + url);\n",
       "      };\n",
       "      console.log(\"Bokeh: injecting script tag for BokehJS library: \", url);\n",
       "      document.getElementsByTagName(\"head\")[0].appendChild(s);\n",
       "    }\n",
       "  };var element = document.getElementById(\"54347e79-2880-4943-a638-15b552301972\");\n",
       "  if (element == null) {\n",
       "    console.log(\"Bokeh: ERROR: autoload.js configured with elementid '54347e79-2880-4943-a638-15b552301972' but no matching script tag was found. \")\n",
       "    return false;\n",
       "  }\n",
       "\n",
       "  var js_urls = ['https://cdn.pydata.org/bokeh/release/bokeh-0.12.2.min.js', 'https://cdn.pydata.org/bokeh/release/bokeh-widgets-0.12.2.min.js', 'https://cdn.pydata.org/bokeh/release/bokeh-compiler-0.12.2.min.js'];\n",
       "\n",
       "  var inline_js = [\n",
       "    function(Bokeh) {\n",
       "      Bokeh.set_log_level(\"info\");\n",
       "    },\n",
       "    \n",
       "    function(Bokeh) {\n",
       "      \n",
       "      Bokeh.$(\"#54347e79-2880-4943-a638-15b552301972\").text(\"BokehJS is loading...\");\n",
       "    },\n",
       "    function(Bokeh) {\n",
       "      console.log(\"Bokeh: injecting CSS: https://cdn.pydata.org/bokeh/release/bokeh-0.12.2.min.css\");\n",
       "      Bokeh.embed.inject_css(\"https://cdn.pydata.org/bokeh/release/bokeh-0.12.2.min.css\");\n",
       "      console.log(\"Bokeh: injecting CSS: https://cdn.pydata.org/bokeh/release/bokeh-widgets-0.12.2.min.css\");\n",
       "      Bokeh.embed.inject_css(\"https://cdn.pydata.org/bokeh/release/bokeh-widgets-0.12.2.min.css\");\n",
       "    }\n",
       "  ];\n",
       "\n",
       "  function run_inline_js() {\n",
       "    \n",
       "    if ((window.Bokeh !== undefined) || (force === \"1\")) {\n",
       "      for (var i = 0; i < inline_js.length; i++) {\n",
       "        inline_js[i](window.Bokeh);\n",
       "      }if (force === \"1\") {\n",
       "        display_loaded();\n",
       "      }} else if (Date.now() < window._bokeh_timeout) {\n",
       "      setTimeout(run_inline_js, 100);\n",
       "    } else if (!window._bokeh_failed_load) {\n",
       "      console.log(\"Bokeh: BokehJS failed to load within specified timeout.\");\n",
       "      window._bokeh_failed_load = true;\n",
       "    } else if (!force) {\n",
       "      var cell = $(\"#54347e79-2880-4943-a638-15b552301972\").parents('.cell').data().cell;\n",
       "      cell.output_area.append_execute_result(NB_LOAD_WARNING)\n",
       "    }\n",
       "\n",
       "  }\n",
       "\n",
       "  if (window._bokeh_is_loading === 0) {\n",
       "    console.log(\"Bokeh: BokehJS loaded, going straight to plotting\");\n",
       "    run_inline_js();\n",
       "  } else {\n",
       "    load_libs(js_urls, function() {\n",
       "      console.log(\"Bokeh: BokehJS plotting callback run at\", now());\n",
       "      run_inline_js();\n",
       "    });\n",
       "  }\n",
       "}(this));"
      ]
     },
     "metadata": {},
     "output_type": "display_data"
    }
   ],
   "source": [
    "import numpy as np\n",
    "import time\n",
    "import matplotlib.pyplot as plt\n",
    "import matplotlib.gridspec as gridspec\n",
    "%matplotlib inline\n",
    "from IPython.display import set_matplotlib_formats\n",
    "set_matplotlib_formats('png', 'pdf')\n",
    "from keras.models import Sequential\n",
    "from keras.layers import Dense\n",
    "from keras.layers import Dropout\n",
    "import numpy\n",
    "from sklearn import metrics\n",
    "from sklearn import datasets\n",
    "from sklearn.metrics import r2_score\n",
    "import sys\n",
    "import numpy as np\n",
    "import pandas\n",
    "from numpy import *\n",
    "import time\n",
    "import sys\n",
    "import pandas as pd\n",
    "import matplotlib.pyplot as plt\n",
    "from sklearn import feature_selection\n",
    "\n",
    "from sklearn.ensemble import AdaBoostRegressor\n",
    "from sklearn.tree import DecisionTreeRegressor\n",
    "from sklearn.ensemble import BaggingRegressor\n",
    "from sklearn.neighbors import KNeighborsRegressor\n",
    "from sklearn.kernel_ridge import KernelRidge\n",
    "from sklearn.linear_model import Lasso,LassoCV\n",
    "from sklearn.linear_model import LinearRegression\n",
    "from sklearn.svm import SVR\n",
    "from sklearn.linear_model import BayesianRidge\n",
    "import xgboost\n",
    "from xgboost import XGBRegressor\n",
    "from xgboost import plot_tree\n",
    "from sklearn.learning_curve import learning_curve, validation_curve\n",
    "from sklearn.cross_validation import cross_val_predict\n",
    "from sklearn import metrics, grid_search, cross_validation\n",
    "from IPython.display import set_matplotlib_formats\n",
    "from bokeh.plotting import figure, show, output_notebook\n",
    "from sklearn.grid_search import GridSearchCV, RandomizedSearchCV\n",
    "from sklearn.metrics import r2_score\n",
    "from bokeh.layouts import gridplot\n",
    "output_notebook()\n",
    "set_matplotlib_formats('png', 'pdf')\n",
    "%matplotlib inline\n",
    "plt.rcParams['figure.figsize'] = (6, 6)\n",
    "sys.path.append(\"./data\")\n",
    "plt.rcParams['figure.figsize'] = (15, 10)"
   ]
  },
  {
   "cell_type": "markdown",
   "metadata": {},
   "source": [
    "# Load the Data"
   ]
  },
  {
   "cell_type": "code",
   "execution_count": 2,
   "metadata": {
    "collapsed": false
   },
   "outputs": [
    {
     "name": "stdout",
     "output_type": "stream",
     "text": [
      "Number of training examples 167\n",
      "Number of testing examples 42\n"
     ]
    }
   ],
   "source": [
    "X_train = np.load('./data/X_train.npy')\n",
    "y_train = np.load('./data/y_train.npy')\n",
    "X_deploy = np.load('./data/X_test.npy')\n",
    "y_deploy = np.load('./data/y_test.npy')\n",
    "\n",
    "print 'Number of training examples',len(X_train)\n",
    "print 'Number of testing examples',len(X_deploy)"
   ]
  },
  {
   "cell_type": "code",
   "execution_count": 3,
   "metadata": {
    "collapsed": false
   },
   "outputs": [
    {
     "data": {
      "text/plain": [
       "XGBRegressor(base_score=0.5, colsample_bylevel=1, colsample_bytree=1, gamma=0,\n",
       "       learning_rate=0.1, max_delta_step=0, max_depth=3,\n",
       "       min_child_weight=1, missing=None, n_estimators=100, nthread=-1,\n",
       "       objective='reg:linear', reg_alpha=0, reg_lambda=1,\n",
       "       scale_pos_weight=1, seed=0, silent=True, subsample=1)"
      ]
     },
     "execution_count": 3,
     "metadata": {},
     "output_type": "execute_result"
    }
   ],
   "source": [
    "XGBR = XGBRegressor()\n",
    "XGBR.fit(X_train, y_train)\n",
    "# plot single tree\n",
    "#plot_tree(XGBR)\n",
    "#plt.show()"
   ]
  },
  {
   "cell_type": "markdown",
   "metadata": {},
   "source": [
    "# Initialize the classifiers as the training time\n"
   ]
  },
  {
   "cell_type": "code",
   "execution_count": 4,
   "metadata": {
    "collapsed": false
   },
   "outputs": [
    {
     "data": {
      "text/plain": [
       "BayesianRidge(alpha_1=-1.0, alpha_2=-1.0, compute_score=False, copy_X=True,\n",
       "       fit_intercept=True, lambda_1=1.0, lambda_2=-1.0, n_iter=300,\n",
       "       normalize=False, tol=0.001, verbose=False)"
      ]
     },
     "execution_count": 4,
     "metadata": {},
     "output_type": "execute_result"
    }
   ],
   "source": [
    "# Ada boost\n",
    "ada_boost = AdaBoostRegressor(n_estimators = 5, loss = \"exponential\")\n",
    "ada_boost.fit(X_train, y_train)\n",
    "# Bagging\n",
    "bagging = BaggingRegressor(n_estimators = 5)\n",
    "bagging.fit(X_train, y_train)\n",
    "# Decision tree\n",
    "DT =  DecisionTreeRegressor(min_samples_split = 3, max_depth = 7, min_samples_leaf =1 )\n",
    "DT.fit(X_train, y_train)\n",
    "# K nearst neighbours regression\n",
    "KNN = KNeighborsRegressor(n_neighbors = 4, algorithm = 'kd_tree')\n",
    "KNN.fit(X_train, y_train)\n",
    "# Kernel KernelRidge regression\n",
    "KKR = KernelRidge(kernel='rbf', gamma=0.052, alpha =  0.0216)\n",
    "KKR.fit(X_train, y_train)\n",
    "# LASSO Regression\n",
    "LASSO = Lasso(alpha = 0.2631578947368459, precompute = False)\n",
    "LASSO.fit(X_train, y_train)\n",
    "# Ordinary Least Squares  \n",
    "LR = LinearRegression()\n",
    "LR.fit(X_train, y_train)\n",
    "# SVM regrsiion\n",
    "SVMR = SVR(kernel = \"linear\", C = 5.0 )\n",
    "SVMR.fit(X_train, y_train)\n",
    "# Xgboost\n",
    "Xbost = xgboost.XGBRegressor()\n",
    "Xbost.fit(X_train, y_train)\n",
    "# Bayesian Ridge Regression\n",
    "Bayesian = BayesianRidge(lambda_1 = 1.0, lambda_2 = -1.0, alpha_1 = -1.0, alpha_2=-1.0)\n",
    "Bayesian.fit(X_train, y_train)"
   ]
  },
  {
   "cell_type": "code",
   "execution_count": 5,
   "metadata": {
    "collapsed": false
   },
   "outputs": [],
   "source": [
    "import seaborn as sns\n",
    "import numpy as np\n",
    "from sklearn.cross_validation import train_test_split\n",
    "from keras.models import Sequential\n",
    "from keras.layers import Dense, Dropout\n",
    "from keras.regularizers import l2\n",
    "\n",
    "from keras.utils import np_utils                                      \n",
    "labelsTrain =  y_train\n",
    "labelsDepy =   y_deploy                                         \n",
    "model = Sequential()\n",
    "model.add(Dense(40, input_dim=7, init='normal', activation='relu'))\n",
    "model.add(Dense(1, init='normal'))\n",
    "\n",
    "model.load_weights('Boston_House_Modelbest.hdf5')\n",
    "model.compile(loss='mean_squared_error', optimizer='adam')"
   ]
  },
  {
   "cell_type": "code",
   "execution_count": 6,
   "metadata": {
    "collapsed": false
   },
   "outputs": [],
   "source": [
    "# MAB_NN(3.33%REMOVED) MODEL1    1               \n",
    "model1 = Sequential()\n",
    "model1.add(Dense(40, input_dim=7, init='normal', activation='relu'))\n",
    "model1.add(Dense(1, init='normal'))\n",
    "model1.load_weights('./IrisUCB1/spam0.hdf5')\n",
    "model1.compile(loss='mean_squared_error', optimizer='adam')"
   ]
  },
  {
   "cell_type": "code",
   "execution_count": 7,
   "metadata": {
    "collapsed": false
   },
   "outputs": [],
   "source": [
    "# MAB_NN(16.7%REMOVED) MODEL2 5\n",
    "model2 = Sequential()\n",
    "model2.add(Dense(40, input_dim=7, init='normal', activation='relu'))\n",
    "model2.add(Dense(1, init='normal'))\n",
    "model2.load_weights('./IrisUCB1/spam4.hdf5')\n",
    "model2.compile(loss='mean_squared_error', optimizer='adam')"
   ]
  },
  {
   "cell_type": "code",
   "execution_count": 8,
   "metadata": {
    "collapsed": false
   },
   "outputs": [],
   "source": [
    "# MAB_NN(33.33%REMOVED) MODEL3 10\n",
    "model3 = Sequential()\n",
    "model3.add(Dense(40, input_dim=7, init='normal', activation='relu'))\n",
    "model3.add(Dense(1, init='normal'))\n",
    "model3.load_weights('./IrisUCB1/spam9.hdf5')\n",
    "model3.compile(loss='mean_squared_error', optimizer='adam')"
   ]
  },
  {
   "cell_type": "markdown",
   "metadata": {},
   "source": [
    "## Deployment Time"
   ]
  },
  {
   "cell_type": "code",
   "execution_count": 9,
   "metadata": {
    "collapsed": false
   },
   "outputs": [
    {
     "name": "stdout",
     "output_type": "stream",
     "text": [
      "The time of Ada boost is         0.000572919845581 seconds\n",
      "The time of bagging is           0.000722885131836 seconds\n",
      "The time of decision tree is     0.000185012817383 seconds\n",
      "The time of KNN is               0.000611066818237 seconds\n",
      "The time of Kernel Ridge is      0.000619173049927 seconds\n",
      "The time of LASSO is             0.000233173370361 seconds\n",
      "The time of Ordi. Least Sq. is  0.000174045562744 seconds\n",
      "The time of SVM is               0.000332117080688 seconds\n",
      "The time of Xgboost is           0.00190401077271 seconds\n",
      "The time of Bayesian is          0.000184059143066 seconds\n",
      "The time of NN is                0.155811071396 seconds\n",
      "The time of NN3.33 is            0.0711810588837 seconds\n",
      "The time of NN16.7 is             0.114305019379 seconds\n",
      "The time of NN33.3 is            0.0444779396057 seconds\n"
     ]
    }
   ],
   "source": [
    "# Ada boost\n",
    "start_time = time.time()\n",
    "ada_boost = ada_boost.predict(X_deploy)\n",
    "print(\"The time of Ada boost is         %s seconds\" % (time.time() - start_time))\n",
    "# Bagging\n",
    "start_time = time.time()\n",
    "bagging = bagging.predict(X_deploy)\n",
    "print(\"The time of bagging is           %s seconds\" % (time.time() - start_time))\n",
    "# Decision tree\n",
    "start_time = time.time()\n",
    "DT = DT.predict(X_deploy)\n",
    "print(\"The time of decision tree is     %s seconds\" % (time.time() - start_time))\n",
    "# K nearst neighbours regression\n",
    "start_time = time.time()\n",
    "KNN = KNN.predict(X_deploy)\n",
    "print(\"The time of KNN is               %s seconds\" % (time.time() - start_time))\n",
    "# Kernel Ridge regression\n",
    "start_time = time.time()\n",
    "KKR = KKR.predict(X_deploy)\n",
    "print(\"The time of Kernel Ridge is      %s seconds\" % (time.time() - start_time))\n",
    "# LASSO Regression\n",
    "start_time = time.time()\n",
    "LASSO = LASSO.predict(X_deploy)\n",
    "print(\"The time of LASSO is             %s seconds\" % (time.time() - start_time))\n",
    "# Ordinary Least Squares  \n",
    "start_time = time.time()\n",
    "LR = LR.predict(X_deploy)\n",
    "print(\"The time of Ordi. Least Sq. is  %s seconds\" % (time.time() - start_time))\n",
    "# SVM regrsiion\n",
    "start_time = time.time()\n",
    "SVMR = SVMR.predict(X_deploy)\n",
    "print(\"The time of SVM is               %s seconds\" % (time.time() - start_time))\n",
    "# Xgboost\n",
    "start_time = time.time()\n",
    "Xbost = Xbost.predict(X_deploy)\n",
    "print(\"The time of Xgboost is           %s seconds\" % (time.time() - start_time))\n",
    "\n",
    "\n",
    "\n",
    "# Bayesian Ridge Regression\n",
    "start_time = time.time()\n",
    "Bayesian = Bayesian.predict(X_deploy)\n",
    "print(\"The time of Bayesian is          %s seconds\" % (time.time() - start_time))\n",
    "\n",
    "\n",
    "\n",
    "\n",
    "# NN\n",
    "start_time = time.time()\n",
    "modell = model.predict(X_deploy)\n",
    "print(\"The time of NN is                %s seconds\" % (time.time() - start_time))\n",
    "start_time = time.time()\n",
    "modell1 = model1.predict(X_deploy)\n",
    "print(\"The time of NN3.33 is            %s seconds\" % (time.time() - start_time))\n",
    "start_time = time.time()\n",
    "modell2 = model2.predict(X_deploy)\n",
    "print(\"The time of NN16.7 is             %s seconds\" % (time.time() - start_time))\n",
    "start_time = time.time()\n",
    "modell3 = model3.predict(X_deploy)\n",
    "print(\"The time of NN33.3 is            %s seconds\" % (time.time() - start_time))"
   ]
  },
  {
   "cell_type": "markdown",
   "metadata": {
    "collapsed": true
   },
   "source": [
    "# R_squared of the models on Testing data"
   ]
  },
  {
   "cell_type": "code",
   "execution_count": 10,
   "metadata": {
    "collapsed": true
   },
   "outputs": [],
   "source": [
    "predicted = model.predict(X_deploy)\n",
    "r_squared = r2_score(y_deploy, predicted, multioutput='variance_weighted')"
   ]
  },
  {
   "cell_type": "code",
   "execution_count": 11,
   "metadata": {
    "collapsed": false
   },
   "outputs": [
    {
     "name": "stdout",
     "output_type": "stream",
     "text": [
      "The r_squared of Ada boost:       \t0.843750470773\n",
      "The r_squared of bagging:         \t0.897310432276\n",
      "The r_squared of decision tree:   \t0.909935238851\n",
      "The r_squared of KNN:             \t0.890525913809\n",
      "The r_squared of Kernel Ridge:    \t0.807478256384\n",
      "The r_squared of LASSO:           \t0.904368488839\n",
      "The r_squared of Ordi. Least Sq.: \t0.902125405611\n",
      "The r_squared of SVM:             \t0.937191925218\n",
      "The r_squared of Xgboost:         \t0.920264775595\n",
      "The r_squared of Bayesian Ridge : \t-0.0178827592196\n",
      "The r_squared of NN:              \t0.940692494748\n",
      "The r_squared of NN3.33:          \t0.948506493226\n",
      "The r_squared of NN16.7:          \t0.941109733843\n",
      "The r_squared of NN33.3:          \t0.844637779477\n"
     ]
    }
   ],
   "source": [
    "print \"The r_squared of Ada boost:       \\t\", r2_score(y_deploy, ada_boost, multioutput='variance_weighted')\n",
    "print \"The r_squared of bagging:         \\t\", r2_score(y_deploy, bagging, multioutput='variance_weighted')\n",
    "print \"The r_squared of decision tree:   \\t\", r2_score(y_deploy, DT, multioutput='variance_weighted')\n",
    "print \"The r_squared of KNN:             \\t\", r2_score(y_deploy, KNN, multioutput='variance_weighted')\n",
    "print \"The r_squared of Kernel Ridge:    \\t\", r2_score(y_deploy, KKR, multioutput='variance_weighted')\n",
    "print \"The r_squared of LASSO:           \\t\", r2_score(y_deploy, LASSO, multioutput='variance_weighted')\n",
    "print \"The r_squared of Ordi. Least Sq.: \\t\", r2_score(y_deploy, LR, multioutput='variance_weighted')\n",
    "print \"The r_squared of SVM:             \\t\", r2_score(y_deploy, SVMR, multioutput='variance_weighted')\n",
    "print \"The r_squared of Xgboost:         \\t\", r2_score(y_deploy, Xbost, multioutput='variance_weighted')\n",
    "print \"The r_squared of Bayesian Ridge : \\t\", r2_score(y_deploy, Bayesian, multioutput='variance_weighted')\n",
    "print \"The r_squared of NN:              \\t\", r2_score(y_deploy, modell, multioutput='variance_weighted')\n",
    "print \"The r_squared of NN3.33:          \\t\", r2_score(y_deploy, modell1, multioutput='variance_weighted')\n",
    "print \"The r_squared of NN16.7:          \\t\", r2_score(y_deploy, modell2, multioutput='variance_weighted')\n",
    "print \"The r_squared of NN33.3:          \\t\", r2_score(y_deploy, modell3, multioutput='variance_weighted')"
   ]
  },
  {
   "cell_type": "markdown",
   "metadata": {
    "collapsed": true
   },
   "source": [
    "# Plot the results"
   ]
  },
  {
   "cell_type": "code",
   "execution_count": 13,
   "metadata": {
    "collapsed": false
   },
   "outputs": [
    {
     "data": {
      "application/pdf": "[encoded data removed]",
      "image/png": "[encoded data removed]",
      "text/plain": [
       "<matplotlib.figure.Figure at 0x7fefd14a0350>"
      ]
     },
     "metadata": {},
     "output_type": "display_data"
    }
   ],
   "source": [
    "fig = plt.figure()\n",
    "plt.rcParams['figure.figsize'] = (15, 6)\n",
    "ax = fig.add_subplot(111)\n",
    "\n",
    "accData = [r2_score(y_deploy, ada_boost, multioutput='variance_weighted'),\n",
    "           r2_score(y_deploy, bagging, multioutput='variance_weighted'),\n",
    "           r2_score(y_deploy, DT, multioutput='variance_weighted'),\n",
    "           r2_score(y_deploy, KNN, multioutput='variance_weighted'),\n",
    "           r2_score(y_deploy, KKR, multioutput='variance_weighted'),\n",
    "           r2_score(y_deploy, LASSO, multioutput='variance_weighted'),\n",
    "           r2_score(y_deploy, LR, multioutput='variance_weighted'),\n",
    "           r2_score(y_deploy, SVMR, multioutput='variance_weighted'),\n",
    "           r2_score(y_deploy, Xbost, multioutput='variance_weighted'),\n",
    "           r2_score(y_deploy, Bayesian, multioutput='variance_weighted'),\n",
    "           r2_score(y_deploy, modell, multioutput='variance_weighted'),\n",
    "           r2_score(y_deploy, modell1, multioutput='variance_weighted'),\n",
    "           r2_score(y_deploy, modell2, multioutput='variance_weighted'),\n",
    "           r2_score(y_deploy, modell3, multioutput='variance_weighted')]\n",
    "\n",
    "\n",
    "N = len(accData)\n",
    "## necessary variables\n",
    "ind = np.arange(N)                # the x locations for the groups\n",
    "width = 0.40                     # the width of the bars\n",
    "## the bars\n",
    "rects1 = ax.bar(ind, accData, width,\n",
    "                color='blue',\n",
    "                #yerr=menStd,\n",
    "                error_kw=dict(elinewidth=2,ecolor='red'))\n",
    "\n",
    "# axes and labels\n",
    "ax.set_xlim(-width,len(ind)+width)\n",
    "ax.set_ylim(-0.3,1)\n",
    "ax.set_ylabel('Coefficient of determination')\n",
    "ax.set_title('R squared of different algorithms on Test Data')\n",
    "xTickMarks = ['Ada boos', 'bagging', 'decision tree', 'KNN', 'Kernel Ridge' ,\n",
    "              'LASSO' , 'Ordi. Least Sq.' , 'SVM' , 'Xgboost' ,'Bayesian Ridge ',\n",
    "              'NN', 'NN3.33%R' , 'NN16.7%R' , 'NN33.3%R']\n",
    "ax.set_xticks(ind+width)\n",
    "plt.rcParams['figure.figsize'] = (15, 12)\n",
    "xtickNames = ax.set_xticklabels(xTickMarks)\n",
    "plt.setp(xtickNames, rotation=45, fontsize=10)\n",
    "plt.show()"
   ]
  },
  {
   "cell_type": "code",
   "execution_count": null,
   "metadata": {
    "collapsed": true
   },
   "outputs": [],
   "source": []
  }
 ],
 "metadata": {
  "kernelspec": {
   "display_name": "Python 2",
   "language": "python",
   "name": "python2"
  },
  "language_info": {
   "codemirror_mode": {
    "name": "ipython",
    "version": 2
   },
   "file_extension": ".py",
   "mimetype": "text/x-python",
   "name": "python",
   "nbconvert_exporter": "python",
   "pygments_lexer": "ipython2",
   "version": "2.7.12"
  }
 },
 "nbformat": 4,
 "nbformat_minor": 0
}
