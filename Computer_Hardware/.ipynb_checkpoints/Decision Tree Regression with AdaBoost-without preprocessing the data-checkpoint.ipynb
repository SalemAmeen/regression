{
 "cells": [
  {
   "cell_type": "markdown",
   "metadata": {},
   "source": [
    "Salem Ameen, PhD student at Salford University\n",
    "\n",
    "###  COMPUTER HARDWARE Data Set \n",
    "\n",
    "Decision trees Regression"
   ]
  },
  {
   "cell_type": "markdown",
   "metadata": {},
   "source": [
    "# Import the Libraries"
   ]
  },
  {
   "cell_type": "code",
   "execution_count": 1,
   "metadata": {
    "collapsed": false
   },
   "outputs": [
    {
     "data": {
      "text/html": [
       "\n",
       "    <div class=\"bk-root\">\n",
       "        <a href=\"http://bokeh.pydata.org\" target=\"_blank\" class=\"bk-logo bk-logo-small bk-logo-notebook\"></a>\n",
       "        <span id=\"708116fd-bec2-448a-936e-c662a79f7bfb\">Loading BokehJS ...</span>\n",
       "    </div>"
      ]
     },
     "metadata": {},
     "output_type": "display_data"
    },
    {
     "data": {
      "application/javascript": [
       "\n",
       "(function(global) {\n",
       "  function now() {\n",
       "    return new Date();\n",
       "  }\n",
       "\n",
       "  var force = \"1\";\n",
       "\n",
       "  if (typeof (window._bokeh_onload_callbacks) === \"undefined\" || force !== \"\") {\n",
       "    window._bokeh_onload_callbacks = [];\n",
       "    window._bokeh_is_loading = undefined;\n",
       "  }\n",
       "\n",
       "\n",
       "  \n",
       "  if (typeof (window._bokeh_timeout) === \"undefined\" || force !== \"\") {\n",
       "    window._bokeh_timeout = Date.now() + 5000;\n",
       "    window._bokeh_failed_load = false;\n",
       "  }\n",
       "\n",
       "  var NB_LOAD_WARNING = {'data': {'text/html':\n",
       "     \"<div style='background-color: #fdd'>\\n\"+\n",
       "     \"<p>\\n\"+\n",
       "     \"BokehJS does not appear to have successfully loaded. If loading BokehJS from CDN, this \\n\"+\n",
       "     \"may be due to a slow or bad network connection. Possible fixes:\\n\"+\n",
       "     \"</p>\\n\"+\n",
       "     \"<ul>\\n\"+\n",
       "     \"<li>re-rerun `output_notebook()` to attempt to load from CDN again, or</li>\\n\"+\n",
       "     \"<li>use INLINE resources instead, as so:</li>\\n\"+\n",
       "     \"</ul>\\n\"+\n",
       "     \"<code>\\n\"+\n",
       "     \"from bokeh.resources import INLINE\\n\"+\n",
       "     \"output_notebook(resources=INLINE)\\n\"+\n",
       "     \"</code>\\n\"+\n",
       "     \"</div>\"}};\n",
       "\n",
       "  function display_loaded() {\n",
       "    if (window.Bokeh !== undefined) {\n",
       "      Bokeh.$(\"#708116fd-bec2-448a-936e-c662a79f7bfb\").text(\"BokehJS successfully loaded.\");\n",
       "    } else if (Date.now() < window._bokeh_timeout) {\n",
       "      setTimeout(display_loaded, 100)\n",
       "    }\n",
       "  }\n",
       "\n",
       "  function run_callbacks() {\n",
       "    window._bokeh_onload_callbacks.forEach(function(callback) { callback() });\n",
       "    delete window._bokeh_onload_callbacks\n",
       "    console.info(\"Bokeh: all callbacks have finished\");\n",
       "  }\n",
       "\n",
       "  function load_libs(js_urls, callback) {\n",
       "    window._bokeh_onload_callbacks.push(callback);\n",
       "    if (window._bokeh_is_loading > 0) {\n",
       "      console.log(\"Bokeh: BokehJS is being loaded, scheduling callback at\", now());\n",
       "      return null;\n",
       "    }\n",
       "    if (js_urls == null || js_urls.length === 0) {\n",
       "      run_callbacks();\n",
       "      return null;\n",
       "    }\n",
       "    console.log(\"Bokeh: BokehJS not loaded, scheduling load and callback at\", now());\n",
       "    window._bokeh_is_loading = js_urls.length;\n",
       "    for (var i = 0; i < js_urls.length; i++) {\n",
       "      var url = js_urls[i];\n",
       "      var s = document.createElement('script');\n",
       "      s.src = url;\n",
       "      s.async = false;\n",
       "      s.onreadystatechange = s.onload = function() {\n",
       "        window._bokeh_is_loading--;\n",
       "        if (window._bokeh_is_loading === 0) {\n",
       "          console.log(\"Bokeh: all BokehJS libraries loaded\");\n",
       "          run_callbacks()\n",
       "        }\n",
       "      };\n",
       "      s.onerror = function() {\n",
       "        console.warn(\"failed to load library \" + url);\n",
       "      };\n",
       "      console.log(\"Bokeh: injecting script tag for BokehJS library: \", url);\n",
       "      document.getElementsByTagName(\"head\")[0].appendChild(s);\n",
       "    }\n",
       "  };var element = document.getElementById(\"708116fd-bec2-448a-936e-c662a79f7bfb\");\n",
       "  if (element == null) {\n",
       "    console.log(\"Bokeh: ERROR: autoload.js configured with elementid '708116fd-bec2-448a-936e-c662a79f7bfb' but no matching script tag was found. \")\n",
       "    return false;\n",
       "  }\n",
       "\n",
       "  var js_urls = ['https://cdn.pydata.org/bokeh/release/bokeh-0.12.2.min.js', 'https://cdn.pydata.org/bokeh/release/bokeh-widgets-0.12.2.min.js', 'https://cdn.pydata.org/bokeh/release/bokeh-compiler-0.12.2.min.js'];\n",
       "\n",
       "  var inline_js = [\n",
       "    function(Bokeh) {\n",
       "      Bokeh.set_log_level(\"info\");\n",
       "    },\n",
       "    \n",
       "    function(Bokeh) {\n",
       "      \n",
       "      Bokeh.$(\"#708116fd-bec2-448a-936e-c662a79f7bfb\").text(\"BokehJS is loading...\");\n",
       "    },\n",
       "    function(Bokeh) {\n",
       "      console.log(\"Bokeh: injecting CSS: https://cdn.pydata.org/bokeh/release/bokeh-0.12.2.min.css\");\n",
       "      Bokeh.embed.inject_css(\"https://cdn.pydata.org/bokeh/release/bokeh-0.12.2.min.css\");\n",
       "      console.log(\"Bokeh: injecting CSS: https://cdn.pydata.org/bokeh/release/bokeh-widgets-0.12.2.min.css\");\n",
       "      Bokeh.embed.inject_css(\"https://cdn.pydata.org/bokeh/release/bokeh-widgets-0.12.2.min.css\");\n",
       "    }\n",
       "  ];\n",
       "\n",
       "  function run_inline_js() {\n",
       "    \n",
       "    if ((window.Bokeh !== undefined) || (force === \"1\")) {\n",
       "      for (var i = 0; i < inline_js.length; i++) {\n",
       "        inline_js[i](window.Bokeh);\n",
       "      }if (force === \"1\") {\n",
       "        display_loaded();\n",
       "      }} else if (Date.now() < window._bokeh_timeout) {\n",
       "      setTimeout(run_inline_js, 100);\n",
       "    } else if (!window._bokeh_failed_load) {\n",
       "      console.log(\"Bokeh: BokehJS failed to load within specified timeout.\");\n",
       "      window._bokeh_failed_load = true;\n",
       "    } else if (!force) {\n",
       "      var cell = $(\"#708116fd-bec2-448a-936e-c662a79f7bfb\").parents('.cell').data().cell;\n",
       "      cell.output_area.append_execute_result(NB_LOAD_WARNING)\n",
       "    }\n",
       "\n",
       "  }\n",
       "\n",
       "  if (window._bokeh_is_loading === 0) {\n",
       "    console.log(\"Bokeh: BokehJS loaded, going straight to plotting\");\n",
       "    run_inline_js();\n",
       "  } else {\n",
       "    load_libs(js_urls, function() {\n",
       "      console.log(\"Bokeh: BokehJS plotting callback run at\", now());\n",
       "      run_inline_js();\n",
       "    });\n",
       "  }\n",
       "}(this));"
      ]
     },
     "metadata": {},
     "output_type": "display_data"
    }
   ],
   "source": [
    "import numpy as np\n",
    "import pandas\n",
    "from numpy import *\n",
    "import time\n",
    "import sys\n",
    "import pandas as pd\n",
    "import matplotlib.pyplot as plt\n",
    "from sklearn import feature_selection\n",
    "from sklearn.tree import DecisionTreeRegressor\n",
    "from sklearn.learning_curve import learning_curve, validation_curve\n",
    "from sklearn.cross_validation import cross_val_predict\n",
    "from sklearn import metrics, grid_search, cross_validation\n",
    "from IPython.display import set_matplotlib_formats\n",
    "from bokeh.plotting import figure, show, output_notebook\n",
    "from sklearn.grid_search import GridSearchCV, RandomizedSearchCV\n",
    "from sklearn.metrics import r2_score\n",
    "from bokeh.layouts import gridplot\n",
    "output_notebook()\n",
    "set_matplotlib_formats('png', 'pdf')\n",
    "%matplotlib inline\n",
    "plt.rcParams['figure.figsize'] = (6, 6)"
   ]
  },
  {
   "cell_type": "markdown",
   "metadata": {},
   "source": [
    "# Load data"
   ]
  },
  {
   "cell_type": "markdown",
   "metadata": {},
   "source": [
    "In the previous file we have not change the data as there is no missing value or add any new parameters so it can be downloaded from the web directly. "
   ]
  },
  {
   "cell_type": "code",
   "execution_count": 2,
   "metadata": {
    "collapsed": false
   },
   "outputs": [
    {
     "name": "stdout",
     "output_type": "stream",
     "text": [
      "Number of examples 209\n"
     ]
    }
   ],
   "source": [
    "url = 'http://archive.ics.uci.edu/ml/machine-learning-databases/cpu-performance/machine.data'\n",
    "names = ['vendor', 'Model', 'MYCT', 'MMIN', 'MMAX', 'CACH', 'CHMIN','CHMAX','PRP','ERP']\n",
    "feature_names = ['MYCT', 'MMIN', 'MMAX', 'CACH', 'CHMIN','CHMAX','PRP','ERP']\n",
    "feature_cols = ['MYCT', 'MMIN', 'MMAX', 'CACH', 'CHMIN','CHMAX','PRP','ERP']\n",
    "data = pd.read_csv(url, sep=',', names = names)\n",
    "data = data.drop('vendor',1)\n",
    "data = data.drop('Model',1)\n",
    "\n",
    "from sklearn import preprocessing\n",
    "\n",
    "def number_encode_features(df):\n",
    "    result = df.copy()\n",
    "    encoders = {}\n",
    "    for column in result.columns:\n",
    "        if result.dtypes[column] == np.object:\n",
    "            encoders[column] = preprocessing.LabelEncoder()\n",
    "            result[column] = encoders[column].fit_transform(result[column])\n",
    "    return result, encoders\n",
    "\n",
    "data, _ = number_encode_features(data)\n",
    "\n",
    "dataset = data.values\n",
    "X = dataset[:,0:7]\n",
    "Y = dataset[:,7]\n",
    "print 'Number of examples',len(X)"
   ]
  },
  {
   "cell_type": "code",
   "execution_count": 3,
   "metadata": {
    "collapsed": false
   },
   "outputs": [
    {
     "name": "stdout",
     "output_type": "stream",
     "text": [
      "Number of training examples 167\n",
      "Number of validation examples 42\n"
     ]
    }
   ],
   "source": [
    "# Make developement dataset for genrilization and final testing\n",
    "from sklearn.cross_validation import train_test_split\n",
    "# Extracting 20% testing data\n",
    "X_train, X_test, y_train, y_test = train_test_split(\n",
    "    X, Y, test_size=0.20, random_state=0)\n",
    "X = X_train\n",
    "Y = y_train\n",
    "new_data      = X_train\n",
    "new_test_data = X_test\n",
    "print 'Number of training examples',len(X_train)\n",
    "print 'Number of validation examples',len(X_test)"
   ]
  },
  {
   "cell_type": "markdown",
   "metadata": {},
   "source": [
    "Number of training data is very small so we need to use cross validation instead of spareate another validation data."
   ]
  },
  {
   "cell_type": "markdown",
   "metadata": {},
   "source": [
    "From the previous visulization the data has no missing value but has many outlier and some sparisty"
   ]
  },
  {
   "cell_type": "markdown",
   "metadata": {},
   "source": [
    "# Ranking of the feature's importance to the target"
   ]
  },
  {
   "cell_type": "code",
   "execution_count": 4,
   "metadata": {
    "collapsed": false
   },
   "outputs": [
    {
     "name": "stdout",
     "output_type": "stream",
     "text": [
      "MYCT \t0.790172717739\n",
      "MMIN \t0.696943738275\n",
      "MMAX \t0.915780146338\n",
      "CACH \t0.64822709538\n",
      "CHMIN \t0.61750680672\n",
      "CHMAX \t0.533228200731\n",
      "PRP \t0.992114126713\n",
      "ERP \t1.0\n"
     ]
    }
   ],
   "source": [
    "# Using just correlation coefficient even in prevoius file we show them using data frame\n",
    "for col in feature_cols:\n",
    "    lm = DecisionTreeRegressor()\n",
    "    lm.fit(data[[col]], data['ERP'])\n",
    "    print col,'\\t', lm.score(data[[col]], data['ERP'])"
   ]
  },
  {
   "cell_type": "code",
   "execution_count": 5,
   "metadata": {
    "collapsed": false
   },
   "outputs": [
    {
     "name": "stdout",
     "output_type": "stream",
     "text": [
      "Feature Name      Score         Pvalue\n",
      "MYCT \t\t18.7784506906 \t2.28953652773e-05\n",
      "MMIN \t\t422.636024187 \t6.7010130085e-52\n",
      "MMAX \t\t895.035239011 \t4.20559221576e-77\n",
      "CACH \t\t150.332889484 \t2.4462451136e-26\n",
      "CHMIN \t\t123.042583867 \t9.66488661491e-23\n",
      "CHMAX \t\t111.779441433 \t3.62169179267e-21\n",
      "PRP \t\t2932.57297327 \t3.42704839853e-124\n",
      "ERP \t\tinf \t0.0\n"
     ]
    }
   ],
   "source": [
    "# Randing the important features to the target\n",
    "model = feature_selection.SelectKBest(score_func=feature_selection.f_regression,k=4)\n",
    "results = model.fit(data[feature_cols], data['ERP'])\n",
    "k=0\n",
    "print 'Feature Name      Score         Pvalue'\n",
    "for feat in feature_cols:\n",
    "    print feat,'\\t\\t',results.scores_[k],'\\t',results.pvalues_[k]\n",
    "    k=k+1\n"
   ]
  },
  {
   "cell_type": "markdown",
   "metadata": {},
   "source": [
    "# Set the parameters for cross validation"
   ]
  },
  {
   "cell_type": "code",
   "execution_count": 6,
   "metadata": {
    "collapsed": true
   },
   "outputs": [],
   "source": [
    "num_folds = 10\n",
    "num_instances = len(X)\n",
    "seed = 7\n",
    "kfold = cross_validation.KFold(n=num_instances, n_folds=num_folds, random_state=seed)"
   ]
  },
  {
   "cell_type": "markdown",
   "metadata": {},
   "source": [
    " # Set the parameters for bias-variance dilemma"
   ]
  },
  {
   "cell_type": "code",
   "execution_count": 7,
   "metadata": {
    "collapsed": false
   },
   "outputs": [],
   "source": [
    "def plot_learning_curve(estimator, title, X, y, ylim=None, cv=None,\n",
    "                        n_jobs=1, train_sizes=np.linspace(.1, 1.0, 5)):\n",
    "    plt.figure()\n",
    "    plt.title(title)\n",
    "    if ylim is not None:\n",
    "        plt.ylim(*ylim)\n",
    "    plt.xlabel(\"Training examples\")\n",
    "    plt.ylabel(\"Score\")\n",
    "    train_sizes, train_scores, test_scores = learning_curve(\n",
    "        estimator, X, y, cv=cv, n_jobs=n_jobs, train_sizes=train_sizes)\n",
    "    train_scores_mean = np.mean(train_scores, axis=1)\n",
    "    train_scores_std = np.std(train_scores, axis=1)\n",
    "    test_scores_mean = np.mean(test_scores, axis=1)\n",
    "    test_scores_std = np.std(test_scores, axis=1)\n",
    "    plt.grid()\n",
    "\n",
    "    plt.fill_between(train_sizes, train_scores_mean - train_scores_std,\n",
    "                     train_scores_mean + train_scores_std, alpha=0.1,\n",
    "                     color=\"r\")\n",
    "    plt.fill_between(train_sizes, test_scores_mean - test_scores_std,\n",
    "                     test_scores_mean + test_scores_std, alpha=0.1, color=\"g\")\n",
    "    plt.plot(train_sizes, train_scores_mean, 'o-', color=\"r\",\n",
    "             label=\"Training score\")\n",
    "    plt.plot(train_sizes, test_scores_mean, 'o-', color=\"g\",\n",
    "             label=\"Cross-validation score\")\n",
    "\n",
    "    plt.legend(loc=\"best\")\n",
    "    return plt"
   ]
  },
  {
   "cell_type": "markdown",
   "metadata": {},
   "source": [
    "# 1. DecisionTreeRegressor  with AdaBoost Regression"
   ]
  },
  {
   "cell_type": "markdown",
   "metadata": {},
   "source": [
    "Decision trees or the Classification and Regression Trees (CART as they are know) use the training data to select the best points to split the data in order to minimize a cost metric. The default cost metric for regression decision trees is the mean squared error, specified in the criterion parameter."
   ]
  },
  {
   "cell_type": "markdown",
   "metadata": {},
   "source": [
    "## Validation curve"
   ]
  },
  {
   "cell_type": "markdown",
   "metadata": {},
   "source": [
    "choosing multiple hyperparameters of an estimator "
   ]
  },
  {
   "cell_type": "code",
   "execution_count": 8,
   "metadata": {
    "collapsed": false
   },
   "outputs": [
    {
     "data": {
      "text/plain": [
       "['presort',\n",
       " 'splitter',\n",
       " 'max_leaf_nodes',\n",
       " 'min_samples_leaf',\n",
       " 'min_samples_split',\n",
       " 'min_weight_fraction_leaf',\n",
       " 'criterion',\n",
       " 'random_state',\n",
       " 'max_features',\n",
       " 'max_depth']"
      ]
     },
     "execution_count": 8,
     "metadata": {},
     "output_type": "execute_result"
    }
   ],
   "source": [
    "from sklearn.tree import DecisionTreeRegressor\n",
    "estimator = DecisionTreeRegressor()\n",
    "estimator.get_params().keys()"
   ]
  },
  {
   "cell_type": "code",
   "execution_count": 9,
   "metadata": {
    "collapsed": false
   },
   "outputs": [
    {
     "data": {
      "text/plain": [
       "['loss',\n",
       " 'base_estimator__min_samples_split',\n",
       " 'base_estimator__max_depth',\n",
       " 'learning_rate',\n",
       " 'base_estimator',\n",
       " 'base_estimator__criterion',\n",
       " 'base_estimator__max_features',\n",
       " 'base_estimator__random_state',\n",
       " 'n_estimators',\n",
       " 'base_estimator__min_weight_fraction_leaf',\n",
       " 'random_state',\n",
       " 'base_estimator__splitter',\n",
       " 'base_estimator__max_leaf_nodes',\n",
       " 'base_estimator__min_samples_leaf',\n",
       " 'base_estimator__presort']"
      ]
     },
     "execution_count": 9,
     "metadata": {},
     "output_type": "execute_result"
    }
   ],
   "source": [
    "from sklearn.tree import DecisionTreeRegressor\n",
    "from sklearn.ensemble import AdaBoostRegressor\n",
    "estimator = AdaBoostRegressor(DecisionTreeRegressor())\n",
    "estimator.get_params().keys()"
   ]
  },
  {
   "cell_type": "code",
   "execution_count": 10,
   "metadata": {
    "collapsed": false
   },
   "outputs": [
    {
     "data": {
      "image/png": "[encoded data removed]",
      "text/plain": [
       "<matplotlib.figure.Figure at 0x7f896b861410>"
      ]
     },
     "metadata": {},
     "output_type": "display_data"
    }
   ],
   "source": [
    "# For parametr alpha\n",
    "#param_range = np.logspace(-10.0, 10.0)\n",
    "#param_range = np.linspace(1,50,100)\n",
    "param_range = np.arange(1,50) # generate integer numbers\n",
    "\n",
    "train_scores, test_scores = validation_curve(\n",
    "    DecisionTreeRegressor(), X, Y, param_name=\"max_depth\", param_range=param_range,\n",
    "    cv=num_folds,  n_jobs=-1)\n",
    "train_scores_mean = np.mean(train_scores, axis=1)\n",
    "train_scores_std = np.std(train_scores, axis=1)\n",
    "test_scores_mean = np.mean(test_scores, axis=1)\n",
    "test_scores_std = np.std(test_scores, axis=1)\n",
    "\n",
    "plt.title(\"Validation Curve with DecisionTreeRegressor\")\n",
    "plt.xlabel(\"max_depth\")\n",
    "plt.ylabel(\"Score\")\n",
    "plt.ylim(0.4, 1.0)\n",
    "plt.plot(param_range, train_scores_mean, label=\"Training score\", color=\"r\")\n",
    "plt.fill_between(param_range, train_scores_mean - train_scores_std,\n",
    "                 train_scores_mean + train_scores_std, alpha=0.2, color=\"r\")\n",
    "plt.plot(param_range, test_scores_mean, label=\"Cross-validation score\",\n",
    "             color=\"g\")\n",
    "plt.fill_between(param_range, test_scores_mean - test_scores_std,\n",
    "                 test_scores_mean + test_scores_std, alpha=0.2, color=\"g\")\n",
    "plt.legend(loc=\"best\")\n",
    "plt.show()"
   ]
  },
  {
   "cell_type": "markdown",
   "metadata": {},
   "source": [
    "more that 5 is the best of number of K"
   ]
  },
  {
   "cell_type": "code",
   "execution_count": 11,
   "metadata": {
    "collapsed": false
   },
   "outputs": [
    {
     "data": {
      "image/png": "[encoded data removed]",
      "text/plain": [
       "<matplotlib.figure.Figure at 0x7f8966dc5110>"
      ]
     },
     "metadata": {},
     "output_type": "display_data"
    }
   ],
   "source": [
    "# For parametr alpha\n",
    "#param_range = np.logspace(-10.0, 10.0)\n",
    "#param_range = np.linspace(1,50,100)\n",
    "param_range = np.arange(1,10) # generate integer numbers\n",
    "\n",
    "train_scores, test_scores = validation_curve(\n",
    "    DecisionTreeRegressor(), X, Y, param_name=\"min_samples_split\", param_range=param_range,\n",
    "    cv=num_folds,  n_jobs=-1)\n",
    "train_scores_mean = np.mean(train_scores, axis=1)\n",
    "train_scores_std = np.std(train_scores, axis=1)\n",
    "test_scores_mean = np.mean(test_scores, axis=1)\n",
    "test_scores_std = np.std(test_scores, axis=1)\n",
    "\n",
    "plt.title(\"Validation Curve with DecisionTreeRegressor\")\n",
    "plt.xlabel(\"min_samples_split\")\n",
    "plt.ylabel(\"Score\")\n",
    "plt.ylim(0.4, 1.0)\n",
    "plt.plot(param_range, train_scores_mean, label=\"Training score\", color=\"r\")\n",
    "plt.fill_between(param_range, train_scores_mean - train_scores_std,\n",
    "                 train_scores_mean + train_scores_std, alpha=0.2, color=\"r\")\n",
    "plt.plot(param_range, test_scores_mean, label=\"Cross-validation score\",\n",
    "             color=\"g\")\n",
    "plt.fill_between(param_range, test_scores_mean - test_scores_std,\n",
    "                 test_scores_mean + test_scores_std, alpha=0.2, color=\"g\")\n",
    "plt.legend(loc=\"best\")\n",
    "plt.show()"
   ]
  },
  {
   "cell_type": "markdown",
   "metadata": {},
   "source": [
    "min_samples_split =2 (The defualt) is the best"
   ]
  },
  {
   "cell_type": "code",
   "execution_count": 12,
   "metadata": {
    "collapsed": false
   },
   "outputs": [
    {
     "data": {
      "image/png": "[encoded data removed]",
      "text/plain": [
       "<matplotlib.figure.Figure at 0x7f89650b6b90>"
      ]
     },
     "metadata": {},
     "output_type": "display_data"
    }
   ],
   "source": [
    "# For parametr alpha\n",
    "#param_range = np.logspace(-10.0, 10.0)\n",
    "#param_range = np.linspace(1,50,100)\n",
    "param_range = np.arange(1,10) # generate integer numbers\n",
    "\n",
    "train_scores, test_scores = validation_curve(\n",
    "    DecisionTreeRegressor(), X, Y, param_name=\"min_samples_leaf\", param_range=param_range,\n",
    "    cv=num_folds,  n_jobs=-1)\n",
    "train_scores_mean = np.mean(train_scores, axis=1)\n",
    "train_scores_std = np.std(train_scores, axis=1)\n",
    "test_scores_mean = np.mean(test_scores, axis=1)\n",
    "test_scores_std = np.std(test_scores, axis=1)\n",
    "\n",
    "plt.title(\"Validation Curve with DecisionTreeRegressor\")\n",
    "plt.xlabel(\"min_samples_leaf\")\n",
    "plt.ylabel(\"Score\")\n",
    "plt.ylim(0.4, 1.0)\n",
    "plt.plot(param_range, train_scores_mean, label=\"Training score\", color=\"r\")\n",
    "plt.fill_between(param_range, train_scores_mean - train_scores_std,\n",
    "                 train_scores_mean + train_scores_std, alpha=0.2, color=\"r\")\n",
    "plt.plot(param_range, test_scores_mean, label=\"Cross-validation score\",\n",
    "             color=\"g\")\n",
    "plt.fill_between(param_range, test_scores_mean - test_scores_std,\n",
    "                 test_scores_mean + test_scores_std, alpha=0.2, color=\"g\")\n",
    "plt.legend(loc=\"best\")\n",
    "plt.show()"
   ]
  },
  {
   "cell_type": "markdown",
   "metadata": {},
   "source": [
    "min_samples_leaf = 2 is the best"
   ]
  },
  {
   "cell_type": "markdown",
   "metadata": {},
   "source": [
    "## Grid search and/or Random search to determine best compination of parameters"
   ]
  },
  {
   "cell_type": "code",
   "execution_count": 13,
   "metadata": {
    "collapsed": false
   },
   "outputs": [
    {
     "name": "stdout",
     "output_type": "stream",
     "text": [
      "Hyperparameter optimization using GridSearchCV...\n",
      "Parameters with rank: 1\n",
      "Mean validation score: 0.9020 (std: 0.0581)\n",
      "Parameters: {'n_estimators': 9, 'loss': 'exponential'}\n",
      "\n",
      "Parameters with rank: 2\n",
      "Mean validation score: 0.8970 (std: 0.0661)\n",
      "Parameters: {'n_estimators': 9, 'loss': 'linear'}\n",
      "\n",
      "Parameters with rank: 3\n",
      "Mean validation score: 0.8940 (std: 0.0643)\n",
      "Parameters: {'n_estimators': 3, 'loss': 'square'}\n",
      "\n",
      "Parameters with rank: 4\n",
      "Mean validation score: 0.8917 (std: 0.0569)\n",
      "Parameters: {'n_estimators': 3, 'loss': 'linear'}\n",
      "\n",
      "Parameters with rank: 5\n",
      "Mean validation score: 0.8894 (std: 0.0507)\n",
      "Parameters: {'n_estimators': 3, 'loss': 'exponential'}\n",
      "\n",
      "+++++++++++++++++++++++++++++++++++++++++++++++\n",
      "Hyperparameter optimization using RandomizedSearchCV\n",
      "Parameters with rank: 1\n",
      "Mean validation score: 0.8853 (std: 0.0458)\n",
      "Parameters: {'n_estimators': 10, 'loss': 'exponential'}\n",
      "\n",
      "Parameters with rank: 2\n",
      "Mean validation score: 0.8477 (std: 0.0765)\n",
      "Parameters: {'n_estimators': 500, 'loss': 'linear'}\n",
      "\n",
      "Parameters with rank: 3\n",
      "Mean validation score: 0.8453 (std: 0.0793)\n",
      "Parameters: {'n_estimators': 400, 'loss': 'linear'}\n",
      "\n",
      "Parameters with rank: 4\n",
      "Mean validation score: 0.8433 (std: 0.0992)\n",
      "Parameters: {'n_estimators': 20, 'loss': 'linear'}\n",
      "\n",
      "Parameters with rank: 5\n",
      "Mean validation score: 0.8268 (std: 0.1048)\n",
      "Parameters: {'n_estimators': 400, 'loss': 'square'}\n",
      "\n"
     ]
    }
   ],
   "source": [
    "# Utility function to report optimal parameters\n",
    "from operator import itemgetter\n",
    "def report(grid_scores, n_top=5):\n",
    "    params = None\n",
    "    top_scores = sorted(grid_scores, key=itemgetter(1), reverse=True)[:n_top]\n",
    "    for i, score in enumerate(top_scores):\n",
    "        print(\"Parameters with rank: {0}\".format(i + 1))\n",
    "        print(\"Mean validation score: {0:.4f} (std: {1:.4f})\".format(\n",
    "              score.mean_validation_score, np.std(score.cv_validation_scores)))\n",
    "        print(\"Parameters: {0}\".format(score.parameters))\n",
    "        print(\"\")\n",
    "        \n",
    "        if params == None:\n",
    "            params = score.parameters\n",
    "    \n",
    "    return params\n",
    "\n",
    "# The most common value for the max number of features to look at in each split is sqrt(# of features)\n",
    "sqrtfeat = np.sqrt(X.shape[1]) \n",
    "grid_test1 = { \"n_estimators\"      : np.arange(1,10),\n",
    "             \"loss\"      : [ \"linear\", \"square\", \"exponential\"]}\n",
    "\n",
    "# Large randomized test using max_depth to control tree size (5000 possible combinations)\n",
    "random_test1 = { \"n_estimators\"      : [1,10,20,100,200, 300, 400, 500],\n",
    "                \"loss\"      : [ \"linear\", \"square\", \"exponential\"]}\n",
    "\n",
    "\n",
    "forest = AdaBoostRegressor()\n",
    "\n",
    "print \"Hyperparameter optimization using GridSearchCV...\"\n",
    "grid_search = GridSearchCV(forest, grid_test1, n_jobs=-1, cv=num_folds)\n",
    "grid_search.fit(X, Y)\n",
    "best_params_from_grid_search = report(grid_search.grid_scores_)\n",
    "print '+++++++++++++++++++++++++++++++++++++++++++++++'\n",
    "print \"Hyperparameter optimization using RandomizedSearchCV\"\n",
    "grid_search = RandomizedSearchCV(forest, random_test1, n_jobs=-1, cv=num_folds, n_iter=5)\n",
    "grid_search.fit(X, Y)\n",
    "best_params_from_rand_search1 = report(grid_search.grid_scores_)"
   ]
  },
  {
   "cell_type": "markdown",
   "metadata": {},
   "source": [
    "Best parameters Parameters: Parameters: {'max_features': None, 'max_depth': 19, 'min_samples_leaf': 1}\n"
   ]
  },
  {
   "cell_type": "markdown",
   "metadata": {},
   "source": [
    "## Learning Curve "
   ]
  },
  {
   "cell_type": "markdown",
   "metadata": {},
   "source": [
    "In essence, what we’re doing it training the exact same model with increasingly large fractions of our total training data, and plotting the error of the training and test sets at each step."
   ]
  },
  {
   "cell_type": "code",
   "execution_count": 14,
   "metadata": {
    "collapsed": false
   },
   "outputs": [
    {
     "data": {
      "image/png": "[encoded data removed]",
      "text/plain": [
       "<matplotlib.figure.Figure at 0x7f8964b51650>"
      ]
     },
     "metadata": {},
     "output_type": "display_data"
    }
   ],
   "source": [
    "from sklearn.tree import DecisionTreeRegressor\n",
    "\n",
    "model = AdaBoostRegressor(n_estimators = 5, loss = \"exponential\")\n",
    "title = \"Learning Curves (Ada DecisionTreeRegressor Refression)\"\n",
    "cv = cross_validation.ShuffleSplit(X.shape[0], n_iter=100,\n",
    "                                   test_size=0.2, random_state=0)\n",
    "plot_learning_curve(model, title, X, Y, ylim=(0.2, 1.01), cv=cv, n_jobs=-1)\n",
    "plt.show()"
   ]
  },
  {
   "cell_type": "code",
   "execution_count": 15,
   "metadata": {
    "collapsed": false
   },
   "outputs": [
    {
     "name": "stdout",
     "output_type": "stream",
     "text": [
      "train_sizes =  [ 50  80 110]\n",
      " training scores\n",
      " 50 training sizees\n",
      "0.98154213926 ± 0.0647353265937\n",
      " 80 training sizees\n",
      "0.982823708247 ± 0.0221752070011\n",
      " 110 training sizees\n",
      "0.976842751128 ± 0.0457968170601\n",
      "\n",
      " validation scores\n",
      " 50 validation scores\n",
      "0.746080124227 ± 0.171931655478\n",
      " 80 validation scores\n",
      "0.796533522211 ± 0.151148118897\n",
      " 110 validation scores\n",
      "0.850783631735 ± 0.117878565086\n"
     ]
    }
   ],
   "source": [
    "# More data from learning curve to show the process of building the model\n",
    "train_sizes, train_scores, valid_scores = learning_curve(\n",
    "     model, X, Y, train_sizes=[50, 80, 110], cv=cv, n_jobs=4)\n",
    "\n",
    "print 'train_sizes = ', train_sizes\n",
    "\n",
    "print ' training scores'\n",
    "print ' 50 training sizees'\n",
    "print train_scores[0].mean(),'±',train_scores[0].std()\n",
    "print ' 80 training sizees'\n",
    "print train_scores[1].mean(),'±',train_scores[1].std()\n",
    "print ' 110 training sizees'\n",
    "print train_scores[2].mean(),'±',train_scores[2].std()\n",
    "\n",
    "print '\\n validation scores'\n",
    "print ' 50 validation scores'\n",
    "print valid_scores[0].mean(),'±',valid_scores[0].std()\n",
    "print ' 80 validation scores'\n",
    "print valid_scores[1].mean(),'±',valid_scores[1].std()\n",
    "print ' 110 validation scores'\n",
    "print valid_scores[2].mean(),'±',valid_scores[2].std()"
   ]
  },
  {
   "cell_type": "markdown",
   "metadata": {},
   "source": [
    "## Cross validation"
   ]
  },
  {
   "cell_type": "code",
   "execution_count": 16,
   "metadata": {
    "collapsed": false
   },
   "outputs": [
    {
     "name": "stdout",
     "output_type": "stream",
     "text": [
      "Scoring according to mean_squared_error\n",
      "[-2324.49995968 -2121.89827289  -440.3859943   -860.15841646 -1061.52924969\n",
      " -1521.61298045  -641.37349896  -473.63452469 -1809.29438954 -5844.40965026]\n",
      "\n",
      " Mean      Standard deviation\n",
      "-1709.88      1520.24\n"
     ]
    },
    {
     "data": {
      "text/plain": [
       "AdaBoostRegressor(base_estimator=None, learning_rate=1.0, loss='exponential',\n",
       "         n_estimators=5, random_state=None)"
      ]
     },
     "execution_count": 16,
     "metadata": {},
     "output_type": "execute_result"
    }
   ],
   "source": [
    "scoring = 'mean_squared_error'\n",
    "results = cross_validation.cross_val_score(model, X, Y, cv=kfold, scoring=scoring)\n",
    "print 'Scoring according to mean_squared_error'\n",
    "print results\n",
    "print '\\n Mean      Standard deviation'\n",
    "print(\"%.2f      %.2f\" % (results.mean(), results.std()))\n",
    "## Fit the model\n",
    "model.fit(X,Y)\n"
   ]
  },
  {
   "cell_type": "markdown",
   "metadata": {},
   "source": [
    "## Coefficients Of Determination {Calculating R^2}\n",
    "\n",
    "R^2, Close to one is better"
   ]
  },
  {
   "cell_type": "code",
   "execution_count": 17,
   "metadata": {
    "collapsed": false
   },
   "outputs": [
    {
     "name": "stdout",
     "output_type": "stream",
     "text": [
      "R-squared =  0.863674672728\n"
     ]
    }
   ],
   "source": [
    "predicted = cross_val_predict(model, X, Y, cv=kfold)\n",
    "r_squared = r2_score(Y, predicted, multioutput='variance_weighted')\n",
    "print 'R-squared = ',r_squared"
   ]
  },
  {
   "cell_type": "markdown",
   "metadata": {},
   "source": [
    "## Residual Plot"
   ]
  },
  {
   "cell_type": "code",
   "execution_count": 18,
   "metadata": {
    "collapsed": false
   },
   "outputs": [
    {
     "data": {
      "image/png": "[encoded data removed]",
      "text/plain": [
       "<matplotlib.figure.Figure at 0x7f8966daecd0>"
      ]
     },
     "metadata": {},
     "output_type": "display_data"
    }
   ],
   "source": [
    "predicted = cross_val_predict(model, X, Y, cv=kfold)\n",
    "fig, ax = plt.subplots()\n",
    "ax.scatter(Y, predicted)\n",
    "ax.plot([Y.min(), Y.max()], [Y.min(), Y.max()], 'k--', lw=4)\n",
    "ax.set_xlabel('Measured')\n",
    "ax.set_ylabel('Predicted')\n",
    "plt.show()"
   ]
  },
  {
   "cell_type": "code",
   "execution_count": 19,
   "metadata": {
    "collapsed": false
   },
   "outputs": [
    {
     "data": {
      "text/html": [
       "\n",
       "\n",
       "    <div class=\"bk-root\">\n",
       "        <div class=\"plotdiv\" id=\"b9393f1b-0ecf-4466-8b6d-f31d79f09a33\"></div>\n",
       "    </div>\n",
       "<script type=\"text/javascript\">\n",
       "  \n",
       "  (function(global) {\n",
       "    function now() {\n",
       "      return new Date();\n",
       "    }\n",
       "  \n",
       "    var force = \"\";\n",
       "  \n",
       "    if (typeof (window._bokeh_onload_callbacks) === \"undefined\" || force !== \"\") {\n",
       "      window._bokeh_onload_callbacks = [];\n",
       "      window._bokeh_is_loading = undefined;\n",
       "    }\n",
       "  \n",
       "  \n",
       "    \n",
       "    if (typeof (window._bokeh_timeout) === \"undefined\" || force !== \"\") {\n",
       "      window._bokeh_timeout = Date.now() + 0;\n",
       "      window._bokeh_failed_load = false;\n",
       "    }\n",
       "  \n",
       "    var NB_LOAD_WARNING = {'data': {'text/html':\n",
       "       \"<div style='background-color: #fdd'>\\n\"+\n",
       "       \"<p>\\n\"+\n",
       "       \"BokehJS does not appear to have successfully loaded. If loading BokehJS from CDN, this \\n\"+\n",
       "       \"may be due to a slow or bad network connection. Possible fixes:\\n\"+\n",
       "       \"</p>\\n\"+\n",
       "       \"<ul>\\n\"+\n",
       "       \"<li>re-rerun `output_notebook()` to attempt to load from CDN again, or</li>\\n\"+\n",
       "       \"<li>use INLINE resources instead, as so:</li>\\n\"+\n",
       "       \"</ul>\\n\"+\n",
       "       \"<code>\\n\"+\n",
       "       \"from bokeh.resources import INLINE\\n\"+\n",
       "       \"output_notebook(resources=INLINE)\\n\"+\n",
       "       \"</code>\\n\"+\n",
       "       \"</div>\"}};\n",
       "  \n",
       "    function display_loaded() {\n",
       "      if (window.Bokeh !== undefined) {\n",
       "        Bokeh.$(\"#b9393f1b-0ecf-4466-8b6d-f31d79f09a33\").text(\"BokehJS successfully loaded.\");\n",
       "      } else if (Date.now() < window._bokeh_timeout) {\n",
       "        setTimeout(display_loaded, 100)\n",
       "      }\n",
       "    }\n",
       "  \n",
       "    function run_callbacks() {\n",
       "      window._bokeh_onload_callbacks.forEach(function(callback) { callback() });\n",
       "      delete window._bokeh_onload_callbacks\n",
       "      console.info(\"Bokeh: all callbacks have finished\");\n",
       "    }\n",
       "  \n",
       "    function load_libs(js_urls, callback) {\n",
       "      window._bokeh_onload_callbacks.push(callback);\n",
       "      if (window._bokeh_is_loading > 0) {\n",
       "        console.log(\"Bokeh: BokehJS is being loaded, scheduling callback at\", now());\n",
       "        return null;\n",
       "      }\n",
       "      if (js_urls == null || js_urls.length === 0) {\n",
       "        run_callbacks();\n",
       "        return null;\n",
       "      }\n",
       "      console.log(\"Bokeh: BokehJS not loaded, scheduling load and callback at\", now());\n",
       "      window._bokeh_is_loading = js_urls.length;\n",
       "      for (var i = 0; i < js_urls.length; i++) {\n",
       "        var url = js_urls[i];\n",
       "        var s = document.createElement('script');\n",
       "        s.src = url;\n",
       "        s.async = false;\n",
       "        s.onreadystatechange = s.onload = function() {\n",
       "          window._bokeh_is_loading--;\n",
       "          if (window._bokeh_is_loading === 0) {\n",
       "            console.log(\"Bokeh: all BokehJS libraries loaded\");\n",
       "            run_callbacks()\n",
       "          }\n",
       "        };\n",
       "        s.onerror = function() {\n",
       "          console.warn(\"failed to load library \" + url);\n",
       "        };\n",
       "        console.log(\"Bokeh: injecting script tag for BokehJS library: \", url);\n",
       "        document.getElementsByTagName(\"head\")[0].appendChild(s);\n",
       "      }\n",
       "    };var element = document.getElementById(\"b9393f1b-0ecf-4466-8b6d-f31d79f09a33\");\n",
       "    if (element == null) {\n",
       "      console.log(\"Bokeh: ERROR: autoload.js configured with elementid 'b9393f1b-0ecf-4466-8b6d-f31d79f09a33' but no matching script tag was found. \")\n",
       "      return false;\n",
       "    }\n",
       "  \n",
       "    var js_urls = [];\n",
       "  \n",
       "    var inline_js = [\n",
       "      function(Bokeh) {\n",
       "        Bokeh.$(function() {\n",
       "            var docs_json = {\"5a92e43a-909d-479c-a51c-346c62d24e44\":{\"roots\":{\"references\":[{\"attributes\":{\"dimension\":1,\"plot\":{\"id\":\"03f48356-21c0-489e-a400-3f7ac4c7b22b\",\"subtype\":\"Figure\",\"type\":\"Plot\"},\"ticker\":{\"id\":\"18d921f1-9afd-4e88-b58c-2a87e6b11d92\",\"type\":\"BasicTicker\"}},\"id\":\"7afa806b-3d09-44fb-8ce6-e01319a1a49d\",\"type\":\"Grid\"},{\"attributes\":{\"active_drag\":\"auto\",\"active_scroll\":\"auto\",\"active_tap\":\"auto\",\"tools\":[{\"id\":\"ff7ca584-8ae9-4853-9d91-79210ec21554\",\"type\":\"BoxZoomTool\"},{\"id\":\"67863afb-343f-4e97-98af-1913abfed005\",\"type\":\"BoxSelectTool\"},{\"id\":\"d3e91777-a4d2-48e4-8391-3f17defd8dcb\",\"type\":\"CrosshairTool\"},{\"id\":\"dbe9bd29-bdd3-4f88-ae98-ef63efbc4d07\",\"type\":\"ResizeTool\"},{\"id\":\"595d90e9-9c28-45bd-be2b-ec0c44ccd356\",\"type\":\"ResetTool\"},{\"id\":\"f32e055f-0ffe-4e75-aa26-af3fe12ca1f0\",\"type\":\"LassoSelectTool\"},{\"id\":\"9ae0759d-9a5a-426f-85ca-7776bb78905a\",\"type\":\"PanTool\"},{\"id\":\"08631393-463a-4a5c-92d9-55d787d110d1\",\"type\":\"SaveTool\"},{\"id\":\"bd5f4cc6-1899-4dc9-8000-714a7a95b207\",\"type\":\"PolySelectTool\"},{\"id\":\"1b787487-3fd5-4b92-bb1e-2d043fb6f3ed\",\"type\":\"TapTool\"},{\"id\":\"3275188e-14c0-40cc-b3f3-f57601ac38dc\",\"type\":\"WheelZoomTool\"},{\"id\":\"a08f1ae5-0ba2-409c-857d-abdf1d8a0d34\",\"type\":\"UndoTool\"}]},\"id\":\"67c9340c-0e88-4e1f-9c03-1da6770b3035\",\"type\":\"Toolbar\"},{\"attributes\":{\"plot\":{\"id\":\"03f48356-21c0-489e-a400-3f7ac4c7b22b\",\"subtype\":\"Figure\",\"type\":\"Plot\"}},\"id\":\"9ae0759d-9a5a-426f-85ca-7776bb78905a\",\"type\":\"PanTool\"},{\"attributes\":{\"callback\":null,\"column_names\":[\"y\",\"x\"],\"data\":{\"x\":[15,1238],\"y\":[15,1238]}},\"id\":\"ae21b42c-af38-47d0-a047-f411997e6cd9\",\"type\":\"ColumnDataSource\"},{\"attributes\":{\"plot\":{\"id\":\"03f48356-21c0-489e-a400-3f7ac4c7b22b\",\"subtype\":\"Figure\",\"type\":\"Plot\"}},\"id\":\"a08f1ae5-0ba2-409c-857d-abdf1d8a0d34\",\"type\":\"UndoTool\"},{\"attributes\":{\"fill_alpha\":{\"value\":0.5},\"fill_color\":{\"value\":\"lightgrey\"},\"level\":\"overlay\",\"line_alpha\":{\"value\":1.0},\"line_color\":{\"value\":\"black\"},\"line_dash\":[4,4],\"line_width\":{\"value\":2},\"plot\":null,\"xs_units\":\"screen\",\"ys_units\":\"screen\"},\"id\":\"e8042841-141b-4f8e-944a-43a242547c98\",\"type\":\"PolyAnnotation\"},{\"attributes\":{\"data_source\":{\"id\":\"57972c2d-dcb4-48bd-95c9-80336c4520cf\",\"type\":\"ColumnDataSource\"},\"glyph\":{\"id\":\"ca650d1e-8841-45ed-a50d-2267722fdbe3\",\"type\":\"Circle\"},\"hover_glyph\":null,\"nonselection_glyph\":{\"id\":\"5dc7254e-46c5-4d49-9544-b76c34aca727\",\"type\":\"Circle\"},\"selection_glyph\":null},\"id\":\"296a185a-f962-4e20-9ead-de653ec03f98\",\"type\":\"GlyphRenderer\"},{\"attributes\":{\"fill_color\":{\"value\":\"#80B1D3\"},\"line_color\":{\"value\":\"#80B1D3\"},\"line_width\":{\"value\":3},\"x\":{\"field\":\"x\"},\"y\":{\"field\":\"y\"}},\"id\":\"ca650d1e-8841-45ed-a50d-2267722fdbe3\",\"type\":\"Circle\"},{\"attributes\":{\"plot\":{\"id\":\"03f48356-21c0-489e-a400-3f7ac4c7b22b\",\"subtype\":\"Figure\",\"type\":\"Plot\"},\"ticker\":{\"id\":\"bbe9bc77-1fbf-4581-94e3-9485ed03d7b2\",\"type\":\"BasicTicker\"}},\"id\":\"18f20ed6-c1f5-4e69-9eef-1577a3574c4b\",\"type\":\"Grid\"},{\"attributes\":{\"axis_label\":\"Measured\",\"axis_label_text_color\":{\"value\":\"#aa6666\"},\"formatter\":{\"id\":\"e89c7aef-da93-4d3d-b1d3-f9bec01b80d7\",\"type\":\"BasicTickFormatter\"},\"major_tick_line_color\":{\"value\":\"firebrick\"},\"major_tick_line_width\":{\"value\":3},\"minor_tick_line_color\":{\"value\":\"orange\"},\"plot\":{\"id\":\"03f48356-21c0-489e-a400-3f7ac4c7b22b\",\"subtype\":\"Figure\",\"type\":\"Plot\"},\"ticker\":{\"id\":\"bbe9bc77-1fbf-4581-94e3-9485ed03d7b2\",\"type\":\"BasicTicker\"}},\"id\":\"75c8b357-f145-41f0-b772-843c25a21a18\",\"type\":\"LinearAxis\"},{\"attributes\":{\"plot\":{\"id\":\"03f48356-21c0-489e-a400-3f7ac4c7b22b\",\"subtype\":\"Figure\",\"type\":\"Plot\"}},\"id\":\"08631393-463a-4a5c-92d9-55d787d110d1\",\"type\":\"SaveTool\"},{\"attributes\":{},\"id\":\"18d921f1-9afd-4e88-b58c-2a87e6b11d92\",\"type\":\"BasicTicker\"},{\"attributes\":{\"plot\":{\"id\":\"03f48356-21c0-489e-a400-3f7ac4c7b22b\",\"subtype\":\"Figure\",\"type\":\"Plot\"}},\"id\":\"dbe9bd29-bdd3-4f88-ae98-ef63efbc4d07\",\"type\":\"ResizeTool\"},{\"attributes\":{\"data_source\":{\"id\":\"ae21b42c-af38-47d0-a047-f411997e6cd9\",\"type\":\"ColumnDataSource\"},\"glyph\":{\"id\":\"8441945d-9432-4d3a-a629-af7dc53c3064\",\"type\":\"Line\"},\"hover_glyph\":null,\"nonselection_glyph\":{\"id\":\"9f10ac6f-c09a-4aa6-93ee-a9967f3f6b24\",\"type\":\"Line\"},\"selection_glyph\":null},\"id\":\"ed02cacf-87ef-41c5-8394-3689348236e8\",\"type\":\"GlyphRenderer\"},{\"attributes\":{\"align\":\"center\",\"plot\":null,\"text\":null},\"id\":\"c88ed284-f4f1-4adc-a3c2-9705eb021c92\",\"type\":\"Title\"},{\"attributes\":{\"line_alpha\":{\"value\":0.1},\"line_color\":{\"value\":\"#1f77b4\"},\"line_dash\":[4,4],\"line_width\":{\"value\":2},\"x\":{\"field\":\"x\"},\"y\":{\"field\":\"y\"}},\"id\":\"9f10ac6f-c09a-4aa6-93ee-a9967f3f6b24\",\"type\":\"Line\"},{\"attributes\":{},\"id\":\"bbe9bc77-1fbf-4581-94e3-9485ed03d7b2\",\"type\":\"BasicTicker\"},{\"attributes\":{\"callback\":null,\"overlay\":{\"id\":\"137e26e5-1844-4c3d-8caf-6447b173af8d\",\"type\":\"BoxAnnotation\"},\"plot\":{\"id\":\"03f48356-21c0-489e-a400-3f7ac4c7b22b\",\"subtype\":\"Figure\",\"type\":\"Plot\"},\"renderers\":[{\"id\":\"296a185a-f962-4e20-9ead-de653ec03f98\",\"type\":\"GlyphRenderer\"},{\"id\":\"ed02cacf-87ef-41c5-8394-3689348236e8\",\"type\":\"GlyphRenderer\"}]},\"id\":\"67863afb-343f-4e97-98af-1913abfed005\",\"type\":\"BoxSelectTool\"},{\"attributes\":{},\"id\":\"1bc04074-d70d-49c0-89e0-02e1b82f0543\",\"type\":\"BasicTickFormatter\"},{\"attributes\":{\"plot\":{\"id\":\"03f48356-21c0-489e-a400-3f7ac4c7b22b\",\"subtype\":\"Figure\",\"type\":\"Plot\"}},\"id\":\"d3e91777-a4d2-48e4-8391-3f17defd8dcb\",\"type\":\"CrosshairTool\"},{\"attributes\":{\"background_fill_alpha\":{\"value\":0.5},\"background_fill_color\":{\"value\":\"beige\"},\"below\":[{\"id\":\"75c8b357-f145-41f0-b772-843c25a21a18\",\"type\":\"LinearAxis\"}],\"left\":[{\"id\":\"43012bc6-8e8c-47d4-985c-d78676822778\",\"type\":\"LinearAxis\"}],\"plot_height\":500,\"plot_width\":500,\"renderers\":[{\"id\":\"75c8b357-f145-41f0-b772-843c25a21a18\",\"type\":\"LinearAxis\"},{\"id\":\"18f20ed6-c1f5-4e69-9eef-1577a3574c4b\",\"type\":\"Grid\"},{\"id\":\"43012bc6-8e8c-47d4-985c-d78676822778\",\"type\":\"LinearAxis\"},{\"id\":\"7afa806b-3d09-44fb-8ce6-e01319a1a49d\",\"type\":\"Grid\"},{\"id\":\"3d1735ad-6446-4dc5-b173-bbd89203f589\",\"type\":\"BoxAnnotation\"},{\"id\":\"137e26e5-1844-4c3d-8caf-6447b173af8d\",\"type\":\"BoxAnnotation\"},{\"id\":\"1f6cd0a1-3ac7-4f4b-b74a-aaac52fe28ab\",\"type\":\"PolyAnnotation\"},{\"id\":\"e8042841-141b-4f8e-944a-43a242547c98\",\"type\":\"PolyAnnotation\"},{\"id\":\"296a185a-f962-4e20-9ead-de653ec03f98\",\"type\":\"GlyphRenderer\"},{\"id\":\"ed02cacf-87ef-41c5-8394-3689348236e8\",\"type\":\"GlyphRenderer\"}],\"title\":{\"id\":\"c88ed284-f4f1-4adc-a3c2-9705eb021c92\",\"type\":\"Title\"},\"tool_events\":{\"id\":\"ca162f90-cb56-4af2-88fd-4d29d6b01efd\",\"type\":\"ToolEvents\"},\"toolbar\":{\"id\":\"67c9340c-0e88-4e1f-9c03-1da6770b3035\",\"type\":\"Toolbar\"},\"x_range\":{\"id\":\"2eaa595a-f342-44d1-83a0-b20badad8281\",\"type\":\"DataRange1d\"},\"y_range\":{\"id\":\"86512993-3d53-4d7f-be2c-a4c4807de851\",\"type\":\"DataRange1d\"}},\"id\":\"03f48356-21c0-489e-a400-3f7ac4c7b22b\",\"subtype\":\"Figure\",\"type\":\"Plot\"},{\"attributes\":{\"callback\":null,\"plot\":{\"id\":\"03f48356-21c0-489e-a400-3f7ac4c7b22b\",\"subtype\":\"Figure\",\"type\":\"Plot\"}},\"id\":\"1b787487-3fd5-4b92-bb1e-2d043fb6f3ed\",\"type\":\"TapTool\"},{\"attributes\":{\"callback\":null},\"id\":\"2eaa595a-f342-44d1-83a0-b20badad8281\",\"type\":\"DataRange1d\"},{\"attributes\":{\"plot\":{\"id\":\"03f48356-21c0-489e-a400-3f7ac4c7b22b\",\"subtype\":\"Figure\",\"type\":\"Plot\"}},\"id\":\"595d90e9-9c28-45bd-be2b-ec0c44ccd356\",\"type\":\"ResetTool\"},{\"attributes\":{\"bottom_units\":\"screen\",\"fill_alpha\":{\"value\":0.5},\"fill_color\":{\"value\":\"lightgrey\"},\"left_units\":\"screen\",\"level\":\"overlay\",\"line_alpha\":{\"value\":1.0},\"line_color\":{\"value\":\"black\"},\"line_dash\":[4,4],\"line_width\":{\"value\":2},\"plot\":null,\"render_mode\":\"css\",\"right_units\":\"screen\",\"top_units\":\"screen\"},\"id\":\"137e26e5-1844-4c3d-8caf-6447b173af8d\",\"type\":\"BoxAnnotation\"},{\"attributes\":{\"overlay\":{\"id\":\"e8042841-141b-4f8e-944a-43a242547c98\",\"type\":\"PolyAnnotation\"},\"plot\":{\"id\":\"03f48356-21c0-489e-a400-3f7ac4c7b22b\",\"subtype\":\"Figure\",\"type\":\"Plot\"}},\"id\":\"bd5f4cc6-1899-4dc9-8000-714a7a95b207\",\"type\":\"PolySelectTool\"},{\"attributes\":{\"plot\":{\"id\":\"03f48356-21c0-489e-a400-3f7ac4c7b22b\",\"subtype\":\"Figure\",\"type\":\"Plot\"}},\"id\":\"3275188e-14c0-40cc-b3f3-f57601ac38dc\",\"type\":\"WheelZoomTool\"},{\"attributes\":{},\"id\":\"ca162f90-cb56-4af2-88fd-4d29d6b01efd\",\"type\":\"ToolEvents\"},{\"attributes\":{\"fill_alpha\":{\"value\":0.1},\"fill_color\":{\"value\":\"#1f77b4\"},\"line_alpha\":{\"value\":0.1},\"line_color\":{\"value\":\"#1f77b4\"},\"line_width\":{\"value\":3},\"x\":{\"field\":\"x\"},\"y\":{\"field\":\"y\"}},\"id\":\"5dc7254e-46c5-4d49-9544-b76c34aca727\",\"type\":\"Circle\"},{\"attributes\":{\"bottom_units\":\"screen\",\"fill_alpha\":{\"value\":0.5},\"fill_color\":{\"value\":\"lightgrey\"},\"left_units\":\"screen\",\"level\":\"overlay\",\"line_alpha\":{\"value\":1.0},\"line_color\":{\"value\":\"black\"},\"line_dash\":[4,4],\"line_width\":{\"value\":2},\"plot\":null,\"render_mode\":\"css\",\"right_units\":\"screen\",\"top_units\":\"screen\"},\"id\":\"3d1735ad-6446-4dc5-b173-bbd89203f589\",\"type\":\"BoxAnnotation\"},{\"attributes\":{},\"id\":\"e89c7aef-da93-4d3d-b1d3-f9bec01b80d7\",\"type\":\"BasicTickFormatter\"},{\"attributes\":{\"axis_label\":\"Predicted\",\"axis_label_text_color\":{\"value\":\"#aa6666\"},\"formatter\":{\"id\":\"1bc04074-d70d-49c0-89e0-02e1b82f0543\",\"type\":\"BasicTickFormatter\"},\"plot\":{\"id\":\"03f48356-21c0-489e-a400-3f7ac4c7b22b\",\"subtype\":\"Figure\",\"type\":\"Plot\"},\"ticker\":{\"id\":\"18d921f1-9afd-4e88-b58c-2a87e6b11d92\",\"type\":\"BasicTicker\"}},\"id\":\"43012bc6-8e8c-47d4-985c-d78676822778\",\"type\":\"LinearAxis\"},{\"attributes\":{\"fill_alpha\":{\"value\":0.5},\"fill_color\":{\"value\":\"lightgrey\"},\"level\":\"overlay\",\"line_alpha\":{\"value\":1.0},\"line_color\":{\"value\":\"black\"},\"line_dash\":[4,4],\"line_width\":{\"value\":2},\"plot\":null,\"xs_units\":\"screen\",\"ys_units\":\"screen\"},\"id\":\"1f6cd0a1-3ac7-4f4b-b74a-aaac52fe28ab\",\"type\":\"PolyAnnotation\"},{\"attributes\":{\"line_dash\":[4,4],\"line_width\":{\"value\":2},\"x\":{\"field\":\"x\"},\"y\":{\"field\":\"y\"}},\"id\":\"8441945d-9432-4d3a-a629-af7dc53c3064\",\"type\":\"Line\"},{\"attributes\":{\"callback\":null},\"id\":\"86512993-3d53-4d7f-be2c-a4c4807de851\",\"type\":\"DataRange1d\"},{\"attributes\":{\"overlay\":{\"id\":\"3d1735ad-6446-4dc5-b173-bbd89203f589\",\"type\":\"BoxAnnotation\"},\"plot\":{\"id\":\"03f48356-21c0-489e-a400-3f7ac4c7b22b\",\"subtype\":\"Figure\",\"type\":\"Plot\"}},\"id\":\"ff7ca584-8ae9-4853-9d91-79210ec21554\",\"type\":\"BoxZoomTool\"},{\"attributes\":{\"callback\":null,\"column_names\":[\"x\",\"y\"],\"data\":{\"x\":[20,53,132,25,88,54,75,17,28,35,80,360,749,41,26,44,82,28,275,18,27,34,28,102,34,42,426,57,124,19,128,30,281,19,19,86,45,29,28,22,220,126,15,22,31,81,35,18,24,37,95,19,253,34,24,182,74,23,78,23,24,24,47,270,113,253,82,20,47,978,34,31,199,171,33,361,113,117,74,33,38,36,28,41,117,267,45,18,21,37,190,47,381,28,25,116,26,20,35,181,29,24,65,18,136,34,157,253,101,25,74,28,46,53,29,44,46,36,41,82,138,28,42,62,266,102,25,44,31,74,142,41,43,119,27,15,73,64,53,76,120,24,20,50,21,80,30,341,24,919,30,56,34,53,175,47,32,23,39,1238,20,227,20,382,26,28,67],\"y\":[38.65555555555556,38.65555555555556,114.42857142857143,38.65555555555556,51.0722891566265,51.0722891566265,119.1875,38.65555555555556,38.65555555555556,38.65555555555556,119.1875,319.45454545454544,1238.0,38.65555555555556,38.65555555555556,38.65555555555556,51.0722891566265,33.45652173913044,222.2173913043478,33.45652173913044,33.45652173913044,33.45652173913044,33.45652173913044,115.46666666666667,33.45652173913044,33.45652173913044,305.14285714285717,33.45652173913044,33.45652173913044,33.45652173913044,110.54838709677419,33.45652173913044,218.94444444444446,33.45652173913044,41.883116883116884,43.705263157894734,41.883116883116884,41.883116883116884,41.883116883116884,41.883116883116884,232.58333333333334,131.78125,41.883116883116884,41.883116883116884,41.883116883116884,124.85714285714286,41.883116883116884,41.883116883116884,41.883116883116884,41.883116883116884,43.705263157894734,38.439655172413794,238.36363636363637,38.439655172413794,38.439655172413794,224.7,38.439655172413794,38.439655172413794,44.38356164383562,38.439655172413794,38.439655172413794,38.439655172413794,38.439655172413794,285.06666666666666,124.92,238.36363636363637,121.87878787878788,38.439655172413794,37.14,1238.0,37.14,37.14,113.96296296296296,243.85,37.14,396.0,115.21739130434783,113.96296296296296,40.71621621621622,37.14,37.14,37.14,37.14,37.14,115.21739130434783,355.75,40.15217391304348,40.15217391304348,40.15217391304348,45.21212121212121,135.28571428571428,45.21212121212121,367.6666666666667,40.15217391304348,40.15217391304348,114.17241379310344,40.15217391304348,40.15217391304348,40.15217391304348,229.72727272727272,40.15217391304348,40.15217391304348,39.985915492957744,36.97752808988764,127.56666666666666,36.97752808988764,117.14285714285714,224.57894736842104,117.14285714285714,36.97752808988764,36.97752808988764,36.97752808988764,39.985915492957744,117.14285714285714,36.97752808988764,36.97752808988764,39.985915492957744,36.97752808988764,36.97752808988764,46.159574468085104,96.1891891891892,44.21649484536083,44.21649484536083,44.21649484536083,227.8125,137.05263157894737,39.3936170212766,44.21649484536083,39.3936170212766,44.21649484536083,84.5,44.21649484536083,44.21649484536083,84.5,39.3936170212766,33.87179487179487,39.83076923076923,39.83076923076923,33.87179487179487,76.63157894736842,118.82857142857142,33.87179487179487,33.87179487179487,33.87179487179487,33.87179487179487,65.21428571428571,33.87179487179487,230.92857142857142,33.87179487179487,978.0,33.87179487179487,40.8235294117647,40.8235294117647,40.8235294117647,231.9090909090909,40.8235294117647,38.333333333333336,38.333333333333336,40.8235294117647,978.0,38.333333333333336,372.0,38.333333333333336,372.0,38.333333333333336,38.333333333333336,40.8235294117647]}},\"id\":\"57972c2d-dcb4-48bd-95c9-80336c4520cf\",\"type\":\"ColumnDataSource\"},{\"attributes\":{\"callback\":null,\"overlay\":{\"id\":\"1f6cd0a1-3ac7-4f4b-b74a-aaac52fe28ab\",\"type\":\"PolyAnnotation\"},\"plot\":{\"id\":\"03f48356-21c0-489e-a400-3f7ac4c7b22b\",\"subtype\":\"Figure\",\"type\":\"Plot\"}},\"id\":\"f32e055f-0ffe-4e75-aa26-af3fe12ca1f0\",\"type\":\"LassoSelectTool\"}],\"root_ids\":[\"03f48356-21c0-489e-a400-3f7ac4c7b22b\"]},\"title\":\"Bokeh Application\",\"version\":\"0.12.2\"}};\n",
       "            var render_items = [{\"docid\":\"5a92e43a-909d-479c-a51c-346c62d24e44\",\"elementid\":\"b9393f1b-0ecf-4466-8b6d-f31d79f09a33\",\"modelid\":\"03f48356-21c0-489e-a400-3f7ac4c7b22b\"}];\n",
       "            \n",
       "            Bokeh.embed.embed_items(docs_json, render_items);\n",
       "        });\n",
       "      },\n",
       "      function(Bokeh) {\n",
       "      }\n",
       "    ];\n",
       "  \n",
       "    function run_inline_js() {\n",
       "      \n",
       "      if ((window.Bokeh !== undefined) || (force === \"1\")) {\n",
       "        for (var i = 0; i < inline_js.length; i++) {\n",
       "          inline_js[i](window.Bokeh);\n",
       "        }if (force === \"1\") {\n",
       "          display_loaded();\n",
       "        }} else if (Date.now() < window._bokeh_timeout) {\n",
       "        setTimeout(run_inline_js, 100);\n",
       "      } else if (!window._bokeh_failed_load) {\n",
       "        console.log(\"Bokeh: BokehJS failed to load within specified timeout.\");\n",
       "        window._bokeh_failed_load = true;\n",
       "      } else if (!force) {\n",
       "        var cell = $(\"#b9393f1b-0ecf-4466-8b6d-f31d79f09a33\").parents('.cell').data().cell;\n",
       "        cell.output_area.append_execute_result(NB_LOAD_WARNING)\n",
       "      }\n",
       "  \n",
       "    }\n",
       "  \n",
       "    if (window._bokeh_is_loading === 0) {\n",
       "      console.log(\"Bokeh: BokehJS loaded, going straight to plotting\");\n",
       "      run_inline_js();\n",
       "    } else {\n",
       "      load_libs(js_urls, function() {\n",
       "        console.log(\"Bokeh: BokehJS plotting callback run at\", now());\n",
       "        run_inline_js();\n",
       "      });\n",
       "    }\n",
       "  }(this));\n",
       "</script>"
      ]
     },
     "metadata": {},
     "output_type": "display_data"
    }
   ],
   "source": [
    "# Plotining using bokeh\n",
    "#TOOLS = [BoxSelectTool(), HoverTool()]\n",
    "#TOOLS = 'hover,box_zoom,box_select,crosshair,resize,reset,DecisionTreeRegressor_select,pan,save,poly_select,tap,wheel_zoom,undo'\n",
    "TOOLS = 'box_zoom,box_select,crosshair,resize,reset,lasso_select,pan,save,poly_select,tap,wheel_zoom,undo'\n",
    "p = figure(plot_width=500, plot_height=500, tools=TOOLS)\n",
    "p.scatter(Y, predicted,x=\"jjj\", marker=\"o\", color=\"#80B1D3\", line_width=3)\n",
    "p.title.align = \"center\"\n",
    "p.xaxis.axis_label = \"Measured\"\n",
    "p.xaxis.axis_label_text_color = \"#aa6666\"\n",
    "#p.xaxis.axis_label_standoff = 30\n",
    "p.xaxis.major_tick_line_color = \"firebrick\"\n",
    "p.xaxis.major_tick_line_width = 3\n",
    "p.xaxis.minor_tick_line_color = \"orange\"\n",
    "p.yaxis.axis_label = \"Predicted\"\n",
    "p.yaxis.axis_label_text_font_style = \"italic\"\n",
    "p.yaxis.axis_label_text_color = \"#aa6666\"\n",
    "p.background_fill_color = \"beige\"\n",
    "p.background_fill_alpha = 0.5\n",
    "#p.line([Y.min(), Y.max()], [Y.min(), Y.max()], line_dash=\"4 4\", line_width=2, color='red')\n",
    "\n",
    "# create a new plot with the toolbar below\n",
    "# line_dash=\"4 4\", line_width=2, color='red'\n",
    "p.line([Y.min(), Y.max()], [Y.min(), Y.max()], line_dash=\"4 4\", line_width=2, line_color=\"black\")\n",
    "show(p)"
   ]
  },
  {
   "cell_type": "code",
   "execution_count": 20,
   "metadata": {
    "collapsed": false
   },
   "outputs": [
    {
     "data": {
      "text/plain": [
       "<matplotlib.text.Text at 0x7f89650f2990>"
      ]
     },
     "execution_count": 20,
     "metadata": {},
     "output_type": "execute_result"
    },
    {
     "data": {
      "image/png": "[encoded data removed]",
      "text/plain": [
       "<matplotlib.figure.Figure at 0x7f89650b6d50>"
      ]
     },
     "metadata": {},
     "output_type": "display_data"
    }
   ],
   "source": [
    "plt.scatter(predicted, (predicted - Y), c='r', s=30)\n",
    "plt.title(\"Residual plot on the training data\")\n",
    "plt.xlabel(\"Predicted\")\n",
    "plt.ylabel(\"Residuals\")"
   ]
  },
  {
   "cell_type": "code",
   "execution_count": 21,
   "metadata": {
    "collapsed": false
   },
   "outputs": [
    {
     "data": {
      "text/html": [
       "\n",
       "\n",
       "    <div class=\"bk-root\">\n",
       "        <div class=\"plotdiv\" id=\"b99c47fa-85b1-49c9-9211-561d2f165c3b\"></div>\n",
       "    </div>\n",
       "<script type=\"text/javascript\">\n",
       "  \n",
       "  (function(global) {\n",
       "    function now() {\n",
       "      return new Date();\n",
       "    }\n",
       "  \n",
       "    var force = \"\";\n",
       "  \n",
       "    if (typeof (window._bokeh_onload_callbacks) === \"undefined\" || force !== \"\") {\n",
       "      window._bokeh_onload_callbacks = [];\n",
       "      window._bokeh_is_loading = undefined;\n",
       "    }\n",
       "  \n",
       "  \n",
       "    \n",
       "    if (typeof (window._bokeh_timeout) === \"undefined\" || force !== \"\") {\n",
       "      window._bokeh_timeout = Date.now() + 0;\n",
       "      window._bokeh_failed_load = false;\n",
       "    }\n",
       "  \n",
       "    var NB_LOAD_WARNING = {'data': {'text/html':\n",
       "       \"<div style='background-color: #fdd'>\\n\"+\n",
       "       \"<p>\\n\"+\n",
       "       \"BokehJS does not appear to have successfully loaded. If loading BokehJS from CDN, this \\n\"+\n",
       "       \"may be due to a slow or bad network connection. Possible fixes:\\n\"+\n",
       "       \"</p>\\n\"+\n",
       "       \"<ul>\\n\"+\n",
       "       \"<li>re-rerun `output_notebook()` to attempt to load from CDN again, or</li>\\n\"+\n",
       "       \"<li>use INLINE resources instead, as so:</li>\\n\"+\n",
       "       \"</ul>\\n\"+\n",
       "       \"<code>\\n\"+\n",
       "       \"from bokeh.resources import INLINE\\n\"+\n",
       "       \"output_notebook(resources=INLINE)\\n\"+\n",
       "       \"</code>\\n\"+\n",
       "       \"</div>\"}};\n",
       "  \n",
       "    function display_loaded() {\n",
       "      if (window.Bokeh !== undefined) {\n",
       "        Bokeh.$(\"#b99c47fa-85b1-49c9-9211-561d2f165c3b\").text(\"BokehJS successfully loaded.\");\n",
       "      } else if (Date.now() < window._bokeh_timeout) {\n",
       "        setTimeout(display_loaded, 100)\n",
       "      }\n",
       "    }\n",
       "  \n",
       "    function run_callbacks() {\n",
       "      window._bokeh_onload_callbacks.forEach(function(callback) { callback() });\n",
       "      delete window._bokeh_onload_callbacks\n",
       "      console.info(\"Bokeh: all callbacks have finished\");\n",
       "    }\n",
       "  \n",
       "    function load_libs(js_urls, callback) {\n",
       "      window._bokeh_onload_callbacks.push(callback);\n",
       "      if (window._bokeh_is_loading > 0) {\n",
       "        console.log(\"Bokeh: BokehJS is being loaded, scheduling callback at\", now());\n",
       "        return null;\n",
       "      }\n",
       "      if (js_urls == null || js_urls.length === 0) {\n",
       "        run_callbacks();\n",
       "        return null;\n",
       "      }\n",
       "      console.log(\"Bokeh: BokehJS not loaded, scheduling load and callback at\", now());\n",
       "      window._bokeh_is_loading = js_urls.length;\n",
       "      for (var i = 0; i < js_urls.length; i++) {\n",
       "        var url = js_urls[i];\n",
       "        var s = document.createElement('script');\n",
       "        s.src = url;\n",
       "        s.async = false;\n",
       "        s.onreadystatechange = s.onload = function() {\n",
       "          window._bokeh_is_loading--;\n",
       "          if (window._bokeh_is_loading === 0) {\n",
       "            console.log(\"Bokeh: all BokehJS libraries loaded\");\n",
       "            run_callbacks()\n",
       "          }\n",
       "        };\n",
       "        s.onerror = function() {\n",
       "          console.warn(\"failed to load library \" + url);\n",
       "        };\n",
       "        console.log(\"Bokeh: injecting script tag for BokehJS library: \", url);\n",
       "        document.getElementsByTagName(\"head\")[0].appendChild(s);\n",
       "      }\n",
       "    };var element = document.getElementById(\"b99c47fa-85b1-49c9-9211-561d2f165c3b\");\n",
       "    if (element == null) {\n",
       "      console.log(\"Bokeh: ERROR: autoload.js configured with elementid 'b99c47fa-85b1-49c9-9211-561d2f165c3b' but no matching script tag was found. \")\n",
       "      return false;\n",
       "    }\n",
       "  \n",
       "    var js_urls = [];\n",
       "  \n",
       "    var inline_js = [\n",
       "      function(Bokeh) {\n",
       "        Bokeh.$(function() {\n",
       "            var docs_json = {\"cd511ced-19b4-4187-ae2b-98ccfcad1f84\":{\"roots\":{\"references\":[{\"attributes\":{},\"id\":\"a6a33d06-f9f0-47d0-b3dd-9c3e19f02b79\",\"type\":\"BasicTicker\"},{\"attributes\":{\"fill_alpha\":{\"value\":0.5},\"fill_color\":{\"value\":\"lightgrey\"},\"level\":\"overlay\",\"line_alpha\":{\"value\":1.0},\"line_color\":{\"value\":\"black\"},\"line_dash\":[4,4],\"line_width\":{\"value\":2},\"plot\":null,\"xs_units\":\"screen\",\"ys_units\":\"screen\"},\"id\":\"8763bd3b-fbc6-4409-9c77-493757392ee9\",\"type\":\"PolyAnnotation\"},{\"attributes\":{\"plot\":{\"id\":\"b083bb8c-5f57-420f-83d7-48aac49f5014\",\"subtype\":\"Figure\",\"type\":\"Plot\"}},\"id\":\"af6ba15b-c27e-4ff9-a8a4-db40279f6a76\",\"type\":\"PanTool\"},{\"attributes\":{\"align\":\"center\",\"plot\":null,\"text\":\"Residual plot on the training data\"},\"id\":\"230d289e-73dc-4590-86b4-938df1f14922\",\"type\":\"Title\"},{\"attributes\":{\"plot\":{\"id\":\"b083bb8c-5f57-420f-83d7-48aac49f5014\",\"subtype\":\"Figure\",\"type\":\"Plot\"}},\"id\":\"186954e4-e489-4245-adce-19ae6093d3bb\",\"type\":\"ResizeTool\"},{\"attributes\":{\"plot\":{\"id\":\"b083bb8c-5f57-420f-83d7-48aac49f5014\",\"subtype\":\"Figure\",\"type\":\"Plot\"}},\"id\":\"7491e58f-b671-403e-a5d5-a92d2bf9ff55\",\"type\":\"UndoTool\"},{\"attributes\":{},\"id\":\"48d749e2-d87b-4b04-bd16-4ab5f7ebc9ac\",\"type\":\"ToolEvents\"},{\"attributes\":{\"fill_alpha\":{\"value\":0.1},\"fill_color\":{\"value\":\"#1f77b4\"},\"line_alpha\":{\"value\":0.1},\"line_color\":{\"value\":\"#1f77b4\"},\"line_width\":{\"value\":3},\"x\":{\"field\":\"x\"},\"y\":{\"field\":\"y\"}},\"id\":\"2aa231f1-efdd-4a10-94df-eab5501b8d31\",\"type\":\"Circle\"},{\"attributes\":{\"dimension\":1,\"plot\":{\"id\":\"b083bb8c-5f57-420f-83d7-48aac49f5014\",\"subtype\":\"Figure\",\"type\":\"Plot\"},\"ticker\":{\"id\":\"a6a33d06-f9f0-47d0-b3dd-9c3e19f02b79\",\"type\":\"BasicTicker\"}},\"id\":\"022c93c8-70e6-4703-8705-9dcb177f4716\",\"type\":\"Grid\"},{\"attributes\":{\"plot\":{\"id\":\"b083bb8c-5f57-420f-83d7-48aac49f5014\",\"subtype\":\"Figure\",\"type\":\"Plot\"},\"ticker\":{\"id\":\"b8bdb490-49f6-42c2-be4c-8e977bbdd6d0\",\"type\":\"BasicTicker\"}},\"id\":\"f5decd97-9ca8-4572-9b02-694c20ad5ea6\",\"type\":\"Grid\"},{\"attributes\":{\"axis_label\":\"Predicted\",\"axis_label_text_color\":{\"value\":\"#aa6666\"},\"formatter\":{\"id\":\"ceddb725-6b39-4181-9e40-9e135e2ccee3\",\"type\":\"BasicTickFormatter\"},\"major_tick_line_color\":{\"value\":\"firebrick\"},\"major_tick_line_width\":{\"value\":3},\"minor_tick_line_color\":{\"value\":\"orange\"},\"plot\":{\"id\":\"b083bb8c-5f57-420f-83d7-48aac49f5014\",\"subtype\":\"Figure\",\"type\":\"Plot\"},\"ticker\":{\"id\":\"b8bdb490-49f6-42c2-be4c-8e977bbdd6d0\",\"type\":\"BasicTicker\"}},\"id\":\"72de3b7b-4b66-48ed-aabd-cf4e9e1eae91\",\"type\":\"LinearAxis\"},{\"attributes\":{\"fill_color\":{\"value\":\"#80B1D3\"},\"line_color\":{\"value\":\"#80B1D3\"},\"line_width\":{\"value\":3},\"x\":{\"field\":\"x\"},\"y\":{\"field\":\"y\"}},\"id\":\"90f938cb-5a84-4f5f-b8ba-6560ca5cd43d\",\"type\":\"Circle\"},{\"attributes\":{},\"id\":\"ceddb725-6b39-4181-9e40-9e135e2ccee3\",\"type\":\"BasicTickFormatter\"},{\"attributes\":{\"active_drag\":\"auto\",\"active_scroll\":\"auto\",\"active_tap\":\"auto\",\"tools\":[{\"id\":\"52cf61c1-90d4-48fd-b6b7-0891c720601c\",\"type\":\"BoxZoomTool\"},{\"id\":\"89fa50cf-0212-4809-8ec1-b3b502233d3a\",\"type\":\"BoxSelectTool\"},{\"id\":\"f042889c-4eb6-487a-b24e-9e102f40c316\",\"type\":\"CrosshairTool\"},{\"id\":\"186954e4-e489-4245-adce-19ae6093d3bb\",\"type\":\"ResizeTool\"},{\"id\":\"65b40056-56d4-4c94-894f-d884b950ac07\",\"type\":\"ResetTool\"},{\"id\":\"feeabe9c-3714-4b13-8bba-20a7f71a9e9c\",\"type\":\"LassoSelectTool\"},{\"id\":\"af6ba15b-c27e-4ff9-a8a4-db40279f6a76\",\"type\":\"PanTool\"},{\"id\":\"7a7bd751-c819-44c8-b9e7-dbb9e8908250\",\"type\":\"SaveTool\"},{\"id\":\"19724f83-220a-4f4c-9969-3bce61b7f381\",\"type\":\"PolySelectTool\"},{\"id\":\"115b46a3-7b29-40e1-9be2-d4a985da1ed0\",\"type\":\"TapTool\"},{\"id\":\"f8835954-de22-4bbd-82a9-4458ff9f6542\",\"type\":\"WheelZoomTool\"},{\"id\":\"7491e58f-b671-403e-a5d5-a92d2bf9ff55\",\"type\":\"UndoTool\"}]},\"id\":\"6ca69dbb-558c-4ae6-b46f-52561c885b3e\",\"type\":\"Toolbar\"},{\"attributes\":{\"data_source\":{\"id\":\"1f044aac-8cd0-4720-ad35-55ff250dc52c\",\"type\":\"ColumnDataSource\"},\"glyph\":{\"id\":\"90f938cb-5a84-4f5f-b8ba-6560ca5cd43d\",\"type\":\"Circle\"},\"hover_glyph\":null,\"nonselection_glyph\":{\"id\":\"2aa231f1-efdd-4a10-94df-eab5501b8d31\",\"type\":\"Circle\"},\"selection_glyph\":null},\"id\":\"32b3ab36-19f7-48b6-8d22-eeb725b160b0\",\"type\":\"GlyphRenderer\"},{\"attributes\":{\"callback\":null},\"id\":\"77683c44-7040-48ec-9101-cc5c067cafe8\",\"type\":\"DataRange1d\"},{\"attributes\":{\"bottom_units\":\"screen\",\"fill_alpha\":{\"value\":0.5},\"fill_color\":{\"value\":\"lightgrey\"},\"left_units\":\"screen\",\"level\":\"overlay\",\"line_alpha\":{\"value\":1.0},\"line_color\":{\"value\":\"black\"},\"line_dash\":[4,4],\"line_width\":{\"value\":2},\"plot\":null,\"render_mode\":\"css\",\"right_units\":\"screen\",\"top_units\":\"screen\"},\"id\":\"1916f2aa-32a8-4264-9c6d-a5c1c4fc9ce3\",\"type\":\"BoxAnnotation\"},{\"attributes\":{\"bottom_units\":\"screen\",\"fill_alpha\":{\"value\":0.5},\"fill_color\":{\"value\":\"lightgrey\"},\"left_units\":\"screen\",\"level\":\"overlay\",\"line_alpha\":{\"value\":1.0},\"line_color\":{\"value\":\"black\"},\"line_dash\":[4,4],\"line_width\":{\"value\":2},\"plot\":null,\"render_mode\":\"css\",\"right_units\":\"screen\",\"top_units\":\"screen\"},\"id\":\"f54746e7-e3c8-4052-9bf5-2eab8f176693\",\"type\":\"BoxAnnotation\"},{\"attributes\":{\"overlay\":{\"id\":\"1916f2aa-32a8-4264-9c6d-a5c1c4fc9ce3\",\"type\":\"BoxAnnotation\"},\"plot\":{\"id\":\"b083bb8c-5f57-420f-83d7-48aac49f5014\",\"subtype\":\"Figure\",\"type\":\"Plot\"}},\"id\":\"52cf61c1-90d4-48fd-b6b7-0891c720601c\",\"type\":\"BoxZoomTool\"},{\"attributes\":{},\"id\":\"b8bdb490-49f6-42c2-be4c-8e977bbdd6d0\",\"type\":\"BasicTicker\"},{\"attributes\":{\"plot\":{\"id\":\"b083bb8c-5f57-420f-83d7-48aac49f5014\",\"subtype\":\"Figure\",\"type\":\"Plot\"}},\"id\":\"f042889c-4eb6-487a-b24e-9e102f40c316\",\"type\":\"CrosshairTool\"},{\"attributes\":{\"axis_label\":\"Residuals\",\"axis_label_text_color\":{\"value\":\"#aa6666\"},\"formatter\":{\"id\":\"503f20df-2477-46f0-8e60-42c132168ceb\",\"type\":\"BasicTickFormatter\"},\"plot\":{\"id\":\"b083bb8c-5f57-420f-83d7-48aac49f5014\",\"subtype\":\"Figure\",\"type\":\"Plot\"},\"ticker\":{\"id\":\"a6a33d06-f9f0-47d0-b3dd-9c3e19f02b79\",\"type\":\"BasicTicker\"}},\"id\":\"1a6547a3-1683-4006-8eea-88839635f3ad\",\"type\":\"LinearAxis\"},{\"attributes\":{},\"id\":\"503f20df-2477-46f0-8e60-42c132168ceb\",\"type\":\"BasicTickFormatter\"},{\"attributes\":{\"callback\":null},\"id\":\"c966c8e2-4051-4841-8006-7a3c47f2e14f\",\"type\":\"DataRange1d\"},{\"attributes\":{\"callback\":null,\"overlay\":{\"id\":\"53c42a6d-4e0e-4af9-84f3-2e866e121374\",\"type\":\"PolyAnnotation\"},\"plot\":{\"id\":\"b083bb8c-5f57-420f-83d7-48aac49f5014\",\"subtype\":\"Figure\",\"type\":\"Plot\"}},\"id\":\"feeabe9c-3714-4b13-8bba-20a7f71a9e9c\",\"type\":\"LassoSelectTool\"},{\"attributes\":{\"plot\":{\"id\":\"b083bb8c-5f57-420f-83d7-48aac49f5014\",\"subtype\":\"Figure\",\"type\":\"Plot\"}},\"id\":\"f8835954-de22-4bbd-82a9-4458ff9f6542\",\"type\":\"WheelZoomTool\"},{\"attributes\":{\"callback\":null,\"plot\":{\"id\":\"b083bb8c-5f57-420f-83d7-48aac49f5014\",\"subtype\":\"Figure\",\"type\":\"Plot\"}},\"id\":\"115b46a3-7b29-40e1-9be2-d4a985da1ed0\",\"type\":\"TapTool\"},{\"attributes\":{\"plot\":{\"id\":\"b083bb8c-5f57-420f-83d7-48aac49f5014\",\"subtype\":\"Figure\",\"type\":\"Plot\"}},\"id\":\"7a7bd751-c819-44c8-b9e7-dbb9e8908250\",\"type\":\"SaveTool\"},{\"attributes\":{\"callback\":null,\"overlay\":{\"id\":\"f54746e7-e3c8-4052-9bf5-2eab8f176693\",\"type\":\"BoxAnnotation\"},\"plot\":{\"id\":\"b083bb8c-5f57-420f-83d7-48aac49f5014\",\"subtype\":\"Figure\",\"type\":\"Plot\"},\"renderers\":[{\"id\":\"32b3ab36-19f7-48b6-8d22-eeb725b160b0\",\"type\":\"GlyphRenderer\"}]},\"id\":\"89fa50cf-0212-4809-8ec1-b3b502233d3a\",\"type\":\"BoxSelectTool\"},{\"attributes\":{\"fill_alpha\":{\"value\":0.5},\"fill_color\":{\"value\":\"lightgrey\"},\"level\":\"overlay\",\"line_alpha\":{\"value\":1.0},\"line_color\":{\"value\":\"black\"},\"line_dash\":[4,4],\"line_width\":{\"value\":2},\"plot\":null,\"xs_units\":\"screen\",\"ys_units\":\"screen\"},\"id\":\"53c42a6d-4e0e-4af9-84f3-2e866e121374\",\"type\":\"PolyAnnotation\"},{\"attributes\":{\"callback\":null,\"column_names\":[\"x\",\"y\"],\"data\":{\"x\":[38.65555555555556,38.65555555555556,114.42857142857143,38.65555555555556,51.0722891566265,51.0722891566265,119.1875,38.65555555555556,38.65555555555556,38.65555555555556,119.1875,319.45454545454544,1238.0,38.65555555555556,38.65555555555556,38.65555555555556,51.0722891566265,33.45652173913044,222.2173913043478,33.45652173913044,33.45652173913044,33.45652173913044,33.45652173913044,115.46666666666667,33.45652173913044,33.45652173913044,305.14285714285717,33.45652173913044,33.45652173913044,33.45652173913044,110.54838709677419,33.45652173913044,218.94444444444446,33.45652173913044,41.883116883116884,43.705263157894734,41.883116883116884,41.883116883116884,41.883116883116884,41.883116883116884,232.58333333333334,131.78125,41.883116883116884,41.883116883116884,41.883116883116884,124.85714285714286,41.883116883116884,41.883116883116884,41.883116883116884,41.883116883116884,43.705263157894734,38.439655172413794,238.36363636363637,38.439655172413794,38.439655172413794,224.7,38.439655172413794,38.439655172413794,44.38356164383562,38.439655172413794,38.439655172413794,38.439655172413794,38.439655172413794,285.06666666666666,124.92,238.36363636363637,121.87878787878788,38.439655172413794,37.14,1238.0,37.14,37.14,113.96296296296296,243.85,37.14,396.0,115.21739130434783,113.96296296296296,40.71621621621622,37.14,37.14,37.14,37.14,37.14,115.21739130434783,355.75,40.15217391304348,40.15217391304348,40.15217391304348,45.21212121212121,135.28571428571428,45.21212121212121,367.6666666666667,40.15217391304348,40.15217391304348,114.17241379310344,40.15217391304348,40.15217391304348,40.15217391304348,229.72727272727272,40.15217391304348,40.15217391304348,39.985915492957744,36.97752808988764,127.56666666666666,36.97752808988764,117.14285714285714,224.57894736842104,117.14285714285714,36.97752808988764,36.97752808988764,36.97752808988764,39.985915492957744,117.14285714285714,36.97752808988764,36.97752808988764,39.985915492957744,36.97752808988764,36.97752808988764,46.159574468085104,96.1891891891892,44.21649484536083,44.21649484536083,44.21649484536083,227.8125,137.05263157894737,39.3936170212766,44.21649484536083,39.3936170212766,44.21649484536083,84.5,44.21649484536083,44.21649484536083,84.5,39.3936170212766,33.87179487179487,39.83076923076923,39.83076923076923,33.87179487179487,76.63157894736842,118.82857142857142,33.87179487179487,33.87179487179487,33.87179487179487,33.87179487179487,65.21428571428571,33.87179487179487,230.92857142857142,33.87179487179487,978.0,33.87179487179487,40.8235294117647,40.8235294117647,40.8235294117647,231.9090909090909,40.8235294117647,38.333333333333336,38.333333333333336,40.8235294117647,978.0,38.333333333333336,372.0,38.333333333333336,372.0,38.333333333333336,38.333333333333336,40.8235294117647],\"y\":[18.65555555555556,-14.344444444444441,-17.57142857142857,13.655555555555559,-36.9277108433735,-2.9277108433734966,44.1875,21.65555555555556,10.655555555555559,3.6555555555555586,39.1875,-40.54545454545456,489.0,-2.3444444444444414,12.655555555555559,-5.3444444444444414,-30.927710843373497,5.456521739130437,-52.782608695652186,15.456521739130437,6.456521739130437,-0.5434782608695627,5.456521739130437,13.466666666666669,-0.5434782608695627,-8.543478260869563,-120.85714285714283,-23.543478260869563,-90.54347826086956,14.456521739130437,-17.451612903225808,3.4565217391304373,-62.05555555555554,14.456521739130437,22.883116883116884,-42.294736842105266,-3.116883116883116,12.883116883116884,13.883116883116884,19.883116883116884,12.583333333333343,5.78125,26.883116883116884,19.883116883116884,10.883116883116884,43.85714285714286,6.883116883116884,23.883116883116884,17.883116883116884,4.883116883116884,-51.294736842105266,19.439655172413794,-14.636363636363626,4.439655172413794,14.439655172413794,42.69999999999999,-35.560344827586206,15.439655172413794,-33.61643835616438,15.439655172413794,14.439655172413794,14.439655172413794,-8.560344827586206,15.066666666666663,11.920000000000002,-14.636363636363626,39.878787878787875,18.439655172413794,-9.86,260.0,3.1400000000000006,6.140000000000001,-85.03703703703704,72.85,4.140000000000001,35.0,2.217391304347828,-3.037037037037038,-33.28378378378378,4.140000000000001,-0.8599999999999994,1.1400000000000006,9.14,-3.8599999999999994,-1.782608695652172,88.75,-4.847826086956523,22.152173913043477,19.152173913043477,8.212121212121211,-54.71428571428572,-1.787878787878789,-13.333333333333314,12.152173913043477,15.152173913043477,-1.8275862068965552,14.152173913043477,20.152173913043477,5.152173913043477,48.72727272727272,11.152173913043477,16.152173913043477,-25.014084507042256,18.97752808988764,-8.433333333333337,2.9775280898876417,-39.85714285714286,-28.42105263157896,16.14285714285714,11.977528089887642,-37.02247191011236,8.977528089887642,-6.014084507042256,64.14285714285714,7.977528089887642,-7.022471910112358,-6.014084507042256,0.9775280898876417,-4.022471910112358,-35.840425531914896,-41.81081081081081,16.216494845360828,2.2164948453608275,-17.783505154639172,-38.1875,35.05263157894737,14.393617021276597,0.21649484536082753,8.393617021276597,-29.783505154639172,-57.5,3.2164948453608275,1.2164948453608275,-34.5,12.393617021276597,18.87179487179487,-33.16923076923077,-24.169230769230772,-19.12820512820513,0.6315789473684248,-1.171428571428578,9.871794871794869,13.871794871794869,-16.12820512820513,12.871794871794869,-14.785714285714292,3.8717948717948687,-110.07142857142858,9.871794871794869,59.0,3.8717948717948687,-15.176470588235297,6.823529411764703,-12.176470588235297,56.90909090909091,-6.176470588235297,6.333333333333336,15.333333333333336,1.823529411764703,-260.0,18.333333333333336,145.0,18.333333333333336,-10.0,12.333333333333336,10.333333333333336,-26.176470588235297]}},\"id\":\"1f044aac-8cd0-4720-ad35-55ff250dc52c\",\"type\":\"ColumnDataSource\"},{\"attributes\":{\"plot\":{\"id\":\"b083bb8c-5f57-420f-83d7-48aac49f5014\",\"subtype\":\"Figure\",\"type\":\"Plot\"}},\"id\":\"65b40056-56d4-4c94-894f-d884b950ac07\",\"type\":\"ResetTool\"},{\"attributes\":{\"overlay\":{\"id\":\"8763bd3b-fbc6-4409-9c77-493757392ee9\",\"type\":\"PolyAnnotation\"},\"plot\":{\"id\":\"b083bb8c-5f57-420f-83d7-48aac49f5014\",\"subtype\":\"Figure\",\"type\":\"Plot\"}},\"id\":\"19724f83-220a-4f4c-9969-3bce61b7f381\",\"type\":\"PolySelectTool\"},{\"attributes\":{\"background_fill_alpha\":{\"value\":0.5},\"background_fill_color\":{\"value\":\"beige\"},\"below\":[{\"id\":\"72de3b7b-4b66-48ed-aabd-cf4e9e1eae91\",\"type\":\"LinearAxis\"}],\"left\":[{\"id\":\"1a6547a3-1683-4006-8eea-88839635f3ad\",\"type\":\"LinearAxis\"}],\"plot_height\":500,\"plot_width\":500,\"renderers\":[{\"id\":\"72de3b7b-4b66-48ed-aabd-cf4e9e1eae91\",\"type\":\"LinearAxis\"},{\"id\":\"f5decd97-9ca8-4572-9b02-694c20ad5ea6\",\"type\":\"Grid\"},{\"id\":\"1a6547a3-1683-4006-8eea-88839635f3ad\",\"type\":\"LinearAxis\"},{\"id\":\"022c93c8-70e6-4703-8705-9dcb177f4716\",\"type\":\"Grid\"},{\"id\":\"1916f2aa-32a8-4264-9c6d-a5c1c4fc9ce3\",\"type\":\"BoxAnnotation\"},{\"id\":\"f54746e7-e3c8-4052-9bf5-2eab8f176693\",\"type\":\"BoxAnnotation\"},{\"id\":\"53c42a6d-4e0e-4af9-84f3-2e866e121374\",\"type\":\"PolyAnnotation\"},{\"id\":\"8763bd3b-fbc6-4409-9c77-493757392ee9\",\"type\":\"PolyAnnotation\"},{\"id\":\"32b3ab36-19f7-48b6-8d22-eeb725b160b0\",\"type\":\"GlyphRenderer\"}],\"title\":{\"id\":\"230d289e-73dc-4590-86b4-938df1f14922\",\"type\":\"Title\"},\"tool_events\":{\"id\":\"48d749e2-d87b-4b04-bd16-4ab5f7ebc9ac\",\"type\":\"ToolEvents\"},\"toolbar\":{\"id\":\"6ca69dbb-558c-4ae6-b46f-52561c885b3e\",\"type\":\"Toolbar\"},\"x_range\":{\"id\":\"77683c44-7040-48ec-9101-cc5c067cafe8\",\"type\":\"DataRange1d\"},\"y_range\":{\"id\":\"c966c8e2-4051-4841-8006-7a3c47f2e14f\",\"type\":\"DataRange1d\"}},\"id\":\"b083bb8c-5f57-420f-83d7-48aac49f5014\",\"subtype\":\"Figure\",\"type\":\"Plot\"}],\"root_ids\":[\"b083bb8c-5f57-420f-83d7-48aac49f5014\"]},\"title\":\"Bokeh Application\",\"version\":\"0.12.2\"}};\n",
       "            var render_items = [{\"docid\":\"cd511ced-19b4-4187-ae2b-98ccfcad1f84\",\"elementid\":\"b99c47fa-85b1-49c9-9211-561d2f165c3b\",\"modelid\":\"b083bb8c-5f57-420f-83d7-48aac49f5014\"}];\n",
       "            \n",
       "            Bokeh.embed.embed_items(docs_json, render_items);\n",
       "        });\n",
       "      },\n",
       "      function(Bokeh) {\n",
       "      }\n",
       "    ];\n",
       "  \n",
       "    function run_inline_js() {\n",
       "      \n",
       "      if ((window.Bokeh !== undefined) || (force === \"1\")) {\n",
       "        for (var i = 0; i < inline_js.length; i++) {\n",
       "          inline_js[i](window.Bokeh);\n",
       "        }if (force === \"1\") {\n",
       "          display_loaded();\n",
       "        }} else if (Date.now() < window._bokeh_timeout) {\n",
       "        setTimeout(run_inline_js, 100);\n",
       "      } else if (!window._bokeh_failed_load) {\n",
       "        console.log(\"Bokeh: BokehJS failed to load within specified timeout.\");\n",
       "        window._bokeh_failed_load = true;\n",
       "      } else if (!force) {\n",
       "        var cell = $(\"#b99c47fa-85b1-49c9-9211-561d2f165c3b\").parents('.cell').data().cell;\n",
       "        cell.output_area.append_execute_result(NB_LOAD_WARNING)\n",
       "      }\n",
       "  \n",
       "    }\n",
       "  \n",
       "    if (window._bokeh_is_loading === 0) {\n",
       "      console.log(\"Bokeh: BokehJS loaded, going straight to plotting\");\n",
       "      run_inline_js();\n",
       "    } else {\n",
       "      load_libs(js_urls, function() {\n",
       "        console.log(\"Bokeh: BokehJS plotting callback run at\", now());\n",
       "        run_inline_js();\n",
       "      });\n",
       "    }\n",
       "  }(this));\n",
       "</script>"
      ]
     },
     "metadata": {},
     "output_type": "display_data"
    }
   ],
   "source": [
    "# Plotining using bokeh\n",
    "#TOOLS = 'hover,box_zoom,box_select,crosshair,resize,reset,DecisionTreeRegressor_select,pan,save,poly_select,tap,wheel_zoom,undo'\n",
    "TOOLS = 'box_zoom,box_select,crosshair,resize,reset,lasso_select,pan,save,poly_select,tap,wheel_zoom,undo'\n",
    "p = figure(plot_width=500, plot_height=500, title=\"Residual plot on the training data\", tools=TOOLS)\n",
    "p.scatter(predicted, (predicted - Y),x=\"jjj\", marker=\"o\", color=\"#80B1D3\", line_width=3)\n",
    "p.title.align = \"center\"\n",
    "p.xaxis.axis_label = \"Predicted\"\n",
    "p.xaxis.axis_label_text_color = \"#aa6666\"\n",
    "#p.xaxis.axis_label_standoff = 30\n",
    "p.xaxis.major_tick_line_color = \"firebrick\"\n",
    "p.xaxis.major_tick_line_width = 3\n",
    "p.xaxis.minor_tick_line_color = \"orange\"\n",
    "p.yaxis.axis_label = \"Residuals\"\n",
    "p.yaxis.axis_label_text_font_style = \"italic\"\n",
    "p.yaxis.axis_label_text_color = \"#aa6666\"\n",
    "p.background_fill_color = \"beige\"\n",
    "p.background_fill_alpha = 0.5\n",
    "#p.line([2,38], [0, 0], line_dash=\"4 4\", line_width=2, color='red')\n",
    "show(p)"
   ]
  },
  {
   "cell_type": "markdown",
   "metadata": {},
   "source": [
    "## Pipeline"
   ]
  },
  {
   "cell_type": "markdown",
   "metadata": {},
   "source": [
    "The best to deliver the model by pipeline the operation then at deployment can be done in one model."
   ]
  },
  {
   "cell_type": "markdown",
   "metadata": {
    "collapsed": true
   },
   "source": [
    "  I used two ways to check the pipeline so any one can be fine"
   ]
  },
  {
   "cell_type": "code",
   "execution_count": 22,
   "metadata": {
    "collapsed": false
   },
   "outputs": [
    {
     "name": "stdout",
     "output_type": "stream",
     "text": [
      "0.979957543202\n",
      "Scoring according to mean_squared_error\n",
      "[ -7822.21187439  -3286.4229032    -558.86961819   -800.34492058\n",
      "  -5348.70214786  -1150.09965431   -563.65578625  -1292.76376852\n",
      "  -1604.16441417 -15404.95008231]\n",
      "\n",
      " Mean      Standard deviation\n",
      "-3783.22      4490.20\n",
      "[ True  True  True  True  True  True  True]\n",
      "R-squared =  0.979957543202\n"
     ]
    }
   ],
   "source": [
    "# Use Pipeline\n",
    "# ANOVA \n",
    "from sklearn.pipeline import Pipeline\n",
    "from sklearn.feature_selection import SelectKBest, f_regression\n",
    "anova_filter = SelectKBest(f_regression, k=7)\n",
    "LR = AdaBoostRegressor(n_estimators = 5, loss = \"exponential\")\n",
    "\n",
    "anova_LinReg = Pipeline([ ('anova', anova_filter), ('LinReg', LR)])\n",
    "# You can set the parameters using the names issued\n",
    "# For instance, fit using a k of 10 in the SelectKBest\n",
    "anova_LinReg.set_params(anova__k=7).fit(new_data, Y)\n",
    "prediction = anova_LinReg.predict(new_data)\n",
    "print anova_LinReg.score(new_data, Y)                        \n",
    "# getting the selected features chosen by anova_filter\n",
    "results = cross_validation.cross_val_score(anova_LinReg, new_data, Y, cv=kfold, scoring=scoring)\n",
    "print 'Scoring according to mean_squared_error'\n",
    "print results\n",
    "print '\\n Mean      Standard deviation'\n",
    "print(\"%.2f      %.2f\" % (results.mean(), results.std()))\n",
    "print anova_LinReg.named_steps['anova'].get_support()\n",
    "r_squared = r2_score(Y, prediction, multioutput='variance_weighted')\n",
    "print 'R-squared = ',r_squared"
   ]
  },
  {
   "cell_type": "code",
   "execution_count": 23,
   "metadata": {
    "collapsed": false
   },
   "outputs": [
    {
     "name": "stdout",
     "output_type": "stream",
     "text": [
      "R-squared =  0.978004383405\n"
     ]
    }
   ],
   "source": [
    "# Using make_pipeline\n",
    "from sklearn.pipeline import make_pipeline\n",
    "\n",
    "# ANOVA SVM-C\n",
    "# 1) anova filter, take 3 best ranked features\n",
    "anova_filter = SelectKBest(f_regression, k=7)\n",
    "anova_AdaBoostDecisionTreeRegressor_NotProcessing = make_pipeline( anova_filter, LR)\n",
    "anova_AdaBoostDecisionTreeRegressor_NotProcessing.fit(new_data, Y)\n",
    "prediction = anova_AdaBoostDecisionTreeRegressor_NotProcessing.predict(new_data)\n",
    "r_squared = r2_score(Y, prediction, multioutput='variance_weighted')\n",
    "print 'R-squared = ',r_squared"
   ]
  },
  {
   "cell_type": "markdown",
   "metadata": {},
   "source": [
    "### Save the Pipeline model for developement"
   ]
  },
  {
   "cell_type": "code",
   "execution_count": 24,
   "metadata": {
    "collapsed": false
   },
   "outputs": [
    {
     "data": {
      "text/plain": [
       "['anova_AdaBoostDecisionTreeRegressor_NotProcessing.pkl',\n",
       " 'anova_AdaBoostDecisionTreeRegressor_NotProcessing.pkl_01.npy',\n",
       " 'anova_AdaBoostDecisionTreeRegressor_NotProcessing.pkl_02.npy',\n",
       " 'anova_AdaBoostDecisionTreeRegressor_NotProcessing.pkl_03.npy',\n",
       " 'anova_AdaBoostDecisionTreeRegressor_NotProcessing.pkl_04.npy',\n",
       " 'anova_AdaBoostDecisionTreeRegressor_NotProcessing.pkl_05.npy',\n",
       " 'anova_AdaBoostDecisionTreeRegressor_NotProcessing.pkl_06.npy',\n",
       " 'anova_AdaBoostDecisionTreeRegressor_NotProcessing.pkl_07.npy',\n",
       " 'anova_AdaBoostDecisionTreeRegressor_NotProcessing.pkl_08.npy',\n",
       " 'anova_AdaBoostDecisionTreeRegressor_NotProcessing.pkl_09.npy',\n",
       " 'anova_AdaBoostDecisionTreeRegressor_NotProcessing.pkl_10.npy',\n",
       " 'anova_AdaBoostDecisionTreeRegressor_NotProcessing.pkl_11.npy',\n",
       " 'anova_AdaBoostDecisionTreeRegressor_NotProcessing.pkl_12.npy',\n",
       " 'anova_AdaBoostDecisionTreeRegressor_NotProcessing.pkl_13.npy',\n",
       " 'anova_AdaBoostDecisionTreeRegressor_NotProcessing.pkl_14.npy',\n",
       " 'anova_AdaBoostDecisionTreeRegressor_NotProcessing.pkl_15.npy',\n",
       " 'anova_AdaBoostDecisionTreeRegressor_NotProcessing.pkl_16.npy',\n",
       " 'anova_AdaBoostDecisionTreeRegressor_NotProcessing.pkl_17.npy',\n",
       " 'anova_AdaBoostDecisionTreeRegressor_NotProcessing.pkl_18.npy',\n",
       " 'anova_AdaBoostDecisionTreeRegressor_NotProcessing.pkl_19.npy']"
      ]
     },
     "execution_count": 24,
     "metadata": {},
     "output_type": "execute_result"
    }
   ],
   "source": [
    "# save the model scaler to the desk\n",
    "from sklearn.externals import joblib\n",
    "joblib.dump(anova_AdaBoostDecisionTreeRegressor_NotProcessing, 'anova_AdaBoostDecisionTreeRegressor_NotProcessing.pkl') "
   ]
  },
  {
   "cell_type": "code",
   "execution_count": 25,
   "metadata": {
    "collapsed": false
   },
   "outputs": [
    {
     "name": "stdout",
     "output_type": "stream",
     "text": [
      " =================================================================>>>>> done\n",
      "R-squared =  0.978004383405\n"
     ]
    }
   ],
   "source": [
    "# Test the model if it is work\n",
    "anova_DecisionTreeRegressorTest = joblib.load('anova_AdaBoostDecisionTreeRegressor_NotProcessing.pkl')\n",
    "NewPred = anova_DecisionTreeRegressorTest.predict(new_data)\n",
    "print \" =================================================================>>>>> done\"\n",
    "r_squared = r2_score(Y, NewPred, multioutput='variance_weighted')\n",
    "print 'R-squared = ',r_squared"
   ]
  },
  {
   "cell_type": "code",
   "execution_count": 26,
   "metadata": {
    "collapsed": false
   },
   "outputs": [
    {
     "name": "stdout",
     "output_type": "stream",
     "text": [
      "Point of training data before normalization\n",
      "[   50  2000 32000    24     6    26   114]\n",
      "\n",
      "The read target of the data =  182\n",
      "\n",
      "The Predicted target of the data =  [ 232.78571429]\n"
     ]
    }
   ],
   "source": [
    "# test on single data point, randomly choose point number 55\n",
    "print 'Point of training data before normalization\\n',new_data[55]\n",
    "print '\\nThe read target of the data = ', Y[55]\n",
    "NewPred = anova_DecisionTreeRegressorTest.predict([new_data[55]])\n",
    "print '\\nThe Predicted target of the data = ', NewPred"
   ]
  },
  {
   "cell_type": "markdown",
   "metadata": {},
   "source": [
    "## Conclusion "
   ]
  },
  {
   "cell_type": "code",
   "execution_count": null,
   "metadata": {
    "collapsed": true
   },
   "outputs": [],
   "source": []
  }
 ],
 "metadata": {
  "kernelspec": {
   "display_name": "Python 2",
   "language": "python",
   "name": "python2"
  },
  "language_info": {
   "codemirror_mode": {
    "name": "ipython",
    "version": 2
   },
   "file_extension": ".py",
   "mimetype": "text/x-python",
   "name": "python",
   "nbconvert_exporter": "python",
   "pygments_lexer": "ipython2",
   "version": "2.7.12"
  }
 },
 "nbformat": 4,
 "nbformat_minor": 0
}
