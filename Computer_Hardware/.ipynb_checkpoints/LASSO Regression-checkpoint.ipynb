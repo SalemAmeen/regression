{
 "cells": [
  {
   "cell_type": "markdown",
   "metadata": {},
   "source": [
    "Salem Ameen, PhD student at Salford University\n",
    "\n",
    "### COMPUTER HARDWARE\n",
    "\n",
    "LASSO Regression"
   ]
  },
  {
   "cell_type": "markdown",
   "metadata": {},
   "source": [
    "# Import the Libraries"
   ]
  },
  {
   "cell_type": "code",
   "execution_count": 1,
   "metadata": {
    "collapsed": false
   },
   "outputs": [
    {
     "data": {
      "text/html": [
       "\n",
       "    <div class=\"bk-root\">\n",
       "        <a href=\"http://bokeh.pydata.org\" target=\"_blank\" class=\"bk-logo bk-logo-small bk-logo-notebook\"></a>\n",
       "        <span id=\"8f709a58-06ef-4fda-abca-f0a6c828cd73\">Loading BokehJS ...</span>\n",
       "    </div>"
      ]
     },
     "metadata": {},
     "output_type": "display_data"
    },
    {
     "data": {
      "application/javascript": [
       "\n",
       "(function(global) {\n",
       "  function now() {\n",
       "    return new Date();\n",
       "  }\n",
       "\n",
       "  var force = \"1\";\n",
       "\n",
       "  if (typeof (window._bokeh_onload_callbacks) === \"undefined\" || force !== \"\") {\n",
       "    window._bokeh_onload_callbacks = [];\n",
       "    window._bokeh_is_loading = undefined;\n",
       "  }\n",
       "\n",
       "\n",
       "  \n",
       "  if (typeof (window._bokeh_timeout) === \"undefined\" || force !== \"\") {\n",
       "    window._bokeh_timeout = Date.now() + 5000;\n",
       "    window._bokeh_failed_load = false;\n",
       "  }\n",
       "\n",
       "  var NB_LOAD_WARNING = {'data': {'text/html':\n",
       "     \"<div style='background-color: #fdd'>\\n\"+\n",
       "     \"<p>\\n\"+\n",
       "     \"BokehJS does not appear to have successfully loaded. If loading BokehJS from CDN, this \\n\"+\n",
       "     \"may be due to a slow or bad network connection. Possible fixes:\\n\"+\n",
       "     \"</p>\\n\"+\n",
       "     \"<ul>\\n\"+\n",
       "     \"<li>re-rerun `output_notebook()` to attempt to load from CDN again, or</li>\\n\"+\n",
       "     \"<li>use INLINE resources instead, as so:</li>\\n\"+\n",
       "     \"</ul>\\n\"+\n",
       "     \"<code>\\n\"+\n",
       "     \"from bokeh.resources import INLINE\\n\"+\n",
       "     \"output_notebook(resources=INLINE)\\n\"+\n",
       "     \"</code>\\n\"+\n",
       "     \"</div>\"}};\n",
       "\n",
       "  function display_loaded() {\n",
       "    if (window.Bokeh !== undefined) {\n",
       "      Bokeh.$(\"#8f709a58-06ef-4fda-abca-f0a6c828cd73\").text(\"BokehJS successfully loaded.\");\n",
       "    } else if (Date.now() < window._bokeh_timeout) {\n",
       "      setTimeout(display_loaded, 100)\n",
       "    }\n",
       "  }\n",
       "\n",
       "  function run_callbacks() {\n",
       "    window._bokeh_onload_callbacks.forEach(function(callback) { callback() });\n",
       "    delete window._bokeh_onload_callbacks\n",
       "    console.info(\"Bokeh: all callbacks have finished\");\n",
       "  }\n",
       "\n",
       "  function load_libs(js_urls, callback) {\n",
       "    window._bokeh_onload_callbacks.push(callback);\n",
       "    if (window._bokeh_is_loading > 0) {\n",
       "      console.log(\"Bokeh: BokehJS is being loaded, scheduling callback at\", now());\n",
       "      return null;\n",
       "    }\n",
       "    if (js_urls == null || js_urls.length === 0) {\n",
       "      run_callbacks();\n",
       "      return null;\n",
       "    }\n",
       "    console.log(\"Bokeh: BokehJS not loaded, scheduling load and callback at\", now());\n",
       "    window._bokeh_is_loading = js_urls.length;\n",
       "    for (var i = 0; i < js_urls.length; i++) {\n",
       "      var url = js_urls[i];\n",
       "      var s = document.createElement('script');\n",
       "      s.src = url;\n",
       "      s.async = false;\n",
       "      s.onreadystatechange = s.onload = function() {\n",
       "        window._bokeh_is_loading--;\n",
       "        if (window._bokeh_is_loading === 0) {\n",
       "          console.log(\"Bokeh: all BokehJS libraries loaded\");\n",
       "          run_callbacks()\n",
       "        }\n",
       "      };\n",
       "      s.onerror = function() {\n",
       "        console.warn(\"failed to load library \" + url);\n",
       "      };\n",
       "      console.log(\"Bokeh: injecting script tag for BokehJS library: \", url);\n",
       "      document.getElementsByTagName(\"head\")[0].appendChild(s);\n",
       "    }\n",
       "  };var element = document.getElementById(\"8f709a58-06ef-4fda-abca-f0a6c828cd73\");\n",
       "  if (element == null) {\n",
       "    console.log(\"Bokeh: ERROR: autoload.js configured with elementid '8f709a58-06ef-4fda-abca-f0a6c828cd73' but no matching script tag was found. \")\n",
       "    return false;\n",
       "  }\n",
       "\n",
       "  var js_urls = ['https://cdn.pydata.org/bokeh/release/bokeh-0.12.2.min.js', 'https://cdn.pydata.org/bokeh/release/bokeh-widgets-0.12.2.min.js', 'https://cdn.pydata.org/bokeh/release/bokeh-compiler-0.12.2.min.js'];\n",
       "\n",
       "  var inline_js = [\n",
       "    function(Bokeh) {\n",
       "      Bokeh.set_log_level(\"info\");\n",
       "    },\n",
       "    \n",
       "    function(Bokeh) {\n",
       "      \n",
       "      Bokeh.$(\"#8f709a58-06ef-4fda-abca-f0a6c828cd73\").text(\"BokehJS is loading...\");\n",
       "    },\n",
       "    function(Bokeh) {\n",
       "      console.log(\"Bokeh: injecting CSS: https://cdn.pydata.org/bokeh/release/bokeh-0.12.2.min.css\");\n",
       "      Bokeh.embed.inject_css(\"https://cdn.pydata.org/bokeh/release/bokeh-0.12.2.min.css\");\n",
       "      console.log(\"Bokeh: injecting CSS: https://cdn.pydata.org/bokeh/release/bokeh-widgets-0.12.2.min.css\");\n",
       "      Bokeh.embed.inject_css(\"https://cdn.pydata.org/bokeh/release/bokeh-widgets-0.12.2.min.css\");\n",
       "    }\n",
       "  ];\n",
       "\n",
       "  function run_inline_js() {\n",
       "    \n",
       "    if ((window.Bokeh !== undefined) || (force === \"1\")) {\n",
       "      for (var i = 0; i < inline_js.length; i++) {\n",
       "        inline_js[i](window.Bokeh);\n",
       "      }if (force === \"1\") {\n",
       "        display_loaded();\n",
       "      }} else if (Date.now() < window._bokeh_timeout) {\n",
       "      setTimeout(run_inline_js, 100);\n",
       "    } else if (!window._bokeh_failed_load) {\n",
       "      console.log(\"Bokeh: BokehJS failed to load within specified timeout.\");\n",
       "      window._bokeh_failed_load = true;\n",
       "    } else if (!force) {\n",
       "      var cell = $(\"#8f709a58-06ef-4fda-abca-f0a6c828cd73\").parents('.cell').data().cell;\n",
       "      cell.output_area.append_execute_result(NB_LOAD_WARNING)\n",
       "    }\n",
       "\n",
       "  }\n",
       "\n",
       "  if (window._bokeh_is_loading === 0) {\n",
       "    console.log(\"Bokeh: BokehJS loaded, going straight to plotting\");\n",
       "    run_inline_js();\n",
       "  } else {\n",
       "    load_libs(js_urls, function() {\n",
       "      console.log(\"Bokeh: BokehJS plotting callback run at\", now());\n",
       "      run_inline_js();\n",
       "    });\n",
       "  }\n",
       "}(this));"
      ]
     },
     "metadata": {},
     "output_type": "display_data"
    }
   ],
   "source": [
    "import numpy as np\n",
    "import pandas\n",
    "from numpy import *\n",
    "import time\n",
    "import sys\n",
    "import pandas as pd\n",
    "import matplotlib.pyplot as plt\n",
    "from sklearn import feature_selection\n",
    "from sklearn.linear_model import Lasso\n",
    "from sklearn.learning_curve import learning_curve, validation_curve\n",
    "from sklearn.cross_validation import cross_val_predict\n",
    "from sklearn import metrics, grid_search, cross_validation\n",
    "from IPython.display import set_matplotlib_formats\n",
    "from bokeh.plotting import figure, show, output_notebook\n",
    "from sklearn.grid_search import GridSearchCV, RandomizedSearchCV\n",
    "from sklearn.metrics import r2_score\n",
    "from bokeh.layouts import gridplot\n",
    "output_notebook()\n",
    "set_matplotlib_formats('png', 'pdf')\n",
    "%matplotlib inline\n",
    "plt.rcParams['figure.figsize'] = (6, 6)"
   ]
  },
  {
   "cell_type": "markdown",
   "metadata": {},
   "source": [
    "# Load data"
   ]
  },
  {
   "cell_type": "markdown",
   "metadata": {},
   "source": [
    "In the previous file we have not change the data as there is no missing value or add any new parameters so it can be downloaded from the web directly. "
   ]
  },
  {
   "cell_type": "code",
   "execution_count": 2,
   "metadata": {
    "collapsed": false
   },
   "outputs": [
    {
     "name": "stdout",
     "output_type": "stream",
     "text": [
      "Number of examples 209\n"
     ]
    }
   ],
   "source": [
    "url = 'http://archive.ics.uci.edu/ml/machine-learning-databases/cpu-performance/machine.data'\n",
    "names = ['vendor', 'Model', 'MYCT', 'MMIN', 'MMAX', 'CACH', 'CHMIN','CHMAX','PRP','ERP']\n",
    "feature_names = ['MYCT', 'MMIN', 'MMAX', 'CACH', 'CHMIN','CHMAX','PRP','ERP']\n",
    "feature_cols = ['MYCT', 'MMIN', 'MMAX', 'CACH', 'CHMIN','CHMAX','PRP','ERP']\n",
    "data = pd.read_csv(url, sep=',', names = names)\n",
    "data = data.drop('vendor',1)\n",
    "data = data.drop('Model',1)\n",
    "\n",
    "from sklearn import preprocessing\n",
    "\n",
    "def number_encode_features(df):\n",
    "    result = df.copy()\n",
    "    encoders = {}\n",
    "    for column in result.columns:\n",
    "        if result.dtypes[column] == np.object:\n",
    "            encoders[column] = preprocessing.LabelEncoder()\n",
    "            result[column] = encoders[column].fit_transform(result[column])\n",
    "    return result, encoders\n",
    "\n",
    "data, _ = number_encode_features(data)\n",
    "\n",
    "dataset = data.values\n",
    "X = dataset[:,0:7]\n",
    "Y = dataset[:,7]\n",
    "print 'Number of examples',len(X)"
   ]
  },
  {
   "cell_type": "code",
   "execution_count": 3,
   "metadata": {
    "collapsed": false
   },
   "outputs": [
    {
     "name": "stdout",
     "output_type": "stream",
     "text": [
      "Number of training examples 167\n",
      "Number of validation examples 42\n"
     ]
    }
   ],
   "source": [
    "# Make developement dataset for genrilization and final testing\n",
    "from sklearn.cross_validation import train_test_split\n",
    "# Extracting 20% testing data\n",
    "X_train, X_test, y_train, y_test = train_test_split(\n",
    "    X, Y, test_size=0.20, random_state=0)\n",
    "X = X_train\n",
    "Y = y_train\n",
    "new_data      = X_train\n",
    "new_test_data = X_test\n",
    "print 'Number of training examples',len(X_train)\n",
    "print 'Number of validation examples',len(X_test)"
   ]
  },
  {
   "cell_type": "markdown",
   "metadata": {},
   "source": [
    "Number of training data is very small so we need to use cross validation instead of spareate another validation data."
   ]
  },
  {
   "cell_type": "markdown",
   "metadata": {},
   "source": [
    "From the previous visulization the data has no missing value but has many outlier and some sparisty"
   ]
  },
  {
   "cell_type": "markdown",
   "metadata": {},
   "source": [
    "# Ranking of the feature's importance to the target"
   ]
  },
  {
   "cell_type": "code",
   "execution_count": 4,
   "metadata": {
    "collapsed": false
   },
   "outputs": [
    {
     "name": "stdout",
     "output_type": "stream",
     "text": [
      "MYCT \t0.0831720232495\n",
      "MMIN \t0.671238633036\n",
      "MMAX \t0.812165716056\n",
      "CACH \t0.420708210137\n",
      "CHMIN \t0.372807299482\n",
      "CHMAX \t0.35064815048\n",
      "PRP \t0.934067464945\n",
      "ERP \t0.99999999824\n"
     ]
    }
   ],
   "source": [
    "# Using just correlation coefficient even in prevoius file we show them using data frame\n",
    "for col in feature_cols:\n",
    "    lm = Lasso(fit_intercept=True)\n",
    "    lm.fit(data[[col]], data['ERP'])\n",
    "    print col,'\\t', lm.score(data[[col]], data['ERP'])"
   ]
  },
  {
   "cell_type": "code",
   "execution_count": 5,
   "metadata": {
    "collapsed": false
   },
   "outputs": [
    {
     "name": "stdout",
     "output_type": "stream",
     "text": [
      "Feature Name      Score         Pvalue\n",
      "MYCT \t\t18.7784506906 \t2.28953652773e-05\n",
      "MMIN \t\t422.636024187 \t6.7010130085e-52\n",
      "MMAX \t\t895.035239011 \t4.20559221576e-77\n",
      "CACH \t\t150.332889484 \t2.4462451136e-26\n",
      "CHMIN \t\t123.042583867 \t9.66488661491e-23\n",
      "CHMAX \t\t111.779441433 \t3.62169179267e-21\n",
      "PRP \t\t2932.57297327 \t3.42704839853e-124\n",
      "ERP \t\tinf \t0.0\n"
     ]
    }
   ],
   "source": [
    "# Randing the important features to the target\n",
    "model = feature_selection.SelectKBest(score_func=feature_selection.f_regression,k=4)\n",
    "results = model.fit(data[feature_cols], data['ERP'])\n",
    "k=0\n",
    "print 'Feature Name      Score         Pvalue'\n",
    "for feat in feature_cols:\n",
    "    print feat,'\\t\\t',results.scores_[k],'\\t',results.pvalues_[k]\n",
    "    k=k+1\n"
   ]
  },
  {
   "cell_type": "markdown",
   "metadata": {},
   "source": [
    "# Set the parameters for cross validation"
   ]
  },
  {
   "cell_type": "code",
   "execution_count": 6,
   "metadata": {
    "collapsed": true
   },
   "outputs": [],
   "source": [
    "num_folds = 10\n",
    "num_instances = len(X)\n",
    "seed = 7\n",
    "kfold = cross_validation.KFold(n=num_instances, n_folds=num_folds, random_state=seed)"
   ]
  },
  {
   "cell_type": "markdown",
   "metadata": {},
   "source": [
    " # Set the parameters for bias-variance dilemma"
   ]
  },
  {
   "cell_type": "code",
   "execution_count": 7,
   "metadata": {
    "collapsed": false
   },
   "outputs": [],
   "source": [
    "def plot_learning_curve(estimator, title, X, y, ylim=None, cv=None,\n",
    "                        n_jobs=1, train_sizes=np.linspace(.1, 1.0, 5)):\n",
    "    plt.figure()\n",
    "    plt.title(title)\n",
    "    if ylim is not None:\n",
    "        plt.ylim(*ylim)\n",
    "    plt.xlabel(\"Training examples\")\n",
    "    plt.ylabel(\"Score\")\n",
    "    train_sizes, train_scores, test_scores = learning_curve(\n",
    "        estimator, X, y, cv=cv, n_jobs=n_jobs, train_sizes=train_sizes)\n",
    "    train_scores_mean = np.mean(train_scores, axis=1)\n",
    "    train_scores_std = np.std(train_scores, axis=1)\n",
    "    test_scores_mean = np.mean(test_scores, axis=1)\n",
    "    test_scores_std = np.std(test_scores, axis=1)\n",
    "    plt.grid()\n",
    "\n",
    "    plt.fill_between(train_sizes, train_scores_mean - train_scores_std,\n",
    "                     train_scores_mean + train_scores_std, alpha=0.1,\n",
    "                     color=\"r\")\n",
    "    plt.fill_between(train_sizes, test_scores_mean - test_scores_std,\n",
    "                     test_scores_mean + test_scores_std, alpha=0.1, color=\"g\")\n",
    "    plt.plot(train_sizes, train_scores_mean, 'o-', color=\"r\",\n",
    "             label=\"Training score\")\n",
    "    plt.plot(train_sizes, test_scores_mean, 'o-', color=\"g\",\n",
    "             label=\"Cross-validation score\")\n",
    "\n",
    "    plt.legend(loc=\"best\")\n",
    "    return plt"
   ]
  },
  {
   "cell_type": "markdown",
   "metadata": {},
   "source": [
    "# Preprocessing the data and save both the model and preprocessed data"
   ]
  },
  {
   "cell_type": "code",
   "execution_count": 8,
   "metadata": {
    "collapsed": false
   },
   "outputs": [
    {
     "name": "stderr",
     "output_type": "stream",
     "text": [
      "/home/salm/anaconda2/lib/python2.7/site-packages/sklearn/utils/validation.py:420: DataConversionWarning: Data with input dtype int64 was converted to float64 by StandardScaler.\n",
      "  warnings.warn(msg, DataConversionWarning)\n"
     ]
    }
   ],
   "source": [
    "# According to the nature of the data spasity and there is outliter RobustScaler class is recomandit \n",
    "# but when I tried both of them the result seems is same\n",
    "from sklearn.preprocessing import StandardScaler\n",
    "scaler = preprocessing.StandardScaler().fit(X_train)"
   ]
  },
  {
   "cell_type": "code",
   "execution_count": 9,
   "metadata": {
    "collapsed": false
   },
   "outputs": [
    {
     "name": "stderr",
     "output_type": "stream",
     "text": [
      "/home/salm/anaconda2/lib/python2.7/site-packages/sklearn/utils/validation.py:420: DataConversionWarning: Data with input dtype int64 was converted to float64 by StandardScaler.\n",
      "  warnings.warn(msg, DataConversionWarning)\n",
      "/home/salm/anaconda2/lib/python2.7/site-packages/sklearn/utils/validation.py:420: DataConversionWarning: Data with input dtype int64 was converted to float64 by StandardScaler.\n",
      "  warnings.warn(msg, DataConversionWarning)\n"
     ]
    }
   ],
   "source": [
    "X_train = scaler.transform(X_train)\n",
    "X_test = scaler.transform(X_test) # use same transform for testing data\n",
    "X = X_train"
   ]
  },
  {
   "cell_type": "code",
   "execution_count": 10,
   "metadata": {
    "collapsed": true
   },
   "outputs": [],
   "source": [
    "# save transformed data\n",
    "np.save('./data/X_train', X_train)\n",
    "np.save('./data/y_train', y_train)\n",
    "np.save('./data/X_test', X_test)\n",
    "np.save('./data/y_test', y_test)"
   ]
  },
  {
   "cell_type": "code",
   "execution_count": 11,
   "metadata": {
    "collapsed": false
   },
   "outputs": [
    {
     "data": {
      "text/plain": [
       "['scaler.pkl', 'scaler.pkl_01.npy', 'scaler.pkl_02.npy', 'scaler.pkl_03.npy']"
      ]
     },
     "execution_count": 11,
     "metadata": {},
     "output_type": "execute_result"
    }
   ],
   "source": [
    "# save the model scaler to the desk\n",
    "from sklearn.externals import joblib\n",
    "joblib.dump(scaler, 'scaler.pkl') "
   ]
  },
  {
   "cell_type": "code",
   "execution_count": 12,
   "metadata": {
    "collapsed": false
   },
   "outputs": [
    {
     "name": "stdout",
     "output_type": "stream",
     "text": [
      " =================================================================>>>>> done\n",
      "[[-0.59364305 -0.20866821 -0.31349377  0.98611582 -0.51650809 -0.39068313\n",
      "  -0.09019932]\n",
      " [ 0.43869005 -0.4699337  -0.72397006 -0.63206819 -0.38024134 -0.53321526\n",
      "  -0.54180082]\n",
      " [-0.6318776  -0.04668361 -0.10989753  0.11478597  0.98242613  0.17944539\n",
      "  -0.26252094]\n",
      " [-0.72364055  1.35892472  1.65679241  0.96122068  0.43735914  0.46450965\n",
      "   1.25272091]\n",
      " [-0.55540849  0.31386277  0.01488726 -0.43290708  0.16482565 -0.39068313\n",
      "  -0.19121544]\n",
      " [ 0.43869005 -0.4699337  -0.80606531 -0.63206819 -0.51650809 -0.60448133\n",
      "  -0.54180082]\n",
      " [-0.13482833 -0.20866821  0.34326829 -0.23374597 -0.51650809 -0.4619492\n",
      "  -0.24469457]\n",
      " [ 4.91213348 -0.53054729 -0.88816057 -0.63206819 -0.65277484 -0.67574739\n",
      "  -0.56556931]\n",
      " [-0.28776657 -0.20866821  1.65679241  0.16457625 -0.51650809  1.24843637\n",
      "   0.2009648 ]\n",
      " [-0.63952452  0.31386277  1.00003035  0.16457625  0.43735914  0.17944539\n",
      "   0.63473992]\n",
      " [-0.31453076 -0.4699337  -0.31349377 -0.40801194 -0.2439746  -0.248151\n",
      "  -0.20904182]\n",
      " [-0.70834672  3.44904862  1.65679241  5.74108728  1.52749312  0.17944539\n",
      "   2.39360889]\n",
      " [-0.28776657 -0.4699337   0.34326829 -0.23374597 -0.51650809 -0.56884829\n",
      "   0.18313842]\n",
      " [-0.5974665   1.35892472  0.34326829  0.96122068  0.98242613  0.17944539\n",
      "   0.48024467]\n",
      " [-0.72364055  3.44904862  1.65679241  0.96122068  0.43735914  0.17944539\n",
      "   2.12621327]\n",
      " [-0.28776657 -0.20866821 -0.6418748  -0.63206819 -0.10770785 -0.39068313\n",
      "  -0.39918982]\n",
      " [-0.44835172 -0.4699337  -0.31349377  0.16457625 -0.38024134 -0.39068313\n",
      "  -0.36353707]\n",
      " [-0.6318776  -0.4699337  -0.6418748  -0.43290708 -0.51650809 -0.49758223\n",
      "  -0.46455319]\n",
      " [-0.47893937 -0.66431522 -0.88816057 -0.63206819 -0.2439746  -0.31941706\n",
      "  -0.53585869]\n",
      " [-0.2762962  -0.4699337  -0.80606531 -0.63206819  0.0285589  -0.10561887\n",
      "  -0.45266894]\n",
      " [-0.05835922 -0.4699337  -0.80606531 -0.63206819 -0.51650809 -0.60448133\n",
      "  -0.48832169]\n",
      " [-0.05835922 -0.59743125  0.34326829 -0.63206819 -0.10770785  0.46450965\n",
      "  -0.42890044]\n",
      " [-0.73511091  3.44904862  1.65679241  0.96122068  1.52749312  0.46450965\n",
      "   2.26882427]\n",
      " [-0.40247025 -0.4699337   0.01488726 -0.23374597 -0.51650809 -0.60448133\n",
      "  -0.28034732]\n",
      " [-0.28776657 -0.20866821 -0.6418748  -0.43290708 -0.51650809  0.03691326\n",
      "  -0.50614807]\n",
      " [-0.6318776  -0.20866821  0.34326829 -0.33332653 -0.2439746  -0.10561887\n",
      "  -0.36947919]\n",
      " [-0.6318776  -0.20866821 -0.6418748  -0.63206819 -0.2439746  -0.4619492\n",
      "  -0.47643744]\n",
      " [ 2.23571434 -0.53054729 -0.80606531 -0.63206819 -0.65277484 -0.67574739\n",
      "  -0.51803232]\n",
      " [-0.5018801  -0.4699337  -0.80606531 -0.63206819 -0.51650809 -0.4619492\n",
      "  -0.56556931]\n",
      " [-0.42158753 -0.20866821 -0.47768428 -0.23374597  0.16482565 -0.10561887\n",
      "  -0.44078469]\n",
      " [ 0.32398638 -0.53054729  0.01488726 -0.48269736  0.16482565  0.17944539\n",
      "  -0.33976857]\n",
      " [-0.54776157 -0.20866821 -0.31349377 -0.23374597  0.16482565 -0.39068313\n",
      "  -0.0129517 ]\n",
      " [-0.38335297 -0.20866821 -0.31349377 -0.23374597 -0.51650809 -0.56884829\n",
      "  -0.33976857]\n",
      " [-0.53629121  0.05259728 -0.31349377 -0.43290708 -0.2439746   1.03463817\n",
      "  -0.25657882]\n",
      " [-0.62423069  0.31386277  0.34326829  0.16457625 -0.10770785 -0.248151\n",
      "   0.13560143]\n",
      " [-0.59364305 -0.20866821  0.34326829  0.96122068  0.0285589  -0.39068313\n",
      "  -0.19715757]\n",
      " [-0.21129745 -0.59743125 -0.6418748  -0.58227791 -0.51650809 -0.49758223\n",
      "  -0.45861107]\n",
      " [-0.727464   -0.20866821  0.01488726 -0.43290708 -0.51650809 -0.53321526\n",
      "  -0.34571069]\n",
      " [-0.18453326 -0.59429607 -0.80606531 -0.43290708 -0.10770785 -0.1412519\n",
      "  -0.52397444]\n",
      " [-0.6318776  -0.20866821  0.34326829 -0.03458486  0.16482565 -0.10561887\n",
      "  -0.31600007]\n",
      " [-0.72364055  1.35892472  1.00003035  0.16457625  0.43735914 -0.10561887\n",
      "   0.3911128 ]\n",
      " [-0.2762962  -0.13028856 -0.46126523 -0.63206819  0.16482565  1.6047667\n",
      "  -0.27440519]]\n"
     ]
    },
    {
     "name": "stderr",
     "output_type": "stream",
     "text": [
      "/home/salm/anaconda2/lib/python2.7/site-packages/sklearn/utils/validation.py:420: DataConversionWarning: Data with input dtype int64 was converted to float64 by StandardScaler.\n",
      "  warnings.warn(msg, DataConversionWarning)\n"
     ]
    }
   ],
   "source": [
    "# Test the model if it is work\n",
    "scalerTest = joblib.load('scaler.pkl')\n",
    "new_data_scaled = scalerTest.transform(new_test_data)\n",
    "print \" =================================================================>>>>> done\"\n",
    "print new_data_scaled"
   ]
  },
  {
   "cell_type": "markdown",
   "metadata": {},
   "source": [
    "# 1. LASSO Regression"
   ]
  },
  {
   "cell_type": "markdown",
   "metadata": {},
   "source": [
    "The Least Absolute Shrinkage and Selection Operator (or LASSO for short) is a modification of linear regression, like Lasso regression, where the loss function is modified to minimize the complexity of the model measured as the sum absolute value of the coefficient values (also called the l1-norm)."
   ]
  },
  {
   "cell_type": "markdown",
   "metadata": {},
   "source": [
    "## Validation curve"
   ]
  },
  {
   "cell_type": "markdown",
   "metadata": {},
   "source": [
    "choosing multiple hyperparameters of an estimator "
   ]
  },
  {
   "cell_type": "code",
   "execution_count": 13,
   "metadata": {
    "collapsed": false
   },
   "outputs": [
    {
     "data": {
      "text/plain": [
       "['normalize',\n",
       " 'warm_start',\n",
       " 'selection',\n",
       " 'fit_intercept',\n",
       " 'positive',\n",
       " 'max_iter',\n",
       " 'precompute',\n",
       " 'random_state',\n",
       " 'tol',\n",
       " 'copy_X',\n",
       " 'alpha']"
      ]
     },
     "execution_count": 13,
     "metadata": {},
     "output_type": "execute_result"
    }
   ],
   "source": [
    "from sklearn.linear_model import Lasso,LassoCV\n",
    "estimator = Lasso()\n",
    "estimator.get_params().keys()"
   ]
  },
  {
   "cell_type": "code",
   "execution_count": 14,
   "metadata": {
    "collapsed": false
   },
   "outputs": [
    {
     "data": {
      "image/png": "[encoded data removed]",
      "text/plain": [
       "<matplotlib.figure.Figure at 0x7f0887c09790>"
      ]
     },
     "metadata": {},
     "output_type": "display_data"
    }
   ],
   "source": [
    "# For parametr alpha\n",
    "#param_range = np.logspace(-10.0, 10.0)\n",
    "#param_range = np.logspace(-7, 7, 3)\n",
    "param_range = np.linspace(1,5.0,10)\n",
    "\n",
    "train_scores, test_scores = validation_curve(\n",
    "    Lasso(), X, Y, param_name=\"alpha\", param_range=param_range,\n",
    "    cv=num_folds,  n_jobs=-1)\n",
    "train_scores_mean = np.mean(train_scores, axis=1)\n",
    "train_scores_std = np.std(train_scores, axis=1)\n",
    "test_scores_mean = np.mean(test_scores, axis=1)\n",
    "test_scores_std = np.std(test_scores, axis=1)\n",
    "\n",
    "plt.title(\"Validation Curve with Lasso\")\n",
    "plt.xlabel(\"alpha\")\n",
    "plt.ylabel(\"Score\")\n",
    "plt.ylim(0.4, 1.0)\n",
    "plt.plot(param_range, train_scores_mean, label=\"Training score\", color=\"r\")\n",
    "plt.fill_between(param_range, train_scores_mean - train_scores_std,\n",
    "                 train_scores_mean + train_scores_std, alpha=0.2, color=\"r\")\n",
    "plt.plot(param_range, test_scores_mean, label=\"Cross-validation score\",\n",
    "             color=\"g\")\n",
    "plt.fill_between(param_range, test_scores_mean - test_scores_std,\n",
    "                 test_scores_mean + test_scores_std, alpha=0.2, color=\"g\")\n",
    "plt.legend(loc=\"best\")\n",
    "plt.show()"
   ]
  },
  {
   "cell_type": "markdown",
   "metadata": {},
   "source": [
    "It looks alpha between 1 and 2 works well"
   ]
  },
  {
   "cell_type": "markdown",
   "metadata": {},
   "source": [
    "## Grid search and/or Random search to determine best compination of parameters"
   ]
  },
  {
   "cell_type": "code",
   "execution_count": 15,
   "metadata": {
    "collapsed": false
   },
   "outputs": [
    {
     "name": "stdout",
     "output_type": "stream",
     "text": [
      "Hyperparameter optimization using GridSearchCV...\n",
      "Parameters with rank: 1\n",
      "Mean validation score: 0.8658 (std: 0.1246)\n",
      "Parameters: {'precompute': False, 'alpha': 1.5}\n",
      "\n",
      "Parameters with rank: 2\n",
      "Mean validation score: 0.8658 (std: 0.1246)\n",
      "Parameters: {'precompute': True, 'alpha': 1.5}\n",
      "\n",
      "Parameters with rank: 3\n",
      "Mean validation score: 0.8655 (std: 0.1248)\n",
      "Parameters: {'precompute': True, 'alpha': 2.0}\n",
      "\n",
      "Parameters with rank: 4\n",
      "Mean validation score: 0.8655 (std: 0.1248)\n",
      "Parameters: {'precompute': False, 'alpha': 2.0}\n",
      "\n",
      "Parameters with rank: 5\n",
      "Mean validation score: 0.8655 (std: 0.1249)\n",
      "Parameters: {'precompute': True, 'alpha': 1.0}\n",
      "\n",
      "+++++++++++++++++++++++++++++++++++++++++++++++\n",
      "Hyperparameter optimization using RandomizedSearchCV\n",
      "Parameters with rank: 1\n",
      "Mean validation score: 0.8657 (std: 0.1247)\n",
      "Parameters: {'precompute': False, 'alpha': 1.3157894736842104}\n",
      "\n",
      "Parameters with rank: 2\n",
      "Mean validation score: 0.8657 (std: 0.1247)\n",
      "Parameters: {'precompute': True, 'alpha': 1.8421052631578947}\n",
      "\n",
      "Parameters with rank: 3\n",
      "Mean validation score: 0.8652 (std: 0.1250)\n",
      "Parameters: {'precompute': False, 'alpha': 0.78947368421052633}\n",
      "\n",
      "Parameters with rank: 4\n",
      "Mean validation score: 0.8646 (std: 0.1253)\n",
      "Parameters: {'precompute': True, 'alpha': 0.52631578947368418}\n",
      "\n",
      "Parameters with rank: 5\n",
      "Mean validation score: 0.8631 (std: 0.1274)\n",
      "Parameters: {'precompute': False, 'alpha': 3.4210526315789473}\n",
      "\n"
     ]
    }
   ],
   "source": [
    "# Utility function to report optimal parameters\n",
    "from operator import itemgetter\n",
    "def report(grid_scores, n_top=5):\n",
    "    params = None\n",
    "    top_scores = sorted(grid_scores, key=itemgetter(1), reverse=True)[:n_top]\n",
    "    for i, score in enumerate(top_scores):\n",
    "        print(\"Parameters with rank: {0}\".format(i + 1))\n",
    "        print(\"Mean validation score: {0:.4f} (std: {1:.4f})\".format(\n",
    "              score.mean_validation_score, np.std(score.cv_validation_scores)))\n",
    "        print(\"Parameters: {0}\".format(score.parameters))\n",
    "        print(\"\")\n",
    "        \n",
    "        if params == None:\n",
    "            params = score.parameters\n",
    "    \n",
    "    return params\n",
    "\n",
    "# The most common value for the max number of features to look at in each split is sqrt(# of features)\n",
    "sqrtfeat = np.sqrt(X.shape[1]) \n",
    "# Simple grid test (162 combinations)\n",
    "grid_test1 = { \"alpha\"      : [1.0, 1.5, 2.0, 2.5],\n",
    "               \"precompute\"         : [False, True] }\n",
    "\n",
    "# Large randomized test using max_depth to control tree size (5000 possible combinations)\n",
    "random_test1 = { \"alpha\"          : np.linspace(0,5.0,20),\n",
    "                 \"precompute\"         : [False, True] }\n",
    "\n",
    "\n",
    "forest = Lasso()\n",
    "\n",
    "print \"Hyperparameter optimization using GridSearchCV...\"\n",
    "grid_search = GridSearchCV(forest, grid_test1, n_jobs=-1, cv=num_folds)\n",
    "grid_search.fit(X, Y)\n",
    "best_params_from_grid_search = report(grid_search.grid_scores_)\n",
    "print '+++++++++++++++++++++++++++++++++++++++++++++++'\n",
    "print \"Hyperparameter optimization using RandomizedSearchCV\"\n",
    "grid_search = RandomizedSearchCV(forest, random_test1, n_jobs=-1, cv=num_folds, n_iter=5)\n",
    "grid_search.fit(X, Y)\n",
    "best_params_from_rand_search1 = report(grid_search.grid_scores_)"
   ]
  },
  {
   "cell_type": "markdown",
   "metadata": {},
   "source": [
    "Best parameters Parameters: {'precompute': False, 'alpha': 0.26315789473684209}\n"
   ]
  },
  {
   "cell_type": "markdown",
   "metadata": {},
   "source": [
    "## Learning Curve "
   ]
  },
  {
   "cell_type": "markdown",
   "metadata": {},
   "source": [
    "In essence, what we’re doing it training the exact same model with increasingly large fractions of our total training data, and plotting the error of the training and test sets at each step."
   ]
  },
  {
   "cell_type": "code",
   "execution_count": 16,
   "metadata": {
    "collapsed": false
   },
   "outputs": [
    {
     "name": "stderr",
     "output_type": "stream",
     "text": [
      "/home/salm/anaconda2/lib/python2.7/site-packages/sklearn/linear_model/coordinate_descent.py:466: ConvergenceWarning: Objective did not converge. You might want to increase the number of iterations\n",
      "  ConvergenceWarning)\n",
      "/home/salm/anaconda2/lib/python2.7/site-packages/sklearn/linear_model/coordinate_descent.py:466: ConvergenceWarning: Objective did not converge. You might want to increase the number of iterations\n",
      "  ConvergenceWarning)\n"
     ]
    },
    {
     "data": {
      "image/png": "[encoded data removed]",
      "text/plain": [
       "<matplotlib.figure.Figure at 0x7f08845bc350>"
      ]
     },
     "metadata": {},
     "output_type": "display_data"
    }
   ],
   "source": [
    "from sklearn.linear_model import Lasso,LassoCV\n",
    "# 'alpha': 10.0, 'solver': 'lsqr'\n",
    "model = Lasso(alpha = 0.26315789473684209, precompute = False)\n",
    "title = \"Learning Curves (Lasso Refression)\"\n",
    "cv = cross_validation.ShuffleSplit(X.shape[0], n_iter=100,\n",
    "                                   test_size=0.2, random_state=0)\n",
    "plot_learning_curve(model, title, X, Y, ylim=(0.2, 1.01), cv=cv, n_jobs=-1)\n",
    "plt.show()"
   ]
  },
  {
   "cell_type": "code",
   "execution_count": 17,
   "metadata": {
    "collapsed": false
   },
   "outputs": [
    {
     "name": "stdout",
     "output_type": "stream",
     "text": [
      "train_sizes =  [ 50  80 110]\n",
      " training scores\n",
      " 50 training sizees\n",
      "0.978430558228 ± 0.00826676048427\n",
      " 80 training sizees\n",
      "0.972254278407 ± 0.00754240999457\n",
      " 110 training sizees\n",
      "0.968633043895 ± 0.0059413285211\n",
      "\n",
      " validation scores\n",
      " 50 validation scores\n",
      "0.88999458911 ± 0.0846490031329\n",
      " 80 validation scores\n",
      "0.908255896423 ± 0.066410207946\n",
      " 110 validation scores\n",
      "0.915566208236 ± 0.0564576172019\n"
     ]
    }
   ],
   "source": [
    "# More data from learning curve to show the process of building the model\n",
    "train_sizes, train_scores, valid_scores = learning_curve(\n",
    "     model, X, Y, train_sizes=[50, 80, 110], cv=cv, n_jobs=4)\n",
    "\n",
    "print 'train_sizes = ', train_sizes\n",
    "\n",
    "print ' training scores'\n",
    "print ' 50 training sizees'\n",
    "print train_scores[0].mean(),'±',train_scores[0].std()\n",
    "print ' 80 training sizees'\n",
    "print train_scores[1].mean(),'±',train_scores[1].std()\n",
    "print ' 110 training sizees'\n",
    "print train_scores[2].mean(),'±',train_scores[2].std()\n",
    "\n",
    "print '\\n validation scores'\n",
    "print ' 50 validation scores'\n",
    "print valid_scores[0].mean(),'±',valid_scores[0].std()\n",
    "print ' 80 validation scores'\n",
    "print valid_scores[1].mean(),'±',valid_scores[1].std()\n",
    "print ' 110 validation scores'\n",
    "print valid_scores[2].mean(),'±',valid_scores[2].std()"
   ]
  },
  {
   "cell_type": "markdown",
   "metadata": {},
   "source": [
    "## Cross validation"
   ]
  },
  {
   "cell_type": "code",
   "execution_count": 18,
   "metadata": {
    "collapsed": false
   },
   "outputs": [
    {
     "name": "stdout",
     "output_type": "stream",
     "text": [
      "Scoring according to mean_squared_error\n",
      "[ -729.26407961 -1320.21764337 -1071.67466079 -1121.02871981 -1175.19759988\n",
      "  -695.61029955  -665.96609863 -1255.74121602 -1127.92972311 -5898.80356606]\n",
      "\n",
      " Mean      Standard deviation\n",
      "-1506.14      1481.51\n",
      "\n",
      " print intercept and coefficients\n",
      "100.94011976\n",
      "[ 10.11554738  24.3627435   41.77366147  -0.           0.          11.38966587\n",
      "  98.14325683]\n",
      "\n",
      "(feature, coefficients)\n",
      "[('MYCT', 10.115547384269377), ('MMIN', 24.362743500802925), ('MMAX', 41.773661465703753), ('CACH', -0.0), ('CHMIN', 0.0), ('CHMAX', 11.389665873928546), ('PRP', 98.143256831080535)]\n"
     ]
    }
   ],
   "source": [
    "scoring = 'mean_squared_error'\n",
    "results = cross_validation.cross_val_score(model, X, Y, cv=kfold, scoring=scoring)\n",
    "print 'Scoring according to mean_squared_error'\n",
    "print results\n",
    "print '\\n Mean      Standard deviation'\n",
    "print(\"%.2f      %.2f\" % (results.mean(), results.std()))\n",
    "## Fit the model\n",
    "model.fit(X,Y)\n",
    "print '\\n print intercept and coefficients'\n",
    "print model.intercept_\n",
    "print model.coef_\n",
    "# pair the feature names with the coefficients\n",
    "print '\\n(feature, coefficients)'\n",
    "print zip(feature_cols, model.coef_)\n",
    "# Linear qu. of the model\n",
    "\n"
   ]
  },
  {
   "cell_type": "markdown",
   "metadata": {},
   "source": [
    "To be more precise these valrible is not the input feature as descripe on the dataset, those varibles in scaled virsion on the orginal onces. So, to be more correct I should assign to them another varibles but for easy to unserstand I kept them as they were."
   ]
  },
  {
   "cell_type": "markdown",
   "metadata": {},
   "source": [
    "## Coefficients Of Determination {Calculating R^2}\n",
    "\n",
    "R^2, Close to one is better"
   ]
  },
  {
   "cell_type": "code",
   "execution_count": 19,
   "metadata": {
    "collapsed": false
   },
   "outputs": [
    {
     "name": "stdout",
     "output_type": "stream",
     "text": [
      "R-squared =  0.94391910199\n"
     ]
    }
   ],
   "source": [
    "predicted = cross_val_predict(model, X, Y, cv=kfold)\n",
    "r_squared = r2_score(Y, predicted, multioutput='variance_weighted')\n",
    "print 'R-squared = ',r_squared"
   ]
  },
  {
   "cell_type": "markdown",
   "metadata": {},
   "source": [
    "## Residual Plot"
   ]
  },
  {
   "cell_type": "code",
   "execution_count": 20,
   "metadata": {
    "collapsed": false
   },
   "outputs": [
    {
     "data": {
      "image/png": "[encoded data removed]",
      "text/plain": [
       "<matplotlib.figure.Figure at 0x7f08840697d0>"
      ]
     },
     "metadata": {},
     "output_type": "display_data"
    }
   ],
   "source": [
    "predicted = cross_val_predict(model, X, Y, cv=kfold)\n",
    "fig, ax = plt.subplots()\n",
    "ax.scatter(Y, predicted)\n",
    "ax.plot([Y.min(), Y.max()], [Y.min(), Y.max()], 'k--', lw=4)\n",
    "ax.set_xlabel('Measured')\n",
    "ax.set_ylabel('Predicted')\n",
    "plt.show()"
   ]
  },
  {
   "cell_type": "code",
   "execution_count": 21,
   "metadata": {
    "collapsed": false
   },
   "outputs": [
    {
     "data": {
      "text/html": [
       "\n",
       "\n",
       "    <div class=\"bk-root\">\n",
       "        <div class=\"plotdiv\" id=\"d36fb3b9-80c0-4e39-83e1-d8b9a276b19a\"></div>\n",
       "    </div>\n",
       "<script type=\"text/javascript\">\n",
       "  \n",
       "  (function(global) {\n",
       "    function now() {\n",
       "      return new Date();\n",
       "    }\n",
       "  \n",
       "    var force = \"\";\n",
       "  \n",
       "    if (typeof (window._bokeh_onload_callbacks) === \"undefined\" || force !== \"\") {\n",
       "      window._bokeh_onload_callbacks = [];\n",
       "      window._bokeh_is_loading = undefined;\n",
       "    }\n",
       "  \n",
       "  \n",
       "    \n",
       "    if (typeof (window._bokeh_timeout) === \"undefined\" || force !== \"\") {\n",
       "      window._bokeh_timeout = Date.now() + 0;\n",
       "      window._bokeh_failed_load = false;\n",
       "    }\n",
       "  \n",
       "    var NB_LOAD_WARNING = {'data': {'text/html':\n",
       "       \"<div style='background-color: #fdd'>\\n\"+\n",
       "       \"<p>\\n\"+\n",
       "       \"BokehJS does not appear to have successfully loaded. If loading BokehJS from CDN, this \\n\"+\n",
       "       \"may be due to a slow or bad network connection. Possible fixes:\\n\"+\n",
       "       \"</p>\\n\"+\n",
       "       \"<ul>\\n\"+\n",
       "       \"<li>re-rerun `output_notebook()` to attempt to load from CDN again, or</li>\\n\"+\n",
       "       \"<li>use INLINE resources instead, as so:</li>\\n\"+\n",
       "       \"</ul>\\n\"+\n",
       "       \"<code>\\n\"+\n",
       "       \"from bokeh.resources import INLINE\\n\"+\n",
       "       \"output_notebook(resources=INLINE)\\n\"+\n",
       "       \"</code>\\n\"+\n",
       "       \"</div>\"}};\n",
       "  \n",
       "    function display_loaded() {\n",
       "      if (window.Bokeh !== undefined) {\n",
       "        Bokeh.$(\"#d36fb3b9-80c0-4e39-83e1-d8b9a276b19a\").text(\"BokehJS successfully loaded.\");\n",
       "      } else if (Date.now() < window._bokeh_timeout) {\n",
       "        setTimeout(display_loaded, 100)\n",
       "      }\n",
       "    }\n",
       "  \n",
       "    function run_callbacks() {\n",
       "      window._bokeh_onload_callbacks.forEach(function(callback) { callback() });\n",
       "      delete window._bokeh_onload_callbacks\n",
       "      console.info(\"Bokeh: all callbacks have finished\");\n",
       "    }\n",
       "  \n",
       "    function load_libs(js_urls, callback) {\n",
       "      window._bokeh_onload_callbacks.push(callback);\n",
       "      if (window._bokeh_is_loading > 0) {\n",
       "        console.log(\"Bokeh: BokehJS is being loaded, scheduling callback at\", now());\n",
       "        return null;\n",
       "      }\n",
       "      if (js_urls == null || js_urls.length === 0) {\n",
       "        run_callbacks();\n",
       "        return null;\n",
       "      }\n",
       "      console.log(\"Bokeh: BokehJS not loaded, scheduling load and callback at\", now());\n",
       "      window._bokeh_is_loading = js_urls.length;\n",
       "      for (var i = 0; i < js_urls.length; i++) {\n",
       "        var url = js_urls[i];\n",
       "        var s = document.createElement('script');\n",
       "        s.src = url;\n",
       "        s.async = false;\n",
       "        s.onreadystatechange = s.onload = function() {\n",
       "          window._bokeh_is_loading--;\n",
       "          if (window._bokeh_is_loading === 0) {\n",
       "            console.log(\"Bokeh: all BokehJS libraries loaded\");\n",
       "            run_callbacks()\n",
       "          }\n",
       "        };\n",
       "        s.onerror = function() {\n",
       "          console.warn(\"failed to load library \" + url);\n",
       "        };\n",
       "        console.log(\"Bokeh: injecting script tag for BokehJS library: \", url);\n",
       "        document.getElementsByTagName(\"head\")[0].appendChild(s);\n",
       "      }\n",
       "    };var element = document.getElementById(\"d36fb3b9-80c0-4e39-83e1-d8b9a276b19a\");\n",
       "    if (element == null) {\n",
       "      console.log(\"Bokeh: ERROR: autoload.js configured with elementid 'd36fb3b9-80c0-4e39-83e1-d8b9a276b19a' but no matching script tag was found. \")\n",
       "      return false;\n",
       "    }\n",
       "  \n",
       "    var js_urls = [];\n",
       "  \n",
       "    var inline_js = [\n",
       "      function(Bokeh) {\n",
       "        Bokeh.$(function() {\n",
       "            var docs_json = {\"8466664f-a926-4ec6-baa7-0d8ef0b9aabd\":{\"roots\":{\"references\":[{\"attributes\":{\"callback\":null},\"id\":\"35ff8f37-f9c2-4629-b77e-5eaab59d5cf1\",\"type\":\"DataRange1d\"},{\"attributes\":{\"overlay\":{\"id\":\"f5c87557-d2cf-4a74-a7ec-4ef1fb2fc4d1\",\"type\":\"PolyAnnotation\"},\"plot\":{\"id\":\"564e0df7-d552-45c6-a5dc-0849a2288e2f\",\"subtype\":\"Figure\",\"type\":\"Plot\"}},\"id\":\"77f4db63-f0a7-4479-b6cd-2f498c2eb5e6\",\"type\":\"PolySelectTool\"},{\"attributes\":{\"plot\":{\"id\":\"564e0df7-d552-45c6-a5dc-0849a2288e2f\",\"subtype\":\"Figure\",\"type\":\"Plot\"}},\"id\":\"ff55b313-7959-48dd-82bf-ef758f8397c8\",\"type\":\"PanTool\"},{\"attributes\":{\"fill_alpha\":{\"value\":0.1},\"fill_color\":{\"value\":\"#1f77b4\"},\"line_alpha\":{\"value\":0.1},\"line_color\":{\"value\":\"#1f77b4\"},\"line_width\":{\"value\":3},\"x\":{\"field\":\"x\"},\"y\":{\"field\":\"y\"}},\"id\":\"e3fa2208-3d2f-4067-8a38-bb70eeb2799c\",\"type\":\"Circle\"},{\"attributes\":{\"plot\":{\"id\":\"564e0df7-d552-45c6-a5dc-0849a2288e2f\",\"subtype\":\"Figure\",\"type\":\"Plot\"}},\"id\":\"a0aad30a-d1cc-4fc0-a6be-db6122a0c2eb\",\"type\":\"CrosshairTool\"},{\"attributes\":{\"plot\":{\"id\":\"564e0df7-d552-45c6-a5dc-0849a2288e2f\",\"subtype\":\"Figure\",\"type\":\"Plot\"}},\"id\":\"0b43d33c-86e6-406f-920d-128b7e7b655b\",\"type\":\"WheelZoomTool\"},{\"attributes\":{\"axis_label\":\"Measured\",\"axis_label_text_color\":{\"value\":\"#aa6666\"},\"formatter\":{\"id\":\"e5978279-bc8c-46fd-9fae-9f5772f91186\",\"type\":\"BasicTickFormatter\"},\"major_tick_line_color\":{\"value\":\"firebrick\"},\"major_tick_line_width\":{\"value\":3},\"minor_tick_line_color\":{\"value\":\"orange\"},\"plot\":{\"id\":\"564e0df7-d552-45c6-a5dc-0849a2288e2f\",\"subtype\":\"Figure\",\"type\":\"Plot\"},\"ticker\":{\"id\":\"37f92933-c15a-4b52-be57-11b89249efb2\",\"type\":\"BasicTicker\"}},\"id\":\"9eb2b1fa-9bea-4cd0-a04a-eed8980d242f\",\"type\":\"LinearAxis\"},{\"attributes\":{\"bottom_units\":\"screen\",\"fill_alpha\":{\"value\":0.5},\"fill_color\":{\"value\":\"lightgrey\"},\"left_units\":\"screen\",\"level\":\"overlay\",\"line_alpha\":{\"value\":1.0},\"line_color\":{\"value\":\"black\"},\"line_dash\":[4,4],\"line_width\":{\"value\":2},\"plot\":null,\"render_mode\":\"css\",\"right_units\":\"screen\",\"top_units\":\"screen\"},\"id\":\"c5c99995-3370-43b5-ba19-fff35342b840\",\"type\":\"BoxAnnotation\"},{\"attributes\":{\"plot\":{\"id\":\"564e0df7-d552-45c6-a5dc-0849a2288e2f\",\"subtype\":\"Figure\",\"type\":\"Plot\"}},\"id\":\"4b27aa80-385a-40b7-97c9-0980e363a406\",\"type\":\"ResizeTool\"},{\"attributes\":{\"plot\":{\"id\":\"564e0df7-d552-45c6-a5dc-0849a2288e2f\",\"subtype\":\"Figure\",\"type\":\"Plot\"},\"ticker\":{\"id\":\"37f92933-c15a-4b52-be57-11b89249efb2\",\"type\":\"BasicTicker\"}},\"id\":\"9a5f030d-b346-442c-b7ea-afc4fc1a6654\",\"type\":\"Grid\"},{\"attributes\":{\"axis_label\":\"Predicted\",\"axis_label_text_color\":{\"value\":\"#aa6666\"},\"formatter\":{\"id\":\"615b3ebb-23db-4e3b-9445-56b6e4085fa2\",\"type\":\"BasicTickFormatter\"},\"plot\":{\"id\":\"564e0df7-d552-45c6-a5dc-0849a2288e2f\",\"subtype\":\"Figure\",\"type\":\"Plot\"},\"ticker\":{\"id\":\"30c84cb3-63cf-439d-af82-2675bf8ab95f\",\"type\":\"BasicTicker\"}},\"id\":\"8096d963-dc59-4330-9f8e-fc7684955737\",\"type\":\"LinearAxis\"},{\"attributes\":{\"dimension\":1,\"plot\":{\"id\":\"564e0df7-d552-45c6-a5dc-0849a2288e2f\",\"subtype\":\"Figure\",\"type\":\"Plot\"},\"ticker\":{\"id\":\"30c84cb3-63cf-439d-af82-2675bf8ab95f\",\"type\":\"BasicTicker\"}},\"id\":\"a72daf45-c39b-4c07-aff2-5c33f7d488ca\",\"type\":\"Grid\"},{\"attributes\":{\"fill_alpha\":{\"value\":0.5},\"fill_color\":{\"value\":\"lightgrey\"},\"level\":\"overlay\",\"line_alpha\":{\"value\":1.0},\"line_color\":{\"value\":\"black\"},\"line_dash\":[4,4],\"line_width\":{\"value\":2},\"plot\":null,\"xs_units\":\"screen\",\"ys_units\":\"screen\"},\"id\":\"f5c87557-d2cf-4a74-a7ec-4ef1fb2fc4d1\",\"type\":\"PolyAnnotation\"},{\"attributes\":{\"callback\":null,\"overlay\":{\"id\":\"56e7dea3-9863-455f-ad95-c4366d22cdf2\",\"type\":\"PolyAnnotation\"},\"plot\":{\"id\":\"564e0df7-d552-45c6-a5dc-0849a2288e2f\",\"subtype\":\"Figure\",\"type\":\"Plot\"}},\"id\":\"74c20720-9d7d-40d4-bc4b-58ec2a900959\",\"type\":\"LassoSelectTool\"},{\"attributes\":{\"callback\":null,\"plot\":{\"id\":\"564e0df7-d552-45c6-a5dc-0849a2288e2f\",\"subtype\":\"Figure\",\"type\":\"Plot\"}},\"id\":\"f59c2c58-96d1-45bb-9cdd-7d89d3f3d2cd\",\"type\":\"TapTool\"},{\"attributes\":{\"plot\":{\"id\":\"564e0df7-d552-45c6-a5dc-0849a2288e2f\",\"subtype\":\"Figure\",\"type\":\"Plot\"}},\"id\":\"7d1c0dda-1ec0-441b-b872-2c5ae7c080fa\",\"type\":\"SaveTool\"},{\"attributes\":{},\"id\":\"e5978279-bc8c-46fd-9fae-9f5772f91186\",\"type\":\"BasicTickFormatter\"},{\"attributes\":{\"callback\":null,\"overlay\":{\"id\":\"3a92c461-815b-4fef-8062-259285a3d628\",\"type\":\"BoxAnnotation\"},\"plot\":{\"id\":\"564e0df7-d552-45c6-a5dc-0849a2288e2f\",\"subtype\":\"Figure\",\"type\":\"Plot\"},\"renderers\":[{\"id\":\"0fca5716-ce2d-4f5b-85f7-da01a35ce8b8\",\"type\":\"GlyphRenderer\"},{\"id\":\"15e7bd17-80d7-425f-8595-71224eff4ee5\",\"type\":\"GlyphRenderer\"}]},\"id\":\"5b6c42d3-a694-460e-8c08-da1e8fff02eb\",\"type\":\"BoxSelectTool\"},{\"attributes\":{\"line_alpha\":{\"value\":0.1},\"line_color\":{\"value\":\"#1f77b4\"},\"line_dash\":[4,4],\"line_width\":{\"value\":2},\"x\":{\"field\":\"x\"},\"y\":{\"field\":\"y\"}},\"id\":\"0b0bc40c-db84-4927-a7c3-c7ade2d51993\",\"type\":\"Line\"},{\"attributes\":{\"plot\":{\"id\":\"564e0df7-d552-45c6-a5dc-0849a2288e2f\",\"subtype\":\"Figure\",\"type\":\"Plot\"}},\"id\":\"c91ddbdb-a266-407f-bf5c-cc56aba5d678\",\"type\":\"UndoTool\"},{\"attributes\":{\"data_source\":{\"id\":\"714cf534-92d0-4543-9be1-b932a377fa9f\",\"type\":\"ColumnDataSource\"},\"glyph\":{\"id\":\"37bbd403-6c29-47e4-a9a1-42faa1a63ce3\",\"type\":\"Circle\"},\"hover_glyph\":null,\"nonselection_glyph\":{\"id\":\"e3fa2208-3d2f-4067-8a38-bb70eeb2799c\",\"type\":\"Circle\"},\"selection_glyph\":null},\"id\":\"0fca5716-ce2d-4f5b-85f7-da01a35ce8b8\",\"type\":\"GlyphRenderer\"},{\"attributes\":{\"plot\":{\"id\":\"564e0df7-d552-45c6-a5dc-0849a2288e2f\",\"subtype\":\"Figure\",\"type\":\"Plot\"}},\"id\":\"7eac99be-1ee9-4f19-b748-c6e91c059eec\",\"type\":\"ResetTool\"},{\"attributes\":{\"data_source\":{\"id\":\"433a674c-99f5-4020-b873-0d9d89bae0ec\",\"type\":\"ColumnDataSource\"},\"glyph\":{\"id\":\"9e62a906-c844-4dcc-881b-933887bf8524\",\"type\":\"Line\"},\"hover_glyph\":null,\"nonselection_glyph\":{\"id\":\"0b0bc40c-db84-4927-a7c3-c7ade2d51993\",\"type\":\"Line\"},\"selection_glyph\":null},\"id\":\"15e7bd17-80d7-425f-8595-71224eff4ee5\",\"type\":\"GlyphRenderer\"},{\"attributes\":{\"align\":\"center\",\"plot\":null,\"text\":null},\"id\":\"8aea9061-13bb-467f-a831-cb1f2d514dbf\",\"type\":\"Title\"},{\"attributes\":{},\"id\":\"30c84cb3-63cf-439d-af82-2675bf8ab95f\",\"type\":\"BasicTicker\"},{\"attributes\":{\"overlay\":{\"id\":\"c5c99995-3370-43b5-ba19-fff35342b840\",\"type\":\"BoxAnnotation\"},\"plot\":{\"id\":\"564e0df7-d552-45c6-a5dc-0849a2288e2f\",\"subtype\":\"Figure\",\"type\":\"Plot\"}},\"id\":\"8f3f982c-0f40-486b-bc54-ca220587ce41\",\"type\":\"BoxZoomTool\"},{\"attributes\":{\"active_drag\":\"auto\",\"active_scroll\":\"auto\",\"active_tap\":\"auto\",\"tools\":[{\"id\":\"8f3f982c-0f40-486b-bc54-ca220587ce41\",\"type\":\"BoxZoomTool\"},{\"id\":\"5b6c42d3-a694-460e-8c08-da1e8fff02eb\",\"type\":\"BoxSelectTool\"},{\"id\":\"a0aad30a-d1cc-4fc0-a6be-db6122a0c2eb\",\"type\":\"CrosshairTool\"},{\"id\":\"4b27aa80-385a-40b7-97c9-0980e363a406\",\"type\":\"ResizeTool\"},{\"id\":\"7eac99be-1ee9-4f19-b748-c6e91c059eec\",\"type\":\"ResetTool\"},{\"id\":\"74c20720-9d7d-40d4-bc4b-58ec2a900959\",\"type\":\"LassoSelectTool\"},{\"id\":\"ff55b313-7959-48dd-82bf-ef758f8397c8\",\"type\":\"PanTool\"},{\"id\":\"7d1c0dda-1ec0-441b-b872-2c5ae7c080fa\",\"type\":\"SaveTool\"},{\"id\":\"77f4db63-f0a7-4479-b6cd-2f498c2eb5e6\",\"type\":\"PolySelectTool\"},{\"id\":\"f59c2c58-96d1-45bb-9cdd-7d89d3f3d2cd\",\"type\":\"TapTool\"},{\"id\":\"0b43d33c-86e6-406f-920d-128b7e7b655b\",\"type\":\"WheelZoomTool\"},{\"id\":\"c91ddbdb-a266-407f-bf5c-cc56aba5d678\",\"type\":\"UndoTool\"}]},\"id\":\"4e2e99b5-e3da-4050-9e33-c0f24d194681\",\"type\":\"Toolbar\"},{\"attributes\":{\"callback\":null,\"column_names\":[\"x\",\"y\"],\"data\":{\"x\":[20,53,132,25,88,54,75,17,28,35,80,360,749,41,26,44,82,28,275,18,27,34,28,102,34,42,426,57,124,19,128,30,281,19,19,86,45,29,28,22,220,126,15,22,31,81,35,18,24,37,95,19,253,34,24,182,74,23,78,23,24,24,47,270,113,253,82,20,47,978,34,31,199,171,33,361,113,117,74,33,38,36,28,41,117,267,45,18,21,37,190,47,381,28,25,116,26,20,35,181,29,24,65,18,136,34,157,253,101,25,74,28,46,53,29,44,46,36,41,82,138,28,42,62,266,102,25,44,31,74,142,41,43,119,27,15,73,64,53,76,120,24,20,50,21,80,30,341,24,919,30,56,34,53,175,47,32,23,39,1238,20,227,20,382,26,28,67],\"y\":[9.037100172339322,44.80510337851284,154.02938875619444,29.15356228574103,76.22478991958039,62.206081941445795,108.46748868403209,12.90996139697313,19.93657782043732,21.05972807043422,103.29056520691523,381.0844467656709,655.8539741889955,22.56080612828788,29.366049945987825,34.820182235777935,79.4182156547096,31.824406695601198,272.70589593506907,16.4687294362392,33.232868815448754,36.98473421020622,16.121502177260552,156.7992194489401,33.222989877858254,48.894488619295046,489.13765394027064,67.83583903380028,107.14791600449958,-13.763781064378179,151.53613648266747,4.530268743759592,169.18042746635797,15.257353169800993,-16.556416144026855,90.13995290082686,53.09147181594476,20.0939219492698,49.40512845337166,-9.291848622368931,302.0434852618355,205.51271652643715,-15.825786399590626,4.03214692108763,24.669301375455575,104.4891113909518,31.511255069144156,9.962731598858142,7.257186210837858,30.14255726255547,100.70192641959298,4.098995358264304,270.18818749245827,38.87388590156274,1.166851861525501,165.50252825190668,71.12761659936648,19.841288751490012,77.77180433018685,21.624590668179124,-5.82504386132716,-2.305962908967743,47.82872466473102,354.82198709254857,188.62864429350384,242.03553987358288,129.8268714825627,48.253399529000006,44.89623446718946,981.321950238797,35.4477532830266,22.675882418027612,133.16650083105498,219.55793534514083,50.88942186135037,469.41280547386833,129.43557426042096,102.11588625690632,59.88489184983189,21.49161226278575,42.228989746463306,32.78483691600627,17.236756691058844,46.68143396049152,128.2484955933295,329.0076122883508,80.49613834984542,8.278382368893276,-1.0508815116782273,12.607103547853697,182.15215655641936,51.40814711264247,408.9408618052444,15.238211079097198,10.883868854639331,127.67871458997857,-3.3490478486097572,-0.27790501950296687,13.8963013220596,228.78861470750147,16.475713074074577,18.908625228658195,60.012034809797306,19.400903130857273,204.2031467659381,32.86014958378517,202.5888359426795,297.56497288420906,108.97547672168108,29.19977854254907,66.98079538444958,25.158331801358955,19.5835255900527,79.87452724270909,19.284443015005024,50.068557337820735,23.117693456200016,27.74287865167254,23.807744903722238,75.96456143764891,137.38689194481427,48.35874605585685,43.25837125911663,56.60319458333966,295.15082251173203,232.3696648421321,13.060555024763673,42.58723181179268,11.353977838476283,44.34925514147018,128.29742884909308,40.07794702846901,46.255936888503285,115.42436969611299,15.076346553942656,-10.502499005513215,98.99350331196865,65.9094260842832,75.42052745885138,84.75632754811357,136.55619935060818,-2.237803074928948,0.9840079762376774,57.482884634613825,27.08621302023522,62.539087510297094,41.53196615415859,296.34690804873554,21.78769278316898,811.3097420710801,3.792962170840312,61.7884833424438,40.2727148040762,47.976044805785136,205.63628171703962,52.892995634317295,21.18499812767641,-8.866548886581782,31.707143490522512,938.5860737308262,20.83366924573309,250.882085170106,-2.9699667858210006,358.50571367580153,9.477198526187891,29.49436565607084,43.56408472909483]}},\"id\":\"714cf534-92d0-4543-9be1-b932a377fa9f\",\"type\":\"ColumnDataSource\"},{\"attributes\":{\"callback\":null,\"column_names\":[\"y\",\"x\"],\"data\":{\"x\":[15,1238],\"y\":[15,1238]}},\"id\":\"433a674c-99f5-4020-b873-0d9d89bae0ec\",\"type\":\"ColumnDataSource\"},{\"attributes\":{\"bottom_units\":\"screen\",\"fill_alpha\":{\"value\":0.5},\"fill_color\":{\"value\":\"lightgrey\"},\"left_units\":\"screen\",\"level\":\"overlay\",\"line_alpha\":{\"value\":1.0},\"line_color\":{\"value\":\"black\"},\"line_dash\":[4,4],\"line_width\":{\"value\":2},\"plot\":null,\"render_mode\":\"css\",\"right_units\":\"screen\",\"top_units\":\"screen\"},\"id\":\"3a92c461-815b-4fef-8062-259285a3d628\",\"type\":\"BoxAnnotation\"},{\"attributes\":{},\"id\":\"37f92933-c15a-4b52-be57-11b89249efb2\",\"type\":\"BasicTicker\"},{\"attributes\":{},\"id\":\"615b3ebb-23db-4e3b-9445-56b6e4085fa2\",\"type\":\"BasicTickFormatter\"},{\"attributes\":{\"fill_color\":{\"value\":\"#80B1D3\"},\"line_color\":{\"value\":\"#80B1D3\"},\"line_width\":{\"value\":3},\"x\":{\"field\":\"x\"},\"y\":{\"field\":\"y\"}},\"id\":\"37bbd403-6c29-47e4-a9a1-42faa1a63ce3\",\"type\":\"Circle\"},{\"attributes\":{},\"id\":\"47b0773d-2732-418c-8a92-582df96811c8\",\"type\":\"ToolEvents\"},{\"attributes\":{\"fill_alpha\":{\"value\":0.5},\"fill_color\":{\"value\":\"lightgrey\"},\"level\":\"overlay\",\"line_alpha\":{\"value\":1.0},\"line_color\":{\"value\":\"black\"},\"line_dash\":[4,4],\"line_width\":{\"value\":2},\"plot\":null,\"xs_units\":\"screen\",\"ys_units\":\"screen\"},\"id\":\"56e7dea3-9863-455f-ad95-c4366d22cdf2\",\"type\":\"PolyAnnotation\"},{\"attributes\":{\"background_fill_alpha\":{\"value\":0.5},\"background_fill_color\":{\"value\":\"beige\"},\"below\":[{\"id\":\"9eb2b1fa-9bea-4cd0-a04a-eed8980d242f\",\"type\":\"LinearAxis\"}],\"left\":[{\"id\":\"8096d963-dc59-4330-9f8e-fc7684955737\",\"type\":\"LinearAxis\"}],\"plot_height\":500,\"plot_width\":500,\"renderers\":[{\"id\":\"9eb2b1fa-9bea-4cd0-a04a-eed8980d242f\",\"type\":\"LinearAxis\"},{\"id\":\"9a5f030d-b346-442c-b7ea-afc4fc1a6654\",\"type\":\"Grid\"},{\"id\":\"8096d963-dc59-4330-9f8e-fc7684955737\",\"type\":\"LinearAxis\"},{\"id\":\"a72daf45-c39b-4c07-aff2-5c33f7d488ca\",\"type\":\"Grid\"},{\"id\":\"c5c99995-3370-43b5-ba19-fff35342b840\",\"type\":\"BoxAnnotation\"},{\"id\":\"3a92c461-815b-4fef-8062-259285a3d628\",\"type\":\"BoxAnnotation\"},{\"id\":\"56e7dea3-9863-455f-ad95-c4366d22cdf2\",\"type\":\"PolyAnnotation\"},{\"id\":\"f5c87557-d2cf-4a74-a7ec-4ef1fb2fc4d1\",\"type\":\"PolyAnnotation\"},{\"id\":\"0fca5716-ce2d-4f5b-85f7-da01a35ce8b8\",\"type\":\"GlyphRenderer\"},{\"id\":\"15e7bd17-80d7-425f-8595-71224eff4ee5\",\"type\":\"GlyphRenderer\"}],\"title\":{\"id\":\"8aea9061-13bb-467f-a831-cb1f2d514dbf\",\"type\":\"Title\"},\"tool_events\":{\"id\":\"47b0773d-2732-418c-8a92-582df96811c8\",\"type\":\"ToolEvents\"},\"toolbar\":{\"id\":\"4e2e99b5-e3da-4050-9e33-c0f24d194681\",\"type\":\"Toolbar\"},\"x_range\":{\"id\":\"35ff8f37-f9c2-4629-b77e-5eaab59d5cf1\",\"type\":\"DataRange1d\"},\"y_range\":{\"id\":\"18a8553f-b1c5-47ea-9278-10b11160275a\",\"type\":\"DataRange1d\"}},\"id\":\"564e0df7-d552-45c6-a5dc-0849a2288e2f\",\"subtype\":\"Figure\",\"type\":\"Plot\"},{\"attributes\":{\"callback\":null},\"id\":\"18a8553f-b1c5-47ea-9278-10b11160275a\",\"type\":\"DataRange1d\"},{\"attributes\":{\"line_dash\":[4,4],\"line_width\":{\"value\":2},\"x\":{\"field\":\"x\"},\"y\":{\"field\":\"y\"}},\"id\":\"9e62a906-c844-4dcc-881b-933887bf8524\",\"type\":\"Line\"}],\"root_ids\":[\"564e0df7-d552-45c6-a5dc-0849a2288e2f\"]},\"title\":\"Bokeh Application\",\"version\":\"0.12.2\"}};\n",
       "            var render_items = [{\"docid\":\"8466664f-a926-4ec6-baa7-0d8ef0b9aabd\",\"elementid\":\"d36fb3b9-80c0-4e39-83e1-d8b9a276b19a\",\"modelid\":\"564e0df7-d552-45c6-a5dc-0849a2288e2f\"}];\n",
       "            \n",
       "            Bokeh.embed.embed_items(docs_json, render_items);\n",
       "        });\n",
       "      },\n",
       "      function(Bokeh) {\n",
       "      }\n",
       "    ];\n",
       "  \n",
       "    function run_inline_js() {\n",
       "      \n",
       "      if ((window.Bokeh !== undefined) || (force === \"1\")) {\n",
       "        for (var i = 0; i < inline_js.length; i++) {\n",
       "          inline_js[i](window.Bokeh);\n",
       "        }if (force === \"1\") {\n",
       "          display_loaded();\n",
       "        }} else if (Date.now() < window._bokeh_timeout) {\n",
       "        setTimeout(run_inline_js, 100);\n",
       "      } else if (!window._bokeh_failed_load) {\n",
       "        console.log(\"Bokeh: BokehJS failed to load within specified timeout.\");\n",
       "        window._bokeh_failed_load = true;\n",
       "      } else if (!force) {\n",
       "        var cell = $(\"#d36fb3b9-80c0-4e39-83e1-d8b9a276b19a\").parents('.cell').data().cell;\n",
       "        cell.output_area.append_execute_result(NB_LOAD_WARNING)\n",
       "      }\n",
       "  \n",
       "    }\n",
       "  \n",
       "    if (window._bokeh_is_loading === 0) {\n",
       "      console.log(\"Bokeh: BokehJS loaded, going straight to plotting\");\n",
       "      run_inline_js();\n",
       "    } else {\n",
       "      load_libs(js_urls, function() {\n",
       "        console.log(\"Bokeh: BokehJS plotting callback run at\", now());\n",
       "        run_inline_js();\n",
       "      });\n",
       "    }\n",
       "  }(this));\n",
       "</script>"
      ]
     },
     "metadata": {},
     "output_type": "display_data"
    }
   ],
   "source": [
    "# Plotining using bokeh\n",
    "#TOOLS = [BoxSelectTool(), HoverTool()]\n",
    "#TOOLS = 'hover,box_zoom,box_select,crosshair,resize,reset,lasso_select,pan,save,poly_select,tap,wheel_zoom,undo'\n",
    "TOOLS = 'box_zoom,box_select,crosshair,resize,reset,lasso_select,pan,save,poly_select,tap,wheel_zoom,undo'\n",
    "p = figure(plot_width=500, plot_height=500, tools=TOOLS)\n",
    "p.scatter(Y, predicted,x=\"jjj\", marker=\"o\", color=\"#80B1D3\", line_width=3)\n",
    "p.title.align = \"center\"\n",
    "p.xaxis.axis_label = \"Measured\"\n",
    "p.xaxis.axis_label_text_color = \"#aa6666\"\n",
    "#p.xaxis.axis_label_standoff = 30\n",
    "p.xaxis.major_tick_line_color = \"firebrick\"\n",
    "p.xaxis.major_tick_line_width = 3\n",
    "p.xaxis.minor_tick_line_color = \"orange\"\n",
    "p.yaxis.axis_label = \"Predicted\"\n",
    "p.yaxis.axis_label_text_font_style = \"italic\"\n",
    "p.yaxis.axis_label_text_color = \"#aa6666\"\n",
    "p.background_fill_color = \"beige\"\n",
    "p.background_fill_alpha = 0.5\n",
    "#p.line([Y.min(), Y.max()], [Y.min(), Y.max()], line_dash=\"4 4\", line_width=2, color='red')\n",
    "\n",
    "# create a new plot with the toolbar below\n",
    "# line_dash=\"4 4\", line_width=2, color='red'\n",
    "p.line([Y.min(), Y.max()], [Y.min(), Y.max()], line_dash=\"4 4\", line_width=2, line_color=\"black\")\n",
    "show(p)"
   ]
  },
  {
   "cell_type": "code",
   "execution_count": 22,
   "metadata": {
    "collapsed": false
   },
   "outputs": [
    {
     "data": {
      "text/plain": [
       "<matplotlib.text.Text at 0x7f08845a3f90>"
      ]
     },
     "execution_count": 22,
     "metadata": {},
     "output_type": "execute_result"
    },
    {
     "data": {
      "image/png": "[encoded data removed]",
      "text/plain": [
       "<matplotlib.figure.Figure at 0x7f08840bff90>"
      ]
     },
     "metadata": {},
     "output_type": "display_data"
    }
   ],
   "source": [
    "plt.scatter(predicted, (predicted - Y), c='r', s=30)\n",
    "plt.title(\"Residual plot on the training data\")\n",
    "plt.xlabel(\"Predicted\")\n",
    "plt.ylabel(\"Residuals\")"
   ]
  },
  {
   "cell_type": "code",
   "execution_count": 23,
   "metadata": {
    "collapsed": false
   },
   "outputs": [
    {
     "data": {
      "text/html": [
       "\n",
       "\n",
       "    <div class=\"bk-root\">\n",
       "        <div class=\"plotdiv\" id=\"988e99c8-4145-4c30-b1ba-44526786c30d\"></div>\n",
       "    </div>\n",
       "<script type=\"text/javascript\">\n",
       "  \n",
       "  (function(global) {\n",
       "    function now() {\n",
       "      return new Date();\n",
       "    }\n",
       "  \n",
       "    var force = \"\";\n",
       "  \n",
       "    if (typeof (window._bokeh_onload_callbacks) === \"undefined\" || force !== \"\") {\n",
       "      window._bokeh_onload_callbacks = [];\n",
       "      window._bokeh_is_loading = undefined;\n",
       "    }\n",
       "  \n",
       "  \n",
       "    \n",
       "    if (typeof (window._bokeh_timeout) === \"undefined\" || force !== \"\") {\n",
       "      window._bokeh_timeout = Date.now() + 0;\n",
       "      window._bokeh_failed_load = false;\n",
       "    }\n",
       "  \n",
       "    var NB_LOAD_WARNING = {'data': {'text/html':\n",
       "       \"<div style='background-color: #fdd'>\\n\"+\n",
       "       \"<p>\\n\"+\n",
       "       \"BokehJS does not appear to have successfully loaded. If loading BokehJS from CDN, this \\n\"+\n",
       "       \"may be due to a slow or bad network connection. Possible fixes:\\n\"+\n",
       "       \"</p>\\n\"+\n",
       "       \"<ul>\\n\"+\n",
       "       \"<li>re-rerun `output_notebook()` to attempt to load from CDN again, or</li>\\n\"+\n",
       "       \"<li>use INLINE resources instead, as so:</li>\\n\"+\n",
       "       \"</ul>\\n\"+\n",
       "       \"<code>\\n\"+\n",
       "       \"from bokeh.resources import INLINE\\n\"+\n",
       "       \"output_notebook(resources=INLINE)\\n\"+\n",
       "       \"</code>\\n\"+\n",
       "       \"</div>\"}};\n",
       "  \n",
       "    function display_loaded() {\n",
       "      if (window.Bokeh !== undefined) {\n",
       "        Bokeh.$(\"#988e99c8-4145-4c30-b1ba-44526786c30d\").text(\"BokehJS successfully loaded.\");\n",
       "      } else if (Date.now() < window._bokeh_timeout) {\n",
       "        setTimeout(display_loaded, 100)\n",
       "      }\n",
       "    }\n",
       "  \n",
       "    function run_callbacks() {\n",
       "      window._bokeh_onload_callbacks.forEach(function(callback) { callback() });\n",
       "      delete window._bokeh_onload_callbacks\n",
       "      console.info(\"Bokeh: all callbacks have finished\");\n",
       "    }\n",
       "  \n",
       "    function load_libs(js_urls, callback) {\n",
       "      window._bokeh_onload_callbacks.push(callback);\n",
       "      if (window._bokeh_is_loading > 0) {\n",
       "        console.log(\"Bokeh: BokehJS is being loaded, scheduling callback at\", now());\n",
       "        return null;\n",
       "      }\n",
       "      if (js_urls == null || js_urls.length === 0) {\n",
       "        run_callbacks();\n",
       "        return null;\n",
       "      }\n",
       "      console.log(\"Bokeh: BokehJS not loaded, scheduling load and callback at\", now());\n",
       "      window._bokeh_is_loading = js_urls.length;\n",
       "      for (var i = 0; i < js_urls.length; i++) {\n",
       "        var url = js_urls[i];\n",
       "        var s = document.createElement('script');\n",
       "        s.src = url;\n",
       "        s.async = false;\n",
       "        s.onreadystatechange = s.onload = function() {\n",
       "          window._bokeh_is_loading--;\n",
       "          if (window._bokeh_is_loading === 0) {\n",
       "            console.log(\"Bokeh: all BokehJS libraries loaded\");\n",
       "            run_callbacks()\n",
       "          }\n",
       "        };\n",
       "        s.onerror = function() {\n",
       "          console.warn(\"failed to load library \" + url);\n",
       "        };\n",
       "        console.log(\"Bokeh: injecting script tag for BokehJS library: \", url);\n",
       "        document.getElementsByTagName(\"head\")[0].appendChild(s);\n",
       "      }\n",
       "    };var element = document.getElementById(\"988e99c8-4145-4c30-b1ba-44526786c30d\");\n",
       "    if (element == null) {\n",
       "      console.log(\"Bokeh: ERROR: autoload.js configured with elementid '988e99c8-4145-4c30-b1ba-44526786c30d' but no matching script tag was found. \")\n",
       "      return false;\n",
       "    }\n",
       "  \n",
       "    var js_urls = [];\n",
       "  \n",
       "    var inline_js = [\n",
       "      function(Bokeh) {\n",
       "        Bokeh.$(function() {\n",
       "            var docs_json = {\"11ec2acd-bff8-4093-8169-1e3602af7af2\":{\"roots\":{\"references\":[{\"attributes\":{},\"id\":\"7d446756-f95d-4d7b-8f13-438e21487a6e\",\"type\":\"BasicTicker\"},{\"attributes\":{\"plot\":{\"id\":\"f7956ccc-9b9a-4b58-b51b-d4cf2caadda8\",\"subtype\":\"Figure\",\"type\":\"Plot\"}},\"id\":\"ea909b11-aa66-4a8a-856f-d5dd685d2f14\",\"type\":\"CrosshairTool\"},{\"attributes\":{\"overlay\":{\"id\":\"21db52aa-2fec-41f6-aa5c-55798b3618ef\",\"type\":\"BoxAnnotation\"},\"plot\":{\"id\":\"f7956ccc-9b9a-4b58-b51b-d4cf2caadda8\",\"subtype\":\"Figure\",\"type\":\"Plot\"}},\"id\":\"95d09768-f21e-4c0d-9e29-d560d7a9b6ef\",\"type\":\"BoxZoomTool\"},{\"attributes\":{},\"id\":\"0e16dac5-0df2-4e4a-bba0-6ec74ba0e08c\",\"type\":\"BasicTickFormatter\"},{\"attributes\":{\"axis_label\":\"Predicted\",\"axis_label_text_color\":{\"value\":\"#aa6666\"},\"formatter\":{\"id\":\"29a38bd1-78eb-4183-8f10-60aea5e31d31\",\"type\":\"BasicTickFormatter\"},\"major_tick_line_color\":{\"value\":\"firebrick\"},\"major_tick_line_width\":{\"value\":3},\"minor_tick_line_color\":{\"value\":\"orange\"},\"plot\":{\"id\":\"f7956ccc-9b9a-4b58-b51b-d4cf2caadda8\",\"subtype\":\"Figure\",\"type\":\"Plot\"},\"ticker\":{\"id\":\"5a529b3f-7afd-4818-b18d-9349bbdf7cfe\",\"type\":\"BasicTicker\"}},\"id\":\"9a204109-1d68-44da-8f53-5ddc1d235c85\",\"type\":\"LinearAxis\"},{\"attributes\":{},\"id\":\"6ff0de8c-a5d5-4861-b233-d6b1842fd13b\",\"type\":\"ToolEvents\"},{\"attributes\":{\"callback\":null,\"overlay\":{\"id\":\"02e8c9f0-dbc0-4411-a46f-755e4f999079\",\"type\":\"BoxAnnotation\"},\"plot\":{\"id\":\"f7956ccc-9b9a-4b58-b51b-d4cf2caadda8\",\"subtype\":\"Figure\",\"type\":\"Plot\"},\"renderers\":[{\"id\":\"d2fb4d7d-4266-4a0b-828d-d1a7da72c817\",\"type\":\"GlyphRenderer\"}]},\"id\":\"2ab903f8-ade9-45a3-8a87-a070b575dce9\",\"type\":\"BoxSelectTool\"},{\"attributes\":{},\"id\":\"5a529b3f-7afd-4818-b18d-9349bbdf7cfe\",\"type\":\"BasicTicker\"},{\"attributes\":{\"axis_label\":\"Residuals\",\"axis_label_text_color\":{\"value\":\"#aa6666\"},\"formatter\":{\"id\":\"0e16dac5-0df2-4e4a-bba0-6ec74ba0e08c\",\"type\":\"BasicTickFormatter\"},\"plot\":{\"id\":\"f7956ccc-9b9a-4b58-b51b-d4cf2caadda8\",\"subtype\":\"Figure\",\"type\":\"Plot\"},\"ticker\":{\"id\":\"7d446756-f95d-4d7b-8f13-438e21487a6e\",\"type\":\"BasicTicker\"}},\"id\":\"af6d793a-a2a9-4ef5-acea-2d37bcd15f1d\",\"type\":\"LinearAxis\"},{\"attributes\":{\"plot\":{\"id\":\"f7956ccc-9b9a-4b58-b51b-d4cf2caadda8\",\"subtype\":\"Figure\",\"type\":\"Plot\"}},\"id\":\"32754852-90f9-4aef-adb5-3aee18cc575e\",\"type\":\"SaveTool\"},{\"attributes\":{\"plot\":{\"id\":\"f7956ccc-9b9a-4b58-b51b-d4cf2caadda8\",\"subtype\":\"Figure\",\"type\":\"Plot\"}},\"id\":\"33653454-9fa1-49aa-b863-b43d758066ce\",\"type\":\"WheelZoomTool\"},{\"attributes\":{\"plot\":{\"id\":\"f7956ccc-9b9a-4b58-b51b-d4cf2caadda8\",\"subtype\":\"Figure\",\"type\":\"Plot\"}},\"id\":\"51707792-cac0-4406-9b44-098511f226d0\",\"type\":\"ResizeTool\"},{\"attributes\":{\"background_fill_alpha\":{\"value\":0.5},\"background_fill_color\":{\"value\":\"beige\"},\"below\":[{\"id\":\"9a204109-1d68-44da-8f53-5ddc1d235c85\",\"type\":\"LinearAxis\"}],\"left\":[{\"id\":\"af6d793a-a2a9-4ef5-acea-2d37bcd15f1d\",\"type\":\"LinearAxis\"}],\"plot_height\":500,\"plot_width\":500,\"renderers\":[{\"id\":\"9a204109-1d68-44da-8f53-5ddc1d235c85\",\"type\":\"LinearAxis\"},{\"id\":\"a26ac428-4265-45ea-b381-0955ee594c5b\",\"type\":\"Grid\"},{\"id\":\"af6d793a-a2a9-4ef5-acea-2d37bcd15f1d\",\"type\":\"LinearAxis\"},{\"id\":\"227bdec9-1ea6-473a-98fb-92127bf07e30\",\"type\":\"Grid\"},{\"id\":\"21db52aa-2fec-41f6-aa5c-55798b3618ef\",\"type\":\"BoxAnnotation\"},{\"id\":\"02e8c9f0-dbc0-4411-a46f-755e4f999079\",\"type\":\"BoxAnnotation\"},{\"id\":\"8a2e4270-78ce-4701-954a-f865c6d9e5e5\",\"type\":\"PolyAnnotation\"},{\"id\":\"b72469dc-b2fc-42d7-9ec8-71fc0e8781de\",\"type\":\"PolyAnnotation\"},{\"id\":\"d2fb4d7d-4266-4a0b-828d-d1a7da72c817\",\"type\":\"GlyphRenderer\"}],\"title\":{\"id\":\"06bf745b-837e-4e7c-9574-327f577cb828\",\"type\":\"Title\"},\"tool_events\":{\"id\":\"6ff0de8c-a5d5-4861-b233-d6b1842fd13b\",\"type\":\"ToolEvents\"},\"toolbar\":{\"id\":\"c51a3118-d7b8-4a31-b665-d9e73d13cd04\",\"type\":\"Toolbar\"},\"x_range\":{\"id\":\"1e5438ea-0458-48eb-840e-910e90e57f66\",\"type\":\"DataRange1d\"},\"y_range\":{\"id\":\"8dde96e4-56a6-49c1-9947-bf10bd14b5e8\",\"type\":\"DataRange1d\"}},\"id\":\"f7956ccc-9b9a-4b58-b51b-d4cf2caadda8\",\"subtype\":\"Figure\",\"type\":\"Plot\"},{\"attributes\":{\"fill_color\":{\"value\":\"#80B1D3\"},\"line_color\":{\"value\":\"#80B1D3\"},\"line_width\":{\"value\":3},\"x\":{\"field\":\"x\"},\"y\":{\"field\":\"y\"}},\"id\":\"acb84838-8704-45f1-b583-a7a047b4abd3\",\"type\":\"Circle\"},{\"attributes\":{\"dimension\":1,\"plot\":{\"id\":\"f7956ccc-9b9a-4b58-b51b-d4cf2caadda8\",\"subtype\":\"Figure\",\"type\":\"Plot\"},\"ticker\":{\"id\":\"7d446756-f95d-4d7b-8f13-438e21487a6e\",\"type\":\"BasicTicker\"}},\"id\":\"227bdec9-1ea6-473a-98fb-92127bf07e30\",\"type\":\"Grid\"},{\"attributes\":{\"plot\":{\"id\":\"f7956ccc-9b9a-4b58-b51b-d4cf2caadda8\",\"subtype\":\"Figure\",\"type\":\"Plot\"},\"ticker\":{\"id\":\"5a529b3f-7afd-4818-b18d-9349bbdf7cfe\",\"type\":\"BasicTicker\"}},\"id\":\"a26ac428-4265-45ea-b381-0955ee594c5b\",\"type\":\"Grid\"},{\"attributes\":{},\"id\":\"29a38bd1-78eb-4183-8f10-60aea5e31d31\",\"type\":\"BasicTickFormatter\"},{\"attributes\":{\"plot\":{\"id\":\"f7956ccc-9b9a-4b58-b51b-d4cf2caadda8\",\"subtype\":\"Figure\",\"type\":\"Plot\"}},\"id\":\"e8f9bc4f-239d-407f-8155-06942d2a5c85\",\"type\":\"UndoTool\"},{\"attributes\":{\"align\":\"center\",\"plot\":null,\"text\":\"Residual plot on the training data\"},\"id\":\"06bf745b-837e-4e7c-9574-327f577cb828\",\"type\":\"Title\"},{\"attributes\":{\"callback\":null,\"plot\":{\"id\":\"f7956ccc-9b9a-4b58-b51b-d4cf2caadda8\",\"subtype\":\"Figure\",\"type\":\"Plot\"}},\"id\":\"ed7038e9-ec33-4b2a-a1ee-a50d29a34947\",\"type\":\"TapTool\"},{\"attributes\":{\"active_drag\":\"auto\",\"active_scroll\":\"auto\",\"active_tap\":\"auto\",\"tools\":[{\"id\":\"95d09768-f21e-4c0d-9e29-d560d7a9b6ef\",\"type\":\"BoxZoomTool\"},{\"id\":\"2ab903f8-ade9-45a3-8a87-a070b575dce9\",\"type\":\"BoxSelectTool\"},{\"id\":\"ea909b11-aa66-4a8a-856f-d5dd685d2f14\",\"type\":\"CrosshairTool\"},{\"id\":\"51707792-cac0-4406-9b44-098511f226d0\",\"type\":\"ResizeTool\"},{\"id\":\"d654db76-46e4-4a85-be44-e28bd122eb7b\",\"type\":\"ResetTool\"},{\"id\":\"1a1e1abd-b6ea-4169-85c7-2956dc8e5fb2\",\"type\":\"LassoSelectTool\"},{\"id\":\"fa38c446-fd66-4bf6-aa2b-1fee5968a838\",\"type\":\"PanTool\"},{\"id\":\"32754852-90f9-4aef-adb5-3aee18cc575e\",\"type\":\"SaveTool\"},{\"id\":\"ee597594-15a7-410c-b1f6-dd6f62c674bc\",\"type\":\"PolySelectTool\"},{\"id\":\"ed7038e9-ec33-4b2a-a1ee-a50d29a34947\",\"type\":\"TapTool\"},{\"id\":\"33653454-9fa1-49aa-b863-b43d758066ce\",\"type\":\"WheelZoomTool\"},{\"id\":\"e8f9bc4f-239d-407f-8155-06942d2a5c85\",\"type\":\"UndoTool\"}]},\"id\":\"c51a3118-d7b8-4a31-b665-d9e73d13cd04\",\"type\":\"Toolbar\"},{\"attributes\":{\"bottom_units\":\"screen\",\"fill_alpha\":{\"value\":0.5},\"fill_color\":{\"value\":\"lightgrey\"},\"left_units\":\"screen\",\"level\":\"overlay\",\"line_alpha\":{\"value\":1.0},\"line_color\":{\"value\":\"black\"},\"line_dash\":[4,4],\"line_width\":{\"value\":2},\"plot\":null,\"render_mode\":\"css\",\"right_units\":\"screen\",\"top_units\":\"screen\"},\"id\":\"21db52aa-2fec-41f6-aa5c-55798b3618ef\",\"type\":\"BoxAnnotation\"},{\"attributes\":{\"plot\":{\"id\":\"f7956ccc-9b9a-4b58-b51b-d4cf2caadda8\",\"subtype\":\"Figure\",\"type\":\"Plot\"}},\"id\":\"fa38c446-fd66-4bf6-aa2b-1fee5968a838\",\"type\":\"PanTool\"},{\"attributes\":{\"fill_alpha\":{\"value\":0.5},\"fill_color\":{\"value\":\"lightgrey\"},\"level\":\"overlay\",\"line_alpha\":{\"value\":1.0},\"line_color\":{\"value\":\"black\"},\"line_dash\":[4,4],\"line_width\":{\"value\":2},\"plot\":null,\"xs_units\":\"screen\",\"ys_units\":\"screen\"},\"id\":\"b72469dc-b2fc-42d7-9ec8-71fc0e8781de\",\"type\":\"PolyAnnotation\"},{\"attributes\":{\"callback\":null},\"id\":\"1e5438ea-0458-48eb-840e-910e90e57f66\",\"type\":\"DataRange1d\"},{\"attributes\":{\"fill_alpha\":{\"value\":0.5},\"fill_color\":{\"value\":\"lightgrey\"},\"level\":\"overlay\",\"line_alpha\":{\"value\":1.0},\"line_color\":{\"value\":\"black\"},\"line_dash\":[4,4],\"line_width\":{\"value\":2},\"plot\":null,\"xs_units\":\"screen\",\"ys_units\":\"screen\"},\"id\":\"8a2e4270-78ce-4701-954a-f865c6d9e5e5\",\"type\":\"PolyAnnotation\"},{\"attributes\":{\"plot\":{\"id\":\"f7956ccc-9b9a-4b58-b51b-d4cf2caadda8\",\"subtype\":\"Figure\",\"type\":\"Plot\"}},\"id\":\"d654db76-46e4-4a85-be44-e28bd122eb7b\",\"type\":\"ResetTool\"},{\"attributes\":{\"data_source\":{\"id\":\"6ebb01dc-222b-42b0-ad57-87b63d07f428\",\"type\":\"ColumnDataSource\"},\"glyph\":{\"id\":\"acb84838-8704-45f1-b583-a7a047b4abd3\",\"type\":\"Circle\"},\"hover_glyph\":null,\"nonselection_glyph\":{\"id\":\"6920039f-3db0-4747-aae7-3017dc19907f\",\"type\":\"Circle\"},\"selection_glyph\":null},\"id\":\"d2fb4d7d-4266-4a0b-828d-d1a7da72c817\",\"type\":\"GlyphRenderer\"},{\"attributes\":{\"callback\":null,\"overlay\":{\"id\":\"8a2e4270-78ce-4701-954a-f865c6d9e5e5\",\"type\":\"PolyAnnotation\"},\"plot\":{\"id\":\"f7956ccc-9b9a-4b58-b51b-d4cf2caadda8\",\"subtype\":\"Figure\",\"type\":\"Plot\"}},\"id\":\"1a1e1abd-b6ea-4169-85c7-2956dc8e5fb2\",\"type\":\"LassoSelectTool\"},{\"attributes\":{\"callback\":null},\"id\":\"8dde96e4-56a6-49c1-9947-bf10bd14b5e8\",\"type\":\"DataRange1d\"},{\"attributes\":{\"bottom_units\":\"screen\",\"fill_alpha\":{\"value\":0.5},\"fill_color\":{\"value\":\"lightgrey\"},\"left_units\":\"screen\",\"level\":\"overlay\",\"line_alpha\":{\"value\":1.0},\"line_color\":{\"value\":\"black\"},\"line_dash\":[4,4],\"line_width\":{\"value\":2},\"plot\":null,\"render_mode\":\"css\",\"right_units\":\"screen\",\"top_units\":\"screen\"},\"id\":\"02e8c9f0-dbc0-4411-a46f-755e4f999079\",\"type\":\"BoxAnnotation\"},{\"attributes\":{\"overlay\":{\"id\":\"b72469dc-b2fc-42d7-9ec8-71fc0e8781de\",\"type\":\"PolyAnnotation\"},\"plot\":{\"id\":\"f7956ccc-9b9a-4b58-b51b-d4cf2caadda8\",\"subtype\":\"Figure\",\"type\":\"Plot\"}},\"id\":\"ee597594-15a7-410c-b1f6-dd6f62c674bc\",\"type\":\"PolySelectTool\"},{\"attributes\":{\"fill_alpha\":{\"value\":0.1},\"fill_color\":{\"value\":\"#1f77b4\"},\"line_alpha\":{\"value\":0.1},\"line_color\":{\"value\":\"#1f77b4\"},\"line_width\":{\"value\":3},\"x\":{\"field\":\"x\"},\"y\":{\"field\":\"y\"}},\"id\":\"6920039f-3db0-4747-aae7-3017dc19907f\",\"type\":\"Circle\"},{\"attributes\":{\"callback\":null,\"column_names\":[\"x\",\"y\"],\"data\":{\"x\":[9.037100172339322,44.80510337851284,154.02938875619444,29.15356228574103,76.22478991958039,62.206081941445795,108.46748868403209,12.90996139697313,19.93657782043732,21.05972807043422,103.29056520691523,381.0844467656709,655.8539741889955,22.56080612828788,29.366049945987825,34.820182235777935,79.4182156547096,31.824406695601198,272.70589593506907,16.4687294362392,33.232868815448754,36.98473421020622,16.121502177260552,156.7992194489401,33.222989877858254,48.894488619295046,489.13765394027064,67.83583903380028,107.14791600449958,-13.763781064378179,151.53613648266747,4.530268743759592,169.18042746635797,15.257353169800993,-16.556416144026855,90.13995290082686,53.09147181594476,20.0939219492698,49.40512845337166,-9.291848622368931,302.0434852618355,205.51271652643715,-15.825786399590626,4.03214692108763,24.669301375455575,104.4891113909518,31.511255069144156,9.962731598858142,7.257186210837858,30.14255726255547,100.70192641959298,4.098995358264304,270.18818749245827,38.87388590156274,1.166851861525501,165.50252825190668,71.12761659936648,19.841288751490012,77.77180433018685,21.624590668179124,-5.82504386132716,-2.305962908967743,47.82872466473102,354.82198709254857,188.62864429350384,242.03553987358288,129.8268714825627,48.253399529000006,44.89623446718946,981.321950238797,35.4477532830266,22.675882418027612,133.16650083105498,219.55793534514083,50.88942186135037,469.41280547386833,129.43557426042096,102.11588625690632,59.88489184983189,21.49161226278575,42.228989746463306,32.78483691600627,17.236756691058844,46.68143396049152,128.2484955933295,329.0076122883508,80.49613834984542,8.278382368893276,-1.0508815116782273,12.607103547853697,182.15215655641936,51.40814711264247,408.9408618052444,15.238211079097198,10.883868854639331,127.67871458997857,-3.3490478486097572,-0.27790501950296687,13.8963013220596,228.78861470750147,16.475713074074577,18.908625228658195,60.012034809797306,19.400903130857273,204.2031467659381,32.86014958378517,202.5888359426795,297.56497288420906,108.97547672168108,29.19977854254907,66.98079538444958,25.158331801358955,19.5835255900527,79.87452724270909,19.284443015005024,50.068557337820735,23.117693456200016,27.74287865167254,23.807744903722238,75.96456143764891,137.38689194481427,48.35874605585685,43.25837125911663,56.60319458333966,295.15082251173203,232.3696648421321,13.060555024763673,42.58723181179268,11.353977838476283,44.34925514147018,128.29742884909308,40.07794702846901,46.255936888503285,115.42436969611299,15.076346553942656,-10.502499005513215,98.99350331196865,65.9094260842832,75.42052745885138,84.75632754811357,136.55619935060818,-2.237803074928948,0.9840079762376774,57.482884634613825,27.08621302023522,62.539087510297094,41.53196615415859,296.34690804873554,21.78769278316898,811.3097420710801,3.792962170840312,61.7884833424438,40.2727148040762,47.976044805785136,205.63628171703962,52.892995634317295,21.18499812767641,-8.866548886581782,31.707143490522512,938.5860737308262,20.83366924573309,250.882085170106,-2.9699667858210006,358.50571367580153,9.477198526187891,29.49436565607084,43.56408472909483],\"y\":[-10.962899827660678,-8.19489662148716,22.029388756194436,4.153562285741032,-11.775210080419612,8.206081941445795,33.46748868403209,-4.090038603026869,-8.063422179562679,-13.940271929565782,23.290565206915232,21.08444676567092,-93.1460258110045,-18.43919387171212,3.3660499459878253,-9.179817764222065,-2.5817843452904015,3.8244066956011977,-2.2941040649309343,-1.531270563760799,6.232868815448754,2.98473421020622,-11.878497822739448,54.79921944894011,-0.7770101221417463,6.894488619295046,63.13765394027064,10.835839033800283,-16.852083995500422,-32.76378106437818,23.536136482667473,-25.469731256240408,-111.81957253364203,-3.742646830199007,-35.556416144026855,4.139952900826856,8.091471815944757,-8.906078050730201,21.40512845337166,-31.29184862236893,82.04348526183549,79.51271652643715,-30.825786399590626,-17.96785307891237,-6.330698624544425,23.489111390951805,-3.4887449308558445,-8.037268401141858,-16.742813789162142,-6.857442737444529,5.701926419592979,-14.901004641735696,17.18818749245827,4.873885901562737,-22.8331481384745,-16.497471748093318,-2.872383400633524,-3.158711248509988,-0.22819566981314665,-1.375409331820876,-29.82504386132716,-26.305962908967743,0.8287246647310198,84.82198709254857,75.62864429350384,-10.964460126417123,47.826871482562694,28.253399529000006,-2.1037655328105416,3.321950238796944,1.4477532830266,-8.324117581972388,-65.83349916894502,48.557935345140834,17.88942186135037,108.41280547386833,16.435574260420964,-14.884113743093678,-14.115108150168112,-11.50838773721425,4.228989746463306,-3.2151630839937297,-10.763243308941156,5.681433960491518,11.248495593329494,62.0076122883508,35.496138349845424,-9.721617631106724,-22.050881511678227,-24.392896452146303,-7.8478434435806435,4.408147112642467,27.940861805244424,-12.761788920902802,-14.116131145360669,11.678714589978568,-29.349047848609757,-20.277905019502967,-21.1036986779404,47.788614707501466,-12.524286925925423,-5.091374771341805,-4.987965190202694,1.400903130857273,68.2031467659381,-1.139850416214827,45.58883594267951,44.564972884209055,7.975476721681076,4.199778542549069,-7.0192046155504215,-2.8416681986410453,-26.4164744099473,26.874527242709092,-9.715556984994976,6.068557337820735,-22.882306543799984,-8.257121348327459,-17.192255096277762,-6.035438562351089,-0.6131080551857337,20.358746055856848,1.258371259116629,-5.396805416660342,29.15082251173203,130.3696648421321,-11.939444975236327,-1.4127681882073233,-19.646022161523717,-29.65074485852982,-13.70257115090692,-0.922052971530988,3.2559368885032853,-3.57563030388701,-11.923653446057344,-25.502499005513215,25.993503311968652,1.9094260842831972,22.42052745885138,8.756327548113575,16.556199350608182,-26.237803074928948,-19.015992023762323,7.482884634613825,6.0862130202352205,-17.460912489702906,11.531966154158589,-44.65309195126446,-2.2123072168310216,-107.69025792891989,-26.207037829159688,5.788483342443797,6.272714804076202,-5.023955194214864,30.636281717039623,5.892995634317295,-10.815001872323592,-31.866548886581782,-7.292856509477488,-299.41392626917377,0.8336692457330912,23.882085170105995,-22.969966785821,-23.49428632419847,-16.52280147381211,1.4943656560708405,-23.43591527090517]}},\"id\":\"6ebb01dc-222b-42b0-ad57-87b63d07f428\",\"type\":\"ColumnDataSource\"}],\"root_ids\":[\"f7956ccc-9b9a-4b58-b51b-d4cf2caadda8\"]},\"title\":\"Bokeh Application\",\"version\":\"0.12.2\"}};\n",
       "            var render_items = [{\"docid\":\"11ec2acd-bff8-4093-8169-1e3602af7af2\",\"elementid\":\"988e99c8-4145-4c30-b1ba-44526786c30d\",\"modelid\":\"f7956ccc-9b9a-4b58-b51b-d4cf2caadda8\"}];\n",
       "            \n",
       "            Bokeh.embed.embed_items(docs_json, render_items);\n",
       "        });\n",
       "      },\n",
       "      function(Bokeh) {\n",
       "      }\n",
       "    ];\n",
       "  \n",
       "    function run_inline_js() {\n",
       "      \n",
       "      if ((window.Bokeh !== undefined) || (force === \"1\")) {\n",
       "        for (var i = 0; i < inline_js.length; i++) {\n",
       "          inline_js[i](window.Bokeh);\n",
       "        }if (force === \"1\") {\n",
       "          display_loaded();\n",
       "        }} else if (Date.now() < window._bokeh_timeout) {\n",
       "        setTimeout(run_inline_js, 100);\n",
       "      } else if (!window._bokeh_failed_load) {\n",
       "        console.log(\"Bokeh: BokehJS failed to load within specified timeout.\");\n",
       "        window._bokeh_failed_load = true;\n",
       "      } else if (!force) {\n",
       "        var cell = $(\"#988e99c8-4145-4c30-b1ba-44526786c30d\").parents('.cell').data().cell;\n",
       "        cell.output_area.append_execute_result(NB_LOAD_WARNING)\n",
       "      }\n",
       "  \n",
       "    }\n",
       "  \n",
       "    if (window._bokeh_is_loading === 0) {\n",
       "      console.log(\"Bokeh: BokehJS loaded, going straight to plotting\");\n",
       "      run_inline_js();\n",
       "    } else {\n",
       "      load_libs(js_urls, function() {\n",
       "        console.log(\"Bokeh: BokehJS plotting callback run at\", now());\n",
       "        run_inline_js();\n",
       "      });\n",
       "    }\n",
       "  }(this));\n",
       "</script>"
      ]
     },
     "metadata": {},
     "output_type": "display_data"
    }
   ],
   "source": [
    "# Plotining using bokeh\n",
    "#TOOLS = 'hover,box_zoom,box_select,crosshair,resize,reset,lasso_select,pan,save,poly_select,tap,wheel_zoom,undo'\n",
    "TOOLS = 'box_zoom,box_select,crosshair,resize,reset,lasso_select,pan,save,poly_select,tap,wheel_zoom,undo'\n",
    "p = figure(plot_width=500, plot_height=500, title=\"Residual plot on the training data\", tools=TOOLS)\n",
    "p.scatter(predicted, (predicted - Y),x=\"jjj\", marker=\"o\", color=\"#80B1D3\", line_width=3)\n",
    "p.title.align = \"center\"\n",
    "p.xaxis.axis_label = \"Predicted\"\n",
    "p.xaxis.axis_label_text_color = \"#aa6666\"\n",
    "#p.xaxis.axis_label_standoff = 30\n",
    "p.xaxis.major_tick_line_color = \"firebrick\"\n",
    "p.xaxis.major_tick_line_width = 3\n",
    "p.xaxis.minor_tick_line_color = \"orange\"\n",
    "p.yaxis.axis_label = \"Residuals\"\n",
    "p.yaxis.axis_label_text_font_style = \"italic\"\n",
    "p.yaxis.axis_label_text_color = \"#aa6666\"\n",
    "p.background_fill_color = \"beige\"\n",
    "p.background_fill_alpha = 0.5\n",
    "#p.line([2,38], [0, 0], line_dash=\"4 4\", line_width=2, color='red')\n",
    "show(p)"
   ]
  },
  {
   "cell_type": "markdown",
   "metadata": {},
   "source": [
    "## Pipeline"
   ]
  },
  {
   "cell_type": "markdown",
   "metadata": {},
   "source": [
    "The best to deliver the model by pipeline the operation then at deployment can be done in one model."
   ]
  },
  {
   "cell_type": "markdown",
   "metadata": {
    "collapsed": true
   },
   "source": [
    "  I used two ways to check the pipeline so any one can be fine"
   ]
  },
  {
   "cell_type": "code",
   "execution_count": 24,
   "metadata": {
    "collapsed": false
   },
   "outputs": [
    {
     "name": "stdout",
     "output_type": "stream",
     "text": [
      "0.965473603767\n",
      "Scoring according to mean_squared_error\n",
      "[ -729.44390621 -1320.7022897  -1071.13468452 -1120.93855143 -1178.13968251\n",
      "  -695.36601149  -665.80648944 -1256.44094215 -1124.0766566  -5864.92233594]\n",
      "\n",
      " Mean      Standard deviation\n",
      "-1502.70      1471.51\n",
      "[ True  True  True  True  True  True  True]\n",
      "R-squared =  0.965473603767\n"
     ]
    },
    {
     "name": "stderr",
     "output_type": "stream",
     "text": [
      "/home/salm/anaconda2/lib/python2.7/site-packages/sklearn/utils/validation.py:420: DataConversionWarning: Data with input dtype int64 was converted to float64 by StandardScaler.\n",
      "  warnings.warn(msg, DataConversionWarning)\n",
      "/home/salm/anaconda2/lib/python2.7/site-packages/sklearn/utils/validation.py:420: DataConversionWarning: Data with input dtype int64 was converted to float64 by StandardScaler.\n",
      "  warnings.warn(msg, DataConversionWarning)\n",
      "/home/salm/anaconda2/lib/python2.7/site-packages/sklearn/utils/validation.py:420: DataConversionWarning: Data with input dtype int64 was converted to float64 by StandardScaler.\n",
      "  warnings.warn(msg, DataConversionWarning)\n",
      "/home/salm/anaconda2/lib/python2.7/site-packages/sklearn/utils/validation.py:420: DataConversionWarning: Data with input dtype int64 was converted to float64 by StandardScaler.\n",
      "  warnings.warn(msg, DataConversionWarning)\n",
      "/home/salm/anaconda2/lib/python2.7/site-packages/sklearn/utils/validation.py:420: DataConversionWarning: Data with input dtype int64 was converted to float64 by StandardScaler.\n",
      "  warnings.warn(msg, DataConversionWarning)\n",
      "/home/salm/anaconda2/lib/python2.7/site-packages/sklearn/utils/validation.py:420: DataConversionWarning: Data with input dtype int64 was converted to float64 by StandardScaler.\n",
      "  warnings.warn(msg, DataConversionWarning)\n",
      "/home/salm/anaconda2/lib/python2.7/site-packages/sklearn/utils/validation.py:420: DataConversionWarning: Data with input dtype int64 was converted to float64 by StandardScaler.\n",
      "  warnings.warn(msg, DataConversionWarning)\n",
      "/home/salm/anaconda2/lib/python2.7/site-packages/sklearn/utils/validation.py:420: DataConversionWarning: Data with input dtype int64 was converted to float64 by StandardScaler.\n",
      "  warnings.warn(msg, DataConversionWarning)\n",
      "/home/salm/anaconda2/lib/python2.7/site-packages/sklearn/utils/validation.py:420: DataConversionWarning: Data with input dtype int64 was converted to float64 by StandardScaler.\n",
      "  warnings.warn(msg, DataConversionWarning)\n",
      "/home/salm/anaconda2/lib/python2.7/site-packages/sklearn/utils/validation.py:420: DataConversionWarning: Data with input dtype int64 was converted to float64 by StandardScaler.\n",
      "  warnings.warn(msg, DataConversionWarning)\n",
      "/home/salm/anaconda2/lib/python2.7/site-packages/sklearn/utils/validation.py:420: DataConversionWarning: Data with input dtype int64 was converted to float64 by StandardScaler.\n",
      "  warnings.warn(msg, DataConversionWarning)\n",
      "/home/salm/anaconda2/lib/python2.7/site-packages/sklearn/utils/validation.py:420: DataConversionWarning: Data with input dtype int64 was converted to float64 by StandardScaler.\n",
      "  warnings.warn(msg, DataConversionWarning)\n",
      "/home/salm/anaconda2/lib/python2.7/site-packages/sklearn/utils/validation.py:420: DataConversionWarning: Data with input dtype int64 was converted to float64 by StandardScaler.\n",
      "  warnings.warn(msg, DataConversionWarning)\n",
      "/home/salm/anaconda2/lib/python2.7/site-packages/sklearn/utils/validation.py:420: DataConversionWarning: Data with input dtype int64 was converted to float64 by StandardScaler.\n",
      "  warnings.warn(msg, DataConversionWarning)\n",
      "/home/salm/anaconda2/lib/python2.7/site-packages/sklearn/utils/validation.py:420: DataConversionWarning: Data with input dtype int64 was converted to float64 by StandardScaler.\n",
      "  warnings.warn(msg, DataConversionWarning)\n",
      "/home/salm/anaconda2/lib/python2.7/site-packages/sklearn/utils/validation.py:420: DataConversionWarning: Data with input dtype int64 was converted to float64 by StandardScaler.\n",
      "  warnings.warn(msg, DataConversionWarning)\n",
      "/home/salm/anaconda2/lib/python2.7/site-packages/sklearn/utils/validation.py:420: DataConversionWarning: Data with input dtype int64 was converted to float64 by StandardScaler.\n",
      "  warnings.warn(msg, DataConversionWarning)\n",
      "/home/salm/anaconda2/lib/python2.7/site-packages/sklearn/utils/validation.py:420: DataConversionWarning: Data with input dtype int64 was converted to float64 by StandardScaler.\n",
      "  warnings.warn(msg, DataConversionWarning)\n",
      "/home/salm/anaconda2/lib/python2.7/site-packages/sklearn/utils/validation.py:420: DataConversionWarning: Data with input dtype int64 was converted to float64 by StandardScaler.\n",
      "  warnings.warn(msg, DataConversionWarning)\n",
      "/home/salm/anaconda2/lib/python2.7/site-packages/sklearn/utils/validation.py:420: DataConversionWarning: Data with input dtype int64 was converted to float64 by StandardScaler.\n",
      "  warnings.warn(msg, DataConversionWarning)\n",
      "/home/salm/anaconda2/lib/python2.7/site-packages/sklearn/utils/validation.py:420: DataConversionWarning: Data with input dtype int64 was converted to float64 by StandardScaler.\n",
      "  warnings.warn(msg, DataConversionWarning)\n",
      "/home/salm/anaconda2/lib/python2.7/site-packages/sklearn/utils/validation.py:420: DataConversionWarning: Data with input dtype int64 was converted to float64 by StandardScaler.\n",
      "  warnings.warn(msg, DataConversionWarning)\n",
      "/home/salm/anaconda2/lib/python2.7/site-packages/sklearn/utils/validation.py:420: DataConversionWarning: Data with input dtype int64 was converted to float64 by StandardScaler.\n",
      "  warnings.warn(msg, DataConversionWarning)\n",
      "/home/salm/anaconda2/lib/python2.7/site-packages/sklearn/utils/validation.py:420: DataConversionWarning: Data with input dtype int64 was converted to float64 by StandardScaler.\n",
      "  warnings.warn(msg, DataConversionWarning)\n",
      "/home/salm/anaconda2/lib/python2.7/site-packages/sklearn/utils/validation.py:420: DataConversionWarning: Data with input dtype int64 was converted to float64 by StandardScaler.\n",
      "  warnings.warn(msg, DataConversionWarning)\n",
      "/home/salm/anaconda2/lib/python2.7/site-packages/sklearn/utils/validation.py:420: DataConversionWarning: Data with input dtype int64 was converted to float64 by StandardScaler.\n",
      "  warnings.warn(msg, DataConversionWarning)\n",
      "/home/salm/anaconda2/lib/python2.7/site-packages/sklearn/utils/validation.py:420: DataConversionWarning: Data with input dtype int64 was converted to float64 by StandardScaler.\n",
      "  warnings.warn(msg, DataConversionWarning)\n",
      "/home/salm/anaconda2/lib/python2.7/site-packages/sklearn/utils/validation.py:420: DataConversionWarning: Data with input dtype int64 was converted to float64 by StandardScaler.\n",
      "  warnings.warn(msg, DataConversionWarning)\n",
      "/home/salm/anaconda2/lib/python2.7/site-packages/sklearn/utils/validation.py:420: DataConversionWarning: Data with input dtype int64 was converted to float64 by StandardScaler.\n",
      "  warnings.warn(msg, DataConversionWarning)\n",
      "/home/salm/anaconda2/lib/python2.7/site-packages/sklearn/utils/validation.py:420: DataConversionWarning: Data with input dtype int64 was converted to float64 by StandardScaler.\n",
      "  warnings.warn(msg, DataConversionWarning)\n",
      "/home/salm/anaconda2/lib/python2.7/site-packages/sklearn/utils/validation.py:420: DataConversionWarning: Data with input dtype int64 was converted to float64 by StandardScaler.\n",
      "  warnings.warn(msg, DataConversionWarning)\n",
      "/home/salm/anaconda2/lib/python2.7/site-packages/sklearn/utils/validation.py:420: DataConversionWarning: Data with input dtype int64 was converted to float64 by StandardScaler.\n",
      "  warnings.warn(msg, DataConversionWarning)\n",
      "/home/salm/anaconda2/lib/python2.7/site-packages/sklearn/utils/validation.py:420: DataConversionWarning: Data with input dtype int64 was converted to float64 by StandardScaler.\n",
      "  warnings.warn(msg, DataConversionWarning)\n",
      "/home/salm/anaconda2/lib/python2.7/site-packages/sklearn/utils/validation.py:420: DataConversionWarning: Data with input dtype int64 was converted to float64 by StandardScaler.\n",
      "  warnings.warn(msg, DataConversionWarning)\n"
     ]
    }
   ],
   "source": [
    "# Use Pipeline\n",
    "# ANOVA \n",
    "from sklearn.pipeline import Pipeline\n",
    "from sklearn.feature_selection import SelectKBest, f_regression\n",
    "anova_filter = SelectKBest(f_regression, k=7)\n",
    "LR = Lasso(alpha = 0.26315789473684209, precompute = False)\n",
    "anova_LinReg = Pipeline([('scaler_Input',scaler), ('anova', anova_filter), ('LinReg', LR)])\n",
    "# You can set the parameters using the names issued\n",
    "# For instance, fit using a k of 10 in the SelectKBest\n",
    "anova_LinReg.set_params(anova__k=7).fit(new_data, Y)\n",
    "prediction = anova_LinReg.predict(new_data)\n",
    "print anova_LinReg.score(new_data, Y)                        \n",
    "# getting the selected features chosen by anova_filter\n",
    "results = cross_validation.cross_val_score(anova_LinReg, new_data, Y, cv=kfold, scoring=scoring)\n",
    "print 'Scoring according to mean_squared_error'\n",
    "print results\n",
    "print '\\n Mean      Standard deviation'\n",
    "print(\"%.2f      %.2f\" % (results.mean(), results.std()))\n",
    "print anova_LinReg.named_steps['anova'].get_support()\n",
    "r_squared = r2_score(Y, prediction, multioutput='variance_weighted')\n",
    "print 'R-squared = ',r_squared"
   ]
  },
  {
   "cell_type": "code",
   "execution_count": 25,
   "metadata": {
    "collapsed": false
   },
   "outputs": [
    {
     "name": "stdout",
     "output_type": "stream",
     "text": [
      "R-squared =  0.965473603767\n"
     ]
    },
    {
     "name": "stderr",
     "output_type": "stream",
     "text": [
      "/home/salm/anaconda2/lib/python2.7/site-packages/sklearn/utils/validation.py:420: DataConversionWarning: Data with input dtype int64 was converted to float64 by StandardScaler.\n",
      "  warnings.warn(msg, DataConversionWarning)\n",
      "/home/salm/anaconda2/lib/python2.7/site-packages/sklearn/utils/validation.py:420: DataConversionWarning: Data with input dtype int64 was converted to float64 by StandardScaler.\n",
      "  warnings.warn(msg, DataConversionWarning)\n",
      "/home/salm/anaconda2/lib/python2.7/site-packages/sklearn/utils/validation.py:420: DataConversionWarning: Data with input dtype int64 was converted to float64 by StandardScaler.\n",
      "  warnings.warn(msg, DataConversionWarning)\n"
     ]
    }
   ],
   "source": [
    "# Using make_pipeline\n",
    "from sklearn.pipeline import make_pipeline\n",
    "\n",
    "# ANOVA SVM-C\n",
    "# 1) anova filter, take 3 best ranked features\n",
    "anova_filter = SelectKBest(f_regression, k=7)\n",
    "anova_Lasso = make_pipeline(scaler, anova_filter, LR)\n",
    "anova_Lasso.fit(new_data, Y)\n",
    "prediction = anova_Lasso.predict(new_data)\n",
    "r_squared = r2_score(Y, prediction, multioutput='variance_weighted')\n",
    "print 'R-squared = ',r_squared"
   ]
  },
  {
   "cell_type": "markdown",
   "metadata": {},
   "source": [
    "### Save the Pipeline model for developement"
   ]
  },
  {
   "cell_type": "code",
   "execution_count": 26,
   "metadata": {
    "collapsed": false
   },
   "outputs": [
    {
     "data": {
      "text/plain": [
       "['anova_Lasso.pkl',\n",
       " 'anova_Lasso.pkl_01.npy',\n",
       " 'anova_Lasso.pkl_02.npy',\n",
       " 'anova_Lasso.pkl_03.npy',\n",
       " 'anova_Lasso.pkl_04.npy',\n",
       " 'anova_Lasso.pkl_05.npy',\n",
       " 'anova_Lasso.pkl_06.npy',\n",
       " 'anova_Lasso.pkl_07.npy']"
      ]
     },
     "execution_count": 26,
     "metadata": {},
     "output_type": "execute_result"
    }
   ],
   "source": [
    "# save the model scaler to the desk\n",
    "from sklearn.externals import joblib\n",
    "joblib.dump(anova_Lasso, 'anova_Lasso.pkl') "
   ]
  },
  {
   "cell_type": "code",
   "execution_count": 27,
   "metadata": {
    "collapsed": false
   },
   "outputs": [
    {
     "name": "stdout",
     "output_type": "stream",
     "text": [
      " =================================================================>>>>> done\n",
      "R-squared =  0.965473603767\n"
     ]
    },
    {
     "name": "stderr",
     "output_type": "stream",
     "text": [
      "/home/salm/anaconda2/lib/python2.7/site-packages/sklearn/utils/validation.py:420: DataConversionWarning: Data with input dtype int64 was converted to float64 by StandardScaler.\n",
      "  warnings.warn(msg, DataConversionWarning)\n"
     ]
    }
   ],
   "source": [
    "# Test the model if it is work\n",
    "anova_LassoTest = joblib.load('anova_Lasso.pkl')\n",
    "NewPred = anova_LassoTest.predict(new_data)\n",
    "print \" =================================================================>>>>> done\"\n",
    "r_squared = r2_score(Y, NewPred, multioutput='variance_weighted')\n",
    "print 'R-squared = ',r_squared"
   ]
  },
  {
   "cell_type": "code",
   "execution_count": 28,
   "metadata": {
    "collapsed": false
   },
   "outputs": [
    {
     "name": "stdout",
     "output_type": "stream",
     "text": [
      "Point of training data before normalization\n",
      "[   50  2000 32000    24     6    26   114]\n",
      "\n",
      "The read target of the data =  182\n",
      "\n",
      "The Predicted target of the data =  [ 165.50790072]\n"
     ]
    }
   ],
   "source": [
    "# test on single data point, randomly choose point number 55\n",
    "print 'Point of training data before normalization\\n',new_data[55]\n",
    "print '\\nThe read target of the data = ', Y[55]\n",
    "NewPred = anova_LassoTest.predict([new_data[55]])\n",
    "print '\\nThe Predicted target of the data = ', NewPred"
   ]
  },
  {
   "cell_type": "markdown",
   "metadata": {},
   "source": [
    "## Conclusion "
   ]
  }
 ],
 "metadata": {
  "kernelspec": {
   "display_name": "Python 2",
   "language": "python",
   "name": "python2"
  },
  "language_info": {
   "codemirror_mode": {
    "name": "ipython",
    "version": 2
   },
   "file_extension": ".py",
   "mimetype": "text/x-python",
   "name": "python",
   "nbconvert_exporter": "python",
   "pygments_lexer": "ipython2",
   "version": "2.7.12"
  }
 },
 "nbformat": 4,
 "nbformat_minor": 0
}
