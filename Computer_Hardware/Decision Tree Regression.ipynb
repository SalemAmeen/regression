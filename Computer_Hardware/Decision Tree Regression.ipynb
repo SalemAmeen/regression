{
 "cells": [
  {
   "cell_type": "markdown",
   "metadata": {},
   "source": [
    "Salem Ameen, PhD student at Salford University\n",
    "\n",
    "### COMPUTER HARDWARE\n",
    "\n",
    "Decision trees Regression"
   ]
  },
  {
   "cell_type": "markdown",
   "metadata": {},
   "source": [
    "# Import the Libraries"
   ]
  },
  {
   "cell_type": "code",
   "execution_count": 1,
   "metadata": {
    "collapsed": false
   },
   "outputs": [
    {
     "data": {
      "text/html": [
       "\n",
       "    <div class=\"bk-root\">\n",
       "        <a href=\"http://bokeh.pydata.org\" target=\"_blank\" class=\"bk-logo bk-logo-small bk-logo-notebook\"></a>\n",
       "        <span id=\"3f1fcffa-b133-4973-b358-794d4ffd83e9\">Loading BokehJS ...</span>\n",
       "    </div>"
      ]
     },
     "metadata": {},
     "output_type": "display_data"
    },
    {
     "data": {
      "application/javascript": [
       "\n",
       "(function(global) {\n",
       "  function now() {\n",
       "    return new Date();\n",
       "  }\n",
       "\n",
       "  var force = \"1\";\n",
       "\n",
       "  if (typeof (window._bokeh_onload_callbacks) === \"undefined\" || force !== \"\") {\n",
       "    window._bokeh_onload_callbacks = [];\n",
       "    window._bokeh_is_loading = undefined;\n",
       "  }\n",
       "\n",
       "\n",
       "  \n",
       "  if (typeof (window._bokeh_timeout) === \"undefined\" || force !== \"\") {\n",
       "    window._bokeh_timeout = Date.now() + 5000;\n",
       "    window._bokeh_failed_load = false;\n",
       "  }\n",
       "\n",
       "  var NB_LOAD_WARNING = {'data': {'text/html':\n",
       "     \"<div style='background-color: #fdd'>\\n\"+\n",
       "     \"<p>\\n\"+\n",
       "     \"BokehJS does not appear to have successfully loaded. If loading BokehJS from CDN, this \\n\"+\n",
       "     \"may be due to a slow or bad network connection. Possible fixes:\\n\"+\n",
       "     \"</p>\\n\"+\n",
       "     \"<ul>\\n\"+\n",
       "     \"<li>re-rerun `output_notebook()` to attempt to load from CDN again, or</li>\\n\"+\n",
       "     \"<li>use INLINE resources instead, as so:</li>\\n\"+\n",
       "     \"</ul>\\n\"+\n",
       "     \"<code>\\n\"+\n",
       "     \"from bokeh.resources import INLINE\\n\"+\n",
       "     \"output_notebook(resources=INLINE)\\n\"+\n",
       "     \"</code>\\n\"+\n",
       "     \"</div>\"}};\n",
       "\n",
       "  function display_loaded() {\n",
       "    if (window.Bokeh !== undefined) {\n",
       "      Bokeh.$(\"#3f1fcffa-b133-4973-b358-794d4ffd83e9\").text(\"BokehJS successfully loaded.\");\n",
       "    } else if (Date.now() < window._bokeh_timeout) {\n",
       "      setTimeout(display_loaded, 100)\n",
       "    }\n",
       "  }\n",
       "\n",
       "  function run_callbacks() {\n",
       "    window._bokeh_onload_callbacks.forEach(function(callback) { callback() });\n",
       "    delete window._bokeh_onload_callbacks\n",
       "    console.info(\"Bokeh: all callbacks have finished\");\n",
       "  }\n",
       "\n",
       "  function load_libs(js_urls, callback) {\n",
       "    window._bokeh_onload_callbacks.push(callback);\n",
       "    if (window._bokeh_is_loading > 0) {\n",
       "      console.log(\"Bokeh: BokehJS is being loaded, scheduling callback at\", now());\n",
       "      return null;\n",
       "    }\n",
       "    if (js_urls == null || js_urls.length === 0) {\n",
       "      run_callbacks();\n",
       "      return null;\n",
       "    }\n",
       "    console.log(\"Bokeh: BokehJS not loaded, scheduling load and callback at\", now());\n",
       "    window._bokeh_is_loading = js_urls.length;\n",
       "    for (var i = 0; i < js_urls.length; i++) {\n",
       "      var url = js_urls[i];\n",
       "      var s = document.createElement('script');\n",
       "      s.src = url;\n",
       "      s.async = false;\n",
       "      s.onreadystatechange = s.onload = function() {\n",
       "        window._bokeh_is_loading--;\n",
       "        if (window._bokeh_is_loading === 0) {\n",
       "          console.log(\"Bokeh: all BokehJS libraries loaded\");\n",
       "          run_callbacks()\n",
       "        }\n",
       "      };\n",
       "      s.onerror = function() {\n",
       "        console.warn(\"failed to load library \" + url);\n",
       "      };\n",
       "      console.log(\"Bokeh: injecting script tag for BokehJS library: \", url);\n",
       "      document.getElementsByTagName(\"head\")[0].appendChild(s);\n",
       "    }\n",
       "  };var element = document.getElementById(\"3f1fcffa-b133-4973-b358-794d4ffd83e9\");\n",
       "  if (element == null) {\n",
       "    console.log(\"Bokeh: ERROR: autoload.js configured with elementid '3f1fcffa-b133-4973-b358-794d4ffd83e9' but no matching script tag was found. \")\n",
       "    return false;\n",
       "  }\n",
       "\n",
       "  var js_urls = ['https://cdn.pydata.org/bokeh/release/bokeh-0.12.2.min.js', 'https://cdn.pydata.org/bokeh/release/bokeh-widgets-0.12.2.min.js', 'https://cdn.pydata.org/bokeh/release/bokeh-compiler-0.12.2.min.js'];\n",
       "\n",
       "  var inline_js = [\n",
       "    function(Bokeh) {\n",
       "      Bokeh.set_log_level(\"info\");\n",
       "    },\n",
       "    \n",
       "    function(Bokeh) {\n",
       "      \n",
       "      Bokeh.$(\"#3f1fcffa-b133-4973-b358-794d4ffd83e9\").text(\"BokehJS is loading...\");\n",
       "    },\n",
       "    function(Bokeh) {\n",
       "      console.log(\"Bokeh: injecting CSS: https://cdn.pydata.org/bokeh/release/bokeh-0.12.2.min.css\");\n",
       "      Bokeh.embed.inject_css(\"https://cdn.pydata.org/bokeh/release/bokeh-0.12.2.min.css\");\n",
       "      console.log(\"Bokeh: injecting CSS: https://cdn.pydata.org/bokeh/release/bokeh-widgets-0.12.2.min.css\");\n",
       "      Bokeh.embed.inject_css(\"https://cdn.pydata.org/bokeh/release/bokeh-widgets-0.12.2.min.css\");\n",
       "    }\n",
       "  ];\n",
       "\n",
       "  function run_inline_js() {\n",
       "    \n",
       "    if ((window.Bokeh !== undefined) || (force === \"1\")) {\n",
       "      for (var i = 0; i < inline_js.length; i++) {\n",
       "        inline_js[i](window.Bokeh);\n",
       "      }if (force === \"1\") {\n",
       "        display_loaded();\n",
       "      }} else if (Date.now() < window._bokeh_timeout) {\n",
       "      setTimeout(run_inline_js, 100);\n",
       "    } else if (!window._bokeh_failed_load) {\n",
       "      console.log(\"Bokeh: BokehJS failed to load within specified timeout.\");\n",
       "      window._bokeh_failed_load = true;\n",
       "    } else if (!force) {\n",
       "      var cell = $(\"#3f1fcffa-b133-4973-b358-794d4ffd83e9\").parents('.cell').data().cell;\n",
       "      cell.output_area.append_execute_result(NB_LOAD_WARNING)\n",
       "    }\n",
       "\n",
       "  }\n",
       "\n",
       "  if (window._bokeh_is_loading === 0) {\n",
       "    console.log(\"Bokeh: BokehJS loaded, going straight to plotting\");\n",
       "    run_inline_js();\n",
       "  } else {\n",
       "    load_libs(js_urls, function() {\n",
       "      console.log(\"Bokeh: BokehJS plotting callback run at\", now());\n",
       "      run_inline_js();\n",
       "    });\n",
       "  }\n",
       "}(this));"
      ]
     },
     "metadata": {},
     "output_type": "display_data"
    }
   ],
   "source": [
    "import numpy as np\n",
    "import pandas\n",
    "from numpy import *\n",
    "import time\n",
    "import sys\n",
    "import pandas as pd\n",
    "import matplotlib.pyplot as plt\n",
    "from sklearn import feature_selection\n",
    "from sklearn.tree import DecisionTreeRegressor\n",
    "from sklearn.learning_curve import learning_curve, validation_curve\n",
    "from sklearn.cross_validation import cross_val_predict\n",
    "from sklearn import metrics, grid_search, cross_validation\n",
    "from IPython.display import set_matplotlib_formats\n",
    "from bokeh.plotting import figure, show, output_notebook\n",
    "from sklearn.grid_search import GridSearchCV, RandomizedSearchCV\n",
    "from sklearn.metrics import r2_score\n",
    "from bokeh.layouts import gridplot\n",
    "output_notebook()\n",
    "set_matplotlib_formats('png', 'pdf')\n",
    "%matplotlib inline\n",
    "plt.rcParams['figure.figsize'] = (6, 6)"
   ]
  },
  {
   "cell_type": "markdown",
   "metadata": {},
   "source": [
    "# Load data"
   ]
  },
  {
   "cell_type": "markdown",
   "metadata": {},
   "source": [
    "In the previous file we have not change the data as there is no missing value or add any new parameters so it can be downloaded from the web directly. "
   ]
  },
  {
   "cell_type": "code",
   "execution_count": 2,
   "metadata": {
    "collapsed": false
   },
   "outputs": [
    {
     "name": "stdout",
     "output_type": "stream",
     "text": [
      "Number of examples 209\n"
     ]
    }
   ],
   "source": [
    "url = 'http://archive.ics.uci.edu/ml/machine-learning-databases/cpu-performance/machine.data'\n",
    "names = ['vendor', 'Model', 'MYCT', 'MMIN', 'MMAX', 'CACH', 'CHMIN','CHMAX','PRP','ERP']\n",
    "feature_names = ['MYCT', 'MMIN', 'MMAX', 'CACH', 'CHMIN','CHMAX','PRP','ERP']\n",
    "feature_cols = ['MYCT', 'MMIN', 'MMAX', 'CACH', 'CHMIN','CHMAX','PRP','ERP']\n",
    "data = pd.read_csv(url, sep=',', names = names)\n",
    "data = data.drop('vendor',1)\n",
    "data = data.drop('Model',1)\n",
    "\n",
    "from sklearn import preprocessing\n",
    "\n",
    "def number_encode_features(df):\n",
    "    result = df.copy()\n",
    "    encoders = {}\n",
    "    for column in result.columns:\n",
    "        if result.dtypes[column] == np.object:\n",
    "            encoders[column] = preprocessing.LabelEncoder()\n",
    "            result[column] = encoders[column].fit_transform(result[column])\n",
    "    return result, encoders\n",
    "\n",
    "data, _ = number_encode_features(data)\n",
    "\n",
    "dataset = data.values\n",
    "X = dataset[:,0:7]\n",
    "Y = dataset[:,7]\n",
    "print 'Number of examples',len(X)"
   ]
  },
  {
   "cell_type": "code",
   "execution_count": 3,
   "metadata": {
    "collapsed": false
   },
   "outputs": [
    {
     "name": "stdout",
     "output_type": "stream",
     "text": [
      "Number of training examples 167\n",
      "Number of validation examples 42\n"
     ]
    }
   ],
   "source": [
    "# Make developement dataset for genrilization and final testing\n",
    "from sklearn.cross_validation import train_test_split\n",
    "# Extracting 20% testing data\n",
    "X_train, X_test, y_train, y_test = train_test_split(\n",
    "    X, Y, test_size=0.20, random_state=0)\n",
    "X = X_train\n",
    "Y = y_train\n",
    "new_data      = X_train\n",
    "new_test_data = X_test\n",
    "print 'Number of training examples',len(X_train)\n",
    "print 'Number of validation examples',len(X_test)"
   ]
  },
  {
   "cell_type": "markdown",
   "metadata": {},
   "source": [
    "Number of training data is very small so we need to use cross validation instead of spareate another validation data."
   ]
  },
  {
   "cell_type": "markdown",
   "metadata": {},
   "source": [
    "From the previous visulization the data has no missing value but has many outlier and some sparisty"
   ]
  },
  {
   "cell_type": "markdown",
   "metadata": {},
   "source": [
    "# Ranking of the feature's importance to the target"
   ]
  },
  {
   "cell_type": "code",
   "execution_count": 4,
   "metadata": {
    "collapsed": false
   },
   "outputs": [
    {
     "name": "stdout",
     "output_type": "stream",
     "text": [
      "MYCT \t0.790172717739\n",
      "MMIN \t0.696943738275\n",
      "MMAX \t0.915780146338\n",
      "CACH \t0.64822709538\n",
      "CHMIN \t0.61750680672\n",
      "CHMAX \t0.533228200731\n",
      "PRP \t0.992114126713\n",
      "ERP \t1.0\n"
     ]
    }
   ],
   "source": [
    "# Using just correlation coefficient even in prevoius file we show them using data frame\n",
    "for col in feature_cols:\n",
    "    lm = DecisionTreeRegressor()\n",
    "    lm.fit(data[[col]], data['ERP'])\n",
    "    print col,'\\t', lm.score(data[[col]], data['ERP'])"
   ]
  },
  {
   "cell_type": "code",
   "execution_count": 5,
   "metadata": {
    "collapsed": false
   },
   "outputs": [
    {
     "name": "stdout",
     "output_type": "stream",
     "text": [
      "Feature Name      Score         Pvalue\n",
      "MYCT \t\t18.7784506906 \t2.28953652773e-05\n",
      "MMIN \t\t422.636024187 \t6.7010130085e-52\n",
      "MMAX \t\t895.035239011 \t4.20559221576e-77\n",
      "CACH \t\t150.332889484 \t2.4462451136e-26\n",
      "CHMIN \t\t123.042583867 \t9.66488661491e-23\n",
      "CHMAX \t\t111.779441433 \t3.62169179267e-21\n",
      "PRP \t\t2932.57297327 \t3.42704839853e-124\n",
      "ERP \t\tinf \t0.0\n"
     ]
    }
   ],
   "source": [
    "# Randing the important features to the target\n",
    "model = feature_selection.SelectKBest(score_func=feature_selection.f_regression,k=4)\n",
    "results = model.fit(data[feature_cols], data['ERP'])\n",
    "k=0\n",
    "print 'Feature Name      Score         Pvalue'\n",
    "for feat in feature_cols:\n",
    "    print feat,'\\t\\t',results.scores_[k],'\\t',results.pvalues_[k]\n",
    "    k=k+1\n"
   ]
  },
  {
   "cell_type": "markdown",
   "metadata": {},
   "source": [
    "# Set the parameters for cross validation"
   ]
  },
  {
   "cell_type": "code",
   "execution_count": 6,
   "metadata": {
    "collapsed": true
   },
   "outputs": [],
   "source": [
    "num_folds = 10\n",
    "num_instances = len(X)\n",
    "seed = 7\n",
    "kfold = cross_validation.KFold(n=num_instances, n_folds=num_folds, random_state=seed)"
   ]
  },
  {
   "cell_type": "markdown",
   "metadata": {},
   "source": [
    " # Set the parameters for bias-variance dilemma"
   ]
  },
  {
   "cell_type": "code",
   "execution_count": 7,
   "metadata": {
    "collapsed": false
   },
   "outputs": [],
   "source": [
    "def plot_learning_curve(estimator, title, X, y, ylim=None, cv=None,\n",
    "                        n_jobs=1, train_sizes=np.linspace(.1, 1.0, 5)):\n",
    "    plt.figure()\n",
    "    plt.title(title)\n",
    "    if ylim is not None:\n",
    "        plt.ylim(*ylim)\n",
    "    plt.xlabel(\"Training examples\")\n",
    "    plt.ylabel(\"Score\")\n",
    "    train_sizes, train_scores, test_scores = learning_curve(\n",
    "        estimator, X, y, cv=cv, n_jobs=n_jobs, train_sizes=train_sizes)\n",
    "    train_scores_mean = np.mean(train_scores, axis=1)\n",
    "    train_scores_std = np.std(train_scores, axis=1)\n",
    "    test_scores_mean = np.mean(test_scores, axis=1)\n",
    "    test_scores_std = np.std(test_scores, axis=1)\n",
    "    plt.grid()\n",
    "\n",
    "    plt.fill_between(train_sizes, train_scores_mean - train_scores_std,\n",
    "                     train_scores_mean + train_scores_std, alpha=0.1,\n",
    "                     color=\"r\")\n",
    "    plt.fill_between(train_sizes, test_scores_mean - test_scores_std,\n",
    "                     test_scores_mean + test_scores_std, alpha=0.1, color=\"g\")\n",
    "    plt.plot(train_sizes, train_scores_mean, 'o-', color=\"r\",\n",
    "             label=\"Training score\")\n",
    "    plt.plot(train_sizes, test_scores_mean, 'o-', color=\"g\",\n",
    "             label=\"Cross-validation score\")\n",
    "\n",
    "    plt.legend(loc=\"best\")\n",
    "    return plt"
   ]
  },
  {
   "cell_type": "markdown",
   "metadata": {},
   "source": [
    "# Preprocessing the data and save both the model and preprocessed data"
   ]
  },
  {
   "cell_type": "code",
   "execution_count": 8,
   "metadata": {
    "collapsed": false
   },
   "outputs": [
    {
     "name": "stderr",
     "output_type": "stream",
     "text": [
      "/home/salm/anaconda2/lib/python2.7/site-packages/sklearn/utils/validation.py:420: DataConversionWarning: Data with input dtype int64 was converted to float64 by StandardScaler.\n",
      "  warnings.warn(msg, DataConversionWarning)\n"
     ]
    }
   ],
   "source": [
    "# According to the nature of the data spasity and there is outliter RobustScaler class is recomandit \n",
    "# but when I tried both of them the result seems is same\n",
    "from sklearn.preprocessing import StandardScaler\n",
    "scaler = preprocessing.StandardScaler().fit(X_train)"
   ]
  },
  {
   "cell_type": "code",
   "execution_count": 9,
   "metadata": {
    "collapsed": false
   },
   "outputs": [
    {
     "name": "stderr",
     "output_type": "stream",
     "text": [
      "/home/salm/anaconda2/lib/python2.7/site-packages/sklearn/utils/validation.py:420: DataConversionWarning: Data with input dtype int64 was converted to float64 by StandardScaler.\n",
      "  warnings.warn(msg, DataConversionWarning)\n",
      "/home/salm/anaconda2/lib/python2.7/site-packages/sklearn/utils/validation.py:420: DataConversionWarning: Data with input dtype int64 was converted to float64 by StandardScaler.\n",
      "  warnings.warn(msg, DataConversionWarning)\n"
     ]
    }
   ],
   "source": [
    "X_train = scaler.transform(X_train)\n",
    "X_test = scaler.transform(X_test) # use same transform for testing data\n",
    "X = X_train"
   ]
  },
  {
   "cell_type": "code",
   "execution_count": 10,
   "metadata": {
    "collapsed": true
   },
   "outputs": [],
   "source": [
    "# save transformed data\n",
    "np.save('./data/X_train', X_train)\n",
    "np.save('./data/y_train', y_train)\n",
    "np.save('./data/X_test', X_test)\n",
    "np.save('./data/y_test', y_test)"
   ]
  },
  {
   "cell_type": "code",
   "execution_count": 11,
   "metadata": {
    "collapsed": false
   },
   "outputs": [
    {
     "data": {
      "text/plain": [
       "['scaler.pkl', 'scaler.pkl_01.npy', 'scaler.pkl_02.npy', 'scaler.pkl_03.npy']"
      ]
     },
     "execution_count": 11,
     "metadata": {},
     "output_type": "execute_result"
    }
   ],
   "source": [
    "# save the model scaler to the desk\n",
    "from sklearn.externals import joblib\n",
    "joblib.dump(scaler, 'scaler.pkl') "
   ]
  },
  {
   "cell_type": "code",
   "execution_count": 12,
   "metadata": {
    "collapsed": false
   },
   "outputs": [
    {
     "name": "stdout",
     "output_type": "stream",
     "text": [
      " =================================================================>>>>> done\n",
      "[[-0.59364305 -0.20866821 -0.31349377  0.98611582 -0.51650809 -0.39068313\n",
      "  -0.09019932]\n",
      " [ 0.43869005 -0.4699337  -0.72397006 -0.63206819 -0.38024134 -0.53321526\n",
      "  -0.54180082]\n",
      " [-0.6318776  -0.04668361 -0.10989753  0.11478597  0.98242613  0.17944539\n",
      "  -0.26252094]\n",
      " [-0.72364055  1.35892472  1.65679241  0.96122068  0.43735914  0.46450965\n",
      "   1.25272091]\n",
      " [-0.55540849  0.31386277  0.01488726 -0.43290708  0.16482565 -0.39068313\n",
      "  -0.19121544]\n",
      " [ 0.43869005 -0.4699337  -0.80606531 -0.63206819 -0.51650809 -0.60448133\n",
      "  -0.54180082]\n",
      " [-0.13482833 -0.20866821  0.34326829 -0.23374597 -0.51650809 -0.4619492\n",
      "  -0.24469457]\n",
      " [ 4.91213348 -0.53054729 -0.88816057 -0.63206819 -0.65277484 -0.67574739\n",
      "  -0.56556931]\n",
      " [-0.28776657 -0.20866821  1.65679241  0.16457625 -0.51650809  1.24843637\n",
      "   0.2009648 ]\n",
      " [-0.63952452  0.31386277  1.00003035  0.16457625  0.43735914  0.17944539\n",
      "   0.63473992]\n",
      " [-0.31453076 -0.4699337  -0.31349377 -0.40801194 -0.2439746  -0.248151\n",
      "  -0.20904182]\n",
      " [-0.70834672  3.44904862  1.65679241  5.74108728  1.52749312  0.17944539\n",
      "   2.39360889]\n",
      " [-0.28776657 -0.4699337   0.34326829 -0.23374597 -0.51650809 -0.56884829\n",
      "   0.18313842]\n",
      " [-0.5974665   1.35892472  0.34326829  0.96122068  0.98242613  0.17944539\n",
      "   0.48024467]\n",
      " [-0.72364055  3.44904862  1.65679241  0.96122068  0.43735914  0.17944539\n",
      "   2.12621327]\n",
      " [-0.28776657 -0.20866821 -0.6418748  -0.63206819 -0.10770785 -0.39068313\n",
      "  -0.39918982]\n",
      " [-0.44835172 -0.4699337  -0.31349377  0.16457625 -0.38024134 -0.39068313\n",
      "  -0.36353707]\n",
      " [-0.6318776  -0.4699337  -0.6418748  -0.43290708 -0.51650809 -0.49758223\n",
      "  -0.46455319]\n",
      " [-0.47893937 -0.66431522 -0.88816057 -0.63206819 -0.2439746  -0.31941706\n",
      "  -0.53585869]\n",
      " [-0.2762962  -0.4699337  -0.80606531 -0.63206819  0.0285589  -0.10561887\n",
      "  -0.45266894]\n",
      " [-0.05835922 -0.4699337  -0.80606531 -0.63206819 -0.51650809 -0.60448133\n",
      "  -0.48832169]\n",
      " [-0.05835922 -0.59743125  0.34326829 -0.63206819 -0.10770785  0.46450965\n",
      "  -0.42890044]\n",
      " [-0.73511091  3.44904862  1.65679241  0.96122068  1.52749312  0.46450965\n",
      "   2.26882427]\n",
      " [-0.40247025 -0.4699337   0.01488726 -0.23374597 -0.51650809 -0.60448133\n",
      "  -0.28034732]\n",
      " [-0.28776657 -0.20866821 -0.6418748  -0.43290708 -0.51650809  0.03691326\n",
      "  -0.50614807]\n",
      " [-0.6318776  -0.20866821  0.34326829 -0.33332653 -0.2439746  -0.10561887\n",
      "  -0.36947919]\n",
      " [-0.6318776  -0.20866821 -0.6418748  -0.63206819 -0.2439746  -0.4619492\n",
      "  -0.47643744]\n",
      " [ 2.23571434 -0.53054729 -0.80606531 -0.63206819 -0.65277484 -0.67574739\n",
      "  -0.51803232]\n",
      " [-0.5018801  -0.4699337  -0.80606531 -0.63206819 -0.51650809 -0.4619492\n",
      "  -0.56556931]\n",
      " [-0.42158753 -0.20866821 -0.47768428 -0.23374597  0.16482565 -0.10561887\n",
      "  -0.44078469]\n",
      " [ 0.32398638 -0.53054729  0.01488726 -0.48269736  0.16482565  0.17944539\n",
      "  -0.33976857]\n",
      " [-0.54776157 -0.20866821 -0.31349377 -0.23374597  0.16482565 -0.39068313\n",
      "  -0.0129517 ]\n",
      " [-0.38335297 -0.20866821 -0.31349377 -0.23374597 -0.51650809 -0.56884829\n",
      "  -0.33976857]\n",
      " [-0.53629121  0.05259728 -0.31349377 -0.43290708 -0.2439746   1.03463817\n",
      "  -0.25657882]\n",
      " [-0.62423069  0.31386277  0.34326829  0.16457625 -0.10770785 -0.248151\n",
      "   0.13560143]\n",
      " [-0.59364305 -0.20866821  0.34326829  0.96122068  0.0285589  -0.39068313\n",
      "  -0.19715757]\n",
      " [-0.21129745 -0.59743125 -0.6418748  -0.58227791 -0.51650809 -0.49758223\n",
      "  -0.45861107]\n",
      " [-0.727464   -0.20866821  0.01488726 -0.43290708 -0.51650809 -0.53321526\n",
      "  -0.34571069]\n",
      " [-0.18453326 -0.59429607 -0.80606531 -0.43290708 -0.10770785 -0.1412519\n",
      "  -0.52397444]\n",
      " [-0.6318776  -0.20866821  0.34326829 -0.03458486  0.16482565 -0.10561887\n",
      "  -0.31600007]\n",
      " [-0.72364055  1.35892472  1.00003035  0.16457625  0.43735914 -0.10561887\n",
      "   0.3911128 ]\n",
      " [-0.2762962  -0.13028856 -0.46126523 -0.63206819  0.16482565  1.6047667\n",
      "  -0.27440519]]\n"
     ]
    },
    {
     "name": "stderr",
     "output_type": "stream",
     "text": [
      "/home/salm/anaconda2/lib/python2.7/site-packages/sklearn/utils/validation.py:420: DataConversionWarning: Data with input dtype int64 was converted to float64 by StandardScaler.\n",
      "  warnings.warn(msg, DataConversionWarning)\n"
     ]
    }
   ],
   "source": [
    "# Test the model if it is work\n",
    "scalerTest = joblib.load('scaler.pkl')\n",
    "new_data_scaled = scalerTest.transform(new_test_data)\n",
    "print \" =================================================================>>>>> done\"\n",
    "print new_data_scaled"
   ]
  },
  {
   "cell_type": "markdown",
   "metadata": {},
   "source": [
    "# 1. DecisionTreeRegressor  with   Regression"
   ]
  },
  {
   "cell_type": "markdown",
   "metadata": {},
   "source": [
    "Decision trees or the Classification and Regression Trees (CART as they are know) use the training data to select the best points to split the data in order to minimize a cost metric. The default cost metric for regression decision trees is the mean squared error, specified in the criterion parameter."
   ]
  },
  {
   "cell_type": "markdown",
   "metadata": {},
   "source": [
    "## Validation curve"
   ]
  },
  {
   "cell_type": "markdown",
   "metadata": {},
   "source": [
    "choosing multiple hyperparameters of an estimator "
   ]
  },
  {
   "cell_type": "code",
   "execution_count": 13,
   "metadata": {
    "collapsed": false
   },
   "outputs": [
    {
     "data": {
      "text/plain": [
       "['presort',\n",
       " 'splitter',\n",
       " 'max_leaf_nodes',\n",
       " 'min_samples_leaf',\n",
       " 'min_samples_split',\n",
       " 'min_weight_fraction_leaf',\n",
       " 'criterion',\n",
       " 'random_state',\n",
       " 'max_features',\n",
       " 'max_depth']"
      ]
     },
     "execution_count": 13,
     "metadata": {},
     "output_type": "execute_result"
    }
   ],
   "source": [
    "from sklearn.tree import DecisionTreeRegressor\n",
    "estimator = DecisionTreeRegressor()\n",
    "estimator.get_params().keys()"
   ]
  },
  {
   "cell_type": "code",
   "execution_count": 14,
   "metadata": {
    "collapsed": false
   },
   "outputs": [
    {
     "data": {
      "image/png": "[encoded data removed]",
      "text/plain": [
       "<matplotlib.figure.Figure at 0x7fb1d235c650>"
      ]
     },
     "metadata": {},
     "output_type": "display_data"
    }
   ],
   "source": [
    "# For parametr alpha\n",
    "#param_range = np.logspace(-10.0, 10.0)\n",
    "#param_range = np.linspace(1,50,100)\n",
    "param_range = np.arange(1,50) # generate integer numbers\n",
    "\n",
    "train_scores, test_scores = validation_curve(\n",
    "    DecisionTreeRegressor(), X, Y, param_name=\"max_depth\", param_range=param_range,\n",
    "    cv=num_folds,  n_jobs=-1)\n",
    "train_scores_mean = np.mean(train_scores, axis=1)\n",
    "train_scores_std = np.std(train_scores, axis=1)\n",
    "test_scores_mean = np.mean(test_scores, axis=1)\n",
    "test_scores_std = np.std(test_scores, axis=1)\n",
    "\n",
    "plt.title(\"Validation Curve with DecisionTreeRegressor\")\n",
    "plt.xlabel(\"max_depth\")\n",
    "plt.ylabel(\"Score\")\n",
    "plt.ylim(0.4, 1.0)\n",
    "plt.plot(param_range, train_scores_mean, label=\"Training score\", color=\"r\")\n",
    "plt.fill_between(param_range, train_scores_mean - train_scores_std,\n",
    "                 train_scores_mean + train_scores_std, alpha=0.2, color=\"r\")\n",
    "plt.plot(param_range, test_scores_mean, label=\"Cross-validation score\",\n",
    "             color=\"g\")\n",
    "plt.fill_between(param_range, test_scores_mean - test_scores_std,\n",
    "                 test_scores_mean + test_scores_std, alpha=0.2, color=\"g\")\n",
    "plt.legend(loc=\"best\")\n",
    "plt.show()"
   ]
  },
  {
   "cell_type": "markdown",
   "metadata": {},
   "source": [
    "more that 5 is the best of number of K"
   ]
  },
  {
   "cell_type": "code",
   "execution_count": 15,
   "metadata": {
    "collapsed": false
   },
   "outputs": [
    {
     "data": {
      "image/png": "[encoded data removed]",
      "text/plain": [
       "<matplotlib.figure.Figure at 0x7fb20c3009d0>"
      ]
     },
     "metadata": {},
     "output_type": "display_data"
    }
   ],
   "source": [
    "# For parametr alpha\n",
    "#param_range = np.logspace(-10.0, 10.0)\n",
    "#param_range = np.linspace(1,50,100)\n",
    "param_range = np.arange(1,10) # generate integer numbers\n",
    "\n",
    "train_scores, test_scores = validation_curve(\n",
    "    DecisionTreeRegressor(), X, Y, param_name=\"min_samples_split\", param_range=param_range,\n",
    "    cv=num_folds,  n_jobs=-1)\n",
    "train_scores_mean = np.mean(train_scores, axis=1)\n",
    "train_scores_std = np.std(train_scores, axis=1)\n",
    "test_scores_mean = np.mean(test_scores, axis=1)\n",
    "test_scores_std = np.std(test_scores, axis=1)\n",
    "\n",
    "plt.title(\"Validation Curve with DecisionTreeRegressor\")\n",
    "plt.xlabel(\"min_samples_split\")\n",
    "plt.ylabel(\"Score\")\n",
    "plt.ylim(0.4, 1.0)\n",
    "plt.plot(param_range, train_scores_mean, label=\"Training score\", color=\"r\")\n",
    "plt.fill_between(param_range, train_scores_mean - train_scores_std,\n",
    "                 train_scores_mean + train_scores_std, alpha=0.2, color=\"r\")\n",
    "plt.plot(param_range, test_scores_mean, label=\"Cross-validation score\",\n",
    "             color=\"g\")\n",
    "plt.fill_between(param_range, test_scores_mean - test_scores_std,\n",
    "                 test_scores_mean + test_scores_std, alpha=0.2, color=\"g\")\n",
    "plt.legend(loc=\"best\")\n",
    "plt.show()"
   ]
  },
  {
   "cell_type": "markdown",
   "metadata": {},
   "source": [
    "min_samples_split =2 (The defualt) is the best"
   ]
  },
  {
   "cell_type": "code",
   "execution_count": 16,
   "metadata": {
    "collapsed": false
   },
   "outputs": [
    {
     "data": {
      "image/png": "[encoded data removed]",
      "text/plain": [
       "<matplotlib.figure.Figure at 0x7fb1ce656390>"
      ]
     },
     "metadata": {},
     "output_type": "display_data"
    }
   ],
   "source": [
    "# For parametr alpha\n",
    "#param_range = np.logspace(-10.0, 10.0)\n",
    "#param_range = np.linspace(1,50,100)\n",
    "param_range = np.arange(1,10) # generate integer numbers\n",
    "\n",
    "train_scores, test_scores = validation_curve(\n",
    "    DecisionTreeRegressor(), X, Y, param_name=\"min_samples_leaf\", param_range=param_range,\n",
    "    cv=num_folds,  n_jobs=-1)\n",
    "train_scores_mean = np.mean(train_scores, axis=1)\n",
    "train_scores_std = np.std(train_scores, axis=1)\n",
    "test_scores_mean = np.mean(test_scores, axis=1)\n",
    "test_scores_std = np.std(test_scores, axis=1)\n",
    "\n",
    "plt.title(\"Validation Curve with DecisionTreeRegressor\")\n",
    "plt.xlabel(\"min_samples_leaf\")\n",
    "plt.ylabel(\"Score\")\n",
    "plt.ylim(0.4, 1.0)\n",
    "plt.plot(param_range, train_scores_mean, label=\"Training score\", color=\"r\")\n",
    "plt.fill_between(param_range, train_scores_mean - train_scores_std,\n",
    "                 train_scores_mean + train_scores_std, alpha=0.2, color=\"r\")\n",
    "plt.plot(param_range, test_scores_mean, label=\"Cross-validation score\",\n",
    "             color=\"g\")\n",
    "plt.fill_between(param_range, test_scores_mean - test_scores_std,\n",
    "                 test_scores_mean + test_scores_std, alpha=0.2, color=\"g\")\n",
    "plt.legend(loc=\"best\")\n",
    "plt.show()"
   ]
  },
  {
   "cell_type": "markdown",
   "metadata": {},
   "source": [
    "min_samples_leaf = 2 is the best"
   ]
  },
  {
   "cell_type": "markdown",
   "metadata": {},
   "source": [
    "## Grid search and/or Random search to determine best compination of parameters"
   ]
  },
  {
   "cell_type": "code",
   "execution_count": 17,
   "metadata": {
    "collapsed": false
   },
   "outputs": [
    {
     "name": "stdout",
     "output_type": "stream",
     "text": [
      "Hyperparameter optimization using GridSearchCV...\n",
      "Parameters with rank: 1\n",
      "Mean validation score: 0.9468 (std: 0.0383)\n",
      "Parameters: {'min_samples_split': 2, 'max_depth': 13, 'min_samples_leaf': 1}\n",
      "\n",
      "Parameters with rank: 2\n",
      "Mean validation score: 0.9362 (std: 0.0452)\n",
      "Parameters: {'min_samples_split': 1, 'max_depth': 9, 'min_samples_leaf': 1}\n",
      "\n",
      "Parameters with rank: 3\n",
      "Mean validation score: 0.9321 (std: 0.0509)\n",
      "Parameters: {'min_samples_split': 1, 'max_depth': 14, 'min_samples_leaf': 2}\n",
      "\n",
      "Parameters with rank: 4\n",
      "Mean validation score: 0.9317 (std: 0.0501)\n",
      "Parameters: {'min_samples_split': 3, 'max_depth': 14, 'min_samples_leaf': 2}\n",
      "\n",
      "Parameters with rank: 5\n",
      "Mean validation score: 0.9316 (std: 0.0504)\n",
      "Parameters: {'min_samples_split': 3, 'max_depth': 12, 'min_samples_leaf': 2}\n",
      "\n",
      "+++++++++++++++++++++++++++++++++++++++++++++++\n",
      "Hyperparameter optimization using RandomizedSearchCV\n",
      "Parameters with rank: 1\n",
      "Mean validation score: 0.9503 (std: 0.0600)\n",
      "Parameters: {'min_samples_split': 2, 'max_depth': 10, 'min_samples_leaf': 1}\n",
      "\n",
      "Parameters with rank: 2\n",
      "Mean validation score: 0.9154 (std: 0.0810)\n",
      "Parameters: {'min_samples_split': 1, 'max_depth': 10, 'min_samples_leaf': 2}\n",
      "\n",
      "Parameters with rank: 3\n",
      "Mean validation score: 0.9120 (std: 0.0793)\n",
      "Parameters: {'min_samples_split': 2, 'max_depth': 10, 'min_samples_leaf': 2}\n",
      "\n",
      "Parameters with rank: 4\n",
      "Mean validation score: 0.2745 (std: 0.4303)\n",
      "Parameters: {'min_samples_split': 1, 'max_depth': 1, 'min_samples_leaf': 1}\n",
      "\n",
      "Parameters with rank: 5\n",
      "Mean validation score: 0.2059 (std: 0.4210)\n",
      "Parameters: {'min_samples_split': 1, 'max_depth': 1, 'min_samples_leaf': 2}\n",
      "\n"
     ]
    }
   ],
   "source": [
    "# Utility function to report optimal parameters\n",
    "from operator import itemgetter\n",
    "def report(grid_scores, n_top=5):\n",
    "    params = None\n",
    "    top_scores = sorted(grid_scores, key=itemgetter(1), reverse=True)[:n_top]\n",
    "    for i, score in enumerate(top_scores):\n",
    "        print(\"Parameters with rank: {0}\".format(i + 1))\n",
    "        print(\"Mean validation score: {0:.4f} (std: {1:.4f})\".format(\n",
    "              score.mean_validation_score, np.std(score.cv_validation_scores)))\n",
    "        print(\"Parameters: {0}\".format(score.parameters))\n",
    "        print(\"\")\n",
    "        \n",
    "        if params == None:\n",
    "            params = score.parameters\n",
    "    \n",
    "    return params\n",
    "\n",
    "# The most common value for the max number of features to look at in each split is sqrt(# of features)\n",
    "sqrtfeat = np.sqrt(X.shape[1]) \n",
    "grid_test1 = { \"max_depth\"      : np.arange(1,15),\n",
    "             \"min_samples_split\"      : np.arange(1,4),\n",
    "             \"min_samples_leaf\"    : np.arange(1,3)}\n",
    "\n",
    "# Large randomized test using max_depth to control tree size (5000 possible combinations)\n",
    "random_test1 = { \"max_depth\"      : [1,10],\n",
    "                \"min_samples_split\"      : [ 1,2],\n",
    "               \"min_samples_leaf\"   : [1,2]}\n",
    "\n",
    "\n",
    "forest =  DecisionTreeRegressor()\n",
    "\n",
    "print \"Hyperparameter optimization using GridSearchCV...\"\n",
    "grid_search = GridSearchCV(forest, grid_test1, n_jobs=-1, cv=num_folds)\n",
    "grid_search.fit(X, Y)\n",
    "best_params_from_grid_search = report(grid_search.grid_scores_)\n",
    "print '+++++++++++++++++++++++++++++++++++++++++++++++'\n",
    "print \"Hyperparameter optimization using RandomizedSearchCV\"\n",
    "grid_search = RandomizedSearchCV(forest, random_test1, n_jobs=-1, cv=num_folds, n_iter=5)\n",
    "grid_search.fit(X, Y)\n",
    "best_params_from_rand_search1 = report(grid_search.grid_scores_)"
   ]
  },
  {
   "cell_type": "markdown",
   "metadata": {},
   "source": [
    "Best 'min_samples_split': 3, 'max_depth': 7, 'min_samples_leaf': 1"
   ]
  },
  {
   "cell_type": "markdown",
   "metadata": {},
   "source": [
    "## Learning Curve "
   ]
  },
  {
   "cell_type": "markdown",
   "metadata": {},
   "source": [
    "In essence, what we’re doing it training the exact same model with increasingly large fractions of our total training data, and plotting the error of the training and test sets at each step."
   ]
  },
  {
   "cell_type": "code",
   "execution_count": 18,
   "metadata": {
    "collapsed": false
   },
   "outputs": [
    {
     "data": {
      "image/png": "[encoded data removed]",
      "text/plain": [
       "<matplotlib.figure.Figure at 0x7fb1ce089910>"
      ]
     },
     "metadata": {},
     "output_type": "display_data"
    }
   ],
   "source": [
    "from sklearn.tree import DecisionTreeRegressor\n",
    "\n",
    "model =  DecisionTreeRegressor(min_samples_split = 3, max_depth = 7, min_samples_leaf =1 )\n",
    "title = \"Learning Curves (  DecisionTreeRegressor Refression)\"\n",
    "cv = cross_validation.ShuffleSplit(X.shape[0], n_iter=100,\n",
    "                                   test_size=0.2, random_state=0)\n",
    "plot_learning_curve(model, title, X, Y, ylim=(0.2, 1.01), cv=cv, n_jobs=-1)\n",
    "plt.show()"
   ]
  },
  {
   "cell_type": "code",
   "execution_count": 19,
   "metadata": {
    "collapsed": false
   },
   "outputs": [
    {
     "name": "stdout",
     "output_type": "stream",
     "text": [
      "train_sizes =  [ 50  80 110]\n",
      " training scores\n",
      " 50 training sizees\n",
      "0.990379745896 ± 0.0168653340949\n",
      " 80 training sizees\n",
      "0.991658032599 ± 0.0123962940583\n",
      " 110 training sizees\n",
      "0.993775322508 ± 0.00997100753551\n",
      "\n",
      " validation scores\n",
      " 50 validation scores\n",
      "0.702323551576 ± 0.619865411475\n",
      " 80 validation scores\n",
      "0.838429770478 ± 0.155286225611\n",
      " 110 validation scores\n",
      "0.875926689017 ± 0.0944657785895\n"
     ]
    }
   ],
   "source": [
    "# More data from learning curve to show the process of building the model\n",
    "train_sizes, train_scores, valid_scores = learning_curve(\n",
    "     model, X, Y, train_sizes=[50, 80, 110], cv=cv, n_jobs=4)\n",
    "\n",
    "print 'train_sizes = ', train_sizes\n",
    "\n",
    "print ' training scores'\n",
    "print ' 50 training sizees'\n",
    "print train_scores[0].mean(),'±',train_scores[0].std()\n",
    "print ' 80 training sizees'\n",
    "print train_scores[1].mean(),'±',train_scores[1].std()\n",
    "print ' 110 training sizees'\n",
    "print train_scores[2].mean(),'±',train_scores[2].std()\n",
    "\n",
    "print '\\n validation scores'\n",
    "print ' 50 validation scores'\n",
    "print valid_scores[0].mean(),'±',valid_scores[0].std()\n",
    "print ' 80 validation scores'\n",
    "print valid_scores[1].mean(),'±',valid_scores[1].std()\n",
    "print ' 110 validation scores'\n",
    "print valid_scores[2].mean(),'±',valid_scores[2].std()"
   ]
  },
  {
   "cell_type": "markdown",
   "metadata": {},
   "source": [
    "## Cross validation"
   ]
  },
  {
   "cell_type": "code",
   "execution_count": 20,
   "metadata": {
    "collapsed": false
   },
   "outputs": [
    {
     "name": "stdout",
     "output_type": "stream",
     "text": [
      "Scoring according to mean_squared_error\n",
      "[ -7062.39836184   -882.65774305    -94.58906671   -303.9021791\n",
      "  -5224.30554248   -390.77020569   -282.77252119   -103.32023534\n",
      "  -1082.64430667 -15816.45606233]\n",
      "\n",
      " Mean      Standard deviation\n",
      "-3124.38      4816.73\n"
     ]
    },
    {
     "data": {
      "text/plain": [
       "DecisionTreeRegressor(criterion='mse', max_depth=7, max_features=None,\n",
       "           max_leaf_nodes=None, min_samples_leaf=1, min_samples_split=3,\n",
       "           min_weight_fraction_leaf=0.0, presort=False, random_state=None,\n",
       "           splitter='best')"
      ]
     },
     "execution_count": 20,
     "metadata": {},
     "output_type": "execute_result"
    }
   ],
   "source": [
    "scoring = 'mean_squared_error'\n",
    "results = cross_validation.cross_val_score(model, X, Y, cv=kfold, scoring=scoring)\n",
    "print 'Scoring according to mean_squared_error'\n",
    "print results\n",
    "print '\\n Mean      Standard deviation'\n",
    "print(\"%.2f      %.2f\" % (results.mean(), results.std()))\n",
    "## Fit the model\n",
    "model.fit(X,Y)\n"
   ]
  },
  {
   "cell_type": "markdown",
   "metadata": {},
   "source": [
    "## Coefficients Of Determination {Calculating R^2}\n",
    "\n",
    "R^2, Close to one is better"
   ]
  },
  {
   "cell_type": "code",
   "execution_count": 21,
   "metadata": {
    "collapsed": false
   },
   "outputs": [
    {
     "name": "stdout",
     "output_type": "stream",
     "text": [
      "R-squared =  0.898812953294\n"
     ]
    }
   ],
   "source": [
    "predicted = cross_val_predict(model, X, Y, cv=kfold)\n",
    "r_squared = r2_score(Y, predicted, multioutput='variance_weighted')\n",
    "print 'R-squared = ',r_squared"
   ]
  },
  {
   "cell_type": "markdown",
   "metadata": {},
   "source": [
    "## Residual Plot"
   ]
  },
  {
   "cell_type": "code",
   "execution_count": 22,
   "metadata": {
    "collapsed": false
   },
   "outputs": [
    {
     "data": {
      "image/png": "[encoded data removed]",
      "text/plain": [
       "<matplotlib.figure.Figure at 0x7fb1ce5b7e90>"
      ]
     },
     "metadata": {},
     "output_type": "display_data"
    }
   ],
   "source": [
    "predicted = cross_val_predict(model, X, Y, cv=kfold)\n",
    "fig, ax = plt.subplots()\n",
    "ax.scatter(Y, predicted)\n",
    "ax.plot([Y.min(), Y.max()], [Y.min(), Y.max()], 'k--', lw=4)\n",
    "ax.set_xlabel('Measured')\n",
    "ax.set_ylabel('Predicted')\n",
    "plt.show()"
   ]
  },
  {
   "cell_type": "code",
   "execution_count": 23,
   "metadata": {
    "collapsed": false
   },
   "outputs": [
    {
     "data": {
      "text/html": [
       "\n",
       "\n",
       "    <div class=\"bk-root\">\n",
       "        <div class=\"plotdiv\" id=\"3bbbe318-bacb-4b74-9f17-711e4a2c9cb4\"></div>\n",
       "    </div>\n",
       "<script type=\"text/javascript\">\n",
       "  \n",
       "  (function(global) {\n",
       "    function now() {\n",
       "      return new Date();\n",
       "    }\n",
       "  \n",
       "    var force = \"\";\n",
       "  \n",
       "    if (typeof (window._bokeh_onload_callbacks) === \"undefined\" || force !== \"\") {\n",
       "      window._bokeh_onload_callbacks = [];\n",
       "      window._bokeh_is_loading = undefined;\n",
       "    }\n",
       "  \n",
       "  \n",
       "    \n",
       "    if (typeof (window._bokeh_timeout) === \"undefined\" || force !== \"\") {\n",
       "      window._bokeh_timeout = Date.now() + 0;\n",
       "      window._bokeh_failed_load = false;\n",
       "    }\n",
       "  \n",
       "    var NB_LOAD_WARNING = {'data': {'text/html':\n",
       "       \"<div style='background-color: #fdd'>\\n\"+\n",
       "       \"<p>\\n\"+\n",
       "       \"BokehJS does not appear to have successfully loaded. If loading BokehJS from CDN, this \\n\"+\n",
       "       \"may be due to a slow or bad network connection. Possible fixes:\\n\"+\n",
       "       \"</p>\\n\"+\n",
       "       \"<ul>\\n\"+\n",
       "       \"<li>re-rerun `output_notebook()` to attempt to load from CDN again, or</li>\\n\"+\n",
       "       \"<li>use INLINE resources instead, as so:</li>\\n\"+\n",
       "       \"</ul>\\n\"+\n",
       "       \"<code>\\n\"+\n",
       "       \"from bokeh.resources import INLINE\\n\"+\n",
       "       \"output_notebook(resources=INLINE)\\n\"+\n",
       "       \"</code>\\n\"+\n",
       "       \"</div>\"}};\n",
       "  \n",
       "    function display_loaded() {\n",
       "      if (window.Bokeh !== undefined) {\n",
       "        Bokeh.$(\"#3bbbe318-bacb-4b74-9f17-711e4a2c9cb4\").text(\"BokehJS successfully loaded.\");\n",
       "      } else if (Date.now() < window._bokeh_timeout) {\n",
       "        setTimeout(display_loaded, 100)\n",
       "      }\n",
       "    }\n",
       "  \n",
       "    function run_callbacks() {\n",
       "      window._bokeh_onload_callbacks.forEach(function(callback) { callback() });\n",
       "      delete window._bokeh_onload_callbacks\n",
       "      console.info(\"Bokeh: all callbacks have finished\");\n",
       "    }\n",
       "  \n",
       "    function load_libs(js_urls, callback) {\n",
       "      window._bokeh_onload_callbacks.push(callback);\n",
       "      if (window._bokeh_is_loading > 0) {\n",
       "        console.log(\"Bokeh: BokehJS is being loaded, scheduling callback at\", now());\n",
       "        return null;\n",
       "      }\n",
       "      if (js_urls == null || js_urls.length === 0) {\n",
       "        run_callbacks();\n",
       "        return null;\n",
       "      }\n",
       "      console.log(\"Bokeh: BokehJS not loaded, scheduling load and callback at\", now());\n",
       "      window._bokeh_is_loading = js_urls.length;\n",
       "      for (var i = 0; i < js_urls.length; i++) {\n",
       "        var url = js_urls[i];\n",
       "        var s = document.createElement('script');\n",
       "        s.src = url;\n",
       "        s.async = false;\n",
       "        s.onreadystatechange = s.onload = function() {\n",
       "          window._bokeh_is_loading--;\n",
       "          if (window._bokeh_is_loading === 0) {\n",
       "            console.log(\"Bokeh: all BokehJS libraries loaded\");\n",
       "            run_callbacks()\n",
       "          }\n",
       "        };\n",
       "        s.onerror = function() {\n",
       "          console.warn(\"failed to load library \" + url);\n",
       "        };\n",
       "        console.log(\"Bokeh: injecting script tag for BokehJS library: \", url);\n",
       "        document.getElementsByTagName(\"head\")[0].appendChild(s);\n",
       "      }\n",
       "    };var element = document.getElementById(\"3bbbe318-bacb-4b74-9f17-711e4a2c9cb4\");\n",
       "    if (element == null) {\n",
       "      console.log(\"Bokeh: ERROR: autoload.js configured with elementid '3bbbe318-bacb-4b74-9f17-711e4a2c9cb4' but no matching script tag was found. \")\n",
       "      return false;\n",
       "    }\n",
       "  \n",
       "    var js_urls = [];\n",
       "  \n",
       "    var inline_js = [\n",
       "      function(Bokeh) {\n",
       "        Bokeh.$(function() {\n",
       "            var docs_json = {\"ca365c95-00fa-46d8-910e-59bb81d0cb3d\":{\"roots\":{\"references\":[{\"attributes\":{\"dimension\":1,\"plot\":{\"id\":\"94ef7f6a-55dc-4edb-956a-aac30396a727\",\"subtype\":\"Figure\",\"type\":\"Plot\"},\"ticker\":{\"id\":\"2ea3ac92-cafd-40a5-850d-cd7fb3d4f19a\",\"type\":\"BasicTicker\"}},\"id\":\"8039a209-6af7-4286-a9ba-91efade02103\",\"type\":\"Grid\"},{\"attributes\":{},\"id\":\"877270ab-cb0d-4691-9fb4-c9a3320d8681\",\"type\":\"BasicTicker\"},{\"attributes\":{\"fill_alpha\":{\"value\":0.5},\"fill_color\":{\"value\":\"lightgrey\"},\"level\":\"overlay\",\"line_alpha\":{\"value\":1.0},\"line_color\":{\"value\":\"black\"},\"line_dash\":[4,4],\"line_width\":{\"value\":2},\"plot\":null,\"xs_units\":\"screen\",\"ys_units\":\"screen\"},\"id\":\"43100e9c-5655-4e1d-9cb4-a62459008140\",\"type\":\"PolyAnnotation\"},{\"attributes\":{\"callback\":null},\"id\":\"ce311f15-85b1-4b89-94c8-c16731f4e831\",\"type\":\"DataRange1d\"},{\"attributes\":{\"align\":\"center\",\"plot\":null,\"text\":null},\"id\":\"40e625bc-2400-4292-a9ab-8066ab8864e1\",\"type\":\"Title\"},{\"attributes\":{\"active_drag\":\"auto\",\"active_scroll\":\"auto\",\"active_tap\":\"auto\",\"tools\":[{\"id\":\"aa00767e-c837-438f-a196-d9596a4c3bae\",\"type\":\"BoxZoomTool\"},{\"id\":\"004b8836-c2cb-48ef-8647-104199fa23c0\",\"type\":\"BoxSelectTool\"},{\"id\":\"40e637aa-2acd-4ade-be32-6ec74b00a7d4\",\"type\":\"CrosshairTool\"},{\"id\":\"ddaa0bed-f7ec-46c0-8a63-282e0188d7d5\",\"type\":\"ResizeTool\"},{\"id\":\"9e6a4812-4334-46f8-bdc8-dc104219dbb8\",\"type\":\"ResetTool\"},{\"id\":\"2d205214-2ce9-4d31-8f8f-e5929ecf4964\",\"type\":\"LassoSelectTool\"},{\"id\":\"42c8dbe2-cf9c-4b12-a680-7e0c049b2cdf\",\"type\":\"PanTool\"},{\"id\":\"370f588c-9bd3-4ba6-993e-479314ecc978\",\"type\":\"SaveTool\"},{\"id\":\"2269435c-c254-4adb-a83e-d645a8586979\",\"type\":\"PolySelectTool\"},{\"id\":\"3aff30f0-fd72-47a5-96b7-aa3741c1d39a\",\"type\":\"TapTool\"},{\"id\":\"7e52f8ce-f770-4974-a03b-100d208e16c0\",\"type\":\"WheelZoomTool\"},{\"id\":\"58ab55e0-d80c-4a05-aee5-025c52ebf6ac\",\"type\":\"UndoTool\"}]},\"id\":\"a012a726-2b39-4996-83f8-3e85aed7f968\",\"type\":\"Toolbar\"},{\"attributes\":{},\"id\":\"c7307783-e73f-41b0-b84e-add789242c83\",\"type\":\"BasicTickFormatter\"},{\"attributes\":{\"callback\":null,\"plot\":{\"id\":\"94ef7f6a-55dc-4edb-956a-aac30396a727\",\"subtype\":\"Figure\",\"type\":\"Plot\"}},\"id\":\"3aff30f0-fd72-47a5-96b7-aa3741c1d39a\",\"type\":\"TapTool\"},{\"attributes\":{\"data_source\":{\"id\":\"914d40c8-42bf-42d0-a513-3067901cbbd8\",\"type\":\"ColumnDataSource\"},\"glyph\":{\"id\":\"165e58c5-8e05-4492-98e9-78e2c4885dfb\",\"type\":\"Circle\"},\"hover_glyph\":null,\"nonselection_glyph\":{\"id\":\"e3486f40-0806-4a71-9f50-9923d60176d0\",\"type\":\"Circle\"},\"selection_glyph\":null},\"id\":\"d44c3199-4aed-494b-aa72-302005b6861f\",\"type\":\"GlyphRenderer\"},{\"attributes\":{\"bottom_units\":\"screen\",\"fill_alpha\":{\"value\":0.5},\"fill_color\":{\"value\":\"lightgrey\"},\"left_units\":\"screen\",\"level\":\"overlay\",\"line_alpha\":{\"value\":1.0},\"line_color\":{\"value\":\"black\"},\"line_dash\":[4,4],\"line_width\":{\"value\":2},\"plot\":null,\"render_mode\":\"css\",\"right_units\":\"screen\",\"top_units\":\"screen\"},\"id\":\"75f5a5a0-640a-4c92-b7fc-7d6b73d336cb\",\"type\":\"BoxAnnotation\"},{\"attributes\":{\"bottom_units\":\"screen\",\"fill_alpha\":{\"value\":0.5},\"fill_color\":{\"value\":\"lightgrey\"},\"left_units\":\"screen\",\"level\":\"overlay\",\"line_alpha\":{\"value\":1.0},\"line_color\":{\"value\":\"black\"},\"line_dash\":[4,4],\"line_width\":{\"value\":2},\"plot\":null,\"render_mode\":\"css\",\"right_units\":\"screen\",\"top_units\":\"screen\"},\"id\":\"6de0decb-24f0-4235-a979-7f0de2d90e2b\",\"type\":\"BoxAnnotation\"},{\"attributes\":{\"fill_alpha\":{\"value\":0.1},\"fill_color\":{\"value\":\"#1f77b4\"},\"line_alpha\":{\"value\":0.1},\"line_color\":{\"value\":\"#1f77b4\"},\"line_width\":{\"value\":3},\"x\":{\"field\":\"x\"},\"y\":{\"field\":\"y\"}},\"id\":\"e3486f40-0806-4a71-9f50-9923d60176d0\",\"type\":\"Circle\"},{\"attributes\":{\"plot\":{\"id\":\"94ef7f6a-55dc-4edb-956a-aac30396a727\",\"subtype\":\"Figure\",\"type\":\"Plot\"}},\"id\":\"ddaa0bed-f7ec-46c0-8a63-282e0188d7d5\",\"type\":\"ResizeTool\"},{\"attributes\":{\"data_source\":{\"id\":\"70172c52-e059-4014-b6c2-a15effb557a8\",\"type\":\"ColumnDataSource\"},\"glyph\":{\"id\":\"12023b6e-53b9-45c6-adc3-426d8a69e9b6\",\"type\":\"Line\"},\"hover_glyph\":null,\"nonselection_glyph\":{\"id\":\"0b0c414b-7442-460b-9578-54148135b967\",\"type\":\"Line\"},\"selection_glyph\":null},\"id\":\"92b3c0c8-684c-45a9-a782-4fda6a22e29a\",\"type\":\"GlyphRenderer\"},{\"attributes\":{},\"id\":\"2ea3ac92-cafd-40a5-850d-cd7fb3d4f19a\",\"type\":\"BasicTicker\"},{\"attributes\":{\"callback\":null,\"column_names\":[\"y\",\"x\"],\"data\":{\"x\":[15,1238],\"y\":[15,1238]}},\"id\":\"70172c52-e059-4014-b6c2-a15effb557a8\",\"type\":\"ColumnDataSource\"},{\"attributes\":{\"plot\":{\"id\":\"94ef7f6a-55dc-4edb-956a-aac30396a727\",\"subtype\":\"Figure\",\"type\":\"Plot\"}},\"id\":\"370f588c-9bd3-4ba6-993e-479314ecc978\",\"type\":\"SaveTool\"},{\"attributes\":{\"background_fill_alpha\":{\"value\":0.5},\"background_fill_color\":{\"value\":\"beige\"},\"below\":[{\"id\":\"b85192c7-b610-4ee2-93c0-89ca25c1a2b9\",\"type\":\"LinearAxis\"}],\"left\":[{\"id\":\"200b3718-d2fe-4e32-8b56-6b036b2b6015\",\"type\":\"LinearAxis\"}],\"plot_height\":500,\"plot_width\":500,\"renderers\":[{\"id\":\"b85192c7-b610-4ee2-93c0-89ca25c1a2b9\",\"type\":\"LinearAxis\"},{\"id\":\"987d938a-1e48-4b70-b1d5-7bf48f3895b6\",\"type\":\"Grid\"},{\"id\":\"200b3718-d2fe-4e32-8b56-6b036b2b6015\",\"type\":\"LinearAxis\"},{\"id\":\"8039a209-6af7-4286-a9ba-91efade02103\",\"type\":\"Grid\"},{\"id\":\"6de0decb-24f0-4235-a979-7f0de2d90e2b\",\"type\":\"BoxAnnotation\"},{\"id\":\"75f5a5a0-640a-4c92-b7fc-7d6b73d336cb\",\"type\":\"BoxAnnotation\"},{\"id\":\"43100e9c-5655-4e1d-9cb4-a62459008140\",\"type\":\"PolyAnnotation\"},{\"id\":\"837e5bfa-0788-42bc-9889-025e5721ff07\",\"type\":\"PolyAnnotation\"},{\"id\":\"d44c3199-4aed-494b-aa72-302005b6861f\",\"type\":\"GlyphRenderer\"},{\"id\":\"92b3c0c8-684c-45a9-a782-4fda6a22e29a\",\"type\":\"GlyphRenderer\"}],\"title\":{\"id\":\"40e625bc-2400-4292-a9ab-8066ab8864e1\",\"type\":\"Title\"},\"tool_events\":{\"id\":\"faebc607-c729-4bf7-8743-71f5b65aa8c2\",\"type\":\"ToolEvents\"},\"toolbar\":{\"id\":\"a012a726-2b39-4996-83f8-3e85aed7f968\",\"type\":\"Toolbar\"},\"x_range\":{\"id\":\"9bb0f025-5351-46de-8f53-8656f2ea70b2\",\"type\":\"DataRange1d\"},\"y_range\":{\"id\":\"ce311f15-85b1-4b89-94c8-c16731f4e831\",\"type\":\"DataRange1d\"}},\"id\":\"94ef7f6a-55dc-4edb-956a-aac30396a727\",\"subtype\":\"Figure\",\"type\":\"Plot\"},{\"attributes\":{\"callback\":null,\"overlay\":{\"id\":\"75f5a5a0-640a-4c92-b7fc-7d6b73d336cb\",\"type\":\"BoxAnnotation\"},\"plot\":{\"id\":\"94ef7f6a-55dc-4edb-956a-aac30396a727\",\"subtype\":\"Figure\",\"type\":\"Plot\"},\"renderers\":[{\"id\":\"d44c3199-4aed-494b-aa72-302005b6861f\",\"type\":\"GlyphRenderer\"},{\"id\":\"92b3c0c8-684c-45a9-a782-4fda6a22e29a\",\"type\":\"GlyphRenderer\"}]},\"id\":\"004b8836-c2cb-48ef-8647-104199fa23c0\",\"type\":\"BoxSelectTool\"},{\"attributes\":{\"callback\":null},\"id\":\"9bb0f025-5351-46de-8f53-8656f2ea70b2\",\"type\":\"DataRange1d\"},{\"attributes\":{},\"id\":\"faebc607-c729-4bf7-8743-71f5b65aa8c2\",\"type\":\"ToolEvents\"},{\"attributes\":{\"fill_alpha\":{\"value\":0.5},\"fill_color\":{\"value\":\"lightgrey\"},\"level\":\"overlay\",\"line_alpha\":{\"value\":1.0},\"line_color\":{\"value\":\"black\"},\"line_dash\":[4,4],\"line_width\":{\"value\":2},\"plot\":null,\"xs_units\":\"screen\",\"ys_units\":\"screen\"},\"id\":\"837e5bfa-0788-42bc-9889-025e5721ff07\",\"type\":\"PolyAnnotation\"},{\"attributes\":{\"plot\":{\"id\":\"94ef7f6a-55dc-4edb-956a-aac30396a727\",\"subtype\":\"Figure\",\"type\":\"Plot\"}},\"id\":\"42c8dbe2-cf9c-4b12-a680-7e0c049b2cdf\",\"type\":\"PanTool\"},{\"attributes\":{\"plot\":{\"id\":\"94ef7f6a-55dc-4edb-956a-aac30396a727\",\"subtype\":\"Figure\",\"type\":\"Plot\"}},\"id\":\"7e52f8ce-f770-4974-a03b-100d208e16c0\",\"type\":\"WheelZoomTool\"},{\"attributes\":{\"plot\":{\"id\":\"94ef7f6a-55dc-4edb-956a-aac30396a727\",\"subtype\":\"Figure\",\"type\":\"Plot\"}},\"id\":\"58ab55e0-d80c-4a05-aee5-025c52ebf6ac\",\"type\":\"UndoTool\"},{\"attributes\":{\"callback\":null,\"column_names\":[\"x\",\"y\"],\"data\":{\"x\":[20,53,132,25,88,54,75,17,28,35,80,360,749,41,26,44,82,28,275,18,27,34,28,102,34,42,426,57,124,19,128,30,281,19,19,86,45,29,28,22,220,126,15,22,31,81,35,18,24,37,95,19,253,34,24,182,74,23,78,23,24,24,47,270,113,253,82,20,47,978,34,31,199,171,33,361,113,117,74,33,38,36,28,41,117,267,45,18,21,37,190,47,381,28,25,116,26,20,35,181,29,24,65,18,136,34,157,253,101,25,74,28,46,53,29,44,46,36,41,82,138,28,42,62,266,102,25,44,31,74,142,41,43,119,27,15,73,64,53,76,120,24,20,50,21,80,30,341,24,919,30,56,34,53,175,47,32,23,39,1238,20,227,20,382,26,28,67],\"y\":[20.6,53.25,113.0,22.666666666666668,75.66666666666667,67.0,118.375,18.428571428571427,25.72222222222222,35.0,194.5,341.0,948.5,42.25,25.72222222222222,42.25,75.66666666666667,26.5,266.0,17.375,26.5,37.714285714285715,26.5,102.0,37.714285714285715,37.714285714285715,382.0,52.25,157.0,17.375,134.8,30.615384615384617,266.0,21.6,17.714285714285715,73.28571428571429,35.6,29.90909090909091,25.941176470588236,20.4,253.0,125.27272727272727,17.714285714285715,23.0,29.666666666666668,77.5,43.23529411764706,17.714285714285715,25.941176470588236,43.23529411764706,84.0,18.142857142857142,240.0,34.857142857142854,26.3125,220.0,71.25,20.0,71.25,20.0,26.3125,26.3125,42.04761904761905,267.0,133.66666666666666,240.0,112.25,20.0,40.48,1238.0,40.48,29.666666666666668,124.0,227.0,29.333333333333332,426.0,173.5,110.2,75.33333333333333,29.333333333333332,40.48,40.48,29.333333333333332,40.48,110.2,270.0,42.4,17.555555555555557,21.384615384615383,42.4,128.75,54.75,360.5,26.681818181818183,26.681818181818183,128.75,26.681818181818183,21.384615384615383,26.681818181818183,182.0,31.1,21.384615384615383,54.75,18.285714285714285,129.83333333333334,40.041666666666664,109.875,253.0,109.875,25.88235294117647,75.33333333333333,25.88235294117647,73.66666666666667,199.0,29.90909090909091,40.041666666666664,73.66666666666667,40.041666666666664,40.041666666666664,85.33333333333333,120.42857142857143,25.8125,45.25,37.375,278.0,102.0,25.8125,45.25,29.727272727272727,72.5,120.42857142857143,45.25,51.63636363636363,120.42857142857143,25.8125,17.88888888888889,74.0,78.0,53.0,82.0,112.83333333333333,26.75,21.571428571428573,54.0,21.571428571428573,53.2,26.75,227.0,26.75,863.5,30.615384615384617,49.8,39.84,49.8,181.5,39.84,30.46153846153846,21.333333333333332,39.84,749.0,21.333333333333332,341.0,21.333333333333332,360.5,26.5,26.5,49.8]}},\"id\":\"914d40c8-42bf-42d0-a513-3067901cbbd8\",\"type\":\"ColumnDataSource\"},{\"attributes\":{\"line_alpha\":{\"value\":0.1},\"line_color\":{\"value\":\"#1f77b4\"},\"line_dash\":[4,4],\"line_width\":{\"value\":2},\"x\":{\"field\":\"x\"},\"y\":{\"field\":\"y\"}},\"id\":\"0b0c414b-7442-460b-9578-54148135b967\",\"type\":\"Line\"},{\"attributes\":{\"callback\":null,\"overlay\":{\"id\":\"43100e9c-5655-4e1d-9cb4-a62459008140\",\"type\":\"PolyAnnotation\"},\"plot\":{\"id\":\"94ef7f6a-55dc-4edb-956a-aac30396a727\",\"subtype\":\"Figure\",\"type\":\"Plot\"}},\"id\":\"2d205214-2ce9-4d31-8f8f-e5929ecf4964\",\"type\":\"LassoSelectTool\"},{\"attributes\":{\"axis_label\":\"Measured\",\"axis_label_text_color\":{\"value\":\"#aa6666\"},\"formatter\":{\"id\":\"1028d8b3-d726-4ea8-80f0-06b4e9d20446\",\"type\":\"BasicTickFormatter\"},\"major_tick_line_color\":{\"value\":\"firebrick\"},\"major_tick_line_width\":{\"value\":3},\"minor_tick_line_color\":{\"value\":\"orange\"},\"plot\":{\"id\":\"94ef7f6a-55dc-4edb-956a-aac30396a727\",\"subtype\":\"Figure\",\"type\":\"Plot\"},\"ticker\":{\"id\":\"877270ab-cb0d-4691-9fb4-c9a3320d8681\",\"type\":\"BasicTicker\"}},\"id\":\"b85192c7-b610-4ee2-93c0-89ca25c1a2b9\",\"type\":\"LinearAxis\"},{\"attributes\":{\"overlay\":{\"id\":\"837e5bfa-0788-42bc-9889-025e5721ff07\",\"type\":\"PolyAnnotation\"},\"plot\":{\"id\":\"94ef7f6a-55dc-4edb-956a-aac30396a727\",\"subtype\":\"Figure\",\"type\":\"Plot\"}},\"id\":\"2269435c-c254-4adb-a83e-d645a8586979\",\"type\":\"PolySelectTool\"},{\"attributes\":{\"fill_color\":{\"value\":\"#80B1D3\"},\"line_color\":{\"value\":\"#80B1D3\"},\"line_width\":{\"value\":3},\"x\":{\"field\":\"x\"},\"y\":{\"field\":\"y\"}},\"id\":\"165e58c5-8e05-4492-98e9-78e2c4885dfb\",\"type\":\"Circle\"},{\"attributes\":{\"overlay\":{\"id\":\"6de0decb-24f0-4235-a979-7f0de2d90e2b\",\"type\":\"BoxAnnotation\"},\"plot\":{\"id\":\"94ef7f6a-55dc-4edb-956a-aac30396a727\",\"subtype\":\"Figure\",\"type\":\"Plot\"}},\"id\":\"aa00767e-c837-438f-a196-d9596a4c3bae\",\"type\":\"BoxZoomTool\"},{\"attributes\":{},\"id\":\"1028d8b3-d726-4ea8-80f0-06b4e9d20446\",\"type\":\"BasicTickFormatter\"},{\"attributes\":{\"plot\":{\"id\":\"94ef7f6a-55dc-4edb-956a-aac30396a727\",\"subtype\":\"Figure\",\"type\":\"Plot\"}},\"id\":\"40e637aa-2acd-4ade-be32-6ec74b00a7d4\",\"type\":\"CrosshairTool\"},{\"attributes\":{\"plot\":{\"id\":\"94ef7f6a-55dc-4edb-956a-aac30396a727\",\"subtype\":\"Figure\",\"type\":\"Plot\"},\"ticker\":{\"id\":\"877270ab-cb0d-4691-9fb4-c9a3320d8681\",\"type\":\"BasicTicker\"}},\"id\":\"987d938a-1e48-4b70-b1d5-7bf48f3895b6\",\"type\":\"Grid\"},{\"attributes\":{\"axis_label\":\"Predicted\",\"axis_label_text_color\":{\"value\":\"#aa6666\"},\"formatter\":{\"id\":\"c7307783-e73f-41b0-b84e-add789242c83\",\"type\":\"BasicTickFormatter\"},\"plot\":{\"id\":\"94ef7f6a-55dc-4edb-956a-aac30396a727\",\"subtype\":\"Figure\",\"type\":\"Plot\"},\"ticker\":{\"id\":\"2ea3ac92-cafd-40a5-850d-cd7fb3d4f19a\",\"type\":\"BasicTicker\"}},\"id\":\"200b3718-d2fe-4e32-8b56-6b036b2b6015\",\"type\":\"LinearAxis\"},{\"attributes\":{\"line_dash\":[4,4],\"line_width\":{\"value\":2},\"x\":{\"field\":\"x\"},\"y\":{\"field\":\"y\"}},\"id\":\"12023b6e-53b9-45c6-adc3-426d8a69e9b6\",\"type\":\"Line\"},{\"attributes\":{\"plot\":{\"id\":\"94ef7f6a-55dc-4edb-956a-aac30396a727\",\"subtype\":\"Figure\",\"type\":\"Plot\"}},\"id\":\"9e6a4812-4334-46f8-bdc8-dc104219dbb8\",\"type\":\"ResetTool\"}],\"root_ids\":[\"94ef7f6a-55dc-4edb-956a-aac30396a727\"]},\"title\":\"Bokeh Application\",\"version\":\"0.12.2\"}};\n",
       "            var render_items = [{\"docid\":\"ca365c95-00fa-46d8-910e-59bb81d0cb3d\",\"elementid\":\"3bbbe318-bacb-4b74-9f17-711e4a2c9cb4\",\"modelid\":\"94ef7f6a-55dc-4edb-956a-aac30396a727\"}];\n",
       "            \n",
       "            Bokeh.embed.embed_items(docs_json, render_items);\n",
       "        });\n",
       "      },\n",
       "      function(Bokeh) {\n",
       "      }\n",
       "    ];\n",
       "  \n",
       "    function run_inline_js() {\n",
       "      \n",
       "      if ((window.Bokeh !== undefined) || (force === \"1\")) {\n",
       "        for (var i = 0; i < inline_js.length; i++) {\n",
       "          inline_js[i](window.Bokeh);\n",
       "        }if (force === \"1\") {\n",
       "          display_loaded();\n",
       "        }} else if (Date.now() < window._bokeh_timeout) {\n",
       "        setTimeout(run_inline_js, 100);\n",
       "      } else if (!window._bokeh_failed_load) {\n",
       "        console.log(\"Bokeh: BokehJS failed to load within specified timeout.\");\n",
       "        window._bokeh_failed_load = true;\n",
       "      } else if (!force) {\n",
       "        var cell = $(\"#3bbbe318-bacb-4b74-9f17-711e4a2c9cb4\").parents('.cell').data().cell;\n",
       "        cell.output_area.append_execute_result(NB_LOAD_WARNING)\n",
       "      }\n",
       "  \n",
       "    }\n",
       "  \n",
       "    if (window._bokeh_is_loading === 0) {\n",
       "      console.log(\"Bokeh: BokehJS loaded, going straight to plotting\");\n",
       "      run_inline_js();\n",
       "    } else {\n",
       "      load_libs(js_urls, function() {\n",
       "        console.log(\"Bokeh: BokehJS plotting callback run at\", now());\n",
       "        run_inline_js();\n",
       "      });\n",
       "    }\n",
       "  }(this));\n",
       "</script>"
      ]
     },
     "metadata": {},
     "output_type": "display_data"
    }
   ],
   "source": [
    "# Plotining using bokeh\n",
    "#TOOLS = [BoxSelectTool(), HoverTool()]\n",
    "#TOOLS = 'hover,box_zoom,box_select,crosshair,resize,reset,DecisionTreeRegressor_select,pan,save,poly_select,tap,wheel_zoom,undo'\n",
    "TOOLS = 'box_zoom,box_select,crosshair,resize,reset,lasso_select,pan,save,poly_select,tap,wheel_zoom,undo'\n",
    "p = figure(plot_width=500, plot_height=500, tools=TOOLS)\n",
    "p.scatter(Y, predicted,x=\"jjj\", marker=\"o\", color=\"#80B1D3\", line_width=3)\n",
    "p.title.align = \"center\"\n",
    "p.xaxis.axis_label = \"Measured\"\n",
    "p.xaxis.axis_label_text_color = \"#aa6666\"\n",
    "#p.xaxis.axis_label_standoff = 30\n",
    "p.xaxis.major_tick_line_color = \"firebrick\"\n",
    "p.xaxis.major_tick_line_width = 3\n",
    "p.xaxis.minor_tick_line_color = \"orange\"\n",
    "p.yaxis.axis_label = \"Predicted\"\n",
    "p.yaxis.axis_label_text_font_style = \"italic\"\n",
    "p.yaxis.axis_label_text_color = \"#aa6666\"\n",
    "p.background_fill_color = \"beige\"\n",
    "p.background_fill_alpha = 0.5\n",
    "#p.line([Y.min(), Y.max()], [Y.min(), Y.max()], line_dash=\"4 4\", line_width=2, color='red')\n",
    "\n",
    "# create a new plot with the toolbar below\n",
    "# line_dash=\"4 4\", line_width=2, color='red'\n",
    "p.line([Y.min(), Y.max()], [Y.min(), Y.max()], line_dash=\"4 4\", line_width=2, line_color=\"black\")\n",
    "show(p)"
   ]
  },
  {
   "cell_type": "code",
   "execution_count": 24,
   "metadata": {
    "collapsed": false
   },
   "outputs": [
    {
     "data": {
      "text/plain": [
       "<matplotlib.text.Text at 0x7fb1d2354790>"
      ]
     },
     "execution_count": 24,
     "metadata": {},
     "output_type": "execute_result"
    },
    {
     "data": {
      "image/png": "[encoded data removed]",
      "text/plain": [
       "<matplotlib.figure.Figure at 0x7fb1ce047f10>"
      ]
     },
     "metadata": {},
     "output_type": "display_data"
    }
   ],
   "source": [
    "plt.scatter(predicted, (predicted - Y), c='r', s=30)\n",
    "plt.title(\"Residual plot on the training data\")\n",
    "plt.xlabel(\"Predicted\")\n",
    "plt.ylabel(\"Residuals\")"
   ]
  },
  {
   "cell_type": "code",
   "execution_count": 25,
   "metadata": {
    "collapsed": false
   },
   "outputs": [
    {
     "data": {
      "text/html": [
       "\n",
       "\n",
       "    <div class=\"bk-root\">\n",
       "        <div class=\"plotdiv\" id=\"e37420b6-4cf2-4df7-b131-ab3f0a54c707\"></div>\n",
       "    </div>\n",
       "<script type=\"text/javascript\">\n",
       "  \n",
       "  (function(global) {\n",
       "    function now() {\n",
       "      return new Date();\n",
       "    }\n",
       "  \n",
       "    var force = \"\";\n",
       "  \n",
       "    if (typeof (window._bokeh_onload_callbacks) === \"undefined\" || force !== \"\") {\n",
       "      window._bokeh_onload_callbacks = [];\n",
       "      window._bokeh_is_loading = undefined;\n",
       "    }\n",
       "  \n",
       "  \n",
       "    \n",
       "    if (typeof (window._bokeh_timeout) === \"undefined\" || force !== \"\") {\n",
       "      window._bokeh_timeout = Date.now() + 0;\n",
       "      window._bokeh_failed_load = false;\n",
       "    }\n",
       "  \n",
       "    var NB_LOAD_WARNING = {'data': {'text/html':\n",
       "       \"<div style='background-color: #fdd'>\\n\"+\n",
       "       \"<p>\\n\"+\n",
       "       \"BokehJS does not appear to have successfully loaded. If loading BokehJS from CDN, this \\n\"+\n",
       "       \"may be due to a slow or bad network connection. Possible fixes:\\n\"+\n",
       "       \"</p>\\n\"+\n",
       "       \"<ul>\\n\"+\n",
       "       \"<li>re-rerun `output_notebook()` to attempt to load from CDN again, or</li>\\n\"+\n",
       "       \"<li>use INLINE resources instead, as so:</li>\\n\"+\n",
       "       \"</ul>\\n\"+\n",
       "       \"<code>\\n\"+\n",
       "       \"from bokeh.resources import INLINE\\n\"+\n",
       "       \"output_notebook(resources=INLINE)\\n\"+\n",
       "       \"</code>\\n\"+\n",
       "       \"</div>\"}};\n",
       "  \n",
       "    function display_loaded() {\n",
       "      if (window.Bokeh !== undefined) {\n",
       "        Bokeh.$(\"#e37420b6-4cf2-4df7-b131-ab3f0a54c707\").text(\"BokehJS successfully loaded.\");\n",
       "      } else if (Date.now() < window._bokeh_timeout) {\n",
       "        setTimeout(display_loaded, 100)\n",
       "      }\n",
       "    }\n",
       "  \n",
       "    function run_callbacks() {\n",
       "      window._bokeh_onload_callbacks.forEach(function(callback) { callback() });\n",
       "      delete window._bokeh_onload_callbacks\n",
       "      console.info(\"Bokeh: all callbacks have finished\");\n",
       "    }\n",
       "  \n",
       "    function load_libs(js_urls, callback) {\n",
       "      window._bokeh_onload_callbacks.push(callback);\n",
       "      if (window._bokeh_is_loading > 0) {\n",
       "        console.log(\"Bokeh: BokehJS is being loaded, scheduling callback at\", now());\n",
       "        return null;\n",
       "      }\n",
       "      if (js_urls == null || js_urls.length === 0) {\n",
       "        run_callbacks();\n",
       "        return null;\n",
       "      }\n",
       "      console.log(\"Bokeh: BokehJS not loaded, scheduling load and callback at\", now());\n",
       "      window._bokeh_is_loading = js_urls.length;\n",
       "      for (var i = 0; i < js_urls.length; i++) {\n",
       "        var url = js_urls[i];\n",
       "        var s = document.createElement('script');\n",
       "        s.src = url;\n",
       "        s.async = false;\n",
       "        s.onreadystatechange = s.onload = function() {\n",
       "          window._bokeh_is_loading--;\n",
       "          if (window._bokeh_is_loading === 0) {\n",
       "            console.log(\"Bokeh: all BokehJS libraries loaded\");\n",
       "            run_callbacks()\n",
       "          }\n",
       "        };\n",
       "        s.onerror = function() {\n",
       "          console.warn(\"failed to load library \" + url);\n",
       "        };\n",
       "        console.log(\"Bokeh: injecting script tag for BokehJS library: \", url);\n",
       "        document.getElementsByTagName(\"head\")[0].appendChild(s);\n",
       "      }\n",
       "    };var element = document.getElementById(\"e37420b6-4cf2-4df7-b131-ab3f0a54c707\");\n",
       "    if (element == null) {\n",
       "      console.log(\"Bokeh: ERROR: autoload.js configured with elementid 'e37420b6-4cf2-4df7-b131-ab3f0a54c707' but no matching script tag was found. \")\n",
       "      return false;\n",
       "    }\n",
       "  \n",
       "    var js_urls = [];\n",
       "  \n",
       "    var inline_js = [\n",
       "      function(Bokeh) {\n",
       "        Bokeh.$(function() {\n",
       "            var docs_json = {\"54aa7032-0908-491f-9571-88bf6c785e00\":{\"roots\":{\"references\":[{\"attributes\":{\"callback\":null,\"column_names\":[\"x\",\"y\"],\"data\":{\"x\":[20.6,53.25,113.0,22.666666666666668,75.66666666666667,67.0,118.375,18.428571428571427,25.72222222222222,35.0,194.5,341.0,948.5,42.25,25.72222222222222,42.25,75.66666666666667,26.5,266.0,17.375,26.5,37.714285714285715,26.5,102.0,37.714285714285715,37.714285714285715,382.0,52.25,157.0,17.375,134.8,30.615384615384617,266.0,21.6,17.714285714285715,73.28571428571429,35.6,29.90909090909091,25.941176470588236,20.4,253.0,125.27272727272727,17.714285714285715,23.0,29.666666666666668,77.5,43.23529411764706,17.714285714285715,25.941176470588236,43.23529411764706,84.0,18.142857142857142,240.0,34.857142857142854,26.3125,220.0,71.25,20.0,71.25,20.0,26.3125,26.3125,42.04761904761905,267.0,133.66666666666666,240.0,112.25,20.0,40.48,1238.0,40.48,29.666666666666668,124.0,227.0,29.333333333333332,426.0,173.5,110.2,75.33333333333333,29.333333333333332,40.48,40.48,29.333333333333332,40.48,110.2,270.0,42.4,17.555555555555557,21.384615384615383,42.4,128.75,54.75,360.5,26.681818181818183,26.681818181818183,128.75,26.681818181818183,21.384615384615383,26.681818181818183,182.0,31.1,21.384615384615383,54.75,18.285714285714285,129.83333333333334,40.041666666666664,109.875,253.0,109.875,25.88235294117647,75.33333333333333,25.88235294117647,73.66666666666667,199.0,29.90909090909091,40.041666666666664,73.66666666666667,40.041666666666664,40.041666666666664,85.33333333333333,120.42857142857143,25.8125,45.25,37.375,278.0,102.0,25.8125,45.25,29.727272727272727,72.5,120.42857142857143,45.25,51.63636363636363,120.42857142857143,25.8125,17.88888888888889,74.0,78.0,53.0,82.0,112.83333333333333,26.75,21.571428571428573,54.0,21.571428571428573,53.2,26.75,227.0,26.75,863.5,30.615384615384617,49.8,39.84,49.8,181.5,39.84,30.46153846153846,21.333333333333332,39.84,749.0,21.333333333333332,341.0,21.333333333333332,360.5,26.5,26.5,49.8],\"y\":[0.6000000000000014,0.25,-19.0,-2.333333333333332,-12.333333333333329,13.0,43.375,1.428571428571427,-2.2777777777777786,0.0,114.5,-19.0,199.5,1.25,-0.27777777777777857,-1.75,-6.333333333333329,-1.5,-9.0,-0.625,-0.5,3.7142857142857153,-1.5,0.0,3.7142857142857153,-4.285714285714285,-44.0,-4.75,33.0,-1.625,6.800000000000011,0.6153846153846168,-15.0,2.6000000000000014,-1.2857142857142847,-12.714285714285708,-9.399999999999999,0.9090909090909101,-2.0588235294117645,-1.6000000000000014,33.0,-0.7272727272727337,2.7142857142857153,1.0,-1.3333333333333321,-3.5,8.235294117647058,-0.2857142857142847,1.9411764705882355,6.235294117647058,-11.0,-0.8571428571428577,-13.0,0.8571428571428541,2.3125,38.0,-2.75,-3.0,-6.75,-3.0,2.3125,2.3125,-4.952380952380949,-3.0,20.666666666666657,-13.0,30.25,0.0,-6.520000000000003,260.0,6.479999999999997,-1.3333333333333321,-75.0,56.0,-3.666666666666668,65.0,60.5,-6.799999999999997,1.3333333333333286,-3.666666666666668,2.479999999999997,4.479999999999997,1.3333333333333321,-0.5200000000000031,-6.799999999999997,3.0,-2.6000000000000014,-0.44444444444444287,0.38461538461538325,5.399999999999999,-61.25,7.75,-20.5,-1.3181818181818166,1.6818181818181834,12.75,0.6818181818181834,1.3846153846153832,-8.318181818181817,1.0,2.1000000000000014,-2.6153846153846168,-10.25,0.2857142857142847,-6.166666666666657,6.041666666666664,-47.125,0.0,8.875,0.882352941176471,1.3333333333333286,-2.117647058823529,27.66666666666667,146.0,0.9090909090909101,-3.9583333333333357,27.66666666666667,4.041666666666664,-0.9583333333333357,3.3333333333333286,-17.57142857142857,-2.1875,3.25,-24.625,12.0,0.0,0.8125,1.25,-1.2727272727272734,-1.5,-21.57142857142857,4.25,8.636363636363633,1.4285714285714306,-1.1875,2.8888888888888893,1.0,14.0,0.0,6.0,-7.166666666666671,2.75,1.571428571428573,4.0,0.571428571428573,-26.799999999999997,-3.25,-114.0,2.75,-55.5,0.6153846153846168,-6.200000000000003,5.840000000000003,-3.200000000000003,6.5,-7.159999999999997,-1.53846153846154,-1.6666666666666679,0.8400000000000034,-489.0,1.3333333333333321,114.0,1.3333333333333321,-21.5,0.5,-1.5,-17.200000000000003]}},\"id\":\"4d9a1f0b-9fa5-462c-a09a-3eed278eccd2\",\"type\":\"ColumnDataSource\"},{\"attributes\":{\"active_drag\":\"auto\",\"active_scroll\":\"auto\",\"active_tap\":\"auto\",\"tools\":[{\"id\":\"d9b52e40-6766-49e8-bd2e-172660e34b75\",\"type\":\"BoxZoomTool\"},{\"id\":\"b41f12d0-47fe-466c-8837-449c61271aa9\",\"type\":\"BoxSelectTool\"},{\"id\":\"0c982e93-5564-4080-bd4b-f459b204e6f2\",\"type\":\"CrosshairTool\"},{\"id\":\"44157bd7-819a-4187-8372-5e049a83399e\",\"type\":\"ResizeTool\"},{\"id\":\"d2df7f84-50e4-425f-9cf1-5cdfdb72e462\",\"type\":\"ResetTool\"},{\"id\":\"b03961b6-3746-4a07-98b7-58c681baee96\",\"type\":\"LassoSelectTool\"},{\"id\":\"9f45fc6e-1178-4325-bc42-8884d2174eff\",\"type\":\"PanTool\"},{\"id\":\"582b48ab-91d6-4811-97cb-1b0ebaf46b5b\",\"type\":\"SaveTool\"},{\"id\":\"cc458b45-749f-45c6-a954-f949f0638d70\",\"type\":\"PolySelectTool\"},{\"id\":\"20e11ad7-7105-474f-8b0e-4e96348dff14\",\"type\":\"TapTool\"},{\"id\":\"8ac02c7a-e345-4fb5-969f-e71c6011ee5b\",\"type\":\"WheelZoomTool\"},{\"id\":\"b477f38e-beb4-444c-9873-c417d98b0825\",\"type\":\"UndoTool\"}]},\"id\":\"7d590e93-ba7d-4222-a677-4485e6c8d146\",\"type\":\"Toolbar\"},{\"attributes\":{\"plot\":{\"id\":\"d37870aa-b104-4f8b-8b18-c33a8834c572\",\"subtype\":\"Figure\",\"type\":\"Plot\"},\"ticker\":{\"id\":\"380bf516-96dc-42c4-9c8f-0ff0b4f75706\",\"type\":\"BasicTicker\"}},\"id\":\"f2954b5a-b8ed-459f-b4e8-35650b53a636\",\"type\":\"Grid\"},{\"attributes\":{},\"id\":\"60c64544-8765-4ac5-8a9b-ee510c954fd8\",\"type\":\"BasicTicker\"},{\"attributes\":{},\"id\":\"380bf516-96dc-42c4-9c8f-0ff0b4f75706\",\"type\":\"BasicTicker\"},{\"attributes\":{\"fill_alpha\":{\"value\":0.5},\"fill_color\":{\"value\":\"lightgrey\"},\"level\":\"overlay\",\"line_alpha\":{\"value\":1.0},\"line_color\":{\"value\":\"black\"},\"line_dash\":[4,4],\"line_width\":{\"value\":2},\"plot\":null,\"xs_units\":\"screen\",\"ys_units\":\"screen\"},\"id\":\"c5676e78-f193-48ca-91c4-d7120ebe0605\",\"type\":\"PolyAnnotation\"},{\"attributes\":{\"plot\":{\"id\":\"d37870aa-b104-4f8b-8b18-c33a8834c572\",\"subtype\":\"Figure\",\"type\":\"Plot\"}},\"id\":\"d2df7f84-50e4-425f-9cf1-5cdfdb72e462\",\"type\":\"ResetTool\"},{\"attributes\":{\"plot\":{\"id\":\"d37870aa-b104-4f8b-8b18-c33a8834c572\",\"subtype\":\"Figure\",\"type\":\"Plot\"}},\"id\":\"9f45fc6e-1178-4325-bc42-8884d2174eff\",\"type\":\"PanTool\"},{\"attributes\":{\"bottom_units\":\"screen\",\"fill_alpha\":{\"value\":0.5},\"fill_color\":{\"value\":\"lightgrey\"},\"left_units\":\"screen\",\"level\":\"overlay\",\"line_alpha\":{\"value\":1.0},\"line_color\":{\"value\":\"black\"},\"line_dash\":[4,4],\"line_width\":{\"value\":2},\"plot\":null,\"render_mode\":\"css\",\"right_units\":\"screen\",\"top_units\":\"screen\"},\"id\":\"bca54784-451c-4742-9ab8-7f70deea61da\",\"type\":\"BoxAnnotation\"},{\"attributes\":{\"dimension\":1,\"plot\":{\"id\":\"d37870aa-b104-4f8b-8b18-c33a8834c572\",\"subtype\":\"Figure\",\"type\":\"Plot\"},\"ticker\":{\"id\":\"60c64544-8765-4ac5-8a9b-ee510c954fd8\",\"type\":\"BasicTicker\"}},\"id\":\"30d5286c-5b30-412c-9ba8-70fac6ea47f9\",\"type\":\"Grid\"},{\"attributes\":{\"background_fill_alpha\":{\"value\":0.5},\"background_fill_color\":{\"value\":\"beige\"},\"below\":[{\"id\":\"67368a13-1641-447f-b877-221267114a40\",\"type\":\"LinearAxis\"}],\"left\":[{\"id\":\"1d91d2f8-b26e-4b26-83c0-992860fc77e0\",\"type\":\"LinearAxis\"}],\"plot_height\":500,\"plot_width\":500,\"renderers\":[{\"id\":\"67368a13-1641-447f-b877-221267114a40\",\"type\":\"LinearAxis\"},{\"id\":\"f2954b5a-b8ed-459f-b4e8-35650b53a636\",\"type\":\"Grid\"},{\"id\":\"1d91d2f8-b26e-4b26-83c0-992860fc77e0\",\"type\":\"LinearAxis\"},{\"id\":\"30d5286c-5b30-412c-9ba8-70fac6ea47f9\",\"type\":\"Grid\"},{\"id\":\"46409542-25e5-41fc-9e02-753a1a784246\",\"type\":\"BoxAnnotation\"},{\"id\":\"bca54784-451c-4742-9ab8-7f70deea61da\",\"type\":\"BoxAnnotation\"},{\"id\":\"3ba2f179-3cdf-4549-8674-af8f6397a13c\",\"type\":\"PolyAnnotation\"},{\"id\":\"c5676e78-f193-48ca-91c4-d7120ebe0605\",\"type\":\"PolyAnnotation\"},{\"id\":\"8b893e3f-929a-4c75-9fad-db4413648f69\",\"type\":\"GlyphRenderer\"}],\"title\":{\"id\":\"c8d0c87d-de52-4b6d-b305-fbc71fa73710\",\"type\":\"Title\"},\"tool_events\":{\"id\":\"c702ee56-1744-451c-921e-e8958913c5e9\",\"type\":\"ToolEvents\"},\"toolbar\":{\"id\":\"7d590e93-ba7d-4222-a677-4485e6c8d146\",\"type\":\"Toolbar\"},\"x_range\":{\"id\":\"ab7a548c-324f-40a6-9ace-1bff5dbfd01a\",\"type\":\"DataRange1d\"},\"y_range\":{\"id\":\"13697e4e-5157-44ba-ba4d-416fed3fa82d\",\"type\":\"DataRange1d\"}},\"id\":\"d37870aa-b104-4f8b-8b18-c33a8834c572\",\"subtype\":\"Figure\",\"type\":\"Plot\"},{\"attributes\":{\"align\":\"center\",\"plot\":null,\"text\":\"Residual plot on the training data\"},\"id\":\"c8d0c87d-de52-4b6d-b305-fbc71fa73710\",\"type\":\"Title\"},{\"attributes\":{\"data_source\":{\"id\":\"4d9a1f0b-9fa5-462c-a09a-3eed278eccd2\",\"type\":\"ColumnDataSource\"},\"glyph\":{\"id\":\"914e3290-c82d-4a3b-ac4a-5143ff26b1d9\",\"type\":\"Circle\"},\"hover_glyph\":null,\"nonselection_glyph\":{\"id\":\"a6df273c-4578-4bda-828c-082a16e8688c\",\"type\":\"Circle\"},\"selection_glyph\":null},\"id\":\"8b893e3f-929a-4c75-9fad-db4413648f69\",\"type\":\"GlyphRenderer\"},{\"attributes\":{\"plot\":{\"id\":\"d37870aa-b104-4f8b-8b18-c33a8834c572\",\"subtype\":\"Figure\",\"type\":\"Plot\"}},\"id\":\"8ac02c7a-e345-4fb5-969f-e71c6011ee5b\",\"type\":\"WheelZoomTool\"},{\"attributes\":{\"callback\":null,\"overlay\":{\"id\":\"3ba2f179-3cdf-4549-8674-af8f6397a13c\",\"type\":\"PolyAnnotation\"},\"plot\":{\"id\":\"d37870aa-b104-4f8b-8b18-c33a8834c572\",\"subtype\":\"Figure\",\"type\":\"Plot\"}},\"id\":\"b03961b6-3746-4a07-98b7-58c681baee96\",\"type\":\"LassoSelectTool\"},{\"attributes\":{},\"id\":\"0170043c-d121-431e-ba22-b41a2d53acb2\",\"type\":\"BasicTickFormatter\"},{\"attributes\":{\"plot\":{\"id\":\"d37870aa-b104-4f8b-8b18-c33a8834c572\",\"subtype\":\"Figure\",\"type\":\"Plot\"}},\"id\":\"0c982e93-5564-4080-bd4b-f459b204e6f2\",\"type\":\"CrosshairTool\"},{\"attributes\":{\"plot\":{\"id\":\"d37870aa-b104-4f8b-8b18-c33a8834c572\",\"subtype\":\"Figure\",\"type\":\"Plot\"}},\"id\":\"b477f38e-beb4-444c-9873-c417d98b0825\",\"type\":\"UndoTool\"},{\"attributes\":{\"bottom_units\":\"screen\",\"fill_alpha\":{\"value\":0.5},\"fill_color\":{\"value\":\"lightgrey\"},\"left_units\":\"screen\",\"level\":\"overlay\",\"line_alpha\":{\"value\":1.0},\"line_color\":{\"value\":\"black\"},\"line_dash\":[4,4],\"line_width\":{\"value\":2},\"plot\":null,\"render_mode\":\"css\",\"right_units\":\"screen\",\"top_units\":\"screen\"},\"id\":\"46409542-25e5-41fc-9e02-753a1a784246\",\"type\":\"BoxAnnotation\"},{\"attributes\":{\"axis_label\":\"Residuals\",\"axis_label_text_color\":{\"value\":\"#aa6666\"},\"formatter\":{\"id\":\"0170043c-d121-431e-ba22-b41a2d53acb2\",\"type\":\"BasicTickFormatter\"},\"plot\":{\"id\":\"d37870aa-b104-4f8b-8b18-c33a8834c572\",\"subtype\":\"Figure\",\"type\":\"Plot\"},\"ticker\":{\"id\":\"60c64544-8765-4ac5-8a9b-ee510c954fd8\",\"type\":\"BasicTicker\"}},\"id\":\"1d91d2f8-b26e-4b26-83c0-992860fc77e0\",\"type\":\"LinearAxis\"},{\"attributes\":{\"plot\":{\"id\":\"d37870aa-b104-4f8b-8b18-c33a8834c572\",\"subtype\":\"Figure\",\"type\":\"Plot\"}},\"id\":\"582b48ab-91d6-4811-97cb-1b0ebaf46b5b\",\"type\":\"SaveTool\"},{\"attributes\":{},\"id\":\"95725b2e-db5c-4aa6-9bdb-0586ebfaee56\",\"type\":\"BasicTickFormatter\"},{\"attributes\":{\"callback\":null,\"plot\":{\"id\":\"d37870aa-b104-4f8b-8b18-c33a8834c572\",\"subtype\":\"Figure\",\"type\":\"Plot\"}},\"id\":\"20e11ad7-7105-474f-8b0e-4e96348dff14\",\"type\":\"TapTool\"},{\"attributes\":{\"overlay\":{\"id\":\"c5676e78-f193-48ca-91c4-d7120ebe0605\",\"type\":\"PolyAnnotation\"},\"plot\":{\"id\":\"d37870aa-b104-4f8b-8b18-c33a8834c572\",\"subtype\":\"Figure\",\"type\":\"Plot\"}},\"id\":\"cc458b45-749f-45c6-a954-f949f0638d70\",\"type\":\"PolySelectTool\"},{\"attributes\":{\"axis_label\":\"Predicted\",\"axis_label_text_color\":{\"value\":\"#aa6666\"},\"formatter\":{\"id\":\"95725b2e-db5c-4aa6-9bdb-0586ebfaee56\",\"type\":\"BasicTickFormatter\"},\"major_tick_line_color\":{\"value\":\"firebrick\"},\"major_tick_line_width\":{\"value\":3},\"minor_tick_line_color\":{\"value\":\"orange\"},\"plot\":{\"id\":\"d37870aa-b104-4f8b-8b18-c33a8834c572\",\"subtype\":\"Figure\",\"type\":\"Plot\"},\"ticker\":{\"id\":\"380bf516-96dc-42c4-9c8f-0ff0b4f75706\",\"type\":\"BasicTicker\"}},\"id\":\"67368a13-1641-447f-b877-221267114a40\",\"type\":\"LinearAxis\"},{\"attributes\":{\"fill_alpha\":{\"value\":0.1},\"fill_color\":{\"value\":\"#1f77b4\"},\"line_alpha\":{\"value\":0.1},\"line_color\":{\"value\":\"#1f77b4\"},\"line_width\":{\"value\":3},\"x\":{\"field\":\"x\"},\"y\":{\"field\":\"y\"}},\"id\":\"a6df273c-4578-4bda-828c-082a16e8688c\",\"type\":\"Circle\"},{\"attributes\":{\"plot\":{\"id\":\"d37870aa-b104-4f8b-8b18-c33a8834c572\",\"subtype\":\"Figure\",\"type\":\"Plot\"}},\"id\":\"44157bd7-819a-4187-8372-5e049a83399e\",\"type\":\"ResizeTool\"},{\"attributes\":{\"fill_color\":{\"value\":\"#80B1D3\"},\"line_color\":{\"value\":\"#80B1D3\"},\"line_width\":{\"value\":3},\"x\":{\"field\":\"x\"},\"y\":{\"field\":\"y\"}},\"id\":\"914e3290-c82d-4a3b-ac4a-5143ff26b1d9\",\"type\":\"Circle\"},{\"attributes\":{\"callback\":null,\"overlay\":{\"id\":\"bca54784-451c-4742-9ab8-7f70deea61da\",\"type\":\"BoxAnnotation\"},\"plot\":{\"id\":\"d37870aa-b104-4f8b-8b18-c33a8834c572\",\"subtype\":\"Figure\",\"type\":\"Plot\"},\"renderers\":[{\"id\":\"8b893e3f-929a-4c75-9fad-db4413648f69\",\"type\":\"GlyphRenderer\"}]},\"id\":\"b41f12d0-47fe-466c-8837-449c61271aa9\",\"type\":\"BoxSelectTool\"},{\"attributes\":{\"fill_alpha\":{\"value\":0.5},\"fill_color\":{\"value\":\"lightgrey\"},\"level\":\"overlay\",\"line_alpha\":{\"value\":1.0},\"line_color\":{\"value\":\"black\"},\"line_dash\":[4,4],\"line_width\":{\"value\":2},\"plot\":null,\"xs_units\":\"screen\",\"ys_units\":\"screen\"},\"id\":\"3ba2f179-3cdf-4549-8674-af8f6397a13c\",\"type\":\"PolyAnnotation\"},{\"attributes\":{\"callback\":null},\"id\":\"ab7a548c-324f-40a6-9ace-1bff5dbfd01a\",\"type\":\"DataRange1d\"},{\"attributes\":{},\"id\":\"c702ee56-1744-451c-921e-e8958913c5e9\",\"type\":\"ToolEvents\"},{\"attributes\":{\"callback\":null},\"id\":\"13697e4e-5157-44ba-ba4d-416fed3fa82d\",\"type\":\"DataRange1d\"},{\"attributes\":{\"overlay\":{\"id\":\"46409542-25e5-41fc-9e02-753a1a784246\",\"type\":\"BoxAnnotation\"},\"plot\":{\"id\":\"d37870aa-b104-4f8b-8b18-c33a8834c572\",\"subtype\":\"Figure\",\"type\":\"Plot\"}},\"id\":\"d9b52e40-6766-49e8-bd2e-172660e34b75\",\"type\":\"BoxZoomTool\"}],\"root_ids\":[\"d37870aa-b104-4f8b-8b18-c33a8834c572\"]},\"title\":\"Bokeh Application\",\"version\":\"0.12.2\"}};\n",
       "            var render_items = [{\"docid\":\"54aa7032-0908-491f-9571-88bf6c785e00\",\"elementid\":\"e37420b6-4cf2-4df7-b131-ab3f0a54c707\",\"modelid\":\"d37870aa-b104-4f8b-8b18-c33a8834c572\"}];\n",
       "            \n",
       "            Bokeh.embed.embed_items(docs_json, render_items);\n",
       "        });\n",
       "      },\n",
       "      function(Bokeh) {\n",
       "      }\n",
       "    ];\n",
       "  \n",
       "    function run_inline_js() {\n",
       "      \n",
       "      if ((window.Bokeh !== undefined) || (force === \"1\")) {\n",
       "        for (var i = 0; i < inline_js.length; i++) {\n",
       "          inline_js[i](window.Bokeh);\n",
       "        }if (force === \"1\") {\n",
       "          display_loaded();\n",
       "        }} else if (Date.now() < window._bokeh_timeout) {\n",
       "        setTimeout(run_inline_js, 100);\n",
       "      } else if (!window._bokeh_failed_load) {\n",
       "        console.log(\"Bokeh: BokehJS failed to load within specified timeout.\");\n",
       "        window._bokeh_failed_load = true;\n",
       "      } else if (!force) {\n",
       "        var cell = $(\"#e37420b6-4cf2-4df7-b131-ab3f0a54c707\").parents('.cell').data().cell;\n",
       "        cell.output_area.append_execute_result(NB_LOAD_WARNING)\n",
       "      }\n",
       "  \n",
       "    }\n",
       "  \n",
       "    if (window._bokeh_is_loading === 0) {\n",
       "      console.log(\"Bokeh: BokehJS loaded, going straight to plotting\");\n",
       "      run_inline_js();\n",
       "    } else {\n",
       "      load_libs(js_urls, function() {\n",
       "        console.log(\"Bokeh: BokehJS plotting callback run at\", now());\n",
       "        run_inline_js();\n",
       "      });\n",
       "    }\n",
       "  }(this));\n",
       "</script>"
      ]
     },
     "metadata": {},
     "output_type": "display_data"
    }
   ],
   "source": [
    "# Plotining using bokeh\n",
    "#TOOLS = 'hover,box_zoom,box_select,crosshair,resize,reset,DecisionTreeRegressor_select,pan,save,poly_select,tap,wheel_zoom,undo'\n",
    "TOOLS = 'box_zoom,box_select,crosshair,resize,reset,lasso_select,pan,save,poly_select,tap,wheel_zoom,undo'\n",
    "p = figure(plot_width=500, plot_height=500, title=\"Residual plot on the training data\", tools=TOOLS)\n",
    "p.scatter(predicted, (predicted - Y),x=\"jjj\", marker=\"o\", color=\"#80B1D3\", line_width=3)\n",
    "p.title.align = \"center\"\n",
    "p.xaxis.axis_label = \"Predicted\"\n",
    "p.xaxis.axis_label_text_color = \"#aa6666\"\n",
    "#p.xaxis.axis_label_standoff = 30\n",
    "p.xaxis.major_tick_line_color = \"firebrick\"\n",
    "p.xaxis.major_tick_line_width = 3\n",
    "p.xaxis.minor_tick_line_color = \"orange\"\n",
    "p.yaxis.axis_label = \"Residuals\"\n",
    "p.yaxis.axis_label_text_font_style = \"italic\"\n",
    "p.yaxis.axis_label_text_color = \"#aa6666\"\n",
    "p.background_fill_color = \"beige\"\n",
    "p.background_fill_alpha = 0.5\n",
    "#p.line([2,38], [0, 0], line_dash=\"4 4\", line_width=2, color='red')\n",
    "show(p)"
   ]
  },
  {
   "cell_type": "markdown",
   "metadata": {},
   "source": [
    "## Pipeline"
   ]
  },
  {
   "cell_type": "markdown",
   "metadata": {},
   "source": [
    "The best to deliver the model by pipeline the operation then at deployment can be done in one model."
   ]
  },
  {
   "cell_type": "markdown",
   "metadata": {
    "collapsed": true
   },
   "source": [
    "  I used two ways to check the pipeline so any one can be fine"
   ]
  },
  {
   "cell_type": "code",
   "execution_count": 26,
   "metadata": {
    "collapsed": false
   },
   "outputs": [
    {
     "name": "stdout",
     "output_type": "stream",
     "text": [
      "0.999168793744\n",
      "Scoring according to mean_squared_error\n",
      "[ -3287.81829648   -917.64303717   -273.50083142   -308.01262028\n",
      "  -4754.67848366   -270.06432334   -200.18336678   -226.57023534\n",
      "  -1082.64430667 -15816.45606233]\n",
      "\n",
      " Mean      Standard deviation\n",
      "-2713.76      4607.39\n",
      "[ True  True  True  True  True  True  True]\n",
      "R-squared =  0.999168793744\n"
     ]
    },
    {
     "name": "stderr",
     "output_type": "stream",
     "text": [
      "/home/salm/anaconda2/lib/python2.7/site-packages/sklearn/utils/validation.py:420: DataConversionWarning: Data with input dtype int64 was converted to float64 by StandardScaler.\n",
      "  warnings.warn(msg, DataConversionWarning)\n",
      "/home/salm/anaconda2/lib/python2.7/site-packages/sklearn/utils/validation.py:420: DataConversionWarning: Data with input dtype int64 was converted to float64 by StandardScaler.\n",
      "  warnings.warn(msg, DataConversionWarning)\n",
      "/home/salm/anaconda2/lib/python2.7/site-packages/sklearn/utils/validation.py:420: DataConversionWarning: Data with input dtype int64 was converted to float64 by StandardScaler.\n",
      "  warnings.warn(msg, DataConversionWarning)\n",
      "/home/salm/anaconda2/lib/python2.7/site-packages/sklearn/utils/validation.py:420: DataConversionWarning: Data with input dtype int64 was converted to float64 by StandardScaler.\n",
      "  warnings.warn(msg, DataConversionWarning)\n",
      "/home/salm/anaconda2/lib/python2.7/site-packages/sklearn/utils/validation.py:420: DataConversionWarning: Data with input dtype int64 was converted to float64 by StandardScaler.\n",
      "  warnings.warn(msg, DataConversionWarning)\n",
      "/home/salm/anaconda2/lib/python2.7/site-packages/sklearn/utils/validation.py:420: DataConversionWarning: Data with input dtype int64 was converted to float64 by StandardScaler.\n",
      "  warnings.warn(msg, DataConversionWarning)\n",
      "/home/salm/anaconda2/lib/python2.7/site-packages/sklearn/utils/validation.py:420: DataConversionWarning: Data with input dtype int64 was converted to float64 by StandardScaler.\n",
      "  warnings.warn(msg, DataConversionWarning)\n",
      "/home/salm/anaconda2/lib/python2.7/site-packages/sklearn/utils/validation.py:420: DataConversionWarning: Data with input dtype int64 was converted to float64 by StandardScaler.\n",
      "  warnings.warn(msg, DataConversionWarning)\n",
      "/home/salm/anaconda2/lib/python2.7/site-packages/sklearn/utils/validation.py:420: DataConversionWarning: Data with input dtype int64 was converted to float64 by StandardScaler.\n",
      "  warnings.warn(msg, DataConversionWarning)\n",
      "/home/salm/anaconda2/lib/python2.7/site-packages/sklearn/utils/validation.py:420: DataConversionWarning: Data with input dtype int64 was converted to float64 by StandardScaler.\n",
      "  warnings.warn(msg, DataConversionWarning)\n",
      "/home/salm/anaconda2/lib/python2.7/site-packages/sklearn/utils/validation.py:420: DataConversionWarning: Data with input dtype int64 was converted to float64 by StandardScaler.\n",
      "  warnings.warn(msg, DataConversionWarning)\n",
      "/home/salm/anaconda2/lib/python2.7/site-packages/sklearn/utils/validation.py:420: DataConversionWarning: Data with input dtype int64 was converted to float64 by StandardScaler.\n",
      "  warnings.warn(msg, DataConversionWarning)\n",
      "/home/salm/anaconda2/lib/python2.7/site-packages/sklearn/utils/validation.py:420: DataConversionWarning: Data with input dtype int64 was converted to float64 by StandardScaler.\n",
      "  warnings.warn(msg, DataConversionWarning)\n",
      "/home/salm/anaconda2/lib/python2.7/site-packages/sklearn/utils/validation.py:420: DataConversionWarning: Data with input dtype int64 was converted to float64 by StandardScaler.\n",
      "  warnings.warn(msg, DataConversionWarning)\n",
      "/home/salm/anaconda2/lib/python2.7/site-packages/sklearn/utils/validation.py:420: DataConversionWarning: Data with input dtype int64 was converted to float64 by StandardScaler.\n",
      "  warnings.warn(msg, DataConversionWarning)\n",
      "/home/salm/anaconda2/lib/python2.7/site-packages/sklearn/utils/validation.py:420: DataConversionWarning: Data with input dtype int64 was converted to float64 by StandardScaler.\n",
      "  warnings.warn(msg, DataConversionWarning)\n",
      "/home/salm/anaconda2/lib/python2.7/site-packages/sklearn/utils/validation.py:420: DataConversionWarning: Data with input dtype int64 was converted to float64 by StandardScaler.\n",
      "  warnings.warn(msg, DataConversionWarning)\n",
      "/home/salm/anaconda2/lib/python2.7/site-packages/sklearn/utils/validation.py:420: DataConversionWarning: Data with input dtype int64 was converted to float64 by StandardScaler.\n",
      "  warnings.warn(msg, DataConversionWarning)\n",
      "/home/salm/anaconda2/lib/python2.7/site-packages/sklearn/utils/validation.py:420: DataConversionWarning: Data with input dtype int64 was converted to float64 by StandardScaler.\n",
      "  warnings.warn(msg, DataConversionWarning)\n",
      "/home/salm/anaconda2/lib/python2.7/site-packages/sklearn/utils/validation.py:420: DataConversionWarning: Data with input dtype int64 was converted to float64 by StandardScaler.\n",
      "  warnings.warn(msg, DataConversionWarning)\n",
      "/home/salm/anaconda2/lib/python2.7/site-packages/sklearn/utils/validation.py:420: DataConversionWarning: Data with input dtype int64 was converted to float64 by StandardScaler.\n",
      "  warnings.warn(msg, DataConversionWarning)\n",
      "/home/salm/anaconda2/lib/python2.7/site-packages/sklearn/utils/validation.py:420: DataConversionWarning: Data with input dtype int64 was converted to float64 by StandardScaler.\n",
      "  warnings.warn(msg, DataConversionWarning)\n",
      "/home/salm/anaconda2/lib/python2.7/site-packages/sklearn/utils/validation.py:420: DataConversionWarning: Data with input dtype int64 was converted to float64 by StandardScaler.\n",
      "  warnings.warn(msg, DataConversionWarning)\n",
      "/home/salm/anaconda2/lib/python2.7/site-packages/sklearn/utils/validation.py:420: DataConversionWarning: Data with input dtype int64 was converted to float64 by StandardScaler.\n",
      "  warnings.warn(msg, DataConversionWarning)\n",
      "/home/salm/anaconda2/lib/python2.7/site-packages/sklearn/utils/validation.py:420: DataConversionWarning: Data with input dtype int64 was converted to float64 by StandardScaler.\n",
      "  warnings.warn(msg, DataConversionWarning)\n",
      "/home/salm/anaconda2/lib/python2.7/site-packages/sklearn/utils/validation.py:420: DataConversionWarning: Data with input dtype int64 was converted to float64 by StandardScaler.\n",
      "  warnings.warn(msg, DataConversionWarning)\n",
      "/home/salm/anaconda2/lib/python2.7/site-packages/sklearn/utils/validation.py:420: DataConversionWarning: Data with input dtype int64 was converted to float64 by StandardScaler.\n",
      "  warnings.warn(msg, DataConversionWarning)\n",
      "/home/salm/anaconda2/lib/python2.7/site-packages/sklearn/utils/validation.py:420: DataConversionWarning: Data with input dtype int64 was converted to float64 by StandardScaler.\n",
      "  warnings.warn(msg, DataConversionWarning)\n",
      "/home/salm/anaconda2/lib/python2.7/site-packages/sklearn/utils/validation.py:420: DataConversionWarning: Data with input dtype int64 was converted to float64 by StandardScaler.\n",
      "  warnings.warn(msg, DataConversionWarning)\n",
      "/home/salm/anaconda2/lib/python2.7/site-packages/sklearn/utils/validation.py:420: DataConversionWarning: Data with input dtype int64 was converted to float64 by StandardScaler.\n",
      "  warnings.warn(msg, DataConversionWarning)\n",
      "/home/salm/anaconda2/lib/python2.7/site-packages/sklearn/utils/validation.py:420: DataConversionWarning: Data with input dtype int64 was converted to float64 by StandardScaler.\n",
      "  warnings.warn(msg, DataConversionWarning)\n",
      "/home/salm/anaconda2/lib/python2.7/site-packages/sklearn/utils/validation.py:420: DataConversionWarning: Data with input dtype int64 was converted to float64 by StandardScaler.\n",
      "  warnings.warn(msg, DataConversionWarning)\n",
      "/home/salm/anaconda2/lib/python2.7/site-packages/sklearn/utils/validation.py:420: DataConversionWarning: Data with input dtype int64 was converted to float64 by StandardScaler.\n",
      "  warnings.warn(msg, DataConversionWarning)\n",
      "/home/salm/anaconda2/lib/python2.7/site-packages/sklearn/utils/validation.py:420: DataConversionWarning: Data with input dtype int64 was converted to float64 by StandardScaler.\n",
      "  warnings.warn(msg, DataConversionWarning)\n"
     ]
    }
   ],
   "source": [
    "# Use Pipeline\n",
    "# ANOVA \n",
    "from sklearn.pipeline import Pipeline\n",
    "from sklearn.feature_selection import SelectKBest, f_regression\n",
    "anova_filter = SelectKBest(f_regression, k=7)\n",
    "LR =  DecisionTreeRegressor(min_samples_split = 3, max_depth = 7, min_samples_leaf =1 )\n",
    "\n",
    "anova_LinReg = Pipeline([('scaler_Input',scaler), ('anova', anova_filter), ('LinReg', LR)])\n",
    "# You can set the parameters using the names issued\n",
    "# For instance, fit using a k of 10 in the SelectKBest\n",
    "anova_LinReg.set_params(anova__k=7).fit(new_data, Y)\n",
    "prediction = anova_LinReg.predict(new_data)\n",
    "print anova_LinReg.score(new_data, Y)                        \n",
    "# getting the selected features chosen by anova_filter\n",
    "results = cross_validation.cross_val_score(anova_LinReg, new_data, Y, cv=kfold, scoring=scoring)\n",
    "print 'Scoring according to mean_squared_error'\n",
    "print results\n",
    "print '\\n Mean      Standard deviation'\n",
    "print(\"%.2f      %.2f\" % (results.mean(), results.std()))\n",
    "print anova_LinReg.named_steps['anova'].get_support()\n",
    "r_squared = r2_score(Y, prediction, multioutput='variance_weighted')\n",
    "print 'R-squared = ',r_squared"
   ]
  },
  {
   "cell_type": "code",
   "execution_count": 27,
   "metadata": {
    "collapsed": false
   },
   "outputs": [
    {
     "name": "stdout",
     "output_type": "stream",
     "text": [
      "R-squared =  0.999168793744\n"
     ]
    },
    {
     "name": "stderr",
     "output_type": "stream",
     "text": [
      "/home/salm/anaconda2/lib/python2.7/site-packages/sklearn/utils/validation.py:420: DataConversionWarning: Data with input dtype int64 was converted to float64 by StandardScaler.\n",
      "  warnings.warn(msg, DataConversionWarning)\n",
      "/home/salm/anaconda2/lib/python2.7/site-packages/sklearn/utils/validation.py:420: DataConversionWarning: Data with input dtype int64 was converted to float64 by StandardScaler.\n",
      "  warnings.warn(msg, DataConversionWarning)\n",
      "/home/salm/anaconda2/lib/python2.7/site-packages/sklearn/utils/validation.py:420: DataConversionWarning: Data with input dtype int64 was converted to float64 by StandardScaler.\n",
      "  warnings.warn(msg, DataConversionWarning)\n"
     ]
    }
   ],
   "source": [
    "# Using make_pipeline\n",
    "from sklearn.pipeline import make_pipeline\n",
    "\n",
    "# ANOVA SVM-C\n",
    "# 1) anova filter, take 3 best ranked features\n",
    "anova_filter = SelectKBest(f_regression, k=7)\n",
    "anova_DTRegressor = make_pipeline(scaler, anova_filter, LR)\n",
    "anova_DTRegressor.fit(new_data, Y)\n",
    "prediction = anova_DTRegressor.predict(new_data)\n",
    "r_squared = r2_score(Y, prediction, multioutput='variance_weighted')\n",
    "print 'R-squared = ',r_squared"
   ]
  },
  {
   "cell_type": "markdown",
   "metadata": {},
   "source": [
    "### Save the Pipeline model for developement"
   ]
  },
  {
   "cell_type": "code",
   "execution_count": 28,
   "metadata": {
    "collapsed": false
   },
   "outputs": [
    {
     "data": {
      "text/plain": [
       "['anova_DTRegressor.pkl',\n",
       " 'anova_DTRegressor.pkl_01.npy',\n",
       " 'anova_DTRegressor.pkl_02.npy',\n",
       " 'anova_DTRegressor.pkl_03.npy',\n",
       " 'anova_DTRegressor.pkl_04.npy',\n",
       " 'anova_DTRegressor.pkl_05.npy',\n",
       " 'anova_DTRegressor.pkl_06.npy',\n",
       " 'anova_DTRegressor.pkl_07.npy',\n",
       " 'anova_DTRegressor.pkl_08.npy']"
      ]
     },
     "execution_count": 28,
     "metadata": {},
     "output_type": "execute_result"
    }
   ],
   "source": [
    "# save the model scaler to the desk\n",
    "from sklearn.externals import joblib\n",
    "joblib.dump(anova_DTRegressor, 'anova_DTRegressor.pkl') "
   ]
  },
  {
   "cell_type": "code",
   "execution_count": 29,
   "metadata": {
    "collapsed": false
   },
   "outputs": [
    {
     "name": "stdout",
     "output_type": "stream",
     "text": [
      " =================================================================>>>>> done\n",
      "R-squared =  0.999168793744\n"
     ]
    },
    {
     "name": "stderr",
     "output_type": "stream",
     "text": [
      "/home/salm/anaconda2/lib/python2.7/site-packages/sklearn/utils/validation.py:420: DataConversionWarning: Data with input dtype int64 was converted to float64 by StandardScaler.\n",
      "  warnings.warn(msg, DataConversionWarning)\n"
     ]
    }
   ],
   "source": [
    "# Test the model if it is work\n",
    "anova_DecisionTreeRegressorTest = joblib.load('anova_DTRegressor.pkl')\n",
    "NewPred = anova_DecisionTreeRegressorTest.predict(new_data)\n",
    "print \" =================================================================>>>>> done\"\n",
    "r_squared = r2_score(Y, NewPred, multioutput='variance_weighted')\n",
    "print 'R-squared = ',r_squared"
   ]
  },
  {
   "cell_type": "code",
   "execution_count": 30,
   "metadata": {
    "collapsed": false
   },
   "outputs": [
    {
     "name": "stdout",
     "output_type": "stream",
     "text": [
      "Point of training data before normalization\n",
      "[   50  2000 32000    24     6    26   114]\n",
      "\n",
      "The read target of the data =  182\n",
      "\n",
      "The Predicted target of the data =  [ 181.5]\n"
     ]
    }
   ],
   "source": [
    "# test on single data point, randomly choose point number 55\n",
    "print 'Point of training data before normalization\\n',new_data[55]\n",
    "print '\\nThe read target of the data = ', Y[55]\n",
    "NewPred = anova_DecisionTreeRegressorTest.predict([new_data[55]])\n",
    "print '\\nThe Predicted target of the data = ', NewPred"
   ]
  },
  {
   "cell_type": "markdown",
   "metadata": {},
   "source": [
    "## Conclusion "
   ]
  }
 ],
 "metadata": {
  "kernelspec": {
   "display_name": "Python 2",
   "language": "python",
   "name": "python2"
  },
  "language_info": {
   "codemirror_mode": {
    "name": "ipython",
    "version": 2
   },
   "file_extension": ".py",
   "mimetype": "text/x-python",
   "name": "python",
   "nbconvert_exporter": "python",
   "pygments_lexer": "ipython2",
   "version": "2.7.12"
  }
 },
 "nbformat": 4,
 "nbformat_minor": 0
}
