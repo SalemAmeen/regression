{
 "cells": [
  {
   "cell_type": "markdown",
   "metadata": {},
   "source": [
    "Salem Ameen, PhD student at Salford University\n",
    "\n",
    "### COMPUTER HARDWARE\n",
    "\n",
    "Decision trees Regression"
   ]
  },
  {
   "cell_type": "markdown",
   "metadata": {},
   "source": [
    "# Import the Libraries"
   ]
  },
  {
   "cell_type": "code",
   "execution_count": 5,
   "metadata": {
    "collapsed": false
   },
   "outputs": [
    {
     "data": {
      "text/html": [
       "\n",
       "    <div class=\"bk-root\">\n",
       "        <a href=\"http://bokeh.pydata.org\" target=\"_blank\" class=\"bk-logo bk-logo-small bk-logo-notebook\"></a>\n",
       "        <span id=\"0af989a0-c2b3-4f2f-aa15-bd8b25c77ac4\">Loading BokehJS ...</span>\n",
       "    </div>"
      ]
     },
     "metadata": {},
     "output_type": "display_data"
    },
    {
     "data": {
      "application/javascript": [
       "\n",
       "(function(global) {\n",
       "  function now() {\n",
       "    return new Date();\n",
       "  }\n",
       "\n",
       "  var force = \"1\";\n",
       "\n",
       "  if (typeof (window._bokeh_onload_callbacks) === \"undefined\" || force !== \"\") {\n",
       "    window._bokeh_onload_callbacks = [];\n",
       "    window._bokeh_is_loading = undefined;\n",
       "  }\n",
       "\n",
       "\n",
       "  \n",
       "  if (typeof (window._bokeh_timeout) === \"undefined\" || force !== \"\") {\n",
       "    window._bokeh_timeout = Date.now() + 5000;\n",
       "    window._bokeh_failed_load = false;\n",
       "  }\n",
       "\n",
       "  var NB_LOAD_WARNING = {'data': {'text/html':\n",
       "     \"<div style='background-color: #fdd'>\\n\"+\n",
       "     \"<p>\\n\"+\n",
       "     \"BokehJS does not appear to have successfully loaded. If loading BokehJS from CDN, this \\n\"+\n",
       "     \"may be due to a slow or bad network connection. Possible fixes:\\n\"+\n",
       "     \"</p>\\n\"+\n",
       "     \"<ul>\\n\"+\n",
       "     \"<li>re-rerun `output_notebook()` to attempt to load from CDN again, or</li>\\n\"+\n",
       "     \"<li>use INLINE resources instead, as so:</li>\\n\"+\n",
       "     \"</ul>\\n\"+\n",
       "     \"<code>\\n\"+\n",
       "     \"from bokeh.resources import INLINE\\n\"+\n",
       "     \"output_notebook(resources=INLINE)\\n\"+\n",
       "     \"</code>\\n\"+\n",
       "     \"</div>\"}};\n",
       "\n",
       "  function display_loaded() {\n",
       "    if (window.Bokeh !== undefined) {\n",
       "      Bokeh.$(\"#0af989a0-c2b3-4f2f-aa15-bd8b25c77ac4\").text(\"BokehJS successfully loaded.\");\n",
       "    } else if (Date.now() < window._bokeh_timeout) {\n",
       "      setTimeout(display_loaded, 100)\n",
       "    }\n",
       "  }\n",
       "\n",
       "  function run_callbacks() {\n",
       "    window._bokeh_onload_callbacks.forEach(function(callback) { callback() });\n",
       "    delete window._bokeh_onload_callbacks\n",
       "    console.info(\"Bokeh: all callbacks have finished\");\n",
       "  }\n",
       "\n",
       "  function load_libs(js_urls, callback) {\n",
       "    window._bokeh_onload_callbacks.push(callback);\n",
       "    if (window._bokeh_is_loading > 0) {\n",
       "      console.log(\"Bokeh: BokehJS is being loaded, scheduling callback at\", now());\n",
       "      return null;\n",
       "    }\n",
       "    if (js_urls == null || js_urls.length === 0) {\n",
       "      run_callbacks();\n",
       "      return null;\n",
       "    }\n",
       "    console.log(\"Bokeh: BokehJS not loaded, scheduling load and callback at\", now());\n",
       "    window._bokeh_is_loading = js_urls.length;\n",
       "    for (var i = 0; i < js_urls.length; i++) {\n",
       "      var url = js_urls[i];\n",
       "      var s = document.createElement('script');\n",
       "      s.src = url;\n",
       "      s.async = false;\n",
       "      s.onreadystatechange = s.onload = function() {\n",
       "        window._bokeh_is_loading--;\n",
       "        if (window._bokeh_is_loading === 0) {\n",
       "          console.log(\"Bokeh: all BokehJS libraries loaded\");\n",
       "          run_callbacks()\n",
       "        }\n",
       "      };\n",
       "      s.onerror = function() {\n",
       "        console.warn(\"failed to load library \" + url);\n",
       "      };\n",
       "      console.log(\"Bokeh: injecting script tag for BokehJS library: \", url);\n",
       "      document.getElementsByTagName(\"head\")[0].appendChild(s);\n",
       "    }\n",
       "  };var element = document.getElementById(\"0af989a0-c2b3-4f2f-aa15-bd8b25c77ac4\");\n",
       "  if (element == null) {\n",
       "    console.log(\"Bokeh: ERROR: autoload.js configured with elementid '0af989a0-c2b3-4f2f-aa15-bd8b25c77ac4' but no matching script tag was found. \")\n",
       "    return false;\n",
       "  }\n",
       "\n",
       "  var js_urls = ['https://cdn.pydata.org/bokeh/release/bokeh-0.12.2.min.js', 'https://cdn.pydata.org/bokeh/release/bokeh-widgets-0.12.2.min.js', 'https://cdn.pydata.org/bokeh/release/bokeh-compiler-0.12.2.min.js'];\n",
       "\n",
       "  var inline_js = [\n",
       "    function(Bokeh) {\n",
       "      Bokeh.set_log_level(\"info\");\n",
       "    },\n",
       "    \n",
       "    function(Bokeh) {\n",
       "      \n",
       "      Bokeh.$(\"#0af989a0-c2b3-4f2f-aa15-bd8b25c77ac4\").text(\"BokehJS is loading...\");\n",
       "    },\n",
       "    function(Bokeh) {\n",
       "      console.log(\"Bokeh: injecting CSS: https://cdn.pydata.org/bokeh/release/bokeh-0.12.2.min.css\");\n",
       "      Bokeh.embed.inject_css(\"https://cdn.pydata.org/bokeh/release/bokeh-0.12.2.min.css\");\n",
       "      console.log(\"Bokeh: injecting CSS: https://cdn.pydata.org/bokeh/release/bokeh-widgets-0.12.2.min.css\");\n",
       "      Bokeh.embed.inject_css(\"https://cdn.pydata.org/bokeh/release/bokeh-widgets-0.12.2.min.css\");\n",
       "    }\n",
       "  ];\n",
       "\n",
       "  function run_inline_js() {\n",
       "    \n",
       "    if ((window.Bokeh !== undefined) || (force === \"1\")) {\n",
       "      for (var i = 0; i < inline_js.length; i++) {\n",
       "        inline_js[i](window.Bokeh);\n",
       "      }if (force === \"1\") {\n",
       "        display_loaded();\n",
       "      }} else if (Date.now() < window._bokeh_timeout) {\n",
       "      setTimeout(run_inline_js, 100);\n",
       "    } else if (!window._bokeh_failed_load) {\n",
       "      console.log(\"Bokeh: BokehJS failed to load within specified timeout.\");\n",
       "      window._bokeh_failed_load = true;\n",
       "    } else if (!force) {\n",
       "      var cell = $(\"#0af989a0-c2b3-4f2f-aa15-bd8b25c77ac4\").parents('.cell').data().cell;\n",
       "      cell.output_area.append_execute_result(NB_LOAD_WARNING)\n",
       "    }\n",
       "\n",
       "  }\n",
       "\n",
       "  if (window._bokeh_is_loading === 0) {\n",
       "    console.log(\"Bokeh: BokehJS loaded, going straight to plotting\");\n",
       "    run_inline_js();\n",
       "  } else {\n",
       "    load_libs(js_urls, function() {\n",
       "      console.log(\"Bokeh: BokehJS plotting callback run at\", now());\n",
       "      run_inline_js();\n",
       "    });\n",
       "  }\n",
       "}(this));"
      ]
     },
     "metadata": {},
     "output_type": "display_data"
    }
   ],
   "source": [
    "import numpy as np\n",
    "import pandas\n",
    "from numpy import *\n",
    "import time\n",
    "import sys\n",
    "import pandas as pd\n",
    "import matplotlib.pyplot as plt\n",
    "from sklearn import feature_selection\n",
    "import xgboost\n",
    "from sklearn.learning_curve import learning_curve, validation_curve\n",
    "from sklearn.cross_validation import cross_val_predict\n",
    "from sklearn import metrics, grid_search, cross_validation\n",
    "from IPython.display import set_matplotlib_formats\n",
    "from bokeh.plotting import figure, show, output_notebook\n",
    "from sklearn.grid_search import GridSearchCV, RandomizedSearchCV\n",
    "from sklearn.metrics import r2_score\n",
    "from bokeh.layouts import gridplot\n",
    "output_notebook()\n",
    "set_matplotlib_formats('png', 'pdf')\n",
    "%matplotlib inline\n",
    "plt.rcParams['figure.figsize'] = (6, 6)"
   ]
  },
  {
   "cell_type": "markdown",
   "metadata": {},
   "source": [
    "# Load data"
   ]
  },
  {
   "cell_type": "markdown",
   "metadata": {},
   "source": [
    "In the previous file we have not change the data as there is no missing value or add any new parameters so it can be downloaded from the web directly. "
   ]
  },
  {
   "cell_type": "code",
   "execution_count": 6,
   "metadata": {
    "collapsed": false
   },
   "outputs": [
    {
     "name": "stdout",
     "output_type": "stream",
     "text": [
      "Number of examples 209\n"
     ]
    }
   ],
   "source": [
    "url = 'http://archive.ics.uci.edu/ml/machine-learning-databases/cpu-performance/machine.data'\n",
    "names = ['vendor', 'Model', 'MYCT', 'MMIN', 'MMAX', 'CACH', 'CHMIN','CHMAX','PRP','ERP']\n",
    "feature_names = ['MYCT', 'MMIN', 'MMAX', 'CACH', 'CHMIN','CHMAX','PRP','ERP']\n",
    "feature_cols = ['MYCT', 'MMIN', 'MMAX', 'CACH', 'CHMIN','CHMAX','PRP','ERP']\n",
    "data = pd.read_csv(url, sep=',', names = names)\n",
    "data = data.drop('vendor',1)\n",
    "data = data.drop('Model',1)\n",
    "\n",
    "from sklearn import preprocessing\n",
    "\n",
    "def number_encode_features(df):\n",
    "    result = df.copy()\n",
    "    encoders = {}\n",
    "    for column in result.columns:\n",
    "        if result.dtypes[column] == np.object:\n",
    "            encoders[column] = preprocessing.LabelEncoder()\n",
    "            result[column] = encoders[column].fit_transform(result[column])\n",
    "    return result, encoders\n",
    "\n",
    "data, _ = number_encode_features(data)\n",
    "\n",
    "dataset = data.values\n",
    "X = dataset[:,0:7]\n",
    "Y = dataset[:,7]\n",
    "print 'Number of examples',len(X)"
   ]
  },
  {
   "cell_type": "code",
   "execution_count": 7,
   "metadata": {
    "collapsed": false
   },
   "outputs": [
    {
     "name": "stdout",
     "output_type": "stream",
     "text": [
      "Number of training examples 167\n",
      "Number of validation examples 42\n"
     ]
    }
   ],
   "source": [
    "# Make developement dataset for genrilization and final testing\n",
    "from sklearn.cross_validation import train_test_split\n",
    "# Extracting 20% testing data\n",
    "X_train, X_test, y_train, y_test = train_test_split(\n",
    "    X, Y, test_size=0.20, random_state=0)\n",
    "X = X_train\n",
    "Y = y_train\n",
    "new_data      = X_train\n",
    "new_test_data = X_test\n",
    "print 'Number of training examples',len(X_train)\n",
    "print 'Number of validation examples',len(X_test)"
   ]
  },
  {
   "cell_type": "markdown",
   "metadata": {},
   "source": [
    "Number of training data is very small so we need to use cross validation instead of spareate another validation data."
   ]
  },
  {
   "cell_type": "markdown",
   "metadata": {},
   "source": [
    "From the previous visulization the data has no missing value but has many outlier and some sparisty"
   ]
  },
  {
   "cell_type": "markdown",
   "metadata": {},
   "source": [
    "# Ranking of the feature's importance to the target"
   ]
  },
  {
   "cell_type": "code",
   "execution_count": 8,
   "metadata": {
    "collapsed": false
   },
   "outputs": [
    {
     "name": "stdout",
     "output_type": "stream",
     "text": [
      "Feature Name      Score         Pvalue\n",
      "MYCT \t\t18.7784506906 \t2.28953652773e-05\n",
      "MMIN \t\t422.636024187 \t6.7010130085e-52\n",
      "MMAX \t\t895.035239011 \t4.20559221576e-77\n",
      "CACH \t\t150.332889484 \t2.4462451136e-26\n",
      "CHMIN \t\t123.042583867 \t9.66488661491e-23\n",
      "CHMAX \t\t111.779441433 \t3.62169179267e-21\n",
      "PRP \t\t2932.57297327 \t3.42704839853e-124\n",
      "ERP \t\tinf \t0.0\n"
     ]
    }
   ],
   "source": [
    "# Randing the important features to the target\n",
    "import xgboost\n",
    "model = xgboost.XGBRegressor()\n",
    "model = feature_selection.SelectKBest(score_func=feature_selection.f_regression,k=4)\n",
    "results = model.fit(data[feature_cols], data['ERP'])\n",
    "k=0\n",
    "print 'Feature Name      Score         Pvalue'\n",
    "for feat in feature_cols:\n",
    "    print feat,'\\t\\t',results.scores_[k],'\\t',results.pvalues_[k]\n",
    "    k=k+1\n"
   ]
  },
  {
   "cell_type": "markdown",
   "metadata": {},
   "source": [
    "# Set the parameters for cross validation"
   ]
  },
  {
   "cell_type": "code",
   "execution_count": 9,
   "metadata": {
    "collapsed": true
   },
   "outputs": [],
   "source": [
    "num_folds = 10\n",
    "num_instances = len(X)\n",
    "seed = 7\n",
    "kfold = cross_validation.KFold(n=num_instances, n_folds=num_folds, random_state=seed)"
   ]
  },
  {
   "cell_type": "markdown",
   "metadata": {},
   "source": [
    " # Set the parameters for bias-variance dilemma"
   ]
  },
  {
   "cell_type": "code",
   "execution_count": 10,
   "metadata": {
    "collapsed": false
   },
   "outputs": [],
   "source": [
    "def plot_learning_curve(estimator, title, X, y, ylim=None, cv=None,\n",
    "                        n_jobs=1, train_sizes=np.linspace(.1, 1.0, 5)):\n",
    "    plt.figure()\n",
    "    plt.title(title)\n",
    "    if ylim is not None:\n",
    "        plt.ylim(*ylim)\n",
    "    plt.xlabel(\"Training examples\")\n",
    "    plt.ylabel(\"Score\")\n",
    "    train_sizes, train_scores, test_scores = learning_curve(\n",
    "        estimator, X, y, cv=cv, n_jobs=n_jobs, train_sizes=train_sizes)\n",
    "    train_scores_mean = np.mean(train_scores, axis=1)\n",
    "    train_scores_std = np.std(train_scores, axis=1)\n",
    "    test_scores_mean = np.mean(test_scores, axis=1)\n",
    "    test_scores_std = np.std(test_scores, axis=1)\n",
    "    plt.grid()\n",
    "\n",
    "    plt.fill_between(train_sizes, train_scores_mean - train_scores_std,\n",
    "                     train_scores_mean + train_scores_std, alpha=0.1,\n",
    "                     color=\"r\")\n",
    "    plt.fill_between(train_sizes, test_scores_mean - test_scores_std,\n",
    "                     test_scores_mean + test_scores_std, alpha=0.1, color=\"g\")\n",
    "    plt.plot(train_sizes, train_scores_mean, 'o-', color=\"r\",\n",
    "             label=\"Training score\")\n",
    "    plt.plot(train_sizes, test_scores_mean, 'o-', color=\"g\",\n",
    "             label=\"Cross-validation score\")\n",
    "\n",
    "    plt.legend(loc=\"best\")\n",
    "    return plt"
   ]
  },
  {
   "cell_type": "markdown",
   "metadata": {},
   "source": [
    "# 1. DecisionTreeRegressor  with Xgboost Regression"
   ]
  },
  {
   "cell_type": "markdown",
   "metadata": {},
   "source": [
    "Decision trees or the Classification and Regression Trees (CART as they are know) use the training data to select the best points to split the data in order to minimize a cost metric. The default cost metric for regression decision trees is the mean squared error, specified in the criterion parameter."
   ]
  },
  {
   "cell_type": "markdown",
   "metadata": {},
   "source": [
    "## Validation curve"
   ]
  },
  {
   "cell_type": "markdown",
   "metadata": {},
   "source": [
    "choosing multiple hyperparameters of an estimator "
   ]
  },
  {
   "cell_type": "code",
   "execution_count": 11,
   "metadata": {
    "collapsed": false
   },
   "outputs": [
    {
     "data": {
      "text/plain": [
       "['k', 'score_func']"
      ]
     },
     "execution_count": 11,
     "metadata": {},
     "output_type": "execute_result"
    }
   ],
   "source": [
    "\n",
    "estimator = model\n",
    "estimator.get_params().keys()"
   ]
  },
  {
   "cell_type": "code",
   "execution_count": 12,
   "metadata": {
    "collapsed": false
   },
   "outputs": [
    {
     "data": {
      "application/pdf": "[encoded data removed]",
      "image/png": "[encoded data removed]",
      "text/plain": [
       "<matplotlib.figure.Figure at 0x7efc51251590>"
      ]
     },
     "metadata": {},
     "output_type": "display_data"
    }
   ],
   "source": [
    "#param_range = np.logspace(-10.0, 10.0)\n",
    "#param_range = np.linspace(1,50,100)\n",
    "param_range = np.arange(1,20) # generate integer numbers\n",
    "\n",
    "train_scores, test_scores = validation_curve(\n",
    "    xgboost.XGBRegressor(), X, Y, param_name=\"max_depth\", param_range=param_range,\n",
    "    cv=num_folds,  n_jobs=-1)\n",
    "train_scores_mean = np.mean(train_scores, axis=1)\n",
    "train_scores_std = np.std(train_scores, axis=1)\n",
    "test_scores_mean = np.mean(test_scores, axis=1)\n",
    "test_scores_std = np.std(test_scores, axis=1)\n",
    "\n",
    "plt.title(\"Validation Curve with DecisionTreeRegressor\")\n",
    "plt.xlabel(\"max_depth\")\n",
    "plt.ylabel(\"Score\")\n",
    "plt.ylim(0.4, 1.5)\n",
    "plt.plot(param_range, train_scores_mean, label=\"Training score\", color=\"r\")\n",
    "plt.fill_between(param_range, train_scores_mean - train_scores_std,\n",
    "                 train_scores_mean + train_scores_std, alpha=0.2, color=\"r\")\n",
    "plt.plot(param_range, test_scores_mean, label=\"Cross-validation score\",\n",
    "             color=\"g\")\n",
    "plt.fill_between(param_range, test_scores_mean - test_scores_std,\n",
    "                 test_scores_mean + test_scores_std, alpha=0.2, color=\"g\")\n",
    "plt.legend(loc=\"best\")\n",
    "plt.show()"
   ]
  },
  {
   "cell_type": "markdown",
   "metadata": {},
   "source": [
    "more that 5 is the best of number of max_depth"
   ]
  },
  {
   "cell_type": "code",
   "execution_count": 13,
   "metadata": {
    "collapsed": false
   },
   "outputs": [
    {
     "data": {
      "text/plain": [
       "array([  1.00000000e-05,   5.99484250e-05,   3.59381366e-04,\n",
       "         2.15443469e-03,   1.29154967e-02,   7.74263683e-02,\n",
       "         4.64158883e-01,   2.78255940e+00,   1.66810054e+01,\n",
       "         1.00000000e+02])"
      ]
     },
     "execution_count": 13,
     "metadata": {},
     "output_type": "execute_result"
    }
   ],
   "source": [
    "np.logspace(-5.0, 2.0,10)\n",
    "\n"
   ]
  },
  {
   "cell_type": "markdown",
   "metadata": {},
   "source": [
    "min_samples_split =2 (The defualt) is the best"
   ]
  },
  {
   "cell_type": "markdown",
   "metadata": {},
   "source": [
    "## Grid search and/or Random search to determine best compination of parameters"
   ]
  },
  {
   "cell_type": "code",
   "execution_count": 14,
   "metadata": {
    "collapsed": false
   },
   "outputs": [
    {
     "name": "stdout",
     "output_type": "stream",
     "text": [
      "Hyperparameter optimization using GridSearchCV...\n",
      "Parameters with rank: 1\n",
      "Mean validation score: 0.9481 (std: 0.0525)\n",
      "Parameters: {'max_depth': 4}\n",
      "\n",
      "Parameters with rank: 2\n",
      "Mean validation score: 0.9430 (std: 0.0579)\n",
      "Parameters: {'max_depth': 5}\n",
      "\n",
      "Parameters with rank: 3\n",
      "Mean validation score: 0.9312 (std: 0.0645)\n",
      "Parameters: {'max_depth': 3}\n",
      "\n",
      "Parameters with rank: 4\n",
      "Mean validation score: 0.9134 (std: 0.0840)\n",
      "Parameters: {'max_depth': 1}\n",
      "\n",
      "Parameters with rank: 5\n",
      "Mean validation score: 0.9076 (std: 0.0854)\n",
      "Parameters: {'max_depth': 2}\n",
      "\n",
      "+++++++++++++++++++++++++++++++++++++++++++++++\n",
      "Hyperparameter optimization using RandomizedSearchCV\n",
      "Parameters with rank: 1\n",
      "Mean validation score: 0.9481 (std: 0.0525)\n",
      "Parameters: {'max_depth': 4}\n",
      "\n",
      "Parameters with rank: 2\n",
      "Mean validation score: 0.9430 (std: 0.0579)\n",
      "Parameters: {'max_depth': 5}\n",
      "\n",
      "Parameters with rank: 3\n",
      "Mean validation score: 0.9312 (std: 0.0645)\n",
      "Parameters: {'max_depth': 3}\n",
      "\n",
      "Parameters with rank: 4\n",
      "Mean validation score: 0.9134 (std: 0.0840)\n",
      "Parameters: {'max_depth': 1}\n",
      "\n",
      "Parameters with rank: 5\n",
      "Mean validation score: 0.9076 (std: 0.0854)\n",
      "Parameters: {'max_depth': 2}\n",
      "\n"
     ]
    }
   ],
   "source": [
    "##### Utility function to report optimal parameters\n",
    "from operator import itemgetter\n",
    "def report(grid_scores, n_top=5):\n",
    "    params = None\n",
    "    top_scores = sorted(grid_scores, key=itemgetter(1), reverse=True)[:n_top]\n",
    "    for i, score in enumerate(top_scores):\n",
    "        print(\"Parameters with rank: {0}\".format(i + 1))\n",
    "        print(\"Mean validation score: {0:.4f} (std: {1:.4f})\".format(\n",
    "              score.mean_validation_score, np.std(score.cv_validation_scores)))\n",
    "        print(\"Parameters: {0}\".format(score.parameters))\n",
    "        print(\"\")\n",
    "        \n",
    "        if params == None:\n",
    "            params = score.parameters\n",
    "    \n",
    "    return params\n",
    "\n",
    "# The most common value for the max number of features to look at in each split is sqrt(# of features)\n",
    "sqrtfeat = np.sqrt(X.shape[1]) \n",
    "grid_test1 = { \"max_depth\"      : [1,2,3,4,5]}\n",
    "\n",
    "# Large randomized test using max_depth to control tree size (5000 possible combinations)\n",
    "random_test1 = { \"max_depth\"      : np.arange(1,6)}\n",
    "\n",
    "\n",
    "forest = xgboost.XGBRegressor()\n",
    "\n",
    "print \"Hyperparameter optimization using GridSearchCV...\"\n",
    "grid_search = GridSearchCV(forest, grid_test1, n_jobs=-1, cv=num_folds)\n",
    "grid_search.fit(X, Y)\n",
    "best_params_from_grid_search = report(grid_search.grid_scores_)\n",
    "print '+++++++++++++++++++++++++++++++++++++++++++++++'\n",
    "print \"Hyperparameter optimization using RandomizedSearchCV\"\n",
    "grid_search = RandomizedSearchCV(forest, random_test1, n_jobs=-1, cv=num_folds, n_iter=5)\n",
    "grid_search.fit(X, Y)\n",
    "best_params_from_rand_search1 = report(grid_search.grid_scores_)"
   ]
  },
  {
   "cell_type": "markdown",
   "metadata": {},
   "source": [
    "Best parameters Parameters: Parameters: {'max_features': None, 'max_depth': 19, 'min_samples_leaf': 1}\n"
   ]
  },
  {
   "cell_type": "markdown",
   "metadata": {},
   "source": [
    "## Learning Curve "
   ]
  },
  {
   "cell_type": "markdown",
   "metadata": {},
   "source": [
    "In essence, what we’re doing it training the exact same model with increasingly large fractions of our total training data, and plotting the error of the training and test sets at each step."
   ]
  },
  {
   "cell_type": "code",
   "execution_count": 15,
   "metadata": {
    "collapsed": false
   },
   "outputs": [
    {
     "data": {
      "application/pdf": "[encoded data removed]",
      "image/png": "[encoded data removed]",
      "text/plain": [
       "<matplotlib.figure.Figure at 0x7efc883aea90>"
      ]
     },
     "metadata": {},
     "output_type": "display_data"
    }
   ],
   "source": [
    "\n",
    "model = xgboost.XGBRegressor(max_depth=2, learning_rate = 0.1)\n",
    "title = \"Learning Curves (Ada DecisionTreeRegressor Refression)\"\n",
    "cv = cross_validation.ShuffleSplit(X.shape[0], n_iter=100,\n",
    "                                   test_size=0.2, random_state=0)\n",
    "plot_learning_curve(model, title, X, Y, cv=cv, n_jobs=-1)\n",
    "plt.show()"
   ]
  },
  {
   "cell_type": "code",
   "execution_count": 16,
   "metadata": {
    "collapsed": false
   },
   "outputs": [
    {
     "name": "stdout",
     "output_type": "stream",
     "text": [
      "train_sizes =  [ 50  80 110]\n",
      " training scores\n",
      " 50 training sizees\n",
      "0.999421383553 ± 0.000332949685851\n",
      " 80 training sizees\n",
      "0.998860233536 ± 0.000547919324311\n",
      " 110 training sizees\n",
      "0.998341934378 ± 0.000523301245273\n",
      "\n",
      " validation scores\n",
      " 50 validation scores\n",
      "0.728410288473 ± 0.301863653819\n",
      " 80 validation scores\n",
      "0.813345994117 ± 0.202868302281\n",
      " 110 validation scores\n",
      "0.881592136728 ± 0.113880538253\n"
     ]
    }
   ],
   "source": [
    "# More data from learning curve to show the process of building the model\n",
    "train_sizes, train_scores, valid_scores = learning_curve(\n",
    "     model, X, Y, train_sizes=[50, 80, 110], cv=cv, n_jobs=4)\n",
    "\n",
    "print 'train_sizes = ', train_sizes\n",
    "\n",
    "print ' training scores'\n",
    "print ' 50 training sizees'\n",
    "print train_scores[0].mean(),'±',train_scores[0].std()\n",
    "print ' 80 training sizees'\n",
    "print train_scores[1].mean(),'±',train_scores[1].std()\n",
    "print ' 110 training sizees'\n",
    "print train_scores[2].mean(),'±',train_scores[2].std()\n",
    "\n",
    "print '\\n validation scores'\n",
    "print ' 50 validation scores'\n",
    "print valid_scores[0].mean(),'±',valid_scores[0].std()\n",
    "print ' 80 validation scores'\n",
    "print valid_scores[1].mean(),'±',valid_scores[1].std()\n",
    "print ' 110 validation scores'\n",
    "print valid_scores[2].mean(),'±',valid_scores[2].std()"
   ]
  },
  {
   "cell_type": "markdown",
   "metadata": {},
   "source": [
    "## Cross validation"
   ]
  },
  {
   "cell_type": "code",
   "execution_count": 17,
   "metadata": {
    "collapsed": false
   },
   "outputs": [
    {
     "name": "stdout",
     "output_type": "stream",
     "text": [
      "Scoring according to mean_squared_error\n",
      "[ -5542.83202734  -1260.52819256   -148.56664622   -158.02325497\n",
      "  -1305.26435424   -825.42764484    -97.24723884  -1104.76958763\n",
      "   -432.62870626 -13633.25286074]\n",
      "\n",
      " Mean      Standard deviation\n",
      "-2450.85      4024.42\n"
     ]
    },
    {
     "data": {
      "text/plain": [
       "XGBRegressor(base_score=0.5, colsample_bylevel=1, colsample_bytree=1, gamma=0,\n",
       "       learning_rate=0.1, max_delta_step=0, max_depth=2,\n",
       "       min_child_weight=1, missing=None, n_estimators=100, nthread=-1,\n",
       "       objective='reg:linear', reg_alpha=0, reg_lambda=1,\n",
       "       scale_pos_weight=1, seed=0, silent=True, subsample=1)"
      ]
     },
     "execution_count": 17,
     "metadata": {},
     "output_type": "execute_result"
    }
   ],
   "source": [
    "scoring = 'mean_squared_error'\n",
    "results = cross_validation.cross_val_score(model, X, Y, cv=kfold, scoring=scoring)\n",
    "print 'Scoring according to mean_squared_error'\n",
    "print results\n",
    "print '\\n Mean      Standard deviation'\n",
    "print(\"%.2f      %.2f\" % (results.mean(), results.std()))\n",
    "## Fit the model\n",
    "model.fit(X,Y)\n"
   ]
  },
  {
   "cell_type": "markdown",
   "metadata": {},
   "source": [
    "## Coefficients Of Determination {Calculating R^2}\n",
    "\n",
    "R^2, Close to one is better"
   ]
  },
  {
   "cell_type": "code",
   "execution_count": 18,
   "metadata": {
    "collapsed": false
   },
   "outputs": [
    {
     "name": "stdout",
     "output_type": "stream",
     "text": [
      "R-squared =  0.909126250302\n"
     ]
    }
   ],
   "source": [
    "predicted = cross_val_predict(model, X, Y, cv=kfold)\n",
    "r_squared = r2_score(Y, predicted, multioutput='variance_weighted')\n",
    "print 'R-squared = ',r_squared"
   ]
  },
  {
   "cell_type": "markdown",
   "metadata": {},
   "source": [
    "## Residual Plot"
   ]
  },
  {
   "cell_type": "code",
   "execution_count": 19,
   "metadata": {
    "collapsed": false
   },
   "outputs": [
    {
     "data": {
      "application/pdf": "[encoded data removed]",
      "image/png": "[encoded data removed]",
      "text/plain": [
       "<matplotlib.figure.Figure at 0x7efc4cfbe2d0>"
      ]
     },
     "metadata": {},
     "output_type": "display_data"
    }
   ],
   "source": [
    "predicted = cross_val_predict(model, X, Y, cv=kfold)\n",
    "fig, ax = plt.subplots()\n",
    "ax.scatter(Y, predicted)\n",
    "ax.plot([Y.min(), Y.max()], [Y.min(), Y.max()], 'k--', lw=4)\n",
    "ax.set_xlabel('Measured')\n",
    "ax.set_ylabel('Predicted')\n",
    "plt.show()"
   ]
  },
  {
   "cell_type": "code",
   "execution_count": 20,
   "metadata": {
    "collapsed": false
   },
   "outputs": [
    {
     "data": {
      "text/html": [
       "\n",
       "\n",
       "    <div class=\"bk-root\">\n",
       "        <div class=\"plotdiv\" id=\"272ef886-3721-4b6a-a4c0-17834cfe470a\"></div>\n",
       "    </div>\n",
       "<script type=\"text/javascript\">\n",
       "  \n",
       "  (function(global) {\n",
       "    function now() {\n",
       "      return new Date();\n",
       "    }\n",
       "  \n",
       "    var force = \"\";\n",
       "  \n",
       "    if (typeof (window._bokeh_onload_callbacks) === \"undefined\" || force !== \"\") {\n",
       "      window._bokeh_onload_callbacks = [];\n",
       "      window._bokeh_is_loading = undefined;\n",
       "    }\n",
       "  \n",
       "  \n",
       "    \n",
       "    if (typeof (window._bokeh_timeout) === \"undefined\" || force !== \"\") {\n",
       "      window._bokeh_timeout = Date.now() + 0;\n",
       "      window._bokeh_failed_load = false;\n",
       "    }\n",
       "  \n",
       "    var NB_LOAD_WARNING = {'data': {'text/html':\n",
       "       \"<div style='background-color: #fdd'>\\n\"+\n",
       "       \"<p>\\n\"+\n",
       "       \"BokehJS does not appear to have successfully loaded. If loading BokehJS from CDN, this \\n\"+\n",
       "       \"may be due to a slow or bad network connection. Possible fixes:\\n\"+\n",
       "       \"</p>\\n\"+\n",
       "       \"<ul>\\n\"+\n",
       "       \"<li>re-rerun `output_notebook()` to attempt to load from CDN again, or</li>\\n\"+\n",
       "       \"<li>use INLINE resources instead, as so:</li>\\n\"+\n",
       "       \"</ul>\\n\"+\n",
       "       \"<code>\\n\"+\n",
       "       \"from bokeh.resources import INLINE\\n\"+\n",
       "       \"output_notebook(resources=INLINE)\\n\"+\n",
       "       \"</code>\\n\"+\n",
       "       \"</div>\"}};\n",
       "  \n",
       "    function display_loaded() {\n",
       "      if (window.Bokeh !== undefined) {\n",
       "        Bokeh.$(\"#272ef886-3721-4b6a-a4c0-17834cfe470a\").text(\"BokehJS successfully loaded.\");\n",
       "      } else if (Date.now() < window._bokeh_timeout) {\n",
       "        setTimeout(display_loaded, 100)\n",
       "      }\n",
       "    }\n",
       "  \n",
       "    function run_callbacks() {\n",
       "      window._bokeh_onload_callbacks.forEach(function(callback) { callback() });\n",
       "      delete window._bokeh_onload_callbacks\n",
       "      console.info(\"Bokeh: all callbacks have finished\");\n",
       "    }\n",
       "  \n",
       "    function load_libs(js_urls, callback) {\n",
       "      window._bokeh_onload_callbacks.push(callback);\n",
       "      if (window._bokeh_is_loading > 0) {\n",
       "        console.log(\"Bokeh: BokehJS is being loaded, scheduling callback at\", now());\n",
       "        return null;\n",
       "      }\n",
       "      if (js_urls == null || js_urls.length === 0) {\n",
       "        run_callbacks();\n",
       "        return null;\n",
       "      }\n",
       "      console.log(\"Bokeh: BokehJS not loaded, scheduling load and callback at\", now());\n",
       "      window._bokeh_is_loading = js_urls.length;\n",
       "      for (var i = 0; i < js_urls.length; i++) {\n",
       "        var url = js_urls[i];\n",
       "        var s = document.createElement('script');\n",
       "        s.src = url;\n",
       "        s.async = false;\n",
       "        s.onreadystatechange = s.onload = function() {\n",
       "          window._bokeh_is_loading--;\n",
       "          if (window._bokeh_is_loading === 0) {\n",
       "            console.log(\"Bokeh: all BokehJS libraries loaded\");\n",
       "            run_callbacks()\n",
       "          }\n",
       "        };\n",
       "        s.onerror = function() {\n",
       "          console.warn(\"failed to load library \" + url);\n",
       "        };\n",
       "        console.log(\"Bokeh: injecting script tag for BokehJS library: \", url);\n",
       "        document.getElementsByTagName(\"head\")[0].appendChild(s);\n",
       "      }\n",
       "    };var element = document.getElementById(\"272ef886-3721-4b6a-a4c0-17834cfe470a\");\n",
       "    if (element == null) {\n",
       "      console.log(\"Bokeh: ERROR: autoload.js configured with elementid '272ef886-3721-4b6a-a4c0-17834cfe470a' but no matching script tag was found. \")\n",
       "      return false;\n",
       "    }\n",
       "  \n",
       "    var js_urls = [];\n",
       "  \n",
       "    var inline_js = [\n",
       "      function(Bokeh) {\n",
       "        Bokeh.$(function() {\n",
       "            var docs_json = {\"2ec20c36-7bd8-4a94-9c51-542467d95ac2\":{\"roots\":{\"references\":[{\"attributes\":{\"overlay\":{\"id\":\"8fcca0bd-24fa-444a-82a8-4b522843afd7\",\"type\":\"BoxAnnotation\"},\"plot\":{\"id\":\"c06a789a-6782-4b43-8f82-6de9242eec94\",\"subtype\":\"Figure\",\"type\":\"Plot\"}},\"id\":\"18985e2b-b92d-48ed-916c-71ad2f8765ee\",\"type\":\"BoxZoomTool\"},{\"attributes\":{\"data_source\":{\"id\":\"027d2bd6-9e4c-4e49-86c5-cc69c9ede38a\",\"type\":\"ColumnDataSource\"},\"glyph\":{\"id\":\"de6d5913-5a69-4bb0-b1fe-1ad497bebd35\",\"type\":\"Line\"},\"hover_glyph\":null,\"nonselection_glyph\":{\"id\":\"17b3fdc9-156b-47d1-a2e8-ca02ca699101\",\"type\":\"Line\"},\"selection_glyph\":null},\"id\":\"ce7c2b2f-f0c9-4fd4-aae1-4e38ac8cf6cc\",\"type\":\"GlyphRenderer\"},{\"attributes\":{\"active_drag\":\"auto\",\"active_scroll\":\"auto\",\"active_tap\":\"auto\",\"tools\":[{\"id\":\"18985e2b-b92d-48ed-916c-71ad2f8765ee\",\"type\":\"BoxZoomTool\"},{\"id\":\"8ece4fe2-c4d8-44cc-b54d-5a2940fe69a7\",\"type\":\"BoxSelectTool\"},{\"id\":\"3eddd786-06dc-480c-aaa4-eb1b19c38bc3\",\"type\":\"CrosshairTool\"},{\"id\":\"cfac0b43-9ff5-4511-b082-ebfc53d89220\",\"type\":\"ResizeTool\"},{\"id\":\"bc45a993-3cb3-4367-b278-9e472e172436\",\"type\":\"ResetTool\"},{\"id\":\"ca00e79a-98e8-47f5-83ac-8fc70d191a93\",\"type\":\"LassoSelectTool\"},{\"id\":\"cd0d0d20-ed63-4a3e-9055-4366fcf3b23a\",\"type\":\"PanTool\"},{\"id\":\"ceba0f9a-c095-4b0a-801a-4a20a7ee703e\",\"type\":\"SaveTool\"},{\"id\":\"b69707ec-c6b9-49c7-a85e-255a1d29f53f\",\"type\":\"PolySelectTool\"},{\"id\":\"8717ba9f-d7a6-4af3-b775-9c77ff874515\",\"type\":\"TapTool\"},{\"id\":\"bc0b2180-068e-4440-9183-c1084acbdef4\",\"type\":\"WheelZoomTool\"},{\"id\":\"803271db-ee6d-4c5c-921d-b49406ba605c\",\"type\":\"UndoTool\"}]},\"id\":\"e0175309-8ac2-4fb1-8c81-d00e9b350338\",\"type\":\"Toolbar\"},{\"attributes\":{\"callback\":null,\"plot\":{\"id\":\"c06a789a-6782-4b43-8f82-6de9242eec94\",\"subtype\":\"Figure\",\"type\":\"Plot\"}},\"id\":\"8717ba9f-d7a6-4af3-b775-9c77ff874515\",\"type\":\"TapTool\"},{\"attributes\":{\"plot\":{\"id\":\"c06a789a-6782-4b43-8f82-6de9242eec94\",\"subtype\":\"Figure\",\"type\":\"Plot\"}},\"id\":\"cd0d0d20-ed63-4a3e-9055-4366fcf3b23a\",\"type\":\"PanTool\"},{\"attributes\":{},\"id\":\"aa59a969-8091-4005-95ed-ea201fff09c6\",\"type\":\"BasicTickFormatter\"},{\"attributes\":{\"plot\":{\"id\":\"c06a789a-6782-4b43-8f82-6de9242eec94\",\"subtype\":\"Figure\",\"type\":\"Plot\"}},\"id\":\"bc0b2180-068e-4440-9183-c1084acbdef4\",\"type\":\"WheelZoomTool\"},{\"attributes\":{\"callback\":null,\"column_names\":[\"y\",\"x\"],\"data\":{\"x\":[15,1238],\"y\":[15,1238]}},\"id\":\"027d2bd6-9e4c-4e49-86c5-cc69c9ede38a\",\"type\":\"ColumnDataSource\"},{\"attributes\":{\"callback\":null},\"id\":\"ed0f202f-e7ba-41a9-979b-331f3b626361\",\"type\":\"DataRange1d\"},{\"attributes\":{\"callback\":null,\"overlay\":{\"id\":\"9a536396-f770-41d6-a64b-fc756fbca0a3\",\"type\":\"PolyAnnotation\"},\"plot\":{\"id\":\"c06a789a-6782-4b43-8f82-6de9242eec94\",\"subtype\":\"Figure\",\"type\":\"Plot\"}},\"id\":\"ca00e79a-98e8-47f5-83ac-8fc70d191a93\",\"type\":\"LassoSelectTool\"},{\"attributes\":{},\"id\":\"73a0893a-ad5f-47de-a91b-0628acf02b71\",\"type\":\"BasicTickFormatter\"},{\"attributes\":{\"background_fill_alpha\":{\"value\":0.5},\"background_fill_color\":{\"value\":\"beige\"},\"below\":[{\"id\":\"23d5540b-ab7a-44d1-b2b8-ce6f621d7dcd\",\"type\":\"LinearAxis\"}],\"left\":[{\"id\":\"799816f0-bb5a-47e0-9176-0ba714e81b36\",\"type\":\"LinearAxis\"}],\"plot_height\":500,\"plot_width\":500,\"renderers\":[{\"id\":\"23d5540b-ab7a-44d1-b2b8-ce6f621d7dcd\",\"type\":\"LinearAxis\"},{\"id\":\"39f96eec-f14c-4429-bc03-ef758c6ee62a\",\"type\":\"Grid\"},{\"id\":\"799816f0-bb5a-47e0-9176-0ba714e81b36\",\"type\":\"LinearAxis\"},{\"id\":\"2bc982eb-b180-46aa-9fec-4710c1f75e35\",\"type\":\"Grid\"},{\"id\":\"8fcca0bd-24fa-444a-82a8-4b522843afd7\",\"type\":\"BoxAnnotation\"},{\"id\":\"9e6a7e10-d772-488a-bc4e-1836e3db7a26\",\"type\":\"BoxAnnotation\"},{\"id\":\"9a536396-f770-41d6-a64b-fc756fbca0a3\",\"type\":\"PolyAnnotation\"},{\"id\":\"f377ddbd-f02f-481e-9e07-596e3b54cf6e\",\"type\":\"PolyAnnotation\"},{\"id\":\"55d88778-c5f3-4a4e-8391-6f28d199eb6a\",\"type\":\"GlyphRenderer\"},{\"id\":\"ce7c2b2f-f0c9-4fd4-aae1-4e38ac8cf6cc\",\"type\":\"GlyphRenderer\"}],\"title\":{\"id\":\"ca9faab0-c73e-4951-b9af-7f320d8568d8\",\"type\":\"Title\"},\"tool_events\":{\"id\":\"ed2c6fc8-7473-420e-b10d-b73781e2b20b\",\"type\":\"ToolEvents\"},\"toolbar\":{\"id\":\"e0175309-8ac2-4fb1-8c81-d00e9b350338\",\"type\":\"Toolbar\"},\"x_range\":{\"id\":\"a2304a0a-21a4-47e6-a716-0c53ff69284c\",\"type\":\"DataRange1d\"},\"y_range\":{\"id\":\"ed0f202f-e7ba-41a9-979b-331f3b626361\",\"type\":\"DataRange1d\"}},\"id\":\"c06a789a-6782-4b43-8f82-6de9242eec94\",\"subtype\":\"Figure\",\"type\":\"Plot\"},{\"attributes\":{},\"id\":\"05a0bfa0-9c89-4487-936a-41ce794afd5e\",\"type\":\"BasicTicker\"},{\"attributes\":{},\"id\":\"04d1ebe8-3c9b-4184-b1f4-be71f1a9a6b1\",\"type\":\"BasicTicker\"},{\"attributes\":{\"axis_label\":\"Predicted\",\"axis_label_text_color\":{\"value\":\"#aa6666\"},\"formatter\":{\"id\":\"73a0893a-ad5f-47de-a91b-0628acf02b71\",\"type\":\"BasicTickFormatter\"},\"plot\":{\"id\":\"c06a789a-6782-4b43-8f82-6de9242eec94\",\"subtype\":\"Figure\",\"type\":\"Plot\"},\"ticker\":{\"id\":\"04d1ebe8-3c9b-4184-b1f4-be71f1a9a6b1\",\"type\":\"BasicTicker\"}},\"id\":\"799816f0-bb5a-47e0-9176-0ba714e81b36\",\"type\":\"LinearAxis\"},{\"attributes\":{\"plot\":{\"id\":\"c06a789a-6782-4b43-8f82-6de9242eec94\",\"subtype\":\"Figure\",\"type\":\"Plot\"},\"ticker\":{\"id\":\"05a0bfa0-9c89-4487-936a-41ce794afd5e\",\"type\":\"BasicTicker\"}},\"id\":\"39f96eec-f14c-4429-bc03-ef758c6ee62a\",\"type\":\"Grid\"},{\"attributes\":{\"data_source\":{\"id\":\"1c823024-745c-47c8-b4b4-70e971c8e0cc\",\"type\":\"ColumnDataSource\"},\"glyph\":{\"id\":\"fbe44ed2-ca1c-476b-928d-480ef8ab911e\",\"type\":\"Circle\"},\"hover_glyph\":null,\"nonselection_glyph\":{\"id\":\"22bbd0d3-0a0e-4119-bd74-34bf7c7796f5\",\"type\":\"Circle\"},\"selection_glyph\":null},\"id\":\"55d88778-c5f3-4a4e-8391-6f28d199eb6a\",\"type\":\"GlyphRenderer\"},{\"attributes\":{\"plot\":{\"id\":\"c06a789a-6782-4b43-8f82-6de9242eec94\",\"subtype\":\"Figure\",\"type\":\"Plot\"}},\"id\":\"cfac0b43-9ff5-4511-b082-ebfc53d89220\",\"type\":\"ResizeTool\"},{\"attributes\":{\"bottom_units\":\"screen\",\"fill_alpha\":{\"value\":0.5},\"fill_color\":{\"value\":\"lightgrey\"},\"left_units\":\"screen\",\"level\":\"overlay\",\"line_alpha\":{\"value\":1.0},\"line_color\":{\"value\":\"black\"},\"line_dash\":[4,4],\"line_width\":{\"value\":2},\"plot\":null,\"render_mode\":\"css\",\"right_units\":\"screen\",\"top_units\":\"screen\"},\"id\":\"9e6a7e10-d772-488a-bc4e-1836e3db7a26\",\"type\":\"BoxAnnotation\"},{\"attributes\":{\"axis_label\":\"Measured\",\"axis_label_text_color\":{\"value\":\"#aa6666\"},\"formatter\":{\"id\":\"aa59a969-8091-4005-95ed-ea201fff09c6\",\"type\":\"BasicTickFormatter\"},\"major_tick_line_color\":{\"value\":\"firebrick\"},\"major_tick_line_width\":{\"value\":3},\"minor_tick_line_color\":{\"value\":\"orange\"},\"plot\":{\"id\":\"c06a789a-6782-4b43-8f82-6de9242eec94\",\"subtype\":\"Figure\",\"type\":\"Plot\"},\"ticker\":{\"id\":\"05a0bfa0-9c89-4487-936a-41ce794afd5e\",\"type\":\"BasicTicker\"}},\"id\":\"23d5540b-ab7a-44d1-b2b8-ce6f621d7dcd\",\"type\":\"LinearAxis\"},{\"attributes\":{\"fill_alpha\":{\"value\":0.5},\"fill_color\":{\"value\":\"lightgrey\"},\"level\":\"overlay\",\"line_alpha\":{\"value\":1.0},\"line_color\":{\"value\":\"black\"},\"line_dash\":[4,4],\"line_width\":{\"value\":2},\"plot\":null,\"xs_units\":\"screen\",\"ys_units\":\"screen\"},\"id\":\"9a536396-f770-41d6-a64b-fc756fbca0a3\",\"type\":\"PolyAnnotation\"},{\"attributes\":{\"callback\":null,\"overlay\":{\"id\":\"9e6a7e10-d772-488a-bc4e-1836e3db7a26\",\"type\":\"BoxAnnotation\"},\"plot\":{\"id\":\"c06a789a-6782-4b43-8f82-6de9242eec94\",\"subtype\":\"Figure\",\"type\":\"Plot\"},\"renderers\":[{\"id\":\"55d88778-c5f3-4a4e-8391-6f28d199eb6a\",\"type\":\"GlyphRenderer\"},{\"id\":\"ce7c2b2f-f0c9-4fd4-aae1-4e38ac8cf6cc\",\"type\":\"GlyphRenderer\"}]},\"id\":\"8ece4fe2-c4d8-44cc-b54d-5a2940fe69a7\",\"type\":\"BoxSelectTool\"},{\"attributes\":{\"fill_alpha\":{\"value\":0.5},\"fill_color\":{\"value\":\"lightgrey\"},\"level\":\"overlay\",\"line_alpha\":{\"value\":1.0},\"line_color\":{\"value\":\"black\"},\"line_dash\":[4,4],\"line_width\":{\"value\":2},\"plot\":null,\"xs_units\":\"screen\",\"ys_units\":\"screen\"},\"id\":\"f377ddbd-f02f-481e-9e07-596e3b54cf6e\",\"type\":\"PolyAnnotation\"},{\"attributes\":{\"plot\":{\"id\":\"c06a789a-6782-4b43-8f82-6de9242eec94\",\"subtype\":\"Figure\",\"type\":\"Plot\"}},\"id\":\"3eddd786-06dc-480c-aaa4-eb1b19c38bc3\",\"type\":\"CrosshairTool\"},{\"attributes\":{\"line_alpha\":{\"value\":0.1},\"line_color\":{\"value\":\"#1f77b4\"},\"line_dash\":[4,4],\"line_width\":{\"value\":2},\"x\":{\"field\":\"x\"},\"y\":{\"field\":\"y\"}},\"id\":\"17b3fdc9-156b-47d1-a2e8-ca02ca699101\",\"type\":\"Line\"},{\"attributes\":{\"fill_color\":{\"value\":\"#80B1D3\"},\"line_color\":{\"value\":\"#80B1D3\"},\"line_width\":{\"value\":3},\"x\":{\"field\":\"x\"},\"y\":{\"field\":\"y\"}},\"id\":\"fbe44ed2-ca1c-476b-928d-480ef8ab911e\",\"type\":\"Circle\"},{\"attributes\":{\"bottom_units\":\"screen\",\"fill_alpha\":{\"value\":0.5},\"fill_color\":{\"value\":\"lightgrey\"},\"left_units\":\"screen\",\"level\":\"overlay\",\"line_alpha\":{\"value\":1.0},\"line_color\":{\"value\":\"black\"},\"line_dash\":[4,4],\"line_width\":{\"value\":2},\"plot\":null,\"render_mode\":\"css\",\"right_units\":\"screen\",\"top_units\":\"screen\"},\"id\":\"8fcca0bd-24fa-444a-82a8-4b522843afd7\",\"type\":\"BoxAnnotation\"},{\"attributes\":{\"align\":\"center\",\"plot\":null,\"text\":null},\"id\":\"ca9faab0-c73e-4951-b9af-7f320d8568d8\",\"type\":\"Title\"},{\"attributes\":{\"callback\":null,\"column_names\":[\"x\",\"y\"],\"data\":{\"x\":[20,53,132,25,88,54,75,17,28,35,80,360,749,41,26,44,82,28,275,18,27,34,28,102,34,42,426,57,124,19,128,30,281,19,19,86,45,29,28,22,220,126,15,22,31,81,35,18,24,37,95,19,253,34,24,182,74,23,78,23,24,24,47,270,113,253,82,20,47,978,34,31,199,171,33,361,113,117,74,33,38,36,28,41,117,267,45,18,21,37,190,47,381,28,25,116,26,20,35,181,29,24,65,18,136,34,157,253,101,25,74,28,46,53,29,44,46,36,41,82,138,28,42,62,266,102,25,44,31,74,142,41,43,119,27,15,73,64,53,76,120,24,20,50,21,80,30,341,24,919,30,56,34,53,175,47,32,23,39,1238,20,227,20,382,26,28,67],\"y\":[20.423011779785156,49.36625671386719,141.2773895263672,24.202476501464844,71.92686462402344,51.49882125854492,108.9357681274414,20.423011779785156,36.16807174682617,41.9975700378418,125.88042449951172,401.9367370605469,1046.67333984375,43.38658905029297,25.056110382080078,45.800498962402344,71.92686462402344,27.22998046875,245.1281280517578,20.59615135192871,26.62018585205078,36.20226287841797,36.20226287841797,91.8617172241211,36.20226287841797,40.56423568725586,387.7535705566406,47.95197296142578,97.93333435058594,22.053247451782227,122.22932434082031,31.690820693969727,146.5559844970703,20.59615135192871,22.012073516845703,67.40372467041016,38.13866424560547,27.813190460205078,27.813190460205078,22.012073516845703,246.9345245361328,155.98507690429688,21.417278289794922,24.191795349121094,29.20691680908203,82.39429473876953,36.411739349365234,22.012073516845703,26.086261749267578,36.411739349365234,74.41575622558594,22.153120040893555,228.23008728027344,36.681983947753906,26.249523162841797,183.03688049316406,73.40339660644531,23.90558624267578,72.68004608154297,23.90558624267578,25.980361938476562,25.980361938476562,44.59283447265625,284.0655212402344,130.00059509277344,222.2283477783203,105.87431335449219,21.379640579223633,43.55411148071289,919.6339721679688,35.952816009521484,29.783546447753906,115.31704711914062,228.9849090576172,28.396883010864258,449.82427978515625,126.99248504638672,121.56243133544922,74.90218353271484,31.025230407714844,37.554744720458984,35.952816009521484,28.181617736816406,38.64853286743164,133.20567321777344,267.3907470703125,42.656341552734375,22.50251579284668,20.825101852416992,35.89849090576172,155.89498901367188,49.11188888549805,273.1540832519531,25.925981521606445,25.644983291625977,111.17935943603516,31.44029426574707,21.10610008239746,41.60618209838867,214.1332550048828,27.322397232055664,25.925981521606445,58.36391830444336,20.94339370727539,154.31072998046875,36.79140090942383,144.90945434570312,244.5538787841797,112.55433654785156,26.122112274169922,70.75743865966797,28.92201805114746,48.64623260498047,82.56165313720703,30.23061180114746,43.37308883666992,49.01813507080078,37.16330337524414,41.72043991088867,78.76976776123047,93.41209411621094,35.802833557128906,41.43973922729492,50.620384216308594,217.55606079101562,202.3014678955078,25.839458465576172,45.02238082885742,31.17427635192871,58.87565231323242,96.75019836425781,39.01580810546875,41.60481643676758,91.3747787475586,32.72686767578125,21.45761489868164,66.48786926269531,61.55084228515625,67.36461639404297,67.9907455444336,120.15077209472656,25.643070220947266,21.72527313232422,46.57903289794922,22.047252655029297,77.16687774658203,33.54179763793945,273.4267578125,26.232707977294922,963.1491088867188,31.456167221069336,46.87754440307617,35.56746292114258,46.87754440307617,186.8724822998047,39.388648986816406,29.625158309936523,27.192277908325195,38.39714050292969,771.8079833984375,21.02810287475586,238.76239013671875,20.595096588134766,376.3631896972656,25.511640548706055,31.511075973510742,50.65016555786133]}},\"id\":\"1c823024-745c-47c8-b4b4-70e971c8e0cc\",\"type\":\"ColumnDataSource\"},{\"attributes\":{\"plot\":{\"id\":\"c06a789a-6782-4b43-8f82-6de9242eec94\",\"subtype\":\"Figure\",\"type\":\"Plot\"}},\"id\":\"803271db-ee6d-4c5c-921d-b49406ba605c\",\"type\":\"UndoTool\"},{\"attributes\":{\"plot\":{\"id\":\"c06a789a-6782-4b43-8f82-6de9242eec94\",\"subtype\":\"Figure\",\"type\":\"Plot\"}},\"id\":\"ceba0f9a-c095-4b0a-801a-4a20a7ee703e\",\"type\":\"SaveTool\"},{\"attributes\":{},\"id\":\"ed2c6fc8-7473-420e-b10d-b73781e2b20b\",\"type\":\"ToolEvents\"},{\"attributes\":{\"line_dash\":[4,4],\"line_width\":{\"value\":2},\"x\":{\"field\":\"x\"},\"y\":{\"field\":\"y\"}},\"id\":\"de6d5913-5a69-4bb0-b1fe-1ad497bebd35\",\"type\":\"Line\"},{\"attributes\":{\"dimension\":1,\"plot\":{\"id\":\"c06a789a-6782-4b43-8f82-6de9242eec94\",\"subtype\":\"Figure\",\"type\":\"Plot\"},\"ticker\":{\"id\":\"04d1ebe8-3c9b-4184-b1f4-be71f1a9a6b1\",\"type\":\"BasicTicker\"}},\"id\":\"2bc982eb-b180-46aa-9fec-4710c1f75e35\",\"type\":\"Grid\"},{\"attributes\":{\"callback\":null},\"id\":\"a2304a0a-21a4-47e6-a716-0c53ff69284c\",\"type\":\"DataRange1d\"},{\"attributes\":{\"fill_alpha\":{\"value\":0.1},\"fill_color\":{\"value\":\"#1f77b4\"},\"line_alpha\":{\"value\":0.1},\"line_color\":{\"value\":\"#1f77b4\"},\"line_width\":{\"value\":3},\"x\":{\"field\":\"x\"},\"y\":{\"field\":\"y\"}},\"id\":\"22bbd0d3-0a0e-4119-bd74-34bf7c7796f5\",\"type\":\"Circle\"},{\"attributes\":{\"plot\":{\"id\":\"c06a789a-6782-4b43-8f82-6de9242eec94\",\"subtype\":\"Figure\",\"type\":\"Plot\"}},\"id\":\"bc45a993-3cb3-4367-b278-9e472e172436\",\"type\":\"ResetTool\"},{\"attributes\":{\"overlay\":{\"id\":\"f377ddbd-f02f-481e-9e07-596e3b54cf6e\",\"type\":\"PolyAnnotation\"},\"plot\":{\"id\":\"c06a789a-6782-4b43-8f82-6de9242eec94\",\"subtype\":\"Figure\",\"type\":\"Plot\"}},\"id\":\"b69707ec-c6b9-49c7-a85e-255a1d29f53f\",\"type\":\"PolySelectTool\"}],\"root_ids\":[\"c06a789a-6782-4b43-8f82-6de9242eec94\"]},\"title\":\"Bokeh Application\",\"version\":\"0.12.2\"}};\n",
       "            var render_items = [{\"docid\":\"2ec20c36-7bd8-4a94-9c51-542467d95ac2\",\"elementid\":\"272ef886-3721-4b6a-a4c0-17834cfe470a\",\"modelid\":\"c06a789a-6782-4b43-8f82-6de9242eec94\"}];\n",
       "            \n",
       "            Bokeh.embed.embed_items(docs_json, render_items);\n",
       "        });\n",
       "      },\n",
       "      function(Bokeh) {\n",
       "      }\n",
       "    ];\n",
       "  \n",
       "    function run_inline_js() {\n",
       "      \n",
       "      if ((window.Bokeh !== undefined) || (force === \"1\")) {\n",
       "        for (var i = 0; i < inline_js.length; i++) {\n",
       "          inline_js[i](window.Bokeh);\n",
       "        }if (force === \"1\") {\n",
       "          display_loaded();\n",
       "        }} else if (Date.now() < window._bokeh_timeout) {\n",
       "        setTimeout(run_inline_js, 100);\n",
       "      } else if (!window._bokeh_failed_load) {\n",
       "        console.log(\"Bokeh: BokehJS failed to load within specified timeout.\");\n",
       "        window._bokeh_failed_load = true;\n",
       "      } else if (!force) {\n",
       "        var cell = $(\"#272ef886-3721-4b6a-a4c0-17834cfe470a\").parents('.cell').data().cell;\n",
       "        cell.output_area.append_execute_result(NB_LOAD_WARNING)\n",
       "      }\n",
       "  \n",
       "    }\n",
       "  \n",
       "    if (window._bokeh_is_loading === 0) {\n",
       "      console.log(\"Bokeh: BokehJS loaded, going straight to plotting\");\n",
       "      run_inline_js();\n",
       "    } else {\n",
       "      load_libs(js_urls, function() {\n",
       "        console.log(\"Bokeh: BokehJS plotting callback run at\", now());\n",
       "        run_inline_js();\n",
       "      });\n",
       "    }\n",
       "  }(this));\n",
       "</script>"
      ]
     },
     "metadata": {},
     "output_type": "display_data"
    }
   ],
   "source": [
    "# Plotining using bokeh\n",
    "#TOOLS = [BoxSelectTool(), HoverTool()]\n",
    "#TOOLS = 'hover,box_zoom,box_select,crosshair,resize,reset,DecisionTreeRegressor_select,pan,save,poly_select,tap,wheel_zoom,undo'\n",
    "TOOLS = 'box_zoom,box_select,crosshair,resize,reset,lasso_select,pan,save,poly_select,tap,wheel_zoom,undo'\n",
    "p = figure(plot_width=500, plot_height=500, tools=TOOLS)\n",
    "p.scatter(Y, predicted,x=\"jjj\", marker=\"o\", color=\"#80B1D3\", line_width=3)\n",
    "p.title.align = \"center\"\n",
    "p.xaxis.axis_label = \"Measured\"\n",
    "p.xaxis.axis_label_text_color = \"#aa6666\"\n",
    "#p.xaxis.axis_label_standoff = 30\n",
    "p.xaxis.major_tick_line_color = \"firebrick\"\n",
    "p.xaxis.major_tick_line_width = 3\n",
    "p.xaxis.minor_tick_line_color = \"orange\"\n",
    "p.yaxis.axis_label = \"Predicted\"\n",
    "p.yaxis.axis_label_text_font_style = \"italic\"\n",
    "p.yaxis.axis_label_text_color = \"#aa6666\"\n",
    "p.background_fill_color = \"beige\"\n",
    "p.background_fill_alpha = 0.5\n",
    "#p.line([Y.min(), Y.max()], [Y.min(), Y.max()], line_dash=\"4 4\", line_width=2, color='red')\n",
    "\n",
    "# create a new plot with the toolbar below\n",
    "# line_dash=\"4 4\", line_width=2, color='red'\n",
    "p.line([Y.min(), Y.max()], [Y.min(), Y.max()], line_dash=\"4 4\", line_width=2, line_color=\"black\")\n",
    "show(p)"
   ]
  },
  {
   "cell_type": "code",
   "execution_count": 21,
   "metadata": {
    "collapsed": false
   },
   "outputs": [
    {
     "data": {
      "text/plain": [
       "<matplotlib.text.Text at 0x7efc4d244710>"
      ]
     },
     "execution_count": 21,
     "metadata": {},
     "output_type": "execute_result"
    },
    {
     "data": {
      "application/pdf": "[encoded data removed]",
      "image/png": "[encoded data removed]",
      "text/plain": [
       "<matplotlib.figure.Figure at 0x7efc51037a50>"
      ]
     },
     "metadata": {},
     "output_type": "display_data"
    }
   ],
   "source": [
    "plt.scatter(predicted, (predicted - Y), c='r', s=30)\n",
    "plt.title(\"Residual plot on the training data\")\n",
    "plt.xlabel(\"Predicted\")\n",
    "plt.ylabel(\"Residuals\")"
   ]
  },
  {
   "cell_type": "code",
   "execution_count": 22,
   "metadata": {
    "collapsed": false
   },
   "outputs": [
    {
     "data": {
      "text/html": [
       "\n",
       "\n",
       "    <div class=\"bk-root\">\n",
       "        <div class=\"plotdiv\" id=\"7d80d143-2c2c-439c-926b-1418023bcd26\"></div>\n",
       "    </div>\n",
       "<script type=\"text/javascript\">\n",
       "  \n",
       "  (function(global) {\n",
       "    function now() {\n",
       "      return new Date();\n",
       "    }\n",
       "  \n",
       "    var force = \"\";\n",
       "  \n",
       "    if (typeof (window._bokeh_onload_callbacks) === \"undefined\" || force !== \"\") {\n",
       "      window._bokeh_onload_callbacks = [];\n",
       "      window._bokeh_is_loading = undefined;\n",
       "    }\n",
       "  \n",
       "  \n",
       "    \n",
       "    if (typeof (window._bokeh_timeout) === \"undefined\" || force !== \"\") {\n",
       "      window._bokeh_timeout = Date.now() + 0;\n",
       "      window._bokeh_failed_load = false;\n",
       "    }\n",
       "  \n",
       "    var NB_LOAD_WARNING = {'data': {'text/html':\n",
       "       \"<div style='background-color: #fdd'>\\n\"+\n",
       "       \"<p>\\n\"+\n",
       "       \"BokehJS does not appear to have successfully loaded. If loading BokehJS from CDN, this \\n\"+\n",
       "       \"may be due to a slow or bad network connection. Possible fixes:\\n\"+\n",
       "       \"</p>\\n\"+\n",
       "       \"<ul>\\n\"+\n",
       "       \"<li>re-rerun `output_notebook()` to attempt to load from CDN again, or</li>\\n\"+\n",
       "       \"<li>use INLINE resources instead, as so:</li>\\n\"+\n",
       "       \"</ul>\\n\"+\n",
       "       \"<code>\\n\"+\n",
       "       \"from bokeh.resources import INLINE\\n\"+\n",
       "       \"output_notebook(resources=INLINE)\\n\"+\n",
       "       \"</code>\\n\"+\n",
       "       \"</div>\"}};\n",
       "  \n",
       "    function display_loaded() {\n",
       "      if (window.Bokeh !== undefined) {\n",
       "        Bokeh.$(\"#7d80d143-2c2c-439c-926b-1418023bcd26\").text(\"BokehJS successfully loaded.\");\n",
       "      } else if (Date.now() < window._bokeh_timeout) {\n",
       "        setTimeout(display_loaded, 100)\n",
       "      }\n",
       "    }\n",
       "  \n",
       "    function run_callbacks() {\n",
       "      window._bokeh_onload_callbacks.forEach(function(callback) { callback() });\n",
       "      delete window._bokeh_onload_callbacks\n",
       "      console.info(\"Bokeh: all callbacks have finished\");\n",
       "    }\n",
       "  \n",
       "    function load_libs(js_urls, callback) {\n",
       "      window._bokeh_onload_callbacks.push(callback);\n",
       "      if (window._bokeh_is_loading > 0) {\n",
       "        console.log(\"Bokeh: BokehJS is being loaded, scheduling callback at\", now());\n",
       "        return null;\n",
       "      }\n",
       "      if (js_urls == null || js_urls.length === 0) {\n",
       "        run_callbacks();\n",
       "        return null;\n",
       "      }\n",
       "      console.log(\"Bokeh: BokehJS not loaded, scheduling load and callback at\", now());\n",
       "      window._bokeh_is_loading = js_urls.length;\n",
       "      for (var i = 0; i < js_urls.length; i++) {\n",
       "        var url = js_urls[i];\n",
       "        var s = document.createElement('script');\n",
       "        s.src = url;\n",
       "        s.async = false;\n",
       "        s.onreadystatechange = s.onload = function() {\n",
       "          window._bokeh_is_loading--;\n",
       "          if (window._bokeh_is_loading === 0) {\n",
       "            console.log(\"Bokeh: all BokehJS libraries loaded\");\n",
       "            run_callbacks()\n",
       "          }\n",
       "        };\n",
       "        s.onerror = function() {\n",
       "          console.warn(\"failed to load library \" + url);\n",
       "        };\n",
       "        console.log(\"Bokeh: injecting script tag for BokehJS library: \", url);\n",
       "        document.getElementsByTagName(\"head\")[0].appendChild(s);\n",
       "      }\n",
       "    };var element = document.getElementById(\"7d80d143-2c2c-439c-926b-1418023bcd26\");\n",
       "    if (element == null) {\n",
       "      console.log(\"Bokeh: ERROR: autoload.js configured with elementid '7d80d143-2c2c-439c-926b-1418023bcd26' but no matching script tag was found. \")\n",
       "      return false;\n",
       "    }\n",
       "  \n",
       "    var js_urls = [];\n",
       "  \n",
       "    var inline_js = [\n",
       "      function(Bokeh) {\n",
       "        Bokeh.$(function() {\n",
       "            var docs_json = {\"3037e92c-2848-4eda-a1e7-2819edaa1171\":{\"roots\":{\"references\":[{\"attributes\":{\"callback\":null},\"id\":\"5928a1f6-0f40-486b-b2f0-6d49469bf4a7\",\"type\":\"DataRange1d\"},{\"attributes\":{},\"id\":\"f327e35d-dd37-44f4-b2ca-360180b75874\",\"type\":\"BasicTickFormatter\"},{\"attributes\":{\"plot\":{\"id\":\"479554cb-dade-4de2-a2fb-a965b8d3c83c\",\"subtype\":\"Figure\",\"type\":\"Plot\"}},\"id\":\"3ac28553-aaf5-4a1e-9b20-f76934ea2f41\",\"type\":\"ResetTool\"},{\"attributes\":{\"plot\":{\"id\":\"479554cb-dade-4de2-a2fb-a965b8d3c83c\",\"subtype\":\"Figure\",\"type\":\"Plot\"}},\"id\":\"90fe612f-07c3-45e3-b86d-bf65ed907296\",\"type\":\"SaveTool\"},{\"attributes\":{\"callback\":null},\"id\":\"089ebe7b-19cb-4135-8695-ba30ef196ffa\",\"type\":\"DataRange1d\"},{\"attributes\":{\"plot\":{\"id\":\"479554cb-dade-4de2-a2fb-a965b8d3c83c\",\"subtype\":\"Figure\",\"type\":\"Plot\"}},\"id\":\"f3a3d0fd-72c5-4208-b3f5-25eb4bf707ad\",\"type\":\"WheelZoomTool\"},{\"attributes\":{\"bottom_units\":\"screen\",\"fill_alpha\":{\"value\":0.5},\"fill_color\":{\"value\":\"lightgrey\"},\"left_units\":\"screen\",\"level\":\"overlay\",\"line_alpha\":{\"value\":1.0},\"line_color\":{\"value\":\"black\"},\"line_dash\":[4,4],\"line_width\":{\"value\":2},\"plot\":null,\"render_mode\":\"css\",\"right_units\":\"screen\",\"top_units\":\"screen\"},\"id\":\"268f7676-3cc6-4dee-9886-ce488024b51b\",\"type\":\"BoxAnnotation\"},{\"attributes\":{},\"id\":\"11662c17-ebba-4f02-a09a-f4e720d35bdb\",\"type\":\"BasicTicker\"},{\"attributes\":{\"callback\":null,\"overlay\":{\"id\":\"c4c26a30-051e-43b3-b21b-b7b996d995d5\",\"type\":\"PolyAnnotation\"},\"plot\":{\"id\":\"479554cb-dade-4de2-a2fb-a965b8d3c83c\",\"subtype\":\"Figure\",\"type\":\"Plot\"}},\"id\":\"0c34cfce-7d53-491e-a286-47186c7d5d2b\",\"type\":\"LassoSelectTool\"},{\"attributes\":{},\"id\":\"748e748d-26f7-4cac-84ee-5b1ee3a708c0\",\"type\":\"BasicTicker\"},{\"attributes\":{\"align\":\"center\",\"plot\":null,\"text\":\"Residual plot on the training data\"},\"id\":\"6b432e4f-4cba-408f-bce3-3068553d013b\",\"type\":\"Title\"},{\"attributes\":{},\"id\":\"f5d909f4-bd54-4dfa-a111-1b5d76aff76b\",\"type\":\"ToolEvents\"},{\"attributes\":{\"plot\":{\"id\":\"479554cb-dade-4de2-a2fb-a965b8d3c83c\",\"subtype\":\"Figure\",\"type\":\"Plot\"}},\"id\":\"9bc342d5-e007-4738-aeff-ca96ecabb34a\",\"type\":\"CrosshairTool\"},{\"attributes\":{\"dimension\":1,\"plot\":{\"id\":\"479554cb-dade-4de2-a2fb-a965b8d3c83c\",\"subtype\":\"Figure\",\"type\":\"Plot\"},\"ticker\":{\"id\":\"748e748d-26f7-4cac-84ee-5b1ee3a708c0\",\"type\":\"BasicTicker\"}},\"id\":\"45b07015-32b5-4638-be71-bde356375bfc\",\"type\":\"Grid\"},{\"attributes\":{\"background_fill_alpha\":{\"value\":0.5},\"background_fill_color\":{\"value\":\"beige\"},\"below\":[{\"id\":\"9ad016b6-da4e-4a99-96c6-61b1ae347dec\",\"type\":\"LinearAxis\"}],\"left\":[{\"id\":\"29940105-349f-402f-b3d6-8b72cf9e6e59\",\"type\":\"LinearAxis\"}],\"plot_height\":500,\"plot_width\":500,\"renderers\":[{\"id\":\"9ad016b6-da4e-4a99-96c6-61b1ae347dec\",\"type\":\"LinearAxis\"},{\"id\":\"33df1f67-5578-46e3-a6c7-3b70e41ce502\",\"type\":\"Grid\"},{\"id\":\"29940105-349f-402f-b3d6-8b72cf9e6e59\",\"type\":\"LinearAxis\"},{\"id\":\"45b07015-32b5-4638-be71-bde356375bfc\",\"type\":\"Grid\"},{\"id\":\"e35bdc7f-da20-4094-b73d-7bdd1e304631\",\"type\":\"BoxAnnotation\"},{\"id\":\"268f7676-3cc6-4dee-9886-ce488024b51b\",\"type\":\"BoxAnnotation\"},{\"id\":\"c4c26a30-051e-43b3-b21b-b7b996d995d5\",\"type\":\"PolyAnnotation\"},{\"id\":\"ceda58d4-3209-4e06-98d7-95b0782cb320\",\"type\":\"PolyAnnotation\"},{\"id\":\"204342a8-94d2-4905-b6fa-860bd10f5765\",\"type\":\"GlyphRenderer\"}],\"title\":{\"id\":\"6b432e4f-4cba-408f-bce3-3068553d013b\",\"type\":\"Title\"},\"tool_events\":{\"id\":\"f5d909f4-bd54-4dfa-a111-1b5d76aff76b\",\"type\":\"ToolEvents\"},\"toolbar\":{\"id\":\"55d63328-1462-4261-a0d5-50aa2c7e707d\",\"type\":\"Toolbar\"},\"x_range\":{\"id\":\"5928a1f6-0f40-486b-b2f0-6d49469bf4a7\",\"type\":\"DataRange1d\"},\"y_range\":{\"id\":\"089ebe7b-19cb-4135-8695-ba30ef196ffa\",\"type\":\"DataRange1d\"}},\"id\":\"479554cb-dade-4de2-a2fb-a965b8d3c83c\",\"subtype\":\"Figure\",\"type\":\"Plot\"},{\"attributes\":{\"callback\":null,\"overlay\":{\"id\":\"268f7676-3cc6-4dee-9886-ce488024b51b\",\"type\":\"BoxAnnotation\"},\"plot\":{\"id\":\"479554cb-dade-4de2-a2fb-a965b8d3c83c\",\"subtype\":\"Figure\",\"type\":\"Plot\"},\"renderers\":[{\"id\":\"204342a8-94d2-4905-b6fa-860bd10f5765\",\"type\":\"GlyphRenderer\"}]},\"id\":\"b12671a2-26e2-4bc8-b369-b8413ca26c95\",\"type\":\"BoxSelectTool\"},{\"attributes\":{\"overlay\":{\"id\":\"ceda58d4-3209-4e06-98d7-95b0782cb320\",\"type\":\"PolyAnnotation\"},\"plot\":{\"id\":\"479554cb-dade-4de2-a2fb-a965b8d3c83c\",\"subtype\":\"Figure\",\"type\":\"Plot\"}},\"id\":\"7361ae85-491e-4ed1-84b8-c31507bc057f\",\"type\":\"PolySelectTool\"},{\"attributes\":{\"bottom_units\":\"screen\",\"fill_alpha\":{\"value\":0.5},\"fill_color\":{\"value\":\"lightgrey\"},\"left_units\":\"screen\",\"level\":\"overlay\",\"line_alpha\":{\"value\":1.0},\"line_color\":{\"value\":\"black\"},\"line_dash\":[4,4],\"line_width\":{\"value\":2},\"plot\":null,\"render_mode\":\"css\",\"right_units\":\"screen\",\"top_units\":\"screen\"},\"id\":\"e35bdc7f-da20-4094-b73d-7bdd1e304631\",\"type\":\"BoxAnnotation\"},{\"attributes\":{\"active_drag\":\"auto\",\"active_scroll\":\"auto\",\"active_tap\":\"auto\",\"tools\":[{\"id\":\"b5499108-b345-4296-8a21-9f525b1e214c\",\"type\":\"BoxZoomTool\"},{\"id\":\"b12671a2-26e2-4bc8-b369-b8413ca26c95\",\"type\":\"BoxSelectTool\"},{\"id\":\"9bc342d5-e007-4738-aeff-ca96ecabb34a\",\"type\":\"CrosshairTool\"},{\"id\":\"fce3fe49-10ce-45c8-a054-755cf39cde46\",\"type\":\"ResizeTool\"},{\"id\":\"3ac28553-aaf5-4a1e-9b20-f76934ea2f41\",\"type\":\"ResetTool\"},{\"id\":\"0c34cfce-7d53-491e-a286-47186c7d5d2b\",\"type\":\"LassoSelectTool\"},{\"id\":\"48cd8795-78f1-48b1-8dfd-f77f3a9d8dac\",\"type\":\"PanTool\"},{\"id\":\"90fe612f-07c3-45e3-b86d-bf65ed907296\",\"type\":\"SaveTool\"},{\"id\":\"7361ae85-491e-4ed1-84b8-c31507bc057f\",\"type\":\"PolySelectTool\"},{\"id\":\"33e67b0b-e584-451b-8348-8f2f82dc8aed\",\"type\":\"TapTool\"},{\"id\":\"f3a3d0fd-72c5-4208-b3f5-25eb4bf707ad\",\"type\":\"WheelZoomTool\"},{\"id\":\"3a535aed-01f9-46ff-bf0d-88cc17653d9a\",\"type\":\"UndoTool\"}]},\"id\":\"55d63328-1462-4261-a0d5-50aa2c7e707d\",\"type\":\"Toolbar\"},{\"attributes\":{\"axis_label\":\"Predicted\",\"axis_label_text_color\":{\"value\":\"#aa6666\"},\"formatter\":{\"id\":\"22e5168b-ceed-44b6-98d7-c2d7b0a38be8\",\"type\":\"BasicTickFormatter\"},\"major_tick_line_color\":{\"value\":\"firebrick\"},\"major_tick_line_width\":{\"value\":3},\"minor_tick_line_color\":{\"value\":\"orange\"},\"plot\":{\"id\":\"479554cb-dade-4de2-a2fb-a965b8d3c83c\",\"subtype\":\"Figure\",\"type\":\"Plot\"},\"ticker\":{\"id\":\"11662c17-ebba-4f02-a09a-f4e720d35bdb\",\"type\":\"BasicTicker\"}},\"id\":\"9ad016b6-da4e-4a99-96c6-61b1ae347dec\",\"type\":\"LinearAxis\"},{\"attributes\":{\"fill_alpha\":{\"value\":0.1},\"fill_color\":{\"value\":\"#1f77b4\"},\"line_alpha\":{\"value\":0.1},\"line_color\":{\"value\":\"#1f77b4\"},\"line_width\":{\"value\":3},\"x\":{\"field\":\"x\"},\"y\":{\"field\":\"y\"}},\"id\":\"cddfa823-f710-4a29-974f-d178028ea919\",\"type\":\"Circle\"},{\"attributes\":{\"data_source\":{\"id\":\"a6bf9fcd-ff1c-44b1-a197-609813e0e65d\",\"type\":\"ColumnDataSource\"},\"glyph\":{\"id\":\"d22a9071-8d5d-4bf1-94c2-00a27f0c208a\",\"type\":\"Circle\"},\"hover_glyph\":null,\"nonselection_glyph\":{\"id\":\"cddfa823-f710-4a29-974f-d178028ea919\",\"type\":\"Circle\"},\"selection_glyph\":null},\"id\":\"204342a8-94d2-4905-b6fa-860bd10f5765\",\"type\":\"GlyphRenderer\"},{\"attributes\":{\"fill_alpha\":{\"value\":0.5},\"fill_color\":{\"value\":\"lightgrey\"},\"level\":\"overlay\",\"line_alpha\":{\"value\":1.0},\"line_color\":{\"value\":\"black\"},\"line_dash\":[4,4],\"line_width\":{\"value\":2},\"plot\":null,\"xs_units\":\"screen\",\"ys_units\":\"screen\"},\"id\":\"c4c26a30-051e-43b3-b21b-b7b996d995d5\",\"type\":\"PolyAnnotation\"},{\"attributes\":{\"fill_alpha\":{\"value\":0.5},\"fill_color\":{\"value\":\"lightgrey\"},\"level\":\"overlay\",\"line_alpha\":{\"value\":1.0},\"line_color\":{\"value\":\"black\"},\"line_dash\":[4,4],\"line_width\":{\"value\":2},\"plot\":null,\"xs_units\":\"screen\",\"ys_units\":\"screen\"},\"id\":\"ceda58d4-3209-4e06-98d7-95b0782cb320\",\"type\":\"PolyAnnotation\"},{\"attributes\":{\"plot\":{\"id\":\"479554cb-dade-4de2-a2fb-a965b8d3c83c\",\"subtype\":\"Figure\",\"type\":\"Plot\"}},\"id\":\"3a535aed-01f9-46ff-bf0d-88cc17653d9a\",\"type\":\"UndoTool\"},{\"attributes\":{\"axis_label\":\"Residuals\",\"axis_label_text_color\":{\"value\":\"#aa6666\"},\"formatter\":{\"id\":\"f327e35d-dd37-44f4-b2ca-360180b75874\",\"type\":\"BasicTickFormatter\"},\"plot\":{\"id\":\"479554cb-dade-4de2-a2fb-a965b8d3c83c\",\"subtype\":\"Figure\",\"type\":\"Plot\"},\"ticker\":{\"id\":\"748e748d-26f7-4cac-84ee-5b1ee3a708c0\",\"type\":\"BasicTicker\"}},\"id\":\"29940105-349f-402f-b3d6-8b72cf9e6e59\",\"type\":\"LinearAxis\"},{\"attributes\":{\"callback\":null,\"plot\":{\"id\":\"479554cb-dade-4de2-a2fb-a965b8d3c83c\",\"subtype\":\"Figure\",\"type\":\"Plot\"}},\"id\":\"33e67b0b-e584-451b-8348-8f2f82dc8aed\",\"type\":\"TapTool\"},{\"attributes\":{\"plot\":{\"id\":\"479554cb-dade-4de2-a2fb-a965b8d3c83c\",\"subtype\":\"Figure\",\"type\":\"Plot\"}},\"id\":\"fce3fe49-10ce-45c8-a054-755cf39cde46\",\"type\":\"ResizeTool\"},{\"attributes\":{},\"id\":\"22e5168b-ceed-44b6-98d7-c2d7b0a38be8\",\"type\":\"BasicTickFormatter\"},{\"attributes\":{\"fill_color\":{\"value\":\"#80B1D3\"},\"line_color\":{\"value\":\"#80B1D3\"},\"line_width\":{\"value\":3},\"x\":{\"field\":\"x\"},\"y\":{\"field\":\"y\"}},\"id\":\"d22a9071-8d5d-4bf1-94c2-00a27f0c208a\",\"type\":\"Circle\"},{\"attributes\":{\"plot\":{\"id\":\"479554cb-dade-4de2-a2fb-a965b8d3c83c\",\"subtype\":\"Figure\",\"type\":\"Plot\"}},\"id\":\"48cd8795-78f1-48b1-8dfd-f77f3a9d8dac\",\"type\":\"PanTool\"},{\"attributes\":{\"callback\":null,\"column_names\":[\"x\",\"y\"],\"data\":{\"x\":[20.423011779785156,49.36625671386719,141.2773895263672,24.202476501464844,71.92686462402344,51.49882125854492,108.9357681274414,20.423011779785156,36.16807174682617,41.9975700378418,125.88042449951172,401.9367370605469,1046.67333984375,43.38658905029297,25.056110382080078,45.800498962402344,71.92686462402344,27.22998046875,245.1281280517578,20.59615135192871,26.62018585205078,36.20226287841797,36.20226287841797,91.8617172241211,36.20226287841797,40.56423568725586,387.7535705566406,47.95197296142578,97.93333435058594,22.053247451782227,122.22932434082031,31.690820693969727,146.5559844970703,20.59615135192871,22.012073516845703,67.40372467041016,38.13866424560547,27.813190460205078,27.813190460205078,22.012073516845703,246.9345245361328,155.98507690429688,21.417278289794922,24.191795349121094,29.20691680908203,82.39429473876953,36.411739349365234,22.012073516845703,26.086261749267578,36.411739349365234,74.41575622558594,22.153120040893555,228.23008728027344,36.681983947753906,26.249523162841797,183.03688049316406,73.40339660644531,23.90558624267578,72.68004608154297,23.90558624267578,25.980361938476562,25.980361938476562,44.59283447265625,284.0655212402344,130.00059509277344,222.2283477783203,105.87431335449219,21.379640579223633,43.55411148071289,919.6339721679688,35.952816009521484,29.783546447753906,115.31704711914062,228.9849090576172,28.396883010864258,449.82427978515625,126.99248504638672,121.56243133544922,74.90218353271484,31.025230407714844,37.554744720458984,35.952816009521484,28.181617736816406,38.64853286743164,133.20567321777344,267.3907470703125,42.656341552734375,22.50251579284668,20.825101852416992,35.89849090576172,155.89498901367188,49.11188888549805,273.1540832519531,25.925981521606445,25.644983291625977,111.17935943603516,31.44029426574707,21.10610008239746,41.60618209838867,214.1332550048828,27.322397232055664,25.925981521606445,58.36391830444336,20.94339370727539,154.31072998046875,36.79140090942383,144.90945434570312,244.5538787841797,112.55433654785156,26.122112274169922,70.75743865966797,28.92201805114746,48.64623260498047,82.56165313720703,30.23061180114746,43.37308883666992,49.01813507080078,37.16330337524414,41.72043991088867,78.76976776123047,93.41209411621094,35.802833557128906,41.43973922729492,50.620384216308594,217.55606079101562,202.3014678955078,25.839458465576172,45.02238082885742,31.17427635192871,58.87565231323242,96.75019836425781,39.01580810546875,41.60481643676758,91.3747787475586,32.72686767578125,21.45761489868164,66.48786926269531,61.55084228515625,67.36461639404297,67.9907455444336,120.15077209472656,25.643070220947266,21.72527313232422,46.57903289794922,22.047252655029297,77.16687774658203,33.54179763793945,273.4267578125,26.232707977294922,963.1491088867188,31.456167221069336,46.87754440307617,35.56746292114258,46.87754440307617,186.8724822998047,39.388648986816406,29.625158309936523,27.192277908325195,38.39714050292969,771.8079833984375,21.02810287475586,238.76239013671875,20.595096588134766,376.3631896972656,25.511640548706055,31.511075973510742,50.65016555786133],\"y\":[0.42301177978515625,-3.6337432861328125,9.277389526367188,-0.7975234985351562,-16.073135375976562,-2.501178741455078,33.935768127441406,3.4230117797851562,8.168071746826172,6.997570037841797,45.88042449951172,41.936737060546875,297.67333984375,2.3865890502929688,-0.9438896179199219,1.8004989624023438,-10.073135375976562,-0.77001953125,-29.871871948242188,2.596151351928711,-0.37981414794921875,2.2022628784179688,8.202262878417969,-10.138282775878906,2.2022628784179688,-1.4357643127441406,-38.246429443359375,-9.048027038574219,-26.066665649414062,3.0532474517822266,-5.7706756591796875,1.6908206939697266,-134.4440155029297,1.596151351928711,3.012073516845703,-18.596275329589844,-6.861335754394531,-1.1868095397949219,-0.18680953979492188,0.012073516845703125,26.934524536132812,29.985076904296875,6.417278289794922,2.1917953491210938,-1.7930831909179688,1.3942947387695312,1.4117393493652344,4.012073516845703,2.086261749267578,-0.5882606506347656,-20.584243774414062,3.1531200408935547,-24.769912719726562,2.6819839477539062,2.249523162841797,1.0368804931640625,-0.5966033935546875,0.9055862426757812,-5.319953918457031,0.9055862426757812,1.9803619384765625,1.9803619384765625,-2.40716552734375,14.065521240234375,17.000595092773438,-30.771652221679688,23.874313354492188,1.3796405792236328,-3.4458885192871094,-58.36602783203125,1.9528160095214844,-1.2164535522460938,-83.68295288085938,57.98490905761719,-4.603116989135742,88.82427978515625,13.992485046386719,4.562431335449219,0.9021835327148438,-1.9747695922851562,-0.4452552795410156,-0.047183990478515625,0.18161773681640625,-2.3514671325683594,16.205673217773438,0.3907470703125,-2.343658447265625,4.50251579284668,-0.1748981475830078,-1.1015090942382812,-34.105010986328125,2.111888885498047,-107.84591674804688,-2.0740184783935547,0.6449832916259766,-4.820640563964844,5.44029426574707,1.106100082397461,6.606182098388672,33.13325500488281,-1.677602767944336,1.9259815216064453,-6.636081695556641,2.9433937072753906,18.31072998046875,2.791400909423828,-12.090545654296875,-8.446121215820312,11.554336547851562,1.1221122741699219,-3.2425613403320312,0.9220180511474609,2.6462326049804688,29.56165313720703,1.230611801147461,-0.6269111633300781,3.0181350708007812,1.1633033752441406,0.7204399108886719,-3.2302322387695312,-44.58790588378906,7.802833557128906,-0.5602607727050781,-11.379615783691406,-48.443939208984375,100.30146789550781,0.8394584655761719,1.0223808288574219,0.17427635192871094,-15.124347686767578,-45.24980163574219,-1.98419189453125,-1.3951835632324219,-27.625221252441406,5.72686767578125,6.457614898681641,-6.5121307373046875,-2.44915771484375,14.364616394042969,-8.009254455566406,0.1507720947265625,1.6430702209472656,1.7252731323242188,-3.4209671020507812,1.0472526550292969,-2.8331222534179688,3.541797637939453,-67.5732421875,2.232707977294922,44.14910888671875,1.456167221069336,-9.122455596923828,1.5674629211425781,-6.122455596923828,11.872482299804688,-7.611351013183594,-2.3748416900634766,4.192277908325195,-0.6028594970703125,-466.1920166015625,1.0281028747558594,11.76239013671875,0.5950965881347656,-5.636810302734375,-0.4883594512939453,3.511075973510742,-16.349834442138672]}},\"id\":\"a6bf9fcd-ff1c-44b1-a197-609813e0e65d\",\"type\":\"ColumnDataSource\"},{\"attributes\":{\"plot\":{\"id\":\"479554cb-dade-4de2-a2fb-a965b8d3c83c\",\"subtype\":\"Figure\",\"type\":\"Plot\"},\"ticker\":{\"id\":\"11662c17-ebba-4f02-a09a-f4e720d35bdb\",\"type\":\"BasicTicker\"}},\"id\":\"33df1f67-5578-46e3-a6c7-3b70e41ce502\",\"type\":\"Grid\"},{\"attributes\":{\"overlay\":{\"id\":\"e35bdc7f-da20-4094-b73d-7bdd1e304631\",\"type\":\"BoxAnnotation\"},\"plot\":{\"id\":\"479554cb-dade-4de2-a2fb-a965b8d3c83c\",\"subtype\":\"Figure\",\"type\":\"Plot\"}},\"id\":\"b5499108-b345-4296-8a21-9f525b1e214c\",\"type\":\"BoxZoomTool\"}],\"root_ids\":[\"479554cb-dade-4de2-a2fb-a965b8d3c83c\"]},\"title\":\"Bokeh Application\",\"version\":\"0.12.2\"}};\n",
       "            var render_items = [{\"docid\":\"3037e92c-2848-4eda-a1e7-2819edaa1171\",\"elementid\":\"7d80d143-2c2c-439c-926b-1418023bcd26\",\"modelid\":\"479554cb-dade-4de2-a2fb-a965b8d3c83c\"}];\n",
       "            \n",
       "            Bokeh.embed.embed_items(docs_json, render_items);\n",
       "        });\n",
       "      },\n",
       "      function(Bokeh) {\n",
       "      }\n",
       "    ];\n",
       "  \n",
       "    function run_inline_js() {\n",
       "      \n",
       "      if ((window.Bokeh !== undefined) || (force === \"1\")) {\n",
       "        for (var i = 0; i < inline_js.length; i++) {\n",
       "          inline_js[i](window.Bokeh);\n",
       "        }if (force === \"1\") {\n",
       "          display_loaded();\n",
       "        }} else if (Date.now() < window._bokeh_timeout) {\n",
       "        setTimeout(run_inline_js, 100);\n",
       "      } else if (!window._bokeh_failed_load) {\n",
       "        console.log(\"Bokeh: BokehJS failed to load within specified timeout.\");\n",
       "        window._bokeh_failed_load = true;\n",
       "      } else if (!force) {\n",
       "        var cell = $(\"#7d80d143-2c2c-439c-926b-1418023bcd26\").parents('.cell').data().cell;\n",
       "        cell.output_area.append_execute_result(NB_LOAD_WARNING)\n",
       "      }\n",
       "  \n",
       "    }\n",
       "  \n",
       "    if (window._bokeh_is_loading === 0) {\n",
       "      console.log(\"Bokeh: BokehJS loaded, going straight to plotting\");\n",
       "      run_inline_js();\n",
       "    } else {\n",
       "      load_libs(js_urls, function() {\n",
       "        console.log(\"Bokeh: BokehJS plotting callback run at\", now());\n",
       "        run_inline_js();\n",
       "      });\n",
       "    }\n",
       "  }(this));\n",
       "</script>"
      ]
     },
     "metadata": {},
     "output_type": "display_data"
    }
   ],
   "source": [
    "# Plotining using bokeh\n",
    "#TOOLS = 'hover,box_zoom,box_select,crosshair,resize,reset,DecisionTreeRegressor_select,pan,save,poly_select,tap,wheel_zoom,undo'\n",
    "TOOLS = 'box_zoom,box_select,crosshair,resize,reset,lasso_select,pan,save,poly_select,tap,wheel_zoom,undo'\n",
    "p = figure(plot_width=500, plot_height=500, title=\"Residual plot on the training data\", tools=TOOLS)\n",
    "p.scatter(predicted, (predicted - Y),x=\"jjj\", marker=\"o\", color=\"#80B1D3\", line_width=3)\n",
    "p.title.align = \"center\"\n",
    "p.xaxis.axis_label = \"Predicted\"\n",
    "p.xaxis.axis_label_text_color = \"#aa6666\"\n",
    "#p.xaxis.axis_label_standoff = 30\n",
    "p.xaxis.major_tick_line_color = \"firebrick\"\n",
    "p.xaxis.major_tick_line_width = 3\n",
    "p.xaxis.minor_tick_line_color = \"orange\"\n",
    "p.yaxis.axis_label = \"Residuals\"\n",
    "p.yaxis.axis_label_text_font_style = \"italic\"\n",
    "p.yaxis.axis_label_text_color = \"#aa6666\"\n",
    "p.background_fill_color = \"beige\"\n",
    "p.background_fill_alpha = 0.5\n",
    "#p.line([2,38], [0, 0], line_dash=\"4 4\", line_width=2, color='red')\n",
    "show(p)"
   ]
  },
  {
   "cell_type": "markdown",
   "metadata": {},
   "source": [
    "## Pipeline"
   ]
  },
  {
   "cell_type": "markdown",
   "metadata": {},
   "source": [
    "The best to deliver the model by pipeline the operation then at deployment can be done in one model."
   ]
  },
  {
   "cell_type": "markdown",
   "metadata": {
    "collapsed": true
   },
   "source": [
    "  I used two ways to check the pipeline so any one can be fine"
   ]
  },
  {
   "cell_type": "code",
   "execution_count": 23,
   "metadata": {
    "collapsed": false
   },
   "outputs": [
    {
     "name": "stdout",
     "output_type": "stream",
     "text": [
      "0.997635509306\n",
      "Scoring according to mean_squared_error\n",
      "[ -5542.83202734  -1260.52819256   -148.56664622   -158.02325497\n",
      "  -1305.26435424   -825.42764484    -97.24723884  -1104.76958763\n",
      "   -432.62870626 -13633.25286074]\n",
      "\n",
      " Mean      Standard deviation\n",
      "-2450.85      4024.42\n",
      "[ True  True  True  True  True  True  True]\n",
      "R-squared =  0.997635509306\n"
     ]
    }
   ],
   "source": [
    "# Use Pipeline\n",
    "# ANOVA \n",
    "from sklearn.pipeline import Pipeline\n",
    "from sklearn.feature_selection import SelectKBest, f_regression\n",
    "anova_filter = SelectKBest(f_regression, k=7)\n",
    "LR = model\n",
    "\n",
    "anova_LinReg = Pipeline([ ('anova', anova_filter), ('LinReg', LR)])\n",
    "# You can set the parameters using the names issued\n",
    "# For instance, fit using a k of 10 in the SelectKBest\n",
    "anova_LinReg.set_params(anova__k=7).fit(new_data, Y)\n",
    "prediction = anova_LinReg.predict(new_data)\n",
    "print anova_LinReg.score(new_data, Y)                        \n",
    "# getting the selected features chosen by anova_filter\n",
    "results = cross_validation.cross_val_score(anova_LinReg, new_data, Y, cv=kfold, scoring=scoring)\n",
    "print 'Scoring according to mean_squared_error'\n",
    "print results\n",
    "print '\\n Mean      Standard deviation'\n",
    "print(\"%.2f      %.2f\" % (results.mean(), results.std()))\n",
    "print anova_LinReg.named_steps['anova'].get_support()\n",
    "r_squared = r2_score(Y, prediction, multioutput='variance_weighted')\n",
    "print 'R-squared = ',r_squared"
   ]
  },
  {
   "cell_type": "code",
   "execution_count": 24,
   "metadata": {
    "collapsed": false
   },
   "outputs": [
    {
     "name": "stdout",
     "output_type": "stream",
     "text": [
      "R-squared =  0.997635509306\n"
     ]
    }
   ],
   "source": [
    "# Using make_pipeline\n",
    "from sklearn.pipeline import make_pipeline\n",
    "\n",
    "# ANOVA SVM-C\n",
    "# 1) anova filter, take 3 best ranked features\n",
    "anova_filter = SelectKBest(f_regression, k=7)\n",
    "anova_Xgboost_NotProcessing = make_pipeline( anova_filter, LR)\n",
    "anova_Xgboost_NotProcessing.fit(new_data, Y)\n",
    "prediction = anova_Xgboost_NotProcessing.predict(new_data)\n",
    "r_squared = r2_score(Y, prediction, multioutput='variance_weighted')\n",
    "print 'R-squared = ',r_squared"
   ]
  },
  {
   "cell_type": "markdown",
   "metadata": {},
   "source": [
    "### Save the Pipeline model for developement"
   ]
  },
  {
   "cell_type": "code",
   "execution_count": 25,
   "metadata": {
    "collapsed": false
   },
   "outputs": [
    {
     "data": {
      "text/plain": [
       "['anova_Xgboost_NotProcessing.pkl',\n",
       " 'anova_Xgboost_NotProcessing.pkl_01.npy',\n",
       " 'anova_Xgboost_NotProcessing.pkl_02.npy']"
      ]
     },
     "execution_count": 25,
     "metadata": {},
     "output_type": "execute_result"
    }
   ],
   "source": [
    "# save the model scaler to the desk\n",
    "from sklearn.externals import joblib\n",
    "joblib.dump(anova_Xgboost_NotProcessing, 'anova_Xgboost_NotProcessing.pkl') "
   ]
  },
  {
   "cell_type": "code",
   "execution_count": 26,
   "metadata": {
    "collapsed": false
   },
   "outputs": [
    {
     "name": "stdout",
     "output_type": "stream",
     "text": [
      " =================================================================>>>>> done\n",
      "R-squared =  0.997635509306\n"
     ]
    }
   ],
   "source": [
    "# Test the model if it is work\n",
    "anova_DecisionTreeRegressorTest = joblib.load('anova_Xgboost_NotProcessing.pkl')\n",
    "NewPred = anova_DecisionTreeRegressorTest.predict(new_data)\n",
    "print \" =================================================================>>>>> done\"\n",
    "r_squared = r2_score(Y, NewPred, multioutput='variance_weighted')\n",
    "print 'R-squared = ',r_squared"
   ]
  },
  {
   "cell_type": "code",
   "execution_count": 27,
   "metadata": {
    "collapsed": false
   },
   "outputs": [
    {
     "name": "stdout",
     "output_type": "stream",
     "text": [
      "Point of training data before normalization\n",
      "[   50  2000 32000    24     6    26   114]\n",
      "\n",
      "The read target of the data =  182\n",
      "\n",
      "The Predicted target of the data =  [ 182.00570679]\n"
     ]
    }
   ],
   "source": [
    "# test on single data point, randomly choose point number 55\n",
    "print 'Point of training data before normalization\\n',new_data[55]\n",
    "print '\\nThe read target of the data = ', Y[55]\n",
    "NewPred = anova_DecisionTreeRegressorTest.predict([new_data[55]])\n",
    "print '\\nThe Predicted target of the data = ', NewPred"
   ]
  },
  {
   "cell_type": "markdown",
   "metadata": {},
   "source": [
    "## Conclusion "
   ]
  }
 ],
 "metadata": {
  "kernelspec": {
   "display_name": "Python 2",
   "language": "python",
   "name": "python2"
  },
  "language_info": {
   "codemirror_mode": {
    "name": "ipython",
    "version": 2
   },
   "file_extension": ".py",
   "mimetype": "text/x-python",
   "name": "python",
   "nbconvert_exporter": "python",
   "pygments_lexer": "ipython2",
   "version": "2.7.12"
  }
 },
 "nbformat": 4,
 "nbformat_minor": 0
}
