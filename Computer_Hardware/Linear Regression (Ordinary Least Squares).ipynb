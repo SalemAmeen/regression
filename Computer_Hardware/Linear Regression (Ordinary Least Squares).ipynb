{
 "cells": [
  {
   "cell_type": "markdown",
   "metadata": {},
   "source": [
    "Salem Ameen, PhD student at Salford University\n",
    "\n",
    "### COMPUTER HARDWARE\n",
    "\n",
    "LINEAR REGRESSION"
   ]
  },
  {
   "cell_type": "markdown",
   "metadata": {},
   "source": [
    "# Import the Libraries"
   ]
  },
  {
   "cell_type": "code",
   "execution_count": 1,
   "metadata": {
    "collapsed": false
   },
   "outputs": [
    {
     "data": {
      "text/html": [
       "\n",
       "    <div class=\"bk-root\">\n",
       "        <a href=\"http://bokeh.pydata.org\" target=\"_blank\" class=\"bk-logo bk-logo-small bk-logo-notebook\"></a>\n",
       "        <span id=\"b54a48b4-e096-4228-8153-06411802c38b\">Loading BokehJS ...</span>\n",
       "    </div>"
      ]
     },
     "metadata": {},
     "output_type": "display_data"
    },
    {
     "data": {
      "application/javascript": [
       "\n",
       "(function(global) {\n",
       "  function now() {\n",
       "    return new Date();\n",
       "  }\n",
       "\n",
       "  var force = \"1\";\n",
       "\n",
       "  if (typeof (window._bokeh_onload_callbacks) === \"undefined\" || force !== \"\") {\n",
       "    window._bokeh_onload_callbacks = [];\n",
       "    window._bokeh_is_loading = undefined;\n",
       "  }\n",
       "\n",
       "\n",
       "  \n",
       "  if (typeof (window._bokeh_timeout) === \"undefined\" || force !== \"\") {\n",
       "    window._bokeh_timeout = Date.now() + 5000;\n",
       "    window._bokeh_failed_load = false;\n",
       "  }\n",
       "\n",
       "  var NB_LOAD_WARNING = {'data': {'text/html':\n",
       "     \"<div style='background-color: #fdd'>\\n\"+\n",
       "     \"<p>\\n\"+\n",
       "     \"BokehJS does not appear to have successfully loaded. If loading BokehJS from CDN, this \\n\"+\n",
       "     \"may be due to a slow or bad network connection. Possible fixes:\\n\"+\n",
       "     \"</p>\\n\"+\n",
       "     \"<ul>\\n\"+\n",
       "     \"<li>re-rerun `output_notebook()` to attempt to load from CDN again, or</li>\\n\"+\n",
       "     \"<li>use INLINE resources instead, as so:</li>\\n\"+\n",
       "     \"</ul>\\n\"+\n",
       "     \"<code>\\n\"+\n",
       "     \"from bokeh.resources import INLINE\\n\"+\n",
       "     \"output_notebook(resources=INLINE)\\n\"+\n",
       "     \"</code>\\n\"+\n",
       "     \"</div>\"}};\n",
       "\n",
       "  function display_loaded() {\n",
       "    if (window.Bokeh !== undefined) {\n",
       "      Bokeh.$(\"#b54a48b4-e096-4228-8153-06411802c38b\").text(\"BokehJS successfully loaded.\");\n",
       "    } else if (Date.now() < window._bokeh_timeout) {\n",
       "      setTimeout(display_loaded, 100)\n",
       "    }\n",
       "  }\n",
       "\n",
       "  function run_callbacks() {\n",
       "    window._bokeh_onload_callbacks.forEach(function(callback) { callback() });\n",
       "    delete window._bokeh_onload_callbacks\n",
       "    console.info(\"Bokeh: all callbacks have finished\");\n",
       "  }\n",
       "\n",
       "  function load_libs(js_urls, callback) {\n",
       "    window._bokeh_onload_callbacks.push(callback);\n",
       "    if (window._bokeh_is_loading > 0) {\n",
       "      console.log(\"Bokeh: BokehJS is being loaded, scheduling callback at\", now());\n",
       "      return null;\n",
       "    }\n",
       "    if (js_urls == null || js_urls.length === 0) {\n",
       "      run_callbacks();\n",
       "      return null;\n",
       "    }\n",
       "    console.log(\"Bokeh: BokehJS not loaded, scheduling load and callback at\", now());\n",
       "    window._bokeh_is_loading = js_urls.length;\n",
       "    for (var i = 0; i < js_urls.length; i++) {\n",
       "      var url = js_urls[i];\n",
       "      var s = document.createElement('script');\n",
       "      s.src = url;\n",
       "      s.async = false;\n",
       "      s.onreadystatechange = s.onload = function() {\n",
       "        window._bokeh_is_loading--;\n",
       "        if (window._bokeh_is_loading === 0) {\n",
       "          console.log(\"Bokeh: all BokehJS libraries loaded\");\n",
       "          run_callbacks()\n",
       "        }\n",
       "      };\n",
       "      s.onerror = function() {\n",
       "        console.warn(\"failed to load library \" + url);\n",
       "      };\n",
       "      console.log(\"Bokeh: injecting script tag for BokehJS library: \", url);\n",
       "      document.getElementsByTagName(\"head\")[0].appendChild(s);\n",
       "    }\n",
       "  };var element = document.getElementById(\"b54a48b4-e096-4228-8153-06411802c38b\");\n",
       "  if (element == null) {\n",
       "    console.log(\"Bokeh: ERROR: autoload.js configured with elementid 'b54a48b4-e096-4228-8153-06411802c38b' but no matching script tag was found. \")\n",
       "    return false;\n",
       "  }\n",
       "\n",
       "  var js_urls = ['https://cdn.pydata.org/bokeh/release/bokeh-0.12.2.min.js', 'https://cdn.pydata.org/bokeh/release/bokeh-widgets-0.12.2.min.js', 'https://cdn.pydata.org/bokeh/release/bokeh-compiler-0.12.2.min.js'];\n",
       "\n",
       "  var inline_js = [\n",
       "    function(Bokeh) {\n",
       "      Bokeh.set_log_level(\"info\");\n",
       "    },\n",
       "    \n",
       "    function(Bokeh) {\n",
       "      \n",
       "      Bokeh.$(\"#b54a48b4-e096-4228-8153-06411802c38b\").text(\"BokehJS is loading...\");\n",
       "    },\n",
       "    function(Bokeh) {\n",
       "      console.log(\"Bokeh: injecting CSS: https://cdn.pydata.org/bokeh/release/bokeh-0.12.2.min.css\");\n",
       "      Bokeh.embed.inject_css(\"https://cdn.pydata.org/bokeh/release/bokeh-0.12.2.min.css\");\n",
       "      console.log(\"Bokeh: injecting CSS: https://cdn.pydata.org/bokeh/release/bokeh-widgets-0.12.2.min.css\");\n",
       "      Bokeh.embed.inject_css(\"https://cdn.pydata.org/bokeh/release/bokeh-widgets-0.12.2.min.css\");\n",
       "    }\n",
       "  ];\n",
       "\n",
       "  function run_inline_js() {\n",
       "    \n",
       "    if ((window.Bokeh !== undefined) || (force === \"1\")) {\n",
       "      for (var i = 0; i < inline_js.length; i++) {\n",
       "        inline_js[i](window.Bokeh);\n",
       "      }if (force === \"1\") {\n",
       "        display_loaded();\n",
       "      }} else if (Date.now() < window._bokeh_timeout) {\n",
       "      setTimeout(run_inline_js, 100);\n",
       "    } else if (!window._bokeh_failed_load) {\n",
       "      console.log(\"Bokeh: BokehJS failed to load within specified timeout.\");\n",
       "      window._bokeh_failed_load = true;\n",
       "    } else if (!force) {\n",
       "      var cell = $(\"#b54a48b4-e096-4228-8153-06411802c38b\").parents('.cell').data().cell;\n",
       "      cell.output_area.append_execute_result(NB_LOAD_WARNING)\n",
       "    }\n",
       "\n",
       "  }\n",
       "\n",
       "  if (window._bokeh_is_loading === 0) {\n",
       "    console.log(\"Bokeh: BokehJS loaded, going straight to plotting\");\n",
       "    run_inline_js();\n",
       "  } else {\n",
       "    load_libs(js_urls, function() {\n",
       "      console.log(\"Bokeh: BokehJS plotting callback run at\", now());\n",
       "      run_inline_js();\n",
       "    });\n",
       "  }\n",
       "}(this));"
      ]
     },
     "metadata": {},
     "output_type": "display_data"
    }
   ],
   "source": [
    "import numpy as np\n",
    "import pandas\n",
    "from numpy import *\n",
    "import time\n",
    "import sys\n",
    "import pandas as pd\n",
    "import matplotlib.pyplot as plt\n",
    "from sklearn import feature_selection\n",
    "from sklearn.linear_model import LinearRegression\n",
    "from sklearn.learning_curve import learning_curve\n",
    "from sklearn.cross_validation import cross_val_predict\n",
    "from sklearn import metrics, grid_search, cross_validation\n",
    "from IPython.display import set_matplotlib_formats\n",
    "from bokeh.plotting import figure, show, output_notebook\n",
    "from sklearn.metrics import r2_score\n",
    "from bokeh.layouts import gridplot\n",
    "output_notebook()\n",
    "set_matplotlib_formats('png', 'pdf')\n",
    "%matplotlib inline\n",
    "plt.rcParams['figure.figsize'] = (6, 6)"
   ]
  },
  {
   "cell_type": "markdown",
   "metadata": {},
   "source": [
    "# Load data"
   ]
  },
  {
   "cell_type": "markdown",
   "metadata": {},
   "source": [
    "In the previous file we have not change the data as there is no missing value or add any new parameters so it can be downloaded from the web directly. "
   ]
  },
  {
   "cell_type": "code",
   "execution_count": 2,
   "metadata": {
    "collapsed": false
   },
   "outputs": [
    {
     "name": "stdout",
     "output_type": "stream",
     "text": [
      "Number of examples 209\n"
     ]
    }
   ],
   "source": [
    "url = 'http://archive.ics.uci.edu/ml/machine-learning-databases/cpu-performance/machine.data'\n",
    "names = ['vendor', 'Model', 'MYCT', 'MMIN', 'MMAX', 'CACH', 'CHMIN','CHMAX','PRP','ERP']\n",
    "feature_names = ['MYCT', 'MMIN', 'MMAX', 'CACH', 'CHMIN','CHMAX','PRP','ERP']\n",
    "feature_cols = ['MYCT', 'MMIN', 'MMAX', 'CACH', 'CHMIN','CHMAX','PRP','ERP']\n",
    "data = pd.read_csv(url, sep=',', names = names)\n",
    "data = data.drop('vendor',1)\n",
    "data = data.drop('Model',1)\n",
    "\n",
    "from sklearn import preprocessing\n",
    "\n",
    "def number_encode_features(df):\n",
    "    result = df.copy()\n",
    "    encoders = {}\n",
    "    for column in result.columns:\n",
    "        if result.dtypes[column] == np.object:\n",
    "            encoders[column] = preprocessing.LabelEncoder()\n",
    "            result[column] = encoders[column].fit_transform(result[column])\n",
    "    return result, encoders\n",
    "\n",
    "data, _ = number_encode_features(data)\n",
    "\n",
    "dataset = data.values\n",
    "X = dataset[:,0:7]\n",
    "Y = dataset[:,7]\n",
    "print 'Number of examples',len(X)"
   ]
  },
  {
   "cell_type": "code",
   "execution_count": 3,
   "metadata": {
    "collapsed": false
   },
   "outputs": [
    {
     "name": "stdout",
     "output_type": "stream",
     "text": [
      "Number of training examples 167\n",
      "Number of validation examples 42\n"
     ]
    }
   ],
   "source": [
    "# Make developement dataset for genrilization and final testing\n",
    "from sklearn.cross_validation import train_test_split\n",
    "# Extracting 20% testing data\n",
    "X_train, X_test, y_train, y_test = train_test_split(\n",
    "    X, Y, test_size=0.20, random_state=0)\n",
    "X = X_train\n",
    "Y = y_train\n",
    "new_data      = X_train\n",
    "new_test_data = X_test\n",
    "print 'Number of training examples',len(X_train)\n",
    "print 'Number of validation examples',len(X_test)"
   ]
  },
  {
   "cell_type": "markdown",
   "metadata": {},
   "source": [
    "Number of training data is very small so we need to use cross validation instead of spareate another validation data."
   ]
  },
  {
   "cell_type": "markdown",
   "metadata": {},
   "source": [
    "From the previous visulization the data has no missing value but has many outlier and some sparisty"
   ]
  },
  {
   "cell_type": "markdown",
   "metadata": {},
   "source": [
    "# Ranking of the feature's importance to the target"
   ]
  },
  {
   "cell_type": "code",
   "execution_count": 4,
   "metadata": {
    "collapsed": false
   },
   "outputs": [
    {
     "name": "stdout",
     "output_type": "stream",
     "text": [
      "MYCT \t0.0831720238718\n",
      "MMIN \t0.671238633039\n",
      "MMAX \t0.812165716057\n",
      "CACH \t0.420708235676\n",
      "CHMIN \t0.372808206823\n",
      "CHMAX \t0.350648212855\n",
      "PRP \t0.934067466575\n",
      "ERP \t1.0\n"
     ]
    }
   ],
   "source": [
    "# Using just correlation coefficient even in prevoius file we show them using data frame\n",
    "for col in feature_cols:\n",
    "    lm = LinearRegression(fit_intercept=True)\n",
    "    lm.fit(data[[col]], data['ERP'])\n",
    "    print col,'\\t', lm.score(data[[col]], data['ERP'])"
   ]
  },
  {
   "cell_type": "code",
   "execution_count": 5,
   "metadata": {
    "collapsed": false
   },
   "outputs": [
    {
     "name": "stdout",
     "output_type": "stream",
     "text": [
      "Feature Name      Score         Pvalue\n",
      "MYCT \t\t18.7784506906 \t2.28953652773e-05\n",
      "MMIN \t\t422.636024187 \t6.7010130085e-52\n",
      "MMAX \t\t895.035239011 \t4.20559221576e-77\n",
      "CACH \t\t150.332889484 \t2.4462451136e-26\n",
      "CHMIN \t\t123.042583867 \t9.66488661491e-23\n",
      "CHMAX \t\t111.779441433 \t3.62169179267e-21\n",
      "PRP \t\t2932.57297327 \t3.42704839853e-124\n",
      "ERP \t\tinf \t0.0\n"
     ]
    }
   ],
   "source": [
    "# Randing the important features to the target\n",
    "model = feature_selection.SelectKBest(score_func=feature_selection.f_regression,k=4)\n",
    "results = model.fit(data[feature_cols], data['ERP'])\n",
    "k=0\n",
    "print 'Feature Name      Score         Pvalue'\n",
    "for feat in feature_cols:\n",
    "    print feat,'\\t\\t',results.scores_[k],'\\t',results.pvalues_[k]\n",
    "    k=k+1\n"
   ]
  },
  {
   "cell_type": "markdown",
   "metadata": {},
   "source": [
    "# Set the parameters for cross validation"
   ]
  },
  {
   "cell_type": "code",
   "execution_count": 6,
   "metadata": {
    "collapsed": true
   },
   "outputs": [],
   "source": [
    "num_folds = 10\n",
    "num_instances = len(X)\n",
    "seed = 7\n",
    "kfold = cross_validation.KFold(n=num_instances, n_folds=num_folds, random_state=seed)"
   ]
  },
  {
   "cell_type": "markdown",
   "metadata": {},
   "source": [
    " # Set the parameters for bias-variance dilemma"
   ]
  },
  {
   "cell_type": "code",
   "execution_count": 7,
   "metadata": {
    "collapsed": false
   },
   "outputs": [],
   "source": [
    "def plot_learning_curve(estimator, title, X, y, ylim=None, cv=None,\n",
    "                        n_jobs=1, train_sizes=np.linspace(.1, 1.0, 5)):\n",
    "    plt.figure()\n",
    "    plt.title(title)\n",
    "    if ylim is not None:\n",
    "        plt.ylim(*ylim)\n",
    "    plt.xlabel(\"Training examples\")\n",
    "    plt.ylabel(\"Score\")\n",
    "    train_sizes, train_scores, test_scores = learning_curve(\n",
    "        estimator, X, y, cv=cv, n_jobs=n_jobs, train_sizes=train_sizes)\n",
    "    train_scores_mean = np.mean(train_scores, axis=1)\n",
    "    train_scores_std = np.std(train_scores, axis=1)\n",
    "    test_scores_mean = np.mean(test_scores, axis=1)\n",
    "    test_scores_std = np.std(test_scores, axis=1)\n",
    "    plt.grid()\n",
    "\n",
    "    plt.fill_between(train_sizes, train_scores_mean - train_scores_std,\n",
    "                     train_scores_mean + train_scores_std, alpha=0.1,\n",
    "                     color=\"r\")\n",
    "    plt.fill_between(train_sizes, test_scores_mean - test_scores_std,\n",
    "                     test_scores_mean + test_scores_std, alpha=0.1, color=\"g\")\n",
    "    plt.plot(train_sizes, train_scores_mean, 'o-', color=\"r\",\n",
    "             label=\"Training score\")\n",
    "    plt.plot(train_sizes, test_scores_mean, 'o-', color=\"g\",\n",
    "             label=\"Cross-validation score\")\n",
    "\n",
    "    plt.legend(loc=\"best\")\n",
    "    return plt"
   ]
  },
  {
   "cell_type": "markdown",
   "metadata": {},
   "source": [
    "# Preprocessing the data and save the model and preprocessed data"
   ]
  },
  {
   "cell_type": "code",
   "execution_count": 8,
   "metadata": {
    "collapsed": false
   },
   "outputs": [
    {
     "name": "stderr",
     "output_type": "stream",
     "text": [
      "/home/salm/anaconda2/lib/python2.7/site-packages/sklearn/utils/validation.py:420: DataConversionWarning: Data with input dtype int64 was converted to float64 by StandardScaler.\n",
      "  warnings.warn(msg, DataConversionWarning)\n"
     ]
    }
   ],
   "source": [
    "# According to the nature of the data spasity and there is outliter RobustScaler class is recomandit \n",
    "# but when I tried both of them the result seems is same\n",
    "from sklearn.preprocessing import StandardScaler\n",
    "scaler = preprocessing.StandardScaler().fit(X_train)"
   ]
  },
  {
   "cell_type": "code",
   "execution_count": 9,
   "metadata": {
    "collapsed": false
   },
   "outputs": [
    {
     "name": "stderr",
     "output_type": "stream",
     "text": [
      "/home/salm/anaconda2/lib/python2.7/site-packages/sklearn/utils/validation.py:420: DataConversionWarning: Data with input dtype int64 was converted to float64 by StandardScaler.\n",
      "  warnings.warn(msg, DataConversionWarning)\n",
      "/home/salm/anaconda2/lib/python2.7/site-packages/sklearn/utils/validation.py:420: DataConversionWarning: Data with input dtype int64 was converted to float64 by StandardScaler.\n",
      "  warnings.warn(msg, DataConversionWarning)\n"
     ]
    }
   ],
   "source": [
    "X_train = scaler.transform(X_train)\n",
    "X_test = scaler.transform(X_test) # use same transform for testing data\n",
    "X = X_train"
   ]
  },
  {
   "cell_type": "code",
   "execution_count": 10,
   "metadata": {
    "collapsed": true
   },
   "outputs": [],
   "source": [
    "# save transformed data\n",
    "np.save('./data/X_train', X_train)\n",
    "np.save('./data/y_train', y_train)\n",
    "np.save('./data/X_test', X_test)\n",
    "np.save('./data/y_test', y_test)"
   ]
  },
  {
   "cell_type": "code",
   "execution_count": 11,
   "metadata": {
    "collapsed": false
   },
   "outputs": [
    {
     "data": {
      "text/plain": [
       "['scaler.pkl', 'scaler.pkl_01.npy', 'scaler.pkl_02.npy', 'scaler.pkl_03.npy']"
      ]
     },
     "execution_count": 11,
     "metadata": {},
     "output_type": "execute_result"
    }
   ],
   "source": [
    "# save the model scaler to the desk\n",
    "from sklearn.externals import joblib\n",
    "joblib.dump(scaler, 'scaler.pkl') "
   ]
  },
  {
   "cell_type": "code",
   "execution_count": 12,
   "metadata": {
    "collapsed": false
   },
   "outputs": [
    {
     "name": "stdout",
     "output_type": "stream",
     "text": [
      " =================================================================>>>>> done\n",
      "[[-0.59364305 -0.20866821 -0.31349377  0.98611582 -0.51650809 -0.39068313\n",
      "  -0.09019932]\n",
      " [ 0.43869005 -0.4699337  -0.72397006 -0.63206819 -0.38024134 -0.53321526\n",
      "  -0.54180082]\n",
      " [-0.6318776  -0.04668361 -0.10989753  0.11478597  0.98242613  0.17944539\n",
      "  -0.26252094]\n",
      " [-0.72364055  1.35892472  1.65679241  0.96122068  0.43735914  0.46450965\n",
      "   1.25272091]\n",
      " [-0.55540849  0.31386277  0.01488726 -0.43290708  0.16482565 -0.39068313\n",
      "  -0.19121544]\n",
      " [ 0.43869005 -0.4699337  -0.80606531 -0.63206819 -0.51650809 -0.60448133\n",
      "  -0.54180082]\n",
      " [-0.13482833 -0.20866821  0.34326829 -0.23374597 -0.51650809 -0.4619492\n",
      "  -0.24469457]\n",
      " [ 4.91213348 -0.53054729 -0.88816057 -0.63206819 -0.65277484 -0.67574739\n",
      "  -0.56556931]\n",
      " [-0.28776657 -0.20866821  1.65679241  0.16457625 -0.51650809  1.24843637\n",
      "   0.2009648 ]\n",
      " [-0.63952452  0.31386277  1.00003035  0.16457625  0.43735914  0.17944539\n",
      "   0.63473992]\n",
      " [-0.31453076 -0.4699337  -0.31349377 -0.40801194 -0.2439746  -0.248151\n",
      "  -0.20904182]\n",
      " [-0.70834672  3.44904862  1.65679241  5.74108728  1.52749312  0.17944539\n",
      "   2.39360889]\n",
      " [-0.28776657 -0.4699337   0.34326829 -0.23374597 -0.51650809 -0.56884829\n",
      "   0.18313842]\n",
      " [-0.5974665   1.35892472  0.34326829  0.96122068  0.98242613  0.17944539\n",
      "   0.48024467]\n",
      " [-0.72364055  3.44904862  1.65679241  0.96122068  0.43735914  0.17944539\n",
      "   2.12621327]\n",
      " [-0.28776657 -0.20866821 -0.6418748  -0.63206819 -0.10770785 -0.39068313\n",
      "  -0.39918982]\n",
      " [-0.44835172 -0.4699337  -0.31349377  0.16457625 -0.38024134 -0.39068313\n",
      "  -0.36353707]\n",
      " [-0.6318776  -0.4699337  -0.6418748  -0.43290708 -0.51650809 -0.49758223\n",
      "  -0.46455319]\n",
      " [-0.47893937 -0.66431522 -0.88816057 -0.63206819 -0.2439746  -0.31941706\n",
      "  -0.53585869]\n",
      " [-0.2762962  -0.4699337  -0.80606531 -0.63206819  0.0285589  -0.10561887\n",
      "  -0.45266894]\n",
      " [-0.05835922 -0.4699337  -0.80606531 -0.63206819 -0.51650809 -0.60448133\n",
      "  -0.48832169]\n",
      " [-0.05835922 -0.59743125  0.34326829 -0.63206819 -0.10770785  0.46450965\n",
      "  -0.42890044]\n",
      " [-0.73511091  3.44904862  1.65679241  0.96122068  1.52749312  0.46450965\n",
      "   2.26882427]\n",
      " [-0.40247025 -0.4699337   0.01488726 -0.23374597 -0.51650809 -0.60448133\n",
      "  -0.28034732]\n",
      " [-0.28776657 -0.20866821 -0.6418748  -0.43290708 -0.51650809  0.03691326\n",
      "  -0.50614807]\n",
      " [-0.6318776  -0.20866821  0.34326829 -0.33332653 -0.2439746  -0.10561887\n",
      "  -0.36947919]\n",
      " [-0.6318776  -0.20866821 -0.6418748  -0.63206819 -0.2439746  -0.4619492\n",
      "  -0.47643744]\n",
      " [ 2.23571434 -0.53054729 -0.80606531 -0.63206819 -0.65277484 -0.67574739\n",
      "  -0.51803232]\n",
      " [-0.5018801  -0.4699337  -0.80606531 -0.63206819 -0.51650809 -0.4619492\n",
      "  -0.56556931]\n",
      " [-0.42158753 -0.20866821 -0.47768428 -0.23374597  0.16482565 -0.10561887\n",
      "  -0.44078469]\n",
      " [ 0.32398638 -0.53054729  0.01488726 -0.48269736  0.16482565  0.17944539\n",
      "  -0.33976857]\n",
      " [-0.54776157 -0.20866821 -0.31349377 -0.23374597  0.16482565 -0.39068313\n",
      "  -0.0129517 ]\n",
      " [-0.38335297 -0.20866821 -0.31349377 -0.23374597 -0.51650809 -0.56884829\n",
      "  -0.33976857]\n",
      " [-0.53629121  0.05259728 -0.31349377 -0.43290708 -0.2439746   1.03463817\n",
      "  -0.25657882]\n",
      " [-0.62423069  0.31386277  0.34326829  0.16457625 -0.10770785 -0.248151\n",
      "   0.13560143]\n",
      " [-0.59364305 -0.20866821  0.34326829  0.96122068  0.0285589  -0.39068313\n",
      "  -0.19715757]\n",
      " [-0.21129745 -0.59743125 -0.6418748  -0.58227791 -0.51650809 -0.49758223\n",
      "  -0.45861107]\n",
      " [-0.727464   -0.20866821  0.01488726 -0.43290708 -0.51650809 -0.53321526\n",
      "  -0.34571069]\n",
      " [-0.18453326 -0.59429607 -0.80606531 -0.43290708 -0.10770785 -0.1412519\n",
      "  -0.52397444]\n",
      " [-0.6318776  -0.20866821  0.34326829 -0.03458486  0.16482565 -0.10561887\n",
      "  -0.31600007]\n",
      " [-0.72364055  1.35892472  1.00003035  0.16457625  0.43735914 -0.10561887\n",
      "   0.3911128 ]\n",
      " [-0.2762962  -0.13028856 -0.46126523 -0.63206819  0.16482565  1.6047667\n",
      "  -0.27440519]]\n"
     ]
    },
    {
     "name": "stderr",
     "output_type": "stream",
     "text": [
      "/home/salm/anaconda2/lib/python2.7/site-packages/sklearn/utils/validation.py:420: DataConversionWarning: Data with input dtype int64 was converted to float64 by StandardScaler.\n",
      "  warnings.warn(msg, DataConversionWarning)\n"
     ]
    }
   ],
   "source": [
    "# Test the model if it is work\n",
    "scalerTest = joblib.load('scaler.pkl')\n",
    "new_data_scaled = scalerTest.transform(new_test_data)\n",
    "print \" =================================================================>>>>> done\"\n",
    "print new_data_scaled"
   ]
  },
  {
   "cell_type": "markdown",
   "metadata": {},
   "source": [
    "# 1. Linear Regression"
   ]
  },
  {
   "cell_type": "markdown",
   "metadata": {},
   "source": [
    "Linear regression assumes that the input variables have a Gaussian distribution. It is also assumed that input variables are relevant to the output variable and that they are not highly correlated with each other (a problem called collinearity).\n",
    "\n"
   ]
  },
  {
   "cell_type": "markdown",
   "metadata": {},
   "source": [
    "## Learning Curve "
   ]
  },
  {
   "cell_type": "markdown",
   "metadata": {},
   "source": [
    "In essence, what we’re doing it training the exact same model with increasingly large fractions of our total training data, and plotting the error of the training and test sets at each step."
   ]
  },
  {
   "cell_type": "code",
   "execution_count": 13,
   "metadata": {
    "collapsed": false
   },
   "outputs": [
    {
     "data": {
      "image/png": "[encoded data removed]",
      "text/plain": [
       "<matplotlib.figure.Figure at 0x7f2eeb790450>"
      ]
     },
     "metadata": {},
     "output_type": "display_data"
    }
   ],
   "source": [
    "from sklearn.linear_model import LinearRegression\n",
    "model = LinearRegression()\n",
    "title = \"Learning Curves (Linear Refression)\"\n",
    "# Cross validation with 100 iterations to get smoother mean test and train\n",
    "# score curves, each time with 20% data randomly selected as a validation set.\n",
    "cv = cross_validation.ShuffleSplit(X.shape[0], n_iter=100,\n",
    "                                   test_size=0.2, random_state=0)\n",
    "plot_learning_curve(model, title, X, Y, ylim=(0.2, 1.01), cv=cv, n_jobs=-1)\n",
    "plt.show()"
   ]
  },
  {
   "cell_type": "code",
   "execution_count": 14,
   "metadata": {
    "collapsed": false
   },
   "outputs": [
    {
     "name": "stdout",
     "output_type": "stream",
     "text": [
      "train_sizes =  [ 50  80 110]\n",
      " training scores\n",
      " 50 training sizees\n",
      "0.978509058598 ± 0.00824500344941\n",
      " 80 training sizees\n",
      "0.972291464541 ± 0.00753824138749\n",
      " 110 training sizees\n",
      "0.968661814344 ± 0.00593746663774\n",
      "\n",
      " validation scores\n",
      " 50 validation scores\n",
      "0.888027004242 ± 0.0861434335322\n",
      " 80 validation scores\n",
      "0.907188161284 ± 0.067548656939\n",
      " 110 validation scores\n",
      "0.914407266093 ± 0.0578156866799\n"
     ]
    }
   ],
   "source": [
    "# More data from learning curve to show the process of building the model\n",
    "train_sizes, train_scores, valid_scores = learning_curve(\n",
    "     model, X, Y, train_sizes=[50, 80, 110], cv=cv, n_jobs=4)\n",
    "\n",
    "print 'train_sizes = ', train_sizes\n",
    "\n",
    "print ' training scores'\n",
    "print ' 50 training sizees'\n",
    "print train_scores[0].mean(),'±',train_scores[0].std()\n",
    "print ' 80 training sizees'\n",
    "print train_scores[1].mean(),'±',train_scores[1].std()\n",
    "print ' 110 training sizees'\n",
    "print train_scores[2].mean(),'±',train_scores[2].std()\n",
    "\n",
    "print '\\n validation scores'\n",
    "print ' 50 validation scores'\n",
    "print valid_scores[0].mean(),'±',valid_scores[0].std()\n",
    "print ' 80 validation scores'\n",
    "print valid_scores[1].mean(),'±',valid_scores[1].std()\n",
    "print ' 110 validation scores'\n",
    "print valid_scores[2].mean(),'±',valid_scores[2].std()"
   ]
  },
  {
   "cell_type": "markdown",
   "metadata": {},
   "source": [
    "## Cross validation"
   ]
  },
  {
   "cell_type": "code",
   "execution_count": 15,
   "metadata": {
    "collapsed": false
   },
   "outputs": [
    {
     "name": "stdout",
     "output_type": "stream",
     "text": [
      "Scoring according to mean_squared_error\n",
      "[ -723.07610867 -1355.43260793 -1090.25372353 -1139.95293828 -1231.29268539\n",
      "  -720.29906665  -671.1151497  -1244.59718451 -1124.56393034 -5805.36527068]\n",
      "\n",
      " Mean      Standard deviation\n",
      "-1510.59      1450.19\n",
      "\n",
      " print intercept and coefficients\n",
      "100.94011976\n",
      "[ 10.50491844  24.81345736  41.78794174  -0.64502482   0.14336402\n",
      "  11.84604039  98.2125959 ]\n",
      "\n",
      "(feature, coefficients)\n",
      "[('MYCT', 10.504918438713888), ('MMIN', 24.813457364542575), ('MMAX', 41.78794173555643), ('CACH', -0.64502481682786705), ('CHMIN', 0.14336402417129501), ('CHMAX', 11.846040392726181), ('PRP', 98.212595903406338)]\n"
     ]
    }
   ],
   "source": [
    "scoring = 'mean_squared_error'\n",
    "results = cross_validation.cross_val_score(model, X, Y, cv=kfold, scoring=scoring)\n",
    "print 'Scoring according to mean_squared_error'\n",
    "print results\n",
    "print '\\n Mean      Standard deviation'\n",
    "print(\"%.2f      %.2f\" % (results.mean(), results.std()))\n",
    "## Fit the model\n",
    "model.fit(X,Y)\n",
    "print '\\n print intercept and coefficients'\n",
    "print model.intercept_\n",
    "print model.coef_\n",
    "# pair the feature names with the coefficients\n",
    "print '\\n(feature, coefficients)'\n",
    "print zip(feature_cols, model.coef_)\n",
    "# Linear qu. of the model"
   ]
  },
  {
   "cell_type": "markdown",
   "metadata": {},
   "source": [
    "To be more precise these valrible is not the input feature as descripe on the dataset, those varibles in scaled virsion on the orginal onces. So, to be more correct I should assign to them another varibles but for easy to unserstand I kept them as they were."
   ]
  },
  {
   "cell_type": "markdown",
   "metadata": {},
   "source": [
    "## Coefficients Of Determination {Calculating R^2}\n",
    "\n",
    "R^2, Close to one is better"
   ]
  },
  {
   "cell_type": "code",
   "execution_count": 16,
   "metadata": {
    "collapsed": false
   },
   "outputs": [
    {
     "name": "stdout",
     "output_type": "stream",
     "text": [
      "R-squared =  0.943723376238\n"
     ]
    }
   ],
   "source": [
    "predicted = cross_val_predict(model, X, Y, cv=kfold)\n",
    "r_squared = r2_score(Y, predicted, multioutput='variance_weighted')\n",
    "print 'R-squared = ',r_squared"
   ]
  },
  {
   "cell_type": "markdown",
   "metadata": {},
   "source": [
    "## More results on linear regression by using Statsmodel\n",
    "\n",
    "http://statsmodels.sourceforge.net/stable/  "
   ]
  },
  {
   "cell_type": "code",
   "execution_count": 17,
   "metadata": {
    "collapsed": false
   },
   "outputs": [
    {
     "name": "stdout",
     "output_type": "stream",
     "text": [
      "                            OLS Regression Results                            \n",
      "==============================================================================\n",
      "Dep. Variable:                      y   R-squared:                       0.965\n",
      "Model:                            OLS   Adj. R-squared:                  0.964\n",
      "Method:                 Least Squares   F-statistic:                     635.5\n",
      "Date:                Wed, 05 Oct 2016   Prob (F-statistic):          9.54e-113\n",
      "Time:                        12:37:49   Log-Likelihood:                -806.15\n",
      "No. Observations:                 167   AIC:                             1628.\n",
      "Df Residuals:                     159   BIC:                             1653.\n",
      "Df Model:                           7                                         \n",
      "Covariance Type:            nonrobust                                         \n",
      "==============================================================================\n",
      "                 coef    std err          t      P>|t|      [95.0% Conf. Int.]\n",
      "------------------------------------------------------------------------------\n",
      "const        100.9401      2.396     42.126      0.000        96.208   105.672\n",
      "x1            10.5049      2.705      3.883      0.000         5.162    15.848\n",
      "x2            24.8135      4.610      5.383      0.000        15.709    33.917\n",
      "x3            41.7879      5.229      7.992      0.000        31.461    52.115\n",
      "x4            -0.6450      3.459     -0.186      0.852        -7.476     6.186\n",
      "x5             0.1434      3.346      0.043      0.966        -6.464     6.751\n",
      "x6            11.8460      3.771      3.141      0.002         4.398    19.294\n",
      "x7            98.2126      6.436     15.261      0.000        85.502   110.923\n",
      "==============================================================================\n",
      "Omnibus:                       28.378   Durbin-Watson:                   1.708\n",
      "Prob(Omnibus):                  0.000   Jarque-Bera (JB):              203.946\n",
      "Skew:                           0.142   Prob(JB):                     5.17e-45\n",
      "Kurtosis:                       8.406   Cond. No.                         6.60\n",
      "==============================================================================\n",
      "\n",
      "Warnings:\n",
      "[1] Standard Errors assume that the covariance matrix of the errors is correctly specified.\n"
     ]
    }
   ],
   "source": [
    "import statsmodels.api as sm\n",
    "results = sm.OLS(Y,sm.add_constant(X)).fit()\n",
    "print results.summary()"
   ]
  },
  {
   "cell_type": "markdown",
   "metadata": {},
   "source": [
    "## Residual Plot"
   ]
  },
  {
   "cell_type": "code",
   "execution_count": 18,
   "metadata": {
    "collapsed": false
   },
   "outputs": [
    {
     "data": {
      "image/png": "[encoded data removed]",
      "text/plain": [
       "<matplotlib.figure.Figure at 0x7f2ed8260c90>"
      ]
     },
     "metadata": {},
     "output_type": "display_data"
    }
   ],
   "source": [
    "predicted = cross_val_predict(model, X, Y, cv=kfold)\n",
    "fig, ax = plt.subplots()\n",
    "ax.scatter(Y, predicted)\n",
    "ax.plot([Y.min(), Y.max()], [Y.min(), Y.max()], 'k--', lw=4)\n",
    "ax.set_xlabel('Measured')\n",
    "ax.set_ylabel('Predicted')\n",
    "plt.show()"
   ]
  },
  {
   "cell_type": "code",
   "execution_count": 19,
   "metadata": {
    "collapsed": false
   },
   "outputs": [
    {
     "data": {
      "text/html": [
       "\n",
       "\n",
       "    <div class=\"bk-root\">\n",
       "        <div class=\"plotdiv\" id=\"eda09257-fa91-481c-945e-71e3dbca859e\"></div>\n",
       "    </div>\n",
       "<script type=\"text/javascript\">\n",
       "  \n",
       "  (function(global) {\n",
       "    function now() {\n",
       "      return new Date();\n",
       "    }\n",
       "  \n",
       "    var force = \"\";\n",
       "  \n",
       "    if (typeof (window._bokeh_onload_callbacks) === \"undefined\" || force !== \"\") {\n",
       "      window._bokeh_onload_callbacks = [];\n",
       "      window._bokeh_is_loading = undefined;\n",
       "    }\n",
       "  \n",
       "  \n",
       "    \n",
       "    if (typeof (window._bokeh_timeout) === \"undefined\" || force !== \"\") {\n",
       "      window._bokeh_timeout = Date.now() + 0;\n",
       "      window._bokeh_failed_load = false;\n",
       "    }\n",
       "  \n",
       "    var NB_LOAD_WARNING = {'data': {'text/html':\n",
       "       \"<div style='background-color: #fdd'>\\n\"+\n",
       "       \"<p>\\n\"+\n",
       "       \"BokehJS does not appear to have successfully loaded. If loading BokehJS from CDN, this \\n\"+\n",
       "       \"may be due to a slow or bad network connection. Possible fixes:\\n\"+\n",
       "       \"</p>\\n\"+\n",
       "       \"<ul>\\n\"+\n",
       "       \"<li>re-rerun `output_notebook()` to attempt to load from CDN again, or</li>\\n\"+\n",
       "       \"<li>use INLINE resources instead, as so:</li>\\n\"+\n",
       "       \"</ul>\\n\"+\n",
       "       \"<code>\\n\"+\n",
       "       \"from bokeh.resources import INLINE\\n\"+\n",
       "       \"output_notebook(resources=INLINE)\\n\"+\n",
       "       \"</code>\\n\"+\n",
       "       \"</div>\"}};\n",
       "  \n",
       "    function display_loaded() {\n",
       "      if (window.Bokeh !== undefined) {\n",
       "        Bokeh.$(\"#eda09257-fa91-481c-945e-71e3dbca859e\").text(\"BokehJS successfully loaded.\");\n",
       "      } else if (Date.now() < window._bokeh_timeout) {\n",
       "        setTimeout(display_loaded, 100)\n",
       "      }\n",
       "    }\n",
       "  \n",
       "    function run_callbacks() {\n",
       "      window._bokeh_onload_callbacks.forEach(function(callback) { callback() });\n",
       "      delete window._bokeh_onload_callbacks\n",
       "      console.info(\"Bokeh: all callbacks have finished\");\n",
       "    }\n",
       "  \n",
       "    function load_libs(js_urls, callback) {\n",
       "      window._bokeh_onload_callbacks.push(callback);\n",
       "      if (window._bokeh_is_loading > 0) {\n",
       "        console.log(\"Bokeh: BokehJS is being loaded, scheduling callback at\", now());\n",
       "        return null;\n",
       "      }\n",
       "      if (js_urls == null || js_urls.length === 0) {\n",
       "        run_callbacks();\n",
       "        return null;\n",
       "      }\n",
       "      console.log(\"Bokeh: BokehJS not loaded, scheduling load and callback at\", now());\n",
       "      window._bokeh_is_loading = js_urls.length;\n",
       "      for (var i = 0; i < js_urls.length; i++) {\n",
       "        var url = js_urls[i];\n",
       "        var s = document.createElement('script');\n",
       "        s.src = url;\n",
       "        s.async = false;\n",
       "        s.onreadystatechange = s.onload = function() {\n",
       "          window._bokeh_is_loading--;\n",
       "          if (window._bokeh_is_loading === 0) {\n",
       "            console.log(\"Bokeh: all BokehJS libraries loaded\");\n",
       "            run_callbacks()\n",
       "          }\n",
       "        };\n",
       "        s.onerror = function() {\n",
       "          console.warn(\"failed to load library \" + url);\n",
       "        };\n",
       "        console.log(\"Bokeh: injecting script tag for BokehJS library: \", url);\n",
       "        document.getElementsByTagName(\"head\")[0].appendChild(s);\n",
       "      }\n",
       "    };var element = document.getElementById(\"eda09257-fa91-481c-945e-71e3dbca859e\");\n",
       "    if (element == null) {\n",
       "      console.log(\"Bokeh: ERROR: autoload.js configured with elementid 'eda09257-fa91-481c-945e-71e3dbca859e' but no matching script tag was found. \")\n",
       "      return false;\n",
       "    }\n",
       "  \n",
       "    var js_urls = [];\n",
       "  \n",
       "    var inline_js = [\n",
       "      function(Bokeh) {\n",
       "        Bokeh.$(function() {\n",
       "            var docs_json = {\"67e78c09-2306-413e-9433-eb3f42ce4600\":{\"roots\":{\"references\":[{\"attributes\":{\"dimension\":1,\"plot\":{\"id\":\"e7df7937-4015-439e-8955-92e4e5c8a8df\",\"subtype\":\"Figure\",\"type\":\"Plot\"},\"ticker\":{\"id\":\"3a78a843-697c-45f8-8b19-0f71a417b2c8\",\"type\":\"BasicTicker\"}},\"id\":\"b414fe56-4827-42ae-a4e4-f5c2f61160f0\",\"type\":\"Grid\"},{\"attributes\":{\"plot\":{\"id\":\"e7df7937-4015-439e-8955-92e4e5c8a8df\",\"subtype\":\"Figure\",\"type\":\"Plot\"}},\"id\":\"a8f81725-4f6c-4774-acb8-7b7899a296ac\",\"type\":\"UndoTool\"},{\"attributes\":{\"fill_alpha\":{\"value\":0.5},\"fill_color\":{\"value\":\"lightgrey\"},\"level\":\"overlay\",\"line_alpha\":{\"value\":1.0},\"line_color\":{\"value\":\"black\"},\"line_dash\":[4,4],\"line_width\":{\"value\":2},\"plot\":null,\"xs_units\":\"screen\",\"ys_units\":\"screen\"},\"id\":\"8c16a6fe-7e09-4e64-a8cc-138477594095\",\"type\":\"PolyAnnotation\"},{\"attributes\":{\"plot\":{\"id\":\"e7df7937-4015-439e-8955-92e4e5c8a8df\",\"subtype\":\"Figure\",\"type\":\"Plot\"}},\"id\":\"a00fbd38-e85f-4616-87b7-bfbb21cb5e62\",\"type\":\"ResetTool\"},{\"attributes\":{},\"id\":\"8678f0cd-4b6a-4e94-bcaa-55822f376000\",\"type\":\"ToolEvents\"},{\"attributes\":{\"data_source\":{\"id\":\"dd3b8b82-6ad7-416f-8092-4801f25c6402\",\"type\":\"ColumnDataSource\"},\"glyph\":{\"id\":\"d6632856-c6ad-4f7c-a1ed-f456924a38e8\",\"type\":\"Circle\"},\"hover_glyph\":null,\"nonselection_glyph\":{\"id\":\"7ecf9639-6bf4-4db7-9809-568fee9acc73\",\"type\":\"Circle\"},\"selection_glyph\":null},\"id\":\"d80cb1fa-9bf9-41ff-9c48-1bd792840438\",\"type\":\"GlyphRenderer\"},{\"attributes\":{\"plot\":{\"id\":\"e7df7937-4015-439e-8955-92e4e5c8a8df\",\"subtype\":\"Figure\",\"type\":\"Plot\"}},\"id\":\"35bce0a2-d9a1-446a-b988-c42745aa8a98\",\"type\":\"WheelZoomTool\"},{\"attributes\":{\"align\":\"center\",\"plot\":null,\"text\":null},\"id\":\"cb4cb99b-47f5-41eb-a554-21edeea75631\",\"type\":\"Title\"},{\"attributes\":{},\"id\":\"6ba08993-5ecd-4596-b049-4907283648d8\",\"type\":\"BasicTickFormatter\"},{\"attributes\":{},\"id\":\"706cbcd3-3781-4065-9925-9b1730644847\",\"type\":\"BasicTicker\"},{\"attributes\":{\"bottom_units\":\"screen\",\"fill_alpha\":{\"value\":0.5},\"fill_color\":{\"value\":\"lightgrey\"},\"left_units\":\"screen\",\"level\":\"overlay\",\"line_alpha\":{\"value\":1.0},\"line_color\":{\"value\":\"black\"},\"line_dash\":[4,4],\"line_width\":{\"value\":2},\"plot\":null,\"render_mode\":\"css\",\"right_units\":\"screen\",\"top_units\":\"screen\"},\"id\":\"71715be6-8f12-487b-80f4-cdf6f89c1b7f\",\"type\":\"BoxAnnotation\"},{\"attributes\":{\"axis_label\":\"Measured\",\"axis_label_text_color\":{\"value\":\"#aa6666\"},\"formatter\":{\"id\":\"6ba08993-5ecd-4596-b049-4907283648d8\",\"type\":\"BasicTickFormatter\"},\"major_tick_line_color\":{\"value\":\"firebrick\"},\"major_tick_line_width\":{\"value\":3},\"minor_tick_line_color\":{\"value\":\"orange\"},\"plot\":{\"id\":\"e7df7937-4015-439e-8955-92e4e5c8a8df\",\"subtype\":\"Figure\",\"type\":\"Plot\"},\"ticker\":{\"id\":\"706cbcd3-3781-4065-9925-9b1730644847\",\"type\":\"BasicTicker\"}},\"id\":\"38b9bc42-823e-4687-a23e-886166c3a7d5\",\"type\":\"LinearAxis\"},{\"attributes\":{\"callback\":null,\"column_names\":[\"y\",\"x\"],\"data\":{\"x\":[15,1238],\"y\":[15,1238]}},\"id\":\"b5d50cdc-d631-4598-b2d1-467a7cebe551\",\"type\":\"ColumnDataSource\"},{\"attributes\":{\"fill_alpha\":{\"value\":0.1},\"fill_color\":{\"value\":\"#1f77b4\"},\"line_alpha\":{\"value\":0.1},\"line_color\":{\"value\":\"#1f77b4\"},\"line_width\":{\"value\":3},\"x\":{\"field\":\"x\"},\"y\":{\"field\":\"y\"}},\"id\":\"7ecf9639-6bf4-4db7-9809-568fee9acc73\",\"type\":\"Circle\"},{\"attributes\":{\"plot\":{\"id\":\"e7df7937-4015-439e-8955-92e4e5c8a8df\",\"subtype\":\"Figure\",\"type\":\"Plot\"}},\"id\":\"32cae8dc-45d9-465f-a54b-af9a8a49bc50\",\"type\":\"PanTool\"},{\"attributes\":{\"overlay\":{\"id\":\"71715be6-8f12-487b-80f4-cdf6f89c1b7f\",\"type\":\"BoxAnnotation\"},\"plot\":{\"id\":\"e7df7937-4015-439e-8955-92e4e5c8a8df\",\"subtype\":\"Figure\",\"type\":\"Plot\"}},\"id\":\"857b3cd1-99e1-4a39-a2f2-7fe5d5917b36\",\"type\":\"BoxZoomTool\"},{\"attributes\":{\"callback\":null,\"column_names\":[\"x\",\"y\"],\"data\":{\"x\":[20,53,132,25,88,54,75,17,28,35,80,360,749,41,26,44,82,28,275,18,27,34,28,102,34,42,426,57,124,19,128,30,281,19,19,86,45,29,28,22,220,126,15,22,31,81,35,18,24,37,95,19,253,34,24,182,74,23,78,23,24,24,47,270,113,253,82,20,47,978,34,31,199,171,33,361,113,117,74,33,38,36,28,41,117,267,45,18,21,37,190,47,381,28,25,116,26,20,35,181,29,24,65,18,136,34,157,253,101,25,74,28,46,53,29,44,46,36,41,82,138,28,42,62,266,102,25,44,31,74,142,41,43,119,27,15,73,64,53,76,120,24,20,50,21,80,30,341,24,919,30,56,34,53,175,47,32,23,39,1238,20,227,20,382,26,28,67],\"y\":[9.342785461357323,44.17769709460259,154.26794921115103,29.331045522560103,75.99019572900546,61.904329570359614,107.85377594183001,13.732461066811652,19.779492740942743,20.438740457769114,103.62350466566424,383.2350996551011,657.1754581019652,22.030690176468084,30.23384441056642,34.38271641124034,78.84433667303136,32.5001332861402,272.34187443324817,17.339091951680416,33.58617307990431,37.70374973748577,16.251845265410594,154.34717446079074,33.93057863627902,48.46674794451964,488.58161769919565,67.6374728479795,104.80939657020078,-14.008184815367542,150.72539286529522,3.8601833315248513,165.5010204170698,15.797845109507762,-16.853088270471773,89.86047171488988,53.50676001703357,19.951753981610466,50.47806242863466,-9.559550891604871,303.1532170268954,205.88399070928932,-15.835554210418294,3.91186936356371,24.661894924772156,104.23994159401215,31.93773388727736,10.430248016974957,7.19863249831036,29.977639294911114,100.09862018577381,4.200767756829762,270.79096136115015,39.565846681600036,0.9401423381474103,165.34405232525054,70.84763642304769,20.00071626812047,77.88459912573377,22.05423021475876,-6.088251325405807,-2.5653586985608143,47.63507393883752,354.80843628909713,189.52847400493533,242.60782034639027,130.12853151574495,49.98018649854099,44.97816623868827,984.2474859069748,35.84636170261102,22.660841527293783,128.60683527673646,218.96182700162484,52.87150356928645,470.79823871932274,128.2499509002385,100.65884210440115,59.553327891736906,21.51622786649466,42.05300592270073,32.746019062804876,17.33698460148831,46.87276919926257,126.71902307245013,329.42570155857857,81.25360284586282,7.851007186441805,-1.372700692719377,12.191180637423585,181.08501372049304,51.46480600157741,409.95277645292447,15.035064483245918,10.621914455290721,127.31967842809509,-3.818789860905582,-0.8990311216513049,13.676978373730918,230.05116139675582,16.31611966767062,18.837839727947895,59.46188508353512,20.586423545618246,203.99314278980293,33.600866038619685,202.72987142943336,297.96970518225123,108.62552550834852,29.268511844744452,66.56697560966477,25.201947624747774,19.1374647750374,79.66186065253454,18.928183314295424,49.53154501905536,22.623265729721012,27.367391824603473,23.394789476512514,75.57452773959477,137.65497738498078,47.95293747519403,42.916244174394215,56.32540562943353,295.5556899208888,231.51336495531672,12.562851073259225,41.98255572580048,10.901042393597123,44.31902792366332,128.66239741134635,39.549995337767015,45.864705769865424,115.39583536992244,14.798900985163854,-10.770996915418095,102.53787698509548,66.02973170598801,75.93989750410005,84.9611363756346,136.2676882784217,-2.828982747447995,0.5610855830749983,58.01275638399343,26.578668391289526,60.867443737247,42.902944386513866,290.953460494255,20.801896667039088,816.0414331027953,2.7931737528245435,61.67826175490234,41.01571669079141,47.88621481209459,206.1896637631969,52.61459538615029,21.20446592182381,-9.667159047254472,31.408571224466414,941.2269664154,22.13876751899292,248.76861566936063,-3.9385841898623823,357.8314160348326,8.891081039775429,30.279741586780077,44.090915573895515]}},\"id\":\"dd3b8b82-6ad7-416f-8092-4801f25c6402\",\"type\":\"ColumnDataSource\"},{\"attributes\":{\"plot\":{\"id\":\"e7df7937-4015-439e-8955-92e4e5c8a8df\",\"subtype\":\"Figure\",\"type\":\"Plot\"}},\"id\":\"e0e568c8-81ed-4de9-a6fb-b3447d605f7f\",\"type\":\"ResizeTool\"},{\"attributes\":{\"plot\":{\"id\":\"e7df7937-4015-439e-8955-92e4e5c8a8df\",\"subtype\":\"Figure\",\"type\":\"Plot\"},\"ticker\":{\"id\":\"706cbcd3-3781-4065-9925-9b1730644847\",\"type\":\"BasicTicker\"}},\"id\":\"2b18b3fc-a0bc-4873-9cb2-e3c0757fc925\",\"type\":\"Grid\"},{\"attributes\":{},\"id\":\"3b8ac5ff-1277-4ba6-bec8-5c02b7f1b5b8\",\"type\":\"BasicTickFormatter\"},{\"attributes\":{\"bottom_units\":\"screen\",\"fill_alpha\":{\"value\":0.5},\"fill_color\":{\"value\":\"lightgrey\"},\"left_units\":\"screen\",\"level\":\"overlay\",\"line_alpha\":{\"value\":1.0},\"line_color\":{\"value\":\"black\"},\"line_dash\":[4,4],\"line_width\":{\"value\":2},\"plot\":null,\"render_mode\":\"css\",\"right_units\":\"screen\",\"top_units\":\"screen\"},\"id\":\"607633cf-0718-46eb-9b2f-05700f683acb\",\"type\":\"BoxAnnotation\"},{\"attributes\":{\"callback\":null},\"id\":\"dbd70f55-862a-4458-85a5-d4fe8f53c489\",\"type\":\"DataRange1d\"},{\"attributes\":{\"callback\":null,\"overlay\":{\"id\":\"8c16a6fe-7e09-4e64-a8cc-138477594095\",\"type\":\"PolyAnnotation\"},\"plot\":{\"id\":\"e7df7937-4015-439e-8955-92e4e5c8a8df\",\"subtype\":\"Figure\",\"type\":\"Plot\"}},\"id\":\"fc1c79ea-f4b7-495f-8545-f82570f10678\",\"type\":\"LassoSelectTool\"},{\"attributes\":{},\"id\":\"3a78a843-697c-45f8-8b19-0f71a417b2c8\",\"type\":\"BasicTicker\"},{\"attributes\":{\"plot\":{\"id\":\"e7df7937-4015-439e-8955-92e4e5c8a8df\",\"subtype\":\"Figure\",\"type\":\"Plot\"}},\"id\":\"3c2f0e89-407e-4783-bdb3-6f7c07d50929\",\"type\":\"SaveTool\"},{\"attributes\":{\"line_alpha\":{\"value\":0.1},\"line_color\":{\"value\":\"#1f77b4\"},\"line_dash\":[4,4],\"line_width\":{\"value\":2},\"x\":{\"field\":\"x\"},\"y\":{\"field\":\"y\"}},\"id\":\"7982f9a5-b078-4328-bd05-263df6ef3240\",\"type\":\"Line\"},{\"attributes\":{\"line_dash\":[4,4],\"line_width\":{\"value\":2},\"x\":{\"field\":\"x\"},\"y\":{\"field\":\"y\"}},\"id\":\"787046af-191d-4127-b5e3-f4cf70a88a7b\",\"type\":\"Line\"},{\"attributes\":{\"axis_label\":\"Predicted\",\"axis_label_text_color\":{\"value\":\"#aa6666\"},\"formatter\":{\"id\":\"3b8ac5ff-1277-4ba6-bec8-5c02b7f1b5b8\",\"type\":\"BasicTickFormatter\"},\"plot\":{\"id\":\"e7df7937-4015-439e-8955-92e4e5c8a8df\",\"subtype\":\"Figure\",\"type\":\"Plot\"},\"ticker\":{\"id\":\"3a78a843-697c-45f8-8b19-0f71a417b2c8\",\"type\":\"BasicTicker\"}},\"id\":\"c603e53d-57c1-4b52-93e3-a74dacfe5e19\",\"type\":\"LinearAxis\"},{\"attributes\":{\"overlay\":{\"id\":\"3a4637ec-3ee3-4bc6-9623-c2ebe0d4f0ae\",\"type\":\"PolyAnnotation\"},\"plot\":{\"id\":\"e7df7937-4015-439e-8955-92e4e5c8a8df\",\"subtype\":\"Figure\",\"type\":\"Plot\"}},\"id\":\"2b5270d3-ef62-43f8-bcb5-6c3d683cc862\",\"type\":\"PolySelectTool\"},{\"attributes\":{\"data_source\":{\"id\":\"b5d50cdc-d631-4598-b2d1-467a7cebe551\",\"type\":\"ColumnDataSource\"},\"glyph\":{\"id\":\"787046af-191d-4127-b5e3-f4cf70a88a7b\",\"type\":\"Line\"},\"hover_glyph\":null,\"nonselection_glyph\":{\"id\":\"7982f9a5-b078-4328-bd05-263df6ef3240\",\"type\":\"Line\"},\"selection_glyph\":null},\"id\":\"9b6f6722-d96c-430e-ac58-7721975cfdab\",\"type\":\"GlyphRenderer\"},{\"attributes\":{\"fill_color\":{\"value\":\"#80B1D3\"},\"line_color\":{\"value\":\"#80B1D3\"},\"line_width\":{\"value\":3},\"x\":{\"field\":\"x\"},\"y\":{\"field\":\"y\"}},\"id\":\"d6632856-c6ad-4f7c-a1ed-f456924a38e8\",\"type\":\"Circle\"},{\"attributes\":{\"callback\":null},\"id\":\"344d8e9a-bd1b-49f8-b1ae-ec7eaf2fcbd3\",\"type\":\"DataRange1d\"},{\"attributes\":{\"callback\":null,\"plot\":{\"id\":\"e7df7937-4015-439e-8955-92e4e5c8a8df\",\"subtype\":\"Figure\",\"type\":\"Plot\"}},\"id\":\"af8e3ffa-78bf-43e9-a218-ec4e1637b159\",\"type\":\"TapTool\"},{\"attributes\":{\"plot\":{\"id\":\"e7df7937-4015-439e-8955-92e4e5c8a8df\",\"subtype\":\"Figure\",\"type\":\"Plot\"}},\"id\":\"c1bfb759-07b5-4719-bd54-57bed1225d55\",\"type\":\"CrosshairTool\"},{\"attributes\":{\"active_drag\":\"auto\",\"active_scroll\":\"auto\",\"active_tap\":\"auto\",\"tools\":[{\"id\":\"857b3cd1-99e1-4a39-a2f2-7fe5d5917b36\",\"type\":\"BoxZoomTool\"},{\"id\":\"1f7211ef-e435-4b35-86c3-36f8da023b77\",\"type\":\"BoxSelectTool\"},{\"id\":\"c1bfb759-07b5-4719-bd54-57bed1225d55\",\"type\":\"CrosshairTool\"},{\"id\":\"e0e568c8-81ed-4de9-a6fb-b3447d605f7f\",\"type\":\"ResizeTool\"},{\"id\":\"a00fbd38-e85f-4616-87b7-bfbb21cb5e62\",\"type\":\"ResetTool\"},{\"id\":\"fc1c79ea-f4b7-495f-8545-f82570f10678\",\"type\":\"LassoSelectTool\"},{\"id\":\"32cae8dc-45d9-465f-a54b-af9a8a49bc50\",\"type\":\"PanTool\"},{\"id\":\"3c2f0e89-407e-4783-bdb3-6f7c07d50929\",\"type\":\"SaveTool\"},{\"id\":\"2b5270d3-ef62-43f8-bcb5-6c3d683cc862\",\"type\":\"PolySelectTool\"},{\"id\":\"af8e3ffa-78bf-43e9-a218-ec4e1637b159\",\"type\":\"TapTool\"},{\"id\":\"35bce0a2-d9a1-446a-b988-c42745aa8a98\",\"type\":\"WheelZoomTool\"},{\"id\":\"a8f81725-4f6c-4774-acb8-7b7899a296ac\",\"type\":\"UndoTool\"}]},\"id\":\"aae43ab1-35f4-44f5-bf09-3ada412fe67a\",\"type\":\"Toolbar\"},{\"attributes\":{\"background_fill_alpha\":{\"value\":0.5},\"background_fill_color\":{\"value\":\"beige\"},\"below\":[{\"id\":\"38b9bc42-823e-4687-a23e-886166c3a7d5\",\"type\":\"LinearAxis\"}],\"left\":[{\"id\":\"c603e53d-57c1-4b52-93e3-a74dacfe5e19\",\"type\":\"LinearAxis\"}],\"plot_height\":500,\"plot_width\":500,\"renderers\":[{\"id\":\"38b9bc42-823e-4687-a23e-886166c3a7d5\",\"type\":\"LinearAxis\"},{\"id\":\"2b18b3fc-a0bc-4873-9cb2-e3c0757fc925\",\"type\":\"Grid\"},{\"id\":\"c603e53d-57c1-4b52-93e3-a74dacfe5e19\",\"type\":\"LinearAxis\"},{\"id\":\"b414fe56-4827-42ae-a4e4-f5c2f61160f0\",\"type\":\"Grid\"},{\"id\":\"71715be6-8f12-487b-80f4-cdf6f89c1b7f\",\"type\":\"BoxAnnotation\"},{\"id\":\"607633cf-0718-46eb-9b2f-05700f683acb\",\"type\":\"BoxAnnotation\"},{\"id\":\"8c16a6fe-7e09-4e64-a8cc-138477594095\",\"type\":\"PolyAnnotation\"},{\"id\":\"3a4637ec-3ee3-4bc6-9623-c2ebe0d4f0ae\",\"type\":\"PolyAnnotation\"},{\"id\":\"d80cb1fa-9bf9-41ff-9c48-1bd792840438\",\"type\":\"GlyphRenderer\"},{\"id\":\"9b6f6722-d96c-430e-ac58-7721975cfdab\",\"type\":\"GlyphRenderer\"}],\"title\":{\"id\":\"cb4cb99b-47f5-41eb-a554-21edeea75631\",\"type\":\"Title\"},\"tool_events\":{\"id\":\"8678f0cd-4b6a-4e94-bcaa-55822f376000\",\"type\":\"ToolEvents\"},\"toolbar\":{\"id\":\"aae43ab1-35f4-44f5-bf09-3ada412fe67a\",\"type\":\"Toolbar\"},\"x_range\":{\"id\":\"344d8e9a-bd1b-49f8-b1ae-ec7eaf2fcbd3\",\"type\":\"DataRange1d\"},\"y_range\":{\"id\":\"dbd70f55-862a-4458-85a5-d4fe8f53c489\",\"type\":\"DataRange1d\"}},\"id\":\"e7df7937-4015-439e-8955-92e4e5c8a8df\",\"subtype\":\"Figure\",\"type\":\"Plot\"},{\"attributes\":{\"fill_alpha\":{\"value\":0.5},\"fill_color\":{\"value\":\"lightgrey\"},\"level\":\"overlay\",\"line_alpha\":{\"value\":1.0},\"line_color\":{\"value\":\"black\"},\"line_dash\":[4,4],\"line_width\":{\"value\":2},\"plot\":null,\"xs_units\":\"screen\",\"ys_units\":\"screen\"},\"id\":\"3a4637ec-3ee3-4bc6-9623-c2ebe0d4f0ae\",\"type\":\"PolyAnnotation\"},{\"attributes\":{\"callback\":null,\"overlay\":{\"id\":\"607633cf-0718-46eb-9b2f-05700f683acb\",\"type\":\"BoxAnnotation\"},\"plot\":{\"id\":\"e7df7937-4015-439e-8955-92e4e5c8a8df\",\"subtype\":\"Figure\",\"type\":\"Plot\"},\"renderers\":[{\"id\":\"d80cb1fa-9bf9-41ff-9c48-1bd792840438\",\"type\":\"GlyphRenderer\"},{\"id\":\"9b6f6722-d96c-430e-ac58-7721975cfdab\",\"type\":\"GlyphRenderer\"}]},\"id\":\"1f7211ef-e435-4b35-86c3-36f8da023b77\",\"type\":\"BoxSelectTool\"}],\"root_ids\":[\"e7df7937-4015-439e-8955-92e4e5c8a8df\"]},\"title\":\"Bokeh Application\",\"version\":\"0.12.2\"}};\n",
       "            var render_items = [{\"docid\":\"67e78c09-2306-413e-9433-eb3f42ce4600\",\"elementid\":\"eda09257-fa91-481c-945e-71e3dbca859e\",\"modelid\":\"e7df7937-4015-439e-8955-92e4e5c8a8df\"}];\n",
       "            \n",
       "            Bokeh.embed.embed_items(docs_json, render_items);\n",
       "        });\n",
       "      },\n",
       "      function(Bokeh) {\n",
       "      }\n",
       "    ];\n",
       "  \n",
       "    function run_inline_js() {\n",
       "      \n",
       "      if ((window.Bokeh !== undefined) || (force === \"1\")) {\n",
       "        for (var i = 0; i < inline_js.length; i++) {\n",
       "          inline_js[i](window.Bokeh);\n",
       "        }if (force === \"1\") {\n",
       "          display_loaded();\n",
       "        }} else if (Date.now() < window._bokeh_timeout) {\n",
       "        setTimeout(run_inline_js, 100);\n",
       "      } else if (!window._bokeh_failed_load) {\n",
       "        console.log(\"Bokeh: BokehJS failed to load within specified timeout.\");\n",
       "        window._bokeh_failed_load = true;\n",
       "      } else if (!force) {\n",
       "        var cell = $(\"#eda09257-fa91-481c-945e-71e3dbca859e\").parents('.cell').data().cell;\n",
       "        cell.output_area.append_execute_result(NB_LOAD_WARNING)\n",
       "      }\n",
       "  \n",
       "    }\n",
       "  \n",
       "    if (window._bokeh_is_loading === 0) {\n",
       "      console.log(\"Bokeh: BokehJS loaded, going straight to plotting\");\n",
       "      run_inline_js();\n",
       "    } else {\n",
       "      load_libs(js_urls, function() {\n",
       "        console.log(\"Bokeh: BokehJS plotting callback run at\", now());\n",
       "        run_inline_js();\n",
       "      });\n",
       "    }\n",
       "  }(this));\n",
       "</script>"
      ]
     },
     "metadata": {},
     "output_type": "display_data"
    }
   ],
   "source": [
    "# Plotining using bokeh\n",
    "#TOOLS = [BoxSelectTool(), HoverTool()]\n",
    "#TOOLS = 'hover,box_zoom,box_select,crosshair,resize,reset,lasso_select,pan,save,poly_select,tap,wheel_zoom,undo'\n",
    "TOOLS = 'box_zoom,box_select,crosshair,resize,reset,lasso_select,pan,save,poly_select,tap,wheel_zoom,undo'\n",
    "p = figure(plot_width=500, plot_height=500, tools=TOOLS)\n",
    "p.scatter(Y, predicted,x=\"jjj\", marker=\"o\", color=\"#80B1D3\", line_width=3)\n",
    "p.title.align = \"center\"\n",
    "p.xaxis.axis_label = \"Measured\"\n",
    "p.xaxis.axis_label_text_color = \"#aa6666\"\n",
    "#p.xaxis.axis_label_standoff = 30\n",
    "p.xaxis.major_tick_line_color = \"firebrick\"\n",
    "p.xaxis.major_tick_line_width = 3\n",
    "p.xaxis.minor_tick_line_color = \"orange\"\n",
    "p.yaxis.axis_label = \"Predicted\"\n",
    "p.yaxis.axis_label_text_font_style = \"italic\"\n",
    "p.yaxis.axis_label_text_color = \"#aa6666\"\n",
    "p.background_fill_color = \"beige\"\n",
    "p.background_fill_alpha = 0.5\n",
    "#p.line([Y.min(), Y.max()], [Y.min(), Y.max()], line_dash=\"4 4\", line_width=2, color='red')\n",
    "\n",
    "# create a new plot with the toolbar below\n",
    "# line_dash=\"4 4\", line_width=2, color='red'\n",
    "p.line([Y.min(), Y.max()], [Y.min(), Y.max()], line_dash=\"4 4\", line_width=2, line_color=\"black\")\n",
    "show(p)"
   ]
  },
  {
   "cell_type": "code",
   "execution_count": 20,
   "metadata": {
    "collapsed": false
   },
   "outputs": [
    {
     "data": {
      "text/plain": [
       "<matplotlib.text.Text at 0x7f2ed8167610>"
      ]
     },
     "execution_count": 20,
     "metadata": {},
     "output_type": "execute_result"
    },
    {
     "data": {
      "image/png": "[encoded data removed]",
      "text/plain": [
       "<matplotlib.figure.Figure at 0x7f2ed8260a10>"
      ]
     },
     "metadata": {},
     "output_type": "display_data"
    }
   ],
   "source": [
    "plt.scatter(predicted, (predicted - Y), c='r', s=30)\n",
    "plt.title(\"Residual plot on the training data\")\n",
    "plt.xlabel(\"Predicted\")\n",
    "plt.ylabel(\"Residuals\")"
   ]
  },
  {
   "cell_type": "code",
   "execution_count": 21,
   "metadata": {
    "collapsed": false
   },
   "outputs": [
    {
     "data": {
      "text/html": [
       "\n",
       "\n",
       "    <div class=\"bk-root\">\n",
       "        <div class=\"plotdiv\" id=\"67b661fe-e291-4978-89bf-3bab845d32a3\"></div>\n",
       "    </div>\n",
       "<script type=\"text/javascript\">\n",
       "  \n",
       "  (function(global) {\n",
       "    function now() {\n",
       "      return new Date();\n",
       "    }\n",
       "  \n",
       "    var force = \"\";\n",
       "  \n",
       "    if (typeof (window._bokeh_onload_callbacks) === \"undefined\" || force !== \"\") {\n",
       "      window._bokeh_onload_callbacks = [];\n",
       "      window._bokeh_is_loading = undefined;\n",
       "    }\n",
       "  \n",
       "  \n",
       "    \n",
       "    if (typeof (window._bokeh_timeout) === \"undefined\" || force !== \"\") {\n",
       "      window._bokeh_timeout = Date.now() + 0;\n",
       "      window._bokeh_failed_load = false;\n",
       "    }\n",
       "  \n",
       "    var NB_LOAD_WARNING = {'data': {'text/html':\n",
       "       \"<div style='background-color: #fdd'>\\n\"+\n",
       "       \"<p>\\n\"+\n",
       "       \"BokehJS does not appear to have successfully loaded. If loading BokehJS from CDN, this \\n\"+\n",
       "       \"may be due to a slow or bad network connection. Possible fixes:\\n\"+\n",
       "       \"</p>\\n\"+\n",
       "       \"<ul>\\n\"+\n",
       "       \"<li>re-rerun `output_notebook()` to attempt to load from CDN again, or</li>\\n\"+\n",
       "       \"<li>use INLINE resources instead, as so:</li>\\n\"+\n",
       "       \"</ul>\\n\"+\n",
       "       \"<code>\\n\"+\n",
       "       \"from bokeh.resources import INLINE\\n\"+\n",
       "       \"output_notebook(resources=INLINE)\\n\"+\n",
       "       \"</code>\\n\"+\n",
       "       \"</div>\"}};\n",
       "  \n",
       "    function display_loaded() {\n",
       "      if (window.Bokeh !== undefined) {\n",
       "        Bokeh.$(\"#67b661fe-e291-4978-89bf-3bab845d32a3\").text(\"BokehJS successfully loaded.\");\n",
       "      } else if (Date.now() < window._bokeh_timeout) {\n",
       "        setTimeout(display_loaded, 100)\n",
       "      }\n",
       "    }\n",
       "  \n",
       "    function run_callbacks() {\n",
       "      window._bokeh_onload_callbacks.forEach(function(callback) { callback() });\n",
       "      delete window._bokeh_onload_callbacks\n",
       "      console.info(\"Bokeh: all callbacks have finished\");\n",
       "    }\n",
       "  \n",
       "    function load_libs(js_urls, callback) {\n",
       "      window._bokeh_onload_callbacks.push(callback);\n",
       "      if (window._bokeh_is_loading > 0) {\n",
       "        console.log(\"Bokeh: BokehJS is being loaded, scheduling callback at\", now());\n",
       "        return null;\n",
       "      }\n",
       "      if (js_urls == null || js_urls.length === 0) {\n",
       "        run_callbacks();\n",
       "        return null;\n",
       "      }\n",
       "      console.log(\"Bokeh: BokehJS not loaded, scheduling load and callback at\", now());\n",
       "      window._bokeh_is_loading = js_urls.length;\n",
       "      for (var i = 0; i < js_urls.length; i++) {\n",
       "        var url = js_urls[i];\n",
       "        var s = document.createElement('script');\n",
       "        s.src = url;\n",
       "        s.async = false;\n",
       "        s.onreadystatechange = s.onload = function() {\n",
       "          window._bokeh_is_loading--;\n",
       "          if (window._bokeh_is_loading === 0) {\n",
       "            console.log(\"Bokeh: all BokehJS libraries loaded\");\n",
       "            run_callbacks()\n",
       "          }\n",
       "        };\n",
       "        s.onerror = function() {\n",
       "          console.warn(\"failed to load library \" + url);\n",
       "        };\n",
       "        console.log(\"Bokeh: injecting script tag for BokehJS library: \", url);\n",
       "        document.getElementsByTagName(\"head\")[0].appendChild(s);\n",
       "      }\n",
       "    };var element = document.getElementById(\"67b661fe-e291-4978-89bf-3bab845d32a3\");\n",
       "    if (element == null) {\n",
       "      console.log(\"Bokeh: ERROR: autoload.js configured with elementid '67b661fe-e291-4978-89bf-3bab845d32a3' but no matching script tag was found. \")\n",
       "      return false;\n",
       "    }\n",
       "  \n",
       "    var js_urls = [];\n",
       "  \n",
       "    var inline_js = [\n",
       "      function(Bokeh) {\n",
       "        Bokeh.$(function() {\n",
       "            var docs_json = {\"90ec8c35-b0cd-486a-8e83-c01a22903199\":{\"roots\":{\"references\":[{\"attributes\":{\"active_drag\":\"auto\",\"active_scroll\":\"auto\",\"active_tap\":\"auto\",\"tools\":[{\"id\":\"9ffcfdc0-47c9-4571-b80d-bbd8a8ef09b7\",\"type\":\"BoxZoomTool\"},{\"id\":\"06f3097c-a1b4-4fe6-9b3c-ab1b4095ae17\",\"type\":\"BoxSelectTool\"},{\"id\":\"5e4ce544-cac5-4e51-8da3-70cdd908b08a\",\"type\":\"CrosshairTool\"},{\"id\":\"ef248b64-799e-4294-a648-336ed9aa11e1\",\"type\":\"ResizeTool\"},{\"id\":\"f731ffbb-71db-4028-98d2-58cb7542255e\",\"type\":\"ResetTool\"},{\"id\":\"614b8557-577c-4ec8-b583-66e71027fa99\",\"type\":\"LassoSelectTool\"},{\"id\":\"3f4a3ca0-cf6c-4a8f-8eab-4d473b045932\",\"type\":\"PanTool\"},{\"id\":\"457d2f35-bf44-4b8c-88a0-c03a35a707f8\",\"type\":\"SaveTool\"},{\"id\":\"b1f8d104-399c-4e9c-b71f-966e2b467fe4\",\"type\":\"PolySelectTool\"},{\"id\":\"ae613a8b-d2d6-47ee-a66a-f65efd7ec881\",\"type\":\"TapTool\"},{\"id\":\"e981d899-1e5d-4006-8c98-24957a945bbb\",\"type\":\"WheelZoomTool\"},{\"id\":\"c611bf77-76d4-4916-8832-69ef56399c72\",\"type\":\"UndoTool\"}]},\"id\":\"8471d568-c9c2-4045-8cd1-891c9e8a8de1\",\"type\":\"Toolbar\"},{\"attributes\":{\"callback\":null,\"overlay\":{\"id\":\"6c9f578e-3924-4822-b064-833a6d60c517\",\"type\":\"BoxAnnotation\"},\"plot\":{\"id\":\"93a064f7-429c-4640-a146-43c514aa0961\",\"subtype\":\"Figure\",\"type\":\"Plot\"},\"renderers\":[{\"id\":\"467e5e95-2545-420b-8b90-31f4e7303409\",\"type\":\"GlyphRenderer\"}]},\"id\":\"06f3097c-a1b4-4fe6-9b3c-ab1b4095ae17\",\"type\":\"BoxSelectTool\"},{\"attributes\":{\"fill_color\":{\"value\":\"#80B1D3\"},\"line_color\":{\"value\":\"#80B1D3\"},\"line_width\":{\"value\":3},\"x\":{\"field\":\"x\"},\"y\":{\"field\":\"y\"}},\"id\":\"66a480bc-72bd-4d0d-8501-1e5493b67a79\",\"type\":\"Circle\"},{\"attributes\":{},\"id\":\"de37c01d-171c-4419-8062-4f0d391870c1\",\"type\":\"ToolEvents\"},{\"attributes\":{\"plot\":{\"id\":\"93a064f7-429c-4640-a146-43c514aa0961\",\"subtype\":\"Figure\",\"type\":\"Plot\"}},\"id\":\"3f4a3ca0-cf6c-4a8f-8eab-4d473b045932\",\"type\":\"PanTool\"},{\"attributes\":{\"callback\":null,\"overlay\":{\"id\":\"c3e17a68-60db-4568-8ae7-51934fd3aa13\",\"type\":\"PolyAnnotation\"},\"plot\":{\"id\":\"93a064f7-429c-4640-a146-43c514aa0961\",\"subtype\":\"Figure\",\"type\":\"Plot\"}},\"id\":\"614b8557-577c-4ec8-b583-66e71027fa99\",\"type\":\"LassoSelectTool\"},{\"attributes\":{},\"id\":\"0ba5b3bf-02b1-4b59-bea2-67f4ce5a528f\",\"type\":\"BasicTicker\"},{\"attributes\":{\"callback\":null},\"id\":\"468808d3-2ad9-4f68-845a-ccc1bc3c9985\",\"type\":\"DataRange1d\"},{\"attributes\":{\"callback\":null,\"plot\":{\"id\":\"93a064f7-429c-4640-a146-43c514aa0961\",\"subtype\":\"Figure\",\"type\":\"Plot\"}},\"id\":\"ae613a8b-d2d6-47ee-a66a-f65efd7ec881\",\"type\":\"TapTool\"},{\"attributes\":{\"plot\":{\"id\":\"93a064f7-429c-4640-a146-43c514aa0961\",\"subtype\":\"Figure\",\"type\":\"Plot\"}},\"id\":\"5e4ce544-cac5-4e51-8da3-70cdd908b08a\",\"type\":\"CrosshairTool\"},{\"attributes\":{\"plot\":{\"id\":\"93a064f7-429c-4640-a146-43c514aa0961\",\"subtype\":\"Figure\",\"type\":\"Plot\"},\"ticker\":{\"id\":\"a51e943b-af13-43a1-b446-bb6573a6b8a6\",\"type\":\"BasicTicker\"}},\"id\":\"b70d2e76-ff31-4994-8730-7bade93df25e\",\"type\":\"Grid\"},{\"attributes\":{\"fill_alpha\":{\"value\":0.5},\"fill_color\":{\"value\":\"lightgrey\"},\"level\":\"overlay\",\"line_alpha\":{\"value\":1.0},\"line_color\":{\"value\":\"black\"},\"line_dash\":[4,4],\"line_width\":{\"value\":2},\"plot\":null,\"xs_units\":\"screen\",\"ys_units\":\"screen\"},\"id\":\"c3e17a68-60db-4568-8ae7-51934fd3aa13\",\"type\":\"PolyAnnotation\"},{\"attributes\":{},\"id\":\"aeab7f01-0acf-4bea-aa99-6eb3425d50be\",\"type\":\"BasicTickFormatter\"},{\"attributes\":{\"plot\":{\"id\":\"93a064f7-429c-4640-a146-43c514aa0961\",\"subtype\":\"Figure\",\"type\":\"Plot\"}},\"id\":\"ef248b64-799e-4294-a648-336ed9aa11e1\",\"type\":\"ResizeTool\"},{\"attributes\":{\"overlay\":{\"id\":\"b8ca5d05-a447-4830-9269-a816ca583f14\",\"type\":\"BoxAnnotation\"},\"plot\":{\"id\":\"93a064f7-429c-4640-a146-43c514aa0961\",\"subtype\":\"Figure\",\"type\":\"Plot\"}},\"id\":\"9ffcfdc0-47c9-4571-b80d-bbd8a8ef09b7\",\"type\":\"BoxZoomTool\"},{\"attributes\":{\"data_source\":{\"id\":\"d30e5a36-3cf2-49a1-a33b-87a8908c9b04\",\"type\":\"ColumnDataSource\"},\"glyph\":{\"id\":\"66a480bc-72bd-4d0d-8501-1e5493b67a79\",\"type\":\"Circle\"},\"hover_glyph\":null,\"nonselection_glyph\":{\"id\":\"665d872b-71d8-44dd-be64-267a0e3be5a1\",\"type\":\"Circle\"},\"selection_glyph\":null},\"id\":\"467e5e95-2545-420b-8b90-31f4e7303409\",\"type\":\"GlyphRenderer\"},{\"attributes\":{\"callback\":null,\"column_names\":[\"x\",\"y\"],\"data\":{\"x\":[9.342785461357323,44.17769709460259,154.26794921115103,29.331045522560103,75.99019572900546,61.904329570359614,107.85377594183001,13.732461066811652,19.779492740942743,20.438740457769114,103.62350466566424,383.2350996551011,657.1754581019652,22.030690176468084,30.23384441056642,34.38271641124034,78.84433667303136,32.5001332861402,272.34187443324817,17.339091951680416,33.58617307990431,37.70374973748577,16.251845265410594,154.34717446079074,33.93057863627902,48.46674794451964,488.58161769919565,67.6374728479795,104.80939657020078,-14.008184815367542,150.72539286529522,3.8601833315248513,165.5010204170698,15.797845109507762,-16.853088270471773,89.86047171488988,53.50676001703357,19.951753981610466,50.47806242863466,-9.559550891604871,303.1532170268954,205.88399070928932,-15.835554210418294,3.91186936356371,24.661894924772156,104.23994159401215,31.93773388727736,10.430248016974957,7.19863249831036,29.977639294911114,100.09862018577381,4.200767756829762,270.79096136115015,39.565846681600036,0.9401423381474103,165.34405232525054,70.84763642304769,20.00071626812047,77.88459912573377,22.05423021475876,-6.088251325405807,-2.5653586985608143,47.63507393883752,354.80843628909713,189.52847400493533,242.60782034639027,130.12853151574495,49.98018649854099,44.97816623868827,984.2474859069748,35.84636170261102,22.660841527293783,128.60683527673646,218.96182700162484,52.87150356928645,470.79823871932274,128.2499509002385,100.65884210440115,59.553327891736906,21.51622786649466,42.05300592270073,32.746019062804876,17.33698460148831,46.87276919926257,126.71902307245013,329.42570155857857,81.25360284586282,7.851007186441805,-1.372700692719377,12.191180637423585,181.08501372049304,51.46480600157741,409.95277645292447,15.035064483245918,10.621914455290721,127.31967842809509,-3.818789860905582,-0.8990311216513049,13.676978373730918,230.05116139675582,16.31611966767062,18.837839727947895,59.46188508353512,20.586423545618246,203.99314278980293,33.600866038619685,202.72987142943336,297.96970518225123,108.62552550834852,29.268511844744452,66.56697560966477,25.201947624747774,19.1374647750374,79.66186065253454,18.928183314295424,49.53154501905536,22.623265729721012,27.367391824603473,23.394789476512514,75.57452773959477,137.65497738498078,47.95293747519403,42.916244174394215,56.32540562943353,295.5556899208888,231.51336495531672,12.562851073259225,41.98255572580048,10.901042393597123,44.31902792366332,128.66239741134635,39.549995337767015,45.864705769865424,115.39583536992244,14.798900985163854,-10.770996915418095,102.53787698509548,66.02973170598801,75.93989750410005,84.9611363756346,136.2676882784217,-2.828982747447995,0.5610855830749983,58.01275638399343,26.578668391289526,60.867443737247,42.902944386513866,290.953460494255,20.801896667039088,816.0414331027953,2.7931737528245435,61.67826175490234,41.01571669079141,47.88621481209459,206.1896637631969,52.61459538615029,21.20446592182381,-9.667159047254472,31.408571224466414,941.2269664154,22.13876751899292,248.76861566936063,-3.9385841898623823,357.8314160348326,8.891081039775429,30.279741586780077,44.090915573895515],\"y\":[-10.657214538642677,-8.822302905397407,22.267949211151034,4.331045522560103,-12.009804270994536,7.904329570359614,32.85377594183001,-3.267538933188348,-8.220507259057257,-14.561259542230886,23.623504665664242,23.235099655101124,-91.8245418980348,-18.969309823531916,4.2338444105664195,-9.617283588759662,-3.155663326968636,4.500133286140198,-2.658125566751835,-0.6609080483195839,6.586173079904313,3.703749737485772,-11.748154734589406,52.34717446079074,-0.06942136372097707,6.466747944519639,62.58161769919565,10.637472847979495,-19.190603429799225,-33.00818481536754,22.72539286529522,-26.13981666847515,-115.49897958293019,-3.2021548904922383,-35.85308827047177,3.860471714889883,8.50676001703357,-9.048246018389534,22.478062428634658,-31.55955089160487,83.15321702689539,79.88399070928932,-30.835554210418294,-18.08813063643629,-6.338105075227844,23.23994159401215,-3.0622661127226394,-7.569751983025043,-16.80136750168964,-7.022360705088886,5.098620185773811,-14.799232243170238,17.790961361150153,5.565846681600036,-23.05985766185259,-16.655947674749456,-3.152363576952311,-2.9992837318795296,-0.11540087426622847,-0.9457697852412394,-30.088251325405807,-26.565358698560814,0.6350739388375217,84.80843628909713,76.52847400493533,-10.39217965360973,48.12853151574495,29.980186498540988,-2.0218337613117328,6.247485906974816,1.84636170261102,-8.339158472706217,-70.39316472326354,47.96182700162484,19.871503569286453,109.79823871932274,15.249950900238503,-16.341157895598855,-14.446672108263094,-11.48377213350534,4.053005922700727,-3.2539809371951236,-10.66301539851169,5.872769199262571,9.719023072450128,62.42570155857857,36.253602845862815,-10.148992813558195,-22.372700692719377,-24.808819362576415,-8.914986279506962,4.464806001577408,28.952776452924468,-12.964935516754082,-14.378085544709279,11.319678428095088,-29.818789860905582,-20.899031121651305,-21.32302162626908,49.051161396755816,-12.68388033232938,-5.162160272052105,-5.5381149164648775,2.5864235456182456,67.99314278980293,-0.3991339613803149,45.72987142943336,44.96970518225123,7.625525508348517,4.268511844744452,-7.433024390335234,-2.798052375252226,-26.8625352249626,26.661860652534543,-10.071816685704576,5.531545019055358,-23.376734270278988,-8.632608175396527,-17.605210523487486,-6.425472260405229,-0.34502261501921794,19.952937475194027,0.9162441743942153,-5.674594370566467,29.555689920888824,129.51336495531672,-12.437148926740775,-2.0174442741995193,-20.098957606402877,-29.68097207633668,-13.337602588653652,-1.4500046622329847,2.8647057698654237,-3.6041646300775625,-12.201099014836146,-25.770996915418095,29.53787698509548,2.029731705988013,22.939897504100045,8.961136375634595,16.2676882784217,-26.828982747447995,-19.438914416925,8.012756383993427,5.578668391289526,-19.132556262753,12.902944386513866,-50.04653950574499,-3.198103332960912,-102.95856689720472,-27.206826247175457,5.678261754902337,7.0157166907914075,-5.113785187905407,31.189663763196904,5.614595386150292,-10.795534078176189,-32.66715904725447,-7.591428775533586,-296.77303358459994,2.138767518992921,21.768615669360628,-23.938584189862382,-24.168583965167386,-17.10891896022457,2.2797415867800765,-22.909084426104485]}},\"id\":\"d30e5a36-3cf2-49a1-a33b-87a8908c9b04\",\"type\":\"ColumnDataSource\"},{\"attributes\":{\"dimension\":1,\"plot\":{\"id\":\"93a064f7-429c-4640-a146-43c514aa0961\",\"subtype\":\"Figure\",\"type\":\"Plot\"},\"ticker\":{\"id\":\"0ba5b3bf-02b1-4b59-bea2-67f4ce5a528f\",\"type\":\"BasicTicker\"}},\"id\":\"0baae5d6-545b-4e6c-b461-79c49faeed32\",\"type\":\"Grid\"},{\"attributes\":{\"plot\":{\"id\":\"93a064f7-429c-4640-a146-43c514aa0961\",\"subtype\":\"Figure\",\"type\":\"Plot\"}},\"id\":\"457d2f35-bf44-4b8c-88a0-c03a35a707f8\",\"type\":\"SaveTool\"},{\"attributes\":{\"plot\":{\"id\":\"93a064f7-429c-4640-a146-43c514aa0961\",\"subtype\":\"Figure\",\"type\":\"Plot\"}},\"id\":\"f731ffbb-71db-4028-98d2-58cb7542255e\",\"type\":\"ResetTool\"},{\"attributes\":{\"overlay\":{\"id\":\"8eab35df-8643-4959-a7ca-a035fd9f2b79\",\"type\":\"PolyAnnotation\"},\"plot\":{\"id\":\"93a064f7-429c-4640-a146-43c514aa0961\",\"subtype\":\"Figure\",\"type\":\"Plot\"}},\"id\":\"b1f8d104-399c-4e9c-b71f-966e2b467fe4\",\"type\":\"PolySelectTool\"},{\"attributes\":{},\"id\":\"a51e943b-af13-43a1-b446-bb6573a6b8a6\",\"type\":\"BasicTicker\"},{\"attributes\":{\"axis_label\":\"Residuals\",\"axis_label_text_color\":{\"value\":\"#aa6666\"},\"formatter\":{\"id\":\"aeab7f01-0acf-4bea-aa99-6eb3425d50be\",\"type\":\"BasicTickFormatter\"},\"plot\":{\"id\":\"93a064f7-429c-4640-a146-43c514aa0961\",\"subtype\":\"Figure\",\"type\":\"Plot\"},\"ticker\":{\"id\":\"0ba5b3bf-02b1-4b59-bea2-67f4ce5a528f\",\"type\":\"BasicTicker\"}},\"id\":\"69374990-0eba-4b2b-b9e4-79536c12407d\",\"type\":\"LinearAxis\"},{\"attributes\":{\"align\":\"center\",\"plot\":null,\"text\":\"Residual plot on the training data\"},\"id\":\"13e7e3ac-7563-4b1a-8b28-0b744acb423f\",\"type\":\"Title\"},{\"attributes\":{\"fill_alpha\":{\"value\":0.1},\"fill_color\":{\"value\":\"#1f77b4\"},\"line_alpha\":{\"value\":0.1},\"line_color\":{\"value\":\"#1f77b4\"},\"line_width\":{\"value\":3},\"x\":{\"field\":\"x\"},\"y\":{\"field\":\"y\"}},\"id\":\"665d872b-71d8-44dd-be64-267a0e3be5a1\",\"type\":\"Circle\"},{\"attributes\":{\"bottom_units\":\"screen\",\"fill_alpha\":{\"value\":0.5},\"fill_color\":{\"value\":\"lightgrey\"},\"left_units\":\"screen\",\"level\":\"overlay\",\"line_alpha\":{\"value\":1.0},\"line_color\":{\"value\":\"black\"},\"line_dash\":[4,4],\"line_width\":{\"value\":2},\"plot\":null,\"render_mode\":\"css\",\"right_units\":\"screen\",\"top_units\":\"screen\"},\"id\":\"b8ca5d05-a447-4830-9269-a816ca583f14\",\"type\":\"BoxAnnotation\"},{\"attributes\":{},\"id\":\"e734d4cf-0472-4a8d-9a58-d9bb0d4f46f5\",\"type\":\"BasicTickFormatter\"},{\"attributes\":{\"callback\":null},\"id\":\"75b60fd0-8c01-420a-badb-d2a4ba18d0ab\",\"type\":\"DataRange1d\"},{\"attributes\":{\"fill_alpha\":{\"value\":0.5},\"fill_color\":{\"value\":\"lightgrey\"},\"level\":\"overlay\",\"line_alpha\":{\"value\":1.0},\"line_color\":{\"value\":\"black\"},\"line_dash\":[4,4],\"line_width\":{\"value\":2},\"plot\":null,\"xs_units\":\"screen\",\"ys_units\":\"screen\"},\"id\":\"8eab35df-8643-4959-a7ca-a035fd9f2b79\",\"type\":\"PolyAnnotation\"},{\"attributes\":{\"plot\":{\"id\":\"93a064f7-429c-4640-a146-43c514aa0961\",\"subtype\":\"Figure\",\"type\":\"Plot\"}},\"id\":\"c611bf77-76d4-4916-8832-69ef56399c72\",\"type\":\"UndoTool\"},{\"attributes\":{\"background_fill_alpha\":{\"value\":0.5},\"background_fill_color\":{\"value\":\"beige\"},\"below\":[{\"id\":\"448ca7c7-6725-436b-800a-148b426fe740\",\"type\":\"LinearAxis\"}],\"left\":[{\"id\":\"69374990-0eba-4b2b-b9e4-79536c12407d\",\"type\":\"LinearAxis\"}],\"plot_height\":500,\"plot_width\":500,\"renderers\":[{\"id\":\"448ca7c7-6725-436b-800a-148b426fe740\",\"type\":\"LinearAxis\"},{\"id\":\"b70d2e76-ff31-4994-8730-7bade93df25e\",\"type\":\"Grid\"},{\"id\":\"69374990-0eba-4b2b-b9e4-79536c12407d\",\"type\":\"LinearAxis\"},{\"id\":\"0baae5d6-545b-4e6c-b461-79c49faeed32\",\"type\":\"Grid\"},{\"id\":\"b8ca5d05-a447-4830-9269-a816ca583f14\",\"type\":\"BoxAnnotation\"},{\"id\":\"6c9f578e-3924-4822-b064-833a6d60c517\",\"type\":\"BoxAnnotation\"},{\"id\":\"c3e17a68-60db-4568-8ae7-51934fd3aa13\",\"type\":\"PolyAnnotation\"},{\"id\":\"8eab35df-8643-4959-a7ca-a035fd9f2b79\",\"type\":\"PolyAnnotation\"},{\"id\":\"467e5e95-2545-420b-8b90-31f4e7303409\",\"type\":\"GlyphRenderer\"}],\"title\":{\"id\":\"13e7e3ac-7563-4b1a-8b28-0b744acb423f\",\"type\":\"Title\"},\"tool_events\":{\"id\":\"de37c01d-171c-4419-8062-4f0d391870c1\",\"type\":\"ToolEvents\"},\"toolbar\":{\"id\":\"8471d568-c9c2-4045-8cd1-891c9e8a8de1\",\"type\":\"Toolbar\"},\"x_range\":{\"id\":\"468808d3-2ad9-4f68-845a-ccc1bc3c9985\",\"type\":\"DataRange1d\"},\"y_range\":{\"id\":\"75b60fd0-8c01-420a-badb-d2a4ba18d0ab\",\"type\":\"DataRange1d\"}},\"id\":\"93a064f7-429c-4640-a146-43c514aa0961\",\"subtype\":\"Figure\",\"type\":\"Plot\"},{\"attributes\":{\"axis_label\":\"Predicted\",\"axis_label_text_color\":{\"value\":\"#aa6666\"},\"formatter\":{\"id\":\"e734d4cf-0472-4a8d-9a58-d9bb0d4f46f5\",\"type\":\"BasicTickFormatter\"},\"major_tick_line_color\":{\"value\":\"firebrick\"},\"major_tick_line_width\":{\"value\":3},\"minor_tick_line_color\":{\"value\":\"orange\"},\"plot\":{\"id\":\"93a064f7-429c-4640-a146-43c514aa0961\",\"subtype\":\"Figure\",\"type\":\"Plot\"},\"ticker\":{\"id\":\"a51e943b-af13-43a1-b446-bb6573a6b8a6\",\"type\":\"BasicTicker\"}},\"id\":\"448ca7c7-6725-436b-800a-148b426fe740\",\"type\":\"LinearAxis\"},{\"attributes\":{\"bottom_units\":\"screen\",\"fill_alpha\":{\"value\":0.5},\"fill_color\":{\"value\":\"lightgrey\"},\"left_units\":\"screen\",\"level\":\"overlay\",\"line_alpha\":{\"value\":1.0},\"line_color\":{\"value\":\"black\"},\"line_dash\":[4,4],\"line_width\":{\"value\":2},\"plot\":null,\"render_mode\":\"css\",\"right_units\":\"screen\",\"top_units\":\"screen\"},\"id\":\"6c9f578e-3924-4822-b064-833a6d60c517\",\"type\":\"BoxAnnotation\"},{\"attributes\":{\"plot\":{\"id\":\"93a064f7-429c-4640-a146-43c514aa0961\",\"subtype\":\"Figure\",\"type\":\"Plot\"}},\"id\":\"e981d899-1e5d-4006-8c98-24957a945bbb\",\"type\":\"WheelZoomTool\"}],\"root_ids\":[\"93a064f7-429c-4640-a146-43c514aa0961\"]},\"title\":\"Bokeh Application\",\"version\":\"0.12.2\"}};\n",
       "            var render_items = [{\"docid\":\"90ec8c35-b0cd-486a-8e83-c01a22903199\",\"elementid\":\"67b661fe-e291-4978-89bf-3bab845d32a3\",\"modelid\":\"93a064f7-429c-4640-a146-43c514aa0961\"}];\n",
       "            \n",
       "            Bokeh.embed.embed_items(docs_json, render_items);\n",
       "        });\n",
       "      },\n",
       "      function(Bokeh) {\n",
       "      }\n",
       "    ];\n",
       "  \n",
       "    function run_inline_js() {\n",
       "      \n",
       "      if ((window.Bokeh !== undefined) || (force === \"1\")) {\n",
       "        for (var i = 0; i < inline_js.length; i++) {\n",
       "          inline_js[i](window.Bokeh);\n",
       "        }if (force === \"1\") {\n",
       "          display_loaded();\n",
       "        }} else if (Date.now() < window._bokeh_timeout) {\n",
       "        setTimeout(run_inline_js, 100);\n",
       "      } else if (!window._bokeh_failed_load) {\n",
       "        console.log(\"Bokeh: BokehJS failed to load within specified timeout.\");\n",
       "        window._bokeh_failed_load = true;\n",
       "      } else if (!force) {\n",
       "        var cell = $(\"#67b661fe-e291-4978-89bf-3bab845d32a3\").parents('.cell').data().cell;\n",
       "        cell.output_area.append_execute_result(NB_LOAD_WARNING)\n",
       "      }\n",
       "  \n",
       "    }\n",
       "  \n",
       "    if (window._bokeh_is_loading === 0) {\n",
       "      console.log(\"Bokeh: BokehJS loaded, going straight to plotting\");\n",
       "      run_inline_js();\n",
       "    } else {\n",
       "      load_libs(js_urls, function() {\n",
       "        console.log(\"Bokeh: BokehJS plotting callback run at\", now());\n",
       "        run_inline_js();\n",
       "      });\n",
       "    }\n",
       "  }(this));\n",
       "</script>"
      ]
     },
     "metadata": {},
     "output_type": "display_data"
    }
   ],
   "source": [
    "# Plotining using bokeh\n",
    "#TOOLS = 'hover,box_zoom,box_select,crosshair,resize,reset,lasso_select,pan,save,poly_select,tap,wheel_zoom,undo'\n",
    "TOOLS = 'box_zoom,box_select,crosshair,resize,reset,lasso_select,pan,save,poly_select,tap,wheel_zoom,undo'\n",
    "p = figure(plot_width=500, plot_height=500, title=\"Residual plot on the training data\", tools=TOOLS)\n",
    "p.scatter(predicted, (predicted - Y),x=\"jjj\", marker=\"o\", color=\"#80B1D3\", line_width=3)\n",
    "p.title.align = \"center\"\n",
    "p.xaxis.axis_label = \"Predicted\"\n",
    "p.xaxis.axis_label_text_color = \"#aa6666\"\n",
    "#p.xaxis.axis_label_standoff = 30\n",
    "p.xaxis.major_tick_line_color = \"firebrick\"\n",
    "p.xaxis.major_tick_line_width = 3\n",
    "p.xaxis.minor_tick_line_color = \"orange\"\n",
    "p.yaxis.axis_label = \"Residuals\"\n",
    "p.yaxis.axis_label_text_font_style = \"italic\"\n",
    "p.yaxis.axis_label_text_color = \"#aa6666\"\n",
    "p.background_fill_color = \"beige\"\n",
    "p.background_fill_alpha = 0.5\n",
    "#p.line([2,38], [0, 0], line_dash=\"4 4\", line_width=2, color='red')\n",
    "show(p)"
   ]
  },
  {
   "cell_type": "markdown",
   "metadata": {},
   "source": [
    "## Pipeline"
   ]
  },
  {
   "cell_type": "markdown",
   "metadata": {},
   "source": [
    "The best to deliver the model by pipeline the operation then at deployment can be done in one model."
   ]
  },
  {
   "cell_type": "markdown",
   "metadata": {
    "collapsed": true
   },
   "source": [
    "  I used two ways to check the pipeline so any one can be fine"
   ]
  },
  {
   "cell_type": "code",
   "execution_count": 22,
   "metadata": {
    "collapsed": false
   },
   "outputs": [
    {
     "name": "stdout",
     "output_type": "stream",
     "text": [
      "0.965492505288\n",
      "Scoring according to mean_squared_error\n",
      "[ -723.07610867 -1355.43260793 -1090.25372353 -1139.95293828 -1231.29268539\n",
      "  -720.29906665  -671.1151497  -1244.59718451 -1124.56393034 -5805.36527068]\n",
      "\n",
      " Mean      Standard deviation\n",
      "-1510.59      1450.19\n",
      "[ True  True  True  True  True  True  True]\n",
      "R-squared =  0.965492505288\n"
     ]
    },
    {
     "name": "stderr",
     "output_type": "stream",
     "text": [
      "/home/salm/anaconda2/lib/python2.7/site-packages/sklearn/utils/validation.py:420: DataConversionWarning: Data with input dtype int64 was converted to float64 by StandardScaler.\n",
      "  warnings.warn(msg, DataConversionWarning)\n",
      "/home/salm/anaconda2/lib/python2.7/site-packages/sklearn/utils/validation.py:420: DataConversionWarning: Data with input dtype int64 was converted to float64 by StandardScaler.\n",
      "  warnings.warn(msg, DataConversionWarning)\n",
      "/home/salm/anaconda2/lib/python2.7/site-packages/sklearn/utils/validation.py:420: DataConversionWarning: Data with input dtype int64 was converted to float64 by StandardScaler.\n",
      "  warnings.warn(msg, DataConversionWarning)\n",
      "/home/salm/anaconda2/lib/python2.7/site-packages/sklearn/utils/validation.py:420: DataConversionWarning: Data with input dtype int64 was converted to float64 by StandardScaler.\n",
      "  warnings.warn(msg, DataConversionWarning)\n",
      "/home/salm/anaconda2/lib/python2.7/site-packages/sklearn/utils/validation.py:420: DataConversionWarning: Data with input dtype int64 was converted to float64 by StandardScaler.\n",
      "  warnings.warn(msg, DataConversionWarning)\n",
      "/home/salm/anaconda2/lib/python2.7/site-packages/sklearn/utils/validation.py:420: DataConversionWarning: Data with input dtype int64 was converted to float64 by StandardScaler.\n",
      "  warnings.warn(msg, DataConversionWarning)\n",
      "/home/salm/anaconda2/lib/python2.7/site-packages/sklearn/utils/validation.py:420: DataConversionWarning: Data with input dtype int64 was converted to float64 by StandardScaler.\n",
      "  warnings.warn(msg, DataConversionWarning)\n",
      "/home/salm/anaconda2/lib/python2.7/site-packages/sklearn/utils/validation.py:420: DataConversionWarning: Data with input dtype int64 was converted to float64 by StandardScaler.\n",
      "  warnings.warn(msg, DataConversionWarning)\n",
      "/home/salm/anaconda2/lib/python2.7/site-packages/sklearn/utils/validation.py:420: DataConversionWarning: Data with input dtype int64 was converted to float64 by StandardScaler.\n",
      "  warnings.warn(msg, DataConversionWarning)\n",
      "/home/salm/anaconda2/lib/python2.7/site-packages/sklearn/utils/validation.py:420: DataConversionWarning: Data with input dtype int64 was converted to float64 by StandardScaler.\n",
      "  warnings.warn(msg, DataConversionWarning)\n",
      "/home/salm/anaconda2/lib/python2.7/site-packages/sklearn/utils/validation.py:420: DataConversionWarning: Data with input dtype int64 was converted to float64 by StandardScaler.\n",
      "  warnings.warn(msg, DataConversionWarning)\n",
      "/home/salm/anaconda2/lib/python2.7/site-packages/sklearn/utils/validation.py:420: DataConversionWarning: Data with input dtype int64 was converted to float64 by StandardScaler.\n",
      "  warnings.warn(msg, DataConversionWarning)\n",
      "/home/salm/anaconda2/lib/python2.7/site-packages/sklearn/utils/validation.py:420: DataConversionWarning: Data with input dtype int64 was converted to float64 by StandardScaler.\n",
      "  warnings.warn(msg, DataConversionWarning)\n",
      "/home/salm/anaconda2/lib/python2.7/site-packages/sklearn/utils/validation.py:420: DataConversionWarning: Data with input dtype int64 was converted to float64 by StandardScaler.\n",
      "  warnings.warn(msg, DataConversionWarning)\n",
      "/home/salm/anaconda2/lib/python2.7/site-packages/sklearn/utils/validation.py:420: DataConversionWarning: Data with input dtype int64 was converted to float64 by StandardScaler.\n",
      "  warnings.warn(msg, DataConversionWarning)\n",
      "/home/salm/anaconda2/lib/python2.7/site-packages/sklearn/utils/validation.py:420: DataConversionWarning: Data with input dtype int64 was converted to float64 by StandardScaler.\n",
      "  warnings.warn(msg, DataConversionWarning)\n",
      "/home/salm/anaconda2/lib/python2.7/site-packages/sklearn/utils/validation.py:420: DataConversionWarning: Data with input dtype int64 was converted to float64 by StandardScaler.\n",
      "  warnings.warn(msg, DataConversionWarning)\n",
      "/home/salm/anaconda2/lib/python2.7/site-packages/sklearn/utils/validation.py:420: DataConversionWarning: Data with input dtype int64 was converted to float64 by StandardScaler.\n",
      "  warnings.warn(msg, DataConversionWarning)\n",
      "/home/salm/anaconda2/lib/python2.7/site-packages/sklearn/utils/validation.py:420: DataConversionWarning: Data with input dtype int64 was converted to float64 by StandardScaler.\n",
      "  warnings.warn(msg, DataConversionWarning)\n",
      "/home/salm/anaconda2/lib/python2.7/site-packages/sklearn/utils/validation.py:420: DataConversionWarning: Data with input dtype int64 was converted to float64 by StandardScaler.\n",
      "  warnings.warn(msg, DataConversionWarning)\n",
      "/home/salm/anaconda2/lib/python2.7/site-packages/sklearn/utils/validation.py:420: DataConversionWarning: Data with input dtype int64 was converted to float64 by StandardScaler.\n",
      "  warnings.warn(msg, DataConversionWarning)\n",
      "/home/salm/anaconda2/lib/python2.7/site-packages/sklearn/utils/validation.py:420: DataConversionWarning: Data with input dtype int64 was converted to float64 by StandardScaler.\n",
      "  warnings.warn(msg, DataConversionWarning)\n",
      "/home/salm/anaconda2/lib/python2.7/site-packages/sklearn/utils/validation.py:420: DataConversionWarning: Data with input dtype int64 was converted to float64 by StandardScaler.\n",
      "  warnings.warn(msg, DataConversionWarning)\n",
      "/home/salm/anaconda2/lib/python2.7/site-packages/sklearn/utils/validation.py:420: DataConversionWarning: Data with input dtype int64 was converted to float64 by StandardScaler.\n",
      "  warnings.warn(msg, DataConversionWarning)\n",
      "/home/salm/anaconda2/lib/python2.7/site-packages/sklearn/utils/validation.py:420: DataConversionWarning: Data with input dtype int64 was converted to float64 by StandardScaler.\n",
      "  warnings.warn(msg, DataConversionWarning)\n",
      "/home/salm/anaconda2/lib/python2.7/site-packages/sklearn/utils/validation.py:420: DataConversionWarning: Data with input dtype int64 was converted to float64 by StandardScaler.\n",
      "  warnings.warn(msg, DataConversionWarning)\n",
      "/home/salm/anaconda2/lib/python2.7/site-packages/sklearn/utils/validation.py:420: DataConversionWarning: Data with input dtype int64 was converted to float64 by StandardScaler.\n",
      "  warnings.warn(msg, DataConversionWarning)\n",
      "/home/salm/anaconda2/lib/python2.7/site-packages/sklearn/utils/validation.py:420: DataConversionWarning: Data with input dtype int64 was converted to float64 by StandardScaler.\n",
      "  warnings.warn(msg, DataConversionWarning)\n",
      "/home/salm/anaconda2/lib/python2.7/site-packages/sklearn/utils/validation.py:420: DataConversionWarning: Data with input dtype int64 was converted to float64 by StandardScaler.\n",
      "  warnings.warn(msg, DataConversionWarning)\n",
      "/home/salm/anaconda2/lib/python2.7/site-packages/sklearn/utils/validation.py:420: DataConversionWarning: Data with input dtype int64 was converted to float64 by StandardScaler.\n",
      "  warnings.warn(msg, DataConversionWarning)\n",
      "/home/salm/anaconda2/lib/python2.7/site-packages/sklearn/utils/validation.py:420: DataConversionWarning: Data with input dtype int64 was converted to float64 by StandardScaler.\n",
      "  warnings.warn(msg, DataConversionWarning)\n",
      "/home/salm/anaconda2/lib/python2.7/site-packages/sklearn/utils/validation.py:420: DataConversionWarning: Data with input dtype int64 was converted to float64 by StandardScaler.\n",
      "  warnings.warn(msg, DataConversionWarning)\n",
      "/home/salm/anaconda2/lib/python2.7/site-packages/sklearn/utils/validation.py:420: DataConversionWarning: Data with input dtype int64 was converted to float64 by StandardScaler.\n",
      "  warnings.warn(msg, DataConversionWarning)\n",
      "/home/salm/anaconda2/lib/python2.7/site-packages/sklearn/utils/validation.py:420: DataConversionWarning: Data with input dtype int64 was converted to float64 by StandardScaler.\n",
      "  warnings.warn(msg, DataConversionWarning)\n"
     ]
    }
   ],
   "source": [
    "# Use Pipeline\n",
    "# ANOVA \n",
    "from sklearn.pipeline import Pipeline\n",
    "from sklearn.feature_selection import SelectKBest, f_regression\n",
    "anova_filter = SelectKBest(f_regression, k=7)\n",
    "LR = LinearRegression()\n",
    "anova_LinReg = Pipeline([('scaler_Input',scaler), ('anova', anova_filter), ('LinReg', LR)])\n",
    "# You can set the parameters using the names issued\n",
    "# For instance, fit using a k of 10 in the SelectKBest\n",
    "anova_LinReg.set_params(anova__k=7).fit(new_data, Y)\n",
    "prediction = anova_LinReg.predict(new_data)\n",
    "print anova_LinReg.score(new_data, Y)                        \n",
    "# getting the selected features chosen by anova_filter\n",
    "results = cross_validation.cross_val_score(anova_LinReg, new_data, Y, cv=kfold, scoring=scoring)\n",
    "print 'Scoring according to mean_squared_error'\n",
    "print results\n",
    "print '\\n Mean      Standard deviation'\n",
    "print(\"%.2f      %.2f\" % (results.mean(), results.std()))\n",
    "print anova_LinReg.named_steps['anova'].get_support()\n",
    "r_squared = r2_score(Y, prediction, multioutput='variance_weighted')\n",
    "print 'R-squared = ',r_squared"
   ]
  },
  {
   "cell_type": "code",
   "execution_count": 23,
   "metadata": {
    "collapsed": false
   },
   "outputs": [
    {
     "name": "stdout",
     "output_type": "stream",
     "text": [
      "R-squared =  0.965492505288\n"
     ]
    },
    {
     "name": "stderr",
     "output_type": "stream",
     "text": [
      "/home/salm/anaconda2/lib/python2.7/site-packages/sklearn/utils/validation.py:420: DataConversionWarning: Data with input dtype int64 was converted to float64 by StandardScaler.\n",
      "  warnings.warn(msg, DataConversionWarning)\n",
      "/home/salm/anaconda2/lib/python2.7/site-packages/sklearn/utils/validation.py:420: DataConversionWarning: Data with input dtype int64 was converted to float64 by StandardScaler.\n",
      "  warnings.warn(msg, DataConversionWarning)\n",
      "/home/salm/anaconda2/lib/python2.7/site-packages/sklearn/utils/validation.py:420: DataConversionWarning: Data with input dtype int64 was converted to float64 by StandardScaler.\n",
      "  warnings.warn(msg, DataConversionWarning)\n"
     ]
    }
   ],
   "source": [
    "# Using make_pipeline\n",
    "from sklearn.pipeline import make_pipeline\n",
    "\n",
    "# ANOVA SVM-C\n",
    "# 1) anova filter, take 3 best ranked features\n",
    "anova_filter = SelectKBest(f_regression, k=7)\n",
    "anova_lr = make_pipeline(scaler, anova_filter, LR)\n",
    "anova_lr.fit(new_data, Y)\n",
    "prediction = anova_lr.predict(new_data)\n",
    "r_squared = r2_score(Y, prediction, multioutput='variance_weighted')\n",
    "print 'R-squared = ',r_squared"
   ]
  },
  {
   "cell_type": "markdown",
   "metadata": {},
   "source": [
    "### Save the Pipeline model for developement"
   ]
  },
  {
   "cell_type": "code",
   "execution_count": 24,
   "metadata": {
    "collapsed": false
   },
   "outputs": [
    {
     "data": {
      "text/plain": [
       "['anova_lr.pkl',\n",
       " 'anova_lr.pkl_01.npy',\n",
       " 'anova_lr.pkl_02.npy',\n",
       " 'anova_lr.pkl_03.npy',\n",
       " 'anova_lr.pkl_04.npy',\n",
       " 'anova_lr.pkl_05.npy',\n",
       " 'anova_lr.pkl_06.npy',\n",
       " 'anova_lr.pkl_07.npy']"
      ]
     },
     "execution_count": 24,
     "metadata": {},
     "output_type": "execute_result"
    }
   ],
   "source": [
    "# save the model scaler to the desk\n",
    "from sklearn.externals import joblib\n",
    "joblib.dump(anova_lr, 'anova_lr.pkl') "
   ]
  },
  {
   "cell_type": "code",
   "execution_count": 25,
   "metadata": {
    "collapsed": false
   },
   "outputs": [
    {
     "name": "stdout",
     "output_type": "stream",
     "text": [
      " =================================================================>>>>> done\n",
      "R-squared =  0.965492505288\n"
     ]
    },
    {
     "name": "stderr",
     "output_type": "stream",
     "text": [
      "/home/salm/anaconda2/lib/python2.7/site-packages/sklearn/utils/validation.py:420: DataConversionWarning: Data with input dtype int64 was converted to float64 by StandardScaler.\n",
      "  warnings.warn(msg, DataConversionWarning)\n"
     ]
    }
   ],
   "source": [
    "# Test the model if it is work\n",
    "anova_lrTest = joblib.load('anova_lr.pkl')\n",
    "NewPred = anova_lrTest.predict(new_data)\n",
    "print \" =================================================================>>>>> done\"\n",
    "r_squared = r2_score(Y, NewPred, multioutput='variance_weighted')\n",
    "print 'R-squared = ',r_squared"
   ]
  },
  {
   "cell_type": "code",
   "execution_count": 26,
   "metadata": {
    "collapsed": false
   },
   "outputs": [
    {
     "name": "stdout",
     "output_type": "stream",
     "text": [
      "Point of training data before normalization\n",
      "[   50  2000 32000    24     6    26   114]\n",
      "\n",
      "The read target of the data =  182\n",
      "\n",
      "The Predicted target of the data =  [ 165.35464227]\n"
     ]
    }
   ],
   "source": [
    "# test on single data point, randomly choose point number 55\n",
    "print 'Point of training data before normalization\\n',new_data[55]\n",
    "print '\\nThe read target of the data = ', Y[55]\n",
    "NewPred = anova_lrTest.predict([new_data[55]])\n",
    "print '\\nThe Predicted target of the data = ', NewPred\n",
    "\n"
   ]
  },
  {
   "cell_type": "markdown",
   "metadata": {},
   "source": [
    "## Conclusion "
   ]
  },
  {
   "cell_type": "markdown",
   "metadata": {},
   "source": [
    "From the learning cure the model shows some high bias even though the model started to learn about the structure of the data."
   ]
  }
 ],
 "metadata": {
  "kernelspec": {
   "display_name": "Python 2",
   "language": "python",
   "name": "python2"
  },
  "language_info": {
   "codemirror_mode": {
    "name": "ipython",
    "version": 2
   },
   "file_extension": ".py",
   "mimetype": "text/x-python",
   "name": "python",
   "nbconvert_exporter": "python",
   "pygments_lexer": "ipython2",
   "version": "2.7.12"
  }
 },
 "nbformat": 4,
 "nbformat_minor": 0
}
