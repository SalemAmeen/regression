{
 "cells": [
  {
   "cell_type": "markdown",
   "metadata": {},
   "source": [
    "Salem Ameen, PhD student at Salford University\n",
    "\n",
    "### COMPUTER HARDWARE\n",
    "\n",
    "Decision trees Regression"
   ]
  },
  {
   "cell_type": "markdown",
   "metadata": {},
   "source": [
    "# Import the Libraries"
   ]
  },
  {
   "cell_type": "code",
   "execution_count": 1,
   "metadata": {
    "collapsed": false
   },
   "outputs": [
    {
     "data": {
      "text/html": [
       "\n",
       "    <div class=\"bk-root\">\n",
       "        <a href=\"http://bokeh.pydata.org\" target=\"_blank\" class=\"bk-logo bk-logo-small bk-logo-notebook\"></a>\n",
       "        <span id=\"1c5011ba-5516-40dc-b9ce-48d7470bba82\">Loading BokehJS ...</span>\n",
       "    </div>"
      ]
     },
     "metadata": {},
     "output_type": "display_data"
    },
    {
     "data": {
      "application/javascript": [
       "\n",
       "(function(global) {\n",
       "  function now() {\n",
       "    return new Date();\n",
       "  }\n",
       "\n",
       "  var force = \"1\";\n",
       "\n",
       "  if (typeof (window._bokeh_onload_callbacks) === \"undefined\" || force !== \"\") {\n",
       "    window._bokeh_onload_callbacks = [];\n",
       "    window._bokeh_is_loading = undefined;\n",
       "  }\n",
       "\n",
       "\n",
       "  \n",
       "  if (typeof (window._bokeh_timeout) === \"undefined\" || force !== \"\") {\n",
       "    window._bokeh_timeout = Date.now() + 5000;\n",
       "    window._bokeh_failed_load = false;\n",
       "  }\n",
       "\n",
       "  var NB_LOAD_WARNING = {'data': {'text/html':\n",
       "     \"<div style='background-color: #fdd'>\\n\"+\n",
       "     \"<p>\\n\"+\n",
       "     \"BokehJS does not appear to have successfully loaded. If loading BokehJS from CDN, this \\n\"+\n",
       "     \"may be due to a slow or bad network connection. Possible fixes:\\n\"+\n",
       "     \"</p>\\n\"+\n",
       "     \"<ul>\\n\"+\n",
       "     \"<li>re-rerun `output_notebook()` to attempt to load from CDN again, or</li>\\n\"+\n",
       "     \"<li>use INLINE resources instead, as so:</li>\\n\"+\n",
       "     \"</ul>\\n\"+\n",
       "     \"<code>\\n\"+\n",
       "     \"from bokeh.resources import INLINE\\n\"+\n",
       "     \"output_notebook(resources=INLINE)\\n\"+\n",
       "     \"</code>\\n\"+\n",
       "     \"</div>\"}};\n",
       "\n",
       "  function display_loaded() {\n",
       "    if (window.Bokeh !== undefined) {\n",
       "      Bokeh.$(\"#1c5011ba-5516-40dc-b9ce-48d7470bba82\").text(\"BokehJS successfully loaded.\");\n",
       "    } else if (Date.now() < window._bokeh_timeout) {\n",
       "      setTimeout(display_loaded, 100)\n",
       "    }\n",
       "  }\n",
       "\n",
       "  function run_callbacks() {\n",
       "    window._bokeh_onload_callbacks.forEach(function(callback) { callback() });\n",
       "    delete window._bokeh_onload_callbacks\n",
       "    console.info(\"Bokeh: all callbacks have finished\");\n",
       "  }\n",
       "\n",
       "  function load_libs(js_urls, callback) {\n",
       "    window._bokeh_onload_callbacks.push(callback);\n",
       "    if (window._bokeh_is_loading > 0) {\n",
       "      console.log(\"Bokeh: BokehJS is being loaded, scheduling callback at\", now());\n",
       "      return null;\n",
       "    }\n",
       "    if (js_urls == null || js_urls.length === 0) {\n",
       "      run_callbacks();\n",
       "      return null;\n",
       "    }\n",
       "    console.log(\"Bokeh: BokehJS not loaded, scheduling load and callback at\", now());\n",
       "    window._bokeh_is_loading = js_urls.length;\n",
       "    for (var i = 0; i < js_urls.length; i++) {\n",
       "      var url = js_urls[i];\n",
       "      var s = document.createElement('script');\n",
       "      s.src = url;\n",
       "      s.async = false;\n",
       "      s.onreadystatechange = s.onload = function() {\n",
       "        window._bokeh_is_loading--;\n",
       "        if (window._bokeh_is_loading === 0) {\n",
       "          console.log(\"Bokeh: all BokehJS libraries loaded\");\n",
       "          run_callbacks()\n",
       "        }\n",
       "      };\n",
       "      s.onerror = function() {\n",
       "        console.warn(\"failed to load library \" + url);\n",
       "      };\n",
       "      console.log(\"Bokeh: injecting script tag for BokehJS library: \", url);\n",
       "      document.getElementsByTagName(\"head\")[0].appendChild(s);\n",
       "    }\n",
       "  };var element = document.getElementById(\"1c5011ba-5516-40dc-b9ce-48d7470bba82\");\n",
       "  if (element == null) {\n",
       "    console.log(\"Bokeh: ERROR: autoload.js configured with elementid '1c5011ba-5516-40dc-b9ce-48d7470bba82' but no matching script tag was found. \")\n",
       "    return false;\n",
       "  }\n",
       "\n",
       "  var js_urls = ['https://cdn.pydata.org/bokeh/release/bokeh-0.12.2.min.js', 'https://cdn.pydata.org/bokeh/release/bokeh-widgets-0.12.2.min.js', 'https://cdn.pydata.org/bokeh/release/bokeh-compiler-0.12.2.min.js'];\n",
       "\n",
       "  var inline_js = [\n",
       "    function(Bokeh) {\n",
       "      Bokeh.set_log_level(\"info\");\n",
       "    },\n",
       "    \n",
       "    function(Bokeh) {\n",
       "      \n",
       "      Bokeh.$(\"#1c5011ba-5516-40dc-b9ce-48d7470bba82\").text(\"BokehJS is loading...\");\n",
       "    },\n",
       "    function(Bokeh) {\n",
       "      console.log(\"Bokeh: injecting CSS: https://cdn.pydata.org/bokeh/release/bokeh-0.12.2.min.css\");\n",
       "      Bokeh.embed.inject_css(\"https://cdn.pydata.org/bokeh/release/bokeh-0.12.2.min.css\");\n",
       "      console.log(\"Bokeh: injecting CSS: https://cdn.pydata.org/bokeh/release/bokeh-widgets-0.12.2.min.css\");\n",
       "      Bokeh.embed.inject_css(\"https://cdn.pydata.org/bokeh/release/bokeh-widgets-0.12.2.min.css\");\n",
       "    }\n",
       "  ];\n",
       "\n",
       "  function run_inline_js() {\n",
       "    \n",
       "    if ((window.Bokeh !== undefined) || (force === \"1\")) {\n",
       "      for (var i = 0; i < inline_js.length; i++) {\n",
       "        inline_js[i](window.Bokeh);\n",
       "      }if (force === \"1\") {\n",
       "        display_loaded();\n",
       "      }} else if (Date.now() < window._bokeh_timeout) {\n",
       "      setTimeout(run_inline_js, 100);\n",
       "    } else if (!window._bokeh_failed_load) {\n",
       "      console.log(\"Bokeh: BokehJS failed to load within specified timeout.\");\n",
       "      window._bokeh_failed_load = true;\n",
       "    } else if (!force) {\n",
       "      var cell = $(\"#1c5011ba-5516-40dc-b9ce-48d7470bba82\").parents('.cell').data().cell;\n",
       "      cell.output_area.append_execute_result(NB_LOAD_WARNING)\n",
       "    }\n",
       "\n",
       "  }\n",
       "\n",
       "  if (window._bokeh_is_loading === 0) {\n",
       "    console.log(\"Bokeh: BokehJS loaded, going straight to plotting\");\n",
       "    run_inline_js();\n",
       "  } else {\n",
       "    load_libs(js_urls, function() {\n",
       "      console.log(\"Bokeh: BokehJS plotting callback run at\", now());\n",
       "      run_inline_js();\n",
       "    });\n",
       "  }\n",
       "}(this));"
      ]
     },
     "metadata": {},
     "output_type": "display_data"
    }
   ],
   "source": [
    "import numpy as np\n",
    "import pandas\n",
    "from numpy import *\n",
    "import time\n",
    "import sys\n",
    "import pandas as pd\n",
    "import matplotlib.pyplot as plt\n",
    "from sklearn import feature_selection\n",
    "from sklearn.tree import DecisionTreeRegressor\n",
    "from sklearn.learning_curve import learning_curve, validation_curve\n",
    "from sklearn.cross_validation import cross_val_predict\n",
    "from sklearn import metrics, grid_search, cross_validation\n",
    "from IPython.display import set_matplotlib_formats\n",
    "from bokeh.plotting import figure, show, output_notebook\n",
    "from sklearn.grid_search import GridSearchCV, RandomizedSearchCV\n",
    "from sklearn.metrics import r2_score\n",
    "from bokeh.layouts import gridplot\n",
    "output_notebook()\n",
    "set_matplotlib_formats('png', 'pdf')\n",
    "%matplotlib inline\n",
    "plt.rcParams['figure.figsize'] = (6, 6)"
   ]
  },
  {
   "cell_type": "markdown",
   "metadata": {},
   "source": [
    "# Load data"
   ]
  },
  {
   "cell_type": "markdown",
   "metadata": {},
   "source": [
    "In the previous file we have not change the data as there is no missing value or add any new parameters so it can be downloaded from the web directly. "
   ]
  },
  {
   "cell_type": "code",
   "execution_count": 2,
   "metadata": {
    "collapsed": false
   },
   "outputs": [
    {
     "name": "stdout",
     "output_type": "stream",
     "text": [
      "Number of examples 209\n"
     ]
    }
   ],
   "source": [
    "url = 'http://archive.ics.uci.edu/ml/machine-learning-databases/cpu-performance/machine.data'\n",
    "names = ['vendor', 'Model', 'MYCT', 'MMIN', 'MMAX', 'CACH', 'CHMIN','CHMAX','PRP','ERP']\n",
    "feature_names = ['MYCT', 'MMIN', 'MMAX', 'CACH', 'CHMIN','CHMAX','PRP','ERP']\n",
    "feature_cols = ['MYCT', 'MMIN', 'MMAX', 'CACH', 'CHMIN','CHMAX','PRP','ERP']\n",
    "data = pd.read_csv(url, sep=',', names = names)\n",
    "data = data.drop('vendor',1)\n",
    "data = data.drop('Model',1)\n",
    "\n",
    "from sklearn import preprocessing\n",
    "\n",
    "def number_encode_features(df):\n",
    "    result = df.copy()\n",
    "    encoders = {}\n",
    "    for column in result.columns:\n",
    "        if result.dtypes[column] == np.object:\n",
    "            encoders[column] = preprocessing.LabelEncoder()\n",
    "            result[column] = encoders[column].fit_transform(result[column])\n",
    "    return result, encoders\n",
    "\n",
    "data, _ = number_encode_features(data)\n",
    "\n",
    "dataset = data.values\n",
    "X = dataset[:,0:7]\n",
    "Y = dataset[:,7]\n",
    "print 'Number of examples',len(X)"
   ]
  },
  {
   "cell_type": "code",
   "execution_count": 3,
   "metadata": {
    "collapsed": false
   },
   "outputs": [
    {
     "name": "stdout",
     "output_type": "stream",
     "text": [
      "Number of training examples 167\n",
      "Number of validation examples 42\n"
     ]
    }
   ],
   "source": [
    "# Make developement dataset for genrilization and final testing\n",
    "from sklearn.cross_validation import train_test_split\n",
    "# Extracting 20% testing data\n",
    "X_train, X_test, y_train, y_test = train_test_split(\n",
    "    X, Y, test_size=0.20, random_state=0)\n",
    "X = X_train\n",
    "Y = y_train\n",
    "new_data      = X_train\n",
    "new_test_data = X_test\n",
    "print 'Number of training examples',len(X_train)\n",
    "print 'Number of validation examples',len(X_test)"
   ]
  },
  {
   "cell_type": "markdown",
   "metadata": {},
   "source": [
    "Number of training data is very small so we need to use cross validation instead of spareate another validation data."
   ]
  },
  {
   "cell_type": "markdown",
   "metadata": {},
   "source": [
    "From the previous visulization the data has no missing value but has many outlier and some sparisty"
   ]
  },
  {
   "cell_type": "markdown",
   "metadata": {},
   "source": [
    "# Ranking of the feature's importance to the target"
   ]
  },
  {
   "cell_type": "code",
   "execution_count": 4,
   "metadata": {
    "collapsed": false
   },
   "outputs": [
    {
     "name": "stdout",
     "output_type": "stream",
     "text": [
      "MYCT \t0.790172717739\n",
      "MMIN \t0.696943738275\n",
      "MMAX \t0.915780146338\n",
      "CACH \t0.64822709538\n",
      "CHMIN \t0.61750680672\n",
      "CHMAX \t0.533228200731\n",
      "PRP \t0.992114126713\n",
      "ERP \t1.0\n"
     ]
    }
   ],
   "source": [
    "# Using just correlation coefficient even in prevoius file we show them using data frame\n",
    "for col in feature_cols:\n",
    "    lm = DecisionTreeRegressor()\n",
    "    lm.fit(data[[col]], data['ERP'])\n",
    "    print col,'\\t', lm.score(data[[col]], data['ERP'])"
   ]
  },
  {
   "cell_type": "code",
   "execution_count": 5,
   "metadata": {
    "collapsed": false
   },
   "outputs": [
    {
     "name": "stdout",
     "output_type": "stream",
     "text": [
      "Feature Name      Score         Pvalue\n",
      "MYCT \t\t18.7784506906 \t2.28953652773e-05\n",
      "MMIN \t\t422.636024187 \t6.7010130085e-52\n",
      "MMAX \t\t895.035239011 \t4.20559221576e-77\n",
      "CACH \t\t150.332889484 \t2.4462451136e-26\n",
      "CHMIN \t\t123.042583867 \t9.66488661491e-23\n",
      "CHMAX \t\t111.779441433 \t3.62169179267e-21\n",
      "PRP \t\t2932.57297327 \t3.42704839853e-124\n",
      "ERP \t\tinf \t0.0\n"
     ]
    }
   ],
   "source": [
    "# Randing the important features to the target\n",
    "model = feature_selection.SelectKBest(score_func=feature_selection.f_regression,k=4)\n",
    "results = model.fit(data[feature_cols], data['ERP'])\n",
    "k=0\n",
    "print 'Feature Name      Score         Pvalue'\n",
    "for feat in feature_cols:\n",
    "    print feat,'\\t\\t',results.scores_[k],'\\t',results.pvalues_[k]\n",
    "    k=k+1\n"
   ]
  },
  {
   "cell_type": "markdown",
   "metadata": {},
   "source": [
    "# Set the parameters for cross validation"
   ]
  },
  {
   "cell_type": "code",
   "execution_count": 6,
   "metadata": {
    "collapsed": true
   },
   "outputs": [],
   "source": [
    "num_folds = 10\n",
    "num_instances = len(X)\n",
    "seed = 7\n",
    "kfold = cross_validation.KFold(n=num_instances, n_folds=num_folds, random_state=seed)"
   ]
  },
  {
   "cell_type": "markdown",
   "metadata": {},
   "source": [
    " # Set the parameters for bias-variance dilemma"
   ]
  },
  {
   "cell_type": "code",
   "execution_count": 7,
   "metadata": {
    "collapsed": false
   },
   "outputs": [],
   "source": [
    "def plot_learning_curve(estimator, title, X, y, ylim=None, cv=None,\n",
    "                        n_jobs=1, train_sizes=np.linspace(.1, 1.0, 5)):\n",
    "    plt.figure()\n",
    "    plt.title(title)\n",
    "    if ylim is not None:\n",
    "        plt.ylim(*ylim)\n",
    "    plt.xlabel(\"Training examples\")\n",
    "    plt.ylabel(\"Score\")\n",
    "    train_sizes, train_scores, test_scores = learning_curve(\n",
    "        estimator, X, y, cv=cv, n_jobs=n_jobs, train_sizes=train_sizes)\n",
    "    train_scores_mean = np.mean(train_scores, axis=1)\n",
    "    train_scores_std = np.std(train_scores, axis=1)\n",
    "    test_scores_mean = np.mean(test_scores, axis=1)\n",
    "    test_scores_std = np.std(test_scores, axis=1)\n",
    "    plt.grid()\n",
    "\n",
    "    plt.fill_between(train_sizes, train_scores_mean - train_scores_std,\n",
    "                     train_scores_mean + train_scores_std, alpha=0.1,\n",
    "                     color=\"r\")\n",
    "    plt.fill_between(train_sizes, test_scores_mean - test_scores_std,\n",
    "                     test_scores_mean + test_scores_std, alpha=0.1, color=\"g\")\n",
    "    plt.plot(train_sizes, train_scores_mean, 'o-', color=\"r\",\n",
    "             label=\"Training score\")\n",
    "    plt.plot(train_sizes, test_scores_mean, 'o-', color=\"g\",\n",
    "             label=\"Cross-validation score\")\n",
    "\n",
    "    plt.legend(loc=\"best\")\n",
    "    return plt"
   ]
  },
  {
   "cell_type": "markdown",
   "metadata": {},
   "source": [
    "# Preprocessing the data and save both the model and preprocessed data"
   ]
  },
  {
   "cell_type": "code",
   "execution_count": 8,
   "metadata": {
    "collapsed": false
   },
   "outputs": [
    {
     "name": "stderr",
     "output_type": "stream",
     "text": [
      "/home/salm/anaconda2/lib/python2.7/site-packages/sklearn/utils/validation.py:420: DataConversionWarning: Data with input dtype int64 was converted to float64 by StandardScaler.\n",
      "  warnings.warn(msg, DataConversionWarning)\n"
     ]
    }
   ],
   "source": [
    "# According to the nature of the data spasity and there is outliter RobustScaler class is recomandit \n",
    "# but when I tried both of them the result seems is same\n",
    "from sklearn.preprocessing import StandardScaler\n",
    "scaler = preprocessing.StandardScaler().fit(X_train)"
   ]
  },
  {
   "cell_type": "code",
   "execution_count": 9,
   "metadata": {
    "collapsed": false
   },
   "outputs": [
    {
     "name": "stderr",
     "output_type": "stream",
     "text": [
      "/home/salm/anaconda2/lib/python2.7/site-packages/sklearn/utils/validation.py:420: DataConversionWarning: Data with input dtype int64 was converted to float64 by StandardScaler.\n",
      "  warnings.warn(msg, DataConversionWarning)\n",
      "/home/salm/anaconda2/lib/python2.7/site-packages/sklearn/utils/validation.py:420: DataConversionWarning: Data with input dtype int64 was converted to float64 by StandardScaler.\n",
      "  warnings.warn(msg, DataConversionWarning)\n"
     ]
    }
   ],
   "source": [
    "X_train = scaler.transform(X_train)\n",
    "X_test = scaler.transform(X_test) # use same transform for testing data\n",
    "X = X_train"
   ]
  },
  {
   "cell_type": "code",
   "execution_count": 10,
   "metadata": {
    "collapsed": true
   },
   "outputs": [],
   "source": [
    "# save transformed data\n",
    "np.save('./data/X_train', X_train)\n",
    "np.save('./data/y_train', y_train)\n",
    "np.save('./data/X_test', X_test)\n",
    "np.save('./data/y_test', y_test)"
   ]
  },
  {
   "cell_type": "code",
   "execution_count": 11,
   "metadata": {
    "collapsed": false
   },
   "outputs": [
    {
     "data": {
      "text/plain": [
       "['scaler.pkl', 'scaler.pkl_01.npy', 'scaler.pkl_02.npy', 'scaler.pkl_03.npy']"
      ]
     },
     "execution_count": 11,
     "metadata": {},
     "output_type": "execute_result"
    }
   ],
   "source": [
    "# save the model scaler to the desk\n",
    "from sklearn.externals import joblib\n",
    "joblib.dump(scaler, 'scaler.pkl') "
   ]
  },
  {
   "cell_type": "code",
   "execution_count": 12,
   "metadata": {
    "collapsed": false
   },
   "outputs": [
    {
     "name": "stdout",
     "output_type": "stream",
     "text": [
      " =================================================================>>>>> done\n",
      "[[-0.59364305 -0.20866821 -0.31349377  0.98611582 -0.51650809 -0.39068313\n",
      "  -0.09019932]\n",
      " [ 0.43869005 -0.4699337  -0.72397006 -0.63206819 -0.38024134 -0.53321526\n",
      "  -0.54180082]\n",
      " [-0.6318776  -0.04668361 -0.10989753  0.11478597  0.98242613  0.17944539\n",
      "  -0.26252094]\n",
      " [-0.72364055  1.35892472  1.65679241  0.96122068  0.43735914  0.46450965\n",
      "   1.25272091]\n",
      " [-0.55540849  0.31386277  0.01488726 -0.43290708  0.16482565 -0.39068313\n",
      "  -0.19121544]\n",
      " [ 0.43869005 -0.4699337  -0.80606531 -0.63206819 -0.51650809 -0.60448133\n",
      "  -0.54180082]\n",
      " [-0.13482833 -0.20866821  0.34326829 -0.23374597 -0.51650809 -0.4619492\n",
      "  -0.24469457]\n",
      " [ 4.91213348 -0.53054729 -0.88816057 -0.63206819 -0.65277484 -0.67574739\n",
      "  -0.56556931]\n",
      " [-0.28776657 -0.20866821  1.65679241  0.16457625 -0.51650809  1.24843637\n",
      "   0.2009648 ]\n",
      " [-0.63952452  0.31386277  1.00003035  0.16457625  0.43735914  0.17944539\n",
      "   0.63473992]\n",
      " [-0.31453076 -0.4699337  -0.31349377 -0.40801194 -0.2439746  -0.248151\n",
      "  -0.20904182]\n",
      " [-0.70834672  3.44904862  1.65679241  5.74108728  1.52749312  0.17944539\n",
      "   2.39360889]\n",
      " [-0.28776657 -0.4699337   0.34326829 -0.23374597 -0.51650809 -0.56884829\n",
      "   0.18313842]\n",
      " [-0.5974665   1.35892472  0.34326829  0.96122068  0.98242613  0.17944539\n",
      "   0.48024467]\n",
      " [-0.72364055  3.44904862  1.65679241  0.96122068  0.43735914  0.17944539\n",
      "   2.12621327]\n",
      " [-0.28776657 -0.20866821 -0.6418748  -0.63206819 -0.10770785 -0.39068313\n",
      "  -0.39918982]\n",
      " [-0.44835172 -0.4699337  -0.31349377  0.16457625 -0.38024134 -0.39068313\n",
      "  -0.36353707]\n",
      " [-0.6318776  -0.4699337  -0.6418748  -0.43290708 -0.51650809 -0.49758223\n",
      "  -0.46455319]\n",
      " [-0.47893937 -0.66431522 -0.88816057 -0.63206819 -0.2439746  -0.31941706\n",
      "  -0.53585869]\n",
      " [-0.2762962  -0.4699337  -0.80606531 -0.63206819  0.0285589  -0.10561887\n",
      "  -0.45266894]\n",
      " [-0.05835922 -0.4699337  -0.80606531 -0.63206819 -0.51650809 -0.60448133\n",
      "  -0.48832169]\n",
      " [-0.05835922 -0.59743125  0.34326829 -0.63206819 -0.10770785  0.46450965\n",
      "  -0.42890044]\n",
      " [-0.73511091  3.44904862  1.65679241  0.96122068  1.52749312  0.46450965\n",
      "   2.26882427]\n",
      " [-0.40247025 -0.4699337   0.01488726 -0.23374597 -0.51650809 -0.60448133\n",
      "  -0.28034732]\n",
      " [-0.28776657 -0.20866821 -0.6418748  -0.43290708 -0.51650809  0.03691326\n",
      "  -0.50614807]\n",
      " [-0.6318776  -0.20866821  0.34326829 -0.33332653 -0.2439746  -0.10561887\n",
      "  -0.36947919]\n",
      " [-0.6318776  -0.20866821 -0.6418748  -0.63206819 -0.2439746  -0.4619492\n",
      "  -0.47643744]\n",
      " [ 2.23571434 -0.53054729 -0.80606531 -0.63206819 -0.65277484 -0.67574739\n",
      "  -0.51803232]\n",
      " [-0.5018801  -0.4699337  -0.80606531 -0.63206819 -0.51650809 -0.4619492\n",
      "  -0.56556931]\n",
      " [-0.42158753 -0.20866821 -0.47768428 -0.23374597  0.16482565 -0.10561887\n",
      "  -0.44078469]\n",
      " [ 0.32398638 -0.53054729  0.01488726 -0.48269736  0.16482565  0.17944539\n",
      "  -0.33976857]\n",
      " [-0.54776157 -0.20866821 -0.31349377 -0.23374597  0.16482565 -0.39068313\n",
      "  -0.0129517 ]\n",
      " [-0.38335297 -0.20866821 -0.31349377 -0.23374597 -0.51650809 -0.56884829\n",
      "  -0.33976857]\n",
      " [-0.53629121  0.05259728 -0.31349377 -0.43290708 -0.2439746   1.03463817\n",
      "  -0.25657882]\n",
      " [-0.62423069  0.31386277  0.34326829  0.16457625 -0.10770785 -0.248151\n",
      "   0.13560143]\n",
      " [-0.59364305 -0.20866821  0.34326829  0.96122068  0.0285589  -0.39068313\n",
      "  -0.19715757]\n",
      " [-0.21129745 -0.59743125 -0.6418748  -0.58227791 -0.51650809 -0.49758223\n",
      "  -0.45861107]\n",
      " [-0.727464   -0.20866821  0.01488726 -0.43290708 -0.51650809 -0.53321526\n",
      "  -0.34571069]\n",
      " [-0.18453326 -0.59429607 -0.80606531 -0.43290708 -0.10770785 -0.1412519\n",
      "  -0.52397444]\n",
      " [-0.6318776  -0.20866821  0.34326829 -0.03458486  0.16482565 -0.10561887\n",
      "  -0.31600007]\n",
      " [-0.72364055  1.35892472  1.00003035  0.16457625  0.43735914 -0.10561887\n",
      "   0.3911128 ]\n",
      " [-0.2762962  -0.13028856 -0.46126523 -0.63206819  0.16482565  1.6047667\n",
      "  -0.27440519]]\n"
     ]
    },
    {
     "name": "stderr",
     "output_type": "stream",
     "text": [
      "/home/salm/anaconda2/lib/python2.7/site-packages/sklearn/utils/validation.py:420: DataConversionWarning: Data with input dtype int64 was converted to float64 by StandardScaler.\n",
      "  warnings.warn(msg, DataConversionWarning)\n"
     ]
    }
   ],
   "source": [
    "# Test the model if it is work\n",
    "scalerTest = joblib.load('scaler.pkl')\n",
    "new_data_scaled = scalerTest.transform(new_test_data)\n",
    "print \" =================================================================>>>>> done\"\n",
    "print new_data_scaled"
   ]
  },
  {
   "cell_type": "markdown",
   "metadata": {},
   "source": [
    "# 1. DecisionTreeRegressor  with AdaBoost Regression"
   ]
  },
  {
   "cell_type": "markdown",
   "metadata": {},
   "source": [
    "Decision trees or the Classification and Regression Trees (CART as they are know) use the training data to select the best points to split the data in order to minimize a cost metric. The default cost metric for regression decision trees is the mean squared error, specified in the criterion parameter."
   ]
  },
  {
   "cell_type": "markdown",
   "metadata": {},
   "source": [
    "## Validation curve"
   ]
  },
  {
   "cell_type": "markdown",
   "metadata": {},
   "source": [
    "choosing multiple hyperparameters of an estimator "
   ]
  },
  {
   "cell_type": "code",
   "execution_count": 13,
   "metadata": {
    "collapsed": false
   },
   "outputs": [
    {
     "data": {
      "text/plain": [
       "['presort',\n",
       " 'splitter',\n",
       " 'max_leaf_nodes',\n",
       " 'min_samples_leaf',\n",
       " 'min_samples_split',\n",
       " 'min_weight_fraction_leaf',\n",
       " 'criterion',\n",
       " 'random_state',\n",
       " 'max_features',\n",
       " 'max_depth']"
      ]
     },
     "execution_count": 13,
     "metadata": {},
     "output_type": "execute_result"
    }
   ],
   "source": [
    "from sklearn.tree import DecisionTreeRegressor\n",
    "estimator = DecisionTreeRegressor()\n",
    "estimator.get_params().keys()"
   ]
  },
  {
   "cell_type": "code",
   "execution_count": 14,
   "metadata": {
    "collapsed": false
   },
   "outputs": [
    {
     "data": {
      "text/plain": [
       "['loss',\n",
       " 'base_estimator__min_samples_split',\n",
       " 'base_estimator__max_depth',\n",
       " 'learning_rate',\n",
       " 'base_estimator',\n",
       " 'base_estimator__criterion',\n",
       " 'base_estimator__max_features',\n",
       " 'base_estimator__random_state',\n",
       " 'n_estimators',\n",
       " 'base_estimator__min_weight_fraction_leaf',\n",
       " 'random_state',\n",
       " 'base_estimator__splitter',\n",
       " 'base_estimator__max_leaf_nodes',\n",
       " 'base_estimator__min_samples_leaf',\n",
       " 'base_estimator__presort']"
      ]
     },
     "execution_count": 14,
     "metadata": {},
     "output_type": "execute_result"
    }
   ],
   "source": [
    "from sklearn.tree import DecisionTreeRegressor\n",
    "from sklearn.ensemble import AdaBoostRegressor\n",
    "estimator = AdaBoostRegressor(DecisionTreeRegressor())\n",
    "estimator.get_params().keys()"
   ]
  },
  {
   "cell_type": "code",
   "execution_count": 15,
   "metadata": {
    "collapsed": false
   },
   "outputs": [
    {
     "data": {
      "image/png": "[encoded data removed]",
      "text/plain": [
       "<matplotlib.figure.Figure at 0x7f2cf3ee6f50>"
      ]
     },
     "metadata": {},
     "output_type": "display_data"
    }
   ],
   "source": [
    "# For parametr alpha\n",
    "#param_range = np.logspace(-10.0, 10.0)\n",
    "#param_range = np.linspace(1,50,100)\n",
    "param_range = np.arange(1,50) # generate integer numbers\n",
    "\n",
    "train_scores, test_scores = validation_curve(\n",
    "    DecisionTreeRegressor(), X, Y, param_name=\"max_depth\", param_range=param_range,\n",
    "    cv=num_folds,  n_jobs=-1)\n",
    "train_scores_mean = np.mean(train_scores, axis=1)\n",
    "train_scores_std = np.std(train_scores, axis=1)\n",
    "test_scores_mean = np.mean(test_scores, axis=1)\n",
    "test_scores_std = np.std(test_scores, axis=1)\n",
    "\n",
    "plt.title(\"Validation Curve with DecisionTreeRegressor\")\n",
    "plt.xlabel(\"max_depth\")\n",
    "plt.ylabel(\"Score\")\n",
    "plt.ylim(0.4, 1.0)\n",
    "plt.plot(param_range, train_scores_mean, label=\"Training score\", color=\"r\")\n",
    "plt.fill_between(param_range, train_scores_mean - train_scores_std,\n",
    "                 train_scores_mean + train_scores_std, alpha=0.2, color=\"r\")\n",
    "plt.plot(param_range, test_scores_mean, label=\"Cross-validation score\",\n",
    "             color=\"g\")\n",
    "plt.fill_between(param_range, test_scores_mean - test_scores_std,\n",
    "                 test_scores_mean + test_scores_std, alpha=0.2, color=\"g\")\n",
    "plt.legend(loc=\"best\")\n",
    "plt.show()"
   ]
  },
  {
   "cell_type": "markdown",
   "metadata": {},
   "source": [
    "more that 5 is the best of number of K"
   ]
  },
  {
   "cell_type": "code",
   "execution_count": 16,
   "metadata": {
    "collapsed": false
   },
   "outputs": [
    {
     "data": {
      "image/png": "[encoded data removed]",
      "text/plain": [
       "<matplotlib.figure.Figure at 0x7f2cf3ee6210>"
      ]
     },
     "metadata": {},
     "output_type": "display_data"
    }
   ],
   "source": [
    "# For parametr alpha\n",
    "#param_range = np.logspace(-10.0, 10.0)\n",
    "#param_range = np.linspace(1,50,100)\n",
    "param_range = np.arange(1,10) # generate integer numbers\n",
    "\n",
    "train_scores, test_scores = validation_curve(\n",
    "    DecisionTreeRegressor(), X, Y, param_name=\"min_samples_split\", param_range=param_range,\n",
    "    cv=num_folds,  n_jobs=-1)\n",
    "train_scores_mean = np.mean(train_scores, axis=1)\n",
    "train_scores_std = np.std(train_scores, axis=1)\n",
    "test_scores_mean = np.mean(test_scores, axis=1)\n",
    "test_scores_std = np.std(test_scores, axis=1)\n",
    "\n",
    "plt.title(\"Validation Curve with DecisionTreeRegressor\")\n",
    "plt.xlabel(\"min_samples_split\")\n",
    "plt.ylabel(\"Score\")\n",
    "plt.ylim(0.4, 1.0)\n",
    "plt.plot(param_range, train_scores_mean, label=\"Training score\", color=\"r\")\n",
    "plt.fill_between(param_range, train_scores_mean - train_scores_std,\n",
    "                 train_scores_mean + train_scores_std, alpha=0.2, color=\"r\")\n",
    "plt.plot(param_range, test_scores_mean, label=\"Cross-validation score\",\n",
    "             color=\"g\")\n",
    "plt.fill_between(param_range, test_scores_mean - test_scores_std,\n",
    "                 test_scores_mean + test_scores_std, alpha=0.2, color=\"g\")\n",
    "plt.legend(loc=\"best\")\n",
    "plt.show()"
   ]
  },
  {
   "cell_type": "markdown",
   "metadata": {},
   "source": [
    "min_samples_split =2 (The defualt) is the best"
   ]
  },
  {
   "cell_type": "code",
   "execution_count": 17,
   "metadata": {
    "collapsed": false
   },
   "outputs": [
    {
     "data": {
      "image/png": "[encoded data removed]",
      "text/plain": [
       "<matplotlib.figure.Figure at 0x7f2cef1abed0>"
      ]
     },
     "metadata": {},
     "output_type": "display_data"
    }
   ],
   "source": [
    "# For parametr alpha\n",
    "#param_range = np.logspace(-10.0, 10.0)\n",
    "#param_range = np.linspace(1,50,100)\n",
    "param_range = np.arange(1,10) # generate integer numbers\n",
    "\n",
    "train_scores, test_scores = validation_curve(\n",
    "    DecisionTreeRegressor(), X, Y, param_name=\"min_samples_leaf\", param_range=param_range,\n",
    "    cv=num_folds,  n_jobs=-1)\n",
    "train_scores_mean = np.mean(train_scores, axis=1)\n",
    "train_scores_std = np.std(train_scores, axis=1)\n",
    "test_scores_mean = np.mean(test_scores, axis=1)\n",
    "test_scores_std = np.std(test_scores, axis=1)\n",
    "\n",
    "plt.title(\"Validation Curve with DecisionTreeRegressor\")\n",
    "plt.xlabel(\"min_samples_leaf\")\n",
    "plt.ylabel(\"Score\")\n",
    "plt.ylim(0.4, 1.0)\n",
    "plt.plot(param_range, train_scores_mean, label=\"Training score\", color=\"r\")\n",
    "plt.fill_between(param_range, train_scores_mean - train_scores_std,\n",
    "                 train_scores_mean + train_scores_std, alpha=0.2, color=\"r\")\n",
    "plt.plot(param_range, test_scores_mean, label=\"Cross-validation score\",\n",
    "             color=\"g\")\n",
    "plt.fill_between(param_range, test_scores_mean - test_scores_std,\n",
    "                 test_scores_mean + test_scores_std, alpha=0.2, color=\"g\")\n",
    "plt.legend(loc=\"best\")\n",
    "plt.show()"
   ]
  },
  {
   "cell_type": "markdown",
   "metadata": {},
   "source": [
    "min_samples_leaf = 2 is the best"
   ]
  },
  {
   "cell_type": "markdown",
   "metadata": {},
   "source": [
    "## Grid search and/or Random search to determine best compination of parameters"
   ]
  },
  {
   "cell_type": "code",
   "execution_count": 18,
   "metadata": {
    "collapsed": false
   },
   "outputs": [
    {
     "name": "stdout",
     "output_type": "stream",
     "text": [
      "Hyperparameter optimization using GridSearchCV...\n",
      "Parameters with rank: 1\n",
      "Mean validation score: 0.8957 (std: 0.0458)\n",
      "Parameters: {'n_estimators': 4, 'loss': 'exponential'}\n",
      "\n",
      "Parameters with rank: 2\n",
      "Mean validation score: 0.8883 (std: 0.0688)\n",
      "Parameters: {'n_estimators': 8, 'loss': 'square'}\n",
      "\n",
      "Parameters with rank: 3\n",
      "Mean validation score: 0.8821 (std: 0.0451)\n",
      "Parameters: {'n_estimators': 3, 'loss': 'exponential'}\n",
      "\n",
      "Parameters with rank: 4\n",
      "Mean validation score: 0.8800 (std: 0.0512)\n",
      "Parameters: {'n_estimators': 3, 'loss': 'linear'}\n",
      "\n",
      "Parameters with rank: 5\n",
      "Mean validation score: 0.8797 (std: 0.0554)\n",
      "Parameters: {'n_estimators': 6, 'loss': 'square'}\n",
      "\n",
      "+++++++++++++++++++++++++++++++++++++++++++++++\n",
      "Hyperparameter optimization using RandomizedSearchCV\n",
      "Parameters with rank: 1\n",
      "Mean validation score: 0.8511 (std: 0.0766)\n",
      "Parameters: {'n_estimators': 100, 'loss': 'square'}\n",
      "\n",
      "Parameters with rank: 2\n",
      "Mean validation score: 0.8262 (std: 0.0946)\n",
      "Parameters: {'n_estimators': 500, 'loss': 'exponential'}\n",
      "\n",
      "Parameters with rank: 3\n",
      "Mean validation score: 0.8113 (std: 0.1213)\n",
      "Parameters: {'n_estimators': 200, 'loss': 'square'}\n",
      "\n",
      "Parameters with rank: 4\n",
      "Mean validation score: 0.8047 (std: 0.1296)\n",
      "Parameters: {'n_estimators': 400, 'loss': 'square'}\n",
      "\n",
      "Parameters with rank: 5\n",
      "Mean validation score: 0.7990 (std: 0.2388)\n",
      "Parameters: {'n_estimators': 1, 'loss': 'linear'}\n",
      "\n"
     ]
    }
   ],
   "source": [
    "# Utility function to report optimal parameters\n",
    "from operator import itemgetter\n",
    "def report(grid_scores, n_top=5):\n",
    "    params = None\n",
    "    top_scores = sorted(grid_scores, key=itemgetter(1), reverse=True)[:n_top]\n",
    "    for i, score in enumerate(top_scores):\n",
    "        print(\"Parameters with rank: {0}\".format(i + 1))\n",
    "        print(\"Mean validation score: {0:.4f} (std: {1:.4f})\".format(\n",
    "              score.mean_validation_score, np.std(score.cv_validation_scores)))\n",
    "        print(\"Parameters: {0}\".format(score.parameters))\n",
    "        print(\"\")\n",
    "        \n",
    "        if params == None:\n",
    "            params = score.parameters\n",
    "    \n",
    "    return params\n",
    "\n",
    "# The most common value for the max number of features to look at in each split is sqrt(# of features)\n",
    "sqrtfeat = np.sqrt(X.shape[1]) \n",
    "grid_test1 = { \"n_estimators\"      : np.arange(1,10),\n",
    "             \"loss\"      : [ \"linear\", \"square\", \"exponential\"]}\n",
    "\n",
    "# Large randomized test using max_depth to control tree size (5000 possible combinations)\n",
    "random_test1 = { \"n_estimators\"      : [1,10,20,100,200, 300, 400, 500],\n",
    "                \"loss\"      : [ \"linear\", \"square\", \"exponential\"]}\n",
    "\n",
    "\n",
    "forest = AdaBoostRegressor()\n",
    "\n",
    "print \"Hyperparameter optimization using GridSearchCV...\"\n",
    "grid_search = GridSearchCV(forest, grid_test1, n_jobs=-1, cv=num_folds)\n",
    "grid_search.fit(X, Y)\n",
    "best_params_from_grid_search = report(grid_search.grid_scores_)\n",
    "print '+++++++++++++++++++++++++++++++++++++++++++++++'\n",
    "print \"Hyperparameter optimization using RandomizedSearchCV\"\n",
    "grid_search = RandomizedSearchCV(forest, random_test1, n_jobs=-1, cv=num_folds, n_iter=5)\n",
    "grid_search.fit(X, Y)\n",
    "best_params_from_rand_search1 = report(grid_search.grid_scores_)"
   ]
  },
  {
   "cell_type": "markdown",
   "metadata": {},
   "source": [
    "Best parameters Parameters: Parameters: {'max_features': None, 'max_depth': 19, 'min_samples_leaf': 1}\n"
   ]
  },
  {
   "cell_type": "markdown",
   "metadata": {},
   "source": [
    "## Learning Curve "
   ]
  },
  {
   "cell_type": "markdown",
   "metadata": {},
   "source": [
    "In essence, what we’re doing it training the exact same model with increasingly large fractions of our total training data, and plotting the error of the training and test sets at each step."
   ]
  },
  {
   "cell_type": "code",
   "execution_count": 19,
   "metadata": {
    "collapsed": false
   },
   "outputs": [
    {
     "data": {
      "image/png": "[encoded data removed]",
      "text/plain": [
       "<matplotlib.figure.Figure at 0x7f2ced6928d0>"
      ]
     },
     "metadata": {},
     "output_type": "display_data"
    }
   ],
   "source": [
    "from sklearn.tree import DecisionTreeRegressor\n",
    "model = AdaBoostRegressor(n_estimators = 5, loss = \"exponential\")\n",
    "title = \"Learning Curves (Ada DecisionTreeRegressor Refression)\"\n",
    "cv = cross_validation.ShuffleSplit(X.shape[0], n_iter=100,\n",
    "                                   test_size=0.2, random_state=0)\n",
    "plot_learning_curve(model, title, X, Y, ylim=(0.2, 1.01), cv=cv, n_jobs=-1)\n",
    "plt.show()"
   ]
  },
  {
   "cell_type": "code",
   "execution_count": 20,
   "metadata": {
    "collapsed": false
   },
   "outputs": [
    {
     "name": "stdout",
     "output_type": "stream",
     "text": [
      "train_sizes =  [ 50  80 110]\n",
      " training scores\n",
      " 50 training sizees\n",
      "0.97290918834 ± 0.0739145112202\n",
      " 80 training sizees\n",
      "0.983484659597 ± 0.0197752058504\n",
      " 110 training sizees\n",
      "0.982744657896 ± 0.0101526242654\n",
      "\n",
      " validation scores\n",
      " 50 validation scores\n",
      "0.747082306761 ± 0.189338523871\n",
      " 80 validation scores\n",
      "0.804862327744 ± 0.151980378591\n",
      " 110 validation scores\n",
      "0.864896741121 ± 0.102916498424\n"
     ]
    }
   ],
   "source": [
    "# More data from learning curve to show the process of building the model\n",
    "train_sizes, train_scores, valid_scores = learning_curve(\n",
    "     model, X, Y, train_sizes=[50, 80, 110], cv=cv, n_jobs=4)\n",
    "\n",
    "print 'train_sizes = ', train_sizes\n",
    "\n",
    "print ' training scores'\n",
    "print ' 50 training sizees'\n",
    "print train_scores[0].mean(),'±',train_scores[0].std()\n",
    "print ' 80 training sizees'\n",
    "print train_scores[1].mean(),'±',train_scores[1].std()\n",
    "print ' 110 training sizees'\n",
    "print train_scores[2].mean(),'±',train_scores[2].std()\n",
    "\n",
    "print '\\n validation scores'\n",
    "print ' 50 validation scores'\n",
    "print valid_scores[0].mean(),'±',valid_scores[0].std()\n",
    "print ' 80 validation scores'\n",
    "print valid_scores[1].mean(),'±',valid_scores[1].std()\n",
    "print ' 110 validation scores'\n",
    "print valid_scores[2].mean(),'±',valid_scores[2].std()"
   ]
  },
  {
   "cell_type": "markdown",
   "metadata": {},
   "source": [
    "## Cross validation"
   ]
  },
  {
   "cell_type": "code",
   "execution_count": 21,
   "metadata": {
    "collapsed": false
   },
   "outputs": [
    {
     "name": "stdout",
     "output_type": "stream",
     "text": [
      "Scoring according to mean_squared_error\n",
      "[-7552.96631371 -1228.04712089  -313.94439956 -1055.98012087 -1012.64364269\n",
      " -1171.59011111  -478.42078642  -374.48206243 -1580.11962091 -5841.91859375]\n",
      "\n",
      " Mean      Standard deviation\n",
      "-2061.01      2380.83\n"
     ]
    },
    {
     "data": {
      "text/plain": [
       "AdaBoostRegressor(base_estimator=None, learning_rate=1.0, loss='exponential',\n",
       "         n_estimators=5, random_state=None)"
      ]
     },
     "execution_count": 21,
     "metadata": {},
     "output_type": "execute_result"
    }
   ],
   "source": [
    "scoring = 'mean_squared_error'\n",
    "results = cross_validation.cross_val_score(model, X, Y, cv=kfold, scoring=scoring)\n",
    "print 'Scoring according to mean_squared_error'\n",
    "print results\n",
    "print '\\n Mean      Standard deviation'\n",
    "print(\"%.2f      %.2f\" % (results.mean(), results.std()))\n",
    "## Fit the model\n",
    "model.fit(X,Y)\n"
   ]
  },
  {
   "cell_type": "markdown",
   "metadata": {},
   "source": [
    "## Coefficients Of Determination {Calculating R^2}\n",
    "\n",
    "R^2, Close to one is better"
   ]
  },
  {
   "cell_type": "code",
   "execution_count": 22,
   "metadata": {
    "collapsed": false
   },
   "outputs": [
    {
     "name": "stdout",
     "output_type": "stream",
     "text": [
      "R-squared =  0.871472800028\n"
     ]
    }
   ],
   "source": [
    "predicted = cross_val_predict(model, X, Y, cv=kfold)\n",
    "r_squared = r2_score(Y, predicted, multioutput='variance_weighted')\n",
    "print 'R-squared = ',r_squared"
   ]
  },
  {
   "cell_type": "markdown",
   "metadata": {},
   "source": [
    "## Residual Plot"
   ]
  },
  {
   "cell_type": "code",
   "execution_count": 23,
   "metadata": {
    "collapsed": false
   },
   "outputs": [
    {
     "data": {
      "image/png": "[encoded data removed]",
      "text/plain": [
       "<matplotlib.figure.Figure at 0x7f2ced69add0>"
      ]
     },
     "metadata": {},
     "output_type": "display_data"
    }
   ],
   "source": [
    "predicted = cross_val_predict(model, X, Y, cv=kfold)\n",
    "fig, ax = plt.subplots()\n",
    "ax.scatter(Y, predicted)\n",
    "ax.plot([Y.min(), Y.max()], [Y.min(), Y.max()], 'k--', lw=4)\n",
    "ax.set_xlabel('Measured')\n",
    "ax.set_ylabel('Predicted')\n",
    "plt.show()"
   ]
  },
  {
   "cell_type": "code",
   "execution_count": 24,
   "metadata": {
    "collapsed": false
   },
   "outputs": [
    {
     "data": {
      "text/html": [
       "\n",
       "\n",
       "    <div class=\"bk-root\">\n",
       "        <div class=\"plotdiv\" id=\"969157f9-6a1f-43fd-b13f-3e84ca7a5539\"></div>\n",
       "    </div>\n",
       "<script type=\"text/javascript\">\n",
       "  \n",
       "  (function(global) {\n",
       "    function now() {\n",
       "      return new Date();\n",
       "    }\n",
       "  \n",
       "    var force = \"\";\n",
       "  \n",
       "    if (typeof (window._bokeh_onload_callbacks) === \"undefined\" || force !== \"\") {\n",
       "      window._bokeh_onload_callbacks = [];\n",
       "      window._bokeh_is_loading = undefined;\n",
       "    }\n",
       "  \n",
       "  \n",
       "    \n",
       "    if (typeof (window._bokeh_timeout) === \"undefined\" || force !== \"\") {\n",
       "      window._bokeh_timeout = Date.now() + 0;\n",
       "      window._bokeh_failed_load = false;\n",
       "    }\n",
       "  \n",
       "    var NB_LOAD_WARNING = {'data': {'text/html':\n",
       "       \"<div style='background-color: #fdd'>\\n\"+\n",
       "       \"<p>\\n\"+\n",
       "       \"BokehJS does not appear to have successfully loaded. If loading BokehJS from CDN, this \\n\"+\n",
       "       \"may be due to a slow or bad network connection. Possible fixes:\\n\"+\n",
       "       \"</p>\\n\"+\n",
       "       \"<ul>\\n\"+\n",
       "       \"<li>re-rerun `output_notebook()` to attempt to load from CDN again, or</li>\\n\"+\n",
       "       \"<li>use INLINE resources instead, as so:</li>\\n\"+\n",
       "       \"</ul>\\n\"+\n",
       "       \"<code>\\n\"+\n",
       "       \"from bokeh.resources import INLINE\\n\"+\n",
       "       \"output_notebook(resources=INLINE)\\n\"+\n",
       "       \"</code>\\n\"+\n",
       "       \"</div>\"}};\n",
       "  \n",
       "    function display_loaded() {\n",
       "      if (window.Bokeh !== undefined) {\n",
       "        Bokeh.$(\"#969157f9-6a1f-43fd-b13f-3e84ca7a5539\").text(\"BokehJS successfully loaded.\");\n",
       "      } else if (Date.now() < window._bokeh_timeout) {\n",
       "        setTimeout(display_loaded, 100)\n",
       "      }\n",
       "    }\n",
       "  \n",
       "    function run_callbacks() {\n",
       "      window._bokeh_onload_callbacks.forEach(function(callback) { callback() });\n",
       "      delete window._bokeh_onload_callbacks\n",
       "      console.info(\"Bokeh: all callbacks have finished\");\n",
       "    }\n",
       "  \n",
       "    function load_libs(js_urls, callback) {\n",
       "      window._bokeh_onload_callbacks.push(callback);\n",
       "      if (window._bokeh_is_loading > 0) {\n",
       "        console.log(\"Bokeh: BokehJS is being loaded, scheduling callback at\", now());\n",
       "        return null;\n",
       "      }\n",
       "      if (js_urls == null || js_urls.length === 0) {\n",
       "        run_callbacks();\n",
       "        return null;\n",
       "      }\n",
       "      console.log(\"Bokeh: BokehJS not loaded, scheduling load and callback at\", now());\n",
       "      window._bokeh_is_loading = js_urls.length;\n",
       "      for (var i = 0; i < js_urls.length; i++) {\n",
       "        var url = js_urls[i];\n",
       "        var s = document.createElement('script');\n",
       "        s.src = url;\n",
       "        s.async = false;\n",
       "        s.onreadystatechange = s.onload = function() {\n",
       "          window._bokeh_is_loading--;\n",
       "          if (window._bokeh_is_loading === 0) {\n",
       "            console.log(\"Bokeh: all BokehJS libraries loaded\");\n",
       "            run_callbacks()\n",
       "          }\n",
       "        };\n",
       "        s.onerror = function() {\n",
       "          console.warn(\"failed to load library \" + url);\n",
       "        };\n",
       "        console.log(\"Bokeh: injecting script tag for BokehJS library: \", url);\n",
       "        document.getElementsByTagName(\"head\")[0].appendChild(s);\n",
       "      }\n",
       "    };var element = document.getElementById(\"969157f9-6a1f-43fd-b13f-3e84ca7a5539\");\n",
       "    if (element == null) {\n",
       "      console.log(\"Bokeh: ERROR: autoload.js configured with elementid '969157f9-6a1f-43fd-b13f-3e84ca7a5539' but no matching script tag was found. \")\n",
       "      return false;\n",
       "    }\n",
       "  \n",
       "    var js_urls = [];\n",
       "  \n",
       "    var inline_js = [\n",
       "      function(Bokeh) {\n",
       "        Bokeh.$(function() {\n",
       "            var docs_json = {\"a589cf64-c831-4047-8199-744186448ac9\":{\"roots\":{\"references\":[{\"attributes\":{\"callback\":null,\"column_names\":[\"y\",\"x\"],\"data\":{\"x\":[15,1238],\"y\":[15,1238]}},\"id\":\"5d1a5a33-9290-4d95-b2d9-164018058e66\",\"type\":\"ColumnDataSource\"},{\"attributes\":{\"fill_color\":{\"value\":\"#80B1D3\"},\"line_color\":{\"value\":\"#80B1D3\"},\"line_width\":{\"value\":3},\"x\":{\"field\":\"x\"},\"y\":{\"field\":\"y\"}},\"id\":\"cab6309e-3169-4288-ba27-cb5c699fb45b\",\"type\":\"Circle\"},{\"attributes\":{\"plot\":{\"id\":\"39188f17-1cd6-42af-b7c6-aad276746853\",\"subtype\":\"Figure\",\"type\":\"Plot\"}},\"id\":\"70309023-fbf1-4efc-ac96-e59bd4551439\",\"type\":\"WheelZoomTool\"},{\"attributes\":{\"bottom_units\":\"screen\",\"fill_alpha\":{\"value\":0.5},\"fill_color\":{\"value\":\"lightgrey\"},\"left_units\":\"screen\",\"level\":\"overlay\",\"line_alpha\":{\"value\":1.0},\"line_color\":{\"value\":\"black\"},\"line_dash\":[4,4],\"line_width\":{\"value\":2},\"plot\":null,\"render_mode\":\"css\",\"right_units\":\"screen\",\"top_units\":\"screen\"},\"id\":\"f5690244-bdd0-4fb0-a45f-cf427abecb22\",\"type\":\"BoxAnnotation\"},{\"attributes\":{\"fill_alpha\":{\"value\":0.1},\"fill_color\":{\"value\":\"#1f77b4\"},\"line_alpha\":{\"value\":0.1},\"line_color\":{\"value\":\"#1f77b4\"},\"line_width\":{\"value\":3},\"x\":{\"field\":\"x\"},\"y\":{\"field\":\"y\"}},\"id\":\"a70d122a-789d-4c4e-9014-ec4f4d1140cd\",\"type\":\"Circle\"},{\"attributes\":{\"callback\":null},\"id\":\"80b3c4b1-5de2-4cca-9690-2826be67129f\",\"type\":\"DataRange1d\"},{\"attributes\":{\"line_dash\":[4,4],\"line_width\":{\"value\":2},\"x\":{\"field\":\"x\"},\"y\":{\"field\":\"y\"}},\"id\":\"68ad6526-bb23-4172-9e96-0e2de6f8a062\",\"type\":\"Line\"},{\"attributes\":{\"fill_alpha\":{\"value\":0.5},\"fill_color\":{\"value\":\"lightgrey\"},\"level\":\"overlay\",\"line_alpha\":{\"value\":1.0},\"line_color\":{\"value\":\"black\"},\"line_dash\":[4,4],\"line_width\":{\"value\":2},\"plot\":null,\"xs_units\":\"screen\",\"ys_units\":\"screen\"},\"id\":\"fa4780c1-9261-47ba-88ee-eea3ffc6266e\",\"type\":\"PolyAnnotation\"},{\"attributes\":{\"data_source\":{\"id\":\"5d1a5a33-9290-4d95-b2d9-164018058e66\",\"type\":\"ColumnDataSource\"},\"glyph\":{\"id\":\"68ad6526-bb23-4172-9e96-0e2de6f8a062\",\"type\":\"Line\"},\"hover_glyph\":null,\"nonselection_glyph\":{\"id\":\"b3905574-fece-484c-8b6e-7d0bbe6e5cca\",\"type\":\"Line\"},\"selection_glyph\":null},\"id\":\"3345e8eb-4d06-4038-ae82-95c460f07223\",\"type\":\"GlyphRenderer\"},{\"attributes\":{\"plot\":{\"id\":\"39188f17-1cd6-42af-b7c6-aad276746853\",\"subtype\":\"Figure\",\"type\":\"Plot\"}},\"id\":\"32a4bfda-f568-4081-b0b7-6563896c8394\",\"type\":\"PanTool\"},{\"attributes\":{\"plot\":{\"id\":\"39188f17-1cd6-42af-b7c6-aad276746853\",\"subtype\":\"Figure\",\"type\":\"Plot\"}},\"id\":\"bc6f3fcf-c82a-466d-baa7-90c032161c42\",\"type\":\"ResizeTool\"},{\"attributes\":{\"axis_label\":\"Measured\",\"axis_label_text_color\":{\"value\":\"#aa6666\"},\"formatter\":{\"id\":\"6bbf51a0-091f-4786-829a-fbe14cae432f\",\"type\":\"BasicTickFormatter\"},\"major_tick_line_color\":{\"value\":\"firebrick\"},\"major_tick_line_width\":{\"value\":3},\"minor_tick_line_color\":{\"value\":\"orange\"},\"plot\":{\"id\":\"39188f17-1cd6-42af-b7c6-aad276746853\",\"subtype\":\"Figure\",\"type\":\"Plot\"},\"ticker\":{\"id\":\"56e37b48-d1e0-4dd1-beb5-568026ba3738\",\"type\":\"BasicTicker\"}},\"id\":\"9b1427ce-255d-4cc4-8986-701731db52d7\",\"type\":\"LinearAxis\"},{\"attributes\":{\"callback\":null,\"overlay\":{\"id\":\"1a787052-2718-4a2b-840d-c2ab7df5f997\",\"type\":\"PolyAnnotation\"},\"plot\":{\"id\":\"39188f17-1cd6-42af-b7c6-aad276746853\",\"subtype\":\"Figure\",\"type\":\"Plot\"}},\"id\":\"27bb55d3-7bc5-4138-9f2b-8f4e1a7b98a3\",\"type\":\"LassoSelectTool\"},{\"attributes\":{\"plot\":{\"id\":\"39188f17-1cd6-42af-b7c6-aad276746853\",\"subtype\":\"Figure\",\"type\":\"Plot\"},\"ticker\":{\"id\":\"56e37b48-d1e0-4dd1-beb5-568026ba3738\",\"type\":\"BasicTicker\"}},\"id\":\"94281c2b-d08d-456f-9335-814778343bec\",\"type\":\"Grid\"},{\"attributes\":{\"overlay\":{\"id\":\"fa4780c1-9261-47ba-88ee-eea3ffc6266e\",\"type\":\"PolyAnnotation\"},\"plot\":{\"id\":\"39188f17-1cd6-42af-b7c6-aad276746853\",\"subtype\":\"Figure\",\"type\":\"Plot\"}},\"id\":\"2f268b73-7b54-4213-9f01-f4e7b05f4cbc\",\"type\":\"PolySelectTool\"},{\"attributes\":{\"plot\":{\"id\":\"39188f17-1cd6-42af-b7c6-aad276746853\",\"subtype\":\"Figure\",\"type\":\"Plot\"}},\"id\":\"0b671c70-8f10-4b13-bb11-8ac8b5590eaa\",\"type\":\"CrosshairTool\"},{\"attributes\":{\"axis_label\":\"Predicted\",\"axis_label_text_color\":{\"value\":\"#aa6666\"},\"formatter\":{\"id\":\"4d5570c8-fb0e-4f53-9cc5-5ca2efe621ad\",\"type\":\"BasicTickFormatter\"},\"plot\":{\"id\":\"39188f17-1cd6-42af-b7c6-aad276746853\",\"subtype\":\"Figure\",\"type\":\"Plot\"},\"ticker\":{\"id\":\"9220ca00-dee0-4685-924f-a955b22677b4\",\"type\":\"BasicTicker\"}},\"id\":\"091b8b86-a672-45e4-843e-3fcdcea4d88e\",\"type\":\"LinearAxis\"},{\"attributes\":{\"plot\":{\"id\":\"39188f17-1cd6-42af-b7c6-aad276746853\",\"subtype\":\"Figure\",\"type\":\"Plot\"}},\"id\":\"7eae1616-3ae9-4b8b-bfcd-eab17f0f8e6a\",\"type\":\"UndoTool\"},{\"attributes\":{},\"id\":\"56e37b48-d1e0-4dd1-beb5-568026ba3738\",\"type\":\"BasicTicker\"},{\"attributes\":{\"callback\":null},\"id\":\"8dd5eb06-da5d-4dbf-905d-d906118fead6\",\"type\":\"DataRange1d\"},{\"attributes\":{\"data_source\":{\"id\":\"2425d2c0-80ab-4efe-b41a-57e28bfc7bd7\",\"type\":\"ColumnDataSource\"},\"glyph\":{\"id\":\"cab6309e-3169-4288-ba27-cb5c699fb45b\",\"type\":\"Circle\"},\"hover_glyph\":null,\"nonselection_glyph\":{\"id\":\"a70d122a-789d-4c4e-9014-ec4f4d1140cd\",\"type\":\"Circle\"},\"selection_glyph\":null},\"id\":\"96c794a5-f1c2-49e9-bea5-98fa19cafdc8\",\"type\":\"GlyphRenderer\"},{\"attributes\":{},\"id\":\"5525fd21-686c-48d7-9736-8a56499adfdb\",\"type\":\"ToolEvents\"},{\"attributes\":{\"callback\":null,\"plot\":{\"id\":\"39188f17-1cd6-42af-b7c6-aad276746853\",\"subtype\":\"Figure\",\"type\":\"Plot\"}},\"id\":\"ba1282aa-b10c-4645-8414-f3752bfdc736\",\"type\":\"TapTool\"},{\"attributes\":{\"callback\":null,\"overlay\":{\"id\":\"b17d7e98-6e4c-4ee6-817a-d733eabb8221\",\"type\":\"BoxAnnotation\"},\"plot\":{\"id\":\"39188f17-1cd6-42af-b7c6-aad276746853\",\"subtype\":\"Figure\",\"type\":\"Plot\"},\"renderers\":[{\"id\":\"96c794a5-f1c2-49e9-bea5-98fa19cafdc8\",\"type\":\"GlyphRenderer\"},{\"id\":\"3345e8eb-4d06-4038-ae82-95c460f07223\",\"type\":\"GlyphRenderer\"}]},\"id\":\"95da1165-c9c6-4fe2-b7f5-6a4caff20d05\",\"type\":\"BoxSelectTool\"},{\"attributes\":{\"align\":\"center\",\"plot\":null,\"text\":null},\"id\":\"292aa7b3-579f-4dc6-8ec7-e48f309e41bb\",\"type\":\"Title\"},{\"attributes\":{\"dimension\":1,\"plot\":{\"id\":\"39188f17-1cd6-42af-b7c6-aad276746853\",\"subtype\":\"Figure\",\"type\":\"Plot\"},\"ticker\":{\"id\":\"9220ca00-dee0-4685-924f-a955b22677b4\",\"type\":\"BasicTicker\"}},\"id\":\"4166f25e-8c35-41f4-85ad-a8dd77f5f278\",\"type\":\"Grid\"},{\"attributes\":{\"fill_alpha\":{\"value\":0.5},\"fill_color\":{\"value\":\"lightgrey\"},\"level\":\"overlay\",\"line_alpha\":{\"value\":1.0},\"line_color\":{\"value\":\"black\"},\"line_dash\":[4,4],\"line_width\":{\"value\":2},\"plot\":null,\"xs_units\":\"screen\",\"ys_units\":\"screen\"},\"id\":\"1a787052-2718-4a2b-840d-c2ab7df5f997\",\"type\":\"PolyAnnotation\"},{\"attributes\":{\"plot\":{\"id\":\"39188f17-1cd6-42af-b7c6-aad276746853\",\"subtype\":\"Figure\",\"type\":\"Plot\"}},\"id\":\"f96f510b-bf12-4a66-888d-5f93d70ab8ad\",\"type\":\"ResetTool\"},{\"attributes\":{\"bottom_units\":\"screen\",\"fill_alpha\":{\"value\":0.5},\"fill_color\":{\"value\":\"lightgrey\"},\"left_units\":\"screen\",\"level\":\"overlay\",\"line_alpha\":{\"value\":1.0},\"line_color\":{\"value\":\"black\"},\"line_dash\":[4,4],\"line_width\":{\"value\":2},\"plot\":null,\"render_mode\":\"css\",\"right_units\":\"screen\",\"top_units\":\"screen\"},\"id\":\"b17d7e98-6e4c-4ee6-817a-d733eabb8221\",\"type\":\"BoxAnnotation\"},{\"attributes\":{\"line_alpha\":{\"value\":0.1},\"line_color\":{\"value\":\"#1f77b4\"},\"line_dash\":[4,4],\"line_width\":{\"value\":2},\"x\":{\"field\":\"x\"},\"y\":{\"field\":\"y\"}},\"id\":\"b3905574-fece-484c-8b6e-7d0bbe6e5cca\",\"type\":\"Line\"},{\"attributes\":{\"overlay\":{\"id\":\"f5690244-bdd0-4fb0-a45f-cf427abecb22\",\"type\":\"BoxAnnotation\"},\"plot\":{\"id\":\"39188f17-1cd6-42af-b7c6-aad276746853\",\"subtype\":\"Figure\",\"type\":\"Plot\"}},\"id\":\"bc482bb5-a806-42ac-b7c8-7f031b4638c9\",\"type\":\"BoxZoomTool\"},{\"attributes\":{\"background_fill_alpha\":{\"value\":0.5},\"background_fill_color\":{\"value\":\"beige\"},\"below\":[{\"id\":\"9b1427ce-255d-4cc4-8986-701731db52d7\",\"type\":\"LinearAxis\"}],\"left\":[{\"id\":\"091b8b86-a672-45e4-843e-3fcdcea4d88e\",\"type\":\"LinearAxis\"}],\"plot_height\":500,\"plot_width\":500,\"renderers\":[{\"id\":\"9b1427ce-255d-4cc4-8986-701731db52d7\",\"type\":\"LinearAxis\"},{\"id\":\"94281c2b-d08d-456f-9335-814778343bec\",\"type\":\"Grid\"},{\"id\":\"091b8b86-a672-45e4-843e-3fcdcea4d88e\",\"type\":\"LinearAxis\"},{\"id\":\"4166f25e-8c35-41f4-85ad-a8dd77f5f278\",\"type\":\"Grid\"},{\"id\":\"f5690244-bdd0-4fb0-a45f-cf427abecb22\",\"type\":\"BoxAnnotation\"},{\"id\":\"b17d7e98-6e4c-4ee6-817a-d733eabb8221\",\"type\":\"BoxAnnotation\"},{\"id\":\"1a787052-2718-4a2b-840d-c2ab7df5f997\",\"type\":\"PolyAnnotation\"},{\"id\":\"fa4780c1-9261-47ba-88ee-eea3ffc6266e\",\"type\":\"PolyAnnotation\"},{\"id\":\"96c794a5-f1c2-49e9-bea5-98fa19cafdc8\",\"type\":\"GlyphRenderer\"},{\"id\":\"3345e8eb-4d06-4038-ae82-95c460f07223\",\"type\":\"GlyphRenderer\"}],\"title\":{\"id\":\"292aa7b3-579f-4dc6-8ec7-e48f309e41bb\",\"type\":\"Title\"},\"tool_events\":{\"id\":\"5525fd21-686c-48d7-9736-8a56499adfdb\",\"type\":\"ToolEvents\"},\"toolbar\":{\"id\":\"a677592f-7604-41df-b1c4-04d313604fda\",\"type\":\"Toolbar\"},\"x_range\":{\"id\":\"80b3c4b1-5de2-4cca-9690-2826be67129f\",\"type\":\"DataRange1d\"},\"y_range\":{\"id\":\"8dd5eb06-da5d-4dbf-905d-d906118fead6\",\"type\":\"DataRange1d\"}},\"id\":\"39188f17-1cd6-42af-b7c6-aad276746853\",\"subtype\":\"Figure\",\"type\":\"Plot\"},{\"attributes\":{},\"id\":\"9220ca00-dee0-4685-924f-a955b22677b4\",\"type\":\"BasicTicker\"},{\"attributes\":{},\"id\":\"6bbf51a0-091f-4786-829a-fbe14cae432f\",\"type\":\"BasicTickFormatter\"},{\"attributes\":{\"plot\":{\"id\":\"39188f17-1cd6-42af-b7c6-aad276746853\",\"subtype\":\"Figure\",\"type\":\"Plot\"}},\"id\":\"846dc5ad-92be-41bd-9bc7-fa40bdcd27f3\",\"type\":\"SaveTool\"},{\"attributes\":{},\"id\":\"4d5570c8-fb0e-4f53-9cc5-5ca2efe621ad\",\"type\":\"BasicTickFormatter\"},{\"attributes\":{\"callback\":null,\"column_names\":[\"x\",\"y\"],\"data\":{\"x\":[20,53,132,25,88,54,75,17,28,35,80,360,749,41,26,44,82,28,275,18,27,34,28,102,34,42,426,57,124,19,128,30,281,19,19,86,45,29,28,22,220,126,15,22,31,81,35,18,24,37,95,19,253,34,24,182,74,23,78,23,24,24,47,270,113,253,82,20,47,978,34,31,199,171,33,361,113,117,74,33,38,36,28,41,117,267,45,18,21,37,190,47,381,28,25,116,26,20,35,181,29,24,65,18,136,34,157,253,101,25,74,28,46,53,29,44,46,36,41,82,138,28,42,62,266,102,25,44,31,74,142,41,43,119,27,15,73,64,53,76,120,24,20,50,21,80,30,341,24,919,30,56,34,53,175,47,32,23,39,1238,20,227,20,382,26,28,67],\"y\":[31.396825396825395,36.53521126760563,117.3,31.396825396825395,73.23529411764706,52.58620689655172,124.92857142857143,31.396825396825395,31.396825396825395,31.396825396825395,124.92857142857143,349.2105263157895,919.0,36.53521126760563,31.396825396825395,36.53521126760563,73.23529411764706,40.2875,212.5,40.2875,40.2875,40.2875,40.2875,149.55555555555554,40.2875,40.2875,322.7857142857143,40.2875,117.64285714285714,40.2875,119.52,40.2875,119.52,40.2875,33.23529411764706,58.35849056603774,40.25,33.23529411764706,33.23529411764706,33.23529411764706,244.82142857142858,124.15,33.23529411764706,33.23529411764706,33.23529411764706,124.15,33.23529411764706,33.23529411764706,33.23529411764706,40.25,58.35849056603774,36.7037037037037,243.0,36.7037037037037,36.7037037037037,243.0,48.41237113402062,36.7037037037037,48.41237113402062,36.7037037037037,36.7037037037037,36.7037037037037,36.7037037037037,377.2,128.96875,243.0,122.72,36.7037037037037,40.265060240963855,919.0,40.265060240963855,40.265060240963855,118.58064516129032,238.125,40.265060240963855,359.0,118.58064516129032,109.84,42.839080459770116,40.265060240963855,40.265060240963855,40.265060240963855,40.265060240963855,40.265060240963855,118.58064516129032,272.5833333333333,40.45783132530121,40.45783132530121,40.45783132530121,40.45783132530121,120.0,40.45783132530121,294.9,40.45783132530121,40.45783132530121,119.7,40.45783132530121,40.45783132530121,40.45783132530121,243.14285714285714,40.45783132530121,40.45783132530121,38.91954022988506,38.859154929577464,130.40625,38.91954022988506,125.06666666666666,227.47368421052633,125.06666666666666,38.859154929577464,38.91954022988506,38.859154929577464,38.91954022988506,125.06666666666666,38.859154929577464,38.91954022988506,38.91954022988506,38.91954022988506,38.91954022988506,38.57142857142857,117.7,36.54255319148936,36.54255319148936,36.54255319148936,218.72222222222223,119.89285714285714,36.54255319148936,36.54255319148936,36.54255319148936,36.54255319148936,111.625,36.54255319148936,36.54255319148936,111.625,36.54255319148936,38.765625,40.41573033707865,40.41573033707865,109.0,40.41573033707865,109.0,38.765625,38.765625,38.765625,38.765625,38.765625,38.765625,241.07407407407408,38.765625,978.0,38.765625,38.608695652173914,38.608695652173914,38.608695652173914,211.55555555555554,38.608695652173914,31.03125,31.03125,49.6144578313253,749.0,31.03125,211.55555555555554,31.03125,361.4,31.03125,31.03125,49.6144578313253]}},\"id\":\"2425d2c0-80ab-4efe-b41a-57e28bfc7bd7\",\"type\":\"ColumnDataSource\"},{\"attributes\":{\"active_drag\":\"auto\",\"active_scroll\":\"auto\",\"active_tap\":\"auto\",\"tools\":[{\"id\":\"bc482bb5-a806-42ac-b7c8-7f031b4638c9\",\"type\":\"BoxZoomTool\"},{\"id\":\"95da1165-c9c6-4fe2-b7f5-6a4caff20d05\",\"type\":\"BoxSelectTool\"},{\"id\":\"0b671c70-8f10-4b13-bb11-8ac8b5590eaa\",\"type\":\"CrosshairTool\"},{\"id\":\"bc6f3fcf-c82a-466d-baa7-90c032161c42\",\"type\":\"ResizeTool\"},{\"id\":\"f96f510b-bf12-4a66-888d-5f93d70ab8ad\",\"type\":\"ResetTool\"},{\"id\":\"27bb55d3-7bc5-4138-9f2b-8f4e1a7b98a3\",\"type\":\"LassoSelectTool\"},{\"id\":\"32a4bfda-f568-4081-b0b7-6563896c8394\",\"type\":\"PanTool\"},{\"id\":\"846dc5ad-92be-41bd-9bc7-fa40bdcd27f3\",\"type\":\"SaveTool\"},{\"id\":\"2f268b73-7b54-4213-9f01-f4e7b05f4cbc\",\"type\":\"PolySelectTool\"},{\"id\":\"ba1282aa-b10c-4645-8414-f3752bfdc736\",\"type\":\"TapTool\"},{\"id\":\"70309023-fbf1-4efc-ac96-e59bd4551439\",\"type\":\"WheelZoomTool\"},{\"id\":\"7eae1616-3ae9-4b8b-bfcd-eab17f0f8e6a\",\"type\":\"UndoTool\"}]},\"id\":\"a677592f-7604-41df-b1c4-04d313604fda\",\"type\":\"Toolbar\"}],\"root_ids\":[\"39188f17-1cd6-42af-b7c6-aad276746853\"]},\"title\":\"Bokeh Application\",\"version\":\"0.12.2\"}};\n",
       "            var render_items = [{\"docid\":\"a589cf64-c831-4047-8199-744186448ac9\",\"elementid\":\"969157f9-6a1f-43fd-b13f-3e84ca7a5539\",\"modelid\":\"39188f17-1cd6-42af-b7c6-aad276746853\"}];\n",
       "            \n",
       "            Bokeh.embed.embed_items(docs_json, render_items);\n",
       "        });\n",
       "      },\n",
       "      function(Bokeh) {\n",
       "      }\n",
       "    ];\n",
       "  \n",
       "    function run_inline_js() {\n",
       "      \n",
       "      if ((window.Bokeh !== undefined) || (force === \"1\")) {\n",
       "        for (var i = 0; i < inline_js.length; i++) {\n",
       "          inline_js[i](window.Bokeh);\n",
       "        }if (force === \"1\") {\n",
       "          display_loaded();\n",
       "        }} else if (Date.now() < window._bokeh_timeout) {\n",
       "        setTimeout(run_inline_js, 100);\n",
       "      } else if (!window._bokeh_failed_load) {\n",
       "        console.log(\"Bokeh: BokehJS failed to load within specified timeout.\");\n",
       "        window._bokeh_failed_load = true;\n",
       "      } else if (!force) {\n",
       "        var cell = $(\"#969157f9-6a1f-43fd-b13f-3e84ca7a5539\").parents('.cell').data().cell;\n",
       "        cell.output_area.append_execute_result(NB_LOAD_WARNING)\n",
       "      }\n",
       "  \n",
       "    }\n",
       "  \n",
       "    if (window._bokeh_is_loading === 0) {\n",
       "      console.log(\"Bokeh: BokehJS loaded, going straight to plotting\");\n",
       "      run_inline_js();\n",
       "    } else {\n",
       "      load_libs(js_urls, function() {\n",
       "        console.log(\"Bokeh: BokehJS plotting callback run at\", now());\n",
       "        run_inline_js();\n",
       "      });\n",
       "    }\n",
       "  }(this));\n",
       "</script>"
      ]
     },
     "metadata": {},
     "output_type": "display_data"
    }
   ],
   "source": [
    "# Plotining using bokeh\n",
    "#TOOLS = [BoxSelectTool(), HoverTool()]\n",
    "#TOOLS = 'hover,box_zoom,box_select,crosshair,resize,reset,DecisionTreeRegressor_select,pan,save,poly_select,tap,wheel_zoom,undo'\n",
    "TOOLS = 'box_zoom,box_select,crosshair,resize,reset,lasso_select,pan,save,poly_select,tap,wheel_zoom,undo'\n",
    "p = figure(plot_width=500, plot_height=500, tools=TOOLS)\n",
    "p.scatter(Y, predicted,x=\"jjj\", marker=\"o\", color=\"#80B1D3\", line_width=3)\n",
    "p.title.align = \"center\"\n",
    "p.xaxis.axis_label = \"Measured\"\n",
    "p.xaxis.axis_label_text_color = \"#aa6666\"\n",
    "#p.xaxis.axis_label_standoff = 30\n",
    "p.xaxis.major_tick_line_color = \"firebrick\"\n",
    "p.xaxis.major_tick_line_width = 3\n",
    "p.xaxis.minor_tick_line_color = \"orange\"\n",
    "p.yaxis.axis_label = \"Predicted\"\n",
    "p.yaxis.axis_label_text_font_style = \"italic\"\n",
    "p.yaxis.axis_label_text_color = \"#aa6666\"\n",
    "p.background_fill_color = \"beige\"\n",
    "p.background_fill_alpha = 0.5\n",
    "#p.line([Y.min(), Y.max()], [Y.min(), Y.max()], line_dash=\"4 4\", line_width=2, color='red')\n",
    "\n",
    "# create a new plot with the toolbar below\n",
    "# line_dash=\"4 4\", line_width=2, color='red'\n",
    "p.line([Y.min(), Y.max()], [Y.min(), Y.max()], line_dash=\"4 4\", line_width=2, line_color=\"black\")\n",
    "show(p)"
   ]
  },
  {
   "cell_type": "code",
   "execution_count": 25,
   "metadata": {
    "collapsed": false
   },
   "outputs": [
    {
     "data": {
      "text/plain": [
       "<matplotlib.text.Text at 0x7f2ced6b79d0>"
      ]
     },
     "execution_count": 25,
     "metadata": {},
     "output_type": "execute_result"
    },
    {
     "data": {
      "image/png": "[encoded data removed]",
      "text/plain": [
       "<matplotlib.figure.Figure at 0x7f2ced6de7d0>"
      ]
     },
     "metadata": {},
     "output_type": "display_data"
    }
   ],
   "source": [
    "plt.scatter(predicted, (predicted - Y), c='r', s=30)\n",
    "plt.title(\"Residual plot on the training data\")\n",
    "plt.xlabel(\"Predicted\")\n",
    "plt.ylabel(\"Residuals\")"
   ]
  },
  {
   "cell_type": "code",
   "execution_count": 26,
   "metadata": {
    "collapsed": false
   },
   "outputs": [
    {
     "data": {
      "text/html": [
       "\n",
       "\n",
       "    <div class=\"bk-root\">\n",
       "        <div class=\"plotdiv\" id=\"8f3220c2-0cc5-4389-a36e-ca0be8eb0985\"></div>\n",
       "    </div>\n",
       "<script type=\"text/javascript\">\n",
       "  \n",
       "  (function(global) {\n",
       "    function now() {\n",
       "      return new Date();\n",
       "    }\n",
       "  \n",
       "    var force = \"\";\n",
       "  \n",
       "    if (typeof (window._bokeh_onload_callbacks) === \"undefined\" || force !== \"\") {\n",
       "      window._bokeh_onload_callbacks = [];\n",
       "      window._bokeh_is_loading = undefined;\n",
       "    }\n",
       "  \n",
       "  \n",
       "    \n",
       "    if (typeof (window._bokeh_timeout) === \"undefined\" || force !== \"\") {\n",
       "      window._bokeh_timeout = Date.now() + 0;\n",
       "      window._bokeh_failed_load = false;\n",
       "    }\n",
       "  \n",
       "    var NB_LOAD_WARNING = {'data': {'text/html':\n",
       "       \"<div style='background-color: #fdd'>\\n\"+\n",
       "       \"<p>\\n\"+\n",
       "       \"BokehJS does not appear to have successfully loaded. If loading BokehJS from CDN, this \\n\"+\n",
       "       \"may be due to a slow or bad network connection. Possible fixes:\\n\"+\n",
       "       \"</p>\\n\"+\n",
       "       \"<ul>\\n\"+\n",
       "       \"<li>re-rerun `output_notebook()` to attempt to load from CDN again, or</li>\\n\"+\n",
       "       \"<li>use INLINE resources instead, as so:</li>\\n\"+\n",
       "       \"</ul>\\n\"+\n",
       "       \"<code>\\n\"+\n",
       "       \"from bokeh.resources import INLINE\\n\"+\n",
       "       \"output_notebook(resources=INLINE)\\n\"+\n",
       "       \"</code>\\n\"+\n",
       "       \"</div>\"}};\n",
       "  \n",
       "    function display_loaded() {\n",
       "      if (window.Bokeh !== undefined) {\n",
       "        Bokeh.$(\"#8f3220c2-0cc5-4389-a36e-ca0be8eb0985\").text(\"BokehJS successfully loaded.\");\n",
       "      } else if (Date.now() < window._bokeh_timeout) {\n",
       "        setTimeout(display_loaded, 100)\n",
       "      }\n",
       "    }\n",
       "  \n",
       "    function run_callbacks() {\n",
       "      window._bokeh_onload_callbacks.forEach(function(callback) { callback() });\n",
       "      delete window._bokeh_onload_callbacks\n",
       "      console.info(\"Bokeh: all callbacks have finished\");\n",
       "    }\n",
       "  \n",
       "    function load_libs(js_urls, callback) {\n",
       "      window._bokeh_onload_callbacks.push(callback);\n",
       "      if (window._bokeh_is_loading > 0) {\n",
       "        console.log(\"Bokeh: BokehJS is being loaded, scheduling callback at\", now());\n",
       "        return null;\n",
       "      }\n",
       "      if (js_urls == null || js_urls.length === 0) {\n",
       "        run_callbacks();\n",
       "        return null;\n",
       "      }\n",
       "      console.log(\"Bokeh: BokehJS not loaded, scheduling load and callback at\", now());\n",
       "      window._bokeh_is_loading = js_urls.length;\n",
       "      for (var i = 0; i < js_urls.length; i++) {\n",
       "        var url = js_urls[i];\n",
       "        var s = document.createElement('script');\n",
       "        s.src = url;\n",
       "        s.async = false;\n",
       "        s.onreadystatechange = s.onload = function() {\n",
       "          window._bokeh_is_loading--;\n",
       "          if (window._bokeh_is_loading === 0) {\n",
       "            console.log(\"Bokeh: all BokehJS libraries loaded\");\n",
       "            run_callbacks()\n",
       "          }\n",
       "        };\n",
       "        s.onerror = function() {\n",
       "          console.warn(\"failed to load library \" + url);\n",
       "        };\n",
       "        console.log(\"Bokeh: injecting script tag for BokehJS library: \", url);\n",
       "        document.getElementsByTagName(\"head\")[0].appendChild(s);\n",
       "      }\n",
       "    };var element = document.getElementById(\"8f3220c2-0cc5-4389-a36e-ca0be8eb0985\");\n",
       "    if (element == null) {\n",
       "      console.log(\"Bokeh: ERROR: autoload.js configured with elementid '8f3220c2-0cc5-4389-a36e-ca0be8eb0985' but no matching script tag was found. \")\n",
       "      return false;\n",
       "    }\n",
       "  \n",
       "    var js_urls = [];\n",
       "  \n",
       "    var inline_js = [\n",
       "      function(Bokeh) {\n",
       "        Bokeh.$(function() {\n",
       "            var docs_json = {\"673066d6-ba85-4922-a737-088e8eb7d801\":{\"roots\":{\"references\":[{\"attributes\":{\"axis_label\":\"Residuals\",\"axis_label_text_color\":{\"value\":\"#aa6666\"},\"formatter\":{\"id\":\"e0dea1d6-171c-4750-8abe-c5ea2998501f\",\"type\":\"BasicTickFormatter\"},\"plot\":{\"id\":\"0ab4efa2-9ad2-4616-b5ed-b48a3c0b0f8f\",\"subtype\":\"Figure\",\"type\":\"Plot\"},\"ticker\":{\"id\":\"2b607142-13b0-4522-9083-8bc5f3cab0f2\",\"type\":\"BasicTicker\"}},\"id\":\"6d5c4265-8c3c-475b-a646-5bf9dbda76b3\",\"type\":\"LinearAxis\"},{\"attributes\":{},\"id\":\"e0dea1d6-171c-4750-8abe-c5ea2998501f\",\"type\":\"BasicTickFormatter\"},{\"attributes\":{\"callback\":null},\"id\":\"c2a159f8-f4bd-41ce-866b-a23ce51041e8\",\"type\":\"DataRange1d\"},{\"attributes\":{},\"id\":\"b045e98c-e5db-495a-8579-ab0043b8d113\",\"type\":\"BasicTickFormatter\"},{\"attributes\":{\"align\":\"center\",\"plot\":null,\"text\":\"Residual plot on the training data\"},\"id\":\"1c4b86e0-9aef-46fd-af9d-8b610321fa02\",\"type\":\"Title\"},{\"attributes\":{\"fill_color\":{\"value\":\"#80B1D3\"},\"line_color\":{\"value\":\"#80B1D3\"},\"line_width\":{\"value\":3},\"x\":{\"field\":\"x\"},\"y\":{\"field\":\"y\"}},\"id\":\"1b7515c6-f596-4101-b3d7-e37782d5b961\",\"type\":\"Circle\"},{\"attributes\":{\"plot\":{\"id\":\"0ab4efa2-9ad2-4616-b5ed-b48a3c0b0f8f\",\"subtype\":\"Figure\",\"type\":\"Plot\"},\"ticker\":{\"id\":\"ec28b220-bae3-44e9-9f6c-8a081aa1cdc2\",\"type\":\"BasicTicker\"}},\"id\":\"f9736546-f871-4fed-9657-e59c56e1d351\",\"type\":\"Grid\"},{\"attributes\":{\"bottom_units\":\"screen\",\"fill_alpha\":{\"value\":0.5},\"fill_color\":{\"value\":\"lightgrey\"},\"left_units\":\"screen\",\"level\":\"overlay\",\"line_alpha\":{\"value\":1.0},\"line_color\":{\"value\":\"black\"},\"line_dash\":[4,4],\"line_width\":{\"value\":2},\"plot\":null,\"render_mode\":\"css\",\"right_units\":\"screen\",\"top_units\":\"screen\"},\"id\":\"66e76198-0a21-44ce-9dc8-f035808048d3\",\"type\":\"BoxAnnotation\"},{\"attributes\":{\"callback\":null},\"id\":\"7175af04-a90c-4d3f-8d3e-837bbe4bc4c3\",\"type\":\"DataRange1d\"},{\"attributes\":{\"fill_alpha\":{\"value\":0.5},\"fill_color\":{\"value\":\"lightgrey\"},\"level\":\"overlay\",\"line_alpha\":{\"value\":1.0},\"line_color\":{\"value\":\"black\"},\"line_dash\":[4,4],\"line_width\":{\"value\":2},\"plot\":null,\"xs_units\":\"screen\",\"ys_units\":\"screen\"},\"id\":\"4af2f797-2655-4ecb-b386-e928404c0754\",\"type\":\"PolyAnnotation\"},{\"attributes\":{\"active_drag\":\"auto\",\"active_scroll\":\"auto\",\"active_tap\":\"auto\",\"tools\":[{\"id\":\"3e14a946-8bb2-4b47-aca7-e15b0490ddbb\",\"type\":\"BoxZoomTool\"},{\"id\":\"6e2d11d9-6ff4-4e83-b260-872448045847\",\"type\":\"BoxSelectTool\"},{\"id\":\"004ba189-37d1-4bd0-87af-876ea58ac1d6\",\"type\":\"CrosshairTool\"},{\"id\":\"0dd2d9ae-34e0-4736-8814-40cba36a6be6\",\"type\":\"ResizeTool\"},{\"id\":\"98749da7-0777-4b48-ab20-60943ebb9b5f\",\"type\":\"ResetTool\"},{\"id\":\"bab687c6-e567-4a7a-8a62-9433d43432ab\",\"type\":\"LassoSelectTool\"},{\"id\":\"60b16187-77b2-475d-abe7-48151fa67f16\",\"type\":\"PanTool\"},{\"id\":\"88a04502-9a23-4893-a856-52845936c1c5\",\"type\":\"SaveTool\"},{\"id\":\"2f9f3829-c7b5-42a0-bd27-72638bdd1d92\",\"type\":\"PolySelectTool\"},{\"id\":\"e8329e0e-eeb1-4b52-be9e-f4e2c1c16a55\",\"type\":\"TapTool\"},{\"id\":\"ae46b488-664d-42e5-ae51-3e0ef82bdfa9\",\"type\":\"WheelZoomTool\"},{\"id\":\"9a830ea2-028b-4072-ab84-354e2a3dff10\",\"type\":\"UndoTool\"}]},\"id\":\"9c75a15c-e9b9-4bf9-a822-2313b5f4bb8c\",\"type\":\"Toolbar\"},{\"attributes\":{\"background_fill_alpha\":{\"value\":0.5},\"background_fill_color\":{\"value\":\"beige\"},\"below\":[{\"id\":\"57df9065-c35e-485b-a2d9-13b6eb17e292\",\"type\":\"LinearAxis\"}],\"left\":[{\"id\":\"6d5c4265-8c3c-475b-a646-5bf9dbda76b3\",\"type\":\"LinearAxis\"}],\"plot_height\":500,\"plot_width\":500,\"renderers\":[{\"id\":\"57df9065-c35e-485b-a2d9-13b6eb17e292\",\"type\":\"LinearAxis\"},{\"id\":\"f9736546-f871-4fed-9657-e59c56e1d351\",\"type\":\"Grid\"},{\"id\":\"6d5c4265-8c3c-475b-a646-5bf9dbda76b3\",\"type\":\"LinearAxis\"},{\"id\":\"823e0ed7-697d-4ec5-9477-f2a8b1d97444\",\"type\":\"Grid\"},{\"id\":\"d912b548-fe93-427d-b5b1-60f20d96645e\",\"type\":\"BoxAnnotation\"},{\"id\":\"66e76198-0a21-44ce-9dc8-f035808048d3\",\"type\":\"BoxAnnotation\"},{\"id\":\"34bdeee5-31f7-457c-b437-631a41e1c333\",\"type\":\"PolyAnnotation\"},{\"id\":\"4af2f797-2655-4ecb-b386-e928404c0754\",\"type\":\"PolyAnnotation\"},{\"id\":\"1a4e38e6-8212-4007-b592-600cb49ce5c3\",\"type\":\"GlyphRenderer\"}],\"title\":{\"id\":\"1c4b86e0-9aef-46fd-af9d-8b610321fa02\",\"type\":\"Title\"},\"tool_events\":{\"id\":\"d38a92f4-a83e-4a1b-a34c-39aa63f6c851\",\"type\":\"ToolEvents\"},\"toolbar\":{\"id\":\"9c75a15c-e9b9-4bf9-a822-2313b5f4bb8c\",\"type\":\"Toolbar\"},\"x_range\":{\"id\":\"c2a159f8-f4bd-41ce-866b-a23ce51041e8\",\"type\":\"DataRange1d\"},\"y_range\":{\"id\":\"7175af04-a90c-4d3f-8d3e-837bbe4bc4c3\",\"type\":\"DataRange1d\"}},\"id\":\"0ab4efa2-9ad2-4616-b5ed-b48a3c0b0f8f\",\"subtype\":\"Figure\",\"type\":\"Plot\"},{\"attributes\":{\"dimension\":1,\"plot\":{\"id\":\"0ab4efa2-9ad2-4616-b5ed-b48a3c0b0f8f\",\"subtype\":\"Figure\",\"type\":\"Plot\"},\"ticker\":{\"id\":\"2b607142-13b0-4522-9083-8bc5f3cab0f2\",\"type\":\"BasicTicker\"}},\"id\":\"823e0ed7-697d-4ec5-9477-f2a8b1d97444\",\"type\":\"Grid\"},{\"attributes\":{\"plot\":{\"id\":\"0ab4efa2-9ad2-4616-b5ed-b48a3c0b0f8f\",\"subtype\":\"Figure\",\"type\":\"Plot\"}},\"id\":\"ae46b488-664d-42e5-ae51-3e0ef82bdfa9\",\"type\":\"WheelZoomTool\"},{\"attributes\":{},\"id\":\"2b607142-13b0-4522-9083-8bc5f3cab0f2\",\"type\":\"BasicTicker\"},{\"attributes\":{},\"id\":\"ec28b220-bae3-44e9-9f6c-8a081aa1cdc2\",\"type\":\"BasicTicker\"},{\"attributes\":{\"overlay\":{\"id\":\"d912b548-fe93-427d-b5b1-60f20d96645e\",\"type\":\"BoxAnnotation\"},\"plot\":{\"id\":\"0ab4efa2-9ad2-4616-b5ed-b48a3c0b0f8f\",\"subtype\":\"Figure\",\"type\":\"Plot\"}},\"id\":\"3e14a946-8bb2-4b47-aca7-e15b0490ddbb\",\"type\":\"BoxZoomTool\"},{\"attributes\":{},\"id\":\"d38a92f4-a83e-4a1b-a34c-39aa63f6c851\",\"type\":\"ToolEvents\"},{\"attributes\":{\"fill_alpha\":{\"value\":0.5},\"fill_color\":{\"value\":\"lightgrey\"},\"level\":\"overlay\",\"line_alpha\":{\"value\":1.0},\"line_color\":{\"value\":\"black\"},\"line_dash\":[4,4],\"line_width\":{\"value\":2},\"plot\":null,\"xs_units\":\"screen\",\"ys_units\":\"screen\"},\"id\":\"34bdeee5-31f7-457c-b437-631a41e1c333\",\"type\":\"PolyAnnotation\"},{\"attributes\":{\"axis_label\":\"Predicted\",\"axis_label_text_color\":{\"value\":\"#aa6666\"},\"formatter\":{\"id\":\"b045e98c-e5db-495a-8579-ab0043b8d113\",\"type\":\"BasicTickFormatter\"},\"major_tick_line_color\":{\"value\":\"firebrick\"},\"major_tick_line_width\":{\"value\":3},\"minor_tick_line_color\":{\"value\":\"orange\"},\"plot\":{\"id\":\"0ab4efa2-9ad2-4616-b5ed-b48a3c0b0f8f\",\"subtype\":\"Figure\",\"type\":\"Plot\"},\"ticker\":{\"id\":\"ec28b220-bae3-44e9-9f6c-8a081aa1cdc2\",\"type\":\"BasicTicker\"}},\"id\":\"57df9065-c35e-485b-a2d9-13b6eb17e292\",\"type\":\"LinearAxis\"},{\"attributes\":{\"callback\":null,\"column_names\":[\"x\",\"y\"],\"data\":{\"x\":[31.396825396825395,36.53521126760563,117.3,31.396825396825395,73.23529411764706,52.58620689655172,124.92857142857143,31.396825396825395,31.396825396825395,31.396825396825395,124.92857142857143,349.2105263157895,919.0,36.53521126760563,31.396825396825395,36.53521126760563,73.23529411764706,40.2875,212.5,40.2875,40.2875,40.2875,40.2875,149.55555555555554,40.2875,40.2875,322.7857142857143,40.2875,117.64285714285714,40.2875,119.52,40.2875,119.52,40.2875,33.23529411764706,58.35849056603774,40.25,33.23529411764706,33.23529411764706,33.23529411764706,244.82142857142858,124.15,33.23529411764706,33.23529411764706,33.23529411764706,124.15,33.23529411764706,33.23529411764706,33.23529411764706,40.25,58.35849056603774,36.7037037037037,243.0,36.7037037037037,36.7037037037037,243.0,48.41237113402062,36.7037037037037,48.41237113402062,36.7037037037037,36.7037037037037,36.7037037037037,36.7037037037037,377.2,128.96875,243.0,122.72,36.7037037037037,40.265060240963855,919.0,40.265060240963855,40.265060240963855,118.58064516129032,238.125,40.265060240963855,359.0,118.58064516129032,109.84,42.839080459770116,40.265060240963855,40.265060240963855,40.265060240963855,40.265060240963855,40.265060240963855,118.58064516129032,272.5833333333333,40.45783132530121,40.45783132530121,40.45783132530121,40.45783132530121,120.0,40.45783132530121,294.9,40.45783132530121,40.45783132530121,119.7,40.45783132530121,40.45783132530121,40.45783132530121,243.14285714285714,40.45783132530121,40.45783132530121,38.91954022988506,38.859154929577464,130.40625,38.91954022988506,125.06666666666666,227.47368421052633,125.06666666666666,38.859154929577464,38.91954022988506,38.859154929577464,38.91954022988506,125.06666666666666,38.859154929577464,38.91954022988506,38.91954022988506,38.91954022988506,38.91954022988506,38.57142857142857,117.7,36.54255319148936,36.54255319148936,36.54255319148936,218.72222222222223,119.89285714285714,36.54255319148936,36.54255319148936,36.54255319148936,36.54255319148936,111.625,36.54255319148936,36.54255319148936,111.625,36.54255319148936,38.765625,40.41573033707865,40.41573033707865,109.0,40.41573033707865,109.0,38.765625,38.765625,38.765625,38.765625,38.765625,38.765625,241.07407407407408,38.765625,978.0,38.765625,38.608695652173914,38.608695652173914,38.608695652173914,211.55555555555554,38.608695652173914,31.03125,31.03125,49.6144578313253,749.0,31.03125,211.55555555555554,31.03125,361.4,31.03125,31.03125,49.6144578313253],\"y\":[11.396825396825395,-16.464788732394368,-14.700000000000003,6.396825396825395,-14.764705882352942,-1.4137931034482776,49.92857142857143,14.396825396825395,3.3968253968253954,-3.6031746031746046,44.92857142857143,-10.78947368421052,170.0,-4.464788732394368,5.396825396825395,-7.464788732394368,-8.764705882352942,12.287500000000001,-62.5,22.2875,13.287500000000001,6.287500000000001,12.287500000000001,47.55555555555554,6.287500000000001,-1.7124999999999986,-103.21428571428572,-16.7125,-6.357142857142861,21.2875,-8.480000000000004,10.287500000000001,-161.48000000000002,21.2875,14.235294117647058,-27.641509433962263,-4.75,4.235294117647058,5.235294117647058,11.235294117647058,24.821428571428584,-1.8499999999999943,18.235294117647058,11.235294117647058,2.235294117647058,43.150000000000006,-1.764705882352942,15.235294117647058,9.235294117647058,3.25,-36.64150943396226,17.703703703703702,-10.0,2.7037037037037024,12.703703703703702,61.0,-25.587628865979383,13.703703703703702,-29.587628865979383,13.703703703703702,12.703703703703702,12.703703703703702,-10.296296296296298,107.19999999999999,15.96875,-10.0,40.72,16.703703703703702,-6.734939759036145,-59.0,6.265060240963855,9.265060240963855,-80.41935483870968,67.125,7.265060240963855,-2.0,5.58064516129032,-7.159999999999997,-31.160919540229884,7.265060240963855,2.265060240963855,4.265060240963855,12.265060240963855,-0.7349397590361448,1.5806451612903203,5.583333333333314,-4.542168674698793,22.457831325301207,19.457831325301207,3.457831325301207,-70.0,-6.542168674698793,-86.10000000000002,12.457831325301207,15.457831325301207,3.700000000000003,14.457831325301207,20.457831325301207,5.457831325301207,62.14285714285714,11.457831325301207,16.457831325301207,-26.080459770114942,20.859154929577464,-5.59375,4.919540229885058,-31.933333333333337,-25.52631578947367,24.066666666666663,13.859154929577464,-35.08045977011494,10.859154929577464,-7.080459770114942,72.06666666666666,9.859154929577464,-5.080459770114942,-7.080459770114942,2.919540229885058,-2.080459770114942,-43.42857142857143,-20.299999999999997,8.542553191489361,-5.457446808510639,-25.45744680851064,-47.27777777777777,17.89285714285714,11.542553191489361,-7.457446808510639,5.542553191489361,-37.45744680851064,-30.375,-4.457446808510639,-6.457446808510639,-7.375,9.542553191489361,23.765625,-32.58426966292135,-23.58426966292135,56.0,-35.58426966292135,-11.0,14.765625,18.765625,-11.234375,17.765625,-41.234375,8.765625,-99.92592592592592,14.765625,59.0,8.765625,-17.391304347826086,4.608695652173914,-14.391304347826086,36.55555555555554,-8.391304347826086,-0.96875,8.03125,10.614457831325304,-489.0,11.03125,-15.444444444444457,11.03125,-20.600000000000023,5.03125,3.03125,-17.385542168674696]}},\"id\":\"ae82ad37-52cd-447c-98ad-fbca91e4922f\",\"type\":\"ColumnDataSource\"},{\"attributes\":{\"callback\":null,\"overlay\":{\"id\":\"34bdeee5-31f7-457c-b437-631a41e1c333\",\"type\":\"PolyAnnotation\"},\"plot\":{\"id\":\"0ab4efa2-9ad2-4616-b5ed-b48a3c0b0f8f\",\"subtype\":\"Figure\",\"type\":\"Plot\"}},\"id\":\"bab687c6-e567-4a7a-8a62-9433d43432ab\",\"type\":\"LassoSelectTool\"},{\"attributes\":{\"plot\":{\"id\":\"0ab4efa2-9ad2-4616-b5ed-b48a3c0b0f8f\",\"subtype\":\"Figure\",\"type\":\"Plot\"}},\"id\":\"88a04502-9a23-4893-a856-52845936c1c5\",\"type\":\"SaveTool\"},{\"attributes\":{\"fill_alpha\":{\"value\":0.1},\"fill_color\":{\"value\":\"#1f77b4\"},\"line_alpha\":{\"value\":0.1},\"line_color\":{\"value\":\"#1f77b4\"},\"line_width\":{\"value\":3},\"x\":{\"field\":\"x\"},\"y\":{\"field\":\"y\"}},\"id\":\"fee442db-26d8-414a-bcab-48f22483992a\",\"type\":\"Circle\"},{\"attributes\":{\"plot\":{\"id\":\"0ab4efa2-9ad2-4616-b5ed-b48a3c0b0f8f\",\"subtype\":\"Figure\",\"type\":\"Plot\"}},\"id\":\"0dd2d9ae-34e0-4736-8814-40cba36a6be6\",\"type\":\"ResizeTool\"},{\"attributes\":{\"data_source\":{\"id\":\"ae82ad37-52cd-447c-98ad-fbca91e4922f\",\"type\":\"ColumnDataSource\"},\"glyph\":{\"id\":\"1b7515c6-f596-4101-b3d7-e37782d5b961\",\"type\":\"Circle\"},\"hover_glyph\":null,\"nonselection_glyph\":{\"id\":\"fee442db-26d8-414a-bcab-48f22483992a\",\"type\":\"Circle\"},\"selection_glyph\":null},\"id\":\"1a4e38e6-8212-4007-b592-600cb49ce5c3\",\"type\":\"GlyphRenderer\"},{\"attributes\":{\"callback\":null,\"overlay\":{\"id\":\"66e76198-0a21-44ce-9dc8-f035808048d3\",\"type\":\"BoxAnnotation\"},\"plot\":{\"id\":\"0ab4efa2-9ad2-4616-b5ed-b48a3c0b0f8f\",\"subtype\":\"Figure\",\"type\":\"Plot\"},\"renderers\":[{\"id\":\"1a4e38e6-8212-4007-b592-600cb49ce5c3\",\"type\":\"GlyphRenderer\"}]},\"id\":\"6e2d11d9-6ff4-4e83-b260-872448045847\",\"type\":\"BoxSelectTool\"},{\"attributes\":{\"plot\":{\"id\":\"0ab4efa2-9ad2-4616-b5ed-b48a3c0b0f8f\",\"subtype\":\"Figure\",\"type\":\"Plot\"}},\"id\":\"004ba189-37d1-4bd0-87af-876ea58ac1d6\",\"type\":\"CrosshairTool\"},{\"attributes\":{\"bottom_units\":\"screen\",\"fill_alpha\":{\"value\":0.5},\"fill_color\":{\"value\":\"lightgrey\"},\"left_units\":\"screen\",\"level\":\"overlay\",\"line_alpha\":{\"value\":1.0},\"line_color\":{\"value\":\"black\"},\"line_dash\":[4,4],\"line_width\":{\"value\":2},\"plot\":null,\"render_mode\":\"css\",\"right_units\":\"screen\",\"top_units\":\"screen\"},\"id\":\"d912b548-fe93-427d-b5b1-60f20d96645e\",\"type\":\"BoxAnnotation\"},{\"attributes\":{\"overlay\":{\"id\":\"4af2f797-2655-4ecb-b386-e928404c0754\",\"type\":\"PolyAnnotation\"},\"plot\":{\"id\":\"0ab4efa2-9ad2-4616-b5ed-b48a3c0b0f8f\",\"subtype\":\"Figure\",\"type\":\"Plot\"}},\"id\":\"2f9f3829-c7b5-42a0-bd27-72638bdd1d92\",\"type\":\"PolySelectTool\"},{\"attributes\":{\"plot\":{\"id\":\"0ab4efa2-9ad2-4616-b5ed-b48a3c0b0f8f\",\"subtype\":\"Figure\",\"type\":\"Plot\"}},\"id\":\"60b16187-77b2-475d-abe7-48151fa67f16\",\"type\":\"PanTool\"},{\"attributes\":{\"plot\":{\"id\":\"0ab4efa2-9ad2-4616-b5ed-b48a3c0b0f8f\",\"subtype\":\"Figure\",\"type\":\"Plot\"}},\"id\":\"9a830ea2-028b-4072-ab84-354e2a3dff10\",\"type\":\"UndoTool\"},{\"attributes\":{\"plot\":{\"id\":\"0ab4efa2-9ad2-4616-b5ed-b48a3c0b0f8f\",\"subtype\":\"Figure\",\"type\":\"Plot\"}},\"id\":\"98749da7-0777-4b48-ab20-60943ebb9b5f\",\"type\":\"ResetTool\"},{\"attributes\":{\"callback\":null,\"plot\":{\"id\":\"0ab4efa2-9ad2-4616-b5ed-b48a3c0b0f8f\",\"subtype\":\"Figure\",\"type\":\"Plot\"}},\"id\":\"e8329e0e-eeb1-4b52-be9e-f4e2c1c16a55\",\"type\":\"TapTool\"}],\"root_ids\":[\"0ab4efa2-9ad2-4616-b5ed-b48a3c0b0f8f\"]},\"title\":\"Bokeh Application\",\"version\":\"0.12.2\"}};\n",
       "            var render_items = [{\"docid\":\"673066d6-ba85-4922-a737-088e8eb7d801\",\"elementid\":\"8f3220c2-0cc5-4389-a36e-ca0be8eb0985\",\"modelid\":\"0ab4efa2-9ad2-4616-b5ed-b48a3c0b0f8f\"}];\n",
       "            \n",
       "            Bokeh.embed.embed_items(docs_json, render_items);\n",
       "        });\n",
       "      },\n",
       "      function(Bokeh) {\n",
       "      }\n",
       "    ];\n",
       "  \n",
       "    function run_inline_js() {\n",
       "      \n",
       "      if ((window.Bokeh !== undefined) || (force === \"1\")) {\n",
       "        for (var i = 0; i < inline_js.length; i++) {\n",
       "          inline_js[i](window.Bokeh);\n",
       "        }if (force === \"1\") {\n",
       "          display_loaded();\n",
       "        }} else if (Date.now() < window._bokeh_timeout) {\n",
       "        setTimeout(run_inline_js, 100);\n",
       "      } else if (!window._bokeh_failed_load) {\n",
       "        console.log(\"Bokeh: BokehJS failed to load within specified timeout.\");\n",
       "        window._bokeh_failed_load = true;\n",
       "      } else if (!force) {\n",
       "        var cell = $(\"#8f3220c2-0cc5-4389-a36e-ca0be8eb0985\").parents('.cell').data().cell;\n",
       "        cell.output_area.append_execute_result(NB_LOAD_WARNING)\n",
       "      }\n",
       "  \n",
       "    }\n",
       "  \n",
       "    if (window._bokeh_is_loading === 0) {\n",
       "      console.log(\"Bokeh: BokehJS loaded, going straight to plotting\");\n",
       "      run_inline_js();\n",
       "    } else {\n",
       "      load_libs(js_urls, function() {\n",
       "        console.log(\"Bokeh: BokehJS plotting callback run at\", now());\n",
       "        run_inline_js();\n",
       "      });\n",
       "    }\n",
       "  }(this));\n",
       "</script>"
      ]
     },
     "metadata": {},
     "output_type": "display_data"
    }
   ],
   "source": [
    "# Plotining using bokeh\n",
    "#TOOLS = 'hover,box_zoom,box_select,crosshair,resize,reset,DecisionTreeRegressor_select,pan,save,poly_select,tap,wheel_zoom,undo'\n",
    "TOOLS = 'box_zoom,box_select,crosshair,resize,reset,lasso_select,pan,save,poly_select,tap,wheel_zoom,undo'\n",
    "p = figure(plot_width=500, plot_height=500, title=\"Residual plot on the training data\", tools=TOOLS)\n",
    "p.scatter(predicted, (predicted - Y),x=\"jjj\", marker=\"o\", color=\"#80B1D3\", line_width=3)\n",
    "p.title.align = \"center\"\n",
    "p.xaxis.axis_label = \"Predicted\"\n",
    "p.xaxis.axis_label_text_color = \"#aa6666\"\n",
    "#p.xaxis.axis_label_standoff = 30\n",
    "p.xaxis.major_tick_line_color = \"firebrick\"\n",
    "p.xaxis.major_tick_line_width = 3\n",
    "p.xaxis.minor_tick_line_color = \"orange\"\n",
    "p.yaxis.axis_label = \"Residuals\"\n",
    "p.yaxis.axis_label_text_font_style = \"italic\"\n",
    "p.yaxis.axis_label_text_color = \"#aa6666\"\n",
    "p.background_fill_color = \"beige\"\n",
    "p.background_fill_alpha = 0.5\n",
    "#p.line([2,38], [0, 0], line_dash=\"4 4\", line_width=2, color='red')\n",
    "show(p)"
   ]
  },
  {
   "cell_type": "markdown",
   "metadata": {},
   "source": [
    "## Pipeline"
   ]
  },
  {
   "cell_type": "markdown",
   "metadata": {},
   "source": [
    "The best to deliver the model by pipeline the operation then at deployment can be done in one model."
   ]
  },
  {
   "cell_type": "markdown",
   "metadata": {
    "collapsed": true
   },
   "source": [
    "  I used two ways to check the pipeline so any one can be fine"
   ]
  },
  {
   "cell_type": "code",
   "execution_count": 27,
   "metadata": {
    "collapsed": false
   },
   "outputs": [
    {
     "name": "stdout",
     "output_type": "stream",
     "text": [
      "0.980761987813\n",
      "Scoring according to mean_squared_error\n",
      "[ -8418.44577859  -2270.09056247   -540.69256474   -609.29774065\n",
      " -20528.47133514   -697.74304971   -564.65123838   -489.54050012\n",
      "  -1386.25696777 -16395.19058221]\n",
      "\n",
      " Mean      Standard deviation\n",
      "-5190.04      7074.67\n",
      "[ True  True  True  True  True  True  True]\n",
      "R-squared =  0.980761987813\n"
     ]
    },
    {
     "name": "stderr",
     "output_type": "stream",
     "text": [
      "/home/salm/anaconda2/lib/python2.7/site-packages/sklearn/utils/validation.py:420: DataConversionWarning: Data with input dtype int64 was converted to float64 by StandardScaler.\n",
      "  warnings.warn(msg, DataConversionWarning)\n",
      "/home/salm/anaconda2/lib/python2.7/site-packages/sklearn/utils/validation.py:420: DataConversionWarning: Data with input dtype int64 was converted to float64 by StandardScaler.\n",
      "  warnings.warn(msg, DataConversionWarning)\n",
      "/home/salm/anaconda2/lib/python2.7/site-packages/sklearn/utils/validation.py:420: DataConversionWarning: Data with input dtype int64 was converted to float64 by StandardScaler.\n",
      "  warnings.warn(msg, DataConversionWarning)\n",
      "/home/salm/anaconda2/lib/python2.7/site-packages/sklearn/utils/validation.py:420: DataConversionWarning: Data with input dtype int64 was converted to float64 by StandardScaler.\n",
      "  warnings.warn(msg, DataConversionWarning)\n",
      "/home/salm/anaconda2/lib/python2.7/site-packages/sklearn/utils/validation.py:420: DataConversionWarning: Data with input dtype int64 was converted to float64 by StandardScaler.\n",
      "  warnings.warn(msg, DataConversionWarning)\n",
      "/home/salm/anaconda2/lib/python2.7/site-packages/sklearn/utils/validation.py:420: DataConversionWarning: Data with input dtype int64 was converted to float64 by StandardScaler.\n",
      "  warnings.warn(msg, DataConversionWarning)\n",
      "/home/salm/anaconda2/lib/python2.7/site-packages/sklearn/utils/validation.py:420: DataConversionWarning: Data with input dtype int64 was converted to float64 by StandardScaler.\n",
      "  warnings.warn(msg, DataConversionWarning)\n",
      "/home/salm/anaconda2/lib/python2.7/site-packages/sklearn/utils/validation.py:420: DataConversionWarning: Data with input dtype int64 was converted to float64 by StandardScaler.\n",
      "  warnings.warn(msg, DataConversionWarning)\n",
      "/home/salm/anaconda2/lib/python2.7/site-packages/sklearn/utils/validation.py:420: DataConversionWarning: Data with input dtype int64 was converted to float64 by StandardScaler.\n",
      "  warnings.warn(msg, DataConversionWarning)\n",
      "/home/salm/anaconda2/lib/python2.7/site-packages/sklearn/utils/validation.py:420: DataConversionWarning: Data with input dtype int64 was converted to float64 by StandardScaler.\n",
      "  warnings.warn(msg, DataConversionWarning)\n",
      "/home/salm/anaconda2/lib/python2.7/site-packages/sklearn/utils/validation.py:420: DataConversionWarning: Data with input dtype int64 was converted to float64 by StandardScaler.\n",
      "  warnings.warn(msg, DataConversionWarning)\n",
      "/home/salm/anaconda2/lib/python2.7/site-packages/sklearn/utils/validation.py:420: DataConversionWarning: Data with input dtype int64 was converted to float64 by StandardScaler.\n",
      "  warnings.warn(msg, DataConversionWarning)\n",
      "/home/salm/anaconda2/lib/python2.7/site-packages/sklearn/utils/validation.py:420: DataConversionWarning: Data with input dtype int64 was converted to float64 by StandardScaler.\n",
      "  warnings.warn(msg, DataConversionWarning)\n",
      "/home/salm/anaconda2/lib/python2.7/site-packages/sklearn/utils/validation.py:420: DataConversionWarning: Data with input dtype int64 was converted to float64 by StandardScaler.\n",
      "  warnings.warn(msg, DataConversionWarning)\n",
      "/home/salm/anaconda2/lib/python2.7/site-packages/sklearn/utils/validation.py:420: DataConversionWarning: Data with input dtype int64 was converted to float64 by StandardScaler.\n",
      "  warnings.warn(msg, DataConversionWarning)\n",
      "/home/salm/anaconda2/lib/python2.7/site-packages/sklearn/utils/validation.py:420: DataConversionWarning: Data with input dtype int64 was converted to float64 by StandardScaler.\n",
      "  warnings.warn(msg, DataConversionWarning)\n",
      "/home/salm/anaconda2/lib/python2.7/site-packages/sklearn/utils/validation.py:420: DataConversionWarning: Data with input dtype int64 was converted to float64 by StandardScaler.\n",
      "  warnings.warn(msg, DataConversionWarning)\n",
      "/home/salm/anaconda2/lib/python2.7/site-packages/sklearn/utils/validation.py:420: DataConversionWarning: Data with input dtype int64 was converted to float64 by StandardScaler.\n",
      "  warnings.warn(msg, DataConversionWarning)\n",
      "/home/salm/anaconda2/lib/python2.7/site-packages/sklearn/utils/validation.py:420: DataConversionWarning: Data with input dtype int64 was converted to float64 by StandardScaler.\n",
      "  warnings.warn(msg, DataConversionWarning)\n",
      "/home/salm/anaconda2/lib/python2.7/site-packages/sklearn/utils/validation.py:420: DataConversionWarning: Data with input dtype int64 was converted to float64 by StandardScaler.\n",
      "  warnings.warn(msg, DataConversionWarning)\n",
      "/home/salm/anaconda2/lib/python2.7/site-packages/sklearn/utils/validation.py:420: DataConversionWarning: Data with input dtype int64 was converted to float64 by StandardScaler.\n",
      "  warnings.warn(msg, DataConversionWarning)\n",
      "/home/salm/anaconda2/lib/python2.7/site-packages/sklearn/utils/validation.py:420: DataConversionWarning: Data with input dtype int64 was converted to float64 by StandardScaler.\n",
      "  warnings.warn(msg, DataConversionWarning)\n",
      "/home/salm/anaconda2/lib/python2.7/site-packages/sklearn/utils/validation.py:420: DataConversionWarning: Data with input dtype int64 was converted to float64 by StandardScaler.\n",
      "  warnings.warn(msg, DataConversionWarning)\n",
      "/home/salm/anaconda2/lib/python2.7/site-packages/sklearn/utils/validation.py:420: DataConversionWarning: Data with input dtype int64 was converted to float64 by StandardScaler.\n",
      "  warnings.warn(msg, DataConversionWarning)\n",
      "/home/salm/anaconda2/lib/python2.7/site-packages/sklearn/utils/validation.py:420: DataConversionWarning: Data with input dtype int64 was converted to float64 by StandardScaler.\n",
      "  warnings.warn(msg, DataConversionWarning)\n",
      "/home/salm/anaconda2/lib/python2.7/site-packages/sklearn/utils/validation.py:420: DataConversionWarning: Data with input dtype int64 was converted to float64 by StandardScaler.\n",
      "  warnings.warn(msg, DataConversionWarning)\n",
      "/home/salm/anaconda2/lib/python2.7/site-packages/sklearn/utils/validation.py:420: DataConversionWarning: Data with input dtype int64 was converted to float64 by StandardScaler.\n",
      "  warnings.warn(msg, DataConversionWarning)\n",
      "/home/salm/anaconda2/lib/python2.7/site-packages/sklearn/utils/validation.py:420: DataConversionWarning: Data with input dtype int64 was converted to float64 by StandardScaler.\n",
      "  warnings.warn(msg, DataConversionWarning)\n",
      "/home/salm/anaconda2/lib/python2.7/site-packages/sklearn/utils/validation.py:420: DataConversionWarning: Data with input dtype int64 was converted to float64 by StandardScaler.\n",
      "  warnings.warn(msg, DataConversionWarning)\n",
      "/home/salm/anaconda2/lib/python2.7/site-packages/sklearn/utils/validation.py:420: DataConversionWarning: Data with input dtype int64 was converted to float64 by StandardScaler.\n",
      "  warnings.warn(msg, DataConversionWarning)\n",
      "/home/salm/anaconda2/lib/python2.7/site-packages/sklearn/utils/validation.py:420: DataConversionWarning: Data with input dtype int64 was converted to float64 by StandardScaler.\n",
      "  warnings.warn(msg, DataConversionWarning)\n",
      "/home/salm/anaconda2/lib/python2.7/site-packages/sklearn/utils/validation.py:420: DataConversionWarning: Data with input dtype int64 was converted to float64 by StandardScaler.\n",
      "  warnings.warn(msg, DataConversionWarning)\n",
      "/home/salm/anaconda2/lib/python2.7/site-packages/sklearn/utils/validation.py:420: DataConversionWarning: Data with input dtype int64 was converted to float64 by StandardScaler.\n",
      "  warnings.warn(msg, DataConversionWarning)\n",
      "/home/salm/anaconda2/lib/python2.7/site-packages/sklearn/utils/validation.py:420: DataConversionWarning: Data with input dtype int64 was converted to float64 by StandardScaler.\n",
      "  warnings.warn(msg, DataConversionWarning)\n"
     ]
    }
   ],
   "source": [
    "# Use Pipeline\n",
    "# ANOVA \n",
    "from sklearn.pipeline import Pipeline\n",
    "from sklearn.feature_selection import SelectKBest, f_regression\n",
    "anova_filter = SelectKBest(f_regression, k=7)\n",
    "LR = AdaBoostRegressor(n_estimators = 5, loss = \"exponential\")\n",
    "\n",
    "anova_LinReg = Pipeline([('scaler_Input',scaler), ('anova', anova_filter), ('LinReg', LR)])\n",
    "# You can set the parameters using the names issued\n",
    "# For instance, fit using a k of 10 in the SelectKBest\n",
    "anova_LinReg.set_params(anova__k=7).fit(new_data, Y)\n",
    "prediction = anova_LinReg.predict(new_data)\n",
    "print anova_LinReg.score(new_data, Y)                        \n",
    "# getting the selected features chosen by anova_filter\n",
    "results = cross_validation.cross_val_score(anova_LinReg, new_data, Y, cv=kfold, scoring=scoring)\n",
    "print 'Scoring according to mean_squared_error'\n",
    "print results\n",
    "print '\\n Mean      Standard deviation'\n",
    "print(\"%.2f      %.2f\" % (results.mean(), results.std()))\n",
    "print anova_LinReg.named_steps['anova'].get_support()\n",
    "r_squared = r2_score(Y, prediction, multioutput='variance_weighted')\n",
    "print 'R-squared = ',r_squared"
   ]
  },
  {
   "cell_type": "code",
   "execution_count": 28,
   "metadata": {
    "collapsed": false
   },
   "outputs": [
    {
     "name": "stdout",
     "output_type": "stream",
     "text": [
      "R-squared =  0.949443945206\n"
     ]
    },
    {
     "name": "stderr",
     "output_type": "stream",
     "text": [
      "/home/salm/anaconda2/lib/python2.7/site-packages/sklearn/utils/validation.py:420: DataConversionWarning: Data with input dtype int64 was converted to float64 by StandardScaler.\n",
      "  warnings.warn(msg, DataConversionWarning)\n",
      "/home/salm/anaconda2/lib/python2.7/site-packages/sklearn/utils/validation.py:420: DataConversionWarning: Data with input dtype int64 was converted to float64 by StandardScaler.\n",
      "  warnings.warn(msg, DataConversionWarning)\n",
      "/home/salm/anaconda2/lib/python2.7/site-packages/sklearn/utils/validation.py:420: DataConversionWarning: Data with input dtype int64 was converted to float64 by StandardScaler.\n",
      "  warnings.warn(msg, DataConversionWarning)\n"
     ]
    }
   ],
   "source": [
    "# Using make_pipeline\n",
    "from sklearn.pipeline import make_pipeline\n",
    "\n",
    "# ANOVA SVM-C\n",
    "# 1) anova filter, take 3 best ranked features\n",
    "anova_filter = SelectKBest(f_regression, k=7)\n",
    "anova_AdaBoostDecisionTreeRegressor = make_pipeline(scaler, anova_filter, LR)\n",
    "anova_AdaBoostDecisionTreeRegressor.fit(new_data, Y)\n",
    "prediction = anova_AdaBoostDecisionTreeRegressor.predict(new_data)\n",
    "r_squared = r2_score(Y, prediction, multioutput='variance_weighted')\n",
    "print 'R-squared = ',r_squared"
   ]
  },
  {
   "cell_type": "markdown",
   "metadata": {},
   "source": [
    "### Save the Pipeline model for developement"
   ]
  },
  {
   "cell_type": "code",
   "execution_count": 29,
   "metadata": {
    "collapsed": false
   },
   "outputs": [
    {
     "data": {
      "text/plain": [
       "['anova_AdaBoostDecisionTreeRegressor.pkl',\n",
       " 'anova_AdaBoostDecisionTreeRegressor.pkl_01.npy',\n",
       " 'anova_AdaBoostDecisionTreeRegressor.pkl_02.npy',\n",
       " 'anova_AdaBoostDecisionTreeRegressor.pkl_03.npy',\n",
       " 'anova_AdaBoostDecisionTreeRegressor.pkl_04.npy',\n",
       " 'anova_AdaBoostDecisionTreeRegressor.pkl_05.npy',\n",
       " 'anova_AdaBoostDecisionTreeRegressor.pkl_06.npy',\n",
       " 'anova_AdaBoostDecisionTreeRegressor.pkl_07.npy',\n",
       " 'anova_AdaBoostDecisionTreeRegressor.pkl_08.npy',\n",
       " 'anova_AdaBoostDecisionTreeRegressor.pkl_09.npy',\n",
       " 'anova_AdaBoostDecisionTreeRegressor.pkl_10.npy',\n",
       " 'anova_AdaBoostDecisionTreeRegressor.pkl_11.npy',\n",
       " 'anova_AdaBoostDecisionTreeRegressor.pkl_12.npy',\n",
       " 'anova_AdaBoostDecisionTreeRegressor.pkl_13.npy',\n",
       " 'anova_AdaBoostDecisionTreeRegressor.pkl_14.npy',\n",
       " 'anova_AdaBoostDecisionTreeRegressor.pkl_15.npy',\n",
       " 'anova_AdaBoostDecisionTreeRegressor.pkl_16.npy',\n",
       " 'anova_AdaBoostDecisionTreeRegressor.pkl_17.npy',\n",
       " 'anova_AdaBoostDecisionTreeRegressor.pkl_18.npy',\n",
       " 'anova_AdaBoostDecisionTreeRegressor.pkl_19.npy',\n",
       " 'anova_AdaBoostDecisionTreeRegressor.pkl_20.npy',\n",
       " 'anova_AdaBoostDecisionTreeRegressor.pkl_21.npy',\n",
       " 'anova_AdaBoostDecisionTreeRegressor.pkl_22.npy']"
      ]
     },
     "execution_count": 29,
     "metadata": {},
     "output_type": "execute_result"
    }
   ],
   "source": [
    "# save the model scaler to the desk\n",
    "from sklearn.externals import joblib\n",
    "joblib.dump(anova_AdaBoostDecisionTreeRegressor, 'anova_AdaBoostDecisionTreeRegressor.pkl') "
   ]
  },
  {
   "cell_type": "code",
   "execution_count": 30,
   "metadata": {
    "collapsed": false
   },
   "outputs": [
    {
     "name": "stdout",
     "output_type": "stream",
     "text": [
      " =================================================================>>>>> done\n",
      "R-squared =  0.949443945206\n"
     ]
    },
    {
     "name": "stderr",
     "output_type": "stream",
     "text": [
      "/home/salm/anaconda2/lib/python2.7/site-packages/sklearn/utils/validation.py:420: DataConversionWarning: Data with input dtype int64 was converted to float64 by StandardScaler.\n",
      "  warnings.warn(msg, DataConversionWarning)\n"
     ]
    }
   ],
   "source": [
    "# Test the model if it is work\n",
    "anova_DecisionTreeRegressorTest = joblib.load('anova_AdaBoostDecisionTreeRegressor.pkl')\n",
    "NewPred = anova_DecisionTreeRegressorTest.predict(new_data)\n",
    "print \" =================================================================>>>>> done\"\n",
    "r_squared = r2_score(Y, NewPred, multioutput='variance_weighted')\n",
    "print 'R-squared = ',r_squared"
   ]
  },
  {
   "cell_type": "code",
   "execution_count": 31,
   "metadata": {
    "collapsed": false
   },
   "outputs": [
    {
     "name": "stdout",
     "output_type": "stream",
     "text": [
      "Point of training data before normalization\n",
      "[   50  2000 32000    24     6    26   114]\n",
      "\n",
      "The read target of the data =  182\n",
      "\n",
      "The Predicted target of the data =  [ 244.04347826]\n"
     ]
    }
   ],
   "source": [
    "# test on single data point, randomly choose point number 55\n",
    "print 'Point of training data before normalization\\n',new_data[55]\n",
    "print '\\nThe read target of the data = ', Y[55]\n",
    "NewPred = anova_DecisionTreeRegressorTest.predict([new_data[55]])\n",
    "print '\\nThe Predicted target of the data = ', NewPred"
   ]
  },
  {
   "cell_type": "markdown",
   "metadata": {},
   "source": [
    "## Conclusion "
   ]
  }
 ],
 "metadata": {
  "kernelspec": {
   "display_name": "Python 2",
   "language": "python",
   "name": "python2"
  },
  "language_info": {
   "codemirror_mode": {
    "name": "ipython",
    "version": 2
   },
   "file_extension": ".py",
   "mimetype": "text/x-python",
   "name": "python",
   "nbconvert_exporter": "python",
   "pygments_lexer": "ipython2",
   "version": "2.7.12"
  }
 },
 "nbformat": 4,
 "nbformat_minor": 0
}
